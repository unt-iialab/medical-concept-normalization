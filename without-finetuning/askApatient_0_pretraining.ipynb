{
  "nbformat": 4,
  "nbformat_minor": 0,
  "metadata": {
    "colab": {
      "name": "askApatient_0_pretraining.ipynb",
      "provenance": [],
      "collapsed_sections": [],
      "toc_visible": true,
      "include_colab_link": true
    },
    "kernelspec": {
      "name": "python3",
      "display_name": "Python 3"
    },
    "accelerator": "TPU"
  },
  "cells": [
    {
      "cell_type": "markdown",
      "metadata": {
        "id": "view-in-github",
        "colab_type": "text"
      },
      "source": [
        "<a href=\"https://colab.research.google.com/github/unt-iialab/medical-concept-normalization/blob/master/without-finetuning/askApatient_0_pretraining.ipynb\" target=\"_parent\"><img src=\"https://colab.research.google.com/assets/colab-badge.svg\" alt=\"Open In Colab\"/></a>"
      ]
    },
    {
      "cell_type": "code",
      "metadata": {
        "id": "adSi6i2-dWxy",
        "colab_type": "code",
        "colab": {}
      },
      "source": [
        "import os"
      ],
      "execution_count": 0,
      "outputs": []
    },
    {
      "cell_type": "code",
      "metadata": {
        "id": "E7xYCRGPjd9B",
        "colab_type": "code",
        "colab": {}
      },
      "source": [
        "base_dir = 'medical-concept-normalization'"
      ],
      "execution_count": 0,
      "outputs": []
    },
    {
      "cell_type": "code",
      "metadata": {
        "id": "yvIW3aUDjYNS",
        "colab_type": "code",
        "colab": {
          "base_uri": "https://localhost:8080/",
          "height": 166
        },
        "outputId": "bf0bb029-de55-476a-ccf7-d5486913d617"
      },
      "source": [
        "os.mkdir(base_dir)"
      ],
      "execution_count": 3,
      "outputs": [
        {
          "output_type": "error",
          "ename": "FileExistsError",
          "evalue": "ignored",
          "traceback": [
            "\u001b[0;31m---------------------------------------------------------------------------\u001b[0m",
            "\u001b[0;31mFileExistsError\u001b[0m                           Traceback (most recent call last)",
            "\u001b[0;32m<ipython-input-3-4a4456e35a59>\u001b[0m in \u001b[0;36m<module>\u001b[0;34m()\u001b[0m\n\u001b[0;32m----> 1\u001b[0;31m \u001b[0mos\u001b[0m\u001b[0;34m.\u001b[0m\u001b[0mmkdir\u001b[0m\u001b[0;34m(\u001b[0m\u001b[0mbase_dir\u001b[0m\u001b[0;34m)\u001b[0m\u001b[0;34m\u001b[0m\u001b[0;34m\u001b[0m\u001b[0m\n\u001b[0m",
            "\u001b[0;31mFileExistsError\u001b[0m: [Errno 17] File exists: 'medical-concept-normalization'"
          ]
        }
      ]
    },
    {
      "cell_type": "code",
      "metadata": {
        "id": "es-FFLlfk6SG",
        "colab_type": "code",
        "colab": {
          "base_uri": "https://localhost:8080/",
          "height": 166
        },
        "outputId": "42e222e4-ec9f-4522-cff8-4aba04be1e22"
      },
      "source": [
        "os.mkdir('medical-concept-normalization/data_collection')"
      ],
      "execution_count": 4,
      "outputs": [
        {
          "output_type": "error",
          "ename": "FileExistsError",
          "evalue": "ignored",
          "traceback": [
            "\u001b[0;31m---------------------------------------------------------------------------\u001b[0m",
            "\u001b[0;31mFileExistsError\u001b[0m                           Traceback (most recent call last)",
            "\u001b[0;32m<ipython-input-4-42d4de6e2731>\u001b[0m in \u001b[0;36m<module>\u001b[0;34m()\u001b[0m\n\u001b[0;32m----> 1\u001b[0;31m \u001b[0mos\u001b[0m\u001b[0;34m.\u001b[0m\u001b[0mmkdir\u001b[0m\u001b[0;34m(\u001b[0m\u001b[0;34m'medical-concept-normalization/data_collection'\u001b[0m\u001b[0;34m)\u001b[0m\u001b[0;34m\u001b[0m\u001b[0;34m\u001b[0m\u001b[0m\n\u001b[0m",
            "\u001b[0;31mFileExistsError\u001b[0m: [Errno 17] File exists: 'medical-concept-normalization/data_collection'"
          ]
        }
      ]
    },
    {
      "cell_type": "markdown",
      "metadata": {
        "id": "0R-Guw_VoJXm",
        "colab_type": "text"
      },
      "source": [
        "**Install fastai and clone the fastai for text classification**\n",
        "\n"
      ]
    },
    {
      "cell_type": "code",
      "metadata": {
        "id": "QVZa3Z0PmHFH",
        "colab_type": "code",
        "outputId": "2c2a09d7-8c5f-4f10-fb0b-f52dc19f830c",
        "colab": {
          "base_uri": "https://localhost:8080/",
          "height": 173
        }
      },
      "source": [
        "!curl https://course-v3.fast.ai/setup/colab | bash"
      ],
      "execution_count": 5,
      "outputs": [
        {
          "output_type": "stream",
          "text": [
            "  % Total    % Received % Xferd  Average Speed   Time    Time     Time  Current\n",
            "                                 Dload  Upload   Total   Spent    Left  Speed\n",
            "\r  0     0    0     0    0     0      0      0 --:--:-- --:--:-- --:--:--     0\r  0     0    0     0    0     0      0      0 --:--:-- --:--:-- --:--:--     0\n",
            "curl: (60) SSL certificate problem: certificate has expired\n",
            "More details here: https://curl.haxx.se/docs/sslcerts.html\n",
            "\n",
            "curl failed to verify the legitimacy of the server and therefore could not\n",
            "establish a secure connection to it. To learn more about this situation and\n",
            "how to fix it, please visit the web page mentioned above.\n"
          ],
          "name": "stdout"
        }
      ]
    },
    {
      "cell_type": "code",
      "metadata": {
        "id": "_FBFFEBrmJC0",
        "colab_type": "code",
        "outputId": "04c50842-2250-47b4-d2ca-e7df5732cfd5",
        "colab": {
          "base_uri": "https://localhost:8080/",
          "height": 35
        }
      },
      "source": [
        "!git clone https://github.com/wshuyi/demo-nlp-classification-fastai.git"
      ],
      "execution_count": 6,
      "outputs": [
        {
          "output_type": "stream",
          "text": [
            "fatal: destination path 'demo-nlp-classification-fastai' already exists and is not an empty directory.\n"
          ],
          "name": "stdout"
        }
      ]
    },
    {
      "cell_type": "code",
      "metadata": {
        "id": "66zfh_JqmWMU",
        "colab_type": "code",
        "colab": {}
      },
      "source": [
        "from fastai import *\n",
        "from fastai.text import *"
      ],
      "execution_count": 0,
      "outputs": []
    },
    {
      "cell_type": "markdown",
      "metadata": {
        "id": "mNIw-yALdBU9",
        "colab_type": "text"
      },
      "source": [
        "**Set the path of the data collections**"
      ]
    },
    {
      "cell_type": "code",
      "metadata": {
        "id": "pzH7VMh4mqCL",
        "colab_type": "code",
        "colab": {}
      },
      "source": [
        "path = Path('medical-concept-normalization/data_collection')"
      ],
      "execution_count": 0,
      "outputs": []
    },
    {
      "cell_type": "code",
      "metadata": {
        "id": "b8fjI6yyn4aS",
        "colab_type": "code",
        "colab": {}
      },
      "source": [
        "# training data set\n",
        "\n",
        "train_csv = path/'AskAPatient.fold-0.train.csv'\n",
        "train = pd.read_csv(train_csv, header=None)\n",
        "#train.head()\n",
        "#train.info()"
      ],
      "execution_count": 0,
      "outputs": []
    },
    {
      "cell_type": "code",
      "metadata": {
        "id": "Hmlr-bAorfHd",
        "colab_type": "code",
        "outputId": "f1b57c22-dc6b-4faf-d98d-095b69e0c790",
        "colab": {
          "base_uri": "https://localhost:8080/",
          "height": 202
        }
      },
      "source": [
        "# validating data set\n",
        "\n",
        "valid = pd.read_csv(path/\"AskAPatient.fold-0.validation.csv\",header=None)\n",
        "valid.head()"
      ],
      "execution_count": 47,
      "outputs": [
        {
          "output_type": "execute_result",
          "data": {
            "text/html": [
              "<div>\n",
              "<style scoped>\n",
              "    .dataframe tbody tr th:only-of-type {\n",
              "        vertical-align: middle;\n",
              "    }\n",
              "\n",
              "    .dataframe tbody tr th {\n",
              "        vertical-align: top;\n",
              "    }\n",
              "\n",
              "    .dataframe thead th {\n",
              "        text-align: right;\n",
              "    }\n",
              "</style>\n",
              "<table border=\"1\" class=\"dataframe\">\n",
              "  <thead>\n",
              "    <tr style=\"text-align: right;\">\n",
              "      <th></th>\n",
              "      <th>0</th>\n",
              "      <th>1</th>\n",
              "    </tr>\n",
              "  </thead>\n",
              "  <tbody>\n",
              "    <tr>\n",
              "      <th>0</th>\n",
              "      <td>0</td>\n",
              "      <td>fear</td>\n",
              "    </tr>\n",
              "    <tr>\n",
              "      <th>1</th>\n",
              "      <td>2</td>\n",
              "      <td>heel pain</td>\n",
              "    </tr>\n",
              "    <tr>\n",
              "      <th>2</th>\n",
              "      <td>4</td>\n",
              "      <td>purple sploches around waist</td>\n",
              "    </tr>\n",
              "    <tr>\n",
              "      <th>3</th>\n",
              "      <td>7</td>\n",
              "      <td>goiter</td>\n",
              "    </tr>\n",
              "    <tr>\n",
              "      <th>4</th>\n",
              "      <td>8</td>\n",
              "      <td>ARTHRITIS</td>\n",
              "    </tr>\n",
              "  </tbody>\n",
              "</table>\n",
              "</div>"
            ],
            "text/plain": [
              "   0                             1\n",
              "0  0                          fear\n",
              "1  2                     heel pain\n",
              "2  4  purple sploches around waist\n",
              "3  7                        goiter\n",
              "4  8                     ARTHRITIS"
            ]
          },
          "metadata": {
            "tags": []
          },
          "execution_count": 47
        }
      ]
    },
    {
      "cell_type": "code",
      "metadata": {
        "id": "cOza9dfSsBud",
        "colab_type": "code",
        "outputId": "74f299e7-a73d-466e-fba3-51db1f6a46d3",
        "colab": {
          "base_uri": "https://localhost:8080/",
          "height": 202
        }
      },
      "source": [
        "# testing data set\n",
        "\n",
        "test = pd.read_csv(path/\"AskAPatient.fold-0.test.csv\",header=None)\n",
        "test.head()"
      ],
      "execution_count": 48,
      "outputs": [
        {
          "output_type": "execute_result",
          "data": {
            "text/html": [
              "<div>\n",
              "<style scoped>\n",
              "    .dataframe tbody tr th:only-of-type {\n",
              "        vertical-align: middle;\n",
              "    }\n",
              "\n",
              "    .dataframe tbody tr th {\n",
              "        vertical-align: top;\n",
              "    }\n",
              "\n",
              "    .dataframe thead th {\n",
              "        text-align: right;\n",
              "    }\n",
              "</style>\n",
              "<table border=\"1\" class=\"dataframe\">\n",
              "  <thead>\n",
              "    <tr style=\"text-align: right;\">\n",
              "      <th></th>\n",
              "      <th>0</th>\n",
              "      <th>1</th>\n",
              "    </tr>\n",
              "  </thead>\n",
              "  <tbody>\n",
              "    <tr>\n",
              "      <th>0</th>\n",
              "      <td>0</td>\n",
              "      <td>'scared' feeling</td>\n",
              "    </tr>\n",
              "    <tr>\n",
              "      <th>1</th>\n",
              "      <td>2</td>\n",
              "      <td>heel pain</td>\n",
              "    </tr>\n",
              "    <tr>\n",
              "      <th>2</th>\n",
              "      <td>3</td>\n",
              "      <td>cracking sensations in my joints</td>\n",
              "    </tr>\n",
              "    <tr>\n",
              "      <th>3</th>\n",
              "      <td>5</td>\n",
              "      <td>fast and slow heartbeat</td>\n",
              "    </tr>\n",
              "    <tr>\n",
              "      <th>4</th>\n",
              "      <td>5</td>\n",
              "      <td>increased heart rate</td>\n",
              "    </tr>\n",
              "  </tbody>\n",
              "</table>\n",
              "</div>"
            ],
            "text/plain": [
              "   0                                 1\n",
              "0  0                  'scared' feeling\n",
              "1  2                         heel pain\n",
              "2  3  cracking sensations in my joints\n",
              "3  5           fast and slow heartbeat\n",
              "4  5              increased heart rate"
            ]
          },
          "metadata": {
            "tags": []
          },
          "execution_count": 48
        }
      ]
    },
    {
      "cell_type": "code",
      "metadata": {
        "id": "Vo-YNvVYoaH6",
        "colab_type": "code",
        "colab": {}
      },
      "source": [
        "# Creating DataBunch for language modelling\n",
        "\n",
        "data_lm = TextLMDataBunch.from_csv(path, 'fine-tuning_language_model_asapatient_twadr_data.csv')"
      ],
      "execution_count": 0,
      "outputs": []
    },
    {
      "cell_type": "code",
      "metadata": {
        "id": "qcV-9kMnNLBf",
        "colab_type": "code",
        "colab": {}
      },
      "source": [
        ""
      ],
      "execution_count": 0,
      "outputs": []
    },
    {
      "cell_type": "code",
      "metadata": {
        "id": "1ScY9afDsnvE",
        "colab_type": "code",
        "colab": {}
      },
      "source": [
        "# Creating DataBunch for classification\n",
        "\n",
        "# data_clas = TextClasDataBunch.from_df(path, train, valid, test, vocab=data_lm.train_ds.vocab, bs=128)"
      ],
      "execution_count": 0,
      "outputs": []
    },
    {
      "cell_type": "code",
      "metadata": {
        "id": "gzrSdQcvey9p",
        "colab_type": "code",
        "colab": {}
      },
      "source": [
        "data_clas = TextClasDataBunch.from_df(path, train, valid, vocab=data_lm.train_ds.vocab, bs=128)"
      ],
      "execution_count": 0,
      "outputs": []
    },
    {
      "cell_type": "code",
      "metadata": {
        "id": "MD27Tf0Ke3ou",
        "colab_type": "code",
        "colab": {}
      },
      "source": [
        "data_clas.add_test(test,label=0)\n"
      ],
      "execution_count": 0,
      "outputs": []
    },
    {
      "cell_type": "code",
      "metadata": {
        "id": "-dpjnk_rstwk",
        "colab_type": "code",
        "colab": {}
      },
      "source": [
        "data_lm.save()\n",
        "data_clas.save()"
      ],
      "execution_count": 0,
      "outputs": []
    },
    {
      "cell_type": "code",
      "metadata": {
        "id": "4OkiJa36sw5s",
        "colab_type": "code",
        "colab": {
          "base_uri": "https://localhost:8080/",
          "height": 1000
        },
        "outputId": "81a65c14-e9a2-4c63-8253-97742efcb796"
      },
      "source": [
        "data_lm.train_ds.vocab.itos"
      ],
      "execution_count": 54,
      "outputs": [
        {
          "output_type": "execute_result",
          "data": {
            "text/plain": [
              "['xxunk',\n",
              " 'xxpad',\n",
              " 'xxbos',\n",
              " 'xxeos',\n",
              " 'xxfld',\n",
              " 'xxmaj',\n",
              " 'xxup',\n",
              " 'xxrep',\n",
              " 'xxwrep',\n",
              " 'pain',\n",
              " 'lipitor',\n",
              " 'in',\n",
              " 'of',\n",
              " 'muscle',\n",
              " 'severe',\n",
              " 'my',\n",
              " 'to',\n",
              " 'myalgia',\n",
              " 'fatigue',\n",
              " 'loss',\n",
              " 'and',\n",
              " '-',\n",
              " 'lower',\n",
              " 'cramp',\n",
              " 'weakness',\n",
              " 'limb',\n",
              " 'depression',\n",
              " 'the',\n",
              " 'stomach',\n",
              " 'back',\n",
              " 'cramps',\n",
              " 'increased',\n",
              " 'joint',\n",
              " 'memory',\n",
              " 'upper',\n",
              " 'gas',\n",
              " 'leg',\n",
              " 'mood',\n",
              " 'headache',\n",
              " 'legs',\n",
              " 'insomnia',\n",
              " 'pains',\n",
              " 'shoulder',\n",
              " 'disorder',\n",
              " 'anxiety',\n",
              " 'feeling',\n",
              " 'unable',\n",
              " ',',\n",
              " 'arthralgia',\n",
              " 'knee',\n",
              " 'foot',\n",
              " 'neck',\n",
              " 'weight',\n",
              " 'nausea',\n",
              " 'excessive',\n",
              " 'like',\n",
              " 'gastrointestinal',\n",
              " 'dizziness',\n",
              " 'numbness',\n",
              " 'aches',\n",
              " 'arthritis',\n",
              " 'heart',\n",
              " 'abnormal',\n",
              " 'disease',\n",
              " 'hip',\n",
              " 'sleep',\n",
              " 'abdominal',\n",
              " 'swelling',\n",
              " 'bleeding',\n",
              " 'me',\n",
              " 'tired',\n",
              " '/',\n",
              " 'skin',\n",
              " 'arthrotec',\n",
              " 'asthenia',\n",
              " 'difficulty',\n",
              " ')',\n",
              " 'walk',\n",
              " 'a',\n",
              " '(',\n",
              " 'chest',\n",
              " 'walking',\n",
              " 'problems',\n",
              " 'blood',\n",
              " 'ache',\n",
              " 'vision',\n",
              " 'stiffness',\n",
              " 'feet',\n",
              " 'withdrawal',\n",
              " 'muscles',\n",
              " 'i',\n",
              " 'liver',\n",
              " 'syndrome',\n",
              " 'decreased',\n",
              " 'hair',\n",
              " 'all',\n",
              " 'hand',\n",
              " 'energy',\n",
              " 'backache',\n",
              " 'symptoms',\n",
              " 'burning',\n",
              " 'extreme',\n",
              " 'zocor',\n",
              " 'not',\n",
              " 'diarrhoea',\n",
              " 'body',\n",
              " 'pins',\n",
              " 'needles',\n",
              " 'gain',\n",
              " 'up',\n",
              " 'amnesia',\n",
              " 'cramping',\n",
              " 'rash',\n",
              " 'impairment',\n",
              " 'tingling',\n",
              " 'lack',\n",
              " 'disturbance',\n",
              " 'on',\n",
              " 'cholesterol',\n",
              " 'calf',\n",
              " 'low',\n",
              " 'symptom',\n",
              " 'very',\n",
              " 'disability',\n",
              " 'left',\n",
              " 'sleeplessness',\n",
              " 'high',\n",
              " 'irritable',\n",
              " 'could',\n",
              " 'bloating',\n",
              " 'appetite',\n",
              " 'disorders',\n",
              " 'feel',\n",
              " 'stiff',\n",
              " 'constipation',\n",
              " 'headaches',\n",
              " \"n't\",\n",
              " 'neuropathy',\n",
              " 'short',\n",
              " 'sore',\n",
              " 'pressure',\n",
              " 'behavior',\n",
              " 'acute',\n",
              " 'attack',\n",
              " 'sensation',\n",
              " 'term',\n",
              " 'finding',\n",
              " 'arm',\n",
              " 'blurred',\n",
              " 'poor',\n",
              " 'hands',\n",
              " 'diseases',\n",
              " 'drug',\n",
              " 'hurt',\n",
              " 'vaginal',\n",
              " 'arms',\n",
              " 'mental',\n",
              " 'voltaren',\n",
              " 'balance',\n",
              " 'dry',\n",
              " 'infarction',\n",
              " 'swings',\n",
              " 'myocardial',\n",
              " 'ankle',\n",
              " 'acid',\n",
              " 'joints',\n",
              " 'with',\n",
              " 'atrophy',\n",
              " 'somnolence',\n",
              " 'tiredness',\n",
              " 'generalised',\n",
              " 'swollen',\n",
              " 'vertigo',\n",
              " 'painful',\n",
              " 'myositis',\n",
              " \"'s\",\n",
              " 'tremor',\n",
              " 'depressed',\n",
              " 'itching',\n",
              " 'spasm',\n",
              " 'got',\n",
              " 'pravachol',\n",
              " 'is',\n",
              " 'mentally',\n",
              " 'panic',\n",
              " 'diarrhea',\n",
              " 'diabetes',\n",
              " 'discomfort',\n",
              " 'vomiting',\n",
              " 'visual',\n",
              " 'eye',\n",
              " 'upset',\n",
              " 'sweating',\n",
              " 'exhaustion',\n",
              " 'elevated',\n",
              " 'was',\n",
              " 'raised',\n",
              " 'ubidecarenone',\n",
              " 'injury',\n",
              " 'time',\n",
              " 'sleeping',\n",
              " 'hyperactive',\n",
              " 'dreams',\n",
              " 'infection',\n",
              " 'right',\n",
              " 'shoulders',\n",
              " 'kidney',\n",
              " 'serum',\n",
              " 'out',\n",
              " 'can',\n",
              " 'libido',\n",
              " 'at',\n",
              " 'reduced',\n",
              " 'elbow',\n",
              " 'brain',\n",
              " 'dull',\n",
              " 'illness',\n",
              " 'influenza',\n",
              " 'drowsiness',\n",
              " 'spasms',\n",
              " 'constant',\n",
              " 'get',\n",
              " 'weak',\n",
              " 'damage',\n",
              " 'had',\n",
              " 'so',\n",
              " 'hazy',\n",
              " 'bad',\n",
              " 'concentration',\n",
              " 'crestor',\n",
              " 'failure',\n",
              " 'knees',\n",
              " 'feelings',\n",
              " 'throat',\n",
              " 'lightheadedness',\n",
              " 'toe',\n",
              " 'flatulence',\n",
              " 'movement',\n",
              " 'myopathy',\n",
              " 'chronic',\n",
              " 'urine',\n",
              " 'tendonitis',\n",
              " 'reflux',\n",
              " 'heavy',\n",
              " 'both',\n",
              " 'ceiling',\n",
              " 'excitability',\n",
              " 'awake',\n",
              " 'cold',\n",
              " 'concentrate',\n",
              " 'migraine',\n",
              " 'state',\n",
              " 'or',\n",
              " 'taste',\n",
              " 'confusion',\n",
              " 'allergic',\n",
              " 'night',\n",
              " 'attention',\n",
              " 'sclerosis',\n",
              " 'mellitus',\n",
              " 'thigh',\n",
              " 'problem',\n",
              " 'bed',\n",
              " 'fibromyalgia',\n",
              " 'peripheral',\n",
              " 'attacks',\n",
              " 'impaired',\n",
              " 'from',\n",
              " 'respiratory',\n",
              " 'malaise',\n",
              " 'ulcer',\n",
              " 'face',\n",
              " 'level',\n",
              " 'head',\n",
              " '#',\n",
              " 'no',\n",
              " 'for',\n",
              " 'bipolar',\n",
              " 'renal',\n",
              " 'flu',\n",
              " 'cough',\n",
              " 'speech',\n",
              " 'hips',\n",
              " 'drowsy',\n",
              " 'wakefulness',\n",
              " 'off',\n",
              " 'tinnitus',\n",
              " 'down',\n",
              " 'reaction',\n",
              " 'wind',\n",
              " 'simvastatin',\n",
              " 'eyes',\n",
              " 'palpitations',\n",
              " 'intense',\n",
              " 'facial',\n",
              " 'ezetimibe',\n",
              " 'paraesthesia',\n",
              " 'menstrual',\n",
              " 'breast',\n",
              " 'bone',\n",
              " 'over',\n",
              " 'ca',\n",
              " 'breathing',\n",
              " 'soreness',\n",
              " 'twitch',\n",
              " 'stress',\n",
              " 'mild',\n",
              " 'lupus',\n",
              " 'celebrex',\n",
              " 'nerve',\n",
              " 'esters',\n",
              " 'function',\n",
              " 'parkinson',\n",
              " 'aching',\n",
              " 'hot',\n",
              " 'uterine',\n",
              " 'motivation',\n",
              " 'toes',\n",
              " 'type',\n",
              " 'finger',\n",
              " 'terrible',\n",
              " 'nasal',\n",
              " 'by',\n",
              " 'stairs',\n",
              " 'calves',\n",
              " 'edema',\n",
              " 'tendon',\n",
              " 'ascorbic',\n",
              " 'general',\n",
              " 'dizzy',\n",
              " 'limbs',\n",
              " 'ankles',\n",
              " 'ibuprofen',\n",
              " 'sleepy',\n",
              " 'heel',\n",
              " 'tightness',\n",
              " 'fever',\n",
              " 'restless',\n",
              " 'infections',\n",
              " 'indigestion',\n",
              " 'malignant',\n",
              " 'c',\n",
              " 'charleyhorse',\n",
              " 'oedema',\n",
              " 'fingers',\n",
              " 'mouth',\n",
              " 'pruritus',\n",
              " 'nightmares',\n",
              " 'hunger',\n",
              " 'swallowing',\n",
              " 'sinus',\n",
              " 'site',\n",
              " 'dyspnoea',\n",
              " 'excruciating',\n",
              " 'heartburn',\n",
              " 'system',\n",
              " 'gout',\n",
              " 'are',\n",
              " 'suicidal',\n",
              " 'initial',\n",
              " 'menopause',\n",
              " 'hypertension',\n",
              " 'dysfunction',\n",
              " 'have',\n",
              " 'multiple',\n",
              " 'bowel',\n",
              " 'urinary',\n",
              " 'wrist',\n",
              " 'cardiac',\n",
              " 'cancer',\n",
              " 'asthma',\n",
              " 'rage',\n",
              " 'tract',\n",
              " 'dark',\n",
              " 'day',\n",
              " 'oil',\n",
              " 'felt',\n",
              " 'lateral',\n",
              " 'trouble',\n",
              " 'anger',\n",
              " 'nervous',\n",
              " 'mg',\n",
              " 'rheumatoid',\n",
              " 'has',\n",
              " 'hemorrhage',\n",
              " \"'m\",\n",
              " 'fish',\n",
              " 'think',\n",
              " 'change',\n",
              " 'numb',\n",
              " 'sick',\n",
              " 'ear',\n",
              " 'psychotic',\n",
              " 'deficit',\n",
              " 'thoughts',\n",
              " 'lost',\n",
              " 'provoked',\n",
              " 'enzymes',\n",
              " 'middle',\n",
              " 'it',\n",
              " 'carcinoma',\n",
              " 'mobility',\n",
              " 'strength',\n",
              " 'getting',\n",
              " 'gastric',\n",
              " 'advil',\n",
              " 'asleep',\n",
              " 'amyotrophic',\n",
              " 'creatinine',\n",
              " 'plantar',\n",
              " 'extremity',\n",
              " 'move',\n",
              " 'coq10',\n",
              " 'twitching',\n",
              " 'hallucinations',\n",
              " 'fog',\n",
              " 'hypersomnia',\n",
              " 'distress',\n",
              " 'congestion',\n",
              " 'zombie',\n",
              " 'tylenol',\n",
              " 'inflammation',\n",
              " 'fenofibrate',\n",
              " 'makes',\n",
              " 'cell',\n",
              " 'erythema',\n",
              " 'thighs',\n",
              " 'vitamin',\n",
              " 'depressive',\n",
              " 'sexual',\n",
              " 'tolerance',\n",
              " 'daytime',\n",
              " 'fear',\n",
              " 'tight',\n",
              " 'hungry',\n",
              " 'clearly',\n",
              " 'dermatitis',\n",
              " 'sweat',\n",
              " 'present',\n",
              " 'sleepiness',\n",
              " 'irritation',\n",
              " 'always',\n",
              " 'lethargy',\n",
              " 'cerebrovascular',\n",
              " 'side',\n",
              " 'aleve',\n",
              " 'exercise',\n",
              " 'aggravated',\n",
              " 'accident',\n",
              " 'neoplasm',\n",
              " 'colic',\n",
              " 'loose',\n",
              " '10',\n",
              " 'sharp',\n",
              " 'weird',\n",
              " 'colitis',\n",
              " '+',\n",
              " 'erythematosus',\n",
              " 'falling',\n",
              " 'fatigued',\n",
              " 'breath',\n",
              " 'personality',\n",
              " 'pulmonary',\n",
              " 'hepatic',\n",
              " 'major',\n",
              " 'tricor',\n",
              " 'eczema',\n",
              " '3',\n",
              " 'dependence',\n",
              " 'tongue',\n",
              " 'fasciitis',\n",
              " 'disturbances',\n",
              " 'tachycardia',\n",
              " 'horses',\n",
              " 'sudden',\n",
              " 'deep',\n",
              " 'diclofenac',\n",
              " 'muscular',\n",
              " 'diabetic',\n",
              " 'light',\n",
              " 'stool',\n",
              " 'irregular',\n",
              " '2',\n",
              " 'emotional',\n",
              " 'drive',\n",
              " 'thinking',\n",
              " 'sweats',\n",
              " 'moody',\n",
              " 'anemia',\n",
              " 'decrease',\n",
              " 'elbows',\n",
              " 'slurred',\n",
              " 'inability',\n",
              " 'hurts',\n",
              " 'tension',\n",
              " 'retention',\n",
              " 'more',\n",
              " 'localised',\n",
              " 'vivid',\n",
              " 'paranoia',\n",
              " 'rhabdomyolysis',\n",
              " 'barely',\n",
              " 'itchy',\n",
              " 'wide',\n",
              " 'when',\n",
              " 'hardly',\n",
              " 'compulsive',\n",
              " 'abdomen',\n",
              " 'charley',\n",
              " 'every',\n",
              " 'paracetamol',\n",
              " '&',\n",
              " 'bladder',\n",
              " 'inflammatory',\n",
              " 'death',\n",
              " 'haemorrhage',\n",
              " 'conditions',\n",
              " 'nauseous',\n",
              " 'bursitis',\n",
              " 'still',\n",
              " 'potassium',\n",
              " 'eat',\n",
              " 'liptor',\n",
              " 'ringing',\n",
              " 'gait',\n",
              " 'cortisone',\n",
              " 'syncope',\n",
              " 'pulse',\n",
              " 'rupture',\n",
              " 'flushing',\n",
              " 'musculoskeletal',\n",
              " 'eating',\n",
              " 'bronchitis',\n",
              " 'cerebral',\n",
              " 'shortness',\n",
              " 'achilles',\n",
              " 'prednisone',\n",
              " 'social',\n",
              " 'zetia',\n",
              " 'depersonalization',\n",
              " 'neurontin',\n",
              " 'coronary',\n",
              " 'rigidity',\n",
              " 'hard',\n",
              " 'seizures',\n",
              " 'sex',\n",
              " ':',\n",
              " 'forgetful',\n",
              " 'sugar',\n",
              " 'lose',\n",
              " 'non',\n",
              " 'being',\n",
              " 'that',\n",
              " 'ventricular',\n",
              " 'stamina',\n",
              " 'arrest',\n",
              " 'natural',\n",
              " 'do',\n",
              " 'frequent',\n",
              " 'hurting',\n",
              " 'necrosis',\n",
              " 'strain',\n",
              " 'episode',\n",
              " 'venous',\n",
              " 'interest',\n",
              " 'als',\n",
              " 'empty',\n",
              " 'make',\n",
              " 'even',\n",
              " 'your',\n",
              " 'sensations',\n",
              " 'adderall',\n",
              " 'menorrhagia',\n",
              " 'scalp',\n",
              " 'atorvastatin',\n",
              " 'osteoarthritis',\n",
              " 'norvasc',\n",
              " 'count',\n",
              " 'one',\n",
              " 'extremely',\n",
              " 'pneumonia',\n",
              " 'sense',\n",
              " 'traumatic',\n",
              " 'obsessive',\n",
              " 'bite',\n",
              " 'little',\n",
              " 'spasmodic',\n",
              " 'glucose',\n",
              " 'alcohol',\n",
              " 'movements',\n",
              " 'corneal',\n",
              " 'lopid',\n",
              " 'motor',\n",
              " 'you',\n",
              " 'menstruation',\n",
              " 'ability',\n",
              " 'feels',\n",
              " 'altered',\n",
              " 'neuralgia',\n",
              " 'limping',\n",
              " 'losing',\n",
              " 'omega-3-acid',\n",
              " 'ethyl',\n",
              " 'esters-90',\n",
              " 'intolerance',\n",
              " 'area',\n",
              " 'tenderness',\n",
              " 'rectal',\n",
              " 'rapid',\n",
              " 'red',\n",
              " 'palsy',\n",
              " 'cpk',\n",
              " 'been',\n",
              " 'foggy',\n",
              " 'region',\n",
              " 'bulimia',\n",
              " 'arrhythmia',\n",
              " 'paralysis',\n",
              " 'bell',\n",
              " 'genital',\n",
              " 'unwell',\n",
              " 'abuse',\n",
              " 'looks',\n",
              " 'fluid',\n",
              " 'forearm',\n",
              " 'as',\n",
              " 'intoxication',\n",
              " 'am',\n",
              " 'candidiasis',\n",
              " 'aptyalism',\n",
              " 'changes',\n",
              " 'around',\n",
              " 'paranoid',\n",
              " 'fast',\n",
              " 'periods',\n",
              " 'rhinitis',\n",
              " 'anything',\n",
              " 'heaviness',\n",
              " 'horrible',\n",
              " 'lipex',\n",
              " 'zoloft',\n",
              " 'bloated',\n",
              " 'started',\n",
              " 'injection',\n",
              " 'crazy',\n",
              " 'delusional',\n",
              " 'random',\n",
              " 'inflamation',\n",
              " 'oral',\n",
              " 'self',\n",
              " 'lung',\n",
              " 'sight',\n",
              " 'bruising',\n",
              " 'tooth',\n",
              " 'ears',\n",
              " 'just',\n",
              " 'codeine',\n",
              " 'electrocardiogram',\n",
              " 'due',\n",
              " 'climb',\n",
              " 'craving',\n",
              " 'euphoric',\n",
              " 'degenerative',\n",
              " 'stroke',\n",
              " 'sneezing',\n",
              " 'tablet',\n",
              " 'tunnel',\n",
              " 'stabbing',\n",
              " 'localized',\n",
              " 'pancreatitis',\n",
              " 'stand',\n",
              " 'creatine',\n",
              " 'density',\n",
              " 'suicide',\n",
              " 'injuries',\n",
              " 'ms',\n",
              " 'shaking',\n",
              " 'aphasia',\n",
              " 'disc',\n",
              " 'exhausted',\n",
              " 'transient',\n",
              " '20',\n",
              " 'carpal',\n",
              " '6',\n",
              " 'increase',\n",
              " 'lift',\n",
              " 'mind',\n",
              " 'endometriosis',\n",
              " 'difficult',\n",
              " 'digestive',\n",
              " 'consciousness',\n",
              " 'blurry',\n",
              " 'effect',\n",
              " 'diovan',\n",
              " 'crying',\n",
              " 'became',\n",
              " 'issues',\n",
              " 'omega',\n",
              " 'nt',\n",
              " 'withdrawals',\n",
              " 'overdose',\n",
              " 'urticaria',\n",
              " 'bp',\n",
              " 'choking',\n",
              " 'whole',\n",
              " 'sciatica',\n",
              " 'going',\n",
              " 'forgetfulness',\n",
              " 'eructation',\n",
              " 'permanent',\n",
              " 'extremities',\n",
              " 'erection',\n",
              " 'allergy',\n",
              " 'haematuria',\n",
              " 'hepatitis',\n",
              " 'cystitis',\n",
              " 'arthropod',\n",
              " 'sun',\n",
              " 'everything',\n",
              " 'migraines',\n",
              " 'levels',\n",
              " 'worse',\n",
              " 'generalized',\n",
              " 'sedated',\n",
              " 'neoplasms',\n",
              " 'food',\n",
              " '5',\n",
              " 'menopausal',\n",
              " 'thirst',\n",
              " '1',\n",
              " 'go',\n",
              " 'generally',\n",
              " 'well',\n",
              " 'co',\n",
              " 'partial',\n",
              " 'than',\n",
              " 'into',\n",
              " 'psychosis',\n",
              " 'sinusitis',\n",
              " 'bacterial',\n",
              " 'binge',\n",
              " 'female',\n",
              " 'test',\n",
              " 'dehydration',\n",
              " 'coated',\n",
              " 'ani',\n",
              " 'went',\n",
              " 'ejaculation',\n",
              " 'sever',\n",
              " 'central',\n",
              " '.',\n",
              " 'erectile',\n",
              " 'involuntary',\n",
              " 'block',\n",
              " 'triglycerides',\n",
              " 'spotting',\n",
              " 'be',\n",
              " 'need',\n",
              " 'much',\n",
              " 'white',\n",
              " 'circulation',\n",
              " 'fatty',\n",
              " 'prolonged',\n",
              " 'lipoprotein',\n",
              " 'herpes',\n",
              " 'mass',\n",
              " 'lot',\n",
              " 'were',\n",
              " 'b',\n",
              " 'complex',\n",
              " 'obstruction',\n",
              " 'metastatic',\n",
              " 'angry',\n",
              " 'jaundice',\n",
              " 'insufficiency',\n",
              " 'fracture',\n",
              " 'things',\n",
              " 'diastolic',\n",
              " 'agitated',\n",
              " 'behaviour',\n",
              " 'dementia',\n",
              " 'chill',\n",
              " 'wrists',\n",
              " 'slight',\n",
              " 'shock',\n",
              " 'q10',\n",
              " 'thinning',\n",
              " 'gland',\n",
              " 'persistent',\n",
              " 'tissue',\n",
              " 'cognition',\n",
              " 'lbs',\n",
              " 'adenocarcinoma',\n",
              " 'morning',\n",
              " 'enzyme',\n",
              " 'despair',\n",
              " 'days',\n",
              " 'sides',\n",
              " 'sickness',\n",
              " 'metabolic',\n",
              " 'ached',\n",
              " 'testosterone',\n",
              " 'standing',\n",
              " 'acne',\n",
              " 'about',\n",
              " 'intervertebral',\n",
              " 'tumour',\n",
              " 'drink',\n",
              " 'achy',\n",
              " 'overall',\n",
              " 'artery',\n",
              " 'irritability',\n",
              " 'vasculitis',\n",
              " 'thoracic',\n",
              " 'period',\n",
              " 'constantly',\n",
              " 'alzheimer',\n",
              " 'infective',\n",
              " '-pelvis',\n",
              " 'slightly',\n",
              " 'able',\n",
              " 'drunk',\n",
              " 'rib',\n",
              " 'between',\n",
              " 'incontinence',\n",
              " 'epilepsy',\n",
              " 'film',\n",
              " 'twitches',\n",
              " 'tendency',\n",
              " 'too',\n",
              " 'morphine',\n",
              " 'away',\n",
              " 'cutaneous',\n",
              " 'almost',\n",
              " 'ulcerative',\n",
              " 'limp',\n",
              " 'aspirin',\n",
              " 'same',\n",
              " 'unconscious',\n",
              " 'tender',\n",
              " 'cycle',\n",
              " 'want',\n",
              " 'muscels',\n",
              " 'something',\n",
              " 'perforation',\n",
              " 'anxious',\n",
              " 'trauma',\n",
              " 'intestinal',\n",
              " 'uterus',\n",
              " 'hypomania',\n",
              " 'gained',\n",
              " 'hives',\n",
              " 'gastritis',\n",
              " 'touch',\n",
              " 'super',\n",
              " 'muscel',\n",
              " 'atrial',\n",
              " 'stools',\n",
              " 'hyper',\n",
              " 'week',\n",
              " 'disorientated',\n",
              " 'headed',\n",
              " 'post',\n",
              " 'jaw',\n",
              " 'lexapro',\n",
              " 'burn',\n",
              " 'coma',\n",
              " 'unhappy',\n",
              " 'unbearable',\n",
              " 'steatosis',\n",
              " 'clumsiness',\n",
              " 'run',\n",
              " 'spine',\n",
              " 'colon',\n",
              " 'lumbar',\n",
              " 'terrors',\n",
              " 'desire',\n",
              " 'male',\n",
              " 'remember',\n",
              " 'immune',\n",
              " 'phlebitis',\n",
              " 'only',\n",
              " 'dysphonia',\n",
              " 'chills',\n",
              " 'words',\n",
              " 'premature',\n",
              " 'water',\n",
              " 'condition',\n",
              " 'application',\n",
              " 'unsteady',\n",
              " 'thyroid',\n",
              " 'rashes',\n",
              " 'entire',\n",
              " 'arthritic',\n",
              " 'this',\n",
              " 'disorientation',\n",
              " 'moving',\n",
              " 'prostate',\n",
              " 'atrioventricular',\n",
              " 'throbbing',\n",
              " 'fall',\n",
              " 'alopecia',\n",
              " 'making',\n",
              " 'fractures',\n",
              " 'rate',\n",
              " 'lipidil',\n",
              " 'chair',\n",
              " 'viral',\n",
              " 'postmenopausal',\n",
              " 'hearing',\n",
              " 'ribs',\n",
              " 'agony',\n",
              " 'heat',\n",
              " 'neoplastic',\n",
              " 'would',\n",
              " 'prozac',\n",
              " 'an',\n",
              " 'haematochezia',\n",
              " 'angina',\n",
              " 'vagina',\n",
              " '40',\n",
              " 'substance',\n",
              " 'hypertonia',\n",
              " 'arteriosclerosis',\n",
              " 'pravastatin',\n",
              " 'ii',\n",
              " 'restlessness',\n",
              " 'beat',\n",
              " 'hoarse',\n",
              " 'tremors',\n",
              " 'tingly',\n",
              " 'sensitivity',\n",
              " 'polymyositis',\n",
              " 'zoster',\n",
              " 'contusion',\n",
              " 'esophageal',\n",
              " 'eyesight',\n",
              " 'through',\n",
              " 'fatique',\n",
              " 'abnormality',\n",
              " 'epicondylitis',\n",
              " 'alpha',\n",
              " 'tocopherol',\n",
              " 'gut',\n",
              " 'moodiness',\n",
              " 'dizzyness',\n",
              " 'protein',\n",
              " 'arousal',\n",
              " 'cyst',\n",
              " 'other',\n",
              " 'cataract',\n",
              " 'misoprostol',\n",
              " 'hours',\n",
              " 'hypothyroidism',\n",
              " 'labored',\n",
              " 'limitation',\n",
              " 'reading',\n",
              " 'hypochondriasis',\n",
              " 'mad',\n",
              " '8',\n",
              " 'tenalgia',\n",
              " 'result',\n",
              " 'hyperactivity',\n",
              " 'take',\n",
              " 'deprivation',\n",
              " 'clammy',\n",
              " 'associated',\n",
              " 'contracture',\n",
              " 'anorexia',\n",
              " 'discoloration',\n",
              " 'ovarian',\n",
              " 'focusing',\n",
              " 'yellow',\n",
              " 'mobic',\n",
              " 'epigastric',\n",
              " 'indifferent',\n",
              " '30',\n",
              " 'minutes',\n",
              " 'different',\n",
              " 'debilitating',\n",
              " 'cataflam',\n",
              " 'smell',\n",
              " 'aneurysm',\n",
              " 'total',\n",
              " 'hit',\n",
              " 'interactions',\n",
              " 'life',\n",
              " 'less',\n",
              " 'delayed',\n",
              " 'acidosis',\n",
              " 'blind',\n",
              " 'intracranial',\n",
              " 'long',\n",
              " 'ill',\n",
              " 'their',\n",
              " 'find',\n",
              " 'thrombosis',\n",
              " 'any',\n",
              " 'unspecified',\n",
              " '50',\n",
              " ...]"
            ]
          },
          "metadata": {
            "tags": []
          },
          "execution_count": 54
        }
      ]
    },
    {
      "cell_type": "code",
      "metadata": {
        "id": "yPWr03mls3VT",
        "colab_type": "code",
        "colab": {}
      },
      "source": [
        "model_path = path/'models'\n",
        "model_path.mkdir(exist_ok=True)\n",
        "url = 'http://files.fast.ai/models/wt103_v1/'\n",
        "download_url(f'{url}lstm_wt103.pth', model_path/'lstm_wt103.pth')\n",
        "download_url(f'{url}itos_wt103.pkl', model_path/'itos_wt103.pkl')"
      ],
      "execution_count": 0,
      "outputs": []
    },
    {
      "cell_type": "code",
      "metadata": {
        "id": "JRzvWg8RtGGr",
        "colab_type": "code",
        "colab": {}
      },
      "source": [
        "# learn = language_model_learner(data_lm, AWD_LSTM, drop_mult=0.5)"
      ],
      "execution_count": 0,
      "outputs": []
    },
    {
      "cell_type": "code",
      "metadata": {
        "id": "xKK7GeBev7Xn",
        "colab_type": "code",
        "colab": {}
      },
      "source": [
        "# learn.fit_one_cycle(1, 1e-2)"
      ],
      "execution_count": 0,
      "outputs": []
    },
    {
      "cell_type": "code",
      "metadata": {
        "id": "iB7rHGQCwd12",
        "colab_type": "code",
        "colab": {}
      },
      "source": [
        "# learn.fit_one_cycle(1, 1e-2)"
      ],
      "execution_count": 0,
      "outputs": []
    },
    {
      "cell_type": "code",
      "metadata": {
        "id": "_BnSuAeCwkBe",
        "colab_type": "code",
        "colab": {}
      },
      "source": [
        "# learn.fit_one_cycle(1, 1e-3)"
      ],
      "execution_count": 0,
      "outputs": []
    },
    {
      "cell_type": "code",
      "metadata": {
        "id": "MuTm-RFjwrEX",
        "colab_type": "code",
        "colab": {}
      },
      "source": [
        "# learn.fit_one_cycle(1, 1e-3)"
      ],
      "execution_count": 0,
      "outputs": []
    },
    {
      "cell_type": "code",
      "metadata": {
        "id": "1Er2ExO8wr7Y",
        "colab_type": "code",
        "colab": {}
      },
      "source": [
        "# learn.save_encoder('bigtweet_fold0_first')"
      ],
      "execution_count": 0,
      "outputs": []
    },
    {
      "cell_type": "code",
      "metadata": {
        "id": "z52cZs2qwvad",
        "colab_type": "code",
        "outputId": "d85940c8-1d98-4b51-a1ed-5a1332c9c3c8",
        "colab": {
          "base_uri": "https://localhost:8080/",
          "height": 79
        }
      },
      "source": [
        "learn = text_classifier_learner(data_clas,AWD_LSTM, drop_mult=0.5)\n",
        "# learn.load_encoder('bigtweet_fold0_first')\n",
        "learn.fit_one_cycle(1, 1e-2)"
      ],
      "execution_count": 62,
      "outputs": [
        {
          "output_type": "display_data",
          "data": {
            "text/html": [
              "<table border=\"1\" class=\"dataframe\">\n",
              "  <thead>\n",
              "    <tr style=\"text-align: left;\">\n",
              "      <th>epoch</th>\n",
              "      <th>train_loss</th>\n",
              "      <th>valid_loss</th>\n",
              "      <th>accuracy</th>\n",
              "      <th>time</th>\n",
              "    </tr>\n",
              "  </thead>\n",
              "  <tbody>\n",
              "    <tr>\n",
              "      <td>0</td>\n",
              "      <td>5.663162</td>\n",
              "      <td>5.891263</td>\n",
              "      <td>0.136095</td>\n",
              "      <td>01:10</td>\n",
              "    </tr>\n",
              "  </tbody>\n",
              "</table>"
            ],
            "text/plain": [
              "<IPython.core.display.HTML object>"
            ]
          },
          "metadata": {
            "tags": []
          }
        }
      ]
    },
    {
      "cell_type": "code",
      "metadata": {
        "id": "ImwQP1PJwzxd",
        "colab_type": "code",
        "outputId": "f7188a8b-84cc-49d9-cde6-f4dc949cc68b",
        "colab": {
          "base_uri": "https://localhost:8080/",
          "height": 79
        }
      },
      "source": [
        "learn.freeze_to(-2)\n",
        "learn.fit_one_cycle(1, slice(5e-3/2., 5e-3))"
      ],
      "execution_count": 63,
      "outputs": [
        {
          "output_type": "display_data",
          "data": {
            "text/html": [
              "<table border=\"1\" class=\"dataframe\">\n",
              "  <thead>\n",
              "    <tr style=\"text-align: left;\">\n",
              "      <th>epoch</th>\n",
              "      <th>train_loss</th>\n",
              "      <th>valid_loss</th>\n",
              "      <th>accuracy</th>\n",
              "      <th>time</th>\n",
              "    </tr>\n",
              "  </thead>\n",
              "  <tbody>\n",
              "    <tr>\n",
              "      <td>0</td>\n",
              "      <td>4.727796</td>\n",
              "      <td>8.842597</td>\n",
              "      <td>0.068639</td>\n",
              "      <td>01:36</td>\n",
              "    </tr>\n",
              "  </tbody>\n",
              "</table>"
            ],
            "text/plain": [
              "<IPython.core.display.HTML object>"
            ]
          },
          "metadata": {
            "tags": []
          }
        }
      ]
    },
    {
      "cell_type": "code",
      "metadata": {
        "id": "Owff_BJXw53u",
        "colab_type": "code",
        "outputId": "9d1df32b-1f2a-4233-b14b-ae09fff0bd34",
        "colab": {
          "base_uri": "https://localhost:8080/",
          "height": 79
        }
      },
      "source": [
        "learn.unfreeze()\n",
        "learn.fit_one_cycle(1, slice(2e-3/100, 2e-3))"
      ],
      "execution_count": 64,
      "outputs": [
        {
          "output_type": "display_data",
          "data": {
            "text/html": [
              "<table border=\"1\" class=\"dataframe\">\n",
              "  <thead>\n",
              "    <tr style=\"text-align: left;\">\n",
              "      <th>epoch</th>\n",
              "      <th>train_loss</th>\n",
              "      <th>valid_loss</th>\n",
              "      <th>accuracy</th>\n",
              "      <th>time</th>\n",
              "    </tr>\n",
              "  </thead>\n",
              "  <tbody>\n",
              "    <tr>\n",
              "      <td>0</td>\n",
              "      <td>3.904444</td>\n",
              "      <td>7.466484</td>\n",
              "      <td>0.073373</td>\n",
              "      <td>03:58</td>\n",
              "    </tr>\n",
              "  </tbody>\n",
              "</table>"
            ],
            "text/plain": [
              "<IPython.core.display.HTML object>"
            ]
          },
          "metadata": {
            "tags": []
          }
        }
      ]
    },
    {
      "cell_type": "code",
      "metadata": {
        "id": "lqAyu56V8Waq",
        "colab_type": "code",
        "outputId": "e56f629c-57a8-4a3a-8158-11844647200a",
        "colab": {
          "base_uri": "https://localhost:8080/",
          "height": 110
        }
      },
      "source": [
        "learn.fit_one_cycle(2, slice(2e-3/100, 2e-3))"
      ],
      "execution_count": 65,
      "outputs": [
        {
          "output_type": "display_data",
          "data": {
            "text/html": [
              "<table border=\"1\" class=\"dataframe\">\n",
              "  <thead>\n",
              "    <tr style=\"text-align: left;\">\n",
              "      <th>epoch</th>\n",
              "      <th>train_loss</th>\n",
              "      <th>valid_loss</th>\n",
              "      <th>accuracy</th>\n",
              "      <th>time</th>\n",
              "    </tr>\n",
              "  </thead>\n",
              "  <tbody>\n",
              "    <tr>\n",
              "      <td>0</td>\n",
              "      <td>3.351537</td>\n",
              "      <td>7.233109</td>\n",
              "      <td>0.119527</td>\n",
              "      <td>03:46</td>\n",
              "    </tr>\n",
              "    <tr>\n",
              "      <td>1</td>\n",
              "      <td>2.683787</td>\n",
              "      <td>6.644796</td>\n",
              "      <td>0.152663</td>\n",
              "      <td>03:50</td>\n",
              "    </tr>\n",
              "  </tbody>\n",
              "</table>"
            ],
            "text/plain": [
              "<IPython.core.display.HTML object>"
            ]
          },
          "metadata": {
            "tags": []
          }
        }
      ]
    },
    {
      "cell_type": "code",
      "metadata": {
        "id": "a7I1xMRp8bUd",
        "colab_type": "code",
        "outputId": "2d162e9d-9020-46cc-b88c-ae2796dec939",
        "colab": {
          "base_uri": "https://localhost:8080/",
          "height": 110
        }
      },
      "source": [
        "learn.fit_one_cycle(2, slice(2e-3/100, 2e-3))"
      ],
      "execution_count": 66,
      "outputs": [
        {
          "output_type": "display_data",
          "data": {
            "text/html": [
              "<table border=\"1\" class=\"dataframe\">\n",
              "  <thead>\n",
              "    <tr style=\"text-align: left;\">\n",
              "      <th>epoch</th>\n",
              "      <th>train_loss</th>\n",
              "      <th>valid_loss</th>\n",
              "      <th>accuracy</th>\n",
              "      <th>time</th>\n",
              "    </tr>\n",
              "  </thead>\n",
              "  <tbody>\n",
              "    <tr>\n",
              "      <td>0</td>\n",
              "      <td>2.398323</td>\n",
              "      <td>6.658746</td>\n",
              "      <td>0.198817</td>\n",
              "      <td>03:38</td>\n",
              "    </tr>\n",
              "    <tr>\n",
              "      <td>1</td>\n",
              "      <td>2.086611</td>\n",
              "      <td>6.540838</td>\n",
              "      <td>0.307692</td>\n",
              "      <td>03:33</td>\n",
              "    </tr>\n",
              "  </tbody>\n",
              "</table>"
            ],
            "text/plain": [
              "<IPython.core.display.HTML object>"
            ]
          },
          "metadata": {
            "tags": []
          }
        }
      ]
    },
    {
      "cell_type": "code",
      "metadata": {
        "id": "UAnti-XmGVfO",
        "colab_type": "code",
        "outputId": "9704ab43-11b7-46ee-b4de-90cbe7697f52",
        "colab": {
          "base_uri": "https://localhost:8080/",
          "height": 110
        }
      },
      "source": [
        "learn.fit_one_cycle(2, slice(2e-3/100, 2e-3))"
      ],
      "execution_count": 67,
      "outputs": [
        {
          "output_type": "display_data",
          "data": {
            "text/html": [
              "<table border=\"1\" class=\"dataframe\">\n",
              "  <thead>\n",
              "    <tr style=\"text-align: left;\">\n",
              "      <th>epoch</th>\n",
              "      <th>train_loss</th>\n",
              "      <th>valid_loss</th>\n",
              "      <th>accuracy</th>\n",
              "      <th>time</th>\n",
              "    </tr>\n",
              "  </thead>\n",
              "  <tbody>\n",
              "    <tr>\n",
              "      <td>0</td>\n",
              "      <td>1.977446</td>\n",
              "      <td>7.593523</td>\n",
              "      <td>0.200000</td>\n",
              "      <td>03:31</td>\n",
              "    </tr>\n",
              "    <tr>\n",
              "      <td>1</td>\n",
              "      <td>1.662430</td>\n",
              "      <td>4.811971</td>\n",
              "      <td>0.383432</td>\n",
              "      <td>03:33</td>\n",
              "    </tr>\n",
              "  </tbody>\n",
              "</table>"
            ],
            "text/plain": [
              "<IPython.core.display.HTML object>"
            ]
          },
          "metadata": {
            "tags": []
          }
        }
      ]
    },
    {
      "cell_type": "code",
      "metadata": {
        "id": "bIft7W25GwSu",
        "colab_type": "code",
        "outputId": "f757ca3b-297b-4169-f8ad-4e5c15ac8a66",
        "colab": {
          "base_uri": "https://localhost:8080/",
          "height": 110
        }
      },
      "source": [
        "learn.fit_one_cycle(2, slice(2e-3/100, 2e-3))"
      ],
      "execution_count": 68,
      "outputs": [
        {
          "output_type": "display_data",
          "data": {
            "text/html": [
              "<table border=\"1\" class=\"dataframe\">\n",
              "  <thead>\n",
              "    <tr style=\"text-align: left;\">\n",
              "      <th>epoch</th>\n",
              "      <th>train_loss</th>\n",
              "      <th>valid_loss</th>\n",
              "      <th>accuracy</th>\n",
              "      <th>time</th>\n",
              "    </tr>\n",
              "  </thead>\n",
              "  <tbody>\n",
              "    <tr>\n",
              "      <td>0</td>\n",
              "      <td>1.498238</td>\n",
              "      <td>6.225518</td>\n",
              "      <td>0.326627</td>\n",
              "      <td>03:31</td>\n",
              "    </tr>\n",
              "    <tr>\n",
              "      <td>1</td>\n",
              "      <td>1.412869</td>\n",
              "      <td>5.141997</td>\n",
              "      <td>0.375148</td>\n",
              "      <td>03:43</td>\n",
              "    </tr>\n",
              "  </tbody>\n",
              "</table>"
            ],
            "text/plain": [
              "<IPython.core.display.HTML object>"
            ]
          },
          "metadata": {
            "tags": []
          }
        }
      ]
    },
    {
      "cell_type": "code",
      "metadata": {
        "id": "EEHszVRvGyFt",
        "colab_type": "code",
        "colab": {
          "base_uri": "https://localhost:8080/",
          "height": 110
        },
        "outputId": "6e93142f-f2bd-45d9-b18e-a55b78b3c0ba"
      },
      "source": [
        "learn.fit_one_cycle(2, slice(2e-3/100, 2e-3))"
      ],
      "execution_count": 69,
      "outputs": [
        {
          "output_type": "display_data",
          "data": {
            "text/html": [
              "<table border=\"1\" class=\"dataframe\">\n",
              "  <thead>\n",
              "    <tr style=\"text-align: left;\">\n",
              "      <th>epoch</th>\n",
              "      <th>train_loss</th>\n",
              "      <th>valid_loss</th>\n",
              "      <th>accuracy</th>\n",
              "      <th>time</th>\n",
              "    </tr>\n",
              "  </thead>\n",
              "  <tbody>\n",
              "    <tr>\n",
              "      <td>0</td>\n",
              "      <td>1.314383</td>\n",
              "      <td>4.064391</td>\n",
              "      <td>0.437870</td>\n",
              "      <td>03:46</td>\n",
              "    </tr>\n",
              "    <tr>\n",
              "      <td>1</td>\n",
              "      <td>1.158986</td>\n",
              "      <td>3.054471</td>\n",
              "      <td>0.507692</td>\n",
              "      <td>03:49</td>\n",
              "    </tr>\n",
              "  </tbody>\n",
              "</table>"
            ],
            "text/plain": [
              "<IPython.core.display.HTML object>"
            ]
          },
          "metadata": {
            "tags": []
          }
        }
      ]
    },
    {
      "cell_type": "code",
      "metadata": {
        "id": "XsHfrhCHG3dN",
        "colab_type": "code",
        "colab": {
          "base_uri": "https://localhost:8080/",
          "height": 171
        },
        "outputId": "8c627be9-3cef-44dc-df87-81fd9ccbdbbd"
      },
      "source": [
        "learn.fit_one_cycle(4, slice(2e-3/100, 2e-3))"
      ],
      "execution_count": 70,
      "outputs": [
        {
          "output_type": "display_data",
          "data": {
            "text/html": [
              "<table border=\"1\" class=\"dataframe\">\n",
              "  <thead>\n",
              "    <tr style=\"text-align: left;\">\n",
              "      <th>epoch</th>\n",
              "      <th>train_loss</th>\n",
              "      <th>valid_loss</th>\n",
              "      <th>accuracy</th>\n",
              "      <th>time</th>\n",
              "    </tr>\n",
              "  </thead>\n",
              "  <tbody>\n",
              "    <tr>\n",
              "      <td>0</td>\n",
              "      <td>1.047390</td>\n",
              "      <td>3.708730</td>\n",
              "      <td>0.472189</td>\n",
              "      <td>03:51</td>\n",
              "    </tr>\n",
              "    <tr>\n",
              "      <td>1</td>\n",
              "      <td>1.044930</td>\n",
              "      <td>3.412498</td>\n",
              "      <td>0.443787</td>\n",
              "      <td>03:52</td>\n",
              "    </tr>\n",
              "    <tr>\n",
              "      <td>2</td>\n",
              "      <td>0.884914</td>\n",
              "      <td>2.424298</td>\n",
              "      <td>0.603550</td>\n",
              "      <td>03:54</td>\n",
              "    </tr>\n",
              "    <tr>\n",
              "      <td>3</td>\n",
              "      <td>0.742866</td>\n",
              "      <td>2.325247</td>\n",
              "      <td>0.646154</td>\n",
              "      <td>03:49</td>\n",
              "    </tr>\n",
              "  </tbody>\n",
              "</table>"
            ],
            "text/plain": [
              "<IPython.core.display.HTML object>"
            ]
          },
          "metadata": {
            "tags": []
          }
        }
      ]
    },
    {
      "cell_type": "code",
      "metadata": {
        "id": "0Zsd99isb9EQ",
        "colab_type": "code",
        "colab": {
          "base_uri": "https://localhost:8080/",
          "height": 171
        },
        "outputId": "fcbb9970-3b56-44ae-f1ee-202492913d64"
      },
      "source": [
        "learn.fit_one_cycle(4, slice(2e-3/100, 2e-3))"
      ],
      "execution_count": 71,
      "outputs": [
        {
          "output_type": "display_data",
          "data": {
            "text/html": [
              "<table border=\"1\" class=\"dataframe\">\n",
              "  <thead>\n",
              "    <tr style=\"text-align: left;\">\n",
              "      <th>epoch</th>\n",
              "      <th>train_loss</th>\n",
              "      <th>valid_loss</th>\n",
              "      <th>accuracy</th>\n",
              "      <th>time</th>\n",
              "    </tr>\n",
              "  </thead>\n",
              "  <tbody>\n",
              "    <tr>\n",
              "      <td>0</td>\n",
              "      <td>0.790488</td>\n",
              "      <td>2.909623</td>\n",
              "      <td>0.506509</td>\n",
              "      <td>03:35</td>\n",
              "    </tr>\n",
              "    <tr>\n",
              "      <td>1</td>\n",
              "      <td>0.825625</td>\n",
              "      <td>2.569526</td>\n",
              "      <td>0.591716</td>\n",
              "      <td>03:57</td>\n",
              "    </tr>\n",
              "    <tr>\n",
              "      <td>2</td>\n",
              "      <td>0.674098</td>\n",
              "      <td>2.174443</td>\n",
              "      <td>0.672189</td>\n",
              "      <td>03:48</td>\n",
              "    </tr>\n",
              "    <tr>\n",
              "      <td>3</td>\n",
              "      <td>0.544685</td>\n",
              "      <td>2.166780</td>\n",
              "      <td>0.675740</td>\n",
              "      <td>03:38</td>\n",
              "    </tr>\n",
              "  </tbody>\n",
              "</table>"
            ],
            "text/plain": [
              "<IPython.core.display.HTML object>"
            ]
          },
          "metadata": {
            "tags": []
          }
        }
      ]
    },
    {
      "cell_type": "code",
      "metadata": {
        "id": "atNWNKDFPbuI",
        "colab_type": "code",
        "colab": {
          "base_uri": "https://localhost:8080/",
          "height": 171
        },
        "outputId": "158121cf-7765-42d8-a9e2-fbac1a7e6cc7"
      },
      "source": [
        "learn.fit_one_cycle(4, slice(2e-3/100, 2e-3))"
      ],
      "execution_count": 72,
      "outputs": [
        {
          "output_type": "display_data",
          "data": {
            "text/html": [
              "<table border=\"1\" class=\"dataframe\">\n",
              "  <thead>\n",
              "    <tr style=\"text-align: left;\">\n",
              "      <th>epoch</th>\n",
              "      <th>train_loss</th>\n",
              "      <th>valid_loss</th>\n",
              "      <th>accuracy</th>\n",
              "      <th>time</th>\n",
              "    </tr>\n",
              "  </thead>\n",
              "  <tbody>\n",
              "    <tr>\n",
              "      <td>0</td>\n",
              "      <td>0.607124</td>\n",
              "      <td>2.144228</td>\n",
              "      <td>0.697041</td>\n",
              "      <td>04:00</td>\n",
              "    </tr>\n",
              "    <tr>\n",
              "      <td>1</td>\n",
              "      <td>0.633022</td>\n",
              "      <td>2.259758</td>\n",
              "      <td>0.649704</td>\n",
              "      <td>03:38</td>\n",
              "    </tr>\n",
              "    <tr>\n",
              "      <td>2</td>\n",
              "      <td>0.531760</td>\n",
              "      <td>2.040590</td>\n",
              "      <td>0.676923</td>\n",
              "      <td>03:38</td>\n",
              "    </tr>\n",
              "    <tr>\n",
              "      <td>3</td>\n",
              "      <td>0.437914</td>\n",
              "      <td>1.926389</td>\n",
              "      <td>0.717160</td>\n",
              "      <td>03:30</td>\n",
              "    </tr>\n",
              "  </tbody>\n",
              "</table>"
            ],
            "text/plain": [
              "<IPython.core.display.HTML object>"
            ]
          },
          "metadata": {
            "tags": []
          }
        }
      ]
    },
    {
      "cell_type": "code",
      "metadata": {
        "id": "rKrBTZ0T1uVA",
        "colab_type": "code",
        "colab": {
          "base_uri": "https://localhost:8080/",
          "height": 171
        },
        "outputId": "71dc56dd-0b9c-4f2a-d288-79266e2452a5"
      },
      "source": [
        "learn.fit_one_cycle(4, slice(2e-3/100, 2e-3))"
      ],
      "execution_count": 73,
      "outputs": [
        {
          "output_type": "display_data",
          "data": {
            "text/html": [
              "<table border=\"1\" class=\"dataframe\">\n",
              "  <thead>\n",
              "    <tr style=\"text-align: left;\">\n",
              "      <th>epoch</th>\n",
              "      <th>train_loss</th>\n",
              "      <th>valid_loss</th>\n",
              "      <th>accuracy</th>\n",
              "      <th>time</th>\n",
              "    </tr>\n",
              "  </thead>\n",
              "  <tbody>\n",
              "    <tr>\n",
              "      <td>0</td>\n",
              "      <td>0.491900</td>\n",
              "      <td>1.849622</td>\n",
              "      <td>0.711243</td>\n",
              "      <td>03:36</td>\n",
              "    </tr>\n",
              "    <tr>\n",
              "      <td>1</td>\n",
              "      <td>0.524908</td>\n",
              "      <td>1.795774</td>\n",
              "      <td>0.733728</td>\n",
              "      <td>03:53</td>\n",
              "    </tr>\n",
              "    <tr>\n",
              "      <td>2</td>\n",
              "      <td>0.418122</td>\n",
              "      <td>1.666205</td>\n",
              "      <td>0.742012</td>\n",
              "      <td>03:50</td>\n",
              "    </tr>\n",
              "    <tr>\n",
              "      <td>3</td>\n",
              "      <td>0.374822</td>\n",
              "      <td>1.629481</td>\n",
              "      <td>0.751479</td>\n",
              "      <td>03:44</td>\n",
              "    </tr>\n",
              "  </tbody>\n",
              "</table>"
            ],
            "text/plain": [
              "<IPython.core.display.HTML object>"
            ]
          },
          "metadata": {
            "tags": []
          }
        }
      ]
    },
    {
      "cell_type": "code",
      "metadata": {
        "id": "ajQC6WDg1yA9",
        "colab_type": "code",
        "colab": {
          "base_uri": "https://localhost:8080/",
          "height": 171
        },
        "outputId": "ff993c0b-fa45-4fde-8406-805a82904cf2"
      },
      "source": [
        "learn.fit_one_cycle(4, slice(2e-3/100, 2e-3))"
      ],
      "execution_count": 74,
      "outputs": [
        {
          "output_type": "display_data",
          "data": {
            "text/html": [
              "<table border=\"1\" class=\"dataframe\">\n",
              "  <thead>\n",
              "    <tr style=\"text-align: left;\">\n",
              "      <th>epoch</th>\n",
              "      <th>train_loss</th>\n",
              "      <th>valid_loss</th>\n",
              "      <th>accuracy</th>\n",
              "      <th>time</th>\n",
              "    </tr>\n",
              "  </thead>\n",
              "  <tbody>\n",
              "    <tr>\n",
              "      <td>0</td>\n",
              "      <td>0.370855</td>\n",
              "      <td>1.768672</td>\n",
              "      <td>0.749112</td>\n",
              "      <td>03:49</td>\n",
              "    </tr>\n",
              "    <tr>\n",
              "      <td>1</td>\n",
              "      <td>0.435476</td>\n",
              "      <td>1.892206</td>\n",
              "      <td>0.718343</td>\n",
              "      <td>03:42</td>\n",
              "    </tr>\n",
              "    <tr>\n",
              "      <td>2</td>\n",
              "      <td>0.375609</td>\n",
              "      <td>1.736465</td>\n",
              "      <td>0.752663</td>\n",
              "      <td>03:46</td>\n",
              "    </tr>\n",
              "    <tr>\n",
              "      <td>3</td>\n",
              "      <td>0.301598</td>\n",
              "      <td>1.717777</td>\n",
              "      <td>0.758580</td>\n",
              "      <td>03:40</td>\n",
              "    </tr>\n",
              "  </tbody>\n",
              "</table>"
            ],
            "text/plain": [
              "<IPython.core.display.HTML object>"
            ]
          },
          "metadata": {
            "tags": []
          }
        }
      ]
    },
    {
      "cell_type": "code",
      "metadata": {
        "id": "KKydb0B4BKGk",
        "colab_type": "code",
        "colab": {
          "base_uri": "https://localhost:8080/",
          "height": 171
        },
        "outputId": "8dba6600-8147-493b-b083-9f4e16cf5c96"
      },
      "source": [
        "learn.fit_one_cycle(4, slice(2e-3/100, 2e-3))"
      ],
      "execution_count": 75,
      "outputs": [
        {
          "output_type": "display_data",
          "data": {
            "text/html": [
              "<table border=\"1\" class=\"dataframe\">\n",
              "  <thead>\n",
              "    <tr style=\"text-align: left;\">\n",
              "      <th>epoch</th>\n",
              "      <th>train_loss</th>\n",
              "      <th>valid_loss</th>\n",
              "      <th>accuracy</th>\n",
              "      <th>time</th>\n",
              "    </tr>\n",
              "  </thead>\n",
              "  <tbody>\n",
              "    <tr>\n",
              "      <td>0</td>\n",
              "      <td>0.315453</td>\n",
              "      <td>1.773121</td>\n",
              "      <td>0.742012</td>\n",
              "      <td>03:49</td>\n",
              "    </tr>\n",
              "    <tr>\n",
              "      <td>1</td>\n",
              "      <td>0.383181</td>\n",
              "      <td>1.819483</td>\n",
              "      <td>0.736095</td>\n",
              "      <td>03:40</td>\n",
              "    </tr>\n",
              "    <tr>\n",
              "      <td>2</td>\n",
              "      <td>0.325625</td>\n",
              "      <td>1.872387</td>\n",
              "      <td>0.743195</td>\n",
              "      <td>03:32</td>\n",
              "    </tr>\n",
              "    <tr>\n",
              "      <td>3</td>\n",
              "      <td>0.280254</td>\n",
              "      <td>1.767685</td>\n",
              "      <td>0.740828</td>\n",
              "      <td>03:41</td>\n",
              "    </tr>\n",
              "  </tbody>\n",
              "</table>"
            ],
            "text/plain": [
              "<IPython.core.display.HTML object>"
            ]
          },
          "metadata": {
            "tags": []
          }
        }
      ]
    },
    {
      "cell_type": "code",
      "metadata": {
        "id": "T2APKtFKBpGY",
        "colab_type": "code",
        "colab": {
          "base_uri": "https://localhost:8080/",
          "height": 171
        },
        "outputId": "30a36207-3bab-4fec-b8e6-e22597a53026"
      },
      "source": [
        "learn.fit_one_cycle(4, slice(2e-3/100, 2e-3))"
      ],
      "execution_count": 76,
      "outputs": [
        {
          "output_type": "display_data",
          "data": {
            "text/html": [
              "<table border=\"1\" class=\"dataframe\">\n",
              "  <thead>\n",
              "    <tr style=\"text-align: left;\">\n",
              "      <th>epoch</th>\n",
              "      <th>train_loss</th>\n",
              "      <th>valid_loss</th>\n",
              "      <th>accuracy</th>\n",
              "      <th>time</th>\n",
              "    </tr>\n",
              "  </thead>\n",
              "  <tbody>\n",
              "    <tr>\n",
              "      <td>0</td>\n",
              "      <td>0.272901</td>\n",
              "      <td>1.830791</td>\n",
              "      <td>0.747929</td>\n",
              "      <td>03:49</td>\n",
              "    </tr>\n",
              "    <tr>\n",
              "      <td>1</td>\n",
              "      <td>0.354054</td>\n",
              "      <td>1.916351</td>\n",
              "      <td>0.745562</td>\n",
              "      <td>03:54</td>\n",
              "    </tr>\n",
              "    <tr>\n",
              "      <td>2</td>\n",
              "      <td>0.298102</td>\n",
              "      <td>1.750680</td>\n",
              "      <td>0.750296</td>\n",
              "      <td>03:54</td>\n",
              "    </tr>\n",
              "    <tr>\n",
              "      <td>3</td>\n",
              "      <td>0.268080</td>\n",
              "      <td>1.707368</td>\n",
              "      <td>0.756213</td>\n",
              "      <td>04:02</td>\n",
              "    </tr>\n",
              "  </tbody>\n",
              "</table>"
            ],
            "text/plain": [
              "<IPython.core.display.HTML object>"
            ]
          },
          "metadata": {
            "tags": []
          }
        }
      ]
    },
    {
      "cell_type": "code",
      "metadata": {
        "id": "c65d-osfDUXm",
        "colab_type": "code",
        "colab": {}
      },
      "source": [
        "# save the best model\n",
        "\n",
        "learn.save_encoder('ask-0-tuning-bigtweet')"
      ],
      "execution_count": 0,
      "outputs": []
    },
    {
      "cell_type": "markdown",
      "metadata": {
        "id": "rCwZU0E2RgM6",
        "colab_type": "text"
      },
      "source": [
        "# Part three: Predict on the test dataset"
      ]
    },
    {
      "cell_type": "code",
      "metadata": {
        "id": "gDm72c-dOu7d",
        "colab_type": "code",
        "colab": {}
      },
      "source": [
        "# use the test data for prediction\n",
        "\n",
        "preds, y = learn.get_preds(DatasetType.Test)"
      ],
      "execution_count": 0,
      "outputs": []
    },
    {
      "cell_type": "code",
      "metadata": {
        "id": "6tFSQcsWPvxn",
        "colab_type": "code",
        "colab": {
          "base_uri": "https://localhost:8080/",
          "height": 107
        },
        "outputId": "4b8baa22-8039-49ad-d472-7e393f0297e3"
      },
      "source": [
        "predictions, *_ = learn.get_preds(DatasetType.Test)\n",
        "labels = np.argmax(predictions, 1)\n",
        "predict_list = labels.tolist()\n",
        "standard_list = test[0].tolist()\n",
        "\n",
        "print(len(predict_list))\n",
        "print(len(standard_list))\n",
        "\n",
        "print(predict_list)\n",
        "print(standard_list)"
      ],
      "execution_count": 79,
      "outputs": [
        {
          "output_type": "stream",
          "text": [
            "867\n",
            "867\n",
            "[940, 2, 228, 809, 291, 8, 8, 8, 8, 8, 8, 8, 96, 5, 21, 22, 202, 27, 27, 1031, 491, 614, 182, 30, 31, 31, 32, 34, 614, 37, 37, 289, 37, 37, 37, 37, 353, 44, 950, 49, 49, 49, 49, 49, 49, 49, 49, 49, 49, 49, 49, 49, 49, 49, 53, 246, 58, 61, 71, 983, 74, 76, 76, 1007, 79, 79, 79, 614, 79, 341, 79, 79, 79, 79, 79, 79, 79, 79, 79, 79, 79, 79, 79, 79, 79, 79, 79, 79, 79, 79, 79, 79, 79, 79, 79, 610, 111, 289, 228, 228, 80, 80, 80, 80, 80, 80, 80, 80, 80, 88, 89, 137, 268, 539, 91, 92, 94, 94, 94, 94, 94, 94, 94, 94, 96, 96, 291, 683, 809, 100, 244, 337, 100, 265, 100, 100, 100, 265, 291, 291, 402, 108, 108, 108, 635, 565, 111, 111, 111, 94, 111, 111, 117, 142, 120, 120, 122, 125, 427, 125, 125, 125, 125, 125, 125, 125, 125, 777, 125, 127, 129, 131, 13, 142, 142, 619, 162, 37, 151, 151, 341, 157, 157, 158, 178, 165, 166, 98, 166, 246, 172, 172, 172, 172, 172, 172, 172, 180, 182, 182, 182, 182, 182, 182, 183, 183, 183, 183, 183, 183, 183, 183, 183, 183, 183, 183, 183, 184, 184, 185, 187, 187, 187, 94, 189, 190, 190, 190, 190, 190, 190, 193, 34, 34, 567, 210, 245, 210, 210, 34, 214, 214, 214, 471, 214, 214, 214, 214, 214, 214, 214, 214, 214, 246, 216, 849, 218, 218, 220, 220, 220, 220, 220, 222, 226, 228, 228, 228, 228, 228, 228, 228, 228, 228, 1018, 234, 234, 235, 809, 246, 626, 187, 28, 849, 243, 243, 243, 243, 243, 849, 245, 245, 245, 245, 245, 245, 245, 245, 764, 298, 246, 246, 246, 374, 254, 254, 427, 260, 518, 262, 265, 146, 265, 265, 419, 265, 402, 265, 265, 265, 265, 265, 265, 265, 265, 265, 265, 265, 265, 265, 265, 265, 265, 265, 265, 137, 268, 268, 269, 270, 518, 276, 277, 386, 265, 289, 182, 289, 289, 419, 289, 289, 289, 289, 364, 289, 289, 190, 289, 289, 289, 289, 289, 364, 291, 364, 877, 246, 300, 300, 301, 301, 265, 798, 308, 309, 309, 309, 309, 310, 309, 994, 981, 427, 427, 359, 518, 146, 321, 321, 427, 485, 323, 325, 325, 325, 325, 325, 325, 325, 325, 325, 325, 325, 325, 325, 325, 325, 326, 61, 537, 334, 335, 336, 337, 337, 337, 337, 338, 343, 853, 798, 359, 359, 187, 847, 363, 363, 364, 364, 364, 364, 674, 1001, 427, 847, 461, 402, 402, 291, 801, 418, 419, 419, 419, 419, 419, 419, 419, 419, 419, 223, 809, 614, 426, 427, 427, 427, 427, 427, 427, 427, 427, 427, 427, 427, 427, 780, 291, 430, 434, 840, 435, 291, 444, 444, 444, 455, 455, 455, 462, 228, 474, 475, 847, 475, 591, 291, 744, 764, 489, 491, 491, 721, 806, 492, 492, 427, 223, 374, 509, 516, 518, 517, 246, 517, 521, 524, 527, 182, 530, 530, 530, 530, 531, 535, 541, 541, 265, 291, 546, 548, 548, 548, 548, 548, 548, 565, 291, 567, 577, 337, 70, 214, 579, 584, 741, 289, 590, 590, 590, 592, 595, 597, 427, 583, 142, 228, 228, 607, 608, 610, 610, 610, 427, 614, 686, 614, 614, 619, 619, 619, 623, 265, 427, 633, 633, 245, 644, 644, 646, 646, 646, 646, 646, 728, 765, 419, 652, 652, 652, 652, 652, 652, 662, 662, 662, 662, 491, 664, 437, 666, 749, 206, 583, 765, 686, 500, 291, 246, 693, 698, 651, 265, 265, 265, 427, 710, 711, 994, 565, 510, 764, 741, 427, 291, 541, 746, 291, 765, 749, 753, 753, 291, 427, 427, 265, 224, 775, 775, 354, 814, 235, 849, 427, 804, 805, 964, 145, 809, 809, 809, 809, 810, 810, 246, 808, 427, 824, 377, 826, 828, 721, 830, 830, 830, 830, 830, 830, 202, 840, 840, 764, 847, 847, 847, 847, 227, 847, 852, 852, 853, 853, 853, 853, 853, 853, 853, 364, 864, 864, 864, 741, 491, 614, 868, 1001, 265, 245, 245, 427, 892, 896, 896, 896, 896, 363, 487, 849, 764, 753, 246, 812, 467, 291, 537, 919, 919, 291, 427, 311, 28, 936, 937, 937, 937, 937, 937, 937, 937, 291, 941, 944, 1007, 849, 949, 949, 949, 949, 949, 949, 949, 949, 949, 949, 949, 949, 949, 949, 949, 949, 949, 949, 949, 949, 949, 949, 949, 949, 949, 949, 949, 949, 949, 949, 949, 949, 949, 949, 949, 949, 949, 949, 949, 949, 949, 949, 949, 949, 949, 949, 949, 949, 949, 949, 949, 949, 949, 949, 949, 949, 949, 949, 949, 949, 949, 949, 949, 949, 949, 949, 949, 949, 949, 949, 117, 245, 949, 949, 949, 949, 949, 949, 949, 949, 949, 949, 949, 949, 949, 949, 949, 949, 949, 949, 949, 949, 949, 949, 949, 949, 949, 949, 949, 949, 949, 949, 949, 949, 949, 949, 949, 949, 949, 949, 950, 950, 950, 950, 952, 952, 955, 956, 956, 964, 964, 967, 967, 967, 977, 950, 1001, 1001, 999, 1007, 1017, 224, 374, 1022, 1026, 1026, 1028, 1028, 1028, 1028, 809, 1035]\n",
            "[0, 2, 3, 5, 5, 8, 8, 8, 8, 8, 8, 8, 14, 18, 21, 22, 22, 27, 27, 28, 29, 30, 30, 30, 31, 31, 32, 34, 34, 37, 37, 37, 37, 37, 37, 37, 38, 44, 47, 49, 49, 49, 49, 49, 49, 49, 49, 49, 49, 49, 49, 49, 49, 49, 53, 53, 58, 61, 71, 71, 74, 76, 76, 77, 79, 79, 79, 79, 79, 79, 79, 79, 79, 79, 79, 79, 79, 79, 79, 79, 79, 79, 79, 79, 79, 79, 79, 79, 79, 79, 79, 79, 79, 79, 79, 79, 79, 79, 79, 79, 80, 80, 80, 80, 80, 80, 80, 80, 80, 88, 89, 89, 89, 90, 91, 92, 94, 94, 94, 94, 94, 94, 94, 94, 96, 96, 98, 98, 98, 100, 100, 100, 100, 100, 100, 100, 100, 100, 100, 101, 102, 108, 108, 108, 109, 111, 111, 111, 111, 111, 111, 111, 117, 120, 120, 120, 122, 125, 125, 125, 125, 125, 125, 125, 125, 125, 125, 125, 125, 127, 129, 131, 132, 142, 142, 144, 150, 150, 151, 151, 153, 157, 157, 158, 165, 165, 166, 166, 166, 168, 172, 172, 172, 172, 172, 172, 172, 180, 182, 182, 182, 182, 182, 182, 183, 183, 183, 183, 183, 183, 183, 183, 183, 183, 183, 183, 183, 184, 184, 185, 187, 187, 187, 189, 189, 190, 190, 190, 190, 190, 190, 193, 197, 197, 205, 210, 210, 210, 210, 214, 214, 214, 214, 214, 214, 214, 214, 214, 214, 214, 214, 214, 214, 216, 216, 218, 218, 218, 220, 220, 220, 220, 220, 222, 226, 228, 228, 228, 228, 228, 228, 228, 228, 228, 229, 234, 234, 235, 238, 238, 238, 240, 243, 243, 243, 243, 243, 243, 243, 244, 245, 245, 245, 245, 245, 245, 245, 245, 245, 246, 246, 246, 246, 249, 254, 254, 259, 260, 261, 262, 265, 265, 265, 265, 265, 265, 265, 265, 265, 265, 265, 265, 265, 265, 265, 265, 265, 265, 265, 265, 265, 265, 265, 265, 265, 268, 268, 268, 269, 270, 271, 276, 277, 288, 289, 289, 289, 289, 289, 289, 289, 289, 289, 289, 289, 289, 289, 289, 289, 289, 289, 289, 289, 289, 291, 293, 295, 299, 300, 300, 301, 301, 301, 304, 308, 309, 309, 309, 309, 309, 309, 317, 318, 318, 318, 318, 318, 318, 320, 321, 321, 323, 323, 325, 325, 325, 325, 325, 325, 325, 325, 325, 325, 325, 325, 325, 325, 325, 326, 327, 333, 334, 335, 336, 337, 337, 337, 337, 338, 343, 344, 347, 359, 359, 360, 360, 363, 363, 364, 364, 364, 364, 365, 380, 388, 392, 396, 402, 402, 405, 416, 418, 419, 419, 419, 419, 419, 419, 419, 419, 419, 419, 424, 426, 426, 427, 427, 427, 427, 427, 427, 427, 427, 427, 427, 427, 427, 427, 428, 430, 433, 434, 435, 443, 444, 444, 444, 455, 455, 455, 462, 465, 474, 475, 475, 475, 475, 476, 482, 483, 489, 491, 491, 491, 491, 492, 492, 499, 505, 509, 509, 516, 516, 517, 517, 517, 521, 524, 527, 529, 530, 530, 530, 530, 531, 535, 541, 541, 543, 543, 546, 548, 548, 548, 548, 548, 548, 565, 566, 567, 577, 577, 578, 579, 579, 584, 586, 588, 590, 590, 591, 592, 595, 597, 597, 598, 598, 606, 606, 607, 608, 610, 610, 610, 611, 614, 614, 614, 614, 619, 619, 619, 623, 623, 624, 633, 633, 638, 644, 644, 646, 646, 646, 646, 646, 648, 648, 651, 652, 652, 652, 652, 652, 652, 662, 662, 662, 662, 663, 663, 663, 666, 669, 681, 683, 686, 686, 687, 689, 693, 693, 698, 700, 700, 701, 703, 707, 710, 711, 715, 718, 731, 733, 741, 745, 746, 746, 746, 746, 746, 749, 753, 753, 756, 763, 771, 775, 775, 775, 775, 782, 787, 794, 794, 800, 804, 805, 805, 807, 809, 809, 809, 809, 810, 810, 813, 815, 816, 824, 826, 826, 828, 829, 830, 830, 830, 830, 830, 830, 834, 840, 840, 840, 847, 847, 847, 847, 847, 847, 852, 852, 853, 853, 853, 853, 853, 853, 853, 861, 864, 864, 864, 865, 865, 867, 868, 871, 874, 876, 876, 888, 892, 896, 896, 896, 896, 896, 896, 898, 902, 903, 905, 906, 908, 916, 917, 919, 919, 920, 929, 931, 933, 936, 937, 937, 937, 937, 937, 937, 937, 941, 941, 944, 947, 948, 949, 949, 949, 949, 949, 949, 949, 949, 949, 949, 949, 949, 949, 949, 949, 949, 949, 949, 949, 949, 949, 949, 949, 949, 949, 949, 949, 949, 949, 949, 949, 949, 949, 949, 949, 949, 949, 949, 949, 949, 949, 949, 949, 949, 949, 949, 949, 949, 949, 949, 949, 949, 949, 949, 949, 949, 949, 949, 949, 949, 949, 949, 949, 949, 949, 949, 949, 949, 949, 949, 949, 949, 949, 949, 949, 949, 949, 949, 949, 949, 949, 949, 949, 949, 949, 949, 949, 949, 949, 949, 949, 949, 949, 949, 949, 949, 949, 949, 949, 949, 949, 949, 949, 949, 949, 949, 949, 949, 949, 949, 950, 950, 950, 950, 952, 952, 955, 956, 956, 964, 964, 967, 967, 967, 977, 1000, 1001, 1001, 1002, 1011, 1017, 1020, 1020, 1022, 1026, 1026, 1028, 1028, 1028, 1028, 1030, 1035]\n"
          ],
          "name": "stdout"
        }
      ]
    },
    {
      "cell_type": "code",
      "metadata": {
        "id": "XIC4zufnMxtq",
        "colab_type": "code",
        "colab": {
          "base_uri": "https://localhost:8080/",
          "height": 52
        },
        "outputId": "bd6c2943-dacc-444c-d3dc-d1a306e97d8a"
      },
      "source": [
        "correct_num = 0\n",
        "\n",
        "for i in range(0, 866):\n",
        "  if predict_list[i] == standard_list[i]:\n",
        "    correct_num = correct_num+1\n",
        "  else:\n",
        "    pass\n",
        "print(correct_num)\n",
        "\n",
        "predict_accuracy = correct_num/len(predict_list)\n",
        "print(predict_accuracy)"
      ],
      "execution_count": 80,
      "outputs": [
        {
          "output_type": "stream",
          "text": [
            "629\n",
            "0.7254901960784313\n"
          ],
          "name": "stdout"
        }
      ]
    },
    {
      "cell_type": "code",
      "metadata": {
        "id": "zlKMHp1CIaRJ",
        "colab_type": "code",
        "colab": {}
      },
      "source": [
        ""
      ],
      "execution_count": 0,
      "outputs": []
    }
  ]
}