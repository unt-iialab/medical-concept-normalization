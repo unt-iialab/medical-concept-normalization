{
  "nbformat": 4,
  "nbformat_minor": 0,
  "metadata": {
    "colab": {
      "name": "askApatient_9_pretraining.ipynb",
      "provenance": [],
      "collapsed_sections": [],
      "toc_visible": true,
      "include_colab_link": true
    },
    "kernelspec": {
      "name": "python3",
      "display_name": "Python 3"
    },
    "accelerator": "TPU"
  },
  "cells": [
    {
      "cell_type": "markdown",
      "metadata": {
        "id": "view-in-github",
        "colab_type": "text"
      },
      "source": [
        "<a href=\"https://colab.research.google.com/github/unt-iialab/medical-concept-normalization/blob/master/without-finetuning/askApatient_9_pretraining.ipynb\" target=\"_parent\"><img src=\"https://colab.research.google.com/assets/colab-badge.svg\" alt=\"Open In Colab\"/></a>"
      ]
    },
    {
      "cell_type": "code",
      "metadata": {
        "id": "adSi6i2-dWxy",
        "colab_type": "code",
        "colab": {}
      },
      "source": [
        "import os"
      ],
      "execution_count": 0,
      "outputs": []
    },
    {
      "cell_type": "code",
      "metadata": {
        "id": "E7xYCRGPjd9B",
        "colab_type": "code",
        "colab": {}
      },
      "source": [
        "base_dir = 'medical-concept-normalization'"
      ],
      "execution_count": 0,
      "outputs": []
    },
    {
      "cell_type": "code",
      "metadata": {
        "id": "yvIW3aUDjYNS",
        "colab_type": "code",
        "colab": {}
      },
      "source": [
        "os.mkdir(base_dir)"
      ],
      "execution_count": 0,
      "outputs": []
    },
    {
      "cell_type": "code",
      "metadata": {
        "id": "es-FFLlfk6SG",
        "colab_type": "code",
        "colab": {}
      },
      "source": [
        "os.mkdir('medical-concept-normalization/data_collection')"
      ],
      "execution_count": 0,
      "outputs": []
    },
    {
      "cell_type": "markdown",
      "metadata": {
        "id": "0R-Guw_VoJXm",
        "colab_type": "text"
      },
      "source": [
        "**Install fastai and clone the fastai for text classification**\n",
        "\n"
      ]
    },
    {
      "cell_type": "code",
      "metadata": {
        "id": "QVZa3Z0PmHFH",
        "colab_type": "code",
        "outputId": "72f1f89f-3960-48fa-eaf6-be3feb8d0e09",
        "colab": {
          "base_uri": "https://localhost:8080/",
          "height": 170
        }
      },
      "source": [
        "!curl https://course-v3.fast.ai/setup/colab | bash"
      ],
      "execution_count": 5,
      "outputs": [
        {
          "output_type": "stream",
          "text": [
            "  % Total    % Received % Xferd  Average Speed   Time    Time     Time  Current\n",
            "                                 Dload  Upload   Total   Spent    Left  Speed\n",
            "\r  0     0    0     0    0     0      0      0 --:--:-- --:--:-- --:--:--     0\r  0     0    0     0    0     0      0      0 --:--:-- --:--:-- --:--:--     0\n",
            "curl: (60) SSL certificate problem: certificate has expired\n",
            "More details here: https://curl.haxx.se/docs/sslcerts.html\n",
            "\n",
            "curl failed to verify the legitimacy of the server and therefore could not\n",
            "establish a secure connection to it. To learn more about this situation and\n",
            "how to fix it, please visit the web page mentioned above.\n"
          ],
          "name": "stdout"
        }
      ]
    },
    {
      "cell_type": "code",
      "metadata": {
        "id": "_FBFFEBrmJC0",
        "colab_type": "code",
        "outputId": "afd5a0ad-59ed-40de-c7d6-b9327a64a227",
        "colab": {
          "base_uri": "https://localhost:8080/",
          "height": 85
        }
      },
      "source": [
        "!git clone https://github.com/wshuyi/demo-nlp-classification-fastai.git"
      ],
      "execution_count": 6,
      "outputs": [
        {
          "output_type": "stream",
          "text": [
            "Cloning into 'demo-nlp-classification-fastai'...\n",
            "remote: Enumerating objects: 9, done.\u001b[K\n",
            "remote: Total 9 (delta 0), reused 0 (delta 0), pack-reused 9\u001b[K\n",
            "Unpacking objects: 100% (9/9), done.\n"
          ],
          "name": "stdout"
        }
      ]
    },
    {
      "cell_type": "code",
      "metadata": {
        "id": "66zfh_JqmWMU",
        "colab_type": "code",
        "colab": {}
      },
      "source": [
        "from fastai import *\n",
        "from fastai.text import *"
      ],
      "execution_count": 0,
      "outputs": []
    },
    {
      "cell_type": "markdown",
      "metadata": {
        "id": "mNIw-yALdBU9",
        "colab_type": "text"
      },
      "source": [
        "**Set the path of the data collections**"
      ]
    },
    {
      "cell_type": "code",
      "metadata": {
        "id": "pzH7VMh4mqCL",
        "colab_type": "code",
        "colab": {}
      },
      "source": [
        "path = Path('medical-concept-normalization/data_collection')"
      ],
      "execution_count": 0,
      "outputs": []
    },
    {
      "cell_type": "code",
      "metadata": {
        "id": "b8fjI6yyn4aS",
        "colab_type": "code",
        "colab": {}
      },
      "source": [
        "# training data set\n",
        "\n",
        "train_csv = path/'AskAPatient.fold-9.train.csv'\n",
        "train = pd.read_csv(train_csv, header=None)\n",
        "#train.head()\n",
        "#train.info()"
      ],
      "execution_count": 0,
      "outputs": []
    },
    {
      "cell_type": "code",
      "metadata": {
        "id": "Hmlr-bAorfHd",
        "colab_type": "code",
        "outputId": "09faa18e-9f16-403f-e7b8-9049df795f92",
        "colab": {
          "base_uri": "https://localhost:8080/",
          "height": 204
        }
      },
      "source": [
        "# validating data set\n",
        "\n",
        "valid = pd.read_csv(path/\"AskAPatient.fold-9.validation.csv\",header=None)\n",
        "valid.head()"
      ],
      "execution_count": 11,
      "outputs": [
        {
          "output_type": "execute_result",
          "data": {
            "text/html": [
              "<div>\n",
              "<style scoped>\n",
              "    .dataframe tbody tr th:only-of-type {\n",
              "        vertical-align: middle;\n",
              "    }\n",
              "\n",
              "    .dataframe tbody tr th {\n",
              "        vertical-align: top;\n",
              "    }\n",
              "\n",
              "    .dataframe thead th {\n",
              "        text-align: right;\n",
              "    }\n",
              "</style>\n",
              "<table border=\"1\" class=\"dataframe\">\n",
              "  <thead>\n",
              "    <tr style=\"text-align: right;\">\n",
              "      <th></th>\n",
              "      <th>0</th>\n",
              "      <th>1</th>\n",
              "    </tr>\n",
              "  </thead>\n",
              "  <tbody>\n",
              "    <tr>\n",
              "      <th>0</th>\n",
              "      <td>3</td>\n",
              "      <td>cracking sensations in my joints</td>\n",
              "    </tr>\n",
              "    <tr>\n",
              "      <th>1</th>\n",
              "      <td>5</td>\n",
              "      <td>fast and slow heartbeat</td>\n",
              "    </tr>\n",
              "    <tr>\n",
              "      <th>2</th>\n",
              "      <td>8</td>\n",
              "      <td>arthritis</td>\n",
              "    </tr>\n",
              "    <tr>\n",
              "      <th>3</th>\n",
              "      <td>8</td>\n",
              "      <td>arthritis</td>\n",
              "    </tr>\n",
              "    <tr>\n",
              "      <th>4</th>\n",
              "      <td>8</td>\n",
              "      <td>arthritis</td>\n",
              "    </tr>\n",
              "  </tbody>\n",
              "</table>\n",
              "</div>"
            ],
            "text/plain": [
              "   0                                 1\n",
              "0  3  cracking sensations in my joints\n",
              "1  5           fast and slow heartbeat\n",
              "2  8                         arthritis\n",
              "3  8                         arthritis\n",
              "4  8                         arthritis"
            ]
          },
          "metadata": {
            "tags": []
          },
          "execution_count": 11
        }
      ]
    },
    {
      "cell_type": "code",
      "metadata": {
        "id": "cOza9dfSsBud",
        "colab_type": "code",
        "outputId": "7eb98dbc-fb48-4c3a-c456-55dcbea4d016",
        "colab": {
          "base_uri": "https://localhost:8080/",
          "height": 204
        }
      },
      "source": [
        "# testing data set\n",
        "\n",
        "test = pd.read_csv(path/\"AskAPatient.fold-9.test.csv\",header=None)\n",
        "test.head()"
      ],
      "execution_count": 12,
      "outputs": [
        {
          "output_type": "execute_result",
          "data": {
            "text/html": [
              "<div>\n",
              "<style scoped>\n",
              "    .dataframe tbody tr th:only-of-type {\n",
              "        vertical-align: middle;\n",
              "    }\n",
              "\n",
              "    .dataframe tbody tr th {\n",
              "        vertical-align: top;\n",
              "    }\n",
              "\n",
              "    .dataframe thead th {\n",
              "        text-align: right;\n",
              "    }\n",
              "</style>\n",
              "<table border=\"1\" class=\"dataframe\">\n",
              "  <thead>\n",
              "    <tr style=\"text-align: right;\">\n",
              "      <th></th>\n",
              "      <th>0</th>\n",
              "      <th>1</th>\n",
              "    </tr>\n",
              "  </thead>\n",
              "  <tbody>\n",
              "    <tr>\n",
              "      <th>0</th>\n",
              "      <td>2</td>\n",
              "      <td>painful heels</td>\n",
              "    </tr>\n",
              "    <tr>\n",
              "      <th>1</th>\n",
              "      <td>4</td>\n",
              "      <td>Discoloration of skin [blotchy] on the neck</td>\n",
              "    </tr>\n",
              "    <tr>\n",
              "      <th>2</th>\n",
              "      <td>5</td>\n",
              "      <td>my heart rate jumped to 106</td>\n",
              "    </tr>\n",
              "    <tr>\n",
              "      <th>3</th>\n",
              "      <td>7</td>\n",
              "      <td>goiter</td>\n",
              "    </tr>\n",
              "    <tr>\n",
              "      <th>4</th>\n",
              "      <td>8</td>\n",
              "      <td>arthritis</td>\n",
              "    </tr>\n",
              "  </tbody>\n",
              "</table>\n",
              "</div>"
            ],
            "text/plain": [
              "   0                                            1\n",
              "0  2                                painful heels\n",
              "1  4  Discoloration of skin [blotchy] on the neck\n",
              "2  5                  my heart rate jumped to 106\n",
              "3  7                                       goiter\n",
              "4  8                                    arthritis"
            ]
          },
          "metadata": {
            "tags": []
          },
          "execution_count": 12
        }
      ]
    },
    {
      "cell_type": "code",
      "metadata": {
        "id": "Vo-YNvVYoaH6",
        "colab_type": "code",
        "colab": {}
      },
      "source": [
        "# Creating DataBunch for language modelling\n",
        "\n",
        "data_lm = TextLMDataBunch.from_csv(path, 'fine-tuning_language_model_asapatient_twadr_data.csv')"
      ],
      "execution_count": 0,
      "outputs": []
    },
    {
      "cell_type": "code",
      "metadata": {
        "id": "qcV-9kMnNLBf",
        "colab_type": "code",
        "colab": {}
      },
      "source": [
        ""
      ],
      "execution_count": 0,
      "outputs": []
    },
    {
      "cell_type": "code",
      "metadata": {
        "id": "1ScY9afDsnvE",
        "colab_type": "code",
        "colab": {}
      },
      "source": [
        "# Creating DataBunch for classification\n",
        "\n",
        "# data_clas = TextClasDataBunch.from_df(path, train, valid, test, vocab=data_lm.train_ds.vocab, bs=128)"
      ],
      "execution_count": 0,
      "outputs": []
    },
    {
      "cell_type": "code",
      "metadata": {
        "id": "gzrSdQcvey9p",
        "colab_type": "code",
        "colab": {}
      },
      "source": [
        "data_clas = TextClasDataBunch.from_df(path, train, valid, vocab=data_lm.train_ds.vocab, bs=128)"
      ],
      "execution_count": 0,
      "outputs": []
    },
    {
      "cell_type": "code",
      "metadata": {
        "id": "MD27Tf0Ke3ou",
        "colab_type": "code",
        "colab": {}
      },
      "source": [
        "data_clas.add_test(test,label=0)\n"
      ],
      "execution_count": 0,
      "outputs": []
    },
    {
      "cell_type": "code",
      "metadata": {
        "id": "-dpjnk_rstwk",
        "colab_type": "code",
        "colab": {}
      },
      "source": [
        "data_lm.save()\n",
        "data_clas.save()"
      ],
      "execution_count": 0,
      "outputs": []
    },
    {
      "cell_type": "code",
      "metadata": {
        "id": "4OkiJa36sw5s",
        "colab_type": "code",
        "colab": {
          "base_uri": "https://localhost:8080/",
          "height": 1000
        },
        "outputId": "c2b79602-2bc8-4470-94eb-992c71d74744"
      },
      "source": [
        "data_lm.train_ds.vocab.itos"
      ],
      "execution_count": 18,
      "outputs": [
        {
          "output_type": "execute_result",
          "data": {
            "text/plain": [
              "['xxunk',\n",
              " 'xxpad',\n",
              " 'xxbos',\n",
              " 'xxeos',\n",
              " 'xxfld',\n",
              " 'xxmaj',\n",
              " 'xxup',\n",
              " 'xxrep',\n",
              " 'xxwrep',\n",
              " 'pain',\n",
              " 'lipitor',\n",
              " 'in',\n",
              " 'of',\n",
              " 'muscle',\n",
              " 'severe',\n",
              " 'my',\n",
              " 'to',\n",
              " 'myalgia',\n",
              " 'fatigue',\n",
              " 'loss',\n",
              " 'and',\n",
              " 'lower',\n",
              " '-',\n",
              " 'cramp',\n",
              " 'limb',\n",
              " 'weakness',\n",
              " 'depression',\n",
              " 'the',\n",
              " 'stomach',\n",
              " 'back',\n",
              " 'joint',\n",
              " 'cramps',\n",
              " 'increased',\n",
              " 'memory',\n",
              " 'upper',\n",
              " 'gas',\n",
              " 'leg',\n",
              " 'headache',\n",
              " 'mood',\n",
              " 'insomnia',\n",
              " 'pains',\n",
              " 'legs',\n",
              " 'disorder',\n",
              " 'shoulder',\n",
              " 'feeling',\n",
              " 'anxiety',\n",
              " 'unable',\n",
              " 'knee',\n",
              " 'foot',\n",
              " ',',\n",
              " 'arthralgia',\n",
              " 'weight',\n",
              " 'neck',\n",
              " 'like',\n",
              " 'excessive',\n",
              " 'nausea',\n",
              " 'gastrointestinal',\n",
              " 'dizziness',\n",
              " 'aches',\n",
              " 'numbness',\n",
              " 'abnormal',\n",
              " 'arthritis',\n",
              " 'heart',\n",
              " 'hip',\n",
              " 'disease',\n",
              " 'tired',\n",
              " 'sleep',\n",
              " 'swelling',\n",
              " 'me',\n",
              " 'abdominal',\n",
              " 'skin',\n",
              " '/',\n",
              " 'bleeding',\n",
              " 'arthrotec',\n",
              " 'difficulty',\n",
              " 'asthenia',\n",
              " ')',\n",
              " 'walk',\n",
              " '(',\n",
              " 'a',\n",
              " 'blood',\n",
              " 'walking',\n",
              " 'chest',\n",
              " 'feet',\n",
              " 'stiffness',\n",
              " 'problems',\n",
              " 'vision',\n",
              " 'ache',\n",
              " 'liver',\n",
              " 'i',\n",
              " 'all',\n",
              " 'decreased',\n",
              " 'syndrome',\n",
              " 'burning',\n",
              " 'hair',\n",
              " 'muscles',\n",
              " 'withdrawal',\n",
              " 'hand',\n",
              " 'backache',\n",
              " 'extreme',\n",
              " 'not',\n",
              " 'energy',\n",
              " 'zocor',\n",
              " 'symptoms',\n",
              " 'pins',\n",
              " 'needles',\n",
              " 'diarrhoea',\n",
              " 'body',\n",
              " 'impairment',\n",
              " 'amnesia',\n",
              " 'gain',\n",
              " 'cramping',\n",
              " 'tingling',\n",
              " 'up',\n",
              " 'disturbance',\n",
              " 'very',\n",
              " 'rash',\n",
              " 'calf',\n",
              " 'on',\n",
              " 'low',\n",
              " 'cholesterol',\n",
              " 'lack',\n",
              " 'symptom',\n",
              " 'disability',\n",
              " 'could',\n",
              " 'pressure',\n",
              " 'left',\n",
              " 'appetite',\n",
              " 'irritable',\n",
              " 'high',\n",
              " 'short',\n",
              " 'stiff',\n",
              " 'sleeplessness',\n",
              " 'bloating',\n",
              " 'feel',\n",
              " 'disorders',\n",
              " 'headaches',\n",
              " \"n't\",\n",
              " 'term',\n",
              " 'finding',\n",
              " 'acute',\n",
              " 'neuropathy',\n",
              " 'sensation',\n",
              " 'behavior',\n",
              " 'attack',\n",
              " 'constipation',\n",
              " 'poor',\n",
              " 'blurred',\n",
              " 'arm',\n",
              " 'drug',\n",
              " 'hands',\n",
              " 'sore',\n",
              " 'arms',\n",
              " 'dry',\n",
              " 'mental',\n",
              " 'infarction',\n",
              " 'diseases',\n",
              " 'voltaren',\n",
              " 'hurt',\n",
              " 'balance',\n",
              " 'vaginal',\n",
              " 'myocardial',\n",
              " 'acid',\n",
              " 'ankle',\n",
              " 'atrophy',\n",
              " 'swings',\n",
              " 'vertigo',\n",
              " 'with',\n",
              " 'swollen',\n",
              " 'itching',\n",
              " \"'s\",\n",
              " 'somnolence',\n",
              " 'joints',\n",
              " 'tiredness',\n",
              " 'myositis',\n",
              " 'generalised',\n",
              " 'tremor',\n",
              " 'depressed',\n",
              " 'exhaustion',\n",
              " 'painful',\n",
              " 'got',\n",
              " 'pravachol',\n",
              " 'spasm',\n",
              " 'mentally',\n",
              " 'panic',\n",
              " 'upset',\n",
              " 'time',\n",
              " 'is',\n",
              " 'discomfort',\n",
              " 'diarrhea',\n",
              " 'diabetes',\n",
              " 'illness',\n",
              " 'vomiting',\n",
              " 'elevated',\n",
              " 'injury',\n",
              " 'libido',\n",
              " 'raised',\n",
              " 'visual',\n",
              " 'was',\n",
              " 'kidney',\n",
              " 'at',\n",
              " 'right',\n",
              " 'infection',\n",
              " 'eye',\n",
              " 'sweating',\n",
              " 'out',\n",
              " 'influenza',\n",
              " 'ubidecarenone',\n",
              " 'dreams',\n",
              " 'sleeping',\n",
              " 'hyperactive',\n",
              " 'reduced',\n",
              " 'can',\n",
              " 'serum',\n",
              " 'damage',\n",
              " 'dull',\n",
              " 'so',\n",
              " 'bad',\n",
              " 'hazy',\n",
              " 'spasms',\n",
              " 'weak',\n",
              " 'elbow',\n",
              " 'constant',\n",
              " 'brain',\n",
              " 'shoulders',\n",
              " 'toe',\n",
              " 'had',\n",
              " 'concentration',\n",
              " 'drowsiness',\n",
              " 'throat',\n",
              " 'get',\n",
              " 'failure',\n",
              " 'lightheadedness',\n",
              " 'crestor',\n",
              " 'knees',\n",
              " 'reflux',\n",
              " 'both',\n",
              " 'urine',\n",
              " 'feelings',\n",
              " 'chronic',\n",
              " 'flatulence',\n",
              " 'awake',\n",
              " 'tendonitis',\n",
              " 'ceiling',\n",
              " 'attention',\n",
              " 'myopathy',\n",
              " 'heavy',\n",
              " 'movement',\n",
              " 'excitability',\n",
              " 'sclerosis',\n",
              " 'concentrate',\n",
              " 'cold',\n",
              " 'problem',\n",
              " 'state',\n",
              " 'thigh',\n",
              " 'confusion',\n",
              " 'fibromyalgia',\n",
              " 'peripheral',\n",
              " 'taste',\n",
              " 'mellitus',\n",
              " 'night',\n",
              " 'bed',\n",
              " 'migraine',\n",
              " 'flu',\n",
              " 'level',\n",
              " 'or',\n",
              " 'attacks',\n",
              " 'ulcer',\n",
              " 'respiratory',\n",
              " 'impaired',\n",
              " 'bipolar',\n",
              " '#',\n",
              " 'allergic',\n",
              " 'face',\n",
              " 'from',\n",
              " 'no',\n",
              " 'renal',\n",
              " 'for',\n",
              " 'palpitations',\n",
              " 'malaise',\n",
              " 'off',\n",
              " 'hips',\n",
              " 'eyes',\n",
              " 'head',\n",
              " 'breast',\n",
              " 'speech',\n",
              " 'paraesthesia',\n",
              " 'reaction',\n",
              " 'facial',\n",
              " 'wind',\n",
              " 'intense',\n",
              " 'simvastatin',\n",
              " 'wakefulness',\n",
              " 'over',\n",
              " 'finger',\n",
              " 'drowsy',\n",
              " 'stress',\n",
              " 'lupus',\n",
              " 'function',\n",
              " 'cough',\n",
              " 'bone',\n",
              " 'tinnitus',\n",
              " 'menstrual',\n",
              " 'down',\n",
              " 'nerve',\n",
              " 'ca',\n",
              " 'twitch',\n",
              " 'nasal',\n",
              " 'soreness',\n",
              " 'ezetimibe',\n",
              " 'calves',\n",
              " 'aching',\n",
              " 'uterine',\n",
              " 'parkinson',\n",
              " 'stairs',\n",
              " 'breathing',\n",
              " 'esters',\n",
              " 'type',\n",
              " 'terrible',\n",
              " 'charleyhorse',\n",
              " 'hot',\n",
              " 'limbs',\n",
              " 'by',\n",
              " 'toes',\n",
              " 'motivation',\n",
              " 'mild',\n",
              " 'have',\n",
              " 'oedema',\n",
              " 'edema',\n",
              " 'ascorbic',\n",
              " 'tendon',\n",
              " 'c',\n",
              " 'tightness',\n",
              " 'restless',\n",
              " 'hypertension',\n",
              " 'dysfunction',\n",
              " 'sinus',\n",
              " 'mouth',\n",
              " 'celebrex',\n",
              " 'excruciating',\n",
              " 'site',\n",
              " 'dyspnoea',\n",
              " 'dizzy',\n",
              " 'are',\n",
              " 'ankles',\n",
              " 'hunger',\n",
              " 'bowel',\n",
              " 'indigestion',\n",
              " 'tract',\n",
              " 'gout',\n",
              " 'sleepy',\n",
              " 'rage',\n",
              " 'malignant',\n",
              " 'ibuprofen',\n",
              " 'swallowing',\n",
              " 'lateral',\n",
              " 'heel',\n",
              " 'fever',\n",
              " 'felt',\n",
              " 'general',\n",
              " 'suicidal',\n",
              " 'nightmares',\n",
              " 'pruritus',\n",
              " 'multiple',\n",
              " 'urinary',\n",
              " 'infections',\n",
              " 'heartburn',\n",
              " 'cancer',\n",
              " 'system',\n",
              " 'wrist',\n",
              " 'fingers',\n",
              " 'day',\n",
              " 'asthma',\n",
              " 'menopause',\n",
              " 'dark',\n",
              " 'initial',\n",
              " 'anger',\n",
              " 'cardiac',\n",
              " 'nervous',\n",
              " 'hemorrhage',\n",
              " 'has',\n",
              " 'deficit',\n",
              " 'oil',\n",
              " 'rheumatoid',\n",
              " 'numb',\n",
              " 'thoughts',\n",
              " 'trouble',\n",
              " 'psychotic',\n",
              " 'strength',\n",
              " 'think',\n",
              " 'enzymes',\n",
              " 'tachycardia',\n",
              " 'amyotrophic',\n",
              " 'sick',\n",
              " 'fish',\n",
              " 'mg',\n",
              " 'ear',\n",
              " 'it',\n",
              " 'asleep',\n",
              " 'carcinoma',\n",
              " 'extremity',\n",
              " 'hypersomnia',\n",
              " 'middle',\n",
              " 'coq10',\n",
              " 'change',\n",
              " \"'m\",\n",
              " 'vitamin',\n",
              " 'hallucinations',\n",
              " 'erythema',\n",
              " 'congestion',\n",
              " 'getting',\n",
              " 'lost',\n",
              " 'fenofibrate',\n",
              " 'creatinine',\n",
              " 'lethargy',\n",
              " 'sexual',\n",
              " 'distress',\n",
              " 'provoked',\n",
              " 'zombie',\n",
              " 'dermatitis',\n",
              " 'cell',\n",
              " 'advil',\n",
              " 'tolerance',\n",
              " 'gastric',\n",
              " 'hungry',\n",
              " 'fear',\n",
              " 'makes',\n",
              " 'horses',\n",
              " 'fog',\n",
              " 'falling',\n",
              " 'inflammation',\n",
              " 'aleve',\n",
              " 'always',\n",
              " 'daytime',\n",
              " 'sleepiness',\n",
              " 'accident',\n",
              " 'irritation',\n",
              " 'mobility',\n",
              " 'twitching',\n",
              " 'cerebrovascular',\n",
              " 'sharp',\n",
              " 'depressive',\n",
              " 'loose',\n",
              " 'thighs',\n",
              " 'weird',\n",
              " 'tylenol',\n",
              " 'pulmonary',\n",
              " 'breath',\n",
              " 'erythematosus',\n",
              " 'plantar',\n",
              " 'thinking',\n",
              " 'clearly',\n",
              " 'move',\n",
              " 'exercise',\n",
              " 'fatigued',\n",
              " 'diabetic',\n",
              " 'still',\n",
              " 'present',\n",
              " 'charley',\n",
              " 'colic',\n",
              " 'inflammatory',\n",
              " 'major',\n",
              " 'neoplasm',\n",
              " 'elbows',\n",
              " 'hepatic',\n",
              " 'tricor',\n",
              " 'disturbances',\n",
              " 'anemia',\n",
              " 'diclofenac',\n",
              " 'sudden',\n",
              " 'side',\n",
              " 'irregular',\n",
              " 'tongue',\n",
              " 'localised',\n",
              " '+',\n",
              " '&',\n",
              " 'eczema',\n",
              " '3',\n",
              " 'tight',\n",
              " 'stool',\n",
              " '10',\n",
              " 'decrease',\n",
              " 'hardly',\n",
              " 'pulse',\n",
              " 'moody',\n",
              " 'hurts',\n",
              " 'death',\n",
              " 'rhabdomyolysis',\n",
              " 'retention',\n",
              " 'colitis',\n",
              " 'gait',\n",
              " 'prednisone',\n",
              " 'personality',\n",
              " 'barely',\n",
              " 'sweat',\n",
              " 'slurred',\n",
              " 'more',\n",
              " 'aggravated',\n",
              " 'dependence',\n",
              " 'paracetamol',\n",
              " 'wide',\n",
              " 'emotional',\n",
              " 'liptor',\n",
              " 'do',\n",
              " 'every',\n",
              " '2',\n",
              " 'itchy',\n",
              " 'sweats',\n",
              " 'eat',\n",
              " 'vivid',\n",
              " 'fasciitis',\n",
              " 'muscular',\n",
              " 'abdomen',\n",
              " 'when',\n",
              " 'one',\n",
              " 'syncope',\n",
              " 'nauseous',\n",
              " 'being',\n",
              " 'compulsive',\n",
              " 'bursitis',\n",
              " 'haemorrhage',\n",
              " 'inability',\n",
              " 'shortness',\n",
              " 'tension',\n",
              " 'deep',\n",
              " 'bladder',\n",
              " 'musculoskeletal',\n",
              " 'zetia',\n",
              " 'cerebral',\n",
              " 'rupture',\n",
              " 'bronchitis',\n",
              " 'menorrhagia',\n",
              " 'pneumonia',\n",
              " 'that',\n",
              " 'als',\n",
              " 'ringing',\n",
              " 'cortisone',\n",
              " 'flushing',\n",
              " 'light',\n",
              " 'osteoarthritis',\n",
              " 'potassium',\n",
              " 'depersonalization',\n",
              " 'eating',\n",
              " 'neurontin',\n",
              " 'your',\n",
              " 'social',\n",
              " 'venous',\n",
              " 'achilles',\n",
              " 'drive',\n",
              " 'ventricular',\n",
              " 'seizures',\n",
              " 'hard',\n",
              " 'conditions',\n",
              " 'frequent',\n",
              " 'sensations',\n",
              " 'necrosis',\n",
              " 'interest',\n",
              " 'episode',\n",
              " 'lose',\n",
              " 'arrest',\n",
              " 'bite',\n",
              " 'paranoia',\n",
              " 'paralysis',\n",
              " 'rigidity',\n",
              " 'norvasc',\n",
              " 'atorvastatin',\n",
              " 'extremely',\n",
              " 'forgetful',\n",
              " 'movements',\n",
              " 'red',\n",
              " 'hurting',\n",
              " 'empty',\n",
              " 'stamina',\n",
              " ':',\n",
              " 'losing',\n",
              " 'sex',\n",
              " 'ability',\n",
              " 'natural',\n",
              " 'rectal',\n",
              " 'obsessive',\n",
              " 'lopid',\n",
              " 'traumatic',\n",
              " 'strain',\n",
              " 'aptyalism',\n",
              " 'omega-3-acid',\n",
              " 'ethyl',\n",
              " 'esters-90',\n",
              " 'non',\n",
              " 'neuralgia',\n",
              " 'count',\n",
              " 'sugar',\n",
              " 'zoloft',\n",
              " 'menstruation',\n",
              " 'feels',\n",
              " 'make',\n",
              " 'motor',\n",
              " 'heaviness',\n",
              " 'palsy',\n",
              " 'crazy',\n",
              " 'looks',\n",
              " 'spasmodic',\n",
              " 'corneal',\n",
              " 'density',\n",
              " 'even',\n",
              " 'oral',\n",
              " 'localized',\n",
              " 'paranoid',\n",
              " 'just',\n",
              " 'area',\n",
              " 'been',\n",
              " 'little',\n",
              " 'lipex',\n",
              " 'changes',\n",
              " 'scalp',\n",
              " 'bell',\n",
              " 'adderall',\n",
              " 'coronary',\n",
              " 'arrhythmia',\n",
              " 'candidiasis',\n",
              " 'anything',\n",
              " 'abuse',\n",
              " 'climb',\n",
              " 'stroke',\n",
              " 'you',\n",
              " 'sense',\n",
              " 'intolerance',\n",
              " 'foggy',\n",
              " 'fast',\n",
              " 'bulimia',\n",
              " 'glucose',\n",
              " 'as',\n",
              " 'tooth',\n",
              " 'tenderness',\n",
              " 'cpk',\n",
              " 'started',\n",
              " 'horrible',\n",
              " 'craving',\n",
              " 'increase',\n",
              " 'effect',\n",
              " 'rapid',\n",
              " 'around',\n",
              " 'intoxication',\n",
              " 'rhinitis',\n",
              " 'altered',\n",
              " 'fluid',\n",
              " 'genital',\n",
              " 'blurry',\n",
              " 'migraines',\n",
              " 'lung',\n",
              " 'injection',\n",
              " 'ears',\n",
              " 'pancreatitis',\n",
              " 'withdrawals',\n",
              " 'region',\n",
              " 'self',\n",
              " 'delusional',\n",
              " 'suicide',\n",
              " 'forearm',\n",
              " 'limping',\n",
              " 'alcohol',\n",
              " 'unwell',\n",
              " 'exhausted',\n",
              " 'due',\n",
              " 'am',\n",
              " 'lift',\n",
              " 'ms',\n",
              " 'consciousness',\n",
              " 'codeine',\n",
              " 'disc',\n",
              " 'injuries',\n",
              " 'thirst',\n",
              " 'periods',\n",
              " 'neoplasms',\n",
              " 'euphoric',\n",
              " 'sight',\n",
              " '6',\n",
              " '1',\n",
              " 'tunnel',\n",
              " 'menopausal',\n",
              " '20',\n",
              " 'bruising',\n",
              " 'need',\n",
              " '.',\n",
              " 'stabbing',\n",
              " 'degenerative',\n",
              " 'crying',\n",
              " 'difficult',\n",
              " 'tablet',\n",
              " 'generalized',\n",
              " 'became',\n",
              " 'electrocardiogram',\n",
              " 'haematuria',\n",
              " 'mass',\n",
              " 'bp',\n",
              " 'aphasia',\n",
              " 'nt',\n",
              " 'carpal',\n",
              " 'arthropod',\n",
              " 'permanent',\n",
              " 'diovan',\n",
              " 'stand',\n",
              " 'erection',\n",
              " 'transient',\n",
              " 'inflamation',\n",
              " 'q10',\n",
              " 'shaking',\n",
              " 'sedated',\n",
              " 'morning',\n",
              " 'creatine',\n",
              " 'irritability',\n",
              " 'random',\n",
              " 'cystitis',\n",
              " 'sneezing',\n",
              " 'co',\n",
              " 'worse',\n",
              " 'food',\n",
              " 'going',\n",
              " 'urticaria',\n",
              " 'forgetfulness',\n",
              " 'sun',\n",
              " 'psychosis',\n",
              " 'omega',\n",
              " 'lipoprotein',\n",
              " 'metastatic',\n",
              " 'dehydration',\n",
              " 'go',\n",
              " 'issues',\n",
              " 'clumsiness',\n",
              " 'much',\n",
              " 'bloated',\n",
              " 'female',\n",
              " 'whole',\n",
              " 'sciatica',\n",
              " 'digestive',\n",
              " 'partial',\n",
              " 'ejaculation',\n",
              " 'hepatitis',\n",
              " 'spotting',\n",
              " 'mind',\n",
              " 'sever',\n",
              " 'central',\n",
              " 'endometriosis',\n",
              " 'b',\n",
              " 'binge',\n",
              " 'fracture',\n",
              " 'allergy',\n",
              " 'extremities',\n",
              " 'agitated',\n",
              " 'overdose',\n",
              " 'insufficiency',\n",
              " 'alopecia',\n",
              " 'were',\n",
              " 'coated',\n",
              " 'diastolic',\n",
              " 'persistent',\n",
              " 'herpes',\n",
              " 'limp',\n",
              " 'cognition',\n",
              " 'chill',\n",
              " 'wrists',\n",
              " 'angry',\n",
              " 'well',\n",
              " 'sides',\n",
              " 'generally',\n",
              " 'went',\n",
              " 'tissue',\n",
              " 'period',\n",
              " 'drink',\n",
              " 'same',\n",
              " 'sickness',\n",
              " 'complex',\n",
              " 'block',\n",
              " 'too',\n",
              " 'uterus',\n",
              " 'circulation',\n",
              " 'gastritis',\n",
              " 'choking',\n",
              " 'involuntary',\n",
              " 'acne',\n",
              " 'perforation',\n",
              " 'days',\n",
              " 'obstruction',\n",
              " 'eructation',\n",
              " 'white',\n",
              " 'than',\n",
              " 'slight',\n",
              " 'triglycerides',\n",
              " 'overall',\n",
              " 'standing',\n",
              " 'erectile',\n",
              " 'levels',\n",
              " 'everything',\n",
              " 'hypochondriasis',\n",
              " 'eyesight',\n",
              " 'be',\n",
              " 'between',\n",
              " 'thinning',\n",
              " 'lot',\n",
              " 'enzyme',\n",
              " 'behaviour',\n",
              " 'bacterial',\n",
              " 'twitches',\n",
              " 'alzheimer',\n",
              " 'things',\n",
              " 'prolonged',\n",
              " 'jaw',\n",
              " 'gland',\n",
              " 'jaundice',\n",
              " '-pelvis',\n",
              " 'sinusitis',\n",
              " 'able',\n",
              " 'unhappy',\n",
              " 'rate',\n",
              " 'misoprostol',\n",
              " 'burn',\n",
              " 'application',\n",
              " 'intervertebral',\n",
              " 'hyper',\n",
              " 'despair',\n",
              " 'ached',\n",
              " 'gained',\n",
              " 'incontinence',\n",
              " 'lbs',\n",
              " 'remember',\n",
              " 'adenocarcinoma',\n",
              " 'hives',\n",
              " 'film',\n",
              " 'test',\n",
              " 'aspirin',\n",
              " 'away',\n",
              " 'tender',\n",
              " 'into',\n",
              " 'hit',\n",
              " 'slightly',\n",
              " 'ani',\n",
              " 'week',\n",
              " 'spine',\n",
              " 'tumour',\n",
              " '5',\n",
              " 'shock',\n",
              " 'post',\n",
              " 'vasculitis',\n",
              " 'cutaneous',\n",
              " 'lipidil',\n",
              " 'chills',\n",
              " 'unsteady',\n",
              " 'fatty',\n",
              " 'atrial',\n",
              " 'muscels',\n",
              " 'tendency',\n",
              " 'entire',\n",
              " 'infective',\n",
              " 'almost',\n",
              " 'fractures',\n",
              " 'testosterone',\n",
              " 'chair',\n",
              " 'metabolic',\n",
              " 'agony',\n",
              " 'anxious',\n",
              " 'super',\n",
              " 'arthritic',\n",
              " 'desire',\n",
              " 'thoracic',\n",
              " 'drunk',\n",
              " 'water',\n",
              " 'achy',\n",
              " 'limitation',\n",
              " 'fatique',\n",
              " 'intestinal',\n",
              " 'moodiness',\n",
              " 'something',\n",
              " 'different',\n",
              " 'stools',\n",
              " 'trauma',\n",
              " 'moving',\n",
              " 'yellow',\n",
              " 'touch',\n",
              " 'want',\n",
              " 'cycle',\n",
              " 'disorientated',\n",
              " 'focusing',\n",
              " 'cataflam',\n",
              " 'morphine',\n",
              " 'condition',\n",
              " 'run',\n",
              " 'ulcerative',\n",
              " 'viral',\n",
              " 'prostate',\n",
              " 'dementia',\n",
              " 'headed',\n",
              " 'epicondylitis',\n",
              " 'beat',\n",
              " 'hearing',\n",
              " 'tremors',\n",
              " 'unbearable',\n",
              " 'heat',\n",
              " 'steatosis',\n",
              " 'male',\n",
              " 'haematochezia',\n",
              " 'words',\n",
              " 'abnormality',\n",
              " 'unconscious',\n",
              " 'hours',\n",
              " 'phlebitis',\n",
              " 'about',\n",
              " 'epilepsy',\n",
              " 'postmenopausal',\n",
              " 'ribs',\n",
              " 'rashes',\n",
              " 'dysphonia',\n",
              " 'this',\n",
              " 'lumbar',\n",
              " 'sensitivity',\n",
              " 'hyperactivity',\n",
              " 'associated',\n",
              " 'total',\n",
              " 'mobic',\n",
              " 'hypomania',\n",
              " 'interactions',\n",
              " 'atrioventricular',\n",
              " 'premature',\n",
              " '40',\n",
              " 'terrors',\n",
              " 'restlessness',\n",
              " 'colon',\n",
              " 'esophageal',\n",
              " 'constantly',\n",
              " 'arousal',\n",
              " 'ii',\n",
              " 'would',\n",
              " 'moderate',\n",
              " 'disorientation',\n",
              " 'cyst',\n",
              " 'artery',\n",
              " 'trippin',\n",
              " 'gut',\n",
              " 'rib',\n",
              " 'long',\n",
              " 'discoloration',\n",
              " 'epigastric',\n",
              " 'making',\n",
              " 'manic',\n",
              " 'cataract',\n",
              " 'clammy',\n",
              " 'zoster',\n",
              " 'their',\n",
              " 'hoarse',\n",
              " 'take',\n",
              " 'blind',\n",
              " 'contusion',\n",
              " 'less',\n",
              " 'coma',\n",
              " 'muscel',\n",
              " 'labored',\n",
              " 'polymyositis',\n",
              " 'aneurysm',\n",
              " 'arteriosclerosis',\n",
              " 'forearms',\n",
              " 'mad',\n",
              " 'result',\n",
              " 'hypertonia',\n",
              " 'hypothyroidism',\n",
              " 'only',\n",
              " 'ocular',\n",
              " 'fall',\n",
              " 'breasts',\n",
              " 'urinate',\n",
              " 'degeneration',\n",
              " 'calcium',\n",
              " 'groggy',\n",
              " 'reading',\n",
              " 'dizzyness',\n",
              " 'ovarian',\n",
              " 'throbbing',\n",
              " 'prozac',\n",
              " 'immune',\n",
              " 'unspecified',\n",
              " 'antisocial',\n",
              " 'debilitating',\n",
              " 'through',\n",
              " 'thyroid',\n",
              " 'alpha',\n",
              " 'tocopherol',\n",
              " '30',\n",
              " 'an',\n",
              " 'minutes',\n",
              " 'diverticulitis',\n",
              " 'angina',\n",
              " 'waking',\n",
              " 'bizarre',\n",
              " 'occasional',\n",
              " 'ill',\n",
              " 'purpura',\n",
              " 'anorexia',\n",
              " 'slept',\n",
              " 'delayed',\n",
              " 'deafness',\n",
              " 'protein',\n",
              " 'slow',\n",
              " 'indifferent',\n",
              " ...]"
            ]
          },
          "metadata": {
            "tags": []
          },
          "execution_count": 18
        }
      ]
    },
    {
      "cell_type": "code",
      "metadata": {
        "id": "yPWr03mls3VT",
        "colab_type": "code",
        "colab": {}
      },
      "source": [
        "model_path = path/'models'\n",
        "model_path.mkdir(exist_ok=True)\n",
        "url = 'http://files.fast.ai/models/wt103_v1/'\n",
        "download_url(f'{url}lstm_wt103.pth', model_path/'lstm_wt103.pth')\n",
        "download_url(f'{url}itos_wt103.pkl', model_path/'itos_wt103.pkl')"
      ],
      "execution_count": 0,
      "outputs": []
    },
    {
      "cell_type": "code",
      "metadata": {
        "id": "JRzvWg8RtGGr",
        "colab_type": "code",
        "colab": {}
      },
      "source": [
        "# learn = language_model_learner(data_lm, AWD_LSTM, drop_mult=0.5)"
      ],
      "execution_count": 0,
      "outputs": []
    },
    {
      "cell_type": "code",
      "metadata": {
        "id": "xKK7GeBev7Xn",
        "colab_type": "code",
        "colab": {}
      },
      "source": [
        "# learn.fit_one_cycle(1, 1e-2)"
      ],
      "execution_count": 0,
      "outputs": []
    },
    {
      "cell_type": "code",
      "metadata": {
        "id": "iB7rHGQCwd12",
        "colab_type": "code",
        "colab": {}
      },
      "source": [
        "# learn.fit_one_cycle(1, 1e-2)"
      ],
      "execution_count": 0,
      "outputs": []
    },
    {
      "cell_type": "code",
      "metadata": {
        "id": "_BnSuAeCwkBe",
        "colab_type": "code",
        "colab": {}
      },
      "source": [
        "# learn.fit_one_cycle(1, 1e-3)"
      ],
      "execution_count": 0,
      "outputs": []
    },
    {
      "cell_type": "code",
      "metadata": {
        "id": "MuTm-RFjwrEX",
        "colab_type": "code",
        "colab": {}
      },
      "source": [
        "# learn.fit_one_cycle(1, 1e-3)"
      ],
      "execution_count": 0,
      "outputs": []
    },
    {
      "cell_type": "code",
      "metadata": {
        "id": "1Er2ExO8wr7Y",
        "colab_type": "code",
        "colab": {}
      },
      "source": [
        "# learn.save_encoder('bigtweet_fold0_first')"
      ],
      "execution_count": 0,
      "outputs": []
    },
    {
      "cell_type": "code",
      "metadata": {
        "id": "z52cZs2qwvad",
        "colab_type": "code",
        "colab": {
          "base_uri": "https://localhost:8080/",
          "height": 80
        },
        "outputId": "09b1048c-5002-4325-db59-8a0d17ca58b9"
      },
      "source": [
        "learn = text_classifier_learner(data_clas,AWD_LSTM, drop_mult=0.5)\n",
        "# learn.load_encoder('bigtweet_fold0_first')\n",
        "learn.fit_one_cycle(1, 1e-2)"
      ],
      "execution_count": 26,
      "outputs": [
        {
          "output_type": "display_data",
          "data": {
            "text/html": [
              "<table border=\"1\" class=\"dataframe\">\n",
              "  <thead>\n",
              "    <tr style=\"text-align: left;\">\n",
              "      <th>epoch</th>\n",
              "      <th>train_loss</th>\n",
              "      <th>valid_loss</th>\n",
              "      <th>accuracy</th>\n",
              "      <th>time</th>\n",
              "    </tr>\n",
              "  </thead>\n",
              "  <tbody>\n",
              "    <tr>\n",
              "      <td>0</td>\n",
              "      <td>5.662689</td>\n",
              "      <td>6.586103</td>\n",
              "      <td>0.150943</td>\n",
              "      <td>01:13</td>\n",
              "    </tr>\n",
              "  </tbody>\n",
              "</table>"
            ],
            "text/plain": [
              "<IPython.core.display.HTML object>"
            ]
          },
          "metadata": {
            "tags": []
          }
        }
      ]
    },
    {
      "cell_type": "code",
      "metadata": {
        "id": "ImwQP1PJwzxd",
        "colab_type": "code",
        "colab": {
          "base_uri": "https://localhost:8080/",
          "height": 80
        },
        "outputId": "0d7d56cd-5a55-4955-df6e-ea7c90cc3c64"
      },
      "source": [
        "learn.freeze_to(-2)\n",
        "learn.fit_one_cycle(1, slice(5e-3/2., 5e-3))"
      ],
      "execution_count": 27,
      "outputs": [
        {
          "output_type": "display_data",
          "data": {
            "text/html": [
              "<table border=\"1\" class=\"dataframe\">\n",
              "  <thead>\n",
              "    <tr style=\"text-align: left;\">\n",
              "      <th>epoch</th>\n",
              "      <th>train_loss</th>\n",
              "      <th>valid_loss</th>\n",
              "      <th>accuracy</th>\n",
              "      <th>time</th>\n",
              "    </tr>\n",
              "  </thead>\n",
              "  <tbody>\n",
              "    <tr>\n",
              "      <td>0</td>\n",
              "      <td>4.798208</td>\n",
              "      <td>18.721792</td>\n",
              "      <td>0.026954</td>\n",
              "      <td>01:23</td>\n",
              "    </tr>\n",
              "  </tbody>\n",
              "</table>"
            ],
            "text/plain": [
              "<IPython.core.display.HTML object>"
            ]
          },
          "metadata": {
            "tags": []
          }
        }
      ]
    },
    {
      "cell_type": "code",
      "metadata": {
        "id": "Owff_BJXw53u",
        "colab_type": "code",
        "colab": {
          "base_uri": "https://localhost:8080/",
          "height": 80
        },
        "outputId": "34469b8d-cf29-4813-d0bb-1141fd6702f4"
      },
      "source": [
        "learn.unfreeze()\n",
        "learn.fit_one_cycle(1, slice(2e-3/100, 2e-3))"
      ],
      "execution_count": 28,
      "outputs": [
        {
          "output_type": "display_data",
          "data": {
            "text/html": [
              "<table border=\"1\" class=\"dataframe\">\n",
              "  <thead>\n",
              "    <tr style=\"text-align: left;\">\n",
              "      <th>epoch</th>\n",
              "      <th>train_loss</th>\n",
              "      <th>valid_loss</th>\n",
              "      <th>accuracy</th>\n",
              "      <th>time</th>\n",
              "    </tr>\n",
              "  </thead>\n",
              "  <tbody>\n",
              "    <tr>\n",
              "      <td>0</td>\n",
              "      <td>3.959323</td>\n",
              "      <td>5.629564</td>\n",
              "      <td>0.268194</td>\n",
              "      <td>03:40</td>\n",
              "    </tr>\n",
              "  </tbody>\n",
              "</table>"
            ],
            "text/plain": [
              "<IPython.core.display.HTML object>"
            ]
          },
          "metadata": {
            "tags": []
          }
        }
      ]
    },
    {
      "cell_type": "code",
      "metadata": {
        "id": "lqAyu56V8Waq",
        "colab_type": "code",
        "colab": {
          "base_uri": "https://localhost:8080/",
          "height": 111
        },
        "outputId": "6c99e08e-4a39-436b-a78e-7862fc86afd8"
      },
      "source": [
        "learn.fit_one_cycle(2, slice(2e-3/100, 2e-3))"
      ],
      "execution_count": 29,
      "outputs": [
        {
          "output_type": "display_data",
          "data": {
            "text/html": [
              "<table border=\"1\" class=\"dataframe\">\n",
              "  <thead>\n",
              "    <tr style=\"text-align: left;\">\n",
              "      <th>epoch</th>\n",
              "      <th>train_loss</th>\n",
              "      <th>valid_loss</th>\n",
              "      <th>accuracy</th>\n",
              "      <th>time</th>\n",
              "    </tr>\n",
              "  </thead>\n",
              "  <tbody>\n",
              "    <tr>\n",
              "      <td>0</td>\n",
              "      <td>3.438360</td>\n",
              "      <td>5.291717</td>\n",
              "      <td>0.297844</td>\n",
              "      <td>03:36</td>\n",
              "    </tr>\n",
              "    <tr>\n",
              "      <td>1</td>\n",
              "      <td>2.835767</td>\n",
              "      <td>4.785397</td>\n",
              "      <td>0.349057</td>\n",
              "      <td>03:32</td>\n",
              "    </tr>\n",
              "  </tbody>\n",
              "</table>"
            ],
            "text/plain": [
              "<IPython.core.display.HTML object>"
            ]
          },
          "metadata": {
            "tags": []
          }
        }
      ]
    },
    {
      "cell_type": "code",
      "metadata": {
        "id": "a7I1xMRp8bUd",
        "colab_type": "code",
        "colab": {
          "base_uri": "https://localhost:8080/",
          "height": 111
        },
        "outputId": "20636711-1776-46ab-f662-edddc3646253"
      },
      "source": [
        "learn.fit_one_cycle(2, slice(2e-3/100, 2e-3))"
      ],
      "execution_count": 30,
      "outputs": [
        {
          "output_type": "display_data",
          "data": {
            "text/html": [
              "<table border=\"1\" class=\"dataframe\">\n",
              "  <thead>\n",
              "    <tr style=\"text-align: left;\">\n",
              "      <th>epoch</th>\n",
              "      <th>train_loss</th>\n",
              "      <th>valid_loss</th>\n",
              "      <th>accuracy</th>\n",
              "      <th>time</th>\n",
              "    </tr>\n",
              "  </thead>\n",
              "  <tbody>\n",
              "    <tr>\n",
              "      <td>0</td>\n",
              "      <td>2.428544</td>\n",
              "      <td>5.479712</td>\n",
              "      <td>0.314016</td>\n",
              "      <td>03:38</td>\n",
              "    </tr>\n",
              "    <tr>\n",
              "      <td>1</td>\n",
              "      <td>2.192833</td>\n",
              "      <td>4.305587</td>\n",
              "      <td>0.408356</td>\n",
              "      <td>03:44</td>\n",
              "    </tr>\n",
              "  </tbody>\n",
              "</table>"
            ],
            "text/plain": [
              "<IPython.core.display.HTML object>"
            ]
          },
          "metadata": {
            "tags": []
          }
        }
      ]
    },
    {
      "cell_type": "code",
      "metadata": {
        "id": "UAnti-XmGVfO",
        "colab_type": "code",
        "colab": {
          "base_uri": "https://localhost:8080/",
          "height": 111
        },
        "outputId": "8bc7aaf6-30a3-4e3f-e16a-9add45342a99"
      },
      "source": [
        "learn.fit_one_cycle(2, slice(2e-3/100, 2e-3))"
      ],
      "execution_count": 31,
      "outputs": [
        {
          "output_type": "display_data",
          "data": {
            "text/html": [
              "<table border=\"1\" class=\"dataframe\">\n",
              "  <thead>\n",
              "    <tr style=\"text-align: left;\">\n",
              "      <th>epoch</th>\n",
              "      <th>train_loss</th>\n",
              "      <th>valid_loss</th>\n",
              "      <th>accuracy</th>\n",
              "      <th>time</th>\n",
              "    </tr>\n",
              "  </thead>\n",
              "  <tbody>\n",
              "    <tr>\n",
              "      <td>0</td>\n",
              "      <td>1.909509</td>\n",
              "      <td>5.131038</td>\n",
              "      <td>0.409703</td>\n",
              "      <td>03:28</td>\n",
              "    </tr>\n",
              "    <tr>\n",
              "      <td>1</td>\n",
              "      <td>1.727885</td>\n",
              "      <td>4.448970</td>\n",
              "      <td>0.436658</td>\n",
              "      <td>03:34</td>\n",
              "    </tr>\n",
              "  </tbody>\n",
              "</table>"
            ],
            "text/plain": [
              "<IPython.core.display.HTML object>"
            ]
          },
          "metadata": {
            "tags": []
          }
        }
      ]
    },
    {
      "cell_type": "code",
      "metadata": {
        "id": "bIft7W25GwSu",
        "colab_type": "code",
        "colab": {
          "base_uri": "https://localhost:8080/",
          "height": 111
        },
        "outputId": "0f8d8aa9-d10b-48e4-95b1-2986b40cab28"
      },
      "source": [
        "learn.fit_one_cycle(2, slice(2e-3/100, 2e-3))"
      ],
      "execution_count": 32,
      "outputs": [
        {
          "output_type": "display_data",
          "data": {
            "text/html": [
              "<table border=\"1\" class=\"dataframe\">\n",
              "  <thead>\n",
              "    <tr style=\"text-align: left;\">\n",
              "      <th>epoch</th>\n",
              "      <th>train_loss</th>\n",
              "      <th>valid_loss</th>\n",
              "      <th>accuracy</th>\n",
              "      <th>time</th>\n",
              "    </tr>\n",
              "  </thead>\n",
              "  <tbody>\n",
              "    <tr>\n",
              "      <td>0</td>\n",
              "      <td>1.687554</td>\n",
              "      <td>3.432259</td>\n",
              "      <td>0.460916</td>\n",
              "      <td>03:39</td>\n",
              "    </tr>\n",
              "    <tr>\n",
              "      <td>1</td>\n",
              "      <td>1.388762</td>\n",
              "      <td>3.053302</td>\n",
              "      <td>0.561995</td>\n",
              "      <td>03:33</td>\n",
              "    </tr>\n",
              "  </tbody>\n",
              "</table>"
            ],
            "text/plain": [
              "<IPython.core.display.HTML object>"
            ]
          },
          "metadata": {
            "tags": []
          }
        }
      ]
    },
    {
      "cell_type": "code",
      "metadata": {
        "id": "EEHszVRvGyFt",
        "colab_type": "code",
        "colab": {
          "base_uri": "https://localhost:8080/",
          "height": 111
        },
        "outputId": "7aaa3fc2-32b9-4eae-d8a4-7aa68926615c"
      },
      "source": [
        "learn.fit_one_cycle(2, slice(2e-3/100, 2e-3))"
      ],
      "execution_count": 33,
      "outputs": [
        {
          "output_type": "display_data",
          "data": {
            "text/html": [
              "<table border=\"1\" class=\"dataframe\">\n",
              "  <thead>\n",
              "    <tr style=\"text-align: left;\">\n",
              "      <th>epoch</th>\n",
              "      <th>train_loss</th>\n",
              "      <th>valid_loss</th>\n",
              "      <th>accuracy</th>\n",
              "      <th>time</th>\n",
              "    </tr>\n",
              "  </thead>\n",
              "  <tbody>\n",
              "    <tr>\n",
              "      <td>0</td>\n",
              "      <td>1.356349</td>\n",
              "      <td>2.984537</td>\n",
              "      <td>0.536388</td>\n",
              "      <td>03:27</td>\n",
              "    </tr>\n",
              "    <tr>\n",
              "      <td>1</td>\n",
              "      <td>1.162423</td>\n",
              "      <td>2.419356</td>\n",
              "      <td>0.630728</td>\n",
              "      <td>03:37</td>\n",
              "    </tr>\n",
              "  </tbody>\n",
              "</table>"
            ],
            "text/plain": [
              "<IPython.core.display.HTML object>"
            ]
          },
          "metadata": {
            "tags": []
          }
        }
      ]
    },
    {
      "cell_type": "code",
      "metadata": {
        "id": "XsHfrhCHG3dN",
        "colab_type": "code",
        "colab": {
          "base_uri": "https://localhost:8080/",
          "height": 173
        },
        "outputId": "2abf224c-c8a7-49d9-d0e1-05586ae56c85"
      },
      "source": [
        "learn.fit_one_cycle(4, slice(2e-3/100, 2e-3))"
      ],
      "execution_count": 34,
      "outputs": [
        {
          "output_type": "display_data",
          "data": {
            "text/html": [
              "<table border=\"1\" class=\"dataframe\">\n",
              "  <thead>\n",
              "    <tr style=\"text-align: left;\">\n",
              "      <th>epoch</th>\n",
              "      <th>train_loss</th>\n",
              "      <th>valid_loss</th>\n",
              "      <th>accuracy</th>\n",
              "      <th>time</th>\n",
              "    </tr>\n",
              "  </thead>\n",
              "  <tbody>\n",
              "    <tr>\n",
              "      <td>0</td>\n",
              "      <td>1.030891</td>\n",
              "      <td>3.293367</td>\n",
              "      <td>0.548518</td>\n",
              "      <td>03:25</td>\n",
              "    </tr>\n",
              "    <tr>\n",
              "      <td>1</td>\n",
              "      <td>1.110703</td>\n",
              "      <td>2.217807</td>\n",
              "      <td>0.648248</td>\n",
              "      <td>03:31</td>\n",
              "    </tr>\n",
              "    <tr>\n",
              "      <td>2</td>\n",
              "      <td>0.907811</td>\n",
              "      <td>1.866295</td>\n",
              "      <td>0.691375</td>\n",
              "      <td>03:21</td>\n",
              "    </tr>\n",
              "    <tr>\n",
              "      <td>3</td>\n",
              "      <td>0.782597</td>\n",
              "      <td>1.807373</td>\n",
              "      <td>0.698113</td>\n",
              "      <td>03:41</td>\n",
              "    </tr>\n",
              "  </tbody>\n",
              "</table>"
            ],
            "text/plain": [
              "<IPython.core.display.HTML object>"
            ]
          },
          "metadata": {
            "tags": []
          }
        }
      ]
    },
    {
      "cell_type": "code",
      "metadata": {
        "id": "0Zsd99isb9EQ",
        "colab_type": "code",
        "colab": {
          "base_uri": "https://localhost:8080/",
          "height": 173
        },
        "outputId": "1ea22c3f-2440-4876-f1b6-bfc264992077"
      },
      "source": [
        "learn.fit_one_cycle(4, slice(2e-3/100, 2e-3))"
      ],
      "execution_count": 35,
      "outputs": [
        {
          "output_type": "display_data",
          "data": {
            "text/html": [
              "<table border=\"1\" class=\"dataframe\">\n",
              "  <thead>\n",
              "    <tr style=\"text-align: left;\">\n",
              "      <th>epoch</th>\n",
              "      <th>train_loss</th>\n",
              "      <th>valid_loss</th>\n",
              "      <th>accuracy</th>\n",
              "      <th>time</th>\n",
              "    </tr>\n",
              "  </thead>\n",
              "  <tbody>\n",
              "    <tr>\n",
              "      <td>0</td>\n",
              "      <td>0.816986</td>\n",
              "      <td>2.058111</td>\n",
              "      <td>0.672507</td>\n",
              "      <td>03:24</td>\n",
              "    </tr>\n",
              "    <tr>\n",
              "      <td>1</td>\n",
              "      <td>0.834217</td>\n",
              "      <td>2.271538</td>\n",
              "      <td>0.649596</td>\n",
              "      <td>03:37</td>\n",
              "    </tr>\n",
              "    <tr>\n",
              "      <td>2</td>\n",
              "      <td>0.692792</td>\n",
              "      <td>1.793189</td>\n",
              "      <td>0.722372</td>\n",
              "      <td>03:15</td>\n",
              "    </tr>\n",
              "    <tr>\n",
              "      <td>3</td>\n",
              "      <td>0.636054</td>\n",
              "      <td>1.765495</td>\n",
              "      <td>0.731806</td>\n",
              "      <td>03:23</td>\n",
              "    </tr>\n",
              "  </tbody>\n",
              "</table>"
            ],
            "text/plain": [
              "<IPython.core.display.HTML object>"
            ]
          },
          "metadata": {
            "tags": []
          }
        }
      ]
    },
    {
      "cell_type": "code",
      "metadata": {
        "id": "atNWNKDFPbuI",
        "colab_type": "code",
        "colab": {
          "base_uri": "https://localhost:8080/",
          "height": 173
        },
        "outputId": "3fdf1853-316a-47f9-d45a-38c111bbaff3"
      },
      "source": [
        "learn.fit_one_cycle(4, slice(2e-3/100, 2e-3))"
      ],
      "execution_count": 36,
      "outputs": [
        {
          "output_type": "display_data",
          "data": {
            "text/html": [
              "<table border=\"1\" class=\"dataframe\">\n",
              "  <thead>\n",
              "    <tr style=\"text-align: left;\">\n",
              "      <th>epoch</th>\n",
              "      <th>train_loss</th>\n",
              "      <th>valid_loss</th>\n",
              "      <th>accuracy</th>\n",
              "      <th>time</th>\n",
              "    </tr>\n",
              "  </thead>\n",
              "  <tbody>\n",
              "    <tr>\n",
              "      <td>0</td>\n",
              "      <td>0.617986</td>\n",
              "      <td>1.793348</td>\n",
              "      <td>0.726415</td>\n",
              "      <td>03:38</td>\n",
              "    </tr>\n",
              "    <tr>\n",
              "      <td>1</td>\n",
              "      <td>0.682451</td>\n",
              "      <td>1.814926</td>\n",
              "      <td>0.731806</td>\n",
              "      <td>03:36</td>\n",
              "    </tr>\n",
              "    <tr>\n",
              "      <td>2</td>\n",
              "      <td>0.575641</td>\n",
              "      <td>1.585316</td>\n",
              "      <td>0.761456</td>\n",
              "      <td>03:37</td>\n",
              "    </tr>\n",
              "    <tr>\n",
              "      <td>3</td>\n",
              "      <td>0.477810</td>\n",
              "      <td>1.551731</td>\n",
              "      <td>0.768194</td>\n",
              "      <td>03:48</td>\n",
              "    </tr>\n",
              "  </tbody>\n",
              "</table>"
            ],
            "text/plain": [
              "<IPython.core.display.HTML object>"
            ]
          },
          "metadata": {
            "tags": []
          }
        }
      ]
    },
    {
      "cell_type": "code",
      "metadata": {
        "id": "rKrBTZ0T1uVA",
        "colab_type": "code",
        "colab": {
          "base_uri": "https://localhost:8080/",
          "height": 173
        },
        "outputId": "bcd56b66-f293-4187-f147-048f64d05171"
      },
      "source": [
        "learn.fit_one_cycle(4, slice(2e-3/100, 2e-3))"
      ],
      "execution_count": 37,
      "outputs": [
        {
          "output_type": "display_data",
          "data": {
            "text/html": [
              "<table border=\"1\" class=\"dataframe\">\n",
              "  <thead>\n",
              "    <tr style=\"text-align: left;\">\n",
              "      <th>epoch</th>\n",
              "      <th>train_loss</th>\n",
              "      <th>valid_loss</th>\n",
              "      <th>accuracy</th>\n",
              "      <th>time</th>\n",
              "    </tr>\n",
              "  </thead>\n",
              "  <tbody>\n",
              "    <tr>\n",
              "      <td>0</td>\n",
              "      <td>0.506251</td>\n",
              "      <td>1.684611</td>\n",
              "      <td>0.743935</td>\n",
              "      <td>03:47</td>\n",
              "    </tr>\n",
              "    <tr>\n",
              "      <td>1</td>\n",
              "      <td>0.546306</td>\n",
              "      <td>1.454849</td>\n",
              "      <td>0.787062</td>\n",
              "      <td>03:40</td>\n",
              "    </tr>\n",
              "    <tr>\n",
              "      <td>2</td>\n",
              "      <td>0.440260</td>\n",
              "      <td>1.502427</td>\n",
              "      <td>0.781671</td>\n",
              "      <td>03:20</td>\n",
              "    </tr>\n",
              "    <tr>\n",
              "      <td>3</td>\n",
              "      <td>0.350867</td>\n",
              "      <td>1.408639</td>\n",
              "      <td>0.804582</td>\n",
              "      <td>03:19</td>\n",
              "    </tr>\n",
              "  </tbody>\n",
              "</table>"
            ],
            "text/plain": [
              "<IPython.core.display.HTML object>"
            ]
          },
          "metadata": {
            "tags": []
          }
        }
      ]
    },
    {
      "cell_type": "code",
      "metadata": {
        "id": "ajQC6WDg1yA9",
        "colab_type": "code",
        "colab": {
          "base_uri": "https://localhost:8080/",
          "height": 173
        },
        "outputId": "96aecd9d-027f-40f2-9fca-a47823b31736"
      },
      "source": [
        "learn.fit_one_cycle(4, slice(2e-3/100, 2e-3))"
      ],
      "execution_count": 38,
      "outputs": [
        {
          "output_type": "display_data",
          "data": {
            "text/html": [
              "<table border=\"1\" class=\"dataframe\">\n",
              "  <thead>\n",
              "    <tr style=\"text-align: left;\">\n",
              "      <th>epoch</th>\n",
              "      <th>train_loss</th>\n",
              "      <th>valid_loss</th>\n",
              "      <th>accuracy</th>\n",
              "      <th>time</th>\n",
              "    </tr>\n",
              "  </thead>\n",
              "  <tbody>\n",
              "    <tr>\n",
              "      <td>0</td>\n",
              "      <td>0.415541</td>\n",
              "      <td>1.398456</td>\n",
              "      <td>0.792453</td>\n",
              "      <td>03:21</td>\n",
              "    </tr>\n",
              "    <tr>\n",
              "      <td>1</td>\n",
              "      <td>0.453780</td>\n",
              "      <td>1.596206</td>\n",
              "      <td>0.783019</td>\n",
              "      <td>03:31</td>\n",
              "    </tr>\n",
              "    <tr>\n",
              "      <td>2</td>\n",
              "      <td>0.391901</td>\n",
              "      <td>1.437178</td>\n",
              "      <td>0.787062</td>\n",
              "      <td>03:17</td>\n",
              "    </tr>\n",
              "    <tr>\n",
              "      <td>3</td>\n",
              "      <td>0.324875</td>\n",
              "      <td>1.366595</td>\n",
              "      <td>0.801887</td>\n",
              "      <td>03:23</td>\n",
              "    </tr>\n",
              "  </tbody>\n",
              "</table>"
            ],
            "text/plain": [
              "<IPython.core.display.HTML object>"
            ]
          },
          "metadata": {
            "tags": []
          }
        }
      ]
    },
    {
      "cell_type": "code",
      "metadata": {
        "id": "KKydb0B4BKGk",
        "colab_type": "code",
        "colab": {
          "base_uri": "https://localhost:8080/",
          "height": 173
        },
        "outputId": "aa708aa1-054d-4ce6-ea59-e6e2d3aa2db3"
      },
      "source": [
        "learn.fit_one_cycle(4, slice(2e-3/100, 2e-3))"
      ],
      "execution_count": 39,
      "outputs": [
        {
          "output_type": "display_data",
          "data": {
            "text/html": [
              "<table border=\"1\" class=\"dataframe\">\n",
              "  <thead>\n",
              "    <tr style=\"text-align: left;\">\n",
              "      <th>epoch</th>\n",
              "      <th>train_loss</th>\n",
              "      <th>valid_loss</th>\n",
              "      <th>accuracy</th>\n",
              "      <th>time</th>\n",
              "    </tr>\n",
              "  </thead>\n",
              "  <tbody>\n",
              "    <tr>\n",
              "      <td>0</td>\n",
              "      <td>0.321764</td>\n",
              "      <td>1.461109</td>\n",
              "      <td>0.791105</td>\n",
              "      <td>03:26</td>\n",
              "    </tr>\n",
              "    <tr>\n",
              "      <td>1</td>\n",
              "      <td>0.409022</td>\n",
              "      <td>1.387216</td>\n",
              "      <td>0.799191</td>\n",
              "      <td>03:40</td>\n",
              "    </tr>\n",
              "    <tr>\n",
              "      <td>2</td>\n",
              "      <td>0.336523</td>\n",
              "      <td>1.307793</td>\n",
              "      <td>0.820755</td>\n",
              "      <td>03:41</td>\n",
              "    </tr>\n",
              "    <tr>\n",
              "      <td>3</td>\n",
              "      <td>0.287316</td>\n",
              "      <td>1.317998</td>\n",
              "      <td>0.816712</td>\n",
              "      <td>03:28</td>\n",
              "    </tr>\n",
              "  </tbody>\n",
              "</table>"
            ],
            "text/plain": [
              "<IPython.core.display.HTML object>"
            ]
          },
          "metadata": {
            "tags": []
          }
        }
      ]
    },
    {
      "cell_type": "code",
      "metadata": {
        "id": "T2APKtFKBpGY",
        "colab_type": "code",
        "colab": {
          "base_uri": "https://localhost:8080/",
          "height": 173
        },
        "outputId": "e6ecedd7-ae73-4fa5-bc50-04ef04860a5e"
      },
      "source": [
        "learn.fit_one_cycle(4, slice(2e-3/100, 2e-3))"
      ],
      "execution_count": 40,
      "outputs": [
        {
          "output_type": "display_data",
          "data": {
            "text/html": [
              "<table border=\"1\" class=\"dataframe\">\n",
              "  <thead>\n",
              "    <tr style=\"text-align: left;\">\n",
              "      <th>epoch</th>\n",
              "      <th>train_loss</th>\n",
              "      <th>valid_loss</th>\n",
              "      <th>accuracy</th>\n",
              "      <th>time</th>\n",
              "    </tr>\n",
              "  </thead>\n",
              "  <tbody>\n",
              "    <tr>\n",
              "      <td>0</td>\n",
              "      <td>0.300387</td>\n",
              "      <td>1.339264</td>\n",
              "      <td>0.803235</td>\n",
              "      <td>03:32</td>\n",
              "    </tr>\n",
              "    <tr>\n",
              "      <td>1</td>\n",
              "      <td>0.347403</td>\n",
              "      <td>1.469359</td>\n",
              "      <td>0.804582</td>\n",
              "      <td>03:40</td>\n",
              "    </tr>\n",
              "    <tr>\n",
              "      <td>2</td>\n",
              "      <td>0.320854</td>\n",
              "      <td>1.275672</td>\n",
              "      <td>0.823450</td>\n",
              "      <td>03:43</td>\n",
              "    </tr>\n",
              "    <tr>\n",
              "      <td>3</td>\n",
              "      <td>0.244036</td>\n",
              "      <td>1.262863</td>\n",
              "      <td>0.823450</td>\n",
              "      <td>03:24</td>\n",
              "    </tr>\n",
              "  </tbody>\n",
              "</table>"
            ],
            "text/plain": [
              "<IPython.core.display.HTML object>"
            ]
          },
          "metadata": {
            "tags": []
          }
        }
      ]
    },
    {
      "cell_type": "code",
      "metadata": {
        "id": "5PDyKIU7bX7W",
        "colab_type": "code",
        "colab": {
          "base_uri": "https://localhost:8080/",
          "height": 173
        },
        "outputId": "f5a987ac-225b-4501-a1de-c70d2749b34a"
      },
      "source": [
        "learn.fit_one_cycle(4, slice(2e-3/100, 2e-3))"
      ],
      "execution_count": 41,
      "outputs": [
        {
          "output_type": "display_data",
          "data": {
            "text/html": [
              "<table border=\"1\" class=\"dataframe\">\n",
              "  <thead>\n",
              "    <tr style=\"text-align: left;\">\n",
              "      <th>epoch</th>\n",
              "      <th>train_loss</th>\n",
              "      <th>valid_loss</th>\n",
              "      <th>accuracy</th>\n",
              "      <th>time</th>\n",
              "    </tr>\n",
              "  </thead>\n",
              "  <tbody>\n",
              "    <tr>\n",
              "      <td>0</td>\n",
              "      <td>0.271221</td>\n",
              "      <td>1.360661</td>\n",
              "      <td>0.808625</td>\n",
              "      <td>03:32</td>\n",
              "    </tr>\n",
              "    <tr>\n",
              "      <td>1</td>\n",
              "      <td>0.316119</td>\n",
              "      <td>1.382573</td>\n",
              "      <td>0.805930</td>\n",
              "      <td>03:36</td>\n",
              "    </tr>\n",
              "    <tr>\n",
              "      <td>2</td>\n",
              "      <td>0.268079</td>\n",
              "      <td>1.306650</td>\n",
              "      <td>0.816712</td>\n",
              "      <td>03:25</td>\n",
              "    </tr>\n",
              "    <tr>\n",
              "      <td>3</td>\n",
              "      <td>0.231842</td>\n",
              "      <td>1.308627</td>\n",
              "      <td>0.818059</td>\n",
              "      <td>03:45</td>\n",
              "    </tr>\n",
              "  </tbody>\n",
              "</table>"
            ],
            "text/plain": [
              "<IPython.core.display.HTML object>"
            ]
          },
          "metadata": {
            "tags": []
          }
        }
      ]
    },
    {
      "cell_type": "code",
      "metadata": {
        "id": "rd1YXwMcbYtm",
        "colab_type": "code",
        "colab": {
          "base_uri": "https://localhost:8080/",
          "height": 173
        },
        "outputId": "aab0d21c-784b-4b9b-bb33-f71a4205f440"
      },
      "source": [
        "learn.fit_one_cycle(4, slice(2e-3/100, 2e-3))"
      ],
      "execution_count": 42,
      "outputs": [
        {
          "output_type": "display_data",
          "data": {
            "text/html": [
              "<table border=\"1\" class=\"dataframe\">\n",
              "  <thead>\n",
              "    <tr style=\"text-align: left;\">\n",
              "      <th>epoch</th>\n",
              "      <th>train_loss</th>\n",
              "      <th>valid_loss</th>\n",
              "      <th>accuracy</th>\n",
              "      <th>time</th>\n",
              "    </tr>\n",
              "  </thead>\n",
              "  <tbody>\n",
              "    <tr>\n",
              "      <td>0</td>\n",
              "      <td>0.238144</td>\n",
              "      <td>1.340935</td>\n",
              "      <td>0.809973</td>\n",
              "      <td>03:24</td>\n",
              "    </tr>\n",
              "    <tr>\n",
              "      <td>1</td>\n",
              "      <td>0.302003</td>\n",
              "      <td>1.392249</td>\n",
              "      <td>0.814016</td>\n",
              "      <td>03:39</td>\n",
              "    </tr>\n",
              "    <tr>\n",
              "      <td>2</td>\n",
              "      <td>0.246607</td>\n",
              "      <td>1.294912</td>\n",
              "      <td>0.816712</td>\n",
              "      <td>03:34</td>\n",
              "    </tr>\n",
              "    <tr>\n",
              "      <td>3</td>\n",
              "      <td>0.213861</td>\n",
              "      <td>1.270355</td>\n",
              "      <td>0.826146</td>\n",
              "      <td>03:38</td>\n",
              "    </tr>\n",
              "  </tbody>\n",
              "</table>"
            ],
            "text/plain": [
              "<IPython.core.display.HTML object>"
            ]
          },
          "metadata": {
            "tags": []
          }
        }
      ]
    },
    {
      "cell_type": "code",
      "metadata": {
        "id": "c65d-osfDUXm",
        "colab_type": "code",
        "colab": {}
      },
      "source": [
        "# save the best model\n",
        "\n",
        "learn.save_encoder('ask-7-tuning-ask-twadr')"
      ],
      "execution_count": 0,
      "outputs": []
    },
    {
      "cell_type": "markdown",
      "metadata": {
        "id": "rCwZU0E2RgM6",
        "colab_type": "text"
      },
      "source": [
        "# Part three: Predict on the test dataset"
      ]
    },
    {
      "cell_type": "code",
      "metadata": {
        "id": "gDm72c-dOu7d",
        "colab_type": "code",
        "colab": {}
      },
      "source": [
        "# use the test data for prediction\n",
        "\n",
        "preds, y = learn.get_preds(DatasetType.Test)"
      ],
      "execution_count": 0,
      "outputs": []
    },
    {
      "cell_type": "code",
      "metadata": {
        "id": "6tFSQcsWPvxn",
        "colab_type": "code",
        "colab": {
          "base_uri": "https://localhost:8080/",
          "height": 105
        },
        "outputId": "79224b9f-ba7e-4425-f212-8b5a050679c2"
      },
      "source": [
        "predictions, *_ = learn.get_preds(DatasetType.Test)\n",
        "labels = np.argmax(predictions, 1)\n",
        "predict_list = labels.tolist()\n",
        "standard_list = test[0].tolist()\n",
        "\n",
        "print(len(predict_list))\n",
        "print(len(standard_list))\n",
        "\n",
        "print(predict_list)\n",
        "print(standard_list)"
      ],
      "execution_count": 45,
      "outputs": [
        {
          "output_type": "stream",
          "text": [
            "866\n",
            "866\n",
            "[77, 935, 878, 495, 269, 269, 269, 269, 269, 445, 16, 16, 391, 391, 21, 503, 27, 787, 27, 749, 31, 228, 31, 37, 37, 37, 37, 37, 37, 301, 37, 37, 37, 37, 38, 515, 49, 325, 325, 49, 100, 228, 53, 53, 644, 60, 216, 63, 735, 343, 71, 343, 76, 76, 509, 79, 94, 94, 635, 635, 635, 635, 635, 635, 635, 635, 635, 635, 635, 635, 635, 635, 635, 635, 635, 635, 635, 635, 635, 635, 635, 635, 635, 265, 94, 94, 94, 94, 94, 289, 94, 289, 80, 80, 491, 749, 85, 88, 88, 268, 137, 299, 91, 91, 92, 94, 94, 94, 94, 94, 94, 94, 94, 836, 887, 96, 594, 98, 98, 100, 100, 100, 100, 959, 746, 108, 108, 108, 108, 111, 111, 111, 111, 117, 117, 117, 117, 125, 125, 125, 125, 125, 125, 125, 125, 125, 125, 125, 125, 125, 125, 129, 129, 343, 394, 427, 89, 89, 137, 139, 499, 447, 148, 151, 151, 158, 160, 160, 910, 166, 166, 166, 166, 166, 166, 350, 172, 172, 364, 700, 172, 172, 172, 172, 173, 214, 34, 277, 181, 794, 182, 182, 182, 182, 183, 183, 183, 183, 183, 183, 184, 187, 187, 187, 188, 190, 190, 190, 190, 190, 190, 309, 197, 197, 834, 206, 210, 210, 210, 903, 94, 214, 187, 214, 214, 896, 214, 214, 214, 214, 214, 214, 425, 216, 216, 291, 218, 226, 226, 228, 228, 228, 228, 228, 228, 228, 228, 228, 228, 228, 228, 228, 228, 228, 228, 228, 228, 541, 232, 234, 234, 235, 235, 235, 235, 236, 236, 434, 503, 243, 243, 243, 243, 243, 243, 245, 245, 245, 902, 245, 245, 245, 245, 245, 246, 246, 903, 254, 254, 852, 309, 260, 228, 265, 265, 265, 265, 265, 265, 265, 265, 265, 58, 265, 265, 265, 265, 265, 265, 265, 265, 265, 265, 265, 265, 265, 265, 265, 265, 265, 475, 276, 277, 280, 280, 280, 281, 281, 95, 505, 289, 76, 289, 289, 289, 289, 289, 265, 289, 265, 289, 289, 364, 289, 289, 289, 289, 289, 289, 289, 289, 289, 289, 289, 216, 300, 300, 415, 301, 301, 301, 309, 309, 309, 309, 309, 309, 309, 513, 636, 323, 274, 318, 318, 318, 318, 318, 318, 318, 325, 325, 325, 325, 325, 325, 325, 325, 325, 325, 325, 325, 325, 325, 187, 325, 326, 332, 383, 336, 336, 265, 337, 337, 584, 343, 344, 427, 351, 16, 363, 363, 364, 364, 364, 399, 826, 548, 304, 391, 391, 402, 402, 402, 408, 408, 606, 415, 418, 419, 419, 419, 419, 419, 419, 426, 187, 187, 427, 427, 187, 427, 427, 427, 427, 435, 505, 664, 437, 145, 443, 391, 887, 446, 359, 746, 455, 291, 455, 455, 455, 455, 455, 455, 455, 228, 460, 464, 462, 463, 326, 468, 470, 475, 475, 475, 475, 591, 476, 479, 187, 487, 489, 490, 491, 491, 491, 491, 491, 491, 531, 491, 492, 840, 499, 499, 944, 516, 516, 517, 159, 517, 517, 517, 517, 521, 567, 524, 529, 530, 79, 531, 531, 243, 544, 536, 394, 541, 541, 545, 545, 545, 545, 950, 548, 548, 88, 410, 568, 491, 565, 574, 606, 579, 579, 579, 235, 408, 590, 590, 591, 592, 594, 427, 597, 172, 610, 614, 614, 614, 614, 614, 614, 614, 614, 617, 620, 950, 623, 223, 623, 623, 455, 503, 635, 643, 644, 326, 646, 646, 646, 408, 419, 652, 652, 652, 652, 656, 658, 491, 491, 491, 662, 666, 420, 838, 723, 567, 686, 686, 262, 277, 62, 364, 700, 172, 741, 723, 708, 223, 715, 717, 417, 840, 243, 111, 831, 741, 62, 746, 746, 746, 746, 749, 750, 759, 95, 770, 772, 772, 100, 775, 775, 37, 852, 823, 795, 153, 803, 804, 805, 299, 806, 806, 808, 808, 809, 809, 809, 809, 809, 216, 810, 812, 825, 826, 826, 94, 830, 830, 830, 830, 830, 830, 830, 830, 94, 201, 839, 158, 840, 840, 840, 841, 544, 843, 844, 846, 847, 848, 851, 852, 852, 853, 853, 853, 853, 853, 853, 853, 853, 853, 853, 853, 94, 291, 411, 268, 172, 872, 503, 754, 888, 888, 892, 896, 896, 896, 896, 896, 896, 896, 896, 896, 896, 848, 912, 919, 919, 919, 919, 919, 933, 936, 937, 937, 243, 937, 943, 948, 948, 948, 949, 949, 949, 949, 949, 949, 949, 949, 949, 949, 949, 949, 949, 949, 949, 949, 949, 949, 949, 949, 949, 949, 949, 949, 949, 949, 949, 949, 949, 949, 949, 949, 949, 949, 949, 949, 949, 949, 949, 949, 949, 949, 949, 949, 949, 949, 949, 949, 949, 949, 949, 949, 949, 949, 949, 949, 949, 949, 949, 949, 949, 949, 949, 949, 949, 949, 949, 949, 949, 949, 949, 949, 949, 949, 949, 949, 949, 949, 949, 949, 949, 949, 949, 949, 949, 949, 949, 949, 949, 949, 949, 949, 949, 949, 949, 949, 949, 949, 949, 949, 949, 949, 949, 949, 949, 949, 949, 949, 949, 949, 949, 950, 950, 950, 950, 505, 950, 952, 953, 145, 960, 961, 277, 964, 965, 966, 243, 975, 976, 887, 306, 992, 981, 1001, 687, 1015, 1015, 1015, 1017, 1024, 1026, 1026, 1028, 1032, 1035]\n",
            "[2, 4, 5, 7, 8, 8, 8, 8, 8, 11, 16, 16, 20, 20, 21, 24, 27, 27, 27, 29, 31, 31, 31, 37, 37, 37, 37, 37, 37, 37, 37, 37, 37, 37, 38, 41, 49, 49, 49, 49, 49, 50, 53, 53, 55, 60, 61, 63, 65, 66, 71, 73, 76, 76, 78, 79, 79, 79, 79, 79, 79, 79, 79, 79, 79, 79, 79, 79, 79, 79, 79, 79, 79, 79, 79, 79, 79, 79, 79, 79, 79, 79, 79, 79, 79, 79, 79, 79, 79, 79, 79, 79, 80, 80, 82, 82, 85, 88, 88, 89, 89, 91, 91, 91, 92, 94, 94, 94, 94, 94, 94, 94, 94, 94, 96, 96, 97, 98, 98, 100, 100, 100, 100, 100, 107, 108, 108, 108, 108, 111, 111, 111, 111, 117, 117, 117, 117, 125, 125, 125, 125, 125, 125, 125, 125, 125, 125, 125, 125, 125, 125, 127, 129, 129, 133, 135, 137, 137, 137, 139, 140, 142, 148, 151, 151, 158, 160, 160, 163, 166, 166, 166, 166, 166, 166, 166, 172, 172, 172, 172, 172, 172, 172, 172, 173, 173, 175, 178, 181, 182, 182, 182, 182, 182, 183, 183, 183, 183, 183, 183, 184, 187, 187, 187, 188, 190, 190, 190, 190, 190, 190, 190, 197, 197, 202, 206, 210, 210, 210, 210, 212, 214, 214, 214, 214, 214, 214, 214, 214, 214, 214, 214, 215, 216, 216, 218, 218, 226, 226, 228, 228, 228, 228, 228, 228, 228, 228, 228, 228, 228, 228, 228, 228, 228, 228, 228, 228, 231, 232, 234, 234, 235, 235, 235, 235, 236, 236, 238, 238, 243, 243, 243, 243, 243, 243, 245, 245, 245, 245, 245, 245, 245, 245, 245, 246, 246, 253, 254, 254, 258, 260, 260, 260, 265, 265, 265, 265, 265, 265, 265, 265, 265, 265, 265, 265, 265, 265, 265, 265, 265, 265, 265, 265, 265, 265, 265, 265, 265, 265, 265, 272, 276, 277, 280, 280, 280, 281, 281, 283, 288, 289, 289, 289, 289, 289, 289, 289, 289, 289, 289, 289, 289, 289, 289, 289, 289, 289, 289, 289, 289, 289, 289, 289, 289, 291, 300, 300, 301, 301, 301, 301, 309, 309, 309, 309, 309, 309, 309, 311, 313, 314, 316, 318, 318, 318, 318, 318, 318, 318, 325, 325, 325, 325, 325, 325, 325, 325, 325, 325, 325, 325, 325, 325, 325, 325, 326, 332, 334, 336, 336, 337, 337, 337, 343, 343, 344, 344, 351, 359, 363, 363, 364, 364, 364, 367, 377, 384, 387, 391, 391, 402, 402, 402, 408, 408, 415, 415, 418, 419, 419, 419, 419, 419, 419, 426, 427, 427, 427, 427, 427, 427, 427, 427, 427, 435, 436, 437, 437, 438, 443, 444, 445, 446, 447, 455, 455, 455, 455, 455, 455, 455, 455, 455, 455, 460, 460, 461, 462, 463, 467, 468, 470, 475, 475, 475, 475, 475, 476, 479, 487, 487, 489, 490, 491, 491, 491, 491, 491, 491, 491, 491, 492, 493, 499, 499, 500, 516, 516, 517, 517, 517, 517, 517, 517, 521, 522, 524, 529, 530, 531, 531, 531, 532, 533, 536, 539, 541, 541, 545, 545, 545, 545, 546, 548, 548, 554, 557, 559, 562, 565, 574, 577, 579, 579, 579, 581, 589, 590, 590, 591, 592, 594, 597, 597, 604, 610, 614, 614, 614, 614, 614, 614, 614, 614, 617, 620, 621, 623, 623, 623, 623, 629, 634, 635, 643, 644, 645, 646, 646, 646, 648, 651, 652, 652, 652, 652, 656, 658, 662, 662, 662, 662, 666, 670, 673, 677, 677, 686, 686, 688, 692, 693, 697, 700, 700, 704, 706, 708, 713, 715, 717, 728, 728, 728, 730, 733, 741, 741, 746, 746, 746, 746, 749, 750, 759, 762, 770, 772, 773, 775, 775, 775, 775, 785, 791, 795, 798, 803, 804, 805, 805, 806, 806, 808, 808, 809, 809, 809, 809, 809, 810, 810, 812, 825, 826, 826, 830, 830, 830, 830, 830, 830, 830, 830, 830, 834, 834, 839, 840, 840, 840, 840, 841, 842, 843, 844, 846, 847, 848, 851, 852, 852, 853, 853, 853, 853, 853, 853, 853, 853, 853, 853, 853, 853, 853, 855, 861, 864, 872, 881, 885, 888, 888, 892, 896, 896, 896, 896, 896, 896, 896, 897, 897, 897, 899, 912, 919, 919, 919, 919, 919, 933, 936, 937, 937, 937, 937, 943, 948, 948, 948, 949, 949, 949, 949, 949, 949, 949, 949, 949, 949, 949, 949, 949, 949, 949, 949, 949, 949, 949, 949, 949, 949, 949, 949, 949, 949, 949, 949, 949, 949, 949, 949, 949, 949, 949, 949, 949, 949, 949, 949, 949, 949, 949, 949, 949, 949, 949, 949, 949, 949, 949, 949, 949, 949, 949, 949, 949, 949, 949, 949, 949, 949, 949, 949, 949, 949, 949, 949, 949, 949, 949, 949, 949, 949, 949, 949, 949, 949, 949, 949, 949, 949, 949, 949, 949, 949, 949, 949, 949, 949, 949, 949, 949, 949, 949, 949, 949, 949, 949, 949, 949, 949, 949, 949, 949, 949, 949, 949, 949, 949, 949, 950, 950, 950, 950, 950, 950, 952, 953, 955, 960, 961, 964, 964, 965, 966, 970, 975, 976, 985, 988, 992, 995, 1001, 1009, 1015, 1015, 1015, 1017, 1024, 1026, 1026, 1028, 1032, 1035]\n"
          ],
          "name": "stdout"
        }
      ]
    },
    {
      "cell_type": "code",
      "metadata": {
        "id": "XIC4zufnMxtq",
        "colab_type": "code",
        "colab": {
          "base_uri": "https://localhost:8080/",
          "height": 51
        },
        "outputId": "ec22e6a1-6c9a-4864-b98a-7d5bb5309faa"
      },
      "source": [
        "correct_num = 0\n",
        "\n",
        "for i in range(0, 866):\n",
        "  if predict_list[i] == standard_list[i]:\n",
        "    correct_num = correct_num+1\n",
        "  else:\n",
        "    pass\n",
        "print(correct_num)\n",
        "\n",
        "predict_accuracy = correct_num/len(predict_list)\n",
        "print(predict_accuracy)"
      ],
      "execution_count": 46,
      "outputs": [
        {
          "output_type": "stream",
          "text": [
            "638\n",
            "0.7367205542725174\n"
          ],
          "name": "stdout"
        }
      ]
    },
    {
      "cell_type": "code",
      "metadata": {
        "id": "zlKMHp1CIaRJ",
        "colab_type": "code",
        "colab": {}
      },
      "source": [
        ""
      ],
      "execution_count": 0,
      "outputs": []
    }
  ]
}