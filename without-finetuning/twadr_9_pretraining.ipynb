{
  "nbformat": 4,
  "nbformat_minor": 0,
  "metadata": {
    "colab": {
      "name": "twadr_9_pretraining.ipynb",
      "provenance": [],
      "collapsed_sections": [],
      "toc_visible": true,
      "include_colab_link": true
    },
    "kernelspec": {
      "name": "python3",
      "display_name": "Python 3"
    },
    "accelerator": "TPU"
  },
  "cells": [
    {
      "cell_type": "markdown",
      "metadata": {
        "id": "view-in-github",
        "colab_type": "text"
      },
      "source": [
        "<a href=\"https://colab.research.google.com/github/unt-iialab/medical-concept-normalization/blob/master/without-finetuning/twadr_9_pretraining.ipynb\" target=\"_parent\"><img src=\"https://colab.research.google.com/assets/colab-badge.svg\" alt=\"Open In Colab\"/></a>"
      ]
    },
    {
      "cell_type": "code",
      "metadata": {
        "id": "adSi6i2-dWxy",
        "colab_type": "code",
        "colab": {}
      },
      "source": [
        "import os"
      ],
      "execution_count": 0,
      "outputs": []
    },
    {
      "cell_type": "code",
      "metadata": {
        "id": "E7xYCRGPjd9B",
        "colab_type": "code",
        "colab": {}
      },
      "source": [
        "base_dir = 'medical-concept-normalization'"
      ],
      "execution_count": 0,
      "outputs": []
    },
    {
      "cell_type": "code",
      "metadata": {
        "id": "yvIW3aUDjYNS",
        "colab_type": "code",
        "colab": {}
      },
      "source": [
        "os.mkdir(base_dir)"
      ],
      "execution_count": 0,
      "outputs": []
    },
    {
      "cell_type": "code",
      "metadata": {
        "id": "es-FFLlfk6SG",
        "colab_type": "code",
        "colab": {}
      },
      "source": [
        "os.mkdir('medical-concept-normalization/data_collection')"
      ],
      "execution_count": 0,
      "outputs": []
    },
    {
      "cell_type": "markdown",
      "metadata": {
        "id": "0R-Guw_VoJXm",
        "colab_type": "text"
      },
      "source": [
        "**Install fastai and clone the fastai for text classification**\n",
        "\n"
      ]
    },
    {
      "cell_type": "code",
      "metadata": {
        "id": "QVZa3Z0PmHFH",
        "colab_type": "code",
        "outputId": "3be95c22-34ad-41cf-d878-c65eeefaee79",
        "colab": {
          "base_uri": "https://localhost:8080/",
          "height": 170
        }
      },
      "source": [
        "!curl https://course-v3.fast.ai/setup/colab | bash"
      ],
      "execution_count": 5,
      "outputs": [
        {
          "output_type": "stream",
          "text": [
            "  % Total    % Received % Xferd  Average Speed   Time    Time     Time  Current\n",
            "                                 Dload  Upload   Total   Spent    Left  Speed\n",
            "  0     0    0     0    0     0      0      0 --:--:--  0:00:02 --:--:--     0\n",
            "curl: (60) SSL certificate problem: certificate has expired\n",
            "More details here: https://curl.haxx.se/docs/sslcerts.html\n",
            "\n",
            "curl failed to verify the legitimacy of the server and therefore could not\n",
            "establish a secure connection to it. To learn more about this situation and\n",
            "how to fix it, please visit the web page mentioned above.\n"
          ],
          "name": "stdout"
        }
      ]
    },
    {
      "cell_type": "code",
      "metadata": {
        "id": "_FBFFEBrmJC0",
        "colab_type": "code",
        "outputId": "25036694-b50a-4096-de2e-678c36b5f64b",
        "colab": {
          "base_uri": "https://localhost:8080/",
          "height": 85
        }
      },
      "source": [
        "!git clone https://github.com/wshuyi/demo-nlp-classification-fastai.git"
      ],
      "execution_count": 6,
      "outputs": [
        {
          "output_type": "stream",
          "text": [
            "Cloning into 'demo-nlp-classification-fastai'...\n",
            "remote: Enumerating objects: 9, done.\u001b[K\n",
            "remote: Total 9 (delta 0), reused 0 (delta 0), pack-reused 9\u001b[K\n",
            "Unpacking objects: 100% (9/9), done.\n"
          ],
          "name": "stdout"
        }
      ]
    },
    {
      "cell_type": "code",
      "metadata": {
        "id": "66zfh_JqmWMU",
        "colab_type": "code",
        "colab": {}
      },
      "source": [
        "from fastai import *\n",
        "from fastai.text import *"
      ],
      "execution_count": 0,
      "outputs": []
    },
    {
      "cell_type": "markdown",
      "metadata": {
        "id": "mNIw-yALdBU9",
        "colab_type": "text"
      },
      "source": [
        "**Set the path of the data collections**"
      ]
    },
    {
      "cell_type": "code",
      "metadata": {
        "id": "pzH7VMh4mqCL",
        "colab_type": "code",
        "colab": {}
      },
      "source": [
        "path = Path('medical-concept-normalization/data_collection')"
      ],
      "execution_count": 0,
      "outputs": []
    },
    {
      "cell_type": "code",
      "metadata": {
        "id": "b8fjI6yyn4aS",
        "colab_type": "code",
        "colab": {}
      },
      "source": [
        "# training data set\n",
        "\n",
        "train_csv = path/'TwADR-L.fold-9.train.csv'\n",
        "train = pd.read_csv(train_csv, header=None)\n",
        "#train.head()\n",
        "#train.info()"
      ],
      "execution_count": 0,
      "outputs": []
    },
    {
      "cell_type": "code",
      "metadata": {
        "id": "Hmlr-bAorfHd",
        "colab_type": "code",
        "outputId": "e380a878-3b3f-40c2-ed42-f3272bf19f37",
        "colab": {
          "base_uri": "https://localhost:8080/",
          "height": 204
        }
      },
      "source": [
        "# validating data set\n",
        "\n",
        "valid = pd.read_csv(path/\"TwADR-L.fold-9.validation.csv\",header=None)\n",
        "valid.head()"
      ],
      "execution_count": 11,
      "outputs": [
        {
          "output_type": "execute_result",
          "data": {
            "text/html": [
              "<div>\n",
              "<style scoped>\n",
              "    .dataframe tbody tr th:only-of-type {\n",
              "        vertical-align: middle;\n",
              "    }\n",
              "\n",
              "    .dataframe tbody tr th {\n",
              "        vertical-align: top;\n",
              "    }\n",
              "\n",
              "    .dataframe thead th {\n",
              "        text-align: right;\n",
              "    }\n",
              "</style>\n",
              "<table border=\"1\" class=\"dataframe\">\n",
              "  <thead>\n",
              "    <tr style=\"text-align: right;\">\n",
              "      <th></th>\n",
              "      <th>0</th>\n",
              "      <th>1</th>\n",
              "    </tr>\n",
              "  </thead>\n",
              "  <tbody>\n",
              "    <tr>\n",
              "      <th>0</th>\n",
              "      <td>13</td>\n",
              "      <td>up all night</td>\n",
              "    </tr>\n",
              "    <tr>\n",
              "      <th>1</th>\n",
              "      <td>13</td>\n",
              "      <td>insomnia</td>\n",
              "    </tr>\n",
              "    <tr>\n",
              "      <th>2</th>\n",
              "      <td>60</td>\n",
              "      <td>cigarette withdrawal</td>\n",
              "    </tr>\n",
              "    <tr>\n",
              "      <th>3</th>\n",
              "      <td>85</td>\n",
              "      <td>tremor</td>\n",
              "    </tr>\n",
              "    <tr>\n",
              "      <th>4</th>\n",
              "      <td>121</td>\n",
              "      <td>itches</td>\n",
              "    </tr>\n",
              "  </tbody>\n",
              "</table>\n",
              "</div>"
            ],
            "text/plain": [
              "     0                     1\n",
              "0   13          up all night\n",
              "1   13              insomnia\n",
              "2   60  cigarette withdrawal\n",
              "3   85                tremor\n",
              "4  121                itches"
            ]
          },
          "metadata": {
            "tags": []
          },
          "execution_count": 11
        }
      ]
    },
    {
      "cell_type": "code",
      "metadata": {
        "id": "cOza9dfSsBud",
        "colab_type": "code",
        "outputId": "9d2c159f-3bfe-4493-e88f-428024214004",
        "colab": {
          "base_uri": "https://localhost:8080/",
          "height": 204
        }
      },
      "source": [
        "# testing data set\n",
        "\n",
        "test = pd.read_csv(path/\"TwADR-L.fold-9.test.csv\",header=None)\n",
        "test.head()"
      ],
      "execution_count": 12,
      "outputs": [
        {
          "output_type": "execute_result",
          "data": {
            "text/html": [
              "<div>\n",
              "<style scoped>\n",
              "    .dataframe tbody tr th:only-of-type {\n",
              "        vertical-align: middle;\n",
              "    }\n",
              "\n",
              "    .dataframe tbody tr th {\n",
              "        vertical-align: top;\n",
              "    }\n",
              "\n",
              "    .dataframe thead th {\n",
              "        text-align: right;\n",
              "    }\n",
              "</style>\n",
              "<table border=\"1\" class=\"dataframe\">\n",
              "  <thead>\n",
              "    <tr style=\"text-align: right;\">\n",
              "      <th></th>\n",
              "      <th>0</th>\n",
              "      <th>1</th>\n",
              "    </tr>\n",
              "  </thead>\n",
              "  <tbody>\n",
              "    <tr>\n",
              "      <th>0</th>\n",
              "      <td>62</td>\n",
              "      <td>feeling proper psycho</td>\n",
              "    </tr>\n",
              "    <tr>\n",
              "      <th>1</th>\n",
              "      <td>74</td>\n",
              "      <td>useless without</td>\n",
              "    </tr>\n",
              "    <tr>\n",
              "      <th>2</th>\n",
              "      <td>85</td>\n",
              "      <td>tremor</td>\n",
              "    </tr>\n",
              "    <tr>\n",
              "      <th>3</th>\n",
              "      <td>91</td>\n",
              "      <td>jitters</td>\n",
              "    </tr>\n",
              "    <tr>\n",
              "      <th>4</th>\n",
              "      <td>97</td>\n",
              "      <td>screwing with my short term memory</td>\n",
              "    </tr>\n",
              "  </tbody>\n",
              "</table>\n",
              "</div>"
            ],
            "text/plain": [
              "    0                                   1\n",
              "0  62               feeling proper psycho\n",
              "1  74                     useless without\n",
              "2  85                              tremor\n",
              "3  91                             jitters\n",
              "4  97  screwing with my short term memory"
            ]
          },
          "metadata": {
            "tags": []
          },
          "execution_count": 12
        }
      ]
    },
    {
      "cell_type": "code",
      "metadata": {
        "id": "Vo-YNvVYoaH6",
        "colab_type": "code",
        "colab": {}
      },
      "source": [
        "# Creating DataBunch for language modelling\n",
        "\n",
        "data_lm = TextLMDataBunch.from_csv(path, 'fine-tuning_language_model_asapatient_twadr_data.csv')"
      ],
      "execution_count": 0,
      "outputs": []
    },
    {
      "cell_type": "code",
      "metadata": {
        "id": "qcV-9kMnNLBf",
        "colab_type": "code",
        "colab": {}
      },
      "source": [
        ""
      ],
      "execution_count": 0,
      "outputs": []
    },
    {
      "cell_type": "code",
      "metadata": {
        "id": "1ScY9afDsnvE",
        "colab_type": "code",
        "colab": {}
      },
      "source": [
        "# Creating DataBunch for classification\n",
        "\n",
        "# data_clas = TextClasDataBunch.from_df(path, train, valid, test, vocab=data_lm.train_ds.vocab, bs=128)"
      ],
      "execution_count": 0,
      "outputs": []
    },
    {
      "cell_type": "code",
      "metadata": {
        "id": "gzrSdQcvey9p",
        "colab_type": "code",
        "colab": {}
      },
      "source": [
        "data_clas = TextClasDataBunch.from_df(path, train, valid, vocab=data_lm.train_ds.vocab, bs=128)"
      ],
      "execution_count": 0,
      "outputs": []
    },
    {
      "cell_type": "code",
      "metadata": {
        "id": "MD27Tf0Ke3ou",
        "colab_type": "code",
        "colab": {}
      },
      "source": [
        "data_clas.add_test(test,label=0)\n"
      ],
      "execution_count": 0,
      "outputs": []
    },
    {
      "cell_type": "code",
      "metadata": {
        "id": "-dpjnk_rstwk",
        "colab_type": "code",
        "colab": {}
      },
      "source": [
        "data_lm.save()\n",
        "data_clas.save()"
      ],
      "execution_count": 0,
      "outputs": []
    },
    {
      "cell_type": "code",
      "metadata": {
        "id": "4OkiJa36sw5s",
        "colab_type": "code",
        "colab": {
          "base_uri": "https://localhost:8080/",
          "height": 1000
        },
        "outputId": "9ae34e0a-95f4-47b5-d99d-472cdb67328a"
      },
      "source": [
        "data_lm.train_ds.vocab.itos"
      ],
      "execution_count": 18,
      "outputs": [
        {
          "output_type": "execute_result",
          "data": {
            "text/plain": [
              "['xxunk',\n",
              " 'xxpad',\n",
              " 'xxbos',\n",
              " 'xxeos',\n",
              " 'xxfld',\n",
              " 'xxmaj',\n",
              " 'xxup',\n",
              " 'xxrep',\n",
              " 'xxwrep',\n",
              " 'pain',\n",
              " 'lipitor',\n",
              " 'in',\n",
              " 'of',\n",
              " 'muscle',\n",
              " 'severe',\n",
              " 'my',\n",
              " 'to',\n",
              " 'myalgia',\n",
              " 'fatigue',\n",
              " 'loss',\n",
              " 'and',\n",
              " 'lower',\n",
              " '-',\n",
              " 'limb',\n",
              " 'cramp',\n",
              " 'weakness',\n",
              " 'depression',\n",
              " 'stomach',\n",
              " 'the',\n",
              " 'back',\n",
              " 'cramps',\n",
              " 'increased',\n",
              " 'joint',\n",
              " 'memory',\n",
              " 'upper',\n",
              " 'gas',\n",
              " 'leg',\n",
              " 'mood',\n",
              " 'headache',\n",
              " 'legs',\n",
              " 'pains',\n",
              " 'insomnia',\n",
              " 'shoulder',\n",
              " 'disorder',\n",
              " 'feeling',\n",
              " 'unable',\n",
              " 'anxiety',\n",
              " 'knee',\n",
              " ',',\n",
              " 'arthralgia',\n",
              " 'neck',\n",
              " 'foot',\n",
              " 'excessive',\n",
              " 'like',\n",
              " 'nausea',\n",
              " 'weight',\n",
              " 'gastrointestinal',\n",
              " 'numbness',\n",
              " 'dizziness',\n",
              " 'heart',\n",
              " 'arthritis',\n",
              " 'aches',\n",
              " 'abnormal',\n",
              " 'disease',\n",
              " 'hip',\n",
              " 'abdominal',\n",
              " 'sleep',\n",
              " 'tired',\n",
              " 'skin',\n",
              " 'swelling',\n",
              " '/',\n",
              " 'bleeding',\n",
              " 'me',\n",
              " 'arthrotec',\n",
              " 'difficulty',\n",
              " ')',\n",
              " 'walk',\n",
              " 'asthenia',\n",
              " '(',\n",
              " 'a',\n",
              " 'blood',\n",
              " 'walking',\n",
              " 'problems',\n",
              " 'stiffness',\n",
              " 'chest',\n",
              " 'ache',\n",
              " 'feet',\n",
              " 'vision',\n",
              " 'liver',\n",
              " 'i',\n",
              " 'withdrawal',\n",
              " 'hand',\n",
              " 'syndrome',\n",
              " 'muscles',\n",
              " 'hair',\n",
              " 'burning',\n",
              " 'all',\n",
              " 'decreased',\n",
              " 'energy',\n",
              " 'backache',\n",
              " 'extreme',\n",
              " 'symptoms',\n",
              " 'zocor',\n",
              " 'not',\n",
              " 'diarrhoea',\n",
              " 'pins',\n",
              " 'needles',\n",
              " 'amnesia',\n",
              " 'up',\n",
              " 'impairment',\n",
              " 'body',\n",
              " 'cramping',\n",
              " 'gain',\n",
              " 'disturbance',\n",
              " 'very',\n",
              " 'tingling',\n",
              " 'symptom',\n",
              " 'cholesterol',\n",
              " 'rash',\n",
              " 'lack',\n",
              " 'calf',\n",
              " 'on',\n",
              " 'low',\n",
              " 'disability',\n",
              " 'bloating',\n",
              " 'stiff',\n",
              " 'left',\n",
              " 'high',\n",
              " 'could',\n",
              " 'appetite',\n",
              " 'feel',\n",
              " 'irritable',\n",
              " 'short',\n",
              " 'sleeplessness',\n",
              " 'disorders',\n",
              " 'pressure',\n",
              " 'finding',\n",
              " \"n't\",\n",
              " 'term',\n",
              " 'headaches',\n",
              " 'neuropathy',\n",
              " 'sore',\n",
              " 'attack',\n",
              " 'constipation',\n",
              " 'behavior',\n",
              " 'sensation',\n",
              " 'hands',\n",
              " 'poor',\n",
              " 'acute',\n",
              " 'arm',\n",
              " 'drug',\n",
              " 'hurt',\n",
              " 'blurred',\n",
              " 'arms',\n",
              " 'diseases',\n",
              " 'ankle',\n",
              " 'dry',\n",
              " 'mental',\n",
              " 'balance',\n",
              " 'infarction',\n",
              " 'voltaren',\n",
              " 'vaginal',\n",
              " 'swings',\n",
              " 'vertigo',\n",
              " 'myocardial',\n",
              " 'with',\n",
              " 'itching',\n",
              " 'acid',\n",
              " 'tiredness',\n",
              " 'atrophy',\n",
              " 'swollen',\n",
              " 'generalised',\n",
              " 'somnolence',\n",
              " \"'s\",\n",
              " 'pravachol',\n",
              " 'myositis',\n",
              " 'joints',\n",
              " 'spasm',\n",
              " 'depressed',\n",
              " 'tremor',\n",
              " 'mentally',\n",
              " 'painful',\n",
              " 'diarrhea',\n",
              " 'is',\n",
              " 'upset',\n",
              " 'exhaustion',\n",
              " 'diabetes',\n",
              " 'discomfort',\n",
              " 'visual',\n",
              " 'elevated',\n",
              " 'got',\n",
              " 'time',\n",
              " 'panic',\n",
              " 'raised',\n",
              " 'eye',\n",
              " 'ubidecarenone',\n",
              " 'injury',\n",
              " 'illness',\n",
              " 'was',\n",
              " 'influenza',\n",
              " 'vomiting',\n",
              " 'sweating',\n",
              " 'libido',\n",
              " 'right',\n",
              " 'kidney',\n",
              " 'infection',\n",
              " 'sleeping',\n",
              " 'serum',\n",
              " 'dull',\n",
              " 'weak',\n",
              " 'out',\n",
              " 'dreams',\n",
              " 'bad',\n",
              " 'can',\n",
              " 'hyperactive',\n",
              " 'at',\n",
              " 'brain',\n",
              " 'damage',\n",
              " 'concentration',\n",
              " 'shoulders',\n",
              " 'had',\n",
              " 'reduced',\n",
              " 'spasms',\n",
              " 'elbow',\n",
              " 'so',\n",
              " 'constant',\n",
              " 'failure',\n",
              " 'knees',\n",
              " 'myopathy',\n",
              " 'get',\n",
              " 'drowsiness',\n",
              " 'toe',\n",
              " 'throat',\n",
              " 'tendonitis',\n",
              " 'flatulence',\n",
              " 'feelings',\n",
              " 'crestor',\n",
              " 'chronic',\n",
              " 'hazy',\n",
              " 'lightheadedness',\n",
              " 'reflux',\n",
              " 'excitability',\n",
              " 'cold',\n",
              " 'urine',\n",
              " 'state',\n",
              " 'both',\n",
              " 'attention',\n",
              " 'heavy',\n",
              " 'fibromyalgia',\n",
              " 'concentrate',\n",
              " 'awake',\n",
              " 'movement',\n",
              " 'allergic',\n",
              " 'confusion',\n",
              " 'bed',\n",
              " 'ceiling',\n",
              " 'night',\n",
              " 'problem',\n",
              " 'taste',\n",
              " 'or',\n",
              " 'impaired',\n",
              " 'peripheral',\n",
              " 'sclerosis',\n",
              " 'thigh',\n",
              " 'level',\n",
              " 'migraine',\n",
              " 'face',\n",
              " 'mellitus',\n",
              " 'attacks',\n",
              " 'bipolar',\n",
              " 'flu',\n",
              " 'from',\n",
              " 'respiratory',\n",
              " 'for',\n",
              " 'no',\n",
              " 'ulcer',\n",
              " 'renal',\n",
              " 'malaise',\n",
              " 'head',\n",
              " 'off',\n",
              " '#',\n",
              " 'hips',\n",
              " 'cough',\n",
              " 'simvastatin',\n",
              " 'breast',\n",
              " 'stress',\n",
              " 'facial',\n",
              " 'eyes',\n",
              " 'function',\n",
              " 'speech',\n",
              " 'reaction',\n",
              " 'ezetimibe',\n",
              " 'down',\n",
              " 'palpitations',\n",
              " 'drowsy',\n",
              " 'intense',\n",
              " 'wakefulness',\n",
              " 'tinnitus',\n",
              " 'menstrual',\n",
              " 'twitch',\n",
              " 'wind',\n",
              " 'uterine',\n",
              " 'stairs',\n",
              " 'finger',\n",
              " 'soreness',\n",
              " 'esters',\n",
              " 'tendon',\n",
              " 'nerve',\n",
              " 'lupus',\n",
              " 'paraesthesia',\n",
              " 'toes',\n",
              " 'aching',\n",
              " 'nasal',\n",
              " 'mild',\n",
              " 'ca',\n",
              " 'c',\n",
              " 'hot',\n",
              " 'celebrex',\n",
              " 'breathing',\n",
              " 'over',\n",
              " 'hypertension',\n",
              " 'bone',\n",
              " 'parkinson',\n",
              " 'charleyhorse',\n",
              " 'swallowing',\n",
              " 'type',\n",
              " 'sinus',\n",
              " 'terrible',\n",
              " 'ankles',\n",
              " 'by',\n",
              " 'restless',\n",
              " 'general',\n",
              " 'pruritus',\n",
              " 'edema',\n",
              " 'ibuprofen',\n",
              " 'motivation',\n",
              " 'limbs',\n",
              " 'dizzy',\n",
              " 'sleepy',\n",
              " 'calves',\n",
              " 'mouth',\n",
              " 'ascorbic',\n",
              " 'oedema',\n",
              " 'have',\n",
              " 'system',\n",
              " 'tightness',\n",
              " 'suicidal',\n",
              " 'gout',\n",
              " 'hunger',\n",
              " 'indigestion',\n",
              " 'malignant',\n",
              " 'fingers',\n",
              " 'felt',\n",
              " 'dyspnoea',\n",
              " 'fever',\n",
              " 'excruciating',\n",
              " 'multiple',\n",
              " 'site',\n",
              " 'heartburn',\n",
              " 'cancer',\n",
              " 'dysfunction',\n",
              " 'nightmares',\n",
              " 'urinary',\n",
              " 'heel',\n",
              " 'day',\n",
              " 'tract',\n",
              " 'rheumatoid',\n",
              " 'bowel',\n",
              " 'menopause',\n",
              " 'initial',\n",
              " 'are',\n",
              " 'nervous',\n",
              " 'rage',\n",
              " 'wrist',\n",
              " 'cardiac',\n",
              " 'anger',\n",
              " 'infections',\n",
              " 'asthma',\n",
              " 'trouble',\n",
              " 'dark',\n",
              " 'lateral',\n",
              " 'hemorrhage',\n",
              " 'hallucinations',\n",
              " 'numb',\n",
              " \"'m\",\n",
              " 'enzymes',\n",
              " 'psychotic',\n",
              " 'vitamin',\n",
              " 'oil',\n",
              " 'asleep',\n",
              " 'has',\n",
              " 'deficit',\n",
              " 'thoughts',\n",
              " 'think',\n",
              " 'distress',\n",
              " 'getting',\n",
              " 'it',\n",
              " 'ear',\n",
              " 'mg',\n",
              " 'zombie',\n",
              " 'fish',\n",
              " 'carcinoma',\n",
              " 'provoked',\n",
              " 'strength',\n",
              " 'cell',\n",
              " 'hypersomnia',\n",
              " 'fog',\n",
              " 'congestion',\n",
              " 'erythema',\n",
              " 'makes',\n",
              " 'middle',\n",
              " 'extremity',\n",
              " 'inflammation',\n",
              " 'change',\n",
              " 'mobility',\n",
              " 'sharp',\n",
              " 'hungry',\n",
              " 'always',\n",
              " 'dermatitis',\n",
              " 'cerebrovascular',\n",
              " 'lost',\n",
              " 'tylenol',\n",
              " 'gastric',\n",
              " 'creatinine',\n",
              " 'advil',\n",
              " 'accident',\n",
              " '+',\n",
              " 'diabetic',\n",
              " 'tachycardia',\n",
              " 'sick',\n",
              " 'move',\n",
              " 'irritation',\n",
              " 'amyotrophic',\n",
              " 'daytime',\n",
              " 'fenofibrate',\n",
              " 'sexual',\n",
              " 'sleepiness',\n",
              " 'elbows',\n",
              " 'twitching',\n",
              " 'side',\n",
              " 'coq10',\n",
              " 'weird',\n",
              " 'neoplasm',\n",
              " 'thighs',\n",
              " 'falling',\n",
              " 'breath',\n",
              " 'loose',\n",
              " 'horses',\n",
              " 'tongue',\n",
              " 'depressive',\n",
              " 'plantar',\n",
              " 'tolerance',\n",
              " 'sweat',\n",
              " 'aleve',\n",
              " 'clearly',\n",
              " 'major',\n",
              " 'present',\n",
              " 'anemia',\n",
              " '&',\n",
              " 'exercise',\n",
              " 'fatigued',\n",
              " 'moody',\n",
              " 'aggravated',\n",
              " 'hepatic',\n",
              " 'eczema',\n",
              " 'colic',\n",
              " '3',\n",
              " 'still',\n",
              " 'erythematosus',\n",
              " 'tight',\n",
              " 'pulmonary',\n",
              " 'lethargy',\n",
              " 'abdomen',\n",
              " 'charley',\n",
              " 'dependence',\n",
              " 'slurred',\n",
              " '2',\n",
              " 'hardly',\n",
              " 'hurts',\n",
              " 'rhabdomyolysis',\n",
              " 'nauseous',\n",
              " 'localised',\n",
              " 'barely',\n",
              " 'conditions',\n",
              " 'colitis',\n",
              " '10',\n",
              " 'musculoskeletal',\n",
              " 'light',\n",
              " 'retention',\n",
              " 'decrease',\n",
              " 'fear',\n",
              " 'every',\n",
              " 'when',\n",
              " 'vivid',\n",
              " 'emotional',\n",
              " 'diclofenac',\n",
              " 'muscular',\n",
              " 'disturbances',\n",
              " 'sudden',\n",
              " 'irregular',\n",
              " 'more',\n",
              " 'rupture',\n",
              " 'prednisone',\n",
              " 'itchy',\n",
              " 'tricor',\n",
              " 'inflammatory',\n",
              " 'stool',\n",
              " 'personality',\n",
              " 'drive',\n",
              " 'pulse',\n",
              " 'thinking',\n",
              " 'fasciitis',\n",
              " 'zetia',\n",
              " 'being',\n",
              " 'eat',\n",
              " 'cortisone',\n",
              " 'hard',\n",
              " 'paracetamol',\n",
              " 'cerebral',\n",
              " 'inability',\n",
              " 'flushing',\n",
              " 'haemorrhage',\n",
              " 'gait',\n",
              " 'achilles',\n",
              " 'do',\n",
              " 'osteoarthritis',\n",
              " 'menorrhagia',\n",
              " 'liptor',\n",
              " 'eating',\n",
              " 'shortness',\n",
              " 'lose',\n",
              " 'death',\n",
              " 'potassium',\n",
              " 'ringing',\n",
              " 'sweats',\n",
              " 'syncope',\n",
              " 'sugar',\n",
              " 'compulsive',\n",
              " 'tension',\n",
              " 'extremely',\n",
              " 'forgetful',\n",
              " 'your',\n",
              " 'that',\n",
              " 'bursitis',\n",
              " 'venous',\n",
              " 'necrosis',\n",
              " 'rectal',\n",
              " 'deep',\n",
              " 'stamina',\n",
              " 'episode',\n",
              " 'paranoia',\n",
              " 'wide',\n",
              " 'arrest',\n",
              " 'one',\n",
              " 'lopid',\n",
              " 'als',\n",
              " 'coronary',\n",
              " 'depersonalization',\n",
              " 'bladder',\n",
              " 'count',\n",
              " 'pneumonia',\n",
              " 'seizures',\n",
              " 'sex',\n",
              " 'bite',\n",
              " 'scalp',\n",
              " 'rigidity',\n",
              " 'zoloft',\n",
              " 'bronchitis',\n",
              " 'sensations',\n",
              " 'social',\n",
              " 'losing',\n",
              " 'make',\n",
              " 'strain',\n",
              " 'changes',\n",
              " 'omega-3-acid',\n",
              " 'ethyl',\n",
              " 'esters-90',\n",
              " 'neuralgia',\n",
              " 'movements',\n",
              " 'neurontin',\n",
              " 'ventricular',\n",
              " 'aptyalism',\n",
              " 'frequent',\n",
              " 'even',\n",
              " 'traumatic',\n",
              " 'red',\n",
              " 'norvasc',\n",
              " 'atorvastatin',\n",
              " 'hurting',\n",
              " 'ability',\n",
              " 'paralysis',\n",
              " 'empty',\n",
              " 'corneal',\n",
              " 'interest',\n",
              " 'little',\n",
              " 'tenderness',\n",
              " 'just',\n",
              " 'around',\n",
              " 'natural',\n",
              " 'foggy',\n",
              " 'cpk',\n",
              " 'non',\n",
              " 'euphoric',\n",
              " 'rapid',\n",
              " 'menstruation',\n",
              " 'delusional',\n",
              " 'obsessive',\n",
              " 'altered',\n",
              " 'adderall',\n",
              " ':',\n",
              " 'arrhythmia',\n",
              " 'craving',\n",
              " 'glucose',\n",
              " 'feels',\n",
              " 'crazy',\n",
              " 'climb',\n",
              " 'motor',\n",
              " 'rhinitis',\n",
              " 'random',\n",
              " 'palsy',\n",
              " 'anything',\n",
              " 'localized',\n",
              " 'density',\n",
              " 'bell',\n",
              " 'spasmodic',\n",
              " 'effect',\n",
              " 'oral',\n",
              " 'fluid',\n",
              " 'region',\n",
              " 'started',\n",
              " 'tooth',\n",
              " 'permanent',\n",
              " 'stand',\n",
              " 'heaviness',\n",
              " 'ms',\n",
              " 'stabbing',\n",
              " 'intoxication',\n",
              " 'stroke',\n",
              " 'difficult',\n",
              " 'injection',\n",
              " 'been',\n",
              " 'area',\n",
              " 'forearm',\n",
              " 'alcohol',\n",
              " 'suicide',\n",
              " 'lung',\n",
              " 'self',\n",
              " 'unwell',\n",
              " 'sense',\n",
              " 'looks',\n",
              " 'abuse',\n",
              " 'creatine',\n",
              " 'blurry',\n",
              " 'fast',\n",
              " 'intolerance',\n",
              " 'sight',\n",
              " 'you',\n",
              " 'withdrawals',\n",
              " 'periods',\n",
              " 'tunnel',\n",
              " 'horrible',\n",
              " 'as',\n",
              " 'neoplasms',\n",
              " 'shaking',\n",
              " 'choking',\n",
              " 'limping',\n",
              " 'aphasia',\n",
              " 'codeine',\n",
              " 'am',\n",
              " 'worse',\n",
              " 'consciousness',\n",
              " 'paranoid',\n",
              " 'ears',\n",
              " 'haematuria',\n",
              " 'crying',\n",
              " 'migraines',\n",
              " 'candidiasis',\n",
              " 'degenerative',\n",
              " 'bloated',\n",
              " 'bulimia',\n",
              " 'things',\n",
              " 'increase',\n",
              " 'lift',\n",
              " 'genital',\n",
              " 'thirst',\n",
              " 'mind',\n",
              " 'electrocardiogram',\n",
              " 'sedated',\n",
              " 'sneezing',\n",
              " 'food',\n",
              " 'going',\n",
              " 'diovan',\n",
              " 'pancreatitis',\n",
              " 'much',\n",
              " 'lipex',\n",
              " 'carpal',\n",
              " 'injuries',\n",
              " 'sever',\n",
              " 'central',\n",
              " 'exhausted',\n",
              " 'fracture',\n",
              " 'bruising',\n",
              " 'erection',\n",
              " 'arthropod',\n",
              " '20',\n",
              " 'allergy',\n",
              " 'endometriosis',\n",
              " 'involuntary',\n",
              " 'due',\n",
              " 'levels',\n",
              " 'sciatica',\n",
              " 'generalized',\n",
              " 'bp',\n",
              " 'were',\n",
              " 'inflamation',\n",
              " 'forgetfulness',\n",
              " 'than',\n",
              " 'cognition',\n",
              " 'nt',\n",
              " 'eructation',\n",
              " 'days',\n",
              " 'block',\n",
              " 'into',\n",
              " 'need',\n",
              " 'became',\n",
              " 'irritability',\n",
              " 'mass',\n",
              " 'extremities',\n",
              " 'whole',\n",
              " 'obstruction',\n",
              " 'transient',\n",
              " 'menopausal',\n",
              " 'partial',\n",
              " 'bacterial',\n",
              " 'digestive',\n",
              " 'omega',\n",
              " 'triglycerides',\n",
              " '1',\n",
              " 'alzheimer',\n",
              " 'morning',\n",
              " 'cystitis',\n",
              " 'hepatitis',\n",
              " 'ached',\n",
              " 'co',\n",
              " 'urticaria',\n",
              " 'ejaculation',\n",
              " 'go',\n",
              " 'disc',\n",
              " '5',\n",
              " 'lipoprotein',\n",
              " 'psychosis',\n",
              " 'white',\n",
              " 'drink',\n",
              " 'dehydration',\n",
              " 'able',\n",
              " 'be',\n",
              " 'wrists',\n",
              " 'incontinence',\n",
              " 'overdose',\n",
              " 'despair',\n",
              " 'tablet',\n",
              " 'ani',\n",
              " '.',\n",
              " 'generally',\n",
              " 'lot',\n",
              " 'remember',\n",
              " '6',\n",
              " 'prolonged',\n",
              " 'persistent',\n",
              " 'sickness',\n",
              " 'clumsiness',\n",
              " 'too',\n",
              " 'binge',\n",
              " 'well',\n",
              " 'insufficiency',\n",
              " 'sinusitis',\n",
              " 'q10',\n",
              " 'jaundice',\n",
              " 'metastatic',\n",
              " 'angry',\n",
              " 'standing',\n",
              " 'thoracic',\n",
              " 'test',\n",
              " 'fatty',\n",
              " 'period',\n",
              " 'alopecia',\n",
              " 'overall',\n",
              " 'shock',\n",
              " 'limp',\n",
              " 'agitated',\n",
              " 'tendency',\n",
              " 'diastolic',\n",
              " 'hypochondriasis',\n",
              " 'water',\n",
              " 'slight',\n",
              " 'b',\n",
              " 'rate',\n",
              " 'testosterone',\n",
              " 'thinning',\n",
              " 'acne',\n",
              " 'spotting',\n",
              " 'behaviour',\n",
              " 'uterus',\n",
              " 'twitches',\n",
              " 'slightly',\n",
              " 'fractures',\n",
              " 'dementia',\n",
              " 'female',\n",
              " 'issues',\n",
              " 'unconscious',\n",
              " 'sun',\n",
              " 'cycle',\n",
              " 'jaw',\n",
              " 'everything',\n",
              " 'chill',\n",
              " 'erectile',\n",
              " 'restlessness',\n",
              " 'adenocarcinoma',\n",
              " 'entire',\n",
              " 'tissue',\n",
              " 'something',\n",
              " 'hives',\n",
              " 'herpes',\n",
              " 'hyper',\n",
              " '-pelvis',\n",
              " 'atrial',\n",
              " 'viral',\n",
              " 'achy',\n",
              " 'away',\n",
              " 'between',\n",
              " 'gastritis',\n",
              " 'enzyme',\n",
              " 'complex',\n",
              " 'male',\n",
              " 'dysphonia',\n",
              " 'gland',\n",
              " 'lumbar',\n",
              " 'condition',\n",
              " 'stools',\n",
              " 'thyroid',\n",
              " 'sides',\n",
              " 'epilepsy',\n",
              " 'fall',\n",
              " 'lbs',\n",
              " 'agony',\n",
              " 'burn',\n",
              " 'coated',\n",
              " 'muscels',\n",
              " 'spine',\n",
              " 'same',\n",
              " 'vasculitis',\n",
              " 'gained',\n",
              " 'tumour',\n",
              " '40',\n",
              " 'chills',\n",
              " 'went',\n",
              " 'perforation',\n",
              " 'intestinal',\n",
              " 'prostate',\n",
              " 'trauma',\n",
              " 'mobic',\n",
              " 'hypomania',\n",
              " 'tender',\n",
              " 'post',\n",
              " 'almost',\n",
              " 'throbbing',\n",
              " 'drunk',\n",
              " 'unsteady',\n",
              " 'ulcerative',\n",
              " 'anxious',\n",
              " 'headed',\n",
              " 'desire',\n",
              " 'hours',\n",
              " 'artery',\n",
              " 'fatique',\n",
              " 'metabolic',\n",
              " 'heat',\n",
              " 'unbearable',\n",
              " 'constantly',\n",
              " 'only',\n",
              " 'steatosis',\n",
              " 'gingival',\n",
              " 'cutaneous',\n",
              " 'muscel',\n",
              " 'misoprostol',\n",
              " 'about',\n",
              " 'coma',\n",
              " 'circulation',\n",
              " 'week',\n",
              " 'run',\n",
              " 'eyesight',\n",
              " 'chair',\n",
              " 'alpha',\n",
              " 'tocopherol',\n",
              " 'rib',\n",
              " 'intervertebral',\n",
              " 'touch',\n",
              " 'limitation',\n",
              " 'delayed',\n",
              " 'film',\n",
              " 'disorientated',\n",
              " 'acidosis',\n",
              " 'arthritic',\n",
              " 'beat',\n",
              " 'application',\n",
              " 'epigastric',\n",
              " 'aspirin',\n",
              " 'cataflam',\n",
              " 'postmenopausal',\n",
              " 'unhappy',\n",
              " 'super',\n",
              " 'morphine',\n",
              " 'tremors',\n",
              " 'contusion',\n",
              " 'words',\n",
              " 'infective',\n",
              " 'terrors',\n",
              " 'ii',\n",
              " 'tenalgia',\n",
              " 'moving',\n",
              " 'lexapro',\n",
              " 'would',\n",
              " 'prozac',\n",
              " 'hearing',\n",
              " 'atrioventricular',\n",
              " 'pounding',\n",
              " 'aneurysm',\n",
              " 'abnormality',\n",
              " 'an',\n",
              " 'arteriosclerosis',\n",
              " 'through',\n",
              " 'phlebitis',\n",
              " 'making',\n",
              " 'long',\n",
              " 'lipidil',\n",
              " 'hit',\n",
              " 'polymyositis',\n",
              " 'toothache',\n",
              " 'ovarian',\n",
              " 'trippin',\n",
              " 'their',\n",
              " 'manic',\n",
              " 'bizarre',\n",
              " 'slow',\n",
              " 'tingly',\n",
              " 'indifferent',\n",
              " 'substance',\n",
              " 'discoloration',\n",
              " 'rashes',\n",
              " 'yellow',\n",
              " 'focusing',\n",
              " 'debilitating',\n",
              " 'minutes',\n",
              " 'want',\n",
              " 'immune',\n",
              " 'discolouration',\n",
              " 'dizzyness',\n",
              " 'antisocial',\n",
              " 'myself',\n",
              " 'occasional',\n",
              " 'moodiness',\n",
              " 'ribs',\n",
              " 'protein',\n",
              " 'pravastatin',\n",
              " 'epicondylitis',\n",
              " 'urinate',\n",
              " 'lightheaded',\n",
              " 'angina',\n",
              " 'difficulties',\n",
              " 'groggy',\n",
              " 'gut',\n",
              " 'different',\n",
              " 'associated',\n",
              " 'interactions',\n",
              " 'clammy',\n",
              " 'forearms',\n",
              " 'cyst',\n",
              " 'coordination',\n",
              " 'calcium',\n",
              " 'breasts',\n",
              " 'arousal',\n",
              " 'trigeminal',\n",
              " 'colon',\n",
              " 'result',\n",
              " 'haematochezia',\n",
              " 'ocular',\n",
              " 'hypothyroidism',\n",
              " 'unspecified',\n",
              " 'glucosamine',\n",
              " 'premature',\n",
              " 'vague',\n",
              " 'blind',\n",
              " 'total',\n",
              " 'reading',\n",
              " 'disorientation',\n",
              " '8',\n",
              " 'hypertonia',\n",
              " 'kinase',\n",
              " 'less',\n",
              " 'hoarse',\n",
              " ...]"
            ]
          },
          "metadata": {
            "tags": []
          },
          "execution_count": 18
        }
      ]
    },
    {
      "cell_type": "code",
      "metadata": {
        "id": "yPWr03mls3VT",
        "colab_type": "code",
        "colab": {}
      },
      "source": [
        "model_path = path/'models'\n",
        "model_path.mkdir(exist_ok=True)\n",
        "url = 'http://files.fast.ai/models/wt103_v1/'\n",
        "download_url(f'{url}lstm_wt103.pth', model_path/'lstm_wt103.pth')\n",
        "download_url(f'{url}itos_wt103.pkl', model_path/'itos_wt103.pkl')"
      ],
      "execution_count": 0,
      "outputs": []
    },
    {
      "cell_type": "code",
      "metadata": {
        "id": "JRzvWg8RtGGr",
        "colab_type": "code",
        "colab": {}
      },
      "source": [
        "# learn = language_model_learner(data_lm, AWD_LSTM, drop_mult=0.5)"
      ],
      "execution_count": 0,
      "outputs": []
    },
    {
      "cell_type": "code",
      "metadata": {
        "id": "xKK7GeBev7Xn",
        "colab_type": "code",
        "colab": {}
      },
      "source": [
        "# learn.fit_one_cycle(1, 1e-2)"
      ],
      "execution_count": 0,
      "outputs": []
    },
    {
      "cell_type": "code",
      "metadata": {
        "id": "iB7rHGQCwd12",
        "colab_type": "code",
        "colab": {}
      },
      "source": [
        "# learn.fit_one_cycle(1, 1e-2)"
      ],
      "execution_count": 0,
      "outputs": []
    },
    {
      "cell_type": "code",
      "metadata": {
        "id": "_BnSuAeCwkBe",
        "colab_type": "code",
        "colab": {}
      },
      "source": [
        "# learn.fit_one_cycle(1, 1e-3)"
      ],
      "execution_count": 0,
      "outputs": []
    },
    {
      "cell_type": "code",
      "metadata": {
        "id": "MuTm-RFjwrEX",
        "colab_type": "code",
        "colab": {}
      },
      "source": [
        "# learn.fit_one_cycle(1, 1e-3)"
      ],
      "execution_count": 0,
      "outputs": []
    },
    {
      "cell_type": "code",
      "metadata": {
        "id": "1Er2ExO8wr7Y",
        "colab_type": "code",
        "colab": {}
      },
      "source": [
        "# learn.save_encoder('bigtweet_fold0_first')"
      ],
      "execution_count": 0,
      "outputs": []
    },
    {
      "cell_type": "code",
      "metadata": {
        "id": "z52cZs2qwvad",
        "colab_type": "code",
        "colab": {
          "base_uri": "https://localhost:8080/",
          "height": 80
        },
        "outputId": "a2651cd5-0dea-4b3a-e817-a6017e2df338"
      },
      "source": [
        "learn = text_classifier_learner(data_clas,AWD_LSTM, drop_mult=0.5)\n",
        "# learn.load_encoder('bigtweet_fold0_first')\n",
        "learn.fit_one_cycle(1, 1e-2)"
      ],
      "execution_count": 26,
      "outputs": [
        {
          "output_type": "display_data",
          "data": {
            "text/html": [
              "<table border=\"1\" class=\"dataframe\">\n",
              "  <thead>\n",
              "    <tr style=\"text-align: left;\">\n",
              "      <th>epoch</th>\n",
              "      <th>train_loss</th>\n",
              "      <th>valid_loss</th>\n",
              "      <th>accuracy</th>\n",
              "      <th>time</th>\n",
              "    </tr>\n",
              "  </thead>\n",
              "  <tbody>\n",
              "    <tr>\n",
              "      <td>0</td>\n",
              "      <td>7.731974</td>\n",
              "      <td>7.264914</td>\n",
              "      <td>0.000000</td>\n",
              "      <td>00:22</td>\n",
              "    </tr>\n",
              "  </tbody>\n",
              "</table>"
            ],
            "text/plain": [
              "<IPython.core.display.HTML object>"
            ]
          },
          "metadata": {
            "tags": []
          }
        }
      ]
    },
    {
      "cell_type": "code",
      "metadata": {
        "id": "ImwQP1PJwzxd",
        "colab_type": "code",
        "colab": {
          "base_uri": "https://localhost:8080/",
          "height": 80
        },
        "outputId": "797830a4-9208-4883-dcc2-b3d3565e8939"
      },
      "source": [
        "learn.freeze_to(-2)\n",
        "learn.fit_one_cycle(1, slice(5e-3/2., 5e-3))"
      ],
      "execution_count": 27,
      "outputs": [
        {
          "output_type": "display_data",
          "data": {
            "text/html": [
              "<table border=\"1\" class=\"dataframe\">\n",
              "  <thead>\n",
              "    <tr style=\"text-align: left;\">\n",
              "      <th>epoch</th>\n",
              "      <th>train_loss</th>\n",
              "      <th>valid_loss</th>\n",
              "      <th>accuracy</th>\n",
              "      <th>time</th>\n",
              "    </tr>\n",
              "  </thead>\n",
              "  <tbody>\n",
              "    <tr>\n",
              "      <td>0</td>\n",
              "      <td>7.463454</td>\n",
              "      <td>6.720620</td>\n",
              "      <td>0.058333</td>\n",
              "      <td>00:26</td>\n",
              "    </tr>\n",
              "  </tbody>\n",
              "</table>"
            ],
            "text/plain": [
              "<IPython.core.display.HTML object>"
            ]
          },
          "metadata": {
            "tags": []
          }
        }
      ]
    },
    {
      "cell_type": "code",
      "metadata": {
        "id": "Owff_BJXw53u",
        "colab_type": "code",
        "colab": {
          "base_uri": "https://localhost:8080/",
          "height": 80
        },
        "outputId": "92758eb0-53a2-432e-b519-75fd32cd63d2"
      },
      "source": [
        "learn.unfreeze()\n",
        "learn.fit_one_cycle(1, slice(2e-3/100, 2e-3))"
      ],
      "execution_count": 28,
      "outputs": [
        {
          "output_type": "display_data",
          "data": {
            "text/html": [
              "<table border=\"1\" class=\"dataframe\">\n",
              "  <thead>\n",
              "    <tr style=\"text-align: left;\">\n",
              "      <th>epoch</th>\n",
              "      <th>train_loss</th>\n",
              "      <th>valid_loss</th>\n",
              "      <th>accuracy</th>\n",
              "      <th>time</th>\n",
              "    </tr>\n",
              "  </thead>\n",
              "  <tbody>\n",
              "    <tr>\n",
              "      <td>0</td>\n",
              "      <td>7.104456</td>\n",
              "      <td>7.990450</td>\n",
              "      <td>0.016667</td>\n",
              "      <td>01:10</td>\n",
              "    </tr>\n",
              "  </tbody>\n",
              "</table>"
            ],
            "text/plain": [
              "<IPython.core.display.HTML object>"
            ]
          },
          "metadata": {
            "tags": []
          }
        }
      ]
    },
    {
      "cell_type": "code",
      "metadata": {
        "id": "lqAyu56V8Waq",
        "colab_type": "code",
        "colab": {
          "base_uri": "https://localhost:8080/",
          "height": 111
        },
        "outputId": "af6143c1-8107-4341-9594-fbb183f0bc6f"
      },
      "source": [
        "learn.fit_one_cycle(2, slice(2e-3/100, 2e-3))"
      ],
      "execution_count": 29,
      "outputs": [
        {
          "output_type": "display_data",
          "data": {
            "text/html": [
              "<table border=\"1\" class=\"dataframe\">\n",
              "  <thead>\n",
              "    <tr style=\"text-align: left;\">\n",
              "      <th>epoch</th>\n",
              "      <th>train_loss</th>\n",
              "      <th>valid_loss</th>\n",
              "      <th>accuracy</th>\n",
              "      <th>time</th>\n",
              "    </tr>\n",
              "  </thead>\n",
              "  <tbody>\n",
              "    <tr>\n",
              "      <td>0</td>\n",
              "      <td>6.811532</td>\n",
              "      <td>12.912779</td>\n",
              "      <td>0.025000</td>\n",
              "      <td>01:07</td>\n",
              "    </tr>\n",
              "    <tr>\n",
              "      <td>1</td>\n",
              "      <td>6.597442</td>\n",
              "      <td>9.696716</td>\n",
              "      <td>0.025000</td>\n",
              "      <td>01:09</td>\n",
              "    </tr>\n",
              "  </tbody>\n",
              "</table>"
            ],
            "text/plain": [
              "<IPython.core.display.HTML object>"
            ]
          },
          "metadata": {
            "tags": []
          }
        }
      ]
    },
    {
      "cell_type": "code",
      "metadata": {
        "id": "a7I1xMRp8bUd",
        "colab_type": "code",
        "colab": {
          "base_uri": "https://localhost:8080/",
          "height": 111
        },
        "outputId": "d5b23469-9c67-43cf-de3c-030656239808"
      },
      "source": [
        "learn.fit_one_cycle(2, slice(2e-3/100, 2e-3))"
      ],
      "execution_count": 30,
      "outputs": [
        {
          "output_type": "display_data",
          "data": {
            "text/html": [
              "<table border=\"1\" class=\"dataframe\">\n",
              "  <thead>\n",
              "    <tr style=\"text-align: left;\">\n",
              "      <th>epoch</th>\n",
              "      <th>train_loss</th>\n",
              "      <th>valid_loss</th>\n",
              "      <th>accuracy</th>\n",
              "      <th>time</th>\n",
              "    </tr>\n",
              "  </thead>\n",
              "  <tbody>\n",
              "    <tr>\n",
              "      <td>0</td>\n",
              "      <td>6.231049</td>\n",
              "      <td>12.823854</td>\n",
              "      <td>0.016667</td>\n",
              "      <td>01:11</td>\n",
              "    </tr>\n",
              "    <tr>\n",
              "      <td>1</td>\n",
              "      <td>6.029032</td>\n",
              "      <td>11.062865</td>\n",
              "      <td>0.025000</td>\n",
              "      <td>01:07</td>\n",
              "    </tr>\n",
              "  </tbody>\n",
              "</table>"
            ],
            "text/plain": [
              "<IPython.core.display.HTML object>"
            ]
          },
          "metadata": {
            "tags": []
          }
        }
      ]
    },
    {
      "cell_type": "code",
      "metadata": {
        "id": "UAnti-XmGVfO",
        "colab_type": "code",
        "colab": {
          "base_uri": "https://localhost:8080/",
          "height": 111
        },
        "outputId": "89b61653-674a-4c13-c923-e9160dac3a7b"
      },
      "source": [
        "learn.fit_one_cycle(2, slice(2e-3/100, 2e-3))"
      ],
      "execution_count": 31,
      "outputs": [
        {
          "output_type": "display_data",
          "data": {
            "text/html": [
              "<table border=\"1\" class=\"dataframe\">\n",
              "  <thead>\n",
              "    <tr style=\"text-align: left;\">\n",
              "      <th>epoch</th>\n",
              "      <th>train_loss</th>\n",
              "      <th>valid_loss</th>\n",
              "      <th>accuracy</th>\n",
              "      <th>time</th>\n",
              "    </tr>\n",
              "  </thead>\n",
              "  <tbody>\n",
              "    <tr>\n",
              "      <td>0</td>\n",
              "      <td>5.768661</td>\n",
              "      <td>16.538206</td>\n",
              "      <td>0.000000</td>\n",
              "      <td>01:08</td>\n",
              "    </tr>\n",
              "    <tr>\n",
              "      <td>1</td>\n",
              "      <td>5.587334</td>\n",
              "      <td>11.080050</td>\n",
              "      <td>0.025000</td>\n",
              "      <td>01:12</td>\n",
              "    </tr>\n",
              "  </tbody>\n",
              "</table>"
            ],
            "text/plain": [
              "<IPython.core.display.HTML object>"
            ]
          },
          "metadata": {
            "tags": []
          }
        }
      ]
    },
    {
      "cell_type": "code",
      "metadata": {
        "id": "bIft7W25GwSu",
        "colab_type": "code",
        "colab": {
          "base_uri": "https://localhost:8080/",
          "height": 111
        },
        "outputId": "df93f74f-79a8-477d-fc35-3b8b09128306"
      },
      "source": [
        "learn.fit_one_cycle(2, slice(2e-3/100, 2e-3))"
      ],
      "execution_count": 32,
      "outputs": [
        {
          "output_type": "display_data",
          "data": {
            "text/html": [
              "<table border=\"1\" class=\"dataframe\">\n",
              "  <thead>\n",
              "    <tr style=\"text-align: left;\">\n",
              "      <th>epoch</th>\n",
              "      <th>train_loss</th>\n",
              "      <th>valid_loss</th>\n",
              "      <th>accuracy</th>\n",
              "      <th>time</th>\n",
              "    </tr>\n",
              "  </thead>\n",
              "  <tbody>\n",
              "    <tr>\n",
              "      <td>0</td>\n",
              "      <td>5.375212</td>\n",
              "      <td>11.821712</td>\n",
              "      <td>0.025000</td>\n",
              "      <td>01:12</td>\n",
              "    </tr>\n",
              "    <tr>\n",
              "      <td>1</td>\n",
              "      <td>5.212023</td>\n",
              "      <td>19.244080</td>\n",
              "      <td>0.025000</td>\n",
              "      <td>01:05</td>\n",
              "    </tr>\n",
              "  </tbody>\n",
              "</table>"
            ],
            "text/plain": [
              "<IPython.core.display.HTML object>"
            ]
          },
          "metadata": {
            "tags": []
          }
        }
      ]
    },
    {
      "cell_type": "code",
      "metadata": {
        "id": "EEHszVRvGyFt",
        "colab_type": "code",
        "colab": {
          "base_uri": "https://localhost:8080/",
          "height": 111
        },
        "outputId": "7078163e-deda-4ef4-ac5f-a147c43e183b"
      },
      "source": [
        "learn.fit_one_cycle(2, slice(2e-3/100, 2e-3))"
      ],
      "execution_count": 33,
      "outputs": [
        {
          "output_type": "display_data",
          "data": {
            "text/html": [
              "<table border=\"1\" class=\"dataframe\">\n",
              "  <thead>\n",
              "    <tr style=\"text-align: left;\">\n",
              "      <th>epoch</th>\n",
              "      <th>train_loss</th>\n",
              "      <th>valid_loss</th>\n",
              "      <th>accuracy</th>\n",
              "      <th>time</th>\n",
              "    </tr>\n",
              "  </thead>\n",
              "  <tbody>\n",
              "    <tr>\n",
              "      <td>0</td>\n",
              "      <td>5.053947</td>\n",
              "      <td>12.416724</td>\n",
              "      <td>0.008333</td>\n",
              "      <td>01:10</td>\n",
              "    </tr>\n",
              "    <tr>\n",
              "      <td>1</td>\n",
              "      <td>4.912755</td>\n",
              "      <td>8.865571</td>\n",
              "      <td>0.008333</td>\n",
              "      <td>01:13</td>\n",
              "    </tr>\n",
              "  </tbody>\n",
              "</table>"
            ],
            "text/plain": [
              "<IPython.core.display.HTML object>"
            ]
          },
          "metadata": {
            "tags": []
          }
        }
      ]
    },
    {
      "cell_type": "code",
      "metadata": {
        "id": "XsHfrhCHG3dN",
        "colab_type": "code",
        "colab": {
          "base_uri": "https://localhost:8080/",
          "height": 173
        },
        "outputId": "6f82cd06-ea1f-4932-8c7c-4b80d881f60c"
      },
      "source": [
        "learn.fit_one_cycle(4, slice(2e-3/100, 2e-3))"
      ],
      "execution_count": 34,
      "outputs": [
        {
          "output_type": "display_data",
          "data": {
            "text/html": [
              "<table border=\"1\" class=\"dataframe\">\n",
              "  <thead>\n",
              "    <tr style=\"text-align: left;\">\n",
              "      <th>epoch</th>\n",
              "      <th>train_loss</th>\n",
              "      <th>valid_loss</th>\n",
              "      <th>accuracy</th>\n",
              "      <th>time</th>\n",
              "    </tr>\n",
              "  </thead>\n",
              "  <tbody>\n",
              "    <tr>\n",
              "      <td>0</td>\n",
              "      <td>4.719159</td>\n",
              "      <td>12.628475</td>\n",
              "      <td>0.008333</td>\n",
              "      <td>01:05</td>\n",
              "    </tr>\n",
              "    <tr>\n",
              "      <td>1</td>\n",
              "      <td>4.697905</td>\n",
              "      <td>12.453599</td>\n",
              "      <td>0.008333</td>\n",
              "      <td>01:09</td>\n",
              "    </tr>\n",
              "    <tr>\n",
              "      <td>2</td>\n",
              "      <td>4.507733</td>\n",
              "      <td>9.168921</td>\n",
              "      <td>0.033333</td>\n",
              "      <td>01:11</td>\n",
              "    </tr>\n",
              "    <tr>\n",
              "      <td>3</td>\n",
              "      <td>4.318503</td>\n",
              "      <td>11.787702</td>\n",
              "      <td>0.016667</td>\n",
              "      <td>01:10</td>\n",
              "    </tr>\n",
              "  </tbody>\n",
              "</table>"
            ],
            "text/plain": [
              "<IPython.core.display.HTML object>"
            ]
          },
          "metadata": {
            "tags": []
          }
        }
      ]
    },
    {
      "cell_type": "code",
      "metadata": {
        "id": "0Zsd99isb9EQ",
        "colab_type": "code",
        "colab": {
          "base_uri": "https://localhost:8080/",
          "height": 173
        },
        "outputId": "bd7df52a-058c-4379-be23-15803da2458b"
      },
      "source": [
        "learn.fit_one_cycle(4, slice(2e-3/100, 2e-3))"
      ],
      "execution_count": 35,
      "outputs": [
        {
          "output_type": "display_data",
          "data": {
            "text/html": [
              "<table border=\"1\" class=\"dataframe\">\n",
              "  <thead>\n",
              "    <tr style=\"text-align: left;\">\n",
              "      <th>epoch</th>\n",
              "      <th>train_loss</th>\n",
              "      <th>valid_loss</th>\n",
              "      <th>accuracy</th>\n",
              "      <th>time</th>\n",
              "    </tr>\n",
              "  </thead>\n",
              "  <tbody>\n",
              "    <tr>\n",
              "      <td>0</td>\n",
              "      <td>4.195561</td>\n",
              "      <td>18.303658</td>\n",
              "      <td>0.000000</td>\n",
              "      <td>01:07</td>\n",
              "    </tr>\n",
              "    <tr>\n",
              "      <td>1</td>\n",
              "      <td>4.132877</td>\n",
              "      <td>24.540535</td>\n",
              "      <td>0.000000</td>\n",
              "      <td>01:07</td>\n",
              "    </tr>\n",
              "    <tr>\n",
              "      <td>2</td>\n",
              "      <td>3.981174</td>\n",
              "      <td>7.505272</td>\n",
              "      <td>0.083333</td>\n",
              "      <td>01:10</td>\n",
              "    </tr>\n",
              "    <tr>\n",
              "      <td>3</td>\n",
              "      <td>3.830514</td>\n",
              "      <td>10.471571</td>\n",
              "      <td>0.008333</td>\n",
              "      <td>01:08</td>\n",
              "    </tr>\n",
              "  </tbody>\n",
              "</table>"
            ],
            "text/plain": [
              "<IPython.core.display.HTML object>"
            ]
          },
          "metadata": {
            "tags": []
          }
        }
      ]
    },
    {
      "cell_type": "code",
      "metadata": {
        "id": "atNWNKDFPbuI",
        "colab_type": "code",
        "colab": {
          "base_uri": "https://localhost:8080/",
          "height": 173
        },
        "outputId": "e3add329-925e-42e9-f690-8a358a31c298"
      },
      "source": [
        "learn.fit_one_cycle(4, slice(2e-3/100, 2e-3))"
      ],
      "execution_count": 36,
      "outputs": [
        {
          "output_type": "display_data",
          "data": {
            "text/html": [
              "<table border=\"1\" class=\"dataframe\">\n",
              "  <thead>\n",
              "    <tr style=\"text-align: left;\">\n",
              "      <th>epoch</th>\n",
              "      <th>train_loss</th>\n",
              "      <th>valid_loss</th>\n",
              "      <th>accuracy</th>\n",
              "      <th>time</th>\n",
              "    </tr>\n",
              "  </thead>\n",
              "  <tbody>\n",
              "    <tr>\n",
              "      <td>0</td>\n",
              "      <td>3.658526</td>\n",
              "      <td>7.546276</td>\n",
              "      <td>0.025000</td>\n",
              "      <td>01:10</td>\n",
              "    </tr>\n",
              "    <tr>\n",
              "      <td>1</td>\n",
              "      <td>3.613602</td>\n",
              "      <td>11.514052</td>\n",
              "      <td>0.008333</td>\n",
              "      <td>01:09</td>\n",
              "    </tr>\n",
              "    <tr>\n",
              "      <td>2</td>\n",
              "      <td>3.446274</td>\n",
              "      <td>9.140631</td>\n",
              "      <td>0.041667</td>\n",
              "      <td>01:06</td>\n",
              "    </tr>\n",
              "    <tr>\n",
              "      <td>3</td>\n",
              "      <td>3.303524</td>\n",
              "      <td>7.404729</td>\n",
              "      <td>0.083333</td>\n",
              "      <td>01:10</td>\n",
              "    </tr>\n",
              "  </tbody>\n",
              "</table>"
            ],
            "text/plain": [
              "<IPython.core.display.HTML object>"
            ]
          },
          "metadata": {
            "tags": []
          }
        }
      ]
    },
    {
      "cell_type": "code",
      "metadata": {
        "id": "rKrBTZ0T1uVA",
        "colab_type": "code",
        "colab": {
          "base_uri": "https://localhost:8080/",
          "height": 173
        },
        "outputId": "a7478aea-ef6d-451d-f52c-68bc0c00a1fe"
      },
      "source": [
        "learn.fit_one_cycle(4, slice(2e-3/100, 2e-3))"
      ],
      "execution_count": 37,
      "outputs": [
        {
          "output_type": "display_data",
          "data": {
            "text/html": [
              "<table border=\"1\" class=\"dataframe\">\n",
              "  <thead>\n",
              "    <tr style=\"text-align: left;\">\n",
              "      <th>epoch</th>\n",
              "      <th>train_loss</th>\n",
              "      <th>valid_loss</th>\n",
              "      <th>accuracy</th>\n",
              "      <th>time</th>\n",
              "    </tr>\n",
              "  </thead>\n",
              "  <tbody>\n",
              "    <tr>\n",
              "      <td>0</td>\n",
              "      <td>3.145449</td>\n",
              "      <td>12.999233</td>\n",
              "      <td>0.033333</td>\n",
              "      <td>01:08</td>\n",
              "    </tr>\n",
              "    <tr>\n",
              "      <td>1</td>\n",
              "      <td>3.173433</td>\n",
              "      <td>7.316425</td>\n",
              "      <td>0.041667</td>\n",
              "      <td>01:09</td>\n",
              "    </tr>\n",
              "    <tr>\n",
              "      <td>2</td>\n",
              "      <td>3.006764</td>\n",
              "      <td>13.634416</td>\n",
              "      <td>0.000000</td>\n",
              "      <td>01:09</td>\n",
              "    </tr>\n",
              "    <tr>\n",
              "      <td>3</td>\n",
              "      <td>2.837898</td>\n",
              "      <td>15.371143</td>\n",
              "      <td>0.000000</td>\n",
              "      <td>01:12</td>\n",
              "    </tr>\n",
              "  </tbody>\n",
              "</table>"
            ],
            "text/plain": [
              "<IPython.core.display.HTML object>"
            ]
          },
          "metadata": {
            "tags": []
          }
        }
      ]
    },
    {
      "cell_type": "code",
      "metadata": {
        "id": "ajQC6WDg1yA9",
        "colab_type": "code",
        "colab": {
          "base_uri": "https://localhost:8080/",
          "height": 173
        },
        "outputId": "f2e96dc5-46a3-4d60-d5c3-40c5b2bb7750"
      },
      "source": [
        "learn.fit_one_cycle(4, slice(2e-3/100, 2e-3))"
      ],
      "execution_count": 38,
      "outputs": [
        {
          "output_type": "display_data",
          "data": {
            "text/html": [
              "<table border=\"1\" class=\"dataframe\">\n",
              "  <thead>\n",
              "    <tr style=\"text-align: left;\">\n",
              "      <th>epoch</th>\n",
              "      <th>train_loss</th>\n",
              "      <th>valid_loss</th>\n",
              "      <th>accuracy</th>\n",
              "      <th>time</th>\n",
              "    </tr>\n",
              "  </thead>\n",
              "  <tbody>\n",
              "    <tr>\n",
              "      <td>0</td>\n",
              "      <td>2.704866</td>\n",
              "      <td>20.690094</td>\n",
              "      <td>0.016667</td>\n",
              "      <td>01:05</td>\n",
              "    </tr>\n",
              "    <tr>\n",
              "      <td>1</td>\n",
              "      <td>2.688977</td>\n",
              "      <td>7.708551</td>\n",
              "      <td>0.083333</td>\n",
              "      <td>01:10</td>\n",
              "    </tr>\n",
              "    <tr>\n",
              "      <td>2</td>\n",
              "      <td>2.527274</td>\n",
              "      <td>12.793599</td>\n",
              "      <td>0.016667</td>\n",
              "      <td>01:06</td>\n",
              "    </tr>\n",
              "    <tr>\n",
              "      <td>3</td>\n",
              "      <td>2.392092</td>\n",
              "      <td>10.803349</td>\n",
              "      <td>0.041667</td>\n",
              "      <td>01:12</td>\n",
              "    </tr>\n",
              "  </tbody>\n",
              "</table>"
            ],
            "text/plain": [
              "<IPython.core.display.HTML object>"
            ]
          },
          "metadata": {
            "tags": []
          }
        }
      ]
    },
    {
      "cell_type": "code",
      "metadata": {
        "id": "KKydb0B4BKGk",
        "colab_type": "code",
        "colab": {
          "base_uri": "https://localhost:8080/",
          "height": 173
        },
        "outputId": "c3a47aa7-b7f5-498d-dae3-db00b9b2b9e3"
      },
      "source": [
        "learn.fit_one_cycle(4, slice(2e-3/100, 2e-3))"
      ],
      "execution_count": 39,
      "outputs": [
        {
          "output_type": "display_data",
          "data": {
            "text/html": [
              "<table border=\"1\" class=\"dataframe\">\n",
              "  <thead>\n",
              "    <tr style=\"text-align: left;\">\n",
              "      <th>epoch</th>\n",
              "      <th>train_loss</th>\n",
              "      <th>valid_loss</th>\n",
              "      <th>accuracy</th>\n",
              "      <th>time</th>\n",
              "    </tr>\n",
              "  </thead>\n",
              "  <tbody>\n",
              "    <tr>\n",
              "      <td>0</td>\n",
              "      <td>2.274287</td>\n",
              "      <td>10.282871</td>\n",
              "      <td>0.058333</td>\n",
              "      <td>01:08</td>\n",
              "    </tr>\n",
              "    <tr>\n",
              "      <td>1</td>\n",
              "      <td>2.251254</td>\n",
              "      <td>9.051082</td>\n",
              "      <td>0.041667</td>\n",
              "      <td>01:08</td>\n",
              "    </tr>\n",
              "    <tr>\n",
              "      <td>2</td>\n",
              "      <td>2.136079</td>\n",
              "      <td>16.974464</td>\n",
              "      <td>0.008333</td>\n",
              "      <td>01:05</td>\n",
              "    </tr>\n",
              "    <tr>\n",
              "      <td>3</td>\n",
              "      <td>1.973526</td>\n",
              "      <td>11.200023</td>\n",
              "      <td>0.025000</td>\n",
              "      <td>01:07</td>\n",
              "    </tr>\n",
              "  </tbody>\n",
              "</table>"
            ],
            "text/plain": [
              "<IPython.core.display.HTML object>"
            ]
          },
          "metadata": {
            "tags": []
          }
        }
      ]
    },
    {
      "cell_type": "code",
      "metadata": {
        "id": "T2APKtFKBpGY",
        "colab_type": "code",
        "colab": {
          "base_uri": "https://localhost:8080/",
          "height": 173
        },
        "outputId": "6368b417-f9bd-4fa2-ae79-79aeefc467ee"
      },
      "source": [
        "learn.fit_one_cycle(4, slice(2e-3/100, 2e-3))"
      ],
      "execution_count": 40,
      "outputs": [
        {
          "output_type": "display_data",
          "data": {
            "text/html": [
              "<table border=\"1\" class=\"dataframe\">\n",
              "  <thead>\n",
              "    <tr style=\"text-align: left;\">\n",
              "      <th>epoch</th>\n",
              "      <th>train_loss</th>\n",
              "      <th>valid_loss</th>\n",
              "      <th>accuracy</th>\n",
              "      <th>time</th>\n",
              "    </tr>\n",
              "  </thead>\n",
              "  <tbody>\n",
              "    <tr>\n",
              "      <td>0</td>\n",
              "      <td>1.855630</td>\n",
              "      <td>15.474652</td>\n",
              "      <td>0.016667</td>\n",
              "      <td>01:07</td>\n",
              "    </tr>\n",
              "    <tr>\n",
              "      <td>1</td>\n",
              "      <td>1.888893</td>\n",
              "      <td>6.029688</td>\n",
              "      <td>0.175000</td>\n",
              "      <td>01:11</td>\n",
              "    </tr>\n",
              "    <tr>\n",
              "      <td>2</td>\n",
              "      <td>1.754389</td>\n",
              "      <td>8.932000</td>\n",
              "      <td>0.166667</td>\n",
              "      <td>01:05</td>\n",
              "    </tr>\n",
              "    <tr>\n",
              "      <td>3</td>\n",
              "      <td>1.620500</td>\n",
              "      <td>7.735482</td>\n",
              "      <td>0.158333</td>\n",
              "      <td>01:08</td>\n",
              "    </tr>\n",
              "  </tbody>\n",
              "</table>"
            ],
            "text/plain": [
              "<IPython.core.display.HTML object>"
            ]
          },
          "metadata": {
            "tags": []
          }
        }
      ]
    },
    {
      "cell_type": "code",
      "metadata": {
        "id": "5PDyKIU7bX7W",
        "colab_type": "code",
        "colab": {
          "base_uri": "https://localhost:8080/",
          "height": 173
        },
        "outputId": "ef8a1266-b298-4a12-d555-9939252fc258"
      },
      "source": [
        "learn.fit_one_cycle(4, slice(2e-3/100, 2e-3))"
      ],
      "execution_count": 41,
      "outputs": [
        {
          "output_type": "display_data",
          "data": {
            "text/html": [
              "<table border=\"1\" class=\"dataframe\">\n",
              "  <thead>\n",
              "    <tr style=\"text-align: left;\">\n",
              "      <th>epoch</th>\n",
              "      <th>train_loss</th>\n",
              "      <th>valid_loss</th>\n",
              "      <th>accuracy</th>\n",
              "      <th>time</th>\n",
              "    </tr>\n",
              "  </thead>\n",
              "  <tbody>\n",
              "    <tr>\n",
              "      <td>0</td>\n",
              "      <td>1.514748</td>\n",
              "      <td>8.269018</td>\n",
              "      <td>0.133333</td>\n",
              "      <td>01:09</td>\n",
              "    </tr>\n",
              "    <tr>\n",
              "      <td>1</td>\n",
              "      <td>1.572816</td>\n",
              "      <td>7.768852</td>\n",
              "      <td>0.125000</td>\n",
              "      <td>01:09</td>\n",
              "    </tr>\n",
              "    <tr>\n",
              "      <td>2</td>\n",
              "      <td>1.459449</td>\n",
              "      <td>7.869627</td>\n",
              "      <td>0.091667</td>\n",
              "      <td>01:11</td>\n",
              "    </tr>\n",
              "    <tr>\n",
              "      <td>3</td>\n",
              "      <td>1.323045</td>\n",
              "      <td>9.334691</td>\n",
              "      <td>0.083333</td>\n",
              "      <td>01:08</td>\n",
              "    </tr>\n",
              "  </tbody>\n",
              "</table>"
            ],
            "text/plain": [
              "<IPython.core.display.HTML object>"
            ]
          },
          "metadata": {
            "tags": []
          }
        }
      ]
    },
    {
      "cell_type": "code",
      "metadata": {
        "id": "rd1YXwMcbYtm",
        "colab_type": "code",
        "colab": {
          "base_uri": "https://localhost:8080/",
          "height": 173
        },
        "outputId": "2a875cc3-9b3c-4d53-c3bb-73ba129cb527"
      },
      "source": [
        "learn.fit_one_cycle(4, slice(2e-3/100, 2e-3))"
      ],
      "execution_count": 42,
      "outputs": [
        {
          "output_type": "display_data",
          "data": {
            "text/html": [
              "<table border=\"1\" class=\"dataframe\">\n",
              "  <thead>\n",
              "    <tr style=\"text-align: left;\">\n",
              "      <th>epoch</th>\n",
              "      <th>train_loss</th>\n",
              "      <th>valid_loss</th>\n",
              "      <th>accuracy</th>\n",
              "      <th>time</th>\n",
              "    </tr>\n",
              "  </thead>\n",
              "  <tbody>\n",
              "    <tr>\n",
              "      <td>0</td>\n",
              "      <td>1.225661</td>\n",
              "      <td>7.640219</td>\n",
              "      <td>0.125000</td>\n",
              "      <td>01:09</td>\n",
              "    </tr>\n",
              "    <tr>\n",
              "      <td>1</td>\n",
              "      <td>1.248015</td>\n",
              "      <td>10.486991</td>\n",
              "      <td>0.091667</td>\n",
              "      <td>01:05</td>\n",
              "    </tr>\n",
              "    <tr>\n",
              "      <td>2</td>\n",
              "      <td>1.190797</td>\n",
              "      <td>7.219748</td>\n",
              "      <td>0.141667</td>\n",
              "      <td>01:09</td>\n",
              "    </tr>\n",
              "    <tr>\n",
              "      <td>3</td>\n",
              "      <td>1.084929</td>\n",
              "      <td>7.598272</td>\n",
              "      <td>0.125000</td>\n",
              "      <td>01:09</td>\n",
              "    </tr>\n",
              "  </tbody>\n",
              "</table>"
            ],
            "text/plain": [
              "<IPython.core.display.HTML object>"
            ]
          },
          "metadata": {
            "tags": []
          }
        }
      ]
    },
    {
      "cell_type": "code",
      "metadata": {
        "id": "MSp1BgSyRYzQ",
        "colab_type": "code",
        "colab": {
          "base_uri": "https://localhost:8080/",
          "height": 173
        },
        "outputId": "9e5ef4d6-0a07-4ced-ec89-56b9efb2c599"
      },
      "source": [
        "learn.fit_one_cycle(4, slice(2e-3/100, 2e-3))"
      ],
      "execution_count": 43,
      "outputs": [
        {
          "output_type": "display_data",
          "data": {
            "text/html": [
              "<table border=\"1\" class=\"dataframe\">\n",
              "  <thead>\n",
              "    <tr style=\"text-align: left;\">\n",
              "      <th>epoch</th>\n",
              "      <th>train_loss</th>\n",
              "      <th>valid_loss</th>\n",
              "      <th>accuracy</th>\n",
              "      <th>time</th>\n",
              "    </tr>\n",
              "  </thead>\n",
              "  <tbody>\n",
              "    <tr>\n",
              "      <td>0</td>\n",
              "      <td>0.985707</td>\n",
              "      <td>8.096421</td>\n",
              "      <td>0.091667</td>\n",
              "      <td>01:12</td>\n",
              "    </tr>\n",
              "    <tr>\n",
              "      <td>1</td>\n",
              "      <td>1.024006</td>\n",
              "      <td>7.247991</td>\n",
              "      <td>0.183333</td>\n",
              "      <td>01:10</td>\n",
              "    </tr>\n",
              "    <tr>\n",
              "      <td>2</td>\n",
              "      <td>0.982364</td>\n",
              "      <td>5.409455</td>\n",
              "      <td>0.233333</td>\n",
              "      <td>01:09</td>\n",
              "    </tr>\n",
              "    <tr>\n",
              "      <td>3</td>\n",
              "      <td>0.878785</td>\n",
              "      <td>6.195228</td>\n",
              "      <td>0.166667</td>\n",
              "      <td>01:09</td>\n",
              "    </tr>\n",
              "  </tbody>\n",
              "</table>"
            ],
            "text/plain": [
              "<IPython.core.display.HTML object>"
            ]
          },
          "metadata": {
            "tags": []
          }
        }
      ]
    },
    {
      "cell_type": "code",
      "metadata": {
        "id": "i57puoobRYfj",
        "colab_type": "code",
        "colab": {
          "base_uri": "https://localhost:8080/",
          "height": 173
        },
        "outputId": "9e7f7efe-7acf-4882-d451-ca9689f955cc"
      },
      "source": [
        "learn.fit_one_cycle(4, slice(2e-3/100, 2e-3))"
      ],
      "execution_count": 44,
      "outputs": [
        {
          "output_type": "display_data",
          "data": {
            "text/html": [
              "<table border=\"1\" class=\"dataframe\">\n",
              "  <thead>\n",
              "    <tr style=\"text-align: left;\">\n",
              "      <th>epoch</th>\n",
              "      <th>train_loss</th>\n",
              "      <th>valid_loss</th>\n",
              "      <th>accuracy</th>\n",
              "      <th>time</th>\n",
              "    </tr>\n",
              "  </thead>\n",
              "  <tbody>\n",
              "    <tr>\n",
              "      <td>0</td>\n",
              "      <td>0.790935</td>\n",
              "      <td>6.128771</td>\n",
              "      <td>0.200000</td>\n",
              "      <td>01:08</td>\n",
              "    </tr>\n",
              "    <tr>\n",
              "      <td>1</td>\n",
              "      <td>0.840584</td>\n",
              "      <td>6.648472</td>\n",
              "      <td>0.125000</td>\n",
              "      <td>01:10</td>\n",
              "    </tr>\n",
              "    <tr>\n",
              "      <td>2</td>\n",
              "      <td>0.806822</td>\n",
              "      <td>6.469163</td>\n",
              "      <td>0.191667</td>\n",
              "      <td>01:09</td>\n",
              "    </tr>\n",
              "    <tr>\n",
              "      <td>3</td>\n",
              "      <td>0.719804</td>\n",
              "      <td>7.553429</td>\n",
              "      <td>0.100000</td>\n",
              "      <td>01:07</td>\n",
              "    </tr>\n",
              "  </tbody>\n",
              "</table>"
            ],
            "text/plain": [
              "<IPython.core.display.HTML object>"
            ]
          },
          "metadata": {
            "tags": []
          }
        }
      ]
    },
    {
      "cell_type": "code",
      "metadata": {
        "id": "lTfRV9CVRYFc",
        "colab_type": "code",
        "colab": {
          "base_uri": "https://localhost:8080/",
          "height": 173
        },
        "outputId": "00757d35-4934-4130-95cd-0d5000906c20"
      },
      "source": [
        "learn.fit_one_cycle(4, slice(2e-3/100, 2e-3))"
      ],
      "execution_count": 45,
      "outputs": [
        {
          "output_type": "display_data",
          "data": {
            "text/html": [
              "<table border=\"1\" class=\"dataframe\">\n",
              "  <thead>\n",
              "    <tr style=\"text-align: left;\">\n",
              "      <th>epoch</th>\n",
              "      <th>train_loss</th>\n",
              "      <th>valid_loss</th>\n",
              "      <th>accuracy</th>\n",
              "      <th>time</th>\n",
              "    </tr>\n",
              "  </thead>\n",
              "  <tbody>\n",
              "    <tr>\n",
              "      <td>0</td>\n",
              "      <td>0.685786</td>\n",
              "      <td>7.551909</td>\n",
              "      <td>0.125000</td>\n",
              "      <td>01:08</td>\n",
              "    </tr>\n",
              "    <tr>\n",
              "      <td>1</td>\n",
              "      <td>0.728247</td>\n",
              "      <td>6.136492</td>\n",
              "      <td>0.283333</td>\n",
              "      <td>01:12</td>\n",
              "    </tr>\n",
              "    <tr>\n",
              "      <td>2</td>\n",
              "      <td>0.708060</td>\n",
              "      <td>5.764902</td>\n",
              "      <td>0.266667</td>\n",
              "      <td>01:07</td>\n",
              "    </tr>\n",
              "    <tr>\n",
              "      <td>3</td>\n",
              "      <td>0.638129</td>\n",
              "      <td>5.449169</td>\n",
              "      <td>0.266667</td>\n",
              "      <td>01:12</td>\n",
              "    </tr>\n",
              "  </tbody>\n",
              "</table>"
            ],
            "text/plain": [
              "<IPython.core.display.HTML object>"
            ]
          },
          "metadata": {
            "tags": []
          }
        }
      ]
    },
    {
      "cell_type": "code",
      "metadata": {
        "id": "zqJkTFaeRXuW",
        "colab_type": "code",
        "colab": {
          "base_uri": "https://localhost:8080/",
          "height": 173
        },
        "outputId": "7c4da7a1-f2dd-4f44-9925-174ad8daaefc"
      },
      "source": [
        "learn.fit_one_cycle(4, slice(2e-3/100, 2e-3))"
      ],
      "execution_count": 46,
      "outputs": [
        {
          "output_type": "display_data",
          "data": {
            "text/html": [
              "<table border=\"1\" class=\"dataframe\">\n",
              "  <thead>\n",
              "    <tr style=\"text-align: left;\">\n",
              "      <th>epoch</th>\n",
              "      <th>train_loss</th>\n",
              "      <th>valid_loss</th>\n",
              "      <th>accuracy</th>\n",
              "      <th>time</th>\n",
              "    </tr>\n",
              "  </thead>\n",
              "  <tbody>\n",
              "    <tr>\n",
              "      <td>0</td>\n",
              "      <td>0.564166</td>\n",
              "      <td>5.323936</td>\n",
              "      <td>0.308333</td>\n",
              "      <td>01:10</td>\n",
              "    </tr>\n",
              "    <tr>\n",
              "      <td>1</td>\n",
              "      <td>0.664967</td>\n",
              "      <td>7.807470</td>\n",
              "      <td>0.125000</td>\n",
              "      <td>01:10</td>\n",
              "    </tr>\n",
              "    <tr>\n",
              "      <td>2</td>\n",
              "      <td>0.628877</td>\n",
              "      <td>7.498668</td>\n",
              "      <td>0.133333</td>\n",
              "      <td>01:07</td>\n",
              "    </tr>\n",
              "    <tr>\n",
              "      <td>3</td>\n",
              "      <td>0.580487</td>\n",
              "      <td>5.862264</td>\n",
              "      <td>0.233333</td>\n",
              "      <td>01:11</td>\n",
              "    </tr>\n",
              "  </tbody>\n",
              "</table>"
            ],
            "text/plain": [
              "<IPython.core.display.HTML object>"
            ]
          },
          "metadata": {
            "tags": []
          }
        }
      ]
    },
    {
      "cell_type": "code",
      "metadata": {
        "id": "VeYMETLaRWkN",
        "colab_type": "code",
        "colab": {
          "base_uri": "https://localhost:8080/",
          "height": 173
        },
        "outputId": "55c6937f-721d-4b9a-ff5f-bcf61c01c2ed"
      },
      "source": [
        "learn.fit_one_cycle(4, slice(2e-3/100, 2e-3))"
      ],
      "execution_count": 47,
      "outputs": [
        {
          "output_type": "display_data",
          "data": {
            "text/html": [
              "<table border=\"1\" class=\"dataframe\">\n",
              "  <thead>\n",
              "    <tr style=\"text-align: left;\">\n",
              "      <th>epoch</th>\n",
              "      <th>train_loss</th>\n",
              "      <th>valid_loss</th>\n",
              "      <th>accuracy</th>\n",
              "      <th>time</th>\n",
              "    </tr>\n",
              "  </thead>\n",
              "  <tbody>\n",
              "    <tr>\n",
              "      <td>0</td>\n",
              "      <td>0.529013</td>\n",
              "      <td>6.036341</td>\n",
              "      <td>0.291667</td>\n",
              "      <td>01:10</td>\n",
              "    </tr>\n",
              "    <tr>\n",
              "      <td>1</td>\n",
              "      <td>0.541003</td>\n",
              "      <td>5.564542</td>\n",
              "      <td>0.316667</td>\n",
              "      <td>01:07</td>\n",
              "    </tr>\n",
              "    <tr>\n",
              "      <td>2</td>\n",
              "      <td>0.542532</td>\n",
              "      <td>5.156891</td>\n",
              "      <td>0.383333</td>\n",
              "      <td>01:12</td>\n",
              "    </tr>\n",
              "    <tr>\n",
              "      <td>3</td>\n",
              "      <td>0.500837</td>\n",
              "      <td>6.299444</td>\n",
              "      <td>0.258333</td>\n",
              "      <td>01:08</td>\n",
              "    </tr>\n",
              "  </tbody>\n",
              "</table>"
            ],
            "text/plain": [
              "<IPython.core.display.HTML object>"
            ]
          },
          "metadata": {
            "tags": []
          }
        }
      ]
    },
    {
      "cell_type": "code",
      "metadata": {
        "id": "TO8sJSbXXN0-",
        "colab_type": "code",
        "colab": {
          "base_uri": "https://localhost:8080/",
          "height": 173
        },
        "outputId": "e3a27062-6286-4657-9fc8-17ecb052235a"
      },
      "source": [
        "learn.fit_one_cycle(4, slice(2e-3/100, 2e-3))"
      ],
      "execution_count": 48,
      "outputs": [
        {
          "output_type": "display_data",
          "data": {
            "text/html": [
              "<table border=\"1\" class=\"dataframe\">\n",
              "  <thead>\n",
              "    <tr style=\"text-align: left;\">\n",
              "      <th>epoch</th>\n",
              "      <th>train_loss</th>\n",
              "      <th>valid_loss</th>\n",
              "      <th>accuracy</th>\n",
              "      <th>time</th>\n",
              "    </tr>\n",
              "  </thead>\n",
              "  <tbody>\n",
              "    <tr>\n",
              "      <td>0</td>\n",
              "      <td>0.453477</td>\n",
              "      <td>6.283143</td>\n",
              "      <td>0.208333</td>\n",
              "      <td>01:06</td>\n",
              "    </tr>\n",
              "    <tr>\n",
              "      <td>1</td>\n",
              "      <td>0.521050</td>\n",
              "      <td>4.961279</td>\n",
              "      <td>0.391667</td>\n",
              "      <td>01:12</td>\n",
              "    </tr>\n",
              "    <tr>\n",
              "      <td>2</td>\n",
              "      <td>0.517263</td>\n",
              "      <td>6.602246</td>\n",
              "      <td>0.275000</td>\n",
              "      <td>01:09</td>\n",
              "    </tr>\n",
              "    <tr>\n",
              "      <td>3</td>\n",
              "      <td>0.464595</td>\n",
              "      <td>7.069245</td>\n",
              "      <td>0.250000</td>\n",
              "      <td>01:09</td>\n",
              "    </tr>\n",
              "  </tbody>\n",
              "</table>"
            ],
            "text/plain": [
              "<IPython.core.display.HTML object>"
            ]
          },
          "metadata": {
            "tags": []
          }
        }
      ]
    },
    {
      "cell_type": "code",
      "metadata": {
        "id": "hY7izxDOYvio",
        "colab_type": "code",
        "colab": {
          "base_uri": "https://localhost:8080/",
          "height": 111
        },
        "outputId": "7dc4bb25-7eda-451a-f7ad-dedff3157b8b"
      },
      "source": [
        "learn.fit_one_cycle(2, slice(2e-3/1000, 2e-3))"
      ],
      "execution_count": 49,
      "outputs": [
        {
          "output_type": "display_data",
          "data": {
            "text/html": [
              "<table border=\"1\" class=\"dataframe\">\n",
              "  <thead>\n",
              "    <tr style=\"text-align: left;\">\n",
              "      <th>epoch</th>\n",
              "      <th>train_loss</th>\n",
              "      <th>valid_loss</th>\n",
              "      <th>accuracy</th>\n",
              "      <th>time</th>\n",
              "    </tr>\n",
              "  </thead>\n",
              "  <tbody>\n",
              "    <tr>\n",
              "      <td>0</td>\n",
              "      <td>0.427627</td>\n",
              "      <td>5.674899</td>\n",
              "      <td>0.283333</td>\n",
              "      <td>01:12</td>\n",
              "    </tr>\n",
              "    <tr>\n",
              "      <td>1</td>\n",
              "      <td>0.421455</td>\n",
              "      <td>5.825258</td>\n",
              "      <td>0.258333</td>\n",
              "      <td>01:10</td>\n",
              "    </tr>\n",
              "  </tbody>\n",
              "</table>"
            ],
            "text/plain": [
              "<IPython.core.display.HTML object>"
            ]
          },
          "metadata": {
            "tags": []
          }
        }
      ]
    },
    {
      "cell_type": "code",
      "metadata": {
        "id": "_7GGYm4xZfXU",
        "colab_type": "code",
        "colab": {
          "base_uri": "https://localhost:8080/",
          "height": 80
        },
        "outputId": "3a82c422-242a-4a6d-c8a5-c918aa3e58f9"
      },
      "source": [
        "learn.fit_one_cycle(1, slice(2e-3/1000, 2e-3))"
      ],
      "execution_count": 50,
      "outputs": [
        {
          "output_type": "display_data",
          "data": {
            "text/html": [
              "<table border=\"1\" class=\"dataframe\">\n",
              "  <thead>\n",
              "    <tr style=\"text-align: left;\">\n",
              "      <th>epoch</th>\n",
              "      <th>train_loss</th>\n",
              "      <th>valid_loss</th>\n",
              "      <th>accuracy</th>\n",
              "      <th>time</th>\n",
              "    </tr>\n",
              "  </thead>\n",
              "  <tbody>\n",
              "    <tr>\n",
              "      <td>0</td>\n",
              "      <td>0.446505</td>\n",
              "      <td>5.762633</td>\n",
              "      <td>0.333333</td>\n",
              "      <td>01:10</td>\n",
              "    </tr>\n",
              "  </tbody>\n",
              "</table>"
            ],
            "text/plain": [
              "<IPython.core.display.HTML object>"
            ]
          },
          "metadata": {
            "tags": []
          }
        }
      ]
    },
    {
      "cell_type": "code",
      "metadata": {
        "id": "6kxziumXZ6cm",
        "colab_type": "code",
        "colab": {
          "base_uri": "https://localhost:8080/",
          "height": 173
        },
        "outputId": "fb442b6f-19d5-4eb2-88a4-712f0e70e68a"
      },
      "source": [
        "learn.fit_one_cycle(4, slice(2e-3/100, 2e-3))"
      ],
      "execution_count": 51,
      "outputs": [
        {
          "output_type": "display_data",
          "data": {
            "text/html": [
              "<table border=\"1\" class=\"dataframe\">\n",
              "  <thead>\n",
              "    <tr style=\"text-align: left;\">\n",
              "      <th>epoch</th>\n",
              "      <th>train_loss</th>\n",
              "      <th>valid_loss</th>\n",
              "      <th>accuracy</th>\n",
              "      <th>time</th>\n",
              "    </tr>\n",
              "  </thead>\n",
              "  <tbody>\n",
              "    <tr>\n",
              "      <td>0</td>\n",
              "      <td>0.410193</td>\n",
              "      <td>5.233203</td>\n",
              "      <td>0.408333</td>\n",
              "      <td>01:11</td>\n",
              "    </tr>\n",
              "    <tr>\n",
              "      <td>1</td>\n",
              "      <td>0.469404</td>\n",
              "      <td>4.733602</td>\n",
              "      <td>0.433333</td>\n",
              "      <td>01:07</td>\n",
              "    </tr>\n",
              "    <tr>\n",
              "      <td>2</td>\n",
              "      <td>0.485507</td>\n",
              "      <td>5.929931</td>\n",
              "      <td>0.325000</td>\n",
              "      <td>01:10</td>\n",
              "    </tr>\n",
              "    <tr>\n",
              "      <td>3</td>\n",
              "      <td>0.441161</td>\n",
              "      <td>5.583977</td>\n",
              "      <td>0.283333</td>\n",
              "      <td>01:12</td>\n",
              "    </tr>\n",
              "  </tbody>\n",
              "</table>"
            ],
            "text/plain": [
              "<IPython.core.display.HTML object>"
            ]
          },
          "metadata": {
            "tags": []
          }
        }
      ]
    },
    {
      "cell_type": "code",
      "metadata": {
        "id": "QURqFNDv0r01",
        "colab_type": "code",
        "colab": {
          "base_uri": "https://localhost:8080/",
          "height": 173
        },
        "outputId": "d24d7d43-9307-4ac7-ddf8-ac998fee7482"
      },
      "source": [
        "learn.fit_one_cycle(4, slice(2e-3/100, 2e-3))"
      ],
      "execution_count": 52,
      "outputs": [
        {
          "output_type": "display_data",
          "data": {
            "text/html": [
              "<table border=\"1\" class=\"dataframe\">\n",
              "  <thead>\n",
              "    <tr style=\"text-align: left;\">\n",
              "      <th>epoch</th>\n",
              "      <th>train_loss</th>\n",
              "      <th>valid_loss</th>\n",
              "      <th>accuracy</th>\n",
              "      <th>time</th>\n",
              "    </tr>\n",
              "  </thead>\n",
              "  <tbody>\n",
              "    <tr>\n",
              "      <td>0</td>\n",
              "      <td>0.372606</td>\n",
              "      <td>6.651093</td>\n",
              "      <td>0.258333</td>\n",
              "      <td>01:06</td>\n",
              "    </tr>\n",
              "    <tr>\n",
              "      <td>1</td>\n",
              "      <td>0.460464</td>\n",
              "      <td>5.695323</td>\n",
              "      <td>0.308333</td>\n",
              "      <td>01:12</td>\n",
              "    </tr>\n",
              "    <tr>\n",
              "      <td>2</td>\n",
              "      <td>0.454004</td>\n",
              "      <td>6.143911</td>\n",
              "      <td>0.250000</td>\n",
              "      <td>01:07</td>\n",
              "    </tr>\n",
              "    <tr>\n",
              "      <td>3</td>\n",
              "      <td>0.439201</td>\n",
              "      <td>6.435668</td>\n",
              "      <td>0.241667</td>\n",
              "      <td>01:10</td>\n",
              "    </tr>\n",
              "  </tbody>\n",
              "</table>"
            ],
            "text/plain": [
              "<IPython.core.display.HTML object>"
            ]
          },
          "metadata": {
            "tags": []
          }
        }
      ]
    },
    {
      "cell_type": "code",
      "metadata": {
        "id": "6mkHR3-O5I__",
        "colab_type": "code",
        "colab": {
          "base_uri": "https://localhost:8080/",
          "height": 173
        },
        "outputId": "2b340533-12f5-422e-e280-ec078b33f828"
      },
      "source": [
        "learn.fit_one_cycle(4, slice(2e-3/100, 2e-3))"
      ],
      "execution_count": 53,
      "outputs": [
        {
          "output_type": "display_data",
          "data": {
            "text/html": [
              "<table border=\"1\" class=\"dataframe\">\n",
              "  <thead>\n",
              "    <tr style=\"text-align: left;\">\n",
              "      <th>epoch</th>\n",
              "      <th>train_loss</th>\n",
              "      <th>valid_loss</th>\n",
              "      <th>accuracy</th>\n",
              "      <th>time</th>\n",
              "    </tr>\n",
              "  </thead>\n",
              "  <tbody>\n",
              "    <tr>\n",
              "      <td>0</td>\n",
              "      <td>0.391669</td>\n",
              "      <td>6.183679</td>\n",
              "      <td>0.275000</td>\n",
              "      <td>01:08</td>\n",
              "    </tr>\n",
              "    <tr>\n",
              "      <td>1</td>\n",
              "      <td>0.397907</td>\n",
              "      <td>5.132690</td>\n",
              "      <td>0.441667</td>\n",
              "      <td>01:09</td>\n",
              "    </tr>\n",
              "    <tr>\n",
              "      <td>2</td>\n",
              "      <td>0.405651</td>\n",
              "      <td>5.577615</td>\n",
              "      <td>0.391667</td>\n",
              "      <td>01:12</td>\n",
              "    </tr>\n",
              "    <tr>\n",
              "      <td>3</td>\n",
              "      <td>0.402875</td>\n",
              "      <td>6.759942</td>\n",
              "      <td>0.225000</td>\n",
              "      <td>01:06</td>\n",
              "    </tr>\n",
              "  </tbody>\n",
              "</table>"
            ],
            "text/plain": [
              "<IPython.core.display.HTML object>"
            ]
          },
          "metadata": {
            "tags": []
          }
        }
      ]
    },
    {
      "cell_type": "code",
      "metadata": {
        "id": "BXBiRA3B5Jx0",
        "colab_type": "code",
        "colab": {
          "base_uri": "https://localhost:8080/",
          "height": 173
        },
        "outputId": "b483a8e8-84e7-4241-ed8e-605380313101"
      },
      "source": [
        "learn.fit_one_cycle(4, slice(2e-3/100, 2e-3))"
      ],
      "execution_count": 54,
      "outputs": [
        {
          "output_type": "display_data",
          "data": {
            "text/html": [
              "<table border=\"1\" class=\"dataframe\">\n",
              "  <thead>\n",
              "    <tr style=\"text-align: left;\">\n",
              "      <th>epoch</th>\n",
              "      <th>train_loss</th>\n",
              "      <th>valid_loss</th>\n",
              "      <th>accuracy</th>\n",
              "      <th>time</th>\n",
              "    </tr>\n",
              "  </thead>\n",
              "  <tbody>\n",
              "    <tr>\n",
              "      <td>0</td>\n",
              "      <td>0.366424</td>\n",
              "      <td>5.533055</td>\n",
              "      <td>0.366667</td>\n",
              "      <td>01:07</td>\n",
              "    </tr>\n",
              "    <tr>\n",
              "      <td>1</td>\n",
              "      <td>0.440313</td>\n",
              "      <td>5.390581</td>\n",
              "      <td>0.358333</td>\n",
              "      <td>01:08</td>\n",
              "    </tr>\n",
              "    <tr>\n",
              "      <td>2</td>\n",
              "      <td>0.442399</td>\n",
              "      <td>5.412545</td>\n",
              "      <td>0.441667</td>\n",
              "      <td>01:12</td>\n",
              "    </tr>\n",
              "    <tr>\n",
              "      <td>3</td>\n",
              "      <td>0.382771</td>\n",
              "      <td>5.838575</td>\n",
              "      <td>0.391667</td>\n",
              "      <td>01:05</td>\n",
              "    </tr>\n",
              "  </tbody>\n",
              "</table>"
            ],
            "text/plain": [
              "<IPython.core.display.HTML object>"
            ]
          },
          "metadata": {
            "tags": []
          }
        }
      ]
    },
    {
      "cell_type": "code",
      "metadata": {
        "id": "pUwJaa-4CMGy",
        "colab_type": "code",
        "colab": {
          "base_uri": "https://localhost:8080/",
          "height": 173
        },
        "outputId": "9eff66e7-abbe-4876-efbf-848fb4dfa797"
      },
      "source": [
        "learn.fit_one_cycle(4, slice(2e-3/100, 2e-3))"
      ],
      "execution_count": 55,
      "outputs": [
        {
          "output_type": "display_data",
          "data": {
            "text/html": [
              "<table border=\"1\" class=\"dataframe\">\n",
              "  <thead>\n",
              "    <tr style=\"text-align: left;\">\n",
              "      <th>epoch</th>\n",
              "      <th>train_loss</th>\n",
              "      <th>valid_loss</th>\n",
              "      <th>accuracy</th>\n",
              "      <th>time</th>\n",
              "    </tr>\n",
              "  </thead>\n",
              "  <tbody>\n",
              "    <tr>\n",
              "      <td>0</td>\n",
              "      <td>0.379093</td>\n",
              "      <td>7.120891</td>\n",
              "      <td>0.258333</td>\n",
              "      <td>01:06</td>\n",
              "    </tr>\n",
              "    <tr>\n",
              "      <td>1</td>\n",
              "      <td>0.421649</td>\n",
              "      <td>6.866512</td>\n",
              "      <td>0.233333</td>\n",
              "      <td>01:12</td>\n",
              "    </tr>\n",
              "    <tr>\n",
              "      <td>2</td>\n",
              "      <td>0.418411</td>\n",
              "      <td>5.882223</td>\n",
              "      <td>0.325000</td>\n",
              "      <td>01:11</td>\n",
              "    </tr>\n",
              "    <tr>\n",
              "      <td>3</td>\n",
              "      <td>0.379111</td>\n",
              "      <td>5.689028</td>\n",
              "      <td>0.358333</td>\n",
              "      <td>01:13</td>\n",
              "    </tr>\n",
              "  </tbody>\n",
              "</table>"
            ],
            "text/plain": [
              "<IPython.core.display.HTML object>"
            ]
          },
          "metadata": {
            "tags": []
          }
        }
      ]
    },
    {
      "cell_type": "code",
      "metadata": {
        "id": "C0VGSEooxRPF",
        "colab_type": "code",
        "colab": {
          "base_uri": "https://localhost:8080/",
          "height": 173
        },
        "outputId": "e4d65cb7-1b5c-45b9-b008-66838213cd97"
      },
      "source": [
        "learn.fit_one_cycle(4, slice(2e-3/100, 2e-3))"
      ],
      "execution_count": 61,
      "outputs": [
        {
          "output_type": "display_data",
          "data": {
            "text/html": [
              "<table border=\"1\" class=\"dataframe\">\n",
              "  <thead>\n",
              "    <tr style=\"text-align: left;\">\n",
              "      <th>epoch</th>\n",
              "      <th>train_loss</th>\n",
              "      <th>valid_loss</th>\n",
              "      <th>accuracy</th>\n",
              "      <th>time</th>\n",
              "    </tr>\n",
              "  </thead>\n",
              "  <tbody>\n",
              "    <tr>\n",
              "      <td>0</td>\n",
              "      <td>0.380457</td>\n",
              "      <td>6.447822</td>\n",
              "      <td>0.291667</td>\n",
              "      <td>01:07</td>\n",
              "    </tr>\n",
              "    <tr>\n",
              "      <td>1</td>\n",
              "      <td>0.403855</td>\n",
              "      <td>5.025466</td>\n",
              "      <td>0.458333</td>\n",
              "      <td>01:10</td>\n",
              "    </tr>\n",
              "    <tr>\n",
              "      <td>2</td>\n",
              "      <td>0.398992</td>\n",
              "      <td>5.111796</td>\n",
              "      <td>0.441667</td>\n",
              "      <td>01:12</td>\n",
              "    </tr>\n",
              "    <tr>\n",
              "      <td>3</td>\n",
              "      <td>0.373021</td>\n",
              "      <td>5.247550</td>\n",
              "      <td>0.433333</td>\n",
              "      <td>01:08</td>\n",
              "    </tr>\n",
              "  </tbody>\n",
              "</table>"
            ],
            "text/plain": [
              "<IPython.core.display.HTML object>"
            ]
          },
          "metadata": {
            "tags": []
          }
        }
      ]
    },
    {
      "cell_type": "code",
      "metadata": {
        "id": "zvM3WVwjzFVj",
        "colab_type": "code",
        "colab": {
          "base_uri": "https://localhost:8080/",
          "height": 111
        },
        "outputId": "520165f0-9293-41c0-b499-cd77160031f4"
      },
      "source": [
        "learn.fit_one_cycle(2, slice(2e-3/100, 2e-3))"
      ],
      "execution_count": 66,
      "outputs": [
        {
          "output_type": "display_data",
          "data": {
            "text/html": [
              "<table border=\"1\" class=\"dataframe\">\n",
              "  <thead>\n",
              "    <tr style=\"text-align: left;\">\n",
              "      <th>epoch</th>\n",
              "      <th>train_loss</th>\n",
              "      <th>valid_loss</th>\n",
              "      <th>accuracy</th>\n",
              "      <th>time</th>\n",
              "    </tr>\n",
              "  </thead>\n",
              "  <tbody>\n",
              "    <tr>\n",
              "      <td>0</td>\n",
              "      <td>0.392785</td>\n",
              "      <td>5.338969</td>\n",
              "      <td>0.391667</td>\n",
              "      <td>01:06</td>\n",
              "    </tr>\n",
              "    <tr>\n",
              "      <td>1</td>\n",
              "      <td>0.402035</td>\n",
              "      <td>5.474401</td>\n",
              "      <td>0.333333</td>\n",
              "      <td>01:09</td>\n",
              "    </tr>\n",
              "  </tbody>\n",
              "</table>"
            ],
            "text/plain": [
              "<IPython.core.display.HTML object>"
            ]
          },
          "metadata": {
            "tags": []
          }
        }
      ]
    },
    {
      "cell_type": "code",
      "metadata": {
        "id": "IVtoXr8UzwG9",
        "colab_type": "code",
        "colab": {
          "base_uri": "https://localhost:8080/",
          "height": 173
        },
        "outputId": "6c8cd9e8-5e4e-4d14-a369-87c59a83a578"
      },
      "source": [
        "learn.fit_one_cycle(4, slice(2e-3/100, 2e-3))"
      ],
      "execution_count": 71,
      "outputs": [
        {
          "output_type": "display_data",
          "data": {
            "text/html": [
              "<table border=\"1\" class=\"dataframe\">\n",
              "  <thead>\n",
              "    <tr style=\"text-align: left;\">\n",
              "      <th>epoch</th>\n",
              "      <th>train_loss</th>\n",
              "      <th>valid_loss</th>\n",
              "      <th>accuracy</th>\n",
              "      <th>time</th>\n",
              "    </tr>\n",
              "  </thead>\n",
              "  <tbody>\n",
              "    <tr>\n",
              "      <td>0</td>\n",
              "      <td>0.388224</td>\n",
              "      <td>5.390196</td>\n",
              "      <td>0.333333</td>\n",
              "      <td>01:11</td>\n",
              "    </tr>\n",
              "    <tr>\n",
              "      <td>1</td>\n",
              "      <td>0.388489</td>\n",
              "      <td>5.798946</td>\n",
              "      <td>0.275000</td>\n",
              "      <td>01:05</td>\n",
              "    </tr>\n",
              "    <tr>\n",
              "      <td>2</td>\n",
              "      <td>0.379026</td>\n",
              "      <td>5.373238</td>\n",
              "      <td>0.341667</td>\n",
              "      <td>01:08</td>\n",
              "    </tr>\n",
              "    <tr>\n",
              "      <td>3</td>\n",
              "      <td>0.360218</td>\n",
              "      <td>5.548993</td>\n",
              "      <td>0.325000</td>\n",
              "      <td>01:12</td>\n",
              "    </tr>\n",
              "  </tbody>\n",
              "</table>"
            ],
            "text/plain": [
              "<IPython.core.display.HTML object>"
            ]
          },
          "metadata": {
            "tags": []
          }
        }
      ]
    },
    {
      "cell_type": "code",
      "metadata": {
        "id": "FeTjRZDlzvtg",
        "colab_type": "code",
        "colab": {
          "base_uri": "https://localhost:8080/",
          "height": 173
        },
        "outputId": "deb42839-2612-488b-f3a1-cba7dbe2a4c8"
      },
      "source": [
        "learn.fit_one_cycle(4, slice(2e-3/100, 2e-3))"
      ],
      "execution_count": 72,
      "outputs": [
        {
          "output_type": "display_data",
          "data": {
            "text/html": [
              "<table border=\"1\" class=\"dataframe\">\n",
              "  <thead>\n",
              "    <tr style=\"text-align: left;\">\n",
              "      <th>epoch</th>\n",
              "      <th>train_loss</th>\n",
              "      <th>valid_loss</th>\n",
              "      <th>accuracy</th>\n",
              "      <th>time</th>\n",
              "    </tr>\n",
              "  </thead>\n",
              "  <tbody>\n",
              "    <tr>\n",
              "      <td>0</td>\n",
              "      <td>0.327328</td>\n",
              "      <td>5.307390</td>\n",
              "      <td>0.341667</td>\n",
              "      <td>01:06</td>\n",
              "    </tr>\n",
              "    <tr>\n",
              "      <td>1</td>\n",
              "      <td>0.376470</td>\n",
              "      <td>6.260763</td>\n",
              "      <td>0.191667</td>\n",
              "      <td>01:10</td>\n",
              "    </tr>\n",
              "    <tr>\n",
              "      <td>2</td>\n",
              "      <td>0.394545</td>\n",
              "      <td>4.928537</td>\n",
              "      <td>0.391667</td>\n",
              "      <td>01:10</td>\n",
              "    </tr>\n",
              "    <tr>\n",
              "      <td>3</td>\n",
              "      <td>0.344215</td>\n",
              "      <td>5.097098</td>\n",
              "      <td>0.358333</td>\n",
              "      <td>01:13</td>\n",
              "    </tr>\n",
              "  </tbody>\n",
              "</table>"
            ],
            "text/plain": [
              "<IPython.core.display.HTML object>"
            ]
          },
          "metadata": {
            "tags": []
          }
        }
      ]
    },
    {
      "cell_type": "code",
      "metadata": {
        "id": "Qw5Rp2kGzvTL",
        "colab_type": "code",
        "colab": {
          "base_uri": "https://localhost:8080/",
          "height": 173
        },
        "outputId": "7587c66d-372a-4653-b777-f30a9e95d25a"
      },
      "source": [
        "learn.fit_one_cycle(4, slice(2e-3/100, 2e-3))"
      ],
      "execution_count": 73,
      "outputs": [
        {
          "output_type": "display_data",
          "data": {
            "text/html": [
              "<table border=\"1\" class=\"dataframe\">\n",
              "  <thead>\n",
              "    <tr style=\"text-align: left;\">\n",
              "      <th>epoch</th>\n",
              "      <th>train_loss</th>\n",
              "      <th>valid_loss</th>\n",
              "      <th>accuracy</th>\n",
              "      <th>time</th>\n",
              "    </tr>\n",
              "  </thead>\n",
              "  <tbody>\n",
              "    <tr>\n",
              "      <td>0</td>\n",
              "      <td>0.348470</td>\n",
              "      <td>5.376241</td>\n",
              "      <td>0.358333</td>\n",
              "      <td>01:10</td>\n",
              "    </tr>\n",
              "    <tr>\n",
              "      <td>1</td>\n",
              "      <td>0.353904</td>\n",
              "      <td>5.215277</td>\n",
              "      <td>0.408333</td>\n",
              "      <td>01:12</td>\n",
              "    </tr>\n",
              "    <tr>\n",
              "      <td>2</td>\n",
              "      <td>0.357935</td>\n",
              "      <td>4.993566</td>\n",
              "      <td>0.416667</td>\n",
              "      <td>01:12</td>\n",
              "    </tr>\n",
              "    <tr>\n",
              "      <td>3</td>\n",
              "      <td>0.346627</td>\n",
              "      <td>5.148569</td>\n",
              "      <td>0.416667</td>\n",
              "      <td>01:09</td>\n",
              "    </tr>\n",
              "  </tbody>\n",
              "</table>"
            ],
            "text/plain": [
              "<IPython.core.display.HTML object>"
            ]
          },
          "metadata": {
            "tags": []
          }
        }
      ]
    },
    {
      "cell_type": "code",
      "metadata": {
        "id": "sJjUZFf0zu0a",
        "colab_type": "code",
        "colab": {
          "base_uri": "https://localhost:8080/",
          "height": 173
        },
        "outputId": "fe2b5372-8686-474c-9c15-7ea303cfbdf6"
      },
      "source": [
        "learn.fit_one_cycle(4, slice(2e-3/100, 2e-3))"
      ],
      "execution_count": 74,
      "outputs": [
        {
          "output_type": "display_data",
          "data": {
            "text/html": [
              "<table border=\"1\" class=\"dataframe\">\n",
              "  <thead>\n",
              "    <tr style=\"text-align: left;\">\n",
              "      <th>epoch</th>\n",
              "      <th>train_loss</th>\n",
              "      <th>valid_loss</th>\n",
              "      <th>accuracy</th>\n",
              "      <th>time</th>\n",
              "    </tr>\n",
              "  </thead>\n",
              "  <tbody>\n",
              "    <tr>\n",
              "      <td>0</td>\n",
              "      <td>0.347862</td>\n",
              "      <td>5.194462</td>\n",
              "      <td>0.341667</td>\n",
              "      <td>01:07</td>\n",
              "    </tr>\n",
              "    <tr>\n",
              "      <td>1</td>\n",
              "      <td>0.381477</td>\n",
              "      <td>5.626313</td>\n",
              "      <td>0.333333</td>\n",
              "      <td>01:05</td>\n",
              "    </tr>\n",
              "    <tr>\n",
              "      <td>2</td>\n",
              "      <td>0.382481</td>\n",
              "      <td>5.166894</td>\n",
              "      <td>0.375000</td>\n",
              "      <td>01:07</td>\n",
              "    </tr>\n",
              "    <tr>\n",
              "      <td>3</td>\n",
              "      <td>0.354709</td>\n",
              "      <td>4.908910</td>\n",
              "      <td>0.475000</td>\n",
              "      <td>01:11</td>\n",
              "    </tr>\n",
              "  </tbody>\n",
              "</table>"
            ],
            "text/plain": [
              "<IPython.core.display.HTML object>"
            ]
          },
          "metadata": {
            "tags": []
          }
        }
      ]
    },
    {
      "cell_type": "code",
      "metadata": {
        "id": "c65d-osfDUXm",
        "colab_type": "code",
        "colab": {}
      },
      "source": [
        "# save the best model\n",
        "\n",
        "learn.save_encoder('ask-7-tuning-ask-twadr')"
      ],
      "execution_count": 0,
      "outputs": []
    },
    {
      "cell_type": "markdown",
      "metadata": {
        "id": "rCwZU0E2RgM6",
        "colab_type": "text"
      },
      "source": [
        "# Part three: Predict on the test dataset"
      ]
    },
    {
      "cell_type": "code",
      "metadata": {
        "id": "gDm72c-dOu7d",
        "colab_type": "code",
        "colab": {}
      },
      "source": [
        "# use the test data for prediction\n",
        "\n",
        "preds, y = learn.get_preds(DatasetType.Test)"
      ],
      "execution_count": 0,
      "outputs": []
    },
    {
      "cell_type": "code",
      "metadata": {
        "id": "6tFSQcsWPvxn",
        "colab_type": "code",
        "colab": {
          "base_uri": "https://localhost:8080/",
          "height": 309
        },
        "outputId": "4f98a3ac-d836-4d48-dcf4-c8b04e6f3300"
      },
      "source": [
        "predictions, *_ = learn.get_preds(DatasetType.Test)\n",
        "labels = np.argmax(predictions, 1)\n",
        "print(labels)\n",
        "predict_list = labels.tolist()\n",
        "standard_list = test[0].tolist()\n",
        "\n",
        "print(len(predict_list))\n",
        "print(len(standard_list))\n",
        "\n",
        "print(predict_list)\n",
        "print(standard_list)"
      ],
      "execution_count": 77,
      "outputs": [
        {
          "output_type": "stream",
          "text": [
            "tensor([1676, 1321, 1204, 1204, 1227, 2048, 2048, 2048, 1669,  224,  224,  588,\n",
            "        2147, 2149,  233, 2147,  249, 1204,  301, 1974, 1356, 1099,  725, 1711,\n",
            "         445, 2149, 1054,  791, 1054,  792, 1227,  445, 1308,  119, 1884,  974,\n",
            "        1580,  852, 2023, 1204,  945,  974,  974,  974,  974,  974,  119,  119,\n",
            "         912, 1019, 1227, 1062, 1718,  974,  974, 2032, 2149, 1136,  945, 1594,\n",
            "        1798, 2104, 1973, 1227, 2066, 1295, 1319, 2149, 1597, 1356, 1348,   84,\n",
            "        1610, 1432, 2149,  825,  974, 1227, 1508, 1595, 1597, 1597, 1597, 1597,\n",
            "        1936, 1580, 1610, 1610, 1610, 1526, 1526, 1526,  632, 1526, 1711, 1711,\n",
            "        1753, 1718, 1767, 1580, 1767, 1288, 1669, 2149, 1075, 1767, 1767,  445,\n",
            "        1787, 1787, 1787, 1787, 1521, 1718, 1718, 2149,  974, 2149, 1099, 1227,\n",
            "        1942, 1099, 2024, 1787, 2032, 1787, 1787, 1427, 2103,  813,  233,  233,\n",
            "         233,  233, 1727, 2149, 1711, 2194, 1529,  824, 1321, 1321])\n",
            "142\n",
            "142\n",
            "[1676, 1321, 1204, 1204, 1227, 2048, 2048, 2048, 1669, 224, 224, 588, 2147, 2149, 233, 2147, 249, 1204, 301, 1974, 1356, 1099, 725, 1711, 445, 2149, 1054, 791, 1054, 792, 1227, 445, 1308, 119, 1884, 974, 1580, 852, 2023, 1204, 945, 974, 974, 974, 974, 974, 119, 119, 912, 1019, 1227, 1062, 1718, 974, 974, 2032, 2149, 1136, 945, 1594, 1798, 2104, 1973, 1227, 2066, 1295, 1319, 2149, 1597, 1356, 1348, 84, 1610, 1432, 2149, 825, 974, 1227, 1508, 1595, 1597, 1597, 1597, 1597, 1936, 1580, 1610, 1610, 1610, 1526, 1526, 1526, 632, 1526, 1711, 1711, 1753, 1718, 1767, 1580, 1767, 1288, 1669, 2149, 1075, 1767, 1767, 445, 1787, 1787, 1787, 1787, 1521, 1718, 1718, 2149, 974, 2149, 1099, 1227, 1942, 1099, 2024, 1787, 2032, 1787, 1787, 1427, 2103, 813, 233, 233, 233, 233, 1727, 2149, 1711, 2194, 1529, 824, 1321, 1321]\n",
            "[62, 74, 85, 91, 97, 189, 189, 189, 224, 224, 224, 233, 233, 233, 233, 233, 249, 250, 301, 504, 561, 620, 739, 749, 749, 749, 791, 791, 791, 792, 813, 818, 822, 822, 824, 824, 825, 852, 923, 936, 945, 974, 974, 974, 974, 974, 978, 978, 989, 1019, 1062, 1062, 1073, 1096, 1099, 1099, 1099, 1136, 1136, 1163, 1196, 1230, 1265, 1283, 1295, 1295, 1319, 1325, 1325, 1356, 1373, 1432, 1432, 1432, 1432, 1484, 1507, 1507, 1508, 1595, 1597, 1597, 1597, 1597, 1599, 1599, 1610, 1610, 1610, 1701, 1701, 1701, 1701, 1701, 1711, 1711, 1718, 1718, 1718, 1718, 1718, 1718, 1727, 1767, 1767, 1767, 1767, 1787, 1787, 1787, 1787, 1787, 1787, 1798, 1815, 1873, 1884, 1925, 1936, 1942, 1942, 2024, 2024, 2032, 2032, 2032, 2032, 2074, 2103, 2125, 2147, 2147, 2147, 2147, 2147, 2149, 2149, 2149, 2149, 2168, 2194, 2194]\n"
          ],
          "name": "stdout"
        }
      ]
    },
    {
      "cell_type": "code",
      "metadata": {
        "id": "XIC4zufnMxtq",
        "colab_type": "code",
        "colab": {
          "base_uri": "https://localhost:8080/",
          "height": 51
        },
        "outputId": "dd30aae5-61c0-4853-e180-800c7a07740a"
      },
      "source": [
        "correct_num = 0\n",
        "\n",
        "for i in range(0, 142):\n",
        "  if predict_list[i] == standard_list[i]:\n",
        "    correct_num = correct_num+1\n",
        "  else:\n",
        "    pass\n",
        "print(correct_num)\n",
        "\n",
        "predict_accuracy = correct_num/len(predict_list)\n",
        "print(predict_accuracy)"
      ],
      "execution_count": 78,
      "outputs": [
        {
          "output_type": "stream",
          "text": [
            "44\n",
            "0.30985915492957744\n"
          ],
          "name": "stdout"
        }
      ]
    },
    {
      "cell_type": "code",
      "metadata": {
        "id": "zlKMHp1CIaRJ",
        "colab_type": "code",
        "colab": {}
      },
      "source": [
        ""
      ],
      "execution_count": 0,
      "outputs": []
    }
  ]
}