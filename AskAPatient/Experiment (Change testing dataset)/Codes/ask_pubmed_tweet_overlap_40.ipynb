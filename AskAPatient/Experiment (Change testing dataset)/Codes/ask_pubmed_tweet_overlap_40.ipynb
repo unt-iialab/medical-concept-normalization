{
  "nbformat": 4,
  "nbformat_minor": 0,
  "metadata": {
    "colab": {
      "name": "ask_pubmed_tweet_overlap_40.ipynb",
      "provenance": [],
      "collapsed_sections": [],
      "toc_visible": true,
      "include_colab_link": true
    },
    "kernelspec": {
      "name": "python3",
      "display_name": "Python 3"
    },
    "accelerator": "TPU"
  },
  "cells": [
    {
      "cell_type": "markdown",
      "metadata": {
        "id": "view-in-github",
        "colab_type": "text"
      },
      "source": [
        "<a href=\"https://colab.research.google.com/github/unt-iialab/medical-concept-normalization/blob/master/AskAPatient/Experiment%20(Change%20testing%20dataset)/Codes/ask_pubmed_tweet_overlap_40.ipynb\" target=\"_parent\"><img src=\"https://colab.research.google.com/assets/colab-badge.svg\" alt=\"Open In Colab\"/></a>"
      ]
    },
    {
      "cell_type": "code",
      "metadata": {
        "id": "adSi6i2-dWxy",
        "colab_type": "code",
        "colab": {}
      },
      "source": [
        "import os"
      ],
      "execution_count": 0,
      "outputs": []
    },
    {
      "cell_type": "code",
      "metadata": {
        "id": "E7xYCRGPjd9B",
        "colab_type": "code",
        "colab": {}
      },
      "source": [
        "base_dir = 'medical-concept-normalization'"
      ],
      "execution_count": 0,
      "outputs": []
    },
    {
      "cell_type": "code",
      "metadata": {
        "id": "yvIW3aUDjYNS",
        "colab_type": "code",
        "colab": {}
      },
      "source": [
        "if os.path.exists('medical-concept-normalization'):\n",
        "  print('folder exist')\n",
        "else:\n",
        "  os.mkdir(base_dir)"
      ],
      "execution_count": 0,
      "outputs": []
    },
    {
      "cell_type": "code",
      "metadata": {
        "id": "es-FFLlfk6SG",
        "colab_type": "code",
        "colab": {}
      },
      "source": [
        "if os.path.exists('medical-concept-normalization/data_collection'):\n",
        "  print('folder exist')\n",
        "else:\n",
        "  os.mkdir('medical-concept-normalization/data_collection')"
      ],
      "execution_count": 0,
      "outputs": []
    },
    {
      "cell_type": "markdown",
      "metadata": {
        "id": "0R-Guw_VoJXm",
        "colab_type": "text"
      },
      "source": [
        "**Install fastai and clone the fastai for text classification**\n",
        "\n"
      ]
    },
    {
      "cell_type": "code",
      "metadata": {
        "id": "QVZa3Z0PmHFH",
        "colab_type": "code",
        "outputId": "5d082535-4d7b-4d61-8156-5bae6b2ae833",
        "colab": {
          "base_uri": "https://localhost:8080/",
          "height": 68
        }
      },
      "source": [
        "!curl https://course-v3.fast.ai/setup/colab | bash"
      ],
      "execution_count": 7,
      "outputs": [
        {
          "output_type": "stream",
          "text": [
            "  % Total    % Received % Xferd  Average Speed   Time    Time     Time  Current\n",
            "                                 Dload  Upload   Total   Spent    Left  Speed\n",
            "\r  0     0    0     0    0     0      0      0 --:--:-- --:--:-- --:--:--     0curl: (6) Could not resolve host: course-v3.fast.ai\n"
          ],
          "name": "stdout"
        }
      ]
    },
    {
      "cell_type": "code",
      "metadata": {
        "id": "_FBFFEBrmJC0",
        "colab_type": "code",
        "outputId": "489779fb-3ce2-4c1f-d469-f50bf7483e4d",
        "colab": {
          "base_uri": "https://localhost:8080/",
          "height": 85
        }
      },
      "source": [
        "!git clone https://github.com/wshuyi/demo-nlp-classification-fastai.git"
      ],
      "execution_count": 8,
      "outputs": [
        {
          "output_type": "stream",
          "text": [
            "Cloning into 'demo-nlp-classification-fastai'...\n",
            "remote: Enumerating objects: 9, done.\u001b[K\n",
            "remote: Total 9 (delta 0), reused 0 (delta 0), pack-reused 9\n",
            "Unpacking objects: 100% (9/9), done.\n"
          ],
          "name": "stdout"
        }
      ]
    },
    {
      "cell_type": "code",
      "metadata": {
        "id": "66zfh_JqmWMU",
        "colab_type": "code",
        "colab": {}
      },
      "source": [
        "from fastai import *\n",
        "from fastai.text import *"
      ],
      "execution_count": 0,
      "outputs": []
    },
    {
      "cell_type": "markdown",
      "metadata": {
        "id": "mNIw-yALdBU9",
        "colab_type": "text"
      },
      "source": [
        "**Set the path of the data collections**"
      ]
    },
    {
      "cell_type": "code",
      "metadata": {
        "id": "pzH7VMh4mqCL",
        "colab_type": "code",
        "colab": {}
      },
      "source": [
        "path = Path('medical-concept-normalization/data_collection')"
      ],
      "execution_count": 0,
      "outputs": []
    },
    {
      "cell_type": "code",
      "metadata": {
        "id": "r8cdqCa-Oeog",
        "colab_type": "code",
        "colab": {}
      },
      "source": [
        "# datasets\n",
        "\n",
        "train_csv = 'https://raw.githubusercontent.com/unt-iialab/medical-concept-normalization/master/AskAPatient/Experiment%20(Change%20testing%20dataset)/Training%20set/AskAPatient.fold-0.train.csv'\n",
        "valid_csv = 'https://raw.githubusercontent.com/unt-iialab/medical-concept-normalization/master/AskAPatient/Experiment%20(Change%20testing%20dataset)/Validation%20set/AskAPatient.fold-0.validation.csv'\n",
        "test_csv = 'https://raw.githubusercontent.com/unt-iialab/medical-concept-normalization/master/AskAPatient/Experiment%20(Change%20testing%20dataset)/Testing%20set/AskAPatient_overlap_40.csv'\n",
        "fine_tuning_data = 'fine_tuning_language_model_pubmed_bigtweet_mixed.csv'"
      ],
      "execution_count": 0,
      "outputs": []
    },
    {
      "cell_type": "code",
      "metadata": {
        "id": "b8fjI6yyn4aS",
        "colab_type": "code",
        "outputId": "74450334-c104-4e0c-afe2-08411c8d5b76",
        "colab": {
          "base_uri": "https://localhost:8080/",
          "height": 119
        }
      },
      "source": [
        "# training data set\n",
        "train = pd.read_csv(train_csv, header=None)\n",
        "print(train.head())\n",
        "\n",
        "# validating data set\n",
        "valid = pd.read_csv(valid_csv,header=None)\n",
        "# valid.head()\n",
        "\n",
        "# testing data set\n",
        "test = pd.read_csv(test_csv,header=None)\n",
        "# test.head()"
      ],
      "execution_count": 12,
      "outputs": [
        {
          "output_type": "stream",
          "text": [
            "   0                1\n",
            "0  0             Fear\n",
            "1  0             Fear\n",
            "2  0             Fear\n",
            "3  0  scared to death\n",
            "4  1   Abdominal rash\n"
          ],
          "name": "stdout"
        }
      ]
    },
    {
      "cell_type": "code",
      "metadata": {
        "id": "Vo-YNvVYoaH6",
        "colab_type": "code",
        "outputId": "a398f8ba-8ba9-4d94-d193-2896f598c33e",
        "colab": {
          "base_uri": "https://localhost:8080/",
          "height": 17
        }
      },
      "source": [
        "# Creating DataBunch for language modelling\n",
        "data_lm = TextLMDataBunch.from_csv(path, fine_tuning_data)"
      ],
      "execution_count": 14,
      "outputs": [
        {
          "output_type": "display_data",
          "data": {
            "text/html": [
              ""
            ],
            "text/plain": [
              "<IPython.core.display.HTML object>"
            ]
          },
          "metadata": {
            "tags": []
          }
        },
        {
          "output_type": "display_data",
          "data": {
            "text/html": [
              ""
            ],
            "text/plain": [
              "<IPython.core.display.HTML object>"
            ]
          },
          "metadata": {
            "tags": []
          }
        }
      ]
    },
    {
      "cell_type": "code",
      "metadata": {
        "id": "1ScY9afDsnvE",
        "colab_type": "code",
        "colab": {}
      },
      "source": [
        "# Creating DataBunch for classification\n",
        "\n",
        "# data_clas = TextClasDataBunch.from_df(path, train, valid, test, vocab=data_lm.train_ds.vocab, bs=128)"
      ],
      "execution_count": 0,
      "outputs": []
    },
    {
      "cell_type": "code",
      "metadata": {
        "id": "gzrSdQcvey9p",
        "colab_type": "code",
        "outputId": "75d4b781-1925-430c-e80a-e1325eac5eb8",
        "colab": {
          "base_uri": "https://localhost:8080/",
          "height": 17
        }
      },
      "source": [
        "data_clas = TextClasDataBunch.from_df(path, train, valid, vocab=data_lm.train_ds.vocab, bs=128)"
      ],
      "execution_count": 16,
      "outputs": [
        {
          "output_type": "display_data",
          "data": {
            "text/html": [
              ""
            ],
            "text/plain": [
              "<IPython.core.display.HTML object>"
            ]
          },
          "metadata": {
            "tags": []
          }
        },
        {
          "output_type": "display_data",
          "data": {
            "text/html": [
              ""
            ],
            "text/plain": [
              "<IPython.core.display.HTML object>"
            ]
          },
          "metadata": {
            "tags": []
          }
        }
      ]
    },
    {
      "cell_type": "code",
      "metadata": {
        "id": "MD27Tf0Ke3ou",
        "colab_type": "code",
        "outputId": "191fd0f6-5551-45fd-d709-69cfda53eb89",
        "colab": {
          "base_uri": "https://localhost:8080/",
          "height": 17
        }
      },
      "source": [
        "data_clas.add_test(test,label=0)"
      ],
      "execution_count": 17,
      "outputs": [
        {
          "output_type": "display_data",
          "data": {
            "text/html": [
              ""
            ],
            "text/plain": [
              "<IPython.core.display.HTML object>"
            ]
          },
          "metadata": {
            "tags": []
          }
        }
      ]
    },
    {
      "cell_type": "code",
      "metadata": {
        "id": "-dpjnk_rstwk",
        "colab_type": "code",
        "colab": {}
      },
      "source": [
        "data_lm.save()\n",
        "data_clas.save()"
      ],
      "execution_count": 0,
      "outputs": []
    },
    {
      "cell_type": "code",
      "metadata": {
        "id": "4OkiJa36sw5s",
        "colab_type": "code",
        "colab": {
          "base_uri": "https://localhost:8080/",
          "height": 1000
        },
        "outputId": "b24bd71f-bd12-4437-c256-3351db7ca480"
      },
      "source": [
        "data_lm.train_ds.vocab.itos"
      ],
      "execution_count": 19,
      "outputs": [
        {
          "output_type": "execute_result",
          "data": {
            "text/plain": [
              "['xxunk',\n",
              " 'xxpad',\n",
              " 'xxbos',\n",
              " 'xxeos',\n",
              " 'xxfld',\n",
              " 'xxmaj',\n",
              " 'xxup',\n",
              " 'xxrep',\n",
              " 'xxwrep',\n",
              " 'the',\n",
              " 'of',\n",
              " 'and',\n",
              " 'in',\n",
              " 'to',\n",
              " 'a',\n",
              " 'for',\n",
              " 'with',\n",
              " 'diclofenac',\n",
              " 'was',\n",
              " 'were',\n",
              " 'on',\n",
              " 'is',\n",
              " 'rt',\n",
              " 'sodium',\n",
              " 'by',\n",
              " 'that',\n",
              " 'as',\n",
              " 'at',\n",
              " 'patients',\n",
              " 'or',\n",
              " 'this',\n",
              " 'from',\n",
              " 'drug',\n",
              " 'you',\n",
              " 'i',\n",
              " 'mg',\n",
              " 'group',\n",
              " 'be',\n",
              " 'study',\n",
              " 'disease',\n",
              " 'treatment',\n",
              " 'are',\n",
              " 'after',\n",
              " 'pain',\n",
              " 'not',\n",
              " 'an',\n",
              " 'amp',\n",
              " 'it',\n",
              " 'have',\n",
              " 'release',\n",
              " 'p',\n",
              " 'gluten',\n",
              " 'we',\n",
              " 'than',\n",
              " 'free',\n",
              " 'compared',\n",
              " 'all',\n",
              " 'no',\n",
              " 'effect',\n",
              " 'new',\n",
              " 'more',\n",
              " 'using',\n",
              " 'effects',\n",
              " 'groups',\n",
              " 'both',\n",
              " 'two',\n",
              " 'our',\n",
              " 'your',\n",
              " 'about',\n",
              " 'its',\n",
              " 'h',\n",
              " 'significantly',\n",
              " 'inflammatory',\n",
              " 'out',\n",
              " 'significant',\n",
              " 'time',\n",
              " 'my',\n",
              " 'between',\n",
              " 'use',\n",
              " 'these',\n",
              " 'can',\n",
              " 'but',\n",
              " 'anti',\n",
              " 'day',\n",
              " 'drugs',\n",
              " 'which',\n",
              " 'voltaren',\n",
              " 'potassium',\n",
              " 'used',\n",
              " 'dose',\n",
              " 'has',\n",
              " 'do',\n",
              " 'also',\n",
              " 'results',\n",
              " 'placebo',\n",
              " 'glutenfree',\n",
              " 'one',\n",
              " 's',\n",
              " 'what',\n",
              " 'may',\n",
              " 'nt',\n",
              " 'efficacy',\n",
              " 'm',\n",
              " 'there',\n",
              " 'celiac',\n",
              " 'ml',\n",
              " 'treated',\n",
              " 'days',\n",
              " 'ds',\n",
              " 'w',\n",
              " 'showed',\n",
              " 'when',\n",
              " 'now',\n",
              " 'had',\n",
              " 'oral',\n",
              " 'administration',\n",
              " 'been',\n",
              " 'up',\n",
              " 'different',\n",
              " 'topical',\n",
              " 'c',\n",
              " 'control',\n",
              " 'products',\n",
              " 'studies',\n",
              " 'how',\n",
              " 'rats',\n",
              " 'found',\n",
              " 'concentration',\n",
              " 'food',\n",
              " 'via',\n",
              " 'their',\n",
              " 'clinical',\n",
              " 'if',\n",
              " 'during',\n",
              " 'induced',\n",
              " 'into',\n",
              " 'test',\n",
              " 'first',\n",
              " 'other',\n",
              " 'diet',\n",
              " 'well',\n",
              " 'who',\n",
              " 'could',\n",
              " 'did',\n",
              " 'non',\n",
              " 'nsaids',\n",
              " 'right',\n",
              " 'plasma',\n",
              " 'respectively',\n",
              " 'hours',\n",
              " 'rate',\n",
              " 'effective',\n",
              " 'method',\n",
              " 'mean',\n",
              " 'post',\n",
              " 'tablets',\n",
              " 'formulation',\n",
              " 'those',\n",
              " 'acid',\n",
              " 'ph',\n",
              " 'high',\n",
              " 'solution',\n",
              " 'g',\n",
              " 'formulations',\n",
              " 'over',\n",
              " 'observed',\n",
              " 'gel',\n",
              " 'review',\n",
              " 'n',\n",
              " 'tip',\n",
              " 'd',\n",
              " 'three',\n",
              " 'received',\n",
              " 'each',\n",
              " 'kg',\n",
              " 'blood',\n",
              " 'adverse',\n",
              " 'controlled',\n",
              " 'levels',\n",
              " 'increased',\n",
              " 'only',\n",
              " 'so',\n",
              " 'vitro',\n",
              " 'acute',\n",
              " 'analysis',\n",
              " 'less',\n",
              " 'period',\n",
              " 'single',\n",
              " 'analgesic',\n",
              " 'activity',\n",
              " 'daily',\n",
              " 'data',\n",
              " 'following',\n",
              " 'dblclick',\n",
              " 'however',\n",
              " 'patient',\n",
              " 'most',\n",
              " 'atorvastatin',\n",
              " 'pic',\n",
              " 'randomized',\n",
              " 'concentrations',\n",
              " 'before',\n",
              " 'total',\n",
              " 'week',\n",
              " 'weeks',\n",
              " 'skin',\n",
              " 'why',\n",
              " 'surgery',\n",
              " 'here',\n",
              " 'evaluated',\n",
              " 'some',\n",
              " 'low',\n",
              " 'difference',\n",
              " 'they',\n",
              " 'model',\n",
              " 'lower',\n",
              " 'good',\n",
              " 'tablet',\n",
              " 'similar',\n",
              " 'symptoms',\n",
              " 'postoperative',\n",
              " 'me',\n",
              " 'years',\n",
              " 'renal',\n",
              " 'nsaid',\n",
              " 'under',\n",
              " 'l',\n",
              " 'double',\n",
              " 'cells',\n",
              " 'obtained',\n",
              " 'dissolution',\n",
              " 'will',\n",
              " 'healthy',\n",
              " 't',\n",
              " 'know',\n",
              " 'therapy',\n",
              " 'relief',\n",
              " 'check',\n",
              " 'based',\n",
              " 'increase',\n",
              " 'b',\n",
              " 'should',\n",
              " 'combination',\n",
              " 'higher',\n",
              " 'like',\n",
              " 'min',\n",
              " 'just',\n",
              " 'while',\n",
              " 'application',\n",
              " 'order',\n",
              " 'present',\n",
              " 'any',\n",
              " 'trial',\n",
              " 'doses',\n",
              " 'love',\n",
              " 'administered',\n",
              " 'water',\n",
              " 'studied',\n",
              " 'reported',\n",
              " 'get',\n",
              " 'prepared',\n",
              " 'life',\n",
              " 'help',\n",
              " 're',\n",
              " 'associated',\n",
              " 'events',\n",
              " 'four',\n",
              " 'vs',\n",
              " 'given',\n",
              " 'either',\n",
              " 'differences',\n",
              " 'conditions',\n",
              " 'need',\n",
              " 'changes',\n",
              " 'serum',\n",
              " 'inflammation',\n",
              " 'such',\n",
              " 'reduced',\n",
              " 'better',\n",
              " 'v',\n",
              " 'values',\n",
              " 'response',\n",
              " 'does',\n",
              " 'nonsteroidal',\n",
              " 'developed',\n",
              " 'within',\n",
              " 'performed',\n",
              " 'cell',\n",
              " 'system',\n",
              " 'containing',\n",
              " 'subjects',\n",
              " 'great',\n",
              " 'x',\n",
              " 'investigated',\n",
              " 'decreased',\n",
              " 'blind',\n",
              " 'thanks',\n",
              " 'phase',\n",
              " 'us',\n",
              " 'delivery',\n",
              " 'risk',\n",
              " 'gfb',\n",
              " 'side',\n",
              " 'safety',\n",
              " 'parameters',\n",
              " 'due',\n",
              " 'times',\n",
              " 'properties',\n",
              " 'absorption',\n",
              " 'included',\n",
              " 'statistically',\n",
              " 'posted',\n",
              " 'type',\n",
              " 'assessed',\n",
              " 'steroidal',\n",
              " 'number',\n",
              " 'samples',\n",
              " 'related',\n",
              " 'intolerance',\n",
              " 'measured',\n",
              " 'make',\n",
              " 'people',\n",
              " 'cholesterol',\n",
              " 'indomethacin',\n",
              " 'recipe',\n",
              " 'ca',\n",
              " 'without',\n",
              " 'size',\n",
              " 'level',\n",
              " 'reduction',\n",
              " 'ratio',\n",
              " 'show',\n",
              " 'being',\n",
              " 'best',\n",
              " 'e',\n",
              " 'through',\n",
              " 'form',\n",
              " 'mm',\n",
              " 'heres',\n",
              " 'evaluate',\n",
              " 'applied',\n",
              " 'therapeutic',\n",
              " 'range',\n",
              " 'compare',\n",
              " 'potential',\n",
              " 'greater',\n",
              " 'many',\n",
              " 'lipitor',\n",
              " '\\r \\n ',\n",
              " 'vivo',\n",
              " 'bioavailability',\n",
              " 'minutes',\n",
              " 'determined',\n",
              " 'health',\n",
              " 'auc',\n",
              " 'oa',\n",
              " 'injection',\n",
              " 'primary',\n",
              " 'scale',\n",
              " 'active',\n",
              " '30',\n",
              " 'development',\n",
              " 'liquid',\n",
              " 'baseline',\n",
              " 'k',\n",
              " 'living',\n",
              " 'then',\n",
              " 'function',\n",
              " 'sustained',\n",
              " 'available',\n",
              " 'ng',\n",
              " 'gastrointestinal',\n",
              " 'eat',\n",
              " 'going',\n",
              " 'very',\n",
              " 'year',\n",
              " 'sensitivity',\n",
              " 'read',\n",
              " 'osteoarthritis',\n",
              " 'because',\n",
              " 'medication',\n",
              " 'tissue',\n",
              " 'normal',\n",
              " 'tolerability',\n",
              " 'severe',\n",
              " 'same',\n",
              " 'scores',\n",
              " 'human',\n",
              " 'jennieo',\n",
              " 'coated',\n",
              " 'arthritis',\n",
              " 'knee',\n",
              " 'dependent',\n",
              " 'tips',\n",
              " 'dosage',\n",
              " 'archives',\n",
              " 'change',\n",
              " 'action',\n",
              " 'process',\n",
              " 'news',\n",
              " 'gastric',\n",
              " 'months',\n",
              " 'revealed',\n",
              " 'addition',\n",
              " 'visual',\n",
              " 'weight',\n",
              " 'cox',\n",
              " 'article',\n",
              " 'important',\n",
              " 'migraine',\n",
              " 'tested',\n",
              " 'long',\n",
              " 'aqueous',\n",
              " 'per',\n",
              " 'demonstrated',\n",
              " 'presence',\n",
              " 'area',\n",
              " 'end',\n",
              " 'much',\n",
              " 'polymer',\n",
              " 'ii',\n",
              " 'inhibition',\n",
              " 'safe',\n",
              " 'case',\n",
              " 'matrix',\n",
              " 'trials',\n",
              " 'aim',\n",
              " 'na',\n",
              " 'alone',\n",
              " 'chicken',\n",
              " 'inhibitor',\n",
              " 'chronic',\n",
              " 'randomly',\n",
              " 'volunteers',\n",
              " 'ibuprofen',\n",
              " 'treatments',\n",
              " 'think',\n",
              " 'provide',\n",
              " 'caused',\n",
              " 'decrease',\n",
              " 'further',\n",
              " 'mice',\n",
              " 'suggest',\n",
              " 'animals',\n",
              " 'agent',\n",
              " 'today',\n",
              " 'improvement',\n",
              " 'indicated',\n",
              " 'made',\n",
              " 'whereas',\n",
              " 'peak',\n",
              " 'exposure',\n",
              " 'care',\n",
              " 'follow',\n",
              " 'diagnosis',\n",
              " 'hour',\n",
              " '2',\n",
              " 'cd',\n",
              " 'shown',\n",
              " 'take',\n",
              " 'swelling',\n",
              " 'formation',\n",
              " 'way',\n",
              " 'tolerated',\n",
              " 'old',\n",
              " 'reaction',\n",
              " 'go',\n",
              " 'age',\n",
              " 'mechanism',\n",
              " 'local',\n",
              " 'various',\n",
              " 'permeation',\n",
              " 'divided',\n",
              " 'six',\n",
              " 'big',\n",
              " '1',\n",
              " 'cm',\n",
              " 'resulted',\n",
              " 'damage',\n",
              " 'combined',\n",
              " 'male',\n",
              " 'including',\n",
              " 'conducted',\n",
              " 'growth',\n",
              " 'intensity',\n",
              " 'vas',\n",
              " 'agents',\n",
              " 'protein',\n",
              " 'followed',\n",
              " 'standard',\n",
              " '\\r \\n \\r \\n ',\n",
              " 'diagnosed',\n",
              " 'relative',\n",
              " 'pressure',\n",
              " 'among',\n",
              " 'r',\n",
              " 'profile',\n",
              " 'pre',\n",
              " 'product',\n",
              " 'evaluation',\n",
              " 'moderate',\n",
              " 'th',\n",
              " 'content',\n",
              " 'eating',\n",
              " 'f',\n",
              " 'awareness',\n",
              " 'according',\n",
              " 'want',\n",
              " 'research',\n",
              " 'determine',\n",
              " 'five',\n",
              " 'pizza',\n",
              " 'would',\n",
              " 'amount',\n",
              " 'find',\n",
              " 'eye',\n",
              " 'vehicle',\n",
              " 'please',\n",
              " 'surface',\n",
              " 'part',\n",
              " 'rat',\n",
              " 'corneal',\n",
              " 'evidence',\n",
              " 'cases',\n",
              " 'although',\n",
              " 'share',\n",
              " 'secondary',\n",
              " 'rapid',\n",
              " 'systemic',\n",
              " 'plus',\n",
              " 'multiple',\n",
              " '4',\n",
              " 'score',\n",
              " 'common',\n",
              " 'misoprostol',\n",
              " 'pharmacokinetic',\n",
              " 'experimental',\n",
              " 'urine',\n",
              " 'month',\n",
              " 'global',\n",
              " 'analgesia',\n",
              " 'linked',\n",
              " 'improved',\n",
              " 'profiles',\n",
              " 'pharmaceutical',\n",
              " 'u',\n",
              " 'quality',\n",
              " 'ever',\n",
              " 'enteric',\n",
              " 'beads',\n",
              " 'carried',\n",
              " 'lesions',\n",
              " 'sensitive',\n",
              " 'cause',\n",
              " 'o',\n",
              " 'pellets',\n",
              " 'ci',\n",
              " 'intestinal',\n",
              " 'body',\n",
              " 'onset',\n",
              " 'cmax',\n",
              " 'produced',\n",
              " 'gf',\n",
              " 'happy',\n",
              " 'versus',\n",
              " 'edema',\n",
              " 'duration',\n",
              " 'dr',\n",
              " 'least',\n",
              " 'microspheres',\n",
              " 'participants',\n",
              " 'still',\n",
              " 'blog',\n",
              " 'third',\n",
              " 'even',\n",
              " 'complete',\n",
              " 'medical',\n",
              " 'assessment',\n",
              " 'cross',\n",
              " 'achieved',\n",
              " 'interaction',\n",
              " 'second',\n",
              " 'degrees',\n",
              " 'might',\n",
              " 'expression',\n",
              " 'possible',\n",
              " 'rofecoxib',\n",
              " 'maximum',\n",
              " 'comparison',\n",
              " 'initial',\n",
              " 'aspirin',\n",
              " 'microg',\n",
              " 'technique',\n",
              " 'early',\n",
              " 'muscle',\n",
              " 'rates',\n",
              " 'patch',\n",
              " 'physical',\n",
              " 'production',\n",
              " 'overall',\n",
              " 'term',\n",
              " 'ocular',\n",
              " 'specific',\n",
              " 'saline',\n",
              " 'temperature',\n",
              " 'commercial',\n",
              " 'design',\n",
              " 'efficiency',\n",
              " 'naproxen',\n",
              " 'reference',\n",
              " 'phosphate',\n",
              " 'soup',\n",
              " 'work',\n",
              " 'medium',\n",
              " 'value',\n",
              " 'detection',\n",
              " 'receiving',\n",
              " 'twice',\n",
              " 'them',\n",
              " 'flow',\n",
              " 'volume',\n",
              " 'alternative',\n",
              " 'thus',\n",
              " 'see',\n",
              " 'current',\n",
              " 'wheat',\n",
              " 'cookbook',\n",
              " 'liver',\n",
              " 'joint',\n",
              " 'intramuscular',\n",
              " 'synthesis',\n",
              " 'tissues',\n",
              " 'methods',\n",
              " 'where',\n",
              " 'affect',\n",
              " 'simple',\n",
              " 'prostaglandin',\n",
              " 'once',\n",
              " 'bone',\n",
              " 'models',\n",
              " 'dic',\n",
              " 'complex',\n",
              " 'considered',\n",
              " 'others',\n",
              " 'easy',\n",
              " 'super',\n",
              " 'characterized',\n",
              " 'medications',\n",
              " 'indicate',\n",
              " 'novel',\n",
              " 'loaded',\n",
              " 'increasing',\n",
              " 'state',\n",
              " 'de',\n",
              " 'solid',\n",
              " 'preparation',\n",
              " 'findings',\n",
              " 'examined',\n",
              " 'every',\n",
              " 'inhibited',\n",
              " 'influence',\n",
              " 'buffer',\n",
              " 'story',\n",
              " 'investigate',\n",
              " 'looking',\n",
              " 'beta',\n",
              " 'provided',\n",
              " 'against',\n",
              " 'recorded',\n",
              " 'site',\n",
              " 'extent',\n",
              " 'got',\n",
              " 'few',\n",
              " 'women',\n",
              " 'additional',\n",
              " 'determination',\n",
              " 'rheumatoid',\n",
              " 'assess',\n",
              " 'index',\n",
              " 'comparable',\n",
              " 'co',\n",
              " 'hplc',\n",
              " 'capsules',\n",
              " 'transdermal',\n",
              " 'needed',\n",
              " 'children',\n",
              " '5',\n",
              " 'foods',\n",
              " 'small',\n",
              " 'clinically',\n",
              " 'mild',\n",
              " 'paracetamol',\n",
              " 'whether',\n",
              " 'vascular',\n",
              " 'therefore',\n",
              " 'modified',\n",
              " 'try',\n",
              " 'outcome',\n",
              " 'characteristics',\n",
              " 'cataract',\n",
              " 'taking',\n",
              " 'delicious',\n",
              " 'eyes',\n",
              " 'friends',\n",
              " 'cream',\n",
              " 'drops',\n",
              " 'calcium',\n",
              " 'released',\n",
              " 'brain',\n",
              " 'diffusion',\n",
              " 'too',\n",
              " 'ketorolac',\n",
              " 'thank',\n",
              " 'objective',\n",
              " 'back',\n",
              " 'since',\n",
              " 'alpha',\n",
              " 'support',\n",
              " '2014',\n",
              " 'responses',\n",
              " 'degree',\n",
              " 'nm',\n",
              " 'factor',\n",
              " 'fluid',\n",
              " 'antiinflammatory',\n",
              " 'prolonged',\n",
              " 'chitosan',\n",
              " 'membrane',\n",
              " 'open',\n",
              " 'inhibitors',\n",
              " 'role',\n",
              " 'capsule',\n",
              " 'autographed',\n",
              " 'superior',\n",
              " 'cambia',\n",
              " 'pge',\n",
              " 'options',\n",
              " 'dpsgc',\n",
              " 'known',\n",
              " 'top',\n",
              " 'max',\n",
              " 'information',\n",
              " 'il',\n",
              " 'gi',\n",
              " 'kinetics',\n",
              " 'receive',\n",
              " 'syndrome',\n",
              " 'incidence',\n",
              " 'systems',\n",
              " 'solubility',\n",
              " 'chocolate',\n",
              " 'death',\n",
              " 'analyzed',\n",
              " 'rabbits',\n",
              " 'tests',\n",
              " 'crossover',\n",
              " 'short',\n",
              " 'percentage',\n",
              " 'affected',\n",
              " 'factors',\n",
              " 'treat',\n",
              " 'learn',\n",
              " 'hpmc',\n",
              " 'serious',\n",
              " 'performance',\n",
              " 'hp',\n",
              " 'exhibited',\n",
              " 'enhanced',\n",
              " 'eudragit',\n",
              " 'aged',\n",
              " 'terms',\n",
              " 'solutions',\n",
              " 'seen',\n",
              " 'penetration',\n",
              " 'last',\n",
              " 'major',\n",
              " 'ldl',\n",
              " 'cardiovascular',\n",
              " 'celecoxib',\n",
              " 'especially',\n",
              " 'having',\n",
              " 'feel',\n",
              " 'forms',\n",
              " 'excretion',\n",
              " 've',\n",
              " 'extraction',\n",
              " 'point',\n",
              " 'next',\n",
              " 'analgesics',\n",
              " 'lipid',\n",
              " 'sr',\n",
              " 'randomised',\n",
              " 'orally',\n",
              " 'bread',\n",
              " 'recipes',\n",
              " 'oil',\n",
              " '10',\n",
              " 'microm',\n",
              " 'always',\n",
              " 'preparations',\n",
              " 'collected',\n",
              " 'list',\n",
              " 'average',\n",
              " 'interesting',\n",
              " 'faster',\n",
              " 'book',\n",
              " 'ability',\n",
              " 'giveaway',\n",
              " 'allergy',\n",
              " 'reduce',\n",
              " 'management',\n",
              " 'really',\n",
              " 'drop',\n",
              " 'dfs',\n",
              " 'diseases',\n",
              " 'positive',\n",
              " 'cyclooxygenase',\n",
              " 'sd',\n",
              " 'likely',\n",
              " 'assay',\n",
              " 'issues',\n",
              " 'arthrotec',\n",
              " 'america',\n",
              " 'scanning',\n",
              " 'across',\n",
              " 'getting',\n",
              " 'injury',\n",
              " 'bowl',\n",
              " 'experience',\n",
              " 'intravenous',\n",
              " 'required',\n",
              " 'criteria',\n",
              " 'particle',\n",
              " 'clearance',\n",
              " 'approximately',\n",
              " 'microscopy',\n",
              " 'another',\n",
              " 'flare',\n",
              " 'activities',\n",
              " 'headache',\n",
              " 'salt',\n",
              " 'quinoa',\n",
              " 'stability',\n",
              " 'develop',\n",
              " 'dcf',\n",
              " 'acetaminophen',\n",
              " 'dosing',\n",
              " 'testing',\n",
              " 'ophthalmic',\n",
              " 'confirmed',\n",
              " 'start',\n",
              " 'density',\n",
              " 'independent',\n",
              " 'tmax',\n",
              " 'later',\n",
              " 'cs',\n",
              " 'structure',\n",
              " 'suggested',\n",
              " 'limit',\n",
              " 'useful',\n",
              " 'event',\n",
              " 'market',\n",
              " 'fed',\n",
              " 'signs',\n",
              " 'target',\n",
              " 'report',\n",
              " 'compounds',\n",
              " 'reducing',\n",
              " 'urinary',\n",
              " 'individual',\n",
              " 'laser',\n",
              " 'percent',\n",
              " 'hospital',\n",
              " 'designed',\n",
              " 'alginate',\n",
              " 'procedure',\n",
              " 'interview',\n",
              " 'peg',\n",
              " 'several',\n",
              " 'variables',\n",
              " 'experiments',\n",
              " 'hr',\n",
              " 'medicine',\n",
              " 'distribution',\n",
              " 'able',\n",
              " 'binding',\n",
              " 'assigned',\n",
              " 'info',\n",
              " 'morning',\n",
              " 'child',\n",
              " 'convention',\n",
              " 'widely',\n",
              " 'page',\n",
              " 'female',\n",
              " 'electron',\n",
              " 'adult',\n",
              " 'breaking',\n",
              " 'slow',\n",
              " 'yes',\n",
              " 'special',\n",
              " 'result',\n",
              " 'molecular',\n",
              " 'seven',\n",
              " 'selective',\n",
              " 'effectiveness',\n",
              " 'he',\n",
              " 'his',\n",
              " 'ty',\n",
              " 'hand',\n",
              " 'recommended',\n",
              " 'series',\n",
              " 'stem',\n",
              " 'immediate',\n",
              " 'behavior',\n",
              " 'experienced',\n",
              " 'condition',\n",
              " 'coeliac',\n",
              " 'aes',\n",
              " 'population',\n",
              " 'world',\n",
              " 'kids',\n",
              " 'outcomes',\n",
              " 'sunday',\n",
              " 'occurred',\n",
              " 'activation',\n",
              " 'twenty',\n",
              " 'eight',\n",
              " 'established',\n",
              " 'plant',\n",
              " 'highly',\n",
              " 'potent',\n",
              " 'operative',\n",
              " 'metabolism',\n",
              " 'generally',\n",
              " 'selected',\n",
              " 'examination',\n",
              " 'parallel',\n",
              " 'creatinine',\n",
              " 'am',\n",
              " 'link',\n",
              " 'relaxation',\n",
              " 'community',\n",
              " 'loading',\n",
              " 'spectroscopy',\n",
              " 'coating',\n",
              " 'central',\n",
              " 'interval',\n",
              " 'kcnq',\n",
              " 'curve',\n",
              " 'proposed',\n",
              " 'must',\n",
              " 'chloride',\n",
              " 'analogue',\n",
              " 'mediated',\n",
              " 'molar',\n",
              " '3',\n",
              " 'statin',\n",
              " 'hip',\n",
              " 'improve',\n",
              " 'ir',\n",
              " 'recently',\n",
              " 'absence',\n",
              " 'live',\n",
              " 'sample',\n",
              " 'cake',\n",
              " 'enzyme',\n",
              " 'ask',\n",
              " 'statins',\n",
              " 'often',\n",
              " 'recent',\n",
              " 'published',\n",
              " 'provides',\n",
              " 'cost',\n",
              " 'statistical',\n",
              " 'species',\n",
              " 'optimized',\n",
              " 'powder',\n",
              " 'measurements',\n",
              " 'her',\n",
              " 'detected',\n",
              " 'identified',\n",
              " 'down',\n",
              " 'off',\n",
              " 'cookies',\n",
              " 'large',\n",
              " 'breakfast',\n",
              " 'zero',\n",
              " 'never',\n",
              " 'ray',\n",
              " 'toxicity',\n",
              " 'layer',\n",
              " 'formulated',\n",
              " 'means',\n",
              " 'direct',\n",
              " 'measures',\n",
              " 'kidney',\n",
              " 'join',\n",
              " 'respect',\n",
              " 'pharmacokinetics',\n",
              " 'analog',\n",
              " ...]"
            ]
          },
          "metadata": {
            "tags": []
          },
          "execution_count": 19
        }
      ]
    },
    {
      "cell_type": "code",
      "metadata": {
        "id": "yPWr03mls3VT",
        "colab_type": "code",
        "colab": {
          "base_uri": "https://localhost:8080/",
          "height": 17
        },
        "outputId": "0c7bb457-c7bc-444d-fd63-dc85fe8062da"
      },
      "source": [
        "model_path = path/'models'\n",
        "model_path.mkdir(exist_ok=True)\n",
        "url = 'http://files.fast.ai/models/wt103_v1/'\n",
        "download_url(f'{url}lstm_wt103.pth', model_path/'lstm_wt103.pth')\n",
        "download_url(f'{url}itos_wt103.pkl', model_path/'itos_wt103.pkl')"
      ],
      "execution_count": 20,
      "outputs": [
        {
          "output_type": "display_data",
          "data": {
            "text/html": [
              ""
            ],
            "text/plain": [
              "<IPython.core.display.HTML object>"
            ]
          },
          "metadata": {
            "tags": []
          }
        },
        {
          "output_type": "display_data",
          "data": {
            "text/html": [
              ""
            ],
            "text/plain": [
              "<IPython.core.display.HTML object>"
            ]
          },
          "metadata": {
            "tags": []
          }
        }
      ]
    },
    {
      "cell_type": "code",
      "metadata": {
        "id": "JRzvWg8RtGGr",
        "colab_type": "code",
        "colab": {
          "base_uri": "https://localhost:8080/",
          "height": 34
        },
        "outputId": "06941c11-4014-437a-f620-8e81d259366f"
      },
      "source": [
        "learn = language_model_learner(data_lm, AWD_LSTM, drop_mult=0.5)"
      ],
      "execution_count": 21,
      "outputs": [
        {
          "output_type": "stream",
          "text": [
            "Downloading https://s3.amazonaws.com/fast-ai-modelzoo/wt103-fwd\n"
          ],
          "name": "stdout"
        },
        {
          "output_type": "display_data",
          "data": {
            "text/html": [
              ""
            ],
            "text/plain": [
              "<IPython.core.display.HTML object>"
            ]
          },
          "metadata": {
            "tags": []
          }
        }
      ]
    },
    {
      "cell_type": "code",
      "metadata": {
        "id": "xKK7GeBev7Xn",
        "colab_type": "code",
        "outputId": "94536b5f-9865-486f-b659-ac672db07c37",
        "colab": {
          "base_uri": "https://localhost:8080/",
          "height": 80
        }
      },
      "source": [
        "learn.fit_one_cycle(1, 1e-2)"
      ],
      "execution_count": 22,
      "outputs": [
        {
          "output_type": "display_data",
          "data": {
            "text/html": [
              "<table border=\"1\" class=\"dataframe\">\n",
              "  <thead>\n",
              "    <tr style=\"text-align: left;\">\n",
              "      <th>epoch</th>\n",
              "      <th>train_loss</th>\n",
              "      <th>valid_loss</th>\n",
              "      <th>accuracy</th>\n",
              "      <th>time</th>\n",
              "    </tr>\n",
              "  </thead>\n",
              "  <tbody>\n",
              "    <tr>\n",
              "      <td>0</td>\n",
              "      <td>5.189795</td>\n",
              "      <td>4.622593</td>\n",
              "      <td>0.252232</td>\n",
              "      <td>22:13</td>\n",
              "    </tr>\n",
              "  </tbody>\n",
              "</table>"
            ],
            "text/plain": [
              "<IPython.core.display.HTML object>"
            ]
          },
          "metadata": {
            "tags": []
          }
        }
      ]
    },
    {
      "cell_type": "code",
      "metadata": {
        "id": "iB7rHGQCwd12",
        "colab_type": "code",
        "outputId": "d163f671-7fcb-4989-b780-479c176fb217",
        "colab": {
          "base_uri": "https://localhost:8080/",
          "height": 80
        }
      },
      "source": [
        "learn.fit_one_cycle(1, 1e-2)"
      ],
      "execution_count": 23,
      "outputs": [
        {
          "output_type": "display_data",
          "data": {
            "text/html": [
              "<table border=\"1\" class=\"dataframe\">\n",
              "  <thead>\n",
              "    <tr style=\"text-align: left;\">\n",
              "      <th>epoch</th>\n",
              "      <th>train_loss</th>\n",
              "      <th>valid_loss</th>\n",
              "      <th>accuracy</th>\n",
              "      <th>time</th>\n",
              "    </tr>\n",
              "  </thead>\n",
              "  <tbody>\n",
              "    <tr>\n",
              "      <td>0</td>\n",
              "      <td>4.439962</td>\n",
              "      <td>4.277723</td>\n",
              "      <td>0.285882</td>\n",
              "      <td>22:28</td>\n",
              "    </tr>\n",
              "  </tbody>\n",
              "</table>"
            ],
            "text/plain": [
              "<IPython.core.display.HTML object>"
            ]
          },
          "metadata": {
            "tags": []
          }
        }
      ]
    },
    {
      "cell_type": "code",
      "metadata": {
        "id": "_BnSuAeCwkBe",
        "colab_type": "code",
        "outputId": "908726b4-055d-404d-d1b3-ec5051109837",
        "colab": {
          "base_uri": "https://localhost:8080/",
          "height": 80
        }
      },
      "source": [
        "learn.fit_one_cycle(1, 1e-3)"
      ],
      "execution_count": 24,
      "outputs": [
        {
          "output_type": "display_data",
          "data": {
            "text/html": [
              "<table border=\"1\" class=\"dataframe\">\n",
              "  <thead>\n",
              "    <tr style=\"text-align: left;\">\n",
              "      <th>epoch</th>\n",
              "      <th>train_loss</th>\n",
              "      <th>valid_loss</th>\n",
              "      <th>accuracy</th>\n",
              "      <th>time</th>\n",
              "    </tr>\n",
              "  </thead>\n",
              "  <tbody>\n",
              "    <tr>\n",
              "      <td>0</td>\n",
              "      <td>4.124549</td>\n",
              "      <td>4.239039</td>\n",
              "      <td>0.290718</td>\n",
              "      <td>22:11</td>\n",
              "    </tr>\n",
              "  </tbody>\n",
              "</table>"
            ],
            "text/plain": [
              "<IPython.core.display.HTML object>"
            ]
          },
          "metadata": {
            "tags": []
          }
        }
      ]
    },
    {
      "cell_type": "code",
      "metadata": {
        "id": "MuTm-RFjwrEX",
        "colab_type": "code",
        "outputId": "e22da199-0b68-49ff-f08c-816ee08c92a2",
        "colab": {
          "base_uri": "https://localhost:8080/",
          "height": 80
        }
      },
      "source": [
        "learn.fit_one_cycle(1, 1e-3)"
      ],
      "execution_count": 25,
      "outputs": [
        {
          "output_type": "display_data",
          "data": {
            "text/html": [
              "<table border=\"1\" class=\"dataframe\">\n",
              "  <thead>\n",
              "    <tr style=\"text-align: left;\">\n",
              "      <th>epoch</th>\n",
              "      <th>train_loss</th>\n",
              "      <th>valid_loss</th>\n",
              "      <th>accuracy</th>\n",
              "      <th>time</th>\n",
              "    </tr>\n",
              "  </thead>\n",
              "  <tbody>\n",
              "    <tr>\n",
              "      <td>0</td>\n",
              "      <td>4.072823</td>\n",
              "      <td>4.208352</td>\n",
              "      <td>0.293424</td>\n",
              "      <td>22:15</td>\n",
              "    </tr>\n",
              "  </tbody>\n",
              "</table>"
            ],
            "text/plain": [
              "<IPython.core.display.HTML object>"
            ]
          },
          "metadata": {
            "tags": []
          }
        }
      ]
    },
    {
      "cell_type": "code",
      "metadata": {
        "id": "1Er2ExO8wr7Y",
        "colab_type": "code",
        "colab": {}
      },
      "source": [
        "learn.save_encoder('tuning_pubmed_bigtweet_overlap_0_first')"
      ],
      "execution_count": 0,
      "outputs": []
    },
    {
      "cell_type": "code",
      "metadata": {
        "id": "z52cZs2qwvad",
        "colab_type": "code",
        "colab": {
          "base_uri": "https://localhost:8080/",
          "height": 80
        },
        "outputId": "1d22cdd7-2663-4736-b5c6-7f80c5412cf8"
      },
      "source": [
        "learn = text_classifier_learner(data_clas,AWD_LSTM, drop_mult=0.5)\n",
        "learn.load_encoder('tuning_pubmed_bigtweet_overlap_0_first')\n",
        "learn.fit_one_cycle(1, 1e-2)"
      ],
      "execution_count": 27,
      "outputs": [
        {
          "output_type": "display_data",
          "data": {
            "text/html": [
              "<table border=\"1\" class=\"dataframe\">\n",
              "  <thead>\n",
              "    <tr style=\"text-align: left;\">\n",
              "      <th>epoch</th>\n",
              "      <th>train_loss</th>\n",
              "      <th>valid_loss</th>\n",
              "      <th>accuracy</th>\n",
              "      <th>time</th>\n",
              "    </tr>\n",
              "  </thead>\n",
              "  <tbody>\n",
              "    <tr>\n",
              "      <td>0</td>\n",
              "      <td>3.692076</td>\n",
              "      <td>3.475826</td>\n",
              "      <td>0.442604</td>\n",
              "      <td>02:53</td>\n",
              "    </tr>\n",
              "  </tbody>\n",
              "</table>"
            ],
            "text/plain": [
              "<IPython.core.display.HTML object>"
            ]
          },
          "metadata": {
            "tags": []
          }
        }
      ]
    },
    {
      "cell_type": "code",
      "metadata": {
        "id": "ImwQP1PJwzxd",
        "colab_type": "code",
        "colab": {
          "base_uri": "https://localhost:8080/",
          "height": 80
        },
        "outputId": "8c077e78-afa3-40e3-ed23-93cdab4b6348"
      },
      "source": [
        "learn.freeze_to(-2)\n",
        "learn.fit_one_cycle(1, slice(5e-3/2., 5e-3))"
      ],
      "execution_count": 28,
      "outputs": [
        {
          "output_type": "display_data",
          "data": {
            "text/html": [
              "<table border=\"1\" class=\"dataframe\">\n",
              "  <thead>\n",
              "    <tr style=\"text-align: left;\">\n",
              "      <th>epoch</th>\n",
              "      <th>train_loss</th>\n",
              "      <th>valid_loss</th>\n",
              "      <th>accuracy</th>\n",
              "      <th>time</th>\n",
              "    </tr>\n",
              "  </thead>\n",
              "  <tbody>\n",
              "    <tr>\n",
              "      <td>0</td>\n",
              "      <td>2.777728</td>\n",
              "      <td>2.973190</td>\n",
              "      <td>0.518343</td>\n",
              "      <td>02:53</td>\n",
              "    </tr>\n",
              "  </tbody>\n",
              "</table>"
            ],
            "text/plain": [
              "<IPython.core.display.HTML object>"
            ]
          },
          "metadata": {
            "tags": []
          }
        }
      ]
    },
    {
      "cell_type": "code",
      "metadata": {
        "id": "Owff_BJXw53u",
        "colab_type": "code",
        "colab": {
          "base_uri": "https://localhost:8080/",
          "height": 80
        },
        "outputId": "82cf2577-a98c-4e46-90b6-0b723ab088bc"
      },
      "source": [
        "learn.unfreeze()\n",
        "learn.fit_one_cycle(1, slice(2e-3/100, 2e-3))"
      ],
      "execution_count": 29,
      "outputs": [
        {
          "output_type": "display_data",
          "data": {
            "text/html": [
              "<table border=\"1\" class=\"dataframe\">\n",
              "  <thead>\n",
              "    <tr style=\"text-align: left;\">\n",
              "      <th>epoch</th>\n",
              "      <th>train_loss</th>\n",
              "      <th>valid_loss</th>\n",
              "      <th>accuracy</th>\n",
              "      <th>time</th>\n",
              "    </tr>\n",
              "  </thead>\n",
              "  <tbody>\n",
              "    <tr>\n",
              "      <td>0</td>\n",
              "      <td>2.300978</td>\n",
              "      <td>2.806721</td>\n",
              "      <td>0.533728</td>\n",
              "      <td>03:23</td>\n",
              "    </tr>\n",
              "  </tbody>\n",
              "</table>"
            ],
            "text/plain": [
              "<IPython.core.display.HTML object>"
            ]
          },
          "metadata": {
            "tags": []
          }
        }
      ]
    },
    {
      "cell_type": "code",
      "metadata": {
        "id": "lqAyu56V8Waq",
        "colab_type": "code",
        "colab": {
          "base_uri": "https://localhost:8080/",
          "height": 111
        },
        "outputId": "6e15537b-89bc-47a5-86b0-300afc4115be"
      },
      "source": [
        "learn.fit_one_cycle(2, slice(2e-3/100, 2e-3))"
      ],
      "execution_count": 30,
      "outputs": [
        {
          "output_type": "display_data",
          "data": {
            "text/html": [
              "<table border=\"1\" class=\"dataframe\">\n",
              "  <thead>\n",
              "    <tr style=\"text-align: left;\">\n",
              "      <th>epoch</th>\n",
              "      <th>train_loss</th>\n",
              "      <th>valid_loss</th>\n",
              "      <th>accuracy</th>\n",
              "      <th>time</th>\n",
              "    </tr>\n",
              "  </thead>\n",
              "  <tbody>\n",
              "    <tr>\n",
              "      <td>0</td>\n",
              "      <td>2.081958</td>\n",
              "      <td>2.553745</td>\n",
              "      <td>0.564497</td>\n",
              "      <td>03:33</td>\n",
              "    </tr>\n",
              "    <tr>\n",
              "      <td>1</td>\n",
              "      <td>1.893933</td>\n",
              "      <td>2.441428</td>\n",
              "      <td>0.589349</td>\n",
              "      <td>03:38</td>\n",
              "    </tr>\n",
              "  </tbody>\n",
              "</table>"
            ],
            "text/plain": [
              "<IPython.core.display.HTML object>"
            ]
          },
          "metadata": {
            "tags": []
          }
        }
      ]
    },
    {
      "cell_type": "code",
      "metadata": {
        "id": "a7I1xMRp8bUd",
        "colab_type": "code",
        "colab": {
          "base_uri": "https://localhost:8080/",
          "height": 111
        },
        "outputId": "97f9f782-3687-4a7c-ad69-9039cf2c6496"
      },
      "source": [
        "learn.fit_one_cycle(2, slice(2e-3/100, 2e-3))"
      ],
      "execution_count": 31,
      "outputs": [
        {
          "output_type": "display_data",
          "data": {
            "text/html": [
              "<table border=\"1\" class=\"dataframe\">\n",
              "  <thead>\n",
              "    <tr style=\"text-align: left;\">\n",
              "      <th>epoch</th>\n",
              "      <th>train_loss</th>\n",
              "      <th>valid_loss</th>\n",
              "      <th>accuracy</th>\n",
              "      <th>time</th>\n",
              "    </tr>\n",
              "  </thead>\n",
              "  <tbody>\n",
              "    <tr>\n",
              "      <td>0</td>\n",
              "      <td>1.762751</td>\n",
              "      <td>2.331722</td>\n",
              "      <td>0.596450</td>\n",
              "      <td>03:16</td>\n",
              "    </tr>\n",
              "    <tr>\n",
              "      <td>1</td>\n",
              "      <td>1.634928</td>\n",
              "      <td>2.243957</td>\n",
              "      <td>0.620118</td>\n",
              "      <td>03:29</td>\n",
              "    </tr>\n",
              "  </tbody>\n",
              "</table>"
            ],
            "text/plain": [
              "<IPython.core.display.HTML object>"
            ]
          },
          "metadata": {
            "tags": []
          }
        }
      ]
    },
    {
      "cell_type": "code",
      "metadata": {
        "id": "UAnti-XmGVfO",
        "colab_type": "code",
        "colab": {
          "base_uri": "https://localhost:8080/",
          "height": 111
        },
        "outputId": "f5c8849d-0b9f-4227-f75d-1995ba06f178"
      },
      "source": [
        "learn.fit_one_cycle(2, slice(2e-3/100, 2e-3))"
      ],
      "execution_count": 32,
      "outputs": [
        {
          "output_type": "display_data",
          "data": {
            "text/html": [
              "<table border=\"1\" class=\"dataframe\">\n",
              "  <thead>\n",
              "    <tr style=\"text-align: left;\">\n",
              "      <th>epoch</th>\n",
              "      <th>train_loss</th>\n",
              "      <th>valid_loss</th>\n",
              "      <th>accuracy</th>\n",
              "      <th>time</th>\n",
              "    </tr>\n",
              "  </thead>\n",
              "  <tbody>\n",
              "    <tr>\n",
              "      <td>0</td>\n",
              "      <td>1.567878</td>\n",
              "      <td>2.138001</td>\n",
              "      <td>0.633136</td>\n",
              "      <td>03:31</td>\n",
              "    </tr>\n",
              "    <tr>\n",
              "      <td>1</td>\n",
              "      <td>1.475230</td>\n",
              "      <td>2.102811</td>\n",
              "      <td>0.628402</td>\n",
              "      <td>03:31</td>\n",
              "    </tr>\n",
              "  </tbody>\n",
              "</table>"
            ],
            "text/plain": [
              "<IPython.core.display.HTML object>"
            ]
          },
          "metadata": {
            "tags": []
          }
        }
      ]
    },
    {
      "cell_type": "code",
      "metadata": {
        "id": "bIft7W25GwSu",
        "colab_type": "code",
        "colab": {
          "base_uri": "https://localhost:8080/",
          "height": 111
        },
        "outputId": "a3ea6544-814a-44db-8773-0479e12f248a"
      },
      "source": [
        "learn.fit_one_cycle(2, slice(2e-3/100, 2e-3))"
      ],
      "execution_count": 33,
      "outputs": [
        {
          "output_type": "display_data",
          "data": {
            "text/html": [
              "<table border=\"1\" class=\"dataframe\">\n",
              "  <thead>\n",
              "    <tr style=\"text-align: left;\">\n",
              "      <th>epoch</th>\n",
              "      <th>train_loss</th>\n",
              "      <th>valid_loss</th>\n",
              "      <th>accuracy</th>\n",
              "      <th>time</th>\n",
              "    </tr>\n",
              "  </thead>\n",
              "  <tbody>\n",
              "    <tr>\n",
              "      <td>0</td>\n",
              "      <td>1.372947</td>\n",
              "      <td>2.081290</td>\n",
              "      <td>0.629586</td>\n",
              "      <td>03:42</td>\n",
              "    </tr>\n",
              "    <tr>\n",
              "      <td>1</td>\n",
              "      <td>1.331616</td>\n",
              "      <td>2.023888</td>\n",
              "      <td>0.643787</td>\n",
              "      <td>03:20</td>\n",
              "    </tr>\n",
              "  </tbody>\n",
              "</table>"
            ],
            "text/plain": [
              "<IPython.core.display.HTML object>"
            ]
          },
          "metadata": {
            "tags": []
          }
        }
      ]
    },
    {
      "cell_type": "code",
      "metadata": {
        "id": "EEHszVRvGyFt",
        "colab_type": "code",
        "colab": {
          "base_uri": "https://localhost:8080/",
          "height": 111
        },
        "outputId": "142f02b6-4bc7-49df-95f8-24c8340f661f"
      },
      "source": [
        "learn.fit_one_cycle(2, slice(2e-3/100, 2e-3))"
      ],
      "execution_count": 34,
      "outputs": [
        {
          "output_type": "display_data",
          "data": {
            "text/html": [
              "<table border=\"1\" class=\"dataframe\">\n",
              "  <thead>\n",
              "    <tr style=\"text-align: left;\">\n",
              "      <th>epoch</th>\n",
              "      <th>train_loss</th>\n",
              "      <th>valid_loss</th>\n",
              "      <th>accuracy</th>\n",
              "      <th>time</th>\n",
              "    </tr>\n",
              "  </thead>\n",
              "  <tbody>\n",
              "    <tr>\n",
              "      <td>0</td>\n",
              "      <td>1.279974</td>\n",
              "      <td>2.039060</td>\n",
              "      <td>0.648521</td>\n",
              "      <td>03:30</td>\n",
              "    </tr>\n",
              "    <tr>\n",
              "      <td>1</td>\n",
              "      <td>1.252693</td>\n",
              "      <td>1.971475</td>\n",
              "      <td>0.659172</td>\n",
              "      <td>03:31</td>\n",
              "    </tr>\n",
              "  </tbody>\n",
              "</table>"
            ],
            "text/plain": [
              "<IPython.core.display.HTML object>"
            ]
          },
          "metadata": {
            "tags": []
          }
        }
      ]
    },
    {
      "cell_type": "code",
      "metadata": {
        "id": "XsHfrhCHG3dN",
        "colab_type": "code",
        "colab": {
          "base_uri": "https://localhost:8080/",
          "height": 173
        },
        "outputId": "ac110a50-0f72-4de8-c106-41c271862c4c"
      },
      "source": [
        "learn.fit_one_cycle(4, slice(2e-3/100, 2e-3))"
      ],
      "execution_count": 35,
      "outputs": [
        {
          "output_type": "display_data",
          "data": {
            "text/html": [
              "<table border=\"1\" class=\"dataframe\">\n",
              "  <thead>\n",
              "    <tr style=\"text-align: left;\">\n",
              "      <th>epoch</th>\n",
              "      <th>train_loss</th>\n",
              "      <th>valid_loss</th>\n",
              "      <th>accuracy</th>\n",
              "      <th>time</th>\n",
              "    </tr>\n",
              "  </thead>\n",
              "  <tbody>\n",
              "    <tr>\n",
              "      <td>0</td>\n",
              "      <td>1.176934</td>\n",
              "      <td>1.969709</td>\n",
              "      <td>0.646154</td>\n",
              "      <td>03:16</td>\n",
              "    </tr>\n",
              "    <tr>\n",
              "      <td>1</td>\n",
              "      <td>1.184779</td>\n",
              "      <td>1.951771</td>\n",
              "      <td>0.648521</td>\n",
              "      <td>03:39</td>\n",
              "    </tr>\n",
              "    <tr>\n",
              "      <td>2</td>\n",
              "      <td>1.085015</td>\n",
              "      <td>1.891574</td>\n",
              "      <td>0.666272</td>\n",
              "      <td>03:21</td>\n",
              "    </tr>\n",
              "    <tr>\n",
              "      <td>3</td>\n",
              "      <td>1.002920</td>\n",
              "      <td>1.877904</td>\n",
              "      <td>0.666272</td>\n",
              "      <td>03:39</td>\n",
              "    </tr>\n",
              "  </tbody>\n",
              "</table>"
            ],
            "text/plain": [
              "<IPython.core.display.HTML object>"
            ]
          },
          "metadata": {
            "tags": []
          }
        }
      ]
    },
    {
      "cell_type": "code",
      "metadata": {
        "id": "0Zsd99isb9EQ",
        "colab_type": "code",
        "colab": {
          "base_uri": "https://localhost:8080/",
          "height": 173
        },
        "outputId": "b77067c9-5e00-4e85-8c72-c55180ce2688"
      },
      "source": [
        "learn.fit_one_cycle(4, slice(2e-3/100, 2e-3))"
      ],
      "execution_count": 36,
      "outputs": [
        {
          "output_type": "display_data",
          "data": {
            "text/html": [
              "<table border=\"1\" class=\"dataframe\">\n",
              "  <thead>\n",
              "    <tr style=\"text-align: left;\">\n",
              "      <th>epoch</th>\n",
              "      <th>train_loss</th>\n",
              "      <th>valid_loss</th>\n",
              "      <th>accuracy</th>\n",
              "      <th>time</th>\n",
              "    </tr>\n",
              "  </thead>\n",
              "  <tbody>\n",
              "    <tr>\n",
              "      <td>0</td>\n",
              "      <td>1.037601</td>\n",
              "      <td>1.882386</td>\n",
              "      <td>0.671006</td>\n",
              "      <td>03:48</td>\n",
              "    </tr>\n",
              "    <tr>\n",
              "      <td>1</td>\n",
              "      <td>1.056233</td>\n",
              "      <td>1.966191</td>\n",
              "      <td>0.656805</td>\n",
              "      <td>03:37</td>\n",
              "    </tr>\n",
              "    <tr>\n",
              "      <td>2</td>\n",
              "      <td>0.988894</td>\n",
              "      <td>1.854243</td>\n",
              "      <td>0.668639</td>\n",
              "      <td>03:15</td>\n",
              "    </tr>\n",
              "    <tr>\n",
              "      <td>3</td>\n",
              "      <td>0.933588</td>\n",
              "      <td>1.863005</td>\n",
              "      <td>0.678106</td>\n",
              "      <td>03:15</td>\n",
              "    </tr>\n",
              "  </tbody>\n",
              "</table>"
            ],
            "text/plain": [
              "<IPython.core.display.HTML object>"
            ]
          },
          "metadata": {
            "tags": []
          }
        }
      ]
    },
    {
      "cell_type": "code",
      "metadata": {
        "id": "atNWNKDFPbuI",
        "colab_type": "code",
        "colab": {
          "base_uri": "https://localhost:8080/",
          "height": 173
        },
        "outputId": "f5963b4e-5c96-4135-8f4d-d992f10dbb71"
      },
      "source": [
        "learn.fit_one_cycle(4, slice(2e-3/100, 2e-3))"
      ],
      "execution_count": 37,
      "outputs": [
        {
          "output_type": "display_data",
          "data": {
            "text/html": [
              "<table border=\"1\" class=\"dataframe\">\n",
              "  <thead>\n",
              "    <tr style=\"text-align: left;\">\n",
              "      <th>epoch</th>\n",
              "      <th>train_loss</th>\n",
              "      <th>valid_loss</th>\n",
              "      <th>accuracy</th>\n",
              "      <th>time</th>\n",
              "    </tr>\n",
              "  </thead>\n",
              "  <tbody>\n",
              "    <tr>\n",
              "      <td>0</td>\n",
              "      <td>0.924321</td>\n",
              "      <td>1.891535</td>\n",
              "      <td>0.672189</td>\n",
              "      <td>03:27</td>\n",
              "    </tr>\n",
              "    <tr>\n",
              "      <td>1</td>\n",
              "      <td>0.977580</td>\n",
              "      <td>1.895770</td>\n",
              "      <td>0.669823</td>\n",
              "      <td>03:14</td>\n",
              "    </tr>\n",
              "    <tr>\n",
              "      <td>2</td>\n",
              "      <td>0.936676</td>\n",
              "      <td>1.889676</td>\n",
              "      <td>0.679290</td>\n",
              "      <td>03:24</td>\n",
              "    </tr>\n",
              "    <tr>\n",
              "      <td>3</td>\n",
              "      <td>0.889455</td>\n",
              "      <td>1.881060</td>\n",
              "      <td>0.689941</td>\n",
              "      <td>03:22</td>\n",
              "    </tr>\n",
              "  </tbody>\n",
              "</table>"
            ],
            "text/plain": [
              "<IPython.core.display.HTML object>"
            ]
          },
          "metadata": {
            "tags": []
          }
        }
      ]
    },
    {
      "cell_type": "code",
      "metadata": {
        "id": "rKrBTZ0T1uVA",
        "colab_type": "code",
        "colab": {
          "base_uri": "https://localhost:8080/",
          "height": 173
        },
        "outputId": "b29cc559-5933-4e6d-d50a-ce6fdd6599ff"
      },
      "source": [
        "learn.fit_one_cycle(4, slice(2e-3/100, 2e-3))"
      ],
      "execution_count": 38,
      "outputs": [
        {
          "output_type": "display_data",
          "data": {
            "text/html": [
              "<table border=\"1\" class=\"dataframe\">\n",
              "  <thead>\n",
              "    <tr style=\"text-align: left;\">\n",
              "      <th>epoch</th>\n",
              "      <th>train_loss</th>\n",
              "      <th>valid_loss</th>\n",
              "      <th>accuracy</th>\n",
              "      <th>time</th>\n",
              "    </tr>\n",
              "  </thead>\n",
              "  <tbody>\n",
              "    <tr>\n",
              "      <td>0</td>\n",
              "      <td>0.886217</td>\n",
              "      <td>1.855683</td>\n",
              "      <td>0.689941</td>\n",
              "      <td>03:40</td>\n",
              "    </tr>\n",
              "    <tr>\n",
              "      <td>1</td>\n",
              "      <td>0.940503</td>\n",
              "      <td>1.912513</td>\n",
              "      <td>0.678106</td>\n",
              "      <td>03:31</td>\n",
              "    </tr>\n",
              "    <tr>\n",
              "      <td>2</td>\n",
              "      <td>0.850190</td>\n",
              "      <td>1.867010</td>\n",
              "      <td>0.694675</td>\n",
              "      <td>03:26</td>\n",
              "    </tr>\n",
              "    <tr>\n",
              "      <td>3</td>\n",
              "      <td>0.839185</td>\n",
              "      <td>1.867149</td>\n",
              "      <td>0.689941</td>\n",
              "      <td>03:18</td>\n",
              "    </tr>\n",
              "  </tbody>\n",
              "</table>"
            ],
            "text/plain": [
              "<IPython.core.display.HTML object>"
            ]
          },
          "metadata": {
            "tags": []
          }
        }
      ]
    },
    {
      "cell_type": "code",
      "metadata": {
        "id": "ajQC6WDg1yA9",
        "colab_type": "code",
        "colab": {
          "base_uri": "https://localhost:8080/",
          "height": 173
        },
        "outputId": "7cb68f8a-8aaa-4f11-a813-7153248dc60e"
      },
      "source": [
        "learn.fit_one_cycle(4, slice(2e-3/100, 2e-3))"
      ],
      "execution_count": 39,
      "outputs": [
        {
          "output_type": "display_data",
          "data": {
            "text/html": [
              "<table border=\"1\" class=\"dataframe\">\n",
              "  <thead>\n",
              "    <tr style=\"text-align: left;\">\n",
              "      <th>epoch</th>\n",
              "      <th>train_loss</th>\n",
              "      <th>valid_loss</th>\n",
              "      <th>accuracy</th>\n",
              "      <th>time</th>\n",
              "    </tr>\n",
              "  </thead>\n",
              "  <tbody>\n",
              "    <tr>\n",
              "      <td>0</td>\n",
              "      <td>0.878209</td>\n",
              "      <td>1.927719</td>\n",
              "      <td>0.688757</td>\n",
              "      <td>03:48</td>\n",
              "    </tr>\n",
              "    <tr>\n",
              "      <td>1</td>\n",
              "      <td>0.918637</td>\n",
              "      <td>1.951802</td>\n",
              "      <td>0.680473</td>\n",
              "      <td>03:21</td>\n",
              "    </tr>\n",
              "    <tr>\n",
              "      <td>2</td>\n",
              "      <td>0.873383</td>\n",
              "      <td>1.967481</td>\n",
              "      <td>0.682840</td>\n",
              "      <td>03:20</td>\n",
              "    </tr>\n",
              "    <tr>\n",
              "      <td>3</td>\n",
              "      <td>0.799547</td>\n",
              "      <td>1.888378</td>\n",
              "      <td>0.691124</td>\n",
              "      <td>03:43</td>\n",
              "    </tr>\n",
              "  </tbody>\n",
              "</table>"
            ],
            "text/plain": [
              "<IPython.core.display.HTML object>"
            ]
          },
          "metadata": {
            "tags": []
          }
        }
      ]
    },
    {
      "cell_type": "code",
      "metadata": {
        "id": "KKydb0B4BKGk",
        "colab_type": "code",
        "colab": {
          "base_uri": "https://localhost:8080/",
          "height": 173
        },
        "outputId": "5dc66d83-748c-41c0-cfde-807eee3337ef"
      },
      "source": [
        "learn.fit_one_cycle(4, slice(2e-3/100, 2e-3))"
      ],
      "execution_count": 40,
      "outputs": [
        {
          "output_type": "display_data",
          "data": {
            "text/html": [
              "<table border=\"1\" class=\"dataframe\">\n",
              "  <thead>\n",
              "    <tr style=\"text-align: left;\">\n",
              "      <th>epoch</th>\n",
              "      <th>train_loss</th>\n",
              "      <th>valid_loss</th>\n",
              "      <th>accuracy</th>\n",
              "      <th>time</th>\n",
              "    </tr>\n",
              "  </thead>\n",
              "  <tbody>\n",
              "    <tr>\n",
              "      <td>0</td>\n",
              "      <td>0.833247</td>\n",
              "      <td>1.923309</td>\n",
              "      <td>0.685207</td>\n",
              "      <td>03:47</td>\n",
              "    </tr>\n",
              "    <tr>\n",
              "      <td>1</td>\n",
              "      <td>0.854815</td>\n",
              "      <td>1.927199</td>\n",
              "      <td>0.680473</td>\n",
              "      <td>03:25</td>\n",
              "    </tr>\n",
              "    <tr>\n",
              "      <td>2</td>\n",
              "      <td>0.837687</td>\n",
              "      <td>1.892840</td>\n",
              "      <td>0.691124</td>\n",
              "      <td>03:24</td>\n",
              "    </tr>\n",
              "    <tr>\n",
              "      <td>3</td>\n",
              "      <td>0.797813</td>\n",
              "      <td>1.910377</td>\n",
              "      <td>0.692308</td>\n",
              "      <td>03:41</td>\n",
              "    </tr>\n",
              "  </tbody>\n",
              "</table>"
            ],
            "text/plain": [
              "<IPython.core.display.HTML object>"
            ]
          },
          "metadata": {
            "tags": []
          }
        }
      ]
    },
    {
      "cell_type": "code",
      "metadata": {
        "id": "T2APKtFKBpGY",
        "colab_type": "code",
        "colab": {
          "base_uri": "https://localhost:8080/",
          "height": 173
        },
        "outputId": "4f7fe038-edc5-4fa8-da4b-b8dfe8624164"
      },
      "source": [
        "learn.fit_one_cycle(4, slice(2e-3/100, 2e-3))"
      ],
      "execution_count": 41,
      "outputs": [
        {
          "output_type": "display_data",
          "data": {
            "text/html": [
              "<table border=\"1\" class=\"dataframe\">\n",
              "  <thead>\n",
              "    <tr style=\"text-align: left;\">\n",
              "      <th>epoch</th>\n",
              "      <th>train_loss</th>\n",
              "      <th>valid_loss</th>\n",
              "      <th>accuracy</th>\n",
              "      <th>time</th>\n",
              "    </tr>\n",
              "  </thead>\n",
              "  <tbody>\n",
              "    <tr>\n",
              "      <td>0</td>\n",
              "      <td>0.822142</td>\n",
              "      <td>1.961573</td>\n",
              "      <td>0.682840</td>\n",
              "      <td>03:41</td>\n",
              "    </tr>\n",
              "    <tr>\n",
              "      <td>1</td>\n",
              "      <td>0.874002</td>\n",
              "      <td>1.942618</td>\n",
              "      <td>0.686391</td>\n",
              "      <td>03:17</td>\n",
              "    </tr>\n",
              "    <tr>\n",
              "      <td>2</td>\n",
              "      <td>0.840978</td>\n",
              "      <td>1.914883</td>\n",
              "      <td>0.693491</td>\n",
              "      <td>03:25</td>\n",
              "    </tr>\n",
              "    <tr>\n",
              "      <td>3</td>\n",
              "      <td>0.813525</td>\n",
              "      <td>1.922315</td>\n",
              "      <td>0.693491</td>\n",
              "      <td>03:29</td>\n",
              "    </tr>\n",
              "  </tbody>\n",
              "</table>"
            ],
            "text/plain": [
              "<IPython.core.display.HTML object>"
            ]
          },
          "metadata": {
            "tags": []
          }
        }
      ]
    },
    {
      "cell_type": "code",
      "metadata": {
        "id": "qtTypA1sPgLU",
        "colab_type": "code",
        "colab": {
          "base_uri": "https://localhost:8080/",
          "height": 111
        },
        "outputId": "75bd06e8-0f2f-4045-9d98-710e769eea03"
      },
      "source": [
        "learn.fit_one_cycle(2, slice(2e-3/100, 2e-3))"
      ],
      "execution_count": 42,
      "outputs": [
        {
          "output_type": "display_data",
          "data": {
            "text/html": [
              "<table border=\"1\" class=\"dataframe\">\n",
              "  <thead>\n",
              "    <tr style=\"text-align: left;\">\n",
              "      <th>epoch</th>\n",
              "      <th>train_loss</th>\n",
              "      <th>valid_loss</th>\n",
              "      <th>accuracy</th>\n",
              "      <th>time</th>\n",
              "    </tr>\n",
              "  </thead>\n",
              "  <tbody>\n",
              "    <tr>\n",
              "      <td>0</td>\n",
              "      <td>0.782283</td>\n",
              "      <td>1.977603</td>\n",
              "      <td>0.680473</td>\n",
              "      <td>03:39</td>\n",
              "    </tr>\n",
              "    <tr>\n",
              "      <td>1</td>\n",
              "      <td>0.816146</td>\n",
              "      <td>1.936542</td>\n",
              "      <td>0.682840</td>\n",
              "      <td>03:37</td>\n",
              "    </tr>\n",
              "  </tbody>\n",
              "</table>"
            ],
            "text/plain": [
              "<IPython.core.display.HTML object>"
            ]
          },
          "metadata": {
            "tags": []
          }
        }
      ]
    },
    {
      "cell_type": "code",
      "metadata": {
        "id": "b242kBsTUp9Y",
        "colab_type": "code",
        "colab": {
          "base_uri": "https://localhost:8080/",
          "height": 111
        },
        "outputId": "798e05ba-09db-4115-937e-93d7d245c94b"
      },
      "source": [
        "learn.fit_one_cycle(2, slice(2e-3/100, 2e-3))"
      ],
      "execution_count": 43,
      "outputs": [
        {
          "output_type": "display_data",
          "data": {
            "text/html": [
              "<table border=\"1\" class=\"dataframe\">\n",
              "  <thead>\n",
              "    <tr style=\"text-align: left;\">\n",
              "      <th>epoch</th>\n",
              "      <th>train_loss</th>\n",
              "      <th>valid_loss</th>\n",
              "      <th>accuracy</th>\n",
              "      <th>time</th>\n",
              "    </tr>\n",
              "  </thead>\n",
              "  <tbody>\n",
              "    <tr>\n",
              "      <td>0</td>\n",
              "      <td>0.872658</td>\n",
              "      <td>1.974546</td>\n",
              "      <td>0.684024</td>\n",
              "      <td>03:39</td>\n",
              "    </tr>\n",
              "    <tr>\n",
              "      <td>1</td>\n",
              "      <td>0.788341</td>\n",
              "      <td>1.939488</td>\n",
              "      <td>0.691124</td>\n",
              "      <td>03:28</td>\n",
              "    </tr>\n",
              "  </tbody>\n",
              "</table>"
            ],
            "text/plain": [
              "<IPython.core.display.HTML object>"
            ]
          },
          "metadata": {
            "tags": []
          }
        }
      ]
    },
    {
      "cell_type": "code",
      "metadata": {
        "id": "Duwf1Ih5VeDZ",
        "colab_type": "code",
        "colab": {
          "base_uri": "https://localhost:8080/",
          "height": 80
        },
        "outputId": "086cd6af-fd67-4fff-c917-5f0f3488d9dc"
      },
      "source": [
        "learn.fit_one_cycle(1, slice(2e-3/100, 2e-3))"
      ],
      "execution_count": 44,
      "outputs": [
        {
          "output_type": "display_data",
          "data": {
            "text/html": [
              "<table border=\"1\" class=\"dataframe\">\n",
              "  <thead>\n",
              "    <tr style=\"text-align: left;\">\n",
              "      <th>epoch</th>\n",
              "      <th>train_loss</th>\n",
              "      <th>valid_loss</th>\n",
              "      <th>accuracy</th>\n",
              "      <th>time</th>\n",
              "    </tr>\n",
              "  </thead>\n",
              "  <tbody>\n",
              "    <tr>\n",
              "      <td>0</td>\n",
              "      <td>0.790506</td>\n",
              "      <td>1.917258</td>\n",
              "      <td>0.687574</td>\n",
              "      <td>03:25</td>\n",
              "    </tr>\n",
              "  </tbody>\n",
              "</table>"
            ],
            "text/plain": [
              "<IPython.core.display.HTML object>"
            ]
          },
          "metadata": {
            "tags": []
          }
        }
      ]
    },
    {
      "cell_type": "code",
      "metadata": {
        "id": "c65d-osfDUXm",
        "colab_type": "code",
        "colab": {}
      },
      "source": [
        "# save the best model\n",
        "\n",
        "learn.save_encoder('tuning_pubmed_bigtweet_overlap_0_last')"
      ],
      "execution_count": 0,
      "outputs": []
    },
    {
      "cell_type": "markdown",
      "metadata": {
        "id": "rCwZU0E2RgM6",
        "colab_type": "text"
      },
      "source": [
        "# Part three: Predict on the test dataset"
      ]
    },
    {
      "cell_type": "code",
      "metadata": {
        "id": "gDm72c-dOu7d",
        "colab_type": "code",
        "colab": {
          "base_uri": "https://localhost:8080/",
          "height": 17
        },
        "outputId": "3543cd4c-7141-43a5-aedb-7fc7b2862231"
      },
      "source": [
        "# use the test data for prediction\n",
        "\n",
        "preds, y = learn.get_preds(DatasetType.Test)"
      ],
      "execution_count": 46,
      "outputs": [
        {
          "output_type": "display_data",
          "data": {
            "text/html": [
              ""
            ],
            "text/plain": [
              "<IPython.core.display.HTML object>"
            ]
          },
          "metadata": {
            "tags": []
          }
        }
      ]
    },
    {
      "cell_type": "code",
      "metadata": {
        "id": "6tFSQcsWPvxn",
        "colab_type": "code",
        "colab": {
          "base_uri": "https://localhost:8080/",
          "height": 105
        },
        "outputId": "2861f93d-6894-4c72-9253-699ab859b9fd"
      },
      "source": [
        "predictions, *_ = learn.get_preds(DatasetType.Test)\n",
        "labels = np.argmax(predictions, 1)\n",
        "predict_list = labels.tolist()\n",
        "standard_list = test[0].tolist()\n",
        "\n",
        "print(len(predict_list))\n",
        "print(len(standard_list))\n",
        "\n",
        "print(predict_list)\n",
        "print(standard_list)"
      ],
      "execution_count": 47,
      "outputs": [
        {
          "output_type": "display_data",
          "data": {
            "text/html": [
              ""
            ],
            "text/plain": [
              "<IPython.core.display.HTML object>"
            ]
          },
          "metadata": {
            "tags": []
          }
        },
        {
          "output_type": "stream",
          "text": [
            "1018\n",
            "1018\n",
            "[840, 623, 62, 334, 5, 1026, 325, 8, 8, 8, 8, 8, 8, 760, 10, 640, 5, 32, 418, 589, 27, 537, 27, 754, 289, 30, 30, 31, 31, 32, 209, 309, 309, 309, 37, 256, 623, 289, 603, 325, 325, 49, 49, 557, 49, 325, 49, 1035, 1035, 591, 100, 100, 100, 100, 245, 53, 53, 61, 281, 71, 71, 71, 491, 76, 76, 76, 260, 190, 418, 418, 418, 190, 309, 309, 309, 309, 309, 309, 309, 309, 309, 309, 309, 309, 309, 309, 309, 309, 309, 309, 309, 309, 309, 309, 309, 309, 289, 289, 289, 418, 309, 309, 80, 80, 80, 80, 80, 80, 80, 80, 425, 660, 89, 137, 627, 325, 91, 92, 517, 94, 826, 826, 94, 94, 94, 94, 325, 318, 98, 492, 98, 49, 644, 100, 337, 337, 100, 100, 100, 100, 694, 100, 291, 265, 805, 660, 660, 108, 209, 1035, 289, 111, 111, 111, 111, 265, 111, 111, 289, 289, 111, 227, 425, 120, 1026, 1026, 418, 125, 125, 125, 125, 125, 125, 125, 125, 418, 125, 127, 343, 289, 129, 289, 469, 180, 142, 142, 144, 285, 415, 418, 847, 2, 344, 157, 158, 194, 165, 359, 166, 166, 168, 298, 289, 265, 864, 864, 864, 864, 864, 742, 182, 309, 182, 896, 289, 190, 183, 183, 183, 183, 183, 183, 183, 418, 418, 185, 187, 187, 418, 418, 418, 189, 190, 190, 190, 190, 190, 190, 190, 190, 190, 193, 197, 34, 34, 34, 877, 805, 281, 769, 210, 210, 210, 210, 210, 289, 896, 418, 896, 896, 419, 896, 896, 896, 896, 214, 236, 265, 265, 418, 418, 418, 218, 324, 220, 220, 418, 226, 44, 228, 228, 228, 289, 289, 289, 289, 228, 289, 531, 231, 234, 234, 235, 574, 265, 386, 418, 418, 579, 740, 187, 418, 418, 418, 243, 243, 243, 418, 418, 418, 728, 427, 418, 623, 245, 363, 470, 173, 245, 846, 246, 298, 246, 418, 418, 645, 417, 259, 309, 289, 289, 418, 265, 419, 265, 265, 265, 265, 265, 265, 265, 265, 265, 265, 265, 265, 265, 265, 265, 265, 289, 265, 265, 265, 265, 265, 199, 86, 137, 627, 269, 189, 418, 728, 277, 289, 282, 283, 52, 589, 309, 173, 289, 289, 289, 289, 289, 37, 289, 289, 309, 289, 289, 289, 289, 289, 289, 289, 289, 289, 289, 289, 289, 289, 289, 289, 289, 289, 289, 289, 289, 289, 309, 291, 309, 849, 877, 887, 374, 300, 300, 245, 301, 265, 591, 189, 762, 308, 427, 182, 309, 309, 289, 309, 749, 642, 318, 318, 359, 318, 318, 455, 545, 29, 321, 321, 418, 265, 325, 301, 301, 301, 301, 301, 301, 301, 301, 301, 418, 325, 203, 218, 728, 326, 61, 924, 333, 562, 562, 336, 605, 337, 337, 337, 100, 337, 265, 768, 338, 127, 343, 343, 343, 344, 289, 318, 517, 769, 896, 359, 359, 359, 531, 359, 360, 360, 896, 245, 364, 364, 289, 567, 418, 180, 427, 444, 418, 418, 492, 402, 402, 402, 402, 418, 408, 805, 415, 418, 419, 419, 471, 309, 309, 309, 309, 471, 289, 289, 309, 309, 418, 265, 426, 426, 426, 265, 427, 427, 427, 427, 427, 427, 427, 469, 427, 427, 427, 427, 427, 325, 427, 736, 430, 210, 434, 435, 438, 441, 1035, 444, 444, 391, 446, 94, 418, 111, 228, 182, 473, 90, 475, 475, 591, 591, 418, 418, 418, 690, 479, 427, 967, 69, 694, 486, 704, 245, 462, 489, 491, 491, 491, 706, 82, 491, 418, 403, 492, 492, 291, 499, 528, 650, 506, 318, 510, 418, 516, 265, 418, 517, 521, 521, 418, 765, 530, 530, 530, 492, 298, 541, 541, 291, 291, 291, 545, 27, 418, 418, 418, 418, 418, 730, 111, 874, 561, 491, 565, 427, 764, 775, 666, 301, 265, 245, 265, 578, 579, 896, 704, 896, 896, 584, 789, 289, 590, 590, 591, 325, 325, 591, 97, 97, 595, 595, 595, 427, 418, 437, 746, 190, 704, 704, 607, 608, 321, 610, 418, 418, 289, 742, 289, 289, 638, 418, 418, 528, 318, 624, 655, 655, 655, 637, 210, 640, 546, 546, 646, 646, 646, 646, 646, 318, 245, 663, 754, 651, 652, 652, 636, 636, 636, 652, 180, 386, 386, 265, 662, 662, 662, 491, 665, 437, 670, 620, 706, 681, 343, 470, 182, 265, 182, 924, 552, 384, 698, 211, 265, 309, 245, 289, 289, 896, 364, 896, 190, 265, 896, 531, 437, 707, 707, 265, 210, 711, 211, 645, 469, 638, 245, 565, 510, 210, 79, 318, 896, 309, 210, 289, 289, 745, 746, 746, 746, 405, 746, 749, 753, 753, 794, 96, 180, 876, 704, 375, 166, 723, 774, 775, 301, 775, 775, 775, 775, 775, 775, 344, 359, 265, 377, 300, 591, 368, 798, 695, 418, 804, 418, 589, 805, 189, 808, 809, 746, 809, 809, 809, 809, 810, 666, 575, 810, 246, 265, 816, 824, 289, 418, 826, 228, 828, 508, 418, 830, 194, 418, 418, 265, 831, 418, 840, 427, 840, 245, 265, 826, 794, 847, 847, 808, 847, 151, 49, 785, 785, 853, 853, 853, 364, 864, 111, 864, 289, 289, 662, 662, 260, 73, 868, 866, 127, 245, 37, 877, 805, 901, 772, 888, 289, 892, 893, 301, 896, 896, 896, 564, 896, 328, 96, 753, 813, 418, 812, 466, 925, 994, 919, 919, 418, 418, 418, 418, 265, 933, 704, 418, 937, 937, 937, 937, 418, 418, 418, 418, 418, 949, 949, 949, 949, 949, 949, 949, 949, 949, 949, 949, 949, 949, 949, 949, 949, 949, 949, 949, 949, 949, 949, 949, 949, 949, 949, 949, 949, 949, 949, 949, 949, 949, 949, 949, 949, 949, 949, 949, 949, 949, 949, 949, 949, 949, 949, 949, 949, 949, 949, 949, 949, 949, 949, 949, 949, 949, 949, 949, 949, 949, 949, 949, 949, 949, 949, 949, 949, 949, 949, 949, 949, 949, 949, 265, 418, 418, 950, 950, 950, 950, 952, 952, 955, 418, 418, 983, 983, 966, 995, 995, 418, 1009, 337, 265, 325, 418, 983, 31, 418, 925, 113, 498, 995, 1026, 418, 418, 1028, 1028, 1028, 1029, 1029, 418, 1035]\n",
            "[0, 3, 4, 5, 5, 7, 8, 8, 8, 8, 8, 8, 8, 9, 10, 14, 18, 19, 21, 22, 27, 28, 28, 29, 30, 30, 30, 31, 31, 32, 34, 37, 37, 37, 37, 38, 40, 41, 47, 49, 49, 49, 49, 49, 49, 49, 49, 49, 49, 49, 49, 49, 49, 49, 50, 53, 53, 61, 70, 71, 71, 71, 74, 76, 76, 76, 77, 77, 79, 79, 79, 79, 79, 79, 79, 79, 79, 79, 79, 79, 79, 79, 79, 79, 79, 79, 79, 79, 79, 79, 79, 79, 79, 79, 79, 79, 79, 79, 79, 79, 79, 79, 80, 80, 80, 80, 80, 80, 80, 80, 82, 88, 89, 89, 89, 90, 91, 92, 93, 94, 94, 94, 94, 94, 94, 94, 96, 96, 98, 98, 98, 99, 100, 100, 100, 100, 100, 100, 100, 100, 100, 100, 101, 102, 107, 108, 108, 108, 109, 110, 111, 111, 111, 111, 111, 111, 111, 111, 111, 111, 111, 117, 119, 120, 122, 122, 125, 125, 125, 125, 125, 125, 125, 125, 125, 125, 125, 127, 129, 129, 129, 129, 132, 138, 142, 142, 144, 150, 150, 151, 151, 153, 157, 157, 158, 163, 165, 166, 166, 166, 168, 170, 172, 172, 172, 172, 172, 172, 172, 180, 182, 182, 182, 182, 182, 182, 183, 183, 183, 183, 183, 183, 183, 184, 184, 185, 187, 187, 187, 187, 189, 189, 190, 190, 190, 190, 190, 190, 190, 190, 190, 193, 197, 197, 197, 197, 197, 204, 205, 205, 210, 210, 210, 210, 210, 211, 214, 214, 214, 214, 214, 214, 214, 214, 214, 214, 214, 214, 214, 216, 216, 218, 218, 220, 220, 220, 222, 226, 228, 228, 228, 228, 228, 228, 228, 228, 228, 228, 229, 231, 234, 234, 235, 236, 236, 238, 238, 238, 238, 240, 240, 243, 243, 243, 243, 243, 243, 243, 243, 244, 245, 245, 245, 245, 245, 245, 245, 245, 245, 245, 246, 246, 246, 249, 254, 254, 254, 259, 260, 260, 260, 261, 265, 265, 265, 265, 265, 265, 265, 265, 265, 265, 265, 265, 265, 265, 265, 265, 265, 265, 265, 265, 265, 265, 265, 265, 266, 268, 268, 268, 269, 270, 271, 272, 277, 281, 282, 283, 286, 288, 289, 289, 289, 289, 289, 289, 289, 289, 289, 289, 289, 289, 289, 289, 289, 289, 289, 289, 289, 289, 289, 289, 289, 289, 289, 289, 289, 289, 289, 289, 289, 289, 289, 291, 293, 294, 295, 299, 299, 300, 300, 301, 301, 301, 301, 304, 304, 308, 309, 309, 309, 309, 309, 309, 317, 318, 318, 318, 318, 318, 318, 318, 320, 320, 321, 321, 323, 323, 325, 325, 325, 325, 325, 325, 325, 325, 325, 325, 325, 325, 325, 325, 326, 326, 327, 330, 333, 334, 334, 336, 337, 337, 337, 337, 337, 337, 337, 338, 338, 343, 343, 343, 343, 344, 345, 346, 347, 350, 351, 359, 359, 359, 359, 359, 360, 360, 363, 364, 364, 364, 364, 365, 380, 387, 388, 392, 394, 396, 402, 402, 402, 402, 402, 408, 408, 413, 415, 416, 419, 419, 419, 419, 419, 419, 419, 419, 419, 419, 419, 419, 424, 424, 426, 426, 426, 426, 427, 427, 427, 427, 427, 427, 427, 427, 427, 427, 427, 427, 427, 427, 427, 428, 430, 433, 434, 435, 438, 441, 443, 444, 444, 444, 446, 453, 455, 461, 462, 465, 473, 473, 475, 475, 475, 475, 476, 476, 476, 477, 479, 479, 481, 482, 483, 486, 487, 487, 488, 489, 491, 491, 491, 491, 491, 491, 491, 491, 492, 492, 493, 499, 505, 505, 506, 509, 514, 516, 516, 517, 517, 517, 521, 521, 527, 529, 530, 530, 530, 531, 531, 541, 541, 542, 543, 543, 545, 546, 548, 548, 548, 548, 548, 549, 549, 554, 561, 561, 565, 566, 567, 571, 575, 577, 577, 577, 577, 578, 578, 579, 579, 579, 579, 584, 586, 588, 590, 590, 591, 591, 591, 591, 594, 594, 595, 595, 595, 596, 597, 598, 598, 604, 606, 606, 607, 608, 609, 610, 610, 611, 614, 614, 614, 614, 617, 619, 619, 623, 623, 624, 633, 633, 633, 637, 638, 640, 644, 644, 646, 646, 646, 646, 646, 646, 648, 648, 648, 651, 652, 652, 652, 652, 652, 654, 659, 659, 659, 660, 662, 662, 662, 663, 663, 663, 664, 669, 677, 681, 683, 686, 686, 686, 686, 687, 689, 693, 698, 700, 700, 701, 701, 702, 702, 702, 702, 703, 703, 704, 704, 705, 705, 707, 707, 710, 710, 711, 715, 716, 718, 723, 727, 730, 731, 733, 738, 739, 741, 741, 741, 741, 741, 745, 746, 746, 746, 746, 746, 749, 753, 753, 756, 761, 763, 765, 766, 767, 770, 771, 774, 775, 775, 775, 775, 775, 775, 775, 775, 782, 784, 787, 787, 788, 794, 794, 798, 800, 803, 804, 804, 805, 805, 807, 808, 809, 809, 809, 809, 809, 809, 810, 810, 810, 810, 813, 815, 816, 824, 826, 826, 826, 827, 828, 829, 830, 830, 830, 830, 830, 830, 831, 834, 840, 840, 840, 840, 844, 846, 847, 847, 847, 847, 847, 847, 847, 852, 852, 853, 853, 853, 861, 864, 864, 864, 864, 864, 865, 865, 865, 867, 868, 871, 874, 876, 876, 877, 877, 882, 883, 888, 889, 892, 893, 894, 896, 896, 896, 896, 896, 898, 902, 903, 903, 905, 906, 908, 916, 917, 919, 919, 920, 926, 929, 931, 932, 933, 933, 936, 937, 937, 937, 937, 941, 941, 944, 947, 948, 949, 949, 949, 949, 949, 949, 949, 949, 949, 949, 949, 949, 949, 949, 949, 949, 949, 949, 949, 949, 949, 949, 949, 949, 949, 949, 949, 949, 949, 949, 949, 949, 949, 949, 949, 949, 949, 949, 949, 949, 949, 949, 949, 949, 949, 949, 949, 949, 949, 949, 949, 949, 949, 949, 949, 949, 949, 949, 949, 949, 949, 949, 949, 949, 949, 949, 949, 949, 949, 949, 949, 949, 949, 949, 949, 949, 949, 950, 950, 950, 950, 952, 952, 955, 955, 956, 964, 964, 966, 967, 967, 969, 977, 994, 994, 1000, 1001, 1002, 1011, 1017, 1019, 1020, 1020, 1022, 1026, 1026, 1026, 1028, 1028, 1028, 1029, 1029, 1030, 1035]\n"
          ],
          "name": "stdout"
        }
      ]
    },
    {
      "cell_type": "code",
      "metadata": {
        "id": "XIC4zufnMxtq",
        "colab_type": "code",
        "colab": {
          "base_uri": "https://localhost:8080/",
          "height": 51
        },
        "outputId": "de2d79aa-1d1b-4b3d-e8a4-3b2fb6e84125"
      },
      "source": [
        "correct_num = 0\n",
        "\n",
        "for i in range(0, len(standard_list)):\n",
        "  if predict_list[i] == standard_list[i]:\n",
        "    correct_num = correct_num+1\n",
        "  else:\n",
        "    pass\n",
        "print(correct_num)\n",
        "\n",
        "predict_accuracy = correct_num/len(predict_list)\n",
        "print(predict_accuracy)"
      ],
      "execution_count": 48,
      "outputs": [
        {
          "output_type": "stream",
          "text": [
            "458\n",
            "0.449901768172888\n"
          ],
          "name": "stdout"
        }
      ]
    }
  ]
}