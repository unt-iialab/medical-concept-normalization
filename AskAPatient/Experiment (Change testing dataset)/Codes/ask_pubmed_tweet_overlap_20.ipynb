{
  "nbformat": 4,
  "nbformat_minor": 0,
  "metadata": {
    "colab": {
      "name": "ask_pubmed_tweet_overlap_20.ipynb",
      "provenance": [],
      "collapsed_sections": [],
      "toc_visible": true,
      "include_colab_link": true
    },
    "kernelspec": {
      "name": "python3",
      "display_name": "Python 3"
    },
    "accelerator": "TPU"
  },
  "cells": [
    {
      "cell_type": "markdown",
      "metadata": {
        "id": "view-in-github",
        "colab_type": "text"
      },
      "source": [
        "<a href=\"https://colab.research.google.com/github/unt-iialab/medical-concept-normalization/blob/master/AskAPatient/Experiment%20(Change%20testing%20dataset)/Codes/ask_pubmed_tweet_overlap_20.ipynb\" target=\"_parent\"><img src=\"https://colab.research.google.com/assets/colab-badge.svg\" alt=\"Open In Colab\"/></a>"
      ]
    },
    {
      "cell_type": "code",
      "metadata": {
        "id": "adSi6i2-dWxy",
        "colab_type": "code",
        "colab": {}
      },
      "source": [
        "import os"
      ],
      "execution_count": 0,
      "outputs": []
    },
    {
      "cell_type": "code",
      "metadata": {
        "id": "E7xYCRGPjd9B",
        "colab_type": "code",
        "colab": {}
      },
      "source": [
        "base_dir = 'medical-concept-normalization'"
      ],
      "execution_count": 0,
      "outputs": []
    },
    {
      "cell_type": "code",
      "metadata": {
        "id": "yvIW3aUDjYNS",
        "colab_type": "code",
        "colab": {}
      },
      "source": [
        "if os.path.exists('medical-concept-normalization'):\n",
        "  print('folder exist')\n",
        "else:\n",
        "  os.mkdir(base_dir)"
      ],
      "execution_count": 0,
      "outputs": []
    },
    {
      "cell_type": "code",
      "metadata": {
        "id": "es-FFLlfk6SG",
        "colab_type": "code",
        "colab": {}
      },
      "source": [
        "if os.path.exists('medical-concept-normalization/data_collection'):\n",
        "  print('folder exist')\n",
        "else:\n",
        "  os.mkdir('medical-concept-normalization/data_collection')"
      ],
      "execution_count": 0,
      "outputs": []
    },
    {
      "cell_type": "markdown",
      "metadata": {
        "id": "0R-Guw_VoJXm",
        "colab_type": "text"
      },
      "source": [
        "**Install fastai and clone the fastai for text classification**\n",
        "\n"
      ]
    },
    {
      "cell_type": "code",
      "metadata": {
        "id": "QVZa3Z0PmHFH",
        "colab_type": "code",
        "outputId": "9be89f06-e4ca-400b-8a1b-53ac77c04516",
        "colab": {
          "base_uri": "https://localhost:8080/",
          "height": 68
        }
      },
      "source": [
        "!curl https://course-v3.fast.ai/setup/colab | bash"
      ],
      "execution_count": 5,
      "outputs": [
        {
          "output_type": "stream",
          "text": [
            "  % Total    % Received % Xferd  Average Speed   Time    Time     Time  Current\n",
            "                                 Dload  Upload   Total   Spent    Left  Speed\n",
            "\r  0     0    0     0    0     0      0      0 --:--:-- --:--:-- --:--:--     0curl: (6) Could not resolve host: course-v3.fast.ai\n"
          ],
          "name": "stdout"
        }
      ]
    },
    {
      "cell_type": "code",
      "metadata": {
        "id": "_FBFFEBrmJC0",
        "colab_type": "code",
        "outputId": "b8ec7fcf-fc08-46b9-95cd-696cf22d3f29",
        "colab": {
          "base_uri": "https://localhost:8080/",
          "height": 85
        }
      },
      "source": [
        "!git clone https://github.com/wshuyi/demo-nlp-classification-fastai.git"
      ],
      "execution_count": 6,
      "outputs": [
        {
          "output_type": "stream",
          "text": [
            "Cloning into 'demo-nlp-classification-fastai'...\n",
            "remote: Enumerating objects: 9, done.\u001b[K\n",
            "remote: Total 9 (delta 0), reused 0 (delta 0), pack-reused 9\u001b[K\n",
            "Unpacking objects: 100% (9/9), done.\n"
          ],
          "name": "stdout"
        }
      ]
    },
    {
      "cell_type": "code",
      "metadata": {
        "id": "66zfh_JqmWMU",
        "colab_type": "code",
        "colab": {}
      },
      "source": [
        "from fastai import *\n",
        "from fastai.text import *"
      ],
      "execution_count": 0,
      "outputs": []
    },
    {
      "cell_type": "markdown",
      "metadata": {
        "id": "mNIw-yALdBU9",
        "colab_type": "text"
      },
      "source": [
        "**Set the path of the data collections**"
      ]
    },
    {
      "cell_type": "code",
      "metadata": {
        "id": "pzH7VMh4mqCL",
        "colab_type": "code",
        "colab": {}
      },
      "source": [
        "path = Path('medical-concept-normalization/data_collection')"
      ],
      "execution_count": 0,
      "outputs": []
    },
    {
      "cell_type": "code",
      "metadata": {
        "id": "r8cdqCa-Oeog",
        "colab_type": "code",
        "colab": {}
      },
      "source": [
        "# datasets\n",
        "\n",
        "train_csv = 'https://raw.githubusercontent.com/unt-iialab/medical-concept-normalization/master/AskAPatient/Experiment%20(Change%20testing%20dataset)/Training%20set/AskAPatient.fold-0.train.csv'\n",
        "valid_csv = 'https://raw.githubusercontent.com/unt-iialab/medical-concept-normalization/master/AskAPatient/Experiment%20(Change%20testing%20dataset)/Validation%20set/AskAPatient.fold-0.validation.csv'\n",
        "test_csv = 'https://raw.githubusercontent.com/unt-iialab/medical-concept-normalization/master/AskAPatient/Experiment%20(Change%20testing%20dataset)/Testing%20set/AskAPatient_overlap_20.csv'\n",
        "fine_tuning_data = 'fine_tuning_language_model_pubmed_bigtweet_mixed.csv'"
      ],
      "execution_count": 0,
      "outputs": []
    },
    {
      "cell_type": "code",
      "metadata": {
        "id": "b8fjI6yyn4aS",
        "colab_type": "code",
        "outputId": "60b80602-f4e2-454d-8557-f4b881119b57",
        "colab": {
          "base_uri": "https://localhost:8080/",
          "height": 119
        }
      },
      "source": [
        "# training data set\n",
        "train = pd.read_csv(train_csv, header=None)\n",
        "print(train.head())\n",
        "\n",
        "# validating data set\n",
        "valid = pd.read_csv(valid_csv,header=None)\n",
        "# valid.head()\n",
        "\n",
        "# testing data set\n",
        "test = pd.read_csv(test_csv,header=None)\n",
        "# test.head()"
      ],
      "execution_count": 15,
      "outputs": [
        {
          "output_type": "stream",
          "text": [
            "   0                1\n",
            "0  0             Fear\n",
            "1  0             Fear\n",
            "2  0             Fear\n",
            "3  0  scared to death\n",
            "4  1   Abdominal rash\n"
          ],
          "name": "stdout"
        }
      ]
    },
    {
      "cell_type": "code",
      "metadata": {
        "id": "Vo-YNvVYoaH6",
        "colab_type": "code",
        "outputId": "331013cb-2565-43c0-8cce-2ed1c615cdcf",
        "colab": {
          "base_uri": "https://localhost:8080/",
          "height": 17
        }
      },
      "source": [
        "# Creating DataBunch for language modelling\n",
        "data_lm = TextLMDataBunch.from_csv(path, fine_tuning_data)"
      ],
      "execution_count": 17,
      "outputs": [
        {
          "output_type": "display_data",
          "data": {
            "text/html": [
              ""
            ],
            "text/plain": [
              "<IPython.core.display.HTML object>"
            ]
          },
          "metadata": {
            "tags": []
          }
        },
        {
          "output_type": "display_data",
          "data": {
            "text/html": [
              ""
            ],
            "text/plain": [
              "<IPython.core.display.HTML object>"
            ]
          },
          "metadata": {
            "tags": []
          }
        }
      ]
    },
    {
      "cell_type": "code",
      "metadata": {
        "id": "1ScY9afDsnvE",
        "colab_type": "code",
        "colab": {}
      },
      "source": [
        "# Creating DataBunch for classification\n",
        "\n",
        "# data_clas = TextClasDataBunch.from_df(path, train, valid, test, vocab=data_lm.train_ds.vocab, bs=128)"
      ],
      "execution_count": 0,
      "outputs": []
    },
    {
      "cell_type": "code",
      "metadata": {
        "id": "gzrSdQcvey9p",
        "colab_type": "code",
        "outputId": "6b84c0da-80f2-4072-da86-08aa8684d429",
        "colab": {
          "base_uri": "https://localhost:8080/",
          "height": 17
        }
      },
      "source": [
        "data_clas = TextClasDataBunch.from_df(path, train, valid, vocab=data_lm.train_ds.vocab, bs=128)"
      ],
      "execution_count": 19,
      "outputs": [
        {
          "output_type": "display_data",
          "data": {
            "text/html": [
              ""
            ],
            "text/plain": [
              "<IPython.core.display.HTML object>"
            ]
          },
          "metadata": {
            "tags": []
          }
        },
        {
          "output_type": "display_data",
          "data": {
            "text/html": [
              ""
            ],
            "text/plain": [
              "<IPython.core.display.HTML object>"
            ]
          },
          "metadata": {
            "tags": []
          }
        }
      ]
    },
    {
      "cell_type": "code",
      "metadata": {
        "id": "MD27Tf0Ke3ou",
        "colab_type": "code",
        "outputId": "bfa1d3db-2a8a-4e26-aeac-144376d937c4",
        "colab": {
          "base_uri": "https://localhost:8080/",
          "height": 17
        }
      },
      "source": [
        "data_clas.add_test(test,label=0)"
      ],
      "execution_count": 20,
      "outputs": [
        {
          "output_type": "display_data",
          "data": {
            "text/html": [
              ""
            ],
            "text/plain": [
              "<IPython.core.display.HTML object>"
            ]
          },
          "metadata": {
            "tags": []
          }
        }
      ]
    },
    {
      "cell_type": "code",
      "metadata": {
        "id": "-dpjnk_rstwk",
        "colab_type": "code",
        "colab": {}
      },
      "source": [
        "data_lm.save()\n",
        "data_clas.save()"
      ],
      "execution_count": 0,
      "outputs": []
    },
    {
      "cell_type": "code",
      "metadata": {
        "id": "4OkiJa36sw5s",
        "colab_type": "code",
        "colab": {
          "base_uri": "https://localhost:8080/",
          "height": 1000
        },
        "outputId": "7eae58c1-f3e1-429d-9fa4-c66ea712ed73"
      },
      "source": [
        "data_lm.train_ds.vocab.itos"
      ],
      "execution_count": 22,
      "outputs": [
        {
          "output_type": "execute_result",
          "data": {
            "text/plain": [
              "['xxunk',\n",
              " 'xxpad',\n",
              " 'xxbos',\n",
              " 'xxeos',\n",
              " 'xxfld',\n",
              " 'xxmaj',\n",
              " 'xxup',\n",
              " 'xxrep',\n",
              " 'xxwrep',\n",
              " 'the',\n",
              " 'of',\n",
              " 'and',\n",
              " 'in',\n",
              " 'to',\n",
              " 'a',\n",
              " 'for',\n",
              " 'with',\n",
              " 'diclofenac',\n",
              " 'was',\n",
              " 'were',\n",
              " 'on',\n",
              " 'is',\n",
              " 'rt',\n",
              " 'sodium',\n",
              " 'by',\n",
              " 'that',\n",
              " 'as',\n",
              " 'at',\n",
              " 'patients',\n",
              " 'or',\n",
              " 'this',\n",
              " 'from',\n",
              " 'drug',\n",
              " 'you',\n",
              " 'i',\n",
              " 'be',\n",
              " 'mg',\n",
              " 'disease',\n",
              " 'group',\n",
              " 'study',\n",
              " 'treatment',\n",
              " 'are',\n",
              " 'pain',\n",
              " 'after',\n",
              " 'not',\n",
              " 'amp',\n",
              " 'an',\n",
              " 'it',\n",
              " 'p',\n",
              " 'have',\n",
              " 'release',\n",
              " 'gluten',\n",
              " 'free',\n",
              " 'we',\n",
              " 'than',\n",
              " 'all',\n",
              " 'effect',\n",
              " 'no',\n",
              " 'compared',\n",
              " 'new',\n",
              " 'more',\n",
              " 'using',\n",
              " 'effects',\n",
              " 'groups',\n",
              " 'your',\n",
              " 'our',\n",
              " 'two',\n",
              " 'between',\n",
              " 'its',\n",
              " 'both',\n",
              " 'significantly',\n",
              " 'my',\n",
              " 'h',\n",
              " 'about',\n",
              " 'out',\n",
              " 'these',\n",
              " 'inflammatory',\n",
              " 'time',\n",
              " 'significant',\n",
              " 'but',\n",
              " 'drugs',\n",
              " 'used',\n",
              " 'use',\n",
              " 'which',\n",
              " 'day',\n",
              " 'can',\n",
              " 'voltaren',\n",
              " 'anti',\n",
              " 'dose',\n",
              " 'results',\n",
              " 'has',\n",
              " 'potassium',\n",
              " 's',\n",
              " 'also',\n",
              " 'placebo',\n",
              " 'what',\n",
              " 'glutenfree',\n",
              " 'do',\n",
              " 'may',\n",
              " 'nt',\n",
              " 'one',\n",
              " 'efficacy',\n",
              " 'there',\n",
              " 'm',\n",
              " 'celiac',\n",
              " 'treated',\n",
              " 'ds',\n",
              " 'w',\n",
              " 'days',\n",
              " 'now',\n",
              " 'showed',\n",
              " 'ml',\n",
              " 'when',\n",
              " 'had',\n",
              " 'topical',\n",
              " 'products',\n",
              " 'different',\n",
              " 'oral',\n",
              " 'been',\n",
              " 'administration',\n",
              " 'up',\n",
              " 'rats',\n",
              " 'c',\n",
              " 'concentration',\n",
              " 'how',\n",
              " 'clinical',\n",
              " 'via',\n",
              " 'studies',\n",
              " 'control',\n",
              " 'well',\n",
              " 'food',\n",
              " 'test',\n",
              " 'their',\n",
              " 'if',\n",
              " 'respectively',\n",
              " 'right',\n",
              " 'during',\n",
              " 'into',\n",
              " 'non',\n",
              " 'induced',\n",
              " 'formulations',\n",
              " 'found',\n",
              " 'who',\n",
              " 'method',\n",
              " 'acid',\n",
              " 'other',\n",
              " 'could',\n",
              " 'high',\n",
              " 'rate',\n",
              " 'nsaids',\n",
              " 'post',\n",
              " 'effective',\n",
              " 'over',\n",
              " 'diet',\n",
              " 'did',\n",
              " 'mean',\n",
              " 'hours',\n",
              " 'first',\n",
              " 'plasma',\n",
              " 'observed',\n",
              " 'formulation',\n",
              " 'ph',\n",
              " 'solution',\n",
              " 'tablets',\n",
              " 'g',\n",
              " 'review',\n",
              " 'three',\n",
              " 'blood',\n",
              " 'gel',\n",
              " 'n',\n",
              " 'controlled',\n",
              " 'received',\n",
              " 'd',\n",
              " 'those',\n",
              " 'vitro',\n",
              " 'tip',\n",
              " 'only',\n",
              " 'increased',\n",
              " 'kg',\n",
              " 'analgesic',\n",
              " 'levels',\n",
              " 'data',\n",
              " 'dblclick',\n",
              " 'less',\n",
              " 'so',\n",
              " 'analysis',\n",
              " 'adverse',\n",
              " 'atorvastatin',\n",
              " 'activity',\n",
              " 'each',\n",
              " 'period',\n",
              " 'total',\n",
              " 'single',\n",
              " 'acute',\n",
              " 'randomized',\n",
              " 'pic',\n",
              " 'following',\n",
              " 'concentrations',\n",
              " 'daily',\n",
              " 'most',\n",
              " 'patient',\n",
              " 'week',\n",
              " 'skin',\n",
              " 'evaluated',\n",
              " 'they',\n",
              " 'some',\n",
              " 'however',\n",
              " 'good',\n",
              " 'why',\n",
              " 'will',\n",
              " 'weeks',\n",
              " 'low',\n",
              " 'here',\n",
              " 'before',\n",
              " 'l',\n",
              " 'model',\n",
              " 'obtained',\n",
              " 'lower',\n",
              " 'check',\n",
              " 'difference',\n",
              " 'symptoms',\n",
              " 'increase',\n",
              " 'know',\n",
              " 'healthy',\n",
              " 't',\n",
              " 'based',\n",
              " 'under',\n",
              " 'similar',\n",
              " 'double',\n",
              " 'postoperative',\n",
              " 'relief',\n",
              " 'dissolution',\n",
              " 'surgery',\n",
              " 'love',\n",
              " 'nsaid',\n",
              " 'water',\n",
              " 'therapy',\n",
              " 'renal',\n",
              " 'tablet',\n",
              " 'years',\n",
              " 'higher',\n",
              " 'me',\n",
              " 'combination',\n",
              " 'cells',\n",
              " 'present',\n",
              " 'min',\n",
              " 'trial',\n",
              " 'studied',\n",
              " 'prepared',\n",
              " 'doses',\n",
              " 'just',\n",
              " 'b',\n",
              " 'life',\n",
              " 'should',\n",
              " 'administered',\n",
              " 'get',\n",
              " 'order',\n",
              " 'like',\n",
              " 'application',\n",
              " 'differences',\n",
              " 'conditions',\n",
              " 'reported',\n",
              " 'any',\n",
              " 'while',\n",
              " 'cell',\n",
              " 'associated',\n",
              " 'nonsteroidal',\n",
              " 'vs',\n",
              " 'investigated',\n",
              " 'performed',\n",
              " 'reduced',\n",
              " 'such',\n",
              " 'given',\n",
              " 're',\n",
              " 'response',\n",
              " 'subjects',\n",
              " 'serum',\n",
              " 'v',\n",
              " 'thanks',\n",
              " 'events',\n",
              " 'system',\n",
              " 'absorption',\n",
              " 'four',\n",
              " 'containing',\n",
              " 'values',\n",
              " 'side',\n",
              " 'help',\n",
              " 'gfb',\n",
              " 'great',\n",
              " 'us',\n",
              " 'due',\n",
              " 'blind',\n",
              " 'developed',\n",
              " 'does',\n",
              " 'decreased',\n",
              " 'changes',\n",
              " 'parameters',\n",
              " 'delivery',\n",
              " 'phase',\n",
              " 'better',\n",
              " 'inflammation',\n",
              " 'samples',\n",
              " 'properties',\n",
              " 'people',\n",
              " 'either',\n",
              " 'x',\n",
              " 'measured',\n",
              " 'within',\n",
              " 'cholesterol',\n",
              " 'risk',\n",
              " 'through',\n",
              " 'recipe',\n",
              " 'assessed',\n",
              " 'show',\n",
              " 'need',\n",
              " 'times',\n",
              " 'indomethacin',\n",
              " 'mm',\n",
              " '30',\n",
              " 'make',\n",
              " 'safety',\n",
              " 'number',\n",
              " 'posted',\n",
              " 'type',\n",
              " 'reduction',\n",
              " 'heres',\n",
              " 'without',\n",
              " 'primary',\n",
              " 'potential',\n",
              " 'oa',\n",
              " 'statistically',\n",
              " 'vivo',\n",
              " 'being',\n",
              " 'included',\n",
              " 'liquid',\n",
              " 'living',\n",
              " 'compare',\n",
              " 'applied',\n",
              " 'e',\n",
              " 'lipitor',\n",
              " 'year',\n",
              " 'gastrointestinal',\n",
              " 'auc',\n",
              " 'ca',\n",
              " 'function',\n",
              " 'scale',\n",
              " 'therapeutic',\n",
              " 'size',\n",
              " 'steroidal',\n",
              " 'jennieo',\n",
              " 'related',\n",
              " 'k',\n",
              " 'best',\n",
              " 'ratio',\n",
              " 'injection',\n",
              " 'many',\n",
              " 'intolerance',\n",
              " 'human',\n",
              " 'osteoarthritis',\n",
              " 'level',\n",
              " 'range',\n",
              " 'very',\n",
              " 'determined',\n",
              " 'evaluate',\n",
              " 'form',\n",
              " 'tissue',\n",
              " 'active',\n",
              " 'cox',\n",
              " 'greater',\n",
              " 'health',\n",
              " 'ng',\n",
              " 'sustained',\n",
              " 'tips',\n",
              " 'read',\n",
              " 'baseline',\n",
              " 'then',\n",
              " '\\r \\n ',\n",
              " 'scores',\n",
              " 'dependent',\n",
              " 'process',\n",
              " 'archives',\n",
              " 'normal',\n",
              " 'development',\n",
              " 'sensitivity',\n",
              " 'bioavailability',\n",
              " 'visual',\n",
              " 'tested',\n",
              " 'months',\n",
              " 'addition',\n",
              " 'medication',\n",
              " 'knee',\n",
              " 'end',\n",
              " 'area',\n",
              " 'minutes',\n",
              " 'news',\n",
              " 'matrix',\n",
              " 'change',\n",
              " 'polymer',\n",
              " 'eat',\n",
              " 'aim',\n",
              " 'available',\n",
              " 'because',\n",
              " 'chronic',\n",
              " 'tolerability',\n",
              " 'arthritis',\n",
              " 'swelling',\n",
              " 'demonstrated',\n",
              " 'score',\n",
              " 'revealed',\n",
              " 'today',\n",
              " 'going',\n",
              " 'dosage',\n",
              " 'safe',\n",
              " 'coated',\n",
              " 'gastric',\n",
              " 'ii',\n",
              " 'severe',\n",
              " 'weight',\n",
              " 'mice',\n",
              " 'migraine',\n",
              " 'made',\n",
              " 'per',\n",
              " 'inhibition',\n",
              " 'intensity',\n",
              " 'treatments',\n",
              " 'improvement',\n",
              " 'chicken',\n",
              " 'aqueous',\n",
              " 'indicated',\n",
              " 'volunteers',\n",
              " 'various',\n",
              " 'article',\n",
              " 'trials',\n",
              " 'important',\n",
              " 'tolerated',\n",
              " 'shown',\n",
              " 'agent',\n",
              " 'mechanism',\n",
              " 'alone',\n",
              " 'long',\n",
              " 'diagnosis',\n",
              " 'na',\n",
              " 'suggest',\n",
              " 'presence',\n",
              " 'action',\n",
              " 'follow',\n",
              " 'local',\n",
              " 'part',\n",
              " 'animals',\n",
              " 'f',\n",
              " 'whereas',\n",
              " 'think',\n",
              " 'further',\n",
              " 'permeation',\n",
              " 'inhibitor',\n",
              " 'old',\n",
              " 'hour',\n",
              " 'ibuprofen',\n",
              " 'same',\n",
              " 'case',\n",
              " 'go',\n",
              " 'randomly',\n",
              " '2',\n",
              " '1',\n",
              " 'big',\n",
              " 'moderate',\n",
              " 'standard',\n",
              " 'followed',\n",
              " 'although',\n",
              " 'determine',\n",
              " 'multiple',\n",
              " 'eating',\n",
              " 'cases',\n",
              " 'pizza',\n",
              " 'peak',\n",
              " 'care',\n",
              " 'formation',\n",
              " 'provide',\n",
              " 'relative',\n",
              " 'way',\n",
              " 'versus',\n",
              " 'product',\n",
              " 'diagnosed',\n",
              " 'decrease',\n",
              " 'content',\n",
              " 'improved',\n",
              " 'take',\n",
              " 'among',\n",
              " 'cd',\n",
              " 'much',\n",
              " 'caused',\n",
              " 'male',\n",
              " 'six',\n",
              " 'reaction',\n",
              " 'exposure',\n",
              " 'protein',\n",
              " 'participants',\n",
              " 'rat',\n",
              " 'pressure',\n",
              " 'least',\n",
              " 'profile',\n",
              " 'month',\n",
              " 'conducted',\n",
              " 'eye',\n",
              " 'please',\n",
              " 'age',\n",
              " 'damage',\n",
              " 'corneal',\n",
              " 'awareness',\n",
              " 'experimental',\n",
              " 'including',\n",
              " 'vehicle',\n",
              " '\\r \\n \\r \\n ',\n",
              " 'research',\n",
              " 'evaluation',\n",
              " 'would',\n",
              " 'growth',\n",
              " 'cm',\n",
              " 'divided',\n",
              " 'pharmaceutical',\n",
              " 'share',\n",
              " 'blog',\n",
              " 'u',\n",
              " 'pharmacokinetic',\n",
              " 'vas',\n",
              " 'pre',\n",
              " 'surface',\n",
              " 'see',\n",
              " 'common',\n",
              " 'lesions',\n",
              " 'th',\n",
              " 'find',\n",
              " 'microspheres',\n",
              " 'five',\n",
              " 'according',\n",
              " 'misoprostol',\n",
              " 'want',\n",
              " 'o',\n",
              " 'sensitive',\n",
              " 'analgesia',\n",
              " 'r',\n",
              " 'plus',\n",
              " 'evidence',\n",
              " 'cmax',\n",
              " 'onset',\n",
              " 'achieved',\n",
              " 'de',\n",
              " 'cross',\n",
              " 'agents',\n",
              " 'amount',\n",
              " 'secondary',\n",
              " 'where',\n",
              " 'combined',\n",
              " 'systemic',\n",
              " 'resulted',\n",
              " 'complete',\n",
              " 'urine',\n",
              " 'global',\n",
              " 'overall',\n",
              " 'rofecoxib',\n",
              " 'preparation',\n",
              " 'extent',\n",
              " 'ever',\n",
              " 'soup',\n",
              " 'temperature',\n",
              " 'synthesis',\n",
              " 'aspirin',\n",
              " 'body',\n",
              " 'ci',\n",
              " 'happy',\n",
              " 'muscle',\n",
              " 'edema',\n",
              " 'beads',\n",
              " 'detection',\n",
              " '5',\n",
              " 'examined',\n",
              " 'profiles',\n",
              " 'specific',\n",
              " 'might',\n",
              " 'dr',\n",
              " 'third',\n",
              " 'carried',\n",
              " 'produced',\n",
              " 'even',\n",
              " 'considered',\n",
              " 'duration',\n",
              " 'investigate',\n",
              " 'second',\n",
              " 'reference',\n",
              " 'microg',\n",
              " 'commercial',\n",
              " 'linked',\n",
              " 'quality',\n",
              " 'rapid',\n",
              " '4',\n",
              " 'still',\n",
              " 'comparison',\n",
              " 'bone',\n",
              " 'technique',\n",
              " 'enteric',\n",
              " 'recorded',\n",
              " 'models',\n",
              " 'super',\n",
              " 'production',\n",
              " 'membrane',\n",
              " 'inhibited',\n",
              " 'patch',\n",
              " 'methods',\n",
              " 'assessment',\n",
              " 'thus',\n",
              " 'possible',\n",
              " 'comparable',\n",
              " 'cookbook',\n",
              " 'efficiency',\n",
              " 'medium',\n",
              " 'state',\n",
              " 'interaction',\n",
              " 'maximum',\n",
              " 'intestinal',\n",
              " 'joint',\n",
              " 'medical',\n",
              " 'term',\n",
              " 'characterized',\n",
              " 'women',\n",
              " 'design',\n",
              " 'determination',\n",
              " 'volume',\n",
              " 'solid',\n",
              " 'increasing',\n",
              " 'superior',\n",
              " 'expression',\n",
              " 'them',\n",
              " 'degrees',\n",
              " 'prostaglandin',\n",
              " 'cause',\n",
              " 'hplc',\n",
              " 'got',\n",
              " 'easy',\n",
              " 'liver',\n",
              " 'against',\n",
              " 'early',\n",
              " 'naproxen',\n",
              " 'indicate',\n",
              " 'influence',\n",
              " 'diffusion',\n",
              " 'novel',\n",
              " 'work',\n",
              " 'current',\n",
              " 'eyes',\n",
              " 'co',\n",
              " 'site',\n",
              " 'gf',\n",
              " 'once',\n",
              " 'saline',\n",
              " 'simple',\n",
              " 'physical',\n",
              " 'antiinflammatory',\n",
              " 'rheumatoid',\n",
              " 'wheat',\n",
              " 'looking',\n",
              " 'small',\n",
              " 'pellets',\n",
              " 'released',\n",
              " 'incidence',\n",
              " 'friends',\n",
              " 'receiving',\n",
              " 'try',\n",
              " 'alpha',\n",
              " 'tissues',\n",
              " 'brain',\n",
              " 'complex',\n",
              " 'assess',\n",
              " 'medications',\n",
              " 'needed',\n",
              " 'rates',\n",
              " 'solutions',\n",
              " 'story',\n",
              " 'dic',\n",
              " 'clearance',\n",
              " 'value',\n",
              " 'phosphate',\n",
              " 'provided',\n",
              " 'ocular',\n",
              " 'tests',\n",
              " 'alternative',\n",
              " 'intramuscular',\n",
              " 'children',\n",
              " 'mild',\n",
              " 'therefore',\n",
              " 'solubility',\n",
              " 'since',\n",
              " 'delicious',\n",
              " 'affect',\n",
              " 'foods',\n",
              " 'autographed',\n",
              " 'performance',\n",
              " 'loaded',\n",
              " 'nm',\n",
              " 'clinically',\n",
              " 'inhibitors',\n",
              " 'index',\n",
              " 'cataract',\n",
              " 'outcome',\n",
              " 'every',\n",
              " 'cream',\n",
              " 'top',\n",
              " 'flow',\n",
              " 'findings',\n",
              " 'paracetamol',\n",
              " 'characteristics',\n",
              " 'beta',\n",
              " 'back',\n",
              " 'giveaway',\n",
              " 'too',\n",
              " 'vascular',\n",
              " 'others',\n",
              " 'initial',\n",
              " 'open',\n",
              " 'responses',\n",
              " 'treat',\n",
              " 'lipid',\n",
              " 'max',\n",
              " 'transdermal',\n",
              " 'calcium',\n",
              " 'fluid',\n",
              " 'additional',\n",
              " 'forms',\n",
              " 'point',\n",
              " 'preparations',\n",
              " 'extraction',\n",
              " 'chitosan',\n",
              " 'capsules',\n",
              " 'buffer',\n",
              " 'kinetics',\n",
              " 'drops',\n",
              " 'twice',\n",
              " '2014',\n",
              " 'percentage',\n",
              " 'factor',\n",
              " 'analyzed',\n",
              " 'degree',\n",
              " 'start',\n",
              " 'last',\n",
              " 've',\n",
              " 'taking',\n",
              " 'experience',\n",
              " 'modified',\n",
              " 'cambia',\n",
              " 'several',\n",
              " 'pge',\n",
              " 'known',\n",
              " 'thank',\n",
              " 'learn',\n",
              " 'ketorolac',\n",
              " 'activities',\n",
              " 'terms',\n",
              " 'oil',\n",
              " 'special',\n",
              " 'enhanced',\n",
              " 'syndrome',\n",
              " 'eudragit',\n",
              " 'crossover',\n",
              " 'later',\n",
              " 'positive',\n",
              " 'affected',\n",
              " 'density',\n",
              " 'major',\n",
              " 'experiments',\n",
              " 'bowl',\n",
              " 'chocolate',\n",
              " 'ldl',\n",
              " 'hpmc',\n",
              " 'across',\n",
              " 'support',\n",
              " 'sr',\n",
              " 'exhibited',\n",
              " 'salt',\n",
              " 'cardiovascular',\n",
              " 'collected',\n",
              " 'market',\n",
              " 'objective',\n",
              " 'required',\n",
              " 'whether',\n",
              " 'issues',\n",
              " 'information',\n",
              " 'scanning',\n",
              " 'ability',\n",
              " 'flare',\n",
              " 'gi',\n",
              " 'celecoxib',\n",
              " 'peg',\n",
              " 'having',\n",
              " 'factors',\n",
              " 'another',\n",
              " 'acetaminophen',\n",
              " 'morning',\n",
              " 'serious',\n",
              " 'cyclooxygenase',\n",
              " 'child',\n",
              " 'hp',\n",
              " 'occurred',\n",
              " 'sd',\n",
              " 'systems',\n",
              " 'interesting',\n",
              " 'especially',\n",
              " 'few',\n",
              " 'book',\n",
              " 'faster',\n",
              " 'laser',\n",
              " 'dfs',\n",
              " 'procedure',\n",
              " 'criteria',\n",
              " 'dcf',\n",
              " 'il',\n",
              " 'penetration',\n",
              " 'america',\n",
              " 'ophthalmic',\n",
              " 'bread',\n",
              " 'able',\n",
              " 'testing',\n",
              " 'capsule',\n",
              " 'average',\n",
              " 'ak',\n",
              " 'options',\n",
              " 'dpsgc',\n",
              " 'aged',\n",
              " 'receive',\n",
              " 'operative',\n",
              " 'drop',\n",
              " 'recipes',\n",
              " 'direct',\n",
              " 'analogue',\n",
              " 'seven',\n",
              " 'management',\n",
              " 'assay',\n",
              " 'hospital',\n",
              " 'randomised',\n",
              " 'stability',\n",
              " 'he',\n",
              " 'reducing',\n",
              " 'rabbits',\n",
              " 'binding',\n",
              " 'prolonged',\n",
              " 'event',\n",
              " 'list',\n",
              " 'microscopy',\n",
              " 'particle',\n",
              " 'seen',\n",
              " 'really',\n",
              " 'metabolism',\n",
              " 'microm',\n",
              " 'limit',\n",
              " 'role',\n",
              " 'injury',\n",
              " 'effectiveness',\n",
              " 'widely',\n",
              " 'reduce',\n",
              " 'yes',\n",
              " 'suggested',\n",
              " 'rescue',\n",
              " 'tmax',\n",
              " 'death',\n",
              " 'variables',\n",
              " '10',\n",
              " 'percent',\n",
              " 'established',\n",
              " 'allergy',\n",
              " 'quinoa',\n",
              " 'detected',\n",
              " 'excretion',\n",
              " 'prior',\n",
              " 'breakfast',\n",
              " 'info',\n",
              " 'approximately',\n",
              " 'useful',\n",
              " 'hr',\n",
              " 'ask',\n",
              " 'community',\n",
              " 'intravenous',\n",
              " 'feel',\n",
              " 'coeliac',\n",
              " 'relaxation',\n",
              " 'kids',\n",
              " 'eight',\n",
              " 'confirmed',\n",
              " 'designed',\n",
              " 'alginate',\n",
              " 'structure',\n",
              " 'report',\n",
              " 'chloride',\n",
              " 'always',\n",
              " 'whole',\n",
              " 'electron',\n",
              " 'arthrotec',\n",
              " 'dexamethasone',\n",
              " 'involved',\n",
              " 'proposed',\n",
              " 'assigned',\n",
              " 'creatinine',\n",
              " 'orally',\n",
              " 'selective',\n",
              " 'loading',\n",
              " 'distribution',\n",
              " 'develop',\n",
              " 'interview',\n",
              " 'severity',\n",
              " 'getting',\n",
              " 'laboratory',\n",
              " 'next',\n",
              " 'page',\n",
              " 'hand',\n",
              " 'reasons',\n",
              " 'series',\n",
              " 'cs',\n",
              " 'improve',\n",
              " 'diseases',\n",
              " 'central',\n",
              " 'hip',\n",
              " 'highly',\n",
              " 'his',\n",
              " 'df',\n",
              " 'coating',\n",
              " 'selected',\n",
              " 'short',\n",
              " 'female',\n",
              " 'toxicity',\n",
              " 'diagnose',\n",
              " 'zero',\n",
              " 'likely',\n",
              " 'injected',\n",
              " 'kidney',\n",
              " 'sunday',\n",
              " 'twenty',\n",
              " 'condition',\n",
              " 'stem',\n",
              " 'chromatography',\n",
              " 'again',\n",
              " 'analgesics',\n",
              " 'fast',\n",
              " 'chemical',\n",
              " 'target',\n",
              " 'large',\n",
              " 'own',\n",
              " 'pharmacokinetics',\n",
              " 'world',\n",
              " 'aes',\n",
              " 'recommended',\n",
              " 'fed',\n",
              " 'slow',\n",
              " 'down',\n",
              " 'validated',\n",
              " 'behavior',\n",
              " 'independent',\n",
              " 'curve',\n",
              " 'molecular',\n",
              " 'result',\n",
              " 'signs',\n",
              " 'molar',\n",
              " 'sample',\n",
              " 'plant',\n",
              " 'things',\n",
              " 'individual',\n",
              " 'measurements',\n",
              " 'population',\n",
              " 'mt',\n",
              " 'convention',\n",
              " 'adult',\n",
              " 'headache',\n",
              " 'equivalent',\n",
              " 'compounds',\n",
              " 'statin',\n",
              " 'bakery',\n",
              " 'avoid',\n",
              " 'full',\n",
              " 'generic',\n",
              " 'her',\n",
              " 'hear',\n",
              " 'must',\n",
              " 'live',\n",
              " 'regarding',\n",
              " 'link',\n",
              " 'media',\n",
              " 'valentines',\n",
              " 'hey',\n",
              " 'dosing',\n",
              " 'prospective',\n",
              " 'parallel',\n",
              " 'experienced',\n",
              " 'generally',\n",
              " 'breaking',\n",
              " 'friendly',\n",
              " 'channel',\n",
              " 'differential',\n",
              " 'cookies',\n",
              " 'relationship',\n",
              " 'join',\n",
              " 'piroxicam',\n",
              " 'analog',\n",
              " 'mechanisms',\n",
              " 'channels',\n",
              " ...]"
            ]
          },
          "metadata": {
            "tags": []
          },
          "execution_count": 22
        }
      ]
    },
    {
      "cell_type": "code",
      "metadata": {
        "id": "yPWr03mls3VT",
        "colab_type": "code",
        "outputId": "40b42ffc-0d21-4cff-c08f-4e50961a0c12",
        "colab": {
          "base_uri": "https://localhost:8080/",
          "height": 17
        }
      },
      "source": [
        "model_path = path/'models'\n",
        "model_path.mkdir(exist_ok=True)\n",
        "url = 'http://files.fast.ai/models/wt103_v1/'\n",
        "download_url(f'{url}lstm_wt103.pth', model_path/'lstm_wt103.pth')\n",
        "download_url(f'{url}itos_wt103.pkl', model_path/'itos_wt103.pkl')"
      ],
      "execution_count": 23,
      "outputs": [
        {
          "output_type": "display_data",
          "data": {
            "text/html": [
              ""
            ],
            "text/plain": [
              "<IPython.core.display.HTML object>"
            ]
          },
          "metadata": {
            "tags": []
          }
        },
        {
          "output_type": "display_data",
          "data": {
            "text/html": [
              ""
            ],
            "text/plain": [
              "<IPython.core.display.HTML object>"
            ]
          },
          "metadata": {
            "tags": []
          }
        }
      ]
    },
    {
      "cell_type": "code",
      "metadata": {
        "id": "JRzvWg8RtGGr",
        "colab_type": "code",
        "outputId": "9bcd3e4e-ab14-4abd-d44f-028a0aed760f",
        "colab": {
          "base_uri": "https://localhost:8080/",
          "height": 34
        }
      },
      "source": [
        "learn = language_model_learner(data_lm, AWD_LSTM, drop_mult=0.5)"
      ],
      "execution_count": 24,
      "outputs": [
        {
          "output_type": "stream",
          "text": [
            "Downloading https://s3.amazonaws.com/fast-ai-modelzoo/wt103-fwd\n"
          ],
          "name": "stdout"
        },
        {
          "output_type": "display_data",
          "data": {
            "text/html": [
              ""
            ],
            "text/plain": [
              "<IPython.core.display.HTML object>"
            ]
          },
          "metadata": {
            "tags": []
          }
        }
      ]
    },
    {
      "cell_type": "code",
      "metadata": {
        "id": "xKK7GeBev7Xn",
        "colab_type": "code",
        "outputId": "2ee569ec-3a64-4a41-b09a-2f9640fa00a7",
        "colab": {
          "base_uri": "https://localhost:8080/",
          "height": 95
        }
      },
      "source": [
        "learn.fit_one_cycle(1, 1e-2)"
      ],
      "execution_count": 0,
      "outputs": [
        {
          "output_type": "display_data",
          "data": {
            "text/html": [
              "\n",
              "    <div>\n",
              "        <style>\n",
              "            /* Turns off some styling */\n",
              "            progress {\n",
              "                /* gets rid of default border in Firefox and Opera. */\n",
              "                border: none;\n",
              "                /* Needs to be in here for Safari polyfill so background images work as expected. */\n",
              "                background-size: auto;\n",
              "            }\n",
              "            .progress-bar-interrupted, .progress-bar-interrupted::-webkit-progress-bar {\n",
              "                background: #F44336;\n",
              "            }\n",
              "        </style>\n",
              "      <progress value='0' class='' max='1', style='width:300px; height:20px; vertical-align: middle;'></progress>\n",
              "      0.00% [0/1 00:00<00:00]\n",
              "    </div>\n",
              "    \n",
              "<table border=\"1\" class=\"dataframe\">\n",
              "  <thead>\n",
              "    <tr style=\"text-align: left;\">\n",
              "      <th>epoch</th>\n",
              "      <th>train_loss</th>\n",
              "      <th>valid_loss</th>\n",
              "      <th>accuracy</th>\n",
              "      <th>time</th>\n",
              "    </tr>\n",
              "  </thead>\n",
              "  <tbody>\n",
              "  </tbody>\n",
              "</table><p>\n",
              "\n",
              "    <div>\n",
              "        <style>\n",
              "            /* Turns off some styling */\n",
              "            progress {\n",
              "                /* gets rid of default border in Firefox and Opera. */\n",
              "                border: none;\n",
              "                /* Needs to be in here for Safari polyfill so background images work as expected. */\n",
              "                background-size: auto;\n",
              "            }\n",
              "            .progress-bar-interrupted, .progress-bar-interrupted::-webkit-progress-bar {\n",
              "                background: #F44336;\n",
              "            }\n",
              "        </style>\n",
              "      <progress value='7' class='' max='94', style='width:300px; height:20px; vertical-align: middle;'></progress>\n",
              "      7.45% [7/94 01:30<18:46 6.8534]\n",
              "    </div>\n",
              "    "
            ],
            "text/plain": [
              "<IPython.core.display.HTML object>"
            ]
          },
          "metadata": {
            "tags": []
          }
        }
      ]
    },
    {
      "cell_type": "code",
      "metadata": {
        "id": "iB7rHGQCwd12",
        "colab_type": "code",
        "colab": {}
      },
      "source": [
        "learn.fit_one_cycle(1, 1e-2)"
      ],
      "execution_count": 0,
      "outputs": []
    },
    {
      "cell_type": "code",
      "metadata": {
        "id": "_BnSuAeCwkBe",
        "colab_type": "code",
        "colab": {}
      },
      "source": [
        "learn.fit_one_cycle(1, 1e-3)"
      ],
      "execution_count": 0,
      "outputs": []
    },
    {
      "cell_type": "code",
      "metadata": {
        "id": "MuTm-RFjwrEX",
        "colab_type": "code",
        "colab": {}
      },
      "source": [
        "learn.fit_one_cycle(1, 1e-3)"
      ],
      "execution_count": 0,
      "outputs": []
    },
    {
      "cell_type": "code",
      "metadata": {
        "id": "1Er2ExO8wr7Y",
        "colab_type": "code",
        "colab": {}
      },
      "source": [
        "learn.save_encoder('tuning_pubmed_bigtweet_overlap_0_first')"
      ],
      "execution_count": 0,
      "outputs": []
    },
    {
      "cell_type": "code",
      "metadata": {
        "id": "z52cZs2qwvad",
        "colab_type": "code",
        "colab": {}
      },
      "source": [
        "learn = text_classifier_learner(data_clas,AWD_LSTM, drop_mult=0.5)\n",
        "learn.load_encoder('tuning_pubmed_bigtweet_overlap_0_first')\n",
        "learn.fit_one_cycle(1, 1e-2)"
      ],
      "execution_count": 0,
      "outputs": []
    },
    {
      "cell_type": "code",
      "metadata": {
        "id": "ImwQP1PJwzxd",
        "colab_type": "code",
        "colab": {}
      },
      "source": [
        "learn.freeze_to(-2)\n",
        "learn.fit_one_cycle(1, slice(5e-3/2., 5e-3))"
      ],
      "execution_count": 0,
      "outputs": []
    },
    {
      "cell_type": "code",
      "metadata": {
        "id": "Owff_BJXw53u",
        "colab_type": "code",
        "colab": {}
      },
      "source": [
        "learn.unfreeze()\n",
        "learn.fit_one_cycle(1, slice(2e-3/100, 2e-3))"
      ],
      "execution_count": 0,
      "outputs": []
    },
    {
      "cell_type": "code",
      "metadata": {
        "id": "lqAyu56V8Waq",
        "colab_type": "code",
        "colab": {}
      },
      "source": [
        "learn.fit_one_cycle(2, slice(2e-3/100, 2e-3))"
      ],
      "execution_count": 0,
      "outputs": []
    },
    {
      "cell_type": "code",
      "metadata": {
        "id": "a7I1xMRp8bUd",
        "colab_type": "code",
        "colab": {}
      },
      "source": [
        "learn.fit_one_cycle(2, slice(2e-3/100, 2e-3))"
      ],
      "execution_count": 0,
      "outputs": []
    },
    {
      "cell_type": "code",
      "metadata": {
        "id": "UAnti-XmGVfO",
        "colab_type": "code",
        "colab": {}
      },
      "source": [
        "learn.fit_one_cycle(2, slice(2e-3/100, 2e-3))"
      ],
      "execution_count": 0,
      "outputs": []
    },
    {
      "cell_type": "code",
      "metadata": {
        "id": "bIft7W25GwSu",
        "colab_type": "code",
        "colab": {}
      },
      "source": [
        "learn.fit_one_cycle(2, slice(2e-3/100, 2e-3))"
      ],
      "execution_count": 0,
      "outputs": []
    },
    {
      "cell_type": "code",
      "metadata": {
        "id": "EEHszVRvGyFt",
        "colab_type": "code",
        "colab": {}
      },
      "source": [
        "learn.fit_one_cycle(2, slice(2e-3/100, 2e-3))"
      ],
      "execution_count": 0,
      "outputs": []
    },
    {
      "cell_type": "code",
      "metadata": {
        "id": "XsHfrhCHG3dN",
        "colab_type": "code",
        "colab": {}
      },
      "source": [
        "learn.fit_one_cycle(4, slice(2e-3/100, 2e-3))"
      ],
      "execution_count": 0,
      "outputs": []
    },
    {
      "cell_type": "code",
      "metadata": {
        "id": "0Zsd99isb9EQ",
        "colab_type": "code",
        "colab": {}
      },
      "source": [
        "learn.fit_one_cycle(4, slice(2e-3/100, 2e-3))"
      ],
      "execution_count": 0,
      "outputs": []
    },
    {
      "cell_type": "code",
      "metadata": {
        "id": "atNWNKDFPbuI",
        "colab_type": "code",
        "colab": {}
      },
      "source": [
        "learn.fit_one_cycle(4, slice(2e-3/100, 2e-3))"
      ],
      "execution_count": 0,
      "outputs": []
    },
    {
      "cell_type": "code",
      "metadata": {
        "id": "rKrBTZ0T1uVA",
        "colab_type": "code",
        "colab": {}
      },
      "source": [
        "learn.fit_one_cycle(4, slice(2e-3/100, 2e-3))"
      ],
      "execution_count": 0,
      "outputs": []
    },
    {
      "cell_type": "code",
      "metadata": {
        "id": "ajQC6WDg1yA9",
        "colab_type": "code",
        "colab": {}
      },
      "source": [
        "learn.fit_one_cycle(4, slice(2e-3/100, 2e-3))"
      ],
      "execution_count": 0,
      "outputs": []
    },
    {
      "cell_type": "code",
      "metadata": {
        "id": "KKydb0B4BKGk",
        "colab_type": "code",
        "colab": {}
      },
      "source": [
        "learn.fit_one_cycle(4, slice(2e-3/100, 2e-3))"
      ],
      "execution_count": 0,
      "outputs": []
    },
    {
      "cell_type": "code",
      "metadata": {
        "id": "T2APKtFKBpGY",
        "colab_type": "code",
        "colab": {}
      },
      "source": [
        "learn.fit_one_cycle(4, slice(2e-3/100, 2e-3))"
      ],
      "execution_count": 0,
      "outputs": []
    },
    {
      "cell_type": "code",
      "metadata": {
        "id": "qtTypA1sPgLU",
        "colab_type": "code",
        "colab": {}
      },
      "source": [
        "learn.fit_one_cycle(2, slice(2e-3/100, 2e-3))"
      ],
      "execution_count": 0,
      "outputs": []
    },
    {
      "cell_type": "code",
      "metadata": {
        "id": "b242kBsTUp9Y",
        "colab_type": "code",
        "colab": {}
      },
      "source": [
        "learn.fit_one_cycle(2, slice(2e-3/100, 2e-3))"
      ],
      "execution_count": 0,
      "outputs": []
    },
    {
      "cell_type": "code",
      "metadata": {
        "id": "Duwf1Ih5VeDZ",
        "colab_type": "code",
        "colab": {}
      },
      "source": [
        "learn.fit_one_cycle(1, slice(2e-3/100, 2e-3))"
      ],
      "execution_count": 0,
      "outputs": []
    },
    {
      "cell_type": "code",
      "metadata": {
        "id": "c65d-osfDUXm",
        "colab_type": "code",
        "colab": {}
      },
      "source": [
        "# save the best model\n",
        "\n",
        "learn.save_encoder('tuning_pubmed_bigtweet_overlap_0_last')"
      ],
      "execution_count": 0,
      "outputs": []
    },
    {
      "cell_type": "markdown",
      "metadata": {
        "id": "rCwZU0E2RgM6",
        "colab_type": "text"
      },
      "source": [
        "# Part three: Predict on the test dataset"
      ]
    },
    {
      "cell_type": "code",
      "metadata": {
        "id": "gDm72c-dOu7d",
        "colab_type": "code",
        "colab": {}
      },
      "source": [
        "# use the test data for prediction\n",
        "\n",
        "preds, y = learn.get_preds(DatasetType.Test)"
      ],
      "execution_count": 0,
      "outputs": []
    },
    {
      "cell_type": "code",
      "metadata": {
        "id": "6tFSQcsWPvxn",
        "colab_type": "code",
        "colab": {}
      },
      "source": [
        "predictions, *_ = learn.get_preds(DatasetType.Test)\n",
        "labels = np.argmax(predictions, 1)\n",
        "predict_list = labels.tolist()\n",
        "standard_list = test[0].tolist()\n",
        "\n",
        "print(len(predict_list))\n",
        "print(len(standard_list))\n",
        "\n",
        "print(predict_list)\n",
        "print(standard_list)"
      ],
      "execution_count": 0,
      "outputs": []
    },
    {
      "cell_type": "code",
      "metadata": {
        "id": "XIC4zufnMxtq",
        "colab_type": "code",
        "colab": {}
      },
      "source": [
        "correct_num = 0\n",
        "\n",
        "for i in range(0, len(standard_list)):\n",
        "  if predict_list[i] == standard_list[i]:\n",
        "    correct_num = correct_num+1\n",
        "  else:\n",
        "    pass\n",
        "print(correct_num)\n",
        "\n",
        "predict_accuracy = correct_num/len(predict_list)\n",
        "print(predict_accuracy)"
      ],
      "execution_count": 0,
      "outputs": []
    }
  ]
}