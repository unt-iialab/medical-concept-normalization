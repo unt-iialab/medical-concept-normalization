{
  "nbformat": 4,
  "nbformat_minor": 0,
  "metadata": {
    "colab": {
      "name": "ask_pubmed_tweet_overlap_20.ipynb",
      "provenance": [],
      "collapsed_sections": [],
      "toc_visible": true,
      "include_colab_link": true
    },
    "kernelspec": {
      "name": "python3",
      "display_name": "Python 3"
    },
    "accelerator": "TPU"
  },
  "cells": [
    {
      "cell_type": "markdown",
      "metadata": {
        "id": "view-in-github",
        "colab_type": "text"
      },
      "source": [
        "<a href=\"https://colab.research.google.com/github/unt-iialab/medical-concept-normalization/blob/master/AskAPatient/Experiment%20(Change%20testing%20dataset)/Codes/ask_pubmed_tweet_overlap_20.ipynb\" target=\"_parent\"><img src=\"https://colab.research.google.com/assets/colab-badge.svg\" alt=\"Open In Colab\"/></a>"
      ]
    },
    {
      "cell_type": "code",
      "metadata": {
        "id": "adSi6i2-dWxy",
        "colab_type": "code",
        "colab": {}
      },
      "source": [
        "import os"
      ],
      "execution_count": 0,
      "outputs": []
    },
    {
      "cell_type": "code",
      "metadata": {
        "id": "E7xYCRGPjd9B",
        "colab_type": "code",
        "colab": {}
      },
      "source": [
        "base_dir = 'medical-concept-normalization'"
      ],
      "execution_count": 0,
      "outputs": []
    },
    {
      "cell_type": "code",
      "metadata": {
        "id": "yvIW3aUDjYNS",
        "colab_type": "code",
        "colab": {}
      },
      "source": [
        "if os.path.exists('medical-concept-normalization'):\n",
        "  print('folder exist')\n",
        "else:\n",
        "  os.mkdir(base_dir)"
      ],
      "execution_count": 0,
      "outputs": []
    },
    {
      "cell_type": "code",
      "metadata": {
        "id": "es-FFLlfk6SG",
        "colab_type": "code",
        "colab": {}
      },
      "source": [
        "if os.path.exists('medical-concept-normalization/data_collection'):\n",
        "  print('folder exist')\n",
        "else:\n",
        "  os.mkdir('medical-concept-normalization/data_collection')"
      ],
      "execution_count": 0,
      "outputs": []
    },
    {
      "cell_type": "markdown",
      "metadata": {
        "id": "0R-Guw_VoJXm",
        "colab_type": "text"
      },
      "source": [
        "**Install fastai and clone the fastai for text classification**\n",
        "\n"
      ]
    },
    {
      "cell_type": "code",
      "metadata": {
        "id": "QVZa3Z0PmHFH",
        "colab_type": "code",
        "outputId": "9be89f06-e4ca-400b-8a1b-53ac77c04516",
        "colab": {
          "base_uri": "https://localhost:8080/",
          "height": 88
        }
      },
      "source": [
        "!curl https://course-v3.fast.ai/setup/colab | bash"
      ],
      "execution_count": 5,
      "outputs": [
        {
          "output_type": "stream",
          "text": [
            "  % Total    % Received % Xferd  Average Speed   Time    Time     Time  Current\n",
            "                                 Dload  Upload   Total   Spent    Left  Speed\n",
            "\r  0     0    0     0    0     0      0      0 --:--:-- --:--:-- --:--:--     0curl: (6) Could not resolve host: course-v3.fast.ai\n"
          ],
          "name": "stdout"
        }
      ]
    },
    {
      "cell_type": "code",
      "metadata": {
        "id": "_FBFFEBrmJC0",
        "colab_type": "code",
        "outputId": "b8ec7fcf-fc08-46b9-95cd-696cf22d3f29",
        "colab": {
          "base_uri": "https://localhost:8080/",
          "height": 85
        }
      },
      "source": [
        "!git clone https://github.com/wshuyi/demo-nlp-classification-fastai.git"
      ],
      "execution_count": 6,
      "outputs": [
        {
          "output_type": "stream",
          "text": [
            "Cloning into 'demo-nlp-classification-fastai'...\n",
            "remote: Enumerating objects: 9, done.\u001b[K\n",
            "remote: Total 9 (delta 0), reused 0 (delta 0), pack-reused 9\u001b[K\n",
            "Unpacking objects: 100% (9/9), done.\n"
          ],
          "name": "stdout"
        }
      ]
    },
    {
      "cell_type": "code",
      "metadata": {
        "id": "66zfh_JqmWMU",
        "colab_type": "code",
        "colab": {}
      },
      "source": [
        "from fastai import *\n",
        "from fastai.text import *"
      ],
      "execution_count": 0,
      "outputs": []
    },
    {
      "cell_type": "markdown",
      "metadata": {
        "id": "mNIw-yALdBU9",
        "colab_type": "text"
      },
      "source": [
        "**Set the path of the data collections**"
      ]
    },
    {
      "cell_type": "code",
      "metadata": {
        "id": "pzH7VMh4mqCL",
        "colab_type": "code",
        "colab": {}
      },
      "source": [
        "path = Path('medical-concept-normalization/data_collection')"
      ],
      "execution_count": 0,
      "outputs": []
    },
    {
      "cell_type": "code",
      "metadata": {
        "id": "r8cdqCa-Oeog",
        "colab_type": "code",
        "colab": {}
      },
      "source": [
        "# datasets\n",
        "\n",
        "train_csv = 'https://raw.githubusercontent.com/unt-iialab/medical-concept-normalization/master/AskAPatient/Experiment%20(Change%20testing%20dataset)/Training%20set/AskAPatient.fold-0.train.csv'\n",
        "valid_csv = 'https://raw.githubusercontent.com/unt-iialab/medical-concept-normalization/master/AskAPatient/Experiment%20(Change%20testing%20dataset)/Validation%20set/AskAPatient.fold-0.validation.csv'\n",
        "test_csv = 'https://raw.githubusercontent.com/unt-iialab/medical-concept-normalization/master/AskAPatient/Experiment%20(Change%20testing%20dataset)/Testing%20set/AskAPatient_overlap_20.csv'\n",
        "fine_tuning_data = 'fine_tuning_language_model_pubmed_bigtweet_mixed.csv'"
      ],
      "execution_count": 0,
      "outputs": []
    },
    {
      "cell_type": "code",
      "metadata": {
        "id": "b8fjI6yyn4aS",
        "colab_type": "code",
        "outputId": "60b80602-f4e2-454d-8557-f4b881119b57",
        "colab": {
          "base_uri": "https://localhost:8080/",
          "height": 119
        }
      },
      "source": [
        "# training data set\n",
        "train = pd.read_csv(train_csv, header=None)\n",
        "print(train.head())\n",
        "\n",
        "# validating data set\n",
        "valid = pd.read_csv(valid_csv,header=None)\n",
        "# valid.head()\n",
        "\n",
        "# testing data set\n",
        "test = pd.read_csv(test_csv,header=None)\n",
        "# test.head()"
      ],
      "execution_count": 15,
      "outputs": [
        {
          "output_type": "stream",
          "text": [
            "   0                1\n",
            "0  0             Fear\n",
            "1  0             Fear\n",
            "2  0             Fear\n",
            "3  0  scared to death\n",
            "4  1   Abdominal rash\n"
          ],
          "name": "stdout"
        }
      ]
    },
    {
      "cell_type": "code",
      "metadata": {
        "id": "Vo-YNvVYoaH6",
        "colab_type": "code",
        "outputId": "331013cb-2565-43c0-8cce-2ed1c615cdcf",
        "colab": {
          "base_uri": "https://localhost:8080/",
          "height": 17
        }
      },
      "source": [
        "# Creating DataBunch for language modelling\n",
        "data_lm = TextLMDataBunch.from_csv(path, fine_tuning_data)"
      ],
      "execution_count": 17,
      "outputs": [
        {
          "output_type": "display_data",
          "data": {
            "text/html": [
              ""
            ],
            "text/plain": [
              "<IPython.core.display.HTML object>"
            ]
          },
          "metadata": {
            "tags": []
          }
        },
        {
          "output_type": "display_data",
          "data": {
            "text/html": [
              ""
            ],
            "text/plain": [
              "<IPython.core.display.HTML object>"
            ]
          },
          "metadata": {
            "tags": []
          }
        }
      ]
    },
    {
      "cell_type": "code",
      "metadata": {
        "id": "1ScY9afDsnvE",
        "colab_type": "code",
        "colab": {}
      },
      "source": [
        "# Creating DataBunch for classification\n",
        "\n",
        "# data_clas = TextClasDataBunch.from_df(path, train, valid, test, vocab=data_lm.train_ds.vocab, bs=128)"
      ],
      "execution_count": 0,
      "outputs": []
    },
    {
      "cell_type": "code",
      "metadata": {
        "id": "gzrSdQcvey9p",
        "colab_type": "code",
        "outputId": "6b84c0da-80f2-4072-da86-08aa8684d429",
        "colab": {
          "base_uri": "https://localhost:8080/",
          "height": 17
        }
      },
      "source": [
        "data_clas = TextClasDataBunch.from_df(path, train, valid, vocab=data_lm.train_ds.vocab, bs=128)"
      ],
      "execution_count": 19,
      "outputs": [
        {
          "output_type": "display_data",
          "data": {
            "text/html": [
              ""
            ],
            "text/plain": [
              "<IPython.core.display.HTML object>"
            ]
          },
          "metadata": {
            "tags": []
          }
        },
        {
          "output_type": "display_data",
          "data": {
            "text/html": [
              ""
            ],
            "text/plain": [
              "<IPython.core.display.HTML object>"
            ]
          },
          "metadata": {
            "tags": []
          }
        }
      ]
    },
    {
      "cell_type": "code",
      "metadata": {
        "id": "MD27Tf0Ke3ou",
        "colab_type": "code",
        "outputId": "bfa1d3db-2a8a-4e26-aeac-144376d937c4",
        "colab": {
          "base_uri": "https://localhost:8080/",
          "height": 17
        }
      },
      "source": [
        "data_clas.add_test(test,label=0)"
      ],
      "execution_count": 20,
      "outputs": [
        {
          "output_type": "display_data",
          "data": {
            "text/html": [
              ""
            ],
            "text/plain": [
              "<IPython.core.display.HTML object>"
            ]
          },
          "metadata": {
            "tags": []
          }
        }
      ]
    },
    {
      "cell_type": "code",
      "metadata": {
        "id": "-dpjnk_rstwk",
        "colab_type": "code",
        "colab": {}
      },
      "source": [
        "data_lm.save()\n",
        "data_clas.save()"
      ],
      "execution_count": 0,
      "outputs": []
    },
    {
      "cell_type": "code",
      "metadata": {
        "id": "4OkiJa36sw5s",
        "colab_type": "code",
        "colab": {
          "base_uri": "https://localhost:8080/",
          "height": 1000
        },
        "outputId": "7eae58c1-f3e1-429d-9fa4-c66ea712ed73"
      },
      "source": [
        "data_lm.train_ds.vocab.itos"
      ],
      "execution_count": 22,
      "outputs": [
        {
          "output_type": "execute_result",
          "data": {
            "text/plain": [
              "['xxunk',\n",
              " 'xxpad',\n",
              " 'xxbos',\n",
              " 'xxeos',\n",
              " 'xxfld',\n",
              " 'xxmaj',\n",
              " 'xxup',\n",
              " 'xxrep',\n",
              " 'xxwrep',\n",
              " 'the',\n",
              " 'of',\n",
              " 'and',\n",
              " 'in',\n",
              " 'to',\n",
              " 'a',\n",
              " 'for',\n",
              " 'with',\n",
              " 'diclofenac',\n",
              " 'was',\n",
              " 'were',\n",
              " 'on',\n",
              " 'is',\n",
              " 'rt',\n",
              " 'sodium',\n",
              " 'by',\n",
              " 'that',\n",
              " 'as',\n",
              " 'at',\n",
              " 'patients',\n",
              " 'or',\n",
              " 'this',\n",
              " 'from',\n",
              " 'drug',\n",
              " 'you',\n",
              " 'i',\n",
              " 'be',\n",
              " 'mg',\n",
              " 'disease',\n",
              " 'group',\n",
              " 'study',\n",
              " 'treatment',\n",
              " 'are',\n",
              " 'pain',\n",
              " 'after',\n",
              " 'not',\n",
              " 'amp',\n",
              " 'an',\n",
              " 'it',\n",
              " 'p',\n",
              " 'have',\n",
              " 'release',\n",
              " 'gluten',\n",
              " 'free',\n",
              " 'we',\n",
              " 'than',\n",
              " 'all',\n",
              " 'effect',\n",
              " 'no',\n",
              " 'compared',\n",
              " 'new',\n",
              " 'more',\n",
              " 'using',\n",
              " 'effects',\n",
              " 'groups',\n",
              " 'your',\n",
              " 'our',\n",
              " 'two',\n",
              " 'between',\n",
              " 'its',\n",
              " 'both',\n",
              " 'significantly',\n",
              " 'my',\n",
              " 'h',\n",
              " 'about',\n",
              " 'out',\n",
              " 'these',\n",
              " 'inflammatory',\n",
              " 'time',\n",
              " 'significant',\n",
              " 'but',\n",
              " 'drugs',\n",
              " 'used',\n",
              " 'use',\n",
              " 'which',\n",
              " 'day',\n",
              " 'can',\n",
              " 'voltaren',\n",
              " 'anti',\n",
              " 'dose',\n",
              " 'results',\n",
              " 'has',\n",
              " 'potassium',\n",
              " 's',\n",
              " 'also',\n",
              " 'placebo',\n",
              " 'what',\n",
              " 'glutenfree',\n",
              " 'do',\n",
              " 'may',\n",
              " 'nt',\n",
              " 'one',\n",
              " 'efficacy',\n",
              " 'there',\n",
              " 'm',\n",
              " 'celiac',\n",
              " 'treated',\n",
              " 'ds',\n",
              " 'w',\n",
              " 'days',\n",
              " 'now',\n",
              " 'showed',\n",
              " 'ml',\n",
              " 'when',\n",
              " 'had',\n",
              " 'topical',\n",
              " 'products',\n",
              " 'different',\n",
              " 'oral',\n",
              " 'been',\n",
              " 'administration',\n",
              " 'up',\n",
              " 'rats',\n",
              " 'c',\n",
              " 'concentration',\n",
              " 'how',\n",
              " 'clinical',\n",
              " 'via',\n",
              " 'studies',\n",
              " 'control',\n",
              " 'well',\n",
              " 'food',\n",
              " 'test',\n",
              " 'their',\n",
              " 'if',\n",
              " 'respectively',\n",
              " 'right',\n",
              " 'during',\n",
              " 'into',\n",
              " 'non',\n",
              " 'induced',\n",
              " 'formulations',\n",
              " 'found',\n",
              " 'who',\n",
              " 'method',\n",
              " 'acid',\n",
              " 'other',\n",
              " 'could',\n",
              " 'high',\n",
              " 'rate',\n",
              " 'nsaids',\n",
              " 'post',\n",
              " 'effective',\n",
              " 'over',\n",
              " 'diet',\n",
              " 'did',\n",
              " 'mean',\n",
              " 'hours',\n",
              " 'first',\n",
              " 'plasma',\n",
              " 'observed',\n",
              " 'formulation',\n",
              " 'ph',\n",
              " 'solution',\n",
              " 'tablets',\n",
              " 'g',\n",
              " 'review',\n",
              " 'three',\n",
              " 'blood',\n",
              " 'gel',\n",
              " 'n',\n",
              " 'controlled',\n",
              " 'received',\n",
              " 'd',\n",
              " 'those',\n",
              " 'vitro',\n",
              " 'tip',\n",
              " 'only',\n",
              " 'increased',\n",
              " 'kg',\n",
              " 'analgesic',\n",
              " 'levels',\n",
              " 'data',\n",
              " 'dblclick',\n",
              " 'less',\n",
              " 'so',\n",
              " 'analysis',\n",
              " 'adverse',\n",
              " 'atorvastatin',\n",
              " 'activity',\n",
              " 'each',\n",
              " 'period',\n",
              " 'total',\n",
              " 'single',\n",
              " 'acute',\n",
              " 'randomized',\n",
              " 'pic',\n",
              " 'following',\n",
              " 'concentrations',\n",
              " 'daily',\n",
              " 'most',\n",
              " 'patient',\n",
              " 'week',\n",
              " 'skin',\n",
              " 'evaluated',\n",
              " 'they',\n",
              " 'some',\n",
              " 'however',\n",
              " 'good',\n",
              " 'why',\n",
              " 'will',\n",
              " 'weeks',\n",
              " 'low',\n",
              " 'here',\n",
              " 'before',\n",
              " 'l',\n",
              " 'model',\n",
              " 'obtained',\n",
              " 'lower',\n",
              " 'check',\n",
              " 'difference',\n",
              " 'symptoms',\n",
              " 'increase',\n",
              " 'know',\n",
              " 'healthy',\n",
              " 't',\n",
              " 'based',\n",
              " 'under',\n",
              " 'similar',\n",
              " 'double',\n",
              " 'postoperative',\n",
              " 'relief',\n",
              " 'dissolution',\n",
              " 'surgery',\n",
              " 'love',\n",
              " 'nsaid',\n",
              " 'water',\n",
              " 'therapy',\n",
              " 'renal',\n",
              " 'tablet',\n",
              " 'years',\n",
              " 'higher',\n",
              " 'me',\n",
              " 'combination',\n",
              " 'cells',\n",
              " 'present',\n",
              " 'min',\n",
              " 'trial',\n",
              " 'studied',\n",
              " 'prepared',\n",
              " 'doses',\n",
              " 'just',\n",
              " 'b',\n",
              " 'life',\n",
              " 'should',\n",
              " 'administered',\n",
              " 'get',\n",
              " 'order',\n",
              " 'like',\n",
              " 'application',\n",
              " 'differences',\n",
              " 'conditions',\n",
              " 'reported',\n",
              " 'any',\n",
              " 'while',\n",
              " 'cell',\n",
              " 'associated',\n",
              " 'nonsteroidal',\n",
              " 'vs',\n",
              " 'investigated',\n",
              " 'performed',\n",
              " 'reduced',\n",
              " 'such',\n",
              " 'given',\n",
              " 're',\n",
              " 'response',\n",
              " 'subjects',\n",
              " 'serum',\n",
              " 'v',\n",
              " 'thanks',\n",
              " 'events',\n",
              " 'system',\n",
              " 'absorption',\n",
              " 'four',\n",
              " 'containing',\n",
              " 'values',\n",
              " 'side',\n",
              " 'help',\n",
              " 'gfb',\n",
              " 'great',\n",
              " 'us',\n",
              " 'due',\n",
              " 'blind',\n",
              " 'developed',\n",
              " 'does',\n",
              " 'decreased',\n",
              " 'changes',\n",
              " 'parameters',\n",
              " 'delivery',\n",
              " 'phase',\n",
              " 'better',\n",
              " 'inflammation',\n",
              " 'samples',\n",
              " 'properties',\n",
              " 'people',\n",
              " 'either',\n",
              " 'x',\n",
              " 'measured',\n",
              " 'within',\n",
              " 'cholesterol',\n",
              " 'risk',\n",
              " 'through',\n",
              " 'recipe',\n",
              " 'assessed',\n",
              " 'show',\n",
              " 'need',\n",
              " 'times',\n",
              " 'indomethacin',\n",
              " 'mm',\n",
              " '30',\n",
              " 'make',\n",
              " 'safety',\n",
              " 'number',\n",
              " 'posted',\n",
              " 'type',\n",
              " 'reduction',\n",
              " 'heres',\n",
              " 'without',\n",
              " 'primary',\n",
              " 'potential',\n",
              " 'oa',\n",
              " 'statistically',\n",
              " 'vivo',\n",
              " 'being',\n",
              " 'included',\n",
              " 'liquid',\n",
              " 'living',\n",
              " 'compare',\n",
              " 'applied',\n",
              " 'e',\n",
              " 'lipitor',\n",
              " 'year',\n",
              " 'gastrointestinal',\n",
              " 'auc',\n",
              " 'ca',\n",
              " 'function',\n",
              " 'scale',\n",
              " 'therapeutic',\n",
              " 'size',\n",
              " 'steroidal',\n",
              " 'jennieo',\n",
              " 'related',\n",
              " 'k',\n",
              " 'best',\n",
              " 'ratio',\n",
              " 'injection',\n",
              " 'many',\n",
              " 'intolerance',\n",
              " 'human',\n",
              " 'osteoarthritis',\n",
              " 'level',\n",
              " 'range',\n",
              " 'very',\n",
              " 'determined',\n",
              " 'evaluate',\n",
              " 'form',\n",
              " 'tissue',\n",
              " 'active',\n",
              " 'cox',\n",
              " 'greater',\n",
              " 'health',\n",
              " 'ng',\n",
              " 'sustained',\n",
              " 'tips',\n",
              " 'read',\n",
              " 'baseline',\n",
              " 'then',\n",
              " '\\r \\n ',\n",
              " 'scores',\n",
              " 'dependent',\n",
              " 'process',\n",
              " 'archives',\n",
              " 'normal',\n",
              " 'development',\n",
              " 'sensitivity',\n",
              " 'bioavailability',\n",
              " 'visual',\n",
              " 'tested',\n",
              " 'months',\n",
              " 'addition',\n",
              " 'medication',\n",
              " 'knee',\n",
              " 'end',\n",
              " 'area',\n",
              " 'minutes',\n",
              " 'news',\n",
              " 'matrix',\n",
              " 'change',\n",
              " 'polymer',\n",
              " 'eat',\n",
              " 'aim',\n",
              " 'available',\n",
              " 'because',\n",
              " 'chronic',\n",
              " 'tolerability',\n",
              " 'arthritis',\n",
              " 'swelling',\n",
              " 'demonstrated',\n",
              " 'score',\n",
              " 'revealed',\n",
              " 'today',\n",
              " 'going',\n",
              " 'dosage',\n",
              " 'safe',\n",
              " 'coated',\n",
              " 'gastric',\n",
              " 'ii',\n",
              " 'severe',\n",
              " 'weight',\n",
              " 'mice',\n",
              " 'migraine',\n",
              " 'made',\n",
              " 'per',\n",
              " 'inhibition',\n",
              " 'intensity',\n",
              " 'treatments',\n",
              " 'improvement',\n",
              " 'chicken',\n",
              " 'aqueous',\n",
              " 'indicated',\n",
              " 'volunteers',\n",
              " 'various',\n",
              " 'article',\n",
              " 'trials',\n",
              " 'important',\n",
              " 'tolerated',\n",
              " 'shown',\n",
              " 'agent',\n",
              " 'mechanism',\n",
              " 'alone',\n",
              " 'long',\n",
              " 'diagnosis',\n",
              " 'na',\n",
              " 'suggest',\n",
              " 'presence',\n",
              " 'action',\n",
              " 'follow',\n",
              " 'local',\n",
              " 'part',\n",
              " 'animals',\n",
              " 'f',\n",
              " 'whereas',\n",
              " 'think',\n",
              " 'further',\n",
              " 'permeation',\n",
              " 'inhibitor',\n",
              " 'old',\n",
              " 'hour',\n",
              " 'ibuprofen',\n",
              " 'same',\n",
              " 'case',\n",
              " 'go',\n",
              " 'randomly',\n",
              " '2',\n",
              " '1',\n",
              " 'big',\n",
              " 'moderate',\n",
              " 'standard',\n",
              " 'followed',\n",
              " 'although',\n",
              " 'determine',\n",
              " 'multiple',\n",
              " 'eating',\n",
              " 'cases',\n",
              " 'pizza',\n",
              " 'peak',\n",
              " 'care',\n",
              " 'formation',\n",
              " 'provide',\n",
              " 'relative',\n",
              " 'way',\n",
              " 'versus',\n",
              " 'product',\n",
              " 'diagnosed',\n",
              " 'decrease',\n",
              " 'content',\n",
              " 'improved',\n",
              " 'take',\n",
              " 'among',\n",
              " 'cd',\n",
              " 'much',\n",
              " 'caused',\n",
              " 'male',\n",
              " 'six',\n",
              " 'reaction',\n",
              " 'exposure',\n",
              " 'protein',\n",
              " 'participants',\n",
              " 'rat',\n",
              " 'pressure',\n",
              " 'least',\n",
              " 'profile',\n",
              " 'month',\n",
              " 'conducted',\n",
              " 'eye',\n",
              " 'please',\n",
              " 'age',\n",
              " 'damage',\n",
              " 'corneal',\n",
              " 'awareness',\n",
              " 'experimental',\n",
              " 'including',\n",
              " 'vehicle',\n",
              " '\\r \\n \\r \\n ',\n",
              " 'research',\n",
              " 'evaluation',\n",
              " 'would',\n",
              " 'growth',\n",
              " 'cm',\n",
              " 'divided',\n",
              " 'pharmaceutical',\n",
              " 'share',\n",
              " 'blog',\n",
              " 'u',\n",
              " 'pharmacokinetic',\n",
              " 'vas',\n",
              " 'pre',\n",
              " 'surface',\n",
              " 'see',\n",
              " 'common',\n",
              " 'lesions',\n",
              " 'th',\n",
              " 'find',\n",
              " 'microspheres',\n",
              " 'five',\n",
              " 'according',\n",
              " 'misoprostol',\n",
              " 'want',\n",
              " 'o',\n",
              " 'sensitive',\n",
              " 'analgesia',\n",
              " 'r',\n",
              " 'plus',\n",
              " 'evidence',\n",
              " 'cmax',\n",
              " 'onset',\n",
              " 'achieved',\n",
              " 'de',\n",
              " 'cross',\n",
              " 'agents',\n",
              " 'amount',\n",
              " 'secondary',\n",
              " 'where',\n",
              " 'combined',\n",
              " 'systemic',\n",
              " 'resulted',\n",
              " 'complete',\n",
              " 'urine',\n",
              " 'global',\n",
              " 'overall',\n",
              " 'rofecoxib',\n",
              " 'preparation',\n",
              " 'extent',\n",
              " 'ever',\n",
              " 'soup',\n",
              " 'temperature',\n",
              " 'synthesis',\n",
              " 'aspirin',\n",
              " 'body',\n",
              " 'ci',\n",
              " 'happy',\n",
              " 'muscle',\n",
              " 'edema',\n",
              " 'beads',\n",
              " 'detection',\n",
              " '5',\n",
              " 'examined',\n",
              " 'profiles',\n",
              " 'specific',\n",
              " 'might',\n",
              " 'dr',\n",
              " 'third',\n",
              " 'carried',\n",
              " 'produced',\n",
              " 'even',\n",
              " 'considered',\n",
              " 'duration',\n",
              " 'investigate',\n",
              " 'second',\n",
              " 'reference',\n",
              " 'microg',\n",
              " 'commercial',\n",
              " 'linked',\n",
              " 'quality',\n",
              " 'rapid',\n",
              " '4',\n",
              " 'still',\n",
              " 'comparison',\n",
              " 'bone',\n",
              " 'technique',\n",
              " 'enteric',\n",
              " 'recorded',\n",
              " 'models',\n",
              " 'super',\n",
              " 'production',\n",
              " 'membrane',\n",
              " 'inhibited',\n",
              " 'patch',\n",
              " 'methods',\n",
              " 'assessment',\n",
              " 'thus',\n",
              " 'possible',\n",
              " 'comparable',\n",
              " 'cookbook',\n",
              " 'efficiency',\n",
              " 'medium',\n",
              " 'state',\n",
              " 'interaction',\n",
              " 'maximum',\n",
              " 'intestinal',\n",
              " 'joint',\n",
              " 'medical',\n",
              " 'term',\n",
              " 'characterized',\n",
              " 'women',\n",
              " 'design',\n",
              " 'determination',\n",
              " 'volume',\n",
              " 'solid',\n",
              " 'increasing',\n",
              " 'superior',\n",
              " 'expression',\n",
              " 'them',\n",
              " 'degrees',\n",
              " 'prostaglandin',\n",
              " 'cause',\n",
              " 'hplc',\n",
              " 'got',\n",
              " 'easy',\n",
              " 'liver',\n",
              " 'against',\n",
              " 'early',\n",
              " 'naproxen',\n",
              " 'indicate',\n",
              " 'influence',\n",
              " 'diffusion',\n",
              " 'novel',\n",
              " 'work',\n",
              " 'current',\n",
              " 'eyes',\n",
              " 'co',\n",
              " 'site',\n",
              " 'gf',\n",
              " 'once',\n",
              " 'saline',\n",
              " 'simple',\n",
              " 'physical',\n",
              " 'antiinflammatory',\n",
              " 'rheumatoid',\n",
              " 'wheat',\n",
              " 'looking',\n",
              " 'small',\n",
              " 'pellets',\n",
              " 'released',\n",
              " 'incidence',\n",
              " 'friends',\n",
              " 'receiving',\n",
              " 'try',\n",
              " 'alpha',\n",
              " 'tissues',\n",
              " 'brain',\n",
              " 'complex',\n",
              " 'assess',\n",
              " 'medications',\n",
              " 'needed',\n",
              " 'rates',\n",
              " 'solutions',\n",
              " 'story',\n",
              " 'dic',\n",
              " 'clearance',\n",
              " 'value',\n",
              " 'phosphate',\n",
              " 'provided',\n",
              " 'ocular',\n",
              " 'tests',\n",
              " 'alternative',\n",
              " 'intramuscular',\n",
              " 'children',\n",
              " 'mild',\n",
              " 'therefore',\n",
              " 'solubility',\n",
              " 'since',\n",
              " 'delicious',\n",
              " 'affect',\n",
              " 'foods',\n",
              " 'autographed',\n",
              " 'performance',\n",
              " 'loaded',\n",
              " 'nm',\n",
              " 'clinically',\n",
              " 'inhibitors',\n",
              " 'index',\n",
              " 'cataract',\n",
              " 'outcome',\n",
              " 'every',\n",
              " 'cream',\n",
              " 'top',\n",
              " 'flow',\n",
              " 'findings',\n",
              " 'paracetamol',\n",
              " 'characteristics',\n",
              " 'beta',\n",
              " 'back',\n",
              " 'giveaway',\n",
              " 'too',\n",
              " 'vascular',\n",
              " 'others',\n",
              " 'initial',\n",
              " 'open',\n",
              " 'responses',\n",
              " 'treat',\n",
              " 'lipid',\n",
              " 'max',\n",
              " 'transdermal',\n",
              " 'calcium',\n",
              " 'fluid',\n",
              " 'additional',\n",
              " 'forms',\n",
              " 'point',\n",
              " 'preparations',\n",
              " 'extraction',\n",
              " 'chitosan',\n",
              " 'capsules',\n",
              " 'buffer',\n",
              " 'kinetics',\n",
              " 'drops',\n",
              " 'twice',\n",
              " '2014',\n",
              " 'percentage',\n",
              " 'factor',\n",
              " 'analyzed',\n",
              " 'degree',\n",
              " 'start',\n",
              " 'last',\n",
              " 've',\n",
              " 'taking',\n",
              " 'experience',\n",
              " 'modified',\n",
              " 'cambia',\n",
              " 'several',\n",
              " 'pge',\n",
              " 'known',\n",
              " 'thank',\n",
              " 'learn',\n",
              " 'ketorolac',\n",
              " 'activities',\n",
              " 'terms',\n",
              " 'oil',\n",
              " 'special',\n",
              " 'enhanced',\n",
              " 'syndrome',\n",
              " 'eudragit',\n",
              " 'crossover',\n",
              " 'later',\n",
              " 'positive',\n",
              " 'affected',\n",
              " 'density',\n",
              " 'major',\n",
              " 'experiments',\n",
              " 'bowl',\n",
              " 'chocolate',\n",
              " 'ldl',\n",
              " 'hpmc',\n",
              " 'across',\n",
              " 'support',\n",
              " 'sr',\n",
              " 'exhibited',\n",
              " 'salt',\n",
              " 'cardiovascular',\n",
              " 'collected',\n",
              " 'market',\n",
              " 'objective',\n",
              " 'required',\n",
              " 'whether',\n",
              " 'issues',\n",
              " 'information',\n",
              " 'scanning',\n",
              " 'ability',\n",
              " 'flare',\n",
              " 'gi',\n",
              " 'celecoxib',\n",
              " 'peg',\n",
              " 'having',\n",
              " 'factors',\n",
              " 'another',\n",
              " 'acetaminophen',\n",
              " 'morning',\n",
              " 'serious',\n",
              " 'cyclooxygenase',\n",
              " 'child',\n",
              " 'hp',\n",
              " 'occurred',\n",
              " 'sd',\n",
              " 'systems',\n",
              " 'interesting',\n",
              " 'especially',\n",
              " 'few',\n",
              " 'book',\n",
              " 'faster',\n",
              " 'laser',\n",
              " 'dfs',\n",
              " 'procedure',\n",
              " 'criteria',\n",
              " 'dcf',\n",
              " 'il',\n",
              " 'penetration',\n",
              " 'america',\n",
              " 'ophthalmic',\n",
              " 'bread',\n",
              " 'able',\n",
              " 'testing',\n",
              " 'capsule',\n",
              " 'average',\n",
              " 'ak',\n",
              " 'options',\n",
              " 'dpsgc',\n",
              " 'aged',\n",
              " 'receive',\n",
              " 'operative',\n",
              " 'drop',\n",
              " 'recipes',\n",
              " 'direct',\n",
              " 'analogue',\n",
              " 'seven',\n",
              " 'management',\n",
              " 'assay',\n",
              " 'hospital',\n",
              " 'randomised',\n",
              " 'stability',\n",
              " 'he',\n",
              " 'reducing',\n",
              " 'rabbits',\n",
              " 'binding',\n",
              " 'prolonged',\n",
              " 'event',\n",
              " 'list',\n",
              " 'microscopy',\n",
              " 'particle',\n",
              " 'seen',\n",
              " 'really',\n",
              " 'metabolism',\n",
              " 'microm',\n",
              " 'limit',\n",
              " 'role',\n",
              " 'injury',\n",
              " 'effectiveness',\n",
              " 'widely',\n",
              " 'reduce',\n",
              " 'yes',\n",
              " 'suggested',\n",
              " 'rescue',\n",
              " 'tmax',\n",
              " 'death',\n",
              " 'variables',\n",
              " '10',\n",
              " 'percent',\n",
              " 'established',\n",
              " 'allergy',\n",
              " 'quinoa',\n",
              " 'detected',\n",
              " 'excretion',\n",
              " 'prior',\n",
              " 'breakfast',\n",
              " 'info',\n",
              " 'approximately',\n",
              " 'useful',\n",
              " 'hr',\n",
              " 'ask',\n",
              " 'community',\n",
              " 'intravenous',\n",
              " 'feel',\n",
              " 'coeliac',\n",
              " 'relaxation',\n",
              " 'kids',\n",
              " 'eight',\n",
              " 'confirmed',\n",
              " 'designed',\n",
              " 'alginate',\n",
              " 'structure',\n",
              " 'report',\n",
              " 'chloride',\n",
              " 'always',\n",
              " 'whole',\n",
              " 'electron',\n",
              " 'arthrotec',\n",
              " 'dexamethasone',\n",
              " 'involved',\n",
              " 'proposed',\n",
              " 'assigned',\n",
              " 'creatinine',\n",
              " 'orally',\n",
              " 'selective',\n",
              " 'loading',\n",
              " 'distribution',\n",
              " 'develop',\n",
              " 'interview',\n",
              " 'severity',\n",
              " 'getting',\n",
              " 'laboratory',\n",
              " 'next',\n",
              " 'page',\n",
              " 'hand',\n",
              " 'reasons',\n",
              " 'series',\n",
              " 'cs',\n",
              " 'improve',\n",
              " 'diseases',\n",
              " 'central',\n",
              " 'hip',\n",
              " 'highly',\n",
              " 'his',\n",
              " 'df',\n",
              " 'coating',\n",
              " 'selected',\n",
              " 'short',\n",
              " 'female',\n",
              " 'toxicity',\n",
              " 'diagnose',\n",
              " 'zero',\n",
              " 'likely',\n",
              " 'injected',\n",
              " 'kidney',\n",
              " 'sunday',\n",
              " 'twenty',\n",
              " 'condition',\n",
              " 'stem',\n",
              " 'chromatography',\n",
              " 'again',\n",
              " 'analgesics',\n",
              " 'fast',\n",
              " 'chemical',\n",
              " 'target',\n",
              " 'large',\n",
              " 'own',\n",
              " 'pharmacokinetics',\n",
              " 'world',\n",
              " 'aes',\n",
              " 'recommended',\n",
              " 'fed',\n",
              " 'slow',\n",
              " 'down',\n",
              " 'validated',\n",
              " 'behavior',\n",
              " 'independent',\n",
              " 'curve',\n",
              " 'molecular',\n",
              " 'result',\n",
              " 'signs',\n",
              " 'molar',\n",
              " 'sample',\n",
              " 'plant',\n",
              " 'things',\n",
              " 'individual',\n",
              " 'measurements',\n",
              " 'population',\n",
              " 'mt',\n",
              " 'convention',\n",
              " 'adult',\n",
              " 'headache',\n",
              " 'equivalent',\n",
              " 'compounds',\n",
              " 'statin',\n",
              " 'bakery',\n",
              " 'avoid',\n",
              " 'full',\n",
              " 'generic',\n",
              " 'her',\n",
              " 'hear',\n",
              " 'must',\n",
              " 'live',\n",
              " 'regarding',\n",
              " 'link',\n",
              " 'media',\n",
              " 'valentines',\n",
              " 'hey',\n",
              " 'dosing',\n",
              " 'prospective',\n",
              " 'parallel',\n",
              " 'experienced',\n",
              " 'generally',\n",
              " 'breaking',\n",
              " 'friendly',\n",
              " 'channel',\n",
              " 'differential',\n",
              " 'cookies',\n",
              " 'relationship',\n",
              " 'join',\n",
              " 'piroxicam',\n",
              " 'analog',\n",
              " 'mechanisms',\n",
              " 'channels',\n",
              " ...]"
            ]
          },
          "metadata": {
            "tags": []
          },
          "execution_count": 22
        }
      ]
    },
    {
      "cell_type": "code",
      "metadata": {
        "id": "yPWr03mls3VT",
        "colab_type": "code",
        "outputId": "40b42ffc-0d21-4cff-c08f-4e50961a0c12",
        "colab": {
          "base_uri": "https://localhost:8080/",
          "height": 17
        }
      },
      "source": [
        "model_path = path/'models'\n",
        "model_path.mkdir(exist_ok=True)\n",
        "url = 'http://files.fast.ai/models/wt103_v1/'\n",
        "download_url(f'{url}lstm_wt103.pth', model_path/'lstm_wt103.pth')\n",
        "download_url(f'{url}itos_wt103.pkl', model_path/'itos_wt103.pkl')"
      ],
      "execution_count": 23,
      "outputs": [
        {
          "output_type": "display_data",
          "data": {
            "text/html": [
              ""
            ],
            "text/plain": [
              "<IPython.core.display.HTML object>"
            ]
          },
          "metadata": {
            "tags": []
          }
        },
        {
          "output_type": "display_data",
          "data": {
            "text/html": [
              ""
            ],
            "text/plain": [
              "<IPython.core.display.HTML object>"
            ]
          },
          "metadata": {
            "tags": []
          }
        }
      ]
    },
    {
      "cell_type": "code",
      "metadata": {
        "id": "JRzvWg8RtGGr",
        "colab_type": "code",
        "outputId": "9bcd3e4e-ab14-4abd-d44f-028a0aed760f",
        "colab": {
          "base_uri": "https://localhost:8080/",
          "height": 34
        }
      },
      "source": [
        "learn = language_model_learner(data_lm, AWD_LSTM, drop_mult=0.5)"
      ],
      "execution_count": 24,
      "outputs": [
        {
          "output_type": "stream",
          "text": [
            "Downloading https://s3.amazonaws.com/fast-ai-modelzoo/wt103-fwd\n"
          ],
          "name": "stdout"
        },
        {
          "output_type": "display_data",
          "data": {
            "text/html": [
              ""
            ],
            "text/plain": [
              "<IPython.core.display.HTML object>"
            ]
          },
          "metadata": {
            "tags": []
          }
        }
      ]
    },
    {
      "cell_type": "code",
      "metadata": {
        "id": "xKK7GeBev7Xn",
        "colab_type": "code",
        "outputId": "2ee569ec-3a64-4a41-b09a-2f9640fa00a7",
        "colab": {
          "base_uri": "https://localhost:8080/",
          "height": 80
        }
      },
      "source": [
        "learn.fit_one_cycle(1, 1e-2)"
      ],
      "execution_count": 25,
      "outputs": [
        {
          "output_type": "display_data",
          "data": {
            "text/html": [
              "<table border=\"1\" class=\"dataframe\">\n",
              "  <thead>\n",
              "    <tr style=\"text-align: left;\">\n",
              "      <th>epoch</th>\n",
              "      <th>train_loss</th>\n",
              "      <th>valid_loss</th>\n",
              "      <th>accuracy</th>\n",
              "      <th>time</th>\n",
              "    </tr>\n",
              "  </thead>\n",
              "  <tbody>\n",
              "    <tr>\n",
              "      <td>0</td>\n",
              "      <td>5.197757</td>\n",
              "      <td>4.626203</td>\n",
              "      <td>0.249935</td>\n",
              "      <td>21:48</td>\n",
              "    </tr>\n",
              "  </tbody>\n",
              "</table>"
            ],
            "text/plain": [
              "<IPython.core.display.HTML object>"
            ]
          },
          "metadata": {
            "tags": []
          }
        }
      ]
    },
    {
      "cell_type": "code",
      "metadata": {
        "id": "iB7rHGQCwd12",
        "colab_type": "code",
        "colab": {
          "base_uri": "https://localhost:8080/",
          "height": 80
        },
        "outputId": "738eee9e-a718-4253-c973-59bab4e994de"
      },
      "source": [
        "learn.fit_one_cycle(1, 1e-2)"
      ],
      "execution_count": 26,
      "outputs": [
        {
          "output_type": "display_data",
          "data": {
            "text/html": [
              "<table border=\"1\" class=\"dataframe\">\n",
              "  <thead>\n",
              "    <tr style=\"text-align: left;\">\n",
              "      <th>epoch</th>\n",
              "      <th>train_loss</th>\n",
              "      <th>valid_loss</th>\n",
              "      <th>accuracy</th>\n",
              "      <th>time</th>\n",
              "    </tr>\n",
              "  </thead>\n",
              "  <tbody>\n",
              "    <tr>\n",
              "      <td>0</td>\n",
              "      <td>4.438999</td>\n",
              "      <td>4.287338</td>\n",
              "      <td>0.281696</td>\n",
              "      <td>21:43</td>\n",
              "    </tr>\n",
              "  </tbody>\n",
              "</table>"
            ],
            "text/plain": [
              "<IPython.core.display.HTML object>"
            ]
          },
          "metadata": {
            "tags": []
          }
        }
      ]
    },
    {
      "cell_type": "code",
      "metadata": {
        "id": "_BnSuAeCwkBe",
        "colab_type": "code",
        "colab": {
          "base_uri": "https://localhost:8080/",
          "height": 80
        },
        "outputId": "af6394eb-feda-4244-c430-e5e4281b3ede"
      },
      "source": [
        "learn.fit_one_cycle(1, 1e-3)"
      ],
      "execution_count": 27,
      "outputs": [
        {
          "output_type": "display_data",
          "data": {
            "text/html": [
              "<table border=\"1\" class=\"dataframe\">\n",
              "  <thead>\n",
              "    <tr style=\"text-align: left;\">\n",
              "      <th>epoch</th>\n",
              "      <th>train_loss</th>\n",
              "      <th>valid_loss</th>\n",
              "      <th>accuracy</th>\n",
              "      <th>time</th>\n",
              "    </tr>\n",
              "  </thead>\n",
              "  <tbody>\n",
              "    <tr>\n",
              "      <td>0</td>\n",
              "      <td>4.104341</td>\n",
              "      <td>4.246403</td>\n",
              "      <td>0.286561</td>\n",
              "      <td>21:44</td>\n",
              "    </tr>\n",
              "  </tbody>\n",
              "</table>"
            ],
            "text/plain": [
              "<IPython.core.display.HTML object>"
            ]
          },
          "metadata": {
            "tags": []
          }
        }
      ]
    },
    {
      "cell_type": "code",
      "metadata": {
        "id": "MuTm-RFjwrEX",
        "colab_type": "code",
        "colab": {
          "base_uri": "https://localhost:8080/",
          "height": 80
        },
        "outputId": "ba5153b1-279e-40db-acda-a7982c932f49"
      },
      "source": [
        "learn.fit_one_cycle(1, 1e-3)"
      ],
      "execution_count": 28,
      "outputs": [
        {
          "output_type": "display_data",
          "data": {
            "text/html": [
              "<table border=\"1\" class=\"dataframe\">\n",
              "  <thead>\n",
              "    <tr style=\"text-align: left;\">\n",
              "      <th>epoch</th>\n",
              "      <th>train_loss</th>\n",
              "      <th>valid_loss</th>\n",
              "      <th>accuracy</th>\n",
              "      <th>time</th>\n",
              "    </tr>\n",
              "  </thead>\n",
              "  <tbody>\n",
              "    <tr>\n",
              "      <td>0</td>\n",
              "      <td>4.057496</td>\n",
              "      <td>4.217059</td>\n",
              "      <td>0.289732</td>\n",
              "      <td>21:41</td>\n",
              "    </tr>\n",
              "  </tbody>\n",
              "</table>"
            ],
            "text/plain": [
              "<IPython.core.display.HTML object>"
            ]
          },
          "metadata": {
            "tags": []
          }
        }
      ]
    },
    {
      "cell_type": "code",
      "metadata": {
        "id": "1Er2ExO8wr7Y",
        "colab_type": "code",
        "colab": {}
      },
      "source": [
        "learn.save_encoder('tuning_pubmed_bigtweet_overlap_0_first')"
      ],
      "execution_count": 0,
      "outputs": []
    },
    {
      "cell_type": "code",
      "metadata": {
        "id": "z52cZs2qwvad",
        "colab_type": "code",
        "colab": {
          "base_uri": "https://localhost:8080/",
          "height": 80
        },
        "outputId": "932c874d-cebf-4c11-914b-de8817d9a921"
      },
      "source": [
        "learn = text_classifier_learner(data_clas,AWD_LSTM, drop_mult=0.5)\n",
        "learn.load_encoder('tuning_pubmed_bigtweet_overlap_0_first')\n",
        "learn.fit_one_cycle(1, 1e-2)"
      ],
      "execution_count": 30,
      "outputs": [
        {
          "output_type": "display_data",
          "data": {
            "text/html": [
              "<table border=\"1\" class=\"dataframe\">\n",
              "  <thead>\n",
              "    <tr style=\"text-align: left;\">\n",
              "      <th>epoch</th>\n",
              "      <th>train_loss</th>\n",
              "      <th>valid_loss</th>\n",
              "      <th>accuracy</th>\n",
              "      <th>time</th>\n",
              "    </tr>\n",
              "  </thead>\n",
              "  <tbody>\n",
              "    <tr>\n",
              "      <td>0</td>\n",
              "      <td>3.615591</td>\n",
              "      <td>3.439750</td>\n",
              "      <td>0.449704</td>\n",
              "      <td>02:40</td>\n",
              "    </tr>\n",
              "  </tbody>\n",
              "</table>"
            ],
            "text/plain": [
              "<IPython.core.display.HTML object>"
            ]
          },
          "metadata": {
            "tags": []
          }
        }
      ]
    },
    {
      "cell_type": "code",
      "metadata": {
        "id": "ImwQP1PJwzxd",
        "colab_type": "code",
        "colab": {
          "base_uri": "https://localhost:8080/",
          "height": 80
        },
        "outputId": "b6b88736-cd31-45e6-91d4-6b7a9b4018ac"
      },
      "source": [
        "learn.freeze_to(-2)\n",
        "learn.fit_one_cycle(1, slice(5e-3/2., 5e-3))"
      ],
      "execution_count": 31,
      "outputs": [
        {
          "output_type": "display_data",
          "data": {
            "text/html": [
              "<table border=\"1\" class=\"dataframe\">\n",
              "  <thead>\n",
              "    <tr style=\"text-align: left;\">\n",
              "      <th>epoch</th>\n",
              "      <th>train_loss</th>\n",
              "      <th>valid_loss</th>\n",
              "      <th>accuracy</th>\n",
              "      <th>time</th>\n",
              "    </tr>\n",
              "  </thead>\n",
              "  <tbody>\n",
              "    <tr>\n",
              "      <td>0</td>\n",
              "      <td>2.730984</td>\n",
              "      <td>3.093243</td>\n",
              "      <td>0.495858</td>\n",
              "      <td>02:40</td>\n",
              "    </tr>\n",
              "  </tbody>\n",
              "</table>"
            ],
            "text/plain": [
              "<IPython.core.display.HTML object>"
            ]
          },
          "metadata": {
            "tags": []
          }
        }
      ]
    },
    {
      "cell_type": "code",
      "metadata": {
        "id": "Owff_BJXw53u",
        "colab_type": "code",
        "colab": {
          "base_uri": "https://localhost:8080/",
          "height": 80
        },
        "outputId": "5cd6e7b3-e1a7-4d70-cbc5-1e288b3cfe11"
      },
      "source": [
        "learn.unfreeze()\n",
        "learn.fit_one_cycle(1, slice(2e-3/100, 2e-3))"
      ],
      "execution_count": 32,
      "outputs": [
        {
          "output_type": "display_data",
          "data": {
            "text/html": [
              "<table border=\"1\" class=\"dataframe\">\n",
              "  <thead>\n",
              "    <tr style=\"text-align: left;\">\n",
              "      <th>epoch</th>\n",
              "      <th>train_loss</th>\n",
              "      <th>valid_loss</th>\n",
              "      <th>accuracy</th>\n",
              "      <th>time</th>\n",
              "    </tr>\n",
              "  </thead>\n",
              "  <tbody>\n",
              "    <tr>\n",
              "      <td>0</td>\n",
              "      <td>2.214291</td>\n",
              "      <td>2.816542</td>\n",
              "      <td>0.527811</td>\n",
              "      <td>03:20</td>\n",
              "    </tr>\n",
              "  </tbody>\n",
              "</table>"
            ],
            "text/plain": [
              "<IPython.core.display.HTML object>"
            ]
          },
          "metadata": {
            "tags": []
          }
        }
      ]
    },
    {
      "cell_type": "code",
      "metadata": {
        "id": "lqAyu56V8Waq",
        "colab_type": "code",
        "colab": {
          "base_uri": "https://localhost:8080/",
          "height": 111
        },
        "outputId": "dcc2adee-7c69-4253-a87c-88f660f8f26e"
      },
      "source": [
        "learn.fit_one_cycle(2, slice(2e-3/100, 2e-3))"
      ],
      "execution_count": 33,
      "outputs": [
        {
          "output_type": "display_data",
          "data": {
            "text/html": [
              "<table border=\"1\" class=\"dataframe\">\n",
              "  <thead>\n",
              "    <tr style=\"text-align: left;\">\n",
              "      <th>epoch</th>\n",
              "      <th>train_loss</th>\n",
              "      <th>valid_loss</th>\n",
              "      <th>accuracy</th>\n",
              "      <th>time</th>\n",
              "    </tr>\n",
              "  </thead>\n",
              "  <tbody>\n",
              "    <tr>\n",
              "      <td>0</td>\n",
              "      <td>2.120688</td>\n",
              "      <td>2.569131</td>\n",
              "      <td>0.563314</td>\n",
              "      <td>03:11</td>\n",
              "    </tr>\n",
              "    <tr>\n",
              "      <td>1</td>\n",
              "      <td>1.830333</td>\n",
              "      <td>2.475965</td>\n",
              "      <td>0.578698</td>\n",
              "      <td>03:33</td>\n",
              "    </tr>\n",
              "  </tbody>\n",
              "</table>"
            ],
            "text/plain": [
              "<IPython.core.display.HTML object>"
            ]
          },
          "metadata": {
            "tags": []
          }
        }
      ]
    },
    {
      "cell_type": "code",
      "metadata": {
        "id": "a7I1xMRp8bUd",
        "colab_type": "code",
        "colab": {
          "base_uri": "https://localhost:8080/",
          "height": 111
        },
        "outputId": "dccf63ce-1a6c-4f53-ee12-01716108f819"
      },
      "source": [
        "learn.fit_one_cycle(2, slice(2e-3/100, 2e-3))"
      ],
      "execution_count": 34,
      "outputs": [
        {
          "output_type": "display_data",
          "data": {
            "text/html": [
              "<table border=\"1\" class=\"dataframe\">\n",
              "  <thead>\n",
              "    <tr style=\"text-align: left;\">\n",
              "      <th>epoch</th>\n",
              "      <th>train_loss</th>\n",
              "      <th>valid_loss</th>\n",
              "      <th>accuracy</th>\n",
              "      <th>time</th>\n",
              "    </tr>\n",
              "  </thead>\n",
              "  <tbody>\n",
              "    <tr>\n",
              "      <td>0</td>\n",
              "      <td>1.766954</td>\n",
              "      <td>2.329710</td>\n",
              "      <td>0.609467</td>\n",
              "      <td>03:26</td>\n",
              "    </tr>\n",
              "    <tr>\n",
              "      <td>1</td>\n",
              "      <td>1.590719</td>\n",
              "      <td>2.260045</td>\n",
              "      <td>0.611834</td>\n",
              "      <td>03:15</td>\n",
              "    </tr>\n",
              "  </tbody>\n",
              "</table>"
            ],
            "text/plain": [
              "<IPython.core.display.HTML object>"
            ]
          },
          "metadata": {
            "tags": []
          }
        }
      ]
    },
    {
      "cell_type": "code",
      "metadata": {
        "id": "UAnti-XmGVfO",
        "colab_type": "code",
        "colab": {
          "base_uri": "https://localhost:8080/",
          "height": 111
        },
        "outputId": "6ef45df2-7422-4c2c-c745-8931404471b3"
      },
      "source": [
        "learn.fit_one_cycle(2, slice(2e-3/100, 2e-3))"
      ],
      "execution_count": 35,
      "outputs": [
        {
          "output_type": "display_data",
          "data": {
            "text/html": [
              "<table border=\"1\" class=\"dataframe\">\n",
              "  <thead>\n",
              "    <tr style=\"text-align: left;\">\n",
              "      <th>epoch</th>\n",
              "      <th>train_loss</th>\n",
              "      <th>valid_loss</th>\n",
              "      <th>accuracy</th>\n",
              "      <th>time</th>\n",
              "    </tr>\n",
              "  </thead>\n",
              "  <tbody>\n",
              "    <tr>\n",
              "      <td>0</td>\n",
              "      <td>1.556691</td>\n",
              "      <td>2.187006</td>\n",
              "      <td>0.615385</td>\n",
              "      <td>03:17</td>\n",
              "    </tr>\n",
              "    <tr>\n",
              "      <td>1</td>\n",
              "      <td>1.444073</td>\n",
              "      <td>2.132725</td>\n",
              "      <td>0.626036</td>\n",
              "      <td>03:06</td>\n",
              "    </tr>\n",
              "  </tbody>\n",
              "</table>"
            ],
            "text/plain": [
              "<IPython.core.display.HTML object>"
            ]
          },
          "metadata": {
            "tags": []
          }
        }
      ]
    },
    {
      "cell_type": "code",
      "metadata": {
        "id": "bIft7W25GwSu",
        "colab_type": "code",
        "colab": {
          "base_uri": "https://localhost:8080/",
          "height": 111
        },
        "outputId": "070c3f3e-363c-451f-e739-dfcf34947778"
      },
      "source": [
        "learn.fit_one_cycle(2, slice(2e-3/100, 2e-3))"
      ],
      "execution_count": 36,
      "outputs": [
        {
          "output_type": "display_data",
          "data": {
            "text/html": [
              "<table border=\"1\" class=\"dataframe\">\n",
              "  <thead>\n",
              "    <tr style=\"text-align: left;\">\n",
              "      <th>epoch</th>\n",
              "      <th>train_loss</th>\n",
              "      <th>valid_loss</th>\n",
              "      <th>accuracy</th>\n",
              "      <th>time</th>\n",
              "    </tr>\n",
              "  </thead>\n",
              "  <tbody>\n",
              "    <tr>\n",
              "      <td>0</td>\n",
              "      <td>1.400051</td>\n",
              "      <td>2.046400</td>\n",
              "      <td>0.640237</td>\n",
              "      <td>03:11</td>\n",
              "    </tr>\n",
              "    <tr>\n",
              "      <td>1</td>\n",
              "      <td>1.257492</td>\n",
              "      <td>2.020310</td>\n",
              "      <td>0.643787</td>\n",
              "      <td>03:13</td>\n",
              "    </tr>\n",
              "  </tbody>\n",
              "</table>"
            ],
            "text/plain": [
              "<IPython.core.display.HTML object>"
            ]
          },
          "metadata": {
            "tags": []
          }
        }
      ]
    },
    {
      "cell_type": "code",
      "metadata": {
        "id": "EEHszVRvGyFt",
        "colab_type": "code",
        "colab": {
          "base_uri": "https://localhost:8080/",
          "height": 111
        },
        "outputId": "068f388f-ad87-4045-8117-cfebbb623f9e"
      },
      "source": [
        "learn.fit_one_cycle(2, slice(2e-3/100, 2e-3))"
      ],
      "execution_count": 37,
      "outputs": [
        {
          "output_type": "display_data",
          "data": {
            "text/html": [
              "<table border=\"1\" class=\"dataframe\">\n",
              "  <thead>\n",
              "    <tr style=\"text-align: left;\">\n",
              "      <th>epoch</th>\n",
              "      <th>train_loss</th>\n",
              "      <th>valid_loss</th>\n",
              "      <th>accuracy</th>\n",
              "      <th>time</th>\n",
              "    </tr>\n",
              "  </thead>\n",
              "  <tbody>\n",
              "    <tr>\n",
              "      <td>0</td>\n",
              "      <td>1.304308</td>\n",
              "      <td>2.052643</td>\n",
              "      <td>0.643787</td>\n",
              "      <td>03:23</td>\n",
              "    </tr>\n",
              "    <tr>\n",
              "      <td>1</td>\n",
              "      <td>1.216717</td>\n",
              "      <td>1.960072</td>\n",
              "      <td>0.649704</td>\n",
              "      <td>03:12</td>\n",
              "    </tr>\n",
              "  </tbody>\n",
              "</table>"
            ],
            "text/plain": [
              "<IPython.core.display.HTML object>"
            ]
          },
          "metadata": {
            "tags": []
          }
        }
      ]
    },
    {
      "cell_type": "code",
      "metadata": {
        "id": "XsHfrhCHG3dN",
        "colab_type": "code",
        "colab": {
          "base_uri": "https://localhost:8080/",
          "height": 173
        },
        "outputId": "b53c9425-af09-4d7b-a063-b0ea8c1ff5a9"
      },
      "source": [
        "learn.fit_one_cycle(4, slice(2e-3/100, 2e-3))"
      ],
      "execution_count": 38,
      "outputs": [
        {
          "output_type": "display_data",
          "data": {
            "text/html": [
              "<table border=\"1\" class=\"dataframe\">\n",
              "  <thead>\n",
              "    <tr style=\"text-align: left;\">\n",
              "      <th>epoch</th>\n",
              "      <th>train_loss</th>\n",
              "      <th>valid_loss</th>\n",
              "      <th>accuracy</th>\n",
              "      <th>time</th>\n",
              "    </tr>\n",
              "  </thead>\n",
              "  <tbody>\n",
              "    <tr>\n",
              "      <td>0</td>\n",
              "      <td>1.186971</td>\n",
              "      <td>1.959486</td>\n",
              "      <td>0.660355</td>\n",
              "      <td>03:34</td>\n",
              "    </tr>\n",
              "    <tr>\n",
              "      <td>1</td>\n",
              "      <td>1.205153</td>\n",
              "      <td>1.923921</td>\n",
              "      <td>0.652071</td>\n",
              "      <td>03:07</td>\n",
              "    </tr>\n",
              "    <tr>\n",
              "      <td>2</td>\n",
              "      <td>1.120521</td>\n",
              "      <td>1.914450</td>\n",
              "      <td>0.657988</td>\n",
              "      <td>03:06</td>\n",
              "    </tr>\n",
              "    <tr>\n",
              "      <td>3</td>\n",
              "      <td>0.997593</td>\n",
              "      <td>1.883250</td>\n",
              "      <td>0.673373</td>\n",
              "      <td>03:23</td>\n",
              "    </tr>\n",
              "  </tbody>\n",
              "</table>"
            ],
            "text/plain": [
              "<IPython.core.display.HTML object>"
            ]
          },
          "metadata": {
            "tags": []
          }
        }
      ]
    },
    {
      "cell_type": "code",
      "metadata": {
        "id": "0Zsd99isb9EQ",
        "colab_type": "code",
        "colab": {
          "base_uri": "https://localhost:8080/",
          "height": 173
        },
        "outputId": "b78e5e27-7e21-4b1b-b5a6-e3f976430c07"
      },
      "source": [
        "learn.fit_one_cycle(4, slice(2e-3/100, 2e-3))"
      ],
      "execution_count": 39,
      "outputs": [
        {
          "output_type": "display_data",
          "data": {
            "text/html": [
              "<table border=\"1\" class=\"dataframe\">\n",
              "  <thead>\n",
              "    <tr style=\"text-align: left;\">\n",
              "      <th>epoch</th>\n",
              "      <th>train_loss</th>\n",
              "      <th>valid_loss</th>\n",
              "      <th>accuracy</th>\n",
              "      <th>time</th>\n",
              "    </tr>\n",
              "  </thead>\n",
              "  <tbody>\n",
              "    <tr>\n",
              "      <td>0</td>\n",
              "      <td>1.005486</td>\n",
              "      <td>1.948077</td>\n",
              "      <td>0.655621</td>\n",
              "      <td>03:18</td>\n",
              "    </tr>\n",
              "    <tr>\n",
              "      <td>1</td>\n",
              "      <td>1.101784</td>\n",
              "      <td>1.887642</td>\n",
              "      <td>0.666272</td>\n",
              "      <td>03:15</td>\n",
              "    </tr>\n",
              "    <tr>\n",
              "      <td>2</td>\n",
              "      <td>0.979889</td>\n",
              "      <td>1.849062</td>\n",
              "      <td>0.671006</td>\n",
              "      <td>03:03</td>\n",
              "    </tr>\n",
              "    <tr>\n",
              "      <td>3</td>\n",
              "      <td>0.921760</td>\n",
              "      <td>1.875913</td>\n",
              "      <td>0.679290</td>\n",
              "      <td>03:35</td>\n",
              "    </tr>\n",
              "  </tbody>\n",
              "</table>"
            ],
            "text/plain": [
              "<IPython.core.display.HTML object>"
            ]
          },
          "metadata": {
            "tags": []
          }
        }
      ]
    },
    {
      "cell_type": "code",
      "metadata": {
        "id": "atNWNKDFPbuI",
        "colab_type": "code",
        "colab": {
          "base_uri": "https://localhost:8080/",
          "height": 173
        },
        "outputId": "3d230973-6bf9-4c21-80dd-90301e00efc4"
      },
      "source": [
        "learn.fit_one_cycle(4, slice(2e-3/100, 2e-3))"
      ],
      "execution_count": 40,
      "outputs": [
        {
          "output_type": "display_data",
          "data": {
            "text/html": [
              "<table border=\"1\" class=\"dataframe\">\n",
              "  <thead>\n",
              "    <tr style=\"text-align: left;\">\n",
              "      <th>epoch</th>\n",
              "      <th>train_loss</th>\n",
              "      <th>valid_loss</th>\n",
              "      <th>accuracy</th>\n",
              "      <th>time</th>\n",
              "    </tr>\n",
              "  </thead>\n",
              "  <tbody>\n",
              "    <tr>\n",
              "      <td>0</td>\n",
              "      <td>0.940112</td>\n",
              "      <td>1.921740</td>\n",
              "      <td>0.666272</td>\n",
              "      <td>03:09</td>\n",
              "    </tr>\n",
              "    <tr>\n",
              "      <td>1</td>\n",
              "      <td>1.010644</td>\n",
              "      <td>1.883823</td>\n",
              "      <td>0.671006</td>\n",
              "      <td>03:06</td>\n",
              "    </tr>\n",
              "    <tr>\n",
              "      <td>2</td>\n",
              "      <td>0.931119</td>\n",
              "      <td>1.844057</td>\n",
              "      <td>0.686391</td>\n",
              "      <td>03:10</td>\n",
              "    </tr>\n",
              "    <tr>\n",
              "      <td>3</td>\n",
              "      <td>0.886041</td>\n",
              "      <td>1.865845</td>\n",
              "      <td>0.687574</td>\n",
              "      <td>03:26</td>\n",
              "    </tr>\n",
              "  </tbody>\n",
              "</table>"
            ],
            "text/plain": [
              "<IPython.core.display.HTML object>"
            ]
          },
          "metadata": {
            "tags": []
          }
        }
      ]
    },
    {
      "cell_type": "code",
      "metadata": {
        "id": "rKrBTZ0T1uVA",
        "colab_type": "code",
        "colab": {
          "base_uri": "https://localhost:8080/",
          "height": 173
        },
        "outputId": "c33bc0e5-a84c-44ec-c775-f894dc94fa84"
      },
      "source": [
        "learn.fit_one_cycle(4, slice(2e-3/100, 2e-3))"
      ],
      "execution_count": 41,
      "outputs": [
        {
          "output_type": "display_data",
          "data": {
            "text/html": [
              "<table border=\"1\" class=\"dataframe\">\n",
              "  <thead>\n",
              "    <tr style=\"text-align: left;\">\n",
              "      <th>epoch</th>\n",
              "      <th>train_loss</th>\n",
              "      <th>valid_loss</th>\n",
              "      <th>accuracy</th>\n",
              "      <th>time</th>\n",
              "    </tr>\n",
              "  </thead>\n",
              "  <tbody>\n",
              "    <tr>\n",
              "      <td>0</td>\n",
              "      <td>0.900668</td>\n",
              "      <td>1.912420</td>\n",
              "      <td>0.659172</td>\n",
              "      <td>03:21</td>\n",
              "    </tr>\n",
              "    <tr>\n",
              "      <td>1</td>\n",
              "      <td>0.966755</td>\n",
              "      <td>1.951520</td>\n",
              "      <td>0.680473</td>\n",
              "      <td>03:15</td>\n",
              "    </tr>\n",
              "    <tr>\n",
              "      <td>2</td>\n",
              "      <td>0.859021</td>\n",
              "      <td>1.860161</td>\n",
              "      <td>0.679290</td>\n",
              "      <td>03:10</td>\n",
              "    </tr>\n",
              "    <tr>\n",
              "      <td>3</td>\n",
              "      <td>0.777564</td>\n",
              "      <td>1.876038</td>\n",
              "      <td>0.689941</td>\n",
              "      <td>03:16</td>\n",
              "    </tr>\n",
              "  </tbody>\n",
              "</table>"
            ],
            "text/plain": [
              "<IPython.core.display.HTML object>"
            ]
          },
          "metadata": {
            "tags": []
          }
        }
      ]
    },
    {
      "cell_type": "code",
      "metadata": {
        "id": "ajQC6WDg1yA9",
        "colab_type": "code",
        "colab": {
          "base_uri": "https://localhost:8080/",
          "height": 173
        },
        "outputId": "31babb43-7e64-4251-ef7c-5439e388617d"
      },
      "source": [
        "learn.fit_one_cycle(4, slice(2e-3/100, 2e-3))"
      ],
      "execution_count": 42,
      "outputs": [
        {
          "output_type": "display_data",
          "data": {
            "text/html": [
              "<table border=\"1\" class=\"dataframe\">\n",
              "  <thead>\n",
              "    <tr style=\"text-align: left;\">\n",
              "      <th>epoch</th>\n",
              "      <th>train_loss</th>\n",
              "      <th>valid_loss</th>\n",
              "      <th>accuracy</th>\n",
              "      <th>time</th>\n",
              "    </tr>\n",
              "  </thead>\n",
              "  <tbody>\n",
              "    <tr>\n",
              "      <td>0</td>\n",
              "      <td>0.853605</td>\n",
              "      <td>1.911546</td>\n",
              "      <td>0.681657</td>\n",
              "      <td>03:22</td>\n",
              "    </tr>\n",
              "    <tr>\n",
              "      <td>1</td>\n",
              "      <td>0.892235</td>\n",
              "      <td>1.905231</td>\n",
              "      <td>0.679290</td>\n",
              "      <td>03:10</td>\n",
              "    </tr>\n",
              "    <tr>\n",
              "      <td>2</td>\n",
              "      <td>0.866442</td>\n",
              "      <td>1.908432</td>\n",
              "      <td>0.691124</td>\n",
              "      <td>03:16</td>\n",
              "    </tr>\n",
              "    <tr>\n",
              "      <td>3</td>\n",
              "      <td>0.765000</td>\n",
              "      <td>1.873085</td>\n",
              "      <td>0.698225</td>\n",
              "      <td>03:25</td>\n",
              "    </tr>\n",
              "  </tbody>\n",
              "</table>"
            ],
            "text/plain": [
              "<IPython.core.display.HTML object>"
            ]
          },
          "metadata": {
            "tags": []
          }
        }
      ]
    },
    {
      "cell_type": "code",
      "metadata": {
        "id": "KKydb0B4BKGk",
        "colab_type": "code",
        "colab": {
          "base_uri": "https://localhost:8080/",
          "height": 173
        },
        "outputId": "c38c3a62-3033-453d-d109-179c34f24818"
      },
      "source": [
        "learn.fit_one_cycle(4, slice(2e-3/100, 2e-3))"
      ],
      "execution_count": 43,
      "outputs": [
        {
          "output_type": "display_data",
          "data": {
            "text/html": [
              "<table border=\"1\" class=\"dataframe\">\n",
              "  <thead>\n",
              "    <tr style=\"text-align: left;\">\n",
              "      <th>epoch</th>\n",
              "      <th>train_loss</th>\n",
              "      <th>valid_loss</th>\n",
              "      <th>accuracy</th>\n",
              "      <th>time</th>\n",
              "    </tr>\n",
              "  </thead>\n",
              "  <tbody>\n",
              "    <tr>\n",
              "      <td>0</td>\n",
              "      <td>0.813538</td>\n",
              "      <td>1.918284</td>\n",
              "      <td>0.685207</td>\n",
              "      <td>03:15</td>\n",
              "    </tr>\n",
              "    <tr>\n",
              "      <td>1</td>\n",
              "      <td>0.885915</td>\n",
              "      <td>1.895674</td>\n",
              "      <td>0.688757</td>\n",
              "      <td>03:16</td>\n",
              "    </tr>\n",
              "    <tr>\n",
              "      <td>2</td>\n",
              "      <td>0.829091</td>\n",
              "      <td>1.859497</td>\n",
              "      <td>0.692308</td>\n",
              "      <td>03:17</td>\n",
              "    </tr>\n",
              "    <tr>\n",
              "      <td>3</td>\n",
              "      <td>0.802937</td>\n",
              "      <td>1.854686</td>\n",
              "      <td>0.697041</td>\n",
              "      <td>03:11</td>\n",
              "    </tr>\n",
              "  </tbody>\n",
              "</table>"
            ],
            "text/plain": [
              "<IPython.core.display.HTML object>"
            ]
          },
          "metadata": {
            "tags": []
          }
        }
      ]
    },
    {
      "cell_type": "code",
      "metadata": {
        "id": "T2APKtFKBpGY",
        "colab_type": "code",
        "colab": {
          "base_uri": "https://localhost:8080/",
          "height": 173
        },
        "outputId": "4cf49f69-1e71-4c5e-cea4-5d85f8417d5c"
      },
      "source": [
        "learn.fit_one_cycle(4, slice(2e-3/100, 2e-3))"
      ],
      "execution_count": 44,
      "outputs": [
        {
          "output_type": "display_data",
          "data": {
            "text/html": [
              "<table border=\"1\" class=\"dataframe\">\n",
              "  <thead>\n",
              "    <tr style=\"text-align: left;\">\n",
              "      <th>epoch</th>\n",
              "      <th>train_loss</th>\n",
              "      <th>valid_loss</th>\n",
              "      <th>accuracy</th>\n",
              "      <th>time</th>\n",
              "    </tr>\n",
              "  </thead>\n",
              "  <tbody>\n",
              "    <tr>\n",
              "      <td>0</td>\n",
              "      <td>0.775083</td>\n",
              "      <td>1.948982</td>\n",
              "      <td>0.689941</td>\n",
              "      <td>03:11</td>\n",
              "    </tr>\n",
              "    <tr>\n",
              "      <td>1</td>\n",
              "      <td>0.871352</td>\n",
              "      <td>1.965104</td>\n",
              "      <td>0.686391</td>\n",
              "      <td>03:19</td>\n",
              "    </tr>\n",
              "    <tr>\n",
              "      <td>2</td>\n",
              "      <td>0.828124</td>\n",
              "      <td>1.864363</td>\n",
              "      <td>0.687574</td>\n",
              "      <td>03:15</td>\n",
              "    </tr>\n",
              "    <tr>\n",
              "      <td>3</td>\n",
              "      <td>0.761125</td>\n",
              "      <td>1.880826</td>\n",
              "      <td>0.688757</td>\n",
              "      <td>03:12</td>\n",
              "    </tr>\n",
              "  </tbody>\n",
              "</table>"
            ],
            "text/plain": [
              "<IPython.core.display.HTML object>"
            ]
          },
          "metadata": {
            "tags": []
          }
        }
      ]
    },
    {
      "cell_type": "code",
      "metadata": {
        "id": "qtTypA1sPgLU",
        "colab_type": "code",
        "colab": {
          "base_uri": "https://localhost:8080/",
          "height": 111
        },
        "outputId": "3aa1f51b-ef6b-4e2f-ae7b-5d2185bdb7b5"
      },
      "source": [
        "learn.fit_one_cycle(2, slice(2e-3/100, 2e-3))"
      ],
      "execution_count": 45,
      "outputs": [
        {
          "output_type": "display_data",
          "data": {
            "text/html": [
              "<table border=\"1\" class=\"dataframe\">\n",
              "  <thead>\n",
              "    <tr style=\"text-align: left;\">\n",
              "      <th>epoch</th>\n",
              "      <th>train_loss</th>\n",
              "      <th>valid_loss</th>\n",
              "      <th>accuracy</th>\n",
              "      <th>time</th>\n",
              "    </tr>\n",
              "  </thead>\n",
              "  <tbody>\n",
              "    <tr>\n",
              "      <td>0</td>\n",
              "      <td>0.840950</td>\n",
              "      <td>1.930882</td>\n",
              "      <td>0.698225</td>\n",
              "      <td>03:16</td>\n",
              "    </tr>\n",
              "    <tr>\n",
              "      <td>1</td>\n",
              "      <td>0.811276</td>\n",
              "      <td>1.862968</td>\n",
              "      <td>0.701775</td>\n",
              "      <td>03:13</td>\n",
              "    </tr>\n",
              "  </tbody>\n",
              "</table>"
            ],
            "text/plain": [
              "<IPython.core.display.HTML object>"
            ]
          },
          "metadata": {
            "tags": []
          }
        }
      ]
    },
    {
      "cell_type": "code",
      "metadata": {
        "id": "b242kBsTUp9Y",
        "colab_type": "code",
        "colab": {
          "base_uri": "https://localhost:8080/",
          "height": 111
        },
        "outputId": "f8c95d00-2f9d-446b-caeb-59740bf103ad"
      },
      "source": [
        "learn.fit_one_cycle(2, slice(2e-3/100, 2e-3))"
      ],
      "execution_count": 46,
      "outputs": [
        {
          "output_type": "display_data",
          "data": {
            "text/html": [
              "<table border=\"1\" class=\"dataframe\">\n",
              "  <thead>\n",
              "    <tr style=\"text-align: left;\">\n",
              "      <th>epoch</th>\n",
              "      <th>train_loss</th>\n",
              "      <th>valid_loss</th>\n",
              "      <th>accuracy</th>\n",
              "      <th>time</th>\n",
              "    </tr>\n",
              "  </thead>\n",
              "  <tbody>\n",
              "    <tr>\n",
              "      <td>0</td>\n",
              "      <td>0.791361</td>\n",
              "      <td>1.908027</td>\n",
              "      <td>0.689941</td>\n",
              "      <td>03:23</td>\n",
              "    </tr>\n",
              "    <tr>\n",
              "      <td>1</td>\n",
              "      <td>0.853571</td>\n",
              "      <td>1.945982</td>\n",
              "      <td>0.689941</td>\n",
              "      <td>03:16</td>\n",
              "    </tr>\n",
              "  </tbody>\n",
              "</table>"
            ],
            "text/plain": [
              "<IPython.core.display.HTML object>"
            ]
          },
          "metadata": {
            "tags": []
          }
        }
      ]
    },
    {
      "cell_type": "code",
      "metadata": {
        "id": "Duwf1Ih5VeDZ",
        "colab_type": "code",
        "colab": {
          "base_uri": "https://localhost:8080/",
          "height": 80
        },
        "outputId": "2edf785c-948d-4c8c-c06d-014677ada928"
      },
      "source": [
        "learn.fit_one_cycle(1, slice(2e-3/100, 2e-3))"
      ],
      "execution_count": 47,
      "outputs": [
        {
          "output_type": "display_data",
          "data": {
            "text/html": [
              "<table border=\"1\" class=\"dataframe\">\n",
              "  <thead>\n",
              "    <tr style=\"text-align: left;\">\n",
              "      <th>epoch</th>\n",
              "      <th>train_loss</th>\n",
              "      <th>valid_loss</th>\n",
              "      <th>accuracy</th>\n",
              "      <th>time</th>\n",
              "    </tr>\n",
              "  </thead>\n",
              "  <tbody>\n",
              "    <tr>\n",
              "      <td>0</td>\n",
              "      <td>0.780795</td>\n",
              "      <td>1.902882</td>\n",
              "      <td>0.684024</td>\n",
              "      <td>03:05</td>\n",
              "    </tr>\n",
              "  </tbody>\n",
              "</table>"
            ],
            "text/plain": [
              "<IPython.core.display.HTML object>"
            ]
          },
          "metadata": {
            "tags": []
          }
        }
      ]
    },
    {
      "cell_type": "code",
      "metadata": {
        "id": "c65d-osfDUXm",
        "colab_type": "code",
        "colab": {}
      },
      "source": [
        "# save the best model\n",
        "\n",
        "learn.save_encoder('tuning_pubmed_bigtweet_overlap_0_last')"
      ],
      "execution_count": 0,
      "outputs": []
    },
    {
      "cell_type": "markdown",
      "metadata": {
        "id": "rCwZU0E2RgM6",
        "colab_type": "text"
      },
      "source": [
        "# Part three: Predict on the test dataset"
      ]
    },
    {
      "cell_type": "code",
      "metadata": {
        "id": "gDm72c-dOu7d",
        "colab_type": "code",
        "colab": {
          "base_uri": "https://localhost:8080/",
          "height": 17
        },
        "outputId": "e0dfd0aa-516d-4dd8-f15d-b15ac3f7cae0"
      },
      "source": [
        "# use the test data for prediction\n",
        "\n",
        "preds, y = learn.get_preds(DatasetType.Test)"
      ],
      "execution_count": 49,
      "outputs": [
        {
          "output_type": "display_data",
          "data": {
            "text/html": [
              ""
            ],
            "text/plain": [
              "<IPython.core.display.HTML object>"
            ]
          },
          "metadata": {
            "tags": []
          }
        }
      ]
    },
    {
      "cell_type": "code",
      "metadata": {
        "id": "6tFSQcsWPvxn",
        "colab_type": "code",
        "colab": {
          "base_uri": "https://localhost:8080/",
          "height": 105
        },
        "outputId": "6efe6fb0-0836-4f9e-e652-96ead7ea1a68"
      },
      "source": [
        "predictions, *_ = learn.get_preds(DatasetType.Test)\n",
        "labels = np.argmax(predictions, 1)\n",
        "predict_list = labels.tolist()\n",
        "standard_list = test[0].tolist()\n",
        "\n",
        "print(len(predict_list))\n",
        "print(len(standard_list))\n",
        "\n",
        "print(predict_list)\n",
        "print(standard_list)"
      ],
      "execution_count": 50,
      "outputs": [
        {
          "output_type": "display_data",
          "data": {
            "text/html": [
              ""
            ],
            "text/plain": [
              "<IPython.core.display.HTML object>"
            ]
          },
          "metadata": {
            "tags": []
          }
        },
        {
          "output_type": "stream",
          "text": [
            "764\n",
            "764\n",
            "[840, 723, 122, 475, 5, 1026, 1026, 8, 8, 901, 10, 623, 5, 723, 579, 27, 427, 27, 491, 76, 182, 30, 32, 426, 704, 37, 218, 4, 260, 304, 644, 644, 49, 377, 49, 49, 49, 49, 49, 245, 113, 61, 182, 374, 454, 470, 76, 76, 265, 228, 817, 817, 182, 260, 260, 260, 260, 260, 260, 260, 260, 260, 260, 289, 111, 289, 817, 80, 80, 359, 89, 627, 377, 517, 94, 94, 826, 135, 840, 98, 492, 98, 630, 644, 666, 100, 100, 100, 100, 378, 49, 291, 214, 107, 88, 88, 636, 454, 313, 111, 111, 454, 111, 111, 111, 111, 111, 218, 142, 987, 817, 125, 125, 125, 817, 125, 127, 579, 129, 129, 289, 312, 307, 142, 144, 473, 415, 182, 344, 782, 517, 165, 194, 166, 168, 298, 454, 742, 182, 260, 182, 289, 190, 183, 183, 183, 187, 817, 817, 817, 189, 380, 190, 190, 190, 190, 190, 190, 190, 190, 105, 197, 34, 214, 214, 214, 589, 245, 2, 210, 210, 210, 210, 210, 188, 197, 817, 624, 896, 214, 841, 214, 265, 817, 817, 218, 220, 220, 636, 228, 228, 289, 228, 228, 228, 228, 544, 541, 234, 235, 337, 265, 386, 817, 817, 238, 187, 187, 817, 817, 817, 243, 817, 817, 817, 117, 840, 817, 245, 243, 470, 173, 841, 846, 246, 298, 817, 817, 715, 259, 289, 289, 817, 289, 419, 265, 214, 265, 265, 265, 265, 265, 260, 265, 265, 265, 265, 11, 86, 268, 627, 470, 475, 289, 847, 283, 409, 877, 260, 860, 289, 289, 289, 265, 289, 289, 289, 289, 260, 289, 289, 289, 289, 289, 289, 289, 289, 289, 289, 289, 289, 289, 289, 289, 289, 289, 289, 364, 260, 291, 211, 95, 877, 805, 714, 620, 780, 265, 343, 189, 762, 418, 309, 309, 864, 309, 749, 642, 359, 79, 521, 597, 202, 231, 321, 321, 817, 301, 301, 301, 301, 301, 301, 359, 201, 122, 61, 304, 333, 334, 334, 577, 337, 337, 337, 337, 214, 5, 127, 343, 343, 343, 364, 318, 517, 769, 896, 359, 359, 359, 431, 359, 360, 360, 896, 245, 364, 893, 817, 387, 427, 391, 817, 817, 418, 402, 402, 817, 408, 268, 415, 817, 419, 419, 471, 289, 76, 419, 419, 817, 454, 426, 426, 454, 597, 427, 624, 597, 427, 427, 427, 427, 49, 591, 427, 736, 430, 903, 238, 435, 438, 441, 391, 444, 444, 391, 446, 94, 111, 228, 111, 473, 325, 475, 475, 475, 817, 817, 817, 475, 479, 76, 644, 744, 694, 491, 279, 173, 326, 491, 423, 82, 491, 817, 491, 492, 291, 499, 26, 711, 9, 318, 836, 516, 454, 817, 517, 521, 521, 817, 382, 530, 530, 492, 298, 541, 491, 480, 291, 545, 27, 817, 817, 111, 111, 88, 475, 491, 565, 610, 567, 775, 427, 577, 265, 245, 265, 896, 896, 579, 579, 579, 579, 584, 185, 289, 325, 591, 359, 325, 475, 97, 97, 595, 595, 427, 437, 491, 190, 704, 289, 136, 321, 817, 364, 205, 368, 817, 623, 318, 624, 633, 633, 633, 637, 210, 840, 245, 245, 577, 250, 173, 652, 652, 636, 652, 291, 386, 386, 265, 491, 662, 662, 491, 665, 437, 694, 679, 706, 491, 402, 470, 289, 454, 185, 746, 216, 698, 289, 172, 172, 245, 289, 289, 236, 364, 337, 293, 265, 579, 531, 644, 707, 707, 210, 711, 97, 728, 111, 638, 775, 96, 510, 210, 79, 254, 579, 741, 210, 289, 289, 746, 746, 291, 746, 749, 753, 454, 182, 238, 180, 298, 337, 202, 166, 524, 774, 775, 301, 100, 775, 775, 775, 775, 775, 815, 359, 454, 455, 553, 127, 359, 187, 646, 817, 804, 817, 359, 805, 200, 808, 408, 531, 809, 809, 809, 810, 666, 575, 810, 517, 815, 252, 824, 245, 826, 381, 0, 110, 817, 830, 830, 817, 817, 831, 817, 840, 129, 840, 245, 454, 71, 847, 847, 317, 847, 806, 49, 785, 785, 2, 864, 111, 864, 364, 864, 865, 662, 190, 426, 868, 252, 238, 210, 577, 877, 711, 882, 728, 368, 364, 391, 893, 415, 896, 896, 896, 58, 197, 898, 96, 117, 363, 817, 812, 466, 212, 994, 817, 817, 817, 817, 454, 933, 62, 817, 937, 937, 949, 949, 949, 949, 949, 949, 949, 949, 949, 949, 949, 949, 949, 949, 949, 949, 949, 949, 949, 949, 949, 949, 949, 949, 949, 949, 949, 949, 949, 454, 817, 817, 952, 955, 817, 956, 1026, 925, 817, 454, 454, 644, 817, 194, 1028, 925, 1020, 1020, 143, 817, 1028, 1028, 1029, 1029, 817, 1035]\n",
            "[0, 3, 4, 5, 5, 7, 8, 8, 8, 9, 10, 14, 18, 19, 22, 27, 28, 28, 29, 30, 30, 30, 32, 34, 37, 37, 38, 40, 41, 47, 49, 49, 49, 49, 49, 49, 49, 49, 49, 50, 53, 61, 70, 71, 71, 71, 76, 76, 77, 77, 79, 79, 79, 79, 79, 79, 79, 79, 79, 79, 79, 79, 79, 79, 79, 79, 79, 80, 80, 82, 89, 89, 90, 93, 94, 94, 94, 94, 96, 98, 98, 98, 99, 100, 100, 100, 100, 100, 100, 100, 100, 101, 102, 107, 108, 108, 109, 110, 111, 111, 111, 111, 111, 111, 111, 111, 111, 119, 120, 122, 125, 125, 125, 125, 125, 125, 127, 129, 129, 129, 129, 132, 138, 142, 144, 150, 150, 153, 157, 157, 163, 165, 166, 166, 168, 170, 172, 180, 182, 182, 182, 182, 182, 183, 183, 183, 187, 187, 187, 189, 189, 190, 190, 190, 190, 190, 190, 190, 190, 190, 193, 197, 197, 197, 197, 197, 204, 205, 205, 210, 210, 210, 210, 210, 211, 214, 214, 214, 214, 214, 214, 214, 214, 216, 218, 218, 220, 220, 228, 228, 228, 228, 228, 228, 228, 228, 229, 231, 234, 235, 236, 236, 238, 238, 238, 238, 240, 240, 243, 243, 243, 243, 243, 243, 244, 245, 245, 245, 245, 245, 245, 245, 245, 245, 246, 246, 249, 254, 254, 259, 260, 260, 261, 265, 265, 265, 265, 265, 265, 265, 265, 265, 265, 265, 265, 265, 265, 266, 268, 268, 268, 270, 272, 281, 282, 283, 286, 288, 289, 289, 289, 289, 289, 289, 289, 289, 289, 289, 289, 289, 289, 289, 289, 289, 289, 289, 289, 289, 289, 289, 289, 289, 289, 289, 289, 289, 289, 289, 289, 291, 293, 294, 295, 299, 299, 301, 301, 301, 301, 304, 304, 309, 309, 309, 309, 309, 317, 318, 318, 318, 318, 318, 320, 320, 321, 321, 323, 325, 325, 325, 325, 325, 325, 325, 325, 326, 327, 330, 333, 334, 334, 337, 337, 337, 337, 337, 337, 338, 343, 343, 343, 343, 345, 346, 347, 350, 351, 359, 359, 359, 359, 359, 360, 360, 363, 364, 364, 365, 380, 387, 388, 392, 394, 396, 402, 402, 402, 408, 408, 413, 415, 416, 419, 419, 419, 419, 419, 419, 419, 424, 424, 426, 426, 426, 427, 427, 427, 427, 427, 427, 427, 427, 427, 427, 427, 428, 430, 433, 434, 435, 438, 441, 443, 444, 444, 444, 446, 453, 461, 462, 465, 473, 473, 475, 475, 475, 476, 476, 476, 477, 479, 479, 481, 482, 483, 486, 487, 487, 488, 491, 491, 491, 491, 491, 491, 492, 493, 499, 505, 505, 506, 509, 514, 516, 517, 517, 517, 521, 521, 527, 529, 530, 530, 531, 531, 541, 542, 543, 543, 545, 546, 548, 548, 549, 549, 554, 561, 561, 565, 566, 567, 571, 575, 577, 577, 577, 577, 578, 578, 579, 579, 579, 579, 584, 586, 588, 590, 591, 591, 591, 591, 594, 594, 595, 595, 596, 598, 598, 604, 606, 606, 607, 609, 611, 614, 614, 617, 619, 623, 623, 624, 633, 633, 633, 637, 638, 640, 646, 648, 648, 648, 651, 652, 652, 652, 654, 659, 659, 659, 660, 662, 662, 662, 663, 663, 663, 664, 669, 677, 681, 683, 686, 686, 686, 687, 689, 693, 698, 700, 700, 701, 701, 702, 702, 702, 702, 703, 703, 704, 704, 705, 705, 707, 707, 710, 711, 715, 716, 718, 723, 727, 730, 731, 733, 738, 739, 741, 741, 741, 741, 741, 746, 746, 746, 746, 749, 753, 753, 756, 761, 763, 765, 766, 767, 770, 771, 774, 775, 775, 775, 775, 775, 775, 775, 775, 782, 784, 787, 787, 788, 794, 794, 798, 800, 803, 804, 804, 805, 805, 807, 808, 809, 809, 809, 809, 809, 810, 810, 810, 810, 813, 815, 816, 824, 826, 826, 827, 828, 829, 830, 830, 830, 830, 830, 831, 834, 840, 840, 840, 840, 844, 846, 847, 847, 847, 847, 847, 847, 852, 852, 861, 864, 864, 864, 864, 864, 865, 865, 865, 867, 868, 871, 874, 876, 876, 877, 877, 882, 883, 888, 889, 892, 893, 894, 896, 896, 896, 896, 896, 898, 902, 903, 903, 905, 906, 908, 916, 917, 920, 926, 929, 931, 932, 933, 933, 936, 937, 937, 949, 949, 949, 949, 949, 949, 949, 949, 949, 949, 949, 949, 949, 949, 949, 949, 949, 949, 949, 949, 949, 949, 949, 949, 949, 949, 949, 949, 949, 949, 949, 949, 952, 955, 955, 956, 966, 967, 969, 994, 994, 1000, 1001, 1002, 1011, 1019, 1020, 1020, 1026, 1026, 1028, 1028, 1029, 1029, 1030, 1035]\n"
          ],
          "name": "stdout"
        }
      ]
    },
    {
      "cell_type": "code",
      "metadata": {
        "id": "XIC4zufnMxtq",
        "colab_type": "code",
        "colab": {
          "base_uri": "https://localhost:8080/",
          "height": 51
        },
        "outputId": "90ad97a1-5ccc-4515-ca9a-04b102dafff8"
      },
      "source": [
        "correct_num = 0\n",
        "\n",
        "for i in range(0, len(standard_list)):\n",
        "  if predict_list[i] == standard_list[i]:\n",
        "    correct_num = correct_num+1\n",
        "  else:\n",
        "    pass\n",
        "print(correct_num)\n",
        "\n",
        "predict_accuracy = correct_num/len(predict_list)\n",
        "print(predict_accuracy)"
      ],
      "execution_count": 51,
      "outputs": [
        {
          "output_type": "stream",
          "text": [
            "300\n",
            "0.39267015706806285\n"
          ],
          "name": "stdout"
        }
      ]
    }
  ]
}