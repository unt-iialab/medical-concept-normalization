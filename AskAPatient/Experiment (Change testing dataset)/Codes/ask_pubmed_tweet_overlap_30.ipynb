{
  "nbformat": 4,
  "nbformat_minor": 0,
  "metadata": {
    "colab": {
      "name": "ask_pubmed_tweet_overlap_30.ipynb",
      "provenance": [],
      "collapsed_sections": [],
      "toc_visible": true,
      "include_colab_link": true
    },
    "kernelspec": {
      "name": "python3",
      "display_name": "Python 3"
    },
    "accelerator": "TPU"
  },
  "cells": [
    {
      "cell_type": "markdown",
      "metadata": {
        "id": "view-in-github",
        "colab_type": "text"
      },
      "source": [
        "<a href=\"https://colab.research.google.com/github/unt-iialab/medical-concept-normalization/blob/master/AskAPatient/Experiment%20(Change%20testing%20dataset)/Codes/ask_pubmed_tweet_overlap_30.ipynb\" target=\"_parent\"><img src=\"https://colab.research.google.com/assets/colab-badge.svg\" alt=\"Open In Colab\"/></a>"
      ]
    },
    {
      "cell_type": "code",
      "metadata": {
        "id": "adSi6i2-dWxy",
        "colab_type": "code",
        "colab": {}
      },
      "source": [
        "import os"
      ],
      "execution_count": 0,
      "outputs": []
    },
    {
      "cell_type": "code",
      "metadata": {
        "id": "E7xYCRGPjd9B",
        "colab_type": "code",
        "colab": {}
      },
      "source": [
        "base_dir = 'medical-concept-normalization'"
      ],
      "execution_count": 0,
      "outputs": []
    },
    {
      "cell_type": "code",
      "metadata": {
        "id": "yvIW3aUDjYNS",
        "colab_type": "code",
        "colab": {}
      },
      "source": [
        "if os.path.exists('medical-concept-normalization'):\n",
        "  print('folder exist')\n",
        "else:\n",
        "  os.mkdir(base_dir)"
      ],
      "execution_count": 0,
      "outputs": []
    },
    {
      "cell_type": "code",
      "metadata": {
        "id": "es-FFLlfk6SG",
        "colab_type": "code",
        "colab": {}
      },
      "source": [
        "if os.path.exists('medical-concept-normalization/data_collection'):\n",
        "  print('folder exist')\n",
        "else:\n",
        "  os.mkdir('medical-concept-normalization/data_collection')"
      ],
      "execution_count": 0,
      "outputs": []
    },
    {
      "cell_type": "markdown",
      "metadata": {
        "id": "0R-Guw_VoJXm",
        "colab_type": "text"
      },
      "source": [
        "**Install fastai and clone the fastai for text classification**\n",
        "\n"
      ]
    },
    {
      "cell_type": "code",
      "metadata": {
        "id": "QVZa3Z0PmHFH",
        "colab_type": "code",
        "outputId": "20daf2c2-92fe-4002-cfe2-8af331ff298b",
        "colab": {
          "base_uri": "https://localhost:8080/",
          "height": 88
        }
      },
      "source": [
        "!curl https://course-v3.fast.ai/setup/colab | bash"
      ],
      "execution_count": 5,
      "outputs": [
        {
          "output_type": "stream",
          "text": [
            "  % Total    % Received % Xferd  Average Speed   Time    Time     Time  Current\n",
            "                                 Dload  Upload   Total   Spent    Left  Speed\n",
            "\r  0     0    0     0    0     0      0      0 --:--:-- --:--:-- --:--:--     0curl: (6) Could not resolve host: course-v3.fast.ai\n"
          ],
          "name": "stdout"
        }
      ]
    },
    {
      "cell_type": "code",
      "metadata": {
        "id": "_FBFFEBrmJC0",
        "colab_type": "code",
        "outputId": "e6032ad2-e4e7-4349-90b9-ad0c7ae13621",
        "colab": {
          "base_uri": "https://localhost:8080/",
          "height": 85
        }
      },
      "source": [
        "!git clone https://github.com/wshuyi/demo-nlp-classification-fastai.git"
      ],
      "execution_count": 6,
      "outputs": [
        {
          "output_type": "stream",
          "text": [
            "Cloning into 'demo-nlp-classification-fastai'...\n",
            "remote: Enumerating objects: 9, done.\u001b[K\n",
            "remote: Total 9 (delta 0), reused 0 (delta 0), pack-reused 9\u001b[K\n",
            "Unpacking objects: 100% (9/9), done.\n"
          ],
          "name": "stdout"
        }
      ]
    },
    {
      "cell_type": "code",
      "metadata": {
        "id": "66zfh_JqmWMU",
        "colab_type": "code",
        "colab": {}
      },
      "source": [
        "from fastai import *\n",
        "from fastai.text import *"
      ],
      "execution_count": 0,
      "outputs": []
    },
    {
      "cell_type": "markdown",
      "metadata": {
        "id": "mNIw-yALdBU9",
        "colab_type": "text"
      },
      "source": [
        "**Set the path of the data collections**"
      ]
    },
    {
      "cell_type": "code",
      "metadata": {
        "id": "pzH7VMh4mqCL",
        "colab_type": "code",
        "colab": {}
      },
      "source": [
        "path = Path('medical-concept-normalization/data_collection')"
      ],
      "execution_count": 0,
      "outputs": []
    },
    {
      "cell_type": "code",
      "metadata": {
        "id": "r8cdqCa-Oeog",
        "colab_type": "code",
        "colab": {}
      },
      "source": [
        "# datasets\n",
        "\n",
        "train_csv = 'https://raw.githubusercontent.com/unt-iialab/medical-concept-normalization/master/AskAPatient/Experiment%20(Change%20testing%20dataset)/Training%20set/AskAPatient.fold-0.train.csv'\n",
        "valid_csv = 'https://raw.githubusercontent.com/unt-iialab/medical-concept-normalization/master/AskAPatient/Experiment%20(Change%20testing%20dataset)/Validation%20set/AskAPatient.fold-0.validation.csv'\n",
        "test_csv = 'https://raw.githubusercontent.com/unt-iialab/medical-concept-normalization/master/AskAPatient/Experiment%20(Change%20testing%20dataset)/Testing%20set/AskAPatient_overlap_30.csv'\n",
        "fine_tuning_data = 'fine_tuning_language_model_pubmed_bigtweet_mixed.csv'"
      ],
      "execution_count": 0,
      "outputs": []
    },
    {
      "cell_type": "code",
      "metadata": {
        "id": "b8fjI6yyn4aS",
        "colab_type": "code",
        "outputId": "3da42e47-fbbb-4414-e80d-ec9b304c33a9",
        "colab": {
          "base_uri": "https://localhost:8080/",
          "height": 119
        }
      },
      "source": [
        "# training data set\n",
        "train = pd.read_csv(train_csv, header=None)\n",
        "print(train.head())\n",
        "\n",
        "# validating data set\n",
        "valid = pd.read_csv(valid_csv,header=None)\n",
        "# valid.head()\n",
        "\n",
        "# testing data set\n",
        "test = pd.read_csv(test_csv,header=None)\n",
        "# test.head()"
      ],
      "execution_count": 10,
      "outputs": [
        {
          "output_type": "stream",
          "text": [
            "   0                1\n",
            "0  0             Fear\n",
            "1  0             Fear\n",
            "2  0             Fear\n",
            "3  0  scared to death\n",
            "4  1   Abdominal rash\n"
          ],
          "name": "stdout"
        }
      ]
    },
    {
      "cell_type": "code",
      "metadata": {
        "id": "Vo-YNvVYoaH6",
        "colab_type": "code",
        "outputId": "b09fa22d-4957-4437-a663-458aeb766b4c",
        "colab": {
          "base_uri": "https://localhost:8080/",
          "height": 17
        }
      },
      "source": [
        "# Creating DataBunch for language modelling\n",
        "data_lm = TextLMDataBunch.from_csv(path, fine_tuning_data)"
      ],
      "execution_count": 12,
      "outputs": [
        {
          "output_type": "display_data",
          "data": {
            "text/html": [
              ""
            ],
            "text/plain": [
              "<IPython.core.display.HTML object>"
            ]
          },
          "metadata": {
            "tags": []
          }
        },
        {
          "output_type": "display_data",
          "data": {
            "text/html": [
              ""
            ],
            "text/plain": [
              "<IPython.core.display.HTML object>"
            ]
          },
          "metadata": {
            "tags": []
          }
        }
      ]
    },
    {
      "cell_type": "code",
      "metadata": {
        "id": "1ScY9afDsnvE",
        "colab_type": "code",
        "colab": {}
      },
      "source": [
        "# Creating DataBunch for classification\n",
        "\n",
        "# data_clas = TextClasDataBunch.from_df(path, train, valid, test, vocab=data_lm.train_ds.vocab, bs=128)"
      ],
      "execution_count": 0,
      "outputs": []
    },
    {
      "cell_type": "code",
      "metadata": {
        "id": "gzrSdQcvey9p",
        "colab_type": "code",
        "outputId": "d5ab7d12-42c5-46de-a72b-bc67e3c02c18",
        "colab": {
          "base_uri": "https://localhost:8080/",
          "height": 17
        }
      },
      "source": [
        "data_clas = TextClasDataBunch.from_df(path, train, valid, vocab=data_lm.train_ds.vocab, bs=128)"
      ],
      "execution_count": 14,
      "outputs": [
        {
          "output_type": "display_data",
          "data": {
            "text/html": [
              ""
            ],
            "text/plain": [
              "<IPython.core.display.HTML object>"
            ]
          },
          "metadata": {
            "tags": []
          }
        },
        {
          "output_type": "display_data",
          "data": {
            "text/html": [
              ""
            ],
            "text/plain": [
              "<IPython.core.display.HTML object>"
            ]
          },
          "metadata": {
            "tags": []
          }
        }
      ]
    },
    {
      "cell_type": "code",
      "metadata": {
        "id": "MD27Tf0Ke3ou",
        "colab_type": "code",
        "outputId": "4cf84b96-3dc9-4110-9980-796af2868555",
        "colab": {
          "base_uri": "https://localhost:8080/",
          "height": 17
        }
      },
      "source": [
        "data_clas.add_test(test,label=0)"
      ],
      "execution_count": 15,
      "outputs": [
        {
          "output_type": "display_data",
          "data": {
            "text/html": [
              ""
            ],
            "text/plain": [
              "<IPython.core.display.HTML object>"
            ]
          },
          "metadata": {
            "tags": []
          }
        }
      ]
    },
    {
      "cell_type": "code",
      "metadata": {
        "id": "-dpjnk_rstwk",
        "colab_type": "code",
        "colab": {}
      },
      "source": [
        "data_lm.save()\n",
        "data_clas.save()"
      ],
      "execution_count": 0,
      "outputs": []
    },
    {
      "cell_type": "code",
      "metadata": {
        "id": "4OkiJa36sw5s",
        "colab_type": "code",
        "outputId": "ea30afe0-fe5c-4953-bf7c-f19f888a164d",
        "colab": {
          "base_uri": "https://localhost:8080/",
          "height": 1000
        }
      },
      "source": [
        "data_lm.train_ds.vocab.itos"
      ],
      "execution_count": 17,
      "outputs": [
        {
          "output_type": "execute_result",
          "data": {
            "text/plain": [
              "['xxunk',\n",
              " 'xxpad',\n",
              " 'xxbos',\n",
              " 'xxeos',\n",
              " 'xxfld',\n",
              " 'xxmaj',\n",
              " 'xxup',\n",
              " 'xxrep',\n",
              " 'xxwrep',\n",
              " 'the',\n",
              " 'of',\n",
              " 'and',\n",
              " 'in',\n",
              " 'to',\n",
              " 'a',\n",
              " 'for',\n",
              " 'with',\n",
              " 'diclofenac',\n",
              " 'was',\n",
              " 'were',\n",
              " 'on',\n",
              " 'is',\n",
              " 'rt',\n",
              " 'sodium',\n",
              " 'by',\n",
              " 'that',\n",
              " 'as',\n",
              " 'at',\n",
              " 'patients',\n",
              " 'or',\n",
              " 'this',\n",
              " 'from',\n",
              " 'drug',\n",
              " 'you',\n",
              " 'i',\n",
              " 'be',\n",
              " 'mg',\n",
              " 'group',\n",
              " 'study',\n",
              " 'disease',\n",
              " 'are',\n",
              " 'treatment',\n",
              " 'not',\n",
              " 'pain',\n",
              " 'after',\n",
              " 'an',\n",
              " 'it',\n",
              " 'amp',\n",
              " 'release',\n",
              " 'have',\n",
              " 'p',\n",
              " 'gluten',\n",
              " 'we',\n",
              " 'free',\n",
              " 'than',\n",
              " 'effect',\n",
              " 'all',\n",
              " 'no',\n",
              " 'compared',\n",
              " 'new',\n",
              " 'using',\n",
              " 'more',\n",
              " 'effects',\n",
              " 'your',\n",
              " 'groups',\n",
              " 'two',\n",
              " 'our',\n",
              " 'its',\n",
              " 'between',\n",
              " 'both',\n",
              " 'inflammatory',\n",
              " 'time',\n",
              " 'my',\n",
              " 'about',\n",
              " 'h',\n",
              " 'these',\n",
              " 'drugs',\n",
              " 'significantly',\n",
              " 'significant',\n",
              " 'out',\n",
              " 'use',\n",
              " 'can',\n",
              " 'anti',\n",
              " 'but',\n",
              " 'which',\n",
              " 'day',\n",
              " 'dose',\n",
              " 'used',\n",
              " 'has',\n",
              " 'potassium',\n",
              " 'results',\n",
              " 'voltaren',\n",
              " 'what',\n",
              " 'placebo',\n",
              " 'also',\n",
              " 'there',\n",
              " 'one',\n",
              " 'glutenfree',\n",
              " 'do',\n",
              " 'may',\n",
              " 'efficacy',\n",
              " 's',\n",
              " 'nt',\n",
              " 'celiac',\n",
              " 'ds',\n",
              " 'treated',\n",
              " 'm',\n",
              " 'w',\n",
              " 'days',\n",
              " 'ml',\n",
              " 'up',\n",
              " 'topical',\n",
              " 'showed',\n",
              " 'had',\n",
              " 'now',\n",
              " 'different',\n",
              " 'when',\n",
              " 'been',\n",
              " 'administration',\n",
              " 'oral',\n",
              " 'concentration',\n",
              " 'products',\n",
              " 'via',\n",
              " 'studies',\n",
              " 'c',\n",
              " 'food',\n",
              " 'how',\n",
              " 'control',\n",
              " 'if',\n",
              " 'rats',\n",
              " 'other',\n",
              " 'well',\n",
              " 'their',\n",
              " 'test',\n",
              " 'who',\n",
              " 'during',\n",
              " 'right',\n",
              " 'clinical',\n",
              " 'nsaids',\n",
              " 'did',\n",
              " 'non',\n",
              " 'found',\n",
              " 'respectively',\n",
              " 'into',\n",
              " 'plasma',\n",
              " 'acid',\n",
              " 'could',\n",
              " 'induced',\n",
              " 'post',\n",
              " 'formulation',\n",
              " 'first',\n",
              " 'diet',\n",
              " 'mean',\n",
              " 'rate',\n",
              " 'method',\n",
              " 'solution',\n",
              " 'effective',\n",
              " 'observed',\n",
              " 'high',\n",
              " 'gel',\n",
              " 'tablets',\n",
              " 'n',\n",
              " 'g',\n",
              " 'formulations',\n",
              " 'review',\n",
              " 'ph',\n",
              " 'those',\n",
              " 'blood',\n",
              " 'three',\n",
              " 'tip',\n",
              " 'hours',\n",
              " 'over',\n",
              " 'vitro',\n",
              " 'increased',\n",
              " 'd',\n",
              " 'received',\n",
              " 'adverse',\n",
              " 'kg',\n",
              " 'levels',\n",
              " 'each',\n",
              " 'activity',\n",
              " 'analysis',\n",
              " 'analgesic',\n",
              " 'so',\n",
              " 'atorvastatin',\n",
              " 'controlled',\n",
              " 'patient',\n",
              " 'concentrations',\n",
              " 'data',\n",
              " 'following',\n",
              " 'acute',\n",
              " 'daily',\n",
              " 'period',\n",
              " 'only',\n",
              " 'less',\n",
              " 'single',\n",
              " 'week',\n",
              " 'evaluated',\n",
              " 'dblclick',\n",
              " 'why',\n",
              " 'pic',\n",
              " 'skin',\n",
              " 'model',\n",
              " 'good',\n",
              " 'some',\n",
              " 'symptoms',\n",
              " 'total',\n",
              " 'most',\n",
              " 'they',\n",
              " 'l',\n",
              " 'however',\n",
              " 'randomized',\n",
              " 'low',\n",
              " 't',\n",
              " 'lower',\n",
              " 'before',\n",
              " 'here',\n",
              " 'surgery',\n",
              " 'postoperative',\n",
              " 'years',\n",
              " 'check',\n",
              " 'weeks',\n",
              " 'tablet',\n",
              " 'difference',\n",
              " 'will',\n",
              " 'therapy',\n",
              " 'renal',\n",
              " 'obtained',\n",
              " 'nsaid',\n",
              " 'me',\n",
              " 'cells',\n",
              " 'similar',\n",
              " 'know',\n",
              " 'dissolution',\n",
              " 'b',\n",
              " 'healthy',\n",
              " 'based',\n",
              " 'higher',\n",
              " 'any',\n",
              " 'under',\n",
              " 'combination',\n",
              " 'just',\n",
              " 'get',\n",
              " 'water',\n",
              " 'should',\n",
              " 'relief',\n",
              " 'order',\n",
              " 'conditions',\n",
              " 'like',\n",
              " 'double',\n",
              " 'life',\n",
              " 'prepared',\n",
              " 'increase',\n",
              " 'administered',\n",
              " 'cell',\n",
              " 'studied',\n",
              " 'differences',\n",
              " 'vs',\n",
              " 'min',\n",
              " 'trial',\n",
              " 'application',\n",
              " 'response',\n",
              " 'present',\n",
              " 're',\n",
              " 'while',\n",
              " 'love',\n",
              " 'doses',\n",
              " 'associated',\n",
              " 'nonsteroidal',\n",
              " 'performed',\n",
              " 'four',\n",
              " 'reported',\n",
              " 'given',\n",
              " 'help',\n",
              " 'need',\n",
              " 'such',\n",
              " 'events',\n",
              " 'changes',\n",
              " 'gfb',\n",
              " 'does',\n",
              " 'absorption',\n",
              " 'cholesterol',\n",
              " 'investigated',\n",
              " 'parameters',\n",
              " 'thanks',\n",
              " 'developed',\n",
              " 'either',\n",
              " 'reduced',\n",
              " 'due',\n",
              " 'great',\n",
              " 'side',\n",
              " 'values',\n",
              " 'subjects',\n",
              " 'x',\n",
              " 'assessed',\n",
              " 'serum',\n",
              " 'properties',\n",
              " 'people',\n",
              " 'us',\n",
              " 'decreased',\n",
              " 'containing',\n",
              " 'measured',\n",
              " 'v',\n",
              " 'inflammation',\n",
              " 'system',\n",
              " 'better',\n",
              " 'delivery',\n",
              " 'within',\n",
              " 'posted',\n",
              " 'risk',\n",
              " 'indomethacin',\n",
              " 'without',\n",
              " 'through',\n",
              " 'safety',\n",
              " 'recipe',\n",
              " 'phase',\n",
              " 'number',\n",
              " 'blind',\n",
              " 'mm',\n",
              " 'related',\n",
              " 'times',\n",
              " 'ca',\n",
              " 'make',\n",
              " 'oa',\n",
              " 'injection',\n",
              " 'reduction',\n",
              " 'steroidal',\n",
              " 'auc',\n",
              " 'size',\n",
              " 'lipitor',\n",
              " 'show',\n",
              " 'included',\n",
              " 'year',\n",
              " 'function',\n",
              " 'range',\n",
              " 'being',\n",
              " 'level',\n",
              " 'potential',\n",
              " 'therapeutic',\n",
              " 'ng',\n",
              " 'heres',\n",
              " 'e',\n",
              " 'liquid',\n",
              " 'type',\n",
              " 'ratio',\n",
              " 'statistically',\n",
              " 'archives',\n",
              " 'many',\n",
              " 'best',\n",
              " 'evaluate',\n",
              " 'scale',\n",
              " 'change',\n",
              " 'medication',\n",
              " 'development',\n",
              " 'primary',\n",
              " 'compare',\n",
              " 'intolerance',\n",
              " 'minutes',\n",
              " '30',\n",
              " 'greater',\n",
              " 'samples',\n",
              " 'osteoarthritis',\n",
              " 'gastrointestinal',\n",
              " 'vivo',\n",
              " 'determined',\n",
              " 'read',\n",
              " 'available',\n",
              " 'baseline',\n",
              " 'applied',\n",
              " 'eat',\n",
              " '\\r \\n ',\n",
              " 'visual',\n",
              " 'k',\n",
              " 'tolerability',\n",
              " 'jennieo',\n",
              " 'bioavailability',\n",
              " 'living',\n",
              " 'active',\n",
              " 'health',\n",
              " 'very',\n",
              " 'human',\n",
              " 'because',\n",
              " 'tips',\n",
              " 'dependent',\n",
              " 'na',\n",
              " 'scores',\n",
              " 'sustained',\n",
              " 'process',\n",
              " 'then',\n",
              " 'addition',\n",
              " 'revealed',\n",
              " 'form',\n",
              " 'coated',\n",
              " 'going',\n",
              " 'sensitivity',\n",
              " 'important',\n",
              " 'knee',\n",
              " 'tested',\n",
              " 'arthritis',\n",
              " 'demonstrated',\n",
              " 'matrix',\n",
              " 'chronic',\n",
              " 'normal',\n",
              " 'months',\n",
              " 'safe',\n",
              " 'area',\n",
              " 'tissue',\n",
              " 'news',\n",
              " 'indicated',\n",
              " 'polymer',\n",
              " 'various',\n",
              " 'cox',\n",
              " 'weight',\n",
              " 'ii',\n",
              " 'inhibitor',\n",
              " 'severe',\n",
              " 'gastric',\n",
              " 'end',\n",
              " 'treatments',\n",
              " 'aim',\n",
              " 'follow',\n",
              " 'think',\n",
              " 'article',\n",
              " 'peak',\n",
              " 'volunteers',\n",
              " 'shown',\n",
              " 'made',\n",
              " 'inhibition',\n",
              " 'cd',\n",
              " 'diagnosis',\n",
              " 'case',\n",
              " 'caused',\n",
              " 'mice',\n",
              " 'tolerated',\n",
              " 'same',\n",
              " 'today',\n",
              " 'improvement',\n",
              " 'further',\n",
              " 'chicken',\n",
              " 'content',\n",
              " 'aqueous',\n",
              " 'intensity',\n",
              " 'growth',\n",
              " 'score',\n",
              " 'migraine',\n",
              " 'trials',\n",
              " 'alone',\n",
              " 'suggest',\n",
              " 'action',\n",
              " 'dosage',\n",
              " 'per',\n",
              " 'mechanism',\n",
              " 'swelling',\n",
              " 'agent',\n",
              " 'old',\n",
              " 'go',\n",
              " 'take',\n",
              " 'permeation',\n",
              " 'relative',\n",
              " 'formation',\n",
              " 'randomly',\n",
              " 'ibuprofen',\n",
              " 'agents',\n",
              " 'long',\n",
              " 'hour',\n",
              " 'much',\n",
              " 'including',\n",
              " 'part',\n",
              " 'whereas',\n",
              " 'exposure',\n",
              " '1',\n",
              " 'provide',\n",
              " 'local',\n",
              " 'share',\n",
              " 'decrease',\n",
              " 'although',\n",
              " 'standard',\n",
              " 'followed',\n",
              " 'presence',\n",
              " '2',\n",
              " 'animals',\n",
              " 'way',\n",
              " 'big',\n",
              " 'blog',\n",
              " 'profiles',\n",
              " 'determine',\n",
              " 'cases',\n",
              " 'rat',\n",
              " 'evidence',\n",
              " 'reaction',\n",
              " 'systemic',\n",
              " 'combined',\n",
              " 'eye',\n",
              " 'de',\n",
              " 'please',\n",
              " 'find',\n",
              " 'among',\n",
              " 'pressure',\n",
              " 'care',\n",
              " 'age',\n",
              " 'pizza',\n",
              " 'product',\n",
              " 'six',\n",
              " 'secondary',\n",
              " 'pre',\n",
              " 'evaluation',\n",
              " 'surface',\n",
              " 'awareness',\n",
              " 'diagnosed',\n",
              " 'conducted',\n",
              " 'eating',\n",
              " 'vehicle',\n",
              " 'divided',\n",
              " 'male',\n",
              " 'research',\n",
              " 'vas',\n",
              " 'least',\n",
              " 'would',\n",
              " 'body',\n",
              " 'o',\n",
              " 'pharmaceutical',\n",
              " 'versus',\n",
              " 'profile',\n",
              " 'month',\n",
              " 'might',\n",
              " 'th',\n",
              " 'onset',\n",
              " 'u',\n",
              " '4',\n",
              " 'pharmacokinetic',\n",
              " 'enteric',\n",
              " 'experimental',\n",
              " 'corneal',\n",
              " 'duration',\n",
              " 'multiple',\n",
              " 'cause',\n",
              " 'damage',\n",
              " 'rapid',\n",
              " '\\r \\n \\r \\n ',\n",
              " 'analgesia',\n",
              " 'where',\n",
              " 'cmax',\n",
              " 'protein',\n",
              " 'microspheres',\n",
              " 'sensitive',\n",
              " 'according',\n",
              " 'still',\n",
              " 'resulted',\n",
              " 'achieved',\n",
              " 'r',\n",
              " 'produced',\n",
              " 'medical',\n",
              " 'rates',\n",
              " 'plus',\n",
              " 'f',\n",
              " 'urine',\n",
              " 'common',\n",
              " 'cross',\n",
              " 'amount',\n",
              " 'improved',\n",
              " 'beads',\n",
              " 'against',\n",
              " 'pellets',\n",
              " 'ever',\n",
              " 'want',\n",
              " 'physical',\n",
              " 'assessment',\n",
              " 'patch',\n",
              " 'aspirin',\n",
              " 'overall',\n",
              " 'naproxen',\n",
              " 'efficiency',\n",
              " 'five',\n",
              " 'moderate',\n",
              " 'comparison',\n",
              " 'temperature',\n",
              " 'quality',\n",
              " 'cm',\n",
              " 'production',\n",
              " 'degrees',\n",
              " 'specific',\n",
              " 'influence',\n",
              " 'easy',\n",
              " 'cookbook',\n",
              " 'volume',\n",
              " 'participants',\n",
              " 'reference',\n",
              " 'even',\n",
              " 'synthesis',\n",
              " 'third',\n",
              " 'muscle',\n",
              " 'misoprostol',\n",
              " 'term',\n",
              " 'soup',\n",
              " 'preparation',\n",
              " 'complete',\n",
              " 'value',\n",
              " 'happy',\n",
              " 'commercial',\n",
              " 'co',\n",
              " 'gf',\n",
              " 'them',\n",
              " 'expression',\n",
              " 'extent',\n",
              " 'global',\n",
              " 'models',\n",
              " 'joint',\n",
              " 'design',\n",
              " 'affect',\n",
              " 'microg',\n",
              " 'work',\n",
              " 'maximum',\n",
              " 'medium',\n",
              " 'rofecoxib',\n",
              " 'recorded',\n",
              " 'superior',\n",
              " 'thus',\n",
              " 'possible',\n",
              " 'membrane',\n",
              " 'flow',\n",
              " 'state',\n",
              " 'prostaglandin',\n",
              " 'phosphate',\n",
              " 'linked',\n",
              " 'technique',\n",
              " 'intestinal',\n",
              " 'initial',\n",
              " 'examined',\n",
              " 'comparable',\n",
              " 'ci',\n",
              " '2014',\n",
              " 'see',\n",
              " 'investigate',\n",
              " 'second',\n",
              " 'site',\n",
              " 'edema',\n",
              " 'super',\n",
              " 'indicate',\n",
              " 'methods',\n",
              " 'determination',\n",
              " 'others',\n",
              " 'story',\n",
              " 'eyes',\n",
              " 'detection',\n",
              " 'once',\n",
              " 'saline',\n",
              " 'try',\n",
              " 'increasing',\n",
              " 'intramuscular',\n",
              " 'solid',\n",
              " 'dr',\n",
              " 'small',\n",
              " 'autographed',\n",
              " 'assess',\n",
              " 'inhibitors',\n",
              " 'paracetamol',\n",
              " 'looking',\n",
              " 'got',\n",
              " 'medications',\n",
              " 'alternative',\n",
              " 'considered',\n",
              " 'simple',\n",
              " 'carried',\n",
              " 'outcome',\n",
              " 'tissues',\n",
              " 'cream',\n",
              " 'wheat',\n",
              " 'drops',\n",
              " 'incidence',\n",
              " 'liver',\n",
              " 'rheumatoid',\n",
              " 'therefore',\n",
              " 'needed',\n",
              " 'receiving',\n",
              " 'gi',\n",
              " 'interaction',\n",
              " 'delicious',\n",
              " 'women',\n",
              " 'inhibited',\n",
              " 'whether',\n",
              " 'diffusion',\n",
              " 'additional',\n",
              " 'novel',\n",
              " 'every',\n",
              " 'open',\n",
              " 'children',\n",
              " 'nm',\n",
              " 'transdermal',\n",
              " 'provided',\n",
              " 'terms',\n",
              " 'calcium',\n",
              " 'antiinflammatory',\n",
              " 'ldl',\n",
              " 'performance',\n",
              " 'ocular',\n",
              " 'back',\n",
              " '5',\n",
              " 'index',\n",
              " 'complex',\n",
              " 'vascular',\n",
              " 'max',\n",
              " 'friends',\n",
              " 'bone',\n",
              " 'pge',\n",
              " 'beta',\n",
              " 'hplc',\n",
              " 'affected',\n",
              " 'tests',\n",
              " 'loaded',\n",
              " 'thank',\n",
              " 'preparations',\n",
              " 'syndrome',\n",
              " 'dic',\n",
              " 'last',\n",
              " 'characteristics',\n",
              " 'released',\n",
              " 'current',\n",
              " 'early',\n",
              " 'lesions',\n",
              " 'few',\n",
              " 'bread',\n",
              " 'solubility',\n",
              " 'twice',\n",
              " 'support',\n",
              " 'findings',\n",
              " 'forms',\n",
              " 'characterized',\n",
              " 'hp',\n",
              " 'celecoxib',\n",
              " 'analyzed',\n",
              " 'fluid',\n",
              " 'too',\n",
              " 'modified',\n",
              " 'lipid',\n",
              " 'il',\n",
              " 'market',\n",
              " 'cataract',\n",
              " 'mild',\n",
              " 'objective',\n",
              " 'enhanced',\n",
              " 'responses',\n",
              " 'kinetics',\n",
              " 'foods',\n",
              " 'treat',\n",
              " 'buffer',\n",
              " 'known',\n",
              " 'brain',\n",
              " 'dpsgc',\n",
              " 'special',\n",
              " 'major',\n",
              " 'since',\n",
              " 've',\n",
              " 'several',\n",
              " 'event',\n",
              " 'options',\n",
              " 'clinically',\n",
              " 'laser',\n",
              " 'learn',\n",
              " 'acetaminophen',\n",
              " 'recipes',\n",
              " 'list',\n",
              " 'top',\n",
              " 'taking',\n",
              " 'factor',\n",
              " 'particle',\n",
              " 'giveaway',\n",
              " 'next',\n",
              " 'clearance',\n",
              " 'chitosan',\n",
              " 'ophthalmic',\n",
              " 'aged',\n",
              " 'analgesics',\n",
              " 'rabbits',\n",
              " 'activities',\n",
              " 'penetration',\n",
              " 'ability',\n",
              " 'issues',\n",
              " 'having',\n",
              " 'prolonged',\n",
              " 'systems',\n",
              " 'especially',\n",
              " 'capsule',\n",
              " 'seen',\n",
              " 'death',\n",
              " 'across',\n",
              " 'density',\n",
              " 'useful',\n",
              " 'required',\n",
              " 'orally',\n",
              " 'solutions',\n",
              " 'oil',\n",
              " 'tmax',\n",
              " 'point',\n",
              " 'another',\n",
              " 'reduce',\n",
              " 'cambia',\n",
              " 'america',\n",
              " 'average',\n",
              " '10',\n",
              " 'extraction',\n",
              " 'chocolate',\n",
              " 'exhibited',\n",
              " 'role',\n",
              " 'flare',\n",
              " 'ketorolac',\n",
              " 'short',\n",
              " 'bowl',\n",
              " 'dosing',\n",
              " 'dfs',\n",
              " 'percentage',\n",
              " 'testing',\n",
              " 'quinoa',\n",
              " 'child',\n",
              " 'cs',\n",
              " 'degree',\n",
              " 'salt',\n",
              " 'excretion',\n",
              " 'information',\n",
              " 'selective',\n",
              " 'develop',\n",
              " 'collected',\n",
              " 'urinary',\n",
              " 'crossover',\n",
              " 'start',\n",
              " 'hpmc',\n",
              " 'variables',\n",
              " 'experiments',\n",
              " 'management',\n",
              " 'eudragit',\n",
              " 'book',\n",
              " 'positive',\n",
              " 'designed',\n",
              " 'involved',\n",
              " 'coeliac',\n",
              " 'page',\n",
              " 'factors',\n",
              " 'cardiovascular',\n",
              " 'allergy',\n",
              " 'improve',\n",
              " 'sr',\n",
              " 'alpha',\n",
              " 'capsules',\n",
              " 'experience',\n",
              " 'faster',\n",
              " 'cyclooxygenase',\n",
              " 'drop',\n",
              " 'intravenous',\n",
              " 'central',\n",
              " 'stability',\n",
              " 'feel',\n",
              " 'kids',\n",
              " 'signs',\n",
              " 'potent',\n",
              " 'confirmed',\n",
              " 'serious',\n",
              " 'later',\n",
              " 'suggested',\n",
              " 'able',\n",
              " 'scanning',\n",
              " 'operative',\n",
              " 'microscopy',\n",
              " 'info',\n",
              " 'report',\n",
              " 'interesting',\n",
              " 'selected',\n",
              " 'reducing',\n",
              " 'hand',\n",
              " 'independent',\n",
              " 'injury',\n",
              " 'chloride',\n",
              " 'interview',\n",
              " 'condition',\n",
              " 'criteria',\n",
              " 'assigned',\n",
              " 'getting',\n",
              " 'stem',\n",
              " 'binding',\n",
              " 'peg',\n",
              " 'morning',\n",
              " 'twenty',\n",
              " 'analogue',\n",
              " 'rescue',\n",
              " 'structure',\n",
              " 'zero',\n",
              " 'whole',\n",
              " 'widely',\n",
              " 'yes',\n",
              " 'distribution',\n",
              " 'electron',\n",
              " 'arthrotec',\n",
              " 'chemical',\n",
              " 'loading',\n",
              " 'compounds',\n",
              " 'hip',\n",
              " 'ak',\n",
              " 'his',\n",
              " 'alginate',\n",
              " 'statins',\n",
              " 'world',\n",
              " 'procedure',\n",
              " 'receive',\n",
              " 'always',\n",
              " 'aes',\n",
              " 'sd',\n",
              " 'molecular',\n",
              " 'injected',\n",
              " 'validated',\n",
              " 'seven',\n",
              " 'dexamethasone',\n",
              " 'measures',\n",
              " 'df',\n",
              " 'direct',\n",
              " 'ask',\n",
              " 'curve',\n",
              " 'slow',\n",
              " 'enzyme',\n",
              " 'statin',\n",
              " 'link',\n",
              " 'equivalent',\n",
              " 'really',\n",
              " 'friendly',\n",
              " 'examination',\n",
              " 'activation',\n",
              " 'metabolites',\n",
              " 'headache',\n",
              " 'approximately',\n",
              " 'eight',\n",
              " 'limit',\n",
              " 'effectiveness',\n",
              " 'metabolism',\n",
              " 'community',\n",
              " 'assay',\n",
              " 'relaxation',\n",
              " 'highly',\n",
              " 'population',\n",
              " 'behavior',\n",
              " 'never',\n",
              " 'again',\n",
              " 'diagnose',\n",
              " 'proposed',\n",
              " 'fed',\n",
              " 'hr',\n",
              " 'outcomes',\n",
              " 'dcf',\n",
              " 'prior',\n",
              " 'recent',\n",
              " 'spectroscopy',\n",
              " 'occurred',\n",
              " 'coating',\n",
              " 'postoperatively',\n",
              " 'percent',\n",
              " 'hospital',\n",
              " 'recently',\n",
              " 'likely',\n",
              " 'target',\n",
              " 'mt',\n",
              " 'result',\n",
              " 'median',\n",
              " 'laboratory',\n",
              " '3',\n",
              " 'immediate',\n",
              " 'avoid',\n",
              " 'creatinine',\n",
              " 'relationship',\n",
              " 'approach',\n",
              " 'glutened',\n",
              " 'layer',\n",
              " 'rise',\n",
              " 'breakfast',\n",
              " 'means',\n",
              " 'permeability',\n",
              " 'often',\n",
              " 'female',\n",
              " 'reasons',\n",
              " 'diseases',\n",
              " 'pharmacokinetics',\n",
              " 'coming',\n",
              " 'flurbiprofen',\n",
              " 'piroxicam',\n",
              " 'interactions',\n",
              " 'generally',\n",
              " 'kidney',\n",
              " 'linear',\n",
              " 'nausea',\n",
              " 'individual',\n",
              " 'mediated',\n",
              " 'adsorption',\n",
              " 'randomised',\n",
              " 'sunday',\n",
              " 'respect',\n",
              " 'cookies',\n",
              " 'convention',\n",
              " 'film',\n",
              " 'analog',\n",
              " 'lowering',\n",
              " 'established',\n",
              " 'her',\n",
              " 'generic',\n",
              " 'latest',\n",
              " 'must',\n",
              " ...]"
            ]
          },
          "metadata": {
            "tags": []
          },
          "execution_count": 17
        }
      ]
    },
    {
      "cell_type": "code",
      "metadata": {
        "id": "yPWr03mls3VT",
        "colab_type": "code",
        "outputId": "2c524d73-306a-443f-b327-8ca692f33fde",
        "colab": {
          "base_uri": "https://localhost:8080/",
          "height": 17
        }
      },
      "source": [
        "model_path = path/'models'\n",
        "model_path.mkdir(exist_ok=True)\n",
        "url = 'http://files.fast.ai/models/wt103_v1/'\n",
        "download_url(f'{url}lstm_wt103.pth', model_path/'lstm_wt103.pth')\n",
        "download_url(f'{url}itos_wt103.pkl', model_path/'itos_wt103.pkl')"
      ],
      "execution_count": 18,
      "outputs": [
        {
          "output_type": "display_data",
          "data": {
            "text/html": [
              ""
            ],
            "text/plain": [
              "<IPython.core.display.HTML object>"
            ]
          },
          "metadata": {
            "tags": []
          }
        },
        {
          "output_type": "display_data",
          "data": {
            "text/html": [
              ""
            ],
            "text/plain": [
              "<IPython.core.display.HTML object>"
            ]
          },
          "metadata": {
            "tags": []
          }
        }
      ]
    },
    {
      "cell_type": "code",
      "metadata": {
        "id": "JRzvWg8RtGGr",
        "colab_type": "code",
        "outputId": "9dd4a925-9190-4ce9-d95b-f881205ea29c",
        "colab": {
          "base_uri": "https://localhost:8080/",
          "height": 34
        }
      },
      "source": [
        "learn = language_model_learner(data_lm, AWD_LSTM, drop_mult=0.5)"
      ],
      "execution_count": 19,
      "outputs": [
        {
          "output_type": "stream",
          "text": [
            "Downloading https://s3.amazonaws.com/fast-ai-modelzoo/wt103-fwd\n"
          ],
          "name": "stdout"
        },
        {
          "output_type": "display_data",
          "data": {
            "text/html": [
              ""
            ],
            "text/plain": [
              "<IPython.core.display.HTML object>"
            ]
          },
          "metadata": {
            "tags": []
          }
        }
      ]
    },
    {
      "cell_type": "code",
      "metadata": {
        "id": "xKK7GeBev7Xn",
        "colab_type": "code",
        "outputId": "3a5939c8-e1d5-45b5-efb0-962d03db6055",
        "colab": {
          "base_uri": "https://localhost:8080/",
          "height": 80
        }
      },
      "source": [
        "learn.fit_one_cycle(1, 1e-2)"
      ],
      "execution_count": 20,
      "outputs": [
        {
          "output_type": "display_data",
          "data": {
            "text/html": [
              "<table border=\"1\" class=\"dataframe\">\n",
              "  <thead>\n",
              "    <tr style=\"text-align: left;\">\n",
              "      <th>epoch</th>\n",
              "      <th>train_loss</th>\n",
              "      <th>valid_loss</th>\n",
              "      <th>accuracy</th>\n",
              "      <th>time</th>\n",
              "    </tr>\n",
              "  </thead>\n",
              "  <tbody>\n",
              "    <tr>\n",
              "      <td>0</td>\n",
              "      <td>5.186597</td>\n",
              "      <td>4.626398</td>\n",
              "      <td>0.250391</td>\n",
              "      <td>21:51</td>\n",
              "    </tr>\n",
              "  </tbody>\n",
              "</table>"
            ],
            "text/plain": [
              "<IPython.core.display.HTML object>"
            ]
          },
          "metadata": {
            "tags": []
          }
        }
      ]
    },
    {
      "cell_type": "code",
      "metadata": {
        "id": "iB7rHGQCwd12",
        "colab_type": "code",
        "colab": {
          "base_uri": "https://localhost:8080/",
          "height": 80
        },
        "outputId": "89f56053-b336-42c7-d901-b7a054c46344"
      },
      "source": [
        "learn.fit_one_cycle(1, 1e-2)"
      ],
      "execution_count": 21,
      "outputs": [
        {
          "output_type": "display_data",
          "data": {
            "text/html": [
              "<table border=\"1\" class=\"dataframe\">\n",
              "  <thead>\n",
              "    <tr style=\"text-align: left;\">\n",
              "      <th>epoch</th>\n",
              "      <th>train_loss</th>\n",
              "      <th>valid_loss</th>\n",
              "      <th>accuracy</th>\n",
              "      <th>time</th>\n",
              "    </tr>\n",
              "  </thead>\n",
              "  <tbody>\n",
              "    <tr>\n",
              "      <td>0</td>\n",
              "      <td>4.436688</td>\n",
              "      <td>4.290257</td>\n",
              "      <td>0.283650</td>\n",
              "      <td>21:41</td>\n",
              "    </tr>\n",
              "  </tbody>\n",
              "</table>"
            ],
            "text/plain": [
              "<IPython.core.display.HTML object>"
            ]
          },
          "metadata": {
            "tags": []
          }
        }
      ]
    },
    {
      "cell_type": "code",
      "metadata": {
        "id": "_BnSuAeCwkBe",
        "colab_type": "code",
        "colab": {
          "base_uri": "https://localhost:8080/",
          "height": 80
        },
        "outputId": "a00816d7-d753-4571-a2dc-4e2e92d5ed31"
      },
      "source": [
        "learn.fit_one_cycle(1, 1e-3)"
      ],
      "execution_count": 22,
      "outputs": [
        {
          "output_type": "display_data",
          "data": {
            "text/html": [
              "<table border=\"1\" class=\"dataframe\">\n",
              "  <thead>\n",
              "    <tr style=\"text-align: left;\">\n",
              "      <th>epoch</th>\n",
              "      <th>train_loss</th>\n",
              "      <th>valid_loss</th>\n",
              "      <th>accuracy</th>\n",
              "      <th>time</th>\n",
              "    </tr>\n",
              "  </thead>\n",
              "  <tbody>\n",
              "    <tr>\n",
              "      <td>0</td>\n",
              "      <td>4.103340</td>\n",
              "      <td>4.251094</td>\n",
              "      <td>0.287556</td>\n",
              "      <td>21:40</td>\n",
              "    </tr>\n",
              "  </tbody>\n",
              "</table>"
            ],
            "text/plain": [
              "<IPython.core.display.HTML object>"
            ]
          },
          "metadata": {
            "tags": []
          }
        }
      ]
    },
    {
      "cell_type": "code",
      "metadata": {
        "id": "MuTm-RFjwrEX",
        "colab_type": "code",
        "colab": {
          "base_uri": "https://localhost:8080/",
          "height": 80
        },
        "outputId": "1e98130c-50c3-4e7b-c1dc-40fc229e38b7"
      },
      "source": [
        "learn.fit_one_cycle(1, 1e-3)"
      ],
      "execution_count": 23,
      "outputs": [
        {
          "output_type": "display_data",
          "data": {
            "text/html": [
              "<table border=\"1\" class=\"dataframe\">\n",
              "  <thead>\n",
              "    <tr style=\"text-align: left;\">\n",
              "      <th>epoch</th>\n",
              "      <th>train_loss</th>\n",
              "      <th>valid_loss</th>\n",
              "      <th>accuracy</th>\n",
              "      <th>time</th>\n",
              "    </tr>\n",
              "  </thead>\n",
              "  <tbody>\n",
              "    <tr>\n",
              "      <td>0</td>\n",
              "      <td>4.071471</td>\n",
              "      <td>4.222544</td>\n",
              "      <td>0.290662</td>\n",
              "      <td>21:28</td>\n",
              "    </tr>\n",
              "  </tbody>\n",
              "</table>"
            ],
            "text/plain": [
              "<IPython.core.display.HTML object>"
            ]
          },
          "metadata": {
            "tags": []
          }
        }
      ]
    },
    {
      "cell_type": "code",
      "metadata": {
        "id": "1Er2ExO8wr7Y",
        "colab_type": "code",
        "colab": {}
      },
      "source": [
        "learn.save_encoder('tuning_pubmed_bigtweet_overlap_0_first')"
      ],
      "execution_count": 0,
      "outputs": []
    },
    {
      "cell_type": "code",
      "metadata": {
        "id": "z52cZs2qwvad",
        "colab_type": "code",
        "colab": {
          "base_uri": "https://localhost:8080/",
          "height": 80
        },
        "outputId": "d8701358-d5ee-41f7-a7b4-2b0cfd33ee18"
      },
      "source": [
        "learn = text_classifier_learner(data_clas,AWD_LSTM, drop_mult=0.5)\n",
        "learn.load_encoder('tuning_pubmed_bigtweet_overlap_0_first')\n",
        "learn.fit_one_cycle(1, 1e-2)"
      ],
      "execution_count": 25,
      "outputs": [
        {
          "output_type": "display_data",
          "data": {
            "text/html": [
              "<table border=\"1\" class=\"dataframe\">\n",
              "  <thead>\n",
              "    <tr style=\"text-align: left;\">\n",
              "      <th>epoch</th>\n",
              "      <th>train_loss</th>\n",
              "      <th>valid_loss</th>\n",
              "      <th>accuracy</th>\n",
              "      <th>time</th>\n",
              "    </tr>\n",
              "  </thead>\n",
              "  <tbody>\n",
              "    <tr>\n",
              "      <td>0</td>\n",
              "      <td>3.683698</td>\n",
              "      <td>3.488134</td>\n",
              "      <td>0.437870</td>\n",
              "      <td>02:30</td>\n",
              "    </tr>\n",
              "  </tbody>\n",
              "</table>"
            ],
            "text/plain": [
              "<IPython.core.display.HTML object>"
            ]
          },
          "metadata": {
            "tags": []
          }
        }
      ]
    },
    {
      "cell_type": "code",
      "metadata": {
        "id": "ImwQP1PJwzxd",
        "colab_type": "code",
        "colab": {
          "base_uri": "https://localhost:8080/",
          "height": 80
        },
        "outputId": "7b9b85db-a33b-4ce8-da69-5e4798ade91a"
      },
      "source": [
        "learn.freeze_to(-2)\n",
        "learn.fit_one_cycle(1, slice(5e-3/2., 5e-3))"
      ],
      "execution_count": 26,
      "outputs": [
        {
          "output_type": "display_data",
          "data": {
            "text/html": [
              "<table border=\"1\" class=\"dataframe\">\n",
              "  <thead>\n",
              "    <tr style=\"text-align: left;\">\n",
              "      <th>epoch</th>\n",
              "      <th>train_loss</th>\n",
              "      <th>valid_loss</th>\n",
              "      <th>accuracy</th>\n",
              "      <th>time</th>\n",
              "    </tr>\n",
              "  </thead>\n",
              "  <tbody>\n",
              "    <tr>\n",
              "      <td>0</td>\n",
              "      <td>2.710276</td>\n",
              "      <td>2.976850</td>\n",
              "      <td>0.520710</td>\n",
              "      <td>02:46</td>\n",
              "    </tr>\n",
              "  </tbody>\n",
              "</table>"
            ],
            "text/plain": [
              "<IPython.core.display.HTML object>"
            ]
          },
          "metadata": {
            "tags": []
          }
        }
      ]
    },
    {
      "cell_type": "code",
      "metadata": {
        "id": "Owff_BJXw53u",
        "colab_type": "code",
        "colab": {
          "base_uri": "https://localhost:8080/",
          "height": 80
        },
        "outputId": "ee318124-2581-46df-af80-a03f88029d82"
      },
      "source": [
        "learn.unfreeze()\n",
        "learn.fit_one_cycle(1, slice(2e-3/100, 2e-3))"
      ],
      "execution_count": 27,
      "outputs": [
        {
          "output_type": "display_data",
          "data": {
            "text/html": [
              "<table border=\"1\" class=\"dataframe\">\n",
              "  <thead>\n",
              "    <tr style=\"text-align: left;\">\n",
              "      <th>epoch</th>\n",
              "      <th>train_loss</th>\n",
              "      <th>valid_loss</th>\n",
              "      <th>accuracy</th>\n",
              "      <th>time</th>\n",
              "    </tr>\n",
              "  </thead>\n",
              "  <tbody>\n",
              "    <tr>\n",
              "      <td>0</td>\n",
              "      <td>2.287001</td>\n",
              "      <td>2.708366</td>\n",
              "      <td>0.566864</td>\n",
              "      <td>03:23</td>\n",
              "    </tr>\n",
              "  </tbody>\n",
              "</table>"
            ],
            "text/plain": [
              "<IPython.core.display.HTML object>"
            ]
          },
          "metadata": {
            "tags": []
          }
        }
      ]
    },
    {
      "cell_type": "code",
      "metadata": {
        "id": "lqAyu56V8Waq",
        "colab_type": "code",
        "colab": {
          "base_uri": "https://localhost:8080/",
          "height": 111
        },
        "outputId": "59453b2a-4a24-4ebb-fcf6-a07547b5825c"
      },
      "source": [
        "learn.fit_one_cycle(2, slice(2e-3/100, 2e-3))"
      ],
      "execution_count": 28,
      "outputs": [
        {
          "output_type": "display_data",
          "data": {
            "text/html": [
              "<table border=\"1\" class=\"dataframe\">\n",
              "  <thead>\n",
              "    <tr style=\"text-align: left;\">\n",
              "      <th>epoch</th>\n",
              "      <th>train_loss</th>\n",
              "      <th>valid_loss</th>\n",
              "      <th>accuracy</th>\n",
              "      <th>time</th>\n",
              "    </tr>\n",
              "  </thead>\n",
              "  <tbody>\n",
              "    <tr>\n",
              "      <td>0</td>\n",
              "      <td>2.036551</td>\n",
              "      <td>2.521669</td>\n",
              "      <td>0.597633</td>\n",
              "      <td>03:08</td>\n",
              "    </tr>\n",
              "    <tr>\n",
              "      <td>1</td>\n",
              "      <td>1.846652</td>\n",
              "      <td>2.416235</td>\n",
              "      <td>0.620118</td>\n",
              "      <td>03:10</td>\n",
              "    </tr>\n",
              "  </tbody>\n",
              "</table>"
            ],
            "text/plain": [
              "<IPython.core.display.HTML object>"
            ]
          },
          "metadata": {
            "tags": []
          }
        }
      ]
    },
    {
      "cell_type": "code",
      "metadata": {
        "id": "a7I1xMRp8bUd",
        "colab_type": "code",
        "colab": {
          "base_uri": "https://localhost:8080/",
          "height": 111
        },
        "outputId": "d0042eca-a808-421f-cd64-5c2ca80444c1"
      },
      "source": [
        "learn.fit_one_cycle(2, slice(2e-3/100, 2e-3))"
      ],
      "execution_count": 29,
      "outputs": [
        {
          "output_type": "display_data",
          "data": {
            "text/html": [
              "<table border=\"1\" class=\"dataframe\">\n",
              "  <thead>\n",
              "    <tr style=\"text-align: left;\">\n",
              "      <th>epoch</th>\n",
              "      <th>train_loss</th>\n",
              "      <th>valid_loss</th>\n",
              "      <th>accuracy</th>\n",
              "      <th>time</th>\n",
              "    </tr>\n",
              "  </thead>\n",
              "  <tbody>\n",
              "    <tr>\n",
              "      <td>0</td>\n",
              "      <td>1.760375</td>\n",
              "      <td>2.307924</td>\n",
              "      <td>0.616568</td>\n",
              "      <td>03:27</td>\n",
              "    </tr>\n",
              "    <tr>\n",
              "      <td>1</td>\n",
              "      <td>1.602349</td>\n",
              "      <td>2.215948</td>\n",
              "      <td>0.628402</td>\n",
              "      <td>03:27</td>\n",
              "    </tr>\n",
              "  </tbody>\n",
              "</table>"
            ],
            "text/plain": [
              "<IPython.core.display.HTML object>"
            ]
          },
          "metadata": {
            "tags": []
          }
        }
      ]
    },
    {
      "cell_type": "code",
      "metadata": {
        "id": "UAnti-XmGVfO",
        "colab_type": "code",
        "colab": {
          "base_uri": "https://localhost:8080/",
          "height": 111
        },
        "outputId": "9cd07038-c8c4-4cdb-bc40-e4235a56902f"
      },
      "source": [
        "learn.fit_one_cycle(2, slice(2e-3/100, 2e-3))"
      ],
      "execution_count": 30,
      "outputs": [
        {
          "output_type": "display_data",
          "data": {
            "text/html": [
              "<table border=\"1\" class=\"dataframe\">\n",
              "  <thead>\n",
              "    <tr style=\"text-align: left;\">\n",
              "      <th>epoch</th>\n",
              "      <th>train_loss</th>\n",
              "      <th>valid_loss</th>\n",
              "      <th>accuracy</th>\n",
              "      <th>time</th>\n",
              "    </tr>\n",
              "  </thead>\n",
              "  <tbody>\n",
              "    <tr>\n",
              "      <td>0</td>\n",
              "      <td>1.553587</td>\n",
              "      <td>2.138977</td>\n",
              "      <td>0.643787</td>\n",
              "      <td>03:16</td>\n",
              "    </tr>\n",
              "    <tr>\n",
              "      <td>1</td>\n",
              "      <td>1.420583</td>\n",
              "      <td>2.078921</td>\n",
              "      <td>0.648521</td>\n",
              "      <td>03:18</td>\n",
              "    </tr>\n",
              "  </tbody>\n",
              "</table>"
            ],
            "text/plain": [
              "<IPython.core.display.HTML object>"
            ]
          },
          "metadata": {
            "tags": []
          }
        }
      ]
    },
    {
      "cell_type": "code",
      "metadata": {
        "id": "bIft7W25GwSu",
        "colab_type": "code",
        "colab": {
          "base_uri": "https://localhost:8080/",
          "height": 111
        },
        "outputId": "88ff97d0-d9ad-4c29-9067-459fcb825334"
      },
      "source": [
        "learn.fit_one_cycle(2, slice(2e-3/100, 2e-3))"
      ],
      "execution_count": 31,
      "outputs": [
        {
          "output_type": "display_data",
          "data": {
            "text/html": [
              "<table border=\"1\" class=\"dataframe\">\n",
              "  <thead>\n",
              "    <tr style=\"text-align: left;\">\n",
              "      <th>epoch</th>\n",
              "      <th>train_loss</th>\n",
              "      <th>valid_loss</th>\n",
              "      <th>accuracy</th>\n",
              "      <th>time</th>\n",
              "    </tr>\n",
              "  </thead>\n",
              "  <tbody>\n",
              "    <tr>\n",
              "      <td>0</td>\n",
              "      <td>1.345745</td>\n",
              "      <td>2.080702</td>\n",
              "      <td>0.646154</td>\n",
              "      <td>03:03</td>\n",
              "    </tr>\n",
              "    <tr>\n",
              "      <td>1</td>\n",
              "      <td>1.326653</td>\n",
              "      <td>2.017823</td>\n",
              "      <td>0.660355</td>\n",
              "      <td>03:22</td>\n",
              "    </tr>\n",
              "  </tbody>\n",
              "</table>"
            ],
            "text/plain": [
              "<IPython.core.display.HTML object>"
            ]
          },
          "metadata": {
            "tags": []
          }
        }
      ]
    },
    {
      "cell_type": "code",
      "metadata": {
        "id": "EEHszVRvGyFt",
        "colab_type": "code",
        "colab": {
          "base_uri": "https://localhost:8080/",
          "height": 111
        },
        "outputId": "2a953c3b-f678-4c0d-acce-6ada98e68da5"
      },
      "source": [
        "learn.fit_one_cycle(2, slice(2e-3/100, 2e-3))"
      ],
      "execution_count": 32,
      "outputs": [
        {
          "output_type": "display_data",
          "data": {
            "text/html": [
              "<table border=\"1\" class=\"dataframe\">\n",
              "  <thead>\n",
              "    <tr style=\"text-align: left;\">\n",
              "      <th>epoch</th>\n",
              "      <th>train_loss</th>\n",
              "      <th>valid_loss</th>\n",
              "      <th>accuracy</th>\n",
              "      <th>time</th>\n",
              "    </tr>\n",
              "  </thead>\n",
              "  <tbody>\n",
              "    <tr>\n",
              "      <td>0</td>\n",
              "      <td>1.312039</td>\n",
              "      <td>2.010334</td>\n",
              "      <td>0.652071</td>\n",
              "      <td>03:13</td>\n",
              "    </tr>\n",
              "    <tr>\n",
              "      <td>1</td>\n",
              "      <td>1.209362</td>\n",
              "      <td>1.966309</td>\n",
              "      <td>0.650888</td>\n",
              "      <td>03:31</td>\n",
              "    </tr>\n",
              "  </tbody>\n",
              "</table>"
            ],
            "text/plain": [
              "<IPython.core.display.HTML object>"
            ]
          },
          "metadata": {
            "tags": []
          }
        }
      ]
    },
    {
      "cell_type": "code",
      "metadata": {
        "id": "XsHfrhCHG3dN",
        "colab_type": "code",
        "colab": {
          "base_uri": "https://localhost:8080/",
          "height": 173
        },
        "outputId": "91ef0709-ea25-4f5f-f561-711b135d4a8e"
      },
      "source": [
        "learn.fit_one_cycle(4, slice(2e-3/100, 2e-3))"
      ],
      "execution_count": 33,
      "outputs": [
        {
          "output_type": "display_data",
          "data": {
            "text/html": [
              "<table border=\"1\" class=\"dataframe\">\n",
              "  <thead>\n",
              "    <tr style=\"text-align: left;\">\n",
              "      <th>epoch</th>\n",
              "      <th>train_loss</th>\n",
              "      <th>valid_loss</th>\n",
              "      <th>accuracy</th>\n",
              "      <th>time</th>\n",
              "    </tr>\n",
              "  </thead>\n",
              "  <tbody>\n",
              "    <tr>\n",
              "      <td>0</td>\n",
              "      <td>1.175089</td>\n",
              "      <td>1.947678</td>\n",
              "      <td>0.655621</td>\n",
              "      <td>03:28</td>\n",
              "    </tr>\n",
              "    <tr>\n",
              "      <td>1</td>\n",
              "      <td>1.210405</td>\n",
              "      <td>1.906295</td>\n",
              "      <td>0.657988</td>\n",
              "      <td>03:20</td>\n",
              "    </tr>\n",
              "    <tr>\n",
              "      <td>2</td>\n",
              "      <td>1.108154</td>\n",
              "      <td>1.881429</td>\n",
              "      <td>0.661538</td>\n",
              "      <td>03:23</td>\n",
              "    </tr>\n",
              "    <tr>\n",
              "      <td>3</td>\n",
              "      <td>1.027926</td>\n",
              "      <td>1.886383</td>\n",
              "      <td>0.663905</td>\n",
              "      <td>03:29</td>\n",
              "    </tr>\n",
              "  </tbody>\n",
              "</table>"
            ],
            "text/plain": [
              "<IPython.core.display.HTML object>"
            ]
          },
          "metadata": {
            "tags": []
          }
        }
      ]
    },
    {
      "cell_type": "code",
      "metadata": {
        "id": "0Zsd99isb9EQ",
        "colab_type": "code",
        "colab": {
          "base_uri": "https://localhost:8080/",
          "height": 173
        },
        "outputId": "c90d96e0-bb3f-4293-c97f-aa8fef874d32"
      },
      "source": [
        "learn.fit_one_cycle(4, slice(2e-3/100, 2e-3))"
      ],
      "execution_count": 34,
      "outputs": [
        {
          "output_type": "display_data",
          "data": {
            "text/html": [
              "<table border=\"1\" class=\"dataframe\">\n",
              "  <thead>\n",
              "    <tr style=\"text-align: left;\">\n",
              "      <th>epoch</th>\n",
              "      <th>train_loss</th>\n",
              "      <th>valid_loss</th>\n",
              "      <th>accuracy</th>\n",
              "      <th>time</th>\n",
              "    </tr>\n",
              "  </thead>\n",
              "  <tbody>\n",
              "    <tr>\n",
              "      <td>0</td>\n",
              "      <td>1.032417</td>\n",
              "      <td>1.910512</td>\n",
              "      <td>0.662722</td>\n",
              "      <td>03:06</td>\n",
              "    </tr>\n",
              "    <tr>\n",
              "      <td>1</td>\n",
              "      <td>1.089008</td>\n",
              "      <td>1.921585</td>\n",
              "      <td>0.656805</td>\n",
              "      <td>03:19</td>\n",
              "    </tr>\n",
              "    <tr>\n",
              "      <td>2</td>\n",
              "      <td>1.001599</td>\n",
              "      <td>1.887837</td>\n",
              "      <td>0.669823</td>\n",
              "      <td>03:07</td>\n",
              "    </tr>\n",
              "    <tr>\n",
              "      <td>3</td>\n",
              "      <td>0.945709</td>\n",
              "      <td>1.896953</td>\n",
              "      <td>0.666272</td>\n",
              "      <td>03:21</td>\n",
              "    </tr>\n",
              "  </tbody>\n",
              "</table>"
            ],
            "text/plain": [
              "<IPython.core.display.HTML object>"
            ]
          },
          "metadata": {
            "tags": []
          }
        }
      ]
    },
    {
      "cell_type": "code",
      "metadata": {
        "id": "atNWNKDFPbuI",
        "colab_type": "code",
        "colab": {
          "base_uri": "https://localhost:8080/",
          "height": 173
        },
        "outputId": "8177de6d-18bb-468f-d8ef-e9743023eb2e"
      },
      "source": [
        "learn.fit_one_cycle(4, slice(2e-3/100, 2e-3))"
      ],
      "execution_count": 35,
      "outputs": [
        {
          "output_type": "display_data",
          "data": {
            "text/html": [
              "<table border=\"1\" class=\"dataframe\">\n",
              "  <thead>\n",
              "    <tr style=\"text-align: left;\">\n",
              "      <th>epoch</th>\n",
              "      <th>train_loss</th>\n",
              "      <th>valid_loss</th>\n",
              "      <th>accuracy</th>\n",
              "      <th>time</th>\n",
              "    </tr>\n",
              "  </thead>\n",
              "  <tbody>\n",
              "    <tr>\n",
              "      <td>0</td>\n",
              "      <td>0.978484</td>\n",
              "      <td>1.873084</td>\n",
              "      <td>0.671006</td>\n",
              "      <td>03:08</td>\n",
              "    </tr>\n",
              "    <tr>\n",
              "      <td>1</td>\n",
              "      <td>0.984122</td>\n",
              "      <td>1.928080</td>\n",
              "      <td>0.669823</td>\n",
              "      <td>03:34</td>\n",
              "    </tr>\n",
              "    <tr>\n",
              "      <td>2</td>\n",
              "      <td>0.922647</td>\n",
              "      <td>1.928776</td>\n",
              "      <td>0.663905</td>\n",
              "      <td>03:10</td>\n",
              "    </tr>\n",
              "    <tr>\n",
              "      <td>3</td>\n",
              "      <td>0.890724</td>\n",
              "      <td>1.936124</td>\n",
              "      <td>0.671006</td>\n",
              "      <td>03:08</td>\n",
              "    </tr>\n",
              "  </tbody>\n",
              "</table>"
            ],
            "text/plain": [
              "<IPython.core.display.HTML object>"
            ]
          },
          "metadata": {
            "tags": []
          }
        }
      ]
    },
    {
      "cell_type": "code",
      "metadata": {
        "id": "rKrBTZ0T1uVA",
        "colab_type": "code",
        "colab": {
          "base_uri": "https://localhost:8080/",
          "height": 173
        },
        "outputId": "a4f10677-900c-4fdf-bd24-3e750a934e13"
      },
      "source": [
        "learn.fit_one_cycle(4, slice(2e-3/100, 2e-3))"
      ],
      "execution_count": 36,
      "outputs": [
        {
          "output_type": "display_data",
          "data": {
            "text/html": [
              "<table border=\"1\" class=\"dataframe\">\n",
              "  <thead>\n",
              "    <tr style=\"text-align: left;\">\n",
              "      <th>epoch</th>\n",
              "      <th>train_loss</th>\n",
              "      <th>valid_loss</th>\n",
              "      <th>accuracy</th>\n",
              "      <th>time</th>\n",
              "    </tr>\n",
              "  </thead>\n",
              "  <tbody>\n",
              "    <tr>\n",
              "      <td>0</td>\n",
              "      <td>0.890204</td>\n",
              "      <td>1.944084</td>\n",
              "      <td>0.674556</td>\n",
              "      <td>03:23</td>\n",
              "    </tr>\n",
              "    <tr>\n",
              "      <td>1</td>\n",
              "      <td>0.955137</td>\n",
              "      <td>1.921835</td>\n",
              "      <td>0.675740</td>\n",
              "      <td>03:09</td>\n",
              "    </tr>\n",
              "    <tr>\n",
              "      <td>2</td>\n",
              "      <td>0.927154</td>\n",
              "      <td>1.936837</td>\n",
              "      <td>0.686391</td>\n",
              "      <td>03:11</td>\n",
              "    </tr>\n",
              "    <tr>\n",
              "      <td>3</td>\n",
              "      <td>0.855707</td>\n",
              "      <td>1.899578</td>\n",
              "      <td>0.689941</td>\n",
              "      <td>03:29</td>\n",
              "    </tr>\n",
              "  </tbody>\n",
              "</table>"
            ],
            "text/plain": [
              "<IPython.core.display.HTML object>"
            ]
          },
          "metadata": {
            "tags": []
          }
        }
      ]
    },
    {
      "cell_type": "code",
      "metadata": {
        "id": "ajQC6WDg1yA9",
        "colab_type": "code",
        "colab": {
          "base_uri": "https://localhost:8080/",
          "height": 173
        },
        "outputId": "032bd571-5f4a-4906-d840-2d229a0cdd1b"
      },
      "source": [
        "learn.fit_one_cycle(4, slice(2e-3/100, 2e-3))"
      ],
      "execution_count": 37,
      "outputs": [
        {
          "output_type": "display_data",
          "data": {
            "text/html": [
              "<table border=\"1\" class=\"dataframe\">\n",
              "  <thead>\n",
              "    <tr style=\"text-align: left;\">\n",
              "      <th>epoch</th>\n",
              "      <th>train_loss</th>\n",
              "      <th>valid_loss</th>\n",
              "      <th>accuracy</th>\n",
              "      <th>time</th>\n",
              "    </tr>\n",
              "  </thead>\n",
              "  <tbody>\n",
              "    <tr>\n",
              "      <td>0</td>\n",
              "      <td>0.849388</td>\n",
              "      <td>1.967788</td>\n",
              "      <td>0.665089</td>\n",
              "      <td>03:15</td>\n",
              "    </tr>\n",
              "    <tr>\n",
              "      <td>1</td>\n",
              "      <td>0.891466</td>\n",
              "      <td>1.956928</td>\n",
              "      <td>0.681657</td>\n",
              "      <td>03:33</td>\n",
              "    </tr>\n",
              "    <tr>\n",
              "      <td>2</td>\n",
              "      <td>0.870691</td>\n",
              "      <td>1.959212</td>\n",
              "      <td>0.680473</td>\n",
              "      <td>03:15</td>\n",
              "    </tr>\n",
              "    <tr>\n",
              "      <td>3</td>\n",
              "      <td>0.857187</td>\n",
              "      <td>1.971548</td>\n",
              "      <td>0.681657</td>\n",
              "      <td>03:07</td>\n",
              "    </tr>\n",
              "  </tbody>\n",
              "</table>"
            ],
            "text/plain": [
              "<IPython.core.display.HTML object>"
            ]
          },
          "metadata": {
            "tags": []
          }
        }
      ]
    },
    {
      "cell_type": "code",
      "metadata": {
        "id": "KKydb0B4BKGk",
        "colab_type": "code",
        "colab": {
          "base_uri": "https://localhost:8080/",
          "height": 173
        },
        "outputId": "f4699d03-4985-4eee-f722-403809dc246d"
      },
      "source": [
        "learn.fit_one_cycle(4, slice(2e-3/100, 2e-3))"
      ],
      "execution_count": 38,
      "outputs": [
        {
          "output_type": "display_data",
          "data": {
            "text/html": [
              "<table border=\"1\" class=\"dataframe\">\n",
              "  <thead>\n",
              "    <tr style=\"text-align: left;\">\n",
              "      <th>epoch</th>\n",
              "      <th>train_loss</th>\n",
              "      <th>valid_loss</th>\n",
              "      <th>accuracy</th>\n",
              "      <th>time</th>\n",
              "    </tr>\n",
              "  </thead>\n",
              "  <tbody>\n",
              "    <tr>\n",
              "      <td>0</td>\n",
              "      <td>0.879065</td>\n",
              "      <td>1.987623</td>\n",
              "      <td>0.668639</td>\n",
              "      <td>03:16</td>\n",
              "    </tr>\n",
              "    <tr>\n",
              "      <td>1</td>\n",
              "      <td>0.906384</td>\n",
              "      <td>2.035431</td>\n",
              "      <td>0.675740</td>\n",
              "      <td>03:06</td>\n",
              "    </tr>\n",
              "    <tr>\n",
              "      <td>2</td>\n",
              "      <td>0.854945</td>\n",
              "      <td>1.930645</td>\n",
              "      <td>0.680473</td>\n",
              "      <td>03:06</td>\n",
              "    </tr>\n",
              "    <tr>\n",
              "      <td>3</td>\n",
              "      <td>0.838462</td>\n",
              "      <td>2.032336</td>\n",
              "      <td>0.685207</td>\n",
              "      <td>03:14</td>\n",
              "    </tr>\n",
              "  </tbody>\n",
              "</table>"
            ],
            "text/plain": [
              "<IPython.core.display.HTML object>"
            ]
          },
          "metadata": {
            "tags": []
          }
        }
      ]
    },
    {
      "cell_type": "code",
      "metadata": {
        "id": "T2APKtFKBpGY",
        "colab_type": "code",
        "colab": {
          "base_uri": "https://localhost:8080/",
          "height": 173
        },
        "outputId": "4cf52835-ad37-4830-a8fe-357f7c96c6d5"
      },
      "source": [
        "learn.fit_one_cycle(4, slice(2e-3/100, 2e-3))"
      ],
      "execution_count": 39,
      "outputs": [
        {
          "output_type": "display_data",
          "data": {
            "text/html": [
              "<table border=\"1\" class=\"dataframe\">\n",
              "  <thead>\n",
              "    <tr style=\"text-align: left;\">\n",
              "      <th>epoch</th>\n",
              "      <th>train_loss</th>\n",
              "      <th>valid_loss</th>\n",
              "      <th>accuracy</th>\n",
              "      <th>time</th>\n",
              "    </tr>\n",
              "  </thead>\n",
              "  <tbody>\n",
              "    <tr>\n",
              "      <td>0</td>\n",
              "      <td>0.814473</td>\n",
              "      <td>1.991704</td>\n",
              "      <td>0.680473</td>\n",
              "      <td>03:14</td>\n",
              "    </tr>\n",
              "    <tr>\n",
              "      <td>1</td>\n",
              "      <td>0.841123</td>\n",
              "      <td>1.973006</td>\n",
              "      <td>0.682840</td>\n",
              "      <td>03:09</td>\n",
              "    </tr>\n",
              "    <tr>\n",
              "      <td>2</td>\n",
              "      <td>0.850415</td>\n",
              "      <td>1.996071</td>\n",
              "      <td>0.682840</td>\n",
              "      <td>03:33</td>\n",
              "    </tr>\n",
              "    <tr>\n",
              "      <td>3</td>\n",
              "      <td>0.770245</td>\n",
              "      <td>1.977106</td>\n",
              "      <td>0.681657</td>\n",
              "      <td>03:34</td>\n",
              "    </tr>\n",
              "  </tbody>\n",
              "</table>"
            ],
            "text/plain": [
              "<IPython.core.display.HTML object>"
            ]
          },
          "metadata": {
            "tags": []
          }
        }
      ]
    },
    {
      "cell_type": "code",
      "metadata": {
        "id": "qtTypA1sPgLU",
        "colab_type": "code",
        "colab": {
          "base_uri": "https://localhost:8080/",
          "height": 111
        },
        "outputId": "4ef62bc1-140e-4b45-cd1f-044536b691c3"
      },
      "source": [
        "learn.fit_one_cycle(2, slice(2e-3/100, 2e-3))"
      ],
      "execution_count": 40,
      "outputs": [
        {
          "output_type": "display_data",
          "data": {
            "text/html": [
              "<table border=\"1\" class=\"dataframe\">\n",
              "  <thead>\n",
              "    <tr style=\"text-align: left;\">\n",
              "      <th>epoch</th>\n",
              "      <th>train_loss</th>\n",
              "      <th>valid_loss</th>\n",
              "      <th>accuracy</th>\n",
              "      <th>time</th>\n",
              "    </tr>\n",
              "  </thead>\n",
              "  <tbody>\n",
              "    <tr>\n",
              "      <td>0</td>\n",
              "      <td>0.825919</td>\n",
              "      <td>2.007492</td>\n",
              "      <td>0.691124</td>\n",
              "      <td>03:26</td>\n",
              "    </tr>\n",
              "    <tr>\n",
              "      <td>1</td>\n",
              "      <td>0.790679</td>\n",
              "      <td>1.967543</td>\n",
              "      <td>0.691124</td>\n",
              "      <td>03:22</td>\n",
              "    </tr>\n",
              "  </tbody>\n",
              "</table>"
            ],
            "text/plain": [
              "<IPython.core.display.HTML object>"
            ]
          },
          "metadata": {
            "tags": []
          }
        }
      ]
    },
    {
      "cell_type": "code",
      "metadata": {
        "id": "b242kBsTUp9Y",
        "colab_type": "code",
        "colab": {
          "base_uri": "https://localhost:8080/",
          "height": 111
        },
        "outputId": "da73d4f4-e4ea-4b3a-b105-af82f2cfa5bd"
      },
      "source": [
        "learn.fit_one_cycle(2, slice(2e-3/100, 2e-3))"
      ],
      "execution_count": 41,
      "outputs": [
        {
          "output_type": "display_data",
          "data": {
            "text/html": [
              "<table border=\"1\" class=\"dataframe\">\n",
              "  <thead>\n",
              "    <tr style=\"text-align: left;\">\n",
              "      <th>epoch</th>\n",
              "      <th>train_loss</th>\n",
              "      <th>valid_loss</th>\n",
              "      <th>accuracy</th>\n",
              "      <th>time</th>\n",
              "    </tr>\n",
              "  </thead>\n",
              "  <tbody>\n",
              "    <tr>\n",
              "      <td>0</td>\n",
              "      <td>0.852738</td>\n",
              "      <td>2.046791</td>\n",
              "      <td>0.675740</td>\n",
              "      <td>03:24</td>\n",
              "    </tr>\n",
              "    <tr>\n",
              "      <td>1</td>\n",
              "      <td>0.810966</td>\n",
              "      <td>1.942632</td>\n",
              "      <td>0.680473</td>\n",
              "      <td>03:21</td>\n",
              "    </tr>\n",
              "  </tbody>\n",
              "</table>"
            ],
            "text/plain": [
              "<IPython.core.display.HTML object>"
            ]
          },
          "metadata": {
            "tags": []
          }
        }
      ]
    },
    {
      "cell_type": "code",
      "metadata": {
        "id": "Duwf1Ih5VeDZ",
        "colab_type": "code",
        "colab": {
          "base_uri": "https://localhost:8080/",
          "height": 80
        },
        "outputId": "60c960a8-55b1-494d-e4ae-6db857e5d480"
      },
      "source": [
        "learn.fit_one_cycle(1, slice(2e-3/100, 2e-3))"
      ],
      "execution_count": 42,
      "outputs": [
        {
          "output_type": "display_data",
          "data": {
            "text/html": [
              "<table border=\"1\" class=\"dataframe\">\n",
              "  <thead>\n",
              "    <tr style=\"text-align: left;\">\n",
              "      <th>epoch</th>\n",
              "      <th>train_loss</th>\n",
              "      <th>valid_loss</th>\n",
              "      <th>accuracy</th>\n",
              "      <th>time</th>\n",
              "    </tr>\n",
              "  </thead>\n",
              "  <tbody>\n",
              "    <tr>\n",
              "      <td>0</td>\n",
              "      <td>0.814165</td>\n",
              "      <td>2.000567</td>\n",
              "      <td>0.685207</td>\n",
              "      <td>03:26</td>\n",
              "    </tr>\n",
              "  </tbody>\n",
              "</table>"
            ],
            "text/plain": [
              "<IPython.core.display.HTML object>"
            ]
          },
          "metadata": {
            "tags": []
          }
        }
      ]
    },
    {
      "cell_type": "code",
      "metadata": {
        "id": "c65d-osfDUXm",
        "colab_type": "code",
        "colab": {}
      },
      "source": [
        "# save the best model\n",
        "\n",
        "learn.save_encoder('tuning_pubmed_bigtweet_overlap_0_last')"
      ],
      "execution_count": 0,
      "outputs": []
    },
    {
      "cell_type": "markdown",
      "metadata": {
        "id": "rCwZU0E2RgM6",
        "colab_type": "text"
      },
      "source": [
        "# Part three: Predict on the test dataset"
      ]
    },
    {
      "cell_type": "code",
      "metadata": {
        "id": "gDm72c-dOu7d",
        "colab_type": "code",
        "colab": {
          "base_uri": "https://localhost:8080/",
          "height": 17
        },
        "outputId": "d1ecaf20-869c-4f60-e504-ff3922c00a24"
      },
      "source": [
        "# use the test data for prediction\n",
        "\n",
        "preds, y = learn.get_preds(DatasetType.Test)"
      ],
      "execution_count": 44,
      "outputs": [
        {
          "output_type": "display_data",
          "data": {
            "text/html": [
              ""
            ],
            "text/plain": [
              "<IPython.core.display.HTML object>"
            ]
          },
          "metadata": {
            "tags": []
          }
        }
      ]
    },
    {
      "cell_type": "code",
      "metadata": {
        "id": "6tFSQcsWPvxn",
        "colab_type": "code",
        "colab": {
          "base_uri": "https://localhost:8080/",
          "height": 105
        },
        "outputId": "31eb037b-5d6f-4b8a-c9bb-a00f730590db"
      },
      "source": [
        "predictions, *_ = learn.get_preds(DatasetType.Test)\n",
        "labels = np.argmax(predictions, 1)\n",
        "predict_list = labels.tolist()\n",
        "standard_list = test[0].tolist()\n",
        "\n",
        "print(len(predict_list))\n",
        "print(len(standard_list))\n",
        "\n",
        "print(predict_list)\n",
        "print(standard_list)"
      ],
      "execution_count": 45,
      "outputs": [
        {
          "output_type": "display_data",
          "data": {
            "text/html": [
              ""
            ],
            "text/plain": [
              "<IPython.core.display.HTML object>"
            ]
          },
          "metadata": {
            "tags": []
          }
        },
        {
          "output_type": "stream",
          "text": [
            "872\n",
            "872\n",
            "[840, 265, 830, 561, 5, 830, 1026, 8, 8, 8, 8, 760, 10, 769, 137, 71, 817, 173, 27, 427, 805, 491, 129, 30, 30, 31, 32, 34, 265, 265, 880, 528, 289, 146, 1032, 1032, 49, 597, 49, 49, 49, 29, 232, 232, 232, 232, 245, 113, 375, 127, 71, 71, 289, 76, 76, 260, 182, 172, 817, 817, 190, 37, 37, 37, 37, 37, 37, 37, 37, 37, 37, 37, 37, 37, 37, 260, 289, 289, 817, 37, 37, 80, 80, 80, 80, 359, 88, 89, 137, 391, 377, 91, 517, 135, 94, 94, 135, 135, 49, 805, 492, 98, 49, 100, 100, 100, 337, 100, 100, 490, 100, 168, 265, 805, 108, 88, 209, 470, 636, 111, 111, 470, 111, 111, 211, 111, 111, 427, 120, 1035, 817, 125, 125, 125, 125, 125, 817, 125, 127, 579, 129, 129, 289, 569, 492, 142, 140, 343, 415, 817, 111, 157, 52, 470, 165, 359, 817, 817, 168, 298, 172, 190, 864, 864, 864, 864, 79, 182, 37, 182, 182, 289, 427, 183, 183, 183, 183, 183, 817, 185, 187, 187, 817, 817, 817, 189, 190, 190, 190, 190, 190, 190, 190, 289, 289, 193, 197, 197, 214, 214, 214, 805, 245, 96, 245, 210, 210, 210, 210, 260, 896, 817, 817, 419, 896, 897, 245, 265, 265, 817, 817, 218, 382, 220, 226, 636, 228, 228, 289, 228, 214, 214, 228, 544, 541, 234, 235, 337, 265, 386, 817, 817, 238, 328, 187, 817, 817, 817, 243, 243, 817, 817, 817, 513, 359, 817, 245, 245, 337, 470, 723, 245, 846, 246, 298, 817, 817, 715, 259, 37, 289, 289, 817, 265, 419, 214, 214, 265, 265, 265, 265, 265, 265, 265, 265, 37, 265, 265, 214, 265, 214, 199, 443, 137, 391, 269, 470, 817, 750, 704, 847, 283, 360, 675, 419, 289, 289, 289, 289, 289, 289, 37, 289, 289, 37, 289, 289, 289, 289, 289, 289, 289, 289, 289, 289, 289, 289, 741, 289, 289, 289, 289, 289, 289, 37, 541, 289, 206, 877, 805, 169, 220, 771, 301, 265, 427, 189, 397, 309, 309, 309, 289, 309, 309, 750, 190, 318, 359, 79, 318, 455, 202, 231, 321, 427, 817, 301, 301, 301, 301, 301, 301, 301, 325, 325, 568, 61, 866, 269, 334, 334, 336, 577, 337, 337, 337, 290, 265, 584, 127, 129, 343, 127, 364, 318, 849, 65, 289, 359, 359, 359, 65, 359, 360, 360, 210, 245, 364, 364, 364, 893, 817, 745, 76, 444, 817, 817, 351, 402, 402, 402, 817, 408, 805, 415, 817, 265, 419, 419, 419, 419, 419, 289, 419, 419, 817, 470, 426, 426, 426, 686, 597, 427, 427, 597, 597, 427, 427, 427, 427, 427, 427, 202, 427, 736, 430, 434, 238, 289, 438, 441, 391, 391, 391, 391, 446, 135, 172, 604, 172, 473, 49, 475, 475, 591, 817, 817, 817, 544, 359, 289, 402, 744, 694, 491, 337, 197, 462, 489, 491, 491, 563, 82, 491, 817, 491, 492, 492, 216, 499, 173, 805, 304, 318, 524, 516, 470, 817, 517, 521, 521, 817, 773, 530, 530, 531, 644, 541, 541, 291, 291, 545, 27, 817, 817, 817, 549, 549, 88, 334, 117, 111, 610, 567, 775, 427, 864, 265, 245, 58, 769, 896, 579, 704, 579, 579, 584, 579, 289, 590, 591, 359, 359, 475, 97, 97, 707, 595, 562, 427, 437, 120, 190, 704, 228, 492, 163, 610, 817, 289, 635, 888, 817, 817, 318, 624, 633, 633, 633, 469, 779, 840, 646, 646, 125, 245, 728, 728, 197, 652, 652, 636, 636, 652, 746, 386, 386, 108, 662, 662, 491, 830, 664, 437, 738, 317, 706, 491, 746, 470, 289, 470, 185, 552, 49, 698, 289, 172, 289, 245, 289, 289, 214, 211, 265, 289, 265, 579, 283, 644, 707, 707, 470, 210, 711, 443, 728, 111, 301, 775, 730, 111, 210, 475, 739, 579, 741, 741, 289, 741, 745, 746, 746, 746, 746, 746, 749, 753, 753, 794, 769, 492, 876, 337, 375, 470, 779, 245, 301, 301, 775, 775, 775, 775, 775, 775, 502, 359, 470, 214, 553, 216, 215, 246, 427, 817, 804, 817, 778, 805, 200, 808, 79, 541, 809, 809, 809, 810, 666, 810, 810, 517, 815, 704, 824, 896, 817, 826, 228, 828, 729, 817, 830, 830, 817, 817, 470, 831, 817, 840, 301, 840, 245, 470, 495, 847, 847, 125, 847, 216, 606, 785, 785, 853, 2, 864, 864, 130, 135, 864, 865, 662, 299, 65, 868, 866, 127, 37, 896, 877, 877, 866, 363, 888, 289, 892, 893, 415, 896, 896, 896, 102, 896, 202, 96, 753, 772, 817, 812, 466, 113, 994, 919, 817, 817, 817, 817, 470, 933, 933, 817, 937, 937, 937, 937, 817, 817, 949, 949, 949, 949, 949, 949, 949, 949, 949, 949, 949, 949, 949, 949, 949, 949, 949, 949, 949, 949, 949, 949, 949, 949, 949, 949, 949, 949, 949, 949, 949, 949, 949, 949, 949, 949, 949, 949, 949, 949, 949, 949, 949, 949, 949, 949, 949, 949, 949, 949, 949, 470, 817, 817, 950, 950, 950, 952, 952, 955, 817, 956, 1026, 967, 817, 977, 454, 470, 817, 817, 983, 1028, 817, 925, 817, 113, 994, 817, 1028, 1028, 1028, 1029, 1029, 817, 1035]\n",
            "[0, 3, 4, 5, 5, 7, 8, 8, 8, 8, 8, 9, 10, 14, 18, 19, 21, 22, 27, 28, 28, 29, 30, 30, 30, 31, 32, 34, 37, 37, 38, 40, 41, 47, 49, 49, 49, 49, 49, 49, 49, 49, 49, 49, 49, 49, 50, 53, 61, 70, 71, 71, 71, 76, 76, 77, 77, 79, 79, 79, 79, 79, 79, 79, 79, 79, 79, 79, 79, 79, 79, 79, 79, 79, 79, 79, 79, 79, 79, 79, 79, 80, 80, 80, 80, 82, 88, 89, 89, 89, 90, 91, 93, 94, 94, 94, 94, 94, 96, 98, 98, 98, 99, 100, 100, 100, 100, 100, 100, 100, 100, 101, 102, 107, 108, 108, 109, 110, 111, 111, 111, 111, 111, 111, 111, 111, 111, 119, 120, 122, 125, 125, 125, 125, 125, 125, 125, 125, 127, 129, 129, 129, 129, 132, 138, 142, 144, 150, 150, 151, 153, 157, 157, 163, 165, 166, 166, 166, 168, 170, 172, 172, 172, 172, 172, 172, 180, 182, 182, 182, 182, 182, 182, 183, 183, 183, 183, 183, 184, 185, 187, 187, 187, 187, 189, 189, 190, 190, 190, 190, 190, 190, 190, 190, 190, 193, 197, 197, 197, 197, 197, 204, 205, 205, 210, 210, 210, 210, 210, 211, 214, 214, 214, 214, 214, 214, 214, 214, 214, 216, 218, 218, 220, 220, 226, 228, 228, 228, 228, 228, 228, 228, 228, 229, 231, 234, 235, 236, 236, 238, 238, 238, 238, 240, 240, 243, 243, 243, 243, 243, 243, 243, 244, 245, 245, 245, 245, 245, 245, 245, 245, 245, 245, 246, 246, 249, 254, 254, 259, 260, 260, 260, 261, 265, 265, 265, 265, 265, 265, 265, 265, 265, 265, 265, 265, 265, 265, 265, 265, 265, 265, 266, 268, 268, 268, 269, 270, 271, 272, 281, 282, 283, 286, 288, 289, 289, 289, 289, 289, 289, 289, 289, 289, 289, 289, 289, 289, 289, 289, 289, 289, 289, 289, 289, 289, 289, 289, 289, 289, 289, 289, 289, 289, 289, 289, 291, 293, 294, 295, 299, 299, 300, 301, 301, 301, 301, 304, 304, 309, 309, 309, 309, 309, 309, 317, 318, 318, 318, 318, 318, 318, 320, 320, 321, 321, 323, 325, 325, 325, 325, 325, 325, 325, 325, 325, 326, 327, 330, 333, 334, 334, 336, 337, 337, 337, 337, 337, 337, 338, 343, 343, 343, 343, 345, 346, 347, 350, 351, 359, 359, 359, 359, 359, 360, 360, 363, 364, 364, 364, 364, 365, 380, 387, 388, 392, 394, 396, 402, 402, 402, 402, 408, 408, 413, 415, 416, 419, 419, 419, 419, 419, 419, 419, 419, 419, 424, 424, 426, 426, 426, 426, 427, 427, 427, 427, 427, 427, 427, 427, 427, 427, 427, 427, 427, 428, 430, 433, 434, 435, 438, 441, 443, 444, 444, 444, 446, 453, 461, 462, 465, 473, 473, 475, 475, 475, 476, 476, 476, 477, 479, 479, 481, 482, 483, 486, 487, 487, 488, 489, 491, 491, 491, 491, 491, 491, 491, 492, 492, 493, 499, 505, 505, 506, 509, 514, 516, 517, 517, 517, 521, 521, 527, 529, 530, 530, 531, 531, 541, 542, 543, 543, 545, 546, 548, 548, 548, 549, 549, 554, 561, 561, 565, 566, 567, 571, 575, 577, 577, 577, 577, 578, 578, 579, 579, 579, 579, 584, 586, 588, 590, 591, 591, 591, 591, 594, 594, 595, 595, 595, 596, 598, 598, 604, 606, 606, 607, 609, 610, 611, 614, 614, 617, 619, 623, 623, 624, 633, 633, 633, 637, 638, 640, 646, 646, 646, 648, 648, 648, 651, 652, 652, 652, 652, 654, 659, 659, 659, 660, 662, 662, 662, 663, 663, 663, 664, 669, 677, 681, 683, 686, 686, 686, 687, 689, 693, 698, 700, 700, 701, 701, 702, 702, 702, 702, 703, 703, 704, 704, 705, 705, 707, 707, 710, 710, 711, 715, 716, 718, 723, 727, 730, 731, 733, 738, 739, 741, 741, 741, 741, 741, 745, 746, 746, 746, 746, 746, 749, 753, 753, 756, 761, 763, 765, 766, 767, 770, 771, 774, 775, 775, 775, 775, 775, 775, 775, 775, 782, 784, 787, 787, 788, 794, 794, 798, 800, 803, 804, 804, 805, 805, 807, 808, 809, 809, 809, 809, 809, 810, 810, 810, 810, 813, 815, 816, 824, 826, 826, 826, 827, 828, 829, 830, 830, 830, 830, 830, 830, 831, 834, 840, 840, 840, 840, 844, 846, 847, 847, 847, 847, 847, 847, 852, 852, 853, 861, 864, 864, 864, 864, 864, 865, 865, 865, 867, 868, 871, 874, 876, 876, 877, 877, 882, 883, 888, 889, 892, 893, 894, 896, 896, 896, 896, 896, 898, 902, 903, 903, 905, 906, 908, 916, 917, 919, 920, 926, 929, 931, 932, 933, 933, 936, 937, 937, 937, 937, 944, 947, 949, 949, 949, 949, 949, 949, 949, 949, 949, 949, 949, 949, 949, 949, 949, 949, 949, 949, 949, 949, 949, 949, 949, 949, 949, 949, 949, 949, 949, 949, 949, 949, 949, 949, 949, 949, 949, 949, 949, 949, 949, 949, 949, 949, 949, 949, 949, 949, 949, 949, 949, 949, 949, 949, 950, 950, 950, 952, 952, 955, 955, 956, 966, 967, 969, 977, 994, 994, 1000, 1001, 1002, 1011, 1017, 1019, 1020, 1020, 1026, 1026, 1028, 1028, 1028, 1029, 1029, 1030, 1035]\n"
          ],
          "name": "stdout"
        }
      ]
    },
    {
      "cell_type": "code",
      "metadata": {
        "id": "XIC4zufnMxtq",
        "colab_type": "code",
        "colab": {
          "base_uri": "https://localhost:8080/",
          "height": 51
        },
        "outputId": "84725ce6-f2b6-4e13-9de2-2c5a0a807558"
      },
      "source": [
        "correct_num = 0\n",
        "\n",
        "for i in range(0, len(standard_list)):\n",
        "  if predict_list[i] == standard_list[i]:\n",
        "    correct_num = correct_num+1\n",
        "  else:\n",
        "    pass\n",
        "print(correct_num)\n",
        "\n",
        "predict_accuracy = correct_num/len(predict_list)\n",
        "print(predict_accuracy)"
      ],
      "execution_count": 46,
      "outputs": [
        {
          "output_type": "stream",
          "text": [
            "370\n",
            "0.4243119266055046\n"
          ],
          "name": "stdout"
        }
      ]
    }
  ]
}