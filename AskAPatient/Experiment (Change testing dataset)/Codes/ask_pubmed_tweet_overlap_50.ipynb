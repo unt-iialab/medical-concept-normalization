{
  "nbformat": 4,
  "nbformat_minor": 0,
  "metadata": {
    "colab": {
      "name": "ask_pubmed_tweet_overlap_50.ipynb",
      "provenance": [],
      "collapsed_sections": [],
      "toc_visible": true,
      "include_colab_link": true
    },
    "kernelspec": {
      "name": "python3",
      "display_name": "Python 3"
    },
    "accelerator": "TPU"
  },
  "cells": [
    {
      "cell_type": "markdown",
      "metadata": {
        "id": "view-in-github",
        "colab_type": "text"
      },
      "source": [
        "<a href=\"https://colab.research.google.com/github/unt-iialab/medical-concept-normalization/blob/master/AskAPatient/Experiment%20(Change%20testing%20dataset)/Codes/ask_pubmed_tweet_overlap_50.ipynb\" target=\"_parent\"><img src=\"https://colab.research.google.com/assets/colab-badge.svg\" alt=\"Open In Colab\"/></a>"
      ]
    },
    {
      "cell_type": "code",
      "metadata": {
        "id": "adSi6i2-dWxy",
        "colab_type": "code",
        "colab": {}
      },
      "source": [
        "import os"
      ],
      "execution_count": 0,
      "outputs": []
    },
    {
      "cell_type": "code",
      "metadata": {
        "id": "E7xYCRGPjd9B",
        "colab_type": "code",
        "colab": {}
      },
      "source": [
        "base_dir = 'medical-concept-normalization'"
      ],
      "execution_count": 0,
      "outputs": []
    },
    {
      "cell_type": "code",
      "metadata": {
        "id": "yvIW3aUDjYNS",
        "colab_type": "code",
        "colab": {}
      },
      "source": [
        "if os.path.exists('medical-concept-normalization'):\n",
        "  print('folder exist')\n",
        "else:\n",
        "  os.mkdir(base_dir)"
      ],
      "execution_count": 0,
      "outputs": []
    },
    {
      "cell_type": "code",
      "metadata": {
        "id": "es-FFLlfk6SG",
        "colab_type": "code",
        "colab": {}
      },
      "source": [
        "if os.path.exists('medical-concept-normalization/data_collection'):\n",
        "  print('folder exist')\n",
        "else:\n",
        "  os.mkdir('medical-concept-normalization/data_collection')"
      ],
      "execution_count": 0,
      "outputs": []
    },
    {
      "cell_type": "markdown",
      "metadata": {
        "id": "0R-Guw_VoJXm",
        "colab_type": "text"
      },
      "source": [
        "**Install fastai and clone the fastai for text classification**\n",
        "\n"
      ]
    },
    {
      "cell_type": "code",
      "metadata": {
        "id": "QVZa3Z0PmHFH",
        "colab_type": "code",
        "outputId": "cd93ed05-76fd-489a-f28f-db223ab4b551",
        "colab": {
          "base_uri": "https://localhost:8080/",
          "height": 89
        }
      },
      "source": [
        "!curl https://course-v3.fast.ai/setup/colab | bash"
      ],
      "execution_count": 5,
      "outputs": [
        {
          "output_type": "stream",
          "text": [
            "  % Total    % Received % Xferd  Average Speed   Time    Time     Time  Current\n",
            "                                 Dload  Upload   Total   Spent    Left  Speed\n",
            "\r  0     0    0     0    0     0      0      0 --:--:-- --:--:-- --:--:--     0curl: (6) Could not resolve host: course-v3.fast.ai\n"
          ],
          "name": "stdout"
        }
      ]
    },
    {
      "cell_type": "code",
      "metadata": {
        "id": "_FBFFEBrmJC0",
        "colab_type": "code",
        "outputId": "28bc9557-7b2f-4351-faaa-978511c9b731",
        "colab": {
          "base_uri": "https://localhost:8080/",
          "height": 87
        }
      },
      "source": [
        "!git clone https://github.com/wshuyi/demo-nlp-classification-fastai.git"
      ],
      "execution_count": 6,
      "outputs": [
        {
          "output_type": "stream",
          "text": [
            "Cloning into 'demo-nlp-classification-fastai'...\n",
            "remote: Enumerating objects: 9, done.\u001b[K\n",
            "remote: Total 9 (delta 0), reused 0 (delta 0), pack-reused 9\u001b[K\n",
            "Unpacking objects: 100% (9/9), done.\n"
          ],
          "name": "stdout"
        }
      ]
    },
    {
      "cell_type": "code",
      "metadata": {
        "id": "66zfh_JqmWMU",
        "colab_type": "code",
        "colab": {}
      },
      "source": [
        "from fastai import *\n",
        "from fastai.text import *"
      ],
      "execution_count": 0,
      "outputs": []
    },
    {
      "cell_type": "markdown",
      "metadata": {
        "id": "mNIw-yALdBU9",
        "colab_type": "text"
      },
      "source": [
        "**Set the path of the data collections**"
      ]
    },
    {
      "cell_type": "code",
      "metadata": {
        "id": "pzH7VMh4mqCL",
        "colab_type": "code",
        "colab": {}
      },
      "source": [
        "path = Path('medical-concept-normalization/data_collection')"
      ],
      "execution_count": 0,
      "outputs": []
    },
    {
      "cell_type": "code",
      "metadata": {
        "id": "r8cdqCa-Oeog",
        "colab_type": "code",
        "colab": {}
      },
      "source": [
        "# datasets\n",
        "\n",
        "train_csv = 'https://raw.githubusercontent.com/unt-iialab/medical-concept-normalization/master/AskAPatient/Experiment%20(Change%20testing%20dataset)/Training%20set/AskAPatient.fold-0.train.csv'\n",
        "valid_csv = 'https://raw.githubusercontent.com/unt-iialab/medical-concept-normalization/master/AskAPatient/Experiment%20(Change%20testing%20dataset)/Validation%20set/AskAPatient.fold-0.validation.csv'\n",
        "test_csv = 'https://raw.githubusercontent.com/unt-iialab/medical-concept-normalization/master/AskAPatient/Experiment%20(Change%20testing%20dataset)/Testing%20set/AskAPatient_overlap_50.csv'\n",
        "fine_tuning_data = 'fine_tuning_language_model_pubmed_bigtweet_mixed.csv'"
      ],
      "execution_count": 0,
      "outputs": []
    },
    {
      "cell_type": "code",
      "metadata": {
        "id": "b8fjI6yyn4aS",
        "colab_type": "code",
        "outputId": "4142bc41-1093-4990-a4f1-a701b040690b",
        "colab": {
          "base_uri": "https://localhost:8080/",
          "height": 121
        }
      },
      "source": [
        "# training data set\n",
        "train = pd.read_csv(train_csv, header=None)\n",
        "print(train.head())\n",
        "\n",
        "# validating data set\n",
        "valid = pd.read_csv(valid_csv,header=None)\n",
        "# valid.head()\n",
        "\n",
        "# testing data set\n",
        "test = pd.read_csv(test_csv,header=None)\n",
        "# test.head()"
      ],
      "execution_count": 10,
      "outputs": [
        {
          "output_type": "stream",
          "text": [
            "   0                1\n",
            "0  0             Fear\n",
            "1  0             Fear\n",
            "2  0             Fear\n",
            "3  0  scared to death\n",
            "4  1   Abdominal rash\n"
          ],
          "name": "stdout"
        }
      ]
    },
    {
      "cell_type": "code",
      "metadata": {
        "id": "Vo-YNvVYoaH6",
        "colab_type": "code",
        "outputId": "b8d84596-f8ae-402d-c8b8-e598c760f6cc",
        "colab": {
          "base_uri": "https://localhost:8080/",
          "height": 17
        }
      },
      "source": [
        "# Creating DataBunch for language modelling\n",
        "data_lm = TextLMDataBunch.from_csv(path, fine_tuning_data)"
      ],
      "execution_count": 16,
      "outputs": [
        {
          "output_type": "display_data",
          "data": {
            "text/html": [
              ""
            ],
            "text/plain": [
              "<IPython.core.display.HTML object>"
            ]
          },
          "metadata": {
            "tags": []
          }
        },
        {
          "output_type": "display_data",
          "data": {
            "text/html": [
              ""
            ],
            "text/plain": [
              "<IPython.core.display.HTML object>"
            ]
          },
          "metadata": {
            "tags": []
          }
        }
      ]
    },
    {
      "cell_type": "code",
      "metadata": {
        "id": "1ScY9afDsnvE",
        "colab_type": "code",
        "colab": {}
      },
      "source": [
        "# Creating DataBunch for classification\n",
        "\n",
        "# data_clas = TextClasDataBunch.from_df(path, train, valid, test, vocab=data_lm.train_ds.vocab, bs=128)"
      ],
      "execution_count": 0,
      "outputs": []
    },
    {
      "cell_type": "code",
      "metadata": {
        "id": "gzrSdQcvey9p",
        "colab_type": "code",
        "outputId": "e6f67dff-e1a2-4c7e-d153-d34027cfcd95",
        "colab": {
          "base_uri": "https://localhost:8080/",
          "height": 17
        }
      },
      "source": [
        "data_clas = TextClasDataBunch.from_df(path, train, valid, vocab=data_lm.train_ds.vocab, bs=128)"
      ],
      "execution_count": 18,
      "outputs": [
        {
          "output_type": "display_data",
          "data": {
            "text/html": [
              ""
            ],
            "text/plain": [
              "<IPython.core.display.HTML object>"
            ]
          },
          "metadata": {
            "tags": []
          }
        },
        {
          "output_type": "display_data",
          "data": {
            "text/html": [
              ""
            ],
            "text/plain": [
              "<IPython.core.display.HTML object>"
            ]
          },
          "metadata": {
            "tags": []
          }
        }
      ]
    },
    {
      "cell_type": "code",
      "metadata": {
        "id": "MD27Tf0Ke3ou",
        "colab_type": "code",
        "outputId": "f066e13a-0f0b-42bf-c7d2-54860cade5bb",
        "colab": {
          "base_uri": "https://localhost:8080/",
          "height": 17
        }
      },
      "source": [
        "data_clas.add_test(test,label=0)"
      ],
      "execution_count": 19,
      "outputs": [
        {
          "output_type": "display_data",
          "data": {
            "text/html": [
              ""
            ],
            "text/plain": [
              "<IPython.core.display.HTML object>"
            ]
          },
          "metadata": {
            "tags": []
          }
        }
      ]
    },
    {
      "cell_type": "code",
      "metadata": {
        "id": "-dpjnk_rstwk",
        "colab_type": "code",
        "colab": {}
      },
      "source": [
        "data_lm.save()\n",
        "data_clas.save()"
      ],
      "execution_count": 0,
      "outputs": []
    },
    {
      "cell_type": "code",
      "metadata": {
        "id": "4OkiJa36sw5s",
        "colab_type": "code",
        "outputId": "75010e70-a515-49e3-b7d4-12ab86f57dc5",
        "colab": {
          "base_uri": "https://localhost:8080/",
          "height": 1000
        }
      },
      "source": [
        "data_lm.train_ds.vocab.itos"
      ],
      "execution_count": 21,
      "outputs": [
        {
          "output_type": "execute_result",
          "data": {
            "text/plain": [
              "['xxunk',\n",
              " 'xxpad',\n",
              " 'xxbos',\n",
              " 'xxeos',\n",
              " 'xxfld',\n",
              " 'xxmaj',\n",
              " 'xxup',\n",
              " 'xxrep',\n",
              " 'xxwrep',\n",
              " 'the',\n",
              " 'of',\n",
              " 'and',\n",
              " 'in',\n",
              " 'to',\n",
              " 'a',\n",
              " 'for',\n",
              " 'with',\n",
              " 'diclofenac',\n",
              " 'was',\n",
              " 'were',\n",
              " 'on',\n",
              " 'is',\n",
              " 'rt',\n",
              " 'sodium',\n",
              " 'by',\n",
              " 'that',\n",
              " 'as',\n",
              " 'at',\n",
              " 'patients',\n",
              " 'or',\n",
              " 'this',\n",
              " 'from',\n",
              " 'drug',\n",
              " 'you',\n",
              " 'mg',\n",
              " 'i',\n",
              " 'be',\n",
              " 'study',\n",
              " 'group',\n",
              " 'disease',\n",
              " 'treatment',\n",
              " 'are',\n",
              " 'pain',\n",
              " 'after',\n",
              " 'amp',\n",
              " 'an',\n",
              " 'not',\n",
              " 'it',\n",
              " 'p',\n",
              " 'release',\n",
              " 'have',\n",
              " 'gluten',\n",
              " 'we',\n",
              " 'than',\n",
              " 'all',\n",
              " 'free',\n",
              " 'effect',\n",
              " 'no',\n",
              " 'new',\n",
              " 'compared',\n",
              " 'using',\n",
              " 'more',\n",
              " 'groups',\n",
              " 'effects',\n",
              " 'two',\n",
              " 'our',\n",
              " 'inflammatory',\n",
              " 'your',\n",
              " 'its',\n",
              " 'both',\n",
              " 'about',\n",
              " 'between',\n",
              " 'h',\n",
              " 'significantly',\n",
              " 'time',\n",
              " 'drugs',\n",
              " 'out',\n",
              " 'anti',\n",
              " 'my',\n",
              " 'these',\n",
              " 'use',\n",
              " 'day',\n",
              " 'but',\n",
              " 'significant',\n",
              " 'can',\n",
              " 'used',\n",
              " 'which',\n",
              " 'voltaren',\n",
              " 'potassium',\n",
              " 's',\n",
              " 'dose',\n",
              " 'has',\n",
              " 'results',\n",
              " 'glutenfree',\n",
              " 'what',\n",
              " 'efficacy',\n",
              " 'placebo',\n",
              " 'also',\n",
              " 'do',\n",
              " 'one',\n",
              " 'may',\n",
              " 'there',\n",
              " 'nt',\n",
              " 'ds',\n",
              " 'celiac',\n",
              " 'days',\n",
              " 'ml',\n",
              " 'treated',\n",
              " 'w',\n",
              " 'showed',\n",
              " 'when',\n",
              " 'topical',\n",
              " 'm',\n",
              " 'up',\n",
              " 'oral',\n",
              " 'now',\n",
              " 'different',\n",
              " 'c',\n",
              " 'had',\n",
              " 'been',\n",
              " 'administration',\n",
              " 'products',\n",
              " 'rats',\n",
              " 'via',\n",
              " 'studies',\n",
              " 'how',\n",
              " 'during',\n",
              " 'concentration',\n",
              " 'non',\n",
              " 'control',\n",
              " 'found',\n",
              " 'their',\n",
              " 'respectively',\n",
              " 'other',\n",
              " 'if',\n",
              " 'test',\n",
              " 'food',\n",
              " 'clinical',\n",
              " 'well',\n",
              " 'formulation',\n",
              " 'who',\n",
              " 'did',\n",
              " 'high',\n",
              " 'nsaids',\n",
              " 'induced',\n",
              " 'plasma',\n",
              " 'g',\n",
              " 'into',\n",
              " 'right',\n",
              " 'acid',\n",
              " 'formulations',\n",
              " 'rate',\n",
              " 'could',\n",
              " 'first',\n",
              " 'effective',\n",
              " 'ph',\n",
              " 'diet',\n",
              " 'tip',\n",
              " 'review',\n",
              " 'post',\n",
              " 'method',\n",
              " 'tablets',\n",
              " 'hours',\n",
              " 'solution',\n",
              " 'over',\n",
              " 'observed',\n",
              " 'gel',\n",
              " 'mean',\n",
              " 'those',\n",
              " 'd',\n",
              " 'n',\n",
              " 'three',\n",
              " 'blood',\n",
              " 'analgesic',\n",
              " 'received',\n",
              " 'each',\n",
              " 'acute',\n",
              " 'increased',\n",
              " 'kg',\n",
              " 'levels',\n",
              " 'analysis',\n",
              " 'controlled',\n",
              " 'period',\n",
              " 'only',\n",
              " 'adverse',\n",
              " 'vitro',\n",
              " 'dblclick',\n",
              " 'pic',\n",
              " 'data',\n",
              " 'less',\n",
              " 'single',\n",
              " 'following',\n",
              " 'activity',\n",
              " 'randomized',\n",
              " 'so',\n",
              " 'concentrations',\n",
              " 'evaluated',\n",
              " 'atorvastatin',\n",
              " 'patient',\n",
              " 'total',\n",
              " 'however',\n",
              " 'daily',\n",
              " 'week',\n",
              " 'weeks',\n",
              " 'some',\n",
              " 'they',\n",
              " 'symptoms',\n",
              " 'low',\n",
              " 'most',\n",
              " 'here',\n",
              " 'good',\n",
              " 'lower',\n",
              " 'why',\n",
              " 'model',\n",
              " 'difference',\n",
              " 'know',\n",
              " 'dissolution',\n",
              " 'l',\n",
              " 'skin',\n",
              " 'under',\n",
              " 'before',\n",
              " 'similar',\n",
              " 'years',\n",
              " 'obtained',\n",
              " 't',\n",
              " 'double',\n",
              " 'any',\n",
              " 'surgery',\n",
              " 'tablet',\n",
              " 'check',\n",
              " 'increase',\n",
              " 'like',\n",
              " 'nsaid',\n",
              " 'postoperative',\n",
              " 'me',\n",
              " 'higher',\n",
              " 'cells',\n",
              " 'renal',\n",
              " 'will',\n",
              " 'relief',\n",
              " 'healthy',\n",
              " 'therapy',\n",
              " 'present',\n",
              " 'application',\n",
              " 'based',\n",
              " 'just',\n",
              " 'order',\n",
              " 'trial',\n",
              " 'prepared',\n",
              " 'should',\n",
              " 'life',\n",
              " 'combination',\n",
              " 'doses',\n",
              " 'b',\n",
              " 'love',\n",
              " 're',\n",
              " 'vs',\n",
              " 'get',\n",
              " 'performed',\n",
              " 'response',\n",
              " 'conditions',\n",
              " 'nonsteroidal',\n",
              " 'water',\n",
              " 'studied',\n",
              " 'administered',\n",
              " 'while',\n",
              " 'help',\n",
              " 'min',\n",
              " 'reduced',\n",
              " 'great',\n",
              " 'associated',\n",
              " 'cell',\n",
              " 'differences',\n",
              " 'such',\n",
              " 'absorption',\n",
              " 'changes',\n",
              " 'investigated',\n",
              " 'us',\n",
              " 'developed',\n",
              " 'events',\n",
              " 'given',\n",
              " 'thanks',\n",
              " 'inflammation',\n",
              " 'better',\n",
              " 'does',\n",
              " 'blind',\n",
              " 'due',\n",
              " 'values',\n",
              " 'subjects',\n",
              " 'side',\n",
              " 'system',\n",
              " 'reported',\n",
              " 'need',\n",
              " 'gfb',\n",
              " 'x',\n",
              " 'four',\n",
              " 'phase',\n",
              " 'safety',\n",
              " 'without',\n",
              " 'containing',\n",
              " 'assessed',\n",
              " 'serum',\n",
              " 'risk',\n",
              " 'decreased',\n",
              " 'type',\n",
              " 'posted',\n",
              " 'v',\n",
              " 'cholesterol',\n",
              " 'samples',\n",
              " 'steroidal',\n",
              " 'properties',\n",
              " 'parameters',\n",
              " 'measured',\n",
              " 'within',\n",
              " 'either',\n",
              " 'number',\n",
              " 'e',\n",
              " 'ng',\n",
              " 'through',\n",
              " 'compare',\n",
              " 'potential',\n",
              " 'mm',\n",
              " 'make',\n",
              " 'show',\n",
              " 'times',\n",
              " 'delivery',\n",
              " 'liquid',\n",
              " 'included',\n",
              " 'auc',\n",
              " 'many',\n",
              " 'indomethacin',\n",
              " 'people',\n",
              " 'recipe',\n",
              " 'related',\n",
              " 'form',\n",
              " 'reduction',\n",
              " 'development',\n",
              " 'health',\n",
              " 'ratio',\n",
              " 'primary',\n",
              " 'statistically',\n",
              " 'applied',\n",
              " 'heres',\n",
              " 'year',\n",
              " 'evaluate',\n",
              " 'injection',\n",
              " 'k',\n",
              " 'being',\n",
              " 'available',\n",
              " 'size',\n",
              " 'oa',\n",
              " 'osteoarthritis',\n",
              " 'gastrointestinal',\n",
              " 'ca',\n",
              " 'sensitivity',\n",
              " 'vivo',\n",
              " 'addition',\n",
              " 'best',\n",
              " 'intolerance',\n",
              " 'scale',\n",
              " '\\r \\n ',\n",
              " 'range',\n",
              " '30',\n",
              " 'level',\n",
              " 'going',\n",
              " 'function',\n",
              " 'baseline',\n",
              " 'tissue',\n",
              " 'months',\n",
              " 'read',\n",
              " 'bioavailability',\n",
              " 'therapeutic',\n",
              " 'minutes',\n",
              " 'living',\n",
              " 'active',\n",
              " 'lipitor',\n",
              " 'jennieo',\n",
              " 'determined',\n",
              " 'human',\n",
              " 'then',\n",
              " 'very',\n",
              " 'archives',\n",
              " 'sustained',\n",
              " 'tolerability',\n",
              " 'change',\n",
              " 'greater',\n",
              " 'area',\n",
              " 'eat',\n",
              " 'cox',\n",
              " 'medication',\n",
              " 'polymer',\n",
              " 'demonstrated',\n",
              " 'article',\n",
              " 'end',\n",
              " 'visual',\n",
              " 'important',\n",
              " 'tips',\n",
              " 'gastric',\n",
              " 'improvement',\n",
              " 'knee',\n",
              " 'safe',\n",
              " 'swelling',\n",
              " 'matrix',\n",
              " 'action',\n",
              " 'volunteers',\n",
              " 'chicken',\n",
              " 'because',\n",
              " 'aqueous',\n",
              " 'coated',\n",
              " 'scores',\n",
              " 'dependent',\n",
              " 'aim',\n",
              " 'ii',\n",
              " 'normal',\n",
              " 'revealed',\n",
              " 'process',\n",
              " 'chronic',\n",
              " 'much',\n",
              " 'same',\n",
              " 'suggest',\n",
              " 'think',\n",
              " 'dosage',\n",
              " 'arthritis',\n",
              " 'na',\n",
              " 'severe',\n",
              " 'inhibitor',\n",
              " 'news',\n",
              " 'various',\n",
              " 'big',\n",
              " 'per',\n",
              " 'ibuprofen',\n",
              " '1',\n",
              " 'diagnosis',\n",
              " 'long',\n",
              " 'agent',\n",
              " 'exposure',\n",
              " 'intensity',\n",
              " 'further',\n",
              " 'provide',\n",
              " 'mice',\n",
              " 'trials',\n",
              " 'including',\n",
              " 'cd',\n",
              " 'tested',\n",
              " 'today',\n",
              " 'animals',\n",
              " 'treatments',\n",
              " 'alone',\n",
              " 'shown',\n",
              " 'six',\n",
              " 'made',\n",
              " 'migraine',\n",
              " 'tolerated',\n",
              " 'eye',\n",
              " 'caused',\n",
              " 'follow',\n",
              " 'whereas',\n",
              " 'profile',\n",
              " 'go',\n",
              " 'presence',\n",
              " 'f',\n",
              " 'pressure',\n",
              " 'indicated',\n",
              " '2',\n",
              " 'mechanism',\n",
              " 'versus',\n",
              " 'relative',\n",
              " 'permeation',\n",
              " 'male',\n",
              " 'case',\n",
              " 'followed',\n",
              " 'hour',\n",
              " 'inhibition',\n",
              " 'decrease',\n",
              " 'formation',\n",
              " 'score',\n",
              " 'local',\n",
              " 'reaction',\n",
              " 'take',\n",
              " 'experimental',\n",
              " 'age',\n",
              " 'standard',\n",
              " 'research',\n",
              " 'pharmaceutical',\n",
              " 'randomly',\n",
              " 'agents',\n",
              " 'onset',\n",
              " 'way',\n",
              " 'although',\n",
              " 'conducted',\n",
              " 'old',\n",
              " 'surface',\n",
              " 'pre',\n",
              " 'rat',\n",
              " 'part',\n",
              " 'peak',\n",
              " 'corneal',\n",
              " 'evaluation',\n",
              " 'combined',\n",
              " 'weight',\n",
              " 'share',\n",
              " 'diagnosed',\n",
              " 'determine',\n",
              " 'amount',\n",
              " 'damage',\n",
              " 'moderate',\n",
              " 'content',\n",
              " 'product',\n",
              " 'month',\n",
              " 'th',\n",
              " 'care',\n",
              " 'growth',\n",
              " 'protein',\n",
              " 'cases',\n",
              " 'least',\n",
              " 'profiles',\n",
              " 'divided',\n",
              " 'please',\n",
              " '\\r \\n \\r \\n ',\n",
              " 'awareness',\n",
              " 'multiple',\n",
              " 'rapid',\n",
              " 'vehicle',\n",
              " 'pizza',\n",
              " 'r',\n",
              " 'would',\n",
              " 'improved',\n",
              " 'quality',\n",
              " 'among',\n",
              " 'systemic',\n",
              " 'u',\n",
              " 'pharmacokinetic',\n",
              " 'cm',\n",
              " 'resulted',\n",
              " 'according',\n",
              " 'vas',\n",
              " 'find',\n",
              " 'urine',\n",
              " 'degrees',\n",
              " 'secondary',\n",
              " 'o',\n",
              " 'carried',\n",
              " 'participants',\n",
              " 'blog',\n",
              " '4',\n",
              " 'synthesis',\n",
              " 'common',\n",
              " 'eating',\n",
              " 'happy',\n",
              " 'evidence',\n",
              " 'duration',\n",
              " 'edema',\n",
              " 'see',\n",
              " 'five',\n",
              " 'want',\n",
              " 'ever',\n",
              " 'muscle',\n",
              " 'produced',\n",
              " 'might',\n",
              " 'analgesia',\n",
              " 'sensitive',\n",
              " 'rofecoxib',\n",
              " 'temperature',\n",
              " 'term',\n",
              " 'efficiency',\n",
              " 'preparation',\n",
              " 'determination',\n",
              " 'linked',\n",
              " 'enteric',\n",
              " 'physical',\n",
              " 'microspheres',\n",
              " 'maximum',\n",
              " 'specific',\n",
              " 'detection',\n",
              " 'lesions',\n",
              " 'cmax',\n",
              " 'plus',\n",
              " 'models',\n",
              " 'production',\n",
              " 'global',\n",
              " 'third',\n",
              " 'patch',\n",
              " 'dr',\n",
              " 'interaction',\n",
              " 'joint',\n",
              " 'possible',\n",
              " 'body',\n",
              " 'expression',\n",
              " 'comparison',\n",
              " 'intestinal',\n",
              " 'naproxen',\n",
              " 'overall',\n",
              " 'medical',\n",
              " 'misoprostol',\n",
              " 'cookbook',\n",
              " 'ci',\n",
              " 'cause',\n",
              " 'still',\n",
              " 'solid',\n",
              " 'methods',\n",
              " 'considered',\n",
              " 'pellets',\n",
              " 'assessment',\n",
              " 'influence',\n",
              " 'reference',\n",
              " 'super',\n",
              " 'cross',\n",
              " 'ocular',\n",
              " 'medium',\n",
              " 'prostaglandin',\n",
              " 'story',\n",
              " 'easy',\n",
              " 'achieved',\n",
              " 'beads',\n",
              " 'technique',\n",
              " 'investigate',\n",
              " 'site',\n",
              " 'affect',\n",
              " 'complete',\n",
              " 'state',\n",
              " 'once',\n",
              " 'where',\n",
              " 'commercial',\n",
              " 'initial',\n",
              " 'even',\n",
              " 'work',\n",
              " 'liver',\n",
              " 'design',\n",
              " 'saline',\n",
              " 'flow',\n",
              " 'aspirin',\n",
              " 'against',\n",
              " 'paracetamol',\n",
              " 'them',\n",
              " 'rates',\n",
              " 'women',\n",
              " 'examined',\n",
              " 'tissues',\n",
              " 'early',\n",
              " 'small',\n",
              " 'needed',\n",
              " 'thus',\n",
              " 'comparable',\n",
              " 'second',\n",
              " 'brain',\n",
              " 'forms',\n",
              " 'outcome',\n",
              " 'volume',\n",
              " 'diffusion',\n",
              " 'intramuscular',\n",
              " 'inhibited',\n",
              " 'extent',\n",
              " 'calcium',\n",
              " 'wheat',\n",
              " 'gf',\n",
              " 'membrane',\n",
              " 'soup',\n",
              " 'novel',\n",
              " 'recorded',\n",
              " 'friends',\n",
              " 'microg',\n",
              " '5',\n",
              " 'value',\n",
              " 'characterized',\n",
              " 'co',\n",
              " 'open',\n",
              " 'complex',\n",
              " 'solubility',\n",
              " 'receiving',\n",
              " 'alpha',\n",
              " 'hplc',\n",
              " 'characteristics',\n",
              " 'phosphate',\n",
              " 'superior',\n",
              " 'indicate',\n",
              " 'dic',\n",
              " 'vascular',\n",
              " 'looking',\n",
              " 'released',\n",
              " 'cataract',\n",
              " 'eyes',\n",
              " 'additional',\n",
              " 'findings',\n",
              " '2014',\n",
              " 'medications',\n",
              " 'mild',\n",
              " 'others',\n",
              " 'affected',\n",
              " 'provided',\n",
              " 'foods',\n",
              " 'nm',\n",
              " 'treat',\n",
              " 'children',\n",
              " 'role',\n",
              " 'autographed',\n",
              " 'inhibitors',\n",
              " 'therefore',\n",
              " 'solutions',\n",
              " 'dpsgc',\n",
              " 'alternative',\n",
              " 'degree',\n",
              " 'whether',\n",
              " 'every',\n",
              " 'responses',\n",
              " 'assess',\n",
              " 'de',\n",
              " 'index',\n",
              " 'taking',\n",
              " 'back',\n",
              " 'since',\n",
              " 'bone',\n",
              " 'performance',\n",
              " 'transdermal',\n",
              " 'cream',\n",
              " 'buffer',\n",
              " 'point',\n",
              " 'drops',\n",
              " 'options',\n",
              " 'beta',\n",
              " 'fluid',\n",
              " 'try',\n",
              " 'thank',\n",
              " 'simple',\n",
              " 'information',\n",
              " 'eudragit',\n",
              " 'delicious',\n",
              " 'increasing',\n",
              " 'antiinflammatory',\n",
              " 'loaded',\n",
              " 'cardiovascular',\n",
              " 'extraction',\n",
              " 'gi',\n",
              " 'pge',\n",
              " 'preparations',\n",
              " 'too',\n",
              " 'few',\n",
              " 'tests',\n",
              " 'aged',\n",
              " 'capsules',\n",
              " 'terms',\n",
              " 'analyzed',\n",
              " 'incidence',\n",
              " 'got',\n",
              " 'clinically',\n",
              " 'lipid',\n",
              " 'rheumatoid',\n",
              " 'factors',\n",
              " 'modified',\n",
              " 'max',\n",
              " 'having',\n",
              " 'death',\n",
              " 'current',\n",
              " 'several',\n",
              " 'giveaway',\n",
              " 'management',\n",
              " 'learn',\n",
              " 'cambia',\n",
              " 'syndrome',\n",
              " 'ketorolac',\n",
              " 'sr',\n",
              " 'percentage',\n",
              " 'analgesics',\n",
              " 'kinetics',\n",
              " 'bread',\n",
              " 'info',\n",
              " 'exhibited',\n",
              " 'ldl',\n",
              " 'support',\n",
              " 'faster',\n",
              " 'factor',\n",
              " 'rabbits',\n",
              " 'enhanced',\n",
              " 'major',\n",
              " 'celecoxib',\n",
              " 'crossover',\n",
              " 'known',\n",
              " 'issues',\n",
              " 'chitosan',\n",
              " 'quinoa',\n",
              " 'il',\n",
              " 'excretion',\n",
              " 'injury',\n",
              " 'recipes',\n",
              " 'short',\n",
              " 'especially',\n",
              " 'penetration',\n",
              " 'microscopy',\n",
              " 'capsule',\n",
              " 'twice',\n",
              " 'cyclooxygenase',\n",
              " 'book',\n",
              " 'receive',\n",
              " 'salt',\n",
              " 'list',\n",
              " 'suggested',\n",
              " 'objective',\n",
              " 'criteria',\n",
              " 'hospital',\n",
              " 'hp',\n",
              " 'binding',\n",
              " 'dcf',\n",
              " 'hr',\n",
              " 'prolonged',\n",
              " 'oil',\n",
              " 'bowl',\n",
              " 'structure',\n",
              " 'next',\n",
              " '10',\n",
              " 'seen',\n",
              " 'acetaminophen',\n",
              " 'ability',\n",
              " 'systems',\n",
              " 'density',\n",
              " 'top',\n",
              " 'electron',\n",
              " 'particle',\n",
              " 'reduce',\n",
              " 'laser',\n",
              " 'reducing',\n",
              " 'variables',\n",
              " 'stability',\n",
              " 'collected',\n",
              " 'america',\n",
              " 'really',\n",
              " 'average',\n",
              " 'dosing',\n",
              " 'page',\n",
              " 'urinary',\n",
              " 'activities',\n",
              " 'serious',\n",
              " 'confirmed',\n",
              " 'independent',\n",
              " 'experience',\n",
              " 'another',\n",
              " 'required',\n",
              " 'last',\n",
              " 'signs',\n",
              " 'chocolate',\n",
              " 'child',\n",
              " 'designed',\n",
              " 'later',\n",
              " 'testing',\n",
              " 'toxicity',\n",
              " 'ophthalmic',\n",
              " 'develop',\n",
              " 'scanning',\n",
              " 'orally',\n",
              " 'across',\n",
              " 'chemical',\n",
              " 'improve',\n",
              " 'microm',\n",
              " 'arthrotec',\n",
              " 'procedure',\n",
              " 'established',\n",
              " 'sd',\n",
              " 'spectroscopy',\n",
              " 'useful',\n",
              " 'condition',\n",
              " 'always',\n",
              " 'eight',\n",
              " 'event',\n",
              " 've',\n",
              " 'randomised',\n",
              " 'kids',\n",
              " 'headache',\n",
              " 'likely',\n",
              " 'hand',\n",
              " 'fast',\n",
              " 'direct',\n",
              " 'convention',\n",
              " 'distribution',\n",
              " 'experienced',\n",
              " 'coating',\n",
              " 'immediate',\n",
              " 'special',\n",
              " 'allergy',\n",
              " 'interesting',\n",
              " 'experiments',\n",
              " 'clearance',\n",
              " 'positive',\n",
              " 'getting',\n",
              " 'collagen',\n",
              " 'individual',\n",
              " 'operative',\n",
              " 'dfs',\n",
              " 'feel',\n",
              " 'series',\n",
              " 'selective',\n",
              " 'coeliac',\n",
              " 'potent',\n",
              " 'flare',\n",
              " 'mt',\n",
              " 'involved',\n",
              " 'curve',\n",
              " 'avoid',\n",
              " 'slow',\n",
              " 'examination',\n",
              " 'approximately',\n",
              " 'he',\n",
              " 'hey',\n",
              " 'aes',\n",
              " 'prospective',\n",
              " '3',\n",
              " 'compounds',\n",
              " 'seven',\n",
              " 'her',\n",
              " 'diseases',\n",
              " 'equivalent',\n",
              " 'cs',\n",
              " 'detected',\n",
              " 'tmax',\n",
              " 'whole',\n",
              " 'limit',\n",
              " 'live',\n",
              " 'recent',\n",
              " 'start',\n",
              " 'prior',\n",
              " 'rescue',\n",
              " 'df',\n",
              " 'measures',\n",
              " 'relaxation',\n",
              " 'large',\n",
              " 'able',\n",
              " 'down',\n",
              " 'selected',\n",
              " 'makes',\n",
              " 'highly',\n",
              " 'molecular',\n",
              " 'hear',\n",
              " 'chloride',\n",
              " 'alginate',\n",
              " 'hpmc',\n",
              " 'occurred',\n",
              " 'loading',\n",
              " 'assay',\n",
              " 'dexamethasone',\n",
              " 'percent',\n",
              " 'outcomes',\n",
              " 'report',\n",
              " 'intravenous',\n",
              " 'anyone',\n",
              " 'plant',\n",
              " 'own',\n",
              " 'measurements',\n",
              " 'result',\n",
              " 'yes',\n",
              " 'ask',\n",
              " 'interval',\n",
              " 'twenty',\n",
              " 'identified',\n",
              " 'median',\n",
              " 'community',\n",
              " 'fed',\n",
              " 'widely',\n",
              " 'morning',\n",
              " 'interview',\n",
              " 'breaking',\n",
              " 'assigned',\n",
              " 'parallel',\n",
              " 'stem',\n",
              " 'analogue',\n",
              " 'medicine',\n",
              " 'analog',\n",
              " 'effectiveness',\n",
              " 'behavior',\n",
              " 'recommended',\n",
              " 'means',\n",
              " 'optimized',\n",
              " 'prescribed',\n",
              " 'metabolites',\n",
              " 'diabetes',\n",
              " 'label',\n",
              " 'mediated',\n",
              " 'activation',\n",
              " 'injected',\n",
              " 'breakfast',\n",
              " 'absence',\n",
              " 'statins',\n",
              " 'population',\n",
              " 'female',\n",
              " 'ty',\n",
              " 'world',\n",
              " 'metabolism',\n",
              " 'adult',\n",
              " 'sunday',\n",
              " 'diagnose',\n",
              " 'piroxicam',\n",
              " 'reactions',\n",
              " 'molar',\n",
              " 'cake',\n",
              " 'his',\n",
              " 'general',\n",
              " 'target',\n",
              " 'regarding',\n",
              " 'peg',\n",
              " 'am',\n",
              " 'reasons',\n",
              " 'kidney',\n",
              " 'layer',\n",
              " 'respect',\n",
              " ...]"
            ]
          },
          "metadata": {
            "tags": []
          },
          "execution_count": 21
        }
      ]
    },
    {
      "cell_type": "code",
      "metadata": {
        "id": "yPWr03mls3VT",
        "colab_type": "code",
        "outputId": "ec2eec83-c7c2-4c73-c2f7-1c6d24283b7b",
        "colab": {
          "base_uri": "https://localhost:8080/",
          "height": 17
        }
      },
      "source": [
        "model_path = path/'models'\n",
        "model_path.mkdir(exist_ok=True)\n",
        "url = 'http://files.fast.ai/models/wt103_v1/'\n",
        "download_url(f'{url}lstm_wt103.pth', model_path/'lstm_wt103.pth')\n",
        "download_url(f'{url}itos_wt103.pkl', model_path/'itos_wt103.pkl')"
      ],
      "execution_count": 22,
      "outputs": [
        {
          "output_type": "display_data",
          "data": {
            "text/html": [
              ""
            ],
            "text/plain": [
              "<IPython.core.display.HTML object>"
            ]
          },
          "metadata": {
            "tags": []
          }
        },
        {
          "output_type": "display_data",
          "data": {
            "text/html": [
              ""
            ],
            "text/plain": [
              "<IPython.core.display.HTML object>"
            ]
          },
          "metadata": {
            "tags": []
          }
        }
      ]
    },
    {
      "cell_type": "code",
      "metadata": {
        "id": "JRzvWg8RtGGr",
        "colab_type": "code",
        "outputId": "c3a9d6b6-7deb-412d-ac0d-84f44a288bce",
        "colab": {
          "base_uri": "https://localhost:8080/",
          "height": 35
        }
      },
      "source": [
        "learn = language_model_learner(data_lm, AWD_LSTM, drop_mult=0.5)"
      ],
      "execution_count": 23,
      "outputs": [
        {
          "output_type": "stream",
          "text": [
            "Downloading https://s3.amazonaws.com/fast-ai-modelzoo/wt103-fwd\n"
          ],
          "name": "stdout"
        },
        {
          "output_type": "display_data",
          "data": {
            "text/html": [
              ""
            ],
            "text/plain": [
              "<IPython.core.display.HTML object>"
            ]
          },
          "metadata": {
            "tags": []
          }
        }
      ]
    },
    {
      "cell_type": "code",
      "metadata": {
        "id": "xKK7GeBev7Xn",
        "colab_type": "code",
        "outputId": "4d4c0ea1-4481-4464-fa9a-15fd690aefb3",
        "colab": {
          "base_uri": "https://localhost:8080/",
          "height": 79
        }
      },
      "source": [
        "learn.fit_one_cycle(1, 1e-2)"
      ],
      "execution_count": 24,
      "outputs": [
        {
          "output_type": "display_data",
          "data": {
            "text/html": [
              "<table border=\"1\" class=\"dataframe\">\n",
              "  <thead>\n",
              "    <tr style=\"text-align: left;\">\n",
              "      <th>epoch</th>\n",
              "      <th>train_loss</th>\n",
              "      <th>valid_loss</th>\n",
              "      <th>accuracy</th>\n",
              "      <th>time</th>\n",
              "    </tr>\n",
              "  </thead>\n",
              "  <tbody>\n",
              "    <tr>\n",
              "      <td>0</td>\n",
              "      <td>5.181131</td>\n",
              "      <td>4.624064</td>\n",
              "      <td>0.252400</td>\n",
              "      <td>22:26</td>\n",
              "    </tr>\n",
              "  </tbody>\n",
              "</table>"
            ],
            "text/plain": [
              "<IPython.core.display.HTML object>"
            ]
          },
          "metadata": {
            "tags": []
          }
        }
      ]
    },
    {
      "cell_type": "code",
      "metadata": {
        "id": "iB7rHGQCwd12",
        "colab_type": "code",
        "outputId": "18f1ede7-96ec-4449-ad36-5d37d66f27f8",
        "colab": {
          "base_uri": "https://localhost:8080/",
          "height": 79
        }
      },
      "source": [
        "learn.fit_one_cycle(1, 1e-2)"
      ],
      "execution_count": 25,
      "outputs": [
        {
          "output_type": "display_data",
          "data": {
            "text/html": [
              "<table border=\"1\" class=\"dataframe\">\n",
              "  <thead>\n",
              "    <tr style=\"text-align: left;\">\n",
              "      <th>epoch</th>\n",
              "      <th>train_loss</th>\n",
              "      <th>valid_loss</th>\n",
              "      <th>accuracy</th>\n",
              "      <th>time</th>\n",
              "    </tr>\n",
              "  </thead>\n",
              "  <tbody>\n",
              "    <tr>\n",
              "      <td>0</td>\n",
              "      <td>4.431151</td>\n",
              "      <td>4.275366</td>\n",
              "      <td>0.287519</td>\n",
              "      <td>22:36</td>\n",
              "    </tr>\n",
              "  </tbody>\n",
              "</table>"
            ],
            "text/plain": [
              "<IPython.core.display.HTML object>"
            ]
          },
          "metadata": {
            "tags": []
          }
        }
      ]
    },
    {
      "cell_type": "code",
      "metadata": {
        "id": "_BnSuAeCwkBe",
        "colab_type": "code",
        "outputId": "2ae508e3-29bb-433d-a960-eb45fc63187b",
        "colab": {
          "base_uri": "https://localhost:8080/",
          "height": 79
        }
      },
      "source": [
        "learn.fit_one_cycle(1, 1e-3)"
      ],
      "execution_count": 26,
      "outputs": [
        {
          "output_type": "display_data",
          "data": {
            "text/html": [
              "<table border=\"1\" class=\"dataframe\">\n",
              "  <thead>\n",
              "    <tr style=\"text-align: left;\">\n",
              "      <th>epoch</th>\n",
              "      <th>train_loss</th>\n",
              "      <th>valid_loss</th>\n",
              "      <th>accuracy</th>\n",
              "      <th>time</th>\n",
              "    </tr>\n",
              "  </thead>\n",
              "  <tbody>\n",
              "    <tr>\n",
              "      <td>0</td>\n",
              "      <td>4.112447</td>\n",
              "      <td>4.237433</td>\n",
              "      <td>0.291155</td>\n",
              "      <td>22:25</td>\n",
              "    </tr>\n",
              "  </tbody>\n",
              "</table>"
            ],
            "text/plain": [
              "<IPython.core.display.HTML object>"
            ]
          },
          "metadata": {
            "tags": []
          }
        }
      ]
    },
    {
      "cell_type": "code",
      "metadata": {
        "id": "MuTm-RFjwrEX",
        "colab_type": "code",
        "outputId": "8b1e9907-81f5-4b40-aee3-efec5196f05a",
        "colab": {
          "base_uri": "https://localhost:8080/",
          "height": 79
        }
      },
      "source": [
        "learn.fit_one_cycle(1, 1e-3)"
      ],
      "execution_count": 27,
      "outputs": [
        {
          "output_type": "display_data",
          "data": {
            "text/html": [
              "<table border=\"1\" class=\"dataframe\">\n",
              "  <thead>\n",
              "    <tr style=\"text-align: left;\">\n",
              "      <th>epoch</th>\n",
              "      <th>train_loss</th>\n",
              "      <th>valid_loss</th>\n",
              "      <th>accuracy</th>\n",
              "      <th>time</th>\n",
              "    </tr>\n",
              "  </thead>\n",
              "  <tbody>\n",
              "    <tr>\n",
              "      <td>0</td>\n",
              "      <td>4.050381</td>\n",
              "      <td>4.207335</td>\n",
              "      <td>0.294680</td>\n",
              "      <td>22:07</td>\n",
              "    </tr>\n",
              "  </tbody>\n",
              "</table>"
            ],
            "text/plain": [
              "<IPython.core.display.HTML object>"
            ]
          },
          "metadata": {
            "tags": []
          }
        }
      ]
    },
    {
      "cell_type": "code",
      "metadata": {
        "id": "1Er2ExO8wr7Y",
        "colab_type": "code",
        "colab": {}
      },
      "source": [
        "learn.save_encoder('tuning_pubmed_bigtweet_overlap_0_first')"
      ],
      "execution_count": 0,
      "outputs": []
    },
    {
      "cell_type": "code",
      "metadata": {
        "id": "z52cZs2qwvad",
        "colab_type": "code",
        "outputId": "3a900d77-3ed8-4307-fe08-79a7f95e7e06",
        "colab": {
          "base_uri": "https://localhost:8080/",
          "height": 79
        }
      },
      "source": [
        "learn = text_classifier_learner(data_clas,AWD_LSTM, drop_mult=0.5)\n",
        "learn.load_encoder('tuning_pubmed_bigtweet_overlap_0_first')\n",
        "learn.fit_one_cycle(1, 1e-2)"
      ],
      "execution_count": 29,
      "outputs": [
        {
          "output_type": "display_data",
          "data": {
            "text/html": [
              "<table border=\"1\" class=\"dataframe\">\n",
              "  <thead>\n",
              "    <tr style=\"text-align: left;\">\n",
              "      <th>epoch</th>\n",
              "      <th>train_loss</th>\n",
              "      <th>valid_loss</th>\n",
              "      <th>accuracy</th>\n",
              "      <th>time</th>\n",
              "    </tr>\n",
              "  </thead>\n",
              "  <tbody>\n",
              "    <tr>\n",
              "      <td>0</td>\n",
              "      <td>3.715039</td>\n",
              "      <td>3.664520</td>\n",
              "      <td>0.428402</td>\n",
              "      <td>02:33</td>\n",
              "    </tr>\n",
              "  </tbody>\n",
              "</table>"
            ],
            "text/plain": [
              "<IPython.core.display.HTML object>"
            ]
          },
          "metadata": {
            "tags": []
          }
        }
      ]
    },
    {
      "cell_type": "code",
      "metadata": {
        "id": "ImwQP1PJwzxd",
        "colab_type": "code",
        "outputId": "a3c43821-66b9-4bb1-8b2e-35b1528e6691",
        "colab": {
          "base_uri": "https://localhost:8080/",
          "height": 79
        }
      },
      "source": [
        "learn.freeze_to(-2)\n",
        "learn.fit_one_cycle(1, slice(5e-3/2., 5e-3))"
      ],
      "execution_count": 30,
      "outputs": [
        {
          "output_type": "display_data",
          "data": {
            "text/html": [
              "<table border=\"1\" class=\"dataframe\">\n",
              "  <thead>\n",
              "    <tr style=\"text-align: left;\">\n",
              "      <th>epoch</th>\n",
              "      <th>train_loss</th>\n",
              "      <th>valid_loss</th>\n",
              "      <th>accuracy</th>\n",
              "      <th>time</th>\n",
              "    </tr>\n",
              "  </thead>\n",
              "  <tbody>\n",
              "    <tr>\n",
              "      <td>0</td>\n",
              "      <td>2.864258</td>\n",
              "      <td>3.007594</td>\n",
              "      <td>0.513609</td>\n",
              "      <td>02:50</td>\n",
              "    </tr>\n",
              "  </tbody>\n",
              "</table>"
            ],
            "text/plain": [
              "<IPython.core.display.HTML object>"
            ]
          },
          "metadata": {
            "tags": []
          }
        }
      ]
    },
    {
      "cell_type": "code",
      "metadata": {
        "id": "Owff_BJXw53u",
        "colab_type": "code",
        "outputId": "23564b04-f57e-447a-89ff-8a01e39a67d0",
        "colab": {
          "base_uri": "https://localhost:8080/",
          "height": 79
        }
      },
      "source": [
        "learn.unfreeze()\n",
        "learn.fit_one_cycle(1, slice(2e-3/100, 2e-3))"
      ],
      "execution_count": 31,
      "outputs": [
        {
          "output_type": "display_data",
          "data": {
            "text/html": [
              "<table border=\"1\" class=\"dataframe\">\n",
              "  <thead>\n",
              "    <tr style=\"text-align: left;\">\n",
              "      <th>epoch</th>\n",
              "      <th>train_loss</th>\n",
              "      <th>valid_loss</th>\n",
              "      <th>accuracy</th>\n",
              "      <th>time</th>\n",
              "    </tr>\n",
              "  </thead>\n",
              "  <tbody>\n",
              "    <tr>\n",
              "      <td>0</td>\n",
              "      <td>2.328550</td>\n",
              "      <td>2.770960</td>\n",
              "      <td>0.546746</td>\n",
              "      <td>03:27</td>\n",
              "    </tr>\n",
              "  </tbody>\n",
              "</table>"
            ],
            "text/plain": [
              "<IPython.core.display.HTML object>"
            ]
          },
          "metadata": {
            "tags": []
          }
        }
      ]
    },
    {
      "cell_type": "code",
      "metadata": {
        "id": "lqAyu56V8Waq",
        "colab_type": "code",
        "outputId": "0b99334d-1472-47d2-fa2c-4b6f9e30d162",
        "colab": {
          "base_uri": "https://localhost:8080/",
          "height": 110
        }
      },
      "source": [
        "learn.fit_one_cycle(2, slice(2e-3/100, 2e-3))"
      ],
      "execution_count": 32,
      "outputs": [
        {
          "output_type": "display_data",
          "data": {
            "text/html": [
              "<table border=\"1\" class=\"dataframe\">\n",
              "  <thead>\n",
              "    <tr style=\"text-align: left;\">\n",
              "      <th>epoch</th>\n",
              "      <th>train_loss</th>\n",
              "      <th>valid_loss</th>\n",
              "      <th>accuracy</th>\n",
              "      <th>time</th>\n",
              "    </tr>\n",
              "  </thead>\n",
              "  <tbody>\n",
              "    <tr>\n",
              "      <td>0</td>\n",
              "      <td>2.052625</td>\n",
              "      <td>2.516304</td>\n",
              "      <td>0.588166</td>\n",
              "      <td>03:25</td>\n",
              "    </tr>\n",
              "    <tr>\n",
              "      <td>1</td>\n",
              "      <td>1.803252</td>\n",
              "      <td>2.441558</td>\n",
              "      <td>0.605917</td>\n",
              "      <td>03:09</td>\n",
              "    </tr>\n",
              "  </tbody>\n",
              "</table>"
            ],
            "text/plain": [
              "<IPython.core.display.HTML object>"
            ]
          },
          "metadata": {
            "tags": []
          }
        }
      ]
    },
    {
      "cell_type": "code",
      "metadata": {
        "id": "a7I1xMRp8bUd",
        "colab_type": "code",
        "outputId": "0695e8ac-4dc6-418e-e7c5-7950219a75e0",
        "colab": {
          "base_uri": "https://localhost:8080/",
          "height": 166
        }
      },
      "source": [
        "learn.fit_one_cycle(2, slice(2e-3/100, 2e-3))"
      ],
      "execution_count": 1,
      "outputs": [
        {
          "output_type": "error",
          "ename": "NameError",
          "evalue": "ignored",
          "traceback": [
            "\u001b[0;31m---------------------------------------------------------------------------\u001b[0m",
            "\u001b[0;31mNameError\u001b[0m                                 Traceback (most recent call last)",
            "\u001b[0;32m<ipython-input-1-a30eeda3f07d>\u001b[0m in \u001b[0;36m<module>\u001b[0;34m()\u001b[0m\n\u001b[0;32m----> 1\u001b[0;31m \u001b[0mlearn\u001b[0m\u001b[0;34m.\u001b[0m\u001b[0mfit_one_cycle\u001b[0m\u001b[0;34m(\u001b[0m\u001b[0;36m2\u001b[0m\u001b[0;34m,\u001b[0m \u001b[0mslice\u001b[0m\u001b[0;34m(\u001b[0m\u001b[0;36m2e-3\u001b[0m\u001b[0;34m/\u001b[0m\u001b[0;36m100\u001b[0m\u001b[0;34m,\u001b[0m \u001b[0;36m2e-3\u001b[0m\u001b[0;34m)\u001b[0m\u001b[0;34m)\u001b[0m\u001b[0;34m\u001b[0m\u001b[0;34m\u001b[0m\u001b[0m\n\u001b[0m",
            "\u001b[0;31mNameError\u001b[0m: name 'learn' is not defined"
          ]
        }
      ]
    },
    {
      "cell_type": "code",
      "metadata": {
        "id": "UAnti-XmGVfO",
        "colab_type": "code",
        "outputId": "ced540d9-b15e-4012-825b-49ccaa71204d",
        "colab": {
          "base_uri": "https://localhost:8080/",
          "height": 166
        }
      },
      "source": [
        "learn.fit_one_cycle(2, slice(2e-3/100, 2e-3))"
      ],
      "execution_count": 2,
      "outputs": [
        {
          "output_type": "error",
          "ename": "NameError",
          "evalue": "ignored",
          "traceback": [
            "\u001b[0;31m---------------------------------------------------------------------------\u001b[0m",
            "\u001b[0;31mNameError\u001b[0m                                 Traceback (most recent call last)",
            "\u001b[0;32m<ipython-input-2-a30eeda3f07d>\u001b[0m in \u001b[0;36m<module>\u001b[0;34m()\u001b[0m\n\u001b[0;32m----> 1\u001b[0;31m \u001b[0mlearn\u001b[0m\u001b[0;34m.\u001b[0m\u001b[0mfit_one_cycle\u001b[0m\u001b[0;34m(\u001b[0m\u001b[0;36m2\u001b[0m\u001b[0;34m,\u001b[0m \u001b[0mslice\u001b[0m\u001b[0;34m(\u001b[0m\u001b[0;36m2e-3\u001b[0m\u001b[0;34m/\u001b[0m\u001b[0;36m100\u001b[0m\u001b[0;34m,\u001b[0m \u001b[0;36m2e-3\u001b[0m\u001b[0;34m)\u001b[0m\u001b[0;34m)\u001b[0m\u001b[0;34m\u001b[0m\u001b[0;34m\u001b[0m\u001b[0m\n\u001b[0m",
            "\u001b[0;31mNameError\u001b[0m: name 'learn' is not defined"
          ]
        }
      ]
    },
    {
      "cell_type": "code",
      "metadata": {
        "id": "bIft7W25GwSu",
        "colab_type": "code",
        "outputId": "d891d3c4-c0af-43eb-8c02-7c9c154aa026",
        "colab": {
          "base_uri": "https://localhost:8080/",
          "height": 166
        }
      },
      "source": [
        "learn.fit_one_cycle(2, slice(2e-3/100, 2e-3))"
      ],
      "execution_count": 3,
      "outputs": [
        {
          "output_type": "error",
          "ename": "NameError",
          "evalue": "ignored",
          "traceback": [
            "\u001b[0;31m---------------------------------------------------------------------------\u001b[0m",
            "\u001b[0;31mNameError\u001b[0m                                 Traceback (most recent call last)",
            "\u001b[0;32m<ipython-input-3-a30eeda3f07d>\u001b[0m in \u001b[0;36m<module>\u001b[0;34m()\u001b[0m\n\u001b[0;32m----> 1\u001b[0;31m \u001b[0mlearn\u001b[0m\u001b[0;34m.\u001b[0m\u001b[0mfit_one_cycle\u001b[0m\u001b[0;34m(\u001b[0m\u001b[0;36m2\u001b[0m\u001b[0;34m,\u001b[0m \u001b[0mslice\u001b[0m\u001b[0;34m(\u001b[0m\u001b[0;36m2e-3\u001b[0m\u001b[0;34m/\u001b[0m\u001b[0;36m100\u001b[0m\u001b[0;34m,\u001b[0m \u001b[0;36m2e-3\u001b[0m\u001b[0;34m)\u001b[0m\u001b[0;34m)\u001b[0m\u001b[0;34m\u001b[0m\u001b[0;34m\u001b[0m\u001b[0m\n\u001b[0m",
            "\u001b[0;31mNameError\u001b[0m: name 'learn' is not defined"
          ]
        }
      ]
    },
    {
      "cell_type": "code",
      "metadata": {
        "id": "EEHszVRvGyFt",
        "colab_type": "code",
        "colab": {}
      },
      "source": [
        "learn.fit_one_cycle(2, slice(2e-3/100, 2e-3))"
      ],
      "execution_count": 0,
      "outputs": []
    },
    {
      "cell_type": "code",
      "metadata": {
        "id": "XsHfrhCHG3dN",
        "colab_type": "code",
        "colab": {}
      },
      "source": [
        "learn.fit_one_cycle(4, slice(2e-3/100, 2e-3))"
      ],
      "execution_count": 0,
      "outputs": []
    },
    {
      "cell_type": "code",
      "metadata": {
        "id": "0Zsd99isb9EQ",
        "colab_type": "code",
        "colab": {}
      },
      "source": [
        "learn.fit_one_cycle(4, slice(2e-3/100, 2e-3))"
      ],
      "execution_count": 0,
      "outputs": []
    },
    {
      "cell_type": "code",
      "metadata": {
        "id": "atNWNKDFPbuI",
        "colab_type": "code",
        "colab": {}
      },
      "source": [
        "learn.fit_one_cycle(4, slice(2e-3/100, 2e-3))"
      ],
      "execution_count": 0,
      "outputs": []
    },
    {
      "cell_type": "code",
      "metadata": {
        "id": "rKrBTZ0T1uVA",
        "colab_type": "code",
        "colab": {}
      },
      "source": [
        "learn.fit_one_cycle(4, slice(2e-3/100, 2e-3))"
      ],
      "execution_count": 0,
      "outputs": []
    },
    {
      "cell_type": "code",
      "metadata": {
        "id": "ajQC6WDg1yA9",
        "colab_type": "code",
        "colab": {}
      },
      "source": [
        "learn.fit_one_cycle(4, slice(2e-3/100, 2e-3))"
      ],
      "execution_count": 0,
      "outputs": []
    },
    {
      "cell_type": "code",
      "metadata": {
        "id": "KKydb0B4BKGk",
        "colab_type": "code",
        "colab": {}
      },
      "source": [
        "learn.fit_one_cycle(4, slice(2e-3/100, 2e-3))"
      ],
      "execution_count": 0,
      "outputs": []
    },
    {
      "cell_type": "code",
      "metadata": {
        "id": "T2APKtFKBpGY",
        "colab_type": "code",
        "colab": {}
      },
      "source": [
        "learn.fit_one_cycle(4, slice(2e-3/100, 2e-3))"
      ],
      "execution_count": 0,
      "outputs": []
    },
    {
      "cell_type": "code",
      "metadata": {
        "id": "qtTypA1sPgLU",
        "colab_type": "code",
        "colab": {}
      },
      "source": [
        "learn.fit_one_cycle(2, slice(2e-3/100, 2e-3))"
      ],
      "execution_count": 0,
      "outputs": []
    },
    {
      "cell_type": "code",
      "metadata": {
        "id": "b242kBsTUp9Y",
        "colab_type": "code",
        "colab": {}
      },
      "source": [
        "learn.fit_one_cycle(2, slice(2e-3/100, 2e-3))"
      ],
      "execution_count": 0,
      "outputs": []
    },
    {
      "cell_type": "code",
      "metadata": {
        "id": "Duwf1Ih5VeDZ",
        "colab_type": "code",
        "colab": {}
      },
      "source": [
        "learn.fit_one_cycle(1, slice(2e-3/100, 2e-3))"
      ],
      "execution_count": 0,
      "outputs": []
    },
    {
      "cell_type": "code",
      "metadata": {
        "id": "c65d-osfDUXm",
        "colab_type": "code",
        "colab": {}
      },
      "source": [
        "# save the best model\n",
        "\n",
        "learn.save_encoder('tuning_pubmed_bigtweet_overlap_0_last')"
      ],
      "execution_count": 0,
      "outputs": []
    },
    {
      "cell_type": "markdown",
      "metadata": {
        "id": "rCwZU0E2RgM6",
        "colab_type": "text"
      },
      "source": [
        "# Part three: Predict on the test dataset"
      ]
    },
    {
      "cell_type": "code",
      "metadata": {
        "id": "gDm72c-dOu7d",
        "colab_type": "code",
        "colab": {}
      },
      "source": [
        "# use the test data for prediction\n",
        "\n",
        "preds, y = learn.get_preds(DatasetType.Test)"
      ],
      "execution_count": 0,
      "outputs": []
    },
    {
      "cell_type": "code",
      "metadata": {
        "id": "6tFSQcsWPvxn",
        "colab_type": "code",
        "colab": {}
      },
      "source": [
        "predictions, *_ = learn.get_preds(DatasetType.Test)\n",
        "labels = np.argmax(predictions, 1)\n",
        "predict_list = labels.tolist()\n",
        "standard_list = test[0].tolist()\n",
        "\n",
        "print(len(predict_list))\n",
        "print(len(standard_list))\n",
        "\n",
        "print(predict_list)\n",
        "print(standard_list)"
      ],
      "execution_count": 0,
      "outputs": []
    },
    {
      "cell_type": "code",
      "metadata": {
        "id": "XIC4zufnMxtq",
        "colab_type": "code",
        "colab": {}
      },
      "source": [
        "correct_num = 0\n",
        "\n",
        "for i in range(0, len(standard_list)):\n",
        "  if predict_list[i] == standard_list[i]:\n",
        "    correct_num = correct_num+1\n",
        "  else:\n",
        "    pass\n",
        "print(correct_num)\n",
        "\n",
        "predict_accuracy = correct_num/len(predict_list)\n",
        "print(predict_accuracy)"
      ],
      "execution_count": 0,
      "outputs": []
    }
  ]
}