{
  "nbformat": 4,
  "nbformat_minor": 0,
  "metadata": {
    "colab": {
      "name": "askApatient_overlap_50_cadec.ipynb",
      "provenance": [],
      "collapsed_sections": [],
      "toc_visible": true,
      "include_colab_link": true
    },
    "kernelspec": {
      "name": "python3",
      "display_name": "Python 3"
    },
    "accelerator": "TPU"
  },
  "cells": [
    {
      "cell_type": "markdown",
      "metadata": {
        "id": "view-in-github",
        "colab_type": "text"
      },
      "source": [
        "<a href=\"https://colab.research.google.com/github/unt-iialab/medical-concept-normalization/blob/master/fine-tuning-experiments/askpatient/askApatient_overlap_50_cadec.ipynb\" target=\"_parent\"><img src=\"https://colab.research.google.com/assets/colab-badge.svg\" alt=\"Open In Colab\"/></a>"
      ]
    },
    {
      "cell_type": "code",
      "metadata": {
        "id": "adSi6i2-dWxy",
        "colab_type": "code",
        "colab": {}
      },
      "source": [
        "import os"
      ],
      "execution_count": 0,
      "outputs": []
    },
    {
      "cell_type": "code",
      "metadata": {
        "id": "E7xYCRGPjd9B",
        "colab_type": "code",
        "colab": {}
      },
      "source": [
        "base_dir = 'medical-concept-normalization'"
      ],
      "execution_count": 0,
      "outputs": []
    },
    {
      "cell_type": "code",
      "metadata": {
        "id": "yvIW3aUDjYNS",
        "colab_type": "code",
        "colab": {}
      },
      "source": [
        "os.mkdir(base_dir)"
      ],
      "execution_count": 0,
      "outputs": []
    },
    {
      "cell_type": "code",
      "metadata": {
        "id": "es-FFLlfk6SG",
        "colab_type": "code",
        "colab": {}
      },
      "source": [
        "os.mkdir('medical-concept-normalization/data_collection')"
      ],
      "execution_count": 0,
      "outputs": []
    },
    {
      "cell_type": "markdown",
      "metadata": {
        "id": "0R-Guw_VoJXm",
        "colab_type": "text"
      },
      "source": [
        "**Install fastai and clone the fastai for text classification**\n",
        "\n"
      ]
    },
    {
      "cell_type": "code",
      "metadata": {
        "id": "QVZa3Z0PmHFH",
        "colab_type": "code",
        "outputId": "3ee94b59-0959-4c78-804a-042c3bfaa7b7",
        "colab": {
          "base_uri": "https://localhost:8080/",
          "height": 102
        }
      },
      "source": [
        "!curl https://course-v3.fast.ai/setup/colab | bash"
      ],
      "execution_count": 6,
      "outputs": [
        {
          "output_type": "stream",
          "text": [
            "  % Total    % Received % Xferd  Average Speed   Time    Time     Time  Current\n",
            "                                 Dload  Upload   Total   Spent    Left  Speed\n",
            "100   287  100   287    0     0     50      0  0:00:05  0:00:05 --:--:--    68\n",
            "bash: line 1: syntax error near unexpected token `newline'\n",
            "bash: line 1: `<!DOCTYPE HTML PUBLIC \"-//IETF//DTD HTML 2.0//EN\">'\n"
          ],
          "name": "stdout"
        }
      ]
    },
    {
      "cell_type": "code",
      "metadata": {
        "id": "_FBFFEBrmJC0",
        "colab_type": "code",
        "outputId": "fdb92acd-eddb-45b3-c103-260dc41ecb16",
        "colab": {
          "base_uri": "https://localhost:8080/",
          "height": 85
        }
      },
      "source": [
        "!git clone https://github.com/wshuyi/demo-nlp-classification-fastai.git"
      ],
      "execution_count": 7,
      "outputs": [
        {
          "output_type": "stream",
          "text": [
            "Cloning into 'demo-nlp-classification-fastai'...\n",
            "remote: Enumerating objects: 9, done.\u001b[K\n",
            "remote: Total 9 (delta 0), reused 0 (delta 0), pack-reused 9\u001b[K\n",
            "Unpacking objects: 100% (9/9), done.\n"
          ],
          "name": "stdout"
        }
      ]
    },
    {
      "cell_type": "code",
      "metadata": {
        "id": "66zfh_JqmWMU",
        "colab_type": "code",
        "colab": {}
      },
      "source": [
        "from fastai import *\n",
        "from fastai.text import *"
      ],
      "execution_count": 0,
      "outputs": []
    },
    {
      "cell_type": "markdown",
      "metadata": {
        "id": "mNIw-yALdBU9",
        "colab_type": "text"
      },
      "source": [
        "**Set the path of the data collections**"
      ]
    },
    {
      "cell_type": "code",
      "metadata": {
        "id": "pzH7VMh4mqCL",
        "colab_type": "code",
        "colab": {}
      },
      "source": [
        "path = Path('medical-concept-normalization/data_collection')"
      ],
      "execution_count": 0,
      "outputs": []
    },
    {
      "cell_type": "code",
      "metadata": {
        "id": "b8fjI6yyn4aS",
        "colab_type": "code",
        "colab": {}
      },
      "source": [
        "# training data set\n",
        "\n",
        "train_csv = path/'AskAPatient.fold-0.train.csv'\n",
        "train = pd.read_csv(train_csv, header=None)\n",
        "#train.head()\n",
        "#train.info()"
      ],
      "execution_count": 0,
      "outputs": []
    },
    {
      "cell_type": "code",
      "metadata": {
        "id": "Hmlr-bAorfHd",
        "colab_type": "code",
        "outputId": "1f9de29e-a4d4-4cd9-ccaa-a6308555d22d",
        "colab": {
          "base_uri": "https://localhost:8080/",
          "height": 204
        }
      },
      "source": [
        "# validating data set\n",
        "\n",
        "valid = pd.read_csv(path/\"AskAPatient.fold-0.validation.csv\",header=None)\n",
        "valid.head()"
      ],
      "execution_count": 13,
      "outputs": [
        {
          "output_type": "execute_result",
          "data": {
            "text/html": [
              "<div>\n",
              "<style scoped>\n",
              "    .dataframe tbody tr th:only-of-type {\n",
              "        vertical-align: middle;\n",
              "    }\n",
              "\n",
              "    .dataframe tbody tr th {\n",
              "        vertical-align: top;\n",
              "    }\n",
              "\n",
              "    .dataframe thead th {\n",
              "        text-align: right;\n",
              "    }\n",
              "</style>\n",
              "<table border=\"1\" class=\"dataframe\">\n",
              "  <thead>\n",
              "    <tr style=\"text-align: right;\">\n",
              "      <th></th>\n",
              "      <th>0</th>\n",
              "      <th>1</th>\n",
              "    </tr>\n",
              "  </thead>\n",
              "  <tbody>\n",
              "    <tr>\n",
              "      <th>0</th>\n",
              "      <td>0</td>\n",
              "      <td>fear</td>\n",
              "    </tr>\n",
              "    <tr>\n",
              "      <th>1</th>\n",
              "      <td>2</td>\n",
              "      <td>heel pain</td>\n",
              "    </tr>\n",
              "    <tr>\n",
              "      <th>2</th>\n",
              "      <td>4</td>\n",
              "      <td>purple sploches around waist</td>\n",
              "    </tr>\n",
              "    <tr>\n",
              "      <th>3</th>\n",
              "      <td>7</td>\n",
              "      <td>goiter</td>\n",
              "    </tr>\n",
              "    <tr>\n",
              "      <th>4</th>\n",
              "      <td>8</td>\n",
              "      <td>ARTHRITIS</td>\n",
              "    </tr>\n",
              "  </tbody>\n",
              "</table>\n",
              "</div>"
            ],
            "text/plain": [
              "   0                             1\n",
              "0  0                          fear\n",
              "1  2                     heel pain\n",
              "2  4  purple sploches around waist\n",
              "3  7                        goiter\n",
              "4  8                     ARTHRITIS"
            ]
          },
          "metadata": {
            "tags": []
          },
          "execution_count": 13
        }
      ]
    },
    {
      "cell_type": "code",
      "metadata": {
        "id": "cOza9dfSsBud",
        "colab_type": "code",
        "outputId": "7ae5f2cc-8e58-44b7-bd15-a9d431e68bd8",
        "colab": {
          "base_uri": "https://localhost:8080/",
          "height": 204
        }
      },
      "source": [
        "# testing data set\n",
        "\n",
        "test = pd.read_csv(path/\"AskAPatient_overlap_50.csv\",header=None)\n",
        "test.head()"
      ],
      "execution_count": 14,
      "outputs": [
        {
          "output_type": "execute_result",
          "data": {
            "text/html": [
              "<div>\n",
              "<style scoped>\n",
              "    .dataframe tbody tr th:only-of-type {\n",
              "        vertical-align: middle;\n",
              "    }\n",
              "\n",
              "    .dataframe tbody tr th {\n",
              "        vertical-align: top;\n",
              "    }\n",
              "\n",
              "    .dataframe thead th {\n",
              "        text-align: right;\n",
              "    }\n",
              "</style>\n",
              "<table border=\"1\" class=\"dataframe\">\n",
              "  <thead>\n",
              "    <tr style=\"text-align: right;\">\n",
              "      <th></th>\n",
              "      <th>0</th>\n",
              "      <th>1</th>\n",
              "    </tr>\n",
              "  </thead>\n",
              "  <tbody>\n",
              "    <tr>\n",
              "      <th>0</th>\n",
              "      <td>0</td>\n",
              "      <td>'scared' feeling</td>\n",
              "    </tr>\n",
              "    <tr>\n",
              "      <th>1</th>\n",
              "      <td>2</td>\n",
              "      <td>heel pain</td>\n",
              "    </tr>\n",
              "    <tr>\n",
              "      <th>2</th>\n",
              "      <td>3</td>\n",
              "      <td>cracking sensations in my joints</td>\n",
              "    </tr>\n",
              "    <tr>\n",
              "      <th>3</th>\n",
              "      <td>4</td>\n",
              "      <td>purple sploches around waist</td>\n",
              "    </tr>\n",
              "    <tr>\n",
              "      <th>4</th>\n",
              "      <td>5</td>\n",
              "      <td>fast and slow heartbeat</td>\n",
              "    </tr>\n",
              "  </tbody>\n",
              "</table>\n",
              "</div>"
            ],
            "text/plain": [
              "   0                                 1\n",
              "0  0                  'scared' feeling\n",
              "1  2                         heel pain\n",
              "2  3  cracking sensations in my joints\n",
              "3  4      purple sploches around waist\n",
              "4  5           fast and slow heartbeat"
            ]
          },
          "metadata": {
            "tags": []
          },
          "execution_count": 14
        }
      ]
    },
    {
      "cell_type": "code",
      "metadata": {
        "id": "Vo-YNvVYoaH6",
        "colab_type": "code",
        "colab": {}
      },
      "source": [
        "# Creating DataBunch for language modelling\n",
        "\n",
        "data_lm = TextLMDataBunch.from_csv(path, 'fine_tuning_language_model_cadec_data.csv')"
      ],
      "execution_count": 0,
      "outputs": []
    },
    {
      "cell_type": "code",
      "metadata": {
        "id": "1ScY9afDsnvE",
        "colab_type": "code",
        "colab": {}
      },
      "source": [
        "# Creating DataBunch for classification\n",
        "\n",
        "# data_clas = TextClasDataBunch.from_df(path, train, valid, test, vocab=data_lm.train_ds.vocab, bs=128)"
      ],
      "execution_count": 0,
      "outputs": []
    },
    {
      "cell_type": "code",
      "metadata": {
        "id": "gzrSdQcvey9p",
        "colab_type": "code",
        "colab": {}
      },
      "source": [
        "data_clas = TextClasDataBunch.from_df(path, train, valid, vocab=data_lm.train_ds.vocab, bs=128)"
      ],
      "execution_count": 0,
      "outputs": []
    },
    {
      "cell_type": "code",
      "metadata": {
        "id": "MD27Tf0Ke3ou",
        "colab_type": "code",
        "colab": {}
      },
      "source": [
        "data_clas.add_test(test,label=0)\n"
      ],
      "execution_count": 0,
      "outputs": []
    },
    {
      "cell_type": "code",
      "metadata": {
        "id": "-dpjnk_rstwk",
        "colab_type": "code",
        "outputId": "9581e2c3-c5e7-412b-9ca0-b076df309322",
        "colab": {
          "base_uri": "https://localhost:8080/",
          "height": 71
        }
      },
      "source": [
        "data_lm.save()\n",
        "data_clas.save()"
      ],
      "execution_count": 19,
      "outputs": [
        {
          "output_type": "stream",
          "text": [
            "/usr/local/lib/python3.6/dist-packages/torch/serialization.py:292: UserWarning: Couldn't retrieve source code for container of type CrossEntropyLoss. It won't be checked for correctness upon loading.\n",
            "  \"type \" + obj.__name__ + \". It won't be checked \"\n"
          ],
          "name": "stderr"
        }
      ]
    },
    {
      "cell_type": "code",
      "metadata": {
        "id": "4OkiJa36sw5s",
        "colab_type": "code",
        "colab": {}
      },
      "source": [
        "data_lm.train_ds.vocab.itos"
      ],
      "execution_count": 0,
      "outputs": []
    },
    {
      "cell_type": "code",
      "metadata": {
        "id": "yPWr03mls3VT",
        "colab_type": "code",
        "colab": {}
      },
      "source": [
        "model_path = path/'models'\n",
        "model_path.mkdir(exist_ok=True)\n",
        "url = 'http://files.fast.ai/models/wt103_v1/'\n",
        "download_url(f'{url}lstm_wt103.pth', model_path/'lstm_wt103.pth')\n",
        "download_url(f'{url}itos_wt103.pkl', model_path/'itos_wt103.pkl')"
      ],
      "execution_count": 0,
      "outputs": []
    },
    {
      "cell_type": "code",
      "metadata": {
        "id": "JRzvWg8RtGGr",
        "colab_type": "code",
        "colab": {}
      },
      "source": [
        "learn = language_model_learner(data_lm, AWD_LSTM, drop_mult=0.5)"
      ],
      "execution_count": 0,
      "outputs": []
    },
    {
      "cell_type": "code",
      "metadata": {
        "id": "xKK7GeBev7Xn",
        "colab_type": "code",
        "outputId": "9cc6b7c0-637f-4bc4-daa4-39aa720bd2b9",
        "colab": {
          "base_uri": "https://localhost:8080/",
          "height": 80
        }
      },
      "source": [
        "learn.fit_one_cycle(1, 1e-2)"
      ],
      "execution_count": 23,
      "outputs": [
        {
          "output_type": "display_data",
          "data": {
            "text/html": [
              "<table border=\"1\" class=\"dataframe\">\n",
              "  <thead>\n",
              "    <tr style=\"text-align: left;\">\n",
              "      <th>epoch</th>\n",
              "      <th>train_loss</th>\n",
              "      <th>valid_loss</th>\n",
              "      <th>accuracy</th>\n",
              "      <th>time</th>\n",
              "    </tr>\n",
              "  </thead>\n",
              "  <tbody>\n",
              "    <tr>\n",
              "      <td>0</td>\n",
              "      <td>4.849347</td>\n",
              "      <td>4.222500</td>\n",
              "      <td>0.216869</td>\n",
              "      <td>03:57</td>\n",
              "    </tr>\n",
              "  </tbody>\n",
              "</table>"
            ],
            "text/plain": [
              "<IPython.core.display.HTML object>"
            ]
          },
          "metadata": {
            "tags": []
          }
        }
      ]
    },
    {
      "cell_type": "code",
      "metadata": {
        "id": "iB7rHGQCwd12",
        "colab_type": "code",
        "colab": {
          "base_uri": "https://localhost:8080/",
          "height": 80
        },
        "outputId": "40ab909f-d697-46e0-e73e-38280c91ccc9"
      },
      "source": [
        "learn.fit_one_cycle(1, 1e-2)"
      ],
      "execution_count": 24,
      "outputs": [
        {
          "output_type": "display_data",
          "data": {
            "text/html": [
              "<table border=\"1\" class=\"dataframe\">\n",
              "  <thead>\n",
              "    <tr style=\"text-align: left;\">\n",
              "      <th>epoch</th>\n",
              "      <th>train_loss</th>\n",
              "      <th>valid_loss</th>\n",
              "      <th>accuracy</th>\n",
              "      <th>time</th>\n",
              "    </tr>\n",
              "  </thead>\n",
              "  <tbody>\n",
              "    <tr>\n",
              "      <td>0</td>\n",
              "      <td>3.989234</td>\n",
              "      <td>3.713879</td>\n",
              "      <td>0.293495</td>\n",
              "      <td>03:57</td>\n",
              "    </tr>\n",
              "  </tbody>\n",
              "</table>"
            ],
            "text/plain": [
              "<IPython.core.display.HTML object>"
            ]
          },
          "metadata": {
            "tags": []
          }
        }
      ]
    },
    {
      "cell_type": "code",
      "metadata": {
        "id": "_BnSuAeCwkBe",
        "colab_type": "code",
        "colab": {
          "base_uri": "https://localhost:8080/",
          "height": 80
        },
        "outputId": "8b6eedbb-93af-419d-bc98-8d4d067d39d3"
      },
      "source": [
        "learn.fit_one_cycle(1, 1e-3)"
      ],
      "execution_count": 25,
      "outputs": [
        {
          "output_type": "display_data",
          "data": {
            "text/html": [
              "<table border=\"1\" class=\"dataframe\">\n",
              "  <thead>\n",
              "    <tr style=\"text-align: left;\">\n",
              "      <th>epoch</th>\n",
              "      <th>train_loss</th>\n",
              "      <th>valid_loss</th>\n",
              "      <th>accuracy</th>\n",
              "      <th>time</th>\n",
              "    </tr>\n",
              "  </thead>\n",
              "  <tbody>\n",
              "    <tr>\n",
              "      <td>0</td>\n",
              "      <td>3.709468</td>\n",
              "      <td>3.683853</td>\n",
              "      <td>0.298119</td>\n",
              "      <td>03:58</td>\n",
              "    </tr>\n",
              "  </tbody>\n",
              "</table>"
            ],
            "text/plain": [
              "<IPython.core.display.HTML object>"
            ]
          },
          "metadata": {
            "tags": []
          }
        }
      ]
    },
    {
      "cell_type": "code",
      "metadata": {
        "id": "MuTm-RFjwrEX",
        "colab_type": "code",
        "colab": {
          "base_uri": "https://localhost:8080/",
          "height": 80
        },
        "outputId": "2264dede-9fb5-4425-e31b-9d2fffb4c4f8"
      },
      "source": [
        "learn.fit_one_cycle(1, 1e-3)"
      ],
      "execution_count": 26,
      "outputs": [
        {
          "output_type": "display_data",
          "data": {
            "text/html": [
              "<table border=\"1\" class=\"dataframe\">\n",
              "  <thead>\n",
              "    <tr style=\"text-align: left;\">\n",
              "      <th>epoch</th>\n",
              "      <th>train_loss</th>\n",
              "      <th>valid_loss</th>\n",
              "      <th>accuracy</th>\n",
              "      <th>time</th>\n",
              "    </tr>\n",
              "  </thead>\n",
              "  <tbody>\n",
              "    <tr>\n",
              "      <td>0</td>\n",
              "      <td>3.668819</td>\n",
              "      <td>3.661555</td>\n",
              "      <td>0.300255</td>\n",
              "      <td>03:54</td>\n",
              "    </tr>\n",
              "  </tbody>\n",
              "</table>"
            ],
            "text/plain": [
              "<IPython.core.display.HTML object>"
            ]
          },
          "metadata": {
            "tags": []
          }
        }
      ]
    },
    {
      "cell_type": "code",
      "metadata": {
        "id": "1Er2ExO8wr7Y",
        "colab_type": "code",
        "colab": {}
      },
      "source": [
        "learn.save_encoder('AskAPatient_overlap_50_first')"
      ],
      "execution_count": 0,
      "outputs": []
    },
    {
      "cell_type": "code",
      "metadata": {
        "id": "z52cZs2qwvad",
        "colab_type": "code",
        "colab": {
          "base_uri": "https://localhost:8080/",
          "height": 80
        },
        "outputId": "71d83ec1-b9f6-47eb-c632-3deb685f07ae"
      },
      "source": [
        "learn = text_classifier_learner(data_clas,AWD_LSTM, drop_mult=0.5)\n",
        "learn.load_encoder('AskAPatient_overlap_50_first')\n",
        "learn.fit_one_cycle(1, 1e-2)"
      ],
      "execution_count": 28,
      "outputs": [
        {
          "output_type": "display_data",
          "data": {
            "text/html": [
              "<table border=\"1\" class=\"dataframe\">\n",
              "  <thead>\n",
              "    <tr style=\"text-align: left;\">\n",
              "      <th>epoch</th>\n",
              "      <th>train_loss</th>\n",
              "      <th>valid_loss</th>\n",
              "      <th>accuracy</th>\n",
              "      <th>time</th>\n",
              "    </tr>\n",
              "  </thead>\n",
              "  <tbody>\n",
              "    <tr>\n",
              "      <td>0</td>\n",
              "      <td>3.952562</td>\n",
              "      <td>3.557249</td>\n",
              "      <td>0.401183</td>\n",
              "      <td>01:14</td>\n",
              "    </tr>\n",
              "  </tbody>\n",
              "</table>"
            ],
            "text/plain": [
              "<IPython.core.display.HTML object>"
            ]
          },
          "metadata": {
            "tags": []
          }
        }
      ]
    },
    {
      "cell_type": "code",
      "metadata": {
        "id": "ImwQP1PJwzxd",
        "colab_type": "code",
        "colab": {
          "base_uri": "https://localhost:8080/",
          "height": 80
        },
        "outputId": "269c19c1-c9f0-4cab-9ae5-e3c64994d917"
      },
      "source": [
        "learn.freeze_to(-2)\n",
        "learn.fit_one_cycle(1, slice(5e-3/2., 5e-3))"
      ],
      "execution_count": 29,
      "outputs": [
        {
          "output_type": "display_data",
          "data": {
            "text/html": [
              "<table border=\"1\" class=\"dataframe\">\n",
              "  <thead>\n",
              "    <tr style=\"text-align: left;\">\n",
              "      <th>epoch</th>\n",
              "      <th>train_loss</th>\n",
              "      <th>valid_loss</th>\n",
              "      <th>accuracy</th>\n",
              "      <th>time</th>\n",
              "    </tr>\n",
              "  </thead>\n",
              "  <tbody>\n",
              "    <tr>\n",
              "      <td>0</td>\n",
              "      <td>2.759012</td>\n",
              "      <td>2.982780</td>\n",
              "      <td>0.501775</td>\n",
              "      <td>01:30</td>\n",
              "    </tr>\n",
              "  </tbody>\n",
              "</table>"
            ],
            "text/plain": [
              "<IPython.core.display.HTML object>"
            ]
          },
          "metadata": {
            "tags": []
          }
        }
      ]
    },
    {
      "cell_type": "code",
      "metadata": {
        "id": "Owff_BJXw53u",
        "colab_type": "code",
        "colab": {
          "base_uri": "https://localhost:8080/",
          "height": 80
        },
        "outputId": "c1e8459b-0c6a-42bb-8d1f-c7452477e58a"
      },
      "source": [
        "learn.unfreeze()\n",
        "learn.fit_one_cycle(1, slice(2e-3/100, 2e-3))"
      ],
      "execution_count": 30,
      "outputs": [
        {
          "output_type": "display_data",
          "data": {
            "text/html": [
              "<table border=\"1\" class=\"dataframe\">\n",
              "  <thead>\n",
              "    <tr style=\"text-align: left;\">\n",
              "      <th>epoch</th>\n",
              "      <th>train_loss</th>\n",
              "      <th>valid_loss</th>\n",
              "      <th>accuracy</th>\n",
              "      <th>time</th>\n",
              "    </tr>\n",
              "  </thead>\n",
              "  <tbody>\n",
              "    <tr>\n",
              "      <td>0</td>\n",
              "      <td>2.402510</td>\n",
              "      <td>2.661853</td>\n",
              "      <td>0.559763</td>\n",
              "      <td>03:52</td>\n",
              "    </tr>\n",
              "  </tbody>\n",
              "</table>"
            ],
            "text/plain": [
              "<IPython.core.display.HTML object>"
            ]
          },
          "metadata": {
            "tags": []
          }
        }
      ]
    },
    {
      "cell_type": "code",
      "metadata": {
        "id": "lqAyu56V8Waq",
        "colab_type": "code",
        "colab": {
          "base_uri": "https://localhost:8080/",
          "height": 111
        },
        "outputId": "1e90a5c2-1cf2-46e2-ebd6-65816666c99c"
      },
      "source": [
        "learn.fit_one_cycle(2, slice(2e-3/100, 2e-3))"
      ],
      "execution_count": 31,
      "outputs": [
        {
          "output_type": "display_data",
          "data": {
            "text/html": [
              "<table border=\"1\" class=\"dataframe\">\n",
              "  <thead>\n",
              "    <tr style=\"text-align: left;\">\n",
              "      <th>epoch</th>\n",
              "      <th>train_loss</th>\n",
              "      <th>valid_loss</th>\n",
              "      <th>accuracy</th>\n",
              "      <th>time</th>\n",
              "    </tr>\n",
              "  </thead>\n",
              "  <tbody>\n",
              "    <tr>\n",
              "      <td>0</td>\n",
              "      <td>2.108040</td>\n",
              "      <td>2.378290</td>\n",
              "      <td>0.594083</td>\n",
              "      <td>03:56</td>\n",
              "    </tr>\n",
              "    <tr>\n",
              "      <td>1</td>\n",
              "      <td>1.751212</td>\n",
              "      <td>2.195771</td>\n",
              "      <td>0.630769</td>\n",
              "      <td>04:00</td>\n",
              "    </tr>\n",
              "  </tbody>\n",
              "</table>"
            ],
            "text/plain": [
              "<IPython.core.display.HTML object>"
            ]
          },
          "metadata": {
            "tags": []
          }
        }
      ]
    },
    {
      "cell_type": "code",
      "metadata": {
        "id": "a7I1xMRp8bUd",
        "colab_type": "code",
        "colab": {
          "base_uri": "https://localhost:8080/",
          "height": 111
        },
        "outputId": "7ddb227c-9beb-4d39-b09f-ee5a41b13f3e"
      },
      "source": [
        "learn.fit_one_cycle(2, slice(2e-3/100, 2e-3))"
      ],
      "execution_count": 32,
      "outputs": [
        {
          "output_type": "display_data",
          "data": {
            "text/html": [
              "<table border=\"1\" class=\"dataframe\">\n",
              "  <thead>\n",
              "    <tr style=\"text-align: left;\">\n",
              "      <th>epoch</th>\n",
              "      <th>train_loss</th>\n",
              "      <th>valid_loss</th>\n",
              "      <th>accuracy</th>\n",
              "      <th>time</th>\n",
              "    </tr>\n",
              "  </thead>\n",
              "  <tbody>\n",
              "    <tr>\n",
              "      <td>0</td>\n",
              "      <td>1.622818</td>\n",
              "      <td>2.003335</td>\n",
              "      <td>0.660355</td>\n",
              "      <td>03:49</td>\n",
              "    </tr>\n",
              "    <tr>\n",
              "      <td>1</td>\n",
              "      <td>1.411817</td>\n",
              "      <td>1.907140</td>\n",
              "      <td>0.671006</td>\n",
              "      <td>03:34</td>\n",
              "    </tr>\n",
              "  </tbody>\n",
              "</table>"
            ],
            "text/plain": [
              "<IPython.core.display.HTML object>"
            ]
          },
          "metadata": {
            "tags": []
          }
        }
      ]
    },
    {
      "cell_type": "code",
      "metadata": {
        "id": "UAnti-XmGVfO",
        "colab_type": "code",
        "colab": {
          "base_uri": "https://localhost:8080/",
          "height": 111
        },
        "outputId": "919a614f-0761-4167-b640-dee16186a4d5"
      },
      "source": [
        "learn.fit_one_cycle(2, slice(2e-3/100, 2e-3))"
      ],
      "execution_count": 33,
      "outputs": [
        {
          "output_type": "display_data",
          "data": {
            "text/html": [
              "<table border=\"1\" class=\"dataframe\">\n",
              "  <thead>\n",
              "    <tr style=\"text-align: left;\">\n",
              "      <th>epoch</th>\n",
              "      <th>train_loss</th>\n",
              "      <th>valid_loss</th>\n",
              "      <th>accuracy</th>\n",
              "      <th>time</th>\n",
              "    </tr>\n",
              "  </thead>\n",
              "  <tbody>\n",
              "    <tr>\n",
              "      <td>0</td>\n",
              "      <td>1.426548</td>\n",
              "      <td>1.791969</td>\n",
              "      <td>0.691124</td>\n",
              "      <td>03:31</td>\n",
              "    </tr>\n",
              "    <tr>\n",
              "      <td>1</td>\n",
              "      <td>1.227673</td>\n",
              "      <td>1.703487</td>\n",
              "      <td>0.702959</td>\n",
              "      <td>04:01</td>\n",
              "    </tr>\n",
              "  </tbody>\n",
              "</table>"
            ],
            "text/plain": [
              "<IPython.core.display.HTML object>"
            ]
          },
          "metadata": {
            "tags": []
          }
        }
      ]
    },
    {
      "cell_type": "code",
      "metadata": {
        "id": "bIft7W25GwSu",
        "colab_type": "code",
        "colab": {
          "base_uri": "https://localhost:8080/",
          "height": 111
        },
        "outputId": "83471819-f694-440e-f0ab-943b3bfda264"
      },
      "source": [
        "learn.fit_one_cycle(2, slice(2e-3/100, 2e-3))"
      ],
      "execution_count": 34,
      "outputs": [
        {
          "output_type": "display_data",
          "data": {
            "text/html": [
              "<table border=\"1\" class=\"dataframe\">\n",
              "  <thead>\n",
              "    <tr style=\"text-align: left;\">\n",
              "      <th>epoch</th>\n",
              "      <th>train_loss</th>\n",
              "      <th>valid_loss</th>\n",
              "      <th>accuracy</th>\n",
              "      <th>time</th>\n",
              "    </tr>\n",
              "  </thead>\n",
              "  <tbody>\n",
              "    <tr>\n",
              "      <td>0</td>\n",
              "      <td>1.138234</td>\n",
              "      <td>1.654338</td>\n",
              "      <td>0.714793</td>\n",
              "      <td>03:52</td>\n",
              "    </tr>\n",
              "    <tr>\n",
              "      <td>1</td>\n",
              "      <td>1.035880</td>\n",
              "      <td>1.578298</td>\n",
              "      <td>0.733728</td>\n",
              "      <td>03:45</td>\n",
              "    </tr>\n",
              "  </tbody>\n",
              "</table>"
            ],
            "text/plain": [
              "<IPython.core.display.HTML object>"
            ]
          },
          "metadata": {
            "tags": []
          }
        }
      ]
    },
    {
      "cell_type": "code",
      "metadata": {
        "id": "EEHszVRvGyFt",
        "colab_type": "code",
        "colab": {
          "base_uri": "https://localhost:8080/",
          "height": 111
        },
        "outputId": "afa5f79f-03c8-49d9-8199-d02bdc32463a"
      },
      "source": [
        "learn.fit_one_cycle(2, slice(2e-3/100, 2e-3))"
      ],
      "execution_count": 35,
      "outputs": [
        {
          "output_type": "display_data",
          "data": {
            "text/html": [
              "<table border=\"1\" class=\"dataframe\">\n",
              "  <thead>\n",
              "    <tr style=\"text-align: left;\">\n",
              "      <th>epoch</th>\n",
              "      <th>train_loss</th>\n",
              "      <th>valid_loss</th>\n",
              "      <th>accuracy</th>\n",
              "      <th>time</th>\n",
              "    </tr>\n",
              "  </thead>\n",
              "  <tbody>\n",
              "    <tr>\n",
              "      <td>0</td>\n",
              "      <td>0.973039</td>\n",
              "      <td>1.571251</td>\n",
              "      <td>0.737278</td>\n",
              "      <td>03:50</td>\n",
              "    </tr>\n",
              "    <tr>\n",
              "      <td>1</td>\n",
              "      <td>0.927239</td>\n",
              "      <td>1.479206</td>\n",
              "      <td>0.745562</td>\n",
              "      <td>03:28</td>\n",
              "    </tr>\n",
              "  </tbody>\n",
              "</table>"
            ],
            "text/plain": [
              "<IPython.core.display.HTML object>"
            ]
          },
          "metadata": {
            "tags": []
          }
        }
      ]
    },
    {
      "cell_type": "code",
      "metadata": {
        "id": "XsHfrhCHG3dN",
        "colab_type": "code",
        "colab": {
          "base_uri": "https://localhost:8080/",
          "height": 173
        },
        "outputId": "c21e8b8d-b935-4bb0-b2d2-b6e1b57929d9"
      },
      "source": [
        "learn.fit_one_cycle(4, slice(2e-3/100, 2e-3))"
      ],
      "execution_count": 36,
      "outputs": [
        {
          "output_type": "display_data",
          "data": {
            "text/html": [
              "<table border=\"1\" class=\"dataframe\">\n",
              "  <thead>\n",
              "    <tr style=\"text-align: left;\">\n",
              "      <th>epoch</th>\n",
              "      <th>train_loss</th>\n",
              "      <th>valid_loss</th>\n",
              "      <th>accuracy</th>\n",
              "      <th>time</th>\n",
              "    </tr>\n",
              "  </thead>\n",
              "  <tbody>\n",
              "    <tr>\n",
              "      <td>0</td>\n",
              "      <td>0.847102</td>\n",
              "      <td>1.537669</td>\n",
              "      <td>0.744379</td>\n",
              "      <td>03:47</td>\n",
              "    </tr>\n",
              "    <tr>\n",
              "      <td>1</td>\n",
              "      <td>0.882296</td>\n",
              "      <td>1.467405</td>\n",
              "      <td>0.750296</td>\n",
              "      <td>03:53</td>\n",
              "    </tr>\n",
              "    <tr>\n",
              "      <td>2</td>\n",
              "      <td>0.773315</td>\n",
              "      <td>1.413571</td>\n",
              "      <td>0.772781</td>\n",
              "      <td>03:36</td>\n",
              "    </tr>\n",
              "    <tr>\n",
              "      <td>3</td>\n",
              "      <td>0.684253</td>\n",
              "      <td>1.418788</td>\n",
              "      <td>0.772781</td>\n",
              "      <td>03:40</td>\n",
              "    </tr>\n",
              "  </tbody>\n",
              "</table>"
            ],
            "text/plain": [
              "<IPython.core.display.HTML object>"
            ]
          },
          "metadata": {
            "tags": []
          }
        }
      ]
    },
    {
      "cell_type": "code",
      "metadata": {
        "id": "0Zsd99isb9EQ",
        "colab_type": "code",
        "colab": {
          "base_uri": "https://localhost:8080/",
          "height": 173
        },
        "outputId": "f4b8cd82-cef5-4827-9959-a988cfb14b73"
      },
      "source": [
        "learn.fit_one_cycle(4, slice(2e-3/100, 2e-3))"
      ],
      "execution_count": 37,
      "outputs": [
        {
          "output_type": "display_data",
          "data": {
            "text/html": [
              "<table border=\"1\" class=\"dataframe\">\n",
              "  <thead>\n",
              "    <tr style=\"text-align: left;\">\n",
              "      <th>epoch</th>\n",
              "      <th>train_loss</th>\n",
              "      <th>valid_loss</th>\n",
              "      <th>accuracy</th>\n",
              "      <th>time</th>\n",
              "    </tr>\n",
              "  </thead>\n",
              "  <tbody>\n",
              "    <tr>\n",
              "      <td>0</td>\n",
              "      <td>0.667764</td>\n",
              "      <td>1.461529</td>\n",
              "      <td>0.764497</td>\n",
              "      <td>03:42</td>\n",
              "    </tr>\n",
              "    <tr>\n",
              "      <td>1</td>\n",
              "      <td>0.764356</td>\n",
              "      <td>1.428011</td>\n",
              "      <td>0.770414</td>\n",
              "      <td>03:46</td>\n",
              "    </tr>\n",
              "    <tr>\n",
              "      <td>2</td>\n",
              "      <td>0.659974</td>\n",
              "      <td>1.389306</td>\n",
              "      <td>0.777515</td>\n",
              "      <td>03:33</td>\n",
              "    </tr>\n",
              "    <tr>\n",
              "      <td>3</td>\n",
              "      <td>0.604518</td>\n",
              "      <td>1.395294</td>\n",
              "      <td>0.779882</td>\n",
              "      <td>03:34</td>\n",
              "    </tr>\n",
              "  </tbody>\n",
              "</table>"
            ],
            "text/plain": [
              "<IPython.core.display.HTML object>"
            ]
          },
          "metadata": {
            "tags": []
          }
        }
      ]
    },
    {
      "cell_type": "code",
      "metadata": {
        "id": "atNWNKDFPbuI",
        "colab_type": "code",
        "colab": {
          "base_uri": "https://localhost:8080/",
          "height": 173
        },
        "outputId": "37ed1bee-2570-4b95-a54d-46942eb8ccdf"
      },
      "source": [
        "learn.fit_one_cycle(4, slice(2e-3/100, 2e-3))"
      ],
      "execution_count": 38,
      "outputs": [
        {
          "output_type": "display_data",
          "data": {
            "text/html": [
              "<table border=\"1\" class=\"dataframe\">\n",
              "  <thead>\n",
              "    <tr style=\"text-align: left;\">\n",
              "      <th>epoch</th>\n",
              "      <th>train_loss</th>\n",
              "      <th>valid_loss</th>\n",
              "      <th>accuracy</th>\n",
              "      <th>time</th>\n",
              "    </tr>\n",
              "  </thead>\n",
              "  <tbody>\n",
              "    <tr>\n",
              "      <td>0</td>\n",
              "      <td>0.609861</td>\n",
              "      <td>1.442950</td>\n",
              "      <td>0.771598</td>\n",
              "      <td>03:29</td>\n",
              "    </tr>\n",
              "    <tr>\n",
              "      <td>1</td>\n",
              "      <td>0.632271</td>\n",
              "      <td>1.522272</td>\n",
              "      <td>0.771598</td>\n",
              "      <td>03:53</td>\n",
              "    </tr>\n",
              "    <tr>\n",
              "      <td>2</td>\n",
              "      <td>0.563899</td>\n",
              "      <td>1.383939</td>\n",
              "      <td>0.789349</td>\n",
              "      <td>03:27</td>\n",
              "    </tr>\n",
              "    <tr>\n",
              "      <td>3</td>\n",
              "      <td>0.540976</td>\n",
              "      <td>1.430104</td>\n",
              "      <td>0.783432</td>\n",
              "      <td>03:30</td>\n",
              "    </tr>\n",
              "  </tbody>\n",
              "</table>"
            ],
            "text/plain": [
              "<IPython.core.display.HTML object>"
            ]
          },
          "metadata": {
            "tags": []
          }
        }
      ]
    },
    {
      "cell_type": "code",
      "metadata": {
        "id": "rKrBTZ0T1uVA",
        "colab_type": "code",
        "colab": {
          "base_uri": "https://localhost:8080/",
          "height": 173
        },
        "outputId": "88e3b92d-c444-4768-d1e3-ceed5750a434"
      },
      "source": [
        "learn.fit_one_cycle(4, slice(2e-3/100, 2e-3))"
      ],
      "execution_count": 39,
      "outputs": [
        {
          "output_type": "display_data",
          "data": {
            "text/html": [
              "<table border=\"1\" class=\"dataframe\">\n",
              "  <thead>\n",
              "    <tr style=\"text-align: left;\">\n",
              "      <th>epoch</th>\n",
              "      <th>train_loss</th>\n",
              "      <th>valid_loss</th>\n",
              "      <th>accuracy</th>\n",
              "      <th>time</th>\n",
              "    </tr>\n",
              "  </thead>\n",
              "  <tbody>\n",
              "    <tr>\n",
              "      <td>0</td>\n",
              "      <td>0.527094</td>\n",
              "      <td>1.447261</td>\n",
              "      <td>0.772781</td>\n",
              "      <td>03:37</td>\n",
              "    </tr>\n",
              "    <tr>\n",
              "      <td>1</td>\n",
              "      <td>0.567509</td>\n",
              "      <td>1.481953</td>\n",
              "      <td>0.775148</td>\n",
              "      <td>03:33</td>\n",
              "    </tr>\n",
              "    <tr>\n",
              "      <td>2</td>\n",
              "      <td>0.562092</td>\n",
              "      <td>1.402750</td>\n",
              "      <td>0.782248</td>\n",
              "      <td>03:39</td>\n",
              "    </tr>\n",
              "    <tr>\n",
              "      <td>3</td>\n",
              "      <td>0.473646</td>\n",
              "      <td>1.433579</td>\n",
              "      <td>0.783432</td>\n",
              "      <td>03:48</td>\n",
              "    </tr>\n",
              "  </tbody>\n",
              "</table>"
            ],
            "text/plain": [
              "<IPython.core.display.HTML object>"
            ]
          },
          "metadata": {
            "tags": []
          }
        }
      ]
    },
    {
      "cell_type": "code",
      "metadata": {
        "id": "l49hlnWh3Ttc",
        "colab_type": "code",
        "colab": {
          "base_uri": "https://localhost:8080/",
          "height": 173
        },
        "outputId": "a0bd40ee-b04c-4d5b-eb57-83282bebd0f8"
      },
      "source": [
        "learn.fit_one_cycle(4, slice(2e-3/100, 2e-3))"
      ],
      "execution_count": 40,
      "outputs": [
        {
          "output_type": "display_data",
          "data": {
            "text/html": [
              "<table border=\"1\" class=\"dataframe\">\n",
              "  <thead>\n",
              "    <tr style=\"text-align: left;\">\n",
              "      <th>epoch</th>\n",
              "      <th>train_loss</th>\n",
              "      <th>valid_loss</th>\n",
              "      <th>accuracy</th>\n",
              "      <th>time</th>\n",
              "    </tr>\n",
              "  </thead>\n",
              "  <tbody>\n",
              "    <tr>\n",
              "      <td>0</td>\n",
              "      <td>0.495471</td>\n",
              "      <td>1.452841</td>\n",
              "      <td>0.779882</td>\n",
              "      <td>03:36</td>\n",
              "    </tr>\n",
              "    <tr>\n",
              "      <td>1</td>\n",
              "      <td>0.535470</td>\n",
              "      <td>1.395574</td>\n",
              "      <td>0.779882</td>\n",
              "      <td>03:37</td>\n",
              "    </tr>\n",
              "    <tr>\n",
              "      <td>2</td>\n",
              "      <td>0.474589</td>\n",
              "      <td>1.398302</td>\n",
              "      <td>0.783432</td>\n",
              "      <td>03:48</td>\n",
              "    </tr>\n",
              "    <tr>\n",
              "      <td>3</td>\n",
              "      <td>0.435573</td>\n",
              "      <td>1.398490</td>\n",
              "      <td>0.785799</td>\n",
              "      <td>03:47</td>\n",
              "    </tr>\n",
              "  </tbody>\n",
              "</table>"
            ],
            "text/plain": [
              "<IPython.core.display.HTML object>"
            ]
          },
          "metadata": {
            "tags": []
          }
        }
      ]
    },
    {
      "cell_type": "code",
      "metadata": {
        "id": "eOHV1B2U3ZDj",
        "colab_type": "code",
        "colab": {
          "base_uri": "https://localhost:8080/",
          "height": 173
        },
        "outputId": "c97a720c-a687-4344-bd47-d9ffeaa2b8b3"
      },
      "source": [
        "learn.fit_one_cycle(4, slice(2e-3/100, 2e-3))"
      ],
      "execution_count": 41,
      "outputs": [
        {
          "output_type": "display_data",
          "data": {
            "text/html": [
              "<table border=\"1\" class=\"dataframe\">\n",
              "  <thead>\n",
              "    <tr style=\"text-align: left;\">\n",
              "      <th>epoch</th>\n",
              "      <th>train_loss</th>\n",
              "      <th>valid_loss</th>\n",
              "      <th>accuracy</th>\n",
              "      <th>time</th>\n",
              "    </tr>\n",
              "  </thead>\n",
              "  <tbody>\n",
              "    <tr>\n",
              "      <td>0</td>\n",
              "      <td>0.504858</td>\n",
              "      <td>1.477849</td>\n",
              "      <td>0.786982</td>\n",
              "      <td>03:31</td>\n",
              "    </tr>\n",
              "    <tr>\n",
              "      <td>1</td>\n",
              "      <td>0.515791</td>\n",
              "      <td>1.541177</td>\n",
              "      <td>0.792899</td>\n",
              "      <td>03:46</td>\n",
              "    </tr>\n",
              "    <tr>\n",
              "      <td>2</td>\n",
              "      <td>0.496942</td>\n",
              "      <td>1.502005</td>\n",
              "      <td>0.791716</td>\n",
              "      <td>03:34</td>\n",
              "    </tr>\n",
              "    <tr>\n",
              "      <td>3</td>\n",
              "      <td>0.444007</td>\n",
              "      <td>1.440294</td>\n",
              "      <td>0.794083</td>\n",
              "      <td>03:58</td>\n",
              "    </tr>\n",
              "  </tbody>\n",
              "</table>"
            ],
            "text/plain": [
              "<IPython.core.display.HTML object>"
            ]
          },
          "metadata": {
            "tags": []
          }
        }
      ]
    },
    {
      "cell_type": "code",
      "metadata": {
        "id": "FA9z91sk3Zyy",
        "colab_type": "code",
        "colab": {
          "base_uri": "https://localhost:8080/",
          "height": 173
        },
        "outputId": "e9f0c750-d2bb-4382-9632-f99a66fabc10"
      },
      "source": [
        "learn.fit_one_cycle(4, slice(2e-3/100, 2e-3))"
      ],
      "execution_count": 42,
      "outputs": [
        {
          "output_type": "display_data",
          "data": {
            "text/html": [
              "<table border=\"1\" class=\"dataframe\">\n",
              "  <thead>\n",
              "    <tr style=\"text-align: left;\">\n",
              "      <th>epoch</th>\n",
              "      <th>train_loss</th>\n",
              "      <th>valid_loss</th>\n",
              "      <th>accuracy</th>\n",
              "      <th>time</th>\n",
              "    </tr>\n",
              "  </thead>\n",
              "  <tbody>\n",
              "    <tr>\n",
              "      <td>0</td>\n",
              "      <td>0.483692</td>\n",
              "      <td>1.474134</td>\n",
              "      <td>0.788166</td>\n",
              "      <td>03:47</td>\n",
              "    </tr>\n",
              "    <tr>\n",
              "      <td>1</td>\n",
              "      <td>0.469414</td>\n",
              "      <td>1.467598</td>\n",
              "      <td>0.784615</td>\n",
              "      <td>03:45</td>\n",
              "    </tr>\n",
              "    <tr>\n",
              "      <td>2</td>\n",
              "      <td>0.432906</td>\n",
              "      <td>1.458059</td>\n",
              "      <td>0.790533</td>\n",
              "      <td>03:48</td>\n",
              "    </tr>\n",
              "    <tr>\n",
              "      <td>3</td>\n",
              "      <td>0.462790</td>\n",
              "      <td>1.442362</td>\n",
              "      <td>0.790533</td>\n",
              "      <td>03:46</td>\n",
              "    </tr>\n",
              "  </tbody>\n",
              "</table>"
            ],
            "text/plain": [
              "<IPython.core.display.HTML object>"
            ]
          },
          "metadata": {
            "tags": []
          }
        }
      ]
    },
    {
      "cell_type": "code",
      "metadata": {
        "id": "9JbjgW6n3b1K",
        "colab_type": "code",
        "colab": {
          "base_uri": "https://localhost:8080/",
          "height": 173
        },
        "outputId": "25f3b3c5-e3d0-4c3d-c778-249ca48de289"
      },
      "source": [
        "learn.fit_one_cycle(4, slice(2e-3/100, 2e-3))"
      ],
      "execution_count": 43,
      "outputs": [
        {
          "output_type": "display_data",
          "data": {
            "text/html": [
              "<table border=\"1\" class=\"dataframe\">\n",
              "  <thead>\n",
              "    <tr style=\"text-align: left;\">\n",
              "      <th>epoch</th>\n",
              "      <th>train_loss</th>\n",
              "      <th>valid_loss</th>\n",
              "      <th>accuracy</th>\n",
              "      <th>time</th>\n",
              "    </tr>\n",
              "  </thead>\n",
              "  <tbody>\n",
              "    <tr>\n",
              "      <td>0</td>\n",
              "      <td>0.449780</td>\n",
              "      <td>1.463937</td>\n",
              "      <td>0.784615</td>\n",
              "      <td>03:34</td>\n",
              "    </tr>\n",
              "    <tr>\n",
              "      <td>1</td>\n",
              "      <td>0.519230</td>\n",
              "      <td>1.475873</td>\n",
              "      <td>0.788166</td>\n",
              "      <td>03:42</td>\n",
              "    </tr>\n",
              "    <tr>\n",
              "      <td>2</td>\n",
              "      <td>0.473085</td>\n",
              "      <td>1.478184</td>\n",
              "      <td>0.788166</td>\n",
              "      <td>03:24</td>\n",
              "    </tr>\n",
              "    <tr>\n",
              "      <td>3</td>\n",
              "      <td>0.429883</td>\n",
              "      <td>1.495082</td>\n",
              "      <td>0.790533</td>\n",
              "      <td>03:31</td>\n",
              "    </tr>\n",
              "  </tbody>\n",
              "</table>"
            ],
            "text/plain": [
              "<IPython.core.display.HTML object>"
            ]
          },
          "metadata": {
            "tags": []
          }
        }
      ]
    },
    {
      "cell_type": "code",
      "metadata": {
        "id": "3gq-Lep13cqS",
        "colab_type": "code",
        "colab": {
          "base_uri": "https://localhost:8080/",
          "height": 173
        },
        "outputId": "7e9db682-47ab-4845-b6cf-e5245cd0dc0b"
      },
      "source": [
        "learn.fit_one_cycle(4, slice(2e-3/100, 2e-3))"
      ],
      "execution_count": 44,
      "outputs": [
        {
          "output_type": "display_data",
          "data": {
            "text/html": [
              "<table border=\"1\" class=\"dataframe\">\n",
              "  <thead>\n",
              "    <tr style=\"text-align: left;\">\n",
              "      <th>epoch</th>\n",
              "      <th>train_loss</th>\n",
              "      <th>valid_loss</th>\n",
              "      <th>accuracy</th>\n",
              "      <th>time</th>\n",
              "    </tr>\n",
              "  </thead>\n",
              "  <tbody>\n",
              "    <tr>\n",
              "      <td>0</td>\n",
              "      <td>0.422661</td>\n",
              "      <td>1.532468</td>\n",
              "      <td>0.789349</td>\n",
              "      <td>03:51</td>\n",
              "    </tr>\n",
              "    <tr>\n",
              "      <td>1</td>\n",
              "      <td>0.491974</td>\n",
              "      <td>1.461807</td>\n",
              "      <td>0.789349</td>\n",
              "      <td>03:28</td>\n",
              "    </tr>\n",
              "    <tr>\n",
              "      <td>2</td>\n",
              "      <td>0.443358</td>\n",
              "      <td>1.534326</td>\n",
              "      <td>0.791716</td>\n",
              "      <td>03:34</td>\n",
              "    </tr>\n",
              "    <tr>\n",
              "      <td>3</td>\n",
              "      <td>0.441941</td>\n",
              "      <td>1.601632</td>\n",
              "      <td>0.786982</td>\n",
              "      <td>03:43</td>\n",
              "    </tr>\n",
              "  </tbody>\n",
              "</table>"
            ],
            "text/plain": [
              "<IPython.core.display.HTML object>"
            ]
          },
          "metadata": {
            "tags": []
          }
        }
      ]
    },
    {
      "cell_type": "code",
      "metadata": {
        "id": "fr_3Rw6A3zSL",
        "colab_type": "code",
        "colab": {
          "base_uri": "https://localhost:8080/",
          "height": 173
        },
        "outputId": "03e75513-84a0-4e41-aa72-1ee1cfa50bb4"
      },
      "source": [
        "learn.fit_one_cycle(4, slice(2e-3/100, 2e-3))"
      ],
      "execution_count": 45,
      "outputs": [
        {
          "output_type": "display_data",
          "data": {
            "text/html": [
              "<table border=\"1\" class=\"dataframe\">\n",
              "  <thead>\n",
              "    <tr style=\"text-align: left;\">\n",
              "      <th>epoch</th>\n",
              "      <th>train_loss</th>\n",
              "      <th>valid_loss</th>\n",
              "      <th>accuracy</th>\n",
              "      <th>time</th>\n",
              "    </tr>\n",
              "  </thead>\n",
              "  <tbody>\n",
              "    <tr>\n",
              "      <td>0</td>\n",
              "      <td>0.430156</td>\n",
              "      <td>1.534223</td>\n",
              "      <td>0.788166</td>\n",
              "      <td>03:53</td>\n",
              "    </tr>\n",
              "    <tr>\n",
              "      <td>1</td>\n",
              "      <td>0.473192</td>\n",
              "      <td>1.512355</td>\n",
              "      <td>0.789349</td>\n",
              "      <td>03:34</td>\n",
              "    </tr>\n",
              "    <tr>\n",
              "      <td>2</td>\n",
              "      <td>0.423902</td>\n",
              "      <td>1.465293</td>\n",
              "      <td>0.791716</td>\n",
              "      <td>03:42</td>\n",
              "    </tr>\n",
              "    <tr>\n",
              "      <td>3</td>\n",
              "      <td>0.422353</td>\n",
              "      <td>1.521817</td>\n",
              "      <td>0.792899</td>\n",
              "      <td>03:55</td>\n",
              "    </tr>\n",
              "  </tbody>\n",
              "</table>"
            ],
            "text/plain": [
              "<IPython.core.display.HTML object>"
            ]
          },
          "metadata": {
            "tags": []
          }
        }
      ]
    },
    {
      "cell_type": "code",
      "metadata": {
        "id": "c65d-osfDUXm",
        "colab_type": "code",
        "colab": {}
      },
      "source": [
        "# save the best model\n",
        "\n",
        "learn.save_encoder('AskAPatient_overlap_50')"
      ],
      "execution_count": 0,
      "outputs": []
    },
    {
      "cell_type": "markdown",
      "metadata": {
        "id": "rCwZU0E2RgM6",
        "colab_type": "text"
      },
      "source": [
        "# Part three: Predict on the test dataset"
      ]
    },
    {
      "cell_type": "code",
      "metadata": {
        "id": "gDm72c-dOu7d",
        "colab_type": "code",
        "colab": {}
      },
      "source": [
        "# use the test data for prediction\n",
        "\n",
        "preds, y = learn.get_preds(DatasetType.Test)"
      ],
      "execution_count": 0,
      "outputs": []
    },
    {
      "cell_type": "code",
      "metadata": {
        "id": "6tFSQcsWPvxn",
        "colab_type": "code",
        "colab": {
          "base_uri": "https://localhost:8080/",
          "height": 105
        },
        "outputId": "b73242e0-8bd9-4bc2-c3d9-3e0e775538ed"
      },
      "source": [
        "predictions, *_ = learn.get_preds(DatasetType.Test)\n",
        "labels = np.argmax(predictions, 1)\n",
        "predict_list = labels.tolist()\n",
        "standard_list = test[0].tolist()\n",
        "\n",
        "print(len(predict_list))\n",
        "print(len(standard_list))\n",
        "\n",
        "print(predict_list)\n",
        "print(standard_list)"
      ],
      "execution_count": 48,
      "outputs": [
        {
          "output_type": "stream",
          "text": [
            "1221\n",
            "1221\n",
            "[103, 2, 910, 878, 81, 5, 194, 1031, 8, 8, 8, 8, 8, 8, 8, 126, 10, 123, 788, 71, 21, 1031, 610, 27, 27, 1028, 1003, 29, 614, 289, 30, 414, 414, 32, 34, 76, 289, 37, 37, 37, 37, 37, 289, 218, 640, 515, 655, 194, 1031, 1031, 49, 49, 49, 49, 49, 49, 49, 49, 49, 49, 49, 49, 100, 100, 100, 100, 100, 764, 53, 53, 53, 58, 59, 61, 770, 71, 71, 71, 71, 491, 76, 76, 76, 260, 753, 122, 614, 710, 1031, 614, 109, 109, 109, 109, 109, 109, 109, 109, 109, 109, 109, 109, 109, 109, 109, 109, 109, 109, 109, 109, 109, 109, 109, 109, 109, 109, 109, 109, 109, 109, 109, 289, 289, 614, 614, 614, 80, 80, 80, 80, 80, 80, 80, 80, 80, 80, 202, 88, 89, 268, 391, 202, 753, 92, 850, 94, 94, 94, 453, 94, 94, 94, 94, 94, 94, 761, 337, 533, 683, 98, 794, 337, 100, 100, 337, 100, 100, 100, 100, 58, 100, 100, 101, 337, 72, 660, 660, 660, 636, 1035, 313, 289, 289, 289, 260, 1035, 565, 126, 289, 289, 730, 117, 1031, 120, 135, 135, 753, 1031, 1031, 125, 778, 778, 778, 778, 778, 778, 778, 778, 125, 1031, 796, 127, 741, 289, 129, 289, 131, 13, 427, 439, 447, 447, 144, 146, 127, 301, 151, 151, 517, 354, 661, 158, 163, 178, 165, 260, 350, 350, 101, 490, 172, 864, 289, 655, 864, 864, 864, 864, 864, 34, 180, 289, 182, 182, 182, 182, 289, 289, 758, 758, 758, 758, 758, 758, 758, 758, 758, 758, 758, 758, 758, 758, 184, 184, 185, 187, 187, 187, 1031, 189, 189, 567, 190, 190, 190, 190, 704, 190, 289, 190, 190, 202, 197, 34, 34, 34, 34, 805, 205, 769, 210, 210, 210, 210, 243, 243, 243, 211, 34, 1031, 34, 34, 34, 471, 34, 34, 34, 34, 34, 214, 214, 214, 214, 337, 214, 214, 1031, 710, 427, 455, 218, 220, 220, 220, 220, 220, 710, 226, 313, 228, 228, 228, 228, 228, 289, 228, 289, 289, 228, 228, 544, 231, 427, 234, 234, 234, 235, 337, 58, 238, 1031, 1031, 238, 240, 187, 1031, 710, 710, 243, 243, 243, 243, 866, 1031, 1031, 355, 245, 245, 245, 245, 245, 764, 245, 245, 245, 245, 693, 50, 246, 546, 357, 357, 1031, 1031, 273, 273, 728, 1035, 260, 289, 289, 1031, 262, 313, 289, 265, 660, 337, 265, 265, 265, 265, 265, 265, 265, 265, 265, 265, 265, 265, 265, 265, 265, 265, 265, 265, 260, 265, 427, 265, 265, 214, 260, 286, 268, 268, 391, 1031, 269, 904, 34, 517, 276, 277, 289, 847, 283, 427, 107, 651, 289, 289, 289, 289, 289, 289, 289, 626, 289, 289, 289, 655, 289, 289, 289, 289, 289, 289, 289, 289, 289, 289, 289, 289, 289, 289, 289, 289, 289, 289, 289, 289, 289, 289, 289, 289, 655, 291, 289, 849, 877, 805, 694, 300, 300, 533, 301, 301, 100, 214, 304, 762, 308, 309, 309, 864, 289, 289, 864, 289, 864, 750, 642, 427, 427, 427, 265, 912, 146, 537, 234, 321, 509, 1031, 323, 325, 49, 49, 49, 49, 49, 49, 49, 49, 49, 49, 49, 49, 710, 301, 325, 325, 729, 326, 61, 328, 790, 203, 1018, 1018, 710, 336, 337, 337, 337, 337, 337, 337, 337, 768, 768, 343, 343, 427, 281, 144, 289, 337, 798, 350, 214, 359, 359, 359, 359, 732, 359, 360, 360, 363, 363, 364, 364, 364, 364, 289, 367, 374, 376, 1031, 386, 387, 661, 391, 866, 710, 710, 396, 224, 402, 402, 402, 402, 405, 251, 288, 805, 416, 159, 418, 419, 651, 651, 651, 651, 651, 651, 651, 289, 289, 289, 651, 651, 1031, 710, 426, 614, 426, 426, 427, 427, 427, 427, 427, 427, 427, 427, 427, 614, 427, 789, 427, 427, 427, 427, 591, 587, 174, 736, 430, 910, 238, 435, 435, 24, 441, 233, 444, 444, 391, 446, 94, 1031, 455, 455, 893, 228, 3, 615, 473, 474, 475, 475, 591, 591, 710, 710, 710, 239, 479, 175, 216, 744, 406, 486, 194, 720, 326, 489, 491, 491, 491, 706, 491, 491, 710, 289, 492, 492, 805, 499, 499, 288, 288, 164, 507, 739, 509, 126, 710, 516, 517, 1031, 517, 517, 910, 521, 524, 710, 286, 530, 530, 530, 530, 746, 546, 535, 541, 541, 542, 591, 591, 545, 545, 546, 384, 384, 384, 384, 384, 384, 549, 367, 699, 159, 491, 427, 427, 567, 775, 810, 100, 185, 903, 58, 578, 896, 579, 579, 579, 579, 584, 126, 289, 517, 517, 591, 75, 427, 591, 592, 97, 97, 707, 595, 533, 427, 597, 1031, 541, 491, 604, 606, 606, 607, 175, 50, 610, 610, 610, 785, 289, 614, 655, 614, 614, 649, 710, 1031, 1031, 710, 623, 624, 633, 633, 633, 637, 245, 574, 644, 644, 644, 646, 646, 646, 646, 646, 107, 638, 638, 367, 651, 652, 652, 636, 636, 636, 636, 652, 49, 180, 180, 660, 662, 662, 662, 662, 29, 437, 437, 378, 666, 541, 706, 681, 684, 686, 289, 765, 686, 741, 427, 216, 693, 698, 651, 864, 703, 753, 289, 289, 704, 605, 704, 289, 703, 704, 579, 706, 595, 707, 707, 710, 316, 783, 126, 97, 228, 872, 638, 727, 730, 861, 88, 1035, 610, 704, 741, 741, 741, 289, 289, 745, 746, 746, 746, 49, 746, 749, 753, 753, 794, 96, 607, 337, 337, 910, 350, 770, 350, 775, 49, 100, 775, 775, 49, 775, 775, 775, 775, 502, 359, 787, 710, 553, 216, 359, 798, 840, 1031, 804, 1031, 805, 805, 164, 808, 373, 809, 809, 809, 809, 809, 809, 810, 810, 575, 810, 517, 1035, 427, 824, 377, 826, 826, 826, 228, 828, 432, 1031, 830, 830, 830, 830, 830, 830, 831, 1031, 202, 574, 375, 840, 640, 846, 846, 847, 847, 847, 808, 847, 591, 49, 785, 785, 853, 853, 853, 853, 853, 853, 853, 860, 706, 864, 864, 130, 864, 864, 865, 865, 81, 73, 868, 1031, 874, 876, 876, 877, 877, 1035, 728, 4, 289, 289, 892, 893, 415, 896, 896, 896, 896, 896, 896, 896, 734, 896, 119, 680, 775, 753, 1031, 906, 126, 1031, 994, 919, 919, 1031, 1031, 353, 1031, 1035, 933, 933, 710, 937, 937, 937, 937, 937, 937, 937, 710, 710, 1031, 1031, 710, 949, 949, 949, 949, 949, 949, 949, 949, 949, 949, 949, 949, 949, 949, 949, 949, 949, 949, 949, 949, 949, 949, 949, 949, 949, 949, 949, 949, 949, 949, 949, 949, 949, 949, 949, 949, 949, 949, 949, 949, 949, 949, 949, 949, 949, 949, 949, 949, 949, 949, 949, 949, 949, 949, 949, 949, 949, 949, 949, 949, 949, 949, 949, 949, 949, 949, 949, 949, 949, 949, 949, 949, 949, 949, 949, 949, 949, 949, 949, 949, 949, 949, 949, 949, 949, 949, 949, 949, 949, 949, 949, 949, 949, 949, 949, 949, 949, 949, 949, 949, 949, 949, 949, 949, 949, 949, 949, 949, 949, 949, 949, 949, 949, 949, 949, 949, 1035, 1031, 710, 494, 494, 950, 950, 950, 950, 952, 952, 955, 1031, 710, 710, 710, 710, 966, 710, 710, 710, 1031, 710, 977, 710, 256, 994, 1031, 1001, 1001, 962, 710, 1031, 1023, 439, 1031, 1035, 1031, 983, 1023, 1023, 1028, 1028, 1028, 1028, 1029, 1029, 1031, 1035]\n",
            "[0, 2, 3, 4, 5, 5, 7, 8, 8, 8, 8, 8, 8, 8, 8, 9, 10, 14, 18, 19, 21, 22, 22, 27, 27, 28, 28, 29, 30, 30, 30, 31, 31, 32, 34, 34, 37, 37, 37, 37, 37, 37, 37, 38, 40, 41, 44, 47, 49, 49, 49, 49, 49, 49, 49, 49, 49, 49, 49, 49, 49, 49, 49, 49, 49, 49, 49, 50, 53, 53, 53, 58, 59, 61, 70, 71, 71, 71, 71, 74, 76, 76, 76, 77, 77, 77, 79, 79, 79, 79, 79, 79, 79, 79, 79, 79, 79, 79, 79, 79, 79, 79, 79, 79, 79, 79, 79, 79, 79, 79, 79, 79, 79, 79, 79, 79, 79, 79, 79, 79, 79, 79, 79, 79, 79, 79, 80, 80, 80, 80, 80, 80, 80, 80, 80, 80, 82, 88, 89, 89, 89, 90, 91, 92, 93, 94, 94, 94, 94, 94, 94, 94, 94, 94, 94, 96, 96, 98, 98, 98, 99, 100, 100, 100, 100, 100, 100, 100, 100, 100, 100, 100, 101, 102, 107, 108, 108, 108, 109, 110, 111, 111, 111, 111, 111, 111, 111, 111, 111, 111, 111, 117, 119, 120, 120, 120, 122, 122, 125, 125, 125, 125, 125, 125, 125, 125, 125, 125, 125, 125, 125, 127, 129, 129, 129, 129, 131, 132, 135, 138, 142, 142, 144, 146, 150, 150, 151, 151, 153, 157, 157, 158, 163, 165, 165, 166, 166, 166, 168, 170, 172, 172, 172, 172, 172, 172, 172, 172, 172, 173, 180, 182, 182, 182, 182, 182, 182, 182, 183, 183, 183, 183, 183, 183, 183, 183, 183, 183, 183, 183, 183, 183, 184, 184, 185, 187, 187, 187, 187, 189, 189, 190, 190, 190, 190, 190, 190, 190, 190, 190, 190, 193, 197, 197, 197, 197, 197, 204, 205, 205, 210, 210, 210, 210, 210, 210, 210, 211, 214, 214, 214, 214, 214, 214, 214, 214, 214, 214, 214, 214, 214, 214, 214, 214, 214, 214, 216, 216, 218, 218, 218, 220, 220, 220, 220, 220, 222, 226, 228, 228, 228, 228, 228, 228, 228, 228, 228, 228, 228, 228, 229, 231, 234, 234, 234, 234, 235, 236, 236, 238, 238, 238, 238, 240, 240, 243, 243, 243, 243, 243, 243, 243, 243, 243, 243, 244, 245, 245, 245, 245, 245, 245, 245, 245, 245, 245, 245, 245, 246, 246, 246, 246, 249, 254, 254, 254, 254, 259, 260, 260, 260, 261, 262, 265, 265, 265, 265, 265, 265, 265, 265, 265, 265, 265, 265, 265, 265, 265, 265, 265, 265, 265, 265, 265, 265, 265, 265, 265, 265, 265, 265, 265, 266, 268, 268, 268, 268, 269, 269, 270, 271, 272, 276, 277, 281, 282, 283, 286, 288, 289, 289, 289, 289, 289, 289, 289, 289, 289, 289, 289, 289, 289, 289, 289, 289, 289, 289, 289, 289, 289, 289, 289, 289, 289, 289, 289, 289, 289, 289, 289, 289, 289, 289, 289, 289, 289, 289, 291, 293, 294, 295, 299, 299, 300, 300, 301, 301, 301, 301, 301, 304, 304, 308, 309, 309, 309, 309, 309, 309, 309, 309, 317, 318, 318, 318, 318, 318, 318, 318, 320, 320, 321, 321, 323, 323, 325, 325, 325, 325, 325, 325, 325, 325, 325, 325, 325, 325, 325, 325, 325, 325, 325, 326, 326, 327, 328, 330, 333, 334, 334, 335, 336, 337, 337, 337, 337, 337, 337, 337, 338, 338, 343, 343, 343, 343, 344, 345, 346, 347, 350, 351, 359, 359, 359, 359, 359, 359, 360, 360, 363, 363, 364, 364, 364, 364, 364, 365, 374, 376, 380, 386, 387, 388, 392, 394, 396, 396, 396, 402, 402, 402, 402, 402, 405, 408, 408, 413, 415, 416, 418, 419, 419, 419, 419, 419, 419, 419, 419, 419, 419, 419, 419, 419, 424, 424, 426, 426, 426, 426, 427, 427, 427, 427, 427, 427, 427, 427, 427, 427, 427, 427, 427, 427, 427, 427, 427, 427, 427, 428, 430, 433, 434, 435, 435, 438, 441, 443, 444, 444, 444, 446, 453, 455, 455, 455, 461, 462, 465, 473, 473, 474, 475, 475, 475, 475, 476, 476, 476, 477, 479, 479, 481, 482, 483, 486, 487, 487, 488, 489, 491, 491, 491, 491, 491, 491, 491, 491, 492, 492, 493, 499, 499, 505, 505, 506, 507, 509, 509, 514, 516, 516, 517, 517, 517, 517, 521, 521, 524, 527, 529, 530, 530, 530, 530, 531, 531, 535, 541, 541, 542, 543, 543, 545, 545, 546, 548, 548, 548, 548, 548, 548, 549, 549, 554, 561, 561, 565, 566, 567, 571, 575, 577, 577, 577, 577, 578, 578, 579, 579, 579, 579, 584, 586, 588, 590, 590, 591, 591, 591, 591, 592, 594, 594, 595, 595, 595, 596, 597, 597, 598, 598, 604, 606, 606, 607, 608, 609, 610, 610, 610, 611, 614, 614, 614, 614, 614, 617, 619, 619, 619, 623, 623, 624, 633, 633, 633, 637, 638, 640, 644, 644, 644, 646, 646, 646, 646, 646, 646, 648, 648, 648, 651, 652, 652, 652, 652, 652, 652, 654, 659, 659, 659, 660, 662, 662, 662, 662, 663, 663, 663, 664, 666, 669, 677, 681, 683, 686, 686, 686, 686, 687, 689, 693, 693, 698, 700, 700, 701, 701, 702, 702, 702, 702, 703, 703, 703, 704, 704, 705, 705, 707, 707, 710, 710, 711, 715, 716, 717, 718, 723, 727, 730, 731, 733, 738, 739, 741, 741, 741, 741, 741, 741, 745, 746, 746, 746, 746, 746, 749, 753, 753, 756, 761, 763, 765, 766, 767, 770, 771, 774, 775, 775, 775, 775, 775, 775, 775, 775, 775, 775, 782, 784, 787, 787, 788, 794, 794, 798, 800, 803, 804, 804, 805, 805, 807, 808, 809, 809, 809, 809, 809, 809, 809, 810, 810, 810, 810, 813, 815, 816, 824, 826, 826, 826, 826, 827, 828, 829, 830, 830, 830, 830, 830, 830, 830, 831, 834, 834, 840, 840, 840, 840, 844, 846, 847, 847, 847, 847, 847, 847, 847, 852, 852, 853, 853, 853, 853, 853, 853, 853, 860, 861, 864, 864, 864, 864, 864, 865, 865, 865, 867, 868, 871, 874, 876, 876, 877, 877, 882, 883, 888, 889, 889, 892, 893, 894, 896, 896, 896, 896, 896, 896, 896, 896, 896, 898, 902, 903, 903, 905, 906, 908, 916, 917, 919, 919, 920, 926, 929, 931, 932, 933, 933, 936, 937, 937, 937, 937, 937, 937, 937, 941, 941, 944, 947, 948, 949, 949, 949, 949, 949, 949, 949, 949, 949, 949, 949, 949, 949, 949, 949, 949, 949, 949, 949, 949, 949, 949, 949, 949, 949, 949, 949, 949, 949, 949, 949, 949, 949, 949, 949, 949, 949, 949, 949, 949, 949, 949, 949, 949, 949, 949, 949, 949, 949, 949, 949, 949, 949, 949, 949, 949, 949, 949, 949, 949, 949, 949, 949, 949, 949, 949, 949, 949, 949, 949, 949, 949, 949, 949, 949, 949, 949, 949, 949, 949, 949, 949, 949, 949, 949, 949, 949, 949, 949, 949, 949, 949, 949, 949, 949, 949, 949, 949, 949, 949, 949, 949, 949, 949, 949, 949, 949, 949, 949, 949, 949, 949, 949, 949, 949, 949, 949, 949, 949, 949, 949, 950, 950, 950, 950, 952, 952, 955, 955, 956, 956, 964, 964, 966, 967, 967, 967, 969, 976, 977, 983, 994, 994, 1000, 1001, 1001, 1002, 1008, 1011, 1017, 1019, 1020, 1020, 1022, 1026, 1026, 1026, 1028, 1028, 1028, 1028, 1029, 1029, 1030, 1035]\n"
          ],
          "name": "stdout"
        }
      ]
    },
    {
      "cell_type": "code",
      "metadata": {
        "id": "XIC4zufnMxtq",
        "colab_type": "code",
        "colab": {
          "base_uri": "https://localhost:8080/",
          "height": 51
        },
        "outputId": "d9edd821-7670-4f6c-c1b5-54236e3dc37f"
      },
      "source": [
        "correct_num = 0\n",
        "\n",
        "for i in range(0, 1221):\n",
        "  if predict_list[i] == standard_list[i]:\n",
        "    correct_num = correct_num+1\n",
        "  else:\n",
        "    pass\n",
        "print(correct_num)\n",
        "\n",
        "predict_accuracy = correct_num/len(predict_list)\n",
        "print(predict_accuracy)"
      ],
      "execution_count": 49,
      "outputs": [
        {
          "output_type": "stream",
          "text": [
            "627\n",
            "0.5135135135135135\n"
          ],
          "name": "stdout"
        }
      ]
    },
    {
      "cell_type": "code",
      "metadata": {
        "id": "zlKMHp1CIaRJ",
        "colab_type": "code",
        "colab": {}
      },
      "source": [
        ""
      ],
      "execution_count": 0,
      "outputs": []
    }
  ]
}