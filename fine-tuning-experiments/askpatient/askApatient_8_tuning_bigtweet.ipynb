{
  "nbformat": 4,
  "nbformat_minor": 0,
  "metadata": {
    "colab": {
      "name": "askApatient_8_tuning_bigtweet.ipynb",
      "provenance": [],
      "collapsed_sections": [],
      "toc_visible": true,
      "include_colab_link": true
    },
    "kernelspec": {
      "name": "python3",
      "display_name": "Python 3"
    },
    "accelerator": "TPU"
  },
  "cells": [
    {
      "cell_type": "markdown",
      "metadata": {
        "id": "view-in-github",
        "colab_type": "text"
      },
      "source": [
        "<a href=\"https://colab.research.google.com/github/unt-iialab/medical-concept-normalization/blob/master/fine-tuning-experiments/askpatient/askApatient_8_tuning_bigtweet.ipynb\" target=\"_parent\"><img src=\"https://colab.research.google.com/assets/colab-badge.svg\" alt=\"Open In Colab\"/></a>"
      ]
    },
    {
      "cell_type": "code",
      "metadata": {
        "id": "adSi6i2-dWxy",
        "colab_type": "code",
        "colab": {}
      },
      "source": [
        "import os"
      ],
      "execution_count": 0,
      "outputs": []
    },
    {
      "cell_type": "code",
      "metadata": {
        "id": "E7xYCRGPjd9B",
        "colab_type": "code",
        "colab": {}
      },
      "source": [
        "base_dir = 'medical-concept-normalization'"
      ],
      "execution_count": 0,
      "outputs": []
    },
    {
      "cell_type": "code",
      "metadata": {
        "id": "yvIW3aUDjYNS",
        "colab_type": "code",
        "colab": {}
      },
      "source": [
        "os.mkdir(base_dir)"
      ],
      "execution_count": 0,
      "outputs": []
    },
    {
      "cell_type": "code",
      "metadata": {
        "id": "es-FFLlfk6SG",
        "colab_type": "code",
        "colab": {}
      },
      "source": [
        "os.mkdir('medical-concept-normalization/data_collection')"
      ],
      "execution_count": 0,
      "outputs": []
    },
    {
      "cell_type": "markdown",
      "metadata": {
        "id": "0R-Guw_VoJXm",
        "colab_type": "text"
      },
      "source": [
        "**Install fastai and clone the fastai for text classification**\n",
        "\n"
      ]
    },
    {
      "cell_type": "code",
      "metadata": {
        "id": "QVZa3Z0PmHFH",
        "colab_type": "code",
        "outputId": "ffbe4cc9-7e86-4bc3-8831-09ea927fb15d",
        "colab": {
          "base_uri": "https://localhost:8080/",
          "height": 104
        }
      },
      "source": [
        "!curl https://course-v3.fast.ai/setup/colab | bash"
      ],
      "execution_count": 5,
      "outputs": [
        {
          "output_type": "stream",
          "text": [
            "  % Total    % Received % Xferd  Average Speed   Time    Time     Time  Current\n",
            "                                 Dload  Upload   Total   Spent    Left  Speed\n",
            "100   287  100   287    0     0   1017      0 --:--:-- --:--:-- --:--:--  1021\n",
            "bash: line 1: syntax error near unexpected token `newline'\n",
            "bash: line 1: `<!DOCTYPE HTML PUBLIC \"-//IETF//DTD HTML 2.0//EN\">'\n"
          ],
          "name": "stdout"
        }
      ]
    },
    {
      "cell_type": "code",
      "metadata": {
        "id": "_FBFFEBrmJC0",
        "colab_type": "code",
        "outputId": "63bf3b6f-01bf-4450-93fe-7d9764a3793a",
        "colab": {
          "base_uri": "https://localhost:8080/",
          "height": 87
        }
      },
      "source": [
        "!git clone https://github.com/wshuyi/demo-nlp-classification-fastai.git"
      ],
      "execution_count": 6,
      "outputs": [
        {
          "output_type": "stream",
          "text": [
            "Cloning into 'demo-nlp-classification-fastai'...\n",
            "remote: Enumerating objects: 9, done.\u001b[K\n",
            "remote: Total 9 (delta 0), reused 0 (delta 0), pack-reused 9\u001b[K\n",
            "Unpacking objects: 100% (9/9), done.\n"
          ],
          "name": "stdout"
        }
      ]
    },
    {
      "cell_type": "code",
      "metadata": {
        "id": "66zfh_JqmWMU",
        "colab_type": "code",
        "colab": {}
      },
      "source": [
        "from fastai import *\n",
        "from fastai.text import *"
      ],
      "execution_count": 0,
      "outputs": []
    },
    {
      "cell_type": "markdown",
      "metadata": {
        "id": "mNIw-yALdBU9",
        "colab_type": "text"
      },
      "source": [
        "**Set the path of the data collections**"
      ]
    },
    {
      "cell_type": "code",
      "metadata": {
        "id": "pzH7VMh4mqCL",
        "colab_type": "code",
        "colab": {}
      },
      "source": [
        "path = Path('medical-concept-normalization/data_collection')"
      ],
      "execution_count": 0,
      "outputs": []
    },
    {
      "cell_type": "code",
      "metadata": {
        "id": "b8fjI6yyn4aS",
        "colab_type": "code",
        "colab": {}
      },
      "source": [
        "# training data set\n",
        "\n",
        "train_csv = path/'AskAPatient.fold-8.train.csv'\n",
        "train = pd.read_csv(train_csv, header=None)\n",
        "#train.head()\n",
        "#train.info()"
      ],
      "execution_count": 0,
      "outputs": []
    },
    {
      "cell_type": "code",
      "metadata": {
        "id": "Hmlr-bAorfHd",
        "colab_type": "code",
        "outputId": "3cbf19ac-d053-4b98-eaa0-e99ea728bc54",
        "colab": {
          "base_uri": "https://localhost:8080/",
          "height": 202
        }
      },
      "source": [
        "# validating data set\n",
        "\n",
        "valid = pd.read_csv(path/\"AskAPatient.fold-8.validation.csv\",header=None)\n",
        "valid.head()"
      ],
      "execution_count": 47,
      "outputs": [
        {
          "output_type": "execute_result",
          "data": {
            "text/html": [
              "<div>\n",
              "<style scoped>\n",
              "    .dataframe tbody tr th:only-of-type {\n",
              "        vertical-align: middle;\n",
              "    }\n",
              "\n",
              "    .dataframe tbody tr th {\n",
              "        vertical-align: top;\n",
              "    }\n",
              "\n",
              "    .dataframe thead th {\n",
              "        text-align: right;\n",
              "    }\n",
              "</style>\n",
              "<table border=\"1\" class=\"dataframe\">\n",
              "  <thead>\n",
              "    <tr style=\"text-align: right;\">\n",
              "      <th></th>\n",
              "      <th>0</th>\n",
              "      <th>1</th>\n",
              "    </tr>\n",
              "  </thead>\n",
              "  <tbody>\n",
              "    <tr>\n",
              "      <th>0</th>\n",
              "      <td>0</td>\n",
              "      <td>scared to death</td>\n",
              "    </tr>\n",
              "    <tr>\n",
              "      <th>1</th>\n",
              "      <td>2</td>\n",
              "      <td>heel pain</td>\n",
              "    </tr>\n",
              "    <tr>\n",
              "      <th>2</th>\n",
              "      <td>5</td>\n",
              "      <td>increased heart rate</td>\n",
              "    </tr>\n",
              "    <tr>\n",
              "      <th>3</th>\n",
              "      <td>6</td>\n",
              "      <td>stage 1 diastolic dysfunction</td>\n",
              "    </tr>\n",
              "    <tr>\n",
              "      <th>4</th>\n",
              "      <td>8</td>\n",
              "      <td>arthritis</td>\n",
              "    </tr>\n",
              "  </tbody>\n",
              "</table>\n",
              "</div>"
            ],
            "text/plain": [
              "   0                              1\n",
              "0  0                scared to death\n",
              "1  2                      heel pain\n",
              "2  5           increased heart rate\n",
              "3  6  stage 1 diastolic dysfunction\n",
              "4  8                      arthritis"
            ]
          },
          "metadata": {
            "tags": []
          },
          "execution_count": 47
        }
      ]
    },
    {
      "cell_type": "code",
      "metadata": {
        "id": "cOza9dfSsBud",
        "colab_type": "code",
        "outputId": "f553b0dd-6aae-44e9-b521-1847b80ce76d",
        "colab": {
          "base_uri": "https://localhost:8080/",
          "height": 202
        }
      },
      "source": [
        "# testing data set\n",
        "\n",
        "test = pd.read_csv(path/\"AskAPatient.fold-8.test.csv\",header=None)\n",
        "test.head()"
      ],
      "execution_count": 48,
      "outputs": [
        {
          "output_type": "execute_result",
          "data": {
            "text/html": [
              "<div>\n",
              "<style scoped>\n",
              "    .dataframe tbody tr th:only-of-type {\n",
              "        vertical-align: middle;\n",
              "    }\n",
              "\n",
              "    .dataframe tbody tr th {\n",
              "        vertical-align: top;\n",
              "    }\n",
              "\n",
              "    .dataframe thead th {\n",
              "        text-align: right;\n",
              "    }\n",
              "</style>\n",
              "<table border=\"1\" class=\"dataframe\">\n",
              "  <thead>\n",
              "    <tr style=\"text-align: right;\">\n",
              "      <th></th>\n",
              "      <th>0</th>\n",
              "      <th>1</th>\n",
              "    </tr>\n",
              "  </thead>\n",
              "  <tbody>\n",
              "    <tr>\n",
              "      <th>0</th>\n",
              "      <td>1</td>\n",
              "      <td>Abdominal rash</td>\n",
              "    </tr>\n",
              "    <tr>\n",
              "      <th>1</th>\n",
              "      <td>5</td>\n",
              "      <td>increase my heart rate</td>\n",
              "    </tr>\n",
              "    <tr>\n",
              "      <th>2</th>\n",
              "      <td>5</td>\n",
              "      <td>tachycardia</td>\n",
              "    </tr>\n",
              "    <tr>\n",
              "      <th>3</th>\n",
              "      <td>8</td>\n",
              "      <td>arthritis</td>\n",
              "    </tr>\n",
              "    <tr>\n",
              "      <th>4</th>\n",
              "      <td>8</td>\n",
              "      <td>arthritis</td>\n",
              "    </tr>\n",
              "  </tbody>\n",
              "</table>\n",
              "</div>"
            ],
            "text/plain": [
              "   0                       1\n",
              "0  1          Abdominal rash\n",
              "1  5  increase my heart rate\n",
              "2  5             tachycardia\n",
              "3  8               arthritis\n",
              "4  8               arthritis"
            ]
          },
          "metadata": {
            "tags": []
          },
          "execution_count": 48
        }
      ]
    },
    {
      "cell_type": "code",
      "metadata": {
        "id": "Vo-YNvVYoaH6",
        "colab_type": "code",
        "colab": {}
      },
      "source": [
        "# Creating DataBunch for language modelling\n",
        "\n",
        "data_lm = TextLMDataBunch.from_csv(path, 'fine-tuning_language_model_bigtweet_data.csv')"
      ],
      "execution_count": 0,
      "outputs": []
    },
    {
      "cell_type": "code",
      "metadata": {
        "id": "1ScY9afDsnvE",
        "colab_type": "code",
        "colab": {}
      },
      "source": [
        "# Creating DataBunch for classification\n",
        "\n",
        "# data_clas = TextClasDataBunch.from_df(path, train, valid, test, vocab=data_lm.train_ds.vocab, bs=128)"
      ],
      "execution_count": 0,
      "outputs": []
    },
    {
      "cell_type": "code",
      "metadata": {
        "id": "gzrSdQcvey9p",
        "colab_type": "code",
        "colab": {}
      },
      "source": [
        "data_clas = TextClasDataBunch.from_df(path, train, valid, vocab=data_lm.train_ds.vocab, bs=128)"
      ],
      "execution_count": 0,
      "outputs": []
    },
    {
      "cell_type": "code",
      "metadata": {
        "id": "MD27Tf0Ke3ou",
        "colab_type": "code",
        "colab": {}
      },
      "source": [
        "data_clas.add_test(test,label=0)\n"
      ],
      "execution_count": 0,
      "outputs": []
    },
    {
      "cell_type": "code",
      "metadata": {
        "id": "-dpjnk_rstwk",
        "colab_type": "code",
        "outputId": "0fcd1f01-c68d-4737-998c-24603d23fbde",
        "colab": {
          "base_uri": "https://localhost:8080/",
          "height": 72
        }
      },
      "source": [
        "data_lm.save()\n",
        "data_clas.save()"
      ],
      "execution_count": 53,
      "outputs": [
        {
          "output_type": "stream",
          "text": [
            "/usr/local/lib/python3.6/dist-packages/torch/serialization.py:292: UserWarning: Couldn't retrieve source code for container of type CrossEntropyLoss. It won't be checked for correctness upon loading.\n",
            "  \"type \" + obj.__name__ + \". It won't be checked \"\n"
          ],
          "name": "stderr"
        }
      ]
    },
    {
      "cell_type": "code",
      "metadata": {
        "id": "4OkiJa36sw5s",
        "colab_type": "code",
        "colab": {
          "base_uri": "https://localhost:8080/",
          "height": 1000
        },
        "outputId": "34b64b42-d95e-4e97-aa26-1a3966f17a84"
      },
      "source": [
        "data_lm.train_ds.vocab.itos"
      ],
      "execution_count": 54,
      "outputs": [
        {
          "output_type": "execute_result",
          "data": {
            "text/plain": [
              "['xxunk',\n",
              " 'xxpad',\n",
              " 'xxbos',\n",
              " 'xxeos',\n",
              " 'xxfld',\n",
              " 'xxmaj',\n",
              " 'xxup',\n",
              " 'xxrep',\n",
              " 'xxwrep',\n",
              " 'rt',\n",
              " 'to',\n",
              " 'the',\n",
              " 'for',\n",
              " 'a',\n",
              " 'in',\n",
              " 'you',\n",
              " 'is',\n",
              " 'of',\n",
              " 'on',\n",
              " 'and',\n",
              " 'disease',\n",
              " 'amp',\n",
              " 'i',\n",
              " 'gluten',\n",
              " 'with',\n",
              " 'your',\n",
              " 'free',\n",
              " 'it',\n",
              " 'my',\n",
              " 'have',\n",
              " 'are',\n",
              " 'new',\n",
              " 'this',\n",
              " 'about',\n",
              " 'glutenfree',\n",
              " 'our',\n",
              " 'what',\n",
              " 'nt',\n",
              " 'do',\n",
              " 'celiac',\n",
              " 'out',\n",
              " 'from',\n",
              " 'be',\n",
              " 'at',\n",
              " 'now',\n",
              " 'not',\n",
              " 'or',\n",
              " 'that',\n",
              " 'we',\n",
              " 'how',\n",
              " 'food',\n",
              " 'can',\n",
              " 'via',\n",
              " 'its',\n",
              " 'right',\n",
              " 'tip',\n",
              " 'more',\n",
              " 'all',\n",
              " 'if',\n",
              " 'use',\n",
              " 'diet',\n",
              " 'dblclick',\n",
              " 'w',\n",
              " 'pic',\n",
              " 'so',\n",
              " 'products',\n",
              " 'as',\n",
              " 'why',\n",
              " 'review',\n",
              " 'check',\n",
              " 'up',\n",
              " 'know',\n",
              " 'here',\n",
              " 'love',\n",
              " 'me',\n",
              " 'by',\n",
              " 'get',\n",
              " 'just',\n",
              " 'gfb',\n",
              " 'thanks',\n",
              " 'who',\n",
              " 'help',\n",
              " 'but',\n",
              " 're',\n",
              " 'an',\n",
              " 'could',\n",
              " 'posted',\n",
              " 's',\n",
              " 'm',\n",
              " 'post',\n",
              " 'recipe',\n",
              " 'will',\n",
              " 'was',\n",
              " 'has',\n",
              " 'great',\n",
              " 'need',\n",
              " 'may',\n",
              " 'intolerance',\n",
              " 'heres',\n",
              " 'us',\n",
              " 'read',\n",
              " 'archives',\n",
              " 'people',\n",
              " 'make',\n",
              " '\\r \\n ',\n",
              " 'does',\n",
              " 'some',\n",
              " 'eat',\n",
              " 'like',\n",
              " 'there',\n",
              " 'living',\n",
              " 'test',\n",
              " 'life',\n",
              " 'when',\n",
              " '30',\n",
              " 'tips',\n",
              " 'jennieo',\n",
              " 'news',\n",
              " 'going',\n",
              " 'time',\n",
              " '1',\n",
              " 'today',\n",
              " 'should',\n",
              " 'no',\n",
              " 'big',\n",
              " '2',\n",
              " 'think',\n",
              " 'did',\n",
              " '\\r \\n \\r \\n ',\n",
              " 'go',\n",
              " 'chicken',\n",
              " 'those',\n",
              " 'symptoms',\n",
              " 'they',\n",
              " 'pizza',\n",
              " 'day',\n",
              " 'blog',\n",
              " 'sensitivity',\n",
              " 'good',\n",
              " 'article',\n",
              " 'please',\n",
              " 'eating',\n",
              " 'share',\n",
              " 'best',\n",
              " 'awareness',\n",
              " 'patients',\n",
              " 'diagnosis',\n",
              " 'ever',\n",
              " 'happy',\n",
              " 'one',\n",
              " 'want',\n",
              " '4',\n",
              " 'dr',\n",
              " 'being',\n",
              " 'find',\n",
              " 'gf',\n",
              " 'take',\n",
              " 'soup',\n",
              " 'cookbook',\n",
              " 'many',\n",
              " 'blood',\n",
              " 'safe',\n",
              " 'ca',\n",
              " 'see',\n",
              " 'much',\n",
              " 'delicious',\n",
              " 'only',\n",
              " 'super',\n",
              " 'autographed',\n",
              " 'had',\n",
              " 'diagnosed',\n",
              " 'foods',\n",
              " 'try',\n",
              " 'story',\n",
              " '5',\n",
              " 'study',\n",
              " 'u',\n",
              " 'also',\n",
              " 'health',\n",
              " 'show',\n",
              " 'first',\n",
              " 'got',\n",
              " 'easy',\n",
              " 'wheat',\n",
              " '2014',\n",
              " 'linked',\n",
              " 'giveaway',\n",
              " 'any',\n",
              " 'looking',\n",
              " 'bread',\n",
              " 'top',\n",
              " 'friends',\n",
              " 'bowl',\n",
              " 'really',\n",
              " 'would',\n",
              " 'well',\n",
              " 'thank',\n",
              " 'allergy',\n",
              " 'others',\n",
              " 'still',\n",
              " 'learn',\n",
              " 've',\n",
              " 'healthy',\n",
              " 'chocolate',\n",
              " 'list',\n",
              " 'too',\n",
              " 'quinoa',\n",
              " 'yes',\n",
              " 'book',\n",
              " 'year',\n",
              " 'feel',\n",
              " 'child',\n",
              " 'these',\n",
              " 'after',\n",
              " 'years',\n",
              " 'week',\n",
              " 'kids',\n",
              " 'made',\n",
              " 'america',\n",
              " '10',\n",
              " 'info',\n",
              " 'coeliac',\n",
              " 'recipes',\n",
              " 'sunday',\n",
              " 'issues',\n",
              " 'page',\n",
              " 'important',\n",
              " 'way',\n",
              " 'follow',\n",
              " 'back',\n",
              " 'part',\n",
              " 'diagnose',\n",
              " 'their',\n",
              " 'getting',\n",
              " 'been',\n",
              " 'support',\n",
              " 'live',\n",
              " 'ask',\n",
              " 'convention',\n",
              " 'coming',\n",
              " 'risk',\n",
              " 'better',\n",
              " 'over',\n",
              " 'most',\n",
              " 'ty',\n",
              " 'options',\n",
              " 'very',\n",
              " 'breakfast',\n",
              " 'then',\n",
              " '3',\n",
              " 'brain',\n",
              " 'month',\n",
              " 'cake',\n",
              " 'cookies',\n",
              " 'breaking',\n",
              " 'even',\n",
              " 'friendly',\n",
              " 'death',\n",
              " 'restaurants',\n",
              " 'interesting',\n",
              " 'special',\n",
              " 'hey',\n",
              " 'where',\n",
              " 'things',\n",
              " 'were',\n",
              " 'link',\n",
              " 'restaurant',\n",
              " '2013',\n",
              " 'damage',\n",
              " 'other',\n",
              " 'interview',\n",
              " 'start',\n",
              " 'gfree',\n",
              " 'talk',\n",
              " 'world',\n",
              " 'anyone',\n",
              " 'hear',\n",
              " 'own',\n",
              " 'community',\n",
              " 'always',\n",
              " 'join',\n",
              " 'next',\n",
              " 'glutened',\n",
              " 'them',\n",
              " 'market',\n",
              " 'valentines',\n",
              " 'because',\n",
              " 'bakery',\n",
              " 'reasons',\n",
              " 'am',\n",
              " 'ideas',\n",
              " 'never',\n",
              " 'before',\n",
              " 'makes',\n",
              " 'ok',\n",
              " 'healthier',\n",
              " 'awesome',\n",
              " 'menu',\n",
              " 'cause',\n",
              " 'long',\n",
              " 'latest',\n",
              " 'flour',\n",
              " 'off',\n",
              " 'than',\n",
              " 'fun',\n",
              " 'rice',\n",
              " 'last',\n",
              " 'few',\n",
              " 'children',\n",
              " 'understand',\n",
              " 'pinterest',\n",
              " 'cook',\n",
              " 'avoid',\n",
              " 'medical',\n",
              " 'testing',\n",
              " 'between',\n",
              " 'might',\n",
              " 'which',\n",
              " 'lets',\n",
              " 'sure',\n",
              " 'expo',\n",
              " 'keep',\n",
              " 'sentence',\n",
              " 'provide',\n",
              " 'grain',\n",
              " 'tested',\n",
              " 'girl',\n",
              " 'allergies',\n",
              " 'must',\n",
              " 'archive',\n",
              " 'available',\n",
              " 'matters',\n",
              " 'oats',\n",
              " 'experience',\n",
              " 'someone',\n",
              " 'non',\n",
              " 'weekend',\n",
              " 'her',\n",
              " 'come',\n",
              " 'mt',\n",
              " 'd',\n",
              " 'ur',\n",
              " 'bad',\n",
              " 'say',\n",
              " 'wait',\n",
              " 'dinner',\n",
              " 'undiagnosed',\n",
              " 'research',\n",
              " 'rise',\n",
              " 'sharing',\n",
              " 'look',\n",
              " 'having',\n",
              " 'allergic',\n",
              " 'another',\n",
              " 'place',\n",
              " 'type',\n",
              " 'h',\n",
              " 'camp',\n",
              " 'excited',\n",
              " 'hours',\n",
              " 'meals',\n",
              " 'listen',\n",
              " 'amazing',\n",
              " 'll',\n",
              " 'autoimmune',\n",
              " 'able',\n",
              " 'away',\n",
              " 'serve',\n",
              " 'says',\n",
              " 'hope',\n",
              " '22',\n",
              " 'cheese',\n",
              " 'making',\n",
              " 'reading',\n",
              " 'problems',\n",
              " 'lifestyle',\n",
              " 'series',\n",
              " 'without',\n",
              " 'favorite',\n",
              " 'order',\n",
              " 'night',\n",
              " 'crust',\n",
              " 'chronic',\n",
              " 'hip',\n",
              " 'meet',\n",
              " 'down',\n",
              " 'radio',\n",
              " 'whole',\n",
              " 'fad',\n",
              " 'snack',\n",
              " 'his',\n",
              " 'true',\n",
              " 'weeks',\n",
              " 'needs',\n",
              " 'shop',\n",
              " 'difficult',\n",
              " 'pledge',\n",
              " '100',\n",
              " 'spread',\n",
              " '1st',\n",
              " 'work',\n",
              " 'enough',\n",
              " 'full',\n",
              " 'r',\n",
              " 'found',\n",
              " 'doing',\n",
              " 'gut',\n",
              " 'tx',\n",
              " 'again',\n",
              " 'gt',\n",
              " 'call',\n",
              " 'problem',\n",
              " 'such',\n",
              " 'issue',\n",
              " 'beer',\n",
              " 'ready',\n",
              " 'tonight',\n",
              " 'ways',\n",
              " 'sign',\n",
              " 'ago',\n",
              " 'summer',\n",
              " 'affect',\n",
              " 'guide',\n",
              " '24',\n",
              " 'wo',\n",
              " 'b12',\n",
              " 'body',\n",
              " 'labeling',\n",
              " '25',\n",
              " 'uk',\n",
              " 'abt',\n",
              " 'pasta',\n",
              " 'family',\n",
              " 'remember',\n",
              " 'sufferers',\n",
              " 'through',\n",
              " 'donate',\n",
              " 'two',\n",
              " 'resources',\n",
              " '6',\n",
              " 'went',\n",
              " 'intestinal',\n",
              " 'caused',\n",
              " 'until',\n",
              " 'featured',\n",
              " 'event',\n",
              " 'rant',\n",
              " 'group',\n",
              " 'simplify',\n",
              " 'episode',\n",
              " 'pls',\n",
              " 'meal',\n",
              " 'easier',\n",
              " 'retweet',\n",
              " 'online',\n",
              " 'thing',\n",
              " 'she',\n",
              " 'sensitive',\n",
              " 'likely',\n",
              " 'tests',\n",
              " 'articles',\n",
              " 'every',\n",
              " 'cookie',\n",
              " 'he',\n",
              " 'simple',\n",
              " '7',\n",
              " 'pm',\n",
              " 'ill',\n",
              " 'stop',\n",
              " 'dining',\n",
              " 'morning',\n",
              " 'around',\n",
              " 'done',\n",
              " 'shirley',\n",
              " 'win',\n",
              " 'into',\n",
              " 'later',\n",
              " 'egg',\n",
              " 'box',\n",
              " 'wrong',\n",
              " 'vegan',\n",
              " 'affects',\n",
              " 'author',\n",
              " 'gluteneaters',\n",
              " 'sick',\n",
              " 'tell',\n",
              " 'salad',\n",
              " 'lunch',\n",
              " 'hard',\n",
              " 'yet',\n",
              " 'forward',\n",
              " 'relief',\n",
              " 'plant',\n",
              " 'yum',\n",
              " 'same',\n",
              " 'days',\n",
              " 'increase',\n",
              " 'fracture',\n",
              " 'following',\n",
              " 'something',\n",
              " 'less',\n",
              " 'fasano',\n",
              " '20',\n",
              " 'revolution',\n",
              " 'cafe',\n",
              " 'difference',\n",
              " 'dating',\n",
              " 'cd',\n",
              " 'wish',\n",
              " 'stories',\n",
              " 'diets',\n",
              " 'common',\n",
              " 'pretty',\n",
              " 'blogs',\n",
              " 'roasted',\n",
              " 'sauce',\n",
              " 'black',\n",
              " 'home',\n",
              " 'deal',\n",
              " 'tomorrow',\n",
              " 'extra',\n",
              " 'green',\n",
              " 'almond',\n",
              " 'bet',\n",
              " 'needed',\n",
              " 'glyphosate',\n",
              " 'months',\n",
              " 'pudding',\n",
              " 'heard',\n",
              " 'while',\n",
              " 'baking',\n",
              " 'idea',\n",
              " 'ruining',\n",
              " 'miss',\n",
              " 'plan',\n",
              " 'dear',\n",
              " 'son',\n",
              " 'olympic',\n",
              " 'tired',\n",
              " 'turkey',\n",
              " 'else',\n",
              " 'recent',\n",
              " 'winter',\n",
              " 'athletes',\n",
              " 'care',\n",
              " '49',\n",
              " 'welcome',\n",
              " 'little',\n",
              " 'advil',\n",
              " 'real',\n",
              " 'delish',\n",
              " 'store',\n",
              " 'using',\n",
              " 'digestive',\n",
              " 'fresh',\n",
              " 'sale',\n",
              " 'hi',\n",
              " 'men',\n",
              " 'looks',\n",
              " 'grains',\n",
              " 'beef',\n",
              " 'doctor',\n",
              " 'cool',\n",
              " 'courses',\n",
              " 'since',\n",
              " 'shares',\n",
              " 'scout',\n",
              " 'connection',\n",
              " 'brownies',\n",
              " 'answer',\n",
              " 'club',\n",
              " 'offer',\n",
              " 'planning',\n",
              " 'tooth',\n",
              " 'donuts',\n",
              " 'women',\n",
              " 'celiacs',\n",
              " 'finally',\n",
              " 'especially',\n",
              " 'stay',\n",
              " 'enjoy',\n",
              " 'everyone',\n",
              " 'save',\n",
              " 'bones',\n",
              " 'journey',\n",
              " 'hurt',\n",
              " 'samples',\n",
              " 'causes',\n",
              " 'high',\n",
              " 'cure',\n",
              " 'under',\n",
              " 'biggest',\n",
              " 'mom',\n",
              " 'baguette',\n",
              " 'goes',\n",
              " 'cereal',\n",
              " 'pain',\n",
              " '9',\n",
              " 'behind',\n",
              " 'both',\n",
              " 'resource',\n",
              " 'expert',\n",
              " 'visit',\n",
              " 'perfect',\n",
              " 'let',\n",
              " 'hate',\n",
              " 'tea',\n",
              " 'treat',\n",
              " 'protect',\n",
              " 'updates',\n",
              " 'alessio',\n",
              " 'london',\n",
              " 'nice',\n",
              " 'magazine',\n",
              " 'friend',\n",
              " 'researchers',\n",
              " 'rolls',\n",
              " 'shopping',\n",
              " 'price',\n",
              " 'adrenal',\n",
              " 'talks',\n",
              " '7725691299',\n",
              " 'whatever',\n",
              " 'date',\n",
              " 'coping',\n",
              " 'chickpea',\n",
              " 'followers',\n",
              " 'stomach',\n",
              " 'question',\n",
              " 'head',\n",
              " 'webinar',\n",
              " 'raise',\n",
              " 'challenge',\n",
              " 'among',\n",
              " 'tolerated',\n",
              " 'enter',\n",
              " 'sweet',\n",
              " 'travel',\n",
              " 'give',\n",
              " 'easily',\n",
              " 'sx',\n",
              " 'oatmeal',\n",
              " 'prevalence',\n",
              " 'boss',\n",
              " 'ten',\n",
              " 'mini',\n",
              " 'nonceliac',\n",
              " 'company',\n",
              " 'word',\n",
              " 'helps',\n",
              " 'htt',\n",
              " 'treats',\n",
              " 'site',\n",
              " 'butter',\n",
              " 'glad',\n",
              " 'cope',\n",
              " 'contain',\n",
              " 'open',\n",
              " 'prize',\n",
              " 'pack',\n",
              " 'cooking',\n",
              " 'roundup',\n",
              " 'happen',\n",
              " 'potato',\n",
              " 'wow',\n",
              " 'low',\n",
              " 'protein',\n",
              " 'fave',\n",
              " 'sandwich',\n",
              " 'newly',\n",
              " 'forget',\n",
              " 'tweet',\n",
              " 'lost',\n",
              " 'rts',\n",
              " 'website',\n",
              " 'folks',\n",
              " 'march',\n",
              " 'agree',\n",
              " 'multiple',\n",
              " 'gastroenterology',\n",
              " 'hipfracture',\n",
              " 'said',\n",
              " 'greens',\n",
              " 'bars',\n",
              " 'lovely',\n",
              " 'recommended',\n",
              " 'dishes',\n",
              " 'lead',\n",
              " 'bean',\n",
              " 'nothing',\n",
              " 'conference',\n",
              " 'mn',\n",
              " 'providing',\n",
              " 'banana',\n",
              " 'discovered',\n",
              " 'often',\n",
              " 'vs',\n",
              " 'journal',\n",
              " 'checklist',\n",
              " 'party',\n",
              " 'starting',\n",
              " 'treatment',\n",
              " 'ingredients',\n",
              " 'effect',\n",
              " 'coffee',\n",
              " 'coconut',\n",
              " 'school',\n",
              " 'friday',\n",
              " 'chip',\n",
              " 'etc',\n",
              " 'product',\n",
              " 'rate',\n",
              " 'medalwinning',\n",
              " 'athlete',\n",
              " 'tasty',\n",
              " 'sister',\n",
              " 'tried',\n",
              " 'minutes',\n",
              " 'consider',\n",
              " 'old',\n",
              " 'game',\n",
              " 'blogger',\n",
              " 'speaking',\n",
              " 'already',\n",
              " 'kitchen',\n",
              " 'vitamin',\n",
              " 'fatigue',\n",
              " 'supplements',\n",
              " 'february',\n",
              " 'ttb',\n",
              " '2day',\n",
              " 'steps',\n",
              " 'snacks',\n",
              " 'tweets',\n",
              " 'york',\n",
              " 'oh',\n",
              " 'cover',\n",
              " '133',\n",
              " 'questions',\n",
              " 'exhausted',\n",
              " 'gift',\n",
              " 'against',\n",
              " 'cold',\n",
              " 'helping',\n",
              " 'watch',\n",
              " 'steak',\n",
              " 'each',\n",
              " 'huge',\n",
              " 'global',\n",
              " '12',\n",
              " 'tomato',\n",
              " 'seriously',\n",
              " 'feb',\n",
              " 'expect',\n",
              " 'during',\n",
              " 'nyc',\n",
              " 'pancakes',\n",
              " 'bbq',\n",
              " 'dad',\n",
              " 'frozen',\n",
              " 'kind',\n",
              " 'myths',\n",
              " 'immune',\n",
              " 'improve',\n",
              " 'affected',\n",
              " 'tickets',\n",
              " 'peeps',\n",
              " '18',\n",
              " 'angry',\n",
              " 'advice',\n",
              " 'facts',\n",
              " 'anything',\n",
              " 'thx',\n",
              " 'meeting',\n",
              " 'trend',\n",
              " 'choice',\n",
              " 'naturally',\n",
              " 'everything',\n",
              " 'alternative',\n",
              " 'future',\n",
              " 'grocery',\n",
              " 'experts',\n",
              " 'lentil',\n",
              " 'hungry',\n",
              " 'guandalini',\n",
              " 'doctors',\n",
              " 'parents',\n",
              " 'baked',\n",
              " '19',\n",
              " 'taste',\n",
              " 'deficiency',\n",
              " 'fellow',\n",
              " 'according',\n",
              " 'brands',\n",
              " 'helped',\n",
              " 'tours',\n",
              " 'signs',\n",
              " 'muesli',\n",
              " 'yesterday',\n",
              " 'anxiety',\n",
              " 'fried',\n",
              " 'n',\n",
              " 'homemade',\n",
              " 'related',\n",
              " 'soon',\n",
              " 'feeling',\n",
              " 'apple',\n",
              " 'hidden',\n",
              " 'nj',\n",
              " 'interested',\n",
              " 'develop',\n",
              " 'positive',\n",
              " 'pin',\n",
              " 'ups',\n",
              " 'acidic',\n",
              " 'advocate',\n",
              " 'funny',\n",
              " 'offers',\n",
              " 'scary',\n",
              " 'plans',\n",
              " 'clinic',\n",
              " 'raises',\n",
              " '15',\n",
              " 'bake',\n",
              " 'cinnamon',\n",
              " 'growth',\n",
              " 'results',\n",
              " 'mean',\n",
              " 'traveling',\n",
              " 'video',\n",
              " 'lots',\n",
              " 'answers',\n",
              " 'jennifer',\n",
              " 'cheating',\n",
              " 'lol',\n",
              " 'started',\n",
              " 'cream',\n",
              " 'chart',\n",
              " 'fb',\n",
              " 'ham',\n",
              " 'corn',\n",
              " 'chili',\n",
              " 'change',\n",
              " 'links',\n",
              " 'means',\n",
              " 'basic',\n",
              " 'hospital',\n",
              " 'md',\n",
              " 'depression',\n",
              " 'lot',\n",
              " 'send',\n",
              " 'fda',\n",
              " 'daily',\n",
              " 'guidelines',\n",
              " 'diseases',\n",
              " 'watching',\n",
              " 'eats',\n",
              " 'comes',\n",
              " 'pizzas',\n",
              " 'checked',\n",
              " 'dairy',\n",
              " 'holiday',\n",
              " 'adding',\n",
              " 'welltolerated',\n",
              " 'culprit',\n",
              " 'necessary',\n",
              " 'current',\n",
              " 'carrying',\n",
              " '\\xa0',\n",
              " 'pay',\n",
              " 'cupcakes',\n",
              " 'buy',\n",
              " 'different',\n",
              " 'fight',\n",
              " 'pie',\n",
              " 'helpful',\n",
              " 'chef',\n",
              " 'effects',\n",
              " 'american',\n",
              " 'parasites',\n",
              " 'rates',\n",
              " 'proathlete',\n",
              " 'area',\n",
              " 'shows',\n",
              " 'photo',\n",
              " 'contest',\n",
              " 'members',\n",
              " 'promoting',\n",
              " 'click',\n",
              " 'bar',\n",
              " 'diabetes',\n",
              " 'candy',\n",
              " 'pre',\n",
              " 'garlic',\n",
              " 'guests',\n",
              " 'loved',\n",
              " 'cakes',\n",
              " 'four',\n",
              " 'intolerant',\n",
              " 'truth',\n",
              " 'orange',\n",
              " 'items',\n",
              " 'policy',\n",
              " 'cell',\n",
              " 'beyond',\n",
              " 'timer',\n",
              " 'mistakes',\n",
              " 'spinach',\n",
              " 'bacon',\n",
              " 'drink',\n",
              " 'working',\n",
              " 'confirm',\n",
              " 'end',\n",
              " 'past',\n",
              " 'mess',\n",
              " 'function',\n",
              " 'asking',\n",
              " 'itself',\n",
              " 'spanking',\n",
              " 'migraine',\n",
              " 'ginger',\n",
              " 'boom',\n",
              " 'rules',\n",
              " 'everyday',\n",
              " 'due',\n",
              " 'veggie',\n",
              " 'silly',\n",
              " 'patient',\n",
              " 'sad',\n",
              " 'stock',\n",
              " 'et',\n",
              " 'table',\n",
              " 'craving',\n",
              " 'comfort',\n",
              " 'range',\n",
              " 'suffer',\n",
              " 'population',\n",
              " 'oven',\n",
              " 'constipation',\n",
              " 'bone',\n",
              " 'screening',\n",
              " 'thyroid',\n",
              " 'john',\n",
              " 'thoughts',\n",
              " 'project',\n",
              " 'villous',\n",
              " 'fantastic',\n",
              " 'newsletter',\n",
              " 'plus',\n",
              " 'clinical',\n",
              " 'americans',\n",
              " 'chips',\n",
              " 'trust',\n",
              " 'stuffed',\n",
              " 'skin',\n",
              " 'porridge',\n",
              " 'weight',\n",
              " 'scoop',\n",
              " 'actually',\n",
              " 'information',\n",
              " 'worry',\n",
              " 'moment',\n",
              " 'local',\n",
              " 'chance',\n",
              " 'gliadin',\n",
              " 'confusing',\n",
              " 'amazon',\n",
              " 'learning',\n",
              " 'safely',\n",
              " 'fractures',\n",
              " 'disorders',\n",
              " 'happens',\n",
              " 'ones',\n",
              " 'shout',\n",
              " 'kid',\n",
              " 'relationship',\n",
              " 'short',\n",
              " 'ma',\n",
              " 'wife',\n",
              " 'potatoes',\n",
              " 'catch',\n",
              " 'italian',\n",
              " 'took',\n",
              " 'buns',\n",
              " 'conversation',\n",
              " 'sauces',\n",
              " 'person',\n",
              " 'celebrity',\n",
              " 'details',\n",
              " 'introducing',\n",
              " 'yummy',\n",
              " 'legs',\n",
              " 'sensitivities',\n",
              " 'taking',\n",
              " 'foundation',\n",
              " 'nuts',\n",
              " 'pop',\n",
              " 'bloggers',\n",
              " 'facebook',\n",
              " 'nov',\n",
              " ...]"
            ]
          },
          "metadata": {
            "tags": []
          },
          "execution_count": 54
        }
      ]
    },
    {
      "cell_type": "code",
      "metadata": {
        "id": "yPWr03mls3VT",
        "colab_type": "code",
        "colab": {}
      },
      "source": [
        "model_path = path/'models'\n",
        "model_path.mkdir(exist_ok=True)\n",
        "url = 'http://files.fast.ai/models/wt103_v1/'\n",
        "download_url(f'{url}lstm_wt103.pth', model_path/'lstm_wt103.pth')\n",
        "download_url(f'{url}itos_wt103.pkl', model_path/'itos_wt103.pkl')"
      ],
      "execution_count": 0,
      "outputs": []
    },
    {
      "cell_type": "code",
      "metadata": {
        "id": "JRzvWg8RtGGr",
        "colab_type": "code",
        "colab": {}
      },
      "source": [
        "learn = language_model_learner(data_lm, AWD_LSTM, drop_mult=0.5)"
      ],
      "execution_count": 0,
      "outputs": []
    },
    {
      "cell_type": "code",
      "metadata": {
        "id": "xKK7GeBev7Xn",
        "colab_type": "code",
        "outputId": "5fbb298c-af63-4357-c102-9ce91952e4ac",
        "colab": {
          "base_uri": "https://localhost:8080/",
          "height": 79
        }
      },
      "source": [
        "learn.fit_one_cycle(1, 1e-2)"
      ],
      "execution_count": 57,
      "outputs": [
        {
          "output_type": "display_data",
          "data": {
            "text/html": [
              "<table border=\"1\" class=\"dataframe\">\n",
              "  <thead>\n",
              "    <tr style=\"text-align: left;\">\n",
              "      <th>epoch</th>\n",
              "      <th>train_loss</th>\n",
              "      <th>valid_loss</th>\n",
              "      <th>accuracy</th>\n",
              "      <th>time</th>\n",
              "    </tr>\n",
              "  </thead>\n",
              "  <tbody>\n",
              "    <tr>\n",
              "      <td>0</td>\n",
              "      <td>5.107330</td>\n",
              "      <td>4.237797</td>\n",
              "      <td>0.267474</td>\n",
              "      <td>03:59</td>\n",
              "    </tr>\n",
              "  </tbody>\n",
              "</table>"
            ],
            "text/plain": [
              "<IPython.core.display.HTML object>"
            ]
          },
          "metadata": {
            "tags": []
          }
        }
      ]
    },
    {
      "cell_type": "code",
      "metadata": {
        "id": "iB7rHGQCwd12",
        "colab_type": "code",
        "outputId": "5e568723-19dc-4a33-dfe1-40b1123689e8",
        "colab": {
          "base_uri": "https://localhost:8080/",
          "height": 79
        }
      },
      "source": [
        "learn.fit_one_cycle(1, 1e-2)"
      ],
      "execution_count": 58,
      "outputs": [
        {
          "output_type": "display_data",
          "data": {
            "text/html": [
              "<table border=\"1\" class=\"dataframe\">\n",
              "  <thead>\n",
              "    <tr style=\"text-align: left;\">\n",
              "      <th>epoch</th>\n",
              "      <th>train_loss</th>\n",
              "      <th>valid_loss</th>\n",
              "      <th>accuracy</th>\n",
              "      <th>time</th>\n",
              "    </tr>\n",
              "  </thead>\n",
              "  <tbody>\n",
              "    <tr>\n",
              "      <td>0</td>\n",
              "      <td>4.032104</td>\n",
              "      <td>3.710143</td>\n",
              "      <td>0.328093</td>\n",
              "      <td>03:57</td>\n",
              "    </tr>\n",
              "  </tbody>\n",
              "</table>"
            ],
            "text/plain": [
              "<IPython.core.display.HTML object>"
            ]
          },
          "metadata": {
            "tags": []
          }
        }
      ]
    },
    {
      "cell_type": "code",
      "metadata": {
        "id": "_BnSuAeCwkBe",
        "colab_type": "code",
        "outputId": "c1f9591d-419d-4aa7-addd-f5c990c08630",
        "colab": {
          "base_uri": "https://localhost:8080/",
          "height": 79
        }
      },
      "source": [
        "learn.fit_one_cycle(1, 1e-3)"
      ],
      "execution_count": 59,
      "outputs": [
        {
          "output_type": "display_data",
          "data": {
            "text/html": [
              "<table border=\"1\" class=\"dataframe\">\n",
              "  <thead>\n",
              "    <tr style=\"text-align: left;\">\n",
              "      <th>epoch</th>\n",
              "      <th>train_loss</th>\n",
              "      <th>valid_loss</th>\n",
              "      <th>accuracy</th>\n",
              "      <th>time</th>\n",
              "    </tr>\n",
              "  </thead>\n",
              "  <tbody>\n",
              "    <tr>\n",
              "      <td>0</td>\n",
              "      <td>3.734391</td>\n",
              "      <td>3.672119</td>\n",
              "      <td>0.335427</td>\n",
              "      <td>03:56</td>\n",
              "    </tr>\n",
              "  </tbody>\n",
              "</table>"
            ],
            "text/plain": [
              "<IPython.core.display.HTML object>"
            ]
          },
          "metadata": {
            "tags": []
          }
        }
      ]
    },
    {
      "cell_type": "code",
      "metadata": {
        "id": "MuTm-RFjwrEX",
        "colab_type": "code",
        "outputId": "179a877e-ec4d-4414-f1bc-4cfe0e6798d8",
        "colab": {
          "base_uri": "https://localhost:8080/",
          "height": 79
        }
      },
      "source": [
        "learn.fit_one_cycle(1, 1e-3)"
      ],
      "execution_count": 60,
      "outputs": [
        {
          "output_type": "display_data",
          "data": {
            "text/html": [
              "<table border=\"1\" class=\"dataframe\">\n",
              "  <thead>\n",
              "    <tr style=\"text-align: left;\">\n",
              "      <th>epoch</th>\n",
              "      <th>train_loss</th>\n",
              "      <th>valid_loss</th>\n",
              "      <th>accuracy</th>\n",
              "      <th>time</th>\n",
              "    </tr>\n",
              "  </thead>\n",
              "  <tbody>\n",
              "    <tr>\n",
              "      <td>0</td>\n",
              "      <td>3.697446</td>\n",
              "      <td>3.637869</td>\n",
              "      <td>0.339541</td>\n",
              "      <td>03:55</td>\n",
              "    </tr>\n",
              "  </tbody>\n",
              "</table>"
            ],
            "text/plain": [
              "<IPython.core.display.HTML object>"
            ]
          },
          "metadata": {
            "tags": []
          }
        }
      ]
    },
    {
      "cell_type": "code",
      "metadata": {
        "id": "1Er2ExO8wr7Y",
        "colab_type": "code",
        "colab": {}
      },
      "source": [
        "learn.save_encoder('bigtweet_fold8_first')"
      ],
      "execution_count": 0,
      "outputs": []
    },
    {
      "cell_type": "code",
      "metadata": {
        "id": "z52cZs2qwvad",
        "colab_type": "code",
        "outputId": "a66210be-96e7-4521-fa49-e70d8aa8c4d8",
        "colab": {
          "base_uri": "https://localhost:8080/",
          "height": 79
        }
      },
      "source": [
        "learn = text_classifier_learner(data_clas,AWD_LSTM, drop_mult=0.5)\n",
        "learn.load_encoder('bigtweet_fold8_first')\n",
        "learn.fit_one_cycle(1, 1e-2)"
      ],
      "execution_count": 62,
      "outputs": [
        {
          "output_type": "display_data",
          "data": {
            "text/html": [
              "<table border=\"1\" class=\"dataframe\">\n",
              "  <thead>\n",
              "    <tr style=\"text-align: left;\">\n",
              "      <th>epoch</th>\n",
              "      <th>train_loss</th>\n",
              "      <th>valid_loss</th>\n",
              "      <th>accuracy</th>\n",
              "      <th>time</th>\n",
              "    </tr>\n",
              "  </thead>\n",
              "  <tbody>\n",
              "    <tr>\n",
              "      <td>0</td>\n",
              "      <td>4.610976</td>\n",
              "      <td>4.457202</td>\n",
              "      <td>0.320592</td>\n",
              "      <td>01:07</td>\n",
              "    </tr>\n",
              "  </tbody>\n",
              "</table>"
            ],
            "text/plain": [
              "<IPython.core.display.HTML object>"
            ]
          },
          "metadata": {
            "tags": []
          }
        }
      ]
    },
    {
      "cell_type": "code",
      "metadata": {
        "id": "ImwQP1PJwzxd",
        "colab_type": "code",
        "outputId": "41821fc5-cc4f-4ff3-9039-1dcad58513c5",
        "colab": {
          "base_uri": "https://localhost:8080/",
          "height": 79
        }
      },
      "source": [
        "learn.freeze_to(-2)\n",
        "learn.fit_one_cycle(1, slice(5e-3/2., 5e-3))"
      ],
      "execution_count": 63,
      "outputs": [
        {
          "output_type": "display_data",
          "data": {
            "text/html": [
              "<table border=\"1\" class=\"dataframe\">\n",
              "  <thead>\n",
              "    <tr style=\"text-align: left;\">\n",
              "      <th>epoch</th>\n",
              "      <th>train_loss</th>\n",
              "      <th>valid_loss</th>\n",
              "      <th>accuracy</th>\n",
              "      <th>time</th>\n",
              "    </tr>\n",
              "  </thead>\n",
              "  <tbody>\n",
              "    <tr>\n",
              "      <td>0</td>\n",
              "      <td>3.832397</td>\n",
              "      <td>4.013821</td>\n",
              "      <td>0.344020</td>\n",
              "      <td>01:20</td>\n",
              "    </tr>\n",
              "  </tbody>\n",
              "</table>"
            ],
            "text/plain": [
              "<IPython.core.display.HTML object>"
            ]
          },
          "metadata": {
            "tags": []
          }
        }
      ]
    },
    {
      "cell_type": "code",
      "metadata": {
        "id": "Owff_BJXw53u",
        "colab_type": "code",
        "outputId": "68027599-edb8-4e3a-e94c-5aadfd1e8479",
        "colab": {
          "base_uri": "https://localhost:8080/",
          "height": 79
        }
      },
      "source": [
        "learn.unfreeze()\n",
        "learn.fit_one_cycle(1, slice(2e-3/100, 2e-3))"
      ],
      "execution_count": 64,
      "outputs": [
        {
          "output_type": "display_data",
          "data": {
            "text/html": [
              "<table border=\"1\" class=\"dataframe\">\n",
              "  <thead>\n",
              "    <tr style=\"text-align: left;\">\n",
              "      <th>epoch</th>\n",
              "      <th>train_loss</th>\n",
              "      <th>valid_loss</th>\n",
              "      <th>accuracy</th>\n",
              "      <th>time</th>\n",
              "    </tr>\n",
              "  </thead>\n",
              "  <tbody>\n",
              "    <tr>\n",
              "      <td>0</td>\n",
              "      <td>3.518799</td>\n",
              "      <td>3.834832</td>\n",
              "      <td>0.352651</td>\n",
              "      <td>03:12</td>\n",
              "    </tr>\n",
              "  </tbody>\n",
              "</table>"
            ],
            "text/plain": [
              "<IPython.core.display.HTML object>"
            ]
          },
          "metadata": {
            "tags": []
          }
        }
      ]
    },
    {
      "cell_type": "code",
      "metadata": {
        "id": "lqAyu56V8Waq",
        "colab_type": "code",
        "outputId": "52a86ecd-0d40-4ef5-c664-024538fb98fd",
        "colab": {
          "base_uri": "https://localhost:8080/",
          "height": 110
        }
      },
      "source": [
        "learn.fit_one_cycle(2, slice(2e-3/100, 2e-3))"
      ],
      "execution_count": 65,
      "outputs": [
        {
          "output_type": "display_data",
          "data": {
            "text/html": [
              "<table border=\"1\" class=\"dataframe\">\n",
              "  <thead>\n",
              "    <tr style=\"text-align: left;\">\n",
              "      <th>epoch</th>\n",
              "      <th>train_loss</th>\n",
              "      <th>valid_loss</th>\n",
              "      <th>accuracy</th>\n",
              "      <th>time</th>\n",
              "    </tr>\n",
              "  </thead>\n",
              "  <tbody>\n",
              "    <tr>\n",
              "      <td>0</td>\n",
              "      <td>3.382530</td>\n",
              "      <td>3.615610</td>\n",
              "      <td>0.369914</td>\n",
              "      <td>03:26</td>\n",
              "    </tr>\n",
              "    <tr>\n",
              "      <td>1</td>\n",
              "      <td>3.209239</td>\n",
              "      <td>3.554202</td>\n",
              "      <td>0.392109</td>\n",
              "      <td>03:09</td>\n",
              "    </tr>\n",
              "  </tbody>\n",
              "</table>"
            ],
            "text/plain": [
              "<IPython.core.display.HTML object>"
            ]
          },
          "metadata": {
            "tags": []
          }
        }
      ]
    },
    {
      "cell_type": "code",
      "metadata": {
        "id": "a7I1xMRp8bUd",
        "colab_type": "code",
        "outputId": "5c38f09f-d04c-47a1-889a-899edc44b59b",
        "colab": {
          "base_uri": "https://localhost:8080/",
          "height": 110
        }
      },
      "source": [
        "learn.fit_one_cycle(2, slice(2e-3/100, 2e-3))"
      ],
      "execution_count": 66,
      "outputs": [
        {
          "output_type": "display_data",
          "data": {
            "text/html": [
              "<table border=\"1\" class=\"dataframe\">\n",
              "  <thead>\n",
              "    <tr style=\"text-align: left;\">\n",
              "      <th>epoch</th>\n",
              "      <th>train_loss</th>\n",
              "      <th>valid_loss</th>\n",
              "      <th>accuracy</th>\n",
              "      <th>time</th>\n",
              "    </tr>\n",
              "  </thead>\n",
              "  <tbody>\n",
              "    <tr>\n",
              "      <td>0</td>\n",
              "      <td>3.090823</td>\n",
              "      <td>3.435132</td>\n",
              "      <td>0.406905</td>\n",
              "      <td>03:23</td>\n",
              "    </tr>\n",
              "    <tr>\n",
              "      <td>1</td>\n",
              "      <td>3.003881</td>\n",
              "      <td>3.402248</td>\n",
              "      <td>0.425401</td>\n",
              "      <td>03:23</td>\n",
              "    </tr>\n",
              "  </tbody>\n",
              "</table>"
            ],
            "text/plain": [
              "<IPython.core.display.HTML object>"
            ]
          },
          "metadata": {
            "tags": []
          }
        }
      ]
    },
    {
      "cell_type": "code",
      "metadata": {
        "id": "UAnti-XmGVfO",
        "colab_type": "code",
        "outputId": "746a19df-1b8a-47f8-b40f-85cee08beea1",
        "colab": {
          "base_uri": "https://localhost:8080/",
          "height": 110
        }
      },
      "source": [
        "learn.fit_one_cycle(2, slice(2e-3/100, 2e-3))"
      ],
      "execution_count": 67,
      "outputs": [
        {
          "output_type": "display_data",
          "data": {
            "text/html": [
              "<table border=\"1\" class=\"dataframe\">\n",
              "  <thead>\n",
              "    <tr style=\"text-align: left;\">\n",
              "      <th>epoch</th>\n",
              "      <th>train_loss</th>\n",
              "      <th>valid_loss</th>\n",
              "      <th>accuracy</th>\n",
              "      <th>time</th>\n",
              "    </tr>\n",
              "  </thead>\n",
              "  <tbody>\n",
              "    <tr>\n",
              "      <td>0</td>\n",
              "      <td>2.955277</td>\n",
              "      <td>3.384412</td>\n",
              "      <td>0.421702</td>\n",
              "      <td>03:11</td>\n",
              "    </tr>\n",
              "    <tr>\n",
              "      <td>1</td>\n",
              "      <td>2.920078</td>\n",
              "      <td>3.420116</td>\n",
              "      <td>0.432799</td>\n",
              "      <td>03:25</td>\n",
              "    </tr>\n",
              "  </tbody>\n",
              "</table>"
            ],
            "text/plain": [
              "<IPython.core.display.HTML object>"
            ]
          },
          "metadata": {
            "tags": []
          }
        }
      ]
    },
    {
      "cell_type": "code",
      "metadata": {
        "id": "bIft7W25GwSu",
        "colab_type": "code",
        "outputId": "b66b8d23-0a0a-4819-8105-e3489f50739c",
        "colab": {
          "base_uri": "https://localhost:8080/",
          "height": 110
        }
      },
      "source": [
        "learn.fit_one_cycle(2, slice(2e-3/100, 2e-3))"
      ],
      "execution_count": 68,
      "outputs": [
        {
          "output_type": "display_data",
          "data": {
            "text/html": [
              "<table border=\"1\" class=\"dataframe\">\n",
              "  <thead>\n",
              "    <tr style=\"text-align: left;\">\n",
              "      <th>epoch</th>\n",
              "      <th>train_loss</th>\n",
              "      <th>valid_loss</th>\n",
              "      <th>accuracy</th>\n",
              "      <th>time</th>\n",
              "    </tr>\n",
              "  </thead>\n",
              "  <tbody>\n",
              "    <tr>\n",
              "      <td>0</td>\n",
              "      <td>2.773730</td>\n",
              "      <td>3.366783</td>\n",
              "      <td>0.422935</td>\n",
              "      <td>03:31</td>\n",
              "    </tr>\n",
              "    <tr>\n",
              "      <td>1</td>\n",
              "      <td>2.716070</td>\n",
              "      <td>3.272135</td>\n",
              "      <td>0.430333</td>\n",
              "      <td>03:17</td>\n",
              "    </tr>\n",
              "  </tbody>\n",
              "</table>"
            ],
            "text/plain": [
              "<IPython.core.display.HTML object>"
            ]
          },
          "metadata": {
            "tags": []
          }
        }
      ]
    },
    {
      "cell_type": "code",
      "metadata": {
        "id": "EEHszVRvGyFt",
        "colab_type": "code",
        "outputId": "eade2873-2337-4f83-f462-48d2b83f432a",
        "colab": {
          "base_uri": "https://localhost:8080/",
          "height": 110
        }
      },
      "source": [
        "learn.fit_one_cycle(2, slice(2e-3/100, 2e-3))"
      ],
      "execution_count": 69,
      "outputs": [
        {
          "output_type": "display_data",
          "data": {
            "text/html": [
              "<table border=\"1\" class=\"dataframe\">\n",
              "  <thead>\n",
              "    <tr style=\"text-align: left;\">\n",
              "      <th>epoch</th>\n",
              "      <th>train_loss</th>\n",
              "      <th>valid_loss</th>\n",
              "      <th>accuracy</th>\n",
              "      <th>time</th>\n",
              "    </tr>\n",
              "  </thead>\n",
              "  <tbody>\n",
              "    <tr>\n",
              "      <td>0</td>\n",
              "      <td>2.709145</td>\n",
              "      <td>3.263555</td>\n",
              "      <td>0.425401</td>\n",
              "      <td>03:11</td>\n",
              "    </tr>\n",
              "    <tr>\n",
              "      <td>1</td>\n",
              "      <td>2.623370</td>\n",
              "      <td>3.233936</td>\n",
              "      <td>0.442663</td>\n",
              "      <td>03:25</td>\n",
              "    </tr>\n",
              "  </tbody>\n",
              "</table>"
            ],
            "text/plain": [
              "<IPython.core.display.HTML object>"
            ]
          },
          "metadata": {
            "tags": []
          }
        }
      ]
    },
    {
      "cell_type": "code",
      "metadata": {
        "id": "XsHfrhCHG3dN",
        "colab_type": "code",
        "outputId": "89b1406d-9faa-4149-b25e-f123f998f64b",
        "colab": {
          "base_uri": "https://localhost:8080/",
          "height": 171
        }
      },
      "source": [
        "learn.fit_one_cycle(4, slice(2e-3/100, 2e-3))"
      ],
      "execution_count": 70,
      "outputs": [
        {
          "output_type": "display_data",
          "data": {
            "text/html": [
              "<table border=\"1\" class=\"dataframe\">\n",
              "  <thead>\n",
              "    <tr style=\"text-align: left;\">\n",
              "      <th>epoch</th>\n",
              "      <th>train_loss</th>\n",
              "      <th>valid_loss</th>\n",
              "      <th>accuracy</th>\n",
              "      <th>time</th>\n",
              "    </tr>\n",
              "  </thead>\n",
              "  <tbody>\n",
              "    <tr>\n",
              "      <td>0</td>\n",
              "      <td>2.640454</td>\n",
              "      <td>3.304458</td>\n",
              "      <td>0.434032</td>\n",
              "      <td>03:32</td>\n",
              "    </tr>\n",
              "    <tr>\n",
              "      <td>1</td>\n",
              "      <td>2.545503</td>\n",
              "      <td>3.220748</td>\n",
              "      <td>0.445129</td>\n",
              "      <td>03:33</td>\n",
              "    </tr>\n",
              "    <tr>\n",
              "      <td>2</td>\n",
              "      <td>2.553719</td>\n",
              "      <td>3.217932</td>\n",
              "      <td>0.441430</td>\n",
              "      <td>03:15</td>\n",
              "    </tr>\n",
              "    <tr>\n",
              "      <td>3</td>\n",
              "      <td>2.503686</td>\n",
              "      <td>3.257223</td>\n",
              "      <td>0.440197</td>\n",
              "      <td>03:31</td>\n",
              "    </tr>\n",
              "  </tbody>\n",
              "</table>"
            ],
            "text/plain": [
              "<IPython.core.display.HTML object>"
            ]
          },
          "metadata": {
            "tags": []
          }
        }
      ]
    },
    {
      "cell_type": "code",
      "metadata": {
        "id": "0Zsd99isb9EQ",
        "colab_type": "code",
        "outputId": "6eb08c9f-4988-4e70-807a-f796f1d93cd6",
        "colab": {
          "base_uri": "https://localhost:8080/",
          "height": 171
        }
      },
      "source": [
        "learn.fit_one_cycle(4, slice(2e-3/100, 2e-3))"
      ],
      "execution_count": 71,
      "outputs": [
        {
          "output_type": "display_data",
          "data": {
            "text/html": [
              "<table border=\"1\" class=\"dataframe\">\n",
              "  <thead>\n",
              "    <tr style=\"text-align: left;\">\n",
              "      <th>epoch</th>\n",
              "      <th>train_loss</th>\n",
              "      <th>valid_loss</th>\n",
              "      <th>accuracy</th>\n",
              "      <th>time</th>\n",
              "    </tr>\n",
              "  </thead>\n",
              "  <tbody>\n",
              "    <tr>\n",
              "      <td>0</td>\n",
              "      <td>2.476148</td>\n",
              "      <td>3.269062</td>\n",
              "      <td>0.441430</td>\n",
              "      <td>03:22</td>\n",
              "    </tr>\n",
              "    <tr>\n",
              "      <td>1</td>\n",
              "      <td>2.535405</td>\n",
              "      <td>3.315724</td>\n",
              "      <td>0.445129</td>\n",
              "      <td>03:26</td>\n",
              "    </tr>\n",
              "    <tr>\n",
              "      <td>2</td>\n",
              "      <td>2.469517</td>\n",
              "      <td>3.283018</td>\n",
              "      <td>0.447596</td>\n",
              "      <td>03:25</td>\n",
              "    </tr>\n",
              "    <tr>\n",
              "      <td>3</td>\n",
              "      <td>2.346374</td>\n",
              "      <td>3.190722</td>\n",
              "      <td>0.450062</td>\n",
              "      <td>03:28</td>\n",
              "    </tr>\n",
              "  </tbody>\n",
              "</table>"
            ],
            "text/plain": [
              "<IPython.core.display.HTML object>"
            ]
          },
          "metadata": {
            "tags": []
          }
        }
      ]
    },
    {
      "cell_type": "code",
      "metadata": {
        "id": "atNWNKDFPbuI",
        "colab_type": "code",
        "outputId": "8f4d17e1-d7cb-43d1-81aa-acc37d25ebf0",
        "colab": {
          "base_uri": "https://localhost:8080/",
          "height": 171
        }
      },
      "source": [
        "learn.fit_one_cycle(4, slice(2e-3/100, 2e-3))"
      ],
      "execution_count": 72,
      "outputs": [
        {
          "output_type": "display_data",
          "data": {
            "text/html": [
              "<table border=\"1\" class=\"dataframe\">\n",
              "  <thead>\n",
              "    <tr style=\"text-align: left;\">\n",
              "      <th>epoch</th>\n",
              "      <th>train_loss</th>\n",
              "      <th>valid_loss</th>\n",
              "      <th>accuracy</th>\n",
              "      <th>time</th>\n",
              "    </tr>\n",
              "  </thead>\n",
              "  <tbody>\n",
              "    <tr>\n",
              "      <td>0</td>\n",
              "      <td>2.435095</td>\n",
              "      <td>3.305438</td>\n",
              "      <td>0.442663</td>\n",
              "      <td>03:21</td>\n",
              "    </tr>\n",
              "    <tr>\n",
              "      <td>1</td>\n",
              "      <td>2.444259</td>\n",
              "      <td>3.257679</td>\n",
              "      <td>0.434032</td>\n",
              "      <td>03:15</td>\n",
              "    </tr>\n",
              "    <tr>\n",
              "      <td>2</td>\n",
              "      <td>2.380251</td>\n",
              "      <td>3.281825</td>\n",
              "      <td>0.451295</td>\n",
              "      <td>03:31</td>\n",
              "    </tr>\n",
              "    <tr>\n",
              "      <td>3</td>\n",
              "      <td>2.293991</td>\n",
              "      <td>3.293560</td>\n",
              "      <td>0.445129</td>\n",
              "      <td>03:20</td>\n",
              "    </tr>\n",
              "  </tbody>\n",
              "</table>"
            ],
            "text/plain": [
              "<IPython.core.display.HTML object>"
            ]
          },
          "metadata": {
            "tags": []
          }
        }
      ]
    },
    {
      "cell_type": "code",
      "metadata": {
        "id": "rKrBTZ0T1uVA",
        "colab_type": "code",
        "outputId": "32c85fc0-b4c4-4a13-b5d2-98916cf841d5",
        "colab": {
          "base_uri": "https://localhost:8080/",
          "height": 171
        }
      },
      "source": [
        "learn.fit_one_cycle(4, slice(2e-3/100, 2e-3))"
      ],
      "execution_count": 73,
      "outputs": [
        {
          "output_type": "display_data",
          "data": {
            "text/html": [
              "<table border=\"1\" class=\"dataframe\">\n",
              "  <thead>\n",
              "    <tr style=\"text-align: left;\">\n",
              "      <th>epoch</th>\n",
              "      <th>train_loss</th>\n",
              "      <th>valid_loss</th>\n",
              "      <th>accuracy</th>\n",
              "      <th>time</th>\n",
              "    </tr>\n",
              "  </thead>\n",
              "  <tbody>\n",
              "    <tr>\n",
              "      <td>0</td>\n",
              "      <td>2.262339</td>\n",
              "      <td>3.213201</td>\n",
              "      <td>0.452528</td>\n",
              "      <td>03:33</td>\n",
              "    </tr>\n",
              "    <tr>\n",
              "      <td>1</td>\n",
              "      <td>2.400016</td>\n",
              "      <td>3.357565</td>\n",
              "      <td>0.437731</td>\n",
              "      <td>03:32</td>\n",
              "    </tr>\n",
              "    <tr>\n",
              "      <td>2</td>\n",
              "      <td>2.319454</td>\n",
              "      <td>3.314281</td>\n",
              "      <td>0.446363</td>\n",
              "      <td>03:15</td>\n",
              "    </tr>\n",
              "    <tr>\n",
              "      <td>3</td>\n",
              "      <td>2.324536</td>\n",
              "      <td>3.284770</td>\n",
              "      <td>0.447596</td>\n",
              "      <td>03:18</td>\n",
              "    </tr>\n",
              "  </tbody>\n",
              "</table>"
            ],
            "text/plain": [
              "<IPython.core.display.HTML object>"
            ]
          },
          "metadata": {
            "tags": []
          }
        }
      ]
    },
    {
      "cell_type": "code",
      "metadata": {
        "id": "ajQC6WDg1yA9",
        "colab_type": "code",
        "outputId": "c6878cfb-bcd2-4c02-9f6d-a8b0a23d7667",
        "colab": {
          "base_uri": "https://localhost:8080/",
          "height": 171
        }
      },
      "source": [
        "learn.fit_one_cycle(4, slice(2e-3/100, 2e-3))"
      ],
      "execution_count": 74,
      "outputs": [
        {
          "output_type": "display_data",
          "data": {
            "text/html": [
              "<table border=\"1\" class=\"dataframe\">\n",
              "  <thead>\n",
              "    <tr style=\"text-align: left;\">\n",
              "      <th>epoch</th>\n",
              "      <th>train_loss</th>\n",
              "      <th>valid_loss</th>\n",
              "      <th>accuracy</th>\n",
              "      <th>time</th>\n",
              "    </tr>\n",
              "  </thead>\n",
              "  <tbody>\n",
              "    <tr>\n",
              "      <td>0</td>\n",
              "      <td>2.327006</td>\n",
              "      <td>3.348517</td>\n",
              "      <td>0.451295</td>\n",
              "      <td>03:10</td>\n",
              "    </tr>\n",
              "    <tr>\n",
              "      <td>1</td>\n",
              "      <td>2.319893</td>\n",
              "      <td>3.394671</td>\n",
              "      <td>0.457460</td>\n",
              "      <td>03:26</td>\n",
              "    </tr>\n",
              "    <tr>\n",
              "      <td>2</td>\n",
              "      <td>2.296823</td>\n",
              "      <td>3.359394</td>\n",
              "      <td>0.443896</td>\n",
              "      <td>03:24</td>\n",
              "    </tr>\n",
              "    <tr>\n",
              "      <td>3</td>\n",
              "      <td>2.257173</td>\n",
              "      <td>3.393899</td>\n",
              "      <td>0.451295</td>\n",
              "      <td>03:11</td>\n",
              "    </tr>\n",
              "  </tbody>\n",
              "</table>"
            ],
            "text/plain": [
              "<IPython.core.display.HTML object>"
            ]
          },
          "metadata": {
            "tags": []
          }
        }
      ]
    },
    {
      "cell_type": "code",
      "metadata": {
        "id": "KKydb0B4BKGk",
        "colab_type": "code",
        "outputId": "abc9d49f-6ad0-49a9-e4b6-9fc4460c77d1",
        "colab": {
          "base_uri": "https://localhost:8080/",
          "height": 171
        }
      },
      "source": [
        "learn.fit_one_cycle(4, slice(2e-3/100, 2e-3))"
      ],
      "execution_count": 75,
      "outputs": [
        {
          "output_type": "display_data",
          "data": {
            "text/html": [
              "<table border=\"1\" class=\"dataframe\">\n",
              "  <thead>\n",
              "    <tr style=\"text-align: left;\">\n",
              "      <th>epoch</th>\n",
              "      <th>train_loss</th>\n",
              "      <th>valid_loss</th>\n",
              "      <th>accuracy</th>\n",
              "      <th>time</th>\n",
              "    </tr>\n",
              "  </thead>\n",
              "  <tbody>\n",
              "    <tr>\n",
              "      <td>0</td>\n",
              "      <td>2.269611</td>\n",
              "      <td>3.369956</td>\n",
              "      <td>0.452528</td>\n",
              "      <td>03:23</td>\n",
              "    </tr>\n",
              "    <tr>\n",
              "      <td>1</td>\n",
              "      <td>2.334308</td>\n",
              "      <td>3.385359</td>\n",
              "      <td>0.447596</td>\n",
              "      <td>03:19</td>\n",
              "    </tr>\n",
              "    <tr>\n",
              "      <td>2</td>\n",
              "      <td>2.251771</td>\n",
              "      <td>3.336615</td>\n",
              "      <td>0.459926</td>\n",
              "      <td>03:13</td>\n",
              "    </tr>\n",
              "    <tr>\n",
              "      <td>3</td>\n",
              "      <td>2.200171</td>\n",
              "      <td>3.385343</td>\n",
              "      <td>0.458693</td>\n",
              "      <td>03:22</td>\n",
              "    </tr>\n",
              "  </tbody>\n",
              "</table>"
            ],
            "text/plain": [
              "<IPython.core.display.HTML object>"
            ]
          },
          "metadata": {
            "tags": []
          }
        }
      ]
    },
    {
      "cell_type": "code",
      "metadata": {
        "id": "T2APKtFKBpGY",
        "colab_type": "code",
        "outputId": "ef64e49b-6f69-4228-9a9d-ba1e06fd3af0",
        "colab": {
          "base_uri": "https://localhost:8080/",
          "height": 171
        }
      },
      "source": [
        "learn.fit_one_cycle(4, slice(2e-3/100, 2e-3))"
      ],
      "execution_count": 76,
      "outputs": [
        {
          "output_type": "display_data",
          "data": {
            "text/html": [
              "<table border=\"1\" class=\"dataframe\">\n",
              "  <thead>\n",
              "    <tr style=\"text-align: left;\">\n",
              "      <th>epoch</th>\n",
              "      <th>train_loss</th>\n",
              "      <th>valid_loss</th>\n",
              "      <th>accuracy</th>\n",
              "      <th>time</th>\n",
              "    </tr>\n",
              "  </thead>\n",
              "  <tbody>\n",
              "    <tr>\n",
              "      <td>0</td>\n",
              "      <td>2.202415</td>\n",
              "      <td>3.396734</td>\n",
              "      <td>0.450062</td>\n",
              "      <td>03:27</td>\n",
              "    </tr>\n",
              "    <tr>\n",
              "      <td>1</td>\n",
              "      <td>2.287647</td>\n",
              "      <td>3.491828</td>\n",
              "      <td>0.440197</td>\n",
              "      <td>03:26</td>\n",
              "    </tr>\n",
              "    <tr>\n",
              "      <td>2</td>\n",
              "      <td>2.256081</td>\n",
              "      <td>3.418550</td>\n",
              "      <td>0.457460</td>\n",
              "      <td>03:09</td>\n",
              "    </tr>\n",
              "    <tr>\n",
              "      <td>3</td>\n",
              "      <td>2.200475</td>\n",
              "      <td>3.388902</td>\n",
              "      <td>0.454994</td>\n",
              "      <td>03:11</td>\n",
              "    </tr>\n",
              "  </tbody>\n",
              "</table>"
            ],
            "text/plain": [
              "<IPython.core.display.HTML object>"
            ]
          },
          "metadata": {
            "tags": []
          }
        }
      ]
    },
    {
      "cell_type": "code",
      "metadata": {
        "id": "c65d-osfDUXm",
        "colab_type": "code",
        "colab": {}
      },
      "source": [
        "# save the best model\n",
        "\n",
        "learn.save_encoder('ask-8-tuning-bigtweet')"
      ],
      "execution_count": 0,
      "outputs": []
    },
    {
      "cell_type": "markdown",
      "metadata": {
        "id": "rCwZU0E2RgM6",
        "colab_type": "text"
      },
      "source": [
        "# Part three: Predict on the test dataset"
      ]
    },
    {
      "cell_type": "code",
      "metadata": {
        "id": "gDm72c-dOu7d",
        "colab_type": "code",
        "colab": {}
      },
      "source": [
        "# use the test data for prediction\n",
        "\n",
        "preds, y = learn.get_preds(DatasetType.Test)"
      ],
      "execution_count": 0,
      "outputs": []
    },
    {
      "cell_type": "code",
      "metadata": {
        "id": "6tFSQcsWPvxn",
        "colab_type": "code",
        "outputId": "6cdeeb3f-70fb-403f-8f3e-2db5bdbcd9c6",
        "colab": {
          "base_uri": "https://localhost:8080/",
          "height": 107
        }
      },
      "source": [
        "predictions, *_ = learn.get_preds(DatasetType.Test)\n",
        "labels = np.argmax(predictions, 1)\n",
        "predict_list = labels.tolist()\n",
        "standard_list = test[0].tolist()\n",
        "\n",
        "print(len(predict_list))\n",
        "print(len(standard_list))\n",
        "\n",
        "print(predict_list)\n",
        "print(standard_list)"
      ],
      "execution_count": 79,
      "outputs": [
        {
          "output_type": "stream",
          "text": [
            "866\n",
            "866\n",
            "[76, 18, 1026, 49, 49, 49, 49, 20, 403, 517, 491, 491, 584, 31, 197, 736, 284, 487, 741, 864, 1035, 1035, 1035, 427, 325, 517, 49, 517, 805, 427, 427, 53, 53, 53, 53, 53, 228, 896, 896, 726, 896, 76, 76, 111, 111, 896, 172, 172, 172, 172, 172, 172, 172, 172, 172, 172, 172, 172, 172, 172, 172, 172, 172, 172, 172, 172, 172, 172, 172, 172, 172, 172, 172, 172, 172, 172, 172, 172, 172, 172, 172, 172, 172, 172, 172, 686, 896, 896, 80, 80, 80, 80, 344, 896, 228, 896, 896, 228, 94, 94, 94, 896, 896, 896, 896, 896, 94, 94, 94, 94, 146, 1035, 211, 471, 94, 492, 896, 337, 517, 265, 265, 265, 276, 517, 896, 1035, 864, 864, 289, 1035, 172, 289, 864, 864, 864, 864, 864, 864, 289, 289, 896, 278, 810, 777, 125, 125, 125, 125, 125, 125, 125, 125, 125, 125, 289, 127, 343, 355, 94, 98, 745, 284, 89, 896, 473, 447, 210, 896, 896, 896, 1035, 1035, 1002, 165, 896, 896, 210, 182, 30, 289, 864, 896, 76, 896, 874, 864, 864, 864, 864, 704, 289, 513, 183, 183, 183, 183, 183, 183, 183, 896, 896, 289, 1035, 240, 240, 240, 864, 1035, 190, 190, 190, 864, 289, 289, 211, 210, 1035, 896, 190, 1035, 206, 206, 210, 210, 1035, 896, 896, 896, 896, 896, 896, 265, 265, 265, 265, 289, 289, 694, 896, 553, 220, 220, 220, 289, 265, 402, 117, 228, 228, 111, 228, 228, 864, 228, 228, 228, 228, 228, 228, 228, 228, 326, 896, 228, 289, 283, 283, 97, 55, 283, 235, 235, 265, 236, 896, 910, 896, 896, 33, 243, 243, 243, 896, 896, 243, 896, 245, 547, 896, 896, 210, 638, 245, 98, 194, 228, 291, 864, 864, 289, 265, 265, 702, 265, 265, 265, 265, 182, 265, 265, 265, 265, 265, 265, 265, 265, 265, 265, 265, 265, 265, 265, 265, 265, 265, 265, 265, 265, 265, 265, 3, 111, 228, 805, 318, 289, 535, 983, 165, 165, 165, 199, 289, 289, 289, 289, 289, 76, 289, 289, 289, 289, 289, 289, 289, 289, 289, 289, 289, 1035, 291, 538, 268, 289, 364, 210, 729, 300, 62, 62, 301, 37, 375, 896, 304, 847, 700, 864, 864, 864, 864, 289, 983, 864, 375, 318, 289, 49, 49, 49, 49, 49, 49, 49, 49, 49, 325, 1035, 210, 1035, 1035, 1035, 334, 430, 1035, 337, 343, 343, 343, 890, 210, 211, 337, 359, 359, 764, 343, 444, 754, 896, 210, 896, 265, 402, 402, 402, 183, 190, 809, 89, 584, 894, 1035, 419, 419, 419, 419, 419, 419, 419, 419, 419, 145, 896, 896, 896, 426, 426, 228, 228, 615, 427, 896, 896, 896, 896, 896, 896, 896, 864, 427, 890, 896, 434, 443, 441, 447, 536, 689, 94, 1035, 228, 228, 896, 896, 896, 896, 896, 210, 459, 460, 605, 190, 1035, 1035, 289, 419, 301, 896, 511, 475, 444, 475, 215, 614, 491, 491, 491, 1035, 491, 896, 437, 809, 419, 896, 896, 1035, 1035, 760, 210, 896, 1035, 1035, 301, 120, 864, 182, 864, 896, 530, 530, 530, 531, 531, 55, 896, 896, 49, 140, 1024, 1035, 769, 760, 197, 584, 1035, 896, 896, 605, 775, 592, 1035, 706, 427, 1035, 55, 896, 197, 614, 614, 614, 866, 479, 617, 896, 622, 528, 447, 574, 864, 172, 106, 646, 646, 646, 769, 638, 701, 211, 652, 636, 636, 572, 662, 491, 665, 681, 1035, 896, 700, 704, 704, 577, 210, 265, 707, 872, 824, 182, 565, 210, 182, 578, 570, 111, 864, 309, 289, 289, 541, 491, 749, 751, 896, 769, 763, 402, 321, 902, 723, 415, 1035, 775, 27, 289, 210, 125, 778, 363, 294, 864, 183, 553, 49, 228, 896, 896, 363, 806, 806, 190, 145, 1035, 1035, 1035, 402, 301, 896, 265, 1035, 896, 228, 896, 896, 896, 896, 703, 896, 896, 896, 120, 363, 896, 896, 896, 245, 896, 190, 550, 896, 896, 896, 896, 896, 896, 896, 896, 896, 861, 861, 172, 159, 190, 896, 265, 591, 687, 805, 805, 805, 289, 1035, 1035, 704, 1035, 1035, 190, 866, 866, 904, 904, 904, 904, 896, 704, 210, 228, 896, 1035, 228, 228, 228, 228, 228, 228, 228, 896, 937, 896, 896, 896, 896, 228, 896, 1035, 1035, 228, 228, 228, 228, 228, 228, 228, 228, 228, 228, 228, 228, 228, 228, 228, 228, 228, 228, 228, 228, 228, 228, 228, 228, 228, 228, 228, 228, 228, 228, 228, 228, 228, 228, 228, 228, 228, 228, 228, 228, 228, 228, 228, 228, 228, 228, 228, 228, 228, 228, 228, 228, 228, 228, 228, 228, 228, 228, 228, 228, 228, 228, 228, 228, 228, 228, 228, 228, 228, 228, 228, 228, 228, 228, 228, 228, 228, 228, 896, 896, 896, 896, 896, 896, 896, 896, 896, 896, 896, 896, 896, 896, 896, 896, 896, 896, 896, 896, 896, 896, 896, 896, 1035, 228, 228, 228, 228, 228, 228, 896, 896, 228, 228, 228, 896, 896, 966, 228, 228, 1035, 228, 228, 896, 228, 228, 228, 228, 228, 228, 1035, 228, 896, 228, 896, 896, 228, 1024, 1035, 896, 896, 896, 1035, 1035, 896, 896, 228, 896, 1028, 1028, 1029]\n",
            "[1, 5, 5, 8, 8, 8, 12, 20, 26, 27, 29, 29, 31, 31, 34, 34, 34, 37, 37, 37, 37, 37, 42, 43, 49, 49, 49, 49, 49, 49, 49, 53, 53, 53, 53, 53, 60, 60, 60, 70, 74, 76, 76, 79, 79, 79, 79, 79, 79, 79, 79, 79, 79, 79, 79, 79, 79, 79, 79, 79, 79, 79, 79, 79, 79, 79, 79, 79, 79, 79, 79, 79, 79, 79, 79, 79, 79, 79, 79, 79, 79, 79, 79, 79, 79, 79, 79, 79, 80, 80, 80, 80, 85, 87, 91, 91, 91, 94, 94, 94, 94, 94, 94, 94, 94, 94, 94, 94, 94, 94, 94, 94, 94, 94, 94, 98, 99, 100, 100, 100, 100, 100, 100, 100, 103, 105, 108, 108, 108, 110, 111, 111, 111, 111, 111, 111, 111, 111, 111, 111, 112, 117, 118, 125, 125, 125, 125, 125, 125, 125, 125, 125, 125, 125, 126, 127, 127, 135, 135, 135, 135, 136, 137, 137, 139, 142, 151, 151, 151, 152, 157, 159, 164, 165, 166, 166, 166, 172, 172, 172, 172, 173, 173, 181, 182, 182, 182, 182, 182, 182, 182, 183, 183, 183, 183, 183, 183, 183, 183, 184, 184, 185, 187, 187, 187, 187, 188, 189, 190, 190, 190, 190, 190, 190, 190, 190, 190, 193, 194, 202, 206, 206, 210, 210, 214, 214, 214, 214, 214, 214, 214, 214, 214, 214, 214, 214, 214, 218, 218, 220, 220, 220, 220, 223, 224, 226, 227, 228, 228, 228, 228, 228, 228, 228, 228, 228, 228, 228, 228, 228, 228, 228, 228, 228, 228, 234, 234, 234, 234, 234, 235, 235, 236, 236, 238, 238, 239, 242, 243, 243, 243, 243, 243, 243, 243, 244, 245, 245, 245, 245, 245, 245, 245, 250, 252, 254, 257, 260, 260, 263, 265, 265, 265, 265, 265, 265, 265, 265, 265, 265, 265, 265, 265, 265, 265, 265, 265, 265, 265, 265, 265, 265, 265, 265, 265, 265, 265, 265, 265, 265, 265, 265, 265, 265, 265, 265, 266, 269, 277, 277, 277, 280, 289, 289, 289, 289, 289, 289, 289, 289, 289, 289, 289, 289, 289, 289, 289, 289, 289, 291, 291, 291, 291, 293, 293, 293, 293, 300, 301, 301, 301, 301, 303, 304, 304, 307, 309, 309, 309, 309, 309, 309, 309, 310, 318, 318, 325, 325, 325, 325, 325, 325, 325, 325, 325, 325, 325, 326, 326, 329, 332, 332, 334, 336, 337, 337, 343, 343, 343, 349, 350, 352, 358, 359, 359, 373, 375, 391, 391, 394, 398, 401, 402, 402, 402, 402, 405, 406, 408, 413, 414, 415, 418, 419, 419, 419, 419, 419, 419, 419, 419, 419, 423, 424, 424, 424, 426, 426, 427, 427, 427, 427, 427, 427, 427, 427, 427, 427, 427, 427, 427, 427, 429, 434, 439, 441, 447, 449, 451, 453, 454, 455, 455, 455, 455, 455, 455, 455, 459, 459, 460, 462, 463, 469, 470, 471, 471, 473, 474, 475, 475, 475, 475, 478, 479, 491, 491, 491, 491, 491, 491, 491, 492, 494, 495, 495, 503, 503, 503, 513, 516, 517, 517, 517, 519, 523, 524, 524, 527, 530, 530, 530, 531, 531, 546, 548, 548, 557, 558, 561, 574, 578, 579, 580, 584, 587, 590, 590, 591, 592, 592, 594, 595, 596, 597, 603, 610, 614, 614, 614, 614, 614, 615, 617, 619, 622, 623, 623, 624, 633, 637, 641, 646, 646, 646, 647, 648, 651, 651, 652, 652, 652, 652, 662, 662, 664, 681, 693, 695, 700, 701, 701, 704, 704, 704, 707, 711, 716, 717, 721, 723, 723, 726, 738, 741, 741, 741, 741, 741, 746, 749, 749, 751, 759, 761, 763, 764, 767, 773, 774, 775, 775, 775, 775, 775, 775, 777, 778, 779, 779, 781, 786, 788, 794, 794, 794, 794, 803, 806, 806, 808, 809, 809, 809, 809, 810, 810, 812, 820, 826, 826, 830, 830, 830, 830, 830, 830, 830, 830, 830, 831, 833, 834, 834, 840, 841, 847, 847, 847, 848, 852, 852, 852, 853, 853, 853, 853, 853, 861, 861, 864, 865, 870, 871, 872, 876, 876, 877, 877, 877, 889, 896, 896, 896, 896, 896, 896, 900, 900, 904, 904, 904, 904, 905, 907, 910, 912, 934, 937, 937, 937, 937, 937, 937, 937, 937, 937, 937, 941, 941, 941, 943, 948, 948, 949, 949, 949, 949, 949, 949, 949, 949, 949, 949, 949, 949, 949, 949, 949, 949, 949, 949, 949, 949, 949, 949, 949, 949, 949, 949, 949, 949, 949, 949, 949, 949, 949, 949, 949, 949, 949, 949, 949, 949, 949, 949, 949, 949, 949, 949, 949, 949, 949, 949, 949, 949, 949, 949, 949, 949, 949, 949, 949, 949, 949, 949, 949, 949, 949, 949, 949, 949, 949, 949, 949, 949, 949, 949, 949, 949, 949, 949, 949, 949, 949, 949, 949, 949, 949, 949, 949, 949, 949, 949, 949, 949, 949, 949, 949, 949, 949, 949, 949, 949, 949, 949, 949, 949, 950, 950, 950, 950, 950, 950, 950, 955, 955, 963, 964, 964, 964, 965, 966, 967, 970, 973, 976, 978, 979, 980, 983, 983, 989, 997, 999, 1001, 1001, 1001, 1004, 1004, 1005, 1016, 1026, 1026, 1026, 1026, 1026, 1026, 1026, 1026, 1026, 1027, 1028, 1028, 1028, 1029]\n"
          ],
          "name": "stdout"
        }
      ]
    },
    {
      "cell_type": "code",
      "metadata": {
        "id": "XIC4zufnMxtq",
        "colab_type": "code",
        "outputId": "543e8bf6-469e-47a2-dde0-885671836f72",
        "colab": {
          "base_uri": "https://localhost:8080/",
          "height": 52
        }
      },
      "source": [
        "correct_num = 0\n",
        "\n",
        "for i in range(0, 866):\n",
        "  if predict_list[i] == standard_list[i]:\n",
        "    correct_num = correct_num+1\n",
        "  else:\n",
        "    pass\n",
        "print(correct_num)\n",
        "\n",
        "predict_accuracy = correct_num/len(predict_list)\n",
        "print(predict_accuracy)"
      ],
      "execution_count": 80,
      "outputs": [
        {
          "output_type": "stream",
          "text": [
            "195\n",
            "0.2251732101616628\n"
          ],
          "name": "stdout"
        }
      ]
    },
    {
      "cell_type": "code",
      "metadata": {
        "id": "zlKMHp1CIaRJ",
        "colab_type": "code",
        "colab": {}
      },
      "source": [
        ""
      ],
      "execution_count": 0,
      "outputs": []
    }
  ]
}