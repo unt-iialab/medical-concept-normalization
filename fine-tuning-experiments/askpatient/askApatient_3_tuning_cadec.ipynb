{
  "nbformat": 4,
  "nbformat_minor": 0,
  "metadata": {
    "colab": {
      "name": "askApatient_3_tuning_cadec.ipynb",
      "provenance": [],
      "collapsed_sections": [],
      "toc_visible": true,
      "include_colab_link": true
    },
    "kernelspec": {
      "name": "python3",
      "display_name": "Python 3"
    },
    "accelerator": "TPU"
  },
  "cells": [
    {
      "cell_type": "markdown",
      "metadata": {
        "id": "view-in-github",
        "colab_type": "text"
      },
      "source": [
        "<a href=\"https://colab.research.google.com/github/unt-iialab/medical-concept-normalization/blob/master/fine-tuning-experiments/askpatient/askApatient_3_tuning_cadec.ipynb\" target=\"_parent\"><img src=\"https://colab.research.google.com/assets/colab-badge.svg\" alt=\"Open In Colab\"/></a>"
      ]
    },
    {
      "cell_type": "code",
      "metadata": {
        "id": "adSi6i2-dWxy",
        "colab_type": "code",
        "colab": {}
      },
      "source": [
        "import os"
      ],
      "execution_count": 0,
      "outputs": []
    },
    {
      "cell_type": "code",
      "metadata": {
        "id": "E7xYCRGPjd9B",
        "colab_type": "code",
        "colab": {}
      },
      "source": [
        "base_dir = 'medical-concept-normalization'"
      ],
      "execution_count": 0,
      "outputs": []
    },
    {
      "cell_type": "code",
      "metadata": {
        "id": "yvIW3aUDjYNS",
        "colab_type": "code",
        "colab": {}
      },
      "source": [
        "os.mkdir(base_dir)"
      ],
      "execution_count": 0,
      "outputs": []
    },
    {
      "cell_type": "code",
      "metadata": {
        "id": "es-FFLlfk6SG",
        "colab_type": "code",
        "colab": {}
      },
      "source": [
        "os.mkdir('medical-concept-normalization/data_collection')"
      ],
      "execution_count": 0,
      "outputs": []
    },
    {
      "cell_type": "markdown",
      "metadata": {
        "id": "0R-Guw_VoJXm",
        "colab_type": "text"
      },
      "source": [
        "**Install fastai and clone the fastai for text classification**\n",
        "\n"
      ]
    },
    {
      "cell_type": "code",
      "metadata": {
        "id": "QVZa3Z0PmHFH",
        "colab_type": "code",
        "outputId": "81eb78d7-8f0c-4a53-8b83-8f5a308c0309",
        "colab": {
          "base_uri": "https://localhost:8080/",
          "height": 104
        }
      },
      "source": [
        "!curl https://course-v3.fast.ai/setup/colab | bash"
      ],
      "execution_count": 6,
      "outputs": [
        {
          "output_type": "stream",
          "text": [
            "  % Total    % Received % Xferd  Average Speed   Time    Time     Time  Current\n",
            "                                 Dload  Upload   Total   Spent    Left  Speed\n",
            "100   287  100   287    0     0   1051      0 --:--:-- --:--:-- --:--:--  1051\n",
            "bash: line 1: syntax error near unexpected token `newline'\n",
            "bash: line 1: `<!DOCTYPE HTML PUBLIC \"-//IETF//DTD HTML 2.0//EN\">'\n"
          ],
          "name": "stdout"
        }
      ]
    },
    {
      "cell_type": "code",
      "metadata": {
        "id": "_FBFFEBrmJC0",
        "colab_type": "code",
        "outputId": "16796752-c208-4fdb-a72e-ac47fce34ee7",
        "colab": {
          "base_uri": "https://localhost:8080/",
          "height": 87
        }
      },
      "source": [
        "!git clone https://github.com/wshuyi/demo-nlp-classification-fastai.git"
      ],
      "execution_count": 7,
      "outputs": [
        {
          "output_type": "stream",
          "text": [
            "Cloning into 'demo-nlp-classification-fastai'...\n",
            "remote: Enumerating objects: 9, done.\u001b[K\n",
            "remote: Total 9 (delta 0), reused 0 (delta 0), pack-reused 9\u001b[K\n",
            "Unpacking objects: 100% (9/9), done.\n"
          ],
          "name": "stdout"
        }
      ]
    },
    {
      "cell_type": "code",
      "metadata": {
        "id": "66zfh_JqmWMU",
        "colab_type": "code",
        "colab": {}
      },
      "source": [
        "from fastai import *\n",
        "from fastai.text import *"
      ],
      "execution_count": 0,
      "outputs": []
    },
    {
      "cell_type": "markdown",
      "metadata": {
        "id": "mNIw-yALdBU9",
        "colab_type": "text"
      },
      "source": [
        "**Set the path of the data collections**"
      ]
    },
    {
      "cell_type": "code",
      "metadata": {
        "id": "pzH7VMh4mqCL",
        "colab_type": "code",
        "colab": {}
      },
      "source": [
        "path = Path('medical-concept-normalization/data_collection')"
      ],
      "execution_count": 0,
      "outputs": []
    },
    {
      "cell_type": "code",
      "metadata": {
        "id": "b8fjI6yyn4aS",
        "colab_type": "code",
        "colab": {}
      },
      "source": [
        "# training data set\n",
        "\n",
        "train_csv = path/'AskAPatient.fold-3.train.csv'\n",
        "train = pd.read_csv(train_csv, header=None)\n",
        "#train.head()\n",
        "#train.info()"
      ],
      "execution_count": 0,
      "outputs": []
    },
    {
      "cell_type": "code",
      "metadata": {
        "id": "Hmlr-bAorfHd",
        "colab_type": "code",
        "outputId": "86037773-643b-448d-f4db-7bee66d9f6dd",
        "colab": {
          "base_uri": "https://localhost:8080/",
          "height": 202
        }
      },
      "source": [
        "# validating data set\n",
        "\n",
        "valid = pd.read_csv(path/\"AskAPatient.fold-3.validation.csv\",header=None)\n",
        "valid.head()"
      ],
      "execution_count": 12,
      "outputs": [
        {
          "output_type": "execute_result",
          "data": {
            "text/html": [
              "<div>\n",
              "<style scoped>\n",
              "    .dataframe tbody tr th:only-of-type {\n",
              "        vertical-align: middle;\n",
              "    }\n",
              "\n",
              "    .dataframe tbody tr th {\n",
              "        vertical-align: top;\n",
              "    }\n",
              "\n",
              "    .dataframe thead th {\n",
              "        text-align: right;\n",
              "    }\n",
              "</style>\n",
              "<table border=\"1\" class=\"dataframe\">\n",
              "  <thead>\n",
              "    <tr style=\"text-align: right;\">\n",
              "      <th></th>\n",
              "      <th>0</th>\n",
              "      <th>1</th>\n",
              "    </tr>\n",
              "  </thead>\n",
              "  <tbody>\n",
              "    <tr>\n",
              "      <th>0</th>\n",
              "      <td>2</td>\n",
              "      <td>left heel pain</td>\n",
              "    </tr>\n",
              "    <tr>\n",
              "      <th>1</th>\n",
              "      <td>2</td>\n",
              "      <td>right heel became painful</td>\n",
              "    </tr>\n",
              "    <tr>\n",
              "      <th>2</th>\n",
              "      <td>8</td>\n",
              "      <td>Arthritis</td>\n",
              "    </tr>\n",
              "    <tr>\n",
              "      <th>3</th>\n",
              "      <td>8</td>\n",
              "      <td>arthritis</td>\n",
              "    </tr>\n",
              "    <tr>\n",
              "      <th>4</th>\n",
              "      <td>8</td>\n",
              "      <td>arthritis</td>\n",
              "    </tr>\n",
              "  </tbody>\n",
              "</table>\n",
              "</div>"
            ],
            "text/plain": [
              "   0                          1\n",
              "0  2             left heel pain\n",
              "1  2  right heel became painful\n",
              "2  8                  Arthritis\n",
              "3  8                  arthritis\n",
              "4  8                  arthritis"
            ]
          },
          "metadata": {
            "tags": []
          },
          "execution_count": 12
        }
      ]
    },
    {
      "cell_type": "code",
      "metadata": {
        "id": "cOza9dfSsBud",
        "colab_type": "code",
        "outputId": "1ee271b3-e13f-4a41-e7f3-c2c7041b63c7",
        "colab": {
          "base_uri": "https://localhost:8080/",
          "height": 202
        }
      },
      "source": [
        "# testing data set\n",
        "\n",
        "test = pd.read_csv(path/\"AskAPatient.fold-3.test.csv\",header=None)\n",
        "test.head()"
      ],
      "execution_count": 13,
      "outputs": [
        {
          "output_type": "execute_result",
          "data": {
            "text/html": [
              "<div>\n",
              "<style scoped>\n",
              "    .dataframe tbody tr th:only-of-type {\n",
              "        vertical-align: middle;\n",
              "    }\n",
              "\n",
              "    .dataframe tbody tr th {\n",
              "        vertical-align: top;\n",
              "    }\n",
              "\n",
              "    .dataframe thead th {\n",
              "        text-align: right;\n",
              "    }\n",
              "</style>\n",
              "<table border=\"1\" class=\"dataframe\">\n",
              "  <thead>\n",
              "    <tr style=\"text-align: right;\">\n",
              "      <th></th>\n",
              "      <th>0</th>\n",
              "      <th>1</th>\n",
              "    </tr>\n",
              "  </thead>\n",
              "  <tbody>\n",
              "    <tr>\n",
              "      <th>0</th>\n",
              "      <td>2</td>\n",
              "      <td>heel pain</td>\n",
              "    </tr>\n",
              "    <tr>\n",
              "      <th>1</th>\n",
              "      <td>5</td>\n",
              "      <td>rapid heart beat</td>\n",
              "    </tr>\n",
              "    <tr>\n",
              "      <th>2</th>\n",
              "      <td>6</td>\n",
              "      <td>diastolic dysfunction</td>\n",
              "    </tr>\n",
              "    <tr>\n",
              "      <th>3</th>\n",
              "      <td>8</td>\n",
              "      <td>arthritis</td>\n",
              "    </tr>\n",
              "    <tr>\n",
              "      <th>4</th>\n",
              "      <td>8</td>\n",
              "      <td>arthritis</td>\n",
              "    </tr>\n",
              "  </tbody>\n",
              "</table>\n",
              "</div>"
            ],
            "text/plain": [
              "   0                      1\n",
              "0  2              heel pain\n",
              "1  5       rapid heart beat\n",
              "2  6  diastolic dysfunction\n",
              "3  8              arthritis\n",
              "4  8              arthritis"
            ]
          },
          "metadata": {
            "tags": []
          },
          "execution_count": 13
        }
      ]
    },
    {
      "cell_type": "code",
      "metadata": {
        "id": "Vo-YNvVYoaH6",
        "colab_type": "code",
        "colab": {}
      },
      "source": [
        "# Creating DataBunch for language modelling\n",
        "\n",
        "data_lm = TextLMDataBunch.from_csv(path, 'fine_tuning_language_model_cadec_data.csv')"
      ],
      "execution_count": 0,
      "outputs": []
    },
    {
      "cell_type": "code",
      "metadata": {
        "id": "1ScY9afDsnvE",
        "colab_type": "code",
        "colab": {}
      },
      "source": [
        "# Creating DataBunch for classification\n",
        "\n",
        "# data_clas = TextClasDataBunch.from_df(path, train, valid, test, vocab=data_lm.train_ds.vocab, bs=128)"
      ],
      "execution_count": 0,
      "outputs": []
    },
    {
      "cell_type": "code",
      "metadata": {
        "id": "gzrSdQcvey9p",
        "colab_type": "code",
        "colab": {}
      },
      "source": [
        "data_clas = TextClasDataBunch.from_df(path, train, valid, vocab=data_lm.train_ds.vocab, bs=128)"
      ],
      "execution_count": 0,
      "outputs": []
    },
    {
      "cell_type": "code",
      "metadata": {
        "id": "MD27Tf0Ke3ou",
        "colab_type": "code",
        "colab": {}
      },
      "source": [
        "data_clas.add_test(test,label=0)\n"
      ],
      "execution_count": 0,
      "outputs": []
    },
    {
      "cell_type": "code",
      "metadata": {
        "id": "-dpjnk_rstwk",
        "colab_type": "code",
        "colab": {}
      },
      "source": [
        "data_lm.save()\n",
        "data_clas.save()"
      ],
      "execution_count": 0,
      "outputs": []
    },
    {
      "cell_type": "code",
      "metadata": {
        "id": "4OkiJa36sw5s",
        "colab_type": "code",
        "colab": {}
      },
      "source": [
        "data_lm.train_ds.vocab.itos"
      ],
      "execution_count": 0,
      "outputs": []
    },
    {
      "cell_type": "code",
      "metadata": {
        "id": "yPWr03mls3VT",
        "colab_type": "code",
        "colab": {}
      },
      "source": [
        "model_path = path/'models'\n",
        "model_path.mkdir(exist_ok=True)\n",
        "url = 'http://files.fast.ai/models/wt103_v1/'\n",
        "download_url(f'{url}lstm_wt103.pth', model_path/'lstm_wt103.pth')\n",
        "download_url(f'{url}itos_wt103.pkl', model_path/'itos_wt103.pkl')"
      ],
      "execution_count": 0,
      "outputs": []
    },
    {
      "cell_type": "code",
      "metadata": {
        "id": "JRzvWg8RtGGr",
        "colab_type": "code",
        "colab": {}
      },
      "source": [
        "learn = language_model_learner(data_lm, AWD_LSTM, drop_mult=0.5)"
      ],
      "execution_count": 0,
      "outputs": []
    },
    {
      "cell_type": "code",
      "metadata": {
        "id": "xKK7GeBev7Xn",
        "colab_type": "code",
        "outputId": "ede13765-6ed4-473c-c752-954bca450866",
        "colab": {
          "base_uri": "https://localhost:8080/",
          "height": 79
        }
      },
      "source": [
        "learn.fit_one_cycle(1, 1e-2)"
      ],
      "execution_count": 22,
      "outputs": [
        {
          "output_type": "display_data",
          "data": {
            "text/html": [
              "<table border=\"1\" class=\"dataframe\">\n",
              "  <thead>\n",
              "    <tr style=\"text-align: left;\">\n",
              "      <th>epoch</th>\n",
              "      <th>train_loss</th>\n",
              "      <th>valid_loss</th>\n",
              "      <th>accuracy</th>\n",
              "      <th>time</th>\n",
              "    </tr>\n",
              "  </thead>\n",
              "  <tbody>\n",
              "    <tr>\n",
              "      <td>0</td>\n",
              "      <td>4.850651</td>\n",
              "      <td>4.221541</td>\n",
              "      <td>0.215466</td>\n",
              "      <td>03:36</td>\n",
              "    </tr>\n",
              "  </tbody>\n",
              "</table>"
            ],
            "text/plain": [
              "<IPython.core.display.HTML object>"
            ]
          },
          "metadata": {
            "tags": []
          }
        }
      ]
    },
    {
      "cell_type": "code",
      "metadata": {
        "id": "iB7rHGQCwd12",
        "colab_type": "code",
        "colab": {}
      },
      "source": [
        "# learn.fit_one_cycle(1, 1e-2)"
      ],
      "execution_count": 0,
      "outputs": []
    },
    {
      "cell_type": "code",
      "metadata": {
        "id": "_BnSuAeCwkBe",
        "colab_type": "code",
        "colab": {}
      },
      "source": [
        "# learn.fit_one_cycle(1, 1e-3)"
      ],
      "execution_count": 0,
      "outputs": []
    },
    {
      "cell_type": "code",
      "metadata": {
        "id": "MuTm-RFjwrEX",
        "colab_type": "code",
        "colab": {}
      },
      "source": [
        "# learn.fit_one_cycle(1, 1e-3)"
      ],
      "execution_count": 0,
      "outputs": []
    },
    {
      "cell_type": "code",
      "metadata": {
        "id": "1Er2ExO8wr7Y",
        "colab_type": "code",
        "colab": {}
      },
      "source": [
        "learn.save_encoder('ft_fold3_first')"
      ],
      "execution_count": 0,
      "outputs": []
    },
    {
      "cell_type": "code",
      "metadata": {
        "id": "z52cZs2qwvad",
        "colab_type": "code",
        "outputId": "53c97200-b66d-45d3-dbe4-58497a9883bc",
        "colab": {
          "base_uri": "https://localhost:8080/",
          "height": 79
        }
      },
      "source": [
        "learn = text_classifier_learner(data_clas,AWD_LSTM, drop_mult=0.5)\n",
        "learn.load_encoder('ft_fold3_first')\n",
        "learn.fit_one_cycle(1, 1e-2)"
      ],
      "execution_count": 27,
      "outputs": [
        {
          "output_type": "display_data",
          "data": {
            "text/html": [
              "<table border=\"1\" class=\"dataframe\">\n",
              "  <thead>\n",
              "    <tr style=\"text-align: left;\">\n",
              "      <th>epoch</th>\n",
              "      <th>train_loss</th>\n",
              "      <th>valid_loss</th>\n",
              "      <th>accuracy</th>\n",
              "      <th>time</th>\n",
              "    </tr>\n",
              "  </thead>\n",
              "  <tbody>\n",
              "    <tr>\n",
              "      <td>0</td>\n",
              "      <td>4.030801</td>\n",
              "      <td>3.725246</td>\n",
              "      <td>0.375318</td>\n",
              "      <td>01:04</td>\n",
              "    </tr>\n",
              "  </tbody>\n",
              "</table>"
            ],
            "text/plain": [
              "<IPython.core.display.HTML object>"
            ]
          },
          "metadata": {
            "tags": []
          }
        }
      ]
    },
    {
      "cell_type": "code",
      "metadata": {
        "id": "ImwQP1PJwzxd",
        "colab_type": "code",
        "outputId": "528e6a93-e008-48e4-c230-0d20d4e272db",
        "colab": {
          "base_uri": "https://localhost:8080/",
          "height": 79
        }
      },
      "source": [
        "learn.freeze_to(-2)\n",
        "learn.fit_one_cycle(1, slice(5e-3/2., 5e-3))"
      ],
      "execution_count": 28,
      "outputs": [
        {
          "output_type": "display_data",
          "data": {
            "text/html": [
              "<table border=\"1\" class=\"dataframe\">\n",
              "  <thead>\n",
              "    <tr style=\"text-align: left;\">\n",
              "      <th>epoch</th>\n",
              "      <th>train_loss</th>\n",
              "      <th>valid_loss</th>\n",
              "      <th>accuracy</th>\n",
              "      <th>time</th>\n",
              "    </tr>\n",
              "  </thead>\n",
              "  <tbody>\n",
              "    <tr>\n",
              "      <td>0</td>\n",
              "      <td>2.940539</td>\n",
              "      <td>3.197728</td>\n",
              "      <td>0.461832</td>\n",
              "      <td>01:21</td>\n",
              "    </tr>\n",
              "  </tbody>\n",
              "</table>"
            ],
            "text/plain": [
              "<IPython.core.display.HTML object>"
            ]
          },
          "metadata": {
            "tags": []
          }
        }
      ]
    },
    {
      "cell_type": "code",
      "metadata": {
        "id": "Owff_BJXw53u",
        "colab_type": "code",
        "outputId": "5ae9ab26-346e-4533-eeda-43a4eba21945",
        "colab": {
          "base_uri": "https://localhost:8080/",
          "height": 79
        }
      },
      "source": [
        "learn.unfreeze()\n",
        "learn.fit_one_cycle(1, slice(2e-3/100, 2e-3))"
      ],
      "execution_count": 29,
      "outputs": [
        {
          "output_type": "display_data",
          "data": {
            "text/html": [
              "<table border=\"1\" class=\"dataframe\">\n",
              "  <thead>\n",
              "    <tr style=\"text-align: left;\">\n",
              "      <th>epoch</th>\n",
              "      <th>train_loss</th>\n",
              "      <th>valid_loss</th>\n",
              "      <th>accuracy</th>\n",
              "      <th>time</th>\n",
              "    </tr>\n",
              "  </thead>\n",
              "  <tbody>\n",
              "    <tr>\n",
              "      <td>0</td>\n",
              "      <td>2.545921</td>\n",
              "      <td>2.823537</td>\n",
              "      <td>0.526718</td>\n",
              "      <td>03:25</td>\n",
              "    </tr>\n",
              "  </tbody>\n",
              "</table>"
            ],
            "text/plain": [
              "<IPython.core.display.HTML object>"
            ]
          },
          "metadata": {
            "tags": []
          }
        }
      ]
    },
    {
      "cell_type": "code",
      "metadata": {
        "id": "lqAyu56V8Waq",
        "colab_type": "code",
        "outputId": "4cf34997-b5d0-4c44-c545-bdc812ccd3ed",
        "colab": {
          "base_uri": "https://localhost:8080/",
          "height": 110
        }
      },
      "source": [
        "learn.fit_one_cycle(2, slice(2e-3/100, 2e-3))"
      ],
      "execution_count": 30,
      "outputs": [
        {
          "output_type": "display_data",
          "data": {
            "text/html": [
              "<table border=\"1\" class=\"dataframe\">\n",
              "  <thead>\n",
              "    <tr style=\"text-align: left;\">\n",
              "      <th>epoch</th>\n",
              "      <th>train_loss</th>\n",
              "      <th>valid_loss</th>\n",
              "      <th>accuracy</th>\n",
              "      <th>time</th>\n",
              "    </tr>\n",
              "  </thead>\n",
              "  <tbody>\n",
              "    <tr>\n",
              "      <td>0</td>\n",
              "      <td>2.116319</td>\n",
              "      <td>2.494101</td>\n",
              "      <td>0.578880</td>\n",
              "      <td>03:17</td>\n",
              "    </tr>\n",
              "    <tr>\n",
              "      <td>1</td>\n",
              "      <td>1.916590</td>\n",
              "      <td>2.322519</td>\n",
              "      <td>0.604326</td>\n",
              "      <td>03:14</td>\n",
              "    </tr>\n",
              "  </tbody>\n",
              "</table>"
            ],
            "text/plain": [
              "<IPython.core.display.HTML object>"
            ]
          },
          "metadata": {
            "tags": []
          }
        }
      ]
    },
    {
      "cell_type": "code",
      "metadata": {
        "id": "a7I1xMRp8bUd",
        "colab_type": "code",
        "outputId": "2148998e-a9fd-4720-81b3-fe1e4854c529",
        "colab": {
          "base_uri": "https://localhost:8080/",
          "height": 110
        }
      },
      "source": [
        "learn.fit_one_cycle(2, slice(2e-3/100, 2e-3))"
      ],
      "execution_count": 31,
      "outputs": [
        {
          "output_type": "display_data",
          "data": {
            "text/html": [
              "<table border=\"1\" class=\"dataframe\">\n",
              "  <thead>\n",
              "    <tr style=\"text-align: left;\">\n",
              "      <th>epoch</th>\n",
              "      <th>train_loss</th>\n",
              "      <th>valid_loss</th>\n",
              "      <th>accuracy</th>\n",
              "      <th>time</th>\n",
              "    </tr>\n",
              "  </thead>\n",
              "  <tbody>\n",
              "    <tr>\n",
              "      <td>0</td>\n",
              "      <td>1.752103</td>\n",
              "      <td>2.122109</td>\n",
              "      <td>0.646310</td>\n",
              "      <td>03:28</td>\n",
              "    </tr>\n",
              "    <tr>\n",
              "      <td>1</td>\n",
              "      <td>1.538968</td>\n",
              "      <td>2.026263</td>\n",
              "      <td>0.664122</td>\n",
              "      <td>03:14</td>\n",
              "    </tr>\n",
              "  </tbody>\n",
              "</table>"
            ],
            "text/plain": [
              "<IPython.core.display.HTML object>"
            ]
          },
          "metadata": {
            "tags": []
          }
        }
      ]
    },
    {
      "cell_type": "code",
      "metadata": {
        "id": "UAnti-XmGVfO",
        "colab_type": "code",
        "outputId": "f02e8006-1867-4fbd-bd18-8861f9891838",
        "colab": {
          "base_uri": "https://localhost:8080/",
          "height": 110
        }
      },
      "source": [
        "learn.fit_one_cycle(2, slice(2e-3/100, 2e-3))"
      ],
      "execution_count": 32,
      "outputs": [
        {
          "output_type": "display_data",
          "data": {
            "text/html": [
              "<table border=\"1\" class=\"dataframe\">\n",
              "  <thead>\n",
              "    <tr style=\"text-align: left;\">\n",
              "      <th>epoch</th>\n",
              "      <th>train_loss</th>\n",
              "      <th>valid_loss</th>\n",
              "      <th>accuracy</th>\n",
              "      <th>time</th>\n",
              "    </tr>\n",
              "  </thead>\n",
              "  <tbody>\n",
              "    <tr>\n",
              "      <td>0</td>\n",
              "      <td>1.466237</td>\n",
              "      <td>1.916616</td>\n",
              "      <td>0.676845</td>\n",
              "      <td>03:27</td>\n",
              "    </tr>\n",
              "    <tr>\n",
              "      <td>1</td>\n",
              "      <td>1.244783</td>\n",
              "      <td>1.873456</td>\n",
              "      <td>0.692112</td>\n",
              "      <td>03:27</td>\n",
              "    </tr>\n",
              "  </tbody>\n",
              "</table>"
            ],
            "text/plain": [
              "<IPython.core.display.HTML object>"
            ]
          },
          "metadata": {
            "tags": []
          }
        }
      ]
    },
    {
      "cell_type": "code",
      "metadata": {
        "id": "bIft7W25GwSu",
        "colab_type": "code",
        "outputId": "782692a8-733f-43ab-ff14-20511ff5bd54",
        "colab": {
          "base_uri": "https://localhost:8080/",
          "height": 110
        }
      },
      "source": [
        "learn.fit_one_cycle(2, slice(2e-3/100, 2e-3))"
      ],
      "execution_count": 33,
      "outputs": [
        {
          "output_type": "display_data",
          "data": {
            "text/html": [
              "<table border=\"1\" class=\"dataframe\">\n",
              "  <thead>\n",
              "    <tr style=\"text-align: left;\">\n",
              "      <th>epoch</th>\n",
              "      <th>train_loss</th>\n",
              "      <th>valid_loss</th>\n",
              "      <th>accuracy</th>\n",
              "      <th>time</th>\n",
              "    </tr>\n",
              "  </thead>\n",
              "  <tbody>\n",
              "    <tr>\n",
              "      <td>0</td>\n",
              "      <td>1.232921</td>\n",
              "      <td>1.782693</td>\n",
              "      <td>0.692112</td>\n",
              "      <td>03:31</td>\n",
              "    </tr>\n",
              "    <tr>\n",
              "      <td>1</td>\n",
              "      <td>1.097540</td>\n",
              "      <td>1.733699</td>\n",
              "      <td>0.708651</td>\n",
              "      <td>03:26</td>\n",
              "    </tr>\n",
              "  </tbody>\n",
              "</table>"
            ],
            "text/plain": [
              "<IPython.core.display.HTML object>"
            ]
          },
          "metadata": {
            "tags": []
          }
        }
      ]
    },
    {
      "cell_type": "code",
      "metadata": {
        "id": "EEHszVRvGyFt",
        "colab_type": "code",
        "outputId": "601c2193-4c68-4e41-d280-f3f6e9bc1676",
        "colab": {
          "base_uri": "https://localhost:8080/",
          "height": 110
        }
      },
      "source": [
        "learn.fit_one_cycle(2, slice(2e-3/100, 2e-3))"
      ],
      "execution_count": 34,
      "outputs": [
        {
          "output_type": "display_data",
          "data": {
            "text/html": [
              "<table border=\"1\" class=\"dataframe\">\n",
              "  <thead>\n",
              "    <tr style=\"text-align: left;\">\n",
              "      <th>epoch</th>\n",
              "      <th>train_loss</th>\n",
              "      <th>valid_loss</th>\n",
              "      <th>accuracy</th>\n",
              "      <th>time</th>\n",
              "    </tr>\n",
              "  </thead>\n",
              "  <tbody>\n",
              "    <tr>\n",
              "      <td>0</td>\n",
              "      <td>1.094466</td>\n",
              "      <td>1.700311</td>\n",
              "      <td>0.717557</td>\n",
              "      <td>03:16</td>\n",
              "    </tr>\n",
              "    <tr>\n",
              "      <td>1</td>\n",
              "      <td>0.977428</td>\n",
              "      <td>1.639786</td>\n",
              "      <td>0.720102</td>\n",
              "      <td>03:09</td>\n",
              "    </tr>\n",
              "  </tbody>\n",
              "</table>"
            ],
            "text/plain": [
              "<IPython.core.display.HTML object>"
            ]
          },
          "metadata": {
            "tags": []
          }
        }
      ]
    },
    {
      "cell_type": "code",
      "metadata": {
        "id": "XsHfrhCHG3dN",
        "colab_type": "code",
        "outputId": "09e25f7b-70a8-448a-c4ac-9c0163507835",
        "colab": {
          "base_uri": "https://localhost:8080/",
          "height": 171
        }
      },
      "source": [
        "learn.fit_one_cycle(4, slice(2e-3/100, 2e-3))"
      ],
      "execution_count": 35,
      "outputs": [
        {
          "output_type": "display_data",
          "data": {
            "text/html": [
              "<table border=\"1\" class=\"dataframe\">\n",
              "  <thead>\n",
              "    <tr style=\"text-align: left;\">\n",
              "      <th>epoch</th>\n",
              "      <th>train_loss</th>\n",
              "      <th>valid_loss</th>\n",
              "      <th>accuracy</th>\n",
              "      <th>time</th>\n",
              "    </tr>\n",
              "  </thead>\n",
              "  <tbody>\n",
              "    <tr>\n",
              "      <td>0</td>\n",
              "      <td>0.913087</td>\n",
              "      <td>1.664388</td>\n",
              "      <td>0.713740</td>\n",
              "      <td>03:13</td>\n",
              "    </tr>\n",
              "    <tr>\n",
              "      <td>1</td>\n",
              "      <td>0.933868</td>\n",
              "      <td>1.597586</td>\n",
              "      <td>0.726463</td>\n",
              "      <td>03:15</td>\n",
              "    </tr>\n",
              "    <tr>\n",
              "      <td>2</td>\n",
              "      <td>0.863074</td>\n",
              "      <td>1.554524</td>\n",
              "      <td>0.745547</td>\n",
              "      <td>03:26</td>\n",
              "    </tr>\n",
              "    <tr>\n",
              "      <td>3</td>\n",
              "      <td>0.740650</td>\n",
              "      <td>1.542800</td>\n",
              "      <td>0.741730</td>\n",
              "      <td>03:24</td>\n",
              "    </tr>\n",
              "  </tbody>\n",
              "</table>"
            ],
            "text/plain": [
              "<IPython.core.display.HTML object>"
            ]
          },
          "metadata": {
            "tags": []
          }
        }
      ]
    },
    {
      "cell_type": "code",
      "metadata": {
        "id": "0Zsd99isb9EQ",
        "colab_type": "code",
        "outputId": "5a1ed4cc-2434-42ab-a0a5-37484352973a",
        "colab": {
          "base_uri": "https://localhost:8080/",
          "height": 171
        }
      },
      "source": [
        "learn.fit_one_cycle(4, slice(2e-3/100, 2e-3))"
      ],
      "execution_count": 36,
      "outputs": [
        {
          "output_type": "display_data",
          "data": {
            "text/html": [
              "<table border=\"1\" class=\"dataframe\">\n",
              "  <thead>\n",
              "    <tr style=\"text-align: left;\">\n",
              "      <th>epoch</th>\n",
              "      <th>train_loss</th>\n",
              "      <th>valid_loss</th>\n",
              "      <th>accuracy</th>\n",
              "      <th>time</th>\n",
              "    </tr>\n",
              "  </thead>\n",
              "  <tbody>\n",
              "    <tr>\n",
              "      <td>0</td>\n",
              "      <td>0.750738</td>\n",
              "      <td>1.562355</td>\n",
              "      <td>0.739186</td>\n",
              "      <td>03:26</td>\n",
              "    </tr>\n",
              "    <tr>\n",
              "      <td>1</td>\n",
              "      <td>0.834756</td>\n",
              "      <td>1.547257</td>\n",
              "      <td>0.748092</td>\n",
              "      <td>03:23</td>\n",
              "    </tr>\n",
              "    <tr>\n",
              "      <td>2</td>\n",
              "      <td>0.735838</td>\n",
              "      <td>1.486269</td>\n",
              "      <td>0.754453</td>\n",
              "      <td>03:25</td>\n",
              "    </tr>\n",
              "    <tr>\n",
              "      <td>3</td>\n",
              "      <td>0.651414</td>\n",
              "      <td>1.469710</td>\n",
              "      <td>0.759542</td>\n",
              "      <td>03:07</td>\n",
              "    </tr>\n",
              "  </tbody>\n",
              "</table>"
            ],
            "text/plain": [
              "<IPython.core.display.HTML object>"
            ]
          },
          "metadata": {
            "tags": []
          }
        }
      ]
    },
    {
      "cell_type": "code",
      "metadata": {
        "id": "atNWNKDFPbuI",
        "colab_type": "code",
        "outputId": "01451a5c-6009-418c-de35-778d1f317461",
        "colab": {
          "base_uri": "https://localhost:8080/",
          "height": 171
        }
      },
      "source": [
        "learn.fit_one_cycle(4, slice(2e-3/100, 2e-3))"
      ],
      "execution_count": 37,
      "outputs": [
        {
          "output_type": "display_data",
          "data": {
            "text/html": [
              "<table border=\"1\" class=\"dataframe\">\n",
              "  <thead>\n",
              "    <tr style=\"text-align: left;\">\n",
              "      <th>epoch</th>\n",
              "      <th>train_loss</th>\n",
              "      <th>valid_loss</th>\n",
              "      <th>accuracy</th>\n",
              "      <th>time</th>\n",
              "    </tr>\n",
              "  </thead>\n",
              "  <tbody>\n",
              "    <tr>\n",
              "      <td>0</td>\n",
              "      <td>0.657567</td>\n",
              "      <td>1.536825</td>\n",
              "      <td>0.753181</td>\n",
              "      <td>03:06</td>\n",
              "    </tr>\n",
              "    <tr>\n",
              "      <td>1</td>\n",
              "      <td>0.696699</td>\n",
              "      <td>1.507825</td>\n",
              "      <td>0.750636</td>\n",
              "      <td>03:17</td>\n",
              "    </tr>\n",
              "    <tr>\n",
              "      <td>2</td>\n",
              "      <td>0.613127</td>\n",
              "      <td>1.503188</td>\n",
              "      <td>0.764631</td>\n",
              "      <td>03:12</td>\n",
              "    </tr>\n",
              "    <tr>\n",
              "      <td>3</td>\n",
              "      <td>0.573504</td>\n",
              "      <td>1.488379</td>\n",
              "      <td>0.765903</td>\n",
              "      <td>03:16</td>\n",
              "    </tr>\n",
              "  </tbody>\n",
              "</table>"
            ],
            "text/plain": [
              "<IPython.core.display.HTML object>"
            ]
          },
          "metadata": {
            "tags": []
          }
        }
      ]
    },
    {
      "cell_type": "code",
      "metadata": {
        "id": "rKrBTZ0T1uVA",
        "colab_type": "code",
        "outputId": "fe874876-b42a-4c68-eda5-8cff1add8e38",
        "colab": {
          "base_uri": "https://localhost:8080/",
          "height": 171
        }
      },
      "source": [
        "learn.fit_one_cycle(4, slice(2e-3/100, 2e-3))"
      ],
      "execution_count": 38,
      "outputs": [
        {
          "output_type": "display_data",
          "data": {
            "text/html": [
              "<table border=\"1\" class=\"dataframe\">\n",
              "  <thead>\n",
              "    <tr style=\"text-align: left;\">\n",
              "      <th>epoch</th>\n",
              "      <th>train_loss</th>\n",
              "      <th>valid_loss</th>\n",
              "      <th>accuracy</th>\n",
              "      <th>time</th>\n",
              "    </tr>\n",
              "  </thead>\n",
              "  <tbody>\n",
              "    <tr>\n",
              "      <td>0</td>\n",
              "      <td>0.606077</td>\n",
              "      <td>1.550034</td>\n",
              "      <td>0.755725</td>\n",
              "      <td>03:30</td>\n",
              "    </tr>\n",
              "    <tr>\n",
              "      <td>1</td>\n",
              "      <td>0.640330</td>\n",
              "      <td>1.573626</td>\n",
              "      <td>0.758270</td>\n",
              "      <td>03:16</td>\n",
              "    </tr>\n",
              "    <tr>\n",
              "      <td>2</td>\n",
              "      <td>0.591227</td>\n",
              "      <td>1.537792</td>\n",
              "      <td>0.769720</td>\n",
              "      <td>03:29</td>\n",
              "    </tr>\n",
              "    <tr>\n",
              "      <td>3</td>\n",
              "      <td>0.552240</td>\n",
              "      <td>1.516325</td>\n",
              "      <td>0.773537</td>\n",
              "      <td>03:16</td>\n",
              "    </tr>\n",
              "  </tbody>\n",
              "</table>"
            ],
            "text/plain": [
              "<IPython.core.display.HTML object>"
            ]
          },
          "metadata": {
            "tags": []
          }
        }
      ]
    },
    {
      "cell_type": "code",
      "metadata": {
        "id": "c65d-osfDUXm",
        "colab_type": "code",
        "colab": {}
      },
      "source": [
        "# save the best model\n",
        "\n",
        "learn.save_encoder('ask-3-tuning-cadec')"
      ],
      "execution_count": 0,
      "outputs": []
    },
    {
      "cell_type": "markdown",
      "metadata": {
        "id": "rCwZU0E2RgM6",
        "colab_type": "text"
      },
      "source": [
        "# Part three: Predict on the test dataset"
      ]
    },
    {
      "cell_type": "code",
      "metadata": {
        "id": "gDm72c-dOu7d",
        "colab_type": "code",
        "colab": {}
      },
      "source": [
        "# use the test data for prediction\n",
        "\n",
        "preds, y = learn.get_preds(DatasetType.Test)"
      ],
      "execution_count": 0,
      "outputs": []
    },
    {
      "cell_type": "code",
      "metadata": {
        "id": "6tFSQcsWPvxn",
        "colab_type": "code",
        "outputId": "621f6f28-4314-47d0-973f-4c597ccdb897",
        "colab": {
          "base_uri": "https://localhost:8080/",
          "height": 107
        }
      },
      "source": [
        "predictions, *_ = learn.get_preds(DatasetType.Test)\n",
        "labels = np.argmax(predictions, 1)\n",
        "predict_list = labels.tolist()\n",
        "standard_list = test[0].tolist()\n",
        "\n",
        "print(len(predict_list))\n",
        "print(len(standard_list))\n",
        "\n",
        "print(predict_list)\n",
        "print(standard_list)"
      ],
      "execution_count": 0,
      "outputs": [
        {
          "output_type": "stream",
          "text": [
            "866\n",
            "866\n",
            "[2, 334, 6, 8, 8, 8, 12, 957, 1035, 27, 27, 291, 29, 30, 31, 34, 877, 597, 37, 37, 37, 37, 37, 37, 896, 37, 37, 49, 301, 49, 1031, 49, 82, 49, 49, 49, 49, 49, 49, 49, 53, 53, 53, 597, 61, 61, 491, 159, 337, 1031, 70, 71, 107, 8, 76, 209, 260, 289, 402, 633, 633, 633, 815, 523, 523, 523, 523, 523, 523, 523, 523, 523, 523, 523, 523, 523, 523, 523, 523, 523, 523, 523, 523, 523, 523, 523, 523, 523, 289, 614, 614, 289, 80, 80, 80, 137, 218, 1031, 815, 453, 94, 453, 453, 864, 453, 453, 453, 453, 453, 453, 453, 453, 94, 94, 761, 761, 98, 98, 285, 100, 100, 100, 100, 861, 1031, 644, 877, 108, 289, 108, 289, 289, 289, 189, 117, 775, 119, 436, 815, 1031, 125, 125, 125, 125, 125, 125, 125, 126, 127, 82, 343, 343, 131, 139, 139, 139, 140, 226, 447, 151, 758, 218, 626, 441, 453, 453, 167, 473, 819, 604, 172, 172, 700, 172, 700, 427, 729, 33, 182, 182, 289, 289, 183, 183, 183, 758, 758, 758, 758, 758, 758, 758, 187, 187, 187, 187, 187, 187, 359, 289, 289, 190, 289, 703, 790, 105, 105, 105, 197, 197, 34, 197, 584, 266, 203, 589, 205, 289, 209, 210, 210, 210, 211, 236, 214, 1035, 214, 214, 866, 877, 877, 877, 214, 214, 369, 815, 220, 300, 221, 228, 228, 228, 228, 228, 228, 228, 228, 228, 964, 228, 228, 289, 228, 228, 395, 234, 234, 234, 780, 925, 545, 236, 434, 1031, 240, 243, 484, 1031, 866, 866, 866, 1031, 913, 245, 245, 245, 246, 357, 1031, 909, 264, 260, 76, 260, 265, 265, 265, 265, 265, 265, 427, 289, 265, 265, 265, 265, 265, 265, 265, 265, 265, 265, 265, 265, 265, 265, 265, 265, 265, 265, 265, 265, 265, 265, 265, 1032, 289, 289, 265, 265, 281, 95, 651, 289, 289, 289, 289, 289, 289, 289, 289, 289, 289, 864, 289, 289, 289, 289, 289, 289, 523, 441, 293, 849, 234, 298, 805, 300, 999, 999, 301, 704, 459, 309, 309, 309, 309, 309, 309, 309, 427, 861, 318, 318, 479, 321, 427, 325, 49, 325, 325, 325, 301, 301, 301, 301, 301, 301, 301, 301, 109, 109, 49, 328, 329, 332, 355, 236, 337, 1035, 337, 338, 1031, 453, 157, 359, 359, 359, 359, 473, 364, 364, 364, 289, 289, 1031, 898, 386, 391, 391, 391, 391, 443, 815, 815, 1031, 402, 402, 402, 288, 415, 415, 418, 418, 651, 651, 651, 651, 651, 1031, 289, 424, 350, 425, 425, 557, 426, 427, 596, 427, 427, 427, 427, 427, 430, 435, 663, 441, 443, 443, 444, 444, 444, 452, 454, 1031, 453, 453, 453, 453, 240, 355, 471, 474, 475, 475, 475, 475, 475, 475, 418, 488, 546, 491, 491, 491, 491, 491, 499, 711, 507, 9, 126, 510, 517, 517, 517, 517, 517, 524, 289, 146, 530, 530, 530, 709, 541, 746, 542, 545, 545, 545, 545, 545, 545, 626, 355, 355, 355, 355, 549, 594, 904, 734, 572, 1031, 574, 574, 703, 579, 583, 585, 355, 355, 591, 591, 355, 592, 592, 191, 191, 97, 599, 1031, 1031, 609, 610, 224, 427, 614, 614, 614, 547, 61, 815, 291, 622, 623, 624, 1031, 268, 630, 289, 289, 652, 637, 385, 643, 1031, 644, 646, 646, 297, 646, 1031, 289, 652, 652, 652, 289, 652, 810, 661, 662, 849, 443, 690, 861, 289, 702, 703, 265, 492, 783, 783, 783, 783, 783, 355, 714, 715, 769, 764, 730, 736, 704, 741, 741, 289, 289, 289, 471, 746, 746, 746, 746, 748, 769, 350, 773, 648, 775, 775, 775, 775, 775, 775, 475, 783, 823, 823, 756, 794, 164, 289, 753, 804, 804, 783, 805, 805, 806, 806, 806, 806, 809, 641, 427, 810, 810, 1035, 357, 816, 384, 817, 817, 1035, 484, 826, 830, 830, 830, 453, 453, 830, 866, 866, 1032, 1031, 840, 844, 844, 847, 847, 535, 848, 852, 852, 913, 853, 853, 853, 853, 355, 1031, 750, 50, 256, 37, 877, 391, 880, 61, 892, 896, 896, 896, 896, 896, 896, 896, 896, 919, 919, 1032, 1032, 355, 937, 937, 937, 937, 937, 631, 937, 937, 937, 940, 948, 948, 1031, 710, 355, 949, 949, 949, 949, 949, 949, 949, 949, 949, 949, 949, 949, 949, 949, 949, 949, 949, 949, 949, 949, 949, 949, 949, 949, 949, 949, 949, 949, 949, 949, 949, 949, 949, 949, 949, 949, 949, 949, 949, 949, 949, 949, 949, 949, 949, 949, 949, 949, 949, 949, 949, 949, 949, 949, 949, 949, 949, 949, 949, 949, 949, 949, 949, 949, 949, 949, 949, 949, 949, 949, 949, 949, 949, 949, 949, 949, 949, 949, 949, 949, 949, 949, 949, 949, 949, 949, 949, 949, 949, 949, 949, 949, 949, 949, 949, 949, 949, 949, 949, 949, 949, 949, 949, 949, 949, 949, 949, 949, 949, 1032, 950, 950, 950, 950, 950, 952, 952, 952, 952, 955, 912, 912, 958, 1032, 964, 965, 966, 974, 976, 976, 962, 1031, 355, 913, 815, 1035, 912, 962, 1001, 1001, 958, 710, 710, 1015, 1016, 1026, 966, 256, 1032, 710, 1028, 1028, 1031, 1035]\n",
            "[2, 5, 6, 8, 8, 8, 12, 15, 17, 27, 27, 29, 29, 30, 31, 34, 34, 35, 37, 37, 37, 37, 37, 37, 37, 37, 37, 49, 49, 49, 49, 49, 49, 49, 49, 49, 49, 49, 49, 49, 53, 53, 53, 60, 61, 61, 62, 62, 62, 63, 70, 71, 72, 74, 76, 77, 77, 77, 79, 79, 79, 79, 79, 79, 79, 79, 79, 79, 79, 79, 79, 79, 79, 79, 79, 79, 79, 79, 79, 79, 79, 79, 79, 79, 79, 79, 79, 79, 79, 79, 79, 79, 80, 80, 80, 89, 90, 91, 91, 94, 94, 94, 94, 94, 94, 94, 94, 94, 94, 94, 94, 94, 94, 94, 96, 96, 98, 98, 99, 100, 100, 100, 100, 100, 104, 106, 107, 108, 108, 108, 109, 111, 111, 116, 117, 117, 119, 120, 122, 122, 125, 125, 125, 125, 125, 125, 125, 126, 127, 128, 129, 129, 131, 139, 139, 139, 140, 140, 142, 151, 151, 151, 154, 162, 163, 163, 167, 169, 170, 172, 172, 172, 172, 172, 172, 173, 173, 176, 182, 182, 182, 182, 183, 183, 183, 183, 183, 183, 183, 183, 183, 183, 187, 187, 187, 187, 187, 187, 187, 190, 190, 190, 190, 190, 192, 193, 193, 193, 197, 197, 197, 197, 198, 199, 203, 204, 205, 205, 209, 210, 210, 210, 211, 214, 214, 214, 214, 214, 214, 214, 214, 214, 214, 214, 215, 216, 220, 220, 221, 228, 228, 228, 228, 228, 228, 228, 228, 228, 228, 228, 228, 228, 228, 228, 233, 234, 234, 234, 235, 235, 235, 236, 238, 238, 240, 243, 243, 243, 243, 243, 243, 243, 244, 245, 245, 245, 246, 246, 254, 254, 255, 260, 260, 260, 265, 265, 265, 265, 265, 265, 265, 265, 265, 265, 265, 265, 265, 265, 265, 265, 265, 265, 265, 265, 265, 265, 265, 265, 265, 265, 265, 265, 265, 265, 265, 265, 265, 265, 265, 265, 281, 286, 289, 289, 289, 289, 289, 289, 289, 289, 289, 289, 289, 289, 289, 289, 289, 289, 289, 289, 289, 292, 293, 294, 298, 298, 299, 300, 300, 300, 301, 301, 305, 309, 309, 309, 309, 309, 309, 309, 309, 317, 318, 318, 318, 321, 325, 325, 325, 325, 325, 325, 325, 325, 325, 325, 325, 325, 325, 325, 325, 325, 325, 328, 329, 332, 335, 337, 337, 337, 337, 338, 340, 342, 354, 359, 359, 359, 359, 361, 364, 364, 364, 364, 364, 371, 384, 386, 391, 391, 391, 391, 392, 396, 396, 402, 402, 402, 402, 408, 415, 415, 418, 418, 419, 419, 419, 419, 419, 419, 419, 424, 424, 425, 425, 425, 426, 427, 427, 427, 427, 427, 427, 427, 430, 435, 437, 441, 443, 443, 444, 444, 444, 452, 454, 455, 455, 455, 455, 455, 455, 455, 471, 474, 475, 475, 475, 475, 475, 475, 487, 488, 490, 491, 491, 491, 491, 491, 499, 505, 507, 510, 513, 514, 517, 517, 517, 517, 517, 524, 524, 525, 530, 530, 530, 531, 541, 541, 542, 545, 545, 545, 545, 545, 545, 548, 548, 548, 548, 548, 549, 549, 559, 560, 572, 574, 574, 574, 574, 579, 583, 585, 590, 590, 591, 591, 592, 592, 592, 593, 593, 594, 599, 602, 602, 609, 610, 610, 610, 614, 614, 614, 615, 617, 619, 619, 622, 623, 624, 627, 627, 630, 633, 635, 636, 637, 638, 643, 644, 644, 646, 646, 646, 646, 646, 650, 652, 652, 652, 653, 654, 659, 661, 662, 672, 675, 690, 696, 700, 702, 703, 704, 708, 711, 711, 711, 711, 711, 714, 714, 715, 723, 727, 730, 736, 741, 741, 741, 741, 741, 742, 743, 746, 746, 746, 746, 748, 769, 771, 772, 774, 775, 775, 775, 775, 775, 775, 780, 783, 790, 790, 794, 794, 794, 797, 803, 804, 804, 805, 805, 805, 806, 806, 806, 806, 809, 809, 810, 810, 810, 812, 812, 816, 816, 817, 817, 818, 821, 826, 830, 830, 830, 830, 830, 830, 838, 840, 840, 840, 840, 844, 844, 847, 847, 847, 848, 852, 852, 853, 853, 853, 853, 853, 853, 857, 861, 862, 868, 876, 877, 879, 880, 891, 892, 896, 896, 896, 896, 896, 896, 896, 897, 919, 919, 919, 919, 929, 937, 937, 937, 937, 937, 937, 937, 937, 937, 940, 948, 948, 948, 948, 948, 949, 949, 949, 949, 949, 949, 949, 949, 949, 949, 949, 949, 949, 949, 949, 949, 949, 949, 949, 949, 949, 949, 949, 949, 949, 949, 949, 949, 949, 949, 949, 949, 949, 949, 949, 949, 949, 949, 949, 949, 949, 949, 949, 949, 949, 949, 949, 949, 949, 949, 949, 949, 949, 949, 949, 949, 949, 949, 949, 949, 949, 949, 949, 949, 949, 949, 949, 949, 949, 949, 949, 949, 949, 949, 949, 949, 949, 949, 949, 949, 949, 949, 949, 949, 949, 949, 949, 949, 949, 949, 949, 949, 949, 949, 949, 949, 949, 949, 949, 949, 949, 949, 949, 949, 949, 949, 949, 949, 949, 949, 950, 950, 950, 950, 950, 952, 952, 952, 952, 955, 956, 956, 958, 958, 964, 965, 966, 974, 976, 976, 980, 982, 983, 986, 992, 994, 999, 999, 1001, 1001, 1005, 1007, 1008, 1015, 1016, 1026, 1026, 1026, 1026, 1026, 1028, 1028, 1031, 1035]\n"
          ],
          "name": "stdout"
        }
      ]
    },
    {
      "cell_type": "code",
      "metadata": {
        "id": "XIC4zufnMxtq",
        "colab_type": "code",
        "outputId": "29827b75-b35b-4dd0-8b84-7518cdfedf33",
        "colab": {
          "base_uri": "https://localhost:8080/",
          "height": 52
        }
      },
      "source": [
        "correct_num = 0\n",
        "\n",
        "for i in range(0, 866):\n",
        "  if predict_list[i] == standard_list[i]:\n",
        "    correct_num = correct_num+1\n",
        "  else:\n",
        "    pass\n",
        "print(correct_num)\n",
        "\n",
        "predict_accuracy = correct_num/len(predict_list)\n",
        "print(predict_accuracy)"
      ],
      "execution_count": 46,
      "outputs": [
        {
          "output_type": "stream",
          "text": [
            "515\n",
            "0.5946882217090069\n"
          ],
          "name": "stdout"
        }
      ]
    },
    {
      "cell_type": "code",
      "metadata": {
        "id": "zlKMHp1CIaRJ",
        "colab_type": "code",
        "colab": {}
      },
      "source": [
        ""
      ],
      "execution_count": 0,
      "outputs": []
    }
  ]
}