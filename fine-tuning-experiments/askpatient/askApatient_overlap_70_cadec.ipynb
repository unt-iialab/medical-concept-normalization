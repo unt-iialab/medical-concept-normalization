{
  "nbformat": 4,
  "nbformat_minor": 0,
  "metadata": {
    "colab": {
      "name": "askApatient_overlap_70_cadec.ipynb",
      "provenance": [],
      "collapsed_sections": [],
      "toc_visible": true,
      "include_colab_link": true
    },
    "kernelspec": {
      "name": "python3",
      "display_name": "Python 3"
    },
    "accelerator": "TPU"
  },
  "cells": [
    {
      "cell_type": "markdown",
      "metadata": {
        "id": "view-in-github",
        "colab_type": "text"
      },
      "source": [
        "<a href=\"https://colab.research.google.com/github/unt-iialab/medical-concept-normalization/blob/master/fine-tuning-experiments/askpatient/askApatient_overlap_70_cadec.ipynb\" target=\"_parent\"><img src=\"https://colab.research.google.com/assets/colab-badge.svg\" alt=\"Open In Colab\"/></a>"
      ]
    },
    {
      "cell_type": "code",
      "metadata": {
        "id": "adSi6i2-dWxy",
        "colab_type": "code",
        "colab": {}
      },
      "source": [
        "import os"
      ],
      "execution_count": 0,
      "outputs": []
    },
    {
      "cell_type": "code",
      "metadata": {
        "id": "E7xYCRGPjd9B",
        "colab_type": "code",
        "colab": {}
      },
      "source": [
        "base_dir = 'medical-concept-normalization'"
      ],
      "execution_count": 0,
      "outputs": []
    },
    {
      "cell_type": "code",
      "metadata": {
        "id": "yvIW3aUDjYNS",
        "colab_type": "code",
        "colab": {}
      },
      "source": [
        "os.mkdir(base_dir)"
      ],
      "execution_count": 0,
      "outputs": []
    },
    {
      "cell_type": "code",
      "metadata": {
        "id": "es-FFLlfk6SG",
        "colab_type": "code",
        "colab": {}
      },
      "source": [
        "os.mkdir('medical-concept-normalization/data_collection')"
      ],
      "execution_count": 0,
      "outputs": []
    },
    {
      "cell_type": "markdown",
      "metadata": {
        "id": "0R-Guw_VoJXm",
        "colab_type": "text"
      },
      "source": [
        "**Install fastai and clone the fastai for text classification**\n",
        "\n"
      ]
    },
    {
      "cell_type": "code",
      "metadata": {
        "id": "QVZa3Z0PmHFH",
        "colab_type": "code",
        "outputId": "1b1604b8-74b3-482e-bec7-d8a87f229cb7",
        "colab": {
          "base_uri": "https://localhost:8080/",
          "height": 102
        }
      },
      "source": [
        "!curl https://course-v3.fast.ai/setup/colab | bash"
      ],
      "execution_count": 8,
      "outputs": [
        {
          "output_type": "stream",
          "text": [
            "  % Total    % Received % Xferd  Average Speed   Time    Time     Time  Current\n",
            "                                 Dload  Upload   Total   Spent    Left  Speed\n",
            "100   287  100   287    0     0    869      0 --:--:-- --:--:-- --:--:--   869\n",
            "bash: line 1: syntax error near unexpected token `newline'\n",
            "bash: line 1: `<!DOCTYPE HTML PUBLIC \"-//IETF//DTD HTML 2.0//EN\">'\n"
          ],
          "name": "stdout"
        }
      ]
    },
    {
      "cell_type": "code",
      "metadata": {
        "id": "_FBFFEBrmJC0",
        "colab_type": "code",
        "outputId": "73fba208-b30b-4b4f-edb2-622442da4960",
        "colab": {
          "base_uri": "https://localhost:8080/",
          "height": 85
        }
      },
      "source": [
        "!git clone https://github.com/wshuyi/demo-nlp-classification-fastai.git"
      ],
      "execution_count": 9,
      "outputs": [
        {
          "output_type": "stream",
          "text": [
            "Cloning into 'demo-nlp-classification-fastai'...\n",
            "remote: Enumerating objects: 9, done.\u001b[K\n",
            "remote: Total 9 (delta 0), reused 0 (delta 0), pack-reused 9\n",
            "Unpacking objects: 100% (9/9), done.\n"
          ],
          "name": "stdout"
        }
      ]
    },
    {
      "cell_type": "code",
      "metadata": {
        "id": "66zfh_JqmWMU",
        "colab_type": "code",
        "colab": {}
      },
      "source": [
        "from fastai import *\n",
        "from fastai.text import *"
      ],
      "execution_count": 0,
      "outputs": []
    },
    {
      "cell_type": "markdown",
      "metadata": {
        "id": "mNIw-yALdBU9",
        "colab_type": "text"
      },
      "source": [
        "**Set the path of the data collections**"
      ]
    },
    {
      "cell_type": "code",
      "metadata": {
        "id": "pzH7VMh4mqCL",
        "colab_type": "code",
        "colab": {}
      },
      "source": [
        "path = Path('medical-concept-normalization/data_collection')"
      ],
      "execution_count": 0,
      "outputs": []
    },
    {
      "cell_type": "code",
      "metadata": {
        "id": "b8fjI6yyn4aS",
        "colab_type": "code",
        "colab": {}
      },
      "source": [
        "# training data set\n",
        "\n",
        "train_csv = path/'AskAPatient.fold-0.train.csv'\n",
        "train = pd.read_csv(train_csv, header=None)\n",
        "#train.head()\n",
        "#train.info()"
      ],
      "execution_count": 0,
      "outputs": []
    },
    {
      "cell_type": "code",
      "metadata": {
        "id": "Hmlr-bAorfHd",
        "colab_type": "code",
        "outputId": "216332a2-4b6e-4411-aa3d-f94ad9d68f9c",
        "colab": {
          "base_uri": "https://localhost:8080/",
          "height": 204
        }
      },
      "source": [
        "# validating data set\n",
        "\n",
        "valid = pd.read_csv(path/\"AskAPatient.fold-0.validation.csv\",header=None)\n",
        "valid.head()"
      ],
      "execution_count": 15,
      "outputs": [
        {
          "output_type": "execute_result",
          "data": {
            "text/html": [
              "<div>\n",
              "<style scoped>\n",
              "    .dataframe tbody tr th:only-of-type {\n",
              "        vertical-align: middle;\n",
              "    }\n",
              "\n",
              "    .dataframe tbody tr th {\n",
              "        vertical-align: top;\n",
              "    }\n",
              "\n",
              "    .dataframe thead th {\n",
              "        text-align: right;\n",
              "    }\n",
              "</style>\n",
              "<table border=\"1\" class=\"dataframe\">\n",
              "  <thead>\n",
              "    <tr style=\"text-align: right;\">\n",
              "      <th></th>\n",
              "      <th>0</th>\n",
              "      <th>1</th>\n",
              "    </tr>\n",
              "  </thead>\n",
              "  <tbody>\n",
              "    <tr>\n",
              "      <th>0</th>\n",
              "      <td>0</td>\n",
              "      <td>fear</td>\n",
              "    </tr>\n",
              "    <tr>\n",
              "      <th>1</th>\n",
              "      <td>2</td>\n",
              "      <td>heel pain</td>\n",
              "    </tr>\n",
              "    <tr>\n",
              "      <th>2</th>\n",
              "      <td>4</td>\n",
              "      <td>purple sploches around waist</td>\n",
              "    </tr>\n",
              "    <tr>\n",
              "      <th>3</th>\n",
              "      <td>7</td>\n",
              "      <td>goiter</td>\n",
              "    </tr>\n",
              "    <tr>\n",
              "      <th>4</th>\n",
              "      <td>8</td>\n",
              "      <td>ARTHRITIS</td>\n",
              "    </tr>\n",
              "  </tbody>\n",
              "</table>\n",
              "</div>"
            ],
            "text/plain": [
              "   0                             1\n",
              "0  0                          fear\n",
              "1  2                     heel pain\n",
              "2  4  purple sploches around waist\n",
              "3  7                        goiter\n",
              "4  8                     ARTHRITIS"
            ]
          },
          "metadata": {
            "tags": []
          },
          "execution_count": 15
        }
      ]
    },
    {
      "cell_type": "code",
      "metadata": {
        "id": "cOza9dfSsBud",
        "colab_type": "code",
        "outputId": "3635a73f-4a20-4cfd-e05a-ab0a379f0146",
        "colab": {
          "base_uri": "https://localhost:8080/",
          "height": 204
        }
      },
      "source": [
        "# testing data set\n",
        "\n",
        "test = pd.read_csv(path/\"AskAPatient_overlap_70.csv\",header=None)\n",
        "test.head()"
      ],
      "execution_count": 16,
      "outputs": [
        {
          "output_type": "execute_result",
          "data": {
            "text/html": [
              "<div>\n",
              "<style scoped>\n",
              "    .dataframe tbody tr th:only-of-type {\n",
              "        vertical-align: middle;\n",
              "    }\n",
              "\n",
              "    .dataframe tbody tr th {\n",
              "        vertical-align: top;\n",
              "    }\n",
              "\n",
              "    .dataframe thead th {\n",
              "        text-align: right;\n",
              "    }\n",
              "</style>\n",
              "<table border=\"1\" class=\"dataframe\">\n",
              "  <thead>\n",
              "    <tr style=\"text-align: right;\">\n",
              "      <th></th>\n",
              "      <th>0</th>\n",
              "      <th>1</th>\n",
              "    </tr>\n",
              "  </thead>\n",
              "  <tbody>\n",
              "    <tr>\n",
              "      <th>0</th>\n",
              "      <td>0</td>\n",
              "      <td>'scared' feeling</td>\n",
              "    </tr>\n",
              "    <tr>\n",
              "      <th>1</th>\n",
              "      <td>2</td>\n",
              "      <td>heel pain</td>\n",
              "    </tr>\n",
              "    <tr>\n",
              "      <th>2</th>\n",
              "      <td>2</td>\n",
              "      <td>heel pain</td>\n",
              "    </tr>\n",
              "    <tr>\n",
              "      <th>3</th>\n",
              "      <td>2</td>\n",
              "      <td>right heel became painful</td>\n",
              "    </tr>\n",
              "    <tr>\n",
              "      <th>4</th>\n",
              "      <td>2</td>\n",
              "      <td>right heel pain</td>\n",
              "    </tr>\n",
              "  </tbody>\n",
              "</table>\n",
              "</div>"
            ],
            "text/plain": [
              "   0                          1\n",
              "0  0           'scared' feeling\n",
              "1  2                  heel pain\n",
              "2  2                  heel pain\n",
              "3  2  right heel became painful\n",
              "4  2            right heel pain"
            ]
          },
          "metadata": {
            "tags": []
          },
          "execution_count": 16
        }
      ]
    },
    {
      "cell_type": "code",
      "metadata": {
        "id": "Vo-YNvVYoaH6",
        "colab_type": "code",
        "colab": {}
      },
      "source": [
        "# Creating DataBunch for language modelling\n",
        "\n",
        "data_lm = TextLMDataBunch.from_csv(path, 'fine_tuning_language_model_cadec_data.csv')"
      ],
      "execution_count": 0,
      "outputs": []
    },
    {
      "cell_type": "code",
      "metadata": {
        "id": "1ScY9afDsnvE",
        "colab_type": "code",
        "colab": {}
      },
      "source": [
        "# Creating DataBunch for classification\n",
        "\n",
        "# data_clas = TextClasDataBunch.from_df(path, train, valid, test, vocab=data_lm.train_ds.vocab, bs=128)"
      ],
      "execution_count": 0,
      "outputs": []
    },
    {
      "cell_type": "code",
      "metadata": {
        "id": "gzrSdQcvey9p",
        "colab_type": "code",
        "colab": {}
      },
      "source": [
        "data_clas = TextClasDataBunch.from_df(path, train, valid, vocab=data_lm.train_ds.vocab, bs=128)"
      ],
      "execution_count": 0,
      "outputs": []
    },
    {
      "cell_type": "code",
      "metadata": {
        "id": "MD27Tf0Ke3ou",
        "colab_type": "code",
        "colab": {}
      },
      "source": [
        "data_clas.add_test(test,label=0)\n"
      ],
      "execution_count": 0,
      "outputs": []
    },
    {
      "cell_type": "code",
      "metadata": {
        "id": "-dpjnk_rstwk",
        "colab_type": "code",
        "outputId": "24337ade-407d-4e2a-e367-0a55d6ed6240",
        "colab": {
          "base_uri": "https://localhost:8080/",
          "height": 71
        }
      },
      "source": [
        "data_lm.save()\n",
        "data_clas.save()"
      ],
      "execution_count": 21,
      "outputs": [
        {
          "output_type": "stream",
          "text": [
            "/usr/local/lib/python3.6/dist-packages/torch/serialization.py:292: UserWarning: Couldn't retrieve source code for container of type CrossEntropyLoss. It won't be checked for correctness upon loading.\n",
            "  \"type \" + obj.__name__ + \". It won't be checked \"\n"
          ],
          "name": "stderr"
        }
      ]
    },
    {
      "cell_type": "code",
      "metadata": {
        "id": "4OkiJa36sw5s",
        "colab_type": "code",
        "colab": {
          "base_uri": "https://localhost:8080/",
          "height": 1000
        },
        "outputId": "f395441a-210e-49f5-d3f2-2c1b8ffcf50f"
      },
      "source": [
        "data_lm.train_ds.vocab.itos"
      ],
      "execution_count": 22,
      "outputs": [
        {
          "output_type": "execute_result",
          "data": {
            "text/plain": [
              "['xxunk',\n",
              " 'xxpad',\n",
              " 'xxbos',\n",
              " 'xxeos',\n",
              " 'xxfld',\n",
              " 'xxmaj',\n",
              " 'xxup',\n",
              " 'xxrep',\n",
              " 'xxwrep',\n",
              " '.',\n",
              " ',',\n",
              " 'i',\n",
              " 'and',\n",
              " 'the',\n",
              " 'to',\n",
              " 'my',\n",
              " 'a',\n",
              " 'it',\n",
              " 'of',\n",
              " 'in',\n",
              " 'pain',\n",
              " 'for',\n",
              " 'have',\n",
              " 'was',\n",
              " 'lipitor',\n",
              " 'this',\n",
              " 'on',\n",
              " 'that',\n",
              " 'not',\n",
              " 'but',\n",
              " 'with',\n",
              " 'is',\n",
              " 'had',\n",
              " 'taking',\n",
              " 'after',\n",
              " '-',\n",
              " 'me',\n",
              " 'drug',\n",
              " 'muscle',\n",
              " 'side',\n",
              " 'effects',\n",
              " \"n't\",\n",
              " 'all',\n",
              " 'been',\n",
              " 'am',\n",
              " ')',\n",
              " '(',\n",
              " 'cholesterol',\n",
              " 'so',\n",
              " 'as',\n",
              " 'back',\n",
              " 'mg',\n",
              " 'be',\n",
              " 'no',\n",
              " 'about',\n",
              " 'take',\n",
              " 'from',\n",
              " 'at',\n",
              " 'years',\n",
              " '/',\n",
              " 'now',\n",
              " 'off',\n",
              " 'has',\n",
              " 'did',\n",
              " 'will',\n",
              " '!',\n",
              " 'day',\n",
              " 'very',\n",
              " 'months',\n",
              " 'like',\n",
              " 'doctor',\n",
              " 'do',\n",
              " 'or',\n",
              " 'started',\n",
              " 'when',\n",
              " 'stopped',\n",
              " 'are',\n",
              " 'if',\n",
              " 'days',\n",
              " 'up',\n",
              " 'severe',\n",
              " 'could',\n",
              " 'symptoms',\n",
              " 'time',\n",
              " '3',\n",
              " 'took',\n",
              " 'also',\n",
              " 'problems',\n",
              " 'would',\n",
              " '2',\n",
              " 'then',\n",
              " 'can',\n",
              " 'just',\n",
              " 'weeks',\n",
              " 'loss',\n",
              " 'some',\n",
              " 'over',\n",
              " 'went',\n",
              " 'more',\n",
              " 'one',\n",
              " 'an',\n",
              " 'you',\n",
              " 'by',\n",
              " 'legs',\n",
              " 'cramps',\n",
              " 'only',\n",
              " 'leg',\n",
              " 'he',\n",
              " 'stomach',\n",
              " 'out',\n",
              " \"'s\",\n",
              " 'still',\n",
              " 'get',\n",
              " 'any',\n",
              " '10',\n",
              " 'other',\n",
              " 'feel',\n",
              " 'bad',\n",
              " 'lower',\n",
              " 'week',\n",
              " 'which',\n",
              " 'ago',\n",
              " 'never',\n",
              " 'medication',\n",
              " 'before',\n",
              " 'they',\n",
              " \"'m\",\n",
              " 'again',\n",
              " 'were',\n",
              " 'felt',\n",
              " 'better',\n",
              " 'two',\n",
              " 'what',\n",
              " 'feeling',\n",
              " 'down',\n",
              " 'memory',\n",
              " 'first',\n",
              " \"'ve\",\n",
              " 'blood',\n",
              " 'pains',\n",
              " 'because',\n",
              " 'walk',\n",
              " '5',\n",
              " 'feet',\n",
              " 'go',\n",
              " 'joint',\n",
              " 'left',\n",
              " 'much',\n",
              " 'extreme',\n",
              " 'fatigue',\n",
              " ';',\n",
              " 'since',\n",
              " 'than',\n",
              " '1',\n",
              " 'these',\n",
              " '4',\n",
              " 'having',\n",
              " 'sleep',\n",
              " 'night',\n",
              " 'dr',\n",
              " 'high',\n",
              " 'weakness',\n",
              " 'statin',\n",
              " '&',\n",
              " 'well',\n",
              " 'month',\n",
              " 'told',\n",
              " 'experienced',\n",
              " 'thought',\n",
              " 'right',\n",
              " 'there',\n",
              " 'statins',\n",
              " 'heart',\n",
              " 'taken',\n",
              " 'even',\n",
              " 'life',\n",
              " 'know',\n",
              " '?',\n",
              " 'few',\n",
              " '20',\n",
              " 'who',\n",
              " 'within',\n",
              " 'same',\n",
              " 'year',\n",
              " 'muscles',\n",
              " 'stop',\n",
              " 'should',\n",
              " 'almost',\n",
              " 'see',\n",
              " 'depression',\n",
              " 'going',\n",
              " 'neck',\n",
              " 'work',\n",
              " 'dose',\n",
              " 'away',\n",
              " 'good',\n",
              " 'aches',\n",
              " 'worse',\n",
              " 'body',\n",
              " 'got',\n",
              " 'normal',\n",
              " '6',\n",
              " 'drugs',\n",
              " 'hands',\n",
              " 'shoulder',\n",
              " 'think',\n",
              " 'said',\n",
              " 'people',\n",
              " 'last',\n",
              " 'put',\n",
              " 'your',\n",
              " '40',\n",
              " 'due',\n",
              " 'knee',\n",
              " 'many',\n",
              " 'until',\n",
              " 'every',\n",
              " 'both',\n",
              " 'another',\n",
              " 'does',\n",
              " 'being',\n",
              " 'liver',\n",
              " 'arm',\n",
              " 'ldl',\n",
              " ':',\n",
              " 'getting',\n",
              " 'arms',\n",
              " 'cause',\n",
              " 'without',\n",
              " 'gas',\n",
              " 'levels',\n",
              " 'really',\n",
              " 'noticed',\n",
              " 'try',\n",
              " 'she',\n",
              " 'while',\n",
              " 'problem',\n",
              " 'cramping',\n",
              " 'times',\n",
              " 'however',\n",
              " 'began',\n",
              " 'found',\n",
              " 'stopping',\n",
              " 'bleeding',\n",
              " 'ca',\n",
              " 'headaches',\n",
              " 'damage',\n",
              " 'prescribed',\n",
              " 'diet',\n",
              " 'hip',\n",
              " 'long',\n",
              " 'gone',\n",
              " 'reading',\n",
              " 'help',\n",
              " 'shoulders',\n",
              " 'how',\n",
              " 'developed',\n",
              " 'tired',\n",
              " 'most',\n",
              " 'foot',\n",
              " 'test',\n",
              " 'increased',\n",
              " 'them',\n",
              " 'lowered',\n",
              " 'short',\n",
              " 'effect',\n",
              " 'doctors',\n",
              " 'caused',\n",
              " 'great',\n",
              " 'old',\n",
              " 'exercise',\n",
              " 'ever',\n",
              " 'three',\n",
              " 'chest',\n",
              " 'too',\n",
              " 'use',\n",
              " 'site',\n",
              " 'immediately',\n",
              " 'may',\n",
              " 'bed',\n",
              " 'hurt',\n",
              " 'made',\n",
              " 'lot',\n",
              " 'several',\n",
              " 'sore',\n",
              " 'hours',\n",
              " 'need',\n",
              " 'morning',\n",
              " 'came',\n",
              " 'arthritis',\n",
              " 'experiencing',\n",
              " 'tests',\n",
              " 'medicine',\n",
              " 'tingling',\n",
              " 'level',\n",
              " 'term',\n",
              " 'way',\n",
              " 'make',\n",
              " 'later',\n",
              " 'sure',\n",
              " '8',\n",
              " 'find',\n",
              " 'nausea',\n",
              " 'we',\n",
              " 'joints',\n",
              " 'myself',\n",
              " 'terrible',\n",
              " 'recommend',\n",
              " 'once',\n",
              " 'next',\n",
              " 'walking',\n",
              " 'hair',\n",
              " 'abdominal',\n",
              " 'especially',\n",
              " '%',\n",
              " 'read',\n",
              " 'around',\n",
              " 'tried',\n",
              " 'recently',\n",
              " 'results',\n",
              " 'arthrotec',\n",
              " 'works',\n",
              " 'vision',\n",
              " 'pill',\n",
              " 'something',\n",
              " '7',\n",
              " 'insomnia',\n",
              " 'anything',\n",
              " 'little',\n",
              " 'relief',\n",
              " 'painful',\n",
              " 'knees',\n",
              " 'say',\n",
              " 'weight',\n",
              " 'horrible',\n",
              " 'skin',\n",
              " 'finally',\n",
              " 'pressure',\n",
              " 'attack',\n",
              " 'total',\n",
              " 'anyone',\n",
              " 'elevated',\n",
              " 'website',\n",
              " 'hope',\n",
              " 'lowering',\n",
              " 'during',\n",
              " 'things',\n",
              " 'into',\n",
              " 'zocor',\n",
              " 'low',\n",
              " 'its',\n",
              " 'starting',\n",
              " 'though',\n",
              " 'causing',\n",
              " 'always',\n",
              " 'diarrhea',\n",
              " 'others',\n",
              " 'constant',\n",
              " 'similar',\n",
              " 'seems',\n",
              " 'done',\n",
              " 'daily',\n",
              " 'nothing',\n",
              " '80',\n",
              " 'meds',\n",
              " 'worth',\n",
              " 'stiffness',\n",
              " 'possible',\n",
              " 'none',\n",
              " 'toes',\n",
              " 'experience',\n",
              " 'him',\n",
              " 'quit',\n",
              " \"'\",\n",
              " 'became',\n",
              " 'hdl',\n",
              " 'related',\n",
              " 'reduced',\n",
              " 'dizziness',\n",
              " 'surgery',\n",
              " 'doc',\n",
              " 'unable',\n",
              " 'calf',\n",
              " 'improvement',\n",
              " 'believe',\n",
              " 'their',\n",
              " 'general',\n",
              " 'his',\n",
              " 'new',\n",
              " 'those',\n",
              " 'half',\n",
              " 'head',\n",
              " 'flu',\n",
              " 'each',\n",
              " 'headache',\n",
              " 'extremely',\n",
              " 'numbness',\n",
              " 'per',\n",
              " 'minutes',\n",
              " 'such',\n",
              " 'nt',\n",
              " 'energy',\n",
              " 'dosage',\n",
              " 'second',\n",
              " 'using',\n",
              " 'want',\n",
              " 'why',\n",
              " 'burning',\n",
              " 'worked',\n",
              " 'diagnosed',\n",
              " 'hips',\n",
              " 'weak',\n",
              " 'tiredness',\n",
              " 'ankles',\n",
              " 'far',\n",
              " 'helped',\n",
              " 'family',\n",
              " 'where',\n",
              " 'balance',\n",
              " 'doing',\n",
              " 'decided',\n",
              " 'permanent',\n",
              " 'period',\n",
              " 'able',\n",
              " 'patients',\n",
              " 'enough',\n",
              " 'etc',\n",
              " 'physical',\n",
              " 'stuff',\n",
              " 'past',\n",
              " 'twice',\n",
              " 'vaginal',\n",
              " 'job',\n",
              " '--',\n",
              " 'else',\n",
              " 'pills',\n",
              " 'here',\n",
              " '\"',\n",
              " 'completely',\n",
              " 'lack',\n",
              " 'trying',\n",
              " 'spasms',\n",
              " 'health',\n",
              " 'less',\n",
              " 'rather',\n",
              " '30',\n",
              " 'anxiety',\n",
              " 'keep',\n",
              " 'yet',\n",
              " 'today',\n",
              " 'natural',\n",
              " 'ache',\n",
              " 'healthy',\n",
              " 'upper',\n",
              " 'difficulty',\n",
              " 'probably',\n",
              " 'hand',\n",
              " 'couple',\n",
              " 'suffered',\n",
              " 'longer',\n",
              " 'fine',\n",
              " 'come',\n",
              " 'tell',\n",
              " 'triglycerides',\n",
              " 'thing',\n",
              " \"'ll\",\n",
              " 'mild',\n",
              " 'research',\n",
              " 'lost',\n",
              " 'instead',\n",
              " 'continue',\n",
              " 'brain',\n",
              " 'start',\n",
              " 'swelling',\n",
              " 'type',\n",
              " 'reaction',\n",
              " 'fingers',\n",
              " 'thinking',\n",
              " 'dangerous',\n",
              " 'dry',\n",
              " 'function',\n",
              " 'might',\n",
              " 'big',\n",
              " 'med',\n",
              " 'age',\n",
              " 'dropped',\n",
              " 'her',\n",
              " 'worst',\n",
              " 'live',\n",
              " 'point',\n",
              " 'used',\n",
              " 'hard',\n",
              " 'control',\n",
              " 'food',\n",
              " 'please',\n",
              " 'intense',\n",
              " 'thank',\n",
              " 'switched',\n",
              " 'soreness',\n",
              " 'voltaren',\n",
              " 'gradually',\n",
              " 'thigh',\n",
              " 'constipation',\n",
              " 'change',\n",
              " 'bloating',\n",
              " 'risk',\n",
              " 'ankle',\n",
              " 'four',\n",
              " 'major',\n",
              " 'everything',\n",
              " '50',\n",
              " 'maybe',\n",
              " 'husband',\n",
              " 'web',\n",
              " 'physician',\n",
              " 'disease',\n",
              " 'called',\n",
              " 'increase',\n",
              " 'changed',\n",
              " 'through',\n",
              " 'seemed',\n",
              " '15',\n",
              " 'effective',\n",
              " 'along',\n",
              " 'different',\n",
              " 'us',\n",
              " 'strength',\n",
              " 'medical',\n",
              " 'aware',\n",
              " '100',\n",
              " 'ok',\n",
              " 'kidney',\n",
              " 'face',\n",
              " 'market',\n",
              " 'discomfort',\n",
              " 'although',\n",
              " 'trouble',\n",
              " 'returned',\n",
              " 'hospital',\n",
              " '9',\n",
              " 'red',\n",
              " 'cold',\n",
              " 'active',\n",
              " 'calves',\n",
              " 'yrs',\n",
              " 'improved',\n",
              " 'sick',\n",
              " 'neuropathy',\n",
              " 'above',\n",
              " 'chronic',\n",
              " 'seem',\n",
              " 'affects',\n",
              " 'slowly',\n",
              " 'look',\n",
              " 'sudden',\n",
              " 'hardly',\n",
              " 'saw',\n",
              " 'md',\n",
              " 'decreased',\n",
              " 'therapy',\n",
              " 'kept',\n",
              " 'sleeping',\n",
              " 'slightly',\n",
              " 'working',\n",
              " 'wonder',\n",
              " 'heavy',\n",
              " 'nearly',\n",
              " 'continued',\n",
              " 'quality',\n",
              " 'reduce',\n",
              " 'numbers',\n",
              " 'urine',\n",
              " 'throat',\n",
              " 'sometimes',\n",
              " 'stairs',\n",
              " 'connection',\n",
              " 'self',\n",
              " 'vertigo',\n",
              " 'stand',\n",
              " 'eye',\n",
              " 'overall',\n",
              " 'eat',\n",
              " 'alternative',\n",
              " 'hour',\n",
              " 'looking',\n",
              " 'cardiologist',\n",
              " '60',\n",
              " 'concerned',\n",
              " '12',\n",
              " 'wrong',\n",
              " 'significant',\n",
              " 'ended',\n",
              " 'improve',\n",
              " 'already',\n",
              " 'swollen',\n",
              " 'amount',\n",
              " 'fog',\n",
              " 'crestor',\n",
              " 'drive',\n",
              " 'upset',\n",
              " 'pravachol',\n",
              " 'hot',\n",
              " 'including',\n",
              " 'medications',\n",
              " 'depressed',\n",
              " 'wanted',\n",
              " 'under',\n",
              " 'ability',\n",
              " 'stress',\n",
              " 'breath',\n",
              " 'reason',\n",
              " 'goes',\n",
              " 'nerve',\n",
              " 'quite',\n",
              " 'toe',\n",
              " 'system',\n",
              " 'area',\n",
              " 'eating',\n",
              " 'eyes',\n",
              " 'feels',\n",
              " 'suggested',\n",
              " 'comments',\n",
              " 'wo',\n",
              " 'elbow',\n",
              " 'rash',\n",
              " 'cut',\n",
              " 'gain',\n",
              " 'stay',\n",
              " 'asked',\n",
              " 'below',\n",
              " 'showed',\n",
              " 'deal',\n",
              " '75',\n",
              " 'mouth',\n",
              " 'move',\n",
              " 'aching',\n",
              " 'across',\n",
              " 'six',\n",
              " 'coq10',\n",
              " 'heel',\n",
              " 'gp',\n",
              " 'stiff',\n",
              " 'count',\n",
              " 'suddenly',\n",
              " 'serious',\n",
              " 'gave',\n",
              " 'cpk',\n",
              " 'scary',\n",
              " 'mood',\n",
              " 'making',\n",
              " 'pfizer',\n",
              " '25',\n",
              " 's',\n",
              " 'own',\n",
              " 'acid',\n",
              " 'reflux',\n",
              " 'says',\n",
              " 'company',\n",
              " 'best',\n",
              " 'check',\n",
              " 'awful',\n",
              " 'mental',\n",
              " 'mri',\n",
              " 'sensation',\n",
              " 'c',\n",
              " 'care',\n",
              " 'upon',\n",
              " 'sitting',\n",
              " 'suffer',\n",
              " 'insurance',\n",
              " '200',\n",
              " 'mentioned',\n",
              " 'barely',\n",
              " 'zetia',\n",
              " 'helps',\n",
              " 'god',\n",
              " 'vitamin',\n",
              " 'suffering',\n",
              " 'information',\n",
              " 'syndrome',\n",
              " 'lots',\n",
              " 'soon',\n",
              " 'anti',\n",
              " 'diabetes',\n",
              " 'sent',\n",
              " 'blurred',\n",
              " 'water',\n",
              " 'sex',\n",
              " 'consider',\n",
              " 'thighs',\n",
              " 'brought',\n",
              " 'excruciating',\n",
              " 'glad',\n",
              " 'ratio',\n",
              " 'x',\n",
              " 'w',\n",
              " 'die',\n",
              " '24',\n",
              " 'wake',\n",
              " 'increasing',\n",
              " 'run',\n",
              " 'listed',\n",
              " 'doses',\n",
              " 'room',\n",
              " 'excellent',\n",
              " 'm',\n",
              " 'person',\n",
              " 'small',\n",
              " 'number',\n",
              " 'least',\n",
              " 'post',\n",
              " 'slight',\n",
              " 'recommended',\n",
              " 'difference',\n",
              " '11',\n",
              " 'concentration',\n",
              " 'shortness',\n",
              " 'cycle',\n",
              " 'case',\n",
              " 'wife',\n",
              " 'totally',\n",
              " 'running',\n",
              " 'wish',\n",
              " 'pretty',\n",
              " 'poison',\n",
              " 'mine',\n",
              " 'internet',\n",
              " 'older',\n",
              " 'beginning',\n",
              " 'given',\n",
              " 'otherwise',\n",
              " 'everyone',\n",
              " 'onset',\n",
              " 'elbows',\n",
              " 'history',\n",
              " 'frequent',\n",
              " '90',\n",
              " 'spent',\n",
              " 'companies',\n",
              " 'itching',\n",
              " 'prescription',\n",
              " 'following',\n",
              " 'issues',\n",
              " 'exhaustion',\n",
              " 'symptons',\n",
              " '45',\n",
              " 'prior',\n",
              " 'often',\n",
              " 'unless',\n",
              " 'likely',\n",
              " 'actually',\n",
              " 'seeing',\n",
              " 'reduction',\n",
              " 'negative',\n",
              " 'lift',\n",
              " 'empty',\n",
              " 'happy',\n",
              " 'stroke',\n",
              " 'between',\n",
              " 'ask',\n",
              " 'early',\n",
              " 'usually',\n",
              " 'hoping',\n",
              " 'bit',\n",
              " 'ruined',\n",
              " 'liptor',\n",
              " 'sinus',\n",
              " 'rest',\n",
              " 'against',\n",
              " 'deep',\n",
              " 'subsided',\n",
              " 'tricor',\n",
              " 'sugar',\n",
              " 'together',\n",
              " 'greatly',\n",
              " 'guess',\n",
              " 'causes',\n",
              " 'approx',\n",
              " 'attributed',\n",
              " 'infection',\n",
              " 'fatigued',\n",
              " 'niacin',\n",
              " 'death',\n",
              " 'miles',\n",
              " 'makes',\n",
              " 'inability',\n",
              " 'reactions',\n",
              " \"'d\",\n",
              " 'adverse',\n",
              " 'full',\n",
              " 'cholestrol',\n",
              " 'numb',\n",
              " 'twitching',\n",
              " 'falling',\n",
              " 'waiting',\n",
              " 'become',\n",
              " 'muscular',\n",
              " 'difficult',\n",
              " 'notice',\n",
              " 'patient',\n",
              " 'looked',\n",
              " 'result',\n",
              " 'periods',\n",
              " 'tightness',\n",
              " 'initially',\n",
              " 'mother',\n",
              " 'waking',\n",
              " 'realized',\n",
              " '300',\n",
              " 'unbearable',\n",
              " 'cancer',\n",
              " 'yr',\n",
              " 'somewhat',\n",
              " 'entire',\n",
              " 'menstrual',\n",
              " 'primary',\n",
              " 'restless',\n",
              " 'idea',\n",
              " 'taste',\n",
              " 'vomiting',\n",
              " 'tested',\n",
              " 'complaints',\n",
              " 'sense',\n",
              " 'neurologist',\n",
              " 'appetite',\n",
              " 'known',\n",
              " 'occasional',\n",
              " 'must',\n",
              " 'added',\n",
              " 'class',\n",
              " 'dizzy',\n",
              " '70',\n",
              " 'points',\n",
              " 'free',\n",
              " 'answer',\n",
              " '[',\n",
              " 'gotten',\n",
              " 'telling',\n",
              " 'tablet',\n",
              " 'informed',\n",
              " 'oil',\n",
              " 'real',\n",
              " 'lasted',\n",
              " 'anymore',\n",
              " 'women',\n",
              " 'end',\n",
              " 'supplements',\n",
              " 'cholesteral',\n",
              " 'confusion',\n",
              " 'higher',\n",
              " 'attacks',\n",
              " 'touch',\n",
              " 'heard',\n",
              " 'als',\n",
              " 'chair',\n",
              " 'thanks',\n",
              " 'someone',\n",
              " 'plus',\n",
              " 'breathing',\n",
              " 'mostly',\n",
              " 'parkinson',\n",
              " 'treatment',\n",
              " 'weird',\n",
              " 'cough',\n",
              " 'hit',\n",
              " 'sight',\n",
              " 'lupus',\n",
              " 'sweating',\n",
              " 'woke',\n",
              " 'comes',\n",
              " 'happens',\n",
              " 'acute',\n",
              " 'ten',\n",
              " 'visit',\n",
              " 'specialist',\n",
              " 'enzymes',\n",
              " 'indigestion',\n",
              " 'part',\n",
              " 'possibly',\n",
              " 'third',\n",
              " 'begin',\n",
              " 'alot',\n",
              " 'fibromyalgia',\n",
              " 'bp',\n",
              " '48',\n",
              " 'recover',\n",
              " 'happened',\n",
              " 'malaise',\n",
              " 'sensations',\n",
              " 'perfect',\n",
              " 'dramatically',\n",
              " 'excercise',\n",
              " 'fish',\n",
              " 'safe',\n",
              " 'emergency',\n",
              " 'tight',\n",
              " 'call',\n",
              " 'speech',\n",
              " 'constantly',\n",
              " 'give',\n",
              " '+',\n",
              " 'bladder',\n",
              " 'light',\n",
              " 'quickly',\n",
              " 'fever',\n",
              " 'disappeared',\n",
              " 'rarely',\n",
              " 'coming',\n",
              " 'followed',\n",
              " 'condition',\n",
              " 'ran',\n",
              " 'discontinued',\n",
              " 'range',\n",
              " 'subside',\n",
              " 'swings',\n",
              " 'strange',\n",
              " 'rays',\n",
              " 'rate',\n",
              " 'let',\n",
              " 'abdomen',\n",
              " 'poor',\n",
              " 'knew',\n",
              " 'return',\n",
              " 'doubt',\n",
              " 'q10',\n",
              " 'pounds',\n",
              " 'course',\n",
              " 'crazy',\n",
              " 'needed',\n",
              " 'except',\n",
              " 'definitely',\n",
              " 'dark',\n",
              " 'our',\n",
              " 'study',\n",
              " 'realize',\n",
              " 'co',\n",
              " 'er',\n",
              " 'mention',\n",
              " 'menopausal',\n",
              " 'changes',\n",
              " 'irritable',\n",
              " 'sit',\n",
              " 'benefits',\n",
              " 'cleared',\n",
              " 'diabetic',\n",
              " 'foggy',\n",
              " 'improving',\n",
              " 'immediate',\n",
              " 'replacement',\n",
              " 'hunger',\n",
              " 'tolerate',\n",
              " 'particularly',\n",
              " 'passed',\n",
              " 'nurse',\n",
              " 'approximately',\n",
              " 'tendonitis',\n",
              " 'died',\n",
              " 'celebrex',\n",
              " 'happen',\n",
              " 'menopause',\n",
              " 'close',\n",
              " 'chances',\n",
              " 'infections',\n",
              " 'debilitating',\n",
              " 'hurting',\n",
              " 'gout',\n",
              " 'afraid',\n",
              " 'hurts',\n",
              " 'dreams',\n",
              " 'checked',\n",
              " 'significantly',\n",
              " 'seen',\n",
              " 'advice',\n",
              " '160',\n",
              " 'swallowing',\n",
              " 'gets',\n",
              " 'confirmed',\n",
              " 'previously',\n",
              " 'steps',\n",
              " 'fell',\n",
              " 'five',\n",
              " 'fear',\n",
              " 'gym',\n",
              " '220',\n",
              " 'fact',\n",
              " 'show',\n",
              " 'mean',\n",
              " 'switch',\n",
              " 'friend',\n",
              " 'inflammation',\n",
              " 'present',\n",
              " '06',\n",
              " 'whole',\n",
              " 'failure',\n",
              " 'relieve',\n",
              " 'advil',\n",
              " 'blurry',\n",
              " 'discontinue',\n",
              " 'spine',\n",
              " 'huge',\n",
              " ...]"
            ]
          },
          "metadata": {
            "tags": []
          },
          "execution_count": 22
        }
      ]
    },
    {
      "cell_type": "code",
      "metadata": {
        "id": "yPWr03mls3VT",
        "colab_type": "code",
        "colab": {}
      },
      "source": [
        "model_path = path/'models'\n",
        "model_path.mkdir(exist_ok=True)\n",
        "url = 'http://files.fast.ai/models/wt103_v1/'\n",
        "download_url(f'{url}lstm_wt103.pth', model_path/'lstm_wt103.pth')\n",
        "download_url(f'{url}itos_wt103.pkl', model_path/'itos_wt103.pkl')"
      ],
      "execution_count": 0,
      "outputs": []
    },
    {
      "cell_type": "code",
      "metadata": {
        "id": "JRzvWg8RtGGr",
        "colab_type": "code",
        "colab": {}
      },
      "source": [
        "learn = language_model_learner(data_lm, AWD_LSTM, drop_mult=0.5)"
      ],
      "execution_count": 0,
      "outputs": []
    },
    {
      "cell_type": "code",
      "metadata": {
        "id": "xKK7GeBev7Xn",
        "colab_type": "code",
        "colab": {
          "base_uri": "https://localhost:8080/",
          "height": 80
        },
        "outputId": "61dd3690-0fb7-4b8e-b919-eca87eb3b7f0"
      },
      "source": [
        "learn.fit_one_cycle(1, 1e-2)"
      ],
      "execution_count": 25,
      "outputs": [
        {
          "output_type": "display_data",
          "data": {
            "text/html": [
              "<table border=\"1\" class=\"dataframe\">\n",
              "  <thead>\n",
              "    <tr style=\"text-align: left;\">\n",
              "      <th>epoch</th>\n",
              "      <th>train_loss</th>\n",
              "      <th>valid_loss</th>\n",
              "      <th>accuracy</th>\n",
              "      <th>time</th>\n",
              "    </tr>\n",
              "  </thead>\n",
              "  <tbody>\n",
              "    <tr>\n",
              "      <td>0</td>\n",
              "      <td>4.835125</td>\n",
              "      <td>4.187833</td>\n",
              "      <td>0.223533</td>\n",
              "      <td>03:35</td>\n",
              "    </tr>\n",
              "  </tbody>\n",
              "</table>"
            ],
            "text/plain": [
              "<IPython.core.display.HTML object>"
            ]
          },
          "metadata": {
            "tags": []
          }
        }
      ]
    },
    {
      "cell_type": "code",
      "metadata": {
        "id": "iB7rHGQCwd12",
        "colab_type": "code",
        "colab": {
          "base_uri": "https://localhost:8080/",
          "height": 80
        },
        "outputId": "0b0f1927-44e6-4732-d200-c1f4a3b0d2aa"
      },
      "source": [
        "learn.fit_one_cycle(1, 1e-2)"
      ],
      "execution_count": 26,
      "outputs": [
        {
          "output_type": "display_data",
          "data": {
            "text/html": [
              "<table border=\"1\" class=\"dataframe\">\n",
              "  <thead>\n",
              "    <tr style=\"text-align: left;\">\n",
              "      <th>epoch</th>\n",
              "      <th>train_loss</th>\n",
              "      <th>valid_loss</th>\n",
              "      <th>accuracy</th>\n",
              "      <th>time</th>\n",
              "    </tr>\n",
              "  </thead>\n",
              "  <tbody>\n",
              "    <tr>\n",
              "      <td>0</td>\n",
              "      <td>3.963565</td>\n",
              "      <td>3.691865</td>\n",
              "      <td>0.301626</td>\n",
              "      <td>03:35</td>\n",
              "    </tr>\n",
              "  </tbody>\n",
              "</table>"
            ],
            "text/plain": [
              "<IPython.core.display.HTML object>"
            ]
          },
          "metadata": {
            "tags": []
          }
        }
      ]
    },
    {
      "cell_type": "code",
      "metadata": {
        "id": "_BnSuAeCwkBe",
        "colab_type": "code",
        "colab": {
          "base_uri": "https://localhost:8080/",
          "height": 80
        },
        "outputId": "9990cb0c-6577-4287-c17e-5e5bddbb305f"
      },
      "source": [
        "learn.fit_one_cycle(1, 1e-3)"
      ],
      "execution_count": 27,
      "outputs": [
        {
          "output_type": "display_data",
          "data": {
            "text/html": [
              "<table border=\"1\" class=\"dataframe\">\n",
              "  <thead>\n",
              "    <tr style=\"text-align: left;\">\n",
              "      <th>epoch</th>\n",
              "      <th>train_loss</th>\n",
              "      <th>valid_loss</th>\n",
              "      <th>accuracy</th>\n",
              "      <th>time</th>\n",
              "    </tr>\n",
              "  </thead>\n",
              "  <tbody>\n",
              "    <tr>\n",
              "      <td>0</td>\n",
              "      <td>3.706741</td>\n",
              "      <td>3.662642</td>\n",
              "      <td>0.304337</td>\n",
              "      <td>03:34</td>\n",
              "    </tr>\n",
              "  </tbody>\n",
              "</table>"
            ],
            "text/plain": [
              "<IPython.core.display.HTML object>"
            ]
          },
          "metadata": {
            "tags": []
          }
        }
      ]
    },
    {
      "cell_type": "code",
      "metadata": {
        "id": "MuTm-RFjwrEX",
        "colab_type": "code",
        "colab": {
          "base_uri": "https://localhost:8080/",
          "height": 80
        },
        "outputId": "81a460f5-2ff8-4740-bfd7-ecd8d072f1d2"
      },
      "source": [
        "learn.fit_one_cycle(1, 1e-3)"
      ],
      "execution_count": 28,
      "outputs": [
        {
          "output_type": "display_data",
          "data": {
            "text/html": [
              "<table border=\"1\" class=\"dataframe\">\n",
              "  <thead>\n",
              "    <tr style=\"text-align: left;\">\n",
              "      <th>epoch</th>\n",
              "      <th>train_loss</th>\n",
              "      <th>valid_loss</th>\n",
              "      <th>accuracy</th>\n",
              "      <th>time</th>\n",
              "    </tr>\n",
              "  </thead>\n",
              "  <tbody>\n",
              "    <tr>\n",
              "      <td>0</td>\n",
              "      <td>3.659935</td>\n",
              "      <td>3.641465</td>\n",
              "      <td>0.306888</td>\n",
              "      <td>03:34</td>\n",
              "    </tr>\n",
              "  </tbody>\n",
              "</table>"
            ],
            "text/plain": [
              "<IPython.core.display.HTML object>"
            ]
          },
          "metadata": {
            "tags": []
          }
        }
      ]
    },
    {
      "cell_type": "code",
      "metadata": {
        "id": "1Er2ExO8wr7Y",
        "colab_type": "code",
        "colab": {}
      },
      "source": [
        "learn.save_encoder('AskAPatient_overlap_70_first')"
      ],
      "execution_count": 0,
      "outputs": []
    },
    {
      "cell_type": "code",
      "metadata": {
        "id": "z52cZs2qwvad",
        "colab_type": "code",
        "colab": {
          "base_uri": "https://localhost:8080/",
          "height": 80
        },
        "outputId": "f7e9cc2c-d071-42f4-f4d6-38dbe2fb0d0e"
      },
      "source": [
        "learn = text_classifier_learner(data_clas,AWD_LSTM, drop_mult=0.5)\n",
        "learn.load_encoder('AskAPatient_overlap_70_first')\n",
        "learn.fit_one_cycle(1, 1e-2)"
      ],
      "execution_count": 30,
      "outputs": [
        {
          "output_type": "display_data",
          "data": {
            "text/html": [
              "<table border=\"1\" class=\"dataframe\">\n",
              "  <thead>\n",
              "    <tr style=\"text-align: left;\">\n",
              "      <th>epoch</th>\n",
              "      <th>train_loss</th>\n",
              "      <th>valid_loss</th>\n",
              "      <th>accuracy</th>\n",
              "      <th>time</th>\n",
              "    </tr>\n",
              "  </thead>\n",
              "  <tbody>\n",
              "    <tr>\n",
              "      <td>0</td>\n",
              "      <td>3.939604</td>\n",
              "      <td>3.636621</td>\n",
              "      <td>0.382249</td>\n",
              "      <td>01:10</td>\n",
              "    </tr>\n",
              "  </tbody>\n",
              "</table>"
            ],
            "text/plain": [
              "<IPython.core.display.HTML object>"
            ]
          },
          "metadata": {
            "tags": []
          }
        }
      ]
    },
    {
      "cell_type": "code",
      "metadata": {
        "id": "ImwQP1PJwzxd",
        "colab_type": "code",
        "colab": {
          "base_uri": "https://localhost:8080/",
          "height": 80
        },
        "outputId": "b991717c-2a4e-41c1-a5c7-30016313a5d0"
      },
      "source": [
        "learn.freeze_to(-2)\n",
        "learn.fit_one_cycle(1, slice(5e-3/2., 5e-3))"
      ],
      "execution_count": 31,
      "outputs": [
        {
          "output_type": "display_data",
          "data": {
            "text/html": [
              "<table border=\"1\" class=\"dataframe\">\n",
              "  <thead>\n",
              "    <tr style=\"text-align: left;\">\n",
              "      <th>epoch</th>\n",
              "      <th>train_loss</th>\n",
              "      <th>valid_loss</th>\n",
              "      <th>accuracy</th>\n",
              "      <th>time</th>\n",
              "    </tr>\n",
              "  </thead>\n",
              "  <tbody>\n",
              "    <tr>\n",
              "      <td>0</td>\n",
              "      <td>2.921072</td>\n",
              "      <td>3.081210</td>\n",
              "      <td>0.493491</td>\n",
              "      <td>01:17</td>\n",
              "    </tr>\n",
              "  </tbody>\n",
              "</table>"
            ],
            "text/plain": [
              "<IPython.core.display.HTML object>"
            ]
          },
          "metadata": {
            "tags": []
          }
        }
      ]
    },
    {
      "cell_type": "code",
      "metadata": {
        "id": "Owff_BJXw53u",
        "colab_type": "code",
        "colab": {
          "base_uri": "https://localhost:8080/",
          "height": 80
        },
        "outputId": "17b0741c-9043-40fe-cf6b-64c6dec95836"
      },
      "source": [
        "learn.unfreeze()\n",
        "learn.fit_one_cycle(1, slice(2e-3/100, 2e-3))"
      ],
      "execution_count": 32,
      "outputs": [
        {
          "output_type": "display_data",
          "data": {
            "text/html": [
              "<table border=\"1\" class=\"dataframe\">\n",
              "  <thead>\n",
              "    <tr style=\"text-align: left;\">\n",
              "      <th>epoch</th>\n",
              "      <th>train_loss</th>\n",
              "      <th>valid_loss</th>\n",
              "      <th>accuracy</th>\n",
              "      <th>time</th>\n",
              "    </tr>\n",
              "  </thead>\n",
              "  <tbody>\n",
              "    <tr>\n",
              "      <td>0</td>\n",
              "      <td>2.351776</td>\n",
              "      <td>2.707452</td>\n",
              "      <td>0.560947</td>\n",
              "      <td>03:21</td>\n",
              "    </tr>\n",
              "  </tbody>\n",
              "</table>"
            ],
            "text/plain": [
              "<IPython.core.display.HTML object>"
            ]
          },
          "metadata": {
            "tags": []
          }
        }
      ]
    },
    {
      "cell_type": "code",
      "metadata": {
        "id": "lqAyu56V8Waq",
        "colab_type": "code",
        "colab": {
          "base_uri": "https://localhost:8080/",
          "height": 111
        },
        "outputId": "0b41fe5e-4a44-4ff0-fde3-120d0a65a90f"
      },
      "source": [
        "learn.fit_one_cycle(2, slice(2e-3/100, 2e-3))"
      ],
      "execution_count": 33,
      "outputs": [
        {
          "output_type": "display_data",
          "data": {
            "text/html": [
              "<table border=\"1\" class=\"dataframe\">\n",
              "  <thead>\n",
              "    <tr style=\"text-align: left;\">\n",
              "      <th>epoch</th>\n",
              "      <th>train_loss</th>\n",
              "      <th>valid_loss</th>\n",
              "      <th>accuracy</th>\n",
              "      <th>time</th>\n",
              "    </tr>\n",
              "  </thead>\n",
              "  <tbody>\n",
              "    <tr>\n",
              "      <td>0</td>\n",
              "      <td>2.041755</td>\n",
              "      <td>2.374059</td>\n",
              "      <td>0.607101</td>\n",
              "      <td>03:35</td>\n",
              "    </tr>\n",
              "    <tr>\n",
              "      <td>1</td>\n",
              "      <td>1.787017</td>\n",
              "      <td>2.253897</td>\n",
              "      <td>0.633136</td>\n",
              "      <td>03:31</td>\n",
              "    </tr>\n",
              "  </tbody>\n",
              "</table>"
            ],
            "text/plain": [
              "<IPython.core.display.HTML object>"
            ]
          },
          "metadata": {
            "tags": []
          }
        }
      ]
    },
    {
      "cell_type": "code",
      "metadata": {
        "id": "a7I1xMRp8bUd",
        "colab_type": "code",
        "colab": {
          "base_uri": "https://localhost:8080/",
          "height": 111
        },
        "outputId": "bea9015c-2a51-491a-efe0-5923c940c2e2"
      },
      "source": [
        "learn.fit_one_cycle(2, slice(2e-3/100, 2e-3))"
      ],
      "execution_count": 34,
      "outputs": [
        {
          "output_type": "display_data",
          "data": {
            "text/html": [
              "<table border=\"1\" class=\"dataframe\">\n",
              "  <thead>\n",
              "    <tr style=\"text-align: left;\">\n",
              "      <th>epoch</th>\n",
              "      <th>train_loss</th>\n",
              "      <th>valid_loss</th>\n",
              "      <th>accuracy</th>\n",
              "      <th>time</th>\n",
              "    </tr>\n",
              "  </thead>\n",
              "  <tbody>\n",
              "    <tr>\n",
              "      <td>0</td>\n",
              "      <td>1.588384</td>\n",
              "      <td>2.043910</td>\n",
              "      <td>0.644970</td>\n",
              "      <td>03:22</td>\n",
              "    </tr>\n",
              "    <tr>\n",
              "      <td>1</td>\n",
              "      <td>1.427470</td>\n",
              "      <td>1.952013</td>\n",
              "      <td>0.667456</td>\n",
              "      <td>03:20</td>\n",
              "    </tr>\n",
              "  </tbody>\n",
              "</table>"
            ],
            "text/plain": [
              "<IPython.core.display.HTML object>"
            ]
          },
          "metadata": {
            "tags": []
          }
        }
      ]
    },
    {
      "cell_type": "code",
      "metadata": {
        "id": "UAnti-XmGVfO",
        "colab_type": "code",
        "colab": {
          "base_uri": "https://localhost:8080/",
          "height": 111
        },
        "outputId": "912c73bb-7f99-4309-82ad-4e720ca3fbb1"
      },
      "source": [
        "learn.fit_one_cycle(2, slice(2e-3/100, 2e-3))"
      ],
      "execution_count": 35,
      "outputs": [
        {
          "output_type": "display_data",
          "data": {
            "text/html": [
              "<table border=\"1\" class=\"dataframe\">\n",
              "  <thead>\n",
              "    <tr style=\"text-align: left;\">\n",
              "      <th>epoch</th>\n",
              "      <th>train_loss</th>\n",
              "      <th>valid_loss</th>\n",
              "      <th>accuracy</th>\n",
              "      <th>time</th>\n",
              "    </tr>\n",
              "  </thead>\n",
              "  <tbody>\n",
              "    <tr>\n",
              "      <td>0</td>\n",
              "      <td>1.340842</td>\n",
              "      <td>1.823962</td>\n",
              "      <td>0.692308</td>\n",
              "      <td>03:38</td>\n",
              "    </tr>\n",
              "    <tr>\n",
              "      <td>1</td>\n",
              "      <td>1.217848</td>\n",
              "      <td>1.749666</td>\n",
              "      <td>0.694675</td>\n",
              "      <td>03:21</td>\n",
              "    </tr>\n",
              "  </tbody>\n",
              "</table>"
            ],
            "text/plain": [
              "<IPython.core.display.HTML object>"
            ]
          },
          "metadata": {
            "tags": []
          }
        }
      ]
    },
    {
      "cell_type": "code",
      "metadata": {
        "id": "bIft7W25GwSu",
        "colab_type": "code",
        "colab": {
          "base_uri": "https://localhost:8080/",
          "height": 111
        },
        "outputId": "730695b1-7fb5-4e1a-e839-e06bce4a3917"
      },
      "source": [
        "learn.fit_one_cycle(2, slice(2e-3/100, 2e-3))"
      ],
      "execution_count": 36,
      "outputs": [
        {
          "output_type": "display_data",
          "data": {
            "text/html": [
              "<table border=\"1\" class=\"dataframe\">\n",
              "  <thead>\n",
              "    <tr style=\"text-align: left;\">\n",
              "      <th>epoch</th>\n",
              "      <th>train_loss</th>\n",
              "      <th>valid_loss</th>\n",
              "      <th>accuracy</th>\n",
              "      <th>time</th>\n",
              "    </tr>\n",
              "  </thead>\n",
              "  <tbody>\n",
              "    <tr>\n",
              "      <td>0</td>\n",
              "      <td>1.162351</td>\n",
              "      <td>1.697216</td>\n",
              "      <td>0.718343</td>\n",
              "      <td>03:08</td>\n",
              "    </tr>\n",
              "    <tr>\n",
              "      <td>1</td>\n",
              "      <td>1.050134</td>\n",
              "      <td>1.672596</td>\n",
              "      <td>0.726627</td>\n",
              "      <td>03:14</td>\n",
              "    </tr>\n",
              "  </tbody>\n",
              "</table>"
            ],
            "text/plain": [
              "<IPython.core.display.HTML object>"
            ]
          },
          "metadata": {
            "tags": []
          }
        }
      ]
    },
    {
      "cell_type": "code",
      "metadata": {
        "id": "EEHszVRvGyFt",
        "colab_type": "code",
        "colab": {
          "base_uri": "https://localhost:8080/",
          "height": 111
        },
        "outputId": "719b3844-a135-4bb0-d5c4-e267697ddf8b"
      },
      "source": [
        "learn.fit_one_cycle(2, slice(2e-3/100, 2e-3))"
      ],
      "execution_count": 37,
      "outputs": [
        {
          "output_type": "display_data",
          "data": {
            "text/html": [
              "<table border=\"1\" class=\"dataframe\">\n",
              "  <thead>\n",
              "    <tr style=\"text-align: left;\">\n",
              "      <th>epoch</th>\n",
              "      <th>train_loss</th>\n",
              "      <th>valid_loss</th>\n",
              "      <th>accuracy</th>\n",
              "      <th>time</th>\n",
              "    </tr>\n",
              "  </thead>\n",
              "  <tbody>\n",
              "    <tr>\n",
              "      <td>0</td>\n",
              "      <td>0.995419</td>\n",
              "      <td>1.621283</td>\n",
              "      <td>0.730178</td>\n",
              "      <td>03:13</td>\n",
              "    </tr>\n",
              "    <tr>\n",
              "      <td>1</td>\n",
              "      <td>0.931207</td>\n",
              "      <td>1.541522</td>\n",
              "      <td>0.738462</td>\n",
              "      <td>03:17</td>\n",
              "    </tr>\n",
              "  </tbody>\n",
              "</table>"
            ],
            "text/plain": [
              "<IPython.core.display.HTML object>"
            ]
          },
          "metadata": {
            "tags": []
          }
        }
      ]
    },
    {
      "cell_type": "code",
      "metadata": {
        "id": "XsHfrhCHG3dN",
        "colab_type": "code",
        "colab": {
          "base_uri": "https://localhost:8080/",
          "height": 173
        },
        "outputId": "e6da809b-b05f-4938-8c69-f8e8621c1e83"
      },
      "source": [
        "learn.fit_one_cycle(4, slice(2e-3/100, 2e-3))"
      ],
      "execution_count": 38,
      "outputs": [
        {
          "output_type": "display_data",
          "data": {
            "text/html": [
              "<table border=\"1\" class=\"dataframe\">\n",
              "  <thead>\n",
              "    <tr style=\"text-align: left;\">\n",
              "      <th>epoch</th>\n",
              "      <th>train_loss</th>\n",
              "      <th>valid_loss</th>\n",
              "      <th>accuracy</th>\n",
              "      <th>time</th>\n",
              "    </tr>\n",
              "  </thead>\n",
              "  <tbody>\n",
              "    <tr>\n",
              "      <td>0</td>\n",
              "      <td>0.842393</td>\n",
              "      <td>1.540311</td>\n",
              "      <td>0.744379</td>\n",
              "      <td>03:13</td>\n",
              "    </tr>\n",
              "    <tr>\n",
              "      <td>1</td>\n",
              "      <td>0.877477</td>\n",
              "      <td>1.496711</td>\n",
              "      <td>0.752663</td>\n",
              "      <td>03:13</td>\n",
              "    </tr>\n",
              "    <tr>\n",
              "      <td>2</td>\n",
              "      <td>0.758555</td>\n",
              "      <td>1.404941</td>\n",
              "      <td>0.765680</td>\n",
              "      <td>03:22</td>\n",
              "    </tr>\n",
              "    <tr>\n",
              "      <td>3</td>\n",
              "      <td>0.710452</td>\n",
              "      <td>1.415202</td>\n",
              "      <td>0.766864</td>\n",
              "      <td>03:20</td>\n",
              "    </tr>\n",
              "  </tbody>\n",
              "</table>"
            ],
            "text/plain": [
              "<IPython.core.display.HTML object>"
            ]
          },
          "metadata": {
            "tags": []
          }
        }
      ]
    },
    {
      "cell_type": "code",
      "metadata": {
        "id": "0Zsd99isb9EQ",
        "colab_type": "code",
        "colab": {
          "base_uri": "https://localhost:8080/",
          "height": 173
        },
        "outputId": "5e53f830-6c54-4104-90a3-2fcf5e056de9"
      },
      "source": [
        "learn.fit_one_cycle(4, slice(2e-3/100, 2e-3))"
      ],
      "execution_count": 39,
      "outputs": [
        {
          "output_type": "display_data",
          "data": {
            "text/html": [
              "<table border=\"1\" class=\"dataframe\">\n",
              "  <thead>\n",
              "    <tr style=\"text-align: left;\">\n",
              "      <th>epoch</th>\n",
              "      <th>train_loss</th>\n",
              "      <th>valid_loss</th>\n",
              "      <th>accuracy</th>\n",
              "      <th>time</th>\n",
              "    </tr>\n",
              "  </thead>\n",
              "  <tbody>\n",
              "    <tr>\n",
              "      <td>0</td>\n",
              "      <td>0.694344</td>\n",
              "      <td>1.416324</td>\n",
              "      <td>0.773965</td>\n",
              "      <td>03:28</td>\n",
              "    </tr>\n",
              "    <tr>\n",
              "      <td>1</td>\n",
              "      <td>0.716785</td>\n",
              "      <td>1.420904</td>\n",
              "      <td>0.758580</td>\n",
              "      <td>03:26</td>\n",
              "    </tr>\n",
              "    <tr>\n",
              "      <td>2</td>\n",
              "      <td>0.670266</td>\n",
              "      <td>1.406157</td>\n",
              "      <td>0.769231</td>\n",
              "      <td>03:22</td>\n",
              "    </tr>\n",
              "    <tr>\n",
              "      <td>3</td>\n",
              "      <td>0.605085</td>\n",
              "      <td>1.389890</td>\n",
              "      <td>0.775148</td>\n",
              "      <td>03:17</td>\n",
              "    </tr>\n",
              "  </tbody>\n",
              "</table>"
            ],
            "text/plain": [
              "<IPython.core.display.HTML object>"
            ]
          },
          "metadata": {
            "tags": []
          }
        }
      ]
    },
    {
      "cell_type": "code",
      "metadata": {
        "id": "atNWNKDFPbuI",
        "colab_type": "code",
        "colab": {
          "base_uri": "https://localhost:8080/",
          "height": 173
        },
        "outputId": "6813469a-c816-45b5-be6b-a84abdbdefe5"
      },
      "source": [
        "learn.fit_one_cycle(4, slice(2e-3/100, 2e-3))"
      ],
      "execution_count": 40,
      "outputs": [
        {
          "output_type": "display_data",
          "data": {
            "text/html": [
              "<table border=\"1\" class=\"dataframe\">\n",
              "  <thead>\n",
              "    <tr style=\"text-align: left;\">\n",
              "      <th>epoch</th>\n",
              "      <th>train_loss</th>\n",
              "      <th>valid_loss</th>\n",
              "      <th>accuracy</th>\n",
              "      <th>time</th>\n",
              "    </tr>\n",
              "  </thead>\n",
              "  <tbody>\n",
              "    <tr>\n",
              "      <td>0</td>\n",
              "      <td>0.649630</td>\n",
              "      <td>1.420939</td>\n",
              "      <td>0.772781</td>\n",
              "      <td>03:35</td>\n",
              "    </tr>\n",
              "    <tr>\n",
              "      <td>1</td>\n",
              "      <td>0.652493</td>\n",
              "      <td>1.409849</td>\n",
              "      <td>0.772781</td>\n",
              "      <td>03:25</td>\n",
              "    </tr>\n",
              "    <tr>\n",
              "      <td>2</td>\n",
              "      <td>0.617029</td>\n",
              "      <td>1.353304</td>\n",
              "      <td>0.778698</td>\n",
              "      <td>03:22</td>\n",
              "    </tr>\n",
              "    <tr>\n",
              "      <td>3</td>\n",
              "      <td>0.559191</td>\n",
              "      <td>1.358649</td>\n",
              "      <td>0.781065</td>\n",
              "      <td>03:20</td>\n",
              "    </tr>\n",
              "  </tbody>\n",
              "</table>"
            ],
            "text/plain": [
              "<IPython.core.display.HTML object>"
            ]
          },
          "metadata": {
            "tags": []
          }
        }
      ]
    },
    {
      "cell_type": "code",
      "metadata": {
        "id": "rKrBTZ0T1uVA",
        "colab_type": "code",
        "colab": {
          "base_uri": "https://localhost:8080/",
          "height": 173
        },
        "outputId": "eae6d04d-8ae7-4e0e-d4e0-a19b41b07395"
      },
      "source": [
        "learn.fit_one_cycle(4, slice(2e-3/100, 2e-3))"
      ],
      "execution_count": 41,
      "outputs": [
        {
          "output_type": "display_data",
          "data": {
            "text/html": [
              "<table border=\"1\" class=\"dataframe\">\n",
              "  <thead>\n",
              "    <tr style=\"text-align: left;\">\n",
              "      <th>epoch</th>\n",
              "      <th>train_loss</th>\n",
              "      <th>valid_loss</th>\n",
              "      <th>accuracy</th>\n",
              "      <th>time</th>\n",
              "    </tr>\n",
              "  </thead>\n",
              "  <tbody>\n",
              "    <tr>\n",
              "      <td>0</td>\n",
              "      <td>0.545905</td>\n",
              "      <td>1.400331</td>\n",
              "      <td>0.783432</td>\n",
              "      <td>03:17</td>\n",
              "    </tr>\n",
              "    <tr>\n",
              "      <td>1</td>\n",
              "      <td>0.602784</td>\n",
              "      <td>1.326694</td>\n",
              "      <td>0.779882</td>\n",
              "      <td>03:23</td>\n",
              "    </tr>\n",
              "    <tr>\n",
              "      <td>2</td>\n",
              "      <td>0.567741</td>\n",
              "      <td>1.397595</td>\n",
              "      <td>0.785799</td>\n",
              "      <td>03:30</td>\n",
              "    </tr>\n",
              "    <tr>\n",
              "      <td>3</td>\n",
              "      <td>0.502198</td>\n",
              "      <td>1.378787</td>\n",
              "      <td>0.779882</td>\n",
              "      <td>03:33</td>\n",
              "    </tr>\n",
              "  </tbody>\n",
              "</table>"
            ],
            "text/plain": [
              "<IPython.core.display.HTML object>"
            ]
          },
          "metadata": {
            "tags": []
          }
        }
      ]
    },
    {
      "cell_type": "code",
      "metadata": {
        "id": "l49hlnWh3Ttc",
        "colab_type": "code",
        "colab": {
          "base_uri": "https://localhost:8080/",
          "height": 173
        },
        "outputId": "ed6739a1-0329-4f30-cfe4-2f6577c3a8dc"
      },
      "source": [
        "learn.fit_one_cycle(4, slice(2e-3/100, 2e-3))"
      ],
      "execution_count": 42,
      "outputs": [
        {
          "output_type": "display_data",
          "data": {
            "text/html": [
              "<table border=\"1\" class=\"dataframe\">\n",
              "  <thead>\n",
              "    <tr style=\"text-align: left;\">\n",
              "      <th>epoch</th>\n",
              "      <th>train_loss</th>\n",
              "      <th>valid_loss</th>\n",
              "      <th>accuracy</th>\n",
              "      <th>time</th>\n",
              "    </tr>\n",
              "  </thead>\n",
              "  <tbody>\n",
              "    <tr>\n",
              "      <td>0</td>\n",
              "      <td>0.498828</td>\n",
              "      <td>1.389569</td>\n",
              "      <td>0.779882</td>\n",
              "      <td>03:37</td>\n",
              "    </tr>\n",
              "    <tr>\n",
              "      <td>1</td>\n",
              "      <td>0.547504</td>\n",
              "      <td>1.417232</td>\n",
              "      <td>0.778698</td>\n",
              "      <td>03:26</td>\n",
              "    </tr>\n",
              "    <tr>\n",
              "      <td>2</td>\n",
              "      <td>0.529116</td>\n",
              "      <td>1.381407</td>\n",
              "      <td>0.781065</td>\n",
              "      <td>03:19</td>\n",
              "    </tr>\n",
              "    <tr>\n",
              "      <td>3</td>\n",
              "      <td>0.496193</td>\n",
              "      <td>1.422962</td>\n",
              "      <td>0.782248</td>\n",
              "      <td>03:16</td>\n",
              "    </tr>\n",
              "  </tbody>\n",
              "</table>"
            ],
            "text/plain": [
              "<IPython.core.display.HTML object>"
            ]
          },
          "metadata": {
            "tags": []
          }
        }
      ]
    },
    {
      "cell_type": "code",
      "metadata": {
        "id": "eOHV1B2U3ZDj",
        "colab_type": "code",
        "colab": {
          "base_uri": "https://localhost:8080/",
          "height": 173
        },
        "outputId": "ec786152-a0e8-43f3-90d9-db96d4c66b5a"
      },
      "source": [
        "learn.fit_one_cycle(4, slice(2e-3/100, 2e-3))"
      ],
      "execution_count": 43,
      "outputs": [
        {
          "output_type": "display_data",
          "data": {
            "text/html": [
              "<table border=\"1\" class=\"dataframe\">\n",
              "  <thead>\n",
              "    <tr style=\"text-align: left;\">\n",
              "      <th>epoch</th>\n",
              "      <th>train_loss</th>\n",
              "      <th>valid_loss</th>\n",
              "      <th>accuracy</th>\n",
              "      <th>time</th>\n",
              "    </tr>\n",
              "  </thead>\n",
              "  <tbody>\n",
              "    <tr>\n",
              "      <td>0</td>\n",
              "      <td>0.469353</td>\n",
              "      <td>1.395587</td>\n",
              "      <td>0.782248</td>\n",
              "      <td>03:34</td>\n",
              "    </tr>\n",
              "    <tr>\n",
              "      <td>1</td>\n",
              "      <td>0.543403</td>\n",
              "      <td>1.416820</td>\n",
              "      <td>0.781065</td>\n",
              "      <td>03:31</td>\n",
              "    </tr>\n",
              "    <tr>\n",
              "      <td>2</td>\n",
              "      <td>0.505089</td>\n",
              "      <td>1.425520</td>\n",
              "      <td>0.784615</td>\n",
              "      <td>03:25</td>\n",
              "    </tr>\n",
              "    <tr>\n",
              "      <td>3</td>\n",
              "      <td>0.471914</td>\n",
              "      <td>1.412147</td>\n",
              "      <td>0.788166</td>\n",
              "      <td>03:20</td>\n",
              "    </tr>\n",
              "  </tbody>\n",
              "</table>"
            ],
            "text/plain": [
              "<IPython.core.display.HTML object>"
            ]
          },
          "metadata": {
            "tags": []
          }
        }
      ]
    },
    {
      "cell_type": "code",
      "metadata": {
        "id": "FA9z91sk3Zyy",
        "colab_type": "code",
        "colab": {
          "base_uri": "https://localhost:8080/",
          "height": 173
        },
        "outputId": "18fd1f4c-2f51-4296-9701-8bbf03074638"
      },
      "source": [
        "learn.fit_one_cycle(4, slice(2e-3/100, 2e-3))"
      ],
      "execution_count": 44,
      "outputs": [
        {
          "output_type": "display_data",
          "data": {
            "text/html": [
              "<table border=\"1\" class=\"dataframe\">\n",
              "  <thead>\n",
              "    <tr style=\"text-align: left;\">\n",
              "      <th>epoch</th>\n",
              "      <th>train_loss</th>\n",
              "      <th>valid_loss</th>\n",
              "      <th>accuracy</th>\n",
              "      <th>time</th>\n",
              "    </tr>\n",
              "  </thead>\n",
              "  <tbody>\n",
              "    <tr>\n",
              "      <td>0</td>\n",
              "      <td>0.480566</td>\n",
              "      <td>1.469869</td>\n",
              "      <td>0.779882</td>\n",
              "      <td>03:09</td>\n",
              "    </tr>\n",
              "    <tr>\n",
              "      <td>1</td>\n",
              "      <td>0.550520</td>\n",
              "      <td>1.501111</td>\n",
              "      <td>0.788166</td>\n",
              "      <td>03:21</td>\n",
              "    </tr>\n",
              "    <tr>\n",
              "      <td>2</td>\n",
              "      <td>0.490409</td>\n",
              "      <td>1.428745</td>\n",
              "      <td>0.788166</td>\n",
              "      <td>03:16</td>\n",
              "    </tr>\n",
              "    <tr>\n",
              "      <td>3</td>\n",
              "      <td>0.443956</td>\n",
              "      <td>1.414638</td>\n",
              "      <td>0.790533</td>\n",
              "      <td>03:29</td>\n",
              "    </tr>\n",
              "  </tbody>\n",
              "</table>"
            ],
            "text/plain": [
              "<IPython.core.display.HTML object>"
            ]
          },
          "metadata": {
            "tags": []
          }
        }
      ]
    },
    {
      "cell_type": "code",
      "metadata": {
        "id": "9JbjgW6n3b1K",
        "colab_type": "code",
        "colab": {
          "base_uri": "https://localhost:8080/",
          "height": 173
        },
        "outputId": "6249d6e8-e3b2-4f32-8d46-0f763f1154f1"
      },
      "source": [
        "learn.fit_one_cycle(4, slice(2e-3/100, 2e-3))"
      ],
      "execution_count": 45,
      "outputs": [
        {
          "output_type": "display_data",
          "data": {
            "text/html": [
              "<table border=\"1\" class=\"dataframe\">\n",
              "  <thead>\n",
              "    <tr style=\"text-align: left;\">\n",
              "      <th>epoch</th>\n",
              "      <th>train_loss</th>\n",
              "      <th>valid_loss</th>\n",
              "      <th>accuracy</th>\n",
              "      <th>time</th>\n",
              "    </tr>\n",
              "  </thead>\n",
              "  <tbody>\n",
              "    <tr>\n",
              "      <td>0</td>\n",
              "      <td>0.441793</td>\n",
              "      <td>1.445735</td>\n",
              "      <td>0.782248</td>\n",
              "      <td>03:16</td>\n",
              "    </tr>\n",
              "    <tr>\n",
              "      <td>1</td>\n",
              "      <td>0.505879</td>\n",
              "      <td>1.428647</td>\n",
              "      <td>0.783432</td>\n",
              "      <td>03:11</td>\n",
              "    </tr>\n",
              "    <tr>\n",
              "      <td>2</td>\n",
              "      <td>0.482457</td>\n",
              "      <td>1.402076</td>\n",
              "      <td>0.785799</td>\n",
              "      <td>03:30</td>\n",
              "    </tr>\n",
              "    <tr>\n",
              "      <td>3</td>\n",
              "      <td>0.442037</td>\n",
              "      <td>1.414576</td>\n",
              "      <td>0.786982</td>\n",
              "      <td>03:22</td>\n",
              "    </tr>\n",
              "  </tbody>\n",
              "</table>"
            ],
            "text/plain": [
              "<IPython.core.display.HTML object>"
            ]
          },
          "metadata": {
            "tags": []
          }
        }
      ]
    },
    {
      "cell_type": "code",
      "metadata": {
        "id": "3gq-Lep13cqS",
        "colab_type": "code",
        "colab": {
          "base_uri": "https://localhost:8080/",
          "height": 173
        },
        "outputId": "17cdd2b8-a5a1-4607-b529-42f327d89772"
      },
      "source": [
        "learn.fit_one_cycle(4, slice(2e-3/100, 2e-3))"
      ],
      "execution_count": 46,
      "outputs": [
        {
          "output_type": "display_data",
          "data": {
            "text/html": [
              "<table border=\"1\" class=\"dataframe\">\n",
              "  <thead>\n",
              "    <tr style=\"text-align: left;\">\n",
              "      <th>epoch</th>\n",
              "      <th>train_loss</th>\n",
              "      <th>valid_loss</th>\n",
              "      <th>accuracy</th>\n",
              "      <th>time</th>\n",
              "    </tr>\n",
              "  </thead>\n",
              "  <tbody>\n",
              "    <tr>\n",
              "      <td>0</td>\n",
              "      <td>0.450156</td>\n",
              "      <td>1.488006</td>\n",
              "      <td>0.781065</td>\n",
              "      <td>03:36</td>\n",
              "    </tr>\n",
              "    <tr>\n",
              "      <td>1</td>\n",
              "      <td>0.478459</td>\n",
              "      <td>1.446785</td>\n",
              "      <td>0.789349</td>\n",
              "      <td>03:09</td>\n",
              "    </tr>\n",
              "    <tr>\n",
              "      <td>2</td>\n",
              "      <td>0.497336</td>\n",
              "      <td>1.430560</td>\n",
              "      <td>0.785799</td>\n",
              "      <td>03:21</td>\n",
              "    </tr>\n",
              "    <tr>\n",
              "      <td>3</td>\n",
              "      <td>0.431736</td>\n",
              "      <td>1.393304</td>\n",
              "      <td>0.791716</td>\n",
              "      <td>03:22</td>\n",
              "    </tr>\n",
              "  </tbody>\n",
              "</table>"
            ],
            "text/plain": [
              "<IPython.core.display.HTML object>"
            ]
          },
          "metadata": {
            "tags": []
          }
        }
      ]
    },
    {
      "cell_type": "code",
      "metadata": {
        "id": "fr_3Rw6A3zSL",
        "colab_type": "code",
        "colab": {
          "base_uri": "https://localhost:8080/",
          "height": 173
        },
        "outputId": "0af20ad5-7888-47b2-8b78-20ff62a8272b"
      },
      "source": [
        "learn.fit_one_cycle(4, slice(2e-3/100, 2e-3))"
      ],
      "execution_count": 47,
      "outputs": [
        {
          "output_type": "display_data",
          "data": {
            "text/html": [
              "<table border=\"1\" class=\"dataframe\">\n",
              "  <thead>\n",
              "    <tr style=\"text-align: left;\">\n",
              "      <th>epoch</th>\n",
              "      <th>train_loss</th>\n",
              "      <th>valid_loss</th>\n",
              "      <th>accuracy</th>\n",
              "      <th>time</th>\n",
              "    </tr>\n",
              "  </thead>\n",
              "  <tbody>\n",
              "    <tr>\n",
              "      <td>0</td>\n",
              "      <td>0.425694</td>\n",
              "      <td>1.396311</td>\n",
              "      <td>0.785799</td>\n",
              "      <td>03:24</td>\n",
              "    </tr>\n",
              "    <tr>\n",
              "      <td>1</td>\n",
              "      <td>0.466099</td>\n",
              "      <td>1.446671</td>\n",
              "      <td>0.791716</td>\n",
              "      <td>03:08</td>\n",
              "    </tr>\n",
              "    <tr>\n",
              "      <td>2</td>\n",
              "      <td>0.427443</td>\n",
              "      <td>1.439499</td>\n",
              "      <td>0.790533</td>\n",
              "      <td>03:37</td>\n",
              "    </tr>\n",
              "    <tr>\n",
              "      <td>3</td>\n",
              "      <td>0.437596</td>\n",
              "      <td>1.436093</td>\n",
              "      <td>0.795266</td>\n",
              "      <td>03:21</td>\n",
              "    </tr>\n",
              "  </tbody>\n",
              "</table>"
            ],
            "text/plain": [
              "<IPython.core.display.HTML object>"
            ]
          },
          "metadata": {
            "tags": []
          }
        }
      ]
    },
    {
      "cell_type": "code",
      "metadata": {
        "id": "c65d-osfDUXm",
        "colab_type": "code",
        "colab": {}
      },
      "source": [
        "# save the best model\n",
        "\n",
        "learn.save_encoder('AskAPatient_overlap_70')"
      ],
      "execution_count": 0,
      "outputs": []
    },
    {
      "cell_type": "markdown",
      "metadata": {
        "id": "rCwZU0E2RgM6",
        "colab_type": "text"
      },
      "source": [
        "# Part three: Predict on the test dataset"
      ]
    },
    {
      "cell_type": "code",
      "metadata": {
        "id": "gDm72c-dOu7d",
        "colab_type": "code",
        "colab": {}
      },
      "source": [
        "# use the test data for prediction\n",
        "\n",
        "preds, y = learn.get_preds(DatasetType.Test)"
      ],
      "execution_count": 0,
      "outputs": []
    },
    {
      "cell_type": "code",
      "metadata": {
        "id": "6tFSQcsWPvxn",
        "colab_type": "code",
        "colab": {
          "base_uri": "https://localhost:8080/",
          "height": 105
        },
        "outputId": "a4b1ed1c-9020-4ed2-dc24-f6cd97ddab44"
      },
      "source": [
        "predictions, *_ = learn.get_preds(DatasetType.Test)\n",
        "labels = np.argmax(predictions, 1)\n",
        "predict_list = labels.tolist()\n",
        "standard_list = test[0].tolist()\n",
        "\n",
        "print(len(predict_list))\n",
        "print(len(standard_list))\n",
        "\n",
        "print(predict_list)\n",
        "print(standard_list)"
      ],
      "execution_count": 50,
      "outputs": [
        {
          "output_type": "stream",
          "text": [
            "2034\n",
            "2034\n",
            "[369, 2, 2, 2, 2, 903, 484, 334, 5, 805, 805, 805, 8, 8, 8, 8, 8, 8, 8, 8, 8, 8, 214, 510, 10, 375, 16, 5, 274, 20, 21, 21, 805, 6, 22, 246, 27, 27, 27, 28, 28, 29, 427, 30, 30, 584, 584, 584, 32, 34, 34, 256, 37, 37, 37, 37, 37, 37, 37, 37, 37, 37, 37, 37, 37, 37, 37, 37, 37, 513, 38, 4, 515, 427, 42, 44, 44, 45, 17, 355, 355, 49, 49, 49, 49, 49, 49, 100, 49, 49, 49, 49, 100, 100, 100, 100, 100, 100, 100, 100, 100, 100, 100, 100, 100, 49, 764, 1035, 53, 53, 53, 53, 58, 59, 60, 427, 61, 62, 65, 70, 1028, 71, 71, 71, 71, 71, 491, 76, 76, 76, 289, 122, 464, 614, 214, 1032, 717, 260, 260, 260, 260, 260, 260, 260, 260, 260, 260, 260, 260, 260, 260, 260, 260, 260, 260, 260, 260, 260, 260, 260, 260, 260, 260, 260, 260, 260, 260, 260, 260, 260, 260, 260, 260, 260, 260, 260, 260, 260, 260, 260, 260, 260, 260, 260, 260, 260, 260, 260, 260, 260, 260, 260, 260, 260, 260, 427, 289, 289, 100, 236, 614, 614, 614, 614, 614, 614, 614, 289, 614, 79, 80, 80, 80, 80, 80, 80, 80, 80, 80, 80, 80, 80, 80, 80, 80, 81, 613, 427, 88, 88, 89, 137, 627, 89, 537, 90, 437, 252, 252, 252, 252, 839, 94, 94, 94, 491, 94, 94, 94, 94, 94, 94, 94, 94, 94, 94, 94, 94, 94, 94, 94, 96, 96, 761, 427, 97, 533, 683, 234, 98, 615, 100, 337, 100, 100, 100, 100, 100, 100, 100, 100, 100, 100, 100, 100, 100, 631, 100, 100, 100, 100, 100, 100, 168, 337, 103, 1032, 105, 72, 72, 72, 660, 660, 660, 660, 660, 636, 1035, 636, 462, 606, 111, 111, 111, 111, 111, 111, 111, 111, 111, 260, 1035, 111, 797, 289, 289, 289, 289, 730, 111, 114, 117, 117, 1032, 446, 214, 214, 120, 122, 1032, 1032, 125, 125, 125, 125, 778, 778, 778, 778, 778, 778, 778, 778, 778, 778, 778, 778, 778, 778, 778, 778, 778, 778, 778, 778, 778, 661, 1032, 778, 127, 127, 741, 904, 129, 289, 130, 130, 622, 312, 134, 355, 135, 355, 6, 139, 33, 1032, 142, 142, 142, 144, 145, 146, 146, 416, 415, 151, 847, 376, 292, 52, 158, 158, 163, 165, 165, 166, 166, 350, 350, 350, 350, 350, 257, 1032, 339, 171, 700, 172, 172, 289, 700, 700, 614, 864, 864, 864, 864, 864, 700, 214, 214, 214, 180, 412, 727, 742, 182, 182, 182, 182, 182, 182, 182, 182, 182, 182, 182, 289, 289, 289, 182, 289, 289, 182, 758, 758, 758, 758, 758, 758, 758, 758, 758, 758, 758, 758, 758, 758, 758, 758, 758, 758, 758, 758, 184, 184, 184, 185, 187, 187, 187, 187, 187, 187, 90, 6, 189, 189, 189, 1032, 263, 402, 402, 461, 289, 289, 289, 337, 265, 289, 289, 289, 289, 193, 193, 193, 197, 197, 34, 34, 34, 34, 197, 200, 202, 805, 205, 764, 205, 769, 209, 210, 210, 210, 210, 1035, 1035, 427, 211, 214, 34, 1032, 214, 214, 214, 214, 384, 877, 877, 877, 877, 877, 877, 877, 877, 214, 214, 214, 214, 214, 58, 214, 214, 214, 214, 1032, 369, 194, 218, 218, 218, 220, 220, 220, 220, 220, 220, 220, 1032, 223, 223, 224, 226, 226, 227, 636, 228, 228, 228, 228, 228, 228, 228, 228, 228, 228, 228, 228, 228, 228, 228, 228, 79, 228, 228, 228, 228, 228, 228, 228, 544, 231, 234, 234, 234, 234, 235, 236, 236, 337, 337, 399, 1032, 1032, 238, 238, 1032, 1032, 187, 906, 1032, 1032, 355, 355, 355, 355, 243, 243, 243, 243, 243, 243, 243, 243, 1032, 1032, 710, 245, 728, 728, 245, 245, 245, 245, 910, 764, 245, 765, 245, 245, 638, 352, 245, 773, 246, 246, 546, 517, 517, 517, 246, 246, 247, 1032, 251, 1032, 909, 909, 909, 728, 1035, 260, 260, 289, 260, 1032, 251, 251, 264, 265, 313, 419, 265, 704, 265, 265, 660, 58, 265, 265, 265, 265, 265, 265, 265, 265, 265, 265, 265, 265, 265, 265, 265, 265, 265, 265, 265, 265, 265, 265, 265, 265, 265, 265, 265, 265, 265, 265, 265, 260, 352, 289, 265, 614, 265, 265, 265, 100, 265, 1016, 446, 137, 137, 137, 445, 90, 269, 269, 791, 1032, 517, 276, 276, 1032, 165, 277, 1035, 280, 280, 281, 281, 281, 289, 281, 847, 283, 489, 805, 651, 289, 289, 289, 289, 289, 289, 289, 289, 289, 289, 262, 289, 289, 289, 289, 655, 289, 289, 289, 289, 289, 289, 289, 289, 289, 289, 289, 289, 289, 289, 289, 289, 289, 289, 289, 289, 289, 289, 289, 289, 289, 289, 289, 289, 289, 289, 289, 289, 289, 289, 289, 289, 289, 289, 655, 290, 291, 289, 293, 849, 294, 877, 1032, 298, 805, 625, 300, 300, 775, 301, 301, 100, 427, 302, 790, 809, 308, 351, 309, 309, 309, 309, 309, 309, 289, 289, 310, 289, 310, 315, 317, 747, 642, 318, 427, 427, 427, 890, 318, 402, 50, 146, 318, 492, 231, 321, 375, 1032, 323, 324, 325, 325, 325, 325, 325, 325, 325, 325, 325, 325, 325, 325, 325, 325, 325, 325, 325, 325, 325, 325, 325, 325, 325, 325, 325, 325, 325, 710, 710, 615, 427, 427, 427, 325, 58, 326, 326, 194, 328, 329, 397, 332, 332, 332, 203, 334, 334, 710, 336, 336, 337, 337, 337, 337, 337, 337, 337, 337, 768, 338, 338, 341, 343, 343, 343, 343, 343, 724, 144, 289, 427, 672, 910, 214, 352, 352, 355, 357, 359, 359, 359, 359, 359, 359, 359, 427, 359, 360, 360, 360, 360, 363, 363, 363, 427, 775, 364, 364, 364, 289, 289, 289, 367, 367, 374, 374, 376, 1032, 384, 386, 386, 427, 427, 391, 391, 391, 444, 528, 191, 753, 753, 396, 397, 868, 789, 402, 402, 402, 402, 402, 402, 402, 403, 405, 407, 42, 288, 288, 408, 408, 408, 408, 410, 805, 415, 415, 415, 159, 418, 418, 419, 419, 651, 118, 651, 651, 651, 651, 651, 651, 651, 651, 651, 651, 214, 289, 289, 289, 419, 651, 651, 419, 421, 1032, 384, 597, 427, 426, 426, 426, 426, 426, 426, 427, 427, 427, 427, 427, 427, 427, 427, 427, 427, 427, 427, 427, 427, 355, 355, 427, 427, 427, 427, 427, 427, 427, 427, 878, 151, 427, 355, 428, 428, 805, 194, 432, 910, 89, 435, 435, 435, 435, 438, 440, 441, 441, 443, 442, 444, 444, 444, 444, 444, 444, 446, 448, 94, 1032, 355, 455, 455, 455, 455, 455, 455, 455, 455, 455, 455, 455, 455, 455, 455, 455, 355, 460, 464, 462, 464, 469, 470, 470, 473, 615, 615, 710, 474, 780, 780, 780, 780, 780, 780, 591, 384, 384, 384, 667, 479, 614, 427, 744, 694, 486, 486, 159, 720, 567, 489, 489, 491, 491, 491, 491, 491, 491, 491, 491, 491, 491, 491, 159, 491, 491, 492, 492, 492, 291, 495, 495, 495, 495, 496, 1032, 499, 499, 499, 555, 505, 304, 507, 507, 162, 509, 510, 515, 236, 710, 710, 517, 517, 517, 517, 1032, 517, 517, 821, 521, 521, 427, 524, 289, 524, 191, 236, 530, 530, 530, 530, 530, 530, 530, 530, 530, 531, 546, 535, 536, 27, 537, 538, 355, 541, 541, 541, 542, 416, 541, 544, 545, 545, 545, 545, 546, 1032, 384, 384, 384, 384, 384, 384, 384, 384, 384, 384, 549, 549, 550, 88, 266, 82, 427, 427, 567, 569, 775, 572, 427, 427, 584, 515, 577, 58, 578, 578, 579, 687, 579, 579, 584, 510, 289, 590, 590, 590, 590, 591, 427, 427, 235, 1032, 592, 592, 592, 592, 97, 97, 707, 595, 328, 427, 597, 597, 597, 541, 491, 683, 700, 606, 606, 427, 608, 163, 58, 58, 569, 326, 326, 326, 326, 326, 1032, 613, 289, 614, 427, 614, 614, 614, 614, 614, 614, 614, 614, 888, 710, 1032, 1032, 623, 528, 528, 623, 214, 624, 355, 1032, 633, 633, 633, 635, 614, 638, 384, 644, 644, 644, 644, 644, 644, 646, 646, 646, 646, 646, 646, 646, 559, 728, 648, 726, 572, 652, 652, 636, 636, 636, 636, 636, 636, 636, 652, 652, 655, 659, 619, 810, 810, 660, 662, 662, 662, 662, 662, 491, 662, 662, 29, 665, 437, 378, 664, 666, 666, 403, 674, 678, 680, 676, 682, 678, 765, 289, 289, 729, 686, 706, 817, 693, 693, 694, 698, 700, 700, 864, 265, 427, 289, 289, 704, 651, 702, 704, 704, 703, 606, 704, 704, 491, 124, 707, 707, 710, 710, 316, 711, 711, 711, 711, 712, 72, 714, 714, 4, 715, 903, 717, 730, 638, 727, 729, 730, 723, 88, 735, 491, 739, 704, 741, 703, 741, 289, 289, 745, 745, 541, 541, 746, 746, 746, 746, 257, 746, 746, 749, 752, 753, 753, 753, 753, 794, 335, 809, 337, 389, 337, 375, 769, 770, 771, 771, 772, 772, 350, 775, 775, 301, 100, 100, 775, 775, 775, 100, 775, 775, 775, 775, 775, 775, 775, 292, 783, 359, 787, 787, 787, 147, 1032, 793, 416, 615, 798, 799, 728, 753, 1032, 804, 1032, 805, 805, 806, 758, 808, 808, 443, 809, 809, 809, 809, 809, 809, 809, 810, 810, 810, 575, 810, 813, 517, 6, 1032, 427, 824, 826, 377, 1032, 377, 377, 826, 827, 393, 828, 508, 236, 236, 830, 830, 830, 830, 830, 830, 830, 830, 830, 830, 831, 1032, 834, 834, 427, 427, 427, 840, 640, 427, 841, 846, 329, 847, 847, 847, 808, 847, 517, 216, 847, 49, 785, 785, 1032, 853, 853, 853, 853, 853, 853, 853, 355, 857, 858, 860, 861, 706, 863, 864, 864, 130, 864, 427, 146, 861, 865, 964, 289, 868, 252, 513, 706, 874, 875, 577, 876, 245, 877, 877, 877, 877, 878, 878, 878, 165, 570, 886, 888, 289, 289, 878, 893, 893, 415, 895, 896, 896, 896, 896, 896, 896, 896, 896, 896, 896, 896, 896, 896, 734, 896, 328, 1035, 764, 775, 903, 904, 904, 1032, 906, 466, 910, 1032, 994, 352, 352, 352, 352, 1032, 1032, 1035, 1032, 927, 928, 369, 1032, 1032, 1035, 933, 933, 933, 461, 461, 461, 937, 937, 937, 937, 937, 937, 937, 937, 937, 937, 937, 937, 937, 937, 937, 937, 937, 1032, 355, 355, 1032, 1032, 642, 355, 355, 949, 949, 949, 949, 949, 949, 949, 949, 949, 949, 949, 949, 949, 949, 949, 949, 949, 949, 949, 949, 949, 949, 949, 949, 949, 949, 949, 949, 949, 949, 949, 949, 949, 949, 949, 949, 949, 949, 949, 949, 949, 949, 949, 949, 949, 949, 949, 949, 949, 949, 949, 949, 949, 949, 949, 949, 949, 949, 949, 949, 949, 949, 949, 949, 949, 949, 949, 949, 949, 949, 949, 949, 949, 949, 949, 949, 949, 949, 949, 949, 949, 949, 949, 949, 949, 949, 949, 949, 949, 949, 949, 949, 949, 949, 949, 949, 949, 949, 949, 949, 949, 949, 949, 949, 949, 949, 949, 949, 949, 949, 949, 949, 949, 949, 949, 949, 949, 949, 949, 949, 949, 949, 949, 949, 949, 949, 949, 949, 949, 949, 949, 949, 949, 949, 949, 949, 949, 949, 949, 949, 949, 949, 949, 949, 949, 949, 949, 949, 949, 949, 949, 949, 949, 949, 949, 949, 949, 949, 949, 949, 949, 949, 949, 949, 949, 949, 949, 949, 949, 949, 949, 949, 949, 949, 949, 949, 949, 949, 949, 949, 949, 949, 949, 949, 949, 949, 949, 949, 949, 949, 949, 949, 949, 949, 949, 949, 949, 949, 949, 949, 949, 949, 949, 949, 949, 949, 949, 949, 949, 949, 949, 949, 949, 949, 949, 949, 949, 949, 949, 949, 949, 949, 961, 1035, 1032, 214, 214, 949, 949, 950, 950, 950, 950, 950, 950, 950, 950, 952, 952, 952, 952, 355, 355, 1032, 642, 642, 369, 352, 961, 1032, 214, 214, 214, 925, 355, 355, 355, 355, 251, 968, 1032, 974, 974, 976, 976, 976, 977, 1032, 1032, 1032, 983, 983, 1032, 256, 1035, 1032, 355, 355, 962, 1032, 1032, 1011, 355, 355, 1032, 1035, 355, 1023, 214, 355, 355, 355, 1028, 1028, 1028, 1028, 1028, 1029, 1029, 1032, 1035]\n",
            "[0, 2, 2, 2, 2, 3, 4, 5, 5, 7, 8, 8, 8, 8, 8, 8, 8, 8, 8, 8, 8, 8, 8, 9, 10, 14, 16, 18, 19, 20, 21, 21, 22, 22, 22, 25, 27, 27, 27, 28, 28, 29, 30, 30, 30, 31, 31, 31, 32, 34, 34, 36, 37, 37, 37, 37, 37, 37, 37, 37, 37, 37, 37, 37, 37, 37, 37, 37, 37, 37, 38, 40, 41, 42, 42, 44, 44, 45, 47, 49, 49, 49, 49, 49, 49, 49, 49, 49, 49, 49, 49, 49, 49, 49, 49, 49, 49, 49, 49, 49, 49, 49, 49, 49, 49, 49, 50, 53, 53, 53, 53, 53, 58, 59, 60, 61, 61, 62, 65, 70, 70, 71, 71, 71, 71, 71, 74, 76, 76, 76, 77, 77, 77, 79, 79, 79, 79, 79, 79, 79, 79, 79, 79, 79, 79, 79, 79, 79, 79, 79, 79, 79, 79, 79, 79, 79, 79, 79, 79, 79, 79, 79, 79, 79, 79, 79, 79, 79, 79, 79, 79, 79, 79, 79, 79, 79, 79, 79, 79, 79, 79, 79, 79, 79, 79, 79, 79, 79, 79, 79, 79, 79, 79, 79, 79, 79, 79, 79, 79, 79, 79, 79, 79, 79, 79, 79, 79, 79, 79, 79, 80, 80, 80, 80, 80, 80, 80, 80, 80, 80, 80, 80, 80, 80, 80, 81, 82, 83, 88, 88, 89, 89, 89, 89, 90, 90, 91, 92, 92, 92, 92, 93, 94, 94, 94, 94, 94, 94, 94, 94, 94, 94, 94, 94, 94, 94, 94, 94, 94, 94, 94, 96, 96, 96, 96, 97, 98, 98, 98, 98, 99, 100, 100, 100, 100, 100, 100, 100, 100, 100, 100, 100, 100, 100, 100, 100, 100, 100, 100, 100, 100, 100, 100, 101, 102, 103, 103, 105, 107, 107, 107, 108, 108, 108, 108, 108, 109, 110, 111, 111, 111, 111, 111, 111, 111, 111, 111, 111, 111, 111, 111, 111, 111, 111, 111, 111, 111, 111, 111, 111, 114, 117, 117, 119, 120, 120, 120, 120, 122, 122, 125, 125, 125, 125, 125, 125, 125, 125, 125, 125, 125, 125, 125, 125, 125, 125, 125, 125, 125, 125, 125, 125, 125, 125, 125, 125, 125, 125, 125, 127, 127, 129, 129, 129, 129, 130, 130, 131, 132, 134, 135, 135, 135, 138, 139, 139, 141, 142, 142, 142, 144, 145, 146, 146, 150, 150, 151, 151, 153, 157, 157, 158, 158, 163, 165, 165, 166, 166, 166, 166, 166, 166, 166, 168, 169, 170, 171, 172, 172, 172, 172, 172, 172, 172, 172, 172, 172, 172, 172, 172, 173, 173, 173, 180, 180, 180, 182, 182, 182, 182, 182, 182, 182, 182, 182, 182, 182, 182, 182, 182, 182, 182, 182, 182, 182, 183, 183, 183, 183, 183, 183, 183, 183, 183, 183, 183, 183, 183, 183, 183, 183, 183, 183, 183, 183, 184, 184, 184, 185, 187, 187, 187, 187, 187, 187, 187, 187, 189, 189, 189, 189, 190, 190, 190, 190, 190, 190, 190, 190, 190, 190, 190, 190, 190, 193, 193, 193, 197, 197, 197, 197, 197, 197, 197, 200, 202, 204, 205, 205, 205, 205, 209, 210, 210, 210, 210, 210, 210, 210, 211, 214, 214, 214, 214, 214, 214, 214, 214, 214, 214, 214, 214, 214, 214, 214, 214, 214, 214, 214, 214, 214, 214, 214, 214, 214, 214, 216, 216, 218, 218, 218, 218, 220, 220, 220, 220, 220, 220, 220, 222, 223, 223, 224, 226, 226, 227, 228, 228, 228, 228, 228, 228, 228, 228, 228, 228, 228, 228, 228, 228, 228, 228, 228, 228, 228, 228, 228, 228, 228, 228, 228, 229, 231, 234, 234, 234, 234, 235, 236, 236, 236, 236, 238, 238, 238, 238, 238, 239, 239, 240, 240, 241, 243, 243, 243, 243, 243, 243, 243, 243, 243, 243, 243, 243, 243, 243, 243, 244, 245, 245, 245, 245, 245, 245, 245, 245, 245, 245, 245, 245, 245, 245, 245, 245, 245, 246, 246, 246, 246, 246, 246, 246, 246, 247, 249, 251, 254, 254, 254, 254, 254, 259, 260, 260, 260, 260, 261, 262, 262, 264, 265, 265, 265, 265, 265, 265, 265, 265, 265, 265, 265, 265, 265, 265, 265, 265, 265, 265, 265, 265, 265, 265, 265, 265, 265, 265, 265, 265, 265, 265, 265, 265, 265, 265, 265, 265, 265, 265, 265, 265, 265, 265, 265, 265, 265, 265, 265, 265, 265, 265, 266, 268, 268, 268, 268, 268, 269, 269, 269, 270, 271, 272, 276, 276, 277, 277, 277, 279, 280, 280, 281, 281, 281, 281, 281, 282, 283, 286, 288, 289, 289, 289, 289, 289, 289, 289, 289, 289, 289, 289, 289, 289, 289, 289, 289, 289, 289, 289, 289, 289, 289, 289, 289, 289, 289, 289, 289, 289, 289, 289, 289, 289, 289, 289, 289, 289, 289, 289, 289, 289, 289, 289, 289, 289, 289, 289, 289, 289, 289, 289, 289, 289, 289, 289, 289, 290, 291, 293, 293, 294, 294, 295, 298, 298, 299, 299, 300, 300, 301, 301, 301, 301, 301, 302, 304, 304, 308, 309, 309, 309, 309, 309, 309, 309, 309, 309, 309, 309, 309, 315, 317, 317, 318, 318, 318, 318, 318, 318, 318, 318, 318, 318, 318, 320, 320, 321, 321, 323, 323, 324, 325, 325, 325, 325, 325, 325, 325, 325, 325, 325, 325, 325, 325, 325, 325, 325, 325, 325, 325, 325, 325, 325, 325, 325, 325, 325, 325, 325, 325, 325, 325, 325, 325, 325, 326, 326, 326, 327, 328, 329, 330, 332, 332, 332, 333, 334, 334, 335, 336, 336, 337, 337, 337, 337, 337, 337, 337, 337, 338, 338, 338, 341, 343, 343, 343, 343, 343, 343, 344, 345, 346, 347, 350, 351, 352, 352, 355, 357, 359, 359, 359, 359, 359, 359, 359, 359, 359, 360, 360, 360, 360, 363, 363, 363, 364, 364, 364, 364, 364, 364, 364, 364, 365, 367, 374, 374, 376, 380, 384, 386, 386, 387, 388, 391, 391, 391, 392, 394, 394, 396, 396, 396, 397, 400, 402, 402, 402, 402, 402, 402, 402, 402, 403, 405, 407, 408, 408, 408, 408, 408, 408, 408, 410, 413, 415, 415, 415, 416, 418, 418, 419, 419, 419, 419, 419, 419, 419, 419, 419, 419, 419, 419, 419, 419, 419, 419, 419, 419, 419, 419, 419, 419, 421, 424, 424, 424, 426, 426, 426, 426, 426, 426, 426, 427, 427, 427, 427, 427, 427, 427, 427, 427, 427, 427, 427, 427, 427, 427, 427, 427, 427, 427, 427, 427, 427, 427, 427, 427, 427, 427, 427, 428, 428, 428, 430, 432, 433, 434, 435, 435, 435, 435, 438, 440, 441, 441, 443, 443, 444, 444, 444, 444, 444, 444, 446, 448, 453, 455, 455, 455, 455, 455, 455, 455, 455, 455, 455, 455, 455, 455, 455, 455, 455, 455, 456, 460, 461, 462, 465, 469, 470, 470, 473, 473, 473, 474, 474, 475, 475, 475, 475, 475, 475, 475, 476, 476, 476, 477, 479, 479, 481, 482, 483, 486, 486, 487, 487, 488, 489, 489, 491, 491, 491, 491, 491, 491, 491, 491, 491, 491, 491, 491, 491, 491, 492, 492, 492, 493, 495, 495, 495, 495, 496, 497, 499, 499, 499, 505, 505, 506, 507, 507, 509, 509, 514, 515, 516, 516, 516, 517, 517, 517, 517, 517, 517, 517, 520, 521, 521, 522, 524, 524, 524, 527, 529, 530, 530, 530, 530, 530, 530, 530, 530, 530, 531, 531, 535, 536, 536, 537, 538, 540, 541, 541, 541, 542, 543, 543, 544, 545, 545, 545, 545, 546, 548, 548, 548, 548, 548, 548, 548, 548, 548, 548, 548, 549, 549, 550, 554, 561, 561, 565, 566, 567, 569, 571, 572, 575, 577, 577, 577, 577, 577, 578, 578, 579, 579, 579, 579, 584, 586, 588, 590, 590, 590, 590, 591, 591, 591, 591, 592, 592, 592, 592, 592, 594, 594, 595, 595, 595, 596, 597, 597, 597, 598, 598, 598, 604, 606, 606, 607, 608, 609, 610, 610, 610, 610, 610, 610, 610, 610, 611, 613, 614, 614, 614, 614, 614, 614, 614, 614, 614, 614, 614, 617, 619, 619, 619, 623, 623, 623, 623, 624, 624, 625, 628, 633, 633, 633, 635, 637, 638, 640, 644, 644, 644, 644, 644, 644, 646, 646, 646, 646, 646, 646, 646, 646, 648, 648, 648, 651, 652, 652, 652, 652, 652, 652, 652, 652, 652, 652, 654, 655, 659, 659, 659, 659, 660, 662, 662, 662, 662, 662, 662, 662, 662, 663, 663, 663, 664, 664, 666, 666, 669, 674, 677, 680, 681, 682, 683, 686, 686, 686, 686, 686, 687, 689, 693, 693, 694, 698, 700, 700, 700, 701, 701, 702, 702, 702, 702, 702, 703, 703, 703, 704, 704, 704, 705, 705, 707, 707, 710, 710, 710, 711, 711, 711, 711, 712, 714, 714, 714, 715, 715, 716, 717, 718, 723, 727, 729, 730, 731, 733, 735, 738, 739, 741, 741, 741, 741, 741, 741, 745, 745, 746, 746, 746, 746, 746, 746, 746, 746, 746, 749, 752, 753, 753, 753, 753, 756, 761, 763, 765, 765, 766, 767, 769, 770, 771, 771, 772, 773, 774, 775, 775, 775, 775, 775, 775, 775, 775, 775, 775, 775, 775, 775, 775, 775, 775, 782, 783, 784, 787, 787, 787, 788, 790, 793, 794, 794, 798, 799, 800, 803, 803, 804, 804, 805, 805, 806, 807, 808, 808, 809, 809, 809, 809, 809, 809, 809, 809, 810, 810, 810, 810, 810, 813, 813, 815, 815, 816, 824, 826, 826, 826, 826, 826, 826, 827, 827, 828, 829, 830, 830, 830, 830, 830, 830, 830, 830, 830, 830, 830, 830, 831, 834, 834, 834, 840, 840, 840, 840, 840, 841, 841, 844, 846, 847, 847, 847, 847, 847, 847, 847, 847, 847, 852, 852, 852, 853, 853, 853, 853, 853, 853, 853, 853, 857, 858, 860, 861, 861, 863, 864, 864, 864, 864, 864, 864, 865, 865, 865, 867, 868, 871, 873, 874, 874, 875, 876, 876, 876, 877, 877, 877, 877, 878, 878, 878, 882, 883, 886, 888, 889, 889, 892, 893, 893, 894, 895, 896, 896, 896, 896, 896, 896, 896, 896, 896, 896, 896, 896, 896, 896, 896, 898, 901, 902, 903, 903, 904, 904, 905, 906, 908, 910, 916, 917, 919, 919, 919, 919, 920, 923, 925, 926, 927, 928, 929, 930, 931, 932, 933, 933, 933, 936, 936, 936, 937, 937, 937, 937, 937, 937, 937, 937, 937, 937, 937, 937, 937, 937, 937, 937, 937, 939, 941, 941, 944, 947, 948, 948, 948, 949, 949, 949, 949, 949, 949, 949, 949, 949, 949, 949, 949, 949, 949, 949, 949, 949, 949, 949, 949, 949, 949, 949, 949, 949, 949, 949, 949, 949, 949, 949, 949, 949, 949, 949, 949, 949, 949, 949, 949, 949, 949, 949, 949, 949, 949, 949, 949, 949, 949, 949, 949, 949, 949, 949, 949, 949, 949, 949, 949, 949, 949, 949, 949, 949, 949, 949, 949, 949, 949, 949, 949, 949, 949, 949, 949, 949, 949, 949, 949, 949, 949, 949, 949, 949, 949, 949, 949, 949, 949, 949, 949, 949, 949, 949, 949, 949, 949, 949, 949, 949, 949, 949, 949, 949, 949, 949, 949, 949, 949, 949, 949, 949, 949, 949, 949, 949, 949, 949, 949, 949, 949, 949, 949, 949, 949, 949, 949, 949, 949, 949, 949, 949, 949, 949, 949, 949, 949, 949, 949, 949, 949, 949, 949, 949, 949, 949, 949, 949, 949, 949, 949, 949, 949, 949, 949, 949, 949, 949, 949, 949, 949, 949, 949, 949, 949, 949, 949, 949, 949, 949, 949, 949, 949, 949, 949, 949, 949, 949, 949, 949, 949, 949, 949, 949, 949, 949, 949, 949, 949, 949, 949, 949, 949, 949, 949, 949, 949, 949, 949, 949, 949, 949, 949, 949, 949, 949, 949, 949, 949, 949, 949, 949, 949, 949, 949, 949, 949, 949, 949, 949, 949, 949, 949, 949, 949, 949, 949, 949, 950, 950, 950, 950, 950, 950, 950, 950, 952, 952, 952, 952, 955, 955, 955, 956, 956, 957, 958, 961, 963, 964, 964, 964, 966, 967, 967, 967, 967, 967, 968, 969, 974, 974, 976, 976, 976, 977, 980, 983, 983, 983, 983, 984, 994, 994, 1000, 1001, 1001, 1002, 1006, 1008, 1011, 1017, 1019, 1020, 1020, 1022, 1023, 1026, 1026, 1026, 1026, 1028, 1028, 1028, 1028, 1028, 1029, 1029, 1030, 1035]\n"
          ],
          "name": "stdout"
        }
      ]
    },
    {
      "cell_type": "code",
      "metadata": {
        "id": "XIC4zufnMxtq",
        "colab_type": "code",
        "colab": {
          "base_uri": "https://localhost:8080/",
          "height": 51
        },
        "outputId": "92a9d458-05cf-417e-9d7e-59f3114c177e"
      },
      "source": [
        "correct_num = 0\n",
        "\n",
        "for i in range(0, 2034):\n",
        "  if predict_list[i] == standard_list[i]:\n",
        "    correct_num = correct_num+1\n",
        "  else:\n",
        "    pass\n",
        "print(correct_num)\n",
        "\n",
        "predict_accuracy = correct_num/len(predict_list)\n",
        "print(predict_accuracy)"
      ],
      "execution_count": 51,
      "outputs": [
        {
          "output_type": "stream",
          "text": [
            "1232\n",
            "0.6057030481809242\n"
          ],
          "name": "stdout"
        }
      ]
    },
    {
      "cell_type": "code",
      "metadata": {
        "id": "zlKMHp1CIaRJ",
        "colab_type": "code",
        "colab": {}
      },
      "source": [
        ""
      ],
      "execution_count": 0,
      "outputs": []
    }
  ]
}