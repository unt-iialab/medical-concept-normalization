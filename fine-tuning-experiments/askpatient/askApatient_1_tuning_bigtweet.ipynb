{
  "nbformat": 4,
  "nbformat_minor": 0,
  "metadata": {
    "colab": {
      "name": "askApatient_1_tuning_bigtweet.ipynb",
      "provenance": [],
      "collapsed_sections": [],
      "toc_visible": true,
      "include_colab_link": true
    },
    "kernelspec": {
      "name": "python3",
      "display_name": "Python 3"
    },
    "accelerator": "TPU"
  },
  "cells": [
    {
      "cell_type": "markdown",
      "metadata": {
        "id": "view-in-github",
        "colab_type": "text"
      },
      "source": [
        "<a href=\"https://colab.research.google.com/github/unt-iialab/medical-concept-normalization/blob/master/fine-tuning-experiments/askpatient/askApatient_1_tuning_bigtweet.ipynb\" target=\"_parent\"><img src=\"https://colab.research.google.com/assets/colab-badge.svg\" alt=\"Open In Colab\"/></a>"
      ]
    },
    {
      "cell_type": "code",
      "metadata": {
        "id": "adSi6i2-dWxy",
        "colab_type": "code",
        "colab": {}
      },
      "source": [
        "import os"
      ],
      "execution_count": 0,
      "outputs": []
    },
    {
      "cell_type": "code",
      "metadata": {
        "id": "E7xYCRGPjd9B",
        "colab_type": "code",
        "colab": {}
      },
      "source": [
        "base_dir = 'medical-concept-normalization'"
      ],
      "execution_count": 0,
      "outputs": []
    },
    {
      "cell_type": "code",
      "metadata": {
        "id": "yvIW3aUDjYNS",
        "colab_type": "code",
        "colab": {}
      },
      "source": [
        "os.mkdir(base_dir)"
      ],
      "execution_count": 0,
      "outputs": []
    },
    {
      "cell_type": "code",
      "metadata": {
        "id": "es-FFLlfk6SG",
        "colab_type": "code",
        "colab": {}
      },
      "source": [
        "os.mkdir('medical-concept-normalization/data_collection')"
      ],
      "execution_count": 0,
      "outputs": []
    },
    {
      "cell_type": "markdown",
      "metadata": {
        "id": "0R-Guw_VoJXm",
        "colab_type": "text"
      },
      "source": [
        "**Install fastai and clone the fastai for text classification**\n",
        "\n"
      ]
    },
    {
      "cell_type": "code",
      "metadata": {
        "id": "QVZa3Z0PmHFH",
        "colab_type": "code",
        "outputId": "9c29f01c-6c13-46a9-c61d-1395f6a3498b",
        "colab": {
          "base_uri": "https://localhost:8080/",
          "height": 104
        }
      },
      "source": [
        "!curl https://course-v3.fast.ai/setup/colab | bash"
      ],
      "execution_count": 5,
      "outputs": [
        {
          "output_type": "stream",
          "text": [
            "  % Total    % Received % Xferd  Average Speed   Time    Time     Time  Current\n",
            "                                 Dload  Upload   Total   Spent    Left  Speed\n",
            "100   287  100   287    0     0    982      0 --:--:-- --:--:-- --:--:--   982\n",
            "bash: line 1: syntax error near unexpected token `newline'\n",
            "bash: line 1: `<!DOCTYPE HTML PUBLIC \"-//IETF//DTD HTML 2.0//EN\">'\n"
          ],
          "name": "stdout"
        }
      ]
    },
    {
      "cell_type": "code",
      "metadata": {
        "id": "_FBFFEBrmJC0",
        "colab_type": "code",
        "outputId": "b62e46a7-6fcf-4b8e-fe44-44cc3293bd71",
        "colab": {
          "base_uri": "https://localhost:8080/",
          "height": 87
        }
      },
      "source": [
        "!git clone https://github.com/wshuyi/demo-nlp-classification-fastai.git"
      ],
      "execution_count": 6,
      "outputs": [
        {
          "output_type": "stream",
          "text": [
            "Cloning into 'demo-nlp-classification-fastai'...\n",
            "remote: Enumerating objects: 9, done.\u001b[K\n",
            "remote: Total 9 (delta 0), reused 0 (delta 0), pack-reused 9\u001b[K\n",
            "Unpacking objects: 100% (9/9), done.\n"
          ],
          "name": "stdout"
        }
      ]
    },
    {
      "cell_type": "code",
      "metadata": {
        "id": "66zfh_JqmWMU",
        "colab_type": "code",
        "colab": {}
      },
      "source": [
        "from fastai import *\n",
        "from fastai.text import *"
      ],
      "execution_count": 0,
      "outputs": []
    },
    {
      "cell_type": "markdown",
      "metadata": {
        "id": "mNIw-yALdBU9",
        "colab_type": "text"
      },
      "source": [
        "**Set the path of the data collections**"
      ]
    },
    {
      "cell_type": "code",
      "metadata": {
        "id": "pzH7VMh4mqCL",
        "colab_type": "code",
        "colab": {}
      },
      "source": [
        "path = Path('medical-concept-normalization/data_collection')"
      ],
      "execution_count": 0,
      "outputs": []
    },
    {
      "cell_type": "code",
      "metadata": {
        "id": "b8fjI6yyn4aS",
        "colab_type": "code",
        "colab": {}
      },
      "source": [
        "# training data set\n",
        "\n",
        "train_csv = path/'AskAPatient.fold-1.train.csv'\n",
        "train = pd.read_csv(train_csv, header=None)\n",
        "#train.head()\n",
        "#train.info()"
      ],
      "execution_count": 0,
      "outputs": []
    },
    {
      "cell_type": "code",
      "metadata": {
        "id": "Hmlr-bAorfHd",
        "colab_type": "code",
        "outputId": "bcb09c07-f6c4-4241-b05d-6da1479f0e1f",
        "colab": {
          "base_uri": "https://localhost:8080/",
          "height": 202
        }
      },
      "source": [
        "# validating data set\n",
        "\n",
        "valid = pd.read_csv(path/\"AskAPatient.fold-1.validation.csv\",header=None)\n",
        "valid.head()"
      ],
      "execution_count": 11,
      "outputs": [
        {
          "output_type": "execute_result",
          "data": {
            "text/html": [
              "<div>\n",
              "<style scoped>\n",
              "    .dataframe tbody tr th:only-of-type {\n",
              "        vertical-align: middle;\n",
              "    }\n",
              "\n",
              "    .dataframe tbody tr th {\n",
              "        vertical-align: top;\n",
              "    }\n",
              "\n",
              "    .dataframe thead th {\n",
              "        text-align: right;\n",
              "    }\n",
              "</style>\n",
              "<table border=\"1\" class=\"dataframe\">\n",
              "  <thead>\n",
              "    <tr style=\"text-align: right;\">\n",
              "      <th></th>\n",
              "      <th>0</th>\n",
              "      <th>1</th>\n",
              "    </tr>\n",
              "  </thead>\n",
              "  <tbody>\n",
              "    <tr>\n",
              "      <th>0</th>\n",
              "      <td>0</td>\n",
              "      <td>fear</td>\n",
              "    </tr>\n",
              "    <tr>\n",
              "      <th>1</th>\n",
              "      <td>2</td>\n",
              "      <td>heels hurt</td>\n",
              "    </tr>\n",
              "    <tr>\n",
              "      <th>2</th>\n",
              "      <td>4</td>\n",
              "      <td>Discoloration of skin [blotchy] on the neck</td>\n",
              "    </tr>\n",
              "    <tr>\n",
              "      <th>3</th>\n",
              "      <td>6</td>\n",
              "      <td>diastolic dysfunction</td>\n",
              "    </tr>\n",
              "    <tr>\n",
              "      <th>4</th>\n",
              "      <td>8</td>\n",
              "      <td>arthritis</td>\n",
              "    </tr>\n",
              "  </tbody>\n",
              "</table>\n",
              "</div>"
            ],
            "text/plain": [
              "   0                                            1\n",
              "0  0                                         fear\n",
              "1  2                                   heels hurt\n",
              "2  4  Discoloration of skin [blotchy] on the neck\n",
              "3  6                        diastolic dysfunction\n",
              "4  8                                    arthritis"
            ]
          },
          "metadata": {
            "tags": []
          },
          "execution_count": 11
        }
      ]
    },
    {
      "cell_type": "code",
      "metadata": {
        "id": "cOza9dfSsBud",
        "colab_type": "code",
        "outputId": "cf8a3414-f2cd-4f00-bb88-63356d897819",
        "colab": {
          "base_uri": "https://localhost:8080/",
          "height": 202
        }
      },
      "source": [
        "# testing data set\n",
        "\n",
        "test = pd.read_csv(path/\"AskAPatient.fold-1.test.csv\",header=None)\n",
        "test.head()"
      ],
      "execution_count": 12,
      "outputs": [
        {
          "output_type": "execute_result",
          "data": {
            "text/html": [
              "<div>\n",
              "<style scoped>\n",
              "    .dataframe tbody tr th:only-of-type {\n",
              "        vertical-align: middle;\n",
              "    }\n",
              "\n",
              "    .dataframe tbody tr th {\n",
              "        vertical-align: top;\n",
              "    }\n",
              "\n",
              "    .dataframe thead th {\n",
              "        text-align: right;\n",
              "    }\n",
              "</style>\n",
              "<table border=\"1\" class=\"dataframe\">\n",
              "  <thead>\n",
              "    <tr style=\"text-align: right;\">\n",
              "      <th></th>\n",
              "      <th>0</th>\n",
              "      <th>1</th>\n",
              "    </tr>\n",
              "  </thead>\n",
              "  <tbody>\n",
              "    <tr>\n",
              "      <th>0</th>\n",
              "      <td>2</td>\n",
              "      <td>heel pain</td>\n",
              "    </tr>\n",
              "    <tr>\n",
              "      <th>1</th>\n",
              "      <td>2</td>\n",
              "      <td>right heel became painful</td>\n",
              "    </tr>\n",
              "    <tr>\n",
              "      <th>2</th>\n",
              "      <td>8</td>\n",
              "      <td>Arthritis</td>\n",
              "    </tr>\n",
              "    <tr>\n",
              "      <th>3</th>\n",
              "      <td>8</td>\n",
              "      <td>arthristis</td>\n",
              "    </tr>\n",
              "    <tr>\n",
              "      <th>4</th>\n",
              "      <td>8</td>\n",
              "      <td>arthritis</td>\n",
              "    </tr>\n",
              "  </tbody>\n",
              "</table>\n",
              "</div>"
            ],
            "text/plain": [
              "   0                          1\n",
              "0  2                  heel pain\n",
              "1  2  right heel became painful\n",
              "2  8                  Arthritis\n",
              "3  8                 arthristis\n",
              "4  8                  arthritis"
            ]
          },
          "metadata": {
            "tags": []
          },
          "execution_count": 12
        }
      ]
    },
    {
      "cell_type": "code",
      "metadata": {
        "id": "Vo-YNvVYoaH6",
        "colab_type": "code",
        "colab": {}
      },
      "source": [
        "# Creating DataBunch for language modelling\n",
        "\n",
        "data_lm = TextLMDataBunch.from_csv(path, 'fine-tuning_language_model_bigtweet_data.csv')"
      ],
      "execution_count": 0,
      "outputs": []
    },
    {
      "cell_type": "code",
      "metadata": {
        "id": "1ScY9afDsnvE",
        "colab_type": "code",
        "colab": {}
      },
      "source": [
        "# Creating DataBunch for classification\n",
        "\n",
        "# data_clas = TextClasDataBunch.from_df(path, train, valid, test, vocab=data_lm.train_ds.vocab, bs=128)"
      ],
      "execution_count": 0,
      "outputs": []
    },
    {
      "cell_type": "code",
      "metadata": {
        "id": "gzrSdQcvey9p",
        "colab_type": "code",
        "colab": {}
      },
      "source": [
        "data_clas = TextClasDataBunch.from_df(path, train, valid, vocab=data_lm.train_ds.vocab, bs=128)"
      ],
      "execution_count": 0,
      "outputs": []
    },
    {
      "cell_type": "code",
      "metadata": {
        "id": "MD27Tf0Ke3ou",
        "colab_type": "code",
        "colab": {}
      },
      "source": [
        "data_clas.add_test(test,label=0)\n"
      ],
      "execution_count": 0,
      "outputs": []
    },
    {
      "cell_type": "code",
      "metadata": {
        "id": "-dpjnk_rstwk",
        "colab_type": "code",
        "outputId": "16f1031f-0567-40b7-ab52-30f066977d95",
        "colab": {
          "base_uri": "https://localhost:8080/",
          "height": 72
        }
      },
      "source": [
        "data_lm.save()\n",
        "data_clas.save()"
      ],
      "execution_count": 17,
      "outputs": [
        {
          "output_type": "stream",
          "text": [
            "/usr/local/lib/python3.6/dist-packages/torch/serialization.py:292: UserWarning: Couldn't retrieve source code for container of type CrossEntropyLoss. It won't be checked for correctness upon loading.\n",
            "  \"type \" + obj.__name__ + \". It won't be checked \"\n"
          ],
          "name": "stderr"
        }
      ]
    },
    {
      "cell_type": "code",
      "metadata": {
        "id": "4OkiJa36sw5s",
        "colab_type": "code",
        "outputId": "8cc479fc-ef69-4d0f-d28b-85bd91662a85",
        "colab": {
          "base_uri": "https://localhost:8080/",
          "height": 1000
        }
      },
      "source": [
        "data_lm.train_ds.vocab.itos"
      ],
      "execution_count": 18,
      "outputs": [
        {
          "output_type": "execute_result",
          "data": {
            "text/plain": [
              "['xxunk',\n",
              " 'xxpad',\n",
              " 'xxbos',\n",
              " 'xxeos',\n",
              " 'xxfld',\n",
              " 'xxmaj',\n",
              " 'xxup',\n",
              " 'xxrep',\n",
              " 'xxwrep',\n",
              " 'rt',\n",
              " 'to',\n",
              " 'the',\n",
              " 'for',\n",
              " 'a',\n",
              " 'in',\n",
              " 'you',\n",
              " 'is',\n",
              " 'of',\n",
              " 'on',\n",
              " 'disease',\n",
              " 'and',\n",
              " 'amp',\n",
              " 'i',\n",
              " 'gluten',\n",
              " 'with',\n",
              " 'free',\n",
              " 'your',\n",
              " 'it',\n",
              " 'my',\n",
              " 'have',\n",
              " 'this',\n",
              " 'new',\n",
              " 'are',\n",
              " 'glutenfree',\n",
              " 'about',\n",
              " 'our',\n",
              " 'what',\n",
              " 'do',\n",
              " 'nt',\n",
              " 'celiac',\n",
              " 'from',\n",
              " 'be',\n",
              " 'out',\n",
              " 'now',\n",
              " 'not',\n",
              " 'at',\n",
              " 'or',\n",
              " 'that',\n",
              " 'how',\n",
              " 'we',\n",
              " 'can',\n",
              " 'via',\n",
              " 'food',\n",
              " 'its',\n",
              " 'right',\n",
              " 'tip',\n",
              " 'more',\n",
              " 'use',\n",
              " 'if',\n",
              " 'all',\n",
              " 'dblclick',\n",
              " 'pic',\n",
              " 'products',\n",
              " 'w',\n",
              " 'diet',\n",
              " 'as',\n",
              " 'up',\n",
              " 'why',\n",
              " 'so',\n",
              " 'know',\n",
              " 'me',\n",
              " 'check',\n",
              " 'review',\n",
              " 'here',\n",
              " 'love',\n",
              " 'by',\n",
              " 'get',\n",
              " 'just',\n",
              " 're',\n",
              " 'but',\n",
              " 'thanks',\n",
              " 'm',\n",
              " 'help',\n",
              " 'an',\n",
              " 'will',\n",
              " 'great',\n",
              " 'gfb',\n",
              " 'was',\n",
              " 'could',\n",
              " 'posted',\n",
              " 'recipe',\n",
              " 'has',\n",
              " 'post',\n",
              " 'who',\n",
              " 's',\n",
              " 'may',\n",
              " '30',\n",
              " 'us',\n",
              " 'read',\n",
              " 'people',\n",
              " 'there',\n",
              " 'heres',\n",
              " 'some',\n",
              " 'jennieo',\n",
              " 'need',\n",
              " 'like',\n",
              " 'living',\n",
              " 'life',\n",
              " 'when',\n",
              " 'eat',\n",
              " 'make',\n",
              " 'archives',\n",
              " 'going',\n",
              " '\\r \\n ',\n",
              " 'test',\n",
              " 'intolerance',\n",
              " 'does',\n",
              " 'tips',\n",
              " 'did',\n",
              " 'news',\n",
              " 'chicken',\n",
              " 'think',\n",
              " 'today',\n",
              " '1',\n",
              " 'symptoms',\n",
              " 'time',\n",
              " 'big',\n",
              " 'they',\n",
              " 'day',\n",
              " 'no',\n",
              " 'good',\n",
              " 'should',\n",
              " 'those',\n",
              " 'share',\n",
              " '\\r \\n \\r \\n ',\n",
              " 'go',\n",
              " 'article',\n",
              " 'best',\n",
              " '2',\n",
              " 'one',\n",
              " 'awareness',\n",
              " 'pizza',\n",
              " 'eating',\n",
              " 'sensitivity',\n",
              " 'diagnosis',\n",
              " 'want',\n",
              " 'patients',\n",
              " 'ever',\n",
              " 'please',\n",
              " 'blog',\n",
              " 'see',\n",
              " 'happy',\n",
              " 'many',\n",
              " 'soup',\n",
              " 'take',\n",
              " 'gf',\n",
              " 'being',\n",
              " 'ca',\n",
              " '4',\n",
              " 'find',\n",
              " 'diagnosed',\n",
              " 'blood',\n",
              " 'safe',\n",
              " 'dr',\n",
              " 'cookbook',\n",
              " 'show',\n",
              " '2014',\n",
              " 'much',\n",
              " 'story',\n",
              " 'friends',\n",
              " 'well',\n",
              " 'only',\n",
              " '5',\n",
              " 'health',\n",
              " 'delicious',\n",
              " 'looking',\n",
              " 'any',\n",
              " 'try',\n",
              " 'easy',\n",
              " 'study',\n",
              " 'bread',\n",
              " 'thank',\n",
              " 'wheat',\n",
              " 'super',\n",
              " 'these',\n",
              " 'giveaway',\n",
              " 'week',\n",
              " 'chocolate',\n",
              " 'foods',\n",
              " 'autographed',\n",
              " 'got',\n",
              " 'others',\n",
              " 'linked',\n",
              " 'first',\n",
              " 'too',\n",
              " 'still',\n",
              " 'u',\n",
              " 'also',\n",
              " 'top',\n",
              " 'america',\n",
              " 'had',\n",
              " 'info',\n",
              " 'healthy',\n",
              " 'way',\n",
              " 'learn',\n",
              " 'years',\n",
              " 'quinoa',\n",
              " '10',\n",
              " 'bowl',\n",
              " 'interesting',\n",
              " 'been',\n",
              " 'year',\n",
              " 'child',\n",
              " 'would',\n",
              " 'feel',\n",
              " 'list',\n",
              " 'really',\n",
              " 'part',\n",
              " 'important',\n",
              " 'getting',\n",
              " 'made',\n",
              " 'over',\n",
              " 'kids',\n",
              " 'coeliac',\n",
              " 'page',\n",
              " 'interview',\n",
              " 'follow',\n",
              " 'book',\n",
              " 'recipes',\n",
              " 'death',\n",
              " 'ask',\n",
              " 'issues',\n",
              " 'diagnose',\n",
              " 'where',\n",
              " 'their',\n",
              " 'sunday',\n",
              " 've',\n",
              " 'convention',\n",
              " 'most',\n",
              " 'better',\n",
              " 'things',\n",
              " 'allergy',\n",
              " 'after',\n",
              " 'brain',\n",
              " 'then',\n",
              " 'friendly',\n",
              " 'even',\n",
              " 'cookies',\n",
              " 'ty',\n",
              " 'am',\n",
              " 'back',\n",
              " '3',\n",
              " 'link',\n",
              " 'live',\n",
              " 'join',\n",
              " 'special',\n",
              " 'hey',\n",
              " 'yes',\n",
              " 'start',\n",
              " 'breakfast',\n",
              " 'support',\n",
              " 'always',\n",
              " 'ok',\n",
              " 'hear',\n",
              " 'options',\n",
              " 'month',\n",
              " 'other',\n",
              " 'talk',\n",
              " 'reasons',\n",
              " 'menu',\n",
              " 'glutened',\n",
              " 'risk',\n",
              " 'might',\n",
              " 'breaking',\n",
              " '2013',\n",
              " 'very',\n",
              " 'cake',\n",
              " 'restaurants',\n",
              " 'anyone',\n",
              " 'coming',\n",
              " 'valentines',\n",
              " 'makes',\n",
              " 'were',\n",
              " 'them',\n",
              " 'awesome',\n",
              " 'which',\n",
              " 'flour',\n",
              " 'own',\n",
              " 'gfree',\n",
              " 'next',\n",
              " 'sentence',\n",
              " 'damage',\n",
              " 'fun',\n",
              " 'bakery',\n",
              " 'tested',\n",
              " 'pinterest',\n",
              " 'healthier',\n",
              " 'provide',\n",
              " 'come',\n",
              " 'world',\n",
              " 'latest',\n",
              " 'than',\n",
              " 'someone',\n",
              " 'long',\n",
              " 'market',\n",
              " 'allergies',\n",
              " 'because',\n",
              " 'off',\n",
              " 'never',\n",
              " 'experience',\n",
              " 'rice',\n",
              " 'last',\n",
              " 'cause',\n",
              " 'before',\n",
              " 'matters',\n",
              " 'medical',\n",
              " 'mt',\n",
              " 'her',\n",
              " 'community',\n",
              " 'look',\n",
              " 'girl',\n",
              " 'ideas',\n",
              " 'sure',\n",
              " 'expo',\n",
              " 'rise',\n",
              " 'few',\n",
              " 'understand',\n",
              " 'restaurant',\n",
              " 'testing',\n",
              " 'undiagnosed',\n",
              " '100',\n",
              " 'children',\n",
              " 'avoid',\n",
              " 'available',\n",
              " 'lets',\n",
              " 'oats',\n",
              " 'cook',\n",
              " 'pledge',\n",
              " 'sharing',\n",
              " 'type',\n",
              " 'wait',\n",
              " 'keep',\n",
              " 'must',\n",
              " 'having',\n",
              " 'meet',\n",
              " 'lifestyle',\n",
              " 'dinner',\n",
              " 'found',\n",
              " 'research',\n",
              " 'ways',\n",
              " 'making',\n",
              " 'bad',\n",
              " 'ur',\n",
              " 'problems',\n",
              " 'another',\n",
              " 'h',\n",
              " 'amazing',\n",
              " 'hours',\n",
              " 'camp',\n",
              " 'say',\n",
              " 'again',\n",
              " 'excited',\n",
              " 'non',\n",
              " 'grain',\n",
              " 'weeks',\n",
              " 'archive',\n",
              " 'weekend',\n",
              " 'll',\n",
              " 'needs',\n",
              " 'meals',\n",
              " 'listen',\n",
              " 'through',\n",
              " 'autoimmune',\n",
              " 'fad',\n",
              " 'beer',\n",
              " 'allergic',\n",
              " 'difficult',\n",
              " 'true',\n",
              " 'less',\n",
              " 'says',\n",
              " 'hope',\n",
              " 'series',\n",
              " 'down',\n",
              " 'between',\n",
              " '22',\n",
              " 'reading',\n",
              " 'd',\n",
              " 'spread',\n",
              " 'group',\n",
              " 'night',\n",
              " 'able',\n",
              " 'r',\n",
              " 'tonight',\n",
              " 'summer',\n",
              " 'favorite',\n",
              " 'place',\n",
              " 'call',\n",
              " 'radio',\n",
              " 'affects',\n",
              " 'serve',\n",
              " 'ago',\n",
              " 'chronic',\n",
              " 'doing',\n",
              " 'sufferers',\n",
              " 'gut',\n",
              " 'sauce',\n",
              " 'away',\n",
              " 'every',\n",
              " 'his',\n",
              " 'labeling',\n",
              " 'guide',\n",
              " '1st',\n",
              " 'snack',\n",
              " '6',\n",
              " 'shop',\n",
              " 'cookie',\n",
              " 'event',\n",
              " 'hip',\n",
              " 'tomorrow',\n",
              " 'without',\n",
              " 'two',\n",
              " 'full',\n",
              " 'such',\n",
              " 'work',\n",
              " 'wish',\n",
              " 'caused',\n",
              " 'tx',\n",
              " 'he',\n",
              " 'tests',\n",
              " 'forward',\n",
              " 'uk',\n",
              " 'order',\n",
              " 'sensitive',\n",
              " 'family',\n",
              " 'cheese',\n",
              " 'body',\n",
              " 'pls',\n",
              " 'featured',\n",
              " 'plant',\n",
              " 'author',\n",
              " 'affect',\n",
              " 'ready',\n",
              " 'common',\n",
              " 'finally',\n",
              " 'sweet',\n",
              " 'stop',\n",
              " 'almond',\n",
              " 'miss',\n",
              " 'wo',\n",
              " 'easier',\n",
              " 'yet',\n",
              " 'ill',\n",
              " 'crust',\n",
              " 'egg',\n",
              " '24',\n",
              " 'pasta',\n",
              " 'rant',\n",
              " 'enough',\n",
              " 'abt',\n",
              " 'win',\n",
              " 'issue',\n",
              " 'until',\n",
              " 'welcome',\n",
              " 'enjoy',\n",
              " 'sign',\n",
              " 'revolution',\n",
              " 'remember',\n",
              " 'retweet',\n",
              " 'days',\n",
              " 'dear',\n",
              " 'whole',\n",
              " 'fasano',\n",
              " 'done',\n",
              " 'intestinal',\n",
              " 'same',\n",
              " 'minutes',\n",
              " '20',\n",
              " 'tell',\n",
              " 'perfect',\n",
              " 'care',\n",
              " 'meal',\n",
              " 'journey',\n",
              " 'tired',\n",
              " 'donate',\n",
              " 'salad',\n",
              " 'home',\n",
              " 'sick',\n",
              " 'box',\n",
              " 'following',\n",
              " 'episode',\n",
              " 'diets',\n",
              " 'pudding',\n",
              " 'into',\n",
              " 'problem',\n",
              " '7',\n",
              " 'simplify',\n",
              " 'real',\n",
              " 'cd',\n",
              " 'gt',\n",
              " 'later',\n",
              " 'plan',\n",
              " 'beef',\n",
              " 'shirley',\n",
              " 'using',\n",
              " 'around',\n",
              " 'resources',\n",
              " 'extra',\n",
              " 'greens',\n",
              " 'hard',\n",
              " 'club',\n",
              " 'wrong',\n",
              " 'lunch',\n",
              " 'baking',\n",
              " 'pm',\n",
              " 'expert',\n",
              " 'heard',\n",
              " 'needed',\n",
              " 'yum',\n",
              " 'scout',\n",
              " 'high',\n",
              " 'biggest',\n",
              " 'stories',\n",
              " 'pretty',\n",
              " 'shares',\n",
              " 'looks',\n",
              " 'green',\n",
              " 'cool',\n",
              " 'providing',\n",
              " 'months',\n",
              " 'recent',\n",
              " 'idea',\n",
              " 'went',\n",
              " 'deal',\n",
              " 'vegan',\n",
              " 'relief',\n",
              " 'delish',\n",
              " 'boss',\n",
              " 'little',\n",
              " 'glad',\n",
              " 'thing',\n",
              " 'ruining',\n",
              " 'b12',\n",
              " 'talks',\n",
              " 'son',\n",
              " 'often',\n",
              " 'online',\n",
              " 'she',\n",
              " 'kitchen',\n",
              " 'easily',\n",
              " 'while',\n",
              " 'blogs',\n",
              " 'fracture',\n",
              " 'lost',\n",
              " 'planning',\n",
              " 'dating',\n",
              " 'articles',\n",
              " 'gluteneaters',\n",
              " 'checklist',\n",
              " 'give',\n",
              " 'increase',\n",
              " 'head',\n",
              " 'likely',\n",
              " 'tweet',\n",
              " 'baguette',\n",
              " 'dining',\n",
              " '25',\n",
              " 'cereal',\n",
              " 'questions',\n",
              " 'ingredients',\n",
              " 'difference',\n",
              " 'alternative',\n",
              " 'challenge',\n",
              " 'bet',\n",
              " 'tooth',\n",
              " 'hi',\n",
              " 'company',\n",
              " 'simple',\n",
              " 'potato',\n",
              " 'women',\n",
              " 'old',\n",
              " 'stomach',\n",
              " 'helps',\n",
              " 'let',\n",
              " 'travel',\n",
              " 'cafe',\n",
              " 'cure',\n",
              " 'against',\n",
              " 'dishes',\n",
              " 'advice',\n",
              " 'myths',\n",
              " 'open',\n",
              " 'roasted',\n",
              " 'offer',\n",
              " 'word',\n",
              " 'related',\n",
              " 'answer',\n",
              " 'stay',\n",
              " 'coconut',\n",
              " 'friend',\n",
              " 'dairy',\n",
              " 'courses',\n",
              " 'recommended',\n",
              " 'experts',\n",
              " 'tolerated',\n",
              " 'everyone',\n",
              " 'updates',\n",
              " 'hate',\n",
              " 'donuts',\n",
              " 'morning',\n",
              " 'sale',\n",
              " 'wow',\n",
              " 'both',\n",
              " 'prevalence',\n",
              " 'pain',\n",
              " 'nothing',\n",
              " 'tours',\n",
              " 'butter',\n",
              " 'forget',\n",
              " 'visit',\n",
              " 'video',\n",
              " 'doctors',\n",
              " 'consider',\n",
              " 'black',\n",
              " 'tried',\n",
              " 'chip',\n",
              " 'cooking',\n",
              " 'pack',\n",
              " 'rolls',\n",
              " '9',\n",
              " 'conference',\n",
              " 'since',\n",
              " 'feb',\n",
              " 'advocate',\n",
              " '7725691299',\n",
              " 'behind',\n",
              " 'london',\n",
              " 'blogger',\n",
              " 'turkey',\n",
              " 'nonceliac',\n",
              " 'results',\n",
              " 'choice',\n",
              " 'vs',\n",
              " 'protect',\n",
              " '49',\n",
              " 'happen',\n",
              " 'glyphosate',\n",
              " 'winter',\n",
              " 'samples',\n",
              " 'athletes',\n",
              " 'adrenal',\n",
              " 'men',\n",
              " 'digestive',\n",
              " 'gastroenterology',\n",
              " 'coffee',\n",
              " 'else',\n",
              " '12',\n",
              " 'grains',\n",
              " '2day',\n",
              " 'guandalini',\n",
              " 'store',\n",
              " 'corn',\n",
              " 'celiacs',\n",
              " 'helping',\n",
              " 'webinar',\n",
              " 'ten',\n",
              " 'resource',\n",
              " 'each',\n",
              " 'tomato',\n",
              " 'party',\n",
              " 'watch',\n",
              " 'treats',\n",
              " 'chef',\n",
              " 'agree',\n",
              " 'banana',\n",
              " 'feeling',\n",
              " 'rts',\n",
              " 'culprit',\n",
              " 'oh',\n",
              " 'something',\n",
              " 'started',\n",
              " 'magazine',\n",
              " 'treat',\n",
              " 'treatment',\n",
              " 'shopping',\n",
              " 'soon',\n",
              " 'taste',\n",
              " 'bones',\n",
              " 'bars',\n",
              " 'researchers',\n",
              " 'meeting',\n",
              " 'school',\n",
              " 'everything',\n",
              " 'friday',\n",
              " 'mini',\n",
              " 'goes',\n",
              " 'sx',\n",
              " 'mom',\n",
              " 'discovered',\n",
              " 'date',\n",
              " 'save',\n",
              " 'advil',\n",
              " 'connection',\n",
              " 'tickets',\n",
              " 'enter',\n",
              " 'march',\n",
              " 'sandwich',\n",
              " 'fl',\n",
              " 'under',\n",
              " 'naturally',\n",
              " 'lead',\n",
              " 'cope',\n",
              " 'potatoes',\n",
              " 'lovely',\n",
              " 'low',\n",
              " 'lot',\n",
              " 'eats',\n",
              " 'brownies',\n",
              " 'apple',\n",
              " 'followers',\n",
              " 'tea',\n",
              " 'among',\n",
              " 'pin',\n",
              " 'ups',\n",
              " 'signs',\n",
              " 'folks',\n",
              " 'causes',\n",
              " 'anything',\n",
              " 'gift',\n",
              " 'chance',\n",
              " 'thx',\n",
              " 'timer',\n",
              " 'mistakes',\n",
              " 'question',\n",
              " 'fresh',\n",
              " 'raise',\n",
              " 'newly',\n",
              " 'htt',\n",
              " 'fatigue',\n",
              " 'especially',\n",
              " 'journal',\n",
              " 'olympic',\n",
              " 'actually',\n",
              " 'nyc',\n",
              " 'website',\n",
              " 'huge',\n",
              " 'prize',\n",
              " 'jennifer',\n",
              " 'pie',\n",
              " 'garlic',\n",
              " 'ginger',\n",
              " 'funny',\n",
              " 'protein',\n",
              " 'comfort',\n",
              " 'range',\n",
              " 'bake',\n",
              " 'ham',\n",
              " 'chips',\n",
              " 'lots',\n",
              " 'tweets',\n",
              " 'hurt',\n",
              " 'anxiety',\n",
              " 'took',\n",
              " '19',\n",
              " 'contain',\n",
              " 'fellow',\n",
              " 'current',\n",
              " 'guidelines',\n",
              " 'doctor',\n",
              " 'kind',\n",
              " 'alessio',\n",
              " 'helped',\n",
              " 'bbq',\n",
              " 'fave',\n",
              " 'clinic',\n",
              " 'gi',\n",
              " 'oatmeal',\n",
              " 'gliadin',\n",
              " 'growth',\n",
              " 'four',\n",
              " 'whatever',\n",
              " 'price',\n",
              " 'brands',\n",
              " 'starting',\n",
              " 'sister',\n",
              " 'battle',\n",
              " 'parents',\n",
              " 'mess',\n",
              " 'steak',\n",
              " 'positive',\n",
              " 'steps',\n",
              " 'sensitivities',\n",
              " 'trend',\n",
              " 'bacon',\n",
              " 'game',\n",
              " 'already',\n",
              " 'cold',\n",
              " 'effect',\n",
              " 'product',\n",
              " 'contest',\n",
              " 'site',\n",
              " 'affected',\n",
              " 'lol',\n",
              " 'safely',\n",
              " 'yesterday',\n",
              " 'suffer',\n",
              " 'speaking',\n",
              " 'takes',\n",
              " 'guests',\n",
              " 'information',\n",
              " 'ttb',\n",
              " 'depression',\n",
              " 'future',\n",
              " 'etc',\n",
              " 'bean',\n",
              " 'coping',\n",
              " 'interested',\n",
              " 'loved',\n",
              " 'pizzas',\n",
              " 'educate',\n",
              " 'cinnamon',\n",
              " 'snacks',\n",
              " 'peeps',\n",
              " 'answers',\n",
              " 'candy',\n",
              " 'nice',\n",
              " 'agreed',\n",
              " 'chickpea',\n",
              " 'improve',\n",
              " 'fried',\n",
              " 'rate',\n",
              " 'mn',\n",
              " 'diabetes',\n",
              " 'diseases',\n",
              " 'tasty',\n",
              " '15',\n",
              " 'opens',\n",
              " 'fight',\n",
              " 'thyroid',\n",
              " 'click',\n",
              " 'drink',\n",
              " 'mean',\n",
              " 'bag',\n",
              " 'fractures',\n",
              " 'pancakes',\n",
              " 'develop',\n",
              " 'past',\n",
              " 'cover',\n",
              " 'promoting',\n",
              " 'during',\n",
              " 'multiple',\n",
              " 'moment',\n",
              " 'effects',\n",
              " 'welltolerated',\n",
              " 'add',\n",
              " 'acidic',\n",
              " 'proathlete',\n",
              " 'expect',\n",
              " 'chart',\n",
              " 'area',\n",
              " 'yummy',\n",
              " 'rules',\n",
              " 'eggs',\n",
              " 'itself',\n",
              " 'muesli',\n",
              " 'baked',\n",
              " 'intolerant',\n",
              " 'traveling',\n",
              " 'frozen',\n",
              " 'according',\n",
              " 'worry',\n",
              " '18',\n",
              " 'grocery',\n",
              " 'end',\n",
              " 'fb',\n",
              " 'offers',\n",
              " 'talking',\n",
              " 'recommendations',\n",
              " 'happens',\n",
              " 'send',\n",
              " 'constipation',\n",
              " 'homemade',\n",
              " 'accurate',\n",
              " 'skin',\n",
              " 'carrying',\n",
              " 'ph',\n",
              " 'md',\n",
              " 'birthday',\n",
              " 'learning',\n",
              " 'helpful',\n",
              " 'supplements',\n",
              " 'hungry',\n",
              " 'hipfracture',\n",
              " 'cheating',\n",
              " 'immune',\n",
              " 'cell',\n",
              " 'american',\n",
              " 'medalwinning',\n",
              " 'athlete',\n",
              " 'pork',\n",
              " 'table',\n",
              " 'shows',\n",
              " 'worst',\n",
              " 'chili',\n",
              " 'daily',\n",
              " 'released',\n",
              " 'newsletter',\n",
              " 'plus',\n",
              " 'age',\n",
              " 'global',\n",
              " 'buns',\n",
              " 'weight',\n",
              " 'disorders',\n",
              " 'rewards',\n",
              " 'annual',\n",
              " 'salmon',\n",
              " 'clear',\n",
              " 'canadian',\n",
              " 'starbucks',\n",
              " 'motivated',\n",
              " 'benefits',\n",
              " 'scary',\n",
              " 'condition',\n",
              " 'broccoli',\n",
              " 'asking',\n",
              " 'impact',\n",
              " 'tour',\n",
              " 'italy',\n",
              " 'amber',\n",
              " 'stuff',\n",
              " 'items',\n",
              " 'nj',\n",
              " 'details',\n",
              " 'chat',\n",
              " 'seems',\n",
              " 'guardian',\n",
              " 'porridge',\n",
              " 'said',\n",
              " 'hidden',\n",
              " 'lentil',\n",
              " 'plotting',\n",
              " 'xoxoxo',\n",
              " 'catch',\n",
              " 'policy',\n",
              " 'plans',\n",
              " 'veggie',\n",
              " 'n',\n",
              " 'parasites',\n",
              " 'et',\n",
              " 'stefano',\n",
              " 'giving',\n",
              " 'worse',\n",
              " 'due',\n",
              " '133',\n",
              " 'empower',\n",
              " 'basic',\n",
              " 'fda',\n",
              " 'service',\n",
              " 'exactly',\n",
              " 'yo',\n",
              " 'mind',\n",
              " 'nuts',\n",
              " 'specific',\n",
              " 'include',\n",
              " 'rates',\n",
              " 'antibodies',\n",
              " 'different',\n",
              " 'continues',\n",
              " 'bloggers',\n",
              " 'afternoon',\n",
              " 'foundation',\n",
              " 'raises',\n",
              " 'mix',\n",
              " 'silly',\n",
              " 'cupcakes',\n",
              " 'spanking',\n",
              " 'development',\n",
              " 'break',\n",
              " 'loves',\n",
              " 'confusing',\n",
              " 'means',\n",
              " 'loving',\n",
              " 'almost',\n",
              " 'scoop',\n",
              " 'fantastic',\n",
              " 'nearly',\n",
              " 'allergen',\n",
              " 'absolutely',\n",
              " 'february',\n",
              " 'pre',\n",
              " 'hamburger',\n",
              " 'soy',\n",
              " 'nesbitt',\n",
              " 'hot',\n",
              " 'comes',\n",
              " 'shrimp',\n",
              " 'individuals',\n",
              " 'labeled',\n",
              " 'relationship',\n",
              " 'wife',\n",
              " 'ppl',\n",
              " ...]"
            ]
          },
          "metadata": {
            "tags": []
          },
          "execution_count": 18
        }
      ]
    },
    {
      "cell_type": "code",
      "metadata": {
        "id": "yPWr03mls3VT",
        "colab_type": "code",
        "colab": {}
      },
      "source": [
        "model_path = path/'models'\n",
        "model_path.mkdir(exist_ok=True)\n",
        "url = 'http://files.fast.ai/models/wt103_v1/'\n",
        "download_url(f'{url}lstm_wt103.pth', model_path/'lstm_wt103.pth')\n",
        "download_url(f'{url}itos_wt103.pkl', model_path/'itos_wt103.pkl')"
      ],
      "execution_count": 0,
      "outputs": []
    },
    {
      "cell_type": "code",
      "metadata": {
        "id": "JRzvWg8RtGGr",
        "colab_type": "code",
        "colab": {}
      },
      "source": [
        "learn = language_model_learner(data_lm, AWD_LSTM, drop_mult=0.5)"
      ],
      "execution_count": 0,
      "outputs": []
    },
    {
      "cell_type": "code",
      "metadata": {
        "id": "xKK7GeBev7Xn",
        "colab_type": "code",
        "colab": {
          "base_uri": "https://localhost:8080/",
          "height": 79
        },
        "outputId": "33581f6e-e12b-45b7-f7ab-99dfef330cd5"
      },
      "source": [
        "learn.fit_one_cycle(1, 1e-2)"
      ],
      "execution_count": 21,
      "outputs": [
        {
          "output_type": "display_data",
          "data": {
            "text/html": [
              "<table border=\"1\" class=\"dataframe\">\n",
              "  <thead>\n",
              "    <tr style=\"text-align: left;\">\n",
              "      <th>epoch</th>\n",
              "      <th>train_loss</th>\n",
              "      <th>valid_loss</th>\n",
              "      <th>accuracy</th>\n",
              "      <th>time</th>\n",
              "    </tr>\n",
              "  </thead>\n",
              "  <tbody>\n",
              "    <tr>\n",
              "      <td>0</td>\n",
              "      <td>5.139118</td>\n",
              "      <td>4.241713</td>\n",
              "      <td>0.269547</td>\n",
              "      <td>04:06</td>\n",
              "    </tr>\n",
              "  </tbody>\n",
              "</table>"
            ],
            "text/plain": [
              "<IPython.core.display.HTML object>"
            ]
          },
          "metadata": {
            "tags": []
          }
        }
      ]
    },
    {
      "cell_type": "code",
      "metadata": {
        "id": "iB7rHGQCwd12",
        "colab_type": "code",
        "colab": {
          "base_uri": "https://localhost:8080/",
          "height": 79
        },
        "outputId": "804d6fa9-2231-42d4-fdd1-14d963cd20cd"
      },
      "source": [
        "learn.fit_one_cycle(1, 1e-2)"
      ],
      "execution_count": 22,
      "outputs": [
        {
          "output_type": "display_data",
          "data": {
            "text/html": [
              "<table border=\"1\" class=\"dataframe\">\n",
              "  <thead>\n",
              "    <tr style=\"text-align: left;\">\n",
              "      <th>epoch</th>\n",
              "      <th>train_loss</th>\n",
              "      <th>valid_loss</th>\n",
              "      <th>accuracy</th>\n",
              "      <th>time</th>\n",
              "    </tr>\n",
              "  </thead>\n",
              "  <tbody>\n",
              "    <tr>\n",
              "      <td>0</td>\n",
              "      <td>4.074307</td>\n",
              "      <td>3.705239</td>\n",
              "      <td>0.330835</td>\n",
              "      <td>04:12</td>\n",
              "    </tr>\n",
              "  </tbody>\n",
              "</table>"
            ],
            "text/plain": [
              "<IPython.core.display.HTML object>"
            ]
          },
          "metadata": {
            "tags": []
          }
        }
      ]
    },
    {
      "cell_type": "code",
      "metadata": {
        "id": "_BnSuAeCwkBe",
        "colab_type": "code",
        "colab": {
          "base_uri": "https://localhost:8080/",
          "height": 79
        },
        "outputId": "c0955bca-70dd-4fcc-d561-5a3a0a0d734c"
      },
      "source": [
        "learn.fit_one_cycle(1, 1e-3)"
      ],
      "execution_count": 23,
      "outputs": [
        {
          "output_type": "display_data",
          "data": {
            "text/html": [
              "<table border=\"1\" class=\"dataframe\">\n",
              "  <thead>\n",
              "    <tr style=\"text-align: left;\">\n",
              "      <th>epoch</th>\n",
              "      <th>train_loss</th>\n",
              "      <th>valid_loss</th>\n",
              "      <th>accuracy</th>\n",
              "      <th>time</th>\n",
              "    </tr>\n",
              "  </thead>\n",
              "  <tbody>\n",
              "    <tr>\n",
              "      <td>0</td>\n",
              "      <td>3.785021</td>\n",
              "      <td>3.666664</td>\n",
              "      <td>0.336193</td>\n",
              "      <td>04:07</td>\n",
              "    </tr>\n",
              "  </tbody>\n",
              "</table>"
            ],
            "text/plain": [
              "<IPython.core.display.HTML object>"
            ]
          },
          "metadata": {
            "tags": []
          }
        }
      ]
    },
    {
      "cell_type": "code",
      "metadata": {
        "id": "MuTm-RFjwrEX",
        "colab_type": "code",
        "colab": {
          "base_uri": "https://localhost:8080/",
          "height": 79
        },
        "outputId": "de9a92ff-5ba9-463e-d6b0-a948eb7bde1c"
      },
      "source": [
        "learn.fit_one_cycle(1, 1e-3)"
      ],
      "execution_count": 24,
      "outputs": [
        {
          "output_type": "display_data",
          "data": {
            "text/html": [
              "<table border=\"1\" class=\"dataframe\">\n",
              "  <thead>\n",
              "    <tr style=\"text-align: left;\">\n",
              "      <th>epoch</th>\n",
              "      <th>train_loss</th>\n",
              "      <th>valid_loss</th>\n",
              "      <th>accuracy</th>\n",
              "      <th>time</th>\n",
              "    </tr>\n",
              "  </thead>\n",
              "  <tbody>\n",
              "    <tr>\n",
              "      <td>0</td>\n",
              "      <td>3.714876</td>\n",
              "      <td>3.629497</td>\n",
              "      <td>0.341135</td>\n",
              "      <td>04:06</td>\n",
              "    </tr>\n",
              "  </tbody>\n",
              "</table>"
            ],
            "text/plain": [
              "<IPython.core.display.HTML object>"
            ]
          },
          "metadata": {
            "tags": []
          }
        }
      ]
    },
    {
      "cell_type": "code",
      "metadata": {
        "id": "1Er2ExO8wr7Y",
        "colab_type": "code",
        "colab": {}
      },
      "source": [
        "learn.save_encoder('bigtweet_fold1_first')"
      ],
      "execution_count": 0,
      "outputs": []
    },
    {
      "cell_type": "code",
      "metadata": {
        "id": "z52cZs2qwvad",
        "colab_type": "code",
        "colab": {
          "base_uri": "https://localhost:8080/",
          "height": 79
        },
        "outputId": "090050de-e31f-4cc8-ae19-b6066c8cfda1"
      },
      "source": [
        "learn = text_classifier_learner(data_clas,AWD_LSTM, drop_mult=0.5)\n",
        "learn.load_encoder('bigtweet_fold1_first')\n",
        "learn.fit_one_cycle(1, 1e-2)"
      ],
      "execution_count": 26,
      "outputs": [
        {
          "output_type": "display_data",
          "data": {
            "text/html": [
              "<table border=\"1\" class=\"dataframe\">\n",
              "  <thead>\n",
              "    <tr style=\"text-align: left;\">\n",
              "      <th>epoch</th>\n",
              "      <th>train_loss</th>\n",
              "      <th>valid_loss</th>\n",
              "      <th>accuracy</th>\n",
              "      <th>time</th>\n",
              "    </tr>\n",
              "  </thead>\n",
              "  <tbody>\n",
              "    <tr>\n",
              "      <td>0</td>\n",
              "      <td>4.601663</td>\n",
              "      <td>4.529374</td>\n",
              "      <td>0.288136</td>\n",
              "      <td>01:11</td>\n",
              "    </tr>\n",
              "  </tbody>\n",
              "</table>"
            ],
            "text/plain": [
              "<IPython.core.display.HTML object>"
            ]
          },
          "metadata": {
            "tags": []
          }
        }
      ]
    },
    {
      "cell_type": "code",
      "metadata": {
        "id": "ImwQP1PJwzxd",
        "colab_type": "code",
        "colab": {
          "base_uri": "https://localhost:8080/",
          "height": 79
        },
        "outputId": "bc0031fb-f532-43ca-c513-822d2b5958b9"
      },
      "source": [
        "learn.freeze_to(-2)\n",
        "learn.fit_one_cycle(1, slice(5e-3/2., 5e-3))"
      ],
      "execution_count": 27,
      "outputs": [
        {
          "output_type": "display_data",
          "data": {
            "text/html": [
              "<table border=\"1\" class=\"dataframe\">\n",
              "  <thead>\n",
              "    <tr style=\"text-align: left;\">\n",
              "      <th>epoch</th>\n",
              "      <th>train_loss</th>\n",
              "      <th>valid_loss</th>\n",
              "      <th>accuracy</th>\n",
              "      <th>time</th>\n",
              "    </tr>\n",
              "  </thead>\n",
              "  <tbody>\n",
              "    <tr>\n",
              "      <td>0</td>\n",
              "      <td>3.833107</td>\n",
              "      <td>4.192050</td>\n",
              "      <td>0.329298</td>\n",
              "      <td>01:30</td>\n",
              "    </tr>\n",
              "  </tbody>\n",
              "</table>"
            ],
            "text/plain": [
              "<IPython.core.display.HTML object>"
            ]
          },
          "metadata": {
            "tags": []
          }
        }
      ]
    },
    {
      "cell_type": "code",
      "metadata": {
        "id": "Owff_BJXw53u",
        "colab_type": "code",
        "colab": {
          "base_uri": "https://localhost:8080/",
          "height": 79
        },
        "outputId": "28790186-7f8b-4233-d695-639457225aaa"
      },
      "source": [
        "learn.unfreeze()\n",
        "learn.fit_one_cycle(1, slice(2e-3/100, 2e-3))"
      ],
      "execution_count": 28,
      "outputs": [
        {
          "output_type": "display_data",
          "data": {
            "text/html": [
              "<table border=\"1\" class=\"dataframe\">\n",
              "  <thead>\n",
              "    <tr style=\"text-align: left;\">\n",
              "      <th>epoch</th>\n",
              "      <th>train_loss</th>\n",
              "      <th>valid_loss</th>\n",
              "      <th>accuracy</th>\n",
              "      <th>time</th>\n",
              "    </tr>\n",
              "  </thead>\n",
              "  <tbody>\n",
              "    <tr>\n",
              "      <td>0</td>\n",
              "      <td>3.503391</td>\n",
              "      <td>3.976228</td>\n",
              "      <td>0.355932</td>\n",
              "      <td>03:41</td>\n",
              "    </tr>\n",
              "  </tbody>\n",
              "</table>"
            ],
            "text/plain": [
              "<IPython.core.display.HTML object>"
            ]
          },
          "metadata": {
            "tags": []
          }
        }
      ]
    },
    {
      "cell_type": "code",
      "metadata": {
        "id": "lqAyu56V8Waq",
        "colab_type": "code",
        "colab": {
          "base_uri": "https://localhost:8080/",
          "height": 110
        },
        "outputId": "1ec2a758-e691-4896-bdfc-74fa98051a7d"
      },
      "source": [
        "learn.fit_one_cycle(2, slice(2e-3/100, 2e-3))"
      ],
      "execution_count": 29,
      "outputs": [
        {
          "output_type": "display_data",
          "data": {
            "text/html": [
              "<table border=\"1\" class=\"dataframe\">\n",
              "  <thead>\n",
              "    <tr style=\"text-align: left;\">\n",
              "      <th>epoch</th>\n",
              "      <th>train_loss</th>\n",
              "      <th>valid_loss</th>\n",
              "      <th>accuracy</th>\n",
              "      <th>time</th>\n",
              "    </tr>\n",
              "  </thead>\n",
              "  <tbody>\n",
              "    <tr>\n",
              "      <td>0</td>\n",
              "      <td>3.293521</td>\n",
              "      <td>3.780540</td>\n",
              "      <td>0.384988</td>\n",
              "      <td>03:31</td>\n",
              "    </tr>\n",
              "    <tr>\n",
              "      <td>1</td>\n",
              "      <td>3.137682</td>\n",
              "      <td>3.734802</td>\n",
              "      <td>0.392252</td>\n",
              "      <td>03:27</td>\n",
              "    </tr>\n",
              "  </tbody>\n",
              "</table>"
            ],
            "text/plain": [
              "<IPython.core.display.HTML object>"
            ]
          },
          "metadata": {
            "tags": []
          }
        }
      ]
    },
    {
      "cell_type": "code",
      "metadata": {
        "id": "a7I1xMRp8bUd",
        "colab_type": "code",
        "colab": {
          "base_uri": "https://localhost:8080/",
          "height": 110
        },
        "outputId": "0efee75c-c164-45f1-eaa7-d8bd51af9311"
      },
      "source": [
        "learn.fit_one_cycle(2, slice(2e-3/100, 2e-3))"
      ],
      "execution_count": 30,
      "outputs": [
        {
          "output_type": "display_data",
          "data": {
            "text/html": [
              "<table border=\"1\" class=\"dataframe\">\n",
              "  <thead>\n",
              "    <tr style=\"text-align: left;\">\n",
              "      <th>epoch</th>\n",
              "      <th>train_loss</th>\n",
              "      <th>valid_loss</th>\n",
              "      <th>accuracy</th>\n",
              "      <th>time</th>\n",
              "    </tr>\n",
              "  </thead>\n",
              "  <tbody>\n",
              "    <tr>\n",
              "      <td>0</td>\n",
              "      <td>3.128669</td>\n",
              "      <td>3.686373</td>\n",
              "      <td>0.394673</td>\n",
              "      <td>03:36</td>\n",
              "    </tr>\n",
              "    <tr>\n",
              "      <td>1</td>\n",
              "      <td>2.959857</td>\n",
              "      <td>3.633602</td>\n",
              "      <td>0.406780</td>\n",
              "      <td>03:26</td>\n",
              "    </tr>\n",
              "  </tbody>\n",
              "</table>"
            ],
            "text/plain": [
              "<IPython.core.display.HTML object>"
            ]
          },
          "metadata": {
            "tags": []
          }
        }
      ]
    },
    {
      "cell_type": "code",
      "metadata": {
        "id": "UAnti-XmGVfO",
        "colab_type": "code",
        "colab": {
          "base_uri": "https://localhost:8080/",
          "height": 110
        },
        "outputId": "ee95cdc1-6680-43ee-c084-6cd3dec743a4"
      },
      "source": [
        "learn.fit_one_cycle(2, slice(2e-3/100, 2e-3))"
      ],
      "execution_count": 31,
      "outputs": [
        {
          "output_type": "display_data",
          "data": {
            "text/html": [
              "<table border=\"1\" class=\"dataframe\">\n",
              "  <thead>\n",
              "    <tr style=\"text-align: left;\">\n",
              "      <th>epoch</th>\n",
              "      <th>train_loss</th>\n",
              "      <th>valid_loss</th>\n",
              "      <th>accuracy</th>\n",
              "      <th>time</th>\n",
              "    </tr>\n",
              "  </thead>\n",
              "  <tbody>\n",
              "    <tr>\n",
              "      <td>0</td>\n",
              "      <td>2.896296</td>\n",
              "      <td>3.580793</td>\n",
              "      <td>0.414044</td>\n",
              "      <td>03:20</td>\n",
              "    </tr>\n",
              "    <tr>\n",
              "      <td>1</td>\n",
              "      <td>2.799138</td>\n",
              "      <td>3.552833</td>\n",
              "      <td>0.412833</td>\n",
              "      <td>03:42</td>\n",
              "    </tr>\n",
              "  </tbody>\n",
              "</table>"
            ],
            "text/plain": [
              "<IPython.core.display.HTML object>"
            ]
          },
          "metadata": {
            "tags": []
          }
        }
      ]
    },
    {
      "cell_type": "code",
      "metadata": {
        "id": "bIft7W25GwSu",
        "colab_type": "code",
        "colab": {
          "base_uri": "https://localhost:8080/",
          "height": 110
        },
        "outputId": "f28dadda-d7e9-4de9-ae7d-8d9fb5df9df9"
      },
      "source": [
        "learn.fit_one_cycle(2, slice(2e-3/100, 2e-3))"
      ],
      "execution_count": 32,
      "outputs": [
        {
          "output_type": "display_data",
          "data": {
            "text/html": [
              "<table border=\"1\" class=\"dataframe\">\n",
              "  <thead>\n",
              "    <tr style=\"text-align: left;\">\n",
              "      <th>epoch</th>\n",
              "      <th>train_loss</th>\n",
              "      <th>valid_loss</th>\n",
              "      <th>accuracy</th>\n",
              "      <th>time</th>\n",
              "    </tr>\n",
              "  </thead>\n",
              "  <tbody>\n",
              "    <tr>\n",
              "      <td>0</td>\n",
              "      <td>2.791886</td>\n",
              "      <td>3.514551</td>\n",
              "      <td>0.417676</td>\n",
              "      <td>03:35</td>\n",
              "    </tr>\n",
              "    <tr>\n",
              "      <td>1</td>\n",
              "      <td>2.656996</td>\n",
              "      <td>3.468764</td>\n",
              "      <td>0.428571</td>\n",
              "      <td>03:40</td>\n",
              "    </tr>\n",
              "  </tbody>\n",
              "</table>"
            ],
            "text/plain": [
              "<IPython.core.display.HTML object>"
            ]
          },
          "metadata": {
            "tags": []
          }
        }
      ]
    },
    {
      "cell_type": "code",
      "metadata": {
        "id": "EEHszVRvGyFt",
        "colab_type": "code",
        "colab": {
          "base_uri": "https://localhost:8080/",
          "height": 110
        },
        "outputId": "964bd699-9f47-4a62-adea-cce23140f9c5"
      },
      "source": [
        "learn.fit_one_cycle(2, slice(2e-3/100, 2e-3))"
      ],
      "execution_count": 33,
      "outputs": [
        {
          "output_type": "display_data",
          "data": {
            "text/html": [
              "<table border=\"1\" class=\"dataframe\">\n",
              "  <thead>\n",
              "    <tr style=\"text-align: left;\">\n",
              "      <th>epoch</th>\n",
              "      <th>train_loss</th>\n",
              "      <th>valid_loss</th>\n",
              "      <th>accuracy</th>\n",
              "      <th>time</th>\n",
              "    </tr>\n",
              "  </thead>\n",
              "  <tbody>\n",
              "    <tr>\n",
              "      <td>0</td>\n",
              "      <td>2.727213</td>\n",
              "      <td>3.496241</td>\n",
              "      <td>0.414044</td>\n",
              "      <td>03:33</td>\n",
              "    </tr>\n",
              "    <tr>\n",
              "      <td>1</td>\n",
              "      <td>2.599253</td>\n",
              "      <td>3.491321</td>\n",
              "      <td>0.420097</td>\n",
              "      <td>03:31</td>\n",
              "    </tr>\n",
              "  </tbody>\n",
              "</table>"
            ],
            "text/plain": [
              "<IPython.core.display.HTML object>"
            ]
          },
          "metadata": {
            "tags": []
          }
        }
      ]
    },
    {
      "cell_type": "code",
      "metadata": {
        "id": "XsHfrhCHG3dN",
        "colab_type": "code",
        "colab": {
          "base_uri": "https://localhost:8080/",
          "height": 171
        },
        "outputId": "4b81e3f8-3742-4693-db68-bee9646a35eb"
      },
      "source": [
        "learn.fit_one_cycle(4, slice(2e-3/100, 2e-3))"
      ],
      "execution_count": 34,
      "outputs": [
        {
          "output_type": "display_data",
          "data": {
            "text/html": [
              "<table border=\"1\" class=\"dataframe\">\n",
              "  <thead>\n",
              "    <tr style=\"text-align: left;\">\n",
              "      <th>epoch</th>\n",
              "      <th>train_loss</th>\n",
              "      <th>valid_loss</th>\n",
              "      <th>accuracy</th>\n",
              "      <th>time</th>\n",
              "    </tr>\n",
              "  </thead>\n",
              "  <tbody>\n",
              "    <tr>\n",
              "      <td>0</td>\n",
              "      <td>2.620848</td>\n",
              "      <td>3.533680</td>\n",
              "      <td>0.424939</td>\n",
              "      <td>03:22</td>\n",
              "    </tr>\n",
              "    <tr>\n",
              "      <td>1</td>\n",
              "      <td>2.622791</td>\n",
              "      <td>3.452481</td>\n",
              "      <td>0.418886</td>\n",
              "      <td>03:40</td>\n",
              "    </tr>\n",
              "    <tr>\n",
              "      <td>2</td>\n",
              "      <td>2.545168</td>\n",
              "      <td>3.424966</td>\n",
              "      <td>0.435835</td>\n",
              "      <td>03:37</td>\n",
              "    </tr>\n",
              "    <tr>\n",
              "      <td>3</td>\n",
              "      <td>2.434854</td>\n",
              "      <td>3.448447</td>\n",
              "      <td>0.428571</td>\n",
              "      <td>03:21</td>\n",
              "    </tr>\n",
              "  </tbody>\n",
              "</table>"
            ],
            "text/plain": [
              "<IPython.core.display.HTML object>"
            ]
          },
          "metadata": {
            "tags": []
          }
        }
      ]
    },
    {
      "cell_type": "code",
      "metadata": {
        "id": "0Zsd99isb9EQ",
        "colab_type": "code",
        "colab": {
          "base_uri": "https://localhost:8080/",
          "height": 171
        },
        "outputId": "10fb46f0-471b-4b75-f530-4c70c83dd686"
      },
      "source": [
        "learn.fit_one_cycle(4, slice(2e-3/100, 2e-3))"
      ],
      "execution_count": 35,
      "outputs": [
        {
          "output_type": "display_data",
          "data": {
            "text/html": [
              "<table border=\"1\" class=\"dataframe\">\n",
              "  <thead>\n",
              "    <tr style=\"text-align: left;\">\n",
              "      <th>epoch</th>\n",
              "      <th>train_loss</th>\n",
              "      <th>valid_loss</th>\n",
              "      <th>accuracy</th>\n",
              "      <th>time</th>\n",
              "    </tr>\n",
              "  </thead>\n",
              "  <tbody>\n",
              "    <tr>\n",
              "      <td>0</td>\n",
              "      <td>2.431194</td>\n",
              "      <td>3.428502</td>\n",
              "      <td>0.430993</td>\n",
              "      <td>03:24</td>\n",
              "    </tr>\n",
              "    <tr>\n",
              "      <td>1</td>\n",
              "      <td>2.475072</td>\n",
              "      <td>3.456085</td>\n",
              "      <td>0.416465</td>\n",
              "      <td>03:38</td>\n",
              "    </tr>\n",
              "    <tr>\n",
              "      <td>2</td>\n",
              "      <td>2.357647</td>\n",
              "      <td>3.417597</td>\n",
              "      <td>0.433414</td>\n",
              "      <td>03:26</td>\n",
              "    </tr>\n",
              "    <tr>\n",
              "      <td>3</td>\n",
              "      <td>2.255889</td>\n",
              "      <td>3.390867</td>\n",
              "      <td>0.433414</td>\n",
              "      <td>03:18</td>\n",
              "    </tr>\n",
              "  </tbody>\n",
              "</table>"
            ],
            "text/plain": [
              "<IPython.core.display.HTML object>"
            ]
          },
          "metadata": {
            "tags": []
          }
        }
      ]
    },
    {
      "cell_type": "code",
      "metadata": {
        "id": "atNWNKDFPbuI",
        "colab_type": "code",
        "colab": {
          "base_uri": "https://localhost:8080/",
          "height": 171
        },
        "outputId": "76d21a14-d8fa-4963-fc5d-0a33b0ec4678"
      },
      "source": [
        "learn.fit_one_cycle(4, slice(2e-3/100, 2e-3))"
      ],
      "execution_count": 36,
      "outputs": [
        {
          "output_type": "display_data",
          "data": {
            "text/html": [
              "<table border=\"1\" class=\"dataframe\">\n",
              "  <thead>\n",
              "    <tr style=\"text-align: left;\">\n",
              "      <th>epoch</th>\n",
              "      <th>train_loss</th>\n",
              "      <th>valid_loss</th>\n",
              "      <th>accuracy</th>\n",
              "      <th>time</th>\n",
              "    </tr>\n",
              "  </thead>\n",
              "  <tbody>\n",
              "    <tr>\n",
              "      <td>0</td>\n",
              "      <td>2.358052</td>\n",
              "      <td>3.474247</td>\n",
              "      <td>0.432203</td>\n",
              "      <td>03:36</td>\n",
              "    </tr>\n",
              "    <tr>\n",
              "      <td>1</td>\n",
              "      <td>2.427808</td>\n",
              "      <td>3.504308</td>\n",
              "      <td>0.429782</td>\n",
              "      <td>03:26</td>\n",
              "    </tr>\n",
              "    <tr>\n",
              "      <td>2</td>\n",
              "      <td>2.400331</td>\n",
              "      <td>3.507604</td>\n",
              "      <td>0.437046</td>\n",
              "      <td>03:29</td>\n",
              "    </tr>\n",
              "    <tr>\n",
              "      <td>3</td>\n",
              "      <td>2.267765</td>\n",
              "      <td>3.459139</td>\n",
              "      <td>0.434625</td>\n",
              "      <td>03:37</td>\n",
              "    </tr>\n",
              "  </tbody>\n",
              "</table>"
            ],
            "text/plain": [
              "<IPython.core.display.HTML object>"
            ]
          },
          "metadata": {
            "tags": []
          }
        }
      ]
    },
    {
      "cell_type": "code",
      "metadata": {
        "id": "rKrBTZ0T1uVA",
        "colab_type": "code",
        "colab": {
          "base_uri": "https://localhost:8080/",
          "height": 171
        },
        "outputId": "996ff72c-4311-4e36-be66-7308b235d13a"
      },
      "source": [
        "learn.fit_one_cycle(4, slice(2e-3/100, 2e-3))"
      ],
      "execution_count": 37,
      "outputs": [
        {
          "output_type": "display_data",
          "data": {
            "text/html": [
              "<table border=\"1\" class=\"dataframe\">\n",
              "  <thead>\n",
              "    <tr style=\"text-align: left;\">\n",
              "      <th>epoch</th>\n",
              "      <th>train_loss</th>\n",
              "      <th>valid_loss</th>\n",
              "      <th>accuracy</th>\n",
              "      <th>time</th>\n",
              "    </tr>\n",
              "  </thead>\n",
              "  <tbody>\n",
              "    <tr>\n",
              "      <td>0</td>\n",
              "      <td>2.382861</td>\n",
              "      <td>3.628445</td>\n",
              "      <td>0.427361</td>\n",
              "      <td>03:33</td>\n",
              "    </tr>\n",
              "    <tr>\n",
              "      <td>1</td>\n",
              "      <td>2.375291</td>\n",
              "      <td>3.579543</td>\n",
              "      <td>0.432203</td>\n",
              "      <td>03:29</td>\n",
              "    </tr>\n",
              "    <tr>\n",
              "      <td>2</td>\n",
              "      <td>2.350704</td>\n",
              "      <td>3.576517</td>\n",
              "      <td>0.429782</td>\n",
              "      <td>03:40</td>\n",
              "    </tr>\n",
              "    <tr>\n",
              "      <td>3</td>\n",
              "      <td>2.207048</td>\n",
              "      <td>3.470406</td>\n",
              "      <td>0.433414</td>\n",
              "      <td>03:39</td>\n",
              "    </tr>\n",
              "  </tbody>\n",
              "</table>"
            ],
            "text/plain": [
              "<IPython.core.display.HTML object>"
            ]
          },
          "metadata": {
            "tags": []
          }
        }
      ]
    },
    {
      "cell_type": "code",
      "metadata": {
        "id": "ajQC6WDg1yA9",
        "colab_type": "code",
        "colab": {
          "base_uri": "https://localhost:8080/",
          "height": 171
        },
        "outputId": "7c2411e7-1889-472e-cd93-e405d74064a9"
      },
      "source": [
        "learn.fit_one_cycle(4, slice(2e-3/100, 2e-3))"
      ],
      "execution_count": 38,
      "outputs": [
        {
          "output_type": "display_data",
          "data": {
            "text/html": [
              "<table border=\"1\" class=\"dataframe\">\n",
              "  <thead>\n",
              "    <tr style=\"text-align: left;\">\n",
              "      <th>epoch</th>\n",
              "      <th>train_loss</th>\n",
              "      <th>valid_loss</th>\n",
              "      <th>accuracy</th>\n",
              "      <th>time</th>\n",
              "    </tr>\n",
              "  </thead>\n",
              "  <tbody>\n",
              "    <tr>\n",
              "      <td>0</td>\n",
              "      <td>2.244913</td>\n",
              "      <td>3.536361</td>\n",
              "      <td>0.423729</td>\n",
              "      <td>03:31</td>\n",
              "    </tr>\n",
              "    <tr>\n",
              "      <td>1</td>\n",
              "      <td>2.317462</td>\n",
              "      <td>3.578649</td>\n",
              "      <td>0.426150</td>\n",
              "      <td>03:27</td>\n",
              "    </tr>\n",
              "    <tr>\n",
              "      <td>2</td>\n",
              "      <td>2.274169</td>\n",
              "      <td>3.561989</td>\n",
              "      <td>0.440678</td>\n",
              "      <td>03:27</td>\n",
              "    </tr>\n",
              "    <tr>\n",
              "      <td>3</td>\n",
              "      <td>2.195014</td>\n",
              "      <td>3.537924</td>\n",
              "      <td>0.445521</td>\n",
              "      <td>03:34</td>\n",
              "    </tr>\n",
              "  </tbody>\n",
              "</table>"
            ],
            "text/plain": [
              "<IPython.core.display.HTML object>"
            ]
          },
          "metadata": {
            "tags": []
          }
        }
      ]
    },
    {
      "cell_type": "code",
      "metadata": {
        "id": "KKydb0B4BKGk",
        "colab_type": "code",
        "colab": {
          "base_uri": "https://localhost:8080/",
          "height": 171
        },
        "outputId": "a3bade87-adee-4a81-8714-73adb09b762e"
      },
      "source": [
        "learn.fit_one_cycle(4, slice(2e-3/100, 2e-3))"
      ],
      "execution_count": 39,
      "outputs": [
        {
          "output_type": "display_data",
          "data": {
            "text/html": [
              "<table border=\"1\" class=\"dataframe\">\n",
              "  <thead>\n",
              "    <tr style=\"text-align: left;\">\n",
              "      <th>epoch</th>\n",
              "      <th>train_loss</th>\n",
              "      <th>valid_loss</th>\n",
              "      <th>accuracy</th>\n",
              "      <th>time</th>\n",
              "    </tr>\n",
              "  </thead>\n",
              "  <tbody>\n",
              "    <tr>\n",
              "      <td>0</td>\n",
              "      <td>2.229974</td>\n",
              "      <td>3.619839</td>\n",
              "      <td>0.440678</td>\n",
              "      <td>03:40</td>\n",
              "    </tr>\n",
              "    <tr>\n",
              "      <td>1</td>\n",
              "      <td>2.324970</td>\n",
              "      <td>3.590588</td>\n",
              "      <td>0.439467</td>\n",
              "      <td>03:27</td>\n",
              "    </tr>\n",
              "    <tr>\n",
              "      <td>2</td>\n",
              "      <td>2.205102</td>\n",
              "      <td>3.574836</td>\n",
              "      <td>0.437046</td>\n",
              "      <td>03:26</td>\n",
              "    </tr>\n",
              "    <tr>\n",
              "      <td>3</td>\n",
              "      <td>2.201726</td>\n",
              "      <td>3.612016</td>\n",
              "      <td>0.437046</td>\n",
              "      <td>03:27</td>\n",
              "    </tr>\n",
              "  </tbody>\n",
              "</table>"
            ],
            "text/plain": [
              "<IPython.core.display.HTML object>"
            ]
          },
          "metadata": {
            "tags": []
          }
        }
      ]
    },
    {
      "cell_type": "code",
      "metadata": {
        "id": "T2APKtFKBpGY",
        "colab_type": "code",
        "colab": {
          "base_uri": "https://localhost:8080/",
          "height": 171
        },
        "outputId": "f9c2d392-33a5-411d-8baa-0da83cf5cc4d"
      },
      "source": [
        "learn.fit_one_cycle(4, slice(2e-3/100, 2e-3))"
      ],
      "execution_count": 40,
      "outputs": [
        {
          "output_type": "display_data",
          "data": {
            "text/html": [
              "<table border=\"1\" class=\"dataframe\">\n",
              "  <thead>\n",
              "    <tr style=\"text-align: left;\">\n",
              "      <th>epoch</th>\n",
              "      <th>train_loss</th>\n",
              "      <th>valid_loss</th>\n",
              "      <th>accuracy</th>\n",
              "      <th>time</th>\n",
              "    </tr>\n",
              "  </thead>\n",
              "  <tbody>\n",
              "    <tr>\n",
              "      <td>0</td>\n",
              "      <td>2.230084</td>\n",
              "      <td>3.667997</td>\n",
              "      <td>0.427361</td>\n",
              "      <td>03:20</td>\n",
              "    </tr>\n",
              "    <tr>\n",
              "      <td>1</td>\n",
              "      <td>2.270186</td>\n",
              "      <td>3.602359</td>\n",
              "      <td>0.427361</td>\n",
              "      <td>03:30</td>\n",
              "    </tr>\n",
              "    <tr>\n",
              "      <td>2</td>\n",
              "      <td>2.186936</td>\n",
              "      <td>3.521254</td>\n",
              "      <td>0.434625</td>\n",
              "      <td>03:29</td>\n",
              "    </tr>\n",
              "    <tr>\n",
              "      <td>3</td>\n",
              "      <td>2.147562</td>\n",
              "      <td>3.603482</td>\n",
              "      <td>0.439467</td>\n",
              "      <td>03:38</td>\n",
              "    </tr>\n",
              "  </tbody>\n",
              "</table>"
            ],
            "text/plain": [
              "<IPython.core.display.HTML object>"
            ]
          },
          "metadata": {
            "tags": []
          }
        }
      ]
    },
    {
      "cell_type": "code",
      "metadata": {
        "id": "c65d-osfDUXm",
        "colab_type": "code",
        "colab": {}
      },
      "source": [
        "# save the best model\n",
        "\n",
        "learn.save_encoder('ask-1-tuning-bigtweet')"
      ],
      "execution_count": 0,
      "outputs": []
    },
    {
      "cell_type": "markdown",
      "metadata": {
        "id": "rCwZU0E2RgM6",
        "colab_type": "text"
      },
      "source": [
        "# Part three: Predict on the test dataset"
      ]
    },
    {
      "cell_type": "code",
      "metadata": {
        "id": "gDm72c-dOu7d",
        "colab_type": "code",
        "colab": {}
      },
      "source": [
        "# use the test data for prediction\n",
        "\n",
        "preds, y = learn.get_preds(DatasetType.Test)"
      ],
      "execution_count": 0,
      "outputs": []
    },
    {
      "cell_type": "code",
      "metadata": {
        "id": "6tFSQcsWPvxn",
        "colab_type": "code",
        "colab": {
          "base_uri": "https://localhost:8080/",
          "height": 107
        },
        "outputId": "9b61419e-7a1b-4179-e278-97f4df5a3fa7"
      },
      "source": [
        "predictions, *_ = learn.get_preds(DatasetType.Test)\n",
        "labels = np.argmax(predictions, 1)\n",
        "predict_list = labels.tolist()\n",
        "standard_list = test[0].tolist()\n",
        "\n",
        "print(len(predict_list))\n",
        "print(len(standard_list))\n",
        "\n",
        "print(predict_list)\n",
        "print(standard_list)"
      ],
      "execution_count": 43,
      "outputs": [
        {
          "output_type": "stream",
          "text": [
            "867\n",
            "867\n",
            "[111, 111, 1026, 1026, 1026, 1026, 1026, 359, 20, 896, 214, 775, 27, 414, 896, 210, 864, 864, 864, 864, 775, 741, 289, 289, 37, 864, 1035, 1035, 655, 183, 502, 49, 896, 214, 214, 214, 214, 325, 53, 53, 53, 864, 896, 61, 62, 896, 70, 794, 1035, 896, 172, 172, 172, 172, 172, 172, 172, 172, 172, 172, 172, 172, 172, 172, 172, 172, 172, 172, 172, 172, 172, 172, 172, 172, 172, 172, 172, 172, 686, 896, 896, 896, 896, 896, 289, 896, 289, 80, 783, 80, 80, 80, 80, 491, 864, 896, 89, 214, 1026, 1026, 1026, 94, 94, 94, 94, 427, 94, 896, 896, 896, 814, 228, 228, 775, 1035, 28, 765, 298, 298, 775, 100, 100, 419, 774, 775, 765, 298, 896, 896, 1035, 289, 1035, 182, 864, 190, 289, 462, 182, 864, 864, 864, 864, 289, 1035, 896, 117, 89, 125, 125, 125, 630, 630, 125, 125, 125, 125, 125, 125, 125, 125, 125, 303, 289, 606, 591, 265, 135, 94, 139, 896, 265, 142, 995, 289, 864, 854, 265, 896, 896, 896, 896, 111, 289, 211, 910, 289, 896, 896, 896, 228, 246, 289, 228, 82, 182, 1035, 1035, 864, 864, 289, 2, 289, 183, 183, 183, 183, 183, 183, 183, 896, 240, 240, 240, 240, 189, 1035, 190, 190, 1035, 896, 193, 197, 289, 896, 202, 769, 205, 289, 704, 610, 896, 896, 896, 896, 289, 289, 289, 218, 189, 220, 864, 864, 140, 511, 228, 228, 228, 228, 606, 393, 228, 228, 228, 228, 393, 1035, 1035, 303, 775, 289, 1026, 896, 896, 896, 243, 243, 243, 318, 3, 1035, 578, 228, 246, 246, 1035, 1035, 910, 1035, 896, 172, 1035, 264, 809, 446, 265, 265, 265, 265, 265, 265, 265, 265, 265, 265, 265, 265, 265, 265, 265, 265, 446, 446, 228, 265, 89, 1026, 1002, 276, 896, 165, 1035, 199, 910, 111, 289, 864, 289, 471, 289, 289, 289, 864, 896, 289, 289, 289, 289, 289, 289, 289, 289, 289, 289, 289, 814, 289, 651, 1035, 210, 896, 183, 131, 459, 189, 864, 864, 864, 864, 1026, 98, 211, 318, 318, 787, 325, 325, 49, 49, 49, 49, 49, 49, 49, 49, 49, 49, 49, 49, 49, 896, 82, 49, 326, 328, 304, 1026, 1026, 1002, 430, 100, 343, 343, 245, 686, 1035, 778, 359, 359, 359, 689, 359, 847, 364, 704, 289, 289, 289, 289, 367, 71, 71, 1035, 197, 246, 809, 391, 391, 391, 896, 896, 718, 304, 847, 706, 402, 706, 861, 1035, 246, 896, 896, 745, 1035, 713, 896, 117, 1035, 260, 260, 260, 260, 260, 260, 896, 419, 260, 421, 896, 426, 426, 426, 775, 427, 896, 896, 896, 896, 896, 896, 3, 427, 89, 896, 6, 274, 529, 435, 435, 89, 441, 441, 443, 444, 334, 750, 82, 1026, 265, 265, 265, 265, 896, 896, 896, 896, 896, 896, 896, 204, 896, 896, 460, 1035, 289, 210, 794, 896, 475, 475, 475, 479, 591, 283, 489, 491, 662, 29, 491, 663, 129, 1035, 1035, 896, 896, 496, 896, 140, 507, 507, 896, 896, 896, 1035, 1035, 286, 821, 775, 318, 289, 530, 530, 530, 530, 530, 502, 97, 175, 847, 896, 541, 775, 545, 545, 545, 896, 896, 896, 896, 210, 210, 1035, 197, 337, 688, 896, 896, 896, 592, 824, 824, 707, 517, 896, 1035, 896, 896, 896, 896, 207, 197, 197, 289, 289, 289, 197, 197, 528, 528, 1035, 949, 896, 536, 824, 794, 100, 646, 646, 652, 652, 652, 652, 289, 98, 687, 662, 662, 283, 283, 677, 194, 666, 53, 761, 81, 289, 289, 591, 289, 704, 289, 289, 1035, 1035, 1035, 1035, 402, 805, 155, 155, 3, 1035, 70, 735, 318, 1035, 246, 541, 491, 210, 98, 289, 753, 896, 769, 775, 210, 704, 1035, 579, 578, 419, 775, 210, 210, 775, 896, 1035, 896, 94, 896, 753, 861, 896, 896, 505, 810, 210, 896, 826, 896, 896, 847, 1026, 265, 265, 896, 896, 896, 623, 896, 890, 847, 847, 847, 896, 896, 847, 638, 3, 748, 31, 289, 210, 746, 775, 876, 805, 805, 805, 268, 268, 391, 438, 111, 528, 528, 910, 605, 37, 210, 210, 1035, 1035, 704, 904, 904, 210, 265, 896, 265, 1035, 1028, 933, 265, 896, 1005, 1026, 1026, 265, 265, 265, 265, 265, 265, 896, 896, 896, 937, 896, 265, 265, 1026, 1026, 1026, 1026, 1026, 265, 265, 265, 265, 265, 265, 265, 265, 265, 265, 265, 265, 265, 265, 265, 265, 265, 265, 265, 265, 265, 265, 265, 265, 265, 265, 265, 265, 265, 265, 265, 265, 265, 265, 265, 265, 265, 265, 265, 265, 265, 265, 265, 265, 265, 265, 265, 265, 265, 265, 265, 265, 265, 265, 265, 265, 265, 265, 265, 265, 265, 265, 265, 265, 265, 265, 265, 265, 265, 265, 265, 265, 265, 265, 265, 265, 265, 265, 265, 265, 265, 703, 896, 265, 265, 896, 896, 896, 896, 896, 896, 896, 896, 896, 896, 896, 896, 896, 896, 896, 896, 896, 896, 896, 896, 896, 896, 896, 896, 896, 265, 265, 265, 265, 265, 265, 265, 265, 265, 265, 961, 265, 896, 265, 896, 265, 896, 265, 265, 896, 265, 265, 265, 265, 896, 1035, 265, 265, 1035, 896, 1028]\n",
            "[2, 2, 8, 8, 8, 8, 8, 16, 20, 21, 22, 25, 27, 31, 36, 37, 37, 37, 37, 37, 37, 37, 37, 37, 37, 37, 42, 42, 44, 45, 49, 49, 49, 49, 49, 49, 49, 49, 53, 53, 53, 59, 60, 61, 62, 65, 70, 71, 71, 77, 79, 79, 79, 79, 79, 79, 79, 79, 79, 79, 79, 79, 79, 79, 79, 79, 79, 79, 79, 79, 79, 79, 79, 79, 79, 79, 79, 79, 79, 79, 79, 79, 79, 79, 79, 79, 79, 80, 80, 80, 80, 80, 80, 81, 83, 88, 89, 90, 92, 92, 92, 94, 94, 94, 94, 94, 94, 94, 94, 94, 94, 96, 96, 97, 98, 100, 100, 100, 100, 100, 100, 100, 100, 100, 100, 100, 100, 103, 103, 105, 107, 107, 108, 108, 111, 111, 111, 111, 111, 111, 111, 111, 111, 111, 114, 117, 120, 125, 125, 125, 125, 125, 125, 125, 125, 125, 125, 125, 125, 125, 125, 127, 130, 130, 134, 135, 135, 135, 139, 139, 141, 142, 145, 146, 146, 158, 166, 166, 166, 169, 171, 172, 172, 172, 172, 172, 173, 173, 173, 180, 180, 182, 182, 182, 182, 182, 182, 182, 182, 182, 182, 182, 183, 183, 183, 183, 183, 183, 183, 184, 187, 187, 187, 187, 189, 189, 190, 190, 190, 193, 193, 197, 197, 200, 202, 205, 205, 205, 209, 214, 214, 214, 214, 214, 214, 214, 214, 218, 220, 220, 223, 223, 226, 227, 228, 228, 228, 228, 228, 228, 228, 228, 228, 228, 228, 228, 228, 234, 236, 236, 239, 239, 241, 243, 243, 243, 243, 245, 245, 245, 245, 245, 246, 246, 246, 246, 247, 251, 254, 260, 262, 264, 265, 265, 265, 265, 265, 265, 265, 265, 265, 265, 265, 265, 265, 265, 265, 265, 265, 265, 265, 265, 265, 265, 268, 269, 269, 276, 277, 277, 279, 280, 281, 281, 281, 281, 289, 289, 289, 289, 289, 289, 289, 289, 289, 289, 289, 289, 289, 289, 289, 289, 289, 289, 289, 289, 290, 293, 294, 298, 298, 299, 302, 304, 309, 309, 309, 309, 315, 317, 318, 318, 318, 324, 325, 325, 325, 325, 325, 325, 325, 325, 325, 325, 325, 325, 325, 325, 325, 325, 325, 325, 326, 328, 330, 332, 332, 332, 336, 337, 343, 343, 352, 352, 355, 357, 359, 359, 359, 359, 359, 360, 360, 363, 364, 364, 364, 364, 367, 374, 374, 376, 384, 386, 386, 391, 391, 391, 394, 396, 396, 397, 400, 402, 402, 402, 403, 407, 408, 408, 408, 408, 408, 410, 415, 415, 418, 419, 419, 419, 419, 419, 419, 419, 419, 419, 421, 424, 426, 426, 426, 427, 427, 427, 427, 427, 427, 427, 427, 427, 427, 427, 427, 428, 428, 432, 435, 435, 438, 440, 441, 443, 444, 444, 444, 448, 455, 455, 455, 455, 455, 455, 455, 455, 455, 455, 455, 455, 455, 455, 456, 460, 469, 470, 470, 473, 474, 475, 475, 475, 479, 481, 486, 489, 491, 491, 491, 491, 491, 491, 492, 495, 495, 495, 496, 497, 499, 507, 507, 515, 516, 517, 517, 517, 517, 520, 522, 524, 524, 530, 530, 530, 530, 530, 536, 536, 537, 538, 540, 541, 544, 545, 545, 545, 548, 548, 548, 548, 549, 550, 569, 572, 577, 577, 590, 590, 592, 592, 592, 592, 595, 597, 598, 610, 610, 610, 610, 610, 613, 614, 614, 614, 614, 614, 614, 614, 623, 623, 624, 625, 628, 644, 644, 644, 644, 646, 646, 652, 652, 652, 652, 655, 659, 660, 662, 662, 662, 662, 664, 664, 666, 674, 680, 682, 686, 686, 694, 700, 702, 703, 704, 710, 711, 711, 711, 712, 714, 714, 714, 715, 717, 729, 735, 741, 741, 745, 746, 746, 746, 746, 752, 753, 765, 769, 771, 772, 773, 775, 775, 775, 775, 775, 775, 775, 775, 783, 787, 790, 793, 799, 803, 806, 808, 809, 809, 810, 813, 815, 826, 826, 826, 827, 830, 830, 830, 830, 830, 834, 840, 840, 841, 847, 847, 847, 852, 853, 857, 858, 860, 861, 863, 864, 873, 874, 875, 876, 877, 877, 877, 878, 878, 878, 886, 889, 893, 893, 895, 896, 896, 896, 896, 896, 896, 896, 904, 904, 910, 919, 919, 923, 925, 927, 928, 930, 932, 933, 936, 936, 937, 937, 937, 937, 937, 937, 937, 937, 937, 937, 939, 948, 948, 949, 949, 949, 949, 949, 949, 949, 949, 949, 949, 949, 949, 949, 949, 949, 949, 949, 949, 949, 949, 949, 949, 949, 949, 949, 949, 949, 949, 949, 949, 949, 949, 949, 949, 949, 949, 949, 949, 949, 949, 949, 949, 949, 949, 949, 949, 949, 949, 949, 949, 949, 949, 949, 949, 949, 949, 949, 949, 949, 949, 949, 949, 949, 949, 949, 949, 949, 949, 949, 949, 949, 949, 949, 949, 949, 949, 949, 949, 949, 949, 949, 949, 949, 949, 949, 949, 949, 949, 949, 949, 949, 949, 949, 949, 949, 949, 949, 949, 949, 949, 949, 949, 949, 949, 949, 949, 949, 949, 949, 949, 949, 949, 949, 949, 949, 950, 950, 950, 950, 952, 952, 955, 955, 957, 958, 961, 963, 964, 967, 968, 974, 974, 976, 976, 976, 980, 983, 983, 983, 984, 994, 1006, 1008, 1023, 1026, 1028]\n"
          ],
          "name": "stdout"
        }
      ]
    },
    {
      "cell_type": "code",
      "metadata": {
        "id": "XIC4zufnMxtq",
        "colab_type": "code",
        "colab": {
          "base_uri": "https://localhost:8080/",
          "height": 52
        },
        "outputId": "5d4d46e0-b788-4127-baf5-22239f98c292"
      },
      "source": [
        "correct_num = 0\n",
        "\n",
        "for i in range(0, 866):\n",
        "  if predict_list[i] == standard_list[i]:\n",
        "    correct_num = correct_num+1\n",
        "  else:\n",
        "    pass\n",
        "print(correct_num)\n",
        "\n",
        "predict_accuracy = correct_num/len(predict_list)\n",
        "print(predict_accuracy)"
      ],
      "execution_count": 44,
      "outputs": [
        {
          "output_type": "stream",
          "text": [
            "178\n",
            "0.20530565167243367\n"
          ],
          "name": "stdout"
        }
      ]
    },
    {
      "cell_type": "code",
      "metadata": {
        "id": "zlKMHp1CIaRJ",
        "colab_type": "code",
        "colab": {}
      },
      "source": [
        ""
      ],
      "execution_count": 0,
      "outputs": []
    }
  ]
}