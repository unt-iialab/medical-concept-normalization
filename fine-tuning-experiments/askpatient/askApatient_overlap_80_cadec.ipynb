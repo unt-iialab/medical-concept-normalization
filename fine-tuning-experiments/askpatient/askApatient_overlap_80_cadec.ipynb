{
  "nbformat": 4,
  "nbformat_minor": 0,
  "metadata": {
    "colab": {
      "name": "askApatient_overlap_80_cadec.ipynb",
      "provenance": [],
      "collapsed_sections": [],
      "toc_visible": true,
      "include_colab_link": true
    },
    "kernelspec": {
      "name": "python3",
      "display_name": "Python 3"
    },
    "accelerator": "TPU"
  },
  "cells": [
    {
      "cell_type": "markdown",
      "metadata": {
        "id": "view-in-github",
        "colab_type": "text"
      },
      "source": [
        "<a href=\"https://colab.research.google.com/github/unt-iialab/medical-concept-normalization/blob/master/fine-tuning-experiments/askpatient/askApatient_overlap_80_cadec.ipynb\" target=\"_parent\"><img src=\"https://colab.research.google.com/assets/colab-badge.svg\" alt=\"Open In Colab\"/></a>"
      ]
    },
    {
      "cell_type": "code",
      "metadata": {
        "id": "adSi6i2-dWxy",
        "colab_type": "code",
        "colab": {}
      },
      "source": [
        "import os"
      ],
      "execution_count": 0,
      "outputs": []
    },
    {
      "cell_type": "code",
      "metadata": {
        "id": "E7xYCRGPjd9B",
        "colab_type": "code",
        "colab": {}
      },
      "source": [
        "base_dir = 'medical-concept-normalization'"
      ],
      "execution_count": 0,
      "outputs": []
    },
    {
      "cell_type": "code",
      "metadata": {
        "id": "yvIW3aUDjYNS",
        "colab_type": "code",
        "colab": {}
      },
      "source": [
        "os.mkdir(base_dir)"
      ],
      "execution_count": 0,
      "outputs": []
    },
    {
      "cell_type": "code",
      "metadata": {
        "id": "es-FFLlfk6SG",
        "colab_type": "code",
        "colab": {}
      },
      "source": [
        "os.mkdir('medical-concept-normalization/data_collection')"
      ],
      "execution_count": 0,
      "outputs": []
    },
    {
      "cell_type": "markdown",
      "metadata": {
        "id": "0R-Guw_VoJXm",
        "colab_type": "text"
      },
      "source": [
        "**Install fastai and clone the fastai for text classification**\n",
        "\n"
      ]
    },
    {
      "cell_type": "code",
      "metadata": {
        "id": "QVZa3Z0PmHFH",
        "colab_type": "code",
        "outputId": "68766117-9bc0-4276-d948-24b858efe87a",
        "colab": {
          "base_uri": "https://localhost:8080/",
          "height": 102
        }
      },
      "source": [
        "!curl https://course-v3.fast.ai/setup/colab | bash"
      ],
      "execution_count": 5,
      "outputs": [
        {
          "output_type": "stream",
          "text": [
            "  % Total    % Received % Xferd  Average Speed   Time    Time     Time  Current\n",
            "                                 Dload  Upload   Total   Spent    Left  Speed\n",
            "100   287  100   287    0     0    694      0 --:--:-- --:--:-- --:--:--   694\n",
            "bash: line 1: syntax error near unexpected token `newline'\n",
            "bash: line 1: `<!DOCTYPE HTML PUBLIC \"-//IETF//DTD HTML 2.0//EN\">'\n"
          ],
          "name": "stdout"
        }
      ]
    },
    {
      "cell_type": "code",
      "metadata": {
        "id": "_FBFFEBrmJC0",
        "colab_type": "code",
        "outputId": "3beb3d19-734d-4154-f090-620a27de7c0a",
        "colab": {
          "base_uri": "https://localhost:8080/",
          "height": 85
        }
      },
      "source": [
        "!git clone https://github.com/wshuyi/demo-nlp-classification-fastai.git"
      ],
      "execution_count": 6,
      "outputs": [
        {
          "output_type": "stream",
          "text": [
            "Cloning into 'demo-nlp-classification-fastai'...\n",
            "remote: Enumerating objects: 9, done.\u001b[K\n",
            "Unpacking objects:  11% (1/9)   \rUnpacking objects:  22% (2/9)   \rUnpacking objects:  33% (3/9)   \rUnpacking objects:  44% (4/9)   \rUnpacking objects:  55% (5/9)   \rremote: Total 9 (delta 0), reused 0 (delta 0), pack-reused 9\u001b[K\n",
            "Unpacking objects:  66% (6/9)   \rUnpacking objects:  77% (7/9)   \rUnpacking objects:  88% (8/9)   \rUnpacking objects: 100% (9/9)   \rUnpacking objects: 100% (9/9), done.\n"
          ],
          "name": "stdout"
        }
      ]
    },
    {
      "cell_type": "code",
      "metadata": {
        "id": "66zfh_JqmWMU",
        "colab_type": "code",
        "colab": {}
      },
      "source": [
        "from fastai import *\n",
        "from fastai.text import *"
      ],
      "execution_count": 0,
      "outputs": []
    },
    {
      "cell_type": "markdown",
      "metadata": {
        "id": "mNIw-yALdBU9",
        "colab_type": "text"
      },
      "source": [
        "**Set the path of the data collections**"
      ]
    },
    {
      "cell_type": "code",
      "metadata": {
        "id": "pzH7VMh4mqCL",
        "colab_type": "code",
        "colab": {}
      },
      "source": [
        "path = Path('medical-concept-normalization/data_collection')"
      ],
      "execution_count": 0,
      "outputs": []
    },
    {
      "cell_type": "code",
      "metadata": {
        "id": "b8fjI6yyn4aS",
        "colab_type": "code",
        "colab": {}
      },
      "source": [
        "# training data set\n",
        "\n",
        "train_csv = path/'AskAPatient.fold-0.train.csv'\n",
        "train = pd.read_csv(train_csv, header=None)\n",
        "#train.head()\n",
        "#train.info()"
      ],
      "execution_count": 0,
      "outputs": []
    },
    {
      "cell_type": "code",
      "metadata": {
        "id": "Hmlr-bAorfHd",
        "colab_type": "code",
        "outputId": "5d93a6ab-8580-41a8-b272-362f12fdc963",
        "colab": {
          "base_uri": "https://localhost:8080/",
          "height": 204
        }
      },
      "source": [
        "# validating data set\n",
        "\n",
        "valid = pd.read_csv(path/\"AskAPatient.fold-0.validation.csv\",header=None)\n",
        "valid.head()"
      ],
      "execution_count": 12,
      "outputs": [
        {
          "output_type": "execute_result",
          "data": {
            "text/html": [
              "<div>\n",
              "<style scoped>\n",
              "    .dataframe tbody tr th:only-of-type {\n",
              "        vertical-align: middle;\n",
              "    }\n",
              "\n",
              "    .dataframe tbody tr th {\n",
              "        vertical-align: top;\n",
              "    }\n",
              "\n",
              "    .dataframe thead th {\n",
              "        text-align: right;\n",
              "    }\n",
              "</style>\n",
              "<table border=\"1\" class=\"dataframe\">\n",
              "  <thead>\n",
              "    <tr style=\"text-align: right;\">\n",
              "      <th></th>\n",
              "      <th>0</th>\n",
              "      <th>1</th>\n",
              "    </tr>\n",
              "  </thead>\n",
              "  <tbody>\n",
              "    <tr>\n",
              "      <th>0</th>\n",
              "      <td>0</td>\n",
              "      <td>fear</td>\n",
              "    </tr>\n",
              "    <tr>\n",
              "      <th>1</th>\n",
              "      <td>2</td>\n",
              "      <td>heel pain</td>\n",
              "    </tr>\n",
              "    <tr>\n",
              "      <th>2</th>\n",
              "      <td>4</td>\n",
              "      <td>purple sploches around waist</td>\n",
              "    </tr>\n",
              "    <tr>\n",
              "      <th>3</th>\n",
              "      <td>7</td>\n",
              "      <td>goiter</td>\n",
              "    </tr>\n",
              "    <tr>\n",
              "      <th>4</th>\n",
              "      <td>8</td>\n",
              "      <td>ARTHRITIS</td>\n",
              "    </tr>\n",
              "  </tbody>\n",
              "</table>\n",
              "</div>"
            ],
            "text/plain": [
              "   0                             1\n",
              "0  0                          fear\n",
              "1  2                     heel pain\n",
              "2  4  purple sploches around waist\n",
              "3  7                        goiter\n",
              "4  8                     ARTHRITIS"
            ]
          },
          "metadata": {
            "tags": []
          },
          "execution_count": 12
        }
      ]
    },
    {
      "cell_type": "code",
      "metadata": {
        "id": "cOza9dfSsBud",
        "colab_type": "code",
        "outputId": "a64bc45c-a130-4c12-cffa-bd35f7412b77",
        "colab": {
          "base_uri": "https://localhost:8080/",
          "height": 204
        }
      },
      "source": [
        "# testing data set\n",
        "\n",
        "test = pd.read_csv(path/\"AskAPatient_overlap_80.csv\",header=None)\n",
        "test.head()"
      ],
      "execution_count": 13,
      "outputs": [
        {
          "output_type": "execute_result",
          "data": {
            "text/html": [
              "<div>\n",
              "<style scoped>\n",
              "    .dataframe tbody tr th:only-of-type {\n",
              "        vertical-align: middle;\n",
              "    }\n",
              "\n",
              "    .dataframe tbody tr th {\n",
              "        vertical-align: top;\n",
              "    }\n",
              "\n",
              "    .dataframe thead th {\n",
              "        text-align: right;\n",
              "    }\n",
              "</style>\n",
              "<table border=\"1\" class=\"dataframe\">\n",
              "  <thead>\n",
              "    <tr style=\"text-align: right;\">\n",
              "      <th></th>\n",
              "      <th>0</th>\n",
              "      <th>1</th>\n",
              "    </tr>\n",
              "  </thead>\n",
              "  <tbody>\n",
              "    <tr>\n",
              "      <th>0</th>\n",
              "      <td>0</td>\n",
              "      <td>'scared' feeling</td>\n",
              "    </tr>\n",
              "    <tr>\n",
              "      <th>1</th>\n",
              "      <td>2</td>\n",
              "      <td>heel pain</td>\n",
              "    </tr>\n",
              "    <tr>\n",
              "      <th>2</th>\n",
              "      <td>2</td>\n",
              "      <td>heel pain</td>\n",
              "    </tr>\n",
              "    <tr>\n",
              "      <th>3</th>\n",
              "      <td>2</td>\n",
              "      <td>heel pain</td>\n",
              "    </tr>\n",
              "    <tr>\n",
              "      <th>4</th>\n",
              "      <td>2</td>\n",
              "      <td>right heel became painful</td>\n",
              "    </tr>\n",
              "  </tbody>\n",
              "</table>\n",
              "</div>"
            ],
            "text/plain": [
              "   0                          1\n",
              "0  0           'scared' feeling\n",
              "1  2                  heel pain\n",
              "2  2                  heel pain\n",
              "3  2                  heel pain\n",
              "4  2  right heel became painful"
            ]
          },
          "metadata": {
            "tags": []
          },
          "execution_count": 13
        }
      ]
    },
    {
      "cell_type": "code",
      "metadata": {
        "id": "Vo-YNvVYoaH6",
        "colab_type": "code",
        "colab": {}
      },
      "source": [
        "# Creating DataBunch for language modelling\n",
        "\n",
        "data_lm = TextLMDataBunch.from_csv(path, 'fine_tuning_language_model_cadec_data.csv')"
      ],
      "execution_count": 0,
      "outputs": []
    },
    {
      "cell_type": "code",
      "metadata": {
        "id": "1ScY9afDsnvE",
        "colab_type": "code",
        "colab": {}
      },
      "source": [
        "# Creating DataBunch for classification\n",
        "\n",
        "# data_clas = TextClasDataBunch.from_df(path, train, valid, test, vocab=data_lm.train_ds.vocab, bs=128)"
      ],
      "execution_count": 0,
      "outputs": []
    },
    {
      "cell_type": "code",
      "metadata": {
        "id": "gzrSdQcvey9p",
        "colab_type": "code",
        "colab": {}
      },
      "source": [
        "data_clas = TextClasDataBunch.from_df(path, train, valid, vocab=data_lm.train_ds.vocab, bs=128)"
      ],
      "execution_count": 0,
      "outputs": []
    },
    {
      "cell_type": "code",
      "metadata": {
        "id": "MD27Tf0Ke3ou",
        "colab_type": "code",
        "colab": {}
      },
      "source": [
        "data_clas.add_test(test,label=0)\n"
      ],
      "execution_count": 0,
      "outputs": []
    },
    {
      "cell_type": "code",
      "metadata": {
        "id": "-dpjnk_rstwk",
        "colab_type": "code",
        "outputId": "15aae83f-0afa-4f7a-8ee6-9707b36951a6",
        "colab": {
          "base_uri": "https://localhost:8080/",
          "height": 71
        }
      },
      "source": [
        "data_lm.save()\n",
        "data_clas.save()"
      ],
      "execution_count": 18,
      "outputs": [
        {
          "output_type": "stream",
          "text": [
            "/usr/local/lib/python3.6/dist-packages/torch/serialization.py:292: UserWarning: Couldn't retrieve source code for container of type CrossEntropyLoss. It won't be checked for correctness upon loading.\n",
            "  \"type \" + obj.__name__ + \". It won't be checked \"\n"
          ],
          "name": "stderr"
        }
      ]
    },
    {
      "cell_type": "code",
      "metadata": {
        "id": "4OkiJa36sw5s",
        "colab_type": "code",
        "colab": {}
      },
      "source": [
        "data_lm.train_ds.vocab.itos"
      ],
      "execution_count": 0,
      "outputs": []
    },
    {
      "cell_type": "code",
      "metadata": {
        "id": "yPWr03mls3VT",
        "colab_type": "code",
        "colab": {}
      },
      "source": [
        "model_path = path/'models'\n",
        "model_path.mkdir(exist_ok=True)\n",
        "url = 'http://files.fast.ai/models/wt103_v1/'\n",
        "download_url(f'{url}lstm_wt103.pth', model_path/'lstm_wt103.pth')\n",
        "download_url(f'{url}itos_wt103.pkl', model_path/'itos_wt103.pkl')"
      ],
      "execution_count": 0,
      "outputs": []
    },
    {
      "cell_type": "code",
      "metadata": {
        "id": "JRzvWg8RtGGr",
        "colab_type": "code",
        "colab": {}
      },
      "source": [
        "learn = language_model_learner(data_lm, AWD_LSTM, drop_mult=0.5)"
      ],
      "execution_count": 0,
      "outputs": []
    },
    {
      "cell_type": "code",
      "metadata": {
        "id": "xKK7GeBev7Xn",
        "colab_type": "code",
        "outputId": "1765cfdb-152c-4d0c-ff4b-7cbdbe1e5b53",
        "colab": {
          "base_uri": "https://localhost:8080/",
          "height": 80
        }
      },
      "source": [
        "learn.fit_one_cycle(1, 1e-2)"
      ],
      "execution_count": 22,
      "outputs": [
        {
          "output_type": "display_data",
          "data": {
            "text/html": [
              "<table border=\"1\" class=\"dataframe\">\n",
              "  <thead>\n",
              "    <tr style=\"text-align: left;\">\n",
              "      <th>epoch</th>\n",
              "      <th>train_loss</th>\n",
              "      <th>valid_loss</th>\n",
              "      <th>accuracy</th>\n",
              "      <th>time</th>\n",
              "    </tr>\n",
              "  </thead>\n",
              "  <tbody>\n",
              "    <tr>\n",
              "      <td>0</td>\n",
              "      <td>4.855447</td>\n",
              "      <td>4.204043</td>\n",
              "      <td>0.219675</td>\n",
              "      <td>03:50</td>\n",
              "    </tr>\n",
              "  </tbody>\n",
              "</table>"
            ],
            "text/plain": [
              "<IPython.core.display.HTML object>"
            ]
          },
          "metadata": {
            "tags": []
          }
        }
      ]
    },
    {
      "cell_type": "code",
      "metadata": {
        "id": "iB7rHGQCwd12",
        "colab_type": "code",
        "outputId": "a93d3185-7e69-4ed2-ad91-b9c05ee51ac8",
        "colab": {
          "base_uri": "https://localhost:8080/",
          "height": 80
        }
      },
      "source": [
        "learn.fit_one_cycle(1, 1e-2)"
      ],
      "execution_count": 23,
      "outputs": [
        {
          "output_type": "display_data",
          "data": {
            "text/html": [
              "<table border=\"1\" class=\"dataframe\">\n",
              "  <thead>\n",
              "    <tr style=\"text-align: left;\">\n",
              "      <th>epoch</th>\n",
              "      <th>train_loss</th>\n",
              "      <th>valid_loss</th>\n",
              "      <th>accuracy</th>\n",
              "      <th>time</th>\n",
              "    </tr>\n",
              "  </thead>\n",
              "  <tbody>\n",
              "    <tr>\n",
              "      <td>0</td>\n",
              "      <td>3.979640</td>\n",
              "      <td>3.711450</td>\n",
              "      <td>0.293431</td>\n",
              "      <td>03:44</td>\n",
              "    </tr>\n",
              "  </tbody>\n",
              "</table>"
            ],
            "text/plain": [
              "<IPython.core.display.HTML object>"
            ]
          },
          "metadata": {
            "tags": []
          }
        }
      ]
    },
    {
      "cell_type": "code",
      "metadata": {
        "id": "_BnSuAeCwkBe",
        "colab_type": "code",
        "outputId": "82fd1105-6e7e-4469-9be0-1646d6beb581",
        "colab": {
          "base_uri": "https://localhost:8080/",
          "height": 80
        }
      },
      "source": [
        "learn.fit_one_cycle(1, 1e-3)"
      ],
      "execution_count": 24,
      "outputs": [
        {
          "output_type": "display_data",
          "data": {
            "text/html": [
              "<table border=\"1\" class=\"dataframe\">\n",
              "  <thead>\n",
              "    <tr style=\"text-align: left;\">\n",
              "      <th>epoch</th>\n",
              "      <th>train_loss</th>\n",
              "      <th>valid_loss</th>\n",
              "      <th>accuracy</th>\n",
              "      <th>time</th>\n",
              "    </tr>\n",
              "  </thead>\n",
              "  <tbody>\n",
              "    <tr>\n",
              "      <td>0</td>\n",
              "      <td>3.705868</td>\n",
              "      <td>3.679305</td>\n",
              "      <td>0.299298</td>\n",
              "      <td>03:46</td>\n",
              "    </tr>\n",
              "  </tbody>\n",
              "</table>"
            ],
            "text/plain": [
              "<IPython.core.display.HTML object>"
            ]
          },
          "metadata": {
            "tags": []
          }
        }
      ]
    },
    {
      "cell_type": "code",
      "metadata": {
        "id": "MuTm-RFjwrEX",
        "colab_type": "code",
        "outputId": "bc1bb275-be7b-497c-829d-7b4969050c6f",
        "colab": {
          "base_uri": "https://localhost:8080/",
          "height": 80
        }
      },
      "source": [
        "learn.fit_one_cycle(1, 1e-3)"
      ],
      "execution_count": 25,
      "outputs": [
        {
          "output_type": "display_data",
          "data": {
            "text/html": [
              "<table border=\"1\" class=\"dataframe\">\n",
              "  <thead>\n",
              "    <tr style=\"text-align: left;\">\n",
              "      <th>epoch</th>\n",
              "      <th>train_loss</th>\n",
              "      <th>valid_loss</th>\n",
              "      <th>accuracy</th>\n",
              "      <th>time</th>\n",
              "    </tr>\n",
              "  </thead>\n",
              "  <tbody>\n",
              "    <tr>\n",
              "      <td>0</td>\n",
              "      <td>3.677823</td>\n",
              "      <td>3.656944</td>\n",
              "      <td>0.301626</td>\n",
              "      <td>03:53</td>\n",
              "    </tr>\n",
              "  </tbody>\n",
              "</table>"
            ],
            "text/plain": [
              "<IPython.core.display.HTML object>"
            ]
          },
          "metadata": {
            "tags": []
          }
        }
      ]
    },
    {
      "cell_type": "code",
      "metadata": {
        "id": "1Er2ExO8wr7Y",
        "colab_type": "code",
        "colab": {}
      },
      "source": [
        "learn.save_encoder('AskAPatient_overlap_80_first')"
      ],
      "execution_count": 0,
      "outputs": []
    },
    {
      "cell_type": "code",
      "metadata": {
        "id": "z52cZs2qwvad",
        "colab_type": "code",
        "outputId": "40a79079-206e-4c0d-f245-6644d06f0a01",
        "colab": {
          "base_uri": "https://localhost:8080/",
          "height": 80
        }
      },
      "source": [
        "learn = text_classifier_learner(data_clas,AWD_LSTM, drop_mult=0.5)\n",
        "learn.load_encoder('AskAPatient_overlap_80_first')\n",
        "learn.fit_one_cycle(1, 1e-2)"
      ],
      "execution_count": 27,
      "outputs": [
        {
          "output_type": "display_data",
          "data": {
            "text/html": [
              "<table border=\"1\" class=\"dataframe\">\n",
              "  <thead>\n",
              "    <tr style=\"text-align: left;\">\n",
              "      <th>epoch</th>\n",
              "      <th>train_loss</th>\n",
              "      <th>valid_loss</th>\n",
              "      <th>accuracy</th>\n",
              "      <th>time</th>\n",
              "    </tr>\n",
              "  </thead>\n",
              "  <tbody>\n",
              "    <tr>\n",
              "      <td>0</td>\n",
              "      <td>3.837033</td>\n",
              "      <td>3.471375</td>\n",
              "      <td>0.426035</td>\n",
              "      <td>01:14</td>\n",
              "    </tr>\n",
              "  </tbody>\n",
              "</table>"
            ],
            "text/plain": [
              "<IPython.core.display.HTML object>"
            ]
          },
          "metadata": {
            "tags": []
          }
        }
      ]
    },
    {
      "cell_type": "code",
      "metadata": {
        "id": "ImwQP1PJwzxd",
        "colab_type": "code",
        "outputId": "a9e17c1f-8bda-4f80-91cb-f7743037eb80",
        "colab": {
          "base_uri": "https://localhost:8080/",
          "height": 80
        }
      },
      "source": [
        "learn.freeze_to(-2)\n",
        "learn.fit_one_cycle(1, slice(5e-3/2., 5e-3))"
      ],
      "execution_count": 28,
      "outputs": [
        {
          "output_type": "display_data",
          "data": {
            "text/html": [
              "<table border=\"1\" class=\"dataframe\">\n",
              "  <thead>\n",
              "    <tr style=\"text-align: left;\">\n",
              "      <th>epoch</th>\n",
              "      <th>train_loss</th>\n",
              "      <th>valid_loss</th>\n",
              "      <th>accuracy</th>\n",
              "      <th>time</th>\n",
              "    </tr>\n",
              "  </thead>\n",
              "  <tbody>\n",
              "    <tr>\n",
              "      <td>0</td>\n",
              "      <td>2.872308</td>\n",
              "      <td>2.992386</td>\n",
              "      <td>0.482840</td>\n",
              "      <td>01:30</td>\n",
              "    </tr>\n",
              "  </tbody>\n",
              "</table>"
            ],
            "text/plain": [
              "<IPython.core.display.HTML object>"
            ]
          },
          "metadata": {
            "tags": []
          }
        }
      ]
    },
    {
      "cell_type": "code",
      "metadata": {
        "id": "Owff_BJXw53u",
        "colab_type": "code",
        "outputId": "42e929c8-ec3c-4202-8b50-bec29cd2e09d",
        "colab": {
          "base_uri": "https://localhost:8080/",
          "height": 80
        }
      },
      "source": [
        "learn.unfreeze()\n",
        "learn.fit_one_cycle(1, slice(2e-3/100, 2e-3))"
      ],
      "execution_count": 29,
      "outputs": [
        {
          "output_type": "display_data",
          "data": {
            "text/html": [
              "<table border=\"1\" class=\"dataframe\">\n",
              "  <thead>\n",
              "    <tr style=\"text-align: left;\">\n",
              "      <th>epoch</th>\n",
              "      <th>train_loss</th>\n",
              "      <th>valid_loss</th>\n",
              "      <th>accuracy</th>\n",
              "      <th>time</th>\n",
              "    </tr>\n",
              "  </thead>\n",
              "  <tbody>\n",
              "    <tr>\n",
              "      <td>0</td>\n",
              "      <td>2.367980</td>\n",
              "      <td>2.635188</td>\n",
              "      <td>0.551479</td>\n",
              "      <td>03:34</td>\n",
              "    </tr>\n",
              "  </tbody>\n",
              "</table>"
            ],
            "text/plain": [
              "<IPython.core.display.HTML object>"
            ]
          },
          "metadata": {
            "tags": []
          }
        }
      ]
    },
    {
      "cell_type": "code",
      "metadata": {
        "id": "lqAyu56V8Waq",
        "colab_type": "code",
        "outputId": "461c5c88-9382-45e4-bc8b-0379b71ac31d",
        "colab": {
          "base_uri": "https://localhost:8080/",
          "height": 111
        }
      },
      "source": [
        "learn.fit_one_cycle(2, slice(2e-3/100, 2e-3))"
      ],
      "execution_count": 30,
      "outputs": [
        {
          "output_type": "display_data",
          "data": {
            "text/html": [
              "<table border=\"1\" class=\"dataframe\">\n",
              "  <thead>\n",
              "    <tr style=\"text-align: left;\">\n",
              "      <th>epoch</th>\n",
              "      <th>train_loss</th>\n",
              "      <th>valid_loss</th>\n",
              "      <th>accuracy</th>\n",
              "      <th>time</th>\n",
              "    </tr>\n",
              "  </thead>\n",
              "  <tbody>\n",
              "    <tr>\n",
              "      <td>0</td>\n",
              "      <td>1.915586</td>\n",
              "      <td>2.311023</td>\n",
              "      <td>0.611834</td>\n",
              "      <td>03:39</td>\n",
              "    </tr>\n",
              "    <tr>\n",
              "      <td>1</td>\n",
              "      <td>1.687151</td>\n",
              "      <td>2.179105</td>\n",
              "      <td>0.654438</td>\n",
              "      <td>03:31</td>\n",
              "    </tr>\n",
              "  </tbody>\n",
              "</table>"
            ],
            "text/plain": [
              "<IPython.core.display.HTML object>"
            ]
          },
          "metadata": {
            "tags": []
          }
        }
      ]
    },
    {
      "cell_type": "code",
      "metadata": {
        "id": "a7I1xMRp8bUd",
        "colab_type": "code",
        "outputId": "aae15cac-d0df-4726-b60b-ceb194aae071",
        "colab": {
          "base_uri": "https://localhost:8080/",
          "height": 111
        }
      },
      "source": [
        "learn.fit_one_cycle(2, slice(2e-3/100, 2e-3))"
      ],
      "execution_count": 31,
      "outputs": [
        {
          "output_type": "display_data",
          "data": {
            "text/html": [
              "<table border=\"1\" class=\"dataframe\">\n",
              "  <thead>\n",
              "    <tr style=\"text-align: left;\">\n",
              "      <th>epoch</th>\n",
              "      <th>train_loss</th>\n",
              "      <th>valid_loss</th>\n",
              "      <th>accuracy</th>\n",
              "      <th>time</th>\n",
              "    </tr>\n",
              "  </thead>\n",
              "  <tbody>\n",
              "    <tr>\n",
              "      <td>0</td>\n",
              "      <td>1.585314</td>\n",
              "      <td>2.028065</td>\n",
              "      <td>0.655621</td>\n",
              "      <td>03:43</td>\n",
              "    </tr>\n",
              "    <tr>\n",
              "      <td>1</td>\n",
              "      <td>1.441709</td>\n",
              "      <td>1.873377</td>\n",
              "      <td>0.686391</td>\n",
              "      <td>03:53</td>\n",
              "    </tr>\n",
              "  </tbody>\n",
              "</table>"
            ],
            "text/plain": [
              "<IPython.core.display.HTML object>"
            ]
          },
          "metadata": {
            "tags": []
          }
        }
      ]
    },
    {
      "cell_type": "code",
      "metadata": {
        "id": "UAnti-XmGVfO",
        "colab_type": "code",
        "outputId": "c256cc21-d1fa-42ca-8131-0326624c102a",
        "colab": {
          "base_uri": "https://localhost:8080/",
          "height": 111
        }
      },
      "source": [
        "learn.fit_one_cycle(2, slice(2e-3/100, 2e-3))"
      ],
      "execution_count": 32,
      "outputs": [
        {
          "output_type": "display_data",
          "data": {
            "text/html": [
              "<table border=\"1\" class=\"dataframe\">\n",
              "  <thead>\n",
              "    <tr style=\"text-align: left;\">\n",
              "      <th>epoch</th>\n",
              "      <th>train_loss</th>\n",
              "      <th>valid_loss</th>\n",
              "      <th>accuracy</th>\n",
              "      <th>time</th>\n",
              "    </tr>\n",
              "  </thead>\n",
              "  <tbody>\n",
              "    <tr>\n",
              "      <td>0</td>\n",
              "      <td>1.338618</td>\n",
              "      <td>1.793298</td>\n",
              "      <td>0.704142</td>\n",
              "      <td>03:34</td>\n",
              "    </tr>\n",
              "    <tr>\n",
              "      <td>1</td>\n",
              "      <td>1.185531</td>\n",
              "      <td>1.704057</td>\n",
              "      <td>0.712426</td>\n",
              "      <td>03:48</td>\n",
              "    </tr>\n",
              "  </tbody>\n",
              "</table>"
            ],
            "text/plain": [
              "<IPython.core.display.HTML object>"
            ]
          },
          "metadata": {
            "tags": []
          }
        }
      ]
    },
    {
      "cell_type": "code",
      "metadata": {
        "id": "bIft7W25GwSu",
        "colab_type": "code",
        "outputId": "9acb19e3-3d72-4452-87ff-ebf305166a3a",
        "colab": {
          "base_uri": "https://localhost:8080/",
          "height": 111
        }
      },
      "source": [
        "learn.fit_one_cycle(2, slice(2e-3/100, 2e-3))"
      ],
      "execution_count": 33,
      "outputs": [
        {
          "output_type": "display_data",
          "data": {
            "text/html": [
              "<table border=\"1\" class=\"dataframe\">\n",
              "  <thead>\n",
              "    <tr style=\"text-align: left;\">\n",
              "      <th>epoch</th>\n",
              "      <th>train_loss</th>\n",
              "      <th>valid_loss</th>\n",
              "      <th>accuracy</th>\n",
              "      <th>time</th>\n",
              "    </tr>\n",
              "  </thead>\n",
              "  <tbody>\n",
              "    <tr>\n",
              "      <td>0</td>\n",
              "      <td>1.123259</td>\n",
              "      <td>1.653165</td>\n",
              "      <td>0.714793</td>\n",
              "      <td>03:42</td>\n",
              "    </tr>\n",
              "    <tr>\n",
              "      <td>1</td>\n",
              "      <td>1.042153</td>\n",
              "      <td>1.580295</td>\n",
              "      <td>0.727811</td>\n",
              "      <td>03:39</td>\n",
              "    </tr>\n",
              "  </tbody>\n",
              "</table>"
            ],
            "text/plain": [
              "<IPython.core.display.HTML object>"
            ]
          },
          "metadata": {
            "tags": []
          }
        }
      ]
    },
    {
      "cell_type": "code",
      "metadata": {
        "id": "EEHszVRvGyFt",
        "colab_type": "code",
        "outputId": "d78c854f-3bbc-4d18-f560-22d4550f88d3",
        "colab": {
          "base_uri": "https://localhost:8080/",
          "height": 111
        }
      },
      "source": [
        "learn.fit_one_cycle(2, slice(2e-3/100, 2e-3))"
      ],
      "execution_count": 34,
      "outputs": [
        {
          "output_type": "display_data",
          "data": {
            "text/html": [
              "<table border=\"1\" class=\"dataframe\">\n",
              "  <thead>\n",
              "    <tr style=\"text-align: left;\">\n",
              "      <th>epoch</th>\n",
              "      <th>train_loss</th>\n",
              "      <th>valid_loss</th>\n",
              "      <th>accuracy</th>\n",
              "      <th>time</th>\n",
              "    </tr>\n",
              "  </thead>\n",
              "  <tbody>\n",
              "    <tr>\n",
              "      <td>0</td>\n",
              "      <td>1.005342</td>\n",
              "      <td>1.569300</td>\n",
              "      <td>0.736095</td>\n",
              "      <td>03:49</td>\n",
              "    </tr>\n",
              "    <tr>\n",
              "      <td>1</td>\n",
              "      <td>0.912023</td>\n",
              "      <td>1.508993</td>\n",
              "      <td>0.740828</td>\n",
              "      <td>03:39</td>\n",
              "    </tr>\n",
              "  </tbody>\n",
              "</table>"
            ],
            "text/plain": [
              "<IPython.core.display.HTML object>"
            ]
          },
          "metadata": {
            "tags": []
          }
        }
      ]
    },
    {
      "cell_type": "code",
      "metadata": {
        "id": "XsHfrhCHG3dN",
        "colab_type": "code",
        "outputId": "6c0836d3-cf4b-4b91-a16b-9bb8ef6fddb6",
        "colab": {
          "base_uri": "https://localhost:8080/",
          "height": 173
        }
      },
      "source": [
        "learn.fit_one_cycle(4, slice(2e-3/100, 2e-3))"
      ],
      "execution_count": 35,
      "outputs": [
        {
          "output_type": "display_data",
          "data": {
            "text/html": [
              "<table border=\"1\" class=\"dataframe\">\n",
              "  <thead>\n",
              "    <tr style=\"text-align: left;\">\n",
              "      <th>epoch</th>\n",
              "      <th>train_loss</th>\n",
              "      <th>valid_loss</th>\n",
              "      <th>accuracy</th>\n",
              "      <th>time</th>\n",
              "    </tr>\n",
              "  </thead>\n",
              "  <tbody>\n",
              "    <tr>\n",
              "      <td>0</td>\n",
              "      <td>0.871979</td>\n",
              "      <td>1.448879</td>\n",
              "      <td>0.757396</td>\n",
              "      <td>03:44</td>\n",
              "    </tr>\n",
              "    <tr>\n",
              "      <td>1</td>\n",
              "      <td>0.879716</td>\n",
              "      <td>1.469465</td>\n",
              "      <td>0.747929</td>\n",
              "      <td>03:49</td>\n",
              "    </tr>\n",
              "    <tr>\n",
              "      <td>2</td>\n",
              "      <td>0.759946</td>\n",
              "      <td>1.432290</td>\n",
              "      <td>0.764497</td>\n",
              "      <td>03:49</td>\n",
              "    </tr>\n",
              "    <tr>\n",
              "      <td>3</td>\n",
              "      <td>0.693112</td>\n",
              "      <td>1.426327</td>\n",
              "      <td>0.765680</td>\n",
              "      <td>03:45</td>\n",
              "    </tr>\n",
              "  </tbody>\n",
              "</table>"
            ],
            "text/plain": [
              "<IPython.core.display.HTML object>"
            ]
          },
          "metadata": {
            "tags": []
          }
        }
      ]
    },
    {
      "cell_type": "code",
      "metadata": {
        "id": "0Zsd99isb9EQ",
        "colab_type": "code",
        "outputId": "1322acfd-0895-47e4-bd4f-08ce633c6b29",
        "colab": {
          "base_uri": "https://localhost:8080/",
          "height": 173
        }
      },
      "source": [
        "learn.fit_one_cycle(4, slice(2e-3/100, 2e-3))"
      ],
      "execution_count": 36,
      "outputs": [
        {
          "output_type": "display_data",
          "data": {
            "text/html": [
              "<table border=\"1\" class=\"dataframe\">\n",
              "  <thead>\n",
              "    <tr style=\"text-align: left;\">\n",
              "      <th>epoch</th>\n",
              "      <th>train_loss</th>\n",
              "      <th>valid_loss</th>\n",
              "      <th>accuracy</th>\n",
              "      <th>time</th>\n",
              "    </tr>\n",
              "  </thead>\n",
              "  <tbody>\n",
              "    <tr>\n",
              "      <td>0</td>\n",
              "      <td>0.706339</td>\n",
              "      <td>1.502252</td>\n",
              "      <td>0.760947</td>\n",
              "      <td>04:00</td>\n",
              "    </tr>\n",
              "    <tr>\n",
              "      <td>1</td>\n",
              "      <td>0.742741</td>\n",
              "      <td>1.402334</td>\n",
              "      <td>0.764497</td>\n",
              "      <td>03:41</td>\n",
              "    </tr>\n",
              "    <tr>\n",
              "      <td>2</td>\n",
              "      <td>0.649504</td>\n",
              "      <td>1.363746</td>\n",
              "      <td>0.771598</td>\n",
              "      <td>03:34</td>\n",
              "    </tr>\n",
              "    <tr>\n",
              "      <td>3</td>\n",
              "      <td>0.590928</td>\n",
              "      <td>1.325431</td>\n",
              "      <td>0.778698</td>\n",
              "      <td>04:08</td>\n",
              "    </tr>\n",
              "  </tbody>\n",
              "</table>"
            ],
            "text/plain": [
              "<IPython.core.display.HTML object>"
            ]
          },
          "metadata": {
            "tags": []
          }
        }
      ]
    },
    {
      "cell_type": "code",
      "metadata": {
        "id": "atNWNKDFPbuI",
        "colab_type": "code",
        "outputId": "37798ac0-8dbb-41e3-d43a-39ca3a37c2ca",
        "colab": {
          "base_uri": "https://localhost:8080/",
          "height": 173
        }
      },
      "source": [
        "learn.fit_one_cycle(4, slice(2e-3/100, 2e-3))"
      ],
      "execution_count": 37,
      "outputs": [
        {
          "output_type": "display_data",
          "data": {
            "text/html": [
              "<table border=\"1\" class=\"dataframe\">\n",
              "  <thead>\n",
              "    <tr style=\"text-align: left;\">\n",
              "      <th>epoch</th>\n",
              "      <th>train_loss</th>\n",
              "      <th>valid_loss</th>\n",
              "      <th>accuracy</th>\n",
              "      <th>time</th>\n",
              "    </tr>\n",
              "  </thead>\n",
              "  <tbody>\n",
              "    <tr>\n",
              "      <td>0</td>\n",
              "      <td>0.565417</td>\n",
              "      <td>1.381618</td>\n",
              "      <td>0.768047</td>\n",
              "      <td>03:57</td>\n",
              "    </tr>\n",
              "    <tr>\n",
              "      <td>1</td>\n",
              "      <td>0.632684</td>\n",
              "      <td>1.430697</td>\n",
              "      <td>0.769231</td>\n",
              "      <td>03:42</td>\n",
              "    </tr>\n",
              "    <tr>\n",
              "      <td>2</td>\n",
              "      <td>0.589456</td>\n",
              "      <td>1.390058</td>\n",
              "      <td>0.775148</td>\n",
              "      <td>03:49</td>\n",
              "    </tr>\n",
              "    <tr>\n",
              "      <td>3</td>\n",
              "      <td>0.532687</td>\n",
              "      <td>1.362933</td>\n",
              "      <td>0.777515</td>\n",
              "      <td>03:49</td>\n",
              "    </tr>\n",
              "  </tbody>\n",
              "</table>"
            ],
            "text/plain": [
              "<IPython.core.display.HTML object>"
            ]
          },
          "metadata": {
            "tags": []
          }
        }
      ]
    },
    {
      "cell_type": "code",
      "metadata": {
        "id": "rKrBTZ0T1uVA",
        "colab_type": "code",
        "outputId": "2a8548a2-4a0e-4e81-ca8f-a54340bd019c",
        "colab": {
          "base_uri": "https://localhost:8080/",
          "height": 173
        }
      },
      "source": [
        "learn.fit_one_cycle(4, slice(2e-3/100, 2e-3))"
      ],
      "execution_count": 38,
      "outputs": [
        {
          "output_type": "display_data",
          "data": {
            "text/html": [
              "<table border=\"1\" class=\"dataframe\">\n",
              "  <thead>\n",
              "    <tr style=\"text-align: left;\">\n",
              "      <th>epoch</th>\n",
              "      <th>train_loss</th>\n",
              "      <th>valid_loss</th>\n",
              "      <th>accuracy</th>\n",
              "      <th>time</th>\n",
              "    </tr>\n",
              "  </thead>\n",
              "  <tbody>\n",
              "    <tr>\n",
              "      <td>0</td>\n",
              "      <td>0.530852</td>\n",
              "      <td>1.373046</td>\n",
              "      <td>0.778698</td>\n",
              "      <td>04:03</td>\n",
              "    </tr>\n",
              "    <tr>\n",
              "      <td>1</td>\n",
              "      <td>0.585313</td>\n",
              "      <td>1.377029</td>\n",
              "      <td>0.773965</td>\n",
              "      <td>03:51</td>\n",
              "    </tr>\n",
              "    <tr>\n",
              "      <td>2</td>\n",
              "      <td>0.596022</td>\n",
              "      <td>1.387156</td>\n",
              "      <td>0.785799</td>\n",
              "      <td>03:47</td>\n",
              "    </tr>\n",
              "    <tr>\n",
              "      <td>3</td>\n",
              "      <td>0.494466</td>\n",
              "      <td>1.379115</td>\n",
              "      <td>0.785799</td>\n",
              "      <td>04:02</td>\n",
              "    </tr>\n",
              "  </tbody>\n",
              "</table>"
            ],
            "text/plain": [
              "<IPython.core.display.HTML object>"
            ]
          },
          "metadata": {
            "tags": []
          }
        }
      ]
    },
    {
      "cell_type": "code",
      "metadata": {
        "id": "l49hlnWh3Ttc",
        "colab_type": "code",
        "outputId": "71f61692-95f8-43e3-9618-53f62e8a0213",
        "colab": {
          "base_uri": "https://localhost:8080/",
          "height": 173
        }
      },
      "source": [
        "learn.fit_one_cycle(4, slice(2e-3/100, 2e-3))"
      ],
      "execution_count": 39,
      "outputs": [
        {
          "output_type": "display_data",
          "data": {
            "text/html": [
              "<table border=\"1\" class=\"dataframe\">\n",
              "  <thead>\n",
              "    <tr style=\"text-align: left;\">\n",
              "      <th>epoch</th>\n",
              "      <th>train_loss</th>\n",
              "      <th>valid_loss</th>\n",
              "      <th>accuracy</th>\n",
              "      <th>time</th>\n",
              "    </tr>\n",
              "  </thead>\n",
              "  <tbody>\n",
              "    <tr>\n",
              "      <td>0</td>\n",
              "      <td>0.501731</td>\n",
              "      <td>1.416571</td>\n",
              "      <td>0.781065</td>\n",
              "      <td>03:48</td>\n",
              "    </tr>\n",
              "    <tr>\n",
              "      <td>1</td>\n",
              "      <td>0.569516</td>\n",
              "      <td>1.382547</td>\n",
              "      <td>0.779882</td>\n",
              "      <td>03:44</td>\n",
              "    </tr>\n",
              "    <tr>\n",
              "      <td>2</td>\n",
              "      <td>0.507674</td>\n",
              "      <td>1.433519</td>\n",
              "      <td>0.777515</td>\n",
              "      <td>03:54</td>\n",
              "    </tr>\n",
              "    <tr>\n",
              "      <td>3</td>\n",
              "      <td>0.459213</td>\n",
              "      <td>1.354898</td>\n",
              "      <td>0.782248</td>\n",
              "      <td>04:00</td>\n",
              "    </tr>\n",
              "  </tbody>\n",
              "</table>"
            ],
            "text/plain": [
              "<IPython.core.display.HTML object>"
            ]
          },
          "metadata": {
            "tags": []
          }
        }
      ]
    },
    {
      "cell_type": "code",
      "metadata": {
        "id": "eOHV1B2U3ZDj",
        "colab_type": "code",
        "outputId": "9698147d-674e-4303-ad76-bcb0323ada5f",
        "colab": {
          "base_uri": "https://localhost:8080/",
          "height": 173
        }
      },
      "source": [
        "learn.fit_one_cycle(4, slice(2e-3/100, 2e-3))"
      ],
      "execution_count": 40,
      "outputs": [
        {
          "output_type": "display_data",
          "data": {
            "text/html": [
              "<table border=\"1\" class=\"dataframe\">\n",
              "  <thead>\n",
              "    <tr style=\"text-align: left;\">\n",
              "      <th>epoch</th>\n",
              "      <th>train_loss</th>\n",
              "      <th>valid_loss</th>\n",
              "      <th>accuracy</th>\n",
              "      <th>time</th>\n",
              "    </tr>\n",
              "  </thead>\n",
              "  <tbody>\n",
              "    <tr>\n",
              "      <td>0</td>\n",
              "      <td>0.521575</td>\n",
              "      <td>1.396508</td>\n",
              "      <td>0.783432</td>\n",
              "      <td>03:54</td>\n",
              "    </tr>\n",
              "    <tr>\n",
              "      <td>1</td>\n",
              "      <td>0.527994</td>\n",
              "      <td>1.351327</td>\n",
              "      <td>0.786982</td>\n",
              "      <td>03:47</td>\n",
              "    </tr>\n",
              "    <tr>\n",
              "      <td>2</td>\n",
              "      <td>0.491530</td>\n",
              "      <td>1.371657</td>\n",
              "      <td>0.789349</td>\n",
              "      <td>03:50</td>\n",
              "    </tr>\n",
              "    <tr>\n",
              "      <td>3</td>\n",
              "      <td>0.472078</td>\n",
              "      <td>1.430688</td>\n",
              "      <td>0.790533</td>\n",
              "      <td>03:57</td>\n",
              "    </tr>\n",
              "  </tbody>\n",
              "</table>"
            ],
            "text/plain": [
              "<IPython.core.display.HTML object>"
            ]
          },
          "metadata": {
            "tags": []
          }
        }
      ]
    },
    {
      "cell_type": "code",
      "metadata": {
        "id": "FA9z91sk3Zyy",
        "colab_type": "code",
        "outputId": "7fbd93a8-867f-43a1-d6f6-f8052884d0c9",
        "colab": {
          "base_uri": "https://localhost:8080/",
          "height": 173
        }
      },
      "source": [
        "learn.fit_one_cycle(4, slice(2e-3/100, 2e-3))"
      ],
      "execution_count": 41,
      "outputs": [
        {
          "output_type": "display_data",
          "data": {
            "text/html": [
              "<table border=\"1\" class=\"dataframe\">\n",
              "  <thead>\n",
              "    <tr style=\"text-align: left;\">\n",
              "      <th>epoch</th>\n",
              "      <th>train_loss</th>\n",
              "      <th>valid_loss</th>\n",
              "      <th>accuracy</th>\n",
              "      <th>time</th>\n",
              "    </tr>\n",
              "  </thead>\n",
              "  <tbody>\n",
              "    <tr>\n",
              "      <td>0</td>\n",
              "      <td>0.461445</td>\n",
              "      <td>1.448060</td>\n",
              "      <td>0.789349</td>\n",
              "      <td>04:02</td>\n",
              "    </tr>\n",
              "    <tr>\n",
              "      <td>1</td>\n",
              "      <td>0.491969</td>\n",
              "      <td>1.480519</td>\n",
              "      <td>0.775148</td>\n",
              "      <td>04:02</td>\n",
              "    </tr>\n",
              "    <tr>\n",
              "      <td>2</td>\n",
              "      <td>0.499638</td>\n",
              "      <td>1.423225</td>\n",
              "      <td>0.788166</td>\n",
              "      <td>03:38</td>\n",
              "    </tr>\n",
              "    <tr>\n",
              "      <td>3</td>\n",
              "      <td>0.464061</td>\n",
              "      <td>1.389407</td>\n",
              "      <td>0.788166</td>\n",
              "      <td>03:42</td>\n",
              "    </tr>\n",
              "  </tbody>\n",
              "</table>"
            ],
            "text/plain": [
              "<IPython.core.display.HTML object>"
            ]
          },
          "metadata": {
            "tags": []
          }
        }
      ]
    },
    {
      "cell_type": "code",
      "metadata": {
        "id": "9JbjgW6n3b1K",
        "colab_type": "code",
        "outputId": "01f3f5c5-d1c0-4fec-98a5-a79771b29db9",
        "colab": {
          "base_uri": "https://localhost:8080/",
          "height": 173
        }
      },
      "source": [
        "learn.fit_one_cycle(4, slice(2e-3/100, 2e-3))"
      ],
      "execution_count": 42,
      "outputs": [
        {
          "output_type": "display_data",
          "data": {
            "text/html": [
              "<table border=\"1\" class=\"dataframe\">\n",
              "  <thead>\n",
              "    <tr style=\"text-align: left;\">\n",
              "      <th>epoch</th>\n",
              "      <th>train_loss</th>\n",
              "      <th>valid_loss</th>\n",
              "      <th>accuracy</th>\n",
              "      <th>time</th>\n",
              "    </tr>\n",
              "  </thead>\n",
              "  <tbody>\n",
              "    <tr>\n",
              "      <td>0</td>\n",
              "      <td>0.469933</td>\n",
              "      <td>1.472776</td>\n",
              "      <td>0.784615</td>\n",
              "      <td>03:53</td>\n",
              "    </tr>\n",
              "    <tr>\n",
              "      <td>1</td>\n",
              "      <td>0.490892</td>\n",
              "      <td>1.439897</td>\n",
              "      <td>0.791716</td>\n",
              "      <td>03:47</td>\n",
              "    </tr>\n",
              "    <tr>\n",
              "      <td>2</td>\n",
              "      <td>0.474177</td>\n",
              "      <td>1.413972</td>\n",
              "      <td>0.791716</td>\n",
              "      <td>03:36</td>\n",
              "    </tr>\n",
              "    <tr>\n",
              "      <td>3</td>\n",
              "      <td>0.420462</td>\n",
              "      <td>1.397062</td>\n",
              "      <td>0.790533</td>\n",
              "      <td>04:10</td>\n",
              "    </tr>\n",
              "  </tbody>\n",
              "</table>"
            ],
            "text/plain": [
              "<IPython.core.display.HTML object>"
            ]
          },
          "metadata": {
            "tags": []
          }
        }
      ]
    },
    {
      "cell_type": "code",
      "metadata": {
        "id": "3gq-Lep13cqS",
        "colab_type": "code",
        "outputId": "28bb7f4d-989f-4149-aabd-8627e030511c",
        "colab": {
          "base_uri": "https://localhost:8080/",
          "height": 173
        }
      },
      "source": [
        "learn.fit_one_cycle(4, slice(2e-3/100, 2e-3))"
      ],
      "execution_count": 43,
      "outputs": [
        {
          "output_type": "display_data",
          "data": {
            "text/html": [
              "<table border=\"1\" class=\"dataframe\">\n",
              "  <thead>\n",
              "    <tr style=\"text-align: left;\">\n",
              "      <th>epoch</th>\n",
              "      <th>train_loss</th>\n",
              "      <th>valid_loss</th>\n",
              "      <th>accuracy</th>\n",
              "      <th>time</th>\n",
              "    </tr>\n",
              "  </thead>\n",
              "  <tbody>\n",
              "    <tr>\n",
              "      <td>0</td>\n",
              "      <td>0.468497</td>\n",
              "      <td>1.566244</td>\n",
              "      <td>0.782248</td>\n",
              "      <td>03:36</td>\n",
              "    </tr>\n",
              "    <tr>\n",
              "      <td>1</td>\n",
              "      <td>0.487739</td>\n",
              "      <td>1.432299</td>\n",
              "      <td>0.782248</td>\n",
              "      <td>03:47</td>\n",
              "    </tr>\n",
              "    <tr>\n",
              "      <td>2</td>\n",
              "      <td>0.460086</td>\n",
              "      <td>1.369009</td>\n",
              "      <td>0.794083</td>\n",
              "      <td>03:53</td>\n",
              "    </tr>\n",
              "    <tr>\n",
              "      <td>3</td>\n",
              "      <td>0.429596</td>\n",
              "      <td>1.413922</td>\n",
              "      <td>0.795266</td>\n",
              "      <td>03:32</td>\n",
              "    </tr>\n",
              "  </tbody>\n",
              "</table>"
            ],
            "text/plain": [
              "<IPython.core.display.HTML object>"
            ]
          },
          "metadata": {
            "tags": []
          }
        }
      ]
    },
    {
      "cell_type": "code",
      "metadata": {
        "id": "fr_3Rw6A3zSL",
        "colab_type": "code",
        "outputId": "5fe80cf8-d9fc-4211-f6f8-eeb87910e78a",
        "colab": {
          "base_uri": "https://localhost:8080/",
          "height": 173
        }
      },
      "source": [
        "learn.fit_one_cycle(4, slice(2e-3/100, 2e-3))"
      ],
      "execution_count": 44,
      "outputs": [
        {
          "output_type": "display_data",
          "data": {
            "text/html": [
              "<table border=\"1\" class=\"dataframe\">\n",
              "  <thead>\n",
              "    <tr style=\"text-align: left;\">\n",
              "      <th>epoch</th>\n",
              "      <th>train_loss</th>\n",
              "      <th>valid_loss</th>\n",
              "      <th>accuracy</th>\n",
              "      <th>time</th>\n",
              "    </tr>\n",
              "  </thead>\n",
              "  <tbody>\n",
              "    <tr>\n",
              "      <td>0</td>\n",
              "      <td>0.442990</td>\n",
              "      <td>1.520327</td>\n",
              "      <td>0.791716</td>\n",
              "      <td>03:45</td>\n",
              "    </tr>\n",
              "    <tr>\n",
              "      <td>1</td>\n",
              "      <td>0.448446</td>\n",
              "      <td>1.436985</td>\n",
              "      <td>0.786982</td>\n",
              "      <td>03:55</td>\n",
              "    </tr>\n",
              "    <tr>\n",
              "      <td>2</td>\n",
              "      <td>0.415354</td>\n",
              "      <td>1.470024</td>\n",
              "      <td>0.797633</td>\n",
              "      <td>03:53</td>\n",
              "    </tr>\n",
              "    <tr>\n",
              "      <td>3</td>\n",
              "      <td>0.395810</td>\n",
              "      <td>1.432135</td>\n",
              "      <td>0.796450</td>\n",
              "      <td>03:43</td>\n",
              "    </tr>\n",
              "  </tbody>\n",
              "</table>"
            ],
            "text/plain": [
              "<IPython.core.display.HTML object>"
            ]
          },
          "metadata": {
            "tags": []
          }
        }
      ]
    },
    {
      "cell_type": "code",
      "metadata": {
        "id": "1YuktFpPjdDj",
        "colab_type": "code",
        "colab": {
          "base_uri": "https://localhost:8080/",
          "height": 173
        },
        "outputId": "74ecb40c-7a37-4b58-c3e0-a3ac2f6a3505"
      },
      "source": [
        "learn.fit_one_cycle(4, slice(2e-3/100, 2e-3))"
      ],
      "execution_count": 45,
      "outputs": [
        {
          "output_type": "display_data",
          "data": {
            "text/html": [
              "<table border=\"1\" class=\"dataframe\">\n",
              "  <thead>\n",
              "    <tr style=\"text-align: left;\">\n",
              "      <th>epoch</th>\n",
              "      <th>train_loss</th>\n",
              "      <th>valid_loss</th>\n",
              "      <th>accuracy</th>\n",
              "      <th>time</th>\n",
              "    </tr>\n",
              "  </thead>\n",
              "  <tbody>\n",
              "    <tr>\n",
              "      <td>0</td>\n",
              "      <td>0.441490</td>\n",
              "      <td>1.526049</td>\n",
              "      <td>0.788166</td>\n",
              "      <td>03:50</td>\n",
              "    </tr>\n",
              "    <tr>\n",
              "      <td>1</td>\n",
              "      <td>0.463082</td>\n",
              "      <td>1.443624</td>\n",
              "      <td>0.802367</td>\n",
              "      <td>03:38</td>\n",
              "    </tr>\n",
              "    <tr>\n",
              "      <td>2</td>\n",
              "      <td>0.456733</td>\n",
              "      <td>1.479303</td>\n",
              "      <td>0.795266</td>\n",
              "      <td>03:42</td>\n",
              "    </tr>\n",
              "    <tr>\n",
              "      <td>3</td>\n",
              "      <td>0.401101</td>\n",
              "      <td>1.462993</td>\n",
              "      <td>0.789349</td>\n",
              "      <td>04:06</td>\n",
              "    </tr>\n",
              "  </tbody>\n",
              "</table>"
            ],
            "text/plain": [
              "<IPython.core.display.HTML object>"
            ]
          },
          "metadata": {
            "tags": []
          }
        }
      ]
    },
    {
      "cell_type": "code",
      "metadata": {
        "id": "kPoj0XssjcgJ",
        "colab_type": "code",
        "colab": {
          "base_uri": "https://localhost:8080/",
          "height": 173
        },
        "outputId": "7b419f13-8eb9-4257-9cc7-3c95d4a93589"
      },
      "source": [
        "learn.fit_one_cycle(4, slice(2e-3/100, 2e-3))"
      ],
      "execution_count": 46,
      "outputs": [
        {
          "output_type": "display_data",
          "data": {
            "text/html": [
              "<table border=\"1\" class=\"dataframe\">\n",
              "  <thead>\n",
              "    <tr style=\"text-align: left;\">\n",
              "      <th>epoch</th>\n",
              "      <th>train_loss</th>\n",
              "      <th>valid_loss</th>\n",
              "      <th>accuracy</th>\n",
              "      <th>time</th>\n",
              "    </tr>\n",
              "  </thead>\n",
              "  <tbody>\n",
              "    <tr>\n",
              "      <td>0</td>\n",
              "      <td>0.429717</td>\n",
              "      <td>1.441165</td>\n",
              "      <td>0.795266</td>\n",
              "      <td>03:51</td>\n",
              "    </tr>\n",
              "    <tr>\n",
              "      <td>1</td>\n",
              "      <td>0.467838</td>\n",
              "      <td>1.451532</td>\n",
              "      <td>0.785799</td>\n",
              "      <td>03:40</td>\n",
              "    </tr>\n",
              "    <tr>\n",
              "      <td>2</td>\n",
              "      <td>0.436461</td>\n",
              "      <td>1.392701</td>\n",
              "      <td>0.797633</td>\n",
              "      <td>03:51</td>\n",
              "    </tr>\n",
              "    <tr>\n",
              "      <td>3</td>\n",
              "      <td>0.427609</td>\n",
              "      <td>1.432850</td>\n",
              "      <td>0.792899</td>\n",
              "      <td>04:08</td>\n",
              "    </tr>\n",
              "  </tbody>\n",
              "</table>"
            ],
            "text/plain": [
              "<IPython.core.display.HTML object>"
            ]
          },
          "metadata": {
            "tags": []
          }
        }
      ]
    },
    {
      "cell_type": "code",
      "metadata": {
        "id": "c65d-osfDUXm",
        "colab_type": "code",
        "colab": {}
      },
      "source": [
        "# save the best model\n",
        "\n",
        "learn.save_encoder('AskAPatient_overlap_80')"
      ],
      "execution_count": 0,
      "outputs": []
    },
    {
      "cell_type": "markdown",
      "metadata": {
        "id": "rCwZU0E2RgM6",
        "colab_type": "text"
      },
      "source": [
        "# Part three: Predict on the test dataset"
      ]
    },
    {
      "cell_type": "code",
      "metadata": {
        "id": "gDm72c-dOu7d",
        "colab_type": "code",
        "colab": {}
      },
      "source": [
        "# use the test data for prediction\n",
        "\n",
        "preds, y = learn.get_preds(DatasetType.Test)"
      ],
      "execution_count": 0,
      "outputs": []
    },
    {
      "cell_type": "code",
      "metadata": {
        "id": "6tFSQcsWPvxn",
        "colab_type": "code",
        "outputId": "8037a0f2-835a-410f-f29c-dc7f4fba844f",
        "colab": {
          "base_uri": "https://localhost:8080/",
          "height": 105
        }
      },
      "source": [
        "predictions, *_ = learn.get_preds(DatasetType.Test)\n",
        "labels = np.argmax(predictions, 1)\n",
        "predict_list = labels.tolist()\n",
        "standard_list = test[0].tolist()\n",
        "\n",
        "print(len(predict_list))\n",
        "print(len(standard_list))\n",
        "\n",
        "print(predict_list)\n",
        "print(standard_list)"
      ],
      "execution_count": 49,
      "outputs": [
        {
          "output_type": "stream",
          "text": [
            "3051\n",
            "3051\n",
            "[416, 2, 2, 2, 2, 2, 66, 4, 308, 334, 584, 5, 48, 48, 48, 48, 269, 269, 269, 269, 269, 269, 269, 269, 269, 269, 269, 269, 269, 269, 269, 1035, 48, 8, 500, 10, 98, 123, 16, 16, 1035, 5, 71, 20, 21, 21, 964, 1035, 610, 23, 25, 27, 27, 27, 27, 1028, 27, 29, 29, 30, 30, 864, 30, 31, 584, 584, 584, 584, 584, 584, 32, 32, 34, 34, 34, 964, 704, 289, 37, 37, 37, 37, 37, 37, 37, 37, 37, 37, 37, 37, 37, 37, 37, 37, 704, 37, 37, 37, 37, 37, 289, 289, 704, 289, 289, 704, 37, 614, 190, 218, 39, 432, 515, 42, 42, 44, 44, 44, 45, 48, 256, 1031, 1031, 49, 49, 49, 49, 49, 49, 49, 49, 49, 49, 49, 49, 49, 49, 49, 49, 49, 49, 49, 49, 49, 49, 49, 49, 49, 49, 49, 49, 49, 49, 49, 49, 49, 49, 49, 50, 78, 52, 1032, 1032, 1032, 852, 852, 852, 852, 852, 852, 852, 852, 57, 58, 58, 59, 60, 60, 427, 61, 62, 62, 62, 62, 65, 1031, 69, 70, 70, 70, 70, 717, 776, 71, 71, 71, 71, 71, 71, 71, 491, 75, 76, 76, 76, 76, 289, 77, 289, 753, 122, 614, 614, 353, 353, 1031, 79, 614, 79, 260, 260, 260, 260, 260, 260, 260, 260, 260, 260, 260, 260, 260, 260, 260, 260, 260, 260, 260, 260, 260, 260, 260, 260, 260, 260, 260, 260, 260, 260, 260, 260, 260, 260, 260, 260, 260, 260, 260, 260, 260, 260, 260, 260, 260, 260, 260, 260, 260, 260, 260, 260, 260, 260, 260, 260, 260, 260, 260, 260, 260, 260, 260, 260, 260, 260, 260, 260, 260, 260, 260, 260, 260, 260, 260, 260, 260, 260, 260, 260, 260, 260, 260, 260, 260, 260, 260, 289, 289, 289, 260, 260, 260, 214, 614, 614, 614, 614, 614, 614, 614, 614, 614, 614, 614, 289, 265, 265, 79, 288, 220, 80, 80, 80, 80, 80, 80, 80, 80, 80, 80, 80, 80, 80, 80, 80, 80, 80, 80, 80, 80, 80, 81, 82, 416, 260, 353, 88, 88, 89, 137, 137, 445, 89, 48, 980, 328, 353, 80, 80, 80, 80, 80, 80, 517, 94, 94, 94, 94, 94, 94, 94, 572, 453, 453, 453, 453, 453, 453, 453, 94, 94, 94, 94, 94, 94, 94, 94, 94, 94, 94, 94, 94, 94, 94, 94, 94, 96, 96, 96, 761, 761, 96, 97, 97, 98, 683, 234, 98, 98, 794, 100, 337, 100, 100, 100, 100, 100, 337, 100, 100, 100, 100, 100, 100, 100, 100, 100, 100, 100, 847, 100, 100, 100, 100, 100, 100, 100, 101, 185, 103, 353, 353, 105, 427, 107, 107, 660, 660, 660, 660, 660, 660, 660, 660, 260, 209, 1035, 110, 203, 111, 289, 111, 111, 111, 111, 111, 111, 111, 111, 111, 111, 111, 33, 1035, 111, 111, 126, 289, 289, 289, 289, 730, 111, 289, 114, 115, 116, 117, 117, 1031, 446, 120, 288, 288, 120, 753, 753, 1031, 1031, 125, 125, 125, 125, 125, 125, 125, 125, 125, 125, 125, 125, 125, 125, 125, 125, 125, 125, 125, 125, 125, 125, 125, 125, 125, 125, 125, 125, 125, 125, 125, 125, 125, 125, 125, 125, 125, 125, 1031, 125, 125, 127, 127, 646, 289, 289, 289, 130, 130, 131, 131, 312, 13, 134, 355, 1031, 214, 355, 355, 355, 137, 879, 473, 497, 497, 1031, 447, 447, 447, 447, 447, 143, 144, 145, 146, 146, 537, 893, 301, 151, 151, 151, 151, 151, 151, 1031, 672, 155, 157, 354, 52, 158, 158, 39, 162, 163, 805, 165, 165, 166, 166, 350, 350, 350, 350, 350, 350, 257, 1031, 54, 171, 700, 172, 172, 289, 700, 700, 700, 289, 289, 289, 614, 864, 864, 864, 864, 864, 864, 864, 700, 172, 214, 214, 214, 265, 176, 683, 180, 180, 180, 180, 289, 182, 182, 182, 182, 182, 182, 182, 182, 182, 182, 182, 182, 182, 289, 289, 289, 289, 289, 182, 49, 289, 182, 183, 183, 183, 183, 183, 183, 183, 183, 183, 183, 183, 183, 183, 183, 183, 183, 183, 183, 183, 183, 183, 183, 183, 183, 183, 184, 184, 184, 185, 185, 187, 187, 187, 187, 187, 187, 187, 187, 187, 187, 187, 187, 187, 187, 1031, 189, 189, 189, 189, 1031, 753, 190, 190, 190, 190, 190, 190, 190, 190, 190, 190, 190, 190, 190, 190, 289, 190, 190, 190, 190, 190, 192, 105, 105, 105, 193, 193, 1035, 197, 197, 34, 34, 34, 34, 197, 197, 197, 197, 197, 197, 200, 202, 202, 203, 805, 94, 205, 769, 289, 289, 289, 769, 445, 207, 209, 209, 210, 210, 210, 210, 210, 210, 210, 265, 211, 213, 214, 214, 34, 1031, 34, 34, 34, 34, 34, 34, 34, 34, 214, 384, 214, 214, 214, 214, 214, 214, 214, 214, 214, 214, 214, 214, 214, 214, 214, 214, 214, 214, 214, 214, 214, 214, 214, 214, 427, 214, 214, 214, 214, 214, 214, 369, 1031, 353, 184, 218, 218, 218, 218, 218, 218, 218, 220, 220, 220, 220, 220, 220, 220, 220, 220, 353, 872, 872, 872, 224, 140, 140, 323, 227, 228, 228, 228, 631, 228, 228, 228, 228, 228, 228, 228, 228, 228, 228, 228, 228, 228, 228, 228, 228, 228, 228, 228, 228, 228, 1031, 228, 228, 228, 228, 228, 228, 228, 228, 228, 228, 228, 228, 228, 544, 230, 231, 231, 232, 323, 234, 234, 234, 234, 234, 235, 235, 235, 1031, 235, 235, 235, 236, 236, 236, 236, 337, 214, 238, 238, 1031, 1031, 710, 710, 238, 238, 1031, 239, 187, 240, 1031, 1031, 1031, 1031, 1031, 353, 353, 353, 1031, 243, 243, 243, 243, 243, 243, 243, 243, 243, 243, 243, 243, 243, 866, 1031, 1031, 1031, 787, 244, 245, 245, 728, 245, 245, 245, 245, 245, 245, 245, 245, 245, 245, 245, 245, 245, 245, 245, 245, 245, 245, 245, 350, 245, 245, 246, 246, 246, 246, 246, 27, 357, 357, 357, 246, 25, 247, 1031, 1031, 251, 1031, 909, 909, 909, 909, 909, 728, 1035, 655, 260, 260, 260, 260, 260, 260, 260, 1031, 251, 251, 264, 265, 872, 265, 265, 471, 265, 265, 704, 265, 265, 265, 265, 265, 660, 214, 301, 265, 265, 265, 265, 265, 265, 265, 265, 265, 265, 265, 265, 265, 265, 265, 265, 265, 265, 265, 265, 265, 265, 265, 265, 265, 265, 265, 265, 265, 265, 265, 265, 265, 265, 265, 265, 265, 265, 265, 265, 265, 265, 265, 265, 265, 265, 265, 265, 265, 265, 265, 265, 1031, 265, 265, 260, 352, 265, 289, 289, 289, 427, 265, 265, 265, 265, 214, 185, 86, 137, 137, 137, 445, 1031, 269, 269, 256, 353, 517, 274, 274, 275, 276, 276, 1031, 277, 277, 277, 1031, 472, 1035, 280, 280, 281, 281, 281, 281, 289, 289, 762, 283, 626, 589, 651, 289, 289, 289, 289, 289, 289, 289, 289, 289, 289, 289, 289, 289, 289, 289, 289, 289, 289, 289, 289, 289, 864, 289, 289, 289, 289, 289, 260, 289, 289, 289, 289, 289, 289, 289, 289, 289, 289, 289, 289, 289, 289, 289, 289, 289, 289, 289, 289, 289, 289, 289, 289, 289, 289, 289, 289, 289, 289, 289, 289, 289, 289, 289, 289, 289, 289, 289, 289, 289, 289, 289, 289, 289, 289, 289, 260, 290, 291, 291, 291, 289, 289, 293, 603, 801, 783, 297, 1031, 298, 298, 298, 298, 299, 589, 220, 220, 300, 300, 301, 301, 301, 301, 301, 301, 427, 459, 790, 304, 762, 305, 1035, 308, 308, 309, 309, 309, 309, 309, 309, 309, 309, 289, 289, 289, 289, 472, 310, 762, 317, 748, 317, 642, 318, 427, 427, 427, 359, 360, 360, 360, 79, 318, 366, 146, 360, 319, 962, 216, 321, 375, 1031, 323, 331, 325, 49, 49, 49, 49, 49, 49, 49, 49, 49, 49, 49, 49, 49, 49, 49, 49, 49, 49, 49, 49, 49, 49, 49, 49, 49, 49, 49, 49, 49, 49, 49, 49, 49, 49, 49, 49, 49, 49, 301, 301, 353, 353, 353, 613, 325, 49, 49, 325, 325, 729, 326, 326, 61, 328, 329, 39, 332, 332, 332, 332, 332, 203, 334, 551, 551, 335, 335, 336, 336, 336, 336, 337, 337, 337, 337, 337, 337, 337, 337, 337, 214, 185, 337, 337, 337, 337, 337, 414, 338, 338, 341, 342, 343, 343, 343, 343, 343, 343, 343, 343, 343, 343, 144, 364, 323, 849, 770, 214, 352, 352, 353, 355, 356, 357, 359, 359, 359, 359, 359, 596, 359, 359, 359, 359, 432, 359, 360, 360, 360, 360, 360, 260, 363, 363, 363, 363, 363, 364, 701, 364, 364, 364, 364, 364, 364, 364, 364, 364, 364, 289, 726, 367, 370, 374, 374, 375, 376, 379, 1031, 384, 384, 386, 386, 857, 427, 391, 391, 391, 391, 391, 391, 584, 392, 994, 353, 395, 353, 353, 396, 192, 540, 1031, 39, 402, 402, 402, 402, 402, 402, 402, 402, 402, 403, 404, 405, 407, 42, 288, 288, 288, 288, 408, 408, 408, 408, 410, 805, 415, 415, 415, 416, 100, 418, 418, 418, 418, 418, 651, 471, 651, 651, 651, 651, 651, 651, 651, 651, 651, 651, 651, 651, 651, 651, 651, 651, 651, 651, 353, 353, 289, 289, 289, 289, 419, 419, 419, 419, 420, 421, 421, 422, 1031, 424, 589, 425, 425, 425, 614, 426, 426, 426, 426, 426, 426, 426, 426, 426, 426, 426, 426, 426, 427, 427, 427, 427, 427, 427, 427, 427, 427, 427, 427, 427, 427, 427, 427, 427, 427, 427, 427, 427, 427, 427, 427, 427, 427, 427, 427, 427, 353, 427, 214, 427, 427, 427, 427, 427, 427, 427, 427, 427, 591, 886, 1031, 1031, 427, 428, 428, 589, 427, 432, 910, 238, 435, 289, 435, 435, 435, 447, 438, 440, 441, 441, 441, 445, 445, 445, 442, 878, 444, 444, 444, 444, 444, 444, 391, 391, 446, 446, 446, 447, 448, 427, 1035, 94, 454, 454, 1031, 353, 353, 455, 455, 455, 455, 455, 455, 455, 455, 455, 455, 455, 455, 455, 455, 455, 455, 1031, 455, 353, 353, 353, 456, 458, 460, 460, 464, 462, 289, 464, 466, 469, 469, 470, 470, 471, 473, 473, 780, 473, 794, 710, 159, 475, 780, 780, 780, 780, 780, 591, 787, 787, 787, 551, 479, 427, 402, 437, 1035, 485, 492, 486, 487, 836, 488, 487, 567, 488, 489, 489, 489, 491, 491, 491, 491, 491, 491, 491, 491, 491, 491, 491, 721, 491, 491, 491, 491, 491, 355, 491, 491, 491, 492, 492, 492, 492, 492, 589, 495, 495, 495, 495, 495, 495, 496, 497, 499, 232, 499, 232, 501, 502, 805, 805, 81, 507, 507, 360, 509, 509, 872, 515, 353, 516, 516, 517, 517, 517, 517, 517, 517, 517, 517, 517, 1031, 517, 517, 517, 517, 517, 517, 517, 520, 521, 433, 521, 775, 872, 872, 872, 524, 524, 289, 289, 524, 524, 524, 525, 353, 528, 528, 765, 530, 530, 530, 530, 530, 530, 530, 530, 530, 530, 530, 530, 531, 531, 531, 298, 531, 532, 535, 536, 27, 1035, 537, 538, 540, 1031, 541, 541, 541, 541, 541, 541, 541, 541, 542, 328, 591, 544, 545, 545, 545, 545, 545, 545, 546, 1031, 384, 384, 384, 384, 384, 384, 384, 384, 384, 384, 384, 384, 384, 549, 549, 550, 551, 552, 214, 555, 559, 334, 491, 427, 427, 567, 569, 775, 572, 572, 573, 539, 236, 810, 185, 185, 573, 577, 58, 578, 363, 579, 579, 687, 579, 579, 582, 584, 584, 585, 872, 587, 1031, 289, 589, 1031, 105, 105, 105, 105, 105, 591, 325, 325, 591, 591, 591, 353, 592, 592, 592, 592, 592, 592, 515, 515, 707, 595, 595, 369, 595, 427, 1031, 597, 597, 597, 1031, 491, 251, 689, 1031, 1031, 289, 604, 687, 467, 464, 427, 608, 427, 610, 610, 610, 326, 326, 326, 326, 326, 326, 326, 326, 610, 353, 611, 613, 289, 614, 614, 614, 478, 614, 614, 614, 614, 614, 614, 614, 614, 614, 614, 614, 484, 618, 352, 352, 352, 619, 619, 619, 619, 622, 623, 528, 353, 318, 214, 624, 624, 625, 1031, 627, 1031, 836, 144, 144, 144, 635, 614, 638, 640, 640, 427, 642, 643, 644, 644, 644, 644, 1031, 644, 644, 644, 646, 646, 646, 646, 646, 646, 646, 646, 646, 646, 646, 646, 646, 353, 904, 728, 648, 648, 728, 651, 652, 652, 636, 636, 636, 636, 636, 636, 636, 636, 652, 652, 289, 720, 655, 656, 659, 659, 810, 810, 660, 662, 662, 662, 662, 662, 662, 662, 662, 662, 662, 662, 491, 664, 437, 706, 664, 666, 666, 711, 674, 675, 678, 680, 676, 682, 683, 386, 289, 289, 686, 765, 686, 185, 279, 847, 693, 693, 694, 695, 698, 699, 700, 289, 700, 289, 860, 701, 702, 289, 289, 702, 651, 702, 700, 289, 703, 265, 704, 704, 704, 704, 579, 706, 427, 707, 707, 708, 708, 710, 710, 710, 710, 316, 711, 711, 711, 711, 711, 712, 445, 626, 287, 287, 287, 287, 711, 715, 715, 510, 717, 717, 466, 779, 723, 764, 727, 729, 870, 281, 573, 735, 735, 736, 736, 737, 1035, 739, 289, 741, 741, 687, 687, 289, 289, 289, 289, 289, 745, 745, 745, 746, 746, 746, 746, 746, 746, 746, 746, 530, 746, 746, 749, 749, 749, 750, 752, 753, 753, 753, 753, 753, 794, 753, 427, 764, 764, 245, 546, 765, 389, 337, 766, 427, 769, 769, 769, 224, 771, 771, 771, 771, 772, 773, 773, 774, 774, 775, 775, 775, 301, 100, 775, 775, 775, 775, 775, 775, 775, 775, 775, 775, 775, 775, 775, 775, 778, 778, 778, 778, 780, 344, 783, 783, 359, 787, 787, 81, 787, 790, 790, 582, 793, 216, 794, 621, 796, 797, 798, 1031, 626, 753, 753, 753, 753, 1031, 803, 804, 804, 1031, 805, 805, 806, 806, 806, 710, 200, 808, 808, 408, 809, 809, 809, 809, 809, 809, 809, 809, 530, 809, 810, 810, 810, 810, 575, 810, 813, 517, 1035, 1031, 33, 355, 817, 821, 823, 824, 825, 826, 377, 1031, 826, 826, 826, 826, 826, 827, 393, 828, 886, 353, 353, 830, 830, 830, 830, 830, 830, 830, 830, 787, 830, 830, 830, 830, 830, 830, 830, 831, 1031, 834, 834, 834, 840, 801, 260, 1031, 840, 640, 640, 640, 617, 841, 844, 846, 847, 847, 847, 847, 808, 847, 847, 847, 847, 216, 847, 847, 847, 1031, 852, 852, 1031, 853, 853, 853, 853, 853, 853, 853, 853, 853, 853, 853, 853, 1031, 853, 857, 858, 859, 860, 861, 805, 863, 864, 864, 864, 864, 864, 864, 864, 861, 865, 491, 323, 867, 868, 1031, 513, 159, 874, 875, 236, 876, 245, 877, 877, 877, 877, 877, 878, 878, 878, 165, 570, 886, 888, 289, 289, 892, 893, 893, 301, 895, 896, 896, 896, 34, 896, 896, 896, 897, 897, 897, 897, 897, 897, 897, 897, 897, 897, 897, 897, 896, 896, 185, 896, 897, 897, 898, 1035, 902, 753, 470, 904, 904, 904, 904, 1031, 906, 466, 910, 1031, 1031, 994, 353, 353, 353, 353, 353, 353, 353, 353, 353, 1031, 1031, 1031, 1035, 1031, 927, 1035, 1031, 1031, 1031, 1035, 279, 279, 1035, 1031, 353, 353, 353, 789, 977, 977, 977, 977, 977, 977, 977, 977, 977, 977, 977, 977, 977, 977, 977, 977, 977, 977, 977, 279, 279, 1031, 1031, 642, 642, 642, 1031, 353, 353, 1031, 1031, 999, 999, 999, 999, 999, 999, 1031, 353, 353, 1031, 949, 949, 949, 949, 949, 949, 949, 949, 949, 949, 949, 949, 949, 949, 949, 949, 949, 949, 949, 949, 949, 949, 949, 949, 949, 949, 949, 949, 949, 949, 949, 949, 949, 949, 949, 949, 949, 949, 949, 949, 949, 949, 949, 949, 949, 949, 949, 949, 949, 949, 949, 949, 949, 949, 949, 949, 949, 949, 949, 949, 949, 949, 949, 949, 949, 949, 949, 949, 949, 949, 949, 949, 949, 949, 949, 949, 949, 949, 949, 949, 949, 949, 949, 949, 949, 949, 949, 949, 949, 949, 949, 949, 949, 949, 949, 949, 949, 949, 949, 949, 949, 949, 949, 949, 949, 949, 949, 949, 949, 949, 949, 949, 949, 949, 949, 949, 949, 949, 949, 949, 949, 949, 949, 949, 949, 949, 949, 949, 949, 949, 949, 949, 949, 949, 949, 949, 949, 949, 949, 949, 949, 949, 949, 949, 949, 949, 949, 949, 949, 949, 949, 949, 949, 949, 949, 949, 949, 949, 949, 949, 949, 949, 949, 949, 949, 949, 949, 949, 949, 949, 949, 949, 949, 949, 949, 949, 949, 949, 949, 949, 949, 949, 949, 949, 949, 949, 949, 949, 949, 949, 949, 949, 949, 949, 949, 949, 949, 949, 949, 949, 949, 949, 949, 949, 949, 949, 949, 949, 949, 949, 949, 949, 949, 949, 949, 949, 949, 949, 949, 949, 949, 949, 949, 949, 949, 949, 949, 949, 949, 949, 949, 949, 949, 949, 949, 949, 949, 949, 949, 949, 949, 949, 949, 949, 949, 949, 949, 949, 949, 949, 949, 949, 949, 949, 949, 949, 949, 949, 949, 949, 949, 949, 949, 949, 949, 949, 949, 949, 949, 949, 949, 949, 949, 949, 949, 949, 949, 949, 949, 949, 949, 949, 949, 949, 949, 949, 949, 949, 949, 949, 949, 949, 949, 949, 949, 949, 949, 949, 949, 949, 949, 949, 949, 949, 949, 949, 949, 949, 949, 949, 949, 949, 949, 949, 949, 949, 949, 949, 949, 949, 949, 949, 949, 949, 949, 949, 949, 949, 949, 949, 949, 949, 949, 949, 949, 949, 949, 949, 949, 949, 949, 949, 949, 904, 1035, 1031, 214, 214, 472, 472, 472, 472, 950, 950, 950, 950, 950, 950, 950, 950, 950, 950, 950, 950, 355, 355, 355, 355, 355, 1035, 955, 955, 955, 955, 1031, 956, 956, 866, 958, 958, 960, 961, 962, 1031, 353, 353, 353, 1026, 353, 353, 353, 353, 353, 353, 969, 1031, 1031, 974, 974, 1035, 445, 445, 445, 977, 977, 1031, 355, 1031, 353, 1031, 1031, 1031, 983, 983, 1031, 1031, 1031, 353, 1031, 1031, 1035, 994, 994, 994, 355, 1031, 355, 355, 355, 355, 962, 1003, 1031, 353, 1011, 1031, 1014, 1015, 994, 994, 994, 510, 279, 1031, 1035, 353, 1023, 1026, 966, 1028, 1031, 510, 279, 1028, 1028, 1028, 1028, 1028, 1028, 353, 1028, 1028, 1028, 1028, 1028, 1028, 1028, 1028, 1028, 1028, 1028, 1028, 1028, 1029, 1035, 1029, 1029, 1031, 1035, 1035]\n",
            "[0, 2, 2, 2, 2, 2, 3, 4, 4, 5, 5, 5, 7, 8, 8, 8, 8, 8, 8, 8, 8, 8, 8, 8, 8, 8, 8, 8, 8, 8, 8, 8, 8, 8, 9, 10, 10, 14, 16, 16, 17, 18, 19, 20, 21, 21, 22, 22, 22, 23, 25, 27, 27, 27, 27, 28, 28, 29, 29, 30, 30, 30, 30, 31, 31, 31, 31, 31, 31, 31, 32, 32, 34, 34, 34, 36, 37, 37, 37, 37, 37, 37, 37, 37, 37, 37, 37, 37, 37, 37, 37, 37, 37, 37, 37, 37, 37, 37, 37, 37, 37, 37, 37, 37, 37, 37, 37, 37, 37, 38, 39, 40, 41, 42, 42, 44, 44, 44, 45, 47, 48, 49, 49, 49, 49, 49, 49, 49, 49, 49, 49, 49, 49, 49, 49, 49, 49, 49, 49, 49, 49, 49, 49, 49, 49, 49, 49, 49, 49, 49, 49, 49, 49, 49, 49, 49, 49, 49, 50, 50, 52, 53, 53, 53, 53, 53, 53, 53, 53, 53, 53, 53, 57, 58, 58, 59, 60, 60, 61, 61, 62, 62, 62, 62, 65, 68, 69, 70, 70, 70, 70, 70, 71, 71, 71, 71, 71, 71, 71, 71, 74, 75, 76, 76, 76, 76, 76, 77, 77, 77, 77, 79, 79, 79, 79, 79, 79, 79, 79, 79, 79, 79, 79, 79, 79, 79, 79, 79, 79, 79, 79, 79, 79, 79, 79, 79, 79, 79, 79, 79, 79, 79, 79, 79, 79, 79, 79, 79, 79, 79, 79, 79, 79, 79, 79, 79, 79, 79, 79, 79, 79, 79, 79, 79, 79, 79, 79, 79, 79, 79, 79, 79, 79, 79, 79, 79, 79, 79, 79, 79, 79, 79, 79, 79, 79, 79, 79, 79, 79, 79, 79, 79, 79, 79, 79, 79, 79, 79, 79, 79, 79, 79, 79, 79, 79, 79, 79, 79, 79, 79, 79, 79, 79, 79, 79, 79, 79, 79, 79, 79, 79, 79, 79, 79, 79, 79, 79, 79, 80, 80, 80, 80, 80, 80, 80, 80, 80, 80, 80, 80, 80, 80, 80, 80, 80, 80, 80, 80, 80, 80, 80, 81, 82, 82, 83, 83, 88, 88, 89, 89, 89, 89, 89, 90, 90, 90, 91, 92, 92, 92, 92, 92, 92, 93, 94, 94, 94, 94, 94, 94, 94, 94, 94, 94, 94, 94, 94, 94, 94, 94, 94, 94, 94, 94, 94, 94, 94, 94, 94, 94, 94, 94, 94, 94, 94, 94, 96, 96, 96, 96, 96, 96, 97, 97, 98, 98, 98, 98, 98, 99, 100, 100, 100, 100, 100, 100, 100, 100, 100, 100, 100, 100, 100, 100, 100, 100, 100, 100, 100, 100, 100, 100, 100, 100, 100, 100, 100, 101, 102, 103, 103, 104, 105, 107, 107, 107, 108, 108, 108, 108, 108, 108, 108, 108, 109, 109, 110, 110, 111, 111, 111, 111, 111, 111, 111, 111, 111, 111, 111, 111, 111, 111, 111, 111, 111, 111, 111, 111, 111, 111, 111, 111, 111, 111, 114, 115, 116, 117, 117, 119, 120, 120, 120, 120, 120, 122, 122, 122, 125, 125, 125, 125, 125, 125, 125, 125, 125, 125, 125, 125, 125, 125, 125, 125, 125, 125, 125, 125, 125, 125, 125, 125, 125, 125, 125, 125, 125, 125, 125, 125, 125, 125, 125, 125, 125, 125, 125, 125, 125, 125, 127, 127, 129, 129, 129, 129, 130, 130, 131, 131, 132, 132, 134, 135, 135, 135, 135, 135, 135, 137, 138, 139, 139, 139, 141, 142, 142, 142, 142, 142, 143, 144, 145, 146, 146, 149, 150, 150, 151, 151, 151, 151, 151, 151, 152, 153, 155, 157, 157, 157, 158, 158, 161, 162, 163, 163, 165, 165, 166, 166, 166, 166, 166, 166, 166, 166, 168, 169, 170, 171, 172, 172, 172, 172, 172, 172, 172, 172, 172, 172, 172, 172, 172, 172, 172, 172, 172, 172, 172, 172, 173, 173, 173, 174, 176, 180, 180, 180, 180, 180, 182, 182, 182, 182, 182, 182, 182, 182, 182, 182, 182, 182, 182, 182, 182, 182, 182, 182, 182, 182, 182, 182, 182, 183, 183, 183, 183, 183, 183, 183, 183, 183, 183, 183, 183, 183, 183, 183, 183, 183, 183, 183, 183, 183, 183, 183, 183, 183, 184, 184, 184, 185, 185, 187, 187, 187, 187, 187, 187, 187, 187, 187, 187, 187, 187, 187, 187, 187, 189, 189, 189, 189, 189, 190, 190, 190, 190, 190, 190, 190, 190, 190, 190, 190, 190, 190, 190, 190, 190, 190, 190, 190, 190, 190, 192, 193, 193, 193, 193, 193, 194, 197, 197, 197, 197, 197, 197, 197, 197, 197, 197, 197, 197, 200, 202, 202, 203, 204, 205, 205, 205, 205, 205, 205, 205, 207, 207, 209, 209, 210, 210, 210, 210, 210, 210, 210, 210, 211, 213, 214, 214, 214, 214, 214, 214, 214, 214, 214, 214, 214, 214, 214, 214, 214, 214, 214, 214, 214, 214, 214, 214, 214, 214, 214, 214, 214, 214, 214, 214, 214, 214, 214, 214, 214, 214, 214, 214, 214, 214, 214, 214, 214, 214, 214, 215, 216, 216, 218, 218, 218, 218, 218, 218, 218, 218, 220, 220, 220, 220, 220, 220, 220, 220, 220, 222, 223, 223, 223, 224, 226, 226, 227, 227, 228, 228, 228, 228, 228, 228, 228, 228, 228, 228, 228, 228, 228, 228, 228, 228, 228, 228, 228, 228, 228, 228, 228, 228, 228, 228, 228, 228, 228, 228, 228, 228, 228, 228, 228, 228, 228, 228, 228, 229, 230, 231, 231, 232, 234, 234, 234, 234, 234, 234, 235, 235, 235, 235, 235, 235, 235, 236, 236, 236, 236, 236, 236, 238, 238, 238, 238, 238, 238, 238, 238, 239, 239, 240, 240, 241, 243, 243, 243, 243, 243, 243, 243, 243, 243, 243, 243, 243, 243, 243, 243, 243, 243, 243, 243, 243, 243, 243, 243, 243, 243, 244, 244, 245, 245, 245, 245, 245, 245, 245, 245, 245, 245, 245, 245, 245, 245, 245, 245, 245, 245, 245, 245, 245, 245, 245, 245, 245, 246, 246, 246, 246, 246, 246, 246, 246, 246, 246, 246, 247, 249, 249, 251, 254, 254, 254, 254, 254, 254, 254, 259, 260, 260, 260, 260, 260, 260, 260, 260, 261, 262, 262, 264, 265, 265, 265, 265, 265, 265, 265, 265, 265, 265, 265, 265, 265, 265, 265, 265, 265, 265, 265, 265, 265, 265, 265, 265, 265, 265, 265, 265, 265, 265, 265, 265, 265, 265, 265, 265, 265, 265, 265, 265, 265, 265, 265, 265, 265, 265, 265, 265, 265, 265, 265, 265, 265, 265, 265, 265, 265, 265, 265, 265, 265, 265, 265, 265, 265, 265, 265, 265, 265, 265, 265, 265, 265, 265, 265, 265, 265, 265, 265, 265, 265, 265, 265, 266, 268, 268, 268, 268, 268, 269, 269, 269, 270, 271, 272, 274, 274, 275, 276, 276, 277, 277, 277, 277, 277, 278, 279, 280, 280, 281, 281, 281, 281, 281, 281, 282, 283, 286, 288, 289, 289, 289, 289, 289, 289, 289, 289, 289, 289, 289, 289, 289, 289, 289, 289, 289, 289, 289, 289, 289, 289, 289, 289, 289, 289, 289, 289, 289, 289, 289, 289, 289, 289, 289, 289, 289, 289, 289, 289, 289, 289, 289, 289, 289, 289, 289, 289, 289, 289, 289, 289, 289, 289, 289, 289, 289, 289, 289, 289, 289, 289, 289, 289, 289, 289, 289, 289, 289, 289, 289, 289, 289, 289, 289, 289, 289, 290, 291, 291, 291, 293, 293, 293, 294, 294, 295, 297, 298, 298, 298, 298, 298, 299, 299, 300, 300, 300, 300, 301, 301, 301, 301, 301, 301, 301, 302, 304, 304, 304, 305, 306, 308, 308, 309, 309, 309, 309, 309, 309, 309, 309, 309, 309, 309, 309, 309, 310, 315, 317, 317, 317, 318, 318, 318, 318, 318, 318, 318, 318, 318, 318, 318, 318, 318, 318, 319, 320, 320, 321, 321, 323, 323, 324, 325, 325, 325, 325, 325, 325, 325, 325, 325, 325, 325, 325, 325, 325, 325, 325, 325, 325, 325, 325, 325, 325, 325, 325, 325, 325, 325, 325, 325, 325, 325, 325, 325, 325, 325, 325, 325, 325, 325, 325, 325, 325, 325, 325, 325, 325, 325, 325, 325, 325, 326, 326, 326, 327, 328, 329, 330, 332, 332, 332, 332, 332, 333, 334, 334, 334, 335, 335, 336, 336, 336, 336, 337, 337, 337, 337, 337, 337, 337, 337, 337, 337, 337, 337, 337, 337, 337, 337, 338, 338, 338, 341, 342, 343, 343, 343, 343, 343, 343, 343, 343, 343, 343, 344, 345, 346, 347, 350, 351, 352, 352, 353, 355, 356, 357, 359, 359, 359, 359, 359, 359, 359, 359, 359, 359, 359, 359, 360, 360, 360, 360, 360, 362, 363, 363, 363, 363, 363, 364, 364, 364, 364, 364, 364, 364, 364, 364, 364, 364, 364, 364, 365, 367, 370, 374, 374, 375, 376, 379, 380, 384, 384, 386, 386, 387, 388, 391, 391, 391, 391, 391, 391, 392, 392, 394, 394, 395, 396, 396, 396, 397, 400, 402, 402, 402, 402, 402, 402, 402, 402, 402, 402, 402, 403, 404, 405, 407, 408, 408, 408, 408, 408, 408, 408, 408, 408, 410, 413, 415, 415, 415, 416, 416, 418, 418, 418, 418, 418, 419, 419, 419, 419, 419, 419, 419, 419, 419, 419, 419, 419, 419, 419, 419, 419, 419, 419, 419, 419, 419, 419, 419, 419, 419, 419, 419, 419, 419, 419, 420, 421, 421, 422, 424, 424, 424, 425, 425, 425, 426, 426, 426, 426, 426, 426, 426, 426, 426, 426, 426, 426, 426, 426, 427, 427, 427, 427, 427, 427, 427, 427, 427, 427, 427, 427, 427, 427, 427, 427, 427, 427, 427, 427, 427, 427, 427, 427, 427, 427, 427, 427, 427, 427, 427, 427, 427, 427, 427, 427, 427, 427, 427, 427, 427, 427, 427, 427, 427, 428, 428, 428, 430, 432, 433, 434, 435, 435, 435, 435, 435, 436, 438, 440, 441, 441, 441, 443, 443, 443, 443, 443, 444, 444, 444, 444, 444, 444, 444, 444, 446, 446, 446, 447, 448, 450, 452, 453, 454, 454, 455, 455, 455, 455, 455, 455, 455, 455, 455, 455, 455, 455, 455, 455, 455, 455, 455, 455, 455, 455, 455, 455, 455, 455, 456, 458, 460, 460, 461, 462, 464, 465, 466, 469, 469, 470, 470, 471, 473, 473, 473, 473, 473, 474, 474, 475, 475, 475, 475, 475, 475, 475, 476, 476, 476, 477, 479, 479, 481, 482, 483, 485, 486, 486, 487, 487, 487, 487, 488, 488, 489, 489, 489, 491, 491, 491, 491, 491, 491, 491, 491, 491, 491, 491, 491, 491, 491, 491, 491, 491, 491, 491, 491, 491, 492, 492, 492, 492, 492, 493, 495, 495, 495, 495, 495, 495, 496, 497, 499, 499, 499, 499, 501, 502, 505, 505, 506, 507, 507, 509, 509, 509, 514, 515, 516, 516, 516, 517, 517, 517, 517, 517, 517, 517, 517, 517, 517, 517, 517, 517, 517, 517, 517, 517, 520, 521, 521, 521, 522, 524, 524, 524, 524, 524, 524, 524, 524, 524, 524, 525, 527, 528, 528, 529, 530, 530, 530, 530, 530, 530, 530, 530, 530, 530, 530, 530, 531, 531, 531, 531, 531, 532, 535, 536, 536, 537, 537, 538, 540, 540, 541, 541, 541, 541, 541, 541, 541, 541, 542, 543, 543, 544, 545, 545, 545, 545, 545, 545, 546, 548, 548, 548, 548, 548, 548, 548, 548, 548, 548, 548, 548, 548, 548, 549, 549, 550, 551, 552, 554, 555, 559, 561, 561, 565, 566, 567, 569, 571, 572, 572, 573, 574, 574, 575, 577, 577, 577, 577, 577, 578, 578, 579, 579, 579, 579, 579, 582, 584, 584, 585, 586, 587, 588, 588, 589, 590, 590, 590, 590, 590, 590, 591, 591, 591, 591, 591, 591, 592, 592, 592, 592, 592, 592, 592, 594, 594, 595, 595, 595, 595, 595, 596, 597, 597, 597, 597, 597, 598, 598, 598, 602, 602, 604, 604, 606, 606, 606, 607, 608, 609, 610, 610, 610, 610, 610, 610, 610, 610, 610, 610, 610, 610, 611, 611, 613, 614, 614, 614, 614, 614, 614, 614, 614, 614, 614, 614, 614, 614, 614, 614, 614, 617, 618, 619, 619, 619, 619, 619, 619, 619, 622, 623, 623, 623, 623, 624, 624, 624, 625, 627, 627, 628, 632, 633, 633, 633, 635, 637, 638, 640, 640, 640, 642, 643, 644, 644, 644, 644, 644, 644, 644, 644, 646, 646, 646, 646, 646, 646, 646, 646, 646, 646, 646, 646, 646, 646, 646, 648, 648, 648, 648, 651, 652, 652, 652, 652, 652, 652, 652, 652, 652, 652, 652, 652, 652, 654, 655, 656, 659, 659, 659, 659, 660, 662, 662, 662, 662, 662, 662, 662, 662, 662, 662, 662, 663, 663, 663, 664, 664, 666, 666, 669, 674, 675, 677, 680, 681, 682, 683, 686, 686, 686, 686, 686, 686, 687, 689, 693, 693, 693, 694, 695, 698, 699, 700, 700, 700, 701, 701, 702, 702, 702, 702, 702, 702, 702, 703, 703, 703, 704, 704, 704, 704, 704, 704, 705, 705, 707, 707, 708, 708, 710, 710, 710, 710, 710, 711, 711, 711, 711, 711, 712, 714, 714, 714, 714, 714, 714, 715, 715, 715, 716, 717, 717, 718, 723, 723, 727, 727, 729, 730, 731, 733, 735, 735, 736, 736, 737, 738, 739, 741, 741, 741, 741, 741, 741, 741, 741, 741, 741, 745, 745, 745, 746, 746, 746, 746, 746, 746, 746, 746, 746, 746, 746, 749, 749, 749, 750, 752, 753, 753, 753, 753, 753, 756, 761, 763, 764, 764, 764, 765, 765, 765, 766, 766, 767, 769, 769, 769, 770, 771, 771, 771, 771, 772, 773, 773, 774, 774, 775, 775, 775, 775, 775, 775, 775, 775, 775, 775, 775, 775, 775, 775, 775, 775, 775, 775, 775, 778, 778, 778, 778, 780, 782, 783, 783, 784, 787, 787, 787, 788, 790, 790, 790, 793, 794, 794, 794, 796, 797, 798, 799, 800, 803, 803, 803, 803, 803, 803, 804, 804, 804, 805, 805, 806, 806, 806, 806, 807, 808, 808, 809, 809, 809, 809, 809, 809, 809, 809, 809, 809, 809, 810, 810, 810, 810, 810, 810, 813, 813, 815, 815, 816, 816, 817, 821, 823, 824, 825, 826, 826, 826, 826, 826, 826, 826, 826, 827, 827, 828, 829, 830, 830, 830, 830, 830, 830, 830, 830, 830, 830, 830, 830, 830, 830, 830, 830, 830, 830, 831, 834, 834, 834, 834, 840, 840, 840, 840, 840, 840, 840, 840, 841, 841, 844, 846, 847, 847, 847, 847, 847, 847, 847, 847, 847, 847, 847, 847, 847, 849, 852, 852, 852, 853, 853, 853, 853, 853, 853, 853, 853, 853, 853, 853, 853, 853, 853, 857, 858, 859, 860, 861, 861, 863, 864, 864, 864, 864, 864, 864, 864, 865, 865, 865, 866, 867, 868, 871, 873, 874, 874, 875, 876, 876, 876, 877, 877, 877, 877, 877, 878, 878, 878, 882, 883, 886, 888, 889, 889, 892, 893, 893, 894, 895, 896, 896, 896, 896, 896, 896, 896, 896, 896, 896, 896, 896, 896, 896, 896, 896, 896, 896, 896, 896, 896, 896, 896, 897, 897, 898, 901, 902, 903, 903, 904, 904, 904, 904, 905, 906, 908, 910, 914, 916, 917, 919, 919, 919, 919, 919, 919, 919, 919, 919, 920, 922, 923, 925, 926, 927, 928, 929, 930, 931, 932, 933, 933, 933, 933, 936, 936, 936, 937, 937, 937, 937, 937, 937, 937, 937, 937, 937, 937, 937, 937, 937, 937, 937, 937, 937, 937, 937, 937, 937, 938, 939, 940, 940, 940, 940, 941, 941, 944, 947, 948, 948, 948, 948, 948, 948, 948, 948, 948, 949, 949, 949, 949, 949, 949, 949, 949, 949, 949, 949, 949, 949, 949, 949, 949, 949, 949, 949, 949, 949, 949, 949, 949, 949, 949, 949, 949, 949, 949, 949, 949, 949, 949, 949, 949, 949, 949, 949, 949, 949, 949, 949, 949, 949, 949, 949, 949, 949, 949, 949, 949, 949, 949, 949, 949, 949, 949, 949, 949, 949, 949, 949, 949, 949, 949, 949, 949, 949, 949, 949, 949, 949, 949, 949, 949, 949, 949, 949, 949, 949, 949, 949, 949, 949, 949, 949, 949, 949, 949, 949, 949, 949, 949, 949, 949, 949, 949, 949, 949, 949, 949, 949, 949, 949, 949, 949, 949, 949, 949, 949, 949, 949, 949, 949, 949, 949, 949, 949, 949, 949, 949, 949, 949, 949, 949, 949, 949, 949, 949, 949, 949, 949, 949, 949, 949, 949, 949, 949, 949, 949, 949, 949, 949, 949, 949, 949, 949, 949, 949, 949, 949, 949, 949, 949, 949, 949, 949, 949, 949, 949, 949, 949, 949, 949, 949, 949, 949, 949, 949, 949, 949, 949, 949, 949, 949, 949, 949, 949, 949, 949, 949, 949, 949, 949, 949, 949, 949, 949, 949, 949, 949, 949, 949, 949, 949, 949, 949, 949, 949, 949, 949, 949, 949, 949, 949, 949, 949, 949, 949, 949, 949, 949, 949, 949, 949, 949, 949, 949, 949, 949, 949, 949, 949, 949, 949, 949, 949, 949, 949, 949, 949, 949, 949, 949, 949, 949, 949, 949, 949, 949, 949, 949, 949, 949, 949, 949, 949, 949, 949, 949, 949, 949, 949, 949, 949, 949, 949, 949, 949, 949, 949, 949, 949, 949, 949, 949, 949, 949, 949, 949, 949, 949, 949, 949, 949, 949, 949, 949, 949, 949, 949, 949, 949, 949, 949, 949, 949, 949, 949, 949, 949, 949, 949, 949, 949, 949, 949, 949, 949, 949, 949, 949, 949, 949, 949, 949, 949, 949, 949, 949, 949, 949, 949, 949, 949, 949, 949, 949, 949, 949, 949, 949, 949, 949, 949, 949, 949, 949, 949, 949, 949, 949, 949, 949, 949, 949, 949, 949, 949, 949, 949, 949, 949, 949, 949, 949, 949, 949, 949, 949, 949, 949, 950, 950, 950, 950, 950, 950, 950, 950, 950, 950, 950, 950, 952, 952, 952, 952, 952, 953, 955, 955, 955, 955, 955, 956, 956, 957, 958, 958, 960, 961, 962, 963, 964, 964, 964, 966, 967, 967, 967, 967, 967, 967, 968, 969, 973, 974, 974, 974, 976, 976, 976, 977, 977, 980, 980, 981, 981, 982, 983, 983, 983, 983, 984, 986, 988, 989, 989, 991, 994, 994, 994, 994, 997, 1000, 1001, 1001, 1001, 1001, 1002, 1003, 1006, 1008, 1011, 1013, 1014, 1015, 1016, 1016, 1016, 1017, 1019, 1020, 1020, 1022, 1023, 1026, 1026, 1026, 1026, 1026, 1026, 1026, 1026, 1026, 1026, 1026, 1026, 1026, 1026, 1026, 1028, 1028, 1028, 1028, 1028, 1028, 1028, 1028, 1028, 1028, 1028, 1029, 1029, 1029, 1029, 1030, 1035, 1035]\n"
          ],
          "name": "stdout"
        }
      ]
    },
    {
      "cell_type": "code",
      "metadata": {
        "id": "XIC4zufnMxtq",
        "colab_type": "code",
        "outputId": "798d6591-3541-4440-a829-834acb81fdf2",
        "colab": {
          "base_uri": "https://localhost:8080/",
          "height": 51
        }
      },
      "source": [
        "correct_num = 0\n",
        "\n",
        "for i in range(0, len(predict_list)):\n",
        "  if predict_list[i] == standard_list[i]:\n",
        "    correct_num = correct_num+1\n",
        "  else:\n",
        "    pass\n",
        "print(correct_num)\n",
        "\n",
        "predict_accuracy = correct_num/len(predict_list)\n",
        "print(predict_accuracy)"
      ],
      "execution_count": 50,
      "outputs": [
        {
          "output_type": "stream",
          "text": [
            "1952\n",
            "0.6397902327105867\n"
          ],
          "name": "stdout"
        }
      ]
    },
    {
      "cell_type": "code",
      "metadata": {
        "id": "zlKMHp1CIaRJ",
        "colab_type": "code",
        "colab": {}
      },
      "source": [
        ""
      ],
      "execution_count": 0,
      "outputs": []
    }
  ]
}