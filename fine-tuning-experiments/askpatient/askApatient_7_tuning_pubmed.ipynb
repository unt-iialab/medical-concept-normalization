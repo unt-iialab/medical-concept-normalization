{
  "nbformat": 4,
  "nbformat_minor": 0,
  "metadata": {
    "colab": {
      "name": "askApatient_7_tuning_pubmed.ipynb",
      "provenance": [],
      "collapsed_sections": [],
      "toc_visible": true,
      "include_colab_link": true
    },
    "kernelspec": {
      "name": "python3",
      "display_name": "Python 3"
    },
    "accelerator": "TPU"
  },
  "cells": [
    {
      "cell_type": "markdown",
      "metadata": {
        "id": "view-in-github",
        "colab_type": "text"
      },
      "source": [
        "<a href=\"https://colab.research.google.com/github/unt-iialab/medical-concept-normalization/blob/master/fine-tuning-experiments/askpatient/askApatient_7_tuning_pubmed.ipynb\" target=\"_parent\"><img src=\"https://colab.research.google.com/assets/colab-badge.svg\" alt=\"Open In Colab\"/></a>"
      ]
    },
    {
      "cell_type": "code",
      "metadata": {
        "id": "adSi6i2-dWxy",
        "colab_type": "code",
        "colab": {}
      },
      "source": [
        "import os"
      ],
      "execution_count": 0,
      "outputs": []
    },
    {
      "cell_type": "code",
      "metadata": {
        "id": "E7xYCRGPjd9B",
        "colab_type": "code",
        "colab": {}
      },
      "source": [
        "base_dir = 'medical-concept-normalization'"
      ],
      "execution_count": 0,
      "outputs": []
    },
    {
      "cell_type": "code",
      "metadata": {
        "id": "yvIW3aUDjYNS",
        "colab_type": "code",
        "colab": {}
      },
      "source": [
        "os.mkdir(base_dir)"
      ],
      "execution_count": 0,
      "outputs": []
    },
    {
      "cell_type": "code",
      "metadata": {
        "id": "es-FFLlfk6SG",
        "colab_type": "code",
        "colab": {}
      },
      "source": [
        "os.mkdir('medical-concept-normalization/data_collection')"
      ],
      "execution_count": 0,
      "outputs": []
    },
    {
      "cell_type": "markdown",
      "metadata": {
        "id": "0R-Guw_VoJXm",
        "colab_type": "text"
      },
      "source": [
        "**Install fastai and clone the fastai for text classification**\n",
        "\n"
      ]
    },
    {
      "cell_type": "code",
      "metadata": {
        "id": "QVZa3Z0PmHFH",
        "colab_type": "code",
        "outputId": "c08f1250-7807-4aab-8c89-986f7acc6da3",
        "colab": {
          "base_uri": "https://localhost:8080/",
          "height": 104
        }
      },
      "source": [
        "!curl https://course-v3.fast.ai/setup/colab | bash"
      ],
      "execution_count": 5,
      "outputs": [
        {
          "output_type": "stream",
          "text": [
            "  % Total    % Received % Xferd  Average Speed   Time    Time     Time  Current\n",
            "                                 Dload  Upload   Total   Spent    Left  Speed\n",
            "100   287  100   287    0     0    986      0 --:--:-- --:--:-- --:--:--   982\n",
            "bash: line 1: syntax error near unexpected token `newline'\n",
            "bash: line 1: `<!DOCTYPE HTML PUBLIC \"-//IETF//DTD HTML 2.0//EN\">'\n"
          ],
          "name": "stdout"
        }
      ]
    },
    {
      "cell_type": "code",
      "metadata": {
        "id": "_FBFFEBrmJC0",
        "colab_type": "code",
        "outputId": "e34f2097-8efd-4ae4-ec53-20ab3973e073",
        "colab": {
          "base_uri": "https://localhost:8080/",
          "height": 87
        }
      },
      "source": [
        "!git clone https://github.com/wshuyi/demo-nlp-classification-fastai.git"
      ],
      "execution_count": 6,
      "outputs": [
        {
          "output_type": "stream",
          "text": [
            "Cloning into 'demo-nlp-classification-fastai'...\n",
            "remote: Enumerating objects: 9, done.\u001b[K\n",
            "remote: Total 9 (delta 0), reused 0 (delta 0), pack-reused 9\u001b[K\n",
            "Unpacking objects: 100% (9/9), done.\n"
          ],
          "name": "stdout"
        }
      ]
    },
    {
      "cell_type": "code",
      "metadata": {
        "id": "66zfh_JqmWMU",
        "colab_type": "code",
        "colab": {}
      },
      "source": [
        "from fastai import *\n",
        "from fastai.text import *"
      ],
      "execution_count": 0,
      "outputs": []
    },
    {
      "cell_type": "markdown",
      "metadata": {
        "id": "mNIw-yALdBU9",
        "colab_type": "text"
      },
      "source": [
        "**Set the path of the data collections**"
      ]
    },
    {
      "cell_type": "code",
      "metadata": {
        "id": "pzH7VMh4mqCL",
        "colab_type": "code",
        "colab": {}
      },
      "source": [
        "path = Path('medical-concept-normalization/data_collection')"
      ],
      "execution_count": 0,
      "outputs": []
    },
    {
      "cell_type": "code",
      "metadata": {
        "id": "b8fjI6yyn4aS",
        "colab_type": "code",
        "colab": {}
      },
      "source": [
        "# training data set\n",
        "\n",
        "train_csv = path/'AskAPatient.fold-7.train.csv'\n",
        "train = pd.read_csv(train_csv, header=None)\n",
        "#train.head()\n",
        "#train.info()"
      ],
      "execution_count": 0,
      "outputs": []
    },
    {
      "cell_type": "code",
      "metadata": {
        "id": "Hmlr-bAorfHd",
        "colab_type": "code",
        "outputId": "ae66f57d-f0fa-460c-e8dc-e272febd991e",
        "colab": {
          "base_uri": "https://localhost:8080/",
          "height": 202
        }
      },
      "source": [
        "# validating data set\n",
        "\n",
        "valid = pd.read_csv(path/\"AskAPatient.fold-7.validation.csv\",header=None)\n",
        "valid.head()"
      ],
      "execution_count": 48,
      "outputs": [
        {
          "output_type": "execute_result",
          "data": {
            "text/html": [
              "<div>\n",
              "<style scoped>\n",
              "    .dataframe tbody tr th:only-of-type {\n",
              "        vertical-align: middle;\n",
              "    }\n",
              "\n",
              "    .dataframe tbody tr th {\n",
              "        vertical-align: top;\n",
              "    }\n",
              "\n",
              "    .dataframe thead th {\n",
              "        text-align: right;\n",
              "    }\n",
              "</style>\n",
              "<table border=\"1\" class=\"dataframe\">\n",
              "  <thead>\n",
              "    <tr style=\"text-align: right;\">\n",
              "      <th></th>\n",
              "      <th>0</th>\n",
              "      <th>1</th>\n",
              "    </tr>\n",
              "  </thead>\n",
              "  <tbody>\n",
              "    <tr>\n",
              "      <th>0</th>\n",
              "      <td>0</td>\n",
              "      <td>fear</td>\n",
              "    </tr>\n",
              "    <tr>\n",
              "      <th>1</th>\n",
              "      <td>2</td>\n",
              "      <td>heel pain</td>\n",
              "    </tr>\n",
              "    <tr>\n",
              "      <th>2</th>\n",
              "      <td>4</td>\n",
              "      <td>Discoloration of skin [blotchy] on the neck</td>\n",
              "    </tr>\n",
              "    <tr>\n",
              "      <th>3</th>\n",
              "      <td>8</td>\n",
              "      <td>arthritis</td>\n",
              "    </tr>\n",
              "    <tr>\n",
              "      <th>4</th>\n",
              "      <td>8</td>\n",
              "      <td>arthritis</td>\n",
              "    </tr>\n",
              "  </tbody>\n",
              "</table>\n",
              "</div>"
            ],
            "text/plain": [
              "   0                                            1\n",
              "0  0                                         fear\n",
              "1  2                                    heel pain\n",
              "2  4  Discoloration of skin [blotchy] on the neck\n",
              "3  8                                    arthritis\n",
              "4  8                                    arthritis"
            ]
          },
          "metadata": {
            "tags": []
          },
          "execution_count": 48
        }
      ]
    },
    {
      "cell_type": "code",
      "metadata": {
        "id": "cOza9dfSsBud",
        "colab_type": "code",
        "outputId": "88bc53b0-c002-4442-95f8-ba5dfd158260",
        "colab": {
          "base_uri": "https://localhost:8080/",
          "height": 202
        }
      },
      "source": [
        "# testing data set\n",
        "\n",
        "test = pd.read_csv(path/\"AskAPatient.fold-7.test.csv\",header=None)\n",
        "test.head()"
      ],
      "execution_count": 49,
      "outputs": [
        {
          "output_type": "execute_result",
          "data": {
            "text/html": [
              "<div>\n",
              "<style scoped>\n",
              "    .dataframe tbody tr th:only-of-type {\n",
              "        vertical-align: middle;\n",
              "    }\n",
              "\n",
              "    .dataframe tbody tr th {\n",
              "        vertical-align: top;\n",
              "    }\n",
              "\n",
              "    .dataframe thead th {\n",
              "        text-align: right;\n",
              "    }\n",
              "</style>\n",
              "<table border=\"1\" class=\"dataframe\">\n",
              "  <thead>\n",
              "    <tr style=\"text-align: right;\">\n",
              "      <th></th>\n",
              "      <th>0</th>\n",
              "      <th>1</th>\n",
              "    </tr>\n",
              "  </thead>\n",
              "  <tbody>\n",
              "    <tr>\n",
              "      <th>0</th>\n",
              "      <td>3</td>\n",
              "      <td>joints poping and cracking</td>\n",
              "    </tr>\n",
              "    <tr>\n",
              "      <th>1</th>\n",
              "      <td>8</td>\n",
              "      <td>Arthritis</td>\n",
              "    </tr>\n",
              "    <tr>\n",
              "      <th>2</th>\n",
              "      <td>8</td>\n",
              "      <td>arthritis</td>\n",
              "    </tr>\n",
              "    <tr>\n",
              "      <th>3</th>\n",
              "      <td>8</td>\n",
              "      <td>arthritis</td>\n",
              "    </tr>\n",
              "    <tr>\n",
              "      <th>4</th>\n",
              "      <td>8</td>\n",
              "      <td>arthritis</td>\n",
              "    </tr>\n",
              "  </tbody>\n",
              "</table>\n",
              "</div>"
            ],
            "text/plain": [
              "   0                           1\n",
              "0  3  joints poping and cracking\n",
              "1  8                   Arthritis\n",
              "2  8                   arthritis\n",
              "3  8                   arthritis\n",
              "4  8                   arthritis"
            ]
          },
          "metadata": {
            "tags": []
          },
          "execution_count": 49
        }
      ]
    },
    {
      "cell_type": "code",
      "metadata": {
        "id": "Vo-YNvVYoaH6",
        "colab_type": "code",
        "colab": {}
      },
      "source": [
        "# Creating DataBunch for language modelling\n",
        "\n",
        "data_lm = TextLMDataBunch.from_csv(path, 'fine-tuning_language_model_pubmed_data.csv')"
      ],
      "execution_count": 0,
      "outputs": []
    },
    {
      "cell_type": "code",
      "metadata": {
        "id": "1ScY9afDsnvE",
        "colab_type": "code",
        "colab": {}
      },
      "source": [
        "# Creating DataBunch for classification\n",
        "\n",
        "# data_clas = TextClasDataBunch.from_df(path, train, valid, test, vocab=data_lm.train_ds.vocab, bs=128)"
      ],
      "execution_count": 0,
      "outputs": []
    },
    {
      "cell_type": "code",
      "metadata": {
        "id": "gzrSdQcvey9p",
        "colab_type": "code",
        "colab": {}
      },
      "source": [
        "data_clas = TextClasDataBunch.from_df(path, train, valid, vocab=data_lm.train_ds.vocab, bs=128)"
      ],
      "execution_count": 0,
      "outputs": []
    },
    {
      "cell_type": "code",
      "metadata": {
        "id": "MD27Tf0Ke3ou",
        "colab_type": "code",
        "colab": {}
      },
      "source": [
        "data_clas.add_test(test,label=0)\n"
      ],
      "execution_count": 0,
      "outputs": []
    },
    {
      "cell_type": "code",
      "metadata": {
        "id": "-dpjnk_rstwk",
        "colab_type": "code",
        "outputId": "fbe79f51-6d48-4b2f-cadc-e0b1ff746919",
        "colab": {
          "base_uri": "https://localhost:8080/",
          "height": 72
        }
      },
      "source": [
        "data_lm.save()\n",
        "data_clas.save()"
      ],
      "execution_count": 54,
      "outputs": [
        {
          "output_type": "stream",
          "text": [
            "/usr/local/lib/python3.6/dist-packages/torch/serialization.py:292: UserWarning: Couldn't retrieve source code for container of type CrossEntropyLoss. It won't be checked for correctness upon loading.\n",
            "  \"type \" + obj.__name__ + \". It won't be checked \"\n"
          ],
          "name": "stderr"
        }
      ]
    },
    {
      "cell_type": "code",
      "metadata": {
        "id": "4OkiJa36sw5s",
        "colab_type": "code",
        "colab": {}
      },
      "source": [
        "data_lm.train_ds.vocab.itos"
      ],
      "execution_count": 0,
      "outputs": []
    },
    {
      "cell_type": "code",
      "metadata": {
        "id": "yPWr03mls3VT",
        "colab_type": "code",
        "colab": {}
      },
      "source": [
        "model_path = path/'models'\n",
        "model_path.mkdir(exist_ok=True)\n",
        "url = 'http://files.fast.ai/models/wt103_v1/'\n",
        "download_url(f'{url}lstm_wt103.pth', model_path/'lstm_wt103.pth')\n",
        "download_url(f'{url}itos_wt103.pkl', model_path/'itos_wt103.pkl')"
      ],
      "execution_count": 0,
      "outputs": []
    },
    {
      "cell_type": "code",
      "metadata": {
        "id": "JRzvWg8RtGGr",
        "colab_type": "code",
        "colab": {}
      },
      "source": [
        "learn = language_model_learner(data_lm, AWD_LSTM, drop_mult=0.5)"
      ],
      "execution_count": 0,
      "outputs": []
    },
    {
      "cell_type": "code",
      "metadata": {
        "id": "xKK7GeBev7Xn",
        "colab_type": "code",
        "outputId": "7ea958e1-0598-45a6-dda7-91f9d292d12c",
        "colab": {
          "base_uri": "https://localhost:8080/",
          "height": 79
        }
      },
      "source": [
        "learn.fit_one_cycle(1, 1e-2)"
      ],
      "execution_count": 58,
      "outputs": [
        {
          "output_type": "display_data",
          "data": {
            "text/html": [
              "<table border=\"1\" class=\"dataframe\">\n",
              "  <thead>\n",
              "    <tr style=\"text-align: left;\">\n",
              "      <th>epoch</th>\n",
              "      <th>train_loss</th>\n",
              "      <th>valid_loss</th>\n",
              "      <th>accuracy</th>\n",
              "      <th>time</th>\n",
              "    </tr>\n",
              "  </thead>\n",
              "  <tbody>\n",
              "    <tr>\n",
              "      <td>0</td>\n",
              "      <td>5.454917</td>\n",
              "      <td>4.805334</td>\n",
              "      <td>0.232471</td>\n",
              "      <td>10:42</td>\n",
              "    </tr>\n",
              "  </tbody>\n",
              "</table>"
            ],
            "text/plain": [
              "<IPython.core.display.HTML object>"
            ]
          },
          "metadata": {
            "tags": []
          }
        }
      ]
    },
    {
      "cell_type": "code",
      "metadata": {
        "id": "iB7rHGQCwd12",
        "colab_type": "code",
        "colab": {
          "base_uri": "https://localhost:8080/",
          "height": 79
        },
        "outputId": "ea7e6dc8-d19b-44d7-fe61-36d7d6a7de90"
      },
      "source": [
        "learn.fit_one_cycle(1, 1e-2)"
      ],
      "execution_count": 59,
      "outputs": [
        {
          "output_type": "display_data",
          "data": {
            "text/html": [
              "<table border=\"1\" class=\"dataframe\">\n",
              "  <thead>\n",
              "    <tr style=\"text-align: left;\">\n",
              "      <th>epoch</th>\n",
              "      <th>train_loss</th>\n",
              "      <th>valid_loss</th>\n",
              "      <th>accuracy</th>\n",
              "      <th>time</th>\n",
              "    </tr>\n",
              "  </thead>\n",
              "  <tbody>\n",
              "    <tr>\n",
              "      <td>0</td>\n",
              "      <td>4.659017</td>\n",
              "      <td>4.489201</td>\n",
              "      <td>0.261542</td>\n",
              "      <td>10:42</td>\n",
              "    </tr>\n",
              "  </tbody>\n",
              "</table>"
            ],
            "text/plain": [
              "<IPython.core.display.HTML object>"
            ]
          },
          "metadata": {
            "tags": []
          }
        }
      ]
    },
    {
      "cell_type": "code",
      "metadata": {
        "id": "_BnSuAeCwkBe",
        "colab_type": "code",
        "colab": {
          "base_uri": "https://localhost:8080/",
          "height": 79
        },
        "outputId": "8caf0bbf-364b-4562-9950-d57c1adb6e44"
      },
      "source": [
        "learn.fit_one_cycle(1, 1e-3)"
      ],
      "execution_count": 60,
      "outputs": [
        {
          "output_type": "display_data",
          "data": {
            "text/html": [
              "<table border=\"1\" class=\"dataframe\">\n",
              "  <thead>\n",
              "    <tr style=\"text-align: left;\">\n",
              "      <th>epoch</th>\n",
              "      <th>train_loss</th>\n",
              "      <th>valid_loss</th>\n",
              "      <th>accuracy</th>\n",
              "      <th>time</th>\n",
              "    </tr>\n",
              "  </thead>\n",
              "  <tbody>\n",
              "    <tr>\n",
              "      <td>0</td>\n",
              "      <td>4.357717</td>\n",
              "      <td>4.453433</td>\n",
              "      <td>0.265139</td>\n",
              "      <td>10:44</td>\n",
              "    </tr>\n",
              "  </tbody>\n",
              "</table>"
            ],
            "text/plain": [
              "<IPython.core.display.HTML object>"
            ]
          },
          "metadata": {
            "tags": []
          }
        }
      ]
    },
    {
      "cell_type": "code",
      "metadata": {
        "id": "MuTm-RFjwrEX",
        "colab_type": "code",
        "colab": {
          "base_uri": "https://localhost:8080/",
          "height": 79
        },
        "outputId": "1fdde5bb-8799-4c3d-ef5a-4f1572ec6e89"
      },
      "source": [
        "learn.fit_one_cycle(1, 1e-3)"
      ],
      "execution_count": 61,
      "outputs": [
        {
          "output_type": "display_data",
          "data": {
            "text/html": [
              "<table border=\"1\" class=\"dataframe\">\n",
              "  <thead>\n",
              "    <tr style=\"text-align: left;\">\n",
              "      <th>epoch</th>\n",
              "      <th>train_loss</th>\n",
              "      <th>valid_loss</th>\n",
              "      <th>accuracy</th>\n",
              "      <th>time</th>\n",
              "    </tr>\n",
              "  </thead>\n",
              "  <tbody>\n",
              "    <tr>\n",
              "      <td>0</td>\n",
              "      <td>4.312974</td>\n",
              "      <td>4.427221</td>\n",
              "      <td>0.268015</td>\n",
              "      <td>10:56</td>\n",
              "    </tr>\n",
              "  </tbody>\n",
              "</table>"
            ],
            "text/plain": [
              "<IPython.core.display.HTML object>"
            ]
          },
          "metadata": {
            "tags": []
          }
        }
      ]
    },
    {
      "cell_type": "code",
      "metadata": {
        "id": "1Er2ExO8wr7Y",
        "colab_type": "code",
        "colab": {}
      },
      "source": [
        "learn.save_encoder('pubmed_fold7_first')"
      ],
      "execution_count": 0,
      "outputs": []
    },
    {
      "cell_type": "code",
      "metadata": {
        "id": "z52cZs2qwvad",
        "colab_type": "code",
        "colab": {
          "base_uri": "https://localhost:8080/",
          "height": 79
        },
        "outputId": "cf6fec7c-ad1f-430e-ce77-961f1f292a0d"
      },
      "source": [
        "learn = text_classifier_learner(data_clas,AWD_LSTM, drop_mult=0.5)\n",
        "learn.load_encoder('pubmed_fold7_first')\n",
        "learn.fit_one_cycle(1, 1e-2)"
      ],
      "execution_count": 63,
      "outputs": [
        {
          "output_type": "display_data",
          "data": {
            "text/html": [
              "<table border=\"1\" class=\"dataframe\">\n",
              "  <thead>\n",
              "    <tr style=\"text-align: left;\">\n",
              "      <th>epoch</th>\n",
              "      <th>train_loss</th>\n",
              "      <th>valid_loss</th>\n",
              "      <th>accuracy</th>\n",
              "      <th>time</th>\n",
              "    </tr>\n",
              "  </thead>\n",
              "  <tbody>\n",
              "    <tr>\n",
              "      <td>0</td>\n",
              "      <td>3.733992</td>\n",
              "      <td>3.712119</td>\n",
              "      <td>0.380476</td>\n",
              "      <td>01:13</td>\n",
              "    </tr>\n",
              "  </tbody>\n",
              "</table>"
            ],
            "text/plain": [
              "<IPython.core.display.HTML object>"
            ]
          },
          "metadata": {
            "tags": []
          }
        }
      ]
    },
    {
      "cell_type": "code",
      "metadata": {
        "id": "ImwQP1PJwzxd",
        "colab_type": "code",
        "colab": {
          "base_uri": "https://localhost:8080/",
          "height": 79
        },
        "outputId": "a5cebe37-b072-4dd3-c60b-01f54749754a"
      },
      "source": [
        "learn.freeze_to(-2)\n",
        "learn.fit_one_cycle(1, slice(5e-3/2., 5e-3))"
      ],
      "execution_count": 64,
      "outputs": [
        {
          "output_type": "display_data",
          "data": {
            "text/html": [
              "<table border=\"1\" class=\"dataframe\">\n",
              "  <thead>\n",
              "    <tr style=\"text-align: left;\">\n",
              "      <th>epoch</th>\n",
              "      <th>train_loss</th>\n",
              "      <th>valid_loss</th>\n",
              "      <th>accuracy</th>\n",
              "      <th>time</th>\n",
              "    </tr>\n",
              "  </thead>\n",
              "  <tbody>\n",
              "    <tr>\n",
              "      <td>0</td>\n",
              "      <td>2.809858</td>\n",
              "      <td>3.194703</td>\n",
              "      <td>0.489362</td>\n",
              "      <td>01:23</td>\n",
              "    </tr>\n",
              "  </tbody>\n",
              "</table>"
            ],
            "text/plain": [
              "<IPython.core.display.HTML object>"
            ]
          },
          "metadata": {
            "tags": []
          }
        }
      ]
    },
    {
      "cell_type": "code",
      "metadata": {
        "id": "Owff_BJXw53u",
        "colab_type": "code",
        "colab": {
          "base_uri": "https://localhost:8080/",
          "height": 79
        },
        "outputId": "8016b1ad-fdec-49b1-8d06-78d7d1d69497"
      },
      "source": [
        "learn.unfreeze()\n",
        "learn.fit_one_cycle(1, slice(2e-3/100, 2e-3))"
      ],
      "execution_count": 65,
      "outputs": [
        {
          "output_type": "display_data",
          "data": {
            "text/html": [
              "<table border=\"1\" class=\"dataframe\">\n",
              "  <thead>\n",
              "    <tr style=\"text-align: left;\">\n",
              "      <th>epoch</th>\n",
              "      <th>train_loss</th>\n",
              "      <th>valid_loss</th>\n",
              "      <th>accuracy</th>\n",
              "      <th>time</th>\n",
              "    </tr>\n",
              "  </thead>\n",
              "  <tbody>\n",
              "    <tr>\n",
              "      <td>0</td>\n",
              "      <td>2.445802</td>\n",
              "      <td>2.903003</td>\n",
              "      <td>0.523154</td>\n",
              "      <td>03:18</td>\n",
              "    </tr>\n",
              "  </tbody>\n",
              "</table>"
            ],
            "text/plain": [
              "<IPython.core.display.HTML object>"
            ]
          },
          "metadata": {
            "tags": []
          }
        }
      ]
    },
    {
      "cell_type": "code",
      "metadata": {
        "id": "lqAyu56V8Waq",
        "colab_type": "code",
        "colab": {
          "base_uri": "https://localhost:8080/",
          "height": 110
        },
        "outputId": "d404a4ff-6931-4069-d565-cf4a8649449f"
      },
      "source": [
        "learn.fit_one_cycle(2, slice(2e-3/100, 2e-3))"
      ],
      "execution_count": 66,
      "outputs": [
        {
          "output_type": "display_data",
          "data": {
            "text/html": [
              "<table border=\"1\" class=\"dataframe\">\n",
              "  <thead>\n",
              "    <tr style=\"text-align: left;\">\n",
              "      <th>epoch</th>\n",
              "      <th>train_loss</th>\n",
              "      <th>valid_loss</th>\n",
              "      <th>accuracy</th>\n",
              "      <th>time</th>\n",
              "    </tr>\n",
              "  </thead>\n",
              "  <tbody>\n",
              "    <tr>\n",
              "      <td>0</td>\n",
              "      <td>2.277148</td>\n",
              "      <td>2.631788</td>\n",
              "      <td>0.553191</td>\n",
              "      <td>03:22</td>\n",
              "    </tr>\n",
              "    <tr>\n",
              "      <td>1</td>\n",
              "      <td>2.017430</td>\n",
              "      <td>2.539709</td>\n",
              "      <td>0.566959</td>\n",
              "      <td>03:21</td>\n",
              "    </tr>\n",
              "  </tbody>\n",
              "</table>"
            ],
            "text/plain": [
              "<IPython.core.display.HTML object>"
            ]
          },
          "metadata": {
            "tags": []
          }
        }
      ]
    },
    {
      "cell_type": "code",
      "metadata": {
        "id": "a7I1xMRp8bUd",
        "colab_type": "code",
        "colab": {
          "base_uri": "https://localhost:8080/",
          "height": 110
        },
        "outputId": "0a8bc367-cb2b-4dfa-8109-a3b61ac5d72c"
      },
      "source": [
        "learn.fit_one_cycle(2, slice(2e-3/100, 2e-3))"
      ],
      "execution_count": 67,
      "outputs": [
        {
          "output_type": "display_data",
          "data": {
            "text/html": [
              "<table border=\"1\" class=\"dataframe\">\n",
              "  <thead>\n",
              "    <tr style=\"text-align: left;\">\n",
              "      <th>epoch</th>\n",
              "      <th>train_loss</th>\n",
              "      <th>valid_loss</th>\n",
              "      <th>accuracy</th>\n",
              "      <th>time</th>\n",
              "    </tr>\n",
              "  </thead>\n",
              "  <tbody>\n",
              "    <tr>\n",
              "      <td>0</td>\n",
              "      <td>1.870073</td>\n",
              "      <td>2.381128</td>\n",
              "      <td>0.584481</td>\n",
              "      <td>03:22</td>\n",
              "    </tr>\n",
              "    <tr>\n",
              "      <td>1</td>\n",
              "      <td>1.730262</td>\n",
              "      <td>2.305551</td>\n",
              "      <td>0.605757</td>\n",
              "      <td>03:32</td>\n",
              "    </tr>\n",
              "  </tbody>\n",
              "</table>"
            ],
            "text/plain": [
              "<IPython.core.display.HTML object>"
            ]
          },
          "metadata": {
            "tags": []
          }
        }
      ]
    },
    {
      "cell_type": "code",
      "metadata": {
        "id": "UAnti-XmGVfO",
        "colab_type": "code",
        "colab": {
          "base_uri": "https://localhost:8080/",
          "height": 110
        },
        "outputId": "3757a8a1-06b2-401b-83ab-2a2d6bd72986"
      },
      "source": [
        "learn.fit_one_cycle(2, slice(2e-3/100, 2e-3))"
      ],
      "execution_count": 68,
      "outputs": [
        {
          "output_type": "display_data",
          "data": {
            "text/html": [
              "<table border=\"1\" class=\"dataframe\">\n",
              "  <thead>\n",
              "    <tr style=\"text-align: left;\">\n",
              "      <th>epoch</th>\n",
              "      <th>train_loss</th>\n",
              "      <th>valid_loss</th>\n",
              "      <th>accuracy</th>\n",
              "      <th>time</th>\n",
              "    </tr>\n",
              "  </thead>\n",
              "  <tbody>\n",
              "    <tr>\n",
              "      <td>0</td>\n",
              "      <td>1.664503</td>\n",
              "      <td>2.264674</td>\n",
              "      <td>0.622028</td>\n",
              "      <td>03:14</td>\n",
              "    </tr>\n",
              "    <tr>\n",
              "      <td>1</td>\n",
              "      <td>1.531561</td>\n",
              "      <td>2.200415</td>\n",
              "      <td>0.625782</td>\n",
              "      <td>03:17</td>\n",
              "    </tr>\n",
              "  </tbody>\n",
              "</table>"
            ],
            "text/plain": [
              "<IPython.core.display.HTML object>"
            ]
          },
          "metadata": {
            "tags": []
          }
        }
      ]
    },
    {
      "cell_type": "code",
      "metadata": {
        "id": "bIft7W25GwSu",
        "colab_type": "code",
        "colab": {
          "base_uri": "https://localhost:8080/",
          "height": 110
        },
        "outputId": "2886413b-b464-4313-cf3a-a26dcefe7788"
      },
      "source": [
        "learn.fit_one_cycle(2, slice(2e-3/100, 2e-3))"
      ],
      "execution_count": 69,
      "outputs": [
        {
          "output_type": "display_data",
          "data": {
            "text/html": [
              "<table border=\"1\" class=\"dataframe\">\n",
              "  <thead>\n",
              "    <tr style=\"text-align: left;\">\n",
              "      <th>epoch</th>\n",
              "      <th>train_loss</th>\n",
              "      <th>valid_loss</th>\n",
              "      <th>accuracy</th>\n",
              "      <th>time</th>\n",
              "    </tr>\n",
              "  </thead>\n",
              "  <tbody>\n",
              "    <tr>\n",
              "      <td>0</td>\n",
              "      <td>1.520090</td>\n",
              "      <td>2.177637</td>\n",
              "      <td>0.635795</td>\n",
              "      <td>03:29</td>\n",
              "    </tr>\n",
              "    <tr>\n",
              "      <td>1</td>\n",
              "      <td>1.402361</td>\n",
              "      <td>2.135838</td>\n",
              "      <td>0.647059</td>\n",
              "      <td>03:34</td>\n",
              "    </tr>\n",
              "  </tbody>\n",
              "</table>"
            ],
            "text/plain": [
              "<IPython.core.display.HTML object>"
            ]
          },
          "metadata": {
            "tags": []
          }
        }
      ]
    },
    {
      "cell_type": "code",
      "metadata": {
        "id": "EEHszVRvGyFt",
        "colab_type": "code",
        "colab": {
          "base_uri": "https://localhost:8080/",
          "height": 110
        },
        "outputId": "096a78bf-f85b-4c11-8981-58e41a0bca20"
      },
      "source": [
        "learn.fit_one_cycle(2, slice(2e-3/100, 2e-3))"
      ],
      "execution_count": 70,
      "outputs": [
        {
          "output_type": "display_data",
          "data": {
            "text/html": [
              "<table border=\"1\" class=\"dataframe\">\n",
              "  <thead>\n",
              "    <tr style=\"text-align: left;\">\n",
              "      <th>epoch</th>\n",
              "      <th>train_loss</th>\n",
              "      <th>valid_loss</th>\n",
              "      <th>accuracy</th>\n",
              "      <th>time</th>\n",
              "    </tr>\n",
              "  </thead>\n",
              "  <tbody>\n",
              "    <tr>\n",
              "      <td>0</td>\n",
              "      <td>1.371219</td>\n",
              "      <td>2.132920</td>\n",
              "      <td>0.635795</td>\n",
              "      <td>03:20</td>\n",
              "    </tr>\n",
              "    <tr>\n",
              "      <td>1</td>\n",
              "      <td>1.291503</td>\n",
              "      <td>2.117090</td>\n",
              "      <td>0.652065</td>\n",
              "      <td>03:21</td>\n",
              "    </tr>\n",
              "  </tbody>\n",
              "</table>"
            ],
            "text/plain": [
              "<IPython.core.display.HTML object>"
            ]
          },
          "metadata": {
            "tags": []
          }
        }
      ]
    },
    {
      "cell_type": "code",
      "metadata": {
        "id": "XsHfrhCHG3dN",
        "colab_type": "code",
        "colab": {
          "base_uri": "https://localhost:8080/",
          "height": 171
        },
        "outputId": "dacbc931-b4f6-44a1-984b-a6c5f466093e"
      },
      "source": [
        "learn.fit_one_cycle(4, slice(2e-3/100, 2e-3))"
      ],
      "execution_count": 71,
      "outputs": [
        {
          "output_type": "display_data",
          "data": {
            "text/html": [
              "<table border=\"1\" class=\"dataframe\">\n",
              "  <thead>\n",
              "    <tr style=\"text-align: left;\">\n",
              "      <th>epoch</th>\n",
              "      <th>train_loss</th>\n",
              "      <th>valid_loss</th>\n",
              "      <th>accuracy</th>\n",
              "      <th>time</th>\n",
              "    </tr>\n",
              "  </thead>\n",
              "  <tbody>\n",
              "    <tr>\n",
              "      <td>0</td>\n",
              "      <td>1.249521</td>\n",
              "      <td>2.119839</td>\n",
              "      <td>0.653317</td>\n",
              "      <td>03:29</td>\n",
              "    </tr>\n",
              "    <tr>\n",
              "      <td>1</td>\n",
              "      <td>1.250194</td>\n",
              "      <td>2.087594</td>\n",
              "      <td>0.642053</td>\n",
              "      <td>03:22</td>\n",
              "    </tr>\n",
              "    <tr>\n",
              "      <td>2</td>\n",
              "      <td>1.162835</td>\n",
              "      <td>2.054947</td>\n",
              "      <td>0.667084</td>\n",
              "      <td>03:15</td>\n",
              "    </tr>\n",
              "    <tr>\n",
              "      <td>3</td>\n",
              "      <td>1.108499</td>\n",
              "      <td>2.104738</td>\n",
              "      <td>0.658323</td>\n",
              "      <td>03:15</td>\n",
              "    </tr>\n",
              "  </tbody>\n",
              "</table>"
            ],
            "text/plain": [
              "<IPython.core.display.HTML object>"
            ]
          },
          "metadata": {
            "tags": []
          }
        }
      ]
    },
    {
      "cell_type": "code",
      "metadata": {
        "id": "0Zsd99isb9EQ",
        "colab_type": "code",
        "colab": {
          "base_uri": "https://localhost:8080/",
          "height": 171
        },
        "outputId": "9284518b-b8db-4cdc-e002-5a2b3203e98b"
      },
      "source": [
        "learn.fit_one_cycle(4, slice(2e-3/100, 2e-3))"
      ],
      "execution_count": 72,
      "outputs": [
        {
          "output_type": "display_data",
          "data": {
            "text/html": [
              "<table border=\"1\" class=\"dataframe\">\n",
              "  <thead>\n",
              "    <tr style=\"text-align: left;\">\n",
              "      <th>epoch</th>\n",
              "      <th>train_loss</th>\n",
              "      <th>valid_loss</th>\n",
              "      <th>accuracy</th>\n",
              "      <th>time</th>\n",
              "    </tr>\n",
              "  </thead>\n",
              "  <tbody>\n",
              "    <tr>\n",
              "      <td>0</td>\n",
              "      <td>1.113742</td>\n",
              "      <td>2.077355</td>\n",
              "      <td>0.663329</td>\n",
              "      <td>03:27</td>\n",
              "    </tr>\n",
              "    <tr>\n",
              "      <td>1</td>\n",
              "      <td>1.183270</td>\n",
              "      <td>2.111724</td>\n",
              "      <td>0.662078</td>\n",
              "      <td>03:28</td>\n",
              "    </tr>\n",
              "    <tr>\n",
              "      <td>2</td>\n",
              "      <td>1.068846</td>\n",
              "      <td>2.083351</td>\n",
              "      <td>0.665832</td>\n",
              "      <td>03:09</td>\n",
              "    </tr>\n",
              "    <tr>\n",
              "      <td>3</td>\n",
              "      <td>1.001714</td>\n",
              "      <td>2.096114</td>\n",
              "      <td>0.667084</td>\n",
              "      <td>03:28</td>\n",
              "    </tr>\n",
              "  </tbody>\n",
              "</table>"
            ],
            "text/plain": [
              "<IPython.core.display.HTML object>"
            ]
          },
          "metadata": {
            "tags": []
          }
        }
      ]
    },
    {
      "cell_type": "code",
      "metadata": {
        "id": "atNWNKDFPbuI",
        "colab_type": "code",
        "colab": {
          "base_uri": "https://localhost:8080/",
          "height": 171
        },
        "outputId": "20bc1c48-e5c1-444c-bc58-0b21fe1e003a"
      },
      "source": [
        "learn.fit_one_cycle(4, slice(2e-3/100, 2e-3))"
      ],
      "execution_count": 73,
      "outputs": [
        {
          "output_type": "display_data",
          "data": {
            "text/html": [
              "<table border=\"1\" class=\"dataframe\">\n",
              "  <thead>\n",
              "    <tr style=\"text-align: left;\">\n",
              "      <th>epoch</th>\n",
              "      <th>train_loss</th>\n",
              "      <th>valid_loss</th>\n",
              "      <th>accuracy</th>\n",
              "      <th>time</th>\n",
              "    </tr>\n",
              "  </thead>\n",
              "  <tbody>\n",
              "    <tr>\n",
              "      <td>0</td>\n",
              "      <td>1.028074</td>\n",
              "      <td>2.135010</td>\n",
              "      <td>0.664581</td>\n",
              "      <td>03:30</td>\n",
              "    </tr>\n",
              "    <tr>\n",
              "      <td>1</td>\n",
              "      <td>1.077642</td>\n",
              "      <td>2.144107</td>\n",
              "      <td>0.665832</td>\n",
              "      <td>03:22</td>\n",
              "    </tr>\n",
              "    <tr>\n",
              "      <td>2</td>\n",
              "      <td>0.986647</td>\n",
              "      <td>2.082005</td>\n",
              "      <td>0.679600</td>\n",
              "      <td>03:33</td>\n",
              "    </tr>\n",
              "    <tr>\n",
              "      <td>3</td>\n",
              "      <td>0.955199</td>\n",
              "      <td>2.083892</td>\n",
              "      <td>0.682103</td>\n",
              "      <td>03:14</td>\n",
              "    </tr>\n",
              "  </tbody>\n",
              "</table>"
            ],
            "text/plain": [
              "<IPython.core.display.HTML object>"
            ]
          },
          "metadata": {
            "tags": []
          }
        }
      ]
    },
    {
      "cell_type": "code",
      "metadata": {
        "id": "rKrBTZ0T1uVA",
        "colab_type": "code",
        "colab": {
          "base_uri": "https://localhost:8080/",
          "height": 171
        },
        "outputId": "9d5e0dfe-4781-4a1e-f06d-5779b0171176"
      },
      "source": [
        "learn.fit_one_cycle(4, slice(2e-3/100, 2e-3))"
      ],
      "execution_count": 74,
      "outputs": [
        {
          "output_type": "display_data",
          "data": {
            "text/html": [
              "<table border=\"1\" class=\"dataframe\">\n",
              "  <thead>\n",
              "    <tr style=\"text-align: left;\">\n",
              "      <th>epoch</th>\n",
              "      <th>train_loss</th>\n",
              "      <th>valid_loss</th>\n",
              "      <th>accuracy</th>\n",
              "      <th>time</th>\n",
              "    </tr>\n",
              "  </thead>\n",
              "  <tbody>\n",
              "    <tr>\n",
              "      <td>0</td>\n",
              "      <td>1.009674</td>\n",
              "      <td>2.097172</td>\n",
              "      <td>0.669587</td>\n",
              "      <td>03:20</td>\n",
              "    </tr>\n",
              "    <tr>\n",
              "      <td>1</td>\n",
              "      <td>1.026004</td>\n",
              "      <td>2.114666</td>\n",
              "      <td>0.668335</td>\n",
              "      <td>03:16</td>\n",
              "    </tr>\n",
              "    <tr>\n",
              "      <td>2</td>\n",
              "      <td>0.980908</td>\n",
              "      <td>2.096347</td>\n",
              "      <td>0.685857</td>\n",
              "      <td>03:28</td>\n",
              "    </tr>\n",
              "    <tr>\n",
              "      <td>3</td>\n",
              "      <td>0.932293</td>\n",
              "      <td>2.085537</td>\n",
              "      <td>0.689612</td>\n",
              "      <td>03:25</td>\n",
              "    </tr>\n",
              "  </tbody>\n",
              "</table>"
            ],
            "text/plain": [
              "<IPython.core.display.HTML object>"
            ]
          },
          "metadata": {
            "tags": []
          }
        }
      ]
    },
    {
      "cell_type": "code",
      "metadata": {
        "id": "ajQC6WDg1yA9",
        "colab_type": "code",
        "colab": {
          "base_uri": "https://localhost:8080/",
          "height": 171
        },
        "outputId": "b43f4361-c8e0-4e92-e95c-07a9fda5ad60"
      },
      "source": [
        "learn.fit_one_cycle(4, slice(2e-3/100, 2e-3))"
      ],
      "execution_count": 75,
      "outputs": [
        {
          "output_type": "display_data",
          "data": {
            "text/html": [
              "<table border=\"1\" class=\"dataframe\">\n",
              "  <thead>\n",
              "    <tr style=\"text-align: left;\">\n",
              "      <th>epoch</th>\n",
              "      <th>train_loss</th>\n",
              "      <th>valid_loss</th>\n",
              "      <th>accuracy</th>\n",
              "      <th>time</th>\n",
              "    </tr>\n",
              "  </thead>\n",
              "  <tbody>\n",
              "    <tr>\n",
              "      <td>0</td>\n",
              "      <td>0.947699</td>\n",
              "      <td>2.188392</td>\n",
              "      <td>0.672090</td>\n",
              "      <td>03:20</td>\n",
              "    </tr>\n",
              "    <tr>\n",
              "      <td>1</td>\n",
              "      <td>1.027273</td>\n",
              "      <td>2.170929</td>\n",
              "      <td>0.675845</td>\n",
              "      <td>03:16</td>\n",
              "    </tr>\n",
              "    <tr>\n",
              "      <td>2</td>\n",
              "      <td>0.944517</td>\n",
              "      <td>2.178553</td>\n",
              "      <td>0.677096</td>\n",
              "      <td>03:29</td>\n",
              "    </tr>\n",
              "    <tr>\n",
              "      <td>3</td>\n",
              "      <td>0.943242</td>\n",
              "      <td>2.203568</td>\n",
              "      <td>0.683354</td>\n",
              "      <td>03:27</td>\n",
              "    </tr>\n",
              "  </tbody>\n",
              "</table>"
            ],
            "text/plain": [
              "<IPython.core.display.HTML object>"
            ]
          },
          "metadata": {
            "tags": []
          }
        }
      ]
    },
    {
      "cell_type": "code",
      "metadata": {
        "id": "KKydb0B4BKGk",
        "colab_type": "code",
        "colab": {
          "base_uri": "https://localhost:8080/",
          "height": 171
        },
        "outputId": "be4ee722-a0a1-4b62-f99a-c378afb339c4"
      },
      "source": [
        "learn.fit_one_cycle(4, slice(2e-3/100, 2e-3))"
      ],
      "execution_count": 76,
      "outputs": [
        {
          "output_type": "display_data",
          "data": {
            "text/html": [
              "<table border=\"1\" class=\"dataframe\">\n",
              "  <thead>\n",
              "    <tr style=\"text-align: left;\">\n",
              "      <th>epoch</th>\n",
              "      <th>train_loss</th>\n",
              "      <th>valid_loss</th>\n",
              "      <th>accuracy</th>\n",
              "      <th>time</th>\n",
              "    </tr>\n",
              "  </thead>\n",
              "  <tbody>\n",
              "    <tr>\n",
              "      <td>0</td>\n",
              "      <td>0.928254</td>\n",
              "      <td>2.158738</td>\n",
              "      <td>0.683354</td>\n",
              "      <td>03:32</td>\n",
              "    </tr>\n",
              "    <tr>\n",
              "      <td>1</td>\n",
              "      <td>0.944296</td>\n",
              "      <td>2.173680</td>\n",
              "      <td>0.677096</td>\n",
              "      <td>03:24</td>\n",
              "    </tr>\n",
              "    <tr>\n",
              "      <td>2</td>\n",
              "      <td>0.942057</td>\n",
              "      <td>2.209501</td>\n",
              "      <td>0.670839</td>\n",
              "      <td>03:33</td>\n",
              "    </tr>\n",
              "    <tr>\n",
              "      <td>3</td>\n",
              "      <td>0.905652</td>\n",
              "      <td>2.216856</td>\n",
              "      <td>0.679600</td>\n",
              "      <td>03:33</td>\n",
              "    </tr>\n",
              "  </tbody>\n",
              "</table>"
            ],
            "text/plain": [
              "<IPython.core.display.HTML object>"
            ]
          },
          "metadata": {
            "tags": []
          }
        }
      ]
    },
    {
      "cell_type": "code",
      "metadata": {
        "id": "T2APKtFKBpGY",
        "colab_type": "code",
        "colab": {
          "base_uri": "https://localhost:8080/",
          "height": 171
        },
        "outputId": "ebca7a82-d80f-481a-9377-cdd6b91e9df4"
      },
      "source": [
        "learn.fit_one_cycle(4, slice(2e-3/100, 2e-3))"
      ],
      "execution_count": 77,
      "outputs": [
        {
          "output_type": "display_data",
          "data": {
            "text/html": [
              "<table border=\"1\" class=\"dataframe\">\n",
              "  <thead>\n",
              "    <tr style=\"text-align: left;\">\n",
              "      <th>epoch</th>\n",
              "      <th>train_loss</th>\n",
              "      <th>valid_loss</th>\n",
              "      <th>accuracy</th>\n",
              "      <th>time</th>\n",
              "    </tr>\n",
              "  </thead>\n",
              "  <tbody>\n",
              "    <tr>\n",
              "      <td>0</td>\n",
              "      <td>0.850661</td>\n",
              "      <td>2.246378</td>\n",
              "      <td>0.674593</td>\n",
              "      <td>03:19</td>\n",
              "    </tr>\n",
              "    <tr>\n",
              "      <td>1</td>\n",
              "      <td>0.948432</td>\n",
              "      <td>2.263780</td>\n",
              "      <td>0.672090</td>\n",
              "      <td>03:12</td>\n",
              "    </tr>\n",
              "    <tr>\n",
              "      <td>2</td>\n",
              "      <td>0.932886</td>\n",
              "      <td>2.188210</td>\n",
              "      <td>0.678348</td>\n",
              "      <td>03:30</td>\n",
              "    </tr>\n",
              "    <tr>\n",
              "      <td>3</td>\n",
              "      <td>0.825275</td>\n",
              "      <td>2.190116</td>\n",
              "      <td>0.677096</td>\n",
              "      <td>03:20</td>\n",
              "    </tr>\n",
              "  </tbody>\n",
              "</table>"
            ],
            "text/plain": [
              "<IPython.core.display.HTML object>"
            ]
          },
          "metadata": {
            "tags": []
          }
        }
      ]
    },
    {
      "cell_type": "code",
      "metadata": {
        "id": "c65d-osfDUXm",
        "colab_type": "code",
        "colab": {}
      },
      "source": [
        "# save the best model\n",
        "\n",
        "learn.save_encoder('ask-7-tuning-pubmed')"
      ],
      "execution_count": 0,
      "outputs": []
    },
    {
      "cell_type": "markdown",
      "metadata": {
        "id": "rCwZU0E2RgM6",
        "colab_type": "text"
      },
      "source": [
        "# Part three: Predict on the test dataset"
      ]
    },
    {
      "cell_type": "code",
      "metadata": {
        "id": "gDm72c-dOu7d",
        "colab_type": "code",
        "colab": {}
      },
      "source": [
        "# use the test data for prediction\n",
        "\n",
        "preds, y = learn.get_preds(DatasetType.Test)"
      ],
      "execution_count": 0,
      "outputs": []
    },
    {
      "cell_type": "code",
      "metadata": {
        "id": "6tFSQcsWPvxn",
        "colab_type": "code",
        "colab": {
          "base_uri": "https://localhost:8080/",
          "height": 107
        },
        "outputId": "c233e411-e9ee-4c22-9999-784431c0d852"
      },
      "source": [
        "predictions, *_ = learn.get_preds(DatasetType.Test)\n",
        "labels = np.argmax(predictions, 1)\n",
        "predict_list = labels.tolist()\n",
        "standard_list = test[0].tolist()\n",
        "\n",
        "print(len(predict_list))\n",
        "print(len(standard_list))\n",
        "\n",
        "print(predict_list)\n",
        "print(standard_list)"
      ],
      "execution_count": 80,
      "outputs": [
        {
          "output_type": "stream",
          "text": [
            "866\n",
            "866\n",
            "[326, 8, 8, 8, 8, 8, 8, 314, 10, 289, 809, 743, 276, 558, 644, 644, 289, 31, 584, 745, 37, 37, 37, 289, 289, 289, 289, 307, 49, 49, 49, 807, 427, 49, 49, 49, 49, 325, 49, 49, 49, 100, 100, 245, 710, 53, 53, 53, 58, 704, 59, 60, 61, 61, 710, 164, 71, 289, 289, 289, 289, 289, 265, 710, 710, 289, 289, 289, 289, 289, 289, 289, 289, 289, 289, 289, 289, 289, 289, 289, 289, 289, 289, 289, 289, 289, 289, 289, 289, 289, 289, 289, 289, 289, 289, 289, 289, 289, 289, 289, 289, 289, 289, 289, 289, 289, 289, 182, 80, 80, 147, 93, 268, 88, 268, 268, 710, 710, 92, 92, 94, 94, 826, 431, 431, 431, 94, 94, 94, 94, 94, 94, 94, 775, 100, 100, 775, 100, 775, 337, 100, 100, 100, 100, 100, 8, 108, 111, 111, 111, 289, 710, 721, 710, 710, 124, 630, 125, 125, 125, 125, 125, 125, 630, 125, 125, 125, 127, 343, 343, 127, 132, 710, 210, 255, 153, 160, 162, 710, 770, 129, 686, 164, 904, 289, 372, 0, 289, 182, 183, 183, 183, 183, 337, 187, 187, 187, 41, 164, 686, 289, 190, 190, 190, 190, 190, 190, 289, 190, 289, 61, 0, 197, 209, 197, 197, 197, 807, 203, 260, 205, 289, 210, 214, 337, 896, 896, 896, 214, 214, 214, 896, 276, 214, 351, 402, 214, 214, 214, 704, 291, 710, 710, 710, 710, 710, 710, 710, 164, 471, 228, 228, 228, 228, 289, 729, 228, 228, 228, 228, 228, 228, 228, 462, 228, 289, 749, 234, 447, 234, 234, 710, 337, 337, 710, 164, 243, 710, 710, 243, 243, 243, 243, 243, 710, 243, 710, 245, 41, 710, 710, 710, 674, 686, 245, 20, 710, 246, 357, 805, 645, 645, 645, 322, 265, 265, 289, 337, 337, 337, 337, 265, 265, 265, 265, 265, 265, 265, 265, 265, 265, 265, 402, 524, 0, 164, 268, 269, 601, 165, 165, 165, 281, 289, 286, 289, 289, 289, 289, 289, 289, 289, 289, 289, 289, 289, 289, 289, 467, 291, 291, 289, 557, 646, 147, 147, 301, 704, 419, 309, 309, 491, 591, 318, 318, 623, 325, 325, 325, 325, 325, 325, 325, 325, 325, 325, 710, 686, 325, 325, 332, 332, 343, 337, 710, 710, 337, 337, 337, 342, 343, 344, 344, 710, 351, 359, 359, 363, 773, 364, 289, 686, 865, 517, 686, 686, 391, 710, 396, 729, 896, 358, 358, 789, 789, 402, 402, 408, 409, 710, 82, 418, 265, 471, 419, 419, 419, 419, 419, 419, 419, 419, 419, 419, 828, 710, 426, 426, 614, 614, 427, 597, 427, 427, 427, 427, 427, 427, 427, 427, 0, 710, 436, 810, 390, 443, 391, 454, 164, 455, 710, 710, 710, 710, 651, 710, 459, 459, 463, 462, 363, 471, 473, 710, 710, 780, 710, 710, 475, 233, 487, 487, 489, 491, 491, 491, 491, 738, 746, 710, 65, 499, 499, 502, 886, 710, 476, 672, 435, 260, 524, 710, 530, 4, 746, 541, 541, 541, 545, 710, 710, 710, 710, 710, 710, 686, 549, 630, 126, 565, 487, 686, 775, 574, 578, 289, 579, 579, 583, 710, 710, 557, 291, 710, 592, 594, 595, 624, 624, 455, 462, 190, 463, 37, 607, 610, 487, 612, 289, 614, 614, 614, 289, 289, 686, 471, 622, 528, 710, 289, 245, 639, 639, 183, 183, 183, 183, 0, 652, 289, 217, 662, 662, 662, 666, 810, 667, 477, 723, 677, 678, 677, 623, 686, 691, 710, 710, 710, 289, 265, 289, 702, 524, 702, 117, 289, 704, 289, 531, 810, 746, 708, 708, 711, 711, 711, 710, 715, 726, 726, 775, 730, 734, 735, 635, 741, 769, 769, 773, 770, 775, 37, 775, 775, 775, 778, 16, 791, 286, 427, 710, 710, 796, 246, 799, 415, 753, 753, 710, 847, 710, 710, 246, 403, 686, 386, 810, 810, 666, 183, 357, 686, 723, 824, 826, 710, 830, 830, 830, 830, 830, 710, 686, 710, 592, 289, 839, 839, 642, 843, 686, 847, 847, 189, 847, 41, 847, 847, 710, 847, 851, 645, 853, 853, 614, 853, 853, 861, 864, 44, 214, 896, 896, 896, 896, 896, 896, 896, 896, 283, 164, 919, 919, 919, 919, 933, 933, 164, 164, 937, 937, 925, 925, 710, 710, 710, 948, 948, 948, 948, 164, 949, 949, 949, 949, 949, 949, 949, 949, 949, 949, 949, 949, 949, 949, 949, 949, 949, 949, 949, 949, 949, 949, 949, 949, 949, 949, 949, 949, 949, 949, 949, 949, 949, 949, 949, 949, 949, 949, 949, 949, 949, 949, 949, 949, 949, 949, 949, 949, 949, 949, 949, 949, 949, 949, 949, 949, 949, 949, 949, 949, 949, 949, 949, 949, 949, 949, 949, 949, 949, 949, 949, 949, 949, 949, 949, 949, 949, 949, 949, 949, 949, 164, 164, 164, 710, 949, 949, 949, 949, 949, 949, 949, 949, 949, 949, 949, 949, 949, 949, 949, 949, 949, 949, 949, 949, 949, 710, 164, 164, 950, 950, 950, 950, 983, 1032, 1032, 1032, 710, 710, 164, 164, 710, 1009, 980, 994, 710, 925, 925, 710, 164, 710, 710, 164, 164, 164, 999, 511, 1026, 710, 710, 1028, 1029, 1009, 1035, 1035]\n",
            "[3, 8, 8, 8, 8, 8, 8, 9, 10, 13, 27, 27, 27, 27, 28, 28, 30, 31, 31, 32, 37, 37, 37, 37, 37, 37, 37, 49, 49, 49, 49, 49, 49, 49, 49, 49, 49, 49, 49, 49, 49, 49, 49, 50, 53, 53, 53, 53, 58, 58, 59, 60, 61, 61, 62, 68, 71, 76, 76, 76, 76, 76, 79, 79, 79, 79, 79, 79, 79, 79, 79, 79, 79, 79, 79, 79, 79, 79, 79, 79, 79, 79, 79, 79, 79, 79, 79, 79, 79, 79, 79, 79, 79, 79, 79, 79, 79, 79, 79, 79, 79, 79, 79, 79, 79, 79, 79, 79, 80, 80, 80, 84, 86, 88, 89, 89, 91, 91, 92, 92, 94, 94, 94, 94, 94, 94, 94, 94, 94, 94, 94, 94, 94, 100, 100, 100, 100, 100, 100, 100, 100, 100, 100, 100, 100, 102, 108, 111, 111, 111, 111, 114, 122, 122, 122, 124, 125, 125, 125, 125, 125, 125, 125, 125, 125, 125, 125, 127, 127, 127, 127, 132, 139, 142, 148, 153, 160, 162, 166, 166, 172, 172, 179, 181, 182, 182, 182, 182, 182, 183, 183, 183, 183, 185, 187, 187, 187, 189, 189, 189, 190, 190, 190, 190, 190, 190, 190, 190, 190, 190, 194, 194, 197, 197, 197, 197, 197, 200, 203, 205, 205, 205, 210, 214, 214, 214, 214, 214, 214, 214, 214, 214, 214, 214, 214, 214, 214, 214, 214, 214, 216, 216, 218, 218, 218, 218, 218, 219, 222, 224, 228, 228, 228, 228, 228, 228, 228, 228, 228, 228, 228, 228, 228, 228, 228, 228, 231, 234, 234, 234, 234, 235, 236, 236, 238, 243, 243, 243, 243, 243, 243, 243, 243, 243, 243, 243, 244, 245, 245, 245, 245, 245, 245, 245, 245, 245, 245, 246, 246, 248, 254, 254, 254, 256, 265, 265, 265, 265, 265, 265, 265, 265, 265, 265, 265, 265, 265, 265, 265, 265, 265, 265, 265, 265, 265, 267, 268, 269, 274, 277, 277, 277, 281, 281, 286, 289, 289, 289, 289, 289, 289, 289, 289, 289, 289, 289, 289, 289, 290, 291, 291, 293, 296, 298, 300, 300, 301, 301, 309, 309, 309, 317, 318, 318, 318, 318, 325, 325, 325, 325, 325, 325, 325, 325, 325, 325, 325, 325, 325, 325, 332, 332, 334, 337, 337, 337, 337, 337, 337, 342, 343, 344, 344, 346, 351, 359, 359, 363, 363, 364, 364, 369, 378, 383, 389, 389, 391, 396, 396, 402, 402, 402, 402, 402, 402, 402, 402, 408, 409, 411, 416, 417, 419, 419, 419, 419, 419, 419, 419, 419, 419, 419, 419, 419, 420, 424, 426, 426, 426, 426, 427, 427, 427, 427, 427, 427, 427, 427, 427, 427, 427, 429, 436, 437, 442, 443, 444, 454, 455, 455, 455, 455, 455, 458, 458, 458, 459, 459, 461, 462, 471, 471, 473, 474, 474, 475, 475, 475, 475, 485, 487, 487, 489, 491, 491, 491, 491, 492, 492, 495, 498, 499, 499, 502, 505, 509, 509, 518, 521, 522, 524, 527, 530, 536, 541, 541, 541, 541, 545, 548, 548, 548, 548, 548, 548, 548, 549, 561, 564, 565, 566, 569, 571, 574, 578, 578, 579, 579, 583, 590, 590, 591, 591, 592, 592, 594, 595, 597, 597, 597, 604, 604, 605, 606, 607, 610, 610, 612, 614, 614, 614, 614, 614, 614, 619, 620, 622, 623, 623, 635, 639, 639, 639, 646, 646, 646, 646, 646, 652, 657, 659, 662, 662, 662, 666, 666, 667, 668, 677, 677, 678, 679, 685, 690, 691, 693, 693, 693, 698, 701, 702, 702, 703, 703, 704, 704, 704, 704, 705, 705, 707, 708, 708, 711, 711, 711, 714, 725, 726, 726, 727, 730, 734, 735, 740, 741, 769, 769, 770, 770, 775, 775, 775, 775, 775, 778, 784, 790, 792, 794, 794, 794, 796, 798, 799, 801, 803, 803, 806, 806, 806, 806, 809, 809, 809, 809, 810, 810, 810, 813, 814, 817, 824, 824, 826, 826, 830, 830, 830, 830, 830, 830, 830, 830, 831, 837, 839, 839, 841, 843, 846, 847, 847, 847, 847, 847, 847, 847, 847, 847, 851, 852, 853, 853, 853, 853, 853, 861, 864, 869, 877, 896, 896, 896, 896, 896, 896, 896, 897, 909, 913, 919, 919, 919, 919, 933, 933, 935, 937, 937, 937, 937, 937, 941, 943, 946, 948, 948, 948, 948, 948, 949, 949, 949, 949, 949, 949, 949, 949, 949, 949, 949, 949, 949, 949, 949, 949, 949, 949, 949, 949, 949, 949, 949, 949, 949, 949, 949, 949, 949, 949, 949, 949, 949, 949, 949, 949, 949, 949, 949, 949, 949, 949, 949, 949, 949, 949, 949, 949, 949, 949, 949, 949, 949, 949, 949, 949, 949, 949, 949, 949, 949, 949, 949, 949, 949, 949, 949, 949, 949, 949, 949, 949, 949, 949, 949, 949, 949, 949, 949, 949, 949, 949, 949, 949, 949, 949, 949, 949, 949, 949, 949, 949, 949, 949, 949, 949, 949, 949, 949, 949, 949, 949, 949, 949, 949, 949, 949, 950, 950, 950, 950, 950, 950, 950, 952, 952, 952, 958, 959, 964, 976, 976, 977, 980, 994, 997, 999, 999, 999, 1001, 1001, 1001, 1012, 1016, 1017, 1019, 1025, 1026, 1026, 1026, 1028, 1029, 1034, 1035, 1035]\n"
          ],
          "name": "stdout"
        }
      ]
    },
    {
      "cell_type": "code",
      "metadata": {
        "id": "XIC4zufnMxtq",
        "colab_type": "code",
        "colab": {
          "base_uri": "https://localhost:8080/",
          "height": 52
        },
        "outputId": "9887b322-a5d5-426c-8112-542f896be7cb"
      },
      "source": [
        "correct_num = 0\n",
        "\n",
        "for i in range(0, 866):\n",
        "  if predict_list[i] == standard_list[i]:\n",
        "    correct_num = correct_num+1\n",
        "  else:\n",
        "    pass\n",
        "print(correct_num)\n",
        "\n",
        "predict_accuracy = correct_num/len(predict_list)\n",
        "print(predict_accuracy)"
      ],
      "execution_count": 81,
      "outputs": [
        {
          "output_type": "stream",
          "text": [
            "452\n",
            "0.5219399538106235\n"
          ],
          "name": "stdout"
        }
      ]
    },
    {
      "cell_type": "code",
      "metadata": {
        "id": "zlKMHp1CIaRJ",
        "colab_type": "code",
        "colab": {}
      },
      "source": [
        ""
      ],
      "execution_count": 0,
      "outputs": []
    }
  ]
}