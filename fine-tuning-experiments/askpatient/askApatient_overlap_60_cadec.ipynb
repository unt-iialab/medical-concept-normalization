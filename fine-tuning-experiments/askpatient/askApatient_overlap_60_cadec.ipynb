{
  "nbformat": 4,
  "nbformat_minor": 0,
  "metadata": {
    "colab": {
      "name": "askApatient_overlap_60_cadec.ipynb",
      "provenance": [],
      "collapsed_sections": [],
      "toc_visible": true,
      "include_colab_link": true
    },
    "kernelspec": {
      "name": "python3",
      "display_name": "Python 3"
    },
    "accelerator": "TPU"
  },
  "cells": [
    {
      "cell_type": "markdown",
      "metadata": {
        "id": "view-in-github",
        "colab_type": "text"
      },
      "source": [
        "<a href=\"https://colab.research.google.com/github/unt-iialab/medical-concept-normalization/blob/master/fine-tuning-experiments/askpatient/askApatient_overlap_60_cadec.ipynb\" target=\"_parent\"><img src=\"https://colab.research.google.com/assets/colab-badge.svg\" alt=\"Open In Colab\"/></a>"
      ]
    },
    {
      "cell_type": "code",
      "metadata": {
        "id": "adSi6i2-dWxy",
        "colab_type": "code",
        "colab": {}
      },
      "source": [
        "import os"
      ],
      "execution_count": 0,
      "outputs": []
    },
    {
      "cell_type": "code",
      "metadata": {
        "id": "E7xYCRGPjd9B",
        "colab_type": "code",
        "colab": {}
      },
      "source": [
        "base_dir = 'medical-concept-normalization'"
      ],
      "execution_count": 0,
      "outputs": []
    },
    {
      "cell_type": "code",
      "metadata": {
        "id": "yvIW3aUDjYNS",
        "colab_type": "code",
        "colab": {}
      },
      "source": [
        "os.mkdir(base_dir)"
      ],
      "execution_count": 0,
      "outputs": []
    },
    {
      "cell_type": "code",
      "metadata": {
        "id": "es-FFLlfk6SG",
        "colab_type": "code",
        "colab": {}
      },
      "source": [
        "os.mkdir('medical-concept-normalization/data_collection')"
      ],
      "execution_count": 0,
      "outputs": []
    },
    {
      "cell_type": "markdown",
      "metadata": {
        "id": "0R-Guw_VoJXm",
        "colab_type": "text"
      },
      "source": [
        "**Install fastai and clone the fastai for text classification**\n",
        "\n"
      ]
    },
    {
      "cell_type": "code",
      "metadata": {
        "id": "QVZa3Z0PmHFH",
        "colab_type": "code",
        "outputId": "dd33008e-325e-4355-d5c0-7525120d96de",
        "colab": {
          "base_uri": "https://localhost:8080/",
          "height": 102
        }
      },
      "source": [
        "!curl https://course-v3.fast.ai/setup/colab | bash"
      ],
      "execution_count": 6,
      "outputs": [
        {
          "output_type": "stream",
          "text": [
            "  % Total    % Received % Xferd  Average Speed   Time    Time     Time  Current\n",
            "                                 Dload  Upload   Total   Spent    Left  Speed\n",
            "100   287  100   287    0     0     50      0  0:00:05  0:00:05 --:--:--    68\n",
            "bash: line 1: syntax error near unexpected token `newline'\n",
            "bash: line 1: `<!DOCTYPE HTML PUBLIC \"-//IETF//DTD HTML 2.0//EN\">'\n"
          ],
          "name": "stdout"
        }
      ]
    },
    {
      "cell_type": "code",
      "metadata": {
        "id": "_FBFFEBrmJC0",
        "colab_type": "code",
        "outputId": "85a50371-3997-48c2-e089-f29785b5b17a",
        "colab": {
          "base_uri": "https://localhost:8080/",
          "height": 85
        }
      },
      "source": [
        "!git clone https://github.com/wshuyi/demo-nlp-classification-fastai.git"
      ],
      "execution_count": 7,
      "outputs": [
        {
          "output_type": "stream",
          "text": [
            "Cloning into 'demo-nlp-classification-fastai'...\n",
            "remote: Enumerating objects: 9, done.\u001b[K\n",
            "remote: Total 9 (delta 0), reused 0 (delta 0), pack-reused 9\u001b[K\n",
            "Unpacking objects: 100% (9/9), done.\n"
          ],
          "name": "stdout"
        }
      ]
    },
    {
      "cell_type": "code",
      "metadata": {
        "id": "66zfh_JqmWMU",
        "colab_type": "code",
        "colab": {}
      },
      "source": [
        "from fastai import *\n",
        "from fastai.text import *"
      ],
      "execution_count": 0,
      "outputs": []
    },
    {
      "cell_type": "markdown",
      "metadata": {
        "id": "mNIw-yALdBU9",
        "colab_type": "text"
      },
      "source": [
        "**Set the path of the data collections**"
      ]
    },
    {
      "cell_type": "code",
      "metadata": {
        "id": "pzH7VMh4mqCL",
        "colab_type": "code",
        "colab": {}
      },
      "source": [
        "path = Path('medical-concept-normalization/data_collection')"
      ],
      "execution_count": 0,
      "outputs": []
    },
    {
      "cell_type": "code",
      "metadata": {
        "id": "b8fjI6yyn4aS",
        "colab_type": "code",
        "colab": {}
      },
      "source": [
        "# training data set\n",
        "\n",
        "train_csv = path/'AskAPatient.fold-0.train.csv'\n",
        "train = pd.read_csv(train_csv, header=None)\n",
        "#train.head()\n",
        "#train.info()"
      ],
      "execution_count": 0,
      "outputs": []
    },
    {
      "cell_type": "code",
      "metadata": {
        "id": "Hmlr-bAorfHd",
        "colab_type": "code",
        "outputId": "3295241f-842f-428a-a3f7-0347a50f4b98",
        "colab": {
          "base_uri": "https://localhost:8080/",
          "height": 204
        }
      },
      "source": [
        "# validating data set\n",
        "\n",
        "valid = pd.read_csv(path/\"AskAPatient.fold-0.validation.csv\",header=None)\n",
        "valid.head()"
      ],
      "execution_count": 13,
      "outputs": [
        {
          "output_type": "execute_result",
          "data": {
            "text/html": [
              "<div>\n",
              "<style scoped>\n",
              "    .dataframe tbody tr th:only-of-type {\n",
              "        vertical-align: middle;\n",
              "    }\n",
              "\n",
              "    .dataframe tbody tr th {\n",
              "        vertical-align: top;\n",
              "    }\n",
              "\n",
              "    .dataframe thead th {\n",
              "        text-align: right;\n",
              "    }\n",
              "</style>\n",
              "<table border=\"1\" class=\"dataframe\">\n",
              "  <thead>\n",
              "    <tr style=\"text-align: right;\">\n",
              "      <th></th>\n",
              "      <th>0</th>\n",
              "      <th>1</th>\n",
              "    </tr>\n",
              "  </thead>\n",
              "  <tbody>\n",
              "    <tr>\n",
              "      <th>0</th>\n",
              "      <td>0</td>\n",
              "      <td>fear</td>\n",
              "    </tr>\n",
              "    <tr>\n",
              "      <th>1</th>\n",
              "      <td>2</td>\n",
              "      <td>heel pain</td>\n",
              "    </tr>\n",
              "    <tr>\n",
              "      <th>2</th>\n",
              "      <td>4</td>\n",
              "      <td>purple sploches around waist</td>\n",
              "    </tr>\n",
              "    <tr>\n",
              "      <th>3</th>\n",
              "      <td>7</td>\n",
              "      <td>goiter</td>\n",
              "    </tr>\n",
              "    <tr>\n",
              "      <th>4</th>\n",
              "      <td>8</td>\n",
              "      <td>ARTHRITIS</td>\n",
              "    </tr>\n",
              "  </tbody>\n",
              "</table>\n",
              "</div>"
            ],
            "text/plain": [
              "   0                             1\n",
              "0  0                          fear\n",
              "1  2                     heel pain\n",
              "2  4  purple sploches around waist\n",
              "3  7                        goiter\n",
              "4  8                     ARTHRITIS"
            ]
          },
          "metadata": {
            "tags": []
          },
          "execution_count": 13
        }
      ]
    },
    {
      "cell_type": "code",
      "metadata": {
        "id": "cOza9dfSsBud",
        "colab_type": "code",
        "outputId": "8b75b950-b9a1-4a9f-fe97-96bbf9a45073",
        "colab": {
          "base_uri": "https://localhost:8080/",
          "height": 204
        }
      },
      "source": [
        "# testing data set\n",
        "\n",
        "test = pd.read_csv(path/\"AskAPatient_overlap_60.csv\",header=None)\n",
        "test.head()"
      ],
      "execution_count": 14,
      "outputs": [
        {
          "output_type": "execute_result",
          "data": {
            "text/html": [
              "<div>\n",
              "<style scoped>\n",
              "    .dataframe tbody tr th:only-of-type {\n",
              "        vertical-align: middle;\n",
              "    }\n",
              "\n",
              "    .dataframe tbody tr th {\n",
              "        vertical-align: top;\n",
              "    }\n",
              "\n",
              "    .dataframe thead th {\n",
              "        text-align: right;\n",
              "    }\n",
              "</style>\n",
              "<table border=\"1\" class=\"dataframe\">\n",
              "  <thead>\n",
              "    <tr style=\"text-align: right;\">\n",
              "      <th></th>\n",
              "      <th>0</th>\n",
              "      <th>1</th>\n",
              "    </tr>\n",
              "  </thead>\n",
              "  <tbody>\n",
              "    <tr>\n",
              "      <th>0</th>\n",
              "      <td>0</td>\n",
              "      <td>'scared' feeling</td>\n",
              "    </tr>\n",
              "    <tr>\n",
              "      <th>1</th>\n",
              "      <td>2</td>\n",
              "      <td>heel pain</td>\n",
              "    </tr>\n",
              "    <tr>\n",
              "      <th>2</th>\n",
              "      <td>2</td>\n",
              "      <td>heel pain</td>\n",
              "    </tr>\n",
              "    <tr>\n",
              "      <th>3</th>\n",
              "      <td>3</td>\n",
              "      <td>cracking sensations in my joints</td>\n",
              "    </tr>\n",
              "    <tr>\n",
              "      <th>4</th>\n",
              "      <td>4</td>\n",
              "      <td>purple sploches around waist</td>\n",
              "    </tr>\n",
              "  </tbody>\n",
              "</table>\n",
              "</div>"
            ],
            "text/plain": [
              "   0                                 1\n",
              "0  0                  'scared' feeling\n",
              "1  2                         heel pain\n",
              "2  2                         heel pain\n",
              "3  3  cracking sensations in my joints\n",
              "4  4      purple sploches around waist"
            ]
          },
          "metadata": {
            "tags": []
          },
          "execution_count": 14
        }
      ]
    },
    {
      "cell_type": "code",
      "metadata": {
        "id": "Vo-YNvVYoaH6",
        "colab_type": "code",
        "colab": {}
      },
      "source": [
        "# Creating DataBunch for language modelling\n",
        "\n",
        "data_lm = TextLMDataBunch.from_csv(path, 'fine_tuning_language_model_cadec_data.csv')"
      ],
      "execution_count": 0,
      "outputs": []
    },
    {
      "cell_type": "code",
      "metadata": {
        "id": "1ScY9afDsnvE",
        "colab_type": "code",
        "colab": {}
      },
      "source": [
        "# Creating DataBunch for classification\n",
        "\n",
        "# data_clas = TextClasDataBunch.from_df(path, train, valid, test, vocab=data_lm.train_ds.vocab, bs=128)"
      ],
      "execution_count": 0,
      "outputs": []
    },
    {
      "cell_type": "code",
      "metadata": {
        "id": "gzrSdQcvey9p",
        "colab_type": "code",
        "colab": {}
      },
      "source": [
        "data_clas = TextClasDataBunch.from_df(path, train, valid, vocab=data_lm.train_ds.vocab, bs=128)"
      ],
      "execution_count": 0,
      "outputs": []
    },
    {
      "cell_type": "code",
      "metadata": {
        "id": "MD27Tf0Ke3ou",
        "colab_type": "code",
        "colab": {}
      },
      "source": [
        "data_clas.add_test(test,label=0)\n"
      ],
      "execution_count": 0,
      "outputs": []
    },
    {
      "cell_type": "code",
      "metadata": {
        "id": "-dpjnk_rstwk",
        "colab_type": "code",
        "outputId": "821d0134-972b-4895-ce68-357a06d3b1e4",
        "colab": {
          "base_uri": "https://localhost:8080/",
          "height": 71
        }
      },
      "source": [
        "data_lm.save()\n",
        "data_clas.save()"
      ],
      "execution_count": 19,
      "outputs": [
        {
          "output_type": "stream",
          "text": [
            "/usr/local/lib/python3.6/dist-packages/torch/serialization.py:292: UserWarning: Couldn't retrieve source code for container of type CrossEntropyLoss. It won't be checked for correctness upon loading.\n",
            "  \"type \" + obj.__name__ + \". It won't be checked \"\n"
          ],
          "name": "stderr"
        }
      ]
    },
    {
      "cell_type": "code",
      "metadata": {
        "id": "4OkiJa36sw5s",
        "colab_type": "code",
        "colab": {
          "base_uri": "https://localhost:8080/",
          "height": 1000
        },
        "outputId": "fb5919b8-dd77-49fd-a08b-fb3c2fefe3eb"
      },
      "source": [
        "data_lm.train_ds.vocab.itos"
      ],
      "execution_count": 20,
      "outputs": [
        {
          "output_type": "execute_result",
          "data": {
            "text/plain": [
              "['xxunk',\n",
              " 'xxpad',\n",
              " 'xxbos',\n",
              " 'xxeos',\n",
              " 'xxfld',\n",
              " 'xxmaj',\n",
              " 'xxup',\n",
              " 'xxrep',\n",
              " 'xxwrep',\n",
              " '.',\n",
              " ',',\n",
              " 'i',\n",
              " 'and',\n",
              " 'the',\n",
              " 'to',\n",
              " 'my',\n",
              " 'a',\n",
              " 'of',\n",
              " 'it',\n",
              " 'in',\n",
              " 'pain',\n",
              " 'for',\n",
              " 'have',\n",
              " 'was',\n",
              " 'lipitor',\n",
              " 'this',\n",
              " 'on',\n",
              " 'that',\n",
              " 'not',\n",
              " 'is',\n",
              " 'but',\n",
              " 'with',\n",
              " 'taking',\n",
              " 'had',\n",
              " 'after',\n",
              " '-',\n",
              " 'me',\n",
              " 'drug',\n",
              " 'muscle',\n",
              " 'side',\n",
              " 'am',\n",
              " \"n't\",\n",
              " 'all',\n",
              " 'effects',\n",
              " 'cholesterol',\n",
              " ')',\n",
              " '(',\n",
              " 'been',\n",
              " 'so',\n",
              " 'back',\n",
              " 'be',\n",
              " 'as',\n",
              " '/',\n",
              " 'from',\n",
              " 'mg',\n",
              " 'take',\n",
              " 'at',\n",
              " 'years',\n",
              " 'about',\n",
              " 'no',\n",
              " 'off',\n",
              " 'now',\n",
              " 'will',\n",
              " 'has',\n",
              " 'day',\n",
              " 'did',\n",
              " '!',\n",
              " 'do',\n",
              " 'doctor',\n",
              " 'like',\n",
              " 'up',\n",
              " 'very',\n",
              " 'months',\n",
              " 'or',\n",
              " 'started',\n",
              " 'are',\n",
              " 'if',\n",
              " 'severe',\n",
              " 'could',\n",
              " 'stopped',\n",
              " 'days',\n",
              " 'when',\n",
              " 'symptoms',\n",
              " '3',\n",
              " '2',\n",
              " 'would',\n",
              " 'time',\n",
              " 'just',\n",
              " 'took',\n",
              " 'can',\n",
              " 'some',\n",
              " 'also',\n",
              " 'problems',\n",
              " 'over',\n",
              " 'weeks',\n",
              " 'loss',\n",
              " 'then',\n",
              " 'legs',\n",
              " 'went',\n",
              " 'more',\n",
              " 'by',\n",
              " 'an',\n",
              " 'one',\n",
              " 'out',\n",
              " 'still',\n",
              " 'he',\n",
              " 'get',\n",
              " 'you',\n",
              " 'any',\n",
              " 'cramps',\n",
              " 'leg',\n",
              " 'lower',\n",
              " 'only',\n",
              " \"'s\",\n",
              " 'feel',\n",
              " 'ago',\n",
              " 'bad',\n",
              " 'again',\n",
              " 'never',\n",
              " '10',\n",
              " 'other',\n",
              " 'which',\n",
              " 'they',\n",
              " 'week',\n",
              " 'felt',\n",
              " 'because',\n",
              " 'before',\n",
              " 'stomach',\n",
              " \"'m\",\n",
              " 'medication',\n",
              " 'down',\n",
              " 'feeling',\n",
              " 'walk',\n",
              " 'blood',\n",
              " 'two',\n",
              " 'go',\n",
              " 'better',\n",
              " 'were',\n",
              " 'fatigue',\n",
              " '1',\n",
              " 'left',\n",
              " 'feet',\n",
              " 'high',\n",
              " 'memory',\n",
              " 'first',\n",
              " '&',\n",
              " 'what',\n",
              " '5',\n",
              " 'much',\n",
              " 'since',\n",
              " 'life',\n",
              " 'extreme',\n",
              " \"'ve\",\n",
              " 'night',\n",
              " 'than',\n",
              " 'pains',\n",
              " 'joint',\n",
              " 'even',\n",
              " '?',\n",
              " 'these',\n",
              " 'having',\n",
              " 'heart',\n",
              " 'weakness',\n",
              " 'statin',\n",
              " 'muscles',\n",
              " 'going',\n",
              " '20',\n",
              " 'told',\n",
              " 'should',\n",
              " 'there',\n",
              " '4',\n",
              " 'dr',\n",
              " 'stop',\n",
              " 'see',\n",
              " 'right',\n",
              " 'statins',\n",
              " 'well',\n",
              " ';',\n",
              " 'taken',\n",
              " 'experienced',\n",
              " 'sleep',\n",
              " 'month',\n",
              " 'body',\n",
              " 'know',\n",
              " 'depression',\n",
              " 'within',\n",
              " 'year',\n",
              " 'work',\n",
              " 'neck',\n",
              " 'away',\n",
              " 'thought',\n",
              " 'good',\n",
              " 'dose',\n",
              " 'last',\n",
              " '6',\n",
              " 'who',\n",
              " 'shoulder',\n",
              " 'your',\n",
              " '40',\n",
              " 'due',\n",
              " 'think',\n",
              " 'few',\n",
              " 'drugs',\n",
              " 'worse',\n",
              " 'aches',\n",
              " 'almost',\n",
              " 'normal',\n",
              " 'arms',\n",
              " 'same',\n",
              " 'getting',\n",
              " 'hands',\n",
              " 'said',\n",
              " 'many',\n",
              " 'got',\n",
              " 'people',\n",
              " ':',\n",
              " 'knee',\n",
              " 'both',\n",
              " 'long',\n",
              " 'being',\n",
              " 'another',\n",
              " 'without',\n",
              " 'levels',\n",
              " 'every',\n",
              " 'until',\n",
              " 'cramping',\n",
              " 'liver',\n",
              " 'put',\n",
              " 'ldl',\n",
              " 'increased',\n",
              " 'does',\n",
              " 'arm',\n",
              " 'problem',\n",
              " 'stopping',\n",
              " 'cause',\n",
              " 'while',\n",
              " 'try',\n",
              " 'too',\n",
              " 'times',\n",
              " 'developed',\n",
              " 'gas',\n",
              " 'damage',\n",
              " 'noticed',\n",
              " 'really',\n",
              " 'how',\n",
              " 'hip',\n",
              " 'prescribed',\n",
              " 'bleeding',\n",
              " 'began',\n",
              " 'reading',\n",
              " 'old',\n",
              " 'test',\n",
              " 'however',\n",
              " 'ca',\n",
              " 'shoulders',\n",
              " 'site',\n",
              " 'diet',\n",
              " 'found',\n",
              " 'pill',\n",
              " 'gone',\n",
              " 'foot',\n",
              " 'caused',\n",
              " 'several',\n",
              " 'doctors',\n",
              " 'headaches',\n",
              " 'exercise',\n",
              " 'short',\n",
              " 'lowered',\n",
              " 'experiencing',\n",
              " 'morning',\n",
              " 'most',\n",
              " 'chest',\n",
              " 'great',\n",
              " 'use',\n",
              " 'tingling',\n",
              " 'term',\n",
              " 'find',\n",
              " 'she',\n",
              " 'hours',\n",
              " 'arthrotec',\n",
              " 'may',\n",
              " 'hurt',\n",
              " 'sore',\n",
              " 'effect',\n",
              " 'we',\n",
              " 'immediately',\n",
              " 'lot',\n",
              " 'joints',\n",
              " 'tired',\n",
              " 'level',\n",
              " 'way',\n",
              " 'tried',\n",
              " 'terrible',\n",
              " 'vision',\n",
              " 'help',\n",
              " 'bed',\n",
              " 'made',\n",
              " 'medicine',\n",
              " '%',\n",
              " 'three',\n",
              " 'walking',\n",
              " 'though',\n",
              " 'arthritis',\n",
              " 'hair',\n",
              " 'anything',\n",
              " 'little',\n",
              " 'recently',\n",
              " '8',\n",
              " 'sure',\n",
              " 'quit',\n",
              " 'need',\n",
              " 'once',\n",
              " 'ever',\n",
              " 'especially',\n",
              " 'something',\n",
              " \"'\",\n",
              " 'make',\n",
              " 'next',\n",
              " 'done',\n",
              " 'hdl',\n",
              " 'nausea',\n",
              " 'recommend',\n",
              " 'came',\n",
              " 'abdominal',\n",
              " 'finally',\n",
              " 'knees',\n",
              " 'always',\n",
              " 'myself',\n",
              " 'painful',\n",
              " 'tests',\n",
              " 'during',\n",
              " 'seems',\n",
              " 'relief',\n",
              " '7',\n",
              " 'starting',\n",
              " 'low',\n",
              " 'anyone',\n",
              " 'believe',\n",
              " 'read',\n",
              " 'them',\n",
              " 'around',\n",
              " 'works',\n",
              " 'worth',\n",
              " '--',\n",
              " 'half',\n",
              " 'horrible',\n",
              " 'later',\n",
              " 'weak',\n",
              " 'constant',\n",
              " 'total',\n",
              " 'skin',\n",
              " 'things',\n",
              " 'attack',\n",
              " 'daily',\n",
              " 'none',\n",
              " 'hope',\n",
              " 'results',\n",
              " 'reduced',\n",
              " 'stiffness',\n",
              " 'experience',\n",
              " 'weight',\n",
              " 'nothing',\n",
              " 'insomnia',\n",
              " 'into',\n",
              " 'diarrhea',\n",
              " '80',\n",
              " 'dosage',\n",
              " 'extremely',\n",
              " 'far',\n",
              " 'causing',\n",
              " 'calf',\n",
              " 'decided',\n",
              " 'his',\n",
              " 'upper',\n",
              " 'zocor',\n",
              " 'doing',\n",
              " 'lack',\n",
              " 'head',\n",
              " 'him',\n",
              " 'unable',\n",
              " 'improvement',\n",
              " '\"',\n",
              " 'age',\n",
              " 'lowering',\n",
              " 'its',\n",
              " 'related',\n",
              " 'etc',\n",
              " 'why',\n",
              " 'pressure',\n",
              " 'surgery',\n",
              " 'elevated',\n",
              " 'general',\n",
              " 'hips',\n",
              " 'enough',\n",
              " 'their',\n",
              " 'similar',\n",
              " 'nt',\n",
              " 'say',\n",
              " 'possible',\n",
              " 'less',\n",
              " 'headache',\n",
              " 'new',\n",
              " 'energy',\n",
              " 'website',\n",
              " 'such',\n",
              " 'became',\n",
              " 'family',\n",
              " 'toes',\n",
              " 'minutes',\n",
              " 'using',\n",
              " 'period',\n",
              " 'others',\n",
              " 'pills',\n",
              " 'burning',\n",
              " 'those',\n",
              " '30',\n",
              " 'flu',\n",
              " 'ankles',\n",
              " 'where',\n",
              " 'per',\n",
              " 'today',\n",
              " 'worked',\n",
              " 'dizziness',\n",
              " 'instead',\n",
              " 'trying',\n",
              " 'swelling',\n",
              " 'lost',\n",
              " 'meds',\n",
              " 'vaginal',\n",
              " 'stuff',\n",
              " 'numbness',\n",
              " 'each',\n",
              " 'hand',\n",
              " 'might',\n",
              " 'physical',\n",
              " 'keep',\n",
              " 'dry',\n",
              " 'helped',\n",
              " 'spasms',\n",
              " 'balance',\n",
              " \"'ll\",\n",
              " 'tiredness',\n",
              " 'diagnosed',\n",
              " 'permanent',\n",
              " 'come',\n",
              " 'doc',\n",
              " 'point',\n",
              " 'twice',\n",
              " 'want',\n",
              " 'hard',\n",
              " 'brain',\n",
              " 'calves',\n",
              " 'her',\n",
              " 'completely',\n",
              " 'difficulty',\n",
              " 'probably',\n",
              " 'anxiety',\n",
              " 'else',\n",
              " 'switched',\n",
              " 'suffered',\n",
              " 'dangerous',\n",
              " 'thigh',\n",
              " 'job',\n",
              " 'health',\n",
              " 'research',\n",
              " 'patients',\n",
              " 'although',\n",
              " 'rather',\n",
              " 'live',\n",
              " 'med',\n",
              " 'used',\n",
              " 'able',\n",
              " 'fine',\n",
              " 'thinking',\n",
              " 'sleeping',\n",
              " 'four',\n",
              " 'natural',\n",
              " '15',\n",
              " 'continue',\n",
              " 'quality',\n",
              " 'longer',\n",
              " 'start',\n",
              " 'active',\n",
              " 'second',\n",
              " 'triglycerides',\n",
              " 'intense',\n",
              " 'here',\n",
              " 'past',\n",
              " 'healthy',\n",
              " 'strength',\n",
              " 'control',\n",
              " 'thing',\n",
              " 'through',\n",
              " 'increase',\n",
              " 'couple',\n",
              " 'dropped',\n",
              " 'food',\n",
              " 'constipation',\n",
              " 'called',\n",
              " '50',\n",
              " 'cut',\n",
              " 'seem',\n",
              " '100',\n",
              " 'web',\n",
              " 'change',\n",
              " 'fingers',\n",
              " 'worst',\n",
              " 'effective',\n",
              " 'concerned',\n",
              " 'face',\n",
              " 'gradually',\n",
              " 'changed',\n",
              " 'red',\n",
              " 'mild',\n",
              " 'eat',\n",
              " 'function',\n",
              " 'bloating',\n",
              " 'reaction',\n",
              " 'yrs',\n",
              " 'disease',\n",
              " 'hospital',\n",
              " 'ankle',\n",
              " 'everything',\n",
              " 'market',\n",
              " 'soreness',\n",
              " 'thank',\n",
              " 'big',\n",
              " 'voltaren',\n",
              " 'type',\n",
              " 'maybe',\n",
              " 'yet',\n",
              " 'eye',\n",
              " 'medical',\n",
              " 'numbers',\n",
              " 'different',\n",
              " 'risk',\n",
              " 'aware',\n",
              " 'goes',\n",
              " 'heavy',\n",
              " 'continued',\n",
              " 'seemed',\n",
              " 'please',\n",
              " 'decreased',\n",
              " 'serious',\n",
              " 'reduce',\n",
              " 'slowly',\n",
              " 'md',\n",
              " 'husband',\n",
              " 'hardly',\n",
              " 'cold',\n",
              " 'stand',\n",
              " 'given',\n",
              " 'overall',\n",
              " 'hour',\n",
              " 'major',\n",
              " 'connection',\n",
              " '9',\n",
              " 'physician',\n",
              " 'discomfort',\n",
              " 'returned',\n",
              " 'wo',\n",
              " 'suggested',\n",
              " 'slight',\n",
              " 'tell',\n",
              " 'along',\n",
              " '60',\n",
              " 'wonder',\n",
              " 'showed',\n",
              " 'vertigo',\n",
              " 'stay',\n",
              " 'look',\n",
              " 'wrong',\n",
              " 'eating',\n",
              " 'kept',\n",
              " 'totally',\n",
              " 'nearly',\n",
              " 'ok',\n",
              " 'stairs',\n",
              " 'upset',\n",
              " 'improved',\n",
              " 'reason',\n",
              " 'affects',\n",
              " 'feels',\n",
              " 'throat',\n",
              " 'kidney',\n",
              " 'aching',\n",
              " 'crestor',\n",
              " 'pfizer',\n",
              " 'breath',\n",
              " 'cardiologist',\n",
              " 'drive',\n",
              " 'mental',\n",
              " 'thighs',\n",
              " 'gave',\n",
              " 'give',\n",
              " 'trouble',\n",
              " 'sick',\n",
              " 'including',\n",
              " 'therapy',\n",
              " 'issues',\n",
              " 'improve',\n",
              " 'soon',\n",
              " 'wake',\n",
              " 'wanted',\n",
              " 'medications',\n",
              " 'eyes',\n",
              " 'quite',\n",
              " 'check',\n",
              " 'sitting',\n",
              " '90',\n",
              " 'twitching',\n",
              " 'cholestrol',\n",
              " 'mentioned',\n",
              " 'sudden',\n",
              " 'coq10',\n",
              " 'saw',\n",
              " 'under',\n",
              " 'history',\n",
              " 'depressed',\n",
              " 'stiff',\n",
              " 'hot',\n",
              " 'ended',\n",
              " 'run',\n",
              " 'ache',\n",
              " '75',\n",
              " 'chronic',\n",
              " 'working',\n",
              " 'area',\n",
              " 'poison',\n",
              " 'rash',\n",
              " 'increasing',\n",
              " 'older',\n",
              " 'pretty',\n",
              " 'above',\n",
              " 'us',\n",
              " 'asked',\n",
              " 'mood',\n",
              " 'heel',\n",
              " 'excellent',\n",
              " 'self',\n",
              " 'looking',\n",
              " 'running',\n",
              " '25',\n",
              " 'neuropathy',\n",
              " 'own',\n",
              " 'swollen',\n",
              " 'm',\n",
              " '300',\n",
              " 'six',\n",
              " 'significant',\n",
              " 'usually',\n",
              " 'helps',\n",
              " 'x',\n",
              " 'full',\n",
              " 'comments',\n",
              " 'mri',\n",
              " 'alternative',\n",
              " 'light',\n",
              " 'tightness',\n",
              " 'mostly',\n",
              " 'sense',\n",
              " 'internet',\n",
              " 'company',\n",
              " 'between',\n",
              " 'fog',\n",
              " 'awful',\n",
              " 'number',\n",
              " 'prescription',\n",
              " 'vitamin',\n",
              " 'numb',\n",
              " 'gain',\n",
              " 'suffering',\n",
              " 'amount',\n",
              " 'subsided',\n",
              " 'gp',\n",
              " 'elbow',\n",
              " 'concentration',\n",
              " 'cycle',\n",
              " 'deal',\n",
              " 'mouth',\n",
              " '200',\n",
              " 'c',\n",
              " 'suddenly',\n",
              " 'bit',\n",
              " 'sometimes',\n",
              " 'pravachol',\n",
              " 'rest',\n",
              " 'count',\n",
              " 'ability',\n",
              " '45',\n",
              " 'attributed',\n",
              " 'cpk',\n",
              " 'person',\n",
              " 'beginning',\n",
              " 'reactions',\n",
              " 'anti',\n",
              " 'ratio',\n",
              " '12',\n",
              " 'lbs',\n",
              " 'anymore',\n",
              " 'mine',\n",
              " 'following',\n",
              " 'free',\n",
              " 'blurred',\n",
              " 'often',\n",
              " 'elbows',\n",
              " 'somewhat',\n",
              " 'urine',\n",
              " 'fatigued',\n",
              " 'nerve',\n",
              " 'across',\n",
              " 'lift',\n",
              " 'brought',\n",
              " 'liptor',\n",
              " 'changes',\n",
              " 'disappeared',\n",
              " 'menstrual',\n",
              " 'adverse',\n",
              " 'doses',\n",
              " 'end',\n",
              " 'small',\n",
              " 'greatly',\n",
              " 'spent',\n",
              " 'dizzy',\n",
              " 'frequent',\n",
              " 'consider',\n",
              " 'empty',\n",
              " '11',\n",
              " 'shortness',\n",
              " 'everyone',\n",
              " 'rarely',\n",
              " 'hoping',\n",
              " 'toe',\n",
              " 'recommended',\n",
              " 'acid',\n",
              " '160',\n",
              " 'early',\n",
              " 'prior',\n",
              " 'causes',\n",
              " 'falling',\n",
              " 'class',\n",
              " 'sex',\n",
              " 'best',\n",
              " 'actually',\n",
              " 'negative',\n",
              " 'already',\n",
              " 'difference',\n",
              " 'care',\n",
              " 'death',\n",
              " 'scary',\n",
              " 'idea',\n",
              " 'afraid',\n",
              " 'condition',\n",
              " 'making',\n",
              " 'inability',\n",
              " 'sensation',\n",
              " 'water',\n",
              " 'barely',\n",
              " 'become',\n",
              " 'likely',\n",
              " 'followed',\n",
              " 'die',\n",
              " 'insurance',\n",
              " 'post',\n",
              " 'sweating',\n",
              " '24',\n",
              " 'tendon',\n",
              " 'sent',\n",
              " 'higher',\n",
              " 'case',\n",
              " 'reduction',\n",
              " 'stress',\n",
              " 'bp',\n",
              " 'difficult',\n",
              " 'range',\n",
              " 'guess',\n",
              " 'makes',\n",
              " 'parkinson',\n",
              " 'cancer',\n",
              " 'patient',\n",
              " 'says',\n",
              " 'tendonitis',\n",
              " 'entire',\n",
              " 'happens',\n",
              " 'listed',\n",
              " 'whole',\n",
              " 'glad',\n",
              " 'upon',\n",
              " 'happy',\n",
              " 'niacin',\n",
              " 'decrease',\n",
              " 'unless',\n",
              " 'exhaustion',\n",
              " 'otherwise',\n",
              " 'stroke',\n",
              " 'sugar',\n",
              " 'return',\n",
              " 'lasted',\n",
              " 'swallowing',\n",
              " 'against',\n",
              " 'rays',\n",
              " 'excruciating',\n",
              " 'wife',\n",
              " 'periods',\n",
              " 'system',\n",
              " 'information',\n",
              " 'neurologist',\n",
              " 'complaints',\n",
              " 'lots',\n",
              " 'god',\n",
              " 'result',\n",
              " 'w',\n",
              " 'improving',\n",
              " 'thanks',\n",
              " 'zetia',\n",
              " 'slightly',\n",
              " \"'d\",\n",
              " 'checked',\n",
              " 'cholesteral',\n",
              " 'yr',\n",
              " 'speech',\n",
              " 'swings',\n",
              " 'onset',\n",
              " 'reflux',\n",
              " 'realized',\n",
              " 'perfect',\n",
              " 'seen',\n",
              " 'remember',\n",
              " 'taste',\n",
              " 'room',\n",
              " 'waking',\n",
              " 'either',\n",
              " 'diabetes',\n",
              " 'foggy',\n",
              " 'below',\n",
              " 'attacks',\n",
              " 'occasional',\n",
              " 'waiting',\n",
              " 'move',\n",
              " 'least',\n",
              " 'plus',\n",
              " 'wish',\n",
              " 'cough',\n",
              " 'alot',\n",
              " 'strange',\n",
              " 'mother',\n",
              " 'chair',\n",
              " 'visit',\n",
              " 'malaise',\n",
              " 'constantly',\n",
              " 'discovered',\n",
              " 'rate',\n",
              " 'breathing',\n",
              " 'deep',\n",
              " 'part',\n",
              " 'fibromyalgia',\n",
              " 'initially',\n",
              " 'immediate',\n",
              " 'must',\n",
              " 'vomiting',\n",
              " 'women',\n",
              " '48',\n",
              " 'recover',\n",
              " 'safe',\n",
              " 'chances',\n",
              " 'muscular',\n",
              " 'hell',\n",
              " 'syndrome',\n",
              " 'affected',\n",
              " 'steps',\n",
              " 'sinus',\n",
              " 'except',\n",
              " 'agreed',\n",
              " 'let',\n",
              " 'miles',\n",
              " 'comes',\n",
              " 'achilles',\n",
              " 'bring',\n",
              " 'hit',\n",
              " 'q10',\n",
              " 'suffer',\n",
              " '+',\n",
              " 'ran',\n",
              " 'appetite',\n",
              " 'possibly',\n",
              " 'cleared',\n",
              " 'treatment',\n",
              " 'known',\n",
              " 'definitely',\n",
              " 'particularly',\n",
              " 'discontinued',\n",
              " 'infections',\n",
              " 'dramatically',\n",
              " 'tablet',\n",
              " 'fish',\n",
              " 'primary',\n",
              " 'companies',\n",
              " 'abdomen',\n",
              " 'gym',\n",
              " 'tested',\n",
              " 'previously',\n",
              " '70',\n",
              " 'convinced',\n",
              " 'passed',\n",
              " 's',\n",
              " 'acute',\n",
              " 'together',\n",
              " 'answer',\n",
              " 'happened',\n",
              " 'seeing',\n",
              " 'unbearable',\n",
              " 'advise',\n",
              " 'present',\n",
              " 'male',\n",
              " 'http',\n",
              " 'pounds',\n",
              " 'poor',\n",
              " 'whether',\n",
              " 'bone',\n",
              " 'culprit',\n",
              " 'enzymes',\n",
              " 'woke',\n",
              " '220',\n",
              " 'benefits',\n",
              " 'infection',\n",
              " 'sensations',\n",
              " 'ached',\n",
              " 'replacement',\n",
              " 'e',\n",
              " 'excercise',\n",
              " 'walked',\n",
              " 'important',\n",
              " 'easily',\n",
              " 'state',\n",
              " 'sever',\n",
              " 'lupus',\n",
              " 'looked',\n",
              " 'study',\n",
              " 'celebrex',\n",
              " 'added',\n",
              " 'advice',\n",
              " 'relieve',\n",
              " 'wonders',\n",
              " 'sight',\n",
              " 'knew',\n",
              " 'heard',\n",
              " 'evening',\n",
              " 'ms',\n",
              " 'ruined',\n",
              " 'oil',\n",
              " 'menopausal',\n",
              " 'real',\n",
              " 'symptons',\n",
              " 'top',\n",
              " 'inflammation',\n",
              " 'fit',\n",
              " 'supplements',\n",
              " 'wrist',\n",
              " 'er',\n",
              " 'touch',\n",
              " 'confusion',\n",
              " 'dark',\n",
              " 'weird',\n",
              " 'suicide',\n",
              " 'gout',\n",
              " '18',\n",
              " 'simply',\n",
              " 'specialist',\n",
              " 'till',\n",
              " 'co',\n",
              " 'fever',\n",
              " 'significantly',\n",
              " 'fast',\n",
              " 'notice',\n",
              " 'itching',\n",
              " 'ask',\n",
              " 'tight',\n",
              " 'therefore',\n",
              " 'menopause',\n",
              " 'normally',\n",
              " 'third',\n",
              " 'loose',\n",
              " 'fat',\n",
              " 'genetic',\n",
              " 'sit',\n",
              " 'bowel',\n",
              " 'strong',\n",
              " 'sides',\n",
              " 'coming',\n",
              " 'huge',\n",
              " '[',\n",
              " 'discontinue',\n",
              " 'near',\n",
              " 'suspected',\n",
              " 'switching',\n",
              " 'complained',\n",
              " 'persisted',\n",
              " 'currently',\n",
              " 'name',\n",
              " 'supposed',\n",
              " ...]"
            ]
          },
          "metadata": {
            "tags": []
          },
          "execution_count": 20
        }
      ]
    },
    {
      "cell_type": "code",
      "metadata": {
        "id": "yPWr03mls3VT",
        "colab_type": "code",
        "colab": {}
      },
      "source": [
        "model_path = path/'models'\n",
        "model_path.mkdir(exist_ok=True)\n",
        "url = 'http://files.fast.ai/models/wt103_v1/'\n",
        "download_url(f'{url}lstm_wt103.pth', model_path/'lstm_wt103.pth')\n",
        "download_url(f'{url}itos_wt103.pkl', model_path/'itos_wt103.pkl')"
      ],
      "execution_count": 0,
      "outputs": []
    },
    {
      "cell_type": "code",
      "metadata": {
        "id": "JRzvWg8RtGGr",
        "colab_type": "code",
        "colab": {}
      },
      "source": [
        "learn = language_model_learner(data_lm, AWD_LSTM, drop_mult=0.5)"
      ],
      "execution_count": 0,
      "outputs": []
    },
    {
      "cell_type": "code",
      "metadata": {
        "id": "xKK7GeBev7Xn",
        "colab_type": "code",
        "outputId": "52a62eb3-7af8-4b9f-eee4-ed644be3c1a2",
        "colab": {
          "base_uri": "https://localhost:8080/",
          "height": 80
        }
      },
      "source": [
        "learn.fit_one_cycle(1, 1e-2)"
      ],
      "execution_count": 23,
      "outputs": [
        {
          "output_type": "display_data",
          "data": {
            "text/html": [
              "<table border=\"1\" class=\"dataframe\">\n",
              "  <thead>\n",
              "    <tr style=\"text-align: left;\">\n",
              "      <th>epoch</th>\n",
              "      <th>train_loss</th>\n",
              "      <th>valid_loss</th>\n",
              "      <th>accuracy</th>\n",
              "      <th>time</th>\n",
              "    </tr>\n",
              "  </thead>\n",
              "  <tbody>\n",
              "    <tr>\n",
              "      <td>0</td>\n",
              "      <td>4.856183</td>\n",
              "      <td>4.169219</td>\n",
              "      <td>0.225186</td>\n",
              "      <td>03:51</td>\n",
              "    </tr>\n",
              "  </tbody>\n",
              "</table>"
            ],
            "text/plain": [
              "<IPython.core.display.HTML object>"
            ]
          },
          "metadata": {
            "tags": []
          }
        }
      ]
    },
    {
      "cell_type": "code",
      "metadata": {
        "id": "iB7rHGQCwd12",
        "colab_type": "code",
        "colab": {
          "base_uri": "https://localhost:8080/",
          "height": 80
        },
        "outputId": "e543edc7-58f8-44ef-c57b-c0f775465e3a"
      },
      "source": [
        "learn.fit_one_cycle(1, 1e-2)"
      ],
      "execution_count": 24,
      "outputs": [
        {
          "output_type": "display_data",
          "data": {
            "text/html": [
              "<table border=\"1\" class=\"dataframe\">\n",
              "  <thead>\n",
              "    <tr style=\"text-align: left;\">\n",
              "      <th>epoch</th>\n",
              "      <th>train_loss</th>\n",
              "      <th>valid_loss</th>\n",
              "      <th>accuracy</th>\n",
              "      <th>time</th>\n",
              "    </tr>\n",
              "  </thead>\n",
              "  <tbody>\n",
              "    <tr>\n",
              "      <td>0</td>\n",
              "      <td>3.980534</td>\n",
              "      <td>3.665614</td>\n",
              "      <td>0.302902</td>\n",
              "      <td>03:50</td>\n",
              "    </tr>\n",
              "  </tbody>\n",
              "</table>"
            ],
            "text/plain": [
              "<IPython.core.display.HTML object>"
            ]
          },
          "metadata": {
            "tags": []
          }
        }
      ]
    },
    {
      "cell_type": "code",
      "metadata": {
        "id": "_BnSuAeCwkBe",
        "colab_type": "code",
        "colab": {
          "base_uri": "https://localhost:8080/",
          "height": 80
        },
        "outputId": "5891953c-2e51-487f-f376-4e44a71c5d34"
      },
      "source": [
        "learn.fit_one_cycle(1, 1e-3)"
      ],
      "execution_count": 25,
      "outputs": [
        {
          "output_type": "display_data",
          "data": {
            "text/html": [
              "<table border=\"1\" class=\"dataframe\">\n",
              "  <thead>\n",
              "    <tr style=\"text-align: left;\">\n",
              "      <th>epoch</th>\n",
              "      <th>train_loss</th>\n",
              "      <th>valid_loss</th>\n",
              "      <th>accuracy</th>\n",
              "      <th>time</th>\n",
              "    </tr>\n",
              "  </thead>\n",
              "  <tbody>\n",
              "    <tr>\n",
              "      <td>0</td>\n",
              "      <td>3.720503</td>\n",
              "      <td>3.636248</td>\n",
              "      <td>0.307961</td>\n",
              "      <td>03:50</td>\n",
              "    </tr>\n",
              "  </tbody>\n",
              "</table>"
            ],
            "text/plain": [
              "<IPython.core.display.HTML object>"
            ]
          },
          "metadata": {
            "tags": []
          }
        }
      ]
    },
    {
      "cell_type": "code",
      "metadata": {
        "id": "MuTm-RFjwrEX",
        "colab_type": "code",
        "colab": {
          "base_uri": "https://localhost:8080/",
          "height": 80
        },
        "outputId": "cb8907ff-94b5-41b0-f163-d5eb824d79b4"
      },
      "source": [
        "learn.fit_one_cycle(1, 1e-3)"
      ],
      "execution_count": 26,
      "outputs": [
        {
          "output_type": "display_data",
          "data": {
            "text/html": [
              "<table border=\"1\" class=\"dataframe\">\n",
              "  <thead>\n",
              "    <tr style=\"text-align: left;\">\n",
              "      <th>epoch</th>\n",
              "      <th>train_loss</th>\n",
              "      <th>valid_loss</th>\n",
              "      <th>accuracy</th>\n",
              "      <th>time</th>\n",
              "    </tr>\n",
              "  </thead>\n",
              "  <tbody>\n",
              "    <tr>\n",
              "      <td>0</td>\n",
              "      <td>3.690388</td>\n",
              "      <td>3.611137</td>\n",
              "      <td>0.310082</td>\n",
              "      <td>03:49</td>\n",
              "    </tr>\n",
              "  </tbody>\n",
              "</table>"
            ],
            "text/plain": [
              "<IPython.core.display.HTML object>"
            ]
          },
          "metadata": {
            "tags": []
          }
        }
      ]
    },
    {
      "cell_type": "code",
      "metadata": {
        "id": "1Er2ExO8wr7Y",
        "colab_type": "code",
        "colab": {}
      },
      "source": [
        "learn.save_encoder('AskAPatient_overlap_60_first')"
      ],
      "execution_count": 0,
      "outputs": []
    },
    {
      "cell_type": "code",
      "metadata": {
        "id": "z52cZs2qwvad",
        "colab_type": "code",
        "colab": {
          "base_uri": "https://localhost:8080/",
          "height": 80
        },
        "outputId": "6ab417de-3753-4adb-acef-ecc691db7037"
      },
      "source": [
        "learn = text_classifier_learner(data_clas,AWD_LSTM, drop_mult=0.5)\n",
        "learn.load_encoder('AskAPatient_overlap_60_first')\n",
        "learn.fit_one_cycle(1, 1e-2)"
      ],
      "execution_count": 28,
      "outputs": [
        {
          "output_type": "display_data",
          "data": {
            "text/html": [
              "<table border=\"1\" class=\"dataframe\">\n",
              "  <thead>\n",
              "    <tr style=\"text-align: left;\">\n",
              "      <th>epoch</th>\n",
              "      <th>train_loss</th>\n",
              "      <th>valid_loss</th>\n",
              "      <th>accuracy</th>\n",
              "      <th>time</th>\n",
              "    </tr>\n",
              "  </thead>\n",
              "  <tbody>\n",
              "    <tr>\n",
              "      <td>0</td>\n",
              "      <td>3.993693</td>\n",
              "      <td>3.487740</td>\n",
              "      <td>0.409467</td>\n",
              "      <td>01:12</td>\n",
              "    </tr>\n",
              "  </tbody>\n",
              "</table>"
            ],
            "text/plain": [
              "<IPython.core.display.HTML object>"
            ]
          },
          "metadata": {
            "tags": []
          }
        }
      ]
    },
    {
      "cell_type": "code",
      "metadata": {
        "id": "ImwQP1PJwzxd",
        "colab_type": "code",
        "colab": {
          "base_uri": "https://localhost:8080/",
          "height": 80
        },
        "outputId": "bffb2cb5-3720-4747-c655-2c8b6c9f0d60"
      },
      "source": [
        "learn.freeze_to(-2)\n",
        "learn.fit_one_cycle(1, slice(5e-3/2., 5e-3))"
      ],
      "execution_count": 29,
      "outputs": [
        {
          "output_type": "display_data",
          "data": {
            "text/html": [
              "<table border=\"1\" class=\"dataframe\">\n",
              "  <thead>\n",
              "    <tr style=\"text-align: left;\">\n",
              "      <th>epoch</th>\n",
              "      <th>train_loss</th>\n",
              "      <th>valid_loss</th>\n",
              "      <th>accuracy</th>\n",
              "      <th>time</th>\n",
              "    </tr>\n",
              "  </thead>\n",
              "  <tbody>\n",
              "    <tr>\n",
              "      <td>0</td>\n",
              "      <td>3.043583</td>\n",
              "      <td>2.938547</td>\n",
              "      <td>0.506509</td>\n",
              "      <td>01:32</td>\n",
              "    </tr>\n",
              "  </tbody>\n",
              "</table>"
            ],
            "text/plain": [
              "<IPython.core.display.HTML object>"
            ]
          },
          "metadata": {
            "tags": []
          }
        }
      ]
    },
    {
      "cell_type": "code",
      "metadata": {
        "id": "Owff_BJXw53u",
        "colab_type": "code",
        "colab": {
          "base_uri": "https://localhost:8080/",
          "height": 80
        },
        "outputId": "a6f0b684-883c-4cf1-dfcc-f3993b7e2378"
      },
      "source": [
        "learn.unfreeze()\n",
        "learn.fit_one_cycle(1, slice(2e-3/100, 2e-3))"
      ],
      "execution_count": 30,
      "outputs": [
        {
          "output_type": "display_data",
          "data": {
            "text/html": [
              "<table border=\"1\" class=\"dataframe\">\n",
              "  <thead>\n",
              "    <tr style=\"text-align: left;\">\n",
              "      <th>epoch</th>\n",
              "      <th>train_loss</th>\n",
              "      <th>valid_loss</th>\n",
              "      <th>accuracy</th>\n",
              "      <th>time</th>\n",
              "    </tr>\n",
              "  </thead>\n",
              "  <tbody>\n",
              "    <tr>\n",
              "      <td>0</td>\n",
              "      <td>2.396589</td>\n",
              "      <td>2.621858</td>\n",
              "      <td>0.566864</td>\n",
              "      <td>03:53</td>\n",
              "    </tr>\n",
              "  </tbody>\n",
              "</table>"
            ],
            "text/plain": [
              "<IPython.core.display.HTML object>"
            ]
          },
          "metadata": {
            "tags": []
          }
        }
      ]
    },
    {
      "cell_type": "code",
      "metadata": {
        "id": "lqAyu56V8Waq",
        "colab_type": "code",
        "colab": {
          "base_uri": "https://localhost:8080/",
          "height": 111
        },
        "outputId": "0746ec8e-811f-4bcb-9622-eea5abbe9dc5"
      },
      "source": [
        "learn.fit_one_cycle(2, slice(2e-3/100, 2e-3))"
      ],
      "execution_count": 31,
      "outputs": [
        {
          "output_type": "display_data",
          "data": {
            "text/html": [
              "<table border=\"1\" class=\"dataframe\">\n",
              "  <thead>\n",
              "    <tr style=\"text-align: left;\">\n",
              "      <th>epoch</th>\n",
              "      <th>train_loss</th>\n",
              "      <th>valid_loss</th>\n",
              "      <th>accuracy</th>\n",
              "      <th>time</th>\n",
              "    </tr>\n",
              "  </thead>\n",
              "  <tbody>\n",
              "    <tr>\n",
              "      <td>0</td>\n",
              "      <td>2.109743</td>\n",
              "      <td>2.368335</td>\n",
              "      <td>0.604734</td>\n",
              "      <td>03:29</td>\n",
              "    </tr>\n",
              "    <tr>\n",
              "      <td>1</td>\n",
              "      <td>1.728945</td>\n",
              "      <td>2.222867</td>\n",
              "      <td>0.631953</td>\n",
              "      <td>03:41</td>\n",
              "    </tr>\n",
              "  </tbody>\n",
              "</table>"
            ],
            "text/plain": [
              "<IPython.core.display.HTML object>"
            ]
          },
          "metadata": {
            "tags": []
          }
        }
      ]
    },
    {
      "cell_type": "code",
      "metadata": {
        "id": "a7I1xMRp8bUd",
        "colab_type": "code",
        "colab": {
          "base_uri": "https://localhost:8080/",
          "height": 111
        },
        "outputId": "f9bc0d87-bf2d-4981-98c3-2e459869626f"
      },
      "source": [
        "learn.fit_one_cycle(2, slice(2e-3/100, 2e-3))"
      ],
      "execution_count": 32,
      "outputs": [
        {
          "output_type": "display_data",
          "data": {
            "text/html": [
              "<table border=\"1\" class=\"dataframe\">\n",
              "  <thead>\n",
              "    <tr style=\"text-align: left;\">\n",
              "      <th>epoch</th>\n",
              "      <th>train_loss</th>\n",
              "      <th>valid_loss</th>\n",
              "      <th>accuracy</th>\n",
              "      <th>time</th>\n",
              "    </tr>\n",
              "  </thead>\n",
              "  <tbody>\n",
              "    <tr>\n",
              "      <td>0</td>\n",
              "      <td>1.651173</td>\n",
              "      <td>2.030194</td>\n",
              "      <td>0.644970</td>\n",
              "      <td>03:53</td>\n",
              "    </tr>\n",
              "    <tr>\n",
              "      <td>1</td>\n",
              "      <td>1.418437</td>\n",
              "      <td>1.939981</td>\n",
              "      <td>0.672189</td>\n",
              "      <td>03:35</td>\n",
              "    </tr>\n",
              "  </tbody>\n",
              "</table>"
            ],
            "text/plain": [
              "<IPython.core.display.HTML object>"
            ]
          },
          "metadata": {
            "tags": []
          }
        }
      ]
    },
    {
      "cell_type": "code",
      "metadata": {
        "id": "UAnti-XmGVfO",
        "colab_type": "code",
        "colab": {
          "base_uri": "https://localhost:8080/",
          "height": 111
        },
        "outputId": "3887cf6f-68ba-464d-89cf-88803ef082c2"
      },
      "source": [
        "learn.fit_one_cycle(2, slice(2e-3/100, 2e-3))"
      ],
      "execution_count": 33,
      "outputs": [
        {
          "output_type": "display_data",
          "data": {
            "text/html": [
              "<table border=\"1\" class=\"dataframe\">\n",
              "  <thead>\n",
              "    <tr style=\"text-align: left;\">\n",
              "      <th>epoch</th>\n",
              "      <th>train_loss</th>\n",
              "      <th>valid_loss</th>\n",
              "      <th>accuracy</th>\n",
              "      <th>time</th>\n",
              "    </tr>\n",
              "  </thead>\n",
              "  <tbody>\n",
              "    <tr>\n",
              "      <td>0</td>\n",
              "      <td>1.414072</td>\n",
              "      <td>1.809842</td>\n",
              "      <td>0.698225</td>\n",
              "      <td>03:38</td>\n",
              "    </tr>\n",
              "    <tr>\n",
              "      <td>1</td>\n",
              "      <td>1.188447</td>\n",
              "      <td>1.740149</td>\n",
              "      <td>0.712426</td>\n",
              "      <td>03:32</td>\n",
              "    </tr>\n",
              "  </tbody>\n",
              "</table>"
            ],
            "text/plain": [
              "<IPython.core.display.HTML object>"
            ]
          },
          "metadata": {
            "tags": []
          }
        }
      ]
    },
    {
      "cell_type": "code",
      "metadata": {
        "id": "bIft7W25GwSu",
        "colab_type": "code",
        "colab": {
          "base_uri": "https://localhost:8080/",
          "height": 111
        },
        "outputId": "0f7ded3d-bd5b-463a-92c6-648dc92137ef"
      },
      "source": [
        "learn.fit_one_cycle(2, slice(2e-3/100, 2e-3))"
      ],
      "execution_count": 34,
      "outputs": [
        {
          "output_type": "display_data",
          "data": {
            "text/html": [
              "<table border=\"1\" class=\"dataframe\">\n",
              "  <thead>\n",
              "    <tr style=\"text-align: left;\">\n",
              "      <th>epoch</th>\n",
              "      <th>train_loss</th>\n",
              "      <th>valid_loss</th>\n",
              "      <th>accuracy</th>\n",
              "      <th>time</th>\n",
              "    </tr>\n",
              "  </thead>\n",
              "  <tbody>\n",
              "    <tr>\n",
              "      <td>0</td>\n",
              "      <td>1.184119</td>\n",
              "      <td>1.669543</td>\n",
              "      <td>0.717160</td>\n",
              "      <td>03:51</td>\n",
              "    </tr>\n",
              "    <tr>\n",
              "      <td>1</td>\n",
              "      <td>1.048902</td>\n",
              "      <td>1.648201</td>\n",
              "      <td>0.725444</td>\n",
              "      <td>03:34</td>\n",
              "    </tr>\n",
              "  </tbody>\n",
              "</table>"
            ],
            "text/plain": [
              "<IPython.core.display.HTML object>"
            ]
          },
          "metadata": {
            "tags": []
          }
        }
      ]
    },
    {
      "cell_type": "code",
      "metadata": {
        "id": "EEHszVRvGyFt",
        "colab_type": "code",
        "colab": {
          "base_uri": "https://localhost:8080/",
          "height": 111
        },
        "outputId": "5d7c7d7d-e1a2-4ce5-f5e7-3c5c5226f20d"
      },
      "source": [
        "learn.fit_one_cycle(2, slice(2e-3/100, 2e-3))"
      ],
      "execution_count": 35,
      "outputs": [
        {
          "output_type": "display_data",
          "data": {
            "text/html": [
              "<table border=\"1\" class=\"dataframe\">\n",
              "  <thead>\n",
              "    <tr style=\"text-align: left;\">\n",
              "      <th>epoch</th>\n",
              "      <th>train_loss</th>\n",
              "      <th>valid_loss</th>\n",
              "      <th>accuracy</th>\n",
              "      <th>time</th>\n",
              "    </tr>\n",
              "  </thead>\n",
              "  <tbody>\n",
              "    <tr>\n",
              "      <td>0</td>\n",
              "      <td>1.058798</td>\n",
              "      <td>1.631496</td>\n",
              "      <td>0.738462</td>\n",
              "      <td>03:37</td>\n",
              "    </tr>\n",
              "    <tr>\n",
              "      <td>1</td>\n",
              "      <td>0.958219</td>\n",
              "      <td>1.554261</td>\n",
              "      <td>0.734911</td>\n",
              "      <td>03:52</td>\n",
              "    </tr>\n",
              "  </tbody>\n",
              "</table>"
            ],
            "text/plain": [
              "<IPython.core.display.HTML object>"
            ]
          },
          "metadata": {
            "tags": []
          }
        }
      ]
    },
    {
      "cell_type": "code",
      "metadata": {
        "id": "XsHfrhCHG3dN",
        "colab_type": "code",
        "colab": {
          "base_uri": "https://localhost:8080/",
          "height": 173
        },
        "outputId": "5af424d4-1a31-4055-8b4b-6a8652b4ed72"
      },
      "source": [
        "learn.fit_one_cycle(4, slice(2e-3/100, 2e-3))"
      ],
      "execution_count": 36,
      "outputs": [
        {
          "output_type": "display_data",
          "data": {
            "text/html": [
              "<table border=\"1\" class=\"dataframe\">\n",
              "  <thead>\n",
              "    <tr style=\"text-align: left;\">\n",
              "      <th>epoch</th>\n",
              "      <th>train_loss</th>\n",
              "      <th>valid_loss</th>\n",
              "      <th>accuracy</th>\n",
              "      <th>time</th>\n",
              "    </tr>\n",
              "  </thead>\n",
              "  <tbody>\n",
              "    <tr>\n",
              "      <td>0</td>\n",
              "      <td>0.896421</td>\n",
              "      <td>1.555878</td>\n",
              "      <td>0.743195</td>\n",
              "      <td>03:45</td>\n",
              "    </tr>\n",
              "    <tr>\n",
              "      <td>1</td>\n",
              "      <td>0.898170</td>\n",
              "      <td>1.548374</td>\n",
              "      <td>0.746746</td>\n",
              "      <td>03:31</td>\n",
              "    </tr>\n",
              "    <tr>\n",
              "      <td>2</td>\n",
              "      <td>0.824773</td>\n",
              "      <td>1.494367</td>\n",
              "      <td>0.758580</td>\n",
              "      <td>03:34</td>\n",
              "    </tr>\n",
              "    <tr>\n",
              "      <td>3</td>\n",
              "      <td>0.706792</td>\n",
              "      <td>1.489235</td>\n",
              "      <td>0.764497</td>\n",
              "      <td>03:44</td>\n",
              "    </tr>\n",
              "  </tbody>\n",
              "</table>"
            ],
            "text/plain": [
              "<IPython.core.display.HTML object>"
            ]
          },
          "metadata": {
            "tags": []
          }
        }
      ]
    },
    {
      "cell_type": "code",
      "metadata": {
        "id": "0Zsd99isb9EQ",
        "colab_type": "code",
        "colab": {
          "base_uri": "https://localhost:8080/",
          "height": 173
        },
        "outputId": "08b12a24-9361-4e38-9dc0-113541908eeb"
      },
      "source": [
        "learn.fit_one_cycle(4, slice(2e-3/100, 2e-3))"
      ],
      "execution_count": 37,
      "outputs": [
        {
          "output_type": "display_data",
          "data": {
            "text/html": [
              "<table border=\"1\" class=\"dataframe\">\n",
              "  <thead>\n",
              "    <tr style=\"text-align: left;\">\n",
              "      <th>epoch</th>\n",
              "      <th>train_loss</th>\n",
              "      <th>valid_loss</th>\n",
              "      <th>accuracy</th>\n",
              "      <th>time</th>\n",
              "    </tr>\n",
              "  </thead>\n",
              "  <tbody>\n",
              "    <tr>\n",
              "      <td>0</td>\n",
              "      <td>0.746761</td>\n",
              "      <td>1.516786</td>\n",
              "      <td>0.759763</td>\n",
              "      <td>03:29</td>\n",
              "    </tr>\n",
              "    <tr>\n",
              "      <td>1</td>\n",
              "      <td>0.751408</td>\n",
              "      <td>1.524662</td>\n",
              "      <td>0.765680</td>\n",
              "      <td>03:55</td>\n",
              "    </tr>\n",
              "    <tr>\n",
              "      <td>2</td>\n",
              "      <td>0.682469</td>\n",
              "      <td>1.467156</td>\n",
              "      <td>0.772781</td>\n",
              "      <td>03:31</td>\n",
              "    </tr>\n",
              "    <tr>\n",
              "      <td>3</td>\n",
              "      <td>0.600290</td>\n",
              "      <td>1.443570</td>\n",
              "      <td>0.781065</td>\n",
              "      <td>03:39</td>\n",
              "    </tr>\n",
              "  </tbody>\n",
              "</table>"
            ],
            "text/plain": [
              "<IPython.core.display.HTML object>"
            ]
          },
          "metadata": {
            "tags": []
          }
        }
      ]
    },
    {
      "cell_type": "code",
      "metadata": {
        "id": "atNWNKDFPbuI",
        "colab_type": "code",
        "colab": {
          "base_uri": "https://localhost:8080/",
          "height": 173
        },
        "outputId": "330fc060-8be6-4387-aaae-9f4559a6495f"
      },
      "source": [
        "learn.fit_one_cycle(4, slice(2e-3/100, 2e-3))"
      ],
      "execution_count": 38,
      "outputs": [
        {
          "output_type": "display_data",
          "data": {
            "text/html": [
              "<table border=\"1\" class=\"dataframe\">\n",
              "  <thead>\n",
              "    <tr style=\"text-align: left;\">\n",
              "      <th>epoch</th>\n",
              "      <th>train_loss</th>\n",
              "      <th>valid_loss</th>\n",
              "      <th>accuracy</th>\n",
              "      <th>time</th>\n",
              "    </tr>\n",
              "  </thead>\n",
              "  <tbody>\n",
              "    <tr>\n",
              "      <td>0</td>\n",
              "      <td>0.632233</td>\n",
              "      <td>1.437319</td>\n",
              "      <td>0.772781</td>\n",
              "      <td>03:33</td>\n",
              "    </tr>\n",
              "    <tr>\n",
              "      <td>1</td>\n",
              "      <td>0.695798</td>\n",
              "      <td>1.513950</td>\n",
              "      <td>0.768047</td>\n",
              "      <td>03:43</td>\n",
              "    </tr>\n",
              "    <tr>\n",
              "      <td>2</td>\n",
              "      <td>0.613522</td>\n",
              "      <td>1.435962</td>\n",
              "      <td>0.775148</td>\n",
              "      <td>03:33</td>\n",
              "    </tr>\n",
              "    <tr>\n",
              "      <td>3</td>\n",
              "      <td>0.542883</td>\n",
              "      <td>1.431213</td>\n",
              "      <td>0.771598</td>\n",
              "      <td>03:25</td>\n",
              "    </tr>\n",
              "  </tbody>\n",
              "</table>"
            ],
            "text/plain": [
              "<IPython.core.display.HTML object>"
            ]
          },
          "metadata": {
            "tags": []
          }
        }
      ]
    },
    {
      "cell_type": "code",
      "metadata": {
        "id": "rKrBTZ0T1uVA",
        "colab_type": "code",
        "colab": {
          "base_uri": "https://localhost:8080/",
          "height": 173
        },
        "outputId": "902e75bb-01ab-4029-95a0-f4b9d1fc51d2"
      },
      "source": [
        "learn.fit_one_cycle(4, slice(2e-3/100, 2e-3))"
      ],
      "execution_count": 39,
      "outputs": [
        {
          "output_type": "display_data",
          "data": {
            "text/html": [
              "<table border=\"1\" class=\"dataframe\">\n",
              "  <thead>\n",
              "    <tr style=\"text-align: left;\">\n",
              "      <th>epoch</th>\n",
              "      <th>train_loss</th>\n",
              "      <th>valid_loss</th>\n",
              "      <th>accuracy</th>\n",
              "      <th>time</th>\n",
              "    </tr>\n",
              "  </thead>\n",
              "  <tbody>\n",
              "    <tr>\n",
              "      <td>0</td>\n",
              "      <td>0.573219</td>\n",
              "      <td>1.531709</td>\n",
              "      <td>0.768047</td>\n",
              "      <td>03:59</td>\n",
              "    </tr>\n",
              "    <tr>\n",
              "      <td>1</td>\n",
              "      <td>0.613646</td>\n",
              "      <td>1.449235</td>\n",
              "      <td>0.772781</td>\n",
              "      <td>03:43</td>\n",
              "    </tr>\n",
              "    <tr>\n",
              "      <td>2</td>\n",
              "      <td>0.578602</td>\n",
              "      <td>1.448709</td>\n",
              "      <td>0.781065</td>\n",
              "      <td>03:34</td>\n",
              "    </tr>\n",
              "    <tr>\n",
              "      <td>3</td>\n",
              "      <td>0.551108</td>\n",
              "      <td>1.441795</td>\n",
              "      <td>0.777515</td>\n",
              "      <td>03:32</td>\n",
              "    </tr>\n",
              "  </tbody>\n",
              "</table>"
            ],
            "text/plain": [
              "<IPython.core.display.HTML object>"
            ]
          },
          "metadata": {
            "tags": []
          }
        }
      ]
    },
    {
      "cell_type": "code",
      "metadata": {
        "id": "l49hlnWh3Ttc",
        "colab_type": "code",
        "colab": {
          "base_uri": "https://localhost:8080/",
          "height": 173
        },
        "outputId": "ea294b9f-e583-422b-976f-01708f3f3c68"
      },
      "source": [
        "learn.fit_one_cycle(4, slice(2e-3/100, 2e-3))"
      ],
      "execution_count": 40,
      "outputs": [
        {
          "output_type": "display_data",
          "data": {
            "text/html": [
              "<table border=\"1\" class=\"dataframe\">\n",
              "  <thead>\n",
              "    <tr style=\"text-align: left;\">\n",
              "      <th>epoch</th>\n",
              "      <th>train_loss</th>\n",
              "      <th>valid_loss</th>\n",
              "      <th>accuracy</th>\n",
              "      <th>time</th>\n",
              "    </tr>\n",
              "  </thead>\n",
              "  <tbody>\n",
              "    <tr>\n",
              "      <td>0</td>\n",
              "      <td>0.525871</td>\n",
              "      <td>1.487690</td>\n",
              "      <td>0.782248</td>\n",
              "      <td>03:28</td>\n",
              "    </tr>\n",
              "    <tr>\n",
              "      <td>1</td>\n",
              "      <td>0.607576</td>\n",
              "      <td>1.406828</td>\n",
              "      <td>0.783432</td>\n",
              "      <td>03:46</td>\n",
              "    </tr>\n",
              "    <tr>\n",
              "      <td>2</td>\n",
              "      <td>0.536574</td>\n",
              "      <td>1.412762</td>\n",
              "      <td>0.783432</td>\n",
              "      <td>03:31</td>\n",
              "    </tr>\n",
              "    <tr>\n",
              "      <td>3</td>\n",
              "      <td>0.522498</td>\n",
              "      <td>1.444827</td>\n",
              "      <td>0.783432</td>\n",
              "      <td>03:32</td>\n",
              "    </tr>\n",
              "  </tbody>\n",
              "</table>"
            ],
            "text/plain": [
              "<IPython.core.display.HTML object>"
            ]
          },
          "metadata": {
            "tags": []
          }
        }
      ]
    },
    {
      "cell_type": "code",
      "metadata": {
        "id": "eOHV1B2U3ZDj",
        "colab_type": "code",
        "colab": {
          "base_uri": "https://localhost:8080/",
          "height": 173
        },
        "outputId": "d0066eb2-c84b-4a4e-cf5d-ab78eca85410"
      },
      "source": [
        "learn.fit_one_cycle(4, slice(2e-3/100, 2e-3))"
      ],
      "execution_count": 41,
      "outputs": [
        {
          "output_type": "display_data",
          "data": {
            "text/html": [
              "<table border=\"1\" class=\"dataframe\">\n",
              "  <thead>\n",
              "    <tr style=\"text-align: left;\">\n",
              "      <th>epoch</th>\n",
              "      <th>train_loss</th>\n",
              "      <th>valid_loss</th>\n",
              "      <th>accuracy</th>\n",
              "      <th>time</th>\n",
              "    </tr>\n",
              "  </thead>\n",
              "  <tbody>\n",
              "    <tr>\n",
              "      <td>0</td>\n",
              "      <td>0.509556</td>\n",
              "      <td>1.447524</td>\n",
              "      <td>0.782248</td>\n",
              "      <td>03:34</td>\n",
              "    </tr>\n",
              "    <tr>\n",
              "      <td>1</td>\n",
              "      <td>0.569263</td>\n",
              "      <td>1.557578</td>\n",
              "      <td>0.782248</td>\n",
              "      <td>03:30</td>\n",
              "    </tr>\n",
              "    <tr>\n",
              "      <td>2</td>\n",
              "      <td>0.509852</td>\n",
              "      <td>1.428765</td>\n",
              "      <td>0.791716</td>\n",
              "      <td>03:39</td>\n",
              "    </tr>\n",
              "    <tr>\n",
              "      <td>3</td>\n",
              "      <td>0.490300</td>\n",
              "      <td>1.473464</td>\n",
              "      <td>0.794083</td>\n",
              "      <td>03:25</td>\n",
              "    </tr>\n",
              "  </tbody>\n",
              "</table>"
            ],
            "text/plain": [
              "<IPython.core.display.HTML object>"
            ]
          },
          "metadata": {
            "tags": []
          }
        }
      ]
    },
    {
      "cell_type": "code",
      "metadata": {
        "id": "FA9z91sk3Zyy",
        "colab_type": "code",
        "colab": {
          "base_uri": "https://localhost:8080/",
          "height": 173
        },
        "outputId": "e352f2b0-65cf-4042-9514-1b04f81f3022"
      },
      "source": [
        "learn.fit_one_cycle(4, slice(2e-3/100, 2e-3))"
      ],
      "execution_count": 42,
      "outputs": [
        {
          "output_type": "display_data",
          "data": {
            "text/html": [
              "<table border=\"1\" class=\"dataframe\">\n",
              "  <thead>\n",
              "    <tr style=\"text-align: left;\">\n",
              "      <th>epoch</th>\n",
              "      <th>train_loss</th>\n",
              "      <th>valid_loss</th>\n",
              "      <th>accuracy</th>\n",
              "      <th>time</th>\n",
              "    </tr>\n",
              "  </thead>\n",
              "  <tbody>\n",
              "    <tr>\n",
              "      <td>0</td>\n",
              "      <td>0.514155</td>\n",
              "      <td>1.524464</td>\n",
              "      <td>0.784615</td>\n",
              "      <td>03:35</td>\n",
              "    </tr>\n",
              "    <tr>\n",
              "      <td>1</td>\n",
              "      <td>0.540513</td>\n",
              "      <td>1.483793</td>\n",
              "      <td>0.781065</td>\n",
              "      <td>03:32</td>\n",
              "    </tr>\n",
              "    <tr>\n",
              "      <td>2</td>\n",
              "      <td>0.483721</td>\n",
              "      <td>1.475695</td>\n",
              "      <td>0.784615</td>\n",
              "      <td>03:38</td>\n",
              "    </tr>\n",
              "    <tr>\n",
              "      <td>3</td>\n",
              "      <td>0.478142</td>\n",
              "      <td>1.520803</td>\n",
              "      <td>0.784615</td>\n",
              "      <td>03:45</td>\n",
              "    </tr>\n",
              "  </tbody>\n",
              "</table>"
            ],
            "text/plain": [
              "<IPython.core.display.HTML object>"
            ]
          },
          "metadata": {
            "tags": []
          }
        }
      ]
    },
    {
      "cell_type": "code",
      "metadata": {
        "id": "9JbjgW6n3b1K",
        "colab_type": "code",
        "colab": {
          "base_uri": "https://localhost:8080/",
          "height": 173
        },
        "outputId": "fcc78dee-834f-4753-c0cb-ed8f8a784e34"
      },
      "source": [
        "learn.fit_one_cycle(4, slice(2e-3/100, 2e-3))"
      ],
      "execution_count": 43,
      "outputs": [
        {
          "output_type": "display_data",
          "data": {
            "text/html": [
              "<table border=\"1\" class=\"dataframe\">\n",
              "  <thead>\n",
              "    <tr style=\"text-align: left;\">\n",
              "      <th>epoch</th>\n",
              "      <th>train_loss</th>\n",
              "      <th>valid_loss</th>\n",
              "      <th>accuracy</th>\n",
              "      <th>time</th>\n",
              "    </tr>\n",
              "  </thead>\n",
              "  <tbody>\n",
              "    <tr>\n",
              "      <td>0</td>\n",
              "      <td>0.480399</td>\n",
              "      <td>1.500822</td>\n",
              "      <td>0.779882</td>\n",
              "      <td>03:37</td>\n",
              "    </tr>\n",
              "    <tr>\n",
              "      <td>1</td>\n",
              "      <td>0.522278</td>\n",
              "      <td>1.463759</td>\n",
              "      <td>0.778698</td>\n",
              "      <td>03:41</td>\n",
              "    </tr>\n",
              "    <tr>\n",
              "      <td>2</td>\n",
              "      <td>0.486777</td>\n",
              "      <td>1.469187</td>\n",
              "      <td>0.779882</td>\n",
              "      <td>03:24</td>\n",
              "    </tr>\n",
              "    <tr>\n",
              "      <td>3</td>\n",
              "      <td>0.469469</td>\n",
              "      <td>1.458360</td>\n",
              "      <td>0.782248</td>\n",
              "      <td>03:37</td>\n",
              "    </tr>\n",
              "  </tbody>\n",
              "</table>"
            ],
            "text/plain": [
              "<IPython.core.display.HTML object>"
            ]
          },
          "metadata": {
            "tags": []
          }
        }
      ]
    },
    {
      "cell_type": "code",
      "metadata": {
        "id": "3gq-Lep13cqS",
        "colab_type": "code",
        "colab": {
          "base_uri": "https://localhost:8080/",
          "height": 173
        },
        "outputId": "2ee8e3b0-19e7-4543-ab24-37a8517e0fdb"
      },
      "source": [
        "learn.fit_one_cycle(4, slice(2e-3/100, 2e-3))"
      ],
      "execution_count": 44,
      "outputs": [
        {
          "output_type": "display_data",
          "data": {
            "text/html": [
              "<table border=\"1\" class=\"dataframe\">\n",
              "  <thead>\n",
              "    <tr style=\"text-align: left;\">\n",
              "      <th>epoch</th>\n",
              "      <th>train_loss</th>\n",
              "      <th>valid_loss</th>\n",
              "      <th>accuracy</th>\n",
              "      <th>time</th>\n",
              "    </tr>\n",
              "  </thead>\n",
              "  <tbody>\n",
              "    <tr>\n",
              "      <td>0</td>\n",
              "      <td>0.483619</td>\n",
              "      <td>1.437136</td>\n",
              "      <td>0.783432</td>\n",
              "      <td>03:32</td>\n",
              "    </tr>\n",
              "    <tr>\n",
              "      <td>1</td>\n",
              "      <td>0.517201</td>\n",
              "      <td>1.452070</td>\n",
              "      <td>0.784615</td>\n",
              "      <td>03:55</td>\n",
              "    </tr>\n",
              "    <tr>\n",
              "      <td>2</td>\n",
              "      <td>0.514161</td>\n",
              "      <td>1.520650</td>\n",
              "      <td>0.785799</td>\n",
              "      <td>03:30</td>\n",
              "    </tr>\n",
              "    <tr>\n",
              "      <td>3</td>\n",
              "      <td>0.464151</td>\n",
              "      <td>1.418939</td>\n",
              "      <td>0.785799</td>\n",
              "      <td>03:47</td>\n",
              "    </tr>\n",
              "  </tbody>\n",
              "</table>"
            ],
            "text/plain": [
              "<IPython.core.display.HTML object>"
            ]
          },
          "metadata": {
            "tags": []
          }
        }
      ]
    },
    {
      "cell_type": "code",
      "metadata": {
        "id": "fr_3Rw6A3zSL",
        "colab_type": "code",
        "colab": {
          "base_uri": "https://localhost:8080/",
          "height": 173
        },
        "outputId": "69bd048f-bc95-41e9-9f3d-0346744a44c0"
      },
      "source": [
        "learn.fit_one_cycle(4, slice(2e-3/100, 2e-3))"
      ],
      "execution_count": 45,
      "outputs": [
        {
          "output_type": "display_data",
          "data": {
            "text/html": [
              "<table border=\"1\" class=\"dataframe\">\n",
              "  <thead>\n",
              "    <tr style=\"text-align: left;\">\n",
              "      <th>epoch</th>\n",
              "      <th>train_loss</th>\n",
              "      <th>valid_loss</th>\n",
              "      <th>accuracy</th>\n",
              "      <th>time</th>\n",
              "    </tr>\n",
              "  </thead>\n",
              "  <tbody>\n",
              "    <tr>\n",
              "      <td>0</td>\n",
              "      <td>0.466480</td>\n",
              "      <td>1.535171</td>\n",
              "      <td>0.776331</td>\n",
              "      <td>03:33</td>\n",
              "    </tr>\n",
              "    <tr>\n",
              "      <td>1</td>\n",
              "      <td>0.504575</td>\n",
              "      <td>1.496275</td>\n",
              "      <td>0.790533</td>\n",
              "      <td>04:00</td>\n",
              "    </tr>\n",
              "    <tr>\n",
              "      <td>2</td>\n",
              "      <td>0.490352</td>\n",
              "      <td>1.461239</td>\n",
              "      <td>0.790533</td>\n",
              "      <td>03:32</td>\n",
              "    </tr>\n",
              "    <tr>\n",
              "      <td>3</td>\n",
              "      <td>0.449424</td>\n",
              "      <td>1.459256</td>\n",
              "      <td>0.789349</td>\n",
              "      <td>03:29</td>\n",
              "    </tr>\n",
              "  </tbody>\n",
              "</table>"
            ],
            "text/plain": [
              "<IPython.core.display.HTML object>"
            ]
          },
          "metadata": {
            "tags": []
          }
        }
      ]
    },
    {
      "cell_type": "code",
      "metadata": {
        "id": "c65d-osfDUXm",
        "colab_type": "code",
        "colab": {}
      },
      "source": [
        "# save the best model\n",
        "\n",
        "learn.save_encoder('AskAPatient_overlap_60')"
      ],
      "execution_count": 0,
      "outputs": []
    },
    {
      "cell_type": "markdown",
      "metadata": {
        "id": "rCwZU0E2RgM6",
        "colab_type": "text"
      },
      "source": [
        "# Part three: Predict on the test dataset"
      ]
    },
    {
      "cell_type": "code",
      "metadata": {
        "id": "gDm72c-dOu7d",
        "colab_type": "code",
        "colab": {}
      },
      "source": [
        "# use the test data for prediction\n",
        "\n",
        "preds, y = learn.get_preds(DatasetType.Test)"
      ],
      "execution_count": 0,
      "outputs": []
    },
    {
      "cell_type": "code",
      "metadata": {
        "id": "6tFSQcsWPvxn",
        "colab_type": "code",
        "colab": {
          "base_uri": "https://localhost:8080/",
          "height": 105
        },
        "outputId": "4f4b96ba-470c-45d4-80e5-d5ca5318e79c"
      },
      "source": [
        "predictions, *_ = learn.get_preds(DatasetType.Test)\n",
        "labels = np.argmax(predictions, 1)\n",
        "predict_list = labels.tolist()\n",
        "standard_list = test[0].tolist()\n",
        "\n",
        "print(len(predict_list))\n",
        "print(len(standard_list))\n",
        "\n",
        "print(predict_list)\n",
        "print(standard_list)"
      ],
      "execution_count": 48,
      "outputs": [
        {
          "output_type": "stream",
          "text": [
            "1526\n",
            "1526\n",
            "[848, 2, 2, 126, 472, 334, 5, 323, 1026, 8, 8, 8, 8, 8, 8, 8, 8, 8, 165, 510, 10, 123, 788, 71, 20, 21, 323, 20, 22, 1035, 27, 27, 27, 1028, 1035, 29, 614, 30, 30, 584, 584, 32, 34, 76, 289, 289, 289, 289, 289, 289, 289, 37, 37, 289, 289, 37, 864, 218, 4, 515, 42, 44, 44, 45, 925, 986, 986, 49, 49, 49, 49, 49, 325, 49, 49, 49, 49, 49, 49, 49, 100, 100, 100, 100, 100, 100, 100, 764, 53, 53, 53, 58, 59, 60, 61, 62, 65, 70, 994, 20, 71, 71, 71, 491, 76, 76, 76, 260, 122, 717, 614, 252, 1031, 523, 260, 260, 260, 260, 260, 260, 260, 260, 260, 260, 260, 260, 260, 260, 260, 260, 260, 260, 260, 260, 260, 260, 260, 260, 260, 260, 260, 260, 260, 260, 260, 260, 260, 260, 260, 260, 260, 260, 260, 260, 260, 260, 260, 289, 289, 260, 1032, 260, 260, 260, 260, 742, 80, 80, 80, 80, 80, 80, 80, 80, 80, 80, 80, 80, 613, 88, 88, 89, 268, 391, 557, 877, 495, 495, 517, 427, 94, 94, 584, 94, 135, 135, 135, 135, 135, 135, 135, 135, 94, 96, 96, 126, 98, 683, 98, 98, 371, 337, 100, 100, 100, 337, 100, 100, 100, 100, 779, 100, 100, 100, 291, 214, 103, 107, 107, 107, 660, 660, 660, 636, 1035, 636, 289, 289, 289, 289, 289, 289, 289, 1035, 565, 281, 289, 289, 751, 117, 1031, 446, 983, 983, 122, 1031, 1031, 125, 777, 777, 777, 777, 777, 777, 777, 777, 777, 777, 125, 1031, 778, 127, 741, 129, 129, 289, 130, 622, 312, 355, 135, 355, 1004, 139, 142, 142, 142, 144, 145, 146, 205, 37, 151, 151, 368, 354, 232, 158, 163, 178, 269, 723, 350, 350, 168, 744, 171, 172, 289, 289, 614, 172, 172, 172, 172, 172, 214, 106, 182, 182, 182, 182, 182, 289, 182, 289, 182, 183, 183, 183, 183, 183, 183, 183, 183, 183, 183, 183, 183, 183, 183, 183, 183, 184, 184, 184, 185, 187, 187, 20, 925, 189, 189, 189, 190, 190, 190, 190, 190, 190, 190, 190, 289, 190, 190, 193, 197, 877, 877, 877, 877, 200, 805, 764, 205, 210, 210, 210, 210, 214, 214, 214, 211, 877, 1031, 214, 214, 214, 471, 877, 877, 877, 877, 877, 877, 877, 214, 214, 214, 214, 214, 122, 214, 214, 214, 214, 1031, 6, 812, 218, 218, 218, 220, 379, 220, 220, 220, 220, 1031, 223, 223, 226, 636, 228, 228, 228, 228, 228, 228, 228, 228, 717, 289, 289, 289, 289, 228, 228, 544, 231, 1028, 234, 234, 234, 235, 236, 701, 214, 238, 1031, 1031, 732, 1031, 187, 1019, 1031, 355, 355, 243, 243, 243, 243, 243, 1031, 1031, 355, 245, 764, 245, 245, 245, 245, 245, 245, 245, 245, 245, 732, 245, 245, 246, 27, 357, 357, 357, 1035, 1031, 251, 1031, 273, 273, 273, 350, 1035, 260, 260, 260, 1031, 4, 4, 264, 265, 265, 471, 265, 265, 265, 660, 214, 265, 265, 265, 265, 265, 265, 265, 265, 265, 265, 265, 265, 265, 265, 265, 265, 265, 265, 265, 265, 265, 265, 260, 289, 289, 289, 265, 265, 265, 265, 636, 86, 137, 137, 137, 627, 1031, 269, 270, 866, 317, 276, 1031, 277, 281, 289, 762, 283, 661, 39, 651, 289, 289, 289, 289, 289, 289, 289, 289, 289, 289, 260, 289, 864, 289, 260, 289, 289, 289, 289, 289, 289, 289, 289, 289, 289, 289, 289, 289, 289, 289, 289, 289, 289, 289, 289, 289, 289, 289, 289, 289, 289, 289, 260, 290, 291, 289, 849, 294, 877, 1031, 298, 805, 192, 300, 300, 325, 301, 301, 265, 591, 304, 307, 308, 309, 309, 309, 309, 309, 289, 289, 289, 289, 289, 762, 317, 750, 642, 318, 427, 427, 427, 359, 260, 119, 427, 707, 244, 321, 375, 1031, 323, 331, 325, 325, 325, 325, 325, 325, 325, 325, 325, 325, 325, 325, 325, 325, 325, 325, 693, 693, 694, 325, 325, 729, 326, 326, 61, 328, 304, 1035, 636, 334, 334, 335, 336, 221, 337, 337, 337, 337, 337, 337, 337, 584, 338, 343, 343, 343, 343, 281, 144, 265, 337, 849, 771, 877, 355, 359, 359, 359, 359, 601, 368, 360, 360, 360, 363, 363, 364, 364, 364, 364, 364, 289, 78, 374, 376, 1031, 386, 386, 427, 427, 391, 391, 444, 866, 33, 214, 214, 102, 397, 660, 402, 402, 402, 402, 402, 402, 403, 405, 407, 33, 711, 886, 408, 408, 805, 415, 415, 862, 418, 419, 419, 651, 290, 651, 651, 651, 651, 651, 651, 290, 419, 419, 289, 419, 419, 421, 1031, 424, 424, 426, 426, 426, 426, 426, 426, 427, 427, 427, 427, 427, 427, 427, 427, 427, 427, 427, 1032, 427, 789, 427, 427, 427, 615, 427, 591, 33, 1031, 428, 589, 61, 910, 238, 435, 435, 435, 438, 441, 443, 438, 444, 444, 444, 444, 391, 446, 135, 1031, 455, 455, 455, 455, 455, 455, 236, 456, 460, 717, 463, 717, 470, 470, 478, 780, 474, 475, 475, 475, 475, 475, 591, 591, 355, 355, 355, 492, 479, 626, 100, 744, 694, 492, 122, 723, 720, 489, 491, 491, 491, 317, 865, 82, 1031, 491, 492, 492, 492, 291, 495, 496, 497, 499, 499, 556, 555, 506, 507, 379, 509, 510, 789, 516, 517, 517, 517, 1031, 847, 517, 520, 202, 521, 522, 524, 524, 642, 378, 530, 530, 530, 530, 530, 530, 412, 744, 535, 536, 27, 602, 541, 541, 542, 591, 291, 545, 545, 545, 546, 1031, 384, 384, 384, 384, 384, 384, 512, 862, 660, 159, 1028, 427, 289, 567, 569, 775, 636, 427, 577, 185, 126, 58, 578, 578, 579, 579, 579, 579, 584, 510, 289, 590, 590, 590, 590, 591, 325, 325, 591, 626, 592, 592, 592, 97, 97, 707, 595, 328, 427, 597, 597, 541, 491, 683, 289, 606, 289, 412, 321, 127, 610, 610, 610, 610, 610, 202, 289, 614, 626, 614, 614, 614, 614, 614, 646, 619, 1031, 1031, 528, 355, 318, 624, 633, 633, 633, 655, 764, 640, 644, 644, 644, 644, 646, 646, 646, 646, 646, 122, 688, 544, 4, 723, 636, 652, 636, 636, 636, 636, 652, 317, 810, 810, 660, 662, 662, 662, 662, 865, 662, 29, 665, 437, 378, 666, 491, 676, 680, 676, 682, 563, 386, 289, 721, 686, 741, 817, 325, 693, 694, 289, 700, 864, 265, 265, 289, 289, 265, 364, 704, 289, 703, 265, 289, 289, 676, 810, 707, 707, 710, 710, 106, 711, 711, 712, 714, 714, 470, 715, 510, 717, 872, 779, 769, 729, 730, 861, 723, 735, 491, 739, 289, 741, 741, 741, 289, 289, 745, 541, 541, 746, 746, 746, 291, 746, 749, 752, 753, 753, 753, 368, 96, 412, 765, 337, 732, 769, 770, 771, 773, 723, 775, 775, 301, 100, 775, 100, 775, 775, 775, 775, 775, 775, 810, 359, 787, 427, 147, 591, 780, 798, 1031, 475, 753, 1031, 804, 1031, 805, 805, 200, 808, 808, 809, 809, 809, 809, 809, 809, 530, 810, 810, 810, 575, 810, 813, 45, 6, 816, 824, 377, 826, 826, 826, 827, 393, 828, 378, 1031, 1031, 830, 202, 830, 830, 830, 830, 831, 1031, 202, 202, 427, 801, 427, 840, 769, 4, 846, 846, 847, 847, 847, 808, 847, 427, 539, 785, 785, 1031, 853, 853, 853, 853, 853, 853, 355, 860, 211, 864, 864, 130, 364, 864, 865, 865, 81, 289, 868, 252, 873, 874, 37, 245, 877, 877, 878, 878, 439, 968, 886, 4, 289, 289, 427, 893, 415, 896, 579, 896, 896, 896, 896, 896, 896, 896, 896, 860, 197, 785, 764, 775, 772, 1031, 906, 466, 910, 1031, 994, 919, 919, 1031, 1031, 1035, 1031, 1031, 929, 1031, 1035, 933, 279, 936, 937, 937, 937, 937, 937, 937, 937, 937, 937, 937, 937, 937, 937, 937, 355, 355, 1031, 1031, 948, 355, 949, 949, 949, 949, 949, 949, 949, 949, 949, 949, 949, 949, 949, 949, 949, 949, 949, 949, 949, 949, 949, 949, 949, 949, 949, 949, 949, 949, 949, 949, 949, 949, 949, 949, 949, 949, 949, 949, 949, 949, 949, 949, 949, 949, 949, 949, 949, 949, 949, 949, 949, 949, 949, 949, 949, 949, 949, 949, 949, 949, 949, 949, 949, 949, 949, 949, 949, 949, 949, 949, 949, 949, 949, 949, 949, 949, 949, 949, 949, 949, 949, 949, 949, 949, 949, 949, 949, 949, 949, 949, 949, 949, 949, 949, 949, 949, 949, 949, 949, 949, 949, 949, 949, 949, 949, 949, 949, 949, 949, 949, 949, 949, 949, 949, 949, 949, 949, 949, 949, 949, 949, 949, 949, 949, 949, 949, 949, 949, 949, 949, 949, 949, 949, 949, 949, 949, 949, 949, 949, 949, 949, 949, 949, 949, 949, 949, 949, 949, 949, 949, 949, 949, 949, 949, 949, 1035, 1031, 789, 791, 791, 950, 950, 950, 950, 950, 952, 952, 952, 955, 955, 1031, 956, 956, 958, 964, 964, 1031, 355, 355, 355, 1031, 976, 977, 983, 1031, 256, 994, 1031, 355, 355, 626, 1008, 1011, 1017, 1023, 1020, 1003, 1022, 1032, 1026, 1026, 1028, 1028, 1028, 1028, 1029, 1029, 1031, 1035]\n",
            "[0, 2, 2, 3, 4, 5, 5, 7, 8, 8, 8, 8, 8, 8, 8, 8, 8, 8, 8, 9, 10, 14, 18, 19, 20, 21, 22, 22, 22, 25, 27, 27, 27, 28, 28, 29, 30, 30, 30, 31, 31, 32, 34, 34, 37, 37, 37, 37, 37, 37, 37, 37, 37, 37, 37, 37, 37, 38, 40, 41, 42, 44, 44, 45, 47, 49, 49, 49, 49, 49, 49, 49, 49, 49, 49, 49, 49, 49, 49, 49, 49, 49, 49, 49, 49, 49, 49, 50, 53, 53, 53, 58, 59, 60, 61, 62, 65, 70, 70, 71, 71, 71, 71, 74, 76, 76, 76, 77, 77, 77, 79, 79, 79, 79, 79, 79, 79, 79, 79, 79, 79, 79, 79, 79, 79, 79, 79, 79, 79, 79, 79, 79, 79, 79, 79, 79, 79, 79, 79, 79, 79, 79, 79, 79, 79, 79, 79, 79, 79, 79, 79, 79, 79, 79, 79, 79, 79, 79, 79, 79, 79, 79, 79, 79, 79, 79, 80, 80, 80, 80, 80, 80, 80, 80, 80, 80, 80, 80, 82, 88, 88, 89, 89, 89, 90, 91, 92, 92, 93, 94, 94, 94, 94, 94, 94, 94, 94, 94, 94, 94, 94, 94, 94, 96, 96, 97, 98, 98, 98, 98, 99, 100, 100, 100, 100, 100, 100, 100, 100, 100, 100, 100, 100, 100, 101, 102, 103, 107, 107, 107, 108, 108, 108, 109, 110, 111, 111, 111, 111, 111, 111, 111, 111, 111, 111, 111, 111, 111, 111, 117, 119, 120, 120, 120, 122, 122, 125, 125, 125, 125, 125, 125, 125, 125, 125, 125, 125, 125, 125, 125, 125, 127, 129, 129, 129, 129, 130, 131, 132, 135, 135, 135, 138, 139, 142, 142, 142, 144, 145, 146, 150, 150, 151, 151, 153, 157, 157, 158, 163, 165, 165, 166, 166, 166, 168, 170, 171, 172, 172, 172, 172, 172, 172, 172, 172, 172, 173, 180, 182, 182, 182, 182, 182, 182, 182, 182, 182, 183, 183, 183, 183, 183, 183, 183, 183, 183, 183, 183, 183, 183, 183, 183, 183, 184, 184, 184, 185, 187, 187, 187, 187, 189, 189, 189, 190, 190, 190, 190, 190, 190, 190, 190, 190, 190, 190, 193, 197, 197, 197, 197, 197, 200, 204, 205, 205, 210, 210, 210, 210, 210, 210, 210, 211, 214, 214, 214, 214, 214, 214, 214, 214, 214, 214, 214, 214, 214, 214, 214, 214, 214, 214, 214, 214, 214, 214, 214, 216, 216, 218, 218, 218, 218, 220, 220, 220, 220, 220, 220, 222, 223, 223, 226, 228, 228, 228, 228, 228, 228, 228, 228, 228, 228, 228, 228, 228, 228, 228, 228, 229, 231, 234, 234, 234, 234, 235, 236, 236, 236, 238, 238, 238, 238, 239, 240, 240, 243, 243, 243, 243, 243, 243, 243, 243, 243, 243, 244, 245, 245, 245, 245, 245, 245, 245, 245, 245, 245, 245, 245, 245, 245, 246, 246, 246, 246, 246, 246, 249, 251, 254, 254, 254, 254, 254, 259, 260, 260, 260, 261, 262, 262, 264, 265, 265, 265, 265, 265, 265, 265, 265, 265, 265, 265, 265, 265, 265, 265, 265, 265, 265, 265, 265, 265, 265, 265, 265, 265, 265, 265, 265, 265, 265, 265, 265, 265, 265, 265, 265, 265, 265, 266, 268, 268, 268, 268, 268, 269, 269, 270, 271, 272, 276, 277, 277, 281, 281, 282, 283, 286, 288, 289, 289, 289, 289, 289, 289, 289, 289, 289, 289, 289, 289, 289, 289, 289, 289, 289, 289, 289, 289, 289, 289, 289, 289, 289, 289, 289, 289, 289, 289, 289, 289, 289, 289, 289, 289, 289, 289, 289, 289, 289, 289, 289, 289, 290, 291, 293, 294, 294, 295, 298, 298, 299, 299, 300, 300, 301, 301, 301, 301, 301, 304, 304, 308, 309, 309, 309, 309, 309, 309, 309, 309, 309, 309, 315, 317, 317, 318, 318, 318, 318, 318, 318, 318, 318, 318, 320, 320, 321, 321, 323, 323, 324, 325, 325, 325, 325, 325, 325, 325, 325, 325, 325, 325, 325, 325, 325, 325, 325, 325, 325, 325, 325, 325, 326, 326, 326, 327, 328, 330, 332, 333, 334, 334, 335, 336, 337, 337, 337, 337, 337, 337, 337, 337, 338, 338, 343, 343, 343, 343, 343, 344, 345, 346, 347, 350, 351, 355, 359, 359, 359, 359, 359, 359, 360, 360, 360, 363, 363, 364, 364, 364, 364, 364, 364, 365, 374, 376, 380, 386, 386, 387, 388, 391, 391, 392, 394, 394, 396, 396, 396, 397, 402, 402, 402, 402, 402, 402, 402, 403, 405, 407, 408, 408, 408, 408, 408, 413, 415, 415, 416, 418, 419, 419, 419, 419, 419, 419, 419, 419, 419, 419, 419, 419, 419, 419, 419, 419, 421, 424, 424, 424, 426, 426, 426, 426, 426, 426, 427, 427, 427, 427, 427, 427, 427, 427, 427, 427, 427, 427, 427, 427, 427, 427, 427, 427, 427, 427, 427, 427, 428, 428, 430, 433, 434, 435, 435, 435, 438, 441, 443, 443, 444, 444, 444, 444, 444, 446, 453, 455, 455, 455, 455, 455, 455, 455, 455, 456, 460, 461, 462, 465, 470, 470, 473, 473, 474, 475, 475, 475, 475, 475, 475, 475, 476, 476, 476, 477, 479, 479, 481, 482, 483, 486, 487, 487, 488, 489, 491, 491, 491, 491, 491, 491, 491, 491, 492, 492, 492, 493, 495, 496, 497, 499, 499, 505, 505, 506, 507, 509, 509, 514, 516, 516, 517, 517, 517, 517, 517, 517, 520, 521, 521, 522, 524, 524, 527, 529, 530, 530, 530, 530, 530, 530, 531, 531, 535, 536, 536, 540, 541, 541, 542, 543, 543, 545, 545, 545, 546, 548, 548, 548, 548, 548, 548, 548, 549, 549, 554, 561, 561, 565, 566, 567, 569, 571, 572, 575, 577, 577, 577, 577, 578, 578, 579, 579, 579, 579, 584, 586, 588, 590, 590, 590, 590, 591, 591, 591, 591, 592, 592, 592, 592, 594, 594, 595, 595, 595, 596, 597, 597, 598, 598, 598, 604, 606, 606, 607, 608, 609, 610, 610, 610, 610, 610, 611, 614, 614, 614, 614, 614, 614, 614, 614, 617, 619, 619, 619, 623, 623, 623, 624, 633, 633, 633, 637, 638, 640, 644, 644, 644, 644, 646, 646, 646, 646, 646, 646, 648, 648, 648, 651, 652, 652, 652, 652, 652, 652, 654, 659, 659, 659, 660, 662, 662, 662, 662, 662, 662, 663, 663, 663, 664, 666, 669, 677, 680, 681, 682, 683, 686, 686, 686, 686, 687, 689, 693, 693, 694, 698, 700, 700, 701, 701, 702, 702, 702, 702, 703, 703, 703, 704, 704, 704, 705, 705, 707, 707, 710, 710, 710, 711, 711, 712, 714, 714, 715, 715, 716, 717, 718, 723, 727, 729, 730, 731, 733, 735, 738, 739, 741, 741, 741, 741, 741, 741, 745, 746, 746, 746, 746, 746, 746, 746, 749, 752, 753, 753, 753, 756, 761, 763, 765, 766, 767, 769, 770, 771, 773, 774, 775, 775, 775, 775, 775, 775, 775, 775, 775, 775, 775, 775, 782, 784, 787, 787, 788, 794, 794, 798, 799, 800, 803, 803, 804, 804, 805, 805, 807, 808, 808, 809, 809, 809, 809, 809, 809, 809, 810, 810, 810, 810, 810, 813, 813, 815, 816, 824, 826, 826, 826, 826, 827, 827, 828, 829, 830, 830, 830, 830, 830, 830, 830, 830, 831, 834, 834, 834, 840, 840, 840, 840, 840, 841, 844, 846, 847, 847, 847, 847, 847, 847, 847, 852, 852, 852, 853, 853, 853, 853, 853, 853, 853, 860, 861, 864, 864, 864, 864, 864, 865, 865, 865, 867, 868, 871, 873, 874, 876, 876, 877, 877, 878, 878, 882, 883, 886, 888, 889, 889, 892, 893, 894, 896, 896, 896, 896, 896, 896, 896, 896, 896, 896, 896, 896, 898, 902, 903, 903, 905, 906, 908, 910, 916, 917, 919, 919, 920, 923, 925, 926, 927, 929, 931, 932, 933, 933, 936, 937, 937, 937, 937, 937, 937, 937, 937, 937, 937, 937, 937, 937, 937, 941, 941, 944, 947, 948, 948, 949, 949, 949, 949, 949, 949, 949, 949, 949, 949, 949, 949, 949, 949, 949, 949, 949, 949, 949, 949, 949, 949, 949, 949, 949, 949, 949, 949, 949, 949, 949, 949, 949, 949, 949, 949, 949, 949, 949, 949, 949, 949, 949, 949, 949, 949, 949, 949, 949, 949, 949, 949, 949, 949, 949, 949, 949, 949, 949, 949, 949, 949, 949, 949, 949, 949, 949, 949, 949, 949, 949, 949, 949, 949, 949, 949, 949, 949, 949, 949, 949, 949, 949, 949, 949, 949, 949, 949, 949, 949, 949, 949, 949, 949, 949, 949, 949, 949, 949, 949, 949, 949, 949, 949, 949, 949, 949, 949, 949, 949, 949, 949, 949, 949, 949, 949, 949, 949, 949, 949, 949, 949, 949, 949, 949, 949, 949, 949, 949, 949, 949, 949, 949, 949, 949, 949, 949, 949, 949, 949, 949, 949, 949, 949, 949, 949, 949, 949, 949, 949, 949, 949, 949, 949, 949, 949, 949, 949, 949, 949, 950, 950, 950, 950, 950, 952, 952, 952, 955, 955, 955, 956, 956, 958, 964, 964, 966, 967, 967, 967, 969, 976, 977, 983, 984, 994, 994, 1000, 1001, 1001, 1002, 1008, 1011, 1017, 1019, 1020, 1020, 1022, 1026, 1026, 1026, 1028, 1028, 1028, 1028, 1029, 1029, 1030, 1035]\n"
          ],
          "name": "stdout"
        }
      ]
    },
    {
      "cell_type": "code",
      "metadata": {
        "id": "XIC4zufnMxtq",
        "colab_type": "code",
        "colab": {
          "base_uri": "https://localhost:8080/",
          "height": 51
        },
        "outputId": "f0390b5f-b6cb-4510-89f9-64dd6df1660d"
      },
      "source": [
        "correct_num = 0\n",
        "\n",
        "for i in range(0, 1526):\n",
        "  if predict_list[i] == standard_list[i]:\n",
        "    correct_num = correct_num+1\n",
        "  else:\n",
        "    pass\n",
        "print(correct_num)\n",
        "\n",
        "predict_accuracy = correct_num/len(predict_list)\n",
        "print(predict_accuracy)"
      ],
      "execution_count": 49,
      "outputs": [
        {
          "output_type": "stream",
          "text": [
            "891\n",
            "0.5838794233289646\n"
          ],
          "name": "stdout"
        }
      ]
    },
    {
      "cell_type": "code",
      "metadata": {
        "id": "zlKMHp1CIaRJ",
        "colab_type": "code",
        "colab": {}
      },
      "source": [
        ""
      ],
      "execution_count": 0,
      "outputs": []
    }
  ]
}