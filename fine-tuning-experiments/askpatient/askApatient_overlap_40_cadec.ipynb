{
  "nbformat": 4,
  "nbformat_minor": 0,
  "metadata": {
    "colab": {
      "name": "askApatient_overlap_40_cadec.ipynb",
      "provenance": [],
      "collapsed_sections": [],
      "toc_visible": true,
      "include_colab_link": true
    },
    "kernelspec": {
      "name": "python3",
      "display_name": "Python 3"
    },
    "accelerator": "TPU"
  },
  "cells": [
    {
      "cell_type": "markdown",
      "metadata": {
        "id": "view-in-github",
        "colab_type": "text"
      },
      "source": [
        "<a href=\"https://colab.research.google.com/github/unt-iialab/medical-concept-normalization/blob/master/fine-tuning-experiments/askpatient/askApatient_overlap_40_cadec.ipynb\" target=\"_parent\"><img src=\"https://colab.research.google.com/assets/colab-badge.svg\" alt=\"Open In Colab\"/></a>"
      ]
    },
    {
      "cell_type": "code",
      "metadata": {
        "id": "adSi6i2-dWxy",
        "colab_type": "code",
        "colab": {}
      },
      "source": [
        "import os"
      ],
      "execution_count": 0,
      "outputs": []
    },
    {
      "cell_type": "code",
      "metadata": {
        "id": "E7xYCRGPjd9B",
        "colab_type": "code",
        "colab": {}
      },
      "source": [
        "base_dir = 'medical-concept-normalization'"
      ],
      "execution_count": 0,
      "outputs": []
    },
    {
      "cell_type": "code",
      "metadata": {
        "id": "yvIW3aUDjYNS",
        "colab_type": "code",
        "colab": {}
      },
      "source": [
        "os.mkdir(base_dir)"
      ],
      "execution_count": 0,
      "outputs": []
    },
    {
      "cell_type": "code",
      "metadata": {
        "id": "es-FFLlfk6SG",
        "colab_type": "code",
        "colab": {}
      },
      "source": [
        "os.mkdir('medical-concept-normalization/data_collection')"
      ],
      "execution_count": 0,
      "outputs": []
    },
    {
      "cell_type": "markdown",
      "metadata": {
        "id": "0R-Guw_VoJXm",
        "colab_type": "text"
      },
      "source": [
        "**Install fastai and clone the fastai for text classification**\n",
        "\n"
      ]
    },
    {
      "cell_type": "code",
      "metadata": {
        "id": "QVZa3Z0PmHFH",
        "colab_type": "code",
        "outputId": "c6efd979-275e-4371-8b87-4010eb9bf722",
        "colab": {
          "base_uri": "https://localhost:8080/",
          "height": 102
        }
      },
      "source": [
        "!curl https://course-v3.fast.ai/setup/colab | bash"
      ],
      "execution_count": 6,
      "outputs": [
        {
          "output_type": "stream",
          "text": [
            "  % Total    % Received % Xferd  Average Speed   Time    Time     Time  Current\n",
            "                                 Dload  Upload   Total   Spent    Left  Speed\n",
            "100   287  100   287    0     0    722      0 --:--:-- --:--:-- --:--:--   721\n",
            "bash: line 1: syntax error near unexpected token `newline'\n",
            "bash: line 1: `<!DOCTYPE HTML PUBLIC \"-//IETF//DTD HTML 2.0//EN\">'\n"
          ],
          "name": "stdout"
        }
      ]
    },
    {
      "cell_type": "code",
      "metadata": {
        "id": "_FBFFEBrmJC0",
        "colab_type": "code",
        "outputId": "e8abcc8a-9666-446c-afb5-a1cddba874be",
        "colab": {
          "base_uri": "https://localhost:8080/",
          "height": 85
        }
      },
      "source": [
        "!git clone https://github.com/wshuyi/demo-nlp-classification-fastai.git"
      ],
      "execution_count": 7,
      "outputs": [
        {
          "output_type": "stream",
          "text": [
            "Cloning into 'demo-nlp-classification-fastai'...\n",
            "remote: Enumerating objects: 9, done.\u001b[K\n",
            "remote: Total 9 (delta 0), reused 0 (delta 0), pack-reused 9\u001b[K\n",
            "Unpacking objects: 100% (9/9), done.\n"
          ],
          "name": "stdout"
        }
      ]
    },
    {
      "cell_type": "code",
      "metadata": {
        "id": "66zfh_JqmWMU",
        "colab_type": "code",
        "colab": {}
      },
      "source": [
        "from fastai import *\n",
        "from fastai.text import *"
      ],
      "execution_count": 0,
      "outputs": []
    },
    {
      "cell_type": "markdown",
      "metadata": {
        "id": "mNIw-yALdBU9",
        "colab_type": "text"
      },
      "source": [
        "**Set the path of the data collections**"
      ]
    },
    {
      "cell_type": "code",
      "metadata": {
        "id": "pzH7VMh4mqCL",
        "colab_type": "code",
        "colab": {}
      },
      "source": [
        "path = Path('medical-concept-normalization/data_collection')"
      ],
      "execution_count": 0,
      "outputs": []
    },
    {
      "cell_type": "code",
      "metadata": {
        "id": "b8fjI6yyn4aS",
        "colab_type": "code",
        "colab": {}
      },
      "source": [
        "# training data set\n",
        "\n",
        "train_csv = path/'AskAPatient.fold-0.train.csv'\n",
        "train = pd.read_csv(train_csv, header=None)\n",
        "#train.head()\n",
        "#train.info()"
      ],
      "execution_count": 0,
      "outputs": []
    },
    {
      "cell_type": "code",
      "metadata": {
        "id": "Hmlr-bAorfHd",
        "colab_type": "code",
        "outputId": "a48f7e68-73f9-4bb8-a715-d0fb75079413",
        "colab": {
          "base_uri": "https://localhost:8080/",
          "height": 204
        }
      },
      "source": [
        "# validating data set\n",
        "\n",
        "valid = pd.read_csv(path/\"AskAPatient.fold-0.validation.csv\",header=None)\n",
        "valid.head()"
      ],
      "execution_count": 13,
      "outputs": [
        {
          "output_type": "execute_result",
          "data": {
            "text/html": [
              "<div>\n",
              "<style scoped>\n",
              "    .dataframe tbody tr th:only-of-type {\n",
              "        vertical-align: middle;\n",
              "    }\n",
              "\n",
              "    .dataframe tbody tr th {\n",
              "        vertical-align: top;\n",
              "    }\n",
              "\n",
              "    .dataframe thead th {\n",
              "        text-align: right;\n",
              "    }\n",
              "</style>\n",
              "<table border=\"1\" class=\"dataframe\">\n",
              "  <thead>\n",
              "    <tr style=\"text-align: right;\">\n",
              "      <th></th>\n",
              "      <th>0</th>\n",
              "      <th>1</th>\n",
              "    </tr>\n",
              "  </thead>\n",
              "  <tbody>\n",
              "    <tr>\n",
              "      <th>0</th>\n",
              "      <td>0</td>\n",
              "      <td>fear</td>\n",
              "    </tr>\n",
              "    <tr>\n",
              "      <th>1</th>\n",
              "      <td>2</td>\n",
              "      <td>heel pain</td>\n",
              "    </tr>\n",
              "    <tr>\n",
              "      <th>2</th>\n",
              "      <td>4</td>\n",
              "      <td>purple sploches around waist</td>\n",
              "    </tr>\n",
              "    <tr>\n",
              "      <th>3</th>\n",
              "      <td>7</td>\n",
              "      <td>goiter</td>\n",
              "    </tr>\n",
              "    <tr>\n",
              "      <th>4</th>\n",
              "      <td>8</td>\n",
              "      <td>ARTHRITIS</td>\n",
              "    </tr>\n",
              "  </tbody>\n",
              "</table>\n",
              "</div>"
            ],
            "text/plain": [
              "   0                             1\n",
              "0  0                          fear\n",
              "1  2                     heel pain\n",
              "2  4  purple sploches around waist\n",
              "3  7                        goiter\n",
              "4  8                     ARTHRITIS"
            ]
          },
          "metadata": {
            "tags": []
          },
          "execution_count": 13
        }
      ]
    },
    {
      "cell_type": "code",
      "metadata": {
        "id": "cOza9dfSsBud",
        "colab_type": "code",
        "outputId": "bfbc2a7a-d3f6-43ce-b36a-f4f34dc53aac",
        "colab": {
          "base_uri": "https://localhost:8080/",
          "height": 204
        }
      },
      "source": [
        "# testing data set\n",
        "\n",
        "test = pd.read_csv(path/\"AskAPatient_overlap_40.csv\",header=None)\n",
        "test.head()"
      ],
      "execution_count": 14,
      "outputs": [
        {
          "output_type": "execute_result",
          "data": {
            "text/html": [
              "<div>\n",
              "<style scoped>\n",
              "    .dataframe tbody tr th:only-of-type {\n",
              "        vertical-align: middle;\n",
              "    }\n",
              "\n",
              "    .dataframe tbody tr th {\n",
              "        vertical-align: top;\n",
              "    }\n",
              "\n",
              "    .dataframe thead th {\n",
              "        text-align: right;\n",
              "    }\n",
              "</style>\n",
              "<table border=\"1\" class=\"dataframe\">\n",
              "  <thead>\n",
              "    <tr style=\"text-align: right;\">\n",
              "      <th></th>\n",
              "      <th>0</th>\n",
              "      <th>1</th>\n",
              "    </tr>\n",
              "  </thead>\n",
              "  <tbody>\n",
              "    <tr>\n",
              "      <th>0</th>\n",
              "      <td>0</td>\n",
              "      <td>'scared' feeling</td>\n",
              "    </tr>\n",
              "    <tr>\n",
              "      <th>1</th>\n",
              "      <td>3</td>\n",
              "      <td>cracking sensations in my joints</td>\n",
              "    </tr>\n",
              "    <tr>\n",
              "      <th>2</th>\n",
              "      <td>4</td>\n",
              "      <td>purple sploches around waist</td>\n",
              "    </tr>\n",
              "    <tr>\n",
              "      <th>3</th>\n",
              "      <td>5</td>\n",
              "      <td>fast and slow heartbeat</td>\n",
              "    </tr>\n",
              "    <tr>\n",
              "      <th>4</th>\n",
              "      <td>5</td>\n",
              "      <td>increased heart rate</td>\n",
              "    </tr>\n",
              "  </tbody>\n",
              "</table>\n",
              "</div>"
            ],
            "text/plain": [
              "   0                                 1\n",
              "0  0                  'scared' feeling\n",
              "1  3  cracking sensations in my joints\n",
              "2  4      purple sploches around waist\n",
              "3  5           fast and slow heartbeat\n",
              "4  5              increased heart rate"
            ]
          },
          "metadata": {
            "tags": []
          },
          "execution_count": 14
        }
      ]
    },
    {
      "cell_type": "code",
      "metadata": {
        "id": "Vo-YNvVYoaH6",
        "colab_type": "code",
        "colab": {}
      },
      "source": [
        "# Creating DataBunch for language modelling\n",
        "\n",
        "data_lm = TextLMDataBunch.from_csv(path, 'fine_tuning_language_model_cadec_data.csv')"
      ],
      "execution_count": 0,
      "outputs": []
    },
    {
      "cell_type": "code",
      "metadata": {
        "id": "1ScY9afDsnvE",
        "colab_type": "code",
        "colab": {}
      },
      "source": [
        "# Creating DataBunch for classification\n",
        "\n",
        "# data_clas = TextClasDataBunch.from_df(path, train, valid, test, vocab=data_lm.train_ds.vocab, bs=128)"
      ],
      "execution_count": 0,
      "outputs": []
    },
    {
      "cell_type": "code",
      "metadata": {
        "id": "gzrSdQcvey9p",
        "colab_type": "code",
        "colab": {}
      },
      "source": [
        "data_clas = TextClasDataBunch.from_df(path, train, valid, vocab=data_lm.train_ds.vocab, bs=128)"
      ],
      "execution_count": 0,
      "outputs": []
    },
    {
      "cell_type": "code",
      "metadata": {
        "id": "MD27Tf0Ke3ou",
        "colab_type": "code",
        "colab": {}
      },
      "source": [
        "data_clas.add_test(test,label=0)\n"
      ],
      "execution_count": 0,
      "outputs": []
    },
    {
      "cell_type": "code",
      "metadata": {
        "id": "-dpjnk_rstwk",
        "colab_type": "code",
        "outputId": "7b1ba2b9-dc09-465e-ad4a-3ed177caae75",
        "colab": {
          "base_uri": "https://localhost:8080/",
          "height": 71
        }
      },
      "source": [
        "data_lm.save()\n",
        "data_clas.save()"
      ],
      "execution_count": 19,
      "outputs": [
        {
          "output_type": "stream",
          "text": [
            "/usr/local/lib/python3.6/dist-packages/torch/serialization.py:292: UserWarning: Couldn't retrieve source code for container of type CrossEntropyLoss. It won't be checked for correctness upon loading.\n",
            "  \"type \" + obj.__name__ + \". It won't be checked \"\n"
          ],
          "name": "stderr"
        }
      ]
    },
    {
      "cell_type": "code",
      "metadata": {
        "id": "4OkiJa36sw5s",
        "colab_type": "code",
        "colab": {
          "base_uri": "https://localhost:8080/",
          "height": 1000
        },
        "outputId": "74c30950-603a-4c16-d5ac-55d3fb0df472"
      },
      "source": [
        "data_lm.train_ds.vocab.itos"
      ],
      "execution_count": 20,
      "outputs": [
        {
          "output_type": "execute_result",
          "data": {
            "text/plain": [
              "['xxunk',\n",
              " 'xxpad',\n",
              " 'xxbos',\n",
              " 'xxeos',\n",
              " 'xxfld',\n",
              " 'xxmaj',\n",
              " 'xxup',\n",
              " 'xxrep',\n",
              " 'xxwrep',\n",
              " '.',\n",
              " ',',\n",
              " 'i',\n",
              " 'and',\n",
              " 'the',\n",
              " 'to',\n",
              " 'my',\n",
              " 'a',\n",
              " 'of',\n",
              " 'it',\n",
              " 'in',\n",
              " 'pain',\n",
              " 'have',\n",
              " 'for',\n",
              " 'was',\n",
              " 'lipitor',\n",
              " 'this',\n",
              " 'on',\n",
              " 'that',\n",
              " 'not',\n",
              " 'but',\n",
              " 'is',\n",
              " 'with',\n",
              " 'had',\n",
              " 'taking',\n",
              " 'after',\n",
              " '-',\n",
              " 'me',\n",
              " 'drug',\n",
              " 'side',\n",
              " 'muscle',\n",
              " 'effects',\n",
              " 'am',\n",
              " \"n't\",\n",
              " 'all',\n",
              " 'been',\n",
              " 'cholesterol',\n",
              " ')',\n",
              " 'so',\n",
              " '(',\n",
              " 'as',\n",
              " 'back',\n",
              " 'mg',\n",
              " 'be',\n",
              " 'take',\n",
              " 'from',\n",
              " 'no',\n",
              " 'at',\n",
              " 'years',\n",
              " 'now',\n",
              " '/',\n",
              " 'off',\n",
              " 'about',\n",
              " 'has',\n",
              " 'will',\n",
              " '!',\n",
              " 'day',\n",
              " 'months',\n",
              " 'did',\n",
              " 'do',\n",
              " 'like',\n",
              " 'doctor',\n",
              " 'very',\n",
              " 'up',\n",
              " 'started',\n",
              " 'or',\n",
              " 'severe',\n",
              " 'days',\n",
              " 'are',\n",
              " 'when',\n",
              " 'if',\n",
              " 'could',\n",
              " 'stopped',\n",
              " 'symptoms',\n",
              " '3',\n",
              " 'would',\n",
              " 'time',\n",
              " '2',\n",
              " 'took',\n",
              " 'problems',\n",
              " 'also',\n",
              " 'some',\n",
              " 'just',\n",
              " 'went',\n",
              " 'weeks',\n",
              " 'loss',\n",
              " 'can',\n",
              " 'more',\n",
              " 'you',\n",
              " 'any',\n",
              " 'an',\n",
              " 'he',\n",
              " 'then',\n",
              " 'only',\n",
              " 'feel',\n",
              " 'out',\n",
              " 'legs',\n",
              " 'one',\n",
              " 'still',\n",
              " 'by',\n",
              " 'get',\n",
              " \"'s\",\n",
              " 'leg',\n",
              " 'over',\n",
              " 'lower',\n",
              " '10',\n",
              " 'stomach',\n",
              " 'which',\n",
              " 'medication',\n",
              " 'again',\n",
              " 'cramps',\n",
              " 'other',\n",
              " 'they',\n",
              " 'never',\n",
              " 'ago',\n",
              " 'bad',\n",
              " 'before',\n",
              " \"'m\",\n",
              " 'blood',\n",
              " 'week',\n",
              " 'down',\n",
              " 'feeling',\n",
              " 'were',\n",
              " 'better',\n",
              " 'because',\n",
              " 'memory',\n",
              " 'two',\n",
              " 'felt',\n",
              " \"'ve\",\n",
              " 'what',\n",
              " 'walk',\n",
              " 'first',\n",
              " 'fatigue',\n",
              " '5',\n",
              " '&',\n",
              " 'pains',\n",
              " 'feet',\n",
              " 'left',\n",
              " 'high',\n",
              " 'go',\n",
              " 'statin',\n",
              " '4',\n",
              " 'weakness',\n",
              " 'joint',\n",
              " 'these',\n",
              " 'since',\n",
              " '1',\n",
              " ';',\n",
              " 'than',\n",
              " 'life',\n",
              " 'night',\n",
              " 'dr',\n",
              " 'experienced',\n",
              " 'statins',\n",
              " '?',\n",
              " 'extreme',\n",
              " 'much',\n",
              " 'having',\n",
              " 'should',\n",
              " 'know',\n",
              " 'heart',\n",
              " 'going',\n",
              " 'there',\n",
              " 'taken',\n",
              " 'right',\n",
              " '20',\n",
              " 'thought',\n",
              " 'year',\n",
              " 'told',\n",
              " 'well',\n",
              " 'dose',\n",
              " 'within',\n",
              " 'see',\n",
              " 'sleep',\n",
              " 'even',\n",
              " 'who',\n",
              " 'month',\n",
              " 'stop',\n",
              " 'body',\n",
              " 'muscles',\n",
              " 'same',\n",
              " 'few',\n",
              " 'away',\n",
              " 'good',\n",
              " 'work',\n",
              " 'your',\n",
              " 'neck',\n",
              " 'almost',\n",
              " 'aches',\n",
              " 'due',\n",
              " 'said',\n",
              " 'normal',\n",
              " 'depression',\n",
              " 'shoulder',\n",
              " '40',\n",
              " 'put',\n",
              " 'drugs',\n",
              " '6',\n",
              " 'worse',\n",
              " 'last',\n",
              " 'without',\n",
              " 'getting',\n",
              " 'many',\n",
              " 'think',\n",
              " 'people',\n",
              " 'got',\n",
              " 'being',\n",
              " 'arms',\n",
              " 'knee',\n",
              " 'hands',\n",
              " 'cause',\n",
              " 'ldl',\n",
              " 'until',\n",
              " 'really',\n",
              " 'cramping',\n",
              " 'does',\n",
              " 'both',\n",
              " 'another',\n",
              " 'problem',\n",
              " 'too',\n",
              " 'stopping',\n",
              " 'every',\n",
              " 'long',\n",
              " 'levels',\n",
              " 'times',\n",
              " 'bleeding',\n",
              " ':',\n",
              " 'test',\n",
              " 'liver',\n",
              " 'noticed',\n",
              " 'try',\n",
              " 'arm',\n",
              " 'several',\n",
              " 'prescribed',\n",
              " 'help',\n",
              " 'increased',\n",
              " 'hip',\n",
              " 'may',\n",
              " 'reading',\n",
              " 'them',\n",
              " 'damage',\n",
              " 'old',\n",
              " 'gas',\n",
              " 'site',\n",
              " 'found',\n",
              " 'began',\n",
              " 'while',\n",
              " 'experiencing',\n",
              " 'diet',\n",
              " 'developed',\n",
              " 'immediately',\n",
              " 'how',\n",
              " 'morning',\n",
              " 'doctors',\n",
              " 'however',\n",
              " 'most',\n",
              " 'ca',\n",
              " 'sore',\n",
              " 'three',\n",
              " 'exercise',\n",
              " 'lot',\n",
              " 'short',\n",
              " 'tired',\n",
              " 'great',\n",
              " 'gone',\n",
              " 'effect',\n",
              " 'she',\n",
              " 'tests',\n",
              " 'headaches',\n",
              " 'pill',\n",
              " 'lowered',\n",
              " 'tried',\n",
              " 'term',\n",
              " 'caused',\n",
              " 'hours',\n",
              " 'arthrotec',\n",
              " 'next',\n",
              " 'vision',\n",
              " 'use',\n",
              " 'medicine',\n",
              " 'ever',\n",
              " 'low',\n",
              " 'way',\n",
              " 'shoulders',\n",
              " 'bed',\n",
              " 'tingling',\n",
              " 'hurt',\n",
              " 'chest',\n",
              " 'terrible',\n",
              " 'made',\n",
              " 'joints',\n",
              " 'we',\n",
              " 'level',\n",
              " 'nausea',\n",
              " 'find',\n",
              " 'relief',\n",
              " 'knees',\n",
              " 'recommend',\n",
              " 'arthritis',\n",
              " 'came',\n",
              " 'make',\n",
              " 'sure',\n",
              " 'something',\n",
              " 'painful',\n",
              " 'foot',\n",
              " 'abdominal',\n",
              " 'need',\n",
              " 'little',\n",
              " '--',\n",
              " 'results',\n",
              " 'anything',\n",
              " 'walking',\n",
              " 'once',\n",
              " 'worth',\n",
              " 'always',\n",
              " 'though',\n",
              " 'around',\n",
              " 'daily',\n",
              " 'quit',\n",
              " 'recently',\n",
              " 'hair',\n",
              " 'anyone',\n",
              " 'dizziness',\n",
              " 'starting',\n",
              " 'done',\n",
              " 'later',\n",
              " '%',\n",
              " 'pressure',\n",
              " 'especially',\n",
              " 'him',\n",
              " 'things',\n",
              " '8',\n",
              " 'into',\n",
              " 'its',\n",
              " 'myself',\n",
              " 'weight',\n",
              " 'hdl',\n",
              " 'works',\n",
              " 'finally',\n",
              " 'horrible',\n",
              " 'constant',\n",
              " '7',\n",
              " 'elevated',\n",
              " 'read',\n",
              " 'his',\n",
              " 'improvement',\n",
              " 'none',\n",
              " 'stiffness',\n",
              " 'related',\n",
              " 'others',\n",
              " 'reduced',\n",
              " 'diarrhea',\n",
              " 'doc',\n",
              " '80',\n",
              " 'became',\n",
              " 'website',\n",
              " 'lowering',\n",
              " 'doing',\n",
              " 'nothing',\n",
              " 'seems',\n",
              " 'zocor',\n",
              " 'weak',\n",
              " 'insomnia',\n",
              " 'enough',\n",
              " 'say',\n",
              " 'far',\n",
              " 'believe',\n",
              " 'minutes',\n",
              " 'past',\n",
              " 'their',\n",
              " 'family',\n",
              " 'hips',\n",
              " 'skin',\n",
              " 'experience',\n",
              " 'head',\n",
              " 'hope',\n",
              " 'why',\n",
              " 'where',\n",
              " 'extremely',\n",
              " 'attack',\n",
              " 'want',\n",
              " 'calf',\n",
              " 'half',\n",
              " 'total',\n",
              " 'difficulty',\n",
              " 'causing',\n",
              " '\"',\n",
              " 'stuff',\n",
              " 'flu',\n",
              " 'those',\n",
              " 'today',\n",
              " 'toes',\n",
              " 'new',\n",
              " 'similar',\n",
              " 'brain',\n",
              " 'nt',\n",
              " 'upper',\n",
              " 'numbness',\n",
              " 'unable',\n",
              " 'during',\n",
              " 'less',\n",
              " 'couple',\n",
              " 'pills',\n",
              " 'through',\n",
              " 'energy',\n",
              " 'etc',\n",
              " 'spasms',\n",
              " 'using',\n",
              " 'each',\n",
              " 'per',\n",
              " \"'\",\n",
              " 'meds',\n",
              " 'swelling',\n",
              " 'surgery',\n",
              " 'physical',\n",
              " 'headache',\n",
              " 'reaction',\n",
              " 'helped',\n",
              " 'burning',\n",
              " 'job',\n",
              " 'period',\n",
              " 'health',\n",
              " 'keep',\n",
              " 'lack',\n",
              " 'ankles',\n",
              " 'dosage',\n",
              " 'general',\n",
              " 'decided',\n",
              " 'diagnosed',\n",
              " 'trying',\n",
              " 'called',\n",
              " 'voltaren',\n",
              " 'possible',\n",
              " \"'ll\",\n",
              " 'function',\n",
              " 'patients',\n",
              " 'come',\n",
              " 'worked',\n",
              " 'twice',\n",
              " 'dangerous',\n",
              " 'rather',\n",
              " 'second',\n",
              " 'lost',\n",
              " 'natural',\n",
              " 'thinking',\n",
              " 'vaginal',\n",
              " 'point',\n",
              " 'yet',\n",
              " 'balance',\n",
              " 'med',\n",
              " 'fine',\n",
              " 'healthy',\n",
              " 'continue',\n",
              " 'hand',\n",
              " 'else',\n",
              " 'longer',\n",
              " 'such',\n",
              " 'probably',\n",
              " 'used',\n",
              " 'although',\n",
              " 'type',\n",
              " '30',\n",
              " 'gradually',\n",
              " 'triglycerides',\n",
              " 'suffered',\n",
              " '50',\n",
              " 'soreness',\n",
              " 'tiredness',\n",
              " 'start',\n",
              " 'web',\n",
              " 'age',\n",
              " 'fingers',\n",
              " 'anxiety',\n",
              " 'change',\n",
              " 'effective',\n",
              " 'control',\n",
              " 'disease',\n",
              " 'permanent',\n",
              " 'aware',\n",
              " 'completely',\n",
              " 'risk',\n",
              " 'md',\n",
              " 'ache',\n",
              " 'switched',\n",
              " 'dropped',\n",
              " 'mild',\n",
              " 'tell',\n",
              " 'dry',\n",
              " 'eat',\n",
              " 'eye',\n",
              " 'constipation',\n",
              " 'able',\n",
              " 'live',\n",
              " 'bloating',\n",
              " 'big',\n",
              " 'quality',\n",
              " 'worst',\n",
              " 'kidney',\n",
              " 'different',\n",
              " 'medical',\n",
              " 'instead',\n",
              " 'serious',\n",
              " 'her',\n",
              " 'along',\n",
              " '100',\n",
              " 'red',\n",
              " '15',\n",
              " 'might',\n",
              " 'physician',\n",
              " 'market',\n",
              " 'hard',\n",
              " 'major',\n",
              " 'hospital',\n",
              " 'husband',\n",
              " 'research',\n",
              " 'four',\n",
              " 'gain',\n",
              " 'stand',\n",
              " 'face',\n",
              " 'heavy',\n",
              " 'here',\n",
              " 'seemed',\n",
              " 'cold',\n",
              " 'trouble',\n",
              " 'maybe',\n",
              " 'thigh',\n",
              " 'continued',\n",
              " '9',\n",
              " 'reduce',\n",
              " 'changed',\n",
              " 'stairs',\n",
              " 'thank',\n",
              " 'ankle',\n",
              " 'increase',\n",
              " 'active',\n",
              " 'pravachol',\n",
              " 'thing',\n",
              " 'returned',\n",
              " 'feels',\n",
              " 'stay',\n",
              " 'goes',\n",
              " 'alternative',\n",
              " 'sitting',\n",
              " 'calves',\n",
              " 'urine',\n",
              " 'gave',\n",
              " 'cardiologist',\n",
              " 'improved',\n",
              " 'numbers',\n",
              " 'coq10',\n",
              " 'wanted',\n",
              " 'sleeping',\n",
              " 'please',\n",
              " 'yrs',\n",
              " 'seem',\n",
              " 'food',\n",
              " 'given',\n",
              " 'hardly',\n",
              " 'throat',\n",
              " 'helps',\n",
              " 'slowly',\n",
              " 'sick',\n",
              " 'swollen',\n",
              " 'everything',\n",
              " 'cut',\n",
              " 'working',\n",
              " 'upset',\n",
              " 'nearly',\n",
              " 'therapy',\n",
              " 'six',\n",
              " 'reason',\n",
              " 'comments',\n",
              " 'cholestrol',\n",
              " 'decreased',\n",
              " 'totally',\n",
              " 'discomfort',\n",
              " 'improve',\n",
              " 'stiff',\n",
              " 'concerned',\n",
              " 'mentioned',\n",
              " 'self',\n",
              " 'strength',\n",
              " 'suffering',\n",
              " 'intense',\n",
              " 'showed',\n",
              " 'slight',\n",
              " 'adverse',\n",
              " 'depressed',\n",
              " 'ok',\n",
              " 'wo',\n",
              " 'suggested',\n",
              " 'fog',\n",
              " 'pfizer',\n",
              " 'overall',\n",
              " 'says',\n",
              " 'causes',\n",
              " 'medications',\n",
              " 'affects',\n",
              " 'across',\n",
              " '60',\n",
              " 'thighs',\n",
              " 'elbows',\n",
              " 'chronic',\n",
              " 'ended',\n",
              " 'deal',\n",
              " '75',\n",
              " 'connection',\n",
              " 'above',\n",
              " 'elbow',\n",
              " 'us',\n",
              " 'disappeared',\n",
              " 'negative',\n",
              " 'nerve',\n",
              " 'issues',\n",
              " 'between',\n",
              " 'looking',\n",
              " 'including',\n",
              " 'area',\n",
              " 'sensation',\n",
              " '200',\n",
              " 'sudden',\n",
              " 'hour',\n",
              " 'significant',\n",
              " 'light',\n",
              " 'best',\n",
              " 'tightness',\n",
              " 'blurred',\n",
              " 'prescription',\n",
              " 'wake',\n",
              " 'aching',\n",
              " 'subsided',\n",
              " 'eyes',\n",
              " 'mri',\n",
              " 'water',\n",
              " 'own',\n",
              " 'neuropathy',\n",
              " 'rash',\n",
              " 'slightly',\n",
              " 'acid',\n",
              " 'm',\n",
              " 'difference',\n",
              " 'mood',\n",
              " 'syndrome',\n",
              " 'usually',\n",
              " 'listed',\n",
              " 'give',\n",
              " 'making',\n",
              " 'wrong',\n",
              " 'hot',\n",
              " 'history',\n",
              " 'amount',\n",
              " 'look',\n",
              " 'already',\n",
              " 'check',\n",
              " 'vertigo',\n",
              " 'insurance',\n",
              " 'system',\n",
              " 'asked',\n",
              " 'rest',\n",
              " 'happy',\n",
              " 'cpk',\n",
              " 'kept',\n",
              " 'sent',\n",
              " 'mostly',\n",
              " 'breath',\n",
              " 'lots',\n",
              " 'free',\n",
              " 'stress',\n",
              " 's',\n",
              " 'sometimes',\n",
              " 'initially',\n",
              " 'anti',\n",
              " 'result',\n",
              " '12',\n",
              " 'x',\n",
              " 'cycle',\n",
              " 'likely',\n",
              " 'older',\n",
              " 'empty',\n",
              " 'full',\n",
              " 'quite',\n",
              " '90',\n",
              " 'count',\n",
              " 'reflux',\n",
              " 'care',\n",
              " 'scary',\n",
              " 'gp',\n",
              " 'ask',\n",
              " 'mental',\n",
              " 'cancer',\n",
              " 'brought',\n",
              " 'twitching',\n",
              " 'upon',\n",
              " 'poison',\n",
              " 'prior',\n",
              " 'wife',\n",
              " 'drive',\n",
              " 'c',\n",
              " 'diabetes',\n",
              " 'thanks',\n",
              " 'liptor',\n",
              " 'become',\n",
              " 'wonder',\n",
              " '25',\n",
              " 'frequent',\n",
              " 'ability',\n",
              " 'god',\n",
              " 'stroke',\n",
              " 'crestor',\n",
              " 'under',\n",
              " 'early',\n",
              " 'saw',\n",
              " 'fatigued',\n",
              " 'increasing',\n",
              " '45',\n",
              " 'running',\n",
              " 'tendonitis',\n",
              " 'symptons',\n",
              " 'attacks',\n",
              " 'unbearable',\n",
              " 'attributed',\n",
              " 'doses',\n",
              " 'followed',\n",
              " 'otherwise',\n",
              " 'fibromyalgia',\n",
              " 'sense',\n",
              " 'run',\n",
              " 'neurologist',\n",
              " 'constantly',\n",
              " 'vitamin',\n",
              " 'changes',\n",
              " 'zetia',\n",
              " 'heel',\n",
              " 'hit',\n",
              " 'exhaustion',\n",
              " 'company',\n",
              " 'companies',\n",
              " 'spent',\n",
              " 'room',\n",
              " 'class',\n",
              " 'bit',\n",
              " 'move',\n",
              " 'pretty',\n",
              " 'tricor',\n",
              " 'bp',\n",
              " '24',\n",
              " 'information',\n",
              " 'guess',\n",
              " 'inability',\n",
              " 'sit',\n",
              " '11',\n",
              " 'swallowing',\n",
              " 'dark',\n",
              " 'rate',\n",
              " 'ran',\n",
              " 'seen',\n",
              " 'small',\n",
              " 'number',\n",
              " 'reduction',\n",
              " 'reactions',\n",
              " 'glad',\n",
              " 'difficult',\n",
              " 'internet',\n",
              " 'soon',\n",
              " 'mouth',\n",
              " 'return',\n",
              " '+',\n",
              " 'recommended',\n",
              " 'tendon',\n",
              " 'notice',\n",
              " 'als',\n",
              " 'numb',\n",
              " 'suddenly',\n",
              " 'possibly',\n",
              " '300',\n",
              " 'range',\n",
              " 'complaints',\n",
              " 'someone',\n",
              " 'actually',\n",
              " 'excellent',\n",
              " 'suffer',\n",
              " 'shortness',\n",
              " 'vomiting',\n",
              " 'seeing',\n",
              " 'mother',\n",
              " 'part',\n",
              " 'onset',\n",
              " 'makes',\n",
              " 'often',\n",
              " 'waiting',\n",
              " 'minor',\n",
              " 'rays',\n",
              " 'must',\n",
              " 'visit',\n",
              " 'speech',\n",
              " 'tight',\n",
              " 'realize',\n",
              " 'entire',\n",
              " 'appetite',\n",
              " 'person',\n",
              " 'quickly',\n",
              " 'safe',\n",
              " 'unless',\n",
              " 'ratio',\n",
              " 'parkinson',\n",
              " 'alot',\n",
              " 'gym',\n",
              " 'everyone',\n",
              " 'sweating',\n",
              " 'mine',\n",
              " 'tested',\n",
              " 'wish',\n",
              " 'idea',\n",
              " 'barely',\n",
              " 'afraid',\n",
              " 'walked',\n",
              " 'taste',\n",
              " 'definitely',\n",
              " 'cleared',\n",
              " 'discontinued',\n",
              " 'restless',\n",
              " 'needed',\n",
              " 'consider',\n",
              " 'sinus',\n",
              " 'patient',\n",
              " 'waking',\n",
              " 'concentration',\n",
              " 'previously',\n",
              " 'greatly',\n",
              " 'ruined',\n",
              " 'beginning',\n",
              " 'weird',\n",
              " 'awful',\n",
              " 'informed',\n",
              " 'toe',\n",
              " 'co',\n",
              " 'eating',\n",
              " 'following',\n",
              " 'real',\n",
              " 'checked',\n",
              " 'infections',\n",
              " 'whole',\n",
              " 'w',\n",
              " 'hoping',\n",
              " 'realized',\n",
              " 'breathing',\n",
              " 'er',\n",
              " 'noted',\n",
              " 'supplements',\n",
              " 'bring',\n",
              " 'menstrual',\n",
              " 'our',\n",
              " 'specialist',\n",
              " 'knew',\n",
              " 'dizzy',\n",
              " 'rarely',\n",
              " 'anymore',\n",
              " '70',\n",
              " 'sides',\n",
              " 'primary',\n",
              " 'begin',\n",
              " 'higher',\n",
              " 'lupus',\n",
              " 'benefits',\n",
              " 'foggy',\n",
              " 'evening',\n",
              " 'against',\n",
              " 'sex',\n",
              " 'somewhat',\n",
              " 'tolerate',\n",
              " 'touch',\n",
              " 'inflammation',\n",
              " 'infection',\n",
              " 'steps',\n",
              " 'falling',\n",
              " 'lasted',\n",
              " 'cough',\n",
              " 'answer',\n",
              " \"'d\",\n",
              " 'post',\n",
              " 'ten',\n",
              " 'therefore',\n",
              " 'wrist',\n",
              " 'advice',\n",
              " 'deep',\n",
              " 'hell',\n",
              " 'emergency',\n",
              " 'together',\n",
              " 'recover',\n",
              " 'female',\n",
              " 'pounds',\n",
              " 'fit',\n",
              " 'periods',\n",
              " 'itching',\n",
              " 'subside',\n",
              " 'least',\n",
              " '[',\n",
              " 'yr',\n",
              " 'happened',\n",
              " 'immediate',\n",
              " 'remember',\n",
              " 'kind',\n",
              " 'call',\n",
              " 'excruciating',\n",
              " 'case',\n",
              " 'ms',\n",
              " 'strange',\n",
              " 'known',\n",
              " 'sugar',\n",
              " 'celebrex',\n",
              " 'hunger',\n",
              " 'die',\n",
              " 'suicide',\n",
              " 'diabetic',\n",
              " 'below',\n",
              " 'abdomen',\n",
              " 'runs',\n",
              " 'important',\n",
              " 'swings',\n",
              " 'gout',\n",
              " 'condition',\n",
              " 'fell',\n",
              " 'lift',\n",
              " 'end',\n",
              " 'occasional',\n",
              " 'itchy',\n",
              " 'father',\n",
              " 'fear',\n",
              " 'symtoms',\n",
              " 'particularly',\n",
              " 'course',\n",
              " 'ached',\n",
              " 'sever',\n",
              " 'approx',\n",
              " 'women',\n",
              " 'reported',\n",
              " 'treatment',\n",
              " 'except',\n",
              " 'follow',\n",
              " 'comes',\n",
              " 'excercise',\n",
              " 'happens',\n",
              " 'yeast',\n",
              " 'nights',\n",
              " 'perfect',\n",
              " 'passed',\n",
              " 'miles',\n",
              " 'attention',\n",
              " 'tablet',\n",
              " 'bowel',\n",
              " 'study',\n",
              " 'lbs',\n",
              " 'fat',\n",
              " 'discontinue',\n",
              " 'opinion',\n",
              " 'dreams',\n",
              " 'death',\n",
              " 'cholesteral',\n",
              " 'poor',\n",
              " 'niacin',\n",
              " 'loose',\n",
              " 'standing',\n",
              " 'pulse',\n",
              " 'telling',\n",
              " 'rice',\n",
              " 'allergic',\n",
              " 'significantly',\n",
              " 'chances',\n",
              " 'readings',\n",
              " 'fast',\n",
              " 'giving',\n",
              " 'normally',\n",
              " 'menopausal',\n",
              " 'prevent',\n",
              " 'top',\n",
              " 'close',\n",
              " 'muscular',\n",
              " 'areas',\n",
              " 'tremor',\n",
              " 'apparently',\n",
              " 'panic',\n",
              " 'complained',\n",
              " 'paranoia',\n",
              " 'occasionally',\n",
              " '48',\n",
              " 'list',\n",
              " 'horses',\n",
              " '150',\n",
              " 'supposed',\n",
              " 'appointment',\n",
              " 'confusion',\n",
              " ...]"
            ]
          },
          "metadata": {
            "tags": []
          },
          "execution_count": 20
        }
      ]
    },
    {
      "cell_type": "code",
      "metadata": {
        "id": "yPWr03mls3VT",
        "colab_type": "code",
        "colab": {}
      },
      "source": [
        "model_path = path/'models'\n",
        "model_path.mkdir(exist_ok=True)\n",
        "url = 'http://files.fast.ai/models/wt103_v1/'\n",
        "download_url(f'{url}lstm_wt103.pth', model_path/'lstm_wt103.pth')\n",
        "download_url(f'{url}itos_wt103.pkl', model_path/'itos_wt103.pkl')"
      ],
      "execution_count": 0,
      "outputs": []
    },
    {
      "cell_type": "code",
      "metadata": {
        "id": "JRzvWg8RtGGr",
        "colab_type": "code",
        "colab": {}
      },
      "source": [
        "learn = language_model_learner(data_lm, AWD_LSTM, drop_mult=0.5)"
      ],
      "execution_count": 0,
      "outputs": []
    },
    {
      "cell_type": "code",
      "metadata": {
        "id": "xKK7GeBev7Xn",
        "colab_type": "code",
        "outputId": "f0bfd224-d02c-44b5-d730-0a1fed618e55",
        "colab": {
          "base_uri": "https://localhost:8080/",
          "height": 80
        }
      },
      "source": [
        "learn.fit_one_cycle(1, 1e-2)"
      ],
      "execution_count": 23,
      "outputs": [
        {
          "output_type": "display_data",
          "data": {
            "text/html": [
              "<table border=\"1\" class=\"dataframe\">\n",
              "  <thead>\n",
              "    <tr style=\"text-align: left;\">\n",
              "      <th>epoch</th>\n",
              "      <th>train_loss</th>\n",
              "      <th>valid_loss</th>\n",
              "      <th>accuracy</th>\n",
              "      <th>time</th>\n",
              "    </tr>\n",
              "  </thead>\n",
              "  <tbody>\n",
              "    <tr>\n",
              "      <td>0</td>\n",
              "      <td>4.827325</td>\n",
              "      <td>4.164905</td>\n",
              "      <td>0.211384</td>\n",
              "      <td>03:42</td>\n",
              "    </tr>\n",
              "  </tbody>\n",
              "</table>"
            ],
            "text/plain": [
              "<IPython.core.display.HTML object>"
            ]
          },
          "metadata": {
            "tags": []
          }
        }
      ]
    },
    {
      "cell_type": "code",
      "metadata": {
        "id": "iB7rHGQCwd12",
        "colab_type": "code",
        "outputId": "e8e32c1a-ad45-4c49-9e49-8363e440eff0",
        "colab": {
          "base_uri": "https://localhost:8080/",
          "height": 80
        }
      },
      "source": [
        "learn.fit_one_cycle(1, 1e-2)"
      ],
      "execution_count": 24,
      "outputs": [
        {
          "output_type": "display_data",
          "data": {
            "text/html": [
              "<table border=\"1\" class=\"dataframe\">\n",
              "  <thead>\n",
              "    <tr style=\"text-align: left;\">\n",
              "      <th>epoch</th>\n",
              "      <th>train_loss</th>\n",
              "      <th>valid_loss</th>\n",
              "      <th>accuracy</th>\n",
              "      <th>time</th>\n",
              "    </tr>\n",
              "  </thead>\n",
              "  <tbody>\n",
              "    <tr>\n",
              "      <td>0</td>\n",
              "      <td>3.971205</td>\n",
              "      <td>3.693637</td>\n",
              "      <td>0.300446</td>\n",
              "      <td>03:40</td>\n",
              "    </tr>\n",
              "  </tbody>\n",
              "</table>"
            ],
            "text/plain": [
              "<IPython.core.display.HTML object>"
            ]
          },
          "metadata": {
            "tags": []
          }
        }
      ]
    },
    {
      "cell_type": "code",
      "metadata": {
        "id": "_BnSuAeCwkBe",
        "colab_type": "code",
        "outputId": "e374dcba-b903-4d84-b56f-004b8afb1ff3",
        "colab": {
          "base_uri": "https://localhost:8080/",
          "height": 80
        }
      },
      "source": [
        "learn.fit_one_cycle(1, 1e-3)"
      ],
      "execution_count": 25,
      "outputs": [
        {
          "output_type": "display_data",
          "data": {
            "text/html": [
              "<table border=\"1\" class=\"dataframe\">\n",
              "  <thead>\n",
              "    <tr style=\"text-align: left;\">\n",
              "      <th>epoch</th>\n",
              "      <th>train_loss</th>\n",
              "      <th>valid_loss</th>\n",
              "      <th>accuracy</th>\n",
              "      <th>time</th>\n",
              "    </tr>\n",
              "  </thead>\n",
              "  <tbody>\n",
              "    <tr>\n",
              "      <td>0</td>\n",
              "      <td>3.706580</td>\n",
              "      <td>3.661636</td>\n",
              "      <td>0.304592</td>\n",
              "      <td>03:41</td>\n",
              "    </tr>\n",
              "  </tbody>\n",
              "</table>"
            ],
            "text/plain": [
              "<IPython.core.display.HTML object>"
            ]
          },
          "metadata": {
            "tags": []
          }
        }
      ]
    },
    {
      "cell_type": "code",
      "metadata": {
        "id": "MuTm-RFjwrEX",
        "colab_type": "code",
        "outputId": "b3e82872-0e27-45a6-ffff-b3ea6c209fbf",
        "colab": {
          "base_uri": "https://localhost:8080/",
          "height": 80
        }
      },
      "source": [
        "learn.fit_one_cycle(1, 1e-3)"
      ],
      "execution_count": 26,
      "outputs": [
        {
          "output_type": "display_data",
          "data": {
            "text/html": [
              "<table border=\"1\" class=\"dataframe\">\n",
              "  <thead>\n",
              "    <tr style=\"text-align: left;\">\n",
              "      <th>epoch</th>\n",
              "      <th>train_loss</th>\n",
              "      <th>valid_loss</th>\n",
              "      <th>accuracy</th>\n",
              "      <th>time</th>\n",
              "    </tr>\n",
              "  </thead>\n",
              "  <tbody>\n",
              "    <tr>\n",
              "      <td>0</td>\n",
              "      <td>3.674934</td>\n",
              "      <td>3.639494</td>\n",
              "      <td>0.306952</td>\n",
              "      <td>03:41</td>\n",
              "    </tr>\n",
              "  </tbody>\n",
              "</table>"
            ],
            "text/plain": [
              "<IPython.core.display.HTML object>"
            ]
          },
          "metadata": {
            "tags": []
          }
        }
      ]
    },
    {
      "cell_type": "code",
      "metadata": {
        "id": "1Er2ExO8wr7Y",
        "colab_type": "code",
        "colab": {}
      },
      "source": [
        "learn.save_encoder('AskAPatient_overlap_40_first')"
      ],
      "execution_count": 0,
      "outputs": []
    },
    {
      "cell_type": "code",
      "metadata": {
        "id": "z52cZs2qwvad",
        "colab_type": "code",
        "outputId": "46eb6852-7ede-47b7-bec0-bf5e24a6ca85",
        "colab": {
          "base_uri": "https://localhost:8080/",
          "height": 80
        }
      },
      "source": [
        "learn = text_classifier_learner(data_clas,AWD_LSTM, drop_mult=0.5)\n",
        "learn.load_encoder('AskAPatient_overlap_40_first')\n",
        "learn.fit_one_cycle(1, 1e-2)"
      ],
      "execution_count": 28,
      "outputs": [
        {
          "output_type": "display_data",
          "data": {
            "text/html": [
              "<table border=\"1\" class=\"dataframe\">\n",
              "  <thead>\n",
              "    <tr style=\"text-align: left;\">\n",
              "      <th>epoch</th>\n",
              "      <th>train_loss</th>\n",
              "      <th>valid_loss</th>\n",
              "      <th>accuracy</th>\n",
              "      <th>time</th>\n",
              "    </tr>\n",
              "  </thead>\n",
              "  <tbody>\n",
              "    <tr>\n",
              "      <td>0</td>\n",
              "      <td>3.945650</td>\n",
              "      <td>3.638984</td>\n",
              "      <td>0.378698</td>\n",
              "      <td>01:12</td>\n",
              "    </tr>\n",
              "  </tbody>\n",
              "</table>"
            ],
            "text/plain": [
              "<IPython.core.display.HTML object>"
            ]
          },
          "metadata": {
            "tags": []
          }
        }
      ]
    },
    {
      "cell_type": "code",
      "metadata": {
        "id": "ImwQP1PJwzxd",
        "colab_type": "code",
        "outputId": "ebcb0412-bbf2-44e6-f6ad-8864c8fd4b86",
        "colab": {
          "base_uri": "https://localhost:8080/",
          "height": 80
        }
      },
      "source": [
        "learn.freeze_to(-2)\n",
        "learn.fit_one_cycle(1, slice(5e-3/2., 5e-3))"
      ],
      "execution_count": 29,
      "outputs": [
        {
          "output_type": "display_data",
          "data": {
            "text/html": [
              "<table border=\"1\" class=\"dataframe\">\n",
              "  <thead>\n",
              "    <tr style=\"text-align: left;\">\n",
              "      <th>epoch</th>\n",
              "      <th>train_loss</th>\n",
              "      <th>valid_loss</th>\n",
              "      <th>accuracy</th>\n",
              "      <th>time</th>\n",
              "    </tr>\n",
              "  </thead>\n",
              "  <tbody>\n",
              "    <tr>\n",
              "      <td>0</td>\n",
              "      <td>2.893584</td>\n",
              "      <td>3.093047</td>\n",
              "      <td>0.472189</td>\n",
              "      <td>01:17</td>\n",
              "    </tr>\n",
              "  </tbody>\n",
              "</table>"
            ],
            "text/plain": [
              "<IPython.core.display.HTML object>"
            ]
          },
          "metadata": {
            "tags": []
          }
        }
      ]
    },
    {
      "cell_type": "code",
      "metadata": {
        "id": "Owff_BJXw53u",
        "colab_type": "code",
        "outputId": "93c43a3c-2a38-4a3a-80e3-2d09ca34f9f8",
        "colab": {
          "base_uri": "https://localhost:8080/",
          "height": 80
        }
      },
      "source": [
        "learn.unfreeze()\n",
        "learn.fit_one_cycle(1, slice(2e-3/100, 2e-3))"
      ],
      "execution_count": 30,
      "outputs": [
        {
          "output_type": "display_data",
          "data": {
            "text/html": [
              "<table border=\"1\" class=\"dataframe\">\n",
              "  <thead>\n",
              "    <tr style=\"text-align: left;\">\n",
              "      <th>epoch</th>\n",
              "      <th>train_loss</th>\n",
              "      <th>valid_loss</th>\n",
              "      <th>accuracy</th>\n",
              "      <th>time</th>\n",
              "    </tr>\n",
              "  </thead>\n",
              "  <tbody>\n",
              "    <tr>\n",
              "      <td>0</td>\n",
              "      <td>2.391472</td>\n",
              "      <td>2.636271</td>\n",
              "      <td>0.558580</td>\n",
              "      <td>03:38</td>\n",
              "    </tr>\n",
              "  </tbody>\n",
              "</table>"
            ],
            "text/plain": [
              "<IPython.core.display.HTML object>"
            ]
          },
          "metadata": {
            "tags": []
          }
        }
      ]
    },
    {
      "cell_type": "code",
      "metadata": {
        "id": "lqAyu56V8Waq",
        "colab_type": "code",
        "outputId": "4403d6cb-6031-475c-c346-a654108199a6",
        "colab": {
          "base_uri": "https://localhost:8080/",
          "height": 111
        }
      },
      "source": [
        "learn.fit_one_cycle(2, slice(2e-3/100, 2e-3))"
      ],
      "execution_count": 31,
      "outputs": [
        {
          "output_type": "display_data",
          "data": {
            "text/html": [
              "<table border=\"1\" class=\"dataframe\">\n",
              "  <thead>\n",
              "    <tr style=\"text-align: left;\">\n",
              "      <th>epoch</th>\n",
              "      <th>train_loss</th>\n",
              "      <th>valid_loss</th>\n",
              "      <th>accuracy</th>\n",
              "      <th>time</th>\n",
              "    </tr>\n",
              "  </thead>\n",
              "  <tbody>\n",
              "    <tr>\n",
              "      <td>0</td>\n",
              "      <td>2.008827</td>\n",
              "      <td>2.346108</td>\n",
              "      <td>0.604734</td>\n",
              "      <td>03:27</td>\n",
              "    </tr>\n",
              "    <tr>\n",
              "      <td>1</td>\n",
              "      <td>1.808401</td>\n",
              "      <td>2.212514</td>\n",
              "      <td>0.628402</td>\n",
              "      <td>03:26</td>\n",
              "    </tr>\n",
              "  </tbody>\n",
              "</table>"
            ],
            "text/plain": [
              "<IPython.core.display.HTML object>"
            ]
          },
          "metadata": {
            "tags": []
          }
        }
      ]
    },
    {
      "cell_type": "code",
      "metadata": {
        "id": "a7I1xMRp8bUd",
        "colab_type": "code",
        "outputId": "0c3ecd6d-3a73-4ce4-be4f-3814bcb82158",
        "colab": {
          "base_uri": "https://localhost:8080/",
          "height": 111
        }
      },
      "source": [
        "learn.fit_one_cycle(2, slice(2e-3/100, 2e-3))"
      ],
      "execution_count": 32,
      "outputs": [
        {
          "output_type": "display_data",
          "data": {
            "text/html": [
              "<table border=\"1\" class=\"dataframe\">\n",
              "  <thead>\n",
              "    <tr style=\"text-align: left;\">\n",
              "      <th>epoch</th>\n",
              "      <th>train_loss</th>\n",
              "      <th>valid_loss</th>\n",
              "      <th>accuracy</th>\n",
              "      <th>time</th>\n",
              "    </tr>\n",
              "  </thead>\n",
              "  <tbody>\n",
              "    <tr>\n",
              "      <td>0</td>\n",
              "      <td>1.616460</td>\n",
              "      <td>2.002117</td>\n",
              "      <td>0.661538</td>\n",
              "      <td>03:35</td>\n",
              "    </tr>\n",
              "    <tr>\n",
              "      <td>1</td>\n",
              "      <td>1.384926</td>\n",
              "      <td>1.883578</td>\n",
              "      <td>0.681657</td>\n",
              "      <td>03:39</td>\n",
              "    </tr>\n",
              "  </tbody>\n",
              "</table>"
            ],
            "text/plain": [
              "<IPython.core.display.HTML object>"
            ]
          },
          "metadata": {
            "tags": []
          }
        }
      ]
    },
    {
      "cell_type": "code",
      "metadata": {
        "id": "UAnti-XmGVfO",
        "colab_type": "code",
        "outputId": "20218f1d-c04e-4a2a-aff0-0859ca20caee",
        "colab": {
          "base_uri": "https://localhost:8080/",
          "height": 111
        }
      },
      "source": [
        "learn.fit_one_cycle(2, slice(2e-3/100, 2e-3))"
      ],
      "execution_count": 33,
      "outputs": [
        {
          "output_type": "display_data",
          "data": {
            "text/html": [
              "<table border=\"1\" class=\"dataframe\">\n",
              "  <thead>\n",
              "    <tr style=\"text-align: left;\">\n",
              "      <th>epoch</th>\n",
              "      <th>train_loss</th>\n",
              "      <th>valid_loss</th>\n",
              "      <th>accuracy</th>\n",
              "      <th>time</th>\n",
              "    </tr>\n",
              "  </thead>\n",
              "  <tbody>\n",
              "    <tr>\n",
              "      <td>0</td>\n",
              "      <td>1.305834</td>\n",
              "      <td>1.771192</td>\n",
              "      <td>0.691124</td>\n",
              "      <td>03:40</td>\n",
              "    </tr>\n",
              "    <tr>\n",
              "      <td>1</td>\n",
              "      <td>1.228373</td>\n",
              "      <td>1.697316</td>\n",
              "      <td>0.711243</td>\n",
              "      <td>03:36</td>\n",
              "    </tr>\n",
              "  </tbody>\n",
              "</table>"
            ],
            "text/plain": [
              "<IPython.core.display.HTML object>"
            ]
          },
          "metadata": {
            "tags": []
          }
        }
      ]
    },
    {
      "cell_type": "code",
      "metadata": {
        "id": "bIft7W25GwSu",
        "colab_type": "code",
        "outputId": "4d5482e1-cc5d-4b61-8106-9bcea8aa46da",
        "colab": {
          "base_uri": "https://localhost:8080/",
          "height": 111
        }
      },
      "source": [
        "learn.fit_one_cycle(2, slice(2e-3/100, 2e-3))"
      ],
      "execution_count": 34,
      "outputs": [
        {
          "output_type": "display_data",
          "data": {
            "text/html": [
              "<table border=\"1\" class=\"dataframe\">\n",
              "  <thead>\n",
              "    <tr style=\"text-align: left;\">\n",
              "      <th>epoch</th>\n",
              "      <th>train_loss</th>\n",
              "      <th>valid_loss</th>\n",
              "      <th>accuracy</th>\n",
              "      <th>time</th>\n",
              "    </tr>\n",
              "  </thead>\n",
              "  <tbody>\n",
              "    <tr>\n",
              "      <td>0</td>\n",
              "      <td>1.144468</td>\n",
              "      <td>1.712960</td>\n",
              "      <td>0.717160</td>\n",
              "      <td>03:41</td>\n",
              "    </tr>\n",
              "    <tr>\n",
              "      <td>1</td>\n",
              "      <td>1.030237</td>\n",
              "      <td>1.604352</td>\n",
              "      <td>0.731361</td>\n",
              "      <td>03:36</td>\n",
              "    </tr>\n",
              "  </tbody>\n",
              "</table>"
            ],
            "text/plain": [
              "<IPython.core.display.HTML object>"
            ]
          },
          "metadata": {
            "tags": []
          }
        }
      ]
    },
    {
      "cell_type": "code",
      "metadata": {
        "id": "EEHszVRvGyFt",
        "colab_type": "code",
        "outputId": "7161a3ee-68cc-4e09-ac3a-98035b8dc055",
        "colab": {
          "base_uri": "https://localhost:8080/",
          "height": 111
        }
      },
      "source": [
        "learn.fit_one_cycle(2, slice(2e-3/100, 2e-3))"
      ],
      "execution_count": 35,
      "outputs": [
        {
          "output_type": "display_data",
          "data": {
            "text/html": [
              "<table border=\"1\" class=\"dataframe\">\n",
              "  <thead>\n",
              "    <tr style=\"text-align: left;\">\n",
              "      <th>epoch</th>\n",
              "      <th>train_loss</th>\n",
              "      <th>valid_loss</th>\n",
              "      <th>accuracy</th>\n",
              "      <th>time</th>\n",
              "    </tr>\n",
              "  </thead>\n",
              "  <tbody>\n",
              "    <tr>\n",
              "      <td>0</td>\n",
              "      <td>1.031967</td>\n",
              "      <td>1.540394</td>\n",
              "      <td>0.737278</td>\n",
              "      <td>03:32</td>\n",
              "    </tr>\n",
              "    <tr>\n",
              "      <td>1</td>\n",
              "      <td>0.869261</td>\n",
              "      <td>1.492806</td>\n",
              "      <td>0.752663</td>\n",
              "      <td>03:39</td>\n",
              "    </tr>\n",
              "  </tbody>\n",
              "</table>"
            ],
            "text/plain": [
              "<IPython.core.display.HTML object>"
            ]
          },
          "metadata": {
            "tags": []
          }
        }
      ]
    },
    {
      "cell_type": "code",
      "metadata": {
        "id": "XsHfrhCHG3dN",
        "colab_type": "code",
        "outputId": "4f654856-2f55-4b1d-dcae-f086ee203eef",
        "colab": {
          "base_uri": "https://localhost:8080/",
          "height": 173
        }
      },
      "source": [
        "learn.fit_one_cycle(4, slice(2e-3/100, 2e-3))"
      ],
      "execution_count": 36,
      "outputs": [
        {
          "output_type": "display_data",
          "data": {
            "text/html": [
              "<table border=\"1\" class=\"dataframe\">\n",
              "  <thead>\n",
              "    <tr style=\"text-align: left;\">\n",
              "      <th>epoch</th>\n",
              "      <th>train_loss</th>\n",
              "      <th>valid_loss</th>\n",
              "      <th>accuracy</th>\n",
              "      <th>time</th>\n",
              "    </tr>\n",
              "  </thead>\n",
              "  <tbody>\n",
              "    <tr>\n",
              "      <td>0</td>\n",
              "      <td>0.865778</td>\n",
              "      <td>1.509998</td>\n",
              "      <td>0.755030</td>\n",
              "      <td>03:22</td>\n",
              "    </tr>\n",
              "    <tr>\n",
              "      <td>1</td>\n",
              "      <td>0.887559</td>\n",
              "      <td>1.429606</td>\n",
              "      <td>0.764497</td>\n",
              "      <td>03:22</td>\n",
              "    </tr>\n",
              "    <tr>\n",
              "      <td>2</td>\n",
              "      <td>0.792462</td>\n",
              "      <td>1.451192</td>\n",
              "      <td>0.770414</td>\n",
              "      <td>03:27</td>\n",
              "    </tr>\n",
              "    <tr>\n",
              "      <td>3</td>\n",
              "      <td>0.698869</td>\n",
              "      <td>1.455380</td>\n",
              "      <td>0.771598</td>\n",
              "      <td>03:26</td>\n",
              "    </tr>\n",
              "  </tbody>\n",
              "</table>"
            ],
            "text/plain": [
              "<IPython.core.display.HTML object>"
            ]
          },
          "metadata": {
            "tags": []
          }
        }
      ]
    },
    {
      "cell_type": "code",
      "metadata": {
        "id": "0Zsd99isb9EQ",
        "colab_type": "code",
        "outputId": "92e12b36-53ef-466a-cb6c-45ddf3895fed",
        "colab": {
          "base_uri": "https://localhost:8080/",
          "height": 173
        }
      },
      "source": [
        "learn.fit_one_cycle(4, slice(2e-3/100, 2e-3))"
      ],
      "execution_count": 37,
      "outputs": [
        {
          "output_type": "display_data",
          "data": {
            "text/html": [
              "<table border=\"1\" class=\"dataframe\">\n",
              "  <thead>\n",
              "    <tr style=\"text-align: left;\">\n",
              "      <th>epoch</th>\n",
              "      <th>train_loss</th>\n",
              "      <th>valid_loss</th>\n",
              "      <th>accuracy</th>\n",
              "      <th>time</th>\n",
              "    </tr>\n",
              "  </thead>\n",
              "  <tbody>\n",
              "    <tr>\n",
              "      <td>0</td>\n",
              "      <td>0.704268</td>\n",
              "      <td>1.380344</td>\n",
              "      <td>0.771598</td>\n",
              "      <td>03:34</td>\n",
              "    </tr>\n",
              "    <tr>\n",
              "      <td>1</td>\n",
              "      <td>0.725956</td>\n",
              "      <td>1.399439</td>\n",
              "      <td>0.769231</td>\n",
              "      <td>03:52</td>\n",
              "    </tr>\n",
              "    <tr>\n",
              "      <td>2</td>\n",
              "      <td>0.638360</td>\n",
              "      <td>1.378656</td>\n",
              "      <td>0.785799</td>\n",
              "      <td>03:53</td>\n",
              "    </tr>\n",
              "    <tr>\n",
              "      <td>3</td>\n",
              "      <td>0.589785</td>\n",
              "      <td>1.384297</td>\n",
              "      <td>0.784615</td>\n",
              "      <td>03:52</td>\n",
              "    </tr>\n",
              "  </tbody>\n",
              "</table>"
            ],
            "text/plain": [
              "<IPython.core.display.HTML object>"
            ]
          },
          "metadata": {
            "tags": []
          }
        }
      ]
    },
    {
      "cell_type": "code",
      "metadata": {
        "id": "atNWNKDFPbuI",
        "colab_type": "code",
        "outputId": "6efde79c-a28e-45e6-d582-1bb7227e97a5",
        "colab": {
          "base_uri": "https://localhost:8080/",
          "height": 173
        }
      },
      "source": [
        "learn.fit_one_cycle(4, slice(2e-3/100, 2e-3))"
      ],
      "execution_count": 38,
      "outputs": [
        {
          "output_type": "display_data",
          "data": {
            "text/html": [
              "<table border=\"1\" class=\"dataframe\">\n",
              "  <thead>\n",
              "    <tr style=\"text-align: left;\">\n",
              "      <th>epoch</th>\n",
              "      <th>train_loss</th>\n",
              "      <th>valid_loss</th>\n",
              "      <th>accuracy</th>\n",
              "      <th>time</th>\n",
              "    </tr>\n",
              "  </thead>\n",
              "  <tbody>\n",
              "    <tr>\n",
              "      <td>0</td>\n",
              "      <td>0.617069</td>\n",
              "      <td>1.397273</td>\n",
              "      <td>0.778698</td>\n",
              "      <td>03:49</td>\n",
              "    </tr>\n",
              "    <tr>\n",
              "      <td>1</td>\n",
              "      <td>0.650933</td>\n",
              "      <td>1.407109</td>\n",
              "      <td>0.785799</td>\n",
              "      <td>03:38</td>\n",
              "    </tr>\n",
              "    <tr>\n",
              "      <td>2</td>\n",
              "      <td>0.577132</td>\n",
              "      <td>1.380855</td>\n",
              "      <td>0.788166</td>\n",
              "      <td>03:13</td>\n",
              "    </tr>\n",
              "    <tr>\n",
              "      <td>3</td>\n",
              "      <td>0.547593</td>\n",
              "      <td>1.417001</td>\n",
              "      <td>0.790533</td>\n",
              "      <td>03:41</td>\n",
              "    </tr>\n",
              "  </tbody>\n",
              "</table>"
            ],
            "text/plain": [
              "<IPython.core.display.HTML object>"
            ]
          },
          "metadata": {
            "tags": []
          }
        }
      ]
    },
    {
      "cell_type": "code",
      "metadata": {
        "id": "rKrBTZ0T1uVA",
        "colab_type": "code",
        "outputId": "59abcdcd-eb7a-42fd-fb77-af680552c05d",
        "colab": {
          "base_uri": "https://localhost:8080/",
          "height": 173
        }
      },
      "source": [
        "learn.fit_one_cycle(4, slice(2e-3/100, 2e-3))"
      ],
      "execution_count": 39,
      "outputs": [
        {
          "output_type": "display_data",
          "data": {
            "text/html": [
              "<table border=\"1\" class=\"dataframe\">\n",
              "  <thead>\n",
              "    <tr style=\"text-align: left;\">\n",
              "      <th>epoch</th>\n",
              "      <th>train_loss</th>\n",
              "      <th>valid_loss</th>\n",
              "      <th>accuracy</th>\n",
              "      <th>time</th>\n",
              "    </tr>\n",
              "  </thead>\n",
              "  <tbody>\n",
              "    <tr>\n",
              "      <td>0</td>\n",
              "      <td>0.530246</td>\n",
              "      <td>1.419769</td>\n",
              "      <td>0.786982</td>\n",
              "      <td>03:41</td>\n",
              "    </tr>\n",
              "    <tr>\n",
              "      <td>1</td>\n",
              "      <td>0.581107</td>\n",
              "      <td>1.411913</td>\n",
              "      <td>0.784615</td>\n",
              "      <td>03:45</td>\n",
              "    </tr>\n",
              "    <tr>\n",
              "      <td>2</td>\n",
              "      <td>0.566482</td>\n",
              "      <td>1.416337</td>\n",
              "      <td>0.790533</td>\n",
              "      <td>03:19</td>\n",
              "    </tr>\n",
              "    <tr>\n",
              "      <td>3</td>\n",
              "      <td>0.498947</td>\n",
              "      <td>1.415924</td>\n",
              "      <td>0.781065</td>\n",
              "      <td>03:28</td>\n",
              "    </tr>\n",
              "  </tbody>\n",
              "</table>"
            ],
            "text/plain": [
              "<IPython.core.display.HTML object>"
            ]
          },
          "metadata": {
            "tags": []
          }
        }
      ]
    },
    {
      "cell_type": "code",
      "metadata": {
        "id": "l49hlnWh3Ttc",
        "colab_type": "code",
        "outputId": "6b4da6bb-d081-4647-da66-36bb5d4d2252",
        "colab": {
          "base_uri": "https://localhost:8080/",
          "height": 173
        }
      },
      "source": [
        "learn.fit_one_cycle(4, slice(2e-3/100, 2e-3))"
      ],
      "execution_count": 40,
      "outputs": [
        {
          "output_type": "display_data",
          "data": {
            "text/html": [
              "<table border=\"1\" class=\"dataframe\">\n",
              "  <thead>\n",
              "    <tr style=\"text-align: left;\">\n",
              "      <th>epoch</th>\n",
              "      <th>train_loss</th>\n",
              "      <th>valid_loss</th>\n",
              "      <th>accuracy</th>\n",
              "      <th>time</th>\n",
              "    </tr>\n",
              "  </thead>\n",
              "  <tbody>\n",
              "    <tr>\n",
              "      <td>0</td>\n",
              "      <td>0.507967</td>\n",
              "      <td>1.437233</td>\n",
              "      <td>0.783432</td>\n",
              "      <td>03:34</td>\n",
              "    </tr>\n",
              "    <tr>\n",
              "      <td>1</td>\n",
              "      <td>0.554257</td>\n",
              "      <td>1.472517</td>\n",
              "      <td>0.779882</td>\n",
              "      <td>03:27</td>\n",
              "    </tr>\n",
              "    <tr>\n",
              "      <td>2</td>\n",
              "      <td>0.500964</td>\n",
              "      <td>1.396868</td>\n",
              "      <td>0.792899</td>\n",
              "      <td>03:23</td>\n",
              "    </tr>\n",
              "    <tr>\n",
              "      <td>3</td>\n",
              "      <td>0.456530</td>\n",
              "      <td>1.417796</td>\n",
              "      <td>0.790533</td>\n",
              "      <td>03:19</td>\n",
              "    </tr>\n",
              "  </tbody>\n",
              "</table>"
            ],
            "text/plain": [
              "<IPython.core.display.HTML object>"
            ]
          },
          "metadata": {
            "tags": []
          }
        }
      ]
    },
    {
      "cell_type": "code",
      "metadata": {
        "id": "eOHV1B2U3ZDj",
        "colab_type": "code",
        "outputId": "6a785010-67a8-49fb-dbbb-378b61b4dcbd",
        "colab": {
          "base_uri": "https://localhost:8080/",
          "height": 173
        }
      },
      "source": [
        "learn.fit_one_cycle(4, slice(2e-3/100, 2e-3))"
      ],
      "execution_count": 41,
      "outputs": [
        {
          "output_type": "display_data",
          "data": {
            "text/html": [
              "<table border=\"1\" class=\"dataframe\">\n",
              "  <thead>\n",
              "    <tr style=\"text-align: left;\">\n",
              "      <th>epoch</th>\n",
              "      <th>train_loss</th>\n",
              "      <th>valid_loss</th>\n",
              "      <th>accuracy</th>\n",
              "      <th>time</th>\n",
              "    </tr>\n",
              "  </thead>\n",
              "  <tbody>\n",
              "    <tr>\n",
              "      <td>0</td>\n",
              "      <td>0.531035</td>\n",
              "      <td>1.454183</td>\n",
              "      <td>0.785799</td>\n",
              "      <td>03:11</td>\n",
              "    </tr>\n",
              "    <tr>\n",
              "      <td>1</td>\n",
              "      <td>0.529583</td>\n",
              "      <td>1.500121</td>\n",
              "      <td>0.785799</td>\n",
              "      <td>03:29</td>\n",
              "    </tr>\n",
              "    <tr>\n",
              "      <td>2</td>\n",
              "      <td>0.508897</td>\n",
              "      <td>1.513855</td>\n",
              "      <td>0.786982</td>\n",
              "      <td>03:19</td>\n",
              "    </tr>\n",
              "    <tr>\n",
              "      <td>3</td>\n",
              "      <td>0.468453</td>\n",
              "      <td>1.497939</td>\n",
              "      <td>0.794083</td>\n",
              "      <td>03:07</td>\n",
              "    </tr>\n",
              "  </tbody>\n",
              "</table>"
            ],
            "text/plain": [
              "<IPython.core.display.HTML object>"
            ]
          },
          "metadata": {
            "tags": []
          }
        }
      ]
    },
    {
      "cell_type": "code",
      "metadata": {
        "id": "FA9z91sk3Zyy",
        "colab_type": "code",
        "outputId": "3289a3dd-6d00-4ba7-99ea-dbd88267f9d0",
        "colab": {
          "base_uri": "https://localhost:8080/",
          "height": 173
        }
      },
      "source": [
        "learn.fit_one_cycle(4, slice(2e-3/100, 2e-3))"
      ],
      "execution_count": 42,
      "outputs": [
        {
          "output_type": "display_data",
          "data": {
            "text/html": [
              "<table border=\"1\" class=\"dataframe\">\n",
              "  <thead>\n",
              "    <tr style=\"text-align: left;\">\n",
              "      <th>epoch</th>\n",
              "      <th>train_loss</th>\n",
              "      <th>valid_loss</th>\n",
              "      <th>accuracy</th>\n",
              "      <th>time</th>\n",
              "    </tr>\n",
              "  </thead>\n",
              "  <tbody>\n",
              "    <tr>\n",
              "      <td>0</td>\n",
              "      <td>0.444652</td>\n",
              "      <td>1.477142</td>\n",
              "      <td>0.788166</td>\n",
              "      <td>03:30</td>\n",
              "    </tr>\n",
              "    <tr>\n",
              "      <td>1</td>\n",
              "      <td>0.487452</td>\n",
              "      <td>1.471918</td>\n",
              "      <td>0.790533</td>\n",
              "      <td>03:37</td>\n",
              "    </tr>\n",
              "    <tr>\n",
              "      <td>2</td>\n",
              "      <td>0.489915</td>\n",
              "      <td>1.488227</td>\n",
              "      <td>0.788166</td>\n",
              "      <td>03:16</td>\n",
              "    </tr>\n",
              "    <tr>\n",
              "      <td>3</td>\n",
              "      <td>0.469080</td>\n",
              "      <td>1.432066</td>\n",
              "      <td>0.796450</td>\n",
              "      <td>03:31</td>\n",
              "    </tr>\n",
              "  </tbody>\n",
              "</table>"
            ],
            "text/plain": [
              "<IPython.core.display.HTML object>"
            ]
          },
          "metadata": {
            "tags": []
          }
        }
      ]
    },
    {
      "cell_type": "code",
      "metadata": {
        "id": "9JbjgW6n3b1K",
        "colab_type": "code",
        "outputId": "d66c1d86-dce9-4f6c-b2d9-54fe22025ad1",
        "colab": {
          "base_uri": "https://localhost:8080/",
          "height": 173
        }
      },
      "source": [
        "learn.fit_one_cycle(4, slice(2e-3/100, 2e-3))"
      ],
      "execution_count": 43,
      "outputs": [
        {
          "output_type": "display_data",
          "data": {
            "text/html": [
              "<table border=\"1\" class=\"dataframe\">\n",
              "  <thead>\n",
              "    <tr style=\"text-align: left;\">\n",
              "      <th>epoch</th>\n",
              "      <th>train_loss</th>\n",
              "      <th>valid_loss</th>\n",
              "      <th>accuracy</th>\n",
              "      <th>time</th>\n",
              "    </tr>\n",
              "  </thead>\n",
              "  <tbody>\n",
              "    <tr>\n",
              "      <td>0</td>\n",
              "      <td>0.474499</td>\n",
              "      <td>1.474227</td>\n",
              "      <td>0.790533</td>\n",
              "      <td>03:26</td>\n",
              "    </tr>\n",
              "    <tr>\n",
              "      <td>1</td>\n",
              "      <td>0.499964</td>\n",
              "      <td>1.542632</td>\n",
              "      <td>0.792899</td>\n",
              "      <td>03:24</td>\n",
              "    </tr>\n",
              "    <tr>\n",
              "      <td>2</td>\n",
              "      <td>0.473132</td>\n",
              "      <td>1.476755</td>\n",
              "      <td>0.795266</td>\n",
              "      <td>03:19</td>\n",
              "    </tr>\n",
              "    <tr>\n",
              "      <td>3</td>\n",
              "      <td>0.438457</td>\n",
              "      <td>1.454704</td>\n",
              "      <td>0.792899</td>\n",
              "      <td>03:30</td>\n",
              "    </tr>\n",
              "  </tbody>\n",
              "</table>"
            ],
            "text/plain": [
              "<IPython.core.display.HTML object>"
            ]
          },
          "metadata": {
            "tags": []
          }
        }
      ]
    },
    {
      "cell_type": "code",
      "metadata": {
        "id": "3gq-Lep13cqS",
        "colab_type": "code",
        "outputId": "a8333d21-017d-47c3-f5be-bf2a20050739",
        "colab": {
          "base_uri": "https://localhost:8080/",
          "height": 173
        }
      },
      "source": [
        "learn.fit_one_cycle(4, slice(2e-3/100, 2e-3))"
      ],
      "execution_count": 44,
      "outputs": [
        {
          "output_type": "display_data",
          "data": {
            "text/html": [
              "<table border=\"1\" class=\"dataframe\">\n",
              "  <thead>\n",
              "    <tr style=\"text-align: left;\">\n",
              "      <th>epoch</th>\n",
              "      <th>train_loss</th>\n",
              "      <th>valid_loss</th>\n",
              "      <th>accuracy</th>\n",
              "      <th>time</th>\n",
              "    </tr>\n",
              "  </thead>\n",
              "  <tbody>\n",
              "    <tr>\n",
              "      <td>0</td>\n",
              "      <td>0.430218</td>\n",
              "      <td>1.495352</td>\n",
              "      <td>0.792899</td>\n",
              "      <td>03:19</td>\n",
              "    </tr>\n",
              "    <tr>\n",
              "      <td>1</td>\n",
              "      <td>0.482673</td>\n",
              "      <td>1.506550</td>\n",
              "      <td>0.791716</td>\n",
              "      <td>03:45</td>\n",
              "    </tr>\n",
              "    <tr>\n",
              "      <td>2</td>\n",
              "      <td>0.473076</td>\n",
              "      <td>1.536328</td>\n",
              "      <td>0.788166</td>\n",
              "      <td>03:26</td>\n",
              "    </tr>\n",
              "    <tr>\n",
              "      <td>3</td>\n",
              "      <td>0.428722</td>\n",
              "      <td>1.495397</td>\n",
              "      <td>0.789349</td>\n",
              "      <td>03:25</td>\n",
              "    </tr>\n",
              "  </tbody>\n",
              "</table>"
            ],
            "text/plain": [
              "<IPython.core.display.HTML object>"
            ]
          },
          "metadata": {
            "tags": []
          }
        }
      ]
    },
    {
      "cell_type": "code",
      "metadata": {
        "id": "fr_3Rw6A3zSL",
        "colab_type": "code",
        "outputId": "cfc212a3-3d0c-4f06-95fa-ec23c18caeff",
        "colab": {
          "base_uri": "https://localhost:8080/",
          "height": 173
        }
      },
      "source": [
        "learn.fit_one_cycle(4, slice(2e-3/100, 2e-3))"
      ],
      "execution_count": 45,
      "outputs": [
        {
          "output_type": "display_data",
          "data": {
            "text/html": [
              "<table border=\"1\" class=\"dataframe\">\n",
              "  <thead>\n",
              "    <tr style=\"text-align: left;\">\n",
              "      <th>epoch</th>\n",
              "      <th>train_loss</th>\n",
              "      <th>valid_loss</th>\n",
              "      <th>accuracy</th>\n",
              "      <th>time</th>\n",
              "    </tr>\n",
              "  </thead>\n",
              "  <tbody>\n",
              "    <tr>\n",
              "      <td>0</td>\n",
              "      <td>0.419722</td>\n",
              "      <td>1.543134</td>\n",
              "      <td>0.792899</td>\n",
              "      <td>03:39</td>\n",
              "    </tr>\n",
              "    <tr>\n",
              "      <td>1</td>\n",
              "      <td>0.469121</td>\n",
              "      <td>1.539757</td>\n",
              "      <td>0.786982</td>\n",
              "      <td>03:19</td>\n",
              "    </tr>\n",
              "    <tr>\n",
              "      <td>2</td>\n",
              "      <td>0.471055</td>\n",
              "      <td>1.522021</td>\n",
              "      <td>0.800000</td>\n",
              "      <td>03:17</td>\n",
              "    </tr>\n",
              "    <tr>\n",
              "      <td>3</td>\n",
              "      <td>0.422422</td>\n",
              "      <td>1.543434</td>\n",
              "      <td>0.795266</td>\n",
              "      <td>03:25</td>\n",
              "    </tr>\n",
              "  </tbody>\n",
              "</table>"
            ],
            "text/plain": [
              "<IPython.core.display.HTML object>"
            ]
          },
          "metadata": {
            "tags": []
          }
        }
      ]
    },
    {
      "cell_type": "code",
      "metadata": {
        "id": "c65d-osfDUXm",
        "colab_type": "code",
        "colab": {}
      },
      "source": [
        "# save the best model\n",
        "\n",
        "learn.save_encoder('AskAPatient_overlap_40')"
      ],
      "execution_count": 0,
      "outputs": []
    },
    {
      "cell_type": "markdown",
      "metadata": {
        "id": "rCwZU0E2RgM6",
        "colab_type": "text"
      },
      "source": [
        "# Part three: Predict on the test dataset"
      ]
    },
    {
      "cell_type": "code",
      "metadata": {
        "id": "gDm72c-dOu7d",
        "colab_type": "code",
        "colab": {}
      },
      "source": [
        "# use the test data for prediction\n",
        "\n",
        "preds, y = learn.get_preds(DatasetType.Test)"
      ],
      "execution_count": 0,
      "outputs": []
    },
    {
      "cell_type": "code",
      "metadata": {
        "id": "6tFSQcsWPvxn",
        "colab_type": "code",
        "outputId": "d624efb8-bd5e-4636-e668-1592b0cfdef2",
        "colab": {
          "base_uri": "https://localhost:8080/",
          "height": 105
        }
      },
      "source": [
        "predictions, *_ = learn.get_preds(DatasetType.Test)\n",
        "labels = np.argmax(predictions, 1)\n",
        "predict_list = labels.tolist()\n",
        "standard_list = test[0].tolist()\n",
        "\n",
        "print(len(predict_list))\n",
        "print(len(standard_list))\n",
        "\n",
        "print(predict_list)\n",
        "print(standard_list)"
      ],
      "execution_count": 48,
      "outputs": [
        {
          "output_type": "stream",
          "text": [
            "1018\n",
            "1018\n",
            "[359, 326, 510, 904, 5, 256, 269, 8, 8, 8, 8, 8, 8, 472, 10, 4, 137, 71, 269, 49, 27, 1028, 1028, 29, 30, 30, 30, 414, 414, 32, 34, 265, 37, 289, 289, 38, 623, 515, 537, 337, 337, 49, 49, 49, 49, 49, 49, 49, 49, 100, 49, 49, 49, 49, 840, 53, 53, 61, 70, 71, 71, 71, 537, 76, 76, 76, 289, 655, 614, 614, 537, 717, 260, 260, 260, 260, 260, 260, 260, 260, 260, 260, 260, 260, 260, 260, 260, 260, 260, 260, 260, 260, 260, 260, 260, 260, 289, 289, 289, 614, 614, 614, 80, 80, 80, 80, 80, 80, 80, 80, 145, 88, 89, 137, 627, 853, 753, 92, 517, 94, 94, 94, 94, 94, 94, 94, 761, 96, 98, 598, 98, 794, 337, 100, 100, 337, 100, 100, 100, 100, 58, 100, 291, 214, 107, 660, 660, 660, 636, 1035, 289, 289, 289, 289, 289, 1035, 111, 126, 289, 289, 730, 117, 537, 142, 122, 537, 537, 630, 777, 777, 777, 777, 777, 777, 778, 537, 778, 127, 741, 129, 129, 289, 494, 809, 142, 142, 144, 517, 847, 151, 151, 376, 354, 157, 158, 163, 165, 166, 350, 350, 291, 106, 700, 614, 864, 864, 864, 864, 864, 786, 289, 182, 182, 182, 289, 289, 183, 183, 183, 183, 183, 183, 183, 184, 184, 185, 187, 187, 187, 537, 189, 189, 190, 190, 228, 190, 190, 190, 265, 190, 190, 193, 197, 34, 34, 34, 34, 805, 769, 769, 210, 210, 323, 323, 265, 211, 34, 537, 214, 214, 471, 34, 34, 34, 214, 214, 515, 214, 214, 537, 113, 269, 218, 220, 220, 220, 710, 140, 44, 654, 228, 228, 289, 228, 289, 289, 228, 265, 544, 541, 369, 234, 235, 702, 214, 809, 537, 537, 753, 187, 240, 537, 614, 614, 243, 243, 537, 537, 537, 244, 245, 245, 245, 245, 764, 245, 245, 245, 245, 467, 246, 27, 246, 537, 537, 909, 851, 1035, 260, 260, 260, 537, 289, 419, 265, 265, 301, 265, 265, 265, 265, 265, 265, 265, 265, 265, 265, 265, 265, 289, 614, 265, 265, 265, 265, 265, 515, 86, 427, 983, 269, 6, 355, 517, 277, 289, 808, 283, 427, 301, 419, 289, 289, 289, 289, 289, 362, 289, 289, 289, 289, 289, 289, 289, 289, 289, 289, 289, 289, 289, 289, 289, 289, 289, 289, 289, 289, 289, 289, 289, 289, 289, 289, 291, 289, 849, 877, 202, 589, 300, 300, 203, 301, 100, 337, 789, 357, 308, 309, 417, 309, 310, 289, 289, 747, 642, 427, 427, 427, 265, 872, 146, 537, 561, 321, 375, 537, 337, 325, 49, 49, 49, 49, 49, 49, 49, 49, 49, 191, 359, 325, 325, 729, 326, 61, 304, 203, 334, 334, 336, 58, 337, 337, 337, 820, 337, 337, 768, 768, 343, 343, 343, 211, 344, 289, 337, 849, 350, 289, 360, 427, 359, 65, 427, 360, 360, 363, 775, 364, 364, 289, 494, 537, 304, 427, 444, 537, 60, 636, 402, 402, 402, 402, 113, 288, 805, 415, 369, 419, 419, 419, 419, 419, 419, 419, 471, 289, 289, 419, 419, 537, 693, 426, 426, 426, 426, 427, 427, 427, 427, 427, 427, 427, 427, 789, 427, 427, 426, 427, 591, 427, 194, 61, 910, 238, 521, 438, 441, 438, 444, 444, 391, 446, 94, 537, 126, 462, 126, 473, 780, 780, 475, 475, 591, 113, 113, 113, 1018, 479, 614, 216, 868, 694, 486, 567, 720, 567, 489, 491, 491, 491, 683, 82, 491, 82, 62, 492, 492, 291, 499, 175, 555, 506, 360, 472, 113, 516, 517, 537, 517, 521, 521, 194, 236, 530, 530, 530, 531, 644, 541, 541, 542, 49, 541, 545, 546, 384, 384, 384, 384, 384, 730, 730, 88, 546, 1028, 214, 214, 567, 775, 49, 265, 427, 573, 58, 578, 578, 579, 579, 579, 579, 584, 510, 289, 590, 590, 591, 301, 325, 591, 97, 97, 707, 595, 231, 427, 597, 27, 678, 289, 606, 289, 607, 608, 375, 610, 58, 251, 289, 427, 614, 614, 484, 537, 537, 528, 623, 175, 655, 655, 655, 637, 245, 840, 644, 644, 646, 646, 646, 646, 646, 122, 728, 648, 367, 471, 652, 652, 636, 636, 636, 652, 49, 810, 810, 660, 662, 662, 865, 29, 665, 437, 738, 541, 706, 681, 727, 344, 289, 389, 686, 741, 817, 202, 289, 289, 289, 265, 427, 289, 289, 515, 723, 265, 289, 58, 579, 706, 810, 707, 707, 710, 710, 711, 715, 97, 191, 638, 769, 730, 861, 521, 746, 739, 289, 741, 741, 289, 289, 745, 541, 746, 746, 49, 746, 749, 753, 753, 794, 840, 809, 100, 337, 910, 350, 350, 774, 775, 301, 100, 100, 775, 49, 775, 775, 344, 359, 787, 787, 787, 621, 473, 798, 646, 537, 804, 537, 288, 805, 200, 808, 809, 809, 809, 809, 809, 809, 810, 810, 575, 810, 517, 516, 65, 824, 377, 826, 826, 654, 828, 236, 614, 830, 830, 830, 830, 830, 831, 537, 427, 801, 840, 640, 844, 329, 847, 847, 847, 808, 847, 847, 539, 852, 852, 853, 853, 853, 720, 864, 864, 864, 289, 289, 865, 865, 81, 260, 868, 34, 874, 245, 245, 877, 877, 178, 301, 888, 289, 892, 893, 301, 471, 896, 896, 58, 897, 328, 680, 753, 753, 537, 906, 466, 537, 994, 919, 919, 537, 537, 614, 537, 1035, 933, 427, 353, 937, 937, 937, 937, 1032, 1032, 537, 537, 113, 949, 949, 949, 949, 949, 949, 949, 949, 949, 949, 949, 949, 949, 949, 949, 949, 949, 949, 949, 949, 949, 949, 949, 949, 949, 949, 949, 949, 949, 949, 949, 949, 949, 949, 949, 949, 949, 949, 949, 949, 949, 949, 949, 949, 949, 949, 949, 949, 949, 949, 949, 949, 949, 949, 949, 949, 949, 949, 949, 949, 949, 949, 949, 949, 949, 949, 949, 949, 949, 949, 949, 949, 949, 949, 1035, 537, 925, 950, 950, 950, 950, 952, 952, 355, 537, 113, 65, 65, 966, 353, 353, 537, 977, 256, 994, 537, 1032, 1002, 1011, 1017, 1032, 537, 1035, 1022, 1026, 1028, 1028, 1028, 1028, 1028, 1029, 1029, 537, 1035]\n",
            "[0, 3, 4, 5, 5, 7, 8, 8, 8, 8, 8, 8, 8, 9, 10, 14, 18, 19, 21, 22, 27, 28, 28, 29, 30, 30, 30, 31, 31, 32, 34, 37, 37, 37, 37, 38, 40, 41, 47, 49, 49, 49, 49, 49, 49, 49, 49, 49, 49, 49, 49, 49, 49, 49, 50, 53, 53, 61, 70, 71, 71, 71, 74, 76, 76, 76, 77, 77, 79, 79, 79, 79, 79, 79, 79, 79, 79, 79, 79, 79, 79, 79, 79, 79, 79, 79, 79, 79, 79, 79, 79, 79, 79, 79, 79, 79, 79, 79, 79, 79, 79, 79, 80, 80, 80, 80, 80, 80, 80, 80, 82, 88, 89, 89, 89, 90, 91, 92, 93, 94, 94, 94, 94, 94, 94, 94, 96, 96, 98, 98, 98, 99, 100, 100, 100, 100, 100, 100, 100, 100, 100, 100, 101, 102, 107, 108, 108, 108, 109, 110, 111, 111, 111, 111, 111, 111, 111, 111, 111, 111, 111, 117, 119, 120, 122, 122, 125, 125, 125, 125, 125, 125, 125, 125, 125, 125, 125, 127, 129, 129, 129, 129, 132, 138, 142, 142, 144, 150, 150, 151, 151, 153, 157, 157, 158, 163, 165, 166, 166, 166, 168, 170, 172, 172, 172, 172, 172, 172, 172, 180, 182, 182, 182, 182, 182, 182, 183, 183, 183, 183, 183, 183, 183, 184, 184, 185, 187, 187, 187, 187, 189, 189, 190, 190, 190, 190, 190, 190, 190, 190, 190, 193, 197, 197, 197, 197, 197, 204, 205, 205, 210, 210, 210, 210, 210, 211, 214, 214, 214, 214, 214, 214, 214, 214, 214, 214, 214, 214, 214, 216, 216, 218, 218, 220, 220, 220, 222, 226, 228, 228, 228, 228, 228, 228, 228, 228, 228, 228, 229, 231, 234, 234, 235, 236, 236, 238, 238, 238, 238, 240, 240, 243, 243, 243, 243, 243, 243, 243, 243, 244, 245, 245, 245, 245, 245, 245, 245, 245, 245, 245, 246, 246, 246, 249, 254, 254, 254, 259, 260, 260, 260, 261, 265, 265, 265, 265, 265, 265, 265, 265, 265, 265, 265, 265, 265, 265, 265, 265, 265, 265, 265, 265, 265, 265, 265, 265, 266, 268, 268, 268, 269, 270, 271, 272, 277, 281, 282, 283, 286, 288, 289, 289, 289, 289, 289, 289, 289, 289, 289, 289, 289, 289, 289, 289, 289, 289, 289, 289, 289, 289, 289, 289, 289, 289, 289, 289, 289, 289, 289, 289, 289, 289, 289, 291, 293, 294, 295, 299, 299, 300, 300, 301, 301, 301, 301, 304, 304, 308, 309, 309, 309, 309, 309, 309, 317, 318, 318, 318, 318, 318, 318, 318, 320, 320, 321, 321, 323, 323, 325, 325, 325, 325, 325, 325, 325, 325, 325, 325, 325, 325, 325, 325, 326, 326, 327, 330, 333, 334, 334, 336, 337, 337, 337, 337, 337, 337, 337, 338, 338, 343, 343, 343, 343, 344, 345, 346, 347, 350, 351, 359, 359, 359, 359, 359, 360, 360, 363, 364, 364, 364, 364, 365, 380, 387, 388, 392, 394, 396, 402, 402, 402, 402, 402, 408, 408, 413, 415, 416, 419, 419, 419, 419, 419, 419, 419, 419, 419, 419, 419, 419, 424, 424, 426, 426, 426, 426, 427, 427, 427, 427, 427, 427, 427, 427, 427, 427, 427, 427, 427, 427, 427, 428, 430, 433, 434, 435, 438, 441, 443, 444, 444, 444, 446, 453, 455, 461, 462, 465, 473, 473, 475, 475, 475, 475, 476, 476, 476, 477, 479, 479, 481, 482, 483, 486, 487, 487, 488, 489, 491, 491, 491, 491, 491, 491, 491, 491, 492, 492, 493, 499, 505, 505, 506, 509, 514, 516, 516, 517, 517, 517, 521, 521, 527, 529, 530, 530, 530, 531, 531, 541, 541, 542, 543, 543, 545, 546, 548, 548, 548, 548, 548, 549, 549, 554, 561, 561, 565, 566, 567, 571, 575, 577, 577, 577, 577, 578, 578, 579, 579, 579, 579, 584, 586, 588, 590, 590, 591, 591, 591, 591, 594, 594, 595, 595, 595, 596, 597, 598, 598, 604, 606, 606, 607, 608, 609, 610, 610, 611, 614, 614, 614, 614, 617, 619, 619, 623, 623, 624, 633, 633, 633, 637, 638, 640, 644, 644, 646, 646, 646, 646, 646, 646, 648, 648, 648, 651, 652, 652, 652, 652, 652, 654, 659, 659, 659, 660, 662, 662, 662, 663, 663, 663, 664, 669, 677, 681, 683, 686, 686, 686, 686, 687, 689, 693, 698, 700, 700, 701, 701, 702, 702, 702, 702, 703, 703, 704, 704, 705, 705, 707, 707, 710, 710, 711, 715, 716, 718, 723, 727, 730, 731, 733, 738, 739, 741, 741, 741, 741, 741, 745, 746, 746, 746, 746, 746, 749, 753, 753, 756, 761, 763, 765, 766, 767, 770, 771, 774, 775, 775, 775, 775, 775, 775, 775, 775, 782, 784, 787, 787, 788, 794, 794, 798, 800, 803, 804, 804, 805, 805, 807, 808, 809, 809, 809, 809, 809, 809, 810, 810, 810, 810, 813, 815, 816, 824, 826, 826, 826, 827, 828, 829, 830, 830, 830, 830, 830, 830, 831, 834, 840, 840, 840, 840, 844, 846, 847, 847, 847, 847, 847, 847, 847, 852, 852, 853, 853, 853, 861, 864, 864, 864, 864, 864, 865, 865, 865, 867, 868, 871, 874, 876, 876, 877, 877, 882, 883, 888, 889, 892, 893, 894, 896, 896, 896, 896, 896, 898, 902, 903, 903, 905, 906, 908, 916, 917, 919, 919, 920, 926, 929, 931, 932, 933, 933, 936, 937, 937, 937, 937, 941, 941, 944, 947, 948, 949, 949, 949, 949, 949, 949, 949, 949, 949, 949, 949, 949, 949, 949, 949, 949, 949, 949, 949, 949, 949, 949, 949, 949, 949, 949, 949, 949, 949, 949, 949, 949, 949, 949, 949, 949, 949, 949, 949, 949, 949, 949, 949, 949, 949, 949, 949, 949, 949, 949, 949, 949, 949, 949, 949, 949, 949, 949, 949, 949, 949, 949, 949, 949, 949, 949, 949, 949, 949, 949, 949, 949, 949, 949, 949, 949, 949, 950, 950, 950, 950, 952, 952, 955, 955, 956, 964, 964, 966, 967, 967, 969, 977, 994, 994, 1000, 1001, 1002, 1011, 1017, 1019, 1020, 1020, 1022, 1026, 1026, 1026, 1028, 1028, 1028, 1029, 1029, 1030, 1035]\n"
          ],
          "name": "stdout"
        }
      ]
    },
    {
      "cell_type": "code",
      "metadata": {
        "id": "XIC4zufnMxtq",
        "colab_type": "code",
        "outputId": "2dfec3f2-1580-47d9-847a-28a4418978e2",
        "colab": {
          "base_uri": "https://localhost:8080/",
          "height": 51
        }
      },
      "source": [
        "correct_num = 0\n",
        "\n",
        "for i in range(0, 1018):\n",
        "  if predict_list[i] == standard_list[i]:\n",
        "    correct_num = correct_num+1\n",
        "  else:\n",
        "    pass\n",
        "print(correct_num)\n",
        "\n",
        "predict_accuracy = correct_num/len(predict_list)\n",
        "print(predict_accuracy)"
      ],
      "execution_count": 49,
      "outputs": [
        {
          "output_type": "stream",
          "text": [
            "507\n",
            "0.49803536345776034\n"
          ],
          "name": "stdout"
        }
      ]
    },
    {
      "cell_type": "code",
      "metadata": {
        "id": "zlKMHp1CIaRJ",
        "colab_type": "code",
        "colab": {}
      },
      "source": [
        ""
      ],
      "execution_count": 0,
      "outputs": []
    }
  ]
}