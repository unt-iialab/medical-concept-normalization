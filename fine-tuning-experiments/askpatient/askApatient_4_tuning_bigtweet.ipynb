{
  "nbformat": 4,
  "nbformat_minor": 0,
  "metadata": {
    "colab": {
      "name": "askApatient_4_tuning_bigtweet.ipynb",
      "provenance": [],
      "collapsed_sections": [],
      "toc_visible": true,
      "include_colab_link": true
    },
    "kernelspec": {
      "name": "python3",
      "display_name": "Python 3"
    },
    "accelerator": "TPU"
  },
  "cells": [
    {
      "cell_type": "markdown",
      "metadata": {
        "id": "view-in-github",
        "colab_type": "text"
      },
      "source": [
        "<a href=\"https://colab.research.google.com/github/unt-iialab/medical-concept-normalization/blob/master/fine-tuning-experiments/askpatient/askApatient_4_tuning_bigtweet.ipynb\" target=\"_parent\"><img src=\"https://colab.research.google.com/assets/colab-badge.svg\" alt=\"Open In Colab\"/></a>"
      ]
    },
    {
      "cell_type": "code",
      "metadata": {
        "id": "adSi6i2-dWxy",
        "colab_type": "code",
        "colab": {}
      },
      "source": [
        "import os"
      ],
      "execution_count": 0,
      "outputs": []
    },
    {
      "cell_type": "code",
      "metadata": {
        "id": "E7xYCRGPjd9B",
        "colab_type": "code",
        "colab": {}
      },
      "source": [
        "base_dir = 'medical-concept-normalization'"
      ],
      "execution_count": 0,
      "outputs": []
    },
    {
      "cell_type": "code",
      "metadata": {
        "id": "yvIW3aUDjYNS",
        "colab_type": "code",
        "colab": {}
      },
      "source": [
        "os.mkdir(base_dir)"
      ],
      "execution_count": 0,
      "outputs": []
    },
    {
      "cell_type": "code",
      "metadata": {
        "id": "es-FFLlfk6SG",
        "colab_type": "code",
        "colab": {}
      },
      "source": [
        "os.mkdir('medical-concept-normalization/data_collection')"
      ],
      "execution_count": 0,
      "outputs": []
    },
    {
      "cell_type": "markdown",
      "metadata": {
        "id": "0R-Guw_VoJXm",
        "colab_type": "text"
      },
      "source": [
        "**Install fastai and clone the fastai for text classification**\n",
        "\n"
      ]
    },
    {
      "cell_type": "code",
      "metadata": {
        "id": "QVZa3Z0PmHFH",
        "colab_type": "code",
        "outputId": "1e4c2644-6b37-4134-8e5a-ad694ea439c9",
        "colab": {
          "base_uri": "https://localhost:8080/",
          "height": 104
        }
      },
      "source": [
        "!curl https://course-v3.fast.ai/setup/colab | bash"
      ],
      "execution_count": 5,
      "outputs": [
        {
          "output_type": "stream",
          "text": [
            "  % Total    % Received % Xferd  Average Speed   Time    Time     Time  Current\n",
            "                                 Dload  Upload   Total   Spent    Left  Speed\n",
            "100   287  100   287    0     0    982      0 --:--:-- --:--:-- --:--:--   982\n",
            "bash: line 1: syntax error near unexpected token `newline'\n",
            "bash: line 1: `<!DOCTYPE HTML PUBLIC \"-//IETF//DTD HTML 2.0//EN\">'\n"
          ],
          "name": "stdout"
        }
      ]
    },
    {
      "cell_type": "code",
      "metadata": {
        "id": "_FBFFEBrmJC0",
        "colab_type": "code",
        "outputId": "43c92810-f999-4a01-fefa-02a8f4939176",
        "colab": {
          "base_uri": "https://localhost:8080/",
          "height": 87
        }
      },
      "source": [
        "!git clone https://github.com/wshuyi/demo-nlp-classification-fastai.git"
      ],
      "execution_count": 6,
      "outputs": [
        {
          "output_type": "stream",
          "text": [
            "Cloning into 'demo-nlp-classification-fastai'...\n",
            "remote: Enumerating objects: 9, done.\u001b[K\n",
            "remote: Total 9 (delta 0), reused 0 (delta 0), pack-reused 9\u001b[K\n",
            "Unpacking objects: 100% (9/9), done.\n"
          ],
          "name": "stdout"
        }
      ]
    },
    {
      "cell_type": "code",
      "metadata": {
        "id": "66zfh_JqmWMU",
        "colab_type": "code",
        "colab": {}
      },
      "source": [
        "from fastai import *\n",
        "from fastai.text import *"
      ],
      "execution_count": 0,
      "outputs": []
    },
    {
      "cell_type": "markdown",
      "metadata": {
        "id": "mNIw-yALdBU9",
        "colab_type": "text"
      },
      "source": [
        "**Set the path of the data collections**"
      ]
    },
    {
      "cell_type": "code",
      "metadata": {
        "id": "pzH7VMh4mqCL",
        "colab_type": "code",
        "colab": {}
      },
      "source": [
        "path = Path('medical-concept-normalization/data_collection')"
      ],
      "execution_count": 0,
      "outputs": []
    },
    {
      "cell_type": "code",
      "metadata": {
        "id": "b8fjI6yyn4aS",
        "colab_type": "code",
        "colab": {}
      },
      "source": [
        "# training data set\n",
        "\n",
        "train_csv = path/'AskAPatient.fold-4.train.csv'\n",
        "train = pd.read_csv(train_csv, header=None)\n",
        "#train.head()\n",
        "#train.info()"
      ],
      "execution_count": 0,
      "outputs": []
    },
    {
      "cell_type": "code",
      "metadata": {
        "id": "Hmlr-bAorfHd",
        "colab_type": "code",
        "outputId": "39915e05-8343-48fe-eefb-5000ac2f89b2",
        "colab": {
          "base_uri": "https://localhost:8080/",
          "height": 202
        }
      },
      "source": [
        "# validating data set\n",
        "\n",
        "valid = pd.read_csv(path/\"AskAPatient.fold-4.validation.csv\",header=None)\n",
        "valid.head()"
      ],
      "execution_count": 12,
      "outputs": [
        {
          "output_type": "execute_result",
          "data": {
            "text/html": [
              "<div>\n",
              "<style scoped>\n",
              "    .dataframe tbody tr th:only-of-type {\n",
              "        vertical-align: middle;\n",
              "    }\n",
              "\n",
              "    .dataframe tbody tr th {\n",
              "        vertical-align: top;\n",
              "    }\n",
              "\n",
              "    .dataframe thead th {\n",
              "        text-align: right;\n",
              "    }\n",
              "</style>\n",
              "<table border=\"1\" class=\"dataframe\">\n",
              "  <thead>\n",
              "    <tr style=\"text-align: right;\">\n",
              "      <th></th>\n",
              "      <th>0</th>\n",
              "      <th>1</th>\n",
              "    </tr>\n",
              "  </thead>\n",
              "  <tbody>\n",
              "    <tr>\n",
              "      <th>0</th>\n",
              "      <td>6</td>\n",
              "      <td>diastolic dysfunction</td>\n",
              "    </tr>\n",
              "    <tr>\n",
              "      <th>1</th>\n",
              "      <td>8</td>\n",
              "      <td>ARTHRITIS</td>\n",
              "    </tr>\n",
              "    <tr>\n",
              "      <th>2</th>\n",
              "      <td>8</td>\n",
              "      <td>arthritis</td>\n",
              "    </tr>\n",
              "    <tr>\n",
              "      <th>3</th>\n",
              "      <td>8</td>\n",
              "      <td>arthritis</td>\n",
              "    </tr>\n",
              "    <tr>\n",
              "      <th>4</th>\n",
              "      <td>8</td>\n",
              "      <td>arthritis</td>\n",
              "    </tr>\n",
              "  </tbody>\n",
              "</table>\n",
              "</div>"
            ],
            "text/plain": [
              "   0                      1\n",
              "0  6  diastolic dysfunction\n",
              "1  8              ARTHRITIS\n",
              "2  8              arthritis\n",
              "3  8              arthritis\n",
              "4  8              arthritis"
            ]
          },
          "metadata": {
            "tags": []
          },
          "execution_count": 12
        }
      ]
    },
    {
      "cell_type": "code",
      "metadata": {
        "id": "cOza9dfSsBud",
        "colab_type": "code",
        "outputId": "ab6775db-22a6-4773-a875-85050da46890",
        "colab": {
          "base_uri": "https://localhost:8080/",
          "height": 202
        }
      },
      "source": [
        "# testing data set\n",
        "\n",
        "test = pd.read_csv(path/\"AskAPatient.fold-4.test.csv\",header=None)\n",
        "test.head()"
      ],
      "execution_count": 13,
      "outputs": [
        {
          "output_type": "execute_result",
          "data": {
            "text/html": [
              "<div>\n",
              "<style scoped>\n",
              "    .dataframe tbody tr th:only-of-type {\n",
              "        vertical-align: middle;\n",
              "    }\n",
              "\n",
              "    .dataframe tbody tr th {\n",
              "        vertical-align: top;\n",
              "    }\n",
              "\n",
              "    .dataframe thead th {\n",
              "        text-align: right;\n",
              "    }\n",
              "</style>\n",
              "<table border=\"1\" class=\"dataframe\">\n",
              "  <thead>\n",
              "    <tr style=\"text-align: right;\">\n",
              "      <th></th>\n",
              "      <th>0</th>\n",
              "      <th>1</th>\n",
              "    </tr>\n",
              "  </thead>\n",
              "  <tbody>\n",
              "    <tr>\n",
              "      <th>0</th>\n",
              "      <td>4</td>\n",
              "      <td>purple sploches around waist</td>\n",
              "    </tr>\n",
              "    <tr>\n",
              "      <th>1</th>\n",
              "      <td>6</td>\n",
              "      <td>stage 1 diastolic dysfunction</td>\n",
              "    </tr>\n",
              "    <tr>\n",
              "      <th>2</th>\n",
              "      <td>8</td>\n",
              "      <td>arthritis</td>\n",
              "    </tr>\n",
              "    <tr>\n",
              "      <th>3</th>\n",
              "      <td>12</td>\n",
              "      <td>shingles</td>\n",
              "    </tr>\n",
              "    <tr>\n",
              "      <th>4</th>\n",
              "      <td>16</td>\n",
              "      <td>flu</td>\n",
              "    </tr>\n",
              "  </tbody>\n",
              "</table>\n",
              "</div>"
            ],
            "text/plain": [
              "    0                              1\n",
              "0   4   purple sploches around waist\n",
              "1   6  stage 1 diastolic dysfunction\n",
              "2   8                      arthritis\n",
              "3  12                       shingles\n",
              "4  16                            flu"
            ]
          },
          "metadata": {
            "tags": []
          },
          "execution_count": 13
        }
      ]
    },
    {
      "cell_type": "code",
      "metadata": {
        "id": "Vo-YNvVYoaH6",
        "colab_type": "code",
        "colab": {}
      },
      "source": [
        "# Creating DataBunch for language modelling\n",
        "\n",
        "data_lm = TextLMDataBunch.from_csv(path, 'fine-tuning_language_model_bigtweet_data.csv')"
      ],
      "execution_count": 0,
      "outputs": []
    },
    {
      "cell_type": "code",
      "metadata": {
        "id": "1ScY9afDsnvE",
        "colab_type": "code",
        "colab": {}
      },
      "source": [
        "# Creating DataBunch for classification\n",
        "\n",
        "# data_clas = TextClasDataBunch.from_df(path, train, valid, test, vocab=data_lm.train_ds.vocab, bs=128)"
      ],
      "execution_count": 0,
      "outputs": []
    },
    {
      "cell_type": "code",
      "metadata": {
        "id": "gzrSdQcvey9p",
        "colab_type": "code",
        "colab": {}
      },
      "source": [
        "data_clas = TextClasDataBunch.from_df(path, train, valid, vocab=data_lm.train_ds.vocab, bs=128)"
      ],
      "execution_count": 0,
      "outputs": []
    },
    {
      "cell_type": "code",
      "metadata": {
        "id": "MD27Tf0Ke3ou",
        "colab_type": "code",
        "colab": {}
      },
      "source": [
        "data_clas.add_test(test,label=0)\n"
      ],
      "execution_count": 0,
      "outputs": []
    },
    {
      "cell_type": "code",
      "metadata": {
        "id": "-dpjnk_rstwk",
        "colab_type": "code",
        "outputId": "57bb9a13-d458-46a3-96dc-51fa9a7fdace",
        "colab": {
          "base_uri": "https://localhost:8080/",
          "height": 72
        }
      },
      "source": [
        "data_lm.save()\n",
        "data_clas.save()"
      ],
      "execution_count": 18,
      "outputs": [
        {
          "output_type": "stream",
          "text": [
            "/usr/local/lib/python3.6/dist-packages/torch/serialization.py:292: UserWarning: Couldn't retrieve source code for container of type CrossEntropyLoss. It won't be checked for correctness upon loading.\n",
            "  \"type \" + obj.__name__ + \". It won't be checked \"\n"
          ],
          "name": "stderr"
        }
      ]
    },
    {
      "cell_type": "code",
      "metadata": {
        "id": "4OkiJa36sw5s",
        "colab_type": "code",
        "outputId": "b35b85ec-f193-4ecf-aa01-bbf5e10896d9",
        "colab": {
          "base_uri": "https://localhost:8080/",
          "height": 1000
        }
      },
      "source": [
        "data_lm.train_ds.vocab.itos"
      ],
      "execution_count": 19,
      "outputs": [
        {
          "output_type": "execute_result",
          "data": {
            "text/plain": [
              "['xxunk',\n",
              " 'xxpad',\n",
              " 'xxbos',\n",
              " 'xxeos',\n",
              " 'xxfld',\n",
              " 'xxmaj',\n",
              " 'xxup',\n",
              " 'xxrep',\n",
              " 'xxwrep',\n",
              " 'rt',\n",
              " 'to',\n",
              " 'the',\n",
              " 'for',\n",
              " 'a',\n",
              " 'in',\n",
              " 'you',\n",
              " 'is',\n",
              " 'of',\n",
              " 'on',\n",
              " 'and',\n",
              " 'disease',\n",
              " 'amp',\n",
              " 'i',\n",
              " 'gluten',\n",
              " 'with',\n",
              " 'free',\n",
              " 'your',\n",
              " 'it',\n",
              " 'my',\n",
              " 'have',\n",
              " 'new',\n",
              " 'this',\n",
              " 'are',\n",
              " 'about',\n",
              " 'glutenfree',\n",
              " 'our',\n",
              " 'what',\n",
              " 'do',\n",
              " 'nt',\n",
              " 'celiac',\n",
              " 'out',\n",
              " 'be',\n",
              " 'at',\n",
              " 'from',\n",
              " 'now',\n",
              " 'not',\n",
              " 'or',\n",
              " 'that',\n",
              " 'we',\n",
              " 'how',\n",
              " 'food',\n",
              " 'via',\n",
              " 'can',\n",
              " 'right',\n",
              " 'tip',\n",
              " 'its',\n",
              " 'all',\n",
              " 'more',\n",
              " 'if',\n",
              " 'w',\n",
              " 'use',\n",
              " 'dblclick',\n",
              " 'products',\n",
              " 'so',\n",
              " 'pic',\n",
              " 'diet',\n",
              " 'as',\n",
              " 'why',\n",
              " 'up',\n",
              " 'know',\n",
              " 'check',\n",
              " 'here',\n",
              " 'review',\n",
              " 'me',\n",
              " 'by',\n",
              " 'love',\n",
              " 'get',\n",
              " 'just',\n",
              " 'gfb',\n",
              " 'thanks',\n",
              " 'm',\n",
              " 'was',\n",
              " 'an',\n",
              " 're',\n",
              " 'great',\n",
              " 'could',\n",
              " 'recipe',\n",
              " 'who',\n",
              " 's',\n",
              " 'has',\n",
              " 'posted',\n",
              " 'but',\n",
              " 'will',\n",
              " 'post',\n",
              " 'help',\n",
              " 'there',\n",
              " 'may',\n",
              " 'us',\n",
              " '\\r \\n ',\n",
              " 'heres',\n",
              " 'read',\n",
              " 'make',\n",
              " 'archives',\n",
              " '30',\n",
              " 'some',\n",
              " 'test',\n",
              " 'people',\n",
              " 'eat',\n",
              " 'intolerance',\n",
              " 'when',\n",
              " 'going',\n",
              " 'life',\n",
              " 'need',\n",
              " 'does',\n",
              " 'jennieo',\n",
              " 'like',\n",
              " 'news',\n",
              " 'tips',\n",
              " 'living',\n",
              " '1',\n",
              " 'today',\n",
              " 'chicken',\n",
              " 'should',\n",
              " 'did',\n",
              " 'they',\n",
              " 'day',\n",
              " 'no',\n",
              " 'think',\n",
              " 'time',\n",
              " 'please',\n",
              " '\\r \\n \\r \\n ',\n",
              " 'go',\n",
              " '2',\n",
              " 'big',\n",
              " 'symptoms',\n",
              " 'those',\n",
              " 'good',\n",
              " 'article',\n",
              " 'one',\n",
              " 'pizza',\n",
              " 'sensitivity',\n",
              " 'awareness',\n",
              " 'share',\n",
              " 'take',\n",
              " 'best',\n",
              " 'diagnosis',\n",
              " 'being',\n",
              " 'cookbook',\n",
              " 'blog',\n",
              " 'many',\n",
              " 'eating',\n",
              " 'dr',\n",
              " '4',\n",
              " 'patients',\n",
              " 'happy',\n",
              " 'want',\n",
              " 'find',\n",
              " 'ever',\n",
              " 'see',\n",
              " 'soup',\n",
              " 'diagnosed',\n",
              " '2014',\n",
              " 'gf',\n",
              " 'only',\n",
              " 'autographed',\n",
              " 'wheat',\n",
              " 'try',\n",
              " 'safe',\n",
              " 'much',\n",
              " 'foods',\n",
              " 'easy',\n",
              " 'super',\n",
              " 'friends',\n",
              " 'looking',\n",
              " 'well',\n",
              " '5',\n",
              " 'also',\n",
              " 'first',\n",
              " 'story',\n",
              " 'show',\n",
              " 'ca',\n",
              " 'study',\n",
              " 'got',\n",
              " 'blood',\n",
              " 'any',\n",
              " 'bread',\n",
              " 'health',\n",
              " 'thank',\n",
              " 'delicious',\n",
              " 'learn',\n",
              " 'book',\n",
              " 'linked',\n",
              " 'info',\n",
              " 'had',\n",
              " 'healthy',\n",
              " 'giveaway',\n",
              " 'u',\n",
              " 'others',\n",
              " 'years',\n",
              " 'too',\n",
              " 'year',\n",
              " 'chocolate',\n",
              " 'bowl',\n",
              " 'these',\n",
              " 'recipes',\n",
              " 'still',\n",
              " 'getting',\n",
              " 'top',\n",
              " 'allergy',\n",
              " 'page',\n",
              " '10',\n",
              " 'list',\n",
              " 'after',\n",
              " 'back',\n",
              " 'child',\n",
              " 'where',\n",
              " 'way',\n",
              " 'feel',\n",
              " 'follow',\n",
              " 'live',\n",
              " 'would',\n",
              " 'issues',\n",
              " 'ask',\n",
              " 'death',\n",
              " 'america',\n",
              " 'week',\n",
              " 'part',\n",
              " 've',\n",
              " 'quinoa',\n",
              " 'really',\n",
              " 'kids',\n",
              " 'important',\n",
              " 'link',\n",
              " 'sunday',\n",
              " 'interesting',\n",
              " 'other',\n",
              " 'very',\n",
              " 'things',\n",
              " 'their',\n",
              " 'yes',\n",
              " 'been',\n",
              " 'cake',\n",
              " 'hey',\n",
              " 'convention',\n",
              " 'interview',\n",
              " 'options',\n",
              " 'over',\n",
              " 'friendly',\n",
              " 'month',\n",
              " '3',\n",
              " 'support',\n",
              " 'coeliac',\n",
              " 'better',\n",
              " 'start',\n",
              " 'most',\n",
              " 'breaking',\n",
              " 'always',\n",
              " 'am',\n",
              " 'before',\n",
              " 'diagnose',\n",
              " 'cookies',\n",
              " 'even',\n",
              " 'coming',\n",
              " 'which',\n",
              " 'ty',\n",
              " 'were',\n",
              " 'special',\n",
              " 'hear',\n",
              " 'brain',\n",
              " 'them',\n",
              " 'breakfast',\n",
              " 'valentines',\n",
              " 'pinterest',\n",
              " 'look',\n",
              " 'because',\n",
              " 'than',\n",
              " 'sentence',\n",
              " 'never',\n",
              " 'bakery',\n",
              " 'anyone',\n",
              " 'rice',\n",
              " '2013',\n",
              " 'made',\n",
              " 'awesome',\n",
              " 'healthier',\n",
              " 'gfree',\n",
              " 'join',\n",
              " 'then',\n",
              " 'risk',\n",
              " 'archive',\n",
              " 'flour',\n",
              " 'latest',\n",
              " 'world',\n",
              " 'talk',\n",
              " 'glutened',\n",
              " 'damage',\n",
              " 'might',\n",
              " 'ok',\n",
              " 'off',\n",
              " 'community',\n",
              " 'restaurants',\n",
              " 'makes',\n",
              " 'allergies',\n",
              " 'market',\n",
              " 'testing',\n",
              " 'cause',\n",
              " 'someone',\n",
              " 'pledge',\n",
              " 'own',\n",
              " 'reasons',\n",
              " 'understand',\n",
              " 'next',\n",
              " 'experience',\n",
              " 'ideas',\n",
              " 'restaurant',\n",
              " 'cook',\n",
              " 'fun',\n",
              " 'rise',\n",
              " 'between',\n",
              " 'expo',\n",
              " 'must',\n",
              " 'menu',\n",
              " 'tested',\n",
              " 'children',\n",
              " 'mt',\n",
              " 'avoid',\n",
              " 'medical',\n",
              " 'lets',\n",
              " 'matters',\n",
              " 'listen',\n",
              " 'few',\n",
              " 'type',\n",
              " 'available',\n",
              " 'girl',\n",
              " 'come',\n",
              " 'h',\n",
              " 'last',\n",
              " 'oats',\n",
              " 'provide',\n",
              " 'weekend',\n",
              " 'sharing',\n",
              " 'favorite',\n",
              " 'having',\n",
              " 'keep',\n",
              " 'lifestyle',\n",
              " 'amazing',\n",
              " 'sure',\n",
              " 'long',\n",
              " 'dinner',\n",
              " 'ways',\n",
              " 'another',\n",
              " 'grain',\n",
              " 'bad',\n",
              " 'without',\n",
              " 'ur',\n",
              " '100',\n",
              " 'found',\n",
              " 'undiagnosed',\n",
              " 'making',\n",
              " '22',\n",
              " 'her',\n",
              " 'r',\n",
              " 'allergic',\n",
              " 'again',\n",
              " 'camp',\n",
              " 'order',\n",
              " 'excited',\n",
              " 'down',\n",
              " 'problems',\n",
              " 'night',\n",
              " 'beer',\n",
              " 'able',\n",
              " 'ago',\n",
              " 'd',\n",
              " 'autoimmune',\n",
              " 'his',\n",
              " 'needs',\n",
              " 'research',\n",
              " 'summer',\n",
              " 'say',\n",
              " 'radio',\n",
              " 'away',\n",
              " 'went',\n",
              " 'non',\n",
              " 'chronic',\n",
              " 'crust',\n",
              " 'forward',\n",
              " 'whole',\n",
              " 'hours',\n",
              " 'serve',\n",
              " 'meals',\n",
              " 'meet',\n",
              " 'fad',\n",
              " '1st',\n",
              " 'call',\n",
              " 'spread',\n",
              " 'doing',\n",
              " 'snack',\n",
              " 'place',\n",
              " 'll',\n",
              " 'hip',\n",
              " 'wait',\n",
              " 'abt',\n",
              " 'cheese',\n",
              " 'retweet',\n",
              " 'shop',\n",
              " 'says',\n",
              " 'affect',\n",
              " 'gt',\n",
              " 'work',\n",
              " 'event',\n",
              " 'stop',\n",
              " 'hope',\n",
              " 'series',\n",
              " 'less',\n",
              " 'enough',\n",
              " 'tonight',\n",
              " 'group',\n",
              " 'weeks',\n",
              " 'he',\n",
              " 'true',\n",
              " 'two',\n",
              " 'pls',\n",
              " 'tx',\n",
              " 'cd',\n",
              " 'guide',\n",
              " 'uk',\n",
              " 'dear',\n",
              " 'yet',\n",
              " 'cookie',\n",
              " 'reading',\n",
              " 'body',\n",
              " 'ready',\n",
              " 'pudding',\n",
              " 'gut',\n",
              " 'intestinal',\n",
              " 'simplify',\n",
              " 'sauce',\n",
              " 'labeling',\n",
              " 'donate',\n",
              " 'full',\n",
              " 'sign',\n",
              " 'win',\n",
              " 'sufferers',\n",
              " 'easier',\n",
              " 'home',\n",
              " 'salad',\n",
              " 'issue',\n",
              " 'such',\n",
              " 'episode',\n",
              " 'difficult',\n",
              " 'common',\n",
              " 'affects',\n",
              " 'every',\n",
              " 'problem',\n",
              " 'remember',\n",
              " 'care',\n",
              " 'welcome',\n",
              " 'recent',\n",
              " 'wrong',\n",
              " 'b12',\n",
              " 'author',\n",
              " 'until',\n",
              " 'egg',\n",
              " 'pm',\n",
              " 'through',\n",
              " '25',\n",
              " 'into',\n",
              " 'tomorrow',\n",
              " '6',\n",
              " 'pasta',\n",
              " 'hard',\n",
              " 'vegan',\n",
              " 'sick',\n",
              " 'box',\n",
              " 'fasano',\n",
              " 'resources',\n",
              " 'yum',\n",
              " 'she',\n",
              " 'plant',\n",
              " 'caused',\n",
              " '20',\n",
              " 'days',\n",
              " 'done',\n",
              " 'sensitive',\n",
              " 'same',\n",
              " 'simple',\n",
              " 'challenge',\n",
              " 'later',\n",
              " 'pretty',\n",
              " 'thing',\n",
              " 'lunch',\n",
              " 'around',\n",
              " 'while',\n",
              " 'gluteneaters',\n",
              " '7',\n",
              " 'looks',\n",
              " 'little',\n",
              " 'advil',\n",
              " 'bet',\n",
              " 'following',\n",
              " 'updates',\n",
              " 'son',\n",
              " 'needed',\n",
              " 'wo',\n",
              " 'revolution',\n",
              " 'donuts',\n",
              " 'questions',\n",
              " 'sweet',\n",
              " 'store',\n",
              " 'rant',\n",
              " 'increase',\n",
              " 'online',\n",
              " 'shirley',\n",
              " 'almond',\n",
              " 'tired',\n",
              " 'under',\n",
              " 'glad',\n",
              " 'meal',\n",
              " 'miss',\n",
              " 'heard',\n",
              " 'dining',\n",
              " 'tried',\n",
              " 'tell',\n",
              " 'deal',\n",
              " '24',\n",
              " 'difference',\n",
              " 'finally',\n",
              " 'articles',\n",
              " 'something',\n",
              " 'doctors',\n",
              " 'talks',\n",
              " 'baguette',\n",
              " '49',\n",
              " 'old',\n",
              " 'tests',\n",
              " 'mom',\n",
              " 'ill',\n",
              " 'since',\n",
              " 'cafe',\n",
              " 'likely',\n",
              " 'digestive',\n",
              " 'lost',\n",
              " 'high',\n",
              " 'delish',\n",
              " 'morning',\n",
              " 'enjoy',\n",
              " 'featured',\n",
              " 'beef',\n",
              " 'providing',\n",
              " 'fracture',\n",
              " 'nonceliac',\n",
              " 'scout',\n",
              " 'boss',\n",
              " 'baking',\n",
              " 'stomach',\n",
              " 'agree',\n",
              " 'often',\n",
              " 'relief',\n",
              " 'especially',\n",
              " 'hate',\n",
              " 'guandalini',\n",
              " 'brownies',\n",
              " 'celiacs',\n",
              " 'cooking',\n",
              " 'feb',\n",
              " 'wow',\n",
              " 'stories',\n",
              " 'ten',\n",
              " 'real',\n",
              " 'using',\n",
              " 'contain',\n",
              " 'stay',\n",
              " 'journey',\n",
              " 'roasted',\n",
              " 'consider',\n",
              " 'family',\n",
              " 'ruining',\n",
              " 'sandwich',\n",
              " 'olympic',\n",
              " 'tooth',\n",
              " 'athletes',\n",
              " 'grains',\n",
              " '9',\n",
              " '12',\n",
              " 'expert',\n",
              " 'save',\n",
              " 'shares',\n",
              " 'club',\n",
              " 'potato',\n",
              " 'kitchen',\n",
              " 'checklist',\n",
              " 'plan',\n",
              " 'school',\n",
              " 'cereal',\n",
              " 'question',\n",
              " 'give',\n",
              " 'greens',\n",
              " 'cure',\n",
              " 'perfect',\n",
              " 'advocate',\n",
              " 'price',\n",
              " '7725691299',\n",
              " 'cool',\n",
              " 'everyone',\n",
              " 'treats',\n",
              " 'results',\n",
              " 'nothing',\n",
              " 'ingredients',\n",
              " 'glyphosate',\n",
              " 'diets',\n",
              " 'among',\n",
              " 'women',\n",
              " 'alternative',\n",
              " 'treatment',\n",
              " 'discovered',\n",
              " 'idea',\n",
              " 'visit',\n",
              " 'rts',\n",
              " 'doctor',\n",
              " 'date',\n",
              " 'taste',\n",
              " 'low',\n",
              " 'forget',\n",
              " 'blogs',\n",
              " 'connection',\n",
              " 'rolls',\n",
              " 'let',\n",
              " 'happen',\n",
              " 'dating',\n",
              " 'vs',\n",
              " 'travel',\n",
              " 'courses',\n",
              " 'bars',\n",
              " 'causes',\n",
              " 'black',\n",
              " 'mini',\n",
              " 'started',\n",
              " 'head',\n",
              " 'feeling',\n",
              " 'prevalence',\n",
              " 'extra',\n",
              " 'hi',\n",
              " 'coconut',\n",
              " 'blogger',\n",
              " 'hidden',\n",
              " 'biggest',\n",
              " 'effect',\n",
              " 'turkey',\n",
              " 'oh',\n",
              " 'minutes',\n",
              " 'each',\n",
              " 'raise',\n",
              " 'fave',\n",
              " 'company',\n",
              " 'sale',\n",
              " 'funny',\n",
              " 'enter',\n",
              " 'helping',\n",
              " 'winter',\n",
              " 'months',\n",
              " 'brands',\n",
              " 'alessio',\n",
              " 'chip',\n",
              " 'resource',\n",
              " 'shopping',\n",
              " 'chips',\n",
              " 'bones',\n",
              " 'folks',\n",
              " 'site',\n",
              " 'goes',\n",
              " 'tea',\n",
              " 'recommended',\n",
              " 'party',\n",
              " 'coping',\n",
              " 'chef',\n",
              " 'word',\n",
              " 'meeting',\n",
              " 'eats',\n",
              " 'sx',\n",
              " 'myths',\n",
              " 'mn',\n",
              " 'website',\n",
              " 'culprit',\n",
              " 'both',\n",
              " 'steps',\n",
              " 'dad',\n",
              " 'improve',\n",
              " 'htt',\n",
              " 'tomato',\n",
              " 'magazine',\n",
              " 'nyc',\n",
              " 'adrenal',\n",
              " 'dishes',\n",
              " 'protein',\n",
              " 'actually',\n",
              " 'butter',\n",
              " 'february',\n",
              " 'pin',\n",
              " 'battle',\n",
              " 'weight',\n",
              " 'green',\n",
              " 'chance',\n",
              " 'else',\n",
              " 'offer',\n",
              " 'coffee',\n",
              " 'starting',\n",
              " 'video',\n",
              " 'choice',\n",
              " 'friend',\n",
              " 'newly',\n",
              " 'tasty',\n",
              " 'everything',\n",
              " 'wish',\n",
              " 'drink',\n",
              " 'tours',\n",
              " 'dairy',\n",
              " 'men',\n",
              " 'researchers',\n",
              " 'already',\n",
              " 'cover',\n",
              " 'ham',\n",
              " 'affected',\n",
              " 'planning',\n",
              " 'pain',\n",
              " '2day',\n",
              " 'against',\n",
              " 'samples',\n",
              " 'tweet',\n",
              " 'helps',\n",
              " 'guidelines',\n",
              " 'lot',\n",
              " 'behind',\n",
              " 'chickpea',\n",
              " 'answer',\n",
              " 'starbucks',\n",
              " 'medalwinning',\n",
              " 'athlete',\n",
              " 'easily',\n",
              " 'pie',\n",
              " 'future',\n",
              " 'whatever',\n",
              " 'product',\n",
              " 'steak',\n",
              " 'took',\n",
              " 'worry',\n",
              " 'lead',\n",
              " 'population',\n",
              " 'apple',\n",
              " 'fellow',\n",
              " 'open',\n",
              " 'diseases',\n",
              " 'sensitivities',\n",
              " 'webinar',\n",
              " 'sister',\n",
              " 'multiple',\n",
              " 'ppl',\n",
              " 'comes',\n",
              " '15',\n",
              " 'roundup',\n",
              " 'cold',\n",
              " 'immune',\n",
              " 'current',\n",
              " 'scary',\n",
              " 'followers',\n",
              " 'treat',\n",
              " 'intolerant',\n",
              " 'pre',\n",
              " 'fresh',\n",
              " 'advice',\n",
              " 'tolerated',\n",
              " 'garlic',\n",
              " 'peeps',\n",
              " 'information',\n",
              " 'signs',\n",
              " 'nj',\n",
              " 'thx',\n",
              " 'cinnamon',\n",
              " 'villous',\n",
              " 'lemon',\n",
              " 'clinic',\n",
              " 'experts',\n",
              " 'baked',\n",
              " 'oatmeal',\n",
              " 'seriously',\n",
              " 'opens',\n",
              " 'necessary',\n",
              " 'lunches',\n",
              " 'yesterday',\n",
              " 'mean',\n",
              " 'ginger',\n",
              " 'diabetes',\n",
              " 'protect',\n",
              " 'pack',\n",
              " 'during',\n",
              " 'canadian',\n",
              " 'said',\n",
              " 'n',\n",
              " 'fb',\n",
              " 'speaking',\n",
              " 'educate',\n",
              " 'homemade',\n",
              " 'parents',\n",
              " 'plotting',\n",
              " 'xoxoxo',\n",
              " 'moment',\n",
              " 'rate',\n",
              " 'supplements',\n",
              " 'comfort',\n",
              " 'screening',\n",
              " 'amazon',\n",
              " 'vitamin',\n",
              " 'gliadin',\n",
              " 'friday',\n",
              " 'watching',\n",
              " 'bake',\n",
              " 'ttb',\n",
              " 'area',\n",
              " 'gastroenterology',\n",
              " 'naturally',\n",
              " 'lots',\n",
              " 'bacon',\n",
              " 'kind',\n",
              " 'motivated',\n",
              " 'cream',\n",
              " 'game',\n",
              " 'pizzas',\n",
              " 'gift',\n",
              " 'journal',\n",
              " 'tweets',\n",
              " 'fractures',\n",
              " 'gi',\n",
              " 'conference',\n",
              " 'end',\n",
              " 'anxiety',\n",
              " 'soon',\n",
              " 'lentil',\n",
              " 'clear',\n",
              " 'tickets',\n",
              " 'oven',\n",
              " 'send',\n",
              " 'acidic',\n",
              " 'corn',\n",
              " 'growth',\n",
              " 'fatigue',\n",
              " 'thoughts',\n",
              " 'red',\n",
              " 'ups',\n",
              " 'develop',\n",
              " 'contest',\n",
              " 'lovely',\n",
              " '19',\n",
              " 'bbq',\n",
              " 'prize',\n",
              " 'effects',\n",
              " 'helped',\n",
              " 'hurt',\n",
              " 'means',\n",
              " 'daily',\n",
              " 'items',\n",
              " 'anything',\n",
              " 'welltolerated',\n",
              " 'facts',\n",
              " 'trend',\n",
              " 'chart',\n",
              " 'hipfracture',\n",
              " 'nfca',\n",
              " 'everyday',\n",
              " 'daughter',\n",
              " 'eggs',\n",
              " 'amber',\n",
              " 'catch',\n",
              " 'label',\n",
              " 'range',\n",
              " 'diabetics',\n",
              " '\\xa0',\n",
              " 'deficiency',\n",
              " 'fl',\n",
              " 'fantastic',\n",
              " 'agreed',\n",
              " 'american',\n",
              " 'snacks',\n",
              " 'past',\n",
              " 'cope',\n",
              " 'expect',\n",
              " 'truth',\n",
              " 'stefano',\n",
              " 'md',\n",
              " 'yummy',\n",
              " 'watch',\n",
              " 'include',\n",
              " 'related',\n",
              " 'potatoes',\n",
              " 'fried',\n",
              " 'et',\n",
              " 'nice',\n",
              " 'lol',\n",
              " 'london',\n",
              " 'march',\n",
              " 'loved',\n",
              " 'click',\n",
              " 'exhausted',\n",
              " 'depression',\n",
              " 'four',\n",
              " 'migraine',\n",
              " 'grocery',\n",
              " 'interested',\n",
              " 'serious',\n",
              " 'atrophy',\n",
              " 'increased',\n",
              " 'angry',\n",
              " 'locations',\n",
              " 'carrying',\n",
              " 'offers',\n",
              " 'yo',\n",
              " 'traveling',\n",
              " 'released',\n",
              " 'nearly',\n",
              " 'shrimp',\n",
              " 'complete',\n",
              " 'tv',\n",
              " 'kale',\n",
              " 'pay',\n",
              " 'speed',\n",
              " 'christine',\n",
              " 'nesbitt',\n",
              " 'add',\n",
              " 'ph',\n",
              " 'pork',\n",
              " 'mistake',\n",
              " 'tool',\n",
              " 'shows',\n",
              " 'checked',\n",
              " 'service',\n",
              " 'muesli',\n",
              " 'additional',\n",
              " 'newsletter',\n",
              " 'cakes',\n",
              " 'episodes',\n",
              " 'pop',\n",
              " '90',\n",
              " 'recently',\n",
              " 'cheating',\n",
              " 'seems',\n",
              " 'banana',\n",
              " 'bar',\n",
              " 'confusing',\n",
              " 'different',\n",
              " 'opinion',\n",
              " 'due',\n",
              " 'accurate',\n",
              " 'hungry',\n",
              " 'worse',\n",
              " 'chat',\n",
              " 'broccoli',\n",
              " 'jennifer',\n",
              " 'reason',\n",
              " 'normal',\n",
              " 'policy',\n",
              " 'guests',\n",
              " 'todays',\n",
              " 'answers',\n",
              " 'spinach',\n",
              " 'age',\n",
              " 'plans',\n",
              " 'loves',\n",
              " 'york',\n",
              " 'saving',\n",
              " 'according',\n",
              " 'small',\n",
              " 'stock',\n",
              " 'pancakes',\n",
              " 'talking',\n",
              " 'veggie',\n",
              " 'alice',\n",
              " 'muffins',\n",
              " 'rates',\n",
              " 'links',\n",
              " 'vanilla',\n",
              " 'liquigels',\n",
              " 'derivative',\n",
              " 'frozen',\n",
              " 'mind',\n",
              " 'italy',\n",
              " 'takes',\n",
              " 'dessert',\n",
              " 'stuff',\n",
              " 'absolutely',\n",
              " 'house',\n",
              " 'him',\n",
              " 'told',\n",
              " 'guru',\n",
              " 'system',\n",
              " 'identifying',\n",
              " 'hollywood',\n",
              " 'center',\n",
              " 'possible',\n",
              " 'crunchy',\n",
              " 'grill',\n",
              " 'japonica',\n",
              " ...]"
            ]
          },
          "metadata": {
            "tags": []
          },
          "execution_count": 19
        }
      ]
    },
    {
      "cell_type": "code",
      "metadata": {
        "id": "yPWr03mls3VT",
        "colab_type": "code",
        "colab": {}
      },
      "source": [
        "model_path = path/'models'\n",
        "model_path.mkdir(exist_ok=True)\n",
        "url = 'http://files.fast.ai/models/wt103_v1/'\n",
        "download_url(f'{url}lstm_wt103.pth', model_path/'lstm_wt103.pth')\n",
        "download_url(f'{url}itos_wt103.pkl', model_path/'itos_wt103.pkl')"
      ],
      "execution_count": 0,
      "outputs": []
    },
    {
      "cell_type": "code",
      "metadata": {
        "id": "JRzvWg8RtGGr",
        "colab_type": "code",
        "colab": {}
      },
      "source": [
        "learn = language_model_learner(data_lm, AWD_LSTM, drop_mult=0.5)"
      ],
      "execution_count": 0,
      "outputs": []
    },
    {
      "cell_type": "code",
      "metadata": {
        "id": "xKK7GeBev7Xn",
        "colab_type": "code",
        "colab": {
          "base_uri": "https://localhost:8080/",
          "height": 79
        },
        "outputId": "34c65b5c-6943-48ea-fd79-efd11e5bac6a"
      },
      "source": [
        "learn.fit_one_cycle(1, 1e-2)"
      ],
      "execution_count": 22,
      "outputs": [
        {
          "output_type": "display_data",
          "data": {
            "text/html": [
              "<table border=\"1\" class=\"dataframe\">\n",
              "  <thead>\n",
              "    <tr style=\"text-align: left;\">\n",
              "      <th>epoch</th>\n",
              "      <th>train_loss</th>\n",
              "      <th>valid_loss</th>\n",
              "      <th>accuracy</th>\n",
              "      <th>time</th>\n",
              "    </tr>\n",
              "  </thead>\n",
              "  <tbody>\n",
              "    <tr>\n",
              "      <td>0</td>\n",
              "      <td>5.136908</td>\n",
              "      <td>4.210674</td>\n",
              "      <td>0.272577</td>\n",
              "      <td>04:23</td>\n",
              "    </tr>\n",
              "  </tbody>\n",
              "</table>"
            ],
            "text/plain": [
              "<IPython.core.display.HTML object>"
            ]
          },
          "metadata": {
            "tags": []
          }
        }
      ]
    },
    {
      "cell_type": "code",
      "metadata": {
        "id": "iB7rHGQCwd12",
        "colab_type": "code",
        "colab": {
          "base_uri": "https://localhost:8080/",
          "height": 79
        },
        "outputId": "347a0be8-11da-4070-95e5-c2092d99ddda"
      },
      "source": [
        "learn.fit_one_cycle(1, 1e-2)"
      ],
      "execution_count": 23,
      "outputs": [
        {
          "output_type": "display_data",
          "data": {
            "text/html": [
              "<table border=\"1\" class=\"dataframe\">\n",
              "  <thead>\n",
              "    <tr style=\"text-align: left;\">\n",
              "      <th>epoch</th>\n",
              "      <th>train_loss</th>\n",
              "      <th>valid_loss</th>\n",
              "      <th>accuracy</th>\n",
              "      <th>time</th>\n",
              "    </tr>\n",
              "  </thead>\n",
              "  <tbody>\n",
              "    <tr>\n",
              "      <td>0</td>\n",
              "      <td>4.051464</td>\n",
              "      <td>3.677505</td>\n",
              "      <td>0.333897</td>\n",
              "      <td>04:21</td>\n",
              "    </tr>\n",
              "  </tbody>\n",
              "</table>"
            ],
            "text/plain": [
              "<IPython.core.display.HTML object>"
            ]
          },
          "metadata": {
            "tags": []
          }
        }
      ]
    },
    {
      "cell_type": "code",
      "metadata": {
        "id": "_BnSuAeCwkBe",
        "colab_type": "code",
        "colab": {
          "base_uri": "https://localhost:8080/",
          "height": 79
        },
        "outputId": "51c3eb2c-5e0b-4e31-d9de-4a96f4b0d931"
      },
      "source": [
        "learn.fit_one_cycle(1, 1e-3)"
      ],
      "execution_count": 24,
      "outputs": [
        {
          "output_type": "display_data",
          "data": {
            "text/html": [
              "<table border=\"1\" class=\"dataframe\">\n",
              "  <thead>\n",
              "    <tr style=\"text-align: left;\">\n",
              "      <th>epoch</th>\n",
              "      <th>train_loss</th>\n",
              "      <th>valid_loss</th>\n",
              "      <th>accuracy</th>\n",
              "      <th>time</th>\n",
              "    </tr>\n",
              "  </thead>\n",
              "  <tbody>\n",
              "    <tr>\n",
              "      <td>0</td>\n",
              "      <td>3.769664</td>\n",
              "      <td>3.634775</td>\n",
              "      <td>0.339892</td>\n",
              "      <td>04:29</td>\n",
              "    </tr>\n",
              "  </tbody>\n",
              "</table>"
            ],
            "text/plain": [
              "<IPython.core.display.HTML object>"
            ]
          },
          "metadata": {
            "tags": []
          }
        }
      ]
    },
    {
      "cell_type": "code",
      "metadata": {
        "id": "MuTm-RFjwrEX",
        "colab_type": "code",
        "colab": {
          "base_uri": "https://localhost:8080/",
          "height": 79
        },
        "outputId": "7fbfcbfc-b79e-4da3-bec2-1afc19879547"
      },
      "source": [
        "learn.fit_one_cycle(1, 1e-3)"
      ],
      "execution_count": 25,
      "outputs": [
        {
          "output_type": "display_data",
          "data": {
            "text/html": [
              "<table border=\"1\" class=\"dataframe\">\n",
              "  <thead>\n",
              "    <tr style=\"text-align: left;\">\n",
              "      <th>epoch</th>\n",
              "      <th>train_loss</th>\n",
              "      <th>valid_loss</th>\n",
              "      <th>accuracy</th>\n",
              "      <th>time</th>\n",
              "    </tr>\n",
              "  </thead>\n",
              "  <tbody>\n",
              "    <tr>\n",
              "      <td>0</td>\n",
              "      <td>3.710653</td>\n",
              "      <td>3.595909</td>\n",
              "      <td>0.344898</td>\n",
              "      <td>04:24</td>\n",
              "    </tr>\n",
              "  </tbody>\n",
              "</table>"
            ],
            "text/plain": [
              "<IPython.core.display.HTML object>"
            ]
          },
          "metadata": {
            "tags": []
          }
        }
      ]
    },
    {
      "cell_type": "code",
      "metadata": {
        "id": "1Er2ExO8wr7Y",
        "colab_type": "code",
        "colab": {}
      },
      "source": [
        "learn.save_encoder('bigtweet_fold4_first')"
      ],
      "execution_count": 0,
      "outputs": []
    },
    {
      "cell_type": "code",
      "metadata": {
        "id": "z52cZs2qwvad",
        "colab_type": "code",
        "colab": {
          "base_uri": "https://localhost:8080/",
          "height": 79
        },
        "outputId": "f10c2345-5dc4-4bac-c4f4-11201fff9d3a"
      },
      "source": [
        "learn = text_classifier_learner(data_clas,AWD_LSTM, drop_mult=0.5)\n",
        "learn.load_encoder('bigtweet_fold4_first')\n",
        "learn.fit_one_cycle(1, 1e-2)"
      ],
      "execution_count": 27,
      "outputs": [
        {
          "output_type": "display_data",
          "data": {
            "text/html": [
              "<table border=\"1\" class=\"dataframe\">\n",
              "  <thead>\n",
              "    <tr style=\"text-align: left;\">\n",
              "      <th>epoch</th>\n",
              "      <th>train_loss</th>\n",
              "      <th>valid_loss</th>\n",
              "      <th>accuracy</th>\n",
              "      <th>time</th>\n",
              "    </tr>\n",
              "  </thead>\n",
              "  <tbody>\n",
              "    <tr>\n",
              "      <td>0</td>\n",
              "      <td>4.643535</td>\n",
              "      <td>4.327496</td>\n",
              "      <td>0.298309</td>\n",
              "      <td>01:19</td>\n",
              "    </tr>\n",
              "  </tbody>\n",
              "</table>"
            ],
            "text/plain": [
              "<IPython.core.display.HTML object>"
            ]
          },
          "metadata": {
            "tags": []
          }
        }
      ]
    },
    {
      "cell_type": "code",
      "metadata": {
        "id": "ImwQP1PJwzxd",
        "colab_type": "code",
        "colab": {
          "base_uri": "https://localhost:8080/",
          "height": 79
        },
        "outputId": "5d7b8688-0062-4584-9285-62587af756e5"
      },
      "source": [
        "learn.freeze_to(-2)\n",
        "learn.fit_one_cycle(1, slice(5e-3/2., 5e-3))"
      ],
      "execution_count": 28,
      "outputs": [
        {
          "output_type": "display_data",
          "data": {
            "text/html": [
              "<table border=\"1\" class=\"dataframe\">\n",
              "  <thead>\n",
              "    <tr style=\"text-align: left;\">\n",
              "      <th>epoch</th>\n",
              "      <th>train_loss</th>\n",
              "      <th>valid_loss</th>\n",
              "      <th>accuracy</th>\n",
              "      <th>time</th>\n",
              "    </tr>\n",
              "  </thead>\n",
              "  <tbody>\n",
              "    <tr>\n",
              "      <td>0</td>\n",
              "      <td>3.869188</td>\n",
              "      <td>3.828566</td>\n",
              "      <td>0.371981</td>\n",
              "      <td>01:29</td>\n",
              "    </tr>\n",
              "  </tbody>\n",
              "</table>"
            ],
            "text/plain": [
              "<IPython.core.display.HTML object>"
            ]
          },
          "metadata": {
            "tags": []
          }
        }
      ]
    },
    {
      "cell_type": "code",
      "metadata": {
        "id": "Owff_BJXw53u",
        "colab_type": "code",
        "colab": {
          "base_uri": "https://localhost:8080/",
          "height": 79
        },
        "outputId": "d1125185-569e-4400-8f26-a2c81efa5a18"
      },
      "source": [
        "learn.unfreeze()\n",
        "learn.fit_one_cycle(1, slice(2e-3/100, 2e-3))"
      ],
      "execution_count": 29,
      "outputs": [
        {
          "output_type": "display_data",
          "data": {
            "text/html": [
              "<table border=\"1\" class=\"dataframe\">\n",
              "  <thead>\n",
              "    <tr style=\"text-align: left;\">\n",
              "      <th>epoch</th>\n",
              "      <th>train_loss</th>\n",
              "      <th>valid_loss</th>\n",
              "      <th>accuracy</th>\n",
              "      <th>time</th>\n",
              "    </tr>\n",
              "  </thead>\n",
              "  <tbody>\n",
              "    <tr>\n",
              "      <td>0</td>\n",
              "      <td>3.524093</td>\n",
              "      <td>3.667972</td>\n",
              "      <td>0.396135</td>\n",
              "      <td>03:40</td>\n",
              "    </tr>\n",
              "  </tbody>\n",
              "</table>"
            ],
            "text/plain": [
              "<IPython.core.display.HTML object>"
            ]
          },
          "metadata": {
            "tags": []
          }
        }
      ]
    },
    {
      "cell_type": "code",
      "metadata": {
        "id": "lqAyu56V8Waq",
        "colab_type": "code",
        "colab": {
          "base_uri": "https://localhost:8080/",
          "height": 110
        },
        "outputId": "8dc74be3-d1fd-46b0-fe96-e04b2c345fd2"
      },
      "source": [
        "learn.fit_one_cycle(2, slice(2e-3/100, 2e-3))"
      ],
      "execution_count": 30,
      "outputs": [
        {
          "output_type": "display_data",
          "data": {
            "text/html": [
              "<table border=\"1\" class=\"dataframe\">\n",
              "  <thead>\n",
              "    <tr style=\"text-align: left;\">\n",
              "      <th>epoch</th>\n",
              "      <th>train_loss</th>\n",
              "      <th>valid_loss</th>\n",
              "      <th>accuracy</th>\n",
              "      <th>time</th>\n",
              "    </tr>\n",
              "  </thead>\n",
              "  <tbody>\n",
              "    <tr>\n",
              "      <td>0</td>\n",
              "      <td>3.398040</td>\n",
              "      <td>3.438875</td>\n",
              "      <td>0.413043</td>\n",
              "      <td>03:54</td>\n",
              "    </tr>\n",
              "    <tr>\n",
              "      <td>1</td>\n",
              "      <td>3.172596</td>\n",
              "      <td>3.346619</td>\n",
              "      <td>0.427536</td>\n",
              "      <td>04:00</td>\n",
              "    </tr>\n",
              "  </tbody>\n",
              "</table>"
            ],
            "text/plain": [
              "<IPython.core.display.HTML object>"
            ]
          },
          "metadata": {
            "tags": []
          }
        }
      ]
    },
    {
      "cell_type": "code",
      "metadata": {
        "id": "a7I1xMRp8bUd",
        "colab_type": "code",
        "colab": {
          "base_uri": "https://localhost:8080/",
          "height": 110
        },
        "outputId": "dadf7bf8-6a94-45b5-efc2-83f344d82fdb"
      },
      "source": [
        "learn.fit_one_cycle(2, slice(2e-3/100, 2e-3))"
      ],
      "execution_count": 31,
      "outputs": [
        {
          "output_type": "display_data",
          "data": {
            "text/html": [
              "<table border=\"1\" class=\"dataframe\">\n",
              "  <thead>\n",
              "    <tr style=\"text-align: left;\">\n",
              "      <th>epoch</th>\n",
              "      <th>train_loss</th>\n",
              "      <th>valid_loss</th>\n",
              "      <th>accuracy</th>\n",
              "      <th>time</th>\n",
              "    </tr>\n",
              "  </thead>\n",
              "  <tbody>\n",
              "    <tr>\n",
              "      <td>0</td>\n",
              "      <td>3.030760</td>\n",
              "      <td>3.286966</td>\n",
              "      <td>0.427536</td>\n",
              "      <td>03:58</td>\n",
              "    </tr>\n",
              "    <tr>\n",
              "      <td>1</td>\n",
              "      <td>3.034153</td>\n",
              "      <td>3.279406</td>\n",
              "      <td>0.435990</td>\n",
              "      <td>03:42</td>\n",
              "    </tr>\n",
              "  </tbody>\n",
              "</table>"
            ],
            "text/plain": [
              "<IPython.core.display.HTML object>"
            ]
          },
          "metadata": {
            "tags": []
          }
        }
      ]
    },
    {
      "cell_type": "code",
      "metadata": {
        "id": "UAnti-XmGVfO",
        "colab_type": "code",
        "colab": {
          "base_uri": "https://localhost:8080/",
          "height": 110
        },
        "outputId": "57239d1a-458c-4afe-8360-af5852130d9e"
      },
      "source": [
        "learn.fit_one_cycle(2, slice(2e-3/100, 2e-3))"
      ],
      "execution_count": 32,
      "outputs": [
        {
          "output_type": "display_data",
          "data": {
            "text/html": [
              "<table border=\"1\" class=\"dataframe\">\n",
              "  <thead>\n",
              "    <tr style=\"text-align: left;\">\n",
              "      <th>epoch</th>\n",
              "      <th>train_loss</th>\n",
              "      <th>valid_loss</th>\n",
              "      <th>accuracy</th>\n",
              "      <th>time</th>\n",
              "    </tr>\n",
              "  </thead>\n",
              "  <tbody>\n",
              "    <tr>\n",
              "      <td>0</td>\n",
              "      <td>2.984600</td>\n",
              "      <td>3.181027</td>\n",
              "      <td>0.437198</td>\n",
              "      <td>03:46</td>\n",
              "    </tr>\n",
              "    <tr>\n",
              "      <td>1</td>\n",
              "      <td>2.782577</td>\n",
              "      <td>3.126896</td>\n",
              "      <td>0.446860</td>\n",
              "      <td>03:58</td>\n",
              "    </tr>\n",
              "  </tbody>\n",
              "</table>"
            ],
            "text/plain": [
              "<IPython.core.display.HTML object>"
            ]
          },
          "metadata": {
            "tags": []
          }
        }
      ]
    },
    {
      "cell_type": "code",
      "metadata": {
        "id": "bIft7W25GwSu",
        "colab_type": "code",
        "colab": {
          "base_uri": "https://localhost:8080/",
          "height": 110
        },
        "outputId": "c005edad-8403-4720-82ca-87e1cd955938"
      },
      "source": [
        "learn.fit_one_cycle(2, slice(2e-3/100, 2e-3))"
      ],
      "execution_count": 33,
      "outputs": [
        {
          "output_type": "display_data",
          "data": {
            "text/html": [
              "<table border=\"1\" class=\"dataframe\">\n",
              "  <thead>\n",
              "    <tr style=\"text-align: left;\">\n",
              "      <th>epoch</th>\n",
              "      <th>train_loss</th>\n",
              "      <th>valid_loss</th>\n",
              "      <th>accuracy</th>\n",
              "      <th>time</th>\n",
              "    </tr>\n",
              "  </thead>\n",
              "  <tbody>\n",
              "    <tr>\n",
              "      <td>0</td>\n",
              "      <td>2.772133</td>\n",
              "      <td>3.133345</td>\n",
              "      <td>0.450483</td>\n",
              "      <td>03:54</td>\n",
              "    </tr>\n",
              "    <tr>\n",
              "      <td>1</td>\n",
              "      <td>2.691344</td>\n",
              "      <td>3.075701</td>\n",
              "      <td>0.446860</td>\n",
              "      <td>03:47</td>\n",
              "    </tr>\n",
              "  </tbody>\n",
              "</table>"
            ],
            "text/plain": [
              "<IPython.core.display.HTML object>"
            ]
          },
          "metadata": {
            "tags": []
          }
        }
      ]
    },
    {
      "cell_type": "code",
      "metadata": {
        "id": "EEHszVRvGyFt",
        "colab_type": "code",
        "colab": {
          "base_uri": "https://localhost:8080/",
          "height": 110
        },
        "outputId": "2974d2bf-d98a-40e1-92f6-d86c1b9d9be8"
      },
      "source": [
        "learn.fit_one_cycle(2, slice(2e-3/100, 2e-3))"
      ],
      "execution_count": 34,
      "outputs": [
        {
          "output_type": "display_data",
          "data": {
            "text/html": [
              "<table border=\"1\" class=\"dataframe\">\n",
              "  <thead>\n",
              "    <tr style=\"text-align: left;\">\n",
              "      <th>epoch</th>\n",
              "      <th>train_loss</th>\n",
              "      <th>valid_loss</th>\n",
              "      <th>accuracy</th>\n",
              "      <th>time</th>\n",
              "    </tr>\n",
              "  </thead>\n",
              "  <tbody>\n",
              "    <tr>\n",
              "      <td>0</td>\n",
              "      <td>2.645781</td>\n",
              "      <td>3.057143</td>\n",
              "      <td>0.467391</td>\n",
              "      <td>03:58</td>\n",
              "    </tr>\n",
              "    <tr>\n",
              "      <td>1</td>\n",
              "      <td>2.596673</td>\n",
              "      <td>3.050850</td>\n",
              "      <td>0.461353</td>\n",
              "      <td>03:45</td>\n",
              "    </tr>\n",
              "  </tbody>\n",
              "</table>"
            ],
            "text/plain": [
              "<IPython.core.display.HTML object>"
            ]
          },
          "metadata": {
            "tags": []
          }
        }
      ]
    },
    {
      "cell_type": "code",
      "metadata": {
        "id": "XsHfrhCHG3dN",
        "colab_type": "code",
        "colab": {
          "base_uri": "https://localhost:8080/",
          "height": 171
        },
        "outputId": "7c7ab370-8332-47ab-fc67-0f8894a90528"
      },
      "source": [
        "learn.fit_one_cycle(4, slice(2e-3/100, 2e-3))"
      ],
      "execution_count": 35,
      "outputs": [
        {
          "output_type": "display_data",
          "data": {
            "text/html": [
              "<table border=\"1\" class=\"dataframe\">\n",
              "  <thead>\n",
              "    <tr style=\"text-align: left;\">\n",
              "      <th>epoch</th>\n",
              "      <th>train_loss</th>\n",
              "      <th>valid_loss</th>\n",
              "      <th>accuracy</th>\n",
              "      <th>time</th>\n",
              "    </tr>\n",
              "  </thead>\n",
              "  <tbody>\n",
              "    <tr>\n",
              "      <td>0</td>\n",
              "      <td>2.525389</td>\n",
              "      <td>3.018938</td>\n",
              "      <td>0.456522</td>\n",
              "      <td>03:40</td>\n",
              "    </tr>\n",
              "    <tr>\n",
              "      <td>1</td>\n",
              "      <td>2.535276</td>\n",
              "      <td>3.054662</td>\n",
              "      <td>0.458937</td>\n",
              "      <td>03:50</td>\n",
              "    </tr>\n",
              "    <tr>\n",
              "      <td>2</td>\n",
              "      <td>2.512902</td>\n",
              "      <td>3.042873</td>\n",
              "      <td>0.464976</td>\n",
              "      <td>04:04</td>\n",
              "    </tr>\n",
              "    <tr>\n",
              "      <td>3</td>\n",
              "      <td>2.390213</td>\n",
              "      <td>2.969960</td>\n",
              "      <td>0.467391</td>\n",
              "      <td>03:46</td>\n",
              "    </tr>\n",
              "  </tbody>\n",
              "</table>"
            ],
            "text/plain": [
              "<IPython.core.display.HTML object>"
            ]
          },
          "metadata": {
            "tags": []
          }
        }
      ]
    },
    {
      "cell_type": "code",
      "metadata": {
        "id": "0Zsd99isb9EQ",
        "colab_type": "code",
        "colab": {
          "base_uri": "https://localhost:8080/",
          "height": 171
        },
        "outputId": "e9aab78a-6c7d-4fd8-a5b8-b325d667fdfb"
      },
      "source": [
        "learn.fit_one_cycle(4, slice(2e-3/100, 2e-3))"
      ],
      "execution_count": 36,
      "outputs": [
        {
          "output_type": "display_data",
          "data": {
            "text/html": [
              "<table border=\"1\" class=\"dataframe\">\n",
              "  <thead>\n",
              "    <tr style=\"text-align: left;\">\n",
              "      <th>epoch</th>\n",
              "      <th>train_loss</th>\n",
              "      <th>valid_loss</th>\n",
              "      <th>accuracy</th>\n",
              "      <th>time</th>\n",
              "    </tr>\n",
              "  </thead>\n",
              "  <tbody>\n",
              "    <tr>\n",
              "      <td>0</td>\n",
              "      <td>2.466293</td>\n",
              "      <td>2.995451</td>\n",
              "      <td>0.469807</td>\n",
              "      <td>03:59</td>\n",
              "    </tr>\n",
              "    <tr>\n",
              "      <td>1</td>\n",
              "      <td>2.460733</td>\n",
              "      <td>3.030260</td>\n",
              "      <td>0.463768</td>\n",
              "      <td>03:45</td>\n",
              "    </tr>\n",
              "    <tr>\n",
              "      <td>2</td>\n",
              "      <td>2.396108</td>\n",
              "      <td>3.016617</td>\n",
              "      <td>0.477053</td>\n",
              "      <td>03:33</td>\n",
              "    </tr>\n",
              "    <tr>\n",
              "      <td>3</td>\n",
              "      <td>2.337207</td>\n",
              "      <td>3.023128</td>\n",
              "      <td>0.468599</td>\n",
              "      <td>03:49</td>\n",
              "    </tr>\n",
              "  </tbody>\n",
              "</table>"
            ],
            "text/plain": [
              "<IPython.core.display.HTML object>"
            ]
          },
          "metadata": {
            "tags": []
          }
        }
      ]
    },
    {
      "cell_type": "code",
      "metadata": {
        "id": "atNWNKDFPbuI",
        "colab_type": "code",
        "colab": {
          "base_uri": "https://localhost:8080/",
          "height": 171
        },
        "outputId": "a64d2a54-1b20-42cd-fc0e-ba35edd9b374"
      },
      "source": [
        "learn.fit_one_cycle(4, slice(2e-3/100, 2e-3))"
      ],
      "execution_count": 37,
      "outputs": [
        {
          "output_type": "display_data",
          "data": {
            "text/html": [
              "<table border=\"1\" class=\"dataframe\">\n",
              "  <thead>\n",
              "    <tr style=\"text-align: left;\">\n",
              "      <th>epoch</th>\n",
              "      <th>train_loss</th>\n",
              "      <th>valid_loss</th>\n",
              "      <th>accuracy</th>\n",
              "      <th>time</th>\n",
              "    </tr>\n",
              "  </thead>\n",
              "  <tbody>\n",
              "    <tr>\n",
              "      <td>0</td>\n",
              "      <td>2.323862</td>\n",
              "      <td>3.094115</td>\n",
              "      <td>0.461353</td>\n",
              "      <td>03:42</td>\n",
              "    </tr>\n",
              "    <tr>\n",
              "      <td>1</td>\n",
              "      <td>2.424077</td>\n",
              "      <td>3.102745</td>\n",
              "      <td>0.452899</td>\n",
              "      <td>03:52</td>\n",
              "    </tr>\n",
              "    <tr>\n",
              "      <td>2</td>\n",
              "      <td>2.431175</td>\n",
              "      <td>3.094921</td>\n",
              "      <td>0.458937</td>\n",
              "      <td>03:44</td>\n",
              "    </tr>\n",
              "    <tr>\n",
              "      <td>3</td>\n",
              "      <td>2.300790</td>\n",
              "      <td>3.034491</td>\n",
              "      <td>0.467391</td>\n",
              "      <td>03:39</td>\n",
              "    </tr>\n",
              "  </tbody>\n",
              "</table>"
            ],
            "text/plain": [
              "<IPython.core.display.HTML object>"
            ]
          },
          "metadata": {
            "tags": []
          }
        }
      ]
    },
    {
      "cell_type": "code",
      "metadata": {
        "id": "rKrBTZ0T1uVA",
        "colab_type": "code",
        "colab": {
          "base_uri": "https://localhost:8080/",
          "height": 171
        },
        "outputId": "427fd5b1-86c8-4f54-f8d8-c311c33a3d0c"
      },
      "source": [
        "learn.fit_one_cycle(4, slice(2e-3/100, 2e-3))"
      ],
      "execution_count": 38,
      "outputs": [
        {
          "output_type": "display_data",
          "data": {
            "text/html": [
              "<table border=\"1\" class=\"dataframe\">\n",
              "  <thead>\n",
              "    <tr style=\"text-align: left;\">\n",
              "      <th>epoch</th>\n",
              "      <th>train_loss</th>\n",
              "      <th>valid_loss</th>\n",
              "      <th>accuracy</th>\n",
              "      <th>time</th>\n",
              "    </tr>\n",
              "  </thead>\n",
              "  <tbody>\n",
              "    <tr>\n",
              "      <td>0</td>\n",
              "      <td>2.306098</td>\n",
              "      <td>3.078142</td>\n",
              "      <td>0.469807</td>\n",
              "      <td>04:05</td>\n",
              "    </tr>\n",
              "    <tr>\n",
              "      <td>1</td>\n",
              "      <td>2.328220</td>\n",
              "      <td>3.072494</td>\n",
              "      <td>0.472222</td>\n",
              "      <td>03:57</td>\n",
              "    </tr>\n",
              "    <tr>\n",
              "      <td>2</td>\n",
              "      <td>2.321225</td>\n",
              "      <td>3.139161</td>\n",
              "      <td>0.474638</td>\n",
              "      <td>03:41</td>\n",
              "    </tr>\n",
              "    <tr>\n",
              "      <td>3</td>\n",
              "      <td>2.256360</td>\n",
              "      <td>3.148902</td>\n",
              "      <td>0.468599</td>\n",
              "      <td>03:54</td>\n",
              "    </tr>\n",
              "  </tbody>\n",
              "</table>"
            ],
            "text/plain": [
              "<IPython.core.display.HTML object>"
            ]
          },
          "metadata": {
            "tags": []
          }
        }
      ]
    },
    {
      "cell_type": "code",
      "metadata": {
        "id": "ajQC6WDg1yA9",
        "colab_type": "code",
        "colab": {
          "base_uri": "https://localhost:8080/",
          "height": 171
        },
        "outputId": "24c71f41-57e3-49ee-9880-df400219b95c"
      },
      "source": [
        "learn.fit_one_cycle(4, slice(2e-3/100, 2e-3))"
      ],
      "execution_count": 39,
      "outputs": [
        {
          "output_type": "display_data",
          "data": {
            "text/html": [
              "<table border=\"1\" class=\"dataframe\">\n",
              "  <thead>\n",
              "    <tr style=\"text-align: left;\">\n",
              "      <th>epoch</th>\n",
              "      <th>train_loss</th>\n",
              "      <th>valid_loss</th>\n",
              "      <th>accuracy</th>\n",
              "      <th>time</th>\n",
              "    </tr>\n",
              "  </thead>\n",
              "  <tbody>\n",
              "    <tr>\n",
              "      <td>0</td>\n",
              "      <td>2.201885</td>\n",
              "      <td>3.094347</td>\n",
              "      <td>0.471014</td>\n",
              "      <td>03:40</td>\n",
              "    </tr>\n",
              "    <tr>\n",
              "      <td>1</td>\n",
              "      <td>2.259495</td>\n",
              "      <td>3.094810</td>\n",
              "      <td>0.467391</td>\n",
              "      <td>03:52</td>\n",
              "    </tr>\n",
              "    <tr>\n",
              "      <td>2</td>\n",
              "      <td>2.246244</td>\n",
              "      <td>3.109401</td>\n",
              "      <td>0.472222</td>\n",
              "      <td>03:48</td>\n",
              "    </tr>\n",
              "    <tr>\n",
              "      <td>3</td>\n",
              "      <td>2.195169</td>\n",
              "      <td>3.080960</td>\n",
              "      <td>0.468599</td>\n",
              "      <td>03:56</td>\n",
              "    </tr>\n",
              "  </tbody>\n",
              "</table>"
            ],
            "text/plain": [
              "<IPython.core.display.HTML object>"
            ]
          },
          "metadata": {
            "tags": []
          }
        }
      ]
    },
    {
      "cell_type": "code",
      "metadata": {
        "id": "KKydb0B4BKGk",
        "colab_type": "code",
        "colab": {
          "base_uri": "https://localhost:8080/",
          "height": 171
        },
        "outputId": "2ed56997-6599-4c2b-db59-b38b2917a9b9"
      },
      "source": [
        "learn.fit_one_cycle(4, slice(2e-3/100, 2e-3))"
      ],
      "execution_count": 40,
      "outputs": [
        {
          "output_type": "display_data",
          "data": {
            "text/html": [
              "<table border=\"1\" class=\"dataframe\">\n",
              "  <thead>\n",
              "    <tr style=\"text-align: left;\">\n",
              "      <th>epoch</th>\n",
              "      <th>train_loss</th>\n",
              "      <th>valid_loss</th>\n",
              "      <th>accuracy</th>\n",
              "      <th>time</th>\n",
              "    </tr>\n",
              "  </thead>\n",
              "  <tbody>\n",
              "    <tr>\n",
              "      <td>0</td>\n",
              "      <td>2.194278</td>\n",
              "      <td>3.183734</td>\n",
              "      <td>0.471014</td>\n",
              "      <td>03:36</td>\n",
              "    </tr>\n",
              "    <tr>\n",
              "      <td>1</td>\n",
              "      <td>2.265203</td>\n",
              "      <td>3.115763</td>\n",
              "      <td>0.471014</td>\n",
              "      <td>04:04</td>\n",
              "    </tr>\n",
              "    <tr>\n",
              "      <td>2</td>\n",
              "      <td>2.226325</td>\n",
              "      <td>3.157380</td>\n",
              "      <td>0.464976</td>\n",
              "      <td>03:46</td>\n",
              "    </tr>\n",
              "    <tr>\n",
              "      <td>3</td>\n",
              "      <td>2.120949</td>\n",
              "      <td>3.155853</td>\n",
              "      <td>0.468599</td>\n",
              "      <td>03:52</td>\n",
              "    </tr>\n",
              "  </tbody>\n",
              "</table>"
            ],
            "text/plain": [
              "<IPython.core.display.HTML object>"
            ]
          },
          "metadata": {
            "tags": []
          }
        }
      ]
    },
    {
      "cell_type": "code",
      "metadata": {
        "id": "T2APKtFKBpGY",
        "colab_type": "code",
        "colab": {
          "base_uri": "https://localhost:8080/",
          "height": 171
        },
        "outputId": "347e77c0-a77b-4fb3-f96b-c885311630da"
      },
      "source": [
        "learn.fit_one_cycle(4, slice(2e-3/100, 2e-3))"
      ],
      "execution_count": 41,
      "outputs": [
        {
          "output_type": "display_data",
          "data": {
            "text/html": [
              "<table border=\"1\" class=\"dataframe\">\n",
              "  <thead>\n",
              "    <tr style=\"text-align: left;\">\n",
              "      <th>epoch</th>\n",
              "      <th>train_loss</th>\n",
              "      <th>valid_loss</th>\n",
              "      <th>accuracy</th>\n",
              "      <th>time</th>\n",
              "    </tr>\n",
              "  </thead>\n",
              "  <tbody>\n",
              "    <tr>\n",
              "      <td>0</td>\n",
              "      <td>2.200794</td>\n",
              "      <td>3.179410</td>\n",
              "      <td>0.467391</td>\n",
              "      <td>03:54</td>\n",
              "    </tr>\n",
              "    <tr>\n",
              "      <td>1</td>\n",
              "      <td>2.286073</td>\n",
              "      <td>3.199004</td>\n",
              "      <td>0.464976</td>\n",
              "      <td>03:50</td>\n",
              "    </tr>\n",
              "    <tr>\n",
              "      <td>2</td>\n",
              "      <td>2.234743</td>\n",
              "      <td>3.234541</td>\n",
              "      <td>0.472222</td>\n",
              "      <td>04:04</td>\n",
              "    </tr>\n",
              "    <tr>\n",
              "      <td>3</td>\n",
              "      <td>2.135508</td>\n",
              "      <td>3.263991</td>\n",
              "      <td>0.462560</td>\n",
              "      <td>03:42</td>\n",
              "    </tr>\n",
              "  </tbody>\n",
              "</table>"
            ],
            "text/plain": [
              "<IPython.core.display.HTML object>"
            ]
          },
          "metadata": {
            "tags": []
          }
        }
      ]
    },
    {
      "cell_type": "code",
      "metadata": {
        "id": "c65d-osfDUXm",
        "colab_type": "code",
        "colab": {}
      },
      "source": [
        "# save the best model\n",
        "\n",
        "learn.save_encoder('ask-4-tuning-bigtweet')"
      ],
      "execution_count": 0,
      "outputs": []
    },
    {
      "cell_type": "markdown",
      "metadata": {
        "id": "rCwZU0E2RgM6",
        "colab_type": "text"
      },
      "source": [
        "# Part three: Predict on the test dataset"
      ]
    },
    {
      "cell_type": "code",
      "metadata": {
        "id": "gDm72c-dOu7d",
        "colab_type": "code",
        "colab": {}
      },
      "source": [
        "# use the test data for prediction\n",
        "\n",
        "preds, y = learn.get_preds(DatasetType.Test)"
      ],
      "execution_count": 0,
      "outputs": []
    },
    {
      "cell_type": "code",
      "metadata": {
        "id": "6tFSQcsWPvxn",
        "colab_type": "code",
        "colab": {
          "base_uri": "https://localhost:8080/",
          "height": 107
        },
        "outputId": "17ddf354-af6e-4789-a7f6-524bd3bf7ec3"
      },
      "source": [
        "predictions, *_ = learn.get_preds(DatasetType.Test)\n",
        "labels = np.argmax(predictions, 1)\n",
        "predict_list = labels.tolist()\n",
        "standard_list = test[0].tolist()\n",
        "\n",
        "print(len(predict_list))\n",
        "print(len(standard_list))\n",
        "\n",
        "print(predict_list)\n",
        "print(standard_list)"
      ],
      "execution_count": 44,
      "outputs": [
        {
          "output_type": "stream",
          "text": [
            "866\n",
            "866\n",
            "[624, 1035, 1026, 1026, 16, 359, 298, 298, 27, 486, 31, 414, 414, 414, 414, 32, 37, 415, 864, 864, 37, 289, 289, 1035, 517, 92, 949, 49, 0, 517, 214, 214, 214, 214, 214, 214, 214, 214, 214, 214, 214, 214, 53, 517, 53, 517, 864, 521, 61, 61, 62, 517, 76, 76, 76, 30, 289, 172, 517, 172, 172, 172, 172, 172, 172, 172, 172, 172, 172, 172, 172, 172, 172, 172, 172, 172, 172, 172, 172, 172, 517, 825, 80, 80, 80, 89, 1026, 808, 1026, 1026, 1026, 94, 94, 94, 517, 517, 517, 517, 517, 517, 135, 135, 135, 135, 289, 94, 94, 49, 265, 902, 265, 503, 185, 650, 864, 1035, 517, 864, 864, 289, 210, 182, 864, 289, 1035, 116, 517, 831, 265, 265, 125, 125, 125, 125, 125, 125, 125, 125, 125, 125, 125, 125, 125, 125, 125, 125, 125, 129, 131, 139, 140, 189, 788, 1035, 160, 178, 178, 164, 517, 291, 741, 741, 289, 864, 864, 864, 1035, 479, 178, 182, 741, 465, 864, 864, 289, 289, 352, 183, 517, 183, 183, 183, 183, 183, 183, 183, 183, 517, 240, 240, 111, 1035, 1035, 352, 30, 190, 190, 190, 190, 289, 289, 3, 197, 205, 864, 189, 427, 210, 164, 1035, 265, 517, 896, 896, 806, 896, 896, 265, 289, 289, 318, 517, 517, 745, 220, 864, 140, 140, 443, 190, 228, 228, 228, 228, 228, 228, 228, 228, 228, 228, 228, 228, 463, 592, 283, 235, 235, 236, 236, 265, 164, 243, 517, 517, 243, 243, 517, 10, 210, 289, 517, 517, 770, 210, 210, 210, 607, 517, 289, 265, 265, 364, 265, 265, 265, 265, 775, 265, 265, 265, 265, 265, 265, 265, 265, 265, 1035, 289, 1035, 265, 444, 517, 517, 574, 276, 199, 199, 1035, 451, 517, 517, 288, 289, 289, 289, 265, 289, 289, 289, 289, 76, 289, 30, 289, 211, 289, 289, 289, 289, 289, 289, 265, 5, 265, 771, 301, 265, 805, 517, 864, 864, 1035, 864, 1035, 318, 318, 321, 517, 517, 1035, 49, 49, 49, 301, 301, 301, 301, 301, 301, 203, 805, 49, 49, 326, 1035, 1026, 1026, 691, 430, 337, 1035, 1035, 644, 768, 706, 517, 129, 129, 343, 343, 343, 129, 685, 701, 487, 359, 359, 359, 0, 360, 517, 358, 517, 423, 794, 20, 140, 638, 1035, 427, 427, 462, 517, 517, 358, 402, 402, 809, 517, 517, 517, 333, 1035, 652, 210, 652, 652, 624, 517, 517, 426, 426, 426, 426, 1035, 1026, 514, 500, 517, 517, 517, 517, 1035, 517, 430, 430, 1035, 434, 434, 521, 441, 878, 441, 441, 446, 517, 517, 517, 1035, 1035, 460, 517, 50, 703, 572, 494, 194, 1035, 301, 475, 286, 491, 491, 541, 491, 491, 491, 662, 662, 662, 662, 876, 210, 491, 1035, 517, 517, 547, 375, 706, 443, 164, 517, 1035, 272, 517, 120, 447, 517, 289, 530, 530, 530, 805, 805, 805, 1035, 517, 517, 541, 541, 652, 545, 1035, 298, 444, 164, 517, 517, 1035, 557, 517, 247, 14, 565, 210, 247, 210, 624, 430, 579, 210, 583, 31, 517, 517, 517, 716, 716, 716, 1035, 427, 1035, 517, 517, 289, 541, 517, 173, 426, 614, 614, 614, 614, 866, 866, 517, 1035, 528, 528, 903, 903, 518, 210, 720, 427, 182, 858, 890, 716, 819, 603, 644, 786, 646, 646, 646, 646, 646, 646, 646, 646, 245, 651, 652, 652, 652, 289, 289, 1035, 1035, 662, 662, 491, 666, 666, 671, 491, 681, 741, 517, 698, 364, 1035, 1035, 1035, 1035, 155, 1035, 1035, 1035, 288, 1035, 894, 1035, 289, 864, 819, 1035, 749, 753, 1035, 210, 289, 1035, 245, 210, 210, 125, 778, 1035, 402, 164, 780, 1035, 1035, 517, 151, 344, 1035, 443, 745, 745, 745, 246, 810, 514, 614, 1035, 1035, 824, 745, 1026, 806, 517, 517, 517, 164, 517, 517, 1035, 120, 517, 517, 517, 517, 0, 247, 517, 517, 1035, 1035, 164, 847, 531, 847, 416, 624, 1035, 517, 517, 164, 164, 517, 517, 517, 517, 517, 517, 517, 517, 100, 861, 579, 775, 864, 864, 864, 865, 861, 117, 117, 896, 877, 427, 178, 890, 205, 896, 896, 896, 704, 877, 367, 896, 904, 904, 824, 402, 895, 473, 517, 164, 164, 164, 1002, 517, 164, 164, 517, 517, 164, 164, 164, 164, 1026, 1026, 1026, 1026, 164, 164, 164, 164, 164, 164, 164, 164, 164, 164, 164, 164, 164, 164, 164, 164, 164, 164, 164, 164, 164, 164, 164, 164, 164, 164, 164, 164, 164, 164, 164, 164, 164, 164, 164, 164, 164, 164, 164, 164, 164, 164, 164, 164, 164, 164, 164, 164, 164, 164, 164, 164, 164, 164, 164, 164, 164, 164, 164, 164, 164, 164, 164, 164, 164, 164, 164, 164, 164, 164, 164, 164, 164, 164, 164, 164, 517, 517, 517, 517, 517, 517, 517, 517, 517, 517, 517, 517, 517, 517, 517, 517, 517, 517, 517, 517, 517, 517, 517, 517, 517, 517, 517, 517, 517, 517, 517, 164, 164, 517, 517, 164, 164, 517, 517, 928, 517, 164, 164, 517, 517, 517, 805, 164, 164, 164, 164, 164, 517, 164, 355, 355, 517, 517, 937, 443, 1026, 517, 517, 1026, 517, 517, 1028, 1029, 1028, 164, 933]\n",
            "[4, 6, 8, 12, 16, 16, 27, 27, 27, 29, 31, 31, 31, 31, 31, 32, 37, 37, 37, 37, 37, 37, 37, 42, 48, 49, 49, 49, 49, 49, 49, 49, 49, 49, 49, 49, 49, 49, 49, 49, 49, 49, 53, 53, 53, 53, 59, 60, 61, 61, 62, 64, 76, 76, 76, 76, 76, 79, 79, 79, 79, 79, 79, 79, 79, 79, 79, 79, 79, 79, 79, 79, 79, 79, 79, 79, 79, 79, 79, 79, 79, 79, 80, 80, 80, 89, 91, 91, 92, 92, 92, 94, 94, 94, 94, 94, 94, 94, 94, 94, 94, 94, 94, 94, 94, 94, 94, 96, 96, 96, 100, 100, 100, 107, 108, 108, 108, 111, 111, 111, 111, 111, 111, 111, 113, 116, 119, 120, 122, 122, 125, 125, 125, 125, 125, 125, 125, 125, 125, 125, 125, 125, 125, 125, 125, 125, 125, 129, 131, 139, 140, 143, 147, 157, 160, 165, 165, 166, 166, 168, 172, 172, 172, 172, 172, 172, 172, 175, 178, 182, 182, 182, 182, 182, 182, 182, 182, 183, 183, 183, 183, 183, 183, 183, 183, 183, 183, 186, 187, 187, 188, 189, 189, 190, 190, 190, 190, 190, 190, 190, 195, 197, 197, 205, 206, 207, 208, 210, 214, 214, 214, 214, 214, 214, 214, 214, 214, 214, 214, 214, 216, 216, 218, 220, 220, 223, 226, 226, 227, 228, 228, 228, 228, 228, 228, 228, 228, 228, 228, 228, 228, 228, 228, 234, 234, 235, 235, 236, 236, 236, 243, 243, 243, 243, 243, 243, 243, 245, 245, 245, 245, 245, 245, 245, 245, 245, 246, 254, 265, 265, 265, 265, 265, 265, 265, 265, 265, 265, 265, 265, 265, 265, 265, 265, 265, 265, 265, 265, 265, 265, 268, 270, 271, 274, 276, 280, 280, 281, 285, 286, 287, 288, 289, 289, 289, 289, 289, 289, 289, 289, 289, 289, 289, 289, 289, 289, 289, 289, 289, 289, 289, 298, 300, 300, 301, 301, 301, 301, 301, 309, 309, 309, 309, 312, 318, 318, 321, 323, 323, 323, 325, 325, 325, 325, 325, 325, 325, 325, 325, 325, 325, 325, 325, 326, 326, 332, 332, 335, 336, 337, 337, 337, 338, 338, 339, 342, 343, 343, 343, 343, 343, 343, 348, 350, 359, 359, 359, 359, 359, 360, 362, 363, 364, 366, 368, 372, 382, 385, 390, 391, 391, 393, 396, 401, 402, 402, 402, 402, 408, 408, 408, 409, 418, 419, 419, 419, 419, 419, 420, 424, 426, 426, 426, 426, 427, 427, 427, 427, 427, 427, 427, 427, 427, 427, 430, 430, 431, 434, 434, 435, 441, 441, 441, 441, 446, 455, 455, 455, 455, 459, 460, 463, 470, 470, 471, 471, 472, 474, 475, 475, 489, 491, 491, 491, 491, 491, 491, 491, 491, 491, 491, 491, 491, 491, 492, 495, 495, 508, 509, 510, 511, 516, 516, 517, 517, 517, 518, 521, 522, 529, 530, 530, 530, 530, 536, 536, 537, 540, 540, 541, 541, 545, 545, 546, 546, 546, 548, 548, 548, 556, 557, 559, 565, 567, 568, 570, 570, 573, 574, 577, 579, 579, 583, 584, 590, 590, 590, 592, 592, 594, 594, 596, 597, 597, 597, 604, 610, 610, 614, 614, 614, 614, 614, 614, 616, 616, 619, 619, 623, 623, 623, 623, 623, 624, 626, 627, 633, 639, 640, 644, 644, 644, 644, 646, 646, 646, 646, 646, 646, 646, 646, 646, 648, 652, 652, 652, 652, 652, 655, 658, 658, 662, 662, 664, 666, 666, 671, 676, 684, 686, 693, 696, 702, 708, 711, 711, 711, 714, 715, 715, 715, 723, 724, 728, 741, 741, 742, 744, 746, 749, 753, 758, 765, 769, 772, 774, 775, 775, 777, 778, 787, 789, 794, 794, 797, 801, 803, 808, 809, 809, 809, 809, 809, 809, 809, 810, 811, 816, 817, 817, 824, 825, 826, 826, 826, 826, 826, 830, 830, 830, 830, 831, 832, 838, 840, 840, 840, 841, 841, 841, 844, 846, 847, 847, 847, 847, 848, 849, 850, 852, 852, 853, 853, 853, 853, 853, 853, 853, 853, 853, 853, 853, 854, 860, 860, 864, 864, 864, 865, 867, 876, 876, 877, 877, 878, 882, 890, 893, 896, 896, 896, 896, 896, 896, 897, 904, 904, 904, 904, 910, 911, 918, 919, 919, 919, 921, 924, 937, 937, 937, 937, 942, 945, 948, 948, 949, 949, 949, 949, 949, 949, 949, 949, 949, 949, 949, 949, 949, 949, 949, 949, 949, 949, 949, 949, 949, 949, 949, 949, 949, 949, 949, 949, 949, 949, 949, 949, 949, 949, 949, 949, 949, 949, 949, 949, 949, 949, 949, 949, 949, 949, 949, 949, 949, 949, 949, 949, 949, 949, 949, 949, 949, 949, 949, 949, 949, 949, 949, 949, 949, 949, 949, 949, 949, 949, 949, 949, 949, 949, 949, 949, 949, 949, 949, 949, 949, 949, 949, 949, 949, 949, 949, 949, 949, 949, 949, 949, 949, 949, 949, 949, 949, 949, 949, 949, 949, 949, 949, 949, 949, 949, 949, 949, 949, 949, 949, 950, 950, 950, 951, 952, 952, 954, 955, 961, 964, 967, 967, 967, 968, 969, 977, 996, 998, 999, 1001, 1001, 1001, 1007, 1015, 1015, 1016, 1017, 1018, 1025, 1026, 1026, 1026, 1026, 1026, 1026, 1028, 1029, 1031, 1033, 1035]\n"
          ],
          "name": "stdout"
        }
      ]
    },
    {
      "cell_type": "code",
      "metadata": {
        "id": "XIC4zufnMxtq",
        "colab_type": "code",
        "colab": {
          "base_uri": "https://localhost:8080/",
          "height": 52
        },
        "outputId": "6a55a405-7fc5-4ac6-ff71-f653078cd20e"
      },
      "source": [
        "correct_num = 0\n",
        "\n",
        "for i in range(0, 866):\n",
        "  if predict_list[i] == standard_list[i]:\n",
        "    correct_num = correct_num+1\n",
        "  else:\n",
        "    pass\n",
        "print(correct_num)\n",
        "\n",
        "predict_accuracy = correct_num/len(predict_list)\n",
        "print(predict_accuracy)"
      ],
      "execution_count": 45,
      "outputs": [
        {
          "output_type": "stream",
          "text": [
            "206\n",
            "0.23787528868360278\n"
          ],
          "name": "stdout"
        }
      ]
    },
    {
      "cell_type": "code",
      "metadata": {
        "id": "zlKMHp1CIaRJ",
        "colab_type": "code",
        "colab": {}
      },
      "source": [
        ""
      ],
      "execution_count": 0,
      "outputs": []
    }
  ]
}