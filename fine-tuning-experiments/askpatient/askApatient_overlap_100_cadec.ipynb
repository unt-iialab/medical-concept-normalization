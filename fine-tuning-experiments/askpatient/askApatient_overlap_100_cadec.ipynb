{
  "nbformat": 4,
  "nbformat_minor": 0,
  "metadata": {
    "colab": {
      "name": "askApatient_overlap_100_cadec.ipynb",
      "provenance": [],
      "collapsed_sections": [],
      "toc_visible": true,
      "include_colab_link": true
    },
    "kernelspec": {
      "name": "python3",
      "display_name": "Python 3"
    },
    "accelerator": "TPU"
  },
  "cells": [
    {
      "cell_type": "markdown",
      "metadata": {
        "id": "view-in-github",
        "colab_type": "text"
      },
      "source": [
        "<a href=\"https://colab.research.google.com/github/unt-iialab/medical-concept-normalization/blob/master/fine-tuning-experiments/askpatient/askApatient_overlap_100_cadec.ipynb\" target=\"_parent\"><img src=\"https://colab.research.google.com/assets/colab-badge.svg\" alt=\"Open In Colab\"/></a>"
      ]
    },
    {
      "cell_type": "code",
      "metadata": {
        "id": "adSi6i2-dWxy",
        "colab_type": "code",
        "colab": {}
      },
      "source": [
        "import os"
      ],
      "execution_count": 0,
      "outputs": []
    },
    {
      "cell_type": "code",
      "metadata": {
        "id": "E7xYCRGPjd9B",
        "colab_type": "code",
        "colab": {}
      },
      "source": [
        "base_dir = 'medical-concept-normalization'"
      ],
      "execution_count": 0,
      "outputs": []
    },
    {
      "cell_type": "code",
      "metadata": {
        "id": "yvIW3aUDjYNS",
        "colab_type": "code",
        "colab": {}
      },
      "source": [
        "os.mkdir(base_dir)"
      ],
      "execution_count": 0,
      "outputs": []
    },
    {
      "cell_type": "code",
      "metadata": {
        "id": "es-FFLlfk6SG",
        "colab_type": "code",
        "colab": {}
      },
      "source": [
        "os.mkdir('medical-concept-normalization/data_collection')"
      ],
      "execution_count": 0,
      "outputs": []
    },
    {
      "cell_type": "markdown",
      "metadata": {
        "id": "0R-Guw_VoJXm",
        "colab_type": "text"
      },
      "source": [
        "**Install fastai and clone the fastai for text classification**\n",
        "\n"
      ]
    },
    {
      "cell_type": "code",
      "metadata": {
        "id": "QVZa3Z0PmHFH",
        "colab_type": "code",
        "outputId": "1b6e373f-1b65-4c59-cb92-0054e26d6fc3",
        "colab": {
          "base_uri": "https://localhost:8080/",
          "height": 102
        }
      },
      "source": [
        "!curl https://course-v3.fast.ai/setup/colab | bash"
      ],
      "execution_count": 5,
      "outputs": [
        {
          "output_type": "stream",
          "text": [
            "  % Total    % Received % Xferd  Average Speed   Time    Time     Time  Current\n",
            "                                 Dload  Upload   Total   Spent    Left  Speed\n",
            "100   287  100   287    0     0    969      0 --:--:-- --:--:-- --:--:--   972\n",
            "bash: line 1: syntax error near unexpected token `newline'\n",
            "bash: line 1: `<!DOCTYPE HTML PUBLIC \"-//IETF//DTD HTML 2.0//EN\">'\n"
          ],
          "name": "stdout"
        }
      ]
    },
    {
      "cell_type": "code",
      "metadata": {
        "id": "_FBFFEBrmJC0",
        "colab_type": "code",
        "outputId": "037c8b57-fda6-4e58-8050-d0319044c4fa",
        "colab": {
          "base_uri": "https://localhost:8080/",
          "height": 85
        }
      },
      "source": [
        "!git clone https://github.com/wshuyi/demo-nlp-classification-fastai.git"
      ],
      "execution_count": 6,
      "outputs": [
        {
          "output_type": "stream",
          "text": [
            "Cloning into 'demo-nlp-classification-fastai'...\n",
            "remote: Enumerating objects: 9, done.\u001b[K\n",
            "remote: Total 9 (delta 0), reused 0 (delta 0), pack-reused 9\u001b[K\n",
            "Unpacking objects: 100% (9/9), done.\n"
          ],
          "name": "stdout"
        }
      ]
    },
    {
      "cell_type": "code",
      "metadata": {
        "id": "66zfh_JqmWMU",
        "colab_type": "code",
        "colab": {}
      },
      "source": [
        "from fastai import *\n",
        "from fastai.text import *"
      ],
      "execution_count": 0,
      "outputs": []
    },
    {
      "cell_type": "markdown",
      "metadata": {
        "id": "mNIw-yALdBU9",
        "colab_type": "text"
      },
      "source": [
        "**Set the path of the data collections**"
      ]
    },
    {
      "cell_type": "code",
      "metadata": {
        "id": "pzH7VMh4mqCL",
        "colab_type": "code",
        "colab": {}
      },
      "source": [
        "path = Path('medical-concept-normalization/data_collection')"
      ],
      "execution_count": 0,
      "outputs": []
    },
    {
      "cell_type": "code",
      "metadata": {
        "id": "b8fjI6yyn4aS",
        "colab_type": "code",
        "colab": {}
      },
      "source": [
        "# training data set\n",
        "\n",
        "train_csv = path/'AskAPatient.fold-0.train.csv'\n",
        "train = pd.read_csv(train_csv, header=None)\n",
        "#train.head()\n",
        "#train.info()"
      ],
      "execution_count": 0,
      "outputs": []
    },
    {
      "cell_type": "code",
      "metadata": {
        "id": "Hmlr-bAorfHd",
        "colab_type": "code",
        "outputId": "774708f6-07dc-459c-f1e0-c2904c50e5e5",
        "colab": {
          "base_uri": "https://localhost:8080/",
          "height": 204
        }
      },
      "source": [
        "# validating data set\n",
        "\n",
        "valid = pd.read_csv(path/\"AskAPatient.fold-0.validation.csv\",header=None)\n",
        "valid.head()"
      ],
      "execution_count": 12,
      "outputs": [
        {
          "output_type": "execute_result",
          "data": {
            "text/html": [
              "<div>\n",
              "<style scoped>\n",
              "    .dataframe tbody tr th:only-of-type {\n",
              "        vertical-align: middle;\n",
              "    }\n",
              "\n",
              "    .dataframe tbody tr th {\n",
              "        vertical-align: top;\n",
              "    }\n",
              "\n",
              "    .dataframe thead th {\n",
              "        text-align: right;\n",
              "    }\n",
              "</style>\n",
              "<table border=\"1\" class=\"dataframe\">\n",
              "  <thead>\n",
              "    <tr style=\"text-align: right;\">\n",
              "      <th></th>\n",
              "      <th>0</th>\n",
              "      <th>1</th>\n",
              "    </tr>\n",
              "  </thead>\n",
              "  <tbody>\n",
              "    <tr>\n",
              "      <th>0</th>\n",
              "      <td>0</td>\n",
              "      <td>fear</td>\n",
              "    </tr>\n",
              "    <tr>\n",
              "      <th>1</th>\n",
              "      <td>2</td>\n",
              "      <td>heel pain</td>\n",
              "    </tr>\n",
              "    <tr>\n",
              "      <th>2</th>\n",
              "      <td>4</td>\n",
              "      <td>purple sploches around waist</td>\n",
              "    </tr>\n",
              "    <tr>\n",
              "      <th>3</th>\n",
              "      <td>7</td>\n",
              "      <td>goiter</td>\n",
              "    </tr>\n",
              "    <tr>\n",
              "      <th>4</th>\n",
              "      <td>8</td>\n",
              "      <td>ARTHRITIS</td>\n",
              "    </tr>\n",
              "  </tbody>\n",
              "</table>\n",
              "</div>"
            ],
            "text/plain": [
              "   0                             1\n",
              "0  0                          fear\n",
              "1  2                     heel pain\n",
              "2  4  purple sploches around waist\n",
              "3  7                        goiter\n",
              "4  8                     ARTHRITIS"
            ]
          },
          "metadata": {
            "tags": []
          },
          "execution_count": 12
        }
      ]
    },
    {
      "cell_type": "code",
      "metadata": {
        "id": "cOza9dfSsBud",
        "colab_type": "code",
        "outputId": "e09c77ae-6afe-407c-bc96-b57942c5cbdc",
        "colab": {
          "base_uri": "https://localhost:8080/",
          "height": 204
        }
      },
      "source": [
        "# testing data set\n",
        "\n",
        "test = pd.read_csv(path/\"AskAPatient_overlap_100.csv\",header=None)\n",
        "test.head()"
      ],
      "execution_count": 13,
      "outputs": [
        {
          "output_type": "execute_result",
          "data": {
            "text/html": [
              "<div>\n",
              "<style scoped>\n",
              "    .dataframe tbody tr th:only-of-type {\n",
              "        vertical-align: middle;\n",
              "    }\n",
              "\n",
              "    .dataframe tbody tr th {\n",
              "        vertical-align: top;\n",
              "    }\n",
              "\n",
              "    .dataframe thead th {\n",
              "        text-align: right;\n",
              "    }\n",
              "</style>\n",
              "<table border=\"1\" class=\"dataframe\">\n",
              "  <thead>\n",
              "    <tr style=\"text-align: right;\">\n",
              "      <th></th>\n",
              "      <th>0</th>\n",
              "      <th>1</th>\n",
              "    </tr>\n",
              "  </thead>\n",
              "  <tbody>\n",
              "    <tr>\n",
              "      <th>0</th>\n",
              "      <td>2</td>\n",
              "      <td>heel pain</td>\n",
              "    </tr>\n",
              "    <tr>\n",
              "      <th>1</th>\n",
              "      <td>2</td>\n",
              "      <td>heel pain</td>\n",
              "    </tr>\n",
              "    <tr>\n",
              "      <th>2</th>\n",
              "      <td>8</td>\n",
              "      <td>arthritis</td>\n",
              "    </tr>\n",
              "    <tr>\n",
              "      <th>3</th>\n",
              "      <td>8</td>\n",
              "      <td>arthritis</td>\n",
              "    </tr>\n",
              "    <tr>\n",
              "      <th>4</th>\n",
              "      <td>8</td>\n",
              "      <td>arthritis</td>\n",
              "    </tr>\n",
              "  </tbody>\n",
              "</table>\n",
              "</div>"
            ],
            "text/plain": [
              "   0          1\n",
              "0  2  heel pain\n",
              "1  2  heel pain\n",
              "2  8  arthritis\n",
              "3  8  arthritis\n",
              "4  8  arthritis"
            ]
          },
          "metadata": {
            "tags": []
          },
          "execution_count": 13
        }
      ]
    },
    {
      "cell_type": "code",
      "metadata": {
        "id": "Vo-YNvVYoaH6",
        "colab_type": "code",
        "colab": {}
      },
      "source": [
        "# Creating DataBunch for language modelling\n",
        "\n",
        "data_lm = TextLMDataBunch.from_csv(path, 'fine_tuning_language_model_cadec_data.csv')"
      ],
      "execution_count": 0,
      "outputs": []
    },
    {
      "cell_type": "code",
      "metadata": {
        "id": "1ScY9afDsnvE",
        "colab_type": "code",
        "colab": {}
      },
      "source": [
        "# Creating DataBunch for classification\n",
        "\n",
        "# data_clas = TextClasDataBunch.from_df(path, train, valid, test, vocab=data_lm.train_ds.vocab, bs=128)"
      ],
      "execution_count": 0,
      "outputs": []
    },
    {
      "cell_type": "code",
      "metadata": {
        "id": "gzrSdQcvey9p",
        "colab_type": "code",
        "colab": {}
      },
      "source": [
        "data_clas = TextClasDataBunch.from_df(path, train, valid, vocab=data_lm.train_ds.vocab, bs=128)"
      ],
      "execution_count": 0,
      "outputs": []
    },
    {
      "cell_type": "code",
      "metadata": {
        "id": "MD27Tf0Ke3ou",
        "colab_type": "code",
        "colab": {}
      },
      "source": [
        "data_clas.add_test(test,label=0)\n"
      ],
      "execution_count": 0,
      "outputs": []
    },
    {
      "cell_type": "code",
      "metadata": {
        "id": "-dpjnk_rstwk",
        "colab_type": "code",
        "outputId": "d2f72bae-5959-4e5e-8c12-fca55cf54803",
        "colab": {
          "base_uri": "https://localhost:8080/",
          "height": 71
        }
      },
      "source": [
        "data_lm.save()\n",
        "data_clas.save()"
      ],
      "execution_count": 18,
      "outputs": [
        {
          "output_type": "stream",
          "text": [
            "/usr/local/lib/python3.6/dist-packages/torch/serialization.py:292: UserWarning: Couldn't retrieve source code for container of type CrossEntropyLoss. It won't be checked for correctness upon loading.\n",
            "  \"type \" + obj.__name__ + \". It won't be checked \"\n"
          ],
          "name": "stderr"
        }
      ]
    },
    {
      "cell_type": "code",
      "metadata": {
        "id": "4OkiJa36sw5s",
        "colab_type": "code",
        "colab": {
          "base_uri": "https://localhost:8080/",
          "height": 1000
        },
        "outputId": "a50d3f0f-fd27-4aad-b367-b5311c4ca6a7"
      },
      "source": [
        "data_lm.train_ds.vocab.itos"
      ],
      "execution_count": 19,
      "outputs": [
        {
          "output_type": "execute_result",
          "data": {
            "text/plain": [
              "['xxunk',\n",
              " 'xxpad',\n",
              " 'xxbos',\n",
              " 'xxeos',\n",
              " 'xxfld',\n",
              " 'xxmaj',\n",
              " 'xxup',\n",
              " 'xxrep',\n",
              " 'xxwrep',\n",
              " '.',\n",
              " ',',\n",
              " 'i',\n",
              " 'and',\n",
              " 'the',\n",
              " 'to',\n",
              " 'my',\n",
              " 'a',\n",
              " 'of',\n",
              " 'it',\n",
              " 'in',\n",
              " 'pain',\n",
              " 'for',\n",
              " 'have',\n",
              " 'was',\n",
              " 'lipitor',\n",
              " 'this',\n",
              " 'on',\n",
              " 'that',\n",
              " 'not',\n",
              " 'but',\n",
              " 'is',\n",
              " 'with',\n",
              " 'taking',\n",
              " 'had',\n",
              " 'after',\n",
              " '-',\n",
              " 'me',\n",
              " 'muscle',\n",
              " 'drug',\n",
              " 'side',\n",
              " 'all',\n",
              " \"n't\",\n",
              " 'am',\n",
              " 'effects',\n",
              " 'cholesterol',\n",
              " ')',\n",
              " 'so',\n",
              " '(',\n",
              " 'been',\n",
              " 'as',\n",
              " 'back',\n",
              " 'from',\n",
              " 'mg',\n",
              " 'be',\n",
              " 'no',\n",
              " 'at',\n",
              " 'years',\n",
              " 'take',\n",
              " 'about',\n",
              " '/',\n",
              " 'has',\n",
              " '!',\n",
              " 'did',\n",
              " 'will',\n",
              " 'now',\n",
              " 'doctor',\n",
              " 'very',\n",
              " 'day',\n",
              " 'months',\n",
              " 'like',\n",
              " 'or',\n",
              " 'off',\n",
              " 'severe',\n",
              " 'do',\n",
              " 'up',\n",
              " 'are',\n",
              " 'started',\n",
              " 'if',\n",
              " 'when',\n",
              " 'stopped',\n",
              " 'could',\n",
              " 'days',\n",
              " 'took',\n",
              " '3',\n",
              " 'also',\n",
              " 'symptoms',\n",
              " 'time',\n",
              " 'problems',\n",
              " 'would',\n",
              " 'loss',\n",
              " '2',\n",
              " 'weeks',\n",
              " 'some',\n",
              " 'legs',\n",
              " 'just',\n",
              " 'can',\n",
              " 'then',\n",
              " 'went',\n",
              " 'more',\n",
              " 'one',\n",
              " 'get',\n",
              " 'out',\n",
              " 'feel',\n",
              " 'leg',\n",
              " 'over',\n",
              " 'any',\n",
              " 'an',\n",
              " 'you',\n",
              " 'by',\n",
              " 'he',\n",
              " 'ago',\n",
              " 'only',\n",
              " '10',\n",
              " 'still',\n",
              " 'lower',\n",
              " 'cramps',\n",
              " 'week',\n",
              " \"'s\",\n",
              " 'stomach',\n",
              " 'bad',\n",
              " 'never',\n",
              " 'other',\n",
              " 'again',\n",
              " 'medication',\n",
              " 'they',\n",
              " \"'m\",\n",
              " 'which',\n",
              " 'better',\n",
              " 'feeling',\n",
              " 'before',\n",
              " 'were',\n",
              " 'felt',\n",
              " 'blood',\n",
              " 'because',\n",
              " 'fatigue',\n",
              " 'two',\n",
              " 'memory',\n",
              " 'walk',\n",
              " 'down',\n",
              " 'feet',\n",
              " 'pains',\n",
              " 'go',\n",
              " 'left',\n",
              " \"'ve\",\n",
              " 'joint',\n",
              " 'much',\n",
              " 'extreme',\n",
              " 'first',\n",
              " '5',\n",
              " 'night',\n",
              " 'since',\n",
              " 'what',\n",
              " 'weakness',\n",
              " 'these',\n",
              " '4',\n",
              " '&',\n",
              " '1',\n",
              " 'life',\n",
              " 'stop',\n",
              " 'sleep',\n",
              " 'heart',\n",
              " 'high',\n",
              " '20',\n",
              " 'statins',\n",
              " 'taken',\n",
              " 'dr',\n",
              " 'than',\n",
              " 'there',\n",
              " 'right',\n",
              " 'having',\n",
              " 'see',\n",
              " 'well',\n",
              " ';',\n",
              " 'who',\n",
              " 'depression',\n",
              " 'statin',\n",
              " '?',\n",
              " 'year',\n",
              " 'muscles',\n",
              " 'going',\n",
              " 'experienced',\n",
              " 'good',\n",
              " 'even',\n",
              " 'know',\n",
              " 'thought',\n",
              " 'told',\n",
              " 'dose',\n",
              " 'month',\n",
              " 'aches',\n",
              " 'within',\n",
              " 'worse',\n",
              " 'should',\n",
              " 'away',\n",
              " 'body',\n",
              " 'neck',\n",
              " 'few',\n",
              " 'getting',\n",
              " 'work',\n",
              " 'same',\n",
              " 'shoulder',\n",
              " 'last',\n",
              " 'many',\n",
              " 'almost',\n",
              " 'said',\n",
              " '6',\n",
              " '40',\n",
              " 'got',\n",
              " 'think',\n",
              " 'every',\n",
              " 'another',\n",
              " 'until',\n",
              " 'being',\n",
              " 'both',\n",
              " 'put',\n",
              " 'people',\n",
              " 'due',\n",
              " 'your',\n",
              " 'arms',\n",
              " 'knee',\n",
              " 'hands',\n",
              " 'cramping',\n",
              " 'normal',\n",
              " ':',\n",
              " 'ldl',\n",
              " 'drugs',\n",
              " 'noticed',\n",
              " 'problem',\n",
              " 'gas',\n",
              " 'levels',\n",
              " 'does',\n",
              " 'really',\n",
              " 'long',\n",
              " 'liver',\n",
              " 'reading',\n",
              " 'try',\n",
              " 'headaches',\n",
              " 'doctors',\n",
              " 'arm',\n",
              " 'how',\n",
              " 'cause',\n",
              " 'found',\n",
              " 'great',\n",
              " 'times',\n",
              " 'without',\n",
              " 'too',\n",
              " 'damage',\n",
              " 'test',\n",
              " 'help',\n",
              " 'while',\n",
              " 'developed',\n",
              " 'hip',\n",
              " 'exercise',\n",
              " 'ca',\n",
              " 'increased',\n",
              " 'stopping',\n",
              " 'caused',\n",
              " 'prescribed',\n",
              " 'several',\n",
              " 'gone',\n",
              " 'morning',\n",
              " 'she',\n",
              " 'bleeding',\n",
              " 'pill',\n",
              " 'diet',\n",
              " 'most',\n",
              " 'immediately',\n",
              " 'lowered',\n",
              " 'bed',\n",
              " 'old',\n",
              " 'tired',\n",
              " 'three',\n",
              " 'effect',\n",
              " 'tingling',\n",
              " 'hurt',\n",
              " 'experiencing',\n",
              " 'shoulders',\n",
              " 'them',\n",
              " 'use',\n",
              " 'find',\n",
              " 'began',\n",
              " 'may',\n",
              " 'chest',\n",
              " 'lot',\n",
              " 'foot',\n",
              " 'however',\n",
              " 'vision',\n",
              " 'site',\n",
              " 'sure',\n",
              " 'arthritis',\n",
              " 'make',\n",
              " 'made',\n",
              " 'term',\n",
              " 'constant',\n",
              " 'we',\n",
              " 'way',\n",
              " 'short',\n",
              " 'hair',\n",
              " 'something',\n",
              " 'ever',\n",
              " 'terrible',\n",
              " 'joints',\n",
              " 'especially',\n",
              " 'knees',\n",
              " 'recently',\n",
              " 'walking',\n",
              " 'tried',\n",
              " 'abdominal',\n",
              " 'read',\n",
              " 'painful',\n",
              " 'little',\n",
              " 'medicine',\n",
              " 'recommend',\n",
              " 'total',\n",
              " 'came',\n",
              " 'results',\n",
              " '%',\n",
              " 'hdl',\n",
              " 'stiffness',\n",
              " 'relief',\n",
              " 'need',\n",
              " 'hours',\n",
              " 'once',\n",
              " 'tests',\n",
              " 'hope',\n",
              " 'level',\n",
              " 'lowering',\n",
              " 'done',\n",
              " 'myself',\n",
              " 'daily',\n",
              " 'sore',\n",
              " 'low',\n",
              " 'later',\n",
              " 'arthrotec',\n",
              " 'things',\n",
              " 'though',\n",
              " 'next',\n",
              " 'worth',\n",
              " '8',\n",
              " 'insomnia',\n",
              " 'anyone',\n",
              " 'similar',\n",
              " 'works',\n",
              " 'quit',\n",
              " 'causing',\n",
              " 'believe',\n",
              " '7',\n",
              " 'weight',\n",
              " 'reduced',\n",
              " 'website',\n",
              " 'nausea',\n",
              " 'unable',\n",
              " 'around',\n",
              " 'horrible',\n",
              " 'anything',\n",
              " \"'\",\n",
              " 'related',\n",
              " 'attack',\n",
              " '--',\n",
              " 'dosage',\n",
              " 'finally',\n",
              " 'pressure',\n",
              " 'weak',\n",
              " 'half',\n",
              " 'always',\n",
              " 'its',\n",
              " 'general',\n",
              " 'diarrhea',\n",
              " 'elevated',\n",
              " 'seems',\n",
              " 'far',\n",
              " 'headache',\n",
              " 'nothing',\n",
              " 'improvement',\n",
              " 'hips',\n",
              " 'during',\n",
              " 'experience',\n",
              " 'none',\n",
              " 'zocor',\n",
              " 'starting',\n",
              " 'into',\n",
              " 'etc',\n",
              " 'him',\n",
              " 'where',\n",
              " 'those',\n",
              " 'new',\n",
              " 'family',\n",
              " 'meds',\n",
              " 'skin',\n",
              " 'such',\n",
              " 'flu',\n",
              " 'past',\n",
              " 'others',\n",
              " 'want',\n",
              " 'helped',\n",
              " 'calf',\n",
              " 'upper',\n",
              " '80',\n",
              " 'enough',\n",
              " 'head',\n",
              " 'job',\n",
              " 'doing',\n",
              " 'minutes',\n",
              " 'lack',\n",
              " 'numbness',\n",
              " 'energy',\n",
              " 'say',\n",
              " 'second',\n",
              " 'health',\n",
              " 'rather',\n",
              " 'ankles',\n",
              " 'physical',\n",
              " 'come',\n",
              " 'trying',\n",
              " 'surgery',\n",
              " 'toes',\n",
              " '\"',\n",
              " 'hand',\n",
              " 'anxiety',\n",
              " 'able',\n",
              " 'natural',\n",
              " 'point',\n",
              " 'worked',\n",
              " 'extremely',\n",
              " 'difficulty',\n",
              " 'pills',\n",
              " 'his',\n",
              " 'dizziness',\n",
              " 'became',\n",
              " 'spasms',\n",
              " 'today',\n",
              " 'why',\n",
              " 'their',\n",
              " 'doc',\n",
              " 'decided',\n",
              " 'balance',\n",
              " 'possible',\n",
              " '30',\n",
              " \"'ll\",\n",
              " 'tiredness',\n",
              " 'probably',\n",
              " 'patients',\n",
              " 'diagnosed',\n",
              " 'permanent',\n",
              " 'dry',\n",
              " 'instead',\n",
              " 'burning',\n",
              " 'twice',\n",
              " 'four',\n",
              " 'stuff',\n",
              " 'period',\n",
              " 'using',\n",
              " 'suffered',\n",
              " 'less',\n",
              " 'continue',\n",
              " 'switched',\n",
              " 'here',\n",
              " 'per',\n",
              " 'function',\n",
              " 'seem',\n",
              " 'hard',\n",
              " 'calves',\n",
              " 'swelling',\n",
              " 'eat',\n",
              " 'keep',\n",
              " 'gradually',\n",
              " 'yet',\n",
              " 'healthy',\n",
              " 'triglycerides',\n",
              " 'heavy',\n",
              " 'change',\n",
              " 'nt',\n",
              " 'food',\n",
              " 'type',\n",
              " 'control',\n",
              " 'worst',\n",
              " 'sick',\n",
              " 'increase',\n",
              " 'maybe',\n",
              " 'each',\n",
              " 'age',\n",
              " 'voltaren',\n",
              " 'dangerous',\n",
              " 'tell',\n",
              " 'lost',\n",
              " 'live',\n",
              " 'longer',\n",
              " 'quality',\n",
              " 'intense',\n",
              " 'soreness',\n",
              " 'else',\n",
              " 'risk',\n",
              " '15',\n",
              " 'big',\n",
              " 'ache',\n",
              " 'improved',\n",
              " 'hardly',\n",
              " 'yrs',\n",
              " 'thinking',\n",
              " 'reaction',\n",
              " 'dropped',\n",
              " 'brain',\n",
              " 'kidney',\n",
              " 'med',\n",
              " 'constipation',\n",
              " 'strength',\n",
              " 'trouble',\n",
              " 'different',\n",
              " 'disease',\n",
              " 'might',\n",
              " 'discomfort',\n",
              " 'used',\n",
              " 'fine',\n",
              " 'start',\n",
              " 'vaginal',\n",
              " 'fingers',\n",
              " 'through',\n",
              " 'md',\n",
              " 'eye',\n",
              " 'swollen',\n",
              " 'her',\n",
              " 'research',\n",
              " 'reduce',\n",
              " 'sleeping',\n",
              " 'changed',\n",
              " 'numbers',\n",
              " 'connection',\n",
              " 'thigh',\n",
              " 'goes',\n",
              " 'effective',\n",
              " 'bloating',\n",
              " 'cold',\n",
              " 'although',\n",
              " 'thank',\n",
              " 'ankle',\n",
              " 'called',\n",
              " 'ok',\n",
              " 'seemed',\n",
              " 'thing',\n",
              " 'look',\n",
              " 'market',\n",
              " 'alternative',\n",
              " 'physician',\n",
              " 'urine',\n",
              " 'stand',\n",
              " 'medical',\n",
              " 'coq10',\n",
              " 'red',\n",
              " 'hospital',\n",
              " 'overall',\n",
              " 'mild',\n",
              " 'throat',\n",
              " 'completely',\n",
              " 'neuropathy',\n",
              " 'decreased',\n",
              " 'sitting',\n",
              " 'above',\n",
              " '9',\n",
              " 'feels',\n",
              " 'stairs',\n",
              " 'couple',\n",
              " '100',\n",
              " 'suggested',\n",
              " '50',\n",
              " 'please',\n",
              " 'nerve',\n",
              " 'given',\n",
              " 'aware',\n",
              " 'us',\n",
              " 'vertigo',\n",
              " 'husband',\n",
              " 'concerned',\n",
              " 'active',\n",
              " 'serious',\n",
              " 'hour',\n",
              " 'says',\n",
              " 'face',\n",
              " 'saw',\n",
              " 'stiff',\n",
              " 'under',\n",
              " '60',\n",
              " 'between',\n",
              " 'major',\n",
              " 'gave',\n",
              " 'comments',\n",
              " 'mouth',\n",
              " 'everything',\n",
              " 'stay',\n",
              " 'therapy',\n",
              " 'cut',\n",
              " 'drive',\n",
              " 'wanted',\n",
              " 'sometimes',\n",
              " 'totally',\n",
              " 'wonder',\n",
              " 'rash',\n",
              " 'breath',\n",
              " 'along',\n",
              " 'slowly',\n",
              " 'soon',\n",
              " 'continued',\n",
              " 'working',\n",
              " 'hot',\n",
              " 'spent',\n",
              " 'web',\n",
              " 'suffering',\n",
              " 'fatigued',\n",
              " 'depressed',\n",
              " 'negative',\n",
              " '12',\n",
              " 'sudden',\n",
              " 'six',\n",
              " 'including',\n",
              " 'light',\n",
              " 'check',\n",
              " 'wake',\n",
              " 'improve',\n",
              " 'asked',\n",
              " 'gp',\n",
              " 'wrong',\n",
              " 'slightly',\n",
              " 'reason',\n",
              " 'showed',\n",
              " 'affects',\n",
              " 'cardiologist',\n",
              " 'acid',\n",
              " 'slight',\n",
              " 'adverse',\n",
              " 'pravachol',\n",
              " 'issues',\n",
              " 'deal',\n",
              " 'c',\n",
              " 'returned',\n",
              " 'lots',\n",
              " 'difference',\n",
              " 'cholestrol',\n",
              " 'elbows',\n",
              " 'aching',\n",
              " 'awful',\n",
              " '25',\n",
              " '200',\n",
              " 'barely',\n",
              " 'making',\n",
              " 'history',\n",
              " 'crestor',\n",
              " 'amount',\n",
              " 'mental',\n",
              " 'chronic',\n",
              " 'mentioned',\n",
              " 'numb',\n",
              " 'sensation',\n",
              " 'already',\n",
              " 'ability',\n",
              " 'ratio',\n",
              " 'toe',\n",
              " 'post',\n",
              " 'prescription',\n",
              " 'thighs',\n",
              " 'across',\n",
              " 'twitching',\n",
              " 'give',\n",
              " '90',\n",
              " 'quite',\n",
              " 'sent',\n",
              " 'blurred',\n",
              " 'free',\n",
              " 'stress',\n",
              " 'helps',\n",
              " '300',\n",
              " 'looking',\n",
              " 'self',\n",
              " 'care',\n",
              " 'rest',\n",
              " 'mood',\n",
              " 'kept',\n",
              " 'subsided',\n",
              " 'fog',\n",
              " 'older',\n",
              " 'fibromyalgia',\n",
              " 'otherwise',\n",
              " 'syndrome',\n",
              " 'run',\n",
              " '+',\n",
              " 'anti',\n",
              " 'eyes',\n",
              " 'gain',\n",
              " 'medications',\n",
              " 'attacks',\n",
              " '75',\n",
              " 'makes',\n",
              " 'causes',\n",
              " 'frequent',\n",
              " 'significant',\n",
              " 'elbow',\n",
              " 'upset',\n",
              " 'vitamin',\n",
              " 'tightness',\n",
              " 'zetia',\n",
              " 'pretty',\n",
              " 'early',\n",
              " 'poison',\n",
              " 'hoping',\n",
              " 'below',\n",
              " 'running',\n",
              " 'niacin',\n",
              " 'upon',\n",
              " 'pfizer',\n",
              " 'empty',\n",
              " 'greatly',\n",
              " 'area',\n",
              " 'number',\n",
              " 'person',\n",
              " 'wife',\n",
              " 'ask',\n",
              " 'mine',\n",
              " 'god',\n",
              " 'nearly',\n",
              " 'bit',\n",
              " 'wo',\n",
              " 'become',\n",
              " 'reactions',\n",
              " 'shortness',\n",
              " 'increasing',\n",
              " 'women',\n",
              " 'ended',\n",
              " 'cpk',\n",
              " 'sense',\n",
              " 'concentration',\n",
              " 'glad',\n",
              " 'mostly',\n",
              " 'reflux',\n",
              " 'companies',\n",
              " 'tendonitis',\n",
              " \"'d\",\n",
              " 'lift',\n",
              " '45',\n",
              " 'possibly',\n",
              " 'unless',\n",
              " 'somewhat',\n",
              " 'suddenly',\n",
              " 'happy',\n",
              " 'beginning',\n",
              " 'heel',\n",
              " 'guess',\n",
              " 'higher',\n",
              " 'stroke',\n",
              " 'liptor',\n",
              " 'consider',\n",
              " '24',\n",
              " 'unbearable',\n",
              " 'initially',\n",
              " 'mri',\n",
              " 'range',\n",
              " 'move',\n",
              " 'realized',\n",
              " 'system',\n",
              " 's',\n",
              " 'usually',\n",
              " 'inability',\n",
              " 'exhaustion',\n",
              " 'sex',\n",
              " 'best',\n",
              " 'result',\n",
              " 'disappeared',\n",
              " 'itching',\n",
              " 'likely',\n",
              " 'internet',\n",
              " 'cholesteral',\n",
              " 'perfect',\n",
              " 'neurologist',\n",
              " 'must',\n",
              " 'w',\n",
              " 'wish',\n",
              " 'idea',\n",
              " 'eating',\n",
              " 'small',\n",
              " 'against',\n",
              " 'points',\n",
              " 'waking',\n",
              " 'dizzy',\n",
              " 'sweating',\n",
              " 'tricor',\n",
              " 'sinus',\n",
              " 'cough',\n",
              " '160',\n",
              " 'constantly',\n",
              " 'die',\n",
              " 'information',\n",
              " 'm',\n",
              " 'seen',\n",
              " 'patient',\n",
              " 'scary',\n",
              " 'decrease',\n",
              " 'actually',\n",
              " 'supplements',\n",
              " 'least',\n",
              " 'full',\n",
              " 'x',\n",
              " 'count',\n",
              " 'complaints',\n",
              " 'changes',\n",
              " 'chances',\n",
              " 'miles',\n",
              " 'hit',\n",
              " 'answer',\n",
              " 'significantly',\n",
              " 'previously',\n",
              " 'taste',\n",
              " 'malaise',\n",
              " 'confusion',\n",
              " 'weird',\n",
              " 'lasted',\n",
              " 'restless',\n",
              " 'doses',\n",
              " 'followed',\n",
              " 'alot',\n",
              " 'cancer',\n",
              " 'either',\n",
              " 'fish',\n",
              " 'oil',\n",
              " 'happens',\n",
              " 'emergency',\n",
              " 'room',\n",
              " 'thanks',\n",
              " 'treatment',\n",
              " 'let',\n",
              " 'reduction',\n",
              " 'approx',\n",
              " 'falling',\n",
              " 'notice',\n",
              " 'enzymes',\n",
              " 'brought',\n",
              " 'following',\n",
              " 'periods',\n",
              " 'attributed',\n",
              " 'sit',\n",
              " 'tablet',\n",
              " 'listed',\n",
              " 'often',\n",
              " 'informed',\n",
              " 'anymore',\n",
              " 'tendon',\n",
              " 'muscular',\n",
              " 'recommended',\n",
              " 'added',\n",
              " '220',\n",
              " 'suffer',\n",
              " 'supposed',\n",
              " 'call',\n",
              " 'afraid',\n",
              " 'breathing',\n",
              " 'death',\n",
              " 'someone',\n",
              " 'entire',\n",
              " 'known',\n",
              " 'happened',\n",
              " 'chair',\n",
              " 'onset',\n",
              " 'yr',\n",
              " 'everyone',\n",
              " 'appetite',\n",
              " 'end',\n",
              " 'relieve',\n",
              " 'benefits',\n",
              " 'safe',\n",
              " 'ruined',\n",
              " 'parkinson',\n",
              " 'excruciating',\n",
              " 'dark',\n",
              " 'tight',\n",
              " 'vomiting',\n",
              " 'return',\n",
              " 'difficult',\n",
              " 'mother',\n",
              " 'deep',\n",
              " 'recover',\n",
              " 'remember',\n",
              " 'tolerate',\n",
              " 'needed',\n",
              " 'sensations',\n",
              " 'cleared',\n",
              " 'agreed',\n",
              " 'co',\n",
              " 'occasional',\n",
              " 'plus',\n",
              " 'died',\n",
              " 'prior',\n",
              " 'whole',\n",
              " 'inflammation',\n",
              " 'visit',\n",
              " 'bladder',\n",
              " 'swallowing',\n",
              " 'advice',\n",
              " 'menstrual',\n",
              " 'abdomen',\n",
              " 'kind',\n",
              " 'symptons',\n",
              " 'discontinued',\n",
              " 'quickly',\n",
              " 'own',\n",
              " 'definitely',\n",
              " 'tinnitus',\n",
              " 'diabetes',\n",
              " 'gout',\n",
              " 'cycle',\n",
              " 'noted',\n",
              " 'realize',\n",
              " 'gotten',\n",
              " 'class',\n",
              " 'mention',\n",
              " '70',\n",
              " 'specialist',\n",
              " 'rarely',\n",
              " 'name',\n",
              " 'reducing',\n",
              " 'wonders',\n",
              " 'case',\n",
              " 'fast',\n",
              " 'hell',\n",
              " 'acute',\n",
              " 'primary',\n",
              " 'water',\n",
              " 'real',\n",
              " 'sever',\n",
              " 'particularly',\n",
              " 'debilitating',\n",
              " 'lbs',\n",
              " 'heard',\n",
              " 'normally',\n",
              " 'bring',\n",
              " 'part',\n",
              " 'als',\n",
              " 'lupus',\n",
              " 'walked',\n",
              " 'passed',\n",
              " 'comes',\n",
              " 'position',\n",
              " 'fat',\n",
              " 'highly',\n",
              " 'appointment',\n",
              " 'advil',\n",
              " 'indigestion',\n",
              " 'hurts',\n",
              " 'attention',\n",
              " 'immediate',\n",
              " 'avoid',\n",
              " 'excellent',\n",
              " 'itchy',\n",
              " 'bp',\n",
              " 'swings',\n",
              " 'rice',\n",
              " 'our',\n",
              " 'replacement',\n",
              " 'standing',\n",
              " 'pulse',\n",
              " 'er',\n",
              " 'tested',\n",
              " 'present',\n",
              " 'woke',\n",
              " 'watch',\n",
              " 'fear',\n",
              " 'infection',\n",
              " 'genetic',\n",
              " 'insurance',\n",
              " 'company',\n",
              " 'ten',\n",
              " 'except',\n",
              " 'sugar',\n",
              " 'minor',\n",
              " 'rate',\n",
              " 'together',\n",
              " 'failure',\n",
              " 'knew',\n",
              " '[',\n",
              " 'rays',\n",
              " 'studies',\n",
              " 'condition',\n",
              " '11',\n",
              " 'lead',\n",
              " 'seeing',\n",
              " 'ill',\n",
              " 'alternatives',\n",
              " 'discovered',\n",
              " 'medicines',\n",
              " 'strong',\n",
              " 'driving',\n",
              " 'pass',\n",
              " 'gets',\n",
              " 'looked',\n",
              " 'scared',\n",
              " 'telling',\n",
              " 'confirmed',\n",
              " 'discontinue',\n",
              " 'celebrex',\n",
              " 'prescribing',\n",
              " 'ms',\n",
              " 'positive',\n",
              " 'induced',\n",
              " 'q10',\n",
              " 'necessary',\n",
              " 'finger',\n",
              " ...]"
            ]
          },
          "metadata": {
            "tags": []
          },
          "execution_count": 19
        }
      ]
    },
    {
      "cell_type": "code",
      "metadata": {
        "id": "yPWr03mls3VT",
        "colab_type": "code",
        "colab": {}
      },
      "source": [
        "model_path = path/'models'\n",
        "model_path.mkdir(exist_ok=True)\n",
        "url = 'http://files.fast.ai/models/wt103_v1/'\n",
        "download_url(f'{url}lstm_wt103.pth', model_path/'lstm_wt103.pth')\n",
        "download_url(f'{url}itos_wt103.pkl', model_path/'itos_wt103.pkl')"
      ],
      "execution_count": 0,
      "outputs": []
    },
    {
      "cell_type": "code",
      "metadata": {
        "id": "JRzvWg8RtGGr",
        "colab_type": "code",
        "colab": {}
      },
      "source": [
        "learn = language_model_learner(data_lm, AWD_LSTM, drop_mult=0.5)"
      ],
      "execution_count": 0,
      "outputs": []
    },
    {
      "cell_type": "code",
      "metadata": {
        "id": "xKK7GeBev7Xn",
        "colab_type": "code",
        "outputId": "6f06a4aa-b7d0-4ec3-ee17-9c5536340088",
        "colab": {
          "base_uri": "https://localhost:8080/",
          "height": 80
        }
      },
      "source": [
        "learn.fit_one_cycle(1, 1e-2)"
      ],
      "execution_count": 22,
      "outputs": [
        {
          "output_type": "display_data",
          "data": {
            "text/html": [
              "<table border=\"1\" class=\"dataframe\">\n",
              "  <thead>\n",
              "    <tr style=\"text-align: left;\">\n",
              "      <th>epoch</th>\n",
              "      <th>train_loss</th>\n",
              "      <th>valid_loss</th>\n",
              "      <th>accuracy</th>\n",
              "      <th>time</th>\n",
              "    </tr>\n",
              "  </thead>\n",
              "  <tbody>\n",
              "    <tr>\n",
              "      <td>0</td>\n",
              "      <td>4.864796</td>\n",
              "      <td>4.199234</td>\n",
              "      <td>0.214445</td>\n",
              "      <td>03:59</td>\n",
              "    </tr>\n",
              "  </tbody>\n",
              "</table>"
            ],
            "text/plain": [
              "<IPython.core.display.HTML object>"
            ]
          },
          "metadata": {
            "tags": []
          }
        }
      ]
    },
    {
      "cell_type": "code",
      "metadata": {
        "id": "iB7rHGQCwd12",
        "colab_type": "code",
        "colab": {
          "base_uri": "https://localhost:8080/",
          "height": 80
        },
        "outputId": "19ebdfcc-bd7e-4a99-8bef-a122d412c5c0"
      },
      "source": [
        "learn.fit_one_cycle(1, 1e-2)"
      ],
      "execution_count": 23,
      "outputs": [
        {
          "output_type": "display_data",
          "data": {
            "text/html": [
              "<table border=\"1\" class=\"dataframe\">\n",
              "  <thead>\n",
              "    <tr style=\"text-align: left;\">\n",
              "      <th>epoch</th>\n",
              "      <th>train_loss</th>\n",
              "      <th>valid_loss</th>\n",
              "      <th>accuracy</th>\n",
              "      <th>time</th>\n",
              "    </tr>\n",
              "  </thead>\n",
              "  <tbody>\n",
              "    <tr>\n",
              "      <td>0</td>\n",
              "      <td>3.966835</td>\n",
              "      <td>3.707342</td>\n",
              "      <td>0.294834</td>\n",
              "      <td>04:01</td>\n",
              "    </tr>\n",
              "  </tbody>\n",
              "</table>"
            ],
            "text/plain": [
              "<IPython.core.display.HTML object>"
            ]
          },
          "metadata": {
            "tags": []
          }
        }
      ]
    },
    {
      "cell_type": "code",
      "metadata": {
        "id": "_BnSuAeCwkBe",
        "colab_type": "code",
        "colab": {
          "base_uri": "https://localhost:8080/",
          "height": 80
        },
        "outputId": "02864d00-3b78-4ebf-a099-e0d1291429ca"
      },
      "source": [
        "learn.fit_one_cycle(1, 1e-3)"
      ],
      "execution_count": 24,
      "outputs": [
        {
          "output_type": "display_data",
          "data": {
            "text/html": [
              "<table border=\"1\" class=\"dataframe\">\n",
              "  <thead>\n",
              "    <tr style=\"text-align: left;\">\n",
              "      <th>epoch</th>\n",
              "      <th>train_loss</th>\n",
              "      <th>valid_loss</th>\n",
              "      <th>accuracy</th>\n",
              "      <th>time</th>\n",
              "    </tr>\n",
              "  </thead>\n",
              "  <tbody>\n",
              "    <tr>\n",
              "      <td>0</td>\n",
              "      <td>3.703233</td>\n",
              "      <td>3.676369</td>\n",
              "      <td>0.298661</td>\n",
              "      <td>04:04</td>\n",
              "    </tr>\n",
              "  </tbody>\n",
              "</table>"
            ],
            "text/plain": [
              "<IPython.core.display.HTML object>"
            ]
          },
          "metadata": {
            "tags": []
          }
        }
      ]
    },
    {
      "cell_type": "code",
      "metadata": {
        "id": "MuTm-RFjwrEX",
        "colab_type": "code",
        "colab": {
          "base_uri": "https://localhost:8080/",
          "height": 80
        },
        "outputId": "aec4d7b6-a795-4b70-d773-26c95c39f586"
      },
      "source": [
        "learn.fit_one_cycle(1, 1e-3)"
      ],
      "execution_count": 25,
      "outputs": [
        {
          "output_type": "display_data",
          "data": {
            "text/html": [
              "<table border=\"1\" class=\"dataframe\">\n",
              "  <thead>\n",
              "    <tr style=\"text-align: left;\">\n",
              "      <th>epoch</th>\n",
              "      <th>train_loss</th>\n",
              "      <th>valid_loss</th>\n",
              "      <th>accuracy</th>\n",
              "      <th>time</th>\n",
              "    </tr>\n",
              "  </thead>\n",
              "  <tbody>\n",
              "    <tr>\n",
              "      <td>0</td>\n",
              "      <td>3.666519</td>\n",
              "      <td>3.653099</td>\n",
              "      <td>0.302264</td>\n",
              "      <td>03:53</td>\n",
              "    </tr>\n",
              "  </tbody>\n",
              "</table>"
            ],
            "text/plain": [
              "<IPython.core.display.HTML object>"
            ]
          },
          "metadata": {
            "tags": []
          }
        }
      ]
    },
    {
      "cell_type": "code",
      "metadata": {
        "id": "1Er2ExO8wr7Y",
        "colab_type": "code",
        "colab": {}
      },
      "source": [
        "learn.save_encoder('AskAPatient_overlap_100_first')"
      ],
      "execution_count": 0,
      "outputs": []
    },
    {
      "cell_type": "code",
      "metadata": {
        "id": "z52cZs2qwvad",
        "colab_type": "code",
        "colab": {
          "base_uri": "https://localhost:8080/",
          "height": 80
        },
        "outputId": "f625107f-64f1-4b58-f9a7-83f466cdf4ed"
      },
      "source": [
        "learn = text_classifier_learner(data_clas,AWD_LSTM, drop_mult=0.5)\n",
        "learn.load_encoder('AskAPatient_overlap_100_first')\n",
        "learn.fit_one_cycle(1, 1e-2)"
      ],
      "execution_count": 27,
      "outputs": [
        {
          "output_type": "display_data",
          "data": {
            "text/html": [
              "<table border=\"1\" class=\"dataframe\">\n",
              "  <thead>\n",
              "    <tr style=\"text-align: left;\">\n",
              "      <th>epoch</th>\n",
              "      <th>train_loss</th>\n",
              "      <th>valid_loss</th>\n",
              "      <th>accuracy</th>\n",
              "      <th>time</th>\n",
              "    </tr>\n",
              "  </thead>\n",
              "  <tbody>\n",
              "    <tr>\n",
              "      <td>0</td>\n",
              "      <td>3.909884</td>\n",
              "      <td>3.433010</td>\n",
              "      <td>0.422485</td>\n",
              "      <td>01:15</td>\n",
              "    </tr>\n",
              "  </tbody>\n",
              "</table>"
            ],
            "text/plain": [
              "<IPython.core.display.HTML object>"
            ]
          },
          "metadata": {
            "tags": []
          }
        }
      ]
    },
    {
      "cell_type": "code",
      "metadata": {
        "id": "ImwQP1PJwzxd",
        "colab_type": "code",
        "colab": {
          "base_uri": "https://localhost:8080/",
          "height": 80
        },
        "outputId": "99da2a5c-9472-4ed9-b361-f9dc5c79ff03"
      },
      "source": [
        "learn.freeze_to(-2)\n",
        "learn.fit_one_cycle(1, slice(5e-3/2., 5e-3))"
      ],
      "execution_count": 28,
      "outputs": [
        {
          "output_type": "display_data",
          "data": {
            "text/html": [
              "<table border=\"1\" class=\"dataframe\">\n",
              "  <thead>\n",
              "    <tr style=\"text-align: left;\">\n",
              "      <th>epoch</th>\n",
              "      <th>train_loss</th>\n",
              "      <th>valid_loss</th>\n",
              "      <th>accuracy</th>\n",
              "      <th>time</th>\n",
              "    </tr>\n",
              "  </thead>\n",
              "  <tbody>\n",
              "    <tr>\n",
              "      <td>0</td>\n",
              "      <td>2.784190</td>\n",
              "      <td>2.912418</td>\n",
              "      <td>0.507692</td>\n",
              "      <td>01:28</td>\n",
              "    </tr>\n",
              "  </tbody>\n",
              "</table>"
            ],
            "text/plain": [
              "<IPython.core.display.HTML object>"
            ]
          },
          "metadata": {
            "tags": []
          }
        }
      ]
    },
    {
      "cell_type": "code",
      "metadata": {
        "id": "Owff_BJXw53u",
        "colab_type": "code",
        "colab": {
          "base_uri": "https://localhost:8080/",
          "height": 80
        },
        "outputId": "8d90c27e-2df1-4c22-c80e-9a1e1c4ee901"
      },
      "source": [
        "learn.unfreeze()\n",
        "learn.fit_one_cycle(1, slice(2e-3/100, 2e-3))"
      ],
      "execution_count": 29,
      "outputs": [
        {
          "output_type": "display_data",
          "data": {
            "text/html": [
              "<table border=\"1\" class=\"dataframe\">\n",
              "  <thead>\n",
              "    <tr style=\"text-align: left;\">\n",
              "      <th>epoch</th>\n",
              "      <th>train_loss</th>\n",
              "      <th>valid_loss</th>\n",
              "      <th>accuracy</th>\n",
              "      <th>time</th>\n",
              "    </tr>\n",
              "  </thead>\n",
              "  <tbody>\n",
              "    <tr>\n",
              "      <td>0</td>\n",
              "      <td>2.280926</td>\n",
              "      <td>2.601950</td>\n",
              "      <td>0.563314</td>\n",
              "      <td>03:39</td>\n",
              "    </tr>\n",
              "  </tbody>\n",
              "</table>"
            ],
            "text/plain": [
              "<IPython.core.display.HTML object>"
            ]
          },
          "metadata": {
            "tags": []
          }
        }
      ]
    },
    {
      "cell_type": "code",
      "metadata": {
        "id": "lqAyu56V8Waq",
        "colab_type": "code",
        "colab": {
          "base_uri": "https://localhost:8080/",
          "height": 111
        },
        "outputId": "099a602c-871d-4ef8-a14d-266c7a542179"
      },
      "source": [
        "learn.fit_one_cycle(2, slice(2e-3/100, 2e-3))"
      ],
      "execution_count": 30,
      "outputs": [
        {
          "output_type": "display_data",
          "data": {
            "text/html": [
              "<table border=\"1\" class=\"dataframe\">\n",
              "  <thead>\n",
              "    <tr style=\"text-align: left;\">\n",
              "      <th>epoch</th>\n",
              "      <th>train_loss</th>\n",
              "      <th>valid_loss</th>\n",
              "      <th>accuracy</th>\n",
              "      <th>time</th>\n",
              "    </tr>\n",
              "  </thead>\n",
              "  <tbody>\n",
              "    <tr>\n",
              "      <td>0</td>\n",
              "      <td>1.975915</td>\n",
              "      <td>2.318142</td>\n",
              "      <td>0.598817</td>\n",
              "      <td>03:40</td>\n",
              "    </tr>\n",
              "    <tr>\n",
              "      <td>1</td>\n",
              "      <td>1.722843</td>\n",
              "      <td>2.183626</td>\n",
              "      <td>0.627219</td>\n",
              "      <td>03:54</td>\n",
              "    </tr>\n",
              "  </tbody>\n",
              "</table>"
            ],
            "text/plain": [
              "<IPython.core.display.HTML object>"
            ]
          },
          "metadata": {
            "tags": []
          }
        }
      ]
    },
    {
      "cell_type": "code",
      "metadata": {
        "id": "a7I1xMRp8bUd",
        "colab_type": "code",
        "colab": {
          "base_uri": "https://localhost:8080/",
          "height": 111
        },
        "outputId": "d5e7f6ab-b1a4-43b4-8a20-11fb0508d8c1"
      },
      "source": [
        "learn.fit_one_cycle(2, slice(2e-3/100, 2e-3))"
      ],
      "execution_count": 31,
      "outputs": [
        {
          "output_type": "display_data",
          "data": {
            "text/html": [
              "<table border=\"1\" class=\"dataframe\">\n",
              "  <thead>\n",
              "    <tr style=\"text-align: left;\">\n",
              "      <th>epoch</th>\n",
              "      <th>train_loss</th>\n",
              "      <th>valid_loss</th>\n",
              "      <th>accuracy</th>\n",
              "      <th>time</th>\n",
              "    </tr>\n",
              "  </thead>\n",
              "  <tbody>\n",
              "    <tr>\n",
              "      <td>0</td>\n",
              "      <td>1.607382</td>\n",
              "      <td>1.971067</td>\n",
              "      <td>0.666272</td>\n",
              "      <td>03:58</td>\n",
              "    </tr>\n",
              "    <tr>\n",
              "      <td>1</td>\n",
              "      <td>1.405948</td>\n",
              "      <td>1.853383</td>\n",
              "      <td>0.680473</td>\n",
              "      <td>03:49</td>\n",
              "    </tr>\n",
              "  </tbody>\n",
              "</table>"
            ],
            "text/plain": [
              "<IPython.core.display.HTML object>"
            ]
          },
          "metadata": {
            "tags": []
          }
        }
      ]
    },
    {
      "cell_type": "code",
      "metadata": {
        "id": "UAnti-XmGVfO",
        "colab_type": "code",
        "colab": {
          "base_uri": "https://localhost:8080/",
          "height": 111
        },
        "outputId": "1d6c6744-002d-4bab-8207-88cacb848cc5"
      },
      "source": [
        "learn.fit_one_cycle(2, slice(2e-3/100, 2e-3))"
      ],
      "execution_count": 32,
      "outputs": [
        {
          "output_type": "display_data",
          "data": {
            "text/html": [
              "<table border=\"1\" class=\"dataframe\">\n",
              "  <thead>\n",
              "    <tr style=\"text-align: left;\">\n",
              "      <th>epoch</th>\n",
              "      <th>train_loss</th>\n",
              "      <th>valid_loss</th>\n",
              "      <th>accuracy</th>\n",
              "      <th>time</th>\n",
              "    </tr>\n",
              "  </thead>\n",
              "  <tbody>\n",
              "    <tr>\n",
              "      <td>0</td>\n",
              "      <td>1.367181</td>\n",
              "      <td>1.757965</td>\n",
              "      <td>0.701775</td>\n",
              "      <td>04:01</td>\n",
              "    </tr>\n",
              "    <tr>\n",
              "      <td>1</td>\n",
              "      <td>1.183400</td>\n",
              "      <td>1.675906</td>\n",
              "      <td>0.712426</td>\n",
              "      <td>03:49</td>\n",
              "    </tr>\n",
              "  </tbody>\n",
              "</table>"
            ],
            "text/plain": [
              "<IPython.core.display.HTML object>"
            ]
          },
          "metadata": {
            "tags": []
          }
        }
      ]
    },
    {
      "cell_type": "code",
      "metadata": {
        "id": "bIft7W25GwSu",
        "colab_type": "code",
        "colab": {
          "base_uri": "https://localhost:8080/",
          "height": 111
        },
        "outputId": "f8ea3119-7f1c-4a6e-8b5b-833fa04e8da8"
      },
      "source": [
        "learn.fit_one_cycle(2, slice(2e-3/100, 2e-3))"
      ],
      "execution_count": 33,
      "outputs": [
        {
          "output_type": "display_data",
          "data": {
            "text/html": [
              "<table border=\"1\" class=\"dataframe\">\n",
              "  <thead>\n",
              "    <tr style=\"text-align: left;\">\n",
              "      <th>epoch</th>\n",
              "      <th>train_loss</th>\n",
              "      <th>valid_loss</th>\n",
              "      <th>accuracy</th>\n",
              "      <th>time</th>\n",
              "    </tr>\n",
              "  </thead>\n",
              "  <tbody>\n",
              "    <tr>\n",
              "      <td>0</td>\n",
              "      <td>1.095126</td>\n",
              "      <td>1.648734</td>\n",
              "      <td>0.718343</td>\n",
              "      <td>03:34</td>\n",
              "    </tr>\n",
              "    <tr>\n",
              "      <td>1</td>\n",
              "      <td>1.012449</td>\n",
              "      <td>1.572554</td>\n",
              "      <td>0.728994</td>\n",
              "      <td>03:44</td>\n",
              "    </tr>\n",
              "  </tbody>\n",
              "</table>"
            ],
            "text/plain": [
              "<IPython.core.display.HTML object>"
            ]
          },
          "metadata": {
            "tags": []
          }
        }
      ]
    },
    {
      "cell_type": "code",
      "metadata": {
        "id": "EEHszVRvGyFt",
        "colab_type": "code",
        "colab": {
          "base_uri": "https://localhost:8080/",
          "height": 111
        },
        "outputId": "15d9d2dc-a77c-4154-f7a7-e07c0d8ac471"
      },
      "source": [
        "learn.fit_one_cycle(2, slice(2e-3/100, 2e-3))"
      ],
      "execution_count": 34,
      "outputs": [
        {
          "output_type": "display_data",
          "data": {
            "text/html": [
              "<table border=\"1\" class=\"dataframe\">\n",
              "  <thead>\n",
              "    <tr style=\"text-align: left;\">\n",
              "      <th>epoch</th>\n",
              "      <th>train_loss</th>\n",
              "      <th>valid_loss</th>\n",
              "      <th>accuracy</th>\n",
              "      <th>time</th>\n",
              "    </tr>\n",
              "  </thead>\n",
              "  <tbody>\n",
              "    <tr>\n",
              "      <td>0</td>\n",
              "      <td>0.977703</td>\n",
              "      <td>1.589157</td>\n",
              "      <td>0.730178</td>\n",
              "      <td>04:07</td>\n",
              "    </tr>\n",
              "    <tr>\n",
              "      <td>1</td>\n",
              "      <td>0.890492</td>\n",
              "      <td>1.508539</td>\n",
              "      <td>0.745562</td>\n",
              "      <td>03:55</td>\n",
              "    </tr>\n",
              "  </tbody>\n",
              "</table>"
            ],
            "text/plain": [
              "<IPython.core.display.HTML object>"
            ]
          },
          "metadata": {
            "tags": []
          }
        }
      ]
    },
    {
      "cell_type": "code",
      "metadata": {
        "id": "XsHfrhCHG3dN",
        "colab_type": "code",
        "colab": {
          "base_uri": "https://localhost:8080/",
          "height": 173
        },
        "outputId": "a51c669c-affa-4f79-ac48-15620d5dd944"
      },
      "source": [
        "learn.fit_one_cycle(4, slice(2e-3/100, 2e-3))"
      ],
      "execution_count": 35,
      "outputs": [
        {
          "output_type": "display_data",
          "data": {
            "text/html": [
              "<table border=\"1\" class=\"dataframe\">\n",
              "  <thead>\n",
              "    <tr style=\"text-align: left;\">\n",
              "      <th>epoch</th>\n",
              "      <th>train_loss</th>\n",
              "      <th>valid_loss</th>\n",
              "      <th>accuracy</th>\n",
              "      <th>time</th>\n",
              "    </tr>\n",
              "  </thead>\n",
              "  <tbody>\n",
              "    <tr>\n",
              "      <td>0</td>\n",
              "      <td>0.850255</td>\n",
              "      <td>1.500385</td>\n",
              "      <td>0.749112</td>\n",
              "      <td>03:43</td>\n",
              "    </tr>\n",
              "    <tr>\n",
              "      <td>1</td>\n",
              "      <td>0.850117</td>\n",
              "      <td>1.474221</td>\n",
              "      <td>0.765680</td>\n",
              "      <td>04:00</td>\n",
              "    </tr>\n",
              "    <tr>\n",
              "      <td>2</td>\n",
              "      <td>0.741772</td>\n",
              "      <td>1.446068</td>\n",
              "      <td>0.773965</td>\n",
              "      <td>03:40</td>\n",
              "    </tr>\n",
              "    <tr>\n",
              "      <td>3</td>\n",
              "      <td>0.666839</td>\n",
              "      <td>1.444188</td>\n",
              "      <td>0.772781</td>\n",
              "      <td>04:02</td>\n",
              "    </tr>\n",
              "  </tbody>\n",
              "</table>"
            ],
            "text/plain": [
              "<IPython.core.display.HTML object>"
            ]
          },
          "metadata": {
            "tags": []
          }
        }
      ]
    },
    {
      "cell_type": "code",
      "metadata": {
        "id": "0Zsd99isb9EQ",
        "colab_type": "code",
        "colab": {
          "base_uri": "https://localhost:8080/",
          "height": 173
        },
        "outputId": "04fcd891-1fbf-4797-e6b7-c97300b85371"
      },
      "source": [
        "learn.fit_one_cycle(4, slice(2e-3/100, 2e-3))"
      ],
      "execution_count": 36,
      "outputs": [
        {
          "output_type": "display_data",
          "data": {
            "text/html": [
              "<table border=\"1\" class=\"dataframe\">\n",
              "  <thead>\n",
              "    <tr style=\"text-align: left;\">\n",
              "      <th>epoch</th>\n",
              "      <th>train_loss</th>\n",
              "      <th>valid_loss</th>\n",
              "      <th>accuracy</th>\n",
              "      <th>time</th>\n",
              "    </tr>\n",
              "  </thead>\n",
              "  <tbody>\n",
              "    <tr>\n",
              "      <td>0</td>\n",
              "      <td>0.692048</td>\n",
              "      <td>1.436568</td>\n",
              "      <td>0.770414</td>\n",
              "      <td>03:53</td>\n",
              "    </tr>\n",
              "    <tr>\n",
              "      <td>1</td>\n",
              "      <td>0.706504</td>\n",
              "      <td>1.456292</td>\n",
              "      <td>0.773965</td>\n",
              "      <td>04:00</td>\n",
              "    </tr>\n",
              "    <tr>\n",
              "      <td>2</td>\n",
              "      <td>0.645730</td>\n",
              "      <td>1.399302</td>\n",
              "      <td>0.765680</td>\n",
              "      <td>03:34</td>\n",
              "    </tr>\n",
              "    <tr>\n",
              "      <td>3</td>\n",
              "      <td>0.609185</td>\n",
              "      <td>1.389964</td>\n",
              "      <td>0.776331</td>\n",
              "      <td>03:51</td>\n",
              "    </tr>\n",
              "  </tbody>\n",
              "</table>"
            ],
            "text/plain": [
              "<IPython.core.display.HTML object>"
            ]
          },
          "metadata": {
            "tags": []
          }
        }
      ]
    },
    {
      "cell_type": "code",
      "metadata": {
        "id": "atNWNKDFPbuI",
        "colab_type": "code",
        "colab": {
          "base_uri": "https://localhost:8080/",
          "height": 173
        },
        "outputId": "886441fb-4047-4a41-fb65-27adfcd3443c"
      },
      "source": [
        "learn.fit_one_cycle(4, slice(2e-3/100, 2e-3))"
      ],
      "execution_count": 37,
      "outputs": [
        {
          "output_type": "display_data",
          "data": {
            "text/html": [
              "<table border=\"1\" class=\"dataframe\">\n",
              "  <thead>\n",
              "    <tr style=\"text-align: left;\">\n",
              "      <th>epoch</th>\n",
              "      <th>train_loss</th>\n",
              "      <th>valid_loss</th>\n",
              "      <th>accuracy</th>\n",
              "      <th>time</th>\n",
              "    </tr>\n",
              "  </thead>\n",
              "  <tbody>\n",
              "    <tr>\n",
              "      <td>0</td>\n",
              "      <td>0.608033</td>\n",
              "      <td>1.444241</td>\n",
              "      <td>0.777515</td>\n",
              "      <td>03:38</td>\n",
              "    </tr>\n",
              "    <tr>\n",
              "      <td>1</td>\n",
              "      <td>0.638737</td>\n",
              "      <td>1.386264</td>\n",
              "      <td>0.778698</td>\n",
              "      <td>03:56</td>\n",
              "    </tr>\n",
              "    <tr>\n",
              "      <td>2</td>\n",
              "      <td>0.586928</td>\n",
              "      <td>1.417564</td>\n",
              "      <td>0.779882</td>\n",
              "      <td>03:46</td>\n",
              "    </tr>\n",
              "    <tr>\n",
              "      <td>3</td>\n",
              "      <td>0.525892</td>\n",
              "      <td>1.403488</td>\n",
              "      <td>0.782248</td>\n",
              "      <td>03:28</td>\n",
              "    </tr>\n",
              "  </tbody>\n",
              "</table>"
            ],
            "text/plain": [
              "<IPython.core.display.HTML object>"
            ]
          },
          "metadata": {
            "tags": []
          }
        }
      ]
    },
    {
      "cell_type": "code",
      "metadata": {
        "id": "rKrBTZ0T1uVA",
        "colab_type": "code",
        "colab": {
          "base_uri": "https://localhost:8080/",
          "height": 173
        },
        "outputId": "3954dbc5-228d-486e-ab81-509f5a38279b"
      },
      "source": [
        "learn.fit_one_cycle(4, slice(2e-3/100, 2e-3))"
      ],
      "execution_count": 38,
      "outputs": [
        {
          "output_type": "display_data",
          "data": {
            "text/html": [
              "<table border=\"1\" class=\"dataframe\">\n",
              "  <thead>\n",
              "    <tr style=\"text-align: left;\">\n",
              "      <th>epoch</th>\n",
              "      <th>train_loss</th>\n",
              "      <th>valid_loss</th>\n",
              "      <th>accuracy</th>\n",
              "      <th>time</th>\n",
              "    </tr>\n",
              "  </thead>\n",
              "  <tbody>\n",
              "    <tr>\n",
              "      <td>0</td>\n",
              "      <td>0.555085</td>\n",
              "      <td>1.367453</td>\n",
              "      <td>0.786982</td>\n",
              "      <td>03:42</td>\n",
              "    </tr>\n",
              "    <tr>\n",
              "      <td>1</td>\n",
              "      <td>0.583611</td>\n",
              "      <td>1.435159</td>\n",
              "      <td>0.777515</td>\n",
              "      <td>03:34</td>\n",
              "    </tr>\n",
              "    <tr>\n",
              "      <td>2</td>\n",
              "      <td>0.540544</td>\n",
              "      <td>1.407776</td>\n",
              "      <td>0.782248</td>\n",
              "      <td>03:19</td>\n",
              "    </tr>\n",
              "    <tr>\n",
              "      <td>3</td>\n",
              "      <td>0.490326</td>\n",
              "      <td>1.394831</td>\n",
              "      <td>0.782248</td>\n",
              "      <td>03:26</td>\n",
              "    </tr>\n",
              "  </tbody>\n",
              "</table>"
            ],
            "text/plain": [
              "<IPython.core.display.HTML object>"
            ]
          },
          "metadata": {
            "tags": []
          }
        }
      ]
    },
    {
      "cell_type": "code",
      "metadata": {
        "id": "l49hlnWh3Ttc",
        "colab_type": "code",
        "colab": {
          "base_uri": "https://localhost:8080/",
          "height": 173
        },
        "outputId": "80bac74a-78be-49fb-9f07-71a532eaf250"
      },
      "source": [
        "learn.fit_one_cycle(4, slice(2e-3/100, 2e-3))"
      ],
      "execution_count": 39,
      "outputs": [
        {
          "output_type": "display_data",
          "data": {
            "text/html": [
              "<table border=\"1\" class=\"dataframe\">\n",
              "  <thead>\n",
              "    <tr style=\"text-align: left;\">\n",
              "      <th>epoch</th>\n",
              "      <th>train_loss</th>\n",
              "      <th>valid_loss</th>\n",
              "      <th>accuracy</th>\n",
              "      <th>time</th>\n",
              "    </tr>\n",
              "  </thead>\n",
              "  <tbody>\n",
              "    <tr>\n",
              "      <td>0</td>\n",
              "      <td>0.486331</td>\n",
              "      <td>1.439351</td>\n",
              "      <td>0.783432</td>\n",
              "      <td>03:14</td>\n",
              "    </tr>\n",
              "    <tr>\n",
              "      <td>1</td>\n",
              "      <td>0.543580</td>\n",
              "      <td>1.489342</td>\n",
              "      <td>0.781065</td>\n",
              "      <td>03:21</td>\n",
              "    </tr>\n",
              "    <tr>\n",
              "      <td>2</td>\n",
              "      <td>0.501646</td>\n",
              "      <td>1.460202</td>\n",
              "      <td>0.781065</td>\n",
              "      <td>03:26</td>\n",
              "    </tr>\n",
              "    <tr>\n",
              "      <td>3</td>\n",
              "      <td>0.473607</td>\n",
              "      <td>1.447644</td>\n",
              "      <td>0.783432</td>\n",
              "      <td>03:29</td>\n",
              "    </tr>\n",
              "  </tbody>\n",
              "</table>"
            ],
            "text/plain": [
              "<IPython.core.display.HTML object>"
            ]
          },
          "metadata": {
            "tags": []
          }
        }
      ]
    },
    {
      "cell_type": "code",
      "metadata": {
        "id": "eOHV1B2U3ZDj",
        "colab_type": "code",
        "colab": {
          "base_uri": "https://localhost:8080/",
          "height": 173
        },
        "outputId": "bfa41def-fb9a-4edf-b266-c6bc9155f713"
      },
      "source": [
        "learn.fit_one_cycle(4, slice(2e-3/100, 2e-3))"
      ],
      "execution_count": 40,
      "outputs": [
        {
          "output_type": "display_data",
          "data": {
            "text/html": [
              "<table border=\"1\" class=\"dataframe\">\n",
              "  <thead>\n",
              "    <tr style=\"text-align: left;\">\n",
              "      <th>epoch</th>\n",
              "      <th>train_loss</th>\n",
              "      <th>valid_loss</th>\n",
              "      <th>accuracy</th>\n",
              "      <th>time</th>\n",
              "    </tr>\n",
              "  </thead>\n",
              "  <tbody>\n",
              "    <tr>\n",
              "      <td>0</td>\n",
              "      <td>0.495854</td>\n",
              "      <td>1.481568</td>\n",
              "      <td>0.783432</td>\n",
              "      <td>03:42</td>\n",
              "    </tr>\n",
              "    <tr>\n",
              "      <td>1</td>\n",
              "      <td>0.510547</td>\n",
              "      <td>1.527076</td>\n",
              "      <td>0.782248</td>\n",
              "      <td>03:27</td>\n",
              "    </tr>\n",
              "    <tr>\n",
              "      <td>2</td>\n",
              "      <td>0.498895</td>\n",
              "      <td>1.505322</td>\n",
              "      <td>0.782248</td>\n",
              "      <td>03:47</td>\n",
              "    </tr>\n",
              "    <tr>\n",
              "      <td>3</td>\n",
              "      <td>0.431602</td>\n",
              "      <td>1.456035</td>\n",
              "      <td>0.786982</td>\n",
              "      <td>03:54</td>\n",
              "    </tr>\n",
              "  </tbody>\n",
              "</table>"
            ],
            "text/plain": [
              "<IPython.core.display.HTML object>"
            ]
          },
          "metadata": {
            "tags": []
          }
        }
      ]
    },
    {
      "cell_type": "code",
      "metadata": {
        "id": "FA9z91sk3Zyy",
        "colab_type": "code",
        "colab": {
          "base_uri": "https://localhost:8080/",
          "height": 173
        },
        "outputId": "a7f29bde-685f-475d-9c24-87147a8cce9d"
      },
      "source": [
        "learn.fit_one_cycle(4, slice(2e-3/100, 2e-3))"
      ],
      "execution_count": 41,
      "outputs": [
        {
          "output_type": "display_data",
          "data": {
            "text/html": [
              "<table border=\"1\" class=\"dataframe\">\n",
              "  <thead>\n",
              "    <tr style=\"text-align: left;\">\n",
              "      <th>epoch</th>\n",
              "      <th>train_loss</th>\n",
              "      <th>valid_loss</th>\n",
              "      <th>accuracy</th>\n",
              "      <th>time</th>\n",
              "    </tr>\n",
              "  </thead>\n",
              "  <tbody>\n",
              "    <tr>\n",
              "      <td>0</td>\n",
              "      <td>0.459017</td>\n",
              "      <td>1.509238</td>\n",
              "      <td>0.781065</td>\n",
              "      <td>03:57</td>\n",
              "    </tr>\n",
              "    <tr>\n",
              "      <td>1</td>\n",
              "      <td>0.490573</td>\n",
              "      <td>1.472147</td>\n",
              "      <td>0.784615</td>\n",
              "      <td>03:39</td>\n",
              "    </tr>\n",
              "    <tr>\n",
              "      <td>2</td>\n",
              "      <td>0.465639</td>\n",
              "      <td>1.496054</td>\n",
              "      <td>0.782248</td>\n",
              "      <td>03:56</td>\n",
              "    </tr>\n",
              "    <tr>\n",
              "      <td>3</td>\n",
              "      <td>0.436722</td>\n",
              "      <td>1.427544</td>\n",
              "      <td>0.790533</td>\n",
              "      <td>03:29</td>\n",
              "    </tr>\n",
              "  </tbody>\n",
              "</table>"
            ],
            "text/plain": [
              "<IPython.core.display.HTML object>"
            ]
          },
          "metadata": {
            "tags": []
          }
        }
      ]
    },
    {
      "cell_type": "code",
      "metadata": {
        "id": "9JbjgW6n3b1K",
        "colab_type": "code",
        "colab": {
          "base_uri": "https://localhost:8080/",
          "height": 173
        },
        "outputId": "0a55878d-5f46-436e-c552-df1a9b425a7e"
      },
      "source": [
        "learn.fit_one_cycle(4, slice(2e-3/100, 2e-3))"
      ],
      "execution_count": 42,
      "outputs": [
        {
          "output_type": "display_data",
          "data": {
            "text/html": [
              "<table border=\"1\" class=\"dataframe\">\n",
              "  <thead>\n",
              "    <tr style=\"text-align: left;\">\n",
              "      <th>epoch</th>\n",
              "      <th>train_loss</th>\n",
              "      <th>valid_loss</th>\n",
              "      <th>accuracy</th>\n",
              "      <th>time</th>\n",
              "    </tr>\n",
              "  </thead>\n",
              "  <tbody>\n",
              "    <tr>\n",
              "      <td>0</td>\n",
              "      <td>0.457135</td>\n",
              "      <td>1.495458</td>\n",
              "      <td>0.790533</td>\n",
              "      <td>03:50</td>\n",
              "    </tr>\n",
              "    <tr>\n",
              "      <td>1</td>\n",
              "      <td>0.491343</td>\n",
              "      <td>1.607300</td>\n",
              "      <td>0.789349</td>\n",
              "      <td>03:34</td>\n",
              "    </tr>\n",
              "    <tr>\n",
              "      <td>2</td>\n",
              "      <td>0.451498</td>\n",
              "      <td>1.488414</td>\n",
              "      <td>0.792899</td>\n",
              "      <td>03:51</td>\n",
              "    </tr>\n",
              "    <tr>\n",
              "      <td>3</td>\n",
              "      <td>0.446686</td>\n",
              "      <td>1.540898</td>\n",
              "      <td>0.786982</td>\n",
              "      <td>03:32</td>\n",
              "    </tr>\n",
              "  </tbody>\n",
              "</table>"
            ],
            "text/plain": [
              "<IPython.core.display.HTML object>"
            ]
          },
          "metadata": {
            "tags": []
          }
        }
      ]
    },
    {
      "cell_type": "code",
      "metadata": {
        "id": "3gq-Lep13cqS",
        "colab_type": "code",
        "colab": {
          "base_uri": "https://localhost:8080/",
          "height": 173
        },
        "outputId": "689e3d53-eaa3-4e8e-bf6a-06948df10c16"
      },
      "source": [
        "learn.fit_one_cycle(4, slice(2e-3/100, 2e-3))"
      ],
      "execution_count": 43,
      "outputs": [
        {
          "output_type": "display_data",
          "data": {
            "text/html": [
              "<table border=\"1\" class=\"dataframe\">\n",
              "  <thead>\n",
              "    <tr style=\"text-align: left;\">\n",
              "      <th>epoch</th>\n",
              "      <th>train_loss</th>\n",
              "      <th>valid_loss</th>\n",
              "      <th>accuracy</th>\n",
              "      <th>time</th>\n",
              "    </tr>\n",
              "  </thead>\n",
              "  <tbody>\n",
              "    <tr>\n",
              "      <td>0</td>\n",
              "      <td>0.426298</td>\n",
              "      <td>1.520067</td>\n",
              "      <td>0.782248</td>\n",
              "      <td>03:39</td>\n",
              "    </tr>\n",
              "    <tr>\n",
              "      <td>1</td>\n",
              "      <td>0.470325</td>\n",
              "      <td>1.493839</td>\n",
              "      <td>0.791716</td>\n",
              "      <td>04:09</td>\n",
              "    </tr>\n",
              "    <tr>\n",
              "      <td>2</td>\n",
              "      <td>0.428898</td>\n",
              "      <td>1.472268</td>\n",
              "      <td>0.796450</td>\n",
              "      <td>03:44</td>\n",
              "    </tr>\n",
              "    <tr>\n",
              "      <td>3</td>\n",
              "      <td>0.441122</td>\n",
              "      <td>1.542107</td>\n",
              "      <td>0.794083</td>\n",
              "      <td>03:50</td>\n",
              "    </tr>\n",
              "  </tbody>\n",
              "</table>"
            ],
            "text/plain": [
              "<IPython.core.display.HTML object>"
            ]
          },
          "metadata": {
            "tags": []
          }
        }
      ]
    },
    {
      "cell_type": "code",
      "metadata": {
        "id": "fr_3Rw6A3zSL",
        "colab_type": "code",
        "colab": {
          "base_uri": "https://localhost:8080/",
          "height": 173
        },
        "outputId": "a3a359bb-3979-4b1e-9cc7-19c655270569"
      },
      "source": [
        "learn.fit_one_cycle(4, slice(2e-3/100, 2e-3))"
      ],
      "execution_count": 44,
      "outputs": [
        {
          "output_type": "display_data",
          "data": {
            "text/html": [
              "<table border=\"1\" class=\"dataframe\">\n",
              "  <thead>\n",
              "    <tr style=\"text-align: left;\">\n",
              "      <th>epoch</th>\n",
              "      <th>train_loss</th>\n",
              "      <th>valid_loss</th>\n",
              "      <th>accuracy</th>\n",
              "      <th>time</th>\n",
              "    </tr>\n",
              "  </thead>\n",
              "  <tbody>\n",
              "    <tr>\n",
              "      <td>0</td>\n",
              "      <td>0.415892</td>\n",
              "      <td>1.534775</td>\n",
              "      <td>0.789349</td>\n",
              "      <td>03:20</td>\n",
              "    </tr>\n",
              "    <tr>\n",
              "      <td>1</td>\n",
              "      <td>0.452456</td>\n",
              "      <td>1.587534</td>\n",
              "      <td>0.794083</td>\n",
              "      <td>03:52</td>\n",
              "    </tr>\n",
              "    <tr>\n",
              "      <td>2</td>\n",
              "      <td>0.459239</td>\n",
              "      <td>1.562230</td>\n",
              "      <td>0.797633</td>\n",
              "      <td>03:48</td>\n",
              "    </tr>\n",
              "    <tr>\n",
              "      <td>3</td>\n",
              "      <td>0.411162</td>\n",
              "      <td>1.478033</td>\n",
              "      <td>0.797633</td>\n",
              "      <td>03:36</td>\n",
              "    </tr>\n",
              "  </tbody>\n",
              "</table>"
            ],
            "text/plain": [
              "<IPython.core.display.HTML object>"
            ]
          },
          "metadata": {
            "tags": []
          }
        }
      ]
    },
    {
      "cell_type": "code",
      "metadata": {
        "id": "lNosMXNmcMb3",
        "colab_type": "code",
        "colab": {
          "base_uri": "https://localhost:8080/",
          "height": 173
        },
        "outputId": "007d4102-940d-468d-fb8a-d771a9325bea"
      },
      "source": [
        "learn.fit_one_cycle(4, slice(2e-3/100, 2e-3))"
      ],
      "execution_count": 49,
      "outputs": [
        {
          "output_type": "display_data",
          "data": {
            "text/html": [
              "<table border=\"1\" class=\"dataframe\">\n",
              "  <thead>\n",
              "    <tr style=\"text-align: left;\">\n",
              "      <th>epoch</th>\n",
              "      <th>train_loss</th>\n",
              "      <th>valid_loss</th>\n",
              "      <th>accuracy</th>\n",
              "      <th>time</th>\n",
              "    </tr>\n",
              "  </thead>\n",
              "  <tbody>\n",
              "    <tr>\n",
              "      <td>0</td>\n",
              "      <td>0.420443</td>\n",
              "      <td>1.538360</td>\n",
              "      <td>0.789349</td>\n",
              "      <td>03:44</td>\n",
              "    </tr>\n",
              "    <tr>\n",
              "      <td>1</td>\n",
              "      <td>0.464089</td>\n",
              "      <td>1.560760</td>\n",
              "      <td>0.783432</td>\n",
              "      <td>03:48</td>\n",
              "    </tr>\n",
              "    <tr>\n",
              "      <td>2</td>\n",
              "      <td>0.416741</td>\n",
              "      <td>1.464584</td>\n",
              "      <td>0.791716</td>\n",
              "      <td>03:53</td>\n",
              "    </tr>\n",
              "    <tr>\n",
              "      <td>3</td>\n",
              "      <td>0.408611</td>\n",
              "      <td>1.476775</td>\n",
              "      <td>0.792899</td>\n",
              "      <td>03:44</td>\n",
              "    </tr>\n",
              "  </tbody>\n",
              "</table>"
            ],
            "text/plain": [
              "<IPython.core.display.HTML object>"
            ]
          },
          "metadata": {
            "tags": []
          }
        }
      ]
    },
    {
      "cell_type": "code",
      "metadata": {
        "id": "O46jMO2XcOk1",
        "colab_type": "code",
        "colab": {
          "base_uri": "https://localhost:8080/",
          "height": 173
        },
        "outputId": "98c1e39a-f28c-4099-b35e-054b24c595e7"
      },
      "source": [
        "learn.fit_one_cycle(4, slice(2e-3/100, 2e-3))"
      ],
      "execution_count": 50,
      "outputs": [
        {
          "output_type": "display_data",
          "data": {
            "text/html": [
              "<table border=\"1\" class=\"dataframe\">\n",
              "  <thead>\n",
              "    <tr style=\"text-align: left;\">\n",
              "      <th>epoch</th>\n",
              "      <th>train_loss</th>\n",
              "      <th>valid_loss</th>\n",
              "      <th>accuracy</th>\n",
              "      <th>time</th>\n",
              "    </tr>\n",
              "  </thead>\n",
              "  <tbody>\n",
              "    <tr>\n",
              "      <td>0</td>\n",
              "      <td>0.415537</td>\n",
              "      <td>1.481341</td>\n",
              "      <td>0.794083</td>\n",
              "      <td>03:40</td>\n",
              "    </tr>\n",
              "    <tr>\n",
              "      <td>1</td>\n",
              "      <td>0.452460</td>\n",
              "      <td>1.477406</td>\n",
              "      <td>0.792899</td>\n",
              "      <td>03:50</td>\n",
              "    </tr>\n",
              "    <tr>\n",
              "      <td>2</td>\n",
              "      <td>0.430792</td>\n",
              "      <td>1.450018</td>\n",
              "      <td>0.798817</td>\n",
              "      <td>03:35</td>\n",
              "    </tr>\n",
              "    <tr>\n",
              "      <td>3</td>\n",
              "      <td>0.417846</td>\n",
              "      <td>1.524817</td>\n",
              "      <td>0.798817</td>\n",
              "      <td>03:27</td>\n",
              "    </tr>\n",
              "  </tbody>\n",
              "</table>"
            ],
            "text/plain": [
              "<IPython.core.display.HTML object>"
            ]
          },
          "metadata": {
            "tags": []
          }
        }
      ]
    },
    {
      "cell_type": "code",
      "metadata": {
        "id": "uqCLqJiecONV",
        "colab_type": "code",
        "colab": {
          "base_uri": "https://localhost:8080/",
          "height": 173
        },
        "outputId": "6bf2f39c-2817-415c-fa7b-074899616413"
      },
      "source": [
        "learn.fit_one_cycle(4, slice(2e-3/100, 2e-3))"
      ],
      "execution_count": 51,
      "outputs": [
        {
          "output_type": "display_data",
          "data": {
            "text/html": [
              "<table border=\"1\" class=\"dataframe\">\n",
              "  <thead>\n",
              "    <tr style=\"text-align: left;\">\n",
              "      <th>epoch</th>\n",
              "      <th>train_loss</th>\n",
              "      <th>valid_loss</th>\n",
              "      <th>accuracy</th>\n",
              "      <th>time</th>\n",
              "    </tr>\n",
              "  </thead>\n",
              "  <tbody>\n",
              "    <tr>\n",
              "      <td>0</td>\n",
              "      <td>0.398858</td>\n",
              "      <td>1.462880</td>\n",
              "      <td>0.795266</td>\n",
              "      <td>03:27</td>\n",
              "    </tr>\n",
              "    <tr>\n",
              "      <td>1</td>\n",
              "      <td>0.440247</td>\n",
              "      <td>1.509242</td>\n",
              "      <td>0.791716</td>\n",
              "      <td>03:40</td>\n",
              "    </tr>\n",
              "    <tr>\n",
              "      <td>2</td>\n",
              "      <td>0.415434</td>\n",
              "      <td>1.505874</td>\n",
              "      <td>0.797633</td>\n",
              "      <td>03:23</td>\n",
              "    </tr>\n",
              "    <tr>\n",
              "      <td>3</td>\n",
              "      <td>0.384034</td>\n",
              "      <td>1.474962</td>\n",
              "      <td>0.800000</td>\n",
              "      <td>03:21</td>\n",
              "    </tr>\n",
              "  </tbody>\n",
              "</table>"
            ],
            "text/plain": [
              "<IPython.core.display.HTML object>"
            ]
          },
          "metadata": {
            "tags": []
          }
        }
      ]
    },
    {
      "cell_type": "code",
      "metadata": {
        "id": "ZwT9Eft_cNzt",
        "colab_type": "code",
        "colab": {
          "base_uri": "https://localhost:8080/",
          "height": 173
        },
        "outputId": "d34c52be-cbf9-49a8-e90e-30bcff505742"
      },
      "source": [
        "learn.fit_one_cycle(4, slice(2e-3/100, 2e-3))"
      ],
      "execution_count": 52,
      "outputs": [
        {
          "output_type": "display_data",
          "data": {
            "text/html": [
              "<table border=\"1\" class=\"dataframe\">\n",
              "  <thead>\n",
              "    <tr style=\"text-align: left;\">\n",
              "      <th>epoch</th>\n",
              "      <th>train_loss</th>\n",
              "      <th>valid_loss</th>\n",
              "      <th>accuracy</th>\n",
              "      <th>time</th>\n",
              "    </tr>\n",
              "  </thead>\n",
              "  <tbody>\n",
              "    <tr>\n",
              "      <td>0</td>\n",
              "      <td>0.422378</td>\n",
              "      <td>1.562178</td>\n",
              "      <td>0.786982</td>\n",
              "      <td>03:35</td>\n",
              "    </tr>\n",
              "    <tr>\n",
              "      <td>1</td>\n",
              "      <td>0.427152</td>\n",
              "      <td>1.529907</td>\n",
              "      <td>0.789349</td>\n",
              "      <td>03:39</td>\n",
              "    </tr>\n",
              "    <tr>\n",
              "      <td>2</td>\n",
              "      <td>0.431824</td>\n",
              "      <td>1.554734</td>\n",
              "      <td>0.795266</td>\n",
              "      <td>03:37</td>\n",
              "    </tr>\n",
              "    <tr>\n",
              "      <td>3</td>\n",
              "      <td>0.385184</td>\n",
              "      <td>1.522604</td>\n",
              "      <td>0.795266</td>\n",
              "      <td>03:47</td>\n",
              "    </tr>\n",
              "  </tbody>\n",
              "</table>"
            ],
            "text/plain": [
              "<IPython.core.display.HTML object>"
            ]
          },
          "metadata": {
            "tags": []
          }
        }
      ]
    },
    {
      "cell_type": "code",
      "metadata": {
        "id": "aPPpCi47cNH_",
        "colab_type": "code",
        "colab": {
          "base_uri": "https://localhost:8080/",
          "height": 173
        },
        "outputId": "ff3549e0-1376-49ea-b990-9f4debeba3f8"
      },
      "source": [
        "learn.fit_one_cycle(4, slice(2e-3/100, 2e-3))"
      ],
      "execution_count": 53,
      "outputs": [
        {
          "output_type": "display_data",
          "data": {
            "text/html": [
              "<table border=\"1\" class=\"dataframe\">\n",
              "  <thead>\n",
              "    <tr style=\"text-align: left;\">\n",
              "      <th>epoch</th>\n",
              "      <th>train_loss</th>\n",
              "      <th>valid_loss</th>\n",
              "      <th>accuracy</th>\n",
              "      <th>time</th>\n",
              "    </tr>\n",
              "  </thead>\n",
              "  <tbody>\n",
              "    <tr>\n",
              "      <td>0</td>\n",
              "      <td>0.409169</td>\n",
              "      <td>1.547929</td>\n",
              "      <td>0.792899</td>\n",
              "      <td>03:26</td>\n",
              "    </tr>\n",
              "    <tr>\n",
              "      <td>1</td>\n",
              "      <td>0.430200</td>\n",
              "      <td>1.591822</td>\n",
              "      <td>0.792899</td>\n",
              "      <td>03:30</td>\n",
              "    </tr>\n",
              "    <tr>\n",
              "      <td>2</td>\n",
              "      <td>0.408872</td>\n",
              "      <td>1.581686</td>\n",
              "      <td>0.796450</td>\n",
              "      <td>03:59</td>\n",
              "    </tr>\n",
              "    <tr>\n",
              "      <td>3</td>\n",
              "      <td>0.375887</td>\n",
              "      <td>1.499774</td>\n",
              "      <td>0.796450</td>\n",
              "      <td>03:30</td>\n",
              "    </tr>\n",
              "  </tbody>\n",
              "</table>"
            ],
            "text/plain": [
              "<IPython.core.display.HTML object>"
            ]
          },
          "metadata": {
            "tags": []
          }
        }
      ]
    },
    {
      "cell_type": "code",
      "metadata": {
        "id": "c65d-osfDUXm",
        "colab_type": "code",
        "colab": {}
      },
      "source": [
        "# save the best model\n",
        "\n",
        "learn.save_encoder('AskAPatient_overlap_100')"
      ],
      "execution_count": 0,
      "outputs": []
    },
    {
      "cell_type": "markdown",
      "metadata": {
        "id": "rCwZU0E2RgM6",
        "colab_type": "text"
      },
      "source": [
        "# Part three: Predict on the test dataset"
      ]
    },
    {
      "cell_type": "code",
      "metadata": {
        "id": "gDm72c-dOu7d",
        "colab_type": "code",
        "colab": {}
      },
      "source": [
        "# use the test data for prediction\n",
        "\n",
        "preds, y = learn.get_preds(DatasetType.Test)"
      ],
      "execution_count": 0,
      "outputs": []
    },
    {
      "cell_type": "code",
      "metadata": {
        "id": "6tFSQcsWPvxn",
        "colab_type": "code",
        "colab": {
          "base_uri": "https://localhost:8080/",
          "height": 105
        },
        "outputId": "7f5bd72c-7660-48c7-b1ff-3e1f37330842"
      },
      "source": [
        "predictions, *_ = learn.get_preds(DatasetType.Test)\n",
        "labels = np.argmax(predictions, 1)\n",
        "predict_list = labels.tolist()\n",
        "standard_list = test[0].tolist()\n",
        "\n",
        "print(len(predict_list))\n",
        "print(len(standard_list))\n",
        "\n",
        "print(predict_list)\n",
        "print(standard_list)"
      ],
      "execution_count": 56,
      "outputs": [
        {
          "output_type": "stream",
          "text": [
            "868\n",
            "868\n",
            "[2, 2, 8, 8, 8, 8, 8, 8, 8, 8, 8, 165, 20, 1035, 1035, 384, 246, 27, 27, 31, 31, 32, 34, 289, 289, 289, 289, 289, 289, 289, 37, 37, 655, 44, 45, 49, 49, 49, 49, 49, 49, 49, 49, 100, 100, 100, 100, 100, 100, 100, 100, 100, 165, 53, 53, 58, 59, 60, 62, 1035, 71, 71, 491, 76, 76, 122, 614, 710, 289, 289, 289, 289, 289, 289, 289, 289, 289, 289, 289, 289, 289, 289, 289, 289, 289, 289, 289, 289, 289, 289, 289, 289, 289, 289, 289, 289, 289, 289, 289, 289, 289, 289, 289, 289, 289, 289, 289, 289, 289, 289, 614, 614, 614, 614, 37, 452, 80, 80, 80, 80, 80, 80, 80, 80, 80, 80, 88, 268, 27, 92, 94, 826, 94, 94, 94, 94, 94, 94, 94, 94, 94, 94, 96, 97, 98, 100, 100, 100, 100, 100, 100, 103, 660, 289, 289, 289, 289, 289, 117, 384, 384, 122, 630, 125, 125, 125, 125, 125, 125, 125, 125, 125, 125, 127, 131, 355, 135, 355, 473, 447, 447, 447, 146, 151, 151, 158, 165, 350, 350, 658, 289, 289, 289, 864, 864, 864, 864, 864, 214, 182, 182, 289, 182, 183, 183, 183, 183, 183, 183, 183, 183, 183, 183, 183, 183, 183, 183, 183, 184, 184, 184, 185, 240, 240, 848, 189, 113, 190, 190, 190, 190, 193, 809, 210, 210, 214, 214, 214, 877, 877, 877, 877, 877, 877, 877, 214, 214, 214, 214, 214, 214, 214, 27, 218, 218, 218, 220, 220, 220, 220, 220, 222, 223, 223, 226, 228, 228, 228, 228, 228, 228, 228, 228, 228, 228, 234, 234, 234, 235, 236, 113, 243, 243, 243, 243, 243, 191, 245, 638, 245, 245, 33, 245, 357, 357, 357, 246, 251, 648, 648, 648, 260, 251, 251, 265, 289, 265, 265, 265, 265, 265, 265, 265, 265, 265, 265, 265, 265, 265, 265, 265, 265, 265, 265, 265, 289, 289, 265, 265, 265, 265, 265, 265, 268, 268, 268, 1035, 269, 164, 276, 113, 277, 281, 289, 289, 289, 289, 289, 289, 289, 289, 289, 289, 289, 289, 289, 290, 294, 113, 298, 300, 300, 301, 308, 310, 310, 310, 289, 289, 762, 317, 318, 427, 427, 427, 321, 323, 324, 325, 301, 301, 301, 301, 301, 301, 301, 301, 301, 301, 301, 301, 301, 301, 325, 693, 325, 326, 326, 328, 332, 335, 336, 337, 337, 337, 337, 338, 343, 144, 355, 359, 363, 363, 364, 364, 364, 265, 374, 376, 386, 386, 391, 236, 384, 384, 396, 814, 402, 402, 402, 402, 403, 405, 407, 288, 408, 408, 415, 418, 651, 651, 651, 651, 651, 651, 651, 651, 289, 289, 424, 426, 426, 426, 427, 427, 427, 427, 427, 427, 427, 427, 427, 384, 318, 113, 428, 435, 251, 443, 444, 444, 113, 455, 455, 455, 455, 455, 455, 710, 456, 460, 470, 470, 474, 780, 780, 780, 780, 489, 491, 491, 492, 492, 492, 495, 496, 497, 499, 507, 509, 516, 658, 517, 517, 427, 524, 524, 164, 530, 530, 530, 530, 530, 595, 536, 27, 113, 541, 541, 545, 545, 113, 384, 384, 384, 384, 384, 384, 569, 100, 590, 590, 590, 590, 355, 592, 592, 592, 595, 597, 597, 607, 608, 610, 58, 58, 58, 614, 76, 76, 614, 614, 619, 619, 619, 384, 644, 644, 644, 644, 646, 646, 646, 646, 646, 652, 636, 636, 636, 636, 662, 662, 662, 662, 666, 680, 686, 693, 694, 703, 710, 710, 711, 711, 1035, 714, 715, 717, 729, 735, 741, 745, 746, 746, 752, 753, 753, 773, 775, 775, 775, 775, 799, 753, 804, 805, 808, 809, 809, 809, 810, 824, 826, 826, 827, 384, 384, 830, 830, 830, 830, 830, 202, 202, 840, 484, 847, 847, 847, 785, 785, 113, 853, 853, 853, 853, 853, 853, 384, 860, 864, 868, 873, 878, 878, 886, 289, 892, 897, 897, 897, 897, 897, 910, 113, 355, 355, 113, 1035, 927, 929, 113, 936, 937, 937, 937, 937, 937, 937, 937, 937, 937, 937, 937, 937, 937, 937, 355, 355, 113, 113, 113, 949, 949, 949, 949, 949, 949, 949, 949, 949, 949, 949, 949, 949, 949, 949, 949, 949, 949, 949, 949, 949, 949, 949, 949, 949, 949, 949, 949, 949, 949, 949, 949, 949, 949, 949, 949, 949, 949, 949, 949, 949, 949, 949, 949, 949, 949, 949, 949, 949, 949, 949, 949, 949, 949, 949, 949, 949, 949, 949, 949, 949, 949, 949, 949, 949, 949, 949, 949, 949, 949, 949, 949, 949, 949, 949, 949, 949, 949, 949, 949, 949, 949, 949, 949, 949, 949, 949, 949, 949, 949, 949, 949, 949, 949, 949, 949, 949, 949, 949, 949, 949, 949, 949, 949, 949, 949, 949, 949, 949, 949, 949, 949, 949, 949, 949, 949, 949, 949, 949, 949, 949, 949, 949, 949, 949, 949, 949, 949, 949, 949, 949, 949, 949, 949, 949, 949, 949, 949, 949, 949, 949, 949, 949, 949, 949, 949, 949, 949, 949, 960, 1035, 949, 949, 950, 950, 950, 950, 950, 952, 952, 952, 159, 191, 191, 958, 983, 983, 708, 708, 708, 288, 977, 983, 113, 1001, 1001, 710, 1017, 1032, 113, 337, 337, 1028, 1028, 1028, 1035]\n",
            "[2, 2, 8, 8, 8, 8, 8, 8, 8, 8, 8, 8, 20, 21, 22, 22, 25, 27, 27, 31, 31, 32, 34, 37, 37, 37, 37, 37, 37, 37, 37, 37, 37, 44, 45, 49, 49, 49, 49, 49, 49, 49, 49, 49, 49, 49, 49, 49, 49, 49, 49, 49, 53, 53, 53, 58, 59, 60, 62, 65, 71, 71, 74, 76, 76, 77, 79, 79, 79, 79, 79, 79, 79, 79, 79, 79, 79, 79, 79, 79, 79, 79, 79, 79, 79, 79, 79, 79, 79, 79, 79, 79, 79, 79, 79, 79, 79, 79, 79, 79, 79, 79, 79, 79, 79, 79, 79, 79, 79, 79, 79, 79, 79, 79, 79, 80, 80, 80, 80, 80, 80, 80, 80, 80, 80, 80, 88, 89, 91, 92, 94, 94, 94, 94, 94, 94, 94, 94, 94, 94, 94, 94, 96, 97, 98, 100, 100, 100, 100, 100, 100, 103, 108, 111, 111, 111, 111, 111, 117, 120, 120, 122, 125, 125, 125, 125, 125, 125, 125, 125, 125, 125, 125, 127, 131, 135, 135, 135, 139, 142, 142, 142, 146, 151, 151, 158, 165, 166, 166, 171, 172, 172, 172, 172, 172, 172, 172, 172, 173, 182, 182, 182, 182, 183, 183, 183, 183, 183, 183, 183, 183, 183, 183, 183, 183, 183, 183, 183, 184, 184, 184, 185, 187, 187, 187, 189, 189, 190, 190, 190, 190, 193, 200, 210, 210, 214, 214, 214, 214, 214, 214, 214, 214, 214, 214, 214, 214, 214, 214, 214, 214, 214, 216, 218, 218, 218, 220, 220, 220, 220, 220, 222, 223, 223, 226, 228, 228, 228, 228, 228, 228, 228, 228, 228, 228, 234, 234, 234, 235, 236, 239, 243, 243, 243, 243, 243, 244, 245, 245, 245, 245, 245, 245, 246, 246, 246, 246, 251, 254, 254, 254, 260, 262, 262, 265, 265, 265, 265, 265, 265, 265, 265, 265, 265, 265, 265, 265, 265, 265, 265, 265, 265, 265, 265, 265, 265, 265, 265, 265, 265, 265, 265, 265, 268, 268, 268, 269, 269, 271, 276, 277, 277, 281, 289, 289, 289, 289, 289, 289, 289, 289, 289, 289, 289, 289, 289, 290, 294, 298, 298, 300, 300, 301, 308, 309, 309, 309, 309, 309, 315, 317, 318, 318, 318, 318, 321, 323, 324, 325, 325, 325, 325, 325, 325, 325, 325, 325, 325, 325, 325, 325, 325, 325, 325, 325, 325, 326, 326, 328, 332, 335, 336, 337, 337, 337, 337, 338, 343, 344, 355, 359, 363, 363, 364, 364, 364, 364, 374, 376, 386, 386, 391, 394, 396, 396, 396, 397, 402, 402, 402, 402, 403, 405, 407, 408, 408, 408, 415, 418, 419, 419, 419, 419, 419, 419, 419, 419, 419, 419, 424, 426, 426, 426, 427, 427, 427, 427, 427, 427, 427, 427, 427, 427, 427, 427, 428, 435, 435, 443, 444, 444, 455, 455, 455, 455, 455, 455, 455, 455, 456, 460, 470, 470, 474, 475, 475, 475, 475, 489, 491, 491, 492, 492, 492, 495, 496, 497, 499, 507, 509, 516, 516, 517, 517, 522, 524, 524, 527, 530, 530, 530, 530, 530, 535, 536, 536, 540, 541, 541, 545, 545, 548, 548, 548, 548, 548, 548, 548, 569, 572, 590, 590, 590, 590, 592, 592, 592, 592, 595, 597, 597, 607, 608, 610, 610, 610, 610, 614, 614, 614, 614, 614, 619, 619, 619, 623, 644, 644, 644, 644, 646, 646, 646, 646, 646, 652, 652, 652, 652, 652, 662, 662, 662, 662, 666, 680, 686, 693, 694, 703, 710, 710, 711, 711, 714, 714, 715, 717, 729, 735, 741, 745, 746, 746, 752, 753, 753, 773, 775, 775, 775, 775, 799, 803, 804, 805, 808, 809, 809, 809, 810, 824, 826, 826, 827, 830, 830, 830, 830, 830, 830, 830, 834, 834, 840, 841, 847, 847, 847, 852, 852, 852, 853, 853, 853, 853, 853, 853, 853, 860, 864, 868, 873, 878, 878, 886, 889, 892, 896, 896, 896, 896, 896, 910, 916, 919, 919, 923, 925, 927, 929, 931, 936, 937, 937, 937, 937, 937, 937, 937, 937, 937, 937, 937, 937, 937, 937, 941, 941, 944, 947, 948, 949, 949, 949, 949, 949, 949, 949, 949, 949, 949, 949, 949, 949, 949, 949, 949, 949, 949, 949, 949, 949, 949, 949, 949, 949, 949, 949, 949, 949, 949, 949, 949, 949, 949, 949, 949, 949, 949, 949, 949, 949, 949, 949, 949, 949, 949, 949, 949, 949, 949, 949, 949, 949, 949, 949, 949, 949, 949, 949, 949, 949, 949, 949, 949, 949, 949, 949, 949, 949, 949, 949, 949, 949, 949, 949, 949, 949, 949, 949, 949, 949, 949, 949, 949, 949, 949, 949, 949, 949, 949, 949, 949, 949, 949, 949, 949, 949, 949, 949, 949, 949, 949, 949, 949, 949, 949, 949, 949, 949, 949, 949, 949, 949, 949, 949, 949, 949, 949, 949, 949, 949, 949, 949, 949, 949, 949, 949, 949, 949, 949, 949, 949, 949, 949, 949, 949, 949, 949, 949, 949, 949, 949, 949, 949, 949, 949, 949, 949, 949, 949, 949, 949, 949, 950, 950, 950, 950, 950, 952, 952, 952, 955, 956, 956, 958, 964, 964, 967, 967, 967, 976, 977, 983, 984, 1001, 1001, 1008, 1017, 1020, 1022, 1026, 1026, 1028, 1028, 1028, 1035]\n"
          ],
          "name": "stdout"
        }
      ]
    },
    {
      "cell_type": "code",
      "metadata": {
        "id": "XIC4zufnMxtq",
        "colab_type": "code",
        "colab": {
          "base_uri": "https://localhost:8080/",
          "height": 51
        },
        "outputId": "11679c92-491e-4fbd-812f-67d95fe2428e"
      },
      "source": [
        "correct_num = 0\n",
        "\n",
        "for i in range(0, len(predict_list)):\n",
        "  if predict_list[i] == standard_list[i]:\n",
        "    correct_num = correct_num+1\n",
        "  else:\n",
        "    pass\n",
        "print(correct_num)\n",
        "\n",
        "predict_accuracy = correct_num/len(predict_list)\n",
        "print(predict_accuracy)"
      ],
      "execution_count": 57,
      "outputs": [
        {
          "output_type": "stream",
          "text": [
            "608\n",
            "0.7004608294930875\n"
          ],
          "name": "stdout"
        }
      ]
    },
    {
      "cell_type": "code",
      "metadata": {
        "id": "zlKMHp1CIaRJ",
        "colab_type": "code",
        "colab": {}
      },
      "source": [
        ""
      ],
      "execution_count": 0,
      "outputs": []
    }
  ]
}