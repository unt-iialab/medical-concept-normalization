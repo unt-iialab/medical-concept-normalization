{
  "nbformat": 4,
  "nbformat_minor": 0,
  "metadata": {
    "accelerator": "TPU",
    "colab": {
      "name": "bigtweet_ask_01.ipynb",
      "provenance": [],
      "collapsed_sections": [],
      "include_colab_link": true
    },
    "kernelspec": {
      "display_name": "Python 3",
      "name": "python3"
    }
  },
  "cells": [
    {
      "cell_type": "markdown",
      "metadata": {
        "id": "view-in-github",
        "colab_type": "text"
      },
      "source": [
        "<a href=\"https://colab.research.google.com/github/unt-iialab/medical-concept-normalization/blob/master/medical-concept-normalization/fine-tuning-experiments/askpatient/bigtweet_ask_01.ipynb\" target=\"_parent\"><img src=\"https://colab.research.google.com/assets/colab-badge.svg\" alt=\"Open In Colab\"/></a>"
      ]
    },
    {
      "cell_type": "code",
      "metadata": {
        "id": "adSi6i2-dWxy"
      },
      "source": [
        "import os"
      ],
      "execution_count": 1,
      "outputs": []
    },
    {
      "cell_type": "code",
      "metadata": {
        "id": "E7xYCRGPjd9B"
      },
      "source": [
        "base_dir = 'medical-concept-normalization'"
      ],
      "execution_count": 2,
      "outputs": []
    },
    {
      "cell_type": "code",
      "metadata": {
        "id": "yvIW3aUDjYNS"
      },
      "source": [
        "os.mkdir(base_dir)"
      ],
      "execution_count": 3,
      "outputs": []
    },
    {
      "cell_type": "code",
      "metadata": {
        "id": "es-FFLlfk6SG"
      },
      "source": [
        "os.mkdir('medical-concept-normalization/data_collection')"
      ],
      "execution_count": 4,
      "outputs": []
    },
    {
      "cell_type": "markdown",
      "metadata": {
        "id": "0R-Guw_VoJXm"
      },
      "source": [
        "**Install fastai and clone the fastai for text classification**\n",
        "\n"
      ]
    },
    {
      "cell_type": "code",
      "metadata": {
        "id": "QVZa3Z0PmHFH",
        "outputId": "958ae456-15f4-4d7e-c4f7-2cd7c0171cdb",
        "colab": {
          "base_uri": "https://localhost:8080/"
        }
      },
      "source": [
        "!curl https://course-v3.fast.ai/setup/colab | bash"
      ],
      "execution_count": 5,
      "outputs": [
        {
          "output_type": "stream",
          "text": [
            "  % Total    % Received % Xferd  Average Speed   Time    Time     Time  Current\n",
            "                                 Dload  Upload   Total   Spent    Left  Speed\n",
            "\r  0     0    0     0    0     0      0      0 --:--:-- --:--:-- --:--:--     0curl: (6) Could not resolve host: course-v3.fast.ai\n"
          ],
          "name": "stdout"
        }
      ]
    },
    {
      "cell_type": "code",
      "metadata": {
        "id": "_FBFFEBrmJC0",
        "outputId": "44e4e3b8-24ad-46c8-a07a-4ddcc9eefbac",
        "colab": {
          "base_uri": "https://localhost:8080/"
        }
      },
      "source": [
        "!git clone https://github.com/wshuyi/demo-nlp-classification-fastai.git"
      ],
      "execution_count": 6,
      "outputs": [
        {
          "output_type": "stream",
          "text": [
            "Cloning into 'demo-nlp-classification-fastai'...\n",
            "remote: Enumerating objects: 9, done.\u001b[K\n",
            "remote: Total 9 (delta 0), reused 0 (delta 0), pack-reused 9\u001b[K\n",
            "Unpacking objects: 100% (9/9), done.\n"
          ],
          "name": "stdout"
        }
      ]
    },
    {
      "cell_type": "code",
      "metadata": {
        "id": "66zfh_JqmWMU"
      },
      "source": [
        "from fastai import *\n",
        "from fastai.text import *"
      ],
      "execution_count": 7,
      "outputs": []
    },
    {
      "cell_type": "markdown",
      "metadata": {
        "id": "mNIw-yALdBU9"
      },
      "source": [
        "**Set the path of the data collections**"
      ]
    },
    {
      "cell_type": "code",
      "metadata": {
        "id": "pzH7VMh4mqCL"
      },
      "source": [
        "path = Path('medical-concept-normalization/data_collection')"
      ],
      "execution_count": 8,
      "outputs": []
    },
    {
      "cell_type": "code",
      "metadata": {
        "id": "b8fjI6yyn4aS"
      },
      "source": [
        "# training data set\n",
        "\n",
        "train_csv = path/'AskAPatient.fold-1.train.csv'\n",
        "train = pd.read_csv(train_csv, header=None)\n",
        "#train.head()\n",
        "#train.info()"
      ],
      "execution_count": 10,
      "outputs": []
    },
    {
      "cell_type": "code",
      "metadata": {
        "id": "Hmlr-bAorfHd",
        "outputId": "96489d69-6eff-46c5-f405-af0fa988a6ab",
        "colab": {
          "base_uri": "https://localhost:8080/",
          "height": 204
        }
      },
      "source": [
        "# validating data set\n",
        "\n",
        "valid = pd.read_csv(path/\"AskAPatient.fold-1.validation.csv\",header=None)\n",
        "valid.head()"
      ],
      "execution_count": 11,
      "outputs": [
        {
          "output_type": "execute_result",
          "data": {
            "text/html": [
              "<div>\n",
              "<style scoped>\n",
              "    .dataframe tbody tr th:only-of-type {\n",
              "        vertical-align: middle;\n",
              "    }\n",
              "\n",
              "    .dataframe tbody tr th {\n",
              "        vertical-align: top;\n",
              "    }\n",
              "\n",
              "    .dataframe thead th {\n",
              "        text-align: right;\n",
              "    }\n",
              "</style>\n",
              "<table border=\"1\" class=\"dataframe\">\n",
              "  <thead>\n",
              "    <tr style=\"text-align: right;\">\n",
              "      <th></th>\n",
              "      <th>0</th>\n",
              "      <th>1</th>\n",
              "    </tr>\n",
              "  </thead>\n",
              "  <tbody>\n",
              "    <tr>\n",
              "      <th>0</th>\n",
              "      <td>0</td>\n",
              "      <td>fear</td>\n",
              "    </tr>\n",
              "    <tr>\n",
              "      <th>1</th>\n",
              "      <td>2</td>\n",
              "      <td>heels hurt</td>\n",
              "    </tr>\n",
              "    <tr>\n",
              "      <th>2</th>\n",
              "      <td>4</td>\n",
              "      <td>Discoloration of skin [blotchy] on the neck</td>\n",
              "    </tr>\n",
              "    <tr>\n",
              "      <th>3</th>\n",
              "      <td>6</td>\n",
              "      <td>diastolic dysfunction</td>\n",
              "    </tr>\n",
              "    <tr>\n",
              "      <th>4</th>\n",
              "      <td>8</td>\n",
              "      <td>arthritis</td>\n",
              "    </tr>\n",
              "  </tbody>\n",
              "</table>\n",
              "</div>"
            ],
            "text/plain": [
              "   0                                            1\n",
              "0  0                                         fear\n",
              "1  2                                   heels hurt\n",
              "2  4  Discoloration of skin [blotchy] on the neck\n",
              "3  6                        diastolic dysfunction\n",
              "4  8                                    arthritis"
            ]
          },
          "metadata": {
            "tags": []
          },
          "execution_count": 11
        }
      ]
    },
    {
      "cell_type": "code",
      "metadata": {
        "id": "cOza9dfSsBud",
        "outputId": "522efbad-a8ba-471c-d7af-35d135799528",
        "colab": {
          "base_uri": "https://localhost:8080/",
          "height": 204
        }
      },
      "source": [
        "# testing data set\n",
        "\n",
        "test = pd.read_csv(path/\"AskAPatient.fold-1.test.csv\",header=None)\n",
        "test.head()"
      ],
      "execution_count": 12,
      "outputs": [
        {
          "output_type": "execute_result",
          "data": {
            "text/html": [
              "<div>\n",
              "<style scoped>\n",
              "    .dataframe tbody tr th:only-of-type {\n",
              "        vertical-align: middle;\n",
              "    }\n",
              "\n",
              "    .dataframe tbody tr th {\n",
              "        vertical-align: top;\n",
              "    }\n",
              "\n",
              "    .dataframe thead th {\n",
              "        text-align: right;\n",
              "    }\n",
              "</style>\n",
              "<table border=\"1\" class=\"dataframe\">\n",
              "  <thead>\n",
              "    <tr style=\"text-align: right;\">\n",
              "      <th></th>\n",
              "      <th>0</th>\n",
              "      <th>1</th>\n",
              "    </tr>\n",
              "  </thead>\n",
              "  <tbody>\n",
              "    <tr>\n",
              "      <th>0</th>\n",
              "      <td>2</td>\n",
              "      <td>heel pain</td>\n",
              "    </tr>\n",
              "    <tr>\n",
              "      <th>1</th>\n",
              "      <td>2</td>\n",
              "      <td>right heel became painful</td>\n",
              "    </tr>\n",
              "    <tr>\n",
              "      <th>2</th>\n",
              "      <td>8</td>\n",
              "      <td>Arthritis</td>\n",
              "    </tr>\n",
              "    <tr>\n",
              "      <th>3</th>\n",
              "      <td>8</td>\n",
              "      <td>arthristis</td>\n",
              "    </tr>\n",
              "    <tr>\n",
              "      <th>4</th>\n",
              "      <td>8</td>\n",
              "      <td>arthritis</td>\n",
              "    </tr>\n",
              "  </tbody>\n",
              "</table>\n",
              "</div>"
            ],
            "text/plain": [
              "   0                          1\n",
              "0  2                  heel pain\n",
              "1  2  right heel became painful\n",
              "2  8                  Arthritis\n",
              "3  8                 arthristis\n",
              "4  8                  arthritis"
            ]
          },
          "metadata": {
            "tags": []
          },
          "execution_count": 12
        }
      ]
    },
    {
      "cell_type": "code",
      "metadata": {
        "id": "Vo-YNvVYoaH6",
        "outputId": "8bf537ff-0f70-43d6-9ee2-538d1cc6a1b0",
        "colab": {
          "base_uri": "https://localhost:8080/",
          "height": 17
        }
      },
      "source": [
        "# Creating DataBunch for language modelling\n",
        "\n",
        "data_lm = TextLMDataBunch.from_csv(path, 'bigtweet_ask.csv')"
      ],
      "execution_count": 13,
      "outputs": [
        {
          "output_type": "display_data",
          "data": {
            "text/html": [
              ""
            ],
            "text/plain": [
              "<IPython.core.display.HTML object>"
            ]
          },
          "metadata": {
            "tags": []
          }
        },
        {
          "output_type": "display_data",
          "data": {
            "text/html": [
              ""
            ],
            "text/plain": [
              "<IPython.core.display.HTML object>"
            ]
          },
          "metadata": {
            "tags": []
          }
        }
      ]
    },
    {
      "cell_type": "code",
      "metadata": {
        "id": "qcV-9kMnNLBf"
      },
      "source": [
        ""
      ],
      "execution_count": 13,
      "outputs": []
    },
    {
      "cell_type": "code",
      "metadata": {
        "id": "1ScY9afDsnvE"
      },
      "source": [
        "# Creating DataBunch for classification\n",
        "\n",
        "# data_clas = TextClasDataBunch.from_df(path, train, valid, test, vocab=data_lm.train_ds.vocab, bs=128)"
      ],
      "execution_count": 14,
      "outputs": []
    },
    {
      "cell_type": "code",
      "metadata": {
        "id": "gzrSdQcvey9p",
        "outputId": "8a1ae87f-fefd-4c4f-b520-84d3d713afac",
        "colab": {
          "base_uri": "https://localhost:8080/",
          "height": 17
        }
      },
      "source": [
        "data_clas = TextClasDataBunch.from_df(path, train, valid, vocab=data_lm.train_ds.vocab, bs=128)"
      ],
      "execution_count": 15,
      "outputs": [
        {
          "output_type": "display_data",
          "data": {
            "text/html": [
              ""
            ],
            "text/plain": [
              "<IPython.core.display.HTML object>"
            ]
          },
          "metadata": {
            "tags": []
          }
        },
        {
          "output_type": "display_data",
          "data": {
            "text/html": [
              ""
            ],
            "text/plain": [
              "<IPython.core.display.HTML object>"
            ]
          },
          "metadata": {
            "tags": []
          }
        }
      ]
    },
    {
      "cell_type": "code",
      "metadata": {
        "id": "MD27Tf0Ke3ou",
        "outputId": "7c4b8c02-b9cc-45fa-9448-9ef6f2651e42",
        "colab": {
          "base_uri": "https://localhost:8080/",
          "height": 17
        }
      },
      "source": [
        "data_clas.add_test(test,label=0)\n"
      ],
      "execution_count": 16,
      "outputs": [
        {
          "output_type": "display_data",
          "data": {
            "text/html": [
              ""
            ],
            "text/plain": [
              "<IPython.core.display.HTML object>"
            ]
          },
          "metadata": {
            "tags": []
          }
        }
      ]
    },
    {
      "cell_type": "code",
      "metadata": {
        "id": "-dpjnk_rstwk"
      },
      "source": [
        "data_lm.save()\n",
        "data_clas.save()"
      ],
      "execution_count": 17,
      "outputs": []
    },
    {
      "cell_type": "code",
      "metadata": {
        "id": "4OkiJa36sw5s",
        "outputId": "d81dcbe4-80e8-436f-c085-e6da5abb8630",
        "colab": {
          "base_uri": "https://localhost:8080/"
        }
      },
      "source": [
        "data_lm.train_ds.vocab.itos"
      ],
      "execution_count": 18,
      "outputs": [
        {
          "output_type": "execute_result",
          "data": {
            "text/plain": [
              "['xxunk',\n",
              " 'xxpad',\n",
              " 'xxbos',\n",
              " 'xxeos',\n",
              " 'xxfld',\n",
              " 'xxmaj',\n",
              " 'xxup',\n",
              " 'xxrep',\n",
              " 'xxwrep',\n",
              " 'pain',\n",
              " 'lipitor',\n",
              " 'in',\n",
              " 'of',\n",
              " 'muscle',\n",
              " 'to',\n",
              " 'the',\n",
              " 'severe',\n",
              " 'and',\n",
              " 'my',\n",
              " 'myalgia',\n",
              " 'fatigue',\n",
              " 'rt',\n",
              " 'lower',\n",
              " 'a',\n",
              " 'loss',\n",
              " 'cramp',\n",
              " 'limb',\n",
              " 'weakness',\n",
              " 'for',\n",
              " 'disease',\n",
              " 'stomach',\n",
              " 'depression',\n",
              " '-',\n",
              " 'back',\n",
              " 'on',\n",
              " 'cramps',\n",
              " 'is',\n",
              " 'upper',\n",
              " 'gas',\n",
              " 'memory',\n",
              " 'joint',\n",
              " 'leg',\n",
              " 'you',\n",
              " 'legs',\n",
              " 'pains',\n",
              " 'i',\n",
              " 'headache',\n",
              " 'shoulder',\n",
              " 'with',\n",
              " 'unable',\n",
              " 'knee',\n",
              " 'arthralgia',\n",
              " 'neck',\n",
              " 'excessive',\n",
              " 'foot',\n",
              " 'aches',\n",
              " 'amp',\n",
              " 'gastrointestinal',\n",
              " 'hip',\n",
              " 'not',\n",
              " 'insomnia',\n",
              " 'numbness',\n",
              " 'arthritis',\n",
              " 'like',\n",
              " 'all',\n",
              " 'arthrotec',\n",
              " '/',\n",
              " 'gluten',\n",
              " 'asthenia',\n",
              " 'bleeding',\n",
              " 'tired',\n",
              " 'nausea',\n",
              " 'feeling',\n",
              " 'walk',\n",
              " 'dizziness',\n",
              " 'heart',\n",
              " 'abdominal',\n",
              " 'walking',\n",
              " 'problems',\n",
              " 'feet',\n",
              " 'difficulty',\n",
              " 'swelling',\n",
              " 'muscles',\n",
              " 'chest',\n",
              " 'at',\n",
              " 'hair',\n",
              " 'zocor',\n",
              " 'backache',\n",
              " 'burning',\n",
              " 'hand',\n",
              " 'extreme',\n",
              " 'could',\n",
              " 'ache',\n",
              " 'vision',\n",
              " 'stiffness',\n",
              " 'your',\n",
              " 'free',\n",
              " 'are',\n",
              " 'it',\n",
              " 'out',\n",
              " 'cramping',\n",
              " 'pins',\n",
              " 'needles',\n",
              " 'diarrhoea',\n",
              " 'have',\n",
              " 'can',\n",
              " 'increased',\n",
              " 'up',\n",
              " 'sleep',\n",
              " 'skin',\n",
              " 'amnesia',\n",
              " 'blood',\n",
              " 'right',\n",
              " 'very',\n",
              " 'calf',\n",
              " 'liver',\n",
              " 'or',\n",
              " 'weight',\n",
              " 'from',\n",
              " 'cholesterol',\n",
              " 'impairment',\n",
              " 'disability',\n",
              " 'left',\n",
              " 'do',\n",
              " 'tingling',\n",
              " 'anxiety',\n",
              " 'new',\n",
              " 'this',\n",
              " 'symptom',\n",
              " 'nt',\n",
              " 'stiff',\n",
              " 'short',\n",
              " 'about',\n",
              " 'lack',\n",
              " 'constipation',\n",
              " 'what',\n",
              " 'our',\n",
              " 'high',\n",
              " 'glutenfree',\n",
              " 'low',\n",
              " 'bloating',\n",
              " 'term',\n",
              " 'disorder',\n",
              " 'was',\n",
              " 'so',\n",
              " 'be',\n",
              " 'arm',\n",
              " 'celiac',\n",
              " 'arms',\n",
              " 'neuropathy',\n",
              " 'hands',\n",
              " 'sore',\n",
              " 'poor',\n",
              " 'headaches',\n",
              " 'blurred',\n",
              " 'that',\n",
              " 'get',\n",
              " 'balance',\n",
              " 'voltaren',\n",
              " 'time',\n",
              " 'ankle',\n",
              " 'now',\n",
              " 'body',\n",
              " 'pressure',\n",
              " 'pravachol',\n",
              " 'tiredness',\n",
              " 'infarction',\n",
              " 'hurt',\n",
              " 'mentally',\n",
              " 'joints',\n",
              " 'myocardial',\n",
              " 'vaginal',\n",
              " 'myositis',\n",
              " 'vertigo',\n",
              " 'atrophy',\n",
              " 'generalised',\n",
              " 'sensation',\n",
              " 'acid',\n",
              " 'rash',\n",
              " 'by',\n",
              " 'more',\n",
              " 'swollen',\n",
              " 'itching',\n",
              " 'ubidecarenone',\n",
              " 'energy',\n",
              " ',',\n",
              " ')',\n",
              " 'attack',\n",
              " 'food',\n",
              " 'gain',\n",
              " 'dull',\n",
              " \"'s\",\n",
              " 'how',\n",
              " 'upset',\n",
              " 'painful',\n",
              " 'we',\n",
              " 'diabetes',\n",
              " 'illness',\n",
              " 'no',\n",
              " 'shoulders',\n",
              " 'dry',\n",
              " 'feel',\n",
              " 'raised',\n",
              " 'as',\n",
              " 'diarrhea',\n",
              " 'influenza',\n",
              " 'constant',\n",
              " 'spasm',\n",
              " '(',\n",
              " \"n't\",\n",
              " 'its',\n",
              " 'bad',\n",
              " 'elbow',\n",
              " 'hazy',\n",
              " 'damage',\n",
              " 'me',\n",
              " 'both',\n",
              " 'use',\n",
              " 'weak',\n",
              " 'via',\n",
              " 'if',\n",
              " 'crestor',\n",
              " 'visual',\n",
              " 'reduced',\n",
              " 'symptoms',\n",
              " 'has',\n",
              " 'spasms',\n",
              " 'sleeping',\n",
              " 'tendonitis',\n",
              " 'tip',\n",
              " 'toe',\n",
              " 'w',\n",
              " 'heavy',\n",
              " 'myopathy',\n",
              " 'just',\n",
              " 'elevated',\n",
              " 'problem',\n",
              " 'libido',\n",
              " 'mood',\n",
              " 'abnormal',\n",
              " 'dblclick',\n",
              " 'products',\n",
              " 'diet',\n",
              " 'exhaustion',\n",
              " 'movement',\n",
              " 'pic',\n",
              " 'irritable',\n",
              " 'knees',\n",
              " 'flatulence',\n",
              " 'sclerosis',\n",
              " 'thigh',\n",
              " 'reflux',\n",
              " 'syndrome',\n",
              " 'fibromyalgia',\n",
              " 'flu',\n",
              " 'think',\n",
              " 'concentrate',\n",
              " 'throat',\n",
              " 'discomfort',\n",
              " 'bed',\n",
              " 'why',\n",
              " 'kidney',\n",
              " 'check',\n",
              " 'cold',\n",
              " 'chronic',\n",
              " 'serum',\n",
              " 'vomiting',\n",
              " 'know',\n",
              " 'over',\n",
              " 'here',\n",
              " 'malaise',\n",
              " 'had',\n",
              " 'disturbance',\n",
              " 'mellitus',\n",
              " 'lightheadedness',\n",
              " 'review',\n",
              " 'when',\n",
              " 'urine',\n",
              " 'sweating',\n",
              " 'hips',\n",
              " 'brain',\n",
              " 'confusion',\n",
              " 'type',\n",
              " 'tremor',\n",
              " 'swings',\n",
              " 'love',\n",
              " 'simvastatin',\n",
              " 'appetite',\n",
              " 'soreness',\n",
              " 'wind',\n",
              " 'aching',\n",
              " 'off',\n",
              " 'menstrual',\n",
              " 'concentration',\n",
              " 'calves',\n",
              " 'tinnitus',\n",
              " 's',\n",
              " 'paraesthesia',\n",
              " 'head',\n",
              " 'ezetimibe',\n",
              " 'finger',\n",
              " 'eat',\n",
              " 'm',\n",
              " 'esters',\n",
              " 'but',\n",
              " 'peripheral',\n",
              " 'eye',\n",
              " 'help',\n",
              " 'make',\n",
              " 'an',\n",
              " 'thanks',\n",
              " 'intolerance',\n",
              " 'will',\n",
              " 'injury',\n",
              " 'failure',\n",
              " 'stairs',\n",
              " 'impaired',\n",
              " 'toes',\n",
              " 'going',\n",
              " 'motivation',\n",
              " 'celebrex',\n",
              " 'always',\n",
              " 'who',\n",
              " 'palpitations',\n",
              " 'one',\n",
              " 'heel',\n",
              " 'c',\n",
              " 'post',\n",
              " 'dark',\n",
              " 'great',\n",
              " 'ankles',\n",
              " 'cough',\n",
              " 'swallowing',\n",
              " 'decreased',\n",
              " '2',\n",
              " 'parkinson',\n",
              " 'ca',\n",
              " 'renal',\n",
              " '1',\n",
              " 'charleyhorse',\n",
              " 'hot',\n",
              " 'night',\n",
              " 'ascorbic',\n",
              " 'tendon',\n",
              " 'lupus',\n",
              " 'gfb',\n",
              " 'recipe',\n",
              " 'restless',\n",
              " 'face',\n",
              " 're',\n",
              " 'migraine',\n",
              " 'acute',\n",
              " 'ibuprofen',\n",
              " 'speech',\n",
              " 'depressed',\n",
              " 'multiple',\n",
              " 'indigestion',\n",
              " 'dyspnoea',\n",
              " 'getting',\n",
              " 'excruciating',\n",
              " 'intense',\n",
              " 'some',\n",
              " 'being',\n",
              " 'mild',\n",
              " 'posted',\n",
              " 'day',\n",
              " 'general',\n",
              " 'life',\n",
              " '30',\n",
              " 'felt',\n",
              " 'fingers',\n",
              " 'twitch',\n",
              " 'menopause',\n",
              " '\\r \\n ',\n",
              " 'eyes',\n",
              " 'down',\n",
              " 'they',\n",
              " 'enzymes',\n",
              " 'lateral',\n",
              " 'stress',\n",
              " 'infection',\n",
              " 'us',\n",
              " 'gout',\n",
              " 'oil',\n",
              " 'read',\n",
              " 'heres',\n",
              " 'vitamin',\n",
              " 'living',\n",
              " 'need',\n",
              " 'tightness',\n",
              " 'drowsy',\n",
              " 'does',\n",
              " '3',\n",
              " 'taste',\n",
              " 'may',\n",
              " 'test',\n",
              " 'fish',\n",
              " 'mg',\n",
              " 'sensitivity',\n",
              " 'big',\n",
              " 'dreams',\n",
              " 'people',\n",
              " 'advil',\n",
              " 'tips',\n",
              " 'jennieo',\n",
              " 'breathing',\n",
              " 'go',\n",
              " 'there',\n",
              " 'fenofibrate',\n",
              " 'wrist',\n",
              " 'heartburn',\n",
              " 'terrible',\n",
              " 'nerve',\n",
              " 'archives',\n",
              " 'trouble',\n",
              " 'sinus',\n",
              " 'strength',\n",
              " 'provoked',\n",
              " 'bowel',\n",
              " 'today',\n",
              " 'amyotrophic',\n",
              " '10',\n",
              " 'fog',\n",
              " 'well',\n",
              " 'side',\n",
              " 'breath',\n",
              " 'limbs',\n",
              " 'nasal',\n",
              " '5',\n",
              " 'chicken',\n",
              " 'function',\n",
              " 'move',\n",
              " 'coq10',\n",
              " 'did',\n",
              " 'twitching',\n",
              " 'thighs',\n",
              " 'uterine',\n",
              " 'tight',\n",
              " 'mouth',\n",
              " 'clearly',\n",
              " 'mobility',\n",
              " 'ulcer',\n",
              " 'should',\n",
              " 'tylenol',\n",
              " 'much',\n",
              " 'news',\n",
              " 'horses',\n",
              " 'level',\n",
              " 'sick',\n",
              " 'were',\n",
              " 'urinary',\n",
              " 'loose',\n",
              " 'lethargy',\n",
              " 'fever',\n",
              " 'want',\n",
              " 'moody',\n",
              " 'those',\n",
              " 'rheumatoid',\n",
              " 'charley',\n",
              " 'good',\n",
              " 'ever',\n",
              " 'mental',\n",
              " 'numb',\n",
              " 'accident',\n",
              " 'plantar',\n",
              " 'happy',\n",
              " 'aleve',\n",
              " 'lost',\n",
              " 'only',\n",
              " 'find',\n",
              " 'diclofenac',\n",
              " 'things',\n",
              " 'thoughts',\n",
              " 'been',\n",
              " '+',\n",
              " 'take',\n",
              " 'elbows',\n",
              " 'cerebrovascular',\n",
              " 'facial',\n",
              " 'hardly',\n",
              " 'fatigued',\n",
              " 'exercise',\n",
              " 'sharp',\n",
              " 'light',\n",
              " 'would',\n",
              " 'awareness',\n",
              " 'slurred',\n",
              " 'tricor',\n",
              " 'ringing',\n",
              " 'best',\n",
              " 'pizza',\n",
              " 'issues',\n",
              " 'extremity',\n",
              " 'panic',\n",
              " 'eating',\n",
              " 'share',\n",
              " 'looks',\n",
              " '\\r \\n \\r \\n ',\n",
              " 'malignant',\n",
              " 'please',\n",
              " '4',\n",
              " 'even',\n",
              " 'too',\n",
              " 'paracetamol',\n",
              " 'sugar',\n",
              " 'shortness',\n",
              " 'tract',\n",
              " 'article',\n",
              " 'present',\n",
              " 'pulse',\n",
              " 'drive',\n",
              " 'patients',\n",
              " 'finding',\n",
              " 'barely',\n",
              " 'attacks',\n",
              " 'hunger',\n",
              " 'congestion',\n",
              " 'hypertension',\n",
              " 'top',\n",
              " 'blog',\n",
              " 'difficult',\n",
              " 'oedema',\n",
              " 'cancer',\n",
              " 'colic',\n",
              " 'got',\n",
              " 'system',\n",
              " 'stamina',\n",
              " 'achilles',\n",
              " 'diagnosis',\n",
              " 'zetia',\n",
              " 'week',\n",
              " 'sweats',\n",
              " 'forgetful',\n",
              " 'flushing',\n",
              " 'every',\n",
              " 'still',\n",
              " 'liptor',\n",
              " 'than',\n",
              " 'around',\n",
              " 'erythematosus',\n",
              " 'easy',\n",
              " 'started',\n",
              " 'rhabdomyolysis',\n",
              " 'diagnosed',\n",
              " 'extremely',\n",
              " 'area',\n",
              " 'dizzy',\n",
              " 'neurontin',\n",
              " 'see',\n",
              " 'dr',\n",
              " ':',\n",
              " 'inflammatory',\n",
              " 'fasciitis',\n",
              " 'friends',\n",
              " 'spasmodic',\n",
              " 'hypersomnia',\n",
              " 'irregular',\n",
              " 'major',\n",
              " 'pruritus',\n",
              " 'norvasc',\n",
              " 'osteoarthritis',\n",
              " 'aptyalism',\n",
              " 'eczema',\n",
              " 'many',\n",
              " 'hard',\n",
              " 'gf',\n",
              " 'stool',\n",
              " 'any',\n",
              " 'nervous',\n",
              " 'cookbook',\n",
              " 'sensations',\n",
              " 'creatinine',\n",
              " 'inflammation',\n",
              " 'soup',\n",
              " 'strain',\n",
              " 'years',\n",
              " 'also',\n",
              " 'lopid',\n",
              " 'where',\n",
              " 'deep',\n",
              " 'region',\n",
              " 'sex',\n",
              " 'atorvastatin',\n",
              " 'natural',\n",
              " 'asthma',\n",
              " 'prednisone',\n",
              " 'most',\n",
              " 'tachycardia',\n",
              " 'am',\n",
              " 'bread',\n",
              " 'omega-3-acid',\n",
              " 'ethyl',\n",
              " 'esters-90',\n",
              " 'health',\n",
              " 'morning',\n",
              " 'ear',\n",
              " 'increase',\n",
              " 'respiratory',\n",
              " 'menorrhagia',\n",
              " 'tension',\n",
              " '20',\n",
              " 'first',\n",
              " 'super',\n",
              " 'hurts',\n",
              " 'between',\n",
              " 'looking',\n",
              " 'try',\n",
              " 'sense',\n",
              " 'rapid',\n",
              " 'bone',\n",
              " '2014',\n",
              " 'als',\n",
              " 'delicious',\n",
              " 'horrible',\n",
              " 'long',\n",
              " 'able',\n",
              " 'inability',\n",
              " 'delusional',\n",
              " 'story',\n",
              " 'autographed',\n",
              " 'show',\n",
              " 'palsy',\n",
              " 'u',\n",
              " 'ability',\n",
              " 'safe',\n",
              " 'bell',\n",
              " 'study',\n",
              " 'bursitis',\n",
              " 'little',\n",
              " 'wheat',\n",
              " 'ears',\n",
              " 'support',\n",
              " 'itchy',\n",
              " 'allergic',\n",
              " 'their',\n",
              " 'co',\n",
              " 'foggy',\n",
              " 'anything',\n",
              " 'scalp',\n",
              " 'periods',\n",
              " 'forearm',\n",
              " 'hungry',\n",
              " 'learn',\n",
              " 'gait',\n",
              " 'lipex',\n",
              " 'lot',\n",
              " 'went',\n",
              " 'month',\n",
              " 'tolerance',\n",
              " 'venous',\n",
              " 'feels',\n",
              " 'linked',\n",
              " 'stand',\n",
              " 'frequent',\n",
              " 'falling',\n",
              " 'dysfunction',\n",
              " 'foods',\n",
              " 'these',\n",
              " 'cortisone',\n",
              " 'abdomen',\n",
              " 'climb',\n",
              " 'then',\n",
              " 'inflamation',\n",
              " 'limping',\n",
              " 'ms',\n",
              " 'lift',\n",
              " 'fast',\n",
              " 'way',\n",
              " 'remember',\n",
              " 'giveaway',\n",
              " 'info',\n",
              " 'into',\n",
              " 'reading',\n",
              " 'zoloft',\n",
              " 'change',\n",
              " 'empty',\n",
              " 'unwell',\n",
              " 'became',\n",
              " 'omega',\n",
              " 'non',\n",
              " 'erythema',\n",
              " 'nightmares',\n",
              " 'allergy',\n",
              " 'coronary',\n",
              " 'cpk',\n",
              " 'heaviness',\n",
              " 'weird',\n",
              " 'period',\n",
              " '&',\n",
              " 'america',\n",
              " 'stroke',\n",
              " 'rigidity',\n",
              " 'aphasia',\n",
              " 'retention',\n",
              " 'spotting',\n",
              " 'tablet',\n",
              " 'after',\n",
              " 'coming',\n",
              " 'generally',\n",
              " 'others',\n",
              " 'book',\n",
              " 'rupture',\n",
              " 'degenerative',\n",
              " 'codeine',\n",
              " 'muscular',\n",
              " 'page',\n",
              " 'sight',\n",
              " 'sudden',\n",
              " 'really',\n",
              " 'gastric',\n",
              " 've',\n",
              " 'everything',\n",
              " 'slight',\n",
              " 'his',\n",
              " 'made',\n",
              " 'due',\n",
              " 'bruising',\n",
              " 'other',\n",
              " 'diovan',\n",
              " 'healthy',\n",
              " 'diabetic',\n",
              " 'stabbing',\n",
              " 'suicidal',\n",
              " 'thinking',\n",
              " 'worse',\n",
              " 'drink',\n",
              " 'thank',\n",
              " 'recipes',\n",
              " 'death',\n",
              " 'bowl',\n",
              " 'quinoa',\n",
              " 'part',\n",
              " 'self',\n",
              " 'red',\n",
              " 'gut',\n",
              " 'bronchitis',\n",
              " 'bp',\n",
              " 'random',\n",
              " 'rectal',\n",
              " 'yes',\n",
              " 'less',\n",
              " 'sever',\n",
              " 'kids',\n",
              " 'options',\n",
              " 'menopausal',\n",
              " 'list',\n",
              " 'whole',\n",
              " 'better',\n",
              " 'chocolate',\n",
              " 'important',\n",
              " 'child',\n",
              " 'coeliac',\n",
              " 'year',\n",
              " 'paralysis',\n",
              " 'sun',\n",
              " 'edema',\n",
              " 'before',\n",
              " 'bloated',\n",
              " 'hear',\n",
              " 'ask',\n",
              " 'haematuria',\n",
              " 'bladder',\n",
              " 'sexual',\n",
              " 'digestive',\n",
              " 'chill',\n",
              " 'blurry',\n",
              " 'sweat',\n",
              " 'q10',\n",
              " 'permanent',\n",
              " 'disc',\n",
              " 'through',\n",
              " 'ty',\n",
              " 'levels',\n",
              " 'syncope',\n",
              " 'coated',\n",
              " 'without',\n",
              " 'cause',\n",
              " 'interview',\n",
              " 'headed',\n",
              " 'changes',\n",
              " 'paranoia',\n",
              " 'overall',\n",
              " 'carpal',\n",
              " 'tunnel',\n",
              " 'testosterone',\n",
              " 'tender',\n",
              " 'special',\n",
              " 'diagnose',\n",
              " 'follow',\n",
              " 'cookies',\n",
              " 'crying',\n",
              " 'neuralgia',\n",
              " 'film',\n",
              " 'her',\n",
              " 'convention',\n",
              " 'agitated',\n",
              " 'ached',\n",
              " 'anyone',\n",
              " 'tongue',\n",
              " 'own',\n",
              " 'anger',\n",
              " 'haemorrhage',\n",
              " 'endometriosis',\n",
              " 'sunday',\n",
              " 'interesting',\n",
              " 'breaking',\n",
              " 'something',\n",
              " 'live',\n",
              " 'link',\n",
              " 'menstruation',\n",
              " 'hey',\n",
              " 'sciatica',\n",
              " 'dehydration',\n",
              " 'muscels',\n",
              " 'colitis',\n",
              " 'talk',\n",
              " 'fear',\n",
              " 'white',\n",
              " 'twitches',\n",
              " 'valentines',\n",
              " 'sides',\n",
              " 'unhappy',\n",
              " 'intervertebral',\n",
              " 'cake',\n",
              " 'almost',\n",
              " 'episode',\n",
              " 'join',\n",
              " 'thoracic',\n",
              " 'enough',\n",
              " 'which',\n",
              " 'transient',\n",
              " 'personality',\n",
              " 'breast',\n",
              " 'restaurant',\n",
              " 'rate',\n",
              " 'ok',\n",
              " 'stools',\n",
              " 'risk',\n",
              " 'arthritic',\n",
              " 'uterus',\n",
              " 'interest',\n",
              " 'few',\n",
              " 'never',\n",
              " 'choking',\n",
              " 'limp',\n",
              " '-pelvis',\n",
              " 'moodiness',\n",
              " 'someone',\n",
              " 'agony',\n",
              " 'rise',\n",
              " 'eructation',\n",
              " '2013',\n",
              " 'irritability',\n",
              " 'aspirin',\n",
              " 'world',\n",
              " '100',\n",
              " 'bakery',\n",
              " 'next',\n",
              " 'fatique',\n",
              " 'pancreatitis',\n",
              " 'come',\n",
              " 'chair',\n",
              " 'hurting',\n",
              " 'potassium',\n",
              " 'spine',\n",
              " 'start',\n",
              " 'steatosis',\n",
              " 'ani',\n",
              " 'muscel',\n",
              " 'cycle',\n",
              " 'words',\n",
              " 'pinterest',\n",
              " 'misoprostol',\n",
              " 'disorientated',\n",
              " 'hepatic',\n",
              " 'glutened',\n",
              " 'allergies',\n",
              " 'ribs',\n",
              " 'unbearable',\n",
              " 'condition',\n",
              " 'standing',\n",
              " 'another',\n",
              " 'easily',\n",
              " 'menu',\n",
              " '40',\n",
              " 'cognition',\n",
              " 'eyesight',\n",
              " 'last',\n",
              " 'keep',\n",
              " 'triglycerides',\n",
              " 'expo',\n",
              " 'dinner',\n",
              " 'ideas',\n",
              " 'decrease',\n",
              " 'clumsiness',\n",
              " 'drowsiness',\n",
              " 'community',\n",
              " 'them',\n",
              " 'breakfast',\n",
              " 'restaurants',\n",
              " 'friendly',\n",
              " 'autoimmune',\n",
              " 'haematochezia',\n",
              " 'central',\n",
              " 'constantly',\n",
              " 'excited',\n",
              " 'exhausted',\n",
              " 'full',\n",
              " 'rashes',\n",
              " 'mass',\n",
              " 'rice',\n",
              " 'gfree',\n",
              " 'ill',\n",
              " 'mobic',\n",
              " 'mt',\n",
              " 'awesome',\n",
              " 'away',\n",
              " 'circulation',\n",
              " 'yellow',\n",
              " 'black',\n",
              " 'testing',\n",
              " 'sure',\n",
              " 'because',\n",
              " 'cook',\n",
              " 'common',\n",
              " 'b',\n",
              " 'intestinal',\n",
              " '25',\n",
              " 'debilitating',\n",
              " 'lexapro',\n",
              " 'irritation',\n",
              " 'musculoskeletal',\n",
              " 'market',\n",
              " 'contusion',\n",
              " 'lead',\n",
              " 'creatine',\n",
              " 'while',\n",
              " 'infections',\n",
              " 'pledge',\n",
              " 'breasts',\n",
              " 'cataflam',\n",
              " 'cell',\n",
              " 'lipidil',\n",
              " 'starting',\n",
              " 'makes',\n",
              " 'flour',\n",
              " 'desire',\n",
              " 'sentence',\n",
              " 'hoarse',\n",
              " 'lose',\n",
              " 'during',\n",
              " 'reasons',\n",
              " 'morphine',\n",
              " 'sleeplessness',\n",
              " 'might',\n",
              " 'chills',\n",
              " 'fun',\n",
              " 'run',\n",
              " 'same',\n",
              " 'fatty',\n",
              " 'look',\n",
              " 'vague',\n",
              " 'wrong',\n",
              " 'tingly',\n",
              " 'wrists',\n",
              " 'slightly',\n",
              " 'affected',\n",
              " 'understand',\n",
              " 'slow',\n",
              " 'bizarre',\n",
              " 'limitation',\n",
              " 'times',\n",
              " 'difficulties',\n",
              " 'reaction',\n",
              " 'matters',\n",
              " 'rib',\n",
              " 'lumbar',\n",
              " 'provide',\n",
              " 'frozen',\n",
              " 'latest',\n",
              " 'research',\n",
              " 'neoplastic',\n",
              " 'unsteady',\n",
              " 'moderate',\n",
              " 'medical',\n",
              " 'movements',\n",
              " 'neoplasm',\n",
              " 'experience',\n",
              " 'tremors',\n",
              " 'girl',\n",
              " 'pravastatin',\n",
              " 'altered',\n",
              " 'touch',\n",
              " 'days',\n",
              " 'again',\n",
              " 'tenalgia',\n",
              " 'healthier',\n",
              " '6',\n",
              " 'meet',\n",
              " 'alzheimer',\n",
              " ...]"
            ]
          },
          "metadata": {
            "tags": []
          },
          "execution_count": 18
        }
      ]
    },
    {
      "cell_type": "code",
      "metadata": {
        "id": "yPWr03mls3VT",
        "outputId": "ec03ddd8-8c3d-44de-9671-f0eb187cf10f",
        "colab": {
          "base_uri": "https://localhost:8080/",
          "height": 17
        }
      },
      "source": [
        "model_path = path/'models'\n",
        "model_path.mkdir(exist_ok=True)\n",
        "url = 'http://files.fast.ai/models/wt103_v1/'\n",
        "download_url(f'{url}lstm_wt103.pth', model_path/'lstm_wt103.pth')\n",
        "download_url(f'{url}itos_wt103.pkl', model_path/'itos_wt103.pkl')"
      ],
      "execution_count": 19,
      "outputs": [
        {
          "output_type": "display_data",
          "data": {
            "text/html": [
              ""
            ],
            "text/plain": [
              "<IPython.core.display.HTML object>"
            ]
          },
          "metadata": {
            "tags": []
          }
        },
        {
          "output_type": "display_data",
          "data": {
            "text/html": [
              ""
            ],
            "text/plain": [
              "<IPython.core.display.HTML object>"
            ]
          },
          "metadata": {
            "tags": []
          }
        }
      ]
    },
    {
      "cell_type": "code",
      "metadata": {
        "id": "JRzvWg8RtGGr",
        "outputId": "98196635-8858-4ad5-d66c-a0c0fcf2e3ec",
        "colab": {
          "base_uri": "https://localhost:8080/",
          "height": 34
        }
      },
      "source": [
        "learn = language_model_learner(data_lm, AWD_LSTM, drop_mult=0.5)"
      ],
      "execution_count": 20,
      "outputs": [
        {
          "output_type": "stream",
          "text": [
            "Downloading https://s3.amazonaws.com/fast-ai-modelzoo/wt103-fwd.tgz\n"
          ],
          "name": "stdout"
        },
        {
          "output_type": "display_data",
          "data": {
            "text/html": [
              ""
            ],
            "text/plain": [
              "<IPython.core.display.HTML object>"
            ]
          },
          "metadata": {
            "tags": []
          }
        }
      ]
    },
    {
      "cell_type": "code",
      "metadata": {
        "id": "xKK7GeBev7Xn",
        "outputId": "8552f1b1-7864-424e-d38c-d3af2aba24c7",
        "colab": {
          "base_uri": "https://localhost:8080/",
          "height": 80
        }
      },
      "source": [
        "learn.fit_one_cycle(1, 1e-2)"
      ],
      "execution_count": 21,
      "outputs": [
        {
          "output_type": "display_data",
          "data": {
            "text/html": [
              "<table border=\"1\" class=\"dataframe\">\n",
              "  <thead>\n",
              "    <tr style=\"text-align: left;\">\n",
              "      <th>epoch</th>\n",
              "      <th>train_loss</th>\n",
              "      <th>valid_loss</th>\n",
              "      <th>accuracy</th>\n",
              "      <th>time</th>\n",
              "    </tr>\n",
              "  </thead>\n",
              "  <tbody>\n",
              "    <tr>\n",
              "      <td>0</td>\n",
              "      <td>3.260169</td>\n",
              "      <td>2.745744</td>\n",
              "      <td>0.551522</td>\n",
              "      <td>19:44</td>\n",
              "    </tr>\n",
              "  </tbody>\n",
              "</table>"
            ],
            "text/plain": [
              "<IPython.core.display.HTML object>"
            ]
          },
          "metadata": {
            "tags": []
          }
        }
      ]
    },
    {
      "cell_type": "code",
      "metadata": {
        "id": "iB7rHGQCwd12"
      },
      "source": [
        "# learn.fit_one_cycle(1, 1e-2)"
      ],
      "execution_count": 22,
      "outputs": []
    },
    {
      "cell_type": "code",
      "metadata": {
        "id": "_BnSuAeCwkBe"
      },
      "source": [
        "# learn.fit_one_cycle(1, 1e-3)"
      ],
      "execution_count": 23,
      "outputs": []
    },
    {
      "cell_type": "code",
      "metadata": {
        "id": "MuTm-RFjwrEX",
        "outputId": "71c1614c-167f-43eb-992a-82972d7bfe18",
        "colab": {
          "base_uri": "https://localhost:8080/",
          "height": 80
        }
      },
      "source": [
        "learn.fit_one_cycle(1, 1e-3)"
      ],
      "execution_count": 24,
      "outputs": [
        {
          "output_type": "display_data",
          "data": {
            "text/html": [
              "<table border=\"1\" class=\"dataframe\">\n",
              "  <thead>\n",
              "    <tr style=\"text-align: left;\">\n",
              "      <th>epoch</th>\n",
              "      <th>train_loss</th>\n",
              "      <th>valid_loss</th>\n",
              "      <th>accuracy</th>\n",
              "      <th>time</th>\n",
              "    </tr>\n",
              "  </thead>\n",
              "  <tbody>\n",
              "    <tr>\n",
              "      <td>0</td>\n",
              "      <td>2.830532</td>\n",
              "      <td>2.689368</td>\n",
              "      <td>0.556467</td>\n",
              "      <td>19:29</td>\n",
              "    </tr>\n",
              "  </tbody>\n",
              "</table>"
            ],
            "text/plain": [
              "<IPython.core.display.HTML object>"
            ]
          },
          "metadata": {
            "tags": []
          }
        }
      ]
    },
    {
      "cell_type": "code",
      "metadata": {
        "id": "1Er2ExO8wr7Y"
      },
      "source": [
        "learn.save_encoder('bigtweet_ask_fold1_first')"
      ],
      "execution_count": 25,
      "outputs": []
    },
    {
      "cell_type": "code",
      "metadata": {
        "id": "z52cZs2qwvad",
        "outputId": "a42ddab6-9a2d-4da0-8b0c-d7653a280503",
        "colab": {
          "base_uri": "https://localhost:8080/",
          "height": 80
        }
      },
      "source": [
        "learn = text_classifier_learner(data_clas,AWD_LSTM, drop_mult=0.5)\n",
        "learn.load_encoder('bigtweet_ask_fold1_first')\n",
        "learn.fit_one_cycle(1, 1e-2)"
      ],
      "execution_count": 26,
      "outputs": [
        {
          "output_type": "display_data",
          "data": {
            "text/html": [
              "<table border=\"1\" class=\"dataframe\">\n",
              "  <thead>\n",
              "    <tr style=\"text-align: left;\">\n",
              "      <th>epoch</th>\n",
              "      <th>train_loss</th>\n",
              "      <th>valid_loss</th>\n",
              "      <th>accuracy</th>\n",
              "      <th>time</th>\n",
              "    </tr>\n",
              "  </thead>\n",
              "  <tbody>\n",
              "    <tr>\n",
              "      <td>0</td>\n",
              "      <td>4.003775</td>\n",
              "      <td>3.903059</td>\n",
              "      <td>0.308717</td>\n",
              "      <td>01:13</td>\n",
              "    </tr>\n",
              "  </tbody>\n",
              "</table>"
            ],
            "text/plain": [
              "<IPython.core.display.HTML object>"
            ]
          },
          "metadata": {
            "tags": []
          }
        }
      ]
    },
    {
      "cell_type": "code",
      "metadata": {
        "id": "ImwQP1PJwzxd",
        "outputId": "ee5b9a99-a110-4a1a-8e80-4c2149b0513c",
        "colab": {
          "base_uri": "https://localhost:8080/",
          "height": 80
        }
      },
      "source": [
        "learn.freeze_to(-2)\n",
        "learn.fit_one_cycle(1, slice(5e-3/2., 5e-3))"
      ],
      "execution_count": 27,
      "outputs": [
        {
          "output_type": "display_data",
          "data": {
            "text/html": [
              "<table border=\"1\" class=\"dataframe\">\n",
              "  <thead>\n",
              "    <tr style=\"text-align: left;\">\n",
              "      <th>epoch</th>\n",
              "      <th>train_loss</th>\n",
              "      <th>valid_loss</th>\n",
              "      <th>accuracy</th>\n",
              "      <th>time</th>\n",
              "    </tr>\n",
              "  </thead>\n",
              "  <tbody>\n",
              "    <tr>\n",
              "      <td>0</td>\n",
              "      <td>3.045488</td>\n",
              "      <td>3.444247</td>\n",
              "      <td>0.404358</td>\n",
              "      <td>01:19</td>\n",
              "    </tr>\n",
              "  </tbody>\n",
              "</table>"
            ],
            "text/plain": [
              "<IPython.core.display.HTML object>"
            ]
          },
          "metadata": {
            "tags": []
          }
        }
      ]
    },
    {
      "cell_type": "code",
      "metadata": {
        "id": "Owff_BJXw53u",
        "outputId": "19417eb8-ac67-4821-cf1b-9f73dbf36a56",
        "colab": {
          "base_uri": "https://localhost:8080/",
          "height": 80
        }
      },
      "source": [
        "learn.unfreeze()\n",
        "learn.fit_one_cycle(1, slice(2e-3/100, 2e-3))"
      ],
      "execution_count": 28,
      "outputs": [
        {
          "output_type": "display_data",
          "data": {
            "text/html": [
              "<table border=\"1\" class=\"dataframe\">\n",
              "  <thead>\n",
              "    <tr style=\"text-align: left;\">\n",
              "      <th>epoch</th>\n",
              "      <th>train_loss</th>\n",
              "      <th>valid_loss</th>\n",
              "      <th>accuracy</th>\n",
              "      <th>time</th>\n",
              "    </tr>\n",
              "  </thead>\n",
              "  <tbody>\n",
              "    <tr>\n",
              "      <td>0</td>\n",
              "      <td>2.340477</td>\n",
              "      <td>2.950194</td>\n",
              "      <td>0.489104</td>\n",
              "      <td>03:09</td>\n",
              "    </tr>\n",
              "  </tbody>\n",
              "</table>"
            ],
            "text/plain": [
              "<IPython.core.display.HTML object>"
            ]
          },
          "metadata": {
            "tags": []
          }
        }
      ]
    },
    {
      "cell_type": "code",
      "metadata": {
        "id": "lqAyu56V8Waq",
        "outputId": "5e518289-0052-44ea-f375-e37814d5c6af",
        "colab": {
          "base_uri": "https://localhost:8080/",
          "height": 111
        }
      },
      "source": [
        "learn.fit_one_cycle(2, slice(2e-3/100, 2e-3))"
      ],
      "execution_count": 29,
      "outputs": [
        {
          "output_type": "display_data",
          "data": {
            "text/html": [
              "<table border=\"1\" class=\"dataframe\">\n",
              "  <thead>\n",
              "    <tr style=\"text-align: left;\">\n",
              "      <th>epoch</th>\n",
              "      <th>train_loss</th>\n",
              "      <th>valid_loss</th>\n",
              "      <th>accuracy</th>\n",
              "      <th>time</th>\n",
              "    </tr>\n",
              "  </thead>\n",
              "  <tbody>\n",
              "    <tr>\n",
              "      <td>0</td>\n",
              "      <td>2.122450</td>\n",
              "      <td>2.504506</td>\n",
              "      <td>0.549637</td>\n",
              "      <td>03:17</td>\n",
              "    </tr>\n",
              "    <tr>\n",
              "      <td>1</td>\n",
              "      <td>1.747537</td>\n",
              "      <td>2.374483</td>\n",
              "      <td>0.572639</td>\n",
              "      <td>03:10</td>\n",
              "    </tr>\n",
              "  </tbody>\n",
              "</table>"
            ],
            "text/plain": [
              "<IPython.core.display.HTML object>"
            ]
          },
          "metadata": {
            "tags": []
          }
        }
      ]
    },
    {
      "cell_type": "code",
      "metadata": {
        "id": "a7I1xMRp8bUd",
        "outputId": "a978a66e-3b22-48b1-8303-4e6c1821c717",
        "colab": {
          "base_uri": "https://localhost:8080/",
          "height": 111
        }
      },
      "source": [
        "learn.fit_one_cycle(2, slice(2e-3/100, 2e-3))"
      ],
      "execution_count": 30,
      "outputs": [
        {
          "output_type": "display_data",
          "data": {
            "text/html": [
              "<table border=\"1\" class=\"dataframe\">\n",
              "  <thead>\n",
              "    <tr style=\"text-align: left;\">\n",
              "      <th>epoch</th>\n",
              "      <th>train_loss</th>\n",
              "      <th>valid_loss</th>\n",
              "      <th>accuracy</th>\n",
              "      <th>time</th>\n",
              "    </tr>\n",
              "  </thead>\n",
              "  <tbody>\n",
              "    <tr>\n",
              "      <td>0</td>\n",
              "      <td>1.605090</td>\n",
              "      <td>2.170454</td>\n",
              "      <td>0.608959</td>\n",
              "      <td>03:14</td>\n",
              "    </tr>\n",
              "    <tr>\n",
              "      <td>1</td>\n",
              "      <td>1.326031</td>\n",
              "      <td>2.040789</td>\n",
              "      <td>0.642857</td>\n",
              "      <td>03:11</td>\n",
              "    </tr>\n",
              "  </tbody>\n",
              "</table>"
            ],
            "text/plain": [
              "<IPython.core.display.HTML object>"
            ]
          },
          "metadata": {
            "tags": []
          }
        }
      ]
    },
    {
      "cell_type": "code",
      "metadata": {
        "id": "UAnti-XmGVfO",
        "outputId": "091a8774-46c8-404d-8975-6d1b1820448a",
        "colab": {
          "base_uri": "https://localhost:8080/",
          "height": 111
        }
      },
      "source": [
        "learn.fit_one_cycle(2, slice(2e-3/100, 2e-3))"
      ],
      "execution_count": 31,
      "outputs": [
        {
          "output_type": "display_data",
          "data": {
            "text/html": [
              "<table border=\"1\" class=\"dataframe\">\n",
              "  <thead>\n",
              "    <tr style=\"text-align: left;\">\n",
              "      <th>epoch</th>\n",
              "      <th>train_loss</th>\n",
              "      <th>valid_loss</th>\n",
              "      <th>accuracy</th>\n",
              "      <th>time</th>\n",
              "    </tr>\n",
              "  </thead>\n",
              "  <tbody>\n",
              "    <tr>\n",
              "      <td>0</td>\n",
              "      <td>1.272589</td>\n",
              "      <td>1.921058</td>\n",
              "      <td>0.653753</td>\n",
              "      <td>03:20</td>\n",
              "    </tr>\n",
              "    <tr>\n",
              "      <td>1</td>\n",
              "      <td>1.065870</td>\n",
              "      <td>1.812117</td>\n",
              "      <td>0.674334</td>\n",
              "      <td>03:22</td>\n",
              "    </tr>\n",
              "  </tbody>\n",
              "</table>"
            ],
            "text/plain": [
              "<IPython.core.display.HTML object>"
            ]
          },
          "metadata": {
            "tags": []
          }
        }
      ]
    },
    {
      "cell_type": "code",
      "metadata": {
        "id": "bIft7W25GwSu",
        "outputId": "3638ba76-4918-41c4-ca57-66e03870e8ce",
        "colab": {
          "base_uri": "https://localhost:8080/",
          "height": 111
        }
      },
      "source": [
        "learn.fit_one_cycle(2, slice(2e-3/100, 2e-3))"
      ],
      "execution_count": 32,
      "outputs": [
        {
          "output_type": "display_data",
          "data": {
            "text/html": [
              "<table border=\"1\" class=\"dataframe\">\n",
              "  <thead>\n",
              "    <tr style=\"text-align: left;\">\n",
              "      <th>epoch</th>\n",
              "      <th>train_loss</th>\n",
              "      <th>valid_loss</th>\n",
              "      <th>accuracy</th>\n",
              "      <th>time</th>\n",
              "    </tr>\n",
              "  </thead>\n",
              "  <tbody>\n",
              "    <tr>\n",
              "      <td>0</td>\n",
              "      <td>1.010889</td>\n",
              "      <td>1.775593</td>\n",
              "      <td>0.680387</td>\n",
              "      <td>03:22</td>\n",
              "    </tr>\n",
              "    <tr>\n",
              "      <td>1</td>\n",
              "      <td>0.917895</td>\n",
              "      <td>1.697890</td>\n",
              "      <td>0.696126</td>\n",
              "      <td>03:19</td>\n",
              "    </tr>\n",
              "  </tbody>\n",
              "</table>"
            ],
            "text/plain": [
              "<IPython.core.display.HTML object>"
            ]
          },
          "metadata": {
            "tags": []
          }
        }
      ]
    },
    {
      "cell_type": "code",
      "metadata": {
        "id": "EEHszVRvGyFt",
        "outputId": "5608aad4-0c37-4f62-991e-711f010d3795",
        "colab": {
          "base_uri": "https://localhost:8080/",
          "height": 111
        }
      },
      "source": [
        "learn.fit_one_cycle(2, slice(2e-3/100, 2e-3))"
      ],
      "execution_count": 33,
      "outputs": [
        {
          "output_type": "display_data",
          "data": {
            "text/html": [
              "<table border=\"1\" class=\"dataframe\">\n",
              "  <thead>\n",
              "    <tr style=\"text-align: left;\">\n",
              "      <th>epoch</th>\n",
              "      <th>train_loss</th>\n",
              "      <th>valid_loss</th>\n",
              "      <th>accuracy</th>\n",
              "      <th>time</th>\n",
              "    </tr>\n",
              "  </thead>\n",
              "  <tbody>\n",
              "    <tr>\n",
              "      <td>0</td>\n",
              "      <td>0.819476</td>\n",
              "      <td>1.681504</td>\n",
              "      <td>0.702179</td>\n",
              "      <td>03:11</td>\n",
              "    </tr>\n",
              "    <tr>\n",
              "      <td>1</td>\n",
              "      <td>0.770695</td>\n",
              "      <td>1.646110</td>\n",
              "      <td>0.713075</td>\n",
              "      <td>03:13</td>\n",
              "    </tr>\n",
              "  </tbody>\n",
              "</table>"
            ],
            "text/plain": [
              "<IPython.core.display.HTML object>"
            ]
          },
          "metadata": {
            "tags": []
          }
        }
      ]
    },
    {
      "cell_type": "code",
      "metadata": {
        "id": "XsHfrhCHG3dN",
        "outputId": "106cef9f-4725-4289-b096-d2d20444ffc1",
        "colab": {
          "base_uri": "https://localhost:8080/",
          "height": 173
        }
      },
      "source": [
        "learn.fit_one_cycle(4, slice(2e-3/100, 2e-3))"
      ],
      "execution_count": 34,
      "outputs": [
        {
          "output_type": "display_data",
          "data": {
            "text/html": [
              "<table border=\"1\" class=\"dataframe\">\n",
              "  <thead>\n",
              "    <tr style=\"text-align: left;\">\n",
              "      <th>epoch</th>\n",
              "      <th>train_loss</th>\n",
              "      <th>valid_loss</th>\n",
              "      <th>accuracy</th>\n",
              "      <th>time</th>\n",
              "    </tr>\n",
              "  </thead>\n",
              "  <tbody>\n",
              "    <tr>\n",
              "      <td>0</td>\n",
              "      <td>0.707764</td>\n",
              "      <td>1.602311</td>\n",
              "      <td>0.707022</td>\n",
              "      <td>03:11</td>\n",
              "    </tr>\n",
              "    <tr>\n",
              "      <td>1</td>\n",
              "      <td>0.726950</td>\n",
              "      <td>1.501249</td>\n",
              "      <td>0.728814</td>\n",
              "      <td>03:18</td>\n",
              "    </tr>\n",
              "    <tr>\n",
              "      <td>2</td>\n",
              "      <td>0.587705</td>\n",
              "      <td>1.442601</td>\n",
              "      <td>0.742131</td>\n",
              "      <td>03:07</td>\n",
              "    </tr>\n",
              "    <tr>\n",
              "      <td>3</td>\n",
              "      <td>0.518737</td>\n",
              "      <td>1.476134</td>\n",
              "      <td>0.745763</td>\n",
              "      <td>03:08</td>\n",
              "    </tr>\n",
              "  </tbody>\n",
              "</table>"
            ],
            "text/plain": [
              "<IPython.core.display.HTML object>"
            ]
          },
          "metadata": {
            "tags": []
          }
        }
      ]
    },
    {
      "cell_type": "code",
      "metadata": {
        "id": "0Zsd99isb9EQ",
        "outputId": "db56c286-5027-46da-f882-1fe2310c8242",
        "colab": {
          "base_uri": "https://localhost:8080/",
          "height": 173
        }
      },
      "source": [
        "learn.fit_one_cycle(4, slice(2e-3/100, 2e-3))"
      ],
      "execution_count": 35,
      "outputs": [
        {
          "output_type": "display_data",
          "data": {
            "text/html": [
              "<table border=\"1\" class=\"dataframe\">\n",
              "  <thead>\n",
              "    <tr style=\"text-align: left;\">\n",
              "      <th>epoch</th>\n",
              "      <th>train_loss</th>\n",
              "      <th>valid_loss</th>\n",
              "      <th>accuracy</th>\n",
              "      <th>time</th>\n",
              "    </tr>\n",
              "  </thead>\n",
              "  <tbody>\n",
              "    <tr>\n",
              "      <td>0</td>\n",
              "      <td>0.535564</td>\n",
              "      <td>1.448855</td>\n",
              "      <td>0.744552</td>\n",
              "      <td>03:08</td>\n",
              "    </tr>\n",
              "    <tr>\n",
              "      <td>1</td>\n",
              "      <td>0.574103</td>\n",
              "      <td>1.417557</td>\n",
              "      <td>0.756659</td>\n",
              "      <td>03:16</td>\n",
              "    </tr>\n",
              "    <tr>\n",
              "      <td>2</td>\n",
              "      <td>0.473652</td>\n",
              "      <td>1.408117</td>\n",
              "      <td>0.766344</td>\n",
              "      <td>03:23</td>\n",
              "    </tr>\n",
              "    <tr>\n",
              "      <td>3</td>\n",
              "      <td>0.395997</td>\n",
              "      <td>1.375298</td>\n",
              "      <td>0.762712</td>\n",
              "      <td>03:14</td>\n",
              "    </tr>\n",
              "  </tbody>\n",
              "</table>"
            ],
            "text/plain": [
              "<IPython.core.display.HTML object>"
            ]
          },
          "metadata": {
            "tags": []
          }
        }
      ]
    },
    {
      "cell_type": "code",
      "metadata": {
        "id": "atNWNKDFPbuI",
        "outputId": "7089b8de-7094-4699-d4ec-b366f9010794",
        "colab": {
          "base_uri": "https://localhost:8080/",
          "height": 173
        }
      },
      "source": [
        "learn.fit_one_cycle(4, slice(2e-3/100, 2e-3))"
      ],
      "execution_count": 36,
      "outputs": [
        {
          "output_type": "display_data",
          "data": {
            "text/html": [
              "<table border=\"1\" class=\"dataframe\">\n",
              "  <thead>\n",
              "    <tr style=\"text-align: left;\">\n",
              "      <th>epoch</th>\n",
              "      <th>train_loss</th>\n",
              "      <th>valid_loss</th>\n",
              "      <th>accuracy</th>\n",
              "      <th>time</th>\n",
              "    </tr>\n",
              "  </thead>\n",
              "  <tbody>\n",
              "    <tr>\n",
              "      <td>0</td>\n",
              "      <td>0.428625</td>\n",
              "      <td>1.408396</td>\n",
              "      <td>0.765133</td>\n",
              "      <td>03:27</td>\n",
              "    </tr>\n",
              "    <tr>\n",
              "      <td>1</td>\n",
              "      <td>0.458197</td>\n",
              "      <td>1.406017</td>\n",
              "      <td>0.761501</td>\n",
              "      <td>03:16</td>\n",
              "    </tr>\n",
              "    <tr>\n",
              "      <td>2</td>\n",
              "      <td>0.357366</td>\n",
              "      <td>1.396606</td>\n",
              "      <td>0.782082</td>\n",
              "      <td>03:23</td>\n",
              "    </tr>\n",
              "    <tr>\n",
              "      <td>3</td>\n",
              "      <td>0.297267</td>\n",
              "      <td>1.382141</td>\n",
              "      <td>0.778450</td>\n",
              "      <td>03:09</td>\n",
              "    </tr>\n",
              "  </tbody>\n",
              "</table>"
            ],
            "text/plain": [
              "<IPython.core.display.HTML object>"
            ]
          },
          "metadata": {
            "tags": []
          }
        }
      ]
    },
    {
      "cell_type": "code",
      "metadata": {
        "id": "rKrBTZ0T1uVA",
        "outputId": "1a6c5e70-8d7b-49f3-b974-f4d258fc39ba",
        "colab": {
          "base_uri": "https://localhost:8080/",
          "height": 173
        }
      },
      "source": [
        "learn.fit_one_cycle(4, slice(2e-3/100, 2e-3))"
      ],
      "execution_count": 37,
      "outputs": [
        {
          "output_type": "display_data",
          "data": {
            "text/html": [
              "<table border=\"1\" class=\"dataframe\">\n",
              "  <thead>\n",
              "    <tr style=\"text-align: left;\">\n",
              "      <th>epoch</th>\n",
              "      <th>train_loss</th>\n",
              "      <th>valid_loss</th>\n",
              "      <th>accuracy</th>\n",
              "      <th>time</th>\n",
              "    </tr>\n",
              "  </thead>\n",
              "  <tbody>\n",
              "    <tr>\n",
              "      <td>0</td>\n",
              "      <td>0.343288</td>\n",
              "      <td>1.439842</td>\n",
              "      <td>0.778450</td>\n",
              "      <td>03:13</td>\n",
              "    </tr>\n",
              "    <tr>\n",
              "      <td>1</td>\n",
              "      <td>0.343152</td>\n",
              "      <td>1.423737</td>\n",
              "      <td>0.772397</td>\n",
              "      <td>03:13</td>\n",
              "    </tr>\n",
              "    <tr>\n",
              "      <td>2</td>\n",
              "      <td>0.326772</td>\n",
              "      <td>1.382838</td>\n",
              "      <td>0.779661</td>\n",
              "      <td>03:25</td>\n",
              "    </tr>\n",
              "    <tr>\n",
              "      <td>3</td>\n",
              "      <td>0.262588</td>\n",
              "      <td>1.387520</td>\n",
              "      <td>0.782082</td>\n",
              "      <td>03:12</td>\n",
              "    </tr>\n",
              "  </tbody>\n",
              "</table>"
            ],
            "text/plain": [
              "<IPython.core.display.HTML object>"
            ]
          },
          "metadata": {
            "tags": []
          }
        }
      ]
    },
    {
      "cell_type": "code",
      "metadata": {
        "id": "ajQC6WDg1yA9",
        "outputId": "087952e9-3537-47c8-e3fe-4eefc197693a",
        "colab": {
          "base_uri": "https://localhost:8080/",
          "height": 173
        }
      },
      "source": [
        "learn.fit_one_cycle(4, slice(2e-3/100, 2e-3))"
      ],
      "execution_count": 38,
      "outputs": [
        {
          "output_type": "display_data",
          "data": {
            "text/html": [
              "<table border=\"1\" class=\"dataframe\">\n",
              "  <thead>\n",
              "    <tr style=\"text-align: left;\">\n",
              "      <th>epoch</th>\n",
              "      <th>train_loss</th>\n",
              "      <th>valid_loss</th>\n",
              "      <th>accuracy</th>\n",
              "      <th>time</th>\n",
              "    </tr>\n",
              "  </thead>\n",
              "  <tbody>\n",
              "    <tr>\n",
              "      <td>0</td>\n",
              "      <td>0.251706</td>\n",
              "      <td>1.449723</td>\n",
              "      <td>0.785714</td>\n",
              "      <td>03:06</td>\n",
              "    </tr>\n",
              "    <tr>\n",
              "      <td>1</td>\n",
              "      <td>0.315996</td>\n",
              "      <td>1.384718</td>\n",
              "      <td>0.778450</td>\n",
              "      <td>03:17</td>\n",
              "    </tr>\n",
              "    <tr>\n",
              "      <td>2</td>\n",
              "      <td>0.265966</td>\n",
              "      <td>1.421042</td>\n",
              "      <td>0.778450</td>\n",
              "      <td>03:12</td>\n",
              "    </tr>\n",
              "    <tr>\n",
              "      <td>3</td>\n",
              "      <td>0.233590</td>\n",
              "      <td>1.421797</td>\n",
              "      <td>0.782082</td>\n",
              "      <td>03:22</td>\n",
              "    </tr>\n",
              "  </tbody>\n",
              "</table>"
            ],
            "text/plain": [
              "<IPython.core.display.HTML object>"
            ]
          },
          "metadata": {
            "tags": []
          }
        }
      ]
    },
    {
      "cell_type": "code",
      "metadata": {
        "id": "KKydb0B4BKGk",
        "outputId": "76733f7c-e92b-4f4f-cd4b-49fd854388b5",
        "colab": {
          "base_uri": "https://localhost:8080/",
          "height": 173
        }
      },
      "source": [
        "learn.fit_one_cycle(4, slice(2e-3/100, 2e-3))"
      ],
      "execution_count": 39,
      "outputs": [
        {
          "output_type": "display_data",
          "data": {
            "text/html": [
              "<table border=\"1\" class=\"dataframe\">\n",
              "  <thead>\n",
              "    <tr style=\"text-align: left;\">\n",
              "      <th>epoch</th>\n",
              "      <th>train_loss</th>\n",
              "      <th>valid_loss</th>\n",
              "      <th>accuracy</th>\n",
              "      <th>time</th>\n",
              "    </tr>\n",
              "  </thead>\n",
              "  <tbody>\n",
              "    <tr>\n",
              "      <td>0</td>\n",
              "      <td>0.256988</td>\n",
              "      <td>1.463163</td>\n",
              "      <td>0.789346</td>\n",
              "      <td>03:22</td>\n",
              "    </tr>\n",
              "    <tr>\n",
              "      <td>1</td>\n",
              "      <td>0.295387</td>\n",
              "      <td>1.487765</td>\n",
              "      <td>0.788136</td>\n",
              "      <td>03:23</td>\n",
              "    </tr>\n",
              "    <tr>\n",
              "      <td>2</td>\n",
              "      <td>0.245625</td>\n",
              "      <td>1.438133</td>\n",
              "      <td>0.796610</td>\n",
              "      <td>03:17</td>\n",
              "    </tr>\n",
              "    <tr>\n",
              "      <td>3</td>\n",
              "      <td>0.209883</td>\n",
              "      <td>1.400057</td>\n",
              "      <td>0.796610</td>\n",
              "      <td>03:06</td>\n",
              "    </tr>\n",
              "  </tbody>\n",
              "</table>"
            ],
            "text/plain": [
              "<IPython.core.display.HTML object>"
            ]
          },
          "metadata": {
            "tags": []
          }
        }
      ]
    },
    {
      "cell_type": "code",
      "metadata": {
        "id": "T2APKtFKBpGY",
        "outputId": "7ad3fb01-6594-4923-d743-742c2b0ee4a8",
        "colab": {
          "base_uri": "https://localhost:8080/",
          "height": 173
        }
      },
      "source": [
        "learn.fit_one_cycle(4, slice(2e-3/100, 2e-3))"
      ],
      "execution_count": 40,
      "outputs": [
        {
          "output_type": "display_data",
          "data": {
            "text/html": [
              "<table border=\"1\" class=\"dataframe\">\n",
              "  <thead>\n",
              "    <tr style=\"text-align: left;\">\n",
              "      <th>epoch</th>\n",
              "      <th>train_loss</th>\n",
              "      <th>valid_loss</th>\n",
              "      <th>accuracy</th>\n",
              "      <th>time</th>\n",
              "    </tr>\n",
              "  </thead>\n",
              "  <tbody>\n",
              "    <tr>\n",
              "      <td>0</td>\n",
              "      <td>0.215490</td>\n",
              "      <td>1.475287</td>\n",
              "      <td>0.786925</td>\n",
              "      <td>03:17</td>\n",
              "    </tr>\n",
              "    <tr>\n",
              "      <td>1</td>\n",
              "      <td>0.252221</td>\n",
              "      <td>1.522038</td>\n",
              "      <td>0.784504</td>\n",
              "      <td>03:15</td>\n",
              "    </tr>\n",
              "    <tr>\n",
              "      <td>2</td>\n",
              "      <td>0.227043</td>\n",
              "      <td>1.370763</td>\n",
              "      <td>0.795399</td>\n",
              "      <td>03:07</td>\n",
              "    </tr>\n",
              "    <tr>\n",
              "      <td>3</td>\n",
              "      <td>0.190475</td>\n",
              "      <td>1.411392</td>\n",
              "      <td>0.796610</td>\n",
              "      <td>03:08</td>\n",
              "    </tr>\n",
              "  </tbody>\n",
              "</table>"
            ],
            "text/plain": [
              "<IPython.core.display.HTML object>"
            ]
          },
          "metadata": {
            "tags": []
          }
        }
      ]
    },
    {
      "cell_type": "code",
      "metadata": {
        "id": "qtTypA1sPgLU",
        "outputId": "90042612-d965-4b3a-b0eb-ace868cd42c0",
        "colab": {
          "base_uri": "https://localhost:8080/",
          "height": 111
        }
      },
      "source": [
        "learn.fit_one_cycle(2, slice(2e-3/100, 2e-3))"
      ],
      "execution_count": 41,
      "outputs": [
        {
          "output_type": "display_data",
          "data": {
            "text/html": [
              "<table border=\"1\" class=\"dataframe\">\n",
              "  <thead>\n",
              "    <tr style=\"text-align: left;\">\n",
              "      <th>epoch</th>\n",
              "      <th>train_loss</th>\n",
              "      <th>valid_loss</th>\n",
              "      <th>accuracy</th>\n",
              "      <th>time</th>\n",
              "    </tr>\n",
              "  </thead>\n",
              "  <tbody>\n",
              "    <tr>\n",
              "      <td>0</td>\n",
              "      <td>0.211460</td>\n",
              "      <td>1.500962</td>\n",
              "      <td>0.801453</td>\n",
              "      <td>03:17</td>\n",
              "    </tr>\n",
              "    <tr>\n",
              "      <td>1</td>\n",
              "      <td>0.195409</td>\n",
              "      <td>1.448550</td>\n",
              "      <td>0.792978</td>\n",
              "      <td>03:13</td>\n",
              "    </tr>\n",
              "  </tbody>\n",
              "</table>"
            ],
            "text/plain": [
              "<IPython.core.display.HTML object>"
            ]
          },
          "metadata": {
            "tags": []
          }
        }
      ]
    },
    {
      "cell_type": "code",
      "metadata": {
        "id": "b242kBsTUp9Y",
        "outputId": "abc4a588-2a88-4bde-86bd-c41a2d088acd",
        "colab": {
          "base_uri": "https://localhost:8080/",
          "height": 111
        }
      },
      "source": [
        "learn.fit_one_cycle(2, slice(2e-3/100, 2e-3))"
      ],
      "execution_count": 42,
      "outputs": [
        {
          "output_type": "display_data",
          "data": {
            "text/html": [
              "<table border=\"1\" class=\"dataframe\">\n",
              "  <thead>\n",
              "    <tr style=\"text-align: left;\">\n",
              "      <th>epoch</th>\n",
              "      <th>train_loss</th>\n",
              "      <th>valid_loss</th>\n",
              "      <th>accuracy</th>\n",
              "      <th>time</th>\n",
              "    </tr>\n",
              "  </thead>\n",
              "  <tbody>\n",
              "    <tr>\n",
              "      <td>0</td>\n",
              "      <td>0.213163</td>\n",
              "      <td>1.543315</td>\n",
              "      <td>0.782082</td>\n",
              "      <td>03:20</td>\n",
              "    </tr>\n",
              "    <tr>\n",
              "      <td>1</td>\n",
              "      <td>0.196781</td>\n",
              "      <td>1.485146</td>\n",
              "      <td>0.785714</td>\n",
              "      <td>03:16</td>\n",
              "    </tr>\n",
              "  </tbody>\n",
              "</table>"
            ],
            "text/plain": [
              "<IPython.core.display.HTML object>"
            ]
          },
          "metadata": {
            "tags": []
          }
        }
      ]
    },
    {
      "cell_type": "code",
      "metadata": {
        "id": "Duwf1Ih5VeDZ",
        "outputId": "c35ef5fc-9436-4f86-944b-7c98b72546bf",
        "colab": {
          "base_uri": "https://localhost:8080/",
          "height": 80
        }
      },
      "source": [
        "learn.fit_one_cycle(1, slice(2e-3/100, 2e-3))"
      ],
      "execution_count": 43,
      "outputs": [
        {
          "output_type": "display_data",
          "data": {
            "text/html": [
              "<table border=\"1\" class=\"dataframe\">\n",
              "  <thead>\n",
              "    <tr style=\"text-align: left;\">\n",
              "      <th>epoch</th>\n",
              "      <th>train_loss</th>\n",
              "      <th>valid_loss</th>\n",
              "      <th>accuracy</th>\n",
              "      <th>time</th>\n",
              "    </tr>\n",
              "  </thead>\n",
              "  <tbody>\n",
              "    <tr>\n",
              "      <td>0</td>\n",
              "      <td>0.207855</td>\n",
              "      <td>1.519409</td>\n",
              "      <td>0.783293</td>\n",
              "      <td>03:11</td>\n",
              "    </tr>\n",
              "  </tbody>\n",
              "</table>"
            ],
            "text/plain": [
              "<IPython.core.display.HTML object>"
            ]
          },
          "metadata": {
            "tags": []
          }
        }
      ]
    },
    {
      "cell_type": "code",
      "metadata": {
        "id": "c65d-osfDUXm"
      },
      "source": [
        "# save the best model\n",
        "\n",
        "learn.save_encoder('bigtweet_ask_mixed_fold1')"
      ],
      "execution_count": 44,
      "outputs": []
    },
    {
      "cell_type": "markdown",
      "metadata": {
        "id": "rCwZU0E2RgM6"
      },
      "source": [
        "# Part three: Predict on the test dataset"
      ]
    },
    {
      "cell_type": "code",
      "metadata": {
        "id": "gDm72c-dOu7d",
        "outputId": "d6754909-7caa-4dcf-c138-d6d3e35d4b49",
        "colab": {
          "base_uri": "https://localhost:8080/",
          "height": 17
        }
      },
      "source": [
        "# use the test data for prediction\n",
        "\n",
        "preds, y = learn.get_preds(DatasetType.Test)"
      ],
      "execution_count": 45,
      "outputs": [
        {
          "output_type": "display_data",
          "data": {
            "text/html": [
              ""
            ],
            "text/plain": [
              "<IPython.core.display.HTML object>"
            ]
          },
          "metadata": {
            "tags": []
          }
        }
      ]
    },
    {
      "cell_type": "code",
      "metadata": {
        "id": "6tFSQcsWPvxn",
        "outputId": "7730f6fa-8f26-4184-f0cd-64b2a08aed7b",
        "colab": {
          "base_uri": "https://localhost:8080/",
          "height": 105
        }
      },
      "source": [
        "predictions, *_ = learn.get_preds(DatasetType.Test)\n",
        "labels = np.argmax(predictions, 1)\n",
        "predict_list = labels.tolist()\n",
        "standard_list = test[0].tolist()\n",
        "\n",
        "print(len(predict_list))\n",
        "print(len(standard_list))\n",
        "\n",
        "print(predict_list)\n",
        "print(standard_list)"
      ],
      "execution_count": 46,
      "outputs": [
        {
          "output_type": "display_data",
          "data": {
            "text/html": [
              ""
            ],
            "text/plain": [
              "<IPython.core.display.HTML object>"
            ]
          },
          "metadata": {
            "tags": []
          }
        },
        {
          "output_type": "stream",
          "text": [
            "867\n",
            "867\n",
            "[2, 2, 8, 1026, 8, 8, 832, 16, 20, 21, 951, 246, 27, 31, 36, 37, 37, 37, 37, 37, 37, 37, 37, 37, 37, 37, 42, 42, 44, 93, 325, 49, 325, 49, 49, 49, 49, 151, 53, 53, 53, 226, 60, 61, 62, 690, 70, 776, 71, 122, 79, 79, 79, 79, 79, 79, 79, 79, 79, 79, 79, 79, 79, 79, 79, 79, 79, 79, 79, 79, 79, 79, 79, 79, 79, 79, 79, 79, 79, 79, 79, 79, 79, 79, 79, 79, 289, 80, 274, 80, 80, 80, 80, 491, 109, 88, 89, 832, 92, 92, 92, 94, 94, 94, 94, 94, 736, 94, 94, 94, 94, 96, 96, 97, 234, 29, 100, 338, 338, 766, 100, 100, 572, 337, 337, 100, 937, 103, 695, 105, 107, 107, 108, 108, 111, 111, 462, 111, 111, 111, 111, 111, 37, 111, 114, 117, 518, 125, 125, 125, 125, 125, 125, 125, 125, 125, 125, 125, 125, 125, 125, 802, 293, 175, 55, 914, 135, 453, 139, 139, 761, 142, 82, 864, 146, 158, 166, 166, 166, 169, 171, 172, 172, 419, 172, 172, 173, 173, 173, 106, 180, 182, 182, 49, 182, 182, 182, 182, 182, 182, 182, 182, 183, 183, 183, 183, 183, 183, 183, 240, 187, 187, 187, 187, 189, 189, 190, 190, 190, 193, 193, 197, 713, 616, 202, 205, 205, 205, 30, 214, 214, 214, 214, 214, 214, 214, 214, 218, 207, 220, 223, 223, 226, 227, 228, 228, 228, 228, 463, 228, 228, 228, 228, 228, 228, 228, 228, 234, 236, 236, 239, 239, 241, 951, 243, 243, 243, 245, 245, 770, 245, 245, 246, 246, 217, 246, 111, 262, 254, 289, 262, 264, 265, 265, 265, 265, 265, 265, 265, 265, 265, 265, 265, 265, 265, 265, 265, 265, 265, 265, 265, 265, 265, 79, 137, 125, 8, 276, 999, 165, 99, 280, 462, 281, 281, 281, 289, 289, 289, 289, 2, 289, 741, 208, 111, 289, 289, 289, 289, 289, 289, 289, 289, 289, 289, 864, 143, 293, 801, 985, 298, 216, 499, 69, 309, 309, 309, 309, 133, 575, 318, 318, 318, 331, 325, 325, 325, 325, 325, 325, 325, 325, 325, 325, 325, 325, 325, 325, 325, 971, 218, 325, 326, 328, 133, 332, 332, 332, 336, 337, 343, 343, 352, 265, 761, 246, 359, 359, 359, 0, 359, 473, 364, 363, 364, 364, 364, 364, 367, 374, 100, 434, 426, 386, 386, 391, 391, 391, 394, 396, 396, 397, 400, 402, 402, 122, 750, 968, 556, 408, 408, 556, 408, 410, 801, 210, 418, 419, 419, 419, 419, 419, 419, 149, 419, 419, 421, 424, 426, 426, 426, 199, 427, 427, 427, 427, 427, 427, 427, 318, 615, 443, 26, 627, 445, 599, 435, 435, 438, 258, 441, 443, 391, 334, 939, 448, 455, 455, 455, 455, 455, 455, 455, 455, 455, 455, 455, 455, 455, 240, 456, 460, 469, 470, 470, 473, 853, 475, 475, 475, 479, 545, 486, 489, 491, 491, 29, 491, 491, 676, 492, 597, 495, 495, 496, 497, 499, 507, 507, 41, 295, 517, 517, 517, 517, 484, 37, 190, 524, 530, 530, 530, 530, 530, 27, 27, 537, 359, 999, 541, 49, 545, 545, 545, 951, 548, 548, 548, 549, 518, 569, 572, 577, 88, 590, 590, 853, 592, 592, 592, 707, 597, 683, 610, 565, 610, 610, 610, 852, 614, 614, 614, 614, 614, 614, 614, 623, 623, 214, 625, 985, 274, 644, 644, 644, 646, 646, 652, 652, 652, 652, 651, 491, 108, 662, 662, 662, 662, 378, 664, 666, 205, 96, 682, 182, 182, 794, 700, 701, 703, 704, 693, 711, 711, 711, 712, 93, 714, 714, 715, 717, 326, 735, 766, 741, 745, 541, 746, 257, 746, 752, 753, 645, 769, 769, 769, 127, 722, 775, 297, 572, 775, 775, 775, 775, 783, 787, 582, 627, 799, 753, 806, 808, 809, 592, 810, 850, 169, 826, 628, 826, 291, 830, 830, 830, 628, 830, 834, 646, 840, 348, 847, 847, 282, 628, 853, 857, 726, 363, 747, 404, 864, 468, 514, 647, 646, 877, 877, 877, 268, 443, 391, 505, 889, 366, 366, 895, 896, 896, 896, 579, 896, 896, 337, 904, 904, 910, 919, 919, 923, 125, 927, 928, 930, 949, 933, 936, 936, 937, 937, 937, 937, 937, 937, 937, 937, 937, 937, 628, 948, 948, 949, 949, 949, 949, 949, 949, 949, 949, 949, 949, 949, 949, 949, 949, 949, 949, 949, 949, 949, 949, 949, 949, 949, 949, 949, 949, 949, 949, 949, 949, 949, 949, 949, 949, 949, 949, 949, 949, 949, 949, 949, 949, 949, 949, 949, 949, 949, 949, 949, 949, 949, 949, 949, 949, 949, 949, 949, 949, 949, 949, 949, 949, 949, 949, 949, 949, 949, 949, 949, 949, 949, 949, 949, 949, 949, 949, 949, 949, 949, 949, 949, 949, 949, 949, 949, 949, 314, 949, 949, 949, 949, 949, 949, 949, 949, 949, 949, 949, 949, 949, 949, 949, 949, 949, 949, 949, 949, 949, 949, 949, 949, 949, 949, 949, 949, 950, 950, 950, 950, 952, 952, 955, 951, 957, 958, 961, 978, 964, 967, 968, 974, 974, 976, 976, 976, 951, 951, 983, 983, 984, 994, 1006, 1008, 348, 1026, 1028]\n",
            "[2, 2, 8, 8, 8, 8, 8, 16, 20, 21, 22, 25, 27, 31, 36, 37, 37, 37, 37, 37, 37, 37, 37, 37, 37, 37, 42, 42, 44, 45, 49, 49, 49, 49, 49, 49, 49, 49, 53, 53, 53, 59, 60, 61, 62, 65, 70, 71, 71, 77, 79, 79, 79, 79, 79, 79, 79, 79, 79, 79, 79, 79, 79, 79, 79, 79, 79, 79, 79, 79, 79, 79, 79, 79, 79, 79, 79, 79, 79, 79, 79, 79, 79, 79, 79, 79, 79, 80, 80, 80, 80, 80, 80, 81, 83, 88, 89, 90, 92, 92, 92, 94, 94, 94, 94, 94, 94, 94, 94, 94, 94, 96, 96, 97, 98, 100, 100, 100, 100, 100, 100, 100, 100, 100, 100, 100, 100, 103, 103, 105, 107, 107, 108, 108, 111, 111, 111, 111, 111, 111, 111, 111, 111, 111, 114, 117, 120, 125, 125, 125, 125, 125, 125, 125, 125, 125, 125, 125, 125, 125, 125, 127, 130, 130, 134, 135, 135, 135, 139, 139, 141, 142, 145, 146, 146, 158, 166, 166, 166, 169, 171, 172, 172, 172, 172, 172, 173, 173, 173, 180, 180, 182, 182, 182, 182, 182, 182, 182, 182, 182, 182, 182, 183, 183, 183, 183, 183, 183, 183, 184, 187, 187, 187, 187, 189, 189, 190, 190, 190, 193, 193, 197, 197, 200, 202, 205, 205, 205, 209, 214, 214, 214, 214, 214, 214, 214, 214, 218, 220, 220, 223, 223, 226, 227, 228, 228, 228, 228, 228, 228, 228, 228, 228, 228, 228, 228, 228, 234, 236, 236, 239, 239, 241, 243, 243, 243, 243, 245, 245, 245, 245, 245, 246, 246, 246, 246, 247, 251, 254, 260, 262, 264, 265, 265, 265, 265, 265, 265, 265, 265, 265, 265, 265, 265, 265, 265, 265, 265, 265, 265, 265, 265, 265, 265, 268, 269, 269, 276, 277, 277, 279, 280, 281, 281, 281, 281, 289, 289, 289, 289, 289, 289, 289, 289, 289, 289, 289, 289, 289, 289, 289, 289, 289, 289, 289, 289, 290, 293, 294, 298, 298, 299, 302, 304, 309, 309, 309, 309, 315, 317, 318, 318, 318, 324, 325, 325, 325, 325, 325, 325, 325, 325, 325, 325, 325, 325, 325, 325, 325, 325, 325, 325, 326, 328, 330, 332, 332, 332, 336, 337, 343, 343, 352, 352, 355, 357, 359, 359, 359, 359, 359, 360, 360, 363, 364, 364, 364, 364, 367, 374, 374, 376, 384, 386, 386, 391, 391, 391, 394, 396, 396, 397, 400, 402, 402, 402, 403, 407, 408, 408, 408, 408, 408, 410, 415, 415, 418, 419, 419, 419, 419, 419, 419, 419, 419, 419, 421, 424, 426, 426, 426, 427, 427, 427, 427, 427, 427, 427, 427, 427, 427, 427, 427, 428, 428, 432, 435, 435, 438, 440, 441, 443, 444, 444, 444, 448, 455, 455, 455, 455, 455, 455, 455, 455, 455, 455, 455, 455, 455, 455, 456, 460, 469, 470, 470, 473, 474, 475, 475, 475, 479, 481, 486, 489, 491, 491, 491, 491, 491, 491, 492, 495, 495, 495, 496, 497, 499, 507, 507, 515, 516, 517, 517, 517, 517, 520, 522, 524, 524, 530, 530, 530, 530, 530, 536, 536, 537, 538, 540, 541, 544, 545, 545, 545, 548, 548, 548, 548, 549, 550, 569, 572, 577, 577, 590, 590, 592, 592, 592, 592, 595, 597, 598, 610, 610, 610, 610, 610, 613, 614, 614, 614, 614, 614, 614, 614, 623, 623, 624, 625, 628, 644, 644, 644, 644, 646, 646, 652, 652, 652, 652, 655, 659, 660, 662, 662, 662, 662, 664, 664, 666, 674, 680, 682, 686, 686, 694, 700, 702, 703, 704, 710, 711, 711, 711, 712, 714, 714, 714, 715, 717, 729, 735, 741, 741, 745, 746, 746, 746, 746, 752, 753, 765, 769, 771, 772, 773, 775, 775, 775, 775, 775, 775, 775, 775, 783, 787, 790, 793, 799, 803, 806, 808, 809, 809, 810, 813, 815, 826, 826, 826, 827, 830, 830, 830, 830, 830, 834, 840, 840, 841, 847, 847, 847, 852, 853, 857, 858, 860, 861, 863, 864, 873, 874, 875, 876, 877, 877, 877, 878, 878, 878, 886, 889, 893, 893, 895, 896, 896, 896, 896, 896, 896, 896, 904, 904, 910, 919, 919, 923, 925, 927, 928, 930, 932, 933, 936, 936, 937, 937, 937, 937, 937, 937, 937, 937, 937, 937, 939, 948, 948, 949, 949, 949, 949, 949, 949, 949, 949, 949, 949, 949, 949, 949, 949, 949, 949, 949, 949, 949, 949, 949, 949, 949, 949, 949, 949, 949, 949, 949, 949, 949, 949, 949, 949, 949, 949, 949, 949, 949, 949, 949, 949, 949, 949, 949, 949, 949, 949, 949, 949, 949, 949, 949, 949, 949, 949, 949, 949, 949, 949, 949, 949, 949, 949, 949, 949, 949, 949, 949, 949, 949, 949, 949, 949, 949, 949, 949, 949, 949, 949, 949, 949, 949, 949, 949, 949, 949, 949, 949, 949, 949, 949, 949, 949, 949, 949, 949, 949, 949, 949, 949, 949, 949, 949, 949, 949, 949, 949, 949, 949, 949, 949, 949, 949, 949, 950, 950, 950, 950, 952, 952, 955, 955, 957, 958, 961, 963, 964, 967, 968, 974, 974, 976, 976, 976, 980, 983, 983, 983, 984, 994, 1006, 1008, 1023, 1026, 1028]\n"
          ],
          "name": "stdout"
        }
      ]
    },
    {
      "cell_type": "code",
      "metadata": {
        "id": "XIC4zufnMxtq",
        "outputId": "dd65e915-6206-467c-e993-35bb30ccb134",
        "colab": {
          "base_uri": "https://localhost:8080/"
        }
      },
      "source": [
        "correct_num = 0\n",
        "\n",
        "for i in range(0, len(standard_list)):\n",
        "  if predict_list[i] == standard_list[i]:\n",
        "    correct_num = correct_num+1\n",
        "  else:\n",
        "    pass\n",
        "print(correct_num)\n",
        "\n",
        "predict_accuracy = correct_num/len(predict_list)\n",
        "print(predict_accuracy)"
      ],
      "execution_count": 47,
      "outputs": [
        {
          "output_type": "stream",
          "text": [
            "670\n",
            "0.7727797001153403\n"
          ],
          "name": "stdout"
        }
      ]
    },
    {
      "cell_type": "code",
      "metadata": {
        "id": "zlKMHp1CIaRJ"
      },
      "source": [
        ""
      ],
      "execution_count": 47,
      "outputs": []
    }
  ]
}