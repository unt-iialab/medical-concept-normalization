{
  "nbformat": 4,
  "nbformat_minor": 0,
  "metadata": {
    "accelerator": "TPU",
    "colab": {
      "name": "pubmed_ask_06.ipynb",
      "provenance": [],
      "collapsed_sections": [],
      "include_colab_link": true
    },
    "kernelspec": {
      "display_name": "Python 3",
      "name": "python3"
    }
  },
  "cells": [
    {
      "cell_type": "markdown",
      "metadata": {
        "id": "view-in-github",
        "colab_type": "text"
      },
      "source": [
        "<a href=\"https://colab.research.google.com/github/unt-iialab/medical-concept-normalization/blob/master/medical-concept-normalization/fine-tuning-experiments/askpatient/pubmed_ask_06.ipynb\" target=\"_parent\"><img src=\"https://colab.research.google.com/assets/colab-badge.svg\" alt=\"Open In Colab\"/></a>"
      ]
    },
    {
      "cell_type": "code",
      "metadata": {
        "id": "adSi6i2-dWxy"
      },
      "source": [
        "import os"
      ],
      "execution_count": 1,
      "outputs": []
    },
    {
      "cell_type": "code",
      "metadata": {
        "id": "E7xYCRGPjd9B"
      },
      "source": [
        "base_dir = 'medical-concept-normalization'"
      ],
      "execution_count": 2,
      "outputs": []
    },
    {
      "cell_type": "code",
      "metadata": {
        "id": "yvIW3aUDjYNS"
      },
      "source": [
        "os.mkdir(base_dir)"
      ],
      "execution_count": 3,
      "outputs": []
    },
    {
      "cell_type": "code",
      "metadata": {
        "id": "es-FFLlfk6SG"
      },
      "source": [
        "os.mkdir('medical-concept-normalization/data_collection')"
      ],
      "execution_count": 4,
      "outputs": []
    },
    {
      "cell_type": "markdown",
      "metadata": {
        "id": "0R-Guw_VoJXm"
      },
      "source": [
        "**Install fastai and clone the fastai for text classification**\n",
        "\n"
      ]
    },
    {
      "cell_type": "code",
      "metadata": {
        "id": "QVZa3Z0PmHFH",
        "outputId": "3f6b232f-73e0-4360-c468-0560efc38ced",
        "colab": {
          "base_uri": "https://localhost:8080/"
        }
      },
      "source": [
        "!curl https://course-v3.fast.ai/setup/colab | bash"
      ],
      "execution_count": 5,
      "outputs": [
        {
          "output_type": "stream",
          "text": [
            "  % Total    % Received % Xferd  Average Speed   Time    Time     Time  Current\n",
            "                                 Dload  Upload   Total   Spent    Left  Speed\n",
            "\r  0     0    0     0    0     0      0      0 --:--:-- --:--:-- --:--:--     0curl: (6) Could not resolve host: course-v3.fast.ai\n"
          ],
          "name": "stdout"
        }
      ]
    },
    {
      "cell_type": "code",
      "metadata": {
        "id": "_FBFFEBrmJC0",
        "outputId": "c578dbb3-86d9-4848-cf6d-d4bb2dd2b6dd",
        "colab": {
          "base_uri": "https://localhost:8080/"
        }
      },
      "source": [
        "!git clone https://github.com/wshuyi/demo-nlp-classification-fastai.git"
      ],
      "execution_count": 6,
      "outputs": [
        {
          "output_type": "stream",
          "text": [
            "Cloning into 'demo-nlp-classification-fastai'...\n",
            "remote: Enumerating objects: 9, done.\u001b[K\n",
            "remote: Total 9 (delta 0), reused 0 (delta 0), pack-reused 9\u001b[K\n",
            "Unpacking objects: 100% (9/9), done.\n"
          ],
          "name": "stdout"
        }
      ]
    },
    {
      "cell_type": "code",
      "metadata": {
        "id": "66zfh_JqmWMU"
      },
      "source": [
        "from fastai import *\n",
        "from fastai.text import *"
      ],
      "execution_count": 7,
      "outputs": []
    },
    {
      "cell_type": "markdown",
      "metadata": {
        "id": "mNIw-yALdBU9"
      },
      "source": [
        "**Set the path of the data collections**"
      ]
    },
    {
      "cell_type": "code",
      "metadata": {
        "id": "pzH7VMh4mqCL"
      },
      "source": [
        "path = Path('medical-concept-normalization/data_collection')"
      ],
      "execution_count": 8,
      "outputs": []
    },
    {
      "cell_type": "code",
      "metadata": {
        "id": "b8fjI6yyn4aS"
      },
      "source": [
        "# training data set\n",
        "\n",
        "train_csv = path/'AskAPatient.fold-6.train.csv'\n",
        "train = pd.read_csv(train_csv, header=None)\n",
        "#train.head()\n",
        "#train.info()"
      ],
      "execution_count": 10,
      "outputs": []
    },
    {
      "cell_type": "code",
      "metadata": {
        "id": "Hmlr-bAorfHd",
        "outputId": "1a042b73-d687-46d8-9db7-1f8150876309",
        "colab": {
          "base_uri": "https://localhost:8080/",
          "height": 204
        }
      },
      "source": [
        "# validating data set\n",
        "\n",
        "valid = pd.read_csv(path/\"AskAPatient.fold-6.validation.csv\",header=None)\n",
        "valid.head()"
      ],
      "execution_count": 11,
      "outputs": [
        {
          "output_type": "execute_result",
          "data": {
            "text/html": [
              "<div>\n",
              "<style scoped>\n",
              "    .dataframe tbody tr th:only-of-type {\n",
              "        vertical-align: middle;\n",
              "    }\n",
              "\n",
              "    .dataframe tbody tr th {\n",
              "        vertical-align: top;\n",
              "    }\n",
              "\n",
              "    .dataframe thead th {\n",
              "        text-align: right;\n",
              "    }\n",
              "</style>\n",
              "<table border=\"1\" class=\"dataframe\">\n",
              "  <thead>\n",
              "    <tr style=\"text-align: right;\">\n",
              "      <th></th>\n",
              "      <th>0</th>\n",
              "      <th>1</th>\n",
              "    </tr>\n",
              "  </thead>\n",
              "  <tbody>\n",
              "    <tr>\n",
              "      <th>0</th>\n",
              "      <td>2</td>\n",
              "      <td>heel pain</td>\n",
              "    </tr>\n",
              "    <tr>\n",
              "      <th>1</th>\n",
              "      <td>2</td>\n",
              "      <td>heels hurt</td>\n",
              "    </tr>\n",
              "    <tr>\n",
              "      <th>2</th>\n",
              "      <td>4</td>\n",
              "      <td>black and blue marks</td>\n",
              "    </tr>\n",
              "    <tr>\n",
              "      <th>3</th>\n",
              "      <td>5</td>\n",
              "      <td>fast and slow heartbeat</td>\n",
              "    </tr>\n",
              "    <tr>\n",
              "      <th>4</th>\n",
              "      <td>5</td>\n",
              "      <td>increased heart rate</td>\n",
              "    </tr>\n",
              "  </tbody>\n",
              "</table>\n",
              "</div>"
            ],
            "text/plain": [
              "   0                        1\n",
              "0  2                heel pain\n",
              "1  2               heels hurt\n",
              "2  4     black and blue marks\n",
              "3  5  fast and slow heartbeat\n",
              "4  5     increased heart rate"
            ]
          },
          "metadata": {
            "tags": []
          },
          "execution_count": 11
        }
      ]
    },
    {
      "cell_type": "code",
      "metadata": {
        "id": "cOza9dfSsBud",
        "outputId": "b1a0c5fb-5441-4fe3-b3ab-a8afeeedee91",
        "colab": {
          "base_uri": "https://localhost:8080/",
          "height": 204
        }
      },
      "source": [
        "# testing data set\n",
        "\n",
        "test = pd.read_csv(path/\"AskAPatient.fold-6.test.csv\",header=None)\n",
        "test.head()"
      ],
      "execution_count": 12,
      "outputs": [
        {
          "output_type": "execute_result",
          "data": {
            "text/html": [
              "<div>\n",
              "<style scoped>\n",
              "    .dataframe tbody tr th:only-of-type {\n",
              "        vertical-align: middle;\n",
              "    }\n",
              "\n",
              "    .dataframe tbody tr th {\n",
              "        vertical-align: top;\n",
              "    }\n",
              "\n",
              "    .dataframe thead th {\n",
              "        text-align: right;\n",
              "    }\n",
              "</style>\n",
              "<table border=\"1\" class=\"dataframe\">\n",
              "  <thead>\n",
              "    <tr style=\"text-align: right;\">\n",
              "      <th></th>\n",
              "      <th>0</th>\n",
              "      <th>1</th>\n",
              "    </tr>\n",
              "  </thead>\n",
              "  <tbody>\n",
              "    <tr>\n",
              "      <th>0</th>\n",
              "      <td>2</td>\n",
              "      <td>left heel pain</td>\n",
              "    </tr>\n",
              "    <tr>\n",
              "      <th>1</th>\n",
              "      <td>5</td>\n",
              "      <td>tachycardia</td>\n",
              "    </tr>\n",
              "    <tr>\n",
              "      <th>2</th>\n",
              "      <td>8</td>\n",
              "      <td>ARTHRITIS</td>\n",
              "    </tr>\n",
              "    <tr>\n",
              "      <th>3</th>\n",
              "      <td>8</td>\n",
              "      <td>arthrites</td>\n",
              "    </tr>\n",
              "    <tr>\n",
              "      <th>4</th>\n",
              "      <td>8</td>\n",
              "      <td>arthritis</td>\n",
              "    </tr>\n",
              "  </tbody>\n",
              "</table>\n",
              "</div>"
            ],
            "text/plain": [
              "   0               1\n",
              "0  2  left heel pain\n",
              "1  5     tachycardia\n",
              "2  8       ARTHRITIS\n",
              "3  8       arthrites\n",
              "4  8       arthritis"
            ]
          },
          "metadata": {
            "tags": []
          },
          "execution_count": 12
        }
      ]
    },
    {
      "cell_type": "code",
      "metadata": {
        "id": "Vo-YNvVYoaH6",
        "outputId": "5d005395-4230-4819-b121-75e08fb30eb9",
        "colab": {
          "base_uri": "https://localhost:8080/",
          "height": 17
        }
      },
      "source": [
        "# Creating DataBunch for language modelling\n",
        "\n",
        "data_lm = TextLMDataBunch.from_csv(path, 'pubmed_ask.csv')"
      ],
      "execution_count": 13,
      "outputs": [
        {
          "output_type": "display_data",
          "data": {
            "text/html": [
              ""
            ],
            "text/plain": [
              "<IPython.core.display.HTML object>"
            ]
          },
          "metadata": {
            "tags": []
          }
        },
        {
          "output_type": "display_data",
          "data": {
            "text/html": [
              ""
            ],
            "text/plain": [
              "<IPython.core.display.HTML object>"
            ]
          },
          "metadata": {
            "tags": []
          }
        }
      ]
    },
    {
      "cell_type": "code",
      "metadata": {
        "id": "qcV-9kMnNLBf"
      },
      "source": [
        ""
      ],
      "execution_count": 13,
      "outputs": []
    },
    {
      "cell_type": "code",
      "metadata": {
        "id": "1ScY9afDsnvE"
      },
      "source": [
        "# Creating DataBunch for classification\n",
        "\n",
        "# data_clas = TextClasDataBunch.from_df(path, train, valid, test, vocab=data_lm.train_ds.vocab, bs=128)"
      ],
      "execution_count": 14,
      "outputs": []
    },
    {
      "cell_type": "code",
      "metadata": {
        "id": "gzrSdQcvey9p",
        "outputId": "493ead98-9601-4e5e-f741-b4b662fc0ef7",
        "colab": {
          "base_uri": "https://localhost:8080/",
          "height": 17
        }
      },
      "source": [
        "data_clas = TextClasDataBunch.from_df(path, train, valid, vocab=data_lm.train_ds.vocab, bs=128)"
      ],
      "execution_count": 15,
      "outputs": [
        {
          "output_type": "display_data",
          "data": {
            "text/html": [
              ""
            ],
            "text/plain": [
              "<IPython.core.display.HTML object>"
            ]
          },
          "metadata": {
            "tags": []
          }
        },
        {
          "output_type": "display_data",
          "data": {
            "text/html": [
              ""
            ],
            "text/plain": [
              "<IPython.core.display.HTML object>"
            ]
          },
          "metadata": {
            "tags": []
          }
        }
      ]
    },
    {
      "cell_type": "code",
      "metadata": {
        "id": "MD27Tf0Ke3ou",
        "outputId": "b30d7791-c687-4320-9b26-d03637ec3aed",
        "colab": {
          "base_uri": "https://localhost:8080/",
          "height": 17
        }
      },
      "source": [
        "data_clas.add_test(test,label=0)\n"
      ],
      "execution_count": 16,
      "outputs": [
        {
          "output_type": "display_data",
          "data": {
            "text/html": [
              ""
            ],
            "text/plain": [
              "<IPython.core.display.HTML object>"
            ]
          },
          "metadata": {
            "tags": []
          }
        }
      ]
    },
    {
      "cell_type": "code",
      "metadata": {
        "id": "-dpjnk_rstwk"
      },
      "source": [
        "data_lm.save()\n",
        "data_clas.save()"
      ],
      "execution_count": 17,
      "outputs": []
    },
    {
      "cell_type": "code",
      "metadata": {
        "id": "4OkiJa36sw5s",
        "outputId": "754dcac9-952d-49f6-97da-9093724f584d",
        "colab": {
          "base_uri": "https://localhost:8080/"
        }
      },
      "source": [
        "data_lm.train_ds.vocab.itos"
      ],
      "execution_count": 18,
      "outputs": [
        {
          "output_type": "execute_result",
          "data": {
            "text/plain": [
              "['xxunk',\n",
              " 'xxpad',\n",
              " 'xxbos',\n",
              " 'xxeos',\n",
              " 'xxfld',\n",
              " 'xxmaj',\n",
              " 'xxup',\n",
              " 'xxrep',\n",
              " 'xxwrep',\n",
              " 'pain',\n",
              " 'of',\n",
              " 'the',\n",
              " 'in',\n",
              " 'lipitor',\n",
              " 'and',\n",
              " 'to',\n",
              " 'muscle',\n",
              " 'a',\n",
              " 'diclofenac',\n",
              " 'was',\n",
              " 'with',\n",
              " 'were',\n",
              " 'severe',\n",
              " 'for',\n",
              " 'myalgia',\n",
              " 'lower',\n",
              " 'my',\n",
              " 'fatigue',\n",
              " 'loss',\n",
              " 'limb',\n",
              " 'cramp',\n",
              " 'weakness',\n",
              " 'sodium',\n",
              " 'by',\n",
              " 'on',\n",
              " 'stomach',\n",
              " '-',\n",
              " 'depression',\n",
              " 'back',\n",
              " 'is',\n",
              " 'at',\n",
              " 'cramps',\n",
              " 'patients',\n",
              " 'that',\n",
              " 'as',\n",
              " 'upper',\n",
              " 'gas',\n",
              " 'joint',\n",
              " 'or',\n",
              " 'leg',\n",
              " 'drug',\n",
              " 'memory',\n",
              " 'mg',\n",
              " 'legs',\n",
              " 'pains',\n",
              " 'knee',\n",
              " 'headache',\n",
              " 'from',\n",
              " 'shoulder',\n",
              " 'unable',\n",
              " 'group',\n",
              " 'not',\n",
              " 'arthralgia',\n",
              " 'gastrointestinal',\n",
              " 'treatment',\n",
              " 'study',\n",
              " 'all',\n",
              " 'excessive',\n",
              " 'neck',\n",
              " 'this',\n",
              " 'foot',\n",
              " 'arthritis',\n",
              " 'aches',\n",
              " 'after',\n",
              " 'numbness',\n",
              " 'hip',\n",
              " 'voltaren',\n",
              " 'insomnia',\n",
              " 'arthrotec',\n",
              " 'disease',\n",
              " 'nausea',\n",
              " 'release',\n",
              " 'p',\n",
              " 'bleeding',\n",
              " '/',\n",
              " 'increased',\n",
              " 'asthenia',\n",
              " 'both',\n",
              " 'walk',\n",
              " 'abdominal',\n",
              " 'an',\n",
              " 'heart',\n",
              " 'tired',\n",
              " 'swelling',\n",
              " 'like',\n",
              " 'dizziness',\n",
              " 'skin',\n",
              " 'no',\n",
              " 'walking',\n",
              " 'be',\n",
              " 'feeling',\n",
              " 'feet',\n",
              " 'time',\n",
              " 'high',\n",
              " 'problems',\n",
              " 'difficulty',\n",
              " 'are',\n",
              " 'hand',\n",
              " 'than',\n",
              " 'acid',\n",
              " 'blood',\n",
              " 'effect',\n",
              " 'chest',\n",
              " 'cholesterol',\n",
              " 'muscles',\n",
              " 'compared',\n",
              " 'stiffness',\n",
              " 'low',\n",
              " 'extreme',\n",
              " 'hair',\n",
              " 'backache',\n",
              " 'inflammatory',\n",
              " 'zocor',\n",
              " 'burning',\n",
              " 'ache',\n",
              " 'vision',\n",
              " 'weight',\n",
              " 'liver',\n",
              " 'using',\n",
              " 'i',\n",
              " 'effects',\n",
              " 'groups',\n",
              " 'could',\n",
              " 'diarrhoea',\n",
              " 'very',\n",
              " 'cramping',\n",
              " 'sleep',\n",
              " 'pins',\n",
              " 'needles',\n",
              " 'concentration',\n",
              " 'amnesia',\n",
              " 'significantly',\n",
              " 'significant',\n",
              " 'h',\n",
              " 'between',\n",
              " 'two',\n",
              " 'potassium',\n",
              " 'left',\n",
              " 'calf',\n",
              " 'anti',\n",
              " 'drugs',\n",
              " 'short',\n",
              " 'impairment',\n",
              " 'disability',\n",
              " 'c',\n",
              " 'term',\n",
              " 'up',\n",
              " 'tingling',\n",
              " 'used',\n",
              " 'symptom',\n",
              " 'anxiety',\n",
              " 'lack',\n",
              " 'can',\n",
              " 'pressure',\n",
              " 'constipation',\n",
              " 'dose',\n",
              " 'bloating',\n",
              " 'stiff',\n",
              " 'day',\n",
              " 'which',\n",
              " 'efficacy',\n",
              " 'placebo',\n",
              " 'one',\n",
              " 'ds',\n",
              " 'had',\n",
              " 'results',\n",
              " 'poor',\n",
              " 'these',\n",
              " 'arm',\n",
              " 'disorder',\n",
              " 'has',\n",
              " 'reduced',\n",
              " 'it',\n",
              " 'more',\n",
              " 'hands',\n",
              " 'headaches',\n",
              " 'body',\n",
              " 'arms',\n",
              " 'days',\n",
              " 'also',\n",
              " 'have',\n",
              " 'treated',\n",
              " 'we',\n",
              " 'acute',\n",
              " 'ml',\n",
              " 'neuropathy',\n",
              " 'blurred',\n",
              " 'showed',\n",
              " 'sore',\n",
              " 'ankle',\n",
              " 'over',\n",
              " 'balance',\n",
              " 'visual',\n",
              " 'topical',\n",
              " 'myocardial',\n",
              " 'joints',\n",
              " 'infarction',\n",
              " 'tiredness',\n",
              " 'serum',\n",
              " 'been',\n",
              " 'oral',\n",
              " 'vaginal',\n",
              " 'but',\n",
              " 'pravachol',\n",
              " 'renal',\n",
              " 'rats',\n",
              " 'administration',\n",
              " 'myositis',\n",
              " 'different',\n",
              " 'sensation',\n",
              " 'studies',\n",
              " 'rash',\n",
              " 'control',\n",
              " 'mentally',\n",
              " 'attack',\n",
              " 'swollen',\n",
              " ',',\n",
              " 'diabetes',\n",
              " 'during',\n",
              " 'vertigo',\n",
              " 'hurt',\n",
              " 'painful',\n",
              " 'non',\n",
              " 'decreased',\n",
              " 'itching',\n",
              " 'into',\n",
              " 'rate',\n",
              " 'generalised',\n",
              " 'respectively',\n",
              " 's',\n",
              " 'clinical',\n",
              " 'atrophy',\n",
              " 'upset',\n",
              " ')',\n",
              " 'when',\n",
              " 'constant',\n",
              " 'well',\n",
              " \"'s\",\n",
              " 'energy',\n",
              " 'tablets',\n",
              " 'there',\n",
              " 'levels',\n",
              " 'right',\n",
              " 'out',\n",
              " 'nsaids',\n",
              " 'induced',\n",
              " 'gel',\n",
              " 'plasma',\n",
              " 'atorvastatin',\n",
              " 'dry',\n",
              " 'formulations',\n",
              " 'formulation',\n",
              " 'gain',\n",
              " 'ubidecarenone',\n",
              " 'g',\n",
              " 'method',\n",
              " 'diarrhea',\n",
              " 'found',\n",
              " 'syndrome',\n",
              " '(',\n",
              " 'their',\n",
              " 'solution',\n",
              " 'use',\n",
              " 'damage',\n",
              " 'illness',\n",
              " 'other',\n",
              " 'mean',\n",
              " 'raised',\n",
              " 'movement',\n",
              " 'observed',\n",
              " 'effective',\n",
              " 'elevated',\n",
              " 'may',\n",
              " 'ph',\n",
              " 'period',\n",
              " 'dull',\n",
              " 'ibuprofen',\n",
              " \"n't\",\n",
              " 'n',\n",
              " 'received',\n",
              " 'urine',\n",
              " 'eye',\n",
              " 'type',\n",
              " 'influenza',\n",
              " 'symptoms',\n",
              " 'chronic',\n",
              " 'three',\n",
              " 'shoulders',\n",
              " 'crestor',\n",
              " 'its',\n",
              " 'spasm',\n",
              " 'tendonitis',\n",
              " 'heavy',\n",
              " 'weak',\n",
              " 'hazy',\n",
              " 'tablet',\n",
              " 'present',\n",
              " 'hours',\n",
              " 'controlled',\n",
              " 'elbow',\n",
              " 'spasms',\n",
              " 'side',\n",
              " 'adverse',\n",
              " 'analysis',\n",
              " 'kidney',\n",
              " 'discomfort',\n",
              " 'toe',\n",
              " 'flatulence',\n",
              " 'analgesic',\n",
              " 'libido',\n",
              " 'm',\n",
              " 'exhaustion',\n",
              " 'first',\n",
              " 'sleeping',\n",
              " 'each',\n",
              " 'reflux',\n",
              " 'abnormal',\n",
              " 'kg',\n",
              " 'myopathy',\n",
              " 'vitro',\n",
              " 'activity',\n",
              " 'bad',\n",
              " 'mood',\n",
              " 'system',\n",
              " 'sclerosis',\n",
              " 'level',\n",
              " 'migraine',\n",
              " 'concentrations',\n",
              " 'increase',\n",
              " 'l',\n",
              " 'inflammation',\n",
              " 'knees',\n",
              " 'total',\n",
              " 'less',\n",
              " 'injury',\n",
              " 'patient',\n",
              " 'data',\n",
              " 'daily',\n",
              " 'randomized',\n",
              " 'feel',\n",
              " 'fibromyalgia',\n",
              " 'function',\n",
              " 'single',\n",
              " 'concentrate',\n",
              " 'd',\n",
              " 'irritable',\n",
              " 'vomiting',\n",
              " 'similar',\n",
              " 'evaluated',\n",
              " 'following',\n",
              " 'bed',\n",
              " 'thigh',\n",
              " 'multiple',\n",
              " 'mild',\n",
              " 'throat',\n",
              " 'nsaid',\n",
              " 'cold',\n",
              " 'however',\n",
              " 'surgery',\n",
              " 'problem',\n",
              " 'mellitus',\n",
              " 't',\n",
              " 'get',\n",
              " 'obtained',\n",
              " 'flu',\n",
              " 'test',\n",
              " 'osteoarthritis',\n",
              " 'b',\n",
              " 'only',\n",
              " 'malaise',\n",
              " 'eyes',\n",
              " 'so',\n",
              " 'model',\n",
              " 'dissolution',\n",
              " 'most',\n",
              " 'before',\n",
              " 'double',\n",
              " 'weeks',\n",
              " 'therapy',\n",
              " 'simvastatin',\n",
              " 'water',\n",
              " 'sweating',\n",
              " 'cells',\n",
              " 'impaired',\n",
              " 'higher',\n",
              " 'menstrual',\n",
              " 'hips',\n",
              " 'changes',\n",
              " 'lightheadedness',\n",
              " 'tremor',\n",
              " 'due',\n",
              " 'disturbance',\n",
              " 'head',\n",
              " 'while',\n",
              " 'under',\n",
              " 'wind',\n",
              " 'postoperative',\n",
              " 'did',\n",
              " 'difference',\n",
              " 'application',\n",
              " 'week',\n",
              " 'min',\n",
              " 'brain',\n",
              " 'calves',\n",
              " 'swings',\n",
              " 'based',\n",
              " 'peripheral',\n",
              " 'appetite',\n",
              " 'oil',\n",
              " 'blind',\n",
              " 'cell',\n",
              " 'failure',\n",
              " 'combination',\n",
              " 'soreness',\n",
              " 'values',\n",
              " 'x',\n",
              " 'esters',\n",
              " 'associated',\n",
              " 'confusion',\n",
              " 'trial',\n",
              " 'administered',\n",
              " 'studied',\n",
              " 'gastric',\n",
              " 'years',\n",
              " 'aching',\n",
              " 'those',\n",
              " 'nonsteroidal',\n",
              " 'celebrex',\n",
              " 'paraesthesia',\n",
              " 'stairs',\n",
              " 'relief',\n",
              " 'prepared',\n",
              " 'off',\n",
              " 'general',\n",
              " 'times',\n",
              " 'infection',\n",
              " 'doses',\n",
              " 'differences',\n",
              " 'finger',\n",
              " 'tinnitus',\n",
              " 'conditions',\n",
              " 'reported',\n",
              " 'motivation',\n",
              " 'ezetimibe',\n",
              " 'coated',\n",
              " 'stress',\n",
              " 'absorption',\n",
              " 'e',\n",
              " 'toes',\n",
              " 'vs',\n",
              " 'charleyhorse',\n",
              " 'phase',\n",
              " 'area',\n",
              " 'performed',\n",
              " 'paracetamol',\n",
              " 'subjects',\n",
              " 'investigated',\n",
              " 'properties',\n",
              " 'rheumatoid',\n",
              " 'auc',\n",
              " 'developed',\n",
              " 'change',\n",
              " 'parkinson',\n",
              " 'swallowing',\n",
              " 'either',\n",
              " 'within',\n",
              " 'lateral',\n",
              " 'events',\n",
              " 'dyspnoea',\n",
              " 'intense',\n",
              " 'who',\n",
              " 'ascorbic',\n",
              " 'urinary',\n",
              " 'given',\n",
              " 'face',\n",
              " 'rapid',\n",
              " 'assessed',\n",
              " 'hot',\n",
              " 'cough',\n",
              " 'response',\n",
              " 'excruciating',\n",
              " 'reduction',\n",
              " 'ca',\n",
              " 'parameters',\n",
              " 'four',\n",
              " 'taste',\n",
              " 'safety',\n",
              " 'tendon',\n",
              " 'ankles',\n",
              " 'heel',\n",
              " 'v',\n",
              " 'vitamin',\n",
              " 'delivery',\n",
              " 'oa',\n",
              " 'palpitations',\n",
              " 'new',\n",
              " 'enzymes',\n",
              " 'post',\n",
              " 'range',\n",
              " 'measured',\n",
              " 'felt',\n",
              " 'containing',\n",
              " 'included',\n",
              " 'dark',\n",
              " 'order',\n",
              " 'nerve',\n",
              " 'steroidal',\n",
              " 'they',\n",
              " 'restless',\n",
              " 'night',\n",
              " 'w',\n",
              " 'strength',\n",
              " 'such',\n",
              " 'depressed',\n",
              " 'liquid',\n",
              " 'indigestion',\n",
              " 'indomethacin',\n",
              " 'without',\n",
              " 'related',\n",
              " 'major',\n",
              " 'lupus',\n",
              " 'k',\n",
              " 'fingers',\n",
              " 'ratio',\n",
              " 'ii',\n",
              " 'tightness',\n",
              " 'injection',\n",
              " 'compare',\n",
              " 'ng',\n",
              " 'through',\n",
              " 'speech',\n",
              " 'mm',\n",
              " 'twitch',\n",
              " 'healthy',\n",
              " 'statistically',\n",
              " 'gout',\n",
              " 'scale',\n",
              " 'form',\n",
              " 'down',\n",
              " 'ulcer',\n",
              " 'applied',\n",
              " 'evaluate',\n",
              " 'any',\n",
              " 'potential',\n",
              " 'edema',\n",
              " 'terrible',\n",
              " 'clearly',\n",
              " 'size',\n",
              " 'active',\n",
              " 'vivo',\n",
              " 'reaction',\n",
              " 'samples',\n",
              " 'primary',\n",
              " 'determined',\n",
              " 'provoked',\n",
              " 'misoprostol',\n",
              " 'colic',\n",
              " 'bone',\n",
              " 'menopause',\n",
              " 'overall',\n",
              " 'therapeutic',\n",
              " 'fish',\n",
              " 'limbs',\n",
              " 'baseline',\n",
              " 'minutes',\n",
              " 'tolerability',\n",
              " 'number',\n",
              " 'co',\n",
              " 'moderate',\n",
              " 'heartburn',\n",
              " 'fever',\n",
              " 'dreams',\n",
              " 'scores',\n",
              " 'ability',\n",
              " 'drowsy',\n",
              " 'decrease',\n",
              " 'dependent',\n",
              " 'trouble',\n",
              " 'creatinine',\n",
              " 'twitching',\n",
              " 'sustained',\n",
              " 'wrist',\n",
              " 'mouth',\n",
              " 'aqueous',\n",
              " 'greater',\n",
              " 'human',\n",
              " 'light',\n",
              " 'breathing',\n",
              " 'amyotrophic',\n",
              " 'normal',\n",
              " 'tissue',\n",
              " 'advil',\n",
              " 'bioavailability',\n",
              " 'addition',\n",
              " 'every',\n",
              " 'sinus',\n",
              " 'some',\n",
              " 'medication',\n",
              " 'action',\n",
              " 'hypertension',\n",
              " 'aspirin',\n",
              " 'development',\n",
              " 'cox',\n",
              " 'mobility',\n",
              " 'uterine',\n",
              " 'process',\n",
              " 'aim',\n",
              " 'breath',\n",
              " 'good',\n",
              " 'mice',\n",
              " 'demonstrated',\n",
              " 'aleve',\n",
              " 'think',\n",
              " 'improvement',\n",
              " 'fog',\n",
              " 'exercise',\n",
              " 'nasal',\n",
              " 'tract',\n",
              " 'na',\n",
              " 'per',\n",
              " 'always',\n",
              " 'coq10',\n",
              " 'dosage',\n",
              " 'our',\n",
              " 'fenofibrate',\n",
              " 'revealed',\n",
              " 'move',\n",
              " 'attacks',\n",
              " 'matrix',\n",
              " 'treatments',\n",
              " 'same',\n",
              " 'tolerance',\n",
              " 'products',\n",
              " 'long',\n",
              " 'agent',\n",
              " 'tylenol',\n",
              " 'inhibition',\n",
              " 'better',\n",
              " 'thighs',\n",
              " 'presence',\n",
              " 'plantar',\n",
              " 'inhibitor',\n",
              " 'cancer',\n",
              " 'volunteers',\n",
              " 'risk',\n",
              " 'horses',\n",
              " 'moody',\n",
              " 'tight',\n",
              " 'male',\n",
              " 'polymer',\n",
              " 'o',\n",
              " 'elbows',\n",
              " 'various',\n",
              " 'loose',\n",
              " 'pulse',\n",
              " 'although',\n",
              " 'followed',\n",
              " 'surface',\n",
              " 'alone',\n",
              " 'exposure',\n",
              " 'lethargy',\n",
              " 'trials',\n",
              " 'content',\n",
              " 'bowel',\n",
              " 'numb',\n",
              " 'fast',\n",
              " 'tricor',\n",
              " 'indicated',\n",
              " 'cases',\n",
              " 'f',\n",
              " 'suggest',\n",
              " 'vehicle',\n",
              " 'onset',\n",
              " 'naproxen',\n",
              " 'sharp',\n",
              " 'months',\n",
              " 'facial',\n",
              " 'generally',\n",
              " 'cm',\n",
              " 'animals',\n",
              " 'alpha',\n",
              " 'me',\n",
              " 'case',\n",
              " 'intensity',\n",
              " '+',\n",
              " 'whereas',\n",
              " 'shown',\n",
              " 'further',\n",
              " 'randomly',\n",
              " 'barely',\n",
              " 'finding',\n",
              " 'protein',\n",
              " 'formation',\n",
              " 'mechanism',\n",
              " 'hour',\n",
              " 'free',\n",
              " 'experimental',\n",
              " 'relative',\n",
              " 'being',\n",
              " 'cerebrovascular',\n",
              " 'fluid',\n",
              " 'physical',\n",
              " 'score',\n",
              " 'age',\n",
              " 'six',\n",
              " 'panic',\n",
              " 'local',\n",
              " 'about',\n",
              " 'profile',\n",
              " 'natural',\n",
              " 'getting',\n",
              " 'conducted',\n",
              " 'permeation',\n",
              " 'vas',\n",
              " 'oedema',\n",
              " 'sugar',\n",
              " 'fatigued',\n",
              " 'pharmaceutical',\n",
              " 'systemic',\n",
              " 'end',\n",
              " 'standard',\n",
              " 'charley',\n",
              " 'extremity',\n",
              " 'extremely',\n",
              " 'amount',\n",
              " 'congestion',\n",
              " 'agents',\n",
              " 'patch',\n",
              " 'resulted',\n",
              " 'corneal',\n",
              " 'initial',\n",
              " 'evaluation',\n",
              " 'cmax',\n",
              " 'rhabdomyolysis',\n",
              " 'accident',\n",
              " 'divided',\n",
              " 'ms',\n",
              " 'hardly',\n",
              " 'malignant',\n",
              " 'versus',\n",
              " 'liptor',\n",
              " 'peak',\n",
              " 'rat',\n",
              " 'deep',\n",
              " 'complete',\n",
              " 'then',\n",
              " 'caused',\n",
              " 'slurred',\n",
              " 'microspheres',\n",
              " 'nervous',\n",
              " 'plus',\n",
              " 'determine',\n",
              " 'irregular',\n",
              " 'shortness',\n",
              " 'complex',\n",
              " 'mental',\n",
              " 'available',\n",
              " 'tolerated',\n",
              " 'produced',\n",
              " 'ringing',\n",
              " 'sex',\n",
              " 'lesions',\n",
              " 'achieved',\n",
              " 'combined',\n",
              " 'among',\n",
              " 'pharmacokinetic',\n",
              " 'common',\n",
              " 'including',\n",
              " 'secondary',\n",
              " 'central',\n",
              " 'thoughts',\n",
              " 'synthesis',\n",
              " 'periods',\n",
              " 'improved',\n",
              " 'lost',\n",
              " 'ear',\n",
              " 'rofecoxib',\n",
              " 'tension',\n",
              " 'achilles',\n",
              " 'dizzy',\n",
              " 'temperature',\n",
              " 'coronary',\n",
              " 'pruritus',\n",
              " 'fasciitis',\n",
              " 'participants',\n",
              " 'thus',\n",
              " 'analgesia',\n",
              " 'duration',\n",
              " 'frequent',\n",
              " 'evidence',\n",
              " 'sweats',\n",
              " 'drive',\n",
              " 'als',\n",
              " 'ci',\n",
              " 'region',\n",
              " 'eczema',\n",
              " 'ethyl',\n",
              " 'profiles',\n",
              " 'models',\n",
              " '3',\n",
              " 'should',\n",
              " 'carried',\n",
              " 'five',\n",
              " 'morning',\n",
              " 'tested',\n",
              " 'enteric',\n",
              " 'zetia',\n",
              " 'sensitive',\n",
              " 'sick',\n",
              " ':',\n",
              " 'ldl',\n",
              " 'neurontin',\n",
              " 'pre',\n",
              " 'stamina',\n",
              " 'increasing',\n",
              " 'capsules',\n",
              " 'global',\n",
              " 'according',\n",
              " 'hunger',\n",
              " 'gi',\n",
              " 'sensations',\n",
              " 'rectal',\n",
              " 'assessment',\n",
              " 'technique',\n",
              " 'medium',\n",
              " 'food',\n",
              " 'intestinal',\n",
              " 'even',\n",
              " 'preparation',\n",
              " 'efficiency',\n",
              " 'maximum',\n",
              " 'cataract',\n",
              " 'old',\n",
              " 'year',\n",
              " 'growth',\n",
              " 'prednisone',\n",
              " 'microg',\n",
              " 'solid',\n",
              " 'density',\n",
              " 'erythema',\n",
              " 'film',\n",
              " 'review',\n",
              " 'codeine',\n",
              " 'product',\n",
              " 'cd',\n",
              " 'prostaglandin',\n",
              " 'diabetic',\n",
              " 'norvasc',\n",
              " 'beads',\n",
              " 'diffusion',\n",
              " 'th',\n",
              " 'affected',\n",
              " 'bursitis',\n",
              " 'calcium',\n",
              " 'comparison',\n",
              " 'interaction',\n",
              " 'expression',\n",
              " 'extent',\n",
              " 'hypersomnia',\n",
              " 'strain',\n",
              " 'respiratory',\n",
              " 'aptyalism',\n",
              " 'volume',\n",
              " 'scalp',\n",
              " 'reference',\n",
              " 'superior',\n",
              " 'recorded',\n",
              " 'around',\n",
              " 'production',\n",
              " 'started',\n",
              " 'dysfunction',\n",
              " 'third',\n",
              " 'value',\n",
              " 'stool',\n",
              " 'investigate',\n",
              " 'hepatic',\n",
              " 'mass',\n",
              " 'once',\n",
              " 'asthma',\n",
              " 'spasmodic',\n",
              " 'cataflam',\n",
              " 'stroke',\n",
              " 'lopid',\n",
              " 'site',\n",
              " 'retention',\n",
              " 'because',\n",
              " 'medications',\n",
              " 'looks',\n",
              " 'erythematosus',\n",
              " 'least',\n",
              " 'quality',\n",
              " 'lipex',\n",
              " 'second',\n",
              " 'inhibitors',\n",
              " 'bp',\n",
              " 'antiinflammatory',\n",
              " 'care',\n",
              " 'several',\n",
              " 'show',\n",
              " 'novel',\n",
              " 'lipid',\n",
              " 'determination',\n",
              " 'design',\n",
              " 'sensitivity',\n",
              " 'membrane',\n",
              " 'flow',\n",
              " 'considered',\n",
              " 'state',\n",
              " 'detection',\n",
              " 'saline',\n",
              " 'degrees',\n",
              " 'early',\n",
              " 'commercial',\n",
              " 'structure',\n",
              " 'incidence',\n",
              " 'month',\n",
              " 'cross',\n",
              " 'small',\n",
              " 'therefore',\n",
              " 'forgetful',\n",
              " 'flushing',\n",
              " 'across',\n",
              " 'pellets',\n",
              " 'difficult',\n",
              " 'venous',\n",
              " 'zoloft',\n",
              " 'phosphate',\n",
              " 'almost',\n",
              " 'methods',\n",
              " 'hard',\n",
              " 'examined',\n",
              " 'ocular',\n",
              " 'random',\n",
              " 'dic',\n",
              " 'cardiovascular',\n",
              " 'characterized',\n",
              " 'serious',\n",
              " 'specific',\n",
              " 'possible',\n",
              " 'capsule',\n",
              " 'taking',\n",
              " 'max',\n",
              " 'preparations',\n",
              " 'menorrhagia',\n",
              " 'nightmares',\n",
              " 'made',\n",
              " 'hurts',\n",
              " 'clinically',\n",
              " 'findings',\n",
              " 'assess',\n",
              " 'cpk',\n",
              " 'forearm',\n",
              " 'self',\n",
              " 'inability',\n",
              " 'morphine',\n",
              " 'tachycardia',\n",
              " 'lipoprotein',\n",
              " 'solutions',\n",
              " 'confidence',\n",
              " 'comparable',\n",
              " 'inhibited',\n",
              " 'twice',\n",
              " 'loaded',\n",
              " 'climb',\n",
              " 'just',\n",
              " 'nm',\n",
              " 'intramuscular',\n",
              " 'slow',\n",
              " 'buffer',\n",
              " 'delusional',\n",
              " 'ketorolac',\n",
              " 'modified',\n",
              " 'condition',\n",
              " 'outcome',\n",
              " 'against',\n",
              " 'experienced',\n",
              " 'gait',\n",
              " 'whether',\n",
              " 'large',\n",
              " 'transdermal',\n",
              " 'limping',\n",
              " 'receiving',\n",
              " 'factor',\n",
              " 'influence',\n",
              " 'pge',\n",
              " 'stand',\n",
              " 'omega-3-acid',\n",
              " 'esters-90',\n",
              " 'arthritic',\n",
              " 'sight',\n",
              " ...]"
            ]
          },
          "metadata": {
            "tags": []
          },
          "execution_count": 18
        }
      ]
    },
    {
      "cell_type": "code",
      "metadata": {
        "id": "yPWr03mls3VT",
        "outputId": "3e90a69b-7d8d-4dec-cec9-a27f723ee8d2",
        "colab": {
          "base_uri": "https://localhost:8080/",
          "height": 17
        }
      },
      "source": [
        "model_path = path/'models'\n",
        "model_path.mkdir(exist_ok=True)\n",
        "url = 'http://files.fast.ai/models/wt103_v1/'\n",
        "download_url(f'{url}lstm_wt103.pth', model_path/'lstm_wt103.pth')\n",
        "download_url(f'{url}itos_wt103.pkl', model_path/'itos_wt103.pkl')"
      ],
      "execution_count": 19,
      "outputs": [
        {
          "output_type": "display_data",
          "data": {
            "text/html": [
              ""
            ],
            "text/plain": [
              "<IPython.core.display.HTML object>"
            ]
          },
          "metadata": {
            "tags": []
          }
        },
        {
          "output_type": "display_data",
          "data": {
            "text/html": [
              ""
            ],
            "text/plain": [
              "<IPython.core.display.HTML object>"
            ]
          },
          "metadata": {
            "tags": []
          }
        }
      ]
    },
    {
      "cell_type": "code",
      "metadata": {
        "id": "JRzvWg8RtGGr",
        "outputId": "967f7cf2-b787-4fe1-fc92-e83d29f43722",
        "colab": {
          "base_uri": "https://localhost:8080/",
          "height": 34
        }
      },
      "source": [
        "learn = language_model_learner(data_lm, AWD_LSTM, drop_mult=0.5)"
      ],
      "execution_count": 20,
      "outputs": [
        {
          "output_type": "stream",
          "text": [
            "Downloading https://s3.amazonaws.com/fast-ai-modelzoo/wt103-fwd.tgz\n"
          ],
          "name": "stdout"
        },
        {
          "output_type": "display_data",
          "data": {
            "text/html": [
              ""
            ],
            "text/plain": [
              "<IPython.core.display.HTML object>"
            ]
          },
          "metadata": {
            "tags": []
          }
        }
      ]
    },
    {
      "cell_type": "code",
      "metadata": {
        "id": "xKK7GeBev7Xn",
        "outputId": "d8664557-23b2-472d-87c4-325cb6877618",
        "colab": {
          "base_uri": "https://localhost:8080/",
          "height": 80
        }
      },
      "source": [
        "learn.fit_one_cycle(1, 1e-2)"
      ],
      "execution_count": 21,
      "outputs": [
        {
          "output_type": "display_data",
          "data": {
            "text/html": [
              "<table border=\"1\" class=\"dataframe\">\n",
              "  <thead>\n",
              "    <tr style=\"text-align: left;\">\n",
              "      <th>epoch</th>\n",
              "      <th>train_loss</th>\n",
              "      <th>valid_loss</th>\n",
              "      <th>accuracy</th>\n",
              "      <th>time</th>\n",
              "    </tr>\n",
              "  </thead>\n",
              "  <tbody>\n",
              "    <tr>\n",
              "      <td>0</td>\n",
              "      <td>3.784018</td>\n",
              "      <td>3.387293</td>\n",
              "      <td>0.458259</td>\n",
              "      <td>28:24</td>\n",
              "    </tr>\n",
              "  </tbody>\n",
              "</table>"
            ],
            "text/plain": [
              "<IPython.core.display.HTML object>"
            ]
          },
          "metadata": {
            "tags": []
          }
        }
      ]
    },
    {
      "cell_type": "code",
      "metadata": {
        "id": "iB7rHGQCwd12"
      },
      "source": [
        "# learn.fit_one_cycle(1, 1e-2)"
      ],
      "execution_count": 22,
      "outputs": []
    },
    {
      "cell_type": "code",
      "metadata": {
        "id": "_BnSuAeCwkBe"
      },
      "source": [
        "# learn.fit_one_cycle(1, 1e-3)"
      ],
      "execution_count": 23,
      "outputs": []
    },
    {
      "cell_type": "code",
      "metadata": {
        "id": "MuTm-RFjwrEX",
        "outputId": "2e57ec33-37d2-4713-a2f2-79fcbfa40958",
        "colab": {
          "base_uri": "https://localhost:8080/",
          "height": 80
        }
      },
      "source": [
        "learn.fit_one_cycle(1, 1e-3)"
      ],
      "execution_count": 24,
      "outputs": [
        {
          "output_type": "display_data",
          "data": {
            "text/html": [
              "<table border=\"1\" class=\"dataframe\">\n",
              "  <thead>\n",
              "    <tr style=\"text-align: left;\">\n",
              "      <th>epoch</th>\n",
              "      <th>train_loss</th>\n",
              "      <th>valid_loss</th>\n",
              "      <th>accuracy</th>\n",
              "      <th>time</th>\n",
              "    </tr>\n",
              "  </thead>\n",
              "  <tbody>\n",
              "    <tr>\n",
              "      <td>0</td>\n",
              "      <td>3.426994</td>\n",
              "      <td>3.330547</td>\n",
              "      <td>0.463102</td>\n",
              "      <td>28:17</td>\n",
              "    </tr>\n",
              "  </tbody>\n",
              "</table>"
            ],
            "text/plain": [
              "<IPython.core.display.HTML object>"
            ]
          },
          "metadata": {
            "tags": []
          }
        }
      ]
    },
    {
      "cell_type": "code",
      "metadata": {
        "id": "1Er2ExO8wr7Y"
      },
      "source": [
        "learn.save_encoder('pubmed_ask_fold6_first')"
      ],
      "execution_count": 25,
      "outputs": []
    },
    {
      "cell_type": "code",
      "metadata": {
        "id": "z52cZs2qwvad",
        "outputId": "ecdc1992-bca9-4e53-95ff-168cbdd1265f",
        "colab": {
          "base_uri": "https://localhost:8080/",
          "height": 80
        }
      },
      "source": [
        "learn = text_classifier_learner(data_clas,AWD_LSTM, drop_mult=0.5)\n",
        "learn.load_encoder('pubmed_ask_fold6_first')\n",
        "learn.fit_one_cycle(1, 1e-2)"
      ],
      "execution_count": 26,
      "outputs": [
        {
          "output_type": "display_data",
          "data": {
            "text/html": [
              "<table border=\"1\" class=\"dataframe\">\n",
              "  <thead>\n",
              "    <tr style=\"text-align: left;\">\n",
              "      <th>epoch</th>\n",
              "      <th>train_loss</th>\n",
              "      <th>valid_loss</th>\n",
              "      <th>accuracy</th>\n",
              "      <th>time</th>\n",
              "    </tr>\n",
              "  </thead>\n",
              "  <tbody>\n",
              "    <tr>\n",
              "      <td>0</td>\n",
              "      <td>4.019363</td>\n",
              "      <td>3.681502</td>\n",
              "      <td>0.359626</td>\n",
              "      <td>01:14</td>\n",
              "    </tr>\n",
              "  </tbody>\n",
              "</table>"
            ],
            "text/plain": [
              "<IPython.core.display.HTML object>"
            ]
          },
          "metadata": {
            "tags": []
          }
        }
      ]
    },
    {
      "cell_type": "code",
      "metadata": {
        "id": "ImwQP1PJwzxd",
        "outputId": "9a6a311d-f3c1-4f51-ca2c-1b8e8c27ebce",
        "colab": {
          "base_uri": "https://localhost:8080/",
          "height": 80
        }
      },
      "source": [
        "learn.freeze_to(-2)\n",
        "learn.fit_one_cycle(1, slice(5e-3/2., 5e-3))"
      ],
      "execution_count": 27,
      "outputs": [
        {
          "output_type": "display_data",
          "data": {
            "text/html": [
              "<table border=\"1\" class=\"dataframe\">\n",
              "  <thead>\n",
              "    <tr style=\"text-align: left;\">\n",
              "      <th>epoch</th>\n",
              "      <th>train_loss</th>\n",
              "      <th>valid_loss</th>\n",
              "      <th>accuracy</th>\n",
              "      <th>time</th>\n",
              "    </tr>\n",
              "  </thead>\n",
              "  <tbody>\n",
              "    <tr>\n",
              "      <td>0</td>\n",
              "      <td>2.875278</td>\n",
              "      <td>2.947713</td>\n",
              "      <td>0.487968</td>\n",
              "      <td>01:15</td>\n",
              "    </tr>\n",
              "  </tbody>\n",
              "</table>"
            ],
            "text/plain": [
              "<IPython.core.display.HTML object>"
            ]
          },
          "metadata": {
            "tags": []
          }
        }
      ]
    },
    {
      "cell_type": "code",
      "metadata": {
        "id": "Owff_BJXw53u",
        "outputId": "0ddc9f27-9e91-47b0-ce64-91ba5eb35286",
        "colab": {
          "base_uri": "https://localhost:8080/",
          "height": 80
        }
      },
      "source": [
        "learn.unfreeze()\n",
        "learn.fit_one_cycle(1, slice(2e-3/100, 2e-3))"
      ],
      "execution_count": 28,
      "outputs": [
        {
          "output_type": "display_data",
          "data": {
            "text/html": [
              "<table border=\"1\" class=\"dataframe\">\n",
              "  <thead>\n",
              "    <tr style=\"text-align: left;\">\n",
              "      <th>epoch</th>\n",
              "      <th>train_loss</th>\n",
              "      <th>valid_loss</th>\n",
              "      <th>accuracy</th>\n",
              "      <th>time</th>\n",
              "    </tr>\n",
              "  </thead>\n",
              "  <tbody>\n",
              "    <tr>\n",
              "      <td>0</td>\n",
              "      <td>2.314969</td>\n",
              "      <td>2.484807</td>\n",
              "      <td>0.570856</td>\n",
              "      <td>03:21</td>\n",
              "    </tr>\n",
              "  </tbody>\n",
              "</table>"
            ],
            "text/plain": [
              "<IPython.core.display.HTML object>"
            ]
          },
          "metadata": {
            "tags": []
          }
        }
      ]
    },
    {
      "cell_type": "code",
      "metadata": {
        "id": "lqAyu56V8Waq",
        "outputId": "b753a209-a352-4e2f-a63f-4cb521b7b648",
        "colab": {
          "base_uri": "https://localhost:8080/",
          "height": 111
        }
      },
      "source": [
        "learn.fit_one_cycle(2, slice(2e-3/100, 2e-3))"
      ],
      "execution_count": 29,
      "outputs": [
        {
          "output_type": "display_data",
          "data": {
            "text/html": [
              "<table border=\"1\" class=\"dataframe\">\n",
              "  <thead>\n",
              "    <tr style=\"text-align: left;\">\n",
              "      <th>epoch</th>\n",
              "      <th>train_loss</th>\n",
              "      <th>valid_loss</th>\n",
              "      <th>accuracy</th>\n",
              "      <th>time</th>\n",
              "    </tr>\n",
              "  </thead>\n",
              "  <tbody>\n",
              "    <tr>\n",
              "      <td>0</td>\n",
              "      <td>2.013097</td>\n",
              "      <td>2.174501</td>\n",
              "      <td>0.618984</td>\n",
              "      <td>03:10</td>\n",
              "    </tr>\n",
              "    <tr>\n",
              "      <td>1</td>\n",
              "      <td>1.741751</td>\n",
              "      <td>2.019829</td>\n",
              "      <td>0.647059</td>\n",
              "      <td>03:16</td>\n",
              "    </tr>\n",
              "  </tbody>\n",
              "</table>"
            ],
            "text/plain": [
              "<IPython.core.display.HTML object>"
            ]
          },
          "metadata": {
            "tags": []
          }
        }
      ]
    },
    {
      "cell_type": "code",
      "metadata": {
        "id": "a7I1xMRp8bUd",
        "outputId": "25c11437-f541-4538-9417-e14d41c34085",
        "colab": {
          "base_uri": "https://localhost:8080/",
          "height": 111
        }
      },
      "source": [
        "learn.fit_one_cycle(2, slice(2e-3/100, 2e-3))"
      ],
      "execution_count": 30,
      "outputs": [
        {
          "output_type": "display_data",
          "data": {
            "text/html": [
              "<table border=\"1\" class=\"dataframe\">\n",
              "  <thead>\n",
              "    <tr style=\"text-align: left;\">\n",
              "      <th>epoch</th>\n",
              "      <th>train_loss</th>\n",
              "      <th>valid_loss</th>\n",
              "      <th>accuracy</th>\n",
              "      <th>time</th>\n",
              "    </tr>\n",
              "  </thead>\n",
              "  <tbody>\n",
              "    <tr>\n",
              "      <td>0</td>\n",
              "      <td>1.556424</td>\n",
              "      <td>1.838748</td>\n",
              "      <td>0.681818</td>\n",
              "      <td>03:05</td>\n",
              "    </tr>\n",
              "    <tr>\n",
              "      <td>1</td>\n",
              "      <td>1.365404</td>\n",
              "      <td>1.748541</td>\n",
              "      <td>0.696524</td>\n",
              "      <td>03:15</td>\n",
              "    </tr>\n",
              "  </tbody>\n",
              "</table>"
            ],
            "text/plain": [
              "<IPython.core.display.HTML object>"
            ]
          },
          "metadata": {
            "tags": []
          }
        }
      ]
    },
    {
      "cell_type": "code",
      "metadata": {
        "id": "UAnti-XmGVfO",
        "outputId": "05ee5c02-89ae-4e04-d7b1-438122629bb1",
        "colab": {
          "base_uri": "https://localhost:8080/",
          "height": 111
        }
      },
      "source": [
        "learn.fit_one_cycle(2, slice(2e-3/100, 2e-3))"
      ],
      "execution_count": 31,
      "outputs": [
        {
          "output_type": "display_data",
          "data": {
            "text/html": [
              "<table border=\"1\" class=\"dataframe\">\n",
              "  <thead>\n",
              "    <tr style=\"text-align: left;\">\n",
              "      <th>epoch</th>\n",
              "      <th>train_loss</th>\n",
              "      <th>valid_loss</th>\n",
              "      <th>accuracy</th>\n",
              "      <th>time</th>\n",
              "    </tr>\n",
              "  </thead>\n",
              "  <tbody>\n",
              "    <tr>\n",
              "      <td>0</td>\n",
              "      <td>1.213864</td>\n",
              "      <td>1.556151</td>\n",
              "      <td>0.725936</td>\n",
              "      <td>03:13</td>\n",
              "    </tr>\n",
              "    <tr>\n",
              "      <td>1</td>\n",
              "      <td>1.083843</td>\n",
              "      <td>1.486471</td>\n",
              "      <td>0.732620</td>\n",
              "      <td>03:13</td>\n",
              "    </tr>\n",
              "  </tbody>\n",
              "</table>"
            ],
            "text/plain": [
              "<IPython.core.display.HTML object>"
            ]
          },
          "metadata": {
            "tags": []
          }
        }
      ]
    },
    {
      "cell_type": "code",
      "metadata": {
        "id": "bIft7W25GwSu",
        "outputId": "3cf8637d-a5b1-4382-c3c1-35787405bae1",
        "colab": {
          "base_uri": "https://localhost:8080/",
          "height": 111
        }
      },
      "source": [
        "learn.fit_one_cycle(2, slice(2e-3/100, 2e-3))"
      ],
      "execution_count": 32,
      "outputs": [
        {
          "output_type": "display_data",
          "data": {
            "text/html": [
              "<table border=\"1\" class=\"dataframe\">\n",
              "  <thead>\n",
              "    <tr style=\"text-align: left;\">\n",
              "      <th>epoch</th>\n",
              "      <th>train_loss</th>\n",
              "      <th>valid_loss</th>\n",
              "      <th>accuracy</th>\n",
              "      <th>time</th>\n",
              "    </tr>\n",
              "  </thead>\n",
              "  <tbody>\n",
              "    <tr>\n",
              "      <td>0</td>\n",
              "      <td>1.024454</td>\n",
              "      <td>1.400401</td>\n",
              "      <td>0.744652</td>\n",
              "      <td>03:17</td>\n",
              "    </tr>\n",
              "    <tr>\n",
              "      <td>1</td>\n",
              "      <td>0.864913</td>\n",
              "      <td>1.327039</td>\n",
              "      <td>0.755348</td>\n",
              "      <td>03:18</td>\n",
              "    </tr>\n",
              "  </tbody>\n",
              "</table>"
            ],
            "text/plain": [
              "<IPython.core.display.HTML object>"
            ]
          },
          "metadata": {
            "tags": []
          }
        }
      ]
    },
    {
      "cell_type": "code",
      "metadata": {
        "id": "EEHszVRvGyFt",
        "outputId": "e0338ab8-103f-40a5-87b2-c1b0e2934081",
        "colab": {
          "base_uri": "https://localhost:8080/",
          "height": 111
        }
      },
      "source": [
        "learn.fit_one_cycle(2, slice(2e-3/100, 2e-3))"
      ],
      "execution_count": 33,
      "outputs": [
        {
          "output_type": "display_data",
          "data": {
            "text/html": [
              "<table border=\"1\" class=\"dataframe\">\n",
              "  <thead>\n",
              "    <tr style=\"text-align: left;\">\n",
              "      <th>epoch</th>\n",
              "      <th>train_loss</th>\n",
              "      <th>valid_loss</th>\n",
              "      <th>accuracy</th>\n",
              "      <th>time</th>\n",
              "    </tr>\n",
              "  </thead>\n",
              "  <tbody>\n",
              "    <tr>\n",
              "      <td>0</td>\n",
              "      <td>0.842242</td>\n",
              "      <td>1.311477</td>\n",
              "      <td>0.762032</td>\n",
              "      <td>03:26</td>\n",
              "    </tr>\n",
              "    <tr>\n",
              "      <td>1</td>\n",
              "      <td>0.756831</td>\n",
              "      <td>1.255194</td>\n",
              "      <td>0.767380</td>\n",
              "      <td>03:14</td>\n",
              "    </tr>\n",
              "  </tbody>\n",
              "</table>"
            ],
            "text/plain": [
              "<IPython.core.display.HTML object>"
            ]
          },
          "metadata": {
            "tags": []
          }
        }
      ]
    },
    {
      "cell_type": "code",
      "metadata": {
        "id": "XsHfrhCHG3dN",
        "outputId": "1d98e237-7080-4cc4-ddf5-1e685e1a9d33",
        "colab": {
          "base_uri": "https://localhost:8080/",
          "height": 173
        }
      },
      "source": [
        "learn.fit_one_cycle(4, slice(2e-3/100, 2e-3))"
      ],
      "execution_count": 34,
      "outputs": [
        {
          "output_type": "display_data",
          "data": {
            "text/html": [
              "<table border=\"1\" class=\"dataframe\">\n",
              "  <thead>\n",
              "    <tr style=\"text-align: left;\">\n",
              "      <th>epoch</th>\n",
              "      <th>train_loss</th>\n",
              "      <th>valid_loss</th>\n",
              "      <th>accuracy</th>\n",
              "      <th>time</th>\n",
              "    </tr>\n",
              "  </thead>\n",
              "  <tbody>\n",
              "    <tr>\n",
              "      <td>0</td>\n",
              "      <td>0.704928</td>\n",
              "      <td>1.223510</td>\n",
              "      <td>0.778075</td>\n",
              "      <td>03:27</td>\n",
              "    </tr>\n",
              "    <tr>\n",
              "      <td>1</td>\n",
              "      <td>0.706269</td>\n",
              "      <td>1.233299</td>\n",
              "      <td>0.766043</td>\n",
              "      <td>03:16</td>\n",
              "    </tr>\n",
              "    <tr>\n",
              "      <td>2</td>\n",
              "      <td>0.566305</td>\n",
              "      <td>1.129396</td>\n",
              "      <td>0.792781</td>\n",
              "      <td>03:23</td>\n",
              "    </tr>\n",
              "    <tr>\n",
              "      <td>3</td>\n",
              "      <td>0.498338</td>\n",
              "      <td>1.101517</td>\n",
              "      <td>0.791444</td>\n",
              "      <td>03:15</td>\n",
              "    </tr>\n",
              "  </tbody>\n",
              "</table>"
            ],
            "text/plain": [
              "<IPython.core.display.HTML object>"
            ]
          },
          "metadata": {
            "tags": []
          }
        }
      ]
    },
    {
      "cell_type": "code",
      "metadata": {
        "id": "0Zsd99isb9EQ",
        "outputId": "671fc9bd-67c2-4a5f-de60-6fdedb51dce8",
        "colab": {
          "base_uri": "https://localhost:8080/",
          "height": 173
        }
      },
      "source": [
        "learn.fit_one_cycle(4, slice(2e-3/100, 2e-3))"
      ],
      "execution_count": 35,
      "outputs": [
        {
          "output_type": "display_data",
          "data": {
            "text/html": [
              "<table border=\"1\" class=\"dataframe\">\n",
              "  <thead>\n",
              "    <tr style=\"text-align: left;\">\n",
              "      <th>epoch</th>\n",
              "      <th>train_loss</th>\n",
              "      <th>valid_loss</th>\n",
              "      <th>accuracy</th>\n",
              "      <th>time</th>\n",
              "    </tr>\n",
              "  </thead>\n",
              "  <tbody>\n",
              "    <tr>\n",
              "      <td>0</td>\n",
              "      <td>0.505782</td>\n",
              "      <td>1.118047</td>\n",
              "      <td>0.787433</td>\n",
              "      <td>03:21</td>\n",
              "    </tr>\n",
              "    <tr>\n",
              "      <td>1</td>\n",
              "      <td>0.527525</td>\n",
              "      <td>1.070783</td>\n",
              "      <td>0.788770</td>\n",
              "      <td>03:25</td>\n",
              "    </tr>\n",
              "    <tr>\n",
              "      <td>2</td>\n",
              "      <td>0.450071</td>\n",
              "      <td>1.077508</td>\n",
              "      <td>0.815508</td>\n",
              "      <td>03:16</td>\n",
              "    </tr>\n",
              "    <tr>\n",
              "      <td>3</td>\n",
              "      <td>0.382608</td>\n",
              "      <td>1.044870</td>\n",
              "      <td>0.811497</td>\n",
              "      <td>03:26</td>\n",
              "    </tr>\n",
              "  </tbody>\n",
              "</table>"
            ],
            "text/plain": [
              "<IPython.core.display.HTML object>"
            ]
          },
          "metadata": {
            "tags": []
          }
        }
      ]
    },
    {
      "cell_type": "code",
      "metadata": {
        "id": "atNWNKDFPbuI",
        "outputId": "d83633ae-dc87-4438-bb02-98294ebc2488",
        "colab": {
          "base_uri": "https://localhost:8080/",
          "height": 173
        }
      },
      "source": [
        "learn.fit_one_cycle(4, slice(2e-3/100, 2e-3))"
      ],
      "execution_count": 36,
      "outputs": [
        {
          "output_type": "display_data",
          "data": {
            "text/html": [
              "<table border=\"1\" class=\"dataframe\">\n",
              "  <thead>\n",
              "    <tr style=\"text-align: left;\">\n",
              "      <th>epoch</th>\n",
              "      <th>train_loss</th>\n",
              "      <th>valid_loss</th>\n",
              "      <th>accuracy</th>\n",
              "      <th>time</th>\n",
              "    </tr>\n",
              "  </thead>\n",
              "  <tbody>\n",
              "    <tr>\n",
              "      <td>0</td>\n",
              "      <td>0.398720</td>\n",
              "      <td>1.082238</td>\n",
              "      <td>0.807487</td>\n",
              "      <td>03:11</td>\n",
              "    </tr>\n",
              "    <tr>\n",
              "      <td>1</td>\n",
              "      <td>0.422349</td>\n",
              "      <td>1.106424</td>\n",
              "      <td>0.811497</td>\n",
              "      <td>03:26</td>\n",
              "    </tr>\n",
              "    <tr>\n",
              "      <td>2</td>\n",
              "      <td>0.358505</td>\n",
              "      <td>1.084593</td>\n",
              "      <td>0.823529</td>\n",
              "      <td>03:26</td>\n",
              "    </tr>\n",
              "    <tr>\n",
              "      <td>3</td>\n",
              "      <td>0.307162</td>\n",
              "      <td>1.046903</td>\n",
              "      <td>0.826203</td>\n",
              "      <td>03:23</td>\n",
              "    </tr>\n",
              "  </tbody>\n",
              "</table>"
            ],
            "text/plain": [
              "<IPython.core.display.HTML object>"
            ]
          },
          "metadata": {
            "tags": []
          }
        }
      ]
    },
    {
      "cell_type": "code",
      "metadata": {
        "id": "rKrBTZ0T1uVA",
        "outputId": "efa51959-67ff-49d2-bcc9-faca73531f62",
        "colab": {
          "base_uri": "https://localhost:8080/",
          "height": 173
        }
      },
      "source": [
        "learn.fit_one_cycle(4, slice(2e-3/100, 2e-3))"
      ],
      "execution_count": 37,
      "outputs": [
        {
          "output_type": "display_data",
          "data": {
            "text/html": [
              "<table border=\"1\" class=\"dataframe\">\n",
              "  <thead>\n",
              "    <tr style=\"text-align: left;\">\n",
              "      <th>epoch</th>\n",
              "      <th>train_loss</th>\n",
              "      <th>valid_loss</th>\n",
              "      <th>accuracy</th>\n",
              "      <th>time</th>\n",
              "    </tr>\n",
              "  </thead>\n",
              "  <tbody>\n",
              "    <tr>\n",
              "      <td>0</td>\n",
              "      <td>0.308522</td>\n",
              "      <td>1.062109</td>\n",
              "      <td>0.818182</td>\n",
              "      <td>03:32</td>\n",
              "    </tr>\n",
              "    <tr>\n",
              "      <td>1</td>\n",
              "      <td>0.329750</td>\n",
              "      <td>1.084863</td>\n",
              "      <td>0.804813</td>\n",
              "      <td>03:31</td>\n",
              "    </tr>\n",
              "    <tr>\n",
              "      <td>2</td>\n",
              "      <td>0.308079</td>\n",
              "      <td>1.072810</td>\n",
              "      <td>0.823529</td>\n",
              "      <td>03:11</td>\n",
              "    </tr>\n",
              "    <tr>\n",
              "      <td>3</td>\n",
              "      <td>0.254675</td>\n",
              "      <td>1.060218</td>\n",
              "      <td>0.818182</td>\n",
              "      <td>03:19</td>\n",
              "    </tr>\n",
              "  </tbody>\n",
              "</table>"
            ],
            "text/plain": [
              "<IPython.core.display.HTML object>"
            ]
          },
          "metadata": {
            "tags": []
          }
        }
      ]
    },
    {
      "cell_type": "code",
      "metadata": {
        "id": "ajQC6WDg1yA9",
        "outputId": "88c4b4f3-0bcf-4284-8cc1-29f5d1cc6d4b",
        "colab": {
          "base_uri": "https://localhost:8080/",
          "height": 173
        }
      },
      "source": [
        "learn.fit_one_cycle(4, slice(2e-3/100, 2e-3))"
      ],
      "execution_count": 38,
      "outputs": [
        {
          "output_type": "display_data",
          "data": {
            "text/html": [
              "<table border=\"1\" class=\"dataframe\">\n",
              "  <thead>\n",
              "    <tr style=\"text-align: left;\">\n",
              "      <th>epoch</th>\n",
              "      <th>train_loss</th>\n",
              "      <th>valid_loss</th>\n",
              "      <th>accuracy</th>\n",
              "      <th>time</th>\n",
              "    </tr>\n",
              "  </thead>\n",
              "  <tbody>\n",
              "    <tr>\n",
              "      <td>0</td>\n",
              "      <td>0.255687</td>\n",
              "      <td>1.086500</td>\n",
              "      <td>0.822192</td>\n",
              "      <td>03:19</td>\n",
              "    </tr>\n",
              "    <tr>\n",
              "      <td>1</td>\n",
              "      <td>0.329694</td>\n",
              "      <td>1.084687</td>\n",
              "      <td>0.816845</td>\n",
              "      <td>03:18</td>\n",
              "    </tr>\n",
              "    <tr>\n",
              "      <td>2</td>\n",
              "      <td>0.263176</td>\n",
              "      <td>1.053213</td>\n",
              "      <td>0.820856</td>\n",
              "      <td>03:13</td>\n",
              "    </tr>\n",
              "    <tr>\n",
              "      <td>3</td>\n",
              "      <td>0.212667</td>\n",
              "      <td>0.999137</td>\n",
              "      <td>0.820856</td>\n",
              "      <td>03:20</td>\n",
              "    </tr>\n",
              "  </tbody>\n",
              "</table>"
            ],
            "text/plain": [
              "<IPython.core.display.HTML object>"
            ]
          },
          "metadata": {
            "tags": []
          }
        }
      ]
    },
    {
      "cell_type": "code",
      "metadata": {
        "id": "KKydb0B4BKGk",
        "outputId": "5f6a00b6-3c9d-4992-be3f-7b6fd0a8a15f",
        "colab": {
          "base_uri": "https://localhost:8080/",
          "height": 173
        }
      },
      "source": [
        "learn.fit_one_cycle(4, slice(2e-3/100, 2e-3))"
      ],
      "execution_count": 39,
      "outputs": [
        {
          "output_type": "display_data",
          "data": {
            "text/html": [
              "<table border=\"1\" class=\"dataframe\">\n",
              "  <thead>\n",
              "    <tr style=\"text-align: left;\">\n",
              "      <th>epoch</th>\n",
              "      <th>train_loss</th>\n",
              "      <th>valid_loss</th>\n",
              "      <th>accuracy</th>\n",
              "      <th>time</th>\n",
              "    </tr>\n",
              "  </thead>\n",
              "  <tbody>\n",
              "    <tr>\n",
              "      <td>0</td>\n",
              "      <td>0.240769</td>\n",
              "      <td>1.112296</td>\n",
              "      <td>0.818182</td>\n",
              "      <td>03:25</td>\n",
              "    </tr>\n",
              "    <tr>\n",
              "      <td>1</td>\n",
              "      <td>0.265858</td>\n",
              "      <td>1.078119</td>\n",
              "      <td>0.824866</td>\n",
              "      <td>03:26</td>\n",
              "    </tr>\n",
              "    <tr>\n",
              "      <td>2</td>\n",
              "      <td>0.250316</td>\n",
              "      <td>1.065041</td>\n",
              "      <td>0.827540</td>\n",
              "      <td>03:20</td>\n",
              "    </tr>\n",
              "    <tr>\n",
              "      <td>3</td>\n",
              "      <td>0.224983</td>\n",
              "      <td>1.079978</td>\n",
              "      <td>0.828877</td>\n",
              "      <td>03:28</td>\n",
              "    </tr>\n",
              "  </tbody>\n",
              "</table>"
            ],
            "text/plain": [
              "<IPython.core.display.HTML object>"
            ]
          },
          "metadata": {
            "tags": []
          }
        }
      ]
    },
    {
      "cell_type": "code",
      "metadata": {
        "id": "T2APKtFKBpGY",
        "outputId": "352df7fb-bd02-4096-d86d-5fe5306638a5",
        "colab": {
          "base_uri": "https://localhost:8080/",
          "height": 173
        }
      },
      "source": [
        "learn.fit_one_cycle(4, slice(2e-3/100, 2e-3))"
      ],
      "execution_count": 40,
      "outputs": [
        {
          "output_type": "display_data",
          "data": {
            "text/html": [
              "<table border=\"1\" class=\"dataframe\">\n",
              "  <thead>\n",
              "    <tr style=\"text-align: left;\">\n",
              "      <th>epoch</th>\n",
              "      <th>train_loss</th>\n",
              "      <th>valid_loss</th>\n",
              "      <th>accuracy</th>\n",
              "      <th>time</th>\n",
              "    </tr>\n",
              "  </thead>\n",
              "  <tbody>\n",
              "    <tr>\n",
              "      <td>0</td>\n",
              "      <td>0.215013</td>\n",
              "      <td>1.052123</td>\n",
              "      <td>0.826203</td>\n",
              "      <td>03:15</td>\n",
              "    </tr>\n",
              "    <tr>\n",
              "      <td>1</td>\n",
              "      <td>0.249723</td>\n",
              "      <td>1.118284</td>\n",
              "      <td>0.819519</td>\n",
              "      <td>03:13</td>\n",
              "    </tr>\n",
              "    <tr>\n",
              "      <td>2</td>\n",
              "      <td>0.211082</td>\n",
              "      <td>1.141509</td>\n",
              "      <td>0.835562</td>\n",
              "      <td>03:27</td>\n",
              "    </tr>\n",
              "    <tr>\n",
              "      <td>3</td>\n",
              "      <td>0.180234</td>\n",
              "      <td>1.084579</td>\n",
              "      <td>0.835562</td>\n",
              "      <td>03:12</td>\n",
              "    </tr>\n",
              "  </tbody>\n",
              "</table>"
            ],
            "text/plain": [
              "<IPython.core.display.HTML object>"
            ]
          },
          "metadata": {
            "tags": []
          }
        }
      ]
    },
    {
      "cell_type": "code",
      "metadata": {
        "id": "qtTypA1sPgLU",
        "outputId": "2c23140e-2388-483c-e96f-ea76d2f66103",
        "colab": {
          "base_uri": "https://localhost:8080/",
          "height": 111
        }
      },
      "source": [
        "learn.fit_one_cycle(2, slice(2e-3/100, 2e-3))"
      ],
      "execution_count": 41,
      "outputs": [
        {
          "output_type": "display_data",
          "data": {
            "text/html": [
              "<table border=\"1\" class=\"dataframe\">\n",
              "  <thead>\n",
              "    <tr style=\"text-align: left;\">\n",
              "      <th>epoch</th>\n",
              "      <th>train_loss</th>\n",
              "      <th>valid_loss</th>\n",
              "      <th>accuracy</th>\n",
              "      <th>time</th>\n",
              "    </tr>\n",
              "  </thead>\n",
              "  <tbody>\n",
              "    <tr>\n",
              "      <td>0</td>\n",
              "      <td>0.226840</td>\n",
              "      <td>1.179665</td>\n",
              "      <td>0.822192</td>\n",
              "      <td>03:36</td>\n",
              "    </tr>\n",
              "    <tr>\n",
              "      <td>1</td>\n",
              "      <td>0.199921</td>\n",
              "      <td>1.180077</td>\n",
              "      <td>0.822192</td>\n",
              "      <td>03:38</td>\n",
              "    </tr>\n",
              "  </tbody>\n",
              "</table>"
            ],
            "text/plain": [
              "<IPython.core.display.HTML object>"
            ]
          },
          "metadata": {
            "tags": []
          }
        }
      ]
    },
    {
      "cell_type": "code",
      "metadata": {
        "id": "b242kBsTUp9Y",
        "outputId": "8cdcc55d-cf6e-4f73-b164-e2f26cc52830",
        "colab": {
          "base_uri": "https://localhost:8080/",
          "height": 111
        }
      },
      "source": [
        "learn.fit_one_cycle(2, slice(2e-3/100, 2e-3))"
      ],
      "execution_count": 42,
      "outputs": [
        {
          "output_type": "display_data",
          "data": {
            "text/html": [
              "<table border=\"1\" class=\"dataframe\">\n",
              "  <thead>\n",
              "    <tr style=\"text-align: left;\">\n",
              "      <th>epoch</th>\n",
              "      <th>train_loss</th>\n",
              "      <th>valid_loss</th>\n",
              "      <th>accuracy</th>\n",
              "      <th>time</th>\n",
              "    </tr>\n",
              "  </thead>\n",
              "  <tbody>\n",
              "    <tr>\n",
              "      <td>0</td>\n",
              "      <td>0.238248</td>\n",
              "      <td>1.243653</td>\n",
              "      <td>0.815508</td>\n",
              "      <td>03:17</td>\n",
              "    </tr>\n",
              "    <tr>\n",
              "      <td>1</td>\n",
              "      <td>0.195370</td>\n",
              "      <td>1.156435</td>\n",
              "      <td>0.830214</td>\n",
              "      <td>03:18</td>\n",
              "    </tr>\n",
              "  </tbody>\n",
              "</table>"
            ],
            "text/plain": [
              "<IPython.core.display.HTML object>"
            ]
          },
          "metadata": {
            "tags": []
          }
        }
      ]
    },
    {
      "cell_type": "code",
      "metadata": {
        "id": "Duwf1Ih5VeDZ",
        "outputId": "94081138-18cc-416c-890c-39eaee03aa3a",
        "colab": {
          "base_uri": "https://localhost:8080/",
          "height": 80
        }
      },
      "source": [
        "learn.fit_one_cycle(1, slice(2e-3/100, 2e-3))"
      ],
      "execution_count": 43,
      "outputs": [
        {
          "output_type": "display_data",
          "data": {
            "text/html": [
              "<table border=\"1\" class=\"dataframe\">\n",
              "  <thead>\n",
              "    <tr style=\"text-align: left;\">\n",
              "      <th>epoch</th>\n",
              "      <th>train_loss</th>\n",
              "      <th>valid_loss</th>\n",
              "      <th>accuracy</th>\n",
              "      <th>time</th>\n",
              "    </tr>\n",
              "  </thead>\n",
              "  <tbody>\n",
              "    <tr>\n",
              "      <td>0</td>\n",
              "      <td>0.205385</td>\n",
              "      <td>1.160886</td>\n",
              "      <td>0.826203</td>\n",
              "      <td>03:21</td>\n",
              "    </tr>\n",
              "  </tbody>\n",
              "</table>"
            ],
            "text/plain": [
              "<IPython.core.display.HTML object>"
            ]
          },
          "metadata": {
            "tags": []
          }
        }
      ]
    },
    {
      "cell_type": "code",
      "metadata": {
        "id": "c65d-osfDUXm"
      },
      "source": [
        "# save the best model\n",
        "\n",
        "learn.save_encoder('pubmed_ask_mixed_fold6')"
      ],
      "execution_count": 44,
      "outputs": []
    },
    {
      "cell_type": "markdown",
      "metadata": {
        "id": "rCwZU0E2RgM6"
      },
      "source": [
        "# Part three: Predict on the test dataset"
      ]
    },
    {
      "cell_type": "code",
      "metadata": {
        "id": "gDm72c-dOu7d",
        "outputId": "999aa7a6-d33b-4d35-d46d-cceb932621fe",
        "colab": {
          "base_uri": "https://localhost:8080/",
          "height": 17
        }
      },
      "source": [
        "# use the test data for prediction\n",
        "\n",
        "preds, y = learn.get_preds(DatasetType.Test)"
      ],
      "execution_count": 45,
      "outputs": [
        {
          "output_type": "display_data",
          "data": {
            "text/html": [
              ""
            ],
            "text/plain": [
              "<IPython.core.display.HTML object>"
            ]
          },
          "metadata": {
            "tags": []
          }
        }
      ]
    },
    {
      "cell_type": "code",
      "metadata": {
        "id": "6tFSQcsWPvxn",
        "outputId": "2f256da9-37de-4715-f7ef-6c11dcfbbe0d",
        "colab": {
          "base_uri": "https://localhost:8080/",
          "height": 105
        }
      },
      "source": [
        "predictions, *_ = learn.get_preds(DatasetType.Test)\n",
        "labels = np.argmax(predictions, 1)\n",
        "predict_list = labels.tolist()\n",
        "standard_list = test[0].tolist()\n",
        "\n",
        "print(len(predict_list))\n",
        "print(len(standard_list))\n",
        "\n",
        "print(predict_list)\n",
        "print(standard_list)"
      ],
      "execution_count": 46,
      "outputs": [
        {
          "output_type": "display_data",
          "data": {
            "text/html": [
              ""
            ],
            "text/plain": [
              "<IPython.core.display.HTML object>"
            ]
          },
          "metadata": {
            "tags": []
          }
        },
        {
          "output_type": "stream",
          "text": [
            "866\n",
            "866\n",
            "[2, 983, 8, 1026, 8, 8, 8, 8, 8, 8, 8, 102, 588, 27, 31, 34, 37, 37, 37, 37, 37, 37, 37, 37, 37, 37, 745, 41, 41, 41, 426, 49, 10, 49, 49, 100, 100, 100, 100, 100, 51, 53, 53, 53, 53, 53, 842, 56, 58, 58, 577, 60, 64, 67, 71, 71, 76, 76, 864, 182, 79, 265, 265, 265, 265, 79, 79, 79, 79, 79, 79, 79, 79, 79, 79, 79, 79, 79, 79, 79, 79, 79, 79, 79, 79, 79, 79, 79, 79, 79, 79, 289, 79, 79, 79, 79, 265, 80, 80, 80, 80, 80, 80, 81, 491, 83, 89, 90, 91, 91, 91, 91, 91, 94, 94, 94, 94, 94, 94, 94, 94, 94, 94, 96, 96, 226, 100, 100, 100, 100, 100, 100, 230, 106, 108, 108, 108, 108, 788, 462, 111, 111, 111, 112, 113, 114, 398, 117, 117, 471, 983, 109, 122, 4, 125, 1025, 125, 125, 125, 125, 125, 125, 125, 772, 741, 319, 135, 89, 970, 139, 151, 151, 156, 157, 157, 163, 178, 171, 172, 172, 172, 172, 172, 173, 71, 179, 182, 182, 182, 183, 183, 183, 183, 184, 179, 187, 187, 695, 189, 190, 190, 191, 197, 197, 202, 205, 210, 210, 211, 767, 214, 214, 214, 896, 896, 896, 214, 214, 214, 58, 214, 214, 214, 214, 634, 499, 220, 223, 224, 225, 265, 228, 228, 228, 228, 228, 228, 228, 228, 228, 228, 228, 228, 228, 260, 98, 328, 236, 238, 242, 243, 1025, 992, 243, 243, 243, 243, 638, 245, 245, 245, 876, 245, 246, 246, 249, 254, 289, 264, 265, 265, 265, 265, 265, 265, 265, 265, 265, 265, 704, 265, 265, 265, 265, 265, 265, 265, 265, 265, 265, 265, 79, 265, 265, 265, 269, 269, 277, 277, 277, 277, 277, 183, 281, 612, 284, 288, 289, 289, 289, 289, 289, 289, 289, 289, 524, 289, 182, 289, 289, 289, 289, 289, 289, 289, 289, 289, 289, 265, 289, 289, 291, 697, 281, 293, 298, 298, 300, 775, 301, 704, 309, 309, 309, 318, 318, 739, 739, 320, 591, 591, 591, 591, 503, 503, 503, 503, 503, 503, 503, 503, 444, 992, 729, 332, 332, 332, 336, 337, 337, 337, 337, 100, 337, 338, 341, 341, 342, 342, 343, 343, 344, 344, 475, 197, 402, 402, 359, 362, 363, 794, 370, 1025, 374, 375, 517, 426, 391, 391, 391, 391, 391, 391, 26, 339, 360, 402, 405, 408, 613, 408, 408, 88, 418, 418, 419, 419, 419, 419, 419, 129, 864, 419, 419, 424, 424, 426, 427, 388, 427, 427, 427, 427, 427, 427, 427, 427, 853, 780, 430, 238, 664, 439, 441, 441, 441, 443, 444, 892, 268, 89, 455, 231, 231, 231, 231, 455, 489, 459, 460, 460, 460, 460, 470, 473, 857, 474, 202, 475, 475, 475, 475, 475, 591, 216, 486, 58, 489, 491, 491, 491, 491, 491, 497, 499, 140, 140, 499, 215, 506, 375, 472, 850, 524, 465, 524, 293, 623, 530, 530, 530, 531, 1025, 541, 541, 541, 541, 545, 545, 545, 545, 546, 548, 548, 659, 861, 565, 565, 567, 491, 889, 579, 485, 590, 590, 591, 780, 591, 592, 592, 592, 716, 597, 601, 228, 610, 610, 58, 830, 614, 76, 614, 614, 614, 614, 614, 265, 392, 623, 623, 1000, 623, 291, 427, 203, 635, 644, 644, 646, 646, 646, 646, 318, 646, 215, 293, 652, 652, 652, 656, 894, 491, 664, 666, 677, 182, 686, 687, 530, 691, 693, 700, 704, 704, 704, 704, 579, 708, 709, 710, 710, 717, 461, 723, 343, 745, 745, 735, 735, 37, 745, 745, 749, 753, 753, 755, 695, 763, 508, 728, 567, 876, 337, 769, 770, 769, 205, 729, 779, 723, 773, 765, 723, 49, 49, 775, 775, 775, 775, 775, 775, 775, 776, 794, 125, 801, 802, 753, 1025, 925, 288, 288, 806, 113, 806, 806, 809, 809, 810, 817, 100, 826, 826, 826, 826, 826, 830, 830, 830, 830, 830, 830, 830, 830, 835, 836, 838, 840, 840, 840, 329, 847, 644, 794, 848, 852, 852, 852, 852, 853, 853, 853, 853, 853, 856, 421, 613, 146, 864, 865, 866, 868, 868, 1025, 876, 609, 888, 890, 564, 896, 579, 896, 896, 896, 896, 896, 896, 896, 896, 902, 182, 904, 66, 919, 966, 935, 935, 936, 937, 937, 937, 937, 937, 107, 948, 948, 915, 948, 949, 949, 949, 949, 949, 949, 949, 949, 949, 949, 949, 949, 949, 949, 949, 949, 949, 949, 949, 949, 949, 949, 949, 949, 949, 949, 949, 949, 949, 949, 949, 949, 949, 949, 949, 949, 949, 949, 949, 949, 949, 949, 949, 949, 949, 949, 949, 949, 949, 949, 949, 949, 949, 949, 949, 949, 949, 949, 949, 949, 949, 949, 949, 949, 949, 949, 949, 949, 949, 949, 949, 949, 949, 949, 949, 949, 949, 949, 949, 949, 949, 949, 949, 949, 949, 949, 949, 949, 949, 949, 949, 949, 949, 949, 949, 949, 949, 949, 949, 949, 949, 950, 950, 950, 950, 952, 952, 952, 952, 955, 956, 957, 958, 43, 967, 9, 976, 976, 424, 424, 980, 1025, 994, 999, 1010, 1015, 1015, 925, 1028, 1026, 925, 1026, 1000, 1028, 1029, 1029, 1028, 1035]\n",
            "[2, 5, 8, 8, 8, 8, 8, 8, 8, 8, 8, 8, 8, 27, 31, 34, 37, 37, 37, 37, 37, 37, 37, 37, 37, 37, 39, 41, 41, 41, 46, 49, 49, 49, 49, 49, 49, 49, 49, 49, 51, 53, 53, 53, 53, 53, 54, 56, 58, 58, 58, 60, 64, 67, 71, 71, 76, 76, 76, 79, 79, 79, 79, 79, 79, 79, 79, 79, 79, 79, 79, 79, 79, 79, 79, 79, 79, 79, 79, 79, 79, 79, 79, 79, 79, 79, 79, 79, 79, 79, 79, 79, 79, 79, 79, 79, 79, 80, 80, 80, 80, 80, 80, 81, 81, 83, 89, 90, 91, 91, 91, 91, 91, 94, 94, 94, 94, 94, 94, 94, 94, 94, 94, 96, 96, 96, 100, 100, 100, 100, 100, 100, 102, 106, 108, 108, 108, 108, 108, 111, 111, 111, 111, 112, 113, 114, 116, 117, 117, 118, 120, 121, 122, 123, 125, 125, 125, 125, 125, 125, 125, 125, 125, 127, 129, 131, 135, 137, 138, 139, 151, 151, 156, 157, 157, 163, 165, 171, 172, 172, 172, 172, 172, 173, 177, 179, 182, 182, 182, 183, 183, 183, 183, 184, 184, 187, 187, 187, 189, 190, 190, 191, 197, 197, 201, 205, 210, 210, 211, 211, 214, 214, 214, 214, 214, 214, 214, 214, 214, 214, 214, 214, 214, 214, 218, 220, 220, 223, 224, 225, 228, 228, 228, 228, 228, 228, 228, 228, 228, 228, 228, 228, 228, 228, 228, 234, 235, 236, 238, 242, 243, 243, 243, 243, 243, 243, 243, 245, 245, 245, 245, 245, 245, 246, 246, 249, 254, 260, 264, 265, 265, 265, 265, 265, 265, 265, 265, 265, 265, 265, 265, 265, 265, 265, 265, 265, 265, 265, 265, 265, 265, 265, 265, 265, 265, 269, 269, 277, 277, 277, 277, 277, 279, 281, 282, 284, 288, 289, 289, 289, 289, 289, 289, 289, 289, 289, 289, 289, 289, 289, 289, 289, 289, 289, 289, 289, 289, 289, 289, 289, 289, 291, 293, 293, 293, 298, 298, 300, 301, 301, 301, 309, 309, 309, 318, 318, 318, 318, 320, 325, 325, 325, 325, 325, 325, 325, 325, 325, 325, 325, 325, 325, 325, 326, 332, 332, 332, 336, 337, 337, 337, 337, 337, 337, 338, 341, 341, 342, 342, 343, 343, 344, 344, 346, 351, 358, 358, 359, 362, 363, 368, 370, 371, 374, 375, 383, 384, 391, 391, 391, 391, 391, 391, 394, 394, 402, 402, 405, 408, 408, 408, 408, 416, 418, 418, 419, 419, 419, 419, 419, 419, 419, 419, 419, 424, 424, 426, 427, 427, 427, 427, 427, 427, 427, 427, 427, 427, 427, 427, 430, 434, 437, 439, 441, 441, 441, 443, 444, 445, 446, 446, 455, 455, 455, 455, 455, 455, 457, 459, 460, 460, 460, 460, 470, 473, 473, 474, 475, 475, 475, 475, 475, 475, 475, 477, 486, 488, 489, 491, 491, 491, 491, 491, 497, 499, 499, 499, 499, 504, 506, 509, 510, 517, 524, 524, 524, 526, 528, 530, 530, 530, 531, 534, 541, 541, 541, 541, 545, 545, 545, 545, 546, 548, 548, 562, 563, 565, 565, 567, 576, 577, 579, 583, 590, 590, 591, 591, 591, 592, 592, 592, 594, 597, 601, 606, 610, 610, 610, 611, 614, 614, 614, 614, 614, 614, 614, 614, 614, 623, 623, 623, 623, 625, 626, 631, 635, 644, 644, 646, 646, 646, 646, 646, 646, 649, 651, 652, 652, 652, 656, 660, 662, 665, 666, 678, 686, 686, 687, 689, 691, 693, 700, 704, 704, 704, 704, 704, 708, 709, 710, 710, 717, 722, 723, 732, 735, 735, 735, 735, 741, 745, 745, 749, 753, 753, 755, 757, 763, 764, 764, 764, 764, 766, 769, 769, 769, 769, 770, 771, 771, 772, 772, 773, 775, 775, 775, 775, 775, 775, 775, 775, 775, 776, 780, 794, 801, 802, 803, 803, 804, 805, 805, 806, 806, 806, 806, 809, 809, 810, 817, 819, 826, 826, 826, 826, 826, 830, 830, 830, 830, 830, 830, 830, 830, 835, 836, 838, 840, 840, 840, 846, 847, 847, 848, 848, 852, 852, 852, 852, 853, 853, 853, 853, 853, 856, 861, 861, 864, 864, 865, 866, 868, 868, 871, 876, 883, 888, 890, 894, 896, 896, 896, 896, 896, 896, 896, 896, 896, 896, 902, 903, 904, 918, 919, 933, 935, 935, 936, 937, 937, 937, 937, 937, 940, 948, 948, 948, 948, 949, 949, 949, 949, 949, 949, 949, 949, 949, 949, 949, 949, 949, 949, 949, 949, 949, 949, 949, 949, 949, 949, 949, 949, 949, 949, 949, 949, 949, 949, 949, 949, 949, 949, 949, 949, 949, 949, 949, 949, 949, 949, 949, 949, 949, 949, 949, 949, 949, 949, 949, 949, 949, 949, 949, 949, 949, 949, 949, 949, 949, 949, 949, 949, 949, 949, 949, 949, 949, 949, 949, 949, 949, 949, 949, 949, 949, 949, 949, 949, 949, 949, 949, 949, 949, 949, 949, 949, 949, 949, 949, 949, 949, 949, 949, 949, 949, 949, 949, 949, 949, 950, 950, 950, 950, 952, 952, 952, 952, 955, 956, 957, 958, 964, 967, 972, 976, 976, 976, 976, 980, 986, 994, 999, 1010, 1015, 1015, 1020, 1024, 1026, 1026, 1026, 1026, 1028, 1029, 1029, 1031, 1035]\n"
          ],
          "name": "stdout"
        }
      ]
    },
    {
      "cell_type": "code",
      "metadata": {
        "id": "XIC4zufnMxtq",
        "outputId": "45886d3c-ddcf-4e0d-bd89-9ae00a140bd0",
        "colab": {
          "base_uri": "https://localhost:8080/"
        }
      },
      "source": [
        "correct_num = 0\n",
        "\n",
        "for i in range(0, len(standard_list)):\n",
        "  if predict_list[i] == standard_list[i]:\n",
        "    correct_num = correct_num+1\n",
        "  else:\n",
        "    pass\n",
        "print(correct_num)\n",
        "\n",
        "predict_accuracy = correct_num/len(predict_list)\n",
        "print(predict_accuracy)"
      ],
      "execution_count": 47,
      "outputs": [
        {
          "output_type": "stream",
          "text": [
            "653\n",
            "0.754041570438799\n"
          ],
          "name": "stdout"
        }
      ]
    },
    {
      "cell_type": "code",
      "metadata": {
        "id": "zlKMHp1CIaRJ"
      },
      "source": [
        ""
      ],
      "execution_count": 47,
      "outputs": []
    }
  ]
}