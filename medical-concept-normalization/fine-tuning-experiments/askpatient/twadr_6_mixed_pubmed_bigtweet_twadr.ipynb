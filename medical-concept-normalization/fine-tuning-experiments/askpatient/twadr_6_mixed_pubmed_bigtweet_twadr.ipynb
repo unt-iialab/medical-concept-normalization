{
  "nbformat": 4,
  "nbformat_minor": 0,
  "metadata": {
    "accelerator": "TPU",
    "colab": {
      "name": "twadr_6_mixed_pubmed_bigtweet_twadr.ipynb",
      "provenance": [],
      "collapsed_sections": [],
      "include_colab_link": true
    },
    "kernelspec": {
      "display_name": "Python 3",
      "name": "python3"
    }
  },
  "cells": [
    {
      "cell_type": "markdown",
      "metadata": {
        "id": "view-in-github",
        "colab_type": "text"
      },
      "source": [
        "<a href=\"https://colab.research.google.com/github/unt-iialab/medical-concept-normalization/blob/master/medical-concept-normalization/fine-tuning-experiments/askpatient/twadr_6_mixed_pubmed_bigtweet_twadr.ipynb\" target=\"_parent\"><img src=\"https://colab.research.google.com/assets/colab-badge.svg\" alt=\"Open In Colab\"/></a>"
      ]
    },
    {
      "cell_type": "code",
      "metadata": {
        "id": "adSi6i2-dWxy"
      },
      "source": [
        "import os"
      ],
      "execution_count": 1,
      "outputs": []
    },
    {
      "cell_type": "code",
      "metadata": {
        "id": "E7xYCRGPjd9B"
      },
      "source": [
        "base_dir = 'medical-concept-normalization'"
      ],
      "execution_count": 2,
      "outputs": []
    },
    {
      "cell_type": "code",
      "metadata": {
        "id": "yvIW3aUDjYNS"
      },
      "source": [
        "os.mkdir(base_dir)"
      ],
      "execution_count": 3,
      "outputs": []
    },
    {
      "cell_type": "code",
      "metadata": {
        "id": "es-FFLlfk6SG"
      },
      "source": [
        "os.mkdir('medical-concept-normalization/data_collection')"
      ],
      "execution_count": 4,
      "outputs": []
    },
    {
      "cell_type": "markdown",
      "metadata": {
        "id": "0R-Guw_VoJXm"
      },
      "source": [
        "**Install fastai and clone the fastai for text classification**\n",
        "\n"
      ]
    },
    {
      "cell_type": "code",
      "metadata": {
        "id": "QVZa3Z0PmHFH",
        "outputId": "1f17405a-1e90-4942-b48a-657e344a2a1d",
        "colab": {
          "base_uri": "https://localhost:8080/",
          "height": 68
        }
      },
      "source": [
        "!curl https://course-v3.fast.ai/setup/colab | bash"
      ],
      "execution_count": 5,
      "outputs": [
        {
          "output_type": "stream",
          "text": [
            "  % Total    % Received % Xferd  Average Speed   Time    Time     Time  Current\n",
            "                                 Dload  Upload   Total   Spent    Left  Speed\n",
            "\r  0     0    0     0    0     0      0      0 --:--:-- --:--:-- --:--:--     0curl: (6) Could not resolve host: course-v3.fast.ai\n"
          ],
          "name": "stdout"
        }
      ]
    },
    {
      "cell_type": "code",
      "metadata": {
        "id": "_FBFFEBrmJC0",
        "outputId": "5e21c7a2-db7c-4bf5-ca60-1752725af5fd",
        "colab": {
          "base_uri": "https://localhost:8080/",
          "height": 85
        }
      },
      "source": [
        "!git clone https://github.com/wshuyi/demo-nlp-classification-fastai.git"
      ],
      "execution_count": 6,
      "outputs": [
        {
          "output_type": "stream",
          "text": [
            "Cloning into 'demo-nlp-classification-fastai'...\n",
            "remote: Enumerating objects: 9, done.\u001b[K\n",
            "remote: Total 9 (delta 0), reused 0 (delta 0), pack-reused 9\u001b[K\n",
            "Unpacking objects: 100% (9/9), done.\n"
          ],
          "name": "stdout"
        }
      ]
    },
    {
      "cell_type": "code",
      "metadata": {
        "id": "66zfh_JqmWMU"
      },
      "source": [
        "from fastai import *\n",
        "from fastai.text import *"
      ],
      "execution_count": 7,
      "outputs": []
    },
    {
      "cell_type": "markdown",
      "metadata": {
        "id": "mNIw-yALdBU9"
      },
      "source": [
        "**Set the path of the data collections**"
      ]
    },
    {
      "cell_type": "code",
      "metadata": {
        "id": "pzH7VMh4mqCL"
      },
      "source": [
        "path = Path('medical-concept-normalization/data_collection')"
      ],
      "execution_count": 8,
      "outputs": []
    },
    {
      "cell_type": "code",
      "metadata": {
        "id": "b8fjI6yyn4aS"
      },
      "source": [
        "# training data set\n",
        "\n",
        "train_csv = path/'TwADR-L.fold-6.train.csv'\n",
        "train = pd.read_csv(train_csv, header=None)\n",
        "#train.head()\n",
        "#train.info()"
      ],
      "execution_count": 10,
      "outputs": []
    },
    {
      "cell_type": "code",
      "metadata": {
        "id": "Hmlr-bAorfHd",
        "outputId": "39bcf3da-91ea-45fd-fb27-3aca058fb58d",
        "colab": {
          "base_uri": "https://localhost:8080/",
          "height": 204
        }
      },
      "source": [
        "# validating data set\n",
        "\n",
        "valid = pd.read_csv(path/\"TwADR-L.fold-6.validation.csv\",header=None)\n",
        "valid.head()"
      ],
      "execution_count": 11,
      "outputs": [
        {
          "output_type": "execute_result",
          "data": {
            "text/html": [
              "<div>\n",
              "<style scoped>\n",
              "    .dataframe tbody tr th:only-of-type {\n",
              "        vertical-align: middle;\n",
              "    }\n",
              "\n",
              "    .dataframe tbody tr th {\n",
              "        vertical-align: top;\n",
              "    }\n",
              "\n",
              "    .dataframe thead th {\n",
              "        text-align: right;\n",
              "    }\n",
              "</style>\n",
              "<table border=\"1\" class=\"dataframe\">\n",
              "  <thead>\n",
              "    <tr style=\"text-align: right;\">\n",
              "      <th></th>\n",
              "      <th>0</th>\n",
              "      <th>1</th>\n",
              "    </tr>\n",
              "  </thead>\n",
              "  <tbody>\n",
              "    <tr>\n",
              "      <th>0</th>\n",
              "      <td>13</td>\n",
              "      <td>It's 6 am and this adderall got me reevaluatin...</td>\n",
              "    </tr>\n",
              "    <tr>\n",
              "      <th>1</th>\n",
              "      <td>84</td>\n",
              "      <td>paraplegic</td>\n",
              "    </tr>\n",
              "    <tr>\n",
              "      <th>2</th>\n",
              "      <td>91</td>\n",
              "      <td>jitters</td>\n",
              "    </tr>\n",
              "    <tr>\n",
              "      <th>3</th>\n",
              "      <td>189</td>\n",
              "      <td>dizziness</td>\n",
              "    </tr>\n",
              "    <tr>\n",
              "      <th>4</th>\n",
              "      <td>189</td>\n",
              "      <td>dizzy</td>\n",
              "    </tr>\n",
              "  </tbody>\n",
              "</table>\n",
              "</div>"
            ],
            "text/plain": [
              "     0                                                  1\n",
              "0   13  It's 6 am and this adderall got me reevaluatin...\n",
              "1   84                                         paraplegic\n",
              "2   91                                            jitters\n",
              "3  189                                          dizziness\n",
              "4  189                                              dizzy"
            ]
          },
          "metadata": {
            "tags": []
          },
          "execution_count": 11
        }
      ]
    },
    {
      "cell_type": "code",
      "metadata": {
        "id": "cOza9dfSsBud",
        "outputId": "0c4c6c16-4028-43f3-873d-db00de13e6a7",
        "colab": {
          "base_uri": "https://localhost:8080/",
          "height": 204
        }
      },
      "source": [
        "# testing data set\n",
        "\n",
        "test = pd.read_csv(path/\"TwADR-L.fold-6.test.csv\",header=None)\n",
        "test.head()"
      ],
      "execution_count": 12,
      "outputs": [
        {
          "output_type": "execute_result",
          "data": {
            "text/html": [
              "<div>\n",
              "<style scoped>\n",
              "    .dataframe tbody tr th:only-of-type {\n",
              "        vertical-align: middle;\n",
              "    }\n",
              "\n",
              "    .dataframe tbody tr th {\n",
              "        vertical-align: top;\n",
              "    }\n",
              "\n",
              "    .dataframe thead th {\n",
              "        text-align: right;\n",
              "    }\n",
              "</style>\n",
              "<table border=\"1\" class=\"dataframe\">\n",
              "  <thead>\n",
              "    <tr style=\"text-align: right;\">\n",
              "      <th></th>\n",
              "      <th>0</th>\n",
              "      <th>1</th>\n",
              "    </tr>\n",
              "  </thead>\n",
              "  <tbody>\n",
              "    <tr>\n",
              "      <th>0</th>\n",
              "      <td>13</td>\n",
              "      <td>awake in the middle of the night for an hour or 2</td>\n",
              "    </tr>\n",
              "    <tr>\n",
              "      <th>1</th>\n",
              "      <td>24</td>\n",
              "      <td>heart beat for being too strong</td>\n",
              "    </tr>\n",
              "    <tr>\n",
              "      <th>2</th>\n",
              "      <td>74</td>\n",
              "      <td>60% of my success is due to taking Adderall</td>\n",
              "    </tr>\n",
              "    <tr>\n",
              "      <th>3</th>\n",
              "      <td>85</td>\n",
              "      <td>tremor</td>\n",
              "    </tr>\n",
              "    <tr>\n",
              "      <th>4</th>\n",
              "      <td>94</td>\n",
              "      <td>anxiety</td>\n",
              "    </tr>\n",
              "  </tbody>\n",
              "</table>\n",
              "</div>"
            ],
            "text/plain": [
              "    0                                                  1\n",
              "0  13  awake in the middle of the night for an hour or 2\n",
              "1  24                    heart beat for being too strong\n",
              "2  74        60% of my success is due to taking Adderall\n",
              "3  85                                             tremor\n",
              "4  94                                            anxiety"
            ]
          },
          "metadata": {
            "tags": []
          },
          "execution_count": 12
        }
      ]
    },
    {
      "cell_type": "code",
      "metadata": {
        "id": "Vo-YNvVYoaH6",
        "outputId": "1cee7ac4-dfc6-4ffb-b913-7e5c1b846b89",
        "colab": {
          "base_uri": "https://localhost:8080/",
          "height": 17
        }
      },
      "source": [
        "# Creating DataBunch for language modelling\n",
        "\n",
        "data_lm = TextLMDataBunch.from_csv(path, 'mixed_pubmed_bigtweet_twadr.csv')"
      ],
      "execution_count": 13,
      "outputs": [
        {
          "output_type": "display_data",
          "data": {
            "text/html": [
              ""
            ],
            "text/plain": [
              "<IPython.core.display.HTML object>"
            ]
          },
          "metadata": {
            "tags": []
          }
        },
        {
          "output_type": "display_data",
          "data": {
            "text/html": [
              ""
            ],
            "text/plain": [
              "<IPython.core.display.HTML object>"
            ]
          },
          "metadata": {
            "tags": []
          }
        }
      ]
    },
    {
      "cell_type": "code",
      "metadata": {
        "id": "qcV-9kMnNLBf"
      },
      "source": [
        ""
      ],
      "execution_count": 13,
      "outputs": []
    },
    {
      "cell_type": "code",
      "metadata": {
        "id": "1ScY9afDsnvE"
      },
      "source": [
        "# Creating DataBunch for classification\n",
        "\n",
        "# data_clas = TextClasDataBunch.from_df(path, train, valid, test, vocab=data_lm.train_ds.vocab, bs=128)"
      ],
      "execution_count": 14,
      "outputs": []
    },
    {
      "cell_type": "code",
      "metadata": {
        "id": "gzrSdQcvey9p",
        "outputId": "1782ce37-a207-4862-b600-51228210b8b8",
        "colab": {
          "base_uri": "https://localhost:8080/",
          "height": 17
        }
      },
      "source": [
        "data_clas = TextClasDataBunch.from_df(path, train, valid, vocab=data_lm.train_ds.vocab, bs=128)"
      ],
      "execution_count": 15,
      "outputs": [
        {
          "output_type": "display_data",
          "data": {
            "text/html": [
              ""
            ],
            "text/plain": [
              "<IPython.core.display.HTML object>"
            ]
          },
          "metadata": {
            "tags": []
          }
        },
        {
          "output_type": "display_data",
          "data": {
            "text/html": [
              ""
            ],
            "text/plain": [
              "<IPython.core.display.HTML object>"
            ]
          },
          "metadata": {
            "tags": []
          }
        }
      ]
    },
    {
      "cell_type": "code",
      "metadata": {
        "id": "MD27Tf0Ke3ou",
        "outputId": "18c029b4-5570-45c2-9074-3430042dcce6",
        "colab": {
          "base_uri": "https://localhost:8080/",
          "height": 17
        }
      },
      "source": [
        "data_clas.add_test(test,label=0)\n"
      ],
      "execution_count": 16,
      "outputs": [
        {
          "output_type": "display_data",
          "data": {
            "text/html": [
              ""
            ],
            "text/plain": [
              "<IPython.core.display.HTML object>"
            ]
          },
          "metadata": {
            "tags": []
          }
        }
      ]
    },
    {
      "cell_type": "code",
      "metadata": {
        "id": "-dpjnk_rstwk"
      },
      "source": [
        "data_lm.save()\n",
        "data_clas.save()"
      ],
      "execution_count": 17,
      "outputs": []
    },
    {
      "cell_type": "code",
      "metadata": {
        "id": "4OkiJa36sw5s",
        "outputId": "adef6f38-2553-4e95-e91d-52a0539c57e2",
        "colab": {
          "base_uri": "https://localhost:8080/",
          "height": 1000
        }
      },
      "source": [
        "data_lm.train_ds.vocab.itos"
      ],
      "execution_count": 18,
      "outputs": [
        {
          "output_type": "execute_result",
          "data": {
            "text/plain": [
              "['xxunk',\n",
              " 'xxpad',\n",
              " 'xxbos',\n",
              " 'xxeos',\n",
              " 'xxfld',\n",
              " 'xxmaj',\n",
              " 'xxup',\n",
              " 'xxrep',\n",
              " 'xxwrep',\n",
              " 'the',\n",
              " 'of',\n",
              " 'and',\n",
              " 'in',\n",
              " 'to',\n",
              " 'a',\n",
              " 'for',\n",
              " 'with',\n",
              " 'was',\n",
              " 'diclofenac',\n",
              " 'were',\n",
              " 'on',\n",
              " 'is',\n",
              " 'rt',\n",
              " 'pain',\n",
              " 'sodium',\n",
              " 'by',\n",
              " 'drug',\n",
              " 'that',\n",
              " 'as',\n",
              " 'i',\n",
              " 'at',\n",
              " 'patients',\n",
              " 'this',\n",
              " 'or',\n",
              " 'from',\n",
              " 'you',\n",
              " 'disease',\n",
              " 'be',\n",
              " 'increased',\n",
              " 'mg',\n",
              " 'group',\n",
              " 'my',\n",
              " 'study',\n",
              " 'mood',\n",
              " 'are',\n",
              " 'not',\n",
              " 'treatment',\n",
              " 'it',\n",
              " 'an',\n",
              " 'me',\n",
              " 'after',\n",
              " 'amp',\n",
              " 'have',\n",
              " 'p',\n",
              " 'release',\n",
              " 'gluten',\n",
              " ',',\n",
              " 'disorder',\n",
              " 'all',\n",
              " 'abnormal',\n",
              " 'effect',\n",
              " 'withdrawal',\n",
              " 'we',\n",
              " 'than',\n",
              " 'symptoms',\n",
              " 'free',\n",
              " 'no',\n",
              " 'decreased',\n",
              " 'weight',\n",
              " 'new',\n",
              " 'using',\n",
              " 'compared',\n",
              " 'out',\n",
              " 'more',\n",
              " 'anxiety',\n",
              " 'your',\n",
              " 'day',\n",
              " 'effects',\n",
              " 'time',\n",
              " 'groups',\n",
              " 'our',\n",
              " 'two',\n",
              " 'up',\n",
              " 'both',\n",
              " 'about',\n",
              " 'inflammatory',\n",
              " 'blood',\n",
              " 'significantly',\n",
              " 'drugs',\n",
              " 'like',\n",
              " 'between',\n",
              " 'h',\n",
              " 'its',\n",
              " 'these',\n",
              " 'potassium',\n",
              " 'acute',\n",
              " 'had',\n",
              " 'significant',\n",
              " 'but',\n",
              " 'skin',\n",
              " 'anti',\n",
              " 'use',\n",
              " 'disorders',\n",
              " 'which',\n",
              " 'can',\n",
              " 'used',\n",
              " 'has',\n",
              " 'do',\n",
              " 'syndrome',\n",
              " 'dose',\n",
              " 'voltaren',\n",
              " 'also',\n",
              " 'behavior',\n",
              " '-',\n",
              " 'glutenfree',\n",
              " 'results',\n",
              " 'placebo',\n",
              " '(',\n",
              " ')',\n",
              " 'nt',\n",
              " 'days',\n",
              " 'one',\n",
              " 'what',\n",
              " 's',\n",
              " 'efficacy',\n",
              " 'there',\n",
              " 'diseases',\n",
              " 'concentration',\n",
              " 'sleeplessness',\n",
              " 'oral',\n",
              " 'm',\n",
              " 'feeling',\n",
              " 'celiac',\n",
              " 'may',\n",
              " 'ds',\n",
              " 'ml',\n",
              " 'now',\n",
              " 'when',\n",
              " 'different',\n",
              " 'got',\n",
              " 'w',\n",
              " 'showed',\n",
              " 'treated',\n",
              " 'non',\n",
              " 'been',\n",
              " 'topical',\n",
              " 'insomnia',\n",
              " 'test',\n",
              " 'administration',\n",
              " 'c',\n",
              " 'finding',\n",
              " 'high',\n",
              " 'food',\n",
              " 'somnolence',\n",
              " 'so',\n",
              " 'rats',\n",
              " 'disturbance',\n",
              " 'sleep',\n",
              " 'energy',\n",
              " 'products',\n",
              " 'their',\n",
              " 'studies',\n",
              " 'control',\n",
              " 'other',\n",
              " 'during',\n",
              " 'acid',\n",
              " 'how',\n",
              " 'hours',\n",
              " 'via',\n",
              " 'well',\n",
              " 'found',\n",
              " 'induced',\n",
              " 'right',\n",
              " 'plasma',\n",
              " 'rate',\n",
              " 'if',\n",
              " 'post',\n",
              " 'who',\n",
              " 'could',\n",
              " 'into',\n",
              " 'body',\n",
              " 'state',\n",
              " 'mental',\n",
              " 'method',\n",
              " 'did',\n",
              " 'swelling',\n",
              " 'clinical',\n",
              " 'mean',\n",
              " 'first',\n",
              " 'tablets',\n",
              " 'respectively',\n",
              " 'muscle',\n",
              " 'nsaids',\n",
              " 'g',\n",
              " 'formulations',\n",
              " 'gain',\n",
              " 'feel',\n",
              " 'diet',\n",
              " 'gel',\n",
              " 'over',\n",
              " 'formulation',\n",
              " 'appetite',\n",
              " 'those',\n",
              " 'effective',\n",
              " 'nausea',\n",
              " 'low',\n",
              " 'depression',\n",
              " 'ph',\n",
              " 'solution',\n",
              " 'd',\n",
              " 'review',\n",
              " 'observed',\n",
              " 'tip',\n",
              " 'received',\n",
              " 'kg',\n",
              " 'n',\n",
              " 'three',\n",
              " 'controlled',\n",
              " 'irritable',\n",
              " 'analysis',\n",
              " 'vitro',\n",
              " 'reaction',\n",
              " 'heart',\n",
              " 'attention',\n",
              " 'levels',\n",
              " 'total',\n",
              " 'each',\n",
              " 'conditions',\n",
              " 'system',\n",
              " 'excitability',\n",
              " 'renal',\n",
              " 'level',\n",
              " 'analgesic',\n",
              " 'less',\n",
              " 'lower',\n",
              " 'adverse',\n",
              " 'following',\n",
              " 'only',\n",
              " 'ceiling',\n",
              " 'serum',\n",
              " 'cell',\n",
              " 'hyperactive',\n",
              " 'weeks',\n",
              " 'activity',\n",
              " 'period',\n",
              " 'panic',\n",
              " 'week',\n",
              " 'data',\n",
              " 'atorvastatin',\n",
              " 'dblclick',\n",
              " 'feelings',\n",
              " 'awake',\n",
              " 'daily',\n",
              " 'get',\n",
              " 'concentrations',\n",
              " 'dizziness',\n",
              " 'gastrointestinal',\n",
              " 'liver',\n",
              " 'eye',\n",
              " 'single',\n",
              " 'drowsiness',\n",
              " 'patient',\n",
              " 'pic',\n",
              " 'function',\n",
              " 'ca',\n",
              " 'randomized',\n",
              " 'good',\n",
              " 'they',\n",
              " 't',\n",
              " 'loss',\n",
              " 'however',\n",
              " 'before',\n",
              " 'surgery',\n",
              " 'model',\n",
              " 'most',\n",
              " 'allergic',\n",
              " 'why',\n",
              " 'depressed',\n",
              " 'some',\n",
              " 'obtained',\n",
              " 'application',\n",
              " 'will',\n",
              " 'evaluated',\n",
              " 'rash',\n",
              " 'here',\n",
              " 'tablet',\n",
              " 'years',\n",
              " 'based',\n",
              " 'difference',\n",
              " 'present',\n",
              " 'joint',\n",
              " 'headache',\n",
              " 'l',\n",
              " 'inflammation',\n",
              " 'higher',\n",
              " 'double',\n",
              " 'reduced',\n",
              " 'postoperative',\n",
              " 'similar',\n",
              " 'need',\n",
              " 'site',\n",
              " 'under',\n",
              " 'check',\n",
              " 'increase',\n",
              " 'therapy',\n",
              " 'any',\n",
              " 'cells',\n",
              " 'chronic',\n",
              " 'changes',\n",
              " 'water',\n",
              " 'dissolution',\n",
              " 'initial',\n",
              " 'life',\n",
              " 'injection',\n",
              " 'brain',\n",
              " 'know',\n",
              " 'infection',\n",
              " 'injury',\n",
              " 'arthritis',\n",
              " 'edema',\n",
              " 'nsaid',\n",
              " 'combination',\n",
              " 'change',\n",
              " 'b',\n",
              " 'associated',\n",
              " 'migraine',\n",
              " 'studied',\n",
              " 'healthy',\n",
              " 'order',\n",
              " 'just',\n",
              " 'make',\n",
              " '#',\n",
              " 'love',\n",
              " 'bipolar',\n",
              " 'vs',\n",
              " 'min',\n",
              " 'should',\n",
              " 'relief',\n",
              " 'bone',\n",
              " 'swings',\n",
              " 'pressure',\n",
              " 'wakefulness',\n",
              " 'being',\n",
              " 'prepared',\n",
              " 'great',\n",
              " 'does',\n",
              " 'trial',\n",
              " 'response',\n",
              " 'tissue',\n",
              " 'better',\n",
              " 'gastric',\n",
              " 'help',\n",
              " 'fatigue',\n",
              " 'administered',\n",
              " 'doses',\n",
              " 'type',\n",
              " 'ratio',\n",
              " 'nonsteroidal',\n",
              " 'visual',\n",
              " 'given',\n",
              " 're',\n",
              " 'while',\n",
              " 'x',\n",
              " 'values',\n",
              " 'performed',\n",
              " 'such',\n",
              " 'eating',\n",
              " 'through',\n",
              " 'due',\n",
              " 'investigated',\n",
              " \"n't\",\n",
              " 'differences',\n",
              " 'four',\n",
              " 'reported',\n",
              " 'blind',\n",
              " 'breast',\n",
              " 'subjects',\n",
              " 'developed',\n",
              " 'events',\n",
              " 'risk',\n",
              " 'corneal',\n",
              " 'v',\n",
              " 'thanks',\n",
              " 'dreams',\n",
              " 'number',\n",
              " 'gfb',\n",
              " 'still',\n",
              " 'cholesterol',\n",
              " '30',\n",
              " 'without',\n",
              " 'properties',\n",
              " 'decrease',\n",
              " 'attacks',\n",
              " 'phase',\n",
              " 'attack',\n",
              " 'assessed',\n",
              " 'intolerance',\n",
              " 'minutes',\n",
              " 'eat',\n",
              " 'containing',\n",
              " 'abdominal',\n",
              " 'side',\n",
              " 'within',\n",
              " 'recipe',\n",
              " 'respiratory',\n",
              " 'makes',\n",
              " 'people',\n",
              " 'samples',\n",
              " 'posted',\n",
              " 'measured',\n",
              " 'tremor',\n",
              " 'knee',\n",
              " 'safety',\n",
              " 'urine',\n",
              " 'auc',\n",
              " 'absorption',\n",
              " 'us',\n",
              " 'statistically',\n",
              " 'potential',\n",
              " 'indomethacin',\n",
              " 'delivery',\n",
              " 'ng',\n",
              " 'either',\n",
              " 'very',\n",
              " 'same',\n",
              " 'liquid',\n",
              " 'times',\n",
              " 'best',\n",
              " 'parameters',\n",
              " 'death',\n",
              " 'tired',\n",
              " 'reduction',\n",
              " 'failure',\n",
              " 'active',\n",
              " 'steroidal',\n",
              " 'going',\n",
              " 'damage',\n",
              " 'size',\n",
              " 'night',\n",
              " 'oa',\n",
              " 'dry',\n",
              " 'available',\n",
              " 'therapeutic',\n",
              " 'mm',\n",
              " 'included',\n",
              " 'stiffness',\n",
              " 'vivo',\n",
              " 'compare',\n",
              " 'show',\n",
              " 'development',\n",
              " 'hemorrhage',\n",
              " 'living',\n",
              " 'rage',\n",
              " 'k',\n",
              " '\\r \\n ',\n",
              " 'taste',\n",
              " 'action',\n",
              " 'evaluate',\n",
              " 'human',\n",
              " 'primary',\n",
              " 'e',\n",
              " 'applied',\n",
              " 'range',\n",
              " 'determined',\n",
              " 'deficit',\n",
              " 'go',\n",
              " 'cardiac',\n",
              " 'heres',\n",
              " 'greater',\n",
              " 'medication',\n",
              " 'back',\n",
              " '2',\n",
              " 'think',\n",
              " 'form',\n",
              " 'scale',\n",
              " 'process',\n",
              " 'scores',\n",
              " 'local',\n",
              " 'year',\n",
              " 'kidney',\n",
              " 'related',\n",
              " 'sensitivity',\n",
              " 'take',\n",
              " 'addition',\n",
              " 'cox',\n",
              " 'health',\n",
              " 'much',\n",
              " 'lipitor',\n",
              " 'revealed',\n",
              " 'infections',\n",
              " 'multiple',\n",
              " 'dependent',\n",
              " 'osteoarthritis',\n",
              " 'carcinoma',\n",
              " 'many',\n",
              " 'sustained',\n",
              " 'male',\n",
              " 'jennieo',\n",
              " 'hour',\n",
              " 'because',\n",
              " 'baseline',\n",
              " 'archives',\n",
              " 'eyes',\n",
              " 'discomfort',\n",
              " 'read',\n",
              " 'normal',\n",
              " 'coated',\n",
              " 'area',\n",
              " 'tolerability',\n",
              " 'end',\n",
              " 'bioavailability',\n",
              " 'ii',\n",
              " 'sleepy',\n",
              " 'ulcer',\n",
              " 'demonstrated',\n",
              " 'middle',\n",
              " 'tips',\n",
              " 'important',\n",
              " 'severe',\n",
              " 'treatments',\n",
              " 'long',\n",
              " 'then',\n",
              " 'months',\n",
              " 'article',\n",
              " 'matrix',\n",
              " 'even',\n",
              " 'numbness',\n",
              " 'pulmonary',\n",
              " 'temperature',\n",
              " 'today',\n",
              " 'tested',\n",
              " 'sweating',\n",
              " 'aim',\n",
              " 'safe',\n",
              " 'made',\n",
              " 'super',\n",
              " 'news',\n",
              " 'tolerated',\n",
              " 'stomach',\n",
              " 'wide',\n",
              " 'chicken',\n",
              " 'na',\n",
              " 'mice',\n",
              " 'improvement',\n",
              " 'trials',\n",
              " 'protein',\n",
              " 'way',\n",
              " 'down',\n",
              " 'alone',\n",
              " 'vomiting',\n",
              " 'polymer',\n",
              " 'inhibition',\n",
              " 'aqueous',\n",
              " 'further',\n",
              " 'early',\n",
              " 'shown',\n",
              " 'growth',\n",
              " 'quality',\n",
              " 'psychotic',\n",
              " 'randomly',\n",
              " 'secondary',\n",
              " 'diagnosis',\n",
              " 'common',\n",
              " 'daytime',\n",
              " 'per',\n",
              " 'suggest',\n",
              " '1',\n",
              " 'sensation',\n",
              " 'dosage',\n",
              " 'cerebral',\n",
              " 'prolonged',\n",
              " 'difficulty',\n",
              " 'inhibitor',\n",
              " 'follow',\n",
              " 'caused',\n",
              " 'cancer',\n",
              " 'rheumatoid',\n",
              " 'cd',\n",
              " 'formation',\n",
              " 'ibuprofen',\n",
              " 'permeation',\n",
              " 'facial',\n",
              " 'standard',\n",
              " 'exposure',\n",
              " 'intestinal',\n",
              " 'cm',\n",
              " 'relative',\n",
              " 'allergy',\n",
              " 'part',\n",
              " 'u',\n",
              " 'various',\n",
              " 'female',\n",
              " 'term',\n",
              " 'dependence',\n",
              " 'volunteers',\n",
              " 'whereas',\n",
              " 'th',\n",
              " '10',\n",
              " 'cases',\n",
              " 'want',\n",
              " 'painful',\n",
              " 'pizza',\n",
              " 'age',\n",
              " 'mechanism',\n",
              " 'dermatitis',\n",
              " 'animals',\n",
              " 'ocular',\n",
              " 'hepatic',\n",
              " 'zombie',\n",
              " 'hallucinations',\n",
              " 'case',\n",
              " 'although',\n",
              " 'irritation',\n",
              " 'provide',\n",
              " 'presence',\n",
              " 'old',\n",
              " 'among',\n",
              " 'intensity',\n",
              " 'happy',\n",
              " 'score',\n",
              " 'rat',\n",
              " 'indicated',\n",
              " 'work',\n",
              " 'vas',\n",
              " 'followed',\n",
              " 'f',\n",
              " 'elevated',\n",
              " 'moderate',\n",
              " 'distress',\n",
              " 'agents',\n",
              " 'aggravated',\n",
              " 'de',\n",
              " 'find',\n",
              " 'fluid',\n",
              " 'care',\n",
              " 'alcohol',\n",
              " 'tooth',\n",
              " 'content',\n",
              " 'systemic',\n",
              " 'r',\n",
              " 'conducted',\n",
              " 'peak',\n",
              " 'big',\n",
              " 'hypertension',\n",
              " 'determine',\n",
              " 'depressive',\n",
              " 'awareness',\n",
              " 'complex',\n",
              " '5',\n",
              " 'surface',\n",
              " 'onset',\n",
              " 'would',\n",
              " 'cause',\n",
              " 'please',\n",
              " 'month',\n",
              " 'amount',\n",
              " 'affect',\n",
              " 'dysfunction',\n",
              " 'sleepiness',\n",
              " 'localised',\n",
              " 'research',\n",
              " 'pharmaceutical',\n",
              " '4',\n",
              " 'exhaustion',\n",
              " 'density',\n",
              " 'six',\n",
              " 'disturbances',\n",
              " 'including',\n",
              " 'profiles',\n",
              " 'every',\n",
              " 'combined',\n",
              " 'anemia',\n",
              " 'analgesia',\n",
              " 'diagnosed',\n",
              " 'according',\n",
              " 'agent',\n",
              " \"'m\",\n",
              " 'suicidal',\n",
              " 'flow',\n",
              " 'calcium',\n",
              " 'versus',\n",
              " 'asleep',\n",
              " 'blog',\n",
              " 'resulted',\n",
              " 'least',\n",
              " 'too',\n",
              " 'lesions',\n",
              " 'divided',\n",
              " 'microspheres',\n",
              " 'performance',\n",
              " 'pre',\n",
              " 'creatinine',\n",
              " 'impairment',\n",
              " 'product',\n",
              " 'production',\n",
              " 'profile',\n",
              " 'tract',\n",
              " 'solid',\n",
              " 'mild',\n",
              " 'ever',\n",
              " 'diabetes',\n",
              " 'improved',\n",
              " 'share',\n",
              " 'urinary',\n",
              " 'social',\n",
              " 'chest',\n",
              " 'experimental',\n",
              " 'assessment',\n",
              " 'bad',\n",
              " 'misoprostol',\n",
              " 'positive',\n",
              " 'evidence',\n",
              " 'produced',\n",
              " 'cross',\n",
              " 'achieved',\n",
              " 'pharmacokinetic',\n",
              " 'evaluation',\n",
              " '\\r \\n \\r \\n ',\n",
              " 'complete',\n",
              " 'whole',\n",
              " 'simple',\n",
              " 'sensitive',\n",
              " 'diffusion',\n",
              " 'o',\n",
              " 'rofecoxib',\n",
              " 'physical',\n",
              " 'cookbook',\n",
              " 'vascular',\n",
              " 'third',\n",
              " 'necrosis',\n",
              " 'overall',\n",
              " 'diabetic',\n",
              " 'flare',\n",
              " 'aspirin',\n",
              " 'result',\n",
              " 'dizzy',\n",
              " 'interactions',\n",
              " 'efficiency',\n",
              " 'nightmares',\n",
              " 'comparison',\n",
              " 'enteric',\n",
              " 'microg',\n",
              " 'tolerance',\n",
              " 'duration',\n",
              " 'episode',\n",
              " 'beads',\n",
              " 'cataract',\n",
              " 'cmax',\n",
              " 'volume',\n",
              " 'preparation',\n",
              " 'five',\n",
              " 'arrest',\n",
              " 'models',\n",
              " 'rates',\n",
              " 'membrane',\n",
              " 'see',\n",
              " 'gf',\n",
              " 'nervous',\n",
              " 'spasm',\n",
              " 'commercial',\n",
              " 'synthesis',\n",
              " 'major',\n",
              " 'vision',\n",
              " 'anger',\n",
              " 'bite',\n",
              " 'rapid',\n",
              " 'plus',\n",
              " 'off',\n",
              " 'second',\n",
              " 'am',\n",
              " 'vehicle',\n",
              " 'peripheral',\n",
              " 'oedema',\n",
              " 'getting',\n",
              " 'glucose',\n",
              " 'where',\n",
              " 'expression',\n",
              " 'investigate',\n",
              " 'compulsive',\n",
              " 'possible',\n",
              " 'linked',\n",
              " 'degrees',\n",
              " 'thus',\n",
              " 'current',\n",
              " 'making',\n",
              " 'participants',\n",
              " 'maximum',\n",
              " 'tests',\n",
              " 'carried',\n",
              " 'specific',\n",
              " 'might',\n",
              " 'against',\n",
              " 'cold',\n",
              " 'naproxen',\n",
              " 'interaction',\n",
              " 'delayed',\n",
              " 'reference',\n",
              " 'last',\n",
              " 'face',\n",
              " 'medical',\n",
              " 'once',\n",
              " 'seizures',\n",
              " 'women',\n",
              " 'degree',\n",
              " 'global',\n",
              " 'pruritus',\n",
              " 'pellets',\n",
              " 'dr',\n",
              " 'uterine',\n",
              " 'outcome',\n",
              " 'needed',\n",
              " 'considered',\n",
              " 'issues',\n",
              " 'ache',\n",
              " 'patch',\n",
              " 'alternative',\n",
              " 'detection',\n",
              " 'soup',\n",
              " 'value',\n",
              " 'ci',\n",
              " 'crazy',\n",
              " 'responses',\n",
              " 'assess',\n",
              " 'emotional',\n",
              " 'saline',\n",
              " 'determination',\n",
              " 'ventricular',\n",
              " 'injuries',\n",
              " 'since',\n",
              " 'fever',\n",
              " 'foot',\n",
              " 'autographed',\n",
              " 'hurt',\n",
              " 'lack',\n",
              " 'novel',\n",
              " 'memory',\n",
              " 'open',\n",
              " 'design',\n",
              " 'depersonalization',\n",
              " 'children',\n",
              " 'phosphate',\n",
              " 'technique',\n",
              " 'medium',\n",
              " 'small',\n",
              " 'recorded',\n",
              " 'examined',\n",
              " 'localized',\n",
              " 'toxicity',\n",
              " 'loaded',\n",
              " 'index',\n",
              " 'max',\n",
              " 'stress',\n",
              " 'next',\n",
              " 'cream',\n",
              " 'erythema',\n",
              " 'medications',\n",
              " 'inhibited',\n",
              " 'fracture',\n",
              " 'vivid',\n",
              " 'looking',\n",
              " 'clinically',\n",
              " 'methods',\n",
              " 'lesion',\n",
              " 'neoplasm',\n",
              " 'lipid',\n",
              " 'them',\n",
              " 'indicate',\n",
              " 'prostaglandin',\n",
              " 'dic',\n",
              " 'wheat',\n",
              " 'characterized',\n",
              " 'hungry',\n",
              " 'really',\n",
              " 'bread',\n",
              " 'short',\n",
              " 'findings',\n",
              " 'thank',\n",
              " 'hunger',\n",
              " 'terms',\n",
              " 'extent',\n",
              " 'taking',\n",
              " 'forms',\n",
              " 'upper',\n",
              " 'others',\n",
              " 'easy',\n",
              " '2014',\n",
              " 'influence',\n",
              " 'enzyme',\n",
              " 'comparable',\n",
              " 'adderall',\n",
              " 'incidence',\n",
              " 'preparations',\n",
              " 'antiinflammatory',\n",
              " 'intramuscular',\n",
              " 'support',\n",
              " 'withdrawals',\n",
              " 'co',\n",
              " 'foods',\n",
              " 'superior',\n",
              " 'paracetamol',\n",
              " 'additional',\n",
              " 'inhibitors',\n",
              " 'delicious',\n",
              " 'story',\n",
              " 'receiving',\n",
              " 'cardiovascular',\n",
              " 'increasing',\n",
              " 'hip',\n",
              " 'central',\n",
              " 'try',\n",
              " 'media',\n",
              " 'clearance',\n",
              " 'count',\n",
              " 'transdermal',\n",
              " 'il',\n",
              " 'top',\n",
              " 'buffer',\n",
              " 'released',\n",
              " 'capsules',\n",
              " 'fractures',\n",
              " 'therefore',\n",
              " 'obsessive',\n",
              " 'asthma',\n",
              " 'nauseous',\n",
              " 'modified',\n",
              " 'highly',\n",
              " 'whether',\n",
              " 'fear',\n",
              " 'partial',\n",
              " 'fast',\n",
              " 'factor',\n",
              " 'lung',\n",
              " 'malignant',\n",
              " 'cramps',\n",
              " 'general',\n",
              " 'provided',\n",
              " 'characteristics',\n",
              " 'enhanced',\n",
              " 'intoxication',\n",
              " 'friends',\n",
              " 'symptom',\n",
              " 'ldl',\n",
              " 'shoulder',\n",
              " 'abuse',\n",
              " 'extraction',\n",
              " 'pge',\n",
              " 'gi',\n",
              " 'nm',\n",
              " 'event',\n",
              " 'examination',\n",
              " 'always',\n",
              " 'twice',\n",
              " 'ketorolac',\n",
              " 'drops',\n",
              " 'mass',\n",
              " 'known',\n",
              " 'able',\n",
              " 'tissues',\n",
              " 'chocolate',\n",
              " 'chitosan',\n",
              " 'treat',\n",
              " 'impaired',\n",
              " 'percentage',\n",
              " 'solutions',\n",
              " 'drowsy',\n",
              " 'euphoric',\n",
              " 'hplc',\n",
              " 'genital',\n",
              " 'electrocardiogram',\n",
              " 'cambia',\n",
              " 'criteria',\n",
              " 'consciousness',\n",
              " 'several',\n",
              " 'arterial',\n",
              " 'testing',\n",
              " 'bowl',\n",
              " 'tongue',\n",
              " 'options',\n",
              " 'nasal',\n",
              " 'role',\n",
              " 'nerve',\n",
              " 'hand',\n",
              " 'objective',\n",
              " 'oil',\n",
              " 'kinetics',\n",
              " 'hpmc',\n",
              " 'thinking',\n",
              " 'hp',\n",
              " 'beta',\n",
              " 'activities',\n",
              " '6',\n",
              " 'dcf',\n",
              " 'another',\n",
              " 'faster',\n",
              " 'lipoprotein',\n",
              " 'coeliac',\n",
              " 'analgesics',\n",
              " 'movement',\n",
              " 'block',\n",
              " 'management',\n",
              " ...]"
            ]
          },
          "metadata": {
            "tags": []
          },
          "execution_count": 18
        }
      ]
    },
    {
      "cell_type": "code",
      "metadata": {
        "id": "yPWr03mls3VT",
        "outputId": "5a72fc16-ccb7-46e6-9eb7-068755360b64",
        "colab": {
          "base_uri": "https://localhost:8080/",
          "height": 17
        }
      },
      "source": [
        "model_path = path/'models'\n",
        "model_path.mkdir(exist_ok=True)\n",
        "url = 'http://files.fast.ai/models/wt103_v1/'\n",
        "download_url(f'{url}lstm_wt103.pth', model_path/'lstm_wt103.pth')\n",
        "download_url(f'{url}itos_wt103.pkl', model_path/'itos_wt103.pkl')"
      ],
      "execution_count": 19,
      "outputs": [
        {
          "output_type": "display_data",
          "data": {
            "text/html": [
              ""
            ],
            "text/plain": [
              "<IPython.core.display.HTML object>"
            ]
          },
          "metadata": {
            "tags": []
          }
        },
        {
          "output_type": "display_data",
          "data": {
            "text/html": [
              ""
            ],
            "text/plain": [
              "<IPython.core.display.HTML object>"
            ]
          },
          "metadata": {
            "tags": []
          }
        }
      ]
    },
    {
      "cell_type": "code",
      "metadata": {
        "id": "JRzvWg8RtGGr",
        "outputId": "4a803ab3-c754-468a-a660-31bd63822c1d",
        "colab": {
          "base_uri": "https://localhost:8080/",
          "height": 34
        }
      },
      "source": [
        "learn = language_model_learner(data_lm, AWD_LSTM, drop_mult=0.5)"
      ],
      "execution_count": 20,
      "outputs": [
        {
          "output_type": "stream",
          "text": [
            "Downloading https://s3.amazonaws.com/fast-ai-modelzoo/wt103-fwd.tgz\n"
          ],
          "name": "stdout"
        },
        {
          "output_type": "display_data",
          "data": {
            "text/html": [
              ""
            ],
            "text/plain": [
              "<IPython.core.display.HTML object>"
            ]
          },
          "metadata": {
            "tags": []
          }
        }
      ]
    },
    {
      "cell_type": "code",
      "metadata": {
        "id": "xKK7GeBev7Xn",
        "outputId": "7d5a550f-68cf-49fe-ec3c-573c9f0616e6",
        "colab": {
          "base_uri": "https://localhost:8080/",
          "height": 80
        }
      },
      "source": [
        "learn.fit_one_cycle(1, 1e-2)"
      ],
      "execution_count": 21,
      "outputs": [
        {
          "output_type": "display_data",
          "data": {
            "text/html": [
              "<table border=\"1\" class=\"dataframe\">\n",
              "  <thead>\n",
              "    <tr style=\"text-align: left;\">\n",
              "      <th>epoch</th>\n",
              "      <th>train_loss</th>\n",
              "      <th>valid_loss</th>\n",
              "      <th>accuracy</th>\n",
              "      <th>time</th>\n",
              "    </tr>\n",
              "  </thead>\n",
              "  <tbody>\n",
              "    <tr>\n",
              "      <td>0</td>\n",
              "      <td>4.732399</td>\n",
              "      <td>4.188763</td>\n",
              "      <td>0.346638</td>\n",
              "      <td>23:13</td>\n",
              "    </tr>\n",
              "  </tbody>\n",
              "</table>"
            ],
            "text/plain": [
              "<IPython.core.display.HTML object>"
            ]
          },
          "metadata": {
            "tags": []
          }
        }
      ]
    },
    {
      "cell_type": "code",
      "metadata": {
        "id": "iB7rHGQCwd12",
        "outputId": "00688e48-af52-4415-ad5c-8f013766b9f8",
        "colab": {
          "base_uri": "https://localhost:8080/",
          "height": 80
        }
      },
      "source": [
        "learn.fit_one_cycle(1, 1e-2)"
      ],
      "execution_count": 22,
      "outputs": [
        {
          "output_type": "display_data",
          "data": {
            "text/html": [
              "<table border=\"1\" class=\"dataframe\">\n",
              "  <thead>\n",
              "    <tr style=\"text-align: left;\">\n",
              "      <th>epoch</th>\n",
              "      <th>train_loss</th>\n",
              "      <th>valid_loss</th>\n",
              "      <th>accuracy</th>\n",
              "      <th>time</th>\n",
              "    </tr>\n",
              "  </thead>\n",
              "  <tbody>\n",
              "    <tr>\n",
              "      <td>0</td>\n",
              "      <td>4.012892</td>\n",
              "      <td>3.810110</td>\n",
              "      <td>0.383381</td>\n",
              "      <td>23:09</td>\n",
              "    </tr>\n",
              "  </tbody>\n",
              "</table>"
            ],
            "text/plain": [
              "<IPython.core.display.HTML object>"
            ]
          },
          "metadata": {
            "tags": []
          }
        }
      ]
    },
    {
      "cell_type": "code",
      "metadata": {
        "id": "_BnSuAeCwkBe",
        "outputId": "be704380-0ba2-4b10-abfd-e55636313ffa",
        "colab": {
          "base_uri": "https://localhost:8080/",
          "height": 80
        }
      },
      "source": [
        "learn.fit_one_cycle(1, 1e-3)"
      ],
      "execution_count": 23,
      "outputs": [
        {
          "output_type": "display_data",
          "data": {
            "text/html": [
              "<table border=\"1\" class=\"dataframe\">\n",
              "  <thead>\n",
              "    <tr style=\"text-align: left;\">\n",
              "      <th>epoch</th>\n",
              "      <th>train_loss</th>\n",
              "      <th>valid_loss</th>\n",
              "      <th>accuracy</th>\n",
              "      <th>time</th>\n",
              "    </tr>\n",
              "  </thead>\n",
              "  <tbody>\n",
              "    <tr>\n",
              "      <td>0</td>\n",
              "      <td>3.728695</td>\n",
              "      <td>3.765530</td>\n",
              "      <td>0.387649</td>\n",
              "      <td>22:57</td>\n",
              "    </tr>\n",
              "  </tbody>\n",
              "</table>"
            ],
            "text/plain": [
              "<IPython.core.display.HTML object>"
            ]
          },
          "metadata": {
            "tags": []
          }
        }
      ]
    },
    {
      "cell_type": "code",
      "metadata": {
        "id": "MuTm-RFjwrEX",
        "outputId": "ea998a0d-a1c9-4c09-810c-0683e3a2366c",
        "colab": {
          "base_uri": "https://localhost:8080/",
          "height": 80
        }
      },
      "source": [
        "learn.fit_one_cycle(1, 1e-3)"
      ],
      "execution_count": 24,
      "outputs": [
        {
          "output_type": "display_data",
          "data": {
            "text/html": [
              "<table border=\"1\" class=\"dataframe\">\n",
              "  <thead>\n",
              "    <tr style=\"text-align: left;\">\n",
              "      <th>epoch</th>\n",
              "      <th>train_loss</th>\n",
              "      <th>valid_loss</th>\n",
              "      <th>accuracy</th>\n",
              "      <th>time</th>\n",
              "    </tr>\n",
              "  </thead>\n",
              "  <tbody>\n",
              "    <tr>\n",
              "      <td>0</td>\n",
              "      <td>3.678475</td>\n",
              "      <td>3.732365</td>\n",
              "      <td>0.391058</td>\n",
              "      <td>23:03</td>\n",
              "    </tr>\n",
              "  </tbody>\n",
              "</table>"
            ],
            "text/plain": [
              "<IPython.core.display.HTML object>"
            ]
          },
          "metadata": {
            "tags": []
          }
        }
      ]
    },
    {
      "cell_type": "code",
      "metadata": {
        "id": "1Er2ExO8wr7Y"
      },
      "source": [
        "learn.save_encoder('pubmed_cadec_twadrl_mixed_fold6_first')"
      ],
      "execution_count": 25,
      "outputs": []
    },
    {
      "cell_type": "code",
      "metadata": {
        "id": "z52cZs2qwvad",
        "outputId": "21df7193-9cad-4c64-d8c4-e3d42a68d94c",
        "colab": {
          "base_uri": "https://localhost:8080/",
          "height": 80
        }
      },
      "source": [
        "learn = text_classifier_learner(data_clas,AWD_LSTM, drop_mult=0.5)\n",
        "learn.load_encoder('pubmed_cadec_twadrl_mixed_fold6_first')\n",
        "learn.fit_one_cycle(1, 1e-2)"
      ],
      "execution_count": 26,
      "outputs": [
        {
          "output_type": "display_data",
          "data": {
            "text/html": [
              "<table border=\"1\" class=\"dataframe\">\n",
              "  <thead>\n",
              "    <tr style=\"text-align: left;\">\n",
              "      <th>epoch</th>\n",
              "      <th>train_loss</th>\n",
              "      <th>valid_loss</th>\n",
              "      <th>accuracy</th>\n",
              "      <th>time</th>\n",
              "    </tr>\n",
              "  </thead>\n",
              "  <tbody>\n",
              "    <tr>\n",
              "      <td>0</td>\n",
              "      <td>7.137756</td>\n",
              "      <td>6.667123</td>\n",
              "      <td>0.089286</td>\n",
              "      <td>00:22</td>\n",
              "    </tr>\n",
              "  </tbody>\n",
              "</table>"
            ],
            "text/plain": [
              "<IPython.core.display.HTML object>"
            ]
          },
          "metadata": {
            "tags": []
          }
        }
      ]
    },
    {
      "cell_type": "code",
      "metadata": {
        "id": "ImwQP1PJwzxd",
        "outputId": "ccc88987-9bfc-4ecb-9fb7-401d1f8091c2",
        "colab": {
          "base_uri": "https://localhost:8080/",
          "height": 80
        }
      },
      "source": [
        "learn.freeze_to(-2)\n",
        "learn.fit_one_cycle(1, slice(5e-3/2., 5e-3))"
      ],
      "execution_count": 27,
      "outputs": [
        {
          "output_type": "display_data",
          "data": {
            "text/html": [
              "<table border=\"1\" class=\"dataframe\">\n",
              "  <thead>\n",
              "    <tr style=\"text-align: left;\">\n",
              "      <th>epoch</th>\n",
              "      <th>train_loss</th>\n",
              "      <th>valid_loss</th>\n",
              "      <th>accuracy</th>\n",
              "      <th>time</th>\n",
              "    </tr>\n",
              "  </thead>\n",
              "  <tbody>\n",
              "    <tr>\n",
              "      <td>0</td>\n",
              "      <td>6.198231</td>\n",
              "      <td>5.462711</td>\n",
              "      <td>0.107143</td>\n",
              "      <td>00:27</td>\n",
              "    </tr>\n",
              "  </tbody>\n",
              "</table>"
            ],
            "text/plain": [
              "<IPython.core.display.HTML object>"
            ]
          },
          "metadata": {
            "tags": []
          }
        }
      ]
    },
    {
      "cell_type": "code",
      "metadata": {
        "id": "Owff_BJXw53u",
        "outputId": "1058e309-d5ee-403c-8e32-62d23839e37a",
        "colab": {
          "base_uri": "https://localhost:8080/",
          "height": 80
        }
      },
      "source": [
        "learn.unfreeze()\n",
        "learn.fit_one_cycle(1, slice(2e-3/100, 2e-3))"
      ],
      "execution_count": 28,
      "outputs": [
        {
          "output_type": "display_data",
          "data": {
            "text/html": [
              "<table border=\"1\" class=\"dataframe\">\n",
              "  <thead>\n",
              "    <tr style=\"text-align: left;\">\n",
              "      <th>epoch</th>\n",
              "      <th>train_loss</th>\n",
              "      <th>valid_loss</th>\n",
              "      <th>accuracy</th>\n",
              "      <th>time</th>\n",
              "    </tr>\n",
              "  </thead>\n",
              "  <tbody>\n",
              "    <tr>\n",
              "      <td>0</td>\n",
              "      <td>5.734224</td>\n",
              "      <td>5.149592</td>\n",
              "      <td>0.125000</td>\n",
              "      <td>01:10</td>\n",
              "    </tr>\n",
              "  </tbody>\n",
              "</table>"
            ],
            "text/plain": [
              "<IPython.core.display.HTML object>"
            ]
          },
          "metadata": {
            "tags": []
          }
        }
      ]
    },
    {
      "cell_type": "code",
      "metadata": {
        "id": "lqAyu56V8Waq",
        "outputId": "372e3a48-ff19-4cfd-a404-8e56de775e25",
        "colab": {
          "base_uri": "https://localhost:8080/",
          "height": 111
        }
      },
      "source": [
        "learn.fit_one_cycle(2, slice(2e-3/100, 2e-3))"
      ],
      "execution_count": 29,
      "outputs": [
        {
          "output_type": "display_data",
          "data": {
            "text/html": [
              "<table border=\"1\" class=\"dataframe\">\n",
              "  <thead>\n",
              "    <tr style=\"text-align: left;\">\n",
              "      <th>epoch</th>\n",
              "      <th>train_loss</th>\n",
              "      <th>valid_loss</th>\n",
              "      <th>accuracy</th>\n",
              "      <th>time</th>\n",
              "    </tr>\n",
              "  </thead>\n",
              "  <tbody>\n",
              "    <tr>\n",
              "      <td>0</td>\n",
              "      <td>5.436070</td>\n",
              "      <td>4.900697</td>\n",
              "      <td>0.142857</td>\n",
              "      <td>01:05</td>\n",
              "    </tr>\n",
              "    <tr>\n",
              "      <td>1</td>\n",
              "      <td>5.209563</td>\n",
              "      <td>4.773376</td>\n",
              "      <td>0.151786</td>\n",
              "      <td>01:08</td>\n",
              "    </tr>\n",
              "  </tbody>\n",
              "</table>"
            ],
            "text/plain": [
              "<IPython.core.display.HTML object>"
            ]
          },
          "metadata": {
            "tags": []
          }
        }
      ]
    },
    {
      "cell_type": "code",
      "metadata": {
        "id": "a7I1xMRp8bUd",
        "outputId": "57e40479-942e-4239-85f5-0557c402abff",
        "colab": {
          "base_uri": "https://localhost:8080/",
          "height": 111
        }
      },
      "source": [
        "learn.fit_one_cycle(2, slice(2e-3/100, 2e-3))"
      ],
      "execution_count": 30,
      "outputs": [
        {
          "output_type": "display_data",
          "data": {
            "text/html": [
              "<table border=\"1\" class=\"dataframe\">\n",
              "  <thead>\n",
              "    <tr style=\"text-align: left;\">\n",
              "      <th>epoch</th>\n",
              "      <th>train_loss</th>\n",
              "      <th>valid_loss</th>\n",
              "      <th>accuracy</th>\n",
              "      <th>time</th>\n",
              "    </tr>\n",
              "  </thead>\n",
              "  <tbody>\n",
              "    <tr>\n",
              "      <td>0</td>\n",
              "      <td>4.922633</td>\n",
              "      <td>4.561675</td>\n",
              "      <td>0.178571</td>\n",
              "      <td>01:09</td>\n",
              "    </tr>\n",
              "    <tr>\n",
              "      <td>1</td>\n",
              "      <td>4.752009</td>\n",
              "      <td>4.491812</td>\n",
              "      <td>0.187500</td>\n",
              "      <td>01:07</td>\n",
              "    </tr>\n",
              "  </tbody>\n",
              "</table>"
            ],
            "text/plain": [
              "<IPython.core.display.HTML object>"
            ]
          },
          "metadata": {
            "tags": []
          }
        }
      ]
    },
    {
      "cell_type": "code",
      "metadata": {
        "id": "UAnti-XmGVfO",
        "outputId": "9897bd3b-10d2-406e-96e7-67703ca3e870",
        "colab": {
          "base_uri": "https://localhost:8080/",
          "height": 111
        }
      },
      "source": [
        "learn.fit_one_cycle(2, slice(2e-3/100, 2e-3))"
      ],
      "execution_count": 31,
      "outputs": [
        {
          "output_type": "display_data",
          "data": {
            "text/html": [
              "<table border=\"1\" class=\"dataframe\">\n",
              "  <thead>\n",
              "    <tr style=\"text-align: left;\">\n",
              "      <th>epoch</th>\n",
              "      <th>train_loss</th>\n",
              "      <th>valid_loss</th>\n",
              "      <th>accuracy</th>\n",
              "      <th>time</th>\n",
              "    </tr>\n",
              "  </thead>\n",
              "  <tbody>\n",
              "    <tr>\n",
              "      <td>0</td>\n",
              "      <td>4.518202</td>\n",
              "      <td>4.375848</td>\n",
              "      <td>0.196429</td>\n",
              "      <td>01:04</td>\n",
              "    </tr>\n",
              "    <tr>\n",
              "      <td>1</td>\n",
              "      <td>4.375280</td>\n",
              "      <td>4.337149</td>\n",
              "      <td>0.187500</td>\n",
              "      <td>01:09</td>\n",
              "    </tr>\n",
              "  </tbody>\n",
              "</table>"
            ],
            "text/plain": [
              "<IPython.core.display.HTML object>"
            ]
          },
          "metadata": {
            "tags": []
          }
        }
      ]
    },
    {
      "cell_type": "code",
      "metadata": {
        "id": "bIft7W25GwSu",
        "outputId": "cf46fabb-119d-496e-ca93-f56e53a25c22",
        "colab": {
          "base_uri": "https://localhost:8080/",
          "height": 111
        }
      },
      "source": [
        "learn.fit_one_cycle(2, slice(2e-3/100, 2e-3))"
      ],
      "execution_count": 32,
      "outputs": [
        {
          "output_type": "display_data",
          "data": {
            "text/html": [
              "<table border=\"1\" class=\"dataframe\">\n",
              "  <thead>\n",
              "    <tr style=\"text-align: left;\">\n",
              "      <th>epoch</th>\n",
              "      <th>train_loss</th>\n",
              "      <th>valid_loss</th>\n",
              "      <th>accuracy</th>\n",
              "      <th>time</th>\n",
              "    </tr>\n",
              "  </thead>\n",
              "  <tbody>\n",
              "    <tr>\n",
              "      <td>0</td>\n",
              "      <td>4.176062</td>\n",
              "      <td>4.259490</td>\n",
              "      <td>0.214286</td>\n",
              "      <td>01:04</td>\n",
              "    </tr>\n",
              "    <tr>\n",
              "      <td>1</td>\n",
              "      <td>4.025954</td>\n",
              "      <td>4.192548</td>\n",
              "      <td>0.205357</td>\n",
              "      <td>01:06</td>\n",
              "    </tr>\n",
              "  </tbody>\n",
              "</table>"
            ],
            "text/plain": [
              "<IPython.core.display.HTML object>"
            ]
          },
          "metadata": {
            "tags": []
          }
        }
      ]
    },
    {
      "cell_type": "code",
      "metadata": {
        "id": "EEHszVRvGyFt",
        "outputId": "8764dd7b-3685-4353-8e03-318089dd1423",
        "colab": {
          "base_uri": "https://localhost:8080/",
          "height": 111
        }
      },
      "source": [
        "learn.fit_one_cycle(2, slice(2e-3/100, 2e-3))"
      ],
      "execution_count": 33,
      "outputs": [
        {
          "output_type": "display_data",
          "data": {
            "text/html": [
              "<table border=\"1\" class=\"dataframe\">\n",
              "  <thead>\n",
              "    <tr style=\"text-align: left;\">\n",
              "      <th>epoch</th>\n",
              "      <th>train_loss</th>\n",
              "      <th>valid_loss</th>\n",
              "      <th>accuracy</th>\n",
              "      <th>time</th>\n",
              "    </tr>\n",
              "  </thead>\n",
              "  <tbody>\n",
              "    <tr>\n",
              "      <td>0</td>\n",
              "      <td>3.846878</td>\n",
              "      <td>4.152839</td>\n",
              "      <td>0.214286</td>\n",
              "      <td>01:06</td>\n",
              "    </tr>\n",
              "    <tr>\n",
              "      <td>1</td>\n",
              "      <td>3.695011</td>\n",
              "      <td>4.031169</td>\n",
              "      <td>0.258929</td>\n",
              "      <td>01:07</td>\n",
              "    </tr>\n",
              "  </tbody>\n",
              "</table>"
            ],
            "text/plain": [
              "<IPython.core.display.HTML object>"
            ]
          },
          "metadata": {
            "tags": []
          }
        }
      ]
    },
    {
      "cell_type": "code",
      "metadata": {
        "id": "XsHfrhCHG3dN",
        "outputId": "0328f995-3dfe-4adf-933e-dfea3c565646",
        "colab": {
          "base_uri": "https://localhost:8080/",
          "height": 173
        }
      },
      "source": [
        "learn.fit_one_cycle(4, slice(2e-3/100, 2e-3))"
      ],
      "execution_count": 34,
      "outputs": [
        {
          "output_type": "display_data",
          "data": {
            "text/html": [
              "<table border=\"1\" class=\"dataframe\">\n",
              "  <thead>\n",
              "    <tr style=\"text-align: left;\">\n",
              "      <th>epoch</th>\n",
              "      <th>train_loss</th>\n",
              "      <th>valid_loss</th>\n",
              "      <th>accuracy</th>\n",
              "      <th>time</th>\n",
              "    </tr>\n",
              "  </thead>\n",
              "  <tbody>\n",
              "    <tr>\n",
              "      <td>0</td>\n",
              "      <td>3.497334</td>\n",
              "      <td>3.998306</td>\n",
              "      <td>0.258929</td>\n",
              "      <td>01:11</td>\n",
              "    </tr>\n",
              "    <tr>\n",
              "      <td>1</td>\n",
              "      <td>3.424232</td>\n",
              "      <td>3.985401</td>\n",
              "      <td>0.303571</td>\n",
              "      <td>01:04</td>\n",
              "    </tr>\n",
              "    <tr>\n",
              "      <td>2</td>\n",
              "      <td>3.252732</td>\n",
              "      <td>3.828943</td>\n",
              "      <td>0.357143</td>\n",
              "      <td>01:09</td>\n",
              "    </tr>\n",
              "    <tr>\n",
              "      <td>3</td>\n",
              "      <td>3.066812</td>\n",
              "      <td>3.846464</td>\n",
              "      <td>0.366071</td>\n",
              "      <td>01:05</td>\n",
              "    </tr>\n",
              "  </tbody>\n",
              "</table>"
            ],
            "text/plain": [
              "<IPython.core.display.HTML object>"
            ]
          },
          "metadata": {
            "tags": []
          }
        }
      ]
    },
    {
      "cell_type": "code",
      "metadata": {
        "id": "0Zsd99isb9EQ",
        "outputId": "579720f0-ab6d-4974-ed94-d70bd003c8e2",
        "colab": {
          "base_uri": "https://localhost:8080/",
          "height": 173
        }
      },
      "source": [
        "learn.fit_one_cycle(4, slice(2e-3/100, 2e-3))"
      ],
      "execution_count": 35,
      "outputs": [
        {
          "output_type": "display_data",
          "data": {
            "text/html": [
              "<table border=\"1\" class=\"dataframe\">\n",
              "  <thead>\n",
              "    <tr style=\"text-align: left;\">\n",
              "      <th>epoch</th>\n",
              "      <th>train_loss</th>\n",
              "      <th>valid_loss</th>\n",
              "      <th>accuracy</th>\n",
              "      <th>time</th>\n",
              "    </tr>\n",
              "  </thead>\n",
              "  <tbody>\n",
              "    <tr>\n",
              "      <td>0</td>\n",
              "      <td>2.864336</td>\n",
              "      <td>3.756300</td>\n",
              "      <td>0.348214</td>\n",
              "      <td>01:06</td>\n",
              "    </tr>\n",
              "    <tr>\n",
              "      <td>1</td>\n",
              "      <td>2.813767</td>\n",
              "      <td>3.778448</td>\n",
              "      <td>0.401786</td>\n",
              "      <td>01:05</td>\n",
              "    </tr>\n",
              "    <tr>\n",
              "      <td>2</td>\n",
              "      <td>2.637537</td>\n",
              "      <td>3.742573</td>\n",
              "      <td>0.392857</td>\n",
              "      <td>01:07</td>\n",
              "    </tr>\n",
              "    <tr>\n",
              "      <td>3</td>\n",
              "      <td>2.492473</td>\n",
              "      <td>3.777234</td>\n",
              "      <td>0.392857</td>\n",
              "      <td>01:07</td>\n",
              "    </tr>\n",
              "  </tbody>\n",
              "</table>"
            ],
            "text/plain": [
              "<IPython.core.display.HTML object>"
            ]
          },
          "metadata": {
            "tags": []
          }
        }
      ]
    },
    {
      "cell_type": "code",
      "metadata": {
        "id": "atNWNKDFPbuI",
        "outputId": "4a5586f1-7815-4c75-fae3-4b39c69cdf43",
        "colab": {
          "base_uri": "https://localhost:8080/",
          "height": 173
        }
      },
      "source": [
        "learn.fit_one_cycle(4, slice(2e-3/100, 2e-3))"
      ],
      "execution_count": 36,
      "outputs": [
        {
          "output_type": "display_data",
          "data": {
            "text/html": [
              "<table border=\"1\" class=\"dataframe\">\n",
              "  <thead>\n",
              "    <tr style=\"text-align: left;\">\n",
              "      <th>epoch</th>\n",
              "      <th>train_loss</th>\n",
              "      <th>valid_loss</th>\n",
              "      <th>accuracy</th>\n",
              "      <th>time</th>\n",
              "    </tr>\n",
              "  </thead>\n",
              "  <tbody>\n",
              "    <tr>\n",
              "      <td>0</td>\n",
              "      <td>2.390920</td>\n",
              "      <td>3.749966</td>\n",
              "      <td>0.375000</td>\n",
              "      <td>01:07</td>\n",
              "    </tr>\n",
              "    <tr>\n",
              "      <td>1</td>\n",
              "      <td>2.313315</td>\n",
              "      <td>3.759558</td>\n",
              "      <td>0.383929</td>\n",
              "      <td>01:10</td>\n",
              "    </tr>\n",
              "    <tr>\n",
              "      <td>2</td>\n",
              "      <td>2.153415</td>\n",
              "      <td>3.747515</td>\n",
              "      <td>0.392857</td>\n",
              "      <td>01:04</td>\n",
              "    </tr>\n",
              "    <tr>\n",
              "      <td>3</td>\n",
              "      <td>1.996921</td>\n",
              "      <td>3.730065</td>\n",
              "      <td>0.383929</td>\n",
              "      <td>01:06</td>\n",
              "    </tr>\n",
              "  </tbody>\n",
              "</table>"
            ],
            "text/plain": [
              "<IPython.core.display.HTML object>"
            ]
          },
          "metadata": {
            "tags": []
          }
        }
      ]
    },
    {
      "cell_type": "code",
      "metadata": {
        "id": "rKrBTZ0T1uVA",
        "outputId": "89b97c31-f02f-4b90-9dbb-3b59db8f08fe",
        "colab": {
          "base_uri": "https://localhost:8080/",
          "height": 173
        }
      },
      "source": [
        "learn.fit_one_cycle(4, slice(2e-3/100, 2e-3))"
      ],
      "execution_count": 37,
      "outputs": [
        {
          "output_type": "display_data",
          "data": {
            "text/html": [
              "<table border=\"1\" class=\"dataframe\">\n",
              "  <thead>\n",
              "    <tr style=\"text-align: left;\">\n",
              "      <th>epoch</th>\n",
              "      <th>train_loss</th>\n",
              "      <th>valid_loss</th>\n",
              "      <th>accuracy</th>\n",
              "      <th>time</th>\n",
              "    </tr>\n",
              "  </thead>\n",
              "  <tbody>\n",
              "    <tr>\n",
              "      <td>0</td>\n",
              "      <td>1.870489</td>\n",
              "      <td>3.753377</td>\n",
              "      <td>0.392857</td>\n",
              "      <td>01:07</td>\n",
              "    </tr>\n",
              "    <tr>\n",
              "      <td>1</td>\n",
              "      <td>1.834096</td>\n",
              "      <td>3.984531</td>\n",
              "      <td>0.383929</td>\n",
              "      <td>01:07</td>\n",
              "    </tr>\n",
              "    <tr>\n",
              "      <td>2</td>\n",
              "      <td>1.697580</td>\n",
              "      <td>4.040472</td>\n",
              "      <td>0.410714</td>\n",
              "      <td>01:04</td>\n",
              "    </tr>\n",
              "    <tr>\n",
              "      <td>3</td>\n",
              "      <td>1.580660</td>\n",
              "      <td>3.980116</td>\n",
              "      <td>0.383929</td>\n",
              "      <td>01:05</td>\n",
              "    </tr>\n",
              "  </tbody>\n",
              "</table>"
            ],
            "text/plain": [
              "<IPython.core.display.HTML object>"
            ]
          },
          "metadata": {
            "tags": []
          }
        }
      ]
    },
    {
      "cell_type": "code",
      "metadata": {
        "id": "ajQC6WDg1yA9",
        "outputId": "b07a94f9-419a-42a5-b233-137178b94cba",
        "colab": {
          "base_uri": "https://localhost:8080/",
          "height": 173
        }
      },
      "source": [
        "learn.fit_one_cycle(4, slice(2e-3/100, 2e-3))"
      ],
      "execution_count": 38,
      "outputs": [
        {
          "output_type": "display_data",
          "data": {
            "text/html": [
              "<table border=\"1\" class=\"dataframe\">\n",
              "  <thead>\n",
              "    <tr style=\"text-align: left;\">\n",
              "      <th>epoch</th>\n",
              "      <th>train_loss</th>\n",
              "      <th>valid_loss</th>\n",
              "      <th>accuracy</th>\n",
              "      <th>time</th>\n",
              "    </tr>\n",
              "  </thead>\n",
              "  <tbody>\n",
              "    <tr>\n",
              "      <td>0</td>\n",
              "      <td>1.496447</td>\n",
              "      <td>3.947343</td>\n",
              "      <td>0.383929</td>\n",
              "      <td>01:08</td>\n",
              "    </tr>\n",
              "    <tr>\n",
              "      <td>1</td>\n",
              "      <td>1.474517</td>\n",
              "      <td>3.976120</td>\n",
              "      <td>0.383929</td>\n",
              "      <td>01:07</td>\n",
              "    </tr>\n",
              "    <tr>\n",
              "      <td>2</td>\n",
              "      <td>1.336496</td>\n",
              "      <td>4.145883</td>\n",
              "      <td>0.366071</td>\n",
              "      <td>01:04</td>\n",
              "    </tr>\n",
              "    <tr>\n",
              "      <td>3</td>\n",
              "      <td>1.226804</td>\n",
              "      <td>4.040338</td>\n",
              "      <td>0.392857</td>\n",
              "      <td>01:08</td>\n",
              "    </tr>\n",
              "  </tbody>\n",
              "</table>"
            ],
            "text/plain": [
              "<IPython.core.display.HTML object>"
            ]
          },
          "metadata": {
            "tags": []
          }
        }
      ]
    },
    {
      "cell_type": "code",
      "metadata": {
        "id": "KKydb0B4BKGk",
        "outputId": "76cb3d25-048f-44ea-fea4-81023a8c6723",
        "colab": {
          "base_uri": "https://localhost:8080/",
          "height": 173
        }
      },
      "source": [
        "learn.fit_one_cycle(4, slice(2e-3/100, 2e-3))"
      ],
      "execution_count": 39,
      "outputs": [
        {
          "output_type": "display_data",
          "data": {
            "text/html": [
              "<table border=\"1\" class=\"dataframe\">\n",
              "  <thead>\n",
              "    <tr style=\"text-align: left;\">\n",
              "      <th>epoch</th>\n",
              "      <th>train_loss</th>\n",
              "      <th>valid_loss</th>\n",
              "      <th>accuracy</th>\n",
              "      <th>time</th>\n",
              "    </tr>\n",
              "  </thead>\n",
              "  <tbody>\n",
              "    <tr>\n",
              "      <td>0</td>\n",
              "      <td>1.124418</td>\n",
              "      <td>4.119080</td>\n",
              "      <td>0.383929</td>\n",
              "      <td>01:07</td>\n",
              "    </tr>\n",
              "    <tr>\n",
              "      <td>1</td>\n",
              "      <td>1.105890</td>\n",
              "      <td>4.318827</td>\n",
              "      <td>0.366071</td>\n",
              "      <td>01:04</td>\n",
              "    </tr>\n",
              "    <tr>\n",
              "      <td>2</td>\n",
              "      <td>1.023191</td>\n",
              "      <td>4.259465</td>\n",
              "      <td>0.401786</td>\n",
              "      <td>01:08</td>\n",
              "    </tr>\n",
              "    <tr>\n",
              "      <td>3</td>\n",
              "      <td>0.949756</td>\n",
              "      <td>4.333804</td>\n",
              "      <td>0.401786</td>\n",
              "      <td>01:06</td>\n",
              "    </tr>\n",
              "  </tbody>\n",
              "</table>"
            ],
            "text/plain": [
              "<IPython.core.display.HTML object>"
            ]
          },
          "metadata": {
            "tags": []
          }
        }
      ]
    },
    {
      "cell_type": "code",
      "metadata": {
        "id": "T2APKtFKBpGY",
        "outputId": "eaa71b69-a64e-4f3d-fd52-1bfe542c0ffe",
        "colab": {
          "base_uri": "https://localhost:8080/",
          "height": 173
        }
      },
      "source": [
        "learn.fit_one_cycle(4, slice(2e-3/100, 2e-3))"
      ],
      "execution_count": 40,
      "outputs": [
        {
          "output_type": "display_data",
          "data": {
            "text/html": [
              "<table border=\"1\" class=\"dataframe\">\n",
              "  <thead>\n",
              "    <tr style=\"text-align: left;\">\n",
              "      <th>epoch</th>\n",
              "      <th>train_loss</th>\n",
              "      <th>valid_loss</th>\n",
              "      <th>accuracy</th>\n",
              "      <th>time</th>\n",
              "    </tr>\n",
              "  </thead>\n",
              "  <tbody>\n",
              "    <tr>\n",
              "      <td>0</td>\n",
              "      <td>0.899530</td>\n",
              "      <td>4.350904</td>\n",
              "      <td>0.401786</td>\n",
              "      <td>01:10</td>\n",
              "    </tr>\n",
              "    <tr>\n",
              "      <td>1</td>\n",
              "      <td>0.908967</td>\n",
              "      <td>4.661819</td>\n",
              "      <td>0.348214</td>\n",
              "      <td>01:11</td>\n",
              "    </tr>\n",
              "    <tr>\n",
              "      <td>2</td>\n",
              "      <td>0.844703</td>\n",
              "      <td>4.580027</td>\n",
              "      <td>0.348214</td>\n",
              "      <td>01:05</td>\n",
              "    </tr>\n",
              "    <tr>\n",
              "      <td>3</td>\n",
              "      <td>0.756089</td>\n",
              "      <td>4.573040</td>\n",
              "      <td>0.375000</td>\n",
              "      <td>01:06</td>\n",
              "    </tr>\n",
              "  </tbody>\n",
              "</table>"
            ],
            "text/plain": [
              "<IPython.core.display.HTML object>"
            ]
          },
          "metadata": {
            "tags": []
          }
        }
      ]
    },
    {
      "cell_type": "code",
      "metadata": {
        "id": "qtTypA1sPgLU",
        "outputId": "85cf4e6b-76a3-4983-cb6f-0cc6736b4232",
        "colab": {
          "base_uri": "https://localhost:8080/",
          "height": 111
        }
      },
      "source": [
        "learn.fit_one_cycle(2, slice(2e-3/100, 2e-3))"
      ],
      "execution_count": 41,
      "outputs": [
        {
          "output_type": "display_data",
          "data": {
            "text/html": [
              "<table border=\"1\" class=\"dataframe\">\n",
              "  <thead>\n",
              "    <tr style=\"text-align: left;\">\n",
              "      <th>epoch</th>\n",
              "      <th>train_loss</th>\n",
              "      <th>valid_loss</th>\n",
              "      <th>accuracy</th>\n",
              "      <th>time</th>\n",
              "    </tr>\n",
              "  </thead>\n",
              "  <tbody>\n",
              "    <tr>\n",
              "      <td>0</td>\n",
              "      <td>0.718689</td>\n",
              "      <td>4.569120</td>\n",
              "      <td>0.383929</td>\n",
              "      <td>01:05</td>\n",
              "    </tr>\n",
              "    <tr>\n",
              "      <td>1</td>\n",
              "      <td>0.699477</td>\n",
              "      <td>4.567524</td>\n",
              "      <td>0.401786</td>\n",
              "      <td>01:05</td>\n",
              "    </tr>\n",
              "  </tbody>\n",
              "</table>"
            ],
            "text/plain": [
              "<IPython.core.display.HTML object>"
            ]
          },
          "metadata": {
            "tags": []
          }
        }
      ]
    },
    {
      "cell_type": "code",
      "metadata": {
        "id": "b242kBsTUp9Y",
        "outputId": "b9f47600-fbb0-4b9c-b439-7068d1a84803",
        "colab": {
          "base_uri": "https://localhost:8080/",
          "height": 111
        }
      },
      "source": [
        "learn.fit_one_cycle(2, slice(2e-3/100, 2e-3))"
      ],
      "execution_count": 42,
      "outputs": [
        {
          "output_type": "display_data",
          "data": {
            "text/html": [
              "<table border=\"1\" class=\"dataframe\">\n",
              "  <thead>\n",
              "    <tr style=\"text-align: left;\">\n",
              "      <th>epoch</th>\n",
              "      <th>train_loss</th>\n",
              "      <th>valid_loss</th>\n",
              "      <th>accuracy</th>\n",
              "      <th>time</th>\n",
              "    </tr>\n",
              "  </thead>\n",
              "  <tbody>\n",
              "    <tr>\n",
              "      <td>0</td>\n",
              "      <td>0.668746</td>\n",
              "      <td>4.632843</td>\n",
              "      <td>0.375000</td>\n",
              "      <td>01:10</td>\n",
              "    </tr>\n",
              "    <tr>\n",
              "      <td>1</td>\n",
              "      <td>0.648184</td>\n",
              "      <td>4.588383</td>\n",
              "      <td>0.383929</td>\n",
              "      <td>01:09</td>\n",
              "    </tr>\n",
              "  </tbody>\n",
              "</table>"
            ],
            "text/plain": [
              "<IPython.core.display.HTML object>"
            ]
          },
          "metadata": {
            "tags": []
          }
        }
      ]
    },
    {
      "cell_type": "code",
      "metadata": {
        "id": "Duwf1Ih5VeDZ",
        "outputId": "1dc129b4-6c06-4b7c-b4a6-3888ce687f45",
        "colab": {
          "base_uri": "https://localhost:8080/",
          "height": 80
        }
      },
      "source": [
        "learn.fit_one_cycle(1, slice(2e-3/100, 2e-3))"
      ],
      "execution_count": 43,
      "outputs": [
        {
          "output_type": "display_data",
          "data": {
            "text/html": [
              "<table border=\"1\" class=\"dataframe\">\n",
              "  <thead>\n",
              "    <tr style=\"text-align: left;\">\n",
              "      <th>epoch</th>\n",
              "      <th>train_loss</th>\n",
              "      <th>valid_loss</th>\n",
              "      <th>accuracy</th>\n",
              "      <th>time</th>\n",
              "    </tr>\n",
              "  </thead>\n",
              "  <tbody>\n",
              "    <tr>\n",
              "      <td>0</td>\n",
              "      <td>0.644740</td>\n",
              "      <td>4.766668</td>\n",
              "      <td>0.392857</td>\n",
              "      <td>01:05</td>\n",
              "    </tr>\n",
              "  </tbody>\n",
              "</table>"
            ],
            "text/plain": [
              "<IPython.core.display.HTML object>"
            ]
          },
          "metadata": {
            "tags": []
          }
        }
      ]
    },
    {
      "cell_type": "code",
      "metadata": {
        "id": "c65d-osfDUXm"
      },
      "source": [
        "# save the best model\n",
        "\n",
        "learn.save_encoder('pubmed_cadec_twadrl_mixed_fold6')"
      ],
      "execution_count": 44,
      "outputs": []
    },
    {
      "cell_type": "code",
      "metadata": {
        "id": "5h-A_GpAIYg8",
        "outputId": "9fb63370-a702-4032-e97b-ed3dec469f7c",
        "colab": {
          "base_uri": "https://localhost:8080/",
          "height": 80
        }
      },
      "source": [
        "learn.fit_one_cycle(1, slice(2e-3/100, 2e-3))"
      ],
      "execution_count": 45,
      "outputs": [
        {
          "output_type": "display_data",
          "data": {
            "text/html": [
              "<table border=\"1\" class=\"dataframe\">\n",
              "  <thead>\n",
              "    <tr style=\"text-align: left;\">\n",
              "      <th>epoch</th>\n",
              "      <th>train_loss</th>\n",
              "      <th>valid_loss</th>\n",
              "      <th>accuracy</th>\n",
              "      <th>time</th>\n",
              "    </tr>\n",
              "  </thead>\n",
              "  <tbody>\n",
              "    <tr>\n",
              "      <td>0</td>\n",
              "      <td>0.632201</td>\n",
              "      <td>4.804320</td>\n",
              "      <td>0.383929</td>\n",
              "      <td>01:06</td>\n",
              "    </tr>\n",
              "  </tbody>\n",
              "</table>"
            ],
            "text/plain": [
              "<IPython.core.display.HTML object>"
            ]
          },
          "metadata": {
            "tags": []
          }
        }
      ]
    },
    {
      "cell_type": "code",
      "metadata": {
        "id": "qc4poYxzIwca",
        "outputId": "1ffe093d-aece-4683-c930-e6630cd0534b",
        "colab": {
          "base_uri": "https://localhost:8080/",
          "height": 80
        }
      },
      "source": [
        "learn.fit_one_cycle(1, slice(2e-3/100, 2e-3))"
      ],
      "execution_count": 46,
      "outputs": [
        {
          "output_type": "display_data",
          "data": {
            "text/html": [
              "<table border=\"1\" class=\"dataframe\">\n",
              "  <thead>\n",
              "    <tr style=\"text-align: left;\">\n",
              "      <th>epoch</th>\n",
              "      <th>train_loss</th>\n",
              "      <th>valid_loss</th>\n",
              "      <th>accuracy</th>\n",
              "      <th>time</th>\n",
              "    </tr>\n",
              "  </thead>\n",
              "  <tbody>\n",
              "    <tr>\n",
              "      <td>0</td>\n",
              "      <td>0.608393</td>\n",
              "      <td>4.715539</td>\n",
              "      <td>0.383929</td>\n",
              "      <td>01:08</td>\n",
              "    </tr>\n",
              "  </tbody>\n",
              "</table>"
            ],
            "text/plain": [
              "<IPython.core.display.HTML object>"
            ]
          },
          "metadata": {
            "tags": []
          }
        }
      ]
    },
    {
      "cell_type": "code",
      "metadata": {
        "id": "66s4PxV1JVfo",
        "outputId": "575c81b9-bc95-4bf9-ea37-4c1b49c56718",
        "colab": {
          "base_uri": "https://localhost:8080/",
          "height": 80
        }
      },
      "source": [
        "learn.fit_one_cycle(1, slice(2e-3/100, 2e-3))"
      ],
      "execution_count": 47,
      "outputs": [
        {
          "output_type": "display_data",
          "data": {
            "text/html": [
              "<table border=\"1\" class=\"dataframe\">\n",
              "  <thead>\n",
              "    <tr style=\"text-align: left;\">\n",
              "      <th>epoch</th>\n",
              "      <th>train_loss</th>\n",
              "      <th>valid_loss</th>\n",
              "      <th>accuracy</th>\n",
              "      <th>time</th>\n",
              "    </tr>\n",
              "  </thead>\n",
              "  <tbody>\n",
              "    <tr>\n",
              "      <td>0</td>\n",
              "      <td>0.551251</td>\n",
              "      <td>4.944129</td>\n",
              "      <td>0.401786</td>\n",
              "      <td>01:07</td>\n",
              "    </tr>\n",
              "  </tbody>\n",
              "</table>"
            ],
            "text/plain": [
              "<IPython.core.display.HTML object>"
            ]
          },
          "metadata": {
            "tags": []
          }
        }
      ]
    },
    {
      "cell_type": "markdown",
      "metadata": {
        "id": "rCwZU0E2RgM6"
      },
      "source": [
        "# Part three: Predict on the test dataset"
      ]
    },
    {
      "cell_type": "code",
      "metadata": {
        "id": "gDm72c-dOu7d",
        "outputId": "5a554724-0dde-4cea-cea9-4c601841ade3",
        "colab": {
          "base_uri": "https://localhost:8080/",
          "height": 17
        }
      },
      "source": [
        "# use the test data for prediction\n",
        "\n",
        "preds, y = learn.get_preds(DatasetType.Test)"
      ],
      "execution_count": 48,
      "outputs": [
        {
          "output_type": "display_data",
          "data": {
            "text/html": [
              ""
            ],
            "text/plain": [
              "<IPython.core.display.HTML object>"
            ]
          },
          "metadata": {
            "tags": []
          }
        }
      ]
    },
    {
      "cell_type": "code",
      "metadata": {
        "id": "6tFSQcsWPvxn",
        "outputId": "88961c84-dbfb-4c5e-aced-53bc2068a017",
        "colab": {
          "base_uri": "https://localhost:8080/",
          "height": 105
        }
      },
      "source": [
        "predictions, *_ = learn.get_preds(DatasetType.Test)\n",
        "labels = np.argmax(predictions, 1)\n",
        "predict_list = labels.tolist()\n",
        "standard_list = test[0].tolist()\n",
        "\n",
        "print(len(predict_list))\n",
        "print(len(standard_list))\n",
        "\n",
        "print(predict_list)\n",
        "print(standard_list)"
      ],
      "execution_count": 49,
      "outputs": [
        {
          "output_type": "display_data",
          "data": {
            "text/html": [
              ""
            ],
            "text/plain": [
              "<IPython.core.display.HTML object>"
            ]
          },
          "metadata": {
            "tags": []
          }
        },
        {
          "output_type": "stream",
          "text": [
            "143\n",
            "143\n",
            "[2032, 1718, 2097, 1204, 978, 1096, 189, 1594, 189, 217, 224, 2103, 1578, 1936, 1936, 2147, 1768, 1327, 1599, 1136, 426, 532, 1787, 1371, 1371, 706, 1787, 1711, 755, 504, 792, 809, 1264, 2032, 1787, 824, 1099, 648, 908, 1278, 923, 1940, 974, 1325, 978, 978, 1822, 978, 2147, 1718, 1669, 187, 1073, 1099, 1769, 1214, 1787, 945, 1529, 1594, 1509, 561, 1204, 2023, 250, 1265, 1265, 1822, 1295, 2147, 1308, 1164, 371, 1340, 1925, 1458, 1787, 2194, 1327, 1711, 2173, 651, 1597, 1597, 1546, 1597, 1610, 1610, 1822, 1680, 1787, 1727, 2191, 1787, 265, 1727, 1727, 224, 1767, 1718, 1669, 1727, 1427, 1787, 1787, 1787, 1787, 1787, 1787, 978, 56, 824, 1884, 426, 1936, 1936, 233, 1936, 1857, 452, 1925, 452, 1798, 452, 2018, 2024, 1787, 2147, 2097, 1508, 1508, 2149, 224, 2147, 2147, 974, 233, 2147, 2147, 2147, 2149, 1521, 1521]\n",
            "[13, 24, 74, 85, 94, 187, 189, 189, 189, 217, 224, 224, 224, 233, 233, 233, 265, 355, 392, 396, 426, 532, 561, 600, 600, 706, 744, 749, 755, 791, 792, 809, 818, 818, 819, 825, 852, 858, 908, 908, 923, 966, 974, 974, 978, 978, 978, 978, 1073, 1073, 1073, 1096, 1099, 1099, 1099, 1125, 1136, 1136, 1145, 1163, 1175, 1199, 1204, 1204, 1204, 1265, 1265, 1295, 1295, 1295, 1308, 1308, 1327, 1340, 1373, 1458, 1507, 1511, 1524, 1531, 1582, 1597, 1597, 1597, 1597, 1597, 1610, 1610, 1676, 1680, 1718, 1718, 1718, 1718, 1724, 1727, 1727, 1727, 1767, 1767, 1767, 1769, 1769, 1787, 1787, 1787, 1787, 1787, 1787, 1822, 1845, 1884, 1884, 1924, 1936, 1936, 1936, 1936, 1940, 1942, 1942, 1942, 1974, 2002, 2018, 2024, 2032, 2032, 2074, 2077, 2077, 2103, 2123, 2147, 2147, 2147, 2147, 2147, 2147, 2147, 2149, 2191, 2194]\n"
          ],
          "name": "stdout"
        }
      ]
    },
    {
      "cell_type": "code",
      "metadata": {
        "id": "XIC4zufnMxtq",
        "outputId": "d298461f-98ee-4882-b6ee-f6f00b85665f",
        "colab": {
          "base_uri": "https://localhost:8080/",
          "height": 51
        }
      },
      "source": [
        "correct_num = 0\n",
        "\n",
        "for i in range(0, len(standard_list)):\n",
        "  if predict_list[i] == standard_list[i]:\n",
        "    correct_num = correct_num+1\n",
        "  else:\n",
        "    pass\n",
        "print(correct_num)\n",
        "\n",
        "predict_accuracy = correct_num/len(predict_list)\n",
        "print(predict_accuracy)"
      ],
      "execution_count": 50,
      "outputs": [
        {
          "output_type": "stream",
          "text": [
            "51\n",
            "0.35664335664335667\n"
          ],
          "name": "stdout"
        }
      ]
    },
    {
      "cell_type": "code",
      "metadata": {
        "id": "zlKMHp1CIaRJ"
      },
      "source": [
        ""
      ],
      "execution_count": 50,
      "outputs": []
    }
  ]
}