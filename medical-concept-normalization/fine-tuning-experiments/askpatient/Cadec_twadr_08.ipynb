{
  "nbformat": 4,
  "nbformat_minor": 0,
  "metadata": {
    "accelerator": "TPU",
    "colab": {
      "name": "Cadec_twadr_08.ipynb",
      "provenance": [],
      "collapsed_sections": [],
      "include_colab_link": true
    },
    "kernelspec": {
      "display_name": "Python 3",
      "name": "python3"
    }
  },
  "cells": [
    {
      "cell_type": "markdown",
      "metadata": {
        "id": "view-in-github",
        "colab_type": "text"
      },
      "source": [
        "<a href=\"https://colab.research.google.com/github/unt-iialab/medical-concept-normalization/blob/master/medical-concept-normalization/fine-tuning-experiments/askpatient/Cadec_twadr_08.ipynb\" target=\"_parent\"><img src=\"https://colab.research.google.com/assets/colab-badge.svg\" alt=\"Open In Colab\"/></a>"
      ]
    },
    {
      "cell_type": "code",
      "metadata": {
        "id": "adSi6i2-dWxy"
      },
      "source": [
        "import os"
      ],
      "execution_count": 1,
      "outputs": []
    },
    {
      "cell_type": "code",
      "metadata": {
        "id": "E7xYCRGPjd9B"
      },
      "source": [
        "base_dir = 'medical-concept-normalization'"
      ],
      "execution_count": 2,
      "outputs": []
    },
    {
      "cell_type": "code",
      "metadata": {
        "id": "yvIW3aUDjYNS"
      },
      "source": [
        "os.mkdir(base_dir)"
      ],
      "execution_count": 3,
      "outputs": []
    },
    {
      "cell_type": "code",
      "metadata": {
        "id": "es-FFLlfk6SG"
      },
      "source": [
        "os.mkdir('medical-concept-normalization/data_collection')"
      ],
      "execution_count": 4,
      "outputs": []
    },
    {
      "cell_type": "markdown",
      "metadata": {
        "id": "0R-Guw_VoJXm"
      },
      "source": [
        "**Install fastai and clone the fastai for text classification**\n",
        "\n"
      ]
    },
    {
      "cell_type": "code",
      "metadata": {
        "id": "QVZa3Z0PmHFH",
        "outputId": "f3453365-42bd-47ca-d131-7c01bad995df",
        "colab": {
          "base_uri": "https://localhost:8080/"
        }
      },
      "source": [
        "!curl https://course-v3.fast.ai/setup/colab | bash"
      ],
      "execution_count": 5,
      "outputs": [
        {
          "output_type": "stream",
          "text": [
            "  % Total    % Received % Xferd  Average Speed   Time    Time     Time  Current\n",
            "                                 Dload  Upload   Total   Spent    Left  Speed\n",
            "\r  0     0    0     0    0     0      0      0 --:--:-- --:--:-- --:--:--     0curl: (6) Could not resolve host: course-v3.fast.ai\n"
          ],
          "name": "stdout"
        }
      ]
    },
    {
      "cell_type": "code",
      "metadata": {
        "id": "_FBFFEBrmJC0",
        "outputId": "34d71ff6-72c1-4ab8-ae1f-797241f90f11",
        "colab": {
          "base_uri": "https://localhost:8080/"
        }
      },
      "source": [
        "!git clone https://github.com/wshuyi/demo-nlp-classification-fastai.git"
      ],
      "execution_count": 6,
      "outputs": [
        {
          "output_type": "stream",
          "text": [
            "Cloning into 'demo-nlp-classification-fastai'...\n",
            "remote: Enumerating objects: 9, done.\u001b[K\n",
            "remote: Total 9 (delta 0), reused 0 (delta 0), pack-reused 9\u001b[K\n",
            "Unpacking objects: 100% (9/9), done.\n"
          ],
          "name": "stdout"
        }
      ]
    },
    {
      "cell_type": "code",
      "metadata": {
        "id": "66zfh_JqmWMU"
      },
      "source": [
        "from fastai import *\n",
        "from fastai.text import *"
      ],
      "execution_count": 7,
      "outputs": []
    },
    {
      "cell_type": "markdown",
      "metadata": {
        "id": "mNIw-yALdBU9"
      },
      "source": [
        "**Set the path of the data collections**"
      ]
    },
    {
      "cell_type": "code",
      "metadata": {
        "id": "pzH7VMh4mqCL"
      },
      "source": [
        "path = Path('medical-concept-normalization/data_collection')"
      ],
      "execution_count": 8,
      "outputs": []
    },
    {
      "cell_type": "code",
      "metadata": {
        "id": "b8fjI6yyn4aS"
      },
      "source": [
        "# training data set\n",
        "\n",
        "train_csv = path/'TwADR-L.fold-8.train.csv'\n",
        "train = pd.read_csv(train_csv, header=None)\n",
        "#train.head()\n",
        "#train.info()"
      ],
      "execution_count": 10,
      "outputs": []
    },
    {
      "cell_type": "code",
      "metadata": {
        "id": "Hmlr-bAorfHd",
        "outputId": "9c51ce81-7c5c-4257-e5d4-221b2d8cac82",
        "colab": {
          "base_uri": "https://localhost:8080/",
          "height": 204
        }
      },
      "source": [
        "# validating data set\n",
        "\n",
        "valid = pd.read_csv(path/\"TwADR-L.fold-8.validation.csv\",header=None)\n",
        "valid.head()"
      ],
      "execution_count": 11,
      "outputs": [
        {
          "output_type": "execute_result",
          "data": {
            "text/html": [
              "<div>\n",
              "<style scoped>\n",
              "    .dataframe tbody tr th:only-of-type {\n",
              "        vertical-align: middle;\n",
              "    }\n",
              "\n",
              "    .dataframe tbody tr th {\n",
              "        vertical-align: top;\n",
              "    }\n",
              "\n",
              "    .dataframe thead th {\n",
              "        text-align: right;\n",
              "    }\n",
              "</style>\n",
              "<table border=\"1\" class=\"dataframe\">\n",
              "  <thead>\n",
              "    <tr style=\"text-align: right;\">\n",
              "      <th></th>\n",
              "      <th>0</th>\n",
              "      <th>1</th>\n",
              "    </tr>\n",
              "  </thead>\n",
              "  <tbody>\n",
              "    <tr>\n",
              "      <th>0</th>\n",
              "      <td>13</td>\n",
              "      <td>up all night</td>\n",
              "    </tr>\n",
              "    <tr>\n",
              "      <th>1</th>\n",
              "      <td>16</td>\n",
              "      <td>couldn't taste anything</td>\n",
              "    </tr>\n",
              "    <tr>\n",
              "      <th>2</th>\n",
              "      <td>74</td>\n",
              "      <td>useless without</td>\n",
              "    </tr>\n",
              "    <tr>\n",
              "      <th>3</th>\n",
              "      <td>119</td>\n",
              "      <td>anxiety</td>\n",
              "    </tr>\n",
              "    <tr>\n",
              "      <th>4</th>\n",
              "      <td>154</td>\n",
              "      <td>urticaria</td>\n",
              "    </tr>\n",
              "  </tbody>\n",
              "</table>\n",
              "</div>"
            ],
            "text/plain": [
              "     0                        1\n",
              "0   13             up all night\n",
              "1   16  couldn't taste anything\n",
              "2   74          useless without\n",
              "3  119                  anxiety\n",
              "4  154                urticaria"
            ]
          },
          "metadata": {
            "tags": []
          },
          "execution_count": 11
        }
      ]
    },
    {
      "cell_type": "code",
      "metadata": {
        "id": "cOza9dfSsBud",
        "outputId": "02c6208c-6e1a-482e-ec58-408b4c4262e8",
        "colab": {
          "base_uri": "https://localhost:8080/",
          "height": 204
        }
      },
      "source": [
        "# testing data set\n",
        "\n",
        "test = pd.read_csv(path/\"TwADR-L.fold-8.test.csv\",header=None)\n",
        "test.head()"
      ],
      "execution_count": 12,
      "outputs": [
        {
          "output_type": "execute_result",
          "data": {
            "text/html": [
              "<div>\n",
              "<style scoped>\n",
              "    .dataframe tbody tr th:only-of-type {\n",
              "        vertical-align: middle;\n",
              "    }\n",
              "\n",
              "    .dataframe tbody tr th {\n",
              "        vertical-align: top;\n",
              "    }\n",
              "\n",
              "    .dataframe thead th {\n",
              "        text-align: right;\n",
              "    }\n",
              "</style>\n",
              "<table border=\"1\" class=\"dataframe\">\n",
              "  <thead>\n",
              "    <tr style=\"text-align: right;\">\n",
              "      <th></th>\n",
              "      <th>0</th>\n",
              "      <th>1</th>\n",
              "    </tr>\n",
              "  </thead>\n",
              "  <tbody>\n",
              "    <tr>\n",
              "      <th>0</th>\n",
              "      <td>24</td>\n",
              "      <td>heart race 100mph</td>\n",
              "    </tr>\n",
              "    <tr>\n",
              "      <th>1</th>\n",
              "      <td>94</td>\n",
              "      <td>anxiety</td>\n",
              "    </tr>\n",
              "    <tr>\n",
              "      <th>2</th>\n",
              "      <td>154</td>\n",
              "      <td>#hivewatch</td>\n",
              "    </tr>\n",
              "    <tr>\n",
              "      <th>3</th>\n",
              "      <td>195</td>\n",
              "      <td>ballooning</td>\n",
              "    </tr>\n",
              "    <tr>\n",
              "      <th>4</th>\n",
              "      <td>195</td>\n",
              "      <td>bloated</td>\n",
              "    </tr>\n",
              "  </tbody>\n",
              "</table>\n",
              "</div>"
            ],
            "text/plain": [
              "     0                  1\n",
              "0   24  heart race 100mph\n",
              "1   94            anxiety\n",
              "2  154         #hivewatch\n",
              "3  195         ballooning\n",
              "4  195            bloated"
            ]
          },
          "metadata": {
            "tags": []
          },
          "execution_count": 12
        }
      ]
    },
    {
      "cell_type": "code",
      "metadata": {
        "id": "Vo-YNvVYoaH6",
        "outputId": "bd39ab31-34ad-4d08-e26b-c162a09bac03",
        "colab": {
          "base_uri": "https://localhost:8080/",
          "height": 17
        }
      },
      "source": [
        "# Creating DataBunch for language modelling\n",
        "\n",
        "data_lm = TextLMDataBunch.from_csv(path, 'TwADR-cadec.csv')"
      ],
      "execution_count": 13,
      "outputs": [
        {
          "output_type": "display_data",
          "data": {
            "text/html": [
              ""
            ],
            "text/plain": [
              "<IPython.core.display.HTML object>"
            ]
          },
          "metadata": {
            "tags": []
          }
        },
        {
          "output_type": "display_data",
          "data": {
            "text/html": [
              ""
            ],
            "text/plain": [
              "<IPython.core.display.HTML object>"
            ]
          },
          "metadata": {
            "tags": []
          }
        }
      ]
    },
    {
      "cell_type": "code",
      "metadata": {
        "id": "qcV-9kMnNLBf"
      },
      "source": [
        ""
      ],
      "execution_count": 13,
      "outputs": []
    },
    {
      "cell_type": "code",
      "metadata": {
        "id": "1ScY9afDsnvE"
      },
      "source": [
        "# Creating DataBunch for classification\n",
        "\n",
        "# data_clas = TextClasDataBunch.from_df(path, train, valid, test, vocab=data_lm.train_ds.vocab, bs=128)"
      ],
      "execution_count": 14,
      "outputs": []
    },
    {
      "cell_type": "code",
      "metadata": {
        "id": "gzrSdQcvey9p",
        "outputId": "5c914d58-c91d-408d-b19e-90ceaed55daa",
        "colab": {
          "base_uri": "https://localhost:8080/",
          "height": 17
        }
      },
      "source": [
        "data_clas = TextClasDataBunch.from_df(path, train, valid, vocab=data_lm.train_ds.vocab, bs=128)"
      ],
      "execution_count": 15,
      "outputs": [
        {
          "output_type": "display_data",
          "data": {
            "text/html": [
              ""
            ],
            "text/plain": [
              "<IPython.core.display.HTML object>"
            ]
          },
          "metadata": {
            "tags": []
          }
        },
        {
          "output_type": "display_data",
          "data": {
            "text/html": [
              ""
            ],
            "text/plain": [
              "<IPython.core.display.HTML object>"
            ]
          },
          "metadata": {
            "tags": []
          }
        }
      ]
    },
    {
      "cell_type": "code",
      "metadata": {
        "id": "MD27Tf0Ke3ou",
        "outputId": "8d264b4e-97ed-439d-cdf8-4a14b56bc4ff",
        "colab": {
          "base_uri": "https://localhost:8080/",
          "height": 17
        }
      },
      "source": [
        "data_clas.add_test(test,label=0)\n"
      ],
      "execution_count": 16,
      "outputs": [
        {
          "output_type": "display_data",
          "data": {
            "text/html": [
              ""
            ],
            "text/plain": [
              "<IPython.core.display.HTML object>"
            ]
          },
          "metadata": {
            "tags": []
          }
        }
      ]
    },
    {
      "cell_type": "code",
      "metadata": {
        "id": "-dpjnk_rstwk"
      },
      "source": [
        "data_lm.save()\n",
        "data_clas.save()"
      ],
      "execution_count": 17,
      "outputs": []
    },
    {
      "cell_type": "code",
      "metadata": {
        "id": "4OkiJa36sw5s",
        "outputId": "b45f7942-eeff-455c-97dd-aa0be79806af",
        "colab": {
          "base_uri": "https://localhost:8080/"
        }
      },
      "source": [
        "data_lm.train_ds.vocab.itos"
      ],
      "execution_count": 18,
      "outputs": [
        {
          "output_type": "execute_result",
          "data": {
            "text/plain": [
              "['xxunk',\n",
              " 'xxpad',\n",
              " 'xxbos',\n",
              " 'xxeos',\n",
              " 'xxfld',\n",
              " 'xxmaj',\n",
              " 'xxup',\n",
              " 'xxrep',\n",
              " 'xxwrep',\n",
              " '.',\n",
              " ',',\n",
              " 'i',\n",
              " 'the',\n",
              " 'and',\n",
              " 'to',\n",
              " 'my',\n",
              " 'pain',\n",
              " 'of',\n",
              " 'in',\n",
              " 'a',\n",
              " 'it',\n",
              " 'me',\n",
              " 'mood',\n",
              " 'for',\n",
              " 'increased',\n",
              " 'have',\n",
              " '-',\n",
              " 'was',\n",
              " 'drug',\n",
              " 'this',\n",
              " ')',\n",
              " 'lipitor',\n",
              " '(',\n",
              " 'disorder',\n",
              " 'on',\n",
              " 'abnormal',\n",
              " 'not',\n",
              " 'withdrawal',\n",
              " 'anxiety',\n",
              " 'symptoms',\n",
              " 'had',\n",
              " 'that',\n",
              " 'is',\n",
              " 'with',\n",
              " 'muscle',\n",
              " 'weight',\n",
              " 'like',\n",
              " 'but',\n",
              " 'taking',\n",
              " 'decreased',\n",
              " 'feeling',\n",
              " \"n't\",\n",
              " 'disorders',\n",
              " 'up',\n",
              " 'after',\n",
              " 'sleeplessness',\n",
              " 'behavior',\n",
              " 'syndrome',\n",
              " 'sleep',\n",
              " 'so',\n",
              " 'all',\n",
              " 'diseases',\n",
              " 'got',\n",
              " 'blood',\n",
              " 'insomnia',\n",
              " 'side',\n",
              " 'feel',\n",
              " 'somnolence',\n",
              " 'depression',\n",
              " 'effects',\n",
              " 'am',\n",
              " 'from',\n",
              " 'finding',\n",
              " 'energy',\n",
              " 'loss',\n",
              " 'back',\n",
              " 'been',\n",
              " 'disturbance',\n",
              " '!',\n",
              " 'day',\n",
              " 'as',\n",
              " 'cholesterol',\n",
              " 'skin',\n",
              " 'be',\n",
              " 'mental',\n",
              " 'heart',\n",
              " 'body',\n",
              " 'gain',\n",
              " 'appetite',\n",
              " 'take',\n",
              " '/',\n",
              " 'no',\n",
              " 'at',\n",
              " 'nausea',\n",
              " 'acute',\n",
              " 'mg',\n",
              " 'has',\n",
              " 'years',\n",
              " 'off',\n",
              " 'dizziness',\n",
              " 'about',\n",
              " 'fatigue',\n",
              " 'now',\n",
              " 'do',\n",
              " 'out',\n",
              " 'irritable',\n",
              " 'attention',\n",
              " 'are',\n",
              " 'excitability',\n",
              " 'hyperactive',\n",
              " 'or',\n",
              " 'drowsiness',\n",
              " 'will',\n",
              " 'very',\n",
              " 'feelings',\n",
              " 'did',\n",
              " 'time',\n",
              " 'ceiling',\n",
              " 'panic',\n",
              " 'months',\n",
              " 'swelling',\n",
              " 'awake',\n",
              " 'days',\n",
              " 'you',\n",
              " 'state',\n",
              " 'doctor',\n",
              " 'liver',\n",
              " 'joint',\n",
              " 'depressed',\n",
              " 'when',\n",
              " 'still',\n",
              " \"'m\",\n",
              " 'started',\n",
              " 'could',\n",
              " '2',\n",
              " 'if',\n",
              " 'severe',\n",
              " 'stomach',\n",
              " 'stopped',\n",
              " 'night',\n",
              " 'rash',\n",
              " 'swings',\n",
              " 'cramps',\n",
              " 'get',\n",
              " 'problems',\n",
              " 'would',\n",
              " 'disease',\n",
              " '3',\n",
              " 'site',\n",
              " '#',\n",
              " 'down',\n",
              " 'allergic',\n",
              " 'memory',\n",
              " 'also',\n",
              " 'wakefulness',\n",
              " 'headache',\n",
              " 'more',\n",
              " '10',\n",
              " 'bipolar',\n",
              " 'an',\n",
              " 'just',\n",
              " 'reaction',\n",
              " 'weeks',\n",
              " 'any',\n",
              " 'by',\n",
              " 'took',\n",
              " 'bad',\n",
              " 'can',\n",
              " 'abdominal',\n",
              " 'lower',\n",
              " 'over',\n",
              " 'infection',\n",
              " 'went',\n",
              " 'eye',\n",
              " 'dreams',\n",
              " 'legs',\n",
              " \"'s\",\n",
              " 'respiratory',\n",
              " 'tired',\n",
              " 'some',\n",
              " 'leg',\n",
              " 'only',\n",
              " 'brain',\n",
              " 'tremor',\n",
              " 'attack',\n",
              " 'other',\n",
              " 'breast',\n",
              " 'injury',\n",
              " 'high',\n",
              " 'one',\n",
              " 'then',\n",
              " 'again',\n",
              " 'week',\n",
              " 'level',\n",
              " 'numbness',\n",
              " 'he',\n",
              " 'attacks',\n",
              " 'difficulty',\n",
              " 'ca',\n",
              " 'rage',\n",
              " 'stiffness',\n",
              " 'go',\n",
              " 'shoulder',\n",
              " 'dry',\n",
              " 'your',\n",
              " 'ago',\n",
              " '&',\n",
              " 'deficit',\n",
              " 'hemorrhage',\n",
              " 'which',\n",
              " 'chest',\n",
              " 'medication',\n",
              " 'before',\n",
              " 'never',\n",
              " 'sweating',\n",
              " 'psychotic',\n",
              " 'much',\n",
              " 'carcinoma',\n",
              " 'sleepy',\n",
              " 'two',\n",
              " 'vision',\n",
              " 'better',\n",
              " 'initial',\n",
              " '5',\n",
              " 'they',\n",
              " 'bone',\n",
              " 'neck',\n",
              " '6',\n",
              " 'pressure',\n",
              " 'because',\n",
              " 'taste',\n",
              " 'arthritis',\n",
              " 'failure',\n",
              " 'makes',\n",
              " 'felt',\n",
              " 'infections',\n",
              " 'feet',\n",
              " \"'ve\",\n",
              " 'left',\n",
              " 'low',\n",
              " 'foot',\n",
              " 'cardiac',\n",
              " 'sensation',\n",
              " 'same',\n",
              " 'edema',\n",
              " '4',\n",
              " 'gastrointestinal',\n",
              " 'even',\n",
              " 'since',\n",
              " 'first',\n",
              " 'weakness',\n",
              " 'stop',\n",
              " 'life',\n",
              " 'pulmonary',\n",
              " 'ulcer',\n",
              " 'concentration',\n",
              " 'distress',\n",
              " 'were',\n",
              " 'zombie',\n",
              " 'discomfort',\n",
              " 'asleep',\n",
              " 'what',\n",
              " 'these',\n",
              " '1',\n",
              " 'pains',\n",
              " 'daytime',\n",
              " 'hurt',\n",
              " 'worse',\n",
              " 'tingling',\n",
              " 'function',\n",
              " 'away',\n",
              " 'chronic',\n",
              " 'aggravated',\n",
              " 'headaches',\n",
              " 'vomiting',\n",
              " 'than',\n",
              " 'right',\n",
              " 'taken',\n",
              " 'hallucinations',\n",
              " 'system',\n",
              " '20',\n",
              " 'middle',\n",
              " 'anger',\n",
              " 'ache',\n",
              " 'kidney',\n",
              " 'cell',\n",
              " 'change',\n",
              " 'dependence',\n",
              " 'walk',\n",
              " 'depressive',\n",
              " 'going',\n",
              " 'being',\n",
              " 'knee',\n",
              " 'damage',\n",
              " 'elevated',\n",
              " 'test',\n",
              " 'work',\n",
              " 'extreme',\n",
              " 'cerebral',\n",
              " 'experienced',\n",
              " 'hands',\n",
              " 'dysfunction',\n",
              " 'need',\n",
              " 'there',\n",
              " 'bleeding',\n",
              " 'dermatitis',\n",
              " 'muscles',\n",
              " 'exhaustion',\n",
              " 'facial',\n",
              " 'effect',\n",
              " 'painful',\n",
              " 'localised',\n",
              " 'suicidal',\n",
              " 'told',\n",
              " 'having',\n",
              " 'last',\n",
              " ';',\n",
              " 'well',\n",
              " 'good',\n",
              " 'eating',\n",
              " 'drugs',\n",
              " 'dizzy',\n",
              " 'conditions',\n",
              " 'getting',\n",
              " 'anemia',\n",
              " 'spasm',\n",
              " 'disturbances',\n",
              " 'sleepiness',\n",
              " 'dose',\n",
              " 'normal',\n",
              " 'statins',\n",
              " 'see',\n",
              " 'know',\n",
              " 'thought',\n",
              " 'death',\n",
              " 'urine',\n",
              " 'face',\n",
              " 'pruritus',\n",
              " 'wide',\n",
              " 'statin',\n",
              " 'hours',\n",
              " '?',\n",
              " 'who',\n",
              " 'hunger',\n",
              " 'cancer',\n",
              " 'migraine',\n",
              " 'arrest',\n",
              " 'terrible',\n",
              " 'think',\n",
              " 'problem',\n",
              " 'too',\n",
              " 'nightmares',\n",
              " 'year',\n",
              " 'should',\n",
              " 'every',\n",
              " 'lack',\n",
              " 'few',\n",
              " 'asthma',\n",
              " 'seizures',\n",
              " 'cause',\n",
              " 'due',\n",
              " 'depersonalization',\n",
              " 'make',\n",
              " 'diarrhea',\n",
              " 'dr',\n",
              " 'does',\n",
              " 'bite',\n",
              " 'walking',\n",
              " 'uterine',\n",
              " 'aches',\n",
              " 'social',\n",
              " 'irritation',\n",
              " 'compulsive',\n",
              " 'crazy',\n",
              " 'count',\n",
              " 'within',\n",
              " 'vivid',\n",
              " 'almost',\n",
              " 'until',\n",
              " 'arm',\n",
              " 'decrease',\n",
              " 'emotional',\n",
              " 'many',\n",
              " '7',\n",
              " 'really',\n",
              " 'month',\n",
              " 'fear',\n",
              " 'serum',\n",
              " 'reduced',\n",
              " 'sore',\n",
              " 'hip',\n",
              " '40',\n",
              " 'hypertension',\n",
              " 'alcohol',\n",
              " 'vaginal',\n",
              " 'gas',\n",
              " 'genital',\n",
              " 'adderall',\n",
              " 'impairment',\n",
              " 'thinking',\n",
              " 'people',\n",
              " 'neoplasm',\n",
              " 'cold',\n",
              " 'candidiasis',\n",
              " 'drowsy',\n",
              " 'both',\n",
              " 'malignant',\n",
              " 'arms',\n",
              " 'corneal',\n",
              " 'term',\n",
              " 'eyes',\n",
              " 'without',\n",
              " 'neuropathy',\n",
              " 'oedema',\n",
              " 'bulimia',\n",
              " 'hepatic',\n",
              " 'ventricular',\n",
              " 'euphoric',\n",
              " 'long',\n",
              " 'sexual',\n",
              " 'nauseous',\n",
              " 'necrosis',\n",
              " 'lost',\n",
              " 'injuries',\n",
              " 'intoxication',\n",
              " 'cramping',\n",
              " 'abuse',\n",
              " 'short',\n",
              " 'sneezing',\n",
              " 'said',\n",
              " 'lung',\n",
              " 'oral',\n",
              " 'help',\n",
              " 'diet',\n",
              " 'tract',\n",
              " 'levels',\n",
              " 'upper',\n",
              " 'tongue',\n",
              " 'put',\n",
              " 'obsessive',\n",
              " 'another',\n",
              " 'total',\n",
              " 'localized',\n",
              " 'ldl',\n",
              " 'head',\n",
              " 'diabetic',\n",
              " 'falling',\n",
              " 'little',\n",
              " 'libido',\n",
              " 'fever',\n",
              " 'lbs',\n",
              " '8',\n",
              " 'tooth',\n",
              " 'myself',\n",
              " 'spasms',\n",
              " 'nervous',\n",
              " 'hungry',\n",
              " ':',\n",
              " 'sick',\n",
              " 'pneumonia',\n",
              " 'excessive',\n",
              " 'arthropod',\n",
              " 'gone',\n",
              " 'electrocardiogram',\n",
              " 'peripheral',\n",
              " 'breathing',\n",
              " 'doctors',\n",
              " 'speech',\n",
              " 'paranoid',\n",
              " 'injection',\n",
              " 'lightheadedness',\n",
              " 'consciousness',\n",
              " 'episode',\n",
              " 'joints',\n",
              " 'stress',\n",
              " 'weird',\n",
              " 'neoplasms',\n",
              " 'sweat',\n",
              " 'nerve',\n",
              " 'something',\n",
              " 'exercise',\n",
              " 'thirst',\n",
              " 'glucose',\n",
              " 'swollen',\n",
              " 'personality',\n",
              " 'great',\n",
              " 'palpitations',\n",
              " 'try',\n",
              " 'throat',\n",
              " 'mouth',\n",
              " 'want',\n",
              " 'withdrawals',\n",
              " 'nasal',\n",
              " 'overdose',\n",
              " 'ear',\n",
              " 'visual',\n",
              " 'most',\n",
              " 'block',\n",
              " 'gastric',\n",
              " 'hair',\n",
              " 'erection',\n",
              " 'morning',\n",
              " 'allergy',\n",
              " 'female',\n",
              " 'several',\n",
              " 'urticaria',\n",
              " 'however',\n",
              " 'ejaculation',\n",
              " 'anything',\n",
              " 'noticed',\n",
              " 'generalized',\n",
              " 'non',\n",
              " 'vertigo',\n",
              " 'sleeping',\n",
              " 'developed',\n",
              " 'knees',\n",
              " 'minutes',\n",
              " 'found',\n",
              " 'times',\n",
              " 'pill',\n",
              " 'bed',\n",
              " 'inflammation',\n",
              " 'despair',\n",
              " 'next',\n",
              " 'sinus',\n",
              " 'red',\n",
              " 'caused',\n",
              " 'renal',\n",
              " 'how',\n",
              " 'sudden',\n",
              " 'began',\n",
              " 'erythema',\n",
              " 'old',\n",
              " '%',\n",
              " 'tests',\n",
              " 'lot',\n",
              " 'she',\n",
              " 'reading',\n",
              " '30',\n",
              " 'hepatitis',\n",
              " 'them',\n",
              " 'came',\n",
              " 'different',\n",
              " 'their',\n",
              " 'making',\n",
              " 'confusion',\n",
              " 'prolonged',\n",
              " 'way',\n",
              " 'sure',\n",
              " 'fracture',\n",
              " 'while',\n",
              " 'bloating',\n",
              " 'colitis',\n",
              " 'partial',\n",
              " 'symptom',\n",
              " 'intense',\n",
              " 'obstruction',\n",
              " 'stopping',\n",
              " 'losing',\n",
              " 'burning',\n",
              " 'find',\n",
              " 'immediately',\n",
              " 'three',\n",
              " 'binge',\n",
              " 'made',\n",
              " 'result',\n",
              " 'experiencing',\n",
              " 'weak',\n",
              " 'metastatic',\n",
              " 'itching',\n",
              " 'use',\n",
              " 'daily',\n",
              " 'past',\n",
              " 'tried',\n",
              " 'lose',\n",
              " 'gained',\n",
              " 'always',\n",
              " 'ankle',\n",
              " 'atrophy',\n",
              " 'eat',\n",
              " 'blurred',\n",
              " 'diabetes',\n",
              " 'angry',\n",
              " 'suicide',\n",
              " 'adenocarcinoma',\n",
              " 'ever',\n",
              " 'his',\n",
              " 'psychosis',\n",
              " 'around',\n",
              " 'may',\n",
              " 'hard',\n",
              " 'musculoskeletal',\n",
              " 'lupus',\n",
              " 'trying',\n",
              " 'shoulders',\n",
              " 'vasculitis',\n",
              " 'tendency',\n",
              " 'into',\n",
              " 'thoughts',\n",
              " 'insufficiency',\n",
              " 'craving',\n",
              " 'hyper',\n",
              " 'bladder',\n",
              " 'lowered',\n",
              " 'arthrotec',\n",
              " 'cutaneous',\n",
              " 'medicine',\n",
              " 'bacterial',\n",
              " 'movements',\n",
              " 'tolerance',\n",
              " 'general',\n",
              " 'once',\n",
              " 'unable',\n",
              " 'rheumatoid',\n",
              " 'results',\n",
              " 'application',\n",
              " 'hypomania',\n",
              " 'nt',\n",
              " 'muscular',\n",
              " 'limbs',\n",
              " 'altered',\n",
              " 'completely',\n",
              " 'prescribed',\n",
              " 'quality',\n",
              " 'finally',\n",
              " 'atrial',\n",
              " 'nothing',\n",
              " 'haemorrhage',\n",
              " 'cough',\n",
              " 'hurting',\n",
              " 'potassium',\n",
              " 'twitch',\n",
              " 'major',\n",
              " 'fractures',\n",
              " 'half',\n",
              " 'hot',\n",
              " 'unconscious',\n",
              " 'things',\n",
              " 'limb',\n",
              " 'its',\n",
              " 'arrhythmia',\n",
              " 'drunk',\n",
              " 'tissue',\n",
              " 'fall',\n",
              " 'bronchitis',\n",
              " 'food',\n",
              " 'mind',\n",
              " 'terrors',\n",
              " 'trippin',\n",
              " 'unspecified',\n",
              " 'person',\n",
              " 'whole',\n",
              " 'traumatic',\n",
              " 'we',\n",
              " 'substance',\n",
              " 'recommend',\n",
              " 'paranoia',\n",
              " 'numb',\n",
              " 'awful',\n",
              " 'hand',\n",
              " \"'\",\n",
              " 'tachycardia',\n",
              " 'perforation',\n",
              " 'sedated',\n",
              " 'acid',\n",
              " 'action',\n",
              " 'early',\n",
              " 'worth',\n",
              " 'toe',\n",
              " 'creatinine',\n",
              " 'constant',\n",
              " 'acidosis',\n",
              " 'relief',\n",
              " 'acne',\n",
              " 'causing',\n",
              " 'urinary',\n",
              " 'motor',\n",
              " 'seems',\n",
              " 'family',\n",
              " 'read',\n",
              " 'impaired',\n",
              " 'less',\n",
              " 'fluid',\n",
              " 'tightness',\n",
              " 'upset',\n",
              " 'rhinitis',\n",
              " 'stuff',\n",
              " 'able',\n",
              " 'male',\n",
              " 'through',\n",
              " 'changes',\n",
              " 'enzyme',\n",
              " 'rather',\n",
              " 'interest',\n",
              " 'antisocial',\n",
              " 'come',\n",
              " 'esophageal',\n",
              " 'purpura',\n",
              " 'yet',\n",
              " 'doing',\n",
              " 'especially',\n",
              " 'abnormality',\n",
              " 'density',\n",
              " 'bowel',\n",
              " 'later',\n",
              " 'anyone',\n",
              " 'believe',\n",
              " 'tenderness',\n",
              " 'atrioventricular',\n",
              " 'quit',\n",
              " 'keep',\n",
              " 'ratio',\n",
              " 'prozac',\n",
              " 'recently',\n",
              " 'done',\n",
              " 'works',\n",
              " 'syncope',\n",
              " 'abdomen',\n",
              " 'labored',\n",
              " 'lowering',\n",
              " 'permanent',\n",
              " 'mad',\n",
              " 'hope',\n",
              " 'anxious',\n",
              " 'wake',\n",
              " 'hyperactivity',\n",
              " 'though',\n",
              " 'focusing',\n",
              " '\"',\n",
              " 'arousal',\n",
              " 'horrible',\n",
              " 'starting',\n",
              " 'thyroid',\n",
              " 'zocor',\n",
              " 'exhausted',\n",
              " 'hurts',\n",
              " '--',\n",
              " 'type',\n",
              " 'gland',\n",
              " '100',\n",
              " 'meds',\n",
              " '80',\n",
              " 'artery',\n",
              " '50',\n",
              " 'far',\n",
              " 'using',\n",
              " 'shaking',\n",
              " 'mild',\n",
              " 'epilepsy',\n",
              " 'manic',\n",
              " 'infarction',\n",
              " 'migraines',\n",
              " 'hdl',\n",
              " 'none',\n",
              " 'positive',\n",
              " 'involuntary',\n",
              " 'balance',\n",
              " 'myocardial',\n",
              " 'her',\n",
              " 'worked',\n",
              " 'stay',\n",
              " 'website',\n",
              " 'indifferent',\n",
              " 'epidermal',\n",
              " 'him',\n",
              " 'related',\n",
              " 'prostate',\n",
              " 'hour',\n",
              " 'where',\n",
              " 'post',\n",
              " 'probably',\n",
              " 'local',\n",
              " 'empty',\n",
              " 'cyst',\n",
              " 'accidental',\n",
              " 'enough',\n",
              " 'during',\n",
              " 'premature',\n",
              " 'erythematosus',\n",
              " 'ischemia',\n",
              " 'wo',\n",
              " 'neuralgia',\n",
              " 'interactions',\n",
              " 'heartburn',\n",
              " 'discoloration',\n",
              " 'temperature',\n",
              " 'toxic',\n",
              " 'immune',\n",
              " 'say',\n",
              " 'bruxism',\n",
              " 'hit',\n",
              " 'retention',\n",
              " 'hearing',\n",
              " 'others',\n",
              " 'feels',\n",
              " 'super',\n",
              " 'hyperplasia',\n",
              " 'rupture',\n",
              " 'affect',\n",
              " 'leukemia',\n",
              " 'sickness',\n",
              " 'delayed',\n",
              " 'prothrombin',\n",
              " 'fingers',\n",
              " 'extremely',\n",
              " 'contact',\n",
              " 'ocular',\n",
              " 'constipation',\n",
              " 'experience',\n",
              " 'natural',\n",
              " 'those',\n",
              " 'pounding',\n",
              " 'everything',\n",
              " 'illness',\n",
              " 'doc',\n",
              " 'flu',\n",
              " 'fucking',\n",
              " 'negative',\n",
              " 'herpes',\n",
              " 'physical',\n",
              " 'helped',\n",
              " 'today',\n",
              " 'fucked',\n",
              " 'water',\n",
              " 'became',\n",
              " 'bites',\n",
              " 'similar',\n",
              " 'poor',\n",
              " 'why',\n",
              " 'decided',\n",
              " 'dosage',\n",
              " 'embolism',\n",
              " 'viral',\n",
              " 'gait',\n",
              " 'bilirubin',\n",
              " 'porphyria',\n",
              " 'worst',\n",
              " 'distracted',\n",
              " 'paralysed',\n",
              " 'issues',\n",
              " 'steroid',\n",
              " 'each',\n",
              " 'retinal',\n",
              " 'per',\n",
              " 'triglycerides',\n",
              " 'eaten',\n",
              " 'own',\n",
              " 'fibrillation',\n",
              " 'add',\n",
              " 'anorexia',\n",
              " 'hangover',\n",
              " 'metabolic',\n",
              " 'cystitis',\n",
              " 'else',\n",
              " 'arteritis',\n",
              " 'erectile',\n",
              " 'hypersomnia',\n",
              " 'influenza',\n",
              " 'increase',\n",
              " 'nail',\n",
              " 'hips',\n",
              " 'coronary',\n",
              " 'forgetfulness',\n",
              " 'improvement',\n",
              " 'eruptions',\n",
              " 'cramp',\n",
              " 'entire',\n",
              " 'thrombosis',\n",
              " 'surgery',\n",
              " 'possible',\n",
              " 'lesion',\n",
              " 'deficiency',\n",
              " 'thirsty',\n",
              " 'syndromes',\n",
              " 'secondary',\n",
              " 'intolerance',\n",
              " 'groggy',\n",
              " 'zaps',\n",
              " 'ovarian',\n",
              " 'trouble',\n",
              " 'calf',\n",
              " 'period',\n",
              " 'toxicity',\n",
              " 'inability',\n",
              " 'bullous',\n",
              " 'otitis',\n",
              " 'thing',\n",
              " 'job',\n",
              " 'changed',\n",
              " 'conjunctivitis',\n",
              " 'thinness',\n",
              " 'deafness',\n",
              " 'active',\n",
              " 'sad',\n",
              " 'elbow',\n",
              " 'congestion',\n",
              " 'atrophic',\n",
              " 'cortisone',\n",
              " 'might',\n",
              " 'etc',\n",
              " 'digestive',\n",
              " 'white',\n",
              " 'pills',\n",
              " 'reflux',\n",
              " 'hypertrophy',\n",
              " 'sinusitis',\n",
              " 'obstructive',\n",
              " 'mania',\n",
              " 'keeping',\n",
              " 'myopathy',\n",
              " 'blindness',\n",
              " 'gout',\n",
              " 'pm',\n",
              " 'alkalosis',\n",
              " 'shit',\n",
              " 'ulcerative',\n",
              " 'diagnosed',\n",
              " 'med',\n",
              " 'macular',\n",
              " 'shut',\n",
              " 'eyelid',\n",
              " 'rate',\n",
              " 'shock',\n",
              " 'grumpy',\n",
              " 'fat',\n",
              " 'miss',\n",
              " 'tiredness',\n",
              " 'rectal',\n",
              " 'ok',\n",
              " 'toes',\n",
              " 'yawning',\n",
              " 'health',\n",
              " 'stairs',\n",
              " 'hypertensive',\n",
              " 'behaviour',\n",
              " 'international',\n",
              " 'normalised',\n",
              " 'dropped',\n",
              " 'messed',\n",
              " 'bitch',\n",
              " 'new',\n",
              " 'continue',\n",
              " 'flare',\n",
              " 'actually',\n",
              " 'dryness',\n",
              " 'highly',\n",
              " 'pissed',\n",
              " 'psychiatric',\n",
              " 'gingival',\n",
              " 'big',\n",
              " 'age',\n",
              " 'glaucoma',\n",
              " 'creatine',\n",
              " 'raised',\n",
              " 'ankles',\n",
              " 'premenstrual',\n",
              " 'adrenal',\n",
              " 'multiple',\n",
              " 'self',\n",
              " 'actual',\n",
              " 'slept',\n",
              " 'thinning',\n",
              " 'abscess',\n",
              " 'tendon',\n",
              " 'pancreatitis',\n",
              " \"'ll\",\n",
              " 'point',\n",
              " 'angina',\n",
              " 'menstruation',\n",
              " '9',\n",
              " 'generalised',\n",
              " 'such',\n",
              " 'eczema',\n",
              " 'wrist',\n",
              " 'incontinence',\n",
              " 'iron',\n",
              " 'dyspnea',\n",
              " 'ischemic',\n",
              " 'control',\n",
              " 'odour',\n",
              " 'couple',\n",
              " 'stool',\n",
              " 'soon',\n",
              " 'present',\n",
              " 'twice',\n",
              " 'knock',\n",
              " 'second',\n",
              " 'start',\n",
              " 'cataract',\n",
              " 'shivering',\n",
              " 'diastolic',\n",
              " 'totally',\n",
              " 'schizophrenia',\n",
              " 'associated',\n",
              " 'break',\n",
              " 'disorientation',\n",
              " 'hyperemia',\n",
              " 'cranky',\n",
              " 'mean',\n",
              " 'squamous',\n",
              " ...]"
            ]
          },
          "metadata": {
            "tags": []
          },
          "execution_count": 18
        }
      ]
    },
    {
      "cell_type": "code",
      "metadata": {
        "id": "yPWr03mls3VT",
        "outputId": "1d577912-4724-43d5-d448-22b30ef375e7",
        "colab": {
          "base_uri": "https://localhost:8080/",
          "height": 17
        }
      },
      "source": [
        "model_path = path/'models'\n",
        "model_path.mkdir(exist_ok=True)\n",
        "url = 'http://files.fast.ai/models/wt103_v1/'\n",
        "download_url(f'{url}lstm_wt103.pth', model_path/'lstm_wt103.pth')\n",
        "download_url(f'{url}itos_wt103.pkl', model_path/'itos_wt103.pkl')"
      ],
      "execution_count": 19,
      "outputs": [
        {
          "output_type": "display_data",
          "data": {
            "text/html": [
              ""
            ],
            "text/plain": [
              "<IPython.core.display.HTML object>"
            ]
          },
          "metadata": {
            "tags": []
          }
        },
        {
          "output_type": "display_data",
          "data": {
            "text/html": [
              ""
            ],
            "text/plain": [
              "<IPython.core.display.HTML object>"
            ]
          },
          "metadata": {
            "tags": []
          }
        }
      ]
    },
    {
      "cell_type": "code",
      "metadata": {
        "id": "JRzvWg8RtGGr",
        "outputId": "80bac16a-2ef2-4715-d67f-17721c10a44d",
        "colab": {
          "base_uri": "https://localhost:8080/",
          "height": 34
        }
      },
      "source": [
        "learn = language_model_learner(data_lm, AWD_LSTM, drop_mult=0.5)"
      ],
      "execution_count": 20,
      "outputs": [
        {
          "output_type": "stream",
          "text": [
            "Downloading https://s3.amazonaws.com/fast-ai-modelzoo/wt103-fwd.tgz\n"
          ],
          "name": "stdout"
        },
        {
          "output_type": "display_data",
          "data": {
            "text/html": [
              ""
            ],
            "text/plain": [
              "<IPython.core.display.HTML object>"
            ]
          },
          "metadata": {
            "tags": []
          }
        }
      ]
    },
    {
      "cell_type": "code",
      "metadata": {
        "id": "xKK7GeBev7Xn",
        "outputId": "59f35f56-f904-403f-8e10-4347d7eadfd7",
        "colab": {
          "base_uri": "https://localhost:8080/",
          "height": 80
        }
      },
      "source": [
        "learn.fit_one_cycle(1, 1e-2)"
      ],
      "execution_count": 21,
      "outputs": [
        {
          "output_type": "display_data",
          "data": {
            "text/html": [
              "<table border=\"1\" class=\"dataframe\">\n",
              "  <thead>\n",
              "    <tr style=\"text-align: left;\">\n",
              "      <th>epoch</th>\n",
              "      <th>train_loss</th>\n",
              "      <th>valid_loss</th>\n",
              "      <th>accuracy</th>\n",
              "      <th>time</th>\n",
              "    </tr>\n",
              "  </thead>\n",
              "  <tbody>\n",
              "    <tr>\n",
              "      <td>0</td>\n",
              "      <td>4.293756</td>\n",
              "      <td>3.433664</td>\n",
              "      <td>0.436205</td>\n",
              "      <td>08:44</td>\n",
              "    </tr>\n",
              "  </tbody>\n",
              "</table>"
            ],
            "text/plain": [
              "<IPython.core.display.HTML object>"
            ]
          },
          "metadata": {
            "tags": []
          }
        }
      ]
    },
    {
      "cell_type": "code",
      "metadata": {
        "id": "iB7rHGQCwd12",
        "outputId": "5ae9dd76-ce7e-4c17-df6e-ddcbdbd28884",
        "colab": {
          "base_uri": "https://localhost:8080/",
          "height": 80
        }
      },
      "source": [
        "learn.fit_one_cycle(1, 1e-2)"
      ],
      "execution_count": 22,
      "outputs": [
        {
          "output_type": "display_data",
          "data": {
            "text/html": [
              "<table border=\"1\" class=\"dataframe\">\n",
              "  <thead>\n",
              "    <tr style=\"text-align: left;\">\n",
              "      <th>epoch</th>\n",
              "      <th>train_loss</th>\n",
              "      <th>valid_loss</th>\n",
              "      <th>accuracy</th>\n",
              "      <th>time</th>\n",
              "    </tr>\n",
              "  </thead>\n",
              "  <tbody>\n",
              "    <tr>\n",
              "      <td>0</td>\n",
              "      <td>3.270779</td>\n",
              "      <td>2.987772</td>\n",
              "      <td>0.496190</td>\n",
              "      <td>08:43</td>\n",
              "    </tr>\n",
              "  </tbody>\n",
              "</table>"
            ],
            "text/plain": [
              "<IPython.core.display.HTML object>"
            ]
          },
          "metadata": {
            "tags": []
          }
        }
      ]
    },
    {
      "cell_type": "code",
      "metadata": {
        "id": "_BnSuAeCwkBe",
        "outputId": "1a9ae6f6-7122-4e12-d187-78126c59ec77",
        "colab": {
          "base_uri": "https://localhost:8080/",
          "height": 80
        }
      },
      "source": [
        "learn.fit_one_cycle(1, 1e-3)"
      ],
      "execution_count": 23,
      "outputs": [
        {
          "output_type": "display_data",
          "data": {
            "text/html": [
              "<table border=\"1\" class=\"dataframe\">\n",
              "  <thead>\n",
              "    <tr style=\"text-align: left;\">\n",
              "      <th>epoch</th>\n",
              "      <th>train_loss</th>\n",
              "      <th>valid_loss</th>\n",
              "      <th>accuracy</th>\n",
              "      <th>time</th>\n",
              "    </tr>\n",
              "  </thead>\n",
              "  <tbody>\n",
              "    <tr>\n",
              "      <td>0</td>\n",
              "      <td>3.059542</td>\n",
              "      <td>2.953151</td>\n",
              "      <td>0.499524</td>\n",
              "      <td>08:41</td>\n",
              "    </tr>\n",
              "  </tbody>\n",
              "</table>"
            ],
            "text/plain": [
              "<IPython.core.display.HTML object>"
            ]
          },
          "metadata": {
            "tags": []
          }
        }
      ]
    },
    {
      "cell_type": "code",
      "metadata": {
        "id": "MuTm-RFjwrEX",
        "outputId": "e30cb201-a853-4f60-fbea-9b6247b9670b",
        "colab": {
          "base_uri": "https://localhost:8080/",
          "height": 80
        }
      },
      "source": [
        "learn.fit_one_cycle(1, 1e-3)"
      ],
      "execution_count": 24,
      "outputs": [
        {
          "output_type": "display_data",
          "data": {
            "text/html": [
              "<table border=\"1\" class=\"dataframe\">\n",
              "  <thead>\n",
              "    <tr style=\"text-align: left;\">\n",
              "      <th>epoch</th>\n",
              "      <th>train_loss</th>\n",
              "      <th>valid_loss</th>\n",
              "      <th>accuracy</th>\n",
              "      <th>time</th>\n",
              "    </tr>\n",
              "  </thead>\n",
              "  <tbody>\n",
              "    <tr>\n",
              "      <td>0</td>\n",
              "      <td>3.035151</td>\n",
              "      <td>2.923598</td>\n",
              "      <td>0.502232</td>\n",
              "      <td>08:35</td>\n",
              "    </tr>\n",
              "  </tbody>\n",
              "</table>"
            ],
            "text/plain": [
              "<IPython.core.display.HTML object>"
            ]
          },
          "metadata": {
            "tags": []
          }
        }
      ]
    },
    {
      "cell_type": "code",
      "metadata": {
        "id": "1Er2ExO8wr7Y"
      },
      "source": [
        "learn.save_encoder('TwADR-cadec_fold8_first')"
      ],
      "execution_count": 25,
      "outputs": []
    },
    {
      "cell_type": "code",
      "metadata": {
        "id": "z52cZs2qwvad",
        "outputId": "a0220d5f-fb5a-45ec-9710-3aa17d74b2e2",
        "colab": {
          "base_uri": "https://localhost:8080/",
          "height": 80
        }
      },
      "source": [
        "learn = text_classifier_learner(data_clas,AWD_LSTM, drop_mult=0.5)\n",
        "learn.load_encoder('TwADR-cadec_fold8_first')\n",
        "learn.fit_one_cycle(1, 1e-2)"
      ],
      "execution_count": 26,
      "outputs": [
        {
          "output_type": "display_data",
          "data": {
            "text/html": [
              "<table border=\"1\" class=\"dataframe\">\n",
              "  <thead>\n",
              "    <tr style=\"text-align: left;\">\n",
              "      <th>epoch</th>\n",
              "      <th>train_loss</th>\n",
              "      <th>valid_loss</th>\n",
              "      <th>accuracy</th>\n",
              "      <th>time</th>\n",
              "    </tr>\n",
              "  </thead>\n",
              "  <tbody>\n",
              "    <tr>\n",
              "      <td>0</td>\n",
              "      <td>7.203937</td>\n",
              "      <td>6.519455</td>\n",
              "      <td>0.041667</td>\n",
              "      <td>00:25</td>\n",
              "    </tr>\n",
              "  </tbody>\n",
              "</table>"
            ],
            "text/plain": [
              "<IPython.core.display.HTML object>"
            ]
          },
          "metadata": {
            "tags": []
          }
        }
      ]
    },
    {
      "cell_type": "code",
      "metadata": {
        "id": "ImwQP1PJwzxd",
        "outputId": "28ac39f7-0f5e-4689-f595-51b98edb2e15",
        "colab": {
          "base_uri": "https://localhost:8080/",
          "height": 80
        }
      },
      "source": [
        "learn.freeze_to(-2)\n",
        "learn.fit_one_cycle(1, slice(5e-3/2., 5e-3))"
      ],
      "execution_count": 27,
      "outputs": [
        {
          "output_type": "display_data",
          "data": {
            "text/html": [
              "<table border=\"1\" class=\"dataframe\">\n",
              "  <thead>\n",
              "    <tr style=\"text-align: left;\">\n",
              "      <th>epoch</th>\n",
              "      <th>train_loss</th>\n",
              "      <th>valid_loss</th>\n",
              "      <th>accuracy</th>\n",
              "      <th>time</th>\n",
              "    </tr>\n",
              "  </thead>\n",
              "  <tbody>\n",
              "    <tr>\n",
              "      <td>0</td>\n",
              "      <td>6.282146</td>\n",
              "      <td>5.694973</td>\n",
              "      <td>0.097222</td>\n",
              "      <td>00:27</td>\n",
              "    </tr>\n",
              "  </tbody>\n",
              "</table>"
            ],
            "text/plain": [
              "<IPython.core.display.HTML object>"
            ]
          },
          "metadata": {
            "tags": []
          }
        }
      ]
    },
    {
      "cell_type": "code",
      "metadata": {
        "id": "Owff_BJXw53u",
        "outputId": "28d498bc-ab66-4039-850b-7c8068da1f55",
        "colab": {
          "base_uri": "https://localhost:8080/",
          "height": 80
        }
      },
      "source": [
        "learn.unfreeze()\n",
        "learn.fit_one_cycle(1, slice(2e-3/100, 2e-3))"
      ],
      "execution_count": 28,
      "outputs": [
        {
          "output_type": "display_data",
          "data": {
            "text/html": [
              "<table border=\"1\" class=\"dataframe\">\n",
              "  <thead>\n",
              "    <tr style=\"text-align: left;\">\n",
              "      <th>epoch</th>\n",
              "      <th>train_loss</th>\n",
              "      <th>valid_loss</th>\n",
              "      <th>accuracy</th>\n",
              "      <th>time</th>\n",
              "    </tr>\n",
              "  </thead>\n",
              "  <tbody>\n",
              "    <tr>\n",
              "      <td>0</td>\n",
              "      <td>5.757297</td>\n",
              "      <td>5.392881</td>\n",
              "      <td>0.111111</td>\n",
              "      <td>01:01</td>\n",
              "    </tr>\n",
              "  </tbody>\n",
              "</table>"
            ],
            "text/plain": [
              "<IPython.core.display.HTML object>"
            ]
          },
          "metadata": {
            "tags": []
          }
        }
      ]
    },
    {
      "cell_type": "code",
      "metadata": {
        "id": "lqAyu56V8Waq",
        "outputId": "002cd5d3-9eb1-4af3-9212-520b2600ceca",
        "colab": {
          "base_uri": "https://localhost:8080/",
          "height": 111
        }
      },
      "source": [
        "learn.fit_one_cycle(2, slice(2e-3/100, 2e-3))"
      ],
      "execution_count": 29,
      "outputs": [
        {
          "output_type": "display_data",
          "data": {
            "text/html": [
              "<table border=\"1\" class=\"dataframe\">\n",
              "  <thead>\n",
              "    <tr style=\"text-align: left;\">\n",
              "      <th>epoch</th>\n",
              "      <th>train_loss</th>\n",
              "      <th>valid_loss</th>\n",
              "      <th>accuracy</th>\n",
              "      <th>time</th>\n",
              "    </tr>\n",
              "  </thead>\n",
              "  <tbody>\n",
              "    <tr>\n",
              "      <td>0</td>\n",
              "      <td>5.501602</td>\n",
              "      <td>5.176967</td>\n",
              "      <td>0.138889</td>\n",
              "      <td>01:00</td>\n",
              "    </tr>\n",
              "    <tr>\n",
              "      <td>1</td>\n",
              "      <td>5.281579</td>\n",
              "      <td>4.847722</td>\n",
              "      <td>0.152778</td>\n",
              "      <td>01:08</td>\n",
              "    </tr>\n",
              "  </tbody>\n",
              "</table>"
            ],
            "text/plain": [
              "<IPython.core.display.HTML object>"
            ]
          },
          "metadata": {
            "tags": []
          }
        }
      ]
    },
    {
      "cell_type": "code",
      "metadata": {
        "id": "a7I1xMRp8bUd",
        "outputId": "7f6e26f7-5ac2-4374-ead8-89b27f7738ea",
        "colab": {
          "base_uri": "https://localhost:8080/",
          "height": 111
        }
      },
      "source": [
        "learn.fit_one_cycle(2, slice(2e-3/100, 2e-3))"
      ],
      "execution_count": 30,
      "outputs": [
        {
          "output_type": "display_data",
          "data": {
            "text/html": [
              "<table border=\"1\" class=\"dataframe\">\n",
              "  <thead>\n",
              "    <tr style=\"text-align: left;\">\n",
              "      <th>epoch</th>\n",
              "      <th>train_loss</th>\n",
              "      <th>valid_loss</th>\n",
              "      <th>accuracy</th>\n",
              "      <th>time</th>\n",
              "    </tr>\n",
              "  </thead>\n",
              "  <tbody>\n",
              "    <tr>\n",
              "      <td>0</td>\n",
              "      <td>4.987571</td>\n",
              "      <td>4.657434</td>\n",
              "      <td>0.166667</td>\n",
              "      <td>01:09</td>\n",
              "    </tr>\n",
              "    <tr>\n",
              "      <td>1</td>\n",
              "      <td>4.817712</td>\n",
              "      <td>4.480490</td>\n",
              "      <td>0.194444</td>\n",
              "      <td>01:01</td>\n",
              "    </tr>\n",
              "  </tbody>\n",
              "</table>"
            ],
            "text/plain": [
              "<IPython.core.display.HTML object>"
            ]
          },
          "metadata": {
            "tags": []
          }
        }
      ]
    },
    {
      "cell_type": "code",
      "metadata": {
        "id": "UAnti-XmGVfO",
        "outputId": "afd37d81-ea2b-4a61-fc68-1b9f55bf99bd",
        "colab": {
          "base_uri": "https://localhost:8080/",
          "height": 111
        }
      },
      "source": [
        "learn.fit_one_cycle(2, slice(2e-3/100, 2e-3))"
      ],
      "execution_count": 31,
      "outputs": [
        {
          "output_type": "display_data",
          "data": {
            "text/html": [
              "<table border=\"1\" class=\"dataframe\">\n",
              "  <thead>\n",
              "    <tr style=\"text-align: left;\">\n",
              "      <th>epoch</th>\n",
              "      <th>train_loss</th>\n",
              "      <th>valid_loss</th>\n",
              "      <th>accuracy</th>\n",
              "      <th>time</th>\n",
              "    </tr>\n",
              "  </thead>\n",
              "  <tbody>\n",
              "    <tr>\n",
              "      <td>0</td>\n",
              "      <td>4.583162</td>\n",
              "      <td>4.219368</td>\n",
              "      <td>0.256944</td>\n",
              "      <td>01:06</td>\n",
              "    </tr>\n",
              "    <tr>\n",
              "      <td>1</td>\n",
              "      <td>4.418577</td>\n",
              "      <td>4.131820</td>\n",
              "      <td>0.270833</td>\n",
              "      <td>01:04</td>\n",
              "    </tr>\n",
              "  </tbody>\n",
              "</table>"
            ],
            "text/plain": [
              "<IPython.core.display.HTML object>"
            ]
          },
          "metadata": {
            "tags": []
          }
        }
      ]
    },
    {
      "cell_type": "code",
      "metadata": {
        "id": "bIft7W25GwSu",
        "outputId": "4e4c4cbc-a25f-47b2-b137-0e8b0d0b1ef7",
        "colab": {
          "base_uri": "https://localhost:8080/",
          "height": 111
        }
      },
      "source": [
        "learn.fit_one_cycle(2, slice(2e-3/100, 2e-3))"
      ],
      "execution_count": 32,
      "outputs": [
        {
          "output_type": "display_data",
          "data": {
            "text/html": [
              "<table border=\"1\" class=\"dataframe\">\n",
              "  <thead>\n",
              "    <tr style=\"text-align: left;\">\n",
              "      <th>epoch</th>\n",
              "      <th>train_loss</th>\n",
              "      <th>valid_loss</th>\n",
              "      <th>accuracy</th>\n",
              "      <th>time</th>\n",
              "    </tr>\n",
              "  </thead>\n",
              "  <tbody>\n",
              "    <tr>\n",
              "      <td>0</td>\n",
              "      <td>4.229910</td>\n",
              "      <td>4.046194</td>\n",
              "      <td>0.284722</td>\n",
              "      <td>01:08</td>\n",
              "    </tr>\n",
              "    <tr>\n",
              "      <td>1</td>\n",
              "      <td>4.088981</td>\n",
              "      <td>4.001823</td>\n",
              "      <td>0.277778</td>\n",
              "      <td>01:03</td>\n",
              "    </tr>\n",
              "  </tbody>\n",
              "</table>"
            ],
            "text/plain": [
              "<IPython.core.display.HTML object>"
            ]
          },
          "metadata": {
            "tags": []
          }
        }
      ]
    },
    {
      "cell_type": "code",
      "metadata": {
        "id": "EEHszVRvGyFt",
        "outputId": "4a47b065-eb12-4822-c792-5c99e363db9b",
        "colab": {
          "base_uri": "https://localhost:8080/",
          "height": 111
        }
      },
      "source": [
        "learn.fit_one_cycle(2, slice(2e-3/100, 2e-3))"
      ],
      "execution_count": 33,
      "outputs": [
        {
          "output_type": "display_data",
          "data": {
            "text/html": [
              "<table border=\"1\" class=\"dataframe\">\n",
              "  <thead>\n",
              "    <tr style=\"text-align: left;\">\n",
              "      <th>epoch</th>\n",
              "      <th>train_loss</th>\n",
              "      <th>valid_loss</th>\n",
              "      <th>accuracy</th>\n",
              "      <th>time</th>\n",
              "    </tr>\n",
              "  </thead>\n",
              "  <tbody>\n",
              "    <tr>\n",
              "      <td>0</td>\n",
              "      <td>3.915147</td>\n",
              "      <td>3.930950</td>\n",
              "      <td>0.270833</td>\n",
              "      <td>01:07</td>\n",
              "    </tr>\n",
              "    <tr>\n",
              "      <td>1</td>\n",
              "      <td>3.791461</td>\n",
              "      <td>3.834624</td>\n",
              "      <td>0.305556</td>\n",
              "      <td>01:05</td>\n",
              "    </tr>\n",
              "  </tbody>\n",
              "</table>"
            ],
            "text/plain": [
              "<IPython.core.display.HTML object>"
            ]
          },
          "metadata": {
            "tags": []
          }
        }
      ]
    },
    {
      "cell_type": "code",
      "metadata": {
        "id": "XsHfrhCHG3dN",
        "outputId": "1dc8527c-ef58-467e-fa31-61806b99cee4",
        "colab": {
          "base_uri": "https://localhost:8080/",
          "height": 173
        }
      },
      "source": [
        "learn.fit_one_cycle(4, slice(2e-3/100, 2e-3))"
      ],
      "execution_count": 34,
      "outputs": [
        {
          "output_type": "display_data",
          "data": {
            "text/html": [
              "<table border=\"1\" class=\"dataframe\">\n",
              "  <thead>\n",
              "    <tr style=\"text-align: left;\">\n",
              "      <th>epoch</th>\n",
              "      <th>train_loss</th>\n",
              "      <th>valid_loss</th>\n",
              "      <th>accuracy</th>\n",
              "      <th>time</th>\n",
              "    </tr>\n",
              "  </thead>\n",
              "  <tbody>\n",
              "    <tr>\n",
              "      <td>0</td>\n",
              "      <td>3.601929</td>\n",
              "      <td>3.742095</td>\n",
              "      <td>0.326389</td>\n",
              "      <td>01:07</td>\n",
              "    </tr>\n",
              "    <tr>\n",
              "      <td>1</td>\n",
              "      <td>3.550718</td>\n",
              "      <td>3.736993</td>\n",
              "      <td>0.333333</td>\n",
              "      <td>01:07</td>\n",
              "    </tr>\n",
              "    <tr>\n",
              "      <td>2</td>\n",
              "      <td>3.357106</td>\n",
              "      <td>3.699292</td>\n",
              "      <td>0.319444</td>\n",
              "      <td>01:05</td>\n",
              "    </tr>\n",
              "    <tr>\n",
              "      <td>3</td>\n",
              "      <td>3.170287</td>\n",
              "      <td>3.673271</td>\n",
              "      <td>0.333333</td>\n",
              "      <td>01:09</td>\n",
              "    </tr>\n",
              "  </tbody>\n",
              "</table>"
            ],
            "text/plain": [
              "<IPython.core.display.HTML object>"
            ]
          },
          "metadata": {
            "tags": []
          }
        }
      ]
    },
    {
      "cell_type": "code",
      "metadata": {
        "id": "0Zsd99isb9EQ",
        "outputId": "a412f2b6-e544-4c94-cbc2-099dab21c6ee",
        "colab": {
          "base_uri": "https://localhost:8080/",
          "height": 173
        }
      },
      "source": [
        "learn.fit_one_cycle(4, slice(2e-3/100, 2e-3))"
      ],
      "execution_count": 35,
      "outputs": [
        {
          "output_type": "display_data",
          "data": {
            "text/html": [
              "<table border=\"1\" class=\"dataframe\">\n",
              "  <thead>\n",
              "    <tr style=\"text-align: left;\">\n",
              "      <th>epoch</th>\n",
              "      <th>train_loss</th>\n",
              "      <th>valid_loss</th>\n",
              "      <th>accuracy</th>\n",
              "      <th>time</th>\n",
              "    </tr>\n",
              "  </thead>\n",
              "  <tbody>\n",
              "    <tr>\n",
              "      <td>0</td>\n",
              "      <td>3.039571</td>\n",
              "      <td>3.703658</td>\n",
              "      <td>0.305556</td>\n",
              "      <td>01:07</td>\n",
              "    </tr>\n",
              "    <tr>\n",
              "      <td>1</td>\n",
              "      <td>2.969222</td>\n",
              "      <td>3.757884</td>\n",
              "      <td>0.312500</td>\n",
              "      <td>01:07</td>\n",
              "    </tr>\n",
              "    <tr>\n",
              "      <td>2</td>\n",
              "      <td>2.823155</td>\n",
              "      <td>3.700092</td>\n",
              "      <td>0.340278</td>\n",
              "      <td>01:02</td>\n",
              "    </tr>\n",
              "    <tr>\n",
              "      <td>3</td>\n",
              "      <td>2.638332</td>\n",
              "      <td>3.680589</td>\n",
              "      <td>0.333333</td>\n",
              "      <td>01:08</td>\n",
              "    </tr>\n",
              "  </tbody>\n",
              "</table>"
            ],
            "text/plain": [
              "<IPython.core.display.HTML object>"
            ]
          },
          "metadata": {
            "tags": []
          }
        }
      ]
    },
    {
      "cell_type": "code",
      "metadata": {
        "id": "atNWNKDFPbuI",
        "outputId": "4f955aab-dc22-430d-eace-b19a6172fcda",
        "colab": {
          "base_uri": "https://localhost:8080/",
          "height": 173
        }
      },
      "source": [
        "learn.fit_one_cycle(4, slice(2e-3/100, 2e-3))"
      ],
      "execution_count": 36,
      "outputs": [
        {
          "output_type": "display_data",
          "data": {
            "text/html": [
              "<table border=\"1\" class=\"dataframe\">\n",
              "  <thead>\n",
              "    <tr style=\"text-align: left;\">\n",
              "      <th>epoch</th>\n",
              "      <th>train_loss</th>\n",
              "      <th>valid_loss</th>\n",
              "      <th>accuracy</th>\n",
              "      <th>time</th>\n",
              "    </tr>\n",
              "  </thead>\n",
              "  <tbody>\n",
              "    <tr>\n",
              "      <td>0</td>\n",
              "      <td>2.458003</td>\n",
              "      <td>3.573875</td>\n",
              "      <td>0.347222</td>\n",
              "      <td>01:06</td>\n",
              "    </tr>\n",
              "    <tr>\n",
              "      <td>1</td>\n",
              "      <td>2.425415</td>\n",
              "      <td>3.611148</td>\n",
              "      <td>0.354167</td>\n",
              "      <td>01:06</td>\n",
              "    </tr>\n",
              "    <tr>\n",
              "      <td>2</td>\n",
              "      <td>2.262815</td>\n",
              "      <td>3.658771</td>\n",
              "      <td>0.347222</td>\n",
              "      <td>01:09</td>\n",
              "    </tr>\n",
              "    <tr>\n",
              "      <td>3</td>\n",
              "      <td>2.109667</td>\n",
              "      <td>3.671158</td>\n",
              "      <td>0.326389</td>\n",
              "      <td>01:06</td>\n",
              "    </tr>\n",
              "  </tbody>\n",
              "</table>"
            ],
            "text/plain": [
              "<IPython.core.display.HTML object>"
            ]
          },
          "metadata": {
            "tags": []
          }
        }
      ]
    },
    {
      "cell_type": "code",
      "metadata": {
        "id": "rKrBTZ0T1uVA",
        "outputId": "6eb93ab2-530b-4275-92d7-ee5006f02554",
        "colab": {
          "base_uri": "https://localhost:8080/",
          "height": 173
        }
      },
      "source": [
        "learn.fit_one_cycle(4, slice(2e-3/100, 2e-3))"
      ],
      "execution_count": 37,
      "outputs": [
        {
          "output_type": "display_data",
          "data": {
            "text/html": [
              "<table border=\"1\" class=\"dataframe\">\n",
              "  <thead>\n",
              "    <tr style=\"text-align: left;\">\n",
              "      <th>epoch</th>\n",
              "      <th>train_loss</th>\n",
              "      <th>valid_loss</th>\n",
              "      <th>accuracy</th>\n",
              "      <th>time</th>\n",
              "    </tr>\n",
              "  </thead>\n",
              "  <tbody>\n",
              "    <tr>\n",
              "      <td>0</td>\n",
              "      <td>1.992384</td>\n",
              "      <td>3.607233</td>\n",
              "      <td>0.368056</td>\n",
              "      <td>01:02</td>\n",
              "    </tr>\n",
              "    <tr>\n",
              "      <td>1</td>\n",
              "      <td>1.919405</td>\n",
              "      <td>3.660782</td>\n",
              "      <td>0.347222</td>\n",
              "      <td>01:08</td>\n",
              "    </tr>\n",
              "    <tr>\n",
              "      <td>2</td>\n",
              "      <td>1.791259</td>\n",
              "      <td>3.679759</td>\n",
              "      <td>0.354167</td>\n",
              "      <td>01:07</td>\n",
              "    </tr>\n",
              "    <tr>\n",
              "      <td>3</td>\n",
              "      <td>1.670478</td>\n",
              "      <td>3.670513</td>\n",
              "      <td>0.347222</td>\n",
              "      <td>01:03</td>\n",
              "    </tr>\n",
              "  </tbody>\n",
              "</table>"
            ],
            "text/plain": [
              "<IPython.core.display.HTML object>"
            ]
          },
          "metadata": {
            "tags": []
          }
        }
      ]
    },
    {
      "cell_type": "code",
      "metadata": {
        "id": "ajQC6WDg1yA9",
        "outputId": "01e070bc-8b6b-4ddf-c5a1-6226a9d68899",
        "colab": {
          "base_uri": "https://localhost:8080/",
          "height": 173
        }
      },
      "source": [
        "learn.fit_one_cycle(4, slice(2e-3/100, 2e-3))"
      ],
      "execution_count": 38,
      "outputs": [
        {
          "output_type": "display_data",
          "data": {
            "text/html": [
              "<table border=\"1\" class=\"dataframe\">\n",
              "  <thead>\n",
              "    <tr style=\"text-align: left;\">\n",
              "      <th>epoch</th>\n",
              "      <th>train_loss</th>\n",
              "      <th>valid_loss</th>\n",
              "      <th>accuracy</th>\n",
              "      <th>time</th>\n",
              "    </tr>\n",
              "  </thead>\n",
              "  <tbody>\n",
              "    <tr>\n",
              "      <td>0</td>\n",
              "      <td>1.562389</td>\n",
              "      <td>3.682163</td>\n",
              "      <td>0.340278</td>\n",
              "      <td>01:08</td>\n",
              "    </tr>\n",
              "    <tr>\n",
              "      <td>1</td>\n",
              "      <td>1.538171</td>\n",
              "      <td>3.809192</td>\n",
              "      <td>0.368056</td>\n",
              "      <td>01:03</td>\n",
              "    </tr>\n",
              "    <tr>\n",
              "      <td>2</td>\n",
              "      <td>1.415498</td>\n",
              "      <td>3.709589</td>\n",
              "      <td>0.361111</td>\n",
              "      <td>01:02</td>\n",
              "    </tr>\n",
              "    <tr>\n",
              "      <td>3</td>\n",
              "      <td>1.310470</td>\n",
              "      <td>3.707569</td>\n",
              "      <td>0.375000</td>\n",
              "      <td>01:07</td>\n",
              "    </tr>\n",
              "  </tbody>\n",
              "</table>"
            ],
            "text/plain": [
              "<IPython.core.display.HTML object>"
            ]
          },
          "metadata": {
            "tags": []
          }
        }
      ]
    },
    {
      "cell_type": "code",
      "metadata": {
        "id": "KKydb0B4BKGk",
        "outputId": "e13359d4-1a52-4b43-b007-7bcc489159fa",
        "colab": {
          "base_uri": "https://localhost:8080/",
          "height": 173
        }
      },
      "source": [
        "learn.fit_one_cycle(4, slice(2e-3/100, 2e-3))"
      ],
      "execution_count": 39,
      "outputs": [
        {
          "output_type": "display_data",
          "data": {
            "text/html": [
              "<table border=\"1\" class=\"dataframe\">\n",
              "  <thead>\n",
              "    <tr style=\"text-align: left;\">\n",
              "      <th>epoch</th>\n",
              "      <th>train_loss</th>\n",
              "      <th>valid_loss</th>\n",
              "      <th>accuracy</th>\n",
              "      <th>time</th>\n",
              "    </tr>\n",
              "  </thead>\n",
              "  <tbody>\n",
              "    <tr>\n",
              "      <td>0</td>\n",
              "      <td>1.197122</td>\n",
              "      <td>3.781770</td>\n",
              "      <td>0.361111</td>\n",
              "      <td>01:05</td>\n",
              "    </tr>\n",
              "    <tr>\n",
              "      <td>1</td>\n",
              "      <td>1.188850</td>\n",
              "      <td>3.859601</td>\n",
              "      <td>0.354167</td>\n",
              "      <td>01:05</td>\n",
              "    </tr>\n",
              "    <tr>\n",
              "      <td>2</td>\n",
              "      <td>1.152657</td>\n",
              "      <td>3.892955</td>\n",
              "      <td>0.368056</td>\n",
              "      <td>01:04</td>\n",
              "    </tr>\n",
              "    <tr>\n",
              "      <td>3</td>\n",
              "      <td>1.026380</td>\n",
              "      <td>3.828679</td>\n",
              "      <td>0.375000</td>\n",
              "      <td>01:05</td>\n",
              "    </tr>\n",
              "  </tbody>\n",
              "</table>"
            ],
            "text/plain": [
              "<IPython.core.display.HTML object>"
            ]
          },
          "metadata": {
            "tags": []
          }
        }
      ]
    },
    {
      "cell_type": "code",
      "metadata": {
        "id": "T2APKtFKBpGY",
        "outputId": "8c44b668-cbf8-4ed6-9408-10fb90b66b7c",
        "colab": {
          "base_uri": "https://localhost:8080/",
          "height": 173
        }
      },
      "source": [
        "learn.fit_one_cycle(4, slice(2e-3/100, 2e-3))"
      ],
      "execution_count": 40,
      "outputs": [
        {
          "output_type": "display_data",
          "data": {
            "text/html": [
              "<table border=\"1\" class=\"dataframe\">\n",
              "  <thead>\n",
              "    <tr style=\"text-align: left;\">\n",
              "      <th>epoch</th>\n",
              "      <th>train_loss</th>\n",
              "      <th>valid_loss</th>\n",
              "      <th>accuracy</th>\n",
              "      <th>time</th>\n",
              "    </tr>\n",
              "  </thead>\n",
              "  <tbody>\n",
              "    <tr>\n",
              "      <td>0</td>\n",
              "      <td>0.938783</td>\n",
              "      <td>3.984104</td>\n",
              "      <td>0.347222</td>\n",
              "      <td>01:05</td>\n",
              "    </tr>\n",
              "    <tr>\n",
              "      <td>1</td>\n",
              "      <td>0.984722</td>\n",
              "      <td>4.123744</td>\n",
              "      <td>0.354167</td>\n",
              "      <td>01:07</td>\n",
              "    </tr>\n",
              "    <tr>\n",
              "      <td>2</td>\n",
              "      <td>0.910126</td>\n",
              "      <td>4.048244</td>\n",
              "      <td>0.340278</td>\n",
              "      <td>01:03</td>\n",
              "    </tr>\n",
              "    <tr>\n",
              "      <td>3</td>\n",
              "      <td>0.823796</td>\n",
              "      <td>4.078077</td>\n",
              "      <td>0.347222</td>\n",
              "      <td>01:08</td>\n",
              "    </tr>\n",
              "  </tbody>\n",
              "</table>"
            ],
            "text/plain": [
              "<IPython.core.display.HTML object>"
            ]
          },
          "metadata": {
            "tags": []
          }
        }
      ]
    },
    {
      "cell_type": "code",
      "metadata": {
        "id": "qtTypA1sPgLU",
        "outputId": "8036ac05-4f47-4903-e338-5a2b58c899a1",
        "colab": {
          "base_uri": "https://localhost:8080/",
          "height": 111
        }
      },
      "source": [
        "learn.fit_one_cycle(2, slice(2e-3/100, 2e-3))"
      ],
      "execution_count": 41,
      "outputs": [
        {
          "output_type": "display_data",
          "data": {
            "text/html": [
              "<table border=\"1\" class=\"dataframe\">\n",
              "  <thead>\n",
              "    <tr style=\"text-align: left;\">\n",
              "      <th>epoch</th>\n",
              "      <th>train_loss</th>\n",
              "      <th>valid_loss</th>\n",
              "      <th>accuracy</th>\n",
              "      <th>time</th>\n",
              "    </tr>\n",
              "  </thead>\n",
              "  <tbody>\n",
              "    <tr>\n",
              "      <td>0</td>\n",
              "      <td>0.786393</td>\n",
              "      <td>4.194396</td>\n",
              "      <td>0.354167</td>\n",
              "      <td>01:07</td>\n",
              "    </tr>\n",
              "    <tr>\n",
              "      <td>1</td>\n",
              "      <td>0.742220</td>\n",
              "      <td>4.199864</td>\n",
              "      <td>0.347222</td>\n",
              "      <td>01:10</td>\n",
              "    </tr>\n",
              "  </tbody>\n",
              "</table>"
            ],
            "text/plain": [
              "<IPython.core.display.HTML object>"
            ]
          },
          "metadata": {
            "tags": []
          }
        }
      ]
    },
    {
      "cell_type": "code",
      "metadata": {
        "id": "b242kBsTUp9Y",
        "outputId": "ecf550f6-bbb0-440b-f892-07c1d91b8afd",
        "colab": {
          "base_uri": "https://localhost:8080/",
          "height": 111
        }
      },
      "source": [
        "learn.fit_one_cycle(2, slice(2e-3/100, 2e-3))"
      ],
      "execution_count": 42,
      "outputs": [
        {
          "output_type": "display_data",
          "data": {
            "text/html": [
              "<table border=\"1\" class=\"dataframe\">\n",
              "  <thead>\n",
              "    <tr style=\"text-align: left;\">\n",
              "      <th>epoch</th>\n",
              "      <th>train_loss</th>\n",
              "      <th>valid_loss</th>\n",
              "      <th>accuracy</th>\n",
              "      <th>time</th>\n",
              "    </tr>\n",
              "  </thead>\n",
              "  <tbody>\n",
              "    <tr>\n",
              "      <td>0</td>\n",
              "      <td>0.738065</td>\n",
              "      <td>4.355124</td>\n",
              "      <td>0.354167</td>\n",
              "      <td>01:09</td>\n",
              "    </tr>\n",
              "    <tr>\n",
              "      <td>1</td>\n",
              "      <td>0.691190</td>\n",
              "      <td>4.267314</td>\n",
              "      <td>0.361111</td>\n",
              "      <td>01:05</td>\n",
              "    </tr>\n",
              "  </tbody>\n",
              "</table>"
            ],
            "text/plain": [
              "<IPython.core.display.HTML object>"
            ]
          },
          "metadata": {
            "tags": []
          }
        }
      ]
    },
    {
      "cell_type": "code",
      "metadata": {
        "id": "Duwf1Ih5VeDZ",
        "outputId": "24ee3685-ce5b-4c53-f258-db0720ef9b9a",
        "colab": {
          "base_uri": "https://localhost:8080/",
          "height": 80
        }
      },
      "source": [
        "learn.fit_one_cycle(1, slice(2e-3/100, 2e-3))"
      ],
      "execution_count": 43,
      "outputs": [
        {
          "output_type": "display_data",
          "data": {
            "text/html": [
              "<table border=\"1\" class=\"dataframe\">\n",
              "  <thead>\n",
              "    <tr style=\"text-align: left;\">\n",
              "      <th>epoch</th>\n",
              "      <th>train_loss</th>\n",
              "      <th>valid_loss</th>\n",
              "      <th>accuracy</th>\n",
              "      <th>time</th>\n",
              "    </tr>\n",
              "  </thead>\n",
              "  <tbody>\n",
              "    <tr>\n",
              "      <td>0</td>\n",
              "      <td>0.667831</td>\n",
              "      <td>4.294386</td>\n",
              "      <td>0.368056</td>\n",
              "      <td>01:04</td>\n",
              "    </tr>\n",
              "  </tbody>\n",
              "</table>"
            ],
            "text/plain": [
              "<IPython.core.display.HTML object>"
            ]
          },
          "metadata": {
            "tags": []
          }
        }
      ]
    },
    {
      "cell_type": "code",
      "metadata": {
        "id": "c65d-osfDUXm"
      },
      "source": [
        "# save the best model\n",
        "\n",
        "learn.save_encoder('TwADR-cadec_fold8')"
      ],
      "execution_count": 44,
      "outputs": []
    },
    {
      "cell_type": "code",
      "metadata": {
        "id": "5h-A_GpAIYg8",
        "outputId": "8d9ea54f-638e-4652-a826-61fa850ac0fa",
        "colab": {
          "base_uri": "https://localhost:8080/",
          "height": 80
        }
      },
      "source": [
        "learn.fit_one_cycle(1, slice(2e-3/100, 2e-3))"
      ],
      "execution_count": 45,
      "outputs": [
        {
          "output_type": "display_data",
          "data": {
            "text/html": [
              "<table border=\"1\" class=\"dataframe\">\n",
              "  <thead>\n",
              "    <tr style=\"text-align: left;\">\n",
              "      <th>epoch</th>\n",
              "      <th>train_loss</th>\n",
              "      <th>valid_loss</th>\n",
              "      <th>accuracy</th>\n",
              "      <th>time</th>\n",
              "    </tr>\n",
              "  </thead>\n",
              "  <tbody>\n",
              "    <tr>\n",
              "      <td>0</td>\n",
              "      <td>0.628309</td>\n",
              "      <td>4.304690</td>\n",
              "      <td>0.375000</td>\n",
              "      <td>01:06</td>\n",
              "    </tr>\n",
              "  </tbody>\n",
              "</table>"
            ],
            "text/plain": [
              "<IPython.core.display.HTML object>"
            ]
          },
          "metadata": {
            "tags": []
          }
        }
      ]
    },
    {
      "cell_type": "code",
      "metadata": {
        "id": "qc4poYxzIwca",
        "outputId": "0e5de020-b6d8-424a-95d7-aeed64ea3be2",
        "colab": {
          "base_uri": "https://localhost:8080/",
          "height": 80
        }
      },
      "source": [
        "learn.fit_one_cycle(1, slice(2e-3/100, 2e-3))"
      ],
      "execution_count": 46,
      "outputs": [
        {
          "output_type": "display_data",
          "data": {
            "text/html": [
              "<table border=\"1\" class=\"dataframe\">\n",
              "  <thead>\n",
              "    <tr style=\"text-align: left;\">\n",
              "      <th>epoch</th>\n",
              "      <th>train_loss</th>\n",
              "      <th>valid_loss</th>\n",
              "      <th>accuracy</th>\n",
              "      <th>time</th>\n",
              "    </tr>\n",
              "  </thead>\n",
              "  <tbody>\n",
              "    <tr>\n",
              "      <td>0</td>\n",
              "      <td>0.600798</td>\n",
              "      <td>4.427861</td>\n",
              "      <td>0.340278</td>\n",
              "      <td>01:05</td>\n",
              "    </tr>\n",
              "  </tbody>\n",
              "</table>"
            ],
            "text/plain": [
              "<IPython.core.display.HTML object>"
            ]
          },
          "metadata": {
            "tags": []
          }
        }
      ]
    },
    {
      "cell_type": "code",
      "metadata": {
        "id": "66s4PxV1JVfo",
        "outputId": "842a198f-6e4a-423e-dd22-1a023093a4ed",
        "colab": {
          "base_uri": "https://localhost:8080/",
          "height": 80
        }
      },
      "source": [
        "learn.fit_one_cycle(1, slice(2e-3/100, 2e-3))"
      ],
      "execution_count": 47,
      "outputs": [
        {
          "output_type": "display_data",
          "data": {
            "text/html": [
              "<table border=\"1\" class=\"dataframe\">\n",
              "  <thead>\n",
              "    <tr style=\"text-align: left;\">\n",
              "      <th>epoch</th>\n",
              "      <th>train_loss</th>\n",
              "      <th>valid_loss</th>\n",
              "      <th>accuracy</th>\n",
              "      <th>time</th>\n",
              "    </tr>\n",
              "  </thead>\n",
              "  <tbody>\n",
              "    <tr>\n",
              "      <td>0</td>\n",
              "      <td>0.582550</td>\n",
              "      <td>4.418883</td>\n",
              "      <td>0.361111</td>\n",
              "      <td>01:05</td>\n",
              "    </tr>\n",
              "  </tbody>\n",
              "</table>"
            ],
            "text/plain": [
              "<IPython.core.display.HTML object>"
            ]
          },
          "metadata": {
            "tags": []
          }
        }
      ]
    },
    {
      "cell_type": "markdown",
      "metadata": {
        "id": "rCwZU0E2RgM6"
      },
      "source": [
        "# Part three: Predict on the test dataset"
      ]
    },
    {
      "cell_type": "code",
      "metadata": {
        "id": "gDm72c-dOu7d",
        "outputId": "1d79b1fd-bf25-4809-acfc-60aa9337dbd6",
        "colab": {
          "base_uri": "https://localhost:8080/",
          "height": 17
        }
      },
      "source": [
        "# use the test data for prediction\n",
        "\n",
        "preds, y = learn.get_preds(DatasetType.Test)"
      ],
      "execution_count": 48,
      "outputs": [
        {
          "output_type": "display_data",
          "data": {
            "text/html": [
              ""
            ],
            "text/plain": [
              "<IPython.core.display.HTML object>"
            ]
          },
          "metadata": {
            "tags": []
          }
        }
      ]
    },
    {
      "cell_type": "code",
      "metadata": {
        "id": "6tFSQcsWPvxn",
        "outputId": "847e8203-c87d-4bbf-9830-ef0bf1e7f91b",
        "colab": {
          "base_uri": "https://localhost:8080/",
          "height": 105
        }
      },
      "source": [
        "predictions, *_ = learn.get_preds(DatasetType.Test)\n",
        "labels = np.argmax(predictions, 1)\n",
        "predict_list = labels.tolist()\n",
        "standard_list = test[0].tolist()\n",
        "\n",
        "print(len(predict_list))\n",
        "print(len(standard_list))\n",
        "\n",
        "print(predict_list)\n",
        "print(standard_list)"
      ],
      "execution_count": 49,
      "outputs": [
        {
          "output_type": "display_data",
          "data": {
            "text/html": [
              ""
            ],
            "text/plain": [
              "<IPython.core.display.HTML object>"
            ]
          },
          "metadata": {
            "tags": []
          }
        },
        {
          "output_type": "stream",
          "text": [
            "142\n",
            "142\n",
            "[1230, 978, 1356, 974, 1096, 224, 1936, 2147, 2147, 249, 1327, 1787, 1787, 1701, 1546, 1099, 1610, 1679, 265, 1227, 1227, 1810, 706, 1718, 744, 744, 749, 824, 1099, 749, 749, 1815, 792, 792, 792, 1787, 582, 1787, 1884, 1884, 265, 2010, 1136, 974, 978, 452, 749, 1089, 187, 1787, 561, 1099, 1096, 1099, 1099, 1136, 1192, 1676, 60, 1003, 1227, 1265, 1767, 1295, 1295, 1308, 1308, 1308, 1308, 1432, 1373, 1340, 1597, 1340, 1356, 1432, 749, 749, 452, 1508, 1511, 520, 2194, 1701, 978, 1062, 561, 1227, 824, 1573, 1597, 1597, 1597, 1597, 1356, 1597, 1597, 1531, 1196, 1545, 1597, 2191, 1767, 1073, 1798, 1529, 1718, 1718, 393, 2032, 1787, 1546, 1787, 393, 2032, 1815, 1610, 2149, 1936, 1546, 1940, 966, 824, 1942, 1578, 2032, 1787, 2032, 796, 189, 1295, 1767, 2103, 2113, 1184, 441, 2147, 1545, 1048, 61, 1546, 1787]\n",
            "[24, 94, 154, 195, 195, 224, 233, 233, 233, 249, 371, 393, 393, 402, 418, 426, 426, 441, 445, 561, 582, 645, 706, 720, 744, 744, 749, 749, 749, 749, 749, 767, 792, 792, 792, 792, 818, 824, 825, 825, 839, 858, 913, 974, 978, 1061, 1064, 1089, 1096, 1099, 1099, 1099, 1099, 1099, 1099, 1136, 1192, 1192, 1199, 1213, 1227, 1265, 1290, 1295, 1295, 1308, 1308, 1308, 1308, 1325, 1325, 1340, 1340, 1340, 1356, 1432, 1483, 1483, 1507, 1508, 1518, 1519, 1521, 1526, 1529, 1529, 1529, 1529, 1529, 1573, 1597, 1597, 1597, 1597, 1597, 1597, 1597, 1682, 1718, 1718, 1718, 1718, 1718, 1718, 1718, 1767, 1767, 1767, 1787, 1787, 1787, 1787, 1787, 1787, 1787, 1815, 1932, 1936, 1936, 1936, 1940, 1940, 1942, 1942, 2023, 2032, 2032, 2032, 2048, 2048, 2066, 2074, 2103, 2113, 2113, 2147, 2147, 2149, 2149, 2149, 2168, 2191]\n"
          ],
          "name": "stdout"
        }
      ]
    },
    {
      "cell_type": "code",
      "metadata": {
        "id": "XIC4zufnMxtq",
        "outputId": "d33dad80-1d6c-45ed-bd45-fd20ca56d0ee",
        "colab": {
          "base_uri": "https://localhost:8080/"
        }
      },
      "source": [
        "correct_num = 0\n",
        "\n",
        "for i in range(0, len(standard_list)):\n",
        "  if predict_list[i] == standard_list[i]:\n",
        "    correct_num = correct_num+1\n",
        "  else:\n",
        "    pass\n",
        "print(correct_num)\n",
        "\n",
        "predict_accuracy = correct_num/len(predict_list)\n",
        "print(predict_accuracy)"
      ],
      "execution_count": 50,
      "outputs": [
        {
          "output_type": "stream",
          "text": [
            "50\n",
            "0.352112676056338\n"
          ],
          "name": "stdout"
        }
      ]
    },
    {
      "cell_type": "code",
      "metadata": {
        "id": "zlKMHp1CIaRJ"
      },
      "source": [
        ""
      ],
      "execution_count": 50,
      "outputs": []
    }
  ]
}