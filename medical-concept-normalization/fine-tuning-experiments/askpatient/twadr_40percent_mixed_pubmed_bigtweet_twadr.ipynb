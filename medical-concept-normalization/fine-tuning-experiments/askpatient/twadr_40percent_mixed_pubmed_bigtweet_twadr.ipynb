{
  "nbformat": 4,
  "nbformat_minor": 0,
  "metadata": {
    "accelerator": "TPU",
    "colab": {
      "name": "twadr_40percent_mixed_pubmed_bigtweet_twadr.ipynb",
      "provenance": [],
      "collapsed_sections": [],
      "toc_visible": true,
      "include_colab_link": true
    },
    "kernelspec": {
      "display_name": "Python 3",
      "name": "python3"
    }
  },
  "cells": [
    {
      "cell_type": "markdown",
      "metadata": {
        "id": "view-in-github",
        "colab_type": "text"
      },
      "source": [
        "<a href=\"https://colab.research.google.com/github/unt-iialab/medical-concept-normalization/blob/master/medical-concept-normalization/fine-tuning-experiments/askpatient/twadr_40percent_mixed_pubmed_bigtweet_twadr.ipynb\" target=\"_parent\"><img src=\"https://colab.research.google.com/assets/colab-badge.svg\" alt=\"Open In Colab\"/></a>"
      ]
    },
    {
      "cell_type": "code",
      "metadata": {
        "id": "adSi6i2-dWxy"
      },
      "source": [
        "import os"
      ],
      "execution_count": 20,
      "outputs": []
    },
    {
      "cell_type": "code",
      "metadata": {
        "id": "E7xYCRGPjd9B"
      },
      "source": [
        "base_dir = 'medical-concept-normalization'"
      ],
      "execution_count": 21,
      "outputs": []
    },
    {
      "cell_type": "code",
      "metadata": {
        "id": "yvIW3aUDjYNS",
        "outputId": "cb449668-fa4e-45a5-c81f-e2b4bca8ce42",
        "colab": {
          "base_uri": "https://localhost:8080/",
          "height": 163
        }
      },
      "source": [
        "os.mkdir(base_dir)"
      ],
      "execution_count": 22,
      "outputs": [
        {
          "output_type": "error",
          "ename": "FileExistsError",
          "evalue": "ignored",
          "traceback": [
            "\u001b[0;31m---------------------------------------------------------------------------\u001b[0m",
            "\u001b[0;31mFileExistsError\u001b[0m                           Traceback (most recent call last)",
            "\u001b[0;32m<ipython-input-22-4a4456e35a59>\u001b[0m in \u001b[0;36m<module>\u001b[0;34m()\u001b[0m\n\u001b[0;32m----> 1\u001b[0;31m \u001b[0mos\u001b[0m\u001b[0;34m.\u001b[0m\u001b[0mmkdir\u001b[0m\u001b[0;34m(\u001b[0m\u001b[0mbase_dir\u001b[0m\u001b[0;34m)\u001b[0m\u001b[0;34m\u001b[0m\u001b[0;34m\u001b[0m\u001b[0m\n\u001b[0m",
            "\u001b[0;31mFileExistsError\u001b[0m: [Errno 17] File exists: 'medical-concept-normalization'"
          ]
        }
      ]
    },
    {
      "cell_type": "code",
      "metadata": {
        "id": "es-FFLlfk6SG"
      },
      "source": [
        "os.mkdir('medical-concept-normalization/data_collection')"
      ],
      "execution_count": null,
      "outputs": []
    },
    {
      "cell_type": "markdown",
      "metadata": {
        "id": "0R-Guw_VoJXm"
      },
      "source": [
        "**Install fastai and clone the fastai for text classification**\n",
        "\n"
      ]
    },
    {
      "cell_type": "code",
      "metadata": {
        "id": "QVZa3Z0PmHFH"
      },
      "source": [
        "!curl https://course-v3.fast.ai/setup/colab | bash"
      ],
      "execution_count": null,
      "outputs": []
    },
    {
      "cell_type": "code",
      "metadata": {
        "id": "_FBFFEBrmJC0"
      },
      "source": [
        "!git clone https://github.com/wshuyi/demo-nlp-classification-fastai.git"
      ],
      "execution_count": null,
      "outputs": []
    },
    {
      "cell_type": "code",
      "metadata": {
        "id": "66zfh_JqmWMU"
      },
      "source": [
        "from fastai import *\n",
        "from fastai.text import *"
      ],
      "execution_count": 43,
      "outputs": []
    },
    {
      "cell_type": "markdown",
      "metadata": {
        "id": "mNIw-yALdBU9"
      },
      "source": [
        "**Set the path of the data collections**"
      ]
    },
    {
      "cell_type": "code",
      "metadata": {
        "id": "pzH7VMh4mqCL"
      },
      "source": [
        "path = Path('medical-concept-normalization/data_collection')"
      ],
      "execution_count": 44,
      "outputs": []
    },
    {
      "cell_type": "code",
      "metadata": {
        "id": "b8fjI6yyn4aS"
      },
      "source": [
        "# training data set\n",
        "\n",
        "train_csv = path/'tward_training_folder_0.csv'\n",
        "train = pd.read_csv(train_csv, header=None)\n",
        "#train.head()\n",
        "#train.info()"
      ],
      "execution_count": 45,
      "outputs": []
    },
    {
      "cell_type": "code",
      "metadata": {
        "id": "Hmlr-bAorfHd",
        "outputId": "c7501366-f726-4024-8c2c-54634bab13f8",
        "colab": {
          "base_uri": "https://localhost:8080/",
          "height": 204
        }
      },
      "source": [
        "# validating data set\n",
        "\n",
        "valid = pd.read_csv(path/\"tward_validation_folder_0.csv\",header=None)\n",
        "valid.head()\n"
      ],
      "execution_count": 46,
      "outputs": [
        {
          "output_type": "execute_result",
          "data": {
            "text/html": [
              "<div>\n",
              "<style scoped>\n",
              "    .dataframe tbody tr th:only-of-type {\n",
              "        vertical-align: middle;\n",
              "    }\n",
              "\n",
              "    .dataframe tbody tr th {\n",
              "        vertical-align: top;\n",
              "    }\n",
              "\n",
              "    .dataframe thead th {\n",
              "        text-align: right;\n",
              "    }\n",
              "</style>\n",
              "<table border=\"1\" class=\"dataframe\">\n",
              "  <thead>\n",
              "    <tr style=\"text-align: right;\">\n",
              "      <th></th>\n",
              "      <th>0</th>\n",
              "      <th>1</th>\n",
              "    </tr>\n",
              "  </thead>\n",
              "  <tbody>\n",
              "    <tr>\n",
              "      <th>0</th>\n",
              "      <td>1811</td>\n",
              "      <td>cant shut up for the whole day</td>\n",
              "    </tr>\n",
              "    <tr>\n",
              "      <th>1</th>\n",
              "      <td>903</td>\n",
              "      <td>angry</td>\n",
              "    </tr>\n",
              "    <tr>\n",
              "      <th>2</th>\n",
              "      <td>1576</td>\n",
              "      <td>got me to the ceiling</td>\n",
              "    </tr>\n",
              "    <tr>\n",
              "      <th>3</th>\n",
              "      <td>2201</td>\n",
              "      <td>anxiety</td>\n",
              "    </tr>\n",
              "    <tr>\n",
              "      <th>4</th>\n",
              "      <td>416</td>\n",
              "      <td>tingling</td>\n",
              "    </tr>\n",
              "  </tbody>\n",
              "</table>\n",
              "</div>"
            ],
            "text/plain": [
              "      0                               1\n",
              "0  1811  cant shut up for the whole day\n",
              "1   903                           angry\n",
              "2  1576           got me to the ceiling\n",
              "3  2201                         anxiety\n",
              "4   416                        tingling"
            ]
          },
          "metadata": {
            "tags": []
          },
          "execution_count": 46
        }
      ]
    },
    {
      "cell_type": "code",
      "metadata": {
        "id": "cOza9dfSsBud",
        "outputId": "2a73b1d6-2451-4947-affe-9bf6fd4dcedf",
        "colab": {
          "base_uri": "https://localhost:8080/",
          "height": 204
        }
      },
      "source": [
        "# testing data set\n",
        "\n",
        "test = pd.read_csv(path/\"tward_testing_overlap_40.csv\",header=None)\n",
        "test.head()"
      ],
      "execution_count": 48,
      "outputs": [
        {
          "output_type": "execute_result",
          "data": {
            "text/html": [
              "<div>\n",
              "<style scoped>\n",
              "    .dataframe tbody tr th:only-of-type {\n",
              "        vertical-align: middle;\n",
              "    }\n",
              "\n",
              "    .dataframe tbody tr th {\n",
              "        vertical-align: top;\n",
              "    }\n",
              "\n",
              "    .dataframe thead th {\n",
              "        text-align: right;\n",
              "    }\n",
              "</style>\n",
              "<table border=\"1\" class=\"dataframe\">\n",
              "  <thead>\n",
              "    <tr style=\"text-align: right;\">\n",
              "      <th></th>\n",
              "      <th>0</th>\n",
              "      <th>1</th>\n",
              "    </tr>\n",
              "  </thead>\n",
              "  <tbody>\n",
              "    <tr>\n",
              "      <th>0</th>\n",
              "      <td>1576</td>\n",
              "      <td>still not tired</td>\n",
              "    </tr>\n",
              "    <tr>\n",
              "      <th>1</th>\n",
              "      <td>2099</td>\n",
              "      <td>can't remember the last time i slept</td>\n",
              "    </tr>\n",
              "    <tr>\n",
              "      <th>2</th>\n",
              "      <td>1698</td>\n",
              "      <td>i feel like</td>\n",
              "    </tr>\n",
              "    <tr>\n",
              "      <th>3</th>\n",
              "      <td>1811</td>\n",
              "      <td>wired</td>\n",
              "    </tr>\n",
              "    <tr>\n",
              "      <th>4</th>\n",
              "      <td>476</td>\n",
              "      <td>still procrastinating</td>\n",
              "    </tr>\n",
              "  </tbody>\n",
              "</table>\n",
              "</div>"
            ],
            "text/plain": [
              "      0                                     1\n",
              "0  1576                       still not tired\n",
              "1  2099  can't remember the last time i slept\n",
              "2  1698                           i feel like\n",
              "3  1811                                 wired\n",
              "4   476                 still procrastinating"
            ]
          },
          "metadata": {
            "tags": []
          },
          "execution_count": 48
        }
      ]
    },
    {
      "cell_type": "code",
      "metadata": {
        "id": "Vo-YNvVYoaH6",
        "outputId": "da1d9098-3728-4a38-a4e1-78878505ae54",
        "colab": {
          "base_uri": "https://localhost:8080/",
          "height": 17
        }
      },
      "source": [
        "# Creating DataBunch for language modelling\n",
        "\n",
        "data_lm = TextLMDataBunch.from_csv(path, 'mixed_pubmed_bigtweet_twadr.csv')"
      ],
      "execution_count": 49,
      "outputs": [
        {
          "output_type": "display_data",
          "data": {
            "text/html": [
              ""
            ],
            "text/plain": [
              "<IPython.core.display.HTML object>"
            ]
          },
          "metadata": {
            "tags": []
          }
        },
        {
          "output_type": "display_data",
          "data": {
            "text/html": [
              ""
            ],
            "text/plain": [
              "<IPython.core.display.HTML object>"
            ]
          },
          "metadata": {
            "tags": []
          }
        }
      ]
    },
    {
      "cell_type": "code",
      "metadata": {
        "id": "qcV-9kMnNLBf"
      },
      "source": [
        ""
      ],
      "execution_count": 49,
      "outputs": []
    },
    {
      "cell_type": "code",
      "metadata": {
        "id": "1ScY9afDsnvE"
      },
      "source": [
        "# Creating DataBunch for classification\n",
        "\n",
        "# data_clas = TextClasDataBunch.from_df(path, train, valid, test, vocab=data_lm.train_ds.vocab, bs=128)"
      ],
      "execution_count": 50,
      "outputs": []
    },
    {
      "cell_type": "code",
      "metadata": {
        "id": "gzrSdQcvey9p",
        "outputId": "e193c13c-a93c-4a3b-9858-c3975113b960",
        "colab": {
          "base_uri": "https://localhost:8080/",
          "height": 17
        }
      },
      "source": [
        "data_clas = TextClasDataBunch.from_df(path, train, valid, vocab=data_lm.train_ds.vocab, bs=128)"
      ],
      "execution_count": 51,
      "outputs": [
        {
          "output_type": "display_data",
          "data": {
            "text/html": [
              ""
            ],
            "text/plain": [
              "<IPython.core.display.HTML object>"
            ]
          },
          "metadata": {
            "tags": []
          }
        },
        {
          "output_type": "display_data",
          "data": {
            "text/html": [
              ""
            ],
            "text/plain": [
              "<IPython.core.display.HTML object>"
            ]
          },
          "metadata": {
            "tags": []
          }
        }
      ]
    },
    {
      "cell_type": "code",
      "metadata": {
        "id": "MD27Tf0Ke3ou",
        "outputId": "fa159b35-740b-455d-8f79-baa6694ed06f",
        "colab": {
          "base_uri": "https://localhost:8080/",
          "height": 17
        }
      },
      "source": [
        "data_clas.add_test(test,label=0)\n"
      ],
      "execution_count": 52,
      "outputs": [
        {
          "output_type": "display_data",
          "data": {
            "text/html": [
              ""
            ],
            "text/plain": [
              "<IPython.core.display.HTML object>"
            ]
          },
          "metadata": {
            "tags": []
          }
        }
      ]
    },
    {
      "cell_type": "code",
      "metadata": {
        "id": "-dpjnk_rstwk"
      },
      "source": [
        "data_lm.save()\n",
        "data_clas.save()"
      ],
      "execution_count": 53,
      "outputs": []
    },
    {
      "cell_type": "code",
      "metadata": {
        "id": "4OkiJa36sw5s",
        "outputId": "5b0a6e76-aad4-4b65-9775-df494788fd4b",
        "colab": {
          "base_uri": "https://localhost:8080/",
          "height": 1000
        }
      },
      "source": [
        "data_lm.train_ds.vocab.itos"
      ],
      "execution_count": 54,
      "outputs": [
        {
          "output_type": "execute_result",
          "data": {
            "text/plain": [
              "['xxunk',\n",
              " 'xxpad',\n",
              " 'xxbos',\n",
              " 'xxeos',\n",
              " 'xxfld',\n",
              " 'xxmaj',\n",
              " 'xxup',\n",
              " 'xxrep',\n",
              " 'xxwrep',\n",
              " 'the',\n",
              " 'of',\n",
              " 'and',\n",
              " 'in',\n",
              " 'to',\n",
              " 'a',\n",
              " 'for',\n",
              " 'with',\n",
              " 'was',\n",
              " 'diclofenac',\n",
              " 'were',\n",
              " 'on',\n",
              " 'is',\n",
              " 'rt',\n",
              " 'pain',\n",
              " 'sodium',\n",
              " 'by',\n",
              " 'drug',\n",
              " 'that',\n",
              " 'as',\n",
              " 'i',\n",
              " 'at',\n",
              " 'or',\n",
              " 'patients',\n",
              " 'this',\n",
              " 'from',\n",
              " 'you',\n",
              " 'disease',\n",
              " 'be',\n",
              " 'mg',\n",
              " 'group',\n",
              " 'increased',\n",
              " 'my',\n",
              " 'study',\n",
              " 'mood',\n",
              " 'are',\n",
              " 'not',\n",
              " 'treatment',\n",
              " 'it',\n",
              " 'an',\n",
              " 'after',\n",
              " 'me',\n",
              " 'amp',\n",
              " 'have',\n",
              " 'p',\n",
              " 'release',\n",
              " 'gluten',\n",
              " 'disorder',\n",
              " ',',\n",
              " 'all',\n",
              " 'than',\n",
              " 'effect',\n",
              " 'abnormal',\n",
              " 'no',\n",
              " 'withdrawal',\n",
              " 'symptoms',\n",
              " 'we',\n",
              " 'free',\n",
              " 'weight',\n",
              " 'decreased',\n",
              " 'anxiety',\n",
              " 'more',\n",
              " 'your',\n",
              " 'new',\n",
              " 'compared',\n",
              " 'effects',\n",
              " 'out',\n",
              " 'groups',\n",
              " 'using',\n",
              " 'two',\n",
              " 'up',\n",
              " 'time',\n",
              " 'inflammatory',\n",
              " 'both',\n",
              " 'our',\n",
              " 'day',\n",
              " 'its',\n",
              " 'about',\n",
              " 'significantly',\n",
              " 'between',\n",
              " 'drugs',\n",
              " 'acute',\n",
              " 'blood',\n",
              " 'like',\n",
              " 'h',\n",
              " 'these',\n",
              " 'but',\n",
              " 'significant',\n",
              " 'potassium',\n",
              " 'had',\n",
              " 'anti',\n",
              " 'can',\n",
              " 'skin',\n",
              " 'has',\n",
              " 'disorders',\n",
              " 'use',\n",
              " 'voltaren',\n",
              " 'do',\n",
              " 'used',\n",
              " 'behavior',\n",
              " 'dose',\n",
              " 'syndrome',\n",
              " 'which',\n",
              " 'results',\n",
              " '(',\n",
              " ')',\n",
              " 'placebo',\n",
              " 'also',\n",
              " '-',\n",
              " 'one',\n",
              " 'sleeplessness',\n",
              " 'what',\n",
              " 'there',\n",
              " 'glutenfree',\n",
              " 'days',\n",
              " 'nt',\n",
              " 'diseases',\n",
              " 'efficacy',\n",
              " 's',\n",
              " 'oral',\n",
              " 'concentration',\n",
              " 'may',\n",
              " 'feeling',\n",
              " 'celiac',\n",
              " 'm',\n",
              " 'when',\n",
              " 'now',\n",
              " 'got',\n",
              " 'treated',\n",
              " 'ds',\n",
              " 'showed',\n",
              " 'different',\n",
              " 'ml',\n",
              " 'w',\n",
              " 'non',\n",
              " 'administration',\n",
              " 'topical',\n",
              " 'test',\n",
              " 'been',\n",
              " 'finding',\n",
              " 'insomnia',\n",
              " 'disturbance',\n",
              " 'food',\n",
              " 'high',\n",
              " 'control',\n",
              " 'sleep',\n",
              " 'their',\n",
              " 'products',\n",
              " 'rats',\n",
              " 'somnolence',\n",
              " 'other',\n",
              " 'so',\n",
              " 'energy',\n",
              " 'if',\n",
              " 'acid',\n",
              " 'into',\n",
              " 'hours',\n",
              " 'via',\n",
              " 'found',\n",
              " 'right',\n",
              " 'body',\n",
              " 'studies',\n",
              " 'induced',\n",
              " 'during',\n",
              " 'mental',\n",
              " 'c',\n",
              " 'how',\n",
              " 'clinical',\n",
              " 'could',\n",
              " 'plasma',\n",
              " 'mean',\n",
              " 'swelling',\n",
              " 'who',\n",
              " 'did',\n",
              " 'post',\n",
              " 'well',\n",
              " 'diet',\n",
              " 'state',\n",
              " 'first',\n",
              " 'respectively',\n",
              " 'low',\n",
              " 'ph',\n",
              " 'nsaids',\n",
              " 'over',\n",
              " 'formulations',\n",
              " 'rate',\n",
              " 'gain',\n",
              " 'tablets',\n",
              " 'effective',\n",
              " 'observed',\n",
              " 'muscle',\n",
              " 'g',\n",
              " 'method',\n",
              " 'feel',\n",
              " 'tip',\n",
              " 'formulation',\n",
              " 'appetite',\n",
              " 'depression',\n",
              " 'those',\n",
              " 'nausea',\n",
              " 'solution',\n",
              " 'n',\n",
              " 'review',\n",
              " 'three',\n",
              " 'd',\n",
              " 'gel',\n",
              " 'received',\n",
              " 'kg',\n",
              " 'conditions',\n",
              " 'heart',\n",
              " 'reaction',\n",
              " 'lower',\n",
              " 'less',\n",
              " 'only',\n",
              " 'activity',\n",
              " 'renal',\n",
              " 'analgesic',\n",
              " 'excitability',\n",
              " 'irritable',\n",
              " 'weeks',\n",
              " 'levels',\n",
              " 'vitro',\n",
              " 'ceiling',\n",
              " 'adverse',\n",
              " 'controlled',\n",
              " 'eye',\n",
              " 'period',\n",
              " 'each',\n",
              " 'analysis',\n",
              " 'data',\n",
              " 'hyperactive',\n",
              " 'cell',\n",
              " 'daily',\n",
              " 'gastrointestinal',\n",
              " 'attention',\n",
              " 'total',\n",
              " 'good',\n",
              " 'week',\n",
              " 'awake',\n",
              " 'system',\n",
              " 'liver',\n",
              " 'feelings',\n",
              " 'dizziness',\n",
              " 'randomized',\n",
              " 'following',\n",
              " 'single',\n",
              " 'most',\n",
              " 'atorvastatin',\n",
              " 'dblclick',\n",
              " 'serum',\n",
              " 'level',\n",
              " 'patient',\n",
              " 'concentrations',\n",
              " 'pic',\n",
              " 'get',\n",
              " 'allergic',\n",
              " 'drowsiness',\n",
              " 'panic',\n",
              " 'before',\n",
              " 'however',\n",
              " 'ca',\n",
              " 'application',\n",
              " 'need',\n",
              " 'rash',\n",
              " 'here',\n",
              " 'model',\n",
              " 'headache',\n",
              " 'some',\n",
              " 'why',\n",
              " 'obtained',\n",
              " 't',\n",
              " 'function',\n",
              " 'difference',\n",
              " 'evaluated',\n",
              " 'they',\n",
              " 'loss',\n",
              " 'water',\n",
              " 'site',\n",
              " 'depressed',\n",
              " 'any',\n",
              " 'under',\n",
              " 'double',\n",
              " 'surgery',\n",
              " 'inflammation',\n",
              " 'therapy',\n",
              " 'will',\n",
              " 'reduced',\n",
              " 'joint',\n",
              " 'healthy',\n",
              " 'similar',\n",
              " 'postoperative',\n",
              " 'higher',\n",
              " 'years',\n",
              " 'chronic',\n",
              " 'based',\n",
              " 'tablet',\n",
              " 'cells',\n",
              " 'initial',\n",
              " 'bone',\n",
              " 'check',\n",
              " 'nsaid',\n",
              " 'life',\n",
              " 'increase',\n",
              " 'edema',\n",
              " 'l',\n",
              " 'associated',\n",
              " 'migraine',\n",
              " 'injury',\n",
              " 'dissolution',\n",
              " 'arthritis',\n",
              " 'change',\n",
              " 'swings',\n",
              " 'know',\n",
              " 'changes',\n",
              " 'love',\n",
              " 'infection',\n",
              " 'make',\n",
              " 'bipolar',\n",
              " 'order',\n",
              " 'combination',\n",
              " 'present',\n",
              " 'just',\n",
              " 'administered',\n",
              " 'injection',\n",
              " 'vs',\n",
              " 'b',\n",
              " 'studied',\n",
              " 'should',\n",
              " '#',\n",
              " 'relief',\n",
              " 'does',\n",
              " 'doses',\n",
              " 'while',\n",
              " 'response',\n",
              " 'prepared',\n",
              " 'pressure',\n",
              " 'being',\n",
              " 'better',\n",
              " 'brain',\n",
              " 'differences',\n",
              " 'side',\n",
              " \"n't\",\n",
              " 'help',\n",
              " 'great',\n",
              " 'due',\n",
              " 'reported',\n",
              " 'trial',\n",
              " 'wakefulness',\n",
              " 'still',\n",
              " 'nonsteroidal',\n",
              " 'min',\n",
              " 're',\n",
              " 'blind',\n",
              " 'cholesterol',\n",
              " 'gastric',\n",
              " 'events',\n",
              " 'x',\n",
              " 'four',\n",
              " 'visual',\n",
              " 'fatigue',\n",
              " 'performed',\n",
              " 'given',\n",
              " 'absorption',\n",
              " 'investigated',\n",
              " 'corneal',\n",
              " 'through',\n",
              " 'subjects',\n",
              " 'such',\n",
              " 'eating',\n",
              " 'developed',\n",
              " 'gfb',\n",
              " 'ratio',\n",
              " 'dreams',\n",
              " 'type',\n",
              " 'decrease',\n",
              " 'tissue',\n",
              " 'values',\n",
              " 'us',\n",
              " 'thanks',\n",
              " '30',\n",
              " 'tremor',\n",
              " 'parameters',\n",
              " 'knee',\n",
              " 'properties',\n",
              " 'containing',\n",
              " 'within',\n",
              " 'risk',\n",
              " 'abdominal',\n",
              " 'makes',\n",
              " 'attacks',\n",
              " 'intolerance',\n",
              " 'either',\n",
              " 'eat',\n",
              " 'respiratory',\n",
              " 'very',\n",
              " 'related',\n",
              " 'breast',\n",
              " 'posted',\n",
              " 'v',\n",
              " 'minutes',\n",
              " 'times',\n",
              " 'recipe',\n",
              " 'safety',\n",
              " 'measured',\n",
              " 'steroidal',\n",
              " 'potential',\n",
              " 'phase',\n",
              " 'hemorrhage',\n",
              " 'vivo',\n",
              " 'without',\n",
              " 'auc',\n",
              " 'same',\n",
              " 'show',\n",
              " 'therapeutic',\n",
              " 'living',\n",
              " 'mm',\n",
              " 'size',\n",
              " 'failure',\n",
              " 'people',\n",
              " 'samples',\n",
              " 'attack',\n",
              " 'death',\n",
              " 'medication',\n",
              " 'e',\n",
              " 'assessed',\n",
              " 'delivery',\n",
              " 'tired',\n",
              " 'statistically',\n",
              " 'going',\n",
              " 'action',\n",
              " 'dry',\n",
              " 'indomethacin',\n",
              " 'night',\n",
              " 'urine',\n",
              " 'stiffness',\n",
              " 'oa',\n",
              " 'taste',\n",
              " 'number',\n",
              " 'reduction',\n",
              " '2',\n",
              " 'year',\n",
              " 'ng',\n",
              " 'development',\n",
              " 'included',\n",
              " 'evaluate',\n",
              " 'kidney',\n",
              " 'range',\n",
              " 'liquid',\n",
              " 'compare',\n",
              " 'human',\n",
              " 'primary',\n",
              " 'active',\n",
              " 'many',\n",
              " 'rage',\n",
              " 'health',\n",
              " 'form',\n",
              " 'sensitivity',\n",
              " 'cardiac',\n",
              " 'coated',\n",
              " 'determined',\n",
              " 'heres',\n",
              " 'take',\n",
              " 'local',\n",
              " 'bioavailability',\n",
              " 'damage',\n",
              " 'lipitor',\n",
              " 'scale',\n",
              " 'osteoarthritis',\n",
              " 'tips',\n",
              " 'best',\n",
              " 'deficit',\n",
              " 'go',\n",
              " 'sleepy',\n",
              " 'normal',\n",
              " 'sustained',\n",
              " 'available',\n",
              " 'much',\n",
              " 'then',\n",
              " 'way',\n",
              " 'tolerability',\n",
              " 'archives',\n",
              " 'k',\n",
              " 'read',\n",
              " 'baseline',\n",
              " '\\r \\n ',\n",
              " 'carcinoma',\n",
              " 'applied',\n",
              " 'dependent',\n",
              " 'scores',\n",
              " 'ii',\n",
              " 'discomfort',\n",
              " 'area',\n",
              " 'jennieo',\n",
              " 'ulcer',\n",
              " 'process',\n",
              " 'matrix',\n",
              " 'hour',\n",
              " 'na',\n",
              " 'addition',\n",
              " 'secondary',\n",
              " 'cox',\n",
              " 'severe',\n",
              " 'psychotic',\n",
              " 'greater',\n",
              " 'middle',\n",
              " 'down',\n",
              " 'stomach',\n",
              " 'male',\n",
              " 'growth',\n",
              " 'back',\n",
              " 'today',\n",
              " 'months',\n",
              " 'think',\n",
              " 'eyes',\n",
              " 'polymer',\n",
              " 'long',\n",
              " 'alone',\n",
              " 'wide',\n",
              " 'because',\n",
              " 'even',\n",
              " 'trials',\n",
              " 'sweating',\n",
              " 'end',\n",
              " 'revealed',\n",
              " 'mice',\n",
              " 'tested',\n",
              " 'treatments',\n",
              " 'pulmonary',\n",
              " 'aqueous',\n",
              " 'cases',\n",
              " 'important',\n",
              " 'article',\n",
              " 'volunteers',\n",
              " '1',\n",
              " 'sensation',\n",
              " 'suggest',\n",
              " 'demonstrated',\n",
              " 'made',\n",
              " 'per',\n",
              " 'common',\n",
              " 'further',\n",
              " 'vomiting',\n",
              " 'multiple',\n",
              " 'ibuprofen',\n",
              " 'rheumatoid',\n",
              " 'mechanism',\n",
              " 'dermatitis',\n",
              " 'exposure',\n",
              " 'aim',\n",
              " 'daytime',\n",
              " 'indicated',\n",
              " 'inhibitor',\n",
              " 'protein',\n",
              " 'shown',\n",
              " 'numbness',\n",
              " 'hypertension',\n",
              " 'randomly',\n",
              " 'agent',\n",
              " 'allergy',\n",
              " 'inhibition',\n",
              " 'animals',\n",
              " 'news',\n",
              " 'big',\n",
              " 'provide',\n",
              " 'dependence',\n",
              " 'aggravated',\n",
              " 'temperature',\n",
              " 'safe',\n",
              " 'whereas',\n",
              " 'follow',\n",
              " 'chicken',\n",
              " 'super',\n",
              " 'infections',\n",
              " 'female',\n",
              " 'de',\n",
              " 'diagnosed',\n",
              " 'score',\n",
              " 'cerebral',\n",
              " 'various',\n",
              " 'want',\n",
              " 'rat',\n",
              " 'f',\n",
              " 'dosage',\n",
              " 'age',\n",
              " 'intestinal',\n",
              " 'early',\n",
              " 'dysfunction',\n",
              " 'improvement',\n",
              " 'product',\n",
              " 'systemic',\n",
              " 'cm',\n",
              " 'distress',\n",
              " 'cancer',\n",
              " 'content',\n",
              " 'intensity',\n",
              " 'irritation',\n",
              " 'zombie',\n",
              " 'prolonged',\n",
              " 'followed',\n",
              " 'agents',\n",
              " 'anger',\n",
              " 'conducted',\n",
              " 'alcohol',\n",
              " 'six',\n",
              " 'versus',\n",
              " 'asleep',\n",
              " 'vascular',\n",
              " 'case',\n",
              " 'permeation',\n",
              " 'although',\n",
              " 'standard',\n",
              " 'among',\n",
              " 'quality',\n",
              " 'pizza',\n",
              " 'cd',\n",
              " 'divided',\n",
              " 'part',\n",
              " 'tolerated',\n",
              " 'profile',\n",
              " 'cause',\n",
              " 'u',\n",
              " 'share',\n",
              " \"'m\",\n",
              " 'hallucinations',\n",
              " 'anemia',\n",
              " 'difficulty',\n",
              " 'would',\n",
              " 'caused',\n",
              " 'diagnosis',\n",
              " 'relative',\n",
              " 'vehicle',\n",
              " 'ocular',\n",
              " 'term',\n",
              " 'localised',\n",
              " 'elevated',\n",
              " 'moderate',\n",
              " 'peak',\n",
              " '\\r \\n \\r \\n ',\n",
              " 'presence',\n",
              " 'painful',\n",
              " 'o',\n",
              " 'r',\n",
              " 'onset',\n",
              " 'resulted',\n",
              " 'evaluation',\n",
              " 'complete',\n",
              " '4',\n",
              " 'pre',\n",
              " '10',\n",
              " 'sleepiness',\n",
              " 'including',\n",
              " 'find',\n",
              " 'formation',\n",
              " 'affect',\n",
              " 'surface',\n",
              " 'fluid',\n",
              " 'density',\n",
              " 'research',\n",
              " 'experimental',\n",
              " 'result',\n",
              " 'enteric',\n",
              " 'care',\n",
              " 'disturbances',\n",
              " 'combined',\n",
              " 'facial',\n",
              " 'least',\n",
              " 'pharmaceutical',\n",
              " 'complex',\n",
              " 'produced',\n",
              " 'awareness',\n",
              " 'improved',\n",
              " 'urinary',\n",
              " 'every',\n",
              " 'suicidal',\n",
              " 'hepatic',\n",
              " 'evidence',\n",
              " 'rapid',\n",
              " 'old',\n",
              " 'diabetes',\n",
              " 'microspheres',\n",
              " 'too',\n",
              " 'cross',\n",
              " 'production',\n",
              " 'glucose',\n",
              " 'seizures',\n",
              " 'exhaustion',\n",
              " 'against',\n",
              " 'blog',\n",
              " 'tract',\n",
              " 'profiles',\n",
              " 'arrest',\n",
              " 'cataract',\n",
              " 'peripheral',\n",
              " '5',\n",
              " 'necrosis',\n",
              " 'beads',\n",
              " 'tolerance',\n",
              " 'membrane',\n",
              " 'nightmares',\n",
              " 'depressive',\n",
              " 'calcium',\n",
              " 'pharmacokinetic',\n",
              " 'work',\n",
              " 'bad',\n",
              " 'pellets',\n",
              " 'analgesia',\n",
              " 'sensitive',\n",
              " 'five',\n",
              " 'according',\n",
              " 'positive',\n",
              " 'month',\n",
              " 'mild',\n",
              " 'solid',\n",
              " 'plus',\n",
              " 'misoprostol',\n",
              " 'please',\n",
              " 'rofecoxib',\n",
              " 'pruritus',\n",
              " 'simple',\n",
              " 'determine',\n",
              " 'once',\n",
              " 'performance',\n",
              " 'participants',\n",
              " 'interactions',\n",
              " 'lesions',\n",
              " 'vas',\n",
              " 'expression',\n",
              " 'duration',\n",
              " 'degrees',\n",
              " 'impairment',\n",
              " 'oedema',\n",
              " 'see',\n",
              " 'cold',\n",
              " 'achieved',\n",
              " 'aspirin',\n",
              " 'foot',\n",
              " 'overall',\n",
              " 'carried',\n",
              " 'spasm',\n",
              " 'am',\n",
              " 'might',\n",
              " 'synthesis',\n",
              " 'efficiency',\n",
              " 'investigate',\n",
              " 'methods',\n",
              " 'face',\n",
              " 'cmax',\n",
              " 'possible',\n",
              " 'off',\n",
              " 'commercial',\n",
              " 'dizzy',\n",
              " 'small',\n",
              " 'bite',\n",
              " 'soup',\n",
              " 'preparation',\n",
              " 'last',\n",
              " 'models',\n",
              " 'thus',\n",
              " 'ever',\n",
              " 'getting',\n",
              " 'where',\n",
              " 'medium',\n",
              " 'making',\n",
              " 'social',\n",
              " 'assessment',\n",
              " 'dr',\n",
              " 'second',\n",
              " 'physical',\n",
              " 'nervous',\n",
              " 'tests',\n",
              " 'vision',\n",
              " 'emotional',\n",
              " 'compulsive',\n",
              " 'chest',\n",
              " 'major',\n",
              " 'cookbook',\n",
              " 'happy',\n",
              " 'depersonalization',\n",
              " 'flow',\n",
              " 'delayed',\n",
              " 'patch',\n",
              " 'recorded',\n",
              " 'erythema',\n",
              " 'interaction',\n",
              " 'medical',\n",
              " 'vivid',\n",
              " 'third',\n",
              " 'diffusion',\n",
              " 'gf',\n",
              " 'hungry',\n",
              " 'toxicity',\n",
              " 'creatinine',\n",
              " 'amount',\n",
              " 'design',\n",
              " 'phosphate',\n",
              " 'rates',\n",
              " 'uterine',\n",
              " 'volume',\n",
              " 'linked',\n",
              " 'localized',\n",
              " 'maximum',\n",
              " 'specific',\n",
              " 'episode',\n",
              " 'global',\n",
              " 'th',\n",
              " 'novel',\n",
              " 'co',\n",
              " 'diabetic',\n",
              " 'stress',\n",
              " 'microg',\n",
              " 'comparison',\n",
              " 'upper',\n",
              " 'ci',\n",
              " 'injuries',\n",
              " 'degree',\n",
              " 'count',\n",
              " 'ache',\n",
              " 'determination',\n",
              " 'naproxen',\n",
              " 'prostaglandin',\n",
              " 'considered',\n",
              " 'comparable',\n",
              " 'children',\n",
              " 'asthma',\n",
              " 'flare',\n",
              " 'open',\n",
              " 'current',\n",
              " 'characteristics',\n",
              " 'lack',\n",
              " 'tooth',\n",
              " 'taking',\n",
              " 'whole',\n",
              " 'adderall',\n",
              " 'media',\n",
              " 'receiving',\n",
              " 'hunger',\n",
              " 'looking',\n",
              " 'inhibited',\n",
              " 'ventricular',\n",
              " 'alternative',\n",
              " 'enzyme',\n",
              " 'technique',\n",
              " 'since',\n",
              " 'nauseous',\n",
              " 'capsules',\n",
              " 'cardiovascular',\n",
              " 'issues',\n",
              " 'reference',\n",
              " 'abuse',\n",
              " 'women',\n",
              " 'easy',\n",
              " 'try',\n",
              " 'paracetamol',\n",
              " 'lung',\n",
              " 'others',\n",
              " 'drops',\n",
              " 'influence',\n",
              " 'crazy',\n",
              " 'characterized',\n",
              " 'shoulder',\n",
              " 'value',\n",
              " 'provided',\n",
              " 'memory',\n",
              " 'index',\n",
              " 'next',\n",
              " 'findings',\n",
              " 'fever',\n",
              " 'saline',\n",
              " 'always',\n",
              " 'incidence',\n",
              " 'loaded',\n",
              " 'extent',\n",
              " 'cream',\n",
              " 'lipid',\n",
              " 'examined',\n",
              " 'inhibitors',\n",
              " 'friends',\n",
              " 'hurt',\n",
              " 'top',\n",
              " 'detection',\n",
              " 'few',\n",
              " 'short',\n",
              " 'whether',\n",
              " 'autographed',\n",
              " 'neoplasm',\n",
              " 'clinically',\n",
              " 'foods',\n",
              " 'intramuscular',\n",
              " 'delicious',\n",
              " 'activities',\n",
              " 'really',\n",
              " 'released',\n",
              " 'hplc',\n",
              " 'serious',\n",
              " 'medications',\n",
              " 'tissues',\n",
              " '2014',\n",
              " 'responses',\n",
              " 'them',\n",
              " 'clearance',\n",
              " 'therefore',\n",
              " 'dic',\n",
              " 'buffer',\n",
              " 'story',\n",
              " 'dpsgc',\n",
              " 'central',\n",
              " 'solutions',\n",
              " 'preparations',\n",
              " 'fractures',\n",
              " 'outcome',\n",
              " 'increasing',\n",
              " 'terms',\n",
              " 'max',\n",
              " 'hand',\n",
              " 'gi',\n",
              " 'intoxication',\n",
              " 'ketorolac',\n",
              " 'twice',\n",
              " 'hip',\n",
              " 'antiinflammatory',\n",
              " 'withdrawals',\n",
              " 'drowsy',\n",
              " 'problems',\n",
              " 'fracture',\n",
              " 'learn',\n",
              " 'euphoric',\n",
              " 'block',\n",
              " 'point',\n",
              " 'indicate',\n",
              " 'cramps',\n",
              " 'analyzed',\n",
              " 'mass',\n",
              " 'oil',\n",
              " 'superior',\n",
              " 'wheat',\n",
              " 'pneumonia',\n",
              " 'aged',\n",
              " 'hepatitis',\n",
              " '6',\n",
              " 'cutaneous',\n",
              " 'nm',\n",
              " 'genital',\n",
              " 'nasal',\n",
              " 'lipoprotein',\n",
              " 'candidiasis',\n",
              " 'transdermal',\n",
              " 'bread',\n",
              " 'highly',\n",
              " 'solubility',\n",
              " 'ldl',\n",
              " 'known',\n",
              " 'partial',\n",
              " 'needed',\n",
              " 'several',\n",
              " 'steroid',\n",
              " 'info',\n",
              " 'factor',\n",
              " 'particle',\n",
              " 'thank',\n",
              " 'malignant',\n",
              " 'capsule',\n",
              " 'obsessive',\n",
              " 'extraction',\n",
              " 'animal',\n",
              " 'kinetics',\n",
              " 'support',\n",
              " 'child',\n",
              " 'sick',\n",
              " 'additional',\n",
              " 'own',\n",
              " 'assess',\n",
              " 'fear',\n",
              " 'little',\n",
              " 'receive',\n",
              " 'absence',\n",
              " 'reduce',\n",
              " '3',\n",
              " 'ear',\n",
              " 'event',\n",
              " 'penetration',\n",
              " 'crossover',\n",
              " 'away',\n",
              " 'immune',\n",
              " 'consciousness',\n",
              " 've',\n",
              " 'giveaway',\n",
              " 'bulimia',\n",
              " 'role',\n",
              " 'chitosan',\n",
              " 'modified',\n",
              " 'examination',\n",
              " ...]"
            ]
          },
          "metadata": {
            "tags": []
          },
          "execution_count": 54
        }
      ]
    },
    {
      "cell_type": "code",
      "metadata": {
        "id": "yPWr03mls3VT",
        "outputId": "b15f4c91-ad44-4371-944c-95e76f8eb821",
        "colab": {
          "base_uri": "https://localhost:8080/",
          "height": 17
        }
      },
      "source": [
        "model_path = path/'models'\n",
        "model_path.mkdir(exist_ok=True)\n",
        "url = 'http://files.fast.ai/models/wt103_v1/'\n",
        "download_url(f'{url}lstm_wt103.pth', model_path/'lstm_wt103.pth')\n",
        "download_url(f'{url}itos_wt103.pkl', model_path/'itos_wt103.pkl')"
      ],
      "execution_count": 55,
      "outputs": [
        {
          "output_type": "display_data",
          "data": {
            "text/html": [
              ""
            ],
            "text/plain": [
              "<IPython.core.display.HTML object>"
            ]
          },
          "metadata": {
            "tags": []
          }
        },
        {
          "output_type": "display_data",
          "data": {
            "text/html": [
              ""
            ],
            "text/plain": [
              "<IPython.core.display.HTML object>"
            ]
          },
          "metadata": {
            "tags": []
          }
        }
      ]
    },
    {
      "cell_type": "code",
      "metadata": {
        "id": "JRzvWg8RtGGr",
        "outputId": "edd00ca0-37d1-4fda-d80f-ae0bcc0ec101",
        "colab": {
          "base_uri": "https://localhost:8080/",
          "height": 34
        }
      },
      "source": [
        "learn = language_model_learner(data_lm, AWD_LSTM, drop_mult=0.5)"
      ],
      "execution_count": 56,
      "outputs": [
        {
          "output_type": "stream",
          "text": [
            "Downloading https://s3.amazonaws.com/fast-ai-modelzoo/wt103-fwd.tgz\n"
          ],
          "name": "stdout"
        },
        {
          "output_type": "display_data",
          "data": {
            "text/html": [
              ""
            ],
            "text/plain": [
              "<IPython.core.display.HTML object>"
            ]
          },
          "metadata": {
            "tags": []
          }
        }
      ]
    },
    {
      "cell_type": "code",
      "metadata": {
        "id": "xKK7GeBev7Xn",
        "outputId": "d2ef13ca-b534-49a4-b181-10a3517f7fb6",
        "colab": {
          "base_uri": "https://localhost:8080/",
          "height": 80
        }
      },
      "source": [
        "learn.fit_one_cycle(1, 1e-2)"
      ],
      "execution_count": 57,
      "outputs": [
        {
          "output_type": "display_data",
          "data": {
            "text/html": [
              "<table border=\"1\" class=\"dataframe\">\n",
              "  <thead>\n",
              "    <tr style=\"text-align: left;\">\n",
              "      <th>epoch</th>\n",
              "      <th>train_loss</th>\n",
              "      <th>valid_loss</th>\n",
              "      <th>accuracy</th>\n",
              "      <th>time</th>\n",
              "    </tr>\n",
              "  </thead>\n",
              "  <tbody>\n",
              "    <tr>\n",
              "      <td>0</td>\n",
              "      <td>4.733702</td>\n",
              "      <td>4.188475</td>\n",
              "      <td>0.344602</td>\n",
              "      <td>1:14:17</td>\n",
              "    </tr>\n",
              "  </tbody>\n",
              "</table>"
            ],
            "text/plain": [
              "<IPython.core.display.HTML object>"
            ]
          },
          "metadata": {
            "tags": []
          }
        }
      ]
    },
    {
      "cell_type": "code",
      "metadata": {
        "id": "iB7rHGQCwd12",
        "outputId": "388d96ae-2989-4524-9794-b45f5b1c56a6",
        "colab": {
          "base_uri": "https://localhost:8080/",
          "height": 80
        }
      },
      "source": [
        "learn.fit_one_cycle(1, 1e-2)"
      ],
      "execution_count": 58,
      "outputs": [
        {
          "output_type": "display_data",
          "data": {
            "text/html": [
              "<table border=\"1\" class=\"dataframe\">\n",
              "  <thead>\n",
              "    <tr style=\"text-align: left;\">\n",
              "      <th>epoch</th>\n",
              "      <th>train_loss</th>\n",
              "      <th>valid_loss</th>\n",
              "      <th>accuracy</th>\n",
              "      <th>time</th>\n",
              "    </tr>\n",
              "  </thead>\n",
              "  <tbody>\n",
              "    <tr>\n",
              "      <td>0</td>\n",
              "      <td>4.013488</td>\n",
              "      <td>3.806265</td>\n",
              "      <td>0.381358</td>\n",
              "      <td>1:13:52</td>\n",
              "    </tr>\n",
              "  </tbody>\n",
              "</table>"
            ],
            "text/plain": [
              "<IPython.core.display.HTML object>"
            ]
          },
          "metadata": {
            "tags": []
          }
        }
      ]
    },
    {
      "cell_type": "code",
      "metadata": {
        "id": "_BnSuAeCwkBe",
        "outputId": "695c1c35-a1e6-4b92-d397-75d73a71011c",
        "colab": {
          "base_uri": "https://localhost:8080/",
          "height": 80
        }
      },
      "source": [
        "learn.fit_one_cycle(1, 1e-3)"
      ],
      "execution_count": 59,
      "outputs": [
        {
          "output_type": "display_data",
          "data": {
            "text/html": [
              "<table border=\"1\" class=\"dataframe\">\n",
              "  <thead>\n",
              "    <tr style=\"text-align: left;\">\n",
              "      <th>epoch</th>\n",
              "      <th>train_loss</th>\n",
              "      <th>valid_loss</th>\n",
              "      <th>accuracy</th>\n",
              "      <th>time</th>\n",
              "    </tr>\n",
              "  </thead>\n",
              "  <tbody>\n",
              "    <tr>\n",
              "      <td>0</td>\n",
              "      <td>3.730502</td>\n",
              "      <td>3.761272</td>\n",
              "      <td>0.386797</td>\n",
              "      <td>1:15:27</td>\n",
              "    </tr>\n",
              "  </tbody>\n",
              "</table>"
            ],
            "text/plain": [
              "<IPython.core.display.HTML object>"
            ]
          },
          "metadata": {
            "tags": []
          }
        }
      ]
    },
    {
      "cell_type": "code",
      "metadata": {
        "id": "MuTm-RFjwrEX",
        "outputId": "88679f43-1e90-42ae-b453-6bdc03521e23",
        "colab": {
          "base_uri": "https://localhost:8080/",
          "height": 80
        }
      },
      "source": [
        "learn.fit_one_cycle(1, 1e-3)"
      ],
      "execution_count": 60,
      "outputs": [
        {
          "output_type": "display_data",
          "data": {
            "text/html": [
              "<table border=\"1\" class=\"dataframe\">\n",
              "  <thead>\n",
              "    <tr style=\"text-align: left;\">\n",
              "      <th>epoch</th>\n",
              "      <th>train_loss</th>\n",
              "      <th>valid_loss</th>\n",
              "      <th>accuracy</th>\n",
              "      <th>time</th>\n",
              "    </tr>\n",
              "  </thead>\n",
              "  <tbody>\n",
              "    <tr>\n",
              "      <td>0</td>\n",
              "      <td>3.683897</td>\n",
              "      <td>3.727552</td>\n",
              "      <td>0.390307</td>\n",
              "      <td>1:14:55</td>\n",
              "    </tr>\n",
              "  </tbody>\n",
              "</table>"
            ],
            "text/plain": [
              "<IPython.core.display.HTML object>"
            ]
          },
          "metadata": {
            "tags": []
          }
        }
      ]
    },
    {
      "cell_type": "code",
      "metadata": {
        "id": "1Er2ExO8wr7Y"
      },
      "source": [
        "learn.save_encoder('mixed_pubmed_bigtweet_twadr_fold40overlap_first')"
      ],
      "execution_count": 61,
      "outputs": []
    },
    {
      "cell_type": "code",
      "metadata": {
        "id": "z52cZs2qwvad",
        "outputId": "17a83044-3585-4394-eb1f-eb07866f1f77",
        "colab": {
          "base_uri": "https://localhost:8080/",
          "height": 80
        }
      },
      "source": [
        "learn = text_classifier_learner(data_clas,AWD_LSTM, drop_mult=0.5)\n",
        "learn.load_encoder('mixed_pubmed_bigtweet_twadr_fold40overlap_first')\n",
        "learn.fit_one_cycle(1, 1e-2)"
      ],
      "execution_count": 62,
      "outputs": [
        {
          "output_type": "display_data",
          "data": {
            "text/html": [
              "<table border=\"1\" class=\"dataframe\">\n",
              "  <thead>\n",
              "    <tr style=\"text-align: left;\">\n",
              "      <th>epoch</th>\n",
              "      <th>train_loss</th>\n",
              "      <th>valid_loss</th>\n",
              "      <th>accuracy</th>\n",
              "      <th>time</th>\n",
              "    </tr>\n",
              "  </thead>\n",
              "  <tbody>\n",
              "    <tr>\n",
              "      <td>0</td>\n",
              "      <td>7.189432</td>\n",
              "      <td>6.448358</td>\n",
              "      <td>0.078261</td>\n",
              "      <td>01:16</td>\n",
              "    </tr>\n",
              "  </tbody>\n",
              "</table>"
            ],
            "text/plain": [
              "<IPython.core.display.HTML object>"
            ]
          },
          "metadata": {
            "tags": []
          }
        }
      ]
    },
    {
      "cell_type": "code",
      "metadata": {
        "id": "ImwQP1PJwzxd",
        "outputId": "6b2ebb9e-2e86-4f7b-aa4d-520e00ae6cc0",
        "colab": {
          "base_uri": "https://localhost:8080/",
          "height": 80
        }
      },
      "source": [
        "learn.freeze_to(-2)\n",
        "learn.fit_one_cycle(1, slice(5e-3/2., 5e-3))"
      ],
      "execution_count": 63,
      "outputs": [
        {
          "output_type": "display_data",
          "data": {
            "text/html": [
              "<table border=\"1\" class=\"dataframe\">\n",
              "  <thead>\n",
              "    <tr style=\"text-align: left;\">\n",
              "      <th>epoch</th>\n",
              "      <th>train_loss</th>\n",
              "      <th>valid_loss</th>\n",
              "      <th>accuracy</th>\n",
              "      <th>time</th>\n",
              "    </tr>\n",
              "  </thead>\n",
              "  <tbody>\n",
              "    <tr>\n",
              "      <td>0</td>\n",
              "      <td>6.217879</td>\n",
              "      <td>5.271451</td>\n",
              "      <td>0.095652</td>\n",
              "      <td>01:19</td>\n",
              "    </tr>\n",
              "  </tbody>\n",
              "</table>"
            ],
            "text/plain": [
              "<IPython.core.display.HTML object>"
            ]
          },
          "metadata": {
            "tags": []
          }
        }
      ]
    },
    {
      "cell_type": "code",
      "metadata": {
        "id": "Owff_BJXw53u",
        "outputId": "8731daee-be67-407a-f54e-dbb0c975302c",
        "colab": {
          "base_uri": "https://localhost:8080/",
          "height": 80
        }
      },
      "source": [
        "learn.unfreeze()\n",
        "learn.fit_one_cycle(1, slice(2e-3/100, 2e-3))"
      ],
      "execution_count": 64,
      "outputs": [
        {
          "output_type": "display_data",
          "data": {
            "text/html": [
              "<table border=\"1\" class=\"dataframe\">\n",
              "  <thead>\n",
              "    <tr style=\"text-align: left;\">\n",
              "      <th>epoch</th>\n",
              "      <th>train_loss</th>\n",
              "      <th>valid_loss</th>\n",
              "      <th>accuracy</th>\n",
              "      <th>time</th>\n",
              "    </tr>\n",
              "  </thead>\n",
              "  <tbody>\n",
              "    <tr>\n",
              "      <td>0</td>\n",
              "      <td>5.675614</td>\n",
              "      <td>4.845849</td>\n",
              "      <td>0.165217</td>\n",
              "      <td>03:11</td>\n",
              "    </tr>\n",
              "  </tbody>\n",
              "</table>"
            ],
            "text/plain": [
              "<IPython.core.display.HTML object>"
            ]
          },
          "metadata": {
            "tags": []
          }
        }
      ]
    },
    {
      "cell_type": "code",
      "metadata": {
        "id": "lqAyu56V8Waq",
        "outputId": "812981ed-08f2-49b5-96bb-f25346b02eca",
        "colab": {
          "base_uri": "https://localhost:8080/",
          "height": 111
        }
      },
      "source": [
        "learn.fit_one_cycle(2, slice(2e-3/100, 2e-3))"
      ],
      "execution_count": 65,
      "outputs": [
        {
          "output_type": "display_data",
          "data": {
            "text/html": [
              "<table border=\"1\" class=\"dataframe\">\n",
              "  <thead>\n",
              "    <tr style=\"text-align: left;\">\n",
              "      <th>epoch</th>\n",
              "      <th>train_loss</th>\n",
              "      <th>valid_loss</th>\n",
              "      <th>accuracy</th>\n",
              "      <th>time</th>\n",
              "    </tr>\n",
              "  </thead>\n",
              "  <tbody>\n",
              "    <tr>\n",
              "      <td>0</td>\n",
              "      <td>5.415588</td>\n",
              "      <td>4.514347</td>\n",
              "      <td>0.191304</td>\n",
              "      <td>03:21</td>\n",
              "    </tr>\n",
              "    <tr>\n",
              "      <td>1</td>\n",
              "      <td>5.189719</td>\n",
              "      <td>4.346395</td>\n",
              "      <td>0.182609</td>\n",
              "      <td>03:04</td>\n",
              "    </tr>\n",
              "  </tbody>\n",
              "</table>"
            ],
            "text/plain": [
              "<IPython.core.display.HTML object>"
            ]
          },
          "metadata": {
            "tags": []
          }
        }
      ]
    },
    {
      "cell_type": "code",
      "metadata": {
        "id": "a7I1xMRp8bUd",
        "outputId": "e0badb6e-6ea9-4673-aa30-3a8b78307b62",
        "colab": {
          "base_uri": "https://localhost:8080/",
          "height": 111
        }
      },
      "source": [
        "learn.fit_one_cycle(2, slice(2e-3/100, 2e-3))"
      ],
      "execution_count": 66,
      "outputs": [
        {
          "output_type": "display_data",
          "data": {
            "text/html": [
              "<table border=\"1\" class=\"dataframe\">\n",
              "  <thead>\n",
              "    <tr style=\"text-align: left;\">\n",
              "      <th>epoch</th>\n",
              "      <th>train_loss</th>\n",
              "      <th>valid_loss</th>\n",
              "      <th>accuracy</th>\n",
              "      <th>time</th>\n",
              "    </tr>\n",
              "  </thead>\n",
              "  <tbody>\n",
              "    <tr>\n",
              "      <td>0</td>\n",
              "      <td>4.932297</td>\n",
              "      <td>4.129071</td>\n",
              "      <td>0.234783</td>\n",
              "      <td>03:11</td>\n",
              "    </tr>\n",
              "    <tr>\n",
              "      <td>1</td>\n",
              "      <td>4.743451</td>\n",
              "      <td>4.031187</td>\n",
              "      <td>0.234783</td>\n",
              "      <td>03:04</td>\n",
              "    </tr>\n",
              "  </tbody>\n",
              "</table>"
            ],
            "text/plain": [
              "<IPython.core.display.HTML object>"
            ]
          },
          "metadata": {
            "tags": []
          }
        }
      ]
    },
    {
      "cell_type": "code",
      "metadata": {
        "id": "UAnti-XmGVfO",
        "outputId": "f3acca5a-6861-48f5-f79b-07a37be6b35b",
        "colab": {
          "base_uri": "https://localhost:8080/",
          "height": 111
        }
      },
      "source": [
        "learn.fit_one_cycle(2, slice(2e-3/100, 2e-3))"
      ],
      "execution_count": 67,
      "outputs": [
        {
          "output_type": "display_data",
          "data": {
            "text/html": [
              "<table border=\"1\" class=\"dataframe\">\n",
              "  <thead>\n",
              "    <tr style=\"text-align: left;\">\n",
              "      <th>epoch</th>\n",
              "      <th>train_loss</th>\n",
              "      <th>valid_loss</th>\n",
              "      <th>accuracy</th>\n",
              "      <th>time</th>\n",
              "    </tr>\n",
              "  </thead>\n",
              "  <tbody>\n",
              "    <tr>\n",
              "      <td>0</td>\n",
              "      <td>4.550149</td>\n",
              "      <td>3.908469</td>\n",
              "      <td>0.252174</td>\n",
              "      <td>03:08</td>\n",
              "    </tr>\n",
              "    <tr>\n",
              "      <td>1</td>\n",
              "      <td>4.398311</td>\n",
              "      <td>3.864962</td>\n",
              "      <td>0.286957</td>\n",
              "      <td>03:07</td>\n",
              "    </tr>\n",
              "  </tbody>\n",
              "</table>"
            ],
            "text/plain": [
              "<IPython.core.display.HTML object>"
            ]
          },
          "metadata": {
            "tags": []
          }
        }
      ]
    },
    {
      "cell_type": "code",
      "metadata": {
        "id": "bIft7W25GwSu",
        "outputId": "5e4870df-9999-4bee-9bf4-99bf476e0c7d",
        "colab": {
          "base_uri": "https://localhost:8080/",
          "height": 111
        }
      },
      "source": [
        "learn.fit_one_cycle(2, slice(2e-3/100, 2e-3))"
      ],
      "execution_count": 68,
      "outputs": [
        {
          "output_type": "display_data",
          "data": {
            "text/html": [
              "<table border=\"1\" class=\"dataframe\">\n",
              "  <thead>\n",
              "    <tr style=\"text-align: left;\">\n",
              "      <th>epoch</th>\n",
              "      <th>train_loss</th>\n",
              "      <th>valid_loss</th>\n",
              "      <th>accuracy</th>\n",
              "      <th>time</th>\n",
              "    </tr>\n",
              "  </thead>\n",
              "  <tbody>\n",
              "    <tr>\n",
              "      <td>0</td>\n",
              "      <td>4.203898</td>\n",
              "      <td>3.821692</td>\n",
              "      <td>0.286957</td>\n",
              "      <td>03:05</td>\n",
              "    </tr>\n",
              "    <tr>\n",
              "      <td>1</td>\n",
              "      <td>4.019491</td>\n",
              "      <td>3.799566</td>\n",
              "      <td>0.321739</td>\n",
              "      <td>03:00</td>\n",
              "    </tr>\n",
              "  </tbody>\n",
              "</table>"
            ],
            "text/plain": [
              "<IPython.core.display.HTML object>"
            ]
          },
          "metadata": {
            "tags": []
          }
        }
      ]
    },
    {
      "cell_type": "code",
      "metadata": {
        "id": "EEHszVRvGyFt",
        "outputId": "ae5a0b7f-90ec-491e-82fc-35bfc56741ea",
        "colab": {
          "base_uri": "https://localhost:8080/",
          "height": 111
        }
      },
      "source": [
        "learn.fit_one_cycle(2, slice(2e-3/100, 2e-3))"
      ],
      "execution_count": 69,
      "outputs": [
        {
          "output_type": "display_data",
          "data": {
            "text/html": [
              "<table border=\"1\" class=\"dataframe\">\n",
              "  <thead>\n",
              "    <tr style=\"text-align: left;\">\n",
              "      <th>epoch</th>\n",
              "      <th>train_loss</th>\n",
              "      <th>valid_loss</th>\n",
              "      <th>accuracy</th>\n",
              "      <th>time</th>\n",
              "    </tr>\n",
              "  </thead>\n",
              "  <tbody>\n",
              "    <tr>\n",
              "      <td>0</td>\n",
              "      <td>3.872554</td>\n",
              "      <td>3.736299</td>\n",
              "      <td>0.330435</td>\n",
              "      <td>03:07</td>\n",
              "    </tr>\n",
              "    <tr>\n",
              "      <td>1</td>\n",
              "      <td>3.703454</td>\n",
              "      <td>3.723221</td>\n",
              "      <td>0.313043</td>\n",
              "      <td>03:01</td>\n",
              "    </tr>\n",
              "  </tbody>\n",
              "</table>"
            ],
            "text/plain": [
              "<IPython.core.display.HTML object>"
            ]
          },
          "metadata": {
            "tags": []
          }
        }
      ]
    },
    {
      "cell_type": "code",
      "metadata": {
        "id": "XsHfrhCHG3dN",
        "outputId": "05998301-044d-4af8-f830-5298fc8896d5",
        "colab": {
          "base_uri": "https://localhost:8080/",
          "height": 173
        }
      },
      "source": [
        "learn.fit_one_cycle(4, slice(2e-3/100, 2e-3))"
      ],
      "execution_count": 70,
      "outputs": [
        {
          "output_type": "display_data",
          "data": {
            "text/html": [
              "<table border=\"1\" class=\"dataframe\">\n",
              "  <thead>\n",
              "    <tr style=\"text-align: left;\">\n",
              "      <th>epoch</th>\n",
              "      <th>train_loss</th>\n",
              "      <th>valid_loss</th>\n",
              "      <th>accuracy</th>\n",
              "      <th>time</th>\n",
              "    </tr>\n",
              "  </thead>\n",
              "  <tbody>\n",
              "    <tr>\n",
              "      <td>0</td>\n",
              "      <td>3.509411</td>\n",
              "      <td>3.655108</td>\n",
              "      <td>0.304348</td>\n",
              "      <td>03:13</td>\n",
              "    </tr>\n",
              "    <tr>\n",
              "      <td>1</td>\n",
              "      <td>3.419363</td>\n",
              "      <td>3.565563</td>\n",
              "      <td>0.321739</td>\n",
              "      <td>03:13</td>\n",
              "    </tr>\n",
              "    <tr>\n",
              "      <td>2</td>\n",
              "      <td>3.244878</td>\n",
              "      <td>3.592040</td>\n",
              "      <td>0.330435</td>\n",
              "      <td>03:02</td>\n",
              "    </tr>\n",
              "    <tr>\n",
              "      <td>3</td>\n",
              "      <td>3.089973</td>\n",
              "      <td>3.580404</td>\n",
              "      <td>0.347826</td>\n",
              "      <td>03:02</td>\n",
              "    </tr>\n",
              "  </tbody>\n",
              "</table>"
            ],
            "text/plain": [
              "<IPython.core.display.HTML object>"
            ]
          },
          "metadata": {
            "tags": []
          }
        }
      ]
    },
    {
      "cell_type": "code",
      "metadata": {
        "id": "0Zsd99isb9EQ",
        "outputId": "59c709d1-088e-4bc9-e042-f6a8753c0bcc",
        "colab": {
          "base_uri": "https://localhost:8080/",
          "height": 173
        }
      },
      "source": [
        "learn.fit_one_cycle(4, slice(2e-3/100, 2e-3))"
      ],
      "execution_count": 71,
      "outputs": [
        {
          "output_type": "display_data",
          "data": {
            "text/html": [
              "<table border=\"1\" class=\"dataframe\">\n",
              "  <thead>\n",
              "    <tr style=\"text-align: left;\">\n",
              "      <th>epoch</th>\n",
              "      <th>train_loss</th>\n",
              "      <th>valid_loss</th>\n",
              "      <th>accuracy</th>\n",
              "      <th>time</th>\n",
              "    </tr>\n",
              "  </thead>\n",
              "  <tbody>\n",
              "    <tr>\n",
              "      <td>0</td>\n",
              "      <td>2.980548</td>\n",
              "      <td>3.478232</td>\n",
              "      <td>0.365217</td>\n",
              "      <td>03:10</td>\n",
              "    </tr>\n",
              "    <tr>\n",
              "      <td>1</td>\n",
              "      <td>2.887589</td>\n",
              "      <td>3.572104</td>\n",
              "      <td>0.347826</td>\n",
              "      <td>02:59</td>\n",
              "    </tr>\n",
              "    <tr>\n",
              "      <td>2</td>\n",
              "      <td>2.711978</td>\n",
              "      <td>3.463442</td>\n",
              "      <td>0.347826</td>\n",
              "      <td>03:09</td>\n",
              "    </tr>\n",
              "    <tr>\n",
              "      <td>3</td>\n",
              "      <td>2.556353</td>\n",
              "      <td>3.500690</td>\n",
              "      <td>0.330435</td>\n",
              "      <td>03:13</td>\n",
              "    </tr>\n",
              "  </tbody>\n",
              "</table>"
            ],
            "text/plain": [
              "<IPython.core.display.HTML object>"
            ]
          },
          "metadata": {
            "tags": []
          }
        }
      ]
    },
    {
      "cell_type": "code",
      "metadata": {
        "id": "atNWNKDFPbuI",
        "outputId": "d9a069f2-8163-4f7a-9013-5110e89eb94d",
        "colab": {
          "base_uri": "https://localhost:8080/",
          "height": 173
        }
      },
      "source": [
        "learn.fit_one_cycle(4, slice(2e-3/100, 2e-3))"
      ],
      "execution_count": 72,
      "outputs": [
        {
          "output_type": "display_data",
          "data": {
            "text/html": [
              "<table border=\"1\" class=\"dataframe\">\n",
              "  <thead>\n",
              "    <tr style=\"text-align: left;\">\n",
              "      <th>epoch</th>\n",
              "      <th>train_loss</th>\n",
              "      <th>valid_loss</th>\n",
              "      <th>accuracy</th>\n",
              "      <th>time</th>\n",
              "    </tr>\n",
              "  </thead>\n",
              "  <tbody>\n",
              "    <tr>\n",
              "      <td>0</td>\n",
              "      <td>2.381279</td>\n",
              "      <td>3.462002</td>\n",
              "      <td>0.365217</td>\n",
              "      <td>03:14</td>\n",
              "    </tr>\n",
              "    <tr>\n",
              "      <td>1</td>\n",
              "      <td>2.321904</td>\n",
              "      <td>3.556329</td>\n",
              "      <td>0.313043</td>\n",
              "      <td>03:22</td>\n",
              "    </tr>\n",
              "    <tr>\n",
              "      <td>2</td>\n",
              "      <td>2.166939</td>\n",
              "      <td>3.574219</td>\n",
              "      <td>0.330435</td>\n",
              "      <td>03:11</td>\n",
              "    </tr>\n",
              "    <tr>\n",
              "      <td>3</td>\n",
              "      <td>2.022372</td>\n",
              "      <td>3.533556</td>\n",
              "      <td>0.365217</td>\n",
              "      <td>03:17</td>\n",
              "    </tr>\n",
              "  </tbody>\n",
              "</table>"
            ],
            "text/plain": [
              "<IPython.core.display.HTML object>"
            ]
          },
          "metadata": {
            "tags": []
          }
        }
      ]
    },
    {
      "cell_type": "code",
      "metadata": {
        "id": "rKrBTZ0T1uVA",
        "outputId": "a5b36bc3-fb12-4ba0-9340-6d858257b2e1",
        "colab": {
          "base_uri": "https://localhost:8080/",
          "height": 173
        }
      },
      "source": [
        "learn.fit_one_cycle(4, slice(2e-3/100, 2e-3))"
      ],
      "execution_count": 73,
      "outputs": [
        {
          "output_type": "display_data",
          "data": {
            "text/html": [
              "<table border=\"1\" class=\"dataframe\">\n",
              "  <thead>\n",
              "    <tr style=\"text-align: left;\">\n",
              "      <th>epoch</th>\n",
              "      <th>train_loss</th>\n",
              "      <th>valid_loss</th>\n",
              "      <th>accuracy</th>\n",
              "      <th>time</th>\n",
              "    </tr>\n",
              "  </thead>\n",
              "  <tbody>\n",
              "    <tr>\n",
              "      <td>0</td>\n",
              "      <td>1.868090</td>\n",
              "      <td>3.454232</td>\n",
              "      <td>0.347826</td>\n",
              "      <td>03:16</td>\n",
              "    </tr>\n",
              "    <tr>\n",
              "      <td>1</td>\n",
              "      <td>1.848381</td>\n",
              "      <td>3.507519</td>\n",
              "      <td>0.321739</td>\n",
              "      <td>03:18</td>\n",
              "    </tr>\n",
              "    <tr>\n",
              "      <td>2</td>\n",
              "      <td>1.703412</td>\n",
              "      <td>3.463026</td>\n",
              "      <td>0.373913</td>\n",
              "      <td>03:35</td>\n",
              "    </tr>\n",
              "    <tr>\n",
              "      <td>3</td>\n",
              "      <td>1.574816</td>\n",
              "      <td>3.489633</td>\n",
              "      <td>0.365217</td>\n",
              "      <td>03:38</td>\n",
              "    </tr>\n",
              "  </tbody>\n",
              "</table>"
            ],
            "text/plain": [
              "<IPython.core.display.HTML object>"
            ]
          },
          "metadata": {
            "tags": []
          }
        }
      ]
    },
    {
      "cell_type": "code",
      "metadata": {
        "id": "ajQC6WDg1yA9",
        "outputId": "66576bf0-5e49-4aa1-b67c-cd841f52a775",
        "colab": {
          "base_uri": "https://localhost:8080/",
          "height": 173
        }
      },
      "source": [
        "learn.fit_one_cycle(4, slice(2e-3/100, 2e-3))"
      ],
      "execution_count": 74,
      "outputs": [
        {
          "output_type": "display_data",
          "data": {
            "text/html": [
              "<table border=\"1\" class=\"dataframe\">\n",
              "  <thead>\n",
              "    <tr style=\"text-align: left;\">\n",
              "      <th>epoch</th>\n",
              "      <th>train_loss</th>\n",
              "      <th>valid_loss</th>\n",
              "      <th>accuracy</th>\n",
              "      <th>time</th>\n",
              "    </tr>\n",
              "  </thead>\n",
              "  <tbody>\n",
              "    <tr>\n",
              "      <td>0</td>\n",
              "      <td>1.445724</td>\n",
              "      <td>3.492029</td>\n",
              "      <td>0.365217</td>\n",
              "      <td>03:12</td>\n",
              "    </tr>\n",
              "    <tr>\n",
              "      <td>1</td>\n",
              "      <td>1.471040</td>\n",
              "      <td>3.632129</td>\n",
              "      <td>0.347826</td>\n",
              "      <td>03:11</td>\n",
              "    </tr>\n",
              "    <tr>\n",
              "      <td>2</td>\n",
              "      <td>1.348582</td>\n",
              "      <td>3.544347</td>\n",
              "      <td>0.373913</td>\n",
              "      <td>03:20</td>\n",
              "    </tr>\n",
              "    <tr>\n",
              "      <td>3</td>\n",
              "      <td>1.232851</td>\n",
              "      <td>3.504622</td>\n",
              "      <td>0.365217</td>\n",
              "      <td>03:17</td>\n",
              "    </tr>\n",
              "  </tbody>\n",
              "</table>"
            ],
            "text/plain": [
              "<IPython.core.display.HTML object>"
            ]
          },
          "metadata": {
            "tags": []
          }
        }
      ]
    },
    {
      "cell_type": "code",
      "metadata": {
        "id": "KKydb0B4BKGk",
        "outputId": "c9721157-df3d-4054-ca3d-c5ffa24e4d17",
        "colab": {
          "base_uri": "https://localhost:8080/",
          "height": 173
        }
      },
      "source": [
        "learn.fit_one_cycle(4, slice(2e-3/100, 2e-3))"
      ],
      "execution_count": 75,
      "outputs": [
        {
          "output_type": "display_data",
          "data": {
            "text/html": [
              "<table border=\"1\" class=\"dataframe\">\n",
              "  <thead>\n",
              "    <tr style=\"text-align: left;\">\n",
              "      <th>epoch</th>\n",
              "      <th>train_loss</th>\n",
              "      <th>valid_loss</th>\n",
              "      <th>accuracy</th>\n",
              "      <th>time</th>\n",
              "    </tr>\n",
              "  </thead>\n",
              "  <tbody>\n",
              "    <tr>\n",
              "      <td>0</td>\n",
              "      <td>1.096004</td>\n",
              "      <td>3.603995</td>\n",
              "      <td>0.365217</td>\n",
              "      <td>03:28</td>\n",
              "    </tr>\n",
              "    <tr>\n",
              "      <td>1</td>\n",
              "      <td>1.112392</td>\n",
              "      <td>3.775853</td>\n",
              "      <td>0.330435</td>\n",
              "      <td>03:03</td>\n",
              "    </tr>\n",
              "    <tr>\n",
              "      <td>2</td>\n",
              "      <td>1.031179</td>\n",
              "      <td>3.698183</td>\n",
              "      <td>0.339130</td>\n",
              "      <td>03:20</td>\n",
              "    </tr>\n",
              "    <tr>\n",
              "      <td>3</td>\n",
              "      <td>0.960553</td>\n",
              "      <td>3.713848</td>\n",
              "      <td>0.356522</td>\n",
              "      <td>03:09</td>\n",
              "    </tr>\n",
              "  </tbody>\n",
              "</table>"
            ],
            "text/plain": [
              "<IPython.core.display.HTML object>"
            ]
          },
          "metadata": {
            "tags": []
          }
        }
      ]
    },
    {
      "cell_type": "code",
      "metadata": {
        "id": "T2APKtFKBpGY",
        "outputId": "469d43cb-ece0-4b6a-94ed-960c525380f8",
        "colab": {
          "base_uri": "https://localhost:8080/",
          "height": 173
        }
      },
      "source": [
        "learn.fit_one_cycle(4, slice(2e-3/100, 2e-3))"
      ],
      "execution_count": 76,
      "outputs": [
        {
          "output_type": "display_data",
          "data": {
            "text/html": [
              "<table border=\"1\" class=\"dataframe\">\n",
              "  <thead>\n",
              "    <tr style=\"text-align: left;\">\n",
              "      <th>epoch</th>\n",
              "      <th>train_loss</th>\n",
              "      <th>valid_loss</th>\n",
              "      <th>accuracy</th>\n",
              "      <th>time</th>\n",
              "    </tr>\n",
              "  </thead>\n",
              "  <tbody>\n",
              "    <tr>\n",
              "      <td>0</td>\n",
              "      <td>0.882351</td>\n",
              "      <td>3.675777</td>\n",
              "      <td>0.313043</td>\n",
              "      <td>02:59</td>\n",
              "    </tr>\n",
              "    <tr>\n",
              "      <td>1</td>\n",
              "      <td>0.908848</td>\n",
              "      <td>3.746740</td>\n",
              "      <td>0.391304</td>\n",
              "      <td>03:12</td>\n",
              "    </tr>\n",
              "    <tr>\n",
              "      <td>2</td>\n",
              "      <td>0.844673</td>\n",
              "      <td>3.742208</td>\n",
              "      <td>0.382609</td>\n",
              "      <td>03:08</td>\n",
              "    </tr>\n",
              "    <tr>\n",
              "      <td>3</td>\n",
              "      <td>0.769214</td>\n",
              "      <td>3.736295</td>\n",
              "      <td>0.373913</td>\n",
              "      <td>03:09</td>\n",
              "    </tr>\n",
              "  </tbody>\n",
              "</table>"
            ],
            "text/plain": [
              "<IPython.core.display.HTML object>"
            ]
          },
          "metadata": {
            "tags": []
          }
        }
      ]
    },
    {
      "cell_type": "code",
      "metadata": {
        "id": "qtTypA1sPgLU",
        "outputId": "01fc714b-7135-411f-b6b3-cca2c64ee036",
        "colab": {
          "base_uri": "https://localhost:8080/",
          "height": 111
        }
      },
      "source": [
        "learn.fit_one_cycle(2, slice(2e-3/100, 2e-3))"
      ],
      "execution_count": 77,
      "outputs": [
        {
          "output_type": "display_data",
          "data": {
            "text/html": [
              "<table border=\"1\" class=\"dataframe\">\n",
              "  <thead>\n",
              "    <tr style=\"text-align: left;\">\n",
              "      <th>epoch</th>\n",
              "      <th>train_loss</th>\n",
              "      <th>valid_loss</th>\n",
              "      <th>accuracy</th>\n",
              "      <th>time</th>\n",
              "    </tr>\n",
              "  </thead>\n",
              "  <tbody>\n",
              "    <tr>\n",
              "      <td>0</td>\n",
              "      <td>0.713560</td>\n",
              "      <td>3.864706</td>\n",
              "      <td>0.339130</td>\n",
              "      <td>03:20</td>\n",
              "    </tr>\n",
              "    <tr>\n",
              "      <td>1</td>\n",
              "      <td>0.734140</td>\n",
              "      <td>3.851300</td>\n",
              "      <td>0.321739</td>\n",
              "      <td>03:03</td>\n",
              "    </tr>\n",
              "  </tbody>\n",
              "</table>"
            ],
            "text/plain": [
              "<IPython.core.display.HTML object>"
            ]
          },
          "metadata": {
            "tags": []
          }
        }
      ]
    },
    {
      "cell_type": "code",
      "metadata": {
        "id": "b242kBsTUp9Y",
        "outputId": "c842abde-a81b-47dd-dc06-d0c443e9593b",
        "colab": {
          "base_uri": "https://localhost:8080/",
          "height": 111
        }
      },
      "source": [
        "learn.fit_one_cycle(2, slice(2e-3/100, 2e-3))"
      ],
      "execution_count": 78,
      "outputs": [
        {
          "output_type": "display_data",
          "data": {
            "text/html": [
              "<table border=\"1\" class=\"dataframe\">\n",
              "  <thead>\n",
              "    <tr style=\"text-align: left;\">\n",
              "      <th>epoch</th>\n",
              "      <th>train_loss</th>\n",
              "      <th>valid_loss</th>\n",
              "      <th>accuracy</th>\n",
              "      <th>time</th>\n",
              "    </tr>\n",
              "  </thead>\n",
              "  <tbody>\n",
              "    <tr>\n",
              "      <td>0</td>\n",
              "      <td>0.692532</td>\n",
              "      <td>3.892012</td>\n",
              "      <td>0.356522</td>\n",
              "      <td>03:02</td>\n",
              "    </tr>\n",
              "    <tr>\n",
              "      <td>1</td>\n",
              "      <td>0.646693</td>\n",
              "      <td>4.020468</td>\n",
              "      <td>0.347826</td>\n",
              "      <td>03:19</td>\n",
              "    </tr>\n",
              "  </tbody>\n",
              "</table>"
            ],
            "text/plain": [
              "<IPython.core.display.HTML object>"
            ]
          },
          "metadata": {
            "tags": []
          }
        }
      ]
    },
    {
      "cell_type": "code",
      "metadata": {
        "id": "Duwf1Ih5VeDZ",
        "outputId": "765c377a-e26a-48d3-b8f5-6f147e01bda0",
        "colab": {
          "base_uri": "https://localhost:8080/",
          "height": 80
        }
      },
      "source": [
        "learn.fit_one_cycle(1, slice(2e-3/100, 2e-3))"
      ],
      "execution_count": 79,
      "outputs": [
        {
          "output_type": "display_data",
          "data": {
            "text/html": [
              "<table border=\"1\" class=\"dataframe\">\n",
              "  <thead>\n",
              "    <tr style=\"text-align: left;\">\n",
              "      <th>epoch</th>\n",
              "      <th>train_loss</th>\n",
              "      <th>valid_loss</th>\n",
              "      <th>accuracy</th>\n",
              "      <th>time</th>\n",
              "    </tr>\n",
              "  </thead>\n",
              "  <tbody>\n",
              "    <tr>\n",
              "      <td>0</td>\n",
              "      <td>0.623987</td>\n",
              "      <td>4.016057</td>\n",
              "      <td>0.356522</td>\n",
              "      <td>03:18</td>\n",
              "    </tr>\n",
              "  </tbody>\n",
              "</table>"
            ],
            "text/plain": [
              "<IPython.core.display.HTML object>"
            ]
          },
          "metadata": {
            "tags": []
          }
        }
      ]
    },
    {
      "cell_type": "code",
      "metadata": {
        "id": "c65d-osfDUXm"
      },
      "source": [
        "# save the best model\n",
        "\n",
        "learn.save_encoder('mixed_pubmed_bigtweet_twadr_fold40overlap')"
      ],
      "execution_count": 80,
      "outputs": []
    },
    {
      "cell_type": "markdown",
      "metadata": {
        "id": "rCwZU0E2RgM6"
      },
      "source": [
        "# Part three: Predict on the test dataset"
      ]
    },
    {
      "cell_type": "code",
      "metadata": {
        "id": "gDm72c-dOu7d",
        "outputId": "74adc940-a660-44de-e45e-699b65aec9af",
        "colab": {
          "base_uri": "https://localhost:8080/",
          "height": 17
        }
      },
      "source": [
        "# use the test data for prediction\n",
        "\n",
        "preds, y = learn.get_preds(DatasetType.Test)"
      ],
      "execution_count": 81,
      "outputs": [
        {
          "output_type": "display_data",
          "data": {
            "text/html": [
              ""
            ],
            "text/plain": [
              "<IPython.core.display.HTML object>"
            ]
          },
          "metadata": {
            "tags": []
          }
        }
      ]
    },
    {
      "cell_type": "code",
      "metadata": {
        "id": "6tFSQcsWPvxn",
        "outputId": "25739d36-a8a3-4a98-d8cd-06aeb5b8af72",
        "colab": {
          "base_uri": "https://localhost:8080/",
          "height": 105
        }
      },
      "source": [
        "predictions, *_ = learn.get_preds(DatasetType.Test)\n",
        "labels = np.argmax(predictions, 1)\n",
        "predict_list = labels.tolist()\n",
        "standard_list = test[0].tolist()\n",
        "\n",
        "print(len(predict_list))\n",
        "print(len(standard_list))\n",
        "\n",
        "print(predict_list)\n",
        "print(standard_list)"
      ],
      "execution_count": 82,
      "outputs": [
        {
          "output_type": "display_data",
          "data": {
            "text/html": [
              ""
            ],
            "text/plain": [
              "<IPython.core.display.HTML object>"
            ]
          },
          "metadata": {
            "tags": []
          }
        },
        {
          "output_type": "stream",
          "text": [
            "239\n",
            "239\n",
            "[803, 2099, 1308, 574, 1932, 359, 1698, 803, 1932, 309, 441, 106, 854, 2085, 860, 1108, 2088, 711, 965, 1072, 106, 803, 744, 1698, 1802, 171, 1583, 974, 833, 2088, 1323, 2046, 1633, 1576, 12, 840, 1126, 1583, 2046, 1411, 803, 1822, 1652, 1698, 106, 1935, 1307, 621, 1626, 854, 1811, 574, 1407, 249, 135, 1652, 1583, 1698, 2088, 1308, 92, 700, 1932, 1323, 931, 744, 1698, 1534, 2027, 860, 2099, 1811, 309, 1546, 1570, 700, 1106, 860, 978, 574, 135, 1038, 92, 476, 909, 2188, 135, 621, 1307, 359, 230, 1178, 1932, 2214, 1308, 1308, 1570, 798, 1652, 840, 1323, 2046, 1811, 860, 2099, 983, 1478, 854, 476, 747, 1411, 1323, 1932, 244, 1411, 2099, 2214, 747, 574, 833, 1811, 1075, 2088, 1948, 700, 127, 860, 1034, 1307, 87, 170, 106, 574, 309, 903, 171, 2214, 860, 631, 1698, 1308, 1308, 1773, 170, 2214, 903, 1034, 2214, 2184, 1326, 983, 378, 840, 170, 441, 2046, 2099, 854, 700, 2099, 1392, 170, 135, 1308, 1376, 2046, 135, 1652, 1962, 170, 2099, 79, 249, 89, 441, 909, 847, 1698, 931, 1308, 574, 1576, 2214, 194, 700, 1698, 333, 2046, 1698, 170, 170, 1583, 2188, 449, 1220, 2099, 854, 744, 1652, 574, 2188, 1447, 1698, 854, 574, 244, 700, 1411, 1652, 1698, 1348, 2214, 574, 492, 1698, 931, 2165, 170, 79, 170, 2099, 803, 931, 106, 1652, 1811, 1106, 1307, 170, 1968, 1698, 1773, 1472, 931, 1407, 854, 803, 170, 194]\n",
            "[1576, 2099, 1698, 1811, 476, 840, 440, 2099, 171, 309, 703, 135, 375, 1326, 860, 574, 2003, 210, 1408, 237, 106, 1576, 700, 1095, 1194, 1307, 239, 935, 833, 1076, 1935, 1008, 2176, 1576, 2088, 1407, 1411, 505, 1811, 1576, 803, 605, 1652, 931, 92, 974, 2088, 1075, 491, 1932, 1075, 574, 1220, 1032, 2048, 2088, 1583, 1043, 2188, 1095, 872, 854, 1307, 1950, 170, 700, 1698, 170, 451, 860, 1076, 2099, 309, 872, 210, 700, 237, 2003, 1077, 1299, 99, 1038, 106, 2218, 1698, 1666, 135, 1698, 171, 1534, 1811, 699, 854, 171, 621, 794, 941, 89, 965, 472, 1935, 574, 336, 1348, 803, 1403, 2027, 1811, 1752, 1025, 1411, 2099, 1932, 989, 2046, 2099, 724, 1308, 1106, 621, 1811, 699, 1307, 574, 268, 959, 2099, 1308, 1542, 860, 2201, 1308, 574, 309, 1472, 384, 384, 854, 833, 79, 467, 2165, 1049, 956, 2097, 1542, 1811, 384, 1220, 1811, 983, 378, 840, 170, 441, 2046, 2099, 1932, 700, 2099, 1392, 170, 135, 1308, 1376, 2046, 135, 79, 1962, 170, 2099, 79, 249, 89, 441, 909, 847, 1034, 931, 1308, 574, 79, 1213, 194, 700, 854, 333, 2046, 1698, 170, 170, 1583, 2188, 449, 1220, 2099, 854, 744, 1652, 574, 2188, 1447, 244, 854, 574, 244, 700, 1411, 79, 2182, 1348, 2214, 574, 492, 1698, 931, 2165, 170, 1576, 170, 1034, 803, 189, 106, 1652, 1811, 1106, 1307, 170, 1968, 244, 1773, 1472, 931, 1407, 854, 2099, 170, 241]\n"
          ],
          "name": "stdout"
        }
      ]
    },
    {
      "cell_type": "code",
      "metadata": {
        "id": "XIC4zufnMxtq",
        "outputId": "c48da6bd-8a36-4434-99e3-8acdfd59e2a5",
        "colab": {
          "base_uri": "https://localhost:8080/",
          "height": 51
        }
      },
      "source": [
        "correct_num = 0\n",
        "\n",
        "for i in range(0, len(standard_list)):\n",
        "  if predict_list[i] == standard_list[i]:\n",
        "    correct_num = correct_num+1\n",
        "  else:\n",
        "    pass\n",
        "print(correct_num)\n",
        "\n",
        "predict_accuracy = correct_num/len(predict_list)\n",
        "print(predict_accuracy)"
      ],
      "execution_count": 83,
      "outputs": [
        {
          "output_type": "stream",
          "text": [
            "96\n",
            "0.401673640167364\n"
          ],
          "name": "stdout"
        }
      ]
    },
    {
      "cell_type": "code",
      "metadata": {
        "id": "zlKMHp1CIaRJ"
      },
      "source": [
        ""
      ],
      "execution_count": 83,
      "outputs": []
    }
  ]
}