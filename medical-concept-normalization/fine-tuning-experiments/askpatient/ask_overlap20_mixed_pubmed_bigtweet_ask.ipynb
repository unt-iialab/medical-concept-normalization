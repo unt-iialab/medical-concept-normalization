{
  "nbformat": 4,
  "nbformat_minor": 0,
  "metadata": {
    "accelerator": "TPU",
    "colab": {
      "name": "ask_overlap20_mixed_pubmed_bigtweet_ask.ipynb",
      "provenance": [],
      "collapsed_sections": [],
      "toc_visible": true,
      "include_colab_link": true
    },
    "kernelspec": {
      "display_name": "Python 3",
      "name": "python3"
    }
  },
  "cells": [
    {
      "cell_type": "markdown",
      "metadata": {
        "id": "view-in-github",
        "colab_type": "text"
      },
      "source": [
        "<a href=\"https://colab.research.google.com/github/unt-iialab/medical-concept-normalization/blob/master/medical-concept-normalization/fine-tuning-experiments/askpatient/ask_overlap20_mixed_pubmed_bigtweet_ask.ipynb\" target=\"_parent\"><img src=\"https://colab.research.google.com/assets/colab-badge.svg\" alt=\"Open In Colab\"/></a>"
      ]
    },
    {
      "cell_type": "code",
      "metadata": {
        "id": "adSi6i2-dWxy"
      },
      "source": [
        "import os"
      ],
      "execution_count": 1,
      "outputs": []
    },
    {
      "cell_type": "code",
      "metadata": {
        "id": "E7xYCRGPjd9B"
      },
      "source": [
        "base_dir = 'medical-concept-normalization'"
      ],
      "execution_count": 2,
      "outputs": []
    },
    {
      "cell_type": "code",
      "metadata": {
        "id": "yvIW3aUDjYNS"
      },
      "source": [
        "os.mkdir(base_dir)"
      ],
      "execution_count": 3,
      "outputs": []
    },
    {
      "cell_type": "code",
      "metadata": {
        "id": "es-FFLlfk6SG"
      },
      "source": [
        "os.mkdir('medical-concept-normalization/data_collection')"
      ],
      "execution_count": 4,
      "outputs": []
    },
    {
      "cell_type": "markdown",
      "metadata": {
        "id": "0R-Guw_VoJXm"
      },
      "source": [
        "**Install fastai and clone the fastai for text classification**\n",
        "\n"
      ]
    },
    {
      "cell_type": "code",
      "metadata": {
        "id": "QVZa3Z0PmHFH",
        "outputId": "2259f56a-8a17-4925-e39a-11b595e5b1f2",
        "colab": {
          "base_uri": "https://localhost:8080/",
          "height": 68
        }
      },
      "source": [
        "!curl https://course-v3.fast.ai/setup/colab | bash"
      ],
      "execution_count": 5,
      "outputs": [
        {
          "output_type": "stream",
          "text": [
            "  % Total    % Received % Xferd  Average Speed   Time    Time     Time  Current\n",
            "                                 Dload  Upload   Total   Spent    Left  Speed\n",
            "\r  0     0    0     0    0     0      0      0 --:--:-- --:--:-- --:--:--     0curl: (6) Could not resolve host: course-v3.fast.ai\n"
          ],
          "name": "stdout"
        }
      ]
    },
    {
      "cell_type": "code",
      "metadata": {
        "id": "_FBFFEBrmJC0",
        "outputId": "4c40442e-385d-413b-c942-e202145f7e68",
        "colab": {
          "base_uri": "https://localhost:8080/",
          "height": 85
        }
      },
      "source": [
        "!git clone https://github.com/wshuyi/demo-nlp-classification-fastai.git"
      ],
      "execution_count": 6,
      "outputs": [
        {
          "output_type": "stream",
          "text": [
            "Cloning into 'demo-nlp-classification-fastai'...\n",
            "remote: Enumerating objects: 9, done.\u001b[K\n",
            "remote: Total 9 (delta 0), reused 0 (delta 0), pack-reused 9\u001b[K\n",
            "Unpacking objects: 100% (9/9), done.\n"
          ],
          "name": "stdout"
        }
      ]
    },
    {
      "cell_type": "code",
      "metadata": {
        "id": "66zfh_JqmWMU"
      },
      "source": [
        "from fastai import *\n",
        "from fastai.text import *"
      ],
      "execution_count": 7,
      "outputs": []
    },
    {
      "cell_type": "markdown",
      "metadata": {
        "id": "mNIw-yALdBU9"
      },
      "source": [
        "**Set the path of the data collections**"
      ]
    },
    {
      "cell_type": "code",
      "metadata": {
        "id": "pzH7VMh4mqCL"
      },
      "source": [
        "path = Path('medical-concept-normalization/data_collection')"
      ],
      "execution_count": 8,
      "outputs": []
    },
    {
      "cell_type": "code",
      "metadata": {
        "id": "b8fjI6yyn4aS"
      },
      "source": [
        "# training data set\n",
        "\n",
        "train_csv = path/'AskAPatient.fold-0.train.csv'\n",
        "train = pd.read_csv(train_csv, header=None)\n",
        "#train.head()\n",
        "#train.info()"
      ],
      "execution_count": 10,
      "outputs": []
    },
    {
      "cell_type": "code",
      "metadata": {
        "id": "Hmlr-bAorfHd",
        "outputId": "661a36ac-c4ba-499a-c561-cacad0d8835e",
        "colab": {
          "base_uri": "https://localhost:8080/",
          "height": 204
        }
      },
      "source": [
        "# validating data set\n",
        "\n",
        "valid = pd.read_csv(path/\"AskAPatient.fold-0.validation.csv\",header=None)\n",
        "valid.head()"
      ],
      "execution_count": 11,
      "outputs": [
        {
          "output_type": "execute_result",
          "data": {
            "text/html": [
              "<div>\n",
              "<style scoped>\n",
              "    .dataframe tbody tr th:only-of-type {\n",
              "        vertical-align: middle;\n",
              "    }\n",
              "\n",
              "    .dataframe tbody tr th {\n",
              "        vertical-align: top;\n",
              "    }\n",
              "\n",
              "    .dataframe thead th {\n",
              "        text-align: right;\n",
              "    }\n",
              "</style>\n",
              "<table border=\"1\" class=\"dataframe\">\n",
              "  <thead>\n",
              "    <tr style=\"text-align: right;\">\n",
              "      <th></th>\n",
              "      <th>0</th>\n",
              "      <th>1</th>\n",
              "    </tr>\n",
              "  </thead>\n",
              "  <tbody>\n",
              "    <tr>\n",
              "      <th>0</th>\n",
              "      <td>0</td>\n",
              "      <td>fear</td>\n",
              "    </tr>\n",
              "    <tr>\n",
              "      <th>1</th>\n",
              "      <td>2</td>\n",
              "      <td>heel pain</td>\n",
              "    </tr>\n",
              "    <tr>\n",
              "      <th>2</th>\n",
              "      <td>4</td>\n",
              "      <td>purple sploches around waist</td>\n",
              "    </tr>\n",
              "    <tr>\n",
              "      <th>3</th>\n",
              "      <td>7</td>\n",
              "      <td>goiter</td>\n",
              "    </tr>\n",
              "    <tr>\n",
              "      <th>4</th>\n",
              "      <td>8</td>\n",
              "      <td>ARTHRITIS</td>\n",
              "    </tr>\n",
              "  </tbody>\n",
              "</table>\n",
              "</div>"
            ],
            "text/plain": [
              "   0                             1\n",
              "0  0                          fear\n",
              "1  2                     heel pain\n",
              "2  4  purple sploches around waist\n",
              "3  7                        goiter\n",
              "4  8                     ARTHRITIS"
            ]
          },
          "metadata": {
            "tags": []
          },
          "execution_count": 11
        }
      ]
    },
    {
      "cell_type": "code",
      "metadata": {
        "id": "cOza9dfSsBud",
        "outputId": "55b4417f-18be-4f10-9570-4083c0027c91",
        "colab": {
          "base_uri": "https://localhost:8080/",
          "height": 204
        }
      },
      "source": [
        "# testing data set\n",
        "\n",
        "test = pd.read_csv(path/\"AskAPatient_overlap_20.csv\",header=None)\n",
        "test.head()"
      ],
      "execution_count": 13,
      "outputs": [
        {
          "output_type": "execute_result",
          "data": {
            "text/html": [
              "<div>\n",
              "<style scoped>\n",
              "    .dataframe tbody tr th:only-of-type {\n",
              "        vertical-align: middle;\n",
              "    }\n",
              "\n",
              "    .dataframe tbody tr th {\n",
              "        vertical-align: top;\n",
              "    }\n",
              "\n",
              "    .dataframe thead th {\n",
              "        text-align: right;\n",
              "    }\n",
              "</style>\n",
              "<table border=\"1\" class=\"dataframe\">\n",
              "  <thead>\n",
              "    <tr style=\"text-align: right;\">\n",
              "      <th></th>\n",
              "      <th>0</th>\n",
              "      <th>1</th>\n",
              "    </tr>\n",
              "  </thead>\n",
              "  <tbody>\n",
              "    <tr>\n",
              "      <th>0</th>\n",
              "      <td>0</td>\n",
              "      <td>'scared' feeling</td>\n",
              "    </tr>\n",
              "    <tr>\n",
              "      <th>1</th>\n",
              "      <td>3</td>\n",
              "      <td>cracking sensations in my joints</td>\n",
              "    </tr>\n",
              "    <tr>\n",
              "      <th>2</th>\n",
              "      <td>4</td>\n",
              "      <td>purple sploches around waist</td>\n",
              "    </tr>\n",
              "    <tr>\n",
              "      <th>3</th>\n",
              "      <td>5</td>\n",
              "      <td>fast and slow heartbeat</td>\n",
              "    </tr>\n",
              "    <tr>\n",
              "      <th>4</th>\n",
              "      <td>5</td>\n",
              "      <td>increased heart rate</td>\n",
              "    </tr>\n",
              "  </tbody>\n",
              "</table>\n",
              "</div>"
            ],
            "text/plain": [
              "   0                                 1\n",
              "0  0                  'scared' feeling\n",
              "1  3  cracking sensations in my joints\n",
              "2  4      purple sploches around waist\n",
              "3  5           fast and slow heartbeat\n",
              "4  5              increased heart rate"
            ]
          },
          "metadata": {
            "tags": []
          },
          "execution_count": 13
        }
      ]
    },
    {
      "cell_type": "code",
      "metadata": {
        "id": "Vo-YNvVYoaH6",
        "outputId": "78b363d7-f52b-483c-9efb-d898dc58760f",
        "colab": {
          "base_uri": "https://localhost:8080/",
          "height": 17
        }
      },
      "source": [
        "# Creating DataBunch for language modelling\n",
        "\n",
        "data_lm = TextLMDataBunch.from_csv(path, 'mixed_pubmed_bigtweet_askpatient.csv')"
      ],
      "execution_count": 14,
      "outputs": [
        {
          "output_type": "display_data",
          "data": {
            "text/html": [
              ""
            ],
            "text/plain": [
              "<IPython.core.display.HTML object>"
            ]
          },
          "metadata": {
            "tags": []
          }
        },
        {
          "output_type": "display_data",
          "data": {
            "text/html": [
              ""
            ],
            "text/plain": [
              "<IPython.core.display.HTML object>"
            ]
          },
          "metadata": {
            "tags": []
          }
        }
      ]
    },
    {
      "cell_type": "code",
      "metadata": {
        "id": "qcV-9kMnNLBf"
      },
      "source": [
        ""
      ],
      "execution_count": 14,
      "outputs": []
    },
    {
      "cell_type": "code",
      "metadata": {
        "id": "1ScY9afDsnvE"
      },
      "source": [
        "# Creating DataBunch for classification\n",
        "\n",
        "# data_clas = TextClasDataBunch.from_df(path, train, valid, test, vocab=data_lm.train_ds.vocab, bs=128)"
      ],
      "execution_count": 15,
      "outputs": []
    },
    {
      "cell_type": "code",
      "metadata": {
        "id": "gzrSdQcvey9p",
        "outputId": "004183f0-1b3e-41ff-f2f8-3c564771ba2f",
        "colab": {
          "base_uri": "https://localhost:8080/",
          "height": 17
        }
      },
      "source": [
        "data_clas = TextClasDataBunch.from_df(path, train, valid, vocab=data_lm.train_ds.vocab, bs=128)"
      ],
      "execution_count": 16,
      "outputs": [
        {
          "output_type": "display_data",
          "data": {
            "text/html": [
              ""
            ],
            "text/plain": [
              "<IPython.core.display.HTML object>"
            ]
          },
          "metadata": {
            "tags": []
          }
        },
        {
          "output_type": "display_data",
          "data": {
            "text/html": [
              ""
            ],
            "text/plain": [
              "<IPython.core.display.HTML object>"
            ]
          },
          "metadata": {
            "tags": []
          }
        }
      ]
    },
    {
      "cell_type": "code",
      "metadata": {
        "id": "MD27Tf0Ke3ou",
        "outputId": "015c3bf2-e1b1-491e-a054-816e36ea9362",
        "colab": {
          "base_uri": "https://localhost:8080/",
          "height": 17
        }
      },
      "source": [
        "data_clas.add_test(test,label=0)\n"
      ],
      "execution_count": 17,
      "outputs": [
        {
          "output_type": "display_data",
          "data": {
            "text/html": [
              ""
            ],
            "text/plain": [
              "<IPython.core.display.HTML object>"
            ]
          },
          "metadata": {
            "tags": []
          }
        }
      ]
    },
    {
      "cell_type": "code",
      "metadata": {
        "id": "-dpjnk_rstwk"
      },
      "source": [
        "data_lm.save()\n",
        "data_clas.save()"
      ],
      "execution_count": 18,
      "outputs": []
    },
    {
      "cell_type": "code",
      "metadata": {
        "id": "4OkiJa36sw5s",
        "outputId": "dabc69cc-c223-4a19-8924-e50879cbd437",
        "colab": {
          "base_uri": "https://localhost:8080/",
          "height": 1000
        }
      },
      "source": [
        "data_lm.train_ds.vocab.itos"
      ],
      "execution_count": 19,
      "outputs": [
        {
          "output_type": "execute_result",
          "data": {
            "text/plain": [
              "['xxunk',\n",
              " 'xxpad',\n",
              " 'xxbos',\n",
              " 'xxeos',\n",
              " 'xxfld',\n",
              " 'xxmaj',\n",
              " 'xxup',\n",
              " 'xxrep',\n",
              " 'xxwrep',\n",
              " 'pain',\n",
              " 'of',\n",
              " 'the',\n",
              " 'in',\n",
              " 'lipitor',\n",
              " 'and',\n",
              " 'to',\n",
              " 'a',\n",
              " 'muscle',\n",
              " 'for',\n",
              " 'with',\n",
              " 'was',\n",
              " 'diclofenac',\n",
              " 'were',\n",
              " 'severe',\n",
              " 'on',\n",
              " 'my',\n",
              " 'is',\n",
              " 'myalgia',\n",
              " 'lower',\n",
              " 'fatigue',\n",
              " 'rt',\n",
              " 'loss',\n",
              " 'by',\n",
              " 'limb',\n",
              " 'cramp',\n",
              " 'weakness',\n",
              " 'sodium',\n",
              " 'at',\n",
              " 'disease',\n",
              " 'stomach',\n",
              " 'that',\n",
              " 'or',\n",
              " 'back',\n",
              " 'as',\n",
              " 'depression',\n",
              " '-',\n",
              " 'from',\n",
              " 'patients',\n",
              " 'i',\n",
              " 'cramps',\n",
              " 'not',\n",
              " 'joint',\n",
              " 'this',\n",
              " 'upper',\n",
              " 'gas',\n",
              " 'memory',\n",
              " 'drug',\n",
              " 'leg',\n",
              " 'you',\n",
              " 'mg',\n",
              " 'all',\n",
              " 'legs',\n",
              " 'pains',\n",
              " 'headache',\n",
              " 'knee',\n",
              " 'be',\n",
              " 'are',\n",
              " 'group',\n",
              " 'unable',\n",
              " 'shoulder',\n",
              " 'study',\n",
              " 'arthralgia',\n",
              " 'gastrointestinal',\n",
              " 'neck',\n",
              " 'excessive',\n",
              " 'treatment',\n",
              " 'arthritis',\n",
              " 'it',\n",
              " 'foot',\n",
              " 'aches',\n",
              " 'an',\n",
              " 'after',\n",
              " 'amp',\n",
              " 'hip',\n",
              " 'have',\n",
              " 'numbness',\n",
              " 'like',\n",
              " 'insomnia',\n",
              " 'voltaren',\n",
              " 'p',\n",
              " 'arthrotec',\n",
              " 'no',\n",
              " 'release',\n",
              " 'increased',\n",
              " 'bleeding',\n",
              " 'gluten',\n",
              " 'nausea',\n",
              " '/',\n",
              " 'both',\n",
              " 'time',\n",
              " 'can',\n",
              " 'swelling',\n",
              " 'asthenia',\n",
              " 'walk',\n",
              " 'tired',\n",
              " 'abdominal',\n",
              " 'heart',\n",
              " 'skin',\n",
              " 'feeling',\n",
              " 'could',\n",
              " 'blood',\n",
              " 'dizziness',\n",
              " 'walking',\n",
              " 'problems',\n",
              " 'than',\n",
              " 'high',\n",
              " 'out',\n",
              " 'difficulty',\n",
              " 'we',\n",
              " 'feet',\n",
              " 'up',\n",
              " 'hand',\n",
              " 'free',\n",
              " 'muscles',\n",
              " 'chest',\n",
              " 'effect',\n",
              " 'more',\n",
              " 'ache',\n",
              " 'hair',\n",
              " 'low',\n",
              " 'backache',\n",
              " 'stiffness',\n",
              " 'cholesterol',\n",
              " 'burning',\n",
              " 'new',\n",
              " 'extreme',\n",
              " 'acid',\n",
              " 'compared',\n",
              " 'zocor',\n",
              " 'very',\n",
              " 'vision',\n",
              " 'inflammatory',\n",
              " 'weight',\n",
              " 'using',\n",
              " 'liver',\n",
              " 'sleep',\n",
              " 'diarrhoea',\n",
              " 'between',\n",
              " 'effects',\n",
              " 'pins',\n",
              " 'needles',\n",
              " 'groups',\n",
              " 'right',\n",
              " 'your',\n",
              " 'cramping',\n",
              " 'about',\n",
              " 'our',\n",
              " 'two',\n",
              " 'day',\n",
              " 'amnesia',\n",
              " 'significant',\n",
              " 'has',\n",
              " 'significantly',\n",
              " 'its',\n",
              " 'drugs',\n",
              " 'impairment',\n",
              " 'h',\n",
              " 'use',\n",
              " 'disability',\n",
              " 'short',\n",
              " 'left',\n",
              " 'calf',\n",
              " 'term',\n",
              " 'concentration',\n",
              " 'but',\n",
              " 'anti',\n",
              " 'c',\n",
              " 'potassium',\n",
              " 'one',\n",
              " 'had',\n",
              " 'do',\n",
              " 'anxiety',\n",
              " 'these',\n",
              " 'tingling',\n",
              " 'used',\n",
              " 'symptom',\n",
              " 'which',\n",
              " 'nt',\n",
              " 'pressure',\n",
              " 'lack',\n",
              " 'stiff',\n",
              " 'constipation',\n",
              " 'placebo',\n",
              " 'also',\n",
              " 'glutenfree',\n",
              " 's',\n",
              " 'bloating',\n",
              " 'results',\n",
              " 'poor',\n",
              " 'dose',\n",
              " 'what',\n",
              " 'when',\n",
              " 'disorder',\n",
              " 'efficacy',\n",
              " 'reduced',\n",
              " 'so',\n",
              " 'body',\n",
              " 'arm',\n",
              " 'over',\n",
              " 'there',\n",
              " 'days',\n",
              " 'get',\n",
              " 'sore',\n",
              " 'may',\n",
              " 'celiac',\n",
              " 'headaches',\n",
              " 'arms',\n",
              " 'neuropathy',\n",
              " 'm',\n",
              " 'been',\n",
              " 'hands',\n",
              " 'w',\n",
              " 'acute',\n",
              " 'treated',\n",
              " 'ds',\n",
              " 'blurred',\n",
              " 'balance',\n",
              " 'ankle',\n",
              " 'showed',\n",
              " 'joints',\n",
              " 'visual',\n",
              " 'serum',\n",
              " 'ml',\n",
              " 'myocardial',\n",
              " 'now',\n",
              " 'well',\n",
              " 'renal',\n",
              " 'infarction',\n",
              " 'symptoms',\n",
              " 'food',\n",
              " 'tiredness',\n",
              " 'topical',\n",
              " 'different',\n",
              " 'mentally',\n",
              " 'pravachol',\n",
              " 'rash',\n",
              " 'oral',\n",
              " 'sensation',\n",
              " 'non',\n",
              " 'into',\n",
              " 'hurt',\n",
              " 'their',\n",
              " 'vertigo',\n",
              " 'myositis',\n",
              " 'control',\n",
              " 'administration',\n",
              " 'during',\n",
              " 'rats',\n",
              " 'vaginal',\n",
              " 'test',\n",
              " 'atrophy',\n",
              " 'damage',\n",
              " 'studies',\n",
              " 'painful',\n",
              " 'rate',\n",
              " 'swollen',\n",
              " 'products',\n",
              " 'via',\n",
              " 'diabetes',\n",
              " 'attack',\n",
              " 'how',\n",
              " 'energy',\n",
              " 'generalised',\n",
              " 'other',\n",
              " 'if',\n",
              " 'constant',\n",
              " 'clinical',\n",
              " 'itching',\n",
              " 'upset',\n",
              " 'nsaids',\n",
              " 'type',\n",
              " 'post',\n",
              " 'who',\n",
              " 'found',\n",
              " 'induced',\n",
              " 'respectively',\n",
              " 'ubidecarenone',\n",
              " 'first',\n",
              " ',',\n",
              " 'decreased',\n",
              " 'did',\n",
              " 'diarrhea',\n",
              " 'formulation',\n",
              " 'chronic',\n",
              " 'gel',\n",
              " 'dull',\n",
              " ')',\n",
              " 'weak',\n",
              " 'syndrome',\n",
              " 'hours',\n",
              " 'gain',\n",
              " 'atorvastatin',\n",
              " 'tablets',\n",
              " 'dry',\n",
              " 'levels',\n",
              " \"'s\",\n",
              " 'formulations',\n",
              " 'method',\n",
              " 'me',\n",
              " 'plasma',\n",
              " 'ph',\n",
              " 'raised',\n",
              " 'review',\n",
              " 'diet',\n",
              " 'feel',\n",
              " 'illness',\n",
              " 'three',\n",
              " 'mean',\n",
              " 'effective',\n",
              " 'movement',\n",
              " 'only',\n",
              " 'elevated',\n",
              " 'spasm',\n",
              " 'period',\n",
              " 'tendonitis',\n",
              " 'n',\n",
              " \"n't\",\n",
              " 'tip',\n",
              " '(',\n",
              " 'present',\n",
              " 'influenza',\n",
              " 'g',\n",
              " 'eye',\n",
              " 'those',\n",
              " 'tablet',\n",
              " 'less',\n",
              " 'received',\n",
              " 'shoulders',\n",
              " 'elbow',\n",
              " 'observed',\n",
              " 'd',\n",
              " 'hazy',\n",
              " 'bad',\n",
              " 'kidney',\n",
              " 'urine',\n",
              " 'week',\n",
              " 'increase',\n",
              " 'solution',\n",
              " 'abnormal',\n",
              " 'crestor',\n",
              " 'sleeping',\n",
              " 'side',\n",
              " 'they',\n",
              " 'most',\n",
              " 'discomfort',\n",
              " 'vitro',\n",
              " 'vomiting',\n",
              " 'knees',\n",
              " 'some',\n",
              " 'ibuprofen',\n",
              " 'spasms',\n",
              " 'heavy',\n",
              " 'controlled',\n",
              " 'toe',\n",
              " 'each',\n",
              " 'just',\n",
              " 'mood',\n",
              " 'data',\n",
              " 'adverse',\n",
              " 'dblclick',\n",
              " 'problem',\n",
              " 'flatulence',\n",
              " 'exhaustion',\n",
              " 'pic',\n",
              " 'function',\n",
              " 'before',\n",
              " 'concentrate',\n",
              " 'migraine',\n",
              " 'libido',\n",
              " 'single',\n",
              " 'irritable',\n",
              " 'analysis',\n",
              " 'bed',\n",
              " 'l',\n",
              " 'kg',\n",
              " 'analgesic',\n",
              " 'system',\n",
              " 'level',\n",
              " 'activity',\n",
              " 'inflammation',\n",
              " 'fibromyalgia',\n",
              " 'reflux',\n",
              " 'myopathy',\n",
              " 'throat',\n",
              " 'years',\n",
              " 'similar',\n",
              " 'concentrations',\n",
              " 'following',\n",
              " 'daily',\n",
              " 'surgery',\n",
              " 'injury',\n",
              " 'weeks',\n",
              " 'thigh',\n",
              " 'ca',\n",
              " 'b',\n",
              " 'mild',\n",
              " 'sclerosis',\n",
              " 'evaluated',\n",
              " 'here',\n",
              " 'patient',\n",
              " 'model',\n",
              " 'randomized',\n",
              " 'however',\n",
              " 'difference',\n",
              " 'brain',\n",
              " 'why',\n",
              " 'total',\n",
              " 't',\n",
              " 'cold',\n",
              " 'multiple',\n",
              " 'changes',\n",
              " 'under',\n",
              " 'will',\n",
              " 'flu',\n",
              " 'think',\n",
              " 'water',\n",
              " 'mellitus',\n",
              " 'higher',\n",
              " 'eyes',\n",
              " 'good',\n",
              " 'know',\n",
              " 'malaise',\n",
              " 'while',\n",
              " 'obtained',\n",
              " 'check',\n",
              " 'off',\n",
              " 'menstrual',\n",
              " 'due',\n",
              " 'based',\n",
              " 'osteoarthritis',\n",
              " 'nsaid',\n",
              " 'head',\n",
              " 'failure',\n",
              " 'healthy',\n",
              " 'sweating',\n",
              " 'therapy',\n",
              " 'postoperative',\n",
              " 'disturbance',\n",
              " 'relief',\n",
              " 'simvastatin',\n",
              " 'confusion',\n",
              " 'oil',\n",
              " 'should',\n",
              " 'peripheral',\n",
              " 'cell',\n",
              " 'double',\n",
              " 'dissolution',\n",
              " 'life',\n",
              " 'swings',\n",
              " 'wind',\n",
              " 'appetite',\n",
              " 'lightheadedness',\n",
              " 'combination',\n",
              " 'any',\n",
              " 'associated',\n",
              " 'being',\n",
              " 'impaired',\n",
              " 'help',\n",
              " 'area',\n",
              " 'hips',\n",
              " 'eat',\n",
              " 'love',\n",
              " 'general',\n",
              " 'cells',\n",
              " 'intolerance',\n",
              " 'prepared',\n",
              " 'four',\n",
              " 'finger',\n",
              " 'tremor',\n",
              " 'min',\n",
              " 'tinnitus',\n",
              " 'conditions',\n",
              " 'stairs',\n",
              " 'response',\n",
              " 'rheumatoid',\n",
              " 'infection',\n",
              " 'ezetimibe',\n",
              " 'blind',\n",
              " 'differences',\n",
              " 'trial',\n",
              " 'doses',\n",
              " 'soreness',\n",
              " 'gastric',\n",
              " 'administered',\n",
              " 'does',\n",
              " 're',\n",
              " 'without',\n",
              " 'esters',\n",
              " 'times',\n",
              " 'hot',\n",
              " 'studied',\n",
              " 'great',\n",
              " 'coated',\n",
              " 'through',\n",
              " 'performed',\n",
              " 'nonsteroidal',\n",
              " 'application',\n",
              " 'aching',\n",
              " 'make',\n",
              " 'order',\n",
              " '1',\n",
              " 'toes',\n",
              " 'vitamin',\n",
              " 'indigestion',\n",
              " 'vs',\n",
              " 'values',\n",
              " 'change',\n",
              " 'celebrex',\n",
              " 'events',\n",
              " 'ankles',\n",
              " 'stress',\n",
              " 'thanks',\n",
              " 'rapid',\n",
              " 'calves',\n",
              " 'cough',\n",
              " 'given',\n",
              " 'absorption',\n",
              " '2',\n",
              " 'gfb',\n",
              " 'developed',\n",
              " 'paraesthesia',\n",
              " 'either',\n",
              " 'such',\n",
              " 'reported',\n",
              " 'ascorbic',\n",
              " 'x',\n",
              " 'going',\n",
              " 'night',\n",
              " 'need',\n",
              " 'urinary',\n",
              " 'reduction',\n",
              " 'always',\n",
              " 'subjects',\n",
              " 'parameters',\n",
              " 'sensitivity',\n",
              " 'swallowing',\n",
              " 'safety',\n",
              " 'charleyhorse',\n",
              " 'e',\n",
              " 'palpitations',\n",
              " 'depressed',\n",
              " 'within',\n",
              " 'lupus',\n",
              " 'motivation',\n",
              " 'delivery',\n",
              " 'paracetamol',\n",
              " 'properties',\n",
              " 'parkinson',\n",
              " 'posted',\n",
              " 'investigated',\n",
              " 'us',\n",
              " 'down',\n",
              " 'range',\n",
              " 'better',\n",
              " 'strength',\n",
              " 'containing',\n",
              " 'minutes',\n",
              " 'recipe',\n",
              " 'dyspnoea',\n",
              " 'intense',\n",
              " 'getting',\n",
              " 'ratio',\n",
              " 'people',\n",
              " 'auc',\n",
              " 'heel',\n",
              " 'enzymes',\n",
              " 'tendon',\n",
              " 'face',\n",
              " 'excruciating',\n",
              " 'lateral',\n",
              " 'measured',\n",
              " 'show',\n",
              " 'risk',\n",
              " 'samples',\n",
              " 'v',\n",
              " 'fingers',\n",
              " 'taste',\n",
              " 'statistically',\n",
              " 'nerve',\n",
              " 'size',\n",
              " 'restless',\n",
              " 'mm',\n",
              " 'number',\n",
              " 'vivo',\n",
              " 'felt',\n",
              " 'phase',\n",
              " 'assessed',\n",
              " 'medication',\n",
              " 'related',\n",
              " 'dark',\n",
              " 'included',\n",
              " 'major',\n",
              " 'ii',\n",
              " 'decrease',\n",
              " 'k',\n",
              " 'potential',\n",
              " 'steroidal',\n",
              " 'menopause',\n",
              " 'advil',\n",
              " 'then',\n",
              " 'best',\n",
              " 'gout',\n",
              " 'primary',\n",
              " 'oa',\n",
              " 'speech',\n",
              " 'twitch',\n",
              " 'heres',\n",
              " 'evaluate',\n",
              " 'health',\n",
              " 'every',\n",
              " '\\r \\n ',\n",
              " 'fish',\n",
              " 'ulcer',\n",
              " 'indomethacin',\n",
              " 'fever',\n",
              " 'compare',\n",
              " 'ability',\n",
              " '30',\n",
              " 'big',\n",
              " 'applied',\n",
              " 'read',\n",
              " 'active',\n",
              " '3',\n",
              " 'liquid',\n",
              " 'clearly',\n",
              " 'therapeutic',\n",
              " 'even',\n",
              " 'development',\n",
              " 'form',\n",
              " 'tightness',\n",
              " 'living',\n",
              " 'breathing',\n",
              " 'injection',\n",
              " 'many',\n",
              " 'provoked',\n",
              " 'reaction',\n",
              " 'much',\n",
              " 'ng',\n",
              " 'available',\n",
              " 'scale',\n",
              " 'tissue',\n",
              " 'long',\n",
              " 'heartburn',\n",
              " 'light',\n",
              " 'limbs',\n",
              " 'year',\n",
              " 'go',\n",
              " 'trouble',\n",
              " 'same',\n",
              " 'tips',\n",
              " 'bioavailability',\n",
              " 'edema',\n",
              " 'wrist',\n",
              " 'archives',\n",
              " 'normal',\n",
              " 'scores',\n",
              " 'creatinine',\n",
              " 'overall',\n",
              " 'dreams',\n",
              " 'treatments',\n",
              " 'terrible',\n",
              " 'process',\n",
              " 'important',\n",
              " 'determined',\n",
              " 'chicken',\n",
              " 'aqueous',\n",
              " 'tract',\n",
              " 'sustained',\n",
              " 'addition',\n",
              " 'misoprostol',\n",
              " 'article',\n",
              " 'fog',\n",
              " 'baseline',\n",
              " 'colic',\n",
              " 'cox',\n",
              " 'exercise',\n",
              " 'co',\n",
              " 'human',\n",
              " 'jennieo',\n",
              " 'bone',\n",
              " 'mouth',\n",
              " 'would',\n",
              " 'o',\n",
              " 'fenofibrate',\n",
              " 'moderate',\n",
              " 'mice',\n",
              " 'month',\n",
              " 'mobility',\n",
              " 'end',\n",
              " 'uterine',\n",
              " 'move',\n",
              " '10',\n",
              " 'hypertension',\n",
              " 'aspirin',\n",
              " 'dependent',\n",
              " 'revealed',\n",
              " 'caused',\n",
              " 'matrix',\n",
              " 'bowel',\n",
              " 'thighs',\n",
              " 'sinus',\n",
              " 'greater',\n",
              " 'made',\n",
              " 'amyotrophic',\n",
              " 'coq10',\n",
              " 'demonstrated',\n",
              " 'today',\n",
              " 'breath',\n",
              " 'news',\n",
              " 'months',\n",
              " 'nasal',\n",
              " 'drowsy',\n",
              " 'safe',\n",
              " 'tested',\n",
              " 'per',\n",
              " 'various',\n",
              " 'although',\n",
              " 'sugar',\n",
              " 'intensity',\n",
              " 'tylenol',\n",
              " 'twitching',\n",
              " 'aim',\n",
              " 'tolerability',\n",
              " 'action',\n",
              " 'find',\n",
              " '5',\n",
              " 'f',\n",
              " 'want',\n",
              " 'initial',\n",
              " 'provide',\n",
              " 'where',\n",
              " 'tolerated',\n",
              " 'polymer',\n",
              " 'na',\n",
              " 'hour',\n",
              " 'common',\n",
              " 'because',\n",
              " 'standard',\n",
              " 'male',\n",
              " 'fast',\n",
              " 'sick',\n",
              " 'improvement',\n",
              " 'attacks',\n",
              " 'morning',\n",
              " 'trials',\n",
              " 'tight',\n",
              " 'finding',\n",
              " 'horses',\n",
              " 'pulse',\n",
              " 'inhibitor',\n",
              " 'protein',\n",
              " 'cerebrovascular',\n",
              " 'case',\n",
              " 'alone',\n",
              " 'volunteers',\n",
              " 'way',\n",
              " 'lost',\n",
              " 'indicated',\n",
              " 'alpha',\n",
              " 'lethargy',\n",
              " 'plantar',\n",
              " 'inhibition',\n",
              " 'cancer',\n",
              " 'accident',\n",
              " 'agent',\n",
              " '+',\n",
              " 'local',\n",
              " 'six',\n",
              " 'ever',\n",
              " 'dosage',\n",
              " 'peak',\n",
              " 'facial',\n",
              " '4',\n",
              " 'tolerance',\n",
              " 'aleve',\n",
              " 'liptor',\n",
              " 'started',\n",
              " 'part',\n",
              " 'followed',\n",
              " 'cd',\n",
              " 'hard',\n",
              " 'whereas',\n",
              " 'sharp',\n",
              " 'diagnosis',\n",
              " 'suggest',\n",
              " 'further',\n",
              " 'age',\n",
              " 'numb',\n",
              " 'complex',\n",
              " 'oedema',\n",
              " 'take',\n",
              " 'elbows',\n",
              " 'content',\n",
              " 'care',\n",
              " 'congestion',\n",
              " 'around',\n",
              " 'exposure',\n",
              " 'sensitive',\n",
              " 'fatigued',\n",
              " 'product',\n",
              " 'loose',\n",
              " 'agents',\n",
              " 'presence',\n",
              " 'onset',\n",
              " 'eating',\n",
              " 'generally',\n",
              " 'determine',\n",
              " 'score',\n",
              " 'formation',\n",
              " 'natural',\n",
              " 'surface',\n",
              " 'things',\n",
              " 'still',\n",
              " 'cause',\n",
              " 'extremity',\n",
              " 'tricor',\n",
              " 'moody',\n",
              " 'among',\n",
              " 'pharmaceutical',\n",
              " 'cases',\n",
              " 'relative',\n",
              " 'corneal',\n",
              " 'hardly',\n",
              " 'shown',\n",
              " 'vas',\n",
              " 'improved',\n",
              " 'malignant',\n",
              " 'issues',\n",
              " 'nervous',\n",
              " 'intestinal',\n",
              " 'including',\n",
              " 'physical',\n",
              " 'animals',\n",
              " 'randomly',\n",
              " 'once',\n",
              " 'mechanism',\n",
              " 'rat',\n",
              " 'naproxen',\n",
              " 'periods',\n",
              " '\\r \\n \\r \\n ',\n",
              " 'research',\n",
              " 'barely',\n",
              " 'pizza',\n",
              " 'conducted',\n",
              " 'ringing',\n",
              " 'difficult',\n",
              " 'th',\n",
              " 'thoughts',\n",
              " 'microspheres',\n",
              " 'follow',\n",
              " 'divided',\n",
              " 'awareness',\n",
              " 'participants',\n",
              " 'happy',\n",
              " 'extremely',\n",
              " 'sex',\n",
              " 'evaluation',\n",
              " 'amount',\n",
              " 'able',\n",
              " 'u',\n",
              " 'mental',\n",
              " 'got',\n",
              " 'resulted',\n",
              " 'diagnosed',\n",
              " 'against',\n",
              " 'please',\n",
              " 'degrees',\n",
              " 'systemic',\n",
              " 'combined',\n",
              " 'according',\n",
              " 'evidence',\n",
              " 'r',\n",
              " 'experimental',\n",
              " 'shortness',\n",
              " 'old',\n",
              " 'respiratory',\n",
              " 'top',\n",
              " 'pharmacokinetic',\n",
              " 'panic',\n",
              " 'global',\n",
              " 'vehicle',\n",
              " 'complete',\n",
              " 'versus',\n",
              " 'permeation',\n",
              " 'plus',\n",
              " 'drive',\n",
              " 'too',\n",
              " 'film',\n",
              " 'rhabdomyolysis',\n",
              " 'least',\n",
              " 'ldl',\n",
              " 'cm',\n",
              " 'cross',\n",
              " 'ms',\n",
              " 'irregular',\n",
              " 'share',\n",
              " 'needed',\n",
              " 'support',\n",
              " 'charley',\n",
              " 'de',\n",
              " 'gi',\n",
              " 'fasciitis',\n",
              " 'work',\n",
              " 'cmax',\n",
              " 'pellets',\n",
              " 'coronary',\n",
              " 'temperature',\n",
              " 'lesions',\n",
              " 'region',\n",
              " 'rectal',\n",
              " 'enteric',\n",
              " 'patch',\n",
              " 'profiles',\n",
              " 'pre',\n",
              " 'growth',\n",
              " 'fluid',\n",
              " 'calcium',\n",
              " 'state',\n",
              " 'analgesia',\n",
              " 'deep',\n",
              " 'blog',\n",
              " 'soup',\n",
              " 'tests',\n",
              " 'dizzy',\n",
              " 'sweats',\n",
              " 'stroke',\n",
              " 'production',\n",
              " 'slurred',\n",
              " 'condition',\n",
              " 'third',\n",
              " 'five',\n",
              " 'examined',\n",
              " 'profile',\n",
              " 'cookbook',\n",
              " 'little',\n",
              " 'affected',\n",
              " 'strain',\n",
              " 'quality',\n",
              " 'super',\n",
              " 'tension',\n",
              " 'pruritus',\n",
              " 'hypersomnia',\n",
              " 'solid',\n",
              " 'ethyl',\n",
              " 'duration',\n",
              " 'density',\n",
              " 'ear',\n",
              " 'erythematosus',\n",
              " 'looks',\n",
              " 'produced',\n",
              " ':',\n",
              " 'hepatic',\n",
              " 'site',\n",
              " 'achilles',\n",
              " 'commercial',\n",
              " 'efficiency',\n",
              " 'linked',\n",
              " 'technique',\n",
              " 'hunger',\n",
              " 'increasing',\n",
              " 'allergic',\n",
              " 'easy',\n",
              " 'frequent',\n",
              " 'stamina',\n",
              " 'norvasc',\n",
              " 'specific',\n",
              " 'rofecoxib',\n",
              " 'models',\n",
              " 'ci',\n",
              " 'self',\n",
              " 'flushing',\n",
              " 'scalp',\n",
              " 'dr',\n",
              " 'zetia',\n",
              " 'small',\n",
              " 'assessment',\n",
              " 'secondary',\n",
              " 'central',\n",
              " 'capsules',\n",
              " 'design',\n",
              " 'friends',\n",
              " 'sensations',\n",
              " 'preparation',\n",
              " 'taking',\n",
              " 'dysfunction',\n",
              " 'interaction',\n",
              " 'carried',\n",
              " 'lopid',\n",
              " 'cataract',\n",
              " 'als',\n",
              " ...]"
            ]
          },
          "metadata": {
            "tags": []
          },
          "execution_count": 19
        }
      ]
    },
    {
      "cell_type": "code",
      "metadata": {
        "id": "yPWr03mls3VT",
        "outputId": "5a39737e-78f3-4b26-cd79-d178a7bbd94a",
        "colab": {
          "base_uri": "https://localhost:8080/",
          "height": 17
        }
      },
      "source": [
        "model_path = path/'models'\n",
        "model_path.mkdir(exist_ok=True)\n",
        "url = 'http://files.fast.ai/models/wt103_v1/'\n",
        "download_url(f'{url}lstm_wt103.pth', model_path/'lstm_wt103.pth')\n",
        "download_url(f'{url}itos_wt103.pkl', model_path/'itos_wt103.pkl')"
      ],
      "execution_count": 20,
      "outputs": [
        {
          "output_type": "display_data",
          "data": {
            "text/html": [
              ""
            ],
            "text/plain": [
              "<IPython.core.display.HTML object>"
            ]
          },
          "metadata": {
            "tags": []
          }
        },
        {
          "output_type": "display_data",
          "data": {
            "text/html": [
              ""
            ],
            "text/plain": [
              "<IPython.core.display.HTML object>"
            ]
          },
          "metadata": {
            "tags": []
          }
        }
      ]
    },
    {
      "cell_type": "code",
      "metadata": {
        "id": "JRzvWg8RtGGr",
        "outputId": "40ee2a62-7d8b-439a-829d-65518403ca6b",
        "colab": {
          "base_uri": "https://localhost:8080/",
          "height": 34
        }
      },
      "source": [
        "learn = language_model_learner(data_lm, AWD_LSTM, drop_mult=0.5)"
      ],
      "execution_count": 21,
      "outputs": [
        {
          "output_type": "stream",
          "text": [
            "Downloading https://s3.amazonaws.com/fast-ai-modelzoo/wt103-fwd.tgz\n"
          ],
          "name": "stdout"
        },
        {
          "output_type": "display_data",
          "data": {
            "text/html": [
              ""
            ],
            "text/plain": [
              "<IPython.core.display.HTML object>"
            ]
          },
          "metadata": {
            "tags": []
          }
        }
      ]
    },
    {
      "cell_type": "code",
      "metadata": {
        "id": "xKK7GeBev7Xn",
        "outputId": "9750d5e7-4690-4bff-ca00-3c890ac382fa",
        "colab": {
          "base_uri": "https://localhost:8080/",
          "height": 80
        }
      },
      "source": [
        "learn.fit_one_cycle(1, 1e-2)"
      ],
      "execution_count": 22,
      "outputs": [
        {
          "output_type": "display_data",
          "data": {
            "text/html": [
              "<table border=\"1\" class=\"dataframe\">\n",
              "  <thead>\n",
              "    <tr style=\"text-align: left;\">\n",
              "      <th>epoch</th>\n",
              "      <th>train_loss</th>\n",
              "      <th>valid_loss</th>\n",
              "      <th>accuracy</th>\n",
              "      <th>time</th>\n",
              "    </tr>\n",
              "  </thead>\n",
              "  <tbody>\n",
              "    <tr>\n",
              "      <td>0</td>\n",
              "      <td>3.838569</td>\n",
              "      <td>3.517831</td>\n",
              "      <td>0.437189</td>\n",
              "      <td>31:30</td>\n",
              "    </tr>\n",
              "  </tbody>\n",
              "</table>"
            ],
            "text/plain": [
              "<IPython.core.display.HTML object>"
            ]
          },
          "metadata": {
            "tags": []
          }
        }
      ]
    },
    {
      "cell_type": "code",
      "metadata": {
        "id": "iB7rHGQCwd12"
      },
      "source": [
        "# learn.fit_one_cycle(1, 1e-2)"
      ],
      "execution_count": 23,
      "outputs": []
    },
    {
      "cell_type": "code",
      "metadata": {
        "id": "_BnSuAeCwkBe"
      },
      "source": [
        "# learn.fit_one_cycle(1, 1e-3)"
      ],
      "execution_count": 24,
      "outputs": []
    },
    {
      "cell_type": "code",
      "metadata": {
        "id": "MuTm-RFjwrEX",
        "outputId": "de088780-afb0-4e1e-df75-2ef791723f62",
        "colab": {
          "base_uri": "https://localhost:8080/",
          "height": 80
        }
      },
      "source": [
        "learn.fit_one_cycle(1, 1e-3)"
      ],
      "execution_count": 25,
      "outputs": [
        {
          "output_type": "display_data",
          "data": {
            "text/html": [
              "<table border=\"1\" class=\"dataframe\">\n",
              "  <thead>\n",
              "    <tr style=\"text-align: left;\">\n",
              "      <th>epoch</th>\n",
              "      <th>train_loss</th>\n",
              "      <th>valid_loss</th>\n",
              "      <th>accuracy</th>\n",
              "      <th>time</th>\n",
              "    </tr>\n",
              "  </thead>\n",
              "  <tbody>\n",
              "    <tr>\n",
              "      <td>0</td>\n",
              "      <td>3.503480</td>\n",
              "      <td>3.456645</td>\n",
              "      <td>0.442721</td>\n",
              "      <td>31:31</td>\n",
              "    </tr>\n",
              "  </tbody>\n",
              "</table>"
            ],
            "text/plain": [
              "<IPython.core.display.HTML object>"
            ]
          },
          "metadata": {
            "tags": []
          }
        }
      ]
    },
    {
      "cell_type": "code",
      "metadata": {
        "id": "1Er2ExO8wr7Y"
      },
      "source": [
        "learn.save_encoder('pubmed_bigtweet_askpatient_mixed_overlap20_first')"
      ],
      "execution_count": 26,
      "outputs": []
    },
    {
      "cell_type": "code",
      "metadata": {
        "id": "z52cZs2qwvad",
        "outputId": "a964105c-e598-432a-d6a8-82d1cc74f8f2",
        "colab": {
          "base_uri": "https://localhost:8080/",
          "height": 80
        }
      },
      "source": [
        "learn = text_classifier_learner(data_clas,AWD_LSTM, drop_mult=0.5)\n",
        "learn.load_encoder('pubmed_bigtweet_askpatient_mixed_overlap20_first')\n",
        "learn.fit_one_cycle(1, 1e-2)"
      ],
      "execution_count": 27,
      "outputs": [
        {
          "output_type": "display_data",
          "data": {
            "text/html": [
              "<table border=\"1\" class=\"dataframe\">\n",
              "  <thead>\n",
              "    <tr style=\"text-align: left;\">\n",
              "      <th>epoch</th>\n",
              "      <th>train_loss</th>\n",
              "      <th>valid_loss</th>\n",
              "      <th>accuracy</th>\n",
              "      <th>time</th>\n",
              "    </tr>\n",
              "  </thead>\n",
              "  <tbody>\n",
              "    <tr>\n",
              "      <td>0</td>\n",
              "      <td>3.991033</td>\n",
              "      <td>3.669830</td>\n",
              "      <td>0.332544</td>\n",
              "      <td>01:06</td>\n",
              "    </tr>\n",
              "  </tbody>\n",
              "</table>"
            ],
            "text/plain": [
              "<IPython.core.display.HTML object>"
            ]
          },
          "metadata": {
            "tags": []
          }
        }
      ]
    },
    {
      "cell_type": "code",
      "metadata": {
        "id": "ImwQP1PJwzxd",
        "outputId": "1f9dee97-28a4-4f02-a118-62a999f875d8",
        "colab": {
          "base_uri": "https://localhost:8080/",
          "height": 80
        }
      },
      "source": [
        "learn.freeze_to(-2)\n",
        "learn.fit_one_cycle(1, slice(5e-3/2., 5e-3))"
      ],
      "execution_count": 28,
      "outputs": [
        {
          "output_type": "display_data",
          "data": {
            "text/html": [
              "<table border=\"1\" class=\"dataframe\">\n",
              "  <thead>\n",
              "    <tr style=\"text-align: left;\">\n",
              "      <th>epoch</th>\n",
              "      <th>train_loss</th>\n",
              "      <th>valid_loss</th>\n",
              "      <th>accuracy</th>\n",
              "      <th>time</th>\n",
              "    </tr>\n",
              "  </thead>\n",
              "  <tbody>\n",
              "    <tr>\n",
              "      <td>0</td>\n",
              "      <td>2.988105</td>\n",
              "      <td>3.072092</td>\n",
              "      <td>0.459172</td>\n",
              "      <td>01:12</td>\n",
              "    </tr>\n",
              "  </tbody>\n",
              "</table>"
            ],
            "text/plain": [
              "<IPython.core.display.HTML object>"
            ]
          },
          "metadata": {
            "tags": []
          }
        }
      ]
    },
    {
      "cell_type": "code",
      "metadata": {
        "id": "Owff_BJXw53u",
        "outputId": "dd616150-6f4e-4cc7-91d6-cb967b016b77",
        "colab": {
          "base_uri": "https://localhost:8080/",
          "height": 80
        }
      },
      "source": [
        "learn.unfreeze()\n",
        "learn.fit_one_cycle(1, slice(2e-3/100, 2e-3))"
      ],
      "execution_count": 29,
      "outputs": [
        {
          "output_type": "display_data",
          "data": {
            "text/html": [
              "<table border=\"1\" class=\"dataframe\">\n",
              "  <thead>\n",
              "    <tr style=\"text-align: left;\">\n",
              "      <th>epoch</th>\n",
              "      <th>train_loss</th>\n",
              "      <th>valid_loss</th>\n",
              "      <th>accuracy</th>\n",
              "      <th>time</th>\n",
              "    </tr>\n",
              "  </thead>\n",
              "  <tbody>\n",
              "    <tr>\n",
              "      <td>0</td>\n",
              "      <td>2.343112</td>\n",
              "      <td>2.627274</td>\n",
              "      <td>0.546746</td>\n",
              "      <td>03:15</td>\n",
              "    </tr>\n",
              "  </tbody>\n",
              "</table>"
            ],
            "text/plain": [
              "<IPython.core.display.HTML object>"
            ]
          },
          "metadata": {
            "tags": []
          }
        }
      ]
    },
    {
      "cell_type": "code",
      "metadata": {
        "id": "lqAyu56V8Waq",
        "outputId": "ad067c03-81a1-4434-df10-cbac958ca503",
        "colab": {
          "base_uri": "https://localhost:8080/",
          "height": 111
        }
      },
      "source": [
        "learn.fit_one_cycle(2, slice(2e-3/100, 2e-3))"
      ],
      "execution_count": 30,
      "outputs": [
        {
          "output_type": "display_data",
          "data": {
            "text/html": [
              "<table border=\"1\" class=\"dataframe\">\n",
              "  <thead>\n",
              "    <tr style=\"text-align: left;\">\n",
              "      <th>epoch</th>\n",
              "      <th>train_loss</th>\n",
              "      <th>valid_loss</th>\n",
              "      <th>accuracy</th>\n",
              "      <th>time</th>\n",
              "    </tr>\n",
              "  </thead>\n",
              "  <tbody>\n",
              "    <tr>\n",
              "      <td>0</td>\n",
              "      <td>2.036618</td>\n",
              "      <td>2.257143</td>\n",
              "      <td>0.618935</td>\n",
              "      <td>03:18</td>\n",
              "    </tr>\n",
              "    <tr>\n",
              "      <td>1</td>\n",
              "      <td>1.673837</td>\n",
              "      <td>2.112428</td>\n",
              "      <td>0.641420</td>\n",
              "      <td>03:11</td>\n",
              "    </tr>\n",
              "  </tbody>\n",
              "</table>"
            ],
            "text/plain": [
              "<IPython.core.display.HTML object>"
            ]
          },
          "metadata": {
            "tags": []
          }
        }
      ]
    },
    {
      "cell_type": "code",
      "metadata": {
        "id": "a7I1xMRp8bUd",
        "outputId": "b9b0b5bd-6936-45de-d6a8-73b562bf7925",
        "colab": {
          "base_uri": "https://localhost:8080/",
          "height": 111
        }
      },
      "source": [
        "learn.fit_one_cycle(2, slice(2e-3/100, 2e-3))"
      ],
      "execution_count": 31,
      "outputs": [
        {
          "output_type": "display_data",
          "data": {
            "text/html": [
              "<table border=\"1\" class=\"dataframe\">\n",
              "  <thead>\n",
              "    <tr style=\"text-align: left;\">\n",
              "      <th>epoch</th>\n",
              "      <th>train_loss</th>\n",
              "      <th>valid_loss</th>\n",
              "      <th>accuracy</th>\n",
              "      <th>time</th>\n",
              "    </tr>\n",
              "  </thead>\n",
              "  <tbody>\n",
              "    <tr>\n",
              "      <td>0</td>\n",
              "      <td>1.521904</td>\n",
              "      <td>1.965276</td>\n",
              "      <td>0.662722</td>\n",
              "      <td>02:53</td>\n",
              "    </tr>\n",
              "    <tr>\n",
              "      <td>1</td>\n",
              "      <td>1.294057</td>\n",
              "      <td>1.840548</td>\n",
              "      <td>0.688757</td>\n",
              "      <td>03:08</td>\n",
              "    </tr>\n",
              "  </tbody>\n",
              "</table>"
            ],
            "text/plain": [
              "<IPython.core.display.HTML object>"
            ]
          },
          "metadata": {
            "tags": []
          }
        }
      ]
    },
    {
      "cell_type": "code",
      "metadata": {
        "id": "UAnti-XmGVfO",
        "outputId": "412e0256-09df-4050-d4fc-9b26c68a429c",
        "colab": {
          "base_uri": "https://localhost:8080/",
          "height": 111
        }
      },
      "source": [
        "learn.fit_one_cycle(2, slice(2e-3/100, 2e-3))"
      ],
      "execution_count": 32,
      "outputs": [
        {
          "output_type": "display_data",
          "data": {
            "text/html": [
              "<table border=\"1\" class=\"dataframe\">\n",
              "  <thead>\n",
              "    <tr style=\"text-align: left;\">\n",
              "      <th>epoch</th>\n",
              "      <th>train_loss</th>\n",
              "      <th>valid_loss</th>\n",
              "      <th>accuracy</th>\n",
              "      <th>time</th>\n",
              "    </tr>\n",
              "  </thead>\n",
              "  <tbody>\n",
              "    <tr>\n",
              "      <td>0</td>\n",
              "      <td>1.178378</td>\n",
              "      <td>1.716583</td>\n",
              "      <td>0.707692</td>\n",
              "      <td>02:57</td>\n",
              "    </tr>\n",
              "    <tr>\n",
              "      <td>1</td>\n",
              "      <td>1.019073</td>\n",
              "      <td>1.637336</td>\n",
              "      <td>0.719527</td>\n",
              "      <td>03:00</td>\n",
              "    </tr>\n",
              "  </tbody>\n",
              "</table>"
            ],
            "text/plain": [
              "<IPython.core.display.HTML object>"
            ]
          },
          "metadata": {
            "tags": []
          }
        }
      ]
    },
    {
      "cell_type": "code",
      "metadata": {
        "id": "bIft7W25GwSu",
        "outputId": "97682109-b0d1-419f-cc35-eb3226b1b4cb",
        "colab": {
          "base_uri": "https://localhost:8080/",
          "height": 111
        }
      },
      "source": [
        "learn.fit_one_cycle(2, slice(2e-3/100, 2e-3))"
      ],
      "execution_count": 33,
      "outputs": [
        {
          "output_type": "display_data",
          "data": {
            "text/html": [
              "<table border=\"1\" class=\"dataframe\">\n",
              "  <thead>\n",
              "    <tr style=\"text-align: left;\">\n",
              "      <th>epoch</th>\n",
              "      <th>train_loss</th>\n",
              "      <th>valid_loss</th>\n",
              "      <th>accuracy</th>\n",
              "      <th>time</th>\n",
              "    </tr>\n",
              "  </thead>\n",
              "  <tbody>\n",
              "    <tr>\n",
              "      <td>0</td>\n",
              "      <td>0.950951</td>\n",
              "      <td>1.571896</td>\n",
              "      <td>0.724260</td>\n",
              "      <td>03:07</td>\n",
              "    </tr>\n",
              "    <tr>\n",
              "      <td>1</td>\n",
              "      <td>0.888620</td>\n",
              "      <td>1.522331</td>\n",
              "      <td>0.730178</td>\n",
              "      <td>02:51</td>\n",
              "    </tr>\n",
              "  </tbody>\n",
              "</table>"
            ],
            "text/plain": [
              "<IPython.core.display.HTML object>"
            ]
          },
          "metadata": {
            "tags": []
          }
        }
      ]
    },
    {
      "cell_type": "code",
      "metadata": {
        "id": "EEHszVRvGyFt",
        "outputId": "6406b033-e4e8-42da-df7a-50bc9bedfcc0",
        "colab": {
          "base_uri": "https://localhost:8080/",
          "height": 111
        }
      },
      "source": [
        "learn.fit_one_cycle(2, slice(2e-3/100, 2e-3))"
      ],
      "execution_count": 34,
      "outputs": [
        {
          "output_type": "display_data",
          "data": {
            "text/html": [
              "<table border=\"1\" class=\"dataframe\">\n",
              "  <thead>\n",
              "    <tr style=\"text-align: left;\">\n",
              "      <th>epoch</th>\n",
              "      <th>train_loss</th>\n",
              "      <th>valid_loss</th>\n",
              "      <th>accuracy</th>\n",
              "      <th>time</th>\n",
              "    </tr>\n",
              "  </thead>\n",
              "  <tbody>\n",
              "    <tr>\n",
              "      <td>0</td>\n",
              "      <td>0.812864</td>\n",
              "      <td>1.500114</td>\n",
              "      <td>0.730178</td>\n",
              "      <td>02:59</td>\n",
              "    </tr>\n",
              "    <tr>\n",
              "      <td>1</td>\n",
              "      <td>0.729433</td>\n",
              "      <td>1.439240</td>\n",
              "      <td>0.744379</td>\n",
              "      <td>03:02</td>\n",
              "    </tr>\n",
              "  </tbody>\n",
              "</table>"
            ],
            "text/plain": [
              "<IPython.core.display.HTML object>"
            ]
          },
          "metadata": {
            "tags": []
          }
        }
      ]
    },
    {
      "cell_type": "code",
      "metadata": {
        "id": "XsHfrhCHG3dN",
        "outputId": "c51956af-ac39-4fc2-95c9-2a9133db196d",
        "colab": {
          "base_uri": "https://localhost:8080/",
          "height": 173
        }
      },
      "source": [
        "learn.fit_one_cycle(4, slice(2e-3/100, 2e-3))"
      ],
      "execution_count": 35,
      "outputs": [
        {
          "output_type": "display_data",
          "data": {
            "text/html": [
              "<table border=\"1\" class=\"dataframe\">\n",
              "  <thead>\n",
              "    <tr style=\"text-align: left;\">\n",
              "      <th>epoch</th>\n",
              "      <th>train_loss</th>\n",
              "      <th>valid_loss</th>\n",
              "      <th>accuracy</th>\n",
              "      <th>time</th>\n",
              "    </tr>\n",
              "  </thead>\n",
              "  <tbody>\n",
              "    <tr>\n",
              "      <td>0</td>\n",
              "      <td>0.698730</td>\n",
              "      <td>1.398341</td>\n",
              "      <td>0.747929</td>\n",
              "      <td>03:03</td>\n",
              "    </tr>\n",
              "    <tr>\n",
              "      <td>1</td>\n",
              "      <td>0.670726</td>\n",
              "      <td>1.429510</td>\n",
              "      <td>0.747929</td>\n",
              "      <td>02:54</td>\n",
              "    </tr>\n",
              "    <tr>\n",
              "      <td>2</td>\n",
              "      <td>0.569103</td>\n",
              "      <td>1.350728</td>\n",
              "      <td>0.766864</td>\n",
              "      <td>03:08</td>\n",
              "    </tr>\n",
              "    <tr>\n",
              "      <td>3</td>\n",
              "      <td>0.483984</td>\n",
              "      <td>1.329334</td>\n",
              "      <td>0.768047</td>\n",
              "      <td>03:13</td>\n",
              "    </tr>\n",
              "  </tbody>\n",
              "</table>"
            ],
            "text/plain": [
              "<IPython.core.display.HTML object>"
            ]
          },
          "metadata": {
            "tags": []
          }
        }
      ]
    },
    {
      "cell_type": "code",
      "metadata": {
        "id": "0Zsd99isb9EQ",
        "outputId": "c5ce7232-c9c4-4c37-805e-173c836d0b83",
        "colab": {
          "base_uri": "https://localhost:8080/",
          "height": 173
        }
      },
      "source": [
        "learn.fit_one_cycle(4, slice(2e-3/100, 2e-3))"
      ],
      "execution_count": 36,
      "outputs": [
        {
          "output_type": "display_data",
          "data": {
            "text/html": [
              "<table border=\"1\" class=\"dataframe\">\n",
              "  <thead>\n",
              "    <tr style=\"text-align: left;\">\n",
              "      <th>epoch</th>\n",
              "      <th>train_loss</th>\n",
              "      <th>valid_loss</th>\n",
              "      <th>accuracy</th>\n",
              "      <th>time</th>\n",
              "    </tr>\n",
              "  </thead>\n",
              "  <tbody>\n",
              "    <tr>\n",
              "      <td>0</td>\n",
              "      <td>0.505243</td>\n",
              "      <td>1.367732</td>\n",
              "      <td>0.758580</td>\n",
              "      <td>03:12</td>\n",
              "    </tr>\n",
              "    <tr>\n",
              "      <td>1</td>\n",
              "      <td>0.495720</td>\n",
              "      <td>1.377356</td>\n",
              "      <td>0.772781</td>\n",
              "      <td>02:52</td>\n",
              "    </tr>\n",
              "    <tr>\n",
              "      <td>2</td>\n",
              "      <td>0.432561</td>\n",
              "      <td>1.305762</td>\n",
              "      <td>0.777515</td>\n",
              "      <td>03:10</td>\n",
              "    </tr>\n",
              "    <tr>\n",
              "      <td>3</td>\n",
              "      <td>0.376573</td>\n",
              "      <td>1.292753</td>\n",
              "      <td>0.785799</td>\n",
              "      <td>02:59</td>\n",
              "    </tr>\n",
              "  </tbody>\n",
              "</table>"
            ],
            "text/plain": [
              "<IPython.core.display.HTML object>"
            ]
          },
          "metadata": {
            "tags": []
          }
        }
      ]
    },
    {
      "cell_type": "code",
      "metadata": {
        "id": "atNWNKDFPbuI",
        "outputId": "f418fc52-3683-43c0-e36a-82b3faf6d073",
        "colab": {
          "base_uri": "https://localhost:8080/",
          "height": 173
        }
      },
      "source": [
        "learn.fit_one_cycle(4, slice(2e-3/100, 2e-3))"
      ],
      "execution_count": 37,
      "outputs": [
        {
          "output_type": "display_data",
          "data": {
            "text/html": [
              "<table border=\"1\" class=\"dataframe\">\n",
              "  <thead>\n",
              "    <tr style=\"text-align: left;\">\n",
              "      <th>epoch</th>\n",
              "      <th>train_loss</th>\n",
              "      <th>valid_loss</th>\n",
              "      <th>accuracy</th>\n",
              "      <th>time</th>\n",
              "    </tr>\n",
              "  </thead>\n",
              "  <tbody>\n",
              "    <tr>\n",
              "      <td>0</td>\n",
              "      <td>0.382304</td>\n",
              "      <td>1.348580</td>\n",
              "      <td>0.773965</td>\n",
              "      <td>03:06</td>\n",
              "    </tr>\n",
              "    <tr>\n",
              "      <td>1</td>\n",
              "      <td>0.421536</td>\n",
              "      <td>1.301695</td>\n",
              "      <td>0.775148</td>\n",
              "      <td>03:14</td>\n",
              "    </tr>\n",
              "    <tr>\n",
              "      <td>2</td>\n",
              "      <td>0.347610</td>\n",
              "      <td>1.274829</td>\n",
              "      <td>0.794083</td>\n",
              "      <td>02:53</td>\n",
              "    </tr>\n",
              "    <tr>\n",
              "      <td>3</td>\n",
              "      <td>0.295189</td>\n",
              "      <td>1.316752</td>\n",
              "      <td>0.790533</td>\n",
              "      <td>03:01</td>\n",
              "    </tr>\n",
              "  </tbody>\n",
              "</table>"
            ],
            "text/plain": [
              "<IPython.core.display.HTML object>"
            ]
          },
          "metadata": {
            "tags": []
          }
        }
      ]
    },
    {
      "cell_type": "code",
      "metadata": {
        "id": "rKrBTZ0T1uVA",
        "outputId": "7b554248-9c63-4b5c-8a00-e6c101fb54bb",
        "colab": {
          "base_uri": "https://localhost:8080/",
          "height": 173
        }
      },
      "source": [
        "learn.fit_one_cycle(4, slice(2e-3/100, 2e-3))"
      ],
      "execution_count": 38,
      "outputs": [
        {
          "output_type": "display_data",
          "data": {
            "text/html": [
              "<table border=\"1\" class=\"dataframe\">\n",
              "  <thead>\n",
              "    <tr style=\"text-align: left;\">\n",
              "      <th>epoch</th>\n",
              "      <th>train_loss</th>\n",
              "      <th>valid_loss</th>\n",
              "      <th>accuracy</th>\n",
              "      <th>time</th>\n",
              "    </tr>\n",
              "  </thead>\n",
              "  <tbody>\n",
              "    <tr>\n",
              "      <td>0</td>\n",
              "      <td>0.300907</td>\n",
              "      <td>1.323421</td>\n",
              "      <td>0.795266</td>\n",
              "      <td>02:55</td>\n",
              "    </tr>\n",
              "    <tr>\n",
              "      <td>1</td>\n",
              "      <td>0.349489</td>\n",
              "      <td>1.352668</td>\n",
              "      <td>0.789349</td>\n",
              "      <td>02:50</td>\n",
              "    </tr>\n",
              "    <tr>\n",
              "      <td>2</td>\n",
              "      <td>0.288289</td>\n",
              "      <td>1.293826</td>\n",
              "      <td>0.798817</td>\n",
              "      <td>03:03</td>\n",
              "    </tr>\n",
              "    <tr>\n",
              "      <td>3</td>\n",
              "      <td>0.253532</td>\n",
              "      <td>1.342612</td>\n",
              "      <td>0.800000</td>\n",
              "      <td>02:50</td>\n",
              "    </tr>\n",
              "  </tbody>\n",
              "</table>"
            ],
            "text/plain": [
              "<IPython.core.display.HTML object>"
            ]
          },
          "metadata": {
            "tags": []
          }
        }
      ]
    },
    {
      "cell_type": "code",
      "metadata": {
        "id": "ajQC6WDg1yA9",
        "outputId": "d43c7bd7-ac17-47a0-d876-e3db52128368",
        "colab": {
          "base_uri": "https://localhost:8080/",
          "height": 173
        }
      },
      "source": [
        "learn.fit_one_cycle(4, slice(2e-3/100, 2e-3))"
      ],
      "execution_count": 39,
      "outputs": [
        {
          "output_type": "display_data",
          "data": {
            "text/html": [
              "<table border=\"1\" class=\"dataframe\">\n",
              "  <thead>\n",
              "    <tr style=\"text-align: left;\">\n",
              "      <th>epoch</th>\n",
              "      <th>train_loss</th>\n",
              "      <th>valid_loss</th>\n",
              "      <th>accuracy</th>\n",
              "      <th>time</th>\n",
              "    </tr>\n",
              "  </thead>\n",
              "  <tbody>\n",
              "    <tr>\n",
              "      <td>0</td>\n",
              "      <td>0.260195</td>\n",
              "      <td>1.390504</td>\n",
              "      <td>0.784615</td>\n",
              "      <td>03:09</td>\n",
              "    </tr>\n",
              "    <tr>\n",
              "      <td>1</td>\n",
              "      <td>0.290219</td>\n",
              "      <td>1.355860</td>\n",
              "      <td>0.779882</td>\n",
              "      <td>03:12</td>\n",
              "    </tr>\n",
              "    <tr>\n",
              "      <td>2</td>\n",
              "      <td>0.274517</td>\n",
              "      <td>1.365482</td>\n",
              "      <td>0.797633</td>\n",
              "      <td>03:05</td>\n",
              "    </tr>\n",
              "    <tr>\n",
              "      <td>3</td>\n",
              "      <td>0.222142</td>\n",
              "      <td>1.369094</td>\n",
              "      <td>0.805917</td>\n",
              "      <td>03:15</td>\n",
              "    </tr>\n",
              "  </tbody>\n",
              "</table>"
            ],
            "text/plain": [
              "<IPython.core.display.HTML object>"
            ]
          },
          "metadata": {
            "tags": []
          }
        }
      ]
    },
    {
      "cell_type": "code",
      "metadata": {
        "id": "KKydb0B4BKGk"
      },
      "source": [
        "# learn.fit_one_cycle(4, slice(2e-3/100, 2e-3))"
      ],
      "execution_count": 40,
      "outputs": []
    },
    {
      "cell_type": "code",
      "metadata": {
        "id": "T2APKtFKBpGY"
      },
      "source": [
        "# learn.fit_one_cycle(4, slice(2e-3/100, 2e-3))"
      ],
      "execution_count": 41,
      "outputs": []
    },
    {
      "cell_type": "code",
      "metadata": {
        "id": "qtTypA1sPgLU"
      },
      "source": [
        "# learn.fit_one_cycle(2, slice(2e-3/100, 2e-3))"
      ],
      "execution_count": 42,
      "outputs": []
    },
    {
      "cell_type": "code",
      "metadata": {
        "id": "b242kBsTUp9Y"
      },
      "source": [
        "# learn.fit_one_cycle(2, slice(2e-3/100, 2e-3))"
      ],
      "execution_count": 43,
      "outputs": []
    },
    {
      "cell_type": "code",
      "metadata": {
        "id": "Duwf1Ih5VeDZ",
        "outputId": "a1a20385-b095-404b-f68f-1f8ed614bcdd",
        "colab": {
          "base_uri": "https://localhost:8080/",
          "height": 80
        }
      },
      "source": [
        "learn.fit_one_cycle(1, slice(2e-3/100, 2e-3))"
      ],
      "execution_count": 44,
      "outputs": [
        {
          "output_type": "display_data",
          "data": {
            "text/html": [
              "<table border=\"1\" class=\"dataframe\">\n",
              "  <thead>\n",
              "    <tr style=\"text-align: left;\">\n",
              "      <th>epoch</th>\n",
              "      <th>train_loss</th>\n",
              "      <th>valid_loss</th>\n",
              "      <th>accuracy</th>\n",
              "      <th>time</th>\n",
              "    </tr>\n",
              "  </thead>\n",
              "  <tbody>\n",
              "    <tr>\n",
              "      <td>0</td>\n",
              "      <td>0.247260</td>\n",
              "      <td>1.393559</td>\n",
              "      <td>0.791716</td>\n",
              "      <td>03:33</td>\n",
              "    </tr>\n",
              "  </tbody>\n",
              "</table>"
            ],
            "text/plain": [
              "<IPython.core.display.HTML object>"
            ]
          },
          "metadata": {
            "tags": []
          }
        }
      ]
    },
    {
      "cell_type": "code",
      "metadata": {
        "id": "6sud1iTVAYbX",
        "outputId": "9deff410-8dce-4899-b2c4-4a5d0c2285f5",
        "colab": {
          "base_uri": "https://localhost:8080/",
          "height": 80
        }
      },
      "source": [
        "learn.fit_one_cycle(1, slice(2e-3/100, 2e-3))"
      ],
      "execution_count": 49,
      "outputs": [
        {
          "output_type": "display_data",
          "data": {
            "text/html": [
              "<table border=\"1\" class=\"dataframe\">\n",
              "  <thead>\n",
              "    <tr style=\"text-align: left;\">\n",
              "      <th>epoch</th>\n",
              "      <th>train_loss</th>\n",
              "      <th>valid_loss</th>\n",
              "      <th>accuracy</th>\n",
              "      <th>time</th>\n",
              "    </tr>\n",
              "  </thead>\n",
              "  <tbody>\n",
              "    <tr>\n",
              "      <td>0</td>\n",
              "      <td>0.241374</td>\n",
              "      <td>1.361641</td>\n",
              "      <td>0.805917</td>\n",
              "      <td>02:53</td>\n",
              "    </tr>\n",
              "  </tbody>\n",
              "</table>"
            ],
            "text/plain": [
              "<IPython.core.display.HTML object>"
            ]
          },
          "metadata": {
            "tags": []
          }
        }
      ]
    },
    {
      "cell_type": "code",
      "metadata": {
        "id": "c65d-osfDUXm"
      },
      "source": [
        "# save the best model\n",
        "\n",
        "learn.save_encoder('pubmed_bigtweet_askpatient_mixed_overlap20')"
      ],
      "execution_count": 50,
      "outputs": []
    },
    {
      "cell_type": "markdown",
      "metadata": {
        "id": "rCwZU0E2RgM6"
      },
      "source": [
        "# Part three: Predict on the test dataset"
      ]
    },
    {
      "cell_type": "code",
      "metadata": {
        "id": "gDm72c-dOu7d",
        "outputId": "c5bd709b-2b41-463a-f64e-fbcdd433d708",
        "colab": {
          "base_uri": "https://localhost:8080/",
          "height": 17
        }
      },
      "source": [
        "# use the test data for prediction\n",
        "\n",
        "preds, y = learn.get_preds(DatasetType.Test)"
      ],
      "execution_count": 51,
      "outputs": [
        {
          "output_type": "display_data",
          "data": {
            "text/html": [
              ""
            ],
            "text/plain": [
              "<IPython.core.display.HTML object>"
            ]
          },
          "metadata": {
            "tags": []
          }
        }
      ]
    },
    {
      "cell_type": "code",
      "metadata": {
        "id": "6tFSQcsWPvxn",
        "outputId": "71a02dcf-d7a6-46a6-8433-53f107bc110f",
        "colab": {
          "base_uri": "https://localhost:8080/",
          "height": 105
        }
      },
      "source": [
        "predictions, *_ = learn.get_preds(DatasetType.Test)\n",
        "labels = np.argmax(predictions, 1)\n",
        "predict_list = labels.tolist()\n",
        "standard_list = test[0].tolist()\n",
        "\n",
        "print(len(predict_list))\n",
        "print(len(standard_list))\n",
        "\n",
        "print(predict_list)\n",
        "print(standard_list)"
      ],
      "execution_count": 52,
      "outputs": [
        {
          "output_type": "display_data",
          "data": {
            "text/html": [
              ""
            ],
            "text/plain": [
              "<IPython.core.display.HTML object>"
            ]
          },
          "metadata": {
            "tags": []
          }
        },
        {
          "output_type": "stream",
          "text": [
            "764\n",
            "764\n",
            "[848, 375, 445, 689, 5, 1026, 179, 8, 8, 511, 98, 674, 5, 374, 428, 27, 427, 627, 29, 289, 211, 30, 32, 34, 289, 37, 38, 348, 41, 307, 853, 853, 49, 216, 49, 49, 591, 49, 49, 623, 243, 61, 70, 71, 71, 71, 76, 76, 318, 742, 190, 904, 79, 289, 289, 289, 289, 289, 289, 289, 289, 289, 289, 289, 652, 289, 82, 80, 80, 90, 446, 878, 785, 850, 94, 94, 94, 94, 485, 545, 683, 809, 794, 337, 100, 100, 337, 100, 100, 847, 100, 291, 102, 107, 108, 108, 209, 839, 313, 111, 211, 904, 111, 281, 111, 211, 730, 963, 120, 255, 1025, 125, 125, 369, 973, 125, 127, 741, 129, 129, 172, 745, 627, 142, 144, 416, 301, 153, 157, 157, 509, 178, 166, 166, 101, 131, 614, 742, 352, 182, 182, 182, 182, 183, 183, 183, 187, 187, 1025, 189, 189, 190, 190, 190, 190, 190, 190, 190, 190, 190, 193, 197, 34, 34, 34, 34, 805, 205, 205, 210, 210, 210, 210, 210, 211, 896, 695, 214, 471, 214, 805, 214, 214, 973, 243, 218, 220, 220, 409, 228, 228, 79, 228, 289, 289, 228, 426, 231, 234, 235, 236, 58, 402, 1025, 973, 211, 187, 240, 985, 904, 904, 243, 904, 973, 244, 764, 245, 245, 245, 245, 245, 245, 245, 245, 246, 170, 255, 243, 851, 400, 260, 172, 1027, 265, 419, 660, 214, 265, 265, 265, 265, 265, 289, 704, 265, 265, 265, 199, 89, 137, 878, 270, 485, 700, 847, 283, 52, 805, 419, 698, 700, 289, 289, 364, 75, 289, 289, 289, 260, 289, 289, 289, 289, 289, 289, 289, 289, 190, 289, 289, 205, 741, 289, 289, 289, 289, 651, 364, 289, 291, 704, 274, 877, 805, 675, 301, 780, 265, 224, 304, 397, 309, 309, 309, 309, 289, 750, 318, 12, 532, 904, 146, 584, 392, 321, 375, 997, 325, 325, 325, 325, 325, 325, 848, 325, 729, 61, 661, 333, 334, 334, 560, 337, 337, 337, 337, 337, 584, 129, 343, 73, 343, 364, 485, 153, 770, 579, 359, 359, 359, 737, 359, 360, 360, 363, 364, 364, 893, 243, 387, 427, 444, 213, 851, 10, 402, 402, 427, 886, 805, 415, 415, 419, 419, 471, 419, 76, 419, 419, 644, 830, 426, 426, 426, 427, 427, 427, 427, 427, 427, 100, 427, 427, 591, 427, 736, 430, 910, 238, 435, 438, 441, 444, 444, 444, 444, 446, 453, 205, 462, 524, 615, 794, 475, 591, 591, 158, 158, 158, 544, 479, 426, 532, 744, 20, 486, 878, 895, 326, 662, 563, 82, 491, 904, 491, 492, 746, 499, 805, 711, 506, 627, 510, 516, 517, 1025, 847, 521, 521, 988, 127, 530, 530, 531, 644, 541, 542, 591, 291, 545, 546, 548, 548, 466, 466, 88, 689, 159, 111, 190, 567, 571, 810, 577, 100, 521, 58, 578, 578, 579, 579, 579, 579, 584, 687, 289, 590, 591, 590, 590, 591, 97, 97, 595, 595, 427, 541, 142, 604, 704, 704, 607, 509, 830, 614, 742, 617, 619, 623, 623, 624, 633, 633, 633, 637, 764, 640, 88, 728, 728, 726, 651, 652, 652, 652, 652, 683, 106, 106, 108, 662, 662, 662, 29, 664, 437, 378, 669, 676, 677, 373, 402, 182, 645, 687, 810, 216, 698, 699, 265, 703, 701, 696, 696, 703, 651, 703, 190, 265, 579, 677, 810, 707, 707, 710, 711, 765, 715, 730, 769, 769, 730, 670, 88, 583, 739, 741, 703, 337, 289, 741, 541, 746, 98, 746, 749, 753, 753, 371, 765, 809, 769, 337, 375, 433, 245, 774, 775, 37, 100, 775, 100, 49, 775, 775, 344, 359, 787, 787, 787, 591, 473, 798, 318, 243, 804, 785, 805, 805, 143, 808, 809, 691, 809, 809, 809, 134, 810, 810, 810, 246, 815, 816, 824, 377, 826, 809, 828, 508, 1026, 830, 830, 830, 830, 831, 973, 202, 801, 375, 764, 184, 329, 847, 847, 485, 847, 591, 540, 852, 852, 706, 864, 111, 130, 864, 289, 662, 662, 475, 426, 868, 34, 874, 245, 245, 877, 877, 165, 172, 623, 293, 892, 893, 415, 896, 896, 896, 560, 896, 328, 680, 753, 753, 243, 906, 466, 916, 917, 832, 973, 929, 931, 973, 933, 933, 936, 937, 937, 949, 949, 949, 949, 949, 949, 949, 949, 949, 949, 949, 949, 949, 949, 949, 949, 949, 949, 949, 949, 949, 949, 949, 949, 949, 949, 949, 949, 949, 973, 376, 376, 952, 955, 133, 956, 966, 971, 904, 248, 994, 842, 1001, 1002, 1031, 999, 1031, 997, 1026, 1026, 1028, 1028, 1029, 1029, 1025, 1035]\n",
            "[0, 3, 4, 5, 5, 7, 8, 8, 8, 9, 10, 14, 18, 19, 22, 27, 28, 28, 29, 30, 30, 30, 32, 34, 37, 37, 38, 40, 41, 47, 49, 49, 49, 49, 49, 49, 49, 49, 49, 50, 53, 61, 70, 71, 71, 71, 76, 76, 77, 77, 79, 79, 79, 79, 79, 79, 79, 79, 79, 79, 79, 79, 79, 79, 79, 79, 79, 80, 80, 82, 89, 89, 90, 93, 94, 94, 94, 94, 96, 98, 98, 98, 99, 100, 100, 100, 100, 100, 100, 100, 100, 101, 102, 107, 108, 108, 109, 110, 111, 111, 111, 111, 111, 111, 111, 111, 111, 119, 120, 122, 125, 125, 125, 125, 125, 125, 127, 129, 129, 129, 129, 132, 138, 142, 144, 150, 150, 153, 157, 157, 163, 165, 166, 166, 168, 170, 172, 180, 182, 182, 182, 182, 182, 183, 183, 183, 187, 187, 187, 189, 189, 190, 190, 190, 190, 190, 190, 190, 190, 190, 193, 197, 197, 197, 197, 197, 204, 205, 205, 210, 210, 210, 210, 210, 211, 214, 214, 214, 214, 214, 214, 214, 214, 216, 218, 218, 220, 220, 228, 228, 228, 228, 228, 228, 228, 228, 229, 231, 234, 235, 236, 236, 238, 238, 238, 238, 240, 240, 243, 243, 243, 243, 243, 243, 244, 245, 245, 245, 245, 245, 245, 245, 245, 245, 246, 246, 249, 254, 254, 259, 260, 260, 261, 265, 265, 265, 265, 265, 265, 265, 265, 265, 265, 265, 265, 265, 265, 266, 268, 268, 268, 270, 272, 281, 282, 283, 286, 288, 289, 289, 289, 289, 289, 289, 289, 289, 289, 289, 289, 289, 289, 289, 289, 289, 289, 289, 289, 289, 289, 289, 289, 289, 289, 289, 289, 289, 289, 289, 289, 291, 293, 294, 295, 299, 299, 301, 301, 301, 301, 304, 304, 309, 309, 309, 309, 309, 317, 318, 318, 318, 318, 318, 320, 320, 321, 321, 323, 325, 325, 325, 325, 325, 325, 325, 325, 326, 327, 330, 333, 334, 334, 337, 337, 337, 337, 337, 337, 338, 343, 343, 343, 343, 345, 346, 347, 350, 351, 359, 359, 359, 359, 359, 360, 360, 363, 364, 364, 365, 380, 387, 388, 392, 394, 396, 402, 402, 402, 408, 408, 413, 415, 416, 419, 419, 419, 419, 419, 419, 419, 424, 424, 426, 426, 426, 427, 427, 427, 427, 427, 427, 427, 427, 427, 427, 427, 428, 430, 433, 434, 435, 438, 441, 443, 444, 444, 444, 446, 453, 461, 462, 465, 473, 473, 475, 475, 475, 476, 476, 476, 477, 479, 479, 481, 482, 483, 486, 487, 487, 488, 491, 491, 491, 491, 491, 491, 492, 493, 499, 505, 505, 506, 509, 514, 516, 517, 517, 517, 521, 521, 527, 529, 530, 530, 531, 531, 541, 542, 543, 543, 545, 546, 548, 548, 549, 549, 554, 561, 561, 565, 566, 567, 571, 575, 577, 577, 577, 577, 578, 578, 579, 579, 579, 579, 584, 586, 588, 590, 591, 591, 591, 591, 594, 594, 595, 595, 596, 598, 598, 604, 606, 606, 607, 609, 611, 614, 614, 617, 619, 623, 623, 624, 633, 633, 633, 637, 638, 640, 646, 648, 648, 648, 651, 652, 652, 652, 654, 659, 659, 659, 660, 662, 662, 662, 663, 663, 663, 664, 669, 677, 681, 683, 686, 686, 686, 687, 689, 693, 698, 700, 700, 701, 701, 702, 702, 702, 702, 703, 703, 704, 704, 705, 705, 707, 707, 710, 711, 715, 716, 718, 723, 727, 730, 731, 733, 738, 739, 741, 741, 741, 741, 741, 746, 746, 746, 746, 749, 753, 753, 756, 761, 763, 765, 766, 767, 770, 771, 774, 775, 775, 775, 775, 775, 775, 775, 775, 782, 784, 787, 787, 788, 794, 794, 798, 800, 803, 804, 804, 805, 805, 807, 808, 809, 809, 809, 809, 809, 810, 810, 810, 810, 813, 815, 816, 824, 826, 826, 827, 828, 829, 830, 830, 830, 830, 830, 831, 834, 840, 840, 840, 840, 844, 846, 847, 847, 847, 847, 847, 847, 852, 852, 861, 864, 864, 864, 864, 864, 865, 865, 865, 867, 868, 871, 874, 876, 876, 877, 877, 882, 883, 888, 889, 892, 893, 894, 896, 896, 896, 896, 896, 898, 902, 903, 903, 905, 906, 908, 916, 917, 920, 926, 929, 931, 932, 933, 933, 936, 937, 937, 949, 949, 949, 949, 949, 949, 949, 949, 949, 949, 949, 949, 949, 949, 949, 949, 949, 949, 949, 949, 949, 949, 949, 949, 949, 949, 949, 949, 949, 949, 949, 949, 952, 955, 955, 956, 966, 967, 969, 994, 994, 1000, 1001, 1002, 1011, 1019, 1020, 1020, 1026, 1026, 1028, 1028, 1029, 1029, 1030, 1035]\n"
          ],
          "name": "stdout"
        }
      ]
    },
    {
      "cell_type": "code",
      "metadata": {
        "id": "XIC4zufnMxtq",
        "outputId": "05b4575c-b3a3-4313-b8d8-8b81b28e9ec7",
        "colab": {
          "base_uri": "https://localhost:8080/",
          "height": 51
        }
      },
      "source": [
        "correct_num = 0\n",
        "\n",
        "for i in range(0, len(standard_list)):\n",
        "  if predict_list[i] == standard_list[i]:\n",
        "    correct_num = correct_num+1\n",
        "  else:\n",
        "    pass\n",
        "print(correct_num)\n",
        "\n",
        "predict_accuracy = correct_num/len(predict_list)\n",
        "print(predict_accuracy)"
      ],
      "execution_count": 53,
      "outputs": [
        {
          "output_type": "stream",
          "text": [
            "384\n",
            "0.5026178010471204\n"
          ],
          "name": "stdout"
        }
      ]
    },
    {
      "cell_type": "code",
      "metadata": {
        "id": "zlKMHp1CIaRJ"
      },
      "source": [
        ""
      ],
      "execution_count": 53,
      "outputs": []
    }
  ]
}