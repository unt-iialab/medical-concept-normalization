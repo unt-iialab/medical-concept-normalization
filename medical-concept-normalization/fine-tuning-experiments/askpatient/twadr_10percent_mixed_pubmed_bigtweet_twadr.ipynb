{
  "nbformat": 4,
  "nbformat_minor": 0,
  "metadata": {
    "accelerator": "TPU",
    "colab": {
      "name": "twadr_10percent_mixed_pubmed_bigtweet_twadr.ipynb",
      "provenance": [],
      "collapsed_sections": [],
      "toc_visible": true,
      "include_colab_link": true
    },
    "kernelspec": {
      "display_name": "Python 3",
      "name": "python3"
    }
  },
  "cells": [
    {
      "cell_type": "markdown",
      "metadata": {
        "id": "view-in-github",
        "colab_type": "text"
      },
      "source": [
        "<a href=\"https://colab.research.google.com/github/unt-iialab/medical-concept-normalization/blob/master/medical-concept-normalization/fine-tuning-experiments/askpatient/twadr_10percent_mixed_pubmed_bigtweet_twadr.ipynb\" target=\"_parent\"><img src=\"https://colab.research.google.com/assets/colab-badge.svg\" alt=\"Open In Colab\"/></a>"
      ]
    },
    {
      "cell_type": "code",
      "metadata": {
        "id": "adSi6i2-dWxy"
      },
      "source": [
        "import os"
      ],
      "execution_count": 1,
      "outputs": []
    },
    {
      "cell_type": "code",
      "metadata": {
        "id": "E7xYCRGPjd9B"
      },
      "source": [
        "base_dir = 'medical-concept-normalization'"
      ],
      "execution_count": 2,
      "outputs": []
    },
    {
      "cell_type": "code",
      "metadata": {
        "id": "yvIW3aUDjYNS"
      },
      "source": [
        "os.mkdir(base_dir)"
      ],
      "execution_count": 3,
      "outputs": []
    },
    {
      "cell_type": "code",
      "metadata": {
        "id": "es-FFLlfk6SG"
      },
      "source": [
        "os.mkdir('medical-concept-normalization/data_collection')"
      ],
      "execution_count": 4,
      "outputs": []
    },
    {
      "cell_type": "markdown",
      "metadata": {
        "id": "0R-Guw_VoJXm"
      },
      "source": [
        "**Install fastai and clone the fastai for text classification**\n",
        "\n"
      ]
    },
    {
      "cell_type": "code",
      "metadata": {
        "id": "QVZa3Z0PmHFH",
        "outputId": "93b14ec2-9e17-40cd-ac31-c0be4fba1962",
        "colab": {
          "base_uri": "https://localhost:8080/",
          "height": 68
        }
      },
      "source": [
        "!curl https://course-v3.fast.ai/setup/colab | bash"
      ],
      "execution_count": 5,
      "outputs": [
        {
          "output_type": "stream",
          "text": [
            "  % Total    % Received % Xferd  Average Speed   Time    Time     Time  Current\n",
            "                                 Dload  Upload   Total   Spent    Left  Speed\n",
            "\r  0     0    0     0    0     0      0      0 --:--:-- --:--:-- --:--:--     0curl: (6) Could not resolve host: course-v3.fast.ai\n"
          ],
          "name": "stdout"
        }
      ]
    },
    {
      "cell_type": "code",
      "metadata": {
        "id": "_FBFFEBrmJC0",
        "outputId": "cdfee0c0-7dd5-4852-cccb-cf29cfd6ad19",
        "colab": {
          "base_uri": "https://localhost:8080/",
          "height": 85
        }
      },
      "source": [
        "!git clone https://github.com/wshuyi/demo-nlp-classification-fastai.git"
      ],
      "execution_count": 6,
      "outputs": [
        {
          "output_type": "stream",
          "text": [
            "Cloning into 'demo-nlp-classification-fastai'...\n",
            "remote: Enumerating objects: 9, done.\u001b[K\n",
            "remote: Total 9 (delta 0), reused 0 (delta 0), pack-reused 9\n",
            "Unpacking objects: 100% (9/9), done.\n"
          ],
          "name": "stdout"
        }
      ]
    },
    {
      "cell_type": "code",
      "metadata": {
        "id": "66zfh_JqmWMU"
      },
      "source": [
        "from fastai import *\n",
        "from fastai.text import *"
      ],
      "execution_count": 7,
      "outputs": []
    },
    {
      "cell_type": "markdown",
      "metadata": {
        "id": "mNIw-yALdBU9"
      },
      "source": [
        "**Set the path of the data collections**"
      ]
    },
    {
      "cell_type": "code",
      "metadata": {
        "id": "pzH7VMh4mqCL"
      },
      "source": [
        "path = Path('medical-concept-normalization/data_collection')"
      ],
      "execution_count": 8,
      "outputs": []
    },
    {
      "cell_type": "code",
      "metadata": {
        "id": "b8fjI6yyn4aS"
      },
      "source": [
        "# training data set\n",
        "\n",
        "train_csv = path/'tward_training_folder_0.csv'\n",
        "train = pd.read_csv(train_csv, header=None)\n",
        "#train.head()\n",
        "#train.info()"
      ],
      "execution_count": 10,
      "outputs": []
    },
    {
      "cell_type": "code",
      "metadata": {
        "id": "Hmlr-bAorfHd",
        "outputId": "629a71ca-a57c-425f-b10f-723caf37b78c",
        "colab": {
          "base_uri": "https://localhost:8080/",
          "height": 204
        }
      },
      "source": [
        "# validating data set\n",
        "\n",
        "valid = pd.read_csv(path/\"tward_validation_folder_0.csv\",header=None)\n",
        "valid.head()\n"
      ],
      "execution_count": 11,
      "outputs": [
        {
          "output_type": "execute_result",
          "data": {
            "text/html": [
              "<div>\n",
              "<style scoped>\n",
              "    .dataframe tbody tr th:only-of-type {\n",
              "        vertical-align: middle;\n",
              "    }\n",
              "\n",
              "    .dataframe tbody tr th {\n",
              "        vertical-align: top;\n",
              "    }\n",
              "\n",
              "    .dataframe thead th {\n",
              "        text-align: right;\n",
              "    }\n",
              "</style>\n",
              "<table border=\"1\" class=\"dataframe\">\n",
              "  <thead>\n",
              "    <tr style=\"text-align: right;\">\n",
              "      <th></th>\n",
              "      <th>0</th>\n",
              "      <th>1</th>\n",
              "    </tr>\n",
              "  </thead>\n",
              "  <tbody>\n",
              "    <tr>\n",
              "      <th>0</th>\n",
              "      <td>1811</td>\n",
              "      <td>cant shut up for the whole day</td>\n",
              "    </tr>\n",
              "    <tr>\n",
              "      <th>1</th>\n",
              "      <td>903</td>\n",
              "      <td>angry</td>\n",
              "    </tr>\n",
              "    <tr>\n",
              "      <th>2</th>\n",
              "      <td>1576</td>\n",
              "      <td>got me to the ceiling</td>\n",
              "    </tr>\n",
              "    <tr>\n",
              "      <th>3</th>\n",
              "      <td>2201</td>\n",
              "      <td>anxiety</td>\n",
              "    </tr>\n",
              "    <tr>\n",
              "      <th>4</th>\n",
              "      <td>416</td>\n",
              "      <td>tingling</td>\n",
              "    </tr>\n",
              "  </tbody>\n",
              "</table>\n",
              "</div>"
            ],
            "text/plain": [
              "      0                               1\n",
              "0  1811  cant shut up for the whole day\n",
              "1   903                           angry\n",
              "2  1576           got me to the ceiling\n",
              "3  2201                         anxiety\n",
              "4   416                        tingling"
            ]
          },
          "metadata": {
            "tags": []
          },
          "execution_count": 11
        }
      ]
    },
    {
      "cell_type": "code",
      "metadata": {
        "id": "cOza9dfSsBud",
        "outputId": "6f2e347b-a61a-4c4d-b70c-34e2145b2637",
        "colab": {
          "base_uri": "https://localhost:8080/",
          "height": 204
        }
      },
      "source": [
        "# testing data set\n",
        "\n",
        "test = pd.read_csv(path/\"tward_testing_overlap_10.csv\",header=None)\n",
        "test.head()"
      ],
      "execution_count": 12,
      "outputs": [
        {
          "output_type": "execute_result",
          "data": {
            "text/html": [
              "<div>\n",
              "<style scoped>\n",
              "    .dataframe tbody tr th:only-of-type {\n",
              "        vertical-align: middle;\n",
              "    }\n",
              "\n",
              "    .dataframe tbody tr th {\n",
              "        vertical-align: top;\n",
              "    }\n",
              "\n",
              "    .dataframe thead th {\n",
              "        text-align: right;\n",
              "    }\n",
              "</style>\n",
              "<table border=\"1\" class=\"dataframe\">\n",
              "  <thead>\n",
              "    <tr style=\"text-align: right;\">\n",
              "      <th></th>\n",
              "      <th>0</th>\n",
              "      <th>1</th>\n",
              "    </tr>\n",
              "  </thead>\n",
              "  <tbody>\n",
              "    <tr>\n",
              "      <th>0</th>\n",
              "      <td>1576</td>\n",
              "      <td>still not tired</td>\n",
              "    </tr>\n",
              "    <tr>\n",
              "      <th>1</th>\n",
              "      <td>2099</td>\n",
              "      <td>can't remember the last time i slept</td>\n",
              "    </tr>\n",
              "    <tr>\n",
              "      <th>2</th>\n",
              "      <td>1698</td>\n",
              "      <td>i feel like</td>\n",
              "    </tr>\n",
              "    <tr>\n",
              "      <th>3</th>\n",
              "      <td>1811</td>\n",
              "      <td>wired</td>\n",
              "    </tr>\n",
              "    <tr>\n",
              "      <th>4</th>\n",
              "      <td>476</td>\n",
              "      <td>still procrastinating</td>\n",
              "    </tr>\n",
              "  </tbody>\n",
              "</table>\n",
              "</div>"
            ],
            "text/plain": [
              "      0                                     1\n",
              "0  1576                       still not tired\n",
              "1  2099  can't remember the last time i slept\n",
              "2  1698                           i feel like\n",
              "3  1811                                 wired\n",
              "4   476                 still procrastinating"
            ]
          },
          "metadata": {
            "tags": []
          },
          "execution_count": 12
        }
      ]
    },
    {
      "cell_type": "code",
      "metadata": {
        "id": "Vo-YNvVYoaH6",
        "outputId": "717f58a3-a70f-45ac-dfeb-2e2f327a1d81",
        "colab": {
          "base_uri": "https://localhost:8080/",
          "height": 17
        }
      },
      "source": [
        "# Creating DataBunch for language modelling\n",
        "\n",
        "data_lm = TextLMDataBunch.from_csv(path, 'mixed_pubmed_bigtweet_twadr.csv')"
      ],
      "execution_count": 13,
      "outputs": [
        {
          "output_type": "display_data",
          "data": {
            "text/html": [
              ""
            ],
            "text/plain": [
              "<IPython.core.display.HTML object>"
            ]
          },
          "metadata": {
            "tags": []
          }
        },
        {
          "output_type": "display_data",
          "data": {
            "text/html": [
              ""
            ],
            "text/plain": [
              "<IPython.core.display.HTML object>"
            ]
          },
          "metadata": {
            "tags": []
          }
        }
      ]
    },
    {
      "cell_type": "code",
      "metadata": {
        "id": "qcV-9kMnNLBf"
      },
      "source": [
        ""
      ],
      "execution_count": 13,
      "outputs": []
    },
    {
      "cell_type": "code",
      "metadata": {
        "id": "1ScY9afDsnvE"
      },
      "source": [
        "# Creating DataBunch for classification\n",
        "\n",
        "# data_clas = TextClasDataBunch.from_df(path, train, valid, test, vocab=data_lm.train_ds.vocab, bs=128)"
      ],
      "execution_count": 14,
      "outputs": []
    },
    {
      "cell_type": "code",
      "metadata": {
        "id": "gzrSdQcvey9p",
        "outputId": "7a1d2083-f410-47a9-f41d-484c6c9c06e1",
        "colab": {
          "base_uri": "https://localhost:8080/",
          "height": 17
        }
      },
      "source": [
        "data_clas = TextClasDataBunch.from_df(path, train, valid, vocab=data_lm.train_ds.vocab, bs=128)"
      ],
      "execution_count": 15,
      "outputs": [
        {
          "output_type": "display_data",
          "data": {
            "text/html": [
              ""
            ],
            "text/plain": [
              "<IPython.core.display.HTML object>"
            ]
          },
          "metadata": {
            "tags": []
          }
        },
        {
          "output_type": "display_data",
          "data": {
            "text/html": [
              ""
            ],
            "text/plain": [
              "<IPython.core.display.HTML object>"
            ]
          },
          "metadata": {
            "tags": []
          }
        }
      ]
    },
    {
      "cell_type": "code",
      "metadata": {
        "id": "MD27Tf0Ke3ou",
        "outputId": "cb822123-70eb-408c-c4b5-e4f2c8b05fd2",
        "colab": {
          "base_uri": "https://localhost:8080/",
          "height": 17
        }
      },
      "source": [
        "data_clas.add_test(test,label=0)\n"
      ],
      "execution_count": 16,
      "outputs": [
        {
          "output_type": "display_data",
          "data": {
            "text/html": [
              ""
            ],
            "text/plain": [
              "<IPython.core.display.HTML object>"
            ]
          },
          "metadata": {
            "tags": []
          }
        }
      ]
    },
    {
      "cell_type": "code",
      "metadata": {
        "id": "-dpjnk_rstwk"
      },
      "source": [
        "data_lm.save()\n",
        "data_clas.save()"
      ],
      "execution_count": 17,
      "outputs": []
    },
    {
      "cell_type": "code",
      "metadata": {
        "id": "4OkiJa36sw5s",
        "outputId": "e52c8fd5-91b9-4d24-c7e9-724312224f6a",
        "colab": {
          "base_uri": "https://localhost:8080/",
          "height": 1000
        }
      },
      "source": [
        "data_lm.train_ds.vocab.itos"
      ],
      "execution_count": 18,
      "outputs": [
        {
          "output_type": "execute_result",
          "data": {
            "text/plain": [
              "['xxunk',\n",
              " 'xxpad',\n",
              " 'xxbos',\n",
              " 'xxeos',\n",
              " 'xxfld',\n",
              " 'xxmaj',\n",
              " 'xxup',\n",
              " 'xxrep',\n",
              " 'xxwrep',\n",
              " 'the',\n",
              " 'of',\n",
              " 'and',\n",
              " 'in',\n",
              " 'to',\n",
              " 'a',\n",
              " 'for',\n",
              " 'with',\n",
              " 'diclofenac',\n",
              " 'was',\n",
              " 'were',\n",
              " 'on',\n",
              " 'is',\n",
              " 'rt',\n",
              " 'pain',\n",
              " 'sodium',\n",
              " 'by',\n",
              " 'drug',\n",
              " 'that',\n",
              " 'as',\n",
              " 'at',\n",
              " 'i',\n",
              " 'this',\n",
              " 'or',\n",
              " 'patients',\n",
              " 'from',\n",
              " 'you',\n",
              " 'disease',\n",
              " 'be',\n",
              " 'mg',\n",
              " 'increased',\n",
              " 'group',\n",
              " 'my',\n",
              " 'study',\n",
              " 'are',\n",
              " 'mood',\n",
              " 'not',\n",
              " 'treatment',\n",
              " 'it',\n",
              " 'me',\n",
              " 'an',\n",
              " 'after',\n",
              " 'amp',\n",
              " 'have',\n",
              " 'p',\n",
              " 'release',\n",
              " 'gluten',\n",
              " ',',\n",
              " 'disorder',\n",
              " 'all',\n",
              " 'than',\n",
              " 'we',\n",
              " 'abnormal',\n",
              " 'effect',\n",
              " 'free',\n",
              " 'symptoms',\n",
              " 'withdrawal',\n",
              " 'no',\n",
              " 'weight',\n",
              " 'decreased',\n",
              " 'out',\n",
              " 'new',\n",
              " 'more',\n",
              " 'your',\n",
              " 'compared',\n",
              " 'anxiety',\n",
              " 'using',\n",
              " 'effects',\n",
              " 'up',\n",
              " 'day',\n",
              " 'time',\n",
              " 'our',\n",
              " 'two',\n",
              " 'groups',\n",
              " 'both',\n",
              " 'about',\n",
              " 'significantly',\n",
              " 'inflammatory',\n",
              " 'between',\n",
              " 'h',\n",
              " 'blood',\n",
              " 'drugs',\n",
              " 'these',\n",
              " 'its',\n",
              " 'acute',\n",
              " 'like',\n",
              " 'potassium',\n",
              " 'had',\n",
              " 'skin',\n",
              " 'can',\n",
              " 'but',\n",
              " 'significant',\n",
              " 'has',\n",
              " 'anti',\n",
              " 'used',\n",
              " 'use',\n",
              " 'disorders',\n",
              " 'behavior',\n",
              " 'which',\n",
              " 'dose',\n",
              " '(',\n",
              " ')',\n",
              " 'voltaren',\n",
              " 'syndrome',\n",
              " 'also',\n",
              " 'placebo',\n",
              " 'do',\n",
              " 'results',\n",
              " 'glutenfree',\n",
              " 'one',\n",
              " '-',\n",
              " 'what',\n",
              " 'nt',\n",
              " 's',\n",
              " 'oral',\n",
              " 'sleeplessness',\n",
              " 'efficacy',\n",
              " 'diseases',\n",
              " 'there',\n",
              " 'celiac',\n",
              " 'ds',\n",
              " 'days',\n",
              " 'feeling',\n",
              " 'treated',\n",
              " 'may',\n",
              " 'now',\n",
              " 'm',\n",
              " 'concentration',\n",
              " 'when',\n",
              " 'got',\n",
              " 'w',\n",
              " 'finding',\n",
              " 'different',\n",
              " 'test',\n",
              " 'been',\n",
              " 'topical',\n",
              " 'showed',\n",
              " 'sleep',\n",
              " 'ml',\n",
              " 'administration',\n",
              " 'disturbance',\n",
              " 'insomnia',\n",
              " 'somnolence',\n",
              " 'products',\n",
              " 'non',\n",
              " 'high',\n",
              " 'how',\n",
              " 'rats',\n",
              " 'right',\n",
              " 'c',\n",
              " 'energy',\n",
              " 'other',\n",
              " 'food',\n",
              " 'studies',\n",
              " 'control',\n",
              " 'if',\n",
              " 'clinical',\n",
              " 'via',\n",
              " 'their',\n",
              " 'so',\n",
              " 'acid',\n",
              " 'induced',\n",
              " 'could',\n",
              " 'during',\n",
              " 'hours',\n",
              " 'body',\n",
              " 'post',\n",
              " 'well',\n",
              " 'found',\n",
              " 'into',\n",
              " 'rate',\n",
              " 'mean',\n",
              " 'diet',\n",
              " 'nsaids',\n",
              " 'who',\n",
              " 'did',\n",
              " 'muscle',\n",
              " 'plasma',\n",
              " 'mental',\n",
              " 'respectively',\n",
              " 'effective',\n",
              " 'state',\n",
              " 'nausea',\n",
              " 'formulations',\n",
              " 'formulation',\n",
              " 'swelling',\n",
              " 'depression',\n",
              " 'gain',\n",
              " 'feel',\n",
              " 'over',\n",
              " 'appetite',\n",
              " 'first',\n",
              " 'method',\n",
              " 'tablets',\n",
              " 'low',\n",
              " 'review',\n",
              " 'ph',\n",
              " 'g',\n",
              " 'observed',\n",
              " 'gel',\n",
              " 'received',\n",
              " 'kg',\n",
              " 'solution',\n",
              " 'those',\n",
              " 'tip',\n",
              " 'd',\n",
              " 'n',\n",
              " 'conditions',\n",
              " 'three',\n",
              " 'heart',\n",
              " 'renal',\n",
              " 'vitro',\n",
              " 'each',\n",
              " 'only',\n",
              " 'reaction',\n",
              " 'system',\n",
              " 'hyperactive',\n",
              " 'irritable',\n",
              " 'analysis',\n",
              " 'cell',\n",
              " 'excitability',\n",
              " 'analgesic',\n",
              " 'activity',\n",
              " 'less',\n",
              " 'adverse',\n",
              " 'awake',\n",
              " 'controlled',\n",
              " 'gastrointestinal',\n",
              " 'serum',\n",
              " 'atorvastatin',\n",
              " 'total',\n",
              " 'daily',\n",
              " 'week',\n",
              " 'attention',\n",
              " 'feelings',\n",
              " 'lower',\n",
              " 'weeks',\n",
              " 'eye',\n",
              " 'level',\n",
              " 'get',\n",
              " 'good',\n",
              " 'ca',\n",
              " 'ceiling',\n",
              " 'single',\n",
              " 'data',\n",
              " 'levels',\n",
              " 'patient',\n",
              " 'dizziness',\n",
              " 'most',\n",
              " 'dblclick',\n",
              " 'period',\n",
              " 'panic',\n",
              " 'following',\n",
              " 'liver',\n",
              " 'pic',\n",
              " 'evaluated',\n",
              " 'concentrations',\n",
              " 'however',\n",
              " 'loss',\n",
              " 'allergic',\n",
              " 'randomized',\n",
              " 'drowsiness',\n",
              " 't',\n",
              " 'they',\n",
              " 'application',\n",
              " 'model',\n",
              " 'some',\n",
              " 'headache',\n",
              " 'rash',\n",
              " 'why',\n",
              " 'here',\n",
              " 'joint',\n",
              " 'tablet',\n",
              " 'before',\n",
              " 'will',\n",
              " 'site',\n",
              " 'function',\n",
              " 'surgery',\n",
              " 'therapy',\n",
              " 'inflammation',\n",
              " 'need',\n",
              " 'any',\n",
              " 'depressed',\n",
              " 'water',\n",
              " 'double',\n",
              " 'higher',\n",
              " 'life',\n",
              " 'difference',\n",
              " 'similar',\n",
              " 'obtained',\n",
              " 'l',\n",
              " 'change',\n",
              " 'check',\n",
              " 'chronic',\n",
              " 'postoperative',\n",
              " 'dissolution',\n",
              " 'infection',\n",
              " 'years',\n",
              " 'reduced',\n",
              " 'initial',\n",
              " 'cells',\n",
              " 'arthritis',\n",
              " 'nsaid',\n",
              " 'should',\n",
              " 'does',\n",
              " 'based',\n",
              " 'relief',\n",
              " 'know',\n",
              " 'under',\n",
              " 'b',\n",
              " 'combination',\n",
              " 'associated',\n",
              " 'swings',\n",
              " 'healthy',\n",
              " 'increase',\n",
              " 'changes',\n",
              " 'brain',\n",
              " 'just',\n",
              " 'migraine',\n",
              " 'present',\n",
              " '#',\n",
              " 'injury',\n",
              " 'bone',\n",
              " 'bipolar',\n",
              " 'prepared',\n",
              " 'help',\n",
              " 'injection',\n",
              " 'vs',\n",
              " 'better',\n",
              " 'make',\n",
              " 'wakefulness',\n",
              " 'great',\n",
              " 'order',\n",
              " 'love',\n",
              " 'trial',\n",
              " 'such',\n",
              " 'while',\n",
              " 'response',\n",
              " 'being',\n",
              " 'studied',\n",
              " 'differences',\n",
              " \"n't\",\n",
              " 'edema',\n",
              " 'administered',\n",
              " 'gastric',\n",
              " 'due',\n",
              " 'doses',\n",
              " 'pressure',\n",
              " 'fatigue',\n",
              " 'values',\n",
              " 'given',\n",
              " 'gfb',\n",
              " 'blind',\n",
              " 'type',\n",
              " 'min',\n",
              " 'us',\n",
              " 'tissue',\n",
              " 'breast',\n",
              " 'four',\n",
              " 'visual',\n",
              " 'thanks',\n",
              " 'abdominal',\n",
              " 'v',\n",
              " 'corneal',\n",
              " 'eating',\n",
              " 'events',\n",
              " '30',\n",
              " 'nonsteroidal',\n",
              " 'cholesterol',\n",
              " 'containing',\n",
              " 'dreams',\n",
              " 'makes',\n",
              " 'reported',\n",
              " 'subjects',\n",
              " 'very',\n",
              " 'side',\n",
              " 'safety',\n",
              " 'x',\n",
              " 'developed',\n",
              " 'parameters',\n",
              " 'still',\n",
              " 'risk',\n",
              " 'attacks',\n",
              " 'ratio',\n",
              " 'respiratory',\n",
              " 're',\n",
              " 'intolerance',\n",
              " 'investigated',\n",
              " 'through',\n",
              " 'either',\n",
              " 'absorption',\n",
              " 'recipe',\n",
              " 'properties',\n",
              " 'people',\n",
              " 'decrease',\n",
              " 'knee',\n",
              " 'phase',\n",
              " 'assessed',\n",
              " 'without',\n",
              " 'minutes',\n",
              " 'posted',\n",
              " 'delivery',\n",
              " 'show',\n",
              " 'development',\n",
              " 'eat',\n",
              " 'statistically',\n",
              " 'indomethacin',\n",
              " 'mm',\n",
              " 'times',\n",
              " 'active',\n",
              " 'same',\n",
              " 'reduction',\n",
              " 'included',\n",
              " 'compare',\n",
              " 'vivo',\n",
              " 'living',\n",
              " 'performed',\n",
              " 'number',\n",
              " 'action',\n",
              " 'auc',\n",
              " 'dry',\n",
              " 'night',\n",
              " 'samples',\n",
              " 'osteoarthritis',\n",
              " 'best',\n",
              " 'tremor',\n",
              " 'urine',\n",
              " 'within',\n",
              " 'damage',\n",
              " 'applied',\n",
              " 'lipitor',\n",
              " 'taste',\n",
              " 'attack',\n",
              " 'steroidal',\n",
              " 'potential',\n",
              " 'hemorrhage',\n",
              " 'measured',\n",
              " 'size',\n",
              " 'determined',\n",
              " 'sustained',\n",
              " 'k',\n",
              " 'liquid',\n",
              " 'primary',\n",
              " 'therapeutic',\n",
              " 'archives',\n",
              " 'stiffness',\n",
              " 'oa',\n",
              " 'e',\n",
              " 'failure',\n",
              " 'year',\n",
              " 'human',\n",
              " 'death',\n",
              " 'greater',\n",
              " 'local',\n",
              " 'health',\n",
              " 'cardiac',\n",
              " 'going',\n",
              " 'tolerability',\n",
              " 'ng',\n",
              " 'kidney',\n",
              " 'take',\n",
              " 'bioavailability',\n",
              " 'heres',\n",
              " 'ulcer',\n",
              " 'stomach',\n",
              " 'discomfort',\n",
              " 'range',\n",
              " 'jennieo',\n",
              " 'evaluate',\n",
              " 'available',\n",
              " 'scale',\n",
              " 'tired',\n",
              " 'dependent',\n",
              " 'medication',\n",
              " 'eyes',\n",
              " 'carcinoma',\n",
              " 'baseline',\n",
              " 'sleepy',\n",
              " 'sensitivity',\n",
              " 'normal',\n",
              " '\\r \\n ',\n",
              " 'related',\n",
              " 'read',\n",
              " 'because',\n",
              " 'severe',\n",
              " 'rage',\n",
              " 'process',\n",
              " 'many',\n",
              " 'psychotic',\n",
              " 'tips',\n",
              " 'go',\n",
              " 'then',\n",
              " 'scores',\n",
              " 'much',\n",
              " 'deficit',\n",
              " 'male',\n",
              " 'coated',\n",
              " 'think',\n",
              " 'pulmonary',\n",
              " 'tested',\n",
              " 'hour',\n",
              " 'infections',\n",
              " 'na',\n",
              " 'way',\n",
              " 'today',\n",
              " 'revealed',\n",
              " 'demonstrated',\n",
              " 'form',\n",
              " 'area',\n",
              " 'addition',\n",
              " 'treatments',\n",
              " 'aim',\n",
              " 'news',\n",
              " 'multiple',\n",
              " '2',\n",
              " 'ii',\n",
              " 'secondary',\n",
              " 'vomiting',\n",
              " 'temperature',\n",
              " 'middle',\n",
              " 'alone',\n",
              " 'daytime',\n",
              " 'numbness',\n",
              " 'even',\n",
              " 'months',\n",
              " 'matrix',\n",
              " 'safe',\n",
              " 'mice',\n",
              " 'back',\n",
              " 'long',\n",
              " 'wide',\n",
              " 'dosage',\n",
              " 'made',\n",
              " 'super',\n",
              " 'diagnosis',\n",
              " 'end',\n",
              " 'important',\n",
              " 'polymer',\n",
              " '1',\n",
              " 'trials',\n",
              " 'growth',\n",
              " 'suggest',\n",
              " 'big',\n",
              " 'per',\n",
              " 'cox',\n",
              " 'aqueous',\n",
              " 'tolerated',\n",
              " 'down',\n",
              " 'article',\n",
              " 'chicken',\n",
              " 'common',\n",
              " 'prolonged',\n",
              " 'indicated',\n",
              " 'presence',\n",
              " 'follow',\n",
              " 'allergy',\n",
              " 'caused',\n",
              " 'hypertension',\n",
              " 'dermatitis',\n",
              " 'provide',\n",
              " 'cm',\n",
              " 'ocular',\n",
              " 'want',\n",
              " 'intestinal',\n",
              " 'shown',\n",
              " 'followed',\n",
              " 'rheumatoid',\n",
              " 'further',\n",
              " 'sensation',\n",
              " 'improvement',\n",
              " 'exposure',\n",
              " 'sweating',\n",
              " 'intensity',\n",
              " 'randomly',\n",
              " 'volunteers',\n",
              " 'part',\n",
              " 'cd',\n",
              " 'cases',\n",
              " 'ibuprofen',\n",
              " 'asleep',\n",
              " 'early',\n",
              " 'zombie',\n",
              " 'aggravated',\n",
              " 'inhibitor',\n",
              " 'systemic',\n",
              " 'painful',\n",
              " 'permeation',\n",
              " 'u',\n",
              " 'formation',\n",
              " 'cerebral',\n",
              " 'difficulty',\n",
              " 'pizza',\n",
              " 'sleepiness',\n",
              " 'distress',\n",
              " 'six',\n",
              " 'whereas',\n",
              " 'case',\n",
              " 'cause',\n",
              " 'cancer',\n",
              " 'product',\n",
              " 'fluid',\n",
              " 'pharmaceutical',\n",
              " 'onset',\n",
              " 'female',\n",
              " 'content',\n",
              " 'relative',\n",
              " 'facial',\n",
              " 'calcium',\n",
              " 'peak',\n",
              " 'irritation',\n",
              " 'inhibition',\n",
              " 'disturbances',\n",
              " 'age',\n",
              " 'agent',\n",
              " 'quality',\n",
              " 'affect',\n",
              " 'complex',\n",
              " 'protein',\n",
              " 'moderate',\n",
              " 'pre',\n",
              " 'including',\n",
              " 'mechanism',\n",
              " 'various',\n",
              " 'term',\n",
              " 'hallucinations',\n",
              " 'divided',\n",
              " 'localised',\n",
              " 'anemia',\n",
              " 'dysfunction',\n",
              " 'hepatic',\n",
              " 'standard',\n",
              " 'would',\n",
              " 'evaluation',\n",
              " 'experimental',\n",
              " 'research',\n",
              " 'dependence',\n",
              " 'among',\n",
              " 'profile',\n",
              " 'agents',\n",
              " 'every',\n",
              " 'score',\n",
              " 'find',\n",
              " 'alcohol',\n",
              " 'according',\n",
              " 'elevated',\n",
              " 'suicidal',\n",
              " 'profiles',\n",
              " '4',\n",
              " 'cataract',\n",
              " 'anger',\n",
              " 'animals',\n",
              " \"'m\",\n",
              " 'combined',\n",
              " 'care',\n",
              " 'diagnosed',\n",
              " 'toxicity',\n",
              " 'surface',\n",
              " 'happy',\n",
              " 'although',\n",
              " 'f',\n",
              " 'depressive',\n",
              " 'vehicle',\n",
              " 'share',\n",
              " 'pharmacokinetic',\n",
              " '5',\n",
              " 'work',\n",
              " '10',\n",
              " 'least',\n",
              " 'see',\n",
              " 'rapid',\n",
              " 'please',\n",
              " 'resulted',\n",
              " 'determine',\n",
              " '\\r \\n \\r \\n ',\n",
              " 'arrest',\n",
              " 'diabetes',\n",
              " 'necrosis',\n",
              " 'overall',\n",
              " 'old',\n",
              " 'produced',\n",
              " 'th',\n",
              " 'vascular',\n",
              " 'tract',\n",
              " 'production',\n",
              " 'glucose',\n",
              " 'evidence',\n",
              " 'vas',\n",
              " 'creatinine',\n",
              " 'social',\n",
              " 'exhaustion',\n",
              " 'efficiency',\n",
              " 'tooth',\n",
              " 'improved',\n",
              " 'r',\n",
              " 'impairment',\n",
              " 'where',\n",
              " 'o',\n",
              " 'conducted',\n",
              " 'too',\n",
              " 'awareness',\n",
              " 'versus',\n",
              " 'blog',\n",
              " 'month',\n",
              " 'result',\n",
              " 'linked',\n",
              " 'solid',\n",
              " 'membrane',\n",
              " 'ever',\n",
              " 'seizures',\n",
              " 'complete',\n",
              " 'mild',\n",
              " 'microspheres',\n",
              " 'cross',\n",
              " 'simple',\n",
              " 'once',\n",
              " 'dr',\n",
              " 'face',\n",
              " 'density',\n",
              " 'plus',\n",
              " 'enteric',\n",
              " 'rat',\n",
              " 'beads',\n",
              " 'volume',\n",
              " 'urinary',\n",
              " 'amount',\n",
              " 'carried',\n",
              " 'diabetic',\n",
              " 'sensitive',\n",
              " 'preparation',\n",
              " 'comparison',\n",
              " 'lesions',\n",
              " 'bad',\n",
              " 'ci',\n",
              " 'oedema',\n",
              " 'localized',\n",
              " 'small',\n",
              " 'vision',\n",
              " 'cmax',\n",
              " 'patch',\n",
              " 'cookbook',\n",
              " 'degrees',\n",
              " 'performance',\n",
              " 'de',\n",
              " 'last',\n",
              " 'soup',\n",
              " 'fever',\n",
              " 'models',\n",
              " 'chest',\n",
              " 'naproxen',\n",
              " 'participants',\n",
              " 'dizzy',\n",
              " 'pellets',\n",
              " 'current',\n",
              " 'achieved',\n",
              " 'outcome',\n",
              " 'taking',\n",
              " 'misoprostol',\n",
              " 'bite',\n",
              " 'making',\n",
              " 'analgesia',\n",
              " 'am',\n",
              " 'expression',\n",
              " 'recorded',\n",
              " 'episode',\n",
              " 'flow',\n",
              " 'investigate',\n",
              " 'thus',\n",
              " 'flare',\n",
              " 'rofecoxib',\n",
              " 'aspirin',\n",
              " 'degree',\n",
              " 'injuries',\n",
              " 'interactions',\n",
              " 'peripheral',\n",
              " 'physical',\n",
              " 'count',\n",
              " 'global',\n",
              " 'ventricular',\n",
              " 'considered',\n",
              " 'tests',\n",
              " 'nightmares',\n",
              " 'major',\n",
              " 'whole',\n",
              " 'medical',\n",
              " 'emotional',\n",
              " 'children',\n",
              " 'getting',\n",
              " 'diffusion',\n",
              " 'possible',\n",
              " 'compulsive',\n",
              " 'against',\n",
              " 'technique',\n",
              " 'nervous',\n",
              " 'five',\n",
              " 'maximum',\n",
              " 'cream',\n",
              " 'commercial',\n",
              " 'gf',\n",
              " '2014',\n",
              " 'foot',\n",
              " 'duration',\n",
              " 'methods',\n",
              " 'uterine',\n",
              " 'cold',\n",
              " 'indicate',\n",
              " 'depersonalization',\n",
              " 'asthma',\n",
              " 'assessment',\n",
              " 'positive',\n",
              " 'phosphate',\n",
              " 'erythema',\n",
              " 'determination',\n",
              " 'reference',\n",
              " 'third',\n",
              " 'microg',\n",
              " 'needed',\n",
              " 'tolerance',\n",
              " 'receiving',\n",
              " 'adderall',\n",
              " 'cardiovascular',\n",
              " 'easy',\n",
              " 'vivid',\n",
              " 'value',\n",
              " 'comparable',\n",
              " 'novel',\n",
              " 'delayed',\n",
              " 'saline',\n",
              " 'lack',\n",
              " 'design',\n",
              " 'co',\n",
              " 'issues',\n",
              " 'wheat',\n",
              " 'pruritus',\n",
              " 'provided',\n",
              " 'memory',\n",
              " 'inhibited',\n",
              " 'findings',\n",
              " 'increasing',\n",
              " 'superior',\n",
              " 'since',\n",
              " 'next',\n",
              " 'specific',\n",
              " 'autographed',\n",
              " 'medium',\n",
              " 'rates',\n",
              " 'enzyme',\n",
              " 'second',\n",
              " 'fracture',\n",
              " 'neoplasm',\n",
              " 'alternative',\n",
              " 'top',\n",
              " 'women',\n",
              " 'might',\n",
              " 'paracetamol',\n",
              " 'twice',\n",
              " 'hurt',\n",
              " 'others',\n",
              " 'spasm',\n",
              " 'malignant',\n",
              " 'short',\n",
              " 'responses',\n",
              " 'upper',\n",
              " 'incidence',\n",
              " 'beta',\n",
              " 'dic',\n",
              " 'stress',\n",
              " 'examined',\n",
              " 'influence',\n",
              " 'intramuscular',\n",
              " 'crazy',\n",
              " 'characterized',\n",
              " 'friends',\n",
              " 'whether',\n",
              " 'interaction',\n",
              " 'loaded',\n",
              " 'index',\n",
              " 'central',\n",
              " 'preparations',\n",
              " 'eudragit',\n",
              " 'abuse',\n",
              " 'characteristics',\n",
              " 'hunger',\n",
              " 'synthesis',\n",
              " 'off',\n",
              " 'extent',\n",
              " 'detection',\n",
              " 'terms',\n",
              " 'them',\n",
              " 'general',\n",
              " 'cramps',\n",
              " 'looking',\n",
              " 'story',\n",
              " 'forms',\n",
              " 'prostaglandin',\n",
              " 'inhibitors',\n",
              " 'lung',\n",
              " 'fractures',\n",
              " 'highly',\n",
              " 'withdrawals',\n",
              " 'nauseous',\n",
              " 'few',\n",
              " 'released',\n",
              " 'medications',\n",
              " 'drops',\n",
              " 'therefore',\n",
              " 'media',\n",
              " 'bread',\n",
              " 'really',\n",
              " 'solubility',\n",
              " 'ache',\n",
              " 'clinically',\n",
              " 'open',\n",
              " 'il',\n",
              " 'treat',\n",
              " 'block',\n",
              " 'try',\n",
              " 'tongue',\n",
              " 'tissues',\n",
              " 'candidiasis',\n",
              " '6',\n",
              " 'partial',\n",
              " 'transdermal',\n",
              " 'clearance',\n",
              " 'mass',\n",
              " 'additional',\n",
              " 'hungry',\n",
              " 'management',\n",
              " 'sexual',\n",
              " 'analgesics',\n",
              " 'head',\n",
              " 'gi',\n",
              " 'hip',\n",
              " 'foods',\n",
              " 'buffer',\n",
              " 'intoxication',\n",
              " 'another',\n",
              " 'problems',\n",
              " 'event',\n",
              " 'analyzed',\n",
              " 'thinking',\n",
              " 'assess',\n",
              " 'always',\n",
              " 'thank',\n",
              " 'alpha',\n",
              " 'bleeding',\n",
              " 'having',\n",
              " 'own',\n",
              " 'antiinflammatory',\n",
              " 'fear',\n",
              " 'several',\n",
              " 'delicious',\n",
              " 'serious',\n",
              " 'drowsy',\n",
              " 'genital',\n",
              " 'hplc',\n",
              " 'hand',\n",
              " 'point',\n",
              " 'learn',\n",
              " 'able',\n",
              " 'ability',\n",
              " 'euphoric',\n",
              " 'consciousness',\n",
              " 'away',\n",
              " 'cutaneous',\n",
              " 'enhanced',\n",
              " 'obsessive',\n",
              " 'orally',\n",
              " 'musculoskeletal',\n",
              " 'rabbits',\n",
              " 'nerve',\n",
              " 'capsules',\n",
              " 'known',\n",
              " 'chocolate',\n",
              " 'max',\n",
              " 'giveaway',\n",
              " 'support',\n",
              " 'lesion',\n",
              " 'laser',\n",
              " 'solutions',\n",
              " 'aged',\n",
              " 'bulimia',\n",
              " 'little',\n",
              " 'examination',\n",
              " 'chitosan',\n",
              " 'exhibited',\n",
              " 'extraction',\n",
              " 'book',\n",
              " 'dpsgc',\n",
              " 'shoulder',\n",
              " 'percentage',\n",
              " 'market',\n",
              " ...]"
            ]
          },
          "metadata": {
            "tags": []
          },
          "execution_count": 18
        }
      ]
    },
    {
      "cell_type": "code",
      "metadata": {
        "id": "yPWr03mls3VT",
        "outputId": "f6b5c4e7-6261-45f7-feb8-ad830786a88b",
        "colab": {
          "base_uri": "https://localhost:8080/",
          "height": 17
        }
      },
      "source": [
        "model_path = path/'models'\n",
        "model_path.mkdir(exist_ok=True)\n",
        "url = 'http://files.fast.ai/models/wt103_v1/'\n",
        "download_url(f'{url}lstm_wt103.pth', model_path/'lstm_wt103.pth')\n",
        "download_url(f'{url}itos_wt103.pkl', model_path/'itos_wt103.pkl')"
      ],
      "execution_count": 19,
      "outputs": [
        {
          "output_type": "display_data",
          "data": {
            "text/html": [
              ""
            ],
            "text/plain": [
              "<IPython.core.display.HTML object>"
            ]
          },
          "metadata": {
            "tags": []
          }
        },
        {
          "output_type": "display_data",
          "data": {
            "text/html": [
              ""
            ],
            "text/plain": [
              "<IPython.core.display.HTML object>"
            ]
          },
          "metadata": {
            "tags": []
          }
        }
      ]
    },
    {
      "cell_type": "code",
      "metadata": {
        "id": "JRzvWg8RtGGr",
        "outputId": "4e3ebdb1-710b-4fbe-c2b7-f190c28324c2",
        "colab": {
          "base_uri": "https://localhost:8080/",
          "height": 34
        }
      },
      "source": [
        "learn = language_model_learner(data_lm, AWD_LSTM, drop_mult=0.5)"
      ],
      "execution_count": 20,
      "outputs": [
        {
          "output_type": "stream",
          "text": [
            "Downloading https://s3.amazonaws.com/fast-ai-modelzoo/wt103-fwd.tgz\n"
          ],
          "name": "stdout"
        },
        {
          "output_type": "display_data",
          "data": {
            "text/html": [
              ""
            ],
            "text/plain": [
              "<IPython.core.display.HTML object>"
            ]
          },
          "metadata": {
            "tags": []
          }
        }
      ]
    },
    {
      "cell_type": "code",
      "metadata": {
        "id": "xKK7GeBev7Xn",
        "outputId": "099e9f24-b4af-4f40-9eaa-66a4f25362b3",
        "colab": {
          "base_uri": "https://localhost:8080/",
          "height": 80
        }
      },
      "source": [
        "learn.fit_one_cycle(1, 1e-2)"
      ],
      "execution_count": 21,
      "outputs": [
        {
          "output_type": "display_data",
          "data": {
            "text/html": [
              "<table border=\"1\" class=\"dataframe\">\n",
              "  <thead>\n",
              "    <tr style=\"text-align: left;\">\n",
              "      <th>epoch</th>\n",
              "      <th>train_loss</th>\n",
              "      <th>valid_loss</th>\n",
              "      <th>accuracy</th>\n",
              "      <th>time</th>\n",
              "    </tr>\n",
              "  </thead>\n",
              "  <tbody>\n",
              "    <tr>\n",
              "      <td>0</td>\n",
              "      <td>4.726703</td>\n",
              "      <td>4.194494</td>\n",
              "      <td>0.343148</td>\n",
              "      <td>1:15:10</td>\n",
              "    </tr>\n",
              "  </tbody>\n",
              "</table>"
            ],
            "text/plain": [
              "<IPython.core.display.HTML object>"
            ]
          },
          "metadata": {
            "tags": []
          }
        }
      ]
    },
    {
      "cell_type": "code",
      "metadata": {
        "id": "iB7rHGQCwd12",
        "outputId": "983aa820-af58-4bae-834e-9e40b469ba08",
        "colab": {
          "base_uri": "https://localhost:8080/",
          "height": 80
        }
      },
      "source": [
        "learn.fit_one_cycle(1, 1e-2)"
      ],
      "execution_count": 22,
      "outputs": [
        {
          "output_type": "display_data",
          "data": {
            "text/html": [
              "<table border=\"1\" class=\"dataframe\">\n",
              "  <thead>\n",
              "    <tr style=\"text-align: left;\">\n",
              "      <th>epoch</th>\n",
              "      <th>train_loss</th>\n",
              "      <th>valid_loss</th>\n",
              "      <th>accuracy</th>\n",
              "      <th>time</th>\n",
              "    </tr>\n",
              "  </thead>\n",
              "  <tbody>\n",
              "    <tr>\n",
              "      <td>0</td>\n",
              "      <td>4.003324</td>\n",
              "      <td>3.816207</td>\n",
              "      <td>0.380513</td>\n",
              "      <td>1:14:43</td>\n",
              "    </tr>\n",
              "  </tbody>\n",
              "</table>"
            ],
            "text/plain": [
              "<IPython.core.display.HTML object>"
            ]
          },
          "metadata": {
            "tags": []
          }
        }
      ]
    },
    {
      "cell_type": "code",
      "metadata": {
        "id": "_BnSuAeCwkBe",
        "outputId": "9a5fc953-b6cd-4ad5-ca85-0f616994de08",
        "colab": {
          "base_uri": "https://localhost:8080/",
          "height": 80
        }
      },
      "source": [
        "learn.fit_one_cycle(1, 1e-3)"
      ],
      "execution_count": 23,
      "outputs": [
        {
          "output_type": "display_data",
          "data": {
            "text/html": [
              "<table border=\"1\" class=\"dataframe\">\n",
              "  <thead>\n",
              "    <tr style=\"text-align: left;\">\n",
              "      <th>epoch</th>\n",
              "      <th>train_loss</th>\n",
              "      <th>valid_loss</th>\n",
              "      <th>accuracy</th>\n",
              "      <th>time</th>\n",
              "    </tr>\n",
              "  </thead>\n",
              "  <tbody>\n",
              "    <tr>\n",
              "      <td>0</td>\n",
              "      <td>3.724950</td>\n",
              "      <td>3.771615</td>\n",
              "      <td>0.384625</td>\n",
              "      <td>1:15:08</td>\n",
              "    </tr>\n",
              "  </tbody>\n",
              "</table>"
            ],
            "text/plain": [
              "<IPython.core.display.HTML object>"
            ]
          },
          "metadata": {
            "tags": []
          }
        }
      ]
    },
    {
      "cell_type": "code",
      "metadata": {
        "id": "MuTm-RFjwrEX",
        "outputId": "162e2ae7-10e0-4bf3-df0d-407ed7e565b8",
        "colab": {
          "base_uri": "https://localhost:8080/",
          "height": 80
        }
      },
      "source": [
        "learn.fit_one_cycle(1, 1e-3)"
      ],
      "execution_count": 24,
      "outputs": [
        {
          "output_type": "display_data",
          "data": {
            "text/html": [
              "<table border=\"1\" class=\"dataframe\">\n",
              "  <thead>\n",
              "    <tr style=\"text-align: left;\">\n",
              "      <th>epoch</th>\n",
              "      <th>train_loss</th>\n",
              "      <th>valid_loss</th>\n",
              "      <th>accuracy</th>\n",
              "      <th>time</th>\n",
              "    </tr>\n",
              "  </thead>\n",
              "  <tbody>\n",
              "    <tr>\n",
              "      <td>0</td>\n",
              "      <td>3.678327</td>\n",
              "      <td>3.738435</td>\n",
              "      <td>0.388379</td>\n",
              "      <td>1:14:41</td>\n",
              "    </tr>\n",
              "  </tbody>\n",
              "</table>"
            ],
            "text/plain": [
              "<IPython.core.display.HTML object>"
            ]
          },
          "metadata": {
            "tags": []
          }
        }
      ]
    },
    {
      "cell_type": "code",
      "metadata": {
        "id": "1Er2ExO8wr7Y"
      },
      "source": [
        "learn.save_encoder('mixed_pubmed_bigtweet_twadr_fold10overlap_first')"
      ],
      "execution_count": 25,
      "outputs": []
    },
    {
      "cell_type": "code",
      "metadata": {
        "id": "z52cZs2qwvad",
        "outputId": "5689af2d-7688-46d8-a7d4-d2c5b3c474bc",
        "colab": {
          "base_uri": "https://localhost:8080/",
          "height": 80
        }
      },
      "source": [
        "learn = text_classifier_learner(data_clas,AWD_LSTM, drop_mult=0.5)\n",
        "learn.load_encoder('mixed_pubmed_bigtweet_twadr_fold10overlap_first')\n",
        "learn.fit_one_cycle(1, 1e-2)"
      ],
      "execution_count": 26,
      "outputs": [
        {
          "output_type": "display_data",
          "data": {
            "text/html": [
              "<table border=\"1\" class=\"dataframe\">\n",
              "  <thead>\n",
              "    <tr style=\"text-align: left;\">\n",
              "      <th>epoch</th>\n",
              "      <th>train_loss</th>\n",
              "      <th>valid_loss</th>\n",
              "      <th>accuracy</th>\n",
              "      <th>time</th>\n",
              "    </tr>\n",
              "  </thead>\n",
              "  <tbody>\n",
              "    <tr>\n",
              "      <td>0</td>\n",
              "      <td>7.108578</td>\n",
              "      <td>6.305190</td>\n",
              "      <td>0.052174</td>\n",
              "      <td>01:13</td>\n",
              "    </tr>\n",
              "  </tbody>\n",
              "</table>"
            ],
            "text/plain": [
              "<IPython.core.display.HTML object>"
            ]
          },
          "metadata": {
            "tags": []
          }
        }
      ]
    },
    {
      "cell_type": "code",
      "metadata": {
        "id": "ImwQP1PJwzxd",
        "outputId": "a655d298-9304-4b20-99d4-7e1469e8b610",
        "colab": {
          "base_uri": "https://localhost:8080/",
          "height": 80
        }
      },
      "source": [
        "learn.freeze_to(-2)\n",
        "learn.fit_one_cycle(1, slice(5e-3/2., 5e-3))"
      ],
      "execution_count": 27,
      "outputs": [
        {
          "output_type": "display_data",
          "data": {
            "text/html": [
              "<table border=\"1\" class=\"dataframe\">\n",
              "  <thead>\n",
              "    <tr style=\"text-align: left;\">\n",
              "      <th>epoch</th>\n",
              "      <th>train_loss</th>\n",
              "      <th>valid_loss</th>\n",
              "      <th>accuracy</th>\n",
              "      <th>time</th>\n",
              "    </tr>\n",
              "  </thead>\n",
              "  <tbody>\n",
              "    <tr>\n",
              "      <td>0</td>\n",
              "      <td>6.164699</td>\n",
              "      <td>5.073302</td>\n",
              "      <td>0.121739</td>\n",
              "      <td>01:26</td>\n",
              "    </tr>\n",
              "  </tbody>\n",
              "</table>"
            ],
            "text/plain": [
              "<IPython.core.display.HTML object>"
            ]
          },
          "metadata": {
            "tags": []
          }
        }
      ]
    },
    {
      "cell_type": "code",
      "metadata": {
        "id": "Owff_BJXw53u",
        "outputId": "e36ca10a-3deb-4bcf-eaf4-3c5293f40f71",
        "colab": {
          "base_uri": "https://localhost:8080/",
          "height": 80
        }
      },
      "source": [
        "learn.unfreeze()\n",
        "learn.fit_one_cycle(1, slice(2e-3/100, 2e-3))"
      ],
      "execution_count": 28,
      "outputs": [
        {
          "output_type": "display_data",
          "data": {
            "text/html": [
              "<table border=\"1\" class=\"dataframe\">\n",
              "  <thead>\n",
              "    <tr style=\"text-align: left;\">\n",
              "      <th>epoch</th>\n",
              "      <th>train_loss</th>\n",
              "      <th>valid_loss</th>\n",
              "      <th>accuracy</th>\n",
              "      <th>time</th>\n",
              "    </tr>\n",
              "  </thead>\n",
              "  <tbody>\n",
              "    <tr>\n",
              "      <td>0</td>\n",
              "      <td>5.668601</td>\n",
              "      <td>4.823487</td>\n",
              "      <td>0.208696</td>\n",
              "      <td>03:01</td>\n",
              "    </tr>\n",
              "  </tbody>\n",
              "</table>"
            ],
            "text/plain": [
              "<IPython.core.display.HTML object>"
            ]
          },
          "metadata": {
            "tags": []
          }
        }
      ]
    },
    {
      "cell_type": "code",
      "metadata": {
        "id": "lqAyu56V8Waq",
        "outputId": "cfb3f25f-b81b-41b6-e5a3-205367f80940",
        "colab": {
          "base_uri": "https://localhost:8080/",
          "height": 111
        }
      },
      "source": [
        "learn.fit_one_cycle(2, slice(2e-3/100, 2e-3))"
      ],
      "execution_count": 29,
      "outputs": [
        {
          "output_type": "display_data",
          "data": {
            "text/html": [
              "<table border=\"1\" class=\"dataframe\">\n",
              "  <thead>\n",
              "    <tr style=\"text-align: left;\">\n",
              "      <th>epoch</th>\n",
              "      <th>train_loss</th>\n",
              "      <th>valid_loss</th>\n",
              "      <th>accuracy</th>\n",
              "      <th>time</th>\n",
              "    </tr>\n",
              "  </thead>\n",
              "  <tbody>\n",
              "    <tr>\n",
              "      <td>0</td>\n",
              "      <td>5.410952</td>\n",
              "      <td>4.506453</td>\n",
              "      <td>0.173913</td>\n",
              "      <td>03:24</td>\n",
              "    </tr>\n",
              "    <tr>\n",
              "      <td>1</td>\n",
              "      <td>5.174483</td>\n",
              "      <td>4.331445</td>\n",
              "      <td>0.208696</td>\n",
              "      <td>03:08</td>\n",
              "    </tr>\n",
              "  </tbody>\n",
              "</table>"
            ],
            "text/plain": [
              "<IPython.core.display.HTML object>"
            ]
          },
          "metadata": {
            "tags": []
          }
        }
      ]
    },
    {
      "cell_type": "code",
      "metadata": {
        "id": "a7I1xMRp8bUd",
        "outputId": "571ff547-9045-4879-fe31-65ee69072d7b",
        "colab": {
          "base_uri": "https://localhost:8080/",
          "height": 111
        }
      },
      "source": [
        "learn.fit_one_cycle(2, slice(2e-3/100, 2e-3))"
      ],
      "execution_count": 30,
      "outputs": [
        {
          "output_type": "display_data",
          "data": {
            "text/html": [
              "<table border=\"1\" class=\"dataframe\">\n",
              "  <thead>\n",
              "    <tr style=\"text-align: left;\">\n",
              "      <th>epoch</th>\n",
              "      <th>train_loss</th>\n",
              "      <th>valid_loss</th>\n",
              "      <th>accuracy</th>\n",
              "      <th>time</th>\n",
              "    </tr>\n",
              "  </thead>\n",
              "  <tbody>\n",
              "    <tr>\n",
              "      <td>0</td>\n",
              "      <td>4.918573</td>\n",
              "      <td>4.120849</td>\n",
              "      <td>0.226087</td>\n",
              "      <td>03:20</td>\n",
              "    </tr>\n",
              "    <tr>\n",
              "      <td>1</td>\n",
              "      <td>4.730400</td>\n",
              "      <td>3.965528</td>\n",
              "      <td>0.260870</td>\n",
              "      <td>03:08</td>\n",
              "    </tr>\n",
              "  </tbody>\n",
              "</table>"
            ],
            "text/plain": [
              "<IPython.core.display.HTML object>"
            ]
          },
          "metadata": {
            "tags": []
          }
        }
      ]
    },
    {
      "cell_type": "code",
      "metadata": {
        "id": "UAnti-XmGVfO",
        "outputId": "7c0c4f12-533f-4af3-bf85-1c09005516e5",
        "colab": {
          "base_uri": "https://localhost:8080/",
          "height": 111
        }
      },
      "source": [
        "learn.fit_one_cycle(2, slice(2e-3/100, 2e-3))"
      ],
      "execution_count": 31,
      "outputs": [
        {
          "output_type": "display_data",
          "data": {
            "text/html": [
              "<table border=\"1\" class=\"dataframe\">\n",
              "  <thead>\n",
              "    <tr style=\"text-align: left;\">\n",
              "      <th>epoch</th>\n",
              "      <th>train_loss</th>\n",
              "      <th>valid_loss</th>\n",
              "      <th>accuracy</th>\n",
              "      <th>time</th>\n",
              "    </tr>\n",
              "  </thead>\n",
              "  <tbody>\n",
              "    <tr>\n",
              "      <td>0</td>\n",
              "      <td>4.515264</td>\n",
              "      <td>3.703464</td>\n",
              "      <td>0.313043</td>\n",
              "      <td>03:21</td>\n",
              "    </tr>\n",
              "    <tr>\n",
              "      <td>1</td>\n",
              "      <td>4.335356</td>\n",
              "      <td>3.672715</td>\n",
              "      <td>0.330435</td>\n",
              "      <td>03:02</td>\n",
              "    </tr>\n",
              "  </tbody>\n",
              "</table>"
            ],
            "text/plain": [
              "<IPython.core.display.HTML object>"
            ]
          },
          "metadata": {
            "tags": []
          }
        }
      ]
    },
    {
      "cell_type": "code",
      "metadata": {
        "id": "bIft7W25GwSu",
        "outputId": "98c914ed-c30e-4888-9002-4caae9a49fa0",
        "colab": {
          "base_uri": "https://localhost:8080/",
          "height": 111
        }
      },
      "source": [
        "learn.fit_one_cycle(2, slice(2e-3/100, 2e-3))"
      ],
      "execution_count": 32,
      "outputs": [
        {
          "output_type": "display_data",
          "data": {
            "text/html": [
              "<table border=\"1\" class=\"dataframe\">\n",
              "  <thead>\n",
              "    <tr style=\"text-align: left;\">\n",
              "      <th>epoch</th>\n",
              "      <th>train_loss</th>\n",
              "      <th>valid_loss</th>\n",
              "      <th>accuracy</th>\n",
              "      <th>time</th>\n",
              "    </tr>\n",
              "  </thead>\n",
              "  <tbody>\n",
              "    <tr>\n",
              "      <td>0</td>\n",
              "      <td>4.133560</td>\n",
              "      <td>3.605760</td>\n",
              "      <td>0.295652</td>\n",
              "      <td>03:05</td>\n",
              "    </tr>\n",
              "    <tr>\n",
              "      <td>1</td>\n",
              "      <td>4.017541</td>\n",
              "      <td>3.566639</td>\n",
              "      <td>0.313043</td>\n",
              "      <td>03:18</td>\n",
              "    </tr>\n",
              "  </tbody>\n",
              "</table>"
            ],
            "text/plain": [
              "<IPython.core.display.HTML object>"
            ]
          },
          "metadata": {
            "tags": []
          }
        }
      ]
    },
    {
      "cell_type": "code",
      "metadata": {
        "id": "EEHszVRvGyFt",
        "outputId": "336f57bc-954e-4349-848e-7add383a7db8",
        "colab": {
          "base_uri": "https://localhost:8080/",
          "height": 111
        }
      },
      "source": [
        "learn.fit_one_cycle(2, slice(2e-3/100, 2e-3))"
      ],
      "execution_count": 33,
      "outputs": [
        {
          "output_type": "display_data",
          "data": {
            "text/html": [
              "<table border=\"1\" class=\"dataframe\">\n",
              "  <thead>\n",
              "    <tr style=\"text-align: left;\">\n",
              "      <th>epoch</th>\n",
              "      <th>train_loss</th>\n",
              "      <th>valid_loss</th>\n",
              "      <th>accuracy</th>\n",
              "      <th>time</th>\n",
              "    </tr>\n",
              "  </thead>\n",
              "  <tbody>\n",
              "    <tr>\n",
              "      <td>0</td>\n",
              "      <td>3.815106</td>\n",
              "      <td>3.514779</td>\n",
              "      <td>0.347826</td>\n",
              "      <td>03:03</td>\n",
              "    </tr>\n",
              "    <tr>\n",
              "      <td>1</td>\n",
              "      <td>3.696475</td>\n",
              "      <td>3.491458</td>\n",
              "      <td>0.330435</td>\n",
              "      <td>03:11</td>\n",
              "    </tr>\n",
              "  </tbody>\n",
              "</table>"
            ],
            "text/plain": [
              "<IPython.core.display.HTML object>"
            ]
          },
          "metadata": {
            "tags": []
          }
        }
      ]
    },
    {
      "cell_type": "code",
      "metadata": {
        "id": "XsHfrhCHG3dN",
        "outputId": "daabe17b-57c7-403a-c4b1-9e8b1ef8fd44",
        "colab": {
          "base_uri": "https://localhost:8080/",
          "height": 173
        }
      },
      "source": [
        "learn.fit_one_cycle(4, slice(2e-3/100, 2e-3))"
      ],
      "execution_count": 34,
      "outputs": [
        {
          "output_type": "display_data",
          "data": {
            "text/html": [
              "<table border=\"1\" class=\"dataframe\">\n",
              "  <thead>\n",
              "    <tr style=\"text-align: left;\">\n",
              "      <th>epoch</th>\n",
              "      <th>train_loss</th>\n",
              "      <th>valid_loss</th>\n",
              "      <th>accuracy</th>\n",
              "      <th>time</th>\n",
              "    </tr>\n",
              "  </thead>\n",
              "  <tbody>\n",
              "    <tr>\n",
              "      <td>0</td>\n",
              "      <td>3.506951</td>\n",
              "      <td>3.336004</td>\n",
              "      <td>0.373913</td>\n",
              "      <td>03:13</td>\n",
              "    </tr>\n",
              "    <tr>\n",
              "      <td>1</td>\n",
              "      <td>3.409963</td>\n",
              "      <td>3.433961</td>\n",
              "      <td>0.382609</td>\n",
              "      <td>03:07</td>\n",
              "    </tr>\n",
              "    <tr>\n",
              "      <td>2</td>\n",
              "      <td>3.237423</td>\n",
              "      <td>3.297497</td>\n",
              "      <td>0.391304</td>\n",
              "      <td>03:16</td>\n",
              "    </tr>\n",
              "    <tr>\n",
              "      <td>3</td>\n",
              "      <td>3.081504</td>\n",
              "      <td>3.299732</td>\n",
              "      <td>0.373913</td>\n",
              "      <td>03:03</td>\n",
              "    </tr>\n",
              "  </tbody>\n",
              "</table>"
            ],
            "text/plain": [
              "<IPython.core.display.HTML object>"
            ]
          },
          "metadata": {
            "tags": []
          }
        }
      ]
    },
    {
      "cell_type": "code",
      "metadata": {
        "id": "0Zsd99isb9EQ",
        "outputId": "d7704569-cdfd-4a43-b6b4-22bf2b230c74",
        "colab": {
          "base_uri": "https://localhost:8080/",
          "height": 173
        }
      },
      "source": [
        "learn.fit_one_cycle(4, slice(2e-3/100, 2e-3))"
      ],
      "execution_count": 35,
      "outputs": [
        {
          "output_type": "display_data",
          "data": {
            "text/html": [
              "<table border=\"1\" class=\"dataframe\">\n",
              "  <thead>\n",
              "    <tr style=\"text-align: left;\">\n",
              "      <th>epoch</th>\n",
              "      <th>train_loss</th>\n",
              "      <th>valid_loss</th>\n",
              "      <th>accuracy</th>\n",
              "      <th>time</th>\n",
              "    </tr>\n",
              "  </thead>\n",
              "  <tbody>\n",
              "    <tr>\n",
              "      <td>0</td>\n",
              "      <td>2.900782</td>\n",
              "      <td>3.249296</td>\n",
              "      <td>0.391304</td>\n",
              "      <td>03:10</td>\n",
              "    </tr>\n",
              "    <tr>\n",
              "      <td>1</td>\n",
              "      <td>2.837756</td>\n",
              "      <td>3.285978</td>\n",
              "      <td>0.400000</td>\n",
              "      <td>03:24</td>\n",
              "    </tr>\n",
              "    <tr>\n",
              "      <td>2</td>\n",
              "      <td>2.682330</td>\n",
              "      <td>3.272638</td>\n",
              "      <td>0.417391</td>\n",
              "      <td>03:07</td>\n",
              "    </tr>\n",
              "    <tr>\n",
              "      <td>3</td>\n",
              "      <td>2.498848</td>\n",
              "      <td>3.251674</td>\n",
              "      <td>0.408696</td>\n",
              "      <td>03:18</td>\n",
              "    </tr>\n",
              "  </tbody>\n",
              "</table>"
            ],
            "text/plain": [
              "<IPython.core.display.HTML object>"
            ]
          },
          "metadata": {
            "tags": []
          }
        }
      ]
    },
    {
      "cell_type": "code",
      "metadata": {
        "id": "atNWNKDFPbuI",
        "outputId": "2b045003-f81b-4f45-fe2e-312949bdbf91",
        "colab": {
          "base_uri": "https://localhost:8080/",
          "height": 173
        }
      },
      "source": [
        "learn.fit_one_cycle(4, slice(2e-3/100, 2e-3))"
      ],
      "execution_count": 36,
      "outputs": [
        {
          "output_type": "display_data",
          "data": {
            "text/html": [
              "<table border=\"1\" class=\"dataframe\">\n",
              "  <thead>\n",
              "    <tr style=\"text-align: left;\">\n",
              "      <th>epoch</th>\n",
              "      <th>train_loss</th>\n",
              "      <th>valid_loss</th>\n",
              "      <th>accuracy</th>\n",
              "      <th>time</th>\n",
              "    </tr>\n",
              "  </thead>\n",
              "  <tbody>\n",
              "    <tr>\n",
              "      <td>0</td>\n",
              "      <td>2.403079</td>\n",
              "      <td>3.286240</td>\n",
              "      <td>0.382609</td>\n",
              "      <td>03:04</td>\n",
              "    </tr>\n",
              "    <tr>\n",
              "      <td>1</td>\n",
              "      <td>2.314815</td>\n",
              "      <td>3.311047</td>\n",
              "      <td>0.400000</td>\n",
              "      <td>03:15</td>\n",
              "    </tr>\n",
              "    <tr>\n",
              "      <td>2</td>\n",
              "      <td>2.163343</td>\n",
              "      <td>3.325847</td>\n",
              "      <td>0.417391</td>\n",
              "      <td>03:19</td>\n",
              "    </tr>\n",
              "    <tr>\n",
              "      <td>3</td>\n",
              "      <td>1.992827</td>\n",
              "      <td>3.313920</td>\n",
              "      <td>0.400000</td>\n",
              "      <td>03:34</td>\n",
              "    </tr>\n",
              "  </tbody>\n",
              "</table>"
            ],
            "text/plain": [
              "<IPython.core.display.HTML object>"
            ]
          },
          "metadata": {
            "tags": []
          }
        }
      ]
    },
    {
      "cell_type": "code",
      "metadata": {
        "id": "rKrBTZ0T1uVA",
        "outputId": "e216b30a-90af-4824-af82-2e98c7bffbe1",
        "colab": {
          "base_uri": "https://localhost:8080/",
          "height": 173
        }
      },
      "source": [
        "learn.fit_one_cycle(4, slice(2e-3/100, 2e-3))"
      ],
      "execution_count": 37,
      "outputs": [
        {
          "output_type": "display_data",
          "data": {
            "text/html": [
              "<table border=\"1\" class=\"dataframe\">\n",
              "  <thead>\n",
              "    <tr style=\"text-align: left;\">\n",
              "      <th>epoch</th>\n",
              "      <th>train_loss</th>\n",
              "      <th>valid_loss</th>\n",
              "      <th>accuracy</th>\n",
              "      <th>time</th>\n",
              "    </tr>\n",
              "  </thead>\n",
              "  <tbody>\n",
              "    <tr>\n",
              "      <td>0</td>\n",
              "      <td>1.854284</td>\n",
              "      <td>3.241650</td>\n",
              "      <td>0.400000</td>\n",
              "      <td>03:34</td>\n",
              "    </tr>\n",
              "    <tr>\n",
              "      <td>1</td>\n",
              "      <td>1.825264</td>\n",
              "      <td>3.314334</td>\n",
              "      <td>0.382609</td>\n",
              "      <td>03:15</td>\n",
              "    </tr>\n",
              "    <tr>\n",
              "      <td>2</td>\n",
              "      <td>1.738867</td>\n",
              "      <td>3.311958</td>\n",
              "      <td>0.417391</td>\n",
              "      <td>03:13</td>\n",
              "    </tr>\n",
              "    <tr>\n",
              "      <td>3</td>\n",
              "      <td>1.588069</td>\n",
              "      <td>3.229721</td>\n",
              "      <td>0.417391</td>\n",
              "      <td>03:13</td>\n",
              "    </tr>\n",
              "  </tbody>\n",
              "</table>"
            ],
            "text/plain": [
              "<IPython.core.display.HTML object>"
            ]
          },
          "metadata": {
            "tags": []
          }
        }
      ]
    },
    {
      "cell_type": "code",
      "metadata": {
        "id": "ajQC6WDg1yA9",
        "outputId": "2afc436a-9ff1-4cde-8da9-1c60f92813aa",
        "colab": {
          "base_uri": "https://localhost:8080/",
          "height": 173
        }
      },
      "source": [
        "learn.fit_one_cycle(4, slice(2e-3/100, 2e-3))"
      ],
      "execution_count": 38,
      "outputs": [
        {
          "output_type": "display_data",
          "data": {
            "text/html": [
              "<table border=\"1\" class=\"dataframe\">\n",
              "  <thead>\n",
              "    <tr style=\"text-align: left;\">\n",
              "      <th>epoch</th>\n",
              "      <th>train_loss</th>\n",
              "      <th>valid_loss</th>\n",
              "      <th>accuracy</th>\n",
              "      <th>time</th>\n",
              "    </tr>\n",
              "  </thead>\n",
              "  <tbody>\n",
              "    <tr>\n",
              "      <td>0</td>\n",
              "      <td>1.447023</td>\n",
              "      <td>3.286540</td>\n",
              "      <td>0.408696</td>\n",
              "      <td>03:22</td>\n",
              "    </tr>\n",
              "    <tr>\n",
              "      <td>1</td>\n",
              "      <td>1.419478</td>\n",
              "      <td>3.249704</td>\n",
              "      <td>0.400000</td>\n",
              "      <td>03:12</td>\n",
              "    </tr>\n",
              "    <tr>\n",
              "      <td>2</td>\n",
              "      <td>1.330517</td>\n",
              "      <td>3.339264</td>\n",
              "      <td>0.408696</td>\n",
              "      <td>03:23</td>\n",
              "    </tr>\n",
              "    <tr>\n",
              "      <td>3</td>\n",
              "      <td>1.209304</td>\n",
              "      <td>3.310570</td>\n",
              "      <td>0.382609</td>\n",
              "      <td>03:20</td>\n",
              "    </tr>\n",
              "  </tbody>\n",
              "</table>"
            ],
            "text/plain": [
              "<IPython.core.display.HTML object>"
            ]
          },
          "metadata": {
            "tags": []
          }
        }
      ]
    },
    {
      "cell_type": "code",
      "metadata": {
        "id": "KKydb0B4BKGk",
        "outputId": "b7e69763-1c0f-45de-9583-c19d2fc5f6e2",
        "colab": {
          "base_uri": "https://localhost:8080/",
          "height": 173
        }
      },
      "source": [
        "learn.fit_one_cycle(4, slice(2e-3/100, 2e-3))"
      ],
      "execution_count": 39,
      "outputs": [
        {
          "output_type": "display_data",
          "data": {
            "text/html": [
              "<table border=\"1\" class=\"dataframe\">\n",
              "  <thead>\n",
              "    <tr style=\"text-align: left;\">\n",
              "      <th>epoch</th>\n",
              "      <th>train_loss</th>\n",
              "      <th>valid_loss</th>\n",
              "      <th>accuracy</th>\n",
              "      <th>time</th>\n",
              "    </tr>\n",
              "  </thead>\n",
              "  <tbody>\n",
              "    <tr>\n",
              "      <td>0</td>\n",
              "      <td>1.098255</td>\n",
              "      <td>3.403646</td>\n",
              "      <td>0.408696</td>\n",
              "      <td>03:02</td>\n",
              "    </tr>\n",
              "    <tr>\n",
              "      <td>1</td>\n",
              "      <td>1.145636</td>\n",
              "      <td>3.458507</td>\n",
              "      <td>0.391304</td>\n",
              "      <td>03:11</td>\n",
              "    </tr>\n",
              "    <tr>\n",
              "      <td>2</td>\n",
              "      <td>1.041614</td>\n",
              "      <td>3.396709</td>\n",
              "      <td>0.417391</td>\n",
              "      <td>03:27</td>\n",
              "    </tr>\n",
              "    <tr>\n",
              "      <td>3</td>\n",
              "      <td>0.951535</td>\n",
              "      <td>3.378550</td>\n",
              "      <td>0.400000</td>\n",
              "      <td>03:17</td>\n",
              "    </tr>\n",
              "  </tbody>\n",
              "</table>"
            ],
            "text/plain": [
              "<IPython.core.display.HTML object>"
            ]
          },
          "metadata": {
            "tags": []
          }
        }
      ]
    },
    {
      "cell_type": "code",
      "metadata": {
        "id": "T2APKtFKBpGY",
        "outputId": "5d9a0901-ab9f-48f5-fd3d-913151820203",
        "colab": {
          "base_uri": "https://localhost:8080/",
          "height": 173
        }
      },
      "source": [
        "learn.fit_one_cycle(4, slice(2e-3/100, 2e-3))"
      ],
      "execution_count": 40,
      "outputs": [
        {
          "output_type": "display_data",
          "data": {
            "text/html": [
              "<table border=\"1\" class=\"dataframe\">\n",
              "  <thead>\n",
              "    <tr style=\"text-align: left;\">\n",
              "      <th>epoch</th>\n",
              "      <th>train_loss</th>\n",
              "      <th>valid_loss</th>\n",
              "      <th>accuracy</th>\n",
              "      <th>time</th>\n",
              "    </tr>\n",
              "  </thead>\n",
              "  <tbody>\n",
              "    <tr>\n",
              "      <td>0</td>\n",
              "      <td>0.903084</td>\n",
              "      <td>3.465764</td>\n",
              "      <td>0.373913</td>\n",
              "      <td>03:18</td>\n",
              "    </tr>\n",
              "    <tr>\n",
              "      <td>1</td>\n",
              "      <td>0.912328</td>\n",
              "      <td>3.441983</td>\n",
              "      <td>0.400000</td>\n",
              "      <td>03:23</td>\n",
              "    </tr>\n",
              "    <tr>\n",
              "      <td>2</td>\n",
              "      <td>0.838324</td>\n",
              "      <td>3.552190</td>\n",
              "      <td>0.400000</td>\n",
              "      <td>03:09</td>\n",
              "    </tr>\n",
              "    <tr>\n",
              "      <td>3</td>\n",
              "      <td>0.782860</td>\n",
              "      <td>3.533145</td>\n",
              "      <td>0.417391</td>\n",
              "      <td>03:06</td>\n",
              "    </tr>\n",
              "  </tbody>\n",
              "</table>"
            ],
            "text/plain": [
              "<IPython.core.display.HTML object>"
            ]
          },
          "metadata": {
            "tags": []
          }
        }
      ]
    },
    {
      "cell_type": "code",
      "metadata": {
        "id": "qtTypA1sPgLU",
        "outputId": "d3a74d41-1b8a-4570-bafe-e2627079af1b",
        "colab": {
          "base_uri": "https://localhost:8080/",
          "height": 111
        }
      },
      "source": [
        "learn.fit_one_cycle(2, slice(2e-3/100, 2e-3))"
      ],
      "execution_count": 41,
      "outputs": [
        {
          "output_type": "display_data",
          "data": {
            "text/html": [
              "<table border=\"1\" class=\"dataframe\">\n",
              "  <thead>\n",
              "    <tr style=\"text-align: left;\">\n",
              "      <th>epoch</th>\n",
              "      <th>train_loss</th>\n",
              "      <th>valid_loss</th>\n",
              "      <th>accuracy</th>\n",
              "      <th>time</th>\n",
              "    </tr>\n",
              "  </thead>\n",
              "  <tbody>\n",
              "    <tr>\n",
              "      <td>0</td>\n",
              "      <td>0.732981</td>\n",
              "      <td>3.607088</td>\n",
              "      <td>0.417391</td>\n",
              "      <td>03:22</td>\n",
              "    </tr>\n",
              "    <tr>\n",
              "      <td>1</td>\n",
              "      <td>0.701676</td>\n",
              "      <td>3.611104</td>\n",
              "      <td>0.426087</td>\n",
              "      <td>03:13</td>\n",
              "    </tr>\n",
              "  </tbody>\n",
              "</table>"
            ],
            "text/plain": [
              "<IPython.core.display.HTML object>"
            ]
          },
          "metadata": {
            "tags": []
          }
        }
      ]
    },
    {
      "cell_type": "code",
      "metadata": {
        "id": "b242kBsTUp9Y",
        "outputId": "ab5a0cbb-a047-4116-d092-20e8c77de527",
        "colab": {
          "base_uri": "https://localhost:8080/",
          "height": 111
        }
      },
      "source": [
        "learn.fit_one_cycle(2, slice(2e-3/100, 2e-3))"
      ],
      "execution_count": 42,
      "outputs": [
        {
          "output_type": "display_data",
          "data": {
            "text/html": [
              "<table border=\"1\" class=\"dataframe\">\n",
              "  <thead>\n",
              "    <tr style=\"text-align: left;\">\n",
              "      <th>epoch</th>\n",
              "      <th>train_loss</th>\n",
              "      <th>valid_loss</th>\n",
              "      <th>accuracy</th>\n",
              "      <th>time</th>\n",
              "    </tr>\n",
              "  </thead>\n",
              "  <tbody>\n",
              "    <tr>\n",
              "      <td>0</td>\n",
              "      <td>0.664274</td>\n",
              "      <td>3.681534</td>\n",
              "      <td>0.382609</td>\n",
              "      <td>03:10</td>\n",
              "    </tr>\n",
              "    <tr>\n",
              "      <td>1</td>\n",
              "      <td>0.650133</td>\n",
              "      <td>3.739913</td>\n",
              "      <td>0.391304</td>\n",
              "      <td>03:09</td>\n",
              "    </tr>\n",
              "  </tbody>\n",
              "</table>"
            ],
            "text/plain": [
              "<IPython.core.display.HTML object>"
            ]
          },
          "metadata": {
            "tags": []
          }
        }
      ]
    },
    {
      "cell_type": "code",
      "metadata": {
        "id": "Duwf1Ih5VeDZ",
        "outputId": "5f63c56b-bb47-4dee-879b-c82a70413219",
        "colab": {
          "base_uri": "https://localhost:8080/",
          "height": 80
        }
      },
      "source": [
        "learn.fit_one_cycle(1, slice(2e-3/100, 2e-3))"
      ],
      "execution_count": 43,
      "outputs": [
        {
          "output_type": "display_data",
          "data": {
            "text/html": [
              "<table border=\"1\" class=\"dataframe\">\n",
              "  <thead>\n",
              "    <tr style=\"text-align: left;\">\n",
              "      <th>epoch</th>\n",
              "      <th>train_loss</th>\n",
              "      <th>valid_loss</th>\n",
              "      <th>accuracy</th>\n",
              "      <th>time</th>\n",
              "    </tr>\n",
              "  </thead>\n",
              "  <tbody>\n",
              "    <tr>\n",
              "      <td>0</td>\n",
              "      <td>0.653675</td>\n",
              "      <td>3.699047</td>\n",
              "      <td>0.382609</td>\n",
              "      <td>03:12</td>\n",
              "    </tr>\n",
              "  </tbody>\n",
              "</table>"
            ],
            "text/plain": [
              "<IPython.core.display.HTML object>"
            ]
          },
          "metadata": {
            "tags": []
          }
        }
      ]
    },
    {
      "cell_type": "code",
      "metadata": {
        "id": "c65d-osfDUXm"
      },
      "source": [
        "# save the best model\n",
        "\n",
        "learn.save_encoder('mixed_pubmed_bigtweet_twadr_fold10overlap')"
      ],
      "execution_count": 44,
      "outputs": []
    },
    {
      "cell_type": "markdown",
      "metadata": {
        "id": "rCwZU0E2RgM6"
      },
      "source": [
        "# Part three: Predict on the test dataset"
      ]
    },
    {
      "cell_type": "code",
      "metadata": {
        "id": "gDm72c-dOu7d",
        "outputId": "76c9c6ab-8bd0-4b90-913e-07809f7d9a28",
        "colab": {
          "base_uri": "https://localhost:8080/",
          "height": 17
        }
      },
      "source": [
        "# use the test data for prediction\n",
        "\n",
        "preds, y = learn.get_preds(DatasetType.Test)"
      ],
      "execution_count": 45,
      "outputs": [
        {
          "output_type": "display_data",
          "data": {
            "text/html": [
              ""
            ],
            "text/plain": [
              "<IPython.core.display.HTML object>"
            ]
          },
          "metadata": {
            "tags": []
          }
        }
      ]
    },
    {
      "cell_type": "code",
      "metadata": {
        "id": "6tFSQcsWPvxn",
        "outputId": "ca3952e7-0c1d-4dbf-a5b2-0d876d6dd0d3",
        "colab": {
          "base_uri": "https://localhost:8080/",
          "height": 105
        }
      },
      "source": [
        "predictions, *_ = learn.get_preds(DatasetType.Test)\n",
        "labels = np.argmax(predictions, 1)\n",
        "predict_list = labels.tolist()\n",
        "standard_list = test[0].tolist()\n",
        "\n",
        "print(len(predict_list))\n",
        "print(len(standard_list))\n",
        "\n",
        "print(predict_list)\n",
        "print(standard_list)"
      ],
      "execution_count": 46,
      "outputs": [
        {
          "output_type": "display_data",
          "data": {
            "text/html": [
              ""
            ],
            "text/plain": [
              "<IPython.core.display.HTML object>"
            ]
          },
          "metadata": {
            "tags": []
          }
        },
        {
          "output_type": "stream",
          "text": [
            "160\n",
            "160\n",
            "[803, 2099, 1633, 1247, 854, 359, 1323, 803, 171, 309, 965, 854, 854, 1136, 2188, 2218, 854, 711, 965, 1743, 106, 803, 744, 1640, 1802, 171, 1702, 974, 833, 2188, 965, 1411, 170, 1576, 12, 476, 1106, 1106, 1652, 1576, 803, 1407, 1652, 171, 92, 1935, 1307, 621, 378, 854, 1576, 1106, 370, 1723, 135, 860, 1583, 2182, 854, 378, 1546, 854, 1932, 1652, 491, 744, 1948, 621, 2027, 2188, 2099, 1811, 309, 1546, 1570, 1652, 700, 860, 978, 1106, 724, 1038, 92, 476, 909, 1136, 135, 1698, 1307, 359, 230, 1948, 854, 1106, 621, 1617, 1570, 798, 965, 170, 491, 700, 1811, 860, 2099, 476, 1478, 2188, 476, 201, 1411, 1323, 171, 714, 2046, 2099, 2201, 1308, 574, 2165, 1811, 1948, 860, 1136, 387, 803, 803, 1948, 971, 814, 170, 854, 574, 309, 1106, 1534, 700, 860, 2018, 1534, 1308, 621, 1773, 170, 451, 1136, 2099, 700, 2184, 1326, 983, 1633, 840, 170, 441, 2046, 2099, 1932, 700, 2099]\n",
            "[1576, 2099, 1698, 1811, 476, 840, 440, 2099, 171, 309, 703, 135, 375, 1326, 860, 574, 2003, 210, 1408, 237, 106, 1576, 700, 1095, 1194, 1307, 239, 935, 833, 1076, 1935, 1008, 2176, 1576, 2088, 1407, 1411, 505, 1811, 1576, 803, 605, 1652, 931, 92, 974, 2088, 1075, 491, 1932, 1075, 574, 1220, 1032, 2048, 2088, 1583, 1043, 2188, 1095, 872, 854, 1307, 1950, 170, 700, 1698, 170, 451, 860, 1076, 2099, 309, 872, 210, 700, 237, 2003, 1077, 1299, 99, 1038, 106, 2218, 1698, 1666, 135, 1698, 171, 1534, 1811, 699, 854, 171, 621, 794, 941, 89, 965, 472, 1935, 574, 336, 1348, 803, 1403, 2027, 1811, 1752, 1025, 1411, 2099, 1932, 989, 2046, 2099, 724, 1308, 1106, 621, 1811, 699, 1307, 574, 268, 959, 2099, 1308, 1542, 860, 2201, 1308, 574, 309, 1472, 384, 384, 854, 833, 79, 467, 2165, 1049, 956, 2097, 1542, 1811, 384, 1220, 1811, 983, 378, 840, 170, 441, 2046, 2099, 1932, 700, 2099]\n"
          ],
          "name": "stdout"
        }
      ]
    },
    {
      "cell_type": "code",
      "metadata": {
        "id": "XIC4zufnMxtq",
        "outputId": "856cea33-5dda-46f0-cde6-46342caca488",
        "colab": {
          "base_uri": "https://localhost:8080/",
          "height": 51
        }
      },
      "source": [
        "correct_num = 0\n",
        "\n",
        "for i in range(0, len(standard_list)):\n",
        "  if predict_list[i] == standard_list[i]:\n",
        "    correct_num = correct_num+1\n",
        "  else:\n",
        "    pass\n",
        "print(correct_num)\n",
        "\n",
        "predict_accuracy = correct_num/len(predict_list)\n",
        "print(predict_accuracy)"
      ],
      "execution_count": 47,
      "outputs": [
        {
          "output_type": "stream",
          "text": [
            "35\n",
            "0.21875\n"
          ],
          "name": "stdout"
        }
      ]
    },
    {
      "cell_type": "code",
      "metadata": {
        "id": "zlKMHp1CIaRJ"
      },
      "source": [
        ""
      ],
      "execution_count": 47,
      "outputs": []
    }
  ]
}