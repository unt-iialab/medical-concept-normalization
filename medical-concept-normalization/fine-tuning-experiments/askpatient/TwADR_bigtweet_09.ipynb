{
  "nbformat": 4,
  "nbformat_minor": 0,
  "metadata": {
    "accelerator": "TPU",
    "colab": {
      "name": "TwADR-bigtweet_09.ipynb",
      "provenance": [],
      "collapsed_sections": [],
      "include_colab_link": true
    },
    "kernelspec": {
      "display_name": "Python 3",
      "name": "python3"
    }
  },
  "cells": [
    {
      "cell_type": "markdown",
      "metadata": {
        "id": "view-in-github",
        "colab_type": "text"
      },
      "source": [
        "<a href=\"https://colab.research.google.com/github/unt-iialab/medical-concept-normalization/blob/master/medical-concept-normalization/fine-tuning-experiments/askpatient/TwADR_bigtweet_09.ipynb\" target=\"_parent\"><img src=\"https://colab.research.google.com/assets/colab-badge.svg\" alt=\"Open In Colab\"/></a>"
      ]
    },
    {
      "cell_type": "code",
      "metadata": {
        "id": "adSi6i2-dWxy"
      },
      "source": [
        "import os"
      ],
      "execution_count": 1,
      "outputs": []
    },
    {
      "cell_type": "code",
      "metadata": {
        "id": "E7xYCRGPjd9B"
      },
      "source": [
        "base_dir = 'medical-concept-normalization'"
      ],
      "execution_count": 2,
      "outputs": []
    },
    {
      "cell_type": "code",
      "metadata": {
        "id": "yvIW3aUDjYNS"
      },
      "source": [
        "os.mkdir(base_dir)"
      ],
      "execution_count": 3,
      "outputs": []
    },
    {
      "cell_type": "code",
      "metadata": {
        "id": "es-FFLlfk6SG"
      },
      "source": [
        "os.mkdir('medical-concept-normalization/data_collection')"
      ],
      "execution_count": 4,
      "outputs": []
    },
    {
      "cell_type": "markdown",
      "metadata": {
        "id": "0R-Guw_VoJXm"
      },
      "source": [
        "**Install fastai and clone the fastai for text classification**\n",
        "\n"
      ]
    },
    {
      "cell_type": "code",
      "metadata": {
        "id": "QVZa3Z0PmHFH",
        "outputId": "7ede1eaa-1679-47ee-d345-099c2da34d9b",
        "colab": {
          "base_uri": "https://localhost:8080/"
        }
      },
      "source": [
        "!curl https://course-v3.fast.ai/setup/colab | bash"
      ],
      "execution_count": 5,
      "outputs": [
        {
          "output_type": "stream",
          "text": [
            "  % Total    % Received % Xferd  Average Speed   Time    Time     Time  Current\n",
            "                                 Dload  Upload   Total   Spent    Left  Speed\n",
            "\r  0     0    0     0    0     0      0      0 --:--:-- --:--:-- --:--:--     0curl: (6) Could not resolve host: course-v3.fast.ai\n"
          ],
          "name": "stdout"
        }
      ]
    },
    {
      "cell_type": "code",
      "metadata": {
        "id": "_FBFFEBrmJC0",
        "outputId": "7db4e5e9-1ad5-4128-dfc1-717caf7c26bb",
        "colab": {
          "base_uri": "https://localhost:8080/"
        }
      },
      "source": [
        "!git clone https://github.com/wshuyi/demo-nlp-classification-fastai.git"
      ],
      "execution_count": 6,
      "outputs": [
        {
          "output_type": "stream",
          "text": [
            "Cloning into 'demo-nlp-classification-fastai'...\n",
            "remote: Enumerating objects: 9, done.\u001b[K\n",
            "remote: Total 9 (delta 0), reused 0 (delta 0), pack-reused 9\u001b[K\n",
            "Unpacking objects: 100% (9/9), done.\n"
          ],
          "name": "stdout"
        }
      ]
    },
    {
      "cell_type": "code",
      "metadata": {
        "id": "66zfh_JqmWMU"
      },
      "source": [
        "from fastai import *\n",
        "from fastai.text import *"
      ],
      "execution_count": 7,
      "outputs": []
    },
    {
      "cell_type": "markdown",
      "metadata": {
        "id": "mNIw-yALdBU9"
      },
      "source": [
        "**Set the path of the data collections**"
      ]
    },
    {
      "cell_type": "code",
      "metadata": {
        "id": "pzH7VMh4mqCL"
      },
      "source": [
        "path = Path('medical-concept-normalization/data_collection')"
      ],
      "execution_count": 8,
      "outputs": []
    },
    {
      "cell_type": "code",
      "metadata": {
        "id": "b8fjI6yyn4aS"
      },
      "source": [
        "# training data set\n",
        "\n",
        "train_csv = path/'TwADR-L.fold-9.train.csv'\n",
        "train = pd.read_csv(train_csv, header=None)\n",
        "#train.head()\n",
        "#train.info()"
      ],
      "execution_count": 10,
      "outputs": []
    },
    {
      "cell_type": "code",
      "metadata": {
        "id": "Hmlr-bAorfHd",
        "outputId": "b4e75791-e831-4a5d-e942-b69cee861212",
        "colab": {
          "base_uri": "https://localhost:8080/",
          "height": 204
        }
      },
      "source": [
        "# validating data set\n",
        "\n",
        "valid = pd.read_csv(path/\"TwADR-L.fold-9.validation.csv\",header=None)\n",
        "valid.head()"
      ],
      "execution_count": 11,
      "outputs": [
        {
          "output_type": "execute_result",
          "data": {
            "text/html": [
              "<div>\n",
              "<style scoped>\n",
              "    .dataframe tbody tr th:only-of-type {\n",
              "        vertical-align: middle;\n",
              "    }\n",
              "\n",
              "    .dataframe tbody tr th {\n",
              "        vertical-align: top;\n",
              "    }\n",
              "\n",
              "    .dataframe thead th {\n",
              "        text-align: right;\n",
              "    }\n",
              "</style>\n",
              "<table border=\"1\" class=\"dataframe\">\n",
              "  <thead>\n",
              "    <tr style=\"text-align: right;\">\n",
              "      <th></th>\n",
              "      <th>0</th>\n",
              "      <th>1</th>\n",
              "    </tr>\n",
              "  </thead>\n",
              "  <tbody>\n",
              "    <tr>\n",
              "      <th>0</th>\n",
              "      <td>13</td>\n",
              "      <td>up all night</td>\n",
              "    </tr>\n",
              "    <tr>\n",
              "      <th>1</th>\n",
              "      <td>13</td>\n",
              "      <td>insomnia</td>\n",
              "    </tr>\n",
              "    <tr>\n",
              "      <th>2</th>\n",
              "      <td>60</td>\n",
              "      <td>cigarette withdrawal</td>\n",
              "    </tr>\n",
              "    <tr>\n",
              "      <th>3</th>\n",
              "      <td>85</td>\n",
              "      <td>tremor</td>\n",
              "    </tr>\n",
              "    <tr>\n",
              "      <th>4</th>\n",
              "      <td>121</td>\n",
              "      <td>itches</td>\n",
              "    </tr>\n",
              "  </tbody>\n",
              "</table>\n",
              "</div>"
            ],
            "text/plain": [
              "     0                     1\n",
              "0   13          up all night\n",
              "1   13              insomnia\n",
              "2   60  cigarette withdrawal\n",
              "3   85                tremor\n",
              "4  121                itches"
            ]
          },
          "metadata": {
            "tags": []
          },
          "execution_count": 11
        }
      ]
    },
    {
      "cell_type": "code",
      "metadata": {
        "id": "cOza9dfSsBud",
        "outputId": "16a306a2-6285-47a8-976f-7a7fccf79d5d",
        "colab": {
          "base_uri": "https://localhost:8080/",
          "height": 204
        }
      },
      "source": [
        "# testing data set\n",
        "\n",
        "test = pd.read_csv(path/\"TwADR-L.fold-9.test.csv\",header=None)\n",
        "test.head()"
      ],
      "execution_count": 12,
      "outputs": [
        {
          "output_type": "execute_result",
          "data": {
            "text/html": [
              "<div>\n",
              "<style scoped>\n",
              "    .dataframe tbody tr th:only-of-type {\n",
              "        vertical-align: middle;\n",
              "    }\n",
              "\n",
              "    .dataframe tbody tr th {\n",
              "        vertical-align: top;\n",
              "    }\n",
              "\n",
              "    .dataframe thead th {\n",
              "        text-align: right;\n",
              "    }\n",
              "</style>\n",
              "<table border=\"1\" class=\"dataframe\">\n",
              "  <thead>\n",
              "    <tr style=\"text-align: right;\">\n",
              "      <th></th>\n",
              "      <th>0</th>\n",
              "      <th>1</th>\n",
              "    </tr>\n",
              "  </thead>\n",
              "  <tbody>\n",
              "    <tr>\n",
              "      <th>0</th>\n",
              "      <td>62</td>\n",
              "      <td>feeling proper psycho</td>\n",
              "    </tr>\n",
              "    <tr>\n",
              "      <th>1</th>\n",
              "      <td>74</td>\n",
              "      <td>useless without</td>\n",
              "    </tr>\n",
              "    <tr>\n",
              "      <th>2</th>\n",
              "      <td>85</td>\n",
              "      <td>tremor</td>\n",
              "    </tr>\n",
              "    <tr>\n",
              "      <th>3</th>\n",
              "      <td>91</td>\n",
              "      <td>jitters</td>\n",
              "    </tr>\n",
              "    <tr>\n",
              "      <th>4</th>\n",
              "      <td>97</td>\n",
              "      <td>screwing with my short term memory</td>\n",
              "    </tr>\n",
              "  </tbody>\n",
              "</table>\n",
              "</div>"
            ],
            "text/plain": [
              "    0                                   1\n",
              "0  62               feeling proper psycho\n",
              "1  74                     useless without\n",
              "2  85                              tremor\n",
              "3  91                             jitters\n",
              "4  97  screwing with my short term memory"
            ]
          },
          "metadata": {
            "tags": []
          },
          "execution_count": 12
        }
      ]
    },
    {
      "cell_type": "code",
      "metadata": {
        "id": "Vo-YNvVYoaH6",
        "outputId": "6cbced94-941c-46bc-9428-d5b82c216c4d",
        "colab": {
          "base_uri": "https://localhost:8080/",
          "height": 17
        }
      },
      "source": [
        "# Creating DataBunch for language modelling\n",
        "\n",
        "data_lm = TextLMDataBunch.from_csv(path, 'TwADR-bigtweet.csv')"
      ],
      "execution_count": 13,
      "outputs": [
        {
          "output_type": "display_data",
          "data": {
            "text/html": [
              ""
            ],
            "text/plain": [
              "<IPython.core.display.HTML object>"
            ]
          },
          "metadata": {
            "tags": []
          }
        },
        {
          "output_type": "display_data",
          "data": {
            "text/html": [
              ""
            ],
            "text/plain": [
              "<IPython.core.display.HTML object>"
            ]
          },
          "metadata": {
            "tags": []
          }
        }
      ]
    },
    {
      "cell_type": "code",
      "metadata": {
        "id": "qcV-9kMnNLBf"
      },
      "source": [
        ""
      ],
      "execution_count": 13,
      "outputs": []
    },
    {
      "cell_type": "code",
      "metadata": {
        "id": "1ScY9afDsnvE"
      },
      "source": [
        "# Creating DataBunch for classification\n",
        "\n",
        "# data_clas = TextClasDataBunch.from_df(path, train, valid, test, vocab=data_lm.train_ds.vocab, bs=128)"
      ],
      "execution_count": 14,
      "outputs": []
    },
    {
      "cell_type": "code",
      "metadata": {
        "id": "gzrSdQcvey9p",
        "outputId": "46452d84-3d2a-475c-9148-35e5af512a8c",
        "colab": {
          "base_uri": "https://localhost:8080/",
          "height": 17
        }
      },
      "source": [
        "data_clas = TextClasDataBunch.from_df(path, train, valid, vocab=data_lm.train_ds.vocab, bs=128)"
      ],
      "execution_count": 15,
      "outputs": [
        {
          "output_type": "display_data",
          "data": {
            "text/html": [
              ""
            ],
            "text/plain": [
              "<IPython.core.display.HTML object>"
            ]
          },
          "metadata": {
            "tags": []
          }
        },
        {
          "output_type": "display_data",
          "data": {
            "text/html": [
              ""
            ],
            "text/plain": [
              "<IPython.core.display.HTML object>"
            ]
          },
          "metadata": {
            "tags": []
          }
        }
      ]
    },
    {
      "cell_type": "code",
      "metadata": {
        "id": "MD27Tf0Ke3ou",
        "outputId": "6e3eb011-c07d-447f-f370-546a994f6ac0",
        "colab": {
          "base_uri": "https://localhost:8080/",
          "height": 17
        }
      },
      "source": [
        "data_clas.add_test(test,label=0)\n"
      ],
      "execution_count": 16,
      "outputs": [
        {
          "output_type": "display_data",
          "data": {
            "text/html": [
              ""
            ],
            "text/plain": [
              "<IPython.core.display.HTML object>"
            ]
          },
          "metadata": {
            "tags": []
          }
        }
      ]
    },
    {
      "cell_type": "code",
      "metadata": {
        "id": "-dpjnk_rstwk"
      },
      "source": [
        "data_lm.save()\n",
        "data_clas.save()"
      ],
      "execution_count": 17,
      "outputs": []
    },
    {
      "cell_type": "code",
      "metadata": {
        "id": "4OkiJa36sw5s",
        "outputId": "a9d749b7-56dd-4f05-b219-d40acae67380",
        "colab": {
          "base_uri": "https://localhost:8080/"
        }
      },
      "source": [
        "data_lm.train_ds.vocab.itos"
      ],
      "execution_count": 18,
      "outputs": [
        {
          "output_type": "execute_result",
          "data": {
            "text/plain": [
              "['xxunk',\n",
              " 'xxpad',\n",
              " 'xxbos',\n",
              " 'xxeos',\n",
              " 'xxfld',\n",
              " 'xxmaj',\n",
              " 'xxup',\n",
              " 'xxrep',\n",
              " 'xxwrep',\n",
              " 'to',\n",
              " 'the',\n",
              " 'in',\n",
              " 'rt',\n",
              " 'of',\n",
              " 'for',\n",
              " 'a',\n",
              " 'you',\n",
              " 'i',\n",
              " 'on',\n",
              " 'and',\n",
              " 'is',\n",
              " 'disease',\n",
              " 'pain',\n",
              " 'my',\n",
              " 'mood',\n",
              " 'me',\n",
              " 'increased',\n",
              " 'amp',\n",
              " 'with',\n",
              " 'gluten',\n",
              " 'disorder',\n",
              " ',',\n",
              " 'abnormal',\n",
              " 'withdrawal',\n",
              " 'anxiety',\n",
              " 'your',\n",
              " 'free',\n",
              " 'have',\n",
              " 'it',\n",
              " 'weight',\n",
              " 'symptoms',\n",
              " 'this',\n",
              " 'out',\n",
              " 'are',\n",
              " 'decreased',\n",
              " 'new',\n",
              " 'disorders',\n",
              " 'like',\n",
              " 'from',\n",
              " 'do',\n",
              " 'about',\n",
              " 'our',\n",
              " 'glutenfree',\n",
              " 'nt',\n",
              " '(',\n",
              " ')',\n",
              " 'not',\n",
              " 'up',\n",
              " 'what',\n",
              " '-',\n",
              " 'sleeplessness',\n",
              " 'be',\n",
              " 'behavior',\n",
              " 'celiac',\n",
              " 'syndrome',\n",
              " 'drug',\n",
              " 'got',\n",
              " 'feeling',\n",
              " 'at',\n",
              " 'now',\n",
              " 'diseases',\n",
              " 'or',\n",
              " 'somnolence',\n",
              " 'insomnia',\n",
              " 'sleep',\n",
              " 'that',\n",
              " 'disturbance',\n",
              " 'blood',\n",
              " 'finding',\n",
              " 'so',\n",
              " 'energy',\n",
              " 'mental',\n",
              " 'all',\n",
              " 'food',\n",
              " 'how',\n",
              " 'we',\n",
              " 'skin',\n",
              " 'right',\n",
              " 'depression',\n",
              " 'can',\n",
              " 'feel',\n",
              " 'more',\n",
              " 'gain',\n",
              " 'via',\n",
              " 'acute',\n",
              " 'appetite',\n",
              " 'if',\n",
              " 'its',\n",
              " 'tip',\n",
              " 'body',\n",
              " 'irritable',\n",
              " 'ceiling',\n",
              " 'feelings',\n",
              " 'diet',\n",
              " 'attention',\n",
              " 'nausea',\n",
              " 'hyperactive',\n",
              " 'excitability',\n",
              " 'as',\n",
              " 'awake',\n",
              " 'use',\n",
              " 'dblclick',\n",
              " 'get',\n",
              " 'products',\n",
              " 'dizziness',\n",
              " 'w',\n",
              " 'state',\n",
              " 'panic',\n",
              " 'pic',\n",
              " 'drowsiness',\n",
              " 'why',\n",
              " 'heart',\n",
              " 'allergic',\n",
              " 'by',\n",
              " 'had',\n",
              " 'know',\n",
              " 'depressed',\n",
              " 'review',\n",
              " 'day',\n",
              " 'was',\n",
              " 'muscle',\n",
              " 'here',\n",
              " 'rash',\n",
              " 'swelling',\n",
              " 'check',\n",
              " 'has',\n",
              " 'wakefulness',\n",
              " 'swings',\n",
              " 'just',\n",
              " 'need',\n",
              " 'love',\n",
              " 'bipolar',\n",
              " 'an',\n",
              " 'make',\n",
              " 'headache',\n",
              " 'fatigue',\n",
              " 'thanks',\n",
              " '#',\n",
              " 'loss',\n",
              " 'eating',\n",
              " 'post',\n",
              " \"n't\",\n",
              " 'm',\n",
              " 'gfb',\n",
              " 'great',\n",
              " 'ca',\n",
              " 'brain',\n",
              " 'will',\n",
              " 'but',\n",
              " '30',\n",
              " 'help',\n",
              " 'could',\n",
              " 'breast',\n",
              " 'dreams',\n",
              " 're',\n",
              " 'test',\n",
              " 'site',\n",
              " 'reaction',\n",
              " 'liver',\n",
              " 'infection',\n",
              " 'who',\n",
              " 'time',\n",
              " 's',\n",
              " 'posted',\n",
              " 'makes',\n",
              " 'eat',\n",
              " 'intolerance',\n",
              " 'respiratory',\n",
              " 'life',\n",
              " 'when',\n",
              " 'recipe',\n",
              " 'joint',\n",
              " 'tremor',\n",
              " 'hemorrhage',\n",
              " 'living',\n",
              " 'us',\n",
              " 'tired',\n",
              " 'does',\n",
              " 'eye',\n",
              " 'injury',\n",
              " 'heres',\n",
              " 'still',\n",
              " 'attack',\n",
              " 'read',\n",
              " 'abdominal',\n",
              " 'carcinoma',\n",
              " 'going',\n",
              " 'archives',\n",
              " '\\r \\n ',\n",
              " 'people',\n",
              " 'sleepy',\n",
              " 'may',\n",
              " 'deficit',\n",
              " 'no',\n",
              " 'psychotic',\n",
              " 'jennieo',\n",
              " 'some',\n",
              " 'dry',\n",
              " 'go',\n",
              " 'rage',\n",
              " 'there',\n",
              " 'being',\n",
              " 'night',\n",
              " 'tips',\n",
              " 'bone',\n",
              " 'take',\n",
              " 'attacks',\n",
              " 'death',\n",
              " 'initial',\n",
              " 'taste',\n",
              " 'good',\n",
              " 'did',\n",
              " '2',\n",
              " 'chronic',\n",
              " 'failure',\n",
              " 'back',\n",
              " 'today',\n",
              " '1',\n",
              " 'news',\n",
              " 'think',\n",
              " 'they',\n",
              " 'gastrointestinal',\n",
              " 'daytime',\n",
              " 'numbness',\n",
              " 'chicken',\n",
              " 'want',\n",
              " 'ulcer',\n",
              " 'super',\n",
              " 'sweating',\n",
              " 'aggravated',\n",
              " 'stiffness',\n",
              " 'pizza',\n",
              " 'cardiac',\n",
              " 'infections',\n",
              " 'zombie',\n",
              " 'much',\n",
              " 'should',\n",
              " 'asleep',\n",
              " 'difficulty',\n",
              " 'please',\n",
              " 'dermatitis',\n",
              " 'level',\n",
              " 'sensation',\n",
              " 'down',\n",
              " 'edema',\n",
              " 'migraine',\n",
              " 'dependence',\n",
              " 'one',\n",
              " 'sleepiness',\n",
              " 'cell',\n",
              " 'big',\n",
              " '10',\n",
              " 'anger',\n",
              " 'middle',\n",
              " 'pulmonary',\n",
              " 'allergy',\n",
              " 'conditions',\n",
              " 'hallucinations',\n",
              " 'localised',\n",
              " '\\r \\n \\r \\n ',\n",
              " 'share',\n",
              " 'patients',\n",
              " 'function',\n",
              " 'system',\n",
              " 'happy',\n",
              " 'article',\n",
              " 'stomach',\n",
              " 'discomfort',\n",
              " '5',\n",
              " 'distress',\n",
              " 'blog',\n",
              " 'disturbances',\n",
              " 'exhaustion',\n",
              " 'best',\n",
              " 'depressive',\n",
              " 'ever',\n",
              " 'those',\n",
              " 'low',\n",
              " 'suicidal',\n",
              " 'too',\n",
              " \"'m\",\n",
              " 'awareness',\n",
              " 'dysfunction',\n",
              " '4',\n",
              " 'any',\n",
              " 'kidney',\n",
              " 'vomiting',\n",
              " 'serum',\n",
              " 'wide',\n",
              " 'facial',\n",
              " 'pressure',\n",
              " 'concentration',\n",
              " 'bite',\n",
              " 'nightmares',\n",
              " 'social',\n",
              " 'anemia',\n",
              " 'episode',\n",
              " 'many',\n",
              " 'also',\n",
              " 'soup',\n",
              " 'dr',\n",
              " 'sensitivity',\n",
              " 'seizures',\n",
              " 'chest',\n",
              " 'find',\n",
              " 'cerebral',\n",
              " 'am',\n",
              " 'week',\n",
              " 'even',\n",
              " 'dizzy',\n",
              " 'compulsive',\n",
              " 'been',\n",
              " 'spasm',\n",
              " 'see',\n",
              " 'bad',\n",
              " 'diagnosis',\n",
              " 'memory',\n",
              " 'getting',\n",
              " 'vision',\n",
              " 'arthritis',\n",
              " 'damage',\n",
              " 'story',\n",
              " 'health',\n",
              " 'uterine',\n",
              " 'corneal',\n",
              " 'arrest',\n",
              " 'ache',\n",
              " 'cancer',\n",
              " 'very',\n",
              " 'change',\n",
              " 'vivid',\n",
              " 'these',\n",
              " 'emotional',\n",
              " 'irritation',\n",
              " 'neoplasm',\n",
              " 'well',\n",
              " 'gf',\n",
              " 'oedema',\n",
              " 'non',\n",
              " 'pruritus',\n",
              " 'depersonalization',\n",
              " 'delicious',\n",
              " 'friends',\n",
              " 'fracture',\n",
              " 'cookbook',\n",
              " 'off',\n",
              " 'hurt',\n",
              " 'only',\n",
              " 'try',\n",
              " 'elevated',\n",
              " 'urine',\n",
              " 'really',\n",
              " 'would',\n",
              " 'u',\n",
              " 'way',\n",
              " 'hungry',\n",
              " '2014',\n",
              " 'hunger',\n",
              " 'easy',\n",
              " 'adderall',\n",
              " 'wheat',\n",
              " 'asthma',\n",
              " 'candidiasis',\n",
              " 'crazy',\n",
              " 'diagnosed',\n",
              " 'tooth',\n",
              " 'bread',\n",
              " 'their',\n",
              " 'safe',\n",
              " 'alcohol',\n",
              " 'top',\n",
              " 'necrosis',\n",
              " 'thank',\n",
              " 'show',\n",
              " 'looking',\n",
              " 'high',\n",
              " 'hours',\n",
              " 'foot',\n",
              " 'fear',\n",
              " 'face',\n",
              " 'issues',\n",
              " 'healthy',\n",
              " 'nauseous',\n",
              " 'obsessive',\n",
              " 'study',\n",
              " 'other',\n",
              " 'over',\n",
              " 'hepatic',\n",
              " 'making',\n",
              " 'malignant',\n",
              " 'ventricular',\n",
              " 'hypertension',\n",
              " 'first',\n",
              " 'genital',\n",
              " 'bulimia',\n",
              " '6',\n",
              " 'abuse',\n",
              " 'euphoric',\n",
              " 'autographed',\n",
              " 'bowl',\n",
              " 'effect',\n",
              " 'impairment',\n",
              " 'cold',\n",
              " 'foods',\n",
              " 'oral',\n",
              " '3',\n",
              " 'intoxication',\n",
              " 'cramps',\n",
              " 'nervous',\n",
              " 'arthropod',\n",
              " 'lung',\n",
              " 'better',\n",
              " 'away',\n",
              " 'craving',\n",
              " 'erythema',\n",
              " 'sweat',\n",
              " 'coming',\n",
              " 'localized',\n",
              " 'erection',\n",
              " 'learn',\n",
              " 'withdrawals',\n",
              " 'painful',\n",
              " 'tract',\n",
              " 'info',\n",
              " 'peripheral',\n",
              " 'america',\n",
              " 'days',\n",
              " 'nasal',\n",
              " 'injuries',\n",
              " 'drowsy',\n",
              " 'shoulder',\n",
              " 'atrophy',\n",
              " 'thinking',\n",
              " 'pneumonia',\n",
              " 'tongue',\n",
              " 've',\n",
              " 'diabetes',\n",
              " 'neoplasms',\n",
              " 'decrease',\n",
              " 'sneezing',\n",
              " 'others',\n",
              " 'same',\n",
              " 'linked',\n",
              " 'glucose',\n",
              " 'lack',\n",
              " 'paranoid',\n",
              " 'book',\n",
              " 'lose',\n",
              " 'sick',\n",
              " 'libido',\n",
              " 'part',\n",
              " 'made',\n",
              " 'angry',\n",
              " 'child',\n",
              " 'chocolate',\n",
              " 'most',\n",
              " 'year',\n",
              " 'renal',\n",
              " 'insufficiency',\n",
              " 'lightheadedness',\n",
              " 'last',\n",
              " 'injection',\n",
              " 'urticaria',\n",
              " 'years',\n",
              " 'colitis',\n",
              " 'recipes',\n",
              " 'count',\n",
              " 'gastric',\n",
              " 'generalized',\n",
              " 'thirst',\n",
              " 'consciousness',\n",
              " 'always',\n",
              " 'metastatic',\n",
              " 'things',\n",
              " 'hear',\n",
              " 'obstruction',\n",
              " 'giveaway',\n",
              " 'whole',\n",
              " 'sexual',\n",
              " 'electrocardiogram',\n",
              " 'speech',\n",
              " 'tingling',\n",
              " 'head',\n",
              " 'hepatitis',\n",
              " 'live',\n",
              " 'palpitations',\n",
              " 'fractures',\n",
              " 'interesting',\n",
              " 'list',\n",
              " 'follow',\n",
              " 'page',\n",
              " 'personality',\n",
              " 'own',\n",
              " 'ask',\n",
              " 'yes',\n",
              " 'sunday',\n",
              " 'falling',\n",
              " 'thoughts',\n",
              " 'important',\n",
              " 'kids',\n",
              " 'headaches',\n",
              " 'diabetic',\n",
              " 'ear',\n",
              " 'next',\n",
              " 'where',\n",
              " 'excessive',\n",
              " 'lost',\n",
              " 'nerve',\n",
              " 'quinoa',\n",
              " 'breakfast',\n",
              " 'problems',\n",
              " 'come',\n",
              " 'ty',\n",
              " 'friendly',\n",
              " 'overdose',\n",
              " 'before',\n",
              " 'diarrhea',\n",
              " 'adrenal',\n",
              " 'fever',\n",
              " 'were',\n",
              " 'coeliac',\n",
              " 'convention',\n",
              " 'after',\n",
              " 'support',\n",
              " 'because',\n",
              " 'despair',\n",
              " '7',\n",
              " 'eyes',\n",
              " 'female',\n",
              " 'mind',\n",
              " 'potassium',\n",
              " '100',\n",
              " 'bacterial',\n",
              " 'symptom',\n",
              " 'stop',\n",
              " 'stress',\n",
              " 'intestinal',\n",
              " 'hard',\n",
              " 'binge',\n",
              " 'block',\n",
              " 'losing',\n",
              " 'swollen',\n",
              " 'cake',\n",
              " 'traumatic',\n",
              " 'risk',\n",
              " 'ejaculation',\n",
              " 'weeks',\n",
              " 'vasculitis',\n",
              " 'her',\n",
              " 'look',\n",
              " 'limb',\n",
              " 'weird',\n",
              " 'join',\n",
              " 'movements',\n",
              " 'affect',\n",
              " 'prolonged',\n",
              " 'hey',\n",
              " 'muscular',\n",
              " 'anyone',\n",
              " 'vaginal',\n",
              " 'talk',\n",
              " 'psychosis',\n",
              " 'throat',\n",
              " 'month',\n",
              " 'lbs',\n",
              " 'options',\n",
              " 'visual',\n",
              " 'unconscious',\n",
              " 'hypomania',\n",
              " 'tendency',\n",
              " 'haemorrhage',\n",
              " 'every',\n",
              " 'special',\n",
              " 'interview',\n",
              " 'ok',\n",
              " 'diagnose',\n",
              " 'long',\n",
              " 'tissue',\n",
              " 'hip',\n",
              " 'again',\n",
              " 'gfree',\n",
              " 'mouth',\n",
              " 'then',\n",
              " 'valentines',\n",
              " 'minutes',\n",
              " 'rice',\n",
              " 'than',\n",
              " 'gained',\n",
              " 'deficiency',\n",
              " 'sudden',\n",
              " 'lower',\n",
              " 'terrible',\n",
              " 'keep',\n",
              " 'musculoskeletal',\n",
              " 'through',\n",
              " 'interest',\n",
              " 'exhausted',\n",
              " 'market',\n",
              " 'thyroid',\n",
              " 'gland',\n",
              " 'drunk',\n",
              " 'atrial',\n",
              " 'adenocarcinoma',\n",
              " 'community',\n",
              " 'them',\n",
              " 'impaired',\n",
              " 'suicide',\n",
              " 'breathing',\n",
              " 'inflammation',\n",
              " 'digestive',\n",
              " 'start',\n",
              " 'application',\n",
              " 'ideas',\n",
              " 'type',\n",
              " 'restaurants',\n",
              " '2013',\n",
              " 'cutaneous',\n",
              " 'wo',\n",
              " 'which',\n",
              " 'vertigo',\n",
              " 'local',\n",
              " 'never',\n",
              " 'link',\n",
              " 'miss',\n",
              " 'cookies',\n",
              " 'neuropathy',\n",
              " 'healthier',\n",
              " 'red',\n",
              " 'doing',\n",
              " 'twitch',\n",
              " 'restaurant',\n",
              " 'hyper',\n",
              " 'less',\n",
              " 'sedated',\n",
              " 'bleeding',\n",
              " 'glutened',\n",
              " 'cause',\n",
              " 'itching',\n",
              " 'immune',\n",
              " 'reasons',\n",
              " 'abnormality',\n",
              " 'bladder',\n",
              " 'arrhythmia',\n",
              " 'testing',\n",
              " 'pledge',\n",
              " 'sinus',\n",
              " 'simple',\n",
              " 'work',\n",
              " 'fall',\n",
              " 'purpura',\n",
              " 'latest',\n",
              " 'gut',\n",
              " 'rhinitis',\n",
              " 'tolerance',\n",
              " 'someone',\n",
              " 'sure',\n",
              " 'ready',\n",
              " 'density',\n",
              " 'pm',\n",
              " 'motor',\n",
              " 'sleeping',\n",
              " 'lupus',\n",
              " 'different',\n",
              " 'might',\n",
              " 'little',\n",
              " 'hurting',\n",
              " 'his',\n",
              " 'partial',\n",
              " 'involuntary',\n",
              " 'creatinine',\n",
              " 'archive',\n",
              " 'tachycardia',\n",
              " 'premature',\n",
              " 'd',\n",
              " 'sharing',\n",
              " 'bones',\n",
              " 'menu',\n",
              " 'multiple',\n",
              " 'allergies',\n",
              " 'pinterest',\n",
              " 'world',\n",
              " 'paranoia',\n",
              " 'neck',\n",
              " 'confusion',\n",
              " 'tested',\n",
              " 'migraines',\n",
              " 'terrors',\n",
              " 'unspecified',\n",
              " 'lets',\n",
              " 'bites',\n",
              " 'expo',\n",
              " 'flour',\n",
              " 'few',\n",
              " 'children',\n",
              " 'into',\n",
              " 'mt',\n",
              " 'breaking',\n",
              " 'avoid',\n",
              " 'awesome',\n",
              " 'two',\n",
              " 'without',\n",
              " 'tests',\n",
              " 'myocardial',\n",
              " 'undiagnosed',\n",
              " 'substance',\n",
              " 'able',\n",
              " 'something',\n",
              " 'manic',\n",
              " 'hot',\n",
              " 'rise',\n",
              " 'upper',\n",
              " 'trippin',\n",
              " 'acidosis',\n",
              " 'bronchitis',\n",
              " 'cyst',\n",
              " 'ur',\n",
              " 'stay',\n",
              " 'prozac',\n",
              " 'mad',\n",
              " 'acne',\n",
              " 'dinner',\n",
              " 'weekend',\n",
              " 'fun',\n",
              " 'indifferent',\n",
              " 'interactions',\n",
              " 'bakery',\n",
              " 'experience',\n",
              " 'found',\n",
              " 'common',\n",
              " 'thrombosis',\n",
              " 'altered',\n",
              " 'favorite',\n",
              " 'distracted',\n",
              " 'hyperactivity',\n",
              " 'enzyme',\n",
              " 'arousal',\n",
              " 'having',\n",
              " 'anxious',\n",
              " '&',\n",
              " 'lifestyle',\n",
              " 'tenderness',\n",
              " 'event',\n",
              " 'limbs',\n",
              " 'bowel',\n",
              " 'result',\n",
              " 'epilepsy',\n",
              " 'syncope',\n",
              " 'positive',\n",
              " 'syndromes',\n",
              " 'urinary',\n",
              " 'fucked',\n",
              " 'esophageal',\n",
              " 'must',\n",
              " 'atrioventricular',\n",
              " 'break',\n",
              " 'person',\n",
              " 'ways',\n",
              " 'fluid',\n",
              " 'wait',\n",
              " 'antisocial',\n",
              " 'knee',\n",
              " 'meet',\n",
              " 'call',\n",
              " 'family',\n",
              " 'oats',\n",
              " 'cook',\n",
              " 'add',\n",
              " 'shaking',\n",
              " 'infarction',\n",
              " 'bruxism',\n",
              " 'camp',\n",
              " 'awful',\n",
              " 'sentence',\n",
              " 'lesion',\n",
              " 'full',\n",
              " 'bloating',\n",
              " 'labored',\n",
              " 'eyelid',\n",
              " 'sad',\n",
              " 'thing',\n",
              " 'autoimmune',\n",
              " 'media',\n",
              " 'blurred',\n",
              " 'yet',\n",
              " 'eaten',\n",
              " 'iron',\n",
              " 'perforation',\n",
              " 'available',\n",
              " 'until',\n",
              " 'll',\n",
              " 'artery',\n",
              " 'spasms',\n",
              " 'alkalosis',\n",
              " 'matters',\n",
              " 'anorexia',\n",
              " '/',\n",
              " 'acid',\n",
              " 'walking',\n",
              " 'poor',\n",
              " 'myself',\n",
              " 'needs',\n",
              " 'influenza',\n",
              " 'hyperplasia',\n",
              " 'conjunctivitis',\n",
              " 'girl',\n",
              " 'amazing',\n",
              " 'listen',\n",
              " 'hypertrophy',\n",
              " 'medical',\n",
              " 'viral',\n",
              " 'remember',\n",
              " 'problem',\n",
              " 'erectile',\n",
              " '22',\n",
              " 'changes',\n",
              " 'early',\n",
              " 'epidermal',\n",
              " 'rheumatoid',\n",
              " 'research',\n",
              " 'delayed',\n",
              " 'increase',\n",
              " 'otitis',\n",
              " 'another',\n",
              " 'paralysed',\n",
              " 'abdomen',\n",
              " 'atrophic',\n",
              " 'ill',\n",
              " 'grain',\n",
              " 'prothrombin',\n",
              " 'sickness',\n",
              " 'focusing',\n",
              " 'porphyria',\n",
              " 'reduced',\n",
              " 'fucking',\n",
              " 'hit',\n",
              " 'intense',\n",
              " 'ovarian',\n",
              " 'ulcerative',\n",
              " 'leukemia',\n",
              " 'hypersomnia',\n",
              " 'neuralgia',\n",
              " 'provide',\n",
              " 'macular',\n",
              " 'hurts',\n",
              " 'mellitus',\n",
              " 'thinness',\n",
              " 'secondary',\n",
              " 'zaps',\n",
              " 'understand',\n",
              " 'r',\n",
              " 'nail',\n",
              " 'bullous',\n",
              " 'action',\n",
              " 'pounding',\n",
              " 'radio',\n",
              " 'central',\n",
              " 'cough',\n",
              " 'crust',\n",
              " \"'s\",\n",
              " 'embolism',\n",
              " 'rupture',\n",
              " 'ischemia',\n",
              " 'group',\n",
              " 'quality',\n",
              " 'esophagitis',\n",
              " 'deafness',\n",
              " 'behaviour',\n",
              " 'snack',\n",
              " 'between',\n",
              " 'bilirubin',\n",
              " 'say',\n",
              " 'sinusitis',\n",
              " 'fibrillation',\n",
              " 'ago',\n",
              " '.',\n",
              " 'black',\n",
              " 'eruptions',\n",
              " 'associated',\n",
              " 'burning',\n",
              " 'h',\n",
              " 'went',\n",
              " 'worse',\n",
              " 'obstructive',\n",
              " 'tx',\n",
              " 'rate',\n",
              " 'contact',\n",
              " 'says',\n",
              " 'serve',\n",
              " 'cheese',\n",
              " 'shit',\n",
              " 'excited',\n",
              " 'retinal',\n",
              " 'prostate',\n",
              " 'series',\n",
              " 'water',\n",
              " 'groggy',\n",
              " 'around',\n",
              " 'gait',\n",
              " 'total',\n",
              " 'retention',\n",
              " 'shock',\n",
              " 'toxicity',\n",
              " 'generalised',\n",
              " 'male',\n",
              " 'plague',\n",
              " '1st',\n",
              " 'sore',\n",
              " 'trying',\n",
              " 'mean',\n",
              " 'order',\n",
              " 'meals',\n",
              " 'hearing',\n",
              " '20',\n",
              " 'white',\n",
              " 'metabolic',\n",
              " 'reading',\n",
              " 'anything',\n",
              " 'knock',\n",
              " 'sensitive',\n",
              " 'hope',\n",
              " 'hormone',\n",
              " 'drink',\n",
              " 'place',\n",
              " 'temperature',\n",
              " 'everything',\n",
              " 'hangover',\n",
              " '24',\n",
              " 'mania',\n",
              " 'international',\n",
              " 'eczema',\n",
              " 'herpes',\n",
              " 'hate',\n",
              " 'spread',\n",
              " 'difficult',\n",
              " 'arterial',\n",
              " 'heartburn',\n",
              " 'pissed',\n",
              " 'plant',\n",
              " 'retardation',\n",
              " 'hypersensitivity',\n",
              " 'squamous',\n",
              " 'term',\n",
              " 'illness',\n",
              " '8',\n",
              " 'caused',\n",
              " 'erythematosus',\n",
              " 'numb',\n",
              " 'enough',\n",
              " 'thirsty',\n",
              " 'upset',\n",
              " 'slept',\n",
              " 'accidental',\n",
              " 'abscess',\n",
              " 'fad',\n",
              " 'psychological',\n",
              " 'rectal',\n",
              " 'grumpy',\n",
              " 'gt',\n",
              " 'protein',\n",
              " 'toxic',\n",
              " 'arteritis',\n",
              " 'convulsive',\n",
              " 'dryness',\n",
              " 'discoloration',\n",
              " 'donate',\n",
              " 'nodule',\n",
              " 'clean',\n",
              " 'house',\n",
              " 'diastolic',\n",
              " 'apnea',\n",
              " 'retweet',\n",
              " 'creatine',\n",
              " 'pancreatitis',\n",
              " 'lunch',\n",
              " 'toe',\n",
              " 'ankle',\n",
              " 'past',\n",
              " 'stomatitis',\n",
              " 'dear',\n",
              " 'guide',\n",
              " 'tightness',\n",
              " 'blindness',\n",
              " 'summer',\n",
              " 'puking',\n",
              " 'featured',\n",
              " 'gaining',\n",
              " 'forward',\n",
              " 'coagulation',\n",
              " 'son',\n",
              " 'he',\n",
              " ...]"
            ]
          },
          "metadata": {
            "tags": []
          },
          "execution_count": 18
        }
      ]
    },
    {
      "cell_type": "code",
      "metadata": {
        "id": "yPWr03mls3VT",
        "outputId": "abe7a79e-e98a-4957-cdf0-a5c14f952b68",
        "colab": {
          "base_uri": "https://localhost:8080/",
          "height": 17
        }
      },
      "source": [
        "model_path = path/'models'\n",
        "model_path.mkdir(exist_ok=True)\n",
        "url = 'http://files.fast.ai/models/wt103_v1/'\n",
        "download_url(f'{url}lstm_wt103.pth', model_path/'lstm_wt103.pth')\n",
        "download_url(f'{url}itos_wt103.pkl', model_path/'itos_wt103.pkl')"
      ],
      "execution_count": 19,
      "outputs": [
        {
          "output_type": "display_data",
          "data": {
            "text/html": [
              ""
            ],
            "text/plain": [
              "<IPython.core.display.HTML object>"
            ]
          },
          "metadata": {
            "tags": []
          }
        },
        {
          "output_type": "display_data",
          "data": {
            "text/html": [
              ""
            ],
            "text/plain": [
              "<IPython.core.display.HTML object>"
            ]
          },
          "metadata": {
            "tags": []
          }
        }
      ]
    },
    {
      "cell_type": "code",
      "metadata": {
        "id": "JRzvWg8RtGGr",
        "outputId": "adc70fdb-a729-4e1c-bc8c-15a642bc3d30",
        "colab": {
          "base_uri": "https://localhost:8080/",
          "height": 34
        }
      },
      "source": [
        "learn = language_model_learner(data_lm, AWD_LSTM, drop_mult=0.5)"
      ],
      "execution_count": 20,
      "outputs": [
        {
          "output_type": "stream",
          "text": [
            "Downloading https://s3.amazonaws.com/fast-ai-modelzoo/wt103-fwd.tgz\n"
          ],
          "name": "stdout"
        },
        {
          "output_type": "display_data",
          "data": {
            "text/html": [
              ""
            ],
            "text/plain": [
              "<IPython.core.display.HTML object>"
            ]
          },
          "metadata": {
            "tags": []
          }
        }
      ]
    },
    {
      "cell_type": "code",
      "metadata": {
        "id": "xKK7GeBev7Xn",
        "outputId": "b1393a46-b4e6-480d-cc6f-b7579dd8c989",
        "colab": {
          "base_uri": "https://localhost:8080/",
          "height": 80
        }
      },
      "source": [
        "learn.fit_one_cycle(1, 1e-2)"
      ],
      "execution_count": 21,
      "outputs": [
        {
          "output_type": "display_data",
          "data": {
            "text/html": [
              "<table border=\"1\" class=\"dataframe\">\n",
              "  <thead>\n",
              "    <tr style=\"text-align: left;\">\n",
              "      <th>epoch</th>\n",
              "      <th>train_loss</th>\n",
              "      <th>valid_loss</th>\n",
              "      <th>accuracy</th>\n",
              "      <th>time</th>\n",
              "    </tr>\n",
              "  </thead>\n",
              "  <tbody>\n",
              "    <tr>\n",
              "      <td>0</td>\n",
              "      <td>4.385629</td>\n",
              "      <td>3.484433</td>\n",
              "      <td>0.457799</td>\n",
              "      <td>09:28</td>\n",
              "    </tr>\n",
              "  </tbody>\n",
              "</table>"
            ],
            "text/plain": [
              "<IPython.core.display.HTML object>"
            ]
          },
          "metadata": {
            "tags": []
          }
        }
      ]
    },
    {
      "cell_type": "code",
      "metadata": {
        "id": "iB7rHGQCwd12",
        "outputId": "1859062e-c5c1-44ed-966a-eefd07a2924f",
        "colab": {
          "base_uri": "https://localhost:8080/",
          "height": 80
        }
      },
      "source": [
        "learn.fit_one_cycle(1, 1e-2)"
      ],
      "execution_count": 22,
      "outputs": [
        {
          "output_type": "display_data",
          "data": {
            "text/html": [
              "<table border=\"1\" class=\"dataframe\">\n",
              "  <thead>\n",
              "    <tr style=\"text-align: left;\">\n",
              "      <th>epoch</th>\n",
              "      <th>train_loss</th>\n",
              "      <th>valid_loss</th>\n",
              "      <th>accuracy</th>\n",
              "      <th>time</th>\n",
              "    </tr>\n",
              "  </thead>\n",
              "  <tbody>\n",
              "    <tr>\n",
              "      <td>0</td>\n",
              "      <td>3.296715</td>\n",
              "      <td>2.966052</td>\n",
              "      <td>0.516364</td>\n",
              "      <td>09:28</td>\n",
              "    </tr>\n",
              "  </tbody>\n",
              "</table>"
            ],
            "text/plain": [
              "<IPython.core.display.HTML object>"
            ]
          },
          "metadata": {
            "tags": []
          }
        }
      ]
    },
    {
      "cell_type": "code",
      "metadata": {
        "id": "_BnSuAeCwkBe",
        "outputId": "3dff222f-5d9f-49b5-b4c2-cdbe42dae9c0",
        "colab": {
          "base_uri": "https://localhost:8080/",
          "height": 80
        }
      },
      "source": [
        "learn.fit_one_cycle(1, 1e-3)"
      ],
      "execution_count": 23,
      "outputs": [
        {
          "output_type": "display_data",
          "data": {
            "text/html": [
              "<table border=\"1\" class=\"dataframe\">\n",
              "  <thead>\n",
              "    <tr style=\"text-align: left;\">\n",
              "      <th>epoch</th>\n",
              "      <th>train_loss</th>\n",
              "      <th>valid_loss</th>\n",
              "      <th>accuracy</th>\n",
              "      <th>time</th>\n",
              "    </tr>\n",
              "  </thead>\n",
              "  <tbody>\n",
              "    <tr>\n",
              "      <td>0</td>\n",
              "      <td>3.045030</td>\n",
              "      <td>2.918965</td>\n",
              "      <td>0.521931</td>\n",
              "      <td>09:30</td>\n",
              "    </tr>\n",
              "  </tbody>\n",
              "</table>"
            ],
            "text/plain": [
              "<IPython.core.display.HTML object>"
            ]
          },
          "metadata": {
            "tags": []
          }
        }
      ]
    },
    {
      "cell_type": "code",
      "metadata": {
        "id": "MuTm-RFjwrEX",
        "outputId": "ea871f01-b6b7-4a34-f60a-31944db904df",
        "colab": {
          "base_uri": "https://localhost:8080/",
          "height": 80
        }
      },
      "source": [
        "learn.fit_one_cycle(1, 1e-3)"
      ],
      "execution_count": 24,
      "outputs": [
        {
          "output_type": "display_data",
          "data": {
            "text/html": [
              "<table border=\"1\" class=\"dataframe\">\n",
              "  <thead>\n",
              "    <tr style=\"text-align: left;\">\n",
              "      <th>epoch</th>\n",
              "      <th>train_loss</th>\n",
              "      <th>valid_loss</th>\n",
              "      <th>accuracy</th>\n",
              "      <th>time</th>\n",
              "    </tr>\n",
              "  </thead>\n",
              "  <tbody>\n",
              "    <tr>\n",
              "      <td>0</td>\n",
              "      <td>2.982490</td>\n",
              "      <td>2.880805</td>\n",
              "      <td>0.526409</td>\n",
              "      <td>09:26</td>\n",
              "    </tr>\n",
              "  </tbody>\n",
              "</table>"
            ],
            "text/plain": [
              "<IPython.core.display.HTML object>"
            ]
          },
          "metadata": {
            "tags": []
          }
        }
      ]
    },
    {
      "cell_type": "code",
      "metadata": {
        "id": "1Er2ExO8wr7Y"
      },
      "source": [
        "learn.save_encoder('TwADR-bigtweet_fold9_first')"
      ],
      "execution_count": 25,
      "outputs": []
    },
    {
      "cell_type": "code",
      "metadata": {
        "id": "z52cZs2qwvad",
        "outputId": "2cd24577-5563-4579-c81b-a3cbc2708d15",
        "colab": {
          "base_uri": "https://localhost:8080/",
          "height": 80
        }
      },
      "source": [
        "learn = text_classifier_learner(data_clas,AWD_LSTM, drop_mult=0.5)\n",
        "learn.load_encoder('TwADR-bigtweet_fold9_first')\n",
        "learn.fit_one_cycle(1, 1e-2)"
      ],
      "execution_count": 26,
      "outputs": [
        {
          "output_type": "display_data",
          "data": {
            "text/html": [
              "<table border=\"1\" class=\"dataframe\">\n",
              "  <thead>\n",
              "    <tr style=\"text-align: left;\">\n",
              "      <th>epoch</th>\n",
              "      <th>train_loss</th>\n",
              "      <th>valid_loss</th>\n",
              "      <th>accuracy</th>\n",
              "      <th>time</th>\n",
              "    </tr>\n",
              "  </thead>\n",
              "  <tbody>\n",
              "    <tr>\n",
              "      <td>0</td>\n",
              "      <td>7.155895</td>\n",
              "      <td>6.270933</td>\n",
              "      <td>0.075000</td>\n",
              "      <td>00:26</td>\n",
              "    </tr>\n",
              "  </tbody>\n",
              "</table>"
            ],
            "text/plain": [
              "<IPython.core.display.HTML object>"
            ]
          },
          "metadata": {
            "tags": []
          }
        }
      ]
    },
    {
      "cell_type": "code",
      "metadata": {
        "id": "ImwQP1PJwzxd",
        "outputId": "d42cf5fe-f30d-41b2-dd8e-8a0214f5eb70",
        "colab": {
          "base_uri": "https://localhost:8080/",
          "height": 80
        }
      },
      "source": [
        "learn.freeze_to(-2)\n",
        "learn.fit_one_cycle(1, slice(5e-3/2., 5e-3))"
      ],
      "execution_count": 27,
      "outputs": [
        {
          "output_type": "display_data",
          "data": {
            "text/html": [
              "<table border=\"1\" class=\"dataframe\">\n",
              "  <thead>\n",
              "    <tr style=\"text-align: left;\">\n",
              "      <th>epoch</th>\n",
              "      <th>train_loss</th>\n",
              "      <th>valid_loss</th>\n",
              "      <th>accuracy</th>\n",
              "      <th>time</th>\n",
              "    </tr>\n",
              "  </thead>\n",
              "  <tbody>\n",
              "    <tr>\n",
              "      <td>0</td>\n",
              "      <td>6.293078</td>\n",
              "      <td>5.116701</td>\n",
              "      <td>0.183333</td>\n",
              "      <td>00:27</td>\n",
              "    </tr>\n",
              "  </tbody>\n",
              "</table>"
            ],
            "text/plain": [
              "<IPython.core.display.HTML object>"
            ]
          },
          "metadata": {
            "tags": []
          }
        }
      ]
    },
    {
      "cell_type": "code",
      "metadata": {
        "id": "Owff_BJXw53u",
        "outputId": "b8eb7a72-38f2-43aa-ad15-7fe23d90676e",
        "colab": {
          "base_uri": "https://localhost:8080/",
          "height": 80
        }
      },
      "source": [
        "learn.unfreeze()\n",
        "learn.fit_one_cycle(1, slice(2e-3/100, 2e-3))"
      ],
      "execution_count": 28,
      "outputs": [
        {
          "output_type": "display_data",
          "data": {
            "text/html": [
              "<table border=\"1\" class=\"dataframe\">\n",
              "  <thead>\n",
              "    <tr style=\"text-align: left;\">\n",
              "      <th>epoch</th>\n",
              "      <th>train_loss</th>\n",
              "      <th>valid_loss</th>\n",
              "      <th>accuracy</th>\n",
              "      <th>time</th>\n",
              "    </tr>\n",
              "  </thead>\n",
              "  <tbody>\n",
              "    <tr>\n",
              "      <td>0</td>\n",
              "      <td>5.807323</td>\n",
              "      <td>4.914063</td>\n",
              "      <td>0.200000</td>\n",
              "      <td>01:04</td>\n",
              "    </tr>\n",
              "  </tbody>\n",
              "</table>"
            ],
            "text/plain": [
              "<IPython.core.display.HTML object>"
            ]
          },
          "metadata": {
            "tags": []
          }
        }
      ]
    },
    {
      "cell_type": "code",
      "metadata": {
        "id": "lqAyu56V8Waq",
        "outputId": "8755d0da-f236-4984-8f4c-aa991cd6a9f2",
        "colab": {
          "base_uri": "https://localhost:8080/",
          "height": 111
        }
      },
      "source": [
        "learn.fit_one_cycle(2, slice(2e-3/100, 2e-3))"
      ],
      "execution_count": 29,
      "outputs": [
        {
          "output_type": "display_data",
          "data": {
            "text/html": [
              "<table border=\"1\" class=\"dataframe\">\n",
              "  <thead>\n",
              "    <tr style=\"text-align: left;\">\n",
              "      <th>epoch</th>\n",
              "      <th>train_loss</th>\n",
              "      <th>valid_loss</th>\n",
              "      <th>accuracy</th>\n",
              "      <th>time</th>\n",
              "    </tr>\n",
              "  </thead>\n",
              "  <tbody>\n",
              "    <tr>\n",
              "      <td>0</td>\n",
              "      <td>5.487289</td>\n",
              "      <td>4.591508</td>\n",
              "      <td>0.241667</td>\n",
              "      <td>01:04</td>\n",
              "    </tr>\n",
              "    <tr>\n",
              "      <td>1</td>\n",
              "      <td>5.277765</td>\n",
              "      <td>4.418663</td>\n",
              "      <td>0.250000</td>\n",
              "      <td>01:09</td>\n",
              "    </tr>\n",
              "  </tbody>\n",
              "</table>"
            ],
            "text/plain": [
              "<IPython.core.display.HTML object>"
            ]
          },
          "metadata": {
            "tags": []
          }
        }
      ]
    },
    {
      "cell_type": "code",
      "metadata": {
        "id": "a7I1xMRp8bUd",
        "outputId": "914c41b6-30bf-4700-ace5-06838c74b1ce",
        "colab": {
          "base_uri": "https://localhost:8080/",
          "height": 111
        }
      },
      "source": [
        "learn.fit_one_cycle(2, slice(2e-3/100, 2e-3))"
      ],
      "execution_count": 30,
      "outputs": [
        {
          "output_type": "display_data",
          "data": {
            "text/html": [
              "<table border=\"1\" class=\"dataframe\">\n",
              "  <thead>\n",
              "    <tr style=\"text-align: left;\">\n",
              "      <th>epoch</th>\n",
              "      <th>train_loss</th>\n",
              "      <th>valid_loss</th>\n",
              "      <th>accuracy</th>\n",
              "      <th>time</th>\n",
              "    </tr>\n",
              "  </thead>\n",
              "  <tbody>\n",
              "    <tr>\n",
              "      <td>0</td>\n",
              "      <td>5.031144</td>\n",
              "      <td>4.239302</td>\n",
              "      <td>0.266667</td>\n",
              "      <td>01:05</td>\n",
              "    </tr>\n",
              "    <tr>\n",
              "      <td>1</td>\n",
              "      <td>4.848877</td>\n",
              "      <td>4.053729</td>\n",
              "      <td>0.316667</td>\n",
              "      <td>01:10</td>\n",
              "    </tr>\n",
              "  </tbody>\n",
              "</table>"
            ],
            "text/plain": [
              "<IPython.core.display.HTML object>"
            ]
          },
          "metadata": {
            "tags": []
          }
        }
      ]
    },
    {
      "cell_type": "code",
      "metadata": {
        "id": "UAnti-XmGVfO",
        "outputId": "b2b37f19-157f-4643-bc94-4284b4375262",
        "colab": {
          "base_uri": "https://localhost:8080/",
          "height": 111
        }
      },
      "source": [
        "learn.fit_one_cycle(2, slice(2e-3/100, 2e-3))"
      ],
      "execution_count": 31,
      "outputs": [
        {
          "output_type": "display_data",
          "data": {
            "text/html": [
              "<table border=\"1\" class=\"dataframe\">\n",
              "  <thead>\n",
              "    <tr style=\"text-align: left;\">\n",
              "      <th>epoch</th>\n",
              "      <th>train_loss</th>\n",
              "      <th>valid_loss</th>\n",
              "      <th>accuracy</th>\n",
              "      <th>time</th>\n",
              "    </tr>\n",
              "  </thead>\n",
              "  <tbody>\n",
              "    <tr>\n",
              "      <td>0</td>\n",
              "      <td>4.632229</td>\n",
              "      <td>4.074724</td>\n",
              "      <td>0.308333</td>\n",
              "      <td>01:04</td>\n",
              "    </tr>\n",
              "    <tr>\n",
              "      <td>1</td>\n",
              "      <td>4.460736</td>\n",
              "      <td>3.912327</td>\n",
              "      <td>0.341667</td>\n",
              "      <td>01:11</td>\n",
              "    </tr>\n",
              "  </tbody>\n",
              "</table>"
            ],
            "text/plain": [
              "<IPython.core.display.HTML object>"
            ]
          },
          "metadata": {
            "tags": []
          }
        }
      ]
    },
    {
      "cell_type": "code",
      "metadata": {
        "id": "bIft7W25GwSu",
        "outputId": "92a66628-b812-4d63-bf40-d4b5cefde333",
        "colab": {
          "base_uri": "https://localhost:8080/",
          "height": 111
        }
      },
      "source": [
        "learn.fit_one_cycle(2, slice(2e-3/100, 2e-3))"
      ],
      "execution_count": 32,
      "outputs": [
        {
          "output_type": "display_data",
          "data": {
            "text/html": [
              "<table border=\"1\" class=\"dataframe\">\n",
              "  <thead>\n",
              "    <tr style=\"text-align: left;\">\n",
              "      <th>epoch</th>\n",
              "      <th>train_loss</th>\n",
              "      <th>valid_loss</th>\n",
              "      <th>accuracy</th>\n",
              "      <th>time</th>\n",
              "    </tr>\n",
              "  </thead>\n",
              "  <tbody>\n",
              "    <tr>\n",
              "      <td>0</td>\n",
              "      <td>4.242550</td>\n",
              "      <td>3.748682</td>\n",
              "      <td>0.366667</td>\n",
              "      <td>01:08</td>\n",
              "    </tr>\n",
              "    <tr>\n",
              "      <td>1</td>\n",
              "      <td>4.071370</td>\n",
              "      <td>3.696563</td>\n",
              "      <td>0.341667</td>\n",
              "      <td>01:12</td>\n",
              "    </tr>\n",
              "  </tbody>\n",
              "</table>"
            ],
            "text/plain": [
              "<IPython.core.display.HTML object>"
            ]
          },
          "metadata": {
            "tags": []
          }
        }
      ]
    },
    {
      "cell_type": "code",
      "metadata": {
        "id": "EEHszVRvGyFt",
        "outputId": "cbd6f020-7a3e-44df-b968-c5b25f53d571",
        "colab": {
          "base_uri": "https://localhost:8080/",
          "height": 111
        }
      },
      "source": [
        "learn.fit_one_cycle(2, slice(2e-3/100, 2e-3))"
      ],
      "execution_count": 33,
      "outputs": [
        {
          "output_type": "display_data",
          "data": {
            "text/html": [
              "<table border=\"1\" class=\"dataframe\">\n",
              "  <thead>\n",
              "    <tr style=\"text-align: left;\">\n",
              "      <th>epoch</th>\n",
              "      <th>train_loss</th>\n",
              "      <th>valid_loss</th>\n",
              "      <th>accuracy</th>\n",
              "      <th>time</th>\n",
              "    </tr>\n",
              "  </thead>\n",
              "  <tbody>\n",
              "    <tr>\n",
              "      <td>0</td>\n",
              "      <td>3.896702</td>\n",
              "      <td>3.686009</td>\n",
              "      <td>0.358333</td>\n",
              "      <td>01:06</td>\n",
              "    </tr>\n",
              "    <tr>\n",
              "      <td>1</td>\n",
              "      <td>3.770431</td>\n",
              "      <td>3.617253</td>\n",
              "      <td>0.408333</td>\n",
              "      <td>01:08</td>\n",
              "    </tr>\n",
              "  </tbody>\n",
              "</table>"
            ],
            "text/plain": [
              "<IPython.core.display.HTML object>"
            ]
          },
          "metadata": {
            "tags": []
          }
        }
      ]
    },
    {
      "cell_type": "code",
      "metadata": {
        "id": "XsHfrhCHG3dN",
        "outputId": "d855de98-c998-40eb-8b31-d60b2a812b9d",
        "colab": {
          "base_uri": "https://localhost:8080/",
          "height": 173
        }
      },
      "source": [
        "learn.fit_one_cycle(4, slice(2e-3/100, 2e-3))"
      ],
      "execution_count": 34,
      "outputs": [
        {
          "output_type": "display_data",
          "data": {
            "text/html": [
              "<table border=\"1\" class=\"dataframe\">\n",
              "  <thead>\n",
              "    <tr style=\"text-align: left;\">\n",
              "      <th>epoch</th>\n",
              "      <th>train_loss</th>\n",
              "      <th>valid_loss</th>\n",
              "      <th>accuracy</th>\n",
              "      <th>time</th>\n",
              "    </tr>\n",
              "  </thead>\n",
              "  <tbody>\n",
              "    <tr>\n",
              "      <td>0</td>\n",
              "      <td>3.624521</td>\n",
              "      <td>3.580287</td>\n",
              "      <td>0.358333</td>\n",
              "      <td>01:06</td>\n",
              "    </tr>\n",
              "    <tr>\n",
              "      <td>1</td>\n",
              "      <td>3.519294</td>\n",
              "      <td>3.628776</td>\n",
              "      <td>0.383333</td>\n",
              "      <td>01:03</td>\n",
              "    </tr>\n",
              "    <tr>\n",
              "      <td>2</td>\n",
              "      <td>3.323072</td>\n",
              "      <td>3.504692</td>\n",
              "      <td>0.408333</td>\n",
              "      <td>01:07</td>\n",
              "    </tr>\n",
              "    <tr>\n",
              "      <td>3</td>\n",
              "      <td>3.142925</td>\n",
              "      <td>3.488447</td>\n",
              "      <td>0.400000</td>\n",
              "      <td>01:09</td>\n",
              "    </tr>\n",
              "  </tbody>\n",
              "</table>"
            ],
            "text/plain": [
              "<IPython.core.display.HTML object>"
            ]
          },
          "metadata": {
            "tags": []
          }
        }
      ]
    },
    {
      "cell_type": "code",
      "metadata": {
        "id": "0Zsd99isb9EQ",
        "outputId": "b5808df7-50f4-49f5-d7b5-7a9eb20f8135",
        "colab": {
          "base_uri": "https://localhost:8080/",
          "height": 173
        }
      },
      "source": [
        "learn.fit_one_cycle(4, slice(2e-3/100, 2e-3))"
      ],
      "execution_count": 35,
      "outputs": [
        {
          "output_type": "display_data",
          "data": {
            "text/html": [
              "<table border=\"1\" class=\"dataframe\">\n",
              "  <thead>\n",
              "    <tr style=\"text-align: left;\">\n",
              "      <th>epoch</th>\n",
              "      <th>train_loss</th>\n",
              "      <th>valid_loss</th>\n",
              "      <th>accuracy</th>\n",
              "      <th>time</th>\n",
              "    </tr>\n",
              "  </thead>\n",
              "  <tbody>\n",
              "    <tr>\n",
              "      <td>0</td>\n",
              "      <td>2.994019</td>\n",
              "      <td>3.449880</td>\n",
              "      <td>0.408333</td>\n",
              "      <td>01:10</td>\n",
              "    </tr>\n",
              "    <tr>\n",
              "      <td>1</td>\n",
              "      <td>2.954769</td>\n",
              "      <td>3.400446</td>\n",
              "      <td>0.408333</td>\n",
              "      <td>01:09</td>\n",
              "    </tr>\n",
              "    <tr>\n",
              "      <td>2</td>\n",
              "      <td>2.795955</td>\n",
              "      <td>3.409014</td>\n",
              "      <td>0.425000</td>\n",
              "      <td>01:07</td>\n",
              "    </tr>\n",
              "    <tr>\n",
              "      <td>3</td>\n",
              "      <td>2.619745</td>\n",
              "      <td>3.392304</td>\n",
              "      <td>0.408333</td>\n",
              "      <td>01:05</td>\n",
              "    </tr>\n",
              "  </tbody>\n",
              "</table>"
            ],
            "text/plain": [
              "<IPython.core.display.HTML object>"
            ]
          },
          "metadata": {
            "tags": []
          }
        }
      ]
    },
    {
      "cell_type": "code",
      "metadata": {
        "id": "atNWNKDFPbuI",
        "outputId": "b01caa33-d4bf-462d-f95c-319079522a49",
        "colab": {
          "base_uri": "https://localhost:8080/",
          "height": 173
        }
      },
      "source": [
        "learn.fit_one_cycle(4, slice(2e-3/100, 2e-3))"
      ],
      "execution_count": 36,
      "outputs": [
        {
          "output_type": "display_data",
          "data": {
            "text/html": [
              "<table border=\"1\" class=\"dataframe\">\n",
              "  <thead>\n",
              "    <tr style=\"text-align: left;\">\n",
              "      <th>epoch</th>\n",
              "      <th>train_loss</th>\n",
              "      <th>valid_loss</th>\n",
              "      <th>accuracy</th>\n",
              "      <th>time</th>\n",
              "    </tr>\n",
              "  </thead>\n",
              "  <tbody>\n",
              "    <tr>\n",
              "      <td>0</td>\n",
              "      <td>2.430861</td>\n",
              "      <td>3.459643</td>\n",
              "      <td>0.433333</td>\n",
              "      <td>01:07</td>\n",
              "    </tr>\n",
              "    <tr>\n",
              "      <td>1</td>\n",
              "      <td>2.403485</td>\n",
              "      <td>3.386501</td>\n",
              "      <td>0.408333</td>\n",
              "      <td>01:06</td>\n",
              "    </tr>\n",
              "    <tr>\n",
              "      <td>2</td>\n",
              "      <td>2.264062</td>\n",
              "      <td>3.523529</td>\n",
              "      <td>0.416667</td>\n",
              "      <td>01:03</td>\n",
              "    </tr>\n",
              "    <tr>\n",
              "      <td>3</td>\n",
              "      <td>2.105603</td>\n",
              "      <td>3.437696</td>\n",
              "      <td>0.416667</td>\n",
              "      <td>01:08</td>\n",
              "    </tr>\n",
              "  </tbody>\n",
              "</table>"
            ],
            "text/plain": [
              "<IPython.core.display.HTML object>"
            ]
          },
          "metadata": {
            "tags": []
          }
        }
      ]
    },
    {
      "cell_type": "code",
      "metadata": {
        "id": "rKrBTZ0T1uVA",
        "outputId": "0c73ffe8-dd36-4ed6-b768-cc886afd83f6",
        "colab": {
          "base_uri": "https://localhost:8080/",
          "height": 173
        }
      },
      "source": [
        "learn.fit_one_cycle(4, slice(2e-3/100, 2e-3))"
      ],
      "execution_count": 37,
      "outputs": [
        {
          "output_type": "display_data",
          "data": {
            "text/html": [
              "<table border=\"1\" class=\"dataframe\">\n",
              "  <thead>\n",
              "    <tr style=\"text-align: left;\">\n",
              "      <th>epoch</th>\n",
              "      <th>train_loss</th>\n",
              "      <th>valid_loss</th>\n",
              "      <th>accuracy</th>\n",
              "      <th>time</th>\n",
              "    </tr>\n",
              "  </thead>\n",
              "  <tbody>\n",
              "    <tr>\n",
              "      <td>0</td>\n",
              "      <td>1.992726</td>\n",
              "      <td>3.444021</td>\n",
              "      <td>0.441667</td>\n",
              "      <td>01:08</td>\n",
              "    </tr>\n",
              "    <tr>\n",
              "      <td>1</td>\n",
              "      <td>1.982725</td>\n",
              "      <td>3.550498</td>\n",
              "      <td>0.408333</td>\n",
              "      <td>01:06</td>\n",
              "    </tr>\n",
              "    <tr>\n",
              "      <td>2</td>\n",
              "      <td>1.842712</td>\n",
              "      <td>3.581520</td>\n",
              "      <td>0.441667</td>\n",
              "      <td>01:04</td>\n",
              "    </tr>\n",
              "    <tr>\n",
              "      <td>3</td>\n",
              "      <td>1.694969</td>\n",
              "      <td>3.494148</td>\n",
              "      <td>0.433333</td>\n",
              "      <td>01:08</td>\n",
              "    </tr>\n",
              "  </tbody>\n",
              "</table>"
            ],
            "text/plain": [
              "<IPython.core.display.HTML object>"
            ]
          },
          "metadata": {
            "tags": []
          }
        }
      ]
    },
    {
      "cell_type": "code",
      "metadata": {
        "id": "ajQC6WDg1yA9",
        "outputId": "7dc2c8a2-6f98-4bd5-d5a3-89d109d15684",
        "colab": {
          "base_uri": "https://localhost:8080/",
          "height": 173
        }
      },
      "source": [
        "learn.fit_one_cycle(4, slice(2e-3/100, 2e-3))"
      ],
      "execution_count": 38,
      "outputs": [
        {
          "output_type": "display_data",
          "data": {
            "text/html": [
              "<table border=\"1\" class=\"dataframe\">\n",
              "  <thead>\n",
              "    <tr style=\"text-align: left;\">\n",
              "      <th>epoch</th>\n",
              "      <th>train_loss</th>\n",
              "      <th>valid_loss</th>\n",
              "      <th>accuracy</th>\n",
              "      <th>time</th>\n",
              "    </tr>\n",
              "  </thead>\n",
              "  <tbody>\n",
              "    <tr>\n",
              "      <td>0</td>\n",
              "      <td>1.590047</td>\n",
              "      <td>3.491974</td>\n",
              "      <td>0.425000</td>\n",
              "      <td>01:08</td>\n",
              "    </tr>\n",
              "    <tr>\n",
              "      <td>1</td>\n",
              "      <td>1.570721</td>\n",
              "      <td>3.741104</td>\n",
              "      <td>0.416667</td>\n",
              "      <td>01:07</td>\n",
              "    </tr>\n",
              "    <tr>\n",
              "      <td>2</td>\n",
              "      <td>1.445238</td>\n",
              "      <td>3.596417</td>\n",
              "      <td>0.416667</td>\n",
              "      <td>01:04</td>\n",
              "    </tr>\n",
              "    <tr>\n",
              "      <td>3</td>\n",
              "      <td>1.318542</td>\n",
              "      <td>3.540857</td>\n",
              "      <td>0.416667</td>\n",
              "      <td>01:08</td>\n",
              "    </tr>\n",
              "  </tbody>\n",
              "</table>"
            ],
            "text/plain": [
              "<IPython.core.display.HTML object>"
            ]
          },
          "metadata": {
            "tags": []
          }
        }
      ]
    },
    {
      "cell_type": "code",
      "metadata": {
        "id": "KKydb0B4BKGk",
        "outputId": "e1fc6dcf-aa13-423f-9c71-54de2e37827e",
        "colab": {
          "base_uri": "https://localhost:8080/",
          "height": 173
        }
      },
      "source": [
        "learn.fit_one_cycle(4, slice(2e-3/100, 2e-3))"
      ],
      "execution_count": 39,
      "outputs": [
        {
          "output_type": "display_data",
          "data": {
            "text/html": [
              "<table border=\"1\" class=\"dataframe\">\n",
              "  <thead>\n",
              "    <tr style=\"text-align: left;\">\n",
              "      <th>epoch</th>\n",
              "      <th>train_loss</th>\n",
              "      <th>valid_loss</th>\n",
              "      <th>accuracy</th>\n",
              "      <th>time</th>\n",
              "    </tr>\n",
              "  </thead>\n",
              "  <tbody>\n",
              "    <tr>\n",
              "      <td>0</td>\n",
              "      <td>1.230241</td>\n",
              "      <td>3.655508</td>\n",
              "      <td>0.425000</td>\n",
              "      <td>01:02</td>\n",
              "    </tr>\n",
              "    <tr>\n",
              "      <td>1</td>\n",
              "      <td>1.262104</td>\n",
              "      <td>3.780822</td>\n",
              "      <td>0.433333</td>\n",
              "      <td>01:06</td>\n",
              "    </tr>\n",
              "    <tr>\n",
              "      <td>2</td>\n",
              "      <td>1.177107</td>\n",
              "      <td>3.702451</td>\n",
              "      <td>0.441667</td>\n",
              "      <td>01:05</td>\n",
              "    </tr>\n",
              "    <tr>\n",
              "      <td>3</td>\n",
              "      <td>1.059323</td>\n",
              "      <td>3.709318</td>\n",
              "      <td>0.425000</td>\n",
              "      <td>01:07</td>\n",
              "    </tr>\n",
              "  </tbody>\n",
              "</table>"
            ],
            "text/plain": [
              "<IPython.core.display.HTML object>"
            ]
          },
          "metadata": {
            "tags": []
          }
        }
      ]
    },
    {
      "cell_type": "code",
      "metadata": {
        "id": "T2APKtFKBpGY",
        "outputId": "54af231c-7ed0-45ad-9614-3e563bb81f24",
        "colab": {
          "base_uri": "https://localhost:8080/",
          "height": 173
        }
      },
      "source": [
        "learn.fit_one_cycle(4, slice(2e-3/100, 2e-3))"
      ],
      "execution_count": 40,
      "outputs": [
        {
          "output_type": "display_data",
          "data": {
            "text/html": [
              "<table border=\"1\" class=\"dataframe\">\n",
              "  <thead>\n",
              "    <tr style=\"text-align: left;\">\n",
              "      <th>epoch</th>\n",
              "      <th>train_loss</th>\n",
              "      <th>valid_loss</th>\n",
              "      <th>accuracy</th>\n",
              "      <th>time</th>\n",
              "    </tr>\n",
              "  </thead>\n",
              "  <tbody>\n",
              "    <tr>\n",
              "      <td>0</td>\n",
              "      <td>0.970865</td>\n",
              "      <td>3.789827</td>\n",
              "      <td>0.433333</td>\n",
              "      <td>01:11</td>\n",
              "    </tr>\n",
              "    <tr>\n",
              "      <td>1</td>\n",
              "      <td>1.006660</td>\n",
              "      <td>3.798461</td>\n",
              "      <td>0.433333</td>\n",
              "      <td>01:03</td>\n",
              "    </tr>\n",
              "    <tr>\n",
              "      <td>2</td>\n",
              "      <td>0.932177</td>\n",
              "      <td>3.868465</td>\n",
              "      <td>0.425000</td>\n",
              "      <td>01:10</td>\n",
              "    </tr>\n",
              "    <tr>\n",
              "      <td>3</td>\n",
              "      <td>0.872720</td>\n",
              "      <td>3.925463</td>\n",
              "      <td>0.441667</td>\n",
              "      <td>01:03</td>\n",
              "    </tr>\n",
              "  </tbody>\n",
              "</table>"
            ],
            "text/plain": [
              "<IPython.core.display.HTML object>"
            ]
          },
          "metadata": {
            "tags": []
          }
        }
      ]
    },
    {
      "cell_type": "code",
      "metadata": {
        "id": "qtTypA1sPgLU",
        "outputId": "83871ab7-f181-4721-e622-c1113adae373",
        "colab": {
          "base_uri": "https://localhost:8080/",
          "height": 111
        }
      },
      "source": [
        "learn.fit_one_cycle(2, slice(2e-3/100, 2e-3))"
      ],
      "execution_count": 41,
      "outputs": [
        {
          "output_type": "display_data",
          "data": {
            "text/html": [
              "<table border=\"1\" class=\"dataframe\">\n",
              "  <thead>\n",
              "    <tr style=\"text-align: left;\">\n",
              "      <th>epoch</th>\n",
              "      <th>train_loss</th>\n",
              "      <th>valid_loss</th>\n",
              "      <th>accuracy</th>\n",
              "      <th>time</th>\n",
              "    </tr>\n",
              "  </thead>\n",
              "  <tbody>\n",
              "    <tr>\n",
              "      <td>0</td>\n",
              "      <td>0.817352</td>\n",
              "      <td>3.949486</td>\n",
              "      <td>0.425000</td>\n",
              "      <td>01:04</td>\n",
              "    </tr>\n",
              "    <tr>\n",
              "      <td>1</td>\n",
              "      <td>0.788994</td>\n",
              "      <td>4.021411</td>\n",
              "      <td>0.425000</td>\n",
              "      <td>01:06</td>\n",
              "    </tr>\n",
              "  </tbody>\n",
              "</table>"
            ],
            "text/plain": [
              "<IPython.core.display.HTML object>"
            ]
          },
          "metadata": {
            "tags": []
          }
        }
      ]
    },
    {
      "cell_type": "code",
      "metadata": {
        "id": "b242kBsTUp9Y",
        "outputId": "792efa6a-8e62-4705-b816-edd30d82de00",
        "colab": {
          "base_uri": "https://localhost:8080/",
          "height": 111
        }
      },
      "source": [
        "learn.fit_one_cycle(2, slice(2e-3/100, 2e-3))"
      ],
      "execution_count": 42,
      "outputs": [
        {
          "output_type": "display_data",
          "data": {
            "text/html": [
              "<table border=\"1\" class=\"dataframe\">\n",
              "  <thead>\n",
              "    <tr style=\"text-align: left;\">\n",
              "      <th>epoch</th>\n",
              "      <th>train_loss</th>\n",
              "      <th>valid_loss</th>\n",
              "      <th>accuracy</th>\n",
              "      <th>time</th>\n",
              "    </tr>\n",
              "  </thead>\n",
              "  <tbody>\n",
              "    <tr>\n",
              "      <td>0</td>\n",
              "      <td>0.746310</td>\n",
              "      <td>4.019054</td>\n",
              "      <td>0.425000</td>\n",
              "      <td>01:08</td>\n",
              "    </tr>\n",
              "    <tr>\n",
              "      <td>1</td>\n",
              "      <td>0.744744</td>\n",
              "      <td>4.082156</td>\n",
              "      <td>0.425000</td>\n",
              "      <td>01:04</td>\n",
              "    </tr>\n",
              "  </tbody>\n",
              "</table>"
            ],
            "text/plain": [
              "<IPython.core.display.HTML object>"
            ]
          },
          "metadata": {
            "tags": []
          }
        }
      ]
    },
    {
      "cell_type": "code",
      "metadata": {
        "id": "Duwf1Ih5VeDZ",
        "outputId": "00350562-6c64-4b4e-b5b7-7bf6f8e633ee",
        "colab": {
          "base_uri": "https://localhost:8080/",
          "height": 80
        }
      },
      "source": [
        "learn.fit_one_cycle(1, slice(2e-3/100, 2e-3))"
      ],
      "execution_count": 43,
      "outputs": [
        {
          "output_type": "display_data",
          "data": {
            "text/html": [
              "<table border=\"1\" class=\"dataframe\">\n",
              "  <thead>\n",
              "    <tr style=\"text-align: left;\">\n",
              "      <th>epoch</th>\n",
              "      <th>train_loss</th>\n",
              "      <th>valid_loss</th>\n",
              "      <th>accuracy</th>\n",
              "      <th>time</th>\n",
              "    </tr>\n",
              "  </thead>\n",
              "  <tbody>\n",
              "    <tr>\n",
              "      <td>0</td>\n",
              "      <td>0.682438</td>\n",
              "      <td>4.089408</td>\n",
              "      <td>0.433333</td>\n",
              "      <td>01:09</td>\n",
              "    </tr>\n",
              "  </tbody>\n",
              "</table>"
            ],
            "text/plain": [
              "<IPython.core.display.HTML object>"
            ]
          },
          "metadata": {
            "tags": []
          }
        }
      ]
    },
    {
      "cell_type": "code",
      "metadata": {
        "id": "c65d-osfDUXm"
      },
      "source": [
        "# save the best model\n",
        "\n",
        "learn.save_encoder('TwADR-bigtweet_fold9')"
      ],
      "execution_count": 44,
      "outputs": []
    },
    {
      "cell_type": "code",
      "metadata": {
        "id": "5h-A_GpAIYg8",
        "outputId": "155548e1-8584-4dcd-d98e-108330871f26",
        "colab": {
          "base_uri": "https://localhost:8080/",
          "height": 80
        }
      },
      "source": [
        "learn.fit_one_cycle(1, slice(2e-3/100, 2e-3))"
      ],
      "execution_count": 45,
      "outputs": [
        {
          "output_type": "display_data",
          "data": {
            "text/html": [
              "<table border=\"1\" class=\"dataframe\">\n",
              "  <thead>\n",
              "    <tr style=\"text-align: left;\">\n",
              "      <th>epoch</th>\n",
              "      <th>train_loss</th>\n",
              "      <th>valid_loss</th>\n",
              "      <th>accuracy</th>\n",
              "      <th>time</th>\n",
              "    </tr>\n",
              "  </thead>\n",
              "  <tbody>\n",
              "    <tr>\n",
              "      <td>0</td>\n",
              "      <td>0.672192</td>\n",
              "      <td>4.196070</td>\n",
              "      <td>0.433333</td>\n",
              "      <td>01:09</td>\n",
              "    </tr>\n",
              "  </tbody>\n",
              "</table>"
            ],
            "text/plain": [
              "<IPython.core.display.HTML object>"
            ]
          },
          "metadata": {
            "tags": []
          }
        }
      ]
    },
    {
      "cell_type": "code",
      "metadata": {
        "id": "qc4poYxzIwca",
        "outputId": "e28ede5c-de9a-46ab-ee8e-5d9c79eb068d",
        "colab": {
          "base_uri": "https://localhost:8080/",
          "height": 80
        }
      },
      "source": [
        "learn.fit_one_cycle(1, slice(2e-3/100, 2e-3))"
      ],
      "execution_count": 46,
      "outputs": [
        {
          "output_type": "display_data",
          "data": {
            "text/html": [
              "<table border=\"1\" class=\"dataframe\">\n",
              "  <thead>\n",
              "    <tr style=\"text-align: left;\">\n",
              "      <th>epoch</th>\n",
              "      <th>train_loss</th>\n",
              "      <th>valid_loss</th>\n",
              "      <th>accuracy</th>\n",
              "      <th>time</th>\n",
              "    </tr>\n",
              "  </thead>\n",
              "  <tbody>\n",
              "    <tr>\n",
              "      <td>0</td>\n",
              "      <td>0.660625</td>\n",
              "      <td>4.197916</td>\n",
              "      <td>0.433333</td>\n",
              "      <td>01:06</td>\n",
              "    </tr>\n",
              "  </tbody>\n",
              "</table>"
            ],
            "text/plain": [
              "<IPython.core.display.HTML object>"
            ]
          },
          "metadata": {
            "tags": []
          }
        }
      ]
    },
    {
      "cell_type": "code",
      "metadata": {
        "id": "66s4PxV1JVfo",
        "outputId": "57432a66-0459-4bf2-e26c-283ce040462d",
        "colab": {
          "base_uri": "https://localhost:8080/",
          "height": 80
        }
      },
      "source": [
        "learn.fit_one_cycle(1, slice(2e-3/100, 2e-3))"
      ],
      "execution_count": 47,
      "outputs": [
        {
          "output_type": "display_data",
          "data": {
            "text/html": [
              "<table border=\"1\" class=\"dataframe\">\n",
              "  <thead>\n",
              "    <tr style=\"text-align: left;\">\n",
              "      <th>epoch</th>\n",
              "      <th>train_loss</th>\n",
              "      <th>valid_loss</th>\n",
              "      <th>accuracy</th>\n",
              "      <th>time</th>\n",
              "    </tr>\n",
              "  </thead>\n",
              "  <tbody>\n",
              "    <tr>\n",
              "      <td>0</td>\n",
              "      <td>0.607686</td>\n",
              "      <td>4.406394</td>\n",
              "      <td>0.400000</td>\n",
              "      <td>01:02</td>\n",
              "    </tr>\n",
              "  </tbody>\n",
              "</table>"
            ],
            "text/plain": [
              "<IPython.core.display.HTML object>"
            ]
          },
          "metadata": {
            "tags": []
          }
        }
      ]
    },
    {
      "cell_type": "code",
      "metadata": {
        "id": "m8Nx8lRzNEVA",
        "outputId": "c050192e-7e75-4faf-d271-359cd2a4bd68",
        "colab": {
          "base_uri": "https://localhost:8080/",
          "height": 80
        }
      },
      "source": [
        "learn.fit_one_cycle(1, slice(2e-3/100, 2e-3))"
      ],
      "execution_count": 51,
      "outputs": [
        {
          "output_type": "display_data",
          "data": {
            "text/html": [
              "<table border=\"1\" class=\"dataframe\">\n",
              "  <thead>\n",
              "    <tr style=\"text-align: left;\">\n",
              "      <th>epoch</th>\n",
              "      <th>train_loss</th>\n",
              "      <th>valid_loss</th>\n",
              "      <th>accuracy</th>\n",
              "      <th>time</th>\n",
              "    </tr>\n",
              "  </thead>\n",
              "  <tbody>\n",
              "    <tr>\n",
              "      <td>0</td>\n",
              "      <td>0.618425</td>\n",
              "      <td>4.350301</td>\n",
              "      <td>0.416667</td>\n",
              "      <td>01:08</td>\n",
              "    </tr>\n",
              "  </tbody>\n",
              "</table>"
            ],
            "text/plain": [
              "<IPython.core.display.HTML object>"
            ]
          },
          "metadata": {
            "tags": []
          }
        }
      ]
    },
    {
      "cell_type": "markdown",
      "metadata": {
        "id": "rCwZU0E2RgM6"
      },
      "source": [
        "# Part three: Predict on the test dataset"
      ]
    },
    {
      "cell_type": "code",
      "metadata": {
        "id": "gDm72c-dOu7d",
        "outputId": "35d41507-649f-4beb-c9cc-106978adb434",
        "colab": {
          "base_uri": "https://localhost:8080/",
          "height": 17
        }
      },
      "source": [
        "# use the test data for prediction\n",
        "\n",
        "preds, y = learn.get_preds(DatasetType.Test)"
      ],
      "execution_count": 52,
      "outputs": [
        {
          "output_type": "display_data",
          "data": {
            "text/html": [
              ""
            ],
            "text/plain": [
              "<IPython.core.display.HTML object>"
            ]
          },
          "metadata": {
            "tags": []
          }
        }
      ]
    },
    {
      "cell_type": "code",
      "metadata": {
        "id": "6tFSQcsWPvxn",
        "outputId": "087f92fe-3d05-443e-8959-84ccfd4fc79a",
        "colab": {
          "base_uri": "https://localhost:8080/",
          "height": 105
        }
      },
      "source": [
        "predictions, *_ = learn.get_preds(DatasetType.Test)\n",
        "labels = np.argmax(predictions, 1)\n",
        "predict_list = labels.tolist()\n",
        "standard_list = test[0].tolist()\n",
        "\n",
        "print(len(predict_list))\n",
        "print(len(standard_list))\n",
        "\n",
        "print(predict_list)\n",
        "print(standard_list)"
      ],
      "execution_count": 53,
      "outputs": [
        {
          "output_type": "display_data",
          "data": {
            "text/html": [
              ""
            ],
            "text/plain": [
              "<IPython.core.display.HTML object>"
            ]
          },
          "metadata": {
            "tags": []
          }
        },
        {
          "output_type": "stream",
          "text": [
            "142\n",
            "142\n",
            "[1529, 61, 1204, 1099, 2113, 1295, 1295, 189, 582, 224, 224, 1099, 2147, 1936, 1936, 2147, 249, 813, 301, 1576, 1769, 1099, 1373, 749, 749, 24, 1815, 791, 1597, 792, 154, 978, 1308, 978, 1884, 249, 824, 852, 2023, 813, 1136, 974, 824, 974, 974, 109, 978, 978, 989, 1019, 1529, 1062, 1727, 1096, 1099, 2032, 1925, 1136, 1136, 1594, 1798, 2104, 1265, 1529, 2066, 947, 1319, 1099, 1099, 1356, 1099, 452, 1915, 1432, 857, 825, 1507, 1373, 1508, 1595, 1597, 1597, 1597, 1597, 744, 392, 824, 1610, 1099, 1526, 1701, 1099, 1373, 1526, 1125, 1711, 1787, 1718, 1718, 1373, 1718, 818, 1669, 452, 1727, 1787, 1787, 1787, 1787, 1787, 1787, 1787, 2194, 1718, 1718, 1531, 824, 852, 1099, 1529, 1942, 1099, 2024, 1787, 2032, 1787, 1787, 2074, 2103, 813, 2147, 2147, 2147, 2147, 1099, 2103, 1521, 2194, 1529, 1070, 2194, 2194]\n",
            "[62, 74, 85, 91, 97, 189, 189, 189, 224, 224, 224, 233, 233, 233, 233, 233, 249, 250, 301, 504, 561, 620, 739, 749, 749, 749, 791, 791, 791, 792, 813, 818, 822, 822, 824, 824, 825, 852, 923, 936, 945, 974, 974, 974, 974, 974, 978, 978, 989, 1019, 1062, 1062, 1073, 1096, 1099, 1099, 1099, 1136, 1136, 1163, 1196, 1230, 1265, 1283, 1295, 1295, 1319, 1325, 1325, 1356, 1373, 1432, 1432, 1432, 1432, 1484, 1507, 1507, 1508, 1595, 1597, 1597, 1597, 1597, 1599, 1599, 1610, 1610, 1610, 1701, 1701, 1701, 1701, 1701, 1711, 1711, 1718, 1718, 1718, 1718, 1718, 1718, 1727, 1767, 1767, 1767, 1767, 1787, 1787, 1787, 1787, 1787, 1787, 1798, 1815, 1873, 1884, 1925, 1936, 1942, 1942, 2024, 2024, 2032, 2032, 2032, 2032, 2074, 2103, 2125, 2147, 2147, 2147, 2147, 2147, 2149, 2149, 2149, 2149, 2168, 2194, 2194]\n"
          ],
          "name": "stdout"
        }
      ]
    },
    {
      "cell_type": "code",
      "metadata": {
        "id": "XIC4zufnMxtq",
        "outputId": "e5789bdd-583d-45fc-b5c9-4e4c26d29291",
        "colab": {
          "base_uri": "https://localhost:8080/"
        }
      },
      "source": [
        "correct_num = 0\n",
        "\n",
        "for i in range(0, len(standard_list)):\n",
        "  if predict_list[i] == standard_list[i]:\n",
        "    correct_num = correct_num+1\n",
        "  else:\n",
        "    pass\n",
        "print(correct_num)\n",
        "\n",
        "predict_accuracy = correct_num/len(predict_list)\n",
        "print(predict_accuracy)"
      ],
      "execution_count": 54,
      "outputs": [
        {
          "output_type": "stream",
          "text": [
            "55\n",
            "0.3873239436619718\n"
          ],
          "name": "stdout"
        }
      ]
    },
    {
      "cell_type": "code",
      "metadata": {
        "id": "zlKMHp1CIaRJ"
      },
      "source": [
        ""
      ],
      "execution_count": 54,
      "outputs": []
    }
  ]
}