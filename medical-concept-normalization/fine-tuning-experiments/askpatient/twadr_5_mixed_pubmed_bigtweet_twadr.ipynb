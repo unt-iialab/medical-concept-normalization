{
  "nbformat": 4,
  "nbformat_minor": 0,
  "metadata": {
    "accelerator": "TPU",
    "colab": {
      "name": "twadr_5_mixed_pubmed_bigtweet_twadr.ipynb",
      "provenance": [],
      "collapsed_sections": [],
      "include_colab_link": true
    },
    "kernelspec": {
      "display_name": "Python 3",
      "name": "python3"
    }
  },
  "cells": [
    {
      "cell_type": "markdown",
      "metadata": {
        "id": "view-in-github",
        "colab_type": "text"
      },
      "source": [
        "<a href=\"https://colab.research.google.com/github/unt-iialab/medical-concept-normalization/blob/master/medical-concept-normalization/fine-tuning-experiments/askpatient/twadr_5_mixed_pubmed_bigtweet_twadr.ipynb\" target=\"_parent\"><img src=\"https://colab.research.google.com/assets/colab-badge.svg\" alt=\"Open In Colab\"/></a>"
      ]
    },
    {
      "cell_type": "code",
      "metadata": {
        "id": "adSi6i2-dWxy"
      },
      "source": [
        "import os"
      ],
      "execution_count": 1,
      "outputs": []
    },
    {
      "cell_type": "code",
      "metadata": {
        "id": "E7xYCRGPjd9B"
      },
      "source": [
        "base_dir = 'medical-concept-normalization'"
      ],
      "execution_count": 2,
      "outputs": []
    },
    {
      "cell_type": "code",
      "metadata": {
        "id": "yvIW3aUDjYNS"
      },
      "source": [
        "os.mkdir(base_dir)"
      ],
      "execution_count": 3,
      "outputs": []
    },
    {
      "cell_type": "code",
      "metadata": {
        "id": "es-FFLlfk6SG"
      },
      "source": [
        "os.mkdir('medical-concept-normalization/data_collection')"
      ],
      "execution_count": 4,
      "outputs": []
    },
    {
      "cell_type": "markdown",
      "metadata": {
        "id": "0R-Guw_VoJXm"
      },
      "source": [
        "**Install fastai and clone the fastai for text classification**\n",
        "\n"
      ]
    },
    {
      "cell_type": "code",
      "metadata": {
        "id": "QVZa3Z0PmHFH",
        "outputId": "a1f57020-eb64-45ee-c7d9-5c47e46570c4",
        "colab": {
          "base_uri": "https://localhost:8080/",
          "height": 68
        }
      },
      "source": [
        "!curl https://course-v3.fast.ai/setup/colab | bash"
      ],
      "execution_count": 5,
      "outputs": [
        {
          "output_type": "stream",
          "text": [
            "  % Total    % Received % Xferd  Average Speed   Time    Time     Time  Current\n",
            "                                 Dload  Upload   Total   Spent    Left  Speed\n",
            "\r  0     0    0     0    0     0      0      0 --:--:-- --:--:-- --:--:--     0curl: (6) Could not resolve host: course-v3.fast.ai\n"
          ],
          "name": "stdout"
        }
      ]
    },
    {
      "cell_type": "code",
      "metadata": {
        "id": "_FBFFEBrmJC0",
        "outputId": "2005917c-2cf1-4e3b-8a32-c96b64b68dd1",
        "colab": {
          "base_uri": "https://localhost:8080/",
          "height": 85
        }
      },
      "source": [
        "!git clone https://github.com/wshuyi/demo-nlp-classification-fastai.git"
      ],
      "execution_count": 6,
      "outputs": [
        {
          "output_type": "stream",
          "text": [
            "Cloning into 'demo-nlp-classification-fastai'...\n",
            "remote: Enumerating objects: 9, done.\u001b[K\n",
            "remote: Total 9 (delta 0), reused 0 (delta 0), pack-reused 9\u001b[K\n",
            "Unpacking objects: 100% (9/9), done.\n"
          ],
          "name": "stdout"
        }
      ]
    },
    {
      "cell_type": "code",
      "metadata": {
        "id": "66zfh_JqmWMU"
      },
      "source": [
        "from fastai import *\n",
        "from fastai.text import *"
      ],
      "execution_count": 7,
      "outputs": []
    },
    {
      "cell_type": "markdown",
      "metadata": {
        "id": "mNIw-yALdBU9"
      },
      "source": [
        "**Set the path of the data collections**"
      ]
    },
    {
      "cell_type": "code",
      "metadata": {
        "id": "pzH7VMh4mqCL"
      },
      "source": [
        "path = Path('medical-concept-normalization/data_collection')"
      ],
      "execution_count": 8,
      "outputs": []
    },
    {
      "cell_type": "code",
      "metadata": {
        "id": "b8fjI6yyn4aS"
      },
      "source": [
        "# training data set\n",
        "\n",
        "train_csv = path/'TwADR-L.fold-5.train.csv'\n",
        "train = pd.read_csv(train_csv, header=None)\n",
        "#train.head()\n",
        "#train.info()"
      ],
      "execution_count": 10,
      "outputs": []
    },
    {
      "cell_type": "code",
      "metadata": {
        "id": "Hmlr-bAorfHd",
        "outputId": "9c994108-638d-4dcf-ffff-81f980ea4bb5",
        "colab": {
          "base_uri": "https://localhost:8080/",
          "height": 204
        }
      },
      "source": [
        "# validating data set\n",
        "\n",
        "valid = pd.read_csv(path/\"TwADR-L.fold-5.validation.csv\",header=None)\n",
        "valid.head()"
      ],
      "execution_count": 11,
      "outputs": [
        {
          "output_type": "execute_result",
          "data": {
            "text/html": [
              "<div>\n",
              "<style scoped>\n",
              "    .dataframe tbody tr th:only-of-type {\n",
              "        vertical-align: middle;\n",
              "    }\n",
              "\n",
              "    .dataframe tbody tr th {\n",
              "        vertical-align: top;\n",
              "    }\n",
              "\n",
              "    .dataframe thead th {\n",
              "        text-align: right;\n",
              "    }\n",
              "</style>\n",
              "<table border=\"1\" class=\"dataframe\">\n",
              "  <thead>\n",
              "    <tr style=\"text-align: right;\">\n",
              "      <th></th>\n",
              "      <th>0</th>\n",
              "      <th>1</th>\n",
              "    </tr>\n",
              "  </thead>\n",
              "  <tbody>\n",
              "    <tr>\n",
              "      <th>0</th>\n",
              "      <td>13</td>\n",
              "      <td>Insomnia</td>\n",
              "    </tr>\n",
              "    <tr>\n",
              "      <th>1</th>\n",
              "      <td>13</td>\n",
              "      <td>awake in the middle of the night</td>\n",
              "    </tr>\n",
              "    <tr>\n",
              "      <th>2</th>\n",
              "      <td>57</td>\n",
              "      <td>hypertrophic scarring</td>\n",
              "    </tr>\n",
              "    <tr>\n",
              "      <th>3</th>\n",
              "      <td>85</td>\n",
              "      <td>tremor</td>\n",
              "    </tr>\n",
              "    <tr>\n",
              "      <th>4</th>\n",
              "      <td>94</td>\n",
              "      <td>anxiety</td>\n",
              "    </tr>\n",
              "  </tbody>\n",
              "</table>\n",
              "</div>"
            ],
            "text/plain": [
              "    0                                 1\n",
              "0  13                          Insomnia\n",
              "1  13  awake in the middle of the night\n",
              "2  57             hypertrophic scarring\n",
              "3  85                            tremor\n",
              "4  94                           anxiety"
            ]
          },
          "metadata": {
            "tags": []
          },
          "execution_count": 11
        }
      ]
    },
    {
      "cell_type": "code",
      "metadata": {
        "id": "cOza9dfSsBud",
        "outputId": "6c6b3b28-2783-4cd2-e006-f9411e8a0244",
        "colab": {
          "base_uri": "https://localhost:8080/",
          "height": 204
        }
      },
      "source": [
        "# testing data set\n",
        "\n",
        "test = pd.read_csv(path/\"TwADR-L.fold-5.test.csv\",header=None)\n",
        "test.head()"
      ],
      "execution_count": 12,
      "outputs": [
        {
          "output_type": "execute_result",
          "data": {
            "text/html": [
              "<div>\n",
              "<style scoped>\n",
              "    .dataframe tbody tr th:only-of-type {\n",
              "        vertical-align: middle;\n",
              "    }\n",
              "\n",
              "    .dataframe tbody tr th {\n",
              "        vertical-align: top;\n",
              "    }\n",
              "\n",
              "    .dataframe thead th {\n",
              "        text-align: right;\n",
              "    }\n",
              "</style>\n",
              "<table border=\"1\" class=\"dataframe\">\n",
              "  <thead>\n",
              "    <tr style=\"text-align: right;\">\n",
              "      <th></th>\n",
              "      <th>0</th>\n",
              "      <th>1</th>\n",
              "    </tr>\n",
              "  </thead>\n",
              "  <tbody>\n",
              "    <tr>\n",
              "      <th>0</th>\n",
              "      <td>13</td>\n",
              "      <td>up all night</td>\n",
              "    </tr>\n",
              "    <tr>\n",
              "      <th>1</th>\n",
              "      <td>13</td>\n",
              "      <td>insomnia</td>\n",
              "    </tr>\n",
              "    <tr>\n",
              "      <th>2</th>\n",
              "      <td>93</td>\n",
              "      <td>shooting</td>\n",
              "    </tr>\n",
              "    <tr>\n",
              "      <th>3</th>\n",
              "      <td>133</td>\n",
              "      <td>night terrors</td>\n",
              "    </tr>\n",
              "    <tr>\n",
              "      <th>4</th>\n",
              "      <td>231</td>\n",
              "      <td>lucid dreamer</td>\n",
              "    </tr>\n",
              "  </tbody>\n",
              "</table>\n",
              "</div>"
            ],
            "text/plain": [
              "     0              1\n",
              "0   13   up all night\n",
              "1   13       insomnia\n",
              "2   93       shooting\n",
              "3  133  night terrors\n",
              "4  231  lucid dreamer"
            ]
          },
          "metadata": {
            "tags": []
          },
          "execution_count": 12
        }
      ]
    },
    {
      "cell_type": "code",
      "metadata": {
        "id": "Vo-YNvVYoaH6",
        "outputId": "2175209e-c0d7-4df7-8f0f-5b7a64849a7c",
        "colab": {
          "base_uri": "https://localhost:8080/",
          "height": 17
        }
      },
      "source": [
        "# Creating DataBunch for language modelling\n",
        "\n",
        "data_lm = TextLMDataBunch.from_csv(path, 'mixed_pubmed_bigtweet_twadr.csv')"
      ],
      "execution_count": 13,
      "outputs": [
        {
          "output_type": "display_data",
          "data": {
            "text/html": [
              ""
            ],
            "text/plain": [
              "<IPython.core.display.HTML object>"
            ]
          },
          "metadata": {
            "tags": []
          }
        },
        {
          "output_type": "display_data",
          "data": {
            "text/html": [
              ""
            ],
            "text/plain": [
              "<IPython.core.display.HTML object>"
            ]
          },
          "metadata": {
            "tags": []
          }
        }
      ]
    },
    {
      "cell_type": "code",
      "metadata": {
        "id": "qcV-9kMnNLBf"
      },
      "source": [
        ""
      ],
      "execution_count": 13,
      "outputs": []
    },
    {
      "cell_type": "code",
      "metadata": {
        "id": "1ScY9afDsnvE"
      },
      "source": [
        "# Creating DataBunch for classification\n",
        "\n",
        "# data_clas = TextClasDataBunch.from_df(path, train, valid, test, vocab=data_lm.train_ds.vocab, bs=128)"
      ],
      "execution_count": 14,
      "outputs": []
    },
    {
      "cell_type": "code",
      "metadata": {
        "id": "gzrSdQcvey9p",
        "outputId": "16dadc49-5ceb-480c-e450-8a1f33a4e00c",
        "colab": {
          "base_uri": "https://localhost:8080/",
          "height": 17
        }
      },
      "source": [
        "data_clas = TextClasDataBunch.from_df(path, train, valid, vocab=data_lm.train_ds.vocab, bs=128)"
      ],
      "execution_count": 15,
      "outputs": [
        {
          "output_type": "display_data",
          "data": {
            "text/html": [
              ""
            ],
            "text/plain": [
              "<IPython.core.display.HTML object>"
            ]
          },
          "metadata": {
            "tags": []
          }
        },
        {
          "output_type": "display_data",
          "data": {
            "text/html": [
              ""
            ],
            "text/plain": [
              "<IPython.core.display.HTML object>"
            ]
          },
          "metadata": {
            "tags": []
          }
        }
      ]
    },
    {
      "cell_type": "code",
      "metadata": {
        "id": "MD27Tf0Ke3ou",
        "outputId": "31a5b3d5-e291-456d-fe12-2206b68f5731",
        "colab": {
          "base_uri": "https://localhost:8080/",
          "height": 17
        }
      },
      "source": [
        "data_clas.add_test(test,label=0)\n"
      ],
      "execution_count": 16,
      "outputs": [
        {
          "output_type": "display_data",
          "data": {
            "text/html": [
              ""
            ],
            "text/plain": [
              "<IPython.core.display.HTML object>"
            ]
          },
          "metadata": {
            "tags": []
          }
        }
      ]
    },
    {
      "cell_type": "code",
      "metadata": {
        "id": "-dpjnk_rstwk"
      },
      "source": [
        "data_lm.save()\n",
        "data_clas.save()"
      ],
      "execution_count": 17,
      "outputs": []
    },
    {
      "cell_type": "code",
      "metadata": {
        "id": "4OkiJa36sw5s",
        "outputId": "d78756af-7a2a-4517-e061-0ca38cacd22b",
        "colab": {
          "base_uri": "https://localhost:8080/",
          "height": 1000
        }
      },
      "source": [
        "data_lm.train_ds.vocab.itos"
      ],
      "execution_count": 18,
      "outputs": [
        {
          "output_type": "execute_result",
          "data": {
            "text/plain": [
              "['xxunk',\n",
              " 'xxpad',\n",
              " 'xxbos',\n",
              " 'xxeos',\n",
              " 'xxfld',\n",
              " 'xxmaj',\n",
              " 'xxup',\n",
              " 'xxrep',\n",
              " 'xxwrep',\n",
              " 'the',\n",
              " 'of',\n",
              " 'and',\n",
              " 'in',\n",
              " 'to',\n",
              " 'a',\n",
              " 'for',\n",
              " 'with',\n",
              " 'was',\n",
              " 'diclofenac',\n",
              " 'were',\n",
              " 'on',\n",
              " 'is',\n",
              " 'pain',\n",
              " 'rt',\n",
              " 'sodium',\n",
              " 'by',\n",
              " 'drug',\n",
              " 'that',\n",
              " 'as',\n",
              " 'i',\n",
              " 'at',\n",
              " 'or',\n",
              " 'patients',\n",
              " 'this',\n",
              " 'from',\n",
              " 'you',\n",
              " 'disease',\n",
              " 'be',\n",
              " 'increased',\n",
              " 'mg',\n",
              " 'study',\n",
              " 'group',\n",
              " 'my',\n",
              " 'mood',\n",
              " 'are',\n",
              " 'not',\n",
              " 'treatment',\n",
              " 'it',\n",
              " 'after',\n",
              " 'me',\n",
              " 'an',\n",
              " 'have',\n",
              " 'amp',\n",
              " 'p',\n",
              " 'release',\n",
              " 'gluten',\n",
              " 'disorder',\n",
              " ',',\n",
              " 'all',\n",
              " 'effect',\n",
              " 'we',\n",
              " 'withdrawal',\n",
              " 'free',\n",
              " 'abnormal',\n",
              " 'than',\n",
              " 'symptoms',\n",
              " 'no',\n",
              " 'decreased',\n",
              " 'weight',\n",
              " 'compared',\n",
              " 'out',\n",
              " 'more',\n",
              " 'your',\n",
              " 'anxiety',\n",
              " 'new',\n",
              " 'day',\n",
              " 'effects',\n",
              " 'using',\n",
              " 'groups',\n",
              " 'our',\n",
              " 'time',\n",
              " 'up',\n",
              " 'both',\n",
              " 'two',\n",
              " 'about',\n",
              " 'h',\n",
              " 'significantly',\n",
              " 'drugs',\n",
              " 'blood',\n",
              " 'like',\n",
              " 'inflammatory',\n",
              " 'its',\n",
              " 'these',\n",
              " 'skin',\n",
              " 'between',\n",
              " 'acute',\n",
              " 'but',\n",
              " 'had',\n",
              " 'can',\n",
              " 'disorders',\n",
              " 'potassium',\n",
              " 'significant',\n",
              " 'anti',\n",
              " 'has',\n",
              " 'use',\n",
              " 'behavior',\n",
              " 'which',\n",
              " 'used',\n",
              " '(',\n",
              " ')',\n",
              " 'results',\n",
              " 'dose',\n",
              " 'do',\n",
              " 'syndrome',\n",
              " 'voltaren',\n",
              " 'days',\n",
              " '-',\n",
              " 'placebo',\n",
              " 'also',\n",
              " 'what',\n",
              " 'glutenfree',\n",
              " 'diseases',\n",
              " 's',\n",
              " 'one',\n",
              " 'nt',\n",
              " 'sleeplessness',\n",
              " 'concentration',\n",
              " 'there',\n",
              " 'efficacy',\n",
              " 'may',\n",
              " 'celiac',\n",
              " 'oral',\n",
              " 'treated',\n",
              " 'when',\n",
              " 'feeling',\n",
              " 'ds',\n",
              " 'm',\n",
              " 'different',\n",
              " 'got',\n",
              " 'now',\n",
              " 'w',\n",
              " 'ml',\n",
              " 'been',\n",
              " 'showed',\n",
              " 'administration',\n",
              " 'finding',\n",
              " 'topical',\n",
              " 'non',\n",
              " 'disturbance',\n",
              " 'insomnia',\n",
              " 'studies',\n",
              " 'test',\n",
              " 'high',\n",
              " 'so',\n",
              " 'products',\n",
              " 'sleep',\n",
              " 'food',\n",
              " 'their',\n",
              " 'energy',\n",
              " 'somnolence',\n",
              " 'via',\n",
              " 'c',\n",
              " 'acid',\n",
              " 'rate',\n",
              " 'control',\n",
              " 'plasma',\n",
              " 'right',\n",
              " 'clinical',\n",
              " 'respectively',\n",
              " 'if',\n",
              " 'hours',\n",
              " 'post',\n",
              " 'mental',\n",
              " 'other',\n",
              " 'during',\n",
              " 'induced',\n",
              " 'could',\n",
              " 'found',\n",
              " 'rats',\n",
              " 'diet',\n",
              " 'well',\n",
              " 'state',\n",
              " 'nsaids',\n",
              " 'into',\n",
              " 'first',\n",
              " 'how',\n",
              " 'did',\n",
              " 'body',\n",
              " 'nausea',\n",
              " 'swelling',\n",
              " 'tablets',\n",
              " 'who',\n",
              " 'feel',\n",
              " 'mean',\n",
              " 'formulation',\n",
              " 'appetite',\n",
              " 'method',\n",
              " 'ph',\n",
              " 'g',\n",
              " 'formulations',\n",
              " 'effective',\n",
              " 'gain',\n",
              " 'muscle',\n",
              " 'depression',\n",
              " 'over',\n",
              " 'observed',\n",
              " 'gel',\n",
              " 'solution',\n",
              " 'low',\n",
              " 'review',\n",
              " 'd',\n",
              " 'kg',\n",
              " 'n',\n",
              " 'those',\n",
              " 'received',\n",
              " 'tip',\n",
              " 'three',\n",
              " 'heart',\n",
              " 'vitro',\n",
              " 'attention',\n",
              " 'activity',\n",
              " 'lower',\n",
              " 'each',\n",
              " 'conditions',\n",
              " 'irritable',\n",
              " 'levels',\n",
              " 'analysis',\n",
              " 'awake',\n",
              " 'less',\n",
              " 'week',\n",
              " 'renal',\n",
              " 'hyperactive',\n",
              " 'controlled',\n",
              " 'only',\n",
              " 'serum',\n",
              " 'excitability',\n",
              " 'system',\n",
              " 'cell',\n",
              " 'total',\n",
              " 'reaction',\n",
              " 'most',\n",
              " 'daily',\n",
              " 'eye',\n",
              " 'data',\n",
              " 'atorvastatin',\n",
              " 'ceiling',\n",
              " 'adverse',\n",
              " 'single',\n",
              " 'dizziness',\n",
              " 'gastrointestinal',\n",
              " 'level',\n",
              " 'get',\n",
              " 'feelings',\n",
              " 'period',\n",
              " 'liver',\n",
              " 'drowsiness',\n",
              " 'application',\n",
              " 'weeks',\n",
              " 'concentrations',\n",
              " 'dblclick',\n",
              " 'site',\n",
              " 'following',\n",
              " 'pic',\n",
              " 'ca',\n",
              " 'however',\n",
              " 'analgesic',\n",
              " 'patient',\n",
              " 'model',\n",
              " 'headache',\n",
              " 'panic',\n",
              " 'randomized',\n",
              " 'why',\n",
              " 't',\n",
              " 'before',\n",
              " 'here',\n",
              " 'will',\n",
              " 'function',\n",
              " 'good',\n",
              " 'need',\n",
              " 'they',\n",
              " 'evaluated',\n",
              " 'some',\n",
              " 'loss',\n",
              " 'reduced',\n",
              " 'double',\n",
              " 'dissolution',\n",
              " 'based',\n",
              " 'allergic',\n",
              " 'depressed',\n",
              " 'rash',\n",
              " 'check',\n",
              " 'know',\n",
              " 'surgery',\n",
              " 'under',\n",
              " 'any',\n",
              " 'therapy',\n",
              " 'inflammation',\n",
              " 'increase',\n",
              " 'tablet',\n",
              " 'life',\n",
              " 'brain',\n",
              " 'postoperative',\n",
              " 'years',\n",
              " 'initial',\n",
              " 'similar',\n",
              " 'swings',\n",
              " 'healthy',\n",
              " 'obtained',\n",
              " 'b',\n",
              " 'higher',\n",
              " 'joint',\n",
              " 'nsaid',\n",
              " 'associated',\n",
              " 'l',\n",
              " 'changes',\n",
              " 'change',\n",
              " 'present',\n",
              " 'difference',\n",
              " 'migraine',\n",
              " 'relief',\n",
              " 'while',\n",
              " 'combination',\n",
              " 'infection',\n",
              " 'cells',\n",
              " 'chronic',\n",
              " 'injury',\n",
              " 'water',\n",
              " 'injection',\n",
              " 'wakefulness',\n",
              " 'arthritis',\n",
              " 'studied',\n",
              " 'help',\n",
              " 'edema',\n",
              " 'vs',\n",
              " 'make',\n",
              " 'bone',\n",
              " 'response',\n",
              " '#',\n",
              " \"n't\",\n",
              " 'bipolar',\n",
              " 'administered',\n",
              " 'does',\n",
              " 'min',\n",
              " 'should',\n",
              " 'just',\n",
              " 'prepared',\n",
              " 'pressure',\n",
              " 'type',\n",
              " 'love',\n",
              " 'great',\n",
              " 'gastric',\n",
              " 'eating',\n",
              " 'order',\n",
              " 'reported',\n",
              " 'such',\n",
              " 'due',\n",
              " 'given',\n",
              " 'subjects',\n",
              " 'better',\n",
              " 'cholesterol',\n",
              " 'thanks',\n",
              " 'being',\n",
              " 'gfb',\n",
              " 'abdominal',\n",
              " 'differences',\n",
              " 'tissue',\n",
              " 'doses',\n",
              " 'still',\n",
              " 'values',\n",
              " 'trial',\n",
              " 'investigated',\n",
              " 'four',\n",
              " 'blind',\n",
              " 'parameters',\n",
              " 'fatigue',\n",
              " 're',\n",
              " 'absorption',\n",
              " 'visual',\n",
              " 'breast',\n",
              " 'performed',\n",
              " 'nonsteroidal',\n",
              " 'dreams',\n",
              " 'very',\n",
              " 'decrease',\n",
              " 'side',\n",
              " 'without',\n",
              " 'events',\n",
              " 'ratio',\n",
              " 'attacks',\n",
              " 'containing',\n",
              " 'makes',\n",
              " 'eat',\n",
              " 'show',\n",
              " '30',\n",
              " 'developed',\n",
              " 'times',\n",
              " 'risk',\n",
              " 'x',\n",
              " 'v',\n",
              " 'us',\n",
              " 'posted',\n",
              " 'delivery',\n",
              " 'respiratory',\n",
              " 'intolerance',\n",
              " 'within',\n",
              " 'knee',\n",
              " 'auc',\n",
              " 'minutes',\n",
              " 'properties',\n",
              " 'either',\n",
              " 'safety',\n",
              " 'urine',\n",
              " 'tremor',\n",
              " 'assessed',\n",
              " 'recipe',\n",
              " 'corneal',\n",
              " 'attack',\n",
              " 'samples',\n",
              " 'liquid',\n",
              " 'taste',\n",
              " 'death',\n",
              " 'action',\n",
              " 'development',\n",
              " 'determined',\n",
              " 'ng',\n",
              " 'phase',\n",
              " 'people',\n",
              " 'reduction',\n",
              " 'through',\n",
              " 'sustained',\n",
              " 'measured',\n",
              " 'living',\n",
              " 'heres',\n",
              " 'statistically',\n",
              " 'dry',\n",
              " 'vivo',\n",
              " 'many',\n",
              " 'rage',\n",
              " 'primary',\n",
              " 'therapeutic',\n",
              " 'size',\n",
              " 'e',\n",
              " 'kidney',\n",
              " 'included',\n",
              " 'active',\n",
              " 'local',\n",
              " 'mm',\n",
              " 'applied',\n",
              " 'indomethacin',\n",
              " 'damage',\n",
              " 'steroidal',\n",
              " '2',\n",
              " 'going',\n",
              " 'k',\n",
              " 'range',\n",
              " 'number',\n",
              " 'best',\n",
              " 'night',\n",
              " 'form',\n",
              " 'same',\n",
              " 'failure',\n",
              " 'osteoarthritis',\n",
              " 'available',\n",
              " 'tired',\n",
              " 'hemorrhage',\n",
              " 'deficit',\n",
              " 'lipitor',\n",
              " 'evaluate',\n",
              " 'stiffness',\n",
              " 'eyes',\n",
              " 'sleepy',\n",
              " 'sensitivity',\n",
              " 'discomfort',\n",
              " '\\r \\n ',\n",
              " 'go',\n",
              " 'compare',\n",
              " 'human',\n",
              " 'potential',\n",
              " 'medication',\n",
              " 'oa',\n",
              " 'archives',\n",
              " 'scale',\n",
              " 'year',\n",
              " 'process',\n",
              " 'addition',\n",
              " 'read',\n",
              " 'normal',\n",
              " 'down',\n",
              " 'ulcer',\n",
              " 'related',\n",
              " 'carcinoma',\n",
              " 'tolerability',\n",
              " 'hour',\n",
              " 'take',\n",
              " 'health',\n",
              " 'severe',\n",
              " 'back',\n",
              " 'secondary',\n",
              " 'because',\n",
              " 'dependent',\n",
              " 'tips',\n",
              " 'much',\n",
              " 'greater',\n",
              " 'stomach',\n",
              " 'months',\n",
              " 'psychotic',\n",
              " 'area',\n",
              " 'multiple',\n",
              " 'male',\n",
              " 'cardiac',\n",
              " 'jennieo',\n",
              " 'scores',\n",
              " 'ii',\n",
              " 'super',\n",
              " 'na',\n",
              " 'temperature',\n",
              " 'vomiting',\n",
              " 'bioavailability',\n",
              " 'polymer',\n",
              " 'coated',\n",
              " 'think',\n",
              " 'even',\n",
              " 'baseline',\n",
              " 'matrix',\n",
              " 'way',\n",
              " 'end',\n",
              " 'infections',\n",
              " 'numbness',\n",
              " 'then',\n",
              " 'revealed',\n",
              " 'aim',\n",
              " 'dosage',\n",
              " 'middle',\n",
              " 'facial',\n",
              " 'daytime',\n",
              " 'pulmonary',\n",
              " 'alone',\n",
              " 'improvement',\n",
              " 'today',\n",
              " 'demonstrated',\n",
              " 'long',\n",
              " 'tested',\n",
              " 'difficulty',\n",
              " 'indicated',\n",
              " 'mechanism',\n",
              " 'wide',\n",
              " 'aggravated',\n",
              " 'mice',\n",
              " 'cerebral',\n",
              " 'sweating',\n",
              " 'early',\n",
              " 'safe',\n",
              " 'aqueous',\n",
              " 'quality',\n",
              " 'sensation',\n",
              " 'made',\n",
              " 'further',\n",
              " 'randomly',\n",
              " 'common',\n",
              " 'volunteers',\n",
              " 'article',\n",
              " 'permeation',\n",
              " 'followed',\n",
              " 'peak',\n",
              " 'want',\n",
              " 'growth',\n",
              " 'protein',\n",
              " 'conducted',\n",
              " 'important',\n",
              " 'standard',\n",
              " 'hypertension',\n",
              " 'caused',\n",
              " 'presence',\n",
              " '1',\n",
              " 'irritation',\n",
              " 'hepatic',\n",
              " 'dermatitis',\n",
              " 'elevated',\n",
              " 'news',\n",
              " 'affect',\n",
              " 'cd',\n",
              " 'provide',\n",
              " 'exposure',\n",
              " 'cox',\n",
              " 'treatments',\n",
              " 'alcohol',\n",
              " 'rheumatoid',\n",
              " 'cause',\n",
              " 'score',\n",
              " 'cases',\n",
              " 'every',\n",
              " 'zombie',\n",
              " 'ocular',\n",
              " 'systemic',\n",
              " 'allergy',\n",
              " 'diagnosis',\n",
              " 'although',\n",
              " 'per',\n",
              " 'chicken',\n",
              " 'fluid',\n",
              " 'inhibition',\n",
              " 'ibuprofen',\n",
              " 'age',\n",
              " 'suggest',\n",
              " '4',\n",
              " 'profiles',\n",
              " 'various',\n",
              " 'cm',\n",
              " 'case',\n",
              " 'cancer',\n",
              " 'among',\n",
              " 'intestinal',\n",
              " 'diagnosed',\n",
              " 'pre',\n",
              " 'work',\n",
              " 'find',\n",
              " 'u',\n",
              " 'would',\n",
              " 'female',\n",
              " 'animals',\n",
              " 'rat',\n",
              " 'dependence',\n",
              " 'distress',\n",
              " '10',\n",
              " 'sleepiness',\n",
              " 'calcium',\n",
              " 'trials',\n",
              " 'content',\n",
              " 'shown',\n",
              " 'moderate',\n",
              " 'including',\n",
              " 'big',\n",
              " 'inhibitor',\n",
              " 'evaluation',\n",
              " 'six',\n",
              " 'anemia',\n",
              " 'dysfunction',\n",
              " 'term',\n",
              " 'experimental',\n",
              " 'formation',\n",
              " 'intensity',\n",
              " 'asleep',\n",
              " 'improved',\n",
              " 'exhaustion',\n",
              " 'whereas',\n",
              " 'determine',\n",
              " 'product',\n",
              " 'tolerated',\n",
              " 'according',\n",
              " 'complex',\n",
              " 'old',\n",
              " 'relative',\n",
              " 'care',\n",
              " 'painful',\n",
              " 'part',\n",
              " 'follow',\n",
              " 'suicidal',\n",
              " 'localised',\n",
              " 'vehicle',\n",
              " 'profile',\n",
              " 'urinary',\n",
              " 'divided',\n",
              " 'f',\n",
              " 'agents',\n",
              " 'pharmacokinetic',\n",
              " 'pizza',\n",
              " 'pharmaceutical',\n",
              " 'please',\n",
              " 'cross',\n",
              " \"'m\",\n",
              " 'surface',\n",
              " 'happy',\n",
              " 'nightmares',\n",
              " 'th',\n",
              " 'versus',\n",
              " 'vascular',\n",
              " 'r',\n",
              " '5',\n",
              " 'too',\n",
              " 'complete',\n",
              " 'social',\n",
              " 'research',\n",
              " 'tract',\n",
              " 'hallucinations',\n",
              " 'diabetes',\n",
              " 'o',\n",
              " 'microspheres',\n",
              " 'amount',\n",
              " 'flow',\n",
              " 'chest',\n",
              " '\\r \\n \\r \\n ',\n",
              " 'onset',\n",
              " 'combined',\n",
              " 'depressive',\n",
              " 'bad',\n",
              " 'vision',\n",
              " 'blog',\n",
              " 'anger',\n",
              " 'awareness',\n",
              " 'analgesia',\n",
              " 'participants',\n",
              " 'cmax',\n",
              " 'vas',\n",
              " 'agent',\n",
              " 'dizzy',\n",
              " 'density',\n",
              " 'disturbances',\n",
              " 'rapid',\n",
              " 'ever',\n",
              " 'off',\n",
              " 'necrosis',\n",
              " 'prolonged',\n",
              " 'cataract',\n",
              " 'where',\n",
              " 'cold',\n",
              " 'interactions',\n",
              " 'mild',\n",
              " 'share',\n",
              " 'creatinine',\n",
              " 'volume',\n",
              " 'five',\n",
              " 'solid',\n",
              " 'month',\n",
              " 'evidence',\n",
              " 'plus',\n",
              " 'duration',\n",
              " 'see',\n",
              " 'once',\n",
              " 'overall',\n",
              " 'result',\n",
              " 'rates',\n",
              " 'tooth',\n",
              " 'face',\n",
              " 'production',\n",
              " 'resulted',\n",
              " 'aspirin',\n",
              " 'lesions',\n",
              " 'enteric',\n",
              " 'least',\n",
              " 'simple',\n",
              " 'ci',\n",
              " 'diabetic',\n",
              " 'investigate',\n",
              " 'episode',\n",
              " 'maximum',\n",
              " 'pruritus',\n",
              " 'impairment',\n",
              " 'preparation',\n",
              " 'beads',\n",
              " 'getting',\n",
              " 'am',\n",
              " 'possible',\n",
              " 'assessment',\n",
              " 'making',\n",
              " 'achieved',\n",
              " 'oedema',\n",
              " 'foot',\n",
              " 'comparison',\n",
              " 'specific',\n",
              " 'interaction',\n",
              " 'physical',\n",
              " 'spasm',\n",
              " 'recorded',\n",
              " 'glucose',\n",
              " 'gf',\n",
              " 'bite',\n",
              " 'soup',\n",
              " 'vivid',\n",
              " 'tests',\n",
              " 'peripheral',\n",
              " 'toxicity',\n",
              " 'de',\n",
              " 'examined',\n",
              " 'pellets',\n",
              " 'efficiency',\n",
              " 'lack',\n",
              " 'produced',\n",
              " 'major',\n",
              " 'small',\n",
              " 'reference',\n",
              " 'carried',\n",
              " 'cookbook',\n",
              " 'extent',\n",
              " 'positive',\n",
              " 'depersonalization',\n",
              " 'design',\n",
              " 'technique',\n",
              " 'emotional',\n",
              " 'fever',\n",
              " 'tolerance',\n",
              " 'dr',\n",
              " 'models',\n",
              " 'uterine',\n",
              " 'arrest',\n",
              " 'diffusion',\n",
              " 'determination',\n",
              " 'global',\n",
              " 'seizures',\n",
              " 'withdrawals',\n",
              " 'compulsive',\n",
              " 'current',\n",
              " 'performance',\n",
              " 'second',\n",
              " 'erythema',\n",
              " 'misoprostol',\n",
              " 'women',\n",
              " 'naproxen',\n",
              " 'sensitive',\n",
              " 'count',\n",
              " 'degrees',\n",
              " 'nervous',\n",
              " 'indicate',\n",
              " 'phosphate',\n",
              " 'twice',\n",
              " 'comparable',\n",
              " 'synthesis',\n",
              " 'linked',\n",
              " 'methods',\n",
              " 'expression',\n",
              " 'ventricular',\n",
              " 'novel',\n",
              " 'commercial',\n",
              " 'last',\n",
              " 'third',\n",
              " 'needed',\n",
              " 'crazy',\n",
              " 'considered',\n",
              " 'against',\n",
              " 'dic',\n",
              " 'injuries',\n",
              " 'thus',\n",
              " 'fracture',\n",
              " 'cardiovascular',\n",
              " 'might',\n",
              " 'memory',\n",
              " 'localized',\n",
              " 'rofecoxib',\n",
              " 'microg',\n",
              " 'hunger',\n",
              " 'them',\n",
              " 'index',\n",
              " 'stress',\n",
              " 'membrane',\n",
              " 'asthma',\n",
              " 'cream',\n",
              " 'degree',\n",
              " 'neoplasm',\n",
              " 'easy',\n",
              " 'outcome',\n",
              " 'medical',\n",
              " 'beta',\n",
              " 'whole',\n",
              " 'loaded',\n",
              " 'delayed',\n",
              " 'hurt',\n",
              " 'co',\n",
              " 'delicious',\n",
              " 'paracetamol',\n",
              " 'therefore',\n",
              " 'inhibited',\n",
              " 'enzyme',\n",
              " 'next',\n",
              " 'receiving',\n",
              " 'since',\n",
              " 'capsules',\n",
              " 'characterized',\n",
              " 'alternative',\n",
              " 'flare',\n",
              " 'terms',\n",
              " 'responses',\n",
              " 'clearance',\n",
              " 'open',\n",
              " 'ache',\n",
              " 'medium',\n",
              " 'gi',\n",
              " 'saline',\n",
              " 'adderall',\n",
              " 'max',\n",
              " 'taking',\n",
              " 'fast',\n",
              " 'value',\n",
              " 'short',\n",
              " 'hplc',\n",
              " 'event',\n",
              " 'patch',\n",
              " 'drowsy',\n",
              " 'hip',\n",
              " 'hungry',\n",
              " 'upper',\n",
              " 'wheat',\n",
              " 'superior',\n",
              " 'top',\n",
              " 'forms',\n",
              " 'looking',\n",
              " 'children',\n",
              " 'findings',\n",
              " 'central',\n",
              " 'autographed',\n",
              " 'influence',\n",
              " 'fractures',\n",
              " 'factor',\n",
              " 'nerve',\n",
              " 'euphoric',\n",
              " '3',\n",
              " 'really',\n",
              " 'tissues',\n",
              " 'inhibitors',\n",
              " 'media',\n",
              " 'increasing',\n",
              " 'medications',\n",
              " 'whether',\n",
              " 'prostaglandin',\n",
              " 'friends',\n",
              " 'characteristics',\n",
              " 'solubility',\n",
              " 'malignant',\n",
              " 'lung',\n",
              " 'highly',\n",
              " 'released',\n",
              " 'nauseous',\n",
              " 'assess',\n",
              " 'others',\n",
              " 'thank',\n",
              " 'abuse',\n",
              " 'intoxication',\n",
              " 'solutions',\n",
              " 'intramuscular',\n",
              " 'lesion',\n",
              " 'buffer',\n",
              " 'try',\n",
              " 'preparations',\n",
              " 'story',\n",
              " 'fear',\n",
              " 'pge',\n",
              " 'nm',\n",
              " 'incidence',\n",
              " 'transdermal',\n",
              " 'cutaneous',\n",
              " 'provided',\n",
              " 'genital',\n",
              " '2014',\n",
              " 'analyzed',\n",
              " 'sexual',\n",
              " 'issues',\n",
              " 'detection',\n",
              " 'shoulder',\n",
              " 'bleeding',\n",
              " 'always',\n",
              " 'having',\n",
              " 'few',\n",
              " 'bowl',\n",
              " 'sick',\n",
              " '6',\n",
              " 'mass',\n",
              " 'bread',\n",
              " 'treat',\n",
              " 'additional',\n",
              " 'rabbits',\n",
              " 'drops',\n",
              " 'extraction',\n",
              " 'kinetics',\n",
              " 'sneezing',\n",
              " 'penetration',\n",
              " 'artery',\n",
              " 'clinically',\n",
              " 'role',\n",
              " 'own',\n",
              " 'options',\n",
              " 'absence',\n",
              " 'giveaway',\n",
              " 'cramps',\n",
              " 'lipid',\n",
              " 'candidiasis',\n",
              " 'activities',\n",
              " 'oil',\n",
              " 'objective',\n",
              " 'tongue',\n",
              " 'ldl',\n",
              " 'consciousness',\n",
              " 'obsessive',\n",
              " 'learn',\n",
              " 'affected',\n",
              " 'antiinflammatory',\n",
              " 'chitosan',\n",
              " 'general',\n",
              " 'point',\n",
              " 'partial',\n",
              " 'symptom',\n",
              " 'nasal',\n",
              " 'excessive',\n",
              " 'examination',\n",
              " 'tingling',\n",
              " 'hand',\n",
              " 'enhanced',\n",
              " 'information',\n",
              " 'thinking',\n",
              " 'impaired',\n",
              " 'immune',\n",
              " 'problems',\n",
              " 'lipoprotein',\n",
              " ...]"
            ]
          },
          "metadata": {
            "tags": []
          },
          "execution_count": 18
        }
      ]
    },
    {
      "cell_type": "code",
      "metadata": {
        "id": "yPWr03mls3VT",
        "outputId": "51bc43db-4aad-4685-cfe9-2ba481830ed3",
        "colab": {
          "base_uri": "https://localhost:8080/",
          "height": 17
        }
      },
      "source": [
        "model_path = path/'models'\n",
        "model_path.mkdir(exist_ok=True)\n",
        "url = 'http://files.fast.ai/models/wt103_v1/'\n",
        "download_url(f'{url}lstm_wt103.pth', model_path/'lstm_wt103.pth')\n",
        "download_url(f'{url}itos_wt103.pkl', model_path/'itos_wt103.pkl')"
      ],
      "execution_count": 19,
      "outputs": [
        {
          "output_type": "display_data",
          "data": {
            "text/html": [
              ""
            ],
            "text/plain": [
              "<IPython.core.display.HTML object>"
            ]
          },
          "metadata": {
            "tags": []
          }
        },
        {
          "output_type": "display_data",
          "data": {
            "text/html": [
              ""
            ],
            "text/plain": [
              "<IPython.core.display.HTML object>"
            ]
          },
          "metadata": {
            "tags": []
          }
        }
      ]
    },
    {
      "cell_type": "code",
      "metadata": {
        "id": "JRzvWg8RtGGr",
        "outputId": "7781c4f2-c9cc-473e-ab47-0f3fb5926e9f",
        "colab": {
          "base_uri": "https://localhost:8080/",
          "height": 34
        }
      },
      "source": [
        "learn = language_model_learner(data_lm, AWD_LSTM, drop_mult=0.5)"
      ],
      "execution_count": 20,
      "outputs": [
        {
          "output_type": "stream",
          "text": [
            "Downloading https://s3.amazonaws.com/fast-ai-modelzoo/wt103-fwd.tgz\n"
          ],
          "name": "stdout"
        },
        {
          "output_type": "display_data",
          "data": {
            "text/html": [
              ""
            ],
            "text/plain": [
              "<IPython.core.display.HTML object>"
            ]
          },
          "metadata": {
            "tags": []
          }
        }
      ]
    },
    {
      "cell_type": "code",
      "metadata": {
        "id": "xKK7GeBev7Xn",
        "outputId": "550b1821-ab60-4230-f257-75dce71074d8",
        "colab": {
          "base_uri": "https://localhost:8080/",
          "height": 80
        }
      },
      "source": [
        "learn.fit_one_cycle(1, 1e-2)"
      ],
      "execution_count": 21,
      "outputs": [
        {
          "output_type": "display_data",
          "data": {
            "text/html": [
              "<table border=\"1\" class=\"dataframe\">\n",
              "  <thead>\n",
              "    <tr style=\"text-align: left;\">\n",
              "      <th>epoch</th>\n",
              "      <th>train_loss</th>\n",
              "      <th>valid_loss</th>\n",
              "      <th>accuracy</th>\n",
              "      <th>time</th>\n",
              "    </tr>\n",
              "  </thead>\n",
              "  <tbody>\n",
              "    <tr>\n",
              "      <td>0</td>\n",
              "      <td>4.725287</td>\n",
              "      <td>4.212960</td>\n",
              "      <td>0.341787</td>\n",
              "      <td>23:17</td>\n",
              "    </tr>\n",
              "  </tbody>\n",
              "</table>"
            ],
            "text/plain": [
              "<IPython.core.display.HTML object>"
            ]
          },
          "metadata": {
            "tags": []
          }
        }
      ]
    },
    {
      "cell_type": "code",
      "metadata": {
        "id": "iB7rHGQCwd12",
        "outputId": "ec3a7635-a0fb-4370-f2a9-1a1c8346d09c",
        "colab": {
          "base_uri": "https://localhost:8080/",
          "height": 80
        }
      },
      "source": [
        "learn.fit_one_cycle(1, 1e-2)"
      ],
      "execution_count": 22,
      "outputs": [
        {
          "output_type": "display_data",
          "data": {
            "text/html": [
              "<table border=\"1\" class=\"dataframe\">\n",
              "  <thead>\n",
              "    <tr style=\"text-align: left;\">\n",
              "      <th>epoch</th>\n",
              "      <th>train_loss</th>\n",
              "      <th>valid_loss</th>\n",
              "      <th>accuracy</th>\n",
              "      <th>time</th>\n",
              "    </tr>\n",
              "  </thead>\n",
              "  <tbody>\n",
              "    <tr>\n",
              "      <td>0</td>\n",
              "      <td>3.996613</td>\n",
              "      <td>3.832397</td>\n",
              "      <td>0.377547</td>\n",
              "      <td>23:11</td>\n",
              "    </tr>\n",
              "  </tbody>\n",
              "</table>"
            ],
            "text/plain": [
              "<IPython.core.display.HTML object>"
            ]
          },
          "metadata": {
            "tags": []
          }
        }
      ]
    },
    {
      "cell_type": "code",
      "metadata": {
        "id": "_BnSuAeCwkBe",
        "outputId": "e25aa3c0-67c2-4e53-dc2b-26ab20a0e7db",
        "colab": {
          "base_uri": "https://localhost:8080/",
          "height": 80
        }
      },
      "source": [
        "learn.fit_one_cycle(1, 1e-3)"
      ],
      "execution_count": 23,
      "outputs": [
        {
          "output_type": "display_data",
          "data": {
            "text/html": [
              "<table border=\"1\" class=\"dataframe\">\n",
              "  <thead>\n",
              "    <tr style=\"text-align: left;\">\n",
              "      <th>epoch</th>\n",
              "      <th>train_loss</th>\n",
              "      <th>valid_loss</th>\n",
              "      <th>accuracy</th>\n",
              "      <th>time</th>\n",
              "    </tr>\n",
              "  </thead>\n",
              "  <tbody>\n",
              "    <tr>\n",
              "      <td>0</td>\n",
              "      <td>3.728415</td>\n",
              "      <td>3.788286</td>\n",
              "      <td>0.382346</td>\n",
              "      <td>23:10</td>\n",
              "    </tr>\n",
              "  </tbody>\n",
              "</table>"
            ],
            "text/plain": [
              "<IPython.core.display.HTML object>"
            ]
          },
          "metadata": {
            "tags": []
          }
        }
      ]
    },
    {
      "cell_type": "code",
      "metadata": {
        "id": "MuTm-RFjwrEX",
        "outputId": "8b957b8a-d3b4-45b6-9977-af746dd2d0c1",
        "colab": {
          "base_uri": "https://localhost:8080/",
          "height": 80
        }
      },
      "source": [
        "learn.fit_one_cycle(1, 1e-3)"
      ],
      "execution_count": 24,
      "outputs": [
        {
          "output_type": "display_data",
          "data": {
            "text/html": [
              "<table border=\"1\" class=\"dataframe\">\n",
              "  <thead>\n",
              "    <tr style=\"text-align: left;\">\n",
              "      <th>epoch</th>\n",
              "      <th>train_loss</th>\n",
              "      <th>valid_loss</th>\n",
              "      <th>accuracy</th>\n",
              "      <th>time</th>\n",
              "    </tr>\n",
              "  </thead>\n",
              "  <tbody>\n",
              "    <tr>\n",
              "      <td>0</td>\n",
              "      <td>3.667167</td>\n",
              "      <td>3.756520</td>\n",
              "      <td>0.385819</td>\n",
              "      <td>23:41</td>\n",
              "    </tr>\n",
              "  </tbody>\n",
              "</table>"
            ],
            "text/plain": [
              "<IPython.core.display.HTML object>"
            ]
          },
          "metadata": {
            "tags": []
          }
        }
      ]
    },
    {
      "cell_type": "code",
      "metadata": {
        "id": "1Er2ExO8wr7Y"
      },
      "source": [
        "learn.save_encoder('pubmed_cadec_twadrl_mixed_fold5_first')"
      ],
      "execution_count": 25,
      "outputs": []
    },
    {
      "cell_type": "code",
      "metadata": {
        "id": "z52cZs2qwvad",
        "outputId": "60994e77-5db3-41e1-b310-5c66b82ae8d2",
        "colab": {
          "base_uri": "https://localhost:8080/",
          "height": 80
        }
      },
      "source": [
        "learn = text_classifier_learner(data_clas,AWD_LSTM, drop_mult=0.5)\n",
        "learn.load_encoder('pubmed_cadec_twadrl_mixed_fold5_first')\n",
        "learn.fit_one_cycle(1, 1e-2)"
      ],
      "execution_count": 26,
      "outputs": [
        {
          "output_type": "display_data",
          "data": {
            "text/html": [
              "<table border=\"1\" class=\"dataframe\">\n",
              "  <thead>\n",
              "    <tr style=\"text-align: left;\">\n",
              "      <th>epoch</th>\n",
              "      <th>train_loss</th>\n",
              "      <th>valid_loss</th>\n",
              "      <th>accuracy</th>\n",
              "      <th>time</th>\n",
              "    </tr>\n",
              "  </thead>\n",
              "  <tbody>\n",
              "    <tr>\n",
              "      <td>0</td>\n",
              "      <td>7.168226</td>\n",
              "      <td>6.798484</td>\n",
              "      <td>0.061538</td>\n",
              "      <td>00:24</td>\n",
              "    </tr>\n",
              "  </tbody>\n",
              "</table>"
            ],
            "text/plain": [
              "<IPython.core.display.HTML object>"
            ]
          },
          "metadata": {
            "tags": []
          }
        }
      ]
    },
    {
      "cell_type": "code",
      "metadata": {
        "id": "ImwQP1PJwzxd",
        "outputId": "4a791ae1-6f94-4f6e-cbcd-0ef2ef612392",
        "colab": {
          "base_uri": "https://localhost:8080/",
          "height": 80
        }
      },
      "source": [
        "learn.freeze_to(-2)\n",
        "learn.fit_one_cycle(1, slice(5e-3/2., 5e-3))"
      ],
      "execution_count": 27,
      "outputs": [
        {
          "output_type": "display_data",
          "data": {
            "text/html": [
              "<table border=\"1\" class=\"dataframe\">\n",
              "  <thead>\n",
              "    <tr style=\"text-align: left;\">\n",
              "      <th>epoch</th>\n",
              "      <th>train_loss</th>\n",
              "      <th>valid_loss</th>\n",
              "      <th>accuracy</th>\n",
              "      <th>time</th>\n",
              "    </tr>\n",
              "  </thead>\n",
              "  <tbody>\n",
              "    <tr>\n",
              "      <td>0</td>\n",
              "      <td>6.193985</td>\n",
              "      <td>4.988405</td>\n",
              "      <td>0.161538</td>\n",
              "      <td>00:28</td>\n",
              "    </tr>\n",
              "  </tbody>\n",
              "</table>"
            ],
            "text/plain": [
              "<IPython.core.display.HTML object>"
            ]
          },
          "metadata": {
            "tags": []
          }
        }
      ]
    },
    {
      "cell_type": "code",
      "metadata": {
        "id": "Owff_BJXw53u",
        "outputId": "5eeafce0-2bfb-49f6-db0b-4acd9555f552",
        "colab": {
          "base_uri": "https://localhost:8080/",
          "height": 80
        }
      },
      "source": [
        "learn.unfreeze()\n",
        "learn.fit_one_cycle(1, slice(2e-3/100, 2e-3))"
      ],
      "execution_count": 28,
      "outputs": [
        {
          "output_type": "display_data",
          "data": {
            "text/html": [
              "<table border=\"1\" class=\"dataframe\">\n",
              "  <thead>\n",
              "    <tr style=\"text-align: left;\">\n",
              "      <th>epoch</th>\n",
              "      <th>train_loss</th>\n",
              "      <th>valid_loss</th>\n",
              "      <th>accuracy</th>\n",
              "      <th>time</th>\n",
              "    </tr>\n",
              "  </thead>\n",
              "  <tbody>\n",
              "    <tr>\n",
              "      <td>0</td>\n",
              "      <td>5.642177</td>\n",
              "      <td>4.817461</td>\n",
              "      <td>0.184615</td>\n",
              "      <td>01:06</td>\n",
              "    </tr>\n",
              "  </tbody>\n",
              "</table>"
            ],
            "text/plain": [
              "<IPython.core.display.HTML object>"
            ]
          },
          "metadata": {
            "tags": []
          }
        }
      ]
    },
    {
      "cell_type": "code",
      "metadata": {
        "id": "lqAyu56V8Waq",
        "outputId": "cc0a32a7-db58-4bf6-8475-8bed3d61328b",
        "colab": {
          "base_uri": "https://localhost:8080/",
          "height": 111
        }
      },
      "source": [
        "learn.fit_one_cycle(2, slice(2e-3/100, 2e-3))"
      ],
      "execution_count": 29,
      "outputs": [
        {
          "output_type": "display_data",
          "data": {
            "text/html": [
              "<table border=\"1\" class=\"dataframe\">\n",
              "  <thead>\n",
              "    <tr style=\"text-align: left;\">\n",
              "      <th>epoch</th>\n",
              "      <th>train_loss</th>\n",
              "      <th>valid_loss</th>\n",
              "      <th>accuracy</th>\n",
              "      <th>time</th>\n",
              "    </tr>\n",
              "  </thead>\n",
              "  <tbody>\n",
              "    <tr>\n",
              "      <td>0</td>\n",
              "      <td>5.433926</td>\n",
              "      <td>4.474031</td>\n",
              "      <td>0.215385</td>\n",
              "      <td>01:07</td>\n",
              "    </tr>\n",
              "    <tr>\n",
              "      <td>1</td>\n",
              "      <td>5.174873</td>\n",
              "      <td>4.284108</td>\n",
              "      <td>0.230769</td>\n",
              "      <td>01:11</td>\n",
              "    </tr>\n",
              "  </tbody>\n",
              "</table>"
            ],
            "text/plain": [
              "<IPython.core.display.HTML object>"
            ]
          },
          "metadata": {
            "tags": []
          }
        }
      ]
    },
    {
      "cell_type": "code",
      "metadata": {
        "id": "a7I1xMRp8bUd",
        "outputId": "760a385c-ea81-414f-de71-ca10f3aa670a",
        "colab": {
          "base_uri": "https://localhost:8080/",
          "height": 111
        }
      },
      "source": [
        "learn.fit_one_cycle(2, slice(2e-3/100, 2e-3))"
      ],
      "execution_count": 30,
      "outputs": [
        {
          "output_type": "display_data",
          "data": {
            "text/html": [
              "<table border=\"1\" class=\"dataframe\">\n",
              "  <thead>\n",
              "    <tr style=\"text-align: left;\">\n",
              "      <th>epoch</th>\n",
              "      <th>train_loss</th>\n",
              "      <th>valid_loss</th>\n",
              "      <th>accuracy</th>\n",
              "      <th>time</th>\n",
              "    </tr>\n",
              "  </thead>\n",
              "  <tbody>\n",
              "    <tr>\n",
              "      <td>0</td>\n",
              "      <td>4.887179</td>\n",
              "      <td>4.025888</td>\n",
              "      <td>0.300000</td>\n",
              "      <td>01:11</td>\n",
              "    </tr>\n",
              "    <tr>\n",
              "      <td>1</td>\n",
              "      <td>4.731250</td>\n",
              "      <td>3.997002</td>\n",
              "      <td>0.269231</td>\n",
              "      <td>01:06</td>\n",
              "    </tr>\n",
              "  </tbody>\n",
              "</table>"
            ],
            "text/plain": [
              "<IPython.core.display.HTML object>"
            ]
          },
          "metadata": {
            "tags": []
          }
        }
      ]
    },
    {
      "cell_type": "code",
      "metadata": {
        "id": "UAnti-XmGVfO",
        "outputId": "b8ac4b10-9ebe-40ee-dfeb-08aad9e4e436",
        "colab": {
          "base_uri": "https://localhost:8080/",
          "height": 111
        }
      },
      "source": [
        "learn.fit_one_cycle(2, slice(2e-3/100, 2e-3))"
      ],
      "execution_count": 31,
      "outputs": [
        {
          "output_type": "display_data",
          "data": {
            "text/html": [
              "<table border=\"1\" class=\"dataframe\">\n",
              "  <thead>\n",
              "    <tr style=\"text-align: left;\">\n",
              "      <th>epoch</th>\n",
              "      <th>train_loss</th>\n",
              "      <th>valid_loss</th>\n",
              "      <th>accuracy</th>\n",
              "      <th>time</th>\n",
              "    </tr>\n",
              "  </thead>\n",
              "  <tbody>\n",
              "    <tr>\n",
              "      <td>0</td>\n",
              "      <td>4.473302</td>\n",
              "      <td>3.916573</td>\n",
              "      <td>0.338462</td>\n",
              "      <td>01:06</td>\n",
              "    </tr>\n",
              "    <tr>\n",
              "      <td>1</td>\n",
              "      <td>4.306895</td>\n",
              "      <td>3.909714</td>\n",
              "      <td>0.315385</td>\n",
              "      <td>01:11</td>\n",
              "    </tr>\n",
              "  </tbody>\n",
              "</table>"
            ],
            "text/plain": [
              "<IPython.core.display.HTML object>"
            ]
          },
          "metadata": {
            "tags": []
          }
        }
      ]
    },
    {
      "cell_type": "code",
      "metadata": {
        "id": "bIft7W25GwSu",
        "outputId": "fc50de9a-436f-4ede-8066-1219de7e1526",
        "colab": {
          "base_uri": "https://localhost:8080/",
          "height": 111
        }
      },
      "source": [
        "learn.fit_one_cycle(2, slice(2e-3/100, 2e-3))"
      ],
      "execution_count": 32,
      "outputs": [
        {
          "output_type": "display_data",
          "data": {
            "text/html": [
              "<table border=\"1\" class=\"dataframe\">\n",
              "  <thead>\n",
              "    <tr style=\"text-align: left;\">\n",
              "      <th>epoch</th>\n",
              "      <th>train_loss</th>\n",
              "      <th>valid_loss</th>\n",
              "      <th>accuracy</th>\n",
              "      <th>time</th>\n",
              "    </tr>\n",
              "  </thead>\n",
              "  <tbody>\n",
              "    <tr>\n",
              "      <td>0</td>\n",
              "      <td>4.117854</td>\n",
              "      <td>3.747685</td>\n",
              "      <td>0.330769</td>\n",
              "      <td>01:07</td>\n",
              "    </tr>\n",
              "    <tr>\n",
              "      <td>1</td>\n",
              "      <td>3.974382</td>\n",
              "      <td>3.817488</td>\n",
              "      <td>0.323077</td>\n",
              "      <td>01:11</td>\n",
              "    </tr>\n",
              "  </tbody>\n",
              "</table>"
            ],
            "text/plain": [
              "<IPython.core.display.HTML object>"
            ]
          },
          "metadata": {
            "tags": []
          }
        }
      ]
    },
    {
      "cell_type": "code",
      "metadata": {
        "id": "EEHszVRvGyFt",
        "outputId": "1a423843-46ed-4188-cdae-f8fc358326aa",
        "colab": {
          "base_uri": "https://localhost:8080/",
          "height": 111
        }
      },
      "source": [
        "learn.fit_one_cycle(2, slice(2e-3/100, 2e-3))"
      ],
      "execution_count": 33,
      "outputs": [
        {
          "output_type": "display_data",
          "data": {
            "text/html": [
              "<table border=\"1\" class=\"dataframe\">\n",
              "  <thead>\n",
              "    <tr style=\"text-align: left;\">\n",
              "      <th>epoch</th>\n",
              "      <th>train_loss</th>\n",
              "      <th>valid_loss</th>\n",
              "      <th>accuracy</th>\n",
              "      <th>time</th>\n",
              "    </tr>\n",
              "  </thead>\n",
              "  <tbody>\n",
              "    <tr>\n",
              "      <td>0</td>\n",
              "      <td>3.818016</td>\n",
              "      <td>3.679688</td>\n",
              "      <td>0.330769</td>\n",
              "      <td>01:09</td>\n",
              "    </tr>\n",
              "    <tr>\n",
              "      <td>1</td>\n",
              "      <td>3.690136</td>\n",
              "      <td>3.670678</td>\n",
              "      <td>0.346154</td>\n",
              "      <td>01:08</td>\n",
              "    </tr>\n",
              "  </tbody>\n",
              "</table>"
            ],
            "text/plain": [
              "<IPython.core.display.HTML object>"
            ]
          },
          "metadata": {
            "tags": []
          }
        }
      ]
    },
    {
      "cell_type": "code",
      "metadata": {
        "id": "XsHfrhCHG3dN",
        "outputId": "aaa6bd93-529d-4621-810e-3003530a7a66",
        "colab": {
          "base_uri": "https://localhost:8080/",
          "height": 173
        }
      },
      "source": [
        "learn.fit_one_cycle(4, slice(2e-3/100, 2e-3))"
      ],
      "execution_count": 34,
      "outputs": [
        {
          "output_type": "display_data",
          "data": {
            "text/html": [
              "<table border=\"1\" class=\"dataframe\">\n",
              "  <thead>\n",
              "    <tr style=\"text-align: left;\">\n",
              "      <th>epoch</th>\n",
              "      <th>train_loss</th>\n",
              "      <th>valid_loss</th>\n",
              "      <th>accuracy</th>\n",
              "      <th>time</th>\n",
              "    </tr>\n",
              "  </thead>\n",
              "  <tbody>\n",
              "    <tr>\n",
              "      <td>0</td>\n",
              "      <td>3.474772</td>\n",
              "      <td>3.658468</td>\n",
              "      <td>0.330769</td>\n",
              "      <td>01:10</td>\n",
              "    </tr>\n",
              "    <tr>\n",
              "      <td>1</td>\n",
              "      <td>3.417334</td>\n",
              "      <td>3.635795</td>\n",
              "      <td>0.315385</td>\n",
              "      <td>01:05</td>\n",
              "    </tr>\n",
              "    <tr>\n",
              "      <td>2</td>\n",
              "      <td>3.240014</td>\n",
              "      <td>3.628785</td>\n",
              "      <td>0.361538</td>\n",
              "      <td>01:06</td>\n",
              "    </tr>\n",
              "    <tr>\n",
              "      <td>3</td>\n",
              "      <td>3.090044</td>\n",
              "      <td>3.603916</td>\n",
              "      <td>0.353846</td>\n",
              "      <td>01:10</td>\n",
              "    </tr>\n",
              "  </tbody>\n",
              "</table>"
            ],
            "text/plain": [
              "<IPython.core.display.HTML object>"
            ]
          },
          "metadata": {
            "tags": []
          }
        }
      ]
    },
    {
      "cell_type": "code",
      "metadata": {
        "id": "0Zsd99isb9EQ",
        "outputId": "9b3fe1be-f3ae-403b-eb71-2db33843db60",
        "colab": {
          "base_uri": "https://localhost:8080/",
          "height": 173
        }
      },
      "source": [
        "learn.fit_one_cycle(4, slice(2e-3/100, 2e-3))"
      ],
      "execution_count": 35,
      "outputs": [
        {
          "output_type": "display_data",
          "data": {
            "text/html": [
              "<table border=\"1\" class=\"dataframe\">\n",
              "  <thead>\n",
              "    <tr style=\"text-align: left;\">\n",
              "      <th>epoch</th>\n",
              "      <th>train_loss</th>\n",
              "      <th>valid_loss</th>\n",
              "      <th>accuracy</th>\n",
              "      <th>time</th>\n",
              "    </tr>\n",
              "  </thead>\n",
              "  <tbody>\n",
              "    <tr>\n",
              "      <td>0</td>\n",
              "      <td>2.871830</td>\n",
              "      <td>3.675026</td>\n",
              "      <td>0.346154</td>\n",
              "      <td>01:14</td>\n",
              "    </tr>\n",
              "    <tr>\n",
              "      <td>1</td>\n",
              "      <td>2.824067</td>\n",
              "      <td>3.680312</td>\n",
              "      <td>0.338462</td>\n",
              "      <td>01:08</td>\n",
              "    </tr>\n",
              "    <tr>\n",
              "      <td>2</td>\n",
              "      <td>2.643530</td>\n",
              "      <td>3.715038</td>\n",
              "      <td>0.353846</td>\n",
              "      <td>01:10</td>\n",
              "    </tr>\n",
              "    <tr>\n",
              "      <td>3</td>\n",
              "      <td>2.500571</td>\n",
              "      <td>3.659269</td>\n",
              "      <td>0.361538</td>\n",
              "      <td>01:11</td>\n",
              "    </tr>\n",
              "  </tbody>\n",
              "</table>"
            ],
            "text/plain": [
              "<IPython.core.display.HTML object>"
            ]
          },
          "metadata": {
            "tags": []
          }
        }
      ]
    },
    {
      "cell_type": "code",
      "metadata": {
        "id": "atNWNKDFPbuI",
        "outputId": "03d10005-55e9-4543-f64f-1f938afe0c22",
        "colab": {
          "base_uri": "https://localhost:8080/",
          "height": 173
        }
      },
      "source": [
        "learn.fit_one_cycle(4, slice(2e-3/100, 2e-3))"
      ],
      "execution_count": 36,
      "outputs": [
        {
          "output_type": "display_data",
          "data": {
            "text/html": [
              "<table border=\"1\" class=\"dataframe\">\n",
              "  <thead>\n",
              "    <tr style=\"text-align: left;\">\n",
              "      <th>epoch</th>\n",
              "      <th>train_loss</th>\n",
              "      <th>valid_loss</th>\n",
              "      <th>accuracy</th>\n",
              "      <th>time</th>\n",
              "    </tr>\n",
              "  </thead>\n",
              "  <tbody>\n",
              "    <tr>\n",
              "      <td>0</td>\n",
              "      <td>2.350294</td>\n",
              "      <td>3.614859</td>\n",
              "      <td>0.376923</td>\n",
              "      <td>01:10</td>\n",
              "    </tr>\n",
              "    <tr>\n",
              "      <td>1</td>\n",
              "      <td>2.320533</td>\n",
              "      <td>3.717751</td>\n",
              "      <td>0.346154</td>\n",
              "      <td>01:10</td>\n",
              "    </tr>\n",
              "    <tr>\n",
              "      <td>2</td>\n",
              "      <td>2.138309</td>\n",
              "      <td>3.761787</td>\n",
              "      <td>0.338462</td>\n",
              "      <td>01:12</td>\n",
              "    </tr>\n",
              "    <tr>\n",
              "      <td>3</td>\n",
              "      <td>1.963968</td>\n",
              "      <td>3.751354</td>\n",
              "      <td>0.338462</td>\n",
              "      <td>01:13</td>\n",
              "    </tr>\n",
              "  </tbody>\n",
              "</table>"
            ],
            "text/plain": [
              "<IPython.core.display.HTML object>"
            ]
          },
          "metadata": {
            "tags": []
          }
        }
      ]
    },
    {
      "cell_type": "code",
      "metadata": {
        "id": "rKrBTZ0T1uVA",
        "outputId": "79229f0a-ce82-4edc-8045-d361d8b9e6dd",
        "colab": {
          "base_uri": "https://localhost:8080/",
          "height": 173
        }
      },
      "source": [
        "learn.fit_one_cycle(4, slice(2e-3/100, 2e-3))"
      ],
      "execution_count": 37,
      "outputs": [
        {
          "output_type": "display_data",
          "data": {
            "text/html": [
              "<table border=\"1\" class=\"dataframe\">\n",
              "  <thead>\n",
              "    <tr style=\"text-align: left;\">\n",
              "      <th>epoch</th>\n",
              "      <th>train_loss</th>\n",
              "      <th>valid_loss</th>\n",
              "      <th>accuracy</th>\n",
              "      <th>time</th>\n",
              "    </tr>\n",
              "  </thead>\n",
              "  <tbody>\n",
              "    <tr>\n",
              "      <td>0</td>\n",
              "      <td>1.833150</td>\n",
              "      <td>3.794940</td>\n",
              "      <td>0.369231</td>\n",
              "      <td>01:10</td>\n",
              "    </tr>\n",
              "    <tr>\n",
              "      <td>1</td>\n",
              "      <td>1.821217</td>\n",
              "      <td>3.821647</td>\n",
              "      <td>0.361538</td>\n",
              "      <td>01:12</td>\n",
              "    </tr>\n",
              "    <tr>\n",
              "      <td>2</td>\n",
              "      <td>1.677437</td>\n",
              "      <td>3.872115</td>\n",
              "      <td>0.361538</td>\n",
              "      <td>01:12</td>\n",
              "    </tr>\n",
              "    <tr>\n",
              "      <td>3</td>\n",
              "      <td>1.569198</td>\n",
              "      <td>3.939014</td>\n",
              "      <td>0.369231</td>\n",
              "      <td>01:06</td>\n",
              "    </tr>\n",
              "  </tbody>\n",
              "</table>"
            ],
            "text/plain": [
              "<IPython.core.display.HTML object>"
            ]
          },
          "metadata": {
            "tags": []
          }
        }
      ]
    },
    {
      "cell_type": "code",
      "metadata": {
        "id": "ajQC6WDg1yA9",
        "outputId": "c6871c1e-be1a-4ac6-cf57-6f401dc7f178",
        "colab": {
          "base_uri": "https://localhost:8080/",
          "height": 173
        }
      },
      "source": [
        "learn.fit_one_cycle(4, slice(2e-3/100, 2e-3))"
      ],
      "execution_count": 38,
      "outputs": [
        {
          "output_type": "display_data",
          "data": {
            "text/html": [
              "<table border=\"1\" class=\"dataframe\">\n",
              "  <thead>\n",
              "    <tr style=\"text-align: left;\">\n",
              "      <th>epoch</th>\n",
              "      <th>train_loss</th>\n",
              "      <th>valid_loss</th>\n",
              "      <th>accuracy</th>\n",
              "      <th>time</th>\n",
              "    </tr>\n",
              "  </thead>\n",
              "  <tbody>\n",
              "    <tr>\n",
              "      <td>0</td>\n",
              "      <td>1.410509</td>\n",
              "      <td>3.941470</td>\n",
              "      <td>0.346154</td>\n",
              "      <td>01:09</td>\n",
              "    </tr>\n",
              "    <tr>\n",
              "      <td>1</td>\n",
              "      <td>1.402094</td>\n",
              "      <td>4.114700</td>\n",
              "      <td>0.323077</td>\n",
              "      <td>01:09</td>\n",
              "    </tr>\n",
              "    <tr>\n",
              "      <td>2</td>\n",
              "      <td>1.302130</td>\n",
              "      <td>4.068210</td>\n",
              "      <td>0.346154</td>\n",
              "      <td>01:06</td>\n",
              "    </tr>\n",
              "    <tr>\n",
              "      <td>3</td>\n",
              "      <td>1.192146</td>\n",
              "      <td>4.126517</td>\n",
              "      <td>0.361538</td>\n",
              "      <td>01:10</td>\n",
              "    </tr>\n",
              "  </tbody>\n",
              "</table>"
            ],
            "text/plain": [
              "<IPython.core.display.HTML object>"
            ]
          },
          "metadata": {
            "tags": []
          }
        }
      ]
    },
    {
      "cell_type": "code",
      "metadata": {
        "id": "KKydb0B4BKGk",
        "outputId": "cb46ced7-8b8b-4356-cfac-39d0c7e38424",
        "colab": {
          "base_uri": "https://localhost:8080/",
          "height": 173
        }
      },
      "source": [
        "learn.fit_one_cycle(4, slice(2e-3/100, 2e-3))"
      ],
      "execution_count": 39,
      "outputs": [
        {
          "output_type": "display_data",
          "data": {
            "text/html": [
              "<table border=\"1\" class=\"dataframe\">\n",
              "  <thead>\n",
              "    <tr style=\"text-align: left;\">\n",
              "      <th>epoch</th>\n",
              "      <th>train_loss</th>\n",
              "      <th>valid_loss</th>\n",
              "      <th>accuracy</th>\n",
              "      <th>time</th>\n",
              "    </tr>\n",
              "  </thead>\n",
              "  <tbody>\n",
              "    <tr>\n",
              "      <td>0</td>\n",
              "      <td>1.120922</td>\n",
              "      <td>4.063375</td>\n",
              "      <td>0.369231</td>\n",
              "      <td>01:09</td>\n",
              "    </tr>\n",
              "    <tr>\n",
              "      <td>1</td>\n",
              "      <td>1.106292</td>\n",
              "      <td>4.214025</td>\n",
              "      <td>0.346154</td>\n",
              "      <td>01:13</td>\n",
              "    </tr>\n",
              "    <tr>\n",
              "      <td>2</td>\n",
              "      <td>1.019414</td>\n",
              "      <td>4.195822</td>\n",
              "      <td>0.361538</td>\n",
              "      <td>01:12</td>\n",
              "    </tr>\n",
              "    <tr>\n",
              "      <td>3</td>\n",
              "      <td>0.919003</td>\n",
              "      <td>4.202745</td>\n",
              "      <td>0.369231</td>\n",
              "      <td>01:10</td>\n",
              "    </tr>\n",
              "  </tbody>\n",
              "</table>"
            ],
            "text/plain": [
              "<IPython.core.display.HTML object>"
            ]
          },
          "metadata": {
            "tags": []
          }
        }
      ]
    },
    {
      "cell_type": "code",
      "metadata": {
        "id": "T2APKtFKBpGY",
        "outputId": "e8703abf-54bd-440b-c49d-def8c4cfaf07",
        "colab": {
          "base_uri": "https://localhost:8080/",
          "height": 173
        }
      },
      "source": [
        "learn.fit_one_cycle(4, slice(2e-3/100, 2e-3))"
      ],
      "execution_count": 40,
      "outputs": [
        {
          "output_type": "display_data",
          "data": {
            "text/html": [
              "<table border=\"1\" class=\"dataframe\">\n",
              "  <thead>\n",
              "    <tr style=\"text-align: left;\">\n",
              "      <th>epoch</th>\n",
              "      <th>train_loss</th>\n",
              "      <th>valid_loss</th>\n",
              "      <th>accuracy</th>\n",
              "      <th>time</th>\n",
              "    </tr>\n",
              "  </thead>\n",
              "  <tbody>\n",
              "    <tr>\n",
              "      <td>0</td>\n",
              "      <td>0.878306</td>\n",
              "      <td>4.293581</td>\n",
              "      <td>0.330769</td>\n",
              "      <td>01:07</td>\n",
              "    </tr>\n",
              "    <tr>\n",
              "      <td>1</td>\n",
              "      <td>0.910996</td>\n",
              "      <td>4.427607</td>\n",
              "      <td>0.315385</td>\n",
              "      <td>01:08</td>\n",
              "    </tr>\n",
              "    <tr>\n",
              "      <td>2</td>\n",
              "      <td>0.834803</td>\n",
              "      <td>4.661834</td>\n",
              "      <td>0.323077</td>\n",
              "      <td>01:09</td>\n",
              "    </tr>\n",
              "    <tr>\n",
              "      <td>3</td>\n",
              "      <td>0.740528</td>\n",
              "      <td>4.539474</td>\n",
              "      <td>0.330769</td>\n",
              "      <td>01:09</td>\n",
              "    </tr>\n",
              "  </tbody>\n",
              "</table>"
            ],
            "text/plain": [
              "<IPython.core.display.HTML object>"
            ]
          },
          "metadata": {
            "tags": []
          }
        }
      ]
    },
    {
      "cell_type": "code",
      "metadata": {
        "id": "qtTypA1sPgLU",
        "outputId": "2b013b76-cad4-41ae-cd89-167648cfbaff",
        "colab": {
          "base_uri": "https://localhost:8080/",
          "height": 111
        }
      },
      "source": [
        "learn.fit_one_cycle(2, slice(2e-3/100, 2e-3))"
      ],
      "execution_count": 41,
      "outputs": [
        {
          "output_type": "display_data",
          "data": {
            "text/html": [
              "<table border=\"1\" class=\"dataframe\">\n",
              "  <thead>\n",
              "    <tr style=\"text-align: left;\">\n",
              "      <th>epoch</th>\n",
              "      <th>train_loss</th>\n",
              "      <th>valid_loss</th>\n",
              "      <th>accuracy</th>\n",
              "      <th>time</th>\n",
              "    </tr>\n",
              "  </thead>\n",
              "  <tbody>\n",
              "    <tr>\n",
              "      <td>0</td>\n",
              "      <td>0.692299</td>\n",
              "      <td>4.419730</td>\n",
              "      <td>0.346154</td>\n",
              "      <td>01:10</td>\n",
              "    </tr>\n",
              "    <tr>\n",
              "      <td>1</td>\n",
              "      <td>0.686945</td>\n",
              "      <td>4.534122</td>\n",
              "      <td>0.353846</td>\n",
              "      <td>01:07</td>\n",
              "    </tr>\n",
              "  </tbody>\n",
              "</table>"
            ],
            "text/plain": [
              "<IPython.core.display.HTML object>"
            ]
          },
          "metadata": {
            "tags": []
          }
        }
      ]
    },
    {
      "cell_type": "code",
      "metadata": {
        "id": "b242kBsTUp9Y",
        "outputId": "f177901c-0bba-4666-b40d-1de0dc43b7c8",
        "colab": {
          "base_uri": "https://localhost:8080/",
          "height": 111
        }
      },
      "source": [
        "learn.fit_one_cycle(2, slice(2e-3/100, 2e-3))"
      ],
      "execution_count": 42,
      "outputs": [
        {
          "output_type": "display_data",
          "data": {
            "text/html": [
              "<table border=\"1\" class=\"dataframe\">\n",
              "  <thead>\n",
              "    <tr style=\"text-align: left;\">\n",
              "      <th>epoch</th>\n",
              "      <th>train_loss</th>\n",
              "      <th>valid_loss</th>\n",
              "      <th>accuracy</th>\n",
              "      <th>time</th>\n",
              "    </tr>\n",
              "  </thead>\n",
              "  <tbody>\n",
              "    <tr>\n",
              "      <td>0</td>\n",
              "      <td>0.679308</td>\n",
              "      <td>4.542460</td>\n",
              "      <td>0.315385</td>\n",
              "      <td>01:15</td>\n",
              "    </tr>\n",
              "    <tr>\n",
              "      <td>1</td>\n",
              "      <td>0.665630</td>\n",
              "      <td>4.701327</td>\n",
              "      <td>0.369231</td>\n",
              "      <td>01:05</td>\n",
              "    </tr>\n",
              "  </tbody>\n",
              "</table>"
            ],
            "text/plain": [
              "<IPython.core.display.HTML object>"
            ]
          },
          "metadata": {
            "tags": []
          }
        }
      ]
    },
    {
      "cell_type": "code",
      "metadata": {
        "id": "Duwf1Ih5VeDZ",
        "outputId": "87102827-05e6-47e2-e5cc-2b45f6080392",
        "colab": {
          "base_uri": "https://localhost:8080/",
          "height": 80
        }
      },
      "source": [
        "learn.fit_one_cycle(1, slice(2e-3/100, 2e-3))"
      ],
      "execution_count": 43,
      "outputs": [
        {
          "output_type": "display_data",
          "data": {
            "text/html": [
              "<table border=\"1\" class=\"dataframe\">\n",
              "  <thead>\n",
              "    <tr style=\"text-align: left;\">\n",
              "      <th>epoch</th>\n",
              "      <th>train_loss</th>\n",
              "      <th>valid_loss</th>\n",
              "      <th>accuracy</th>\n",
              "      <th>time</th>\n",
              "    </tr>\n",
              "  </thead>\n",
              "  <tbody>\n",
              "    <tr>\n",
              "      <td>0</td>\n",
              "      <td>0.623675</td>\n",
              "      <td>4.640868</td>\n",
              "      <td>0.369231</td>\n",
              "      <td>01:07</td>\n",
              "    </tr>\n",
              "  </tbody>\n",
              "</table>"
            ],
            "text/plain": [
              "<IPython.core.display.HTML object>"
            ]
          },
          "metadata": {
            "tags": []
          }
        }
      ]
    },
    {
      "cell_type": "code",
      "metadata": {
        "id": "iArUipydI5Z6",
        "outputId": "00e9f8a9-ac24-4ad4-de78-938fc0f27752",
        "colab": {
          "base_uri": "https://localhost:8080/",
          "height": 80
        }
      },
      "source": [
        "learn.fit_one_cycle(1, slice(2e-3/100, 2e-3))"
      ],
      "execution_count": 44,
      "outputs": [
        {
          "output_type": "display_data",
          "data": {
            "text/html": [
              "<table border=\"1\" class=\"dataframe\">\n",
              "  <thead>\n",
              "    <tr style=\"text-align: left;\">\n",
              "      <th>epoch</th>\n",
              "      <th>train_loss</th>\n",
              "      <th>valid_loss</th>\n",
              "      <th>accuracy</th>\n",
              "      <th>time</th>\n",
              "    </tr>\n",
              "  </thead>\n",
              "  <tbody>\n",
              "    <tr>\n",
              "      <td>0</td>\n",
              "      <td>0.578105</td>\n",
              "      <td>4.739814</td>\n",
              "      <td>0.346154</td>\n",
              "      <td>01:10</td>\n",
              "    </tr>\n",
              "  </tbody>\n",
              "</table>"
            ],
            "text/plain": [
              "<IPython.core.display.HTML object>"
            ]
          },
          "metadata": {
            "tags": []
          }
        }
      ]
    },
    {
      "cell_type": "code",
      "metadata": {
        "id": "c65d-osfDUXm"
      },
      "source": [
        "# save the best model\n",
        "\n",
        "learn.save_encoder('pubmed_cadec_twadrl_mixed_fold5')"
      ],
      "execution_count": 45,
      "outputs": []
    },
    {
      "cell_type": "markdown",
      "metadata": {
        "id": "rCwZU0E2RgM6"
      },
      "source": [
        "# Part three: Predict on the test dataset"
      ]
    },
    {
      "cell_type": "code",
      "metadata": {
        "id": "gDm72c-dOu7d",
        "outputId": "6ace2eca-d959-451b-d5ca-7569951fc96f",
        "colab": {
          "base_uri": "https://localhost:8080/",
          "height": 17
        }
      },
      "source": [
        "# use the test data for prediction\n",
        "\n",
        "preds, y = learn.get_preds(DatasetType.Test)"
      ],
      "execution_count": 46,
      "outputs": [
        {
          "output_type": "display_data",
          "data": {
            "text/html": [
              ""
            ],
            "text/plain": [
              "<IPython.core.display.HTML object>"
            ]
          },
          "metadata": {
            "tags": []
          }
        }
      ]
    },
    {
      "cell_type": "code",
      "metadata": {
        "id": "6tFSQcsWPvxn",
        "outputId": "18581054-5569-4141-bd0c-6995f5388980",
        "colab": {
          "base_uri": "https://localhost:8080/",
          "height": 105
        }
      },
      "source": [
        "predictions, *_ = learn.get_preds(DatasetType.Test)\n",
        "labels = np.argmax(predictions, 1)\n",
        "predict_list = labels.tolist()\n",
        "standard_list = test[0].tolist()\n",
        "\n",
        "print(len(predict_list))\n",
        "print(len(standard_list))\n",
        "\n",
        "print(predict_list)\n",
        "print(standard_list)"
      ],
      "execution_count": 47,
      "outputs": [
        {
          "output_type": "display_data",
          "data": {
            "text/html": [
              ""
            ],
            "text/plain": [
              "<IPython.core.display.HTML object>"
            ]
          },
          "metadata": {
            "tags": []
          }
        },
        {
          "output_type": "stream",
          "text": [
            "143\n",
            "143\n",
            "[1099, 1787, 1145, 133, 231, 233, 233, 249, 300, 1582, 1136, 1787, 824, 532, 550, 1373, 582, 749, 644, 744, 744, 749, 749, 1597, 1597, 1597, 974, 792, 792, 813, 1578, 1321, 1308, 1096, 1278, 858, 1815, 974, 974, 974, 978, 978, 978, 978, 978, 978, 1007, 1019, 107, 824, 1099, 1545, 1356, 1136, 1373, 1432, 1192, 561, 1227, 1227, 1295, 1295, 1295, 1308, 1340, 441, 947, 393, 824, 1884, 1884, 809, 792, 1341, 1508, 1446, 224, 1701, 1701, 1610, 1973, 1815, 1594, 1356, 1597, 1597, 852, 1610, 1610, 1610, 1610, 300, 1145, 1048, 1099, 749, 1711, 824, 1718, 1767, 1727, 1718, 2026, 1767, 1669, 1767, 1727, 1718, 1073, 1099, 1787, 2191, 1727, 393, 1787, 2119, 1787, 923, 1815, 1815, 1822, 393, 2147, 1936, 1936, 1942, 1529, 1341, 1798, 1599, 858, 1295, 2032, 1787, 189, 2081, 2103, 1529, 1787, 233, 2032, 1529, 1936]\n",
            "[13, 13, 93, 133, 231, 233, 233, 249, 300, 362, 396, 418, 441, 532, 550, 582, 582, 596, 644, 744, 745, 749, 749, 791, 791, 791, 792, 792, 792, 813, 815, 818, 822, 852, 857, 858, 974, 974, 974, 974, 978, 978, 978, 978, 978, 982, 1007, 1019, 1054, 1073, 1099, 1099, 1099, 1136, 1142, 1175, 1192, 1227, 1227, 1227, 1295, 1295, 1295, 1308, 1340, 1341, 1356, 1356, 1373, 1432, 1432, 1458, 1463, 1507, 1508, 1519, 1521, 1526, 1526, 1529, 1529, 1545, 1594, 1597, 1597, 1597, 1610, 1610, 1610, 1610, 1610, 1610, 1616, 1669, 1706, 1711, 1711, 1718, 1718, 1718, 1718, 1718, 1767, 1767, 1767, 1767, 1767, 1767, 1767, 1769, 1787, 1787, 1787, 1787, 1787, 1787, 1787, 1813, 1815, 1815, 1833, 1877, 1925, 1936, 1936, 1942, 1942, 1973, 1974, 2017, 2017, 2032, 2032, 2032, 2048, 2081, 2103, 2147, 2147, 2147, 2149, 2149, 2194]\n"
          ],
          "name": "stdout"
        }
      ]
    },
    {
      "cell_type": "code",
      "metadata": {
        "id": "XIC4zufnMxtq",
        "outputId": "292b4cef-b69c-448e-9e48-74de8c461c6b",
        "colab": {
          "base_uri": "https://localhost:8080/",
          "height": 51
        }
      },
      "source": [
        "correct_num = 0\n",
        "\n",
        "for i in range(0, len(standard_list)):\n",
        "  if predict_list[i] == standard_list[i]:\n",
        "    correct_num = correct_num+1\n",
        "  else:\n",
        "    pass\n",
        "print(correct_num)\n",
        "\n",
        "predict_accuracy = correct_num/len(predict_list)\n",
        "print(predict_accuracy)"
      ],
      "execution_count": 48,
      "outputs": [
        {
          "output_type": "stream",
          "text": [
            "61\n",
            "0.42657342657342656\n"
          ],
          "name": "stdout"
        }
      ]
    },
    {
      "cell_type": "code",
      "metadata": {
        "id": "zlKMHp1CIaRJ"
      },
      "source": [
        ""
      ],
      "execution_count": 48,
      "outputs": []
    }
  ]
}