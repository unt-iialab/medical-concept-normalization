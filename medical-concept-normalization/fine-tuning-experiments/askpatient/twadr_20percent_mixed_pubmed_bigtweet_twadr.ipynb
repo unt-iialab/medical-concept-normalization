{
  "nbformat": 4,
  "nbformat_minor": 0,
  "metadata": {
    "accelerator": "TPU",
    "colab": {
      "name": "twadr_20percent_mixed_pubmed_bigtweet_twadr.ipynb",
      "provenance": [],
      "collapsed_sections": [],
      "toc_visible": true,
      "include_colab_link": true
    },
    "kernelspec": {
      "display_name": "Python 3",
      "name": "python3"
    }
  },
  "cells": [
    {
      "cell_type": "markdown",
      "metadata": {
        "id": "view-in-github",
        "colab_type": "text"
      },
      "source": [
        "<a href=\"https://colab.research.google.com/github/unt-iialab/medical-concept-normalization/blob/master/medical-concept-normalization/fine-tuning-experiments/askpatient/twadr_20percent_mixed_pubmed_bigtweet_twadr.ipynb\" target=\"_parent\"><img src=\"https://colab.research.google.com/assets/colab-badge.svg\" alt=\"Open In Colab\"/></a>"
      ]
    },
    {
      "cell_type": "code",
      "metadata": {
        "id": "adSi6i2-dWxy"
      },
      "source": [
        "import os"
      ],
      "execution_count": 1,
      "outputs": []
    },
    {
      "cell_type": "code",
      "metadata": {
        "id": "E7xYCRGPjd9B"
      },
      "source": [
        "base_dir = 'medical-concept-normalization'"
      ],
      "execution_count": 2,
      "outputs": []
    },
    {
      "cell_type": "code",
      "metadata": {
        "id": "yvIW3aUDjYNS"
      },
      "source": [
        "os.mkdir(base_dir)"
      ],
      "execution_count": 3,
      "outputs": []
    },
    {
      "cell_type": "code",
      "metadata": {
        "id": "es-FFLlfk6SG"
      },
      "source": [
        "os.mkdir('medical-concept-normalization/data_collection')"
      ],
      "execution_count": 4,
      "outputs": []
    },
    {
      "cell_type": "markdown",
      "metadata": {
        "id": "0R-Guw_VoJXm"
      },
      "source": [
        "**Install fastai and clone the fastai for text classification**\n",
        "\n"
      ]
    },
    {
      "cell_type": "code",
      "metadata": {
        "id": "QVZa3Z0PmHFH",
        "outputId": "5d009401-6262-4e42-a032-92874346770b",
        "colab": {
          "base_uri": "https://localhost:8080/",
          "height": 68
        }
      },
      "source": [
        "!curl https://course-v3.fast.ai/setup/colab | bash"
      ],
      "execution_count": 5,
      "outputs": [
        {
          "output_type": "stream",
          "text": [
            "  % Total    % Received % Xferd  Average Speed   Time    Time     Time  Current\n",
            "                                 Dload  Upload   Total   Spent    Left  Speed\n",
            "\r  0     0    0     0    0     0      0      0 --:--:-- --:--:-- --:--:--     0curl: (6) Could not resolve host: course-v3.fast.ai\n"
          ],
          "name": "stdout"
        }
      ]
    },
    {
      "cell_type": "code",
      "metadata": {
        "id": "_FBFFEBrmJC0",
        "outputId": "021b38dd-728b-4a5c-a048-70314bfc63ac",
        "colab": {
          "base_uri": "https://localhost:8080/",
          "height": 85
        }
      },
      "source": [
        "!git clone https://github.com/wshuyi/demo-nlp-classification-fastai.git"
      ],
      "execution_count": 6,
      "outputs": [
        {
          "output_type": "stream",
          "text": [
            "Cloning into 'demo-nlp-classification-fastai'...\n",
            "remote: Enumerating objects: 9, done.\u001b[K\n",
            "remote: Total 9 (delta 0), reused 0 (delta 0), pack-reused 9\u001b[K\n",
            "Unpacking objects: 100% (9/9), done.\n"
          ],
          "name": "stdout"
        }
      ]
    },
    {
      "cell_type": "code",
      "metadata": {
        "id": "66zfh_JqmWMU"
      },
      "source": [
        "from fastai import *\n",
        "from fastai.text import *"
      ],
      "execution_count": 7,
      "outputs": []
    },
    {
      "cell_type": "markdown",
      "metadata": {
        "id": "mNIw-yALdBU9"
      },
      "source": [
        "**Set the path of the data collections**"
      ]
    },
    {
      "cell_type": "code",
      "metadata": {
        "id": "pzH7VMh4mqCL"
      },
      "source": [
        "path = Path('medical-concept-normalization/data_collection')"
      ],
      "execution_count": 8,
      "outputs": []
    },
    {
      "cell_type": "code",
      "metadata": {
        "id": "b8fjI6yyn4aS"
      },
      "source": [
        "# training data set\n",
        "\n",
        "train_csv = path/'tward_training_folder_0.csv'\n",
        "train = pd.read_csv(train_csv, header=None)\n",
        "#train.head()\n",
        "#train.info()"
      ],
      "execution_count": 10,
      "outputs": []
    },
    {
      "cell_type": "code",
      "metadata": {
        "id": "Hmlr-bAorfHd",
        "outputId": "a2b6eeb2-4b68-4c1e-93e8-be20f14f3a26",
        "colab": {
          "base_uri": "https://localhost:8080/",
          "height": 204
        }
      },
      "source": [
        "# validating data set\n",
        "\n",
        "valid = pd.read_csv(path/\"tward_validation_folder_0.csv\",header=None)\n",
        "valid.head()\n"
      ],
      "execution_count": 11,
      "outputs": [
        {
          "output_type": "execute_result",
          "data": {
            "text/html": [
              "<div>\n",
              "<style scoped>\n",
              "    .dataframe tbody tr th:only-of-type {\n",
              "        vertical-align: middle;\n",
              "    }\n",
              "\n",
              "    .dataframe tbody tr th {\n",
              "        vertical-align: top;\n",
              "    }\n",
              "\n",
              "    .dataframe thead th {\n",
              "        text-align: right;\n",
              "    }\n",
              "</style>\n",
              "<table border=\"1\" class=\"dataframe\">\n",
              "  <thead>\n",
              "    <tr style=\"text-align: right;\">\n",
              "      <th></th>\n",
              "      <th>0</th>\n",
              "      <th>1</th>\n",
              "    </tr>\n",
              "  </thead>\n",
              "  <tbody>\n",
              "    <tr>\n",
              "      <th>0</th>\n",
              "      <td>1811</td>\n",
              "      <td>cant shut up for the whole day</td>\n",
              "    </tr>\n",
              "    <tr>\n",
              "      <th>1</th>\n",
              "      <td>903</td>\n",
              "      <td>angry</td>\n",
              "    </tr>\n",
              "    <tr>\n",
              "      <th>2</th>\n",
              "      <td>1576</td>\n",
              "      <td>got me to the ceiling</td>\n",
              "    </tr>\n",
              "    <tr>\n",
              "      <th>3</th>\n",
              "      <td>2201</td>\n",
              "      <td>anxiety</td>\n",
              "    </tr>\n",
              "    <tr>\n",
              "      <th>4</th>\n",
              "      <td>416</td>\n",
              "      <td>tingling</td>\n",
              "    </tr>\n",
              "  </tbody>\n",
              "</table>\n",
              "</div>"
            ],
            "text/plain": [
              "      0                               1\n",
              "0  1811  cant shut up for the whole day\n",
              "1   903                           angry\n",
              "2  1576           got me to the ceiling\n",
              "3  2201                         anxiety\n",
              "4   416                        tingling"
            ]
          },
          "metadata": {
            "tags": []
          },
          "execution_count": 11
        }
      ]
    },
    {
      "cell_type": "code",
      "metadata": {
        "id": "cOza9dfSsBud",
        "outputId": "9f22b6f4-c4a0-40c8-c1be-e01beac4831d",
        "colab": {
          "base_uri": "https://localhost:8080/",
          "height": 204
        }
      },
      "source": [
        "# testing data set\n",
        "\n",
        "test = pd.read_csv(path/\"tward_testing_overlap_20.csv\",header=None)\n",
        "test.head()"
      ],
      "execution_count": 12,
      "outputs": [
        {
          "output_type": "execute_result",
          "data": {
            "text/html": [
              "<div>\n",
              "<style scoped>\n",
              "    .dataframe tbody tr th:only-of-type {\n",
              "        vertical-align: middle;\n",
              "    }\n",
              "\n",
              "    .dataframe tbody tr th {\n",
              "        vertical-align: top;\n",
              "    }\n",
              "\n",
              "    .dataframe thead th {\n",
              "        text-align: right;\n",
              "    }\n",
              "</style>\n",
              "<table border=\"1\" class=\"dataframe\">\n",
              "  <thead>\n",
              "    <tr style=\"text-align: right;\">\n",
              "      <th></th>\n",
              "      <th>0</th>\n",
              "      <th>1</th>\n",
              "    </tr>\n",
              "  </thead>\n",
              "  <tbody>\n",
              "    <tr>\n",
              "      <th>0</th>\n",
              "      <td>1576</td>\n",
              "      <td>still not tired</td>\n",
              "    </tr>\n",
              "    <tr>\n",
              "      <th>1</th>\n",
              "      <td>2099</td>\n",
              "      <td>can't remember the last time i slept</td>\n",
              "    </tr>\n",
              "    <tr>\n",
              "      <th>2</th>\n",
              "      <td>1698</td>\n",
              "      <td>i feel like</td>\n",
              "    </tr>\n",
              "    <tr>\n",
              "      <th>3</th>\n",
              "      <td>1811</td>\n",
              "      <td>wired</td>\n",
              "    </tr>\n",
              "    <tr>\n",
              "      <th>4</th>\n",
              "      <td>476</td>\n",
              "      <td>still procrastinating</td>\n",
              "    </tr>\n",
              "  </tbody>\n",
              "</table>\n",
              "</div>"
            ],
            "text/plain": [
              "      0                                     1\n",
              "0  1576                       still not tired\n",
              "1  2099  can't remember the last time i slept\n",
              "2  1698                           i feel like\n",
              "3  1811                                 wired\n",
              "4   476                 still procrastinating"
            ]
          },
          "metadata": {
            "tags": []
          },
          "execution_count": 12
        }
      ]
    },
    {
      "cell_type": "code",
      "metadata": {
        "id": "Vo-YNvVYoaH6",
        "outputId": "2eeddeb8-3e55-4813-eee2-9d3ba4baa606",
        "colab": {
          "base_uri": "https://localhost:8080/",
          "height": 17
        }
      },
      "source": [
        "# Creating DataBunch for language modelling\n",
        "\n",
        "data_lm = TextLMDataBunch.from_csv(path, 'mixed_pubmed_bigtweet_twadr.csv')"
      ],
      "execution_count": 13,
      "outputs": [
        {
          "output_type": "display_data",
          "data": {
            "text/html": [
              ""
            ],
            "text/plain": [
              "<IPython.core.display.HTML object>"
            ]
          },
          "metadata": {
            "tags": []
          }
        },
        {
          "output_type": "display_data",
          "data": {
            "text/html": [
              ""
            ],
            "text/plain": [
              "<IPython.core.display.HTML object>"
            ]
          },
          "metadata": {
            "tags": []
          }
        }
      ]
    },
    {
      "cell_type": "code",
      "metadata": {
        "id": "qcV-9kMnNLBf"
      },
      "source": [
        ""
      ],
      "execution_count": 13,
      "outputs": []
    },
    {
      "cell_type": "code",
      "metadata": {
        "id": "1ScY9afDsnvE"
      },
      "source": [
        "# Creating DataBunch for classification\n",
        "\n",
        "# data_clas = TextClasDataBunch.from_df(path, train, valid, test, vocab=data_lm.train_ds.vocab, bs=128)"
      ],
      "execution_count": 14,
      "outputs": []
    },
    {
      "cell_type": "code",
      "metadata": {
        "id": "gzrSdQcvey9p",
        "outputId": "8160cdd1-9138-4ba4-f1b1-464aa4bee08d",
        "colab": {
          "base_uri": "https://localhost:8080/",
          "height": 17
        }
      },
      "source": [
        "data_clas = TextClasDataBunch.from_df(path, train, valid, vocab=data_lm.train_ds.vocab, bs=128)"
      ],
      "execution_count": 15,
      "outputs": [
        {
          "output_type": "display_data",
          "data": {
            "text/html": [
              ""
            ],
            "text/plain": [
              "<IPython.core.display.HTML object>"
            ]
          },
          "metadata": {
            "tags": []
          }
        },
        {
          "output_type": "display_data",
          "data": {
            "text/html": [
              ""
            ],
            "text/plain": [
              "<IPython.core.display.HTML object>"
            ]
          },
          "metadata": {
            "tags": []
          }
        }
      ]
    },
    {
      "cell_type": "code",
      "metadata": {
        "id": "MD27Tf0Ke3ou",
        "outputId": "a7683478-351e-4a1e-b3f1-77a7ab893915",
        "colab": {
          "base_uri": "https://localhost:8080/",
          "height": 17
        }
      },
      "source": [
        "data_clas.add_test(test,label=0)\n"
      ],
      "execution_count": 16,
      "outputs": [
        {
          "output_type": "display_data",
          "data": {
            "text/html": [
              ""
            ],
            "text/plain": [
              "<IPython.core.display.HTML object>"
            ]
          },
          "metadata": {
            "tags": []
          }
        }
      ]
    },
    {
      "cell_type": "code",
      "metadata": {
        "id": "-dpjnk_rstwk"
      },
      "source": [
        "data_lm.save()\n",
        "data_clas.save()"
      ],
      "execution_count": 17,
      "outputs": []
    },
    {
      "cell_type": "code",
      "metadata": {
        "id": "4OkiJa36sw5s",
        "outputId": "a6020078-d861-4d96-ee37-31b988ca898e",
        "colab": {
          "base_uri": "https://localhost:8080/",
          "height": 1000
        }
      },
      "source": [
        "data_lm.train_ds.vocab.itos"
      ],
      "execution_count": 18,
      "outputs": [
        {
          "output_type": "execute_result",
          "data": {
            "text/plain": [
              "['xxunk',\n",
              " 'xxpad',\n",
              " 'xxbos',\n",
              " 'xxeos',\n",
              " 'xxfld',\n",
              " 'xxmaj',\n",
              " 'xxup',\n",
              " 'xxrep',\n",
              " 'xxwrep',\n",
              " 'the',\n",
              " 'of',\n",
              " 'and',\n",
              " 'in',\n",
              " 'to',\n",
              " 'a',\n",
              " 'for',\n",
              " 'with',\n",
              " 'was',\n",
              " 'diclofenac',\n",
              " 'were',\n",
              " 'on',\n",
              " 'is',\n",
              " 'rt',\n",
              " 'pain',\n",
              " 'sodium',\n",
              " 'by',\n",
              " 'drug',\n",
              " 'that',\n",
              " 'as',\n",
              " 'i',\n",
              " 'patients',\n",
              " 'at',\n",
              " 'or',\n",
              " 'this',\n",
              " 'from',\n",
              " 'you',\n",
              " 'disease',\n",
              " 'be',\n",
              " 'group',\n",
              " 'mg',\n",
              " 'increased',\n",
              " 'my',\n",
              " 'study',\n",
              " 'are',\n",
              " 'treatment',\n",
              " 'mood',\n",
              " 'not',\n",
              " 'an',\n",
              " 'it',\n",
              " 'after',\n",
              " 'me',\n",
              " 'amp',\n",
              " 'have',\n",
              " 'p',\n",
              " 'release',\n",
              " 'gluten',\n",
              " ',',\n",
              " 'disorder',\n",
              " 'all',\n",
              " 'effect',\n",
              " 'abnormal',\n",
              " 'free',\n",
              " 'withdrawal',\n",
              " 'than',\n",
              " 'we',\n",
              " 'no',\n",
              " 'symptoms',\n",
              " 'decreased',\n",
              " 'out',\n",
              " 'new',\n",
              " 'weight',\n",
              " 'compared',\n",
              " 'more',\n",
              " 'your',\n",
              " 'anxiety',\n",
              " 'using',\n",
              " 'effects',\n",
              " 'day',\n",
              " 'up',\n",
              " 'groups',\n",
              " 'time',\n",
              " 'two',\n",
              " 'both',\n",
              " 'our',\n",
              " 'its',\n",
              " 'inflammatory',\n",
              " 'about',\n",
              " 'drugs',\n",
              " 'blood',\n",
              " 'like',\n",
              " 'between',\n",
              " 'these',\n",
              " 'h',\n",
              " 'acute',\n",
              " 'had',\n",
              " 'significantly',\n",
              " 'use',\n",
              " 'potassium',\n",
              " 'significant',\n",
              " 'but',\n",
              " 'anti',\n",
              " 'which',\n",
              " 'disorders',\n",
              " 'has',\n",
              " 'used',\n",
              " 'do',\n",
              " 'voltaren',\n",
              " 'syndrome',\n",
              " 'dose',\n",
              " 'skin',\n",
              " 'can',\n",
              " 'behavior',\n",
              " 'results',\n",
              " '(',\n",
              " ')',\n",
              " 'also',\n",
              " '-',\n",
              " 'placebo',\n",
              " 'nt',\n",
              " 'days',\n",
              " 'glutenfree',\n",
              " 'one',\n",
              " 'efficacy',\n",
              " 'what',\n",
              " 'diseases',\n",
              " 'may',\n",
              " 's',\n",
              " 'sleeplessness',\n",
              " 'there',\n",
              " 'oral',\n",
              " 'when',\n",
              " 'now',\n",
              " 'm',\n",
              " 'ds',\n",
              " 'feeling',\n",
              " 'concentration',\n",
              " 'celiac',\n",
              " 'treated',\n",
              " 'got',\n",
              " 'topical',\n",
              " 'been',\n",
              " 'showed',\n",
              " 'w',\n",
              " 'ml',\n",
              " 'different',\n",
              " 'finding',\n",
              " 'insomnia',\n",
              " 'administration',\n",
              " 'test',\n",
              " 'non',\n",
              " 'sleep',\n",
              " 'products',\n",
              " 'c',\n",
              " 'disturbance',\n",
              " 'food',\n",
              " 'clinical',\n",
              " 'right',\n",
              " 'their',\n",
              " 'energy',\n",
              " 'so',\n",
              " 'via',\n",
              " 'other',\n",
              " 'rats',\n",
              " 'somnolence',\n",
              " 'found',\n",
              " 'high',\n",
              " 'control',\n",
              " 'hours',\n",
              " 'into',\n",
              " 'studies',\n",
              " 'mental',\n",
              " 'mean',\n",
              " 'if',\n",
              " 'plasma',\n",
              " 'induced',\n",
              " 'well',\n",
              " 'how',\n",
              " 'acid',\n",
              " 'swelling',\n",
              " 'during',\n",
              " 'first',\n",
              " 'could',\n",
              " 'respectively',\n",
              " 'state',\n",
              " 'muscle',\n",
              " 'post',\n",
              " 'body',\n",
              " 'who',\n",
              " 'over',\n",
              " 'diet',\n",
              " 'formulation',\n",
              " 'did',\n",
              " 'tablets',\n",
              " 'feel',\n",
              " 'low',\n",
              " 'effective',\n",
              " 'gain',\n",
              " 'rate',\n",
              " 'method',\n",
              " 'ph',\n",
              " 'nausea',\n",
              " 'appetite',\n",
              " 'solution',\n",
              " 'nsaids',\n",
              " 'formulations',\n",
              " 'depression',\n",
              " 'gel',\n",
              " 'n',\n",
              " 'g',\n",
              " 'three',\n",
              " 'review',\n",
              " 'those',\n",
              " 'heart',\n",
              " 'conditions',\n",
              " 'd',\n",
              " 'observed',\n",
              " 'tip',\n",
              " 'only',\n",
              " 'received',\n",
              " 'cell',\n",
              " 'lower',\n",
              " 'kg',\n",
              " 'hyperactive',\n",
              " 'activity',\n",
              " 'each',\n",
              " 'excitability',\n",
              " 'total',\n",
              " 'attention',\n",
              " 'awake',\n",
              " 'reaction',\n",
              " 'daily',\n",
              " 'levels',\n",
              " 'irritable',\n",
              " 'controlled',\n",
              " 'single',\n",
              " 'analysis',\n",
              " 'level',\n",
              " 'feelings',\n",
              " 'eye',\n",
              " 'dizziness',\n",
              " 'adverse',\n",
              " 'ca',\n",
              " 'analgesic',\n",
              " 'get',\n",
              " 'less',\n",
              " 'renal',\n",
              " 'gastrointestinal',\n",
              " 'vitro',\n",
              " 'some',\n",
              " 'data',\n",
              " 'most',\n",
              " 'dblclick',\n",
              " 'period',\n",
              " 'ceiling',\n",
              " 'serum',\n",
              " 'liver',\n",
              " 'panic',\n",
              " 'atorvastatin',\n",
              " 'randomized',\n",
              " 'application',\n",
              " 'week',\n",
              " 'pic',\n",
              " 'patient',\n",
              " 'system',\n",
              " 'following',\n",
              " 'site',\n",
              " 'allergic',\n",
              " 'function',\n",
              " 'drowsiness',\n",
              " 'weeks',\n",
              " 'good',\n",
              " 'need',\n",
              " 'concentrations',\n",
              " 'loss',\n",
              " 'however',\n",
              " 'rash',\n",
              " 'evaluated',\n",
              " 'will',\n",
              " 'before',\n",
              " 'surgery',\n",
              " 'double',\n",
              " 't',\n",
              " 'joint',\n",
              " 'model',\n",
              " 'headache',\n",
              " 'obtained',\n",
              " 'here',\n",
              " 'check',\n",
              " 'why',\n",
              " 'they',\n",
              " 'years',\n",
              " 'therapy',\n",
              " 'postoperative',\n",
              " 'l',\n",
              " 'b',\n",
              " 'similar',\n",
              " 'difference',\n",
              " 'depressed',\n",
              " 'nsaid',\n",
              " 'inflammation',\n",
              " 'under',\n",
              " 'water',\n",
              " 'higher',\n",
              " 'healthy',\n",
              " 'based',\n",
              " 'dissolution',\n",
              " 'associated',\n",
              " 'tablet',\n",
              " 'life',\n",
              " 'brain',\n",
              " 'change',\n",
              " 'injury',\n",
              " 'chronic',\n",
              " 'initial',\n",
              " 'reduced',\n",
              " 'increase',\n",
              " 'know',\n",
              " 'arthritis',\n",
              " 'injection',\n",
              " 'changes',\n",
              " 'swings',\n",
              " 'response',\n",
              " 'any',\n",
              " 'present',\n",
              " 'relief',\n",
              " 'infection',\n",
              " 'edema',\n",
              " '#',\n",
              " 'just',\n",
              " 'migraine',\n",
              " 'cells',\n",
              " 'combination',\n",
              " 'should',\n",
              " 'trial',\n",
              " 'order',\n",
              " 'pressure',\n",
              " 'doses',\n",
              " 'does',\n",
              " 'while',\n",
              " 'help',\n",
              " 'bipolar',\n",
              " 'wakefulness',\n",
              " 'studied',\n",
              " 'love',\n",
              " 'great',\n",
              " 'make',\n",
              " 'bone',\n",
              " 'vs',\n",
              " 'visual',\n",
              " 'due',\n",
              " 'being',\n",
              " 'given',\n",
              " 'reported',\n",
              " 'better',\n",
              " \"n't\",\n",
              " 'differences',\n",
              " 'administered',\n",
              " 'containing',\n",
              " 'subjects',\n",
              " 'v',\n",
              " 'side',\n",
              " 'blind',\n",
              " 'values',\n",
              " 'type',\n",
              " 'gastric',\n",
              " 'developed',\n",
              " 'thanks',\n",
              " 'eating',\n",
              " 'fatigue',\n",
              " 'absorption',\n",
              " 'performed',\n",
              " 'still',\n",
              " 'min',\n",
              " 'prepared',\n",
              " 'breast',\n",
              " 'knee',\n",
              " 'events',\n",
              " 'properties',\n",
              " 'tissue',\n",
              " 'such',\n",
              " 'dreams',\n",
              " 'intolerance',\n",
              " 'decrease',\n",
              " 'parameters',\n",
              " '30',\n",
              " 'phase',\n",
              " 'attacks',\n",
              " 'investigated',\n",
              " 'four',\n",
              " 'gfb',\n",
              " 'recipe',\n",
              " 'cholesterol',\n",
              " 'respiratory',\n",
              " 'corneal',\n",
              " 'nonsteroidal',\n",
              " 're',\n",
              " 'makes',\n",
              " 'very',\n",
              " 'assessed',\n",
              " 'within',\n",
              " 'safety',\n",
              " 'x',\n",
              " 'without',\n",
              " 'us',\n",
              " 'risk',\n",
              " 'abdominal',\n",
              " 'eat',\n",
              " 'show',\n",
              " 'either',\n",
              " 'people',\n",
              " 'measured',\n",
              " 'active',\n",
              " 'tremor',\n",
              " 'samples',\n",
              " 'posted',\n",
              " 'mm',\n",
              " 'same',\n",
              " 'ratio',\n",
              " 'times',\n",
              " 'number',\n",
              " 'delivery',\n",
              " 'night',\n",
              " 'steroidal',\n",
              " 'attack',\n",
              " 'action',\n",
              " 'living',\n",
              " 'medication',\n",
              " 'through',\n",
              " 'compare',\n",
              " 'development',\n",
              " 'auc',\n",
              " 'evaluate',\n",
              " 'tired',\n",
              " 'indomethacin',\n",
              " 'failure',\n",
              " 'urine',\n",
              " 'determined',\n",
              " 'primary',\n",
              " 'oa',\n",
              " 'stiffness',\n",
              " 'scale',\n",
              " 'minutes',\n",
              " 'death',\n",
              " 'k',\n",
              " 'kidney',\n",
              " 'related',\n",
              " 'hemorrhage',\n",
              " 'human',\n",
              " 'rage',\n",
              " 'potential',\n",
              " 'included',\n",
              " 'local',\n",
              " 'going',\n",
              " 'reduction',\n",
              " 'dry',\n",
              " 'size',\n",
              " 'therapeutic',\n",
              " 'damage',\n",
              " 'liquid',\n",
              " 'taste',\n",
              " 'applied',\n",
              " 'e',\n",
              " 'cardiac',\n",
              " 'form',\n",
              " 'process',\n",
              " 'statistically',\n",
              " 'best',\n",
              " 'vivo',\n",
              " 'carcinoma',\n",
              " 'heres',\n",
              " 'lipitor',\n",
              " 'many',\n",
              " 'range',\n",
              " 'health',\n",
              " 'baseline',\n",
              " 'go',\n",
              " 'much',\n",
              " 'bioavailability',\n",
              " 'sustained',\n",
              " 'year',\n",
              " 'eyes',\n",
              " 'scores',\n",
              " 'sensitivity',\n",
              " 'available',\n",
              " '2',\n",
              " 'greater',\n",
              " 'male',\n",
              " 'ng',\n",
              " 'dependent',\n",
              " 'because',\n",
              " 'deficit',\n",
              " 'think',\n",
              " '\\r \\n ',\n",
              " 'normal',\n",
              " 'take',\n",
              " 'then',\n",
              " 'osteoarthritis',\n",
              " 'ulcer',\n",
              " 'jennieo',\n",
              " 'archives',\n",
              " 'addition',\n",
              " 'severe',\n",
              " 'read',\n",
              " 'sleepy',\n",
              " 'months',\n",
              " 'secondary',\n",
              " 'way',\n",
              " 'cox',\n",
              " 'discomfort',\n",
              " 'long',\n",
              " 'stomach',\n",
              " 'coated',\n",
              " 'revealed',\n",
              " 'tips',\n",
              " 'area',\n",
              " 'aqueous',\n",
              " 'hour',\n",
              " 'back',\n",
              " 'tolerability',\n",
              " 'infections',\n",
              " 'ii',\n",
              " 'middle',\n",
              " 'article',\n",
              " 'pulmonary',\n",
              " 'psychotic',\n",
              " 'multiple',\n",
              " 'tested',\n",
              " 'na',\n",
              " 'temperature',\n",
              " 'today',\n",
              " 'aim',\n",
              " 'treatments',\n",
              " 'dosage',\n",
              " 'safe',\n",
              " 'wide',\n",
              " 'vomiting',\n",
              " 'even',\n",
              " 'common',\n",
              " 'important',\n",
              " 'dermatitis',\n",
              " 'demonstrated',\n",
              " 'end',\n",
              " 'chicken',\n",
              " 'protein',\n",
              " 'among',\n",
              " 'super',\n",
              " 'alone',\n",
              " 'inhibitor',\n",
              " 'randomly',\n",
              " 'per',\n",
              " 'down',\n",
              " 'made',\n",
              " 'further',\n",
              " 'want',\n",
              " 'matrix',\n",
              " 'case',\n",
              " 'numbness',\n",
              " 'agent',\n",
              " 'cerebral',\n",
              " 'exposure',\n",
              " 'suggest',\n",
              " 'formation',\n",
              " 'improvement',\n",
              " 'trials',\n",
              " 'painful',\n",
              " 'growth',\n",
              " 'mice',\n",
              " '1',\n",
              " 'news',\n",
              " 'inhibition',\n",
              " 'quality',\n",
              " 'standard',\n",
              " 'indicated',\n",
              " 'cases',\n",
              " 'daytime',\n",
              " 'difficulty',\n",
              " 'hallucinations',\n",
              " 'big',\n",
              " 'diagnosis',\n",
              " 'mechanism',\n",
              " 'intensity',\n",
              " 'allergy',\n",
              " 'followed',\n",
              " 'early',\n",
              " 'volunteers',\n",
              " 'sensation',\n",
              " 'intestinal',\n",
              " 'six',\n",
              " 'tolerated',\n",
              " 'term',\n",
              " 'presence',\n",
              " 'score',\n",
              " 'caused',\n",
              " 'animals',\n",
              " 'would',\n",
              " 'provide',\n",
              " 'sweating',\n",
              " 'every',\n",
              " 'rheumatoid',\n",
              " 'various',\n",
              " 'care',\n",
              " 'alcohol',\n",
              " 'age',\n",
              " 'hepatic',\n",
              " 'shown',\n",
              " '10',\n",
              " 'irritation',\n",
              " 'ocular',\n",
              " 'divided',\n",
              " 'content',\n",
              " 'hypertension',\n",
              " 'dependence',\n",
              " 'whereas',\n",
              " 'aggravated',\n",
              " 'vehicle',\n",
              " 'depressive',\n",
              " 'fluid',\n",
              " 'conducted',\n",
              " 'versus',\n",
              " 'pizza',\n",
              " 'moderate',\n",
              " 'ibuprofen',\n",
              " 'cancer',\n",
              " 'anger',\n",
              " 'systemic',\n",
              " 'resulted',\n",
              " 'permeation',\n",
              " 'improved',\n",
              " 'complex',\n",
              " 'relative',\n",
              " '5',\n",
              " 'polymer',\n",
              " 'cause',\n",
              " 'u',\n",
              " '4',\n",
              " 'localised',\n",
              " 'pre',\n",
              " 'pharmaceutical',\n",
              " 'part',\n",
              " 'awareness',\n",
              " 'vas',\n",
              " 'asleep',\n",
              " '\\r \\n \\r \\n ',\n",
              " 'distress',\n",
              " 'onset',\n",
              " 'elevated',\n",
              " 'diagnosed',\n",
              " 'although',\n",
              " 'follow',\n",
              " 'r',\n",
              " 'calcium',\n",
              " 'including',\n",
              " 'f',\n",
              " 'zombie',\n",
              " 'determine',\n",
              " 'product',\n",
              " 'cd',\n",
              " \"'m\",\n",
              " 'according',\n",
              " 'disturbances',\n",
              " 'anemia',\n",
              " 'dysfunction',\n",
              " 'female',\n",
              " 'old',\n",
              " 'sleepiness',\n",
              " 'evaluation',\n",
              " 'peak',\n",
              " 'vascular',\n",
              " 'suicidal',\n",
              " 'find',\n",
              " 'profiles',\n",
              " 'necrosis',\n",
              " 'experimental',\n",
              " 'work',\n",
              " 'facial',\n",
              " 'month',\n",
              " 'prolonged',\n",
              " 'cataract',\n",
              " 'diabetes',\n",
              " 'happy',\n",
              " 'de',\n",
              " 'rapid',\n",
              " 'too',\n",
              " 'five',\n",
              " 'complete',\n",
              " 'pharmacokinetic',\n",
              " 'urinary',\n",
              " 'research',\n",
              " 'evidence',\n",
              " 'social',\n",
              " 'microspheres',\n",
              " 'o',\n",
              " 'physical',\n",
              " 'exhaustion',\n",
              " 'tract',\n",
              " 'th',\n",
              " 'amount',\n",
              " 'agents',\n",
              " 'combined',\n",
              " 'affect',\n",
              " 'enteric',\n",
              " 'cm',\n",
              " 'density',\n",
              " 'blog',\n",
              " 'might',\n",
              " 'cookbook',\n",
              " 'episode',\n",
              " 'share',\n",
              " 'analgesia',\n",
              " 'chest',\n",
              " 'result',\n",
              " 'glucose',\n",
              " 'please',\n",
              " 'beads',\n",
              " 'least',\n",
              " 'tooth',\n",
              " 'carried',\n",
              " 'toxicity',\n",
              " 'see',\n",
              " 'assessment',\n",
              " 'cross',\n",
              " 'rat',\n",
              " 'gf',\n",
              " 'profile',\n",
              " 'against',\n",
              " 'bad',\n",
              " 'making',\n",
              " 'global',\n",
              " 'duration',\n",
              " 'seizures',\n",
              " 'second',\n",
              " 'major',\n",
              " 'plus',\n",
              " 'microg',\n",
              " 'oedema',\n",
              " 'efficiency',\n",
              " 'uterine',\n",
              " 'arrest',\n",
              " 'surface',\n",
              " 'extent',\n",
              " 'commercial',\n",
              " 'dizzy',\n",
              " 'mild',\n",
              " 'achieved',\n",
              " 'production',\n",
              " 'cold',\n",
              " 'third',\n",
              " 'flow',\n",
              " 'foot',\n",
              " 'overall',\n",
              " 'bite',\n",
              " 'investigate',\n",
              " 'diffusion',\n",
              " 'vision',\n",
              " 'simple',\n",
              " 'once',\n",
              " 'ever',\n",
              " 'small',\n",
              " 'ventricular',\n",
              " 'impairment',\n",
              " 'models',\n",
              " 'nightmares',\n",
              " 'localized',\n",
              " 'recorded',\n",
              " 'positive',\n",
              " 'flare',\n",
              " 'solid',\n",
              " 'tolerance',\n",
              " 'linked',\n",
              " 'sensitive',\n",
              " 'patch',\n",
              " 'taking',\n",
              " 'spasm',\n",
              " 'fever',\n",
              " 'degree',\n",
              " 'specific',\n",
              " 'synthesis',\n",
              " 'possible',\n",
              " 'design',\n",
              " 'tests',\n",
              " 'examined',\n",
              " 'lesions',\n",
              " 'whole',\n",
              " 'off',\n",
              " 'medium',\n",
              " 'am',\n",
              " 'current',\n",
              " 'methods',\n",
              " 'expression',\n",
              " 'interactions',\n",
              " 'alternative',\n",
              " 'reference',\n",
              " 'cmax',\n",
              " 'phosphate',\n",
              " 'creatinine',\n",
              " 'rofecoxib',\n",
              " 'where',\n",
              " 'responses',\n",
              " 'soup',\n",
              " 'thus',\n",
              " 'comparable',\n",
              " 'cream',\n",
              " 'emotional',\n",
              " 'fracture',\n",
              " 'depersonalization',\n",
              " 'participants',\n",
              " 'naproxen',\n",
              " 'diabetic',\n",
              " 'misoprostol',\n",
              " 'outcome',\n",
              " 'gi',\n",
              " 'detection',\n",
              " 'nervous',\n",
              " 'delayed',\n",
              " 'performance',\n",
              " 'rates',\n",
              " 'compulsive',\n",
              " 'autographed',\n",
              " 'injuries',\n",
              " 'lack',\n",
              " 'vivid',\n",
              " 'medical',\n",
              " 'co',\n",
              " 'last',\n",
              " 'dic',\n",
              " 'pellets',\n",
              " 'pruritus',\n",
              " 'preparation',\n",
              " 'comparison',\n",
              " 'receiving',\n",
              " 'index',\n",
              " 'inhibited',\n",
              " 'peripheral',\n",
              " 'volume',\n",
              " 'interaction',\n",
              " 'top',\n",
              " 'findings',\n",
              " 'getting',\n",
              " '2014',\n",
              " 'novel',\n",
              " 'hurt',\n",
              " 'aspirin',\n",
              " 'considered',\n",
              " 'value',\n",
              " 'medications',\n",
              " 'erythema',\n",
              " 'twice',\n",
              " 'them',\n",
              " 'membrane',\n",
              " 'ci',\n",
              " 'dr',\n",
              " 'paracetamol',\n",
              " 'tissues',\n",
              " 'count',\n",
              " 'characterized',\n",
              " 'hunger',\n",
              " 'story',\n",
              " 'enzyme',\n",
              " 'hplc',\n",
              " 'easy',\n",
              " 'degrees',\n",
              " 'technique',\n",
              " 'produced',\n",
              " 'incidence',\n",
              " 'children',\n",
              " 'face',\n",
              " 'crazy',\n",
              " 'ache',\n",
              " 'increasing',\n",
              " 'women',\n",
              " 'determination',\n",
              " 'hepatitis',\n",
              " 'foods',\n",
              " 'memory',\n",
              " 'superior',\n",
              " 'hungry',\n",
              " 'preparations',\n",
              " 'open',\n",
              " 'wheat',\n",
              " 'cardiovascular',\n",
              " 'alpha',\n",
              " 'since',\n",
              " 'intramuscular',\n",
              " 'solubility',\n",
              " 'fractures',\n",
              " 'prostaglandin',\n",
              " 'lung',\n",
              " 'others',\n",
              " 'ketorolac',\n",
              " 'upper',\n",
              " 'stress',\n",
              " 'drops',\n",
              " 'indicate',\n",
              " 'characteristics',\n",
              " 'influence',\n",
              " 'inhibitors',\n",
              " 'try',\n",
              " 'always',\n",
              " 'highly',\n",
              " 'nauseous',\n",
              " 'saline',\n",
              " 'abuse',\n",
              " 'hip',\n",
              " 'buffer',\n",
              " 'known',\n",
              " 'beta',\n",
              " 'nm',\n",
              " 'bleeding',\n",
              " 'looking',\n",
              " 'issues',\n",
              " 'block',\n",
              " 'event',\n",
              " 'asthma',\n",
              " 'needed',\n",
              " 'giveaway',\n",
              " 'provided',\n",
              " 'adderall',\n",
              " 'bulimia',\n",
              " 'bread',\n",
              " 'cramps',\n",
              " 'partial',\n",
              " 'withdrawals',\n",
              " 'able',\n",
              " 'drowsy',\n",
              " 'central',\n",
              " 'aged',\n",
              " 'maximum',\n",
              " 'problems',\n",
              " 'transdermal',\n",
              " 'clinically',\n",
              " 'max',\n",
              " 'few',\n",
              " 'next',\n",
              " 'dpsgc',\n",
              " 'neoplasm',\n",
              " 'additional',\n",
              " 'terms',\n",
              " 'fear',\n",
              " 'shoulder',\n",
              " 'friends',\n",
              " 'factor',\n",
              " 'really',\n",
              " 'genital',\n",
              " 'role',\n",
              " 'treat',\n",
              " 'therefore',\n",
              " 'analyzed',\n",
              " 'released',\n",
              " 'several',\n",
              " 'delicious',\n",
              " 'clearance',\n",
              " 'examination',\n",
              " 'factors',\n",
              " 'enhanced',\n",
              " 'capsules',\n",
              " 'tongue',\n",
              " 'short',\n",
              " 'pge',\n",
              " 'list',\n",
              " 'solutions',\n",
              " 'lesion',\n",
              " 'forms',\n",
              " 'obsessive',\n",
              " 'support',\n",
              " 'whether',\n",
              " 'media',\n",
              " 'antiinflammatory',\n",
              " 'interesting',\n",
              " 'capsule',\n",
              " 'loaded',\n",
              " 'activities',\n",
              " 'diarrhea',\n",
              " 'learn',\n",
              " 'artery',\n",
              " 'coronary',\n",
              " 'intoxication',\n",
              " 'condition',\n",
              " 'sd',\n",
              " 'point',\n",
              " 'again',\n",
              " 'sick',\n",
              " 'euphoric',\n",
              " '3',\n",
              " 'serious',\n",
              " 'nerve',\n",
              " 'structure',\n",
              " 'ear',\n",
              " 'lipid',\n",
              " 'extraction',\n",
              " 'symptom',\n",
              " 'lipoprotein',\n",
              " 'fast',\n",
              " 'objective',\n",
              " 'assess',\n",
              " 'ophthalmic',\n",
              " '6',\n",
              " 'malignant',\n",
              " 'ldl',\n",
              " 'arthropod',\n",
              " 'rabbits',\n",
              " ...]"
            ]
          },
          "metadata": {
            "tags": []
          },
          "execution_count": 18
        }
      ]
    },
    {
      "cell_type": "code",
      "metadata": {
        "id": "yPWr03mls3VT",
        "outputId": "18fc1100-d820-4146-f61a-4bce388f9707",
        "colab": {
          "base_uri": "https://localhost:8080/",
          "height": 17
        }
      },
      "source": [
        "model_path = path/'models'\n",
        "model_path.mkdir(exist_ok=True)\n",
        "url = 'http://files.fast.ai/models/wt103_v1/'\n",
        "download_url(f'{url}lstm_wt103.pth', model_path/'lstm_wt103.pth')\n",
        "download_url(f'{url}itos_wt103.pkl', model_path/'itos_wt103.pkl')"
      ],
      "execution_count": 19,
      "outputs": [
        {
          "output_type": "display_data",
          "data": {
            "text/html": [
              ""
            ],
            "text/plain": [
              "<IPython.core.display.HTML object>"
            ]
          },
          "metadata": {
            "tags": []
          }
        },
        {
          "output_type": "display_data",
          "data": {
            "text/html": [
              ""
            ],
            "text/plain": [
              "<IPython.core.display.HTML object>"
            ]
          },
          "metadata": {
            "tags": []
          }
        }
      ]
    },
    {
      "cell_type": "code",
      "metadata": {
        "id": "JRzvWg8RtGGr",
        "outputId": "b5595ee6-2aeb-4fc9-a554-2f1eaeac7ba3",
        "colab": {
          "base_uri": "https://localhost:8080/",
          "height": 34
        }
      },
      "source": [
        "learn = language_model_learner(data_lm, AWD_LSTM, drop_mult=0.5)"
      ],
      "execution_count": 20,
      "outputs": [
        {
          "output_type": "stream",
          "text": [
            "Downloading https://s3.amazonaws.com/fast-ai-modelzoo/wt103-fwd.tgz\n"
          ],
          "name": "stdout"
        },
        {
          "output_type": "display_data",
          "data": {
            "text/html": [
              ""
            ],
            "text/plain": [
              "<IPython.core.display.HTML object>"
            ]
          },
          "metadata": {
            "tags": []
          }
        }
      ]
    },
    {
      "cell_type": "code",
      "metadata": {
        "id": "xKK7GeBev7Xn",
        "outputId": "81944114-bfb4-441f-d795-2e0786bd2674",
        "colab": {
          "base_uri": "https://localhost:8080/",
          "height": 80
        }
      },
      "source": [
        "learn.fit_one_cycle(1, 1e-2)"
      ],
      "execution_count": 21,
      "outputs": [
        {
          "output_type": "display_data",
          "data": {
            "text/html": [
              "<table border=\"1\" class=\"dataframe\">\n",
              "  <thead>\n",
              "    <tr style=\"text-align: left;\">\n",
              "      <th>epoch</th>\n",
              "      <th>train_loss</th>\n",
              "      <th>valid_loss</th>\n",
              "      <th>accuracy</th>\n",
              "      <th>time</th>\n",
              "    </tr>\n",
              "  </thead>\n",
              "  <tbody>\n",
              "    <tr>\n",
              "      <td>0</td>\n",
              "      <td>4.738321</td>\n",
              "      <td>4.181999</td>\n",
              "      <td>0.346192</td>\n",
              "      <td>22:43</td>\n",
              "    </tr>\n",
              "  </tbody>\n",
              "</table>"
            ],
            "text/plain": [
              "<IPython.core.display.HTML object>"
            ]
          },
          "metadata": {
            "tags": []
          }
        }
      ]
    },
    {
      "cell_type": "code",
      "metadata": {
        "id": "iB7rHGQCwd12",
        "outputId": "4fe0f49f-1e42-4bd4-99f0-a741f639168b",
        "colab": {
          "base_uri": "https://localhost:8080/",
          "height": 80
        }
      },
      "source": [
        "learn.fit_one_cycle(1, 1e-2)"
      ],
      "execution_count": 22,
      "outputs": [
        {
          "output_type": "display_data",
          "data": {
            "text/html": [
              "<table border=\"1\" class=\"dataframe\">\n",
              "  <thead>\n",
              "    <tr style=\"text-align: left;\">\n",
              "      <th>epoch</th>\n",
              "      <th>train_loss</th>\n",
              "      <th>valid_loss</th>\n",
              "      <th>accuracy</th>\n",
              "      <th>time</th>\n",
              "    </tr>\n",
              "  </thead>\n",
              "  <tbody>\n",
              "    <tr>\n",
              "      <td>0</td>\n",
              "      <td>4.029161</td>\n",
              "      <td>3.799644</td>\n",
              "      <td>0.383577</td>\n",
              "      <td>22:43</td>\n",
              "    </tr>\n",
              "  </tbody>\n",
              "</table>"
            ],
            "text/plain": [
              "<IPython.core.display.HTML object>"
            ]
          },
          "metadata": {
            "tags": []
          }
        }
      ]
    },
    {
      "cell_type": "code",
      "metadata": {
        "id": "_BnSuAeCwkBe",
        "outputId": "c09de18b-bfe2-4e6d-f1a1-7f51ec8e2ecb",
        "colab": {
          "base_uri": "https://localhost:8080/",
          "height": 80
        }
      },
      "source": [
        "learn.fit_one_cycle(1, 1e-3)"
      ],
      "execution_count": 23,
      "outputs": [
        {
          "output_type": "display_data",
          "data": {
            "text/html": [
              "<table border=\"1\" class=\"dataframe\">\n",
              "  <thead>\n",
              "    <tr style=\"text-align: left;\">\n",
              "      <th>epoch</th>\n",
              "      <th>train_loss</th>\n",
              "      <th>valid_loss</th>\n",
              "      <th>accuracy</th>\n",
              "      <th>time</th>\n",
              "    </tr>\n",
              "  </thead>\n",
              "  <tbody>\n",
              "    <tr>\n",
              "      <td>0</td>\n",
              "      <td>3.730590</td>\n",
              "      <td>3.755455</td>\n",
              "      <td>0.388298</td>\n",
              "      <td>22:38</td>\n",
              "    </tr>\n",
              "  </tbody>\n",
              "</table>"
            ],
            "text/plain": [
              "<IPython.core.display.HTML object>"
            ]
          },
          "metadata": {
            "tags": []
          }
        }
      ]
    },
    {
      "cell_type": "code",
      "metadata": {
        "id": "MuTm-RFjwrEX",
        "outputId": "2db22380-6f6c-4a2c-d457-271b1095cf2a",
        "colab": {
          "base_uri": "https://localhost:8080/",
          "height": 80
        }
      },
      "source": [
        "learn.fit_one_cycle(1, 1e-3)"
      ],
      "execution_count": 24,
      "outputs": [
        {
          "output_type": "display_data",
          "data": {
            "text/html": [
              "<table border=\"1\" class=\"dataframe\">\n",
              "  <thead>\n",
              "    <tr style=\"text-align: left;\">\n",
              "      <th>epoch</th>\n",
              "      <th>train_loss</th>\n",
              "      <th>valid_loss</th>\n",
              "      <th>accuracy</th>\n",
              "      <th>time</th>\n",
              "    </tr>\n",
              "  </thead>\n",
              "  <tbody>\n",
              "    <tr>\n",
              "      <td>0</td>\n",
              "      <td>3.690795</td>\n",
              "      <td>3.723112</td>\n",
              "      <td>0.391166</td>\n",
              "      <td>22:38</td>\n",
              "    </tr>\n",
              "  </tbody>\n",
              "</table>"
            ],
            "text/plain": [
              "<IPython.core.display.HTML object>"
            ]
          },
          "metadata": {
            "tags": []
          }
        }
      ]
    },
    {
      "cell_type": "code",
      "metadata": {
        "id": "1Er2ExO8wr7Y"
      },
      "source": [
        "learn.save_encoder('mixed_pubmed_bigtweet_twadr_fold20overlap_first')"
      ],
      "execution_count": 25,
      "outputs": []
    },
    {
      "cell_type": "code",
      "metadata": {
        "id": "z52cZs2qwvad",
        "outputId": "1c8e05cd-794e-44bc-eebb-3b13e3d3f5c9",
        "colab": {
          "base_uri": "https://localhost:8080/",
          "height": 80
        }
      },
      "source": [
        "learn = text_classifier_learner(data_clas,AWD_LSTM, drop_mult=0.5)\n",
        "learn.load_encoder('mixed_pubmed_bigtweet_twadr_fold20overlap_first')\n",
        "learn.fit_one_cycle(1, 1e-2)"
      ],
      "execution_count": 26,
      "outputs": [
        {
          "output_type": "display_data",
          "data": {
            "text/html": [
              "<table border=\"1\" class=\"dataframe\">\n",
              "  <thead>\n",
              "    <tr style=\"text-align: left;\">\n",
              "      <th>epoch</th>\n",
              "      <th>train_loss</th>\n",
              "      <th>valid_loss</th>\n",
              "      <th>accuracy</th>\n",
              "      <th>time</th>\n",
              "    </tr>\n",
              "  </thead>\n",
              "  <tbody>\n",
              "    <tr>\n",
              "      <td>0</td>\n",
              "      <td>7.151673</td>\n",
              "      <td>6.387511</td>\n",
              "      <td>0.078261</td>\n",
              "      <td>00:22</td>\n",
              "    </tr>\n",
              "  </tbody>\n",
              "</table>"
            ],
            "text/plain": [
              "<IPython.core.display.HTML object>"
            ]
          },
          "metadata": {
            "tags": []
          }
        }
      ]
    },
    {
      "cell_type": "code",
      "metadata": {
        "id": "ImwQP1PJwzxd",
        "outputId": "951f2a5b-19c9-4aa6-d005-26f49423d17b",
        "colab": {
          "base_uri": "https://localhost:8080/",
          "height": 80
        }
      },
      "source": [
        "learn.freeze_to(-2)\n",
        "learn.fit_one_cycle(1, slice(5e-3/2., 5e-3))"
      ],
      "execution_count": 27,
      "outputs": [
        {
          "output_type": "display_data",
          "data": {
            "text/html": [
              "<table border=\"1\" class=\"dataframe\">\n",
              "  <thead>\n",
              "    <tr style=\"text-align: left;\">\n",
              "      <th>epoch</th>\n",
              "      <th>train_loss</th>\n",
              "      <th>valid_loss</th>\n",
              "      <th>accuracy</th>\n",
              "      <th>time</th>\n",
              "    </tr>\n",
              "  </thead>\n",
              "  <tbody>\n",
              "    <tr>\n",
              "      <td>0</td>\n",
              "      <td>6.159362</td>\n",
              "      <td>5.751662</td>\n",
              "      <td>0.113043</td>\n",
              "      <td>00:25</td>\n",
              "    </tr>\n",
              "  </tbody>\n",
              "</table>"
            ],
            "text/plain": [
              "<IPython.core.display.HTML object>"
            ]
          },
          "metadata": {
            "tags": []
          }
        }
      ]
    },
    {
      "cell_type": "code",
      "metadata": {
        "id": "Owff_BJXw53u",
        "outputId": "38fa8d36-68b7-44fc-8141-abb0d37deee1",
        "colab": {
          "base_uri": "https://localhost:8080/",
          "height": 80
        }
      },
      "source": [
        "learn.unfreeze()\n",
        "learn.fit_one_cycle(1, slice(2e-3/100, 2e-3))"
      ],
      "execution_count": 28,
      "outputs": [
        {
          "output_type": "display_data",
          "data": {
            "text/html": [
              "<table border=\"1\" class=\"dataframe\">\n",
              "  <thead>\n",
              "    <tr style=\"text-align: left;\">\n",
              "      <th>epoch</th>\n",
              "      <th>train_loss</th>\n",
              "      <th>valid_loss</th>\n",
              "      <th>accuracy</th>\n",
              "      <th>time</th>\n",
              "    </tr>\n",
              "  </thead>\n",
              "  <tbody>\n",
              "    <tr>\n",
              "      <td>0</td>\n",
              "      <td>5.696401</td>\n",
              "      <td>5.104335</td>\n",
              "      <td>0.147826</td>\n",
              "      <td>01:05</td>\n",
              "    </tr>\n",
              "  </tbody>\n",
              "</table>"
            ],
            "text/plain": [
              "<IPython.core.display.HTML object>"
            ]
          },
          "metadata": {
            "tags": []
          }
        }
      ]
    },
    {
      "cell_type": "code",
      "metadata": {
        "id": "lqAyu56V8Waq",
        "outputId": "83a90d06-90b9-481d-f05b-0b0bb7b551e3",
        "colab": {
          "base_uri": "https://localhost:8080/",
          "height": 111
        }
      },
      "source": [
        "learn.fit_one_cycle(2, slice(2e-3/100, 2e-3))"
      ],
      "execution_count": 29,
      "outputs": [
        {
          "output_type": "display_data",
          "data": {
            "text/html": [
              "<table border=\"1\" class=\"dataframe\">\n",
              "  <thead>\n",
              "    <tr style=\"text-align: left;\">\n",
              "      <th>epoch</th>\n",
              "      <th>train_loss</th>\n",
              "      <th>valid_loss</th>\n",
              "      <th>accuracy</th>\n",
              "      <th>time</th>\n",
              "    </tr>\n",
              "  </thead>\n",
              "  <tbody>\n",
              "    <tr>\n",
              "      <td>0</td>\n",
              "      <td>5.443869</td>\n",
              "      <td>4.540932</td>\n",
              "      <td>0.182609</td>\n",
              "      <td>01:11</td>\n",
              "    </tr>\n",
              "    <tr>\n",
              "      <td>1</td>\n",
              "      <td>5.201379</td>\n",
              "      <td>4.441088</td>\n",
              "      <td>0.200000</td>\n",
              "      <td>01:05</td>\n",
              "    </tr>\n",
              "  </tbody>\n",
              "</table>"
            ],
            "text/plain": [
              "<IPython.core.display.HTML object>"
            ]
          },
          "metadata": {
            "tags": []
          }
        }
      ]
    },
    {
      "cell_type": "code",
      "metadata": {
        "id": "a7I1xMRp8bUd",
        "outputId": "05a9a88b-b3f6-4fc1-f36e-f24472cc9847",
        "colab": {
          "base_uri": "https://localhost:8080/",
          "height": 111
        }
      },
      "source": [
        "learn.fit_one_cycle(2, slice(2e-3/100, 2e-3))"
      ],
      "execution_count": 30,
      "outputs": [
        {
          "output_type": "display_data",
          "data": {
            "text/html": [
              "<table border=\"1\" class=\"dataframe\">\n",
              "  <thead>\n",
              "    <tr style=\"text-align: left;\">\n",
              "      <th>epoch</th>\n",
              "      <th>train_loss</th>\n",
              "      <th>valid_loss</th>\n",
              "      <th>accuracy</th>\n",
              "      <th>time</th>\n",
              "    </tr>\n",
              "  </thead>\n",
              "  <tbody>\n",
              "    <tr>\n",
              "      <td>0</td>\n",
              "      <td>4.959693</td>\n",
              "      <td>4.214601</td>\n",
              "      <td>0.208696</td>\n",
              "      <td>01:04</td>\n",
              "    </tr>\n",
              "    <tr>\n",
              "      <td>1</td>\n",
              "      <td>4.749904</td>\n",
              "      <td>4.149518</td>\n",
              "      <td>0.200000</td>\n",
              "      <td>01:04</td>\n",
              "    </tr>\n",
              "  </tbody>\n",
              "</table>"
            ],
            "text/plain": [
              "<IPython.core.display.HTML object>"
            ]
          },
          "metadata": {
            "tags": []
          }
        }
      ]
    },
    {
      "cell_type": "code",
      "metadata": {
        "id": "UAnti-XmGVfO",
        "outputId": "0805080f-b603-4feb-c415-7e06ff643af6",
        "colab": {
          "base_uri": "https://localhost:8080/",
          "height": 111
        }
      },
      "source": [
        "learn.fit_one_cycle(2, slice(2e-3/100, 2e-3))"
      ],
      "execution_count": 31,
      "outputs": [
        {
          "output_type": "display_data",
          "data": {
            "text/html": [
              "<table border=\"1\" class=\"dataframe\">\n",
              "  <thead>\n",
              "    <tr style=\"text-align: left;\">\n",
              "      <th>epoch</th>\n",
              "      <th>train_loss</th>\n",
              "      <th>valid_loss</th>\n",
              "      <th>accuracy</th>\n",
              "      <th>time</th>\n",
              "    </tr>\n",
              "  </thead>\n",
              "  <tbody>\n",
              "    <tr>\n",
              "      <td>0</td>\n",
              "      <td>4.502474</td>\n",
              "      <td>4.009696</td>\n",
              "      <td>0.278261</td>\n",
              "      <td>01:04</td>\n",
              "    </tr>\n",
              "    <tr>\n",
              "      <td>1</td>\n",
              "      <td>4.341648</td>\n",
              "      <td>3.900701</td>\n",
              "      <td>0.269565</td>\n",
              "      <td>01:04</td>\n",
              "    </tr>\n",
              "  </tbody>\n",
              "</table>"
            ],
            "text/plain": [
              "<IPython.core.display.HTML object>"
            ]
          },
          "metadata": {
            "tags": []
          }
        }
      ]
    },
    {
      "cell_type": "code",
      "metadata": {
        "id": "bIft7W25GwSu",
        "outputId": "a1be13e1-f586-4827-b0d8-758e71e74a75",
        "colab": {
          "base_uri": "https://localhost:8080/",
          "height": 111
        }
      },
      "source": [
        "learn.fit_one_cycle(2, slice(2e-3/100, 2e-3))"
      ],
      "execution_count": 32,
      "outputs": [
        {
          "output_type": "display_data",
          "data": {
            "text/html": [
              "<table border=\"1\" class=\"dataframe\">\n",
              "  <thead>\n",
              "    <tr style=\"text-align: left;\">\n",
              "      <th>epoch</th>\n",
              "      <th>train_loss</th>\n",
              "      <th>valid_loss</th>\n",
              "      <th>accuracy</th>\n",
              "      <th>time</th>\n",
              "    </tr>\n",
              "  </thead>\n",
              "  <tbody>\n",
              "    <tr>\n",
              "      <td>0</td>\n",
              "      <td>4.181610</td>\n",
              "      <td>3.741260</td>\n",
              "      <td>0.278261</td>\n",
              "      <td>01:12</td>\n",
              "    </tr>\n",
              "    <tr>\n",
              "      <td>1</td>\n",
              "      <td>4.035295</td>\n",
              "      <td>3.743794</td>\n",
              "      <td>0.286957</td>\n",
              "      <td>01:09</td>\n",
              "    </tr>\n",
              "  </tbody>\n",
              "</table>"
            ],
            "text/plain": [
              "<IPython.core.display.HTML object>"
            ]
          },
          "metadata": {
            "tags": []
          }
        }
      ]
    },
    {
      "cell_type": "code",
      "metadata": {
        "id": "EEHszVRvGyFt",
        "outputId": "bcc343dd-7c28-42db-d8e5-9c605a3ed07f",
        "colab": {
          "base_uri": "https://localhost:8080/",
          "height": 111
        }
      },
      "source": [
        "learn.fit_one_cycle(2, slice(2e-3/100, 2e-3))"
      ],
      "execution_count": 33,
      "outputs": [
        {
          "output_type": "display_data",
          "data": {
            "text/html": [
              "<table border=\"1\" class=\"dataframe\">\n",
              "  <thead>\n",
              "    <tr style=\"text-align: left;\">\n",
              "      <th>epoch</th>\n",
              "      <th>train_loss</th>\n",
              "      <th>valid_loss</th>\n",
              "      <th>accuracy</th>\n",
              "      <th>time</th>\n",
              "    </tr>\n",
              "  </thead>\n",
              "  <tbody>\n",
              "    <tr>\n",
              "      <td>0</td>\n",
              "      <td>3.823392</td>\n",
              "      <td>3.602029</td>\n",
              "      <td>0.313043</td>\n",
              "      <td>01:07</td>\n",
              "    </tr>\n",
              "    <tr>\n",
              "      <td>1</td>\n",
              "      <td>3.678219</td>\n",
              "      <td>3.554228</td>\n",
              "      <td>0.330435</td>\n",
              "      <td>01:04</td>\n",
              "    </tr>\n",
              "  </tbody>\n",
              "</table>"
            ],
            "text/plain": [
              "<IPython.core.display.HTML object>"
            ]
          },
          "metadata": {
            "tags": []
          }
        }
      ]
    },
    {
      "cell_type": "code",
      "metadata": {
        "id": "XsHfrhCHG3dN",
        "outputId": "cc27af2c-a2de-4ef7-f505-421f9a6780b5",
        "colab": {
          "base_uri": "https://localhost:8080/",
          "height": 173
        }
      },
      "source": [
        "learn.fit_one_cycle(4, slice(2e-3/100, 2e-3))"
      ],
      "execution_count": 34,
      "outputs": [
        {
          "output_type": "display_data",
          "data": {
            "text/html": [
              "<table border=\"1\" class=\"dataframe\">\n",
              "  <thead>\n",
              "    <tr style=\"text-align: left;\">\n",
              "      <th>epoch</th>\n",
              "      <th>train_loss</th>\n",
              "      <th>valid_loss</th>\n",
              "      <th>accuracy</th>\n",
              "      <th>time</th>\n",
              "    </tr>\n",
              "  </thead>\n",
              "  <tbody>\n",
              "    <tr>\n",
              "      <td>0</td>\n",
              "      <td>3.500888</td>\n",
              "      <td>3.495297</td>\n",
              "      <td>0.339130</td>\n",
              "      <td>01:13</td>\n",
              "    </tr>\n",
              "    <tr>\n",
              "      <td>1</td>\n",
              "      <td>3.460153</td>\n",
              "      <td>3.517737</td>\n",
              "      <td>0.339130</td>\n",
              "      <td>01:06</td>\n",
              "    </tr>\n",
              "    <tr>\n",
              "      <td>2</td>\n",
              "      <td>3.261008</td>\n",
              "      <td>3.407608</td>\n",
              "      <td>0.373913</td>\n",
              "      <td>01:10</td>\n",
              "    </tr>\n",
              "    <tr>\n",
              "      <td>3</td>\n",
              "      <td>3.082837</td>\n",
              "      <td>3.390181</td>\n",
              "      <td>0.365217</td>\n",
              "      <td>01:10</td>\n",
              "    </tr>\n",
              "  </tbody>\n",
              "</table>"
            ],
            "text/plain": [
              "<IPython.core.display.HTML object>"
            ]
          },
          "metadata": {
            "tags": []
          }
        }
      ]
    },
    {
      "cell_type": "code",
      "metadata": {
        "id": "0Zsd99isb9EQ",
        "outputId": "228373a1-c17b-4f6e-d714-c608ea6e2f76",
        "colab": {
          "base_uri": "https://localhost:8080/",
          "height": 173
        }
      },
      "source": [
        "learn.fit_one_cycle(4, slice(2e-3/100, 2e-3))"
      ],
      "execution_count": 35,
      "outputs": [
        {
          "output_type": "display_data",
          "data": {
            "text/html": [
              "<table border=\"1\" class=\"dataframe\">\n",
              "  <thead>\n",
              "    <tr style=\"text-align: left;\">\n",
              "      <th>epoch</th>\n",
              "      <th>train_loss</th>\n",
              "      <th>valid_loss</th>\n",
              "      <th>accuracy</th>\n",
              "      <th>time</th>\n",
              "    </tr>\n",
              "  </thead>\n",
              "  <tbody>\n",
              "    <tr>\n",
              "      <td>0</td>\n",
              "      <td>2.886892</td>\n",
              "      <td>3.379140</td>\n",
              "      <td>0.373913</td>\n",
              "      <td>01:07</td>\n",
              "    </tr>\n",
              "    <tr>\n",
              "      <td>1</td>\n",
              "      <td>2.840886</td>\n",
              "      <td>3.348299</td>\n",
              "      <td>0.356522</td>\n",
              "      <td>01:06</td>\n",
              "    </tr>\n",
              "    <tr>\n",
              "      <td>2</td>\n",
              "      <td>2.675969</td>\n",
              "      <td>3.285914</td>\n",
              "      <td>0.365217</td>\n",
              "      <td>01:08</td>\n",
              "    </tr>\n",
              "    <tr>\n",
              "      <td>3</td>\n",
              "      <td>2.529479</td>\n",
              "      <td>3.279259</td>\n",
              "      <td>0.356522</td>\n",
              "      <td>01:08</td>\n",
              "    </tr>\n",
              "  </tbody>\n",
              "</table>"
            ],
            "text/plain": [
              "<IPython.core.display.HTML object>"
            ]
          },
          "metadata": {
            "tags": []
          }
        }
      ]
    },
    {
      "cell_type": "code",
      "metadata": {
        "id": "atNWNKDFPbuI",
        "outputId": "f6132bea-0f0b-4d8f-fc68-cfdd1f2acc85",
        "colab": {
          "base_uri": "https://localhost:8080/",
          "height": 173
        }
      },
      "source": [
        "learn.fit_one_cycle(4, slice(2e-3/100, 2e-3))"
      ],
      "execution_count": 36,
      "outputs": [
        {
          "output_type": "display_data",
          "data": {
            "text/html": [
              "<table border=\"1\" class=\"dataframe\">\n",
              "  <thead>\n",
              "    <tr style=\"text-align: left;\">\n",
              "      <th>epoch</th>\n",
              "      <th>train_loss</th>\n",
              "      <th>valid_loss</th>\n",
              "      <th>accuracy</th>\n",
              "      <th>time</th>\n",
              "    </tr>\n",
              "  </thead>\n",
              "  <tbody>\n",
              "    <tr>\n",
              "      <td>0</td>\n",
              "      <td>2.392575</td>\n",
              "      <td>3.303243</td>\n",
              "      <td>0.373913</td>\n",
              "      <td>01:05</td>\n",
              "    </tr>\n",
              "    <tr>\n",
              "      <td>1</td>\n",
              "      <td>2.333460</td>\n",
              "      <td>3.378810</td>\n",
              "      <td>0.321739</td>\n",
              "      <td>01:10</td>\n",
              "    </tr>\n",
              "    <tr>\n",
              "      <td>2</td>\n",
              "      <td>2.165138</td>\n",
              "      <td>3.224806</td>\n",
              "      <td>0.382609</td>\n",
              "      <td>01:09</td>\n",
              "    </tr>\n",
              "    <tr>\n",
              "      <td>3</td>\n",
              "      <td>2.008676</td>\n",
              "      <td>3.192706</td>\n",
              "      <td>0.373913</td>\n",
              "      <td>01:10</td>\n",
              "    </tr>\n",
              "  </tbody>\n",
              "</table>"
            ],
            "text/plain": [
              "<IPython.core.display.HTML object>"
            ]
          },
          "metadata": {
            "tags": []
          }
        }
      ]
    },
    {
      "cell_type": "code",
      "metadata": {
        "id": "rKrBTZ0T1uVA",
        "outputId": "7cef5792-747b-4b2d-f7a8-2db8f9bbab80",
        "colab": {
          "base_uri": "https://localhost:8080/",
          "height": 173
        }
      },
      "source": [
        "learn.fit_one_cycle(4, slice(2e-3/100, 2e-3))"
      ],
      "execution_count": 37,
      "outputs": [
        {
          "output_type": "display_data",
          "data": {
            "text/html": [
              "<table border=\"1\" class=\"dataframe\">\n",
              "  <thead>\n",
              "    <tr style=\"text-align: left;\">\n",
              "      <th>epoch</th>\n",
              "      <th>train_loss</th>\n",
              "      <th>valid_loss</th>\n",
              "      <th>accuracy</th>\n",
              "      <th>time</th>\n",
              "    </tr>\n",
              "  </thead>\n",
              "  <tbody>\n",
              "    <tr>\n",
              "      <td>0</td>\n",
              "      <td>1.843419</td>\n",
              "      <td>3.262619</td>\n",
              "      <td>0.365217</td>\n",
              "      <td>01:08</td>\n",
              "    </tr>\n",
              "    <tr>\n",
              "      <td>1</td>\n",
              "      <td>1.829916</td>\n",
              "      <td>3.329015</td>\n",
              "      <td>0.339130</td>\n",
              "      <td>01:09</td>\n",
              "    </tr>\n",
              "    <tr>\n",
              "      <td>2</td>\n",
              "      <td>1.709552</td>\n",
              "      <td>3.281524</td>\n",
              "      <td>0.347826</td>\n",
              "      <td>01:06</td>\n",
              "    </tr>\n",
              "    <tr>\n",
              "      <td>3</td>\n",
              "      <td>1.590753</td>\n",
              "      <td>3.258109</td>\n",
              "      <td>0.339130</td>\n",
              "      <td>01:08</td>\n",
              "    </tr>\n",
              "  </tbody>\n",
              "</table>"
            ],
            "text/plain": [
              "<IPython.core.display.HTML object>"
            ]
          },
          "metadata": {
            "tags": []
          }
        }
      ]
    },
    {
      "cell_type": "code",
      "metadata": {
        "id": "ajQC6WDg1yA9",
        "outputId": "176e72b5-0049-4499-af07-c97b5819a456",
        "colab": {
          "base_uri": "https://localhost:8080/",
          "height": 173
        }
      },
      "source": [
        "learn.fit_one_cycle(4, slice(2e-3/100, 2e-3))"
      ],
      "execution_count": 38,
      "outputs": [
        {
          "output_type": "display_data",
          "data": {
            "text/html": [
              "<table border=\"1\" class=\"dataframe\">\n",
              "  <thead>\n",
              "    <tr style=\"text-align: left;\">\n",
              "      <th>epoch</th>\n",
              "      <th>train_loss</th>\n",
              "      <th>valid_loss</th>\n",
              "      <th>accuracy</th>\n",
              "      <th>time</th>\n",
              "    </tr>\n",
              "  </thead>\n",
              "  <tbody>\n",
              "    <tr>\n",
              "      <td>0</td>\n",
              "      <td>1.472154</td>\n",
              "      <td>3.251393</td>\n",
              "      <td>0.373913</td>\n",
              "      <td>01:08</td>\n",
              "    </tr>\n",
              "    <tr>\n",
              "      <td>1</td>\n",
              "      <td>1.431863</td>\n",
              "      <td>3.371071</td>\n",
              "      <td>0.347826</td>\n",
              "      <td>01:05</td>\n",
              "    </tr>\n",
              "    <tr>\n",
              "      <td>2</td>\n",
              "      <td>1.316402</td>\n",
              "      <td>3.335324</td>\n",
              "      <td>0.339130</td>\n",
              "      <td>01:13</td>\n",
              "    </tr>\n",
              "    <tr>\n",
              "      <td>3</td>\n",
              "      <td>1.226384</td>\n",
              "      <td>3.302902</td>\n",
              "      <td>0.373913</td>\n",
              "      <td>01:07</td>\n",
              "    </tr>\n",
              "  </tbody>\n",
              "</table>"
            ],
            "text/plain": [
              "<IPython.core.display.HTML object>"
            ]
          },
          "metadata": {
            "tags": []
          }
        }
      ]
    },
    {
      "cell_type": "code",
      "metadata": {
        "id": "KKydb0B4BKGk",
        "outputId": "04adc89f-203f-4f35-9b85-e0bdf90be0c8",
        "colab": {
          "base_uri": "https://localhost:8080/",
          "height": 173
        }
      },
      "source": [
        "learn.fit_one_cycle(4, slice(2e-3/100, 2e-3))"
      ],
      "execution_count": 39,
      "outputs": [
        {
          "output_type": "display_data",
          "data": {
            "text/html": [
              "<table border=\"1\" class=\"dataframe\">\n",
              "  <thead>\n",
              "    <tr style=\"text-align: left;\">\n",
              "      <th>epoch</th>\n",
              "      <th>train_loss</th>\n",
              "      <th>valid_loss</th>\n",
              "      <th>accuracy</th>\n",
              "      <th>time</th>\n",
              "    </tr>\n",
              "  </thead>\n",
              "  <tbody>\n",
              "    <tr>\n",
              "      <td>0</td>\n",
              "      <td>1.100755</td>\n",
              "      <td>3.407804</td>\n",
              "      <td>0.347826</td>\n",
              "      <td>01:10</td>\n",
              "    </tr>\n",
              "    <tr>\n",
              "      <td>1</td>\n",
              "      <td>1.107469</td>\n",
              "      <td>3.378695</td>\n",
              "      <td>0.356522</td>\n",
              "      <td>01:04</td>\n",
              "    </tr>\n",
              "    <tr>\n",
              "      <td>2</td>\n",
              "      <td>1.043217</td>\n",
              "      <td>3.390115</td>\n",
              "      <td>0.339130</td>\n",
              "      <td>01:06</td>\n",
              "    </tr>\n",
              "    <tr>\n",
              "      <td>3</td>\n",
              "      <td>0.951236</td>\n",
              "      <td>3.411531</td>\n",
              "      <td>0.347826</td>\n",
              "      <td>01:05</td>\n",
              "    </tr>\n",
              "  </tbody>\n",
              "</table>"
            ],
            "text/plain": [
              "<IPython.core.display.HTML object>"
            ]
          },
          "metadata": {
            "tags": []
          }
        }
      ]
    },
    {
      "cell_type": "code",
      "metadata": {
        "id": "T2APKtFKBpGY",
        "outputId": "4c78f69c-ab6f-4854-f1eb-f258f5040d7e",
        "colab": {
          "base_uri": "https://localhost:8080/",
          "height": 173
        }
      },
      "source": [
        "learn.fit_one_cycle(4, slice(2e-3/100, 2e-3))"
      ],
      "execution_count": 40,
      "outputs": [
        {
          "output_type": "display_data",
          "data": {
            "text/html": [
              "<table border=\"1\" class=\"dataframe\">\n",
              "  <thead>\n",
              "    <tr style=\"text-align: left;\">\n",
              "      <th>epoch</th>\n",
              "      <th>train_loss</th>\n",
              "      <th>valid_loss</th>\n",
              "      <th>accuracy</th>\n",
              "      <th>time</th>\n",
              "    </tr>\n",
              "  </thead>\n",
              "  <tbody>\n",
              "    <tr>\n",
              "      <td>0</td>\n",
              "      <td>0.855012</td>\n",
              "      <td>3.424732</td>\n",
              "      <td>0.365217</td>\n",
              "      <td>01:10</td>\n",
              "    </tr>\n",
              "    <tr>\n",
              "      <td>1</td>\n",
              "      <td>0.863791</td>\n",
              "      <td>3.477720</td>\n",
              "      <td>0.382609</td>\n",
              "      <td>01:11</td>\n",
              "    </tr>\n",
              "    <tr>\n",
              "      <td>2</td>\n",
              "      <td>0.840707</td>\n",
              "      <td>3.494262</td>\n",
              "      <td>0.365217</td>\n",
              "      <td>01:04</td>\n",
              "    </tr>\n",
              "    <tr>\n",
              "      <td>3</td>\n",
              "      <td>0.784248</td>\n",
              "      <td>3.550636</td>\n",
              "      <td>0.365217</td>\n",
              "      <td>01:10</td>\n",
              "    </tr>\n",
              "  </tbody>\n",
              "</table>"
            ],
            "text/plain": [
              "<IPython.core.display.HTML object>"
            ]
          },
          "metadata": {
            "tags": []
          }
        }
      ]
    },
    {
      "cell_type": "code",
      "metadata": {
        "id": "qtTypA1sPgLU",
        "outputId": "7e28be2c-bfd0-452d-8b00-942a1102a5ba",
        "colab": {
          "base_uri": "https://localhost:8080/",
          "height": 111
        }
      },
      "source": [
        "learn.fit_one_cycle(2, slice(2e-3/100, 2e-3))"
      ],
      "execution_count": 41,
      "outputs": [
        {
          "output_type": "display_data",
          "data": {
            "text/html": [
              "<table border=\"1\" class=\"dataframe\">\n",
              "  <thead>\n",
              "    <tr style=\"text-align: left;\">\n",
              "      <th>epoch</th>\n",
              "      <th>train_loss</th>\n",
              "      <th>valid_loss</th>\n",
              "      <th>accuracy</th>\n",
              "      <th>time</th>\n",
              "    </tr>\n",
              "  </thead>\n",
              "  <tbody>\n",
              "    <tr>\n",
              "      <td>0</td>\n",
              "      <td>0.754872</td>\n",
              "      <td>3.680511</td>\n",
              "      <td>0.330435</td>\n",
              "      <td>01:11</td>\n",
              "    </tr>\n",
              "    <tr>\n",
              "      <td>1</td>\n",
              "      <td>0.706906</td>\n",
              "      <td>3.676756</td>\n",
              "      <td>0.339130</td>\n",
              "      <td>01:09</td>\n",
              "    </tr>\n",
              "  </tbody>\n",
              "</table>"
            ],
            "text/plain": [
              "<IPython.core.display.HTML object>"
            ]
          },
          "metadata": {
            "tags": []
          }
        }
      ]
    },
    {
      "cell_type": "code",
      "metadata": {
        "id": "b242kBsTUp9Y",
        "outputId": "befb4ce5-4697-4d13-d4f9-2c5dde361214",
        "colab": {
          "base_uri": "https://localhost:8080/",
          "height": 111
        }
      },
      "source": [
        "learn.fit_one_cycle(2, slice(2e-3/100, 2e-3))"
      ],
      "execution_count": 42,
      "outputs": [
        {
          "output_type": "display_data",
          "data": {
            "text/html": [
              "<table border=\"1\" class=\"dataframe\">\n",
              "  <thead>\n",
              "    <tr style=\"text-align: left;\">\n",
              "      <th>epoch</th>\n",
              "      <th>train_loss</th>\n",
              "      <th>valid_loss</th>\n",
              "      <th>accuracy</th>\n",
              "      <th>time</th>\n",
              "    </tr>\n",
              "  </thead>\n",
              "  <tbody>\n",
              "    <tr>\n",
              "      <td>0</td>\n",
              "      <td>0.685891</td>\n",
              "      <td>3.694215</td>\n",
              "      <td>0.356522</td>\n",
              "      <td>01:08</td>\n",
              "    </tr>\n",
              "    <tr>\n",
              "      <td>1</td>\n",
              "      <td>0.658921</td>\n",
              "      <td>3.569311</td>\n",
              "      <td>0.347826</td>\n",
              "      <td>01:07</td>\n",
              "    </tr>\n",
              "  </tbody>\n",
              "</table>"
            ],
            "text/plain": [
              "<IPython.core.display.HTML object>"
            ]
          },
          "metadata": {
            "tags": []
          }
        }
      ]
    },
    {
      "cell_type": "code",
      "metadata": {
        "id": "Duwf1Ih5VeDZ",
        "outputId": "0a78cc5e-8783-4845-9d72-0f561d64731d",
        "colab": {
          "base_uri": "https://localhost:8080/",
          "height": 80
        }
      },
      "source": [
        "learn.fit_one_cycle(1, slice(2e-3/100, 2e-3))"
      ],
      "execution_count": 43,
      "outputs": [
        {
          "output_type": "display_data",
          "data": {
            "text/html": [
              "<table border=\"1\" class=\"dataframe\">\n",
              "  <thead>\n",
              "    <tr style=\"text-align: left;\">\n",
              "      <th>epoch</th>\n",
              "      <th>train_loss</th>\n",
              "      <th>valid_loss</th>\n",
              "      <th>accuracy</th>\n",
              "      <th>time</th>\n",
              "    </tr>\n",
              "  </thead>\n",
              "  <tbody>\n",
              "    <tr>\n",
              "      <td>0</td>\n",
              "      <td>0.624196</td>\n",
              "      <td>3.677755</td>\n",
              "      <td>0.347826</td>\n",
              "      <td>01:08</td>\n",
              "    </tr>\n",
              "  </tbody>\n",
              "</table>"
            ],
            "text/plain": [
              "<IPython.core.display.HTML object>"
            ]
          },
          "metadata": {
            "tags": []
          }
        }
      ]
    },
    {
      "cell_type": "code",
      "metadata": {
        "id": "c65d-osfDUXm"
      },
      "source": [
        "# save the best model\n",
        "\n",
        "learn.save_encoder('mixed_pubmed_bigtweet_twadr_fold20overlap')"
      ],
      "execution_count": 44,
      "outputs": []
    },
    {
      "cell_type": "markdown",
      "metadata": {
        "id": "rCwZU0E2RgM6"
      },
      "source": [
        "# Part three: Predict on the test dataset"
      ]
    },
    {
      "cell_type": "code",
      "metadata": {
        "id": "gDm72c-dOu7d",
        "outputId": "0d4c654f-7f26-4770-e6da-cddb031e0d17",
        "colab": {
          "base_uri": "https://localhost:8080/",
          "height": 17
        }
      },
      "source": [
        "# use the test data for prediction\n",
        "\n",
        "preds, y = learn.get_preds(DatasetType.Test)"
      ],
      "execution_count": 45,
      "outputs": [
        {
          "output_type": "display_data",
          "data": {
            "text/html": [
              ""
            ],
            "text/plain": [
              "<IPython.core.display.HTML object>"
            ]
          },
          "metadata": {
            "tags": []
          }
        }
      ]
    },
    {
      "cell_type": "code",
      "metadata": {
        "id": "6tFSQcsWPvxn",
        "outputId": "53d7ce56-2b57-46b9-c110-056976162c80",
        "colab": {
          "base_uri": "https://localhost:8080/",
          "height": 105
        }
      },
      "source": [
        "predictions, *_ = learn.get_preds(DatasetType.Test)\n",
        "labels = np.argmax(predictions, 1)\n",
        "predict_list = labels.tolist()\n",
        "standard_list = test[0].tolist()\n",
        "\n",
        "print(len(predict_list))\n",
        "print(len(standard_list))\n",
        "\n",
        "print(predict_list)\n",
        "print(standard_list)"
      ],
      "execution_count": 46,
      "outputs": [
        {
          "output_type": "display_data",
          "data": {
            "text/html": [
              ""
            ],
            "text/plain": [
              "<IPython.core.display.HTML object>"
            ]
          },
          "metadata": {
            "tags": []
          }
        },
        {
          "output_type": "stream",
          "text": [
            "180\n",
            "180\n",
            "[1932, 2099, 1308, 700, 1932, 359, 1323, 803, 1932, 309, 127, 135, 854, 1932, 860, 441, 2088, 711, 965, 1674, 106, 803, 744, 1323, 1802, 171, 1702, 974, 833, 244, 965, 724, 1633, 1576, 12, 840, 700, 1652, 724, 1576, 1932, 605, 1652, 1307, 92, 1935, 1307, 621, 1326, 854, 1576, 574, 1407, 1723, 135, 1323, 1583, 2182, 2088, 1308, 92, 1932, 1932, 1323, 491, 744, 1698, 1534, 2027, 860, 2099, 1811, 309, 92, 201, 700, 1652, 860, 2138, 574, 724, 1038, 92, 359, 909, 1576, 135, 1698, 1307, 359, 230, 1534, 201, 931, 621, 2188, 201, 798, 189, 724, 621, 1652, 1811, 860, 2099, 985, 1478, 2088, 359, 2088, 1411, 491, 1932, 956, 1411, 2099, 931, 1652, 574, 833, 1811, 1534, 2088, 2099, 2097, 1546, 2099, 2218, 1935, 87, 170, 135, 574, 309, 956, 201, 2097, 1932, 2018, 1652, 1308, 621, 1773, 170, 87, 903, 1034, 1323, 2184, 1811, 983, 189, 840, 170, 441, 2046, 2099, 1932, 700, 1348, 1392, 170, 135, 1308, 1376, 2046, 135, 1652, 1962, 170, 2099, 1576, 249, 89, 441, 909, 847, 1348, 931, 1308]\n",
            "[1576, 2099, 1698, 1811, 476, 840, 440, 2099, 171, 309, 703, 135, 375, 1326, 860, 574, 2003, 210, 1408, 237, 106, 1576, 700, 1095, 1194, 1307, 239, 935, 833, 1076, 1935, 1008, 2176, 1576, 2088, 1407, 1411, 505, 1811, 1576, 803, 605, 1652, 931, 92, 974, 2088, 1075, 491, 1932, 1075, 574, 1220, 1032, 2048, 2088, 1583, 1043, 2188, 1095, 872, 854, 1307, 1950, 170, 700, 1698, 170, 451, 860, 1076, 2099, 309, 872, 210, 700, 237, 2003, 1077, 1299, 99, 1038, 106, 2218, 1698, 1666, 135, 1698, 171, 1534, 1811, 699, 854, 171, 621, 794, 941, 89, 965, 472, 1935, 574, 336, 1348, 803, 1403, 2027, 1811, 1752, 1025, 1411, 2099, 1932, 989, 2046, 2099, 724, 1308, 1106, 621, 1811, 699, 1307, 574, 268, 959, 2099, 1308, 1542, 860, 2201, 1308, 574, 309, 1472, 384, 384, 854, 833, 79, 467, 2165, 1049, 956, 2097, 1542, 1811, 384, 1220, 1811, 983, 378, 840, 170, 441, 2046, 2099, 1932, 700, 2099, 1392, 170, 135, 1308, 1376, 2046, 135, 79, 1962, 170, 2099, 79, 249, 89, 441, 909, 847, 1034, 931, 1308]\n"
          ],
          "name": "stdout"
        }
      ]
    },
    {
      "cell_type": "code",
      "metadata": {
        "id": "XIC4zufnMxtq",
        "outputId": "09926761-7644-4103-c18d-6ff14bf860e1",
        "colab": {
          "base_uri": "https://localhost:8080/",
          "height": 51
        }
      },
      "source": [
        "correct_num = 0\n",
        "\n",
        "for i in range(0, len(standard_list)):\n",
        "  if predict_list[i] == standard_list[i]:\n",
        "    correct_num = correct_num+1\n",
        "  else:\n",
        "    pass\n",
        "print(correct_num)\n",
        "\n",
        "predict_accuracy = correct_num/len(predict_list)\n",
        "print(predict_accuracy)"
      ],
      "execution_count": 47,
      "outputs": [
        {
          "output_type": "stream",
          "text": [
            "54\n",
            "0.3\n"
          ],
          "name": "stdout"
        }
      ]
    },
    {
      "cell_type": "code",
      "metadata": {
        "id": "zlKMHp1CIaRJ"
      },
      "source": [
        ""
      ],
      "execution_count": 47,
      "outputs": []
    }
  ]
}