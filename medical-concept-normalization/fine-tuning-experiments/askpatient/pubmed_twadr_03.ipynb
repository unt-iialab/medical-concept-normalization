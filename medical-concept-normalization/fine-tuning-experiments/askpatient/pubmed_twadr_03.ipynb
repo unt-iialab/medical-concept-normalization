{
  "nbformat": 4,
  "nbformat_minor": 0,
  "metadata": {
    "accelerator": "TPU",
    "colab": {
      "name": "pubmed_twadr_03.ipynb",
      "provenance": [],
      "collapsed_sections": [],
      "include_colab_link": true
    },
    "kernelspec": {
      "display_name": "Python 3",
      "name": "python3"
    }
  },
  "cells": [
    {
      "cell_type": "markdown",
      "metadata": {
        "id": "view-in-github",
        "colab_type": "text"
      },
      "source": [
        "<a href=\"https://colab.research.google.com/github/unt-iialab/medical-concept-normalization/blob/master/medical-concept-normalization/fine-tuning-experiments/askpatient/pubmed_twadr_03.ipynb\" target=\"_parent\"><img src=\"https://colab.research.google.com/assets/colab-badge.svg\" alt=\"Open In Colab\"/></a>"
      ]
    },
    {
      "cell_type": "code",
      "metadata": {
        "id": "adSi6i2-dWxy"
      },
      "source": [
        "import os"
      ],
      "execution_count": 1,
      "outputs": []
    },
    {
      "cell_type": "code",
      "metadata": {
        "id": "E7xYCRGPjd9B"
      },
      "source": [
        "base_dir = 'medical-concept-normalization'"
      ],
      "execution_count": 2,
      "outputs": []
    },
    {
      "cell_type": "code",
      "metadata": {
        "id": "yvIW3aUDjYNS"
      },
      "source": [
        "os.mkdir(base_dir)"
      ],
      "execution_count": 3,
      "outputs": []
    },
    {
      "cell_type": "code",
      "metadata": {
        "id": "es-FFLlfk6SG"
      },
      "source": [
        "os.mkdir('medical-concept-normalization/data_collection')"
      ],
      "execution_count": 4,
      "outputs": []
    },
    {
      "cell_type": "markdown",
      "metadata": {
        "id": "0R-Guw_VoJXm"
      },
      "source": [
        "**Install fastai and clone the fastai for text classification**\n",
        "\n"
      ]
    },
    {
      "cell_type": "code",
      "metadata": {
        "id": "QVZa3Z0PmHFH",
        "outputId": "62067105-7ace-48c8-f530-e877aed7e867",
        "colab": {
          "base_uri": "https://localhost:8080/"
        }
      },
      "source": [
        "!curl https://course-v3.fast.ai/setup/colab | bash"
      ],
      "execution_count": 5,
      "outputs": [
        {
          "output_type": "stream",
          "text": [
            "  % Total    % Received % Xferd  Average Speed   Time    Time     Time  Current\n",
            "                                 Dload  Upload   Total   Spent    Left  Speed\n",
            "\r  0     0    0     0    0     0      0      0 --:--:-- --:--:-- --:--:--     0curl: (6) Could not resolve host: course-v3.fast.ai\n"
          ],
          "name": "stdout"
        }
      ]
    },
    {
      "cell_type": "code",
      "metadata": {
        "id": "_FBFFEBrmJC0",
        "outputId": "2414a309-9adc-4f12-a95b-98901fec66da",
        "colab": {
          "base_uri": "https://localhost:8080/"
        }
      },
      "source": [
        "!git clone https://github.com/wshuyi/demo-nlp-classification-fastai.git"
      ],
      "execution_count": 6,
      "outputs": [
        {
          "output_type": "stream",
          "text": [
            "Cloning into 'demo-nlp-classification-fastai'...\n",
            "remote: Enumerating objects: 9, done.\u001b[K\n",
            "remote: Total 9 (delta 0), reused 0 (delta 0), pack-reused 9\u001b[K\n",
            "Unpacking objects: 100% (9/9), done.\n"
          ],
          "name": "stdout"
        }
      ]
    },
    {
      "cell_type": "code",
      "metadata": {
        "id": "66zfh_JqmWMU"
      },
      "source": [
        "from fastai import *\n",
        "from fastai.text import *"
      ],
      "execution_count": 7,
      "outputs": []
    },
    {
      "cell_type": "markdown",
      "metadata": {
        "id": "mNIw-yALdBU9"
      },
      "source": [
        "**Set the path of the data collections**"
      ]
    },
    {
      "cell_type": "code",
      "metadata": {
        "id": "pzH7VMh4mqCL"
      },
      "source": [
        "path = Path('medical-concept-normalization/data_collection')"
      ],
      "execution_count": 8,
      "outputs": []
    },
    {
      "cell_type": "code",
      "metadata": {
        "id": "b8fjI6yyn4aS"
      },
      "source": [
        "# training data set\n",
        "\n",
        "train_csv = path/'TwADR-L.fold-3.train.csv'\n",
        "train = pd.read_csv(train_csv, header=None)\n",
        "#train.head()\n",
        "#train.info()"
      ],
      "execution_count": 10,
      "outputs": []
    },
    {
      "cell_type": "code",
      "metadata": {
        "id": "Hmlr-bAorfHd",
        "outputId": "776b0bd0-d1da-46f5-be4a-62fe5b5b38f8",
        "colab": {
          "base_uri": "https://localhost:8080/",
          "height": 204
        }
      },
      "source": [
        "# validating data set\n",
        "\n",
        "valid = pd.read_csv(path/\"TwADR-L.fold-3.validation.csv\",header=None)\n",
        "valid.head()"
      ],
      "execution_count": 11,
      "outputs": [
        {
          "output_type": "execute_result",
          "data": {
            "text/html": [
              "<div>\n",
              "<style scoped>\n",
              "    .dataframe tbody tr th:only-of-type {\n",
              "        vertical-align: middle;\n",
              "    }\n",
              "\n",
              "    .dataframe tbody tr th {\n",
              "        vertical-align: top;\n",
              "    }\n",
              "\n",
              "    .dataframe thead th {\n",
              "        text-align: right;\n",
              "    }\n",
              "</style>\n",
              "<table border=\"1\" class=\"dataframe\">\n",
              "  <thead>\n",
              "    <tr style=\"text-align: right;\">\n",
              "      <th></th>\n",
              "      <th>0</th>\n",
              "      <th>1</th>\n",
              "    </tr>\n",
              "  </thead>\n",
              "  <tbody>\n",
              "    <tr>\n",
              "      <th>0</th>\n",
              "      <td>91</td>\n",
              "      <td>jitters</td>\n",
              "    </tr>\n",
              "    <tr>\n",
              "      <th>1</th>\n",
              "      <td>93</td>\n",
              "      <td>shooting</td>\n",
              "    </tr>\n",
              "    <tr>\n",
              "      <th>2</th>\n",
              "      <td>187</td>\n",
              "      <td>dry mouth</td>\n",
              "    </tr>\n",
              "    <tr>\n",
              "      <th>3</th>\n",
              "      <td>189</td>\n",
              "      <td>dizzy</td>\n",
              "    </tr>\n",
              "    <tr>\n",
              "      <th>4</th>\n",
              "      <td>230</td>\n",
              "      <td>mania</td>\n",
              "    </tr>\n",
              "  </tbody>\n",
              "</table>\n",
              "</div>"
            ],
            "text/plain": [
              "     0          1\n",
              "0   91    jitters\n",
              "1   93   shooting\n",
              "2  187  dry mouth\n",
              "3  189      dizzy\n",
              "4  230      mania"
            ]
          },
          "metadata": {
            "tags": []
          },
          "execution_count": 11
        }
      ]
    },
    {
      "cell_type": "code",
      "metadata": {
        "id": "cOza9dfSsBud",
        "outputId": "d08e71ee-5e80-40b4-fb16-3699909205ac",
        "colab": {
          "base_uri": "https://localhost:8080/",
          "height": 204
        }
      },
      "source": [
        "# testing data set\n",
        "\n",
        "test = pd.read_csv(path/\"TwADR-L.fold-3.test.csv\",header=None)\n",
        "test.head()"
      ],
      "execution_count": 12,
      "outputs": [
        {
          "output_type": "execute_result",
          "data": {
            "text/html": [
              "<div>\n",
              "<style scoped>\n",
              "    .dataframe tbody tr th:only-of-type {\n",
              "        vertical-align: middle;\n",
              "    }\n",
              "\n",
              "    .dataframe tbody tr th {\n",
              "        vertical-align: top;\n",
              "    }\n",
              "\n",
              "    .dataframe thead th {\n",
              "        text-align: right;\n",
              "    }\n",
              "</style>\n",
              "<table border=\"1\" class=\"dataframe\">\n",
              "  <thead>\n",
              "    <tr style=\"text-align: right;\">\n",
              "      <th></th>\n",
              "      <th>0</th>\n",
              "      <th>1</th>\n",
              "    </tr>\n",
              "  </thead>\n",
              "  <tbody>\n",
              "    <tr>\n",
              "      <th>0</th>\n",
              "      <td>13</td>\n",
              "      <td>insomniac</td>\n",
              "    </tr>\n",
              "    <tr>\n",
              "      <th>1</th>\n",
              "      <td>16</td>\n",
              "      <td>couldn't taste anything</td>\n",
              "    </tr>\n",
              "    <tr>\n",
              "      <th>2</th>\n",
              "      <td>61</td>\n",
              "      <td>spins</td>\n",
              "    </tr>\n",
              "    <tr>\n",
              "      <th>3</th>\n",
              "      <td>85</td>\n",
              "      <td>tremor</td>\n",
              "    </tr>\n",
              "    <tr>\n",
              "      <th>4</th>\n",
              "      <td>94</td>\n",
              "      <td>anxiety</td>\n",
              "    </tr>\n",
              "  </tbody>\n",
              "</table>\n",
              "</div>"
            ],
            "text/plain": [
              "    0                        1\n",
              "0  13                insomniac\n",
              "1  16  couldn't taste anything\n",
              "2  61                    spins\n",
              "3  85                   tremor\n",
              "4  94                  anxiety"
            ]
          },
          "metadata": {
            "tags": []
          },
          "execution_count": 12
        }
      ]
    },
    {
      "cell_type": "code",
      "metadata": {
        "id": "Vo-YNvVYoaH6",
        "outputId": "563d2082-7a60-475f-a146-8d18f3ba640e",
        "colab": {
          "base_uri": "https://localhost:8080/",
          "height": 17
        }
      },
      "source": [
        "# Creating DataBunch for language modelling\n",
        "\n",
        "data_lm = TextLMDataBunch.from_csv(path, 'TwADR_pubmed.csv')"
      ],
      "execution_count": 13,
      "outputs": [
        {
          "output_type": "display_data",
          "data": {
            "text/html": [
              ""
            ],
            "text/plain": [
              "<IPython.core.display.HTML object>"
            ]
          },
          "metadata": {
            "tags": []
          }
        },
        {
          "output_type": "display_data",
          "data": {
            "text/html": [
              ""
            ],
            "text/plain": [
              "<IPython.core.display.HTML object>"
            ]
          },
          "metadata": {
            "tags": []
          }
        }
      ]
    },
    {
      "cell_type": "code",
      "metadata": {
        "id": "qcV-9kMnNLBf"
      },
      "source": [
        ""
      ],
      "execution_count": 13,
      "outputs": []
    },
    {
      "cell_type": "code",
      "metadata": {
        "id": "1ScY9afDsnvE"
      },
      "source": [
        "# Creating DataBunch for classification\n",
        "\n",
        "# data_clas = TextClasDataBunch.from_df(path, train, valid, test, vocab=data_lm.train_ds.vocab, bs=128)"
      ],
      "execution_count": 14,
      "outputs": []
    },
    {
      "cell_type": "code",
      "metadata": {
        "id": "gzrSdQcvey9p",
        "outputId": "ca3e5891-0459-4959-95bb-14d24c876bcb",
        "colab": {
          "base_uri": "https://localhost:8080/",
          "height": 17
        }
      },
      "source": [
        "data_clas = TextClasDataBunch.from_df(path, train, valid, vocab=data_lm.train_ds.vocab, bs=128)"
      ],
      "execution_count": 15,
      "outputs": [
        {
          "output_type": "display_data",
          "data": {
            "text/html": [
              ""
            ],
            "text/plain": [
              "<IPython.core.display.HTML object>"
            ]
          },
          "metadata": {
            "tags": []
          }
        },
        {
          "output_type": "display_data",
          "data": {
            "text/html": [
              ""
            ],
            "text/plain": [
              "<IPython.core.display.HTML object>"
            ]
          },
          "metadata": {
            "tags": []
          }
        }
      ]
    },
    {
      "cell_type": "code",
      "metadata": {
        "id": "MD27Tf0Ke3ou",
        "outputId": "72a43501-0628-4b3d-ffa7-2f2a2063666e",
        "colab": {
          "base_uri": "https://localhost:8080/",
          "height": 17
        }
      },
      "source": [
        "data_clas.add_test(test,label=0)\n"
      ],
      "execution_count": 16,
      "outputs": [
        {
          "output_type": "display_data",
          "data": {
            "text/html": [
              ""
            ],
            "text/plain": [
              "<IPython.core.display.HTML object>"
            ]
          },
          "metadata": {
            "tags": []
          }
        }
      ]
    },
    {
      "cell_type": "code",
      "metadata": {
        "id": "-dpjnk_rstwk"
      },
      "source": [
        "data_lm.save()\n",
        "data_clas.save()"
      ],
      "execution_count": 17,
      "outputs": []
    },
    {
      "cell_type": "code",
      "metadata": {
        "id": "4OkiJa36sw5s",
        "outputId": "b7f328bf-e0d4-4914-e202-fd3424eb14ee",
        "colab": {
          "base_uri": "https://localhost:8080/"
        }
      },
      "source": [
        "data_lm.train_ds.vocab.itos"
      ],
      "execution_count": 18,
      "outputs": [
        {
          "output_type": "execute_result",
          "data": {
            "text/plain": [
              "['xxunk',\n",
              " 'xxpad',\n",
              " 'xxbos',\n",
              " 'xxeos',\n",
              " 'xxfld',\n",
              " 'xxmaj',\n",
              " 'xxup',\n",
              " 'xxrep',\n",
              " 'xxwrep',\n",
              " 'the',\n",
              " 'of',\n",
              " 'and',\n",
              " 'in',\n",
              " 'to',\n",
              " 'a',\n",
              " 'diclofenac',\n",
              " 'was',\n",
              " 'with',\n",
              " 'were',\n",
              " 'for',\n",
              " 'pain',\n",
              " 'sodium',\n",
              " 'drug',\n",
              " 'by',\n",
              " 'on',\n",
              " 'patients',\n",
              " 'as',\n",
              " 'that',\n",
              " 'is',\n",
              " 'at',\n",
              " 'or',\n",
              " 'mg',\n",
              " 'increased',\n",
              " 'group',\n",
              " 'from',\n",
              " 'mood',\n",
              " 'this',\n",
              " 'study',\n",
              " 'treatment',\n",
              " 'after',\n",
              " 'p',\n",
              " 'an',\n",
              " 'release',\n",
              " ',',\n",
              " 'be',\n",
              " 'me',\n",
              " 'disorder',\n",
              " 'effect',\n",
              " 'not',\n",
              " 'withdrawal',\n",
              " 'abnormal',\n",
              " 'i',\n",
              " 'anxiety',\n",
              " 'weight',\n",
              " 'than',\n",
              " 'decreased',\n",
              " 'compared',\n",
              " 'using',\n",
              " 'effects',\n",
              " 'are',\n",
              " 'my',\n",
              " 'symptoms',\n",
              " 'inflammatory',\n",
              " 'groups',\n",
              " 'no',\n",
              " 'both',\n",
              " 'drugs',\n",
              " 'two',\n",
              " 'anti',\n",
              " 'significantly',\n",
              " 'acute',\n",
              " 'potassium',\n",
              " 'significant',\n",
              " 'skin',\n",
              " 'day',\n",
              " 'between',\n",
              " 'all',\n",
              " 'disorders',\n",
              " 'behavior',\n",
              " 'used',\n",
              " 'blood',\n",
              " 'syndrome',\n",
              " 'h',\n",
              " 'dose',\n",
              " '(',\n",
              " ')',\n",
              " 'voltaren',\n",
              " '-',\n",
              " 'these',\n",
              " 'time',\n",
              " 'which',\n",
              " 'had',\n",
              " 'results',\n",
              " 'it',\n",
              " 'sleeplessness',\n",
              " 'placebo',\n",
              " 'efficacy',\n",
              " 'diseases',\n",
              " 'concentration',\n",
              " 'days',\n",
              " 'oral',\n",
              " 'have',\n",
              " 'ds',\n",
              " 'treated',\n",
              " 'like',\n",
              " 'feeling',\n",
              " 'also',\n",
              " 'showed',\n",
              " 'we',\n",
              " 'finding',\n",
              " 'topical',\n",
              " 'disturbance',\n",
              " 'different',\n",
              " 'administration',\n",
              " 'up',\n",
              " 'ml',\n",
              " 'more',\n",
              " 'insomnia',\n",
              " 'one',\n",
              " 'rats',\n",
              " 'energy',\n",
              " 'has',\n",
              " 'sleep',\n",
              " 'been',\n",
              " 'somnolence',\n",
              " 'but',\n",
              " 'non',\n",
              " 'acid',\n",
              " 'induced',\n",
              " 'control',\n",
              " 'c',\n",
              " 'studies',\n",
              " 'high',\n",
              " 'got',\n",
              " 'clinical',\n",
              " 'during',\n",
              " 'mental',\n",
              " 'rate',\n",
              " 'method',\n",
              " 'observed',\n",
              " 'respectively',\n",
              " 'plasma',\n",
              " 'mean',\n",
              " 'swelling',\n",
              " 'muscle',\n",
              " 'gain',\n",
              " 'appetite',\n",
              " 'nsaids',\n",
              " 'their',\n",
              " 'disease',\n",
              " 'low',\n",
              " 'state',\n",
              " 'depression',\n",
              " 'formulation',\n",
              " 'hours',\n",
              " 'there',\n",
              " 'other',\n",
              " 'into',\n",
              " 'body',\n",
              " 'tablets',\n",
              " 'formulations',\n",
              " 'nausea',\n",
              " 'found',\n",
              " 'effective',\n",
              " 's',\n",
              " 'ph',\n",
              " 'g',\n",
              " 'solution',\n",
              " 'gel',\n",
              " 'its',\n",
              " 'use',\n",
              " 'may',\n",
              " 'received',\n",
              " 'when',\n",
              " 'kg',\n",
              " 'three',\n",
              " 'excitability',\n",
              " 'well',\n",
              " 'awake',\n",
              " 'test',\n",
              " 'analysis',\n",
              " 'n',\n",
              " 'total',\n",
              " 'conditions',\n",
              " 'cell',\n",
              " 'adverse',\n",
              " 'first',\n",
              " 'attention',\n",
              " 'controlled',\n",
              " 'activity',\n",
              " 'heart',\n",
              " 'atorvastatin',\n",
              " 'analgesic',\n",
              " 'irritable',\n",
              " 'single',\n",
              " 'data',\n",
              " 'lower',\n",
              " 'renal',\n",
              " 'hyperactive',\n",
              " 'eye',\n",
              " 'serum',\n",
              " 'out',\n",
              " 'level',\n",
              " 'reaction',\n",
              " 'm',\n",
              " 'feelings',\n",
              " 'ceiling',\n",
              " 'dizziness',\n",
              " 'd',\n",
              " 'gastrointestinal',\n",
              " 'over',\n",
              " 'liver',\n",
              " 'levels',\n",
              " 'vitro',\n",
              " 'system',\n",
              " 'patient',\n",
              " 'concentrations',\n",
              " 'drowsiness',\n",
              " 'daily',\n",
              " 'feel',\n",
              " 'randomized',\n",
              " 'each',\n",
              " 'panic',\n",
              " 'less',\n",
              " 'headache',\n",
              " 'period',\n",
              " 'following',\n",
              " 'evaluated',\n",
              " 'loss',\n",
              " 'surgery',\n",
              " 'application',\n",
              " 'can',\n",
              " 'however',\n",
              " 'model',\n",
              " 'inflammation',\n",
              " 'weeks',\n",
              " 'double',\n",
              " 'depressed',\n",
              " 'site',\n",
              " 'nsaid',\n",
              " 'l',\n",
              " 'rash',\n",
              " 'postoperative',\n",
              " 'obtained',\n",
              " 'water',\n",
              " 'infection',\n",
              " 'cells',\n",
              " 'joint',\n",
              " 'swings',\n",
              " 'function',\n",
              " 'dissolution',\n",
              " 't',\n",
              " 'tablet',\n",
              " 'similar',\n",
              " 'therapy',\n",
              " 'did',\n",
              " 'initial',\n",
              " 'increase',\n",
              " 'edema',\n",
              " 'based',\n",
              " '#',\n",
              " 'arthritis',\n",
              " 'injury',\n",
              " 'reduced',\n",
              " 'before',\n",
              " 'present',\n",
              " 'allergic',\n",
              " 'injection',\n",
              " 'associated',\n",
              " 'higher',\n",
              " 'bipolar',\n",
              " 'change',\n",
              " 'studied',\n",
              " 'most',\n",
              " 'difference',\n",
              " 'b',\n",
              " 'wakefulness',\n",
              " 'bone',\n",
              " 'changes',\n",
              " 'pressure',\n",
              " 'prepared',\n",
              " 'only',\n",
              " 'administered',\n",
              " 'week',\n",
              " 'gastric',\n",
              " 'visual',\n",
              " 'vs',\n",
              " 'doses',\n",
              " 'under',\n",
              " 'trial',\n",
              " 'those',\n",
              " 'chronic',\n",
              " 'reported',\n",
              " 'response',\n",
              " 'combination',\n",
              " 'migraine',\n",
              " \"n't\",\n",
              " 'nonsteroidal',\n",
              " 'min',\n",
              " 'blind',\n",
              " 'due',\n",
              " 'corneal',\n",
              " 'absorption',\n",
              " 'differences',\n",
              " 'breast',\n",
              " 'tissue',\n",
              " 'investigated',\n",
              " 'performed',\n",
              " 'relief',\n",
              " 'dreams',\n",
              " 'cholesterol',\n",
              " 'x',\n",
              " 'ca',\n",
              " 'given',\n",
              " 'subjects',\n",
              " 'events',\n",
              " 'who',\n",
              " 'properties',\n",
              " 'abdominal',\n",
              " 'side',\n",
              " 'values',\n",
              " 'ratio',\n",
              " 'while',\n",
              " 'years',\n",
              " 'decrease',\n",
              " 'fatigue',\n",
              " 'within',\n",
              " 'new',\n",
              " 'phase',\n",
              " 'developed',\n",
              " 'could',\n",
              " 'safety',\n",
              " 'post',\n",
              " 'respiratory',\n",
              " 'parameters',\n",
              " 'measured',\n",
              " 'w',\n",
              " 'attacks',\n",
              " 'four',\n",
              " 'order',\n",
              " 'v',\n",
              " 'steroidal',\n",
              " 'containing',\n",
              " 'either',\n",
              " 'brain',\n",
              " 'mm',\n",
              " 'assessed',\n",
              " 'knee',\n",
              " 'stiffness',\n",
              " 'such',\n",
              " 'delivery',\n",
              " 'tremor',\n",
              " 'human',\n",
              " 'times',\n",
              " 'any',\n",
              " 'determined',\n",
              " 'included',\n",
              " 'dry',\n",
              " 'urine',\n",
              " 'kidney',\n",
              " 'evaluate',\n",
              " 'reduction',\n",
              " 'therapeutic',\n",
              " 'minutes',\n",
              " 'without',\n",
              " 'applied',\n",
              " 'vivo',\n",
              " 'oa',\n",
              " 'number',\n",
              " 'auc',\n",
              " 'medication',\n",
              " 'development',\n",
              " 'samples',\n",
              " 'e',\n",
              " 'statistically',\n",
              " 'rage',\n",
              " 'healthy',\n",
              " 'bioavailability',\n",
              " 'hemorrhage',\n",
              " 'attack',\n",
              " 'type',\n",
              " 'indomethacin',\n",
              " 'compare',\n",
              " 'action',\n",
              " 'good',\n",
              " 'osteoarthritis',\n",
              " 'scale',\n",
              " 'same',\n",
              " 'liquid',\n",
              " 'primary',\n",
              " 'potential',\n",
              " 'range',\n",
              " 'ulcer',\n",
              " 'cardiac',\n",
              " 'size',\n",
              " 'through',\n",
              " 'k',\n",
              " 'discomfort',\n",
              " 'better',\n",
              " 'deficit',\n",
              " 'carcinoma',\n",
              " 'night',\n",
              " 'form',\n",
              " 'active',\n",
              " 'so',\n",
              " 'our',\n",
              " 'failure',\n",
              " 'eyes',\n",
              " 'makes',\n",
              " 'tolerability',\n",
              " 'sleepy',\n",
              " 'lipitor',\n",
              " 'hour',\n",
              " 'matrix',\n",
              " 'coated',\n",
              " 'male',\n",
              " 'tired',\n",
              " 'infections',\n",
              " 'addition',\n",
              " 'baseline',\n",
              " 'wide',\n",
              " 'taste',\n",
              " 'revealed',\n",
              " 'related',\n",
              " 'local',\n",
              " 'process',\n",
              " 'sustained',\n",
              " 'dependent',\n",
              " 'scores',\n",
              " 'products',\n",
              " 'na',\n",
              " 'psychotic',\n",
              " 'vomiting',\n",
              " 'severe',\n",
              " 'middle',\n",
              " 'very',\n",
              " 'aqueous',\n",
              " 'pulmonary',\n",
              " 'numbness',\n",
              " 'ng',\n",
              " 'greater',\n",
              " 'secondary',\n",
              " 'dosage',\n",
              " 'demonstrated',\n",
              " 'trials',\n",
              " 'alone',\n",
              " 'normal',\n",
              " 'they',\n",
              " 'daytime',\n",
              " 'polymer',\n",
              " 'aim',\n",
              " 'about',\n",
              " 'ii',\n",
              " 'free',\n",
              " 'cerebral',\n",
              " 'sweating',\n",
              " 'temperature',\n",
              " 'mice',\n",
              " 'improvement',\n",
              " 'agent',\n",
              " 'sensation',\n",
              " 'stomach',\n",
              " 'randomly',\n",
              " 'still',\n",
              " 'ocular',\n",
              " 'volunteers',\n",
              " 'inhibitor',\n",
              " 'cox',\n",
              " 'treatments',\n",
              " 'indicated',\n",
              " 'whereas',\n",
              " 'aggravated',\n",
              " 'formation',\n",
              " 'difficulty',\n",
              " 'hallucinations',\n",
              " 'hypertension',\n",
              " 'rheumatoid',\n",
              " 'exposure',\n",
              " 'anger',\n",
              " 'followed',\n",
              " 'cm',\n",
              " 'permeation',\n",
              " 'asleep',\n",
              " 'animals',\n",
              " 'suggest',\n",
              " 'prolonged',\n",
              " 'presence',\n",
              " 'systemic',\n",
              " 'area',\n",
              " 'case',\n",
              " 'multiple',\n",
              " 'inhibition',\n",
              " 'rat',\n",
              " 'dependence',\n",
              " 'end',\n",
              " 'damage',\n",
              " 'content',\n",
              " 'months',\n",
              " 'dermatitis',\n",
              " 'various',\n",
              " 'distress',\n",
              " 'cancer',\n",
              " 'per',\n",
              " 'score',\n",
              " 'shown',\n",
              " 'intensity',\n",
              " 'available',\n",
              " 'relative',\n",
              " 'quality',\n",
              " 'age',\n",
              " 'mechanism',\n",
              " 'sleepiness',\n",
              " 'vascular',\n",
              " 'conducted',\n",
              " 'risk',\n",
              " 'disturbances',\n",
              " 'agents',\n",
              " 'painful',\n",
              " 'amount',\n",
              " 'female',\n",
              " 'fluid',\n",
              " 'complex',\n",
              " 'facial',\n",
              " 'determine',\n",
              " 'tolerated',\n",
              " 'irritation',\n",
              " 'th',\n",
              " 'cases',\n",
              " 'being',\n",
              " 'term',\n",
              " 'moderate',\n",
              " 'dysfunction',\n",
              " 'surface',\n",
              " 'vehicle',\n",
              " 'zombie',\n",
              " 'early',\n",
              " 'exhaustion',\n",
              " 'evaluation',\n",
              " 'growth',\n",
              " 'peak',\n",
              " 'hepatic',\n",
              " 'f',\n",
              " 'protein',\n",
              " 'combined',\n",
              " 'divided',\n",
              " 'improved',\n",
              " 'further',\n",
              " 'cataract',\n",
              " 'although',\n",
              " 'urinary',\n",
              " 'density',\n",
              " 'de',\n",
              " 'standard',\n",
              " 'death',\n",
              " 'vas',\n",
              " 'interactions',\n",
              " 'depressive',\n",
              " 'lesions',\n",
              " 'pharmaceutical',\n",
              " 'product',\n",
              " 'experimental',\n",
              " 'some',\n",
              " 'ibuprofen',\n",
              " 'anemia',\n",
              " 'misoprostol',\n",
              " 'profiles',\n",
              " 'microspheres',\n",
              " 'need',\n",
              " 'rapid',\n",
              " 'profile',\n",
              " \"'m\",\n",
              " 'caused',\n",
              " 'according',\n",
              " 'seizures',\n",
              " 'versus',\n",
              " 'o',\n",
              " 'production',\n",
              " 'elevated',\n",
              " 'performance',\n",
              " 'preparation',\n",
              " 'among',\n",
              " 'pharmacokinetic',\n",
              " 'achieved',\n",
              " 'because',\n",
              " 'localised',\n",
              " 'suicidal',\n",
              " 'cmax',\n",
              " 'onset',\n",
              " 'should',\n",
              " 'synthesis',\n",
              " 'five',\n",
              " 'arrest',\n",
              " 'result',\n",
              " 'flow',\n",
              " 'calcium',\n",
              " 'tract',\n",
              " 'common',\n",
              " 'efficiency',\n",
              " 'enteric',\n",
              " 'alcohol',\n",
              " 'down',\n",
              " 'peripheral',\n",
              " 'social',\n",
              " 'glucose',\n",
              " 'pre',\n",
              " 'six',\n",
              " 'produced',\n",
              " 'carried',\n",
              " 'old',\n",
              " 'assessment',\n",
              " 'commercial',\n",
              " 'vision',\n",
              " 'cd',\n",
              " 'diabetic',\n",
              " 'complete',\n",
              " 'including',\n",
              " 'necrosis',\n",
              " 'oedema',\n",
              " 'chest',\n",
              " 'analgesia',\n",
              " 'eating',\n",
              " 'major',\n",
              " 'impairment',\n",
              " 'dizzy',\n",
              " 'beads',\n",
              " 'injuries',\n",
              " 'mild',\n",
              " 'overall',\n",
              " 'diffusion',\n",
              " 'erythema',\n",
              " 'compulsive',\n",
              " 'long',\n",
              " 'degrees',\n",
              " 'flare',\n",
              " 'vivid',\n",
              " 'interaction',\n",
              " 'extent',\n",
              " 'duration',\n",
              " 'face',\n",
              " 'resulted',\n",
              " 'toxicity',\n",
              " 'volume',\n",
              " 'determination',\n",
              " 'membrane',\n",
              " 'depersonalization',\n",
              " 'naproxen',\n",
              " 'physical',\n",
              " 'technique',\n",
              " 'nightmares',\n",
              " 'rofecoxib',\n",
              " 'third',\n",
              " 'uterine',\n",
              " 'prostaglandin',\n",
              " 'diabetes',\n",
              " 'solid',\n",
              " 'nervous',\n",
              " 'spasm',\n",
              " 'then',\n",
              " 'tested',\n",
              " 'models',\n",
              " 'review',\n",
              " 'pellets',\n",
              " 'foot',\n",
              " 'tolerance',\n",
              " 'cross',\n",
              " 'once',\n",
              " 'second',\n",
              " 'intestinal',\n",
              " 'medium',\n",
              " 'bite',\n",
              " 'evidence',\n",
              " 'pruritus',\n",
              " 'show',\n",
              " 'aspirin',\n",
              " 'emotional',\n",
              " 'value',\n",
              " 'influence',\n",
              " 'phosphate',\n",
              " 'incidence',\n",
              " 'ventricular',\n",
              " 'superior',\n",
              " 'life',\n",
              " 'indicate',\n",
              " 'degree',\n",
              " 'nauseous',\n",
              " 'responses',\n",
              " 'recorded',\n",
              " 'you',\n",
              " 'every',\n",
              " 'neoplasm',\n",
              " 'delayed',\n",
              " 'characterized',\n",
              " 'localized',\n",
              " 'memory',\n",
              " 'lack',\n",
              " 'positive',\n",
              " 'novel',\n",
              " 'small',\n",
              " 'inhibitors',\n",
              " 'maximum',\n",
              " 'dic',\n",
              " 'tooth',\n",
              " 'count',\n",
              " 'year',\n",
              " 'reference',\n",
              " 'paracetamol',\n",
              " 'design',\n",
              " 'least',\n",
              " 'creatinine',\n",
              " 'highly',\n",
              " 'examined',\n",
              " 'capsules',\n",
              " 'considered',\n",
              " 'comparable',\n",
              " 'lung',\n",
              " 'beta',\n",
              " 'methods',\n",
              " 'saline',\n",
              " 'cold',\n",
              " 'expression',\n",
              " 'even',\n",
              " 'patch',\n",
              " 'possible',\n",
              " 'comparison',\n",
              " 'if',\n",
              " 'hunger',\n",
              " 'co',\n",
              " 'shoulder',\n",
              " 'malignant',\n",
              " 'solubility',\n",
              " 'forms',\n",
              " 'ci',\n",
              " 'specific',\n",
              " 'receiving',\n",
              " 'affect',\n",
              " 'twice',\n",
              " 'factor',\n",
              " 'investigate',\n",
              " 'asthma',\n",
              " 'thus',\n",
              " 'cardiovascular',\n",
              " 'intoxication',\n",
              " 'food',\n",
              " 'upper',\n",
              " 'therefore',\n",
              " 'stress',\n",
              " 'obsessive',\n",
              " 'alpha',\n",
              " 'lesion',\n",
              " 'global',\n",
              " 'characteristics',\n",
              " 'withdrawals',\n",
              " 'abuse',\n",
              " 'fever',\n",
              " 'loaded',\n",
              " 'ache',\n",
              " 'enzyme',\n",
              " 'solutions',\n",
              " 'work',\n",
              " 'drops',\n",
              " 'back',\n",
              " 'medications',\n",
              " 'tissues',\n",
              " 'current',\n",
              " 'diet',\n",
              " 'increasing',\n",
              " 'released',\n",
              " 'microg',\n",
              " 'hungry',\n",
              " 'made',\n",
              " 'assess',\n",
              " 'chitosan',\n",
              " 'way',\n",
              " 'simple',\n",
              " 'taking',\n",
              " 'detection',\n",
              " 'hepatitis',\n",
              " 'several',\n",
              " 'care',\n",
              " 'your',\n",
              " 'rabbits',\n",
              " 'euphoric',\n",
              " 'central',\n",
              " 'lipid',\n",
              " 'analyzed',\n",
              " 'pneumonia',\n",
              " 'nerve',\n",
              " 'bulimia',\n",
              " 'lipoprotein',\n",
              " 'partial',\n",
              " 'inhibited',\n",
              " 'extraction',\n",
              " 'findings',\n",
              " 'antiinflammatory',\n",
              " 'index',\n",
              " 'plus',\n",
              " 'against',\n",
              " 'ketorolac',\n",
              " 'preparations',\n",
              " 'adderall',\n",
              " 'hplc',\n",
              " 'outcome',\n",
              " 'sensitive',\n",
              " 'block',\n",
              " 'cramps',\n",
              " 'lightheadedness',\n",
              " 'exhibited',\n",
              " 'max',\n",
              " 'participants',\n",
              " 'provided',\n",
              " 'examination',\n",
              " 'cream',\n",
              " 'transdermal',\n",
              " 'intramuscular',\n",
              " 'sexual',\n",
              " 'objective',\n",
              " 'activities',\n",
              " 'fear',\n",
              " 'provide',\n",
              " 'buffer',\n",
              " 'obstruction',\n",
              " 'dpsgc',\n",
              " 'will',\n",
              " 'consciousness',\n",
              " 'hp',\n",
              " 'artery',\n",
              " 'nm',\n",
              " 'laser',\n",
              " 'drowsy',\n",
              " 'systems',\n",
              " 'factors',\n",
              " 'steroid',\n",
              " 'il',\n",
              " 'clearance',\n",
              " 'r',\n",
              " 'does',\n",
              " 'ldl',\n",
              " 'enhanced',\n",
              " 'since',\n",
              " 'rates',\n",
              " 'faster',\n",
              " 'erection',\n",
              " 'tongue',\n",
              " 'confirmed',\n",
              " 'impaired',\n",
              " 'whether',\n",
              " 'do',\n",
              " 'get',\n",
              " 'selected',\n",
              " 'hpmc',\n",
              " 'crazy',\n",
              " 'kinetics',\n",
              " 'collected',\n",
              " 'aged',\n",
              " 'microm',\n",
              " 'hand',\n",
              " 'orally',\n",
              " 'symptom',\n",
              " 'thirst',\n",
              " 'celecoxib',\n",
              " 'media',\n",
              " 'electrocardiogram',\n",
              " 'fractures',\n",
              " 'soft',\n",
              " 'binding',\n",
              " 'structure',\n",
              " 'cutaneous',\n",
              " 'arthropod',\n",
              " 'modified',\n",
              " 'women',\n",
              " 'excessive',\n",
              " 'genital',\n",
              " 'clinically',\n",
              " 'stability',\n",
              " 'pge',\n",
              " 'paranoid',\n",
              " 'important',\n",
              " 'across',\n",
              " 'ophthalmic',\n",
              " 'chemical',\n",
              " 'short',\n",
              " 'excretion',\n",
              " 'operative',\n",
              " 'sr',\n",
              " 'collagen',\n",
              " 'management',\n",
              " 'right',\n",
              " 'dcf',\n",
              " 'arterial',\n",
              " 'scanning',\n",
              " 'terms',\n",
              " 'penetration',\n",
              " 'known',\n",
              " 'percentage',\n",
              " 'sneezing',\n",
              " 'nasal',\n",
              " 'particle',\n",
              " 'crossover',\n",
              " 'tests',\n",
              " 'candidiasis',\n",
              " 'cause',\n",
              " 'mass',\n",
              " 'occurred',\n",
              " 'capsule',\n",
              " 'average',\n",
              " 'experiments',\n",
              " 'coronary',\n",
              " 'muscular',\n",
              " 'mouth',\n",
              " 'tingling',\n",
              " 'open',\n",
              " 'required',\n",
              " 'acetaminophen',\n",
              " 'ear',\n",
              " 'eudragit',\n",
              " 'respect',\n",
              " 'animal',\n",
              " 'bleeding',\n",
              " 'alternative',\n",
              " 'thinking',\n",
              " 'colitis',\n",
              " 'microscopy',\n",
              " 'cyclooxygenase',\n",
              " 'diarrhea',\n",
              " 'via',\n",
              " 'target',\n",
              " 'reduce',\n",
              " 'intravenous',\n",
              " 'urticaria',\n",
              " 'interest',\n",
              " 'arthrotec',\n",
              " 'personality',\n",
              " 'hurt',\n",
              " 'cambia',\n",
              " 'adult',\n",
              " 'tmax',\n",
              " 'research',\n",
              " 'ability',\n",
              " 'fracture',\n",
              " 'oil',\n",
              " 'sweat',\n",
              " 'general',\n",
              " 'gained',\n",
              " 'point',\n",
              " 'episode',\n",
              " 'additional',\n",
              " 'randomised',\n",
              " 'vasculitis',\n",
              " 'tenderness',\n",
              " 'metabolism',\n",
              " 'dfs',\n",
              " 'colic',\n",
              " 'designed',\n",
              " 'peg',\n",
              " 'loading',\n",
              " 'cs',\n",
              " 'neoplasms',\n",
              " 'pattern',\n",
              " 'many',\n",
              " 'overdose',\n",
              " 'absence',\n",
              " 'criteria',\n",
              " 'serious',\n",
              " 'traumatic',\n",
              " 'musculoskeletal',\n",
              " 'libido',\n",
              " 'df',\n",
              " 'fast',\n",
              " 'negative',\n",
              " 'insufficiency',\n",
              " 'speech',\n",
              " 'weird',\n",
              " 'bacterial',\n",
              " 'role',\n",
              " 'chloride',\n",
              " 'procedure',\n",
              " 'lose',\n",
              " 'metastatic',\n",
              " 'independent',\n",
              " 'substance',\n",
              " 'detected',\n",
              " 'status',\n",
              " 'potent',\n",
              " 'large',\n",
              " 'twenty',\n",
              " 'altered',\n",
              " 'molecular',\n",
              " 'taken',\n",
              " 'receive',\n",
              " 'throat',\n",
              " 'ak',\n",
              " 'variables',\n",
              " 'experienced',\n",
              " 'coating',\n",
              " 'assay',\n",
              " 'percent',\n",
              " 'activation',\n",
              " 'widely',\n",
              " 'headaches',\n",
              " 'limb',\n",
              " ...]"
            ]
          },
          "metadata": {
            "tags": []
          },
          "execution_count": 18
        }
      ]
    },
    {
      "cell_type": "code",
      "metadata": {
        "id": "yPWr03mls3VT",
        "outputId": "85c61457-6177-45e9-cf91-584e7b0ed8f0",
        "colab": {
          "base_uri": "https://localhost:8080/",
          "height": 17
        }
      },
      "source": [
        "model_path = path/'models'\n",
        "model_path.mkdir(exist_ok=True)\n",
        "url = 'http://files.fast.ai/models/wt103_v1/'\n",
        "download_url(f'{url}lstm_wt103.pth', model_path/'lstm_wt103.pth')\n",
        "download_url(f'{url}itos_wt103.pkl', model_path/'itos_wt103.pkl')"
      ],
      "execution_count": 19,
      "outputs": [
        {
          "output_type": "display_data",
          "data": {
            "text/html": [
              ""
            ],
            "text/plain": [
              "<IPython.core.display.HTML object>"
            ]
          },
          "metadata": {
            "tags": []
          }
        },
        {
          "output_type": "display_data",
          "data": {
            "text/html": [
              ""
            ],
            "text/plain": [
              "<IPython.core.display.HTML object>"
            ]
          },
          "metadata": {
            "tags": []
          }
        }
      ]
    },
    {
      "cell_type": "code",
      "metadata": {
        "id": "JRzvWg8RtGGr",
        "outputId": "d9cdaf20-8459-4ff5-c683-0306641fb004",
        "colab": {
          "base_uri": "https://localhost:8080/",
          "height": 34
        }
      },
      "source": [
        "learn = language_model_learner(data_lm, AWD_LSTM, drop_mult=0.5)"
      ],
      "execution_count": 20,
      "outputs": [
        {
          "output_type": "stream",
          "text": [
            "Downloading https://s3.amazonaws.com/fast-ai-modelzoo/wt103-fwd.tgz\n"
          ],
          "name": "stdout"
        },
        {
          "output_type": "display_data",
          "data": {
            "text/html": [
              ""
            ],
            "text/plain": [
              "<IPython.core.display.HTML object>"
            ]
          },
          "metadata": {
            "tags": []
          }
        }
      ]
    },
    {
      "cell_type": "code",
      "metadata": {
        "id": "xKK7GeBev7Xn",
        "outputId": "ef6f7060-a44b-4f99-a185-4d7ba3cd0e36",
        "colab": {
          "base_uri": "https://localhost:8080/",
          "height": 80
        }
      },
      "source": [
        "learn.fit_one_cycle(1, 1e-2)"
      ],
      "execution_count": 21,
      "outputs": [
        {
          "output_type": "display_data",
          "data": {
            "text/html": [
              "<table border=\"1\" class=\"dataframe\">\n",
              "  <thead>\n",
              "    <tr style=\"text-align: left;\">\n",
              "      <th>epoch</th>\n",
              "      <th>train_loss</th>\n",
              "      <th>valid_loss</th>\n",
              "      <th>accuracy</th>\n",
              "      <th>time</th>\n",
              "    </tr>\n",
              "  </thead>\n",
              "  <tbody>\n",
              "    <tr>\n",
              "      <td>0</td>\n",
              "      <td>4.830500</td>\n",
              "      <td>4.232921</td>\n",
              "      <td>0.342593</td>\n",
              "      <td>17:30</td>\n",
              "    </tr>\n",
              "  </tbody>\n",
              "</table>"
            ],
            "text/plain": [
              "<IPython.core.display.HTML object>"
            ]
          },
          "metadata": {
            "tags": []
          }
        }
      ]
    },
    {
      "cell_type": "code",
      "metadata": {
        "id": "iB7rHGQCwd12",
        "outputId": "f1a710bd-6009-4526-b1b8-9645afdadebf",
        "colab": {
          "base_uri": "https://localhost:8080/",
          "height": 80
        }
      },
      "source": [
        "learn.fit_one_cycle(1, 1e-2)"
      ],
      "execution_count": 22,
      "outputs": [
        {
          "output_type": "display_data",
          "data": {
            "text/html": [
              "<table border=\"1\" class=\"dataframe\">\n",
              "  <thead>\n",
              "    <tr style=\"text-align: left;\">\n",
              "      <th>epoch</th>\n",
              "      <th>train_loss</th>\n",
              "      <th>valid_loss</th>\n",
              "      <th>accuracy</th>\n",
              "      <th>time</th>\n",
              "    </tr>\n",
              "  </thead>\n",
              "  <tbody>\n",
              "    <tr>\n",
              "      <td>0</td>\n",
              "      <td>4.020958</td>\n",
              "      <td>3.836071</td>\n",
              "      <td>0.377414</td>\n",
              "      <td>17:14</td>\n",
              "    </tr>\n",
              "  </tbody>\n",
              "</table>"
            ],
            "text/plain": [
              "<IPython.core.display.HTML object>"
            ]
          },
          "metadata": {
            "tags": []
          }
        }
      ]
    },
    {
      "cell_type": "code",
      "metadata": {
        "id": "_BnSuAeCwkBe",
        "outputId": "3936b204-fa46-4e98-f428-2b632f34b566",
        "colab": {
          "base_uri": "https://localhost:8080/",
          "height": 80
        }
      },
      "source": [
        "learn.fit_one_cycle(1, 1e-3)"
      ],
      "execution_count": 23,
      "outputs": [
        {
          "output_type": "display_data",
          "data": {
            "text/html": [
              "<table border=\"1\" class=\"dataframe\">\n",
              "  <thead>\n",
              "    <tr style=\"text-align: left;\">\n",
              "      <th>epoch</th>\n",
              "      <th>train_loss</th>\n",
              "      <th>valid_loss</th>\n",
              "      <th>accuracy</th>\n",
              "      <th>time</th>\n",
              "    </tr>\n",
              "  </thead>\n",
              "  <tbody>\n",
              "    <tr>\n",
              "      <td>0</td>\n",
              "      <td>3.738058</td>\n",
              "      <td>3.793368</td>\n",
              "      <td>0.382011</td>\n",
              "      <td>17:15</td>\n",
              "    </tr>\n",
              "  </tbody>\n",
              "</table>"
            ],
            "text/plain": [
              "<IPython.core.display.HTML object>"
            ]
          },
          "metadata": {
            "tags": []
          }
        }
      ]
    },
    {
      "cell_type": "code",
      "metadata": {
        "id": "MuTm-RFjwrEX",
        "outputId": "99d57eb4-c4f9-45f6-ea33-3c9db6711ba4",
        "colab": {
          "base_uri": "https://localhost:8080/",
          "height": 80
        }
      },
      "source": [
        "learn.fit_one_cycle(1, 1e-3)"
      ],
      "execution_count": 24,
      "outputs": [
        {
          "output_type": "display_data",
          "data": {
            "text/html": [
              "<table border=\"1\" class=\"dataframe\">\n",
              "  <thead>\n",
              "    <tr style=\"text-align: left;\">\n",
              "      <th>epoch</th>\n",
              "      <th>train_loss</th>\n",
              "      <th>valid_loss</th>\n",
              "      <th>accuracy</th>\n",
              "      <th>time</th>\n",
              "    </tr>\n",
              "  </thead>\n",
              "  <tbody>\n",
              "    <tr>\n",
              "      <td>0</td>\n",
              "      <td>3.686475</td>\n",
              "      <td>3.759337</td>\n",
              "      <td>0.385160</td>\n",
              "      <td>17:09</td>\n",
              "    </tr>\n",
              "  </tbody>\n",
              "</table>"
            ],
            "text/plain": [
              "<IPython.core.display.HTML object>"
            ]
          },
          "metadata": {
            "tags": []
          }
        }
      ]
    },
    {
      "cell_type": "code",
      "metadata": {
        "id": "1Er2ExO8wr7Y"
      },
      "source": [
        "learn.save_encoder('TwADR_pubmed_fold3_first')"
      ],
      "execution_count": 25,
      "outputs": []
    },
    {
      "cell_type": "code",
      "metadata": {
        "id": "z52cZs2qwvad",
        "outputId": "bdd43375-0c7c-4de4-efa0-2d064bdf7528",
        "colab": {
          "base_uri": "https://localhost:8080/",
          "height": 80
        }
      },
      "source": [
        "learn = text_classifier_learner(data_clas,AWD_LSTM, drop_mult=0.5)\n",
        "learn.load_encoder('TwADR_pubmed_fold3_first')\n",
        "learn.fit_one_cycle(1, 1e-2)"
      ],
      "execution_count": 26,
      "outputs": [
        {
          "output_type": "display_data",
          "data": {
            "text/html": [
              "<table border=\"1\" class=\"dataframe\">\n",
              "  <thead>\n",
              "    <tr style=\"text-align: left;\">\n",
              "      <th>epoch</th>\n",
              "      <th>train_loss</th>\n",
              "      <th>valid_loss</th>\n",
              "      <th>accuracy</th>\n",
              "      <th>time</th>\n",
              "    </tr>\n",
              "  </thead>\n",
              "  <tbody>\n",
              "    <tr>\n",
              "      <td>0</td>\n",
              "      <td>7.217832</td>\n",
              "      <td>6.538230</td>\n",
              "      <td>0.058824</td>\n",
              "      <td>00:22</td>\n",
              "    </tr>\n",
              "  </tbody>\n",
              "</table>"
            ],
            "text/plain": [
              "<IPython.core.display.HTML object>"
            ]
          },
          "metadata": {
            "tags": []
          }
        }
      ]
    },
    {
      "cell_type": "code",
      "metadata": {
        "id": "ImwQP1PJwzxd",
        "outputId": "1b05d37f-fdfc-4696-b171-a216672d83be",
        "colab": {
          "base_uri": "https://localhost:8080/",
          "height": 80
        }
      },
      "source": [
        "learn.freeze_to(-2)\n",
        "learn.fit_one_cycle(1, slice(5e-3/2., 5e-3))"
      ],
      "execution_count": 27,
      "outputs": [
        {
          "output_type": "display_data",
          "data": {
            "text/html": [
              "<table border=\"1\" class=\"dataframe\">\n",
              "  <thead>\n",
              "    <tr style=\"text-align: left;\">\n",
              "      <th>epoch</th>\n",
              "      <th>train_loss</th>\n",
              "      <th>valid_loss</th>\n",
              "      <th>accuracy</th>\n",
              "      <th>time</th>\n",
              "    </tr>\n",
              "  </thead>\n",
              "  <tbody>\n",
              "    <tr>\n",
              "      <td>0</td>\n",
              "      <td>6.249514</td>\n",
              "      <td>5.148288</td>\n",
              "      <td>0.126050</td>\n",
              "      <td>00:26</td>\n",
              "    </tr>\n",
              "  </tbody>\n",
              "</table>"
            ],
            "text/plain": [
              "<IPython.core.display.HTML object>"
            ]
          },
          "metadata": {
            "tags": []
          }
        }
      ]
    },
    {
      "cell_type": "code",
      "metadata": {
        "id": "Owff_BJXw53u",
        "outputId": "4a0534b7-9e85-436d-9e82-92ffc87a0b9c",
        "colab": {
          "base_uri": "https://localhost:8080/",
          "height": 80
        }
      },
      "source": [
        "learn.unfreeze()\n",
        "learn.fit_one_cycle(1, slice(2e-3/100, 2e-3))"
      ],
      "execution_count": 28,
      "outputs": [
        {
          "output_type": "display_data",
          "data": {
            "text/html": [
              "<table border=\"1\" class=\"dataframe\">\n",
              "  <thead>\n",
              "    <tr style=\"text-align: left;\">\n",
              "      <th>epoch</th>\n",
              "      <th>train_loss</th>\n",
              "      <th>valid_loss</th>\n",
              "      <th>accuracy</th>\n",
              "      <th>time</th>\n",
              "    </tr>\n",
              "  </thead>\n",
              "  <tbody>\n",
              "    <tr>\n",
              "      <td>0</td>\n",
              "      <td>5.744302</td>\n",
              "      <td>4.911015</td>\n",
              "      <td>0.184874</td>\n",
              "      <td>01:07</td>\n",
              "    </tr>\n",
              "  </tbody>\n",
              "</table>"
            ],
            "text/plain": [
              "<IPython.core.display.HTML object>"
            ]
          },
          "metadata": {
            "tags": []
          }
        }
      ]
    },
    {
      "cell_type": "code",
      "metadata": {
        "id": "lqAyu56V8Waq",
        "outputId": "ccdb020e-ee55-41fb-a367-7357f6bb9c49",
        "colab": {
          "base_uri": "https://localhost:8080/",
          "height": 111
        }
      },
      "source": [
        "learn.fit_one_cycle(2, slice(2e-3/100, 2e-3))"
      ],
      "execution_count": 29,
      "outputs": [
        {
          "output_type": "display_data",
          "data": {
            "text/html": [
              "<table border=\"1\" class=\"dataframe\">\n",
              "  <thead>\n",
              "    <tr style=\"text-align: left;\">\n",
              "      <th>epoch</th>\n",
              "      <th>train_loss</th>\n",
              "      <th>valid_loss</th>\n",
              "      <th>accuracy</th>\n",
              "      <th>time</th>\n",
              "    </tr>\n",
              "  </thead>\n",
              "  <tbody>\n",
              "    <tr>\n",
              "      <td>0</td>\n",
              "      <td>5.478743</td>\n",
              "      <td>4.554427</td>\n",
              "      <td>0.252101</td>\n",
              "      <td>01:07</td>\n",
              "    </tr>\n",
              "    <tr>\n",
              "      <td>1</td>\n",
              "      <td>5.234647</td>\n",
              "      <td>4.510120</td>\n",
              "      <td>0.226891</td>\n",
              "      <td>01:05</td>\n",
              "    </tr>\n",
              "  </tbody>\n",
              "</table>"
            ],
            "text/plain": [
              "<IPython.core.display.HTML object>"
            ]
          },
          "metadata": {
            "tags": []
          }
        }
      ]
    },
    {
      "cell_type": "code",
      "metadata": {
        "id": "a7I1xMRp8bUd",
        "outputId": "5a2af833-30ff-4722-f540-6f173d9bf424",
        "colab": {
          "base_uri": "https://localhost:8080/",
          "height": 111
        }
      },
      "source": [
        "learn.fit_one_cycle(2, slice(2e-3/100, 2e-3))"
      ],
      "execution_count": 30,
      "outputs": [
        {
          "output_type": "display_data",
          "data": {
            "text/html": [
              "<table border=\"1\" class=\"dataframe\">\n",
              "  <thead>\n",
              "    <tr style=\"text-align: left;\">\n",
              "      <th>epoch</th>\n",
              "      <th>train_loss</th>\n",
              "      <th>valid_loss</th>\n",
              "      <th>accuracy</th>\n",
              "      <th>time</th>\n",
              "    </tr>\n",
              "  </thead>\n",
              "  <tbody>\n",
              "    <tr>\n",
              "      <td>0</td>\n",
              "      <td>4.988869</td>\n",
              "      <td>4.236017</td>\n",
              "      <td>0.226891</td>\n",
              "      <td>01:08</td>\n",
              "    </tr>\n",
              "    <tr>\n",
              "      <td>1</td>\n",
              "      <td>4.758487</td>\n",
              "      <td>4.151838</td>\n",
              "      <td>0.226891</td>\n",
              "      <td>01:05</td>\n",
              "    </tr>\n",
              "  </tbody>\n",
              "</table>"
            ],
            "text/plain": [
              "<IPython.core.display.HTML object>"
            ]
          },
          "metadata": {
            "tags": []
          }
        }
      ]
    },
    {
      "cell_type": "code",
      "metadata": {
        "id": "UAnti-XmGVfO",
        "outputId": "c38584a6-17fc-4351-e6da-06391f078d28",
        "colab": {
          "base_uri": "https://localhost:8080/",
          "height": 111
        }
      },
      "source": [
        "learn.fit_one_cycle(2, slice(2e-3/100, 2e-3))"
      ],
      "execution_count": 31,
      "outputs": [
        {
          "output_type": "display_data",
          "data": {
            "text/html": [
              "<table border=\"1\" class=\"dataframe\">\n",
              "  <thead>\n",
              "    <tr style=\"text-align: left;\">\n",
              "      <th>epoch</th>\n",
              "      <th>train_loss</th>\n",
              "      <th>valid_loss</th>\n",
              "      <th>accuracy</th>\n",
              "      <th>time</th>\n",
              "    </tr>\n",
              "  </thead>\n",
              "  <tbody>\n",
              "    <tr>\n",
              "      <td>0</td>\n",
              "      <td>4.540300</td>\n",
              "      <td>3.985961</td>\n",
              "      <td>0.268908</td>\n",
              "      <td>01:02</td>\n",
              "    </tr>\n",
              "    <tr>\n",
              "      <td>1</td>\n",
              "      <td>4.390440</td>\n",
              "      <td>3.863149</td>\n",
              "      <td>0.336134</td>\n",
              "      <td>01:04</td>\n",
              "    </tr>\n",
              "  </tbody>\n",
              "</table>"
            ],
            "text/plain": [
              "<IPython.core.display.HTML object>"
            ]
          },
          "metadata": {
            "tags": []
          }
        }
      ]
    },
    {
      "cell_type": "code",
      "metadata": {
        "id": "bIft7W25GwSu",
        "outputId": "f7244bdb-57b1-40e5-aa40-3bd356c7c697",
        "colab": {
          "base_uri": "https://localhost:8080/",
          "height": 111
        }
      },
      "source": [
        "learn.fit_one_cycle(2, slice(2e-3/100, 2e-3))"
      ],
      "execution_count": 32,
      "outputs": [
        {
          "output_type": "display_data",
          "data": {
            "text/html": [
              "<table border=\"1\" class=\"dataframe\">\n",
              "  <thead>\n",
              "    <tr style=\"text-align: left;\">\n",
              "      <th>epoch</th>\n",
              "      <th>train_loss</th>\n",
              "      <th>valid_loss</th>\n",
              "      <th>accuracy</th>\n",
              "      <th>time</th>\n",
              "    </tr>\n",
              "  </thead>\n",
              "  <tbody>\n",
              "    <tr>\n",
              "      <td>0</td>\n",
              "      <td>4.192036</td>\n",
              "      <td>3.674914</td>\n",
              "      <td>0.336134</td>\n",
              "      <td>01:09</td>\n",
              "    </tr>\n",
              "    <tr>\n",
              "      <td>1</td>\n",
              "      <td>4.029513</td>\n",
              "      <td>3.615359</td>\n",
              "      <td>0.344538</td>\n",
              "      <td>01:03</td>\n",
              "    </tr>\n",
              "  </tbody>\n",
              "</table>"
            ],
            "text/plain": [
              "<IPython.core.display.HTML object>"
            ]
          },
          "metadata": {
            "tags": []
          }
        }
      ]
    },
    {
      "cell_type": "code",
      "metadata": {
        "id": "EEHszVRvGyFt",
        "outputId": "9ec5427d-6a92-4b67-8ecc-60c28ba73e5b",
        "colab": {
          "base_uri": "https://localhost:8080/",
          "height": 111
        }
      },
      "source": [
        "learn.fit_one_cycle(2, slice(2e-3/100, 2e-3))"
      ],
      "execution_count": 33,
      "outputs": [
        {
          "output_type": "display_data",
          "data": {
            "text/html": [
              "<table border=\"1\" class=\"dataframe\">\n",
              "  <thead>\n",
              "    <tr style=\"text-align: left;\">\n",
              "      <th>epoch</th>\n",
              "      <th>train_loss</th>\n",
              "      <th>valid_loss</th>\n",
              "      <th>accuracy</th>\n",
              "      <th>time</th>\n",
              "    </tr>\n",
              "  </thead>\n",
              "  <tbody>\n",
              "    <tr>\n",
              "      <td>0</td>\n",
              "      <td>3.858003</td>\n",
              "      <td>3.509044</td>\n",
              "      <td>0.394958</td>\n",
              "      <td>01:06</td>\n",
              "    </tr>\n",
              "    <tr>\n",
              "      <td>1</td>\n",
              "      <td>3.698105</td>\n",
              "      <td>3.397321</td>\n",
              "      <td>0.378151</td>\n",
              "      <td>01:03</td>\n",
              "    </tr>\n",
              "  </tbody>\n",
              "</table>"
            ],
            "text/plain": [
              "<IPython.core.display.HTML object>"
            ]
          },
          "metadata": {
            "tags": []
          }
        }
      ]
    },
    {
      "cell_type": "code",
      "metadata": {
        "id": "XsHfrhCHG3dN",
        "outputId": "4288f2ac-dfd2-4263-b32e-5e8881212f8a",
        "colab": {
          "base_uri": "https://localhost:8080/",
          "height": 173
        }
      },
      "source": [
        "learn.fit_one_cycle(4, slice(2e-3/100, 2e-3))"
      ],
      "execution_count": 34,
      "outputs": [
        {
          "output_type": "display_data",
          "data": {
            "text/html": [
              "<table border=\"1\" class=\"dataframe\">\n",
              "  <thead>\n",
              "    <tr style=\"text-align: left;\">\n",
              "      <th>epoch</th>\n",
              "      <th>train_loss</th>\n",
              "      <th>valid_loss</th>\n",
              "      <th>accuracy</th>\n",
              "      <th>time</th>\n",
              "    </tr>\n",
              "  </thead>\n",
              "  <tbody>\n",
              "    <tr>\n",
              "      <td>0</td>\n",
              "      <td>3.524100</td>\n",
              "      <td>3.393491</td>\n",
              "      <td>0.403361</td>\n",
              "      <td>01:02</td>\n",
              "    </tr>\n",
              "    <tr>\n",
              "      <td>1</td>\n",
              "      <td>3.444320</td>\n",
              "      <td>3.223316</td>\n",
              "      <td>0.378151</td>\n",
              "      <td>01:04</td>\n",
              "    </tr>\n",
              "    <tr>\n",
              "      <td>2</td>\n",
              "      <td>3.292889</td>\n",
              "      <td>3.184286</td>\n",
              "      <td>0.378151</td>\n",
              "      <td>01:05</td>\n",
              "    </tr>\n",
              "    <tr>\n",
              "      <td>3</td>\n",
              "      <td>3.105115</td>\n",
              "      <td>3.148206</td>\n",
              "      <td>0.369748</td>\n",
              "      <td>01:03</td>\n",
              "    </tr>\n",
              "  </tbody>\n",
              "</table>"
            ],
            "text/plain": [
              "<IPython.core.display.HTML object>"
            ]
          },
          "metadata": {
            "tags": []
          }
        }
      ]
    },
    {
      "cell_type": "code",
      "metadata": {
        "id": "0Zsd99isb9EQ",
        "outputId": "7c909733-08ae-477a-8f9c-8df9e1eb0597",
        "colab": {
          "base_uri": "https://localhost:8080/",
          "height": 173
        }
      },
      "source": [
        "learn.fit_one_cycle(4, slice(2e-3/100, 2e-3))"
      ],
      "execution_count": 35,
      "outputs": [
        {
          "output_type": "display_data",
          "data": {
            "text/html": [
              "<table border=\"1\" class=\"dataframe\">\n",
              "  <thead>\n",
              "    <tr style=\"text-align: left;\">\n",
              "      <th>epoch</th>\n",
              "      <th>train_loss</th>\n",
              "      <th>valid_loss</th>\n",
              "      <th>accuracy</th>\n",
              "      <th>time</th>\n",
              "    </tr>\n",
              "  </thead>\n",
              "  <tbody>\n",
              "    <tr>\n",
              "      <td>0</td>\n",
              "      <td>2.966757</td>\n",
              "      <td>3.153121</td>\n",
              "      <td>0.394958</td>\n",
              "      <td>01:08</td>\n",
              "    </tr>\n",
              "    <tr>\n",
              "      <td>1</td>\n",
              "      <td>2.893182</td>\n",
              "      <td>3.173349</td>\n",
              "      <td>0.394958</td>\n",
              "      <td>01:05</td>\n",
              "    </tr>\n",
              "    <tr>\n",
              "      <td>2</td>\n",
              "      <td>2.713536</td>\n",
              "      <td>3.090799</td>\n",
              "      <td>0.394958</td>\n",
              "      <td>01:08</td>\n",
              "    </tr>\n",
              "    <tr>\n",
              "      <td>3</td>\n",
              "      <td>2.548194</td>\n",
              "      <td>3.077898</td>\n",
              "      <td>0.403361</td>\n",
              "      <td>01:03</td>\n",
              "    </tr>\n",
              "  </tbody>\n",
              "</table>"
            ],
            "text/plain": [
              "<IPython.core.display.HTML object>"
            ]
          },
          "metadata": {
            "tags": []
          }
        }
      ]
    },
    {
      "cell_type": "code",
      "metadata": {
        "id": "atNWNKDFPbuI",
        "outputId": "15ecdc8e-6f40-4422-f8e3-f728bac75cff",
        "colab": {
          "base_uri": "https://localhost:8080/",
          "height": 173
        }
      },
      "source": [
        "learn.fit_one_cycle(4, slice(2e-3/100, 2e-3))"
      ],
      "execution_count": 36,
      "outputs": [
        {
          "output_type": "display_data",
          "data": {
            "text/html": [
              "<table border=\"1\" class=\"dataframe\">\n",
              "  <thead>\n",
              "    <tr style=\"text-align: left;\">\n",
              "      <th>epoch</th>\n",
              "      <th>train_loss</th>\n",
              "      <th>valid_loss</th>\n",
              "      <th>accuracy</th>\n",
              "      <th>time</th>\n",
              "    </tr>\n",
              "  </thead>\n",
              "  <tbody>\n",
              "    <tr>\n",
              "      <td>0</td>\n",
              "      <td>2.389088</td>\n",
              "      <td>3.169951</td>\n",
              "      <td>0.386555</td>\n",
              "      <td>01:02</td>\n",
              "    </tr>\n",
              "    <tr>\n",
              "      <td>1</td>\n",
              "      <td>2.338293</td>\n",
              "      <td>3.066400</td>\n",
              "      <td>0.403361</td>\n",
              "      <td>01:04</td>\n",
              "    </tr>\n",
              "    <tr>\n",
              "      <td>2</td>\n",
              "      <td>2.200472</td>\n",
              "      <td>3.074890</td>\n",
              "      <td>0.428571</td>\n",
              "      <td>01:12</td>\n",
              "    </tr>\n",
              "    <tr>\n",
              "      <td>3</td>\n",
              "      <td>2.033156</td>\n",
              "      <td>3.033796</td>\n",
              "      <td>0.453782</td>\n",
              "      <td>01:09</td>\n",
              "    </tr>\n",
              "  </tbody>\n",
              "</table>"
            ],
            "text/plain": [
              "<IPython.core.display.HTML object>"
            ]
          },
          "metadata": {
            "tags": []
          }
        }
      ]
    },
    {
      "cell_type": "code",
      "metadata": {
        "id": "rKrBTZ0T1uVA",
        "outputId": "90a8d0bf-482c-45eb-dce0-c186949d9229",
        "colab": {
          "base_uri": "https://localhost:8080/",
          "height": 173
        }
      },
      "source": [
        "learn.fit_one_cycle(4, slice(2e-3/100, 2e-3))"
      ],
      "execution_count": 37,
      "outputs": [
        {
          "output_type": "display_data",
          "data": {
            "text/html": [
              "<table border=\"1\" class=\"dataframe\">\n",
              "  <thead>\n",
              "    <tr style=\"text-align: left;\">\n",
              "      <th>epoch</th>\n",
              "      <th>train_loss</th>\n",
              "      <th>valid_loss</th>\n",
              "      <th>accuracy</th>\n",
              "      <th>time</th>\n",
              "    </tr>\n",
              "  </thead>\n",
              "  <tbody>\n",
              "    <tr>\n",
              "      <td>0</td>\n",
              "      <td>1.916799</td>\n",
              "      <td>3.004474</td>\n",
              "      <td>0.462185</td>\n",
              "      <td>01:07</td>\n",
              "    </tr>\n",
              "    <tr>\n",
              "      <td>1</td>\n",
              "      <td>1.867114</td>\n",
              "      <td>3.045572</td>\n",
              "      <td>0.445378</td>\n",
              "      <td>01:06</td>\n",
              "    </tr>\n",
              "    <tr>\n",
              "      <td>2</td>\n",
              "      <td>1.736668</td>\n",
              "      <td>3.074270</td>\n",
              "      <td>0.445378</td>\n",
              "      <td>01:06</td>\n",
              "    </tr>\n",
              "    <tr>\n",
              "      <td>3</td>\n",
              "      <td>1.606030</td>\n",
              "      <td>3.032726</td>\n",
              "      <td>0.462185</td>\n",
              "      <td>01:08</td>\n",
              "    </tr>\n",
              "  </tbody>\n",
              "</table>"
            ],
            "text/plain": [
              "<IPython.core.display.HTML object>"
            ]
          },
          "metadata": {
            "tags": []
          }
        }
      ]
    },
    {
      "cell_type": "code",
      "metadata": {
        "id": "ajQC6WDg1yA9",
        "outputId": "27e875d1-3e08-4184-db90-f40732a55e67",
        "colab": {
          "base_uri": "https://localhost:8080/",
          "height": 173
        }
      },
      "source": [
        "learn.fit_one_cycle(4, slice(2e-3/100, 2e-3))"
      ],
      "execution_count": 38,
      "outputs": [
        {
          "output_type": "display_data",
          "data": {
            "text/html": [
              "<table border=\"1\" class=\"dataframe\">\n",
              "  <thead>\n",
              "    <tr style=\"text-align: left;\">\n",
              "      <th>epoch</th>\n",
              "      <th>train_loss</th>\n",
              "      <th>valid_loss</th>\n",
              "      <th>accuracy</th>\n",
              "      <th>time</th>\n",
              "    </tr>\n",
              "  </thead>\n",
              "  <tbody>\n",
              "    <tr>\n",
              "      <td>0</td>\n",
              "      <td>1.497773</td>\n",
              "      <td>3.010112</td>\n",
              "      <td>0.470588</td>\n",
              "      <td>01:07</td>\n",
              "    </tr>\n",
              "    <tr>\n",
              "      <td>1</td>\n",
              "      <td>1.467036</td>\n",
              "      <td>3.122963</td>\n",
              "      <td>0.453782</td>\n",
              "      <td>01:08</td>\n",
              "    </tr>\n",
              "    <tr>\n",
              "      <td>2</td>\n",
              "      <td>1.364610</td>\n",
              "      <td>3.086202</td>\n",
              "      <td>0.470588</td>\n",
              "      <td>01:04</td>\n",
              "    </tr>\n",
              "    <tr>\n",
              "      <td>3</td>\n",
              "      <td>1.244555</td>\n",
              "      <td>3.070336</td>\n",
              "      <td>0.470588</td>\n",
              "      <td>01:07</td>\n",
              "    </tr>\n",
              "  </tbody>\n",
              "</table>"
            ],
            "text/plain": [
              "<IPython.core.display.HTML object>"
            ]
          },
          "metadata": {
            "tags": []
          }
        }
      ]
    },
    {
      "cell_type": "code",
      "metadata": {
        "id": "KKydb0B4BKGk",
        "outputId": "b352856b-5c7f-499e-c7fb-755a259a0b98",
        "colab": {
          "base_uri": "https://localhost:8080/",
          "height": 173
        }
      },
      "source": [
        "learn.fit_one_cycle(4, slice(2e-3/100, 2e-3))"
      ],
      "execution_count": 39,
      "outputs": [
        {
          "output_type": "display_data",
          "data": {
            "text/html": [
              "<table border=\"1\" class=\"dataframe\">\n",
              "  <thead>\n",
              "    <tr style=\"text-align: left;\">\n",
              "      <th>epoch</th>\n",
              "      <th>train_loss</th>\n",
              "      <th>valid_loss</th>\n",
              "      <th>accuracy</th>\n",
              "      <th>time</th>\n",
              "    </tr>\n",
              "  </thead>\n",
              "  <tbody>\n",
              "    <tr>\n",
              "      <td>0</td>\n",
              "      <td>1.152172</td>\n",
              "      <td>3.072099</td>\n",
              "      <td>0.436975</td>\n",
              "      <td>01:08</td>\n",
              "    </tr>\n",
              "    <tr>\n",
              "      <td>1</td>\n",
              "      <td>1.152673</td>\n",
              "      <td>3.155343</td>\n",
              "      <td>0.453782</td>\n",
              "      <td>01:08</td>\n",
              "    </tr>\n",
              "    <tr>\n",
              "      <td>2</td>\n",
              "      <td>1.074122</td>\n",
              "      <td>3.131768</td>\n",
              "      <td>0.462185</td>\n",
              "      <td>01:07</td>\n",
              "    </tr>\n",
              "    <tr>\n",
              "      <td>3</td>\n",
              "      <td>0.990669</td>\n",
              "      <td>3.133755</td>\n",
              "      <td>0.445378</td>\n",
              "      <td>01:05</td>\n",
              "    </tr>\n",
              "  </tbody>\n",
              "</table>"
            ],
            "text/plain": [
              "<IPython.core.display.HTML object>"
            ]
          },
          "metadata": {
            "tags": []
          }
        }
      ]
    },
    {
      "cell_type": "code",
      "metadata": {
        "id": "T2APKtFKBpGY",
        "outputId": "0418c280-f37a-4bbb-a661-b96502a70b82",
        "colab": {
          "base_uri": "https://localhost:8080/",
          "height": 173
        }
      },
      "source": [
        "learn.fit_one_cycle(4, slice(2e-3/100, 2e-3))"
      ],
      "execution_count": 40,
      "outputs": [
        {
          "output_type": "display_data",
          "data": {
            "text/html": [
              "<table border=\"1\" class=\"dataframe\">\n",
              "  <thead>\n",
              "    <tr style=\"text-align: left;\">\n",
              "      <th>epoch</th>\n",
              "      <th>train_loss</th>\n",
              "      <th>valid_loss</th>\n",
              "      <th>accuracy</th>\n",
              "      <th>time</th>\n",
              "    </tr>\n",
              "  </thead>\n",
              "  <tbody>\n",
              "    <tr>\n",
              "      <td>0</td>\n",
              "      <td>0.892796</td>\n",
              "      <td>3.192088</td>\n",
              "      <td>0.428571</td>\n",
              "      <td>01:04</td>\n",
              "    </tr>\n",
              "    <tr>\n",
              "      <td>1</td>\n",
              "      <td>0.932244</td>\n",
              "      <td>3.325774</td>\n",
              "      <td>0.453782</td>\n",
              "      <td>01:06</td>\n",
              "    </tr>\n",
              "    <tr>\n",
              "      <td>2</td>\n",
              "      <td>0.872955</td>\n",
              "      <td>3.382558</td>\n",
              "      <td>0.478992</td>\n",
              "      <td>01:06</td>\n",
              "    </tr>\n",
              "    <tr>\n",
              "      <td>3</td>\n",
              "      <td>0.791076</td>\n",
              "      <td>3.312671</td>\n",
              "      <td>0.478992</td>\n",
              "      <td>01:07</td>\n",
              "    </tr>\n",
              "  </tbody>\n",
              "</table>"
            ],
            "text/plain": [
              "<IPython.core.display.HTML object>"
            ]
          },
          "metadata": {
            "tags": []
          }
        }
      ]
    },
    {
      "cell_type": "code",
      "metadata": {
        "id": "qtTypA1sPgLU",
        "outputId": "d53c3b57-5542-4fdb-a2ca-183852c326fd",
        "colab": {
          "base_uri": "https://localhost:8080/",
          "height": 111
        }
      },
      "source": [
        "learn.fit_one_cycle(2, slice(2e-3/100, 2e-3))"
      ],
      "execution_count": 41,
      "outputs": [
        {
          "output_type": "display_data",
          "data": {
            "text/html": [
              "<table border=\"1\" class=\"dataframe\">\n",
              "  <thead>\n",
              "    <tr style=\"text-align: left;\">\n",
              "      <th>epoch</th>\n",
              "      <th>train_loss</th>\n",
              "      <th>valid_loss</th>\n",
              "      <th>accuracy</th>\n",
              "      <th>time</th>\n",
              "    </tr>\n",
              "  </thead>\n",
              "  <tbody>\n",
              "    <tr>\n",
              "      <td>0</td>\n",
              "      <td>0.763300</td>\n",
              "      <td>3.236764</td>\n",
              "      <td>0.462185</td>\n",
              "      <td>01:08</td>\n",
              "    </tr>\n",
              "    <tr>\n",
              "      <td>1</td>\n",
              "      <td>0.715640</td>\n",
              "      <td>3.312828</td>\n",
              "      <td>0.462185</td>\n",
              "      <td>01:07</td>\n",
              "    </tr>\n",
              "  </tbody>\n",
              "</table>"
            ],
            "text/plain": [
              "<IPython.core.display.HTML object>"
            ]
          },
          "metadata": {
            "tags": []
          }
        }
      ]
    },
    {
      "cell_type": "code",
      "metadata": {
        "id": "b242kBsTUp9Y",
        "outputId": "8f42203d-b40e-40b7-e6d8-9e2a15ff78fd",
        "colab": {
          "base_uri": "https://localhost:8080/",
          "height": 111
        }
      },
      "source": [
        "learn.fit_one_cycle(2, slice(2e-3/100, 2e-3))"
      ],
      "execution_count": 42,
      "outputs": [
        {
          "output_type": "display_data",
          "data": {
            "text/html": [
              "<table border=\"1\" class=\"dataframe\">\n",
              "  <thead>\n",
              "    <tr style=\"text-align: left;\">\n",
              "      <th>epoch</th>\n",
              "      <th>train_loss</th>\n",
              "      <th>valid_loss</th>\n",
              "      <th>accuracy</th>\n",
              "      <th>time</th>\n",
              "    </tr>\n",
              "  </thead>\n",
              "  <tbody>\n",
              "    <tr>\n",
              "      <td>0</td>\n",
              "      <td>0.709949</td>\n",
              "      <td>3.435697</td>\n",
              "      <td>0.462185</td>\n",
              "      <td>01:03</td>\n",
              "    </tr>\n",
              "    <tr>\n",
              "      <td>1</td>\n",
              "      <td>0.677598</td>\n",
              "      <td>3.435889</td>\n",
              "      <td>0.470588</td>\n",
              "      <td>01:08</td>\n",
              "    </tr>\n",
              "  </tbody>\n",
              "</table>"
            ],
            "text/plain": [
              "<IPython.core.display.HTML object>"
            ]
          },
          "metadata": {
            "tags": []
          }
        }
      ]
    },
    {
      "cell_type": "code",
      "metadata": {
        "id": "Duwf1Ih5VeDZ",
        "outputId": "d88d4859-96e1-423a-fe62-a48a776def54",
        "colab": {
          "base_uri": "https://localhost:8080/",
          "height": 80
        }
      },
      "source": [
        "learn.fit_one_cycle(1, slice(2e-3/100, 2e-3))"
      ],
      "execution_count": 43,
      "outputs": [
        {
          "output_type": "display_data",
          "data": {
            "text/html": [
              "<table border=\"1\" class=\"dataframe\">\n",
              "  <thead>\n",
              "    <tr style=\"text-align: left;\">\n",
              "      <th>epoch</th>\n",
              "      <th>train_loss</th>\n",
              "      <th>valid_loss</th>\n",
              "      <th>accuracy</th>\n",
              "      <th>time</th>\n",
              "    </tr>\n",
              "  </thead>\n",
              "  <tbody>\n",
              "    <tr>\n",
              "      <td>0</td>\n",
              "      <td>0.633214</td>\n",
              "      <td>3.535992</td>\n",
              "      <td>0.478992</td>\n",
              "      <td>01:07</td>\n",
              "    </tr>\n",
              "  </tbody>\n",
              "</table>"
            ],
            "text/plain": [
              "<IPython.core.display.HTML object>"
            ]
          },
          "metadata": {
            "tags": []
          }
        }
      ]
    },
    {
      "cell_type": "code",
      "metadata": {
        "id": "c65d-osfDUXm"
      },
      "source": [
        "# save the best model\n",
        "\n",
        "learn.save_encoder('TwADR_pubmed_fold3')"
      ],
      "execution_count": 44,
      "outputs": []
    },
    {
      "cell_type": "code",
      "metadata": {
        "id": "5h-A_GpAIYg8",
        "outputId": "bfd0b27a-c4f5-4691-f973-a0f6440ab641",
        "colab": {
          "base_uri": "https://localhost:8080/",
          "height": 80
        }
      },
      "source": [
        "learn.fit_one_cycle(1, slice(2e-3/100, 2e-3))"
      ],
      "execution_count": 45,
      "outputs": [
        {
          "output_type": "display_data",
          "data": {
            "text/html": [
              "<table border=\"1\" class=\"dataframe\">\n",
              "  <thead>\n",
              "    <tr style=\"text-align: left;\">\n",
              "      <th>epoch</th>\n",
              "      <th>train_loss</th>\n",
              "      <th>valid_loss</th>\n",
              "      <th>accuracy</th>\n",
              "      <th>time</th>\n",
              "    </tr>\n",
              "  </thead>\n",
              "  <tbody>\n",
              "    <tr>\n",
              "      <td>0</td>\n",
              "      <td>0.616367</td>\n",
              "      <td>3.631483</td>\n",
              "      <td>0.453782</td>\n",
              "      <td>01:08</td>\n",
              "    </tr>\n",
              "  </tbody>\n",
              "</table>"
            ],
            "text/plain": [
              "<IPython.core.display.HTML object>"
            ]
          },
          "metadata": {
            "tags": []
          }
        }
      ]
    },
    {
      "cell_type": "code",
      "metadata": {
        "id": "qc4poYxzIwca",
        "outputId": "603ae8ff-2a71-47a5-929c-68546d9b0f21",
        "colab": {
          "base_uri": "https://localhost:8080/",
          "height": 80
        }
      },
      "source": [
        "learn.fit_one_cycle(1, slice(2e-3/100, 2e-3))"
      ],
      "execution_count": 46,
      "outputs": [
        {
          "output_type": "display_data",
          "data": {
            "text/html": [
              "<table border=\"1\" class=\"dataframe\">\n",
              "  <thead>\n",
              "    <tr style=\"text-align: left;\">\n",
              "      <th>epoch</th>\n",
              "      <th>train_loss</th>\n",
              "      <th>valid_loss</th>\n",
              "      <th>accuracy</th>\n",
              "      <th>time</th>\n",
              "    </tr>\n",
              "  </thead>\n",
              "  <tbody>\n",
              "    <tr>\n",
              "      <td>0</td>\n",
              "      <td>0.568166</td>\n",
              "      <td>3.646473</td>\n",
              "      <td>0.428571</td>\n",
              "      <td>01:03</td>\n",
              "    </tr>\n",
              "  </tbody>\n",
              "</table>"
            ],
            "text/plain": [
              "<IPython.core.display.HTML object>"
            ]
          },
          "metadata": {
            "tags": []
          }
        }
      ]
    },
    {
      "cell_type": "code",
      "metadata": {
        "id": "66s4PxV1JVfo",
        "outputId": "1855b0f7-0aca-430c-aebb-d6be6c62a7cc",
        "colab": {
          "base_uri": "https://localhost:8080/",
          "height": 80
        }
      },
      "source": [
        "learn.fit_one_cycle(1, slice(2e-3/100, 2e-3))"
      ],
      "execution_count": 47,
      "outputs": [
        {
          "output_type": "display_data",
          "data": {
            "text/html": [
              "<table border=\"1\" class=\"dataframe\">\n",
              "  <thead>\n",
              "    <tr style=\"text-align: left;\">\n",
              "      <th>epoch</th>\n",
              "      <th>train_loss</th>\n",
              "      <th>valid_loss</th>\n",
              "      <th>accuracy</th>\n",
              "      <th>time</th>\n",
              "    </tr>\n",
              "  </thead>\n",
              "  <tbody>\n",
              "    <tr>\n",
              "      <td>0</td>\n",
              "      <td>0.560923</td>\n",
              "      <td>3.632222</td>\n",
              "      <td>0.445378</td>\n",
              "      <td>01:09</td>\n",
              "    </tr>\n",
              "  </tbody>\n",
              "</table>"
            ],
            "text/plain": [
              "<IPython.core.display.HTML object>"
            ]
          },
          "metadata": {
            "tags": []
          }
        }
      ]
    },
    {
      "cell_type": "markdown",
      "metadata": {
        "id": "rCwZU0E2RgM6"
      },
      "source": [
        "# Part three: Predict on the test dataset"
      ]
    },
    {
      "cell_type": "code",
      "metadata": {
        "id": "gDm72c-dOu7d",
        "outputId": "5fcb5527-4078-4985-da1d-fbbb6e2e7491",
        "colab": {
          "base_uri": "https://localhost:8080/",
          "height": 17
        }
      },
      "source": [
        "# use the test data for prediction\n",
        "\n",
        "preds, y = learn.get_preds(DatasetType.Test)"
      ],
      "execution_count": 48,
      "outputs": [
        {
          "output_type": "display_data",
          "data": {
            "text/html": [
              ""
            ],
            "text/plain": [
              "<IPython.core.display.HTML object>"
            ]
          },
          "metadata": {
            "tags": []
          }
        }
      ]
    },
    {
      "cell_type": "code",
      "metadata": {
        "id": "6tFSQcsWPvxn",
        "outputId": "21f392ac-3347-4d6c-e685-f972226133c2",
        "colab": {
          "base_uri": "https://localhost:8080/",
          "height": 105
        }
      },
      "source": [
        "predictions, *_ = learn.get_preds(DatasetType.Test)\n",
        "labels = np.argmax(predictions, 1)\n",
        "predict_list = labels.tolist()\n",
        "standard_list = test[0].tolist()\n",
        "\n",
        "print(len(predict_list))\n",
        "print(len(standard_list))\n",
        "\n",
        "print(predict_list)\n",
        "print(standard_list)"
      ],
      "execution_count": 49,
      "outputs": [
        {
          "output_type": "display_data",
          "data": {
            "text/html": [
              ""
            ],
            "text/plain": [
              "<IPython.core.display.HTML object>"
            ]
          },
          "metadata": {
            "tags": []
          }
        },
        {
          "output_type": "stream",
          "text": [
            "143\n",
            "143\n",
            "[2149, 1962, 1295, 1204, 978, 750, 109, 1610, 189, 1007, 233, 249, 1164, 2149, 1597, 2149, 1054, 1599, 2191, 393, 1787, 107, 1341, 1529, 2063, 232, 1373, 579, 629, 1483, 1204, 749, 749, 749, 792, 792, 792, 974, 579, 579, 579, 1308, 1942, 233, 1295, 908, 1099, 512, 974, 974, 1099, 232, 2147, 1669, 107, 1099, 1974, 1099, 1925, 1136, 1136, 1145, 749, 1204, 107, 1340, 1265, 2149, 189, 189, 2147, 1597, 1597, 1942, 1508, 749, 2074, 1484, 1787, 418, 452, 1545, 1099, 1545, 74, 1783, 1727, 1597, 1610, 1610, 1073, 824, 233, 1701, 2149, 1711, 1711, 1815, 1727, 1815, 2191, 1767, 1767, 1767, 1787, 13, 1787, 1787, 1787, 2150, 393, 393, 1787, 1815, 978, 1942, 825, 825, 792, 1915, 1099, 1936, 1936, 749, 1942, 518, 1767, 393, 13, 1787, 1720, 2081, 2149, 224, 2147, 2147, 2147, 233, 2147, 107, 2149, 452, 2149]\n",
            "[13, 16, 61, 85, 94, 97, 109, 121, 189, 203, 233, 249, 265, 276, 284, 309, 359, 392, 393, 393, 393, 426, 441, 452, 452, 452, 561, 579, 629, 712, 739, 749, 749, 749, 792, 792, 792, 792, 809, 809, 809, 822, 824, 824, 852, 908, 947, 954, 974, 974, 974, 978, 1048, 1048, 1054, 1054, 1099, 1099, 1109, 1136, 1136, 1145, 1190, 1204, 1204, 1265, 1265, 1283, 1295, 1295, 1344, 1356, 1356, 1356, 1416, 1417, 1427, 1484, 1521, 1526, 1529, 1545, 1545, 1545, 1546, 1578, 1595, 1597, 1597, 1610, 1610, 1669, 1669, 1701, 1701, 1711, 1711, 1718, 1718, 1718, 1753, 1767, 1767, 1767, 1787, 1787, 1787, 1787, 1787, 1787, 1787, 1787, 1787, 1815, 1822, 1877, 1884, 1884, 1884, 1915, 1925, 1936, 1936, 1942, 1942, 2010, 2032, 2032, 2032, 2032, 2074, 2081, 2103, 2103, 2147, 2147, 2147, 2147, 2147, 2149, 2149, 2149, 2191]\n"
          ],
          "name": "stdout"
        }
      ]
    },
    {
      "cell_type": "code",
      "metadata": {
        "id": "XIC4zufnMxtq",
        "outputId": "cf30a56d-3da3-4cdf-f155-e63cd3cce8c8",
        "colab": {
          "base_uri": "https://localhost:8080/"
        }
      },
      "source": [
        "correct_num = 0\n",
        "\n",
        "for i in range(0, len(standard_list)):\n",
        "  if predict_list[i] == standard_list[i]:\n",
        "    correct_num = correct_num+1\n",
        "  else:\n",
        "    pass\n",
        "print(correct_num)\n",
        "\n",
        "predict_accuracy = correct_num/len(predict_list)\n",
        "print(predict_accuracy)"
      ],
      "execution_count": 50,
      "outputs": [
        {
          "output_type": "stream",
          "text": [
            "49\n",
            "0.34265734265734266\n"
          ],
          "name": "stdout"
        }
      ]
    },
    {
      "cell_type": "code",
      "metadata": {
        "id": "zlKMHp1CIaRJ"
      },
      "source": [
        ""
      ],
      "execution_count": 50,
      "outputs": []
    }
  ]
}