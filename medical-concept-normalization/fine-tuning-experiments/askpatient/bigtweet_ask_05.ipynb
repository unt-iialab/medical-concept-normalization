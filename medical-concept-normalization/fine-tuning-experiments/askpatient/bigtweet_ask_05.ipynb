{
  "nbformat": 4,
  "nbformat_minor": 0,
  "metadata": {
    "accelerator": "TPU",
    "colab": {
      "name": "bigtweet_ask_05.ipynb",
      "provenance": [],
      "collapsed_sections": [],
      "include_colab_link": true
    },
    "kernelspec": {
      "display_name": "Python 3",
      "name": "python3"
    }
  },
  "cells": [
    {
      "cell_type": "markdown",
      "metadata": {
        "id": "view-in-github",
        "colab_type": "text"
      },
      "source": [
        "<a href=\"https://colab.research.google.com/github/unt-iialab/medical-concept-normalization/blob/master/medical-concept-normalization/fine-tuning-experiments/askpatient/bigtweet_ask_05.ipynb\" target=\"_parent\"><img src=\"https://colab.research.google.com/assets/colab-badge.svg\" alt=\"Open In Colab\"/></a>"
      ]
    },
    {
      "cell_type": "code",
      "metadata": {
        "id": "adSi6i2-dWxy"
      },
      "source": [
        "import os"
      ],
      "execution_count": 1,
      "outputs": []
    },
    {
      "cell_type": "code",
      "metadata": {
        "id": "E7xYCRGPjd9B"
      },
      "source": [
        "base_dir = 'medical-concept-normalization'"
      ],
      "execution_count": 2,
      "outputs": []
    },
    {
      "cell_type": "code",
      "metadata": {
        "id": "yvIW3aUDjYNS"
      },
      "source": [
        "os.mkdir(base_dir)"
      ],
      "execution_count": 3,
      "outputs": []
    },
    {
      "cell_type": "code",
      "metadata": {
        "id": "es-FFLlfk6SG"
      },
      "source": [
        "os.mkdir('medical-concept-normalization/data_collection')"
      ],
      "execution_count": 4,
      "outputs": []
    },
    {
      "cell_type": "markdown",
      "metadata": {
        "id": "0R-Guw_VoJXm"
      },
      "source": [
        "**Install fastai and clone the fastai for text classification**\n",
        "\n"
      ]
    },
    {
      "cell_type": "code",
      "metadata": {
        "id": "QVZa3Z0PmHFH",
        "outputId": "1b5a6e52-77ee-42e7-efcc-6a4b5afb00e7",
        "colab": {
          "base_uri": "https://localhost:8080/"
        }
      },
      "source": [
        "!curl https://course-v3.fast.ai/setup/colab | bash"
      ],
      "execution_count": 5,
      "outputs": [
        {
          "output_type": "stream",
          "text": [
            "  % Total    % Received % Xferd  Average Speed   Time    Time     Time  Current\n",
            "                                 Dload  Upload   Total   Spent    Left  Speed\n",
            "\r  0     0    0     0    0     0      0      0 --:--:-- --:--:-- --:--:--     0curl: (6) Could not resolve host: course-v3.fast.ai\n"
          ],
          "name": "stdout"
        }
      ]
    },
    {
      "cell_type": "code",
      "metadata": {
        "id": "_FBFFEBrmJC0",
        "outputId": "5b785024-fc7b-458c-ce98-24a50c222da3",
        "colab": {
          "base_uri": "https://localhost:8080/"
        }
      },
      "source": [
        "!git clone https://github.com/wshuyi/demo-nlp-classification-fastai.git"
      ],
      "execution_count": 6,
      "outputs": [
        {
          "output_type": "stream",
          "text": [
            "Cloning into 'demo-nlp-classification-fastai'...\n",
            "remote: Enumerating objects: 9, done.\u001b[K\n",
            "remote: Total 9 (delta 0), reused 0 (delta 0), pack-reused 9\u001b[K\n",
            "Unpacking objects: 100% (9/9), done.\n"
          ],
          "name": "stdout"
        }
      ]
    },
    {
      "cell_type": "code",
      "metadata": {
        "id": "66zfh_JqmWMU"
      },
      "source": [
        "from fastai import *\n",
        "from fastai.text import *"
      ],
      "execution_count": 7,
      "outputs": []
    },
    {
      "cell_type": "markdown",
      "metadata": {
        "id": "mNIw-yALdBU9"
      },
      "source": [
        "**Set the path of the data collections**"
      ]
    },
    {
      "cell_type": "code",
      "metadata": {
        "id": "pzH7VMh4mqCL"
      },
      "source": [
        "path = Path('medical-concept-normalization/data_collection')"
      ],
      "execution_count": 8,
      "outputs": []
    },
    {
      "cell_type": "code",
      "metadata": {
        "id": "b8fjI6yyn4aS"
      },
      "source": [
        "# training data set\n",
        "\n",
        "train_csv = path/'AskAPatient.fold-5.train.csv'\n",
        "train = pd.read_csv(train_csv, header=None)\n",
        "#train.head()\n",
        "#train.info()"
      ],
      "execution_count": 10,
      "outputs": []
    },
    {
      "cell_type": "code",
      "metadata": {
        "id": "Hmlr-bAorfHd",
        "outputId": "a39ae1d4-820e-41b5-a13f-e9d63d8aef5d",
        "colab": {
          "base_uri": "https://localhost:8080/",
          "height": 204
        }
      },
      "source": [
        "# validating data set\n",
        "\n",
        "valid = pd.read_csv(path/\"AskAPatient.fold-5.validation.csv\",header=None)\n",
        "valid.head()"
      ],
      "execution_count": 11,
      "outputs": [
        {
          "output_type": "execute_result",
          "data": {
            "text/html": [
              "<div>\n",
              "<style scoped>\n",
              "    .dataframe tbody tr th:only-of-type {\n",
              "        vertical-align: middle;\n",
              "    }\n",
              "\n",
              "    .dataframe tbody tr th {\n",
              "        vertical-align: top;\n",
              "    }\n",
              "\n",
              "    .dataframe thead th {\n",
              "        text-align: right;\n",
              "    }\n",
              "</style>\n",
              "<table border=\"1\" class=\"dataframe\">\n",
              "  <thead>\n",
              "    <tr style=\"text-align: right;\">\n",
              "      <th></th>\n",
              "      <th>0</th>\n",
              "      <th>1</th>\n",
              "    </tr>\n",
              "  </thead>\n",
              "  <tbody>\n",
              "    <tr>\n",
              "      <th>0</th>\n",
              "      <td>2</td>\n",
              "      <td>heel pain</td>\n",
              "    </tr>\n",
              "    <tr>\n",
              "      <th>1</th>\n",
              "      <td>2</td>\n",
              "      <td>heel pain</td>\n",
              "    </tr>\n",
              "    <tr>\n",
              "      <th>2</th>\n",
              "      <td>5</td>\n",
              "      <td>increase my heart rate</td>\n",
              "    </tr>\n",
              "    <tr>\n",
              "      <th>3</th>\n",
              "      <td>5</td>\n",
              "      <td>tachycardia</td>\n",
              "    </tr>\n",
              "    <tr>\n",
              "      <th>4</th>\n",
              "      <td>8</td>\n",
              "      <td>severe arthritis</td>\n",
              "    </tr>\n",
              "  </tbody>\n",
              "</table>\n",
              "</div>"
            ],
            "text/plain": [
              "   0                       1\n",
              "0  2               heel pain\n",
              "1  2               heel pain\n",
              "2  5  increase my heart rate\n",
              "3  5             tachycardia\n",
              "4  8        severe arthritis"
            ]
          },
          "metadata": {
            "tags": []
          },
          "execution_count": 11
        }
      ]
    },
    {
      "cell_type": "code",
      "metadata": {
        "id": "cOza9dfSsBud",
        "outputId": "d050c2e6-0687-4cea-d293-20df7419ea2f",
        "colab": {
          "base_uri": "https://localhost:8080/",
          "height": 204
        }
      },
      "source": [
        "# testing data set\n",
        "\n",
        "test = pd.read_csv(path/\"AskAPatient.fold-5.test.csv\",header=None)\n",
        "test.head()"
      ],
      "execution_count": 12,
      "outputs": [
        {
          "output_type": "execute_result",
          "data": {
            "text/html": [
              "<div>\n",
              "<style scoped>\n",
              "    .dataframe tbody tr th:only-of-type {\n",
              "        vertical-align: middle;\n",
              "    }\n",
              "\n",
              "    .dataframe tbody tr th {\n",
              "        vertical-align: top;\n",
              "    }\n",
              "\n",
              "    .dataframe thead th {\n",
              "        text-align: right;\n",
              "    }\n",
              "</style>\n",
              "<table border=\"1\" class=\"dataframe\">\n",
              "  <thead>\n",
              "    <tr style=\"text-align: right;\">\n",
              "      <th></th>\n",
              "      <th>0</th>\n",
              "      <th>1</th>\n",
              "    </tr>\n",
              "  </thead>\n",
              "  <tbody>\n",
              "    <tr>\n",
              "      <th>0</th>\n",
              "      <td>0</td>\n",
              "      <td>fear</td>\n",
              "    </tr>\n",
              "    <tr>\n",
              "      <th>1</th>\n",
              "      <td>0</td>\n",
              "      <td>scared to death</td>\n",
              "    </tr>\n",
              "    <tr>\n",
              "      <th>2</th>\n",
              "      <td>2</td>\n",
              "      <td>heel pain</td>\n",
              "    </tr>\n",
              "    <tr>\n",
              "      <th>3</th>\n",
              "      <td>2</td>\n",
              "      <td>heels hurt</td>\n",
              "    </tr>\n",
              "    <tr>\n",
              "      <th>4</th>\n",
              "      <td>2</td>\n",
              "      <td>pain in my right heel</td>\n",
              "    </tr>\n",
              "  </tbody>\n",
              "</table>\n",
              "</div>"
            ],
            "text/plain": [
              "   0                      1\n",
              "0  0                   fear\n",
              "1  0        scared to death\n",
              "2  2              heel pain\n",
              "3  2             heels hurt\n",
              "4  2  pain in my right heel"
            ]
          },
          "metadata": {
            "tags": []
          },
          "execution_count": 12
        }
      ]
    },
    {
      "cell_type": "code",
      "metadata": {
        "id": "Vo-YNvVYoaH6",
        "outputId": "13568111-7772-42e7-8cf7-dad9af9a0f89",
        "colab": {
          "base_uri": "https://localhost:8080/",
          "height": 17
        }
      },
      "source": [
        "# Creating DataBunch for language modelling\n",
        "\n",
        "data_lm = TextLMDataBunch.from_csv(path, 'bigtweet_ask.csv')"
      ],
      "execution_count": 13,
      "outputs": [
        {
          "output_type": "display_data",
          "data": {
            "text/html": [
              ""
            ],
            "text/plain": [
              "<IPython.core.display.HTML object>"
            ]
          },
          "metadata": {
            "tags": []
          }
        },
        {
          "output_type": "display_data",
          "data": {
            "text/html": [
              ""
            ],
            "text/plain": [
              "<IPython.core.display.HTML object>"
            ]
          },
          "metadata": {
            "tags": []
          }
        }
      ]
    },
    {
      "cell_type": "code",
      "metadata": {
        "id": "qcV-9kMnNLBf"
      },
      "source": [
        ""
      ],
      "execution_count": 13,
      "outputs": []
    },
    {
      "cell_type": "code",
      "metadata": {
        "id": "1ScY9afDsnvE"
      },
      "source": [
        "# Creating DataBunch for classification\n",
        "\n",
        "# data_clas = TextClasDataBunch.from_df(path, train, valid, test, vocab=data_lm.train_ds.vocab, bs=128)"
      ],
      "execution_count": 14,
      "outputs": []
    },
    {
      "cell_type": "code",
      "metadata": {
        "id": "gzrSdQcvey9p",
        "outputId": "5f7ce292-2755-4c44-b3fa-d3ef0230d14a",
        "colab": {
          "base_uri": "https://localhost:8080/",
          "height": 17
        }
      },
      "source": [
        "data_clas = TextClasDataBunch.from_df(path, train, valid, vocab=data_lm.train_ds.vocab, bs=128)"
      ],
      "execution_count": 15,
      "outputs": [
        {
          "output_type": "display_data",
          "data": {
            "text/html": [
              ""
            ],
            "text/plain": [
              "<IPython.core.display.HTML object>"
            ]
          },
          "metadata": {
            "tags": []
          }
        },
        {
          "output_type": "display_data",
          "data": {
            "text/html": [
              ""
            ],
            "text/plain": [
              "<IPython.core.display.HTML object>"
            ]
          },
          "metadata": {
            "tags": []
          }
        }
      ]
    },
    {
      "cell_type": "code",
      "metadata": {
        "id": "MD27Tf0Ke3ou",
        "outputId": "c3bac580-83b0-45a7-fd62-af0baaa02466",
        "colab": {
          "base_uri": "https://localhost:8080/",
          "height": 17
        }
      },
      "source": [
        "data_clas.add_test(test,label=0)\n"
      ],
      "execution_count": 16,
      "outputs": [
        {
          "output_type": "display_data",
          "data": {
            "text/html": [
              ""
            ],
            "text/plain": [
              "<IPython.core.display.HTML object>"
            ]
          },
          "metadata": {
            "tags": []
          }
        }
      ]
    },
    {
      "cell_type": "code",
      "metadata": {
        "id": "-dpjnk_rstwk"
      },
      "source": [
        "data_lm.save()\n",
        "data_clas.save()"
      ],
      "execution_count": 17,
      "outputs": []
    },
    {
      "cell_type": "code",
      "metadata": {
        "id": "4OkiJa36sw5s",
        "outputId": "326b91d9-607f-423e-9852-395e24756612",
        "colab": {
          "base_uri": "https://localhost:8080/"
        }
      },
      "source": [
        "data_lm.train_ds.vocab.itos"
      ],
      "execution_count": 18,
      "outputs": [
        {
          "output_type": "execute_result",
          "data": {
            "text/plain": [
              "['xxunk',\n",
              " 'xxpad',\n",
              " 'xxbos',\n",
              " 'xxeos',\n",
              " 'xxfld',\n",
              " 'xxmaj',\n",
              " 'xxup',\n",
              " 'xxrep',\n",
              " 'xxwrep',\n",
              " 'pain',\n",
              " 'lipitor',\n",
              " 'in',\n",
              " 'of',\n",
              " 'muscle',\n",
              " 'to',\n",
              " 'the',\n",
              " 'severe',\n",
              " 'and',\n",
              " 'my',\n",
              " 'myalgia',\n",
              " 'rt',\n",
              " 'fatigue',\n",
              " 'a',\n",
              " 'lower',\n",
              " 'loss',\n",
              " 'cramp',\n",
              " 'limb',\n",
              " 'weakness',\n",
              " 'for',\n",
              " 'disease',\n",
              " 'stomach',\n",
              " 'back',\n",
              " 'depression',\n",
              " '-',\n",
              " 'on',\n",
              " 'cramps',\n",
              " 'is',\n",
              " 'upper',\n",
              " 'gas',\n",
              " 'memory',\n",
              " 'joint',\n",
              " 'you',\n",
              " 'leg',\n",
              " 'legs',\n",
              " 'pains',\n",
              " 'i',\n",
              " 'with',\n",
              " 'headache',\n",
              " 'unable',\n",
              " 'shoulder',\n",
              " 'arthralgia',\n",
              " 'knee',\n",
              " 'neck',\n",
              " 'foot',\n",
              " 'excessive',\n",
              " 'aches',\n",
              " 'amp',\n",
              " 'hip',\n",
              " 'gastrointestinal',\n",
              " 'not',\n",
              " 'numbness',\n",
              " 'all',\n",
              " 'insomnia',\n",
              " 'arthritis',\n",
              " 'like',\n",
              " 'arthrotec',\n",
              " '/',\n",
              " 'bleeding',\n",
              " 'nausea',\n",
              " 'gluten',\n",
              " 'asthenia',\n",
              " 'tired',\n",
              " 'walk',\n",
              " 'feeling',\n",
              " 'abdominal',\n",
              " 'dizziness',\n",
              " 'walking',\n",
              " 'heart',\n",
              " 'problems',\n",
              " 'feet',\n",
              " 'difficulty',\n",
              " 'swelling',\n",
              " 'chest',\n",
              " 'muscles',\n",
              " 'hair',\n",
              " 'zocor',\n",
              " 'backache',\n",
              " 'ache',\n",
              " 'burning',\n",
              " 'at',\n",
              " 'extreme',\n",
              " 'hand',\n",
              " 'could',\n",
              " 'vision',\n",
              " 'stiffness',\n",
              " 'it',\n",
              " 'your',\n",
              " 'pins',\n",
              " 'needles',\n",
              " 'can',\n",
              " 'out',\n",
              " 'free',\n",
              " 'diarrhoea',\n",
              " 'increased',\n",
              " 'are',\n",
              " 'have',\n",
              " 'right',\n",
              " 'cramping',\n",
              " 'amnesia',\n",
              " 'sleep',\n",
              " 'skin',\n",
              " 'blood',\n",
              " 'up',\n",
              " 'very',\n",
              " 'liver',\n",
              " 'weight',\n",
              " 'or',\n",
              " 'calf',\n",
              " 'disability',\n",
              " 'from',\n",
              " 'impairment',\n",
              " 'anxiety',\n",
              " 'cholesterol',\n",
              " 'left',\n",
              " 'new',\n",
              " 'tingling',\n",
              " 'stiff',\n",
              " 'this',\n",
              " 'symptom',\n",
              " 'do',\n",
              " 'nt',\n",
              " 'about',\n",
              " 'bloating',\n",
              " 'short',\n",
              " 'what',\n",
              " 'lack',\n",
              " 'low',\n",
              " 'glutenfree',\n",
              " 'constipation',\n",
              " 'our',\n",
              " 'high',\n",
              " 'term',\n",
              " 'was',\n",
              " 'arm',\n",
              " 'celiac',\n",
              " 'disorder',\n",
              " 'sore',\n",
              " 'poor',\n",
              " 'so',\n",
              " 'balance',\n",
              " 'that',\n",
              " 'arms',\n",
              " 'be',\n",
              " 'headaches',\n",
              " 'neuropathy',\n",
              " 'voltaren',\n",
              " 'hands',\n",
              " 'get',\n",
              " 'now',\n",
              " 'blurred',\n",
              " 'pressure',\n",
              " 'body',\n",
              " 'ankle',\n",
              " 'time',\n",
              " 'tiredness',\n",
              " 'vaginal',\n",
              " 'infarction',\n",
              " 'joints',\n",
              " 'pravachol',\n",
              " 'hurt',\n",
              " 'myocardial',\n",
              " 'by',\n",
              " 'myositis',\n",
              " 'rash',\n",
              " 'vertigo',\n",
              " 'acid',\n",
              " 'sensation',\n",
              " 'more',\n",
              " 'mentally',\n",
              " 'generalised',\n",
              " 'how',\n",
              " 'itching',\n",
              " \"'s\",\n",
              " 'atrophy',\n",
              " 'attack',\n",
              " 'swollen',\n",
              " 'food',\n",
              " 'ubidecarenone',\n",
              " ',',\n",
              " ')',\n",
              " 'diabetes',\n",
              " 'painful',\n",
              " 'we',\n",
              " 'gain',\n",
              " 'upset',\n",
              " 'energy',\n",
              " 'diarrhea',\n",
              " 'me',\n",
              " 'no',\n",
              " 'feel',\n",
              " 'constant',\n",
              " 'its',\n",
              " 'illness',\n",
              " \"n't\",\n",
              " 'damage',\n",
              " 'dull',\n",
              " 'raised',\n",
              " '(',\n",
              " 'shoulders',\n",
              " 'via',\n",
              " 'dry',\n",
              " 'spasm',\n",
              " 'both',\n",
              " 'hazy',\n",
              " 'reduced',\n",
              " 'crestor',\n",
              " 'influenza',\n",
              " 'use',\n",
              " 'weak',\n",
              " 'tip',\n",
              " 'if',\n",
              " 'visual',\n",
              " 'has',\n",
              " 'bad',\n",
              " 'elbow',\n",
              " 'spasms',\n",
              " 'tendonitis',\n",
              " 'heavy',\n",
              " 'diet',\n",
              " 'libido',\n",
              " 'as',\n",
              " 'toe',\n",
              " 'dblclick',\n",
              " 'flatulence',\n",
              " 'symptoms',\n",
              " 'w',\n",
              " 'sleeping',\n",
              " 'problem',\n",
              " 'elevated',\n",
              " 'pic',\n",
              " 'movement',\n",
              " 'reflux',\n",
              " 'abnormal',\n",
              " 'irritable',\n",
              " 'exhaustion',\n",
              " 'products',\n",
              " 'mood',\n",
              " 'knees',\n",
              " 'myopathy',\n",
              " 'just',\n",
              " 'think',\n",
              " 'sclerosis',\n",
              " 'concentrate',\n",
              " 'syndrome',\n",
              " 'chronic',\n",
              " 'why',\n",
              " 'bed',\n",
              " 'thigh',\n",
              " 'throat',\n",
              " 'discomfort',\n",
              " 'fibromyalgia',\n",
              " 'vomiting',\n",
              " 'over',\n",
              " 'disturbance',\n",
              " 'flu',\n",
              " 'serum',\n",
              " 'kidney',\n",
              " 'review',\n",
              " 'lightheadedness',\n",
              " 'when',\n",
              " 'mellitus',\n",
              " 'malaise',\n",
              " 'cold',\n",
              " 'brain',\n",
              " 'off',\n",
              " 'urine',\n",
              " 'here',\n",
              " 'had',\n",
              " 'sweating',\n",
              " 'check',\n",
              " 'concentration',\n",
              " 'know',\n",
              " 'tremor',\n",
              " 'hips',\n",
              " 'simvastatin',\n",
              " 'wind',\n",
              " 'confusion',\n",
              " 'type',\n",
              " 'appetite',\n",
              " 'intolerance',\n",
              " 'love',\n",
              " 'swings',\n",
              " 'aching',\n",
              " 'head',\n",
              " 'ezetimibe',\n",
              " 'menstrual',\n",
              " 'tinnitus',\n",
              " 's',\n",
              " 'eye',\n",
              " 'soreness',\n",
              " 'eat',\n",
              " 'an',\n",
              " 'post',\n",
              " 'stairs',\n",
              " 'impaired',\n",
              " 'paraesthesia',\n",
              " 'going',\n",
              " 'make',\n",
              " 'who',\n",
              " 'calves',\n",
              " 'm',\n",
              " 'failure',\n",
              " 'finger',\n",
              " 'ankles',\n",
              " 'but',\n",
              " 'one',\n",
              " 'celebrex',\n",
              " 'esters',\n",
              " 'help',\n",
              " 'parkinson',\n",
              " 're',\n",
              " 'renal',\n",
              " 'c',\n",
              " 'thanks',\n",
              " 'peripheral',\n",
              " 'motivation',\n",
              " '1',\n",
              " 'decreased',\n",
              " 'toes',\n",
              " 'great',\n",
              " 'excruciating',\n",
              " 'injury',\n",
              " 'ibuprofen',\n",
              " 'will',\n",
              " 'heel',\n",
              " 'ascorbic',\n",
              " 'restless',\n",
              " 'palpitations',\n",
              " 'hot',\n",
              " 'mild',\n",
              " 'cough',\n",
              " 'swallowing',\n",
              " 'face',\n",
              " 'indigestion',\n",
              " 'charleyhorse',\n",
              " 'posted',\n",
              " 'dyspnoea',\n",
              " 'gfb',\n",
              " 'lupus',\n",
              " 'dark',\n",
              " 'getting',\n",
              " 'intense',\n",
              " 'night',\n",
              " 'felt',\n",
              " '2',\n",
              " 'migraine',\n",
              " 'tendon',\n",
              " 'ca',\n",
              " 'recipe',\n",
              " 'day',\n",
              " 'general',\n",
              " 'always',\n",
              " 'menopause',\n",
              " '30',\n",
              " 'some',\n",
              " 'advil',\n",
              " 'acute',\n",
              " 'lateral',\n",
              " 'multiple',\n",
              " 'life',\n",
              " 'tightness',\n",
              " 'stress',\n",
              " 'may',\n",
              " 'depressed',\n",
              " 'test',\n",
              " 'taste',\n",
              " 'gout',\n",
              " 'tips',\n",
              " 'speech',\n",
              " 'infection',\n",
              " 'down',\n",
              " 'people',\n",
              " 'oil',\n",
              " '\\r \\n ',\n",
              " 'heres',\n",
              " 'twitch',\n",
              " 'breathing',\n",
              " 'does',\n",
              " 'sensitivity',\n",
              " 'fingers',\n",
              " 'read',\n",
              " 'need',\n",
              " 'eyes',\n",
              " 'being',\n",
              " 'dreams',\n",
              " 'terrible',\n",
              " 'living',\n",
              " 'big',\n",
              " 'go',\n",
              " 'enzymes',\n",
              " 'vitamin',\n",
              " 'limbs',\n",
              " 'us',\n",
              " 'provoked',\n",
              " 'jennieo',\n",
              " 'fish',\n",
              " '3',\n",
              " 'nerve',\n",
              " 'they',\n",
              " 'mg',\n",
              " 'strength',\n",
              " 'heartburn',\n",
              " 'fog',\n",
              " 'fenofibrate',\n",
              " 'wrist',\n",
              " 'archives',\n",
              " 'there',\n",
              " 'amyotrophic',\n",
              " 'sinus',\n",
              " 'drowsy',\n",
              " 'mobility',\n",
              " 'chicken',\n",
              " 'news',\n",
              " 'trouble',\n",
              " 'should',\n",
              " 'nasal',\n",
              " 'coq10',\n",
              " 'move',\n",
              " 'function',\n",
              " 'well',\n",
              " 'today',\n",
              " 'level',\n",
              " 'aleve',\n",
              " 'bowel',\n",
              " 'ulcer',\n",
              " 'thighs',\n",
              " 'twitching',\n",
              " 'tylenol',\n",
              " 'urinary',\n",
              " 'sick',\n",
              " 'clearly',\n",
              " 'fever',\n",
              " 'did',\n",
              " 'mouth',\n",
              " 'side',\n",
              " 'want',\n",
              " '10',\n",
              " '+',\n",
              " 'lost',\n",
              " 'tight',\n",
              " 'good',\n",
              " '5',\n",
              " 'lethargy',\n",
              " 'breath',\n",
              " 'uterine',\n",
              " 'much',\n",
              " 'loose',\n",
              " 'sharp',\n",
              " 'find',\n",
              " 'numb',\n",
              " 'diclofenac',\n",
              " 'plantar',\n",
              " 'exercise',\n",
              " 'share',\n",
              " 'rheumatoid',\n",
              " 'moody',\n",
              " 'facial',\n",
              " 'been',\n",
              " 'horses',\n",
              " 'extremity',\n",
              " 'tricor',\n",
              " 'only',\n",
              " 'elbows',\n",
              " 'were',\n",
              " 'even',\n",
              " 'accident',\n",
              " 'ever',\n",
              " 'pizza',\n",
              " 'would',\n",
              " 'finding',\n",
              " '\\r \\n \\r \\n ',\n",
              " 'hardly',\n",
              " 'thoughts',\n",
              " 'those',\n",
              " 'cerebrovascular',\n",
              " 'ringing',\n",
              " 'drive',\n",
              " 'malignant',\n",
              " 'pulse',\n",
              " 'happy',\n",
              " 'fatigued',\n",
              " 'take',\n",
              " 'stamina',\n",
              " 'patients',\n",
              " 'charley',\n",
              " 'panic',\n",
              " 'best',\n",
              " 'eating',\n",
              " 'present',\n",
              " 'paracetamol',\n",
              " 'diagnosis',\n",
              " 'too',\n",
              " 'congestion',\n",
              " '4',\n",
              " 'light',\n",
              " 'please',\n",
              " 'rhabdomyolysis',\n",
              " 'tract',\n",
              " 'week',\n",
              " 'looks',\n",
              " 'article',\n",
              " 'see',\n",
              " 'issues',\n",
              " 'things',\n",
              " 'deep',\n",
              " 'mental',\n",
              " 'colic',\n",
              " 'hypertension',\n",
              " 'liptor',\n",
              " 'hunger',\n",
              " 'blog',\n",
              " 'inflammatory',\n",
              " 'barely',\n",
              " 'slurred',\n",
              " 'extremely',\n",
              " 'cookbook',\n",
              " 'erythematosus',\n",
              " 'attacks',\n",
              " 'got',\n",
              " 'system',\n",
              " 'oedema',\n",
              " 'many',\n",
              " 'osteoarthritis',\n",
              " 'difficult',\n",
              " 'als',\n",
              " 'awareness',\n",
              " 'sugar',\n",
              " 'started',\n",
              " 'strain',\n",
              " 'dr',\n",
              " 'sweats',\n",
              " 'cancer',\n",
              " 'diagnosed',\n",
              " 'shortness',\n",
              " 'achilles',\n",
              " 'between',\n",
              " 'sex',\n",
              " 'dizzy',\n",
              " 'around',\n",
              " 'hypersomnia',\n",
              " 'fasciitis',\n",
              " 'eczema',\n",
              " 'every',\n",
              " 'irregular',\n",
              " 'forgetful',\n",
              " 'sensations',\n",
              " 'still',\n",
              " 'flushing',\n",
              " 'zetia',\n",
              " 'major',\n",
              " 'area',\n",
              " 'inflammation',\n",
              " 'hard',\n",
              " 'most',\n",
              " 'gf',\n",
              " 'soup',\n",
              " 'aptyalism',\n",
              " 'safe',\n",
              " ':',\n",
              " 'creatinine',\n",
              " 'super',\n",
              " 'tension',\n",
              " 'than',\n",
              " 'atorvastatin',\n",
              " 'palsy',\n",
              " 'region',\n",
              " 'allergic',\n",
              " 'spasmodic',\n",
              " 'show',\n",
              " 'autographed',\n",
              " 'increase',\n",
              " 'top',\n",
              " 'pruritus',\n",
              " 'years',\n",
              " 'neurontin',\n",
              " 'stool',\n",
              " 'norvasc',\n",
              " 'omega-3-acid',\n",
              " 'ethyl',\n",
              " 'esters-90',\n",
              " 'inability',\n",
              " 'any',\n",
              " 'itchy',\n",
              " 'am',\n",
              " 'lopid',\n",
              " 'bell',\n",
              " 'ear',\n",
              " 'cpk',\n",
              " 'nervous',\n",
              " 'study',\n",
              " 'lot',\n",
              " 'tachycardia',\n",
              " 'lipex',\n",
              " 'rapid',\n",
              " 'story',\n",
              " 'delicious',\n",
              " 'easy',\n",
              " 'hurts',\n",
              " 'try',\n",
              " 'wheat',\n",
              " 'respiratory',\n",
              " 'natural',\n",
              " 'ability',\n",
              " 'also',\n",
              " 'asthma',\n",
              " 'morning',\n",
              " 'learn',\n",
              " 'climb',\n",
              " 'u',\n",
              " 'prednisone',\n",
              " '2014',\n",
              " 'dysfunction',\n",
              " 'sense',\n",
              " 'tolerance',\n",
              " 'scalp',\n",
              " 'foggy',\n",
              " '20',\n",
              " 'health',\n",
              " 'where',\n",
              " 'friends',\n",
              " 'bursitis',\n",
              " 'healthy',\n",
              " 'frequent',\n",
              " 'limping',\n",
              " 'first',\n",
              " 'periods',\n",
              " 'zoloft',\n",
              " 'bone',\n",
              " 'stroke',\n",
              " 'menorrhagia',\n",
              " 'horrible',\n",
              " 'looking',\n",
              " 'retention',\n",
              " 'codeine',\n",
              " 'nightmares',\n",
              " 'stand',\n",
              " 'hungry',\n",
              " 'month',\n",
              " 'non',\n",
              " 'delusional',\n",
              " 'fast',\n",
              " 'their',\n",
              " 'long',\n",
              " 'foods',\n",
              " 'abdomen',\n",
              " 'linked',\n",
              " 'support',\n",
              " 'bowl',\n",
              " 'unwell',\n",
              " 'reading',\n",
              " 'weird',\n",
              " 'ears',\n",
              " 'these',\n",
              " 'sight',\n",
              " 'went',\n",
              " 'rigidity',\n",
              " 'bread',\n",
              " 'forearm',\n",
              " 'haematuria',\n",
              " 'into',\n",
              " 'other',\n",
              " 'giveaway',\n",
              " 'thank',\n",
              " 'able',\n",
              " 'falling',\n",
              " 'bruising',\n",
              " 'inflamation',\n",
              " 'anything',\n",
              " 'bp',\n",
              " 'generally',\n",
              " 'little',\n",
              " 'co',\n",
              " 'spotting',\n",
              " 'venous',\n",
              " 'others',\n",
              " 'coeliac',\n",
              " 'stabbing',\n",
              " 'gait',\n",
              " 'after',\n",
              " 'aphasia',\n",
              " 'info',\n",
              " 'lift',\n",
              " 'rupture',\n",
              " 'heaviness',\n",
              " 'became',\n",
              " 'way',\n",
              " 'feels',\n",
              " 'ms',\n",
              " 'coronary',\n",
              " 'chocolate',\n",
              " 'levels',\n",
              " 'child',\n",
              " 'gastric',\n",
              " 'coming',\n",
              " 'blurry',\n",
              " 'really',\n",
              " 'period',\n",
              " 'red',\n",
              " 'tablet',\n",
              " 'sexual',\n",
              " 'chill',\n",
              " 'less',\n",
              " 'death',\n",
              " 'edema',\n",
              " 'quinoa',\n",
              " 'recipes',\n",
              " 'page',\n",
              " 'menopausal',\n",
              " 'degenerative',\n",
              " 'permanent',\n",
              " 'due',\n",
              " 'america',\n",
              " 'allergy',\n",
              " 'book',\n",
              " 'anger',\n",
              " 'part',\n",
              " 'before',\n",
              " 'bloated',\n",
              " 'change',\n",
              " 'own',\n",
              " 'remember',\n",
              " 'his',\n",
              " 'whole',\n",
              " 'erythema',\n",
              " 've',\n",
              " 'important',\n",
              " 'everything',\n",
              " 'sunday',\n",
              " 'muscular',\n",
              " '&',\n",
              " 'interview',\n",
              " 'without',\n",
              " 'then',\n",
              " 'paralysis',\n",
              " 'diabetic',\n",
              " 'thinking',\n",
              " 'through',\n",
              " 'cortisone',\n",
              " 'changes',\n",
              " 'sun',\n",
              " 'yes',\n",
              " 'made',\n",
              " 'year',\n",
              " 'sudden',\n",
              " 'worse',\n",
              " 'suicidal',\n",
              " 'breast',\n",
              " 'live',\n",
              " 'random',\n",
              " 'kids',\n",
              " 'interest',\n",
              " 'menstruation',\n",
              " 'digestive',\n",
              " 'irritability',\n",
              " 'sever',\n",
              " 'interesting',\n",
              " 'ached',\n",
              " 'tunnel',\n",
              " 'rise',\n",
              " 'her',\n",
              " 'sciatica',\n",
              " 'self',\n",
              " 'link',\n",
              " 'drink',\n",
              " 'omega',\n",
              " 'hey',\n",
              " 'diagnose',\n",
              " 'colitis',\n",
              " 'better',\n",
              " 'coated',\n",
              " 'musculoskeletal',\n",
              " 'transient',\n",
              " 'list',\n",
              " 'agitated',\n",
              " 'endometriosis',\n",
              " 'syncope',\n",
              " 'diovan',\n",
              " 'slight',\n",
              " 'last',\n",
              " 'q10',\n",
              " 'which',\n",
              " 'film',\n",
              " 'follow',\n",
              " 'paranoia',\n",
              " 'unhappy',\n",
              " 'bronchitis',\n",
              " 'crying',\n",
              " 'cause',\n",
              " 'never',\n",
              " 'rectal',\n",
              " 'empty',\n",
              " 'arthritic',\n",
              " 'friendly',\n",
              " '-pelvis',\n",
              " 'limp',\n",
              " 'allergies',\n",
              " 'neuralgia',\n",
              " 'talk',\n",
              " 'disc',\n",
              " 'sweat',\n",
              " 'testosterone',\n",
              " 'episode',\n",
              " 'overall',\n",
              " 'tender',\n",
              " 'convention',\n",
              " 'sides',\n",
              " 'gut',\n",
              " 'chair',\n",
              " 'hepatic',\n",
              " 'dehydration',\n",
              " 'words',\n",
              " 'condition',\n",
              " 'reasons',\n",
              " 'options',\n",
              " 'b',\n",
              " 'stools',\n",
              " 'risk',\n",
              " 'anyone',\n",
              " 'pancreatitis',\n",
              " '40',\n",
              " 'twitches',\n",
              " 'cake',\n",
              " 'thoracic',\n",
              " 'start',\n",
              " 'carpal',\n",
              " 'ty',\n",
              " 'breakfast',\n",
              " 'cycle',\n",
              " 'restaurant',\n",
              " 'spine',\n",
              " 'intestinal',\n",
              " 'fear',\n",
              " 'reaction',\n",
              " 'steatosis',\n",
              " 'enough',\n",
              " 'bladder',\n",
              " 'rate',\n",
              " 'glutened',\n",
              " '2013',\n",
              " 'lexapro',\n",
              " 'headed',\n",
              " 'someone',\n",
              " 'them',\n",
              " 'cookies',\n",
              " 'away',\n",
              " 'tongue',\n",
              " 'muscels',\n",
              " 'standing',\n",
              " 'special',\n",
              " 'eyesight',\n",
              " 'while',\n",
              " 'uterus',\n",
              " 'autoimmune',\n",
              " 'hurting',\n",
              " 'fun',\n",
              " 'disorientated',\n",
              " 'eructation',\n",
              " 'misoprostol',\n",
              " 'ask',\n",
              " 'healthier',\n",
              " 'irritation',\n",
              " 'latest',\n",
              " 'run',\n",
              " 'ideas',\n",
              " 'breaking',\n",
              " 'makes',\n",
              " 'central',\n",
              " 'personality',\n",
              " 'sure',\n",
              " 'yellow',\n",
              " 'join',\n",
              " 'next',\n",
              " 'fatique',\n",
              " 'lipidil',\n",
              " 'valentines',\n",
              " 'easily',\n",
              " 'might',\n",
              " 'ill',\n",
              " 'restaurants',\n",
              " 'gfree',\n",
              " 'hear',\n",
              " 'desire',\n",
              " 'world',\n",
              " 'market',\n",
              " 'almost',\n",
              " 'rib',\n",
              " 'aspirin',\n",
              " 'bizarre',\n",
              " 'agony',\n",
              " 'triglycerides',\n",
              " 'few',\n",
              " 'bakery',\n",
              " 'ok',\n",
              " 'alzheimer',\n",
              " 'muscel',\n",
              " 'come',\n",
              " 'something',\n",
              " 'debilitating',\n",
              " 'persistent',\n",
              " 'white',\n",
              " 'another',\n",
              " 'drowsiness',\n",
              " 'menu',\n",
              " 'morphine',\n",
              " 'community',\n",
              " 'cataflam',\n",
              " 'full',\n",
              " 'must',\n",
              " 'choking',\n",
              " 'hoarse',\n",
              " '25',\n",
              " 'intervertebral',\n",
              " 'ribs',\n",
              " 'because',\n",
              " 'haemorrhage',\n",
              " 'slightly',\n",
              " 'forearms',\n",
              " 'moodiness',\n",
              " 'sentence',\n",
              " 'fatty',\n",
              " 'lead',\n",
              " 'pinterest',\n",
              " 'constantly',\n",
              " 'flour',\n",
              " 'lets',\n",
              " 'lose',\n",
              " 'contusion',\n",
              " 'unbearable',\n",
              " 'clumsiness',\n",
              " 'neoplasm',\n",
              " 'black',\n",
              " 'look',\n",
              " 'dysphonia',\n",
              " 'place',\n",
              " 'tests',\n",
              " 'rashes',\n",
              " 'testing',\n",
              " 'tingly',\n",
              " 'dinner',\n",
              " 'caused',\n",
              " 'rice',\n",
              " 'unsteady',\n",
              " 'matters',\n",
              " '100',\n",
              " 'moderate',\n",
              " 'decrease',\n",
              " 'sensitive',\n",
              " 'mobic',\n",
              " 'infections',\n",
              " 'haematochezia',\n",
              " 'neoplastic',\n",
              " 'during',\n",
              " 'medical',\n",
              " 'lumbar',\n",
              " 'mt',\n",
              " 'cognition',\n",
              " 'tremors',\n",
              " 'camp',\n",
              " 'protein',\n",
              " 'alpha',\n",
              " 'tocopherol',\n",
              " 'potassium',\n",
              " 'awesome',\n",
              " 'limitation',\n",
              " 'ani',\n",
              " 'experience',\n",
              " 'especially',\n",
              " 'pravastatin',\n",
              " 'gi',\n",
              " 'alopecia',\n",
              " 'times',\n",
              " 'exhausted',\n",
              " 'understand',\n",
              " 'chills',\n",
              " 'slow',\n",
              " 'hyperactive',\n",
              " 'wrists',\n",
              " 'keep',\n",
              " 'weekend',\n",
              " 'mass',\n",
              " 'circulation',\n",
              " 'sleepy',\n",
              " 'affected',\n",
              " 'provide',\n",
              " 'doing',\n",
              " 'overweight',\n",
              " 'children',\n",
              " 'motor',\n",
              " 'difficulties',\n",
              " 'dizzyness',\n",
              " ...]"
            ]
          },
          "metadata": {
            "tags": []
          },
          "execution_count": 18
        }
      ]
    },
    {
      "cell_type": "code",
      "metadata": {
        "id": "yPWr03mls3VT",
        "outputId": "e5bf702a-f4f7-4e37-c08e-ba6ada8e0127",
        "colab": {
          "base_uri": "https://localhost:8080/",
          "height": 17
        }
      },
      "source": [
        "model_path = path/'models'\n",
        "model_path.mkdir(exist_ok=True)\n",
        "url = 'http://files.fast.ai/models/wt103_v1/'\n",
        "download_url(f'{url}lstm_wt103.pth', model_path/'lstm_wt103.pth')\n",
        "download_url(f'{url}itos_wt103.pkl', model_path/'itos_wt103.pkl')"
      ],
      "execution_count": 19,
      "outputs": [
        {
          "output_type": "display_data",
          "data": {
            "text/html": [
              ""
            ],
            "text/plain": [
              "<IPython.core.display.HTML object>"
            ]
          },
          "metadata": {
            "tags": []
          }
        },
        {
          "output_type": "display_data",
          "data": {
            "text/html": [
              ""
            ],
            "text/plain": [
              "<IPython.core.display.HTML object>"
            ]
          },
          "metadata": {
            "tags": []
          }
        }
      ]
    },
    {
      "cell_type": "code",
      "metadata": {
        "id": "JRzvWg8RtGGr",
        "outputId": "047e9ee5-92e2-41de-dec2-6dc6ab3525dd",
        "colab": {
          "base_uri": "https://localhost:8080/",
          "height": 34
        }
      },
      "source": [
        "learn = language_model_learner(data_lm, AWD_LSTM, drop_mult=0.5)"
      ],
      "execution_count": 20,
      "outputs": [
        {
          "output_type": "stream",
          "text": [
            "Downloading https://s3.amazonaws.com/fast-ai-modelzoo/wt103-fwd.tgz\n"
          ],
          "name": "stdout"
        },
        {
          "output_type": "display_data",
          "data": {
            "text/html": [
              ""
            ],
            "text/plain": [
              "<IPython.core.display.HTML object>"
            ]
          },
          "metadata": {
            "tags": []
          }
        }
      ]
    },
    {
      "cell_type": "code",
      "metadata": {
        "id": "xKK7GeBev7Xn",
        "outputId": "bf758ba1-9998-4183-fae9-894b52cf64e1",
        "colab": {
          "base_uri": "https://localhost:8080/",
          "height": 80
        }
      },
      "source": [
        "learn.fit_one_cycle(1, 1e-2)"
      ],
      "execution_count": 21,
      "outputs": [
        {
          "output_type": "display_data",
          "data": {
            "text/html": [
              "<table border=\"1\" class=\"dataframe\">\n",
              "  <thead>\n",
              "    <tr style=\"text-align: left;\">\n",
              "      <th>epoch</th>\n",
              "      <th>train_loss</th>\n",
              "      <th>valid_loss</th>\n",
              "      <th>accuracy</th>\n",
              "      <th>time</th>\n",
              "    </tr>\n",
              "  </thead>\n",
              "  <tbody>\n",
              "    <tr>\n",
              "      <td>0</td>\n",
              "      <td>3.234494</td>\n",
              "      <td>2.753880</td>\n",
              "      <td>0.550034</td>\n",
              "      <td>1:06:17</td>\n",
              "    </tr>\n",
              "  </tbody>\n",
              "</table>"
            ],
            "text/plain": [
              "<IPython.core.display.HTML object>"
            ]
          },
          "metadata": {
            "tags": []
          }
        }
      ]
    },
    {
      "cell_type": "code",
      "metadata": {
        "id": "iB7rHGQCwd12"
      },
      "source": [
        "# learn.fit_one_cycle(1, 1e-2)"
      ],
      "execution_count": 22,
      "outputs": []
    },
    {
      "cell_type": "code",
      "metadata": {
        "id": "_BnSuAeCwkBe"
      },
      "source": [
        "# learn.fit_one_cycle(1, 1e-3)"
      ],
      "execution_count": 23,
      "outputs": []
    },
    {
      "cell_type": "code",
      "metadata": {
        "id": "MuTm-RFjwrEX",
        "outputId": "2f6de91e-de97-4784-a280-a544c60d959c",
        "colab": {
          "base_uri": "https://localhost:8080/",
          "height": 80
        }
      },
      "source": [
        "learn.fit_one_cycle(1, 1e-3)"
      ],
      "execution_count": 24,
      "outputs": [
        {
          "output_type": "display_data",
          "data": {
            "text/html": [
              "<table border=\"1\" class=\"dataframe\">\n",
              "  <thead>\n",
              "    <tr style=\"text-align: left;\">\n",
              "      <th>epoch</th>\n",
              "      <th>train_loss</th>\n",
              "      <th>valid_loss</th>\n",
              "      <th>accuracy</th>\n",
              "      <th>time</th>\n",
              "    </tr>\n",
              "  </thead>\n",
              "  <tbody>\n",
              "    <tr>\n",
              "      <td>0</td>\n",
              "      <td>2.846207</td>\n",
              "      <td>2.700773</td>\n",
              "      <td>0.555682</td>\n",
              "      <td>1:07:31</td>\n",
              "    </tr>\n",
              "  </tbody>\n",
              "</table>"
            ],
            "text/plain": [
              "<IPython.core.display.HTML object>"
            ]
          },
          "metadata": {
            "tags": []
          }
        }
      ]
    },
    {
      "cell_type": "code",
      "metadata": {
        "id": "1Er2ExO8wr7Y"
      },
      "source": [
        "learn.save_encoder('healthnews_ask_fold5_first')"
      ],
      "execution_count": 25,
      "outputs": []
    },
    {
      "cell_type": "code",
      "metadata": {
        "id": "z52cZs2qwvad",
        "outputId": "932b28f1-060f-4d5c-bbb8-350dbc4c6ef7",
        "colab": {
          "base_uri": "https://localhost:8080/",
          "height": 80
        }
      },
      "source": [
        "learn = text_classifier_learner(data_clas,AWD_LSTM, drop_mult=0.5)\n",
        "learn.load_encoder('healthnews_ask_fold5_first')\n",
        "learn.fit_one_cycle(1, 1e-2)"
      ],
      "execution_count": 26,
      "outputs": [
        {
          "output_type": "display_data",
          "data": {
            "text/html": [
              "<table border=\"1\" class=\"dataframe\">\n",
              "  <thead>\n",
              "    <tr style=\"text-align: left;\">\n",
              "      <th>epoch</th>\n",
              "      <th>train_loss</th>\n",
              "      <th>valid_loss</th>\n",
              "      <th>accuracy</th>\n",
              "      <th>time</th>\n",
              "    </tr>\n",
              "  </thead>\n",
              "  <tbody>\n",
              "    <tr>\n",
              "      <td>0</td>\n",
              "      <td>4.088788</td>\n",
              "      <td>3.725546</td>\n",
              "      <td>0.338442</td>\n",
              "      <td>04:10</td>\n",
              "    </tr>\n",
              "  </tbody>\n",
              "</table>"
            ],
            "text/plain": [
              "<IPython.core.display.HTML object>"
            ]
          },
          "metadata": {
            "tags": []
          }
        }
      ]
    },
    {
      "cell_type": "code",
      "metadata": {
        "id": "ImwQP1PJwzxd",
        "outputId": "be44a13f-082f-4c91-bccb-6947f7742673",
        "colab": {
          "base_uri": "https://localhost:8080/",
          "height": 80
        }
      },
      "source": [
        "learn.freeze_to(-2)\n",
        "learn.fit_one_cycle(1, slice(5e-3/2., 5e-3))"
      ],
      "execution_count": 27,
      "outputs": [
        {
          "output_type": "display_data",
          "data": {
            "text/html": [
              "<table border=\"1\" class=\"dataframe\">\n",
              "  <thead>\n",
              "    <tr style=\"text-align: left;\">\n",
              "      <th>epoch</th>\n",
              "      <th>train_loss</th>\n",
              "      <th>valid_loss</th>\n",
              "      <th>accuracy</th>\n",
              "      <th>time</th>\n",
              "    </tr>\n",
              "  </thead>\n",
              "  <tbody>\n",
              "    <tr>\n",
              "      <td>0</td>\n",
              "      <td>3.138841</td>\n",
              "      <td>3.257210</td>\n",
              "      <td>0.434227</td>\n",
              "      <td>04:25</td>\n",
              "    </tr>\n",
              "  </tbody>\n",
              "</table>"
            ],
            "text/plain": [
              "<IPython.core.display.HTML object>"
            ]
          },
          "metadata": {
            "tags": []
          }
        }
      ]
    },
    {
      "cell_type": "code",
      "metadata": {
        "id": "Owff_BJXw53u",
        "outputId": "a6d5520f-f294-41e8-b161-e7d11e28b6b6",
        "colab": {
          "base_uri": "https://localhost:8080/",
          "height": 80
        }
      },
      "source": [
        "learn.unfreeze()\n",
        "learn.fit_one_cycle(1, slice(2e-3/100, 2e-3))"
      ],
      "execution_count": 28,
      "outputs": [
        {
          "output_type": "display_data",
          "data": {
            "text/html": [
              "<table border=\"1\" class=\"dataframe\">\n",
              "  <thead>\n",
              "    <tr style=\"text-align: left;\">\n",
              "      <th>epoch</th>\n",
              "      <th>train_loss</th>\n",
              "      <th>valid_loss</th>\n",
              "      <th>accuracy</th>\n",
              "      <th>time</th>\n",
              "    </tr>\n",
              "  </thead>\n",
              "  <tbody>\n",
              "    <tr>\n",
              "      <td>0</td>\n",
              "      <td>2.453557</td>\n",
              "      <td>2.771765</td>\n",
              "      <td>0.513410</td>\n",
              "      <td>10:01</td>\n",
              "    </tr>\n",
              "  </tbody>\n",
              "</table>"
            ],
            "text/plain": [
              "<IPython.core.display.HTML object>"
            ]
          },
          "metadata": {
            "tags": []
          }
        }
      ]
    },
    {
      "cell_type": "code",
      "metadata": {
        "id": "lqAyu56V8Waq",
        "outputId": "fee62e2b-df85-484d-8138-2ccd5620b479",
        "colab": {
          "base_uri": "https://localhost:8080/",
          "height": 111
        }
      },
      "source": [
        "learn.fit_one_cycle(2, slice(2e-3/100, 2e-3))"
      ],
      "execution_count": 29,
      "outputs": [
        {
          "output_type": "display_data",
          "data": {
            "text/html": [
              "<table border=\"1\" class=\"dataframe\">\n",
              "  <thead>\n",
              "    <tr style=\"text-align: left;\">\n",
              "      <th>epoch</th>\n",
              "      <th>train_loss</th>\n",
              "      <th>valid_loss</th>\n",
              "      <th>accuracy</th>\n",
              "      <th>time</th>\n",
              "    </tr>\n",
              "  </thead>\n",
              "  <tbody>\n",
              "    <tr>\n",
              "      <td>0</td>\n",
              "      <td>2.069309</td>\n",
              "      <td>2.375957</td>\n",
              "      <td>0.560664</td>\n",
              "      <td>09:27</td>\n",
              "    </tr>\n",
              "    <tr>\n",
              "      <td>1</td>\n",
              "      <td>1.806106</td>\n",
              "      <td>2.217885</td>\n",
              "      <td>0.587484</td>\n",
              "      <td>10:09</td>\n",
              "    </tr>\n",
              "  </tbody>\n",
              "</table>"
            ],
            "text/plain": [
              "<IPython.core.display.HTML object>"
            ]
          },
          "metadata": {
            "tags": []
          }
        }
      ]
    },
    {
      "cell_type": "code",
      "metadata": {
        "id": "a7I1xMRp8bUd",
        "outputId": "7805be6e-0996-45dd-ca2b-1598ddf86e2a",
        "colab": {
          "base_uri": "https://localhost:8080/",
          "height": 111
        }
      },
      "source": [
        "learn.fit_one_cycle(2, slice(2e-3/100, 2e-3))"
      ],
      "execution_count": 30,
      "outputs": [
        {
          "output_type": "display_data",
          "data": {
            "text/html": [
              "<table border=\"1\" class=\"dataframe\">\n",
              "  <thead>\n",
              "    <tr style=\"text-align: left;\">\n",
              "      <th>epoch</th>\n",
              "      <th>train_loss</th>\n",
              "      <th>valid_loss</th>\n",
              "      <th>accuracy</th>\n",
              "      <th>time</th>\n",
              "    </tr>\n",
              "  </thead>\n",
              "  <tbody>\n",
              "    <tr>\n",
              "      <td>0</td>\n",
              "      <td>1.709949</td>\n",
              "      <td>2.038651</td>\n",
              "      <td>0.624521</td>\n",
              "      <td>09:08</td>\n",
              "    </tr>\n",
              "    <tr>\n",
              "      <td>1</td>\n",
              "      <td>1.391485</td>\n",
              "      <td>1.910816</td>\n",
              "      <td>0.657727</td>\n",
              "      <td>09:41</td>\n",
              "    </tr>\n",
              "  </tbody>\n",
              "</table>"
            ],
            "text/plain": [
              "<IPython.core.display.HTML object>"
            ]
          },
          "metadata": {
            "tags": []
          }
        }
      ]
    },
    {
      "cell_type": "code",
      "metadata": {
        "id": "UAnti-XmGVfO",
        "outputId": "437c39ac-b042-4507-cb08-65099785f6ce",
        "colab": {
          "base_uri": "https://localhost:8080/",
          "height": 111
        }
      },
      "source": [
        "learn.fit_one_cycle(2, slice(2e-3/100, 2e-3))"
      ],
      "execution_count": 31,
      "outputs": [
        {
          "output_type": "display_data",
          "data": {
            "text/html": [
              "<table border=\"1\" class=\"dataframe\">\n",
              "  <thead>\n",
              "    <tr style=\"text-align: left;\">\n",
              "      <th>epoch</th>\n",
              "      <th>train_loss</th>\n",
              "      <th>valid_loss</th>\n",
              "      <th>accuracy</th>\n",
              "      <th>time</th>\n",
              "    </tr>\n",
              "  </thead>\n",
              "  <tbody>\n",
              "    <tr>\n",
              "      <td>0</td>\n",
              "      <td>1.288543</td>\n",
              "      <td>1.776322</td>\n",
              "      <td>0.676884</td>\n",
              "      <td>09:25</td>\n",
              "    </tr>\n",
              "    <tr>\n",
              "      <td>1</td>\n",
              "      <td>1.124113</td>\n",
              "      <td>1.673305</td>\n",
              "      <td>0.697318</td>\n",
              "      <td>09:58</td>\n",
              "    </tr>\n",
              "  </tbody>\n",
              "</table>"
            ],
            "text/plain": [
              "<IPython.core.display.HTML object>"
            ]
          },
          "metadata": {
            "tags": []
          }
        }
      ]
    },
    {
      "cell_type": "code",
      "metadata": {
        "id": "bIft7W25GwSu",
        "outputId": "e10f2e74-b415-47f9-a7b3-31ec77501167",
        "colab": {
          "base_uri": "https://localhost:8080/",
          "height": 111
        }
      },
      "source": [
        "learn.fit_one_cycle(2, slice(2e-3/100, 2e-3))"
      ],
      "execution_count": 32,
      "outputs": [
        {
          "output_type": "display_data",
          "data": {
            "text/html": [
              "<table border=\"1\" class=\"dataframe\">\n",
              "  <thead>\n",
              "    <tr style=\"text-align: left;\">\n",
              "      <th>epoch</th>\n",
              "      <th>train_loss</th>\n",
              "      <th>valid_loss</th>\n",
              "      <th>accuracy</th>\n",
              "      <th>time</th>\n",
              "    </tr>\n",
              "  </thead>\n",
              "  <tbody>\n",
              "    <tr>\n",
              "      <td>0</td>\n",
              "      <td>1.112898</td>\n",
              "      <td>1.595256</td>\n",
              "      <td>0.702427</td>\n",
              "      <td>10:03</td>\n",
              "    </tr>\n",
              "    <tr>\n",
              "      <td>1</td>\n",
              "      <td>0.966454</td>\n",
              "      <td>1.514425</td>\n",
              "      <td>0.729246</td>\n",
              "      <td>10:48</td>\n",
              "    </tr>\n",
              "  </tbody>\n",
              "</table>"
            ],
            "text/plain": [
              "<IPython.core.display.HTML object>"
            ]
          },
          "metadata": {
            "tags": []
          }
        }
      ]
    },
    {
      "cell_type": "code",
      "metadata": {
        "id": "EEHszVRvGyFt",
        "outputId": "e2f5e926-f7f3-4028-d850-f176976e59fb",
        "colab": {
          "base_uri": "https://localhost:8080/",
          "height": 111
        }
      },
      "source": [
        "learn.fit_one_cycle(2, slice(2e-3/100, 2e-3))"
      ],
      "execution_count": 33,
      "outputs": [
        {
          "output_type": "display_data",
          "data": {
            "text/html": [
              "<table border=\"1\" class=\"dataframe\">\n",
              "  <thead>\n",
              "    <tr style=\"text-align: left;\">\n",
              "      <th>epoch</th>\n",
              "      <th>train_loss</th>\n",
              "      <th>valid_loss</th>\n",
              "      <th>accuracy</th>\n",
              "      <th>time</th>\n",
              "    </tr>\n",
              "  </thead>\n",
              "  <tbody>\n",
              "    <tr>\n",
              "      <td>0</td>\n",
              "      <td>0.890213</td>\n",
              "      <td>1.437631</td>\n",
              "      <td>0.742018</td>\n",
              "      <td>09:46</td>\n",
              "    </tr>\n",
              "    <tr>\n",
              "      <td>1</td>\n",
              "      <td>0.778386</td>\n",
              "      <td>1.387585</td>\n",
              "      <td>0.749681</td>\n",
              "      <td>10:09</td>\n",
              "    </tr>\n",
              "  </tbody>\n",
              "</table>"
            ],
            "text/plain": [
              "<IPython.core.display.HTML object>"
            ]
          },
          "metadata": {
            "tags": []
          }
        }
      ]
    },
    {
      "cell_type": "code",
      "metadata": {
        "id": "XsHfrhCHG3dN",
        "outputId": "c9ea1418-3629-4387-9112-10c47379632e",
        "colab": {
          "base_uri": "https://localhost:8080/",
          "height": 173
        }
      },
      "source": [
        "learn.fit_one_cycle(4, slice(2e-3/100, 2e-3))"
      ],
      "execution_count": 34,
      "outputs": [
        {
          "output_type": "display_data",
          "data": {
            "text/html": [
              "<table border=\"1\" class=\"dataframe\">\n",
              "  <thead>\n",
              "    <tr style=\"text-align: left;\">\n",
              "      <th>epoch</th>\n",
              "      <th>train_loss</th>\n",
              "      <th>valid_loss</th>\n",
              "      <th>accuracy</th>\n",
              "      <th>time</th>\n",
              "    </tr>\n",
              "  </thead>\n",
              "  <tbody>\n",
              "    <tr>\n",
              "      <td>0</td>\n",
              "      <td>0.737784</td>\n",
              "      <td>1.388751</td>\n",
              "      <td>0.747126</td>\n",
              "      <td>09:47</td>\n",
              "    </tr>\n",
              "    <tr>\n",
              "      <td>1</td>\n",
              "      <td>0.738381</td>\n",
              "      <td>1.341987</td>\n",
              "      <td>0.748404</td>\n",
              "      <td>09:36</td>\n",
              "    </tr>\n",
              "    <tr>\n",
              "      <td>2</td>\n",
              "      <td>0.594983</td>\n",
              "      <td>1.314710</td>\n",
              "      <td>0.761175</td>\n",
              "      <td>09:34</td>\n",
              "    </tr>\n",
              "    <tr>\n",
              "      <td>3</td>\n",
              "      <td>0.504734</td>\n",
              "      <td>1.279004</td>\n",
              "      <td>0.766284</td>\n",
              "      <td>09:13</td>\n",
              "    </tr>\n",
              "  </tbody>\n",
              "</table>"
            ],
            "text/plain": [
              "<IPython.core.display.HTML object>"
            ]
          },
          "metadata": {
            "tags": []
          }
        }
      ]
    },
    {
      "cell_type": "code",
      "metadata": {
        "id": "0Zsd99isb9EQ",
        "outputId": "9475eace-68d0-4a46-a1ac-43ad9253d855",
        "colab": {
          "base_uri": "https://localhost:8080/",
          "height": 173
        }
      },
      "source": [
        "learn.fit_one_cycle(4, slice(2e-3/100, 2e-3))"
      ],
      "execution_count": 35,
      "outputs": [
        {
          "output_type": "display_data",
          "data": {
            "text/html": [
              "<table border=\"1\" class=\"dataframe\">\n",
              "  <thead>\n",
              "    <tr style=\"text-align: left;\">\n",
              "      <th>epoch</th>\n",
              "      <th>train_loss</th>\n",
              "      <th>valid_loss</th>\n",
              "      <th>accuracy</th>\n",
              "      <th>time</th>\n",
              "    </tr>\n",
              "  </thead>\n",
              "  <tbody>\n",
              "    <tr>\n",
              "      <td>0</td>\n",
              "      <td>0.534453</td>\n",
              "      <td>1.299568</td>\n",
              "      <td>0.753512</td>\n",
              "      <td>10:39</td>\n",
              "    </tr>\n",
              "    <tr>\n",
              "      <td>1</td>\n",
              "      <td>0.559216</td>\n",
              "      <td>1.300130</td>\n",
              "      <td>0.773946</td>\n",
              "      <td>09:48</td>\n",
              "    </tr>\n",
              "    <tr>\n",
              "      <td>2</td>\n",
              "      <td>0.446559</td>\n",
              "      <td>1.244140</td>\n",
              "      <td>0.773946</td>\n",
              "      <td>10:13</td>\n",
              "    </tr>\n",
              "    <tr>\n",
              "      <td>3</td>\n",
              "      <td>0.413912</td>\n",
              "      <td>1.233074</td>\n",
              "      <td>0.780332</td>\n",
              "      <td>10:37</td>\n",
              "    </tr>\n",
              "  </tbody>\n",
              "</table>"
            ],
            "text/plain": [
              "<IPython.core.display.HTML object>"
            ]
          },
          "metadata": {
            "tags": []
          }
        }
      ]
    },
    {
      "cell_type": "code",
      "metadata": {
        "id": "atNWNKDFPbuI",
        "outputId": "77bedef3-bfdc-405a-fe01-c1c4545034c9",
        "colab": {
          "base_uri": "https://localhost:8080/",
          "height": 173
        }
      },
      "source": [
        "learn.fit_one_cycle(4, slice(2e-3/100, 2e-3))"
      ],
      "execution_count": 36,
      "outputs": [
        {
          "output_type": "display_data",
          "data": {
            "text/html": [
              "<table border=\"1\" class=\"dataframe\">\n",
              "  <thead>\n",
              "    <tr style=\"text-align: left;\">\n",
              "      <th>epoch</th>\n",
              "      <th>train_loss</th>\n",
              "      <th>valid_loss</th>\n",
              "      <th>accuracy</th>\n",
              "      <th>time</th>\n",
              "    </tr>\n",
              "  </thead>\n",
              "  <tbody>\n",
              "    <tr>\n",
              "      <td>0</td>\n",
              "      <td>0.390579</td>\n",
              "      <td>1.277708</td>\n",
              "      <td>0.782886</td>\n",
              "      <td>10:10</td>\n",
              "    </tr>\n",
              "    <tr>\n",
              "      <td>1</td>\n",
              "      <td>0.430480</td>\n",
              "      <td>1.222498</td>\n",
              "      <td>0.789272</td>\n",
              "      <td>09:38</td>\n",
              "    </tr>\n",
              "    <tr>\n",
              "      <td>2</td>\n",
              "      <td>0.370636</td>\n",
              "      <td>1.190568</td>\n",
              "      <td>0.798212</td>\n",
              "      <td>10:05</td>\n",
              "    </tr>\n",
              "    <tr>\n",
              "      <td>3</td>\n",
              "      <td>0.329711</td>\n",
              "      <td>1.196379</td>\n",
              "      <td>0.807152</td>\n",
              "      <td>10:35</td>\n",
              "    </tr>\n",
              "  </tbody>\n",
              "</table>"
            ],
            "text/plain": [
              "<IPython.core.display.HTML object>"
            ]
          },
          "metadata": {
            "tags": []
          }
        }
      ]
    },
    {
      "cell_type": "code",
      "metadata": {
        "id": "rKrBTZ0T1uVA",
        "outputId": "9c0bfddc-9f54-442c-8ca1-981c4e24894b",
        "colab": {
          "base_uri": "https://localhost:8080/",
          "height": 173
        }
      },
      "source": [
        "learn.fit_one_cycle(4, slice(2e-3/100, 2e-3))"
      ],
      "execution_count": 37,
      "outputs": [
        {
          "output_type": "display_data",
          "data": {
            "text/html": [
              "<table border=\"1\" class=\"dataframe\">\n",
              "  <thead>\n",
              "    <tr style=\"text-align: left;\">\n",
              "      <th>epoch</th>\n",
              "      <th>train_loss</th>\n",
              "      <th>valid_loss</th>\n",
              "      <th>accuracy</th>\n",
              "      <th>time</th>\n",
              "    </tr>\n",
              "  </thead>\n",
              "  <tbody>\n",
              "    <tr>\n",
              "      <td>0</td>\n",
              "      <td>0.344719</td>\n",
              "      <td>1.188388</td>\n",
              "      <td>0.799489</td>\n",
              "      <td>09:50</td>\n",
              "    </tr>\n",
              "    <tr>\n",
              "      <td>1</td>\n",
              "      <td>0.391513</td>\n",
              "      <td>1.248484</td>\n",
              "      <td>0.795658</td>\n",
              "      <td>09:24</td>\n",
              "    </tr>\n",
              "    <tr>\n",
              "      <td>2</td>\n",
              "      <td>0.325344</td>\n",
              "      <td>1.185299</td>\n",
              "      <td>0.814815</td>\n",
              "      <td>09:47</td>\n",
              "    </tr>\n",
              "    <tr>\n",
              "      <td>3</td>\n",
              "      <td>0.276530</td>\n",
              "      <td>1.223316</td>\n",
              "      <td>0.810983</td>\n",
              "      <td>10:36</td>\n",
              "    </tr>\n",
              "  </tbody>\n",
              "</table>"
            ],
            "text/plain": [
              "<IPython.core.display.HTML object>"
            ]
          },
          "metadata": {
            "tags": []
          }
        }
      ]
    },
    {
      "cell_type": "code",
      "metadata": {
        "id": "ajQC6WDg1yA9",
        "outputId": "1597f76f-2e4b-47b0-ce65-76782231c7dc",
        "colab": {
          "base_uri": "https://localhost:8080/",
          "height": 173
        }
      },
      "source": [
        "learn.fit_one_cycle(4, slice(2e-3/100, 2e-3))"
      ],
      "execution_count": 38,
      "outputs": [
        {
          "output_type": "display_data",
          "data": {
            "text/html": [
              "<table border=\"1\" class=\"dataframe\">\n",
              "  <thead>\n",
              "    <tr style=\"text-align: left;\">\n",
              "      <th>epoch</th>\n",
              "      <th>train_loss</th>\n",
              "      <th>valid_loss</th>\n",
              "      <th>accuracy</th>\n",
              "      <th>time</th>\n",
              "    </tr>\n",
              "  </thead>\n",
              "  <tbody>\n",
              "    <tr>\n",
              "      <td>0</td>\n",
              "      <td>0.297158</td>\n",
              "      <td>1.236156</td>\n",
              "      <td>0.802043</td>\n",
              "      <td>10:17</td>\n",
              "    </tr>\n",
              "    <tr>\n",
              "      <td>1</td>\n",
              "      <td>0.314499</td>\n",
              "      <td>1.211895</td>\n",
              "      <td>0.808429</td>\n",
              "      <td>10:53</td>\n",
              "    </tr>\n",
              "    <tr>\n",
              "      <td>2</td>\n",
              "      <td>0.291970</td>\n",
              "      <td>1.174141</td>\n",
              "      <td>0.813538</td>\n",
              "      <td>09:36</td>\n",
              "    </tr>\n",
              "    <tr>\n",
              "      <td>3</td>\n",
              "      <td>0.233360</td>\n",
              "      <td>1.212694</td>\n",
              "      <td>0.817369</td>\n",
              "      <td>09:54</td>\n",
              "    </tr>\n",
              "  </tbody>\n",
              "</table>"
            ],
            "text/plain": [
              "<IPython.core.display.HTML object>"
            ]
          },
          "metadata": {
            "tags": []
          }
        }
      ]
    },
    {
      "cell_type": "code",
      "metadata": {
        "id": "KKydb0B4BKGk",
        "outputId": "2cd4ddc2-1188-47c4-f66d-7e516a940b31",
        "colab": {
          "base_uri": "https://localhost:8080/",
          "height": 173
        }
      },
      "source": [
        "learn.fit_one_cycle(4, slice(2e-3/100, 2e-3))"
      ],
      "execution_count": 39,
      "outputs": [
        {
          "output_type": "display_data",
          "data": {
            "text/html": [
              "<table border=\"1\" class=\"dataframe\">\n",
              "  <thead>\n",
              "    <tr style=\"text-align: left;\">\n",
              "      <th>epoch</th>\n",
              "      <th>train_loss</th>\n",
              "      <th>valid_loss</th>\n",
              "      <th>accuracy</th>\n",
              "      <th>time</th>\n",
              "    </tr>\n",
              "  </thead>\n",
              "  <tbody>\n",
              "    <tr>\n",
              "      <td>0</td>\n",
              "      <td>0.270989</td>\n",
              "      <td>1.266066</td>\n",
              "      <td>0.817369</td>\n",
              "      <td>10:24</td>\n",
              "    </tr>\n",
              "    <tr>\n",
              "      <td>1</td>\n",
              "      <td>0.301775</td>\n",
              "      <td>1.246006</td>\n",
              "      <td>0.810983</td>\n",
              "      <td>09:56</td>\n",
              "    </tr>\n",
              "    <tr>\n",
              "      <td>2</td>\n",
              "      <td>0.244526</td>\n",
              "      <td>1.187086</td>\n",
              "      <td>0.814815</td>\n",
              "      <td>10:06</td>\n",
              "    </tr>\n",
              "    <tr>\n",
              "      <td>3</td>\n",
              "      <td>0.221298</td>\n",
              "      <td>1.221351</td>\n",
              "      <td>0.818646</td>\n",
              "      <td>09:54</td>\n",
              "    </tr>\n",
              "  </tbody>\n",
              "</table>"
            ],
            "text/plain": [
              "<IPython.core.display.HTML object>"
            ]
          },
          "metadata": {
            "tags": []
          }
        }
      ]
    },
    {
      "cell_type": "code",
      "metadata": {
        "id": "T2APKtFKBpGY",
        "outputId": "24f2ed95-e2ad-43de-8e2b-e8bd4b09dc08",
        "colab": {
          "base_uri": "https://localhost:8080/",
          "height": 173
        }
      },
      "source": [
        "learn.fit_one_cycle(4, slice(2e-3/100, 2e-3))"
      ],
      "execution_count": 40,
      "outputs": [
        {
          "output_type": "display_data",
          "data": {
            "text/html": [
              "<table border=\"1\" class=\"dataframe\">\n",
              "  <thead>\n",
              "    <tr style=\"text-align: left;\">\n",
              "      <th>epoch</th>\n",
              "      <th>train_loss</th>\n",
              "      <th>valid_loss</th>\n",
              "      <th>accuracy</th>\n",
              "      <th>time</th>\n",
              "    </tr>\n",
              "  </thead>\n",
              "  <tbody>\n",
              "    <tr>\n",
              "      <td>0</td>\n",
              "      <td>0.224239</td>\n",
              "      <td>1.261072</td>\n",
              "      <td>0.818646</td>\n",
              "      <td>09:24</td>\n",
              "    </tr>\n",
              "    <tr>\n",
              "      <td>1</td>\n",
              "      <td>0.238754</td>\n",
              "      <td>1.192037</td>\n",
              "      <td>0.817369</td>\n",
              "      <td>10:06</td>\n",
              "    </tr>\n",
              "    <tr>\n",
              "      <td>2</td>\n",
              "      <td>0.233944</td>\n",
              "      <td>1.213533</td>\n",
              "      <td>0.823755</td>\n",
              "      <td>09:36</td>\n",
              "    </tr>\n",
              "    <tr>\n",
              "      <td>3</td>\n",
              "      <td>0.220510</td>\n",
              "      <td>1.212517</td>\n",
              "      <td>0.825032</td>\n",
              "      <td>10:09</td>\n",
              "    </tr>\n",
              "  </tbody>\n",
              "</table>"
            ],
            "text/plain": [
              "<IPython.core.display.HTML object>"
            ]
          },
          "metadata": {
            "tags": []
          }
        }
      ]
    },
    {
      "cell_type": "code",
      "metadata": {
        "id": "qtTypA1sPgLU",
        "outputId": "ddcd00a0-2023-4eb6-80f2-49be041023fc",
        "colab": {
          "base_uri": "https://localhost:8080/",
          "height": 111
        }
      },
      "source": [
        "learn.fit_one_cycle(2, slice(2e-3/100, 2e-3))"
      ],
      "execution_count": 41,
      "outputs": [
        {
          "output_type": "display_data",
          "data": {
            "text/html": [
              "<table border=\"1\" class=\"dataframe\">\n",
              "  <thead>\n",
              "    <tr style=\"text-align: left;\">\n",
              "      <th>epoch</th>\n",
              "      <th>train_loss</th>\n",
              "      <th>valid_loss</th>\n",
              "      <th>accuracy</th>\n",
              "      <th>time</th>\n",
              "    </tr>\n",
              "  </thead>\n",
              "  <tbody>\n",
              "    <tr>\n",
              "      <td>0</td>\n",
              "      <td>0.221405</td>\n",
              "      <td>1.193887</td>\n",
              "      <td>0.814815</td>\n",
              "      <td>10:07</td>\n",
              "    </tr>\n",
              "    <tr>\n",
              "      <td>1</td>\n",
              "      <td>0.213425</td>\n",
              "      <td>1.235739</td>\n",
              "      <td>0.818646</td>\n",
              "      <td>10:20</td>\n",
              "    </tr>\n",
              "  </tbody>\n",
              "</table>"
            ],
            "text/plain": [
              "<IPython.core.display.HTML object>"
            ]
          },
          "metadata": {
            "tags": []
          }
        }
      ]
    },
    {
      "cell_type": "code",
      "metadata": {
        "id": "b242kBsTUp9Y",
        "outputId": "f59388f2-f936-47d4-b4cd-edb647397b0a",
        "colab": {
          "base_uri": "https://localhost:8080/",
          "height": 111
        }
      },
      "source": [
        "learn.fit_one_cycle(2, slice(2e-3/100, 2e-3))"
      ],
      "execution_count": 42,
      "outputs": [
        {
          "output_type": "display_data",
          "data": {
            "text/html": [
              "<table border=\"1\" class=\"dataframe\">\n",
              "  <thead>\n",
              "    <tr style=\"text-align: left;\">\n",
              "      <th>epoch</th>\n",
              "      <th>train_loss</th>\n",
              "      <th>valid_loss</th>\n",
              "      <th>accuracy</th>\n",
              "      <th>time</th>\n",
              "    </tr>\n",
              "  </thead>\n",
              "  <tbody>\n",
              "    <tr>\n",
              "      <td>0</td>\n",
              "      <td>0.234647</td>\n",
              "      <td>1.283020</td>\n",
              "      <td>0.807152</td>\n",
              "      <td>10:53</td>\n",
              "    </tr>\n",
              "    <tr>\n",
              "      <td>1</td>\n",
              "      <td>0.227734</td>\n",
              "      <td>1.222953</td>\n",
              "      <td>0.822478</td>\n",
              "      <td>10:39</td>\n",
              "    </tr>\n",
              "  </tbody>\n",
              "</table>"
            ],
            "text/plain": [
              "<IPython.core.display.HTML object>"
            ]
          },
          "metadata": {
            "tags": []
          }
        }
      ]
    },
    {
      "cell_type": "code",
      "metadata": {
        "id": "Duwf1Ih5VeDZ",
        "outputId": "7966d13b-a7a2-4a6a-e9e8-8678bb8f7f7c",
        "colab": {
          "base_uri": "https://localhost:8080/",
          "height": 80
        }
      },
      "source": [
        "learn.fit_one_cycle(1, slice(2e-3/100, 2e-3))"
      ],
      "execution_count": 43,
      "outputs": [
        {
          "output_type": "display_data",
          "data": {
            "text/html": [
              "<table border=\"1\" class=\"dataframe\">\n",
              "  <thead>\n",
              "    <tr style=\"text-align: left;\">\n",
              "      <th>epoch</th>\n",
              "      <th>train_loss</th>\n",
              "      <th>valid_loss</th>\n",
              "      <th>accuracy</th>\n",
              "      <th>time</th>\n",
              "    </tr>\n",
              "  </thead>\n",
              "  <tbody>\n",
              "    <tr>\n",
              "      <td>0</td>\n",
              "      <td>0.189875</td>\n",
              "      <td>1.286569</td>\n",
              "      <td>0.813538</td>\n",
              "      <td>09:22</td>\n",
              "    </tr>\n",
              "  </tbody>\n",
              "</table>"
            ],
            "text/plain": [
              "<IPython.core.display.HTML object>"
            ]
          },
          "metadata": {
            "tags": []
          }
        }
      ]
    },
    {
      "cell_type": "code",
      "metadata": {
        "id": "c65d-osfDUXm"
      },
      "source": [
        "# save the best model\n",
        "\n",
        "learn.save_encoder('healthnews_ask_mixed_fold5')"
      ],
      "execution_count": 44,
      "outputs": []
    },
    {
      "cell_type": "markdown",
      "metadata": {
        "id": "rCwZU0E2RgM6"
      },
      "source": [
        "# Part three: Predict on the test dataset"
      ]
    },
    {
      "cell_type": "code",
      "metadata": {
        "id": "gDm72c-dOu7d",
        "outputId": "03c7770f-4c23-476b-c597-57700ed36ab2",
        "colab": {
          "base_uri": "https://localhost:8080/",
          "height": 17
        }
      },
      "source": [
        "# use the test data for prediction\n",
        "\n",
        "preds, y = learn.get_preds(DatasetType.Test)"
      ],
      "execution_count": 45,
      "outputs": [
        {
          "output_type": "display_data",
          "data": {
            "text/html": [
              ""
            ],
            "text/plain": [
              "<IPython.core.display.HTML object>"
            ]
          },
          "metadata": {
            "tags": []
          }
        }
      ]
    },
    {
      "cell_type": "code",
      "metadata": {
        "id": "6tFSQcsWPvxn",
        "outputId": "ccb0c56c-fd01-45dc-88fe-b04d0b72978e",
        "colab": {
          "base_uri": "https://localhost:8080/",
          "height": 105
        }
      },
      "source": [
        "predictions, *_ = learn.get_preds(DatasetType.Test)\n",
        "labels = np.argmax(predictions, 1)\n",
        "predict_list = labels.tolist()\n",
        "standard_list = test[0].tolist()\n",
        "\n",
        "print(len(predict_list))\n",
        "print(len(standard_list))\n",
        "\n",
        "print(predict_list)\n",
        "print(standard_list)"
      ],
      "execution_count": 46,
      "outputs": [
        {
          "output_type": "display_data",
          "data": {
            "text/html": [
              ""
            ],
            "text/plain": [
              "<IPython.core.display.HTML object>"
            ]
          },
          "metadata": {
            "tags": []
          }
        },
        {
          "output_type": "stream",
          "text": [
            "866\n",
            "866\n",
            "[0, 833, 2, 182, 111, 8, 8, 8, 100, 16, 16, 16, 19, 27, 536, 27, 816, 34, 34, 197, 37, 37, 37, 37, 37, 37, 859, 48, 544, 411, 49, 49, 49, 100, 53, 53, 53, 58, 544, 973, 832, 71, 71, 71, 71, 73, 209, 864, 79, 79, 79, 79, 79, 79, 79, 79, 79, 79, 79, 79, 79, 79, 79, 79, 79, 79, 79, 79, 79, 79, 79, 79, 79, 79, 79, 79, 79, 79, 79, 79, 79, 79, 79, 79, 79, 228, 80, 80, 220, 83, 733, 416, 92, 94, 94, 94, 94, 94, 94, 95, 96, 578, 96, 98, 100, 100, 100, 100, 100, 100, 100, 100, 100, 103, 104, 287, 107, 107, 108, 108, 108, 111, 730, 465, 111, 111, 111, 111, 289, 111, 26, 119, 163, 836, 734, 734, 125, 920, 30, 125, 125, 125, 125, 125, 135, 26, 137, 137, 344, 148, 148, 151, 157, 865, 375, 163, 166, 166, 166, 171, 172, 172, 289, 172, 172, 172, 172, 172, 172, 172, 173, 173, 214, 860, 26, 178, 181, 181, 182, 182, 183, 183, 183, 183, 183, 183, 183, 183, 184, 187, 187, 190, 190, 190, 190, 309, 462, 190, 190, 190, 190, 190, 190, 855, 193, 810, 197, 197, 197, 197, 197, 201, 202, 205, 209, 210, 210, 211, 211, 214, 214, 214, 214, 214, 214, 214, 214, 214, 214, 214, 214, 214, 214, 214, 214, 214, 265, 796, 214, 236, 214, 214, 214, 233, 106, 218, 220, 220, 220, 228, 289, 228, 228, 228, 228, 228, 228, 228, 228, 228, 228, 749, 234, 235, 236, 702, 314, 154, 237, 238, 213, 26, 689, 243, 243, 243, 243, 243, 243, 243, 243, 243, 26, 244, 765, 245, 245, 245, 245, 245, 245, 246, 246, 246, 254, 417, 746, 441, 292, 264, 265, 265, 265, 265, 265, 265, 265, 897, 265, 265, 265, 265, 265, 265, 265, 265, 265, 265, 265, 265, 265, 327, 265, 75, 79, 446, 89, 601, 269, 66, 682, 279, 279, 280, 99, 281, 281, 283, 851, 289, 289, 289, 289, 260, 289, 741, 289, 289, 289, 289, 289, 289, 289, 289, 289, 289, 614, 301, 301, 309, 265, 309, 309, 289, 309, 309, 311, 313, 313, 318, 318, 130, 260, 503, 848, 859, 859, 859, 859, 1002, 859, 326, 329, 329, 100, 334, 336, 337, 342, 342, 342, 342, 343, 343, 344, 364, 359, 359, 359, 363, 363, 364, 364, 664, 228, 391, 396, 396, 397, 402, 401, 418, 402, 408, 711, 711, 711, 711, 408, 387, 301, 415, 651, 419, 700, 419, 419, 419, 419, 419, 419, 419, 419, 424, 426, 426, 175, 427, 427, 427, 427, 427, 427, 427, 26, 26, 427, 427, 265, 430, 728, 434, 435, 437, 443, 444, 445, 391, 454, 455, 240, 649, 455, 455, 455, 455, 455, 455, 455, 458, 458, 460, 462, 873, 470, 474, 475, 475, 475, 476, 479, 543, 484, 484, 487, 491, 491, 491, 491, 662, 662, 736, 495, 382, 499, 499, 344, 503, 375, 509, 873, 517, 517, 517, 517, 517, 522, 524, 236, 530, 961, 530, 530, 530, 531, 531, 644, 532, 541, 545, 545, 545, 78, 548, 549, 788, 567, 572, 363, 896, 578, 579, 31, 31, 590, 590, 591, 591, 592, 592, 451, 597, 427, 26, 597, 597, 426, 939, 462, 610, 610, 380, 951, 76, 614, 614, 614, 619, 619, 245, 623, 623, 623, 348, 638, 643, 646, 646, 646, 646, 646, 298, 570, 652, 652, 652, 652, 659, 660, 265, 491, 662, 663, 666, 666, 198, 686, 693, 289, 698, 696, 700, 265, 706, 707, 710, 106, 711, 711, 711, 714, 716, 3, 652, 769, 739, 37, 741, 746, 405, 746, 749, 749, 861, 753, 753, 753, 753, 753, 29, 644, 9, 338, 639, 773, 772, 775, 775, 775, 775, 775, 775, 775, 778, 779, 780, 783, 847, 161, 798, 847, 802, 803, 804, 979, 901, 806, 806, 810, 809, 809, 809, 810, 810, 817, 890, 825, 826, 393, 830, 830, 830, 830, 830, 830, 830, 736, 834, 836, 494, 841, 841, 547, 844, 330, 846, 847, 372, 847, 852, 853, 853, 853, 853, 26, 26, 437, 865, 877, 884, 887, 725, 896, 896, 896, 896, 896, 896, 896, 896, 897, 645, 896, 904, 75, 915, 919, 922, 436, 927, 933, 937, 937, 937, 937, 937, 940, 948, 948, 1009, 949, 949, 949, 949, 949, 949, 949, 949, 949, 949, 949, 949, 949, 949, 949, 949, 949, 949, 949, 949, 949, 949, 949, 949, 949, 949, 949, 949, 949, 949, 949, 949, 949, 949, 949, 949, 949, 949, 949, 949, 949, 949, 949, 949, 949, 949, 949, 949, 949, 949, 949, 949, 949, 949, 949, 949, 949, 949, 949, 949, 949, 949, 949, 949, 949, 949, 949, 949, 949, 949, 949, 949, 949, 949, 949, 949, 949, 949, 949, 949, 949, 949, 949, 949, 949, 949, 949, 949, 949, 949, 949, 949, 949, 949, 949, 949, 949, 949, 949, 949, 949, 949, 950, 950, 950, 950, 950, 952, 953, 955, 956, 959, 960, 964, 964, 1004, 974, 976, 976, 979, 981, 987, 1000, 947, 992, 853, 999, 411, 999, 154, 1001, 1004, 1016, 1016, 64, 954, 1026, 1028, 1028, 1029, 1029, 1031, 1031, 1032, 1035, 1035]\n",
            "[0, 0, 2, 2, 2, 8, 8, 8, 8, 16, 16, 16, 19, 27, 27, 27, 33, 34, 34, 34, 37, 37, 37, 37, 37, 37, 38, 48, 49, 49, 49, 49, 49, 49, 53, 53, 53, 58, 62, 67, 68, 71, 71, 71, 71, 73, 76, 79, 79, 79, 79, 79, 79, 79, 79, 79, 79, 79, 79, 79, 79, 79, 79, 79, 79, 79, 79, 79, 79, 79, 79, 79, 79, 79, 79, 79, 79, 79, 79, 79, 79, 79, 79, 79, 79, 79, 80, 80, 80, 83, 88, 88, 92, 94, 94, 94, 94, 94, 94, 95, 96, 96, 96, 98, 100, 100, 100, 100, 100, 100, 100, 100, 100, 103, 104, 107, 107, 107, 108, 108, 108, 111, 111, 111, 111, 111, 111, 111, 111, 111, 114, 119, 122, 122, 122, 122, 125, 125, 125, 125, 125, 125, 125, 125, 135, 135, 137, 137, 144, 148, 148, 151, 157, 159, 163, 163, 166, 166, 166, 171, 172, 172, 172, 172, 172, 172, 172, 172, 172, 172, 173, 173, 173, 173, 173, 178, 181, 181, 182, 182, 183, 183, 183, 183, 183, 183, 183, 183, 184, 187, 187, 190, 190, 190, 190, 190, 190, 190, 190, 190, 190, 190, 190, 190, 193, 196, 197, 197, 197, 197, 197, 202, 202, 205, 209, 210, 210, 211, 211, 214, 214, 214, 214, 214, 214, 214, 214, 214, 214, 214, 214, 214, 214, 214, 214, 214, 214, 214, 214, 214, 214, 214, 214, 216, 217, 218, 220, 220, 220, 228, 228, 228, 228, 228, 228, 228, 228, 228, 228, 228, 228, 231, 234, 235, 236, 236, 236, 237, 237, 238, 238, 243, 243, 243, 243, 243, 243, 243, 243, 243, 243, 243, 243, 244, 245, 245, 245, 245, 245, 245, 245, 246, 246, 246, 254, 254, 257, 258, 258, 264, 265, 265, 265, 265, 265, 265, 265, 265, 265, 265, 265, 265, 265, 265, 265, 265, 265, 265, 265, 265, 265, 265, 265, 265, 265, 268, 268, 269, 269, 273, 274, 279, 279, 280, 280, 281, 281, 283, 286, 289, 289, 289, 289, 289, 289, 289, 289, 289, 289, 289, 289, 289, 289, 289, 289, 289, 289, 301, 301, 309, 309, 309, 309, 309, 309, 309, 311, 313, 313, 318, 318, 318, 318, 322, 325, 325, 325, 325, 325, 325, 325, 326, 329, 329, 331, 334, 336, 337, 342, 342, 342, 342, 343, 343, 344, 345, 359, 359, 359, 363, 363, 364, 364, 378, 381, 391, 396, 396, 397, 399, 401, 402, 402, 408, 408, 408, 408, 408, 408, 412, 415, 415, 419, 419, 419, 419, 419, 419, 419, 419, 419, 419, 419, 424, 426, 426, 427, 427, 427, 427, 427, 427, 427, 427, 427, 427, 427, 427, 427, 430, 430, 434, 435, 437, 443, 444, 445, 446, 454, 455, 455, 455, 455, 455, 455, 455, 455, 455, 455, 458, 458, 460, 462, 468, 470, 474, 475, 475, 475, 476, 479, 480, 484, 484, 487, 491, 491, 491, 491, 491, 491, 495, 495, 499, 499, 499, 502, 503, 509, 509, 512, 517, 517, 517, 517, 517, 522, 524, 527, 530, 530, 530, 530, 530, 531, 531, 532, 532, 541, 545, 545, 545, 547, 548, 549, 553, 567, 572, 574, 578, 578, 579, 584, 584, 590, 590, 591, 591, 592, 592, 595, 597, 597, 597, 597, 597, 598, 600, 605, 610, 610, 611, 611, 614, 614, 614, 614, 619, 619, 623, 623, 623, 623, 623, 638, 643, 646, 646, 646, 646, 646, 646, 651, 652, 652, 652, 652, 659, 660, 660, 662, 662, 664, 666, 666, 683, 686, 693, 698, 698, 702, 703, 704, 706, 707, 710, 710, 711, 711, 711, 714, 715, 719, 720, 727, 739, 741, 741, 746, 746, 746, 747, 749, 750, 753, 753, 753, 753, 753, 754, 755, 760, 768, 771, 771, 773, 775, 775, 775, 775, 775, 775, 775, 778, 779, 780, 783, 794, 795, 798, 801, 802, 803, 804, 804, 805, 806, 806, 809, 809, 809, 809, 810, 810, 817, 822, 825, 826, 827, 830, 830, 830, 830, 830, 830, 830, 831, 834, 836, 839, 841, 841, 842, 844, 845, 846, 847, 847, 847, 852, 853, 853, 853, 853, 853, 853, 861, 865, 877, 884, 887, 894, 896, 896, 896, 896, 896, 896, 896, 896, 896, 896, 896, 904, 905, 915, 919, 919, 926, 927, 933, 937, 937, 937, 937, 937, 940, 948, 948, 949, 949, 949, 949, 949, 949, 949, 949, 949, 949, 949, 949, 949, 949, 949, 949, 949, 949, 949, 949, 949, 949, 949, 949, 949, 949, 949, 949, 949, 949, 949, 949, 949, 949, 949, 949, 949, 949, 949, 949, 949, 949, 949, 949, 949, 949, 949, 949, 949, 949, 949, 949, 949, 949, 949, 949, 949, 949, 949, 949, 949, 949, 949, 949, 949, 949, 949, 949, 949, 949, 949, 949, 949, 949, 949, 949, 949, 949, 949, 949, 949, 949, 949, 949, 949, 949, 949, 949, 949, 949, 949, 949, 949, 949, 949, 949, 949, 949, 949, 949, 949, 949, 949, 950, 950, 950, 950, 950, 952, 953, 955, 956, 959, 960, 964, 964, 971, 974, 976, 976, 979, 981, 987, 990, 992, 992, 993, 999, 999, 999, 999, 1001, 1004, 1016, 1016, 1016, 1021, 1026, 1028, 1028, 1029, 1029, 1031, 1031, 1032, 1035, 1035]\n"
          ],
          "name": "stdout"
        }
      ]
    },
    {
      "cell_type": "code",
      "metadata": {
        "id": "XIC4zufnMxtq",
        "outputId": "db608cce-cb7e-4803-872a-e336dbd2bf6d",
        "colab": {
          "base_uri": "https://localhost:8080/"
        }
      },
      "source": [
        "correct_num = 0\n",
        "\n",
        "for i in range(0, len(standard_list)):\n",
        "  if predict_list[i] == standard_list[i]:\n",
        "    correct_num = correct_num+1\n",
        "  else:\n",
        "    pass\n",
        "print(correct_num)\n",
        "\n",
        "predict_accuracy = correct_num/len(predict_list)\n",
        "print(predict_accuracy)"
      ],
      "execution_count": 47,
      "outputs": [
        {
          "output_type": "stream",
          "text": [
            "668\n",
            "0.7713625866050808\n"
          ],
          "name": "stdout"
        }
      ]
    },
    {
      "cell_type": "code",
      "metadata": {
        "id": "zlKMHp1CIaRJ"
      },
      "source": [
        ""
      ],
      "execution_count": 47,
      "outputs": []
    }
  ]
}