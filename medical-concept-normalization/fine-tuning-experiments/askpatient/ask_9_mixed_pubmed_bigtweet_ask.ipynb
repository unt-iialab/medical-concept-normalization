{
  "nbformat": 4,
  "nbformat_minor": 0,
  "metadata": {
    "accelerator": "TPU",
    "colab": {
      "name": "ask_9_mixed_pubmed_bigtweet_ask.ipynb",
      "provenance": [],
      "collapsed_sections": [],
      "toc_visible": true,
      "include_colab_link": true
    },
    "kernelspec": {
      "display_name": "Python 3",
      "name": "python3"
    }
  },
  "cells": [
    {
      "cell_type": "markdown",
      "metadata": {
        "id": "view-in-github",
        "colab_type": "text"
      },
      "source": [
        "<a href=\"https://colab.research.google.com/github/unt-iialab/medical-concept-normalization/blob/master/medical-concept-normalization/fine-tuning-experiments/askpatient/ask_9_mixed_pubmed_bigtweet_ask.ipynb\" target=\"_parent\"><img src=\"https://colab.research.google.com/assets/colab-badge.svg\" alt=\"Open In Colab\"/></a>"
      ]
    },
    {
      "cell_type": "code",
      "metadata": {
        "id": "adSi6i2-dWxy"
      },
      "source": [
        "import os"
      ],
      "execution_count": 1,
      "outputs": []
    },
    {
      "cell_type": "code",
      "metadata": {
        "id": "E7xYCRGPjd9B"
      },
      "source": [
        "base_dir = 'medical-concept-normalization'"
      ],
      "execution_count": 2,
      "outputs": []
    },
    {
      "cell_type": "code",
      "metadata": {
        "id": "yvIW3aUDjYNS"
      },
      "source": [
        "os.mkdir(base_dir)"
      ],
      "execution_count": 3,
      "outputs": []
    },
    {
      "cell_type": "code",
      "metadata": {
        "id": "es-FFLlfk6SG"
      },
      "source": [
        "os.mkdir('medical-concept-normalization/data_collection')"
      ],
      "execution_count": 4,
      "outputs": []
    },
    {
      "cell_type": "markdown",
      "metadata": {
        "id": "0R-Guw_VoJXm"
      },
      "source": [
        "**Install fastai and clone the fastai for text classification**\n",
        "\n"
      ]
    },
    {
      "cell_type": "code",
      "metadata": {
        "id": "QVZa3Z0PmHFH",
        "outputId": "d5f0cee7-e1d6-4276-dfce-e5f7cb40fc48",
        "colab": {
          "base_uri": "https://localhost:8080/",
          "height": 68
        }
      },
      "source": [
        "!curl https://course-v3.fast.ai/setup/colab | bash"
      ],
      "execution_count": 5,
      "outputs": [
        {
          "output_type": "stream",
          "text": [
            "  % Total    % Received % Xferd  Average Speed   Time    Time     Time  Current\n",
            "                                 Dload  Upload   Total   Spent    Left  Speed\n",
            "\r  0     0    0     0    0     0      0      0 --:--:-- --:--:-- --:--:--     0curl: (6) Could not resolve host: course-v3.fast.ai\n"
          ],
          "name": "stdout"
        }
      ]
    },
    {
      "cell_type": "code",
      "metadata": {
        "id": "_FBFFEBrmJC0",
        "outputId": "64dfd270-89d6-451f-f01a-5e276b314c87",
        "colab": {
          "base_uri": "https://localhost:8080/",
          "height": 85
        }
      },
      "source": [
        "!git clone https://github.com/wshuyi/demo-nlp-classification-fastai.git"
      ],
      "execution_count": 6,
      "outputs": [
        {
          "output_type": "stream",
          "text": [
            "Cloning into 'demo-nlp-classification-fastai'...\n",
            "remote: Enumerating objects: 9, done.\u001b[K\n",
            "remote: Total 9 (delta 0), reused 0 (delta 0), pack-reused 9\u001b[K\n",
            "Unpacking objects: 100% (9/9), done.\n"
          ],
          "name": "stdout"
        }
      ]
    },
    {
      "cell_type": "code",
      "metadata": {
        "id": "66zfh_JqmWMU"
      },
      "source": [
        "from fastai import *\n",
        "from fastai.text import *"
      ],
      "execution_count": 7,
      "outputs": []
    },
    {
      "cell_type": "markdown",
      "metadata": {
        "id": "mNIw-yALdBU9"
      },
      "source": [
        "**Set the path of the data collections**"
      ]
    },
    {
      "cell_type": "code",
      "metadata": {
        "id": "pzH7VMh4mqCL"
      },
      "source": [
        "path = Path('medical-concept-normalization/data_collection')"
      ],
      "execution_count": 8,
      "outputs": []
    },
    {
      "cell_type": "code",
      "metadata": {
        "id": "b8fjI6yyn4aS"
      },
      "source": [
        "# training data set\n",
        "\n",
        "train_csv = path/'AskAPatient.fold-9.train.csv'\n",
        "train = pd.read_csv(train_csv, header=None)\n",
        "#train.head()\n",
        "#train.info()"
      ],
      "execution_count": 10,
      "outputs": []
    },
    {
      "cell_type": "code",
      "metadata": {
        "id": "Hmlr-bAorfHd",
        "outputId": "b1b34c8b-689b-45eb-a5dd-667412f375eb",
        "colab": {
          "base_uri": "https://localhost:8080/",
          "height": 204
        }
      },
      "source": [
        "# validating data set\n",
        "\n",
        "valid = pd.read_csv(path/\"AskAPatient.fold-9.validation.csv\",header=None)\n",
        "valid.head()"
      ],
      "execution_count": 11,
      "outputs": [
        {
          "output_type": "execute_result",
          "data": {
            "text/html": [
              "<div>\n",
              "<style scoped>\n",
              "    .dataframe tbody tr th:only-of-type {\n",
              "        vertical-align: middle;\n",
              "    }\n",
              "\n",
              "    .dataframe tbody tr th {\n",
              "        vertical-align: top;\n",
              "    }\n",
              "\n",
              "    .dataframe thead th {\n",
              "        text-align: right;\n",
              "    }\n",
              "</style>\n",
              "<table border=\"1\" class=\"dataframe\">\n",
              "  <thead>\n",
              "    <tr style=\"text-align: right;\">\n",
              "      <th></th>\n",
              "      <th>0</th>\n",
              "      <th>1</th>\n",
              "    </tr>\n",
              "  </thead>\n",
              "  <tbody>\n",
              "    <tr>\n",
              "      <th>0</th>\n",
              "      <td>3</td>\n",
              "      <td>cracking sensations in my joints</td>\n",
              "    </tr>\n",
              "    <tr>\n",
              "      <th>1</th>\n",
              "      <td>5</td>\n",
              "      <td>fast and slow heartbeat</td>\n",
              "    </tr>\n",
              "    <tr>\n",
              "      <th>2</th>\n",
              "      <td>8</td>\n",
              "      <td>arthritis</td>\n",
              "    </tr>\n",
              "    <tr>\n",
              "      <th>3</th>\n",
              "      <td>8</td>\n",
              "      <td>arthritis</td>\n",
              "    </tr>\n",
              "    <tr>\n",
              "      <th>4</th>\n",
              "      <td>8</td>\n",
              "      <td>arthritis</td>\n",
              "    </tr>\n",
              "  </tbody>\n",
              "</table>\n",
              "</div>"
            ],
            "text/plain": [
              "   0                                 1\n",
              "0  3  cracking sensations in my joints\n",
              "1  5           fast and slow heartbeat\n",
              "2  8                         arthritis\n",
              "3  8                         arthritis\n",
              "4  8                         arthritis"
            ]
          },
          "metadata": {
            "tags": []
          },
          "execution_count": 11
        }
      ]
    },
    {
      "cell_type": "code",
      "metadata": {
        "id": "cOza9dfSsBud",
        "outputId": "bb3f97e9-1816-4f77-c374-3ed9abc1afe0",
        "colab": {
          "base_uri": "https://localhost:8080/",
          "height": 204
        }
      },
      "source": [
        "# testing data set\n",
        "\n",
        "test = pd.read_csv(path/\"AskAPatient.fold-9.test.csv\",header=None)\n",
        "test.head()"
      ],
      "execution_count": 12,
      "outputs": [
        {
          "output_type": "execute_result",
          "data": {
            "text/html": [
              "<div>\n",
              "<style scoped>\n",
              "    .dataframe tbody tr th:only-of-type {\n",
              "        vertical-align: middle;\n",
              "    }\n",
              "\n",
              "    .dataframe tbody tr th {\n",
              "        vertical-align: top;\n",
              "    }\n",
              "\n",
              "    .dataframe thead th {\n",
              "        text-align: right;\n",
              "    }\n",
              "</style>\n",
              "<table border=\"1\" class=\"dataframe\">\n",
              "  <thead>\n",
              "    <tr style=\"text-align: right;\">\n",
              "      <th></th>\n",
              "      <th>0</th>\n",
              "      <th>1</th>\n",
              "    </tr>\n",
              "  </thead>\n",
              "  <tbody>\n",
              "    <tr>\n",
              "      <th>0</th>\n",
              "      <td>2</td>\n",
              "      <td>painful heels</td>\n",
              "    </tr>\n",
              "    <tr>\n",
              "      <th>1</th>\n",
              "      <td>4</td>\n",
              "      <td>Discoloration of skin [blotchy] on the neck</td>\n",
              "    </tr>\n",
              "    <tr>\n",
              "      <th>2</th>\n",
              "      <td>5</td>\n",
              "      <td>my heart rate jumped to 106</td>\n",
              "    </tr>\n",
              "    <tr>\n",
              "      <th>3</th>\n",
              "      <td>7</td>\n",
              "      <td>goiter</td>\n",
              "    </tr>\n",
              "    <tr>\n",
              "      <th>4</th>\n",
              "      <td>8</td>\n",
              "      <td>arthritis</td>\n",
              "    </tr>\n",
              "  </tbody>\n",
              "</table>\n",
              "</div>"
            ],
            "text/plain": [
              "   0                                            1\n",
              "0  2                                painful heels\n",
              "1  4  Discoloration of skin [blotchy] on the neck\n",
              "2  5                  my heart rate jumped to 106\n",
              "3  7                                       goiter\n",
              "4  8                                    arthritis"
            ]
          },
          "metadata": {
            "tags": []
          },
          "execution_count": 12
        }
      ]
    },
    {
      "cell_type": "code",
      "metadata": {
        "id": "Vo-YNvVYoaH6",
        "outputId": "74d62669-5551-4525-b922-03fa3e0128d3",
        "colab": {
          "base_uri": "https://localhost:8080/",
          "height": 17
        }
      },
      "source": [
        "# Creating DataBunch for language modelling\n",
        "\n",
        "data_lm = TextLMDataBunch.from_csv(path, 'mixed_pubmed_bigtweet_askpatient.csv')"
      ],
      "execution_count": 13,
      "outputs": [
        {
          "output_type": "display_data",
          "data": {
            "text/html": [
              ""
            ],
            "text/plain": [
              "<IPython.core.display.HTML object>"
            ]
          },
          "metadata": {
            "tags": []
          }
        },
        {
          "output_type": "display_data",
          "data": {
            "text/html": [
              ""
            ],
            "text/plain": [
              "<IPython.core.display.HTML object>"
            ]
          },
          "metadata": {
            "tags": []
          }
        }
      ]
    },
    {
      "cell_type": "code",
      "metadata": {
        "id": "qcV-9kMnNLBf"
      },
      "source": [
        ""
      ],
      "execution_count": 13,
      "outputs": []
    },
    {
      "cell_type": "code",
      "metadata": {
        "id": "1ScY9afDsnvE"
      },
      "source": [
        "# Creating DataBunch for classification\n",
        "\n",
        "# data_clas = TextClasDataBunch.from_df(path, train, valid, test, vocab=data_lm.train_ds.vocab, bs=128)"
      ],
      "execution_count": 14,
      "outputs": []
    },
    {
      "cell_type": "code",
      "metadata": {
        "id": "gzrSdQcvey9p",
        "outputId": "ec6ba454-62ba-4072-e512-340220a4235f",
        "colab": {
          "base_uri": "https://localhost:8080/",
          "height": 17
        }
      },
      "source": [
        "data_clas = TextClasDataBunch.from_df(path, train, valid, vocab=data_lm.train_ds.vocab, bs=128)"
      ],
      "execution_count": 15,
      "outputs": [
        {
          "output_type": "display_data",
          "data": {
            "text/html": [
              ""
            ],
            "text/plain": [
              "<IPython.core.display.HTML object>"
            ]
          },
          "metadata": {
            "tags": []
          }
        },
        {
          "output_type": "display_data",
          "data": {
            "text/html": [
              ""
            ],
            "text/plain": [
              "<IPython.core.display.HTML object>"
            ]
          },
          "metadata": {
            "tags": []
          }
        }
      ]
    },
    {
      "cell_type": "code",
      "metadata": {
        "id": "MD27Tf0Ke3ou",
        "outputId": "36927888-4900-45cc-8bb6-3d7b76a7c983",
        "colab": {
          "base_uri": "https://localhost:8080/",
          "height": 17
        }
      },
      "source": [
        "data_clas.add_test(test,label=0)\n"
      ],
      "execution_count": 16,
      "outputs": [
        {
          "output_type": "display_data",
          "data": {
            "text/html": [
              ""
            ],
            "text/plain": [
              "<IPython.core.display.HTML object>"
            ]
          },
          "metadata": {
            "tags": []
          }
        }
      ]
    },
    {
      "cell_type": "code",
      "metadata": {
        "id": "-dpjnk_rstwk"
      },
      "source": [
        "data_lm.save()\n",
        "data_clas.save()"
      ],
      "execution_count": 17,
      "outputs": []
    },
    {
      "cell_type": "code",
      "metadata": {
        "id": "4OkiJa36sw5s",
        "outputId": "1929b660-5446-4e24-e584-70e1b358634c",
        "colab": {
          "base_uri": "https://localhost:8080/",
          "height": 1000
        }
      },
      "source": [
        "data_lm.train_ds.vocab.itos"
      ],
      "execution_count": 18,
      "outputs": [
        {
          "output_type": "execute_result",
          "data": {
            "text/plain": [
              "['xxunk',\n",
              " 'xxpad',\n",
              " 'xxbos',\n",
              " 'xxeos',\n",
              " 'xxfld',\n",
              " 'xxmaj',\n",
              " 'xxup',\n",
              " 'xxrep',\n",
              " 'xxwrep',\n",
              " 'pain',\n",
              " 'of',\n",
              " 'the',\n",
              " 'in',\n",
              " 'lipitor',\n",
              " 'and',\n",
              " 'to',\n",
              " 'a',\n",
              " 'muscle',\n",
              " 'with',\n",
              " 'for',\n",
              " 'was',\n",
              " 'diclofenac',\n",
              " 'were',\n",
              " 'severe',\n",
              " 'on',\n",
              " 'is',\n",
              " 'my',\n",
              " 'myalgia',\n",
              " 'lower',\n",
              " 'fatigue',\n",
              " 'rt',\n",
              " 'by',\n",
              " 'loss',\n",
              " 'cramp',\n",
              " 'sodium',\n",
              " 'limb',\n",
              " 'weakness',\n",
              " 'at',\n",
              " 'disease',\n",
              " 'that',\n",
              " 'stomach',\n",
              " 'or',\n",
              " 'as',\n",
              " 'back',\n",
              " '-',\n",
              " 'depression',\n",
              " 'patients',\n",
              " 'from',\n",
              " 'this',\n",
              " 'i',\n",
              " 'not',\n",
              " 'cramps',\n",
              " 'joint',\n",
              " 'upper',\n",
              " 'gas',\n",
              " 'drug',\n",
              " 'memory',\n",
              " 'leg',\n",
              " 'mg',\n",
              " 'you',\n",
              " 'all',\n",
              " 'pains',\n",
              " 'legs',\n",
              " 'headache',\n",
              " 'be',\n",
              " 'knee',\n",
              " 'are',\n",
              " 'group',\n",
              " 'shoulder',\n",
              " 'study',\n",
              " 'arthralgia',\n",
              " 'unable',\n",
              " 'gastrointestinal',\n",
              " 'treatment',\n",
              " 'neck',\n",
              " 'arthritis',\n",
              " 'excessive',\n",
              " 'after',\n",
              " 'foot',\n",
              " 'it',\n",
              " 'aches',\n",
              " 'an',\n",
              " 'hip',\n",
              " 'amp',\n",
              " 'numbness',\n",
              " 'have',\n",
              " 'like',\n",
              " 'voltaren',\n",
              " 'insomnia',\n",
              " 'p',\n",
              " 'arthrotec',\n",
              " 'release',\n",
              " 'time',\n",
              " 'both',\n",
              " 'nausea',\n",
              " 'no',\n",
              " 'increased',\n",
              " '/',\n",
              " 'bleeding',\n",
              " 'gluten',\n",
              " 'tired',\n",
              " 'can',\n",
              " 'heart',\n",
              " 'asthenia',\n",
              " 'skin',\n",
              " 'dizziness',\n",
              " 'could',\n",
              " 'swelling',\n",
              " 'walk',\n",
              " 'feeling',\n",
              " 'abdominal',\n",
              " 'walking',\n",
              " 'blood',\n",
              " 'than',\n",
              " 'high',\n",
              " 'problems',\n",
              " 'we',\n",
              " 'out',\n",
              " 'hand',\n",
              " 'feet',\n",
              " 'up',\n",
              " 'free',\n",
              " 'difficulty',\n",
              " 'effect',\n",
              " 'more',\n",
              " 'muscles',\n",
              " 'chest',\n",
              " 'cholesterol',\n",
              " 'low',\n",
              " 'acid',\n",
              " 'new',\n",
              " 'very',\n",
              " 'hair',\n",
              " 'inflammatory',\n",
              " 'backache',\n",
              " 'vision',\n",
              " 'burning',\n",
              " 'ache',\n",
              " 'compared',\n",
              " 'stiffness',\n",
              " 'extreme',\n",
              " 'liver',\n",
              " 'zocor',\n",
              " 'weight',\n",
              " 'using',\n",
              " 'effects',\n",
              " 'your',\n",
              " 'pins',\n",
              " 'needles',\n",
              " 'between',\n",
              " 'sleep',\n",
              " 'right',\n",
              " 'diarrhoea',\n",
              " 'about',\n",
              " 'use',\n",
              " 'groups',\n",
              " 'two',\n",
              " 'cramping',\n",
              " 'h',\n",
              " 'our',\n",
              " 'has',\n",
              " 'amnesia',\n",
              " 'drugs',\n",
              " 'these',\n",
              " 'its',\n",
              " 'significantly',\n",
              " 'significant',\n",
              " 'day',\n",
              " 'concentration',\n",
              " 'impairment',\n",
              " 'one',\n",
              " 'disability',\n",
              " 'anti',\n",
              " 'anxiety',\n",
              " 'but',\n",
              " 'which',\n",
              " 'left',\n",
              " 'c',\n",
              " 'calf',\n",
              " 'potassium',\n",
              " 'had',\n",
              " 'tingling',\n",
              " 'symptom',\n",
              " 'term',\n",
              " 'used',\n",
              " 'dose',\n",
              " 'short',\n",
              " 'do',\n",
              " 'results',\n",
              " 'lack',\n",
              " 's',\n",
              " 'stiff',\n",
              " 'constipation',\n",
              " 'glutenfree',\n",
              " 'pressure',\n",
              " 'bloating',\n",
              " 'placebo',\n",
              " 'nt',\n",
              " 'also',\n",
              " 'reduced',\n",
              " 'what',\n",
              " 'over',\n",
              " 'when',\n",
              " 'efficacy',\n",
              " 'days',\n",
              " 'so',\n",
              " 'body',\n",
              " 'may',\n",
              " 'disorder',\n",
              " 'there',\n",
              " 'celiac',\n",
              " 'arm',\n",
              " 'poor',\n",
              " 'headaches',\n",
              " 'hands',\n",
              " 'been',\n",
              " 'neuropathy',\n",
              " 'acute',\n",
              " 'ds',\n",
              " 'm',\n",
              " 'arms',\n",
              " 'blurred',\n",
              " 'showed',\n",
              " 'treated',\n",
              " 'balance',\n",
              " 'visual',\n",
              " 'ml',\n",
              " 'sore',\n",
              " 'w',\n",
              " 'get',\n",
              " 'tiredness',\n",
              " 'now',\n",
              " 'topical',\n",
              " 'joints',\n",
              " 'serum',\n",
              " 'renal',\n",
              " 'different',\n",
              " 'oral',\n",
              " 'well',\n",
              " 'symptoms',\n",
              " 'ankle',\n",
              " 'administration',\n",
              " 'non',\n",
              " 'during',\n",
              " 'food',\n",
              " 'their',\n",
              " 'studies',\n",
              " 'control',\n",
              " 'sensation',\n",
              " 'rash',\n",
              " 'hurt',\n",
              " 'myocardial',\n",
              " 'mentally',\n",
              " 'infarction',\n",
              " 'diabetes',\n",
              " 'vaginal',\n",
              " 'pravachol',\n",
              " 'vertigo',\n",
              " 'rats',\n",
              " 'products',\n",
              " 'into',\n",
              " 'myositis',\n",
              " 'via',\n",
              " 'attack',\n",
              " 'energy',\n",
              " 'rate',\n",
              " 'how',\n",
              " 'itching',\n",
              " 'if',\n",
              " 'swollen',\n",
              " 'test',\n",
              " 'found',\n",
              " 'respectively',\n",
              " 'induced',\n",
              " 'atrophy',\n",
              " 'clinical',\n",
              " 'painful',\n",
              " 'generalised',\n",
              " \"'s\",\n",
              " 'atorvastatin',\n",
              " 'damage',\n",
              " 'other',\n",
              " 'levels',\n",
              " 'constant',\n",
              " 'first',\n",
              " 'hours',\n",
              " 'upset',\n",
              " 'formulations',\n",
              " 'did',\n",
              " 'decreased',\n",
              " 'method',\n",
              " 'type',\n",
              " 'formulation',\n",
              " 'nsaids',\n",
              " 'gain',\n",
              " 'who',\n",
              " 'mean',\n",
              " 'post',\n",
              " 'plasma',\n",
              " 'diarrhea',\n",
              " ')',\n",
              " 'gel',\n",
              " 'ph',\n",
              " 'raised',\n",
              " ',',\n",
              " 'effective',\n",
              " 'illness',\n",
              " 'chronic',\n",
              " 'dry',\n",
              " 'feel',\n",
              " 'dull',\n",
              " 'syndrome',\n",
              " 'only',\n",
              " 'ubidecarenone',\n",
              " 'period',\n",
              " 'diet',\n",
              " 'three',\n",
              " 'tablets',\n",
              " 'solution',\n",
              " 'me',\n",
              " 'review',\n",
              " 'n',\n",
              " 'influenza',\n",
              " 'shoulders',\n",
              " 'present',\n",
              " 'hazy',\n",
              " \"n't\",\n",
              " '(',\n",
              " 'those',\n",
              " 'movement',\n",
              " 'bad',\n",
              " 'g',\n",
              " 'urine',\n",
              " 'elevated',\n",
              " 'weak',\n",
              " 'spasm',\n",
              " 'observed',\n",
              " 'each',\n",
              " 'adverse',\n",
              " 'sleeping',\n",
              " 'd',\n",
              " 'tip',\n",
              " 'vitro',\n",
              " 'eye',\n",
              " 'ibuprofen',\n",
              " 'tendonitis',\n",
              " 'elbow',\n",
              " 'most',\n",
              " 'discomfort',\n",
              " 'tablet',\n",
              " 'crestor',\n",
              " 'week',\n",
              " 'kg',\n",
              " 'controlled',\n",
              " 'kidney',\n",
              " 'exhaustion',\n",
              " 'side',\n",
              " 'they',\n",
              " 'received',\n",
              " 'increase',\n",
              " 'heavy',\n",
              " 'level',\n",
              " 'analysis',\n",
              " 'toe',\n",
              " 'knees',\n",
              " 'less',\n",
              " 'abnormal',\n",
              " 'irritable',\n",
              " 'problem',\n",
              " 'dblclick',\n",
              " 'some',\n",
              " 'pic',\n",
              " 'spasms',\n",
              " 'data',\n",
              " 'just',\n",
              " 'patient',\n",
              " 'vomiting',\n",
              " 'function',\n",
              " 'system',\n",
              " 'analgesic',\n",
              " 'myopathy',\n",
              " 'however',\n",
              " 'daily',\n",
              " 'migraine',\n",
              " 'single',\n",
              " 'reflux',\n",
              " 'inflammation',\n",
              " 'similar',\n",
              " 'flatulence',\n",
              " 'activity',\n",
              " 'total',\n",
              " 'libido',\n",
              " 'mood',\n",
              " 'before',\n",
              " 'randomized',\n",
              " 'fibromyalgia',\n",
              " 'injury',\n",
              " 'brain',\n",
              " 'concentrate',\n",
              " 'bed',\n",
              " 'following',\n",
              " 'concentrations',\n",
              " 'think',\n",
              " 'ca',\n",
              " 'why',\n",
              " 'mild',\n",
              " 'throat',\n",
              " 'l',\n",
              " 'b',\n",
              " 'here',\n",
              " 'cold',\n",
              " 'thigh',\n",
              " 'water',\n",
              " 'weeks',\n",
              " 'sclerosis',\n",
              " 'evaluated',\n",
              " 'multiple',\n",
              " 'simvastatin',\n",
              " 'under',\n",
              " 'model',\n",
              " 'mellitus',\n",
              " 'osteoarthritis',\n",
              " 'good',\n",
              " 'obtained',\n",
              " 'years',\n",
              " 'eyes',\n",
              " 'flu',\n",
              " 'while',\n",
              " 'based',\n",
              " 'therapy',\n",
              " 'nsaid',\n",
              " 'surgery',\n",
              " 'difference',\n",
              " 'due',\n",
              " 'menstrual',\n",
              " 't',\n",
              " 'dissolution',\n",
              " 'disturbance',\n",
              " 'will',\n",
              " 'healthy',\n",
              " 'check',\n",
              " 'off',\n",
              " 'oil',\n",
              " 'malaise',\n",
              " 'changes',\n",
              " 'know',\n",
              " 'higher',\n",
              " 'failure',\n",
              " 'sweating',\n",
              " 'relief',\n",
              " 'should',\n",
              " 'any',\n",
              " 'impaired',\n",
              " 'lightheadedness',\n",
              " 'double',\n",
              " 'head',\n",
              " 'cell',\n",
              " 'life',\n",
              " 'help',\n",
              " 'confusion',\n",
              " 'being',\n",
              " 'application',\n",
              " 'postoperative',\n",
              " 'tremor',\n",
              " 'combination',\n",
              " 'hips',\n",
              " 'tinnitus',\n",
              " 'area',\n",
              " 'order',\n",
              " 'ezetimibe',\n",
              " 'wind',\n",
              " 'trial',\n",
              " 'cells',\n",
              " 'peripheral',\n",
              " 'general',\n",
              " 'prepared',\n",
              " 'associated',\n",
              " 'soreness',\n",
              " 'love',\n",
              " 'administered',\n",
              " 'doses',\n",
              " 'vs',\n",
              " 'min',\n",
              " 'intolerance',\n",
              " 'blind',\n",
              " 'eat',\n",
              " 'esters',\n",
              " 'swings',\n",
              " 'events',\n",
              " 'four',\n",
              " 'such',\n",
              " 'studied',\n",
              " 'e',\n",
              " 'celebrex',\n",
              " 'performed',\n",
              " 'appetite',\n",
              " 'rheumatoid',\n",
              " 'make',\n",
              " 'calves',\n",
              " 'containing',\n",
              " 'times',\n",
              " 'response',\n",
              " 'nonsteroidal',\n",
              " 'without',\n",
              " 'stress',\n",
              " 're',\n",
              " 'stairs',\n",
              " 'conditions',\n",
              " 'investigated',\n",
              " 'great',\n",
              " 'aching',\n",
              " 'change',\n",
              " 'absorption',\n",
              " 'paraesthesia',\n",
              " 'through',\n",
              " 'values',\n",
              " 'gastric',\n",
              " 'finger',\n",
              " 'sensitivity',\n",
              " 'parkinson',\n",
              " 'reported',\n",
              " 'does',\n",
              " 'x',\n",
              " 'differences',\n",
              " 'ascorbic',\n",
              " 'vitamin',\n",
              " 'swallowing',\n",
              " 'phase',\n",
              " 'thanks',\n",
              " 'ankles',\n",
              " 'toes',\n",
              " 'enzymes',\n",
              " 'infection',\n",
              " 'better',\n",
              " 'cough',\n",
              " 'always',\n",
              " 'motivation',\n",
              " 'either',\n",
              " 'parameters',\n",
              " 'hot',\n",
              " 'coated',\n",
              " 'range',\n",
              " 'dark',\n",
              " 'within',\n",
              " '2',\n",
              " 'given',\n",
              " 'night',\n",
              " 'going',\n",
              " 'paracetamol',\n",
              " 'need',\n",
              " 'rapid',\n",
              " 'developed',\n",
              " 'us',\n",
              " 'intense',\n",
              " 'heel',\n",
              " 'face',\n",
              " 'risk',\n",
              " 'excruciating',\n",
              " 'safety',\n",
              " 'gfb',\n",
              " '1',\n",
              " 'v',\n",
              " 'strength',\n",
              " 'urinary',\n",
              " 'delivery',\n",
              " 'subjects',\n",
              " 'indigestion',\n",
              " 'measured',\n",
              " 'charleyhorse',\n",
              " 'reduction',\n",
              " 'auc',\n",
              " 'recipe',\n",
              " 'down',\n",
              " 'assessed',\n",
              " 'felt',\n",
              " 'tendon',\n",
              " 'related',\n",
              " 'lateral',\n",
              " 'posted',\n",
              " 'steroidal',\n",
              " 'taste',\n",
              " 'liquid',\n",
              " 'lupus',\n",
              " 'properties',\n",
              " 'number',\n",
              " 'show',\n",
              " 'many',\n",
              " 'ratio',\n",
              " 'minutes',\n",
              " 'nerve',\n",
              " 'depressed',\n",
              " 'speech',\n",
              " 'people',\n",
              " 'restless',\n",
              " 'decrease',\n",
              " 'statistically',\n",
              " 'ng',\n",
              " 'dyspnoea',\n",
              " 'menopause',\n",
              " 'palpitations',\n",
              " 'oa',\n",
              " 'long',\n",
              " 'compare',\n",
              " 'included',\n",
              " 'fish',\n",
              " 'edema',\n",
              " 'getting',\n",
              " 'size',\n",
              " 'fingers',\n",
              " 'tissue',\n",
              " 'vivo',\n",
              " 'potential',\n",
              " 'bone',\n",
              " 'samples',\n",
              " 'applied',\n",
              " 'then',\n",
              " 'advil',\n",
              " 'active',\n",
              " 'primary',\n",
              " 'read',\n",
              " 'mm',\n",
              " 'clearly',\n",
              " 'every',\n",
              " 'therapeutic',\n",
              " 'development',\n",
              " 'best',\n",
              " 'year',\n",
              " 'much',\n",
              " 'indomethacin',\n",
              " 'ability',\n",
              " 'major',\n",
              " 'twitch',\n",
              " 'heres',\n",
              " 'tips',\n",
              " 'gout',\n",
              " 'injection',\n",
              " 'ii',\n",
              " 'living',\n",
              " 'k',\n",
              " 'moderate',\n",
              " 'available',\n",
              " 'process',\n",
              " '\\r \\n ',\n",
              " 'health',\n",
              " 'fever',\n",
              " 'even',\n",
              " 'ulcer',\n",
              " 'go',\n",
              " 'tightness',\n",
              " 'form',\n",
              " 'reaction',\n",
              " '30',\n",
              " 'limbs',\n",
              " 'drowsy',\n",
              " '3',\n",
              " 'wrist',\n",
              " 'aqueous',\n",
              " 'evaluate',\n",
              " 'terrible',\n",
              " 'determined',\n",
              " 'provoked',\n",
              " 'overall',\n",
              " 'medication',\n",
              " 'mobility',\n",
              " 'colic',\n",
              " 'dreams',\n",
              " 'addition',\n",
              " 'bowel',\n",
              " 'co',\n",
              " 'trouble',\n",
              " 'human',\n",
              " 'big',\n",
              " 'archives',\n",
              " 'normal',\n",
              " 'bioavailability',\n",
              " 'because',\n",
              " 'mouth',\n",
              " 'scale',\n",
              " 'aspirin',\n",
              " 'breathing',\n",
              " 'would',\n",
              " 'sustained',\n",
              " 'article',\n",
              " 'find',\n",
              " 'months',\n",
              " 'greater',\n",
              " 'tolerability',\n",
              " 'nasal',\n",
              " 'cancer',\n",
              " 'heartburn',\n",
              " 'creatinine',\n",
              " 'end',\n",
              " 'fenofibrate',\n",
              " 'tested',\n",
              " 'light',\n",
              " 'breath',\n",
              " 'o',\n",
              " 'na',\n",
              " 'fog',\n",
              " 'same',\n",
              " 'sinus',\n",
              " 'made',\n",
              " 'revealed',\n",
              " 'demonstrated',\n",
              " 'per',\n",
              " 'amyotrophic',\n",
              " 'chicken',\n",
              " 'aim',\n",
              " 'scores',\n",
              " 'baseline',\n",
              " 'matrix',\n",
              " 'uterine',\n",
              " 'tract',\n",
              " 'coq10',\n",
              " 'jennieo',\n",
              " 'protein',\n",
              " 'exercise',\n",
              " '5',\n",
              " 'inhibitor',\n",
              " 'although',\n",
              " 'important',\n",
              " 'safe',\n",
              " 'sick',\n",
              " 'cox',\n",
              " 'news',\n",
              " '10',\n",
              " 'dosage',\n",
              " 'indicated',\n",
              " 'facial',\n",
              " 'action',\n",
              " 'polymer',\n",
              " 'attacks',\n",
              " 'misoprostol',\n",
              " 'month',\n",
              " 'treatments',\n",
              " 'diagnosis',\n",
              " 'tylenol',\n",
              " 'suggest',\n",
              " 'hypertension',\n",
              " 'male',\n",
              " 'dependent',\n",
              " 'thighs',\n",
              " 'presence',\n",
              " 'twitching',\n",
              " 'natural',\n",
              " 'caused',\n",
              " 'mice',\n",
              " 'move',\n",
              " 'common',\n",
              " 'where',\n",
              " 'sugar',\n",
              " 'mechanism',\n",
              " 'aleve',\n",
              " 'horses',\n",
              " 'trials',\n",
              " 'formation',\n",
              " 'inhibition',\n",
              " 'various',\n",
              " '+',\n",
              " 'lethargy',\n",
              " 'volunteers',\n",
              " 'age',\n",
              " 'improvement',\n",
              " 'tolerated',\n",
              " 'today',\n",
              " 'tricor',\n",
              " 'including',\n",
              " 'agent',\n",
              " 'shown',\n",
              " 'take',\n",
              " 'content',\n",
              " 'part',\n",
              " 'way',\n",
              " 'growth',\n",
              " 'animals',\n",
              " 'cd',\n",
              " 'complex',\n",
              " 'six',\n",
              " 'further',\n",
              " 'loose',\n",
              " 'local',\n",
              " 'around',\n",
              " 'f',\n",
              " 'follow',\n",
              " 'followed',\n",
              " 'intestinal',\n",
              " 'standard',\n",
              " 'initial',\n",
              " 'permeation',\n",
              " 'tolerance',\n",
              " 'microspheres',\n",
              " 'cerebrovascular',\n",
              " 'issues',\n",
              " 'fast',\n",
              " 'surface',\n",
              " 'generally',\n",
              " 'whereas',\n",
              " 'score',\n",
              " 'intensity',\n",
              " 'hour',\n",
              " 'finding',\n",
              " 'alone',\n",
              " 'exposure',\n",
              " 'among',\n",
              " 'oedema',\n",
              " 'eating',\n",
              " 'sharp',\n",
              " 'still',\n",
              " '\\r \\n \\r \\n ',\n",
              " 'profile',\n",
              " 'diagnosed',\n",
              " 'ever',\n",
              " 'numb',\n",
              " 'accident',\n",
              " 'tight',\n",
              " 'care',\n",
              " 'panic',\n",
              " 'case',\n",
              " 'evaluation',\n",
              " 'rat',\n",
              " 'things',\n",
              " 'agents',\n",
              " 'charley',\n",
              " 'onset',\n",
              " 'lost',\n",
              " 'pulse',\n",
              " 'improved',\n",
              " 'sensitive',\n",
              " 'share',\n",
              " 'thoughts',\n",
              " 'elbows',\n",
              " 'peak',\n",
              " 'looks',\n",
              " 'divided',\n",
              " 'vehicle',\n",
              " 'combined',\n",
              " 'research',\n",
              " 'secondary',\n",
              " 'happy',\n",
              " 'amount',\n",
              " 'malignant',\n",
              " 'experimental',\n",
              " 'shortness',\n",
              " 'corneal',\n",
              " 'moody',\n",
              " 'please',\n",
              " 'plantar',\n",
              " 'morning',\n",
              " 'able',\n",
              " 'provide',\n",
              " 'randomly',\n",
              " 'extremity',\n",
              " 'drive',\n",
              " 'slurred',\n",
              " 'cases',\n",
              " 'alpha',\n",
              " 'started',\n",
              " 'want',\n",
              " 'fatigued',\n",
              " 'pharmaceutical',\n",
              " 'fluid',\n",
              " 'periods',\n",
              " 'determine',\n",
              " 'physical',\n",
              " 'product',\n",
              " '4',\n",
              " 'pharmacokinetic',\n",
              " 'sex',\n",
              " 'least',\n",
              " 'profiles',\n",
              " 'nervous',\n",
              " 'hardly',\n",
              " 'duration',\n",
              " 'resulted',\n",
              " 'prednisone',\n",
              " 'extremely',\n",
              " 'awareness',\n",
              " 'barely',\n",
              " 'according',\n",
              " 'participants',\n",
              " 'evidence',\n",
              " 'cm',\n",
              " 'pizza',\n",
              " 'congestion',\n",
              " 'hard',\n",
              " 'too',\n",
              " 'density',\n",
              " 'ringing',\n",
              " 'degrees',\n",
              " 'complete',\n",
              " 'r',\n",
              " 'ms',\n",
              " 'old',\n",
              " 'condition',\n",
              " 'ethyl',\n",
              " 'ldl',\n",
              " 'carried',\n",
              " 'got',\n",
              " 'difficult',\n",
              " 'gi',\n",
              " 'top',\n",
              " 'naproxen',\n",
              " 'once',\n",
              " 'global',\n",
              " 'support',\n",
              " 'pre',\n",
              " 'conducted',\n",
              " 'relative',\n",
              " 'production',\n",
              " 'lesions',\n",
              " 'plus',\n",
              " 'stroke',\n",
              " 'flow',\n",
              " 'als',\n",
              " 'cookbook',\n",
              " 'state',\n",
              " 'produced',\n",
              " 'cause',\n",
              " 'central',\n",
              " 'zetia',\n",
              " 'affected',\n",
              " 'five',\n",
              " 'achilles',\n",
              " 'little',\n",
              " 'region',\n",
              " 'taking',\n",
              " 'cardiovascular',\n",
              " 'de',\n",
              " 'serious',\n",
              " 'against',\n",
              " 'stamina',\n",
              " 'eczema',\n",
              " 'site',\n",
              " 'patch',\n",
              " 'work',\n",
              " ':',\n",
              " 'small',\n",
              " 'methods',\n",
              " 'super',\n",
              " 'irregular',\n",
              " 'enteric',\n",
              " 'specific',\n",
              " 'see',\n",
              " 'mental',\n",
              " 'increasing',\n",
              " 'pruritus',\n",
              " 'hypersomnia',\n",
              " 'quality',\n",
              " 'u',\n",
              " 'solid',\n",
              " 'versus',\n",
              " 'film',\n",
              " 'th',\n",
              " 'reference',\n",
              " 'coronary',\n",
              " 'neurontin',\n",
              " 'systemic',\n",
              " 'cmax',\n",
              " 'temperature',\n",
              " 'frequent',\n",
              " 'maximum',\n",
              " 'ci',\n",
              " 'deep',\n",
              " 'rhabdomyolysis',\n",
              " 'forgetful',\n",
              " 'might',\n",
              " 'vas',\n",
              " 'investigate',\n",
              " 'microg',\n",
              " 'indicate',\n",
              " 'easy',\n",
              " 'cross',\n",
              " 'ear',\n",
              " 'linked',\n",
              " 'mass',\n",
              " 'third',\n",
              " 'calcium',\n",
              " 'flushing',\n",
              " 'sweats',\n",
              " 'efficiency',\n",
              " 'erythematosus',\n",
              " 'achieved',\n",
              " 'norvasc',\n",
              " 'hunger',\n",
              " 'liptor',\n",
              " 'capsules',\n",
              " 'lopid',\n",
              " 'considered',\n",
              " 'analgesia',\n",
              " 'phosphate',\n",
              " 'sensations',\n",
              " 'fasciitis',\n",
              " 'comparable',\n",
              " 'assessment',\n",
              " 'dizzy',\n",
              " 'soup',\n",
              " 'medium',\n",
              " 'across',\n",
              " 'early',\n",
              " 'ocular',\n",
              " ...]"
            ]
          },
          "metadata": {
            "tags": []
          },
          "execution_count": 18
        }
      ]
    },
    {
      "cell_type": "code",
      "metadata": {
        "id": "yPWr03mls3VT",
        "outputId": "bde51f2f-f0e8-412c-b632-fb460b2a4115",
        "colab": {
          "base_uri": "https://localhost:8080/",
          "height": 17
        }
      },
      "source": [
        "model_path = path/'models'\n",
        "model_path.mkdir(exist_ok=True)\n",
        "url = 'http://files.fast.ai/models/wt103_v1/'\n",
        "download_url(f'{url}lstm_wt103.pth', model_path/'lstm_wt103.pth')\n",
        "download_url(f'{url}itos_wt103.pkl', model_path/'itos_wt103.pkl')"
      ],
      "execution_count": 19,
      "outputs": [
        {
          "output_type": "display_data",
          "data": {
            "text/html": [
              ""
            ],
            "text/plain": [
              "<IPython.core.display.HTML object>"
            ]
          },
          "metadata": {
            "tags": []
          }
        },
        {
          "output_type": "display_data",
          "data": {
            "text/html": [
              ""
            ],
            "text/plain": [
              "<IPython.core.display.HTML object>"
            ]
          },
          "metadata": {
            "tags": []
          }
        }
      ]
    },
    {
      "cell_type": "code",
      "metadata": {
        "id": "JRzvWg8RtGGr",
        "outputId": "ddfb0b7c-74b3-4904-cf04-056dbbc51a1d",
        "colab": {
          "base_uri": "https://localhost:8080/",
          "height": 34
        }
      },
      "source": [
        "learn = language_model_learner(data_lm, AWD_LSTM, drop_mult=0.5)"
      ],
      "execution_count": 20,
      "outputs": [
        {
          "output_type": "stream",
          "text": [
            "Downloading https://s3.amazonaws.com/fast-ai-modelzoo/wt103-fwd.tgz\n"
          ],
          "name": "stdout"
        },
        {
          "output_type": "display_data",
          "data": {
            "text/html": [
              ""
            ],
            "text/plain": [
              "<IPython.core.display.HTML object>"
            ]
          },
          "metadata": {
            "tags": []
          }
        }
      ]
    },
    {
      "cell_type": "code",
      "metadata": {
        "id": "xKK7GeBev7Xn",
        "outputId": "e2d068bb-0f72-4f4c-a618-c2eab8b78a62",
        "colab": {
          "base_uri": "https://localhost:8080/",
          "height": 80
        }
      },
      "source": [
        "learn.fit_one_cycle(1, 1e-2)"
      ],
      "execution_count": 21,
      "outputs": [
        {
          "output_type": "display_data",
          "data": {
            "text/html": [
              "<table border=\"1\" class=\"dataframe\">\n",
              "  <thead>\n",
              "    <tr style=\"text-align: left;\">\n",
              "      <th>epoch</th>\n",
              "      <th>train_loss</th>\n",
              "      <th>valid_loss</th>\n",
              "      <th>accuracy</th>\n",
              "      <th>time</th>\n",
              "    </tr>\n",
              "  </thead>\n",
              "  <tbody>\n",
              "    <tr>\n",
              "      <td>0</td>\n",
              "      <td>3.854042</td>\n",
              "      <td>3.480069</td>\n",
              "      <td>0.441621</td>\n",
              "      <td>34:40</td>\n",
              "    </tr>\n",
              "  </tbody>\n",
              "</table>"
            ],
            "text/plain": [
              "<IPython.core.display.HTML object>"
            ]
          },
          "metadata": {
            "tags": []
          }
        }
      ]
    },
    {
      "cell_type": "code",
      "metadata": {
        "id": "iB7rHGQCwd12"
      },
      "source": [
        "# learn.fit_one_cycle(1, 1e-2)"
      ],
      "execution_count": 22,
      "outputs": []
    },
    {
      "cell_type": "code",
      "metadata": {
        "id": "_BnSuAeCwkBe"
      },
      "source": [
        "# learn.fit_one_cycle(1, 1e-3)"
      ],
      "execution_count": 23,
      "outputs": []
    },
    {
      "cell_type": "code",
      "metadata": {
        "id": "MuTm-RFjwrEX",
        "outputId": "720b4d82-5ce6-4c28-e653-36c6c2089dda",
        "colab": {
          "base_uri": "https://localhost:8080/",
          "height": 80
        }
      },
      "source": [
        "learn.fit_one_cycle(1, 1e-3)"
      ],
      "execution_count": 24,
      "outputs": [
        {
          "output_type": "display_data",
          "data": {
            "text/html": [
              "<table border=\"1\" class=\"dataframe\">\n",
              "  <thead>\n",
              "    <tr style=\"text-align: left;\">\n",
              "      <th>epoch</th>\n",
              "      <th>train_loss</th>\n",
              "      <th>valid_loss</th>\n",
              "      <th>accuracy</th>\n",
              "      <th>time</th>\n",
              "    </tr>\n",
              "  </thead>\n",
              "  <tbody>\n",
              "    <tr>\n",
              "      <td>0</td>\n",
              "      <td>3.513643</td>\n",
              "      <td>3.420974</td>\n",
              "      <td>0.447250</td>\n",
              "      <td>34:33</td>\n",
              "    </tr>\n",
              "  </tbody>\n",
              "</table>"
            ],
            "text/plain": [
              "<IPython.core.display.HTML object>"
            ]
          },
          "metadata": {
            "tags": []
          }
        }
      ]
    },
    {
      "cell_type": "code",
      "metadata": {
        "id": "1Er2ExO8wr7Y"
      },
      "source": [
        "learn.save_encoder('pubmed_cadec_askpatient_mixed_fold9_first')"
      ],
      "execution_count": 25,
      "outputs": []
    },
    {
      "cell_type": "code",
      "metadata": {
        "id": "z52cZs2qwvad",
        "outputId": "588ffa87-057b-4103-ccc4-796afd06dbe0",
        "colab": {
          "base_uri": "https://localhost:8080/",
          "height": 80
        }
      },
      "source": [
        "learn = text_classifier_learner(data_clas,AWD_LSTM, drop_mult=0.5)\n",
        "learn.load_encoder('pubmed_cadec_askpatient_mixed_fold9_first')\n",
        "learn.fit_one_cycle(1, 1e-2)"
      ],
      "execution_count": 26,
      "outputs": [
        {
          "output_type": "display_data",
          "data": {
            "text/html": [
              "<table border=\"1\" class=\"dataframe\">\n",
              "  <thead>\n",
              "    <tr style=\"text-align: left;\">\n",
              "      <th>epoch</th>\n",
              "      <th>train_loss</th>\n",
              "      <th>valid_loss</th>\n",
              "      <th>accuracy</th>\n",
              "      <th>time</th>\n",
              "    </tr>\n",
              "  </thead>\n",
              "  <tbody>\n",
              "    <tr>\n",
              "      <td>0</td>\n",
              "      <td>3.874383</td>\n",
              "      <td>3.237431</td>\n",
              "      <td>0.420485</td>\n",
              "      <td>01:06</td>\n",
              "    </tr>\n",
              "  </tbody>\n",
              "</table>"
            ],
            "text/plain": [
              "<IPython.core.display.HTML object>"
            ]
          },
          "metadata": {
            "tags": []
          }
        }
      ]
    },
    {
      "cell_type": "code",
      "metadata": {
        "id": "ImwQP1PJwzxd",
        "outputId": "652f64dc-9d21-4a72-880c-cef2a82afbe6",
        "colab": {
          "base_uri": "https://localhost:8080/",
          "height": 80
        }
      },
      "source": [
        "learn.freeze_to(-2)\n",
        "learn.fit_one_cycle(1, slice(5e-3/2., 5e-3))"
      ],
      "execution_count": 27,
      "outputs": [
        {
          "output_type": "display_data",
          "data": {
            "text/html": [
              "<table border=\"1\" class=\"dataframe\">\n",
              "  <thead>\n",
              "    <tr style=\"text-align: left;\">\n",
              "      <th>epoch</th>\n",
              "      <th>train_loss</th>\n",
              "      <th>valid_loss</th>\n",
              "      <th>accuracy</th>\n",
              "      <th>time</th>\n",
              "    </tr>\n",
              "  </thead>\n",
              "  <tbody>\n",
              "    <tr>\n",
              "      <td>0</td>\n",
              "      <td>2.750712</td>\n",
              "      <td>2.795355</td>\n",
              "      <td>0.513477</td>\n",
              "      <td>01:14</td>\n",
              "    </tr>\n",
              "  </tbody>\n",
              "</table>"
            ],
            "text/plain": [
              "<IPython.core.display.HTML object>"
            ]
          },
          "metadata": {
            "tags": []
          }
        }
      ]
    },
    {
      "cell_type": "code",
      "metadata": {
        "id": "Owff_BJXw53u",
        "outputId": "465cee39-d2e5-47ea-beb7-04b2fdfa9eed",
        "colab": {
          "base_uri": "https://localhost:8080/",
          "height": 80
        }
      },
      "source": [
        "learn.unfreeze()\n",
        "learn.fit_one_cycle(1, slice(2e-3/100, 2e-3))"
      ],
      "execution_count": 28,
      "outputs": [
        {
          "output_type": "display_data",
          "data": {
            "text/html": [
              "<table border=\"1\" class=\"dataframe\">\n",
              "  <thead>\n",
              "    <tr style=\"text-align: left;\">\n",
              "      <th>epoch</th>\n",
              "      <th>train_loss</th>\n",
              "      <th>valid_loss</th>\n",
              "      <th>accuracy</th>\n",
              "      <th>time</th>\n",
              "    </tr>\n",
              "  </thead>\n",
              "  <tbody>\n",
              "    <tr>\n",
              "      <td>0</td>\n",
              "      <td>2.267495</td>\n",
              "      <td>2.310327</td>\n",
              "      <td>0.592992</td>\n",
              "      <td>03:17</td>\n",
              "    </tr>\n",
              "  </tbody>\n",
              "</table>"
            ],
            "text/plain": [
              "<IPython.core.display.HTML object>"
            ]
          },
          "metadata": {
            "tags": []
          }
        }
      ]
    },
    {
      "cell_type": "code",
      "metadata": {
        "id": "lqAyu56V8Waq",
        "outputId": "9ae54ea4-6099-44bc-e042-44658810fc49",
        "colab": {
          "base_uri": "https://localhost:8080/",
          "height": 111
        }
      },
      "source": [
        "learn.fit_one_cycle(2, slice(2e-3/100, 2e-3))"
      ],
      "execution_count": 29,
      "outputs": [
        {
          "output_type": "display_data",
          "data": {
            "text/html": [
              "<table border=\"1\" class=\"dataframe\">\n",
              "  <thead>\n",
              "    <tr style=\"text-align: left;\">\n",
              "      <th>epoch</th>\n",
              "      <th>train_loss</th>\n",
              "      <th>valid_loss</th>\n",
              "      <th>accuracy</th>\n",
              "      <th>time</th>\n",
              "    </tr>\n",
              "  </thead>\n",
              "  <tbody>\n",
              "    <tr>\n",
              "      <td>0</td>\n",
              "      <td>2.062410</td>\n",
              "      <td>2.096121</td>\n",
              "      <td>0.630728</td>\n",
              "      <td>03:07</td>\n",
              "    </tr>\n",
              "    <tr>\n",
              "      <td>1</td>\n",
              "      <td>1.654165</td>\n",
              "      <td>1.930704</td>\n",
              "      <td>0.661725</td>\n",
              "      <td>03:14</td>\n",
              "    </tr>\n",
              "  </tbody>\n",
              "</table>"
            ],
            "text/plain": [
              "<IPython.core.display.HTML object>"
            ]
          },
          "metadata": {
            "tags": []
          }
        }
      ]
    },
    {
      "cell_type": "code",
      "metadata": {
        "id": "a7I1xMRp8bUd",
        "outputId": "9c2d2181-7d9f-4ad4-f081-346f9b3f556f",
        "colab": {
          "base_uri": "https://localhost:8080/",
          "height": 111
        }
      },
      "source": [
        "learn.fit_one_cycle(2, slice(2e-3/100, 2e-3))"
      ],
      "execution_count": 30,
      "outputs": [
        {
          "output_type": "display_data",
          "data": {
            "text/html": [
              "<table border=\"1\" class=\"dataframe\">\n",
              "  <thead>\n",
              "    <tr style=\"text-align: left;\">\n",
              "      <th>epoch</th>\n",
              "      <th>train_loss</th>\n",
              "      <th>valid_loss</th>\n",
              "      <th>accuracy</th>\n",
              "      <th>time</th>\n",
              "    </tr>\n",
              "  </thead>\n",
              "  <tbody>\n",
              "    <tr>\n",
              "      <td>0</td>\n",
              "      <td>1.480433</td>\n",
              "      <td>1.729851</td>\n",
              "      <td>0.694070</td>\n",
              "      <td>03:12</td>\n",
              "    </tr>\n",
              "    <tr>\n",
              "      <td>1</td>\n",
              "      <td>1.281198</td>\n",
              "      <td>1.631348</td>\n",
              "      <td>0.703504</td>\n",
              "      <td>03:24</td>\n",
              "    </tr>\n",
              "  </tbody>\n",
              "</table>"
            ],
            "text/plain": [
              "<IPython.core.display.HTML object>"
            ]
          },
          "metadata": {
            "tags": []
          }
        }
      ]
    },
    {
      "cell_type": "code",
      "metadata": {
        "id": "UAnti-XmGVfO",
        "outputId": "429a80c7-297e-4a12-888b-8dfed606307b",
        "colab": {
          "base_uri": "https://localhost:8080/",
          "height": 111
        }
      },
      "source": [
        "learn.fit_one_cycle(2, slice(2e-3/100, 2e-3))"
      ],
      "execution_count": 31,
      "outputs": [
        {
          "output_type": "display_data",
          "data": {
            "text/html": [
              "<table border=\"1\" class=\"dataframe\">\n",
              "  <thead>\n",
              "    <tr style=\"text-align: left;\">\n",
              "      <th>epoch</th>\n",
              "      <th>train_loss</th>\n",
              "      <th>valid_loss</th>\n",
              "      <th>accuracy</th>\n",
              "      <th>time</th>\n",
              "    </tr>\n",
              "  </thead>\n",
              "  <tbody>\n",
              "    <tr>\n",
              "      <td>0</td>\n",
              "      <td>1.201197</td>\n",
              "      <td>1.528393</td>\n",
              "      <td>0.722372</td>\n",
              "      <td>03:17</td>\n",
              "    </tr>\n",
              "    <tr>\n",
              "      <td>1</td>\n",
              "      <td>1.017449</td>\n",
              "      <td>1.475252</td>\n",
              "      <td>0.738544</td>\n",
              "      <td>03:07</td>\n",
              "    </tr>\n",
              "  </tbody>\n",
              "</table>"
            ],
            "text/plain": [
              "<IPython.core.display.HTML object>"
            ]
          },
          "metadata": {
            "tags": []
          }
        }
      ]
    },
    {
      "cell_type": "code",
      "metadata": {
        "id": "bIft7W25GwSu",
        "outputId": "56d4d88b-7f97-4e82-8663-1512e6b600b2",
        "colab": {
          "base_uri": "https://localhost:8080/",
          "height": 111
        }
      },
      "source": [
        "learn.fit_one_cycle(2, slice(2e-3/100, 2e-3))"
      ],
      "execution_count": 32,
      "outputs": [
        {
          "output_type": "display_data",
          "data": {
            "text/html": [
              "<table border=\"1\" class=\"dataframe\">\n",
              "  <thead>\n",
              "    <tr style=\"text-align: left;\">\n",
              "      <th>epoch</th>\n",
              "      <th>train_loss</th>\n",
              "      <th>valid_loss</th>\n",
              "      <th>accuracy</th>\n",
              "      <th>time</th>\n",
              "    </tr>\n",
              "  </thead>\n",
              "  <tbody>\n",
              "    <tr>\n",
              "      <td>0</td>\n",
              "      <td>0.937010</td>\n",
              "      <td>1.409429</td>\n",
              "      <td>0.757412</td>\n",
              "      <td>03:20</td>\n",
              "    </tr>\n",
              "    <tr>\n",
              "      <td>1</td>\n",
              "      <td>0.857136</td>\n",
              "      <td>1.360822</td>\n",
              "      <td>0.752022</td>\n",
              "      <td>03:29</td>\n",
              "    </tr>\n",
              "  </tbody>\n",
              "</table>"
            ],
            "text/plain": [
              "<IPython.core.display.HTML object>"
            ]
          },
          "metadata": {
            "tags": []
          }
        }
      ]
    },
    {
      "cell_type": "code",
      "metadata": {
        "id": "EEHszVRvGyFt",
        "outputId": "53c6bb55-51e8-4b71-e336-defe6e63d356",
        "colab": {
          "base_uri": "https://localhost:8080/",
          "height": 111
        }
      },
      "source": [
        "learn.fit_one_cycle(2, slice(2e-3/100, 2e-3))"
      ],
      "execution_count": 33,
      "outputs": [
        {
          "output_type": "display_data",
          "data": {
            "text/html": [
              "<table border=\"1\" class=\"dataframe\">\n",
              "  <thead>\n",
              "    <tr style=\"text-align: left;\">\n",
              "      <th>epoch</th>\n",
              "      <th>train_loss</th>\n",
              "      <th>valid_loss</th>\n",
              "      <th>accuracy</th>\n",
              "      <th>time</th>\n",
              "    </tr>\n",
              "  </thead>\n",
              "  <tbody>\n",
              "    <tr>\n",
              "      <td>0</td>\n",
              "      <td>0.813410</td>\n",
              "      <td>1.300715</td>\n",
              "      <td>0.770889</td>\n",
              "      <td>03:12</td>\n",
              "    </tr>\n",
              "    <tr>\n",
              "      <td>1</td>\n",
              "      <td>0.720091</td>\n",
              "      <td>1.271089</td>\n",
              "      <td>0.774933</td>\n",
              "      <td>03:18</td>\n",
              "    </tr>\n",
              "  </tbody>\n",
              "</table>"
            ],
            "text/plain": [
              "<IPython.core.display.HTML object>"
            ]
          },
          "metadata": {
            "tags": []
          }
        }
      ]
    },
    {
      "cell_type": "code",
      "metadata": {
        "id": "XsHfrhCHG3dN",
        "outputId": "4554a7ec-d1e7-493e-f806-2fa580dc96bc",
        "colab": {
          "base_uri": "https://localhost:8080/",
          "height": 173
        }
      },
      "source": [
        "learn.fit_one_cycle(4, slice(2e-3/100, 2e-3))"
      ],
      "execution_count": 34,
      "outputs": [
        {
          "output_type": "display_data",
          "data": {
            "text/html": [
              "<table border=\"1\" class=\"dataframe\">\n",
              "  <thead>\n",
              "    <tr style=\"text-align: left;\">\n",
              "      <th>epoch</th>\n",
              "      <th>train_loss</th>\n",
              "      <th>valid_loss</th>\n",
              "      <th>accuracy</th>\n",
              "      <th>time</th>\n",
              "    </tr>\n",
              "  </thead>\n",
              "  <tbody>\n",
              "    <tr>\n",
              "      <td>0</td>\n",
              "      <td>0.656193</td>\n",
              "      <td>1.246222</td>\n",
              "      <td>0.778976</td>\n",
              "      <td>03:07</td>\n",
              "    </tr>\n",
              "    <tr>\n",
              "      <td>1</td>\n",
              "      <td>0.626712</td>\n",
              "      <td>1.201439</td>\n",
              "      <td>0.785714</td>\n",
              "      <td>03:14</td>\n",
              "    </tr>\n",
              "    <tr>\n",
              "      <td>2</td>\n",
              "      <td>0.603468</td>\n",
              "      <td>1.150601</td>\n",
              "      <td>0.795148</td>\n",
              "      <td>03:11</td>\n",
              "    </tr>\n",
              "    <tr>\n",
              "      <td>3</td>\n",
              "      <td>0.493802</td>\n",
              "      <td>1.147467</td>\n",
              "      <td>0.791105</td>\n",
              "      <td>03:12</td>\n",
              "    </tr>\n",
              "  </tbody>\n",
              "</table>"
            ],
            "text/plain": [
              "<IPython.core.display.HTML object>"
            ]
          },
          "metadata": {
            "tags": []
          }
        }
      ]
    },
    {
      "cell_type": "code",
      "metadata": {
        "id": "0Zsd99isb9EQ",
        "outputId": "2f2756dd-f4d6-435c-c619-14695c0f149b",
        "colab": {
          "base_uri": "https://localhost:8080/",
          "height": 173
        }
      },
      "source": [
        "learn.fit_one_cycle(4, slice(2e-3/100, 2e-3))"
      ],
      "execution_count": 35,
      "outputs": [
        {
          "output_type": "display_data",
          "data": {
            "text/html": [
              "<table border=\"1\" class=\"dataframe\">\n",
              "  <thead>\n",
              "    <tr style=\"text-align: left;\">\n",
              "      <th>epoch</th>\n",
              "      <th>train_loss</th>\n",
              "      <th>valid_loss</th>\n",
              "      <th>accuracy</th>\n",
              "      <th>time</th>\n",
              "    </tr>\n",
              "  </thead>\n",
              "  <tbody>\n",
              "    <tr>\n",
              "      <td>0</td>\n",
              "      <td>0.508883</td>\n",
              "      <td>1.144070</td>\n",
              "      <td>0.793801</td>\n",
              "      <td>03:29</td>\n",
              "    </tr>\n",
              "    <tr>\n",
              "      <td>1</td>\n",
              "      <td>0.499502</td>\n",
              "      <td>1.165936</td>\n",
              "      <td>0.804582</td>\n",
              "      <td>03:25</td>\n",
              "    </tr>\n",
              "    <tr>\n",
              "      <td>2</td>\n",
              "      <td>0.467738</td>\n",
              "      <td>1.068005</td>\n",
              "      <td>0.823450</td>\n",
              "      <td>03:31</td>\n",
              "    </tr>\n",
              "    <tr>\n",
              "      <td>3</td>\n",
              "      <td>0.377082</td>\n",
              "      <td>1.058587</td>\n",
              "      <td>0.820755</td>\n",
              "      <td>03:32</td>\n",
              "    </tr>\n",
              "  </tbody>\n",
              "</table>"
            ],
            "text/plain": [
              "<IPython.core.display.HTML object>"
            ]
          },
          "metadata": {
            "tags": []
          }
        }
      ]
    },
    {
      "cell_type": "code",
      "metadata": {
        "id": "atNWNKDFPbuI",
        "outputId": "c1a12882-fbb2-4ae0-8c26-8ed7a42ecf40",
        "colab": {
          "base_uri": "https://localhost:8080/",
          "height": 173
        }
      },
      "source": [
        "learn.fit_one_cycle(4, slice(2e-3/100, 2e-3))"
      ],
      "execution_count": 36,
      "outputs": [
        {
          "output_type": "display_data",
          "data": {
            "text/html": [
              "<table border=\"1\" class=\"dataframe\">\n",
              "  <thead>\n",
              "    <tr style=\"text-align: left;\">\n",
              "      <th>epoch</th>\n",
              "      <th>train_loss</th>\n",
              "      <th>valid_loss</th>\n",
              "      <th>accuracy</th>\n",
              "      <th>time</th>\n",
              "    </tr>\n",
              "  </thead>\n",
              "  <tbody>\n",
              "    <tr>\n",
              "      <td>0</td>\n",
              "      <td>0.368724</td>\n",
              "      <td>1.162743</td>\n",
              "      <td>0.814016</td>\n",
              "      <td>03:10</td>\n",
              "    </tr>\n",
              "    <tr>\n",
              "      <td>1</td>\n",
              "      <td>0.393606</td>\n",
              "      <td>1.066989</td>\n",
              "      <td>0.818059</td>\n",
              "      <td>03:23</td>\n",
              "    </tr>\n",
              "    <tr>\n",
              "      <td>2</td>\n",
              "      <td>0.363126</td>\n",
              "      <td>1.036994</td>\n",
              "      <td>0.826146</td>\n",
              "      <td>03:16</td>\n",
              "    </tr>\n",
              "    <tr>\n",
              "      <td>3</td>\n",
              "      <td>0.293517</td>\n",
              "      <td>1.047478</td>\n",
              "      <td>0.832884</td>\n",
              "      <td>03:22</td>\n",
              "    </tr>\n",
              "  </tbody>\n",
              "</table>"
            ],
            "text/plain": [
              "<IPython.core.display.HTML object>"
            ]
          },
          "metadata": {
            "tags": []
          }
        }
      ]
    },
    {
      "cell_type": "code",
      "metadata": {
        "id": "rKrBTZ0T1uVA",
        "outputId": "9392f66c-c190-4089-8068-b956da2e3c77",
        "colab": {
          "base_uri": "https://localhost:8080/",
          "height": 173
        }
      },
      "source": [
        "learn.fit_one_cycle(4, slice(2e-3/100, 2e-3))"
      ],
      "execution_count": 37,
      "outputs": [
        {
          "output_type": "display_data",
          "data": {
            "text/html": [
              "<table border=\"1\" class=\"dataframe\">\n",
              "  <thead>\n",
              "    <tr style=\"text-align: left;\">\n",
              "      <th>epoch</th>\n",
              "      <th>train_loss</th>\n",
              "      <th>valid_loss</th>\n",
              "      <th>accuracy</th>\n",
              "      <th>time</th>\n",
              "    </tr>\n",
              "  </thead>\n",
              "  <tbody>\n",
              "    <tr>\n",
              "      <td>0</td>\n",
              "      <td>0.317131</td>\n",
              "      <td>1.072967</td>\n",
              "      <td>0.828841</td>\n",
              "      <td>03:26</td>\n",
              "    </tr>\n",
              "    <tr>\n",
              "      <td>1</td>\n",
              "      <td>0.344233</td>\n",
              "      <td>1.085528</td>\n",
              "      <td>0.832884</td>\n",
              "      <td>03:19</td>\n",
              "    </tr>\n",
              "    <tr>\n",
              "      <td>2</td>\n",
              "      <td>0.302183</td>\n",
              "      <td>1.089110</td>\n",
              "      <td>0.835580</td>\n",
              "      <td>03:24</td>\n",
              "    </tr>\n",
              "    <tr>\n",
              "      <td>3</td>\n",
              "      <td>0.241134</td>\n",
              "      <td>1.069290</td>\n",
              "      <td>0.836927</td>\n",
              "      <td>03:35</td>\n",
              "    </tr>\n",
              "  </tbody>\n",
              "</table>"
            ],
            "text/plain": [
              "<IPython.core.display.HTML object>"
            ]
          },
          "metadata": {
            "tags": []
          }
        }
      ]
    },
    {
      "cell_type": "code",
      "metadata": {
        "id": "ajQC6WDg1yA9",
        "outputId": "a79f81ce-6ba9-44b1-e893-d6ec23c4bb97",
        "colab": {
          "base_uri": "https://localhost:8080/",
          "height": 173
        }
      },
      "source": [
        "learn.fit_one_cycle(4, slice(2e-3/100, 2e-3))"
      ],
      "execution_count": 38,
      "outputs": [
        {
          "output_type": "display_data",
          "data": {
            "text/html": [
              "<table border=\"1\" class=\"dataframe\">\n",
              "  <thead>\n",
              "    <tr style=\"text-align: left;\">\n",
              "      <th>epoch</th>\n",
              "      <th>train_loss</th>\n",
              "      <th>valid_loss</th>\n",
              "      <th>accuracy</th>\n",
              "      <th>time</th>\n",
              "    </tr>\n",
              "  </thead>\n",
              "  <tbody>\n",
              "    <tr>\n",
              "      <td>0</td>\n",
              "      <td>0.252989</td>\n",
              "      <td>1.135583</td>\n",
              "      <td>0.835580</td>\n",
              "      <td>03:07</td>\n",
              "    </tr>\n",
              "    <tr>\n",
              "      <td>1</td>\n",
              "      <td>0.318125</td>\n",
              "      <td>1.079924</td>\n",
              "      <td>0.838275</td>\n",
              "      <td>03:18</td>\n",
              "    </tr>\n",
              "    <tr>\n",
              "      <td>2</td>\n",
              "      <td>0.262373</td>\n",
              "      <td>1.067029</td>\n",
              "      <td>0.836927</td>\n",
              "      <td>03:31</td>\n",
              "    </tr>\n",
              "    <tr>\n",
              "      <td>3</td>\n",
              "      <td>0.231057</td>\n",
              "      <td>1.083314</td>\n",
              "      <td>0.843666</td>\n",
              "      <td>03:24</td>\n",
              "    </tr>\n",
              "  </tbody>\n",
              "</table>"
            ],
            "text/plain": [
              "<IPython.core.display.HTML object>"
            ]
          },
          "metadata": {
            "tags": []
          }
        }
      ]
    },
    {
      "cell_type": "code",
      "metadata": {
        "id": "KKydb0B4BKGk",
        "outputId": "f0d8328e-9b86-450e-fe95-2230cdbb37f9",
        "colab": {
          "base_uri": "https://localhost:8080/",
          "height": 173
        }
      },
      "source": [
        "learn.fit_one_cycle(4, slice(2e-3/100, 2e-3))"
      ],
      "execution_count": 39,
      "outputs": [
        {
          "output_type": "display_data",
          "data": {
            "text/html": [
              "<table border=\"1\" class=\"dataframe\">\n",
              "  <thead>\n",
              "    <tr style=\"text-align: left;\">\n",
              "      <th>epoch</th>\n",
              "      <th>train_loss</th>\n",
              "      <th>valid_loss</th>\n",
              "      <th>accuracy</th>\n",
              "      <th>time</th>\n",
              "    </tr>\n",
              "  </thead>\n",
              "  <tbody>\n",
              "    <tr>\n",
              "      <td>0</td>\n",
              "      <td>0.231627</td>\n",
              "      <td>1.102686</td>\n",
              "      <td>0.840970</td>\n",
              "      <td>03:15</td>\n",
              "    </tr>\n",
              "    <tr>\n",
              "      <td>1</td>\n",
              "      <td>0.262446</td>\n",
              "      <td>1.073779</td>\n",
              "      <td>0.838275</td>\n",
              "      <td>03:21</td>\n",
              "    </tr>\n",
              "    <tr>\n",
              "      <td>2</td>\n",
              "      <td>0.218744</td>\n",
              "      <td>1.058185</td>\n",
              "      <td>0.839623</td>\n",
              "      <td>03:22</td>\n",
              "    </tr>\n",
              "    <tr>\n",
              "      <td>3</td>\n",
              "      <td>0.190131</td>\n",
              "      <td>1.097912</td>\n",
              "      <td>0.843666</td>\n",
              "      <td>03:25</td>\n",
              "    </tr>\n",
              "  </tbody>\n",
              "</table>"
            ],
            "text/plain": [
              "<IPython.core.display.HTML object>"
            ]
          },
          "metadata": {
            "tags": []
          }
        }
      ]
    },
    {
      "cell_type": "code",
      "metadata": {
        "id": "T2APKtFKBpGY",
        "outputId": "094c24d4-74b9-42c7-eb07-dcfa5c3e85b1",
        "colab": {
          "base_uri": "https://localhost:8080/",
          "height": 173
        }
      },
      "source": [
        "learn.fit_one_cycle(4, slice(2e-3/100, 2e-3))"
      ],
      "execution_count": 40,
      "outputs": [
        {
          "output_type": "display_data",
          "data": {
            "text/html": [
              "<table border=\"1\" class=\"dataframe\">\n",
              "  <thead>\n",
              "    <tr style=\"text-align: left;\">\n",
              "      <th>epoch</th>\n",
              "      <th>train_loss</th>\n",
              "      <th>valid_loss</th>\n",
              "      <th>accuracy</th>\n",
              "      <th>time</th>\n",
              "    </tr>\n",
              "  </thead>\n",
              "  <tbody>\n",
              "    <tr>\n",
              "      <td>0</td>\n",
              "      <td>0.196522</td>\n",
              "      <td>1.094151</td>\n",
              "      <td>0.839623</td>\n",
              "      <td>03:12</td>\n",
              "    </tr>\n",
              "    <tr>\n",
              "      <td>1</td>\n",
              "      <td>0.222281</td>\n",
              "      <td>1.100802</td>\n",
              "      <td>0.840970</td>\n",
              "      <td>03:14</td>\n",
              "    </tr>\n",
              "    <tr>\n",
              "      <td>2</td>\n",
              "      <td>0.206858</td>\n",
              "      <td>1.091600</td>\n",
              "      <td>0.839623</td>\n",
              "      <td>03:25</td>\n",
              "    </tr>\n",
              "    <tr>\n",
              "      <td>3</td>\n",
              "      <td>0.189107</td>\n",
              "      <td>1.065056</td>\n",
              "      <td>0.840970</td>\n",
              "      <td>03:19</td>\n",
              "    </tr>\n",
              "  </tbody>\n",
              "</table>"
            ],
            "text/plain": [
              "<IPython.core.display.HTML object>"
            ]
          },
          "metadata": {
            "tags": []
          }
        }
      ]
    },
    {
      "cell_type": "code",
      "metadata": {
        "id": "qtTypA1sPgLU",
        "outputId": "9e767d2d-1332-4b74-9e43-fbb5fc59b137",
        "colab": {
          "base_uri": "https://localhost:8080/",
          "height": 111
        }
      },
      "source": [
        "learn.fit_one_cycle(2, slice(2e-3/100, 2e-3))"
      ],
      "execution_count": 41,
      "outputs": [
        {
          "output_type": "display_data",
          "data": {
            "text/html": [
              "<table border=\"1\" class=\"dataframe\">\n",
              "  <thead>\n",
              "    <tr style=\"text-align: left;\">\n",
              "      <th>epoch</th>\n",
              "      <th>train_loss</th>\n",
              "      <th>valid_loss</th>\n",
              "      <th>accuracy</th>\n",
              "      <th>time</th>\n",
              "    </tr>\n",
              "  </thead>\n",
              "  <tbody>\n",
              "    <tr>\n",
              "      <td>0</td>\n",
              "      <td>0.202211</td>\n",
              "      <td>1.130438</td>\n",
              "      <td>0.843666</td>\n",
              "      <td>03:10</td>\n",
              "    </tr>\n",
              "    <tr>\n",
              "      <td>1</td>\n",
              "      <td>0.205134</td>\n",
              "      <td>1.072265</td>\n",
              "      <td>0.839623</td>\n",
              "      <td>03:09</td>\n",
              "    </tr>\n",
              "  </tbody>\n",
              "</table>"
            ],
            "text/plain": [
              "<IPython.core.display.HTML object>"
            ]
          },
          "metadata": {
            "tags": []
          }
        }
      ]
    },
    {
      "cell_type": "code",
      "metadata": {
        "id": "b242kBsTUp9Y",
        "outputId": "42f286e0-e186-43d3-8b2c-438c46fd59ed",
        "colab": {
          "base_uri": "https://localhost:8080/",
          "height": 111
        }
      },
      "source": [
        "learn.fit_one_cycle(2, slice(2e-3/100, 2e-3))"
      ],
      "execution_count": 42,
      "outputs": [
        {
          "output_type": "display_data",
          "data": {
            "text/html": [
              "<table border=\"1\" class=\"dataframe\">\n",
              "  <thead>\n",
              "    <tr style=\"text-align: left;\">\n",
              "      <th>epoch</th>\n",
              "      <th>train_loss</th>\n",
              "      <th>valid_loss</th>\n",
              "      <th>accuracy</th>\n",
              "      <th>time</th>\n",
              "    </tr>\n",
              "  </thead>\n",
              "  <tbody>\n",
              "    <tr>\n",
              "      <td>0</td>\n",
              "      <td>0.222018</td>\n",
              "      <td>1.175793</td>\n",
              "      <td>0.831536</td>\n",
              "      <td>03:15</td>\n",
              "    </tr>\n",
              "    <tr>\n",
              "      <td>1</td>\n",
              "      <td>0.192070</td>\n",
              "      <td>1.051100</td>\n",
              "      <td>0.836927</td>\n",
              "      <td>03:23</td>\n",
              "    </tr>\n",
              "  </tbody>\n",
              "</table>"
            ],
            "text/plain": [
              "<IPython.core.display.HTML object>"
            ]
          },
          "metadata": {
            "tags": []
          }
        }
      ]
    },
    {
      "cell_type": "code",
      "metadata": {
        "id": "Duwf1Ih5VeDZ",
        "outputId": "8af5979f-18f1-4a0a-ca50-530c293b3abc",
        "colab": {
          "base_uri": "https://localhost:8080/",
          "height": 80
        }
      },
      "source": [
        "learn.fit_one_cycle(1, slice(2e-3/100, 2e-3))"
      ],
      "execution_count": 43,
      "outputs": [
        {
          "output_type": "display_data",
          "data": {
            "text/html": [
              "<table border=\"1\" class=\"dataframe\">\n",
              "  <thead>\n",
              "    <tr style=\"text-align: left;\">\n",
              "      <th>epoch</th>\n",
              "      <th>train_loss</th>\n",
              "      <th>valid_loss</th>\n",
              "      <th>accuracy</th>\n",
              "      <th>time</th>\n",
              "    </tr>\n",
              "  </thead>\n",
              "  <tbody>\n",
              "    <tr>\n",
              "      <td>0</td>\n",
              "      <td>0.177658</td>\n",
              "      <td>1.151106</td>\n",
              "      <td>0.835580</td>\n",
              "      <td>03:25</td>\n",
              "    </tr>\n",
              "  </tbody>\n",
              "</table>"
            ],
            "text/plain": [
              "<IPython.core.display.HTML object>"
            ]
          },
          "metadata": {
            "tags": []
          }
        }
      ]
    },
    {
      "cell_type": "code",
      "metadata": {
        "id": "c65d-osfDUXm"
      },
      "source": [
        "# save the best model\n",
        "\n",
        "learn.save_encoder('pubmed_cadec_askpatient_mixed_fold9')"
      ],
      "execution_count": 44,
      "outputs": []
    },
    {
      "cell_type": "markdown",
      "metadata": {
        "id": "rCwZU0E2RgM6"
      },
      "source": [
        "# Part three: Predict on the test dataset"
      ]
    },
    {
      "cell_type": "code",
      "metadata": {
        "id": "gDm72c-dOu7d",
        "outputId": "dedc18ef-0ec9-47c1-939e-ec73c01fed33",
        "colab": {
          "base_uri": "https://localhost:8080/",
          "height": 17
        }
      },
      "source": [
        "# use the test data for prediction\n",
        "\n",
        "preds, y = learn.get_preds(DatasetType.Test)"
      ],
      "execution_count": 45,
      "outputs": [
        {
          "output_type": "display_data",
          "data": {
            "text/html": [
              ""
            ],
            "text/plain": [
              "<IPython.core.display.HTML object>"
            ]
          },
          "metadata": {
            "tags": []
          }
        }
      ]
    },
    {
      "cell_type": "code",
      "metadata": {
        "id": "6tFSQcsWPvxn",
        "outputId": "9e0064d7-67bd-4dd8-e570-a808c8b8cbe1",
        "colab": {
          "base_uri": "https://localhost:8080/",
          "height": 105
        }
      },
      "source": [
        "predictions, *_ = learn.get_preds(DatasetType.Test)\n",
        "labels = np.argmax(predictions, 1)\n",
        "predict_list = labels.tolist()\n",
        "standard_list = test[0].tolist()\n",
        "\n",
        "print(len(predict_list))\n",
        "print(len(standard_list))\n",
        "\n",
        "print(predict_list)\n",
        "print(standard_list)"
      ],
      "execution_count": 46,
      "outputs": [
        {
          "output_type": "display_data",
          "data": {
            "text/html": [
              ""
            ],
            "text/plain": [
              "<IPython.core.display.HTML object>"
            ]
          },
          "metadata": {
            "tags": []
          }
        },
        {
          "output_type": "stream",
          "text": [
            "866\n",
            "866\n",
            "[524, 348, 444, 837, 8, 8, 8, 8, 8, 315, 16, 16, 20, 432, 21, 627, 27, 268, 27, 665, 31, 31, 31, 741, 37, 37, 37, 37, 37, 37, 37, 37, 37, 37, 38, 41, 1026, 325, 325, 49, 100, 50, 53, 53, 131, 60, 630, 63, 426, 801, 71, 890, 76, 76, 513, 79, 79, 79, 289, 289, 289, 289, 289, 289, 289, 289, 289, 289, 289, 289, 289, 289, 289, 289, 289, 289, 289, 289, 289, 289, 289, 289, 289, 265, 79, 79, 79, 79, 79, 46, 182, 289, 80, 6, 491, 294, 85, 88, 1003, 268, 137, 68, 91, 91, 92, 94, 94, 94, 94, 94, 94, 94, 94, 77, 244, 96, 594, 98, 98, 49, 100, 100, 100, 414, 214, 108, 108, 108, 108, 111, 111, 111, 111, 117, 117, 117, 117, 125, 125, 125, 125, 125, 125, 125, 125, 125, 125, 125, 125, 125, 125, 127, 129, 343, 427, 225, 137, 137, 137, 139, 872, 142, 148, 151, 151, 158, 160, 160, 321, 166, 166, 166, 166, 166, 166, 774, 172, 172, 172, 265, 172, 172, 172, 172, 173, 173, 624, 178, 181, 182, 182, 182, 182, 182, 183, 183, 183, 183, 183, 183, 184, 187, 187, 187, 188, 190, 190, 190, 190, 190, 190, 260, 197, 197, 202, 206, 210, 210, 210, 210, 381, 214, 853, 214, 214, 214, 214, 214, 214, 214, 214, 214, 425, 216, 216, 43, 218, 226, 226, 228, 228, 228, 228, 228, 228, 111, 719, 228, 228, 228, 228, 228, 228, 228, 228, 228, 228, 231, 232, 234, 234, 235, 235, 591, 235, 236, 236, 434, 68, 243, 298, 243, 243, 243, 243, 245, 245, 245, 245, 245, 245, 245, 245, 245, 246, 246, 253, 254, 254, 258, 260, 260, 289, 265, 265, 265, 265, 265, 265, 265, 265, 265, 265, 265, 265, 265, 265, 265, 265, 265, 265, 265, 265, 265, 265, 265, 265, 265, 265, 265, 531, 276, 277, 280, 280, 280, 281, 281, 283, 805, 37, 614, 289, 289, 289, 289, 289, 265, 289, 265, 701, 289, 289, 289, 289, 289, 289, 289, 289, 289, 289, 289, 289, 289, 543, 300, 300, 415, 301, 301, 301, 309, 309, 309, 309, 309, 309, 309, 321, 313, 236, 689, 318, 318, 318, 318, 318, 318, 265, 427, 427, 325, 427, 325, 325, 325, 325, 325, 325, 325, 325, 325, 879, 90, 235, 326, 332, 334, 336, 336, 337, 337, 337, 343, 343, 344, 402, 351, 16, 363, 363, 364, 364, 364, 365, 826, 384, 387, 391, 391, 402, 402, 358, 408, 408, 37, 37, 418, 471, 419, 419, 419, 419, 419, 426, 427, 427, 775, 427, 1000, 427, 615, 100, 615, 435, 28, 665, 437, 395, 443, 444, 806, 446, 142, 541, 455, 455, 455, 455, 455, 455, 455, 455, 455, 460, 460, 3, 462, 223, 686, 468, 470, 475, 475, 475, 475, 591, 476, 142, 488, 487, 489, 490, 491, 491, 491, 491, 491, 491, 491, 491, 492, 746, 499, 499, 34, 516, 516, 517, 383, 517, 517, 517, 517, 521, 522, 524, 529, 530, 615, 531, 531, 28, 98, 536, 864, 405, 405, 545, 545, 545, 545, 546, 548, 548, 73, 557, 559, 491, 565, 236, 521, 579, 579, 579, 902, 805, 590, 590, 591, 592, 594, 427, 597, 172, 610, 614, 614, 614, 614, 614, 614, 614, 614, 617, 620, 49, 623, 640, 623, 623, 982, 857, 635, 643, 644, 894, 646, 646, 646, 756, 572, 652, 652, 652, 652, 656, 648, 491, 491, 491, 662, 810, 670, 838, 676, 676, 686, 686, 488, 690, 693, 696, 700, 289, 704, 676, 708, 657, 716, 717, 851, 715, 827, 730, 866, 910, 649, 746, 746, 746, 746, 749, 750, 625, 315, 770, 772, 773, 100, 775, 775, 775, 852, 823, 795, 798, 753, 804, 805, 299, 806, 806, 808, 808, 809, 809, 809, 809, 809, 536, 810, 812, 825, 826, 826, 1026, 830, 830, 830, 830, 830, 830, 830, 830, 719, 834, 839, 427, 236, 840, 840, 841, 809, 843, 846, 846, 847, 848, 851, 852, 852, 853, 853, 853, 853, 853, 853, 853, 853, 853, 853, 853, 853, 291, 117, 37, 172, 872, 323, 760, 888, 888, 892, 896, 896, 896, 896, 896, 896, 896, 896, 897, 896, 866, 912, 919, 919, 919, 919, 919, 933, 936, 937, 937, 719, 937, 943, 948, 948, 948, 949, 949, 949, 949, 949, 949, 949, 949, 949, 949, 949, 949, 949, 949, 949, 949, 949, 949, 949, 949, 949, 949, 949, 949, 949, 949, 949, 949, 949, 949, 949, 949, 949, 949, 949, 949, 949, 949, 949, 949, 949, 949, 949, 949, 949, 949, 949, 949, 949, 949, 949, 949, 949, 949, 949, 949, 949, 949, 949, 949, 949, 949, 949, 949, 949, 949, 949, 949, 949, 949, 949, 949, 949, 949, 949, 949, 949, 949, 949, 949, 949, 949, 949, 949, 949, 949, 949, 949, 949, 949, 949, 949, 949, 949, 949, 949, 949, 949, 949, 949, 949, 949, 949, 949, 949, 949, 949, 949, 949, 949, 949, 950, 950, 950, 950, 48, 950, 952, 953, 955, 960, 961, 469, 964, 965, 966, 970, 969, 976, 719, 448, 992, 991, 1001, 1026, 1015, 1015, 1015, 1017, 1024, 1026, 1026, 1028, 1032, 1035]\n",
            "[2, 4, 5, 7, 8, 8, 8, 8, 8, 11, 16, 16, 20, 20, 21, 24, 27, 27, 27, 29, 31, 31, 31, 37, 37, 37, 37, 37, 37, 37, 37, 37, 37, 37, 38, 41, 49, 49, 49, 49, 49, 50, 53, 53, 55, 60, 61, 63, 65, 66, 71, 73, 76, 76, 78, 79, 79, 79, 79, 79, 79, 79, 79, 79, 79, 79, 79, 79, 79, 79, 79, 79, 79, 79, 79, 79, 79, 79, 79, 79, 79, 79, 79, 79, 79, 79, 79, 79, 79, 79, 79, 79, 80, 80, 82, 82, 85, 88, 88, 89, 89, 91, 91, 91, 92, 94, 94, 94, 94, 94, 94, 94, 94, 94, 96, 96, 97, 98, 98, 100, 100, 100, 100, 100, 107, 108, 108, 108, 108, 111, 111, 111, 111, 117, 117, 117, 117, 125, 125, 125, 125, 125, 125, 125, 125, 125, 125, 125, 125, 125, 125, 127, 129, 129, 133, 135, 137, 137, 137, 139, 140, 142, 148, 151, 151, 158, 160, 160, 163, 166, 166, 166, 166, 166, 166, 166, 172, 172, 172, 172, 172, 172, 172, 172, 173, 173, 175, 178, 181, 182, 182, 182, 182, 182, 183, 183, 183, 183, 183, 183, 184, 187, 187, 187, 188, 190, 190, 190, 190, 190, 190, 190, 197, 197, 202, 206, 210, 210, 210, 210, 212, 214, 214, 214, 214, 214, 214, 214, 214, 214, 214, 214, 215, 216, 216, 218, 218, 226, 226, 228, 228, 228, 228, 228, 228, 228, 228, 228, 228, 228, 228, 228, 228, 228, 228, 228, 228, 231, 232, 234, 234, 235, 235, 235, 235, 236, 236, 238, 238, 243, 243, 243, 243, 243, 243, 245, 245, 245, 245, 245, 245, 245, 245, 245, 246, 246, 253, 254, 254, 258, 260, 260, 260, 265, 265, 265, 265, 265, 265, 265, 265, 265, 265, 265, 265, 265, 265, 265, 265, 265, 265, 265, 265, 265, 265, 265, 265, 265, 265, 265, 272, 276, 277, 280, 280, 280, 281, 281, 283, 288, 289, 289, 289, 289, 289, 289, 289, 289, 289, 289, 289, 289, 289, 289, 289, 289, 289, 289, 289, 289, 289, 289, 289, 289, 291, 300, 300, 301, 301, 301, 301, 309, 309, 309, 309, 309, 309, 309, 311, 313, 314, 316, 318, 318, 318, 318, 318, 318, 318, 325, 325, 325, 325, 325, 325, 325, 325, 325, 325, 325, 325, 325, 325, 325, 325, 326, 332, 334, 336, 336, 337, 337, 337, 343, 343, 344, 344, 351, 359, 363, 363, 364, 364, 364, 367, 377, 384, 387, 391, 391, 402, 402, 402, 408, 408, 415, 415, 418, 419, 419, 419, 419, 419, 419, 426, 427, 427, 427, 427, 427, 427, 427, 427, 427, 435, 436, 437, 437, 438, 443, 444, 445, 446, 447, 455, 455, 455, 455, 455, 455, 455, 455, 455, 455, 460, 460, 461, 462, 463, 467, 468, 470, 475, 475, 475, 475, 475, 476, 479, 487, 487, 489, 490, 491, 491, 491, 491, 491, 491, 491, 491, 492, 493, 499, 499, 500, 516, 516, 517, 517, 517, 517, 517, 517, 521, 522, 524, 529, 530, 531, 531, 531, 532, 533, 536, 539, 541, 541, 545, 545, 545, 545, 546, 548, 548, 554, 557, 559, 562, 565, 574, 577, 579, 579, 579, 581, 589, 590, 590, 591, 592, 594, 597, 597, 604, 610, 614, 614, 614, 614, 614, 614, 614, 614, 617, 620, 621, 623, 623, 623, 623, 629, 634, 635, 643, 644, 645, 646, 646, 646, 648, 651, 652, 652, 652, 652, 656, 658, 662, 662, 662, 662, 666, 670, 673, 677, 677, 686, 686, 688, 692, 693, 697, 700, 700, 704, 706, 708, 713, 715, 717, 728, 728, 728, 730, 733, 741, 741, 746, 746, 746, 746, 749, 750, 759, 762, 770, 772, 773, 775, 775, 775, 775, 785, 791, 795, 798, 803, 804, 805, 805, 806, 806, 808, 808, 809, 809, 809, 809, 809, 810, 810, 812, 825, 826, 826, 830, 830, 830, 830, 830, 830, 830, 830, 830, 834, 834, 839, 840, 840, 840, 840, 841, 842, 843, 844, 846, 847, 848, 851, 852, 852, 853, 853, 853, 853, 853, 853, 853, 853, 853, 853, 853, 853, 853, 855, 861, 864, 872, 881, 885, 888, 888, 892, 896, 896, 896, 896, 896, 896, 896, 897, 897, 897, 899, 912, 919, 919, 919, 919, 919, 933, 936, 937, 937, 937, 937, 943, 948, 948, 948, 949, 949, 949, 949, 949, 949, 949, 949, 949, 949, 949, 949, 949, 949, 949, 949, 949, 949, 949, 949, 949, 949, 949, 949, 949, 949, 949, 949, 949, 949, 949, 949, 949, 949, 949, 949, 949, 949, 949, 949, 949, 949, 949, 949, 949, 949, 949, 949, 949, 949, 949, 949, 949, 949, 949, 949, 949, 949, 949, 949, 949, 949, 949, 949, 949, 949, 949, 949, 949, 949, 949, 949, 949, 949, 949, 949, 949, 949, 949, 949, 949, 949, 949, 949, 949, 949, 949, 949, 949, 949, 949, 949, 949, 949, 949, 949, 949, 949, 949, 949, 949, 949, 949, 949, 949, 949, 949, 949, 949, 949, 949, 950, 950, 950, 950, 950, 950, 952, 953, 955, 960, 961, 964, 964, 965, 966, 970, 975, 976, 985, 988, 992, 995, 1001, 1009, 1015, 1015, 1015, 1017, 1024, 1026, 1026, 1028, 1032, 1035]\n"
          ],
          "name": "stdout"
        }
      ]
    },
    {
      "cell_type": "code",
      "metadata": {
        "id": "XIC4zufnMxtq",
        "outputId": "21078ef8-b145-4a86-e321-5616930fe874",
        "colab": {
          "base_uri": "https://localhost:8080/",
          "height": 51
        }
      },
      "source": [
        "correct_num = 0\n",
        "\n",
        "for i in range(0, len(standard_list)):\n",
        "  if predict_list[i] == standard_list[i]:\n",
        "    correct_num = correct_num+1\n",
        "  else:\n",
        "    pass\n",
        "print(correct_num)\n",
        "\n",
        "predict_accuracy = correct_num/len(predict_list)\n",
        "print(predict_accuracy)"
      ],
      "execution_count": 47,
      "outputs": [
        {
          "output_type": "stream",
          "text": [
            "664\n",
            "0.766743648960739\n"
          ],
          "name": "stdout"
        }
      ]
    },
    {
      "cell_type": "code",
      "metadata": {
        "id": "zlKMHp1CIaRJ"
      },
      "source": [
        ""
      ],
      "execution_count": 47,
      "outputs": []
    }
  ]
}