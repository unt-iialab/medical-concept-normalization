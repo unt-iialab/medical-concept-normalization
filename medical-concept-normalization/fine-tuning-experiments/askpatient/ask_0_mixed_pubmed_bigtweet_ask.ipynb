{
  "nbformat": 4,
  "nbformat_minor": 0,
  "metadata": {
    "accelerator": "TPU",
    "colab": {
      "name": "ask_0_mixed_pubmed_bigtweet_ask.ipynb",
      "provenance": [],
      "collapsed_sections": [],
      "include_colab_link": true
    },
    "kernelspec": {
      "display_name": "Python 3",
      "name": "python3"
    }
  },
  "cells": [
    {
      "cell_type": "markdown",
      "metadata": {
        "id": "view-in-github",
        "colab_type": "text"
      },
      "source": [
        "<a href=\"https://colab.research.google.com/github/unt-iialab/medical-concept-normalization/blob/master/medical-concept-normalization/fine-tuning-experiments/askpatient/ask_0_mixed_pubmed_bigtweet_ask.ipynb\" target=\"_parent\"><img src=\"https://colab.research.google.com/assets/colab-badge.svg\" alt=\"Open In Colab\"/></a>"
      ]
    },
    {
      "cell_type": "code",
      "metadata": {
        "id": "adSi6i2-dWxy"
      },
      "source": [
        "import os"
      ],
      "execution_count": 1,
      "outputs": []
    },
    {
      "cell_type": "code",
      "metadata": {
        "id": "E7xYCRGPjd9B"
      },
      "source": [
        "base_dir = 'medical-concept-normalization'"
      ],
      "execution_count": 2,
      "outputs": []
    },
    {
      "cell_type": "code",
      "metadata": {
        "id": "yvIW3aUDjYNS"
      },
      "source": [
        "os.mkdir(base_dir)"
      ],
      "execution_count": 3,
      "outputs": []
    },
    {
      "cell_type": "code",
      "metadata": {
        "id": "es-FFLlfk6SG"
      },
      "source": [
        "os.mkdir('medical-concept-normalization/data_collection')"
      ],
      "execution_count": 4,
      "outputs": []
    },
    {
      "cell_type": "markdown",
      "metadata": {
        "id": "0R-Guw_VoJXm"
      },
      "source": [
        "**Install fastai and clone the fastai for text classification**\n",
        "\n"
      ]
    },
    {
      "cell_type": "code",
      "metadata": {
        "id": "QVZa3Z0PmHFH",
        "outputId": "00d8e02f-40fc-4463-af8d-0352d98bd66d",
        "colab": {
          "base_uri": "https://localhost:8080/",
          "height": 68
        }
      },
      "source": [
        "!curl https://course-v3.fast.ai/setup/colab | bash"
      ],
      "execution_count": 5,
      "outputs": [
        {
          "output_type": "stream",
          "text": [
            "  % Total    % Received % Xferd  Average Speed   Time    Time     Time  Current\n",
            "                                 Dload  Upload   Total   Spent    Left  Speed\n",
            "\r  0     0    0     0    0     0      0      0 --:--:-- --:--:-- --:--:--     0curl: (6) Could not resolve host: course-v3.fast.ai\n"
          ],
          "name": "stdout"
        }
      ]
    },
    {
      "cell_type": "code",
      "metadata": {
        "id": "_FBFFEBrmJC0",
        "outputId": "0f8a02d3-5d54-4623-f728-8b251529773c",
        "colab": {
          "base_uri": "https://localhost:8080/",
          "height": 85
        }
      },
      "source": [
        "!git clone https://github.com/wshuyi/demo-nlp-classification-fastai.git"
      ],
      "execution_count": 6,
      "outputs": [
        {
          "output_type": "stream",
          "text": [
            "Cloning into 'demo-nlp-classification-fastai'...\n",
            "remote: Enumerating objects: 9, done.\u001b[K\n",
            "remote: Total 9 (delta 0), reused 0 (delta 0), pack-reused 9\u001b[K\n",
            "Unpacking objects: 100% (9/9), done.\n"
          ],
          "name": "stdout"
        }
      ]
    },
    {
      "cell_type": "code",
      "metadata": {
        "id": "66zfh_JqmWMU"
      },
      "source": [
        "from fastai import *\n",
        "from fastai.text import *"
      ],
      "execution_count": 7,
      "outputs": []
    },
    {
      "cell_type": "markdown",
      "metadata": {
        "id": "mNIw-yALdBU9"
      },
      "source": [
        "**Set the path of the data collections**"
      ]
    },
    {
      "cell_type": "code",
      "metadata": {
        "id": "pzH7VMh4mqCL"
      },
      "source": [
        "path = Path('medical-concept-normalization/data_collection')"
      ],
      "execution_count": 8,
      "outputs": []
    },
    {
      "cell_type": "code",
      "metadata": {
        "id": "b8fjI6yyn4aS"
      },
      "source": [
        "# training data set\n",
        "\n",
        "train_csv = path/'AskAPatient.fold-0.train.csv'\n",
        "train = pd.read_csv(train_csv, header=None)\n",
        "#train.head()\n",
        "#train.info()"
      ],
      "execution_count": 10,
      "outputs": []
    },
    {
      "cell_type": "code",
      "metadata": {
        "id": "Hmlr-bAorfHd",
        "outputId": "b5a6f847-0db9-4cdb-faa0-4b8f724a8a94",
        "colab": {
          "base_uri": "https://localhost:8080/",
          "height": 204
        }
      },
      "source": [
        "# validating data set\n",
        "\n",
        "valid = pd.read_csv(path/\"AskAPatient.fold-0.validation.csv\",header=None)\n",
        "valid.head()"
      ],
      "execution_count": 11,
      "outputs": [
        {
          "output_type": "execute_result",
          "data": {
            "text/html": [
              "<div>\n",
              "<style scoped>\n",
              "    .dataframe tbody tr th:only-of-type {\n",
              "        vertical-align: middle;\n",
              "    }\n",
              "\n",
              "    .dataframe tbody tr th {\n",
              "        vertical-align: top;\n",
              "    }\n",
              "\n",
              "    .dataframe thead th {\n",
              "        text-align: right;\n",
              "    }\n",
              "</style>\n",
              "<table border=\"1\" class=\"dataframe\">\n",
              "  <thead>\n",
              "    <tr style=\"text-align: right;\">\n",
              "      <th></th>\n",
              "      <th>0</th>\n",
              "      <th>1</th>\n",
              "    </tr>\n",
              "  </thead>\n",
              "  <tbody>\n",
              "    <tr>\n",
              "      <th>0</th>\n",
              "      <td>0</td>\n",
              "      <td>fear</td>\n",
              "    </tr>\n",
              "    <tr>\n",
              "      <th>1</th>\n",
              "      <td>2</td>\n",
              "      <td>heel pain</td>\n",
              "    </tr>\n",
              "    <tr>\n",
              "      <th>2</th>\n",
              "      <td>4</td>\n",
              "      <td>purple sploches around waist</td>\n",
              "    </tr>\n",
              "    <tr>\n",
              "      <th>3</th>\n",
              "      <td>7</td>\n",
              "      <td>goiter</td>\n",
              "    </tr>\n",
              "    <tr>\n",
              "      <th>4</th>\n",
              "      <td>8</td>\n",
              "      <td>ARTHRITIS</td>\n",
              "    </tr>\n",
              "  </tbody>\n",
              "</table>\n",
              "</div>"
            ],
            "text/plain": [
              "   0                             1\n",
              "0  0                          fear\n",
              "1  2                     heel pain\n",
              "2  4  purple sploches around waist\n",
              "3  7                        goiter\n",
              "4  8                     ARTHRITIS"
            ]
          },
          "metadata": {
            "tags": []
          },
          "execution_count": 11
        }
      ]
    },
    {
      "cell_type": "code",
      "metadata": {
        "id": "cOza9dfSsBud",
        "outputId": "d4e7c31f-c015-418e-bcfa-6a374dcfa8d0",
        "colab": {
          "base_uri": "https://localhost:8080/",
          "height": 204
        }
      },
      "source": [
        "# testing data set\n",
        "\n",
        "test = pd.read_csv(path/\"AskAPatient.fold-0.test.csv\",header=None)\n",
        "test.head()"
      ],
      "execution_count": 12,
      "outputs": [
        {
          "output_type": "execute_result",
          "data": {
            "text/html": [
              "<div>\n",
              "<style scoped>\n",
              "    .dataframe tbody tr th:only-of-type {\n",
              "        vertical-align: middle;\n",
              "    }\n",
              "\n",
              "    .dataframe tbody tr th {\n",
              "        vertical-align: top;\n",
              "    }\n",
              "\n",
              "    .dataframe thead th {\n",
              "        text-align: right;\n",
              "    }\n",
              "</style>\n",
              "<table border=\"1\" class=\"dataframe\">\n",
              "  <thead>\n",
              "    <tr style=\"text-align: right;\">\n",
              "      <th></th>\n",
              "      <th>0</th>\n",
              "      <th>1</th>\n",
              "    </tr>\n",
              "  </thead>\n",
              "  <tbody>\n",
              "    <tr>\n",
              "      <th>0</th>\n",
              "      <td>0</td>\n",
              "      <td>'scared' feeling</td>\n",
              "    </tr>\n",
              "    <tr>\n",
              "      <th>1</th>\n",
              "      <td>2</td>\n",
              "      <td>heel pain</td>\n",
              "    </tr>\n",
              "    <tr>\n",
              "      <th>2</th>\n",
              "      <td>3</td>\n",
              "      <td>cracking sensations in my joints</td>\n",
              "    </tr>\n",
              "    <tr>\n",
              "      <th>3</th>\n",
              "      <td>5</td>\n",
              "      <td>fast and slow heartbeat</td>\n",
              "    </tr>\n",
              "    <tr>\n",
              "      <th>4</th>\n",
              "      <td>5</td>\n",
              "      <td>increased heart rate</td>\n",
              "    </tr>\n",
              "  </tbody>\n",
              "</table>\n",
              "</div>"
            ],
            "text/plain": [
              "   0                                 1\n",
              "0  0                  'scared' feeling\n",
              "1  2                         heel pain\n",
              "2  3  cracking sensations in my joints\n",
              "3  5           fast and slow heartbeat\n",
              "4  5              increased heart rate"
            ]
          },
          "metadata": {
            "tags": []
          },
          "execution_count": 12
        }
      ]
    },
    {
      "cell_type": "code",
      "metadata": {
        "id": "Vo-YNvVYoaH6",
        "outputId": "a59e8189-784b-460b-a673-94372d3def9c",
        "colab": {
          "base_uri": "https://localhost:8080/",
          "height": 17
        }
      },
      "source": [
        "# Creating DataBunch for language modelling\n",
        "\n",
        "data_lm = TextLMDataBunch.from_csv(path, 'mixed_pubmed_bigtweet_askpatient.csv')"
      ],
      "execution_count": 13,
      "outputs": [
        {
          "output_type": "display_data",
          "data": {
            "text/html": [
              ""
            ],
            "text/plain": [
              "<IPython.core.display.HTML object>"
            ]
          },
          "metadata": {
            "tags": []
          }
        },
        {
          "output_type": "display_data",
          "data": {
            "text/html": [
              ""
            ],
            "text/plain": [
              "<IPython.core.display.HTML object>"
            ]
          },
          "metadata": {
            "tags": []
          }
        }
      ]
    },
    {
      "cell_type": "code",
      "metadata": {
        "id": "qcV-9kMnNLBf"
      },
      "source": [
        ""
      ],
      "execution_count": 13,
      "outputs": []
    },
    {
      "cell_type": "code",
      "metadata": {
        "id": "1ScY9afDsnvE"
      },
      "source": [
        "# Creating DataBunch for classification\n",
        "\n",
        "# data_clas = TextClasDataBunch.from_df(path, train, valid, test, vocab=data_lm.train_ds.vocab, bs=128)"
      ],
      "execution_count": 14,
      "outputs": []
    },
    {
      "cell_type": "code",
      "metadata": {
        "id": "gzrSdQcvey9p",
        "outputId": "9f0e93cb-a9fd-4e6b-c2dc-a10afbaf23f3",
        "colab": {
          "base_uri": "https://localhost:8080/",
          "height": 17
        }
      },
      "source": [
        "data_clas = TextClasDataBunch.from_df(path, train, valid, vocab=data_lm.train_ds.vocab, bs=128)"
      ],
      "execution_count": 15,
      "outputs": [
        {
          "output_type": "display_data",
          "data": {
            "text/html": [
              ""
            ],
            "text/plain": [
              "<IPython.core.display.HTML object>"
            ]
          },
          "metadata": {
            "tags": []
          }
        },
        {
          "output_type": "display_data",
          "data": {
            "text/html": [
              ""
            ],
            "text/plain": [
              "<IPython.core.display.HTML object>"
            ]
          },
          "metadata": {
            "tags": []
          }
        }
      ]
    },
    {
      "cell_type": "code",
      "metadata": {
        "id": "MD27Tf0Ke3ou",
        "outputId": "0a0789b4-fd8e-4e7a-c708-39fc6213801a",
        "colab": {
          "base_uri": "https://localhost:8080/",
          "height": 17
        }
      },
      "source": [
        "data_clas.add_test(test,label=0)\n"
      ],
      "execution_count": 16,
      "outputs": [
        {
          "output_type": "display_data",
          "data": {
            "text/html": [
              ""
            ],
            "text/plain": [
              "<IPython.core.display.HTML object>"
            ]
          },
          "metadata": {
            "tags": []
          }
        }
      ]
    },
    {
      "cell_type": "code",
      "metadata": {
        "id": "-dpjnk_rstwk"
      },
      "source": [
        "data_lm.save()\n",
        "data_clas.save()"
      ],
      "execution_count": 17,
      "outputs": []
    },
    {
      "cell_type": "code",
      "metadata": {
        "id": "4OkiJa36sw5s",
        "outputId": "64e7591c-7351-4a3f-abf4-c906689d1dd8",
        "colab": {
          "base_uri": "https://localhost:8080/",
          "height": 1000
        }
      },
      "source": [
        "data_lm.train_ds.vocab.itos"
      ],
      "execution_count": 18,
      "outputs": [
        {
          "output_type": "execute_result",
          "data": {
            "text/plain": [
              "['xxunk',\n",
              " 'xxpad',\n",
              " 'xxbos',\n",
              " 'xxeos',\n",
              " 'xxfld',\n",
              " 'xxmaj',\n",
              " 'xxup',\n",
              " 'xxrep',\n",
              " 'xxwrep',\n",
              " 'pain',\n",
              " 'of',\n",
              " 'the',\n",
              " 'in',\n",
              " 'lipitor',\n",
              " 'and',\n",
              " 'to',\n",
              " 'a',\n",
              " 'muscle',\n",
              " 'with',\n",
              " 'for',\n",
              " 'was',\n",
              " 'diclofenac',\n",
              " 'were',\n",
              " 'severe',\n",
              " 'on',\n",
              " 'my',\n",
              " 'is',\n",
              " 'myalgia',\n",
              " 'lower',\n",
              " 'fatigue',\n",
              " 'rt',\n",
              " 'loss',\n",
              " 'by',\n",
              " 'limb',\n",
              " 'cramp',\n",
              " 'sodium',\n",
              " 'weakness',\n",
              " 'at',\n",
              " 'disease',\n",
              " 'that',\n",
              " 'stomach',\n",
              " 'or',\n",
              " 'as',\n",
              " 'back',\n",
              " 'depression',\n",
              " '-',\n",
              " 'patients',\n",
              " 'from',\n",
              " 'i',\n",
              " 'cramps',\n",
              " 'this',\n",
              " 'not',\n",
              " 'upper',\n",
              " 'gas',\n",
              " 'joint',\n",
              " 'drug',\n",
              " 'memory',\n",
              " 'leg',\n",
              " 'you',\n",
              " 'mg',\n",
              " 'all',\n",
              " 'legs',\n",
              " 'pains',\n",
              " 'knee',\n",
              " 'headache',\n",
              " 'be',\n",
              " 'group',\n",
              " 'are',\n",
              " 'study',\n",
              " 'shoulder',\n",
              " 'unable',\n",
              " 'arthralgia',\n",
              " 'gastrointestinal',\n",
              " 'treatment',\n",
              " 'excessive',\n",
              " 'foot',\n",
              " 'neck',\n",
              " 'after',\n",
              " 'it',\n",
              " 'arthritis',\n",
              " 'an',\n",
              " 'aches',\n",
              " 'have',\n",
              " 'hip',\n",
              " 'amp',\n",
              " 'voltaren',\n",
              " 'like',\n",
              " 'p',\n",
              " 'numbness',\n",
              " 'insomnia',\n",
              " 'release',\n",
              " 'increased',\n",
              " 'arthrotec',\n",
              " 'no',\n",
              " '/',\n",
              " 'nausea',\n",
              " 'both',\n",
              " 'time',\n",
              " 'bleeding',\n",
              " 'gluten',\n",
              " 'abdominal',\n",
              " 'tired',\n",
              " 'can',\n",
              " 'skin',\n",
              " 'swelling',\n",
              " 'feeling',\n",
              " 'asthenia',\n",
              " 'walk',\n",
              " 'dizziness',\n",
              " 'than',\n",
              " 'heart',\n",
              " 'problems',\n",
              " 'could',\n",
              " 'walking',\n",
              " 'high',\n",
              " 'blood',\n",
              " 'up',\n",
              " 'we',\n",
              " 'feet',\n",
              " 'out',\n",
              " 'effect',\n",
              " 'free',\n",
              " 'hand',\n",
              " 'difficulty',\n",
              " 'muscles',\n",
              " 'more',\n",
              " 'cholesterol',\n",
              " 'compared',\n",
              " 'low',\n",
              " 'chest',\n",
              " 'acid',\n",
              " 'zocor',\n",
              " 'ache',\n",
              " 'hair',\n",
              " 'very',\n",
              " 'extreme',\n",
              " 'new',\n",
              " 'vision',\n",
              " 'burning',\n",
              " 'backache',\n",
              " 'using',\n",
              " 'inflammatory',\n",
              " 'stiffness',\n",
              " 'effects',\n",
              " 'weight',\n",
              " 'pins',\n",
              " 'needles',\n",
              " 'liver',\n",
              " 'your',\n",
              " 'groups',\n",
              " 'right',\n",
              " 'h',\n",
              " 'between',\n",
              " 'sleep',\n",
              " 'diarrhoea',\n",
              " 'day',\n",
              " 'two',\n",
              " 'has',\n",
              " 'cramping',\n",
              " 'our',\n",
              " 'amnesia',\n",
              " 'significantly',\n",
              " 'significant',\n",
              " 'its',\n",
              " 'concentration',\n",
              " 'about',\n",
              " 'these',\n",
              " 'disability',\n",
              " 'use',\n",
              " 'but',\n",
              " 'drugs',\n",
              " 'left',\n",
              " 'impairment',\n",
              " 'one',\n",
              " 'anti',\n",
              " 'potassium',\n",
              " 'c',\n",
              " 'had',\n",
              " 'which',\n",
              " 'calf',\n",
              " 'tingling',\n",
              " 'do',\n",
              " 'anxiety',\n",
              " 'term',\n",
              " 'short',\n",
              " 'symptom',\n",
              " 'lack',\n",
              " 'results',\n",
              " 'used',\n",
              " 'pressure',\n",
              " 'placebo',\n",
              " 'dose',\n",
              " 'also',\n",
              " 'constipation',\n",
              " 'what',\n",
              " 'stiff',\n",
              " 's',\n",
              " 'nt',\n",
              " 'glutenfree',\n",
              " 'when',\n",
              " 'bloating',\n",
              " 'over',\n",
              " 'arm',\n",
              " 'poor',\n",
              " 'body',\n",
              " 'ds',\n",
              " 'efficacy',\n",
              " 'so',\n",
              " 'reduced',\n",
              " 'neuropathy',\n",
              " 'days',\n",
              " 'may',\n",
              " 'been',\n",
              " 'disorder',\n",
              " 'm',\n",
              " 'headaches',\n",
              " 'there',\n",
              " 'acute',\n",
              " 'celiac',\n",
              " 'treated',\n",
              " 'arms',\n",
              " 'ml',\n",
              " 'sore',\n",
              " 'blurred',\n",
              " 'hands',\n",
              " 'balance',\n",
              " 'showed',\n",
              " 'get',\n",
              " 'well',\n",
              " 'w',\n",
              " 'joints',\n",
              " 'visual',\n",
              " 'serum',\n",
              " 'now',\n",
              " 'symptoms',\n",
              " 'ankle',\n",
              " 'topical',\n",
              " 'rats',\n",
              " 'tiredness',\n",
              " 'into',\n",
              " 'pravachol',\n",
              " 'different',\n",
              " 'studies',\n",
              " 'sensation',\n",
              " 'renal',\n",
              " 'food',\n",
              " 'administration',\n",
              " 'myositis',\n",
              " 'products',\n",
              " 'vaginal',\n",
              " 'myocardial',\n",
              " 'infarction',\n",
              " 'hurt',\n",
              " 'their',\n",
              " 'during',\n",
              " 'rash',\n",
              " 'non',\n",
              " 'test',\n",
              " 'control',\n",
              " 'atrophy',\n",
              " 'via',\n",
              " 'oral',\n",
              " 'rate',\n",
              " 'swollen',\n",
              " 'vertigo',\n",
              " 'mentally',\n",
              " 'how',\n",
              " 'damage',\n",
              " 'found',\n",
              " 'diabetes',\n",
              " 'induced',\n",
              " 'generalised',\n",
              " 'painful',\n",
              " 'itching',\n",
              " 'levels',\n",
              " 'energy',\n",
              " 'respectively',\n",
              " 'other',\n",
              " 'if',\n",
              " 'constant',\n",
              " 'clinical',\n",
              " \"'s\",\n",
              " 'first',\n",
              " 'plasma',\n",
              " 'who',\n",
              " 'decreased',\n",
              " 'nsaids',\n",
              " 'atorvastatin',\n",
              " 'ubidecarenone',\n",
              " 'did',\n",
              " 'attack',\n",
              " ')',\n",
              " 'upset',\n",
              " 'tablets',\n",
              " 'dry',\n",
              " 'gel',\n",
              " 'effective',\n",
              " 'diarrhea',\n",
              " 'syndrome',\n",
              " 'chronic',\n",
              " 'post',\n",
              " 'method',\n",
              " 'type',\n",
              " 'formulations',\n",
              " 'only',\n",
              " 'gain',\n",
              " 'me',\n",
              " 'observed',\n",
              " 'hours',\n",
              " 'diet',\n",
              " ',',\n",
              " 'three',\n",
              " 'raised',\n",
              " 'formulation',\n",
              " 'illness',\n",
              " \"n't\",\n",
              " 'period',\n",
              " 'ph',\n",
              " 'g',\n",
              " 'eye',\n",
              " 'urine',\n",
              " 'those',\n",
              " 'feel',\n",
              " '(',\n",
              " 'review',\n",
              " 'received',\n",
              " 'dull',\n",
              " 'hazy',\n",
              " 'mean',\n",
              " 'shoulders',\n",
              " 'elevated',\n",
              " 'movement',\n",
              " 'adverse',\n",
              " 'weak',\n",
              " 'tip',\n",
              " 'solution',\n",
              " 'n',\n",
              " 'present',\n",
              " 'spasm',\n",
              " 'crestor',\n",
              " 'less',\n",
              " 'kg',\n",
              " 'd',\n",
              " 'increase',\n",
              " 'tendonitis',\n",
              " 'bad',\n",
              " 'influenza',\n",
              " 'discomfort',\n",
              " 'controlled',\n",
              " 'ibuprofen',\n",
              " 'analysis',\n",
              " 'each',\n",
              " 'heavy',\n",
              " 'kidney',\n",
              " 'analgesic',\n",
              " 'elbow',\n",
              " 'most',\n",
              " 'sleeping',\n",
              " 'side',\n",
              " 'vitro',\n",
              " 'exhaustion',\n",
              " 'week',\n",
              " 'tablet',\n",
              " 'activity',\n",
              " 'spasms',\n",
              " 'mood',\n",
              " 'inflammation',\n",
              " 'level',\n",
              " 'some',\n",
              " 'knees',\n",
              " 'just',\n",
              " 'concentrations',\n",
              " 'myopathy',\n",
              " 'vomiting',\n",
              " 'toe',\n",
              " 'data',\n",
              " 'flatulence',\n",
              " 'they',\n",
              " 'reflux',\n",
              " 'problem',\n",
              " 'migraine',\n",
              " 'system',\n",
              " 'following',\n",
              " 'abnormal',\n",
              " 'irritable',\n",
              " 'daily',\n",
              " 'total',\n",
              " 'libido',\n",
              " 'similar',\n",
              " 'concentrate',\n",
              " 'function',\n",
              " 'however',\n",
              " 'before',\n",
              " 'sclerosis',\n",
              " 'dblclick',\n",
              " 'ca',\n",
              " 'injury',\n",
              " 'single',\n",
              " 'l',\n",
              " 'fibromyalgia',\n",
              " 'randomized',\n",
              " 'b',\n",
              " 'pic',\n",
              " 'years',\n",
              " 'patient',\n",
              " 'surgery',\n",
              " 'throat',\n",
              " 'weeks',\n",
              " 'think',\n",
              " 'thigh',\n",
              " 'bed',\n",
              " 'brain',\n",
              " 'model',\n",
              " 'here',\n",
              " 'why',\n",
              " 'flu',\n",
              " 'mild',\n",
              " 'difference',\n",
              " 'good',\n",
              " 'obtained',\n",
              " 'double',\n",
              " 'evaluated',\n",
              " 'cold',\n",
              " 'multiple',\n",
              " 'water',\n",
              " 'nsaid',\n",
              " 'eyes',\n",
              " 'higher',\n",
              " 'simvastatin',\n",
              " 't',\n",
              " 'under',\n",
              " 'osteoarthritis',\n",
              " 'will',\n",
              " 'postoperative',\n",
              " 'peripheral',\n",
              " 'due',\n",
              " 'mellitus',\n",
              " 'sweating',\n",
              " 'while',\n",
              " 'healthy',\n",
              " 'lightheadedness',\n",
              " 'hips',\n",
              " 'off',\n",
              " 'changes',\n",
              " 'check',\n",
              " 'menstrual',\n",
              " 'being',\n",
              " 'cell',\n",
              " 'disturbance',\n",
              " 'tremor',\n",
              " 'associated',\n",
              " 'know',\n",
              " 'therapy',\n",
              " 'cells',\n",
              " 'based',\n",
              " 'dissolution',\n",
              " 'head',\n",
              " 'relief',\n",
              " 'order',\n",
              " 'area',\n",
              " 'blind',\n",
              " 'combination',\n",
              " 'application',\n",
              " 'failure',\n",
              " 'confusion',\n",
              " 'malaise',\n",
              " 'swings',\n",
              " 'appetite',\n",
              " 'vs',\n",
              " 'oil',\n",
              " 'wind',\n",
              " 'soreness',\n",
              " 'tinnitus',\n",
              " 'life',\n",
              " 'should',\n",
              " 'prepared',\n",
              " 'events',\n",
              " 'studied',\n",
              " 'doses',\n",
              " 'impaired',\n",
              " 'help',\n",
              " 'stress',\n",
              " 'reported',\n",
              " 'aching',\n",
              " 'paraesthesia',\n",
              " 'general',\n",
              " 'esters',\n",
              " 'rheumatoid',\n",
              " 'ezetimibe',\n",
              " 'celebrex',\n",
              " 'developed',\n",
              " 'any',\n",
              " 'intolerance',\n",
              " 'trial',\n",
              " 'min',\n",
              " 'eat',\n",
              " 'given',\n",
              " 'calves',\n",
              " 'make',\n",
              " 'without',\n",
              " 'change',\n",
              " 'through',\n",
              " 'administered',\n",
              " 'love',\n",
              " 'times',\n",
              " 'differences',\n",
              " 'conditions',\n",
              " 'toes',\n",
              " 'need',\n",
              " 'subjects',\n",
              " 'does',\n",
              " 'infection',\n",
              " 'such',\n",
              " 'great',\n",
              " 're',\n",
              " 'gfb',\n",
              " 'going',\n",
              " 'performed',\n",
              " 'gastric',\n",
              " 'swallowing',\n",
              " 'e',\n",
              " 'reduction',\n",
              " 'four',\n",
              " 'values',\n",
              " 'cough',\n",
              " 'either',\n",
              " 'excruciating',\n",
              " 'down',\n",
              " 'response',\n",
              " 'lateral',\n",
              " 'phase',\n",
              " 'urinary',\n",
              " 'stairs',\n",
              " 'thanks',\n",
              " 'investigated',\n",
              " 'better',\n",
              " 'nonsteroidal',\n",
              " 'finger',\n",
              " 'lupus',\n",
              " 'x',\n",
              " 'parkinson',\n",
              " 'coated',\n",
              " 'delivery',\n",
              " 'tendon',\n",
              " 'parameters',\n",
              " 'within',\n",
              " 'absorption',\n",
              " 'hot',\n",
              " 'night',\n",
              " 'paracetamol',\n",
              " 'sensitivity',\n",
              " 'rapid',\n",
              " 'v',\n",
              " 'vitamin',\n",
              " '2',\n",
              " 'face',\n",
              " 'ascorbic',\n",
              " 'safety',\n",
              " 'strength',\n",
              " 'measured',\n",
              " 'containing',\n",
              " 'ratio',\n",
              " 'auc',\n",
              " 'motivation',\n",
              " 'dark',\n",
              " 'charleyhorse',\n",
              " 'intense',\n",
              " 'heel',\n",
              " 'properties',\n",
              " 'felt',\n",
              " 'dyspnoea',\n",
              " 'posted',\n",
              " 'assessed',\n",
              " 'minutes',\n",
              " 'always',\n",
              " 'restless',\n",
              " 'indigestion',\n",
              " 'mm',\n",
              " 'ankles',\n",
              " 'us',\n",
              " 'risk',\n",
              " 'range',\n",
              " 'nerve',\n",
              " 'people',\n",
              " 'related',\n",
              " 'decrease',\n",
              " 'injection',\n",
              " 'fingers',\n",
              " 'show',\n",
              " 'vivo',\n",
              " 'depressed',\n",
              " '1',\n",
              " 'recipe',\n",
              " 'taste',\n",
              " 'long',\n",
              " 'palpitations',\n",
              " 'number',\n",
              " 'indomethacin',\n",
              " 'samples',\n",
              " 'liquid',\n",
              " 'size',\n",
              " 'potential',\n",
              " '30',\n",
              " 'steroidal',\n",
              " 'included',\n",
              " 'best',\n",
              " 'major',\n",
              " 'statistically',\n",
              " 'many',\n",
              " 'therapeutic',\n",
              " 'oa',\n",
              " 'getting',\n",
              " 'tightness',\n",
              " 'enzymes',\n",
              " '\\r \\n ',\n",
              " 'edema',\n",
              " 'active',\n",
              " 'year',\n",
              " 'fish',\n",
              " 'development',\n",
              " 'primary',\n",
              " 'heres',\n",
              " 'big',\n",
              " 'evaluate',\n",
              " 'compare',\n",
              " 'every',\n",
              " 'clearly',\n",
              " '3',\n",
              " 'then',\n",
              " 'advil',\n",
              " 'speech',\n",
              " 'ng',\n",
              " 'moderate',\n",
              " 'dreams',\n",
              " 'menopause',\n",
              " 'light',\n",
              " 'gout',\n",
              " 'twitch',\n",
              " 'scale',\n",
              " 'overall',\n",
              " 'applied',\n",
              " 'ulcer',\n",
              " 'breathing',\n",
              " 'much',\n",
              " 'human',\n",
              " 'archives',\n",
              " 'bioavailability',\n",
              " 'aqueous',\n",
              " 'health',\n",
              " 'drowsy',\n",
              " 'tolerability',\n",
              " 'creatinine',\n",
              " 'k',\n",
              " 'tips',\n",
              " 'ii',\n",
              " 'demonstrated',\n",
              " 'terrible',\n",
              " 'tissue',\n",
              " 'uterine',\n",
              " 'ability',\n",
              " 'dependent',\n",
              " 'wrist',\n",
              " 'normal',\n",
              " 'bowel',\n",
              " 'form',\n",
              " 'bone',\n",
              " 'heartburn',\n",
              " 'mouth',\n",
              " 'amyotrophic',\n",
              " 'colic',\n",
              " 'determined',\n",
              " 'read',\n",
              " 'nasal',\n",
              " 'jennieo',\n",
              " 'greater',\n",
              " 'misoprostol',\n",
              " 'sinus',\n",
              " 'co',\n",
              " 'aspirin',\n",
              " 'available',\n",
              " 'reaction',\n",
              " 'provoked',\n",
              " 'limbs',\n",
              " 'tested',\n",
              " 'living',\n",
              " 'sustained',\n",
              " 'important',\n",
              " 'fever',\n",
              " 'breath',\n",
              " 'na',\n",
              " 'go',\n",
              " 'months',\n",
              " 'addition',\n",
              " 'medication',\n",
              " 'same',\n",
              " 'matrix',\n",
              " 'trouble',\n",
              " 'protein',\n",
              " 'even',\n",
              " 'chicken',\n",
              " 'would',\n",
              " 'made',\n",
              " 'fenofibrate',\n",
              " 'tylenol',\n",
              " 'scores',\n",
              " 'because',\n",
              " 'baseline',\n",
              " 'month',\n",
              " 'polymer',\n",
              " 'cox',\n",
              " 'news',\n",
              " 'revealed',\n",
              " 'diagnosis',\n",
              " 'treatments',\n",
              " 'find',\n",
              " 'per',\n",
              " 'way',\n",
              " 'initial',\n",
              " 'article',\n",
              " 'caused',\n",
              " 'cancer',\n",
              " 'tract',\n",
              " 'dosage',\n",
              " 'thighs',\n",
              " 'process',\n",
              " 'attacks',\n",
              " 'end',\n",
              " 'volunteers',\n",
              " 'safe',\n",
              " 'action',\n",
              " 'male',\n",
              " 'fog',\n",
              " 'twitching',\n",
              " 'improvement',\n",
              " 'today',\n",
              " 'coq10',\n",
              " 'inhibition',\n",
              " 'tolerated',\n",
              " 'formation',\n",
              " 'case',\n",
              " 'hypertension',\n",
              " 'various',\n",
              " 'aim',\n",
              " 'o',\n",
              " '10',\n",
              " 'move',\n",
              " 'trials',\n",
              " 'want',\n",
              " 'suggest',\n",
              " 'lost',\n",
              " 'take',\n",
              " 'mechanism',\n",
              " 'growth',\n",
              " 'alone',\n",
              " 'cd',\n",
              " 'inhibitor',\n",
              " 'mice',\n",
              " 'exercise',\n",
              " 'tight',\n",
              " 'onset',\n",
              " 'animals',\n",
              " 'content',\n",
              " 'cerebrovascular',\n",
              " 'plantar',\n",
              " 'common',\n",
              " 'mobility',\n",
              " 'six',\n",
              " 'pulse',\n",
              " 'sick',\n",
              " 'hour',\n",
              " 'agent',\n",
              " 'presence',\n",
              " 'facial',\n",
              " 'lethargy',\n",
              " 'shown',\n",
              " 'th',\n",
              " 'local',\n",
              " 'ms',\n",
              " 'morning',\n",
              " 'part',\n",
              " 'provide',\n",
              " 'experimental',\n",
              " 'intensity',\n",
              " 'whereas',\n",
              " 'peak',\n",
              " 'started',\n",
              " 'aleve',\n",
              " 'surface',\n",
              " 'fatigued',\n",
              " 'including',\n",
              " 'issues',\n",
              " 'indicated',\n",
              " 'horses',\n",
              " 'permeation',\n",
              " 'further',\n",
              " 'sharp',\n",
              " 'where',\n",
              " 'rat',\n",
              " 'accident',\n",
              " 'cases',\n",
              " 'fast',\n",
              " 'difficult',\n",
              " 'agents',\n",
              " 'finding',\n",
              " 'moody',\n",
              " 'conducted',\n",
              " 'alpha',\n",
              " 'generally',\n",
              " 'vas',\n",
              " 'ever',\n",
              " 'randomly',\n",
              " 'loose',\n",
              " 'old',\n",
              " 'follow',\n",
              " 'elbows',\n",
              " 'exposure',\n",
              " '5',\n",
              " 'followed',\n",
              " 'still',\n",
              " 'standard',\n",
              " 'numb',\n",
              " 'age',\n",
              " 'divided',\n",
              " 'intestinal',\n",
              " 'physical',\n",
              " 'sugar',\n",
              " 'cm',\n",
              " 'according',\n",
              " 'research',\n",
              " 'profiles',\n",
              " 'tolerance',\n",
              " 'product',\n",
              " 'although',\n",
              " 'profile',\n",
              " 'determine',\n",
              " 'complex',\n",
              " 'corneal',\n",
              " 'natural',\n",
              " 'improved',\n",
              " 'amount',\n",
              " 'extremely',\n",
              " '+',\n",
              " 'f',\n",
              " 'around',\n",
              " 'complete',\n",
              " 'among',\n",
              " 'share',\n",
              " 'degrees',\n",
              " 'nervous',\n",
              " 'pharmacokinetic',\n",
              " 'fluid',\n",
              " 'please',\n",
              " 'shortness',\n",
              " 'score',\n",
              " 'combined',\n",
              " 'eating',\n",
              " 'ringing',\n",
              " 'sensitive',\n",
              " 'secondary',\n",
              " 'cause',\n",
              " 'deep',\n",
              " 'too',\n",
              " 'mental',\n",
              " '4',\n",
              " 'things',\n",
              " 'central',\n",
              " 'relative',\n",
              " 'hardly',\n",
              " 'extremity',\n",
              " 'congestion',\n",
              " 'got',\n",
              " 'able',\n",
              " 'awareness',\n",
              " 'achieved',\n",
              " 'versus',\n",
              " 'panic',\n",
              " 'barely',\n",
              " 'diagnosed',\n",
              " 'tricor',\n",
              " 'drive',\n",
              " '\\r \\n \\r \\n ',\n",
              " 'global',\n",
              " 'coronary',\n",
              " 'produced',\n",
              " 'pharmaceutical',\n",
              " 'microspheres',\n",
              " 'systemic',\n",
              " 'thoughts',\n",
              " 'naproxen',\n",
              " 'periods',\n",
              " 'evidence',\n",
              " 'looks',\n",
              " 'evaluation',\n",
              " 'irregular',\n",
              " 'malignant',\n",
              " 'care',\n",
              " 'liptor',\n",
              " 'region',\n",
              " 'happy',\n",
              " 'r',\n",
              " 'five',\n",
              " 'least',\n",
              " 'density',\n",
              " 'cmax',\n",
              " 'vehicle',\n",
              " 'resulted',\n",
              " 'hard',\n",
              " 'stamina',\n",
              " 'work',\n",
              " 'ethyl',\n",
              " 'charley',\n",
              " 'slurred',\n",
              " 'pizza',\n",
              " 'lesions',\n",
              " 'rhabdomyolysis',\n",
              " 'ldl',\n",
              " 'increasing',\n",
              " 'tension',\n",
              " 'beads',\n",
              " 'oedema',\n",
              " 'erythematosus',\n",
              " 'gi',\n",
              " 'efficiency',\n",
              " 'pre',\n",
              " 'see',\n",
              " 'fasciitis',\n",
              " 'analgesia',\n",
              " 'cross',\n",
              " 'frequent',\n",
              " 'might',\n",
              " 'participants',\n",
              " 'linked',\n",
              " 'considered',\n",
              " 'hunger',\n",
              " 'support',\n",
              " 'plus',\n",
              " 'top',\n",
              " 'stroke',\n",
              " 'pruritus',\n",
              " 'serious',\n",
              " 'reference',\n",
              " 'calcium',\n",
              " 'against',\n",
              " 'little',\n",
              " 'sex',\n",
              " 'third',\n",
              " 'strain',\n",
              " 'achilles',\n",
              " 'duration',\n",
              " 'once',\n",
              " 'carried',\n",
              " 'quality',\n",
              " 'dizzy',\n",
              " 'blog',\n",
              " 'rofecoxib',\n",
              " 'ocular',\n",
              " 'assessment',\n",
              " 'preparation',\n",
              " 'patch',\n",
              " 'allergic',\n",
              " 'models',\n",
              " 'possible',\n",
              " 'technique',\n",
              " 'eczema',\n",
              " 'needed',\n",
              " 'solid',\n",
              " 'u',\n",
              " 'affected',\n",
              " 'rates',\n",
              " 'synthesis',\n",
              " 'commercial',\n",
              " 'prednisone',\n",
              " 'temperature',\n",
              " 'ear',\n",
              " 'early',\n",
              " 'easy',\n",
              " 'tests',\n",
              " 'determination',\n",
              " 'norvasc',\n",
              " 'cataract',\n",
              " 'state',\n",
              " 'enteric',\n",
              " 'ci',\n",
              " 'saline',\n",
              " 'inhibited',\n",
              " 'forgetful',\n",
              " 'zetia',\n",
              " 'medical',\n",
              " 'erythema',\n",
              " 'slow',\n",
              " 'thus',\n",
              " 'cataflam',\n",
              " 'investigate',\n",
              " 'production',\n",
              " 'flow',\n",
              " 'taking',\n",
              " 'diabetic',\n",
              " 'volume',\n",
              " 'design',\n",
              " 'retention',\n",
              " ...]"
            ]
          },
          "metadata": {
            "tags": []
          },
          "execution_count": 18
        }
      ]
    },
    {
      "cell_type": "code",
      "metadata": {
        "id": "yPWr03mls3VT",
        "outputId": "a8c295c4-1663-495a-8cbc-fec9b3c66a52",
        "colab": {
          "base_uri": "https://localhost:8080/",
          "height": 17
        }
      },
      "source": [
        "model_path = path/'models'\n",
        "model_path.mkdir(exist_ok=True)\n",
        "url = 'http://files.fast.ai/models/wt103_v1/'\n",
        "download_url(f'{url}lstm_wt103.pth', model_path/'lstm_wt103.pth')\n",
        "download_url(f'{url}itos_wt103.pkl', model_path/'itos_wt103.pkl')"
      ],
      "execution_count": 19,
      "outputs": [
        {
          "output_type": "display_data",
          "data": {
            "text/html": [
              ""
            ],
            "text/plain": [
              "<IPython.core.display.HTML object>"
            ]
          },
          "metadata": {
            "tags": []
          }
        },
        {
          "output_type": "display_data",
          "data": {
            "text/html": [
              ""
            ],
            "text/plain": [
              "<IPython.core.display.HTML object>"
            ]
          },
          "metadata": {
            "tags": []
          }
        }
      ]
    },
    {
      "cell_type": "code",
      "metadata": {
        "id": "JRzvWg8RtGGr",
        "outputId": "76cd869b-3fea-4194-a53a-45601614c612",
        "colab": {
          "base_uri": "https://localhost:8080/",
          "height": 34
        }
      },
      "source": [
        "learn = language_model_learner(data_lm, AWD_LSTM, drop_mult=0.5)"
      ],
      "execution_count": 20,
      "outputs": [
        {
          "output_type": "stream",
          "text": [
            "Downloading https://s3.amazonaws.com/fast-ai-modelzoo/wt103-fwd.tgz\n"
          ],
          "name": "stdout"
        },
        {
          "output_type": "display_data",
          "data": {
            "text/html": [
              ""
            ],
            "text/plain": [
              "<IPython.core.display.HTML object>"
            ]
          },
          "metadata": {
            "tags": []
          }
        }
      ]
    },
    {
      "cell_type": "code",
      "metadata": {
        "id": "xKK7GeBev7Xn",
        "outputId": "580a1883-b689-4550-de44-df84d295c400",
        "colab": {
          "base_uri": "https://localhost:8080/",
          "height": 80
        }
      },
      "source": [
        "learn.fit_one_cycle(1, 1e-2)"
      ],
      "execution_count": 21,
      "outputs": [
        {
          "output_type": "display_data",
          "data": {
            "text/html": [
              "<table border=\"1\" class=\"dataframe\">\n",
              "  <thead>\n",
              "    <tr style=\"text-align: left;\">\n",
              "      <th>epoch</th>\n",
              "      <th>train_loss</th>\n",
              "      <th>valid_loss</th>\n",
              "      <th>accuracy</th>\n",
              "      <th>time</th>\n",
              "    </tr>\n",
              "  </thead>\n",
              "  <tbody>\n",
              "    <tr>\n",
              "      <td>0</td>\n",
              "      <td>3.863773</td>\n",
              "      <td>3.484704</td>\n",
              "      <td>0.443692</td>\n",
              "      <td>1:28:17</td>\n",
              "    </tr>\n",
              "  </tbody>\n",
              "</table>"
            ],
            "text/plain": [
              "<IPython.core.display.HTML object>"
            ]
          },
          "metadata": {
            "tags": []
          }
        }
      ]
    },
    {
      "cell_type": "code",
      "metadata": {
        "id": "iB7rHGQCwd12"
      },
      "source": [
        "# learn.fit_one_cycle(1, 1e-2)"
      ],
      "execution_count": 22,
      "outputs": []
    },
    {
      "cell_type": "code",
      "metadata": {
        "id": "_BnSuAeCwkBe"
      },
      "source": [
        "# learn.fit_one_cycle(1, 1e-3)"
      ],
      "execution_count": 23,
      "outputs": []
    },
    {
      "cell_type": "code",
      "metadata": {
        "id": "MuTm-RFjwrEX",
        "outputId": "0acbf37f-f305-4c89-97a1-b4c6133bbc0f",
        "colab": {
          "base_uri": "https://localhost:8080/",
          "height": 80
        }
      },
      "source": [
        "learn.fit_one_cycle(1, 1e-3)"
      ],
      "execution_count": 24,
      "outputs": [
        {
          "output_type": "display_data",
          "data": {
            "text/html": [
              "<table border=\"1\" class=\"dataframe\">\n",
              "  <thead>\n",
              "    <tr style=\"text-align: left;\">\n",
              "      <th>epoch</th>\n",
              "      <th>train_loss</th>\n",
              "      <th>valid_loss</th>\n",
              "      <th>accuracy</th>\n",
              "      <th>time</th>\n",
              "    </tr>\n",
              "  </thead>\n",
              "  <tbody>\n",
              "    <tr>\n",
              "      <td>0</td>\n",
              "      <td>3.516819</td>\n",
              "      <td>3.422022</td>\n",
              "      <td>0.449406</td>\n",
              "      <td>1:28:44</td>\n",
              "    </tr>\n",
              "  </tbody>\n",
              "</table>"
            ],
            "text/plain": [
              "<IPython.core.display.HTML object>"
            ]
          },
          "metadata": {
            "tags": []
          }
        }
      ]
    },
    {
      "cell_type": "code",
      "metadata": {
        "id": "1Er2ExO8wr7Y"
      },
      "source": [
        "learn.save_encoder('pubmed_cadec_askpatient_mixed_fold0_first')"
      ],
      "execution_count": 25,
      "outputs": []
    },
    {
      "cell_type": "code",
      "metadata": {
        "id": "z52cZs2qwvad",
        "outputId": "b434d4e2-ba65-4cf1-a663-5ab9466cd9f4",
        "colab": {
          "base_uri": "https://localhost:8080/",
          "height": 80
        }
      },
      "source": [
        "learn = text_classifier_learner(data_clas,AWD_LSTM, drop_mult=0.5)\n",
        "learn.load_encoder('pubmed_cadec_askpatient_mixed_fold0_first')\n",
        "learn.fit_one_cycle(1, 1e-2)"
      ],
      "execution_count": 26,
      "outputs": [
        {
          "output_type": "display_data",
          "data": {
            "text/html": [
              "<table border=\"1\" class=\"dataframe\">\n",
              "  <thead>\n",
              "    <tr style=\"text-align: left;\">\n",
              "      <th>epoch</th>\n",
              "      <th>train_loss</th>\n",
              "      <th>valid_loss</th>\n",
              "      <th>accuracy</th>\n",
              "      <th>time</th>\n",
              "    </tr>\n",
              "  </thead>\n",
              "  <tbody>\n",
              "    <tr>\n",
              "      <td>0</td>\n",
              "      <td>3.860976</td>\n",
              "      <td>3.672613</td>\n",
              "      <td>0.372781</td>\n",
              "      <td>03:09</td>\n",
              "    </tr>\n",
              "  </tbody>\n",
              "</table>"
            ],
            "text/plain": [
              "<IPython.core.display.HTML object>"
            ]
          },
          "metadata": {
            "tags": []
          }
        }
      ]
    },
    {
      "cell_type": "code",
      "metadata": {
        "id": "ImwQP1PJwzxd",
        "outputId": "91a9d79c-1876-4bda-be26-5d05bce69a59",
        "colab": {
          "base_uri": "https://localhost:8080/",
          "height": 80
        }
      },
      "source": [
        "learn.freeze_to(-2)\n",
        "learn.fit_one_cycle(1, slice(5e-3/2., 5e-3))"
      ],
      "execution_count": 27,
      "outputs": [
        {
          "output_type": "display_data",
          "data": {
            "text/html": [
              "<table border=\"1\" class=\"dataframe\">\n",
              "  <thead>\n",
              "    <tr style=\"text-align: left;\">\n",
              "      <th>epoch</th>\n",
              "      <th>train_loss</th>\n",
              "      <th>valid_loss</th>\n",
              "      <th>accuracy</th>\n",
              "      <th>time</th>\n",
              "    </tr>\n",
              "  </thead>\n",
              "  <tbody>\n",
              "    <tr>\n",
              "      <td>0</td>\n",
              "      <td>2.846909</td>\n",
              "      <td>3.036216</td>\n",
              "      <td>0.468639</td>\n",
              "      <td>03:03</td>\n",
              "    </tr>\n",
              "  </tbody>\n",
              "</table>"
            ],
            "text/plain": [
              "<IPython.core.display.HTML object>"
            ]
          },
          "metadata": {
            "tags": []
          }
        }
      ]
    },
    {
      "cell_type": "code",
      "metadata": {
        "id": "Owff_BJXw53u",
        "outputId": "4f02d5d5-3016-4cdb-e17b-bfc816df0667",
        "colab": {
          "base_uri": "https://localhost:8080/",
          "height": 80
        }
      },
      "source": [
        "learn.unfreeze()\n",
        "learn.fit_one_cycle(1, slice(2e-3/100, 2e-3))"
      ],
      "execution_count": 28,
      "outputs": [
        {
          "output_type": "display_data",
          "data": {
            "text/html": [
              "<table border=\"1\" class=\"dataframe\">\n",
              "  <thead>\n",
              "    <tr style=\"text-align: left;\">\n",
              "      <th>epoch</th>\n",
              "      <th>train_loss</th>\n",
              "      <th>valid_loss</th>\n",
              "      <th>accuracy</th>\n",
              "      <th>time</th>\n",
              "    </tr>\n",
              "  </thead>\n",
              "  <tbody>\n",
              "    <tr>\n",
              "      <td>0</td>\n",
              "      <td>2.249826</td>\n",
              "      <td>2.602762</td>\n",
              "      <td>0.566864</td>\n",
              "      <td>07:07</td>\n",
              "    </tr>\n",
              "  </tbody>\n",
              "</table>"
            ],
            "text/plain": [
              "<IPython.core.display.HTML object>"
            ]
          },
          "metadata": {
            "tags": []
          }
        }
      ]
    },
    {
      "cell_type": "code",
      "metadata": {
        "id": "lqAyu56V8Waq",
        "outputId": "5692b46b-d726-4db6-9ebb-491e2bf892fd",
        "colab": {
          "base_uri": "https://localhost:8080/",
          "height": 111
        }
      },
      "source": [
        "learn.fit_one_cycle(2, slice(2e-3/100, 2e-3))"
      ],
      "execution_count": 29,
      "outputs": [
        {
          "output_type": "display_data",
          "data": {
            "text/html": [
              "<table border=\"1\" class=\"dataframe\">\n",
              "  <thead>\n",
              "    <tr style=\"text-align: left;\">\n",
              "      <th>epoch</th>\n",
              "      <th>train_loss</th>\n",
              "      <th>valid_loss</th>\n",
              "      <th>accuracy</th>\n",
              "      <th>time</th>\n",
              "    </tr>\n",
              "  </thead>\n",
              "  <tbody>\n",
              "    <tr>\n",
              "      <td>0</td>\n",
              "      <td>1.950286</td>\n",
              "      <td>2.300060</td>\n",
              "      <td>0.639053</td>\n",
              "      <td>07:54</td>\n",
              "    </tr>\n",
              "    <tr>\n",
              "      <td>1</td>\n",
              "      <td>1.684836</td>\n",
              "      <td>2.157590</td>\n",
              "      <td>0.640237</td>\n",
              "      <td>07:11</td>\n",
              "    </tr>\n",
              "  </tbody>\n",
              "</table>"
            ],
            "text/plain": [
              "<IPython.core.display.HTML object>"
            ]
          },
          "metadata": {
            "tags": []
          }
        }
      ]
    },
    {
      "cell_type": "code",
      "metadata": {
        "id": "a7I1xMRp8bUd",
        "outputId": "3565ef1e-cd87-4782-a752-c2dc7c82920d",
        "colab": {
          "base_uri": "https://localhost:8080/",
          "height": 111
        }
      },
      "source": [
        "learn.fit_one_cycle(2, slice(2e-3/100, 2e-3))"
      ],
      "execution_count": 30,
      "outputs": [
        {
          "output_type": "display_data",
          "data": {
            "text/html": [
              "<table border=\"1\" class=\"dataframe\">\n",
              "  <thead>\n",
              "    <tr style=\"text-align: left;\">\n",
              "      <th>epoch</th>\n",
              "      <th>train_loss</th>\n",
              "      <th>valid_loss</th>\n",
              "      <th>accuracy</th>\n",
              "      <th>time</th>\n",
              "    </tr>\n",
              "  </thead>\n",
              "  <tbody>\n",
              "    <tr>\n",
              "      <td>0</td>\n",
              "      <td>1.466461</td>\n",
              "      <td>1.929238</td>\n",
              "      <td>0.679290</td>\n",
              "      <td>07:46</td>\n",
              "    </tr>\n",
              "    <tr>\n",
              "      <td>1</td>\n",
              "      <td>1.316434</td>\n",
              "      <td>1.831546</td>\n",
              "      <td>0.693491</td>\n",
              "      <td>08:09</td>\n",
              "    </tr>\n",
              "  </tbody>\n",
              "</table>"
            ],
            "text/plain": [
              "<IPython.core.display.HTML object>"
            ]
          },
          "metadata": {
            "tags": []
          }
        }
      ]
    },
    {
      "cell_type": "code",
      "metadata": {
        "id": "UAnti-XmGVfO",
        "outputId": "2b91a617-7c1e-4044-9a09-1526d63b87b2",
        "colab": {
          "base_uri": "https://localhost:8080/",
          "height": 111
        }
      },
      "source": [
        "learn.fit_one_cycle(2, slice(2e-3/100, 2e-3))"
      ],
      "execution_count": 31,
      "outputs": [
        {
          "output_type": "display_data",
          "data": {
            "text/html": [
              "<table border=\"1\" class=\"dataframe\">\n",
              "  <thead>\n",
              "    <tr style=\"text-align: left;\">\n",
              "      <th>epoch</th>\n",
              "      <th>train_loss</th>\n",
              "      <th>valid_loss</th>\n",
              "      <th>accuracy</th>\n",
              "      <th>time</th>\n",
              "    </tr>\n",
              "  </thead>\n",
              "  <tbody>\n",
              "    <tr>\n",
              "      <td>0</td>\n",
              "      <td>1.184552</td>\n",
              "      <td>1.725348</td>\n",
              "      <td>0.706509</td>\n",
              "      <td>07:25</td>\n",
              "    </tr>\n",
              "    <tr>\n",
              "      <td>1</td>\n",
              "      <td>1.050836</td>\n",
              "      <td>1.630139</td>\n",
              "      <td>0.717160</td>\n",
              "      <td>07:45</td>\n",
              "    </tr>\n",
              "  </tbody>\n",
              "</table>"
            ],
            "text/plain": [
              "<IPython.core.display.HTML object>"
            ]
          },
          "metadata": {
            "tags": []
          }
        }
      ]
    },
    {
      "cell_type": "code",
      "metadata": {
        "id": "bIft7W25GwSu",
        "outputId": "9f6390ae-3e4c-40fb-c48b-2e47e5920653",
        "colab": {
          "base_uri": "https://localhost:8080/",
          "height": 111
        }
      },
      "source": [
        "learn.fit_one_cycle(2, slice(2e-3/100, 2e-3))"
      ],
      "execution_count": 32,
      "outputs": [
        {
          "output_type": "display_data",
          "data": {
            "text/html": [
              "<table border=\"1\" class=\"dataframe\">\n",
              "  <thead>\n",
              "    <tr style=\"text-align: left;\">\n",
              "      <th>epoch</th>\n",
              "      <th>train_loss</th>\n",
              "      <th>valid_loss</th>\n",
              "      <th>accuracy</th>\n",
              "      <th>time</th>\n",
              "    </tr>\n",
              "  </thead>\n",
              "  <tbody>\n",
              "    <tr>\n",
              "      <td>0</td>\n",
              "      <td>0.954527</td>\n",
              "      <td>1.598826</td>\n",
              "      <td>0.730178</td>\n",
              "      <td>07:46</td>\n",
              "    </tr>\n",
              "    <tr>\n",
              "      <td>1</td>\n",
              "      <td>0.854609</td>\n",
              "      <td>1.543065</td>\n",
              "      <td>0.733728</td>\n",
              "      <td>06:45</td>\n",
              "    </tr>\n",
              "  </tbody>\n",
              "</table>"
            ],
            "text/plain": [
              "<IPython.core.display.HTML object>"
            ]
          },
          "metadata": {
            "tags": []
          }
        }
      ]
    },
    {
      "cell_type": "code",
      "metadata": {
        "id": "EEHszVRvGyFt",
        "outputId": "71bae184-4ffe-459d-ef08-16fa16be11e3",
        "colab": {
          "base_uri": "https://localhost:8080/",
          "height": 111
        }
      },
      "source": [
        "learn.fit_one_cycle(2, slice(2e-3/100, 2e-3))"
      ],
      "execution_count": 33,
      "outputs": [
        {
          "output_type": "display_data",
          "data": {
            "text/html": [
              "<table border=\"1\" class=\"dataframe\">\n",
              "  <thead>\n",
              "    <tr style=\"text-align: left;\">\n",
              "      <th>epoch</th>\n",
              "      <th>train_loss</th>\n",
              "      <th>valid_loss</th>\n",
              "      <th>accuracy</th>\n",
              "      <th>time</th>\n",
              "    </tr>\n",
              "  </thead>\n",
              "  <tbody>\n",
              "    <tr>\n",
              "      <td>0</td>\n",
              "      <td>0.815929</td>\n",
              "      <td>1.465783</td>\n",
              "      <td>0.747929</td>\n",
              "      <td>07:30</td>\n",
              "    </tr>\n",
              "    <tr>\n",
              "      <td>1</td>\n",
              "      <td>0.673965</td>\n",
              "      <td>1.445366</td>\n",
              "      <td>0.749112</td>\n",
              "      <td>07:17</td>\n",
              "    </tr>\n",
              "  </tbody>\n",
              "</table>"
            ],
            "text/plain": [
              "<IPython.core.display.HTML object>"
            ]
          },
          "metadata": {
            "tags": []
          }
        }
      ]
    },
    {
      "cell_type": "code",
      "metadata": {
        "id": "XsHfrhCHG3dN",
        "outputId": "8692920c-757a-4000-809e-5d78769e78f2",
        "colab": {
          "base_uri": "https://localhost:8080/",
          "height": 173
        }
      },
      "source": [
        "learn.fit_one_cycle(4, slice(2e-3/100, 2e-3))"
      ],
      "execution_count": 34,
      "outputs": [
        {
          "output_type": "display_data",
          "data": {
            "text/html": [
              "<table border=\"1\" class=\"dataframe\">\n",
              "  <thead>\n",
              "    <tr style=\"text-align: left;\">\n",
              "      <th>epoch</th>\n",
              "      <th>train_loss</th>\n",
              "      <th>valid_loss</th>\n",
              "      <th>accuracy</th>\n",
              "      <th>time</th>\n",
              "    </tr>\n",
              "  </thead>\n",
              "  <tbody>\n",
              "    <tr>\n",
              "      <td>0</td>\n",
              "      <td>0.662553</td>\n",
              "      <td>1.426980</td>\n",
              "      <td>0.762130</td>\n",
              "      <td>07:45</td>\n",
              "    </tr>\n",
              "    <tr>\n",
              "      <td>1</td>\n",
              "      <td>0.627913</td>\n",
              "      <td>1.352136</td>\n",
              "      <td>0.768047</td>\n",
              "      <td>07:40</td>\n",
              "    </tr>\n",
              "    <tr>\n",
              "      <td>2</td>\n",
              "      <td>0.540390</td>\n",
              "      <td>1.327803</td>\n",
              "      <td>0.773965</td>\n",
              "      <td>07:41</td>\n",
              "    </tr>\n",
              "    <tr>\n",
              "      <td>3</td>\n",
              "      <td>0.473002</td>\n",
              "      <td>1.306731</td>\n",
              "      <td>0.779882</td>\n",
              "      <td>07:44</td>\n",
              "    </tr>\n",
              "  </tbody>\n",
              "</table>"
            ],
            "text/plain": [
              "<IPython.core.display.HTML object>"
            ]
          },
          "metadata": {
            "tags": []
          }
        }
      ]
    },
    {
      "cell_type": "code",
      "metadata": {
        "id": "0Zsd99isb9EQ",
        "outputId": "06be4c3c-492c-4afd-b773-663513f66031",
        "colab": {
          "base_uri": "https://localhost:8080/",
          "height": 173
        }
      },
      "source": [
        "learn.fit_one_cycle(4, slice(2e-3/100, 2e-3))"
      ],
      "execution_count": 35,
      "outputs": [
        {
          "output_type": "display_data",
          "data": {
            "text/html": [
              "<table border=\"1\" class=\"dataframe\">\n",
              "  <thead>\n",
              "    <tr style=\"text-align: left;\">\n",
              "      <th>epoch</th>\n",
              "      <th>train_loss</th>\n",
              "      <th>valid_loss</th>\n",
              "      <th>accuracy</th>\n",
              "      <th>time</th>\n",
              "    </tr>\n",
              "  </thead>\n",
              "  <tbody>\n",
              "    <tr>\n",
              "      <td>0</td>\n",
              "      <td>0.459134</td>\n",
              "      <td>1.335413</td>\n",
              "      <td>0.781065</td>\n",
              "      <td>07:40</td>\n",
              "    </tr>\n",
              "    <tr>\n",
              "      <td>1</td>\n",
              "      <td>0.512938</td>\n",
              "      <td>1.292035</td>\n",
              "      <td>0.785799</td>\n",
              "      <td>07:27</td>\n",
              "    </tr>\n",
              "    <tr>\n",
              "      <td>2</td>\n",
              "      <td>0.406144</td>\n",
              "      <td>1.314688</td>\n",
              "      <td>0.786982</td>\n",
              "      <td>07:17</td>\n",
              "    </tr>\n",
              "    <tr>\n",
              "      <td>3</td>\n",
              "      <td>0.361674</td>\n",
              "      <td>1.296540</td>\n",
              "      <td>0.785799</td>\n",
              "      <td>06:47</td>\n",
              "    </tr>\n",
              "  </tbody>\n",
              "</table>"
            ],
            "text/plain": [
              "<IPython.core.display.HTML object>"
            ]
          },
          "metadata": {
            "tags": []
          }
        }
      ]
    },
    {
      "cell_type": "code",
      "metadata": {
        "id": "atNWNKDFPbuI",
        "outputId": "53f2ab9d-476a-4ded-f91f-2976bdabd07e",
        "colab": {
          "base_uri": "https://localhost:8080/",
          "height": 173
        }
      },
      "source": [
        "learn.fit_one_cycle(4, slice(2e-3/100, 2e-3))"
      ],
      "execution_count": 36,
      "outputs": [
        {
          "output_type": "display_data",
          "data": {
            "text/html": [
              "<table border=\"1\" class=\"dataframe\">\n",
              "  <thead>\n",
              "    <tr style=\"text-align: left;\">\n",
              "      <th>epoch</th>\n",
              "      <th>train_loss</th>\n",
              "      <th>valid_loss</th>\n",
              "      <th>accuracy</th>\n",
              "      <th>time</th>\n",
              "    </tr>\n",
              "  </thead>\n",
              "  <tbody>\n",
              "    <tr>\n",
              "      <td>0</td>\n",
              "      <td>0.365914</td>\n",
              "      <td>1.369171</td>\n",
              "      <td>0.786982</td>\n",
              "      <td>07:09</td>\n",
              "    </tr>\n",
              "    <tr>\n",
              "      <td>1</td>\n",
              "      <td>0.396390</td>\n",
              "      <td>1.333472</td>\n",
              "      <td>0.784615</td>\n",
              "      <td>07:15</td>\n",
              "    </tr>\n",
              "    <tr>\n",
              "      <td>2</td>\n",
              "      <td>0.363634</td>\n",
              "      <td>1.304574</td>\n",
              "      <td>0.800000</td>\n",
              "      <td>07:26</td>\n",
              "    </tr>\n",
              "    <tr>\n",
              "      <td>3</td>\n",
              "      <td>0.287046</td>\n",
              "      <td>1.287530</td>\n",
              "      <td>0.800000</td>\n",
              "      <td>06:59</td>\n",
              "    </tr>\n",
              "  </tbody>\n",
              "</table>"
            ],
            "text/plain": [
              "<IPython.core.display.HTML object>"
            ]
          },
          "metadata": {
            "tags": []
          }
        }
      ]
    },
    {
      "cell_type": "code",
      "metadata": {
        "id": "rKrBTZ0T1uVA",
        "outputId": "1e2a528d-bbe3-479f-dc55-562fab7f454a",
        "colab": {
          "base_uri": "https://localhost:8080/",
          "height": 173
        }
      },
      "source": [
        "learn.fit_one_cycle(4, slice(2e-3/100, 2e-3))"
      ],
      "execution_count": 37,
      "outputs": [
        {
          "output_type": "display_data",
          "data": {
            "text/html": [
              "<table border=\"1\" class=\"dataframe\">\n",
              "  <thead>\n",
              "    <tr style=\"text-align: left;\">\n",
              "      <th>epoch</th>\n",
              "      <th>train_loss</th>\n",
              "      <th>valid_loss</th>\n",
              "      <th>accuracy</th>\n",
              "      <th>time</th>\n",
              "    </tr>\n",
              "  </thead>\n",
              "  <tbody>\n",
              "    <tr>\n",
              "      <td>0</td>\n",
              "      <td>0.284048</td>\n",
              "      <td>1.401693</td>\n",
              "      <td>0.786982</td>\n",
              "      <td>07:14</td>\n",
              "    </tr>\n",
              "    <tr>\n",
              "      <td>1</td>\n",
              "      <td>0.341658</td>\n",
              "      <td>1.414474</td>\n",
              "      <td>0.786982</td>\n",
              "      <td>07:01</td>\n",
              "    </tr>\n",
              "    <tr>\n",
              "      <td>2</td>\n",
              "      <td>0.312788</td>\n",
              "      <td>1.357199</td>\n",
              "      <td>0.803550</td>\n",
              "      <td>07:26</td>\n",
              "    </tr>\n",
              "    <tr>\n",
              "      <td>3</td>\n",
              "      <td>0.253231</td>\n",
              "      <td>1.314022</td>\n",
              "      <td>0.798817</td>\n",
              "      <td>07:34</td>\n",
              "    </tr>\n",
              "  </tbody>\n",
              "</table>"
            ],
            "text/plain": [
              "<IPython.core.display.HTML object>"
            ]
          },
          "metadata": {
            "tags": []
          }
        }
      ]
    },
    {
      "cell_type": "code",
      "metadata": {
        "id": "ajQC6WDg1yA9",
        "outputId": "82bcfb94-48a3-4b4d-9e61-398bf223947b",
        "colab": {
          "base_uri": "https://localhost:8080/",
          "height": 173
        }
      },
      "source": [
        "learn.fit_one_cycle(4, slice(2e-3/100, 2e-3))"
      ],
      "execution_count": 38,
      "outputs": [
        {
          "output_type": "display_data",
          "data": {
            "text/html": [
              "<table border=\"1\" class=\"dataframe\">\n",
              "  <thead>\n",
              "    <tr style=\"text-align: left;\">\n",
              "      <th>epoch</th>\n",
              "      <th>train_loss</th>\n",
              "      <th>valid_loss</th>\n",
              "      <th>accuracy</th>\n",
              "      <th>time</th>\n",
              "    </tr>\n",
              "  </thead>\n",
              "  <tbody>\n",
              "    <tr>\n",
              "      <td>0</td>\n",
              "      <td>0.253297</td>\n",
              "      <td>1.356772</td>\n",
              "      <td>0.794083</td>\n",
              "      <td>07:10</td>\n",
              "    </tr>\n",
              "    <tr>\n",
              "      <td>1</td>\n",
              "      <td>0.289727</td>\n",
              "      <td>1.394077</td>\n",
              "      <td>0.794083</td>\n",
              "      <td>07:33</td>\n",
              "    </tr>\n",
              "    <tr>\n",
              "      <td>2</td>\n",
              "      <td>0.256374</td>\n",
              "      <td>1.321007</td>\n",
              "      <td>0.798817</td>\n",
              "      <td>07:36</td>\n",
              "    </tr>\n",
              "    <tr>\n",
              "      <td>3</td>\n",
              "      <td>0.204630</td>\n",
              "      <td>1.324804</td>\n",
              "      <td>0.802367</td>\n",
              "      <td>07:31</td>\n",
              "    </tr>\n",
              "  </tbody>\n",
              "</table>"
            ],
            "text/plain": [
              "<IPython.core.display.HTML object>"
            ]
          },
          "metadata": {
            "tags": []
          }
        }
      ]
    },
    {
      "cell_type": "code",
      "metadata": {
        "id": "KKydb0B4BKGk",
        "outputId": "3b37a267-84b5-4ab4-f057-c4f5ba09bd23",
        "colab": {
          "base_uri": "https://localhost:8080/",
          "height": 173
        }
      },
      "source": [
        "learn.fit_one_cycle(4, slice(2e-3/100, 2e-3))"
      ],
      "execution_count": 39,
      "outputs": [
        {
          "output_type": "display_data",
          "data": {
            "text/html": [
              "<table border=\"1\" class=\"dataframe\">\n",
              "  <thead>\n",
              "    <tr style=\"text-align: left;\">\n",
              "      <th>epoch</th>\n",
              "      <th>train_loss</th>\n",
              "      <th>valid_loss</th>\n",
              "      <th>accuracy</th>\n",
              "      <th>time</th>\n",
              "    </tr>\n",
              "  </thead>\n",
              "  <tbody>\n",
              "    <tr>\n",
              "      <td>0</td>\n",
              "      <td>0.215773</td>\n",
              "      <td>1.339109</td>\n",
              "      <td>0.798817</td>\n",
              "      <td>07:28</td>\n",
              "    </tr>\n",
              "    <tr>\n",
              "      <td>1</td>\n",
              "      <td>0.257835</td>\n",
              "      <td>1.370425</td>\n",
              "      <td>0.808284</td>\n",
              "      <td>07:43</td>\n",
              "    </tr>\n",
              "    <tr>\n",
              "      <td>2</td>\n",
              "      <td>0.234104</td>\n",
              "      <td>1.346141</td>\n",
              "      <td>0.811834</td>\n",
              "      <td>06:53</td>\n",
              "    </tr>\n",
              "    <tr>\n",
              "      <td>3</td>\n",
              "      <td>0.206337</td>\n",
              "      <td>1.446292</td>\n",
              "      <td>0.808284</td>\n",
              "      <td>06:49</td>\n",
              "    </tr>\n",
              "  </tbody>\n",
              "</table>"
            ],
            "text/plain": [
              "<IPython.core.display.HTML object>"
            ]
          },
          "metadata": {
            "tags": []
          }
        }
      ]
    },
    {
      "cell_type": "code",
      "metadata": {
        "id": "T2APKtFKBpGY",
        "outputId": "7fb2ea91-74ec-464e-a1f5-fc99da15f54c",
        "colab": {
          "base_uri": "https://localhost:8080/",
          "height": 173
        }
      },
      "source": [
        "learn.fit_one_cycle(4, slice(2e-3/100, 2e-3))"
      ],
      "execution_count": 40,
      "outputs": [
        {
          "output_type": "display_data",
          "data": {
            "text/html": [
              "<table border=\"1\" class=\"dataframe\">\n",
              "  <thead>\n",
              "    <tr style=\"text-align: left;\">\n",
              "      <th>epoch</th>\n",
              "      <th>train_loss</th>\n",
              "      <th>valid_loss</th>\n",
              "      <th>accuracy</th>\n",
              "      <th>time</th>\n",
              "    </tr>\n",
              "  </thead>\n",
              "  <tbody>\n",
              "    <tr>\n",
              "      <td>0</td>\n",
              "      <td>0.184634</td>\n",
              "      <td>1.429772</td>\n",
              "      <td>0.802367</td>\n",
              "      <td>07:45</td>\n",
              "    </tr>\n",
              "    <tr>\n",
              "      <td>1</td>\n",
              "      <td>0.227864</td>\n",
              "      <td>1.399205</td>\n",
              "      <td>0.801183</td>\n",
              "      <td>07:48</td>\n",
              "    </tr>\n",
              "    <tr>\n",
              "      <td>2</td>\n",
              "      <td>0.224387</td>\n",
              "      <td>1.325884</td>\n",
              "      <td>0.811834</td>\n",
              "      <td>07:34</td>\n",
              "    </tr>\n",
              "    <tr>\n",
              "      <td>3</td>\n",
              "      <td>0.177355</td>\n",
              "      <td>1.348577</td>\n",
              "      <td>0.808284</td>\n",
              "      <td>07:43</td>\n",
              "    </tr>\n",
              "  </tbody>\n",
              "</table>"
            ],
            "text/plain": [
              "<IPython.core.display.HTML object>"
            ]
          },
          "metadata": {
            "tags": []
          }
        }
      ]
    },
    {
      "cell_type": "code",
      "metadata": {
        "id": "qtTypA1sPgLU",
        "outputId": "e6a32774-911f-4fb3-9dd9-99e532b8ce23",
        "colab": {
          "base_uri": "https://localhost:8080/",
          "height": 111
        }
      },
      "source": [
        "learn.fit_one_cycle(2, slice(2e-3/100, 2e-3))"
      ],
      "execution_count": 41,
      "outputs": [
        {
          "output_type": "display_data",
          "data": {
            "text/html": [
              "<table border=\"1\" class=\"dataframe\">\n",
              "  <thead>\n",
              "    <tr style=\"text-align: left;\">\n",
              "      <th>epoch</th>\n",
              "      <th>train_loss</th>\n",
              "      <th>valid_loss</th>\n",
              "      <th>accuracy</th>\n",
              "      <th>time</th>\n",
              "    </tr>\n",
              "  </thead>\n",
              "  <tbody>\n",
              "    <tr>\n",
              "      <td>0</td>\n",
              "      <td>0.212445</td>\n",
              "      <td>1.429199</td>\n",
              "      <td>0.797633</td>\n",
              "      <td>07:18</td>\n",
              "    </tr>\n",
              "    <tr>\n",
              "      <td>1</td>\n",
              "      <td>0.205844</td>\n",
              "      <td>1.380416</td>\n",
              "      <td>0.811834</td>\n",
              "      <td>07:30</td>\n",
              "    </tr>\n",
              "  </tbody>\n",
              "</table>"
            ],
            "text/plain": [
              "<IPython.core.display.HTML object>"
            ]
          },
          "metadata": {
            "tags": []
          }
        }
      ]
    },
    {
      "cell_type": "code",
      "metadata": {
        "id": "b242kBsTUp9Y",
        "outputId": "1ccdb266-5dba-4a94-f1d2-4a6710c24f75",
        "colab": {
          "base_uri": "https://localhost:8080/",
          "height": 111
        }
      },
      "source": [
        "learn.fit_one_cycle(2, slice(2e-3/100, 2e-3))"
      ],
      "execution_count": 42,
      "outputs": [
        {
          "output_type": "display_data",
          "data": {
            "text/html": [
              "<table border=\"1\" class=\"dataframe\">\n",
              "  <thead>\n",
              "    <tr style=\"text-align: left;\">\n",
              "      <th>epoch</th>\n",
              "      <th>train_loss</th>\n",
              "      <th>valid_loss</th>\n",
              "      <th>accuracy</th>\n",
              "      <th>time</th>\n",
              "    </tr>\n",
              "  </thead>\n",
              "  <tbody>\n",
              "    <tr>\n",
              "      <td>0</td>\n",
              "      <td>0.200660</td>\n",
              "      <td>1.446141</td>\n",
              "      <td>0.804734</td>\n",
              "      <td>07:26</td>\n",
              "    </tr>\n",
              "    <tr>\n",
              "      <td>1</td>\n",
              "      <td>0.188579</td>\n",
              "      <td>1.432647</td>\n",
              "      <td>0.804734</td>\n",
              "      <td>07:04</td>\n",
              "    </tr>\n",
              "  </tbody>\n",
              "</table>"
            ],
            "text/plain": [
              "<IPython.core.display.HTML object>"
            ]
          },
          "metadata": {
            "tags": []
          }
        }
      ]
    },
    {
      "cell_type": "code",
      "metadata": {
        "id": "Duwf1Ih5VeDZ",
        "outputId": "73790612-191d-4f39-ef0e-7e101a7cce3e",
        "colab": {
          "base_uri": "https://localhost:8080/",
          "height": 80
        }
      },
      "source": [
        "learn.fit_one_cycle(1, slice(2e-3/100, 2e-3))"
      ],
      "execution_count": 43,
      "outputs": [
        {
          "output_type": "display_data",
          "data": {
            "text/html": [
              "<table border=\"1\" class=\"dataframe\">\n",
              "  <thead>\n",
              "    <tr style=\"text-align: left;\">\n",
              "      <th>epoch</th>\n",
              "      <th>train_loss</th>\n",
              "      <th>valid_loss</th>\n",
              "      <th>accuracy</th>\n",
              "      <th>time</th>\n",
              "    </tr>\n",
              "  </thead>\n",
              "  <tbody>\n",
              "    <tr>\n",
              "      <td>0</td>\n",
              "      <td>0.177397</td>\n",
              "      <td>1.428565</td>\n",
              "      <td>0.802367</td>\n",
              "      <td>06:48</td>\n",
              "    </tr>\n",
              "  </tbody>\n",
              "</table>"
            ],
            "text/plain": [
              "<IPython.core.display.HTML object>"
            ]
          },
          "metadata": {
            "tags": []
          }
        }
      ]
    },
    {
      "cell_type": "code",
      "metadata": {
        "id": "c65d-osfDUXm"
      },
      "source": [
        "# save the best model\n",
        "\n",
        "learn.save_encoder('pubmed_cadec_askpatient_mixed_fold0')"
      ],
      "execution_count": 44,
      "outputs": []
    },
    {
      "cell_type": "markdown",
      "metadata": {
        "id": "rCwZU0E2RgM6"
      },
      "source": [
        "# Part three: Predict on the test dataset"
      ]
    },
    {
      "cell_type": "code",
      "metadata": {
        "id": "gDm72c-dOu7d",
        "outputId": "d0e1a7f3-89e9-4e8e-813e-7fc95f6ba801",
        "colab": {
          "base_uri": "https://localhost:8080/",
          "height": 17
        }
      },
      "source": [
        "# use the test data for prediction\n",
        "\n",
        "preds, y = learn.get_preds(DatasetType.Test)"
      ],
      "execution_count": 45,
      "outputs": [
        {
          "output_type": "display_data",
          "data": {
            "text/html": [
              ""
            ],
            "text/plain": [
              "<IPython.core.display.HTML object>"
            ]
          },
          "metadata": {
            "tags": []
          }
        }
      ]
    },
    {
      "cell_type": "code",
      "metadata": {
        "id": "6tFSQcsWPvxn",
        "outputId": "41e867a8-bb2d-414f-c316-7b77dd857f44",
        "colab": {
          "base_uri": "https://localhost:8080/",
          "height": 105
        }
      },
      "source": [
        "predictions, *_ = learn.get_preds(DatasetType.Test)\n",
        "labels = np.argmax(predictions, 1)\n",
        "predict_list = labels.tolist()\n",
        "standard_list = test[0].tolist()\n",
        "\n",
        "print(len(predict_list))\n",
        "print(len(standard_list))\n",
        "\n",
        "print(predict_list)\n",
        "print(standard_list)"
      ],
      "execution_count": 46,
      "outputs": [
        {
          "output_type": "display_data",
          "data": {
            "text/html": [
              ""
            ],
            "text/plain": [
              "<IPython.core.display.HTML object>"
            ]
          },
          "metadata": {
            "tags": []
          }
        },
        {
          "output_type": "stream",
          "text": [
            "867\n",
            "867\n",
            "[0, 2, 509, 561, 5, 8, 8, 8, 8, 8, 8, 8, 891, 5, 21, 22, 325, 27, 27, 644, 29, 289, 30, 30, 31, 31, 32, 34, 427, 37, 37, 83, 37, 37, 37, 37, 983, 44, 439, 49, 49, 325, 325, 49, 49, 49, 49, 49, 49, 100, 100, 100, 100, 100, 53, 53, 58, 61, 71, 71, 491, 76, 76, 79, 79, 79, 79, 79, 574, 949, 228, 228, 228, 228, 228, 228, 228, 228, 228, 228, 228, 228, 228, 228, 228, 228, 228, 228, 228, 228, 228, 228, 228, 228, 228, 228, 111, 228, 79, 79, 80, 80, 80, 80, 80, 80, 80, 80, 80, 88, 89, 627, 137, 90, 91, 92, 94, 94, 94, 94, 94, 94, 94, 94, 96, 337, 98, 683, 98, 100, 360, 100, 100, 100, 100, 100, 100, 100, 100, 808, 337, 108, 108, 108, 209, 873, 111, 111, 111, 4, 111, 190, 117, 120, 402, 402, 122, 125, 1025, 125, 125, 125, 125, 125, 125, 125, 125, 125, 125, 127, 129, 131, 745, 142, 142, 144, 344, 301, 151, 151, 79, 144, 157, 158, 165, 165, 166, 166, 166, 291, 172, 172, 172, 172, 172, 172, 172, 79, 524, 182, 182, 182, 182, 182, 183, 183, 183, 183, 183, 183, 183, 183, 183, 183, 183, 183, 183, 184, 184, 185, 187, 187, 187, 189, 189, 190, 190, 190, 190, 190, 190, 193, 34, 34, 769, 801, 210, 210, 210, 107, 214, 214, 214, 471, 214, 214, 214, 214, 214, 214, 214, 214, 214, 964, 216, 1026, 218, 218, 220, 220, 220, 220, 220, 222, 226, 228, 228, 228, 228, 228, 228, 228, 228, 289, 296, 234, 234, 235, 402, 951, 434, 187, 1025, 1025, 243, 243, 243, 243, 243, 244, 245, 245, 245, 764, 765, 245, 245, 245, 245, 167, 246, 246, 246, 848, 254, 254, 259, 260, 644, 262, 265, 265, 265, 265, 419, 265, 402, 265, 265, 265, 265, 265, 265, 265, 265, 265, 265, 265, 265, 265, 265, 265, 265, 265, 265, 627, 137, 137, 269, 270, 1025, 276, 277, 589, 289, 289, 289, 289, 289, 419, 860, 289, 289, 289, 289, 289, 289, 289, 289, 289, 289, 289, 651, 364, 291, 364, 877, 887, 300, 300, 265, 37, 236, 607, 308, 309, 309, 309, 309, 309, 418, 750, 642, 318, 318, 359, 79, 146, 239, 321, 375, 1025, 323, 325, 325, 325, 325, 325, 325, 325, 325, 325, 325, 325, 215, 626, 193, 49, 326, 61, 203, 334, 335, 336, 337, 337, 337, 337, 338, 343, 144, 518, 359, 359, 491, 360, 363, 363, 364, 605, 364, 364, 726, 644, 427, 391, 396, 402, 402, 405, 415, 418, 318, 419, 419, 419, 419, 419, 471, 419, 419, 76, 964, 426, 426, 427, 427, 427, 427, 427, 427, 427, 427, 427, 427, 427, 427, 591, 736, 430, 434, 238, 435, 390, 444, 444, 391, 1025, 455, 455, 462, 524, 474, 475, 475, 475, 591, 158, 744, 372, 489, 491, 491, 378, 491, 492, 492, 499, 299, 90, 509, 516, 516, 517, 794, 847, 521, 524, 527, 765, 530, 530, 530, 530, 531, 535, 541, 541, 591, 291, 546, 548, 548, 548, 548, 548, 548, 111, 190, 567, 301, 58, 574, 579, 579, 584, 687, 289, 590, 590, 325, 592, 595, 597, 597, 541, 120, 704, 228, 607, 608, 610, 610, 610, 830, 76, 79, 614, 614, 619, 619, 619, 623, 318, 624, 633, 633, 638, 644, 644, 646, 646, 646, 646, 646, 728, 909, 651, 652, 652, 652, 652, 652, 652, 662, 662, 662, 662, 29, 665, 437, 666, 403, 681, 683, 765, 686, 687, 817, 693, 693, 698, 471, 172, 265, 190, 707, 710, 711, 772, 144, 861, 521, 289, 745, 746, 746, 746, 808, 746, 749, 753, 753, 794, 607, 513, 775, 775, 775, 775, 502, 887, 479, 368, 840, 804, 805, 805, 322, 809, 809, 809, 809, 575, 810, 45, 815, 427, 824, 377, 826, 828, 508, 830, 1026, 830, 830, 830, 830, 834, 840, 840, 764, 847, 847, 847, 847, 808, 847, 852, 852, 853, 853, 853, 853, 853, 853, 853, 706, 864, 111, 130, 662, 81, 867, 868, 427, 874, 876, 876, 61, 892, 896, 896, 896, 896, 896, 337, 328, 902, 896, 905, 906, 466, 916, 529, 919, 919, 967, 929, 973, 933, 936, 937, 937, 937, 937, 937, 937, 937, 941, 941, 944, 141, 644, 949, 949, 949, 949, 949, 949, 949, 949, 949, 949, 949, 949, 949, 949, 949, 949, 949, 949, 949, 949, 949, 949, 949, 949, 949, 949, 949, 949, 949, 949, 949, 949, 949, 949, 949, 949, 949, 949, 949, 949, 949, 949, 949, 949, 949, 949, 949, 949, 949, 949, 949, 949, 949, 949, 949, 949, 949, 949, 949, 949, 949, 949, 949, 949, 949, 949, 949, 949, 949, 949, 973, 1010, 949, 949, 949, 949, 949, 949, 949, 949, 949, 949, 949, 949, 949, 949, 949, 949, 949, 949, 949, 949, 949, 949, 949, 949, 949, 949, 949, 949, 949, 949, 949, 949, 949, 949, 949, 949, 949, 949, 950, 950, 950, 950, 952, 952, 955, 956, 956, 964, 964, 967, 967, 967, 977, 950, 964, 964, 961, 31, 1017, 1020, 938, 1022, 1026, 1026, 1028, 1028, 1028, 1028, 1025, 1035]\n",
            "[0, 2, 3, 5, 5, 8, 8, 8, 8, 8, 8, 8, 14, 18, 21, 22, 22, 27, 27, 28, 29, 30, 30, 30, 31, 31, 32, 34, 34, 37, 37, 37, 37, 37, 37, 37, 38, 44, 47, 49, 49, 49, 49, 49, 49, 49, 49, 49, 49, 49, 49, 49, 49, 49, 53, 53, 58, 61, 71, 71, 74, 76, 76, 77, 79, 79, 79, 79, 79, 79, 79, 79, 79, 79, 79, 79, 79, 79, 79, 79, 79, 79, 79, 79, 79, 79, 79, 79, 79, 79, 79, 79, 79, 79, 79, 79, 79, 79, 79, 79, 80, 80, 80, 80, 80, 80, 80, 80, 80, 88, 89, 89, 89, 90, 91, 92, 94, 94, 94, 94, 94, 94, 94, 94, 96, 96, 98, 98, 98, 100, 100, 100, 100, 100, 100, 100, 100, 100, 100, 101, 102, 108, 108, 108, 109, 111, 111, 111, 111, 111, 111, 111, 117, 120, 120, 120, 122, 125, 125, 125, 125, 125, 125, 125, 125, 125, 125, 125, 125, 127, 129, 131, 132, 142, 142, 144, 150, 150, 151, 151, 153, 157, 157, 158, 165, 165, 166, 166, 166, 168, 172, 172, 172, 172, 172, 172, 172, 180, 182, 182, 182, 182, 182, 182, 183, 183, 183, 183, 183, 183, 183, 183, 183, 183, 183, 183, 183, 184, 184, 185, 187, 187, 187, 189, 189, 190, 190, 190, 190, 190, 190, 193, 197, 197, 205, 210, 210, 210, 210, 214, 214, 214, 214, 214, 214, 214, 214, 214, 214, 214, 214, 214, 214, 216, 216, 218, 218, 218, 220, 220, 220, 220, 220, 222, 226, 228, 228, 228, 228, 228, 228, 228, 228, 228, 229, 234, 234, 235, 238, 238, 238, 240, 243, 243, 243, 243, 243, 243, 243, 244, 245, 245, 245, 245, 245, 245, 245, 245, 245, 246, 246, 246, 246, 249, 254, 254, 259, 260, 261, 262, 265, 265, 265, 265, 265, 265, 265, 265, 265, 265, 265, 265, 265, 265, 265, 265, 265, 265, 265, 265, 265, 265, 265, 265, 265, 268, 268, 268, 269, 270, 271, 276, 277, 288, 289, 289, 289, 289, 289, 289, 289, 289, 289, 289, 289, 289, 289, 289, 289, 289, 289, 289, 289, 289, 291, 293, 295, 299, 300, 300, 301, 301, 301, 304, 308, 309, 309, 309, 309, 309, 309, 317, 318, 318, 318, 318, 318, 318, 320, 321, 321, 323, 323, 325, 325, 325, 325, 325, 325, 325, 325, 325, 325, 325, 325, 325, 325, 325, 326, 327, 333, 334, 335, 336, 337, 337, 337, 337, 338, 343, 344, 347, 359, 359, 360, 360, 363, 363, 364, 364, 364, 364, 365, 380, 388, 392, 396, 402, 402, 405, 416, 418, 419, 419, 419, 419, 419, 419, 419, 419, 419, 419, 424, 426, 426, 427, 427, 427, 427, 427, 427, 427, 427, 427, 427, 427, 427, 427, 428, 430, 433, 434, 435, 443, 444, 444, 444, 455, 455, 455, 462, 465, 474, 475, 475, 475, 475, 476, 482, 483, 489, 491, 491, 491, 491, 492, 492, 499, 505, 509, 509, 516, 516, 517, 517, 517, 521, 524, 527, 529, 530, 530, 530, 530, 531, 535, 541, 541, 543, 543, 546, 548, 548, 548, 548, 548, 548, 565, 566, 567, 577, 577, 578, 579, 579, 584, 586, 588, 590, 590, 591, 592, 595, 597, 597, 598, 598, 606, 606, 607, 608, 610, 610, 610, 611, 614, 614, 614, 614, 619, 619, 619, 623, 623, 624, 633, 633, 638, 644, 644, 646, 646, 646, 646, 646, 648, 648, 651, 652, 652, 652, 652, 652, 652, 662, 662, 662, 662, 663, 663, 663, 666, 669, 681, 683, 686, 686, 687, 689, 693, 693, 698, 700, 700, 701, 703, 707, 710, 711, 715, 718, 731, 733, 741, 745, 746, 746, 746, 746, 746, 749, 753, 753, 756, 763, 771, 775, 775, 775, 775, 782, 787, 794, 794, 800, 804, 805, 805, 807, 809, 809, 809, 809, 810, 810, 813, 815, 816, 824, 826, 826, 828, 829, 830, 830, 830, 830, 830, 830, 834, 840, 840, 840, 847, 847, 847, 847, 847, 847, 852, 852, 853, 853, 853, 853, 853, 853, 853, 861, 864, 864, 864, 865, 865, 867, 868, 871, 874, 876, 876, 888, 892, 896, 896, 896, 896, 896, 896, 898, 902, 903, 905, 906, 908, 916, 917, 919, 919, 920, 929, 931, 933, 936, 937, 937, 937, 937, 937, 937, 937, 941, 941, 944, 947, 948, 949, 949, 949, 949, 949, 949, 949, 949, 949, 949, 949, 949, 949, 949, 949, 949, 949, 949, 949, 949, 949, 949, 949, 949, 949, 949, 949, 949, 949, 949, 949, 949, 949, 949, 949, 949, 949, 949, 949, 949, 949, 949, 949, 949, 949, 949, 949, 949, 949, 949, 949, 949, 949, 949, 949, 949, 949, 949, 949, 949, 949, 949, 949, 949, 949, 949, 949, 949, 949, 949, 949, 949, 949, 949, 949, 949, 949, 949, 949, 949, 949, 949, 949, 949, 949, 949, 949, 949, 949, 949, 949, 949, 949, 949, 949, 949, 949, 949, 949, 949, 949, 949, 949, 949, 949, 949, 949, 949, 949, 949, 950, 950, 950, 950, 952, 952, 955, 956, 956, 964, 964, 967, 967, 967, 977, 1000, 1001, 1001, 1002, 1011, 1017, 1020, 1020, 1022, 1026, 1026, 1028, 1028, 1028, 1028, 1030, 1035]\n"
          ],
          "name": "stdout"
        }
      ]
    },
    {
      "cell_type": "code",
      "metadata": {
        "id": "XIC4zufnMxtq",
        "outputId": "151f7628-aae6-456c-c297-32f18d7ae0fd",
        "colab": {
          "base_uri": "https://localhost:8080/",
          "height": 51
        }
      },
      "source": [
        "correct_num = 0\n",
        "\n",
        "for i in range(0, len(standard_list)):\n",
        "  if predict_list[i] == standard_list[i]:\n",
        "    correct_num = correct_num+1\n",
        "  else:\n",
        "    pass\n",
        "print(correct_num)\n",
        "\n",
        "predict_accuracy = correct_num/len(predict_list)\n",
        "print(predict_accuracy)"
      ],
      "execution_count": 47,
      "outputs": [
        {
          "output_type": "stream",
          "text": [
            "632\n",
            "0.7289504036908881\n"
          ],
          "name": "stdout"
        }
      ]
    },
    {
      "cell_type": "code",
      "metadata": {
        "id": "zlKMHp1CIaRJ"
      },
      "source": [
        ""
      ],
      "execution_count": 47,
      "outputs": []
    }
  ]
}