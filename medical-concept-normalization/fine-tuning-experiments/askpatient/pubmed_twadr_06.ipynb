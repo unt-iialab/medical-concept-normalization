{
  "nbformat": 4,
  "nbformat_minor": 0,
  "metadata": {
    "accelerator": "TPU",
    "colab": {
      "name": "pubmed_twadr_06.ipynb",
      "provenance": [],
      "collapsed_sections": [],
      "toc_visible": true,
      "include_colab_link": true
    },
    "kernelspec": {
      "display_name": "Python 3",
      "name": "python3"
    }
  },
  "cells": [
    {
      "cell_type": "markdown",
      "metadata": {
        "id": "view-in-github",
        "colab_type": "text"
      },
      "source": [
        "<a href=\"https://colab.research.google.com/github/unt-iialab/medical-concept-normalization/blob/master/medical-concept-normalization/fine-tuning-experiments/askpatient/pubmed_twadr_06.ipynb\" target=\"_parent\"><img src=\"https://colab.research.google.com/assets/colab-badge.svg\" alt=\"Open In Colab\"/></a>"
      ]
    },
    {
      "cell_type": "code",
      "metadata": {
        "id": "adSi6i2-dWxy"
      },
      "source": [
        "import os"
      ],
      "execution_count": 1,
      "outputs": []
    },
    {
      "cell_type": "code",
      "metadata": {
        "id": "E7xYCRGPjd9B"
      },
      "source": [
        "base_dir = 'medical-concept-normalization'"
      ],
      "execution_count": 2,
      "outputs": []
    },
    {
      "cell_type": "code",
      "metadata": {
        "id": "yvIW3aUDjYNS"
      },
      "source": [
        "os.mkdir(base_dir)"
      ],
      "execution_count": 3,
      "outputs": []
    },
    {
      "cell_type": "code",
      "metadata": {
        "id": "es-FFLlfk6SG"
      },
      "source": [
        "os.mkdir('medical-concept-normalization/data_collection')"
      ],
      "execution_count": 4,
      "outputs": []
    },
    {
      "cell_type": "markdown",
      "metadata": {
        "id": "0R-Guw_VoJXm"
      },
      "source": [
        "**Install fastai and clone the fastai for text classification**\n",
        "\n"
      ]
    },
    {
      "cell_type": "code",
      "metadata": {
        "id": "QVZa3Z0PmHFH",
        "outputId": "1fe2c613-dfdd-4879-d012-df00421135c6",
        "colab": {
          "base_uri": "https://localhost:8080/"
        }
      },
      "source": [
        "!curl https://course-v3.fast.ai/setup/colab | bash"
      ],
      "execution_count": 5,
      "outputs": [
        {
          "output_type": "stream",
          "text": [
            "  % Total    % Received % Xferd  Average Speed   Time    Time     Time  Current\n",
            "                                 Dload  Upload   Total   Spent    Left  Speed\n",
            "\r  0     0    0     0    0     0      0      0 --:--:-- --:--:-- --:--:--     0curl: (6) Could not resolve host: course-v3.fast.ai\n"
          ],
          "name": "stdout"
        }
      ]
    },
    {
      "cell_type": "code",
      "metadata": {
        "id": "_FBFFEBrmJC0",
        "outputId": "051a0299-bda1-4cbf-8156-61c06d159962",
        "colab": {
          "base_uri": "https://localhost:8080/"
        }
      },
      "source": [
        "!git clone https://github.com/wshuyi/demo-nlp-classification-fastai.git"
      ],
      "execution_count": 6,
      "outputs": [
        {
          "output_type": "stream",
          "text": [
            "Cloning into 'demo-nlp-classification-fastai'...\n",
            "remote: Enumerating objects: 9, done.\u001b[K\n",
            "remote: Total 9 (delta 0), reused 0 (delta 0), pack-reused 9\u001b[K\n",
            "Unpacking objects: 100% (9/9), done.\n"
          ],
          "name": "stdout"
        }
      ]
    },
    {
      "cell_type": "code",
      "metadata": {
        "id": "66zfh_JqmWMU"
      },
      "source": [
        "from fastai import *\n",
        "from fastai.text import *"
      ],
      "execution_count": 7,
      "outputs": []
    },
    {
      "cell_type": "markdown",
      "metadata": {
        "id": "mNIw-yALdBU9"
      },
      "source": [
        "**Set the path of the data collections**"
      ]
    },
    {
      "cell_type": "code",
      "metadata": {
        "id": "pzH7VMh4mqCL"
      },
      "source": [
        "path = Path('medical-concept-normalization/data_collection')"
      ],
      "execution_count": 8,
      "outputs": []
    },
    {
      "cell_type": "code",
      "metadata": {
        "id": "b8fjI6yyn4aS"
      },
      "source": [
        "# training data set\n",
        "\n",
        "train_csv = path/'TwADR-L.fold-6.train.csv'\n",
        "train = pd.read_csv(train_csv, header=None)\n",
        "#train.head()\n",
        "#train.info()"
      ],
      "execution_count": 10,
      "outputs": []
    },
    {
      "cell_type": "code",
      "metadata": {
        "id": "Hmlr-bAorfHd",
        "outputId": "59d55878-e849-472e-db4e-94deeb9f09e4",
        "colab": {
          "base_uri": "https://localhost:8080/",
          "height": 204
        }
      },
      "source": [
        "# validating data set\n",
        "\n",
        "valid = pd.read_csv(path/\"TwADR-L.fold-6.validation.csv\",header=None)\n",
        "valid.head()"
      ],
      "execution_count": 11,
      "outputs": [
        {
          "output_type": "execute_result",
          "data": {
            "text/html": [
              "<div>\n",
              "<style scoped>\n",
              "    .dataframe tbody tr th:only-of-type {\n",
              "        vertical-align: middle;\n",
              "    }\n",
              "\n",
              "    .dataframe tbody tr th {\n",
              "        vertical-align: top;\n",
              "    }\n",
              "\n",
              "    .dataframe thead th {\n",
              "        text-align: right;\n",
              "    }\n",
              "</style>\n",
              "<table border=\"1\" class=\"dataframe\">\n",
              "  <thead>\n",
              "    <tr style=\"text-align: right;\">\n",
              "      <th></th>\n",
              "      <th>0</th>\n",
              "      <th>1</th>\n",
              "    </tr>\n",
              "  </thead>\n",
              "  <tbody>\n",
              "    <tr>\n",
              "      <th>0</th>\n",
              "      <td>13</td>\n",
              "      <td>It's 6 am and this adderall got me reevaluatin...</td>\n",
              "    </tr>\n",
              "    <tr>\n",
              "      <th>1</th>\n",
              "      <td>84</td>\n",
              "      <td>paraplegic</td>\n",
              "    </tr>\n",
              "    <tr>\n",
              "      <th>2</th>\n",
              "      <td>91</td>\n",
              "      <td>jitters</td>\n",
              "    </tr>\n",
              "    <tr>\n",
              "      <th>3</th>\n",
              "      <td>189</td>\n",
              "      <td>dizziness</td>\n",
              "    </tr>\n",
              "    <tr>\n",
              "      <th>4</th>\n",
              "      <td>189</td>\n",
              "      <td>dizzy</td>\n",
              "    </tr>\n",
              "  </tbody>\n",
              "</table>\n",
              "</div>"
            ],
            "text/plain": [
              "     0                                                  1\n",
              "0   13  It's 6 am and this adderall got me reevaluatin...\n",
              "1   84                                         paraplegic\n",
              "2   91                                            jitters\n",
              "3  189                                          dizziness\n",
              "4  189                                              dizzy"
            ]
          },
          "metadata": {
            "tags": []
          },
          "execution_count": 11
        }
      ]
    },
    {
      "cell_type": "code",
      "metadata": {
        "id": "cOza9dfSsBud",
        "outputId": "54049390-e446-4245-cfa3-0f2b82731605",
        "colab": {
          "base_uri": "https://localhost:8080/",
          "height": 204
        }
      },
      "source": [
        "# testing data set\n",
        "\n",
        "test = pd.read_csv(path/\"TwADR-L.fold-6.test.csv\",header=None)\n",
        "test.head()"
      ],
      "execution_count": 12,
      "outputs": [
        {
          "output_type": "execute_result",
          "data": {
            "text/html": [
              "<div>\n",
              "<style scoped>\n",
              "    .dataframe tbody tr th:only-of-type {\n",
              "        vertical-align: middle;\n",
              "    }\n",
              "\n",
              "    .dataframe tbody tr th {\n",
              "        vertical-align: top;\n",
              "    }\n",
              "\n",
              "    .dataframe thead th {\n",
              "        text-align: right;\n",
              "    }\n",
              "</style>\n",
              "<table border=\"1\" class=\"dataframe\">\n",
              "  <thead>\n",
              "    <tr style=\"text-align: right;\">\n",
              "      <th></th>\n",
              "      <th>0</th>\n",
              "      <th>1</th>\n",
              "    </tr>\n",
              "  </thead>\n",
              "  <tbody>\n",
              "    <tr>\n",
              "      <th>0</th>\n",
              "      <td>13</td>\n",
              "      <td>awake in the middle of the night for an hour or 2</td>\n",
              "    </tr>\n",
              "    <tr>\n",
              "      <th>1</th>\n",
              "      <td>24</td>\n",
              "      <td>heart beat for being too strong</td>\n",
              "    </tr>\n",
              "    <tr>\n",
              "      <th>2</th>\n",
              "      <td>74</td>\n",
              "      <td>60% of my success is due to taking Adderall</td>\n",
              "    </tr>\n",
              "    <tr>\n",
              "      <th>3</th>\n",
              "      <td>85</td>\n",
              "      <td>tremor</td>\n",
              "    </tr>\n",
              "    <tr>\n",
              "      <th>4</th>\n",
              "      <td>94</td>\n",
              "      <td>anxiety</td>\n",
              "    </tr>\n",
              "  </tbody>\n",
              "</table>\n",
              "</div>"
            ],
            "text/plain": [
              "    0                                                  1\n",
              "0  13  awake in the middle of the night for an hour or 2\n",
              "1  24                    heart beat for being too strong\n",
              "2  74        60% of my success is due to taking Adderall\n",
              "3  85                                             tremor\n",
              "4  94                                            anxiety"
            ]
          },
          "metadata": {
            "tags": []
          },
          "execution_count": 12
        }
      ]
    },
    {
      "cell_type": "code",
      "metadata": {
        "id": "Vo-YNvVYoaH6",
        "outputId": "aab2d5f5-0879-4eac-f52f-a8513a9ed233",
        "colab": {
          "base_uri": "https://localhost:8080/",
          "height": 17
        }
      },
      "source": [
        "# Creating DataBunch for language modelling\n",
        "\n",
        "data_lm = TextLMDataBunch.from_csv(path, 'TwADR-cadec.csv')"
      ],
      "execution_count": 13,
      "outputs": [
        {
          "output_type": "display_data",
          "data": {
            "text/html": [
              ""
            ],
            "text/plain": [
              "<IPython.core.display.HTML object>"
            ]
          },
          "metadata": {
            "tags": []
          }
        },
        {
          "output_type": "display_data",
          "data": {
            "text/html": [
              ""
            ],
            "text/plain": [
              "<IPython.core.display.HTML object>"
            ]
          },
          "metadata": {
            "tags": []
          }
        }
      ]
    },
    {
      "cell_type": "code",
      "metadata": {
        "id": "qcV-9kMnNLBf"
      },
      "source": [
        ""
      ],
      "execution_count": 13,
      "outputs": []
    },
    {
      "cell_type": "code",
      "metadata": {
        "id": "1ScY9afDsnvE"
      },
      "source": [
        "# Creating DataBunch for classification\n",
        "\n",
        "# data_clas = TextClasDataBunch.from_df(path, train, valid, test, vocab=data_lm.train_ds.vocab, bs=128)"
      ],
      "execution_count": 14,
      "outputs": []
    },
    {
      "cell_type": "code",
      "metadata": {
        "id": "gzrSdQcvey9p",
        "outputId": "2d0818b4-a5ad-4936-a6e7-0dc655845ac2",
        "colab": {
          "base_uri": "https://localhost:8080/",
          "height": 17
        }
      },
      "source": [
        "data_clas = TextClasDataBunch.from_df(path, train, valid, vocab=data_lm.train_ds.vocab, bs=128)"
      ],
      "execution_count": 15,
      "outputs": [
        {
          "output_type": "display_data",
          "data": {
            "text/html": [
              ""
            ],
            "text/plain": [
              "<IPython.core.display.HTML object>"
            ]
          },
          "metadata": {
            "tags": []
          }
        },
        {
          "output_type": "display_data",
          "data": {
            "text/html": [
              ""
            ],
            "text/plain": [
              "<IPython.core.display.HTML object>"
            ]
          },
          "metadata": {
            "tags": []
          }
        }
      ]
    },
    {
      "cell_type": "code",
      "metadata": {
        "id": "MD27Tf0Ke3ou",
        "outputId": "f2cb5689-066d-48bf-bbdd-84042bb6b82a",
        "colab": {
          "base_uri": "https://localhost:8080/",
          "height": 17
        }
      },
      "source": [
        "data_clas.add_test(test,label=0)\n"
      ],
      "execution_count": 16,
      "outputs": [
        {
          "output_type": "display_data",
          "data": {
            "text/html": [
              ""
            ],
            "text/plain": [
              "<IPython.core.display.HTML object>"
            ]
          },
          "metadata": {
            "tags": []
          }
        }
      ]
    },
    {
      "cell_type": "code",
      "metadata": {
        "id": "-dpjnk_rstwk"
      },
      "source": [
        "data_lm.save()\n",
        "data_clas.save()"
      ],
      "execution_count": 17,
      "outputs": []
    },
    {
      "cell_type": "code",
      "metadata": {
        "id": "4OkiJa36sw5s",
        "outputId": "31f20cf2-8088-4015-a82a-5c59b022cd10",
        "colab": {
          "base_uri": "https://localhost:8080/"
        }
      },
      "source": [
        "data_lm.train_ds.vocab.itos"
      ],
      "execution_count": 18,
      "outputs": [
        {
          "output_type": "execute_result",
          "data": {
            "text/plain": [
              "['xxunk',\n",
              " 'xxpad',\n",
              " 'xxbos',\n",
              " 'xxeos',\n",
              " 'xxfld',\n",
              " 'xxmaj',\n",
              " 'xxup',\n",
              " 'xxrep',\n",
              " 'xxwrep',\n",
              " '.',\n",
              " ',',\n",
              " 'i',\n",
              " 'the',\n",
              " 'and',\n",
              " 'to',\n",
              " 'my',\n",
              " 'pain',\n",
              " 'of',\n",
              " 'in',\n",
              " 'a',\n",
              " 'it',\n",
              " 'me',\n",
              " 'mood',\n",
              " 'increased',\n",
              " 'for',\n",
              " 'have',\n",
              " 'was',\n",
              " '-',\n",
              " 'drug',\n",
              " ')',\n",
              " 'this',\n",
              " '(',\n",
              " 'lipitor',\n",
              " 'on',\n",
              " 'disorder',\n",
              " 'abnormal',\n",
              " 'not',\n",
              " 'withdrawal',\n",
              " 'symptoms',\n",
              " 'anxiety',\n",
              " 'had',\n",
              " 'that',\n",
              " 'is',\n",
              " 'with',\n",
              " 'muscle',\n",
              " 'weight',\n",
              " 'like',\n",
              " 'but',\n",
              " 'decreased',\n",
              " \"n't\",\n",
              " 'taking',\n",
              " 'feeling',\n",
              " 'disorders',\n",
              " 'after',\n",
              " 'sleep',\n",
              " 'up',\n",
              " 'behavior',\n",
              " 'syndrome',\n",
              " 'sleeplessness',\n",
              " 'so',\n",
              " 'got',\n",
              " 'insomnia',\n",
              " 'blood',\n",
              " 'diseases',\n",
              " 'all',\n",
              " 'feel',\n",
              " 'side',\n",
              " 'am',\n",
              " 'finding',\n",
              " 'back',\n",
              " 'depression',\n",
              " 'somnolence',\n",
              " 'energy',\n",
              " 'from',\n",
              " 'disturbance',\n",
              " 'effects',\n",
              " 'loss',\n",
              " '!',\n",
              " 'been',\n",
              " 'mental',\n",
              " 'as',\n",
              " 'heart',\n",
              " 'skin',\n",
              " 'cholesterol',\n",
              " 'day',\n",
              " 'be',\n",
              " 'body',\n",
              " 'appetite',\n",
              " '/',\n",
              " 'take',\n",
              " 'gain',\n",
              " 'acute',\n",
              " 'no',\n",
              " 'nausea',\n",
              " 'about',\n",
              " 'at',\n",
              " 'has',\n",
              " 'mg',\n",
              " 'dizziness',\n",
              " 'do',\n",
              " 'off',\n",
              " 'now',\n",
              " 'excitability',\n",
              " 'out',\n",
              " 'fatigue',\n",
              " 'awake',\n",
              " 'ceiling',\n",
              " 'years',\n",
              " 'attention',\n",
              " 'very',\n",
              " 'or',\n",
              " 'irritable',\n",
              " 'did',\n",
              " 'are',\n",
              " 'hyperactive',\n",
              " 'will',\n",
              " 'feelings',\n",
              " 'joint',\n",
              " 'drowsiness',\n",
              " 'state',\n",
              " 'days',\n",
              " 'swelling',\n",
              " 'liver',\n",
              " 'months',\n",
              " 'panic',\n",
              " 'you',\n",
              " 'doctor',\n",
              " 'depressed',\n",
              " 'if',\n",
              " 'time',\n",
              " 'when',\n",
              " 'still',\n",
              " 'could',\n",
              " 'rash',\n",
              " 'swings',\n",
              " \"'m\",\n",
              " 'stomach',\n",
              " 'get',\n",
              " 'night',\n",
              " 'severe',\n",
              " '2',\n",
              " '3',\n",
              " '#',\n",
              " 'cramps',\n",
              " 'disease',\n",
              " 'stopped',\n",
              " 'bipolar',\n",
              " 'headache',\n",
              " 'started',\n",
              " 'site',\n",
              " 'allergic',\n",
              " 'would',\n",
              " 'wakefulness',\n",
              " 'also',\n",
              " 'more',\n",
              " 'just',\n",
              " 'down',\n",
              " '10',\n",
              " 'reaction',\n",
              " 'abdominal',\n",
              " 'problems',\n",
              " 'bad',\n",
              " 'over',\n",
              " 'lower',\n",
              " 'memory',\n",
              " 'tired',\n",
              " 'weeks',\n",
              " 'can',\n",
              " 'infection',\n",
              " \"'s\",\n",
              " 'attack',\n",
              " 'an',\n",
              " 'leg',\n",
              " 'took',\n",
              " 'by',\n",
              " 'dreams',\n",
              " 'any',\n",
              " 'high',\n",
              " 'legs',\n",
              " 'eye',\n",
              " 'went',\n",
              " 'one',\n",
              " 'respiratory',\n",
              " 'injury',\n",
              " 'tremor',\n",
              " 'again',\n",
              " 'stiffness',\n",
              " 'brain',\n",
              " 'some',\n",
              " 'then',\n",
              " 'ca',\n",
              " 'other',\n",
              " 'level',\n",
              " 'dry',\n",
              " 'numbness',\n",
              " 'breast',\n",
              " 'only',\n",
              " 'he',\n",
              " 'your',\n",
              " 'week',\n",
              " 'shoulder',\n",
              " 'hemorrhage',\n",
              " 'difficulty',\n",
              " 'attacks',\n",
              " 'never',\n",
              " 'sleepy',\n",
              " 'rage',\n",
              " '&',\n",
              " 'medication',\n",
              " 'foot',\n",
              " 'deficit',\n",
              " 'go',\n",
              " 'arthritis',\n",
              " 'initial',\n",
              " 'they',\n",
              " 'better',\n",
              " 'which',\n",
              " 'failure',\n",
              " 'carcinoma',\n",
              " 'much',\n",
              " 'taste',\n",
              " 'before',\n",
              " 'because',\n",
              " 'sweating',\n",
              " 'chest',\n",
              " 'discomfort',\n",
              " 'bone',\n",
              " 'makes',\n",
              " 'ago',\n",
              " 'pressure',\n",
              " 'neck',\n",
              " 'felt',\n",
              " '5',\n",
              " 'two',\n",
              " '6',\n",
              " 'first',\n",
              " 'daytime',\n",
              " 'low',\n",
              " 'life',\n",
              " 'even',\n",
              " 'than',\n",
              " 'gastrointestinal',\n",
              " 'psychotic',\n",
              " 'weakness',\n",
              " 'vision',\n",
              " 'middle',\n",
              " 'same',\n",
              " 'right',\n",
              " 'sensation',\n",
              " 'were',\n",
              " 'kidney',\n",
              " 'left',\n",
              " 'walk',\n",
              " 'hurt',\n",
              " 'edema',\n",
              " 'feet',\n",
              " 'infections',\n",
              " 'these',\n",
              " 'pulmonary',\n",
              " 'stop',\n",
              " '1',\n",
              " '4',\n",
              " 'being',\n",
              " 'ulcer',\n",
              " 'cardiac',\n",
              " 'what',\n",
              " \"'ve\",\n",
              " 'aggravated',\n",
              " 'asleep',\n",
              " 'distress',\n",
              " 'function',\n",
              " 'pains',\n",
              " 'concentration',\n",
              " 'need',\n",
              " 'suicidal',\n",
              " 'away',\n",
              " 'damage',\n",
              " 'headaches',\n",
              " 'going',\n",
              " 'tingling',\n",
              " 'zombie',\n",
              " 'muscles',\n",
              " 'knee',\n",
              " 'elevated',\n",
              " 'ache',\n",
              " 'sleepiness',\n",
              " 'chronic',\n",
              " 'facial',\n",
              " 'cell',\n",
              " 'hallucinations',\n",
              " 'bleeding',\n",
              " 'painful',\n",
              " 'exhaustion',\n",
              " 'well',\n",
              " 'since',\n",
              " 'test',\n",
              " 'vomiting',\n",
              " 'getting',\n",
              " 'extreme',\n",
              " 'effect',\n",
              " 'nightmares',\n",
              " 'death',\n",
              " 'told',\n",
              " 'depressive',\n",
              " 'dermatitis',\n",
              " 'localised',\n",
              " 'anger',\n",
              " 'last',\n",
              " 'thought',\n",
              " 'worse',\n",
              " 'dependence',\n",
              " 'system',\n",
              " 'wide',\n",
              " 'eating',\n",
              " 'taken',\n",
              " 'anemia',\n",
              " 'statin',\n",
              " 'dysfunction',\n",
              " 'statins',\n",
              " 'having',\n",
              " 'work',\n",
              " 'terrible',\n",
              " 'migraine',\n",
              " 'disturbances',\n",
              " ';',\n",
              " 'face',\n",
              " 'dose',\n",
              " 'good',\n",
              " 'dizzy',\n",
              " 'seizures',\n",
              " 'urine',\n",
              " 'conditions',\n",
              " 'there',\n",
              " 'change',\n",
              " '20',\n",
              " 'dr',\n",
              " 'hands',\n",
              " 'compulsive',\n",
              " 'drugs',\n",
              " '?',\n",
              " 'does',\n",
              " 'experienced',\n",
              " 'should',\n",
              " 'cerebral',\n",
              " 'year',\n",
              " 'know',\n",
              " 'normal',\n",
              " 'too',\n",
              " 'lack',\n",
              " 'month',\n",
              " 'vivid',\n",
              " 'make',\n",
              " 'who',\n",
              " 'see',\n",
              " 'pruritus',\n",
              " 'arm',\n",
              " 'hours',\n",
              " 'emotional',\n",
              " 'hunger',\n",
              " 'walking',\n",
              " 'aches',\n",
              " 'arrest',\n",
              " 'depersonalization',\n",
              " 'bite',\n",
              " 'social',\n",
              " 'diarrhea',\n",
              " 'spasm',\n",
              " 'cancer',\n",
              " 'serum',\n",
              " 'cause',\n",
              " 'thinking',\n",
              " '40',\n",
              " 'within',\n",
              " 'until',\n",
              " 'every',\n",
              " 'really',\n",
              " 'irritation',\n",
              " 'due',\n",
              " 'hip',\n",
              " 'corneal',\n",
              " 'few',\n",
              " 'uterine',\n",
              " 'problem',\n",
              " 'intoxication',\n",
              " 'asthma',\n",
              " 'both',\n",
              " 'think',\n",
              " 'neoplasm',\n",
              " 'arms',\n",
              " 'count',\n",
              " 'euphoric',\n",
              " 'hypertension',\n",
              " 'fear',\n",
              " 'without',\n",
              " 'almost',\n",
              " 'eyes',\n",
              " 'lightheadedness',\n",
              " 'drowsy',\n",
              " 'adderall',\n",
              " 'upper',\n",
              " 'necrosis',\n",
              " 'said',\n",
              " 'nauseous',\n",
              " 'sexual',\n",
              " 'alcohol',\n",
              " 'oedema',\n",
              " 'genital',\n",
              " 'localized',\n",
              " 'nerve',\n",
              " 'obsessive',\n",
              " 'gas',\n",
              " 'malignant',\n",
              " 'decrease',\n",
              " 'cold',\n",
              " 'put',\n",
              " 'abuse',\n",
              " 'hungry',\n",
              " 'diet',\n",
              " 'gastric',\n",
              " 'candidiasis',\n",
              " 'little',\n",
              " 'reduced',\n",
              " 'gone',\n",
              " 'ventricular',\n",
              " 'nervous',\n",
              " 'sore',\n",
              " 'vaginal',\n",
              " 'another',\n",
              " 'crazy',\n",
              " 'erythema',\n",
              " 'hepatic',\n",
              " 'oral',\n",
              " 'head',\n",
              " 'excessive',\n",
              " 'consciousness',\n",
              " 'many',\n",
              " 'electrocardiogram',\n",
              " 'people',\n",
              " 'impairment',\n",
              " 'bulimia',\n",
              " '7',\n",
              " 'neuropathy',\n",
              " 'lost',\n",
              " 'injuries',\n",
              " 'way',\n",
              " 'libido',\n",
              " 'great',\n",
              " 'personality',\n",
              " 'lung',\n",
              " 'term',\n",
              " 'found',\n",
              " 'sneezing',\n",
              " 'myself',\n",
              " 'female',\n",
              " 'doctors',\n",
              " 'paranoid',\n",
              " 'arthropod',\n",
              " 'pneumonia',\n",
              " 'withdrawals',\n",
              " 'sleeping',\n",
              " 'glucose',\n",
              " 'long',\n",
              " 'peripheral',\n",
              " 'cramping',\n",
              " 'total',\n",
              " 'knees',\n",
              " 'help',\n",
              " 'fever',\n",
              " 'tongue',\n",
              " 'exercise',\n",
              " 'noticed',\n",
              " 'tract',\n",
              " 'falling',\n",
              " 'tooth',\n",
              " 'short',\n",
              " 'bed',\n",
              " 'inflammation',\n",
              " '8',\n",
              " 'spasms',\n",
              " 'lose',\n",
              " 'nasal',\n",
              " 'throat',\n",
              " 'ldl',\n",
              " 'episode',\n",
              " 'sick',\n",
              " 'swollen',\n",
              " 'while',\n",
              " 'speech',\n",
              " 'prescribed',\n",
              " 'mouth',\n",
              " 'sudden',\n",
              " 'diabetic',\n",
              " 'joints',\n",
              " 'injection',\n",
              " 'breathing',\n",
              " 'colitis',\n",
              " 'something',\n",
              " 'sweat',\n",
              " 'ear',\n",
              " 'muscular',\n",
              " 'eat',\n",
              " 'anything',\n",
              " 'stress',\n",
              " 'making',\n",
              " 'vertigo',\n",
              " 'lbs',\n",
              " 'sinus',\n",
              " 'bloating',\n",
              " 'thirst',\n",
              " 'morning',\n",
              " 'metastatic',\n",
              " 'try',\n",
              " 'stopping',\n",
              " 'them',\n",
              " 'hair',\n",
              " 'erection',\n",
              " 'palpitations',\n",
              " 'old',\n",
              " 'hard',\n",
              " 'urticaria',\n",
              " 'most',\n",
              " 'levels',\n",
              " 'reading',\n",
              " 'next',\n",
              " 'tests',\n",
              " 'weird',\n",
              " 'renal',\n",
              " 'shoulders',\n",
              " 'ejaculation',\n",
              " 'she',\n",
              " 'several',\n",
              " 'neoplasms',\n",
              " 'symptom',\n",
              " 'want',\n",
              " 'thoughts',\n",
              " 'minutes',\n",
              " 'insufficiency',\n",
              " 'suicide',\n",
              " 'movements',\n",
              " 'non',\n",
              " '30',\n",
              " 'tissue',\n",
              " 'overdose',\n",
              " 'generalized',\n",
              " 'fracture',\n",
              " 'times',\n",
              " 'may',\n",
              " 'obstruction',\n",
              " 'nt',\n",
              " 'red',\n",
              " 'developed',\n",
              " 'itching',\n",
              " 'block',\n",
              " 'prolonged',\n",
              " 'result',\n",
              " 'general',\n",
              " 'hepatitis',\n",
              " 'began',\n",
              " 'however',\n",
              " 'mind',\n",
              " 'diabetes',\n",
              " 'how',\n",
              " 'psychosis',\n",
              " 'adenocarcinoma',\n",
              " 'find',\n",
              " 'use',\n",
              " '%',\n",
              " 'tried',\n",
              " 'completely',\n",
              " 'bladder',\n",
              " 'their',\n",
              " 'despair',\n",
              " 'different',\n",
              " 'tendency',\n",
              " 'cough',\n",
              " 'allergy',\n",
              " 'trying',\n",
              " 'bacterial',\n",
              " 'fractures',\n",
              " 'visual',\n",
              " 'losing',\n",
              " 'application',\n",
              " 'ever',\n",
              " 'made',\n",
              " 'intense',\n",
              " 'daily',\n",
              " 'pill',\n",
              " 'quality',\n",
              " 'came',\n",
              " 'arthrotec',\n",
              " 'tolerance',\n",
              " 'confusion',\n",
              " 'caused',\n",
              " 'lowered',\n",
              " 'weak',\n",
              " 'experiencing',\n",
              " 'sure',\n",
              " 'terrors',\n",
              " 'angry',\n",
              " 'paranoia',\n",
              " 'cutaneous',\n",
              " 'twitch',\n",
              " 'arrhythmia',\n",
              " 'always',\n",
              " 'haemorrhage',\n",
              " 'unconscious',\n",
              " 'blurred',\n",
              " 'binge',\n",
              " 'atrophy',\n",
              " 'results',\n",
              " 'doing',\n",
              " 'lupus',\n",
              " 'unable',\n",
              " 'burning',\n",
              " 'drunk',\n",
              " 'past',\n",
              " 'craving',\n",
              " 'awful',\n",
              " 'partial',\n",
              " 'around',\n",
              " 'tachycardia',\n",
              " 'his',\n",
              " 'once',\n",
              " 'rheumatoid',\n",
              " 'food',\n",
              " 'ankle',\n",
              " 'musculoskeletal',\n",
              " 'person',\n",
              " 'nothing',\n",
              " ':',\n",
              " 'into',\n",
              " 'limb',\n",
              " 'sedated',\n",
              " 'hurting',\n",
              " 'stay',\n",
              " 'its',\n",
              " 'three',\n",
              " 'half',\n",
              " 'potassium',\n",
              " 'impaired',\n",
              " 'lot',\n",
              " 'prozac',\n",
              " 'abnormality',\n",
              " 'limbs',\n",
              " 'gained',\n",
              " 'acid',\n",
              " 'numb',\n",
              " 'atrial',\n",
              " 'finally',\n",
              " 'things',\n",
              " 'traumatic',\n",
              " 'upset',\n",
              " 'major',\n",
              " 'family',\n",
              " 'syncope',\n",
              " 'whole',\n",
              " 'works',\n",
              " 'recommend',\n",
              " 'fluid',\n",
              " 'constant',\n",
              " 'stuff',\n",
              " 'vasculitis',\n",
              " 'creatinine',\n",
              " 'we',\n",
              " 'keep',\n",
              " 'hand',\n",
              " 'gland',\n",
              " 'during',\n",
              " 'immediately',\n",
              " 'hour',\n",
              " 'especially',\n",
              " 'migraines',\n",
              " 'early',\n",
              " 'density',\n",
              " 'urinary',\n",
              " 'toe',\n",
              " 'far',\n",
              " 'trippin',\n",
              " 'altered',\n",
              " 'antisocial',\n",
              " 'hyper',\n",
              " 'wo',\n",
              " 'done',\n",
              " 'tenderness',\n",
              " 'shaking',\n",
              " 'read',\n",
              " 'bowel',\n",
              " 'mild',\n",
              " 'infarction',\n",
              " 'bronchitis',\n",
              " 'come',\n",
              " 'arousal',\n",
              " 'though',\n",
              " 'her',\n",
              " 'through',\n",
              " 'abdomen',\n",
              " 'action',\n",
              " 'quit',\n",
              " 'gait',\n",
              " 'worth',\n",
              " 'hot',\n",
              " 'recently',\n",
              " 'myocardial',\n",
              " 'interactions',\n",
              " 'able',\n",
              " 'mad',\n",
              " 'involuntary',\n",
              " 'later',\n",
              " 'perforation',\n",
              " 'hyperactivity',\n",
              " 'labored',\n",
              " 'acidosis',\n",
              " 'less',\n",
              " 'hypomania',\n",
              " 'indifferent',\n",
              " 'relief',\n",
              " 'exhausted',\n",
              " 'medicine',\n",
              " 'hypersomnia',\n",
              " 'atrioventricular',\n",
              " 'acne',\n",
              " 'esophageal',\n",
              " 'hurts',\n",
              " 'premature',\n",
              " 'believe',\n",
              " 'others',\n",
              " '100',\n",
              " 'cyst',\n",
              " \"'\",\n",
              " 'motor',\n",
              " 'enzyme',\n",
              " 'related',\n",
              " 'today',\n",
              " 'interest',\n",
              " 'cystitis',\n",
              " 'changes',\n",
              " 'shock',\n",
              " 'fall',\n",
              " 'manic',\n",
              " 'hdl',\n",
              " 'type',\n",
              " 'website',\n",
              " 'seems',\n",
              " 'causing',\n",
              " 'male',\n",
              " 'yet',\n",
              " 'artery',\n",
              " 'wake',\n",
              " 'substance',\n",
              " 'none',\n",
              " 'meds',\n",
              " 'super',\n",
              " 'steroid',\n",
              " 'him',\n",
              " 'using',\n",
              " 'positive',\n",
              " 'zocor',\n",
              " 'prothrombin',\n",
              " 'anyone',\n",
              " 'fingers',\n",
              " 'distracted',\n",
              " 'ratio',\n",
              " '--',\n",
              " 'worked',\n",
              " 'natural',\n",
              " 'lowering',\n",
              " 'rhinitis',\n",
              " 'permanent',\n",
              " 'discoloration',\n",
              " 'balance',\n",
              " 'obstructive',\n",
              " 'horrible',\n",
              " 'constipation',\n",
              " 'rather',\n",
              " 'water',\n",
              " 'neuralgia',\n",
              " 'thing',\n",
              " 'hearing',\n",
              " 'influenza',\n",
              " 'unspecified',\n",
              " 'epidermal',\n",
              " 'tightness',\n",
              " 'empty',\n",
              " 'purpura',\n",
              " 'blindness',\n",
              " 'slept',\n",
              " 'new',\n",
              " 'ulcerative',\n",
              " 'say',\n",
              " 'anxious',\n",
              " 'poor',\n",
              " 'lesion',\n",
              " 'trouble',\n",
              " 'retention',\n",
              " 'local',\n",
              " 'hips',\n",
              " 'retinal',\n",
              " 'atrophic',\n",
              " 'probably',\n",
              " 'twice',\n",
              " 'each',\n",
              " 'everything',\n",
              " 'metabolic',\n",
              " 'bites',\n",
              " 'eyelid',\n",
              " 'behaviour',\n",
              " 'fibrillation',\n",
              " 'dosage',\n",
              " 'starting',\n",
              " 'entire',\n",
              " 'syndromes',\n",
              " 'paralysed',\n",
              " 'pounding',\n",
              " 'fat',\n",
              " '50',\n",
              " 'leukemia',\n",
              " 'coronary',\n",
              " 'etc',\n",
              " 'similar',\n",
              " 'why',\n",
              " 'helped',\n",
              " 'focusing',\n",
              " 'where',\n",
              " 'post',\n",
              " 'experience',\n",
              " 'heartburn',\n",
              " 'delayed',\n",
              " 'physical',\n",
              " 'accidental',\n",
              " 'alkalosis',\n",
              " 'eruptions',\n",
              " 'otitis',\n",
              " 'embolism',\n",
              " 'miss',\n",
              " 'per',\n",
              " 'deficiency',\n",
              " 'prostate',\n",
              " 'nail',\n",
              " 'ovarian',\n",
              " 'enough',\n",
              " '80',\n",
              " 'herpes',\n",
              " 'feels',\n",
              " 'eaten',\n",
              " 'anorexia',\n",
              " 'thyroid',\n",
              " 'hope',\n",
              " 'those',\n",
              " 'intolerance',\n",
              " 'surgery',\n",
              " 'viral',\n",
              " 'bilirubin',\n",
              " 'zaps',\n",
              " 'hyperplasia',\n",
              " 'improvement',\n",
              " 'thinness',\n",
              " 'secondary',\n",
              " 'hit',\n",
              " 'point',\n",
              " 'self',\n",
              " 'knock',\n",
              " 'sickness',\n",
              " 'erythematosus',\n",
              " 'abscess',\n",
              " 'calf',\n",
              " 'became',\n",
              " 'flu',\n",
              " 'triglycerides',\n",
              " 'doc',\n",
              " 'toxicity',\n",
              " 'thrombosis',\n",
              " 'bruxism',\n",
              " 'active',\n",
              " 'elbow',\n",
              " 'issues',\n",
              " 'macular',\n",
              " 'thirsty',\n",
              " 'epilepsy',\n",
              " 'period',\n",
              " 'negative',\n",
              " 'toxic',\n",
              " 'deprived',\n",
              " 'stairs',\n",
              " 'sinusitis',\n",
              " 'ocular',\n",
              " 'wrist',\n",
              " 'else',\n",
              " 'affect',\n",
              " 'such',\n",
              " 'itchy',\n",
              " 'arteritis',\n",
              " 'illness',\n",
              " 'immune',\n",
              " 'contact',\n",
              " 'worst',\n",
              " 'conjunctivitis',\n",
              " 'look',\n",
              " 'adrenal',\n",
              " 'erectile',\n",
              " 'fucked',\n",
              " 'inability',\n",
              " 'groggy',\n",
              " 'associated',\n",
              " 'continue',\n",
              " 'extremely',\n",
              " 'flare',\n",
              " 'job',\n",
              " 'changed',\n",
              " 'bullous',\n",
              " 'age',\n",
              " 'raised',\n",
              " 'diagnosed',\n",
              " 'miserable',\n",
              " 'eczema',\n",
              " 'possible',\n",
              " 'control',\n",
              " 'fucking',\n",
              " 'generalised',\n",
              " 'cranky',\n",
              " 'break',\n",
              " 'increase',\n",
              " 'cramp',\n",
              " 'congestion',\n",
              " 'puking',\n",
              " 'research',\n",
              " 'hypertrophy',\n",
              " 'cortisone',\n",
              " 'pissed',\n",
              " 'deafness',\n",
              " 'pregnancy',\n",
              " 'mellitus',\n",
              " 'thinning',\n",
              " 'toes',\n",
              " 'hypochondriasis',\n",
              " 'mass',\n",
              " 'shut',\n",
              " 'med',\n",
              " 'stool',\n",
              " 'ok',\n",
              " 'calcium',\n",
              " 'hangover',\n",
              " 'porphyria',\n",
              " 'pills',\n",
              " 'add',\n",
              " 'ischemia',\n",
              " 'acneiform',\n",
              " 'calves',\n",
              " 'temperature',\n",
              " 'white',\n",
              " 'decided',\n",
              " 'mania',\n",
              " 'multiple',\n",
              " '\"',\n",
              " 'tension',\n",
              " 'multiforme',\n",
              " 'cataract',\n",
              " 'actual',\n",
              " 'dropped',\n",
              " 'slightly',\n",
              " 'soreness',\n",
              " 'yrs',\n",
              " 'polyps',\n",
              " 'used',\n",
              " 'healthy',\n",
              " 'apnea',\n",
              " 'couple',\n",
              " 'totally',\n",
              " 'keeping',\n",
              " 'vaginitis',\n",
              " 'myopathy',\n",
              " 'own',\n",
              " 'grumpy',\n",
              " 'wanted',\n",
              " 'mean',\n",
              " 'seem',\n",
              " 'patients',\n",
              " 'reflux',\n",
              " 'rupture',\n",
              " \"'ll\",\n",
              " 'lipoprotein',\n",
              " 'induced',\n",
              " 'discharge',\n",
              " 'remember',\n",
              " 'rectal',\n",
              " 'congenital',\n",
              " 'insomniac',\n",
              " 'alteration',\n",
              " '60',\n",
              " 'stomatitis',\n",
              " 'wrists',\n",
              " 'scared',\n",
              " 'enterocolitis',\n",
              " 'stupid',\n",
              " 'psychiatric',\n",
              " 'eosinophilia',\n",
              " 'neutropenic',\n",
              " 'might',\n",
              " 'start',\n",
              " 'instead',\n",
              " 'full',\n",
              " ...]"
            ]
          },
          "metadata": {
            "tags": []
          },
          "execution_count": 18
        }
      ]
    },
    {
      "cell_type": "code",
      "metadata": {
        "id": "yPWr03mls3VT",
        "outputId": "3cb6c20a-6b26-4f8a-b5af-f2ead383e777",
        "colab": {
          "base_uri": "https://localhost:8080/",
          "height": 17
        }
      },
      "source": [
        "model_path = path/'models'\n",
        "model_path.mkdir(exist_ok=True)\n",
        "url = 'http://files.fast.ai/models/wt103_v1/'\n",
        "download_url(f'{url}lstm_wt103.pth', model_path/'lstm_wt103.pth')\n",
        "download_url(f'{url}itos_wt103.pkl', model_path/'itos_wt103.pkl')"
      ],
      "execution_count": 19,
      "outputs": [
        {
          "output_type": "display_data",
          "data": {
            "text/html": [
              ""
            ],
            "text/plain": [
              "<IPython.core.display.HTML object>"
            ]
          },
          "metadata": {
            "tags": []
          }
        },
        {
          "output_type": "display_data",
          "data": {
            "text/html": [
              ""
            ],
            "text/plain": [
              "<IPython.core.display.HTML object>"
            ]
          },
          "metadata": {
            "tags": []
          }
        }
      ]
    },
    {
      "cell_type": "code",
      "metadata": {
        "id": "JRzvWg8RtGGr",
        "outputId": "db131e61-5c1a-4673-cf0d-a7cc10dfd589",
        "colab": {
          "base_uri": "https://localhost:8080/",
          "height": 34
        }
      },
      "source": [
        "learn = language_model_learner(data_lm, AWD_LSTM, drop_mult=0.5)"
      ],
      "execution_count": 20,
      "outputs": [
        {
          "output_type": "stream",
          "text": [
            "Downloading https://s3.amazonaws.com/fast-ai-modelzoo/wt103-fwd.tgz\n"
          ],
          "name": "stdout"
        },
        {
          "output_type": "display_data",
          "data": {
            "text/html": [
              ""
            ],
            "text/plain": [
              "<IPython.core.display.HTML object>"
            ]
          },
          "metadata": {
            "tags": []
          }
        }
      ]
    },
    {
      "cell_type": "code",
      "metadata": {
        "id": "xKK7GeBev7Xn",
        "outputId": "797f0033-e6c3-499b-e09d-a0484ef1110d",
        "colab": {
          "base_uri": "https://localhost:8080/",
          "height": 80
        }
      },
      "source": [
        "learn.fit_one_cycle(1, 1e-2)"
      ],
      "execution_count": 21,
      "outputs": [
        {
          "output_type": "display_data",
          "data": {
            "text/html": [
              "<table border=\"1\" class=\"dataframe\">\n",
              "  <thead>\n",
              "    <tr style=\"text-align: left;\">\n",
              "      <th>epoch</th>\n",
              "      <th>train_loss</th>\n",
              "      <th>valid_loss</th>\n",
              "      <th>accuracy</th>\n",
              "      <th>time</th>\n",
              "    </tr>\n",
              "  </thead>\n",
              "  <tbody>\n",
              "    <tr>\n",
              "      <td>0</td>\n",
              "      <td>4.281560</td>\n",
              "      <td>3.447584</td>\n",
              "      <td>0.433161</td>\n",
              "      <td>09:09</td>\n",
              "    </tr>\n",
              "  </tbody>\n",
              "</table>"
            ],
            "text/plain": [
              "<IPython.core.display.HTML object>"
            ]
          },
          "metadata": {
            "tags": []
          }
        }
      ]
    },
    {
      "cell_type": "code",
      "metadata": {
        "id": "iB7rHGQCwd12",
        "outputId": "36fd9d74-f3d4-4154-b233-6ead7c978979",
        "colab": {
          "base_uri": "https://localhost:8080/",
          "height": 80
        }
      },
      "source": [
        "learn.fit_one_cycle(1, 1e-2)"
      ],
      "execution_count": 22,
      "outputs": [
        {
          "output_type": "display_data",
          "data": {
            "text/html": [
              "<table border=\"1\" class=\"dataframe\">\n",
              "  <thead>\n",
              "    <tr style=\"text-align: left;\">\n",
              "      <th>epoch</th>\n",
              "      <th>train_loss</th>\n",
              "      <th>valid_loss</th>\n",
              "      <th>accuracy</th>\n",
              "      <th>time</th>\n",
              "    </tr>\n",
              "  </thead>\n",
              "  <tbody>\n",
              "    <tr>\n",
              "      <td>0</td>\n",
              "      <td>3.278965</td>\n",
              "      <td>3.027502</td>\n",
              "      <td>0.487305</td>\n",
              "      <td>09:03</td>\n",
              "    </tr>\n",
              "  </tbody>\n",
              "</table>"
            ],
            "text/plain": [
              "<IPython.core.display.HTML object>"
            ]
          },
          "metadata": {
            "tags": []
          }
        }
      ]
    },
    {
      "cell_type": "code",
      "metadata": {
        "id": "_BnSuAeCwkBe",
        "outputId": "8584a684-38b6-4703-bcd4-602e76c5173a",
        "colab": {
          "base_uri": "https://localhost:8080/",
          "height": 80
        }
      },
      "source": [
        "learn.fit_one_cycle(1, 1e-3)"
      ],
      "execution_count": 23,
      "outputs": [
        {
          "output_type": "display_data",
          "data": {
            "text/html": [
              "<table border=\"1\" class=\"dataframe\">\n",
              "  <thead>\n",
              "    <tr style=\"text-align: left;\">\n",
              "      <th>epoch</th>\n",
              "      <th>train_loss</th>\n",
              "      <th>valid_loss</th>\n",
              "      <th>accuracy</th>\n",
              "      <th>time</th>\n",
              "    </tr>\n",
              "  </thead>\n",
              "  <tbody>\n",
              "    <tr>\n",
              "      <td>0</td>\n",
              "      <td>3.045988</td>\n",
              "      <td>2.988136</td>\n",
              "      <td>0.491699</td>\n",
              "      <td>08:57</td>\n",
              "    </tr>\n",
              "  </tbody>\n",
              "</table>"
            ],
            "text/plain": [
              "<IPython.core.display.HTML object>"
            ]
          },
          "metadata": {
            "tags": []
          }
        }
      ]
    },
    {
      "cell_type": "code",
      "metadata": {
        "id": "MuTm-RFjwrEX",
        "outputId": "f7f7ed7f-a84c-4969-bdd7-6fdd8c25b16c",
        "colab": {
          "base_uri": "https://localhost:8080/",
          "height": 80
        }
      },
      "source": [
        "learn.fit_one_cycle(1, 1e-3)"
      ],
      "execution_count": 24,
      "outputs": [
        {
          "output_type": "display_data",
          "data": {
            "text/html": [
              "<table border=\"1\" class=\"dataframe\">\n",
              "  <thead>\n",
              "    <tr style=\"text-align: left;\">\n",
              "      <th>epoch</th>\n",
              "      <th>train_loss</th>\n",
              "      <th>valid_loss</th>\n",
              "      <th>accuracy</th>\n",
              "      <th>time</th>\n",
              "    </tr>\n",
              "  </thead>\n",
              "  <tbody>\n",
              "    <tr>\n",
              "      <td>0</td>\n",
              "      <td>3.032937</td>\n",
              "      <td>2.960340</td>\n",
              "      <td>0.494364</td>\n",
              "      <td>08:55</td>\n",
              "    </tr>\n",
              "  </tbody>\n",
              "</table>"
            ],
            "text/plain": [
              "<IPython.core.display.HTML object>"
            ]
          },
          "metadata": {
            "tags": []
          }
        }
      ]
    },
    {
      "cell_type": "code",
      "metadata": {
        "id": "1Er2ExO8wr7Y"
      },
      "source": [
        "learn.save_encoder('TwADR-cadec_fold6_first')"
      ],
      "execution_count": 25,
      "outputs": []
    },
    {
      "cell_type": "code",
      "metadata": {
        "id": "z52cZs2qwvad",
        "outputId": "127524ce-00fe-4ce2-e7b0-d82a7247d8ac",
        "colab": {
          "base_uri": "https://localhost:8080/",
          "height": 80
        }
      },
      "source": [
        "learn = text_classifier_learner(data_clas,AWD_LSTM, drop_mult=0.5)\n",
        "learn.load_encoder('TwADR-cadec_fold6_first')\n",
        "learn.fit_one_cycle(1, 1e-2)"
      ],
      "execution_count": 26,
      "outputs": [
        {
          "output_type": "display_data",
          "data": {
            "text/html": [
              "<table border=\"1\" class=\"dataframe\">\n",
              "  <thead>\n",
              "    <tr style=\"text-align: left;\">\n",
              "      <th>epoch</th>\n",
              "      <th>train_loss</th>\n",
              "      <th>valid_loss</th>\n",
              "      <th>accuracy</th>\n",
              "      <th>time</th>\n",
              "    </tr>\n",
              "  </thead>\n",
              "  <tbody>\n",
              "    <tr>\n",
              "      <td>0</td>\n",
              "      <td>7.172214</td>\n",
              "      <td>6.471397</td>\n",
              "      <td>0.080357</td>\n",
              "      <td>00:25</td>\n",
              "    </tr>\n",
              "  </tbody>\n",
              "</table>"
            ],
            "text/plain": [
              "<IPython.core.display.HTML object>"
            ]
          },
          "metadata": {
            "tags": []
          }
        }
      ]
    },
    {
      "cell_type": "code",
      "metadata": {
        "id": "ImwQP1PJwzxd",
        "outputId": "95244135-7c7b-4f36-f4a1-8d8862628f7e",
        "colab": {
          "base_uri": "https://localhost:8080/",
          "height": 80
        }
      },
      "source": [
        "learn.freeze_to(-2)\n",
        "learn.fit_one_cycle(1, slice(5e-3/2., 5e-3))"
      ],
      "execution_count": 27,
      "outputs": [
        {
          "output_type": "display_data",
          "data": {
            "text/html": [
              "<table border=\"1\" class=\"dataframe\">\n",
              "  <thead>\n",
              "    <tr style=\"text-align: left;\">\n",
              "      <th>epoch</th>\n",
              "      <th>train_loss</th>\n",
              "      <th>valid_loss</th>\n",
              "      <th>accuracy</th>\n",
              "      <th>time</th>\n",
              "    </tr>\n",
              "  </thead>\n",
              "  <tbody>\n",
              "    <tr>\n",
              "      <td>0</td>\n",
              "      <td>6.206964</td>\n",
              "      <td>5.996594</td>\n",
              "      <td>0.080357</td>\n",
              "      <td>00:29</td>\n",
              "    </tr>\n",
              "  </tbody>\n",
              "</table>"
            ],
            "text/plain": [
              "<IPython.core.display.HTML object>"
            ]
          },
          "metadata": {
            "tags": []
          }
        }
      ]
    },
    {
      "cell_type": "code",
      "metadata": {
        "id": "Owff_BJXw53u",
        "outputId": "41c109c9-a131-4d5c-802d-e734c33807d5",
        "colab": {
          "base_uri": "https://localhost:8080/",
          "height": 80
        }
      },
      "source": [
        "learn.unfreeze()\n",
        "learn.fit_one_cycle(1, slice(2e-3/100, 2e-3))"
      ],
      "execution_count": 28,
      "outputs": [
        {
          "output_type": "display_data",
          "data": {
            "text/html": [
              "<table border=\"1\" class=\"dataframe\">\n",
              "  <thead>\n",
              "    <tr style=\"text-align: left;\">\n",
              "      <th>epoch</th>\n",
              "      <th>train_loss</th>\n",
              "      <th>valid_loss</th>\n",
              "      <th>accuracy</th>\n",
              "      <th>time</th>\n",
              "    </tr>\n",
              "  </thead>\n",
              "  <tbody>\n",
              "    <tr>\n",
              "      <td>0</td>\n",
              "      <td>5.692012</td>\n",
              "      <td>5.329486</td>\n",
              "      <td>0.160714</td>\n",
              "      <td>01:05</td>\n",
              "    </tr>\n",
              "  </tbody>\n",
              "</table>"
            ],
            "text/plain": [
              "<IPython.core.display.HTML object>"
            ]
          },
          "metadata": {
            "tags": []
          }
        }
      ]
    },
    {
      "cell_type": "code",
      "metadata": {
        "id": "lqAyu56V8Waq",
        "outputId": "bcc35cfc-1908-40f2-a830-0d0f101ff2a4",
        "colab": {
          "base_uri": "https://localhost:8080/",
          "height": 111
        }
      },
      "source": [
        "learn.fit_one_cycle(2, slice(2e-3/100, 2e-3))"
      ],
      "execution_count": 29,
      "outputs": [
        {
          "output_type": "display_data",
          "data": {
            "text/html": [
              "<table border=\"1\" class=\"dataframe\">\n",
              "  <thead>\n",
              "    <tr style=\"text-align: left;\">\n",
              "      <th>epoch</th>\n",
              "      <th>train_loss</th>\n",
              "      <th>valid_loss</th>\n",
              "      <th>accuracy</th>\n",
              "      <th>time</th>\n",
              "    </tr>\n",
              "  </thead>\n",
              "  <tbody>\n",
              "    <tr>\n",
              "      <td>0</td>\n",
              "      <td>5.403312</td>\n",
              "      <td>4.947772</td>\n",
              "      <td>0.187500</td>\n",
              "      <td>01:06</td>\n",
              "    </tr>\n",
              "    <tr>\n",
              "      <td>1</td>\n",
              "      <td>5.167750</td>\n",
              "      <td>4.745810</td>\n",
              "      <td>0.196429</td>\n",
              "      <td>01:08</td>\n",
              "    </tr>\n",
              "  </tbody>\n",
              "</table>"
            ],
            "text/plain": [
              "<IPython.core.display.HTML object>"
            ]
          },
          "metadata": {
            "tags": []
          }
        }
      ]
    },
    {
      "cell_type": "code",
      "metadata": {
        "id": "a7I1xMRp8bUd",
        "outputId": "d533ff2b-1e2b-458e-eddb-025dc57995c2",
        "colab": {
          "base_uri": "https://localhost:8080/",
          "height": 111
        }
      },
      "source": [
        "learn.fit_one_cycle(2, slice(2e-3/100, 2e-3))"
      ],
      "execution_count": 30,
      "outputs": [
        {
          "output_type": "display_data",
          "data": {
            "text/html": [
              "<table border=\"1\" class=\"dataframe\">\n",
              "  <thead>\n",
              "    <tr style=\"text-align: left;\">\n",
              "      <th>epoch</th>\n",
              "      <th>train_loss</th>\n",
              "      <th>valid_loss</th>\n",
              "      <th>accuracy</th>\n",
              "      <th>time</th>\n",
              "    </tr>\n",
              "  </thead>\n",
              "  <tbody>\n",
              "    <tr>\n",
              "      <td>0</td>\n",
              "      <td>4.950973</td>\n",
              "      <td>4.596944</td>\n",
              "      <td>0.250000</td>\n",
              "      <td>01:08</td>\n",
              "    </tr>\n",
              "    <tr>\n",
              "      <td>1</td>\n",
              "      <td>4.752123</td>\n",
              "      <td>4.480418</td>\n",
              "      <td>0.241071</td>\n",
              "      <td>01:07</td>\n",
              "    </tr>\n",
              "  </tbody>\n",
              "</table>"
            ],
            "text/plain": [
              "<IPython.core.display.HTML object>"
            ]
          },
          "metadata": {
            "tags": []
          }
        }
      ]
    },
    {
      "cell_type": "code",
      "metadata": {
        "id": "UAnti-XmGVfO",
        "outputId": "604a7225-fe06-4095-c897-76df90d0ec8c",
        "colab": {
          "base_uri": "https://localhost:8080/",
          "height": 111
        }
      },
      "source": [
        "learn.fit_one_cycle(2, slice(2e-3/100, 2e-3))"
      ],
      "execution_count": 31,
      "outputs": [
        {
          "output_type": "display_data",
          "data": {
            "text/html": [
              "<table border=\"1\" class=\"dataframe\">\n",
              "  <thead>\n",
              "    <tr style=\"text-align: left;\">\n",
              "      <th>epoch</th>\n",
              "      <th>train_loss</th>\n",
              "      <th>valid_loss</th>\n",
              "      <th>accuracy</th>\n",
              "      <th>time</th>\n",
              "    </tr>\n",
              "  </thead>\n",
              "  <tbody>\n",
              "    <tr>\n",
              "      <td>0</td>\n",
              "      <td>4.532589</td>\n",
              "      <td>4.345463</td>\n",
              "      <td>0.258929</td>\n",
              "      <td>01:08</td>\n",
              "    </tr>\n",
              "    <tr>\n",
              "      <td>1</td>\n",
              "      <td>4.376434</td>\n",
              "      <td>4.253976</td>\n",
              "      <td>0.258929</td>\n",
              "      <td>01:04</td>\n",
              "    </tr>\n",
              "  </tbody>\n",
              "</table>"
            ],
            "text/plain": [
              "<IPython.core.display.HTML object>"
            ]
          },
          "metadata": {
            "tags": []
          }
        }
      ]
    },
    {
      "cell_type": "code",
      "metadata": {
        "id": "bIft7W25GwSu",
        "outputId": "3122c66a-5dc1-45d3-b4ea-b768276f6cbf",
        "colab": {
          "base_uri": "https://localhost:8080/",
          "height": 111
        }
      },
      "source": [
        "learn.fit_one_cycle(2, slice(2e-3/100, 2e-3))"
      ],
      "execution_count": 32,
      "outputs": [
        {
          "output_type": "display_data",
          "data": {
            "text/html": [
              "<table border=\"1\" class=\"dataframe\">\n",
              "  <thead>\n",
              "    <tr style=\"text-align: left;\">\n",
              "      <th>epoch</th>\n",
              "      <th>train_loss</th>\n",
              "      <th>valid_loss</th>\n",
              "      <th>accuracy</th>\n",
              "      <th>time</th>\n",
              "    </tr>\n",
              "  </thead>\n",
              "  <tbody>\n",
              "    <tr>\n",
              "      <td>0</td>\n",
              "      <td>4.204443</td>\n",
              "      <td>4.281902</td>\n",
              "      <td>0.285714</td>\n",
              "      <td>01:09</td>\n",
              "    </tr>\n",
              "    <tr>\n",
              "      <td>1</td>\n",
              "      <td>4.064693</td>\n",
              "      <td>4.182767</td>\n",
              "      <td>0.276786</td>\n",
              "      <td>01:10</td>\n",
              "    </tr>\n",
              "  </tbody>\n",
              "</table>"
            ],
            "text/plain": [
              "<IPython.core.display.HTML object>"
            ]
          },
          "metadata": {
            "tags": []
          }
        }
      ]
    },
    {
      "cell_type": "code",
      "metadata": {
        "id": "EEHszVRvGyFt",
        "outputId": "77fe5b39-757a-4c06-8e15-1d74e354b3e2",
        "colab": {
          "base_uri": "https://localhost:8080/",
          "height": 111
        }
      },
      "source": [
        "learn.fit_one_cycle(2, slice(2e-3/100, 2e-3))"
      ],
      "execution_count": 33,
      "outputs": [
        {
          "output_type": "display_data",
          "data": {
            "text/html": [
              "<table border=\"1\" class=\"dataframe\">\n",
              "  <thead>\n",
              "    <tr style=\"text-align: left;\">\n",
              "      <th>epoch</th>\n",
              "      <th>train_loss</th>\n",
              "      <th>valid_loss</th>\n",
              "      <th>accuracy</th>\n",
              "      <th>time</th>\n",
              "    </tr>\n",
              "  </thead>\n",
              "  <tbody>\n",
              "    <tr>\n",
              "      <td>0</td>\n",
              "      <td>3.879355</td>\n",
              "      <td>4.082827</td>\n",
              "      <td>0.241071</td>\n",
              "      <td>01:08</td>\n",
              "    </tr>\n",
              "    <tr>\n",
              "      <td>1</td>\n",
              "      <td>3.713321</td>\n",
              "      <td>4.120194</td>\n",
              "      <td>0.276786</td>\n",
              "      <td>01:06</td>\n",
              "    </tr>\n",
              "  </tbody>\n",
              "</table>"
            ],
            "text/plain": [
              "<IPython.core.display.HTML object>"
            ]
          },
          "metadata": {
            "tags": []
          }
        }
      ]
    },
    {
      "cell_type": "code",
      "metadata": {
        "id": "XsHfrhCHG3dN",
        "outputId": "11735ff3-3c0f-4b5a-9836-d0b31606d1f9",
        "colab": {
          "base_uri": "https://localhost:8080/",
          "height": 173
        }
      },
      "source": [
        "learn.fit_one_cycle(4, slice(2e-3/100, 2e-3))"
      ],
      "execution_count": 34,
      "outputs": [
        {
          "output_type": "display_data",
          "data": {
            "text/html": [
              "<table border=\"1\" class=\"dataframe\">\n",
              "  <thead>\n",
              "    <tr style=\"text-align: left;\">\n",
              "      <th>epoch</th>\n",
              "      <th>train_loss</th>\n",
              "      <th>valid_loss</th>\n",
              "      <th>accuracy</th>\n",
              "      <th>time</th>\n",
              "    </tr>\n",
              "  </thead>\n",
              "  <tbody>\n",
              "    <tr>\n",
              "      <td>0</td>\n",
              "      <td>3.543084</td>\n",
              "      <td>4.008956</td>\n",
              "      <td>0.321429</td>\n",
              "      <td>01:07</td>\n",
              "    </tr>\n",
              "    <tr>\n",
              "      <td>1</td>\n",
              "      <td>3.468341</td>\n",
              "      <td>3.984250</td>\n",
              "      <td>0.312500</td>\n",
              "      <td>01:09</td>\n",
              "    </tr>\n",
              "    <tr>\n",
              "      <td>2</td>\n",
              "      <td>3.300556</td>\n",
              "      <td>3.984963</td>\n",
              "      <td>0.330357</td>\n",
              "      <td>01:06</td>\n",
              "    </tr>\n",
              "    <tr>\n",
              "      <td>3</td>\n",
              "      <td>3.107630</td>\n",
              "      <td>3.959952</td>\n",
              "      <td>0.321429</td>\n",
              "      <td>01:03</td>\n",
              "    </tr>\n",
              "  </tbody>\n",
              "</table>"
            ],
            "text/plain": [
              "<IPython.core.display.HTML object>"
            ]
          },
          "metadata": {
            "tags": []
          }
        }
      ]
    },
    {
      "cell_type": "code",
      "metadata": {
        "id": "0Zsd99isb9EQ",
        "outputId": "ff273880-3070-4a17-b89f-ff1dbb3dc724",
        "colab": {
          "base_uri": "https://localhost:8080/",
          "height": 173
        }
      },
      "source": [
        "learn.fit_one_cycle(4, slice(2e-3/100, 2e-3))"
      ],
      "execution_count": 35,
      "outputs": [
        {
          "output_type": "display_data",
          "data": {
            "text/html": [
              "<table border=\"1\" class=\"dataframe\">\n",
              "  <thead>\n",
              "    <tr style=\"text-align: left;\">\n",
              "      <th>epoch</th>\n",
              "      <th>train_loss</th>\n",
              "      <th>valid_loss</th>\n",
              "      <th>accuracy</th>\n",
              "      <th>time</th>\n",
              "    </tr>\n",
              "  </thead>\n",
              "  <tbody>\n",
              "    <tr>\n",
              "      <td>0</td>\n",
              "      <td>2.967322</td>\n",
              "      <td>3.929996</td>\n",
              "      <td>0.321429</td>\n",
              "      <td>01:03</td>\n",
              "    </tr>\n",
              "    <tr>\n",
              "      <td>1</td>\n",
              "      <td>2.888559</td>\n",
              "      <td>4.052045</td>\n",
              "      <td>0.339286</td>\n",
              "      <td>01:09</td>\n",
              "    </tr>\n",
              "    <tr>\n",
              "      <td>2</td>\n",
              "      <td>2.714457</td>\n",
              "      <td>3.965753</td>\n",
              "      <td>0.321429</td>\n",
              "      <td>01:09</td>\n",
              "    </tr>\n",
              "    <tr>\n",
              "      <td>3</td>\n",
              "      <td>2.576892</td>\n",
              "      <td>4.053705</td>\n",
              "      <td>0.339286</td>\n",
              "      <td>01:03</td>\n",
              "    </tr>\n",
              "  </tbody>\n",
              "</table>"
            ],
            "text/plain": [
              "<IPython.core.display.HTML object>"
            ]
          },
          "metadata": {
            "tags": []
          }
        }
      ]
    },
    {
      "cell_type": "code",
      "metadata": {
        "id": "atNWNKDFPbuI",
        "outputId": "27a3ac7b-6f4c-4aae-b772-06f9c07d5e79",
        "colab": {
          "base_uri": "https://localhost:8080/",
          "height": 173
        }
      },
      "source": [
        "learn.fit_one_cycle(4, slice(2e-3/100, 2e-3))"
      ],
      "execution_count": 36,
      "outputs": [
        {
          "output_type": "display_data",
          "data": {
            "text/html": [
              "<table border=\"1\" class=\"dataframe\">\n",
              "  <thead>\n",
              "    <tr style=\"text-align: left;\">\n",
              "      <th>epoch</th>\n",
              "      <th>train_loss</th>\n",
              "      <th>valid_loss</th>\n",
              "      <th>accuracy</th>\n",
              "      <th>time</th>\n",
              "    </tr>\n",
              "  </thead>\n",
              "  <tbody>\n",
              "    <tr>\n",
              "      <td>0</td>\n",
              "      <td>2.392337</td>\n",
              "      <td>3.974518</td>\n",
              "      <td>0.383929</td>\n",
              "      <td>01:07</td>\n",
              "    </tr>\n",
              "    <tr>\n",
              "      <td>1</td>\n",
              "      <td>2.337904</td>\n",
              "      <td>4.196817</td>\n",
              "      <td>0.339286</td>\n",
              "      <td>01:04</td>\n",
              "    </tr>\n",
              "    <tr>\n",
              "      <td>2</td>\n",
              "      <td>2.181471</td>\n",
              "      <td>3.976132</td>\n",
              "      <td>0.366071</td>\n",
              "      <td>01:09</td>\n",
              "    </tr>\n",
              "    <tr>\n",
              "      <td>3</td>\n",
              "      <td>2.054269</td>\n",
              "      <td>3.987474</td>\n",
              "      <td>0.366071</td>\n",
              "      <td>01:10</td>\n",
              "    </tr>\n",
              "  </tbody>\n",
              "</table>"
            ],
            "text/plain": [
              "<IPython.core.display.HTML object>"
            ]
          },
          "metadata": {
            "tags": []
          }
        }
      ]
    },
    {
      "cell_type": "code",
      "metadata": {
        "id": "rKrBTZ0T1uVA",
        "outputId": "2acb3ab3-2a83-4b66-af4e-a4ea6c5249aa",
        "colab": {
          "base_uri": "https://localhost:8080/",
          "height": 173
        }
      },
      "source": [
        "learn.fit_one_cycle(4, slice(2e-3/100, 2e-3))"
      ],
      "execution_count": 37,
      "outputs": [
        {
          "output_type": "display_data",
          "data": {
            "text/html": [
              "<table border=\"1\" class=\"dataframe\">\n",
              "  <thead>\n",
              "    <tr style=\"text-align: left;\">\n",
              "      <th>epoch</th>\n",
              "      <th>train_loss</th>\n",
              "      <th>valid_loss</th>\n",
              "      <th>accuracy</th>\n",
              "      <th>time</th>\n",
              "    </tr>\n",
              "  </thead>\n",
              "  <tbody>\n",
              "    <tr>\n",
              "      <td>0</td>\n",
              "      <td>1.915570</td>\n",
              "      <td>4.053472</td>\n",
              "      <td>0.348214</td>\n",
              "      <td>01:11</td>\n",
              "    </tr>\n",
              "    <tr>\n",
              "      <td>1</td>\n",
              "      <td>1.891465</td>\n",
              "      <td>3.917636</td>\n",
              "      <td>0.375000</td>\n",
              "      <td>01:11</td>\n",
              "    </tr>\n",
              "    <tr>\n",
              "      <td>2</td>\n",
              "      <td>1.753046</td>\n",
              "      <td>3.986220</td>\n",
              "      <td>0.375000</td>\n",
              "      <td>01:06</td>\n",
              "    </tr>\n",
              "    <tr>\n",
              "      <td>3</td>\n",
              "      <td>1.637876</td>\n",
              "      <td>3.996237</td>\n",
              "      <td>0.383929</td>\n",
              "      <td>01:09</td>\n",
              "    </tr>\n",
              "  </tbody>\n",
              "</table>"
            ],
            "text/plain": [
              "<IPython.core.display.HTML object>"
            ]
          },
          "metadata": {
            "tags": []
          }
        }
      ]
    },
    {
      "cell_type": "code",
      "metadata": {
        "id": "ajQC6WDg1yA9",
        "outputId": "10d37909-9fec-40d3-9a93-9ec014a773e2",
        "colab": {
          "base_uri": "https://localhost:8080/",
          "height": 173
        }
      },
      "source": [
        "learn.fit_one_cycle(4, slice(2e-3/100, 2e-3))"
      ],
      "execution_count": 38,
      "outputs": [
        {
          "output_type": "display_data",
          "data": {
            "text/html": [
              "<table border=\"1\" class=\"dataframe\">\n",
              "  <thead>\n",
              "    <tr style=\"text-align: left;\">\n",
              "      <th>epoch</th>\n",
              "      <th>train_loss</th>\n",
              "      <th>valid_loss</th>\n",
              "      <th>accuracy</th>\n",
              "      <th>time</th>\n",
              "    </tr>\n",
              "  </thead>\n",
              "  <tbody>\n",
              "    <tr>\n",
              "      <td>0</td>\n",
              "      <td>1.481228</td>\n",
              "      <td>4.078759</td>\n",
              "      <td>0.401786</td>\n",
              "      <td>01:08</td>\n",
              "    </tr>\n",
              "    <tr>\n",
              "      <td>1</td>\n",
              "      <td>1.463226</td>\n",
              "      <td>4.223042</td>\n",
              "      <td>0.366071</td>\n",
              "      <td>01:11</td>\n",
              "    </tr>\n",
              "    <tr>\n",
              "      <td>2</td>\n",
              "      <td>1.382118</td>\n",
              "      <td>4.210937</td>\n",
              "      <td>0.383929</td>\n",
              "      <td>01:06</td>\n",
              "    </tr>\n",
              "    <tr>\n",
              "      <td>3</td>\n",
              "      <td>1.277407</td>\n",
              "      <td>4.201988</td>\n",
              "      <td>0.383929</td>\n",
              "      <td>01:10</td>\n",
              "    </tr>\n",
              "  </tbody>\n",
              "</table>"
            ],
            "text/plain": [
              "<IPython.core.display.HTML object>"
            ]
          },
          "metadata": {
            "tags": []
          }
        }
      ]
    },
    {
      "cell_type": "code",
      "metadata": {
        "id": "KKydb0B4BKGk",
        "outputId": "2a553093-b858-49dd-f547-4f88b35005ad",
        "colab": {
          "base_uri": "https://localhost:8080/",
          "height": 173
        }
      },
      "source": [
        "learn.fit_one_cycle(4, slice(2e-3/100, 2e-3))"
      ],
      "execution_count": 39,
      "outputs": [
        {
          "output_type": "display_data",
          "data": {
            "text/html": [
              "<table border=\"1\" class=\"dataframe\">\n",
              "  <thead>\n",
              "    <tr style=\"text-align: left;\">\n",
              "      <th>epoch</th>\n",
              "      <th>train_loss</th>\n",
              "      <th>valid_loss</th>\n",
              "      <th>accuracy</th>\n",
              "      <th>time</th>\n",
              "    </tr>\n",
              "  </thead>\n",
              "  <tbody>\n",
              "    <tr>\n",
              "      <td>0</td>\n",
              "      <td>1.195752</td>\n",
              "      <td>4.238481</td>\n",
              "      <td>0.392857</td>\n",
              "      <td>01:07</td>\n",
              "    </tr>\n",
              "    <tr>\n",
              "      <td>1</td>\n",
              "      <td>1.218178</td>\n",
              "      <td>4.415443</td>\n",
              "      <td>0.383929</td>\n",
              "      <td>01:05</td>\n",
              "    </tr>\n",
              "    <tr>\n",
              "      <td>2</td>\n",
              "      <td>1.130072</td>\n",
              "      <td>4.437620</td>\n",
              "      <td>0.375000</td>\n",
              "      <td>01:07</td>\n",
              "    </tr>\n",
              "    <tr>\n",
              "      <td>3</td>\n",
              "      <td>1.013347</td>\n",
              "      <td>4.435517</td>\n",
              "      <td>0.375000</td>\n",
              "      <td>01:03</td>\n",
              "    </tr>\n",
              "  </tbody>\n",
              "</table>"
            ],
            "text/plain": [
              "<IPython.core.display.HTML object>"
            ]
          },
          "metadata": {
            "tags": []
          }
        }
      ]
    },
    {
      "cell_type": "code",
      "metadata": {
        "id": "T2APKtFKBpGY",
        "outputId": "850f665e-bab2-416f-cf2f-9a6c0a2015f6",
        "colab": {
          "base_uri": "https://localhost:8080/",
          "height": 173
        }
      },
      "source": [
        "learn.fit_one_cycle(4, slice(2e-3/100, 2e-3))"
      ],
      "execution_count": 40,
      "outputs": [
        {
          "output_type": "display_data",
          "data": {
            "text/html": [
              "<table border=\"1\" class=\"dataframe\">\n",
              "  <thead>\n",
              "    <tr style=\"text-align: left;\">\n",
              "      <th>epoch</th>\n",
              "      <th>train_loss</th>\n",
              "      <th>valid_loss</th>\n",
              "      <th>accuracy</th>\n",
              "      <th>time</th>\n",
              "    </tr>\n",
              "  </thead>\n",
              "  <tbody>\n",
              "    <tr>\n",
              "      <td>0</td>\n",
              "      <td>0.957134</td>\n",
              "      <td>4.414765</td>\n",
              "      <td>0.375000</td>\n",
              "      <td>01:11</td>\n",
              "    </tr>\n",
              "    <tr>\n",
              "      <td>1</td>\n",
              "      <td>0.956747</td>\n",
              "      <td>4.593474</td>\n",
              "      <td>0.375000</td>\n",
              "      <td>01:05</td>\n",
              "    </tr>\n",
              "    <tr>\n",
              "      <td>2</td>\n",
              "      <td>0.884372</td>\n",
              "      <td>4.645882</td>\n",
              "      <td>0.375000</td>\n",
              "      <td>01:07</td>\n",
              "    </tr>\n",
              "    <tr>\n",
              "      <td>3</td>\n",
              "      <td>0.814324</td>\n",
              "      <td>4.633998</td>\n",
              "      <td>0.366071</td>\n",
              "      <td>01:09</td>\n",
              "    </tr>\n",
              "  </tbody>\n",
              "</table>"
            ],
            "text/plain": [
              "<IPython.core.display.HTML object>"
            ]
          },
          "metadata": {
            "tags": []
          }
        }
      ]
    },
    {
      "cell_type": "code",
      "metadata": {
        "id": "qtTypA1sPgLU",
        "outputId": "ef258e41-275b-403a-8546-382a144c607a",
        "colab": {
          "base_uri": "https://localhost:8080/",
          "height": 111
        }
      },
      "source": [
        "learn.fit_one_cycle(2, slice(2e-3/100, 2e-3))"
      ],
      "execution_count": 41,
      "outputs": [
        {
          "output_type": "display_data",
          "data": {
            "text/html": [
              "<table border=\"1\" class=\"dataframe\">\n",
              "  <thead>\n",
              "    <tr style=\"text-align: left;\">\n",
              "      <th>epoch</th>\n",
              "      <th>train_loss</th>\n",
              "      <th>valid_loss</th>\n",
              "      <th>accuracy</th>\n",
              "      <th>time</th>\n",
              "    </tr>\n",
              "  </thead>\n",
              "  <tbody>\n",
              "    <tr>\n",
              "      <td>0</td>\n",
              "      <td>0.772483</td>\n",
              "      <td>4.803268</td>\n",
              "      <td>0.357143</td>\n",
              "      <td>01:05</td>\n",
              "    </tr>\n",
              "    <tr>\n",
              "      <td>1</td>\n",
              "      <td>0.766241</td>\n",
              "      <td>4.731231</td>\n",
              "      <td>0.392857</td>\n",
              "      <td>01:07</td>\n",
              "    </tr>\n",
              "  </tbody>\n",
              "</table>"
            ],
            "text/plain": [
              "<IPython.core.display.HTML object>"
            ]
          },
          "metadata": {
            "tags": []
          }
        }
      ]
    },
    {
      "cell_type": "code",
      "metadata": {
        "id": "b242kBsTUp9Y",
        "outputId": "be1efc24-cba0-4798-fe57-b99b482c78b9",
        "colab": {
          "base_uri": "https://localhost:8080/",
          "height": 111
        }
      },
      "source": [
        "learn.fit_one_cycle(2, slice(2e-3/100, 2e-3))"
      ],
      "execution_count": 42,
      "outputs": [
        {
          "output_type": "display_data",
          "data": {
            "text/html": [
              "<table border=\"1\" class=\"dataframe\">\n",
              "  <thead>\n",
              "    <tr style=\"text-align: left;\">\n",
              "      <th>epoch</th>\n",
              "      <th>train_loss</th>\n",
              "      <th>valid_loss</th>\n",
              "      <th>accuracy</th>\n",
              "      <th>time</th>\n",
              "    </tr>\n",
              "  </thead>\n",
              "  <tbody>\n",
              "    <tr>\n",
              "      <td>0</td>\n",
              "      <td>0.726137</td>\n",
              "      <td>4.797853</td>\n",
              "      <td>0.339286</td>\n",
              "      <td>01:10</td>\n",
              "    </tr>\n",
              "    <tr>\n",
              "      <td>1</td>\n",
              "      <td>0.697877</td>\n",
              "      <td>4.995157</td>\n",
              "      <td>0.375000</td>\n",
              "      <td>01:10</td>\n",
              "    </tr>\n",
              "  </tbody>\n",
              "</table>"
            ],
            "text/plain": [
              "<IPython.core.display.HTML object>"
            ]
          },
          "metadata": {
            "tags": []
          }
        }
      ]
    },
    {
      "cell_type": "code",
      "metadata": {
        "id": "Duwf1Ih5VeDZ",
        "outputId": "33e73465-5021-41da-df91-fdbe1760e52e",
        "colab": {
          "base_uri": "https://localhost:8080/",
          "height": 80
        }
      },
      "source": [
        "learn.fit_one_cycle(1, slice(2e-3/100, 2e-3))"
      ],
      "execution_count": 43,
      "outputs": [
        {
          "output_type": "display_data",
          "data": {
            "text/html": [
              "<table border=\"1\" class=\"dataframe\">\n",
              "  <thead>\n",
              "    <tr style=\"text-align: left;\">\n",
              "      <th>epoch</th>\n",
              "      <th>train_loss</th>\n",
              "      <th>valid_loss</th>\n",
              "      <th>accuracy</th>\n",
              "      <th>time</th>\n",
              "    </tr>\n",
              "  </thead>\n",
              "  <tbody>\n",
              "    <tr>\n",
              "      <td>0</td>\n",
              "      <td>0.677884</td>\n",
              "      <td>4.866298</td>\n",
              "      <td>0.392857</td>\n",
              "      <td>01:14</td>\n",
              "    </tr>\n",
              "  </tbody>\n",
              "</table>"
            ],
            "text/plain": [
              "<IPython.core.display.HTML object>"
            ]
          },
          "metadata": {
            "tags": []
          }
        }
      ]
    },
    {
      "cell_type": "code",
      "metadata": {
        "id": "c65d-osfDUXm"
      },
      "source": [
        "# save the best model\n",
        "\n",
        "learn.save_encoder('TwADR-cadec_fold6')"
      ],
      "execution_count": 44,
      "outputs": []
    },
    {
      "cell_type": "code",
      "metadata": {
        "id": "5h-A_GpAIYg8",
        "outputId": "de6dcd81-a4fd-4c50-c388-028949105377",
        "colab": {
          "base_uri": "https://localhost:8080/",
          "height": 80
        }
      },
      "source": [
        "learn.fit_one_cycle(1, slice(2e-3/100, 2e-3))"
      ],
      "execution_count": 45,
      "outputs": [
        {
          "output_type": "display_data",
          "data": {
            "text/html": [
              "<table border=\"1\" class=\"dataframe\">\n",
              "  <thead>\n",
              "    <tr style=\"text-align: left;\">\n",
              "      <th>epoch</th>\n",
              "      <th>train_loss</th>\n",
              "      <th>valid_loss</th>\n",
              "      <th>accuracy</th>\n",
              "      <th>time</th>\n",
              "    </tr>\n",
              "  </thead>\n",
              "  <tbody>\n",
              "    <tr>\n",
              "      <td>0</td>\n",
              "      <td>0.653167</td>\n",
              "      <td>5.024384</td>\n",
              "      <td>0.383929</td>\n",
              "      <td>01:08</td>\n",
              "    </tr>\n",
              "  </tbody>\n",
              "</table>"
            ],
            "text/plain": [
              "<IPython.core.display.HTML object>"
            ]
          },
          "metadata": {
            "tags": []
          }
        }
      ]
    },
    {
      "cell_type": "code",
      "metadata": {
        "id": "qc4poYxzIwca",
        "outputId": "c4533d23-382f-43e1-de75-98919e8c9f62",
        "colab": {
          "base_uri": "https://localhost:8080/",
          "height": 80
        }
      },
      "source": [
        "learn.fit_one_cycle(1, slice(2e-3/100, 2e-3))"
      ],
      "execution_count": 46,
      "outputs": [
        {
          "output_type": "display_data",
          "data": {
            "text/html": [
              "<table border=\"1\" class=\"dataframe\">\n",
              "  <thead>\n",
              "    <tr style=\"text-align: left;\">\n",
              "      <th>epoch</th>\n",
              "      <th>train_loss</th>\n",
              "      <th>valid_loss</th>\n",
              "      <th>accuracy</th>\n",
              "      <th>time</th>\n",
              "    </tr>\n",
              "  </thead>\n",
              "  <tbody>\n",
              "    <tr>\n",
              "      <td>0</td>\n",
              "      <td>0.638129</td>\n",
              "      <td>4.958879</td>\n",
              "      <td>0.366071</td>\n",
              "      <td>01:06</td>\n",
              "    </tr>\n",
              "  </tbody>\n",
              "</table>"
            ],
            "text/plain": [
              "<IPython.core.display.HTML object>"
            ]
          },
          "metadata": {
            "tags": []
          }
        }
      ]
    },
    {
      "cell_type": "code",
      "metadata": {
        "id": "66s4PxV1JVfo",
        "outputId": "7042b1f5-98c9-441e-84eb-990af589b181",
        "colab": {
          "base_uri": "https://localhost:8080/",
          "height": 80
        }
      },
      "source": [
        "learn.fit_one_cycle(1, slice(2e-3/100, 2e-3))"
      ],
      "execution_count": 47,
      "outputs": [
        {
          "output_type": "display_data",
          "data": {
            "text/html": [
              "<table border=\"1\" class=\"dataframe\">\n",
              "  <thead>\n",
              "    <tr style=\"text-align: left;\">\n",
              "      <th>epoch</th>\n",
              "      <th>train_loss</th>\n",
              "      <th>valid_loss</th>\n",
              "      <th>accuracy</th>\n",
              "      <th>time</th>\n",
              "    </tr>\n",
              "  </thead>\n",
              "  <tbody>\n",
              "    <tr>\n",
              "      <td>0</td>\n",
              "      <td>0.600092</td>\n",
              "      <td>5.060456</td>\n",
              "      <td>0.383929</td>\n",
              "      <td>01:08</td>\n",
              "    </tr>\n",
              "  </tbody>\n",
              "</table>"
            ],
            "text/plain": [
              "<IPython.core.display.HTML object>"
            ]
          },
          "metadata": {
            "tags": []
          }
        }
      ]
    },
    {
      "cell_type": "markdown",
      "metadata": {
        "id": "rCwZU0E2RgM6"
      },
      "source": [
        "# Part three: Predict on the test dataset"
      ]
    },
    {
      "cell_type": "code",
      "metadata": {
        "id": "gDm72c-dOu7d",
        "outputId": "9b6796cc-7464-4232-ad55-f812b4f839e4",
        "colab": {
          "base_uri": "https://localhost:8080/",
          "height": 17
        }
      },
      "source": [
        "# use the test data for prediction\n",
        "\n",
        "preds, y = learn.get_preds(DatasetType.Test)"
      ],
      "execution_count": 48,
      "outputs": [
        {
          "output_type": "display_data",
          "data": {
            "text/html": [
              ""
            ],
            "text/plain": [
              "<IPython.core.display.HTML object>"
            ]
          },
          "metadata": {
            "tags": []
          }
        }
      ]
    },
    {
      "cell_type": "code",
      "metadata": {
        "id": "6tFSQcsWPvxn",
        "outputId": "4c4e7193-1498-4efe-bc69-787ee10261d0",
        "colab": {
          "base_uri": "https://localhost:8080/",
          "height": 105
        }
      },
      "source": [
        "predictions, *_ = learn.get_preds(DatasetType.Test)\n",
        "labels = np.argmax(predictions, 1)\n",
        "predict_list = labels.tolist()\n",
        "standard_list = test[0].tolist()\n",
        "\n",
        "print(len(predict_list))\n",
        "print(len(standard_list))\n",
        "\n",
        "print(predict_list)\n",
        "print(standard_list)"
      ],
      "execution_count": 49,
      "outputs": [
        {
          "output_type": "display_data",
          "data": {
            "text/html": [
              ""
            ],
            "text/plain": [
              "<IPython.core.display.HTML object>"
            ]
          },
          "metadata": {
            "tags": []
          }
        },
        {
          "output_type": "stream",
          "text": [
            "143\n",
            "143\n",
            "[13, 1727, 792, 1204, 978, 1096, 189, 418, 189, 217, 224, 1321, 1936, 1936, 1936, 2147, 1711, 355, 1599, 1136, 426, 532, 1769, 1371, 1371, 706, 2032, 749, 1349, 441, 792, 809, 96, 1669, 2149, 825, 1718, 466, 908, 452, 923, 1940, 974, 1529, 978, 978, 978, 978, 1936, 1727, 1669, 187, 1669, 1099, 1610, 1711, 1019, 1767, 1099, 1163, 1711, 2032, 1204, 2023, 250, 1265, 1265, 1062, 1295, 1718, 1308, 2147, 371, 1340, 2149, 1546, 1669, 2113, 355, 1711, 792, 792, 1597, 1597, 1578, 1597, 1610, 1610, 418, 1680, 2032, 1718, 1787, 2032, 265, 1727, 1727, 1815, 1718, 1727, 1669, 1727, 2074, 1787, 2032, 13, 1787, 13, 1787, 978, 56, 824, 1884, 1531, 1936, 1936, 233, 1936, 1857, 749, 1099, 452, 792, 452, 2018, 2024, 2032, 2147, 1769, 1508, 1508, 2149, 1676, 2147, 441, 818, 2147, 2147, 2147, 2147, 2149, 1521, 1521]\n",
            "[13, 24, 74, 85, 94, 187, 189, 189, 189, 217, 224, 224, 224, 233, 233, 233, 265, 355, 392, 396, 426, 532, 561, 600, 600, 706, 744, 749, 755, 791, 792, 809, 818, 818, 819, 825, 852, 858, 908, 908, 923, 966, 974, 974, 978, 978, 978, 978, 1073, 1073, 1073, 1096, 1099, 1099, 1099, 1125, 1136, 1136, 1145, 1163, 1175, 1199, 1204, 1204, 1204, 1265, 1265, 1295, 1295, 1295, 1308, 1308, 1327, 1340, 1373, 1458, 1507, 1511, 1524, 1531, 1582, 1597, 1597, 1597, 1597, 1597, 1610, 1610, 1676, 1680, 1718, 1718, 1718, 1718, 1724, 1727, 1727, 1727, 1767, 1767, 1767, 1769, 1769, 1787, 1787, 1787, 1787, 1787, 1787, 1822, 1845, 1884, 1884, 1924, 1936, 1936, 1936, 1936, 1940, 1942, 1942, 1942, 1974, 2002, 2018, 2024, 2032, 2032, 2074, 2077, 2077, 2103, 2123, 2147, 2147, 2147, 2147, 2147, 2147, 2147, 2149, 2191, 2194]\n"
          ],
          "name": "stdout"
        }
      ]
    },
    {
      "cell_type": "code",
      "metadata": {
        "id": "XIC4zufnMxtq",
        "outputId": "0b1b4ddf-4fb0-43e1-d78a-659cb6a527e3",
        "colab": {
          "base_uri": "https://localhost:8080/"
        }
      },
      "source": [
        "correct_num = 0\n",
        "\n",
        "for i in range(0, len(standard_list)):\n",
        "  if predict_list[i] == standard_list[i]:\n",
        "    correct_num = correct_num+1\n",
        "  else:\n",
        "    pass\n",
        "print(correct_num)\n",
        "\n",
        "predict_accuracy = correct_num/len(predict_list)\n",
        "print(predict_accuracy)"
      ],
      "execution_count": 50,
      "outputs": [
        {
          "output_type": "stream",
          "text": [
            "53\n",
            "0.3706293706293706\n"
          ],
          "name": "stdout"
        }
      ]
    },
    {
      "cell_type": "code",
      "metadata": {
        "id": "zlKMHp1CIaRJ"
      },
      "source": [
        ""
      ],
      "execution_count": 50,
      "outputs": []
    }
  ]
}