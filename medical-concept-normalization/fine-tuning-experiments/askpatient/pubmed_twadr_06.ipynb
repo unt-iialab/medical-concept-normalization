{
  "nbformat": 4,
  "nbformat_minor": 0,
  "metadata": {
    "accelerator": "TPU",
    "colab": {
      "name": "pubmed_twadr_06.ipynb",
      "provenance": [],
      "collapsed_sections": [],
      "toc_visible": true,
      "include_colab_link": true
    },
    "kernelspec": {
      "display_name": "Python 3",
      "name": "python3"
    }
  },
  "cells": [
    {
      "cell_type": "markdown",
      "metadata": {
        "id": "view-in-github",
        "colab_type": "text"
      },
      "source": [
        "<a href=\"https://colab.research.google.com/github/unt-iialab/medical-concept-normalization/blob/master/medical-concept-normalization/fine-tuning-experiments/askpatient/pubmed_twadr_06.ipynb\" target=\"_parent\"><img src=\"https://colab.research.google.com/assets/colab-badge.svg\" alt=\"Open In Colab\"/></a>"
      ]
    },
    {
      "cell_type": "code",
      "metadata": {
        "id": "adSi6i2-dWxy"
      },
      "source": [
        "import os"
      ],
      "execution_count": 1,
      "outputs": []
    },
    {
      "cell_type": "code",
      "metadata": {
        "id": "E7xYCRGPjd9B"
      },
      "source": [
        "base_dir = 'medical-concept-normalization'"
      ],
      "execution_count": 2,
      "outputs": []
    },
    {
      "cell_type": "code",
      "metadata": {
        "id": "yvIW3aUDjYNS"
      },
      "source": [
        "os.mkdir(base_dir)"
      ],
      "execution_count": 3,
      "outputs": []
    },
    {
      "cell_type": "code",
      "metadata": {
        "id": "es-FFLlfk6SG"
      },
      "source": [
        "os.mkdir('medical-concept-normalization/data_collection')"
      ],
      "execution_count": 4,
      "outputs": []
    },
    {
      "cell_type": "markdown",
      "metadata": {
        "id": "0R-Guw_VoJXm"
      },
      "source": [
        "**Install fastai and clone the fastai for text classification**\n",
        "\n"
      ]
    },
    {
      "cell_type": "code",
      "metadata": {
        "id": "QVZa3Z0PmHFH",
        "outputId": "1d9aecbe-c269-473c-a63b-dd81c4f12408",
        "colab": {
          "base_uri": "https://localhost:8080/"
        }
      },
      "source": [
        "!curl https://course-v3.fast.ai/setup/colab | bash"
      ],
      "execution_count": 5,
      "outputs": [
        {
          "output_type": "stream",
          "text": [
            "  % Total    % Received % Xferd  Average Speed   Time    Time     Time  Current\n",
            "                                 Dload  Upload   Total   Spent    Left  Speed\n",
            "\r  0     0    0     0    0     0      0      0 --:--:-- --:--:-- --:--:--     0curl: (6) Could not resolve host: course-v3.fast.ai\n"
          ],
          "name": "stdout"
        }
      ]
    },
    {
      "cell_type": "code",
      "metadata": {
        "id": "_FBFFEBrmJC0",
        "outputId": "d33a5f42-38b1-4f9d-a29f-78f3f3a6024a",
        "colab": {
          "base_uri": "https://localhost:8080/"
        }
      },
      "source": [
        "!git clone https://github.com/wshuyi/demo-nlp-classification-fastai.git"
      ],
      "execution_count": 6,
      "outputs": [
        {
          "output_type": "stream",
          "text": [
            "Cloning into 'demo-nlp-classification-fastai'...\n",
            "remote: Enumerating objects: 9, done.\u001b[K\n",
            "remote: Total 9 (delta 0), reused 0 (delta 0), pack-reused 9\u001b[K\n",
            "Unpacking objects: 100% (9/9), done.\n"
          ],
          "name": "stdout"
        }
      ]
    },
    {
      "cell_type": "code",
      "metadata": {
        "id": "66zfh_JqmWMU"
      },
      "source": [
        "from fastai import *\n",
        "from fastai.text import *"
      ],
      "execution_count": 7,
      "outputs": []
    },
    {
      "cell_type": "markdown",
      "metadata": {
        "id": "mNIw-yALdBU9"
      },
      "source": [
        "**Set the path of the data collections**"
      ]
    },
    {
      "cell_type": "code",
      "metadata": {
        "id": "pzH7VMh4mqCL"
      },
      "source": [
        "path = Path('medical-concept-normalization/data_collection')"
      ],
      "execution_count": 8,
      "outputs": []
    },
    {
      "cell_type": "code",
      "metadata": {
        "id": "b8fjI6yyn4aS"
      },
      "source": [
        "# training data set\n",
        "\n",
        "train_csv = path/'TwADR-L.fold-6.train.csv'\n",
        "train = pd.read_csv(train_csv, header=None)\n",
        "#train.head()\n",
        "#train.info()"
      ],
      "execution_count": 10,
      "outputs": []
    },
    {
      "cell_type": "code",
      "metadata": {
        "id": "Hmlr-bAorfHd",
        "outputId": "dbe8c46a-9e13-4303-8644-15a324936ed6",
        "colab": {
          "base_uri": "https://localhost:8080/",
          "height": 204
        }
      },
      "source": [
        "# validating data set\n",
        "\n",
        "valid = pd.read_csv(path/\"TwADR-L.fold-6.validation.csv\",header=None)\n",
        "valid.head()"
      ],
      "execution_count": 11,
      "outputs": [
        {
          "output_type": "execute_result",
          "data": {
            "text/html": [
              "<div>\n",
              "<style scoped>\n",
              "    .dataframe tbody tr th:only-of-type {\n",
              "        vertical-align: middle;\n",
              "    }\n",
              "\n",
              "    .dataframe tbody tr th {\n",
              "        vertical-align: top;\n",
              "    }\n",
              "\n",
              "    .dataframe thead th {\n",
              "        text-align: right;\n",
              "    }\n",
              "</style>\n",
              "<table border=\"1\" class=\"dataframe\">\n",
              "  <thead>\n",
              "    <tr style=\"text-align: right;\">\n",
              "      <th></th>\n",
              "      <th>0</th>\n",
              "      <th>1</th>\n",
              "    </tr>\n",
              "  </thead>\n",
              "  <tbody>\n",
              "    <tr>\n",
              "      <th>0</th>\n",
              "      <td>13</td>\n",
              "      <td>It's 6 am and this adderall got me reevaluatin...</td>\n",
              "    </tr>\n",
              "    <tr>\n",
              "      <th>1</th>\n",
              "      <td>84</td>\n",
              "      <td>paraplegic</td>\n",
              "    </tr>\n",
              "    <tr>\n",
              "      <th>2</th>\n",
              "      <td>91</td>\n",
              "      <td>jitters</td>\n",
              "    </tr>\n",
              "    <tr>\n",
              "      <th>3</th>\n",
              "      <td>189</td>\n",
              "      <td>dizziness</td>\n",
              "    </tr>\n",
              "    <tr>\n",
              "      <th>4</th>\n",
              "      <td>189</td>\n",
              "      <td>dizzy</td>\n",
              "    </tr>\n",
              "  </tbody>\n",
              "</table>\n",
              "</div>"
            ],
            "text/plain": [
              "     0                                                  1\n",
              "0   13  It's 6 am and this adderall got me reevaluatin...\n",
              "1   84                                         paraplegic\n",
              "2   91                                            jitters\n",
              "3  189                                          dizziness\n",
              "4  189                                              dizzy"
            ]
          },
          "metadata": {
            "tags": []
          },
          "execution_count": 11
        }
      ]
    },
    {
      "cell_type": "code",
      "metadata": {
        "id": "cOza9dfSsBud",
        "outputId": "3f09d93f-9f35-46e0-fa17-47ca13ede061",
        "colab": {
          "base_uri": "https://localhost:8080/",
          "height": 204
        }
      },
      "source": [
        "# testing data set\n",
        "\n",
        "test = pd.read_csv(path/\"TwADR-L.fold-6.test.csv\",header=None)\n",
        "test.head()"
      ],
      "execution_count": 12,
      "outputs": [
        {
          "output_type": "execute_result",
          "data": {
            "text/html": [
              "<div>\n",
              "<style scoped>\n",
              "    .dataframe tbody tr th:only-of-type {\n",
              "        vertical-align: middle;\n",
              "    }\n",
              "\n",
              "    .dataframe tbody tr th {\n",
              "        vertical-align: top;\n",
              "    }\n",
              "\n",
              "    .dataframe thead th {\n",
              "        text-align: right;\n",
              "    }\n",
              "</style>\n",
              "<table border=\"1\" class=\"dataframe\">\n",
              "  <thead>\n",
              "    <tr style=\"text-align: right;\">\n",
              "      <th></th>\n",
              "      <th>0</th>\n",
              "      <th>1</th>\n",
              "    </tr>\n",
              "  </thead>\n",
              "  <tbody>\n",
              "    <tr>\n",
              "      <th>0</th>\n",
              "      <td>13</td>\n",
              "      <td>awake in the middle of the night for an hour or 2</td>\n",
              "    </tr>\n",
              "    <tr>\n",
              "      <th>1</th>\n",
              "      <td>24</td>\n",
              "      <td>heart beat for being too strong</td>\n",
              "    </tr>\n",
              "    <tr>\n",
              "      <th>2</th>\n",
              "      <td>74</td>\n",
              "      <td>60% of my success is due to taking Adderall</td>\n",
              "    </tr>\n",
              "    <tr>\n",
              "      <th>3</th>\n",
              "      <td>85</td>\n",
              "      <td>tremor</td>\n",
              "    </tr>\n",
              "    <tr>\n",
              "      <th>4</th>\n",
              "      <td>94</td>\n",
              "      <td>anxiety</td>\n",
              "    </tr>\n",
              "  </tbody>\n",
              "</table>\n",
              "</div>"
            ],
            "text/plain": [
              "    0                                                  1\n",
              "0  13  awake in the middle of the night for an hour or 2\n",
              "1  24                    heart beat for being too strong\n",
              "2  74        60% of my success is due to taking Adderall\n",
              "3  85                                             tremor\n",
              "4  94                                            anxiety"
            ]
          },
          "metadata": {
            "tags": []
          },
          "execution_count": 12
        }
      ]
    },
    {
      "cell_type": "code",
      "metadata": {
        "id": "Vo-YNvVYoaH6",
        "outputId": "f29490b3-009a-476a-8c39-0aed1bb4079c",
        "colab": {
          "base_uri": "https://localhost:8080/",
          "height": 17
        }
      },
      "source": [
        "# Creating DataBunch for language modelling\n",
        "\n",
        "data_lm = TextLMDataBunch.from_csv(path, 'TwADR_pubmed.csv')"
      ],
      "execution_count": 13,
      "outputs": [
        {
          "output_type": "display_data",
          "data": {
            "text/html": [
              ""
            ],
            "text/plain": [
              "<IPython.core.display.HTML object>"
            ]
          },
          "metadata": {
            "tags": []
          }
        },
        {
          "output_type": "display_data",
          "data": {
            "text/html": [
              ""
            ],
            "text/plain": [
              "<IPython.core.display.HTML object>"
            ]
          },
          "metadata": {
            "tags": []
          }
        }
      ]
    },
    {
      "cell_type": "code",
      "metadata": {
        "id": "qcV-9kMnNLBf"
      },
      "source": [
        ""
      ],
      "execution_count": 13,
      "outputs": []
    },
    {
      "cell_type": "code",
      "metadata": {
        "id": "1ScY9afDsnvE"
      },
      "source": [
        "# Creating DataBunch for classification\n",
        "\n",
        "# data_clas = TextClasDataBunch.from_df(path, train, valid, test, vocab=data_lm.train_ds.vocab, bs=128)"
      ],
      "execution_count": 14,
      "outputs": []
    },
    {
      "cell_type": "code",
      "metadata": {
        "id": "gzrSdQcvey9p",
        "outputId": "fd6ac137-cff9-42cf-e9ca-33fedcf92485",
        "colab": {
          "base_uri": "https://localhost:8080/",
          "height": 17
        }
      },
      "source": [
        "data_clas = TextClasDataBunch.from_df(path, train, valid, vocab=data_lm.train_ds.vocab, bs=128)"
      ],
      "execution_count": 15,
      "outputs": [
        {
          "output_type": "display_data",
          "data": {
            "text/html": [
              ""
            ],
            "text/plain": [
              "<IPython.core.display.HTML object>"
            ]
          },
          "metadata": {
            "tags": []
          }
        },
        {
          "output_type": "display_data",
          "data": {
            "text/html": [
              ""
            ],
            "text/plain": [
              "<IPython.core.display.HTML object>"
            ]
          },
          "metadata": {
            "tags": []
          }
        }
      ]
    },
    {
      "cell_type": "code",
      "metadata": {
        "id": "MD27Tf0Ke3ou",
        "outputId": "c33c7dbb-954a-4be6-d9e2-453ac8bc1fbb",
        "colab": {
          "base_uri": "https://localhost:8080/",
          "height": 17
        }
      },
      "source": [
        "data_clas.add_test(test,label=0)\n"
      ],
      "execution_count": 16,
      "outputs": [
        {
          "output_type": "display_data",
          "data": {
            "text/html": [
              ""
            ],
            "text/plain": [
              "<IPython.core.display.HTML object>"
            ]
          },
          "metadata": {
            "tags": []
          }
        }
      ]
    },
    {
      "cell_type": "code",
      "metadata": {
        "id": "-dpjnk_rstwk"
      },
      "source": [
        "data_lm.save()\n",
        "data_clas.save()"
      ],
      "execution_count": 17,
      "outputs": []
    },
    {
      "cell_type": "code",
      "metadata": {
        "id": "4OkiJa36sw5s",
        "outputId": "3e6a52dd-00ff-455b-adeb-8c9d56bc4749",
        "colab": {
          "base_uri": "https://localhost:8080/"
        }
      },
      "source": [
        "data_lm.train_ds.vocab.itos"
      ],
      "execution_count": 18,
      "outputs": [
        {
          "output_type": "execute_result",
          "data": {
            "text/plain": [
              "['xxunk',\n",
              " 'xxpad',\n",
              " 'xxbos',\n",
              " 'xxeos',\n",
              " 'xxfld',\n",
              " 'xxmaj',\n",
              " 'xxup',\n",
              " 'xxrep',\n",
              " 'xxwrep',\n",
              " 'the',\n",
              " 'of',\n",
              " 'and',\n",
              " 'in',\n",
              " 'to',\n",
              " 'a',\n",
              " 'diclofenac',\n",
              " 'was',\n",
              " 'with',\n",
              " 'were',\n",
              " 'for',\n",
              " 'pain',\n",
              " 'sodium',\n",
              " 'drug',\n",
              " 'by',\n",
              " 'on',\n",
              " 'patients',\n",
              " 'that',\n",
              " 'as',\n",
              " 'is',\n",
              " 'or',\n",
              " 'at',\n",
              " 'mg',\n",
              " 'increased',\n",
              " 'group',\n",
              " 'from',\n",
              " 'study',\n",
              " 'mood',\n",
              " 'this',\n",
              " 'treatment',\n",
              " 'after',\n",
              " 'release',\n",
              " 'p',\n",
              " 'an',\n",
              " ',',\n",
              " 'be',\n",
              " 'me',\n",
              " 'disorder',\n",
              " 'i',\n",
              " 'effect',\n",
              " 'abnormal',\n",
              " 'not',\n",
              " 'decreased',\n",
              " 'withdrawal',\n",
              " 'weight',\n",
              " 'than',\n",
              " 'compared',\n",
              " 'anxiety',\n",
              " 'effects',\n",
              " 'are',\n",
              " 'my',\n",
              " 'using',\n",
              " 'groups',\n",
              " 'symptoms',\n",
              " 'no',\n",
              " 'inflammatory',\n",
              " 'two',\n",
              " 'both',\n",
              " 'drugs',\n",
              " 'significantly',\n",
              " 'significant',\n",
              " 'potassium',\n",
              " 'between',\n",
              " 'day',\n",
              " 'acute',\n",
              " 'h',\n",
              " 'skin',\n",
              " 'anti',\n",
              " 'voltaren',\n",
              " 'dose',\n",
              " 'behavior',\n",
              " 'all',\n",
              " 'syndrome',\n",
              " 'disorders',\n",
              " 'these',\n",
              " 'used',\n",
              " 'blood',\n",
              " 'time',\n",
              " '(',\n",
              " ')',\n",
              " 'results',\n",
              " '-',\n",
              " 'which',\n",
              " 'it',\n",
              " 'placebo',\n",
              " 'sleeplessness',\n",
              " 'had',\n",
              " 'efficacy',\n",
              " 'days',\n",
              " 'like',\n",
              " 'diseases',\n",
              " 'concentration',\n",
              " 'oral',\n",
              " 'have',\n",
              " 'also',\n",
              " 'ds',\n",
              " 'feeling',\n",
              " 'ml',\n",
              " 'we',\n",
              " 'treated',\n",
              " 'showed',\n",
              " 'topical',\n",
              " 'different',\n",
              " 'more',\n",
              " 'one',\n",
              " 'up',\n",
              " 'c',\n",
              " 'insomnia',\n",
              " 'has',\n",
              " 'somnolence',\n",
              " 'finding',\n",
              " 'administration',\n",
              " 'control',\n",
              " 'rats',\n",
              " 'non',\n",
              " 'but',\n",
              " 'high',\n",
              " 'disturbance',\n",
              " 'energy',\n",
              " 'sleep',\n",
              " 'studies',\n",
              " 'got',\n",
              " 'acid',\n",
              " 'been',\n",
              " 'respectively',\n",
              " 'into',\n",
              " 'induced',\n",
              " 'mental',\n",
              " 'rate',\n",
              " 'other',\n",
              " 'tablets',\n",
              " 'mean',\n",
              " 'formulations',\n",
              " 'plasma',\n",
              " 'clinical',\n",
              " 'during',\n",
              " 'formulation',\n",
              " 'body',\n",
              " 'nsaids',\n",
              " 'there',\n",
              " 'swelling',\n",
              " 'gain',\n",
              " 'muscle',\n",
              " 'effective',\n",
              " 'state',\n",
              " 'observed',\n",
              " 'hours',\n",
              " 'found',\n",
              " 'method',\n",
              " 'their',\n",
              " 'disease',\n",
              " 'ph',\n",
              " 'low',\n",
              " 'appetite',\n",
              " 'gel',\n",
              " 'g',\n",
              " 'solution',\n",
              " 'may',\n",
              " 's',\n",
              " 'nausea',\n",
              " 'depression',\n",
              " 'its',\n",
              " 'n',\n",
              " 'use',\n",
              " 'kg',\n",
              " 'three',\n",
              " 'received',\n",
              " 'total',\n",
              " 'attention',\n",
              " 'excitability',\n",
              " 'when',\n",
              " 'controlled',\n",
              " 'eye',\n",
              " 'well',\n",
              " 'conditions',\n",
              " 'irritable',\n",
              " 'activity',\n",
              " 'reaction',\n",
              " 'levels',\n",
              " 'analysis',\n",
              " 'test',\n",
              " 'lower',\n",
              " 'awake',\n",
              " 'hyperactive',\n",
              " 'cell',\n",
              " 'heart',\n",
              " 'feel',\n",
              " 'single',\n",
              " 'ceiling',\n",
              " 'analgesic',\n",
              " 'adverse',\n",
              " 'renal',\n",
              " 'data',\n",
              " 'over',\n",
              " 'serum',\n",
              " 'dizziness',\n",
              " 'out',\n",
              " 'each',\n",
              " 'first',\n",
              " 'vitro',\n",
              " 'd',\n",
              " 'panic',\n",
              " 'atorvastatin',\n",
              " 'randomized',\n",
              " 'level',\n",
              " 'less',\n",
              " 'drowsiness',\n",
              " 'm',\n",
              " 'period',\n",
              " 'feelings',\n",
              " 'gastrointestinal',\n",
              " 'system',\n",
              " 'daily',\n",
              " 'model',\n",
              " 'application',\n",
              " 'headache',\n",
              " 'can',\n",
              " 'weeks',\n",
              " 'liver',\n",
              " 'surgery',\n",
              " 'l',\n",
              " 'however',\n",
              " 'concentrations',\n",
              " 'following',\n",
              " 'rash',\n",
              " 'double',\n",
              " 'evaluated',\n",
              " 'inflammation',\n",
              " 'swings',\n",
              " 't',\n",
              " 'site',\n",
              " 'reduced',\n",
              " 'infection',\n",
              " 'tablet',\n",
              " 'loss',\n",
              " 'based',\n",
              " 'depressed',\n",
              " 'allergic',\n",
              " 'patient',\n",
              " 'did',\n",
              " 'joint',\n",
              " 'obtained',\n",
              " 'injection',\n",
              " 'function',\n",
              " 'water',\n",
              " 'therapy',\n",
              " 'postoperative',\n",
              " 'cells',\n",
              " 'b',\n",
              " 'nsaid',\n",
              " 'dissolution',\n",
              " 'arthritis',\n",
              " 'similar',\n",
              " '#',\n",
              " 'initial',\n",
              " 'difference',\n",
              " 'combination',\n",
              " 'edema',\n",
              " 'increase',\n",
              " 'present',\n",
              " 'only',\n",
              " 'associated',\n",
              " 'migraine',\n",
              " 'changes',\n",
              " 'under',\n",
              " 'bipolar',\n",
              " 'higher',\n",
              " 'before',\n",
              " 'administered',\n",
              " 'injury',\n",
              " 'min',\n",
              " 'week',\n",
              " 'those',\n",
              " 'cholesterol',\n",
              " 'performed',\n",
              " 'change',\n",
              " 'gastric',\n",
              " 'bone',\n",
              " 'pressure',\n",
              " 'wakefulness',\n",
              " \"n't\",\n",
              " 'reported',\n",
              " 'chronic',\n",
              " 'most',\n",
              " 'prepared',\n",
              " 'tissue',\n",
              " 'visual',\n",
              " 'doses',\n",
              " 'studied',\n",
              " 'respiratory',\n",
              " 'vs',\n",
              " 'trial',\n",
              " 'differences',\n",
              " 'corneal',\n",
              " 'subjects',\n",
              " 'ratio',\n",
              " 'blind',\n",
              " 'x',\n",
              " 'response',\n",
              " 'nonsteroidal',\n",
              " 'relief',\n",
              " 'four',\n",
              " 'developed',\n",
              " 'absorption',\n",
              " 'post',\n",
              " 'attacks',\n",
              " 'values',\n",
              " 'could',\n",
              " 'fatigue',\n",
              " 'decrease',\n",
              " 'investigated',\n",
              " 'due',\n",
              " 'auc',\n",
              " 'while',\n",
              " 'side',\n",
              " 'who',\n",
              " 'order',\n",
              " 'dreams',\n",
              " 'containing',\n",
              " 'assessed',\n",
              " 'within',\n",
              " 'events',\n",
              " 'v',\n",
              " 'breast',\n",
              " 'given',\n",
              " 'new',\n",
              " 'safety',\n",
              " 'either',\n",
              " 'urine',\n",
              " 'mm',\n",
              " 'phase',\n",
              " 'measured',\n",
              " 'reduction',\n",
              " 'parameters',\n",
              " 'ca',\n",
              " 'indomethacin',\n",
              " 'brain',\n",
              " 'tremor',\n",
              " 'properties',\n",
              " 'hemorrhage',\n",
              " 'knee',\n",
              " 'years',\n",
              " 'abdominal',\n",
              " 'failure',\n",
              " 'attack',\n",
              " 'any',\n",
              " 'such',\n",
              " 'steroidal',\n",
              " 'human',\n",
              " 'stiffness',\n",
              " 'evaluate',\n",
              " 'size',\n",
              " 'delivery',\n",
              " 'healthy',\n",
              " 'action',\n",
              " 'statistically',\n",
              " 'number',\n",
              " 'minutes',\n",
              " 'included',\n",
              " 'therapeutic',\n",
              " 'vivo',\n",
              " 'k',\n",
              " 'e',\n",
              " 'times',\n",
              " 'compare',\n",
              " 'better',\n",
              " 'scale',\n",
              " 'determined',\n",
              " 'active',\n",
              " 'through',\n",
              " 'applied',\n",
              " 'ng',\n",
              " 'kidney',\n",
              " 'deficit',\n",
              " 'same',\n",
              " 'eyes',\n",
              " 'type',\n",
              " 'dry',\n",
              " 'w',\n",
              " 'potential',\n",
              " 'oa',\n",
              " 'rage',\n",
              " 'form',\n",
              " 'carcinoma',\n",
              " 'taste',\n",
              " 'osteoarthritis',\n",
              " 'bioavailability',\n",
              " 'ulcer',\n",
              " 'products',\n",
              " 'related',\n",
              " 'dependent',\n",
              " 'so',\n",
              " 'sustained',\n",
              " 'lipitor',\n",
              " 'samples',\n",
              " 'liquid',\n",
              " 'cardiac',\n",
              " 'development',\n",
              " 'scores',\n",
              " 'primary',\n",
              " 'addition',\n",
              " 'secondary',\n",
              " 'night',\n",
              " 'process',\n",
              " 'our',\n",
              " 'baseline',\n",
              " 'demonstrated',\n",
              " 'range',\n",
              " 'local',\n",
              " 'good',\n",
              " 'male',\n",
              " 'psychotic',\n",
              " 'without',\n",
              " 'discomfort',\n",
              " 'medication',\n",
              " 'polymer',\n",
              " 'tolerability',\n",
              " 'makes',\n",
              " 'sleepy',\n",
              " 'pulmonary',\n",
              " 'coated',\n",
              " 'normal',\n",
              " 'hour',\n",
              " 'aim',\n",
              " 'temperature',\n",
              " 'infections',\n",
              " 'severe',\n",
              " 'cox',\n",
              " 'ii',\n",
              " 'na',\n",
              " 'numbness',\n",
              " 'stomach',\n",
              " 'vomiting',\n",
              " 'per',\n",
              " 'greater',\n",
              " 'months',\n",
              " 'alone',\n",
              " 'difficulty',\n",
              " 'matrix',\n",
              " 'treatments',\n",
              " 'dosage',\n",
              " 'volunteers',\n",
              " 'zombie',\n",
              " 'randomly',\n",
              " 'tired',\n",
              " 'dermatitis',\n",
              " 'rheumatoid',\n",
              " 'inhibitor',\n",
              " 'trials',\n",
              " 'about',\n",
              " 'they',\n",
              " 'revealed',\n",
              " 'middle',\n",
              " 'wide',\n",
              " 'area',\n",
              " 'very',\n",
              " 'aqueous',\n",
              " 'inhibition',\n",
              " 'presence',\n",
              " 'mice',\n",
              " 'sensation',\n",
              " 'daytime',\n",
              " 'further',\n",
              " 'indicated',\n",
              " 'exposure',\n",
              " 'followed',\n",
              " 'quality',\n",
              " 'risk',\n",
              " 'protein',\n",
              " 'peak',\n",
              " 'improvement',\n",
              " 'agent',\n",
              " 'suggest',\n",
              " 'permeation',\n",
              " 'asleep',\n",
              " 'ocular',\n",
              " 'mechanism',\n",
              " 'end',\n",
              " 'hepatic',\n",
              " 'whereas',\n",
              " 'divided',\n",
              " 'some',\n",
              " 'evaluation',\n",
              " 'profiles',\n",
              " 'irritation',\n",
              " 'cerebral',\n",
              " 'multiple',\n",
              " 'conducted',\n",
              " 'hallucinations',\n",
              " 'elevated',\n",
              " 'aggravated',\n",
              " 'intensity',\n",
              " 'free',\n",
              " 'being',\n",
              " 'still',\n",
              " 'dysfunction',\n",
              " 'female',\n",
              " 'alcohol',\n",
              " 'various',\n",
              " 'sweating',\n",
              " 'standard',\n",
              " 'ibuprofen',\n",
              " 'animals',\n",
              " 'degrees',\n",
              " 'formation',\n",
              " 'hypertension',\n",
              " 'shown',\n",
              " 'vascular',\n",
              " 'cases',\n",
              " 'moderate',\n",
              " 'distress',\n",
              " 'early',\n",
              " 'agents',\n",
              " 'depressive',\n",
              " 'six',\n",
              " 'surface',\n",
              " 'term',\n",
              " 'rat',\n",
              " 'onset',\n",
              " \"'m\",\n",
              " 'tract',\n",
              " 'available',\n",
              " 'facial',\n",
              " 'score',\n",
              " 'pharmaceutical',\n",
              " 'experimental',\n",
              " 'sleepiness',\n",
              " 'suicidal',\n",
              " 'tolerated',\n",
              " 'glucose',\n",
              " 'product',\n",
              " 'f',\n",
              " 'although',\n",
              " 'damage',\n",
              " 'microspheres',\n",
              " 'prolonged',\n",
              " 'density',\n",
              " 'determine',\n",
              " 'relative',\n",
              " 'growth',\n",
              " 'complex',\n",
              " 'content',\n",
              " 'combined',\n",
              " 'calcium',\n",
              " 'case',\n",
              " 'age',\n",
              " 'rapid',\n",
              " 'vas',\n",
              " 'models',\n",
              " 'dependence',\n",
              " 'anemia',\n",
              " 'cancer',\n",
              " 'including',\n",
              " 'systemic',\n",
              " 'toxicity',\n",
              " 'death',\n",
              " 'mild',\n",
              " 'vehicle',\n",
              " 'exhaustion',\n",
              " 'misoprostol',\n",
              " 'disturbances',\n",
              " 'pharmacokinetic',\n",
              " 'cataract',\n",
              " 'necrosis',\n",
              " 'social',\n",
              " 'anger',\n",
              " 'ci',\n",
              " 'production',\n",
              " 'achieved',\n",
              " 'five',\n",
              " 'o',\n",
              " 'produced',\n",
              " 'painful',\n",
              " 'enteric',\n",
              " 'amount',\n",
              " 'volume',\n",
              " 'localised',\n",
              " 'profile',\n",
              " 'beads',\n",
              " 'down',\n",
              " 'lesions',\n",
              " 'carried',\n",
              " 'among',\n",
              " 'third',\n",
              " 'preparation',\n",
              " 'fluid',\n",
              " 'need',\n",
              " 'diabetic',\n",
              " 'methods',\n",
              " 'urinary',\n",
              " 'versus',\n",
              " 'according',\n",
              " 'result',\n",
              " 'flow',\n",
              " 'pre',\n",
              " 'performance',\n",
              " 'resulted',\n",
              " 'duration',\n",
              " 'dizzy',\n",
              " 'improved',\n",
              " 'seizures',\n",
              " 'arrest',\n",
              " 'cross',\n",
              " 'cd',\n",
              " 'should',\n",
              " 'complete',\n",
              " 'cm',\n",
              " 'thus',\n",
              " 'th',\n",
              " 'creatinine',\n",
              " 'maximum',\n",
              " 'cmax',\n",
              " 'synthesis',\n",
              " 'membrane',\n",
              " 'efficiency',\n",
              " 'physical',\n",
              " 'comparison',\n",
              " 'flare',\n",
              " 'every',\n",
              " 'overall',\n",
              " 'inhibited',\n",
              " 'reference',\n",
              " 'tolerance',\n",
              " 'solid',\n",
              " 'uterine',\n",
              " 'erythema',\n",
              " 'long',\n",
              " 'analgesia',\n",
              " 'extent',\n",
              " 'vision',\n",
              " 'chest',\n",
              " 'spasm',\n",
              " 'enzyme',\n",
              " 'naproxen',\n",
              " 'impairment',\n",
              " 'nightmares',\n",
              " 'tested',\n",
              " 'review',\n",
              " 'medium',\n",
              " 'show',\n",
              " 'oedema',\n",
              " 'depersonalization',\n",
              " 'evidence',\n",
              " 'investigate',\n",
              " 'phosphate',\n",
              " 'assessment',\n",
              " 'bite',\n",
              " 'recorded',\n",
              " 'caused',\n",
              " 'common',\n",
              " 'diffusion',\n",
              " 'pruritus',\n",
              " 'rofecoxib',\n",
              " 'interactions',\n",
              " 'foot',\n",
              " 'determination',\n",
              " 'aspirin',\n",
              " 'positive',\n",
              " 'least',\n",
              " 'pellets',\n",
              " 'outcome',\n",
              " 'major',\n",
              " 'peripheral',\n",
              " 'because',\n",
              " 'year',\n",
              " 'compulsive',\n",
              " 'diabetes',\n",
              " 'microg',\n",
              " 'vivid',\n",
              " 'cardiovascular',\n",
              " 'fever',\n",
              " 'saline',\n",
              " 'injuries',\n",
              " 'commercial',\n",
              " 'second',\n",
              " 'back',\n",
              " 'prostaglandin',\n",
              " 'ventricular',\n",
              " 'nervous',\n",
              " 'old',\n",
              " 'upper',\n",
              " 'once',\n",
              " 'you',\n",
              " 'de',\n",
              " 'influence',\n",
              " 'incidence',\n",
              " 'interaction',\n",
              " 'max',\n",
              " 'adderall',\n",
              " 'examined',\n",
              " 'count',\n",
              " 'participants',\n",
              " 'intramuscular',\n",
              " 'nauseous',\n",
              " 'localized',\n",
              " 'face',\n",
              " 'detection',\n",
              " 'expression',\n",
              " 'ache',\n",
              " 'comparable',\n",
              " 'clinically',\n",
              " 'life',\n",
              " 'design',\n",
              " 'technique',\n",
              " 'medications',\n",
              " 'eating',\n",
              " 'increasing',\n",
              " 'intestinal',\n",
              " 'lack',\n",
              " 'if',\n",
              " 'memory',\n",
              " 'cold',\n",
              " 'then',\n",
              " 'shoulder',\n",
              " 'global',\n",
              " 'work',\n",
              " 'possible',\n",
              " 'antiinflammatory',\n",
              " 'neoplasm',\n",
              " 'patch',\n",
              " 'small',\n",
              " 'ketorolac',\n",
              " 'taking',\n",
              " 'affect',\n",
              " 'plus',\n",
              " 'preparations',\n",
              " 'therefore',\n",
              " 'dic',\n",
              " 'will',\n",
              " 'diet',\n",
              " 'index',\n",
              " 'characterized',\n",
              " 'drops',\n",
              " 'findings',\n",
              " 'hepatitis',\n",
              " 'tooth',\n",
              " 'activities',\n",
              " 'made',\n",
              " 'indicate',\n",
              " 'co',\n",
              " 'considered',\n",
              " 'clearance',\n",
              " 'beta',\n",
              " 'hunger',\n",
              " 'buffer',\n",
              " 'partial',\n",
              " 'paracetamol',\n",
              " 'solubility',\n",
              " 'novel',\n",
              " 'twice',\n",
              " 'receiving',\n",
              " 'cream',\n",
              " 'provided',\n",
              " 'way',\n",
              " 'simple',\n",
              " 'delayed',\n",
              " 'degree',\n",
              " 'stress',\n",
              " 'loaded',\n",
              " 'care',\n",
              " 'lipoprotein',\n",
              " 'ldl',\n",
              " 'characteristics',\n",
              " 'lung',\n",
              " 'asthma',\n",
              " 'sneezing',\n",
              " 'specific',\n",
              " 'tissues',\n",
              " 'abuse',\n",
              " 'intoxication',\n",
              " 'inhibitors',\n",
              " 'factor',\n",
              " 'extraction',\n",
              " 'sensitive',\n",
              " 'hplc',\n",
              " 'value',\n",
              " 'your',\n",
              " 'analyzed',\n",
              " 'fear',\n",
              " 'crazy',\n",
              " 'withdrawals',\n",
              " 'get',\n",
              " 'drowsy',\n",
              " 'pge',\n",
              " 'current',\n",
              " 'capsules',\n",
              " 'nm',\n",
              " 'cyclooxygenase',\n",
              " 'responses',\n",
              " 'examination',\n",
              " 'alpha',\n",
              " 'research',\n",
              " 'block',\n",
              " 'objective',\n",
              " 'mass',\n",
              " 'provide',\n",
              " 'assess',\n",
              " 'solutions',\n",
              " 'rates',\n",
              " 'lesion',\n",
              " 'lipid',\n",
              " 'obsessive',\n",
              " 'artery',\n",
              " 'exhibited',\n",
              " 'highly',\n",
              " 'nasal',\n",
              " 'genital',\n",
              " 'lightheadedness',\n",
              " 'additional',\n",
              " 'arterial',\n",
              " 'paranoid',\n",
              " 'central',\n",
              " 'ability',\n",
              " 'against',\n",
              " 'metabolism',\n",
              " 'episode',\n",
              " 'thirst',\n",
              " 'forms',\n",
              " 'bulimia',\n",
              " 'malignant',\n",
              " 'cause',\n",
              " 'enhanced',\n",
              " 'cambia',\n",
              " 'even',\n",
              " 'several',\n",
              " 'euphoric',\n",
              " 'do',\n",
              " 'sweat',\n",
              " 'urticaria',\n",
              " 'emotional',\n",
              " 'hungry',\n",
              " 'tongue',\n",
              " 'scanning',\n",
              " 'dpsgc',\n",
              " 'hand',\n",
              " 'hp',\n",
              " 'role',\n",
              " 'superior',\n",
              " 'food',\n",
              " 'arthropod',\n",
              " 'candidiasis',\n",
              " 'systems',\n",
              " 'general',\n",
              " 'consciousness',\n",
              " 'media',\n",
              " 'rabbits',\n",
              " 'cramps',\n",
              " 'important',\n",
              " 'modified',\n",
              " 'average',\n",
              " 'dcf',\n",
              " 'sexual',\n",
              " 'fast',\n",
              " 'steroid',\n",
              " 'bleeding',\n",
              " 'neoplasms',\n",
              " 'nerve',\n",
              " 'terms',\n",
              " 'r',\n",
              " 'short',\n",
              " 'binding',\n",
              " 'musculoskeletal',\n",
              " 'whether',\n",
              " 'transdermal',\n",
              " 'dfs',\n",
              " 'structure',\n",
              " 'adult',\n",
              " 'cutaneous',\n",
              " 'celecoxib',\n",
              " 'alternative',\n",
              " 'open',\n",
              " 'eudragit',\n",
              " 'across',\n",
              " 'particle',\n",
              " 'ophthalmic',\n",
              " 'symptom',\n",
              " 'stability',\n",
              " 'obstruction',\n",
              " 'right',\n",
              " 'traumatic',\n",
              " 'pneumonia',\n",
              " 'chloride',\n",
              " 'crossover',\n",
              " 'impaired',\n",
              " 'kinetics',\n",
              " 'collected',\n",
              " 'orally',\n",
              " 'mouth',\n",
              " 'intraocular',\n",
              " 'gi',\n",
              " 'arthrotec',\n",
              " 'tingling',\n",
              " 'intravenous',\n",
              " 'substance',\n",
              " 'coronary',\n",
              " 'tenderness',\n",
              " 'microm',\n",
              " 'df',\n",
              " 'reduce',\n",
              " 'large',\n",
              " 'fractures',\n",
              " 'penetration',\n",
              " 'operative',\n",
              " 'tumor',\n",
              " 'via',\n",
              " 'laser',\n",
              " 'dosing',\n",
              " 'aged',\n",
              " 'soft',\n",
              " 'chitosan',\n",
              " 'since',\n",
              " 'known',\n",
              " 'randomised',\n",
              " 'target',\n",
              " 'many',\n",
              " 'oil',\n",
              " 'hurt',\n",
              " 'absence',\n",
              " 'peg',\n",
              " 'hr',\n",
              " 'electrocardiogram',\n",
              " 'erection',\n",
              " 'ear',\n",
              " 'does',\n",
              " 'point',\n",
              " 'selected',\n",
              " 'eight',\n",
              " 'il',\n",
              " 'procedure',\n",
              " 'receive',\n",
              " 'proposed',\n",
              " 'management',\n",
              " 'percentage',\n",
              " 'criteria',\n",
              " 'immune',\n",
              " 'tests',\n",
              " 'metastatic',\n",
              " 'useful',\n",
              " 'sr',\n",
              " 'capsule',\n",
              " 'established',\n",
              " 'spectroscopy',\n",
              " 'animal',\n",
              " 'excessive',\n",
              " 'much',\n",
              " 'affected',\n",
              " 'tmax',\n",
              " 'curve',\n",
              " 'hpmc',\n",
              " 'headaches',\n",
              " 'pattern',\n",
              " 'ak',\n",
              " 'released',\n",
              " 'thinking',\n",
              " 'status',\n",
              " 'gained',\n",
              " 'muscular',\n",
              " 'libido',\n",
              " 'faster',\n",
              " 'salt',\n",
              " 'analgesics',\n",
              " 'sd',\n",
              " 'limb',\n",
              " 'experiments',\n",
              " 'required',\n",
              " 'generalized',\n",
              " 'interval',\n",
              " 'half',\n",
              " 'psychosis',\n",
              " 'factors',\n",
              " 'linear',\n",
              " 'suggested',\n",
              " 'chemical',\n",
              " 'reducing',\n",
              " 'lose',\n",
              " 'electron',\n",
              " 'microscopy',\n",
              " 'prior',\n",
              " 'lens',\n",
              " 'acetaminophen',\n",
              " 'follow',\n",
              " 'widely',\n",
              " 'assay',\n",
              " 'angry',\n",
              " 'myocardial',\n",
              " 'fracture',\n",
              " 'measurements',\n",
              " 'approximately',\n",
              " 'individual',\n",
              " 'needed',\n",
              " 'parallel',\n",
              " ...]"
            ]
          },
          "metadata": {
            "tags": []
          },
          "execution_count": 18
        }
      ]
    },
    {
      "cell_type": "code",
      "metadata": {
        "id": "yPWr03mls3VT",
        "outputId": "abf6f019-7b07-4899-bfbb-684c66617c3c",
        "colab": {
          "base_uri": "https://localhost:8080/",
          "height": 17
        }
      },
      "source": [
        "model_path = path/'models'\n",
        "model_path.mkdir(exist_ok=True)\n",
        "url = 'http://files.fast.ai/models/wt103_v1/'\n",
        "download_url(f'{url}lstm_wt103.pth', model_path/'lstm_wt103.pth')\n",
        "download_url(f'{url}itos_wt103.pkl', model_path/'itos_wt103.pkl')"
      ],
      "execution_count": 19,
      "outputs": [
        {
          "output_type": "display_data",
          "data": {
            "text/html": [
              ""
            ],
            "text/plain": [
              "<IPython.core.display.HTML object>"
            ]
          },
          "metadata": {
            "tags": []
          }
        },
        {
          "output_type": "display_data",
          "data": {
            "text/html": [
              ""
            ],
            "text/plain": [
              "<IPython.core.display.HTML object>"
            ]
          },
          "metadata": {
            "tags": []
          }
        }
      ]
    },
    {
      "cell_type": "code",
      "metadata": {
        "id": "JRzvWg8RtGGr",
        "outputId": "7818643f-7f87-4fd0-8139-1093d747dc0f",
        "colab": {
          "base_uri": "https://localhost:8080/",
          "height": 34
        }
      },
      "source": [
        "learn = language_model_learner(data_lm, AWD_LSTM, drop_mult=0.5)"
      ],
      "execution_count": 20,
      "outputs": [
        {
          "output_type": "stream",
          "text": [
            "Downloading https://s3.amazonaws.com/fast-ai-modelzoo/wt103-fwd.tgz\n"
          ],
          "name": "stdout"
        },
        {
          "output_type": "display_data",
          "data": {
            "text/html": [
              ""
            ],
            "text/plain": [
              "<IPython.core.display.HTML object>"
            ]
          },
          "metadata": {
            "tags": []
          }
        }
      ]
    },
    {
      "cell_type": "code",
      "metadata": {
        "id": "xKK7GeBev7Xn",
        "outputId": "6e8aecfb-8585-4aea-e1b2-0f6895f649e5",
        "colab": {
          "base_uri": "https://localhost:8080/",
          "height": 80
        }
      },
      "source": [
        "learn.fit_one_cycle(1, 1e-2)"
      ],
      "execution_count": 21,
      "outputs": [
        {
          "output_type": "display_data",
          "data": {
            "text/html": [
              "<table border=\"1\" class=\"dataframe\">\n",
              "  <thead>\n",
              "    <tr style=\"text-align: left;\">\n",
              "      <th>epoch</th>\n",
              "      <th>train_loss</th>\n",
              "      <th>valid_loss</th>\n",
              "      <th>accuracy</th>\n",
              "      <th>time</th>\n",
              "    </tr>\n",
              "  </thead>\n",
              "  <tbody>\n",
              "    <tr>\n",
              "      <td>0</td>\n",
              "      <td>4.851161</td>\n",
              "      <td>4.211799</td>\n",
              "      <td>0.348000</td>\n",
              "      <td>59:14</td>\n",
              "    </tr>\n",
              "  </tbody>\n",
              "</table>"
            ],
            "text/plain": [
              "<IPython.core.display.HTML object>"
            ]
          },
          "metadata": {
            "tags": []
          }
        }
      ]
    },
    {
      "cell_type": "code",
      "metadata": {
        "id": "iB7rHGQCwd12",
        "outputId": "69e5f4db-9b2a-41b0-eaec-dec685e8d2d4",
        "colab": {
          "base_uri": "https://localhost:8080/",
          "height": 80
        }
      },
      "source": [
        "learn.fit_one_cycle(1, 1e-2)"
      ],
      "execution_count": 22,
      "outputs": [
        {
          "output_type": "display_data",
          "data": {
            "text/html": [
              "<table border=\"1\" class=\"dataframe\">\n",
              "  <thead>\n",
              "    <tr style=\"text-align: left;\">\n",
              "      <th>epoch</th>\n",
              "      <th>train_loss</th>\n",
              "      <th>valid_loss</th>\n",
              "      <th>accuracy</th>\n",
              "      <th>time</th>\n",
              "    </tr>\n",
              "  </thead>\n",
              "  <tbody>\n",
              "    <tr>\n",
              "      <td>0</td>\n",
              "      <td>4.023456</td>\n",
              "      <td>3.813930</td>\n",
              "      <td>0.384624</td>\n",
              "      <td>59:45</td>\n",
              "    </tr>\n",
              "  </tbody>\n",
              "</table>"
            ],
            "text/plain": [
              "<IPython.core.display.HTML object>"
            ]
          },
          "metadata": {
            "tags": []
          }
        }
      ]
    },
    {
      "cell_type": "code",
      "metadata": {
        "id": "_BnSuAeCwkBe",
        "outputId": "aafb79d5-b4f9-46c6-b75a-20a91e00286d",
        "colab": {
          "base_uri": "https://localhost:8080/",
          "height": 80
        }
      },
      "source": [
        "learn.fit_one_cycle(1, 1e-3)"
      ],
      "execution_count": 23,
      "outputs": [
        {
          "output_type": "display_data",
          "data": {
            "text/html": [
              "<table border=\"1\" class=\"dataframe\">\n",
              "  <thead>\n",
              "    <tr style=\"text-align: left;\">\n",
              "      <th>epoch</th>\n",
              "      <th>train_loss</th>\n",
              "      <th>valid_loss</th>\n",
              "      <th>accuracy</th>\n",
              "      <th>time</th>\n",
              "    </tr>\n",
              "  </thead>\n",
              "  <tbody>\n",
              "    <tr>\n",
              "      <td>0</td>\n",
              "      <td>3.747991</td>\n",
              "      <td>3.770582</td>\n",
              "      <td>0.388487</td>\n",
              "      <td>59:58</td>\n",
              "    </tr>\n",
              "  </tbody>\n",
              "</table>"
            ],
            "text/plain": [
              "<IPython.core.display.HTML object>"
            ]
          },
          "metadata": {
            "tags": []
          }
        }
      ]
    },
    {
      "cell_type": "code",
      "metadata": {
        "id": "MuTm-RFjwrEX",
        "outputId": "f282d2aa-bd57-4f6a-c71b-d638c6c9c634",
        "colab": {
          "base_uri": "https://localhost:8080/",
          "height": 80
        }
      },
      "source": [
        "learn.fit_one_cycle(1, 1e-3)"
      ],
      "execution_count": 24,
      "outputs": [
        {
          "output_type": "display_data",
          "data": {
            "text/html": [
              "<table border=\"1\" class=\"dataframe\">\n",
              "  <thead>\n",
              "    <tr style=\"text-align: left;\">\n",
              "      <th>epoch</th>\n",
              "      <th>train_loss</th>\n",
              "      <th>valid_loss</th>\n",
              "      <th>accuracy</th>\n",
              "      <th>time</th>\n",
              "    </tr>\n",
              "  </thead>\n",
              "  <tbody>\n",
              "    <tr>\n",
              "      <td>0</td>\n",
              "      <td>3.692900</td>\n",
              "      <td>3.737382</td>\n",
              "      <td>0.391149</td>\n",
              "      <td>59:59</td>\n",
              "    </tr>\n",
              "  </tbody>\n",
              "</table>"
            ],
            "text/plain": [
              "<IPython.core.display.HTML object>"
            ]
          },
          "metadata": {
            "tags": []
          }
        }
      ]
    },
    {
      "cell_type": "code",
      "metadata": {
        "id": "1Er2ExO8wr7Y"
      },
      "source": [
        "learn.save_encoder('TwADR_pubmed_fold6_first')"
      ],
      "execution_count": 25,
      "outputs": []
    },
    {
      "cell_type": "code",
      "metadata": {
        "id": "z52cZs2qwvad",
        "outputId": "40f79cb3-77f7-445a-c73e-824ce9a49dc2",
        "colab": {
          "base_uri": "https://localhost:8080/",
          "height": 80
        }
      },
      "source": [
        "learn = text_classifier_learner(data_clas,AWD_LSTM, drop_mult=0.5)\n",
        "learn.load_encoder('TwADR_pubmed_fold6_first')\n",
        "learn.fit_one_cycle(1, 1e-2)"
      ],
      "execution_count": 26,
      "outputs": [
        {
          "output_type": "display_data",
          "data": {
            "text/html": [
              "<table border=\"1\" class=\"dataframe\">\n",
              "  <thead>\n",
              "    <tr style=\"text-align: left;\">\n",
              "      <th>epoch</th>\n",
              "      <th>train_loss</th>\n",
              "      <th>valid_loss</th>\n",
              "      <th>accuracy</th>\n",
              "      <th>time</th>\n",
              "    </tr>\n",
              "  </thead>\n",
              "  <tbody>\n",
              "    <tr>\n",
              "      <td>0</td>\n",
              "      <td>7.130294</td>\n",
              "      <td>6.634455</td>\n",
              "      <td>0.080357</td>\n",
              "      <td>01:19</td>\n",
              "    </tr>\n",
              "  </tbody>\n",
              "</table>"
            ],
            "text/plain": [
              "<IPython.core.display.HTML object>"
            ]
          },
          "metadata": {
            "tags": []
          }
        }
      ]
    },
    {
      "cell_type": "code",
      "metadata": {
        "id": "ImwQP1PJwzxd",
        "outputId": "1c1b81c6-bdbd-484d-caa2-86ce2f69d391",
        "colab": {
          "base_uri": "https://localhost:8080/",
          "height": 80
        }
      },
      "source": [
        "learn.freeze_to(-2)\n",
        "learn.fit_one_cycle(1, slice(5e-3/2., 5e-3))"
      ],
      "execution_count": 27,
      "outputs": [
        {
          "output_type": "display_data",
          "data": {
            "text/html": [
              "<table border=\"1\" class=\"dataframe\">\n",
              "  <thead>\n",
              "    <tr style=\"text-align: left;\">\n",
              "      <th>epoch</th>\n",
              "      <th>train_loss</th>\n",
              "      <th>valid_loss</th>\n",
              "      <th>accuracy</th>\n",
              "      <th>time</th>\n",
              "    </tr>\n",
              "  </thead>\n",
              "  <tbody>\n",
              "    <tr>\n",
              "      <td>0</td>\n",
              "      <td>6.197978</td>\n",
              "      <td>5.325115</td>\n",
              "      <td>0.142857</td>\n",
              "      <td>01:35</td>\n",
              "    </tr>\n",
              "  </tbody>\n",
              "</table>"
            ],
            "text/plain": [
              "<IPython.core.display.HTML object>"
            ]
          },
          "metadata": {
            "tags": []
          }
        }
      ]
    },
    {
      "cell_type": "code",
      "metadata": {
        "id": "Owff_BJXw53u",
        "outputId": "e822827e-640e-4348-bb86-d15ffe93b2b8",
        "colab": {
          "base_uri": "https://localhost:8080/",
          "height": 80
        }
      },
      "source": [
        "learn.unfreeze()\n",
        "learn.fit_one_cycle(1, slice(2e-3/100, 2e-3))"
      ],
      "execution_count": 28,
      "outputs": [
        {
          "output_type": "display_data",
          "data": {
            "text/html": [
              "<table border=\"1\" class=\"dataframe\">\n",
              "  <thead>\n",
              "    <tr style=\"text-align: left;\">\n",
              "      <th>epoch</th>\n",
              "      <th>train_loss</th>\n",
              "      <th>valid_loss</th>\n",
              "      <th>accuracy</th>\n",
              "      <th>time</th>\n",
              "    </tr>\n",
              "  </thead>\n",
              "  <tbody>\n",
              "    <tr>\n",
              "      <td>0</td>\n",
              "      <td>5.662212</td>\n",
              "      <td>4.990333</td>\n",
              "      <td>0.151786</td>\n",
              "      <td>03:29</td>\n",
              "    </tr>\n",
              "  </tbody>\n",
              "</table>"
            ],
            "text/plain": [
              "<IPython.core.display.HTML object>"
            ]
          },
          "metadata": {
            "tags": []
          }
        }
      ]
    },
    {
      "cell_type": "code",
      "metadata": {
        "id": "lqAyu56V8Waq",
        "outputId": "9eade3b0-7873-4bb0-cb54-75b97cbdd657",
        "colab": {
          "base_uri": "https://localhost:8080/",
          "height": 111
        }
      },
      "source": [
        "learn.fit_one_cycle(2, slice(2e-3/100, 2e-3))"
      ],
      "execution_count": 29,
      "outputs": [
        {
          "output_type": "display_data",
          "data": {
            "text/html": [
              "<table border=\"1\" class=\"dataframe\">\n",
              "  <thead>\n",
              "    <tr style=\"text-align: left;\">\n",
              "      <th>epoch</th>\n",
              "      <th>train_loss</th>\n",
              "      <th>valid_loss</th>\n",
              "      <th>accuracy</th>\n",
              "      <th>time</th>\n",
              "    </tr>\n",
              "  </thead>\n",
              "  <tbody>\n",
              "    <tr>\n",
              "      <td>0</td>\n",
              "      <td>5.391422</td>\n",
              "      <td>4.741348</td>\n",
              "      <td>0.169643</td>\n",
              "      <td>03:33</td>\n",
              "    </tr>\n",
              "    <tr>\n",
              "      <td>1</td>\n",
              "      <td>5.155743</td>\n",
              "      <td>4.594746</td>\n",
              "      <td>0.169643</td>\n",
              "      <td>03:18</td>\n",
              "    </tr>\n",
              "  </tbody>\n",
              "</table>"
            ],
            "text/plain": [
              "<IPython.core.display.HTML object>"
            ]
          },
          "metadata": {
            "tags": []
          }
        }
      ]
    },
    {
      "cell_type": "code",
      "metadata": {
        "id": "a7I1xMRp8bUd",
        "outputId": "6497e1a8-49fe-479a-a7f3-e7ec3e8cf243",
        "colab": {
          "base_uri": "https://localhost:8080/",
          "height": 111
        }
      },
      "source": [
        "learn.fit_one_cycle(2, slice(2e-3/100, 2e-3))"
      ],
      "execution_count": 30,
      "outputs": [
        {
          "output_type": "display_data",
          "data": {
            "text/html": [
              "<table border=\"1\" class=\"dataframe\">\n",
              "  <thead>\n",
              "    <tr style=\"text-align: left;\">\n",
              "      <th>epoch</th>\n",
              "      <th>train_loss</th>\n",
              "      <th>valid_loss</th>\n",
              "      <th>accuracy</th>\n",
              "      <th>time</th>\n",
              "    </tr>\n",
              "  </thead>\n",
              "  <tbody>\n",
              "    <tr>\n",
              "      <td>0</td>\n",
              "      <td>4.864609</td>\n",
              "      <td>4.412815</td>\n",
              "      <td>0.187500</td>\n",
              "      <td>03:27</td>\n",
              "    </tr>\n",
              "    <tr>\n",
              "      <td>1</td>\n",
              "      <td>4.723372</td>\n",
              "      <td>4.313911</td>\n",
              "      <td>0.214286</td>\n",
              "      <td>03:33</td>\n",
              "    </tr>\n",
              "  </tbody>\n",
              "</table>"
            ],
            "text/plain": [
              "<IPython.core.display.HTML object>"
            ]
          },
          "metadata": {
            "tags": []
          }
        }
      ]
    },
    {
      "cell_type": "code",
      "metadata": {
        "id": "UAnti-XmGVfO",
        "outputId": "62d0c511-7b30-4ae9-ca03-2f09177d453b",
        "colab": {
          "base_uri": "https://localhost:8080/",
          "height": 111
        }
      },
      "source": [
        "learn.fit_one_cycle(2, slice(2e-3/100, 2e-3))"
      ],
      "execution_count": 31,
      "outputs": [
        {
          "output_type": "display_data",
          "data": {
            "text/html": [
              "<table border=\"1\" class=\"dataframe\">\n",
              "  <thead>\n",
              "    <tr style=\"text-align: left;\">\n",
              "      <th>epoch</th>\n",
              "      <th>train_loss</th>\n",
              "      <th>valid_loss</th>\n",
              "      <th>accuracy</th>\n",
              "      <th>time</th>\n",
              "    </tr>\n",
              "  </thead>\n",
              "  <tbody>\n",
              "    <tr>\n",
              "      <td>0</td>\n",
              "      <td>4.469988</td>\n",
              "      <td>4.257329</td>\n",
              "      <td>0.205357</td>\n",
              "      <td>03:34</td>\n",
              "    </tr>\n",
              "    <tr>\n",
              "      <td>1</td>\n",
              "      <td>4.347415</td>\n",
              "      <td>4.187934</td>\n",
              "      <td>0.223214</td>\n",
              "      <td>03:19</td>\n",
              "    </tr>\n",
              "  </tbody>\n",
              "</table>"
            ],
            "text/plain": [
              "<IPython.core.display.HTML object>"
            ]
          },
          "metadata": {
            "tags": []
          }
        }
      ]
    },
    {
      "cell_type": "code",
      "metadata": {
        "id": "bIft7W25GwSu",
        "outputId": "b87d24df-5981-4384-d704-41ce341d37c2",
        "colab": {
          "base_uri": "https://localhost:8080/",
          "height": 111
        }
      },
      "source": [
        "learn.fit_one_cycle(2, slice(2e-3/100, 2e-3))"
      ],
      "execution_count": 32,
      "outputs": [
        {
          "output_type": "display_data",
          "data": {
            "text/html": [
              "<table border=\"1\" class=\"dataframe\">\n",
              "  <thead>\n",
              "    <tr style=\"text-align: left;\">\n",
              "      <th>epoch</th>\n",
              "      <th>train_loss</th>\n",
              "      <th>valid_loss</th>\n",
              "      <th>accuracy</th>\n",
              "      <th>time</th>\n",
              "    </tr>\n",
              "  </thead>\n",
              "  <tbody>\n",
              "    <tr>\n",
              "      <td>0</td>\n",
              "      <td>4.192441</td>\n",
              "      <td>4.136336</td>\n",
              "      <td>0.276786</td>\n",
              "      <td>03:36</td>\n",
              "    </tr>\n",
              "    <tr>\n",
              "      <td>1</td>\n",
              "      <td>4.052551</td>\n",
              "      <td>4.069140</td>\n",
              "      <td>0.312500</td>\n",
              "      <td>03:11</td>\n",
              "    </tr>\n",
              "  </tbody>\n",
              "</table>"
            ],
            "text/plain": [
              "<IPython.core.display.HTML object>"
            ]
          },
          "metadata": {
            "tags": []
          }
        }
      ]
    },
    {
      "cell_type": "code",
      "metadata": {
        "id": "EEHszVRvGyFt",
        "outputId": "cfd8c6cc-c9c3-4ed6-8643-372228c0983c",
        "colab": {
          "base_uri": "https://localhost:8080/",
          "height": 111
        }
      },
      "source": [
        "learn.fit_one_cycle(2, slice(2e-3/100, 2e-3))"
      ],
      "execution_count": 33,
      "outputs": [
        {
          "output_type": "display_data",
          "data": {
            "text/html": [
              "<table border=\"1\" class=\"dataframe\">\n",
              "  <thead>\n",
              "    <tr style=\"text-align: left;\">\n",
              "      <th>epoch</th>\n",
              "      <th>train_loss</th>\n",
              "      <th>valid_loss</th>\n",
              "      <th>accuracy</th>\n",
              "      <th>time</th>\n",
              "    </tr>\n",
              "  </thead>\n",
              "  <tbody>\n",
              "    <tr>\n",
              "      <td>0</td>\n",
              "      <td>3.788021</td>\n",
              "      <td>4.032811</td>\n",
              "      <td>0.303571</td>\n",
              "      <td>03:25</td>\n",
              "    </tr>\n",
              "    <tr>\n",
              "      <td>1</td>\n",
              "      <td>3.702178</td>\n",
              "      <td>4.031993</td>\n",
              "      <td>0.303571</td>\n",
              "      <td>03:21</td>\n",
              "    </tr>\n",
              "  </tbody>\n",
              "</table>"
            ],
            "text/plain": [
              "<IPython.core.display.HTML object>"
            ]
          },
          "metadata": {
            "tags": []
          }
        }
      ]
    },
    {
      "cell_type": "code",
      "metadata": {
        "id": "XsHfrhCHG3dN",
        "outputId": "3ce1f8a4-d087-4203-d9ca-10b6cef26264",
        "colab": {
          "base_uri": "https://localhost:8080/",
          "height": 173
        }
      },
      "source": [
        "learn.fit_one_cycle(4, slice(2e-3/100, 2e-3))"
      ],
      "execution_count": 34,
      "outputs": [
        {
          "output_type": "display_data",
          "data": {
            "text/html": [
              "<table border=\"1\" class=\"dataframe\">\n",
              "  <thead>\n",
              "    <tr style=\"text-align: left;\">\n",
              "      <th>epoch</th>\n",
              "      <th>train_loss</th>\n",
              "      <th>valid_loss</th>\n",
              "      <th>accuracy</th>\n",
              "      <th>time</th>\n",
              "    </tr>\n",
              "  </thead>\n",
              "  <tbody>\n",
              "    <tr>\n",
              "      <td>0</td>\n",
              "      <td>3.569830</td>\n",
              "      <td>3.927216</td>\n",
              "      <td>0.321429</td>\n",
              "      <td>03:16</td>\n",
              "    </tr>\n",
              "    <tr>\n",
              "      <td>1</td>\n",
              "      <td>3.460032</td>\n",
              "      <td>3.899640</td>\n",
              "      <td>0.321429</td>\n",
              "      <td>03:13</td>\n",
              "    </tr>\n",
              "    <tr>\n",
              "      <td>2</td>\n",
              "      <td>3.286352</td>\n",
              "      <td>3.911494</td>\n",
              "      <td>0.357143</td>\n",
              "      <td>03:14</td>\n",
              "    </tr>\n",
              "    <tr>\n",
              "      <td>3</td>\n",
              "      <td>3.126293</td>\n",
              "      <td>3.904783</td>\n",
              "      <td>0.348214</td>\n",
              "      <td>03:16</td>\n",
              "    </tr>\n",
              "  </tbody>\n",
              "</table>"
            ],
            "text/plain": [
              "<IPython.core.display.HTML object>"
            ]
          },
          "metadata": {
            "tags": []
          }
        }
      ]
    },
    {
      "cell_type": "code",
      "metadata": {
        "id": "0Zsd99isb9EQ",
        "outputId": "73947389-ac69-4708-ccf3-ffc21aa0bb13",
        "colab": {
          "base_uri": "https://localhost:8080/",
          "height": 173
        }
      },
      "source": [
        "learn.fit_one_cycle(4, slice(2e-3/100, 2e-3))"
      ],
      "execution_count": 35,
      "outputs": [
        {
          "output_type": "display_data",
          "data": {
            "text/html": [
              "<table border=\"1\" class=\"dataframe\">\n",
              "  <thead>\n",
              "    <tr style=\"text-align: left;\">\n",
              "      <th>epoch</th>\n",
              "      <th>train_loss</th>\n",
              "      <th>valid_loss</th>\n",
              "      <th>accuracy</th>\n",
              "      <th>time</th>\n",
              "    </tr>\n",
              "  </thead>\n",
              "  <tbody>\n",
              "    <tr>\n",
              "      <td>0</td>\n",
              "      <td>2.940219</td>\n",
              "      <td>3.809736</td>\n",
              "      <td>0.366071</td>\n",
              "      <td>03:24</td>\n",
              "    </tr>\n",
              "    <tr>\n",
              "      <td>1</td>\n",
              "      <td>2.875727</td>\n",
              "      <td>3.875622</td>\n",
              "      <td>0.339286</td>\n",
              "      <td>03:20</td>\n",
              "    </tr>\n",
              "    <tr>\n",
              "      <td>2</td>\n",
              "      <td>2.707787</td>\n",
              "      <td>3.789892</td>\n",
              "      <td>0.348214</td>\n",
              "      <td>03:16</td>\n",
              "    </tr>\n",
              "    <tr>\n",
              "      <td>3</td>\n",
              "      <td>2.535828</td>\n",
              "      <td>3.798527</td>\n",
              "      <td>0.339286</td>\n",
              "      <td>03:24</td>\n",
              "    </tr>\n",
              "  </tbody>\n",
              "</table>"
            ],
            "text/plain": [
              "<IPython.core.display.HTML object>"
            ]
          },
          "metadata": {
            "tags": []
          }
        }
      ]
    },
    {
      "cell_type": "code",
      "metadata": {
        "id": "atNWNKDFPbuI",
        "outputId": "6584f25d-99fd-45f7-c9c7-871b55dc124e",
        "colab": {
          "base_uri": "https://localhost:8080/",
          "height": 173
        }
      },
      "source": [
        "learn.fit_one_cycle(4, slice(2e-3/100, 2e-3))"
      ],
      "execution_count": 36,
      "outputs": [
        {
          "output_type": "display_data",
          "data": {
            "text/html": [
              "<table border=\"1\" class=\"dataframe\">\n",
              "  <thead>\n",
              "    <tr style=\"text-align: left;\">\n",
              "      <th>epoch</th>\n",
              "      <th>train_loss</th>\n",
              "      <th>valid_loss</th>\n",
              "      <th>accuracy</th>\n",
              "      <th>time</th>\n",
              "    </tr>\n",
              "  </thead>\n",
              "  <tbody>\n",
              "    <tr>\n",
              "      <td>0</td>\n",
              "      <td>2.404860</td>\n",
              "      <td>3.767904</td>\n",
              "      <td>0.357143</td>\n",
              "      <td>03:16</td>\n",
              "    </tr>\n",
              "    <tr>\n",
              "      <td>1</td>\n",
              "      <td>2.337050</td>\n",
              "      <td>3.850162</td>\n",
              "      <td>0.392857</td>\n",
              "      <td>03:27</td>\n",
              "    </tr>\n",
              "    <tr>\n",
              "      <td>2</td>\n",
              "      <td>2.177032</td>\n",
              "      <td>3.788058</td>\n",
              "      <td>0.366071</td>\n",
              "      <td>03:38</td>\n",
              "    </tr>\n",
              "    <tr>\n",
              "      <td>3</td>\n",
              "      <td>2.049552</td>\n",
              "      <td>3.808130</td>\n",
              "      <td>0.375000</td>\n",
              "      <td>03:36</td>\n",
              "    </tr>\n",
              "  </tbody>\n",
              "</table>"
            ],
            "text/plain": [
              "<IPython.core.display.HTML object>"
            ]
          },
          "metadata": {
            "tags": []
          }
        }
      ]
    },
    {
      "cell_type": "code",
      "metadata": {
        "id": "rKrBTZ0T1uVA",
        "outputId": "da67403a-a7ee-4cb0-a9ca-1f9c4abe9bad",
        "colab": {
          "base_uri": "https://localhost:8080/",
          "height": 173
        }
      },
      "source": [
        "learn.fit_one_cycle(4, slice(2e-3/100, 2e-3))"
      ],
      "execution_count": 37,
      "outputs": [
        {
          "output_type": "display_data",
          "data": {
            "text/html": [
              "<table border=\"1\" class=\"dataframe\">\n",
              "  <thead>\n",
              "    <tr style=\"text-align: left;\">\n",
              "      <th>epoch</th>\n",
              "      <th>train_loss</th>\n",
              "      <th>valid_loss</th>\n",
              "      <th>accuracy</th>\n",
              "      <th>time</th>\n",
              "    </tr>\n",
              "  </thead>\n",
              "  <tbody>\n",
              "    <tr>\n",
              "      <td>0</td>\n",
              "      <td>1.908494</td>\n",
              "      <td>3.834584</td>\n",
              "      <td>0.410714</td>\n",
              "      <td>03:25</td>\n",
              "    </tr>\n",
              "    <tr>\n",
              "      <td>1</td>\n",
              "      <td>1.886477</td>\n",
              "      <td>3.933881</td>\n",
              "      <td>0.401786</td>\n",
              "      <td>03:27</td>\n",
              "    </tr>\n",
              "    <tr>\n",
              "      <td>2</td>\n",
              "      <td>1.743027</td>\n",
              "      <td>3.939812</td>\n",
              "      <td>0.401786</td>\n",
              "      <td>03:15</td>\n",
              "    </tr>\n",
              "    <tr>\n",
              "      <td>3</td>\n",
              "      <td>1.609113</td>\n",
              "      <td>3.931922</td>\n",
              "      <td>0.401786</td>\n",
              "      <td>03:13</td>\n",
              "    </tr>\n",
              "  </tbody>\n",
              "</table>"
            ],
            "text/plain": [
              "<IPython.core.display.HTML object>"
            ]
          },
          "metadata": {
            "tags": []
          }
        }
      ]
    },
    {
      "cell_type": "code",
      "metadata": {
        "id": "ajQC6WDg1yA9",
        "outputId": "f4b98df8-9ed8-471d-8e6d-5512582ccd49",
        "colab": {
          "base_uri": "https://localhost:8080/",
          "height": 173
        }
      },
      "source": [
        "learn.fit_one_cycle(4, slice(2e-3/100, 2e-3))"
      ],
      "execution_count": 38,
      "outputs": [
        {
          "output_type": "display_data",
          "data": {
            "text/html": [
              "<table border=\"1\" class=\"dataframe\">\n",
              "  <thead>\n",
              "    <tr style=\"text-align: left;\">\n",
              "      <th>epoch</th>\n",
              "      <th>train_loss</th>\n",
              "      <th>valid_loss</th>\n",
              "      <th>accuracy</th>\n",
              "      <th>time</th>\n",
              "    </tr>\n",
              "  </thead>\n",
              "  <tbody>\n",
              "    <tr>\n",
              "      <td>0</td>\n",
              "      <td>1.471459</td>\n",
              "      <td>3.928617</td>\n",
              "      <td>0.383929</td>\n",
              "      <td>03:23</td>\n",
              "    </tr>\n",
              "    <tr>\n",
              "      <td>1</td>\n",
              "      <td>1.500539</td>\n",
              "      <td>4.078428</td>\n",
              "      <td>0.392857</td>\n",
              "      <td>03:31</td>\n",
              "    </tr>\n",
              "    <tr>\n",
              "      <td>2</td>\n",
              "      <td>1.387834</td>\n",
              "      <td>4.092022</td>\n",
              "      <td>0.392857</td>\n",
              "      <td>03:33</td>\n",
              "    </tr>\n",
              "    <tr>\n",
              "      <td>3</td>\n",
              "      <td>1.257918</td>\n",
              "      <td>4.149721</td>\n",
              "      <td>0.383929</td>\n",
              "      <td>03:34</td>\n",
              "    </tr>\n",
              "  </tbody>\n",
              "</table>"
            ],
            "text/plain": [
              "<IPython.core.display.HTML object>"
            ]
          },
          "metadata": {
            "tags": []
          }
        }
      ]
    },
    {
      "cell_type": "code",
      "metadata": {
        "id": "KKydb0B4BKGk",
        "outputId": "6f500802-b9d2-4f32-a899-f88835609ebb",
        "colab": {
          "base_uri": "https://localhost:8080/",
          "height": 173
        }
      },
      "source": [
        "learn.fit_one_cycle(4, slice(2e-3/100, 2e-3))"
      ],
      "execution_count": 39,
      "outputs": [
        {
          "output_type": "display_data",
          "data": {
            "text/html": [
              "<table border=\"1\" class=\"dataframe\">\n",
              "  <thead>\n",
              "    <tr style=\"text-align: left;\">\n",
              "      <th>epoch</th>\n",
              "      <th>train_loss</th>\n",
              "      <th>valid_loss</th>\n",
              "      <th>accuracy</th>\n",
              "      <th>time</th>\n",
              "    </tr>\n",
              "  </thead>\n",
              "  <tbody>\n",
              "    <tr>\n",
              "      <td>0</td>\n",
              "      <td>1.151620</td>\n",
              "      <td>4.081972</td>\n",
              "      <td>0.392857</td>\n",
              "      <td>03:37</td>\n",
              "    </tr>\n",
              "    <tr>\n",
              "      <td>1</td>\n",
              "      <td>1.162033</td>\n",
              "      <td>4.268556</td>\n",
              "      <td>0.357143</td>\n",
              "      <td>03:19</td>\n",
              "    </tr>\n",
              "    <tr>\n",
              "      <td>2</td>\n",
              "      <td>1.064536</td>\n",
              "      <td>4.254947</td>\n",
              "      <td>0.383929</td>\n",
              "      <td>03:21</td>\n",
              "    </tr>\n",
              "    <tr>\n",
              "      <td>3</td>\n",
              "      <td>0.988495</td>\n",
              "      <td>4.219670</td>\n",
              "      <td>0.383929</td>\n",
              "      <td>03:32</td>\n",
              "    </tr>\n",
              "  </tbody>\n",
              "</table>"
            ],
            "text/plain": [
              "<IPython.core.display.HTML object>"
            ]
          },
          "metadata": {
            "tags": []
          }
        }
      ]
    },
    {
      "cell_type": "code",
      "metadata": {
        "id": "T2APKtFKBpGY",
        "outputId": "37796ed5-0103-4c7c-894b-485c3bb82090",
        "colab": {
          "base_uri": "https://localhost:8080/",
          "height": 173
        }
      },
      "source": [
        "learn.fit_one_cycle(4, slice(2e-3/100, 2e-3))"
      ],
      "execution_count": 40,
      "outputs": [
        {
          "output_type": "display_data",
          "data": {
            "text/html": [
              "<table border=\"1\" class=\"dataframe\">\n",
              "  <thead>\n",
              "    <tr style=\"text-align: left;\">\n",
              "      <th>epoch</th>\n",
              "      <th>train_loss</th>\n",
              "      <th>valid_loss</th>\n",
              "      <th>accuracy</th>\n",
              "      <th>time</th>\n",
              "    </tr>\n",
              "  </thead>\n",
              "  <tbody>\n",
              "    <tr>\n",
              "      <td>0</td>\n",
              "      <td>0.894991</td>\n",
              "      <td>4.295368</td>\n",
              "      <td>0.375000</td>\n",
              "      <td>03:14</td>\n",
              "    </tr>\n",
              "    <tr>\n",
              "      <td>1</td>\n",
              "      <td>0.945415</td>\n",
              "      <td>4.274719</td>\n",
              "      <td>0.383929</td>\n",
              "      <td>03:40</td>\n",
              "    </tr>\n",
              "    <tr>\n",
              "      <td>2</td>\n",
              "      <td>0.877849</td>\n",
              "      <td>4.270543</td>\n",
              "      <td>0.392857</td>\n",
              "      <td>03:32</td>\n",
              "    </tr>\n",
              "    <tr>\n",
              "      <td>3</td>\n",
              "      <td>0.808763</td>\n",
              "      <td>4.348082</td>\n",
              "      <td>0.392857</td>\n",
              "      <td>03:19</td>\n",
              "    </tr>\n",
              "  </tbody>\n",
              "</table>"
            ],
            "text/plain": [
              "<IPython.core.display.HTML object>"
            ]
          },
          "metadata": {
            "tags": []
          }
        }
      ]
    },
    {
      "cell_type": "code",
      "metadata": {
        "id": "qtTypA1sPgLU",
        "outputId": "a68f7944-e36b-453e-b008-14ef7f7749cd",
        "colab": {
          "base_uri": "https://localhost:8080/",
          "height": 111
        }
      },
      "source": [
        "learn.fit_one_cycle(2, slice(2e-3/100, 2e-3))"
      ],
      "execution_count": 41,
      "outputs": [
        {
          "output_type": "display_data",
          "data": {
            "text/html": [
              "<table border=\"1\" class=\"dataframe\">\n",
              "  <thead>\n",
              "    <tr style=\"text-align: left;\">\n",
              "      <th>epoch</th>\n",
              "      <th>train_loss</th>\n",
              "      <th>valid_loss</th>\n",
              "      <th>accuracy</th>\n",
              "      <th>time</th>\n",
              "    </tr>\n",
              "  </thead>\n",
              "  <tbody>\n",
              "    <tr>\n",
              "      <td>0</td>\n",
              "      <td>0.769339</td>\n",
              "      <td>4.425843</td>\n",
              "      <td>0.383929</td>\n",
              "      <td>03:22</td>\n",
              "    </tr>\n",
              "    <tr>\n",
              "      <td>1</td>\n",
              "      <td>0.740459</td>\n",
              "      <td>4.429900</td>\n",
              "      <td>0.392857</td>\n",
              "      <td>03:16</td>\n",
              "    </tr>\n",
              "  </tbody>\n",
              "</table>"
            ],
            "text/plain": [
              "<IPython.core.display.HTML object>"
            ]
          },
          "metadata": {
            "tags": []
          }
        }
      ]
    },
    {
      "cell_type": "code",
      "metadata": {
        "id": "b242kBsTUp9Y",
        "outputId": "f9dae207-17ae-4c7a-f876-212c9b41573b",
        "colab": {
          "base_uri": "https://localhost:8080/",
          "height": 111
        }
      },
      "source": [
        "learn.fit_one_cycle(2, slice(2e-3/100, 2e-3))"
      ],
      "execution_count": 42,
      "outputs": [
        {
          "output_type": "display_data",
          "data": {
            "text/html": [
              "<table border=\"1\" class=\"dataframe\">\n",
              "  <thead>\n",
              "    <tr style=\"text-align: left;\">\n",
              "      <th>epoch</th>\n",
              "      <th>train_loss</th>\n",
              "      <th>valid_loss</th>\n",
              "      <th>accuracy</th>\n",
              "      <th>time</th>\n",
              "    </tr>\n",
              "  </thead>\n",
              "  <tbody>\n",
              "    <tr>\n",
              "      <td>0</td>\n",
              "      <td>0.720972</td>\n",
              "      <td>4.444284</td>\n",
              "      <td>0.375000</td>\n",
              "      <td>03:17</td>\n",
              "    </tr>\n",
              "    <tr>\n",
              "      <td>1</td>\n",
              "      <td>0.686523</td>\n",
              "      <td>4.448393</td>\n",
              "      <td>0.375000</td>\n",
              "      <td>03:16</td>\n",
              "    </tr>\n",
              "  </tbody>\n",
              "</table>"
            ],
            "text/plain": [
              "<IPython.core.display.HTML object>"
            ]
          },
          "metadata": {
            "tags": []
          }
        }
      ]
    },
    {
      "cell_type": "code",
      "metadata": {
        "id": "Duwf1Ih5VeDZ",
        "outputId": "cdeba8fe-3b62-41b3-e4e8-6b71c6d16a0d",
        "colab": {
          "base_uri": "https://localhost:8080/",
          "height": 80
        }
      },
      "source": [
        "learn.fit_one_cycle(1, slice(2e-3/100, 2e-3))"
      ],
      "execution_count": 43,
      "outputs": [
        {
          "output_type": "display_data",
          "data": {
            "text/html": [
              "<table border=\"1\" class=\"dataframe\">\n",
              "  <thead>\n",
              "    <tr style=\"text-align: left;\">\n",
              "      <th>epoch</th>\n",
              "      <th>train_loss</th>\n",
              "      <th>valid_loss</th>\n",
              "      <th>accuracy</th>\n",
              "      <th>time</th>\n",
              "    </tr>\n",
              "  </thead>\n",
              "  <tbody>\n",
              "    <tr>\n",
              "      <td>0</td>\n",
              "      <td>0.662411</td>\n",
              "      <td>4.699022</td>\n",
              "      <td>0.357143</td>\n",
              "      <td>03:12</td>\n",
              "    </tr>\n",
              "  </tbody>\n",
              "</table>"
            ],
            "text/plain": [
              "<IPython.core.display.HTML object>"
            ]
          },
          "metadata": {
            "tags": []
          }
        }
      ]
    },
    {
      "cell_type": "code",
      "metadata": {
        "id": "c65d-osfDUXm"
      },
      "source": [
        "# save the best model\n",
        "\n",
        "learn.save_encoder('TwADR_pubmed_fold6')"
      ],
      "execution_count": 44,
      "outputs": []
    },
    {
      "cell_type": "code",
      "metadata": {
        "id": "5h-A_GpAIYg8",
        "outputId": "00e97f40-2bc4-401e-ec00-56af0ac421b5",
        "colab": {
          "base_uri": "https://localhost:8080/",
          "height": 80
        }
      },
      "source": [
        "learn.fit_one_cycle(1, slice(2e-3/100, 2e-3))"
      ],
      "execution_count": 45,
      "outputs": [
        {
          "output_type": "display_data",
          "data": {
            "text/html": [
              "<table border=\"1\" class=\"dataframe\">\n",
              "  <thead>\n",
              "    <tr style=\"text-align: left;\">\n",
              "      <th>epoch</th>\n",
              "      <th>train_loss</th>\n",
              "      <th>valid_loss</th>\n",
              "      <th>accuracy</th>\n",
              "      <th>time</th>\n",
              "    </tr>\n",
              "  </thead>\n",
              "  <tbody>\n",
              "    <tr>\n",
              "      <td>0</td>\n",
              "      <td>0.652428</td>\n",
              "      <td>4.614804</td>\n",
              "      <td>0.392857</td>\n",
              "      <td>03:31</td>\n",
              "    </tr>\n",
              "  </tbody>\n",
              "</table>"
            ],
            "text/plain": [
              "<IPython.core.display.HTML object>"
            ]
          },
          "metadata": {
            "tags": []
          }
        }
      ]
    },
    {
      "cell_type": "code",
      "metadata": {
        "id": "qc4poYxzIwca",
        "outputId": "4e0aab45-da08-476a-a718-8fe058b86517",
        "colab": {
          "base_uri": "https://localhost:8080/",
          "height": 80
        }
      },
      "source": [
        "learn.fit_one_cycle(1, slice(2e-3/100, 2e-3))"
      ],
      "execution_count": 46,
      "outputs": [
        {
          "output_type": "display_data",
          "data": {
            "text/html": [
              "<table border=\"1\" class=\"dataframe\">\n",
              "  <thead>\n",
              "    <tr style=\"text-align: left;\">\n",
              "      <th>epoch</th>\n",
              "      <th>train_loss</th>\n",
              "      <th>valid_loss</th>\n",
              "      <th>accuracy</th>\n",
              "      <th>time</th>\n",
              "    </tr>\n",
              "  </thead>\n",
              "  <tbody>\n",
              "    <tr>\n",
              "      <td>0</td>\n",
              "      <td>0.619351</td>\n",
              "      <td>4.626701</td>\n",
              "      <td>0.383929</td>\n",
              "      <td>03:33</td>\n",
              "    </tr>\n",
              "  </tbody>\n",
              "</table>"
            ],
            "text/plain": [
              "<IPython.core.display.HTML object>"
            ]
          },
          "metadata": {
            "tags": []
          }
        }
      ]
    },
    {
      "cell_type": "code",
      "metadata": {
        "id": "66s4PxV1JVfo",
        "outputId": "448eb564-f689-4704-8b51-6a00830291bf",
        "colab": {
          "base_uri": "https://localhost:8080/",
          "height": 80
        }
      },
      "source": [
        "learn.fit_one_cycle(1, slice(2e-3/100, 2e-3))"
      ],
      "execution_count": 47,
      "outputs": [
        {
          "output_type": "display_data",
          "data": {
            "text/html": [
              "<table border=\"1\" class=\"dataframe\">\n",
              "  <thead>\n",
              "    <tr style=\"text-align: left;\">\n",
              "      <th>epoch</th>\n",
              "      <th>train_loss</th>\n",
              "      <th>valid_loss</th>\n",
              "      <th>accuracy</th>\n",
              "      <th>time</th>\n",
              "    </tr>\n",
              "  </thead>\n",
              "  <tbody>\n",
              "    <tr>\n",
              "      <td>0</td>\n",
              "      <td>0.588820</td>\n",
              "      <td>4.670763</td>\n",
              "      <td>0.410714</td>\n",
              "      <td>03:18</td>\n",
              "    </tr>\n",
              "  </tbody>\n",
              "</table>"
            ],
            "text/plain": [
              "<IPython.core.display.HTML object>"
            ]
          },
          "metadata": {
            "tags": []
          }
        }
      ]
    },
    {
      "cell_type": "markdown",
      "metadata": {
        "id": "rCwZU0E2RgM6"
      },
      "source": [
        "# Part three: Predict on the test dataset"
      ]
    },
    {
      "cell_type": "code",
      "metadata": {
        "id": "gDm72c-dOu7d",
        "outputId": "2c60c290-dca4-4684-d2a0-e3c1619651a9",
        "colab": {
          "base_uri": "https://localhost:8080/",
          "height": 17
        }
      },
      "source": [
        "# use the test data for prediction\n",
        "\n",
        "preds, y = learn.get_preds(DatasetType.Test)"
      ],
      "execution_count": 48,
      "outputs": [
        {
          "output_type": "display_data",
          "data": {
            "text/html": [
              ""
            ],
            "text/plain": [
              "<IPython.core.display.HTML object>"
            ]
          },
          "metadata": {
            "tags": []
          }
        }
      ]
    },
    {
      "cell_type": "code",
      "metadata": {
        "id": "6tFSQcsWPvxn",
        "outputId": "2bc41c95-c087-4d0d-8c57-c87ed7c7197d",
        "colab": {
          "base_uri": "https://localhost:8080/",
          "height": 105
        }
      },
      "source": [
        "predictions, *_ = learn.get_preds(DatasetType.Test)\n",
        "labels = np.argmax(predictions, 1)\n",
        "predict_list = labels.tolist()\n",
        "standard_list = test[0].tolist()\n",
        "\n",
        "print(len(predict_list))\n",
        "print(len(standard_list))\n",
        "\n",
        "print(predict_list)\n",
        "print(standard_list)"
      ],
      "execution_count": 49,
      "outputs": [
        {
          "output_type": "display_data",
          "data": {
            "text/html": [
              ""
            ],
            "text/plain": [
              "<IPython.core.display.HTML object>"
            ]
          },
          "metadata": {
            "tags": []
          }
        },
        {
          "output_type": "stream",
          "text": [
            "143\n",
            "143\n",
            "[1787, 24, 1597, 1204, 978, 1096, 189, 1767, 189, 217, 224, 224, 825, 1936, 1936, 233, 1711, 1327, 1599, 1136, 426, 532, 561, 1920, 1920, 706, 1610, 1529, 755, 824, 792, 809, 593, 1529, 1610, 825, 441, 466, 908, 452, 923, 1940, 974, 1529, 978, 978, 441, 978, 1936, 1767, 1669, 483, 1669, 1099, 1769, 1483, 441, 824, 561, 1594, 1711, 561, 1204, 825, 250, 1265, 1265, 1942, 1295, 1610, 1308, 824, 371, 1340, 418, 24, 1669, 1610, 1327, 1711, 362, 249, 1597, 1597, 791, 1597, 1610, 1610, 1610, 1680, 1787, 1727, 1787, 2032, 265, 1727, 1727, 1341, 1767, 1767, 1669, 749, 1427, 1787, 2032, 1787, 1787, 1787, 1787, 978, 56, 824, 1884, 1432, 1936, 1936, 233, 1936, 1857, 1942, 1099, 452, 1484, 452, 2018, 2024, 2032, 2147, 1769, 1508, 1508, 426, 2103, 233, 441, 1546, 233, 233, 233, 233, 2149, 1521, 1521]\n",
            "[13, 24, 74, 85, 94, 187, 189, 189, 189, 217, 224, 224, 224, 233, 233, 233, 265, 355, 392, 396, 426, 532, 561, 600, 600, 706, 744, 749, 755, 791, 792, 809, 818, 818, 819, 825, 852, 858, 908, 908, 923, 966, 974, 974, 978, 978, 978, 978, 1073, 1073, 1073, 1096, 1099, 1099, 1099, 1125, 1136, 1136, 1145, 1163, 1175, 1199, 1204, 1204, 1204, 1265, 1265, 1295, 1295, 1295, 1308, 1308, 1327, 1340, 1373, 1458, 1507, 1511, 1524, 1531, 1582, 1597, 1597, 1597, 1597, 1597, 1610, 1610, 1676, 1680, 1718, 1718, 1718, 1718, 1724, 1727, 1727, 1727, 1767, 1767, 1767, 1769, 1769, 1787, 1787, 1787, 1787, 1787, 1787, 1822, 1845, 1884, 1884, 1924, 1936, 1936, 1936, 1936, 1940, 1942, 1942, 1942, 1974, 2002, 2018, 2024, 2032, 2032, 2074, 2077, 2077, 2103, 2123, 2147, 2147, 2147, 2147, 2147, 2147, 2147, 2149, 2191, 2194]\n"
          ],
          "name": "stdout"
        }
      ]
    },
    {
      "cell_type": "code",
      "metadata": {
        "id": "XIC4zufnMxtq",
        "outputId": "b33eb71b-81c2-4c23-8e81-24437957a8cd",
        "colab": {
          "base_uri": "https://localhost:8080/"
        }
      },
      "source": [
        "correct_num = 0\n",
        "\n",
        "for i in range(0, len(standard_list)):\n",
        "  if predict_list[i] == standard_list[i]:\n",
        "    correct_num = correct_num+1\n",
        "  else:\n",
        "    pass\n",
        "print(correct_num)\n",
        "\n",
        "predict_accuracy = correct_num/len(predict_list)\n",
        "print(predict_accuracy)"
      ],
      "execution_count": 50,
      "outputs": [
        {
          "output_type": "stream",
          "text": [
            "52\n",
            "0.36363636363636365\n"
          ],
          "name": "stdout"
        }
      ]
    },
    {
      "cell_type": "code",
      "metadata": {
        "id": "zlKMHp1CIaRJ"
      },
      "source": [
        ""
      ],
      "execution_count": 50,
      "outputs": []
    }
  ]
}