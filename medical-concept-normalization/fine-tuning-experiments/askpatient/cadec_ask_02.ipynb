{
  "nbformat": 4,
  "nbformat_minor": 0,
  "metadata": {
    "accelerator": "TPU",
    "colab": {
      "name": "cadec_ask_02.ipynb",
      "provenance": [],
      "collapsed_sections": [],
      "include_colab_link": true
    },
    "kernelspec": {
      "display_name": "Python 3",
      "name": "python3"
    }
  },
  "cells": [
    {
      "cell_type": "markdown",
      "metadata": {
        "id": "view-in-github",
        "colab_type": "text"
      },
      "source": [
        "<a href=\"https://colab.research.google.com/github/unt-iialab/medical-concept-normalization/blob/master/medical-concept-normalization/fine-tuning-experiments/askpatient/cadec_ask_02.ipynb\" target=\"_parent\"><img src=\"https://colab.research.google.com/assets/colab-badge.svg\" alt=\"Open In Colab\"/></a>"
      ]
    },
    {
      "cell_type": "code",
      "metadata": {
        "id": "adSi6i2-dWxy"
      },
      "source": [
        "import os"
      ],
      "execution_count": 1,
      "outputs": []
    },
    {
      "cell_type": "code",
      "metadata": {
        "id": "E7xYCRGPjd9B"
      },
      "source": [
        "base_dir = 'medical-concept-normalization'"
      ],
      "execution_count": 2,
      "outputs": []
    },
    {
      "cell_type": "code",
      "metadata": {
        "id": "yvIW3aUDjYNS"
      },
      "source": [
        "os.mkdir(base_dir)"
      ],
      "execution_count": 3,
      "outputs": []
    },
    {
      "cell_type": "code",
      "metadata": {
        "id": "es-FFLlfk6SG"
      },
      "source": [
        "os.mkdir('medical-concept-normalization/data_collection')"
      ],
      "execution_count": 4,
      "outputs": []
    },
    {
      "cell_type": "markdown",
      "metadata": {
        "id": "0R-Guw_VoJXm"
      },
      "source": [
        "**Install fastai and clone the fastai for text classification**\n",
        "\n"
      ]
    },
    {
      "cell_type": "code",
      "metadata": {
        "id": "QVZa3Z0PmHFH",
        "outputId": "c37c18ad-e5f8-4349-f7d9-dafbe91eeed2",
        "colab": {
          "base_uri": "https://localhost:8080/"
        }
      },
      "source": [
        "!curl https://course-v3.fast.ai/setup/colab | bash"
      ],
      "execution_count": 5,
      "outputs": [
        {
          "output_type": "stream",
          "text": [
            "  % Total    % Received % Xferd  Average Speed   Time    Time     Time  Current\n",
            "                                 Dload  Upload   Total   Spent    Left  Speed\n",
            "\r  0     0    0     0    0     0      0      0 --:--:-- --:--:-- --:--:--     0curl: (6) Could not resolve host: course-v3.fast.ai\n"
          ],
          "name": "stdout"
        }
      ]
    },
    {
      "cell_type": "code",
      "metadata": {
        "id": "_FBFFEBrmJC0",
        "outputId": "5fd3f406-0e47-432d-b238-d5e979057404",
        "colab": {
          "base_uri": "https://localhost:8080/"
        }
      },
      "source": [
        "!git clone https://github.com/wshuyi/demo-nlp-classification-fastai.git"
      ],
      "execution_count": 6,
      "outputs": [
        {
          "output_type": "stream",
          "text": [
            "Cloning into 'demo-nlp-classification-fastai'...\n",
            "remote: Enumerating objects: 9, done.\u001b[K\n",
            "remote: Total 9 (delta 0), reused 0 (delta 0), pack-reused 9\u001b[K\n",
            "Unpacking objects: 100% (9/9), done.\n"
          ],
          "name": "stdout"
        }
      ]
    },
    {
      "cell_type": "code",
      "metadata": {
        "id": "66zfh_JqmWMU"
      },
      "source": [
        "from fastai import *\n",
        "from fastai.text import *"
      ],
      "execution_count": 7,
      "outputs": []
    },
    {
      "cell_type": "markdown",
      "metadata": {
        "id": "mNIw-yALdBU9"
      },
      "source": [
        "**Set the path of the data collections**"
      ]
    },
    {
      "cell_type": "code",
      "metadata": {
        "id": "pzH7VMh4mqCL"
      },
      "source": [
        "path = Path('medical-concept-normalization/data_collection')"
      ],
      "execution_count": 8,
      "outputs": []
    },
    {
      "cell_type": "code",
      "metadata": {
        "id": "b8fjI6yyn4aS"
      },
      "source": [
        "# training data set\n",
        "\n",
        "train_csv = path/'AskAPatient.fold-2.train.csv'\n",
        "train = pd.read_csv(train_csv, header=None)\n",
        "#train.head()\n",
        "#train.info()"
      ],
      "execution_count": 10,
      "outputs": []
    },
    {
      "cell_type": "code",
      "metadata": {
        "id": "Hmlr-bAorfHd",
        "outputId": "4e800dcd-a98a-41fd-dcd8-f54b448e486d",
        "colab": {
          "base_uri": "https://localhost:8080/",
          "height": 204
        }
      },
      "source": [
        "# validating data set\n",
        "\n",
        "valid = pd.read_csv(path/\"AskAPatient.fold-2.validation.csv\",header=None)\n",
        "valid.head()"
      ],
      "execution_count": 11,
      "outputs": [
        {
          "output_type": "execute_result",
          "data": {
            "text/html": [
              "<div>\n",
              "<style scoped>\n",
              "    .dataframe tbody tr th:only-of-type {\n",
              "        vertical-align: middle;\n",
              "    }\n",
              "\n",
              "    .dataframe tbody tr th {\n",
              "        vertical-align: top;\n",
              "    }\n",
              "\n",
              "    .dataframe thead th {\n",
              "        text-align: right;\n",
              "    }\n",
              "</style>\n",
              "<table border=\"1\" class=\"dataframe\">\n",
              "  <thead>\n",
              "    <tr style=\"text-align: right;\">\n",
              "      <th></th>\n",
              "      <th>0</th>\n",
              "      <th>1</th>\n",
              "    </tr>\n",
              "  </thead>\n",
              "  <tbody>\n",
              "    <tr>\n",
              "      <th>0</th>\n",
              "      <td>2</td>\n",
              "      <td>left heel pain</td>\n",
              "    </tr>\n",
              "    <tr>\n",
              "      <th>1</th>\n",
              "      <td>4</td>\n",
              "      <td>Discoloration of skin [blotchy] on the neck</td>\n",
              "    </tr>\n",
              "    <tr>\n",
              "      <th>2</th>\n",
              "      <td>7</td>\n",
              "      <td>goiter</td>\n",
              "    </tr>\n",
              "    <tr>\n",
              "      <th>3</th>\n",
              "      <td>8</td>\n",
              "      <td>arthritis</td>\n",
              "    </tr>\n",
              "    <tr>\n",
              "      <th>4</th>\n",
              "      <td>8</td>\n",
              "      <td>arthritis</td>\n",
              "    </tr>\n",
              "  </tbody>\n",
              "</table>\n",
              "</div>"
            ],
            "text/plain": [
              "   0                                            1\n",
              "0  2                               left heel pain\n",
              "1  4  Discoloration of skin [blotchy] on the neck\n",
              "2  7                                       goiter\n",
              "3  8                                    arthritis\n",
              "4  8                                    arthritis"
            ]
          },
          "metadata": {
            "tags": []
          },
          "execution_count": 11
        }
      ]
    },
    {
      "cell_type": "code",
      "metadata": {
        "id": "cOza9dfSsBud",
        "outputId": "21a2a8e3-f9d9-4915-eabd-1123bcca4821",
        "colab": {
          "base_uri": "https://localhost:8080/",
          "height": 204
        }
      },
      "source": [
        "# testing data set\n",
        "\n",
        "test = pd.read_csv(path/\"AskAPatient.fold-2.test.csv\",header=None)\n",
        "test.head()"
      ],
      "execution_count": 12,
      "outputs": [
        {
          "output_type": "execute_result",
          "data": {
            "text/html": [
              "<div>\n",
              "<style scoped>\n",
              "    .dataframe tbody tr th:only-of-type {\n",
              "        vertical-align: middle;\n",
              "    }\n",
              "\n",
              "    .dataframe tbody tr th {\n",
              "        vertical-align: top;\n",
              "    }\n",
              "\n",
              "    .dataframe thead th {\n",
              "        text-align: right;\n",
              "    }\n",
              "</style>\n",
              "<table border=\"1\" class=\"dataframe\">\n",
              "  <thead>\n",
              "    <tr style=\"text-align: right;\">\n",
              "      <th></th>\n",
              "      <th>0</th>\n",
              "      <th>1</th>\n",
              "    </tr>\n",
              "  </thead>\n",
              "  <tbody>\n",
              "    <tr>\n",
              "      <th>0</th>\n",
              "      <td>2</td>\n",
              "      <td>right heel pain</td>\n",
              "    </tr>\n",
              "    <tr>\n",
              "      <th>1</th>\n",
              "      <td>4</td>\n",
              "      <td>black and blue marks</td>\n",
              "    </tr>\n",
              "    <tr>\n",
              "      <th>2</th>\n",
              "      <td>8</td>\n",
              "      <td>arthritice</td>\n",
              "    </tr>\n",
              "    <tr>\n",
              "      <th>3</th>\n",
              "      <td>8</td>\n",
              "      <td>arthritis</td>\n",
              "    </tr>\n",
              "    <tr>\n",
              "      <th>4</th>\n",
              "      <td>8</td>\n",
              "      <td>arthritis</td>\n",
              "    </tr>\n",
              "  </tbody>\n",
              "</table>\n",
              "</div>"
            ],
            "text/plain": [
              "   0                     1\n",
              "0  2       right heel pain\n",
              "1  4  black and blue marks\n",
              "2  8            arthritice\n",
              "3  8             arthritis\n",
              "4  8             arthritis"
            ]
          },
          "metadata": {
            "tags": []
          },
          "execution_count": 12
        }
      ]
    },
    {
      "cell_type": "code",
      "metadata": {
        "id": "Vo-YNvVYoaH6",
        "outputId": "cb1294b1-0836-4686-bb1b-ceb3198ebff1",
        "colab": {
          "base_uri": "https://localhost:8080/",
          "height": 17
        }
      },
      "source": [
        "# Creating DataBunch for language modelling\n",
        "\n",
        "data_lm = TextLMDataBunch.from_csv(path, 'cadec_ask.csv')"
      ],
      "execution_count": 13,
      "outputs": [
        {
          "output_type": "display_data",
          "data": {
            "text/html": [
              ""
            ],
            "text/plain": [
              "<IPython.core.display.HTML object>"
            ]
          },
          "metadata": {
            "tags": []
          }
        },
        {
          "output_type": "display_data",
          "data": {
            "text/html": [
              ""
            ],
            "text/plain": [
              "<IPython.core.display.HTML object>"
            ]
          },
          "metadata": {
            "tags": []
          }
        }
      ]
    },
    {
      "cell_type": "code",
      "metadata": {
        "id": "qcV-9kMnNLBf"
      },
      "source": [
        ""
      ],
      "execution_count": 13,
      "outputs": []
    },
    {
      "cell_type": "code",
      "metadata": {
        "id": "1ScY9afDsnvE"
      },
      "source": [
        "# Creating DataBunch for classification\n",
        "\n",
        "# data_clas = TextClasDataBunch.from_df(path, train, valid, test, vocab=data_lm.train_ds.vocab, bs=128)"
      ],
      "execution_count": 14,
      "outputs": []
    },
    {
      "cell_type": "code",
      "metadata": {
        "id": "gzrSdQcvey9p",
        "outputId": "2eb507ec-b67d-4743-e786-be8dbf05acfd",
        "colab": {
          "base_uri": "https://localhost:8080/",
          "height": 17
        }
      },
      "source": [
        "data_clas = TextClasDataBunch.from_df(path, train, valid, vocab=data_lm.train_ds.vocab, bs=128)"
      ],
      "execution_count": 15,
      "outputs": [
        {
          "output_type": "display_data",
          "data": {
            "text/html": [
              ""
            ],
            "text/plain": [
              "<IPython.core.display.HTML object>"
            ]
          },
          "metadata": {
            "tags": []
          }
        },
        {
          "output_type": "display_data",
          "data": {
            "text/html": [
              ""
            ],
            "text/plain": [
              "<IPython.core.display.HTML object>"
            ]
          },
          "metadata": {
            "tags": []
          }
        }
      ]
    },
    {
      "cell_type": "code",
      "metadata": {
        "id": "MD27Tf0Ke3ou",
        "outputId": "cb5923fb-cab1-4cf7-956f-7678f0af076d",
        "colab": {
          "base_uri": "https://localhost:8080/",
          "height": 17
        }
      },
      "source": [
        "data_clas.add_test(test,label=0)\n"
      ],
      "execution_count": 16,
      "outputs": [
        {
          "output_type": "display_data",
          "data": {
            "text/html": [
              ""
            ],
            "text/plain": [
              "<IPython.core.display.HTML object>"
            ]
          },
          "metadata": {
            "tags": []
          }
        }
      ]
    },
    {
      "cell_type": "code",
      "metadata": {
        "id": "-dpjnk_rstwk"
      },
      "source": [
        "data_lm.save()\n",
        "data_clas.save()"
      ],
      "execution_count": 17,
      "outputs": []
    },
    {
      "cell_type": "code",
      "metadata": {
        "id": "4OkiJa36sw5s",
        "outputId": "adea4172-a0a7-4914-d9d0-61e509155d17",
        "colab": {
          "base_uri": "https://localhost:8080/"
        }
      },
      "source": [
        "data_lm.train_ds.vocab.itos"
      ],
      "execution_count": 18,
      "outputs": [
        {
          "output_type": "execute_result",
          "data": {
            "text/plain": [
              "['xxunk',\n",
              " 'xxpad',\n",
              " 'xxbos',\n",
              " 'xxeos',\n",
              " 'xxfld',\n",
              " 'xxmaj',\n",
              " 'xxup',\n",
              " 'xxrep',\n",
              " 'xxwrep',\n",
              " 'pain',\n",
              " 'lipitor',\n",
              " 'in',\n",
              " 'of',\n",
              " 'muscle',\n",
              " '.',\n",
              " 'and',\n",
              " 'to',\n",
              " ',',\n",
              " 'my',\n",
              " 'i',\n",
              " 'the',\n",
              " 'severe',\n",
              " 'myalgia',\n",
              " 'fatigue',\n",
              " 'lower',\n",
              " 'loss',\n",
              " 'weakness',\n",
              " '-',\n",
              " 'limb',\n",
              " 'cramp',\n",
              " 'back',\n",
              " 'stomach',\n",
              " 'depression',\n",
              " 'a',\n",
              " 'cramps',\n",
              " 'leg',\n",
              " 'joint',\n",
              " 'gas',\n",
              " 'memory',\n",
              " 'upper',\n",
              " 'legs',\n",
              " 'pains',\n",
              " 'it',\n",
              " 'shoulder',\n",
              " 'unable',\n",
              " 'headache',\n",
              " 'knee',\n",
              " 'neck',\n",
              " 'not',\n",
              " '/',\n",
              " 'was',\n",
              " 'on',\n",
              " 'foot',\n",
              " 'arthralgia',\n",
              " 'aches',\n",
              " 'excessive',\n",
              " 'hip',\n",
              " 'for',\n",
              " 'like',\n",
              " 'arthritis',\n",
              " 'numbness',\n",
              " 'all',\n",
              " 'insomnia',\n",
              " 'have',\n",
              " 'gastrointestinal',\n",
              " 'walk',\n",
              " 'feeling',\n",
              " 'is',\n",
              " 'bleeding',\n",
              " 'arthrotec',\n",
              " 'problems',\n",
              " 'with',\n",
              " 'heart',\n",
              " 'nausea',\n",
              " 'cholesterol',\n",
              " 'feet',\n",
              " 'tired',\n",
              " 'abdominal',\n",
              " 'dizziness',\n",
              " 'disease',\n",
              " 'asthenia',\n",
              " 'this',\n",
              " 'walking',\n",
              " 'muscles',\n",
              " 'extreme',\n",
              " 'difficulty',\n",
              " 'swelling',\n",
              " 'very',\n",
              " 'chest',\n",
              " 'that',\n",
              " 'hair',\n",
              " 'hand',\n",
              " 'vision',\n",
              " 'ache',\n",
              " 'zocor',\n",
              " 'could',\n",
              " 'backache',\n",
              " 'sleep',\n",
              " 'burning',\n",
              " 'stiffness',\n",
              " 'had',\n",
              " ')',\n",
              " 'increased',\n",
              " 'cramping',\n",
              " \"n't\",\n",
              " 'left',\n",
              " '(',\n",
              " 'pins',\n",
              " 'needles',\n",
              " 'skin',\n",
              " 'diarrhoea',\n",
              " 'but',\n",
              " 'liver',\n",
              " 'up',\n",
              " 'blood',\n",
              " 'amnesia',\n",
              " 'calf',\n",
              " 'taking',\n",
              " 'at',\n",
              " 'tingling',\n",
              " 'weight',\n",
              " 'high',\n",
              " 'anxiety',\n",
              " 'me',\n",
              " 'so',\n",
              " 'disability',\n",
              " 'impairment',\n",
              " 'side',\n",
              " 'lack',\n",
              " 'symptom',\n",
              " 'bloating',\n",
              " 'short',\n",
              " 'arms',\n",
              " 'arm',\n",
              " 'stiff',\n",
              " 'hands',\n",
              " 'constipation',\n",
              " 'after',\n",
              " 'low',\n",
              " 'time',\n",
              " 'term',\n",
              " \"'s\",\n",
              " 'sore',\n",
              " 'no',\n",
              " 'can',\n",
              " 'headaches',\n",
              " 'neuropathy',\n",
              " 'body',\n",
              " 'voltaren',\n",
              " 'balance',\n",
              " 'tiredness',\n",
              " 'poor',\n",
              " 'disorder',\n",
              " 'from',\n",
              " 'off',\n",
              " 'blurred',\n",
              " 'ankle',\n",
              " 'pressure',\n",
              " 'mg',\n",
              " 'joints',\n",
              " 'or',\n",
              " 'drug',\n",
              " 'hurt',\n",
              " 'feel',\n",
              " 'vaginal',\n",
              " 'pravachol',\n",
              " 'been',\n",
              " 'get',\n",
              " 'am',\n",
              " 'right',\n",
              " 'as',\n",
              " 'rash',\n",
              " 'vertigo',\n",
              " 'effects',\n",
              " 'bad',\n",
              " 'sensation',\n",
              " '!',\n",
              " 'infarction',\n",
              " 'diarrhea',\n",
              " 'energy',\n",
              " 'attack',\n",
              " 'myositis',\n",
              " 'swollen',\n",
              " 'myocardial',\n",
              " 'upset',\n",
              " 'has',\n",
              " 'acid',\n",
              " 'out',\n",
              " 'mentally',\n",
              " 'generalised',\n",
              " 'itching',\n",
              " 'symptoms',\n",
              " 'are',\n",
              " 'painful',\n",
              " 'dry',\n",
              " 'constant',\n",
              " 'shoulders',\n",
              " 'atrophy',\n",
              " 'over',\n",
              " 'both',\n",
              " 'by',\n",
              " 'weak',\n",
              " 'damage',\n",
              " 'diabetes',\n",
              " 'gain',\n",
              " 'illness',\n",
              " 'ubidecarenone',\n",
              " 'day',\n",
              " 'when',\n",
              " 'sleeping',\n",
              " 'spasms',\n",
              " 'elevated',\n",
              " 'spasm',\n",
              " 'dull',\n",
              " 'be',\n",
              " 'influenza',\n",
              " 'about',\n",
              " 'reduced',\n",
              " 'started',\n",
              " 'raised',\n",
              " 'problem',\n",
              " 'take',\n",
              " 'years',\n",
              " 'tendonitis',\n",
              " '3',\n",
              " 'hazy',\n",
              " 'elbow',\n",
              " 'bed',\n",
              " 'do',\n",
              " 'crestor',\n",
              " 'heavy',\n",
              " 'now',\n",
              " 'felt',\n",
              " 'knees',\n",
              " 'exhaustion',\n",
              " 'toe',\n",
              " 'mood',\n",
              " 'throat',\n",
              " 'sclerosis',\n",
              " 'flatulence',\n",
              " 'will',\n",
              " 'reflux',\n",
              " 'visual',\n",
              " 'discomfort',\n",
              " 'fibromyalgia',\n",
              " 'months',\n",
              " 'did',\n",
              " 'down',\n",
              " 'myopathy',\n",
              " 'flu',\n",
              " 'irritable',\n",
              " 'movement',\n",
              " 'thigh',\n",
              " 'syndrome',\n",
              " 'libido',\n",
              " 'kidney',\n",
              " 'abnormal',\n",
              " 'just',\n",
              " '2',\n",
              " 'doctor',\n",
              " 'concentrate',\n",
              " 'one',\n",
              " 'vomiting',\n",
              " 'if',\n",
              " 'cold',\n",
              " 'more',\n",
              " 'days',\n",
              " 'sweating',\n",
              " 'night',\n",
              " 'hips',\n",
              " 'would',\n",
              " 'concentration',\n",
              " 'lightheadedness',\n",
              " 'aching',\n",
              " 'malaise',\n",
              " '10',\n",
              " 'head',\n",
              " 'soreness',\n",
              " 'went',\n",
              " 'appetite',\n",
              " 'urine',\n",
              " 'wind',\n",
              " 'serum',\n",
              " 'tremor',\n",
              " 'calves',\n",
              " 'stopped',\n",
              " 'simvastatin',\n",
              " 'mellitus',\n",
              " 'ankles',\n",
              " 'toes',\n",
              " 'eye',\n",
              " 'chronic',\n",
              " 'brain',\n",
              " 'stairs',\n",
              " 'swings',\n",
              " 'confusion',\n",
              " 'disturbance',\n",
              " 'menstrual',\n",
              " 'paraesthesia',\n",
              " 'some',\n",
              " 'celebrex',\n",
              " 'only',\n",
              " 'mild',\n",
              " 'also',\n",
              " 'think',\n",
              " 'type',\n",
              " 'tinnitus',\n",
              " 'c',\n",
              " 'finger',\n",
              " 'peripheral',\n",
              " 'esters',\n",
              " 'injury',\n",
              " 'ezetimibe',\n",
              " 'motivation',\n",
              " 'intense',\n",
              " 'failure',\n",
              " '&',\n",
              " 'face',\n",
              " 'excruciating',\n",
              " 'impaired',\n",
              " 'weeks',\n",
              " 'terrible',\n",
              " 'any',\n",
              " 'decreased',\n",
              " 'general',\n",
              " 'took',\n",
              " 'still',\n",
              " 'parkinson',\n",
              " 'getting',\n",
              " 'heel',\n",
              " 'cough',\n",
              " 'palpitations',\n",
              " 'swallowing',\n",
              " 'were',\n",
              " 'then',\n",
              " 'restless',\n",
              " 'lupus',\n",
              " 'tendon',\n",
              " 'charleyhorse',\n",
              " 'indigestion',\n",
              " 'renal',\n",
              " 'depressed',\n",
              " 'hot',\n",
              " 'level',\n",
              " 'fingers',\n",
              " 'they',\n",
              " \"'m\",\n",
              " 'dyspnoea',\n",
              " 'stress',\n",
              " 'acute',\n",
              " 'eyes',\n",
              " 'than',\n",
              " 'ibuprofen',\n",
              " 'dark',\n",
              " 'lateral',\n",
              " 'tightness',\n",
              " 'gout',\n",
              " 'you',\n",
              " 'ascorbic',\n",
              " 'strength',\n",
              " 'multiple',\n",
              " 'oil',\n",
              " 'exercise',\n",
              " 'ca',\n",
              " 'infection',\n",
              " 'menopause',\n",
              " 'speech',\n",
              " 'wrist',\n",
              " 'vitamin',\n",
              " 'nerve',\n",
              " 'an',\n",
              " 'trouble',\n",
              " 'week',\n",
              " 'other',\n",
              " '1',\n",
              " 'he',\n",
              " 'well',\n",
              " 'enzymes',\n",
              " 'migraine',\n",
              " 'always',\n",
              " 'never',\n",
              " 'dreams',\n",
              " 'ago',\n",
              " 'coq10',\n",
              " 'go',\n",
              " 'mouth',\n",
              " 'fish',\n",
              " '20',\n",
              " 'before',\n",
              " 'move',\n",
              " 'every',\n",
              " 'fog',\n",
              " '5',\n",
              " 'twitch',\n",
              " 'amyotrophic',\n",
              " 'twitching',\n",
              " 'again',\n",
              " 'breath',\n",
              " 'which',\n",
              " 'drowsy',\n",
              " 'much',\n",
              " 'limbs',\n",
              " 'thighs',\n",
              " 'provoked',\n",
              " 'breathing',\n",
              " 'going',\n",
              " 'heartburn',\n",
              " 'better',\n",
              " 'sinus',\n",
              " ':',\n",
              " 'worse',\n",
              " 'two',\n",
              " 'taste',\n",
              " 'medication',\n",
              " 'function',\n",
              " 'aleve',\n",
              " 'advil',\n",
              " 'bowel',\n",
              " \"'ve\",\n",
              " 'being',\n",
              " 'even',\n",
              " 'first',\n",
              " 'because',\n",
              " 'rheumatoid',\n",
              " 'tight',\n",
              " 'fenofibrate',\n",
              " 'extremely',\n",
              " 'tylenol',\n",
              " 'levels',\n",
              " 'life',\n",
              " '+',\n",
              " 'ulcer',\n",
              " 'uterine',\n",
              " 'mobility',\n",
              " 'fatigued',\n",
              " '40',\n",
              " 'due',\n",
              " 'tricor',\n",
              " 'sick',\n",
              " 'experienced',\n",
              " 'nasal',\n",
              " 'what',\n",
              " 'numb',\n",
              " 'plantar',\n",
              " 'elbows',\n",
              " 'hardly',\n",
              " 'urinary',\n",
              " 'clearly',\n",
              " 'liptor',\n",
              " 'drive',\n",
              " 'fever',\n",
              " 'loose',\n",
              " 'lethargy',\n",
              " 'almost',\n",
              " '4',\n",
              " 'month',\n",
              " 'lost',\n",
              " 'horses',\n",
              " 'panic',\n",
              " 'morning',\n",
              " 'barely',\n",
              " 'light',\n",
              " 'shortness',\n",
              " 'present',\n",
              " 'these',\n",
              " 'zetia',\n",
              " 'charley',\n",
              " 'diclofenac',\n",
              " 'mental',\n",
              " 'congestion',\n",
              " 'extremity',\n",
              " 'accident',\n",
              " 'facial',\n",
              " 'horrible',\n",
              " 'cerebrovascular',\n",
              " ';',\n",
              " 'moody',\n",
              " 'sharp',\n",
              " 'deep',\n",
              " 'around',\n",
              " 'hunger',\n",
              " 'finding',\n",
              " 'ringing',\n",
              " 'your',\n",
              " 'should',\n",
              " 'told',\n",
              " 'rhabdomyolysis',\n",
              " 'cancer',\n",
              " 'attacks',\n",
              " 'lot',\n",
              " 'pulse',\n",
              " '?',\n",
              " 'natural',\n",
              " 'statins',\n",
              " 'paracetamol',\n",
              " 'major',\n",
              " 'little',\n",
              " 'system',\n",
              " 'dizzy',\n",
              " 'having',\n",
              " 'malignant',\n",
              " 'pruritus',\n",
              " 'who',\n",
              " 'fasciitis',\n",
              " 'since',\n",
              " 'became',\n",
              " 'anything',\n",
              " 'colic',\n",
              " 'there',\n",
              " 'hard',\n",
              " 'thoughts',\n",
              " '6',\n",
              " 'within',\n",
              " 'slurred',\n",
              " 'ability',\n",
              " 'sex',\n",
              " 'got',\n",
              " 'achilles',\n",
              " 'away',\n",
              " 'stamina',\n",
              " 'hypertension',\n",
              " 'sugar',\n",
              " 'things',\n",
              " 'taken',\n",
              " 'irregular',\n",
              " 'without',\n",
              " 'statin',\n",
              " 'thought',\n",
              " 'stop',\n",
              " 'frequent',\n",
              " 'ldl',\n",
              " 'inflammatory',\n",
              " 'norvasc',\n",
              " 'sweats',\n",
              " 'sensations',\n",
              " 'oedema',\n",
              " 'times',\n",
              " 'long',\n",
              " 'tract',\n",
              " 'while',\n",
              " 'neurontin',\n",
              " 'reading',\n",
              " 'same',\n",
              " 'erythematosus',\n",
              " 'put',\n",
              " 'good',\n",
              " 'dr',\n",
              " 'know',\n",
              " 'normal',\n",
              " 'ear',\n",
              " 'area',\n",
              " 'cpk',\n",
              " 'began',\n",
              " 'als',\n",
              " 'eczema',\n",
              " 'too',\n",
              " 'inability',\n",
              " 'last',\n",
              " 'scalp',\n",
              " 'stand',\n",
              " 'most',\n",
              " 'forgetful',\n",
              " 'nervous',\n",
              " 'osteoarthritis',\n",
              " 'year',\n",
              " 'flushing',\n",
              " 'creatinine',\n",
              " 'inflammation',\n",
              " 'work',\n",
              " 'see',\n",
              " 'lopid',\n",
              " 'few',\n",
              " 'itchy',\n",
              " 'make',\n",
              " 'hypersomnia',\n",
              " 'strain',\n",
              " 'atorvastatin',\n",
              " 'spasmodic',\n",
              " 'eat',\n",
              " 'period',\n",
              " 'increase',\n",
              " 'dose',\n",
              " 'sudden',\n",
              " 'foggy',\n",
              " 'gone',\n",
              " 'bursitis',\n",
              " 'drugs',\n",
              " 'omega-3-acid',\n",
              " 'ethyl',\n",
              " 'esters-90',\n",
              " 'stool',\n",
              " 'find',\n",
              " 'into',\n",
              " 'rapid',\n",
              " 'permanent',\n",
              " 'change',\n",
              " 'looks',\n",
              " 'hurts',\n",
              " 'prednisone',\n",
              " 'aptyalism',\n",
              " 'tension',\n",
              " 'sense',\n",
              " 'asthma',\n",
              " 'thinking',\n",
              " 'nt',\n",
              " 'use',\n",
              " 'lift',\n",
              " 'ms',\n",
              " 'empty',\n",
              " 'weird',\n",
              " 'dysfunction',\n",
              " 'said',\n",
              " 'region',\n",
              " 'tachycardia',\n",
              " 'sexual',\n",
              " 'feels',\n",
              " 'menorrhagia',\n",
              " 'respiratory',\n",
              " 'abdomen',\n",
              " 'climb',\n",
              " 'another',\n",
              " 'palsy',\n",
              " 'bp',\n",
              " 'people',\n",
              " 'difficult',\n",
              " 'heaviness',\n",
              " 'bruising',\n",
              " 'many',\n",
              " 'stroke',\n",
              " 'tablet',\n",
              " 'cause',\n",
              " 'generally',\n",
              " 'unwell',\n",
              " 'bell',\n",
              " 'lipex',\n",
              " 'limping',\n",
              " 'venous',\n",
              " 'delusional',\n",
              " 'several',\n",
              " 'retention',\n",
              " 'self',\n",
              " 'falling',\n",
              " 'zoloft',\n",
              " 'forearm',\n",
              " 'omega',\n",
              " 'sight',\n",
              " 'gait',\n",
              " 'tolerance',\n",
              " 'gastric',\n",
              " 'co',\n",
              " 'coronary',\n",
              " 'ever',\n",
              " 'periods',\n",
              " 'haematuria',\n",
              " 'triglycerides',\n",
              " 'nightmares',\n",
              " 'rigidity',\n",
              " 'overall',\n",
              " 'inflamation',\n",
              " 'something',\n",
              " 'ears',\n",
              " 'q10',\n",
              " 'does',\n",
              " 'codeine',\n",
              " 'edema',\n",
              " 'muscular',\n",
              " 'help',\n",
              " 'really',\n",
              " 'red',\n",
              " 'diabetic',\n",
              " 'spotting',\n",
              " 'able',\n",
              " 'erythema',\n",
              " 'sever',\n",
              " 'bone',\n",
              " 'developed',\n",
              " 'slight',\n",
              " 'bladder',\n",
              " 'reaction',\n",
              " 'cortisone',\n",
              " 'menopausal',\n",
              " 'until',\n",
              " 'degenerative',\n",
              " 'fast',\n",
              " 'rectal',\n",
              " 'aphasia',\n",
              " 'diet',\n",
              " 'tests',\n",
              " 'paralysis',\n",
              " 'everything',\n",
              " 'his',\n",
              " 'between',\n",
              " 'effect',\n",
              " 'stabbing',\n",
              " 'similar',\n",
              " 'where',\n",
              " 'especially',\n",
              " 'she',\n",
              " 'noticed',\n",
              " 'rupture',\n",
              " 'cycle',\n",
              " 'twitches',\n",
              " 'try',\n",
              " 'three',\n",
              " 'lowered',\n",
              " 'blurry',\n",
              " 'paranoia',\n",
              " 'during',\n",
              " 'agitated',\n",
              " 'however',\n",
              " 'found',\n",
              " '8',\n",
              " 'test',\n",
              " 'menstruation',\n",
              " 'hungry',\n",
              " 'their',\n",
              " 'suicidal',\n",
              " 'caused',\n",
              " 'prescribed',\n",
              " 'made',\n",
              " 'diovan',\n",
              " 'spine',\n",
              " 'doctors',\n",
              " 'random',\n",
              " 'starting',\n",
              " 'way',\n",
              " 'came',\n",
              " 'old',\n",
              " 'bloated',\n",
              " 'food',\n",
              " 'once',\n",
              " 'quit',\n",
              " 'anger',\n",
              " 'how',\n",
              " 'crying',\n",
              " 'site',\n",
              " 'stopping',\n",
              " 'sweat',\n",
              " 'ani',\n",
              " 'sides',\n",
              " 'them',\n",
              " 'choking',\n",
              " 'chill',\n",
              " 'syncope',\n",
              " 'issues',\n",
              " 'ached',\n",
              " 'dehydration',\n",
              " 'coated',\n",
              " 'fine',\n",
              " 'drowsiness',\n",
              " 'breast',\n",
              " 'standing',\n",
              " 'carpal',\n",
              " 'arthritic',\n",
              " 'disc',\n",
              " 'colitis',\n",
              " 'myself',\n",
              " 'limp',\n",
              " 'infections',\n",
              " 'enough',\n",
              " 'endometriosis',\n",
              " 'allergic',\n",
              " 'hurting',\n",
              " 'big',\n",
              " 'experiencing',\n",
              " 'tunnel',\n",
              " 'great',\n",
              " 'sciatica',\n",
              " '%',\n",
              " 'testosterone',\n",
              " 'less',\n",
              " 'tongue',\n",
              " 'tried',\n",
              " 'stools',\n",
              " 'causing',\n",
              " 'slightly',\n",
              " 'want',\n",
              " 'changes',\n",
              " 'unbearable',\n",
              " 'through',\n",
              " 'fatique',\n",
              " 'agony',\n",
              " 'haemorrhage',\n",
              " 'uterus',\n",
              " 'neuralgia',\n",
              " 'ribs',\n",
              " 'bronchitis',\n",
              " 'aspirin',\n",
              " 'circulation',\n",
              " 'muscel',\n",
              " 'steatosis',\n",
              " 'pill',\n",
              " 'chair',\n",
              " 'sure',\n",
              " 'irritability',\n",
              " 'unhappy',\n",
              " 'immediately',\n",
              " 'muscels',\n",
              " 'read',\n",
              " 'constantly',\n",
              " \"'\",\n",
              " 'sun',\n",
              " 'though',\n",
              " 'may',\n",
              " 'debilitating',\n",
              " 'fear',\n",
              " 'condition',\n",
              " 'desire',\n",
              " 'words',\n",
              " '50',\n",
              " 'decrease',\n",
              " 'tender',\n",
              " 'eructation',\n",
              " 'personality',\n",
              " 'daily',\n",
              " 'b',\n",
              " 'clumsiness',\n",
              " 'control',\n",
              " 'disorientated',\n",
              " 'intolerance',\n",
              " 'misoprostol',\n",
              " 'related',\n",
              " 'minutes',\n",
              " 'pancreatitis',\n",
              " 'film',\n",
              " 'eyesight',\n",
              " 'potassium',\n",
              " 'headed',\n",
              " 'we',\n",
              " 'remember',\n",
              " 'lipidil',\n",
              " 'thoracic',\n",
              " 'wanted',\n",
              " 'hours',\n",
              " 'cataflam',\n",
              " 'run',\n",
              " 'musculoskeletal',\n",
              " 'need',\n",
              " 'total',\n",
              " 'medicine',\n",
              " 'lexapro',\n",
              " 'intervertebral',\n",
              " 'later',\n",
              " 'difficulties',\n",
              " 'mobic',\n",
              " 'morphine',\n",
              " 'serious',\n",
              " 'wrists',\n",
              " 'done',\n",
              " 'moodiness',\n",
              " 'moderate',\n",
              " 'transient',\n",
              " 'interest',\n",
              " 'persistent',\n",
              " 'below',\n",
              " 'far',\n",
              " 'irritation',\n",
              " 'tingly',\n",
              " 'changed',\n",
              " 'recently',\n",
              " 'yellow',\n",
              " 'drink',\n",
              " 'chills',\n",
              " 'extremities',\n",
              " 'physical',\n",
              " '--',\n",
              " 'sensitivity',\n",
              " 'creatine',\n",
              " '-pelvis',\n",
              " 'doing',\n",
              " 'alpha',\n",
              " 'dizzyness',\n",
              " 'relief',\n",
              " '7',\n",
              " 'alzheimer',\n",
              " 'occasional',\n",
              " 'above',\n",
              " 'rashes',\n",
              " 'dysphonia',\n",
              " 'neoplastic',\n",
              " 'hepatic',\n",
              " 'tremors',\n",
              " 'rate',\n",
              " 'entire',\n",
              " 'e',\n",
              " 'her',\n",
              " 'bizarre',\n",
              " 'next',\n",
              " 'its',\n",
              " 'forgetfulness',\n",
              " 'constipated',\n",
              " 'rhinitis',\n",
              " 'fatty',\n",
              " 'lowering',\n",
              " 'sleepy',\n",
              " 'wasting',\n",
              " 'vague',\n",
              " 'works',\n",
              " 'although',\n",
              " 'sleeplessness',\n",
              " 'tocopherol',\n",
              " 'anyone',\n",
              " 'thinning',\n",
              " 'achy',\n",
              " 'beat',\n",
              " 'cognitive',\n",
              " 'throbbing',\n",
              " 'instead',\n",
              " 'losing',\n",
              " 'trying',\n",
              " 'breasts',\n",
              " 'lumbar',\n",
              " 'touch',\n",
              " 'contusion',\n",
              " 'migranes',\n",
              " 'cognition',\n",
              " 'website',\n",
              " 'hope',\n",
              " 'forearms',\n",
              " 'recommend',\n",
              " '80',\n",
              " 'lose',\n",
              " 'motor',\n",
              " 'limitation',\n",
              " 'central',\n",
              " 'dropped',\n",
              " 'waking',\n",
              " 'tore',\n",
              " 'hdl',\n",
              " 'tenalgia',\n",
              " 'hoarse',\n",
              " 'buzzing',\n",
              " 'across',\n",
              " 'meds',\n",
              " 'shaking',\n",
              " 'slow',\n",
              " 'water',\n",
              " 'sit',\n",
              " 'mass',\n",
              " 'non',\n",
              " 'worth',\n",
              " 'exhausted',\n",
              " 'significant',\n",
              " 'digestive',\n",
              " 'concentrating',\n",
              " 'unsteady',\n",
              " 'neoplasm',\n",
              " 'throughout',\n",
              " 'tenderness',\n",
              " 'initial',\n",
              " 'results',\n",
              " 'believe',\n",
              " 'movements',\n",
              " 'family',\n",
              " 'gastritis',\n",
              " 'jaundice',\n",
              " 'headedness',\n",
              " 'room',\n",
              " 'vit',\n",
              " 'doc',\n",
              " 'glucosamine',\n",
              " 'altered',\n",
              " 'haematochezia',\n",
              " '100',\n",
              " 'none',\n",
              " 'finally',\n",
              " 'live',\n",
              " 'dementia',\n",
              " 'each',\n",
              " 'seems',\n",
              " 'unexplained',\n",
              " 'urinate',\n",
              " 'rib',\n",
              " 'experience',\n",
              " 'falls',\n",
              " 'burn',\n",
              " 'traumatic',\n",
              " 'alopecia',\n",
              " 'possible',\n",
              " 'colon',\n",
              " 'inflammed',\n",
              " 'charlie',\n",
              " 'count',\n",
              " 'kinase',\n",
              " 'spells',\n",
              " 'him',\n",
              " 'complex',\n",
              " 'post',\n",
              " 'etc',\n",
              " 'moving',\n",
              " 'white',\n",
              " 'cardiac',\n",
              " 'waist',\n",
              " 'half',\n",
              " '30',\n",
              " 'pravastatin',\n",
              " 'keep',\n",
              " 'adhesive',\n",
              " 'capsulitis',\n",
              " 'fuzzy',\n",
              " ...]"
            ]
          },
          "metadata": {
            "tags": []
          },
          "execution_count": 18
        }
      ]
    },
    {
      "cell_type": "code",
      "metadata": {
        "id": "yPWr03mls3VT",
        "outputId": "da28af37-47b6-4aca-c193-17eefac5ce9d",
        "colab": {
          "base_uri": "https://localhost:8080/",
          "height": 17
        }
      },
      "source": [
        "model_path = path/'models'\n",
        "model_path.mkdir(exist_ok=True)\n",
        "url = 'http://files.fast.ai/models/wt103_v1/'\n",
        "download_url(f'{url}lstm_wt103.pth', model_path/'lstm_wt103.pth')\n",
        "download_url(f'{url}itos_wt103.pkl', model_path/'itos_wt103.pkl')"
      ],
      "execution_count": 19,
      "outputs": [
        {
          "output_type": "display_data",
          "data": {
            "text/html": [
              ""
            ],
            "text/plain": [
              "<IPython.core.display.HTML object>"
            ]
          },
          "metadata": {
            "tags": []
          }
        },
        {
          "output_type": "display_data",
          "data": {
            "text/html": [
              ""
            ],
            "text/plain": [
              "<IPython.core.display.HTML object>"
            ]
          },
          "metadata": {
            "tags": []
          }
        }
      ]
    },
    {
      "cell_type": "code",
      "metadata": {
        "id": "JRzvWg8RtGGr",
        "outputId": "62fbcd3e-777e-484d-ec0c-f1d17d66b2bd",
        "colab": {
          "base_uri": "https://localhost:8080/",
          "height": 34
        }
      },
      "source": [
        "learn = language_model_learner(data_lm, AWD_LSTM, drop_mult=0.5)"
      ],
      "execution_count": 20,
      "outputs": [
        {
          "output_type": "stream",
          "text": [
            "Downloading https://s3.amazonaws.com/fast-ai-modelzoo/wt103-fwd.tgz\n"
          ],
          "name": "stdout"
        },
        {
          "output_type": "display_data",
          "data": {
            "text/html": [
              ""
            ],
            "text/plain": [
              "<IPython.core.display.HTML object>"
            ]
          },
          "metadata": {
            "tags": []
          }
        }
      ]
    },
    {
      "cell_type": "code",
      "metadata": {
        "id": "xKK7GeBev7Xn",
        "outputId": "738e404b-7b2f-4c41-dbef-aa0c7274b664",
        "colab": {
          "base_uri": "https://localhost:8080/",
          "height": 80
        }
      },
      "source": [
        "learn.fit_one_cycle(1, 1e-2)"
      ],
      "execution_count": 21,
      "outputs": [
        {
          "output_type": "display_data",
          "data": {
            "text/html": [
              "<table border=\"1\" class=\"dataframe\">\n",
              "  <thead>\n",
              "    <tr style=\"text-align: left;\">\n",
              "      <th>epoch</th>\n",
              "      <th>train_loss</th>\n",
              "      <th>valid_loss</th>\n",
              "      <th>accuracy</th>\n",
              "      <th>time</th>\n",
              "    </tr>\n",
              "  </thead>\n",
              "  <tbody>\n",
              "    <tr>\n",
              "      <td>0</td>\n",
              "      <td>3.186651</td>\n",
              "      <td>2.674915</td>\n",
              "      <td>0.548723</td>\n",
              "      <td>18:17</td>\n",
              "    </tr>\n",
              "  </tbody>\n",
              "</table>"
            ],
            "text/plain": [
              "<IPython.core.display.HTML object>"
            ]
          },
          "metadata": {
            "tags": []
          }
        }
      ]
    },
    {
      "cell_type": "code",
      "metadata": {
        "id": "iB7rHGQCwd12"
      },
      "source": [
        "# learn.fit_one_cycle(1, 1e-2)"
      ],
      "execution_count": 22,
      "outputs": []
    },
    {
      "cell_type": "code",
      "metadata": {
        "id": "_BnSuAeCwkBe"
      },
      "source": [
        "# learn.fit_one_cycle(1, 1e-3)"
      ],
      "execution_count": 23,
      "outputs": []
    },
    {
      "cell_type": "code",
      "metadata": {
        "id": "MuTm-RFjwrEX",
        "outputId": "ed154ac0-c2e9-43e4-9d1c-e5667fb37249",
        "colab": {
          "base_uri": "https://localhost:8080/",
          "height": 80
        }
      },
      "source": [
        "learn.fit_one_cycle(1, 1e-3)"
      ],
      "execution_count": 24,
      "outputs": [
        {
          "output_type": "display_data",
          "data": {
            "text/html": [
              "<table border=\"1\" class=\"dataframe\">\n",
              "  <thead>\n",
              "    <tr style=\"text-align: left;\">\n",
              "      <th>epoch</th>\n",
              "      <th>train_loss</th>\n",
              "      <th>valid_loss</th>\n",
              "      <th>accuracy</th>\n",
              "      <th>time</th>\n",
              "    </tr>\n",
              "  </thead>\n",
              "  <tbody>\n",
              "    <tr>\n",
              "      <td>0</td>\n",
              "      <td>2.792359</td>\n",
              "      <td>2.625869</td>\n",
              "      <td>0.554178</td>\n",
              "      <td>18:11</td>\n",
              "    </tr>\n",
              "  </tbody>\n",
              "</table>"
            ],
            "text/plain": [
              "<IPython.core.display.HTML object>"
            ]
          },
          "metadata": {
            "tags": []
          }
        }
      ]
    },
    {
      "cell_type": "code",
      "metadata": {
        "id": "1Er2ExO8wr7Y"
      },
      "source": [
        "learn.save_encoder('cadec_ask_fold2_first')"
      ],
      "execution_count": 25,
      "outputs": []
    },
    {
      "cell_type": "code",
      "metadata": {
        "id": "z52cZs2qwvad",
        "outputId": "36ccba12-4c2a-4673-b4a5-061dfff0a77e",
        "colab": {
          "base_uri": "https://localhost:8080/",
          "height": 80
        }
      },
      "source": [
        "learn = text_classifier_learner(data_clas,AWD_LSTM, drop_mult=0.5)\n",
        "learn.load_encoder('cadec_ask_fold2_first')\n",
        "learn.fit_one_cycle(1, 1e-2)"
      ],
      "execution_count": 26,
      "outputs": [
        {
          "output_type": "display_data",
          "data": {
            "text/html": [
              "<table border=\"1\" class=\"dataframe\">\n",
              "  <thead>\n",
              "    <tr style=\"text-align: left;\">\n",
              "      <th>epoch</th>\n",
              "      <th>train_loss</th>\n",
              "      <th>valid_loss</th>\n",
              "      <th>accuracy</th>\n",
              "      <th>time</th>\n",
              "    </tr>\n",
              "  </thead>\n",
              "  <tbody>\n",
              "    <tr>\n",
              "      <td>0</td>\n",
              "      <td>3.967491</td>\n",
              "      <td>3.567544</td>\n",
              "      <td>0.437995</td>\n",
              "      <td>01:13</td>\n",
              "    </tr>\n",
              "  </tbody>\n",
              "</table>"
            ],
            "text/plain": [
              "<IPython.core.display.HTML object>"
            ]
          },
          "metadata": {
            "tags": []
          }
        }
      ]
    },
    {
      "cell_type": "code",
      "metadata": {
        "id": "ImwQP1PJwzxd",
        "outputId": "05b22edc-94e0-4bd1-94d3-57540a4da520",
        "colab": {
          "base_uri": "https://localhost:8080/",
          "height": 80
        }
      },
      "source": [
        "learn.freeze_to(-2)\n",
        "learn.fit_one_cycle(1, slice(5e-3/2., 5e-3))"
      ],
      "execution_count": 27,
      "outputs": [
        {
          "output_type": "display_data",
          "data": {
            "text/html": [
              "<table border=\"1\" class=\"dataframe\">\n",
              "  <thead>\n",
              "    <tr style=\"text-align: left;\">\n",
              "      <th>epoch</th>\n",
              "      <th>train_loss</th>\n",
              "      <th>valid_loss</th>\n",
              "      <th>accuracy</th>\n",
              "      <th>time</th>\n",
              "    </tr>\n",
              "  </thead>\n",
              "  <tbody>\n",
              "    <tr>\n",
              "      <td>0</td>\n",
              "      <td>3.009328</td>\n",
              "      <td>3.012583</td>\n",
              "      <td>0.477573</td>\n",
              "      <td>01:18</td>\n",
              "    </tr>\n",
              "  </tbody>\n",
              "</table>"
            ],
            "text/plain": [
              "<IPython.core.display.HTML object>"
            ]
          },
          "metadata": {
            "tags": []
          }
        }
      ]
    },
    {
      "cell_type": "code",
      "metadata": {
        "id": "Owff_BJXw53u",
        "outputId": "1bbe7406-f923-43e7-968a-fbc1f9fabf48",
        "colab": {
          "base_uri": "https://localhost:8080/",
          "height": 80
        }
      },
      "source": [
        "learn.unfreeze()\n",
        "learn.fit_one_cycle(1, slice(2e-3/100, 2e-3))"
      ],
      "execution_count": 28,
      "outputs": [
        {
          "output_type": "display_data",
          "data": {
            "text/html": [
              "<table border=\"1\" class=\"dataframe\">\n",
              "  <thead>\n",
              "    <tr style=\"text-align: left;\">\n",
              "      <th>epoch</th>\n",
              "      <th>train_loss</th>\n",
              "      <th>valid_loss</th>\n",
              "      <th>accuracy</th>\n",
              "      <th>time</th>\n",
              "    </tr>\n",
              "  </thead>\n",
              "  <tbody>\n",
              "    <tr>\n",
              "      <td>0</td>\n",
              "      <td>2.325558</td>\n",
              "      <td>2.523292</td>\n",
              "      <td>0.573879</td>\n",
              "      <td>03:19</td>\n",
              "    </tr>\n",
              "  </tbody>\n",
              "</table>"
            ],
            "text/plain": [
              "<IPython.core.display.HTML object>"
            ]
          },
          "metadata": {
            "tags": []
          }
        }
      ]
    },
    {
      "cell_type": "code",
      "metadata": {
        "id": "lqAyu56V8Waq",
        "outputId": "c13003e8-ae17-4d1a-ad10-04d7cd41d17c",
        "colab": {
          "base_uri": "https://localhost:8080/",
          "height": 111
        }
      },
      "source": [
        "learn.fit_one_cycle(2, slice(2e-3/100, 2e-3))"
      ],
      "execution_count": 29,
      "outputs": [
        {
          "output_type": "display_data",
          "data": {
            "text/html": [
              "<table border=\"1\" class=\"dataframe\">\n",
              "  <thead>\n",
              "    <tr style=\"text-align: left;\">\n",
              "      <th>epoch</th>\n",
              "      <th>train_loss</th>\n",
              "      <th>valid_loss</th>\n",
              "      <th>accuracy</th>\n",
              "      <th>time</th>\n",
              "    </tr>\n",
              "  </thead>\n",
              "  <tbody>\n",
              "    <tr>\n",
              "      <td>0</td>\n",
              "      <td>2.091232</td>\n",
              "      <td>2.250755</td>\n",
              "      <td>0.626649</td>\n",
              "      <td>03:22</td>\n",
              "    </tr>\n",
              "    <tr>\n",
              "      <td>1</td>\n",
              "      <td>1.710552</td>\n",
              "      <td>2.099162</td>\n",
              "      <td>0.655673</td>\n",
              "      <td>03:14</td>\n",
              "    </tr>\n",
              "  </tbody>\n",
              "</table>"
            ],
            "text/plain": [
              "<IPython.core.display.HTML object>"
            ]
          },
          "metadata": {
            "tags": []
          }
        }
      ]
    },
    {
      "cell_type": "code",
      "metadata": {
        "id": "a7I1xMRp8bUd",
        "outputId": "3699077a-8163-4952-d251-ebba50d82815",
        "colab": {
          "base_uri": "https://localhost:8080/",
          "height": 111
        }
      },
      "source": [
        "learn.fit_one_cycle(2, slice(2e-3/100, 2e-3))"
      ],
      "execution_count": 30,
      "outputs": [
        {
          "output_type": "display_data",
          "data": {
            "text/html": [
              "<table border=\"1\" class=\"dataframe\">\n",
              "  <thead>\n",
              "    <tr style=\"text-align: left;\">\n",
              "      <th>epoch</th>\n",
              "      <th>train_loss</th>\n",
              "      <th>valid_loss</th>\n",
              "      <th>accuracy</th>\n",
              "      <th>time</th>\n",
              "    </tr>\n",
              "  </thead>\n",
              "  <tbody>\n",
              "    <tr>\n",
              "      <td>0</td>\n",
              "      <td>1.589648</td>\n",
              "      <td>1.911846</td>\n",
              "      <td>0.676781</td>\n",
              "      <td>03:00</td>\n",
              "    </tr>\n",
              "    <tr>\n",
              "      <td>1</td>\n",
              "      <td>1.398981</td>\n",
              "      <td>1.865358</td>\n",
              "      <td>0.696570</td>\n",
              "      <td>03:02</td>\n",
              "    </tr>\n",
              "  </tbody>\n",
              "</table>"
            ],
            "text/plain": [
              "<IPython.core.display.HTML object>"
            ]
          },
          "metadata": {
            "tags": []
          }
        }
      ]
    },
    {
      "cell_type": "code",
      "metadata": {
        "id": "UAnti-XmGVfO",
        "outputId": "9e897f9a-6333-4744-ba6c-e92046a7dc36",
        "colab": {
          "base_uri": "https://localhost:8080/",
          "height": 111
        }
      },
      "source": [
        "learn.fit_one_cycle(2, slice(2e-3/100, 2e-3))"
      ],
      "execution_count": 31,
      "outputs": [
        {
          "output_type": "display_data",
          "data": {
            "text/html": [
              "<table border=\"1\" class=\"dataframe\">\n",
              "  <thead>\n",
              "    <tr style=\"text-align: left;\">\n",
              "      <th>epoch</th>\n",
              "      <th>train_loss</th>\n",
              "      <th>valid_loss</th>\n",
              "      <th>accuracy</th>\n",
              "      <th>time</th>\n",
              "    </tr>\n",
              "  </thead>\n",
              "  <tbody>\n",
              "    <tr>\n",
              "      <td>0</td>\n",
              "      <td>1.242813</td>\n",
              "      <td>1.724560</td>\n",
              "      <td>0.721636</td>\n",
              "      <td>03:06</td>\n",
              "    </tr>\n",
              "    <tr>\n",
              "      <td>1</td>\n",
              "      <td>1.109880</td>\n",
              "      <td>1.626671</td>\n",
              "      <td>0.737467</td>\n",
              "      <td>03:04</td>\n",
              "    </tr>\n",
              "  </tbody>\n",
              "</table>"
            ],
            "text/plain": [
              "<IPython.core.display.HTML object>"
            ]
          },
          "metadata": {
            "tags": []
          }
        }
      ]
    },
    {
      "cell_type": "code",
      "metadata": {
        "id": "bIft7W25GwSu",
        "outputId": "f6ee08d7-448a-4f62-a23d-22f3d1339e02",
        "colab": {
          "base_uri": "https://localhost:8080/",
          "height": 111
        }
      },
      "source": [
        "learn.fit_one_cycle(2, slice(2e-3/100, 2e-3))"
      ],
      "execution_count": 32,
      "outputs": [
        {
          "output_type": "display_data",
          "data": {
            "text/html": [
              "<table border=\"1\" class=\"dataframe\">\n",
              "  <thead>\n",
              "    <tr style=\"text-align: left;\">\n",
              "      <th>epoch</th>\n",
              "      <th>train_loss</th>\n",
              "      <th>valid_loss</th>\n",
              "      <th>accuracy</th>\n",
              "      <th>time</th>\n",
              "    </tr>\n",
              "  </thead>\n",
              "  <tbody>\n",
              "    <tr>\n",
              "      <td>0</td>\n",
              "      <td>1.059841</td>\n",
              "      <td>1.582267</td>\n",
              "      <td>0.738786</td>\n",
              "      <td>03:16</td>\n",
              "    </tr>\n",
              "    <tr>\n",
              "      <td>1</td>\n",
              "      <td>0.932488</td>\n",
              "      <td>1.498060</td>\n",
              "      <td>0.755937</td>\n",
              "      <td>03:17</td>\n",
              "    </tr>\n",
              "  </tbody>\n",
              "</table>"
            ],
            "text/plain": [
              "<IPython.core.display.HTML object>"
            ]
          },
          "metadata": {
            "tags": []
          }
        }
      ]
    },
    {
      "cell_type": "code",
      "metadata": {
        "id": "EEHszVRvGyFt",
        "outputId": "5b706296-0136-4da5-f01c-f485113f2294",
        "colab": {
          "base_uri": "https://localhost:8080/",
          "height": 111
        }
      },
      "source": [
        "learn.fit_one_cycle(2, slice(2e-3/100, 2e-3))"
      ],
      "execution_count": 33,
      "outputs": [
        {
          "output_type": "display_data",
          "data": {
            "text/html": [
              "<table border=\"1\" class=\"dataframe\">\n",
              "  <thead>\n",
              "    <tr style=\"text-align: left;\">\n",
              "      <th>epoch</th>\n",
              "      <th>train_loss</th>\n",
              "      <th>valid_loss</th>\n",
              "      <th>accuracy</th>\n",
              "      <th>time</th>\n",
              "    </tr>\n",
              "  </thead>\n",
              "  <tbody>\n",
              "    <tr>\n",
              "      <td>0</td>\n",
              "      <td>0.818049</td>\n",
              "      <td>1.466221</td>\n",
              "      <td>0.754617</td>\n",
              "      <td>03:08</td>\n",
              "    </tr>\n",
              "    <tr>\n",
              "      <td>1</td>\n",
              "      <td>0.783286</td>\n",
              "      <td>1.402915</td>\n",
              "      <td>0.766491</td>\n",
              "      <td>03:16</td>\n",
              "    </tr>\n",
              "  </tbody>\n",
              "</table>"
            ],
            "text/plain": [
              "<IPython.core.display.HTML object>"
            ]
          },
          "metadata": {
            "tags": []
          }
        }
      ]
    },
    {
      "cell_type": "code",
      "metadata": {
        "id": "XsHfrhCHG3dN",
        "outputId": "bc5ffbbe-6f45-4190-c842-8ceef8bb22c9",
        "colab": {
          "base_uri": "https://localhost:8080/",
          "height": 173
        }
      },
      "source": [
        "learn.fit_one_cycle(4, slice(2e-3/100, 2e-3))"
      ],
      "execution_count": 34,
      "outputs": [
        {
          "output_type": "display_data",
          "data": {
            "text/html": [
              "<table border=\"1\" class=\"dataframe\">\n",
              "  <thead>\n",
              "    <tr style=\"text-align: left;\">\n",
              "      <th>epoch</th>\n",
              "      <th>train_loss</th>\n",
              "      <th>valid_loss</th>\n",
              "      <th>accuracy</th>\n",
              "      <th>time</th>\n",
              "    </tr>\n",
              "  </thead>\n",
              "  <tbody>\n",
              "    <tr>\n",
              "      <td>0</td>\n",
              "      <td>0.673681</td>\n",
              "      <td>1.433842</td>\n",
              "      <td>0.763852</td>\n",
              "      <td>03:05</td>\n",
              "    </tr>\n",
              "    <tr>\n",
              "      <td>1</td>\n",
              "      <td>0.701197</td>\n",
              "      <td>1.380114</td>\n",
              "      <td>0.773087</td>\n",
              "      <td>03:17</td>\n",
              "    </tr>\n",
              "    <tr>\n",
              "      <td>2</td>\n",
              "      <td>0.594043</td>\n",
              "      <td>1.298929</td>\n",
              "      <td>0.787599</td>\n",
              "      <td>03:02</td>\n",
              "    </tr>\n",
              "    <tr>\n",
              "      <td>3</td>\n",
              "      <td>0.539633</td>\n",
              "      <td>1.270793</td>\n",
              "      <td>0.788918</td>\n",
              "      <td>03:21</td>\n",
              "    </tr>\n",
              "  </tbody>\n",
              "</table>"
            ],
            "text/plain": [
              "<IPython.core.display.HTML object>"
            ]
          },
          "metadata": {
            "tags": []
          }
        }
      ]
    },
    {
      "cell_type": "code",
      "metadata": {
        "id": "0Zsd99isb9EQ",
        "outputId": "3d2e35fd-c503-4ada-de2b-0f429547a5d2",
        "colab": {
          "base_uri": "https://localhost:8080/",
          "height": 173
        }
      },
      "source": [
        "learn.fit_one_cycle(4, slice(2e-3/100, 2e-3))"
      ],
      "execution_count": 35,
      "outputs": [
        {
          "output_type": "display_data",
          "data": {
            "text/html": [
              "<table border=\"1\" class=\"dataframe\">\n",
              "  <thead>\n",
              "    <tr style=\"text-align: left;\">\n",
              "      <th>epoch</th>\n",
              "      <th>train_loss</th>\n",
              "      <th>valid_loss</th>\n",
              "      <th>accuracy</th>\n",
              "      <th>time</th>\n",
              "    </tr>\n",
              "  </thead>\n",
              "  <tbody>\n",
              "    <tr>\n",
              "      <td>0</td>\n",
              "      <td>0.520969</td>\n",
              "      <td>1.318759</td>\n",
              "      <td>0.782322</td>\n",
              "      <td>03:21</td>\n",
              "    </tr>\n",
              "    <tr>\n",
              "      <td>1</td>\n",
              "      <td>0.543422</td>\n",
              "      <td>1.285467</td>\n",
              "      <td>0.792876</td>\n",
              "      <td>03:10</td>\n",
              "    </tr>\n",
              "    <tr>\n",
              "      <td>2</td>\n",
              "      <td>0.453562</td>\n",
              "      <td>1.266078</td>\n",
              "      <td>0.799472</td>\n",
              "      <td>03:22</td>\n",
              "    </tr>\n",
              "    <tr>\n",
              "      <td>3</td>\n",
              "      <td>0.415046</td>\n",
              "      <td>1.227055</td>\n",
              "      <td>0.796834</td>\n",
              "      <td>03:25</td>\n",
              "    </tr>\n",
              "  </tbody>\n",
              "</table>"
            ],
            "text/plain": [
              "<IPython.core.display.HTML object>"
            ]
          },
          "metadata": {
            "tags": []
          }
        }
      ]
    },
    {
      "cell_type": "code",
      "metadata": {
        "id": "atNWNKDFPbuI",
        "outputId": "2d4c182c-c770-466b-e757-ea9161b6aad0",
        "colab": {
          "base_uri": "https://localhost:8080/",
          "height": 173
        }
      },
      "source": [
        "learn.fit_one_cycle(4, slice(2e-3/100, 2e-3))"
      ],
      "execution_count": 36,
      "outputs": [
        {
          "output_type": "display_data",
          "data": {
            "text/html": [
              "<table border=\"1\" class=\"dataframe\">\n",
              "  <thead>\n",
              "    <tr style=\"text-align: left;\">\n",
              "      <th>epoch</th>\n",
              "      <th>train_loss</th>\n",
              "      <th>valid_loss</th>\n",
              "      <th>accuracy</th>\n",
              "      <th>time</th>\n",
              "    </tr>\n",
              "  </thead>\n",
              "  <tbody>\n",
              "    <tr>\n",
              "      <td>0</td>\n",
              "      <td>0.381491</td>\n",
              "      <td>1.289114</td>\n",
              "      <td>0.796834</td>\n",
              "      <td>03:24</td>\n",
              "    </tr>\n",
              "    <tr>\n",
              "      <td>1</td>\n",
              "      <td>0.437044</td>\n",
              "      <td>1.270762</td>\n",
              "      <td>0.803430</td>\n",
              "      <td>03:09</td>\n",
              "    </tr>\n",
              "    <tr>\n",
              "      <td>2</td>\n",
              "      <td>0.394040</td>\n",
              "      <td>1.254074</td>\n",
              "      <td>0.802111</td>\n",
              "      <td>03:17</td>\n",
              "    </tr>\n",
              "    <tr>\n",
              "      <td>3</td>\n",
              "      <td>0.318828</td>\n",
              "      <td>1.256769</td>\n",
              "      <td>0.811346</td>\n",
              "      <td>03:08</td>\n",
              "    </tr>\n",
              "  </tbody>\n",
              "</table>"
            ],
            "text/plain": [
              "<IPython.core.display.HTML object>"
            ]
          },
          "metadata": {
            "tags": []
          }
        }
      ]
    },
    {
      "cell_type": "code",
      "metadata": {
        "id": "rKrBTZ0T1uVA",
        "outputId": "15b6d838-7e1d-45a2-e2e2-4eff844ba298",
        "colab": {
          "base_uri": "https://localhost:8080/",
          "height": 173
        }
      },
      "source": [
        "learn.fit_one_cycle(4, slice(2e-3/100, 2e-3))"
      ],
      "execution_count": 37,
      "outputs": [
        {
          "output_type": "display_data",
          "data": {
            "text/html": [
              "<table border=\"1\" class=\"dataframe\">\n",
              "  <thead>\n",
              "    <tr style=\"text-align: left;\">\n",
              "      <th>epoch</th>\n",
              "      <th>train_loss</th>\n",
              "      <th>valid_loss</th>\n",
              "      <th>accuracy</th>\n",
              "      <th>time</th>\n",
              "    </tr>\n",
              "  </thead>\n",
              "  <tbody>\n",
              "    <tr>\n",
              "      <td>0</td>\n",
              "      <td>0.310937</td>\n",
              "      <td>1.321260</td>\n",
              "      <td>0.811346</td>\n",
              "      <td>03:19</td>\n",
              "    </tr>\n",
              "    <tr>\n",
              "      <td>1</td>\n",
              "      <td>0.349278</td>\n",
              "      <td>1.334222</td>\n",
              "      <td>0.803430</td>\n",
              "      <td>03:07</td>\n",
              "    </tr>\n",
              "    <tr>\n",
              "      <td>2</td>\n",
              "      <td>0.303546</td>\n",
              "      <td>1.296618</td>\n",
              "      <td>0.811346</td>\n",
              "      <td>03:20</td>\n",
              "    </tr>\n",
              "    <tr>\n",
              "      <td>3</td>\n",
              "      <td>0.266359</td>\n",
              "      <td>1.280374</td>\n",
              "      <td>0.812665</td>\n",
              "      <td>03:05</td>\n",
              "    </tr>\n",
              "  </tbody>\n",
              "</table>"
            ],
            "text/plain": [
              "<IPython.core.display.HTML object>"
            ]
          },
          "metadata": {
            "tags": []
          }
        }
      ]
    },
    {
      "cell_type": "code",
      "metadata": {
        "id": "ajQC6WDg1yA9",
        "outputId": "6ae57d0c-f5cc-4c37-c704-5f79ecf4c5e9",
        "colab": {
          "base_uri": "https://localhost:8080/",
          "height": 173
        }
      },
      "source": [
        "learn.fit_one_cycle(4, slice(2e-3/100, 2e-3))"
      ],
      "execution_count": 38,
      "outputs": [
        {
          "output_type": "display_data",
          "data": {
            "text/html": [
              "<table border=\"1\" class=\"dataframe\">\n",
              "  <thead>\n",
              "    <tr style=\"text-align: left;\">\n",
              "      <th>epoch</th>\n",
              "      <th>train_loss</th>\n",
              "      <th>valid_loss</th>\n",
              "      <th>accuracy</th>\n",
              "      <th>time</th>\n",
              "    </tr>\n",
              "  </thead>\n",
              "  <tbody>\n",
              "    <tr>\n",
              "      <td>0</td>\n",
              "      <td>0.281845</td>\n",
              "      <td>1.304647</td>\n",
              "      <td>0.807388</td>\n",
              "      <td>03:08</td>\n",
              "    </tr>\n",
              "    <tr>\n",
              "      <td>1</td>\n",
              "      <td>0.314807</td>\n",
              "      <td>1.306834</td>\n",
              "      <td>0.811346</td>\n",
              "      <td>03:25</td>\n",
              "    </tr>\n",
              "    <tr>\n",
              "      <td>2</td>\n",
              "      <td>0.260316</td>\n",
              "      <td>1.327212</td>\n",
              "      <td>0.821900</td>\n",
              "      <td>03:16</td>\n",
              "    </tr>\n",
              "    <tr>\n",
              "      <td>3</td>\n",
              "      <td>0.237841</td>\n",
              "      <td>1.311278</td>\n",
              "      <td>0.821900</td>\n",
              "      <td>03:09</td>\n",
              "    </tr>\n",
              "  </tbody>\n",
              "</table>"
            ],
            "text/plain": [
              "<IPython.core.display.HTML object>"
            ]
          },
          "metadata": {
            "tags": []
          }
        }
      ]
    },
    {
      "cell_type": "code",
      "metadata": {
        "id": "KKydb0B4BKGk",
        "outputId": "d16e3829-3042-4c7d-b844-05c71e089822",
        "colab": {
          "base_uri": "https://localhost:8080/",
          "height": 173
        }
      },
      "source": [
        "learn.fit_one_cycle(4, slice(2e-3/100, 2e-3))"
      ],
      "execution_count": 39,
      "outputs": [
        {
          "output_type": "display_data",
          "data": {
            "text/html": [
              "<table border=\"1\" class=\"dataframe\">\n",
              "  <thead>\n",
              "    <tr style=\"text-align: left;\">\n",
              "      <th>epoch</th>\n",
              "      <th>train_loss</th>\n",
              "      <th>valid_loss</th>\n",
              "      <th>accuracy</th>\n",
              "      <th>time</th>\n",
              "    </tr>\n",
              "  </thead>\n",
              "  <tbody>\n",
              "    <tr>\n",
              "      <td>0</td>\n",
              "      <td>0.254209</td>\n",
              "      <td>1.393321</td>\n",
              "      <td>0.810026</td>\n",
              "      <td>03:11</td>\n",
              "    </tr>\n",
              "    <tr>\n",
              "      <td>1</td>\n",
              "      <td>0.295449</td>\n",
              "      <td>1.270519</td>\n",
              "      <td>0.821900</td>\n",
              "      <td>03:08</td>\n",
              "    </tr>\n",
              "    <tr>\n",
              "      <td>2</td>\n",
              "      <td>0.232213</td>\n",
              "      <td>1.323389</td>\n",
              "      <td>0.817942</td>\n",
              "      <td>03:16</td>\n",
              "    </tr>\n",
              "    <tr>\n",
              "      <td>3</td>\n",
              "      <td>0.211567</td>\n",
              "      <td>1.274611</td>\n",
              "      <td>0.824538</td>\n",
              "      <td>03:15</td>\n",
              "    </tr>\n",
              "  </tbody>\n",
              "</table>"
            ],
            "text/plain": [
              "<IPython.core.display.HTML object>"
            ]
          },
          "metadata": {
            "tags": []
          }
        }
      ]
    },
    {
      "cell_type": "code",
      "metadata": {
        "id": "T2APKtFKBpGY",
        "outputId": "ded08b9f-756e-4025-d516-810e2a3bbfbd",
        "colab": {
          "base_uri": "https://localhost:8080/",
          "height": 173
        }
      },
      "source": [
        "learn.fit_one_cycle(4, slice(2e-3/100, 2e-3))"
      ],
      "execution_count": 40,
      "outputs": [
        {
          "output_type": "display_data",
          "data": {
            "text/html": [
              "<table border=\"1\" class=\"dataframe\">\n",
              "  <thead>\n",
              "    <tr style=\"text-align: left;\">\n",
              "      <th>epoch</th>\n",
              "      <th>train_loss</th>\n",
              "      <th>valid_loss</th>\n",
              "      <th>accuracy</th>\n",
              "      <th>time</th>\n",
              "    </tr>\n",
              "  </thead>\n",
              "  <tbody>\n",
              "    <tr>\n",
              "      <td>0</td>\n",
              "      <td>0.234666</td>\n",
              "      <td>1.308491</td>\n",
              "      <td>0.817942</td>\n",
              "      <td>03:19</td>\n",
              "    </tr>\n",
              "    <tr>\n",
              "      <td>1</td>\n",
              "      <td>0.261184</td>\n",
              "      <td>1.320432</td>\n",
              "      <td>0.821900</td>\n",
              "      <td>03:25</td>\n",
              "    </tr>\n",
              "    <tr>\n",
              "      <td>2</td>\n",
              "      <td>0.204790</td>\n",
              "      <td>1.393533</td>\n",
              "      <td>0.825858</td>\n",
              "      <td>03:10</td>\n",
              "    </tr>\n",
              "    <tr>\n",
              "      <td>3</td>\n",
              "      <td>0.192232</td>\n",
              "      <td>1.389040</td>\n",
              "      <td>0.828496</td>\n",
              "      <td>03:14</td>\n",
              "    </tr>\n",
              "  </tbody>\n",
              "</table>"
            ],
            "text/plain": [
              "<IPython.core.display.HTML object>"
            ]
          },
          "metadata": {
            "tags": []
          }
        }
      ]
    },
    {
      "cell_type": "code",
      "metadata": {
        "id": "qtTypA1sPgLU",
        "outputId": "554d9817-b59f-4381-b9d5-22f6d444fd66",
        "colab": {
          "base_uri": "https://localhost:8080/",
          "height": 111
        }
      },
      "source": [
        "learn.fit_one_cycle(2, slice(2e-3/100, 2e-3))"
      ],
      "execution_count": 41,
      "outputs": [
        {
          "output_type": "display_data",
          "data": {
            "text/html": [
              "<table border=\"1\" class=\"dataframe\">\n",
              "  <thead>\n",
              "    <tr style=\"text-align: left;\">\n",
              "      <th>epoch</th>\n",
              "      <th>train_loss</th>\n",
              "      <th>valid_loss</th>\n",
              "      <th>accuracy</th>\n",
              "      <th>time</th>\n",
              "    </tr>\n",
              "  </thead>\n",
              "  <tbody>\n",
              "    <tr>\n",
              "      <td>0</td>\n",
              "      <td>0.236036</td>\n",
              "      <td>1.364707</td>\n",
              "      <td>0.819261</td>\n",
              "      <td>03:07</td>\n",
              "    </tr>\n",
              "    <tr>\n",
              "      <td>1</td>\n",
              "      <td>0.208836</td>\n",
              "      <td>1.442855</td>\n",
              "      <td>0.821900</td>\n",
              "      <td>03:15</td>\n",
              "    </tr>\n",
              "  </tbody>\n",
              "</table>"
            ],
            "text/plain": [
              "<IPython.core.display.HTML object>"
            ]
          },
          "metadata": {
            "tags": []
          }
        }
      ]
    },
    {
      "cell_type": "code",
      "metadata": {
        "id": "b242kBsTUp9Y",
        "outputId": "4a9ca55c-dc7e-414c-c32f-53e50ed87451",
        "colab": {
          "base_uri": "https://localhost:8080/",
          "height": 111
        }
      },
      "source": [
        "learn.fit_one_cycle(2, slice(2e-3/100, 2e-3))"
      ],
      "execution_count": 42,
      "outputs": [
        {
          "output_type": "display_data",
          "data": {
            "text/html": [
              "<table border=\"1\" class=\"dataframe\">\n",
              "  <thead>\n",
              "    <tr style=\"text-align: left;\">\n",
              "      <th>epoch</th>\n",
              "      <th>train_loss</th>\n",
              "      <th>valid_loss</th>\n",
              "      <th>accuracy</th>\n",
              "      <th>time</th>\n",
              "    </tr>\n",
              "  </thead>\n",
              "  <tbody>\n",
              "    <tr>\n",
              "      <td>0</td>\n",
              "      <td>0.219385</td>\n",
              "      <td>1.357664</td>\n",
              "      <td>0.831135</td>\n",
              "      <td>03:23</td>\n",
              "    </tr>\n",
              "    <tr>\n",
              "      <td>1</td>\n",
              "      <td>0.186440</td>\n",
              "      <td>1.353466</td>\n",
              "      <td>0.829815</td>\n",
              "      <td>03:21</td>\n",
              "    </tr>\n",
              "  </tbody>\n",
              "</table>"
            ],
            "text/plain": [
              "<IPython.core.display.HTML object>"
            ]
          },
          "metadata": {
            "tags": []
          }
        }
      ]
    },
    {
      "cell_type": "code",
      "metadata": {
        "id": "Duwf1Ih5VeDZ",
        "outputId": "71721bcd-f9cc-4f93-8d90-089e6b483047",
        "colab": {
          "base_uri": "https://localhost:8080/",
          "height": 80
        }
      },
      "source": [
        "learn.fit_one_cycle(1, slice(2e-3/100, 2e-3))"
      ],
      "execution_count": 43,
      "outputs": [
        {
          "output_type": "display_data",
          "data": {
            "text/html": [
              "<table border=\"1\" class=\"dataframe\">\n",
              "  <thead>\n",
              "    <tr style=\"text-align: left;\">\n",
              "      <th>epoch</th>\n",
              "      <th>train_loss</th>\n",
              "      <th>valid_loss</th>\n",
              "      <th>accuracy</th>\n",
              "      <th>time</th>\n",
              "    </tr>\n",
              "  </thead>\n",
              "  <tbody>\n",
              "    <tr>\n",
              "      <td>0</td>\n",
              "      <td>0.194199</td>\n",
              "      <td>1.348742</td>\n",
              "      <td>0.820580</td>\n",
              "      <td>03:00</td>\n",
              "    </tr>\n",
              "  </tbody>\n",
              "</table>"
            ],
            "text/plain": [
              "<IPython.core.display.HTML object>"
            ]
          },
          "metadata": {
            "tags": []
          }
        }
      ]
    },
    {
      "cell_type": "code",
      "metadata": {
        "id": "c65d-osfDUXm"
      },
      "source": [
        "# save the best model\n",
        "\n",
        "learn.save_encoder('cadec_ask_mixed_fold2')"
      ],
      "execution_count": 44,
      "outputs": []
    },
    {
      "cell_type": "markdown",
      "metadata": {
        "id": "rCwZU0E2RgM6"
      },
      "source": [
        "# Part three: Predict on the test dataset"
      ]
    },
    {
      "cell_type": "code",
      "metadata": {
        "id": "gDm72c-dOu7d",
        "outputId": "418f03b5-2ccd-4904-8209-d62f0dfd5527",
        "colab": {
          "base_uri": "https://localhost:8080/",
          "height": 17
        }
      },
      "source": [
        "# use the test data for prediction\n",
        "\n",
        "preds, y = learn.get_preds(DatasetType.Test)"
      ],
      "execution_count": 45,
      "outputs": [
        {
          "output_type": "display_data",
          "data": {
            "text/html": [
              ""
            ],
            "text/plain": [
              "<IPython.core.display.HTML object>"
            ]
          },
          "metadata": {
            "tags": []
          }
        }
      ]
    },
    {
      "cell_type": "code",
      "metadata": {
        "id": "6tFSQcsWPvxn",
        "outputId": "634268d8-f6dd-4bbd-e9d3-033bb3d18098",
        "colab": {
          "base_uri": "https://localhost:8080/",
          "height": 105
        }
      },
      "source": [
        "predictions, *_ = learn.get_preds(DatasetType.Test)\n",
        "labels = np.argmax(predictions, 1)\n",
        "predict_list = labels.tolist()\n",
        "standard_list = test[0].tolist()\n",
        "\n",
        "print(len(predict_list))\n",
        "print(len(standard_list))\n",
        "\n",
        "print(predict_list)\n",
        "print(standard_list)"
      ],
      "execution_count": 46,
      "outputs": [
        {
          "output_type": "display_data",
          "data": {
            "text/html": [
              ""
            ],
            "text/plain": [
              "<IPython.core.display.HTML object>"
            ]
          },
          "metadata": {
            "tags": []
          }
        },
        {
          "output_type": "stream",
          "text": [
            "866\n",
            "866\n",
            "[2, 484, 946, 8, 8, 8, 483, 8, 809, 16, 226, 27, 30, 532, 414, 414, 414, 32, 34, 37, 37, 861, 37, 37, 37, 37, 37, 37, 37, 37, 39, 623, 44, 28, 166, 615, 49, 49, 49, 49, 49, 49, 49, 49, 49, 50, 52, 53, 243, 243, 53, 172, 58, 674, 62, 62, 628, 255, 205, 70, 205, 71, 71, 71, 597, 76, 289, 79, 79, 79, 994, 260, 79, 79, 79, 79, 79, 79, 79, 79, 79, 79, 79, 79, 79, 79, 79, 79, 79, 79, 79, 79, 79, 79, 861, 861, 274, 79, 79, 79, 79, 220, 80, 80, 80, 80, 80, 80, 794, 83, 268, 628, 92, 92, 878, 94, 94, 94, 94, 94, 94, 94, 94, 94, 94, 96, 96, 97, 187, 100, 100, 100, 100, 108, 108, 108, 260, 275, 111, 111, 111, 111, 111, 111, 214, 120, 125, 451, 125, 125, 125, 125, 125, 125, 125, 125, 125, 125, 125, 125, 125, 125, 172, 131, 745, 135, 135, 135, 137, 139, 142, 143, 981, 151, 151, 152, 155, 157, 161, 598, 163, 166, 166, 172, 172, 172, 172, 172, 172, 614, 492, 347, 182, 182, 182, 182, 183, 183, 687, 187, 187, 187, 187, 187, 189, 190, 190, 190, 190, 190, 79, 190, 172, 193, 193, 194, 197, 197, 197, 197, 202, 203, 205, 205, 205, 207, 427, 289, 210, 210, 210, 2, 214, 214, 214, 214, 214, 214, 214, 214, 214, 214, 214, 214, 214, 214, 214, 215, 218, 218, 218, 218, 220, 223, 577, 227, 228, 44, 228, 228, 326, 228, 214, 231, 499, 234, 98, 235, 235, 235, 235, 301, 236, 238, 371, 371, 830, 830, 830, 243, 243, 243, 243, 338, 245, 245, 245, 245, 245, 245, 245, 245, 246, 246, 246, 249, 254, 781, 260, 318, 265, 301, 265, 265, 265, 265, 701, 265, 265, 265, 265, 265, 265, 265, 265, 265, 265, 265, 265, 265, 265, 830, 265, 172, 265, 813, 274, 255, 277, 347, 278, 280, 281, 289, 289, 289, 289, 289, 289, 228, 205, 289, 864, 289, 79, 289, 289, 289, 289, 289, 289, 289, 289, 79, 82, 291, 293, 646, 298, 298, 301, 301, 304, 905, 308, 310, 318, 79, 167, 325, 325, 325, 325, 325, 325, 325, 325, 325, 325, 325, 325, 340, 1005, 325, 329, 332, 334, 335, 336, 336, 577, 337, 337, 337, 337, 337, 100, 337, 338, 341, 342, 343, 343, 343, 343, 353, 172, 359, 359, 289, 362, 363, 363, 364, 364, 289, 364, 370, 375, 220, 391, 447, 809, 402, 89, 408, 615, 418, 418, 652, 522, 652, 652, 365, 419, 420, 861, 60, 425, 426, 426, 479, 426, 426, 426, 597, 427, 597, 427, 427, 427, 427, 427, 427, 427, 615, 34, 427, 427, 218, 994, 427, 447, 441, 878, 878, 444, 446, 446, 142, 187, 454, 455, 455, 94, 830, 981, 458, 460, 702, 908, 462, 214, 359, 291, 45, 487, 775, 487, 489, 491, 491, 491, 576, 491, 491, 492, 492, 495, 495, 495, 499, 501, 502, 45, 517, 517, 517, 517, 383, 517, 517, 88, 524, 524, 524, 524, 524, 524, 838, 528, 530, 530, 530, 531, 926, 531, 532, 537, 540, 541, 541, 541, 541, 548, 548, 551, 80, 505, 100, 172, 864, 575, 579, 400, 338, 585, 427, 830, 299, 590, 483, 591, 592, 235, 595, 595, 597, 427, 172, 741, 610, 610, 326, 611, 614, 614, 614, 614, 614, 228, 710, 780, 780, 624, 627, 836, 635, 348, 640, 840, 644, 646, 646, 646, 646, 648, 652, 652, 656, 421, 491, 228, 693, 689, 265, 701, 704, 704, 708, 708, 710, 710, 711, 714, 714, 714, 715, 717, 532, 735, 736, 427, 741, 741, 37, 745, 746, 746, 749, 749, 749, 347, 753, 245, 245, 245, 773, 245, 766, 769, 769, 509, 773, 469, 775, 778, 778, 778, 778, 780, 790, 796, 803, 803, 803, 803, 804, 806, 806, 806, 809, 809, 809, 810, 823, 825, 720, 826, 830, 830, 830, 830, 591, 831, 834, 840, 840, 623, 847, 847, 847, 847, 849, 853, 853, 853, 853, 839, 864, 864, 866, 896, 896, 896, 896, 896, 896, 896, 347, 903, 904, 904, 914, 919, 919, 919, 919, 314, 380, 937, 937, 937, 938, 940, 940, 125, 948, 948, 948, 948, 948, 949, 949, 949, 949, 949, 949, 949, 949, 949, 949, 949, 949, 949, 949, 949, 949, 949, 949, 949, 949, 949, 949, 949, 949, 949, 949, 949, 949, 949, 949, 949, 949, 949, 949, 949, 949, 949, 949, 949, 949, 949, 949, 949, 949, 949, 949, 949, 949, 949, 949, 949, 949, 949, 949, 949, 949, 949, 949, 949, 949, 949, 949, 949, 949, 949, 949, 949, 949, 949, 949, 949, 949, 949, 949, 949, 949, 949, 949, 949, 949, 949, 949, 949, 949, 949, 371, 949, 949, 949, 949, 949, 949, 949, 949, 949, 949, 949, 949, 949, 949, 949, 950, 950, 950, 952, 953, 955, 955, 958, 960, 962, 967, 967, 905, 520, 977, 980, 371, 981, 972, 982, 988, 951, 982, 991, 994, 917, 997, 1001, 1001, 1003, 1013, 1014, 1015, 1016, 1016, 1026, 1026, 1030, 1026, 1026, 1026, 1026, 1026, 628, 1028, 1028, 1028, 1028, 1028, 1028, 1029, 1029, 1035]\n",
            "[2, 4, 8, 8, 8, 8, 8, 8, 10, 16, 23, 27, 30, 31, 31, 31, 31, 32, 34, 37, 37, 37, 37, 37, 37, 37, 37, 37, 37, 37, 39, 40, 44, 48, 49, 49, 49, 49, 49, 49, 49, 49, 49, 49, 49, 50, 52, 53, 53, 53, 53, 57, 58, 60, 62, 62, 68, 69, 70, 70, 70, 71, 71, 71, 75, 76, 76, 79, 79, 79, 79, 79, 79, 79, 79, 79, 79, 79, 79, 79, 79, 79, 79, 79, 79, 79, 79, 79, 79, 79, 79, 79, 79, 79, 79, 79, 79, 79, 79, 79, 79, 80, 80, 80, 80, 80, 80, 80, 82, 83, 89, 90, 92, 92, 93, 94, 94, 94, 94, 94, 94, 94, 94, 94, 94, 96, 96, 97, 98, 100, 100, 100, 100, 108, 108, 108, 109, 110, 111, 111, 111, 111, 111, 111, 115, 120, 125, 125, 125, 125, 125, 125, 125, 125, 125, 125, 125, 125, 125, 125, 125, 125, 129, 131, 132, 135, 135, 135, 137, 139, 142, 143, 149, 151, 151, 152, 155, 157, 161, 162, 163, 166, 166, 172, 172, 172, 172, 172, 172, 174, 180, 180, 182, 182, 182, 182, 183, 183, 185, 187, 187, 187, 187, 187, 189, 190, 190, 190, 190, 190, 190, 190, 190, 193, 193, 194, 197, 197, 197, 197, 202, 203, 205, 205, 205, 207, 207, 209, 210, 210, 210, 213, 214, 214, 214, 214, 214, 214, 214, 214, 214, 214, 214, 214, 214, 214, 214, 215, 218, 218, 218, 218, 220, 223, 224, 227, 228, 228, 228, 228, 228, 228, 230, 231, 232, 234, 234, 235, 235, 235, 235, 236, 236, 238, 238, 238, 243, 243, 243, 243, 243, 243, 243, 244, 245, 245, 245, 245, 245, 245, 245, 245, 246, 246, 246, 249, 254, 260, 260, 260, 265, 265, 265, 265, 265, 265, 265, 265, 265, 265, 265, 265, 265, 265, 265, 265, 265, 265, 265, 265, 265, 265, 265, 265, 265, 274, 274, 275, 277, 277, 278, 280, 281, 289, 289, 289, 289, 289, 289, 289, 289, 289, 289, 289, 289, 289, 289, 289, 289, 289, 289, 289, 289, 289, 291, 291, 293, 297, 298, 298, 301, 301, 304, 306, 308, 310, 318, 318, 319, 325, 325, 325, 325, 325, 325, 325, 325, 325, 325, 325, 325, 325, 325, 325, 329, 332, 334, 335, 336, 336, 337, 337, 337, 337, 337, 337, 337, 337, 338, 341, 342, 343, 343, 343, 343, 353, 356, 359, 359, 360, 362, 363, 363, 364, 364, 364, 364, 370, 375, 379, 391, 395, 402, 402, 404, 408, 416, 418, 418, 419, 419, 419, 419, 419, 419, 420, 421, 422, 425, 426, 426, 426, 426, 426, 426, 427, 427, 427, 427, 427, 427, 427, 427, 427, 427, 427, 427, 427, 427, 427, 427, 427, 436, 441, 443, 443, 444, 446, 446, 447, 450, 454, 455, 455, 455, 455, 455, 458, 460, 464, 466, 469, 471, 473, 473, 485, 487, 487, 488, 489, 491, 491, 491, 491, 491, 491, 492, 492, 495, 495, 495, 499, 501, 502, 509, 517, 517, 517, 517, 517, 517, 517, 521, 524, 524, 524, 524, 524, 524, 528, 528, 530, 530, 530, 531, 531, 531, 532, 537, 540, 541, 541, 541, 541, 548, 548, 551, 552, 555, 572, 573, 574, 575, 579, 582, 584, 585, 587, 588, 589, 590, 590, 591, 592, 595, 595, 595, 597, 597, 604, 606, 610, 610, 610, 611, 614, 614, 614, 614, 614, 618, 619, 619, 619, 624, 627, 632, 635, 640, 640, 642, 644, 646, 646, 646, 646, 648, 652, 652, 656, 662, 662, 686, 693, 695, 699, 702, 704, 704, 708, 708, 710, 710, 711, 714, 714, 714, 715, 717, 727, 735, 736, 737, 741, 741, 741, 745, 746, 746, 749, 749, 750, 753, 753, 764, 764, 764, 765, 765, 766, 769, 769, 771, 773, 775, 775, 778, 778, 778, 778, 780, 790, 796, 803, 803, 803, 803, 804, 806, 806, 806, 809, 809, 809, 810, 823, 825, 826, 826, 830, 830, 830, 830, 830, 831, 834, 840, 840, 841, 847, 847, 847, 847, 849, 853, 853, 853, 853, 859, 864, 864, 866, 896, 896, 896, 896, 896, 896, 897, 901, 903, 904, 904, 914, 919, 919, 919, 919, 922, 933, 937, 937, 937, 938, 940, 940, 940, 948, 948, 948, 948, 948, 949, 949, 949, 949, 949, 949, 949, 949, 949, 949, 949, 949, 949, 949, 949, 949, 949, 949, 949, 949, 949, 949, 949, 949, 949, 949, 949, 949, 949, 949, 949, 949, 949, 949, 949, 949, 949, 949, 949, 949, 949, 949, 949, 949, 949, 949, 949, 949, 949, 949, 949, 949, 949, 949, 949, 949, 949, 949, 949, 949, 949, 949, 949, 949, 949, 949, 949, 949, 949, 949, 949, 949, 949, 949, 949, 949, 949, 949, 949, 949, 949, 949, 949, 949, 949, 949, 949, 949, 949, 949, 949, 949, 949, 949, 949, 949, 949, 949, 949, 949, 949, 950, 950, 950, 952, 953, 955, 955, 958, 960, 962, 967, 967, 973, 974, 977, 980, 981, 981, 983, 986, 988, 989, 989, 991, 994, 994, 997, 1001, 1001, 1003, 1013, 1014, 1015, 1016, 1016, 1026, 1026, 1026, 1026, 1026, 1026, 1026, 1026, 1026, 1028, 1028, 1028, 1028, 1028, 1028, 1029, 1029, 1035]\n"
          ],
          "name": "stdout"
        }
      ]
    },
    {
      "cell_type": "code",
      "metadata": {
        "id": "XIC4zufnMxtq",
        "outputId": "19e5408b-94c9-44a1-f03b-3de7b54e04fa",
        "colab": {
          "base_uri": "https://localhost:8080/"
        }
      },
      "source": [
        "correct_num = 0\n",
        "\n",
        "for i in range(0, len(standard_list)):\n",
        "  if predict_list[i] == standard_list[i]:\n",
        "    correct_num = correct_num+1\n",
        "  else:\n",
        "    pass\n",
        "print(correct_num)\n",
        "\n",
        "predict_accuracy = correct_num/len(predict_list)\n",
        "print(predict_accuracy)"
      ],
      "execution_count": 47,
      "outputs": [
        {
          "output_type": "stream",
          "text": [
            "672\n",
            "0.7759815242494227\n"
          ],
          "name": "stdout"
        }
      ]
    },
    {
      "cell_type": "code",
      "metadata": {
        "id": "zlKMHp1CIaRJ"
      },
      "source": [
        ""
      ],
      "execution_count": 47,
      "outputs": []
    }
  ]
}