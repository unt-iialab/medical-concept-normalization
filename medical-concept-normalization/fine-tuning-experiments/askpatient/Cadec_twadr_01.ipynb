{
  "nbformat": 4,
  "nbformat_minor": 0,
  "metadata": {
    "accelerator": "TPU",
    "colab": {
      "name": "Cadec_twadr_01.ipynb",
      "provenance": [],
      "collapsed_sections": [],
      "include_colab_link": true
    },
    "kernelspec": {
      "display_name": "Python 3",
      "name": "python3"
    }
  },
  "cells": [
    {
      "cell_type": "markdown",
      "metadata": {
        "id": "view-in-github",
        "colab_type": "text"
      },
      "source": [
        "<a href=\"https://colab.research.google.com/github/unt-iialab/medical-concept-normalization/blob/master/medical-concept-normalization/fine-tuning-experiments/askpatient/Cadec_twadr_01.ipynb\" target=\"_parent\"><img src=\"https://colab.research.google.com/assets/colab-badge.svg\" alt=\"Open In Colab\"/></a>"
      ]
    },
    {
      "cell_type": "code",
      "metadata": {
        "id": "adSi6i2-dWxy"
      },
      "source": [
        "import os"
      ],
      "execution_count": 1,
      "outputs": []
    },
    {
      "cell_type": "code",
      "metadata": {
        "id": "E7xYCRGPjd9B"
      },
      "source": [
        "base_dir = 'medical-concept-normalization'"
      ],
      "execution_count": 2,
      "outputs": []
    },
    {
      "cell_type": "code",
      "metadata": {
        "id": "yvIW3aUDjYNS"
      },
      "source": [
        "os.mkdir(base_dir)"
      ],
      "execution_count": 3,
      "outputs": []
    },
    {
      "cell_type": "code",
      "metadata": {
        "id": "es-FFLlfk6SG"
      },
      "source": [
        "os.mkdir('medical-concept-normalization/data_collection')"
      ],
      "execution_count": 4,
      "outputs": []
    },
    {
      "cell_type": "markdown",
      "metadata": {
        "id": "0R-Guw_VoJXm"
      },
      "source": [
        "**Install fastai and clone the fastai for text classification**\n",
        "\n"
      ]
    },
    {
      "cell_type": "code",
      "metadata": {
        "id": "QVZa3Z0PmHFH",
        "outputId": "0f148fa0-09ca-4f94-d53b-175c0ccbbd53",
        "colab": {
          "base_uri": "https://localhost:8080/"
        }
      },
      "source": [
        "!curl https://course-v3.fast.ai/setup/colab | bash"
      ],
      "execution_count": 5,
      "outputs": [
        {
          "output_type": "stream",
          "text": [
            "  % Total    % Received % Xferd  Average Speed   Time    Time     Time  Current\n",
            "                                 Dload  Upload   Total   Spent    Left  Speed\n",
            "\r  0     0    0     0    0     0      0      0 --:--:-- --:--:-- --:--:--     0curl: (6) Could not resolve host: course-v3.fast.ai\n"
          ],
          "name": "stdout"
        }
      ]
    },
    {
      "cell_type": "code",
      "metadata": {
        "id": "_FBFFEBrmJC0",
        "outputId": "90756957-a01a-4af3-f749-4ad01f8f1fe3",
        "colab": {
          "base_uri": "https://localhost:8080/"
        }
      },
      "source": [
        "!git clone https://github.com/wshuyi/demo-nlp-classification-fastai.git"
      ],
      "execution_count": 6,
      "outputs": [
        {
          "output_type": "stream",
          "text": [
            "Cloning into 'demo-nlp-classification-fastai'...\n",
            "remote: Enumerating objects: 9, done.\u001b[K\n",
            "remote: Total 9 (delta 0), reused 0 (delta 0), pack-reused 9\u001b[K\n",
            "Unpacking objects: 100% (9/9), done.\n"
          ],
          "name": "stdout"
        }
      ]
    },
    {
      "cell_type": "code",
      "metadata": {
        "id": "66zfh_JqmWMU"
      },
      "source": [
        "from fastai import *\n",
        "from fastai.text import *"
      ],
      "execution_count": 7,
      "outputs": []
    },
    {
      "cell_type": "markdown",
      "metadata": {
        "id": "mNIw-yALdBU9"
      },
      "source": [
        "**Set the path of the data collections**"
      ]
    },
    {
      "cell_type": "code",
      "metadata": {
        "id": "pzH7VMh4mqCL"
      },
      "source": [
        "path = Path('medical-concept-normalization/data_collection')"
      ],
      "execution_count": 8,
      "outputs": []
    },
    {
      "cell_type": "code",
      "metadata": {
        "id": "b8fjI6yyn4aS"
      },
      "source": [
        "# training data set\n",
        "\n",
        "train_csv = path/'TwADR-L.fold-1.train.csv'\n",
        "train = pd.read_csv(train_csv, header=None)\n",
        "#train.head()\n",
        "#train.info()"
      ],
      "execution_count": 10,
      "outputs": []
    },
    {
      "cell_type": "code",
      "metadata": {
        "id": "Hmlr-bAorfHd",
        "outputId": "3454942c-26a0-41f3-a791-ceba78561b76",
        "colab": {
          "base_uri": "https://localhost:8080/",
          "height": 204
        }
      },
      "source": [
        "# validating data set\n",
        "\n",
        "valid = pd.read_csv(path/\"TwADR-L.fold-1.validation.csv\",header=None)\n",
        "valid.head()"
      ],
      "execution_count": 11,
      "outputs": [
        {
          "output_type": "execute_result",
          "data": {
            "text/html": [
              "<div>\n",
              "<style scoped>\n",
              "    .dataframe tbody tr th:only-of-type {\n",
              "        vertical-align: middle;\n",
              "    }\n",
              "\n",
              "    .dataframe tbody tr th {\n",
              "        vertical-align: top;\n",
              "    }\n",
              "\n",
              "    .dataframe thead th {\n",
              "        text-align: right;\n",
              "    }\n",
              "</style>\n",
              "<table border=\"1\" class=\"dataframe\">\n",
              "  <thead>\n",
              "    <tr style=\"text-align: right;\">\n",
              "      <th></th>\n",
              "      <th>0</th>\n",
              "      <th>1</th>\n",
              "    </tr>\n",
              "  </thead>\n",
              "  <tbody>\n",
              "    <tr>\n",
              "      <th>0</th>\n",
              "      <td>85</td>\n",
              "      <td>tremor</td>\n",
              "    </tr>\n",
              "    <tr>\n",
              "      <th>1</th>\n",
              "      <td>119</td>\n",
              "      <td>anxiety</td>\n",
              "    </tr>\n",
              "    <tr>\n",
              "      <th>2</th>\n",
              "      <td>154</td>\n",
              "      <td>hives</td>\n",
              "    </tr>\n",
              "    <tr>\n",
              "      <th>3</th>\n",
              "      <td>189</td>\n",
              "      <td>dizziness</td>\n",
              "    </tr>\n",
              "    <tr>\n",
              "      <th>4</th>\n",
              "      <td>189</td>\n",
              "      <td>dizziness</td>\n",
              "    </tr>\n",
              "  </tbody>\n",
              "</table>\n",
              "</div>"
            ],
            "text/plain": [
              "     0          1\n",
              "0   85     tremor\n",
              "1  119    anxiety\n",
              "2  154      hives\n",
              "3  189  dizziness\n",
              "4  189  dizziness"
            ]
          },
          "metadata": {
            "tags": []
          },
          "execution_count": 11
        }
      ]
    },
    {
      "cell_type": "code",
      "metadata": {
        "id": "cOza9dfSsBud",
        "outputId": "f67b850c-1a49-46ba-a5a2-96cfb24b26a6",
        "colab": {
          "base_uri": "https://localhost:8080/",
          "height": 204
        }
      },
      "source": [
        "# testing data set\n",
        "\n",
        "test = pd.read_csv(path/\"TwADR-L.fold-1.test.csv\",header=None)\n",
        "test.head()"
      ],
      "execution_count": 12,
      "outputs": [
        {
          "output_type": "execute_result",
          "data": {
            "text/html": [
              "<div>\n",
              "<style scoped>\n",
              "    .dataframe tbody tr th:only-of-type {\n",
              "        vertical-align: middle;\n",
              "    }\n",
              "\n",
              "    .dataframe tbody tr th {\n",
              "        vertical-align: top;\n",
              "    }\n",
              "\n",
              "    .dataframe thead th {\n",
              "        text-align: right;\n",
              "    }\n",
              "</style>\n",
              "<table border=\"1\" class=\"dataframe\">\n",
              "  <thead>\n",
              "    <tr style=\"text-align: right;\">\n",
              "      <th></th>\n",
              "      <th>0</th>\n",
              "      <th>1</th>\n",
              "    </tr>\n",
              "  </thead>\n",
              "  <tbody>\n",
              "    <tr>\n",
              "      <th>0</th>\n",
              "      <td>13</td>\n",
              "      <td>Insomnia</td>\n",
              "    </tr>\n",
              "    <tr>\n",
              "      <th>1</th>\n",
              "      <td>13</td>\n",
              "      <td>awake in the middle of the night</td>\n",
              "    </tr>\n",
              "    <tr>\n",
              "      <th>2</th>\n",
              "      <td>61</td>\n",
              "      <td>very stupid</td>\n",
              "    </tr>\n",
              "    <tr>\n",
              "      <th>3</th>\n",
              "      <td>133</td>\n",
              "      <td>night terrors</td>\n",
              "    </tr>\n",
              "    <tr>\n",
              "      <th>4</th>\n",
              "      <td>189</td>\n",
              "      <td>dizziness</td>\n",
              "    </tr>\n",
              "  </tbody>\n",
              "</table>\n",
              "</div>"
            ],
            "text/plain": [
              "     0                                 1\n",
              "0   13                          Insomnia\n",
              "1   13  awake in the middle of the night\n",
              "2   61                       very stupid\n",
              "3  133                     night terrors\n",
              "4  189                         dizziness"
            ]
          },
          "metadata": {
            "tags": []
          },
          "execution_count": 12
        }
      ]
    },
    {
      "cell_type": "code",
      "metadata": {
        "id": "Vo-YNvVYoaH6",
        "outputId": "2364d625-0c66-47e8-c066-9de7717d966b",
        "colab": {
          "base_uri": "https://localhost:8080/",
          "height": 17
        }
      },
      "source": [
        "# Creating DataBunch for language modelling\n",
        "\n",
        "data_lm = TextLMDataBunch.from_csv(path, 'TwADR-cadec.csv')"
      ],
      "execution_count": 13,
      "outputs": [
        {
          "output_type": "display_data",
          "data": {
            "text/html": [
              ""
            ],
            "text/plain": [
              "<IPython.core.display.HTML object>"
            ]
          },
          "metadata": {
            "tags": []
          }
        },
        {
          "output_type": "display_data",
          "data": {
            "text/html": [
              ""
            ],
            "text/plain": [
              "<IPython.core.display.HTML object>"
            ]
          },
          "metadata": {
            "tags": []
          }
        }
      ]
    },
    {
      "cell_type": "code",
      "metadata": {
        "id": "qcV-9kMnNLBf"
      },
      "source": [
        ""
      ],
      "execution_count": 13,
      "outputs": []
    },
    {
      "cell_type": "code",
      "metadata": {
        "id": "1ScY9afDsnvE"
      },
      "source": [
        "# Creating DataBunch for classification\n",
        "\n",
        "# data_clas = TextClasDataBunch.from_df(path, train, valid, test, vocab=data_lm.train_ds.vocab, bs=128)"
      ],
      "execution_count": 14,
      "outputs": []
    },
    {
      "cell_type": "code",
      "metadata": {
        "id": "gzrSdQcvey9p",
        "outputId": "353c08e8-5e06-4704-81cc-ae974eda58eb",
        "colab": {
          "base_uri": "https://localhost:8080/",
          "height": 17
        }
      },
      "source": [
        "data_clas = TextClasDataBunch.from_df(path, train, valid, vocab=data_lm.train_ds.vocab, bs=128)"
      ],
      "execution_count": 15,
      "outputs": [
        {
          "output_type": "display_data",
          "data": {
            "text/html": [
              ""
            ],
            "text/plain": [
              "<IPython.core.display.HTML object>"
            ]
          },
          "metadata": {
            "tags": []
          }
        },
        {
          "output_type": "display_data",
          "data": {
            "text/html": [
              ""
            ],
            "text/plain": [
              "<IPython.core.display.HTML object>"
            ]
          },
          "metadata": {
            "tags": []
          }
        }
      ]
    },
    {
      "cell_type": "code",
      "metadata": {
        "id": "MD27Tf0Ke3ou",
        "outputId": "3dd4173d-2658-4fec-a776-4e6128ddebeb",
        "colab": {
          "base_uri": "https://localhost:8080/",
          "height": 17
        }
      },
      "source": [
        "data_clas.add_test(test,label=0)\n"
      ],
      "execution_count": 16,
      "outputs": [
        {
          "output_type": "display_data",
          "data": {
            "text/html": [
              ""
            ],
            "text/plain": [
              "<IPython.core.display.HTML object>"
            ]
          },
          "metadata": {
            "tags": []
          }
        }
      ]
    },
    {
      "cell_type": "code",
      "metadata": {
        "id": "-dpjnk_rstwk"
      },
      "source": [
        "data_lm.save()\n",
        "data_clas.save()"
      ],
      "execution_count": 17,
      "outputs": []
    },
    {
      "cell_type": "code",
      "metadata": {
        "id": "4OkiJa36sw5s",
        "outputId": "e26915c0-bd83-4659-abc2-97119541ab62",
        "colab": {
          "base_uri": "https://localhost:8080/"
        }
      },
      "source": [
        "data_lm.train_ds.vocab.itos"
      ],
      "execution_count": 18,
      "outputs": [
        {
          "output_type": "execute_result",
          "data": {
            "text/plain": [
              "['xxunk',\n",
              " 'xxpad',\n",
              " 'xxbos',\n",
              " 'xxeos',\n",
              " 'xxfld',\n",
              " 'xxmaj',\n",
              " 'xxup',\n",
              " 'xxrep',\n",
              " 'xxwrep',\n",
              " '.',\n",
              " ',',\n",
              " 'i',\n",
              " 'the',\n",
              " 'and',\n",
              " 'to',\n",
              " 'my',\n",
              " 'pain',\n",
              " 'of',\n",
              " 'in',\n",
              " 'a',\n",
              " 'it',\n",
              " 'me',\n",
              " 'mood',\n",
              " 'increased',\n",
              " 'for',\n",
              " 'have',\n",
              " '-',\n",
              " 'was',\n",
              " 'drug',\n",
              " ')',\n",
              " '(',\n",
              " 'lipitor',\n",
              " 'this',\n",
              " 'on',\n",
              " 'disorder',\n",
              " 'abnormal',\n",
              " 'not',\n",
              " 'withdrawal',\n",
              " 'anxiety',\n",
              " 'symptoms',\n",
              " 'that',\n",
              " 'had',\n",
              " 'with',\n",
              " 'is',\n",
              " 'muscle',\n",
              " 'like',\n",
              " 'but',\n",
              " 'weight',\n",
              " 'decreased',\n",
              " 'feeling',\n",
              " \"n't\",\n",
              " 'taking',\n",
              " 'disorders',\n",
              " 'sleeplessness',\n",
              " 'behavior',\n",
              " 'up',\n",
              " 'sleep',\n",
              " 'after',\n",
              " 'syndrome',\n",
              " 'insomnia',\n",
              " 'so',\n",
              " 'got',\n",
              " 'blood',\n",
              " 'all',\n",
              " 'feel',\n",
              " 'diseases',\n",
              " 'am',\n",
              " 'side',\n",
              " 'depression',\n",
              " 'finding',\n",
              " 'somnolence',\n",
              " 'disturbance',\n",
              " 'back',\n",
              " 'from',\n",
              " '!',\n",
              " 'loss',\n",
              " 'energy',\n",
              " 'been',\n",
              " 'effects',\n",
              " 'mental',\n",
              " 'day',\n",
              " 'cholesterol',\n",
              " 'skin',\n",
              " 'be',\n",
              " 'body',\n",
              " 'as',\n",
              " 'heart',\n",
              " 'acute',\n",
              " 'appetite',\n",
              " 'nausea',\n",
              " 'has',\n",
              " 'take',\n",
              " 'gain',\n",
              " '/',\n",
              " 'at',\n",
              " 'mg',\n",
              " 'do',\n",
              " 'no',\n",
              " 'dizziness',\n",
              " 'off',\n",
              " 'fatigue',\n",
              " 'now',\n",
              " 'about',\n",
              " 'years',\n",
              " 'out',\n",
              " 'very',\n",
              " 'ceiling',\n",
              " 'or',\n",
              " 'joint',\n",
              " 'hyperactive',\n",
              " 'will',\n",
              " 'panic',\n",
              " 'awake',\n",
              " 'irritable',\n",
              " 'days',\n",
              " 'feelings',\n",
              " 'are',\n",
              " 'attention',\n",
              " 'excitability',\n",
              " 'swelling',\n",
              " 'drowsiness',\n",
              " 'state',\n",
              " 'did',\n",
              " 'if',\n",
              " 'time',\n",
              " 'you',\n",
              " 'doctor',\n",
              " 'rash',\n",
              " 'liver',\n",
              " 'months',\n",
              " 'could',\n",
              " 'severe',\n",
              " \"'m\",\n",
              " 'still',\n",
              " 'stomach',\n",
              " 'swings',\n",
              " 'depressed',\n",
              " 'night',\n",
              " 'when',\n",
              " 'started',\n",
              " 'stopped',\n",
              " 'problems',\n",
              " 'headache',\n",
              " 'allergic',\n",
              " '2',\n",
              " '3',\n",
              " 'get',\n",
              " 'cramps',\n",
              " '#',\n",
              " 'bipolar',\n",
              " 'disease',\n",
              " 'site',\n",
              " 'reaction',\n",
              " 'memory',\n",
              " 'more',\n",
              " 'down',\n",
              " 'also',\n",
              " 'wakefulness',\n",
              " 'can',\n",
              " 'would',\n",
              " 'abdominal',\n",
              " '10',\n",
              " 'lower',\n",
              " 'weeks',\n",
              " 'bad',\n",
              " \"'s\",\n",
              " 'by',\n",
              " 'infection',\n",
              " 'took',\n",
              " 'legs',\n",
              " 'attack',\n",
              " 'over',\n",
              " 'an',\n",
              " 'just',\n",
              " 'tired',\n",
              " 'dreams',\n",
              " 'went',\n",
              " 'breast',\n",
              " 'leg',\n",
              " 'injury',\n",
              " 'one',\n",
              " 'respiratory',\n",
              " 'some',\n",
              " 'high',\n",
              " 'dry',\n",
              " 'eye',\n",
              " 'stiffness',\n",
              " 'any',\n",
              " 'tremor',\n",
              " 'only',\n",
              " 'attacks',\n",
              " 'brain',\n",
              " 'other',\n",
              " 'ca',\n",
              " 'level',\n",
              " 'week',\n",
              " 'then',\n",
              " 'he',\n",
              " 'difficulty',\n",
              " '&',\n",
              " 'your',\n",
              " 'vision',\n",
              " 'go',\n",
              " 'again',\n",
              " 'numbness',\n",
              " 'rage',\n",
              " 'ago',\n",
              " 'hemorrhage',\n",
              " 'which',\n",
              " 'medication',\n",
              " 'sleepy',\n",
              " 'never',\n",
              " 'much',\n",
              " 'better',\n",
              " 'initial',\n",
              " 'two',\n",
              " 'shoulder',\n",
              " 'they',\n",
              " 'foot',\n",
              " 'pressure',\n",
              " 'deficit',\n",
              " 'life',\n",
              " 'chest',\n",
              " 'psychotic',\n",
              " 'carcinoma',\n",
              " 'even',\n",
              " 'before',\n",
              " 'sweating',\n",
              " 'makes',\n",
              " 'taste',\n",
              " 'failure',\n",
              " 'neck',\n",
              " '5',\n",
              " 'bone',\n",
              " 'infections',\n",
              " '6',\n",
              " 'arthritis',\n",
              " 'because',\n",
              " 'weakness',\n",
              " \"'ve\",\n",
              " 'these',\n",
              " '4',\n",
              " 'left',\n",
              " 'felt',\n",
              " 'low',\n",
              " 'what',\n",
              " 'were',\n",
              " 'going',\n",
              " 'first',\n",
              " 'discomfort',\n",
              " 'sensation',\n",
              " 'daytime',\n",
              " 'feet',\n",
              " 'cardiac',\n",
              " 'aggravated',\n",
              " 'zombie',\n",
              " 'pulmonary',\n",
              " 'middle',\n",
              " 'tingling',\n",
              " 'asleep',\n",
              " 'exhaustion',\n",
              " 'concentration',\n",
              " 'away',\n",
              " 'edema',\n",
              " 'dependence',\n",
              " 'ulcer',\n",
              " 'distress',\n",
              " 'being',\n",
              " 'function',\n",
              " 'dermatitis',\n",
              " 'kidney',\n",
              " 'chronic',\n",
              " 'knee',\n",
              " 'system',\n",
              " 'same',\n",
              " 'test',\n",
              " 'dizzy',\n",
              " 'pains',\n",
              " 'need',\n",
              " 'elevated',\n",
              " 'facial',\n",
              " 'damage',\n",
              " 'stop',\n",
              " '1',\n",
              " 'gastrointestinal',\n",
              " 'localised',\n",
              " 'walk',\n",
              " 'than',\n",
              " 'eating',\n",
              " 'suicidal',\n",
              " 'hallucinations',\n",
              " 'hurt',\n",
              " 'extreme',\n",
              " 'statins',\n",
              " 'ache',\n",
              " 'painful',\n",
              " 'getting',\n",
              " 'last',\n",
              " 'since',\n",
              " 'vomiting',\n",
              " 'worse',\n",
              " 'anger',\n",
              " 'headaches',\n",
              " '20',\n",
              " 'work',\n",
              " 'right',\n",
              " 'effect',\n",
              " 'sleepiness',\n",
              " 'anemia',\n",
              " 'bleeding',\n",
              " 'face',\n",
              " 'nightmares',\n",
              " '?',\n",
              " 'conditions',\n",
              " 'dr',\n",
              " 'taken',\n",
              " 'migraine',\n",
              " 'death',\n",
              " 'statin',\n",
              " 'good',\n",
              " 'muscles',\n",
              " 'too',\n",
              " 'thought',\n",
              " 'every',\n",
              " 'hours',\n",
              " 'dose',\n",
              " 'there',\n",
              " 'depressive',\n",
              " 'change',\n",
              " 'urine',\n",
              " 'make',\n",
              " 'experienced',\n",
              " 'cerebral',\n",
              " 'dysfunction',\n",
              " 'hands',\n",
              " 'having',\n",
              " 'well',\n",
              " 'disturbances',\n",
              " 'depersonalization',\n",
              " 'think',\n",
              " 'told',\n",
              " 'who',\n",
              " 'compulsive',\n",
              " 'due',\n",
              " 'drugs',\n",
              " ';',\n",
              " 'wide',\n",
              " 'cell',\n",
              " 'arrest',\n",
              " 'terrible',\n",
              " 'pruritus',\n",
              " 'should',\n",
              " 'know',\n",
              " 'diarrhea',\n",
              " 'seizures',\n",
              " 'year',\n",
              " 'spasm',\n",
              " 'problem',\n",
              " 'lack',\n",
              " 'serum',\n",
              " 'see',\n",
              " 'hunger',\n",
              " 'uterine',\n",
              " 'month',\n",
              " 'aches',\n",
              " 'normal',\n",
              " 'almost',\n",
              " 'bite',\n",
              " 'cause',\n",
              " 'does',\n",
              " 'within',\n",
              " 'hypertension',\n",
              " 'thinking',\n",
              " 'said',\n",
              " 'cold',\n",
              " 'arm',\n",
              " 'cancer',\n",
              " 'crazy',\n",
              " 'hip',\n",
              " 'few',\n",
              " 'vaginal',\n",
              " 'emotional',\n",
              " 'ventricular',\n",
              " 'until',\n",
              " 'walking',\n",
              " 'localized',\n",
              " 'irritation',\n",
              " 'oedema',\n",
              " 'corneal',\n",
              " 'count',\n",
              " 'social',\n",
              " 'upper',\n",
              " 'nervous',\n",
              " 'vivid',\n",
              " 'reduced',\n",
              " 'put',\n",
              " 'sore',\n",
              " 'asthma',\n",
              " 'neoplasm',\n",
              " 'really',\n",
              " 'adderall',\n",
              " 'abuse',\n",
              " 'gastric',\n",
              " 'both',\n",
              " 'obsessive',\n",
              " 'without',\n",
              " 'weird',\n",
              " '40',\n",
              " 'euphoric',\n",
              " 'cramping',\n",
              " 'ldl',\n",
              " 'oral',\n",
              " 'hepatic',\n",
              " 'eyes',\n",
              " 'gas',\n",
              " 'swollen',\n",
              " 'drowsy',\n",
              " 'nauseous',\n",
              " 'little',\n",
              " 'total',\n",
              " 'candidiasis',\n",
              " 'alcohol',\n",
              " 'tract',\n",
              " 'nerve',\n",
              " '7',\n",
              " 'myself',\n",
              " 'many',\n",
              " 'genital',\n",
              " 'peripheral',\n",
              " 'another',\n",
              " 'nasal',\n",
              " 'necrosis',\n",
              " 'malignant',\n",
              " 'great',\n",
              " 'people',\n",
              " 'arms',\n",
              " 'electrocardiogram',\n",
              " ':',\n",
              " 'injection',\n",
              " 'impairment',\n",
              " 'sleeping',\n",
              " 'sweat',\n",
              " 'sexual',\n",
              " 'found',\n",
              " 'ear',\n",
              " '8',\n",
              " 'glucose',\n",
              " 'diet',\n",
              " 'anything',\n",
              " 'bulimia',\n",
              " 'spasms',\n",
              " 'fear',\n",
              " 'decrease',\n",
              " 'levels',\n",
              " 'sneezing',\n",
              " 'lost',\n",
              " 'throat',\n",
              " 'gone',\n",
              " 'intoxication',\n",
              " 'neuropathy',\n",
              " 'hungry',\n",
              " 'erection',\n",
              " 'head',\n",
              " 'tests',\n",
              " 'injuries',\n",
              " 'lose',\n",
              " 'withdrawals',\n",
              " 'colitis',\n",
              " 'tongue',\n",
              " 'diabetic',\n",
              " 'lightheadedness',\n",
              " 'breathing',\n",
              " 'doctors',\n",
              " 'sick',\n",
              " 'vertigo',\n",
              " 'most',\n",
              " 'thirst',\n",
              " 'personality',\n",
              " 'short',\n",
              " 'term',\n",
              " 'consciousness',\n",
              " 'knees',\n",
              " 'way',\n",
              " 'excessive',\n",
              " 'try',\n",
              " 'falling',\n",
              " 'mouth',\n",
              " 'diabetes',\n",
              " 'making',\n",
              " 'something',\n",
              " 'arthropod',\n",
              " 'joints',\n",
              " 'tooth',\n",
              " 'bed',\n",
              " 'stress',\n",
              " 'help',\n",
              " 'long',\n",
              " 'lung',\n",
              " 'neoplasms',\n",
              " 'find',\n",
              " 'exercise',\n",
              " 'female',\n",
              " 'palpitations',\n",
              " 'pneumonia',\n",
              " 'urticaria',\n",
              " 'libido',\n",
              " 'speech',\n",
              " 'episode',\n",
              " 'thoughts',\n",
              " 'visual',\n",
              " 'minutes',\n",
              " 'generalized',\n",
              " 'fever',\n",
              " 'block',\n",
              " 'paranoid',\n",
              " 'several',\n",
              " 'stopping',\n",
              " 'burning',\n",
              " 'hair',\n",
              " '%',\n",
              " 'times',\n",
              " 'how',\n",
              " 'impaired',\n",
              " 'erythema',\n",
              " 'allergy',\n",
              " 'next',\n",
              " 'developed',\n",
              " 'muscular',\n",
              " 'noticed',\n",
              " 'always',\n",
              " 'she',\n",
              " 'reading',\n",
              " 'inflammation',\n",
              " 'sudden',\n",
              " 'three',\n",
              " 'non',\n",
              " 'renal',\n",
              " 'general',\n",
              " 'confusion',\n",
              " 'sinus',\n",
              " 'blurred',\n",
              " 'intense',\n",
              " 'suicide',\n",
              " 'while',\n",
              " 'fracture',\n",
              " 'completely',\n",
              " 'morning',\n",
              " 'psychosis',\n",
              " 'bloating',\n",
              " 'result',\n",
              " 'came',\n",
              " 'different',\n",
              " 'their',\n",
              " 'movements',\n",
              " 'however',\n",
              " 'overdose',\n",
              " 'symptom',\n",
              " 'unable',\n",
              " 'insufficiency',\n",
              " 'lbs',\n",
              " 'weak',\n",
              " 'partial',\n",
              " 'despair',\n",
              " 'binge',\n",
              " '30',\n",
              " 'eat',\n",
              " 'tissue',\n",
              " 'prescribed',\n",
              " 'shoulders',\n",
              " 'want',\n",
              " 'adenocarcinoma',\n",
              " 'old',\n",
              " 'made',\n",
              " 'may',\n",
              " 'around',\n",
              " 'ejaculation',\n",
              " 'pill',\n",
              " 'itching',\n",
              " 'them',\n",
              " 'caused',\n",
              " 'hard',\n",
              " 'traumatic',\n",
              " 'quality',\n",
              " 'obstruction',\n",
              " 'lupus',\n",
              " 'hepatitis',\n",
              " 'into',\n",
              " 'cough',\n",
              " 'use',\n",
              " 'angry',\n",
              " 'prolonged',\n",
              " 'twitch',\n",
              " 'food',\n",
              " 'limb',\n",
              " 'bacterial',\n",
              " 'ankle',\n",
              " 'lot',\n",
              " 'especially',\n",
              " 'began',\n",
              " 'vasculitis',\n",
              " 'unconscious',\n",
              " 'experiencing',\n",
              " 'metastatic',\n",
              " 'sedated',\n",
              " 'sure',\n",
              " 'male',\n",
              " 'arrhythmia',\n",
              " 'fractures',\n",
              " 'red',\n",
              " 'nt',\n",
              " 'family',\n",
              " 'tachycardia',\n",
              " 'drunk',\n",
              " 'results',\n",
              " 'potassium',\n",
              " 'bladder',\n",
              " 'early',\n",
              " 'cutaneous',\n",
              " 'atrophy',\n",
              " 'gained',\n",
              " 'fluid',\n",
              " 'interest',\n",
              " 'atrial',\n",
              " 'hot',\n",
              " 'lowered',\n",
              " 'mind',\n",
              " 'numb',\n",
              " 'losing',\n",
              " 'immediately',\n",
              " 'we',\n",
              " 'haemorrhage',\n",
              " 'half',\n",
              " 'tolerance',\n",
              " 'migraines',\n",
              " 'ever',\n",
              " 'hypomania',\n",
              " 'trying',\n",
              " 'hyper',\n",
              " 'urinary',\n",
              " 'changes',\n",
              " 'nothing',\n",
              " 'musculoskeletal',\n",
              " 'tried',\n",
              " 'awful',\n",
              " 'limbs',\n",
              " 'arthrotec',\n",
              " 'recently',\n",
              " 'stay',\n",
              " 'bowel',\n",
              " 'interactions',\n",
              " 'things',\n",
              " 'paranoia',\n",
              " 'worth',\n",
              " 'tendency',\n",
              " 'anyone',\n",
              " 'later',\n",
              " 'prozac',\n",
              " 'his',\n",
              " 'daily',\n",
              " 'medicine',\n",
              " 'labored',\n",
              " 'read',\n",
              " 'past',\n",
              " 'myocardial',\n",
              " 'quit',\n",
              " 'altered',\n",
              " 'once',\n",
              " 'bronchitis',\n",
              " 'infarction',\n",
              " 'works',\n",
              " 'come',\n",
              " 'major',\n",
              " 'craving',\n",
              " 'meds',\n",
              " 'rhinitis',\n",
              " 'stuff',\n",
              " 'constant',\n",
              " 'acid',\n",
              " 'enzyme',\n",
              " 'fall',\n",
              " 'application',\n",
              " 'its',\n",
              " 'involuntary',\n",
              " 'cyst',\n",
              " 'person',\n",
              " 'acidosis',\n",
              " 'doing',\n",
              " 'causing',\n",
              " 'gland',\n",
              " 'shaking',\n",
              " 'though',\n",
              " 'rheumatoid',\n",
              " 'permanent',\n",
              " 'type',\n",
              " 'hand',\n",
              " 'during',\n",
              " 'anxious',\n",
              " 'mild',\n",
              " 'post',\n",
              " 'terrors',\n",
              " 'hurting',\n",
              " 'recommend',\n",
              " 'density',\n",
              " 'believe',\n",
              " 'metabolic',\n",
              " 'antisocial',\n",
              " 'hour',\n",
              " 'focusing',\n",
              " 'keep',\n",
              " 'tenderness',\n",
              " 'finally',\n",
              " 'creatinine',\n",
              " 'relief',\n",
              " 'able',\n",
              " 'unspecified',\n",
              " 'toe',\n",
              " 'far',\n",
              " 'esophageal',\n",
              " 'abdomen',\n",
              " '--',\n",
              " 'motor',\n",
              " 'retention',\n",
              " 'similar',\n",
              " 'her',\n",
              " 'seems',\n",
              " 'super',\n",
              " 'wo',\n",
              " 'lowering',\n",
              " 'indifferent',\n",
              " 'improvement',\n",
              " 'positive',\n",
              " 'through',\n",
              " 'purpura',\n",
              " 'trippin',\n",
              " 'thyroid',\n",
              " 'horrible',\n",
              " 'atrioventricular',\n",
              " 'him',\n",
              " 'today',\n",
              " 'abnormality',\n",
              " 'whole',\n",
              " 'premature',\n",
              " 'yet',\n",
              " \"'\",\n",
              " 'mad',\n",
              " 'arousal',\n",
              " 'paralysed',\n",
              " 'exhausted',\n",
              " 'balance',\n",
              " 'natural',\n",
              " '100',\n",
              " 'hyperactivity',\n",
              " '80',\n",
              " 'experience',\n",
              " 'hdl',\n",
              " 'prostate',\n",
              " 'else',\n",
              " 'calf',\n",
              " 'where',\n",
              " 'retinal',\n",
              " 'discoloration',\n",
              " 'own',\n",
              " 'eruptions',\n",
              " 'website',\n",
              " 'tightness',\n",
              " 'toxicity',\n",
              " 'feels',\n",
              " 'control',\n",
              " 'ratio',\n",
              " 'acne',\n",
              " 'done',\n",
              " 'manic',\n",
              " 'ankles',\n",
              " 'viral',\n",
              " 'poor',\n",
              " 'empty',\n",
              " 'bilirubin',\n",
              " 'ulcerative',\n",
              " 'others',\n",
              " 'hope',\n",
              " 'thing',\n",
              " 'secondary',\n",
              " 'those',\n",
              " 'upset',\n",
              " 'steroid',\n",
              " 'blindness',\n",
              " 'hit',\n",
              " 'generalised',\n",
              " 'probably',\n",
              " 'local',\n",
              " 'hypertrophy',\n",
              " 'ischemia',\n",
              " 'deafness',\n",
              " 'flu',\n",
              " 'miss',\n",
              " 'elbow',\n",
              " 'porphyria',\n",
              " 'immune',\n",
              " 'cystitis',\n",
              " 'etc',\n",
              " 'each',\n",
              " 'add',\n",
              " 'none',\n",
              " 'alkalosis',\n",
              " 'rather',\n",
              " 'abscess',\n",
              " 'slept',\n",
              " 'substance',\n",
              " 'constipation',\n",
              " 'action',\n",
              " 'zocor',\n",
              " 'starting',\n",
              " '50',\n",
              " 'ovarian',\n",
              " 'hips',\n",
              " 'entire',\n",
              " 'wake',\n",
              " 'triglycerides',\n",
              " 'mellitus',\n",
              " 'zaps',\n",
              " 'heartburn',\n",
              " 'say',\n",
              " 'rupture',\n",
              " 'anorexia',\n",
              " 'fingers',\n",
              " 'erythematosus',\n",
              " 'diagnosed',\n",
              " 'perforation',\n",
              " 'thinness',\n",
              " 'bites',\n",
              " 'otitis',\n",
              " 'nail',\n",
              " 'using',\n",
              " 'temperature',\n",
              " 'pm',\n",
              " '\"',\n",
              " 'became',\n",
              " 'less',\n",
              " 'deprived',\n",
              " 'lesion',\n",
              " 'water',\n",
              " 'related',\n",
              " 'delayed',\n",
              " 'syncope',\n",
              " 'trouble',\n",
              " 'worst',\n",
              " 'thrombosis',\n",
              " 'epilepsy',\n",
              " 'shock',\n",
              " 'physical',\n",
              " 'eczema',\n",
              " 'doc',\n",
              " 'illness',\n",
              " 'everything',\n",
              " 'hurts',\n",
              " 'syndromes',\n",
              " 'extremely',\n",
              " 'contact',\n",
              " 'eyelid',\n",
              " 'sickness',\n",
              " 'ocular',\n",
              " 'fucking',\n",
              " 'hearing',\n",
              " 'atrophic',\n",
              " 'dosage',\n",
              " 'artery',\n",
              " 'bruxism',\n",
              " 'associated',\n",
              " 'prothrombin',\n",
              " 'epidermal',\n",
              " 'erectile',\n",
              " 'why',\n",
              " 'bullous',\n",
              " 'distracted',\n",
              " 'neuralgia',\n",
              " 'mania',\n",
              " 'active',\n",
              " 'pounding',\n",
              " 'macular',\n",
              " 'possible',\n",
              " 'enough',\n",
              " 'groggy',\n",
              " 'new',\n",
              " 'second',\n",
              " 'highly',\n",
              " 'eaten',\n",
              " 'leukemia',\n",
              " 'might',\n",
              " 'adrenal',\n",
              " 'gait',\n",
              " 'patients',\n",
              " 'congestion',\n",
              " 'surgery',\n",
              " 'negative',\n",
              " 'fibrillation',\n",
              " 'toxic',\n",
              " 'fucked',\n",
              " 'conjunctivitis',\n",
              " 'cortisone',\n",
              " 'affect',\n",
              " 'arteritis',\n",
              " 'forgetfulness',\n",
              " 'issues',\n",
              " 'intolerance',\n",
              " 'embolism',\n",
              " 'decided',\n",
              " 'age',\n",
              " 'behaviour',\n",
              " 'schizophrenia',\n",
              " 'sad',\n",
              " 'toes',\n",
              " 'self',\n",
              " 'vascular',\n",
              " 'such',\n",
              " 'pills',\n",
              " 'accidental',\n",
              " \"'ll\",\n",
              " 'helped',\n",
              " 'herpes',\n",
              " 'cataract',\n",
              " 'hypersomnia',\n",
              " 'continue',\n",
              " 'increase',\n",
              " 'rate',\n",
              " 'keeping',\n",
              " 'grumpy',\n",
              " 'flare',\n",
              " 'instead',\n",
              " 'psychological',\n",
              " 'mean',\n",
              " 'dangerous',\n",
              " 'glaucoma',\n",
              " 'suffered',\n",
              " 'cramp',\n",
              " 'ischemic',\n",
              " 'extremities',\n",
              " 'gradually',\n",
              " 'rectal',\n",
              " 'obstructive',\n",
              " 'become',\n",
              " 'polyps',\n",
              " 'inability',\n",
              " 'sinusitis',\n",
              " 'worked',\n",
              " 'mass',\n",
              " 'wrist',\n",
              " 'vulvovaginal',\n",
              " 'digestive',\n",
              " 'rigidity',\n",
              " 'point',\n",
              " 'intestinal',\n",
              " 'eosinophilia',\n",
              " 'multiple',\n",
              " 'tell',\n",
              " 'job',\n",
              " 'stairs',\n",
              " 'used',\n",
              " 'live',\n",
              " 'full',\n",
              " 'premenstrual',\n",
              " 'break',\n",
              " 'vaginitis',\n",
              " 'hypersensitivity',\n",
              " 'discharge',\n",
              " 'sensory',\n",
              " 'white',\n",
              " 'shit',\n",
              " 'soft',\n",
              " 'stool',\n",
              " 'concentrate',\n",
              " '9',\n",
              " 'wrists',\n",
              " 'serious',\n",
              " 'tiredness',\n",
              " 'thirsty',\n",
              " 'thinning',\n",
              " 'start',\n",
              " 'hyperplasia',\n",
              " 'pissed',\n",
              " 'awakening',\n",
              " 'yawning',\n",
              " 'status',\n",
              " 'aggressive',\n",
              " 'distractibility',\n",
              " 'common',\n",
              " 'hormone',\n",
              " 'deficiency',\n",
              " 'creatine',\n",
              " 'although',\n",
              " 'myopathy',\n",
              " 'movement',\n",
              " 'nephritis',\n",
              " 'changed',\n",
              " 'influenza',\n",
              " 'alteration',\n",
              " 'period',\n",
              " 'tendon',\n",
              " 'angina',\n",
              " 'health',\n",
              " 'vitreous',\n",
              " ...]"
            ]
          },
          "metadata": {
            "tags": []
          },
          "execution_count": 18
        }
      ]
    },
    {
      "cell_type": "code",
      "metadata": {
        "id": "yPWr03mls3VT",
        "outputId": "794dd780-bb9e-4380-b436-263ff00d87a3",
        "colab": {
          "base_uri": "https://localhost:8080/",
          "height": 17
        }
      },
      "source": [
        "model_path = path/'models'\n",
        "model_path.mkdir(exist_ok=True)\n",
        "url = 'http://files.fast.ai/models/wt103_v1/'\n",
        "download_url(f'{url}lstm_wt103.pth', model_path/'lstm_wt103.pth')\n",
        "download_url(f'{url}itos_wt103.pkl', model_path/'itos_wt103.pkl')"
      ],
      "execution_count": 19,
      "outputs": [
        {
          "output_type": "display_data",
          "data": {
            "text/html": [
              ""
            ],
            "text/plain": [
              "<IPython.core.display.HTML object>"
            ]
          },
          "metadata": {
            "tags": []
          }
        },
        {
          "output_type": "display_data",
          "data": {
            "text/html": [
              ""
            ],
            "text/plain": [
              "<IPython.core.display.HTML object>"
            ]
          },
          "metadata": {
            "tags": []
          }
        }
      ]
    },
    {
      "cell_type": "code",
      "metadata": {
        "id": "JRzvWg8RtGGr",
        "outputId": "668c96ac-4a35-46ed-97d7-eee8772e04d4",
        "colab": {
          "base_uri": "https://localhost:8080/",
          "height": 34
        }
      },
      "source": [
        "learn = language_model_learner(data_lm, AWD_LSTM, drop_mult=0.5)"
      ],
      "execution_count": 20,
      "outputs": [
        {
          "output_type": "stream",
          "text": [
            "Downloading https://s3.amazonaws.com/fast-ai-modelzoo/wt103-fwd.tgz\n"
          ],
          "name": "stdout"
        },
        {
          "output_type": "display_data",
          "data": {
            "text/html": [
              ""
            ],
            "text/plain": [
              "<IPython.core.display.HTML object>"
            ]
          },
          "metadata": {
            "tags": []
          }
        }
      ]
    },
    {
      "cell_type": "code",
      "metadata": {
        "id": "xKK7GeBev7Xn",
        "outputId": "5dddbc9c-68e2-4525-f548-328705b660ac",
        "colab": {
          "base_uri": "https://localhost:8080/",
          "height": 80
        }
      },
      "source": [
        "learn.fit_one_cycle(1, 1e-2)"
      ],
      "execution_count": 21,
      "outputs": [
        {
          "output_type": "display_data",
          "data": {
            "text/html": [
              "<table border=\"1\" class=\"dataframe\">\n",
              "  <thead>\n",
              "    <tr style=\"text-align: left;\">\n",
              "      <th>epoch</th>\n",
              "      <th>train_loss</th>\n",
              "      <th>valid_loss</th>\n",
              "      <th>accuracy</th>\n",
              "      <th>time</th>\n",
              "    </tr>\n",
              "  </thead>\n",
              "  <tbody>\n",
              "    <tr>\n",
              "      <td>0</td>\n",
              "      <td>4.298343</td>\n",
              "      <td>3.446717</td>\n",
              "      <td>0.429548</td>\n",
              "      <td>31:58</td>\n",
              "    </tr>\n",
              "  </tbody>\n",
              "</table>"
            ],
            "text/plain": [
              "<IPython.core.display.HTML object>"
            ]
          },
          "metadata": {
            "tags": []
          }
        }
      ]
    },
    {
      "cell_type": "code",
      "metadata": {
        "id": "iB7rHGQCwd12",
        "outputId": "cf4bdcfc-8993-4785-a76c-340d00401266",
        "colab": {
          "base_uri": "https://localhost:8080/",
          "height": 80
        }
      },
      "source": [
        "learn.fit_one_cycle(1, 1e-2)"
      ],
      "execution_count": 22,
      "outputs": [
        {
          "output_type": "display_data",
          "data": {
            "text/html": [
              "<table border=\"1\" class=\"dataframe\">\n",
              "  <thead>\n",
              "    <tr style=\"text-align: left;\">\n",
              "      <th>epoch</th>\n",
              "      <th>train_loss</th>\n",
              "      <th>valid_loss</th>\n",
              "      <th>accuracy</th>\n",
              "      <th>time</th>\n",
              "    </tr>\n",
              "  </thead>\n",
              "  <tbody>\n",
              "    <tr>\n",
              "      <td>0</td>\n",
              "      <td>3.292126</td>\n",
              "      <td>3.008879</td>\n",
              "      <td>0.490472</td>\n",
              "      <td>31:40</td>\n",
              "    </tr>\n",
              "  </tbody>\n",
              "</table>"
            ],
            "text/plain": [
              "<IPython.core.display.HTML object>"
            ]
          },
          "metadata": {
            "tags": []
          }
        }
      ]
    },
    {
      "cell_type": "code",
      "metadata": {
        "id": "_BnSuAeCwkBe",
        "outputId": "97b92b75-8998-491b-c504-f91af8b91fe3",
        "colab": {
          "base_uri": "https://localhost:8080/",
          "height": 80
        }
      },
      "source": [
        "learn.fit_one_cycle(1, 1e-3)"
      ],
      "execution_count": 23,
      "outputs": [
        {
          "output_type": "display_data",
          "data": {
            "text/html": [
              "<table border=\"1\" class=\"dataframe\">\n",
              "  <thead>\n",
              "    <tr style=\"text-align: left;\">\n",
              "      <th>epoch</th>\n",
              "      <th>train_loss</th>\n",
              "      <th>valid_loss</th>\n",
              "      <th>accuracy</th>\n",
              "      <th>time</th>\n",
              "    </tr>\n",
              "  </thead>\n",
              "  <tbody>\n",
              "    <tr>\n",
              "      <td>0</td>\n",
              "      <td>3.082827</td>\n",
              "      <td>2.976101</td>\n",
              "      <td>0.493597</td>\n",
              "      <td>31:19</td>\n",
              "    </tr>\n",
              "  </tbody>\n",
              "</table>"
            ],
            "text/plain": [
              "<IPython.core.display.HTML object>"
            ]
          },
          "metadata": {
            "tags": []
          }
        }
      ]
    },
    {
      "cell_type": "code",
      "metadata": {
        "id": "MuTm-RFjwrEX",
        "outputId": "5b8c0d90-8bc6-43e4-c7c1-15c132d60f59",
        "colab": {
          "base_uri": "https://localhost:8080/",
          "height": 80
        }
      },
      "source": [
        "learn.fit_one_cycle(1, 1e-3)"
      ],
      "execution_count": 24,
      "outputs": [
        {
          "output_type": "display_data",
          "data": {
            "text/html": [
              "<table border=\"1\" class=\"dataframe\">\n",
              "  <thead>\n",
              "    <tr style=\"text-align: left;\">\n",
              "      <th>epoch</th>\n",
              "      <th>train_loss</th>\n",
              "      <th>valid_loss</th>\n",
              "      <th>accuracy</th>\n",
              "      <th>time</th>\n",
              "    </tr>\n",
              "  </thead>\n",
              "  <tbody>\n",
              "    <tr>\n",
              "      <td>0</td>\n",
              "      <td>3.012731</td>\n",
              "      <td>2.947132</td>\n",
              "      <td>0.496080</td>\n",
              "      <td>31:23</td>\n",
              "    </tr>\n",
              "  </tbody>\n",
              "</table>"
            ],
            "text/plain": [
              "<IPython.core.display.HTML object>"
            ]
          },
          "metadata": {
            "tags": []
          }
        }
      ]
    },
    {
      "cell_type": "code",
      "metadata": {
        "id": "1Er2ExO8wr7Y"
      },
      "source": [
        "learn.save_encoder('TwADR-cadec_fold1_first')"
      ],
      "execution_count": 25,
      "outputs": []
    },
    {
      "cell_type": "code",
      "metadata": {
        "id": "z52cZs2qwvad",
        "outputId": "16c70eb0-fa99-4a34-eff7-c29b01febaf7",
        "colab": {
          "base_uri": "https://localhost:8080/",
          "height": 80
        }
      },
      "source": [
        "learn = text_classifier_learner(data_clas,AWD_LSTM, drop_mult=0.5)\n",
        "learn.load_encoder('TwADR-cadec_fold1_first')\n",
        "learn.fit_one_cycle(1, 1e-2)"
      ],
      "execution_count": 26,
      "outputs": [
        {
          "output_type": "display_data",
          "data": {
            "text/html": [
              "<table border=\"1\" class=\"dataframe\">\n",
              "  <thead>\n",
              "    <tr style=\"text-align: left;\">\n",
              "      <th>epoch</th>\n",
              "      <th>train_loss</th>\n",
              "      <th>valid_loss</th>\n",
              "      <th>accuracy</th>\n",
              "      <th>time</th>\n",
              "    </tr>\n",
              "  </thead>\n",
              "  <tbody>\n",
              "    <tr>\n",
              "      <td>0</td>\n",
              "      <td>7.144763</td>\n",
              "      <td>6.224447</td>\n",
              "      <td>0.131579</td>\n",
              "      <td>01:26</td>\n",
              "    </tr>\n",
              "  </tbody>\n",
              "</table>"
            ],
            "text/plain": [
              "<IPython.core.display.HTML object>"
            ]
          },
          "metadata": {
            "tags": []
          }
        }
      ]
    },
    {
      "cell_type": "code",
      "metadata": {
        "id": "ImwQP1PJwzxd",
        "outputId": "b193d8bd-f954-43eb-f1b0-e30c9e90a13a",
        "colab": {
          "base_uri": "https://localhost:8080/",
          "height": 80
        }
      },
      "source": [
        "learn.freeze_to(-2)\n",
        "learn.fit_one_cycle(1, slice(5e-3/2., 5e-3))"
      ],
      "execution_count": 27,
      "outputs": [
        {
          "output_type": "display_data",
          "data": {
            "text/html": [
              "<table border=\"1\" class=\"dataframe\">\n",
              "  <thead>\n",
              "    <tr style=\"text-align: left;\">\n",
              "      <th>epoch</th>\n",
              "      <th>train_loss</th>\n",
              "      <th>valid_loss</th>\n",
              "      <th>accuracy</th>\n",
              "      <th>time</th>\n",
              "    </tr>\n",
              "  </thead>\n",
              "  <tbody>\n",
              "    <tr>\n",
              "      <td>0</td>\n",
              "      <td>6.245951</td>\n",
              "      <td>5.101585</td>\n",
              "      <td>0.166667</td>\n",
              "      <td>01:32</td>\n",
              "    </tr>\n",
              "  </tbody>\n",
              "</table>"
            ],
            "text/plain": [
              "<IPython.core.display.HTML object>"
            ]
          },
          "metadata": {
            "tags": []
          }
        }
      ]
    },
    {
      "cell_type": "code",
      "metadata": {
        "id": "Owff_BJXw53u",
        "outputId": "ed062c22-07b9-41bf-f541-2462b7f3558e",
        "colab": {
          "base_uri": "https://localhost:8080/",
          "height": 80
        }
      },
      "source": [
        "learn.unfreeze()\n",
        "learn.fit_one_cycle(1, slice(2e-3/100, 2e-3))"
      ],
      "execution_count": 28,
      "outputs": [
        {
          "output_type": "display_data",
          "data": {
            "text/html": [
              "<table border=\"1\" class=\"dataframe\">\n",
              "  <thead>\n",
              "    <tr style=\"text-align: left;\">\n",
              "      <th>epoch</th>\n",
              "      <th>train_loss</th>\n",
              "      <th>valid_loss</th>\n",
              "      <th>accuracy</th>\n",
              "      <th>time</th>\n",
              "    </tr>\n",
              "  </thead>\n",
              "  <tbody>\n",
              "    <tr>\n",
              "      <td>0</td>\n",
              "      <td>5.720975</td>\n",
              "      <td>4.557713</td>\n",
              "      <td>0.175439</td>\n",
              "      <td>03:22</td>\n",
              "    </tr>\n",
              "  </tbody>\n",
              "</table>"
            ],
            "text/plain": [
              "<IPython.core.display.HTML object>"
            ]
          },
          "metadata": {
            "tags": []
          }
        }
      ]
    },
    {
      "cell_type": "code",
      "metadata": {
        "id": "lqAyu56V8Waq",
        "outputId": "caa44fa4-35e2-4fb0-e7b3-5d4517556833",
        "colab": {
          "base_uri": "https://localhost:8080/",
          "height": 111
        }
      },
      "source": [
        "learn.fit_one_cycle(2, slice(2e-3/100, 2e-3))"
      ],
      "execution_count": 29,
      "outputs": [
        {
          "output_type": "display_data",
          "data": {
            "text/html": [
              "<table border=\"1\" class=\"dataframe\">\n",
              "  <thead>\n",
              "    <tr style=\"text-align: left;\">\n",
              "      <th>epoch</th>\n",
              "      <th>train_loss</th>\n",
              "      <th>valid_loss</th>\n",
              "      <th>accuracy</th>\n",
              "      <th>time</th>\n",
              "    </tr>\n",
              "  </thead>\n",
              "  <tbody>\n",
              "    <tr>\n",
              "      <td>0</td>\n",
              "      <td>5.428143</td>\n",
              "      <td>4.132710</td>\n",
              "      <td>0.236842</td>\n",
              "      <td>03:24</td>\n",
              "    </tr>\n",
              "    <tr>\n",
              "      <td>1</td>\n",
              "      <td>5.219656</td>\n",
              "      <td>4.019926</td>\n",
              "      <td>0.219298</td>\n",
              "      <td>03:20</td>\n",
              "    </tr>\n",
              "  </tbody>\n",
              "</table>"
            ],
            "text/plain": [
              "<IPython.core.display.HTML object>"
            ]
          },
          "metadata": {
            "tags": []
          }
        }
      ]
    },
    {
      "cell_type": "code",
      "metadata": {
        "id": "a7I1xMRp8bUd",
        "outputId": "703cac72-b61e-4487-8060-e1e4c386cacd",
        "colab": {
          "base_uri": "https://localhost:8080/",
          "height": 111
        }
      },
      "source": [
        "learn.fit_one_cycle(2, slice(2e-3/100, 2e-3))"
      ],
      "execution_count": 30,
      "outputs": [
        {
          "output_type": "display_data",
          "data": {
            "text/html": [
              "<table border=\"1\" class=\"dataframe\">\n",
              "  <thead>\n",
              "    <tr style=\"text-align: left;\">\n",
              "      <th>epoch</th>\n",
              "      <th>train_loss</th>\n",
              "      <th>valid_loss</th>\n",
              "      <th>accuracy</th>\n",
              "      <th>time</th>\n",
              "    </tr>\n",
              "  </thead>\n",
              "  <tbody>\n",
              "    <tr>\n",
              "      <td>0</td>\n",
              "      <td>4.942166</td>\n",
              "      <td>3.883463</td>\n",
              "      <td>0.263158</td>\n",
              "      <td>03:25</td>\n",
              "    </tr>\n",
              "    <tr>\n",
              "      <td>1</td>\n",
              "      <td>4.756920</td>\n",
              "      <td>3.772506</td>\n",
              "      <td>0.280702</td>\n",
              "      <td>03:30</td>\n",
              "    </tr>\n",
              "  </tbody>\n",
              "</table>"
            ],
            "text/plain": [
              "<IPython.core.display.HTML object>"
            ]
          },
          "metadata": {
            "tags": []
          }
        }
      ]
    },
    {
      "cell_type": "code",
      "metadata": {
        "id": "UAnti-XmGVfO",
        "outputId": "4ff0e39c-74ff-4a3d-c666-90de0deb5431",
        "colab": {
          "base_uri": "https://localhost:8080/",
          "height": 111
        }
      },
      "source": [
        "learn.fit_one_cycle(2, slice(2e-3/100, 2e-3))"
      ],
      "execution_count": 31,
      "outputs": [
        {
          "output_type": "display_data",
          "data": {
            "text/html": [
              "<table border=\"1\" class=\"dataframe\">\n",
              "  <thead>\n",
              "    <tr style=\"text-align: left;\">\n",
              "      <th>epoch</th>\n",
              "      <th>train_loss</th>\n",
              "      <th>valid_loss</th>\n",
              "      <th>accuracy</th>\n",
              "      <th>time</th>\n",
              "    </tr>\n",
              "  </thead>\n",
              "  <tbody>\n",
              "    <tr>\n",
              "      <td>0</td>\n",
              "      <td>4.554167</td>\n",
              "      <td>3.515058</td>\n",
              "      <td>0.315789</td>\n",
              "      <td>03:29</td>\n",
              "    </tr>\n",
              "    <tr>\n",
              "      <td>1</td>\n",
              "      <td>4.369498</td>\n",
              "      <td>3.448618</td>\n",
              "      <td>0.315789</td>\n",
              "      <td>03:28</td>\n",
              "    </tr>\n",
              "  </tbody>\n",
              "</table>"
            ],
            "text/plain": [
              "<IPython.core.display.HTML object>"
            ]
          },
          "metadata": {
            "tags": []
          }
        }
      ]
    },
    {
      "cell_type": "code",
      "metadata": {
        "id": "bIft7W25GwSu",
        "outputId": "6f25f052-c73c-4b74-a7f7-18cb0c3e4dd3",
        "colab": {
          "base_uri": "https://localhost:8080/",
          "height": 111
        }
      },
      "source": [
        "learn.fit_one_cycle(2, slice(2e-3/100, 2e-3))"
      ],
      "execution_count": 32,
      "outputs": [
        {
          "output_type": "display_data",
          "data": {
            "text/html": [
              "<table border=\"1\" class=\"dataframe\">\n",
              "  <thead>\n",
              "    <tr style=\"text-align: left;\">\n",
              "      <th>epoch</th>\n",
              "      <th>train_loss</th>\n",
              "      <th>valid_loss</th>\n",
              "      <th>accuracy</th>\n",
              "      <th>time</th>\n",
              "    </tr>\n",
              "  </thead>\n",
              "  <tbody>\n",
              "    <tr>\n",
              "      <td>0</td>\n",
              "      <td>4.175648</td>\n",
              "      <td>3.323667</td>\n",
              "      <td>0.280702</td>\n",
              "      <td>03:14</td>\n",
              "    </tr>\n",
              "    <tr>\n",
              "      <td>1</td>\n",
              "      <td>4.016017</td>\n",
              "      <td>3.302660</td>\n",
              "      <td>0.298246</td>\n",
              "      <td>03:24</td>\n",
              "    </tr>\n",
              "  </tbody>\n",
              "</table>"
            ],
            "text/plain": [
              "<IPython.core.display.HTML object>"
            ]
          },
          "metadata": {
            "tags": []
          }
        }
      ]
    },
    {
      "cell_type": "code",
      "metadata": {
        "id": "EEHszVRvGyFt",
        "outputId": "750a303b-ee69-479c-8077-50ba56fd4b5d",
        "colab": {
          "base_uri": "https://localhost:8080/",
          "height": 111
        }
      },
      "source": [
        "learn.fit_one_cycle(2, slice(2e-3/100, 2e-3))"
      ],
      "execution_count": 33,
      "outputs": [
        {
          "output_type": "display_data",
          "data": {
            "text/html": [
              "<table border=\"1\" class=\"dataframe\">\n",
              "  <thead>\n",
              "    <tr style=\"text-align: left;\">\n",
              "      <th>epoch</th>\n",
              "      <th>train_loss</th>\n",
              "      <th>valid_loss</th>\n",
              "      <th>accuracy</th>\n",
              "      <th>time</th>\n",
              "    </tr>\n",
              "  </thead>\n",
              "  <tbody>\n",
              "    <tr>\n",
              "      <td>0</td>\n",
              "      <td>3.894264</td>\n",
              "      <td>3.151845</td>\n",
              "      <td>0.359649</td>\n",
              "      <td>03:29</td>\n",
              "    </tr>\n",
              "    <tr>\n",
              "      <td>1</td>\n",
              "      <td>3.735140</td>\n",
              "      <td>3.048570</td>\n",
              "      <td>0.377193</td>\n",
              "      <td>03:37</td>\n",
              "    </tr>\n",
              "  </tbody>\n",
              "</table>"
            ],
            "text/plain": [
              "<IPython.core.display.HTML object>"
            ]
          },
          "metadata": {
            "tags": []
          }
        }
      ]
    },
    {
      "cell_type": "code",
      "metadata": {
        "id": "XsHfrhCHG3dN",
        "outputId": "245029fa-428a-4bfc-9a68-7193e2629df4",
        "colab": {
          "base_uri": "https://localhost:8080/",
          "height": 173
        }
      },
      "source": [
        "learn.fit_one_cycle(4, slice(2e-3/100, 2e-3))"
      ],
      "execution_count": 34,
      "outputs": [
        {
          "output_type": "display_data",
          "data": {
            "text/html": [
              "<table border=\"1\" class=\"dataframe\">\n",
              "  <thead>\n",
              "    <tr style=\"text-align: left;\">\n",
              "      <th>epoch</th>\n",
              "      <th>train_loss</th>\n",
              "      <th>valid_loss</th>\n",
              "      <th>accuracy</th>\n",
              "      <th>time</th>\n",
              "    </tr>\n",
              "  </thead>\n",
              "  <tbody>\n",
              "    <tr>\n",
              "      <td>0</td>\n",
              "      <td>3.540793</td>\n",
              "      <td>2.973490</td>\n",
              "      <td>0.394737</td>\n",
              "      <td>03:26</td>\n",
              "    </tr>\n",
              "    <tr>\n",
              "      <td>1</td>\n",
              "      <td>3.473248</td>\n",
              "      <td>2.959480</td>\n",
              "      <td>0.394737</td>\n",
              "      <td>03:28</td>\n",
              "    </tr>\n",
              "    <tr>\n",
              "      <td>2</td>\n",
              "      <td>3.313594</td>\n",
              "      <td>2.934352</td>\n",
              "      <td>0.359649</td>\n",
              "      <td>03:28</td>\n",
              "    </tr>\n",
              "    <tr>\n",
              "      <td>3</td>\n",
              "      <td>3.138472</td>\n",
              "      <td>2.917417</td>\n",
              "      <td>0.385965</td>\n",
              "      <td>03:26</td>\n",
              "    </tr>\n",
              "  </tbody>\n",
              "</table>"
            ],
            "text/plain": [
              "<IPython.core.display.HTML object>"
            ]
          },
          "metadata": {
            "tags": []
          }
        }
      ]
    },
    {
      "cell_type": "code",
      "metadata": {
        "id": "0Zsd99isb9EQ",
        "outputId": "ab6a0280-4c08-42f4-c827-c78ef91b5f2c",
        "colab": {
          "base_uri": "https://localhost:8080/",
          "height": 173
        }
      },
      "source": [
        "learn.fit_one_cycle(4, slice(2e-3/100, 2e-3))"
      ],
      "execution_count": 35,
      "outputs": [
        {
          "output_type": "display_data",
          "data": {
            "text/html": [
              "<table border=\"1\" class=\"dataframe\">\n",
              "  <thead>\n",
              "    <tr style=\"text-align: left;\">\n",
              "      <th>epoch</th>\n",
              "      <th>train_loss</th>\n",
              "      <th>valid_loss</th>\n",
              "      <th>accuracy</th>\n",
              "      <th>time</th>\n",
              "    </tr>\n",
              "  </thead>\n",
              "  <tbody>\n",
              "    <tr>\n",
              "      <td>0</td>\n",
              "      <td>2.959225</td>\n",
              "      <td>2.901479</td>\n",
              "      <td>0.412281</td>\n",
              "      <td>03:25</td>\n",
              "    </tr>\n",
              "    <tr>\n",
              "      <td>1</td>\n",
              "      <td>2.902018</td>\n",
              "      <td>2.932486</td>\n",
              "      <td>0.429825</td>\n",
              "      <td>03:11</td>\n",
              "    </tr>\n",
              "    <tr>\n",
              "      <td>2</td>\n",
              "      <td>2.726562</td>\n",
              "      <td>2.954925</td>\n",
              "      <td>0.421053</td>\n",
              "      <td>03:13</td>\n",
              "    </tr>\n",
              "    <tr>\n",
              "      <td>3</td>\n",
              "      <td>2.557328</td>\n",
              "      <td>2.903911</td>\n",
              "      <td>0.421053</td>\n",
              "      <td>03:22</td>\n",
              "    </tr>\n",
              "  </tbody>\n",
              "</table>"
            ],
            "text/plain": [
              "<IPython.core.display.HTML object>"
            ]
          },
          "metadata": {
            "tags": []
          }
        }
      ]
    },
    {
      "cell_type": "code",
      "metadata": {
        "id": "atNWNKDFPbuI",
        "outputId": "c75a5d96-70b0-41a2-d462-f301bf88049a",
        "colab": {
          "base_uri": "https://localhost:8080/",
          "height": 173
        }
      },
      "source": [
        "learn.fit_one_cycle(4, slice(2e-3/100, 2e-3))"
      ],
      "execution_count": 36,
      "outputs": [
        {
          "output_type": "display_data",
          "data": {
            "text/html": [
              "<table border=\"1\" class=\"dataframe\">\n",
              "  <thead>\n",
              "    <tr style=\"text-align: left;\">\n",
              "      <th>epoch</th>\n",
              "      <th>train_loss</th>\n",
              "      <th>valid_loss</th>\n",
              "      <th>accuracy</th>\n",
              "      <th>time</th>\n",
              "    </tr>\n",
              "  </thead>\n",
              "  <tbody>\n",
              "    <tr>\n",
              "      <td>0</td>\n",
              "      <td>2.384717</td>\n",
              "      <td>2.903937</td>\n",
              "      <td>0.385965</td>\n",
              "      <td>03:30</td>\n",
              "    </tr>\n",
              "    <tr>\n",
              "      <td>1</td>\n",
              "      <td>2.366145</td>\n",
              "      <td>2.917345</td>\n",
              "      <td>0.429825</td>\n",
              "      <td>03:23</td>\n",
              "    </tr>\n",
              "    <tr>\n",
              "      <td>2</td>\n",
              "      <td>2.218782</td>\n",
              "      <td>2.939248</td>\n",
              "      <td>0.403509</td>\n",
              "      <td>03:19</td>\n",
              "    </tr>\n",
              "    <tr>\n",
              "      <td>3</td>\n",
              "      <td>2.070685</td>\n",
              "      <td>2.878689</td>\n",
              "      <td>0.403509</td>\n",
              "      <td>03:14</td>\n",
              "    </tr>\n",
              "  </tbody>\n",
              "</table>"
            ],
            "text/plain": [
              "<IPython.core.display.HTML object>"
            ]
          },
          "metadata": {
            "tags": []
          }
        }
      ]
    },
    {
      "cell_type": "code",
      "metadata": {
        "id": "rKrBTZ0T1uVA",
        "outputId": "f8010faa-f52c-4b08-9ca2-3b429b0dfa9f",
        "colab": {
          "base_uri": "https://localhost:8080/",
          "height": 173
        }
      },
      "source": [
        "learn.fit_one_cycle(4, slice(2e-3/100, 2e-3))"
      ],
      "execution_count": 37,
      "outputs": [
        {
          "output_type": "display_data",
          "data": {
            "text/html": [
              "<table border=\"1\" class=\"dataframe\">\n",
              "  <thead>\n",
              "    <tr style=\"text-align: left;\">\n",
              "      <th>epoch</th>\n",
              "      <th>train_loss</th>\n",
              "      <th>valid_loss</th>\n",
              "      <th>accuracy</th>\n",
              "      <th>time</th>\n",
              "    </tr>\n",
              "  </thead>\n",
              "  <tbody>\n",
              "    <tr>\n",
              "      <td>0</td>\n",
              "      <td>1.928944</td>\n",
              "      <td>2.855333</td>\n",
              "      <td>0.377193</td>\n",
              "      <td>03:33</td>\n",
              "    </tr>\n",
              "    <tr>\n",
              "      <td>1</td>\n",
              "      <td>1.926232</td>\n",
              "      <td>3.054266</td>\n",
              "      <td>0.421053</td>\n",
              "      <td>03:29</td>\n",
              "    </tr>\n",
              "    <tr>\n",
              "      <td>2</td>\n",
              "      <td>1.782515</td>\n",
              "      <td>2.967126</td>\n",
              "      <td>0.429825</td>\n",
              "      <td>03:24</td>\n",
              "    </tr>\n",
              "    <tr>\n",
              "      <td>3</td>\n",
              "      <td>1.639359</td>\n",
              "      <td>2.966088</td>\n",
              "      <td>0.438596</td>\n",
              "      <td>03:24</td>\n",
              "    </tr>\n",
              "  </tbody>\n",
              "</table>"
            ],
            "text/plain": [
              "<IPython.core.display.HTML object>"
            ]
          },
          "metadata": {
            "tags": []
          }
        }
      ]
    },
    {
      "cell_type": "code",
      "metadata": {
        "id": "ajQC6WDg1yA9",
        "outputId": "662e2689-e619-4a74-b617-3c871b891647",
        "colab": {
          "base_uri": "https://localhost:8080/",
          "height": 173
        }
      },
      "source": [
        "learn.fit_one_cycle(4, slice(2e-3/100, 2e-3))"
      ],
      "execution_count": 38,
      "outputs": [
        {
          "output_type": "display_data",
          "data": {
            "text/html": [
              "<table border=\"1\" class=\"dataframe\">\n",
              "  <thead>\n",
              "    <tr style=\"text-align: left;\">\n",
              "      <th>epoch</th>\n",
              "      <th>train_loss</th>\n",
              "      <th>valid_loss</th>\n",
              "      <th>accuracy</th>\n",
              "      <th>time</th>\n",
              "    </tr>\n",
              "  </thead>\n",
              "  <tbody>\n",
              "    <tr>\n",
              "      <td>0</td>\n",
              "      <td>1.518242</td>\n",
              "      <td>3.006734</td>\n",
              "      <td>0.412281</td>\n",
              "      <td>03:06</td>\n",
              "    </tr>\n",
              "    <tr>\n",
              "      <td>1</td>\n",
              "      <td>1.511456</td>\n",
              "      <td>3.061146</td>\n",
              "      <td>0.421053</td>\n",
              "      <td>03:14</td>\n",
              "    </tr>\n",
              "    <tr>\n",
              "      <td>2</td>\n",
              "      <td>1.414389</td>\n",
              "      <td>2.986256</td>\n",
              "      <td>0.429825</td>\n",
              "      <td>03:11</td>\n",
              "    </tr>\n",
              "    <tr>\n",
              "      <td>3</td>\n",
              "      <td>1.291971</td>\n",
              "      <td>2.936796</td>\n",
              "      <td>0.456140</td>\n",
              "      <td>03:20</td>\n",
              "    </tr>\n",
              "  </tbody>\n",
              "</table>"
            ],
            "text/plain": [
              "<IPython.core.display.HTML object>"
            ]
          },
          "metadata": {
            "tags": []
          }
        }
      ]
    },
    {
      "cell_type": "code",
      "metadata": {
        "id": "KKydb0B4BKGk",
        "outputId": "120354c7-70fa-46e5-d9db-91b1189ff6be",
        "colab": {
          "base_uri": "https://localhost:8080/",
          "height": 173
        }
      },
      "source": [
        "learn.fit_one_cycle(4, slice(2e-3/100, 2e-3))"
      ],
      "execution_count": 39,
      "outputs": [
        {
          "output_type": "display_data",
          "data": {
            "text/html": [
              "<table border=\"1\" class=\"dataframe\">\n",
              "  <thead>\n",
              "    <tr style=\"text-align: left;\">\n",
              "      <th>epoch</th>\n",
              "      <th>train_loss</th>\n",
              "      <th>valid_loss</th>\n",
              "      <th>accuracy</th>\n",
              "      <th>time</th>\n",
              "    </tr>\n",
              "  </thead>\n",
              "  <tbody>\n",
              "    <tr>\n",
              "      <td>0</td>\n",
              "      <td>1.180607</td>\n",
              "      <td>3.026830</td>\n",
              "      <td>0.394737</td>\n",
              "      <td>03:17</td>\n",
              "    </tr>\n",
              "    <tr>\n",
              "      <td>1</td>\n",
              "      <td>1.185830</td>\n",
              "      <td>3.112299</td>\n",
              "      <td>0.438596</td>\n",
              "      <td>03:20</td>\n",
              "    </tr>\n",
              "    <tr>\n",
              "      <td>2</td>\n",
              "      <td>1.094411</td>\n",
              "      <td>3.063731</td>\n",
              "      <td>0.377193</td>\n",
              "      <td>03:37</td>\n",
              "    </tr>\n",
              "    <tr>\n",
              "      <td>3</td>\n",
              "      <td>0.999882</td>\n",
              "      <td>3.050929</td>\n",
              "      <td>0.368421</td>\n",
              "      <td>03:20</td>\n",
              "    </tr>\n",
              "  </tbody>\n",
              "</table>"
            ],
            "text/plain": [
              "<IPython.core.display.HTML object>"
            ]
          },
          "metadata": {
            "tags": []
          }
        }
      ]
    },
    {
      "cell_type": "code",
      "metadata": {
        "id": "T2APKtFKBpGY",
        "outputId": "85b58159-d8fc-42d2-899a-6d95e0236028",
        "colab": {
          "base_uri": "https://localhost:8080/",
          "height": 173
        }
      },
      "source": [
        "learn.fit_one_cycle(4, slice(2e-3/100, 2e-3))"
      ],
      "execution_count": 40,
      "outputs": [
        {
          "output_type": "display_data",
          "data": {
            "text/html": [
              "<table border=\"1\" class=\"dataframe\">\n",
              "  <thead>\n",
              "    <tr style=\"text-align: left;\">\n",
              "      <th>epoch</th>\n",
              "      <th>train_loss</th>\n",
              "      <th>valid_loss</th>\n",
              "      <th>accuracy</th>\n",
              "      <th>time</th>\n",
              "    </tr>\n",
              "  </thead>\n",
              "  <tbody>\n",
              "    <tr>\n",
              "      <td>0</td>\n",
              "      <td>0.929851</td>\n",
              "      <td>3.073287</td>\n",
              "      <td>0.368421</td>\n",
              "      <td>03:29</td>\n",
              "    </tr>\n",
              "    <tr>\n",
              "      <td>1</td>\n",
              "      <td>0.950874</td>\n",
              "      <td>3.008950</td>\n",
              "      <td>0.394737</td>\n",
              "      <td>03:19</td>\n",
              "    </tr>\n",
              "    <tr>\n",
              "      <td>2</td>\n",
              "      <td>0.882622</td>\n",
              "      <td>3.141553</td>\n",
              "      <td>0.385965</td>\n",
              "      <td>03:11</td>\n",
              "    </tr>\n",
              "    <tr>\n",
              "      <td>3</td>\n",
              "      <td>0.802390</td>\n",
              "      <td>3.092199</td>\n",
              "      <td>0.403509</td>\n",
              "      <td>03:19</td>\n",
              "    </tr>\n",
              "  </tbody>\n",
              "</table>"
            ],
            "text/plain": [
              "<IPython.core.display.HTML object>"
            ]
          },
          "metadata": {
            "tags": []
          }
        }
      ]
    },
    {
      "cell_type": "code",
      "metadata": {
        "id": "qtTypA1sPgLU",
        "outputId": "29bebdcf-3477-43b0-b529-dbcd48b6d1f5",
        "colab": {
          "base_uri": "https://localhost:8080/",
          "height": 111
        }
      },
      "source": [
        "learn.fit_one_cycle(2, slice(2e-3/100, 2e-3))"
      ],
      "execution_count": 41,
      "outputs": [
        {
          "output_type": "display_data",
          "data": {
            "text/html": [
              "<table border=\"1\" class=\"dataframe\">\n",
              "  <thead>\n",
              "    <tr style=\"text-align: left;\">\n",
              "      <th>epoch</th>\n",
              "      <th>train_loss</th>\n",
              "      <th>valid_loss</th>\n",
              "      <th>accuracy</th>\n",
              "      <th>time</th>\n",
              "    </tr>\n",
              "  </thead>\n",
              "  <tbody>\n",
              "    <tr>\n",
              "      <td>0</td>\n",
              "      <td>0.798975</td>\n",
              "      <td>3.270332</td>\n",
              "      <td>0.403509</td>\n",
              "      <td>03:36</td>\n",
              "    </tr>\n",
              "    <tr>\n",
              "      <td>1</td>\n",
              "      <td>0.762121</td>\n",
              "      <td>3.468978</td>\n",
              "      <td>0.385965</td>\n",
              "      <td>03:10</td>\n",
              "    </tr>\n",
              "  </tbody>\n",
              "</table>"
            ],
            "text/plain": [
              "<IPython.core.display.HTML object>"
            ]
          },
          "metadata": {
            "tags": []
          }
        }
      ]
    },
    {
      "cell_type": "code",
      "metadata": {
        "id": "b242kBsTUp9Y",
        "outputId": "9f7f11af-b29f-4574-a357-3b96d0504d56",
        "colab": {
          "base_uri": "https://localhost:8080/",
          "height": 111
        }
      },
      "source": [
        "learn.fit_one_cycle(2, slice(2e-3/100, 2e-3))"
      ],
      "execution_count": 42,
      "outputs": [
        {
          "output_type": "display_data",
          "data": {
            "text/html": [
              "<table border=\"1\" class=\"dataframe\">\n",
              "  <thead>\n",
              "    <tr style=\"text-align: left;\">\n",
              "      <th>epoch</th>\n",
              "      <th>train_loss</th>\n",
              "      <th>valid_loss</th>\n",
              "      <th>accuracy</th>\n",
              "      <th>time</th>\n",
              "    </tr>\n",
              "  </thead>\n",
              "  <tbody>\n",
              "    <tr>\n",
              "      <td>0</td>\n",
              "      <td>0.720813</td>\n",
              "      <td>3.499392</td>\n",
              "      <td>0.385965</td>\n",
              "      <td>03:18</td>\n",
              "    </tr>\n",
              "    <tr>\n",
              "      <td>1</td>\n",
              "      <td>0.693445</td>\n",
              "      <td>3.495901</td>\n",
              "      <td>0.394737</td>\n",
              "      <td>03:23</td>\n",
              "    </tr>\n",
              "  </tbody>\n",
              "</table>"
            ],
            "text/plain": [
              "<IPython.core.display.HTML object>"
            ]
          },
          "metadata": {
            "tags": []
          }
        }
      ]
    },
    {
      "cell_type": "code",
      "metadata": {
        "id": "Duwf1Ih5VeDZ",
        "outputId": "5eabeba8-19ed-4cfe-9866-6404398f91a7",
        "colab": {
          "base_uri": "https://localhost:8080/",
          "height": 80
        }
      },
      "source": [
        "learn.fit_one_cycle(1, slice(2e-3/100, 2e-3))"
      ],
      "execution_count": 43,
      "outputs": [
        {
          "output_type": "display_data",
          "data": {
            "text/html": [
              "<table border=\"1\" class=\"dataframe\">\n",
              "  <thead>\n",
              "    <tr style=\"text-align: left;\">\n",
              "      <th>epoch</th>\n",
              "      <th>train_loss</th>\n",
              "      <th>valid_loss</th>\n",
              "      <th>accuracy</th>\n",
              "      <th>time</th>\n",
              "    </tr>\n",
              "  </thead>\n",
              "  <tbody>\n",
              "    <tr>\n",
              "      <td>0</td>\n",
              "      <td>0.631162</td>\n",
              "      <td>3.405184</td>\n",
              "      <td>0.421053</td>\n",
              "      <td>03:21</td>\n",
              "    </tr>\n",
              "  </tbody>\n",
              "</table>"
            ],
            "text/plain": [
              "<IPython.core.display.HTML object>"
            ]
          },
          "metadata": {
            "tags": []
          }
        }
      ]
    },
    {
      "cell_type": "code",
      "metadata": {
        "id": "c65d-osfDUXm"
      },
      "source": [
        "# save the best model\n",
        "\n",
        "learn.save_encoder('TwADR-cadec_fold1')"
      ],
      "execution_count": 44,
      "outputs": []
    },
    {
      "cell_type": "code",
      "metadata": {
        "id": "5h-A_GpAIYg8",
        "outputId": "9327c2cd-9e9a-47a6-a35d-94ad72faea3a",
        "colab": {
          "base_uri": "https://localhost:8080/",
          "height": 80
        }
      },
      "source": [
        "learn.fit_one_cycle(1, slice(2e-3/100, 2e-3))"
      ],
      "execution_count": 45,
      "outputs": [
        {
          "output_type": "display_data",
          "data": {
            "text/html": [
              "<table border=\"1\" class=\"dataframe\">\n",
              "  <thead>\n",
              "    <tr style=\"text-align: left;\">\n",
              "      <th>epoch</th>\n",
              "      <th>train_loss</th>\n",
              "      <th>valid_loss</th>\n",
              "      <th>accuracy</th>\n",
              "      <th>time</th>\n",
              "    </tr>\n",
              "  </thead>\n",
              "  <tbody>\n",
              "    <tr>\n",
              "      <td>0</td>\n",
              "      <td>0.604914</td>\n",
              "      <td>3.445410</td>\n",
              "      <td>0.412281</td>\n",
              "      <td>03:14</td>\n",
              "    </tr>\n",
              "  </tbody>\n",
              "</table>"
            ],
            "text/plain": [
              "<IPython.core.display.HTML object>"
            ]
          },
          "metadata": {
            "tags": []
          }
        }
      ]
    },
    {
      "cell_type": "code",
      "metadata": {
        "id": "qc4poYxzIwca",
        "outputId": "2ecfb153-e986-486b-e8fb-1a1f050d5158",
        "colab": {
          "base_uri": "https://localhost:8080/",
          "height": 80
        }
      },
      "source": [
        "learn.fit_one_cycle(1, slice(2e-3/100, 2e-3))"
      ],
      "execution_count": 46,
      "outputs": [
        {
          "output_type": "display_data",
          "data": {
            "text/html": [
              "<table border=\"1\" class=\"dataframe\">\n",
              "  <thead>\n",
              "    <tr style=\"text-align: left;\">\n",
              "      <th>epoch</th>\n",
              "      <th>train_loss</th>\n",
              "      <th>valid_loss</th>\n",
              "      <th>accuracy</th>\n",
              "      <th>time</th>\n",
              "    </tr>\n",
              "  </thead>\n",
              "  <tbody>\n",
              "    <tr>\n",
              "      <td>0</td>\n",
              "      <td>0.612601</td>\n",
              "      <td>3.489508</td>\n",
              "      <td>0.447368</td>\n",
              "      <td>03:22</td>\n",
              "    </tr>\n",
              "  </tbody>\n",
              "</table>"
            ],
            "text/plain": [
              "<IPython.core.display.HTML object>"
            ]
          },
          "metadata": {
            "tags": []
          }
        }
      ]
    },
    {
      "cell_type": "code",
      "metadata": {
        "id": "66s4PxV1JVfo",
        "outputId": "e154314d-0000-47e5-9cec-bdb895b48fa0",
        "colab": {
          "base_uri": "https://localhost:8080/",
          "height": 80
        }
      },
      "source": [
        "learn.fit_one_cycle(1, slice(2e-3/100, 2e-3))"
      ],
      "execution_count": 47,
      "outputs": [
        {
          "output_type": "display_data",
          "data": {
            "text/html": [
              "<table border=\"1\" class=\"dataframe\">\n",
              "  <thead>\n",
              "    <tr style=\"text-align: left;\">\n",
              "      <th>epoch</th>\n",
              "      <th>train_loss</th>\n",
              "      <th>valid_loss</th>\n",
              "      <th>accuracy</th>\n",
              "      <th>time</th>\n",
              "    </tr>\n",
              "  </thead>\n",
              "  <tbody>\n",
              "    <tr>\n",
              "      <td>0</td>\n",
              "      <td>0.592332</td>\n",
              "      <td>3.445626</td>\n",
              "      <td>0.421053</td>\n",
              "      <td>03:25</td>\n",
              "    </tr>\n",
              "  </tbody>\n",
              "</table>"
            ],
            "text/plain": [
              "<IPython.core.display.HTML object>"
            ]
          },
          "metadata": {
            "tags": []
          }
        }
      ]
    },
    {
      "cell_type": "markdown",
      "metadata": {
        "id": "rCwZU0E2RgM6"
      },
      "source": [
        "# Part three: Predict on the test dataset"
      ]
    },
    {
      "cell_type": "code",
      "metadata": {
        "id": "gDm72c-dOu7d",
        "outputId": "b2d9db6f-6eec-4277-db1c-a7e69dbe6e8a",
        "colab": {
          "base_uri": "https://localhost:8080/",
          "height": 17
        }
      },
      "source": [
        "# use the test data for prediction\n",
        "\n",
        "preds, y = learn.get_preds(DatasetType.Test)"
      ],
      "execution_count": 48,
      "outputs": [
        {
          "output_type": "display_data",
          "data": {
            "text/html": [
              ""
            ],
            "text/plain": [
              "<IPython.core.display.HTML object>"
            ]
          },
          "metadata": {
            "tags": []
          }
        }
      ]
    },
    {
      "cell_type": "code",
      "metadata": {
        "id": "6tFSQcsWPvxn",
        "outputId": "725ddbd9-5002-4a12-8dd8-b54b4938595c",
        "colab": {
          "base_uri": "https://localhost:8080/",
          "height": 105
        }
      },
      "source": [
        "predictions, *_ = learn.get_preds(DatasetType.Test)\n",
        "labels = np.argmax(predictions, 1)\n",
        "predict_list = labels.tolist()\n",
        "standard_list = test[0].tolist()\n",
        "\n",
        "print(len(predict_list))\n",
        "print(len(standard_list))\n",
        "\n",
        "print(predict_list)\n",
        "print(standard_list)"
      ],
      "execution_count": 49,
      "outputs": [
        {
          "output_type": "display_data",
          "data": {
            "text/html": [
              ""
            ],
            "text/plain": [
              "<IPython.core.display.HTML object>"
            ]
          },
          "metadata": {
            "tags": []
          }
        },
        {
          "output_type": "stream",
          "text": [
            "143\n",
            "143\n",
            "[1787, 13, 1373, 133, 189, 189, 974, 2147, 233, 2147, 1787, 2032, 1787, 1136, 418, 1373, 561, 744, 1676, 97, 791, 1597, 1458, 813, 1599, 224, 824, 825, 1484, 852, 2149, 974, 974, 792, 582, 974, 974, 978, 978, 1669, 978, 978, 1062, 1062, 1669, 1089, 1295, 1787, 749, 1054, 233, 1529, 1073, 1295, 852, 1062, 1295, 1767, 1295, 2074, 1319, 233, 755, 1432, 1432, 1145, 1529, 1529, 1062, 1545, 2074, 1576, 1163, 1597, 2147, 1597, 1599, 392, 1610, 1610, 1610, 1526, 224, 1610, 1073, 818, 749, 1531, 1531, 1815, 1545, 1767, 1767, 1798, 1767, 1718, 1767, 1706, 1073, 2032, 2032, 2032, 818, 1211, 923, 1676, 1099, 1109, 1925, 2147, 2149, 1936, 1936, 1340, 1936, 1767, 852, 1718, 852, 249, 792, 1813, 1787, 2032, 2149, 1787, 189, 189, 2149, 1936, 2081, 2147, 2147, 1099, 2147, 2032, 2147, 1610, 2149, 824, 2191, 2149, 1521]\n",
            "[13, 13, 61, 133, 189, 189, 195, 233, 233, 233, 393, 393, 393, 396, 418, 452, 561, 744, 749, 750, 791, 791, 809, 813, 813, 818, 824, 824, 825, 852, 947, 974, 974, 974, 974, 974, 974, 978, 978, 978, 978, 978, 1062, 1062, 1073, 1089, 1096, 1099, 1175, 1214, 1230, 1281, 1281, 1295, 1295, 1295, 1295, 1295, 1295, 1295, 1319, 1321, 1349, 1432, 1432, 1509, 1529, 1529, 1529, 1545, 1546, 1576, 1594, 1597, 1597, 1597, 1599, 1599, 1610, 1610, 1610, 1610, 1610, 1610, 1669, 1676, 1679, 1711, 1711, 1718, 1718, 1718, 1718, 1718, 1727, 1727, 1767, 1767, 1769, 1787, 1787, 1787, 1798, 1813, 1813, 1828, 1877, 1925, 1925, 1925, 1936, 1936, 1936, 1936, 1936, 1942, 1973, 1973, 1973, 2010, 2017, 2023, 2032, 2032, 2032, 2032, 2048, 2048, 2048, 2063, 2081, 2147, 2147, 2147, 2147, 2147, 2147, 2149, 2149, 2168, 2191, 2194, 2194]\n"
          ],
          "name": "stdout"
        }
      ]
    },
    {
      "cell_type": "code",
      "metadata": {
        "id": "XIC4zufnMxtq",
        "outputId": "2653d62d-f97e-4d6b-9503-acf210f2921e",
        "colab": {
          "base_uri": "https://localhost:8080/"
        }
      },
      "source": [
        "correct_num = 0\n",
        "\n",
        "for i in range(0, len(standard_list)):\n",
        "  if predict_list[i] == standard_list[i]:\n",
        "    correct_num = correct_num+1\n",
        "  else:\n",
        "    pass\n",
        "print(correct_num)\n",
        "\n",
        "predict_accuracy = correct_num/len(predict_list)\n",
        "print(predict_accuracy)"
      ],
      "execution_count": 50,
      "outputs": [
        {
          "output_type": "stream",
          "text": [
            "53\n",
            "0.3706293706293706\n"
          ],
          "name": "stdout"
        }
      ]
    },
    {
      "cell_type": "code",
      "metadata": {
        "id": "zlKMHp1CIaRJ"
      },
      "source": [
        ""
      ],
      "execution_count": 50,
      "outputs": []
    }
  ]
}