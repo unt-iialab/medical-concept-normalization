{
  "nbformat": 4,
  "nbformat_minor": 0,
  "metadata": {
    "accelerator": "TPU",
    "colab": {
      "name": "cadec_ask_03.ipynb",
      "provenance": [],
      "collapsed_sections": [],
      "include_colab_link": true
    },
    "kernelspec": {
      "display_name": "Python 3",
      "name": "python3"
    }
  },
  "cells": [
    {
      "cell_type": "markdown",
      "metadata": {
        "id": "view-in-github",
        "colab_type": "text"
      },
      "source": [
        "<a href=\"https://colab.research.google.com/github/unt-iialab/medical-concept-normalization/blob/master/medical-concept-normalization/fine-tuning-experiments/askpatient/cadec_ask_03.ipynb\" target=\"_parent\"><img src=\"https://colab.research.google.com/assets/colab-badge.svg\" alt=\"Open In Colab\"/></a>"
      ]
    },
    {
      "cell_type": "code",
      "metadata": {
        "id": "adSi6i2-dWxy"
      },
      "source": [
        "import os"
      ],
      "execution_count": 1,
      "outputs": []
    },
    {
      "cell_type": "code",
      "metadata": {
        "id": "E7xYCRGPjd9B"
      },
      "source": [
        "base_dir = 'medical-concept-normalization'"
      ],
      "execution_count": 2,
      "outputs": []
    },
    {
      "cell_type": "code",
      "metadata": {
        "id": "yvIW3aUDjYNS"
      },
      "source": [
        "os.mkdir(base_dir)"
      ],
      "execution_count": 3,
      "outputs": []
    },
    {
      "cell_type": "code",
      "metadata": {
        "id": "es-FFLlfk6SG"
      },
      "source": [
        "os.mkdir('medical-concept-normalization/data_collection')"
      ],
      "execution_count": 4,
      "outputs": []
    },
    {
      "cell_type": "markdown",
      "metadata": {
        "id": "0R-Guw_VoJXm"
      },
      "source": [
        "**Install fastai and clone the fastai for text classification**\n",
        "\n"
      ]
    },
    {
      "cell_type": "code",
      "metadata": {
        "id": "QVZa3Z0PmHFH",
        "outputId": "dddd01fc-e1eb-4810-d418-8d5749713686",
        "colab": {
          "base_uri": "https://localhost:8080/"
        }
      },
      "source": [
        "!curl https://course-v3.fast.ai/setup/colab | bash"
      ],
      "execution_count": 5,
      "outputs": [
        {
          "output_type": "stream",
          "text": [
            "  % Total    % Received % Xferd  Average Speed   Time    Time     Time  Current\n",
            "                                 Dload  Upload   Total   Spent    Left  Speed\n",
            "\r  0     0    0     0    0     0      0      0 --:--:-- --:--:-- --:--:--     0curl: (6) Could not resolve host: course-v3.fast.ai\n"
          ],
          "name": "stdout"
        }
      ]
    },
    {
      "cell_type": "code",
      "metadata": {
        "id": "_FBFFEBrmJC0",
        "outputId": "9d5948fa-4ae0-4f0c-b66f-95de11a14bfe",
        "colab": {
          "base_uri": "https://localhost:8080/"
        }
      },
      "source": [
        "!git clone https://github.com/wshuyi/demo-nlp-classification-fastai.git"
      ],
      "execution_count": 6,
      "outputs": [
        {
          "output_type": "stream",
          "text": [
            "Cloning into 'demo-nlp-classification-fastai'...\n",
            "remote: Enumerating objects: 9, done.\u001b[K\n",
            "remote: Total 9 (delta 0), reused 0 (delta 0), pack-reused 9\u001b[K\n",
            "Unpacking objects: 100% (9/9), done.\n"
          ],
          "name": "stdout"
        }
      ]
    },
    {
      "cell_type": "code",
      "metadata": {
        "id": "66zfh_JqmWMU"
      },
      "source": [
        "from fastai import *\n",
        "from fastai.text import *"
      ],
      "execution_count": 7,
      "outputs": []
    },
    {
      "cell_type": "markdown",
      "metadata": {
        "id": "mNIw-yALdBU9"
      },
      "source": [
        "**Set the path of the data collections**"
      ]
    },
    {
      "cell_type": "code",
      "metadata": {
        "id": "pzH7VMh4mqCL"
      },
      "source": [
        "path = Path('medical-concept-normalization/data_collection')"
      ],
      "execution_count": 8,
      "outputs": []
    },
    {
      "cell_type": "code",
      "metadata": {
        "id": "b8fjI6yyn4aS"
      },
      "source": [
        "# training data set\n",
        "\n",
        "train_csv = path/'AskAPatient.fold-3.train.csv'\n",
        "train = pd.read_csv(train_csv, header=None)\n",
        "#train.head()\n",
        "#train.info()"
      ],
      "execution_count": 10,
      "outputs": []
    },
    {
      "cell_type": "code",
      "metadata": {
        "id": "Hmlr-bAorfHd",
        "outputId": "656a1d12-a4f4-4838-c9cf-752a6077fbd3",
        "colab": {
          "base_uri": "https://localhost:8080/",
          "height": 204
        }
      },
      "source": [
        "# validating data set\n",
        "\n",
        "valid = pd.read_csv(path/\"AskAPatient.fold-3.validation.csv\",header=None)\n",
        "valid.head()"
      ],
      "execution_count": 11,
      "outputs": [
        {
          "output_type": "execute_result",
          "data": {
            "text/html": [
              "<div>\n",
              "<style scoped>\n",
              "    .dataframe tbody tr th:only-of-type {\n",
              "        vertical-align: middle;\n",
              "    }\n",
              "\n",
              "    .dataframe tbody tr th {\n",
              "        vertical-align: top;\n",
              "    }\n",
              "\n",
              "    .dataframe thead th {\n",
              "        text-align: right;\n",
              "    }\n",
              "</style>\n",
              "<table border=\"1\" class=\"dataframe\">\n",
              "  <thead>\n",
              "    <tr style=\"text-align: right;\">\n",
              "      <th></th>\n",
              "      <th>0</th>\n",
              "      <th>1</th>\n",
              "    </tr>\n",
              "  </thead>\n",
              "  <tbody>\n",
              "    <tr>\n",
              "      <th>0</th>\n",
              "      <td>2</td>\n",
              "      <td>left heel pain</td>\n",
              "    </tr>\n",
              "    <tr>\n",
              "      <th>1</th>\n",
              "      <td>2</td>\n",
              "      <td>right heel became painful</td>\n",
              "    </tr>\n",
              "    <tr>\n",
              "      <th>2</th>\n",
              "      <td>8</td>\n",
              "      <td>Arthritis</td>\n",
              "    </tr>\n",
              "    <tr>\n",
              "      <th>3</th>\n",
              "      <td>8</td>\n",
              "      <td>arthritis</td>\n",
              "    </tr>\n",
              "    <tr>\n",
              "      <th>4</th>\n",
              "      <td>8</td>\n",
              "      <td>arthritis</td>\n",
              "    </tr>\n",
              "  </tbody>\n",
              "</table>\n",
              "</div>"
            ],
            "text/plain": [
              "   0                          1\n",
              "0  2             left heel pain\n",
              "1  2  right heel became painful\n",
              "2  8                  Arthritis\n",
              "3  8                  arthritis\n",
              "4  8                  arthritis"
            ]
          },
          "metadata": {
            "tags": []
          },
          "execution_count": 11
        }
      ]
    },
    {
      "cell_type": "code",
      "metadata": {
        "id": "cOza9dfSsBud",
        "outputId": "38b136af-a62c-4243-c7af-a81ab743fe7c",
        "colab": {
          "base_uri": "https://localhost:8080/",
          "height": 204
        }
      },
      "source": [
        "# testing data set\n",
        "\n",
        "test = pd.read_csv(path/\"AskAPatient.fold-3.test.csv\",header=None)\n",
        "test.head()"
      ],
      "execution_count": 12,
      "outputs": [
        {
          "output_type": "execute_result",
          "data": {
            "text/html": [
              "<div>\n",
              "<style scoped>\n",
              "    .dataframe tbody tr th:only-of-type {\n",
              "        vertical-align: middle;\n",
              "    }\n",
              "\n",
              "    .dataframe tbody tr th {\n",
              "        vertical-align: top;\n",
              "    }\n",
              "\n",
              "    .dataframe thead th {\n",
              "        text-align: right;\n",
              "    }\n",
              "</style>\n",
              "<table border=\"1\" class=\"dataframe\">\n",
              "  <thead>\n",
              "    <tr style=\"text-align: right;\">\n",
              "      <th></th>\n",
              "      <th>0</th>\n",
              "      <th>1</th>\n",
              "    </tr>\n",
              "  </thead>\n",
              "  <tbody>\n",
              "    <tr>\n",
              "      <th>0</th>\n",
              "      <td>2</td>\n",
              "      <td>heel pain</td>\n",
              "    </tr>\n",
              "    <tr>\n",
              "      <th>1</th>\n",
              "      <td>5</td>\n",
              "      <td>rapid heart beat</td>\n",
              "    </tr>\n",
              "    <tr>\n",
              "      <th>2</th>\n",
              "      <td>6</td>\n",
              "      <td>diastolic dysfunction</td>\n",
              "    </tr>\n",
              "    <tr>\n",
              "      <th>3</th>\n",
              "      <td>8</td>\n",
              "      <td>arthritis</td>\n",
              "    </tr>\n",
              "    <tr>\n",
              "      <th>4</th>\n",
              "      <td>8</td>\n",
              "      <td>arthritis</td>\n",
              "    </tr>\n",
              "  </tbody>\n",
              "</table>\n",
              "</div>"
            ],
            "text/plain": [
              "   0                      1\n",
              "0  2              heel pain\n",
              "1  5       rapid heart beat\n",
              "2  6  diastolic dysfunction\n",
              "3  8              arthritis\n",
              "4  8              arthritis"
            ]
          },
          "metadata": {
            "tags": []
          },
          "execution_count": 12
        }
      ]
    },
    {
      "cell_type": "code",
      "metadata": {
        "id": "Vo-YNvVYoaH6",
        "outputId": "4132d8c9-ffff-4bcf-cc69-7d1b0ad287fd",
        "colab": {
          "base_uri": "https://localhost:8080/",
          "height": 17
        }
      },
      "source": [
        "# Creating DataBunch for language modelling\n",
        "\n",
        "data_lm = TextLMDataBunch.from_csv(path, 'cadec_ask.csv')"
      ],
      "execution_count": 13,
      "outputs": [
        {
          "output_type": "display_data",
          "data": {
            "text/html": [
              ""
            ],
            "text/plain": [
              "<IPython.core.display.HTML object>"
            ]
          },
          "metadata": {
            "tags": []
          }
        },
        {
          "output_type": "display_data",
          "data": {
            "text/html": [
              ""
            ],
            "text/plain": [
              "<IPython.core.display.HTML object>"
            ]
          },
          "metadata": {
            "tags": []
          }
        }
      ]
    },
    {
      "cell_type": "code",
      "metadata": {
        "id": "qcV-9kMnNLBf"
      },
      "source": [
        ""
      ],
      "execution_count": 13,
      "outputs": []
    },
    {
      "cell_type": "code",
      "metadata": {
        "id": "1ScY9afDsnvE"
      },
      "source": [
        "# Creating DataBunch for classification\n",
        "\n",
        "# data_clas = TextClasDataBunch.from_df(path, train, valid, test, vocab=data_lm.train_ds.vocab, bs=128)"
      ],
      "execution_count": 14,
      "outputs": []
    },
    {
      "cell_type": "code",
      "metadata": {
        "id": "gzrSdQcvey9p",
        "outputId": "fb1a1946-bb87-4b83-e909-e9deaf15a864",
        "colab": {
          "base_uri": "https://localhost:8080/",
          "height": 17
        }
      },
      "source": [
        "data_clas = TextClasDataBunch.from_df(path, train, valid, vocab=data_lm.train_ds.vocab, bs=128)"
      ],
      "execution_count": 15,
      "outputs": [
        {
          "output_type": "display_data",
          "data": {
            "text/html": [
              ""
            ],
            "text/plain": [
              "<IPython.core.display.HTML object>"
            ]
          },
          "metadata": {
            "tags": []
          }
        },
        {
          "output_type": "display_data",
          "data": {
            "text/html": [
              ""
            ],
            "text/plain": [
              "<IPython.core.display.HTML object>"
            ]
          },
          "metadata": {
            "tags": []
          }
        }
      ]
    },
    {
      "cell_type": "code",
      "metadata": {
        "id": "MD27Tf0Ke3ou",
        "outputId": "c807b94c-c6cb-4774-ddc2-8572d5ea8cb7",
        "colab": {
          "base_uri": "https://localhost:8080/",
          "height": 17
        }
      },
      "source": [
        "data_clas.add_test(test,label=0)\n"
      ],
      "execution_count": 16,
      "outputs": [
        {
          "output_type": "display_data",
          "data": {
            "text/html": [
              ""
            ],
            "text/plain": [
              "<IPython.core.display.HTML object>"
            ]
          },
          "metadata": {
            "tags": []
          }
        }
      ]
    },
    {
      "cell_type": "code",
      "metadata": {
        "id": "-dpjnk_rstwk"
      },
      "source": [
        "data_lm.save()\n",
        "data_clas.save()"
      ],
      "execution_count": 17,
      "outputs": []
    },
    {
      "cell_type": "code",
      "metadata": {
        "id": "4OkiJa36sw5s",
        "outputId": "38282db3-d705-4b5e-f669-2ea3513af68d",
        "colab": {
          "base_uri": "https://localhost:8080/"
        }
      },
      "source": [
        "data_lm.train_ds.vocab.itos"
      ],
      "execution_count": 18,
      "outputs": [
        {
          "output_type": "execute_result",
          "data": {
            "text/plain": [
              "['xxunk',\n",
              " 'xxpad',\n",
              " 'xxbos',\n",
              " 'xxeos',\n",
              " 'xxfld',\n",
              " 'xxmaj',\n",
              " 'xxup',\n",
              " 'xxrep',\n",
              " 'xxwrep',\n",
              " 'pain',\n",
              " 'lipitor',\n",
              " 'in',\n",
              " 'of',\n",
              " 'muscle',\n",
              " '.',\n",
              " 'and',\n",
              " 'to',\n",
              " ',',\n",
              " 'my',\n",
              " 'i',\n",
              " 'the',\n",
              " 'severe',\n",
              " 'myalgia',\n",
              " 'fatigue',\n",
              " 'loss',\n",
              " 'lower',\n",
              " '-',\n",
              " 'weakness',\n",
              " 'cramp',\n",
              " 'limb',\n",
              " 'back',\n",
              " 'stomach',\n",
              " 'a',\n",
              " 'depression',\n",
              " 'cramps',\n",
              " 'leg',\n",
              " 'joint',\n",
              " 'gas',\n",
              " 'memory',\n",
              " 'upper',\n",
              " 'legs',\n",
              " 'pains',\n",
              " 'it',\n",
              " 'shoulder',\n",
              " 'headache',\n",
              " 'unable',\n",
              " 'knee',\n",
              " 'not',\n",
              " 'neck',\n",
              " '/',\n",
              " 'foot',\n",
              " 'arthralgia',\n",
              " 'was',\n",
              " 'on',\n",
              " 'excessive',\n",
              " 'aches',\n",
              " 'like',\n",
              " 'for',\n",
              " 'hip',\n",
              " 'all',\n",
              " 'gastrointestinal',\n",
              " 'numbness',\n",
              " 'arthritis',\n",
              " 'have',\n",
              " 'walk',\n",
              " 'insomnia',\n",
              " 'feeling',\n",
              " 'with',\n",
              " 'is',\n",
              " 'cholesterol',\n",
              " 'problems',\n",
              " 'arthrotec',\n",
              " 'bleeding',\n",
              " 'heart',\n",
              " 'nausea',\n",
              " 'tired',\n",
              " 'feet',\n",
              " 'dizziness',\n",
              " 'asthenia',\n",
              " 'abdominal',\n",
              " 'walking',\n",
              " 'disease',\n",
              " 'muscles',\n",
              " 'this',\n",
              " 'extreme',\n",
              " 'very',\n",
              " 'difficulty',\n",
              " 'chest',\n",
              " 'hair',\n",
              " 'swelling',\n",
              " 'zocor',\n",
              " 'vision',\n",
              " 'could',\n",
              " 'hand',\n",
              " 'that',\n",
              " 'sleep',\n",
              " 'ache',\n",
              " 'had',\n",
              " 'burning',\n",
              " 'increased',\n",
              " 'cramping',\n",
              " \"n't\",\n",
              " ')',\n",
              " 'stiffness',\n",
              " 'backache',\n",
              " '(',\n",
              " 'pins',\n",
              " 'needles',\n",
              " 'diarrhoea',\n",
              " 'blood',\n",
              " 'left',\n",
              " 'liver',\n",
              " 'up',\n",
              " 'skin',\n",
              " 'but',\n",
              " 'amnesia',\n",
              " 'at',\n",
              " 'weight',\n",
              " 'calf',\n",
              " 'high',\n",
              " 'tingling',\n",
              " 'taking',\n",
              " 'anxiety',\n",
              " 'disability',\n",
              " 'me',\n",
              " 'symptom',\n",
              " 'impairment',\n",
              " 'low',\n",
              " 'bloating',\n",
              " 'short',\n",
              " 'stiff',\n",
              " 'lack',\n",
              " 'constipation',\n",
              " 'so',\n",
              " 'side',\n",
              " 'hands',\n",
              " \"'s\",\n",
              " 'arm',\n",
              " 'arms',\n",
              " 'can',\n",
              " 'term',\n",
              " 'headaches',\n",
              " 'sore',\n",
              " 'after',\n",
              " 'time',\n",
              " 'no',\n",
              " 'or',\n",
              " 'neuropathy',\n",
              " 'voltaren',\n",
              " 'poor',\n",
              " 'pressure',\n",
              " 'mg',\n",
              " 'from',\n",
              " 'body',\n",
              " 'balance',\n",
              " 'disorder',\n",
              " 'blurred',\n",
              " 'drug',\n",
              " 'tiredness',\n",
              " 'off',\n",
              " 'ankle',\n",
              " 'feel',\n",
              " 'joints',\n",
              " 'been',\n",
              " 'hurt',\n",
              " 'am',\n",
              " 'vaginal',\n",
              " 'acid',\n",
              " 'bad',\n",
              " 'sensation',\n",
              " 'infarction',\n",
              " 'get',\n",
              " 'pravachol',\n",
              " 'rash',\n",
              " 'right',\n",
              " 'myocardial',\n",
              " 'as',\n",
              " 'has',\n",
              " 'vertigo',\n",
              " '!',\n",
              " 'myositis',\n",
              " 'attack',\n",
              " 'effects',\n",
              " 'swollen',\n",
              " 'itching',\n",
              " 'mentally',\n",
              " 'painful',\n",
              " 'shoulders',\n",
              " 'symptoms',\n",
              " 'out',\n",
              " 'atrophy',\n",
              " 'over',\n",
              " 'upset',\n",
              " 'are',\n",
              " 'generalised',\n",
              " 'energy',\n",
              " 'both',\n",
              " 'weak',\n",
              " 'ubidecarenone',\n",
              " 'gain',\n",
              " 'diabetes',\n",
              " 'illness',\n",
              " 'constant',\n",
              " 'diarrhea',\n",
              " 'raised',\n",
              " 'by',\n",
              " 'dry',\n",
              " 'knees',\n",
              " 'do',\n",
              " 'elbow',\n",
              " 'influenza',\n",
              " 'crestor',\n",
              " 'damage',\n",
              " 'be',\n",
              " 'dull',\n",
              " 'tendonitis',\n",
              " 'about',\n",
              " 'problem',\n",
              " 'reduced',\n",
              " 'spasms',\n",
              " 'sleeping',\n",
              " 'elevated',\n",
              " 'when',\n",
              " 'years',\n",
              " 'hazy',\n",
              " 'day',\n",
              " 'started',\n",
              " 'spasm',\n",
              " 'felt',\n",
              " 'toe',\n",
              " 'bed',\n",
              " '3',\n",
              " 'take',\n",
              " 'heavy',\n",
              " 'visual',\n",
              " 'exhaustion',\n",
              " 'reflux',\n",
              " 'mood',\n",
              " 'flatulence',\n",
              " 'did',\n",
              " 'syndrome',\n",
              " 'discomfort',\n",
              " 'thigh',\n",
              " 'myopathy',\n",
              " 'movement',\n",
              " 'concentrate',\n",
              " 'libido',\n",
              " 'now',\n",
              " 'will',\n",
              " 'kidney',\n",
              " 'flu',\n",
              " 'irritable',\n",
              " '2',\n",
              " 'abnormal',\n",
              " 'down',\n",
              " 'just',\n",
              " 'months',\n",
              " 'fibromyalgia',\n",
              " 'throat',\n",
              " 'sclerosis',\n",
              " 'doctor',\n",
              " 'vomiting',\n",
              " 'night',\n",
              " 'more',\n",
              " 'if',\n",
              " 'one',\n",
              " 'cold',\n",
              " 'urine',\n",
              " 'sweating',\n",
              " 'would',\n",
              " 'serum',\n",
              " 'days',\n",
              " 'malaise',\n",
              " 'hips',\n",
              " 'chronic',\n",
              " 'confusion',\n",
              " 'head',\n",
              " 'soreness',\n",
              " 'stairs',\n",
              " 'lightheadedness',\n",
              " 'tremor',\n",
              " 'went',\n",
              " 'stopped',\n",
              " 'simvastatin',\n",
              " 'toes',\n",
              " 'concentration',\n",
              " 'mellitus',\n",
              " '10',\n",
              " 'swings',\n",
              " 'appetite',\n",
              " 'eye',\n",
              " 'disturbance',\n",
              " 'ezetimibe',\n",
              " 'aching',\n",
              " 'calves',\n",
              " 'wind',\n",
              " 'menstrual',\n",
              " 'brain',\n",
              " 'ankles',\n",
              " 'type',\n",
              " 'think',\n",
              " 'finger',\n",
              " 'injury',\n",
              " 'some',\n",
              " 'tinnitus',\n",
              " 'took',\n",
              " 'decreased',\n",
              " 'ibuprofen',\n",
              " 'c',\n",
              " 'also',\n",
              " 'terrible',\n",
              " 'impaired',\n",
              " 'esters',\n",
              " 'cough',\n",
              " 'general',\n",
              " 'paraesthesia',\n",
              " 'celebrex',\n",
              " 'peripheral',\n",
              " 'only',\n",
              " 'getting',\n",
              " 'they',\n",
              " 'parkinson',\n",
              " 'mild',\n",
              " 'intense',\n",
              " 'motivation',\n",
              " 'indigestion',\n",
              " 'fingers',\n",
              " 'restless',\n",
              " 'failure',\n",
              " 'face',\n",
              " 'ascorbic',\n",
              " 'any',\n",
              " 'heel',\n",
              " 'charleyhorse',\n",
              " 'excruciating',\n",
              " 'then',\n",
              " '&',\n",
              " 'weeks',\n",
              " 'acute',\n",
              " 'were',\n",
              " 'palpitations',\n",
              " 'dark',\n",
              " 'speech',\n",
              " 'tendon',\n",
              " 'level',\n",
              " 'renal',\n",
              " 'still',\n",
              " 'other',\n",
              " 'dyspnoea',\n",
              " 'swallowing',\n",
              " 'eyes',\n",
              " 'stress',\n",
              " 'you',\n",
              " 'hot',\n",
              " 'nerve',\n",
              " 'ca',\n",
              " \"'m\",\n",
              " 'an',\n",
              " 'he',\n",
              " '1',\n",
              " '20',\n",
              " 'lupus',\n",
              " 'infection',\n",
              " ':',\n",
              " 'gout',\n",
              " 'week',\n",
              " 'depressed',\n",
              " 'migraine',\n",
              " 'wrist',\n",
              " 'lateral',\n",
              " '5',\n",
              " 'well',\n",
              " 'tightness',\n",
              " 'strength',\n",
              " 'exercise',\n",
              " 'enzymes',\n",
              " 'even',\n",
              " 'menopause',\n",
              " 'limbs',\n",
              " 'vitamin',\n",
              " 'again',\n",
              " 'before',\n",
              " 'trouble',\n",
              " 'than',\n",
              " 'breathing',\n",
              " 'go',\n",
              " 'fog',\n",
              " 'twitch',\n",
              " 'oil',\n",
              " 'never',\n",
              " 'dreams',\n",
              " 'coq10',\n",
              " 'ago',\n",
              " 'always',\n",
              " 'which',\n",
              " 'much',\n",
              " 'advil',\n",
              " 'sinus',\n",
              " 'multiple',\n",
              " 'thighs',\n",
              " 'heartburn',\n",
              " 'taste',\n",
              " 'twitching',\n",
              " 'drowsy',\n",
              " 'fish',\n",
              " 'mouth',\n",
              " 'provoked',\n",
              " 'breath',\n",
              " '+',\n",
              " 'move',\n",
              " 'going',\n",
              " 'every',\n",
              " 'medication',\n",
              " 'tight',\n",
              " 'amyotrophic',\n",
              " 'being',\n",
              " 'horses',\n",
              " 'fenofibrate',\n",
              " 'function',\n",
              " 'worse',\n",
              " 'better',\n",
              " 'hardly',\n",
              " \"'ve\",\n",
              " 'two',\n",
              " 'tylenol',\n",
              " 'due',\n",
              " 'bowel',\n",
              " 'levels',\n",
              " 'first',\n",
              " 'lethargy',\n",
              " 'tricor',\n",
              " 'fever',\n",
              " 'uterine',\n",
              " 'mobility',\n",
              " 'extremely',\n",
              " 'charley',\n",
              " 'life',\n",
              " 'elbows',\n",
              " 'almost',\n",
              " 'experienced',\n",
              " 'nasal',\n",
              " 'because',\n",
              " 'drive',\n",
              " 'loose',\n",
              " 'numb',\n",
              " '40',\n",
              " 'clearly',\n",
              " 'what',\n",
              " 'plantar',\n",
              " 'rheumatoid',\n",
              " 'ulcer',\n",
              " 'moody',\n",
              " 'fatigued',\n",
              " 'sick',\n",
              " 'mental',\n",
              " 'lost',\n",
              " 'liptor',\n",
              " 'aleve',\n",
              " 'facial',\n",
              " 'urinary',\n",
              " '4',\n",
              " 'diclofenac',\n",
              " 'sharp',\n",
              " 'these',\n",
              " 'morning',\n",
              " 'month',\n",
              " 'slurred',\n",
              " 'major',\n",
              " 'barely',\n",
              " 'cerebrovascular',\n",
              " 'accident',\n",
              " 'shortness',\n",
              " 'around',\n",
              " 'panic',\n",
              " 'zetia',\n",
              " 'horrible',\n",
              " 'attacks',\n",
              " 'cancer',\n",
              " 'ringing',\n",
              " 'light',\n",
              " 'congestion',\n",
              " 'who',\n",
              " 'told',\n",
              " 'anything',\n",
              " 'lot',\n",
              " 'finding',\n",
              " 'sex',\n",
              " 'statins',\n",
              " 'since',\n",
              " 'sugar',\n",
              " 'reading',\n",
              " 'tract',\n",
              " 'dr',\n",
              " 'present',\n",
              " ';',\n",
              " 'statin',\n",
              " 'having',\n",
              " 'normal',\n",
              " 'paracetamol',\n",
              " 'should',\n",
              " 'achilles',\n",
              " 'sweats',\n",
              " 'hypertension',\n",
              " 'thought',\n",
              " 'deep',\n",
              " 'your',\n",
              " '6',\n",
              " 'pulse',\n",
              " 'times',\n",
              " 'there',\n",
              " 'osteoarthritis',\n",
              " 'system',\n",
              " 'same',\n",
              " 'ability',\n",
              " 'extremity',\n",
              " 'hard',\n",
              " 'little',\n",
              " 'thoughts',\n",
              " '?',\n",
              " 'malignant',\n",
              " 'became',\n",
              " 'last',\n",
              " 'rhabdomyolysis',\n",
              " 'natural',\n",
              " 'forgetful',\n",
              " 'stop',\n",
              " 'dizzy',\n",
              " 'stamina',\n",
              " 'asthma',\n",
              " 'know',\n",
              " 'few',\n",
              " 'got',\n",
              " 'without',\n",
              " 'irregular',\n",
              " 'fasciitis',\n",
              " 'things',\n",
              " 'ldl',\n",
              " 'long',\n",
              " 'work',\n",
              " 'hunger',\n",
              " 'taken',\n",
              " 'stand',\n",
              " 'inability',\n",
              " 'als',\n",
              " 'see',\n",
              " 'area',\n",
              " 'eczema',\n",
              " 'within',\n",
              " 'strain',\n",
              " 'foggy',\n",
              " 'put',\n",
              " 'inflammatory',\n",
              " 'creatinine',\n",
              " 'lopid',\n",
              " 'hypersomnia',\n",
              " 'frequent',\n",
              " 'eat',\n",
              " 'colic',\n",
              " 'oedema',\n",
              " 'period',\n",
              " 'neurontin',\n",
              " 'prednisone',\n",
              " 'good',\n",
              " 'stool',\n",
              " 'norvasc',\n",
              " 'flushing',\n",
              " 'scalp',\n",
              " 'sensations',\n",
              " 'away',\n",
              " 'hurts',\n",
              " 'cpk',\n",
              " 'pruritus',\n",
              " 'respiratory',\n",
              " 'increase',\n",
              " 'too',\n",
              " 'itchy',\n",
              " 'year',\n",
              " 'most',\n",
              " 'dose',\n",
              " 'lipex',\n",
              " 'while',\n",
              " 'palsy',\n",
              " 'climb',\n",
              " 'drugs',\n",
              " 'make',\n",
              " 'bell',\n",
              " 'stroke',\n",
              " 'nt',\n",
              " 'weird',\n",
              " 'into',\n",
              " 'nervous',\n",
              " 'ear',\n",
              " 'erythematosus',\n",
              " 'find',\n",
              " 'feels',\n",
              " 'abdomen',\n",
              " 'gone',\n",
              " 'inflammation',\n",
              " 'began',\n",
              " 'sight',\n",
              " 'atorvastatin',\n",
              " 'spasmodic',\n",
              " 'looks',\n",
              " 'sense',\n",
              " 'ms',\n",
              " 'rapid',\n",
              " 'omega-3-acid',\n",
              " 'ethyl',\n",
              " 'esters-90',\n",
              " 'difficult',\n",
              " 'aptyalism',\n",
              " 'periods',\n",
              " 'bp',\n",
              " 'tension',\n",
              " 'another',\n",
              " 'change',\n",
              " 'inflamation',\n",
              " 'said',\n",
              " 'overall',\n",
              " 'falling',\n",
              " 'menorrhagia',\n",
              " 'use',\n",
              " 'tachycardia',\n",
              " 'dysfunction',\n",
              " 'many',\n",
              " 'tolerance',\n",
              " 'zoloft',\n",
              " 'lift',\n",
              " 'tablet',\n",
              " 'permanent',\n",
              " 'slight',\n",
              " 'people',\n",
              " 'sudden',\n",
              " 'edema',\n",
              " 'limping',\n",
              " 'cause',\n",
              " 'triglycerides',\n",
              " 'gait',\n",
              " 'thinking',\n",
              " 'bursitis',\n",
              " 'empty',\n",
              " 'nightmares',\n",
              " 'bone',\n",
              " 'generally',\n",
              " 'heaviness',\n",
              " 'co',\n",
              " 'everything',\n",
              " 'self',\n",
              " 'cortisone',\n",
              " 'help',\n",
              " 'coronary',\n",
              " 'ears',\n",
              " 'gastric',\n",
              " 'something',\n",
              " 'unwell',\n",
              " 'codeine',\n",
              " 'forearm',\n",
              " 'rigidity',\n",
              " 'delusional',\n",
              " 'really',\n",
              " 'sexual',\n",
              " 'several',\n",
              " 'until',\n",
              " 'region',\n",
              " 'does',\n",
              " 'diet',\n",
              " 'omega',\n",
              " 'paralysis',\n",
              " 'blurry',\n",
              " 'venous',\n",
              " 'haematuria',\n",
              " 'random',\n",
              " 'reaction',\n",
              " 'stabbing',\n",
              " 'caused',\n",
              " 'muscular',\n",
              " 'red',\n",
              " 'erythema',\n",
              " 'changes',\n",
              " 'similar',\n",
              " 'developed',\n",
              " 'aphasia',\n",
              " 'able',\n",
              " 'bruising',\n",
              " 'fast',\n",
              " 'rupture',\n",
              " 'where',\n",
              " 'retention',\n",
              " 'diabetic',\n",
              " 'q10',\n",
              " 'during',\n",
              " 'try',\n",
              " 'starting',\n",
              " 'diovan',\n",
              " 'effect',\n",
              " 'food',\n",
              " 'noticed',\n",
              " 'tests',\n",
              " 'tunnel',\n",
              " 'spotting',\n",
              " 'his',\n",
              " 'sever',\n",
              " 'stopping',\n",
              " 'hungry',\n",
              " 'bloated',\n",
              " 'old',\n",
              " 'degenerative',\n",
              " 'disc',\n",
              " 'paranoia',\n",
              " 'suicidal',\n",
              " 'rectal',\n",
              " 'test',\n",
              " 'menopausal',\n",
              " 'sciatica',\n",
              " 'ever',\n",
              " '%',\n",
              " 'lowered',\n",
              " 'doctors',\n",
              " 'three',\n",
              " 'made',\n",
              " 'especially',\n",
              " 'big',\n",
              " 'she',\n",
              " 'sides',\n",
              " 'between',\n",
              " 'myself',\n",
              " 'carpal',\n",
              " 'came',\n",
              " 'site',\n",
              " 'bladder',\n",
              " 'though',\n",
              " 'read',\n",
              " 'prescribed',\n",
              " 'arthritic',\n",
              " 'slightly',\n",
              " 'standing',\n",
              " 'issues',\n",
              " 'coated',\n",
              " 'choking',\n",
              " 'syncope',\n",
              " 'menstruation',\n",
              " 'however',\n",
              " 'eyesight',\n",
              " 'spine',\n",
              " 'want',\n",
              " 'endometriosis',\n",
              " 'sun',\n",
              " 'how',\n",
              " 'them',\n",
              " 'uterus',\n",
              " 'bronchitis',\n",
              " 'chill',\n",
              " 'through',\n",
              " 'tender',\n",
              " 'anger',\n",
              " 'twitches',\n",
              " 'ached',\n",
              " 'way',\n",
              " 'musculoskeletal',\n",
              " 'misoprostol',\n",
              " 'chair',\n",
              " 'pill',\n",
              " 'found',\n",
              " 'interest',\n",
              " 'condition',\n",
              " 'sweat',\n",
              " 'cycle',\n",
              " '8',\n",
              " 'allergic',\n",
              " 'decrease',\n",
              " 'run',\n",
              " 'circulation',\n",
              " 'quit',\n",
              " 'once',\n",
              " 'unhappy',\n",
              " 'drowsiness',\n",
              " 'their',\n",
              " 'drink',\n",
              " 'fear',\n",
              " 'sure',\n",
              " 'great',\n",
              " 'fine',\n",
              " 'constantly',\n",
              " 'limp',\n",
              " 'changed',\n",
              " 'colitis',\n",
              " 'neuralgia',\n",
              " 'minutes',\n",
              " 'control',\n",
              " 'crying',\n",
              " 'related',\n",
              " 'muscel',\n",
              " 'breast',\n",
              " 'cataflam',\n",
              " 'eructation',\n",
              " 'stools',\n",
              " 'thoracic',\n",
              " 'physical',\n",
              " 'agony',\n",
              " 'tongue',\n",
              " 'causing',\n",
              " 'rashes',\n",
              " 'muscels',\n",
              " 'wrists',\n",
              " 'alzheimer',\n",
              " 'tried',\n",
              " 'testosterone',\n",
              " 'intervertebral',\n",
              " 'recommend',\n",
              " 'unbearable',\n",
              " 'experiencing',\n",
              " 'ribs',\n",
              " 'less',\n",
              " 'irritability',\n",
              " 'enough',\n",
              " 'desire',\n",
              " 'headed',\n",
              " 'hdl',\n",
              " 'immediately',\n",
              " 'haemorrhage',\n",
              " \"'\",\n",
              " 'agitated',\n",
              " 'infections',\n",
              " 'may',\n",
              " 'slow',\n",
              " 'done',\n",
              " 'hepatic',\n",
              " 'intolerance',\n",
              " 'daily',\n",
              " 'lipidil',\n",
              " 'digestive',\n",
              " 'film',\n",
              " 'recently',\n",
              " 'hurting',\n",
              " '50',\n",
              " 'mobic',\n",
              " 'lowering',\n",
              " 'serious',\n",
              " 'far',\n",
              " 'above',\n",
              " 'personality',\n",
              " 'sensitivity',\n",
              " '-pelvis',\n",
              " 'words',\n",
              " 'yellow',\n",
              " 'hours',\n",
              " 'remember',\n",
              " 'total',\n",
              " 'rate',\n",
              " 'debilitating',\n",
              " 'fatique',\n",
              " 'moodiness',\n",
              " 'steatosis',\n",
              " 'dizzyness',\n",
              " 'below',\n",
              " 'touch',\n",
              " 'lexapro',\n",
              " 'cognition',\n",
              " 'sit',\n",
              " 'disorientated',\n",
              " 'dehydration',\n",
              " 'medicine',\n",
              " 'need',\n",
              " '--',\n",
              " 'her',\n",
              " 'irritation',\n",
              " 'we',\n",
              " 'chills',\n",
              " 'haematochezia',\n",
              " 'transient',\n",
              " 'e',\n",
              " 'tremors',\n",
              " 'pancreatitis',\n",
              " 'count',\n",
              " 'ani',\n",
              " 'dropped',\n",
              " 'potassium',\n",
              " 'later',\n",
              " 'breasts',\n",
              " 'forearms',\n",
              " 'clumsiness',\n",
              " 'rhinitis',\n",
              " 'tenderness',\n",
              " 'although',\n",
              " 'tingly',\n",
              " 'waking',\n",
              " 'limitation',\n",
              " 'unsteady',\n",
              " 'creatine',\n",
              " 'throbbing',\n",
              " 'blisters',\n",
              " 'pravastatin',\n",
              " 'wasting',\n",
              " 'achy',\n",
              " 'b',\n",
              " 'sleeplessness',\n",
              " 'falls',\n",
              " 'white',\n",
              " 'next',\n",
              " 'persistent',\n",
              " 'alopecia',\n",
              " 'works',\n",
              " 'each',\n",
              " 'moderate',\n",
              " 'morphine',\n",
              " 'losing',\n",
              " 'instead',\n",
              " 'whole',\n",
              " 'anyone',\n",
              " 'mass',\n",
              " 'beat',\n",
              " 'dementia',\n",
              " 'lose',\n",
              " 'thinning',\n",
              " 'non',\n",
              " 'aspirin',\n",
              " 'results',\n",
              " 'glucosamine',\n",
              " 'occasional',\n",
              " 'charlie',\n",
              " 'fatty',\n",
              " '75',\n",
              " 'vague',\n",
              " 'altered',\n",
              " 'water',\n",
              " 'entire',\n",
              " 'neoplasm',\n",
              " 'cell',\n",
              " 'website',\n",
              " 'difficulties',\n",
              " 'cognitive',\n",
              " 'extremities',\n",
              " 'lumbar',\n",
              " 'concentrating',\n",
              " 'forgetfulness',\n",
              " 'worth',\n",
              " 'dysphonia',\n",
              " 'cardiac',\n",
              " 'across',\n",
              " 'seems',\n",
              " 'its',\n",
              " 'finally',\n",
              " 'rib',\n",
              " 'experience',\n",
              " 'spells',\n",
              " 'jaundice',\n",
              " 'new',\n",
              " '30',\n",
              " 'constipated',\n",
              " 'urinate',\n",
              " 'come',\n",
              " 'headedness',\n",
              " 'alpha',\n",
              " 'tocopherol',\n",
              " 'tenalgia',\n",
              " 'bizarre',\n",
              " 'colon',\n",
              " 'relief',\n",
              " 'none',\n",
              " 's',\n",
              " 'aggression',\n",
              " 'central',\n",
              " 'initial',\n",
              " 'nothing',\n",
              " 'fuzzy',\n",
              " 'meds',\n",
              " 'hypertonia',\n",
              " 'doc',\n",
              " 'incoordination',\n",
              " 'believe',\n",
              " 'gastritis',\n",
              " 'gemfibrozil',\n",
              " 'wanted',\n",
              " 'motor',\n",
              " 'asleep',\n",
              " 'family',\n",
              " 'moving',\n",
              " 'contusion',\n",
              " '80',\n",
              " 'four',\n",
              " 'burn',\n",
              " 'range',\n",
              " 'room',\n",
              " 'tore',\n",
              " 'meniscus',\n",
              " 'coma',\n",
              " 'unexplained',\n",
              " 'doing',\n",
              " '7',\n",
              " 'shaking',\n",
              " 'waist',\n",
              " 'those',\n",
              " 'migranes',\n",
              " 'etc',\n",
              " 'say',\n",
              " 'buzzing',\n",
              " 'neoplastic',\n",
              " 'vytorin',\n",
              " 'magnesium',\n",
              " 'photosensitisation',\n",
              " ...]"
            ]
          },
          "metadata": {
            "tags": []
          },
          "execution_count": 18
        }
      ]
    },
    {
      "cell_type": "code",
      "metadata": {
        "id": "yPWr03mls3VT",
        "outputId": "9851d178-7663-4dd5-baa6-e9e5821758c7",
        "colab": {
          "base_uri": "https://localhost:8080/",
          "height": 17
        }
      },
      "source": [
        "model_path = path/'models'\n",
        "model_path.mkdir(exist_ok=True)\n",
        "url = 'http://files.fast.ai/models/wt103_v1/'\n",
        "download_url(f'{url}lstm_wt103.pth', model_path/'lstm_wt103.pth')\n",
        "download_url(f'{url}itos_wt103.pkl', model_path/'itos_wt103.pkl')"
      ],
      "execution_count": 19,
      "outputs": [
        {
          "output_type": "display_data",
          "data": {
            "text/html": [
              ""
            ],
            "text/plain": [
              "<IPython.core.display.HTML object>"
            ]
          },
          "metadata": {
            "tags": []
          }
        },
        {
          "output_type": "display_data",
          "data": {
            "text/html": [
              ""
            ],
            "text/plain": [
              "<IPython.core.display.HTML object>"
            ]
          },
          "metadata": {
            "tags": []
          }
        }
      ]
    },
    {
      "cell_type": "code",
      "metadata": {
        "id": "JRzvWg8RtGGr",
        "outputId": "321870b4-9812-41c1-888e-e6dac00725b0",
        "colab": {
          "base_uri": "https://localhost:8080/",
          "height": 34
        }
      },
      "source": [
        "learn = language_model_learner(data_lm, AWD_LSTM, drop_mult=0.5)"
      ],
      "execution_count": 20,
      "outputs": [
        {
          "output_type": "stream",
          "text": [
            "Downloading https://s3.amazonaws.com/fast-ai-modelzoo/wt103-fwd.tgz\n"
          ],
          "name": "stdout"
        },
        {
          "output_type": "display_data",
          "data": {
            "text/html": [
              ""
            ],
            "text/plain": [
              "<IPython.core.display.HTML object>"
            ]
          },
          "metadata": {
            "tags": []
          }
        }
      ]
    },
    {
      "cell_type": "code",
      "metadata": {
        "id": "xKK7GeBev7Xn",
        "outputId": "f3aa6ab1-eee3-47fe-fb2e-af9493973c3a",
        "colab": {
          "base_uri": "https://localhost:8080/",
          "height": 80
        }
      },
      "source": [
        "learn.fit_one_cycle(1, 1e-2)"
      ],
      "execution_count": 21,
      "outputs": [
        {
          "output_type": "display_data",
          "data": {
            "text/html": [
              "<table border=\"1\" class=\"dataframe\">\n",
              "  <thead>\n",
              "    <tr style=\"text-align: left;\">\n",
              "      <th>epoch</th>\n",
              "      <th>train_loss</th>\n",
              "      <th>valid_loss</th>\n",
              "      <th>accuracy</th>\n",
              "      <th>time</th>\n",
              "    </tr>\n",
              "  </thead>\n",
              "  <tbody>\n",
              "    <tr>\n",
              "      <td>0</td>\n",
              "      <td>3.176254</td>\n",
              "      <td>2.690485</td>\n",
              "      <td>0.545285</td>\n",
              "      <td>1:04:39</td>\n",
              "    </tr>\n",
              "  </tbody>\n",
              "</table>"
            ],
            "text/plain": [
              "<IPython.core.display.HTML object>"
            ]
          },
          "metadata": {
            "tags": []
          }
        }
      ]
    },
    {
      "cell_type": "code",
      "metadata": {
        "id": "iB7rHGQCwd12"
      },
      "source": [
        "# learn.fit_one_cycle(1, 1e-2)"
      ],
      "execution_count": 22,
      "outputs": []
    },
    {
      "cell_type": "code",
      "metadata": {
        "id": "_BnSuAeCwkBe"
      },
      "source": [
        "# learn.fit_one_cycle(1, 1e-3)"
      ],
      "execution_count": 23,
      "outputs": []
    },
    {
      "cell_type": "code",
      "metadata": {
        "id": "MuTm-RFjwrEX",
        "outputId": "ba8d31ff-b2d3-4f30-8735-0aa2781ff5e4",
        "colab": {
          "base_uri": "https://localhost:8080/",
          "height": 80
        }
      },
      "source": [
        "learn.fit_one_cycle(1, 1e-3)"
      ],
      "execution_count": 24,
      "outputs": [
        {
          "output_type": "display_data",
          "data": {
            "text/html": [
              "<table border=\"1\" class=\"dataframe\">\n",
              "  <thead>\n",
              "    <tr style=\"text-align: left;\">\n",
              "      <th>epoch</th>\n",
              "      <th>train_loss</th>\n",
              "      <th>valid_loss</th>\n",
              "      <th>accuracy</th>\n",
              "      <th>time</th>\n",
              "    </tr>\n",
              "  </thead>\n",
              "  <tbody>\n",
              "    <tr>\n",
              "      <td>0</td>\n",
              "      <td>2.769383</td>\n",
              "      <td>2.645303</td>\n",
              "      <td>0.550963</td>\n",
              "      <td>1:04:21</td>\n",
              "    </tr>\n",
              "  </tbody>\n",
              "</table>"
            ],
            "text/plain": [
              "<IPython.core.display.HTML object>"
            ]
          },
          "metadata": {
            "tags": []
          }
        }
      ]
    },
    {
      "cell_type": "code",
      "metadata": {
        "id": "1Er2ExO8wr7Y"
      },
      "source": [
        "learn.save_encoder('cadec_ask_fold3_first')"
      ],
      "execution_count": 25,
      "outputs": []
    },
    {
      "cell_type": "code",
      "metadata": {
        "id": "z52cZs2qwvad",
        "outputId": "310e14b4-c243-4c4a-98a8-ce643a4d7931",
        "colab": {
          "base_uri": "https://localhost:8080/",
          "height": 80
        }
      },
      "source": [
        "learn = text_classifier_learner(data_clas,AWD_LSTM, drop_mult=0.5)\n",
        "learn.load_encoder('cadec_ask_fold3_first')\n",
        "learn.fit_one_cycle(1, 1e-2)"
      ],
      "execution_count": 26,
      "outputs": [
        {
          "output_type": "display_data",
          "data": {
            "text/html": [
              "<table border=\"1\" class=\"dataframe\">\n",
              "  <thead>\n",
              "    <tr style=\"text-align: left;\">\n",
              "      <th>epoch</th>\n",
              "      <th>train_loss</th>\n",
              "      <th>valid_loss</th>\n",
              "      <th>accuracy</th>\n",
              "      <th>time</th>\n",
              "    </tr>\n",
              "  </thead>\n",
              "  <tbody>\n",
              "    <tr>\n",
              "      <td>0</td>\n",
              "      <td>4.046326</td>\n",
              "      <td>3.657886</td>\n",
              "      <td>0.385496</td>\n",
              "      <td>03:55</td>\n",
              "    </tr>\n",
              "  </tbody>\n",
              "</table>"
            ],
            "text/plain": [
              "<IPython.core.display.HTML object>"
            ]
          },
          "metadata": {
            "tags": []
          }
        }
      ]
    },
    {
      "cell_type": "code",
      "metadata": {
        "id": "ImwQP1PJwzxd",
        "outputId": "e89f42f0-16ea-4a02-f870-5109ff973301",
        "colab": {
          "base_uri": "https://localhost:8080/",
          "height": 80
        }
      },
      "source": [
        "learn.freeze_to(-2)\n",
        "learn.fit_one_cycle(1, slice(5e-3/2., 5e-3))"
      ],
      "execution_count": 27,
      "outputs": [
        {
          "output_type": "display_data",
          "data": {
            "text/html": [
              "<table border=\"1\" class=\"dataframe\">\n",
              "  <thead>\n",
              "    <tr style=\"text-align: left;\">\n",
              "      <th>epoch</th>\n",
              "      <th>train_loss</th>\n",
              "      <th>valid_loss</th>\n",
              "      <th>accuracy</th>\n",
              "      <th>time</th>\n",
              "    </tr>\n",
              "  </thead>\n",
              "  <tbody>\n",
              "    <tr>\n",
              "      <td>0</td>\n",
              "      <td>3.078853</td>\n",
              "      <td>3.244365</td>\n",
              "      <td>0.440204</td>\n",
              "      <td>04:17</td>\n",
              "    </tr>\n",
              "  </tbody>\n",
              "</table>"
            ],
            "text/plain": [
              "<IPython.core.display.HTML object>"
            ]
          },
          "metadata": {
            "tags": []
          }
        }
      ]
    },
    {
      "cell_type": "code",
      "metadata": {
        "id": "Owff_BJXw53u",
        "outputId": "a308c562-3e34-469d-d548-c9f48f1053a2",
        "colab": {
          "base_uri": "https://localhost:8080/",
          "height": 80
        }
      },
      "source": [
        "learn.unfreeze()\n",
        "learn.fit_one_cycle(1, slice(2e-3/100, 2e-3))"
      ],
      "execution_count": 28,
      "outputs": [
        {
          "output_type": "display_data",
          "data": {
            "text/html": [
              "<table border=\"1\" class=\"dataframe\">\n",
              "  <thead>\n",
              "    <tr style=\"text-align: left;\">\n",
              "      <th>epoch</th>\n",
              "      <th>train_loss</th>\n",
              "      <th>valid_loss</th>\n",
              "      <th>accuracy</th>\n",
              "      <th>time</th>\n",
              "    </tr>\n",
              "  </thead>\n",
              "  <tbody>\n",
              "    <tr>\n",
              "      <td>0</td>\n",
              "      <td>2.334950</td>\n",
              "      <td>2.763479</td>\n",
              "      <td>0.525445</td>\n",
              "      <td>08:57</td>\n",
              "    </tr>\n",
              "  </tbody>\n",
              "</table>"
            ],
            "text/plain": [
              "<IPython.core.display.HTML object>"
            ]
          },
          "metadata": {
            "tags": []
          }
        }
      ]
    },
    {
      "cell_type": "code",
      "metadata": {
        "id": "lqAyu56V8Waq",
        "outputId": "18a675b8-d459-4215-e750-185f9fef16af",
        "colab": {
          "base_uri": "https://localhost:8080/",
          "height": 111
        }
      },
      "source": [
        "learn.fit_one_cycle(2, slice(2e-3/100, 2e-3))"
      ],
      "execution_count": 29,
      "outputs": [
        {
          "output_type": "display_data",
          "data": {
            "text/html": [
              "<table border=\"1\" class=\"dataframe\">\n",
              "  <thead>\n",
              "    <tr style=\"text-align: left;\">\n",
              "      <th>epoch</th>\n",
              "      <th>train_loss</th>\n",
              "      <th>valid_loss</th>\n",
              "      <th>accuracy</th>\n",
              "      <th>time</th>\n",
              "    </tr>\n",
              "  </thead>\n",
              "  <tbody>\n",
              "    <tr>\n",
              "      <td>0</td>\n",
              "      <td>2.057245</td>\n",
              "      <td>2.357259</td>\n",
              "      <td>0.582697</td>\n",
              "      <td>09:09</td>\n",
              "    </tr>\n",
              "    <tr>\n",
              "      <td>1</td>\n",
              "      <td>1.718843</td>\n",
              "      <td>2.174151</td>\n",
              "      <td>0.637405</td>\n",
              "      <td>10:03</td>\n",
              "    </tr>\n",
              "  </tbody>\n",
              "</table>"
            ],
            "text/plain": [
              "<IPython.core.display.HTML object>"
            ]
          },
          "metadata": {
            "tags": []
          }
        }
      ]
    },
    {
      "cell_type": "code",
      "metadata": {
        "id": "a7I1xMRp8bUd",
        "outputId": "322bb371-1194-4aba-849b-3a9baf5fa0d0",
        "colab": {
          "base_uri": "https://localhost:8080/",
          "height": 111
        }
      },
      "source": [
        "learn.fit_one_cycle(2, slice(2e-3/100, 2e-3))"
      ],
      "execution_count": 30,
      "outputs": [
        {
          "output_type": "display_data",
          "data": {
            "text/html": [
              "<table border=\"1\" class=\"dataframe\">\n",
              "  <thead>\n",
              "    <tr style=\"text-align: left;\">\n",
              "      <th>epoch</th>\n",
              "      <th>train_loss</th>\n",
              "      <th>valid_loss</th>\n",
              "      <th>accuracy</th>\n",
              "      <th>time</th>\n",
              "    </tr>\n",
              "  </thead>\n",
              "  <tbody>\n",
              "    <tr>\n",
              "      <td>0</td>\n",
              "      <td>1.529222</td>\n",
              "      <td>1.991120</td>\n",
              "      <td>0.662850</td>\n",
              "      <td>09:32</td>\n",
              "    </tr>\n",
              "    <tr>\n",
              "      <td>1</td>\n",
              "      <td>1.321193</td>\n",
              "      <td>1.878355</td>\n",
              "      <td>0.673028</td>\n",
              "      <td>09:18</td>\n",
              "    </tr>\n",
              "  </tbody>\n",
              "</table>"
            ],
            "text/plain": [
              "<IPython.core.display.HTML object>"
            ]
          },
          "metadata": {
            "tags": []
          }
        }
      ]
    },
    {
      "cell_type": "code",
      "metadata": {
        "id": "UAnti-XmGVfO",
        "outputId": "2f8510fa-c34f-494d-930c-380470d79a5c",
        "colab": {
          "base_uri": "https://localhost:8080/",
          "height": 111
        }
      },
      "source": [
        "learn.fit_one_cycle(2, slice(2e-3/100, 2e-3))"
      ],
      "execution_count": 31,
      "outputs": [
        {
          "output_type": "display_data",
          "data": {
            "text/html": [
              "<table border=\"1\" class=\"dataframe\">\n",
              "  <thead>\n",
              "    <tr style=\"text-align: left;\">\n",
              "      <th>epoch</th>\n",
              "      <th>train_loss</th>\n",
              "      <th>valid_loss</th>\n",
              "      <th>accuracy</th>\n",
              "      <th>time</th>\n",
              "    </tr>\n",
              "  </thead>\n",
              "  <tbody>\n",
              "    <tr>\n",
              "      <td>0</td>\n",
              "      <td>1.298590</td>\n",
              "      <td>1.727452</td>\n",
              "      <td>0.709924</td>\n",
              "      <td>09:41</td>\n",
              "    </tr>\n",
              "    <tr>\n",
              "      <td>1</td>\n",
              "      <td>1.065116</td>\n",
              "      <td>1.652900</td>\n",
              "      <td>0.715013</td>\n",
              "      <td>09:39</td>\n",
              "    </tr>\n",
              "  </tbody>\n",
              "</table>"
            ],
            "text/plain": [
              "<IPython.core.display.HTML object>"
            ]
          },
          "metadata": {
            "tags": []
          }
        }
      ]
    },
    {
      "cell_type": "code",
      "metadata": {
        "id": "bIft7W25GwSu",
        "outputId": "2bb14c7f-e5bf-412b-993b-9c0bef4ec83d",
        "colab": {
          "base_uri": "https://localhost:8080/",
          "height": 111
        }
      },
      "source": [
        "learn.fit_one_cycle(2, slice(2e-3/100, 2e-3))"
      ],
      "execution_count": 32,
      "outputs": [
        {
          "output_type": "display_data",
          "data": {
            "text/html": [
              "<table border=\"1\" class=\"dataframe\">\n",
              "  <thead>\n",
              "    <tr style=\"text-align: left;\">\n",
              "      <th>epoch</th>\n",
              "      <th>train_loss</th>\n",
              "      <th>valid_loss</th>\n",
              "      <th>accuracy</th>\n",
              "      <th>time</th>\n",
              "    </tr>\n",
              "  </thead>\n",
              "  <tbody>\n",
              "    <tr>\n",
              "      <td>0</td>\n",
              "      <td>1.007072</td>\n",
              "      <td>1.635036</td>\n",
              "      <td>0.715013</td>\n",
              "      <td>09:51</td>\n",
              "    </tr>\n",
              "    <tr>\n",
              "      <td>1</td>\n",
              "      <td>0.889368</td>\n",
              "      <td>1.549034</td>\n",
              "      <td>0.727735</td>\n",
              "      <td>09:55</td>\n",
              "    </tr>\n",
              "  </tbody>\n",
              "</table>"
            ],
            "text/plain": [
              "<IPython.core.display.HTML object>"
            ]
          },
          "metadata": {
            "tags": []
          }
        }
      ]
    },
    {
      "cell_type": "code",
      "metadata": {
        "id": "EEHszVRvGyFt",
        "outputId": "9d55c241-d9ee-4d62-9bed-0585d3ba4356",
        "colab": {
          "base_uri": "https://localhost:8080/",
          "height": 111
        }
      },
      "source": [
        "learn.fit_one_cycle(2, slice(2e-3/100, 2e-3))"
      ],
      "execution_count": 33,
      "outputs": [
        {
          "output_type": "display_data",
          "data": {
            "text/html": [
              "<table border=\"1\" class=\"dataframe\">\n",
              "  <thead>\n",
              "    <tr style=\"text-align: left;\">\n",
              "      <th>epoch</th>\n",
              "      <th>train_loss</th>\n",
              "      <th>valid_loss</th>\n",
              "      <th>accuracy</th>\n",
              "      <th>time</th>\n",
              "    </tr>\n",
              "  </thead>\n",
              "  <tbody>\n",
              "    <tr>\n",
              "      <td>0</td>\n",
              "      <td>0.855950</td>\n",
              "      <td>1.502813</td>\n",
              "      <td>0.739186</td>\n",
              "      <td>09:19</td>\n",
              "    </tr>\n",
              "    <tr>\n",
              "      <td>1</td>\n",
              "      <td>0.739791</td>\n",
              "      <td>1.438786</td>\n",
              "      <td>0.748092</td>\n",
              "      <td>09:58</td>\n",
              "    </tr>\n",
              "  </tbody>\n",
              "</table>"
            ],
            "text/plain": [
              "<IPython.core.display.HTML object>"
            ]
          },
          "metadata": {
            "tags": []
          }
        }
      ]
    },
    {
      "cell_type": "code",
      "metadata": {
        "id": "XsHfrhCHG3dN",
        "outputId": "120ddb30-4bbb-4c78-f343-717c1f7bae6e",
        "colab": {
          "base_uri": "https://localhost:8080/",
          "height": 173
        }
      },
      "source": [
        "learn.fit_one_cycle(4, slice(2e-3/100, 2e-3))"
      ],
      "execution_count": 34,
      "outputs": [
        {
          "output_type": "display_data",
          "data": {
            "text/html": [
              "<table border=\"1\" class=\"dataframe\">\n",
              "  <thead>\n",
              "    <tr style=\"text-align: left;\">\n",
              "      <th>epoch</th>\n",
              "      <th>train_loss</th>\n",
              "      <th>valid_loss</th>\n",
              "      <th>accuracy</th>\n",
              "      <th>time</th>\n",
              "    </tr>\n",
              "  </thead>\n",
              "  <tbody>\n",
              "    <tr>\n",
              "      <td>0</td>\n",
              "      <td>0.705884</td>\n",
              "      <td>1.432843</td>\n",
              "      <td>0.745547</td>\n",
              "      <td>10:00</td>\n",
              "    </tr>\n",
              "    <tr>\n",
              "      <td>1</td>\n",
              "      <td>0.699820</td>\n",
              "      <td>1.382603</td>\n",
              "      <td>0.744275</td>\n",
              "      <td>09:55</td>\n",
              "    </tr>\n",
              "    <tr>\n",
              "      <td>2</td>\n",
              "      <td>0.602874</td>\n",
              "      <td>1.369736</td>\n",
              "      <td>0.754453</td>\n",
              "      <td>10:27</td>\n",
              "    </tr>\n",
              "    <tr>\n",
              "      <td>3</td>\n",
              "      <td>0.495317</td>\n",
              "      <td>1.343270</td>\n",
              "      <td>0.758270</td>\n",
              "      <td>10:01</td>\n",
              "    </tr>\n",
              "  </tbody>\n",
              "</table>"
            ],
            "text/plain": [
              "<IPython.core.display.HTML object>"
            ]
          },
          "metadata": {
            "tags": []
          }
        }
      ]
    },
    {
      "cell_type": "code",
      "metadata": {
        "id": "0Zsd99isb9EQ",
        "outputId": "1f0e4d97-f83d-4d4b-eb19-8b11ef6e9b92",
        "colab": {
          "base_uri": "https://localhost:8080/",
          "height": 173
        }
      },
      "source": [
        "learn.fit_one_cycle(4, slice(2e-3/100, 2e-3))"
      ],
      "execution_count": 35,
      "outputs": [
        {
          "output_type": "display_data",
          "data": {
            "text/html": [
              "<table border=\"1\" class=\"dataframe\">\n",
              "  <thead>\n",
              "    <tr style=\"text-align: left;\">\n",
              "      <th>epoch</th>\n",
              "      <th>train_loss</th>\n",
              "      <th>valid_loss</th>\n",
              "      <th>accuracy</th>\n",
              "      <th>time</th>\n",
              "    </tr>\n",
              "  </thead>\n",
              "  <tbody>\n",
              "    <tr>\n",
              "      <td>0</td>\n",
              "      <td>0.496664</td>\n",
              "      <td>1.346914</td>\n",
              "      <td>0.758270</td>\n",
              "      <td>09:38</td>\n",
              "    </tr>\n",
              "    <tr>\n",
              "      <td>1</td>\n",
              "      <td>0.506536</td>\n",
              "      <td>1.354726</td>\n",
              "      <td>0.758270</td>\n",
              "      <td>09:16</td>\n",
              "    </tr>\n",
              "    <tr>\n",
              "      <td>2</td>\n",
              "      <td>0.464578</td>\n",
              "      <td>1.353681</td>\n",
              "      <td>0.763359</td>\n",
              "      <td>09:23</td>\n",
              "    </tr>\n",
              "    <tr>\n",
              "      <td>3</td>\n",
              "      <td>0.382707</td>\n",
              "      <td>1.323787</td>\n",
              "      <td>0.769720</td>\n",
              "      <td>10:10</td>\n",
              "    </tr>\n",
              "  </tbody>\n",
              "</table>"
            ],
            "text/plain": [
              "<IPython.core.display.HTML object>"
            ]
          },
          "metadata": {
            "tags": []
          }
        }
      ]
    },
    {
      "cell_type": "code",
      "metadata": {
        "id": "atNWNKDFPbuI",
        "outputId": "1ca67886-0a97-4f69-dc2b-f2712b1e44cb",
        "colab": {
          "base_uri": "https://localhost:8080/",
          "height": 173
        }
      },
      "source": [
        "learn.fit_one_cycle(4, slice(2e-3/100, 2e-3))"
      ],
      "execution_count": 36,
      "outputs": [
        {
          "output_type": "display_data",
          "data": {
            "text/html": [
              "<table border=\"1\" class=\"dataframe\">\n",
              "  <thead>\n",
              "    <tr style=\"text-align: left;\">\n",
              "      <th>epoch</th>\n",
              "      <th>train_loss</th>\n",
              "      <th>valid_loss</th>\n",
              "      <th>accuracy</th>\n",
              "      <th>time</th>\n",
              "    </tr>\n",
              "  </thead>\n",
              "  <tbody>\n",
              "    <tr>\n",
              "      <td>0</td>\n",
              "      <td>0.387398</td>\n",
              "      <td>1.350877</td>\n",
              "      <td>0.764631</td>\n",
              "      <td>10:07</td>\n",
              "    </tr>\n",
              "    <tr>\n",
              "      <td>1</td>\n",
              "      <td>0.446300</td>\n",
              "      <td>1.335858</td>\n",
              "      <td>0.779898</td>\n",
              "      <td>10:36</td>\n",
              "    </tr>\n",
              "    <tr>\n",
              "      <td>2</td>\n",
              "      <td>0.368162</td>\n",
              "      <td>1.291105</td>\n",
              "      <td>0.778626</td>\n",
              "      <td>10:28</td>\n",
              "    </tr>\n",
              "    <tr>\n",
              "      <td>3</td>\n",
              "      <td>0.332354</td>\n",
              "      <td>1.313498</td>\n",
              "      <td>0.783715</td>\n",
              "      <td>10:32</td>\n",
              "    </tr>\n",
              "  </tbody>\n",
              "</table>"
            ],
            "text/plain": [
              "<IPython.core.display.HTML object>"
            ]
          },
          "metadata": {
            "tags": []
          }
        }
      ]
    },
    {
      "cell_type": "code",
      "metadata": {
        "id": "rKrBTZ0T1uVA",
        "outputId": "820acfd6-43a1-4195-c29f-3fab0dc4b080",
        "colab": {
          "base_uri": "https://localhost:8080/",
          "height": 173
        }
      },
      "source": [
        "learn.fit_one_cycle(4, slice(2e-3/100, 2e-3))"
      ],
      "execution_count": 37,
      "outputs": [
        {
          "output_type": "display_data",
          "data": {
            "text/html": [
              "<table border=\"1\" class=\"dataframe\">\n",
              "  <thead>\n",
              "    <tr style=\"text-align: left;\">\n",
              "      <th>epoch</th>\n",
              "      <th>train_loss</th>\n",
              "      <th>valid_loss</th>\n",
              "      <th>accuracy</th>\n",
              "      <th>time</th>\n",
              "    </tr>\n",
              "  </thead>\n",
              "  <tbody>\n",
              "    <tr>\n",
              "      <td>0</td>\n",
              "      <td>0.319395</td>\n",
              "      <td>1.372722</td>\n",
              "      <td>0.778626</td>\n",
              "      <td>09:27</td>\n",
              "    </tr>\n",
              "    <tr>\n",
              "      <td>1</td>\n",
              "      <td>0.365733</td>\n",
              "      <td>1.378573</td>\n",
              "      <td>0.777354</td>\n",
              "      <td>09:21</td>\n",
              "    </tr>\n",
              "    <tr>\n",
              "      <td>2</td>\n",
              "      <td>0.308167</td>\n",
              "      <td>1.397016</td>\n",
              "      <td>0.778626</td>\n",
              "      <td>09:30</td>\n",
              "    </tr>\n",
              "    <tr>\n",
              "      <td>3</td>\n",
              "      <td>0.259310</td>\n",
              "      <td>1.346606</td>\n",
              "      <td>0.781170</td>\n",
              "      <td>09:54</td>\n",
              "    </tr>\n",
              "  </tbody>\n",
              "</table>"
            ],
            "text/plain": [
              "<IPython.core.display.HTML object>"
            ]
          },
          "metadata": {
            "tags": []
          }
        }
      ]
    },
    {
      "cell_type": "code",
      "metadata": {
        "id": "ajQC6WDg1yA9",
        "outputId": "16f445e1-3ca7-42e2-a934-5147006efe89",
        "colab": {
          "base_uri": "https://localhost:8080/",
          "height": 173
        }
      },
      "source": [
        "learn.fit_one_cycle(4, slice(2e-3/100, 2e-3))"
      ],
      "execution_count": 38,
      "outputs": [
        {
          "output_type": "display_data",
          "data": {
            "text/html": [
              "<table border=\"1\" class=\"dataframe\">\n",
              "  <thead>\n",
              "    <tr style=\"text-align: left;\">\n",
              "      <th>epoch</th>\n",
              "      <th>train_loss</th>\n",
              "      <th>valid_loss</th>\n",
              "      <th>accuracy</th>\n",
              "      <th>time</th>\n",
              "    </tr>\n",
              "  </thead>\n",
              "  <tbody>\n",
              "    <tr>\n",
              "      <td>0</td>\n",
              "      <td>0.285202</td>\n",
              "      <td>1.434836</td>\n",
              "      <td>0.778626</td>\n",
              "      <td>09:43</td>\n",
              "    </tr>\n",
              "    <tr>\n",
              "      <td>1</td>\n",
              "      <td>0.308968</td>\n",
              "      <td>1.396033</td>\n",
              "      <td>0.792621</td>\n",
              "      <td>10:18</td>\n",
              "    </tr>\n",
              "    <tr>\n",
              "      <td>2</td>\n",
              "      <td>0.263898</td>\n",
              "      <td>1.427592</td>\n",
              "      <td>0.786260</td>\n",
              "      <td>09:27</td>\n",
              "    </tr>\n",
              "    <tr>\n",
              "      <td>3</td>\n",
              "      <td>0.243108</td>\n",
              "      <td>1.430150</td>\n",
              "      <td>0.783715</td>\n",
              "      <td>10:28</td>\n",
              "    </tr>\n",
              "  </tbody>\n",
              "</table>"
            ],
            "text/plain": [
              "<IPython.core.display.HTML object>"
            ]
          },
          "metadata": {
            "tags": []
          }
        }
      ]
    },
    {
      "cell_type": "code",
      "metadata": {
        "id": "KKydb0B4BKGk",
        "outputId": "ee33d9c9-b305-4a36-b6ab-2eacec41b5ce",
        "colab": {
          "base_uri": "https://localhost:8080/",
          "height": 173
        }
      },
      "source": [
        "learn.fit_one_cycle(4, slice(2e-3/100, 2e-3))"
      ],
      "execution_count": 39,
      "outputs": [
        {
          "output_type": "display_data",
          "data": {
            "text/html": [
              "<table border=\"1\" class=\"dataframe\">\n",
              "  <thead>\n",
              "    <tr style=\"text-align: left;\">\n",
              "      <th>epoch</th>\n",
              "      <th>train_loss</th>\n",
              "      <th>valid_loss</th>\n",
              "      <th>accuracy</th>\n",
              "      <th>time</th>\n",
              "    </tr>\n",
              "  </thead>\n",
              "  <tbody>\n",
              "    <tr>\n",
              "      <td>0</td>\n",
              "      <td>0.238561</td>\n",
              "      <td>1.413602</td>\n",
              "      <td>0.782443</td>\n",
              "      <td>09:42</td>\n",
              "    </tr>\n",
              "    <tr>\n",
              "      <td>1</td>\n",
              "      <td>0.292793</td>\n",
              "      <td>1.432303</td>\n",
              "      <td>0.788804</td>\n",
              "      <td>09:48</td>\n",
              "    </tr>\n",
              "    <tr>\n",
              "      <td>2</td>\n",
              "      <td>0.250151</td>\n",
              "      <td>1.478418</td>\n",
              "      <td>0.788804</td>\n",
              "      <td>09:41</td>\n",
              "    </tr>\n",
              "    <tr>\n",
              "      <td>3</td>\n",
              "      <td>0.207842</td>\n",
              "      <td>1.439872</td>\n",
              "      <td>0.790076</td>\n",
              "      <td>09:42</td>\n",
              "    </tr>\n",
              "  </tbody>\n",
              "</table>"
            ],
            "text/plain": [
              "<IPython.core.display.HTML object>"
            ]
          },
          "metadata": {
            "tags": []
          }
        }
      ]
    },
    {
      "cell_type": "code",
      "metadata": {
        "id": "T2APKtFKBpGY",
        "outputId": "ac02eb97-34f3-473e-a8c1-e4b99d958969",
        "colab": {
          "base_uri": "https://localhost:8080/",
          "height": 173
        }
      },
      "source": [
        "learn.fit_one_cycle(4, slice(2e-3/100, 2e-3))"
      ],
      "execution_count": 40,
      "outputs": [
        {
          "output_type": "display_data",
          "data": {
            "text/html": [
              "<table border=\"1\" class=\"dataframe\">\n",
              "  <thead>\n",
              "    <tr style=\"text-align: left;\">\n",
              "      <th>epoch</th>\n",
              "      <th>train_loss</th>\n",
              "      <th>valid_loss</th>\n",
              "      <th>accuracy</th>\n",
              "      <th>time</th>\n",
              "    </tr>\n",
              "  </thead>\n",
              "  <tbody>\n",
              "    <tr>\n",
              "      <td>0</td>\n",
              "      <td>0.196237</td>\n",
              "      <td>1.537209</td>\n",
              "      <td>0.788804</td>\n",
              "      <td>09:35</td>\n",
              "    </tr>\n",
              "    <tr>\n",
              "      <td>1</td>\n",
              "      <td>0.252940</td>\n",
              "      <td>1.512609</td>\n",
              "      <td>0.795165</td>\n",
              "      <td>09:03</td>\n",
              "    </tr>\n",
              "    <tr>\n",
              "      <td>2</td>\n",
              "      <td>0.241173</td>\n",
              "      <td>1.419189</td>\n",
              "      <td>0.795165</td>\n",
              "      <td>10:08</td>\n",
              "    </tr>\n",
              "    <tr>\n",
              "      <td>3</td>\n",
              "      <td>0.200801</td>\n",
              "      <td>1.499992</td>\n",
              "      <td>0.790076</td>\n",
              "      <td>10:47</td>\n",
              "    </tr>\n",
              "  </tbody>\n",
              "</table>"
            ],
            "text/plain": [
              "<IPython.core.display.HTML object>"
            ]
          },
          "metadata": {
            "tags": []
          }
        }
      ]
    },
    {
      "cell_type": "code",
      "metadata": {
        "id": "qtTypA1sPgLU",
        "outputId": "99e0380a-df90-4f12-c94b-9f77efea208b",
        "colab": {
          "base_uri": "https://localhost:8080/",
          "height": 111
        }
      },
      "source": [
        "learn.fit_one_cycle(2, slice(2e-3/100, 2e-3))"
      ],
      "execution_count": 41,
      "outputs": [
        {
          "output_type": "display_data",
          "data": {
            "text/html": [
              "<table border=\"1\" class=\"dataframe\">\n",
              "  <thead>\n",
              "    <tr style=\"text-align: left;\">\n",
              "      <th>epoch</th>\n",
              "      <th>train_loss</th>\n",
              "      <th>valid_loss</th>\n",
              "      <th>accuracy</th>\n",
              "      <th>time</th>\n",
              "    </tr>\n",
              "  </thead>\n",
              "  <tbody>\n",
              "    <tr>\n",
              "      <td>0</td>\n",
              "      <td>0.217715</td>\n",
              "      <td>1.608347</td>\n",
              "      <td>0.781170</td>\n",
              "      <td>10:58</td>\n",
              "    </tr>\n",
              "    <tr>\n",
              "      <td>1</td>\n",
              "      <td>0.201310</td>\n",
              "      <td>1.457746</td>\n",
              "      <td>0.782443</td>\n",
              "      <td>10:02</td>\n",
              "    </tr>\n",
              "  </tbody>\n",
              "</table>"
            ],
            "text/plain": [
              "<IPython.core.display.HTML object>"
            ]
          },
          "metadata": {
            "tags": []
          }
        }
      ]
    },
    {
      "cell_type": "code",
      "metadata": {
        "id": "b242kBsTUp9Y",
        "outputId": "fe69c355-0b2f-4852-a4b3-dd3dd0ca927b",
        "colab": {
          "base_uri": "https://localhost:8080/",
          "height": 111
        }
      },
      "source": [
        "learn.fit_one_cycle(2, slice(2e-3/100, 2e-3))"
      ],
      "execution_count": 42,
      "outputs": [
        {
          "output_type": "display_data",
          "data": {
            "text/html": [
              "<table border=\"1\" class=\"dataframe\">\n",
              "  <thead>\n",
              "    <tr style=\"text-align: left;\">\n",
              "      <th>epoch</th>\n",
              "      <th>train_loss</th>\n",
              "      <th>valid_loss</th>\n",
              "      <th>accuracy</th>\n",
              "      <th>time</th>\n",
              "    </tr>\n",
              "  </thead>\n",
              "  <tbody>\n",
              "    <tr>\n",
              "      <td>0</td>\n",
              "      <td>0.204164</td>\n",
              "      <td>1.607573</td>\n",
              "      <td>0.786260</td>\n",
              "      <td>10:26</td>\n",
              "    </tr>\n",
              "    <tr>\n",
              "      <td>1</td>\n",
              "      <td>0.192569</td>\n",
              "      <td>1.498319</td>\n",
              "      <td>0.782443</td>\n",
              "      <td>09:52</td>\n",
              "    </tr>\n",
              "  </tbody>\n",
              "</table>"
            ],
            "text/plain": [
              "<IPython.core.display.HTML object>"
            ]
          },
          "metadata": {
            "tags": []
          }
        }
      ]
    },
    {
      "cell_type": "code",
      "metadata": {
        "id": "Duwf1Ih5VeDZ",
        "outputId": "22e47fd7-e3ba-436f-e21a-5dc35b8447f1",
        "colab": {
          "base_uri": "https://localhost:8080/",
          "height": 80
        }
      },
      "source": [
        "learn.fit_one_cycle(1, slice(2e-3/100, 2e-3))"
      ],
      "execution_count": 43,
      "outputs": [
        {
          "output_type": "display_data",
          "data": {
            "text/html": [
              "<table border=\"1\" class=\"dataframe\">\n",
              "  <thead>\n",
              "    <tr style=\"text-align: left;\">\n",
              "      <th>epoch</th>\n",
              "      <th>train_loss</th>\n",
              "      <th>valid_loss</th>\n",
              "      <th>accuracy</th>\n",
              "      <th>time</th>\n",
              "    </tr>\n",
              "  </thead>\n",
              "  <tbody>\n",
              "    <tr>\n",
              "      <td>0</td>\n",
              "      <td>0.207755</td>\n",
              "      <td>1.538672</td>\n",
              "      <td>0.796438</td>\n",
              "      <td>10:32</td>\n",
              "    </tr>\n",
              "  </tbody>\n",
              "</table>"
            ],
            "text/plain": [
              "<IPython.core.display.HTML object>"
            ]
          },
          "metadata": {
            "tags": []
          }
        }
      ]
    },
    {
      "cell_type": "code",
      "metadata": {
        "id": "c65d-osfDUXm"
      },
      "source": [
        "# save the best model\n",
        "\n",
        "learn.save_encoder('cadec_ask_mixed_fold3')"
      ],
      "execution_count": 44,
      "outputs": []
    },
    {
      "cell_type": "markdown",
      "metadata": {
        "id": "rCwZU0E2RgM6"
      },
      "source": [
        "# Part three: Predict on the test dataset"
      ]
    },
    {
      "cell_type": "code",
      "metadata": {
        "id": "gDm72c-dOu7d",
        "outputId": "bd0f660e-d095-4f9d-cf5e-f3ab1b720cb6",
        "colab": {
          "base_uri": "https://localhost:8080/",
          "height": 17
        }
      },
      "source": [
        "# use the test data for prediction\n",
        "\n",
        "preds, y = learn.get_preds(DatasetType.Test)"
      ],
      "execution_count": 45,
      "outputs": [
        {
          "output_type": "display_data",
          "data": {
            "text/html": [
              ""
            ],
            "text/plain": [
              "<IPython.core.display.HTML object>"
            ]
          },
          "metadata": {
            "tags": []
          }
        }
      ]
    },
    {
      "cell_type": "code",
      "metadata": {
        "id": "6tFSQcsWPvxn",
        "outputId": "fd5ee74b-6627-4114-a1b5-7653b3f8805f",
        "colab": {
          "base_uri": "https://localhost:8080/",
          "height": 105
        }
      },
      "source": [
        "predictions, *_ = learn.get_preds(DatasetType.Test)\n",
        "labels = np.argmax(predictions, 1)\n",
        "predict_list = labels.tolist()\n",
        "standard_list = test[0].tolist()\n",
        "\n",
        "print(len(predict_list))\n",
        "print(len(standard_list))\n",
        "\n",
        "print(predict_list)\n",
        "print(standard_list)"
      ],
      "execution_count": 46,
      "outputs": [
        {
          "output_type": "display_data",
          "data": {
            "text/html": [
              ""
            ],
            "text/plain": [
              "<IPython.core.display.HTML object>"
            ]
          },
          "metadata": {
            "tags": []
          }
        },
        {
          "output_type": "stream",
          "text": [
            "866\n",
            "866\n",
            "[2, 553, 6, 269, 269, 269, 12, 189, 275, 27, 27, 749, 29, 211, 31, 34, 877, 520, 289, 289, 289, 289, 289, 289, 624, 614, 37, 49, 325, 49, 695, 49, 802, 49, 100, 49, 49, 49, 49, 49, 537, 537, 537, 124, 61, 61, 817, 62, 325, 616, 70, 71, 107, 989, 76, 37, 318, 182, 79, 79, 79, 79, 929, 79, 79, 79, 79, 79, 79, 79, 79, 79, 79, 79, 79, 79, 79, 79, 79, 79, 79, 79, 79, 79, 79, 79, 79, 79, 289, 79, 79, 289, 80, 80, 80, 89, 597, 583, 91, 94, 94, 94, 94, 289, 94, 94, 94, 94, 94, 94, 94, 94, 94, 94, 96, 96, 10, 98, 756, 100, 902, 100, 100, 861, 929, 644, 877, 108, 108, 108, 289, 111, 111, 189, 117, 876, 119, 447, 122, 520, 125, 125, 125, 125, 125, 125, 125, 126, 127, 128, 343, 129, 622, 139, 139, 139, 140, 226, 447, 151, 809, 695, 585, 904, 163, 163, 167, 49, 170, 883, 172, 172, 289, 172, 190, 173, 173, 851, 182, 182, 182, 182, 183, 183, 183, 183, 183, 183, 183, 183, 183, 183, 187, 187, 187, 187, 187, 187, 177, 190, 190, 190, 190, 190, 192, 105, 105, 940, 197, 197, 34, 197, 46, 199, 203, 689, 205, 205, 652, 210, 210, 210, 211, 337, 214, 347, 214, 214, 214, 214, 214, 214, 214, 214, 215, 216, 220, 220, 820, 228, 228, 228, 228, 228, 228, 228, 228, 228, 425, 614, 228, 289, 228, 228, 233, 234, 234, 234, 780, 235, 235, 236, 434, 989, 240, 243, 484, 520, 243, 243, 243, 859, 247, 245, 245, 245, 246, 246, 954, 254, 425, 289, 289, 289, 265, 265, 265, 265, 265, 265, 265, 265, 265, 265, 265, 265, 265, 265, 265, 265, 265, 265, 265, 265, 265, 265, 265, 265, 265, 265, 265, 265, 265, 265, 265, 265, 265, 289, 265, 265, 281, 52, 861, 289, 289, 289, 289, 111, 289, 289, 289, 289, 289, 864, 289, 289, 289, 289, 289, 289, 211, 320, 293, 518, 545, 298, 558, 220, 583, 583, 301, 896, 558, 309, 309, 309, 309, 309, 309, 309, 309, 861, 640, 318, 318, 321, 39, 325, 139, 325, 325, 325, 325, 325, 325, 325, 325, 325, 325, 325, 320, 320, 325, 328, 329, 332, 335, 3, 337, 337, 337, 338, 340, 342, 344, 359, 359, 359, 359, 756, 364, 364, 182, 419, 364, 298, 548, 386, 391, 391, 391, 391, 584, 396, 396, 954, 402, 402, 402, 408, 415, 415, 418, 418, 419, 419, 419, 419, 419, 419, 419, 424, 424, 425, 425, 215, 426, 427, 596, 427, 427, 427, 427, 427, 430, 435, 664, 441, 443, 443, 444, 444, 444, 452, 454, 971, 455, 455, 455, 455, 240, 455, 471, 474, 475, 475, 475, 475, 475, 475, 58, 488, 490, 491, 491, 491, 491, 491, 499, 711, 507, 510, 289, 586, 517, 517, 517, 517, 517, 524, 524, 195, 530, 530, 530, 691, 541, 408, 29, 545, 545, 545, 627, 545, 545, 548, 548, 548, 548, 548, 549, 730, 559, 129, 572, 236, 574, 574, 236, 579, 583, 585, 590, 590, 591, 591, 852, 592, 592, 429, 429, 97, 599, 0, 0, 609, 610, 58, 427, 614, 614, 614, 756, 646, 619, 678, 622, 623, 624, 616, 627, 756, 633, 289, 652, 637, 245, 643, 546, 644, 646, 646, 646, 646, 646, 288, 652, 652, 652, 2, 652, 659, 661, 662, 849, 689, 690, 751, 700, 281, 190, 265, 98, 711, 711, 711, 711, 711, 714, 714, 715, 769, 764, 680, 736, 704, 741, 741, 741, 289, 79, 637, 746, 541, 746, 746, 748, 769, 771, 773, 648, 766, 775, 775, 775, 775, 775, 780, 783, 790, 790, 794, 756, 794, 797, 753, 804, 804, 805, 805, 877, 806, 806, 806, 806, 809, 809, 859, 810, 810, 4, 784, 816, 626, 817, 817, 817, 484, 826, 830, 830, 830, 830, 830, 830, 838, 840, 840, 520, 840, 844, 844, 847, 847, 486, 848, 852, 852, 940, 806, 853, 853, 853, 455, 929, 861, 4, 792, 638, 877, 445, 880, 4, 892, 896, 896, 896, 896, 896, 896, 896, 896, 919, 919, 919, 919, 929, 937, 937, 937, 937, 937, 983, 937, 937, 937, 940, 948, 948, 948, 948, 948, 949, 949, 949, 949, 949, 949, 949, 949, 949, 949, 949, 949, 949, 949, 949, 949, 949, 949, 949, 949, 949, 949, 949, 949, 949, 949, 949, 949, 949, 949, 949, 949, 949, 949, 949, 949, 949, 949, 949, 949, 949, 949, 949, 949, 949, 949, 949, 949, 949, 949, 949, 949, 949, 949, 949, 949, 949, 949, 949, 949, 949, 949, 949, 949, 949, 949, 949, 949, 949, 949, 949, 949, 949, 949, 949, 949, 949, 949, 949, 949, 949, 949, 949, 949, 949, 949, 949, 949, 949, 949, 949, 949, 949, 949, 949, 949, 949, 949, 949, 949, 949, 949, 949, 949, 949, 949, 949, 949, 949, 949, 950, 950, 950, 950, 950, 952, 952, 952, 952, 955, 956, 956, 958, 958, 964, 965, 966, 974, 976, 976, 960, 982, 983, 986, 520, 925, 1023, 1023, 1001, 1001, 1005, 179, 1008, 1015, 1016, 1026, 1026, 1026, 1026, 668, 1028, 1028, 1031, 1035]\n",
            "[2, 5, 6, 8, 8, 8, 12, 15, 17, 27, 27, 29, 29, 30, 31, 34, 34, 35, 37, 37, 37, 37, 37, 37, 37, 37, 37, 49, 49, 49, 49, 49, 49, 49, 49, 49, 49, 49, 49, 49, 53, 53, 53, 60, 61, 61, 62, 62, 62, 63, 70, 71, 72, 74, 76, 77, 77, 77, 79, 79, 79, 79, 79, 79, 79, 79, 79, 79, 79, 79, 79, 79, 79, 79, 79, 79, 79, 79, 79, 79, 79, 79, 79, 79, 79, 79, 79, 79, 79, 79, 79, 79, 80, 80, 80, 89, 90, 91, 91, 94, 94, 94, 94, 94, 94, 94, 94, 94, 94, 94, 94, 94, 94, 94, 96, 96, 98, 98, 99, 100, 100, 100, 100, 100, 104, 106, 107, 108, 108, 108, 109, 111, 111, 116, 117, 117, 119, 120, 122, 122, 125, 125, 125, 125, 125, 125, 125, 126, 127, 128, 129, 129, 131, 139, 139, 139, 140, 140, 142, 151, 151, 151, 154, 162, 163, 163, 167, 169, 170, 172, 172, 172, 172, 172, 172, 173, 173, 176, 182, 182, 182, 182, 183, 183, 183, 183, 183, 183, 183, 183, 183, 183, 187, 187, 187, 187, 187, 187, 187, 190, 190, 190, 190, 190, 192, 193, 193, 193, 197, 197, 197, 197, 198, 199, 203, 204, 205, 205, 209, 210, 210, 210, 211, 214, 214, 214, 214, 214, 214, 214, 214, 214, 214, 214, 215, 216, 220, 220, 221, 228, 228, 228, 228, 228, 228, 228, 228, 228, 228, 228, 228, 228, 228, 228, 233, 234, 234, 234, 235, 235, 235, 236, 238, 238, 240, 243, 243, 243, 243, 243, 243, 243, 244, 245, 245, 245, 246, 246, 254, 254, 255, 260, 260, 260, 265, 265, 265, 265, 265, 265, 265, 265, 265, 265, 265, 265, 265, 265, 265, 265, 265, 265, 265, 265, 265, 265, 265, 265, 265, 265, 265, 265, 265, 265, 265, 265, 265, 265, 265, 265, 281, 286, 289, 289, 289, 289, 289, 289, 289, 289, 289, 289, 289, 289, 289, 289, 289, 289, 289, 289, 289, 292, 293, 294, 298, 298, 299, 300, 300, 300, 301, 301, 305, 309, 309, 309, 309, 309, 309, 309, 309, 317, 318, 318, 318, 321, 325, 325, 325, 325, 325, 325, 325, 325, 325, 325, 325, 325, 325, 325, 325, 325, 325, 328, 329, 332, 335, 337, 337, 337, 337, 338, 340, 342, 354, 359, 359, 359, 359, 361, 364, 364, 364, 364, 364, 371, 384, 386, 391, 391, 391, 391, 392, 396, 396, 402, 402, 402, 402, 408, 415, 415, 418, 418, 419, 419, 419, 419, 419, 419, 419, 424, 424, 425, 425, 425, 426, 427, 427, 427, 427, 427, 427, 427, 430, 435, 437, 441, 443, 443, 444, 444, 444, 452, 454, 455, 455, 455, 455, 455, 455, 455, 471, 474, 475, 475, 475, 475, 475, 475, 487, 488, 490, 491, 491, 491, 491, 491, 499, 505, 507, 510, 513, 514, 517, 517, 517, 517, 517, 524, 524, 525, 530, 530, 530, 531, 541, 541, 542, 545, 545, 545, 545, 545, 545, 548, 548, 548, 548, 548, 549, 549, 559, 560, 572, 574, 574, 574, 574, 579, 583, 585, 590, 590, 591, 591, 592, 592, 592, 593, 593, 594, 599, 602, 602, 609, 610, 610, 610, 614, 614, 614, 615, 617, 619, 619, 622, 623, 624, 627, 627, 630, 633, 635, 636, 637, 638, 643, 644, 644, 646, 646, 646, 646, 646, 650, 652, 652, 652, 653, 654, 659, 661, 662, 672, 675, 690, 696, 700, 702, 703, 704, 708, 711, 711, 711, 711, 711, 714, 714, 715, 723, 727, 730, 736, 741, 741, 741, 741, 741, 742, 743, 746, 746, 746, 746, 748, 769, 771, 772, 774, 775, 775, 775, 775, 775, 775, 780, 783, 790, 790, 794, 794, 794, 797, 803, 804, 804, 805, 805, 805, 806, 806, 806, 806, 809, 809, 810, 810, 810, 812, 812, 816, 816, 817, 817, 818, 821, 826, 830, 830, 830, 830, 830, 830, 838, 840, 840, 840, 840, 844, 844, 847, 847, 847, 848, 852, 852, 853, 853, 853, 853, 853, 853, 857, 861, 862, 868, 876, 877, 879, 880, 891, 892, 896, 896, 896, 896, 896, 896, 896, 897, 919, 919, 919, 919, 929, 937, 937, 937, 937, 937, 937, 937, 937, 937, 940, 948, 948, 948, 948, 948, 949, 949, 949, 949, 949, 949, 949, 949, 949, 949, 949, 949, 949, 949, 949, 949, 949, 949, 949, 949, 949, 949, 949, 949, 949, 949, 949, 949, 949, 949, 949, 949, 949, 949, 949, 949, 949, 949, 949, 949, 949, 949, 949, 949, 949, 949, 949, 949, 949, 949, 949, 949, 949, 949, 949, 949, 949, 949, 949, 949, 949, 949, 949, 949, 949, 949, 949, 949, 949, 949, 949, 949, 949, 949, 949, 949, 949, 949, 949, 949, 949, 949, 949, 949, 949, 949, 949, 949, 949, 949, 949, 949, 949, 949, 949, 949, 949, 949, 949, 949, 949, 949, 949, 949, 949, 949, 949, 949, 949, 949, 950, 950, 950, 950, 950, 952, 952, 952, 952, 955, 956, 956, 958, 958, 964, 965, 966, 974, 976, 976, 980, 982, 983, 986, 992, 994, 999, 999, 1001, 1001, 1005, 1007, 1008, 1015, 1016, 1026, 1026, 1026, 1026, 1026, 1028, 1028, 1031, 1035]\n"
          ],
          "name": "stdout"
        }
      ]
    },
    {
      "cell_type": "code",
      "metadata": {
        "id": "XIC4zufnMxtq",
        "outputId": "cce5d441-d0be-47e9-8dfb-f4e4ddb0b75a",
        "colab": {
          "base_uri": "https://localhost:8080/"
        }
      },
      "source": [
        "correct_num = 0\n",
        "\n",
        "for i in range(0, len(standard_list)):\n",
        "  if predict_list[i] == standard_list[i]:\n",
        "    correct_num = correct_num+1\n",
        "  else:\n",
        "    pass\n",
        "print(correct_num)\n",
        "\n",
        "predict_accuracy = correct_num/len(predict_list)\n",
        "print(predict_accuracy)"
      ],
      "execution_count": 47,
      "outputs": [
        {
          "output_type": "stream",
          "text": [
            "660\n",
            "0.7621247113163973\n"
          ],
          "name": "stdout"
        }
      ]
    },
    {
      "cell_type": "code",
      "metadata": {
        "id": "zlKMHp1CIaRJ"
      },
      "source": [
        ""
      ],
      "execution_count": 47,
      "outputs": []
    }
  ]
}