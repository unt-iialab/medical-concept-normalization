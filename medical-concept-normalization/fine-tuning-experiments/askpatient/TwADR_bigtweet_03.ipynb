{
  "nbformat": 4,
  "nbformat_minor": 0,
  "metadata": {
    "accelerator": "TPU",
    "colab": {
      "name": "TwADR-bigtweet_03.ipynb",
      "provenance": [],
      "collapsed_sections": [],
      "include_colab_link": true
    },
    "kernelspec": {
      "display_name": "Python 3",
      "name": "python3"
    }
  },
  "cells": [
    {
      "cell_type": "markdown",
      "metadata": {
        "id": "view-in-github",
        "colab_type": "text"
      },
      "source": [
        "<a href=\"https://colab.research.google.com/github/unt-iialab/medical-concept-normalization/blob/master/medical-concept-normalization/fine-tuning-experiments/askpatient/TwADR_bigtweet_03.ipynb\" target=\"_parent\"><img src=\"https://colab.research.google.com/assets/colab-badge.svg\" alt=\"Open In Colab\"/></a>"
      ]
    },
    {
      "cell_type": "code",
      "metadata": {
        "id": "adSi6i2-dWxy"
      },
      "source": [
        "import os"
      ],
      "execution_count": 1,
      "outputs": []
    },
    {
      "cell_type": "code",
      "metadata": {
        "id": "E7xYCRGPjd9B"
      },
      "source": [
        "base_dir = 'medical-concept-normalization'"
      ],
      "execution_count": 2,
      "outputs": []
    },
    {
      "cell_type": "code",
      "metadata": {
        "id": "yvIW3aUDjYNS"
      },
      "source": [
        "os.mkdir(base_dir)"
      ],
      "execution_count": 3,
      "outputs": []
    },
    {
      "cell_type": "code",
      "metadata": {
        "id": "es-FFLlfk6SG"
      },
      "source": [
        "os.mkdir('medical-concept-normalization/data_collection')"
      ],
      "execution_count": 4,
      "outputs": []
    },
    {
      "cell_type": "markdown",
      "metadata": {
        "id": "0R-Guw_VoJXm"
      },
      "source": [
        "**Install fastai and clone the fastai for text classification**\n",
        "\n"
      ]
    },
    {
      "cell_type": "code",
      "metadata": {
        "id": "QVZa3Z0PmHFH",
        "outputId": "92ce8e90-a6bf-4db7-b5ca-4b70a55ecc5d",
        "colab": {
          "base_uri": "https://localhost:8080/"
        }
      },
      "source": [
        "!curl https://course-v3.fast.ai/setup/colab | bash"
      ],
      "execution_count": 5,
      "outputs": [
        {
          "output_type": "stream",
          "text": [
            "  % Total    % Received % Xferd  Average Speed   Time    Time     Time  Current\n",
            "                                 Dload  Upload   Total   Spent    Left  Speed\n",
            "\r  0     0    0     0    0     0      0      0 --:--:-- --:--:-- --:--:--     0curl: (6) Could not resolve host: course-v3.fast.ai\n"
          ],
          "name": "stdout"
        }
      ]
    },
    {
      "cell_type": "code",
      "metadata": {
        "id": "_FBFFEBrmJC0",
        "outputId": "8695e8e7-94b6-4bc1-c36b-f0fdc7679864",
        "colab": {
          "base_uri": "https://localhost:8080/"
        }
      },
      "source": [
        "!git clone https://github.com/wshuyi/demo-nlp-classification-fastai.git"
      ],
      "execution_count": 6,
      "outputs": [
        {
          "output_type": "stream",
          "text": [
            "Cloning into 'demo-nlp-classification-fastai'...\n",
            "remote: Enumerating objects: 9, done.\u001b[K\n",
            "remote: Total 9 (delta 0), reused 0 (delta 0), pack-reused 9\u001b[K\n",
            "Unpacking objects: 100% (9/9), done.\n"
          ],
          "name": "stdout"
        }
      ]
    },
    {
      "cell_type": "code",
      "metadata": {
        "id": "66zfh_JqmWMU"
      },
      "source": [
        "from fastai import *\n",
        "from fastai.text import *"
      ],
      "execution_count": 7,
      "outputs": []
    },
    {
      "cell_type": "markdown",
      "metadata": {
        "id": "mNIw-yALdBU9"
      },
      "source": [
        "**Set the path of the data collections**"
      ]
    },
    {
      "cell_type": "code",
      "metadata": {
        "id": "pzH7VMh4mqCL"
      },
      "source": [
        "path = Path('medical-concept-normalization/data_collection')"
      ],
      "execution_count": 8,
      "outputs": []
    },
    {
      "cell_type": "code",
      "metadata": {
        "id": "b8fjI6yyn4aS"
      },
      "source": [
        "# training data set\n",
        "\n",
        "train_csv = path/'TwADR-L.fold-3.train.csv'\n",
        "train = pd.read_csv(train_csv, header=None)\n",
        "#train.head()\n",
        "#train.info()"
      ],
      "execution_count": 10,
      "outputs": []
    },
    {
      "cell_type": "code",
      "metadata": {
        "id": "Hmlr-bAorfHd",
        "outputId": "86d83ddd-d5c8-4d11-ea34-6d35f34be2b9",
        "colab": {
          "base_uri": "https://localhost:8080/",
          "height": 204
        }
      },
      "source": [
        "# validating data set\n",
        "\n",
        "valid = pd.read_csv(path/\"TwADR-L.fold-3.validation.csv\",header=None)\n",
        "valid.head()"
      ],
      "execution_count": 11,
      "outputs": [
        {
          "output_type": "execute_result",
          "data": {
            "text/html": [
              "<div>\n",
              "<style scoped>\n",
              "    .dataframe tbody tr th:only-of-type {\n",
              "        vertical-align: middle;\n",
              "    }\n",
              "\n",
              "    .dataframe tbody tr th {\n",
              "        vertical-align: top;\n",
              "    }\n",
              "\n",
              "    .dataframe thead th {\n",
              "        text-align: right;\n",
              "    }\n",
              "</style>\n",
              "<table border=\"1\" class=\"dataframe\">\n",
              "  <thead>\n",
              "    <tr style=\"text-align: right;\">\n",
              "      <th></th>\n",
              "      <th>0</th>\n",
              "      <th>1</th>\n",
              "    </tr>\n",
              "  </thead>\n",
              "  <tbody>\n",
              "    <tr>\n",
              "      <th>0</th>\n",
              "      <td>91</td>\n",
              "      <td>jitters</td>\n",
              "    </tr>\n",
              "    <tr>\n",
              "      <th>1</th>\n",
              "      <td>93</td>\n",
              "      <td>shooting</td>\n",
              "    </tr>\n",
              "    <tr>\n",
              "      <th>2</th>\n",
              "      <td>187</td>\n",
              "      <td>dry mouth</td>\n",
              "    </tr>\n",
              "    <tr>\n",
              "      <th>3</th>\n",
              "      <td>189</td>\n",
              "      <td>dizzy</td>\n",
              "    </tr>\n",
              "    <tr>\n",
              "      <th>4</th>\n",
              "      <td>230</td>\n",
              "      <td>mania</td>\n",
              "    </tr>\n",
              "  </tbody>\n",
              "</table>\n",
              "</div>"
            ],
            "text/plain": [
              "     0          1\n",
              "0   91    jitters\n",
              "1   93   shooting\n",
              "2  187  dry mouth\n",
              "3  189      dizzy\n",
              "4  230      mania"
            ]
          },
          "metadata": {
            "tags": []
          },
          "execution_count": 11
        }
      ]
    },
    {
      "cell_type": "code",
      "metadata": {
        "id": "cOza9dfSsBud",
        "outputId": "5f0860ee-68ee-4a3b-e845-93feaad97843",
        "colab": {
          "base_uri": "https://localhost:8080/",
          "height": 204
        }
      },
      "source": [
        "# testing data set\n",
        "\n",
        "test = pd.read_csv(path/\"TwADR-L.fold-3.test.csv\",header=None)\n",
        "test.head()"
      ],
      "execution_count": 12,
      "outputs": [
        {
          "output_type": "execute_result",
          "data": {
            "text/html": [
              "<div>\n",
              "<style scoped>\n",
              "    .dataframe tbody tr th:only-of-type {\n",
              "        vertical-align: middle;\n",
              "    }\n",
              "\n",
              "    .dataframe tbody tr th {\n",
              "        vertical-align: top;\n",
              "    }\n",
              "\n",
              "    .dataframe thead th {\n",
              "        text-align: right;\n",
              "    }\n",
              "</style>\n",
              "<table border=\"1\" class=\"dataframe\">\n",
              "  <thead>\n",
              "    <tr style=\"text-align: right;\">\n",
              "      <th></th>\n",
              "      <th>0</th>\n",
              "      <th>1</th>\n",
              "    </tr>\n",
              "  </thead>\n",
              "  <tbody>\n",
              "    <tr>\n",
              "      <th>0</th>\n",
              "      <td>13</td>\n",
              "      <td>insomniac</td>\n",
              "    </tr>\n",
              "    <tr>\n",
              "      <th>1</th>\n",
              "      <td>16</td>\n",
              "      <td>couldn't taste anything</td>\n",
              "    </tr>\n",
              "    <tr>\n",
              "      <th>2</th>\n",
              "      <td>61</td>\n",
              "      <td>spins</td>\n",
              "    </tr>\n",
              "    <tr>\n",
              "      <th>3</th>\n",
              "      <td>85</td>\n",
              "      <td>tremor</td>\n",
              "    </tr>\n",
              "    <tr>\n",
              "      <th>4</th>\n",
              "      <td>94</td>\n",
              "      <td>anxiety</td>\n",
              "    </tr>\n",
              "  </tbody>\n",
              "</table>\n",
              "</div>"
            ],
            "text/plain": [
              "    0                        1\n",
              "0  13                insomniac\n",
              "1  16  couldn't taste anything\n",
              "2  61                    spins\n",
              "3  85                   tremor\n",
              "4  94                  anxiety"
            ]
          },
          "metadata": {
            "tags": []
          },
          "execution_count": 12
        }
      ]
    },
    {
      "cell_type": "code",
      "metadata": {
        "id": "Vo-YNvVYoaH6",
        "outputId": "4f5737c3-b474-443b-9e99-c1c2c1dc1cb3",
        "colab": {
          "base_uri": "https://localhost:8080/",
          "height": 17
        }
      },
      "source": [
        "# Creating DataBunch for language modelling\n",
        "\n",
        "data_lm = TextLMDataBunch.from_csv(path, 'TwADR-bigtweet.csv')"
      ],
      "execution_count": 13,
      "outputs": [
        {
          "output_type": "display_data",
          "data": {
            "text/html": [
              ""
            ],
            "text/plain": [
              "<IPython.core.display.HTML object>"
            ]
          },
          "metadata": {
            "tags": []
          }
        },
        {
          "output_type": "display_data",
          "data": {
            "text/html": [
              ""
            ],
            "text/plain": [
              "<IPython.core.display.HTML object>"
            ]
          },
          "metadata": {
            "tags": []
          }
        }
      ]
    },
    {
      "cell_type": "code",
      "metadata": {
        "id": "qcV-9kMnNLBf"
      },
      "source": [
        ""
      ],
      "execution_count": 13,
      "outputs": []
    },
    {
      "cell_type": "code",
      "metadata": {
        "id": "1ScY9afDsnvE"
      },
      "source": [
        "# Creating DataBunch for classification\n",
        "\n",
        "# data_clas = TextClasDataBunch.from_df(path, train, valid, test, vocab=data_lm.train_ds.vocab, bs=128)"
      ],
      "execution_count": 14,
      "outputs": []
    },
    {
      "cell_type": "code",
      "metadata": {
        "id": "gzrSdQcvey9p",
        "outputId": "750b5884-4aca-4da2-ce97-6756fe232d15",
        "colab": {
          "base_uri": "https://localhost:8080/",
          "height": 17
        }
      },
      "source": [
        "data_clas = TextClasDataBunch.from_df(path, train, valid, vocab=data_lm.train_ds.vocab, bs=128)"
      ],
      "execution_count": 15,
      "outputs": [
        {
          "output_type": "display_data",
          "data": {
            "text/html": [
              ""
            ],
            "text/plain": [
              "<IPython.core.display.HTML object>"
            ]
          },
          "metadata": {
            "tags": []
          }
        },
        {
          "output_type": "display_data",
          "data": {
            "text/html": [
              ""
            ],
            "text/plain": [
              "<IPython.core.display.HTML object>"
            ]
          },
          "metadata": {
            "tags": []
          }
        }
      ]
    },
    {
      "cell_type": "code",
      "metadata": {
        "id": "MD27Tf0Ke3ou",
        "outputId": "5b2f6e87-6eb9-4dbb-9b37-9ceb739a45d5",
        "colab": {
          "base_uri": "https://localhost:8080/",
          "height": 17
        }
      },
      "source": [
        "data_clas.add_test(test,label=0)\n"
      ],
      "execution_count": 16,
      "outputs": [
        {
          "output_type": "display_data",
          "data": {
            "text/html": [
              ""
            ],
            "text/plain": [
              "<IPython.core.display.HTML object>"
            ]
          },
          "metadata": {
            "tags": []
          }
        }
      ]
    },
    {
      "cell_type": "code",
      "metadata": {
        "id": "-dpjnk_rstwk"
      },
      "source": [
        "data_lm.save()\n",
        "data_clas.save()"
      ],
      "execution_count": 17,
      "outputs": []
    },
    {
      "cell_type": "code",
      "metadata": {
        "id": "4OkiJa36sw5s",
        "outputId": "52f7cb62-f2f2-45c9-cdc5-f966f2ddd5d5",
        "colab": {
          "base_uri": "https://localhost:8080/"
        }
      },
      "source": [
        "data_lm.train_ds.vocab.itos"
      ],
      "execution_count": 18,
      "outputs": [
        {
          "output_type": "execute_result",
          "data": {
            "text/plain": [
              "['xxunk',\n",
              " 'xxpad',\n",
              " 'xxbos',\n",
              " 'xxeos',\n",
              " 'xxfld',\n",
              " 'xxmaj',\n",
              " 'xxup',\n",
              " 'xxrep',\n",
              " 'xxwrep',\n",
              " 'to',\n",
              " 'the',\n",
              " 'in',\n",
              " 'rt',\n",
              " 'of',\n",
              " 'for',\n",
              " 'a',\n",
              " 'you',\n",
              " 'i',\n",
              " 'is',\n",
              " 'on',\n",
              " 'pain',\n",
              " 'and',\n",
              " 'disease',\n",
              " 'my',\n",
              " 'mood',\n",
              " 'me',\n",
              " 'increased',\n",
              " 'amp',\n",
              " 'with',\n",
              " 'gluten',\n",
              " ',',\n",
              " 'disorder',\n",
              " 'abnormal',\n",
              " 'withdrawal',\n",
              " 'anxiety',\n",
              " 'your',\n",
              " 'free',\n",
              " 'it',\n",
              " 'have',\n",
              " 'symptoms',\n",
              " 'weight',\n",
              " 'this',\n",
              " 'out',\n",
              " 'are',\n",
              " 'new',\n",
              " 'like',\n",
              " 'decreased',\n",
              " 'disorders',\n",
              " '(',\n",
              " ')',\n",
              " 'about',\n",
              " '-',\n",
              " 'not',\n",
              " 'from',\n",
              " 'do',\n",
              " 'glutenfree',\n",
              " 'up',\n",
              " 'our',\n",
              " 'sleeplessness',\n",
              " 'behavior',\n",
              " 'what',\n",
              " 'nt',\n",
              " 'be',\n",
              " 'feeling',\n",
              " 'drug',\n",
              " 'syndrome',\n",
              " 'celiac',\n",
              " 'got',\n",
              " 'at',\n",
              " 'now',\n",
              " 'diseases',\n",
              " 'or',\n",
              " 'insomnia',\n",
              " 'somnolence',\n",
              " 'finding',\n",
              " 'disturbance',\n",
              " 'sleep',\n",
              " 'blood',\n",
              " 'so',\n",
              " 'that',\n",
              " 'energy',\n",
              " 'all',\n",
              " 'we',\n",
              " 'food',\n",
              " 'mental',\n",
              " 'how',\n",
              " 'right',\n",
              " 'can',\n",
              " 'skin',\n",
              " 'gain',\n",
              " 'appetite',\n",
              " 'depression',\n",
              " 'acute',\n",
              " 'more',\n",
              " 'its',\n",
              " 'feel',\n",
              " 'via',\n",
              " 'tip',\n",
              " 'if',\n",
              " 'nausea',\n",
              " 'excitability',\n",
              " 'body',\n",
              " 'hyperactive',\n",
              " 'as',\n",
              " 'diet',\n",
              " 'feelings',\n",
              " 'attention',\n",
              " 'irritable',\n",
              " 'ceiling',\n",
              " 'drowsiness',\n",
              " 'awake',\n",
              " 'products',\n",
              " 'use',\n",
              " 'w',\n",
              " 'dizziness',\n",
              " 'heart',\n",
              " 'dblclick',\n",
              " 'panic',\n",
              " 'state',\n",
              " 'pic',\n",
              " 'muscle',\n",
              " 'had',\n",
              " 'why',\n",
              " 'depressed',\n",
              " 'get',\n",
              " 'allergic',\n",
              " 'check',\n",
              " 'was',\n",
              " 'day',\n",
              " 'rash',\n",
              " 'by',\n",
              " 'review',\n",
              " 'know',\n",
              " 'swelling',\n",
              " 'swings',\n",
              " 'here',\n",
              " 'wakefulness',\n",
              " 'bipolar',\n",
              " 'an',\n",
              " 'loss',\n",
              " 'just',\n",
              " 'love',\n",
              " 'has',\n",
              " 'ca',\n",
              " 'post',\n",
              " 'but',\n",
              " 'eating',\n",
              " '#',\n",
              " 'm',\n",
              " 'need',\n",
              " \"n't\",\n",
              " 'make',\n",
              " 'could',\n",
              " 'site',\n",
              " 'reaction',\n",
              " 'infection',\n",
              " 'headache',\n",
              " 'test',\n",
              " 'help',\n",
              " 'who',\n",
              " 'brain',\n",
              " 'great',\n",
              " 'fatigue',\n",
              " 'dreams',\n",
              " 'gfb',\n",
              " 'posted',\n",
              " '30',\n",
              " 'liver',\n",
              " 'respiratory',\n",
              " 'thanks',\n",
              " 'eat',\n",
              " 'will',\n",
              " 'tremor',\n",
              " 'time',\n",
              " 'life',\n",
              " 'breast',\n",
              " 's',\n",
              " 're',\n",
              " 'does',\n",
              " 'recipe',\n",
              " 'joint',\n",
              " 'makes',\n",
              " 'when',\n",
              " 'living',\n",
              " 'tired',\n",
              " 'rage',\n",
              " 'injury',\n",
              " 'intolerance',\n",
              " '2',\n",
              " 'abdominal',\n",
              " 'heres',\n",
              " 'still',\n",
              " 'going',\n",
              " 'may',\n",
              " 'eye',\n",
              " 'attack',\n",
              " 'deficit',\n",
              " 'hemorrhage',\n",
              " 'night',\n",
              " 'go',\n",
              " 'archives',\n",
              " 'people',\n",
              " 'sleepy',\n",
              " 'attacks',\n",
              " 'there',\n",
              " 'us',\n",
              " 'some',\n",
              " '\\r \\n ',\n",
              " 'no',\n",
              " 'death',\n",
              " 'jennieo',\n",
              " 'carcinoma',\n",
              " 'psychotic',\n",
              " 'think',\n",
              " 'read',\n",
              " 'being',\n",
              " 'bone',\n",
              " 'news',\n",
              " 'did',\n",
              " 'initial',\n",
              " 'back',\n",
              " 'gastrointestinal',\n",
              " 'take',\n",
              " 'chronic',\n",
              " 'tips',\n",
              " 'dry',\n",
              " 'daytime',\n",
              " 'good',\n",
              " 'today',\n",
              " 'taste',\n",
              " 'they',\n",
              " 'failure',\n",
              " 'cardiac',\n",
              " 'allergy',\n",
              " 'want',\n",
              " 'super',\n",
              " 'should',\n",
              " 'numbness',\n",
              " 'ulcer',\n",
              " 'pulmonary',\n",
              " 'stiffness',\n",
              " '1',\n",
              " 'aggravated',\n",
              " 'edema',\n",
              " 'chicken',\n",
              " 'sweating',\n",
              " 'asleep',\n",
              " 'middle',\n",
              " 'much',\n",
              " 'those',\n",
              " 'level',\n",
              " 'big',\n",
              " 'infections',\n",
              " 'one',\n",
              " 'stomach',\n",
              " 'difficulty',\n",
              " 'hallucinations',\n",
              " 'dependence',\n",
              " 'localised',\n",
              " 'sleepiness',\n",
              " '10',\n",
              " 'down',\n",
              " 'distress',\n",
              " 'awareness',\n",
              " 'share',\n",
              " \"'m\",\n",
              " 'pizza',\n",
              " 'facial',\n",
              " 'suicidal',\n",
              " '\\r \\n \\r \\n ',\n",
              " '5',\n",
              " 'exhaustion',\n",
              " 'anemia',\n",
              " 'depressive',\n",
              " '4',\n",
              " 'patients',\n",
              " 'best',\n",
              " 'anger',\n",
              " 'nightmares',\n",
              " 'dermatitis',\n",
              " 'discomfort',\n",
              " 'vomiting',\n",
              " 'sensation',\n",
              " 'cell',\n",
              " 'zombie',\n",
              " 'disturbances',\n",
              " 'please',\n",
              " 'conditions',\n",
              " 'migraine',\n",
              " 'too',\n",
              " 'blog',\n",
              " 'system',\n",
              " 'dizzy',\n",
              " 'function',\n",
              " 'diagnosis',\n",
              " 'happy',\n",
              " 'pressure',\n",
              " 'soup',\n",
              " 'dysfunction',\n",
              " 'wide',\n",
              " 'damage',\n",
              " 'article',\n",
              " 'cerebral',\n",
              " 'am',\n",
              " 'sensitivity',\n",
              " 'concentration',\n",
              " 'change',\n",
              " 'bite',\n",
              " 'even',\n",
              " 'non',\n",
              " 'low',\n",
              " 'also',\n",
              " 'any',\n",
              " 'diagnosed',\n",
              " 'spasm',\n",
              " 'safe',\n",
              " 'serum',\n",
              " 'depersonalization',\n",
              " 'very',\n",
              " 'dr',\n",
              " 'oedema',\n",
              " 'episode',\n",
              " 'see',\n",
              " 'find',\n",
              " 'kidney',\n",
              " 'social',\n",
              " 'chest',\n",
              " 'many',\n",
              " 'cookbook',\n",
              " 'bad',\n",
              " 'u',\n",
              " 'ever',\n",
              " 'vision',\n",
              " 'uterine',\n",
              " 'gf',\n",
              " 'compulsive',\n",
              " 'arthritis',\n",
              " 'vivid',\n",
              " 'seizures',\n",
              " 'getting',\n",
              " 'arrest',\n",
              " 'irritation',\n",
              " 'off',\n",
              " 'pruritus',\n",
              " 'been',\n",
              " 'adderall',\n",
              " 'show',\n",
              " 'their',\n",
              " 'corneal',\n",
              " 'foot',\n",
              " 'memory',\n",
              " 'hypertension',\n",
              " 'emotional',\n",
              " 'fracture',\n",
              " 'ache',\n",
              " 'easy',\n",
              " 'cancer',\n",
              " 'first',\n",
              " 'tooth',\n",
              " 'only',\n",
              " 'delicious',\n",
              " 'really',\n",
              " 'face',\n",
              " 'week',\n",
              " 'impairment',\n",
              " 'these',\n",
              " 'would',\n",
              " 'hungry',\n",
              " '2014',\n",
              " 'crazy',\n",
              " 'autographed',\n",
              " 'looking',\n",
              " 'localized',\n",
              " 'oral',\n",
              " 'health',\n",
              " 'try',\n",
              " 'alcohol',\n",
              " 'abuse',\n",
              " 'cold',\n",
              " 'asthma',\n",
              " 'hours',\n",
              " 'issues',\n",
              " 'euphoric',\n",
              " 'genital',\n",
              " 'painful',\n",
              " 'urine',\n",
              " 'neoplasm',\n",
              " 'hurt',\n",
              " 'decrease',\n",
              " 'foods',\n",
              " 'high',\n",
              " 'hunger',\n",
              " 'withdrawals',\n",
              " 'nauseous',\n",
              " 'thank',\n",
              " 'making',\n",
              " 'nervous',\n",
              " 'necrosis',\n",
              " 'angry',\n",
              " 'sneezing',\n",
              " 'better',\n",
              " 'drowsy',\n",
              " 'hepatic',\n",
              " 'ventricular',\n",
              " 'days',\n",
              " 'bulimia',\n",
              " 'tract',\n",
              " 'sick',\n",
              " 'effect',\n",
              " 'peripheral',\n",
              " 'elevated',\n",
              " 'top',\n",
              " 'candidiasis',\n",
              " 'others',\n",
              " 'cramps',\n",
              " 'fear',\n",
              " 'healthy',\n",
              " 'study',\n",
              " 'injection',\n",
              " 'thinking',\n",
              " 'over',\n",
              " 'erythema',\n",
              " 'way',\n",
              " 'friends',\n",
              " '6',\n",
              " 'wheat',\n",
              " 'gastric',\n",
              " 'intoxication',\n",
              " 'away',\n",
              " 'bowl',\n",
              " 'linked',\n",
              " 'coming',\n",
              " '3',\n",
              " 'fever',\n",
              " 'electrocardiogram',\n",
              " 'nasal',\n",
              " 'lightheadedness',\n",
              " 'obsessive',\n",
              " 'learn',\n",
              " 'well',\n",
              " 'erection',\n",
              " 'lung',\n",
              " 'most',\n",
              " 'info',\n",
              " 'bread',\n",
              " 'shoulder',\n",
              " 'always',\n",
              " 'years',\n",
              " 'sexual',\n",
              " 'quinoa',\n",
              " 'same',\n",
              " 'sweat',\n",
              " 'chocolate',\n",
              " 'arthropod',\n",
              " 'tongue',\n",
              " 'part',\n",
              " 'count',\n",
              " 'personality',\n",
              " 'story',\n",
              " 'malignant',\n",
              " 'injuries',\n",
              " 'thirst',\n",
              " 'glucose',\n",
              " 'despair',\n",
              " 'other',\n",
              " 'after',\n",
              " 've',\n",
              " 'consciousness',\n",
              " 'made',\n",
              " 'giveaway',\n",
              " 'diabetic',\n",
              " 'kids',\n",
              " 'neoplasms',\n",
              " 'eyes',\n",
              " 'year',\n",
              " 'lack',\n",
              " 'overdose',\n",
              " 'recipes',\n",
              " 'excessive',\n",
              " 'insufficiency',\n",
              " 'obstruction',\n",
              " '7',\n",
              " 'atrophy',\n",
              " 'visual',\n",
              " 'lose',\n",
              " 'urticaria',\n",
              " 'ear',\n",
              " 'weird',\n",
              " 'tingling',\n",
              " 'mind',\n",
              " 'whole',\n",
              " 'follow',\n",
              " 'lost',\n",
              " 'coeliac',\n",
              " 'speech',\n",
              " 'renal',\n",
              " 'libido',\n",
              " 'own',\n",
              " 'paranoid',\n",
              " 'things',\n",
              " 'page',\n",
              " 'next',\n",
              " 'colitis',\n",
              " 'book',\n",
              " 'friendly',\n",
              " 'important',\n",
              " 'cause',\n",
              " 'diabetes',\n",
              " 'last',\n",
              " 'child',\n",
              " 'convention',\n",
              " 'sunday',\n",
              " 'where',\n",
              " 'pneumonia',\n",
              " 'binge',\n",
              " 'hepatitis',\n",
              " 'support',\n",
              " 'problems',\n",
              " 'palpitations',\n",
              " 'fractures',\n",
              " 'america',\n",
              " 'headaches',\n",
              " 'list',\n",
              " 'intestinal',\n",
              " 'partial',\n",
              " 'generalized',\n",
              " 'link',\n",
              " 'community',\n",
              " 'before',\n",
              " 'come',\n",
              " 'prolonged',\n",
              " 'risk',\n",
              " 'block',\n",
              " 'metastatic',\n",
              " 'interesting',\n",
              " 'inflammation',\n",
              " 'were',\n",
              " 'live',\n",
              " 'craving',\n",
              " 'stop',\n",
              " 'breakfast',\n",
              " 'ejaculation',\n",
              " 'every',\n",
              " 'weeks',\n",
              " 'diarrhea',\n",
              " 'hey',\n",
              " 'talk',\n",
              " '100',\n",
              " 'thoughts',\n",
              " 'hard',\n",
              " 'application',\n",
              " 'tissue',\n",
              " 'then',\n",
              " 'start',\n",
              " 'cake',\n",
              " 'adenocarcinoma',\n",
              " 'type',\n",
              " 'head',\n",
              " 'losing',\n",
              " 'twitch',\n",
              " 'nerve',\n",
              " 'yes',\n",
              " 'hear',\n",
              " 'throat',\n",
              " 'hip',\n",
              " 'little',\n",
              " 'tendency',\n",
              " 'falling',\n",
              " 'cookies',\n",
              " 'adrenal',\n",
              " 'swollen',\n",
              " 'never',\n",
              " 'symptom',\n",
              " 'bakery',\n",
              " 'fall',\n",
              " 'haemorrhage',\n",
              " 'female',\n",
              " 'look',\n",
              " 'interview',\n",
              " 'ask',\n",
              " 'impaired',\n",
              " 'affect',\n",
              " 'result',\n",
              " 'lower',\n",
              " 'options',\n",
              " 'diagnose',\n",
              " 'psychosis',\n",
              " 'neuropathy',\n",
              " 'anyone',\n",
              " 'because',\n",
              " 'cutaneous',\n",
              " 'hyper',\n",
              " 'gfree',\n",
              " 'keep',\n",
              " 'sure',\n",
              " 'special',\n",
              " 'pm',\n",
              " 'lupus',\n",
              " 'traumatic',\n",
              " 'drunk',\n",
              " 'hypomania',\n",
              " 'breathing',\n",
              " 'through',\n",
              " 'month',\n",
              " 'again',\n",
              " 'than',\n",
              " 'his',\n",
              " 'musculoskeletal',\n",
              " 'ok',\n",
              " 'positive',\n",
              " 'able',\n",
              " 'vaginal',\n",
              " 'lbs',\n",
              " 'suicide',\n",
              " 'limb',\n",
              " 'menu',\n",
              " 'potassium',\n",
              " 'sinus',\n",
              " 'indifferent',\n",
              " 'valentines',\n",
              " 'terrible',\n",
              " 'arrhythmia',\n",
              " 'vertigo',\n",
              " 'sudden',\n",
              " '2013',\n",
              " 'miss',\n",
              " 'digestive',\n",
              " 'bacterial',\n",
              " 'sedated',\n",
              " 'healthier',\n",
              " 'unconscious',\n",
              " 'ty',\n",
              " 'minutes',\n",
              " 'less',\n",
              " 'few',\n",
              " 'mouth',\n",
              " 'bleeding',\n",
              " 'atrial',\n",
              " 'long',\n",
              " 'wo',\n",
              " 'her',\n",
              " 'stress',\n",
              " 'stay',\n",
              " 'tachycardia',\n",
              " 'breaking',\n",
              " 'gland',\n",
              " 'awesome',\n",
              " 'glutened',\n",
              " 'prozac',\n",
              " 'gained',\n",
              " 'flour',\n",
              " 'mad',\n",
              " 'exhausted',\n",
              " 'rice',\n",
              " 'world',\n",
              " 'gut',\n",
              " 'muscular',\n",
              " 'hyperactivity',\n",
              " 'atrioventricular',\n",
              " 'which',\n",
              " 'problem',\n",
              " 'reasons',\n",
              " 'common',\n",
              " 'pinterest',\n",
              " 'perforation',\n",
              " 'terrors',\n",
              " 'latest',\n",
              " 'esophageal',\n",
              " 'immune',\n",
              " 'upper',\n",
              " 'pledge',\n",
              " 'migraines',\n",
              " 'full',\n",
              " 'acidosis',\n",
              " 'fluid',\n",
              " 'them',\n",
              " 'altered',\n",
              " 'abnormality',\n",
              " 'restaurants',\n",
              " 'bites',\n",
              " 'fun',\n",
              " 'movements',\n",
              " 'motor',\n",
              " 'vasculitis',\n",
              " 'ideas',\n",
              " 'acne',\n",
              " 'd',\n",
              " 'bronchitis',\n",
              " 'paranoia',\n",
              " 'arousal',\n",
              " 'grain',\n",
              " 'red',\n",
              " 'unspecified',\n",
              " 'might',\n",
              " 'itching',\n",
              " 'ur',\n",
              " 'someone',\n",
              " 'restaurant',\n",
              " 'different',\n",
              " 'sleeping',\n",
              " 'thyroid',\n",
              " 'matters',\n",
              " 'tenderness',\n",
              " 'sentence',\n",
              " 'simple',\n",
              " 'remember',\n",
              " 'dinner',\n",
              " 'local',\n",
              " 'work',\n",
              " 'rhinitis',\n",
              " 'doing',\n",
              " 'lets',\n",
              " 'bladder',\n",
              " 'into',\n",
              " 'person',\n",
              " 'walking',\n",
              " 'urinary',\n",
              " 'experience',\n",
              " 'camp',\n",
              " 'market',\n",
              " 'bones',\n",
              " 'early',\n",
              " 'without',\n",
              " 'antisocial',\n",
              " 'acid',\n",
              " 'labored',\n",
              " 'deficiency',\n",
              " 'shaking',\n",
              " 'children',\n",
              " 'between',\n",
              " 'join',\n",
              " 'understand',\n",
              " 'trippin',\n",
              " 'cyst',\n",
              " 'expo',\n",
              " 'rise',\n",
              " 'must',\n",
              " 'myocardial',\n",
              " 'allergies',\n",
              " 'girl',\n",
              " 'call',\n",
              " 'awful',\n",
              " 'sad',\n",
              " 'cough',\n",
              " 'undiagnosed',\n",
              " 'interactions',\n",
              " 'yet',\n",
              " 'wait',\n",
              " 'add',\n",
              " 'found',\n",
              " 'another',\n",
              " 'reduced',\n",
              " 'something',\n",
              " 'ready',\n",
              " 'premature',\n",
              " 'hurting',\n",
              " 'favorite',\n",
              " 'purpura',\n",
              " 'delayed',\n",
              " 'interest',\n",
              " 'tolerance',\n",
              " 'otitis',\n",
              " 'media',\n",
              " 'neck',\n",
              " 'provide',\n",
              " 'myself',\n",
              " 'until',\n",
              " 'manic',\n",
              " 'thinness',\n",
              " 'autoimmune',\n",
              " 'changes',\n",
              " 'syncope',\n",
              " 'needs',\n",
              " 'cook',\n",
              " 'ill',\n",
              " 'rheumatoid',\n",
              " '/',\n",
              " 'involuntary',\n",
              " 'fucked',\n",
              " 'viral',\n",
              " 'sore',\n",
              " 'testing',\n",
              " 'tested',\n",
              " 'oats',\n",
              " 'having',\n",
              " 'went',\n",
              " 'bruxism',\n",
              " 'avoid',\n",
              " 'hot',\n",
              " 'action',\n",
              " 'density',\n",
              " 'leukemia',\n",
              " 'paralysed',\n",
              " 'substance',\n",
              " 'h',\n",
              " 'creatinine',\n",
              " 'intense',\n",
              " 'epilepsy',\n",
              " 'anorexia',\n",
              " 'confusion',\n",
              " 'two',\n",
              " 'medical',\n",
              " 'abscess',\n",
              " 'male',\n",
              " 'thing',\n",
              " 'lifestyle',\n",
              " 'hearing',\n",
              " 'weekend',\n",
              " 'series',\n",
              " 'limbs',\n",
              " 'lesion',\n",
              " 'available',\n",
              " 'infarction',\n",
              " '8',\n",
              " 'illness',\n",
              " \"'s\",\n",
              " 'fibrillation',\n",
              " 'knee',\n",
              " '22',\n",
              " 'tests',\n",
              " '&',\n",
              " '20',\n",
              " 'retinal',\n",
              " 'hate',\n",
              " 'archive',\n",
              " 'epidermal',\n",
              " 'spasms',\n",
              " 'multiple',\n",
              " 'groggy',\n",
              " 'artery',\n",
              " 'mania',\n",
              " 'accidental',\n",
              " 'pissed',\n",
              " 'thrombosis',\n",
              " 'bowel',\n",
              " 'enzyme',\n",
              " 'influenza',\n",
              " 'shock',\n",
              " 'mellitus',\n",
              " 'mt',\n",
              " 'retention',\n",
              " 'listen',\n",
              " 'alkalosis',\n",
              " 'research',\n",
              " 'ago',\n",
              " 'eyelid',\n",
              " 'poor',\n",
              " 'sinusitis',\n",
              " 'hurts',\n",
              " 'white',\n",
              " 'rupture',\n",
              " 'major',\n",
              " 'worse',\n",
              " '24',\n",
              " 'ischemia',\n",
              " 'hyperplasia',\n",
              " 'cystitis',\n",
              " 'ocular',\n",
              " 'anxious',\n",
              " 'excited',\n",
              " 'event',\n",
              " 'increase',\n",
              " 'mean',\n",
              " 'anything',\n",
              " 'group',\n",
              " 'fucking',\n",
              " 'central',\n",
              " 'total',\n",
              " 'bloating',\n",
              " 'break',\n",
              " 'blurred',\n",
              " 'protein',\n",
              " 'toxicity',\n",
              " 'blindness',\n",
              " 'distracted',\n",
              " 'erythematosus',\n",
              " 'says',\n",
              " 'syndromes',\n",
              " 'conjunctivitis',\n",
              " 'porphyria',\n",
              " 'trying',\n",
              " 'generalised',\n",
              " 'ways',\n",
              " 'radio',\n",
              " 'completely',\n",
              " 'hypersomnia',\n",
              " 'nail',\n",
              " 'secondary',\n",
              " 'sharing',\n",
              " 'herpes',\n",
              " 'associated',\n",
              " 'true',\n",
              " 'bilirubin',\n",
              " 'temperature',\n",
              " 'numb',\n",
              " 'zaps',\n",
              " '.',\n",
              " 'family',\n",
              " 'gait',\n",
              " 'heartburn',\n",
              " 'r',\n",
              " 'meals',\n",
              " 'thirsty',\n",
              " 'embolism',\n",
              " 'esophagitis',\n",
              " 'obstructive',\n",
              " 'pretty',\n",
              " 'pounding',\n",
              " 'tonight',\n",
              " 'atrophic',\n",
              " 'snack',\n",
              " 'caused',\n",
              " 'hit',\n",
              " 'psychological',\n",
              " 'eaten',\n",
              " 'affects',\n",
              " 'around',\n",
              " 'rate',\n",
              " 'hangover',\n",
              " 'serve',\n",
              " 'macular',\n",
              " '1st',\n",
              " '25',\n",
              " 'nothing',\n",
              " 'pancreatitis',\n",
              " 'iron',\n",
              " 'order',\n",
              " 'labeling',\n",
              " 'deafness',\n",
              " 'ulcerative',\n",
              " 'summer',\n",
              " 'water',\n",
              " 'll',\n",
              " 'donate',\n",
              " 'focusing',\n",
              " 'fad',\n",
              " 'bullous',\n",
              " 'erectile',\n",
              " 'ovarian',\n",
              " 'toxic',\n",
              " 'quality',\n",
              " 'beer',\n",
              " 'hypertrophy',\n",
              " 'reading',\n",
              " 'dear',\n",
              " 'arteritis',\n",
              " 'awakening',\n",
              " 'amazing',\n",
              " 'messed',\n",
              " 'uric',\n",
              " 'discoloration',\n",
              " 'hope',\n",
              " 'knock',\n",
              " 'place',\n",
              " 'difficult',\n",
              " 'sensitive',\n",
              " 'spread',\n",
              " 'neuralgia',\n",
              " 'black',\n",
              " 'rant',\n",
              " 'deprived',\n",
              " 'international',\n",
              " 'clean',\n",
              " 'effusion',\n",
              " 'hands',\n",
              " 'nervosa',\n",
              " 'polyps',\n",
              " 'win',\n",
              " 'sickness',\n",
              " 'slept',\n",
              " 'metabolic',\n",
              " 'guide',\n",
              " 'discharge',\n",
              " 'prostate',\n",
              " 'ankle',\n",
              " 'insomniac',\n",
              " 'abt',\n",
              " 'addiction',\n",
              " 'vitreous',\n",
              " 'conjunctival',\n",
              " 'toe',\n",
              " 'creatine',\n",
              " 'prothrombin',\n",
              " 'endometrial',\n",
              " 'plague',\n",
              " 'abdomen',\n",
              " 'meet',\n",
              " 'shit',\n",
              " 'entire',\n",
              " 'crust',\n",
              " 'using',\n",
              " 'vein',\n",
              " 'calcium',\n",
              " 'cranky',\n",
              " 'hypoaesthesia',\n",
              " 'house',\n",
              " 'everything',\n",
              " 'eruptions',\n",
              " 'psychiatric',\n",
              " 'vulvovaginal',\n",
              " ...]"
            ]
          },
          "metadata": {
            "tags": []
          },
          "execution_count": 18
        }
      ]
    },
    {
      "cell_type": "code",
      "metadata": {
        "id": "yPWr03mls3VT",
        "outputId": "4ba71e69-22fb-432b-b15d-ebb5cda599db",
        "colab": {
          "base_uri": "https://localhost:8080/",
          "height": 17
        }
      },
      "source": [
        "model_path = path/'models'\n",
        "model_path.mkdir(exist_ok=True)\n",
        "url = 'http://files.fast.ai/models/wt103_v1/'\n",
        "download_url(f'{url}lstm_wt103.pth', model_path/'lstm_wt103.pth')\n",
        "download_url(f'{url}itos_wt103.pkl', model_path/'itos_wt103.pkl')"
      ],
      "execution_count": 19,
      "outputs": [
        {
          "output_type": "display_data",
          "data": {
            "text/html": [
              ""
            ],
            "text/plain": [
              "<IPython.core.display.HTML object>"
            ]
          },
          "metadata": {
            "tags": []
          }
        },
        {
          "output_type": "display_data",
          "data": {
            "text/html": [
              ""
            ],
            "text/plain": [
              "<IPython.core.display.HTML object>"
            ]
          },
          "metadata": {
            "tags": []
          }
        }
      ]
    },
    {
      "cell_type": "code",
      "metadata": {
        "id": "JRzvWg8RtGGr",
        "outputId": "d3db8703-2121-4bfd-9d2e-eaba58d9f65e",
        "colab": {
          "base_uri": "https://localhost:8080/",
          "height": 34
        }
      },
      "source": [
        "learn = language_model_learner(data_lm, AWD_LSTM, drop_mult=0.5)"
      ],
      "execution_count": 20,
      "outputs": [
        {
          "output_type": "stream",
          "text": [
            "Downloading https://s3.amazonaws.com/fast-ai-modelzoo/wt103-fwd.tgz\n"
          ],
          "name": "stdout"
        },
        {
          "output_type": "display_data",
          "data": {
            "text/html": [
              ""
            ],
            "text/plain": [
              "<IPython.core.display.HTML object>"
            ]
          },
          "metadata": {
            "tags": []
          }
        }
      ]
    },
    {
      "cell_type": "code",
      "metadata": {
        "id": "xKK7GeBev7Xn",
        "outputId": "3fb2c00b-64ab-4152-d61e-97303e24a97b",
        "colab": {
          "base_uri": "https://localhost:8080/",
          "height": 80
        }
      },
      "source": [
        "learn.fit_one_cycle(1, 1e-2)"
      ],
      "execution_count": 21,
      "outputs": [
        {
          "output_type": "display_data",
          "data": {
            "text/html": [
              "<table border=\"1\" class=\"dataframe\">\n",
              "  <thead>\n",
              "    <tr style=\"text-align: left;\">\n",
              "      <th>epoch</th>\n",
              "      <th>train_loss</th>\n",
              "      <th>valid_loss</th>\n",
              "      <th>accuracy</th>\n",
              "      <th>time</th>\n",
              "    </tr>\n",
              "  </thead>\n",
              "  <tbody>\n",
              "    <tr>\n",
              "      <td>0</td>\n",
              "      <td>4.351199</td>\n",
              "      <td>3.507564</td>\n",
              "      <td>0.453837</td>\n",
              "      <td>09:29</td>\n",
              "    </tr>\n",
              "  </tbody>\n",
              "</table>"
            ],
            "text/plain": [
              "<IPython.core.display.HTML object>"
            ]
          },
          "metadata": {
            "tags": []
          }
        }
      ]
    },
    {
      "cell_type": "code",
      "metadata": {
        "id": "iB7rHGQCwd12",
        "outputId": "d9a4f504-454f-4b08-d19d-52c295f1d728",
        "colab": {
          "base_uri": "https://localhost:8080/",
          "height": 80
        }
      },
      "source": [
        "learn.fit_one_cycle(1, 1e-2)"
      ],
      "execution_count": 22,
      "outputs": [
        {
          "output_type": "display_data",
          "data": {
            "text/html": [
              "<table border=\"1\" class=\"dataframe\">\n",
              "  <thead>\n",
              "    <tr style=\"text-align: left;\">\n",
              "      <th>epoch</th>\n",
              "      <th>train_loss</th>\n",
              "      <th>valid_loss</th>\n",
              "      <th>accuracy</th>\n",
              "      <th>time</th>\n",
              "    </tr>\n",
              "  </thead>\n",
              "  <tbody>\n",
              "    <tr>\n",
              "      <td>0</td>\n",
              "      <td>3.277373</td>\n",
              "      <td>2.994108</td>\n",
              "      <td>0.511844</td>\n",
              "      <td>09:36</td>\n",
              "    </tr>\n",
              "  </tbody>\n",
              "</table>"
            ],
            "text/plain": [
              "<IPython.core.display.HTML object>"
            ]
          },
          "metadata": {
            "tags": []
          }
        }
      ]
    },
    {
      "cell_type": "code",
      "metadata": {
        "id": "_BnSuAeCwkBe",
        "outputId": "4573ba48-3bf9-4ecf-dcfe-b3ed1f2ea161",
        "colab": {
          "base_uri": "https://localhost:8080/",
          "height": 80
        }
      },
      "source": [
        "learn.fit_one_cycle(1, 1e-3)"
      ],
      "execution_count": 23,
      "outputs": [
        {
          "output_type": "display_data",
          "data": {
            "text/html": [
              "<table border=\"1\" class=\"dataframe\">\n",
              "  <thead>\n",
              "    <tr style=\"text-align: left;\">\n",
              "      <th>epoch</th>\n",
              "      <th>train_loss</th>\n",
              "      <th>valid_loss</th>\n",
              "      <th>accuracy</th>\n",
              "      <th>time</th>\n",
              "    </tr>\n",
              "  </thead>\n",
              "  <tbody>\n",
              "    <tr>\n",
              "      <td>0</td>\n",
              "      <td>3.049071</td>\n",
              "      <td>2.949777</td>\n",
              "      <td>0.517857</td>\n",
              "      <td>09:22</td>\n",
              "    </tr>\n",
              "  </tbody>\n",
              "</table>"
            ],
            "text/plain": [
              "<IPython.core.display.HTML object>"
            ]
          },
          "metadata": {
            "tags": []
          }
        }
      ]
    },
    {
      "cell_type": "code",
      "metadata": {
        "id": "MuTm-RFjwrEX",
        "outputId": "7c71985a-86b8-4f00-fddf-df40e3d013c4",
        "colab": {
          "base_uri": "https://localhost:8080/",
          "height": 80
        }
      },
      "source": [
        "learn.fit_one_cycle(1, 1e-3)"
      ],
      "execution_count": 24,
      "outputs": [
        {
          "output_type": "display_data",
          "data": {
            "text/html": [
              "<table border=\"1\" class=\"dataframe\">\n",
              "  <thead>\n",
              "    <tr style=\"text-align: left;\">\n",
              "      <th>epoch</th>\n",
              "      <th>train_loss</th>\n",
              "      <th>valid_loss</th>\n",
              "      <th>accuracy</th>\n",
              "      <th>time</th>\n",
              "    </tr>\n",
              "  </thead>\n",
              "  <tbody>\n",
              "    <tr>\n",
              "      <td>0</td>\n",
              "      <td>2.990120</td>\n",
              "      <td>2.911189</td>\n",
              "      <td>0.521875</td>\n",
              "      <td>09:30</td>\n",
              "    </tr>\n",
              "  </tbody>\n",
              "</table>"
            ],
            "text/plain": [
              "<IPython.core.display.HTML object>"
            ]
          },
          "metadata": {
            "tags": []
          }
        }
      ]
    },
    {
      "cell_type": "code",
      "metadata": {
        "id": "1Er2ExO8wr7Y"
      },
      "source": [
        "learn.save_encoder('TwADR-bigtweet_fold3_first')"
      ],
      "execution_count": 25,
      "outputs": []
    },
    {
      "cell_type": "code",
      "metadata": {
        "id": "z52cZs2qwvad",
        "outputId": "249d85fd-bcac-4cd4-c9a2-37c63d7ba3db",
        "colab": {
          "base_uri": "https://localhost:8080/",
          "height": 80
        }
      },
      "source": [
        "learn = text_classifier_learner(data_clas,AWD_LSTM, drop_mult=0.5)\n",
        "learn.load_encoder('TwADR-bigtweet_fold3_first')\n",
        "learn.fit_one_cycle(1, 1e-2)"
      ],
      "execution_count": 26,
      "outputs": [
        {
          "output_type": "display_data",
          "data": {
            "text/html": [
              "<table border=\"1\" class=\"dataframe\">\n",
              "  <thead>\n",
              "    <tr style=\"text-align: left;\">\n",
              "      <th>epoch</th>\n",
              "      <th>train_loss</th>\n",
              "      <th>valid_loss</th>\n",
              "      <th>accuracy</th>\n",
              "      <th>time</th>\n",
              "    </tr>\n",
              "  </thead>\n",
              "  <tbody>\n",
              "    <tr>\n",
              "      <td>0</td>\n",
              "      <td>7.230175</td>\n",
              "      <td>6.394176</td>\n",
              "      <td>0.109244</td>\n",
              "      <td>00:22</td>\n",
              "    </tr>\n",
              "  </tbody>\n",
              "</table>"
            ],
            "text/plain": [
              "<IPython.core.display.HTML object>"
            ]
          },
          "metadata": {
            "tags": []
          }
        }
      ]
    },
    {
      "cell_type": "code",
      "metadata": {
        "id": "ImwQP1PJwzxd",
        "outputId": "09b055d5-69c0-4c59-c4c1-7285902040ce",
        "colab": {
          "base_uri": "https://localhost:8080/",
          "height": 80
        }
      },
      "source": [
        "learn.freeze_to(-2)\n",
        "learn.fit_one_cycle(1, slice(5e-3/2., 5e-3))"
      ],
      "execution_count": 27,
      "outputs": [
        {
          "output_type": "display_data",
          "data": {
            "text/html": [
              "<table border=\"1\" class=\"dataframe\">\n",
              "  <thead>\n",
              "    <tr style=\"text-align: left;\">\n",
              "      <th>epoch</th>\n",
              "      <th>train_loss</th>\n",
              "      <th>valid_loss</th>\n",
              "      <th>accuracy</th>\n",
              "      <th>time</th>\n",
              "    </tr>\n",
              "  </thead>\n",
              "  <tbody>\n",
              "    <tr>\n",
              "      <td>0</td>\n",
              "      <td>6.275671</td>\n",
              "      <td>5.151800</td>\n",
              "      <td>0.159664</td>\n",
              "      <td>00:28</td>\n",
              "    </tr>\n",
              "  </tbody>\n",
              "</table>"
            ],
            "text/plain": [
              "<IPython.core.display.HTML object>"
            ]
          },
          "metadata": {
            "tags": []
          }
        }
      ]
    },
    {
      "cell_type": "code",
      "metadata": {
        "id": "Owff_BJXw53u",
        "outputId": "c0899a84-d9ed-4cae-e5d8-689a6bf1ae41",
        "colab": {
          "base_uri": "https://localhost:8080/",
          "height": 80
        }
      },
      "source": [
        "learn.unfreeze()\n",
        "learn.fit_one_cycle(1, slice(2e-3/100, 2e-3))"
      ],
      "execution_count": 28,
      "outputs": [
        {
          "output_type": "display_data",
          "data": {
            "text/html": [
              "<table border=\"1\" class=\"dataframe\">\n",
              "  <thead>\n",
              "    <tr style=\"text-align: left;\">\n",
              "      <th>epoch</th>\n",
              "      <th>train_loss</th>\n",
              "      <th>valid_loss</th>\n",
              "      <th>accuracy</th>\n",
              "      <th>time</th>\n",
              "    </tr>\n",
              "  </thead>\n",
              "  <tbody>\n",
              "    <tr>\n",
              "      <td>0</td>\n",
              "      <td>5.777360</td>\n",
              "      <td>4.922297</td>\n",
              "      <td>0.142857</td>\n",
              "      <td>01:04</td>\n",
              "    </tr>\n",
              "  </tbody>\n",
              "</table>"
            ],
            "text/plain": [
              "<IPython.core.display.HTML object>"
            ]
          },
          "metadata": {
            "tags": []
          }
        }
      ]
    },
    {
      "cell_type": "code",
      "metadata": {
        "id": "lqAyu56V8Waq",
        "outputId": "4d8b453f-d38c-452d-c69c-a110a720a9fd",
        "colab": {
          "base_uri": "https://localhost:8080/",
          "height": 111
        }
      },
      "source": [
        "learn.fit_one_cycle(2, slice(2e-3/100, 2e-3))"
      ],
      "execution_count": 29,
      "outputs": [
        {
          "output_type": "display_data",
          "data": {
            "text/html": [
              "<table border=\"1\" class=\"dataframe\">\n",
              "  <thead>\n",
              "    <tr style=\"text-align: left;\">\n",
              "      <th>epoch</th>\n",
              "      <th>train_loss</th>\n",
              "      <th>valid_loss</th>\n",
              "      <th>accuracy</th>\n",
              "      <th>time</th>\n",
              "    </tr>\n",
              "  </thead>\n",
              "  <tbody>\n",
              "    <tr>\n",
              "      <td>0</td>\n",
              "      <td>5.444275</td>\n",
              "      <td>4.585350</td>\n",
              "      <td>0.201681</td>\n",
              "      <td>01:08</td>\n",
              "    </tr>\n",
              "    <tr>\n",
              "      <td>1</td>\n",
              "      <td>5.255297</td>\n",
              "      <td>4.423802</td>\n",
              "      <td>0.184874</td>\n",
              "      <td>01:07</td>\n",
              "    </tr>\n",
              "  </tbody>\n",
              "</table>"
            ],
            "text/plain": [
              "<IPython.core.display.HTML object>"
            ]
          },
          "metadata": {
            "tags": []
          }
        }
      ]
    },
    {
      "cell_type": "code",
      "metadata": {
        "id": "a7I1xMRp8bUd",
        "outputId": "4f63baf7-cf88-495c-bd0a-73a720917750",
        "colab": {
          "base_uri": "https://localhost:8080/",
          "height": 111
        }
      },
      "source": [
        "learn.fit_one_cycle(2, slice(2e-3/100, 2e-3))"
      ],
      "execution_count": 30,
      "outputs": [
        {
          "output_type": "display_data",
          "data": {
            "text/html": [
              "<table border=\"1\" class=\"dataframe\">\n",
              "  <thead>\n",
              "    <tr style=\"text-align: left;\">\n",
              "      <th>epoch</th>\n",
              "      <th>train_loss</th>\n",
              "      <th>valid_loss</th>\n",
              "      <th>accuracy</th>\n",
              "      <th>time</th>\n",
              "    </tr>\n",
              "  </thead>\n",
              "  <tbody>\n",
              "    <tr>\n",
              "      <td>0</td>\n",
              "      <td>5.020309</td>\n",
              "      <td>4.187103</td>\n",
              "      <td>0.260504</td>\n",
              "      <td>01:03</td>\n",
              "    </tr>\n",
              "    <tr>\n",
              "      <td>1</td>\n",
              "      <td>4.812740</td>\n",
              "      <td>4.088792</td>\n",
              "      <td>0.235294</td>\n",
              "      <td>01:11</td>\n",
              "    </tr>\n",
              "  </tbody>\n",
              "</table>"
            ],
            "text/plain": [
              "<IPython.core.display.HTML object>"
            ]
          },
          "metadata": {
            "tags": []
          }
        }
      ]
    },
    {
      "cell_type": "code",
      "metadata": {
        "id": "UAnti-XmGVfO",
        "outputId": "811707aa-c5e6-411e-bf20-3590693552a9",
        "colab": {
          "base_uri": "https://localhost:8080/",
          "height": 111
        }
      },
      "source": [
        "learn.fit_one_cycle(2, slice(2e-3/100, 2e-3))"
      ],
      "execution_count": 31,
      "outputs": [
        {
          "output_type": "display_data",
          "data": {
            "text/html": [
              "<table border=\"1\" class=\"dataframe\">\n",
              "  <thead>\n",
              "    <tr style=\"text-align: left;\">\n",
              "      <th>epoch</th>\n",
              "      <th>train_loss</th>\n",
              "      <th>valid_loss</th>\n",
              "      <th>accuracy</th>\n",
              "      <th>time</th>\n",
              "    </tr>\n",
              "  </thead>\n",
              "  <tbody>\n",
              "    <tr>\n",
              "      <td>0</td>\n",
              "      <td>4.603642</td>\n",
              "      <td>3.851578</td>\n",
              "      <td>0.319328</td>\n",
              "      <td>01:06</td>\n",
              "    </tr>\n",
              "    <tr>\n",
              "      <td>1</td>\n",
              "      <td>4.430422</td>\n",
              "      <td>3.824541</td>\n",
              "      <td>0.268908</td>\n",
              "      <td>01:06</td>\n",
              "    </tr>\n",
              "  </tbody>\n",
              "</table>"
            ],
            "text/plain": [
              "<IPython.core.display.HTML object>"
            ]
          },
          "metadata": {
            "tags": []
          }
        }
      ]
    },
    {
      "cell_type": "code",
      "metadata": {
        "id": "bIft7W25GwSu",
        "outputId": "1bbd9519-531f-45f3-923f-1e844aec0dea",
        "colab": {
          "base_uri": "https://localhost:8080/",
          "height": 111
        }
      },
      "source": [
        "learn.fit_one_cycle(2, slice(2e-3/100, 2e-3))"
      ],
      "execution_count": 32,
      "outputs": [
        {
          "output_type": "display_data",
          "data": {
            "text/html": [
              "<table border=\"1\" class=\"dataframe\">\n",
              "  <thead>\n",
              "    <tr style=\"text-align: left;\">\n",
              "      <th>epoch</th>\n",
              "      <th>train_loss</th>\n",
              "      <th>valid_loss</th>\n",
              "      <th>accuracy</th>\n",
              "      <th>time</th>\n",
              "    </tr>\n",
              "  </thead>\n",
              "  <tbody>\n",
              "    <tr>\n",
              "      <td>0</td>\n",
              "      <td>4.231742</td>\n",
              "      <td>3.599775</td>\n",
              "      <td>0.319328</td>\n",
              "      <td>01:02</td>\n",
              "    </tr>\n",
              "    <tr>\n",
              "      <td>1</td>\n",
              "      <td>4.065715</td>\n",
              "      <td>3.564520</td>\n",
              "      <td>0.319328</td>\n",
              "      <td>01:02</td>\n",
              "    </tr>\n",
              "  </tbody>\n",
              "</table>"
            ],
            "text/plain": [
              "<IPython.core.display.HTML object>"
            ]
          },
          "metadata": {
            "tags": []
          }
        }
      ]
    },
    {
      "cell_type": "code",
      "metadata": {
        "id": "EEHszVRvGyFt",
        "outputId": "5ee96d82-6da6-4e2f-b26f-1cb5a8e41d40",
        "colab": {
          "base_uri": "https://localhost:8080/",
          "height": 111
        }
      },
      "source": [
        "learn.fit_one_cycle(2, slice(2e-3/100, 2e-3))"
      ],
      "execution_count": 33,
      "outputs": [
        {
          "output_type": "display_data",
          "data": {
            "text/html": [
              "<table border=\"1\" class=\"dataframe\">\n",
              "  <thead>\n",
              "    <tr style=\"text-align: left;\">\n",
              "      <th>epoch</th>\n",
              "      <th>train_loss</th>\n",
              "      <th>valid_loss</th>\n",
              "      <th>accuracy</th>\n",
              "      <th>time</th>\n",
              "    </tr>\n",
              "  </thead>\n",
              "  <tbody>\n",
              "    <tr>\n",
              "      <td>0</td>\n",
              "      <td>3.891010</td>\n",
              "      <td>3.481669</td>\n",
              "      <td>0.378151</td>\n",
              "      <td>01:08</td>\n",
              "    </tr>\n",
              "    <tr>\n",
              "      <td>1</td>\n",
              "      <td>3.765811</td>\n",
              "      <td>3.443665</td>\n",
              "      <td>0.369748</td>\n",
              "      <td>01:04</td>\n",
              "    </tr>\n",
              "  </tbody>\n",
              "</table>"
            ],
            "text/plain": [
              "<IPython.core.display.HTML object>"
            ]
          },
          "metadata": {
            "tags": []
          }
        }
      ]
    },
    {
      "cell_type": "code",
      "metadata": {
        "id": "XsHfrhCHG3dN",
        "outputId": "e57f7dfa-de85-4b28-bea0-9769a4733cc6",
        "colab": {
          "base_uri": "https://localhost:8080/",
          "height": 173
        }
      },
      "source": [
        "learn.fit_one_cycle(4, slice(2e-3/100, 2e-3))"
      ],
      "execution_count": 34,
      "outputs": [
        {
          "output_type": "display_data",
          "data": {
            "text/html": [
              "<table border=\"1\" class=\"dataframe\">\n",
              "  <thead>\n",
              "    <tr style=\"text-align: left;\">\n",
              "      <th>epoch</th>\n",
              "      <th>train_loss</th>\n",
              "      <th>valid_loss</th>\n",
              "      <th>accuracy</th>\n",
              "      <th>time</th>\n",
              "    </tr>\n",
              "  </thead>\n",
              "  <tbody>\n",
              "    <tr>\n",
              "      <td>0</td>\n",
              "      <td>3.594063</td>\n",
              "      <td>3.417758</td>\n",
              "      <td>0.352941</td>\n",
              "      <td>01:05</td>\n",
              "    </tr>\n",
              "    <tr>\n",
              "      <td>1</td>\n",
              "      <td>3.498259</td>\n",
              "      <td>3.337436</td>\n",
              "      <td>0.352941</td>\n",
              "      <td>01:09</td>\n",
              "    </tr>\n",
              "    <tr>\n",
              "      <td>2</td>\n",
              "      <td>3.315581</td>\n",
              "      <td>3.139872</td>\n",
              "      <td>0.386555</td>\n",
              "      <td>01:05</td>\n",
              "    </tr>\n",
              "    <tr>\n",
              "      <td>3</td>\n",
              "      <td>3.150140</td>\n",
              "      <td>3.133406</td>\n",
              "      <td>0.394958</td>\n",
              "      <td>01:03</td>\n",
              "    </tr>\n",
              "  </tbody>\n",
              "</table>"
            ],
            "text/plain": [
              "<IPython.core.display.HTML object>"
            ]
          },
          "metadata": {
            "tags": []
          }
        }
      ]
    },
    {
      "cell_type": "code",
      "metadata": {
        "id": "0Zsd99isb9EQ",
        "outputId": "521c1119-38fd-447f-ec90-6b356a08a4fb",
        "colab": {
          "base_uri": "https://localhost:8080/",
          "height": 173
        }
      },
      "source": [
        "learn.fit_one_cycle(4, slice(2e-3/100, 2e-3))"
      ],
      "execution_count": 35,
      "outputs": [
        {
          "output_type": "display_data",
          "data": {
            "text/html": [
              "<table border=\"1\" class=\"dataframe\">\n",
              "  <thead>\n",
              "    <tr style=\"text-align: left;\">\n",
              "      <th>epoch</th>\n",
              "      <th>train_loss</th>\n",
              "      <th>valid_loss</th>\n",
              "      <th>accuracy</th>\n",
              "      <th>time</th>\n",
              "    </tr>\n",
              "  </thead>\n",
              "  <tbody>\n",
              "    <tr>\n",
              "      <td>0</td>\n",
              "      <td>2.984739</td>\n",
              "      <td>3.152474</td>\n",
              "      <td>0.386555</td>\n",
              "      <td>01:03</td>\n",
              "    </tr>\n",
              "    <tr>\n",
              "      <td>1</td>\n",
              "      <td>2.913013</td>\n",
              "      <td>3.065260</td>\n",
              "      <td>0.378151</td>\n",
              "      <td>01:08</td>\n",
              "    </tr>\n",
              "    <tr>\n",
              "      <td>2</td>\n",
              "      <td>2.727094</td>\n",
              "      <td>3.031102</td>\n",
              "      <td>0.386555</td>\n",
              "      <td>01:06</td>\n",
              "    </tr>\n",
              "    <tr>\n",
              "      <td>3</td>\n",
              "      <td>2.576293</td>\n",
              "      <td>3.021726</td>\n",
              "      <td>0.378151</td>\n",
              "      <td>01:06</td>\n",
              "    </tr>\n",
              "  </tbody>\n",
              "</table>"
            ],
            "text/plain": [
              "<IPython.core.display.HTML object>"
            ]
          },
          "metadata": {
            "tags": []
          }
        }
      ]
    },
    {
      "cell_type": "code",
      "metadata": {
        "id": "atNWNKDFPbuI",
        "outputId": "f0e3fe2f-6725-4694-deb7-cad77a46f9e3",
        "colab": {
          "base_uri": "https://localhost:8080/",
          "height": 173
        }
      },
      "source": [
        "learn.fit_one_cycle(4, slice(2e-3/100, 2e-3))"
      ],
      "execution_count": 36,
      "outputs": [
        {
          "output_type": "display_data",
          "data": {
            "text/html": [
              "<table border=\"1\" class=\"dataframe\">\n",
              "  <thead>\n",
              "    <tr style=\"text-align: left;\">\n",
              "      <th>epoch</th>\n",
              "      <th>train_loss</th>\n",
              "      <th>valid_loss</th>\n",
              "      <th>accuracy</th>\n",
              "      <th>time</th>\n",
              "    </tr>\n",
              "  </thead>\n",
              "  <tbody>\n",
              "    <tr>\n",
              "      <td>0</td>\n",
              "      <td>2.453200</td>\n",
              "      <td>3.074716</td>\n",
              "      <td>0.361345</td>\n",
              "      <td>01:03</td>\n",
              "    </tr>\n",
              "    <tr>\n",
              "      <td>1</td>\n",
              "      <td>2.397531</td>\n",
              "      <td>3.007871</td>\n",
              "      <td>0.436975</td>\n",
              "      <td>01:03</td>\n",
              "    </tr>\n",
              "    <tr>\n",
              "      <td>2</td>\n",
              "      <td>2.228101</td>\n",
              "      <td>3.047319</td>\n",
              "      <td>0.386555</td>\n",
              "      <td>01:10</td>\n",
              "    </tr>\n",
              "    <tr>\n",
              "      <td>3</td>\n",
              "      <td>2.064041</td>\n",
              "      <td>2.992717</td>\n",
              "      <td>0.403361</td>\n",
              "      <td>01:10</td>\n",
              "    </tr>\n",
              "  </tbody>\n",
              "</table>"
            ],
            "text/plain": [
              "<IPython.core.display.HTML object>"
            ]
          },
          "metadata": {
            "tags": []
          }
        }
      ]
    },
    {
      "cell_type": "code",
      "metadata": {
        "id": "rKrBTZ0T1uVA",
        "outputId": "ac464397-d4cc-4e62-f031-da8d17f0d8bb",
        "colab": {
          "base_uri": "https://localhost:8080/",
          "height": 173
        }
      },
      "source": [
        "learn.fit_one_cycle(4, slice(2e-3/100, 2e-3))"
      ],
      "execution_count": 37,
      "outputs": [
        {
          "output_type": "display_data",
          "data": {
            "text/html": [
              "<table border=\"1\" class=\"dataframe\">\n",
              "  <thead>\n",
              "    <tr style=\"text-align: left;\">\n",
              "      <th>epoch</th>\n",
              "      <th>train_loss</th>\n",
              "      <th>valid_loss</th>\n",
              "      <th>accuracy</th>\n",
              "      <th>time</th>\n",
              "    </tr>\n",
              "  </thead>\n",
              "  <tbody>\n",
              "    <tr>\n",
              "      <td>0</td>\n",
              "      <td>1.974077</td>\n",
              "      <td>2.965919</td>\n",
              "      <td>0.428571</td>\n",
              "      <td>01:07</td>\n",
              "    </tr>\n",
              "    <tr>\n",
              "      <td>1</td>\n",
              "      <td>1.939542</td>\n",
              "      <td>3.023756</td>\n",
              "      <td>0.403361</td>\n",
              "      <td>01:03</td>\n",
              "    </tr>\n",
              "    <tr>\n",
              "      <td>2</td>\n",
              "      <td>1.797123</td>\n",
              "      <td>3.006583</td>\n",
              "      <td>0.378151</td>\n",
              "      <td>01:02</td>\n",
              "    </tr>\n",
              "    <tr>\n",
              "      <td>3</td>\n",
              "      <td>1.630190</td>\n",
              "      <td>2.960045</td>\n",
              "      <td>0.378151</td>\n",
              "      <td>01:08</td>\n",
              "    </tr>\n",
              "  </tbody>\n",
              "</table>"
            ],
            "text/plain": [
              "<IPython.core.display.HTML object>"
            ]
          },
          "metadata": {
            "tags": []
          }
        }
      ]
    },
    {
      "cell_type": "code",
      "metadata": {
        "id": "ajQC6WDg1yA9",
        "outputId": "bf6b2e5f-7967-48cd-fb9f-3b89cdeef5e7",
        "colab": {
          "base_uri": "https://localhost:8080/",
          "height": 173
        }
      },
      "source": [
        "learn.fit_one_cycle(4, slice(2e-3/100, 2e-3))"
      ],
      "execution_count": 38,
      "outputs": [
        {
          "output_type": "display_data",
          "data": {
            "text/html": [
              "<table border=\"1\" class=\"dataframe\">\n",
              "  <thead>\n",
              "    <tr style=\"text-align: left;\">\n",
              "      <th>epoch</th>\n",
              "      <th>train_loss</th>\n",
              "      <th>valid_loss</th>\n",
              "      <th>accuracy</th>\n",
              "      <th>time</th>\n",
              "    </tr>\n",
              "  </thead>\n",
              "  <tbody>\n",
              "    <tr>\n",
              "      <td>0</td>\n",
              "      <td>1.582913</td>\n",
              "      <td>3.066750</td>\n",
              "      <td>0.403361</td>\n",
              "      <td>01:01</td>\n",
              "    </tr>\n",
              "    <tr>\n",
              "      <td>1</td>\n",
              "      <td>1.550522</td>\n",
              "      <td>3.058746</td>\n",
              "      <td>0.394958</td>\n",
              "      <td>01:03</td>\n",
              "    </tr>\n",
              "    <tr>\n",
              "      <td>2</td>\n",
              "      <td>1.425883</td>\n",
              "      <td>3.029437</td>\n",
              "      <td>0.420168</td>\n",
              "      <td>01:05</td>\n",
              "    </tr>\n",
              "    <tr>\n",
              "      <td>3</td>\n",
              "      <td>1.311145</td>\n",
              "      <td>3.032176</td>\n",
              "      <td>0.428571</td>\n",
              "      <td>01:04</td>\n",
              "    </tr>\n",
              "  </tbody>\n",
              "</table>"
            ],
            "text/plain": [
              "<IPython.core.display.HTML object>"
            ]
          },
          "metadata": {
            "tags": []
          }
        }
      ]
    },
    {
      "cell_type": "code",
      "metadata": {
        "id": "KKydb0B4BKGk",
        "outputId": "509b9a85-bdcc-4078-aad6-2b5c350c3a64",
        "colab": {
          "base_uri": "https://localhost:8080/",
          "height": 173
        }
      },
      "source": [
        "learn.fit_one_cycle(4, slice(2e-3/100, 2e-3))"
      ],
      "execution_count": 39,
      "outputs": [
        {
          "output_type": "display_data",
          "data": {
            "text/html": [
              "<table border=\"1\" class=\"dataframe\">\n",
              "  <thead>\n",
              "    <tr style=\"text-align: left;\">\n",
              "      <th>epoch</th>\n",
              "      <th>train_loss</th>\n",
              "      <th>valid_loss</th>\n",
              "      <th>accuracy</th>\n",
              "      <th>time</th>\n",
              "    </tr>\n",
              "  </thead>\n",
              "  <tbody>\n",
              "    <tr>\n",
              "      <td>0</td>\n",
              "      <td>1.194652</td>\n",
              "      <td>2.997589</td>\n",
              "      <td>0.420168</td>\n",
              "      <td>01:08</td>\n",
              "    </tr>\n",
              "    <tr>\n",
              "      <td>1</td>\n",
              "      <td>1.215578</td>\n",
              "      <td>3.092525</td>\n",
              "      <td>0.403361</td>\n",
              "      <td>01:08</td>\n",
              "    </tr>\n",
              "    <tr>\n",
              "      <td>2</td>\n",
              "      <td>1.126699</td>\n",
              "      <td>3.111974</td>\n",
              "      <td>0.403361</td>\n",
              "      <td>01:05</td>\n",
              "    </tr>\n",
              "    <tr>\n",
              "      <td>3</td>\n",
              "      <td>1.027162</td>\n",
              "      <td>3.112424</td>\n",
              "      <td>0.394958</td>\n",
              "      <td>01:02</td>\n",
              "    </tr>\n",
              "  </tbody>\n",
              "</table>"
            ],
            "text/plain": [
              "<IPython.core.display.HTML object>"
            ]
          },
          "metadata": {
            "tags": []
          }
        }
      ]
    },
    {
      "cell_type": "code",
      "metadata": {
        "id": "T2APKtFKBpGY",
        "outputId": "4adfd64f-0d59-4ac1-e4b8-7d29f96b3654",
        "colab": {
          "base_uri": "https://localhost:8080/",
          "height": 173
        }
      },
      "source": [
        "learn.fit_one_cycle(4, slice(2e-3/100, 2e-3))"
      ],
      "execution_count": 40,
      "outputs": [
        {
          "output_type": "display_data",
          "data": {
            "text/html": [
              "<table border=\"1\" class=\"dataframe\">\n",
              "  <thead>\n",
              "    <tr style=\"text-align: left;\">\n",
              "      <th>epoch</th>\n",
              "      <th>train_loss</th>\n",
              "      <th>valid_loss</th>\n",
              "      <th>accuracy</th>\n",
              "      <th>time</th>\n",
              "    </tr>\n",
              "  </thead>\n",
              "  <tbody>\n",
              "    <tr>\n",
              "      <td>0</td>\n",
              "      <td>0.939522</td>\n",
              "      <td>3.090885</td>\n",
              "      <td>0.403361</td>\n",
              "      <td>01:07</td>\n",
              "    </tr>\n",
              "    <tr>\n",
              "      <td>1</td>\n",
              "      <td>0.938858</td>\n",
              "      <td>3.241427</td>\n",
              "      <td>0.386555</td>\n",
              "      <td>01:08</td>\n",
              "    </tr>\n",
              "    <tr>\n",
              "      <td>2</td>\n",
              "      <td>0.909157</td>\n",
              "      <td>3.193712</td>\n",
              "      <td>0.386555</td>\n",
              "      <td>01:07</td>\n",
              "    </tr>\n",
              "    <tr>\n",
              "      <td>3</td>\n",
              "      <td>0.859183</td>\n",
              "      <td>3.170118</td>\n",
              "      <td>0.394958</td>\n",
              "      <td>01:03</td>\n",
              "    </tr>\n",
              "  </tbody>\n",
              "</table>"
            ],
            "text/plain": [
              "<IPython.core.display.HTML object>"
            ]
          },
          "metadata": {
            "tags": []
          }
        }
      ]
    },
    {
      "cell_type": "code",
      "metadata": {
        "id": "qtTypA1sPgLU",
        "outputId": "fb9e070f-fb90-4740-f613-7279079582da",
        "colab": {
          "base_uri": "https://localhost:8080/",
          "height": 111
        }
      },
      "source": [
        "learn.fit_one_cycle(2, slice(2e-3/100, 2e-3))"
      ],
      "execution_count": 41,
      "outputs": [
        {
          "output_type": "display_data",
          "data": {
            "text/html": [
              "<table border=\"1\" class=\"dataframe\">\n",
              "  <thead>\n",
              "    <tr style=\"text-align: left;\">\n",
              "      <th>epoch</th>\n",
              "      <th>train_loss</th>\n",
              "      <th>valid_loss</th>\n",
              "      <th>accuracy</th>\n",
              "      <th>time</th>\n",
              "    </tr>\n",
              "  </thead>\n",
              "  <tbody>\n",
              "    <tr>\n",
              "      <td>0</td>\n",
              "      <td>0.817865</td>\n",
              "      <td>3.329440</td>\n",
              "      <td>0.386555</td>\n",
              "      <td>01:07</td>\n",
              "    </tr>\n",
              "    <tr>\n",
              "      <td>1</td>\n",
              "      <td>0.800175</td>\n",
              "      <td>3.263962</td>\n",
              "      <td>0.428571</td>\n",
              "      <td>01:02</td>\n",
              "    </tr>\n",
              "  </tbody>\n",
              "</table>"
            ],
            "text/plain": [
              "<IPython.core.display.HTML object>"
            ]
          },
          "metadata": {
            "tags": []
          }
        }
      ]
    },
    {
      "cell_type": "code",
      "metadata": {
        "id": "b242kBsTUp9Y",
        "outputId": "bf9901fe-f34e-4f87-8bc7-2f193d355b36",
        "colab": {
          "base_uri": "https://localhost:8080/",
          "height": 111
        }
      },
      "source": [
        "learn.fit_one_cycle(2, slice(2e-3/100, 2e-3))"
      ],
      "execution_count": 42,
      "outputs": [
        {
          "output_type": "display_data",
          "data": {
            "text/html": [
              "<table border=\"1\" class=\"dataframe\">\n",
              "  <thead>\n",
              "    <tr style=\"text-align: left;\">\n",
              "      <th>epoch</th>\n",
              "      <th>train_loss</th>\n",
              "      <th>valid_loss</th>\n",
              "      <th>accuracy</th>\n",
              "      <th>time</th>\n",
              "    </tr>\n",
              "  </thead>\n",
              "  <tbody>\n",
              "    <tr>\n",
              "      <td>0</td>\n",
              "      <td>0.713798</td>\n",
              "      <td>3.409021</td>\n",
              "      <td>0.369748</td>\n",
              "      <td>01:09</td>\n",
              "    </tr>\n",
              "    <tr>\n",
              "      <td>1</td>\n",
              "      <td>0.707168</td>\n",
              "      <td>3.383601</td>\n",
              "      <td>0.394958</td>\n",
              "      <td>01:07</td>\n",
              "    </tr>\n",
              "  </tbody>\n",
              "</table>"
            ],
            "text/plain": [
              "<IPython.core.display.HTML object>"
            ]
          },
          "metadata": {
            "tags": []
          }
        }
      ]
    },
    {
      "cell_type": "code",
      "metadata": {
        "id": "Duwf1Ih5VeDZ",
        "outputId": "8337839a-1f6a-4f52-fccb-43af82c3c2b1",
        "colab": {
          "base_uri": "https://localhost:8080/",
          "height": 80
        }
      },
      "source": [
        "learn.fit_one_cycle(1, slice(2e-3/100, 2e-3))"
      ],
      "execution_count": 43,
      "outputs": [
        {
          "output_type": "display_data",
          "data": {
            "text/html": [
              "<table border=\"1\" class=\"dataframe\">\n",
              "  <thead>\n",
              "    <tr style=\"text-align: left;\">\n",
              "      <th>epoch</th>\n",
              "      <th>train_loss</th>\n",
              "      <th>valid_loss</th>\n",
              "      <th>accuracy</th>\n",
              "      <th>time</th>\n",
              "    </tr>\n",
              "  </thead>\n",
              "  <tbody>\n",
              "    <tr>\n",
              "      <td>0</td>\n",
              "      <td>0.668918</td>\n",
              "      <td>3.377844</td>\n",
              "      <td>0.403361</td>\n",
              "      <td>01:09</td>\n",
              "    </tr>\n",
              "  </tbody>\n",
              "</table>"
            ],
            "text/plain": [
              "<IPython.core.display.HTML object>"
            ]
          },
          "metadata": {
            "tags": []
          }
        }
      ]
    },
    {
      "cell_type": "code",
      "metadata": {
        "id": "c65d-osfDUXm"
      },
      "source": [
        "# save the best model\n",
        "\n",
        "learn.save_encoder('TwADR-bigtweet_fold3')"
      ],
      "execution_count": 44,
      "outputs": []
    },
    {
      "cell_type": "code",
      "metadata": {
        "id": "5h-A_GpAIYg8",
        "outputId": "282de73f-0b58-4f54-f44c-1d33656b8108",
        "colab": {
          "base_uri": "https://localhost:8080/",
          "height": 80
        }
      },
      "source": [
        "learn.fit_one_cycle(1, slice(2e-3/100, 2e-3))"
      ],
      "execution_count": 45,
      "outputs": [
        {
          "output_type": "display_data",
          "data": {
            "text/html": [
              "<table border=\"1\" class=\"dataframe\">\n",
              "  <thead>\n",
              "    <tr style=\"text-align: left;\">\n",
              "      <th>epoch</th>\n",
              "      <th>train_loss</th>\n",
              "      <th>valid_loss</th>\n",
              "      <th>accuracy</th>\n",
              "      <th>time</th>\n",
              "    </tr>\n",
              "  </thead>\n",
              "  <tbody>\n",
              "    <tr>\n",
              "      <td>0</td>\n",
              "      <td>0.616187</td>\n",
              "      <td>3.447662</td>\n",
              "      <td>0.369748</td>\n",
              "      <td>01:08</td>\n",
              "    </tr>\n",
              "  </tbody>\n",
              "</table>"
            ],
            "text/plain": [
              "<IPython.core.display.HTML object>"
            ]
          },
          "metadata": {
            "tags": []
          }
        }
      ]
    },
    {
      "cell_type": "code",
      "metadata": {
        "id": "qc4poYxzIwca",
        "outputId": "81bf4cd0-65d6-416f-fb82-546872eb931a",
        "colab": {
          "base_uri": "https://localhost:8080/",
          "height": 80
        }
      },
      "source": [
        "learn.fit_one_cycle(1, slice(2e-3/100, 2e-3))"
      ],
      "execution_count": 46,
      "outputs": [
        {
          "output_type": "display_data",
          "data": {
            "text/html": [
              "<table border=\"1\" class=\"dataframe\">\n",
              "  <thead>\n",
              "    <tr style=\"text-align: left;\">\n",
              "      <th>epoch</th>\n",
              "      <th>train_loss</th>\n",
              "      <th>valid_loss</th>\n",
              "      <th>accuracy</th>\n",
              "      <th>time</th>\n",
              "    </tr>\n",
              "  </thead>\n",
              "  <tbody>\n",
              "    <tr>\n",
              "      <td>0</td>\n",
              "      <td>0.623968</td>\n",
              "      <td>3.337865</td>\n",
              "      <td>0.428571</td>\n",
              "      <td>01:07</td>\n",
              "    </tr>\n",
              "  </tbody>\n",
              "</table>"
            ],
            "text/plain": [
              "<IPython.core.display.HTML object>"
            ]
          },
          "metadata": {
            "tags": []
          }
        }
      ]
    },
    {
      "cell_type": "code",
      "metadata": {
        "id": "66s4PxV1JVfo",
        "outputId": "cf618fbb-b4c2-4b78-f415-8bdc21b2e473",
        "colab": {
          "base_uri": "https://localhost:8080/",
          "height": 80
        }
      },
      "source": [
        "learn.fit_one_cycle(1, slice(2e-3/100, 2e-3))"
      ],
      "execution_count": 47,
      "outputs": [
        {
          "output_type": "display_data",
          "data": {
            "text/html": [
              "<table border=\"1\" class=\"dataframe\">\n",
              "  <thead>\n",
              "    <tr style=\"text-align: left;\">\n",
              "      <th>epoch</th>\n",
              "      <th>train_loss</th>\n",
              "      <th>valid_loss</th>\n",
              "      <th>accuracy</th>\n",
              "      <th>time</th>\n",
              "    </tr>\n",
              "  </thead>\n",
              "  <tbody>\n",
              "    <tr>\n",
              "      <td>0</td>\n",
              "      <td>0.599648</td>\n",
              "      <td>3.464556</td>\n",
              "      <td>0.394958</td>\n",
              "      <td>01:06</td>\n",
              "    </tr>\n",
              "  </tbody>\n",
              "</table>"
            ],
            "text/plain": [
              "<IPython.core.display.HTML object>"
            ]
          },
          "metadata": {
            "tags": []
          }
        }
      ]
    },
    {
      "cell_type": "code",
      "metadata": {
        "id": "QaNFqJLlN4HU",
        "outputId": "4ba8ecc5-f2b1-4474-8e90-ecc0ca18c21d",
        "colab": {
          "base_uri": "https://localhost:8080/",
          "height": 80
        }
      },
      "source": [
        "learn.fit_one_cycle(1, slice(2e-3/100, 2e-3))"
      ],
      "execution_count": 51,
      "outputs": [
        {
          "output_type": "display_data",
          "data": {
            "text/html": [
              "<table border=\"1\" class=\"dataframe\">\n",
              "  <thead>\n",
              "    <tr style=\"text-align: left;\">\n",
              "      <th>epoch</th>\n",
              "      <th>train_loss</th>\n",
              "      <th>valid_loss</th>\n",
              "      <th>accuracy</th>\n",
              "      <th>time</th>\n",
              "    </tr>\n",
              "  </thead>\n",
              "  <tbody>\n",
              "    <tr>\n",
              "      <td>0</td>\n",
              "      <td>0.617610</td>\n",
              "      <td>3.501396</td>\n",
              "      <td>0.403361</td>\n",
              "      <td>01:07</td>\n",
              "    </tr>\n",
              "  </tbody>\n",
              "</table>"
            ],
            "text/plain": [
              "<IPython.core.display.HTML object>"
            ]
          },
          "metadata": {
            "tags": []
          }
        }
      ]
    },
    {
      "cell_type": "markdown",
      "metadata": {
        "id": "rCwZU0E2RgM6"
      },
      "source": [
        "# Part three: Predict on the test dataset"
      ]
    },
    {
      "cell_type": "code",
      "metadata": {
        "id": "gDm72c-dOu7d",
        "outputId": "edf3e6e3-8d2e-4eb3-ac8d-aca44ee99a9d",
        "colab": {
          "base_uri": "https://localhost:8080/",
          "height": 17
        }
      },
      "source": [
        "# use the test data for prediction\n",
        "\n",
        "preds, y = learn.get_preds(DatasetType.Test)"
      ],
      "execution_count": 52,
      "outputs": [
        {
          "output_type": "display_data",
          "data": {
            "text/html": [
              ""
            ],
            "text/plain": [
              "<IPython.core.display.HTML object>"
            ]
          },
          "metadata": {
            "tags": []
          }
        }
      ]
    },
    {
      "cell_type": "code",
      "metadata": {
        "id": "6tFSQcsWPvxn",
        "outputId": "2f134841-c665-4cc5-a0ce-346bc89d9166",
        "colab": {
          "base_uri": "https://localhost:8080/",
          "height": 105
        }
      },
      "source": [
        "predictions, *_ = learn.get_preds(DatasetType.Test)\n",
        "labels = np.argmax(predictions, 1)\n",
        "predict_list = labels.tolist()\n",
        "standard_list = test[0].tolist()\n",
        "\n",
        "print(len(predict_list))\n",
        "print(len(standard_list))\n",
        "\n",
        "print(predict_list)\n",
        "print(standard_list)"
      ],
      "execution_count": 53,
      "outputs": [
        {
          "output_type": "display_data",
          "data": {
            "text/html": [
              ""
            ],
            "text/plain": [
              "<IPython.core.display.HTML object>"
            ]
          },
          "metadata": {
            "tags": []
          }
        },
        {
          "output_type": "stream",
          "text": [
            "143\n",
            "143\n",
            "[393, 1962, 1295, 791, 978, 750, 109, 1295, 189, 1007, 233, 249, 232, 1610, 1727, 1099, 1054, 392, 13, 393, 1787, 791, 1526, 2168, 2063, 232, 1199, 1230, 629, 1483, 1204, 749, 749, 749, 974, 792, 792, 974, 809, 809, 809, 1308, 824, 1610, 1718, 908, 1727, 1507, 974, 974, 974, 232, 1676, 1669, 791, 393, 1295, 1099, 1925, 1136, 1295, 1145, 749, 1204, 791, 1340, 1265, 1062, 1295, 189, 1610, 1597, 1597, 1283, 1508, 749, 1769, 1484, 1787, 561, 561, 1295, 1099, 1295, 418, 1783, 426, 1597, 1610, 1610, 1669, 1521, 1610, 1701, 1526, 1711, 1711, 1295, 1718, 1295, 2191, 1718, 1718, 1767, 2032, 13, 2032, 1787, 1787, 2150, 393, 393, 1787, 1815, 119, 1610, 825, 1526, 825, 1915, 418, 1936, 1936, 749, 1295, 858, 1073, 393, 1787, 1787, 1769, 2081, 1295, 224, 2147, 2147, 2147, 233, 2147, 791, 1295, 561, 2149]\n",
            "[13, 16, 61, 85, 94, 97, 109, 121, 189, 203, 233, 249, 265, 276, 284, 309, 359, 392, 393, 393, 393, 426, 441, 452, 452, 452, 561, 579, 629, 712, 739, 749, 749, 749, 792, 792, 792, 792, 809, 809, 809, 822, 824, 824, 852, 908, 947, 954, 974, 974, 974, 978, 1048, 1048, 1054, 1054, 1099, 1099, 1109, 1136, 1136, 1145, 1190, 1204, 1204, 1265, 1265, 1283, 1295, 1295, 1344, 1356, 1356, 1356, 1416, 1417, 1427, 1484, 1521, 1526, 1529, 1545, 1545, 1545, 1546, 1578, 1595, 1597, 1597, 1610, 1610, 1669, 1669, 1701, 1701, 1711, 1711, 1718, 1718, 1718, 1753, 1767, 1767, 1767, 1787, 1787, 1787, 1787, 1787, 1787, 1787, 1787, 1787, 1815, 1822, 1877, 1884, 1884, 1884, 1915, 1925, 1936, 1936, 1942, 1942, 2010, 2032, 2032, 2032, 2032, 2074, 2081, 2103, 2103, 2147, 2147, 2147, 2147, 2147, 2149, 2149, 2149, 2191]\n"
          ],
          "name": "stdout"
        }
      ]
    },
    {
      "cell_type": "code",
      "metadata": {
        "id": "XIC4zufnMxtq",
        "outputId": "9a6953ad-d6d1-41c1-fd48-8bcd71787fa9",
        "colab": {
          "base_uri": "https://localhost:8080/"
        }
      },
      "source": [
        "correct_num = 0\n",
        "\n",
        "for i in range(0, len(standard_list)):\n",
        "  if predict_list[i] == standard_list[i]:\n",
        "    correct_num = correct_num+1\n",
        "  else:\n",
        "    pass\n",
        "print(correct_num)\n",
        "\n",
        "predict_accuracy = correct_num/len(predict_list)\n",
        "print(predict_accuracy)"
      ],
      "execution_count": 54,
      "outputs": [
        {
          "output_type": "stream",
          "text": [
            "46\n",
            "0.32167832167832167\n"
          ],
          "name": "stdout"
        }
      ]
    },
    {
      "cell_type": "code",
      "metadata": {
        "id": "zlKMHp1CIaRJ"
      },
      "source": [
        ""
      ],
      "execution_count": 54,
      "outputs": []
    }
  ]
}