{
  "nbformat": 4,
  "nbformat_minor": 0,
  "metadata": {
    "accelerator": "TPU",
    "colab": {
      "name": "twadr_3_mixed_pubmed_bigtweet_twadr.ipynb",
      "provenance": [],
      "collapsed_sections": [],
      "toc_visible": true,
      "include_colab_link": true
    },
    "kernelspec": {
      "display_name": "Python 3",
      "name": "python3"
    }
  },
  "cells": [
    {
      "cell_type": "markdown",
      "metadata": {
        "id": "view-in-github",
        "colab_type": "text"
      },
      "source": [
        "<a href=\"https://colab.research.google.com/github/unt-iialab/medical-concept-normalization/blob/master/medical-concept-normalization/fine-tuning-experiments/askpatient/twadr_3_mixed_pubmed_bigtweet_twadr.ipynb\" target=\"_parent\"><img src=\"https://colab.research.google.com/assets/colab-badge.svg\" alt=\"Open In Colab\"/></a>"
      ]
    },
    {
      "cell_type": "code",
      "metadata": {
        "id": "adSi6i2-dWxy"
      },
      "source": [
        "import os"
      ],
      "execution_count": 1,
      "outputs": []
    },
    {
      "cell_type": "code",
      "metadata": {
        "id": "E7xYCRGPjd9B"
      },
      "source": [
        "base_dir = 'medical-concept-normalization'"
      ],
      "execution_count": 2,
      "outputs": []
    },
    {
      "cell_type": "code",
      "metadata": {
        "id": "yvIW3aUDjYNS"
      },
      "source": [
        "os.mkdir(base_dir)"
      ],
      "execution_count": 3,
      "outputs": []
    },
    {
      "cell_type": "code",
      "metadata": {
        "id": "es-FFLlfk6SG"
      },
      "source": [
        "os.mkdir('medical-concept-normalization/data_collection')"
      ],
      "execution_count": 4,
      "outputs": []
    },
    {
      "cell_type": "markdown",
      "metadata": {
        "id": "0R-Guw_VoJXm"
      },
      "source": [
        "**Install fastai and clone the fastai for text classification**\n",
        "\n"
      ]
    },
    {
      "cell_type": "code",
      "metadata": {
        "id": "QVZa3Z0PmHFH",
        "outputId": "745e027c-36bb-4359-fa98-8a640643c885",
        "colab": {
          "base_uri": "https://localhost:8080/",
          "height": 68
        }
      },
      "source": [
        "!curl https://course-v3.fast.ai/setup/colab | bash"
      ],
      "execution_count": 5,
      "outputs": [
        {
          "output_type": "stream",
          "text": [
            "  % Total    % Received % Xferd  Average Speed   Time    Time     Time  Current\n",
            "                                 Dload  Upload   Total   Spent    Left  Speed\n",
            "\r  0     0    0     0    0     0      0      0 --:--:-- --:--:-- --:--:--     0curl: (6) Could not resolve host: course-v3.fast.ai\n"
          ],
          "name": "stdout"
        }
      ]
    },
    {
      "cell_type": "code",
      "metadata": {
        "id": "_FBFFEBrmJC0",
        "outputId": "16769e2d-02a0-45ac-aa22-bf7446a6cc9e",
        "colab": {
          "base_uri": "https://localhost:8080/",
          "height": 85
        }
      },
      "source": [
        "!git clone https://github.com/wshuyi/demo-nlp-classification-fastai.git"
      ],
      "execution_count": 6,
      "outputs": [
        {
          "output_type": "stream",
          "text": [
            "Cloning into 'demo-nlp-classification-fastai'...\n",
            "remote: Enumerating objects: 9, done.\u001b[K\n",
            "remote: Total 9 (delta 0), reused 0 (delta 0), pack-reused 9\u001b[K\n",
            "Unpacking objects: 100% (9/9), done.\n"
          ],
          "name": "stdout"
        }
      ]
    },
    {
      "cell_type": "code",
      "metadata": {
        "id": "66zfh_JqmWMU"
      },
      "source": [
        "from fastai import *\n",
        "from fastai.text import *"
      ],
      "execution_count": 7,
      "outputs": []
    },
    {
      "cell_type": "markdown",
      "metadata": {
        "id": "mNIw-yALdBU9"
      },
      "source": [
        "**Set the path of the data collections**"
      ]
    },
    {
      "cell_type": "code",
      "metadata": {
        "id": "pzH7VMh4mqCL"
      },
      "source": [
        "path = Path('medical-concept-normalization/data_collection')"
      ],
      "execution_count": 8,
      "outputs": []
    },
    {
      "cell_type": "code",
      "metadata": {
        "id": "b8fjI6yyn4aS"
      },
      "source": [
        "# training data set\n",
        "\n",
        "train_csv = path/'TwADR-L.fold-3.train.csv'\n",
        "train = pd.read_csv(train_csv, header=None)\n",
        "#train.head()\n",
        "#train.info()"
      ],
      "execution_count": 10,
      "outputs": []
    },
    {
      "cell_type": "code",
      "metadata": {
        "id": "Hmlr-bAorfHd",
        "outputId": "1c8992cc-78ad-4e8b-9720-748a2e3df2d4",
        "colab": {
          "base_uri": "https://localhost:8080/",
          "height": 204
        }
      },
      "source": [
        "# validating data set\n",
        "\n",
        "valid = pd.read_csv(path/\"TwADR-L.fold-3.validation.csv\",header=None)\n",
        "valid.head()"
      ],
      "execution_count": 11,
      "outputs": [
        {
          "output_type": "execute_result",
          "data": {
            "text/html": [
              "<div>\n",
              "<style scoped>\n",
              "    .dataframe tbody tr th:only-of-type {\n",
              "        vertical-align: middle;\n",
              "    }\n",
              "\n",
              "    .dataframe tbody tr th {\n",
              "        vertical-align: top;\n",
              "    }\n",
              "\n",
              "    .dataframe thead th {\n",
              "        text-align: right;\n",
              "    }\n",
              "</style>\n",
              "<table border=\"1\" class=\"dataframe\">\n",
              "  <thead>\n",
              "    <tr style=\"text-align: right;\">\n",
              "      <th></th>\n",
              "      <th>0</th>\n",
              "      <th>1</th>\n",
              "    </tr>\n",
              "  </thead>\n",
              "  <tbody>\n",
              "    <tr>\n",
              "      <th>0</th>\n",
              "      <td>91</td>\n",
              "      <td>jitters</td>\n",
              "    </tr>\n",
              "    <tr>\n",
              "      <th>1</th>\n",
              "      <td>93</td>\n",
              "      <td>shooting</td>\n",
              "    </tr>\n",
              "    <tr>\n",
              "      <th>2</th>\n",
              "      <td>187</td>\n",
              "      <td>dry mouth</td>\n",
              "    </tr>\n",
              "    <tr>\n",
              "      <th>3</th>\n",
              "      <td>189</td>\n",
              "      <td>dizzy</td>\n",
              "    </tr>\n",
              "    <tr>\n",
              "      <th>4</th>\n",
              "      <td>230</td>\n",
              "      <td>mania</td>\n",
              "    </tr>\n",
              "  </tbody>\n",
              "</table>\n",
              "</div>"
            ],
            "text/plain": [
              "     0          1\n",
              "0   91    jitters\n",
              "1   93   shooting\n",
              "2  187  dry mouth\n",
              "3  189      dizzy\n",
              "4  230      mania"
            ]
          },
          "metadata": {
            "tags": []
          },
          "execution_count": 11
        }
      ]
    },
    {
      "cell_type": "code",
      "metadata": {
        "id": "cOza9dfSsBud",
        "outputId": "ae8487a6-001c-4881-d5cd-dae46eb4d505",
        "colab": {
          "base_uri": "https://localhost:8080/",
          "height": 204
        }
      },
      "source": [
        "# testing data set\n",
        "\n",
        "test = pd.read_csv(path/\"TwADR-L.fold-3.test.csv\",header=None)\n",
        "test.head()"
      ],
      "execution_count": 12,
      "outputs": [
        {
          "output_type": "execute_result",
          "data": {
            "text/html": [
              "<div>\n",
              "<style scoped>\n",
              "    .dataframe tbody tr th:only-of-type {\n",
              "        vertical-align: middle;\n",
              "    }\n",
              "\n",
              "    .dataframe tbody tr th {\n",
              "        vertical-align: top;\n",
              "    }\n",
              "\n",
              "    .dataframe thead th {\n",
              "        text-align: right;\n",
              "    }\n",
              "</style>\n",
              "<table border=\"1\" class=\"dataframe\">\n",
              "  <thead>\n",
              "    <tr style=\"text-align: right;\">\n",
              "      <th></th>\n",
              "      <th>0</th>\n",
              "      <th>1</th>\n",
              "    </tr>\n",
              "  </thead>\n",
              "  <tbody>\n",
              "    <tr>\n",
              "      <th>0</th>\n",
              "      <td>13</td>\n",
              "      <td>insomniac</td>\n",
              "    </tr>\n",
              "    <tr>\n",
              "      <th>1</th>\n",
              "      <td>16</td>\n",
              "      <td>couldn't taste anything</td>\n",
              "    </tr>\n",
              "    <tr>\n",
              "      <th>2</th>\n",
              "      <td>61</td>\n",
              "      <td>spins</td>\n",
              "    </tr>\n",
              "    <tr>\n",
              "      <th>3</th>\n",
              "      <td>85</td>\n",
              "      <td>tremor</td>\n",
              "    </tr>\n",
              "    <tr>\n",
              "      <th>4</th>\n",
              "      <td>94</td>\n",
              "      <td>anxiety</td>\n",
              "    </tr>\n",
              "  </tbody>\n",
              "</table>\n",
              "</div>"
            ],
            "text/plain": [
              "    0                        1\n",
              "0  13                insomniac\n",
              "1  16  couldn't taste anything\n",
              "2  61                    spins\n",
              "3  85                   tremor\n",
              "4  94                  anxiety"
            ]
          },
          "metadata": {
            "tags": []
          },
          "execution_count": 12
        }
      ]
    },
    {
      "cell_type": "code",
      "metadata": {
        "id": "Vo-YNvVYoaH6",
        "outputId": "bc254f94-cec1-4b57-842d-c01271e20710",
        "colab": {
          "base_uri": "https://localhost:8080/",
          "height": 17
        }
      },
      "source": [
        "# Creating DataBunch for language modelling\n",
        "\n",
        "data_lm = TextLMDataBunch.from_csv(path, 'mixed_pubmed_bigtweet_twadr.csv')"
      ],
      "execution_count": 13,
      "outputs": [
        {
          "output_type": "display_data",
          "data": {
            "text/html": [
              ""
            ],
            "text/plain": [
              "<IPython.core.display.HTML object>"
            ]
          },
          "metadata": {
            "tags": []
          }
        },
        {
          "output_type": "display_data",
          "data": {
            "text/html": [
              ""
            ],
            "text/plain": [
              "<IPython.core.display.HTML object>"
            ]
          },
          "metadata": {
            "tags": []
          }
        }
      ]
    },
    {
      "cell_type": "code",
      "metadata": {
        "id": "qcV-9kMnNLBf"
      },
      "source": [
        ""
      ],
      "execution_count": 13,
      "outputs": []
    },
    {
      "cell_type": "code",
      "metadata": {
        "id": "1ScY9afDsnvE"
      },
      "source": [
        "# Creating DataBunch for classification\n",
        "\n",
        "# data_clas = TextClasDataBunch.from_df(path, train, valid, test, vocab=data_lm.train_ds.vocab, bs=128)"
      ],
      "execution_count": 14,
      "outputs": []
    },
    {
      "cell_type": "code",
      "metadata": {
        "id": "gzrSdQcvey9p",
        "outputId": "57baa9ba-913d-483f-aafb-4ba7b7f0966e",
        "colab": {
          "base_uri": "https://localhost:8080/",
          "height": 17
        }
      },
      "source": [
        "data_clas = TextClasDataBunch.from_df(path, train, valid, vocab=data_lm.train_ds.vocab, bs=128)"
      ],
      "execution_count": 15,
      "outputs": [
        {
          "output_type": "display_data",
          "data": {
            "text/html": [
              ""
            ],
            "text/plain": [
              "<IPython.core.display.HTML object>"
            ]
          },
          "metadata": {
            "tags": []
          }
        },
        {
          "output_type": "display_data",
          "data": {
            "text/html": [
              ""
            ],
            "text/plain": [
              "<IPython.core.display.HTML object>"
            ]
          },
          "metadata": {
            "tags": []
          }
        }
      ]
    },
    {
      "cell_type": "code",
      "metadata": {
        "id": "MD27Tf0Ke3ou",
        "outputId": "c9a7f09b-c567-45ee-e744-a9fcc10d1716",
        "colab": {
          "base_uri": "https://localhost:8080/",
          "height": 17
        }
      },
      "source": [
        "data_clas.add_test(test,label=0)\n"
      ],
      "execution_count": 16,
      "outputs": [
        {
          "output_type": "display_data",
          "data": {
            "text/html": [
              ""
            ],
            "text/plain": [
              "<IPython.core.display.HTML object>"
            ]
          },
          "metadata": {
            "tags": []
          }
        }
      ]
    },
    {
      "cell_type": "code",
      "metadata": {
        "id": "-dpjnk_rstwk"
      },
      "source": [
        "data_lm.save()\n",
        "data_clas.save()"
      ],
      "execution_count": 17,
      "outputs": []
    },
    {
      "cell_type": "code",
      "metadata": {
        "id": "4OkiJa36sw5s",
        "outputId": "d2d6ad89-3ce8-4ff9-8359-ee6ea131f408",
        "colab": {
          "base_uri": "https://localhost:8080/",
          "height": 1000
        }
      },
      "source": [
        "data_lm.train_ds.vocab.itos"
      ],
      "execution_count": 18,
      "outputs": [
        {
          "output_type": "execute_result",
          "data": {
            "text/plain": [
              "['xxunk',\n",
              " 'xxpad',\n",
              " 'xxbos',\n",
              " 'xxeos',\n",
              " 'xxfld',\n",
              " 'xxmaj',\n",
              " 'xxup',\n",
              " 'xxrep',\n",
              " 'xxwrep',\n",
              " 'the',\n",
              " 'of',\n",
              " 'and',\n",
              " 'in',\n",
              " 'to',\n",
              " 'a',\n",
              " 'for',\n",
              " 'with',\n",
              " 'was',\n",
              " 'diclofenac',\n",
              " 'were',\n",
              " 'on',\n",
              " 'is',\n",
              " 'rt',\n",
              " 'pain',\n",
              " 'sodium',\n",
              " 'by',\n",
              " 'drug',\n",
              " 'that',\n",
              " 'as',\n",
              " 'at',\n",
              " 'i',\n",
              " 'patients',\n",
              " 'or',\n",
              " 'from',\n",
              " 'this',\n",
              " 'you',\n",
              " 'disease',\n",
              " 'be',\n",
              " 'mg',\n",
              " 'increased',\n",
              " 'group',\n",
              " 'my',\n",
              " 'study',\n",
              " 'mood',\n",
              " 'are',\n",
              " 'not',\n",
              " 'treatment',\n",
              " 'an',\n",
              " 'me',\n",
              " 'it',\n",
              " 'after',\n",
              " 'amp',\n",
              " 'have',\n",
              " 'release',\n",
              " 'p',\n",
              " 'gluten',\n",
              " 'disorder',\n",
              " ',',\n",
              " 'all',\n",
              " 'effect',\n",
              " 'we',\n",
              " 'than',\n",
              " 'abnormal',\n",
              " 'symptoms',\n",
              " 'withdrawal',\n",
              " 'free',\n",
              " 'no',\n",
              " 'weight',\n",
              " 'decreased',\n",
              " 'out',\n",
              " 'new',\n",
              " 'compared',\n",
              " 'more',\n",
              " 'your',\n",
              " 'day',\n",
              " 'anxiety',\n",
              " 'up',\n",
              " 'using',\n",
              " 'time',\n",
              " 'effects',\n",
              " 'groups',\n",
              " 'our',\n",
              " 'blood',\n",
              " 'its',\n",
              " 'two',\n",
              " 'both',\n",
              " 'drugs',\n",
              " 'h',\n",
              " 'inflammatory',\n",
              " 'between',\n",
              " 'like',\n",
              " 'about',\n",
              " 'significantly',\n",
              " 'these',\n",
              " 'acute',\n",
              " 'significant',\n",
              " 'had',\n",
              " 'use',\n",
              " 'but',\n",
              " 'anti',\n",
              " 'can',\n",
              " 'potassium',\n",
              " 'disorders',\n",
              " 'which',\n",
              " 'skin',\n",
              " 'has',\n",
              " 'used',\n",
              " 'do',\n",
              " 'dose',\n",
              " 'behavior',\n",
              " 'days',\n",
              " 'voltaren',\n",
              " 'syndrome',\n",
              " 'results',\n",
              " '(',\n",
              " ')',\n",
              " 'also',\n",
              " 'one',\n",
              " 'placebo',\n",
              " 'glutenfree',\n",
              " '-',\n",
              " 'what',\n",
              " 's',\n",
              " 'nt',\n",
              " 'diseases',\n",
              " 'efficacy',\n",
              " 'm',\n",
              " 'celiac',\n",
              " 'concentration',\n",
              " 'sleeplessness',\n",
              " 'there',\n",
              " 'may',\n",
              " 'oral',\n",
              " 'feeling',\n",
              " 'ds',\n",
              " 'showed',\n",
              " 'now',\n",
              " 'got',\n",
              " 'w',\n",
              " 'different',\n",
              " 'treated',\n",
              " 'test',\n",
              " 'ml',\n",
              " 'when',\n",
              " 'been',\n",
              " 'administration',\n",
              " 'somnolence',\n",
              " 'finding',\n",
              " 'non',\n",
              " 'topical',\n",
              " 'disturbance',\n",
              " 'so',\n",
              " 'products',\n",
              " 'insomnia',\n",
              " 'sleep',\n",
              " 'c',\n",
              " 'high',\n",
              " 'via',\n",
              " 'hours',\n",
              " 'rats',\n",
              " 'food',\n",
              " 'control',\n",
              " 'their',\n",
              " 'studies',\n",
              " 'other',\n",
              " 'body',\n",
              " 'how',\n",
              " 'energy',\n",
              " 'acid',\n",
              " 'during',\n",
              " 'clinical',\n",
              " 'respectively',\n",
              " 'right',\n",
              " 'could',\n",
              " 'into',\n",
              " 'mental',\n",
              " 'post',\n",
              " 'rate',\n",
              " 'if',\n",
              " 'well',\n",
              " 'found',\n",
              " 'induced',\n",
              " 'plasma',\n",
              " 'first',\n",
              " 'state',\n",
              " 'formulations',\n",
              " 'did',\n",
              " 'over',\n",
              " 'swelling',\n",
              " 'diet',\n",
              " 'who',\n",
              " 'feel',\n",
              " 'mean',\n",
              " 'muscle',\n",
              " 'ph',\n",
              " 'gain',\n",
              " 'tablets',\n",
              " 'formulation',\n",
              " 'effective',\n",
              " 'method',\n",
              " 'depression',\n",
              " 'nausea',\n",
              " 'g',\n",
              " 'appetite',\n",
              " 'solution',\n",
              " 'low',\n",
              " 'observed',\n",
              " 'nsaids',\n",
              " 'kg',\n",
              " 'd',\n",
              " 'review',\n",
              " 'received',\n",
              " 'those',\n",
              " 'tip',\n",
              " 'n',\n",
              " 'gel',\n",
              " 'analysis',\n",
              " 'conditions',\n",
              " 'analgesic',\n",
              " 'awake',\n",
              " 'three',\n",
              " 'vitro',\n",
              " 'heart',\n",
              " 'lower',\n",
              " 'activity',\n",
              " 'period',\n",
              " 'data',\n",
              " 'reaction',\n",
              " 'system',\n",
              " 'only',\n",
              " 'each',\n",
              " 'excitability',\n",
              " 'week',\n",
              " 'total',\n",
              " 'adverse',\n",
              " 'less',\n",
              " 'cell',\n",
              " 'weeks',\n",
              " 'dizziness',\n",
              " 'single',\n",
              " 'attention',\n",
              " 'daily',\n",
              " 'ca',\n",
              " 'good',\n",
              " 'ceiling',\n",
              " 'dblclick',\n",
              " 'feelings',\n",
              " 'patient',\n",
              " 'eye',\n",
              " 'panic',\n",
              " 'controlled',\n",
              " 'hyperactive',\n",
              " 'concentrations',\n",
              " 'renal',\n",
              " 'pic',\n",
              " 'atorvastatin',\n",
              " 'drowsiness',\n",
              " 'irritable',\n",
              " 'levels',\n",
              " 'get',\n",
              " 'most',\n",
              " 'gastrointestinal',\n",
              " 'why',\n",
              " 'level',\n",
              " 'headache',\n",
              " 'following',\n",
              " 'some',\n",
              " 'here',\n",
              " 'site',\n",
              " 'serum',\n",
              " 'randomized',\n",
              " 'depressed',\n",
              " 'evaluated',\n",
              " 'model',\n",
              " 'liver',\n",
              " 'allergic',\n",
              " 'application',\n",
              " 'rash',\n",
              " 'will',\n",
              " 'however',\n",
              " 'need',\n",
              " 'reduced',\n",
              " 'water',\n",
              " 'loss',\n",
              " 'they',\n",
              " 'check',\n",
              " 'before',\n",
              " 'l',\n",
              " 'postoperative',\n",
              " 'joint',\n",
              " 't',\n",
              " 'present',\n",
              " 'obtained',\n",
              " 'tablet',\n",
              " 'surgery',\n",
              " 'increase',\n",
              " 'function',\n",
              " 'double',\n",
              " 'years',\n",
              " 'higher',\n",
              " 'life',\n",
              " 'similar',\n",
              " 'nsaid',\n",
              " 'inflammation',\n",
              " 'infection',\n",
              " 'under',\n",
              " 'change',\n",
              " 'any',\n",
              " 'bone',\n",
              " 'swings',\n",
              " 'know',\n",
              " 'brain',\n",
              " 'cells',\n",
              " 'chronic',\n",
              " 'healthy',\n",
              " 'difference',\n",
              " 'associated',\n",
              " 'initial',\n",
              " 'b',\n",
              " 'therapy',\n",
              " 'bipolar',\n",
              " '#',\n",
              " 'relief',\n",
              " 'arthritis',\n",
              " 'migraine',\n",
              " 'just',\n",
              " 'injection',\n",
              " 'dissolution',\n",
              " 'based',\n",
              " 'changes',\n",
              " 'make',\n",
              " 'pressure',\n",
              " 'combination',\n",
              " 'order',\n",
              " 'trial',\n",
              " 'help',\n",
              " 'injury',\n",
              " 'administered',\n",
              " 'edema',\n",
              " 'prepared',\n",
              " 'gastric',\n",
              " 'wakefulness',\n",
              " 'love',\n",
              " 'vs',\n",
              " 'doses',\n",
              " 'response',\n",
              " 'studied',\n",
              " \"n't\",\n",
              " 'better',\n",
              " 'should',\n",
              " 'type',\n",
              " 'min',\n",
              " 'visual',\n",
              " 'while',\n",
              " 'reported',\n",
              " 'tissue',\n",
              " 'great',\n",
              " 'four',\n",
              " 'such',\n",
              " 'given',\n",
              " 'due',\n",
              " 'does',\n",
              " 'values',\n",
              " 'blind',\n",
              " 'being',\n",
              " 'x',\n",
              " 'differences',\n",
              " 'eating',\n",
              " 'very',\n",
              " 'corneal',\n",
              " 'fatigue',\n",
              " 'phase',\n",
              " 'performed',\n",
              " 're',\n",
              " 'absorption',\n",
              " 'intolerance',\n",
              " 'investigated',\n",
              " 'events',\n",
              " 'subjects',\n",
              " 'thanks',\n",
              " 'side',\n",
              " 'through',\n",
              " 'makes',\n",
              " 'nonsteroidal',\n",
              " 'either',\n",
              " 'within',\n",
              " 'gfb',\n",
              " 'attacks',\n",
              " 'respiratory',\n",
              " 'breast',\n",
              " 'parameters',\n",
              " 'ratio',\n",
              " '30',\n",
              " 'eat',\n",
              " 'decrease',\n",
              " 'still',\n",
              " 'abdominal',\n",
              " 'without',\n",
              " 'us',\n",
              " 'knee',\n",
              " 'developed',\n",
              " 'dreams',\n",
              " 'minutes',\n",
              " 'safety',\n",
              " 'number',\n",
              " 'properties',\n",
              " 'show',\n",
              " 'included',\n",
              " 'steroidal',\n",
              " 'recipe',\n",
              " 'death',\n",
              " 'v',\n",
              " 'indomethacin',\n",
              " 'people',\n",
              " 'tremor',\n",
              " 'cholesterol',\n",
              " 'times',\n",
              " 'measured',\n",
              " 'posted',\n",
              " 'risk',\n",
              " 'containing',\n",
              " 'night',\n",
              " 'attack',\n",
              " 'action',\n",
              " 'delivery',\n",
              " 'assessed',\n",
              " 'living',\n",
              " 'auc',\n",
              " 'urine',\n",
              " 'therapeutic',\n",
              " 'size',\n",
              " 'reduction',\n",
              " 'determined',\n",
              " 'samples',\n",
              " 'go',\n",
              " '2',\n",
              " 'medication',\n",
              " 'active',\n",
              " 'going',\n",
              " 'statistically',\n",
              " 'e',\n",
              " 'dry',\n",
              " 'ng',\n",
              " 'best',\n",
              " 'tired',\n",
              " 'range',\n",
              " 'year',\n",
              " 'mm',\n",
              " 'cardiac',\n",
              " 'potential',\n",
              " 'liquid',\n",
              " 'compare',\n",
              " 'same',\n",
              " 'related',\n",
              " 'hemorrhage',\n",
              " 'local',\n",
              " 'taste',\n",
              " 'applied',\n",
              " 'development',\n",
              " 'take',\n",
              " 'scale',\n",
              " 'bioavailability',\n",
              " 'form',\n",
              " 'kidney',\n",
              " 'human',\n",
              " 'failure',\n",
              " 'normal',\n",
              " 'sustained',\n",
              " 'heres',\n",
              " 'oa',\n",
              " 'vivo',\n",
              " 'stiffness',\n",
              " 'carcinoma',\n",
              " 'damage',\n",
              " 'primary',\n",
              " 'rage',\n",
              " 'ulcer',\n",
              " 'lipitor',\n",
              " '\\r \\n ',\n",
              " 'k',\n",
              " 'deficit',\n",
              " 'think',\n",
              " 'many',\n",
              " 'read',\n",
              " 'evaluate',\n",
              " 'tips',\n",
              " 'archives',\n",
              " 'months',\n",
              " 'health',\n",
              " 'stomach',\n",
              " 'addition',\n",
              " 'aqueous',\n",
              " 'sleepy',\n",
              " 'process',\n",
              " 'osteoarthritis',\n",
              " 'sensitivity',\n",
              " 'baseline',\n",
              " 'available',\n",
              " 'much',\n",
              " 'jennieo',\n",
              " 'male',\n",
              " 'hour',\n",
              " 'then',\n",
              " 'scores',\n",
              " 'eyes',\n",
              " 'ii',\n",
              " 'wide',\n",
              " 'dependent',\n",
              " 'discomfort',\n",
              " 'back',\n",
              " 'pulmonary',\n",
              " 'psychotic',\n",
              " 'made',\n",
              " 'severe',\n",
              " 'because',\n",
              " 'matrix',\n",
              " 'way',\n",
              " 'greater',\n",
              " 'coated',\n",
              " 'demonstrated',\n",
              " 'tolerability',\n",
              " 'alone',\n",
              " 'secondary',\n",
              " 'news',\n",
              " 'infections',\n",
              " 'down',\n",
              " 'hypertension',\n",
              " 'per',\n",
              " 'safe',\n",
              " 'area',\n",
              " 'tested',\n",
              " 'want',\n",
              " 'revealed',\n",
              " 'na',\n",
              " 'polymer',\n",
              " 'end',\n",
              " 'randomly',\n",
              " 'important',\n",
              " 'super',\n",
              " 'mice',\n",
              " 'improvement',\n",
              " 'multiple',\n",
              " 'numbness',\n",
              " 'sweating',\n",
              " 'temperature',\n",
              " 'today',\n",
              " 'dosage',\n",
              " '1',\n",
              " 'article',\n",
              " 'middle',\n",
              " 'formation',\n",
              " 'quality',\n",
              " 'chicken',\n",
              " 'vomiting',\n",
              " 'diagnosis',\n",
              " 'even',\n",
              " 'daytime',\n",
              " 'treatments',\n",
              " 'asleep',\n",
              " 'aim',\n",
              " 'case',\n",
              " 'follow',\n",
              " 'tolerated',\n",
              " 'suggest',\n",
              " 'cerebral',\n",
              " 'exposure',\n",
              " 'cd',\n",
              " 'long',\n",
              " 'presence',\n",
              " 'allergy',\n",
              " 'caused',\n",
              " 'cm',\n",
              " 'difficulty',\n",
              " 'dermatitis',\n",
              " 'zombie',\n",
              " 'aggravated',\n",
              " 'irritation',\n",
              " 'intensity',\n",
              " 'sensation',\n",
              " 'protein',\n",
              " 'further',\n",
              " 'distress',\n",
              " 'age',\n",
              " 'content',\n",
              " 'common',\n",
              " 'standard',\n",
              " 'shown',\n",
              " 'among',\n",
              " 'female',\n",
              " 'animals',\n",
              " 'score',\n",
              " 'ibuprofen',\n",
              " 'cox',\n",
              " 'whereas',\n",
              " 'followed',\n",
              " 'agent',\n",
              " 'would',\n",
              " 'rheumatoid',\n",
              " 'inhibitor',\n",
              " 'cancer',\n",
              " 'pharmaceutical',\n",
              " 'hepatic',\n",
              " 'alcohol',\n",
              " 'volunteers',\n",
              " 'intestinal',\n",
              " 'indicated',\n",
              " 'f',\n",
              " 'inhibition',\n",
              " 'fluid',\n",
              " 'experimental',\n",
              " 'various',\n",
              " 'rat',\n",
              " 'permeation',\n",
              " 'conducted',\n",
              " 'mechanism',\n",
              " 'versus',\n",
              " 'calcium',\n",
              " 'cases',\n",
              " 'six',\n",
              " 'hallucinations',\n",
              " 'cause',\n",
              " 'facial',\n",
              " 'growth',\n",
              " 'prolonged',\n",
              " 'anemia',\n",
              " 'ocular',\n",
              " 'early',\n",
              " 'trials',\n",
              " 'old',\n",
              " \"'m\",\n",
              " 'onset',\n",
              " 'every',\n",
              " 'dependence',\n",
              " 'dysfunction',\n",
              " 'complete',\n",
              " 'find',\n",
              " 'including',\n",
              " 'pre',\n",
              " '4',\n",
              " 'product',\n",
              " 'big',\n",
              " 'profiles',\n",
              " 'term',\n",
              " 'depressive',\n",
              " 'elevated',\n",
              " 'provide',\n",
              " 'sleepiness',\n",
              " 'localised',\n",
              " 'microspheres',\n",
              " 'peak',\n",
              " 'th',\n",
              " 'anger',\n",
              " 'nightmares',\n",
              " 'diagnosed',\n",
              " 'divided',\n",
              " 'although',\n",
              " 'happy',\n",
              " 'month',\n",
              " 'o',\n",
              " 'r',\n",
              " 'moderate',\n",
              " 'part',\n",
              " 'social',\n",
              " 'care',\n",
              " 'achieved',\n",
              " 'relative',\n",
              " 'cross',\n",
              " '5',\n",
              " 'profile',\n",
              " 'combined',\n",
              " '\\r \\n \\r \\n ',\n",
              " '10',\n",
              " 'awareness',\n",
              " 'painful',\n",
              " 'determine',\n",
              " 'exhaustion',\n",
              " 'complex',\n",
              " 'affect',\n",
              " 'research',\n",
              " 'resulted',\n",
              " 'systemic',\n",
              " 'u',\n",
              " 'enteric',\n",
              " 'vehicle',\n",
              " 'cataract',\n",
              " 'last',\n",
              " 'participants',\n",
              " 'evidence',\n",
              " 'vas',\n",
              " 'sensitive',\n",
              " 'surface',\n",
              " 'evaluation',\n",
              " 'disturbances',\n",
              " 'reference',\n",
              " 'please',\n",
              " 'de',\n",
              " 'efficiency',\n",
              " 'improved',\n",
              " 'five',\n",
              " 'density',\n",
              " 'glucose',\n",
              " 'ever',\n",
              " 'pharmacokinetic',\n",
              " 'work',\n",
              " 'solid',\n",
              " 'too',\n",
              " 'least',\n",
              " 'tooth',\n",
              " 'cold',\n",
              " 'vascular',\n",
              " 'positive',\n",
              " 'bad',\n",
              " 'small',\n",
              " 'membrane',\n",
              " 'rapid',\n",
              " 'suicidal',\n",
              " 'blog',\n",
              " 'pizza',\n",
              " 'share',\n",
              " 'agents',\n",
              " 'spasm',\n",
              " 'diabetes',\n",
              " 'seizures',\n",
              " 'result',\n",
              " 'urinary',\n",
              " 'compulsive',\n",
              " 'linked',\n",
              " 'necrosis',\n",
              " 'produced',\n",
              " 'simple',\n",
              " 'examined',\n",
              " 'localized',\n",
              " 'lesions',\n",
              " 'flow',\n",
              " 'overall',\n",
              " 'once',\n",
              " 'cmax',\n",
              " 'production',\n",
              " 'technique',\n",
              " 'oedema',\n",
              " 'major',\n",
              " 'global',\n",
              " 'tract',\n",
              " 'plus',\n",
              " 'medium',\n",
              " 'volume',\n",
              " 'bite',\n",
              " 'nervous',\n",
              " 'comparison',\n",
              " 'duration',\n",
              " 'pellets',\n",
              " 'interactions',\n",
              " 'rofecoxib',\n",
              " 'arrest',\n",
              " 'toxicity',\n",
              " 'assessment',\n",
              " 'co',\n",
              " 'naproxen',\n",
              " 'third',\n",
              " 'am',\n",
              " 'according',\n",
              " 'where',\n",
              " 'depersonalization',\n",
              " 'chest',\n",
              " 'taking',\n",
              " 'preparation',\n",
              " 'see',\n",
              " 'thus',\n",
              " 'emotional',\n",
              " 'methods',\n",
              " 'current',\n",
              " 'phosphate',\n",
              " 'beads',\n",
              " 'misoprostol',\n",
              " 'getting',\n",
              " 'diffusion',\n",
              " 'diabetic',\n",
              " 'determination',\n",
              " 'tolerance',\n",
              " 'outcome',\n",
              " 'erythema',\n",
              " 'recorded',\n",
              " 'degrees',\n",
              " 'soup',\n",
              " 'might',\n",
              " 'face',\n",
              " 'models',\n",
              " 'vision',\n",
              " 'peripheral',\n",
              " 'ventricular',\n",
              " 'off',\n",
              " 'dizzy',\n",
              " 'maximum',\n",
              " 'medications',\n",
              " 'dr',\n",
              " 'episode',\n",
              " 'novel',\n",
              " 'rates',\n",
              " 'carried',\n",
              " 'injuries',\n",
              " 'impairment',\n",
              " 'analgesia',\n",
              " 'mild',\n",
              " 'fever',\n",
              " 'second',\n",
              " 'crazy',\n",
              " 'fracture',\n",
              " 'making',\n",
              " 'whole',\n",
              " 'medical',\n",
              " 'against',\n",
              " 'uterine',\n",
              " 'tests',\n",
              " 'foot',\n",
              " 'interaction',\n",
              " 'creatinine',\n",
              " 'comparable',\n",
              " 'physical',\n",
              " 'neoplasm',\n",
              " 'extent',\n",
              " 'detection',\n",
              " 'hurt',\n",
              " 'considered',\n",
              " 'synthesis',\n",
              " 'commercial',\n",
              " 'ache',\n",
              " 'them',\n",
              " 'try',\n",
              " 'amount',\n",
              " 'patch',\n",
              " 'memory',\n",
              " 'expression',\n",
              " 'pruritus',\n",
              " 'responses',\n",
              " 'investigate',\n",
              " 'saline',\n",
              " 'friends',\n",
              " 'aspirin',\n",
              " 'characterized',\n",
              " 'design',\n",
              " 'microg',\n",
              " 'cookbook',\n",
              " 'stress',\n",
              " 'degree',\n",
              " 'count',\n",
              " 'intramuscular',\n",
              " 'top',\n",
              " 'children',\n",
              " 'central',\n",
              " 'prostaglandin',\n",
              " 'women',\n",
              " 'wheat',\n",
              " 'adderall',\n",
              " 'genital',\n",
              " 'abuse',\n",
              " 'drops',\n",
              " 'lack',\n",
              " 'buffer',\n",
              " 'specific',\n",
              " 'index',\n",
              " 'incidence',\n",
              " 'antiinflammatory',\n",
              " 'hplc',\n",
              " 'malignant',\n",
              " 'vivid',\n",
              " 'easy',\n",
              " 'alternative',\n",
              " 'flare',\n",
              " 'lipid',\n",
              " 'gf',\n",
              " 'cream',\n",
              " 'performance',\n",
              " 'influence',\n",
              " 'therefore',\n",
              " 'needed',\n",
              " 'obsessive',\n",
              " 'hungry',\n",
              " '2014',\n",
              " 'inhibited',\n",
              " 'paracetamol',\n",
              " 'delayed',\n",
              " 'really',\n",
              " 'loaded',\n",
              " 'fractures',\n",
              " 'since',\n",
              " 'fear',\n",
              " 'hunger',\n",
              " 'dic',\n",
              " 'few',\n",
              " 'enzyme',\n",
              " 'tissues',\n",
              " 'event',\n",
              " 'nauseous',\n",
              " 'looking',\n",
              " 'twice',\n",
              " 'intoxication',\n",
              " 'inhibitors',\n",
              " 'released',\n",
              " 'media',\n",
              " 'preparations',\n",
              " 'lung',\n",
              " 'hip',\n",
              " 'possible',\n",
              " 'open',\n",
              " 'ci',\n",
              " 'capsules',\n",
              " '6',\n",
              " 'upper',\n",
              " 'increasing',\n",
              " 'whether',\n",
              " 'activities',\n",
              " 'delicious',\n",
              " 'findings',\n",
              " 'several',\n",
              " 'mass',\n",
              " 'always',\n",
              " 'next',\n",
              " 'gi',\n",
              " 'asthma',\n",
              " 'beta',\n",
              " 'autographed',\n",
              " 'indicate',\n",
              " 'lesion',\n",
              " 'clinically',\n",
              " 'withdrawals',\n",
              " 'story',\n",
              " 'solubility',\n",
              " 'tongue',\n",
              " 'assess',\n",
              " 'value',\n",
              " 'bulimia',\n",
              " 'superior',\n",
              " 'sick',\n",
              " 'affected',\n",
              " 'problems',\n",
              " 'short',\n",
              " 'issues',\n",
              " 'additional',\n",
              " 'candidiasis',\n",
              " 'having',\n",
              " 'alpha',\n",
              " 'clearance',\n",
              " 'others',\n",
              " 'receiving',\n",
              " 'forms',\n",
              " 'sneezing',\n",
              " 'provided',\n",
              " 'characteristics',\n",
              " 'hepatitis',\n",
              " 'highly',\n",
              " 'cardiovascular',\n",
              " 'treat',\n",
              " 'morning',\n",
              " 'cramps',\n",
              " 'absence',\n",
              " 'away',\n",
              " 'analyzed',\n",
              " 'thinking',\n",
              " 'point',\n",
              " 'hand',\n",
              " 'coronary',\n",
              " 'own',\n",
              " 'euphoric',\n",
              " 'shoulder',\n",
              " 'angry',\n",
              " 'required',\n",
              " 'max',\n",
              " 'impaired',\n",
              " 'across',\n",
              " 'solutions',\n",
              " 'pneumonia',\n",
              " 'exhibited',\n",
              " 'scanning',\n",
              " 'rabbits',\n",
              " 'bleeding',\n",
              " 'nm',\n",
              " 'dpsgc',\n",
              " 'foods',\n",
              " 'learn',\n",
              " 'partial',\n",
              " 'hp',\n",
              " 'support',\n",
              " 'kinetics',\n",
              " 'consciousness',\n",
              " 've',\n",
              " 'block',\n",
              " 'sexual',\n",
              " 'modified',\n",
              " 'known',\n",
              " 'able',\n",
              " 'nerve',\n",
              " 'factor',\n",
              " 'chitosan',\n",
              " 'arterial',\n",
              " 'again',\n",
              " 'steroid',\n",
              " 'cambia',\n",
              " 'extraction',\n",
              " 'immune',\n",
              " 'terms',\n",
              " ...]"
            ]
          },
          "metadata": {
            "tags": []
          },
          "execution_count": 18
        }
      ]
    },
    {
      "cell_type": "code",
      "metadata": {
        "id": "yPWr03mls3VT",
        "outputId": "7587053c-d556-4f4e-badb-4667b855736a",
        "colab": {
          "base_uri": "https://localhost:8080/",
          "height": 17
        }
      },
      "source": [
        "model_path = path/'models'\n",
        "model_path.mkdir(exist_ok=True)\n",
        "url = 'http://files.fast.ai/models/wt103_v1/'\n",
        "download_url(f'{url}lstm_wt103.pth', model_path/'lstm_wt103.pth')\n",
        "download_url(f'{url}itos_wt103.pkl', model_path/'itos_wt103.pkl')"
      ],
      "execution_count": 19,
      "outputs": [
        {
          "output_type": "display_data",
          "data": {
            "text/html": [
              ""
            ],
            "text/plain": [
              "<IPython.core.display.HTML object>"
            ]
          },
          "metadata": {
            "tags": []
          }
        },
        {
          "output_type": "display_data",
          "data": {
            "text/html": [
              ""
            ],
            "text/plain": [
              "<IPython.core.display.HTML object>"
            ]
          },
          "metadata": {
            "tags": []
          }
        }
      ]
    },
    {
      "cell_type": "code",
      "metadata": {
        "id": "JRzvWg8RtGGr",
        "outputId": "e1202ad9-ef94-4bb3-92ea-3a1ba4291461",
        "colab": {
          "base_uri": "https://localhost:8080/",
          "height": 34
        }
      },
      "source": [
        "learn = language_model_learner(data_lm, AWD_LSTM, drop_mult=0.5)"
      ],
      "execution_count": 20,
      "outputs": [
        {
          "output_type": "stream",
          "text": [
            "Downloading https://s3.amazonaws.com/fast-ai-modelzoo/wt103-fwd.tgz\n"
          ],
          "name": "stdout"
        },
        {
          "output_type": "display_data",
          "data": {
            "text/html": [
              ""
            ],
            "text/plain": [
              "<IPython.core.display.HTML object>"
            ]
          },
          "metadata": {
            "tags": []
          }
        }
      ]
    },
    {
      "cell_type": "code",
      "metadata": {
        "id": "xKK7GeBev7Xn",
        "outputId": "4f8c7186-c798-42b1-8445-52ccaf19646b",
        "colab": {
          "base_uri": "https://localhost:8080/",
          "height": 80
        }
      },
      "source": [
        "learn.fit_one_cycle(1, 1e-2)"
      ],
      "execution_count": 21,
      "outputs": [
        {
          "output_type": "display_data",
          "data": {
            "text/html": [
              "<table border=\"1\" class=\"dataframe\">\n",
              "  <thead>\n",
              "    <tr style=\"text-align: left;\">\n",
              "      <th>epoch</th>\n",
              "      <th>train_loss</th>\n",
              "      <th>valid_loss</th>\n",
              "      <th>accuracy</th>\n",
              "      <th>time</th>\n",
              "    </tr>\n",
              "  </thead>\n",
              "  <tbody>\n",
              "    <tr>\n",
              "      <td>0</td>\n",
              "      <td>4.735190</td>\n",
              "      <td>4.195899</td>\n",
              "      <td>0.343845</td>\n",
              "      <td>22:44</td>\n",
              "    </tr>\n",
              "  </tbody>\n",
              "</table>"
            ],
            "text/plain": [
              "<IPython.core.display.HTML object>"
            ]
          },
          "metadata": {
            "tags": []
          }
        }
      ]
    },
    {
      "cell_type": "code",
      "metadata": {
        "id": "iB7rHGQCwd12",
        "outputId": "29ee3fb5-ab8a-4996-bba5-b0e4c807c3b2",
        "colab": {
          "base_uri": "https://localhost:8080/",
          "height": 80
        }
      },
      "source": [
        "learn.fit_one_cycle(1, 1e-2)"
      ],
      "execution_count": 22,
      "outputs": [
        {
          "output_type": "display_data",
          "data": {
            "text/html": [
              "<table border=\"1\" class=\"dataframe\">\n",
              "  <thead>\n",
              "    <tr style=\"text-align: left;\">\n",
              "      <th>epoch</th>\n",
              "      <th>train_loss</th>\n",
              "      <th>valid_loss</th>\n",
              "      <th>accuracy</th>\n",
              "      <th>time</th>\n",
              "    </tr>\n",
              "  </thead>\n",
              "  <tbody>\n",
              "    <tr>\n",
              "      <td>0</td>\n",
              "      <td>4.002422</td>\n",
              "      <td>3.813404</td>\n",
              "      <td>0.381284</td>\n",
              "      <td>22:45</td>\n",
              "    </tr>\n",
              "  </tbody>\n",
              "</table>"
            ],
            "text/plain": [
              "<IPython.core.display.HTML object>"
            ]
          },
          "metadata": {
            "tags": []
          }
        }
      ]
    },
    {
      "cell_type": "code",
      "metadata": {
        "id": "_BnSuAeCwkBe",
        "outputId": "382903b5-5f4f-4b7e-ede3-f89ef6a2954e",
        "colab": {
          "base_uri": "https://localhost:8080/",
          "height": 80
        }
      },
      "source": [
        "learn.fit_one_cycle(1, 1e-3)"
      ],
      "execution_count": 23,
      "outputs": [
        {
          "output_type": "display_data",
          "data": {
            "text/html": [
              "<table border=\"1\" class=\"dataframe\">\n",
              "  <thead>\n",
              "    <tr style=\"text-align: left;\">\n",
              "      <th>epoch</th>\n",
              "      <th>train_loss</th>\n",
              "      <th>valid_loss</th>\n",
              "      <th>accuracy</th>\n",
              "      <th>time</th>\n",
              "    </tr>\n",
              "  </thead>\n",
              "  <tbody>\n",
              "    <tr>\n",
              "      <td>0</td>\n",
              "      <td>3.723122</td>\n",
              "      <td>3.767756</td>\n",
              "      <td>0.386235</td>\n",
              "      <td>22:44</td>\n",
              "    </tr>\n",
              "  </tbody>\n",
              "</table>"
            ],
            "text/plain": [
              "<IPython.core.display.HTML object>"
            ]
          },
          "metadata": {
            "tags": []
          }
        }
      ]
    },
    {
      "cell_type": "code",
      "metadata": {
        "id": "MuTm-RFjwrEX",
        "outputId": "b67a25f8-0bd9-41d6-cda1-8047628753d2",
        "colab": {
          "base_uri": "https://localhost:8080/",
          "height": 80
        }
      },
      "source": [
        "learn.fit_one_cycle(1, 1e-3)"
      ],
      "execution_count": 24,
      "outputs": [
        {
          "output_type": "display_data",
          "data": {
            "text/html": [
              "<table border=\"1\" class=\"dataframe\">\n",
              "  <thead>\n",
              "    <tr style=\"text-align: left;\">\n",
              "      <th>epoch</th>\n",
              "      <th>train_loss</th>\n",
              "      <th>valid_loss</th>\n",
              "      <th>accuracy</th>\n",
              "      <th>time</th>\n",
              "    </tr>\n",
              "  </thead>\n",
              "  <tbody>\n",
              "    <tr>\n",
              "      <td>0</td>\n",
              "      <td>3.692856</td>\n",
              "      <td>3.735448</td>\n",
              "      <td>0.389759</td>\n",
              "      <td>22:49</td>\n",
              "    </tr>\n",
              "  </tbody>\n",
              "</table>"
            ],
            "text/plain": [
              "<IPython.core.display.HTML object>"
            ]
          },
          "metadata": {
            "tags": []
          }
        }
      ]
    },
    {
      "cell_type": "code",
      "metadata": {
        "id": "1Er2ExO8wr7Y"
      },
      "source": [
        "learn.save_encoder('pubmed_cadec_twadrl_mixed_fold3_first')"
      ],
      "execution_count": 25,
      "outputs": []
    },
    {
      "cell_type": "code",
      "metadata": {
        "id": "z52cZs2qwvad",
        "outputId": "5ca303ec-a0d0-41e8-bb01-14f1ba1e92e8",
        "colab": {
          "base_uri": "https://localhost:8080/",
          "height": 80
        }
      },
      "source": [
        "learn = text_classifier_learner(data_clas,AWD_LSTM, drop_mult=0.5)\n",
        "learn.load_encoder('pubmed_cadec_twadrl_mixed_fold3_first')\n",
        "learn.fit_one_cycle(1, 1e-2)"
      ],
      "execution_count": 26,
      "outputs": [
        {
          "output_type": "display_data",
          "data": {
            "text/html": [
              "<table border=\"1\" class=\"dataframe\">\n",
              "  <thead>\n",
              "    <tr style=\"text-align: left;\">\n",
              "      <th>epoch</th>\n",
              "      <th>train_loss</th>\n",
              "      <th>valid_loss</th>\n",
              "      <th>accuracy</th>\n",
              "      <th>time</th>\n",
              "    </tr>\n",
              "  </thead>\n",
              "  <tbody>\n",
              "    <tr>\n",
              "      <td>0</td>\n",
              "      <td>7.123549</td>\n",
              "      <td>6.049656</td>\n",
              "      <td>0.109244</td>\n",
              "      <td>00:21</td>\n",
              "    </tr>\n",
              "  </tbody>\n",
              "</table>"
            ],
            "text/plain": [
              "<IPython.core.display.HTML object>"
            ]
          },
          "metadata": {
            "tags": []
          }
        }
      ]
    },
    {
      "cell_type": "code",
      "metadata": {
        "id": "ImwQP1PJwzxd",
        "outputId": "7b7c0f55-4e5b-43d9-f299-04097e787133",
        "colab": {
          "base_uri": "https://localhost:8080/",
          "height": 80
        }
      },
      "source": [
        "learn.freeze_to(-2)\n",
        "learn.fit_one_cycle(1, slice(5e-3/2., 5e-3))"
      ],
      "execution_count": 27,
      "outputs": [
        {
          "output_type": "display_data",
          "data": {
            "text/html": [
              "<table border=\"1\" class=\"dataframe\">\n",
              "  <thead>\n",
              "    <tr style=\"text-align: left;\">\n",
              "      <th>epoch</th>\n",
              "      <th>train_loss</th>\n",
              "      <th>valid_loss</th>\n",
              "      <th>accuracy</th>\n",
              "      <th>time</th>\n",
              "    </tr>\n",
              "  </thead>\n",
              "  <tbody>\n",
              "    <tr>\n",
              "      <td>0</td>\n",
              "      <td>6.158278</td>\n",
              "      <td>5.180231</td>\n",
              "      <td>0.142857</td>\n",
              "      <td>00:28</td>\n",
              "    </tr>\n",
              "  </tbody>\n",
              "</table>"
            ],
            "text/plain": [
              "<IPython.core.display.HTML object>"
            ]
          },
          "metadata": {
            "tags": []
          }
        }
      ]
    },
    {
      "cell_type": "code",
      "metadata": {
        "id": "Owff_BJXw53u",
        "outputId": "efb57c60-0260-4b25-c864-673d93e9f4f3",
        "colab": {
          "base_uri": "https://localhost:8080/",
          "height": 80
        }
      },
      "source": [
        "learn.unfreeze()\n",
        "learn.fit_one_cycle(1, slice(2e-3/100, 2e-3))"
      ],
      "execution_count": 28,
      "outputs": [
        {
          "output_type": "display_data",
          "data": {
            "text/html": [
              "<table border=\"1\" class=\"dataframe\">\n",
              "  <thead>\n",
              "    <tr style=\"text-align: left;\">\n",
              "      <th>epoch</th>\n",
              "      <th>train_loss</th>\n",
              "      <th>valid_loss</th>\n",
              "      <th>accuracy</th>\n",
              "      <th>time</th>\n",
              "    </tr>\n",
              "  </thead>\n",
              "  <tbody>\n",
              "    <tr>\n",
              "      <td>0</td>\n",
              "      <td>5.674286</td>\n",
              "      <td>4.982857</td>\n",
              "      <td>0.142857</td>\n",
              "      <td>01:04</td>\n",
              "    </tr>\n",
              "  </tbody>\n",
              "</table>"
            ],
            "text/plain": [
              "<IPython.core.display.HTML object>"
            ]
          },
          "metadata": {
            "tags": []
          }
        }
      ]
    },
    {
      "cell_type": "code",
      "metadata": {
        "id": "lqAyu56V8Waq",
        "outputId": "0d24d20e-896f-4007-d1cf-e8ea7778f31d",
        "colab": {
          "base_uri": "https://localhost:8080/",
          "height": 111
        }
      },
      "source": [
        "learn.fit_one_cycle(2, slice(2e-3/100, 2e-3))"
      ],
      "execution_count": 29,
      "outputs": [
        {
          "output_type": "display_data",
          "data": {
            "text/html": [
              "<table border=\"1\" class=\"dataframe\">\n",
              "  <thead>\n",
              "    <tr style=\"text-align: left;\">\n",
              "      <th>epoch</th>\n",
              "      <th>train_loss</th>\n",
              "      <th>valid_loss</th>\n",
              "      <th>accuracy</th>\n",
              "      <th>time</th>\n",
              "    </tr>\n",
              "  </thead>\n",
              "  <tbody>\n",
              "    <tr>\n",
              "      <td>0</td>\n",
              "      <td>5.405995</td>\n",
              "      <td>4.543374</td>\n",
              "      <td>0.210084</td>\n",
              "      <td>01:09</td>\n",
              "    </tr>\n",
              "    <tr>\n",
              "      <td>1</td>\n",
              "      <td>5.147706</td>\n",
              "      <td>4.353536</td>\n",
              "      <td>0.210084</td>\n",
              "      <td>01:09</td>\n",
              "    </tr>\n",
              "  </tbody>\n",
              "</table>"
            ],
            "text/plain": [
              "<IPython.core.display.HTML object>"
            ]
          },
          "metadata": {
            "tags": []
          }
        }
      ]
    },
    {
      "cell_type": "code",
      "metadata": {
        "id": "a7I1xMRp8bUd",
        "outputId": "d6b10732-d9d4-41b4-d25f-a5d6f6f54483",
        "colab": {
          "base_uri": "https://localhost:8080/",
          "height": 111
        }
      },
      "source": [
        "learn.fit_one_cycle(2, slice(2e-3/100, 2e-3))"
      ],
      "execution_count": 30,
      "outputs": [
        {
          "output_type": "display_data",
          "data": {
            "text/html": [
              "<table border=\"1\" class=\"dataframe\">\n",
              "  <thead>\n",
              "    <tr style=\"text-align: left;\">\n",
              "      <th>epoch</th>\n",
              "      <th>train_loss</th>\n",
              "      <th>valid_loss</th>\n",
              "      <th>accuracy</th>\n",
              "      <th>time</th>\n",
              "    </tr>\n",
              "  </thead>\n",
              "  <tbody>\n",
              "    <tr>\n",
              "      <td>0</td>\n",
              "      <td>4.883753</td>\n",
              "      <td>4.110060</td>\n",
              "      <td>0.285714</td>\n",
              "      <td>01:06</td>\n",
              "    </tr>\n",
              "    <tr>\n",
              "      <td>1</td>\n",
              "      <td>4.720159</td>\n",
              "      <td>4.056059</td>\n",
              "      <td>0.277311</td>\n",
              "      <td>01:03</td>\n",
              "    </tr>\n",
              "  </tbody>\n",
              "</table>"
            ],
            "text/plain": [
              "<IPython.core.display.HTML object>"
            ]
          },
          "metadata": {
            "tags": []
          }
        }
      ]
    },
    {
      "cell_type": "code",
      "metadata": {
        "id": "UAnti-XmGVfO",
        "outputId": "417185c0-5613-4843-c22d-d0a0f3efdbb7",
        "colab": {
          "base_uri": "https://localhost:8080/",
          "height": 111
        }
      },
      "source": [
        "learn.fit_one_cycle(2, slice(2e-3/100, 2e-3))"
      ],
      "execution_count": 31,
      "outputs": [
        {
          "output_type": "display_data",
          "data": {
            "text/html": [
              "<table border=\"1\" class=\"dataframe\">\n",
              "  <thead>\n",
              "    <tr style=\"text-align: left;\">\n",
              "      <th>epoch</th>\n",
              "      <th>train_loss</th>\n",
              "      <th>valid_loss</th>\n",
              "      <th>accuracy</th>\n",
              "      <th>time</th>\n",
              "    </tr>\n",
              "  </thead>\n",
              "  <tbody>\n",
              "    <tr>\n",
              "      <td>0</td>\n",
              "      <td>4.488265</td>\n",
              "      <td>3.793927</td>\n",
              "      <td>0.352941</td>\n",
              "      <td>01:06</td>\n",
              "    </tr>\n",
              "    <tr>\n",
              "      <td>1</td>\n",
              "      <td>4.340564</td>\n",
              "      <td>3.775428</td>\n",
              "      <td>0.327731</td>\n",
              "      <td>01:04</td>\n",
              "    </tr>\n",
              "  </tbody>\n",
              "</table>"
            ],
            "text/plain": [
              "<IPython.core.display.HTML object>"
            ]
          },
          "metadata": {
            "tags": []
          }
        }
      ]
    },
    {
      "cell_type": "code",
      "metadata": {
        "id": "bIft7W25GwSu",
        "outputId": "ac633cba-e5ad-4e8d-9395-80ad9799ef4b",
        "colab": {
          "base_uri": "https://localhost:8080/",
          "height": 111
        }
      },
      "source": [
        "learn.fit_one_cycle(2, slice(2e-3/100, 2e-3))"
      ],
      "execution_count": 32,
      "outputs": [
        {
          "output_type": "display_data",
          "data": {
            "text/html": [
              "<table border=\"1\" class=\"dataframe\">\n",
              "  <thead>\n",
              "    <tr style=\"text-align: left;\">\n",
              "      <th>epoch</th>\n",
              "      <th>train_loss</th>\n",
              "      <th>valid_loss</th>\n",
              "      <th>accuracy</th>\n",
              "      <th>time</th>\n",
              "    </tr>\n",
              "  </thead>\n",
              "  <tbody>\n",
              "    <tr>\n",
              "      <td>0</td>\n",
              "      <td>4.126386</td>\n",
              "      <td>3.607996</td>\n",
              "      <td>0.361345</td>\n",
              "      <td>01:09</td>\n",
              "    </tr>\n",
              "    <tr>\n",
              "      <td>1</td>\n",
              "      <td>3.965977</td>\n",
              "      <td>3.542676</td>\n",
              "      <td>0.352941</td>\n",
              "      <td>01:10</td>\n",
              "    </tr>\n",
              "  </tbody>\n",
              "</table>"
            ],
            "text/plain": [
              "<IPython.core.display.HTML object>"
            ]
          },
          "metadata": {
            "tags": []
          }
        }
      ]
    },
    {
      "cell_type": "code",
      "metadata": {
        "id": "EEHszVRvGyFt",
        "outputId": "1bedd7e8-f269-4432-caf7-b3d4a1702d25",
        "colab": {
          "base_uri": "https://localhost:8080/",
          "height": 111
        }
      },
      "source": [
        "learn.fit_one_cycle(2, slice(2e-3/100, 2e-3))"
      ],
      "execution_count": 33,
      "outputs": [
        {
          "output_type": "display_data",
          "data": {
            "text/html": [
              "<table border=\"1\" class=\"dataframe\">\n",
              "  <thead>\n",
              "    <tr style=\"text-align: left;\">\n",
              "      <th>epoch</th>\n",
              "      <th>train_loss</th>\n",
              "      <th>valid_loss</th>\n",
              "      <th>accuracy</th>\n",
              "      <th>time</th>\n",
              "    </tr>\n",
              "  </thead>\n",
              "  <tbody>\n",
              "    <tr>\n",
              "      <td>0</td>\n",
              "      <td>3.787757</td>\n",
              "      <td>3.413383</td>\n",
              "      <td>0.378151</td>\n",
              "      <td>01:05</td>\n",
              "    </tr>\n",
              "    <tr>\n",
              "      <td>1</td>\n",
              "      <td>3.657088</td>\n",
              "      <td>3.367609</td>\n",
              "      <td>0.386555</td>\n",
              "      <td>01:09</td>\n",
              "    </tr>\n",
              "  </tbody>\n",
              "</table>"
            ],
            "text/plain": [
              "<IPython.core.display.HTML object>"
            ]
          },
          "metadata": {
            "tags": []
          }
        }
      ]
    },
    {
      "cell_type": "code",
      "metadata": {
        "id": "XsHfrhCHG3dN",
        "outputId": "4c24e1e0-491a-4b47-f0b2-3b38a5fbcb61",
        "colab": {
          "base_uri": "https://localhost:8080/",
          "height": 173
        }
      },
      "source": [
        "learn.fit_one_cycle(4, slice(2e-3/100, 2e-3))"
      ],
      "execution_count": 34,
      "outputs": [
        {
          "output_type": "display_data",
          "data": {
            "text/html": [
              "<table border=\"1\" class=\"dataframe\">\n",
              "  <thead>\n",
              "    <tr style=\"text-align: left;\">\n",
              "      <th>epoch</th>\n",
              "      <th>train_loss</th>\n",
              "      <th>valid_loss</th>\n",
              "      <th>accuracy</th>\n",
              "      <th>time</th>\n",
              "    </tr>\n",
              "  </thead>\n",
              "  <tbody>\n",
              "    <tr>\n",
              "      <td>0</td>\n",
              "      <td>3.495710</td>\n",
              "      <td>3.258409</td>\n",
              "      <td>0.369748</td>\n",
              "      <td>01:08</td>\n",
              "    </tr>\n",
              "    <tr>\n",
              "      <td>1</td>\n",
              "      <td>3.393587</td>\n",
              "      <td>3.177523</td>\n",
              "      <td>0.411765</td>\n",
              "      <td>01:07</td>\n",
              "    </tr>\n",
              "    <tr>\n",
              "      <td>2</td>\n",
              "      <td>3.192774</td>\n",
              "      <td>3.213668</td>\n",
              "      <td>0.403361</td>\n",
              "      <td>01:08</td>\n",
              "    </tr>\n",
              "    <tr>\n",
              "      <td>3</td>\n",
              "      <td>3.030862</td>\n",
              "      <td>3.162535</td>\n",
              "      <td>0.403361</td>\n",
              "      <td>01:05</td>\n",
              "    </tr>\n",
              "  </tbody>\n",
              "</table>"
            ],
            "text/plain": [
              "<IPython.core.display.HTML object>"
            ]
          },
          "metadata": {
            "tags": []
          }
        }
      ]
    },
    {
      "cell_type": "code",
      "metadata": {
        "id": "0Zsd99isb9EQ",
        "outputId": "cf231f06-c4e9-408a-ced0-bf338171851c",
        "colab": {
          "base_uri": "https://localhost:8080/",
          "height": 173
        }
      },
      "source": [
        "learn.fit_one_cycle(4, slice(2e-3/100, 2e-3))"
      ],
      "execution_count": 35,
      "outputs": [
        {
          "output_type": "display_data",
          "data": {
            "text/html": [
              "<table border=\"1\" class=\"dataframe\">\n",
              "  <thead>\n",
              "    <tr style=\"text-align: left;\">\n",
              "      <th>epoch</th>\n",
              "      <th>train_loss</th>\n",
              "      <th>valid_loss</th>\n",
              "      <th>accuracy</th>\n",
              "      <th>time</th>\n",
              "    </tr>\n",
              "  </thead>\n",
              "  <tbody>\n",
              "    <tr>\n",
              "      <td>0</td>\n",
              "      <td>2.832110</td>\n",
              "      <td>3.116830</td>\n",
              "      <td>0.403361</td>\n",
              "      <td>01:08</td>\n",
              "    </tr>\n",
              "    <tr>\n",
              "      <td>1</td>\n",
              "      <td>2.800845</td>\n",
              "      <td>3.077656</td>\n",
              "      <td>0.411765</td>\n",
              "      <td>01:03</td>\n",
              "    </tr>\n",
              "    <tr>\n",
              "      <td>2</td>\n",
              "      <td>2.624548</td>\n",
              "      <td>3.060891</td>\n",
              "      <td>0.403361</td>\n",
              "      <td>01:03</td>\n",
              "    </tr>\n",
              "    <tr>\n",
              "      <td>3</td>\n",
              "      <td>2.484649</td>\n",
              "      <td>3.052625</td>\n",
              "      <td>0.411765</td>\n",
              "      <td>01:13</td>\n",
              "    </tr>\n",
              "  </tbody>\n",
              "</table>"
            ],
            "text/plain": [
              "<IPython.core.display.HTML object>"
            ]
          },
          "metadata": {
            "tags": []
          }
        }
      ]
    },
    {
      "cell_type": "code",
      "metadata": {
        "id": "atNWNKDFPbuI",
        "outputId": "954c44dc-e406-4c04-8d39-1a79a2ae1031",
        "colab": {
          "base_uri": "https://localhost:8080/",
          "height": 173
        }
      },
      "source": [
        "learn.fit_one_cycle(4, slice(2e-3/100, 2e-3))"
      ],
      "execution_count": 36,
      "outputs": [
        {
          "output_type": "display_data",
          "data": {
            "text/html": [
              "<table border=\"1\" class=\"dataframe\">\n",
              "  <thead>\n",
              "    <tr style=\"text-align: left;\">\n",
              "      <th>epoch</th>\n",
              "      <th>train_loss</th>\n",
              "      <th>valid_loss</th>\n",
              "      <th>accuracy</th>\n",
              "      <th>time</th>\n",
              "    </tr>\n",
              "  </thead>\n",
              "  <tbody>\n",
              "    <tr>\n",
              "      <td>0</td>\n",
              "      <td>2.324607</td>\n",
              "      <td>3.024038</td>\n",
              "      <td>0.420168</td>\n",
              "      <td>01:07</td>\n",
              "    </tr>\n",
              "    <tr>\n",
              "      <td>1</td>\n",
              "      <td>2.276489</td>\n",
              "      <td>2.962050</td>\n",
              "      <td>0.462185</td>\n",
              "      <td>01:07</td>\n",
              "    </tr>\n",
              "    <tr>\n",
              "      <td>2</td>\n",
              "      <td>2.124949</td>\n",
              "      <td>2.959620</td>\n",
              "      <td>0.462185</td>\n",
              "      <td>01:06</td>\n",
              "    </tr>\n",
              "    <tr>\n",
              "      <td>3</td>\n",
              "      <td>1.962298</td>\n",
              "      <td>2.951863</td>\n",
              "      <td>0.462185</td>\n",
              "      <td>01:04</td>\n",
              "    </tr>\n",
              "  </tbody>\n",
              "</table>"
            ],
            "text/plain": [
              "<IPython.core.display.HTML object>"
            ]
          },
          "metadata": {
            "tags": []
          }
        }
      ]
    },
    {
      "cell_type": "code",
      "metadata": {
        "id": "rKrBTZ0T1uVA",
        "outputId": "55554405-30c2-4fe0-ce03-8ccbf8fc9799",
        "colab": {
          "base_uri": "https://localhost:8080/",
          "height": 173
        }
      },
      "source": [
        "learn.fit_one_cycle(4, slice(2e-3/100, 2e-3))"
      ],
      "execution_count": 37,
      "outputs": [
        {
          "output_type": "display_data",
          "data": {
            "text/html": [
              "<table border=\"1\" class=\"dataframe\">\n",
              "  <thead>\n",
              "    <tr style=\"text-align: left;\">\n",
              "      <th>epoch</th>\n",
              "      <th>train_loss</th>\n",
              "      <th>valid_loss</th>\n",
              "      <th>accuracy</th>\n",
              "      <th>time</th>\n",
              "    </tr>\n",
              "  </thead>\n",
              "  <tbody>\n",
              "    <tr>\n",
              "      <td>0</td>\n",
              "      <td>1.838814</td>\n",
              "      <td>2.972942</td>\n",
              "      <td>0.436975</td>\n",
              "      <td>01:03</td>\n",
              "    </tr>\n",
              "    <tr>\n",
              "      <td>1</td>\n",
              "      <td>1.820097</td>\n",
              "      <td>2.936259</td>\n",
              "      <td>0.470588</td>\n",
              "      <td>01:08</td>\n",
              "    </tr>\n",
              "    <tr>\n",
              "      <td>2</td>\n",
              "      <td>1.674773</td>\n",
              "      <td>3.013499</td>\n",
              "      <td>0.436975</td>\n",
              "      <td>01:04</td>\n",
              "    </tr>\n",
              "    <tr>\n",
              "      <td>3</td>\n",
              "      <td>1.520380</td>\n",
              "      <td>2.961553</td>\n",
              "      <td>0.403361</td>\n",
              "      <td>01:08</td>\n",
              "    </tr>\n",
              "  </tbody>\n",
              "</table>"
            ],
            "text/plain": [
              "<IPython.core.display.HTML object>"
            ]
          },
          "metadata": {
            "tags": []
          }
        }
      ]
    },
    {
      "cell_type": "code",
      "metadata": {
        "id": "ajQC6WDg1yA9",
        "outputId": "d9efd076-b843-4187-b082-b4cb2addf123",
        "colab": {
          "base_uri": "https://localhost:8080/",
          "height": 173
        }
      },
      "source": [
        "learn.fit_one_cycle(4, slice(2e-3/100, 2e-3))"
      ],
      "execution_count": 38,
      "outputs": [
        {
          "output_type": "display_data",
          "data": {
            "text/html": [
              "<table border=\"1\" class=\"dataframe\">\n",
              "  <thead>\n",
              "    <tr style=\"text-align: left;\">\n",
              "      <th>epoch</th>\n",
              "      <th>train_loss</th>\n",
              "      <th>valid_loss</th>\n",
              "      <th>accuracy</th>\n",
              "      <th>time</th>\n",
              "    </tr>\n",
              "  </thead>\n",
              "  <tbody>\n",
              "    <tr>\n",
              "      <td>0</td>\n",
              "      <td>1.388223</td>\n",
              "      <td>3.018620</td>\n",
              "      <td>0.436975</td>\n",
              "      <td>01:10</td>\n",
              "    </tr>\n",
              "    <tr>\n",
              "      <td>1</td>\n",
              "      <td>1.392907</td>\n",
              "      <td>2.977763</td>\n",
              "      <td>0.453782</td>\n",
              "      <td>01:08</td>\n",
              "    </tr>\n",
              "    <tr>\n",
              "      <td>2</td>\n",
              "      <td>1.292175</td>\n",
              "      <td>3.042547</td>\n",
              "      <td>0.470588</td>\n",
              "      <td>01:07</td>\n",
              "    </tr>\n",
              "    <tr>\n",
              "      <td>3</td>\n",
              "      <td>1.192472</td>\n",
              "      <td>3.036342</td>\n",
              "      <td>0.453782</td>\n",
              "      <td>01:07</td>\n",
              "    </tr>\n",
              "  </tbody>\n",
              "</table>"
            ],
            "text/plain": [
              "<IPython.core.display.HTML object>"
            ]
          },
          "metadata": {
            "tags": []
          }
        }
      ]
    },
    {
      "cell_type": "code",
      "metadata": {
        "id": "KKydb0B4BKGk",
        "outputId": "17c4f7ab-f131-414a-c923-da0b22030e98",
        "colab": {
          "base_uri": "https://localhost:8080/",
          "height": 173
        }
      },
      "source": [
        "learn.fit_one_cycle(4, slice(2e-3/100, 2e-3))"
      ],
      "execution_count": 39,
      "outputs": [
        {
          "output_type": "display_data",
          "data": {
            "text/html": [
              "<table border=\"1\" class=\"dataframe\">\n",
              "  <thead>\n",
              "    <tr style=\"text-align: left;\">\n",
              "      <th>epoch</th>\n",
              "      <th>train_loss</th>\n",
              "      <th>valid_loss</th>\n",
              "      <th>accuracy</th>\n",
              "      <th>time</th>\n",
              "    </tr>\n",
              "  </thead>\n",
              "  <tbody>\n",
              "    <tr>\n",
              "      <td>0</td>\n",
              "      <td>1.072422</td>\n",
              "      <td>2.995232</td>\n",
              "      <td>0.445378</td>\n",
              "      <td>01:08</td>\n",
              "    </tr>\n",
              "    <tr>\n",
              "      <td>1</td>\n",
              "      <td>1.096747</td>\n",
              "      <td>3.022413</td>\n",
              "      <td>0.445378</td>\n",
              "      <td>01:07</td>\n",
              "    </tr>\n",
              "    <tr>\n",
              "      <td>2</td>\n",
              "      <td>1.005745</td>\n",
              "      <td>3.119431</td>\n",
              "      <td>0.428571</td>\n",
              "      <td>01:06</td>\n",
              "    </tr>\n",
              "    <tr>\n",
              "      <td>3</td>\n",
              "      <td>0.901177</td>\n",
              "      <td>3.121208</td>\n",
              "      <td>0.436975</td>\n",
              "      <td>01:06</td>\n",
              "    </tr>\n",
              "  </tbody>\n",
              "</table>"
            ],
            "text/plain": [
              "<IPython.core.display.HTML object>"
            ]
          },
          "metadata": {
            "tags": []
          }
        }
      ]
    },
    {
      "cell_type": "code",
      "metadata": {
        "id": "T2APKtFKBpGY",
        "outputId": "09cb358c-cb64-4496-e5e3-23068df075ff",
        "colab": {
          "base_uri": "https://localhost:8080/",
          "height": 173
        }
      },
      "source": [
        "learn.fit_one_cycle(4, slice(2e-3/100, 2e-3))"
      ],
      "execution_count": 40,
      "outputs": [
        {
          "output_type": "display_data",
          "data": {
            "text/html": [
              "<table border=\"1\" class=\"dataframe\">\n",
              "  <thead>\n",
              "    <tr style=\"text-align: left;\">\n",
              "      <th>epoch</th>\n",
              "      <th>train_loss</th>\n",
              "      <th>valid_loss</th>\n",
              "      <th>accuracy</th>\n",
              "      <th>time</th>\n",
              "    </tr>\n",
              "  </thead>\n",
              "  <tbody>\n",
              "    <tr>\n",
              "      <td>0</td>\n",
              "      <td>0.851493</td>\n",
              "      <td>3.157994</td>\n",
              "      <td>0.436975</td>\n",
              "      <td>01:07</td>\n",
              "    </tr>\n",
              "    <tr>\n",
              "      <td>1</td>\n",
              "      <td>0.876906</td>\n",
              "      <td>3.136255</td>\n",
              "      <td>0.487395</td>\n",
              "      <td>01:12</td>\n",
              "    </tr>\n",
              "    <tr>\n",
              "      <td>2</td>\n",
              "      <td>0.801841</td>\n",
              "      <td>3.155407</td>\n",
              "      <td>0.495798</td>\n",
              "      <td>01:10</td>\n",
              "    </tr>\n",
              "    <tr>\n",
              "      <td>3</td>\n",
              "      <td>0.724332</td>\n",
              "      <td>3.137022</td>\n",
              "      <td>0.504202</td>\n",
              "      <td>01:03</td>\n",
              "    </tr>\n",
              "  </tbody>\n",
              "</table>"
            ],
            "text/plain": [
              "<IPython.core.display.HTML object>"
            ]
          },
          "metadata": {
            "tags": []
          }
        }
      ]
    },
    {
      "cell_type": "code",
      "metadata": {
        "id": "qtTypA1sPgLU",
        "outputId": "ce18aaee-5a39-4041-9794-0aef4d373efa",
        "colab": {
          "base_uri": "https://localhost:8080/",
          "height": 111
        }
      },
      "source": [
        "learn.fit_one_cycle(2, slice(2e-3/100, 2e-3))"
      ],
      "execution_count": 41,
      "outputs": [
        {
          "output_type": "display_data",
          "data": {
            "text/html": [
              "<table border=\"1\" class=\"dataframe\">\n",
              "  <thead>\n",
              "    <tr style=\"text-align: left;\">\n",
              "      <th>epoch</th>\n",
              "      <th>train_loss</th>\n",
              "      <th>valid_loss</th>\n",
              "      <th>accuracy</th>\n",
              "      <th>time</th>\n",
              "    </tr>\n",
              "  </thead>\n",
              "  <tbody>\n",
              "    <tr>\n",
              "      <td>0</td>\n",
              "      <td>0.723829</td>\n",
              "      <td>3.213346</td>\n",
              "      <td>0.487395</td>\n",
              "      <td>01:06</td>\n",
              "    </tr>\n",
              "    <tr>\n",
              "      <td>1</td>\n",
              "      <td>0.692640</td>\n",
              "      <td>3.326972</td>\n",
              "      <td>0.487395</td>\n",
              "      <td>01:04</td>\n",
              "    </tr>\n",
              "  </tbody>\n",
              "</table>"
            ],
            "text/plain": [
              "<IPython.core.display.HTML object>"
            ]
          },
          "metadata": {
            "tags": []
          }
        }
      ]
    },
    {
      "cell_type": "code",
      "metadata": {
        "id": "b242kBsTUp9Y",
        "outputId": "2fcd8212-f160-4fb7-dde5-6a1d69a3b5e7",
        "colab": {
          "base_uri": "https://localhost:8080/",
          "height": 111
        }
      },
      "source": [
        "learn.fit_one_cycle(2, slice(2e-3/100, 2e-3))"
      ],
      "execution_count": 42,
      "outputs": [
        {
          "output_type": "display_data",
          "data": {
            "text/html": [
              "<table border=\"1\" class=\"dataframe\">\n",
              "  <thead>\n",
              "    <tr style=\"text-align: left;\">\n",
              "      <th>epoch</th>\n",
              "      <th>train_loss</th>\n",
              "      <th>valid_loss</th>\n",
              "      <th>accuracy</th>\n",
              "      <th>time</th>\n",
              "    </tr>\n",
              "  </thead>\n",
              "  <tbody>\n",
              "    <tr>\n",
              "      <td>0</td>\n",
              "      <td>0.684444</td>\n",
              "      <td>3.409678</td>\n",
              "      <td>0.470588</td>\n",
              "      <td>01:03</td>\n",
              "    </tr>\n",
              "    <tr>\n",
              "      <td>1</td>\n",
              "      <td>0.626427</td>\n",
              "      <td>3.325935</td>\n",
              "      <td>0.487395</td>\n",
              "      <td>01:05</td>\n",
              "    </tr>\n",
              "  </tbody>\n",
              "</table>"
            ],
            "text/plain": [
              "<IPython.core.display.HTML object>"
            ]
          },
          "metadata": {
            "tags": []
          }
        }
      ]
    },
    {
      "cell_type": "code",
      "metadata": {
        "id": "Duwf1Ih5VeDZ",
        "outputId": "431ff86e-41cd-47c2-8933-dd162edbfe11",
        "colab": {
          "base_uri": "https://localhost:8080/",
          "height": 80
        }
      },
      "source": [
        "learn.fit_one_cycle(1, slice(2e-3/100, 2e-3))"
      ],
      "execution_count": 43,
      "outputs": [
        {
          "output_type": "display_data",
          "data": {
            "text/html": [
              "<table border=\"1\" class=\"dataframe\">\n",
              "  <thead>\n",
              "    <tr style=\"text-align: left;\">\n",
              "      <th>epoch</th>\n",
              "      <th>train_loss</th>\n",
              "      <th>valid_loss</th>\n",
              "      <th>accuracy</th>\n",
              "      <th>time</th>\n",
              "    </tr>\n",
              "  </thead>\n",
              "  <tbody>\n",
              "    <tr>\n",
              "      <td>0</td>\n",
              "      <td>0.624220</td>\n",
              "      <td>3.443913</td>\n",
              "      <td>0.445378</td>\n",
              "      <td>01:09</td>\n",
              "    </tr>\n",
              "  </tbody>\n",
              "</table>"
            ],
            "text/plain": [
              "<IPython.core.display.HTML object>"
            ]
          },
          "metadata": {
            "tags": []
          }
        }
      ]
    },
    {
      "cell_type": "code",
      "metadata": {
        "id": "c65d-osfDUXm"
      },
      "source": [
        "# save the best model\n",
        "\n",
        "learn.save_encoder('pubmed_cadec_twadrl_mixed_fold3')"
      ],
      "execution_count": 44,
      "outputs": []
    },
    {
      "cell_type": "code",
      "metadata": {
        "id": "5h-A_GpAIYg8",
        "outputId": "333980b0-c7c7-4e7e-ae98-c9453224300f",
        "colab": {
          "base_uri": "https://localhost:8080/",
          "height": 80
        }
      },
      "source": [
        "learn.fit_one_cycle(1, slice(2e-3/100, 2e-3))"
      ],
      "execution_count": 48,
      "outputs": [
        {
          "output_type": "display_data",
          "data": {
            "text/html": [
              "<table border=\"1\" class=\"dataframe\">\n",
              "  <thead>\n",
              "    <tr style=\"text-align: left;\">\n",
              "      <th>epoch</th>\n",
              "      <th>train_loss</th>\n",
              "      <th>valid_loss</th>\n",
              "      <th>accuracy</th>\n",
              "      <th>time</th>\n",
              "    </tr>\n",
              "  </thead>\n",
              "  <tbody>\n",
              "    <tr>\n",
              "      <td>0</td>\n",
              "      <td>0.578855</td>\n",
              "      <td>3.551307</td>\n",
              "      <td>0.453782</td>\n",
              "      <td>01:07</td>\n",
              "    </tr>\n",
              "  </tbody>\n",
              "</table>"
            ],
            "text/plain": [
              "<IPython.core.display.HTML object>"
            ]
          },
          "metadata": {
            "tags": []
          }
        }
      ]
    },
    {
      "cell_type": "code",
      "metadata": {
        "id": "qc4poYxzIwca",
        "outputId": "dd7c16e6-aeaa-49db-da37-4f0abc622157",
        "colab": {
          "base_uri": "https://localhost:8080/",
          "height": 80
        }
      },
      "source": [
        "learn.fit_one_cycle(1, slice(2e-3/100, 2e-3))"
      ],
      "execution_count": 52,
      "outputs": [
        {
          "output_type": "display_data",
          "data": {
            "text/html": [
              "<table border=\"1\" class=\"dataframe\">\n",
              "  <thead>\n",
              "    <tr style=\"text-align: left;\">\n",
              "      <th>epoch</th>\n",
              "      <th>train_loss</th>\n",
              "      <th>valid_loss</th>\n",
              "      <th>accuracy</th>\n",
              "      <th>time</th>\n",
              "    </tr>\n",
              "  </thead>\n",
              "  <tbody>\n",
              "    <tr>\n",
              "      <td>0</td>\n",
              "      <td>0.538791</td>\n",
              "      <td>3.594282</td>\n",
              "      <td>0.462185</td>\n",
              "      <td>01:05</td>\n",
              "    </tr>\n",
              "  </tbody>\n",
              "</table>"
            ],
            "text/plain": [
              "<IPython.core.display.HTML object>"
            ]
          },
          "metadata": {
            "tags": []
          }
        }
      ]
    },
    {
      "cell_type": "code",
      "metadata": {
        "id": "66s4PxV1JVfo",
        "outputId": "8cf34569-f05d-4474-ddef-3bc821384225",
        "colab": {
          "base_uri": "https://localhost:8080/",
          "height": 80
        }
      },
      "source": [
        "learn.fit_one_cycle(1, slice(2e-3/100, 2e-3))"
      ],
      "execution_count": 56,
      "outputs": [
        {
          "output_type": "display_data",
          "data": {
            "text/html": [
              "<table border=\"1\" class=\"dataframe\">\n",
              "  <thead>\n",
              "    <tr style=\"text-align: left;\">\n",
              "      <th>epoch</th>\n",
              "      <th>train_loss</th>\n",
              "      <th>valid_loss</th>\n",
              "      <th>accuracy</th>\n",
              "      <th>time</th>\n",
              "    </tr>\n",
              "  </thead>\n",
              "  <tbody>\n",
              "    <tr>\n",
              "      <td>0</td>\n",
              "      <td>0.524944</td>\n",
              "      <td>3.570377</td>\n",
              "      <td>0.436975</td>\n",
              "      <td>01:07</td>\n",
              "    </tr>\n",
              "  </tbody>\n",
              "</table>"
            ],
            "text/plain": [
              "<IPython.core.display.HTML object>"
            ]
          },
          "metadata": {
            "tags": []
          }
        }
      ]
    },
    {
      "cell_type": "markdown",
      "metadata": {
        "id": "rCwZU0E2RgM6"
      },
      "source": [
        "# Part three: Predict on the test dataset"
      ]
    },
    {
      "cell_type": "code",
      "metadata": {
        "id": "gDm72c-dOu7d",
        "outputId": "bb66a61e-1b1d-44c5-cc7f-fbe4223823e9",
        "colab": {
          "base_uri": "https://localhost:8080/",
          "height": 17
        }
      },
      "source": [
        "# use the test data for prediction\n",
        "\n",
        "preds, y = learn.get_preds(DatasetType.Test)"
      ],
      "execution_count": 57,
      "outputs": [
        {
          "output_type": "display_data",
          "data": {
            "text/html": [
              ""
            ],
            "text/plain": [
              "<IPython.core.display.HTML object>"
            ]
          },
          "metadata": {
            "tags": []
          }
        }
      ]
    },
    {
      "cell_type": "code",
      "metadata": {
        "id": "6tFSQcsWPvxn",
        "outputId": "5dc32c03-9021-4d5c-9f60-188c6cff1ca3",
        "colab": {
          "base_uri": "https://localhost:8080/",
          "height": 105
        }
      },
      "source": [
        "predictions, *_ = learn.get_preds(DatasetType.Test)\n",
        "labels = np.argmax(predictions, 1)\n",
        "predict_list = labels.tolist()\n",
        "standard_list = test[0].tolist()\n",
        "\n",
        "print(len(predict_list))\n",
        "print(len(standard_list))\n",
        "\n",
        "print(predict_list)\n",
        "print(standard_list)"
      ],
      "execution_count": 58,
      "outputs": [
        {
          "output_type": "display_data",
          "data": {
            "text/html": [
              ""
            ],
            "text/plain": [
              "<IPython.core.display.HTML object>"
            ]
          },
          "metadata": {
            "tags": []
          }
        },
        {
          "output_type": "stream",
          "text": [
            "143\n",
            "143\n",
            "[393, 1962, 824, 1204, 978, 750, 109, 791, 189, 1007, 233, 249, 1706, 791, 1597, 334, 1054, 1599, 13, 393, 13, 791, 2026, 1192, 1356, 1340, 1199, 1230, 629, 1573, 1204, 749, 749, 749, 1199, 792, 792, 792, 809, 809, 809, 1308, 2118, 791, 1295, 908, 1727, 512, 974, 974, 1531, 1340, 1321, 1669, 791, 1099, 791, 824, 1925, 1136, 1136, 791, 749, 1204, 791, 1340, 1265, 947, 189, 189, 224, 1597, 1597, 1283, 1508, 749, 2074, 1484, 1787, 1769, 2002, 1597, 1099, 1597, 74, 1783, 1432, 1597, 1321, 1610, 582, 1099, 824, 1701, 1594, 1711, 1711, 1815, 1718, 1815, 2191, 1718, 1718, 1767, 2032, 13, 2032, 13, 1787, 2150, 393, 393, 2191, 1815, 1822, 824, 825, 824, 792, 2149, 1099, 1936, 1936, 749, 1610, 858, 824, 393, 1787, 1787, 1769, 2081, 1321, 224, 2147, 2147, 2147, 233, 2147, 791, 1545, 2097, 2149]\n",
            "[13, 16, 61, 85, 94, 97, 109, 121, 189, 203, 233, 249, 265, 276, 284, 309, 359, 392, 393, 393, 393, 426, 441, 452, 452, 452, 561, 579, 629, 712, 739, 749, 749, 749, 792, 792, 792, 792, 809, 809, 809, 822, 824, 824, 852, 908, 947, 954, 974, 974, 974, 978, 1048, 1048, 1054, 1054, 1099, 1099, 1109, 1136, 1136, 1145, 1190, 1204, 1204, 1265, 1265, 1283, 1295, 1295, 1344, 1356, 1356, 1356, 1416, 1417, 1427, 1484, 1521, 1526, 1529, 1545, 1545, 1545, 1546, 1578, 1595, 1597, 1597, 1610, 1610, 1669, 1669, 1701, 1701, 1711, 1711, 1718, 1718, 1718, 1753, 1767, 1767, 1767, 1787, 1787, 1787, 1787, 1787, 1787, 1787, 1787, 1787, 1815, 1822, 1877, 1884, 1884, 1884, 1915, 1925, 1936, 1936, 1942, 1942, 2010, 2032, 2032, 2032, 2032, 2074, 2081, 2103, 2103, 2147, 2147, 2147, 2147, 2147, 2149, 2149, 2149, 2191]\n"
          ],
          "name": "stdout"
        }
      ]
    },
    {
      "cell_type": "code",
      "metadata": {
        "id": "XIC4zufnMxtq",
        "outputId": "108d257a-b17f-4caf-d060-492eb3840e0d",
        "colab": {
          "base_uri": "https://localhost:8080/",
          "height": 51
        }
      },
      "source": [
        "correct_num = 0\n",
        "\n",
        "for i in range(0, len(standard_list)):\n",
        "  if predict_list[i] == standard_list[i]:\n",
        "    correct_num = correct_num+1\n",
        "  else:\n",
        "    pass\n",
        "print(correct_num)\n",
        "\n",
        "predict_accuracy = correct_num/len(predict_list)\n",
        "print(predict_accuracy)"
      ],
      "execution_count": 59,
      "outputs": [
        {
          "output_type": "stream",
          "text": [
            "40\n",
            "0.27972027972027974\n"
          ],
          "name": "stdout"
        }
      ]
    },
    {
      "cell_type": "code",
      "metadata": {
        "id": "zlKMHp1CIaRJ"
      },
      "source": [
        ""
      ],
      "execution_count": 47,
      "outputs": []
    }
  ]
}