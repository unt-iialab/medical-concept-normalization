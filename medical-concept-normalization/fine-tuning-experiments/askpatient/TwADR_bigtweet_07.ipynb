{
  "nbformat": 4,
  "nbformat_minor": 0,
  "metadata": {
    "accelerator": "TPU",
    "colab": {
      "name": "TwADR-bigtweet_07.ipynb",
      "provenance": [],
      "collapsed_sections": [],
      "toc_visible": true,
      "include_colab_link": true
    },
    "kernelspec": {
      "display_name": "Python 3",
      "name": "python3"
    }
  },
  "cells": [
    {
      "cell_type": "markdown",
      "metadata": {
        "id": "view-in-github",
        "colab_type": "text"
      },
      "source": [
        "<a href=\"https://colab.research.google.com/github/unt-iialab/medical-concept-normalization/blob/master/medical-concept-normalization/fine-tuning-experiments/askpatient/TwADR_bigtweet_07.ipynb\" target=\"_parent\"><img src=\"https://colab.research.google.com/assets/colab-badge.svg\" alt=\"Open In Colab\"/></a>"
      ]
    },
    {
      "cell_type": "code",
      "metadata": {
        "id": "adSi6i2-dWxy"
      },
      "source": [
        "import os"
      ],
      "execution_count": 1,
      "outputs": []
    },
    {
      "cell_type": "code",
      "metadata": {
        "id": "E7xYCRGPjd9B"
      },
      "source": [
        "base_dir = 'medical-concept-normalization'"
      ],
      "execution_count": 2,
      "outputs": []
    },
    {
      "cell_type": "code",
      "metadata": {
        "id": "yvIW3aUDjYNS"
      },
      "source": [
        "os.mkdir(base_dir)"
      ],
      "execution_count": 3,
      "outputs": []
    },
    {
      "cell_type": "code",
      "metadata": {
        "id": "es-FFLlfk6SG"
      },
      "source": [
        "os.mkdir('medical-concept-normalization/data_collection')"
      ],
      "execution_count": 4,
      "outputs": []
    },
    {
      "cell_type": "markdown",
      "metadata": {
        "id": "0R-Guw_VoJXm"
      },
      "source": [
        "**Install fastai and clone the fastai for text classification**\n",
        "\n"
      ]
    },
    {
      "cell_type": "code",
      "metadata": {
        "id": "QVZa3Z0PmHFH",
        "outputId": "f946f8be-b047-4216-c453-854431dd73f9",
        "colab": {
          "base_uri": "https://localhost:8080/"
        }
      },
      "source": [
        "!curl https://course-v3.fast.ai/setup/colab | bash"
      ],
      "execution_count": 5,
      "outputs": [
        {
          "output_type": "stream",
          "text": [
            "  % Total    % Received % Xferd  Average Speed   Time    Time     Time  Current\n",
            "                                 Dload  Upload   Total   Spent    Left  Speed\n",
            "\r  0     0    0     0    0     0      0      0 --:--:-- --:--:-- --:--:--     0curl: (6) Could not resolve host: course-v3.fast.ai\n"
          ],
          "name": "stdout"
        }
      ]
    },
    {
      "cell_type": "code",
      "metadata": {
        "id": "_FBFFEBrmJC0",
        "outputId": "59ca5704-ea0d-4943-fbb5-559c2d6acdeb",
        "colab": {
          "base_uri": "https://localhost:8080/"
        }
      },
      "source": [
        "!git clone https://github.com/wshuyi/demo-nlp-classification-fastai.git"
      ],
      "execution_count": 6,
      "outputs": [
        {
          "output_type": "stream",
          "text": [
            "Cloning into 'demo-nlp-classification-fastai'...\n",
            "remote: Enumerating objects: 9, done.\u001b[K\n",
            "remote: Total 9 (delta 0), reused 0 (delta 0), pack-reused 9\u001b[K\n",
            "Unpacking objects: 100% (9/9), done.\n"
          ],
          "name": "stdout"
        }
      ]
    },
    {
      "cell_type": "code",
      "metadata": {
        "id": "66zfh_JqmWMU"
      },
      "source": [
        "from fastai import *\n",
        "from fastai.text import *"
      ],
      "execution_count": 7,
      "outputs": []
    },
    {
      "cell_type": "markdown",
      "metadata": {
        "id": "mNIw-yALdBU9"
      },
      "source": [
        "**Set the path of the data collections**"
      ]
    },
    {
      "cell_type": "code",
      "metadata": {
        "id": "pzH7VMh4mqCL"
      },
      "source": [
        "path = Path('medical-concept-normalization/data_collection')"
      ],
      "execution_count": 8,
      "outputs": []
    },
    {
      "cell_type": "code",
      "metadata": {
        "id": "b8fjI6yyn4aS"
      },
      "source": [
        "# training data set\n",
        "\n",
        "train_csv = path/'TwADR-L.fold-7.train.csv'\n",
        "train = pd.read_csv(train_csv, header=None)\n",
        "#train.head()\n",
        "#train.info()"
      ],
      "execution_count": 10,
      "outputs": []
    },
    {
      "cell_type": "code",
      "metadata": {
        "id": "Hmlr-bAorfHd",
        "outputId": "70851713-904f-4c42-fbae-2389b2bb7121",
        "colab": {
          "base_uri": "https://localhost:8080/",
          "height": 204
        }
      },
      "source": [
        "# validating data set\n",
        "\n",
        "valid = pd.read_csv(path/\"TwADR-L.fold-7.validation.csv\",header=None)\n",
        "valid.head()"
      ],
      "execution_count": 11,
      "outputs": [
        {
          "output_type": "execute_result",
          "data": {
            "text/html": [
              "<div>\n",
              "<style scoped>\n",
              "    .dataframe tbody tr th:only-of-type {\n",
              "        vertical-align: middle;\n",
              "    }\n",
              "\n",
              "    .dataframe tbody tr th {\n",
              "        vertical-align: top;\n",
              "    }\n",
              "\n",
              "    .dataframe thead th {\n",
              "        text-align: right;\n",
              "    }\n",
              "</style>\n",
              "<table border=\"1\" class=\"dataframe\">\n",
              "  <thead>\n",
              "    <tr style=\"text-align: right;\">\n",
              "      <th></th>\n",
              "      <th>0</th>\n",
              "      <th>1</th>\n",
              "    </tr>\n",
              "  </thead>\n",
              "  <tbody>\n",
              "    <tr>\n",
              "      <th>0</th>\n",
              "      <td>13</td>\n",
              "      <td>insomniac</td>\n",
              "    </tr>\n",
              "    <tr>\n",
              "      <th>1</th>\n",
              "      <td>24</td>\n",
              "      <td>racing heart</td>\n",
              "    </tr>\n",
              "    <tr>\n",
              "      <th>2</th>\n",
              "      <td>60</td>\n",
              "      <td>cigarette withdrawal</td>\n",
              "    </tr>\n",
              "    <tr>\n",
              "      <th>3</th>\n",
              "      <td>91</td>\n",
              "      <td>jitters</td>\n",
              "    </tr>\n",
              "    <tr>\n",
              "      <th>4</th>\n",
              "      <td>93</td>\n",
              "      <td>shooting</td>\n",
              "    </tr>\n",
              "  </tbody>\n",
              "</table>\n",
              "</div>"
            ],
            "text/plain": [
              "    0                     1\n",
              "0  13             insomniac\n",
              "1  24          racing heart\n",
              "2  60  cigarette withdrawal\n",
              "3  91               jitters\n",
              "4  93              shooting"
            ]
          },
          "metadata": {
            "tags": []
          },
          "execution_count": 11
        }
      ]
    },
    {
      "cell_type": "code",
      "metadata": {
        "id": "cOza9dfSsBud",
        "outputId": "1dac478a-1a7b-4ead-9e87-d77a47478572",
        "colab": {
          "base_uri": "https://localhost:8080/",
          "height": 204
        }
      },
      "source": [
        "# testing data set\n",
        "\n",
        "test = pd.read_csv(path/\"TwADR-L.fold-7.test.csv\",header=None)\n",
        "test.head()"
      ],
      "execution_count": 12,
      "outputs": [
        {
          "output_type": "execute_result",
          "data": {
            "text/html": [
              "<div>\n",
              "<style scoped>\n",
              "    .dataframe tbody tr th:only-of-type {\n",
              "        vertical-align: middle;\n",
              "    }\n",
              "\n",
              "    .dataframe tbody tr th {\n",
              "        vertical-align: top;\n",
              "    }\n",
              "\n",
              "    .dataframe thead th {\n",
              "        text-align: right;\n",
              "    }\n",
              "</style>\n",
              "<table border=\"1\" class=\"dataframe\">\n",
              "  <thead>\n",
              "    <tr style=\"text-align: right;\">\n",
              "      <th></th>\n",
              "      <th>0</th>\n",
              "      <th>1</th>\n",
              "    </tr>\n",
              "  </thead>\n",
              "  <tbody>\n",
              "    <tr>\n",
              "      <th>0</th>\n",
              "      <td>13</td>\n",
              "      <td>keeping me awake</td>\n",
              "    </tr>\n",
              "    <tr>\n",
              "      <th>1</th>\n",
              "      <td>94</td>\n",
              "      <td>anxiety</td>\n",
              "    </tr>\n",
              "    <tr>\n",
              "      <th>2</th>\n",
              "      <td>119</td>\n",
              "      <td>incr anxiety</td>\n",
              "    </tr>\n",
              "    <tr>\n",
              "      <th>3</th>\n",
              "      <td>119</td>\n",
              "      <td>anxiety</td>\n",
              "    </tr>\n",
              "    <tr>\n",
              "      <th>4</th>\n",
              "      <td>121</td>\n",
              "      <td>itching</td>\n",
              "    </tr>\n",
              "  </tbody>\n",
              "</table>\n",
              "</div>"
            ],
            "text/plain": [
              "     0                 1\n",
              "0   13  keeping me awake\n",
              "1   94           anxiety\n",
              "2  119      incr anxiety\n",
              "3  119           anxiety\n",
              "4  121           itching"
            ]
          },
          "metadata": {
            "tags": []
          },
          "execution_count": 12
        }
      ]
    },
    {
      "cell_type": "code",
      "metadata": {
        "id": "Vo-YNvVYoaH6",
        "outputId": "67789cce-67a1-47fb-93bb-7165bf5e7f54",
        "colab": {
          "base_uri": "https://localhost:8080/",
          "height": 17
        }
      },
      "source": [
        "# Creating DataBunch for language modelling\n",
        "\n",
        "data_lm = TextLMDataBunch.from_csv(path, 'TwADR-bigtweet.csv')"
      ],
      "execution_count": 13,
      "outputs": [
        {
          "output_type": "display_data",
          "data": {
            "text/html": [
              ""
            ],
            "text/plain": [
              "<IPython.core.display.HTML object>"
            ]
          },
          "metadata": {
            "tags": []
          }
        },
        {
          "output_type": "display_data",
          "data": {
            "text/html": [
              ""
            ],
            "text/plain": [
              "<IPython.core.display.HTML object>"
            ]
          },
          "metadata": {
            "tags": []
          }
        }
      ]
    },
    {
      "cell_type": "code",
      "metadata": {
        "id": "qcV-9kMnNLBf"
      },
      "source": [
        ""
      ],
      "execution_count": 13,
      "outputs": []
    },
    {
      "cell_type": "code",
      "metadata": {
        "id": "1ScY9afDsnvE"
      },
      "source": [
        "# Creating DataBunch for classification\n",
        "\n",
        "# data_clas = TextClasDataBunch.from_df(path, train, valid, test, vocab=data_lm.train_ds.vocab, bs=128)"
      ],
      "execution_count": 14,
      "outputs": []
    },
    {
      "cell_type": "code",
      "metadata": {
        "id": "gzrSdQcvey9p",
        "outputId": "f9d8a8aa-d706-4875-b5ef-df7a8855874b",
        "colab": {
          "base_uri": "https://localhost:8080/",
          "height": 17
        }
      },
      "source": [
        "data_clas = TextClasDataBunch.from_df(path, train, valid, vocab=data_lm.train_ds.vocab, bs=128)"
      ],
      "execution_count": 15,
      "outputs": [
        {
          "output_type": "display_data",
          "data": {
            "text/html": [
              ""
            ],
            "text/plain": [
              "<IPython.core.display.HTML object>"
            ]
          },
          "metadata": {
            "tags": []
          }
        },
        {
          "output_type": "display_data",
          "data": {
            "text/html": [
              ""
            ],
            "text/plain": [
              "<IPython.core.display.HTML object>"
            ]
          },
          "metadata": {
            "tags": []
          }
        }
      ]
    },
    {
      "cell_type": "code",
      "metadata": {
        "id": "MD27Tf0Ke3ou",
        "outputId": "247e547e-a9cc-4875-d139-bbbad75ce676",
        "colab": {
          "base_uri": "https://localhost:8080/",
          "height": 17
        }
      },
      "source": [
        "data_clas.add_test(test,label=0)\n"
      ],
      "execution_count": 16,
      "outputs": [
        {
          "output_type": "display_data",
          "data": {
            "text/html": [
              ""
            ],
            "text/plain": [
              "<IPython.core.display.HTML object>"
            ]
          },
          "metadata": {
            "tags": []
          }
        }
      ]
    },
    {
      "cell_type": "code",
      "metadata": {
        "id": "-dpjnk_rstwk"
      },
      "source": [
        "data_lm.save()\n",
        "data_clas.save()"
      ],
      "execution_count": 17,
      "outputs": []
    },
    {
      "cell_type": "code",
      "metadata": {
        "id": "4OkiJa36sw5s",
        "outputId": "63788fb0-c498-44a8-803f-0d09d6e9c31e",
        "colab": {
          "base_uri": "https://localhost:8080/"
        }
      },
      "source": [
        "data_lm.train_ds.vocab.itos"
      ],
      "execution_count": 18,
      "outputs": [
        {
          "output_type": "execute_result",
          "data": {
            "text/plain": [
              "['xxunk',\n",
              " 'xxpad',\n",
              " 'xxbos',\n",
              " 'xxeos',\n",
              " 'xxfld',\n",
              " 'xxmaj',\n",
              " 'xxup',\n",
              " 'xxrep',\n",
              " 'xxwrep',\n",
              " 'to',\n",
              " 'the',\n",
              " 'in',\n",
              " 'rt',\n",
              " 'of',\n",
              " 'for',\n",
              " 'a',\n",
              " 'you',\n",
              " 'i',\n",
              " 'is',\n",
              " 'on',\n",
              " 'disease',\n",
              " 'my',\n",
              " 'pain',\n",
              " 'and',\n",
              " 'mood',\n",
              " 'me',\n",
              " 'amp',\n",
              " 'increased',\n",
              " 'with',\n",
              " 'gluten',\n",
              " ',',\n",
              " 'disorder',\n",
              " 'abnormal',\n",
              " 'withdrawal',\n",
              " 'anxiety',\n",
              " 'your',\n",
              " 'free',\n",
              " 'it',\n",
              " 'have',\n",
              " 'symptoms',\n",
              " 'weight',\n",
              " 'this',\n",
              " 'out',\n",
              " 'are',\n",
              " 'new',\n",
              " 'decreased',\n",
              " 'from',\n",
              " 'not',\n",
              " 'do',\n",
              " 'about',\n",
              " 'disorders',\n",
              " 'like',\n",
              " '(',\n",
              " ')',\n",
              " 'glutenfree',\n",
              " '-',\n",
              " 'nt',\n",
              " 'our',\n",
              " 'up',\n",
              " 'be',\n",
              " 'what',\n",
              " 'behavior',\n",
              " 'drug',\n",
              " 'sleeplessness',\n",
              " 'syndrome',\n",
              " 'celiac',\n",
              " 'got',\n",
              " 'at',\n",
              " 'now',\n",
              " 'feeling',\n",
              " 'diseases',\n",
              " 'or',\n",
              " 'somnolence',\n",
              " 'insomnia',\n",
              " 'finding',\n",
              " 'blood',\n",
              " 'disturbance',\n",
              " 'that',\n",
              " 'sleep',\n",
              " 'energy',\n",
              " 'all',\n",
              " 'we',\n",
              " 'so',\n",
              " 'mental',\n",
              " 'right',\n",
              " 'how',\n",
              " 'food',\n",
              " 'can',\n",
              " 'depression',\n",
              " 'gain',\n",
              " 'appetite',\n",
              " 'more',\n",
              " 'acute',\n",
              " 'skin',\n",
              " 'feel',\n",
              " 'via',\n",
              " 'tip',\n",
              " 'if',\n",
              " 'its',\n",
              " 'nausea',\n",
              " 'diet',\n",
              " 'irritable',\n",
              " 'body',\n",
              " 'ceiling',\n",
              " 'awake',\n",
              " 'attention',\n",
              " 'excitability',\n",
              " 'hyperactive',\n",
              " 'feelings',\n",
              " 'as',\n",
              " 'dizziness',\n",
              " 'products',\n",
              " 'use',\n",
              " 'state',\n",
              " 'dblclick',\n",
              " 'panic',\n",
              " 'heart',\n",
              " 'drowsiness',\n",
              " 'w',\n",
              " 'pic',\n",
              " 'get',\n",
              " 'muscle',\n",
              " 'allergic',\n",
              " 'had',\n",
              " 'depressed',\n",
              " 'why',\n",
              " 'know',\n",
              " 'by',\n",
              " 'check',\n",
              " 'rash',\n",
              " 'review',\n",
              " 'swings',\n",
              " 'was',\n",
              " 'swelling',\n",
              " 'an',\n",
              " '#',\n",
              " 'need',\n",
              " 'day',\n",
              " 'just',\n",
              " 'here',\n",
              " 'has',\n",
              " 'bipolar',\n",
              " 'loss',\n",
              " 'post',\n",
              " 'could',\n",
              " 'eating',\n",
              " 'wakefulness',\n",
              " 'but',\n",
              " 'love',\n",
              " 'thanks',\n",
              " 'help',\n",
              " 'test',\n",
              " 'fatigue',\n",
              " 'headache',\n",
              " 'm',\n",
              " \"n't\",\n",
              " 'brain',\n",
              " '30',\n",
              " 'great',\n",
              " 'ca',\n",
              " 'site',\n",
              " 'make',\n",
              " 're',\n",
              " 'infection',\n",
              " 'gfb',\n",
              " 'eat',\n",
              " 'breast',\n",
              " 'will',\n",
              " 'dreams',\n",
              " 'reaction',\n",
              " 's',\n",
              " 'liver',\n",
              " 'posted',\n",
              " 'time',\n",
              " 'who',\n",
              " 'tremor',\n",
              " 'life',\n",
              " 'makes',\n",
              " 'intolerance',\n",
              " 'when',\n",
              " 'living',\n",
              " 'does',\n",
              " 'going',\n",
              " 'joint',\n",
              " 'us',\n",
              " 'may',\n",
              " 'abdominal',\n",
              " 'recipe',\n",
              " 'heres',\n",
              " 'still',\n",
              " 'eye',\n",
              " 'tired',\n",
              " 'go',\n",
              " 'injury',\n",
              " 'respiratory',\n",
              " 'rage',\n",
              " 'attack',\n",
              " '\\r \\n ',\n",
              " 'sleepy',\n",
              " 'jennieo',\n",
              " 'people',\n",
              " 'death',\n",
              " '2',\n",
              " 'attacks',\n",
              " 'there',\n",
              " 'night',\n",
              " 'deficit',\n",
              " 'read',\n",
              " 'no',\n",
              " 'archives',\n",
              " 'hemorrhage',\n",
              " 'bone',\n",
              " 'some',\n",
              " 'think',\n",
              " 'carcinoma',\n",
              " 'psychotic',\n",
              " 'being',\n",
              " 'dry',\n",
              " 'take',\n",
              " 'today',\n",
              " 'taste',\n",
              " 'tips',\n",
              " 'news',\n",
              " '1',\n",
              " 'did',\n",
              " 'want',\n",
              " 'back',\n",
              " 'daytime',\n",
              " 'initial',\n",
              " 'edema',\n",
              " 'gastrointestinal',\n",
              " 'chronic',\n",
              " 'numbness',\n",
              " 'difficulty',\n",
              " 'stiffness',\n",
              " 'allergy',\n",
              " 'big',\n",
              " 'cardiac',\n",
              " 'dermatitis',\n",
              " '10',\n",
              " 'sweating',\n",
              " 'much',\n",
              " 'should',\n",
              " 'asleep',\n",
              " 'hallucinations',\n",
              " 'good',\n",
              " 'conditions',\n",
              " 'infections',\n",
              " 'zombie',\n",
              " 'middle',\n",
              " '5',\n",
              " 'they',\n",
              " 'aggravated',\n",
              " 'failure',\n",
              " 'level',\n",
              " 'super',\n",
              " 'ulcer',\n",
              " 'wide',\n",
              " 'pulmonary',\n",
              " 'those',\n",
              " 'facial',\n",
              " 'down',\n",
              " 'pizza',\n",
              " 'anger',\n",
              " 'sleepiness',\n",
              " 'dependence',\n",
              " '\\r \\n \\r \\n ',\n",
              " 'cell',\n",
              " 'happy',\n",
              " 'suicidal',\n",
              " 'system',\n",
              " 'sensation',\n",
              " 'stomach',\n",
              " 'localised',\n",
              " '4',\n",
              " 'migraine',\n",
              " 'share',\n",
              " 'patients',\n",
              " \"'m\",\n",
              " 'ever',\n",
              " 'best',\n",
              " 'function',\n",
              " 'awareness',\n",
              " 'distress',\n",
              " 'exhaustion',\n",
              " 'cerebral',\n",
              " 'one',\n",
              " 'discomfort',\n",
              " 'concentration',\n",
              " 'vomiting',\n",
              " 'please',\n",
              " 'chicken',\n",
              " 'depressive',\n",
              " 'dysfunction',\n",
              " 'nightmares',\n",
              " 'seizures',\n",
              " 'disturbances',\n",
              " 'article',\n",
              " 'anemia',\n",
              " 'also',\n",
              " 'kidney',\n",
              " 'pressure',\n",
              " 'am',\n",
              " 'change',\n",
              " 'damage',\n",
              " 'low',\n",
              " 'any',\n",
              " 'vision',\n",
              " 'gf',\n",
              " 'too',\n",
              " 'bite',\n",
              " 'diagnosed',\n",
              " 'arrest',\n",
              " 'sensitivity',\n",
              " 'dr',\n",
              " 'blog',\n",
              " 'diagnosis',\n",
              " 'bad',\n",
              " 'irritation',\n",
              " 'spasm',\n",
              " 'see',\n",
              " 'adderall',\n",
              " 'compulsive',\n",
              " 'getting',\n",
              " 'arthritis',\n",
              " 'even',\n",
              " 'oedema',\n",
              " 'non',\n",
              " 'social',\n",
              " 'find',\n",
              " 'hurt',\n",
              " 'memory',\n",
              " 'serum',\n",
              " 'cancer',\n",
              " 'uterine',\n",
              " 'depersonalization',\n",
              " 'episode',\n",
              " 'off',\n",
              " 'week',\n",
              " 'cookbook',\n",
              " 'safe',\n",
              " 'fracture',\n",
              " 'corneal',\n",
              " 'hunger',\n",
              " 'been',\n",
              " 'chest',\n",
              " 'these',\n",
              " 'hypertension',\n",
              " 'ache',\n",
              " 'first',\n",
              " 'health',\n",
              " 'crazy',\n",
              " 'dizzy',\n",
              " 'looking',\n",
              " 'vivid',\n",
              " 'emotional',\n",
              " 'try',\n",
              " 'only',\n",
              " 'show',\n",
              " 'wheat',\n",
              " 'hungry',\n",
              " 'many',\n",
              " 'very',\n",
              " 'u',\n",
              " 'friends',\n",
              " 'necrosis',\n",
              " 'top',\n",
              " 'nauseous',\n",
              " 'ventricular',\n",
              " 'really',\n",
              " 'neoplasm',\n",
              " 'foot',\n",
              " 'high',\n",
              " 'alcohol',\n",
              " 'impairment',\n",
              " 'over',\n",
              " '2014',\n",
              " 'thank',\n",
              " 'linked',\n",
              " 'hours',\n",
              " 'tooth',\n",
              " 'autographed',\n",
              " 'oral',\n",
              " 'urine',\n",
              " 'decrease',\n",
              " 'their',\n",
              " 'localized',\n",
              " 'well',\n",
              " 'thinking',\n",
              " 'elevated',\n",
              " 'pruritus',\n",
              " 'effect',\n",
              " 'making',\n",
              " 'withdrawals',\n",
              " 'way',\n",
              " 'story',\n",
              " 'healthy',\n",
              " 'obsessive',\n",
              " 'study',\n",
              " 'delicious',\n",
              " 'giveaway',\n",
              " '6',\n",
              " '3',\n",
              " 'year',\n",
              " 'would',\n",
              " 'other',\n",
              " 'painful',\n",
              " 'asthma',\n",
              " 'easy',\n",
              " 'genital',\n",
              " 'face',\n",
              " 'intoxication',\n",
              " 'learn',\n",
              " 'erythema',\n",
              " 'euphoric',\n",
              " 'hepatic',\n",
              " 'shoulder',\n",
              " 'soup',\n",
              " 'bulimia',\n",
              " 'foods',\n",
              " 'sneezing',\n",
              " 'candidiasis',\n",
              " 'sexual',\n",
              " 'days',\n",
              " 'malignant',\n",
              " 'nasal',\n",
              " 'coming',\n",
              " 'drowsy',\n",
              " 've',\n",
              " 'gastric',\n",
              " 'recipes',\n",
              " 'consciousness',\n",
              " 'pneumonia',\n",
              " 'neoplasms',\n",
              " 'tingling',\n",
              " 'issues',\n",
              " 'fear',\n",
              " 'years',\n",
              " 'abuse',\n",
              " 'better',\n",
              " 'info',\n",
              " 'coeliac',\n",
              " 'tract',\n",
              " 'arthropod',\n",
              " 'lose',\n",
              " 'angry',\n",
              " 'count',\n",
              " 'thirst',\n",
              " 'nervous',\n",
              " 'injection',\n",
              " 'peripheral',\n",
              " 'fractures',\n",
              " 'paranoid',\n",
              " 'tongue',\n",
              " 'others',\n",
              " 'bread',\n",
              " 'america',\n",
              " 'child',\n",
              " 'cramps',\n",
              " 'personality',\n",
              " 'away',\n",
              " 'visual',\n",
              " 'craving',\n",
              " 'cold',\n",
              " 'lost',\n",
              " 'lung',\n",
              " 'glucose',\n",
              " 'bowl',\n",
              " 'female',\n",
              " 'chocolate',\n",
              " 'overdose',\n",
              " 'sick',\n",
              " 'erection',\n",
              " 'quinoa',\n",
              " 'book',\n",
              " 'diabetic',\n",
              " 'page',\n",
              " 'whole',\n",
              " 'eyes',\n",
              " 'block',\n",
              " 'weird',\n",
              " 'injuries',\n",
              " 'generalized',\n",
              " 'fever',\n",
              " 'always',\n",
              " 'last',\n",
              " 'binge',\n",
              " 'electrocardiogram',\n",
              " 'part',\n",
              " 'urticaria',\n",
              " 'list',\n",
              " 'things',\n",
              " 'falling',\n",
              " 'next',\n",
              " 'colitis',\n",
              " 'hepatitis',\n",
              " 'hip',\n",
              " 'sweat',\n",
              " 'problems',\n",
              " 'come',\n",
              " 'mind',\n",
              " 'friendly',\n",
              " 'where',\n",
              " 'renal',\n",
              " '7',\n",
              " 'metastatic',\n",
              " 'speech',\n",
              " 'psychosis',\n",
              " 'before',\n",
              " 'risk',\n",
              " 'interview',\n",
              " 'excessive',\n",
              " 'lightheadedness',\n",
              " 'obstruction',\n",
              " 'ear',\n",
              " 'thoughts',\n",
              " 'atrophy',\n",
              " 'hear',\n",
              " 'head',\n",
              " 'special',\n",
              " 'again',\n",
              " 'diabetes',\n",
              " 'most',\n",
              " 'cause',\n",
              " 'yes',\n",
              " 'convention',\n",
              " 'lack',\n",
              " 'link',\n",
              " 'because',\n",
              " 'own',\n",
              " 'partial',\n",
              " 'nerve',\n",
              " 'hey',\n",
              " 'weeks',\n",
              " 'gfree',\n",
              " 'libido',\n",
              " 'talk',\n",
              " 'headaches',\n",
              " 'ask',\n",
              " '100',\n",
              " 'after',\n",
              " 'ejaculation',\n",
              " 'ty',\n",
              " 'than',\n",
              " 'breakfast',\n",
              " 'application',\n",
              " 'diagnose',\n",
              " 'options',\n",
              " 'symptom',\n",
              " 'look',\n",
              " 'breathing',\n",
              " 'made',\n",
              " 'neuropathy',\n",
              " 'were',\n",
              " 'throat',\n",
              " 'despair',\n",
              " 'cookies',\n",
              " 'important',\n",
              " 'miss',\n",
              " 'community',\n",
              " 'diarrhea',\n",
              " 'minutes',\n",
              " 'tendency',\n",
              " 'start',\n",
              " 'pm',\n",
              " 'unconscious',\n",
              " 'atrial',\n",
              " 'type',\n",
              " 'stop',\n",
              " 'same',\n",
              " 'kids',\n",
              " 'ok',\n",
              " 'follow',\n",
              " 'losing',\n",
              " 'affect',\n",
              " 'bleeding',\n",
              " 'bakery',\n",
              " 'lower',\n",
              " 'palpitations',\n",
              " 'breaking',\n",
              " 'keep',\n",
              " 'tissue',\n",
              " 'every',\n",
              " 'support',\n",
              " 'swollen',\n",
              " 'sunday',\n",
              " 'menu',\n",
              " 'bacterial',\n",
              " 'then',\n",
              " 'haemorrhage',\n",
              " 'interesting',\n",
              " 'arrhythmia',\n",
              " 'musculoskeletal',\n",
              " 'sudden',\n",
              " 'drunk',\n",
              " 'lbs',\n",
              " 'live',\n",
              " 'insufficiency',\n",
              " 'potassium',\n",
              " 'sedated',\n",
              " 'able',\n",
              " 'join',\n",
              " 'adenocarcinoma',\n",
              " 'intestinal',\n",
              " 'tachycardia',\n",
              " 'limb',\n",
              " 'traumatic',\n",
              " 'month',\n",
              " 'less',\n",
              " 'different',\n",
              " 'long',\n",
              " 'latest',\n",
              " 'migraines',\n",
              " 'twitch',\n",
              " 'cutaneous',\n",
              " 'never',\n",
              " 'adrenal',\n",
              " 'little',\n",
              " 'immune',\n",
              " 'stress',\n",
              " 'wo',\n",
              " 'her',\n",
              " 'exhausted',\n",
              " 'vaginal',\n",
              " 'itching',\n",
              " 'vasculitis',\n",
              " 'gained',\n",
              " 'work',\n",
              " 'terrors',\n",
              " 'restaurant',\n",
              " 'reduced',\n",
              " 'inflammation',\n",
              " 'problem',\n",
              " 'hyperactivity',\n",
              " 'movements',\n",
              " 'hypomania',\n",
              " 'mouth',\n",
              " 'might',\n",
              " 'valentines',\n",
              " 'someone',\n",
              " 'thyroid',\n",
              " 'anyone',\n",
              " 'them',\n",
              " 'sentence',\n",
              " 'lupus',\n",
              " 'through',\n",
              " 'glutened',\n",
              " 'muscular',\n",
              " 'interactions',\n",
              " 'tolerance',\n",
              " 'stay',\n",
              " 'positive',\n",
              " 'hyper',\n",
              " 'prolonged',\n",
              " 'sinus',\n",
              " 'rhinitis',\n",
              " 'simple',\n",
              " 'sure',\n",
              " 'experience',\n",
              " 'terrible',\n",
              " 'suicide',\n",
              " 'density',\n",
              " 'reasons',\n",
              " 'red',\n",
              " 'arousal',\n",
              " 'gut',\n",
              " 'purpura',\n",
              " 'cake',\n",
              " 'impaired',\n",
              " 'prozac',\n",
              " 'tests',\n",
              " 'hard',\n",
              " '2013',\n",
              " 'bones',\n",
              " 'ur',\n",
              " 'pinterest',\n",
              " 'world',\n",
              " 'doing',\n",
              " 'local',\n",
              " 'hurting',\n",
              " 'infarction',\n",
              " 'trippin',\n",
              " 'vertigo',\n",
              " 'esophageal',\n",
              " 'found',\n",
              " 'bronchitis',\n",
              " 'fun',\n",
              " 'labored',\n",
              " 'substance',\n",
              " 'deficiency',\n",
              " 'awesome',\n",
              " 'confusion',\n",
              " 'myocardial',\n",
              " 'expo',\n",
              " 'fluid',\n",
              " 'result',\n",
              " 'his',\n",
              " 'person',\n",
              " 'acidosis',\n",
              " 'gland',\n",
              " 'rice',\n",
              " 'unspecified',\n",
              " 'altered',\n",
              " 'early',\n",
              " 'ideas',\n",
              " 'ready',\n",
              " 'testing',\n",
              " 'manic',\n",
              " 'cyst',\n",
              " 'something',\n",
              " 'creatinine',\n",
              " 'autoimmune',\n",
              " 'full',\n",
              " 'atrioventricular',\n",
              " 'two',\n",
              " 'bladder',\n",
              " 'perforation',\n",
              " 'cough',\n",
              " 'interest',\n",
              " 'market',\n",
              " 'sleeping',\n",
              " 'few',\n",
              " 'urinary',\n",
              " 'involuntary',\n",
              " 'neck',\n",
              " 'sad',\n",
              " 'acne',\n",
              " 'understand',\n",
              " 'must',\n",
              " 'into',\n",
              " 'pledge',\n",
              " 'common',\n",
              " 'provide',\n",
              " 'restaurants',\n",
              " 'wait',\n",
              " 'paranoia',\n",
              " 'girl',\n",
              " 'premature',\n",
              " 'spasms',\n",
              " 'without',\n",
              " 'matters',\n",
              " 'undiagnosed',\n",
              " 'mad',\n",
              " 'digestive',\n",
              " 'research',\n",
              " 'having',\n",
              " '&',\n",
              " 'lesion',\n",
              " 'yet',\n",
              " 'knee',\n",
              " 'ill',\n",
              " 'which',\n",
              " 'add',\n",
              " 'sharing',\n",
              " 'eaten',\n",
              " 'tenderness',\n",
              " 'fall',\n",
              " 'd',\n",
              " 'call',\n",
              " 'mt',\n",
              " 'allergies',\n",
              " 'indifferent',\n",
              " 'motor',\n",
              " 'weekend',\n",
              " 'changes',\n",
              " 'eyelid',\n",
              " 'delayed',\n",
              " 'hot',\n",
              " 'syncope',\n",
              " 'bowel',\n",
              " 'bites',\n",
              " 'healthier',\n",
              " 'camp',\n",
              " 'cook',\n",
              " 'another',\n",
              " 'grain',\n",
              " 'focusing',\n",
              " 'abnormality',\n",
              " 'arteritis',\n",
              " '20',\n",
              " 'archive',\n",
              " 'retinal',\n",
              " 'upper',\n",
              " 'walking',\n",
              " 'rheumatoid',\n",
              " 'remember',\n",
              " 'children',\n",
              " 'tested',\n",
              " 'bullous',\n",
              " 'distracted',\n",
              " 'bloating',\n",
              " 'paralysed',\n",
              " 'hearing',\n",
              " 'anything',\n",
              " 'intense',\n",
              " 'viral',\n",
              " 'rise',\n",
              " 'lets',\n",
              " 'avoid',\n",
              " 'retention',\n",
              " 'thrombosis',\n",
              " 'influenza',\n",
              " 'generalised',\n",
              " 'accidental',\n",
              " 'oats',\n",
              " 'neuralgia',\n",
              " 'artery',\n",
              " 'acid',\n",
              " 'anorexia',\n",
              " '8',\n",
              " 'place',\n",
              " 'leukemia',\n",
              " 'break',\n",
              " 'flour',\n",
              " 'antisocial',\n",
              " 'awful',\n",
              " 'blurred',\n",
              " 'sore',\n",
              " 'went',\n",
              " 'h',\n",
              " 'radio',\n",
              " 'pounding',\n",
              " '/',\n",
              " 'deafness',\n",
              " 'favorite',\n",
              " 'group',\n",
              " 'otitis',\n",
              " 'hypertrophy',\n",
              " 'action',\n",
              " 'multiple',\n",
              " 'enzyme',\n",
              " 'until',\n",
              " 'white',\n",
              " 'iron',\n",
              " 'r',\n",
              " 'cystitis',\n",
              " 'macular',\n",
              " 'limbs',\n",
              " 'lifestyle',\n",
              " 'between',\n",
              " 'calcium',\n",
              " 'herpes',\n",
              " 'alkalosis',\n",
              " 'bruxism',\n",
              " 'hate',\n",
              " 'needs',\n",
              " 'fucked',\n",
              " 'prostate',\n",
              " 'family',\n",
              " 'ocular',\n",
              " 'porphyria',\n",
              " 'erythematosus',\n",
              " 'affects',\n",
              " 'fucking',\n",
              " 'nail',\n",
              " '1st',\n",
              " 'listen',\n",
              " 'meet',\n",
              " 'groggy',\n",
              " 'fibrillation',\n",
              " 'eruptions',\n",
              " 'secondary',\n",
              " 'steroid',\n",
              " 'rupture',\n",
              " 'prothrombin',\n",
              " 'shaking',\n",
              " 'anxious',\n",
              " 'contact',\n",
              " 'excited',\n",
              " 'associated',\n",
              " 'illness',\n",
              " 'reading',\n",
              " '22',\n",
              " '24',\n",
              " 'available',\n",
              " 'house',\n",
              " 'toxicity',\n",
              " 'say',\n",
              " 'abscess',\n",
              " 'media',\n",
              " 'sickness',\n",
              " 'blindness',\n",
              " 'gait',\n",
              " 'behaviour',\n",
              " 'worse',\n",
              " 'male',\n",
              " 'ago',\n",
              " 'spread',\n",
              " 'labeling',\n",
              " 'event',\n",
              " 'enough',\n",
              " 'meals',\n",
              " 'heartburn',\n",
              " 'central',\n",
              " 'syndromes',\n",
              " 'ways',\n",
              " 'medical',\n",
              " 'difficult',\n",
              " 'water',\n",
              " 'win',\n",
              " 'temperature',\n",
              " 'conjunctivitis',\n",
              " 'myself',\n",
              " 'forward',\n",
              " 'amazing',\n",
              " 'ischemia',\n",
              " 'erectile',\n",
              " 'trying',\n",
              " 'poor',\n",
              " 'hypersomnia',\n",
              " 'protein',\n",
              " 'completely',\n",
              " 'sinusitis',\n",
              " 'thing',\n",
              " 'epidermal',\n",
              " 'crust',\n",
              " 'obstructive',\n",
              " 'dinner',\n",
              " 'everything',\n",
              " 'bilirubin',\n",
              " 'll',\n",
              " 'mania',\n",
              " 'psychological',\n",
              " 'says',\n",
              " 'thirsty',\n",
              " 'thinness',\n",
              " 'true',\n",
              " 'shock',\n",
              " 'hurts',\n",
              " '.',\n",
              " \"'s\",\n",
              " 'metabolic',\n",
              " 'clean',\n",
              " 'total',\n",
              " 'mean',\n",
              " 'let',\n",
              " 'plague',\n",
              " 'hope',\n",
              " 'guide',\n",
              " 'general',\n",
              " 'epilepsy',\n",
              " 'sufferers',\n",
              " 'zaps',\n",
              " 'increase',\n",
              " 'pissed',\n",
              " 'beer',\n",
              " 'abdomen',\n",
              " 'monster',\n",
              " 'fibrosis',\n",
              " 'puking',\n",
              " 'acquired',\n",
              " 'awakening',\n",
              " 'serve',\n",
              " 'cramp',\n",
              " 'sauce',\n",
              " 'past',\n",
              " 'premenstrual',\n",
              " 'pregnancy',\n",
              " 'hit',\n",
              " 'order',\n",
              " 'hangover',\n",
              " 'pretty',\n",
              " 'atrophic',\n",
              " 'ulcerative',\n",
              " 'stomatitis',\n",
              " 'shut',\n",
              " 'caused',\n",
              " 'toe',\n",
              " 'drink',\n",
              " 'psychiatric',\n",
              " 'discoloration',\n",
              " 'convulsive',\n",
              " 'upset',\n",
              " 'animal',\n",
              " 'cranky',\n",
              " 'grumpy',\n",
              " 'quality',\n",
              " 'around',\n",
              " 'embolism',\n",
              " 'numb',\n",
              " 'multiforme',\n",
              " 'thrombocytopenic',\n",
              " 'knock',\n",
              " 'raised',\n",
              " 'tuberculosis',\n",
              " 'congestion',\n",
              " 'toxic',\n",
              " 'term',\n",
              " 'messed',\n",
              " 'due',\n",
              " 'vascular',\n",
              " 'sign',\n",
              " 'stenosis',\n",
              " 'arm',\n",
              " 'uk',\n",
              " 'talks',\n",
              " 'hyperplasia',\n",
              " 'flare',\n",
              " 'shit',\n",
              " 'mellitus',\n",
              " ...]"
            ]
          },
          "metadata": {
            "tags": []
          },
          "execution_count": 18
        }
      ]
    },
    {
      "cell_type": "code",
      "metadata": {
        "id": "yPWr03mls3VT",
        "outputId": "43c49ef3-3e51-4405-a5a7-14f34d546080",
        "colab": {
          "base_uri": "https://localhost:8080/",
          "height": 17
        }
      },
      "source": [
        "model_path = path/'models'\n",
        "model_path.mkdir(exist_ok=True)\n",
        "url = 'http://files.fast.ai/models/wt103_v1/'\n",
        "download_url(f'{url}lstm_wt103.pth', model_path/'lstm_wt103.pth')\n",
        "download_url(f'{url}itos_wt103.pkl', model_path/'itos_wt103.pkl')"
      ],
      "execution_count": 19,
      "outputs": [
        {
          "output_type": "display_data",
          "data": {
            "text/html": [
              ""
            ],
            "text/plain": [
              "<IPython.core.display.HTML object>"
            ]
          },
          "metadata": {
            "tags": []
          }
        },
        {
          "output_type": "display_data",
          "data": {
            "text/html": [
              ""
            ],
            "text/plain": [
              "<IPython.core.display.HTML object>"
            ]
          },
          "metadata": {
            "tags": []
          }
        }
      ]
    },
    {
      "cell_type": "code",
      "metadata": {
        "id": "JRzvWg8RtGGr",
        "outputId": "78d120a9-8ba4-4ee7-bdf9-7fe0effd0d43",
        "colab": {
          "base_uri": "https://localhost:8080/",
          "height": 34
        }
      },
      "source": [
        "learn = language_model_learner(data_lm, AWD_LSTM, drop_mult=0.5)"
      ],
      "execution_count": 20,
      "outputs": [
        {
          "output_type": "stream",
          "text": [
            "Downloading https://s3.amazonaws.com/fast-ai-modelzoo/wt103-fwd.tgz\n"
          ],
          "name": "stdout"
        },
        {
          "output_type": "display_data",
          "data": {
            "text/html": [
              ""
            ],
            "text/plain": [
              "<IPython.core.display.HTML object>"
            ]
          },
          "metadata": {
            "tags": []
          }
        }
      ]
    },
    {
      "cell_type": "code",
      "metadata": {
        "id": "xKK7GeBev7Xn",
        "outputId": "28bc022e-de78-4bf3-a537-7c16e3db7380",
        "colab": {
          "base_uri": "https://localhost:8080/",
          "height": 80
        }
      },
      "source": [
        "learn.fit_one_cycle(1, 1e-2)"
      ],
      "execution_count": 21,
      "outputs": [
        {
          "output_type": "display_data",
          "data": {
            "text/html": [
              "<table border=\"1\" class=\"dataframe\">\n",
              "  <thead>\n",
              "    <tr style=\"text-align: left;\">\n",
              "      <th>epoch</th>\n",
              "      <th>train_loss</th>\n",
              "      <th>valid_loss</th>\n",
              "      <th>accuracy</th>\n",
              "      <th>time</th>\n",
              "    </tr>\n",
              "  </thead>\n",
              "  <tbody>\n",
              "    <tr>\n",
              "      <td>0</td>\n",
              "      <td>4.369297</td>\n",
              "      <td>3.511884</td>\n",
              "      <td>0.455148</td>\n",
              "      <td>09:31</td>\n",
              "    </tr>\n",
              "  </tbody>\n",
              "</table>"
            ],
            "text/plain": [
              "<IPython.core.display.HTML object>"
            ]
          },
          "metadata": {
            "tags": []
          }
        }
      ]
    },
    {
      "cell_type": "code",
      "metadata": {
        "id": "iB7rHGQCwd12",
        "outputId": "6b528077-6726-4cf7-e316-9303bcde1615",
        "colab": {
          "base_uri": "https://localhost:8080/",
          "height": 80
        }
      },
      "source": [
        "learn.fit_one_cycle(1, 1e-2)"
      ],
      "execution_count": 22,
      "outputs": [
        {
          "output_type": "display_data",
          "data": {
            "text/html": [
              "<table border=\"1\" class=\"dataframe\">\n",
              "  <thead>\n",
              "    <tr style=\"text-align: left;\">\n",
              "      <th>epoch</th>\n",
              "      <th>train_loss</th>\n",
              "      <th>valid_loss</th>\n",
              "      <th>accuracy</th>\n",
              "      <th>time</th>\n",
              "    </tr>\n",
              "  </thead>\n",
              "  <tbody>\n",
              "    <tr>\n",
              "      <td>0</td>\n",
              "      <td>3.291300</td>\n",
              "      <td>2.995682</td>\n",
              "      <td>0.513825</td>\n",
              "      <td>09:31</td>\n",
              "    </tr>\n",
              "  </tbody>\n",
              "</table>"
            ],
            "text/plain": [
              "<IPython.core.display.HTML object>"
            ]
          },
          "metadata": {
            "tags": []
          }
        }
      ]
    },
    {
      "cell_type": "code",
      "metadata": {
        "id": "_BnSuAeCwkBe",
        "outputId": "fba68c2d-d740-4299-ffe9-9efd9a0a976d",
        "colab": {
          "base_uri": "https://localhost:8080/",
          "height": 80
        }
      },
      "source": [
        "learn.fit_one_cycle(1, 1e-3)"
      ],
      "execution_count": 23,
      "outputs": [
        {
          "output_type": "display_data",
          "data": {
            "text/html": [
              "<table border=\"1\" class=\"dataframe\">\n",
              "  <thead>\n",
              "    <tr style=\"text-align: left;\">\n",
              "      <th>epoch</th>\n",
              "      <th>train_loss</th>\n",
              "      <th>valid_loss</th>\n",
              "      <th>accuracy</th>\n",
              "      <th>time</th>\n",
              "    </tr>\n",
              "  </thead>\n",
              "  <tbody>\n",
              "    <tr>\n",
              "      <td>0</td>\n",
              "      <td>3.035456</td>\n",
              "      <td>2.947534</td>\n",
              "      <td>0.518778</td>\n",
              "      <td>09:27</td>\n",
              "    </tr>\n",
              "  </tbody>\n",
              "</table>"
            ],
            "text/plain": [
              "<IPython.core.display.HTML object>"
            ]
          },
          "metadata": {
            "tags": []
          }
        }
      ]
    },
    {
      "cell_type": "code",
      "metadata": {
        "id": "MuTm-RFjwrEX",
        "outputId": "ef304d9c-0aa5-491a-eae4-1a99c8cf1b28",
        "colab": {
          "base_uri": "https://localhost:8080/",
          "height": 80
        }
      },
      "source": [
        "learn.fit_one_cycle(1, 1e-3)"
      ],
      "execution_count": 24,
      "outputs": [
        {
          "output_type": "display_data",
          "data": {
            "text/html": [
              "<table border=\"1\" class=\"dataframe\">\n",
              "  <thead>\n",
              "    <tr style=\"text-align: left;\">\n",
              "      <th>epoch</th>\n",
              "      <th>train_loss</th>\n",
              "      <th>valid_loss</th>\n",
              "      <th>accuracy</th>\n",
              "      <th>time</th>\n",
              "    </tr>\n",
              "  </thead>\n",
              "  <tbody>\n",
              "    <tr>\n",
              "      <td>0</td>\n",
              "      <td>2.980360</td>\n",
              "      <td>2.907604</td>\n",
              "      <td>0.521903</td>\n",
              "      <td>09:35</td>\n",
              "    </tr>\n",
              "  </tbody>\n",
              "</table>"
            ],
            "text/plain": [
              "<IPython.core.display.HTML object>"
            ]
          },
          "metadata": {
            "tags": []
          }
        }
      ]
    },
    {
      "cell_type": "code",
      "metadata": {
        "id": "1Er2ExO8wr7Y"
      },
      "source": [
        "learn.save_encoder('TwADR-bigtweet_fold7_first')"
      ],
      "execution_count": 25,
      "outputs": []
    },
    {
      "cell_type": "code",
      "metadata": {
        "id": "z52cZs2qwvad",
        "outputId": "e0e1beaa-2b49-4e7e-9d9c-58c7683848d3",
        "colab": {
          "base_uri": "https://localhost:8080/",
          "height": 80
        }
      },
      "source": [
        "learn = text_classifier_learner(data_clas,AWD_LSTM, drop_mult=0.5)\n",
        "learn.load_encoder('TwADR-bigtweet_fold7_first')\n",
        "learn.fit_one_cycle(1, 1e-2)"
      ],
      "execution_count": 26,
      "outputs": [
        {
          "output_type": "display_data",
          "data": {
            "text/html": [
              "<table border=\"1\" class=\"dataframe\">\n",
              "  <thead>\n",
              "    <tr style=\"text-align: left;\">\n",
              "      <th>epoch</th>\n",
              "      <th>train_loss</th>\n",
              "      <th>valid_loss</th>\n",
              "      <th>accuracy</th>\n",
              "      <th>time</th>\n",
              "    </tr>\n",
              "  </thead>\n",
              "  <tbody>\n",
              "    <tr>\n",
              "      <td>0</td>\n",
              "      <td>7.280585</td>\n",
              "      <td>6.281684</td>\n",
              "      <td>0.126761</td>\n",
              "      <td>00:28</td>\n",
              "    </tr>\n",
              "  </tbody>\n",
              "</table>"
            ],
            "text/plain": [
              "<IPython.core.display.HTML object>"
            ]
          },
          "metadata": {
            "tags": []
          }
        }
      ]
    },
    {
      "cell_type": "code",
      "metadata": {
        "id": "ImwQP1PJwzxd",
        "outputId": "2bbf1ee9-7d2d-4833-da95-8faeb9c7540c",
        "colab": {
          "base_uri": "https://localhost:8080/",
          "height": 80
        }
      },
      "source": [
        "learn.freeze_to(-2)\n",
        "learn.fit_one_cycle(1, slice(5e-3/2., 5e-3))"
      ],
      "execution_count": 27,
      "outputs": [
        {
          "output_type": "display_data",
          "data": {
            "text/html": [
              "<table border=\"1\" class=\"dataframe\">\n",
              "  <thead>\n",
              "    <tr style=\"text-align: left;\">\n",
              "      <th>epoch</th>\n",
              "      <th>train_loss</th>\n",
              "      <th>valid_loss</th>\n",
              "      <th>accuracy</th>\n",
              "      <th>time</th>\n",
              "    </tr>\n",
              "  </thead>\n",
              "  <tbody>\n",
              "    <tr>\n",
              "      <td>0</td>\n",
              "      <td>6.263478</td>\n",
              "      <td>5.818071</td>\n",
              "      <td>0.161972</td>\n",
              "      <td>00:31</td>\n",
              "    </tr>\n",
              "  </tbody>\n",
              "</table>"
            ],
            "text/plain": [
              "<IPython.core.display.HTML object>"
            ]
          },
          "metadata": {
            "tags": []
          }
        }
      ]
    },
    {
      "cell_type": "code",
      "metadata": {
        "id": "Owff_BJXw53u",
        "outputId": "c4c3de43-f15c-4188-f2a5-a95c4a6f9b15",
        "colab": {
          "base_uri": "https://localhost:8080/",
          "height": 80
        }
      },
      "source": [
        "learn.unfreeze()\n",
        "learn.fit_one_cycle(1, slice(2e-3/100, 2e-3))"
      ],
      "execution_count": 28,
      "outputs": [
        {
          "output_type": "display_data",
          "data": {
            "text/html": [
              "<table border=\"1\" class=\"dataframe\">\n",
              "  <thead>\n",
              "    <tr style=\"text-align: left;\">\n",
              "      <th>epoch</th>\n",
              "      <th>train_loss</th>\n",
              "      <th>valid_loss</th>\n",
              "      <th>accuracy</th>\n",
              "      <th>time</th>\n",
              "    </tr>\n",
              "  </thead>\n",
              "  <tbody>\n",
              "    <tr>\n",
              "      <td>0</td>\n",
              "      <td>5.761266</td>\n",
              "      <td>4.973797</td>\n",
              "      <td>0.161972</td>\n",
              "      <td>01:09</td>\n",
              "    </tr>\n",
              "  </tbody>\n",
              "</table>"
            ],
            "text/plain": [
              "<IPython.core.display.HTML object>"
            ]
          },
          "metadata": {
            "tags": []
          }
        }
      ]
    },
    {
      "cell_type": "code",
      "metadata": {
        "id": "lqAyu56V8Waq",
        "outputId": "6f9aa9c0-e04b-4abb-af7f-972cdf5aa87f",
        "colab": {
          "base_uri": "https://localhost:8080/",
          "height": 111
        }
      },
      "source": [
        "learn.fit_one_cycle(2, slice(2e-3/100, 2e-3))"
      ],
      "execution_count": 29,
      "outputs": [
        {
          "output_type": "display_data",
          "data": {
            "text/html": [
              "<table border=\"1\" class=\"dataframe\">\n",
              "  <thead>\n",
              "    <tr style=\"text-align: left;\">\n",
              "      <th>epoch</th>\n",
              "      <th>train_loss</th>\n",
              "      <th>valid_loss</th>\n",
              "      <th>accuracy</th>\n",
              "      <th>time</th>\n",
              "    </tr>\n",
              "  </thead>\n",
              "  <tbody>\n",
              "    <tr>\n",
              "      <td>0</td>\n",
              "      <td>5.476041</td>\n",
              "      <td>4.676027</td>\n",
              "      <td>0.211268</td>\n",
              "      <td>01:11</td>\n",
              "    </tr>\n",
              "    <tr>\n",
              "      <td>1</td>\n",
              "      <td>5.256366</td>\n",
              "      <td>4.565952</td>\n",
              "      <td>0.204225</td>\n",
              "      <td>01:09</td>\n",
              "    </tr>\n",
              "  </tbody>\n",
              "</table>"
            ],
            "text/plain": [
              "<IPython.core.display.HTML object>"
            ]
          },
          "metadata": {
            "tags": []
          }
        }
      ]
    },
    {
      "cell_type": "code",
      "metadata": {
        "id": "a7I1xMRp8bUd",
        "outputId": "8f0d2be7-b4f2-4dd3-f4fb-d86565d06486",
        "colab": {
          "base_uri": "https://localhost:8080/",
          "height": 111
        }
      },
      "source": [
        "learn.fit_one_cycle(2, slice(2e-3/100, 2e-3))"
      ],
      "execution_count": 30,
      "outputs": [
        {
          "output_type": "display_data",
          "data": {
            "text/html": [
              "<table border=\"1\" class=\"dataframe\">\n",
              "  <thead>\n",
              "    <tr style=\"text-align: left;\">\n",
              "      <th>epoch</th>\n",
              "      <th>train_loss</th>\n",
              "      <th>valid_loss</th>\n",
              "      <th>accuracy</th>\n",
              "      <th>time</th>\n",
              "    </tr>\n",
              "  </thead>\n",
              "  <tbody>\n",
              "    <tr>\n",
              "      <td>0</td>\n",
              "      <td>5.004102</td>\n",
              "      <td>4.346807</td>\n",
              "      <td>0.274648</td>\n",
              "      <td>01:07</td>\n",
              "    </tr>\n",
              "    <tr>\n",
              "      <td>1</td>\n",
              "      <td>4.821793</td>\n",
              "      <td>4.222142</td>\n",
              "      <td>0.274648</td>\n",
              "      <td>01:09</td>\n",
              "    </tr>\n",
              "  </tbody>\n",
              "</table>"
            ],
            "text/plain": [
              "<IPython.core.display.HTML object>"
            ]
          },
          "metadata": {
            "tags": []
          }
        }
      ]
    },
    {
      "cell_type": "code",
      "metadata": {
        "id": "UAnti-XmGVfO",
        "outputId": "3c235e3e-d9fe-4587-fc00-ea57612b6314",
        "colab": {
          "base_uri": "https://localhost:8080/",
          "height": 111
        }
      },
      "source": [
        "learn.fit_one_cycle(2, slice(2e-3/100, 2e-3))"
      ],
      "execution_count": 31,
      "outputs": [
        {
          "output_type": "display_data",
          "data": {
            "text/html": [
              "<table border=\"1\" class=\"dataframe\">\n",
              "  <thead>\n",
              "    <tr style=\"text-align: left;\">\n",
              "      <th>epoch</th>\n",
              "      <th>train_loss</th>\n",
              "      <th>valid_loss</th>\n",
              "      <th>accuracy</th>\n",
              "      <th>time</th>\n",
              "    </tr>\n",
              "  </thead>\n",
              "  <tbody>\n",
              "    <tr>\n",
              "      <td>0</td>\n",
              "      <td>4.589628</td>\n",
              "      <td>4.087850</td>\n",
              "      <td>0.295775</td>\n",
              "      <td>01:06</td>\n",
              "    </tr>\n",
              "    <tr>\n",
              "      <td>1</td>\n",
              "      <td>4.421877</td>\n",
              "      <td>3.960006</td>\n",
              "      <td>0.316901</td>\n",
              "      <td>01:10</td>\n",
              "    </tr>\n",
              "  </tbody>\n",
              "</table>"
            ],
            "text/plain": [
              "<IPython.core.display.HTML object>"
            ]
          },
          "metadata": {
            "tags": []
          }
        }
      ]
    },
    {
      "cell_type": "code",
      "metadata": {
        "id": "bIft7W25GwSu",
        "outputId": "11358962-34c2-4b56-bd6e-25fe0e6b06e1",
        "colab": {
          "base_uri": "https://localhost:8080/",
          "height": 111
        }
      },
      "source": [
        "learn.fit_one_cycle(2, slice(2e-3/100, 2e-3))"
      ],
      "execution_count": 32,
      "outputs": [
        {
          "output_type": "display_data",
          "data": {
            "text/html": [
              "<table border=\"1\" class=\"dataframe\">\n",
              "  <thead>\n",
              "    <tr style=\"text-align: left;\">\n",
              "      <th>epoch</th>\n",
              "      <th>train_loss</th>\n",
              "      <th>valid_loss</th>\n",
              "      <th>accuracy</th>\n",
              "      <th>time</th>\n",
              "    </tr>\n",
              "  </thead>\n",
              "  <tbody>\n",
              "    <tr>\n",
              "      <td>0</td>\n",
              "      <td>4.225294</td>\n",
              "      <td>3.784171</td>\n",
              "      <td>0.323944</td>\n",
              "      <td>01:04</td>\n",
              "    </tr>\n",
              "    <tr>\n",
              "      <td>1</td>\n",
              "      <td>4.073627</td>\n",
              "      <td>3.705823</td>\n",
              "      <td>0.366197</td>\n",
              "      <td>01:11</td>\n",
              "    </tr>\n",
              "  </tbody>\n",
              "</table>"
            ],
            "text/plain": [
              "<IPython.core.display.HTML object>"
            ]
          },
          "metadata": {
            "tags": []
          }
        }
      ]
    },
    {
      "cell_type": "code",
      "metadata": {
        "id": "EEHszVRvGyFt",
        "outputId": "8b88985f-8326-481a-a240-e5194b7e8978",
        "colab": {
          "base_uri": "https://localhost:8080/",
          "height": 111
        }
      },
      "source": [
        "learn.fit_one_cycle(2, slice(2e-3/100, 2e-3))"
      ],
      "execution_count": 33,
      "outputs": [
        {
          "output_type": "display_data",
          "data": {
            "text/html": [
              "<table border=\"1\" class=\"dataframe\">\n",
              "  <thead>\n",
              "    <tr style=\"text-align: left;\">\n",
              "      <th>epoch</th>\n",
              "      <th>train_loss</th>\n",
              "      <th>valid_loss</th>\n",
              "      <th>accuracy</th>\n",
              "      <th>time</th>\n",
              "    </tr>\n",
              "  </thead>\n",
              "  <tbody>\n",
              "    <tr>\n",
              "      <td>0</td>\n",
              "      <td>3.889095</td>\n",
              "      <td>3.613324</td>\n",
              "      <td>0.345070</td>\n",
              "      <td>01:03</td>\n",
              "    </tr>\n",
              "    <tr>\n",
              "      <td>1</td>\n",
              "      <td>3.715437</td>\n",
              "      <td>3.537848</td>\n",
              "      <td>0.366197</td>\n",
              "      <td>01:06</td>\n",
              "    </tr>\n",
              "  </tbody>\n",
              "</table>"
            ],
            "text/plain": [
              "<IPython.core.display.HTML object>"
            ]
          },
          "metadata": {
            "tags": []
          }
        }
      ]
    },
    {
      "cell_type": "code",
      "metadata": {
        "id": "XsHfrhCHG3dN",
        "outputId": "8c210911-33b9-4b46-8be2-7ec7e3822f4d",
        "colab": {
          "base_uri": "https://localhost:8080/",
          "height": 173
        }
      },
      "source": [
        "learn.fit_one_cycle(4, slice(2e-3/100, 2e-3))"
      ],
      "execution_count": 34,
      "outputs": [
        {
          "output_type": "display_data",
          "data": {
            "text/html": [
              "<table border=\"1\" class=\"dataframe\">\n",
              "  <thead>\n",
              "    <tr style=\"text-align: left;\">\n",
              "      <th>epoch</th>\n",
              "      <th>train_loss</th>\n",
              "      <th>valid_loss</th>\n",
              "      <th>accuracy</th>\n",
              "      <th>time</th>\n",
              "    </tr>\n",
              "  </thead>\n",
              "  <tbody>\n",
              "    <tr>\n",
              "      <td>0</td>\n",
              "      <td>3.593689</td>\n",
              "      <td>3.458236</td>\n",
              "      <td>0.366197</td>\n",
              "      <td>01:02</td>\n",
              "    </tr>\n",
              "    <tr>\n",
              "      <td>1</td>\n",
              "      <td>3.471777</td>\n",
              "      <td>3.389558</td>\n",
              "      <td>0.408451</td>\n",
              "      <td>01:10</td>\n",
              "    </tr>\n",
              "    <tr>\n",
              "      <td>2</td>\n",
              "      <td>3.321856</td>\n",
              "      <td>3.386578</td>\n",
              "      <td>0.415493</td>\n",
              "      <td>01:08</td>\n",
              "    </tr>\n",
              "    <tr>\n",
              "      <td>3</td>\n",
              "      <td>3.120277</td>\n",
              "      <td>3.359770</td>\n",
              "      <td>0.415493</td>\n",
              "      <td>01:06</td>\n",
              "    </tr>\n",
              "  </tbody>\n",
              "</table>"
            ],
            "text/plain": [
              "<IPython.core.display.HTML object>"
            ]
          },
          "metadata": {
            "tags": []
          }
        }
      ]
    },
    {
      "cell_type": "code",
      "metadata": {
        "id": "0Zsd99isb9EQ",
        "outputId": "ea4c99ec-ed16-442d-fa36-804739a6d49c",
        "colab": {
          "base_uri": "https://localhost:8080/",
          "height": 173
        }
      },
      "source": [
        "learn.fit_one_cycle(4, slice(2e-3/100, 2e-3))"
      ],
      "execution_count": 35,
      "outputs": [
        {
          "output_type": "display_data",
          "data": {
            "text/html": [
              "<table border=\"1\" class=\"dataframe\">\n",
              "  <thead>\n",
              "    <tr style=\"text-align: left;\">\n",
              "      <th>epoch</th>\n",
              "      <th>train_loss</th>\n",
              "      <th>valid_loss</th>\n",
              "      <th>accuracy</th>\n",
              "      <th>time</th>\n",
              "    </tr>\n",
              "  </thead>\n",
              "  <tbody>\n",
              "    <tr>\n",
              "      <td>0</td>\n",
              "      <td>2.935599</td>\n",
              "      <td>3.305051</td>\n",
              "      <td>0.401408</td>\n",
              "      <td>01:10</td>\n",
              "    </tr>\n",
              "    <tr>\n",
              "      <td>1</td>\n",
              "      <td>2.887062</td>\n",
              "      <td>3.270604</td>\n",
              "      <td>0.408451</td>\n",
              "      <td>01:10</td>\n",
              "    </tr>\n",
              "    <tr>\n",
              "      <td>2</td>\n",
              "      <td>2.719422</td>\n",
              "      <td>3.300037</td>\n",
              "      <td>0.387324</td>\n",
              "      <td>01:09</td>\n",
              "    </tr>\n",
              "    <tr>\n",
              "      <td>3</td>\n",
              "      <td>2.556783</td>\n",
              "      <td>3.267018</td>\n",
              "      <td>0.401408</td>\n",
              "      <td>01:07</td>\n",
              "    </tr>\n",
              "  </tbody>\n",
              "</table>"
            ],
            "text/plain": [
              "<IPython.core.display.HTML object>"
            ]
          },
          "metadata": {
            "tags": []
          }
        }
      ]
    },
    {
      "cell_type": "code",
      "metadata": {
        "id": "atNWNKDFPbuI",
        "outputId": "7290f67e-c38d-4839-8a11-b56d40eb431d",
        "colab": {
          "base_uri": "https://localhost:8080/",
          "height": 173
        }
      },
      "source": [
        "learn.fit_one_cycle(4, slice(2e-3/100, 2e-3))"
      ],
      "execution_count": 36,
      "outputs": [
        {
          "output_type": "display_data",
          "data": {
            "text/html": [
              "<table border=\"1\" class=\"dataframe\">\n",
              "  <thead>\n",
              "    <tr style=\"text-align: left;\">\n",
              "      <th>epoch</th>\n",
              "      <th>train_loss</th>\n",
              "      <th>valid_loss</th>\n",
              "      <th>accuracy</th>\n",
              "      <th>time</th>\n",
              "    </tr>\n",
              "  </thead>\n",
              "  <tbody>\n",
              "    <tr>\n",
              "      <td>0</td>\n",
              "      <td>2.423056</td>\n",
              "      <td>3.296239</td>\n",
              "      <td>0.408451</td>\n",
              "      <td>01:04</td>\n",
              "    </tr>\n",
              "    <tr>\n",
              "      <td>1</td>\n",
              "      <td>2.365986</td>\n",
              "      <td>3.288677</td>\n",
              "      <td>0.415493</td>\n",
              "      <td>01:08</td>\n",
              "    </tr>\n",
              "    <tr>\n",
              "      <td>2</td>\n",
              "      <td>2.195576</td>\n",
              "      <td>3.219337</td>\n",
              "      <td>0.401408</td>\n",
              "      <td>01:07</td>\n",
              "    </tr>\n",
              "    <tr>\n",
              "      <td>3</td>\n",
              "      <td>2.074013</td>\n",
              "      <td>3.208453</td>\n",
              "      <td>0.408451</td>\n",
              "      <td>01:09</td>\n",
              "    </tr>\n",
              "  </tbody>\n",
              "</table>"
            ],
            "text/plain": [
              "<IPython.core.display.HTML object>"
            ]
          },
          "metadata": {
            "tags": []
          }
        }
      ]
    },
    {
      "cell_type": "code",
      "metadata": {
        "id": "rKrBTZ0T1uVA",
        "outputId": "980ba059-14e7-40b4-fc93-50b79644e9dd",
        "colab": {
          "base_uri": "https://localhost:8080/",
          "height": 173
        }
      },
      "source": [
        "learn.fit_one_cycle(4, slice(2e-3/100, 2e-3))"
      ],
      "execution_count": 37,
      "outputs": [
        {
          "output_type": "display_data",
          "data": {
            "text/html": [
              "<table border=\"1\" class=\"dataframe\">\n",
              "  <thead>\n",
              "    <tr style=\"text-align: left;\">\n",
              "      <th>epoch</th>\n",
              "      <th>train_loss</th>\n",
              "      <th>valid_loss</th>\n",
              "      <th>accuracy</th>\n",
              "      <th>time</th>\n",
              "    </tr>\n",
              "  </thead>\n",
              "  <tbody>\n",
              "    <tr>\n",
              "      <td>0</td>\n",
              "      <td>1.919234</td>\n",
              "      <td>3.250190</td>\n",
              "      <td>0.422535</td>\n",
              "      <td>01:07</td>\n",
              "    </tr>\n",
              "    <tr>\n",
              "      <td>1</td>\n",
              "      <td>1.919992</td>\n",
              "      <td>3.215484</td>\n",
              "      <td>0.408451</td>\n",
              "      <td>01:05</td>\n",
              "    </tr>\n",
              "    <tr>\n",
              "      <td>2</td>\n",
              "      <td>1.798878</td>\n",
              "      <td>3.332634</td>\n",
              "      <td>0.415493</td>\n",
              "      <td>01:06</td>\n",
              "    </tr>\n",
              "    <tr>\n",
              "      <td>3</td>\n",
              "      <td>1.660861</td>\n",
              "      <td>3.322710</td>\n",
              "      <td>0.415493</td>\n",
              "      <td>01:10</td>\n",
              "    </tr>\n",
              "  </tbody>\n",
              "</table>"
            ],
            "text/plain": [
              "<IPython.core.display.HTML object>"
            ]
          },
          "metadata": {
            "tags": []
          }
        }
      ]
    },
    {
      "cell_type": "code",
      "metadata": {
        "id": "ajQC6WDg1yA9",
        "outputId": "cbf991b4-2e39-4eea-e5f2-86132b4e814b",
        "colab": {
          "base_uri": "https://localhost:8080/",
          "height": 173
        }
      },
      "source": [
        "learn.fit_one_cycle(4, slice(2e-3/100, 2e-3))"
      ],
      "execution_count": 38,
      "outputs": [
        {
          "output_type": "display_data",
          "data": {
            "text/html": [
              "<table border=\"1\" class=\"dataframe\">\n",
              "  <thead>\n",
              "    <tr style=\"text-align: left;\">\n",
              "      <th>epoch</th>\n",
              "      <th>train_loss</th>\n",
              "      <th>valid_loss</th>\n",
              "      <th>accuracy</th>\n",
              "      <th>time</th>\n",
              "    </tr>\n",
              "  </thead>\n",
              "  <tbody>\n",
              "    <tr>\n",
              "      <td>0</td>\n",
              "      <td>1.523316</td>\n",
              "      <td>3.299520</td>\n",
              "      <td>0.408451</td>\n",
              "      <td>01:09</td>\n",
              "    </tr>\n",
              "    <tr>\n",
              "      <td>1</td>\n",
              "      <td>1.536404</td>\n",
              "      <td>3.434026</td>\n",
              "      <td>0.422535</td>\n",
              "      <td>01:10</td>\n",
              "    </tr>\n",
              "    <tr>\n",
              "      <td>2</td>\n",
              "      <td>1.404883</td>\n",
              "      <td>3.354916</td>\n",
              "      <td>0.436620</td>\n",
              "      <td>01:09</td>\n",
              "    </tr>\n",
              "    <tr>\n",
              "      <td>3</td>\n",
              "      <td>1.299919</td>\n",
              "      <td>3.360826</td>\n",
              "      <td>0.436620</td>\n",
              "      <td>01:10</td>\n",
              "    </tr>\n",
              "  </tbody>\n",
              "</table>"
            ],
            "text/plain": [
              "<IPython.core.display.HTML object>"
            ]
          },
          "metadata": {
            "tags": []
          }
        }
      ]
    },
    {
      "cell_type": "code",
      "metadata": {
        "id": "KKydb0B4BKGk",
        "outputId": "ff2657e6-058b-4c79-821b-66decb5302ac",
        "colab": {
          "base_uri": "https://localhost:8080/",
          "height": 173
        }
      },
      "source": [
        "learn.fit_one_cycle(4, slice(2e-3/100, 2e-3))"
      ],
      "execution_count": 39,
      "outputs": [
        {
          "output_type": "display_data",
          "data": {
            "text/html": [
              "<table border=\"1\" class=\"dataframe\">\n",
              "  <thead>\n",
              "    <tr style=\"text-align: left;\">\n",
              "      <th>epoch</th>\n",
              "      <th>train_loss</th>\n",
              "      <th>valid_loss</th>\n",
              "      <th>accuracy</th>\n",
              "      <th>time</th>\n",
              "    </tr>\n",
              "  </thead>\n",
              "  <tbody>\n",
              "    <tr>\n",
              "      <td>0</td>\n",
              "      <td>1.181112</td>\n",
              "      <td>3.348787</td>\n",
              "      <td>0.429577</td>\n",
              "      <td>01:04</td>\n",
              "    </tr>\n",
              "    <tr>\n",
              "      <td>1</td>\n",
              "      <td>1.212193</td>\n",
              "      <td>3.454866</td>\n",
              "      <td>0.415493</td>\n",
              "      <td>01:06</td>\n",
              "    </tr>\n",
              "    <tr>\n",
              "      <td>2</td>\n",
              "      <td>1.137413</td>\n",
              "      <td>3.447193</td>\n",
              "      <td>0.436620</td>\n",
              "      <td>01:07</td>\n",
              "    </tr>\n",
              "    <tr>\n",
              "      <td>3</td>\n",
              "      <td>1.032148</td>\n",
              "      <td>3.439932</td>\n",
              "      <td>0.436620</td>\n",
              "      <td>01:04</td>\n",
              "    </tr>\n",
              "  </tbody>\n",
              "</table>"
            ],
            "text/plain": [
              "<IPython.core.display.HTML object>"
            ]
          },
          "metadata": {
            "tags": []
          }
        }
      ]
    },
    {
      "cell_type": "code",
      "metadata": {
        "id": "T2APKtFKBpGY",
        "outputId": "100e32e5-fdfb-4f33-84b3-10938b552903",
        "colab": {
          "base_uri": "https://localhost:8080/",
          "height": 173
        }
      },
      "source": [
        "learn.fit_one_cycle(4, slice(2e-3/100, 2e-3))"
      ],
      "execution_count": 40,
      "outputs": [
        {
          "output_type": "display_data",
          "data": {
            "text/html": [
              "<table border=\"1\" class=\"dataframe\">\n",
              "  <thead>\n",
              "    <tr style=\"text-align: left;\">\n",
              "      <th>epoch</th>\n",
              "      <th>train_loss</th>\n",
              "      <th>valid_loss</th>\n",
              "      <th>accuracy</th>\n",
              "      <th>time</th>\n",
              "    </tr>\n",
              "  </thead>\n",
              "  <tbody>\n",
              "    <tr>\n",
              "      <td>0</td>\n",
              "      <td>0.976637</td>\n",
              "      <td>3.439493</td>\n",
              "      <td>0.436620</td>\n",
              "      <td>01:12</td>\n",
              "    </tr>\n",
              "    <tr>\n",
              "      <td>1</td>\n",
              "      <td>0.993702</td>\n",
              "      <td>3.522117</td>\n",
              "      <td>0.429577</td>\n",
              "      <td>01:05</td>\n",
              "    </tr>\n",
              "    <tr>\n",
              "      <td>2</td>\n",
              "      <td>0.928338</td>\n",
              "      <td>3.531862</td>\n",
              "      <td>0.429577</td>\n",
              "      <td>01:07</td>\n",
              "    </tr>\n",
              "    <tr>\n",
              "      <td>3</td>\n",
              "      <td>0.855353</td>\n",
              "      <td>3.516958</td>\n",
              "      <td>0.443662</td>\n",
              "      <td>01:05</td>\n",
              "    </tr>\n",
              "  </tbody>\n",
              "</table>"
            ],
            "text/plain": [
              "<IPython.core.display.HTML object>"
            ]
          },
          "metadata": {
            "tags": []
          }
        }
      ]
    },
    {
      "cell_type": "code",
      "metadata": {
        "id": "qtTypA1sPgLU",
        "outputId": "f34f569f-dbb3-4d65-901d-7d5a93ffef40",
        "colab": {
          "base_uri": "https://localhost:8080/",
          "height": 111
        }
      },
      "source": [
        "learn.fit_one_cycle(2, slice(2e-3/100, 2e-3))"
      ],
      "execution_count": 41,
      "outputs": [
        {
          "output_type": "display_data",
          "data": {
            "text/html": [
              "<table border=\"1\" class=\"dataframe\">\n",
              "  <thead>\n",
              "    <tr style=\"text-align: left;\">\n",
              "      <th>epoch</th>\n",
              "      <th>train_loss</th>\n",
              "      <th>valid_loss</th>\n",
              "      <th>accuracy</th>\n",
              "      <th>time</th>\n",
              "    </tr>\n",
              "  </thead>\n",
              "  <tbody>\n",
              "    <tr>\n",
              "      <td>0</td>\n",
              "      <td>0.796547</td>\n",
              "      <td>3.783062</td>\n",
              "      <td>0.429577</td>\n",
              "      <td>01:08</td>\n",
              "    </tr>\n",
              "    <tr>\n",
              "      <td>1</td>\n",
              "      <td>0.772732</td>\n",
              "      <td>3.716344</td>\n",
              "      <td>0.422535</td>\n",
              "      <td>01:04</td>\n",
              "    </tr>\n",
              "  </tbody>\n",
              "</table>"
            ],
            "text/plain": [
              "<IPython.core.display.HTML object>"
            ]
          },
          "metadata": {
            "tags": []
          }
        }
      ]
    },
    {
      "cell_type": "code",
      "metadata": {
        "id": "b242kBsTUp9Y",
        "outputId": "3a10f1ca-7809-4d2a-9101-7476f7347800",
        "colab": {
          "base_uri": "https://localhost:8080/",
          "height": 111
        }
      },
      "source": [
        "learn.fit_one_cycle(2, slice(2e-3/100, 2e-3))"
      ],
      "execution_count": 42,
      "outputs": [
        {
          "output_type": "display_data",
          "data": {
            "text/html": [
              "<table border=\"1\" class=\"dataframe\">\n",
              "  <thead>\n",
              "    <tr style=\"text-align: left;\">\n",
              "      <th>epoch</th>\n",
              "      <th>train_loss</th>\n",
              "      <th>valid_loss</th>\n",
              "      <th>accuracy</th>\n",
              "      <th>time</th>\n",
              "    </tr>\n",
              "  </thead>\n",
              "  <tbody>\n",
              "    <tr>\n",
              "      <td>0</td>\n",
              "      <td>0.734167</td>\n",
              "      <td>3.805909</td>\n",
              "      <td>0.422535</td>\n",
              "      <td>01:03</td>\n",
              "    </tr>\n",
              "    <tr>\n",
              "      <td>1</td>\n",
              "      <td>0.703224</td>\n",
              "      <td>3.770158</td>\n",
              "      <td>0.422535</td>\n",
              "      <td>01:03</td>\n",
              "    </tr>\n",
              "  </tbody>\n",
              "</table>"
            ],
            "text/plain": [
              "<IPython.core.display.HTML object>"
            ]
          },
          "metadata": {
            "tags": []
          }
        }
      ]
    },
    {
      "cell_type": "code",
      "metadata": {
        "id": "Duwf1Ih5VeDZ",
        "outputId": "a6612497-b1bf-4436-b322-efca3a087e6f",
        "colab": {
          "base_uri": "https://localhost:8080/",
          "height": 80
        }
      },
      "source": [
        "learn.fit_one_cycle(1, slice(2e-3/100, 2e-3))"
      ],
      "execution_count": 43,
      "outputs": [
        {
          "output_type": "display_data",
          "data": {
            "text/html": [
              "<table border=\"1\" class=\"dataframe\">\n",
              "  <thead>\n",
              "    <tr style=\"text-align: left;\">\n",
              "      <th>epoch</th>\n",
              "      <th>train_loss</th>\n",
              "      <th>valid_loss</th>\n",
              "      <th>accuracy</th>\n",
              "      <th>time</th>\n",
              "    </tr>\n",
              "  </thead>\n",
              "  <tbody>\n",
              "    <tr>\n",
              "      <td>0</td>\n",
              "      <td>0.689642</td>\n",
              "      <td>3.708044</td>\n",
              "      <td>0.429577</td>\n",
              "      <td>01:04</td>\n",
              "    </tr>\n",
              "  </tbody>\n",
              "</table>"
            ],
            "text/plain": [
              "<IPython.core.display.HTML object>"
            ]
          },
          "metadata": {
            "tags": []
          }
        }
      ]
    },
    {
      "cell_type": "code",
      "metadata": {
        "id": "c65d-osfDUXm"
      },
      "source": [
        "# save the best model\n",
        "\n",
        "learn.save_encoder('TwADR-bigtweet_fold7')"
      ],
      "execution_count": 44,
      "outputs": []
    },
    {
      "cell_type": "code",
      "metadata": {
        "id": "5h-A_GpAIYg8",
        "outputId": "c17319cf-0c2c-48be-fbf8-2e787e39155b",
        "colab": {
          "base_uri": "https://localhost:8080/",
          "height": 80
        }
      },
      "source": [
        "learn.fit_one_cycle(1, slice(2e-3/100, 2e-3))"
      ],
      "execution_count": 45,
      "outputs": [
        {
          "output_type": "display_data",
          "data": {
            "text/html": [
              "<table border=\"1\" class=\"dataframe\">\n",
              "  <thead>\n",
              "    <tr style=\"text-align: left;\">\n",
              "      <th>epoch</th>\n",
              "      <th>train_loss</th>\n",
              "      <th>valid_loss</th>\n",
              "      <th>accuracy</th>\n",
              "      <th>time</th>\n",
              "    </tr>\n",
              "  </thead>\n",
              "  <tbody>\n",
              "    <tr>\n",
              "      <td>0</td>\n",
              "      <td>0.640719</td>\n",
              "      <td>3.776748</td>\n",
              "      <td>0.429577</td>\n",
              "      <td>01:09</td>\n",
              "    </tr>\n",
              "  </tbody>\n",
              "</table>"
            ],
            "text/plain": [
              "<IPython.core.display.HTML object>"
            ]
          },
          "metadata": {
            "tags": []
          }
        }
      ]
    },
    {
      "cell_type": "code",
      "metadata": {
        "id": "qc4poYxzIwca",
        "outputId": "c3ee901b-38ff-4207-fef8-d3fbb79fe3c2",
        "colab": {
          "base_uri": "https://localhost:8080/",
          "height": 80
        }
      },
      "source": [
        "learn.fit_one_cycle(1, slice(2e-3/100, 2e-3))"
      ],
      "execution_count": 46,
      "outputs": [
        {
          "output_type": "display_data",
          "data": {
            "text/html": [
              "<table border=\"1\" class=\"dataframe\">\n",
              "  <thead>\n",
              "    <tr style=\"text-align: left;\">\n",
              "      <th>epoch</th>\n",
              "      <th>train_loss</th>\n",
              "      <th>valid_loss</th>\n",
              "      <th>accuracy</th>\n",
              "      <th>time</th>\n",
              "    </tr>\n",
              "  </thead>\n",
              "  <tbody>\n",
              "    <tr>\n",
              "      <td>0</td>\n",
              "      <td>0.645979</td>\n",
              "      <td>3.744063</td>\n",
              "      <td>0.457746</td>\n",
              "      <td>01:06</td>\n",
              "    </tr>\n",
              "  </tbody>\n",
              "</table>"
            ],
            "text/plain": [
              "<IPython.core.display.HTML object>"
            ]
          },
          "metadata": {
            "tags": []
          }
        }
      ]
    },
    {
      "cell_type": "code",
      "metadata": {
        "id": "66s4PxV1JVfo",
        "outputId": "bc275ace-1dad-4411-a300-6c55313d9871",
        "colab": {
          "base_uri": "https://localhost:8080/",
          "height": 80
        }
      },
      "source": [
        "learn.fit_one_cycle(1, slice(2e-3/100, 2e-3))"
      ],
      "execution_count": 47,
      "outputs": [
        {
          "output_type": "display_data",
          "data": {
            "text/html": [
              "<table border=\"1\" class=\"dataframe\">\n",
              "  <thead>\n",
              "    <tr style=\"text-align: left;\">\n",
              "      <th>epoch</th>\n",
              "      <th>train_loss</th>\n",
              "      <th>valid_loss</th>\n",
              "      <th>accuracy</th>\n",
              "      <th>time</th>\n",
              "    </tr>\n",
              "  </thead>\n",
              "  <tbody>\n",
              "    <tr>\n",
              "      <td>0</td>\n",
              "      <td>0.612290</td>\n",
              "      <td>3.889948</td>\n",
              "      <td>0.436620</td>\n",
              "      <td>01:09</td>\n",
              "    </tr>\n",
              "  </tbody>\n",
              "</table>"
            ],
            "text/plain": [
              "<IPython.core.display.HTML object>"
            ]
          },
          "metadata": {
            "tags": []
          }
        }
      ]
    },
    {
      "cell_type": "code",
      "metadata": {
        "id": "UIARKTw8W0Je",
        "outputId": "3e350efd-acdb-459d-bc60-2d17728718ab",
        "colab": {
          "base_uri": "https://localhost:8080/",
          "height": 80
        }
      },
      "source": [
        "learn.fit_one_cycle(1, slice(2e-3/100, 2e-3))"
      ],
      "execution_count": 48,
      "outputs": [
        {
          "output_type": "display_data",
          "data": {
            "text/html": [
              "<table border=\"1\" class=\"dataframe\">\n",
              "  <thead>\n",
              "    <tr style=\"text-align: left;\">\n",
              "      <th>epoch</th>\n",
              "      <th>train_loss</th>\n",
              "      <th>valid_loss</th>\n",
              "      <th>accuracy</th>\n",
              "      <th>time</th>\n",
              "    </tr>\n",
              "  </thead>\n",
              "  <tbody>\n",
              "    <tr>\n",
              "      <td>0</td>\n",
              "      <td>0.566485</td>\n",
              "      <td>3.967842</td>\n",
              "      <td>0.394366</td>\n",
              "      <td>01:05</td>\n",
              "    </tr>\n",
              "  </tbody>\n",
              "</table>"
            ],
            "text/plain": [
              "<IPython.core.display.HTML object>"
            ]
          },
          "metadata": {
            "tags": []
          }
        }
      ]
    },
    {
      "cell_type": "code",
      "metadata": {
        "id": "GEvatxUoNIX1",
        "outputId": "3419b6bc-9f84-43aa-f6ca-c887e5d1efcf",
        "colab": {
          "base_uri": "https://localhost:8080/",
          "height": 80
        }
      },
      "source": [
        "learn.fit_one_cycle(1, slice(2e-3/100, 2e-3))"
      ],
      "execution_count": 49,
      "outputs": [
        {
          "output_type": "display_data",
          "data": {
            "text/html": [
              "<table border=\"1\" class=\"dataframe\">\n",
              "  <thead>\n",
              "    <tr style=\"text-align: left;\">\n",
              "      <th>epoch</th>\n",
              "      <th>train_loss</th>\n",
              "      <th>valid_loss</th>\n",
              "      <th>accuracy</th>\n",
              "      <th>time</th>\n",
              "    </tr>\n",
              "  </thead>\n",
              "  <tbody>\n",
              "    <tr>\n",
              "      <td>0</td>\n",
              "      <td>0.588486</td>\n",
              "      <td>3.896019</td>\n",
              "      <td>0.443662</td>\n",
              "      <td>01:09</td>\n",
              "    </tr>\n",
              "  </tbody>\n",
              "</table>"
            ],
            "text/plain": [
              "<IPython.core.display.HTML object>"
            ]
          },
          "metadata": {
            "tags": []
          }
        }
      ]
    },
    {
      "cell_type": "markdown",
      "metadata": {
        "id": "rCwZU0E2RgM6"
      },
      "source": [
        "# Part three: Predict on the test dataset"
      ]
    },
    {
      "cell_type": "code",
      "metadata": {
        "id": "gDm72c-dOu7d",
        "outputId": "d793745c-973c-4fd1-d6bd-a91691fa61c8",
        "colab": {
          "base_uri": "https://localhost:8080/",
          "height": 17
        }
      },
      "source": [
        "# use the test data for prediction\n",
        "\n",
        "preds, y = learn.get_preds(DatasetType.Test)"
      ],
      "execution_count": 50,
      "outputs": [
        {
          "output_type": "display_data",
          "data": {
            "text/html": [
              ""
            ],
            "text/plain": [
              "<IPython.core.display.HTML object>"
            ]
          },
          "metadata": {
            "tags": []
          }
        }
      ]
    },
    {
      "cell_type": "code",
      "metadata": {
        "id": "6tFSQcsWPvxn",
        "outputId": "b1bf1c0c-2e2e-4c2c-87cb-208e441b0633",
        "colab": {
          "base_uri": "https://localhost:8080/",
          "height": 105
        }
      },
      "source": [
        "predictions, *_ = learn.get_preds(DatasetType.Test)\n",
        "labels = np.argmax(predictions, 1)\n",
        "predict_list = labels.tolist()\n",
        "standard_list = test[0].tolist()\n",
        "\n",
        "print(len(predict_list))\n",
        "print(len(standard_list))\n",
        "\n",
        "print(predict_list)\n",
        "print(standard_list)"
      ],
      "execution_count": 51,
      "outputs": [
        {
          "output_type": "display_data",
          "data": {
            "text/html": [
              ""
            ],
            "text/plain": [
              "<IPython.core.display.HTML object>"
            ]
          },
          "metadata": {
            "tags": []
          }
        },
        {
          "output_type": "stream",
          "text": [
            "142\n",
            "142\n",
            "[393, 978, 978, 978, 121, 32, 154, 1099, 1295, 189, 1099, 649, 231, 231, 1936, 2147, 2147, 2147, 1936, 1936, 249, 857, 300, 1054, 1099, 1610, 418, 426, 187, 596, 1787, 749, 1767, 2047, 749, 933, 749, 1597, 2032, 2032, 233, 824, 2168, 1884, 852, 1669, 978, 2149, 974, 792, 1062, 441, 978, 978, 1530, 74, 426, 1718, 1669, 1099, 1136, 1175, 1265, 852, 249, 1099, 121, 1308, 1884, 355, 2149, 1507, 1096, 974, 1432, 1576, 1701, 1701, 1099, 1573, 1594, 1597, 791, 1597, 1597, 1597, 1597, 1597, 1597, 1597, 1610, 1610, 265, 1099, 1727, 1099, 1531, 1767, 1767, 1767, 1767, 1099, 1767, 1767, 1767, 561, 1769, 1787, 2032, 1727, 2191, 1787, 1597, 418, 2191, 418, 418, 1915, 1936, 1936, 1936, 712, 1915, 1283, 1283, 1942, 2113, 16, 1265, 1325, 1813, 224, 418, 1769, 1545, 2119, 1545, 2147, 1099, 2191, 441, 1701]\n",
            "[13, 94, 119, 119, 121, 143, 154, 189, 189, 189, 224, 230, 231, 231, 233, 233, 233, 233, 233, 233, 249, 265, 300, 359, 393, 396, 418, 426, 518, 596, 693, 712, 744, 749, 749, 749, 749, 791, 815, 815, 818, 824, 824, 825, 852, 852, 907, 947, 974, 974, 978, 982, 982, 982, 1005, 1019, 1054, 1073, 1073, 1099, 1136, 1175, 1265, 1295, 1295, 1295, 1296, 1308, 1319, 1327, 1340, 1341, 1417, 1432, 1432, 1508, 1526, 1526, 1545, 1573, 1594, 1597, 1597, 1597, 1597, 1597, 1597, 1597, 1597, 1597, 1610, 1610, 1647, 1669, 1669, 1676, 1711, 1718, 1718, 1718, 1727, 1727, 1767, 1767, 1767, 1769, 1769, 1787, 1787, 1787, 1787, 1787, 1798, 1815, 1815, 1822, 1833, 1915, 1936, 1936, 1936, 1936, 1942, 1942, 1942, 1942, 1948, 1962, 1973, 1974, 2023, 2032, 2063, 2097, 2103, 2119, 2123, 2147, 2147, 2191, 2191, 2194]\n"
          ],
          "name": "stdout"
        }
      ]
    },
    {
      "cell_type": "code",
      "metadata": {
        "id": "XIC4zufnMxtq",
        "outputId": "b415ddd0-83e4-4a6c-83bd-64d156ae10d2",
        "colab": {
          "base_uri": "https://localhost:8080/"
        }
      },
      "source": [
        "correct_num = 0\n",
        "\n",
        "for i in range(0, len(standard_list)):\n",
        "  if predict_list[i] == standard_list[i]:\n",
        "    correct_num = correct_num+1\n",
        "  else:\n",
        "    pass\n",
        "print(correct_num)\n",
        "\n",
        "predict_accuracy = correct_num/len(predict_list)\n",
        "print(predict_accuracy)"
      ],
      "execution_count": 52,
      "outputs": [
        {
          "output_type": "stream",
          "text": [
            "47\n",
            "0.33098591549295775\n"
          ],
          "name": "stdout"
        }
      ]
    },
    {
      "cell_type": "code",
      "metadata": {
        "id": "zlKMHp1CIaRJ"
      },
      "source": [
        ""
      ],
      "execution_count": 52,
      "outputs": []
    }
  ]
}