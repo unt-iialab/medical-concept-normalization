{
  "nbformat": 4,
  "nbformat_minor": 0,
  "metadata": {
    "accelerator": "TPU",
    "colab": {
      "name": "pubmed_ask_07.ipynb",
      "provenance": [],
      "collapsed_sections": [],
      "include_colab_link": true
    },
    "kernelspec": {
      "display_name": "Python 3",
      "name": "python3"
    }
  },
  "cells": [
    {
      "cell_type": "markdown",
      "metadata": {
        "id": "view-in-github",
        "colab_type": "text"
      },
      "source": [
        "<a href=\"https://colab.research.google.com/github/unt-iialab/medical-concept-normalization/blob/master/medical-concept-normalization/fine-tuning-experiments/askpatient/pubmed_ask_07.ipynb\" target=\"_parent\"><img src=\"https://colab.research.google.com/assets/colab-badge.svg\" alt=\"Open In Colab\"/></a>"
      ]
    },
    {
      "cell_type": "code",
      "metadata": {
        "id": "adSi6i2-dWxy"
      },
      "source": [
        "import os"
      ],
      "execution_count": 1,
      "outputs": []
    },
    {
      "cell_type": "code",
      "metadata": {
        "id": "E7xYCRGPjd9B"
      },
      "source": [
        "base_dir = 'medical-concept-normalization'"
      ],
      "execution_count": 2,
      "outputs": []
    },
    {
      "cell_type": "code",
      "metadata": {
        "id": "yvIW3aUDjYNS"
      },
      "source": [
        "os.mkdir(base_dir)"
      ],
      "execution_count": 3,
      "outputs": []
    },
    {
      "cell_type": "code",
      "metadata": {
        "id": "es-FFLlfk6SG"
      },
      "source": [
        "os.mkdir('medical-concept-normalization/data_collection')"
      ],
      "execution_count": 4,
      "outputs": []
    },
    {
      "cell_type": "markdown",
      "metadata": {
        "id": "0R-Guw_VoJXm"
      },
      "source": [
        "**Install fastai and clone the fastai for text classification**\n",
        "\n"
      ]
    },
    {
      "cell_type": "code",
      "metadata": {
        "id": "QVZa3Z0PmHFH",
        "outputId": "32a5f395-ec49-4457-b030-9877e3194f6f",
        "colab": {
          "base_uri": "https://localhost:8080/"
        }
      },
      "source": [
        "!curl https://course-v3.fast.ai/setup/colab | bash"
      ],
      "execution_count": 5,
      "outputs": [
        {
          "output_type": "stream",
          "text": [
            "  % Total    % Received % Xferd  Average Speed   Time    Time     Time  Current\n",
            "                                 Dload  Upload   Total   Spent    Left  Speed\n",
            "\r  0     0    0     0    0     0      0      0 --:--:-- --:--:-- --:--:--     0curl: (6) Could not resolve host: course-v3.fast.ai\n"
          ],
          "name": "stdout"
        }
      ]
    },
    {
      "cell_type": "code",
      "metadata": {
        "id": "_FBFFEBrmJC0",
        "outputId": "35b53477-a543-4a4d-ab72-a21901f04377",
        "colab": {
          "base_uri": "https://localhost:8080/"
        }
      },
      "source": [
        "!git clone https://github.com/wshuyi/demo-nlp-classification-fastai.git"
      ],
      "execution_count": 6,
      "outputs": [
        {
          "output_type": "stream",
          "text": [
            "Cloning into 'demo-nlp-classification-fastai'...\n",
            "remote: Enumerating objects: 9, done.\u001b[K\n",
            "Unpacking objects: 100% (9/9), done.\n",
            "remote: Total 9 (delta 0), reused 0 (delta 0), pack-reused 9\u001b[K\n"
          ],
          "name": "stdout"
        }
      ]
    },
    {
      "cell_type": "code",
      "metadata": {
        "id": "66zfh_JqmWMU"
      },
      "source": [
        "from fastai import *\n",
        "from fastai.text import *"
      ],
      "execution_count": 7,
      "outputs": []
    },
    {
      "cell_type": "markdown",
      "metadata": {
        "id": "mNIw-yALdBU9"
      },
      "source": [
        "**Set the path of the data collections**"
      ]
    },
    {
      "cell_type": "code",
      "metadata": {
        "id": "pzH7VMh4mqCL"
      },
      "source": [
        "path = Path('medical-concept-normalization/data_collection')"
      ],
      "execution_count": 8,
      "outputs": []
    },
    {
      "cell_type": "code",
      "metadata": {
        "id": "b8fjI6yyn4aS"
      },
      "source": [
        "# training data set\n",
        "\n",
        "train_csv = path/'AskAPatient.fold-7.train.csv'\n",
        "train = pd.read_csv(train_csv, header=None)\n",
        "#train.head()\n",
        "#train.info()"
      ],
      "execution_count": 10,
      "outputs": []
    },
    {
      "cell_type": "code",
      "metadata": {
        "id": "Hmlr-bAorfHd",
        "outputId": "8f6f6cdc-386b-48fa-ed93-fad3afc0e3e3",
        "colab": {
          "base_uri": "https://localhost:8080/",
          "height": 204
        }
      },
      "source": [
        "# validating data set\n",
        "\n",
        "valid = pd.read_csv(path/\"AskAPatient.fold-7.validation.csv\",header=None)\n",
        "valid.head()"
      ],
      "execution_count": 11,
      "outputs": [
        {
          "output_type": "execute_result",
          "data": {
            "text/html": [
              "<div>\n",
              "<style scoped>\n",
              "    .dataframe tbody tr th:only-of-type {\n",
              "        vertical-align: middle;\n",
              "    }\n",
              "\n",
              "    .dataframe tbody tr th {\n",
              "        vertical-align: top;\n",
              "    }\n",
              "\n",
              "    .dataframe thead th {\n",
              "        text-align: right;\n",
              "    }\n",
              "</style>\n",
              "<table border=\"1\" class=\"dataframe\">\n",
              "  <thead>\n",
              "    <tr style=\"text-align: right;\">\n",
              "      <th></th>\n",
              "      <th>0</th>\n",
              "      <th>1</th>\n",
              "    </tr>\n",
              "  </thead>\n",
              "  <tbody>\n",
              "    <tr>\n",
              "      <th>0</th>\n",
              "      <td>0</td>\n",
              "      <td>fear</td>\n",
              "    </tr>\n",
              "    <tr>\n",
              "      <th>1</th>\n",
              "      <td>2</td>\n",
              "      <td>heel pain</td>\n",
              "    </tr>\n",
              "    <tr>\n",
              "      <th>2</th>\n",
              "      <td>4</td>\n",
              "      <td>Discoloration of skin [blotchy] on the neck</td>\n",
              "    </tr>\n",
              "    <tr>\n",
              "      <th>3</th>\n",
              "      <td>8</td>\n",
              "      <td>arthritis</td>\n",
              "    </tr>\n",
              "    <tr>\n",
              "      <th>4</th>\n",
              "      <td>8</td>\n",
              "      <td>arthritis</td>\n",
              "    </tr>\n",
              "  </tbody>\n",
              "</table>\n",
              "</div>"
            ],
            "text/plain": [
              "   0                                            1\n",
              "0  0                                         fear\n",
              "1  2                                    heel pain\n",
              "2  4  Discoloration of skin [blotchy] on the neck\n",
              "3  8                                    arthritis\n",
              "4  8                                    arthritis"
            ]
          },
          "metadata": {
            "tags": []
          },
          "execution_count": 11
        }
      ]
    },
    {
      "cell_type": "code",
      "metadata": {
        "id": "cOza9dfSsBud",
        "outputId": "7d386c14-40b7-4d6b-e21a-3943a012a38d",
        "colab": {
          "base_uri": "https://localhost:8080/",
          "height": 204
        }
      },
      "source": [
        "# testing data set\n",
        "\n",
        "test = pd.read_csv(path/\"AskAPatient.fold-7.test.csv\",header=None)\n",
        "test.head()"
      ],
      "execution_count": 12,
      "outputs": [
        {
          "output_type": "execute_result",
          "data": {
            "text/html": [
              "<div>\n",
              "<style scoped>\n",
              "    .dataframe tbody tr th:only-of-type {\n",
              "        vertical-align: middle;\n",
              "    }\n",
              "\n",
              "    .dataframe tbody tr th {\n",
              "        vertical-align: top;\n",
              "    }\n",
              "\n",
              "    .dataframe thead th {\n",
              "        text-align: right;\n",
              "    }\n",
              "</style>\n",
              "<table border=\"1\" class=\"dataframe\">\n",
              "  <thead>\n",
              "    <tr style=\"text-align: right;\">\n",
              "      <th></th>\n",
              "      <th>0</th>\n",
              "      <th>1</th>\n",
              "    </tr>\n",
              "  </thead>\n",
              "  <tbody>\n",
              "    <tr>\n",
              "      <th>0</th>\n",
              "      <td>3</td>\n",
              "      <td>joints poping and cracking</td>\n",
              "    </tr>\n",
              "    <tr>\n",
              "      <th>1</th>\n",
              "      <td>8</td>\n",
              "      <td>Arthritis</td>\n",
              "    </tr>\n",
              "    <tr>\n",
              "      <th>2</th>\n",
              "      <td>8</td>\n",
              "      <td>arthritis</td>\n",
              "    </tr>\n",
              "    <tr>\n",
              "      <th>3</th>\n",
              "      <td>8</td>\n",
              "      <td>arthritis</td>\n",
              "    </tr>\n",
              "    <tr>\n",
              "      <th>4</th>\n",
              "      <td>8</td>\n",
              "      <td>arthritis</td>\n",
              "    </tr>\n",
              "  </tbody>\n",
              "</table>\n",
              "</div>"
            ],
            "text/plain": [
              "   0                           1\n",
              "0  3  joints poping and cracking\n",
              "1  8                   Arthritis\n",
              "2  8                   arthritis\n",
              "3  8                   arthritis\n",
              "4  8                   arthritis"
            ]
          },
          "metadata": {
            "tags": []
          },
          "execution_count": 12
        }
      ]
    },
    {
      "cell_type": "code",
      "metadata": {
        "id": "Vo-YNvVYoaH6",
        "outputId": "e4667b1b-1888-4739-94f6-4f36ac2cd948",
        "colab": {
          "base_uri": "https://localhost:8080/",
          "height": 17
        }
      },
      "source": [
        "# Creating DataBunch for language modelling\n",
        "\n",
        "data_lm = TextLMDataBunch.from_csv(path, 'pubmed_ask.csv')"
      ],
      "execution_count": 13,
      "outputs": [
        {
          "output_type": "display_data",
          "data": {
            "text/html": [
              ""
            ],
            "text/plain": [
              "<IPython.core.display.HTML object>"
            ]
          },
          "metadata": {
            "tags": []
          }
        },
        {
          "output_type": "display_data",
          "data": {
            "text/html": [
              ""
            ],
            "text/plain": [
              "<IPython.core.display.HTML object>"
            ]
          },
          "metadata": {
            "tags": []
          }
        }
      ]
    },
    {
      "cell_type": "code",
      "metadata": {
        "id": "qcV-9kMnNLBf"
      },
      "source": [
        ""
      ],
      "execution_count": 13,
      "outputs": []
    },
    {
      "cell_type": "code",
      "metadata": {
        "id": "1ScY9afDsnvE"
      },
      "source": [
        "# Creating DataBunch for classification\n",
        "\n",
        "# data_clas = TextClasDataBunch.from_df(path, train, valid, test, vocab=data_lm.train_ds.vocab, bs=128)"
      ],
      "execution_count": 14,
      "outputs": []
    },
    {
      "cell_type": "code",
      "metadata": {
        "id": "gzrSdQcvey9p",
        "outputId": "d31bba86-6c2f-42a6-a466-032027160084",
        "colab": {
          "base_uri": "https://localhost:8080/",
          "height": 17
        }
      },
      "source": [
        "data_clas = TextClasDataBunch.from_df(path, train, valid, vocab=data_lm.train_ds.vocab, bs=128)"
      ],
      "execution_count": 15,
      "outputs": [
        {
          "output_type": "display_data",
          "data": {
            "text/html": [
              ""
            ],
            "text/plain": [
              "<IPython.core.display.HTML object>"
            ]
          },
          "metadata": {
            "tags": []
          }
        },
        {
          "output_type": "display_data",
          "data": {
            "text/html": [
              ""
            ],
            "text/plain": [
              "<IPython.core.display.HTML object>"
            ]
          },
          "metadata": {
            "tags": []
          }
        }
      ]
    },
    {
      "cell_type": "code",
      "metadata": {
        "id": "MD27Tf0Ke3ou",
        "outputId": "517e93f2-147b-4790-82e2-ca8a3a15cf20",
        "colab": {
          "base_uri": "https://localhost:8080/",
          "height": 17
        }
      },
      "source": [
        "data_clas.add_test(test,label=0)\n"
      ],
      "execution_count": 16,
      "outputs": [
        {
          "output_type": "display_data",
          "data": {
            "text/html": [
              ""
            ],
            "text/plain": [
              "<IPython.core.display.HTML object>"
            ]
          },
          "metadata": {
            "tags": []
          }
        }
      ]
    },
    {
      "cell_type": "code",
      "metadata": {
        "id": "-dpjnk_rstwk"
      },
      "source": [
        "data_lm.save()\n",
        "data_clas.save()"
      ],
      "execution_count": 17,
      "outputs": []
    },
    {
      "cell_type": "code",
      "metadata": {
        "id": "4OkiJa36sw5s",
        "outputId": "ab9d19ef-ac83-425c-9951-2b556474aa1a",
        "colab": {
          "base_uri": "https://localhost:8080/"
        }
      },
      "source": [
        "data_lm.train_ds.vocab.itos"
      ],
      "execution_count": 18,
      "outputs": [
        {
          "output_type": "execute_result",
          "data": {
            "text/plain": [
              "['xxunk',\n",
              " 'xxpad',\n",
              " 'xxbos',\n",
              " 'xxeos',\n",
              " 'xxfld',\n",
              " 'xxmaj',\n",
              " 'xxup',\n",
              " 'xxrep',\n",
              " 'xxwrep',\n",
              " 'pain',\n",
              " 'of',\n",
              " 'the',\n",
              " 'in',\n",
              " 'lipitor',\n",
              " 'and',\n",
              " 'to',\n",
              " 'muscle',\n",
              " 'a',\n",
              " 'diclofenac',\n",
              " 'was',\n",
              " 'with',\n",
              " 'were',\n",
              " 'severe',\n",
              " 'for',\n",
              " 'myalgia',\n",
              " 'lower',\n",
              " 'my',\n",
              " 'fatigue',\n",
              " 'loss',\n",
              " 'sodium',\n",
              " 'cramp',\n",
              " 'limb',\n",
              " 'weakness',\n",
              " 'by',\n",
              " 'on',\n",
              " 'stomach',\n",
              " '-',\n",
              " 'depression',\n",
              " 'back',\n",
              " 'is',\n",
              " 'at',\n",
              " 'patients',\n",
              " 'cramps',\n",
              " 'that',\n",
              " 'as',\n",
              " 'gas',\n",
              " 'joint',\n",
              " 'upper',\n",
              " 'memory',\n",
              " 'or',\n",
              " 'drug',\n",
              " 'leg',\n",
              " 'mg',\n",
              " 'legs',\n",
              " 'pains',\n",
              " 'knee',\n",
              " 'headache',\n",
              " 'group',\n",
              " 'from',\n",
              " 'shoulder',\n",
              " 'unable',\n",
              " 'not',\n",
              " 'arthralgia',\n",
              " 'study',\n",
              " 'gastrointestinal',\n",
              " 'neck',\n",
              " 'treatment',\n",
              " 'all',\n",
              " 'this',\n",
              " 'excessive',\n",
              " 'foot',\n",
              " 'arthritis',\n",
              " 'after',\n",
              " 'aches',\n",
              " 'hip',\n",
              " 'voltaren',\n",
              " 'numbness',\n",
              " 'arthrotec',\n",
              " 'p',\n",
              " 'disease',\n",
              " 'insomnia',\n",
              " 'nausea',\n",
              " 'release',\n",
              " '/',\n",
              " 'increased',\n",
              " 'both',\n",
              " 'asthenia',\n",
              " 'walk',\n",
              " 'bleeding',\n",
              " 'abdominal',\n",
              " 'skin',\n",
              " 'be',\n",
              " 'swelling',\n",
              " 'dizziness',\n",
              " 'an',\n",
              " 'feeling',\n",
              " 'like',\n",
              " 'heart',\n",
              " 'tired',\n",
              " 'walking',\n",
              " 'no',\n",
              " 'high',\n",
              " 'time',\n",
              " 'difficulty',\n",
              " 'feet',\n",
              " 'problems',\n",
              " 'than',\n",
              " 'cholesterol',\n",
              " 'hand',\n",
              " 'muscles',\n",
              " 'blood',\n",
              " 'are',\n",
              " 'hair',\n",
              " 'chest',\n",
              " 'effect',\n",
              " 'ache',\n",
              " 'low',\n",
              " 'acid',\n",
              " 'backache',\n",
              " 'compared',\n",
              " 'stiffness',\n",
              " 'extreme',\n",
              " 'vision',\n",
              " 'burning',\n",
              " 'zocor',\n",
              " 'inflammatory',\n",
              " 'could',\n",
              " 'liver',\n",
              " 'effects',\n",
              " 'very',\n",
              " 'sleep',\n",
              " 'i',\n",
              " 'using',\n",
              " 'pins',\n",
              " 'needles',\n",
              " 'weight',\n",
              " 'groups',\n",
              " 'diarrhoea',\n",
              " 'amnesia',\n",
              " 'cramping',\n",
              " 'between',\n",
              " 'two',\n",
              " 'impairment',\n",
              " 'significantly',\n",
              " 'significant',\n",
              " 'concentration',\n",
              " 'calf',\n",
              " 'h',\n",
              " 'tingling',\n",
              " 'drugs',\n",
              " 'term',\n",
              " 'left',\n",
              " 'short',\n",
              " 'disability',\n",
              " 'c',\n",
              " 'anti',\n",
              " 'potassium',\n",
              " 'up',\n",
              " 'can',\n",
              " 'anxiety',\n",
              " 'lack',\n",
              " 'used',\n",
              " 'dose',\n",
              " 'day',\n",
              " 'symptom',\n",
              " 'placebo',\n",
              " 'stiff',\n",
              " 'which',\n",
              " 'pressure',\n",
              " 'constipation',\n",
              " 'results',\n",
              " 'bloating',\n",
              " 'efficacy',\n",
              " 'these',\n",
              " 'disorder',\n",
              " 'it',\n",
              " 'had',\n",
              " 'has',\n",
              " 'arm',\n",
              " 'one',\n",
              " 'headaches',\n",
              " 'poor',\n",
              " 'hands',\n",
              " 'reduced',\n",
              " 'ds',\n",
              " 'arms',\n",
              " 'blurred',\n",
              " 'treated',\n",
              " 'days',\n",
              " 'have',\n",
              " 'we',\n",
              " 'body',\n",
              " 'balance',\n",
              " 'more',\n",
              " 'neuropathy',\n",
              " 'sore',\n",
              " 'showed',\n",
              " 'over',\n",
              " 'ml',\n",
              " 'joints',\n",
              " 'acute',\n",
              " 'also',\n",
              " 'visual',\n",
              " 'ankle',\n",
              " 'topical',\n",
              " 'tiredness',\n",
              " 'rash',\n",
              " 'renal',\n",
              " 'been',\n",
              " 'serum',\n",
              " 'but',\n",
              " 'oral',\n",
              " 'sensation',\n",
              " 'different',\n",
              " 'control',\n",
              " 'pravachol',\n",
              " 'myocardial',\n",
              " 'administration',\n",
              " 'infarction',\n",
              " 'during',\n",
              " 'hurt',\n",
              " 'rats',\n",
              " 'studies',\n",
              " 'vertigo',\n",
              " 'myositis',\n",
              " 'mentally',\n",
              " 'itching',\n",
              " 'vaginal',\n",
              " 'into',\n",
              " 'when',\n",
              " 'plasma',\n",
              " 'atrophy',\n",
              " 'swollen',\n",
              " 'atorvastatin',\n",
              " 'well',\n",
              " 'attack',\n",
              " 'respectively',\n",
              " 'energy',\n",
              " 'painful',\n",
              " 'induced',\n",
              " ')',\n",
              " 'diabetes',\n",
              " 'formulation',\n",
              " 'decreased',\n",
              " 'diarrhea',\n",
              " 'gel',\n",
              " 'generalised',\n",
              " 'damage',\n",
              " 'upset',\n",
              " 'clinical',\n",
              " 's',\n",
              " 'ubidecarenone',\n",
              " ',',\n",
              " 'constant',\n",
              " 'rate',\n",
              " 'raised',\n",
              " 'non',\n",
              " 'use',\n",
              " 'method',\n",
              " 'ph',\n",
              " 'syndrome',\n",
              " 'right',\n",
              " 'tablets',\n",
              " 'out',\n",
              " 'dry',\n",
              " \"'s\",\n",
              " 'gain',\n",
              " 'illness',\n",
              " '(',\n",
              " 'solution',\n",
              " 'may',\n",
              " 'g',\n",
              " 'there',\n",
              " 'hazy',\n",
              " 'levels',\n",
              " \"n't\",\n",
              " 'found',\n",
              " 'formulations',\n",
              " 'other',\n",
              " 'nsaids',\n",
              " 'mean',\n",
              " 'their',\n",
              " 'effective',\n",
              " 'dull',\n",
              " 'period',\n",
              " 'three',\n",
              " 'eye',\n",
              " 'shoulders',\n",
              " 'weak',\n",
              " 'observed',\n",
              " 'kg',\n",
              " 'present',\n",
              " 'type',\n",
              " 'chronic',\n",
              " 'tablet',\n",
              " 'its',\n",
              " 'n',\n",
              " 'influenza',\n",
              " 'elevated',\n",
              " 'received',\n",
              " 'movement',\n",
              " 'spasm',\n",
              " 'symptoms',\n",
              " 'crestor',\n",
              " 'urine',\n",
              " 'discomfort',\n",
              " 'knees',\n",
              " 'ibuprofen',\n",
              " 'toe',\n",
              " 'tendonitis',\n",
              " 'analgesic',\n",
              " 'controlled',\n",
              " 'adverse',\n",
              " 'vitro',\n",
              " 'exhaustion',\n",
              " 'abnormal',\n",
              " 'elbow',\n",
              " 'kidney',\n",
              " 'each',\n",
              " 'sleeping',\n",
              " 'analysis',\n",
              " 'spasms',\n",
              " 'side',\n",
              " 'flatulence',\n",
              " 'level',\n",
              " 'activity',\n",
              " 'inflammation',\n",
              " 'heavy',\n",
              " 'myopathy',\n",
              " 'hours',\n",
              " 'irritable',\n",
              " 'm',\n",
              " 'vomiting',\n",
              " 'less',\n",
              " 'mood',\n",
              " 'bad',\n",
              " 'd',\n",
              " 'data',\n",
              " 'libido',\n",
              " 'reflux',\n",
              " 'function',\n",
              " 'system',\n",
              " 'feel',\n",
              " 'concentrations',\n",
              " 'first',\n",
              " 'randomized',\n",
              " 'throat',\n",
              " 'migraine',\n",
              " 'single',\n",
              " 'total',\n",
              " 'increase',\n",
              " 'thigh',\n",
              " 'l',\n",
              " 'evaluated',\n",
              " 'similar',\n",
              " 'concentrate',\n",
              " 'bed',\n",
              " 'b',\n",
              " 'fibromyalgia',\n",
              " 'following',\n",
              " 'however',\n",
              " 'sclerosis',\n",
              " 'daily',\n",
              " 'patient',\n",
              " 'injury',\n",
              " 'surgery',\n",
              " 'model',\n",
              " 't',\n",
              " 'simvastatin',\n",
              " 'problem',\n",
              " 'obtained',\n",
              " 'lightheadedness',\n",
              " 'only',\n",
              " 'mild',\n",
              " 'multiple',\n",
              " 'test',\n",
              " 'get',\n",
              " 'flu',\n",
              " 'osteoarthritis',\n",
              " 'nsaid',\n",
              " 'changes',\n",
              " 'dissolution',\n",
              " 'mellitus',\n",
              " 'water',\n",
              " 'double',\n",
              " 'most',\n",
              " 'eyes',\n",
              " 'cold',\n",
              " 'disturbance',\n",
              " 'due',\n",
              " 'cells',\n",
              " 'confusion',\n",
              " 'wind',\n",
              " 'weeks',\n",
              " 'malaise',\n",
              " 'postoperative',\n",
              " 'therapy',\n",
              " 'based',\n",
              " 'did',\n",
              " 'failure',\n",
              " 'difference',\n",
              " 'while',\n",
              " 'cell',\n",
              " 'sweating',\n",
              " 'hips',\n",
              " 'menstrual',\n",
              " 'higher',\n",
              " 'so',\n",
              " 'application',\n",
              " 'min',\n",
              " 'aching',\n",
              " 'head',\n",
              " 'brain',\n",
              " 'under',\n",
              " 'before',\n",
              " 'tremor',\n",
              " 'week',\n",
              " 'appetite',\n",
              " 'those',\n",
              " 'blind',\n",
              " 'combination',\n",
              " 'associated',\n",
              " 'swings',\n",
              " 'oil',\n",
              " 'administered',\n",
              " 'prepared',\n",
              " 'impaired',\n",
              " 'soreness',\n",
              " 'peripheral',\n",
              " 'tinnitus',\n",
              " 'studied',\n",
              " 'general',\n",
              " 'esters',\n",
              " 'ezetimibe',\n",
              " 'coated',\n",
              " 'off',\n",
              " 'rheumatoid',\n",
              " 'performed',\n",
              " 'infection',\n",
              " 'stress',\n",
              " 'stairs',\n",
              " 'calves',\n",
              " 'doses',\n",
              " 'celebrex',\n",
              " 'times',\n",
              " 'x',\n",
              " 'finger',\n",
              " 'who',\n",
              " 'values',\n",
              " 'containing',\n",
              " 'differences',\n",
              " 'area',\n",
              " 'trial',\n",
              " 'subjects',\n",
              " 'nonsteroidal',\n",
              " 'gastric',\n",
              " 'reported',\n",
              " 'paraesthesia',\n",
              " 'conditions',\n",
              " 'response',\n",
              " 'toes',\n",
              " 'events',\n",
              " 'developed',\n",
              " 'absorption',\n",
              " 'charleyhorse',\n",
              " 'either',\n",
              " 'e',\n",
              " 'swallowing',\n",
              " 'four',\n",
              " 'vs',\n",
              " 'w',\n",
              " 'years',\n",
              " 'investigated',\n",
              " 'ankles',\n",
              " 'relief',\n",
              " 'ascorbic',\n",
              " 'change',\n",
              " 'order',\n",
              " 'urinary',\n",
              " 'face',\n",
              " 'given',\n",
              " 'heel',\n",
              " 'enzymes',\n",
              " 'parameters',\n",
              " 'rapid',\n",
              " 'excruciating',\n",
              " 'intense',\n",
              " 'post',\n",
              " 'ca',\n",
              " 'cough',\n",
              " 'paracetamol',\n",
              " 'palpitations',\n",
              " 'indigestion',\n",
              " 'restless',\n",
              " 'motivation',\n",
              " 'parkinson',\n",
              " 'new',\n",
              " 'dyspnoea',\n",
              " 'safety',\n",
              " 'speech',\n",
              " 'hot',\n",
              " 'ratio',\n",
              " 'reduction',\n",
              " 'tendon',\n",
              " 'they',\n",
              " 'lateral',\n",
              " 'properties',\n",
              " 'within',\n",
              " 'v',\n",
              " 'phase',\n",
              " 'lupus',\n",
              " 'such',\n",
              " 'measured',\n",
              " 'felt',\n",
              " 'delivery',\n",
              " 'strength',\n",
              " 'liquid',\n",
              " 'fingers',\n",
              " 'nerve',\n",
              " 'size',\n",
              " 'number',\n",
              " 'statistically',\n",
              " 'potential',\n",
              " 'night',\n",
              " 'injection',\n",
              " 'vivo',\n",
              " 'without',\n",
              " 'range',\n",
              " 'assessed',\n",
              " 'steroidal',\n",
              " 'scale',\n",
              " 'vitamin',\n",
              " 'indomethacin',\n",
              " 'related',\n",
              " 'decrease',\n",
              " 'ii',\n",
              " 'down',\n",
              " 'compare',\n",
              " 'included',\n",
              " 'tissue',\n",
              " 'healthy',\n",
              " 'depressed',\n",
              " 'auc',\n",
              " 'form',\n",
              " 'oa',\n",
              " 'menopause',\n",
              " 'active',\n",
              " 'through',\n",
              " 'dark',\n",
              " 'wrist',\n",
              " 'tightness',\n",
              " 'misoprostol',\n",
              " 'twitch',\n",
              " 'overall',\n",
              " 'samples',\n",
              " 'gout',\n",
              " 'baseline',\n",
              " 'clearly',\n",
              " 'therapeutic',\n",
              " 'mm',\n",
              " 'applied',\n",
              " 'determined',\n",
              " 'edema',\n",
              " 'colic',\n",
              " 'primary',\n",
              " 'reaction',\n",
              " 'evaluate',\n",
              " 'limbs',\n",
              " 'bioavailability',\n",
              " 'medication',\n",
              " 'moderate',\n",
              " 'scores',\n",
              " 'major',\n",
              " 'taste',\n",
              " 'ng',\n",
              " 'drowsy',\n",
              " 'sustained',\n",
              " 'dreams',\n",
              " 'k',\n",
              " 'dependent',\n",
              " 'any',\n",
              " 'human',\n",
              " 'fever',\n",
              " 'good',\n",
              " 'aqueous',\n",
              " 'minutes',\n",
              " 'uterine',\n",
              " 'ability',\n",
              " 'ulcer',\n",
              " 'terrible',\n",
              " 'provoked',\n",
              " 'trouble',\n",
              " 'breathing',\n",
              " 'development',\n",
              " 'aspirin',\n",
              " 'fish',\n",
              " 'light',\n",
              " 'heartburn',\n",
              " 'some',\n",
              " 'creatinine',\n",
              " 'our',\n",
              " 'matrix',\n",
              " 'tolerability',\n",
              " 'bowel',\n",
              " 'fog',\n",
              " 'addition',\n",
              " 'co',\n",
              " 'always',\n",
              " 'products',\n",
              " 'revealed',\n",
              " 'twitching',\n",
              " 'fenofibrate',\n",
              " 'nasal',\n",
              " 'aim',\n",
              " 'mice',\n",
              " 'inhibition',\n",
              " 'better',\n",
              " 'bone',\n",
              " 'think',\n",
              " 'demonstrated',\n",
              " 'greater',\n",
              " 'tract',\n",
              " 'normal',\n",
              " 'mobility',\n",
              " 'hypertension',\n",
              " 'cox',\n",
              " 'per',\n",
              " 'about',\n",
              " 'process',\n",
              " 'sinus',\n",
              " 'end',\n",
              " 'amyotrophic',\n",
              " 'inhibitor',\n",
              " 'every',\n",
              " 'various',\n",
              " 'breath',\n",
              " 'attacks',\n",
              " 'thighs',\n",
              " 'na',\n",
              " 'months',\n",
              " 'dosage',\n",
              " 'treatments',\n",
              " 'coq10',\n",
              " 'mechanism',\n",
              " 'alone',\n",
              " 'facial',\n",
              " 'presence',\n",
              " 'long',\n",
              " 'mouth',\n",
              " 'cancer',\n",
              " 'exercise',\n",
              " 'male',\n",
              " 'volunteers',\n",
              " 'elbows',\n",
              " 'me',\n",
              " 'polymer',\n",
              " 'risk',\n",
              " 'improvement',\n",
              " 'intensity',\n",
              " 'cerebrovascular',\n",
              " 'move',\n",
              " 'being',\n",
              " 'moody',\n",
              " 'formation',\n",
              " 'standard',\n",
              " 'tight',\n",
              " 'six',\n",
              " 'same',\n",
              " 'action',\n",
              " 'aleve',\n",
              " 'further',\n",
              " 'content',\n",
              " 'although',\n",
              " 'o',\n",
              " 'fast',\n",
              " 'indicated',\n",
              " 'advil',\n",
              " 'free',\n",
              " 'shown',\n",
              " 'conducted',\n",
              " 'pulse',\n",
              " 'alpha',\n",
              " 'whereas',\n",
              " 'numb',\n",
              " 'malignant',\n",
              " 'ethyl',\n",
              " 'protein',\n",
              " 'animals',\n",
              " 'suggest',\n",
              " 'peak',\n",
              " 'cases',\n",
              " 'should',\n",
              " 'tolerance',\n",
              " 'accident',\n",
              " 'exposure',\n",
              " '+',\n",
              " 'permeation',\n",
              " 'agent',\n",
              " 'horses',\n",
              " 'tricor',\n",
              " 'complex',\n",
              " 'tylenol',\n",
              " 'evaluation',\n",
              " 'generally',\n",
              " 'finding',\n",
              " 'sharp',\n",
              " 'initial',\n",
              " 'profile',\n",
              " 'sugar',\n",
              " 'slurred',\n",
              " 'randomly',\n",
              " 'followed',\n",
              " 'getting',\n",
              " 'lethargy',\n",
              " 'loose',\n",
              " 'surface',\n",
              " 'microspheres',\n",
              " 'hour',\n",
              " 'oedema',\n",
              " 'versus',\n",
              " 'score',\n",
              " 'trials',\n",
              " 'drive',\n",
              " 'determine',\n",
              " 'case',\n",
              " 'liptor',\n",
              " 'rat',\n",
              " 'natural',\n",
              " 'agents',\n",
              " 'then',\n",
              " 'hardly',\n",
              " 'f',\n",
              " 'assessment',\n",
              " 'barely',\n",
              " 'fluid',\n",
              " 'fatigued',\n",
              " 'plantar',\n",
              " 'rhabdomyolysis',\n",
              " 'tolerated',\n",
              " 'divided',\n",
              " 'ringing',\n",
              " 'nervous',\n",
              " 'improved',\n",
              " 'periods',\n",
              " 'combined',\n",
              " 'congestion',\n",
              " 'physical',\n",
              " 'vas',\n",
              " 'experimental',\n",
              " 'onset',\n",
              " 'ms',\n",
              " 'relative',\n",
              " 'extremely',\n",
              " 'panic',\n",
              " 'enteric',\n",
              " 'including',\n",
              " 'zetia',\n",
              " 'resulted',\n",
              " 'degrees',\n",
              " 'deep',\n",
              " 'th',\n",
              " 'profiles',\n",
              " 'coronary',\n",
              " 'cm',\n",
              " 'available',\n",
              " 'amount',\n",
              " 'naproxen',\n",
              " 'increasing',\n",
              " 'thoughts',\n",
              " 'vehicle',\n",
              " 'extremity',\n",
              " 'five',\n",
              " 'growth',\n",
              " 'around',\n",
              " 'analgesia',\n",
              " 'pharmacokinetic',\n",
              " 'produced',\n",
              " 'systemic',\n",
              " 'sex',\n",
              " 'global',\n",
              " 'secondary',\n",
              " 'shortness',\n",
              " 'prednisone',\n",
              " 'patch',\n",
              " 'duration',\n",
              " 'sick',\n",
              " 'evidence',\n",
              " 'age',\n",
              " 'pharmaceutical',\n",
              " 'mental',\n",
              " 'pruritus',\n",
              " 'production',\n",
              " 'local',\n",
              " 'ldl',\n",
              " 'caused',\n",
              " 'common',\n",
              " 'charley',\n",
              " 'irregular',\n",
              " 'density',\n",
              " '3',\n",
              " 'synthesis',\n",
              " 'lesions',\n",
              " 'temperature',\n",
              " 'film',\n",
              " 'pre',\n",
              " 'flushing',\n",
              " 'morning',\n",
              " 'started',\n",
              " 'according',\n",
              " 'achieved',\n",
              " 'microg',\n",
              " 'hunger',\n",
              " 'capsules',\n",
              " 'respiratory',\n",
              " 'product',\n",
              " 'corneal',\n",
              " 'cmax',\n",
              " 'achilles',\n",
              " 'commercial',\n",
              " 'ear',\n",
              " 'state',\n",
              " 'eczema',\n",
              " 'technique',\n",
              " 'frequent',\n",
              " ':',\n",
              " 'cataflam',\n",
              " 'cataract',\n",
              " 'once',\n",
              " 'norvasc',\n",
              " 'examined',\n",
              " 'central',\n",
              " 'complete',\n",
              " 'lipid',\n",
              " 'investigate',\n",
              " 'stamina',\n",
              " 'least',\n",
              " 'thus',\n",
              " 'diabetic',\n",
              " 'among',\n",
              " 'lost',\n",
              " 'sweats',\n",
              " 'omega-3-acid',\n",
              " 'esters-90',\n",
              " 'quality',\n",
              " 'dizzy',\n",
              " 'flow',\n",
              " 'sensitivity',\n",
              " 'because',\n",
              " 'lopid',\n",
              " 'participants',\n",
              " 'carried',\n",
              " 'scalp',\n",
              " 'year',\n",
              " 'erythematosus',\n",
              " 'prostaglandin',\n",
              " 'codeine',\n",
              " 'calcium',\n",
              " 'hypersomnia',\n",
              " 'extent',\n",
              " 'bp',\n",
              " 'expression',\n",
              " 'dysfunction',\n",
              " 'preparation',\n",
              " 'als',\n",
              " 'beads',\n",
              " 'gi',\n",
              " 'third',\n",
              " 'considered',\n",
              " 'ci',\n",
              " 'phosphate',\n",
              " 'reference',\n",
              " 'forgetful',\n",
              " 'efficiency',\n",
              " 'stool',\n",
              " 'erythema',\n",
              " 'saline',\n",
              " 'inhibited',\n",
              " 'medium',\n",
              " 'interaction',\n",
              " 'show',\n",
              " 'even',\n",
              " 'tested',\n",
              " 'inhibitors',\n",
              " 'lipoprotein',\n",
              " 'several',\n",
              " 'specific',\n",
              " 'beta',\n",
              " 'findings',\n",
              " 'maximum',\n",
              " 'volume',\n",
              " 'plus',\n",
              " 'affected',\n",
              " 'tension',\n",
              " 'hepatic',\n",
              " 'hard',\n",
              " 'cross',\n",
              " 'sensitive',\n",
              " 'strain',\n",
              " 'experienced',\n",
              " 'retention',\n",
              " 'membrane',\n",
              " 'intestinal',\n",
              " 'menorrhagia',\n",
              " 'novel',\n",
              " 'pellets',\n",
              " 'sensations',\n",
              " 'influence',\n",
              " 'stroke',\n",
              " 'cd',\n",
              " 'cardiovascular',\n",
              " 'rates',\n",
              " 'superior',\n",
              " 'diffusion',\n",
              " 'fasciitis',\n",
              " 'models',\n",
              " 'early',\n",
              " 'design',\n",
              " 'month',\n",
              " 'neurontin',\n",
              " 'lipex',\n",
              " 'loaded',\n",
              " 'food',\n",
              " 'region',\n",
              " 'against',\n",
              " 'ocular',\n",
              " 'medications',\n",
              " 'hplc',\n",
              " 'solutions',\n",
              " 'recorded',\n",
              " 'inability',\n",
              " 'methods',\n",
              " 'comparison',\n",
              " 'care',\n",
              " 'itchy',\n",
              " 'mass',\n",
              " 'self',\n",
              " 'solid',\n",
              " 'across',\n",
              " 'receiving',\n",
              " 'old',\n",
              " 'detection',\n",
              " 'comparable',\n",
              " 'palsy',\n",
              " 'slight',\n",
              " 'random',\n",
              " 'just',\n",
              " 'possible',\n",
              " 'serious',\n",
              " 'provide',\n",
              " 'structure',\n",
              " 'arthritic',\n",
              " 'condition',\n",
              " 'indicate',\n",
              " 'aptyalism',\n",
              " 'rectal',\n",
              " 'large',\n",
              " 'became',\n",
              " 'asthma',\n",
              " 'clinically',\n",
              " 'morphine',\n",
              " 'preparations',\n",
              " 'determination',\n",
              " 'value',\n",
              " 'tachycardia',\n",
              " 'bursitis',\n",
              " 'buffer',\n",
              " 'intramuscular',\n",
              " 'dic',\n",
              " 'venous',\n",
              " 'tissues',\n",
              " 'hurts',\n",
              " 'taking',\n",
              " 'cpk',\n",
              " 'review',\n",
              " 'drops',\n",
              " 'chitosan',\n",
              " 'muscular',\n",
              " 'ketorolac',\n",
              " 'spasmodic',\n",
              " 'second',\n",
              " 'therefore',\n",
              " 'almost',\n",
              " 'characterized',\n",
              " 'do',\n",
              " 'confidence',\n",
              " 'index',\n",
              " 'ophthalmic',\n",
              " 'outcome',\n",
              " 'slow',\n",
              " 'max',\n",
              " 'antiinflammatory',\n",
              " 'whether',\n",
              " 'transdermal',\n",
              " 'current',\n",
              " 'characteristics',\n",
              " 'difficult',\n",
              " 'if',\n",
              " 'degree',\n",
              " 'nm',\n",
              " 'zoloft',\n",
              " ...]"
            ]
          },
          "metadata": {
            "tags": []
          },
          "execution_count": 18
        }
      ]
    },
    {
      "cell_type": "code",
      "metadata": {
        "id": "yPWr03mls3VT",
        "outputId": "832003fc-edf2-4690-a559-cd82609015d9",
        "colab": {
          "base_uri": "https://localhost:8080/",
          "height": 17
        }
      },
      "source": [
        "model_path = path/'models'\n",
        "model_path.mkdir(exist_ok=True)\n",
        "url = 'http://files.fast.ai/models/wt103_v1/'\n",
        "download_url(f'{url}lstm_wt103.pth', model_path/'lstm_wt103.pth')\n",
        "download_url(f'{url}itos_wt103.pkl', model_path/'itos_wt103.pkl')"
      ],
      "execution_count": 19,
      "outputs": [
        {
          "output_type": "display_data",
          "data": {
            "text/html": [
              ""
            ],
            "text/plain": [
              "<IPython.core.display.HTML object>"
            ]
          },
          "metadata": {
            "tags": []
          }
        },
        {
          "output_type": "display_data",
          "data": {
            "text/html": [
              ""
            ],
            "text/plain": [
              "<IPython.core.display.HTML object>"
            ]
          },
          "metadata": {
            "tags": []
          }
        }
      ]
    },
    {
      "cell_type": "code",
      "metadata": {
        "id": "JRzvWg8RtGGr",
        "outputId": "24a05647-9b99-4929-ec84-b5ee6ebf951a",
        "colab": {
          "base_uri": "https://localhost:8080/",
          "height": 34
        }
      },
      "source": [
        "learn = language_model_learner(data_lm, AWD_LSTM, drop_mult=0.5)"
      ],
      "execution_count": 20,
      "outputs": [
        {
          "output_type": "stream",
          "text": [
            "Downloading https://s3.amazonaws.com/fast-ai-modelzoo/wt103-fwd.tgz\n"
          ],
          "name": "stdout"
        },
        {
          "output_type": "display_data",
          "data": {
            "text/html": [
              ""
            ],
            "text/plain": [
              "<IPython.core.display.HTML object>"
            ]
          },
          "metadata": {
            "tags": []
          }
        }
      ]
    },
    {
      "cell_type": "code",
      "metadata": {
        "id": "xKK7GeBev7Xn",
        "outputId": "3cdb29f9-ca25-4f13-834d-08ba47f149d5",
        "colab": {
          "base_uri": "https://localhost:8080/",
          "height": 80
        }
      },
      "source": [
        "learn.fit_one_cycle(1, 1e-2)"
      ],
      "execution_count": 21,
      "outputs": [
        {
          "output_type": "display_data",
          "data": {
            "text/html": [
              "<table border=\"1\" class=\"dataframe\">\n",
              "  <thead>\n",
              "    <tr style=\"text-align: left;\">\n",
              "      <th>epoch</th>\n",
              "      <th>train_loss</th>\n",
              "      <th>valid_loss</th>\n",
              "      <th>accuracy</th>\n",
              "      <th>time</th>\n",
              "    </tr>\n",
              "  </thead>\n",
              "  <tbody>\n",
              "    <tr>\n",
              "      <td>0</td>\n",
              "      <td>3.786375</td>\n",
              "      <td>3.365469</td>\n",
              "      <td>0.460714</td>\n",
              "      <td>28:38</td>\n",
              "    </tr>\n",
              "  </tbody>\n",
              "</table>"
            ],
            "text/plain": [
              "<IPython.core.display.HTML object>"
            ]
          },
          "metadata": {
            "tags": []
          }
        }
      ]
    },
    {
      "cell_type": "code",
      "metadata": {
        "id": "iB7rHGQCwd12"
      },
      "source": [
        "# learn.fit_one_cycle(1, 1e-2)"
      ],
      "execution_count": 22,
      "outputs": []
    },
    {
      "cell_type": "code",
      "metadata": {
        "id": "_BnSuAeCwkBe"
      },
      "source": [
        "# learn.fit_one_cycle(1, 1e-3)"
      ],
      "execution_count": 23,
      "outputs": []
    },
    {
      "cell_type": "code",
      "metadata": {
        "id": "MuTm-RFjwrEX",
        "outputId": "fbb1ea61-48c3-46f4-9386-e7a1fe1590dc",
        "colab": {
          "base_uri": "https://localhost:8080/",
          "height": 80
        }
      },
      "source": [
        "learn.fit_one_cycle(1, 1e-3)"
      ],
      "execution_count": 24,
      "outputs": [
        {
          "output_type": "display_data",
          "data": {
            "text/html": [
              "<table border=\"1\" class=\"dataframe\">\n",
              "  <thead>\n",
              "    <tr style=\"text-align: left;\">\n",
              "      <th>epoch</th>\n",
              "      <th>train_loss</th>\n",
              "      <th>valid_loss</th>\n",
              "      <th>accuracy</th>\n",
              "      <th>time</th>\n",
              "    </tr>\n",
              "  </thead>\n",
              "  <tbody>\n",
              "    <tr>\n",
              "      <td>0</td>\n",
              "      <td>3.416244</td>\n",
              "      <td>3.307348</td>\n",
              "      <td>0.465023</td>\n",
              "      <td>28:37</td>\n",
              "    </tr>\n",
              "  </tbody>\n",
              "</table>"
            ],
            "text/plain": [
              "<IPython.core.display.HTML object>"
            ]
          },
          "metadata": {
            "tags": []
          }
        }
      ]
    },
    {
      "cell_type": "code",
      "metadata": {
        "id": "1Er2ExO8wr7Y"
      },
      "source": [
        "learn.save_encoder('pubmed_ask_fold7_first')"
      ],
      "execution_count": 25,
      "outputs": []
    },
    {
      "cell_type": "code",
      "metadata": {
        "id": "z52cZs2qwvad",
        "outputId": "80e1ba64-fc7f-4a0e-c3e2-5f30c9a9a7ac",
        "colab": {
          "base_uri": "https://localhost:8080/",
          "height": 80
        }
      },
      "source": [
        "learn = text_classifier_learner(data_clas,AWD_LSTM, drop_mult=0.5)\n",
        "learn.load_encoder('pubmed_ask_fold7_first')\n",
        "learn.fit_one_cycle(1, 1e-2)"
      ],
      "execution_count": 26,
      "outputs": [
        {
          "output_type": "display_data",
          "data": {
            "text/html": [
              "<table border=\"1\" class=\"dataframe\">\n",
              "  <thead>\n",
              "    <tr style=\"text-align: left;\">\n",
              "      <th>epoch</th>\n",
              "      <th>train_loss</th>\n",
              "      <th>valid_loss</th>\n",
              "      <th>accuracy</th>\n",
              "      <th>time</th>\n",
              "    </tr>\n",
              "  </thead>\n",
              "  <tbody>\n",
              "    <tr>\n",
              "      <td>0</td>\n",
              "      <td>3.922061</td>\n",
              "      <td>3.811406</td>\n",
              "      <td>0.305382</td>\n",
              "      <td>01:11</td>\n",
              "    </tr>\n",
              "  </tbody>\n",
              "</table>"
            ],
            "text/plain": [
              "<IPython.core.display.HTML object>"
            ]
          },
          "metadata": {
            "tags": []
          }
        }
      ]
    },
    {
      "cell_type": "code",
      "metadata": {
        "id": "ImwQP1PJwzxd",
        "outputId": "8526e045-9e04-4f37-fa20-e5f3dd75c9ad",
        "colab": {
          "base_uri": "https://localhost:8080/",
          "height": 80
        }
      },
      "source": [
        "learn.freeze_to(-2)\n",
        "learn.fit_one_cycle(1, slice(5e-3/2., 5e-3))"
      ],
      "execution_count": 27,
      "outputs": [
        {
          "output_type": "display_data",
          "data": {
            "text/html": [
              "<table border=\"1\" class=\"dataframe\">\n",
              "  <thead>\n",
              "    <tr style=\"text-align: left;\">\n",
              "      <th>epoch</th>\n",
              "      <th>train_loss</th>\n",
              "      <th>valid_loss</th>\n",
              "      <th>accuracy</th>\n",
              "      <th>time</th>\n",
              "    </tr>\n",
              "  </thead>\n",
              "  <tbody>\n",
              "    <tr>\n",
              "      <td>0</td>\n",
              "      <td>2.912363</td>\n",
              "      <td>3.126465</td>\n",
              "      <td>0.465582</td>\n",
              "      <td>01:21</td>\n",
              "    </tr>\n",
              "  </tbody>\n",
              "</table>"
            ],
            "text/plain": [
              "<IPython.core.display.HTML object>"
            ]
          },
          "metadata": {
            "tags": []
          }
        }
      ]
    },
    {
      "cell_type": "code",
      "metadata": {
        "id": "Owff_BJXw53u",
        "outputId": "0bd362dd-069e-4967-9a46-255c7f0b4b4b",
        "colab": {
          "base_uri": "https://localhost:8080/",
          "height": 80
        }
      },
      "source": [
        "learn.unfreeze()\n",
        "learn.fit_one_cycle(1, slice(2e-3/100, 2e-3))"
      ],
      "execution_count": 28,
      "outputs": [
        {
          "output_type": "display_data",
          "data": {
            "text/html": [
              "<table border=\"1\" class=\"dataframe\">\n",
              "  <thead>\n",
              "    <tr style=\"text-align: left;\">\n",
              "      <th>epoch</th>\n",
              "      <th>train_loss</th>\n",
              "      <th>valid_loss</th>\n",
              "      <th>accuracy</th>\n",
              "      <th>time</th>\n",
              "    </tr>\n",
              "  </thead>\n",
              "  <tbody>\n",
              "    <tr>\n",
              "      <td>0</td>\n",
              "      <td>2.358147</td>\n",
              "      <td>2.638186</td>\n",
              "      <td>0.553191</td>\n",
              "      <td>03:22</td>\n",
              "    </tr>\n",
              "  </tbody>\n",
              "</table>"
            ],
            "text/plain": [
              "<IPython.core.display.HTML object>"
            ]
          },
          "metadata": {
            "tags": []
          }
        }
      ]
    },
    {
      "cell_type": "code",
      "metadata": {
        "id": "lqAyu56V8Waq",
        "outputId": "8907c1c8-9aee-49b9-9329-ad139315141a",
        "colab": {
          "base_uri": "https://localhost:8080/",
          "height": 111
        }
      },
      "source": [
        "learn.fit_one_cycle(2, slice(2e-3/100, 2e-3))"
      ],
      "execution_count": 29,
      "outputs": [
        {
          "output_type": "display_data",
          "data": {
            "text/html": [
              "<table border=\"1\" class=\"dataframe\">\n",
              "  <thead>\n",
              "    <tr style=\"text-align: left;\">\n",
              "      <th>epoch</th>\n",
              "      <th>train_loss</th>\n",
              "      <th>valid_loss</th>\n",
              "      <th>accuracy</th>\n",
              "      <th>time</th>\n",
              "    </tr>\n",
              "  </thead>\n",
              "  <tbody>\n",
              "    <tr>\n",
              "      <td>0</td>\n",
              "      <td>1.980154</td>\n",
              "      <td>2.315790</td>\n",
              "      <td>0.595745</td>\n",
              "      <td>03:06</td>\n",
              "    </tr>\n",
              "    <tr>\n",
              "      <td>1</td>\n",
              "      <td>1.649378</td>\n",
              "      <td>2.147960</td>\n",
              "      <td>0.624531</td>\n",
              "      <td>03:13</td>\n",
              "    </tr>\n",
              "  </tbody>\n",
              "</table>"
            ],
            "text/plain": [
              "<IPython.core.display.HTML object>"
            ]
          },
          "metadata": {
            "tags": []
          }
        }
      ]
    },
    {
      "cell_type": "code",
      "metadata": {
        "id": "a7I1xMRp8bUd",
        "outputId": "c7cc2455-3e7b-4fe7-84b3-fc7d477ced2f",
        "colab": {
          "base_uri": "https://localhost:8080/",
          "height": 111
        }
      },
      "source": [
        "learn.fit_one_cycle(2, slice(2e-3/100, 2e-3))"
      ],
      "execution_count": 30,
      "outputs": [
        {
          "output_type": "display_data",
          "data": {
            "text/html": [
              "<table border=\"1\" class=\"dataframe\">\n",
              "  <thead>\n",
              "    <tr style=\"text-align: left;\">\n",
              "      <th>epoch</th>\n",
              "      <th>train_loss</th>\n",
              "      <th>valid_loss</th>\n",
              "      <th>accuracy</th>\n",
              "      <th>time</th>\n",
              "    </tr>\n",
              "  </thead>\n",
              "  <tbody>\n",
              "    <tr>\n",
              "      <td>0</td>\n",
              "      <td>1.534794</td>\n",
              "      <td>1.939026</td>\n",
              "      <td>0.658323</td>\n",
              "      <td>03:14</td>\n",
              "    </tr>\n",
              "    <tr>\n",
              "      <td>1</td>\n",
              "      <td>1.342108</td>\n",
              "      <td>1.826470</td>\n",
              "      <td>0.678348</td>\n",
              "      <td>03:09</td>\n",
              "    </tr>\n",
              "  </tbody>\n",
              "</table>"
            ],
            "text/plain": [
              "<IPython.core.display.HTML object>"
            ]
          },
          "metadata": {
            "tags": []
          }
        }
      ]
    },
    {
      "cell_type": "code",
      "metadata": {
        "id": "UAnti-XmGVfO",
        "outputId": "2a5af8f7-a08e-4b69-a267-957a192e725e",
        "colab": {
          "base_uri": "https://localhost:8080/",
          "height": 111
        }
      },
      "source": [
        "learn.fit_one_cycle(2, slice(2e-3/100, 2e-3))"
      ],
      "execution_count": 31,
      "outputs": [
        {
          "output_type": "display_data",
          "data": {
            "text/html": [
              "<table border=\"1\" class=\"dataframe\">\n",
              "  <thead>\n",
              "    <tr style=\"text-align: left;\">\n",
              "      <th>epoch</th>\n",
              "      <th>train_loss</th>\n",
              "      <th>valid_loss</th>\n",
              "      <th>accuracy</th>\n",
              "      <th>time</th>\n",
              "    </tr>\n",
              "  </thead>\n",
              "  <tbody>\n",
              "    <tr>\n",
              "      <td>0</td>\n",
              "      <td>1.238881</td>\n",
              "      <td>1.680676</td>\n",
              "      <td>0.707134</td>\n",
              "      <td>03:10</td>\n",
              "    </tr>\n",
              "    <tr>\n",
              "      <td>1</td>\n",
              "      <td>1.032923</td>\n",
              "      <td>1.615673</td>\n",
              "      <td>0.725907</td>\n",
              "      <td>03:13</td>\n",
              "    </tr>\n",
              "  </tbody>\n",
              "</table>"
            ],
            "text/plain": [
              "<IPython.core.display.HTML object>"
            ]
          },
          "metadata": {
            "tags": []
          }
        }
      ]
    },
    {
      "cell_type": "code",
      "metadata": {
        "id": "bIft7W25GwSu",
        "outputId": "8f67949f-5dde-4dfa-961f-a07add27c356",
        "colab": {
          "base_uri": "https://localhost:8080/",
          "height": 111
        }
      },
      "source": [
        "learn.fit_one_cycle(2, slice(2e-3/100, 2e-3))"
      ],
      "execution_count": 32,
      "outputs": [
        {
          "output_type": "display_data",
          "data": {
            "text/html": [
              "<table border=\"1\" class=\"dataframe\">\n",
              "  <thead>\n",
              "    <tr style=\"text-align: left;\">\n",
              "      <th>epoch</th>\n",
              "      <th>train_loss</th>\n",
              "      <th>valid_loss</th>\n",
              "      <th>accuracy</th>\n",
              "      <th>time</th>\n",
              "    </tr>\n",
              "  </thead>\n",
              "  <tbody>\n",
              "    <tr>\n",
              "      <td>0</td>\n",
              "      <td>1.005757</td>\n",
              "      <td>1.546480</td>\n",
              "      <td>0.737171</td>\n",
              "      <td>03:20</td>\n",
              "    </tr>\n",
              "    <tr>\n",
              "      <td>1</td>\n",
              "      <td>0.871484</td>\n",
              "      <td>1.482568</td>\n",
              "      <td>0.757196</td>\n",
              "      <td>03:21</td>\n",
              "    </tr>\n",
              "  </tbody>\n",
              "</table>"
            ],
            "text/plain": [
              "<IPython.core.display.HTML object>"
            ]
          },
          "metadata": {
            "tags": []
          }
        }
      ]
    },
    {
      "cell_type": "code",
      "metadata": {
        "id": "EEHszVRvGyFt",
        "outputId": "7bcd4df4-8ef7-4345-8c9a-2bd385548743",
        "colab": {
          "base_uri": "https://localhost:8080/",
          "height": 111
        }
      },
      "source": [
        "learn.fit_one_cycle(2, slice(2e-3/100, 2e-3))"
      ],
      "execution_count": 33,
      "outputs": [
        {
          "output_type": "display_data",
          "data": {
            "text/html": [
              "<table border=\"1\" class=\"dataframe\">\n",
              "  <thead>\n",
              "    <tr style=\"text-align: left;\">\n",
              "      <th>epoch</th>\n",
              "      <th>train_loss</th>\n",
              "      <th>valid_loss</th>\n",
              "      <th>accuracy</th>\n",
              "      <th>time</th>\n",
              "    </tr>\n",
              "  </thead>\n",
              "  <tbody>\n",
              "    <tr>\n",
              "      <td>0</td>\n",
              "      <td>0.808853</td>\n",
              "      <td>1.469498</td>\n",
              "      <td>0.734668</td>\n",
              "      <td>03:21</td>\n",
              "    </tr>\n",
              "    <tr>\n",
              "      <td>1</td>\n",
              "      <td>0.727668</td>\n",
              "      <td>1.384624</td>\n",
              "      <td>0.762203</td>\n",
              "      <td>03:25</td>\n",
              "    </tr>\n",
              "  </tbody>\n",
              "</table>"
            ],
            "text/plain": [
              "<IPython.core.display.HTML object>"
            ]
          },
          "metadata": {
            "tags": []
          }
        }
      ]
    },
    {
      "cell_type": "code",
      "metadata": {
        "id": "XsHfrhCHG3dN",
        "outputId": "47f98204-78e4-476e-cb2b-0f619a6a3140",
        "colab": {
          "base_uri": "https://localhost:8080/",
          "height": 173
        }
      },
      "source": [
        "learn.fit_one_cycle(4, slice(2e-3/100, 2e-3))"
      ],
      "execution_count": 34,
      "outputs": [
        {
          "output_type": "display_data",
          "data": {
            "text/html": [
              "<table border=\"1\" class=\"dataframe\">\n",
              "  <thead>\n",
              "    <tr style=\"text-align: left;\">\n",
              "      <th>epoch</th>\n",
              "      <th>train_loss</th>\n",
              "      <th>valid_loss</th>\n",
              "      <th>accuracy</th>\n",
              "      <th>time</th>\n",
              "    </tr>\n",
              "  </thead>\n",
              "  <tbody>\n",
              "    <tr>\n",
              "      <td>0</td>\n",
              "      <td>0.685200</td>\n",
              "      <td>1.387850</td>\n",
              "      <td>0.767209</td>\n",
              "      <td>03:19</td>\n",
              "    </tr>\n",
              "    <tr>\n",
              "      <td>1</td>\n",
              "      <td>0.648205</td>\n",
              "      <td>1.375708</td>\n",
              "      <td>0.759700</td>\n",
              "      <td>03:18</td>\n",
              "    </tr>\n",
              "    <tr>\n",
              "      <td>2</td>\n",
              "      <td>0.563878</td>\n",
              "      <td>1.301624</td>\n",
              "      <td>0.767209</td>\n",
              "      <td>03:31</td>\n",
              "    </tr>\n",
              "    <tr>\n",
              "      <td>3</td>\n",
              "      <td>0.484955</td>\n",
              "      <td>1.322461</td>\n",
              "      <td>0.772215</td>\n",
              "      <td>03:21</td>\n",
              "    </tr>\n",
              "  </tbody>\n",
              "</table>"
            ],
            "text/plain": [
              "<IPython.core.display.HTML object>"
            ]
          },
          "metadata": {
            "tags": []
          }
        }
      ]
    },
    {
      "cell_type": "code",
      "metadata": {
        "id": "0Zsd99isb9EQ",
        "outputId": "61655176-908a-4514-ef9c-d1f785f9f885",
        "colab": {
          "base_uri": "https://localhost:8080/",
          "height": 173
        }
      },
      "source": [
        "learn.fit_one_cycle(4, slice(2e-3/100, 2e-3))"
      ],
      "execution_count": 35,
      "outputs": [
        {
          "output_type": "display_data",
          "data": {
            "text/html": [
              "<table border=\"1\" class=\"dataframe\">\n",
              "  <thead>\n",
              "    <tr style=\"text-align: left;\">\n",
              "      <th>epoch</th>\n",
              "      <th>train_loss</th>\n",
              "      <th>valid_loss</th>\n",
              "      <th>accuracy</th>\n",
              "      <th>time</th>\n",
              "    </tr>\n",
              "  </thead>\n",
              "  <tbody>\n",
              "    <tr>\n",
              "      <td>0</td>\n",
              "      <td>0.491347</td>\n",
              "      <td>1.280597</td>\n",
              "      <td>0.785982</td>\n",
              "      <td>03:19</td>\n",
              "    </tr>\n",
              "    <tr>\n",
              "      <td>1</td>\n",
              "      <td>0.534115</td>\n",
              "      <td>1.296445</td>\n",
              "      <td>0.783479</td>\n",
              "      <td>03:26</td>\n",
              "    </tr>\n",
              "    <tr>\n",
              "      <td>2</td>\n",
              "      <td>0.426680</td>\n",
              "      <td>1.269983</td>\n",
              "      <td>0.783479</td>\n",
              "      <td>03:10</td>\n",
              "    </tr>\n",
              "    <tr>\n",
              "      <td>3</td>\n",
              "      <td>0.361138</td>\n",
              "      <td>1.253222</td>\n",
              "      <td>0.788486</td>\n",
              "      <td>03:29</td>\n",
              "    </tr>\n",
              "  </tbody>\n",
              "</table>"
            ],
            "text/plain": [
              "<IPython.core.display.HTML object>"
            ]
          },
          "metadata": {
            "tags": []
          }
        }
      ]
    },
    {
      "cell_type": "code",
      "metadata": {
        "id": "atNWNKDFPbuI",
        "outputId": "09ba1df6-5107-4090-e62d-216e907f9573",
        "colab": {
          "base_uri": "https://localhost:8080/",
          "height": 173
        }
      },
      "source": [
        "learn.fit_one_cycle(4, slice(2e-3/100, 2e-3))"
      ],
      "execution_count": 36,
      "outputs": [
        {
          "output_type": "display_data",
          "data": {
            "text/html": [
              "<table border=\"1\" class=\"dataframe\">\n",
              "  <thead>\n",
              "    <tr style=\"text-align: left;\">\n",
              "      <th>epoch</th>\n",
              "      <th>train_loss</th>\n",
              "      <th>valid_loss</th>\n",
              "      <th>accuracy</th>\n",
              "      <th>time</th>\n",
              "    </tr>\n",
              "  </thead>\n",
              "  <tbody>\n",
              "    <tr>\n",
              "      <td>0</td>\n",
              "      <td>0.365002</td>\n",
              "      <td>1.270393</td>\n",
              "      <td>0.806008</td>\n",
              "      <td>03:09</td>\n",
              "    </tr>\n",
              "    <tr>\n",
              "      <td>1</td>\n",
              "      <td>0.421490</td>\n",
              "      <td>1.237135</td>\n",
              "      <td>0.792240</td>\n",
              "      <td>03:22</td>\n",
              "    </tr>\n",
              "    <tr>\n",
              "      <td>2</td>\n",
              "      <td>0.367841</td>\n",
              "      <td>1.241783</td>\n",
              "      <td>0.803504</td>\n",
              "      <td>03:28</td>\n",
              "    </tr>\n",
              "    <tr>\n",
              "      <td>3</td>\n",
              "      <td>0.313457</td>\n",
              "      <td>1.204352</td>\n",
              "      <td>0.802253</td>\n",
              "      <td>03:17</td>\n",
              "    </tr>\n",
              "  </tbody>\n",
              "</table>"
            ],
            "text/plain": [
              "<IPython.core.display.HTML object>"
            ]
          },
          "metadata": {
            "tags": []
          }
        }
      ]
    },
    {
      "cell_type": "code",
      "metadata": {
        "id": "rKrBTZ0T1uVA",
        "outputId": "27ec4fd4-89fa-4421-a113-a72a8ddf35e0",
        "colab": {
          "base_uri": "https://localhost:8080/",
          "height": 173
        }
      },
      "source": [
        "learn.fit_one_cycle(4, slice(2e-3/100, 2e-3))"
      ],
      "execution_count": 37,
      "outputs": [
        {
          "output_type": "display_data",
          "data": {
            "text/html": [
              "<table border=\"1\" class=\"dataframe\">\n",
              "  <thead>\n",
              "    <tr style=\"text-align: left;\">\n",
              "      <th>epoch</th>\n",
              "      <th>train_loss</th>\n",
              "      <th>valid_loss</th>\n",
              "      <th>accuracy</th>\n",
              "      <th>time</th>\n",
              "    </tr>\n",
              "  </thead>\n",
              "  <tbody>\n",
              "    <tr>\n",
              "      <td>0</td>\n",
              "      <td>0.368923</td>\n",
              "      <td>1.230549</td>\n",
              "      <td>0.809762</td>\n",
              "      <td>03:25</td>\n",
              "    </tr>\n",
              "    <tr>\n",
              "      <td>1</td>\n",
              "      <td>0.341037</td>\n",
              "      <td>1.216865</td>\n",
              "      <td>0.806008</td>\n",
              "      <td>03:11</td>\n",
              "    </tr>\n",
              "    <tr>\n",
              "      <td>2</td>\n",
              "      <td>0.301167</td>\n",
              "      <td>1.204479</td>\n",
              "      <td>0.813517</td>\n",
              "      <td>03:19</td>\n",
              "    </tr>\n",
              "    <tr>\n",
              "      <td>3</td>\n",
              "      <td>0.250815</td>\n",
              "      <td>1.204912</td>\n",
              "      <td>0.813517</td>\n",
              "      <td>03:11</td>\n",
              "    </tr>\n",
              "  </tbody>\n",
              "</table>"
            ],
            "text/plain": [
              "<IPython.core.display.HTML object>"
            ]
          },
          "metadata": {
            "tags": []
          }
        }
      ]
    },
    {
      "cell_type": "code",
      "metadata": {
        "id": "ajQC6WDg1yA9",
        "outputId": "ad2bc173-65b5-4c43-d731-d24874258b17",
        "colab": {
          "base_uri": "https://localhost:8080/",
          "height": 173
        }
      },
      "source": [
        "learn.fit_one_cycle(4, slice(2e-3/100, 2e-3))"
      ],
      "execution_count": 38,
      "outputs": [
        {
          "output_type": "display_data",
          "data": {
            "text/html": [
              "<table border=\"1\" class=\"dataframe\">\n",
              "  <thead>\n",
              "    <tr style=\"text-align: left;\">\n",
              "      <th>epoch</th>\n",
              "      <th>train_loss</th>\n",
              "      <th>valid_loss</th>\n",
              "      <th>accuracy</th>\n",
              "      <th>time</th>\n",
              "    </tr>\n",
              "  </thead>\n",
              "  <tbody>\n",
              "    <tr>\n",
              "      <td>0</td>\n",
              "      <td>0.299573</td>\n",
              "      <td>1.169266</td>\n",
              "      <td>0.801001</td>\n",
              "      <td>03:25</td>\n",
              "    </tr>\n",
              "    <tr>\n",
              "      <td>1</td>\n",
              "      <td>0.305737</td>\n",
              "      <td>1.239726</td>\n",
              "      <td>0.806008</td>\n",
              "      <td>03:17</td>\n",
              "    </tr>\n",
              "    <tr>\n",
              "      <td>2</td>\n",
              "      <td>0.280701</td>\n",
              "      <td>1.221096</td>\n",
              "      <td>0.816020</td>\n",
              "      <td>03:29</td>\n",
              "    </tr>\n",
              "    <tr>\n",
              "      <td>3</td>\n",
              "      <td>0.231975</td>\n",
              "      <td>1.230869</td>\n",
              "      <td>0.812265</td>\n",
              "      <td>03:14</td>\n",
              "    </tr>\n",
              "  </tbody>\n",
              "</table>"
            ],
            "text/plain": [
              "<IPython.core.display.HTML object>"
            ]
          },
          "metadata": {
            "tags": []
          }
        }
      ]
    },
    {
      "cell_type": "code",
      "metadata": {
        "id": "KKydb0B4BKGk",
        "outputId": "a9261401-e8c7-41d5-dc5b-5321ad33dee0",
        "colab": {
          "base_uri": "https://localhost:8080/",
          "height": 173
        }
      },
      "source": [
        "learn.fit_one_cycle(4, slice(2e-3/100, 2e-3))"
      ],
      "execution_count": 39,
      "outputs": [
        {
          "output_type": "display_data",
          "data": {
            "text/html": [
              "<table border=\"1\" class=\"dataframe\">\n",
              "  <thead>\n",
              "    <tr style=\"text-align: left;\">\n",
              "      <th>epoch</th>\n",
              "      <th>train_loss</th>\n",
              "      <th>valid_loss</th>\n",
              "      <th>accuracy</th>\n",
              "      <th>time</th>\n",
              "    </tr>\n",
              "  </thead>\n",
              "  <tbody>\n",
              "    <tr>\n",
              "      <td>0</td>\n",
              "      <td>0.218129</td>\n",
              "      <td>1.239689</td>\n",
              "      <td>0.811014</td>\n",
              "      <td>03:39</td>\n",
              "    </tr>\n",
              "    <tr>\n",
              "      <td>1</td>\n",
              "      <td>0.291272</td>\n",
              "      <td>1.272780</td>\n",
              "      <td>0.809762</td>\n",
              "      <td>03:23</td>\n",
              "    </tr>\n",
              "    <tr>\n",
              "      <td>2</td>\n",
              "      <td>0.260954</td>\n",
              "      <td>1.283600</td>\n",
              "      <td>0.812265</td>\n",
              "      <td>03:17</td>\n",
              "    </tr>\n",
              "    <tr>\n",
              "      <td>3</td>\n",
              "      <td>0.220464</td>\n",
              "      <td>1.205389</td>\n",
              "      <td>0.813517</td>\n",
              "      <td>03:16</td>\n",
              "    </tr>\n",
              "  </tbody>\n",
              "</table>"
            ],
            "text/plain": [
              "<IPython.core.display.HTML object>"
            ]
          },
          "metadata": {
            "tags": []
          }
        }
      ]
    },
    {
      "cell_type": "code",
      "metadata": {
        "id": "T2APKtFKBpGY",
        "outputId": "9e724e3e-5700-4703-cf4b-4c6ecde034ed",
        "colab": {
          "base_uri": "https://localhost:8080/",
          "height": 173
        }
      },
      "source": [
        "learn.fit_one_cycle(4, slice(2e-3/100, 2e-3))"
      ],
      "execution_count": 40,
      "outputs": [
        {
          "output_type": "display_data",
          "data": {
            "text/html": [
              "<table border=\"1\" class=\"dataframe\">\n",
              "  <thead>\n",
              "    <tr style=\"text-align: left;\">\n",
              "      <th>epoch</th>\n",
              "      <th>train_loss</th>\n",
              "      <th>valid_loss</th>\n",
              "      <th>accuracy</th>\n",
              "      <th>time</th>\n",
              "    </tr>\n",
              "  </thead>\n",
              "  <tbody>\n",
              "    <tr>\n",
              "      <td>0</td>\n",
              "      <td>0.211842</td>\n",
              "      <td>1.193705</td>\n",
              "      <td>0.813517</td>\n",
              "      <td>03:14</td>\n",
              "    </tr>\n",
              "    <tr>\n",
              "      <td>1</td>\n",
              "      <td>0.245560</td>\n",
              "      <td>1.237765</td>\n",
              "      <td>0.802253</td>\n",
              "      <td>03:24</td>\n",
              "    </tr>\n",
              "    <tr>\n",
              "      <td>2</td>\n",
              "      <td>0.231680</td>\n",
              "      <td>1.189641</td>\n",
              "      <td>0.814768</td>\n",
              "      <td>03:24</td>\n",
              "    </tr>\n",
              "    <tr>\n",
              "      <td>3</td>\n",
              "      <td>0.191580</td>\n",
              "      <td>1.222515</td>\n",
              "      <td>0.812265</td>\n",
              "      <td>03:25</td>\n",
              "    </tr>\n",
              "  </tbody>\n",
              "</table>"
            ],
            "text/plain": [
              "<IPython.core.display.HTML object>"
            ]
          },
          "metadata": {
            "tags": []
          }
        }
      ]
    },
    {
      "cell_type": "code",
      "metadata": {
        "id": "qtTypA1sPgLU",
        "outputId": "9c5fb1ab-2cc7-468d-f0f1-3c4440d51772",
        "colab": {
          "base_uri": "https://localhost:8080/",
          "height": 111
        }
      },
      "source": [
        "learn.fit_one_cycle(2, slice(2e-3/100, 2e-3))"
      ],
      "execution_count": 41,
      "outputs": [
        {
          "output_type": "display_data",
          "data": {
            "text/html": [
              "<table border=\"1\" class=\"dataframe\">\n",
              "  <thead>\n",
              "    <tr style=\"text-align: left;\">\n",
              "      <th>epoch</th>\n",
              "      <th>train_loss</th>\n",
              "      <th>valid_loss</th>\n",
              "      <th>accuracy</th>\n",
              "      <th>time</th>\n",
              "    </tr>\n",
              "  </thead>\n",
              "  <tbody>\n",
              "    <tr>\n",
              "      <td>0</td>\n",
              "      <td>0.212207</td>\n",
              "      <td>1.307787</td>\n",
              "      <td>0.812265</td>\n",
              "      <td>03:23</td>\n",
              "    </tr>\n",
              "    <tr>\n",
              "      <td>1</td>\n",
              "      <td>0.196210</td>\n",
              "      <td>1.223386</td>\n",
              "      <td>0.823529</td>\n",
              "      <td>03:33</td>\n",
              "    </tr>\n",
              "  </tbody>\n",
              "</table>"
            ],
            "text/plain": [
              "<IPython.core.display.HTML object>"
            ]
          },
          "metadata": {
            "tags": []
          }
        }
      ]
    },
    {
      "cell_type": "code",
      "metadata": {
        "id": "b242kBsTUp9Y",
        "outputId": "215de13d-f8fe-45f6-ced4-5c466f17c761",
        "colab": {
          "base_uri": "https://localhost:8080/",
          "height": 111
        }
      },
      "source": [
        "learn.fit_one_cycle(2, slice(2e-3/100, 2e-3))"
      ],
      "execution_count": 42,
      "outputs": [
        {
          "output_type": "display_data",
          "data": {
            "text/html": [
              "<table border=\"1\" class=\"dataframe\">\n",
              "  <thead>\n",
              "    <tr style=\"text-align: left;\">\n",
              "      <th>epoch</th>\n",
              "      <th>train_loss</th>\n",
              "      <th>valid_loss</th>\n",
              "      <th>accuracy</th>\n",
              "      <th>time</th>\n",
              "    </tr>\n",
              "  </thead>\n",
              "  <tbody>\n",
              "    <tr>\n",
              "      <td>0</td>\n",
              "      <td>0.204145</td>\n",
              "      <td>1.277367</td>\n",
              "      <td>0.803504</td>\n",
              "      <td>03:13</td>\n",
              "    </tr>\n",
              "    <tr>\n",
              "      <td>1</td>\n",
              "      <td>0.207702</td>\n",
              "      <td>1.181089</td>\n",
              "      <td>0.827284</td>\n",
              "      <td>03:26</td>\n",
              "    </tr>\n",
              "  </tbody>\n",
              "</table>"
            ],
            "text/plain": [
              "<IPython.core.display.HTML object>"
            ]
          },
          "metadata": {
            "tags": []
          }
        }
      ]
    },
    {
      "cell_type": "code",
      "metadata": {
        "id": "Duwf1Ih5VeDZ",
        "outputId": "6580f424-de37-4bce-b808-064c94dc6fc8",
        "colab": {
          "base_uri": "https://localhost:8080/",
          "height": 80
        }
      },
      "source": [
        "learn.fit_one_cycle(1, slice(2e-3/100, 2e-3))"
      ],
      "execution_count": 43,
      "outputs": [
        {
          "output_type": "display_data",
          "data": {
            "text/html": [
              "<table border=\"1\" class=\"dataframe\">\n",
              "  <thead>\n",
              "    <tr style=\"text-align: left;\">\n",
              "      <th>epoch</th>\n",
              "      <th>train_loss</th>\n",
              "      <th>valid_loss</th>\n",
              "      <th>accuracy</th>\n",
              "      <th>time</th>\n",
              "    </tr>\n",
              "  </thead>\n",
              "  <tbody>\n",
              "    <tr>\n",
              "      <td>0</td>\n",
              "      <td>0.190058</td>\n",
              "      <td>1.265389</td>\n",
              "      <td>0.816020</td>\n",
              "      <td>03:38</td>\n",
              "    </tr>\n",
              "  </tbody>\n",
              "</table>"
            ],
            "text/plain": [
              "<IPython.core.display.HTML object>"
            ]
          },
          "metadata": {
            "tags": []
          }
        }
      ]
    },
    {
      "cell_type": "code",
      "metadata": {
        "id": "c65d-osfDUXm"
      },
      "source": [
        "# save the best model\n",
        "\n",
        "learn.save_encoder('pubmed_ask_mixed_fold7')"
      ],
      "execution_count": 44,
      "outputs": []
    },
    {
      "cell_type": "markdown",
      "metadata": {
        "id": "rCwZU0E2RgM6"
      },
      "source": [
        "# Part three: Predict on the test dataset"
      ]
    },
    {
      "cell_type": "code",
      "metadata": {
        "id": "gDm72c-dOu7d",
        "outputId": "b1f0459a-a73d-4a07-b80b-3688dc5bd357",
        "colab": {
          "base_uri": "https://localhost:8080/",
          "height": 17
        }
      },
      "source": [
        "# use the test data for prediction\n",
        "\n",
        "preds, y = learn.get_preds(DatasetType.Test)"
      ],
      "execution_count": 45,
      "outputs": [
        {
          "output_type": "display_data",
          "data": {
            "text/html": [
              ""
            ],
            "text/plain": [
              "<IPython.core.display.HTML object>"
            ]
          },
          "metadata": {
            "tags": []
          }
        }
      ]
    },
    {
      "cell_type": "code",
      "metadata": {
        "id": "6tFSQcsWPvxn",
        "outputId": "532f0dfd-8704-4bdb-f40b-3b18b12c5b6f",
        "colab": {
          "base_uri": "https://localhost:8080/",
          "height": 105
        }
      },
      "source": [
        "predictions, *_ = learn.get_preds(DatasetType.Test)\n",
        "labels = np.argmax(predictions, 1)\n",
        "predict_list = labels.tolist()\n",
        "standard_list = test[0].tolist()\n",
        "\n",
        "print(len(predict_list))\n",
        "print(len(standard_list))\n",
        "\n",
        "print(predict_list)\n",
        "print(standard_list)"
      ],
      "execution_count": 46,
      "outputs": [
        {
          "output_type": "display_data",
          "data": {
            "text/html": [
              ""
            ],
            "text/plain": [
              "<IPython.core.display.HTML object>"
            ]
          },
          "metadata": {
            "tags": []
          }
        },
        {
          "output_type": "stream",
          "text": [
            "866\n",
            "866\n",
            "[126, 8, 8, 8, 8, 8, 8, 510, 10, 13, 536, 652, 27, 27, 749, 150, 30, 31, 320, 32, 37, 37, 37, 37, 741, 70, 448, 514, 49, 49, 100, 290, 808, 49, 49, 49, 49, 240, 49, 49, 49, 100, 100, 50, 903, 53, 53, 53, 58, 494, 59, 80, 61, 61, 62, 1009, 71, 76, 76, 76, 76, 76, 79, 79, 79, 195, 289, 289, 289, 289, 289, 289, 289, 289, 289, 289, 289, 289, 289, 289, 289, 289, 289, 289, 289, 289, 289, 289, 289, 289, 289, 289, 289, 289, 289, 289, 289, 289, 289, 289, 289, 289, 289, 289, 289, 289, 289, 624, 80, 80, 80, 290, 268, 88, 268, 137, 91, 91, 92, 92, 94, 94, 198, 94, 94, 94, 94, 94, 94, 94, 94, 94, 94, 100, 100, 100, 937, 265, 100, 337, 100, 100, 100, 100, 10, 881, 108, 111, 111, 111, 111, 114, 290, 842, 122, 627, 125, 125, 125, 125, 125, 125, 125, 125, 125, 125, 125, 127, 127, 127, 343, 132, 473, 447, 255, 153, 160, 162, 769, 166, 129, 427, 494, 181, 741, 715, 182, 182, 182, 183, 183, 183, 183, 58, 187, 187, 187, 189, 113, 189, 289, 190, 190, 190, 190, 190, 190, 190, 190, 190, 336, 509, 197, 209, 197, 197, 197, 200, 203, 2, 205, 205, 210, 214, 214, 214, 214, 214, 214, 214, 214, 214, 214, 214, 366, 214, 471, 214, 214, 896, 543, 216, 380, 110, 218, 218, 218, 198, 222, 1026, 289, 228, 228, 228, 228, 228, 228, 228, 228, 228, 228, 228, 228, 228, 228, 289, 749, 234, 935, 234, 234, 328, 236, 236, 238, 964, 243, 905, 842, 243, 243, 243, 243, 243, 939, 243, 244, 245, 245, 245, 245, 245, 245, 245, 245, 638, 556, 357, 246, 471, 254, 254, 254, 348, 265, 265, 289, 265, 265, 265, 265, 265, 265, 265, 265, 265, 265, 265, 265, 265, 265, 265, 265, 419, 260, 842, 137, 269, 274, 277, 277, 277, 281, 281, 286, 289, 289, 289, 289, 289, 289, 289, 289, 289, 289, 289, 289, 289, 304, 291, 291, 293, 848, 298, 300, 80, 301, 337, 310, 310, 309, 45, 318, 427, 427, 318, 590, 846, 846, 846, 846, 846, 846, 846, 846, 846, 846, 325, 368, 879, 332, 332, 334, 337, 337, 337, 337, 337, 337, 342, 343, 344, 344, 903, 351, 359, 359, 363, 363, 364, 109, 215, 81, 517, 389, 389, 391, 396, 881, 402, 402, 358, 358, 789, 789, 402, 402, 408, 409, 110, 415, 726, 471, 419, 419, 419, 419, 419, 419, 419, 419, 419, 419, 419, 828, 939, 426, 426, 426, 735, 427, 427, 597, 427, 427, 427, 427, 732, 615, 427, 75, 429, 436, 437, 137, 443, 391, 454, 455, 455, 982, 455, 213, 458, 689, 110, 459, 459, 465, 462, 896, 471, 473, 939, 474, 475, 475, 475, 475, 485, 487, 487, 489, 491, 491, 491, 491, 551, 492, 495, 887, 499, 499, 10, 505, 509, 509, 728, 88, 522, 894, 627, 530, 27, 541, 541, 541, 541, 233, 548, 548, 548, 548, 548, 548, 384, 549, 561, 721, 721, 566, 569, 775, 236, 578, 471, 579, 579, 583, 590, 590, 591, 591, 939, 592, 594, 595, 597, 597, 807, 604, 190, 775, 896, 607, 610, 567, 612, 289, 614, 614, 479, 614, 614, 517, 903, 131, 623, 623, 289, 875, 639, 639, 646, 646, 646, 646, 646, 652, 657, 659, 662, 662, 662, 666, 416, 667, 683, 677, 677, 677, 677, 66, 428, 691, 693, 693, 693, 289, 427, 289, 704, 190, 704, 337, 704, 704, 37, 676, 317, 707, 708, 708, 711, 711, 711, 714, 728, 726, 726, 775, 730, 337, 735, 240, 741, 769, 769, 773, 770, 775, 49, 775, 775, 775, 240, 726, 790, 791, 427, 794, 213, 796, 798, 799, 415, 803, 753, 539, 847, 806, 806, 809, 809, 809, 809, 403, 810, 337, 485, 814, 817, 824, 824, 826, 826, 830, 830, 830, 830, 830, 830, 830, 830, 446, 832, 839, 839, 841, 843, 846, 847, 847, 847, 847, 847, 847, 801, 847, 847, 851, 408, 240, 853, 110, 853, 853, 749, 864, 44, 214, 293, 896, 896, 896, 896, 896, 896, 896, 728, 627, 919, 919, 919, 919, 933, 933, 935, 806, 937, 937, 937, 937, 941, 943, 290, 948, 948, 948, 948, 948, 949, 949, 949, 949, 949, 949, 949, 949, 949, 949, 949, 949, 949, 949, 949, 949, 949, 949, 949, 949, 949, 949, 949, 949, 949, 949, 949, 949, 949, 949, 949, 949, 949, 949, 949, 949, 949, 949, 949, 949, 949, 949, 949, 949, 949, 949, 949, 949, 949, 949, 949, 949, 949, 949, 949, 949, 949, 949, 949, 949, 949, 949, 949, 949, 949, 949, 949, 949, 949, 949, 949, 949, 949, 949, 949, 949, 949, 949, 949, 949, 949, 949, 949, 939, 939, 949, 949, 949, 949, 949, 949, 949, 949, 949, 949, 949, 949, 949, 949, 949, 949, 949, 949, 949, 949, 949, 949, 964, 939, 950, 950, 950, 950, 950, 952, 952, 952, 862, 959, 964, 976, 213, 977, 980, 994, 939, 999, 999, 255, 1001, 627, 1001, 1012, 1016, 1017, 995, 1026, 1026, 1026, 1026, 1028, 1029, 1034, 1035, 1029]\n",
            "[3, 8, 8, 8, 8, 8, 8, 9, 10, 13, 27, 27, 27, 27, 28, 28, 30, 31, 31, 32, 37, 37, 37, 37, 37, 37, 37, 49, 49, 49, 49, 49, 49, 49, 49, 49, 49, 49, 49, 49, 49, 49, 49, 50, 53, 53, 53, 53, 58, 58, 59, 60, 61, 61, 62, 68, 71, 76, 76, 76, 76, 76, 79, 79, 79, 79, 79, 79, 79, 79, 79, 79, 79, 79, 79, 79, 79, 79, 79, 79, 79, 79, 79, 79, 79, 79, 79, 79, 79, 79, 79, 79, 79, 79, 79, 79, 79, 79, 79, 79, 79, 79, 79, 79, 79, 79, 79, 79, 80, 80, 80, 84, 86, 88, 89, 89, 91, 91, 92, 92, 94, 94, 94, 94, 94, 94, 94, 94, 94, 94, 94, 94, 94, 100, 100, 100, 100, 100, 100, 100, 100, 100, 100, 100, 100, 102, 108, 111, 111, 111, 111, 114, 122, 122, 122, 124, 125, 125, 125, 125, 125, 125, 125, 125, 125, 125, 125, 127, 127, 127, 127, 132, 139, 142, 148, 153, 160, 162, 166, 166, 172, 172, 179, 181, 182, 182, 182, 182, 182, 183, 183, 183, 183, 185, 187, 187, 187, 189, 189, 189, 190, 190, 190, 190, 190, 190, 190, 190, 190, 190, 194, 194, 197, 197, 197, 197, 197, 200, 203, 205, 205, 205, 210, 214, 214, 214, 214, 214, 214, 214, 214, 214, 214, 214, 214, 214, 214, 214, 214, 214, 216, 216, 218, 218, 218, 218, 218, 219, 222, 224, 228, 228, 228, 228, 228, 228, 228, 228, 228, 228, 228, 228, 228, 228, 228, 228, 231, 234, 234, 234, 234, 235, 236, 236, 238, 243, 243, 243, 243, 243, 243, 243, 243, 243, 243, 243, 244, 245, 245, 245, 245, 245, 245, 245, 245, 245, 245, 246, 246, 248, 254, 254, 254, 256, 265, 265, 265, 265, 265, 265, 265, 265, 265, 265, 265, 265, 265, 265, 265, 265, 265, 265, 265, 265, 265, 267, 268, 269, 274, 277, 277, 277, 281, 281, 286, 289, 289, 289, 289, 289, 289, 289, 289, 289, 289, 289, 289, 289, 290, 291, 291, 293, 296, 298, 300, 300, 301, 301, 309, 309, 309, 317, 318, 318, 318, 318, 325, 325, 325, 325, 325, 325, 325, 325, 325, 325, 325, 325, 325, 325, 332, 332, 334, 337, 337, 337, 337, 337, 337, 342, 343, 344, 344, 346, 351, 359, 359, 363, 363, 364, 364, 369, 378, 383, 389, 389, 391, 396, 396, 402, 402, 402, 402, 402, 402, 402, 402, 408, 409, 411, 416, 417, 419, 419, 419, 419, 419, 419, 419, 419, 419, 419, 419, 419, 420, 424, 426, 426, 426, 426, 427, 427, 427, 427, 427, 427, 427, 427, 427, 427, 427, 429, 436, 437, 442, 443, 444, 454, 455, 455, 455, 455, 455, 458, 458, 458, 459, 459, 461, 462, 471, 471, 473, 474, 474, 475, 475, 475, 475, 485, 487, 487, 489, 491, 491, 491, 491, 492, 492, 495, 498, 499, 499, 502, 505, 509, 509, 518, 521, 522, 524, 527, 530, 536, 541, 541, 541, 541, 545, 548, 548, 548, 548, 548, 548, 548, 549, 561, 564, 565, 566, 569, 571, 574, 578, 578, 579, 579, 583, 590, 590, 591, 591, 592, 592, 594, 595, 597, 597, 597, 604, 604, 605, 606, 607, 610, 610, 612, 614, 614, 614, 614, 614, 614, 619, 620, 622, 623, 623, 635, 639, 639, 639, 646, 646, 646, 646, 646, 652, 657, 659, 662, 662, 662, 666, 666, 667, 668, 677, 677, 678, 679, 685, 690, 691, 693, 693, 693, 698, 701, 702, 702, 703, 703, 704, 704, 704, 704, 705, 705, 707, 708, 708, 711, 711, 711, 714, 725, 726, 726, 727, 730, 734, 735, 740, 741, 769, 769, 770, 770, 775, 775, 775, 775, 775, 778, 784, 790, 792, 794, 794, 794, 796, 798, 799, 801, 803, 803, 806, 806, 806, 806, 809, 809, 809, 809, 810, 810, 810, 813, 814, 817, 824, 824, 826, 826, 830, 830, 830, 830, 830, 830, 830, 830, 831, 837, 839, 839, 841, 843, 846, 847, 847, 847, 847, 847, 847, 847, 847, 847, 851, 852, 853, 853, 853, 853, 853, 861, 864, 869, 877, 896, 896, 896, 896, 896, 896, 896, 897, 909, 913, 919, 919, 919, 919, 933, 933, 935, 937, 937, 937, 937, 937, 941, 943, 946, 948, 948, 948, 948, 948, 949, 949, 949, 949, 949, 949, 949, 949, 949, 949, 949, 949, 949, 949, 949, 949, 949, 949, 949, 949, 949, 949, 949, 949, 949, 949, 949, 949, 949, 949, 949, 949, 949, 949, 949, 949, 949, 949, 949, 949, 949, 949, 949, 949, 949, 949, 949, 949, 949, 949, 949, 949, 949, 949, 949, 949, 949, 949, 949, 949, 949, 949, 949, 949, 949, 949, 949, 949, 949, 949, 949, 949, 949, 949, 949, 949, 949, 949, 949, 949, 949, 949, 949, 949, 949, 949, 949, 949, 949, 949, 949, 949, 949, 949, 949, 949, 949, 949, 949, 949, 949, 949, 949, 949, 949, 949, 949, 950, 950, 950, 950, 950, 950, 950, 952, 952, 952, 958, 959, 964, 976, 976, 977, 980, 994, 997, 999, 999, 999, 1001, 1001, 1001, 1012, 1016, 1017, 1019, 1025, 1026, 1026, 1026, 1028, 1029, 1034, 1035, 1035]\n"
          ],
          "name": "stdout"
        }
      ]
    },
    {
      "cell_type": "code",
      "metadata": {
        "id": "XIC4zufnMxtq",
        "outputId": "23e14278-d4f2-459f-9aea-09ca6abfbb17",
        "colab": {
          "base_uri": "https://localhost:8080/"
        }
      },
      "source": [
        "correct_num = 0\n",
        "\n",
        "for i in range(0, len(standard_list)):\n",
        "  if predict_list[i] == standard_list[i]:\n",
        "    correct_num = correct_num+1\n",
        "  else:\n",
        "    pass\n",
        "print(correct_num)\n",
        "\n",
        "predict_accuracy = correct_num/len(predict_list)\n",
        "print(predict_accuracy)"
      ],
      "execution_count": 47,
      "outputs": [
        {
          "output_type": "stream",
          "text": [
            "604\n",
            "0.6974595842956121\n"
          ],
          "name": "stdout"
        }
      ]
    },
    {
      "cell_type": "code",
      "metadata": {
        "id": "zlKMHp1CIaRJ"
      },
      "source": [
        ""
      ],
      "execution_count": 47,
      "outputs": []
    }
  ]
}