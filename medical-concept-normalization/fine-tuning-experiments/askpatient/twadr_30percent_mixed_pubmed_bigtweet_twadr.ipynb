{
  "nbformat": 4,
  "nbformat_minor": 0,
  "metadata": {
    "accelerator": "TPU",
    "colab": {
      "name": "twadr_30percent_mixed_pubmed_bigtweet_twadr.ipynb",
      "provenance": [],
      "collapsed_sections": [],
      "toc_visible": true,
      "include_colab_link": true
    },
    "kernelspec": {
      "display_name": "Python 3",
      "name": "python3"
    }
  },
  "cells": [
    {
      "cell_type": "markdown",
      "metadata": {
        "id": "view-in-github",
        "colab_type": "text"
      },
      "source": [
        "<a href=\"https://colab.research.google.com/github/unt-iialab/medical-concept-normalization/blob/master/medical-concept-normalization/fine-tuning-experiments/askpatient/twadr_30percent_mixed_pubmed_bigtweet_twadr.ipynb\" target=\"_parent\"><img src=\"https://colab.research.google.com/assets/colab-badge.svg\" alt=\"Open In Colab\"/></a>"
      ]
    },
    {
      "cell_type": "code",
      "metadata": {
        "id": "adSi6i2-dWxy"
      },
      "source": [
        "import os"
      ],
      "execution_count": 1,
      "outputs": []
    },
    {
      "cell_type": "code",
      "metadata": {
        "id": "E7xYCRGPjd9B"
      },
      "source": [
        "base_dir = 'medical-concept-normalization'"
      ],
      "execution_count": 2,
      "outputs": []
    },
    {
      "cell_type": "code",
      "metadata": {
        "id": "yvIW3aUDjYNS"
      },
      "source": [
        "os.mkdir(base_dir)"
      ],
      "execution_count": 3,
      "outputs": []
    },
    {
      "cell_type": "code",
      "metadata": {
        "id": "es-FFLlfk6SG"
      },
      "source": [
        "os.mkdir('medical-concept-normalization/data_collection')"
      ],
      "execution_count": 4,
      "outputs": []
    },
    {
      "cell_type": "markdown",
      "metadata": {
        "id": "0R-Guw_VoJXm"
      },
      "source": [
        "**Install fastai and clone the fastai for text classification**\n",
        "\n"
      ]
    },
    {
      "cell_type": "code",
      "metadata": {
        "id": "QVZa3Z0PmHFH",
        "outputId": "6b0be608-6030-44e7-d40b-10afaad81a8f",
        "colab": {
          "base_uri": "https://localhost:8080/",
          "height": 68
        }
      },
      "source": [
        "!curl https://course-v3.fast.ai/setup/colab | bash"
      ],
      "execution_count": 5,
      "outputs": [
        {
          "output_type": "stream",
          "text": [
            "  % Total    % Received % Xferd  Average Speed   Time    Time     Time  Current\n",
            "                                 Dload  Upload   Total   Spent    Left  Speed\n",
            "\r  0     0    0     0    0     0      0      0 --:--:-- --:--:-- --:--:--     0curl: (6) Could not resolve host: course-v3.fast.ai\n"
          ],
          "name": "stdout"
        }
      ]
    },
    {
      "cell_type": "code",
      "metadata": {
        "id": "_FBFFEBrmJC0",
        "outputId": "33d7c2ad-0224-423a-de68-863715bf5b5b",
        "colab": {
          "base_uri": "https://localhost:8080/",
          "height": 85
        }
      },
      "source": [
        "!git clone https://github.com/wshuyi/demo-nlp-classification-fastai.git"
      ],
      "execution_count": 6,
      "outputs": [
        {
          "output_type": "stream",
          "text": [
            "Cloning into 'demo-nlp-classification-fastai'...\n",
            "remote: Enumerating objects: 9, done.\u001b[K\n",
            "remote: Total 9 (delta 0), reused 0 (delta 0), pack-reused 9\u001b[K\n",
            "Unpacking objects: 100% (9/9), done.\n"
          ],
          "name": "stdout"
        }
      ]
    },
    {
      "cell_type": "code",
      "metadata": {
        "id": "66zfh_JqmWMU"
      },
      "source": [
        "from fastai import *\n",
        "from fastai.text import *"
      ],
      "execution_count": 7,
      "outputs": []
    },
    {
      "cell_type": "markdown",
      "metadata": {
        "id": "mNIw-yALdBU9"
      },
      "source": [
        "**Set the path of the data collections**"
      ]
    },
    {
      "cell_type": "code",
      "metadata": {
        "id": "pzH7VMh4mqCL"
      },
      "source": [
        "path = Path('medical-concept-normalization/data_collection')"
      ],
      "execution_count": 8,
      "outputs": []
    },
    {
      "cell_type": "code",
      "metadata": {
        "id": "b8fjI6yyn4aS"
      },
      "source": [
        "# training data set\n",
        "\n",
        "train_csv = path/'tward_training_folder_0.csv'\n",
        "train = pd.read_csv(train_csv, header=None)\n",
        "#train.head()\n",
        "#train.info()"
      ],
      "execution_count": 10,
      "outputs": []
    },
    {
      "cell_type": "code",
      "metadata": {
        "id": "Hmlr-bAorfHd",
        "outputId": "2e5d40c8-3d58-43be-9e64-994bfd232d2e",
        "colab": {
          "base_uri": "https://localhost:8080/",
          "height": 204
        }
      },
      "source": [
        "# validating data set\n",
        "\n",
        "valid = pd.read_csv(path/\"tward_validation_folder_0.csv\",header=None)\n",
        "valid.head()\n"
      ],
      "execution_count": 11,
      "outputs": [
        {
          "output_type": "execute_result",
          "data": {
            "text/html": [
              "<div>\n",
              "<style scoped>\n",
              "    .dataframe tbody tr th:only-of-type {\n",
              "        vertical-align: middle;\n",
              "    }\n",
              "\n",
              "    .dataframe tbody tr th {\n",
              "        vertical-align: top;\n",
              "    }\n",
              "\n",
              "    .dataframe thead th {\n",
              "        text-align: right;\n",
              "    }\n",
              "</style>\n",
              "<table border=\"1\" class=\"dataframe\">\n",
              "  <thead>\n",
              "    <tr style=\"text-align: right;\">\n",
              "      <th></th>\n",
              "      <th>0</th>\n",
              "      <th>1</th>\n",
              "    </tr>\n",
              "  </thead>\n",
              "  <tbody>\n",
              "    <tr>\n",
              "      <th>0</th>\n",
              "      <td>1811</td>\n",
              "      <td>cant shut up for the whole day</td>\n",
              "    </tr>\n",
              "    <tr>\n",
              "      <th>1</th>\n",
              "      <td>903</td>\n",
              "      <td>angry</td>\n",
              "    </tr>\n",
              "    <tr>\n",
              "      <th>2</th>\n",
              "      <td>1576</td>\n",
              "      <td>got me to the ceiling</td>\n",
              "    </tr>\n",
              "    <tr>\n",
              "      <th>3</th>\n",
              "      <td>2201</td>\n",
              "      <td>anxiety</td>\n",
              "    </tr>\n",
              "    <tr>\n",
              "      <th>4</th>\n",
              "      <td>416</td>\n",
              "      <td>tingling</td>\n",
              "    </tr>\n",
              "  </tbody>\n",
              "</table>\n",
              "</div>"
            ],
            "text/plain": [
              "      0                               1\n",
              "0  1811  cant shut up for the whole day\n",
              "1   903                           angry\n",
              "2  1576           got me to the ceiling\n",
              "3  2201                         anxiety\n",
              "4   416                        tingling"
            ]
          },
          "metadata": {
            "tags": []
          },
          "execution_count": 11
        }
      ]
    },
    {
      "cell_type": "code",
      "metadata": {
        "id": "cOza9dfSsBud",
        "outputId": "6c041d32-a42a-41fa-d85b-22155a425767",
        "colab": {
          "base_uri": "https://localhost:8080/",
          "height": 204
        }
      },
      "source": [
        "# testing data set\n",
        "\n",
        "test = pd.read_csv(path/\"tward_testing_overlap_30.csv\",header=None)\n",
        "test.head()"
      ],
      "execution_count": 12,
      "outputs": [
        {
          "output_type": "execute_result",
          "data": {
            "text/html": [
              "<div>\n",
              "<style scoped>\n",
              "    .dataframe tbody tr th:only-of-type {\n",
              "        vertical-align: middle;\n",
              "    }\n",
              "\n",
              "    .dataframe tbody tr th {\n",
              "        vertical-align: top;\n",
              "    }\n",
              "\n",
              "    .dataframe thead th {\n",
              "        text-align: right;\n",
              "    }\n",
              "</style>\n",
              "<table border=\"1\" class=\"dataframe\">\n",
              "  <thead>\n",
              "    <tr style=\"text-align: right;\">\n",
              "      <th></th>\n",
              "      <th>0</th>\n",
              "      <th>1</th>\n",
              "    </tr>\n",
              "  </thead>\n",
              "  <tbody>\n",
              "    <tr>\n",
              "      <th>0</th>\n",
              "      <td>1576</td>\n",
              "      <td>still not tired</td>\n",
              "    </tr>\n",
              "    <tr>\n",
              "      <th>1</th>\n",
              "      <td>2099</td>\n",
              "      <td>can't remember the last time i slept</td>\n",
              "    </tr>\n",
              "    <tr>\n",
              "      <th>2</th>\n",
              "      <td>1698</td>\n",
              "      <td>i feel like</td>\n",
              "    </tr>\n",
              "    <tr>\n",
              "      <th>3</th>\n",
              "      <td>1811</td>\n",
              "      <td>wired</td>\n",
              "    </tr>\n",
              "    <tr>\n",
              "      <th>4</th>\n",
              "      <td>476</td>\n",
              "      <td>still procrastinating</td>\n",
              "    </tr>\n",
              "  </tbody>\n",
              "</table>\n",
              "</div>"
            ],
            "text/plain": [
              "      0                                     1\n",
              "0  1576                       still not tired\n",
              "1  2099  can't remember the last time i slept\n",
              "2  1698                           i feel like\n",
              "3  1811                                 wired\n",
              "4   476                 still procrastinating"
            ]
          },
          "metadata": {
            "tags": []
          },
          "execution_count": 12
        }
      ]
    },
    {
      "cell_type": "code",
      "metadata": {
        "id": "Vo-YNvVYoaH6",
        "outputId": "5860c2a7-f601-4640-a4bf-91a015db3173",
        "colab": {
          "base_uri": "https://localhost:8080/",
          "height": 17
        }
      },
      "source": [
        "# Creating DataBunch for language modelling\n",
        "\n",
        "data_lm = TextLMDataBunch.from_csv(path, 'mixed_pubmed_bigtweet_twadr.csv')"
      ],
      "execution_count": 13,
      "outputs": [
        {
          "output_type": "display_data",
          "data": {
            "text/html": [
              ""
            ],
            "text/plain": [
              "<IPython.core.display.HTML object>"
            ]
          },
          "metadata": {
            "tags": []
          }
        },
        {
          "output_type": "display_data",
          "data": {
            "text/html": [
              ""
            ],
            "text/plain": [
              "<IPython.core.display.HTML object>"
            ]
          },
          "metadata": {
            "tags": []
          }
        }
      ]
    },
    {
      "cell_type": "code",
      "metadata": {
        "id": "qcV-9kMnNLBf"
      },
      "source": [
        ""
      ],
      "execution_count": 13,
      "outputs": []
    },
    {
      "cell_type": "code",
      "metadata": {
        "id": "1ScY9afDsnvE"
      },
      "source": [
        "# Creating DataBunch for classification\n",
        "\n",
        "# data_clas = TextClasDataBunch.from_df(path, train, valid, test, vocab=data_lm.train_ds.vocab, bs=128)"
      ],
      "execution_count": 14,
      "outputs": []
    },
    {
      "cell_type": "code",
      "metadata": {
        "id": "gzrSdQcvey9p",
        "outputId": "860fd8e1-c7a4-4faf-e040-cd7eda573307",
        "colab": {
          "base_uri": "https://localhost:8080/",
          "height": 17
        }
      },
      "source": [
        "data_clas = TextClasDataBunch.from_df(path, train, valid, vocab=data_lm.train_ds.vocab, bs=128)"
      ],
      "execution_count": 15,
      "outputs": [
        {
          "output_type": "display_data",
          "data": {
            "text/html": [
              ""
            ],
            "text/plain": [
              "<IPython.core.display.HTML object>"
            ]
          },
          "metadata": {
            "tags": []
          }
        },
        {
          "output_type": "display_data",
          "data": {
            "text/html": [
              ""
            ],
            "text/plain": [
              "<IPython.core.display.HTML object>"
            ]
          },
          "metadata": {
            "tags": []
          }
        }
      ]
    },
    {
      "cell_type": "code",
      "metadata": {
        "id": "MD27Tf0Ke3ou",
        "outputId": "3324fe38-68e5-4ef3-e602-be0d991836cb",
        "colab": {
          "base_uri": "https://localhost:8080/",
          "height": 17
        }
      },
      "source": [
        "data_clas.add_test(test,label=0)\n"
      ],
      "execution_count": 16,
      "outputs": [
        {
          "output_type": "display_data",
          "data": {
            "text/html": [
              ""
            ],
            "text/plain": [
              "<IPython.core.display.HTML object>"
            ]
          },
          "metadata": {
            "tags": []
          }
        }
      ]
    },
    {
      "cell_type": "code",
      "metadata": {
        "id": "-dpjnk_rstwk"
      },
      "source": [
        "data_lm.save()\n",
        "data_clas.save()"
      ],
      "execution_count": 17,
      "outputs": []
    },
    {
      "cell_type": "code",
      "metadata": {
        "id": "4OkiJa36sw5s",
        "outputId": "9a5c733e-4383-4eae-9eaa-0bca641cc232",
        "colab": {
          "base_uri": "https://localhost:8080/",
          "height": 1000
        }
      },
      "source": [
        "data_lm.train_ds.vocab.itos"
      ],
      "execution_count": 18,
      "outputs": [
        {
          "output_type": "execute_result",
          "data": {
            "text/plain": [
              "['xxunk',\n",
              " 'xxpad',\n",
              " 'xxbos',\n",
              " 'xxeos',\n",
              " 'xxfld',\n",
              " 'xxmaj',\n",
              " 'xxup',\n",
              " 'xxrep',\n",
              " 'xxwrep',\n",
              " 'the',\n",
              " 'of',\n",
              " 'and',\n",
              " 'in',\n",
              " 'to',\n",
              " 'a',\n",
              " 'for',\n",
              " 'with',\n",
              " 'was',\n",
              " 'diclofenac',\n",
              " 'were',\n",
              " 'on',\n",
              " 'is',\n",
              " 'rt',\n",
              " 'pain',\n",
              " 'by',\n",
              " 'sodium',\n",
              " 'drug',\n",
              " 'that',\n",
              " 'as',\n",
              " 'i',\n",
              " 'at',\n",
              " 'or',\n",
              " 'patients',\n",
              " 'from',\n",
              " 'this',\n",
              " 'you',\n",
              " 'disease',\n",
              " 'be',\n",
              " 'increased',\n",
              " 'mg',\n",
              " 'my',\n",
              " 'group',\n",
              " 'study',\n",
              " 'mood',\n",
              " 'are',\n",
              " 'not',\n",
              " 'treatment',\n",
              " 'it',\n",
              " 'an',\n",
              " 'after',\n",
              " 'me',\n",
              " 'have',\n",
              " 'amp',\n",
              " 'p',\n",
              " 'release',\n",
              " 'gluten',\n",
              " ',',\n",
              " 'disorder',\n",
              " 'all',\n",
              " 'effect',\n",
              " 'free',\n",
              " 'abnormal',\n",
              " 'we',\n",
              " 'withdrawal',\n",
              " 'than',\n",
              " 'no',\n",
              " 'symptoms',\n",
              " 'weight',\n",
              " 'your',\n",
              " 'new',\n",
              " 'compared',\n",
              " 'decreased',\n",
              " 'anxiety',\n",
              " 'out',\n",
              " 'more',\n",
              " 'using',\n",
              " 'time',\n",
              " 'effects',\n",
              " 'groups',\n",
              " 'day',\n",
              " 'up',\n",
              " 'two',\n",
              " 'our',\n",
              " 'about',\n",
              " 'both',\n",
              " 'blood',\n",
              " 'inflammatory',\n",
              " 'its',\n",
              " 'drugs',\n",
              " 'significantly',\n",
              " 'between',\n",
              " 'h',\n",
              " 'like',\n",
              " 'potassium',\n",
              " 'acute',\n",
              " 'had',\n",
              " 'these',\n",
              " 'significant',\n",
              " 'but',\n",
              " 'can',\n",
              " 'use',\n",
              " 'anti',\n",
              " 'disorders',\n",
              " 'skin',\n",
              " 'which',\n",
              " 'has',\n",
              " 'syndrome',\n",
              " 'also',\n",
              " 'do',\n",
              " 'used',\n",
              " 'results',\n",
              " 'behavior',\n",
              " 'dose',\n",
              " 'voltaren',\n",
              " '(',\n",
              " ')',\n",
              " 'what',\n",
              " 'sleeplessness',\n",
              " '-',\n",
              " 'days',\n",
              " 's',\n",
              " 'placebo',\n",
              " 'glutenfree',\n",
              " 'nt',\n",
              " 'diseases',\n",
              " 'efficacy',\n",
              " 'one',\n",
              " 'may',\n",
              " 'celiac',\n",
              " 'concentration',\n",
              " 'there',\n",
              " 'ds',\n",
              " 'm',\n",
              " 'feeling',\n",
              " 'oral',\n",
              " 'now',\n",
              " 'treated',\n",
              " 'when',\n",
              " 'ml',\n",
              " 'showed',\n",
              " 'different',\n",
              " 'w',\n",
              " 'been',\n",
              " 'test',\n",
              " 'finding',\n",
              " 'got',\n",
              " 'food',\n",
              " 'administration',\n",
              " 'disturbance',\n",
              " 'non',\n",
              " 'topical',\n",
              " 'insomnia',\n",
              " 'products',\n",
              " 'somnolence',\n",
              " 'high',\n",
              " 'so',\n",
              " 'energy',\n",
              " 'sleep',\n",
              " 'rats',\n",
              " 'their',\n",
              " 'hours',\n",
              " 'other',\n",
              " 'acid',\n",
              " 'into',\n",
              " 'via',\n",
              " 'right',\n",
              " 'control',\n",
              " 'studies',\n",
              " 'if',\n",
              " 'induced',\n",
              " 'well',\n",
              " 'could',\n",
              " 'respectively',\n",
              " 'how',\n",
              " 'mean',\n",
              " 'clinical',\n",
              " 'c',\n",
              " 'post',\n",
              " 'during',\n",
              " 'mental',\n",
              " 'found',\n",
              " 'over',\n",
              " 'state',\n",
              " 'did',\n",
              " 'gain',\n",
              " 'ph',\n",
              " 'body',\n",
              " 'swelling',\n",
              " 'who',\n",
              " 'first',\n",
              " 'rate',\n",
              " 'formulation',\n",
              " 'plasma',\n",
              " 'review',\n",
              " 'method',\n",
              " 'nausea',\n",
              " 'nsaids',\n",
              " 'appetite',\n",
              " 'muscle',\n",
              " 'tablets',\n",
              " 'feel',\n",
              " 'diet',\n",
              " 'depression',\n",
              " 'formulations',\n",
              " 'low',\n",
              " 'observed',\n",
              " 'n',\n",
              " 'solution',\n",
              " 'those',\n",
              " 'gel',\n",
              " 'd',\n",
              " 'tip',\n",
              " 'three',\n",
              " 'effective',\n",
              " 'heart',\n",
              " 'g',\n",
              " 'received',\n",
              " 'week',\n",
              " 'controlled',\n",
              " 'only',\n",
              " 'kg',\n",
              " 'lower',\n",
              " 'conditions',\n",
              " 'cell',\n",
              " 'excitability',\n",
              " 'data',\n",
              " 'renal',\n",
              " 'attention',\n",
              " 'awake',\n",
              " 'irritable',\n",
              " 'activity',\n",
              " 'vitro',\n",
              " 'analgesic',\n",
              " 'each',\n",
              " 'period',\n",
              " 'system',\n",
              " 'feelings',\n",
              " 'analysis',\n",
              " 'reaction',\n",
              " 'less',\n",
              " 'get',\n",
              " 'drowsiness',\n",
              " 'total',\n",
              " 'adverse',\n",
              " 'single',\n",
              " 'serum',\n",
              " 'eye',\n",
              " 'level',\n",
              " 'gastrointestinal',\n",
              " 'hyperactive',\n",
              " 'levels',\n",
              " 'atorvastatin',\n",
              " 'dizziness',\n",
              " 'liver',\n",
              " 'daily',\n",
              " 'why',\n",
              " 'ceiling',\n",
              " 'ca',\n",
              " 'weeks',\n",
              " 'following',\n",
              " 'patient',\n",
              " 'however',\n",
              " 'most',\n",
              " 'panic',\n",
              " 'concentrations',\n",
              " 'dblclick',\n",
              " 'site',\n",
              " 'good',\n",
              " 'pic',\n",
              " 'function',\n",
              " 'randomized',\n",
              " 'application',\n",
              " 'evaluated',\n",
              " 'some',\n",
              " 'joint',\n",
              " 'before',\n",
              " 't',\n",
              " 'will',\n",
              " 'model',\n",
              " 'increase',\n",
              " 'allergic',\n",
              " 'here',\n",
              " 'headache',\n",
              " 'need',\n",
              " 'tablet',\n",
              " 'double',\n",
              " 'any',\n",
              " 'they',\n",
              " 'loss',\n",
              " 'postoperative',\n",
              " 'dissolution',\n",
              " 'similar',\n",
              " 'surgery',\n",
              " 'obtained',\n",
              " 'check',\n",
              " 'difference',\n",
              " 'rash',\n",
              " 'healthy',\n",
              " 'life',\n",
              " 'l',\n",
              " 'higher',\n",
              " 'water',\n",
              " 'reduced',\n",
              " 'depressed',\n",
              " 'inflammation',\n",
              " 'infection',\n",
              " 'under',\n",
              " 'b',\n",
              " 'chronic',\n",
              " 'change',\n",
              " 'relief',\n",
              " 'cells',\n",
              " 'years',\n",
              " 'changes',\n",
              " 'present',\n",
              " 'edema',\n",
              " 'nsaid',\n",
              " 'make',\n",
              " 'therapy',\n",
              " 'brain',\n",
              " 'associated',\n",
              " 'injection',\n",
              " 'know',\n",
              " 'swings',\n",
              " 'based',\n",
              " 'migraine',\n",
              " 'just',\n",
              " 'bone',\n",
              " 'love',\n",
              " 'bipolar',\n",
              " 'wakefulness',\n",
              " 'response',\n",
              " 'initial',\n",
              " 'arthritis',\n",
              " 'injury',\n",
              " 'pressure',\n",
              " 'vs',\n",
              " 'should',\n",
              " 'gastric',\n",
              " 'visual',\n",
              " 'order',\n",
              " 'combination',\n",
              " 'doses',\n",
              " 'help',\n",
              " 'due',\n",
              " 'does',\n",
              " 'min',\n",
              " 'differences',\n",
              " 'great',\n",
              " '#',\n",
              " 'while',\n",
              " 'administered',\n",
              " 'being',\n",
              " 'cholesterol',\n",
              " 'better',\n",
              " 'corneal',\n",
              " 'eating',\n",
              " 'reported',\n",
              " \"n't\",\n",
              " 'trial',\n",
              " 'studied',\n",
              " 'prepared',\n",
              " 'fatigue',\n",
              " 'such',\n",
              " 'given',\n",
              " 'type',\n",
              " 'values',\n",
              " 'posted',\n",
              " 'through',\n",
              " 'performed',\n",
              " 'ratio',\n",
              " 'blind',\n",
              " 'subjects',\n",
              " 'four',\n",
              " 'side',\n",
              " 'respiratory',\n",
              " 'eat',\n",
              " 'breast',\n",
              " 'properties',\n",
              " 'thanks',\n",
              " 'us',\n",
              " 'gfb',\n",
              " 'nonsteroidal',\n",
              " 'events',\n",
              " 'absorption',\n",
              " 'tissue',\n",
              " 'within',\n",
              " 'developed',\n",
              " 'attacks',\n",
              " 're',\n",
              " 'v',\n",
              " 'assessed',\n",
              " 'x',\n",
              " 'still',\n",
              " 'investigated',\n",
              " 'either',\n",
              " 'intolerance',\n",
              " 'abdominal',\n",
              " 'very',\n",
              " 'same',\n",
              " 'phase',\n",
              " 'minutes',\n",
              " 'without',\n",
              " 'dreams',\n",
              " 'knee',\n",
              " 'risk',\n",
              " 'makes',\n",
              " 'decrease',\n",
              " 'containing',\n",
              " '30',\n",
              " 'people',\n",
              " 'tremor',\n",
              " 'delivery',\n",
              " 'mm',\n",
              " 'parameters',\n",
              " 'safety',\n",
              " 'urine',\n",
              " 'auc',\n",
              " 'measured',\n",
              " 'taste',\n",
              " 'steroidal',\n",
              " 'death',\n",
              " 'samples',\n",
              " 'recipe',\n",
              " 'action',\n",
              " 'night',\n",
              " 'attack',\n",
              " 'show',\n",
              " 'human',\n",
              " 'tired',\n",
              " 'dry',\n",
              " 'reduction',\n",
              " 'development',\n",
              " 'stiffness',\n",
              " 'number',\n",
              " 'going',\n",
              " 'active',\n",
              " 'included',\n",
              " 'determined',\n",
              " 'ng',\n",
              " 'related',\n",
              " 'statistically',\n",
              " 'indomethacin',\n",
              " 'best',\n",
              " 'applied',\n",
              " 'heres',\n",
              " 'medication',\n",
              " 'living',\n",
              " 'times',\n",
              " 'size',\n",
              " 'range',\n",
              " 'failure',\n",
              " 'vivo',\n",
              " 'hemorrhage',\n",
              " 'e',\n",
              " 'scale',\n",
              " 'potential',\n",
              " '2',\n",
              " 'rage',\n",
              " 'k',\n",
              " 'therapeutic',\n",
              " 'go',\n",
              " 'baseline',\n",
              " 'sustained',\n",
              " 'health',\n",
              " 'ulcer',\n",
              " 'compare',\n",
              " 'lipitor',\n",
              " 'sensitivity',\n",
              " 'primary',\n",
              " 'oa',\n",
              " 'stomach',\n",
              " 'available',\n",
              " 'year',\n",
              " 'carcinoma',\n",
              " 'damage',\n",
              " 'take',\n",
              " 'archives',\n",
              " 'greater',\n",
              " 'liquid',\n",
              " 'deficit',\n",
              " 'kidney',\n",
              " 'then',\n",
              " 'scores',\n",
              " 'eyes',\n",
              " 'bioavailability',\n",
              " 'evaluate',\n",
              " 'dependent',\n",
              " 'ii',\n",
              " 'osteoarthritis',\n",
              " 'much',\n",
              " 'way',\n",
              " 'form',\n",
              " 'discomfort',\n",
              " 'sleepy',\n",
              " 'cardiac',\n",
              " 'read',\n",
              " 'local',\n",
              " 'many',\n",
              " 'addition',\n",
              " 'back',\n",
              " 'because',\n",
              " 'tolerability',\n",
              " 'matrix',\n",
              " 'revealed',\n",
              " 'male',\n",
              " 'news',\n",
              " 'jennieo',\n",
              " 'area',\n",
              " 'normal',\n",
              " 'severe',\n",
              " 'made',\n",
              " 'tested',\n",
              " '\\r \\n ',\n",
              " 'down',\n",
              " 'today',\n",
              " 'na',\n",
              " 'tips',\n",
              " '1',\n",
              " 'think',\n",
              " 'psychotic',\n",
              " 'wide',\n",
              " 'infections',\n",
              " 'demonstrated',\n",
              " 'long',\n",
              " 'process',\n",
              " 'multiple',\n",
              " 'numbness',\n",
              " 'treatments',\n",
              " 'dermatitis',\n",
              " 'important',\n",
              " 'even',\n",
              " 'secondary',\n",
              " 'vomiting',\n",
              " 'coated',\n",
              " 'suggest',\n",
              " 'aim',\n",
              " 'hour',\n",
              " 'pulmonary',\n",
              " 'cox',\n",
              " 'improvement',\n",
              " 'safe',\n",
              " 'per',\n",
              " 'aqueous',\n",
              " 'daytime',\n",
              " 'super',\n",
              " 'further',\n",
              " 'alone',\n",
              " 'protein',\n",
              " 'volunteers',\n",
              " 'middle',\n",
              " 'growth',\n",
              " 'randomly',\n",
              " 'trials',\n",
              " 'intensity',\n",
              " 'allergy',\n",
              " 'inhibition',\n",
              " 'difficulty',\n",
              " 'tolerated',\n",
              " 'months',\n",
              " 'sensation',\n",
              " 'cerebral',\n",
              " 'end',\n",
              " 'temperature',\n",
              " 'agent',\n",
              " 'distress',\n",
              " 'case',\n",
              " 'quality',\n",
              " 'caused',\n",
              " 'polymer',\n",
              " 'elevated',\n",
              " 'pizza',\n",
              " 'aggravated',\n",
              " 'article',\n",
              " 'dependence',\n",
              " 'formation',\n",
              " 'hallucinations',\n",
              " 'sweating',\n",
              " 'dosage',\n",
              " 'indicated',\n",
              " '10',\n",
              " 'diagnosis',\n",
              " 'cd',\n",
              " 'inhibitor',\n",
              " 'followed',\n",
              " 'zombie',\n",
              " 'painful',\n",
              " 'age',\n",
              " 'follow',\n",
              " 'mice',\n",
              " 'want',\n",
              " 'f',\n",
              " 'presence',\n",
              " 'alcohol',\n",
              " 'pre',\n",
              " 'whereas',\n",
              " 'early',\n",
              " 'systemic',\n",
              " 'shown',\n",
              " 'irritation',\n",
              " 'common',\n",
              " 'provide',\n",
              " '5',\n",
              " 'among',\n",
              " 'sleepiness',\n",
              " 'every',\n",
              " 'hypertension',\n",
              " 'term',\n",
              " 'standard',\n",
              " 'experimental',\n",
              " 'product',\n",
              " 'determine',\n",
              " 'pharmaceutical',\n",
              " 'score',\n",
              " 'care',\n",
              " 'th',\n",
              " \"'m\",\n",
              " 'mechanism',\n",
              " 'intestinal',\n",
              " 'female',\n",
              " 'old',\n",
              " 'chicken',\n",
              " 'various',\n",
              " 'conducted',\n",
              " 'permeation',\n",
              " 'cancer',\n",
              " 'prolonged',\n",
              " 'share',\n",
              " 'onset',\n",
              " 'big',\n",
              " 'part',\n",
              " 'content',\n",
              " 'exposure',\n",
              " 'six',\n",
              " 'dysfunction',\n",
              " 'agents',\n",
              " 'relative',\n",
              " 'peak',\n",
              " 'anemia',\n",
              " 'de',\n",
              " 'work',\n",
              " 'cause',\n",
              " 'cm',\n",
              " 'including',\n",
              " 'versus',\n",
              " 'social',\n",
              " 'divided',\n",
              " 'affect',\n",
              " 'animals',\n",
              " 'fluid',\n",
              " 'complete',\n",
              " 'find',\n",
              " 'rheumatoid',\n",
              " 'rat',\n",
              " 'cross',\n",
              " 'complex',\n",
              " 'although',\n",
              " 'produced',\n",
              " 'diagnosed',\n",
              " 'disturbances',\n",
              " 'month',\n",
              " 'please',\n",
              " 'amount',\n",
              " 'u',\n",
              " 'depressive',\n",
              " 'awareness',\n",
              " 'blog',\n",
              " 'profiles',\n",
              " 'suicidal',\n",
              " 'anger',\n",
              " 'hepatic',\n",
              " 'exhaustion',\n",
              " 'localised',\n",
              " 'facial',\n",
              " 'ocular',\n",
              " 'ibuprofen',\n",
              " 'calcium',\n",
              " 'research',\n",
              " 'profile',\n",
              " 'vehicle',\n",
              " 'resulted',\n",
              " 'surface',\n",
              " 'cmax',\n",
              " 'r',\n",
              " 'rapid',\n",
              " 'improved',\n",
              " 'according',\n",
              " 'solid',\n",
              " 'flow',\n",
              " 'o',\n",
              " 'pharmacokinetic',\n",
              " 'least',\n",
              " 'microspheres',\n",
              " 'evaluation',\n",
              " 'am',\n",
              " 'happy',\n",
              " '\\r \\n \\r \\n ',\n",
              " 'five',\n",
              " 'vas',\n",
              " '4',\n",
              " 'too',\n",
              " 'off',\n",
              " 'cataract',\n",
              " 'combined',\n",
              " 'cases',\n",
              " 'result',\n",
              " 'asleep',\n",
              " 'necrosis',\n",
              " 'linked',\n",
              " 'chest',\n",
              " 'interactions',\n",
              " 'density',\n",
              " 'analgesia',\n",
              " 'nightmares',\n",
              " 'glucose',\n",
              " 'moderate',\n",
              " 'duration',\n",
              " 'participants',\n",
              " 'where',\n",
              " 'would',\n",
              " 'urinary',\n",
              " 'preparation',\n",
              " 'erythema',\n",
              " 'vision',\n",
              " 'commercial',\n",
              " 'tests',\n",
              " 'emotional',\n",
              " 'arrest',\n",
              " 'diabetes',\n",
              " 'synthesis',\n",
              " 'third',\n",
              " 'evidence',\n",
              " 'possible',\n",
              " 'enteric',\n",
              " 'efficiency',\n",
              " 'foot',\n",
              " 'rofecoxib',\n",
              " 'sensitive',\n",
              " 'creatinine',\n",
              " 'overall',\n",
              " 'lesions',\n",
              " 'diabetic',\n",
              " 'tooth',\n",
              " 'tract',\n",
              " 'assessment',\n",
              " 'membrane',\n",
              " 'might',\n",
              " 'cookbook',\n",
              " 'reference',\n",
              " 'ever',\n",
              " 'seizures',\n",
              " 'volume',\n",
              " 'investigate',\n",
              " 'simple',\n",
              " 'vascular',\n",
              " 'models',\n",
              " 'bad',\n",
              " 'dr',\n",
              " 'bite',\n",
              " 'misoprostol',\n",
              " 'impairment',\n",
              " 'naproxen',\n",
              " 'pruritus',\n",
              " 'taking',\n",
              " 'nervous',\n",
              " 'peripheral',\n",
              " 'last',\n",
              " 'production',\n",
              " 'enzyme',\n",
              " 'patch',\n",
              " 'once',\n",
              " 'spasm',\n",
              " 'plus',\n",
              " 'comparison',\n",
              " 'oedema',\n",
              " 'medium',\n",
              " 'considered',\n",
              " 'second',\n",
              " 'ventricular',\n",
              " 'carried',\n",
              " 'inhibited',\n",
              " 'achieved',\n",
              " 'expression',\n",
              " 'ci',\n",
              " 'pellets',\n",
              " 'physical',\n",
              " 'beads',\n",
              " 'cold',\n",
              " 'dizzy',\n",
              " 'count',\n",
              " 'face',\n",
              " 'technique',\n",
              " 'positive',\n",
              " 'lung',\n",
              " 'against',\n",
              " 'performance',\n",
              " 'outcome',\n",
              " 'recorded',\n",
              " 'extent',\n",
              " 'current',\n",
              " 'neoplasm',\n",
              " 'small',\n",
              " 'episode',\n",
              " 'aspirin',\n",
              " 'fever',\n",
              " 'toxicity',\n",
              " 'determination',\n",
              " 'uterine',\n",
              " 'compulsive',\n",
              " 'ache',\n",
              " 'mild',\n",
              " 'global',\n",
              " 'prostaglandin',\n",
              " 'maximum',\n",
              " 'stress',\n",
              " 'getting',\n",
              " 'upper',\n",
              " 'microg',\n",
              " 'characterized',\n",
              " 'findings',\n",
              " 'medical',\n",
              " 'see',\n",
              " 'influence',\n",
              " 'examined',\n",
              " 'depersonalization',\n",
              " 'needed',\n",
              " 'drops',\n",
              " 'next',\n",
              " 'injuries',\n",
              " 'open',\n",
              " 'provided',\n",
              " 'easy',\n",
              " 'major',\n",
              " 'degrees',\n",
              " 'friends',\n",
              " 'autographed',\n",
              " 'phosphate',\n",
              " 'rates',\n",
              " 'alternative',\n",
              " 'making',\n",
              " 'crazy',\n",
              " 'memory',\n",
              " 'indicate',\n",
              " 'since',\n",
              " 'fear',\n",
              " 'gf',\n",
              " 'vivid',\n",
              " 'novel',\n",
              " 'degree',\n",
              " 'women',\n",
              " 'tolerance',\n",
              " 'co',\n",
              " 'shoulder',\n",
              " 'soup',\n",
              " 'interaction',\n",
              " 'detection',\n",
              " 'specific',\n",
              " 'methods',\n",
              " 'children',\n",
              " 'issues',\n",
              " 'wheat',\n",
              " 'diffusion',\n",
              " 'looking',\n",
              " 'delicious',\n",
              " 'tissues',\n",
              " 'design',\n",
              " 'abuse',\n",
              " 'alpha',\n",
              " 'hplc',\n",
              " 'beta',\n",
              " 'asthma',\n",
              " '2014',\n",
              " 'always',\n",
              " 'try',\n",
              " 'thus',\n",
              " 'lesion',\n",
              " 'cream',\n",
              " 'flare',\n",
              " 'intramuscular',\n",
              " 'loaded',\n",
              " 'story',\n",
              " 'incidence',\n",
              " 'hip',\n",
              " 'clinically',\n",
              " 'terms',\n",
              " 'highly',\n",
              " 'saline',\n",
              " 'central',\n",
              " 'few',\n",
              " 'hurt',\n",
              " 'withdrawals',\n",
              " 'therefore',\n",
              " 'nm',\n",
              " 'cardiovascular',\n",
              " 'delayed',\n",
              " 'antiinflammatory',\n",
              " 'value',\n",
              " 'fracture',\n",
              " 'hunger',\n",
              " 'short',\n",
              " 'receiving',\n",
              " 'clearance',\n",
              " 'them',\n",
              " 'medications',\n",
              " 'hungry',\n",
              " 'responses',\n",
              " 'activities',\n",
              " 'buffer',\n",
              " 'mass',\n",
              " 'whether',\n",
              " '6',\n",
              " 'top',\n",
              " 'nauseous',\n",
              " 'whole',\n",
              " 'problems',\n",
              " 'localized',\n",
              " 'really',\n",
              " 'event',\n",
              " 'malignant',\n",
              " 'dic',\n",
              " 'twice',\n",
              " 'inhibitors',\n",
              " 'capsules',\n",
              " 'media',\n",
              " 'lack',\n",
              " 'general',\n",
              " 'characteristics',\n",
              " 'comparable',\n",
              " 'euphoric',\n",
              " 'preparations',\n",
              " 'gi',\n",
              " 'learn',\n",
              " 'examination',\n",
              " 'bread',\n",
              " 'additional',\n",
              " 'obsessive',\n",
              " 'thinking',\n",
              " 'others',\n",
              " 'cutaneous',\n",
              " 'fractures',\n",
              " 'analyzed',\n",
              " 'solubility',\n",
              " 'genital',\n",
              " 'sexual',\n",
              " 've',\n",
              " 'drowsy',\n",
              " 'steroid',\n",
              " 'support',\n",
              " 'released',\n",
              " 'partial',\n",
              " 'intoxication',\n",
              " 'bulimia',\n",
              " 'candidiasis',\n",
              " 'solutions',\n",
              " 'increasing',\n",
              " 'lipid',\n",
              " 'cambia',\n",
              " 'rabbits',\n",
              " 'transdermal',\n",
              " 'recipes',\n",
              " 'salt',\n",
              " 'index',\n",
              " 'paracetamol',\n",
              " 'dpsgc',\n",
              " 'assess',\n",
              " 'market',\n",
              " 'adderall',\n",
              " 'il',\n",
              " 'absence',\n",
              " 'artery',\n",
              " 'forms',\n",
              " 'another',\n",
              " 'known',\n",
              " 'ldl',\n",
              " 'his',\n",
              " 'crossover',\n",
              " 'able',\n",
              " 'chitosan',\n",
              " 'max',\n",
              " 'cramps',\n",
              " 'hp',\n",
              " 'impaired',\n",
              " 'consciousness',\n",
              " 'serious',\n",
              " 'lose',\n",
              " 'having',\n",
              " 'several',\n",
              " 'hepatitis',\n",
              " 'point',\n",
              " 'coronary',\n",
              " 'nasal',\n",
              " 'little',\n",
              " 'stability',\n",
              " 'superior',\n",
              " 'sick',\n",
              " 'enhanced',\n",
              " 'factors',\n",
              " 'nerve',\n",
              " 'exhibited',\n",
              " 'metabolism',\n",
              " ...]"
            ]
          },
          "metadata": {
            "tags": []
          },
          "execution_count": 18
        }
      ]
    },
    {
      "cell_type": "code",
      "metadata": {
        "id": "yPWr03mls3VT",
        "outputId": "4bd6cb4e-e74f-4329-f371-a7958f4d687b",
        "colab": {
          "base_uri": "https://localhost:8080/",
          "height": 17
        }
      },
      "source": [
        "model_path = path/'models'\n",
        "model_path.mkdir(exist_ok=True)\n",
        "url = 'http://files.fast.ai/models/wt103_v1/'\n",
        "download_url(f'{url}lstm_wt103.pth', model_path/'lstm_wt103.pth')\n",
        "download_url(f'{url}itos_wt103.pkl', model_path/'itos_wt103.pkl')"
      ],
      "execution_count": 19,
      "outputs": [
        {
          "output_type": "display_data",
          "data": {
            "text/html": [
              ""
            ],
            "text/plain": [
              "<IPython.core.display.HTML object>"
            ]
          },
          "metadata": {
            "tags": []
          }
        },
        {
          "output_type": "display_data",
          "data": {
            "text/html": [
              ""
            ],
            "text/plain": [
              "<IPython.core.display.HTML object>"
            ]
          },
          "metadata": {
            "tags": []
          }
        }
      ]
    },
    {
      "cell_type": "code",
      "metadata": {
        "id": "JRzvWg8RtGGr",
        "outputId": "26322188-17bc-480e-c3db-f62d63231cce",
        "colab": {
          "base_uri": "https://localhost:8080/",
          "height": 34
        }
      },
      "source": [
        "learn = language_model_learner(data_lm, AWD_LSTM, drop_mult=0.5)"
      ],
      "execution_count": 20,
      "outputs": [
        {
          "output_type": "stream",
          "text": [
            "Downloading https://s3.amazonaws.com/fast-ai-modelzoo/wt103-fwd.tgz\n"
          ],
          "name": "stdout"
        },
        {
          "output_type": "display_data",
          "data": {
            "text/html": [
              ""
            ],
            "text/plain": [
              "<IPython.core.display.HTML object>"
            ]
          },
          "metadata": {
            "tags": []
          }
        }
      ]
    },
    {
      "cell_type": "code",
      "metadata": {
        "id": "xKK7GeBev7Xn",
        "outputId": "ea0a64da-ed16-4302-82aa-26acb02e02a2",
        "colab": {
          "base_uri": "https://localhost:8080/",
          "height": 80
        }
      },
      "source": [
        "learn.fit_one_cycle(1, 1e-2)"
      ],
      "execution_count": 21,
      "outputs": [
        {
          "output_type": "display_data",
          "data": {
            "text/html": [
              "<table border=\"1\" class=\"dataframe\">\n",
              "  <thead>\n",
              "    <tr style=\"text-align: left;\">\n",
              "      <th>epoch</th>\n",
              "      <th>train_loss</th>\n",
              "      <th>valid_loss</th>\n",
              "      <th>accuracy</th>\n",
              "      <th>time</th>\n",
              "    </tr>\n",
              "  </thead>\n",
              "  <tbody>\n",
              "    <tr>\n",
              "      <td>0</td>\n",
              "      <td>4.731084</td>\n",
              "      <td>4.207147</td>\n",
              "      <td>0.342756</td>\n",
              "      <td>22:45</td>\n",
              "    </tr>\n",
              "  </tbody>\n",
              "</table>"
            ],
            "text/plain": [
              "<IPython.core.display.HTML object>"
            ]
          },
          "metadata": {
            "tags": []
          }
        }
      ]
    },
    {
      "cell_type": "code",
      "metadata": {
        "id": "iB7rHGQCwd12",
        "outputId": "9c3038f7-df0e-4b79-9446-02f46902806b",
        "colab": {
          "base_uri": "https://localhost:8080/",
          "height": 80
        }
      },
      "source": [
        "learn.fit_one_cycle(1, 1e-2)"
      ],
      "execution_count": 22,
      "outputs": [
        {
          "output_type": "display_data",
          "data": {
            "text/html": [
              "<table border=\"1\" class=\"dataframe\">\n",
              "  <thead>\n",
              "    <tr style=\"text-align: left;\">\n",
              "      <th>epoch</th>\n",
              "      <th>train_loss</th>\n",
              "      <th>valid_loss</th>\n",
              "      <th>accuracy</th>\n",
              "      <th>time</th>\n",
              "    </tr>\n",
              "  </thead>\n",
              "  <tbody>\n",
              "    <tr>\n",
              "      <td>0</td>\n",
              "      <td>4.003068</td>\n",
              "      <td>3.834535</td>\n",
              "      <td>0.379403</td>\n",
              "      <td>22:39</td>\n",
              "    </tr>\n",
              "  </tbody>\n",
              "</table>"
            ],
            "text/plain": [
              "<IPython.core.display.HTML object>"
            ]
          },
          "metadata": {
            "tags": []
          }
        }
      ]
    },
    {
      "cell_type": "code",
      "metadata": {
        "id": "_BnSuAeCwkBe",
        "outputId": "c6bd2b0d-88eb-49e2-cd8a-913b8e886b2f",
        "colab": {
          "base_uri": "https://localhost:8080/",
          "height": 80
        }
      },
      "source": [
        "learn.fit_one_cycle(1, 1e-3)"
      ],
      "execution_count": 23,
      "outputs": [
        {
          "output_type": "display_data",
          "data": {
            "text/html": [
              "<table border=\"1\" class=\"dataframe\">\n",
              "  <thead>\n",
              "    <tr style=\"text-align: left;\">\n",
              "      <th>epoch</th>\n",
              "      <th>train_loss</th>\n",
              "      <th>valid_loss</th>\n",
              "      <th>accuracy</th>\n",
              "      <th>time</th>\n",
              "    </tr>\n",
              "  </thead>\n",
              "  <tbody>\n",
              "    <tr>\n",
              "      <td>0</td>\n",
              "      <td>3.727252</td>\n",
              "      <td>3.789739</td>\n",
              "      <td>0.382731</td>\n",
              "      <td>22:44</td>\n",
              "    </tr>\n",
              "  </tbody>\n",
              "</table>"
            ],
            "text/plain": [
              "<IPython.core.display.HTML object>"
            ]
          },
          "metadata": {
            "tags": []
          }
        }
      ]
    },
    {
      "cell_type": "code",
      "metadata": {
        "id": "MuTm-RFjwrEX",
        "outputId": "15171653-33a8-4793-b3b7-8cbe0a992266",
        "colab": {
          "base_uri": "https://localhost:8080/",
          "height": 80
        }
      },
      "source": [
        "learn.fit_one_cycle(1, 1e-3)"
      ],
      "execution_count": 24,
      "outputs": [
        {
          "output_type": "display_data",
          "data": {
            "text/html": [
              "<table border=\"1\" class=\"dataframe\">\n",
              "  <thead>\n",
              "    <tr style=\"text-align: left;\">\n",
              "      <th>epoch</th>\n",
              "      <th>train_loss</th>\n",
              "      <th>valid_loss</th>\n",
              "      <th>accuracy</th>\n",
              "      <th>time</th>\n",
              "    </tr>\n",
              "  </thead>\n",
              "  <tbody>\n",
              "    <tr>\n",
              "      <td>0</td>\n",
              "      <td>3.678767</td>\n",
              "      <td>3.758499</td>\n",
              "      <td>0.386688</td>\n",
              "      <td>22:41</td>\n",
              "    </tr>\n",
              "  </tbody>\n",
              "</table>"
            ],
            "text/plain": [
              "<IPython.core.display.HTML object>"
            ]
          },
          "metadata": {
            "tags": []
          }
        }
      ]
    },
    {
      "cell_type": "code",
      "metadata": {
        "id": "1Er2ExO8wr7Y"
      },
      "source": [
        "learn.save_encoder('mixed_pubmed_bigtweet_twadr_fold30overlap_first')"
      ],
      "execution_count": 25,
      "outputs": []
    },
    {
      "cell_type": "code",
      "metadata": {
        "id": "z52cZs2qwvad",
        "outputId": "bf21827a-fac2-4af4-986a-afbc067e1ef2",
        "colab": {
          "base_uri": "https://localhost:8080/",
          "height": 80
        }
      },
      "source": [
        "learn = text_classifier_learner(data_clas,AWD_LSTM, drop_mult=0.5)\n",
        "learn.load_encoder('mixed_pubmed_bigtweet_twadr_fold30overlap_first')\n",
        "learn.fit_one_cycle(1, 1e-2)"
      ],
      "execution_count": 26,
      "outputs": [
        {
          "output_type": "display_data",
          "data": {
            "text/html": [
              "<table border=\"1\" class=\"dataframe\">\n",
              "  <thead>\n",
              "    <tr style=\"text-align: left;\">\n",
              "      <th>epoch</th>\n",
              "      <th>train_loss</th>\n",
              "      <th>valid_loss</th>\n",
              "      <th>accuracy</th>\n",
              "      <th>time</th>\n",
              "    </tr>\n",
              "  </thead>\n",
              "  <tbody>\n",
              "    <tr>\n",
              "      <td>0</td>\n",
              "      <td>7.152693</td>\n",
              "      <td>6.161470</td>\n",
              "      <td>0.147826</td>\n",
              "      <td>00:22</td>\n",
              "    </tr>\n",
              "  </tbody>\n",
              "</table>"
            ],
            "text/plain": [
              "<IPython.core.display.HTML object>"
            ]
          },
          "metadata": {
            "tags": []
          }
        }
      ]
    },
    {
      "cell_type": "code",
      "metadata": {
        "id": "ImwQP1PJwzxd",
        "outputId": "450ff1e2-73a9-4722-8793-8c71080eb610",
        "colab": {
          "base_uri": "https://localhost:8080/",
          "height": 80
        }
      },
      "source": [
        "learn.freeze_to(-2)\n",
        "learn.fit_one_cycle(1, slice(5e-3/2., 5e-3))"
      ],
      "execution_count": 27,
      "outputs": [
        {
          "output_type": "display_data",
          "data": {
            "text/html": [
              "<table border=\"1\" class=\"dataframe\">\n",
              "  <thead>\n",
              "    <tr style=\"text-align: left;\">\n",
              "      <th>epoch</th>\n",
              "      <th>train_loss</th>\n",
              "      <th>valid_loss</th>\n",
              "      <th>accuracy</th>\n",
              "      <th>time</th>\n",
              "    </tr>\n",
              "  </thead>\n",
              "  <tbody>\n",
              "    <tr>\n",
              "      <td>0</td>\n",
              "      <td>6.147120</td>\n",
              "      <td>5.014022</td>\n",
              "      <td>0.130435</td>\n",
              "      <td>00:25</td>\n",
              "    </tr>\n",
              "  </tbody>\n",
              "</table>"
            ],
            "text/plain": [
              "<IPython.core.display.HTML object>"
            ]
          },
          "metadata": {
            "tags": []
          }
        }
      ]
    },
    {
      "cell_type": "code",
      "metadata": {
        "id": "Owff_BJXw53u",
        "outputId": "d13cbca3-692f-4d84-c674-15b3dcd75886",
        "colab": {
          "base_uri": "https://localhost:8080/",
          "height": 80
        }
      },
      "source": [
        "learn.unfreeze()\n",
        "learn.fit_one_cycle(1, slice(2e-3/100, 2e-3))"
      ],
      "execution_count": 28,
      "outputs": [
        {
          "output_type": "display_data",
          "data": {
            "text/html": [
              "<table border=\"1\" class=\"dataframe\">\n",
              "  <thead>\n",
              "    <tr style=\"text-align: left;\">\n",
              "      <th>epoch</th>\n",
              "      <th>train_loss</th>\n",
              "      <th>valid_loss</th>\n",
              "      <th>accuracy</th>\n",
              "      <th>time</th>\n",
              "    </tr>\n",
              "  </thead>\n",
              "  <tbody>\n",
              "    <tr>\n",
              "      <td>0</td>\n",
              "      <td>5.691966</td>\n",
              "      <td>4.721329</td>\n",
              "      <td>0.165217</td>\n",
              "      <td>01:06</td>\n",
              "    </tr>\n",
              "  </tbody>\n",
              "</table>"
            ],
            "text/plain": [
              "<IPython.core.display.HTML object>"
            ]
          },
          "metadata": {
            "tags": []
          }
        }
      ]
    },
    {
      "cell_type": "code",
      "metadata": {
        "id": "lqAyu56V8Waq",
        "outputId": "247f7404-2b4d-4d35-a2c5-0d5116075f08",
        "colab": {
          "base_uri": "https://localhost:8080/",
          "height": 111
        }
      },
      "source": [
        "learn.fit_one_cycle(2, slice(2e-3/100, 2e-3))"
      ],
      "execution_count": 29,
      "outputs": [
        {
          "output_type": "display_data",
          "data": {
            "text/html": [
              "<table border=\"1\" class=\"dataframe\">\n",
              "  <thead>\n",
              "    <tr style=\"text-align: left;\">\n",
              "      <th>epoch</th>\n",
              "      <th>train_loss</th>\n",
              "      <th>valid_loss</th>\n",
              "      <th>accuracy</th>\n",
              "      <th>time</th>\n",
              "    </tr>\n",
              "  </thead>\n",
              "  <tbody>\n",
              "    <tr>\n",
              "      <td>0</td>\n",
              "      <td>5.373459</td>\n",
              "      <td>4.376959</td>\n",
              "      <td>0.191304</td>\n",
              "      <td>01:06</td>\n",
              "    </tr>\n",
              "    <tr>\n",
              "      <td>1</td>\n",
              "      <td>5.137121</td>\n",
              "      <td>4.187041</td>\n",
              "      <td>0.234783</td>\n",
              "      <td>01:06</td>\n",
              "    </tr>\n",
              "  </tbody>\n",
              "</table>"
            ],
            "text/plain": [
              "<IPython.core.display.HTML object>"
            ]
          },
          "metadata": {
            "tags": []
          }
        }
      ]
    },
    {
      "cell_type": "code",
      "metadata": {
        "id": "a7I1xMRp8bUd",
        "outputId": "f60f6a2a-f195-47e5-9562-ba46fa773845",
        "colab": {
          "base_uri": "https://localhost:8080/",
          "height": 111
        }
      },
      "source": [
        "learn.fit_one_cycle(2, slice(2e-3/100, 2e-3))"
      ],
      "execution_count": 30,
      "outputs": [
        {
          "output_type": "display_data",
          "data": {
            "text/html": [
              "<table border=\"1\" class=\"dataframe\">\n",
              "  <thead>\n",
              "    <tr style=\"text-align: left;\">\n",
              "      <th>epoch</th>\n",
              "      <th>train_loss</th>\n",
              "      <th>valid_loss</th>\n",
              "      <th>accuracy</th>\n",
              "      <th>time</th>\n",
              "    </tr>\n",
              "  </thead>\n",
              "  <tbody>\n",
              "    <tr>\n",
              "      <td>0</td>\n",
              "      <td>4.867681</td>\n",
              "      <td>4.006854</td>\n",
              "      <td>0.260870</td>\n",
              "      <td>01:02</td>\n",
              "    </tr>\n",
              "    <tr>\n",
              "      <td>1</td>\n",
              "      <td>4.687819</td>\n",
              "      <td>3.907118</td>\n",
              "      <td>0.269565</td>\n",
              "      <td>01:09</td>\n",
              "    </tr>\n",
              "  </tbody>\n",
              "</table>"
            ],
            "text/plain": [
              "<IPython.core.display.HTML object>"
            ]
          },
          "metadata": {
            "tags": []
          }
        }
      ]
    },
    {
      "cell_type": "code",
      "metadata": {
        "id": "UAnti-XmGVfO",
        "outputId": "ed138b45-f4b9-41e1-dc8f-d42222c59417",
        "colab": {
          "base_uri": "https://localhost:8080/",
          "height": 111
        }
      },
      "source": [
        "learn.fit_one_cycle(2, slice(2e-3/100, 2e-3))"
      ],
      "execution_count": 31,
      "outputs": [
        {
          "output_type": "display_data",
          "data": {
            "text/html": [
              "<table border=\"1\" class=\"dataframe\">\n",
              "  <thead>\n",
              "    <tr style=\"text-align: left;\">\n",
              "      <th>epoch</th>\n",
              "      <th>train_loss</th>\n",
              "      <th>valid_loss</th>\n",
              "      <th>accuracy</th>\n",
              "      <th>time</th>\n",
              "    </tr>\n",
              "  </thead>\n",
              "  <tbody>\n",
              "    <tr>\n",
              "      <td>0</td>\n",
              "      <td>4.488296</td>\n",
              "      <td>3.802690</td>\n",
              "      <td>0.252174</td>\n",
              "      <td>01:05</td>\n",
              "    </tr>\n",
              "    <tr>\n",
              "      <td>1</td>\n",
              "      <td>4.311838</td>\n",
              "      <td>3.726441</td>\n",
              "      <td>0.295652</td>\n",
              "      <td>01:07</td>\n",
              "    </tr>\n",
              "  </tbody>\n",
              "</table>"
            ],
            "text/plain": [
              "<IPython.core.display.HTML object>"
            ]
          },
          "metadata": {
            "tags": []
          }
        }
      ]
    },
    {
      "cell_type": "code",
      "metadata": {
        "id": "bIft7W25GwSu",
        "outputId": "0ac23e1c-86e2-4954-d9fe-50fd5a668011",
        "colab": {
          "base_uri": "https://localhost:8080/",
          "height": 111
        }
      },
      "source": [
        "learn.fit_one_cycle(2, slice(2e-3/100, 2e-3))"
      ],
      "execution_count": 32,
      "outputs": [
        {
          "output_type": "display_data",
          "data": {
            "text/html": [
              "<table border=\"1\" class=\"dataframe\">\n",
              "  <thead>\n",
              "    <tr style=\"text-align: left;\">\n",
              "      <th>epoch</th>\n",
              "      <th>train_loss</th>\n",
              "      <th>valid_loss</th>\n",
              "      <th>accuracy</th>\n",
              "      <th>time</th>\n",
              "    </tr>\n",
              "  </thead>\n",
              "  <tbody>\n",
              "    <tr>\n",
              "      <td>0</td>\n",
              "      <td>4.133761</td>\n",
              "      <td>3.597434</td>\n",
              "      <td>0.278261</td>\n",
              "      <td>01:08</td>\n",
              "    </tr>\n",
              "    <tr>\n",
              "      <td>1</td>\n",
              "      <td>3.981192</td>\n",
              "      <td>3.616763</td>\n",
              "      <td>0.286957</td>\n",
              "      <td>01:08</td>\n",
              "    </tr>\n",
              "  </tbody>\n",
              "</table>"
            ],
            "text/plain": [
              "<IPython.core.display.HTML object>"
            ]
          },
          "metadata": {
            "tags": []
          }
        }
      ]
    },
    {
      "cell_type": "code",
      "metadata": {
        "id": "EEHszVRvGyFt",
        "outputId": "d202541a-48cd-45e8-cd32-cddf81c54913",
        "colab": {
          "base_uri": "https://localhost:8080/",
          "height": 111
        }
      },
      "source": [
        "learn.fit_one_cycle(2, slice(2e-3/100, 2e-3))"
      ],
      "execution_count": 33,
      "outputs": [
        {
          "output_type": "display_data",
          "data": {
            "text/html": [
              "<table border=\"1\" class=\"dataframe\">\n",
              "  <thead>\n",
              "    <tr style=\"text-align: left;\">\n",
              "      <th>epoch</th>\n",
              "      <th>train_loss</th>\n",
              "      <th>valid_loss</th>\n",
              "      <th>accuracy</th>\n",
              "      <th>time</th>\n",
              "    </tr>\n",
              "  </thead>\n",
              "  <tbody>\n",
              "    <tr>\n",
              "      <td>0</td>\n",
              "      <td>3.794875</td>\n",
              "      <td>3.580955</td>\n",
              "      <td>0.295652</td>\n",
              "      <td>01:04</td>\n",
              "    </tr>\n",
              "    <tr>\n",
              "      <td>1</td>\n",
              "      <td>3.663341</td>\n",
              "      <td>3.514416</td>\n",
              "      <td>0.304348</td>\n",
              "      <td>01:05</td>\n",
              "    </tr>\n",
              "  </tbody>\n",
              "</table>"
            ],
            "text/plain": [
              "<IPython.core.display.HTML object>"
            ]
          },
          "metadata": {
            "tags": []
          }
        }
      ]
    },
    {
      "cell_type": "code",
      "metadata": {
        "id": "XsHfrhCHG3dN",
        "outputId": "da3490a2-68c4-4fc4-9780-59214a4c312b",
        "colab": {
          "base_uri": "https://localhost:8080/",
          "height": 173
        }
      },
      "source": [
        "learn.fit_one_cycle(4, slice(2e-3/100, 2e-3))"
      ],
      "execution_count": 34,
      "outputs": [
        {
          "output_type": "display_data",
          "data": {
            "text/html": [
              "<table border=\"1\" class=\"dataframe\">\n",
              "  <thead>\n",
              "    <tr style=\"text-align: left;\">\n",
              "      <th>epoch</th>\n",
              "      <th>train_loss</th>\n",
              "      <th>valid_loss</th>\n",
              "      <th>accuracy</th>\n",
              "      <th>time</th>\n",
              "    </tr>\n",
              "  </thead>\n",
              "  <tbody>\n",
              "    <tr>\n",
              "      <td>0</td>\n",
              "      <td>3.480263</td>\n",
              "      <td>3.523776</td>\n",
              "      <td>0.330435</td>\n",
              "      <td>01:09</td>\n",
              "    </tr>\n",
              "    <tr>\n",
              "      <td>1</td>\n",
              "      <td>3.388734</td>\n",
              "      <td>3.475458</td>\n",
              "      <td>0.339130</td>\n",
              "      <td>01:05</td>\n",
              "    </tr>\n",
              "    <tr>\n",
              "      <td>2</td>\n",
              "      <td>3.187904</td>\n",
              "      <td>3.394311</td>\n",
              "      <td>0.347826</td>\n",
              "      <td>01:10</td>\n",
              "    </tr>\n",
              "    <tr>\n",
              "      <td>3</td>\n",
              "      <td>3.037448</td>\n",
              "      <td>3.367830</td>\n",
              "      <td>0.339130</td>\n",
              "      <td>01:07</td>\n",
              "    </tr>\n",
              "  </tbody>\n",
              "</table>"
            ],
            "text/plain": [
              "<IPython.core.display.HTML object>"
            ]
          },
          "metadata": {
            "tags": []
          }
        }
      ]
    },
    {
      "cell_type": "code",
      "metadata": {
        "id": "0Zsd99isb9EQ",
        "outputId": "7c63d7ef-a1b8-4393-bb57-c9405d724136",
        "colab": {
          "base_uri": "https://localhost:8080/",
          "height": 173
        }
      },
      "source": [
        "learn.fit_one_cycle(4, slice(2e-3/100, 2e-3))"
      ],
      "execution_count": 35,
      "outputs": [
        {
          "output_type": "display_data",
          "data": {
            "text/html": [
              "<table border=\"1\" class=\"dataframe\">\n",
              "  <thead>\n",
              "    <tr style=\"text-align: left;\">\n",
              "      <th>epoch</th>\n",
              "      <th>train_loss</th>\n",
              "      <th>valid_loss</th>\n",
              "      <th>accuracy</th>\n",
              "      <th>time</th>\n",
              "    </tr>\n",
              "  </thead>\n",
              "  <tbody>\n",
              "    <tr>\n",
              "      <td>0</td>\n",
              "      <td>2.871193</td>\n",
              "      <td>3.441291</td>\n",
              "      <td>0.313043</td>\n",
              "      <td>01:06</td>\n",
              "    </tr>\n",
              "    <tr>\n",
              "      <td>1</td>\n",
              "      <td>2.825622</td>\n",
              "      <td>3.466261</td>\n",
              "      <td>0.356522</td>\n",
              "      <td>01:09</td>\n",
              "    </tr>\n",
              "    <tr>\n",
              "      <td>2</td>\n",
              "      <td>2.659356</td>\n",
              "      <td>3.349174</td>\n",
              "      <td>0.365217</td>\n",
              "      <td>01:07</td>\n",
              "    </tr>\n",
              "    <tr>\n",
              "      <td>3</td>\n",
              "      <td>2.480978</td>\n",
              "      <td>3.372104</td>\n",
              "      <td>0.347826</td>\n",
              "      <td>01:08</td>\n",
              "    </tr>\n",
              "  </tbody>\n",
              "</table>"
            ],
            "text/plain": [
              "<IPython.core.display.HTML object>"
            ]
          },
          "metadata": {
            "tags": []
          }
        }
      ]
    },
    {
      "cell_type": "code",
      "metadata": {
        "id": "atNWNKDFPbuI",
        "outputId": "5049d4e0-e6e1-4a86-d86a-dcfdaf75cf0a",
        "colab": {
          "base_uri": "https://localhost:8080/",
          "height": 173
        }
      },
      "source": [
        "learn.fit_one_cycle(4, slice(2e-3/100, 2e-3))"
      ],
      "execution_count": 36,
      "outputs": [
        {
          "output_type": "display_data",
          "data": {
            "text/html": [
              "<table border=\"1\" class=\"dataframe\">\n",
              "  <thead>\n",
              "    <tr style=\"text-align: left;\">\n",
              "      <th>epoch</th>\n",
              "      <th>train_loss</th>\n",
              "      <th>valid_loss</th>\n",
              "      <th>accuracy</th>\n",
              "      <th>time</th>\n",
              "    </tr>\n",
              "  </thead>\n",
              "  <tbody>\n",
              "    <tr>\n",
              "      <td>0</td>\n",
              "      <td>2.303961</td>\n",
              "      <td>3.475636</td>\n",
              "      <td>0.339130</td>\n",
              "      <td>01:09</td>\n",
              "    </tr>\n",
              "    <tr>\n",
              "      <td>1</td>\n",
              "      <td>2.296996</td>\n",
              "      <td>3.487032</td>\n",
              "      <td>0.339130</td>\n",
              "      <td>01:07</td>\n",
              "    </tr>\n",
              "    <tr>\n",
              "      <td>2</td>\n",
              "      <td>2.139624</td>\n",
              "      <td>3.431907</td>\n",
              "      <td>0.339130</td>\n",
              "      <td>01:09</td>\n",
              "    </tr>\n",
              "    <tr>\n",
              "      <td>3</td>\n",
              "      <td>1.994745</td>\n",
              "      <td>3.426576</td>\n",
              "      <td>0.347826</td>\n",
              "      <td>01:05</td>\n",
              "    </tr>\n",
              "  </tbody>\n",
              "</table>"
            ],
            "text/plain": [
              "<IPython.core.display.HTML object>"
            ]
          },
          "metadata": {
            "tags": []
          }
        }
      ]
    },
    {
      "cell_type": "code",
      "metadata": {
        "id": "rKrBTZ0T1uVA",
        "outputId": "63e62cd5-e365-402d-9a22-f36e5c92bbc5",
        "colab": {
          "base_uri": "https://localhost:8080/",
          "height": 173
        }
      },
      "source": [
        "learn.fit_one_cycle(4, slice(2e-3/100, 2e-3))"
      ],
      "execution_count": 37,
      "outputs": [
        {
          "output_type": "display_data",
          "data": {
            "text/html": [
              "<table border=\"1\" class=\"dataframe\">\n",
              "  <thead>\n",
              "    <tr style=\"text-align: left;\">\n",
              "      <th>epoch</th>\n",
              "      <th>train_loss</th>\n",
              "      <th>valid_loss</th>\n",
              "      <th>accuracy</th>\n",
              "      <th>time</th>\n",
              "    </tr>\n",
              "  </thead>\n",
              "  <tbody>\n",
              "    <tr>\n",
              "      <td>0</td>\n",
              "      <td>1.875232</td>\n",
              "      <td>3.479036</td>\n",
              "      <td>0.365217</td>\n",
              "      <td>01:07</td>\n",
              "    </tr>\n",
              "    <tr>\n",
              "      <td>1</td>\n",
              "      <td>1.834843</td>\n",
              "      <td>3.517650</td>\n",
              "      <td>0.330435</td>\n",
              "      <td>01:08</td>\n",
              "    </tr>\n",
              "    <tr>\n",
              "      <td>2</td>\n",
              "      <td>1.691335</td>\n",
              "      <td>3.436597</td>\n",
              "      <td>0.347826</td>\n",
              "      <td>01:08</td>\n",
              "    </tr>\n",
              "    <tr>\n",
              "      <td>3</td>\n",
              "      <td>1.547372</td>\n",
              "      <td>3.441474</td>\n",
              "      <td>0.347826</td>\n",
              "      <td>01:05</td>\n",
              "    </tr>\n",
              "  </tbody>\n",
              "</table>"
            ],
            "text/plain": [
              "<IPython.core.display.HTML object>"
            ]
          },
          "metadata": {
            "tags": []
          }
        }
      ]
    },
    {
      "cell_type": "code",
      "metadata": {
        "id": "ajQC6WDg1yA9",
        "outputId": "2353cf2d-8d79-4599-87ba-65b7dd33e19b",
        "colab": {
          "base_uri": "https://localhost:8080/",
          "height": 173
        }
      },
      "source": [
        "learn.fit_one_cycle(4, slice(2e-3/100, 2e-3))"
      ],
      "execution_count": 38,
      "outputs": [
        {
          "output_type": "display_data",
          "data": {
            "text/html": [
              "<table border=\"1\" class=\"dataframe\">\n",
              "  <thead>\n",
              "    <tr style=\"text-align: left;\">\n",
              "      <th>epoch</th>\n",
              "      <th>train_loss</th>\n",
              "      <th>valid_loss</th>\n",
              "      <th>accuracy</th>\n",
              "      <th>time</th>\n",
              "    </tr>\n",
              "  </thead>\n",
              "  <tbody>\n",
              "    <tr>\n",
              "      <td>0</td>\n",
              "      <td>1.421511</td>\n",
              "      <td>3.432644</td>\n",
              "      <td>0.339130</td>\n",
              "      <td>01:08</td>\n",
              "    </tr>\n",
              "    <tr>\n",
              "      <td>1</td>\n",
              "      <td>1.392425</td>\n",
              "      <td>3.481372</td>\n",
              "      <td>0.347826</td>\n",
              "      <td>01:10</td>\n",
              "    </tr>\n",
              "    <tr>\n",
              "      <td>2</td>\n",
              "      <td>1.292436</td>\n",
              "      <td>3.510684</td>\n",
              "      <td>0.356522</td>\n",
              "      <td>01:09</td>\n",
              "    </tr>\n",
              "    <tr>\n",
              "      <td>3</td>\n",
              "      <td>1.212258</td>\n",
              "      <td>3.518645</td>\n",
              "      <td>0.347826</td>\n",
              "      <td>01:04</td>\n",
              "    </tr>\n",
              "  </tbody>\n",
              "</table>"
            ],
            "text/plain": [
              "<IPython.core.display.HTML object>"
            ]
          },
          "metadata": {
            "tags": []
          }
        }
      ]
    },
    {
      "cell_type": "code",
      "metadata": {
        "id": "KKydb0B4BKGk",
        "outputId": "1820ef3a-a7fa-42b9-df01-e502223585ec",
        "colab": {
          "base_uri": "https://localhost:8080/",
          "height": 173
        }
      },
      "source": [
        "learn.fit_one_cycle(4, slice(2e-3/100, 2e-3))"
      ],
      "execution_count": 39,
      "outputs": [
        {
          "output_type": "display_data",
          "data": {
            "text/html": [
              "<table border=\"1\" class=\"dataframe\">\n",
              "  <thead>\n",
              "    <tr style=\"text-align: left;\">\n",
              "      <th>epoch</th>\n",
              "      <th>train_loss</th>\n",
              "      <th>valid_loss</th>\n",
              "      <th>accuracy</th>\n",
              "      <th>time</th>\n",
              "    </tr>\n",
              "  </thead>\n",
              "  <tbody>\n",
              "    <tr>\n",
              "      <td>0</td>\n",
              "      <td>1.092098</td>\n",
              "      <td>3.625310</td>\n",
              "      <td>0.365217</td>\n",
              "      <td>01:03</td>\n",
              "    </tr>\n",
              "    <tr>\n",
              "      <td>1</td>\n",
              "      <td>1.128405</td>\n",
              "      <td>3.646880</td>\n",
              "      <td>0.365217</td>\n",
              "      <td>01:10</td>\n",
              "    </tr>\n",
              "    <tr>\n",
              "      <td>2</td>\n",
              "      <td>1.032293</td>\n",
              "      <td>3.659115</td>\n",
              "      <td>0.347826</td>\n",
              "      <td>01:09</td>\n",
              "    </tr>\n",
              "    <tr>\n",
              "      <td>3</td>\n",
              "      <td>0.942030</td>\n",
              "      <td>3.715503</td>\n",
              "      <td>0.347826</td>\n",
              "      <td>01:05</td>\n",
              "    </tr>\n",
              "  </tbody>\n",
              "</table>"
            ],
            "text/plain": [
              "<IPython.core.display.HTML object>"
            ]
          },
          "metadata": {
            "tags": []
          }
        }
      ]
    },
    {
      "cell_type": "code",
      "metadata": {
        "id": "T2APKtFKBpGY",
        "outputId": "a3384270-d9c8-413b-f44c-b82e58bd2f58",
        "colab": {
          "base_uri": "https://localhost:8080/",
          "height": 173
        }
      },
      "source": [
        "learn.fit_one_cycle(4, slice(2e-3/100, 2e-3))"
      ],
      "execution_count": 40,
      "outputs": [
        {
          "output_type": "display_data",
          "data": {
            "text/html": [
              "<table border=\"1\" class=\"dataframe\">\n",
              "  <thead>\n",
              "    <tr style=\"text-align: left;\">\n",
              "      <th>epoch</th>\n",
              "      <th>train_loss</th>\n",
              "      <th>valid_loss</th>\n",
              "      <th>accuracy</th>\n",
              "      <th>time</th>\n",
              "    </tr>\n",
              "  </thead>\n",
              "  <tbody>\n",
              "    <tr>\n",
              "      <td>0</td>\n",
              "      <td>0.872141</td>\n",
              "      <td>3.755917</td>\n",
              "      <td>0.330435</td>\n",
              "      <td>01:05</td>\n",
              "    </tr>\n",
              "    <tr>\n",
              "      <td>1</td>\n",
              "      <td>0.878272</td>\n",
              "      <td>3.952573</td>\n",
              "      <td>0.339130</td>\n",
              "      <td>01:06</td>\n",
              "    </tr>\n",
              "    <tr>\n",
              "      <td>2</td>\n",
              "      <td>0.845175</td>\n",
              "      <td>3.893560</td>\n",
              "      <td>0.330435</td>\n",
              "      <td>01:09</td>\n",
              "    </tr>\n",
              "    <tr>\n",
              "      <td>3</td>\n",
              "      <td>0.766369</td>\n",
              "      <td>3.939038</td>\n",
              "      <td>0.304348</td>\n",
              "      <td>01:03</td>\n",
              "    </tr>\n",
              "  </tbody>\n",
              "</table>"
            ],
            "text/plain": [
              "<IPython.core.display.HTML object>"
            ]
          },
          "metadata": {
            "tags": []
          }
        }
      ]
    },
    {
      "cell_type": "code",
      "metadata": {
        "id": "qtTypA1sPgLU",
        "outputId": "9683cf1d-90c6-4ce3-94d2-a8eddaa74689",
        "colab": {
          "base_uri": "https://localhost:8080/",
          "height": 111
        }
      },
      "source": [
        "learn.fit_one_cycle(2, slice(2e-3/100, 2e-3))"
      ],
      "execution_count": 41,
      "outputs": [
        {
          "output_type": "display_data",
          "data": {
            "text/html": [
              "<table border=\"1\" class=\"dataframe\">\n",
              "  <thead>\n",
              "    <tr style=\"text-align: left;\">\n",
              "      <th>epoch</th>\n",
              "      <th>train_loss</th>\n",
              "      <th>valid_loss</th>\n",
              "      <th>accuracy</th>\n",
              "      <th>time</th>\n",
              "    </tr>\n",
              "  </thead>\n",
              "  <tbody>\n",
              "    <tr>\n",
              "      <td>0</td>\n",
              "      <td>0.730575</td>\n",
              "      <td>3.877970</td>\n",
              "      <td>0.347826</td>\n",
              "      <td>01:10</td>\n",
              "    </tr>\n",
              "    <tr>\n",
              "      <td>1</td>\n",
              "      <td>0.708142</td>\n",
              "      <td>4.001447</td>\n",
              "      <td>0.313043</td>\n",
              "      <td>01:03</td>\n",
              "    </tr>\n",
              "  </tbody>\n",
              "</table>"
            ],
            "text/plain": [
              "<IPython.core.display.HTML object>"
            ]
          },
          "metadata": {
            "tags": []
          }
        }
      ]
    },
    {
      "cell_type": "code",
      "metadata": {
        "id": "b242kBsTUp9Y",
        "outputId": "28d968e5-96be-43da-93cb-fa54302375b2",
        "colab": {
          "base_uri": "https://localhost:8080/",
          "height": 111
        }
      },
      "source": [
        "learn.fit_one_cycle(2, slice(2e-3/100, 2e-3))"
      ],
      "execution_count": 42,
      "outputs": [
        {
          "output_type": "display_data",
          "data": {
            "text/html": [
              "<table border=\"1\" class=\"dataframe\">\n",
              "  <thead>\n",
              "    <tr style=\"text-align: left;\">\n",
              "      <th>epoch</th>\n",
              "      <th>train_loss</th>\n",
              "      <th>valid_loss</th>\n",
              "      <th>accuracy</th>\n",
              "      <th>time</th>\n",
              "    </tr>\n",
              "  </thead>\n",
              "  <tbody>\n",
              "    <tr>\n",
              "      <td>0</td>\n",
              "      <td>0.658510</td>\n",
              "      <td>3.919621</td>\n",
              "      <td>0.330435</td>\n",
              "      <td>01:07</td>\n",
              "    </tr>\n",
              "    <tr>\n",
              "      <td>1</td>\n",
              "      <td>0.620358</td>\n",
              "      <td>4.090423</td>\n",
              "      <td>0.313043</td>\n",
              "      <td>01:05</td>\n",
              "    </tr>\n",
              "  </tbody>\n",
              "</table>"
            ],
            "text/plain": [
              "<IPython.core.display.HTML object>"
            ]
          },
          "metadata": {
            "tags": []
          }
        }
      ]
    },
    {
      "cell_type": "code",
      "metadata": {
        "id": "Duwf1Ih5VeDZ",
        "outputId": "4099082c-0a45-46a4-a315-cd04b20b3863",
        "colab": {
          "base_uri": "https://localhost:8080/",
          "height": 80
        }
      },
      "source": [
        "learn.fit_one_cycle(1, slice(2e-3/100, 2e-3))"
      ],
      "execution_count": 43,
      "outputs": [
        {
          "output_type": "display_data",
          "data": {
            "text/html": [
              "<table border=\"1\" class=\"dataframe\">\n",
              "  <thead>\n",
              "    <tr style=\"text-align: left;\">\n",
              "      <th>epoch</th>\n",
              "      <th>train_loss</th>\n",
              "      <th>valid_loss</th>\n",
              "      <th>accuracy</th>\n",
              "      <th>time</th>\n",
              "    </tr>\n",
              "  </thead>\n",
              "  <tbody>\n",
              "    <tr>\n",
              "      <td>0</td>\n",
              "      <td>0.588693</td>\n",
              "      <td>3.967819</td>\n",
              "      <td>0.347826</td>\n",
              "      <td>01:11</td>\n",
              "    </tr>\n",
              "  </tbody>\n",
              "</table>"
            ],
            "text/plain": [
              "<IPython.core.display.HTML object>"
            ]
          },
          "metadata": {
            "tags": []
          }
        }
      ]
    },
    {
      "cell_type": "code",
      "metadata": {
        "id": "c65d-osfDUXm"
      },
      "source": [
        "# save the best model\n",
        "\n",
        "learn.save_encoder('mixed_pubmed_bigtweet_twadr_fold30overlap')"
      ],
      "execution_count": 44,
      "outputs": []
    },
    {
      "cell_type": "markdown",
      "metadata": {
        "id": "rCwZU0E2RgM6"
      },
      "source": [
        "# Part three: Predict on the test dataset"
      ]
    },
    {
      "cell_type": "code",
      "metadata": {
        "id": "gDm72c-dOu7d",
        "outputId": "0cd4c3a7-571c-409e-f3ad-afe545944bb3",
        "colab": {
          "base_uri": "https://localhost:8080/",
          "height": 17
        }
      },
      "source": [
        "# use the test data for prediction\n",
        "\n",
        "preds, y = learn.get_preds(DatasetType.Test)"
      ],
      "execution_count": 45,
      "outputs": [
        {
          "output_type": "display_data",
          "data": {
            "text/html": [
              ""
            ],
            "text/plain": [
              "<IPython.core.display.HTML object>"
            ]
          },
          "metadata": {
            "tags": []
          }
        }
      ]
    },
    {
      "cell_type": "code",
      "metadata": {
        "id": "6tFSQcsWPvxn",
        "outputId": "8fa466fb-413c-4940-97a0-65aabc6e63f5",
        "colab": {
          "base_uri": "https://localhost:8080/",
          "height": 105
        }
      },
      "source": [
        "predictions, *_ = learn.get_preds(DatasetType.Test)\n",
        "labels = np.argmax(predictions, 1)\n",
        "predict_list = labels.tolist()\n",
        "standard_list = test[0].tolist()\n",
        "\n",
        "print(len(predict_list))\n",
        "print(len(standard_list))\n",
        "\n",
        "print(predict_list)\n",
        "print(standard_list)"
      ],
      "execution_count": 46,
      "outputs": [
        {
          "output_type": "display_data",
          "data": {
            "text/html": [
              ""
            ],
            "text/plain": [
              "<IPython.core.display.HTML object>"
            ]
          },
          "metadata": {
            "tags": []
          }
        },
        {
          "output_type": "stream",
          "text": [
            "205\n",
            "205\n",
            "[803, 2099, 1308, 1576, 1932, 359, 700, 803, 854, 309, 965, 135, 375, 375, 2188, 1534, 854, 711, 965, 1674, 2046, 803, 744, 1811, 1802, 171, 1702, 974, 833, 1811, 378, 1411, 536, 1576, 12, 1811, 1811, 244, 244, 1576, 803, 1822, 1652, 1950, 92, 1935, 1307, 621, 1323, 854, 1811, 574, 700, 1723, 135, 1323, 1583, 194, 1932, 1308, 92, 700, 1932, 700, 909, 744, 1968, 2097, 2027, 2188, 2099, 1811, 309, 1403, 1570, 1698, 79, 2099, 978, 574, 724, 1038, 92, 476, 909, 1106, 135, 1698, 1307, 359, 230, 451, 1932, 1106, 621, 1106, 1570, 798, 723, 700, 965, 1106, 1811, 1034, 1034, 1811, 1478, 2088, 476, 635, 1411, 1576, 854, 1639, 1411, 2099, 2214, 1652, 574, 2165, 1811, 1178, 2088, 1136, 268, 1313, 2099, 1811, 1307, 814, 170, 135, 574, 309, 1811, 1534, 1576, 1811, 2018, 1534, 1308, 621, 1773, 170, 1811, 909, 1034, 1811, 2184, 1326, 983, 1633, 840, 170, 441, 2046, 2099, 1932, 700, 1034, 1392, 170, 135, 1308, 1376, 2046, 135, 79, 1962, 170, 2099, 79, 249, 89, 441, 909, 847, 1811, 931, 1308, 574, 79, 2214, 194, 700, 336, 333, 2046, 1698, 170, 170, 1583, 2188, 449, 1220, 1034, 1932, 744, 1652, 574, 2188, 1447, 244, 1932, 574]\n",
            "[1576, 2099, 1698, 1811, 476, 840, 440, 2099, 171, 309, 703, 135, 375, 1326, 860, 574, 2003, 210, 1408, 237, 106, 1576, 700, 1095, 1194, 1307, 239, 935, 833, 1076, 1935, 1008, 2176, 1576, 2088, 1407, 1411, 505, 1811, 1576, 803, 605, 1652, 931, 92, 974, 2088, 1075, 491, 1932, 1075, 574, 1220, 1032, 2048, 2088, 1583, 1043, 2188, 1095, 872, 854, 1307, 1950, 170, 700, 1698, 170, 451, 860, 1076, 2099, 309, 872, 210, 700, 237, 2003, 1077, 1299, 99, 1038, 106, 2218, 1698, 1666, 135, 1698, 171, 1534, 1811, 699, 854, 171, 621, 794, 941, 89, 965, 472, 1935, 574, 336, 1348, 803, 1403, 2027, 1811, 1752, 1025, 1411, 2099, 1932, 989, 2046, 2099, 724, 1308, 1106, 621, 1811, 699, 1307, 574, 268, 959, 2099, 1308, 1542, 860, 2201, 1308, 574, 309, 1472, 384, 384, 854, 833, 79, 467, 2165, 1049, 956, 2097, 1542, 1811, 384, 1220, 1811, 983, 378, 840, 170, 441, 2046, 2099, 1932, 700, 2099, 1392, 170, 135, 1308, 1376, 2046, 135, 79, 1962, 170, 2099, 79, 249, 89, 441, 909, 847, 1034, 931, 1308, 574, 79, 1213, 194, 700, 854, 333, 2046, 1698, 170, 170, 1583, 2188, 449, 1220, 2099, 854, 744, 1652, 574, 2188, 1447, 244, 854, 574]\n"
          ],
          "name": "stdout"
        }
      ]
    },
    {
      "cell_type": "code",
      "metadata": {
        "id": "XIC4zufnMxtq",
        "outputId": "eb7d7e43-ad22-4528-8ed4-147ba534d077",
        "colab": {
          "base_uri": "https://localhost:8080/",
          "height": 51
        }
      },
      "source": [
        "correct_num = 0\n",
        "\n",
        "for i in range(0, len(standard_list)):\n",
        "  if predict_list[i] == standard_list[i]:\n",
        "    correct_num = correct_num+1\n",
        "  else:\n",
        "    pass\n",
        "print(correct_num)\n",
        "\n",
        "predict_accuracy = correct_num/len(predict_list)\n",
        "print(predict_accuracy)"
      ],
      "execution_count": 47,
      "outputs": [
        {
          "output_type": "stream",
          "text": [
            "71\n",
            "0.3463414634146341\n"
          ],
          "name": "stdout"
        }
      ]
    },
    {
      "cell_type": "code",
      "metadata": {
        "id": "zlKMHp1CIaRJ"
      },
      "source": [
        ""
      ],
      "execution_count": 47,
      "outputs": []
    }
  ]
}