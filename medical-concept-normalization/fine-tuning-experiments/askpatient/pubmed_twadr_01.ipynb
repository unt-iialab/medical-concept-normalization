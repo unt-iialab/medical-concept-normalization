{
  "nbformat": 4,
  "nbformat_minor": 0,
  "metadata": {
    "accelerator": "TPU",
    "colab": {
      "name": "pubmed_twadr_01.ipynb",
      "provenance": [],
      "collapsed_sections": [],
      "include_colab_link": true
    },
    "kernelspec": {
      "display_name": "Python 3",
      "name": "python3"
    }
  },
  "cells": [
    {
      "cell_type": "markdown",
      "metadata": {
        "id": "view-in-github",
        "colab_type": "text"
      },
      "source": [
        "<a href=\"https://colab.research.google.com/github/unt-iialab/medical-concept-normalization/blob/master/medical-concept-normalization/fine-tuning-experiments/askpatient/pubmed_twadr_01.ipynb\" target=\"_parent\"><img src=\"https://colab.research.google.com/assets/colab-badge.svg\" alt=\"Open In Colab\"/></a>"
      ]
    },
    {
      "cell_type": "code",
      "metadata": {
        "id": "adSi6i2-dWxy"
      },
      "source": [
        "import os"
      ],
      "execution_count": 1,
      "outputs": []
    },
    {
      "cell_type": "code",
      "metadata": {
        "id": "E7xYCRGPjd9B"
      },
      "source": [
        "base_dir = 'medical-concept-normalization'"
      ],
      "execution_count": 2,
      "outputs": []
    },
    {
      "cell_type": "code",
      "metadata": {
        "id": "yvIW3aUDjYNS"
      },
      "source": [
        "os.mkdir(base_dir)"
      ],
      "execution_count": 3,
      "outputs": []
    },
    {
      "cell_type": "code",
      "metadata": {
        "id": "es-FFLlfk6SG"
      },
      "source": [
        "os.mkdir('medical-concept-normalization/data_collection')"
      ],
      "execution_count": 4,
      "outputs": []
    },
    {
      "cell_type": "markdown",
      "metadata": {
        "id": "0R-Guw_VoJXm"
      },
      "source": [
        "**Install fastai and clone the fastai for text classification**\n",
        "\n"
      ]
    },
    {
      "cell_type": "code",
      "metadata": {
        "id": "QVZa3Z0PmHFH",
        "outputId": "cb14da91-ab4c-4964-ac4d-10d212064d7f",
        "colab": {
          "base_uri": "https://localhost:8080/"
        }
      },
      "source": [
        "!curl https://course-v3.fast.ai/setup/colab | bash"
      ],
      "execution_count": 5,
      "outputs": [
        {
          "output_type": "stream",
          "text": [
            "  % Total    % Received % Xferd  Average Speed   Time    Time     Time  Current\n",
            "                                 Dload  Upload   Total   Spent    Left  Speed\n",
            "\r  0     0    0     0    0     0      0      0 --:--:-- --:--:-- --:--:--     0curl: (6) Could not resolve host: course-v3.fast.ai\n"
          ],
          "name": "stdout"
        }
      ]
    },
    {
      "cell_type": "code",
      "metadata": {
        "id": "_FBFFEBrmJC0",
        "outputId": "a9cfc3d4-5b4d-4b6b-cce4-c2998ede8219",
        "colab": {
          "base_uri": "https://localhost:8080/"
        }
      },
      "source": [
        "!git clone https://github.com/wshuyi/demo-nlp-classification-fastai.git"
      ],
      "execution_count": 6,
      "outputs": [
        {
          "output_type": "stream",
          "text": [
            "Cloning into 'demo-nlp-classification-fastai'...\n",
            "remote: Enumerating objects: 9, done.\u001b[K\n",
            "remote: Total 9 (delta 0), reused 0 (delta 0), pack-reused 9\u001b[K\n",
            "Unpacking objects: 100% (9/9), done.\n"
          ],
          "name": "stdout"
        }
      ]
    },
    {
      "cell_type": "code",
      "metadata": {
        "id": "66zfh_JqmWMU"
      },
      "source": [
        "from fastai import *\n",
        "from fastai.text import *"
      ],
      "execution_count": 7,
      "outputs": []
    },
    {
      "cell_type": "markdown",
      "metadata": {
        "id": "mNIw-yALdBU9"
      },
      "source": [
        "**Set the path of the data collections**"
      ]
    },
    {
      "cell_type": "code",
      "metadata": {
        "id": "pzH7VMh4mqCL"
      },
      "source": [
        "path = Path('medical-concept-normalization/data_collection')"
      ],
      "execution_count": 8,
      "outputs": []
    },
    {
      "cell_type": "code",
      "metadata": {
        "id": "b8fjI6yyn4aS"
      },
      "source": [
        "# training data set\n",
        "\n",
        "train_csv = path/'TwADR-L.fold-1.train.csv'\n",
        "train = pd.read_csv(train_csv, header=None)\n",
        "#train.head()\n",
        "#train.info()"
      ],
      "execution_count": 12,
      "outputs": []
    },
    {
      "cell_type": "code",
      "metadata": {
        "id": "Hmlr-bAorfHd",
        "outputId": "d5e009b1-5cb8-4d6a-c62d-c96a6691a317",
        "colab": {
          "base_uri": "https://localhost:8080/",
          "height": 204
        }
      },
      "source": [
        "# validating data set\n",
        "\n",
        "valid = pd.read_csv(path/\"TwADR-L.fold-1.validation.csv\",header=None)\n",
        "valid.head()"
      ],
      "execution_count": 13,
      "outputs": [
        {
          "output_type": "execute_result",
          "data": {
            "text/html": [
              "<div>\n",
              "<style scoped>\n",
              "    .dataframe tbody tr th:only-of-type {\n",
              "        vertical-align: middle;\n",
              "    }\n",
              "\n",
              "    .dataframe tbody tr th {\n",
              "        vertical-align: top;\n",
              "    }\n",
              "\n",
              "    .dataframe thead th {\n",
              "        text-align: right;\n",
              "    }\n",
              "</style>\n",
              "<table border=\"1\" class=\"dataframe\">\n",
              "  <thead>\n",
              "    <tr style=\"text-align: right;\">\n",
              "      <th></th>\n",
              "      <th>0</th>\n",
              "      <th>1</th>\n",
              "    </tr>\n",
              "  </thead>\n",
              "  <tbody>\n",
              "    <tr>\n",
              "      <th>0</th>\n",
              "      <td>85</td>\n",
              "      <td>tremor</td>\n",
              "    </tr>\n",
              "    <tr>\n",
              "      <th>1</th>\n",
              "      <td>119</td>\n",
              "      <td>anxiety</td>\n",
              "    </tr>\n",
              "    <tr>\n",
              "      <th>2</th>\n",
              "      <td>154</td>\n",
              "      <td>hives</td>\n",
              "    </tr>\n",
              "    <tr>\n",
              "      <th>3</th>\n",
              "      <td>189</td>\n",
              "      <td>dizziness</td>\n",
              "    </tr>\n",
              "    <tr>\n",
              "      <th>4</th>\n",
              "      <td>189</td>\n",
              "      <td>dizziness</td>\n",
              "    </tr>\n",
              "  </tbody>\n",
              "</table>\n",
              "</div>"
            ],
            "text/plain": [
              "     0          1\n",
              "0   85     tremor\n",
              "1  119    anxiety\n",
              "2  154      hives\n",
              "3  189  dizziness\n",
              "4  189  dizziness"
            ]
          },
          "metadata": {
            "tags": []
          },
          "execution_count": 13
        }
      ]
    },
    {
      "cell_type": "code",
      "metadata": {
        "id": "cOza9dfSsBud",
        "outputId": "eca9ab69-2d0b-4efa-e17c-cb45a958be89",
        "colab": {
          "base_uri": "https://localhost:8080/",
          "height": 204
        }
      },
      "source": [
        "# testing data set\n",
        "\n",
        "test = pd.read_csv(path/\"TwADR-L.fold-1.test.csv\",header=None)\n",
        "test.head()"
      ],
      "execution_count": 14,
      "outputs": [
        {
          "output_type": "execute_result",
          "data": {
            "text/html": [
              "<div>\n",
              "<style scoped>\n",
              "    .dataframe tbody tr th:only-of-type {\n",
              "        vertical-align: middle;\n",
              "    }\n",
              "\n",
              "    .dataframe tbody tr th {\n",
              "        vertical-align: top;\n",
              "    }\n",
              "\n",
              "    .dataframe thead th {\n",
              "        text-align: right;\n",
              "    }\n",
              "</style>\n",
              "<table border=\"1\" class=\"dataframe\">\n",
              "  <thead>\n",
              "    <tr style=\"text-align: right;\">\n",
              "      <th></th>\n",
              "      <th>0</th>\n",
              "      <th>1</th>\n",
              "    </tr>\n",
              "  </thead>\n",
              "  <tbody>\n",
              "    <tr>\n",
              "      <th>0</th>\n",
              "      <td>13</td>\n",
              "      <td>Insomnia</td>\n",
              "    </tr>\n",
              "    <tr>\n",
              "      <th>1</th>\n",
              "      <td>13</td>\n",
              "      <td>awake in the middle of the night</td>\n",
              "    </tr>\n",
              "    <tr>\n",
              "      <th>2</th>\n",
              "      <td>61</td>\n",
              "      <td>very stupid</td>\n",
              "    </tr>\n",
              "    <tr>\n",
              "      <th>3</th>\n",
              "      <td>133</td>\n",
              "      <td>night terrors</td>\n",
              "    </tr>\n",
              "    <tr>\n",
              "      <th>4</th>\n",
              "      <td>189</td>\n",
              "      <td>dizziness</td>\n",
              "    </tr>\n",
              "  </tbody>\n",
              "</table>\n",
              "</div>"
            ],
            "text/plain": [
              "     0                                 1\n",
              "0   13                          Insomnia\n",
              "1   13  awake in the middle of the night\n",
              "2   61                       very stupid\n",
              "3  133                     night terrors\n",
              "4  189                         dizziness"
            ]
          },
          "metadata": {
            "tags": []
          },
          "execution_count": 14
        }
      ]
    },
    {
      "cell_type": "code",
      "metadata": {
        "id": "Vo-YNvVYoaH6",
        "outputId": "b6aecd71-a8bf-4b0b-81e1-a9b0effd26b1",
        "colab": {
          "base_uri": "https://localhost:8080/",
          "height": 17
        }
      },
      "source": [
        "# Creating DataBunch for language modelling\n",
        "\n",
        "data_lm = TextLMDataBunch.from_csv(path, 'TwADR_pubmed.csv')"
      ],
      "execution_count": 15,
      "outputs": [
        {
          "output_type": "display_data",
          "data": {
            "text/html": [
              ""
            ],
            "text/plain": [
              "<IPython.core.display.HTML object>"
            ]
          },
          "metadata": {
            "tags": []
          }
        },
        {
          "output_type": "display_data",
          "data": {
            "text/html": [
              ""
            ],
            "text/plain": [
              "<IPython.core.display.HTML object>"
            ]
          },
          "metadata": {
            "tags": []
          }
        }
      ]
    },
    {
      "cell_type": "code",
      "metadata": {
        "id": "qcV-9kMnNLBf"
      },
      "source": [
        ""
      ],
      "execution_count": 15,
      "outputs": []
    },
    {
      "cell_type": "code",
      "metadata": {
        "id": "1ScY9afDsnvE"
      },
      "source": [
        "# Creating DataBunch for classification\n",
        "\n",
        "# data_clas = TextClasDataBunch.from_df(path, train, valid, test, vocab=data_lm.train_ds.vocab, bs=128)"
      ],
      "execution_count": 16,
      "outputs": []
    },
    {
      "cell_type": "code",
      "metadata": {
        "id": "gzrSdQcvey9p",
        "outputId": "17132f21-4ea6-490a-df53-ad23e629e570",
        "colab": {
          "base_uri": "https://localhost:8080/",
          "height": 17
        }
      },
      "source": [
        "data_clas = TextClasDataBunch.from_df(path, train, valid, vocab=data_lm.train_ds.vocab, bs=128)"
      ],
      "execution_count": 17,
      "outputs": [
        {
          "output_type": "display_data",
          "data": {
            "text/html": [
              ""
            ],
            "text/plain": [
              "<IPython.core.display.HTML object>"
            ]
          },
          "metadata": {
            "tags": []
          }
        },
        {
          "output_type": "display_data",
          "data": {
            "text/html": [
              ""
            ],
            "text/plain": [
              "<IPython.core.display.HTML object>"
            ]
          },
          "metadata": {
            "tags": []
          }
        }
      ]
    },
    {
      "cell_type": "code",
      "metadata": {
        "id": "MD27Tf0Ke3ou",
        "outputId": "8e95dcc2-eebf-4ec3-b7ef-a80d48caec24",
        "colab": {
          "base_uri": "https://localhost:8080/",
          "height": 17
        }
      },
      "source": [
        "data_clas.add_test(test,label=0)\n"
      ],
      "execution_count": 18,
      "outputs": [
        {
          "output_type": "display_data",
          "data": {
            "text/html": [
              ""
            ],
            "text/plain": [
              "<IPython.core.display.HTML object>"
            ]
          },
          "metadata": {
            "tags": []
          }
        }
      ]
    },
    {
      "cell_type": "code",
      "metadata": {
        "id": "-dpjnk_rstwk"
      },
      "source": [
        "data_lm.save()\n",
        "data_clas.save()"
      ],
      "execution_count": 19,
      "outputs": []
    },
    {
      "cell_type": "code",
      "metadata": {
        "id": "4OkiJa36sw5s",
        "outputId": "208cd869-0936-435d-a09d-20370fcb1801",
        "colab": {
          "base_uri": "https://localhost:8080/"
        }
      },
      "source": [
        "data_lm.train_ds.vocab.itos"
      ],
      "execution_count": 20,
      "outputs": [
        {
          "output_type": "execute_result",
          "data": {
            "text/plain": [
              "['xxunk',\n",
              " 'xxpad',\n",
              " 'xxbos',\n",
              " 'xxeos',\n",
              " 'xxfld',\n",
              " 'xxmaj',\n",
              " 'xxup',\n",
              " 'xxrep',\n",
              " 'xxwrep',\n",
              " 'the',\n",
              " 'of',\n",
              " 'and',\n",
              " 'in',\n",
              " 'to',\n",
              " 'a',\n",
              " 'diclofenac',\n",
              " 'was',\n",
              " 'with',\n",
              " 'were',\n",
              " 'for',\n",
              " 'pain',\n",
              " 'sodium',\n",
              " 'drug',\n",
              " 'by',\n",
              " 'on',\n",
              " 'patients',\n",
              " 'as',\n",
              " 'that',\n",
              " 'is',\n",
              " 'at',\n",
              " 'or',\n",
              " 'increased',\n",
              " 'mg',\n",
              " 'from',\n",
              " 'group',\n",
              " 'mood',\n",
              " 'this',\n",
              " 'treatment',\n",
              " 'study',\n",
              " 'after',\n",
              " 'p',\n",
              " 'release',\n",
              " 'an',\n",
              " 'be',\n",
              " 'disorder',\n",
              " ',',\n",
              " 'me',\n",
              " 'abnormal',\n",
              " 'i',\n",
              " 'not',\n",
              " 'effect',\n",
              " 'withdrawal',\n",
              " 'decreased',\n",
              " 'weight',\n",
              " 'compared',\n",
              " 'than',\n",
              " 'effects',\n",
              " 'are',\n",
              " 'anxiety',\n",
              " 'groups',\n",
              " 'my',\n",
              " 'using',\n",
              " 'symptoms',\n",
              " 'no',\n",
              " 'two',\n",
              " 'inflammatory',\n",
              " 'both',\n",
              " 'significantly',\n",
              " 'acute',\n",
              " 'drugs',\n",
              " 'significant',\n",
              " 'potassium',\n",
              " 'anti',\n",
              " 'skin',\n",
              " 'between',\n",
              " 'day',\n",
              " 'dose',\n",
              " 'h',\n",
              " 'voltaren',\n",
              " 'all',\n",
              " '(',\n",
              " ')',\n",
              " 'behavior',\n",
              " 'disorders',\n",
              " 'used',\n",
              " 'blood',\n",
              " 'time',\n",
              " 'these',\n",
              " 'results',\n",
              " 'placebo',\n",
              " 'it',\n",
              " 'syndrome',\n",
              " '-',\n",
              " 'which',\n",
              " 'had',\n",
              " 'efficacy',\n",
              " 'diseases',\n",
              " 'days',\n",
              " 'sleeplessness',\n",
              " 'have',\n",
              " 'oral',\n",
              " 'concentration',\n",
              " 'ds',\n",
              " 'treated',\n",
              " 'we',\n",
              " 'also',\n",
              " 'like',\n",
              " 'feeling',\n",
              " 'different',\n",
              " 'showed',\n",
              " 'finding',\n",
              " 'ml',\n",
              " 'topical',\n",
              " 'more',\n",
              " 'up',\n",
              " 'sleep',\n",
              " 'insomnia',\n",
              " 'one',\n",
              " 'administration',\n",
              " 'disturbance',\n",
              " 'rats',\n",
              " 'somnolence',\n",
              " 'but',\n",
              " 'has',\n",
              " 'energy',\n",
              " 'high',\n",
              " 'c',\n",
              " 'non',\n",
              " 'control',\n",
              " 'been',\n",
              " 'studies',\n",
              " 'acid',\n",
              " 'mental',\n",
              " 'induced',\n",
              " 'clinical',\n",
              " 'got',\n",
              " 'plasma',\n",
              " 'into',\n",
              " 'swelling',\n",
              " 'respectively',\n",
              " 'during',\n",
              " 'rate',\n",
              " 'state',\n",
              " 'formulation',\n",
              " 'hours',\n",
              " 'there',\n",
              " 'formulations',\n",
              " 'body',\n",
              " 'gain',\n",
              " 'appetite',\n",
              " 'disease',\n",
              " 'tablets',\n",
              " 'nsaids',\n",
              " 'muscle',\n",
              " 'observed',\n",
              " 'found',\n",
              " 'their',\n",
              " 'mean',\n",
              " 'gel',\n",
              " 'other',\n",
              " 's',\n",
              " 'method',\n",
              " 'effective',\n",
              " 'nausea',\n",
              " 'solution',\n",
              " 'may',\n",
              " 'low',\n",
              " 'ph',\n",
              " 'its',\n",
              " 'g',\n",
              " 'when',\n",
              " 'depression',\n",
              " 'use',\n",
              " 'n',\n",
              " 'three',\n",
              " 'kg',\n",
              " 'vitro',\n",
              " 'well',\n",
              " 'heart',\n",
              " 'attention',\n",
              " 'activity',\n",
              " 'lower',\n",
              " 'levels',\n",
              " 'atorvastatin',\n",
              " 'renal',\n",
              " 'awake',\n",
              " 'hyperactive',\n",
              " 'excitability',\n",
              " 'received',\n",
              " 'conditions',\n",
              " 'each',\n",
              " 'reaction',\n",
              " 'level',\n",
              " 'cell',\n",
              " 'total',\n",
              " 'analgesic',\n",
              " 'adverse',\n",
              " 'controlled',\n",
              " 'test',\n",
              " 'over',\n",
              " 'period',\n",
              " 'm',\n",
              " 'eye',\n",
              " 'serum',\n",
              " 'ceiling',\n",
              " 'single',\n",
              " 'system',\n",
              " 'dizziness',\n",
              " 'data',\n",
              " 'irritable',\n",
              " 'd',\n",
              " 'feelings',\n",
              " 'concentrations',\n",
              " 'first',\n",
              " 'liver',\n",
              " 'randomized',\n",
              " 'feel',\n",
              " 'gastrointestinal',\n",
              " 'analysis',\n",
              " 'patient',\n",
              " 'however',\n",
              " 'daily',\n",
              " 'panic',\n",
              " 'less',\n",
              " 'drowsiness',\n",
              " 'headache',\n",
              " 'out',\n",
              " 'loss',\n",
              " 'application',\n",
              " 'evaluated',\n",
              " 'l',\n",
              " 'joint',\n",
              " 'can',\n",
              " 'double',\n",
              " 'postoperative',\n",
              " 'surgery',\n",
              " 'inflammation',\n",
              " 'allergic',\n",
              " 'model',\n",
              " 't',\n",
              " 'function',\n",
              " 'similar',\n",
              " 'depressed',\n",
              " 'site',\n",
              " 'rash',\n",
              " 'following',\n",
              " 'tablet',\n",
              " 'did',\n",
              " 'nsaid',\n",
              " 'arthritis',\n",
              " 'reduced',\n",
              " 'based',\n",
              " 'changes',\n",
              " 'present',\n",
              " 'difference',\n",
              " 'associated',\n",
              " 'injury',\n",
              " 'cells',\n",
              " 'obtained',\n",
              " 'weeks',\n",
              " 'initial',\n",
              " 'infection',\n",
              " \"n't\",\n",
              " 'week',\n",
              " 'b',\n",
              " 'dissolution',\n",
              " 'only',\n",
              " 'water',\n",
              " 'increase',\n",
              " 'therapy',\n",
              " '#',\n",
              " 'before',\n",
              " 'change',\n",
              " 'bipolar',\n",
              " 'injection',\n",
              " 'edema',\n",
              " 'higher',\n",
              " 'trial',\n",
              " 'combination',\n",
              " 'studied',\n",
              " 'migraine',\n",
              " 'most',\n",
              " 'wakefulness',\n",
              " 'prepared',\n",
              " 'swings',\n",
              " 'pressure',\n",
              " 'administered',\n",
              " 'visual',\n",
              " 'under',\n",
              " 'chronic',\n",
              " 'doses',\n",
              " 'performed',\n",
              " 'response',\n",
              " 'nonsteroidal',\n",
              " 'blind',\n",
              " 'min',\n",
              " 'ca',\n",
              " 'those',\n",
              " 'investigated',\n",
              " 'cholesterol',\n",
              " 'gastric',\n",
              " 'while',\n",
              " 'reported',\n",
              " 'breast',\n",
              " 'vs',\n",
              " 'bone',\n",
              " 'due',\n",
              " 'x',\n",
              " 'could',\n",
              " 'ratio',\n",
              " 'tissue',\n",
              " 'relief',\n",
              " 'w',\n",
              " 'differences',\n",
              " 'given',\n",
              " 'absorption',\n",
              " 'events',\n",
              " 'either',\n",
              " 'post',\n",
              " 'side',\n",
              " 'respiratory',\n",
              " 'containing',\n",
              " 'properties',\n",
              " 'corneal',\n",
              " 'brain',\n",
              " 'values',\n",
              " 'parameters',\n",
              " 'developed',\n",
              " 'fatigue',\n",
              " 'abdominal',\n",
              " 'dreams',\n",
              " 'four',\n",
              " 'subjects',\n",
              " 'decrease',\n",
              " 'order',\n",
              " 'knee',\n",
              " 'delivery',\n",
              " 'new',\n",
              " 'measured',\n",
              " 'v',\n",
              " 'assessed',\n",
              " 'attacks',\n",
              " 'who',\n",
              " 'any',\n",
              " 'safety',\n",
              " 'within',\n",
              " 'auc',\n",
              " 'reduction',\n",
              " 'urine',\n",
              " 'failure',\n",
              " 'vivo',\n",
              " 'phase',\n",
              " 'statistically',\n",
              " 'deficit',\n",
              " 'potential',\n",
              " 'hemorrhage',\n",
              " 'mm',\n",
              " 'steroidal',\n",
              " 'human',\n",
              " 'ng',\n",
              " 'attack',\n",
              " 'compare',\n",
              " 'such',\n",
              " 'therapeutic',\n",
              " 'number',\n",
              " 'e',\n",
              " 'years',\n",
              " 'action',\n",
              " 'liquid',\n",
              " 'lipitor',\n",
              " 'evaluate',\n",
              " 'healthy',\n",
              " 'dry',\n",
              " 'stiffness',\n",
              " 'scale',\n",
              " 'indomethacin',\n",
              " 'development',\n",
              " 'tremor',\n",
              " 'included',\n",
              " 'medication',\n",
              " 'baseline',\n",
              " 'eyes',\n",
              " 'kidney',\n",
              " 'times',\n",
              " 'oa',\n",
              " 'size',\n",
              " 'type',\n",
              " 'so',\n",
              " 'applied',\n",
              " 'through',\n",
              " 'determined',\n",
              " 'bioavailability',\n",
              " 'discomfort',\n",
              " 'samples',\n",
              " 'carcinoma',\n",
              " 'same',\n",
              " 'rage',\n",
              " 'without',\n",
              " 'osteoarthritis',\n",
              " 'sleepy',\n",
              " 'form',\n",
              " 'dependent',\n",
              " 'tolerability',\n",
              " 'our',\n",
              " 'scores',\n",
              " 'sustained',\n",
              " 'good',\n",
              " 'male',\n",
              " 'cardiac',\n",
              " 'taste',\n",
              " 'related',\n",
              " 'greater',\n",
              " 'hour',\n",
              " 'night',\n",
              " 'better',\n",
              " 'primary',\n",
              " 'polymer',\n",
              " 'demonstrated',\n",
              " 'process',\n",
              " 'coated',\n",
              " 'k',\n",
              " 'ulcer',\n",
              " 'minutes',\n",
              " 'active',\n",
              " 'aim',\n",
              " 'psychotic',\n",
              " 'range',\n",
              " 'revealed',\n",
              " 'makes',\n",
              " 'products',\n",
              " 'cox',\n",
              " 'ii',\n",
              " 'normal',\n",
              " 'wide',\n",
              " 'addition',\n",
              " 'pulmonary',\n",
              " 'per',\n",
              " 'aqueous',\n",
              " 'severe',\n",
              " 'tired',\n",
              " 'formation',\n",
              " 'local',\n",
              " 'sensation',\n",
              " 'alone',\n",
              " 'they',\n",
              " 'na',\n",
              " 'risk',\n",
              " 'infections',\n",
              " 'inhibition',\n",
              " 'matrix',\n",
              " 'very',\n",
              " 'improvement',\n",
              " 'about',\n",
              " 'inhibitor',\n",
              " 'mice',\n",
              " 'dosage',\n",
              " 'vomiting',\n",
              " 'cerebral',\n",
              " 'dermatitis',\n",
              " 'volunteers',\n",
              " 'temperature',\n",
              " 'sweating',\n",
              " 'presence',\n",
              " 'intensity',\n",
              " 'secondary',\n",
              " 'mechanism',\n",
              " 'stomach',\n",
              " 'free',\n",
              " 'numbness',\n",
              " 'area',\n",
              " 'still',\n",
              " 'multiple',\n",
              " 'hypertension',\n",
              " 'randomly',\n",
              " 'middle',\n",
              " 'difficulty',\n",
              " 'agent',\n",
              " 'various',\n",
              " 'treatments',\n",
              " 'cases',\n",
              " 'aggravated',\n",
              " 'experimental',\n",
              " 'ocular',\n",
              " 'suggest',\n",
              " 'systemic',\n",
              " 'exposure',\n",
              " 'rheumatoid',\n",
              " 'indicated',\n",
              " 'whereas',\n",
              " 'daytime',\n",
              " 'permeation',\n",
              " 'evaluation',\n",
              " 'relative',\n",
              " 'cancer',\n",
              " 'shown',\n",
              " 'complex',\n",
              " 'end',\n",
              " 'ibuprofen',\n",
              " 'facial',\n",
              " 'asleep',\n",
              " 'prolonged',\n",
              " 'months',\n",
              " 'dependence',\n",
              " 'dysfunction',\n",
              " 'case',\n",
              " 'trials',\n",
              " 'irritation',\n",
              " 'further',\n",
              " 'conducted',\n",
              " 'animals',\n",
              " 'including',\n",
              " 'de',\n",
              " 'surface',\n",
              " 'early',\n",
              " 'suicidal',\n",
              " 'zombie',\n",
              " 'divided',\n",
              " 'distress',\n",
              " 'female',\n",
              " 'six',\n",
              " 'quality',\n",
              " 'microspheres',\n",
              " 'agents',\n",
              " 'resulted',\n",
              " 'disturbances',\n",
              " 'term',\n",
              " 'onset',\n",
              " 'moderate',\n",
              " 'calcium',\n",
              " 'hallucinations',\n",
              " 'followed',\n",
              " 'determine',\n",
              " 'versus',\n",
              " 'standard',\n",
              " 'analgesia',\n",
              " 'score',\n",
              " 'sleepiness',\n",
              " 'anger',\n",
              " 'profiles',\n",
              " 'elevated',\n",
              " 'death',\n",
              " 'produced',\n",
              " 'hepatic',\n",
              " 'growth',\n",
              " 'nightmares',\n",
              " 'although',\n",
              " 'cm',\n",
              " 'cataract',\n",
              " 'mild',\n",
              " 'rat',\n",
              " 'glucose',\n",
              " 'age',\n",
              " 'diabetic',\n",
              " 'profile',\n",
              " 'tract',\n",
              " 'some',\n",
              " 'need',\n",
              " 'vascular',\n",
              " 'density',\n",
              " 'f',\n",
              " 'anemia',\n",
              " 'result',\n",
              " 'protein',\n",
              " 'alcohol',\n",
              " 'combined',\n",
              " 'should',\n",
              " 'cd',\n",
              " 'pharmacokinetic',\n",
              " 'down',\n",
              " 'damage',\n",
              " 'production',\n",
              " 'urinary',\n",
              " \"'m\",\n",
              " 'fluid',\n",
              " 'painful',\n",
              " 'available',\n",
              " 'depressive',\n",
              " 'overall',\n",
              " 'social',\n",
              " 'peak',\n",
              " 'vision',\n",
              " 'membrane',\n",
              " 'misoprostol',\n",
              " 'vehicle',\n",
              " 'beads',\n",
              " 'content',\n",
              " 'improved',\n",
              " 'enteric',\n",
              " 'solid',\n",
              " 'being',\n",
              " 'evidence',\n",
              " 'vas',\n",
              " 'performance',\n",
              " 'exhaustion',\n",
              " 'amount',\n",
              " 'localised',\n",
              " 'flow',\n",
              " 'rapid',\n",
              " 'dizzy',\n",
              " 'pre',\n",
              " 'aspirin',\n",
              " 'models',\n",
              " 'five',\n",
              " 'lesions',\n",
              " 'pharmaceutical',\n",
              " 'o',\n",
              " 'seizures',\n",
              " 'synthesis',\n",
              " 'naproxen',\n",
              " 'common',\n",
              " 'assessment',\n",
              " 'necrosis',\n",
              " 'long',\n",
              " 'among',\n",
              " 'ci',\n",
              " 'tested',\n",
              " 'toxicity',\n",
              " 'least',\n",
              " 'physical',\n",
              " 'product',\n",
              " 'peripheral',\n",
              " 'tolerated',\n",
              " 'design',\n",
              " 'cross',\n",
              " 'th',\n",
              " 'foot',\n",
              " 'compulsive',\n",
              " 'volume',\n",
              " 'tolerance',\n",
              " 'prostaglandin',\n",
              " 'efficiency',\n",
              " 'reference',\n",
              " 'face',\n",
              " 'year',\n",
              " 'old',\n",
              " 'oedema',\n",
              " 'pruritus',\n",
              " 'creatinine',\n",
              " 'cmax',\n",
              " 'depersonalization',\n",
              " 'patch',\n",
              " 'commercial',\n",
              " 'according',\n",
              " 'review',\n",
              " 'duration',\n",
              " 'thus',\n",
              " 'interaction',\n",
              " 'rofecoxib',\n",
              " 'microg',\n",
              " 'third',\n",
              " 'arrest',\n",
              " 'spasm',\n",
              " 'chest',\n",
              " 'medium',\n",
              " 'major',\n",
              " 'complete',\n",
              " 'superior',\n",
              " 'preparation',\n",
              " 'recorded',\n",
              " 'pellets',\n",
              " 'impairment',\n",
              " 'investigate',\n",
              " 'ventricular',\n",
              " 'achieved',\n",
              " 'then',\n",
              " 'saline',\n",
              " 'cardiovascular',\n",
              " 'emotional',\n",
              " 'participants',\n",
              " 'count',\n",
              " 'because',\n",
              " 'uterine',\n",
              " 'care',\n",
              " 'inhibited',\n",
              " 'considered',\n",
              " 'outcome',\n",
              " 'diffusion',\n",
              " 'beta',\n",
              " 'paracetamol',\n",
              " 'you',\n",
              " 'eating',\n",
              " 'memory',\n",
              " 'caused',\n",
              " 'nauseous',\n",
              " 'flare',\n",
              " 'second',\n",
              " 'examined',\n",
              " 'fever',\n",
              " 'upper',\n",
              " 'detection',\n",
              " 'technique',\n",
              " 'plus',\n",
              " 'delayed',\n",
              " 'injuries',\n",
              " 'determination',\n",
              " 'nervous',\n",
              " 'localized',\n",
              " 'expression',\n",
              " 'comparable',\n",
              " 'increasing',\n",
              " 'comparison',\n",
              " 'novel',\n",
              " 'cold',\n",
              " 'stress',\n",
              " 'phosphate',\n",
              " 'show',\n",
              " 'carried',\n",
              " 'inhibitors',\n",
              " 'extent',\n",
              " 'neoplasm',\n",
              " 'asthma',\n",
              " 'bite',\n",
              " 'degrees',\n",
              " 'diabetes',\n",
              " 'receiving',\n",
              " 'affect',\n",
              " 'withdrawals',\n",
              " 'every',\n",
              " 'small',\n",
              " 'once',\n",
              " 'positive',\n",
              " 'rates',\n",
              " 'preparations',\n",
              " 'responses',\n",
              " 'hunger',\n",
              " 'maximum',\n",
              " 'partial',\n",
              " 'tooth',\n",
              " 'findings',\n",
              " 'ache',\n",
              " 'degree',\n",
              " 'possible',\n",
              " 'influence',\n",
              " 'buffer',\n",
              " 'indicate',\n",
              " 'if',\n",
              " 'erythema',\n",
              " 'interactions',\n",
              " 'max',\n",
              " 'shoulder',\n",
              " 'structure',\n",
              " 'index',\n",
              " 'lack',\n",
              " 'even',\n",
              " 'obsessive',\n",
              " 'capsules',\n",
              " 'twice',\n",
              " 'intoxication',\n",
              " 'lung',\n",
              " 'solubility',\n",
              " 'provide',\n",
              " 'loaded',\n",
              " 'characterized',\n",
              " 'back',\n",
              " 'activities',\n",
              " 'analyzed',\n",
              " 'solutions',\n",
              " 'clearance',\n",
              " 'drowsy',\n",
              " 'value',\n",
              " 'pge',\n",
              " 'vivid',\n",
              " 'adderall',\n",
              " 'transdermal',\n",
              " 'r',\n",
              " 'factor',\n",
              " 'cream',\n",
              " 'dic',\n",
              " 'methods',\n",
              " 'intestinal',\n",
              " 'assess',\n",
              " 'antiinflammatory',\n",
              " 'forms',\n",
              " 'hplc',\n",
              " 'specific',\n",
              " 'global',\n",
              " 'food',\n",
              " 'your',\n",
              " 'episode',\n",
              " 'incidence',\n",
              " 'work',\n",
              " 'lipoprotein',\n",
              " 'examination',\n",
              " 'abuse',\n",
              " 'several',\n",
              " 'therefore',\n",
              " 'capsule',\n",
              " 'ketorolac',\n",
              " 'lesion',\n",
              " 'malignant',\n",
              " 'life',\n",
              " 'ldl',\n",
              " 'fear',\n",
              " 'block',\n",
              " 'diet',\n",
              " 'drops',\n",
              " 'will',\n",
              " 'mass',\n",
              " 'intramuscular',\n",
              " 'hp',\n",
              " 'il',\n",
              " 'health',\n",
              " 'medications',\n",
              " 'factors',\n",
              " 'sweat',\n",
              " 'impaired',\n",
              " 'lipid',\n",
              " 'cramps',\n",
              " 'crazy',\n",
              " 'euphoric',\n",
              " 'eudragit',\n",
              " 'sensitive',\n",
              " 'hepatitis',\n",
              " 'provided',\n",
              " 'cambia',\n",
              " 'cutaneous',\n",
              " 'highly',\n",
              " 'research',\n",
              " 'known',\n",
              " 'urticaria',\n",
              " 'alpha',\n",
              " 'tissues',\n",
              " 'hand',\n",
              " 'nm',\n",
              " 'collected',\n",
              " 'short',\n",
              " 'whether',\n",
              " 'bulimia',\n",
              " 'microm',\n",
              " 'additional',\n",
              " 'much',\n",
              " 'media',\n",
              " 'bleeding',\n",
              " 'important',\n",
              " 'made',\n",
              " 'modified',\n",
              " 'collagen',\n",
              " 'genital',\n",
              " 'obstruction',\n",
              " 'coronary',\n",
              " 'dpsgc',\n",
              " 'neoplasms',\n",
              " 'current',\n",
              " 'clinically',\n",
              " 'do',\n",
              " 'terms',\n",
              " 'enzyme',\n",
              " 'cyclooxygenase',\n",
              " 'extraction',\n",
              " 'against',\n",
              " 'arterial',\n",
              " 'way',\n",
              " 'soft',\n",
              " 'rabbits',\n",
              " 'steroid',\n",
              " 'central',\n",
              " 'enhanced',\n",
              " 'orally',\n",
              " 'crossover',\n",
              " 'consciousness',\n",
              " 'systems',\n",
              " 'fractures',\n",
              " 'electrocardiogram',\n",
              " 'nerve',\n",
              " 'taking',\n",
              " 'tongue',\n",
              " 'simple',\n",
              " 'chitosan',\n",
              " 'nasal',\n",
              " 'artery',\n",
              " 'lightheadedness',\n",
              " 'hurt',\n",
              " 'characteristics',\n",
              " 'open',\n",
              " 'right',\n",
              " 'pneumonia',\n",
              " 'serious',\n",
              " 'does',\n",
              " 'faster',\n",
              " 'celecoxib',\n",
              " 'sr',\n",
              " 'absence',\n",
              " 'tingling',\n",
              " 'percentage',\n",
              " 'required',\n",
              " 'get',\n",
              " 'released',\n",
              " 'reduce',\n",
              " 'pattern',\n",
              " 'libido',\n",
              " 'symptom',\n",
              " 'ability',\n",
              " 'via',\n",
              " 'cause',\n",
              " 'molecular',\n",
              " 'candidiasis',\n",
              " 'sneezing',\n",
              " 'useful',\n",
              " 'alternative',\n",
              " 'co',\n",
              " 'ophthalmic',\n",
              " 'experiments',\n",
              " 'laser',\n",
              " 'tenderness',\n",
              " 'limb',\n",
              " 'objective',\n",
              " 'ear',\n",
              " 'exhibited',\n",
              " 'hr',\n",
              " 'arthropod',\n",
              " 'binding',\n",
              " 'stability',\n",
              " 'altered',\n",
              " 'role',\n",
              " 'point',\n",
              " 'peg',\n",
              " 'hungry',\n",
              " 'penetration',\n",
              " 'diarrhea',\n",
              " 'tests',\n",
              " 'oil',\n",
              " 'dfs',\n",
              " 'dcf',\n",
              " 'average',\n",
              " 'kinetics',\n",
              " 'generalized',\n",
              " 'animal',\n",
              " 'scanning',\n",
              " 'movement',\n",
              " 'status',\n",
              " 'variables',\n",
              " 'gi',\n",
              " 'aged',\n",
              " 'headaches',\n",
              " 'sexual',\n",
              " 'chloride',\n",
              " 'since',\n",
              " 'suggested',\n",
              " 'interest',\n",
              " 'receive',\n",
              " 'substance',\n",
              " 'thirst',\n",
              " 'intravenous',\n",
              " 'prior',\n",
              " 'criteria',\n",
              " 'general',\n",
              " 'tendency',\n",
              " 'many',\n",
              " 'reducing',\n",
              " 'erection',\n",
              " 'analogue',\n",
              " 'overdose',\n",
              " 'alginate',\n",
              " 'insufficiency',\n",
              " 'traumatic',\n",
              " 'excessive',\n",
              " 'particle',\n",
              " 'microscopy',\n",
              " 'randomised',\n",
              " 'fasting',\n",
              " 'follow',\n",
              " 'analgesics',\n",
              " 'bacterial',\n",
              " 'management',\n",
              " 'arthrotec',\n",
              " 'allergy',\n",
              " 'hpmc',\n",
              " 'tmax',\n",
              " 'fracture',\n",
              " 'metabolism',\n",
              " 'activation',\n",
              " 'mouth',\n",
              " 'tumor',\n",
              " 'seen',\n",
              " 'infusion',\n",
              " 'adult',\n",
              " 'colitis',\n",
              " 'individual',\n",
              " 'fast',\n",
              " 'ak',\n",
              " 'completely',\n",
              " 'personality',\n",
              " 'injected',\n",
              " 'nail',\n",
              " 'information',\n",
              " 'women',\n",
              " 'spectroscopy',\n",
              " 'large',\n",
              " 'independent',\n",
              " 'taken',\n",
              " 'across',\n",
              " 'confirmed',\n",
              " 'electron',\n",
              " 'sd',\n",
              " 'assay',\n",
              " 'metastatic',\n",
              " 'treat',\n",
              " 'chemical',\n",
              " 'respect',\n",
              " 'vaginal',\n",
              " ...]"
            ]
          },
          "metadata": {
            "tags": []
          },
          "execution_count": 20
        }
      ]
    },
    {
      "cell_type": "code",
      "metadata": {
        "id": "yPWr03mls3VT",
        "outputId": "48f70b43-6a76-4e07-8046-dc91eb1dbb5a",
        "colab": {
          "base_uri": "https://localhost:8080/",
          "height": 17
        }
      },
      "source": [
        "model_path = path/'models'\n",
        "model_path.mkdir(exist_ok=True)\n",
        "url = 'http://files.fast.ai/models/wt103_v1/'\n",
        "download_url(f'{url}lstm_wt103.pth', model_path/'lstm_wt103.pth')\n",
        "download_url(f'{url}itos_wt103.pkl', model_path/'itos_wt103.pkl')"
      ],
      "execution_count": 21,
      "outputs": [
        {
          "output_type": "display_data",
          "data": {
            "text/html": [
              ""
            ],
            "text/plain": [
              "<IPython.core.display.HTML object>"
            ]
          },
          "metadata": {
            "tags": []
          }
        },
        {
          "output_type": "display_data",
          "data": {
            "text/html": [
              ""
            ],
            "text/plain": [
              "<IPython.core.display.HTML object>"
            ]
          },
          "metadata": {
            "tags": []
          }
        }
      ]
    },
    {
      "cell_type": "code",
      "metadata": {
        "id": "JRzvWg8RtGGr",
        "outputId": "aef3c967-046c-46e7-fda3-69feda6390ef",
        "colab": {
          "base_uri": "https://localhost:8080/",
          "height": 34
        }
      },
      "source": [
        "learn = language_model_learner(data_lm, AWD_LSTM, drop_mult=0.5)"
      ],
      "execution_count": 22,
      "outputs": [
        {
          "output_type": "stream",
          "text": [
            "Downloading https://s3.amazonaws.com/fast-ai-modelzoo/wt103-fwd.tgz\n"
          ],
          "name": "stdout"
        },
        {
          "output_type": "display_data",
          "data": {
            "text/html": [
              ""
            ],
            "text/plain": [
              "<IPython.core.display.HTML object>"
            ]
          },
          "metadata": {
            "tags": []
          }
        }
      ]
    },
    {
      "cell_type": "code",
      "metadata": {
        "id": "xKK7GeBev7Xn",
        "outputId": "2045e42f-5442-4f51-892c-c1ea37ed89f0",
        "colab": {
          "base_uri": "https://localhost:8080/",
          "height": 80
        }
      },
      "source": [
        "learn.fit_one_cycle(1, 1e-2)"
      ],
      "execution_count": 23,
      "outputs": [
        {
          "output_type": "display_data",
          "data": {
            "text/html": [
              "<table border=\"1\" class=\"dataframe\">\n",
              "  <thead>\n",
              "    <tr style=\"text-align: left;\">\n",
              "      <th>epoch</th>\n",
              "      <th>train_loss</th>\n",
              "      <th>valid_loss</th>\n",
              "      <th>accuracy</th>\n",
              "      <th>time</th>\n",
              "    </tr>\n",
              "  </thead>\n",
              "  <tbody>\n",
              "    <tr>\n",
              "      <td>0</td>\n",
              "      <td>4.845716</td>\n",
              "      <td>4.197468</td>\n",
              "      <td>0.348738</td>\n",
              "      <td>17:09</td>\n",
              "    </tr>\n",
              "  </tbody>\n",
              "</table>"
            ],
            "text/plain": [
              "<IPython.core.display.HTML object>"
            ]
          },
          "metadata": {
            "tags": []
          }
        }
      ]
    },
    {
      "cell_type": "code",
      "metadata": {
        "id": "iB7rHGQCwd12",
        "outputId": "de11028c-f65b-4aa8-c323-493a9a3d316a",
        "colab": {
          "base_uri": "https://localhost:8080/",
          "height": 80
        }
      },
      "source": [
        "learn.fit_one_cycle(1, 1e-2)"
      ],
      "execution_count": 24,
      "outputs": [
        {
          "output_type": "display_data",
          "data": {
            "text/html": [
              "<table border=\"1\" class=\"dataframe\">\n",
              "  <thead>\n",
              "    <tr style=\"text-align: left;\">\n",
              "      <th>epoch</th>\n",
              "      <th>train_loss</th>\n",
              "      <th>valid_loss</th>\n",
              "      <th>accuracy</th>\n",
              "      <th>time</th>\n",
              "    </tr>\n",
              "  </thead>\n",
              "  <tbody>\n",
              "    <tr>\n",
              "      <td>0</td>\n",
              "      <td>4.021595</td>\n",
              "      <td>3.799591</td>\n",
              "      <td>0.384967</td>\n",
              "      <td>17:08</td>\n",
              "    </tr>\n",
              "  </tbody>\n",
              "</table>"
            ],
            "text/plain": [
              "<IPython.core.display.HTML object>"
            ]
          },
          "metadata": {
            "tags": []
          }
        }
      ]
    },
    {
      "cell_type": "code",
      "metadata": {
        "id": "_BnSuAeCwkBe",
        "outputId": "2c041f82-f296-42f9-9ce9-79e0b40dc8fe",
        "colab": {
          "base_uri": "https://localhost:8080/",
          "height": 80
        }
      },
      "source": [
        "learn.fit_one_cycle(1, 1e-3)"
      ],
      "execution_count": 25,
      "outputs": [
        {
          "output_type": "display_data",
          "data": {
            "text/html": [
              "<table border=\"1\" class=\"dataframe\">\n",
              "  <thead>\n",
              "    <tr style=\"text-align: left;\">\n",
              "      <th>epoch</th>\n",
              "      <th>train_loss</th>\n",
              "      <th>valid_loss</th>\n",
              "      <th>accuracy</th>\n",
              "      <th>time</th>\n",
              "    </tr>\n",
              "  </thead>\n",
              "  <tbody>\n",
              "    <tr>\n",
              "      <td>0</td>\n",
              "      <td>3.756328</td>\n",
              "      <td>3.754748</td>\n",
              "      <td>0.389088</td>\n",
              "      <td>17:19</td>\n",
              "    </tr>\n",
              "  </tbody>\n",
              "</table>"
            ],
            "text/plain": [
              "<IPython.core.display.HTML object>"
            ]
          },
          "metadata": {
            "tags": []
          }
        }
      ]
    },
    {
      "cell_type": "code",
      "metadata": {
        "id": "MuTm-RFjwrEX",
        "outputId": "fe552cd4-dc69-43fc-bc43-76c8769de052",
        "colab": {
          "base_uri": "https://localhost:8080/",
          "height": 80
        }
      },
      "source": [
        "learn.fit_one_cycle(1, 1e-3)"
      ],
      "execution_count": 26,
      "outputs": [
        {
          "output_type": "display_data",
          "data": {
            "text/html": [
              "<table border=\"1\" class=\"dataframe\">\n",
              "  <thead>\n",
              "    <tr style=\"text-align: left;\">\n",
              "      <th>epoch</th>\n",
              "      <th>train_loss</th>\n",
              "      <th>valid_loss</th>\n",
              "      <th>accuracy</th>\n",
              "      <th>time</th>\n",
              "    </tr>\n",
              "  </thead>\n",
              "  <tbody>\n",
              "    <tr>\n",
              "      <td>0</td>\n",
              "      <td>3.702085</td>\n",
              "      <td>3.722140</td>\n",
              "      <td>0.392067</td>\n",
              "      <td>17:02</td>\n",
              "    </tr>\n",
              "  </tbody>\n",
              "</table>"
            ],
            "text/plain": [
              "<IPython.core.display.HTML object>"
            ]
          },
          "metadata": {
            "tags": []
          }
        }
      ]
    },
    {
      "cell_type": "code",
      "metadata": {
        "id": "1Er2ExO8wr7Y"
      },
      "source": [
        "learn.save_encoder('TwADR_pubmed_fold01_first')"
      ],
      "execution_count": 27,
      "outputs": []
    },
    {
      "cell_type": "code",
      "metadata": {
        "id": "z52cZs2qwvad",
        "outputId": "8fb279c3-0ab9-4bc7-a1cd-6c151ddd8d14",
        "colab": {
          "base_uri": "https://localhost:8080/",
          "height": 80
        }
      },
      "source": [
        "learn = text_classifier_learner(data_clas,AWD_LSTM, drop_mult=0.5)\n",
        "learn.load_encoder('TwADR_pubmed_fold01_first')\n",
        "learn.fit_one_cycle(1, 1e-2)"
      ],
      "execution_count": 28,
      "outputs": [
        {
          "output_type": "display_data",
          "data": {
            "text/html": [
              "<table border=\"1\" class=\"dataframe\">\n",
              "  <thead>\n",
              "    <tr style=\"text-align: left;\">\n",
              "      <th>epoch</th>\n",
              "      <th>train_loss</th>\n",
              "      <th>valid_loss</th>\n",
              "      <th>accuracy</th>\n",
              "      <th>time</th>\n",
              "    </tr>\n",
              "  </thead>\n",
              "  <tbody>\n",
              "    <tr>\n",
              "      <td>0</td>\n",
              "      <td>7.190390</td>\n",
              "      <td>6.330568</td>\n",
              "      <td>0.122807</td>\n",
              "      <td>00:25</td>\n",
              "    </tr>\n",
              "  </tbody>\n",
              "</table>"
            ],
            "text/plain": [
              "<IPython.core.display.HTML object>"
            ]
          },
          "metadata": {
            "tags": []
          }
        }
      ]
    },
    {
      "cell_type": "code",
      "metadata": {
        "id": "ImwQP1PJwzxd",
        "outputId": "00aee3cf-261f-453c-85dc-d77cc47db1a2",
        "colab": {
          "base_uri": "https://localhost:8080/",
          "height": 80
        }
      },
      "source": [
        "learn.freeze_to(-2)\n",
        "learn.fit_one_cycle(1, slice(5e-3/2., 5e-3))"
      ],
      "execution_count": 29,
      "outputs": [
        {
          "output_type": "display_data",
          "data": {
            "text/html": [
              "<table border=\"1\" class=\"dataframe\">\n",
              "  <thead>\n",
              "    <tr style=\"text-align: left;\">\n",
              "      <th>epoch</th>\n",
              "      <th>train_loss</th>\n",
              "      <th>valid_loss</th>\n",
              "      <th>accuracy</th>\n",
              "      <th>time</th>\n",
              "    </tr>\n",
              "  </thead>\n",
              "  <tbody>\n",
              "    <tr>\n",
              "      <td>0</td>\n",
              "      <td>6.199018</td>\n",
              "      <td>4.904980</td>\n",
              "      <td>0.131579</td>\n",
              "      <td>00:28</td>\n",
              "    </tr>\n",
              "  </tbody>\n",
              "</table>"
            ],
            "text/plain": [
              "<IPython.core.display.HTML object>"
            ]
          },
          "metadata": {
            "tags": []
          }
        }
      ]
    },
    {
      "cell_type": "code",
      "metadata": {
        "id": "Owff_BJXw53u",
        "outputId": "03dc6721-ea50-47b4-c33a-0ce8f2b25a34",
        "colab": {
          "base_uri": "https://localhost:8080/",
          "height": 80
        }
      },
      "source": [
        "learn.unfreeze()\n",
        "learn.fit_one_cycle(1, slice(2e-3/100, 2e-3))"
      ],
      "execution_count": 30,
      "outputs": [
        {
          "output_type": "display_data",
          "data": {
            "text/html": [
              "<table border=\"1\" class=\"dataframe\">\n",
              "  <thead>\n",
              "    <tr style=\"text-align: left;\">\n",
              "      <th>epoch</th>\n",
              "      <th>train_loss</th>\n",
              "      <th>valid_loss</th>\n",
              "      <th>accuracy</th>\n",
              "      <th>time</th>\n",
              "    </tr>\n",
              "  </thead>\n",
              "  <tbody>\n",
              "    <tr>\n",
              "      <td>0</td>\n",
              "      <td>5.753134</td>\n",
              "      <td>4.636028</td>\n",
              "      <td>0.175439</td>\n",
              "      <td>01:03</td>\n",
              "    </tr>\n",
              "  </tbody>\n",
              "</table>"
            ],
            "text/plain": [
              "<IPython.core.display.HTML object>"
            ]
          },
          "metadata": {
            "tags": []
          }
        }
      ]
    },
    {
      "cell_type": "code",
      "metadata": {
        "id": "lqAyu56V8Waq",
        "outputId": "ee4ef812-3936-4130-fd17-52bed417dfd7",
        "colab": {
          "base_uri": "https://localhost:8080/",
          "height": 111
        }
      },
      "source": [
        "learn.fit_one_cycle(2, slice(2e-3/100, 2e-3))"
      ],
      "execution_count": 31,
      "outputs": [
        {
          "output_type": "display_data",
          "data": {
            "text/html": [
              "<table border=\"1\" class=\"dataframe\">\n",
              "  <thead>\n",
              "    <tr style=\"text-align: left;\">\n",
              "      <th>epoch</th>\n",
              "      <th>train_loss</th>\n",
              "      <th>valid_loss</th>\n",
              "      <th>accuracy</th>\n",
              "      <th>time</th>\n",
              "    </tr>\n",
              "  </thead>\n",
              "  <tbody>\n",
              "    <tr>\n",
              "      <td>0</td>\n",
              "      <td>5.417245</td>\n",
              "      <td>4.232177</td>\n",
              "      <td>0.219298</td>\n",
              "      <td>01:09</td>\n",
              "    </tr>\n",
              "    <tr>\n",
              "      <td>1</td>\n",
              "      <td>5.221195</td>\n",
              "      <td>4.121685</td>\n",
              "      <td>0.219298</td>\n",
              "      <td>01:06</td>\n",
              "    </tr>\n",
              "  </tbody>\n",
              "</table>"
            ],
            "text/plain": [
              "<IPython.core.display.HTML object>"
            ]
          },
          "metadata": {
            "tags": []
          }
        }
      ]
    },
    {
      "cell_type": "code",
      "metadata": {
        "id": "a7I1xMRp8bUd",
        "outputId": "9b0c9fe3-bcba-47dd-e186-6711b868fc6f",
        "colab": {
          "base_uri": "https://localhost:8080/",
          "height": 111
        }
      },
      "source": [
        "learn.fit_one_cycle(2, slice(2e-3/100, 2e-3))"
      ],
      "execution_count": 32,
      "outputs": [
        {
          "output_type": "display_data",
          "data": {
            "text/html": [
              "<table border=\"1\" class=\"dataframe\">\n",
              "  <thead>\n",
              "    <tr style=\"text-align: left;\">\n",
              "      <th>epoch</th>\n",
              "      <th>train_loss</th>\n",
              "      <th>valid_loss</th>\n",
              "      <th>accuracy</th>\n",
              "      <th>time</th>\n",
              "    </tr>\n",
              "  </thead>\n",
              "  <tbody>\n",
              "    <tr>\n",
              "      <td>0</td>\n",
              "      <td>4.913804</td>\n",
              "      <td>3.911737</td>\n",
              "      <td>0.228070</td>\n",
              "      <td>01:07</td>\n",
              "    </tr>\n",
              "    <tr>\n",
              "      <td>1</td>\n",
              "      <td>4.758351</td>\n",
              "      <td>3.812037</td>\n",
              "      <td>0.236842</td>\n",
              "      <td>01:04</td>\n",
              "    </tr>\n",
              "  </tbody>\n",
              "</table>"
            ],
            "text/plain": [
              "<IPython.core.display.HTML object>"
            ]
          },
          "metadata": {
            "tags": []
          }
        }
      ]
    },
    {
      "cell_type": "code",
      "metadata": {
        "id": "UAnti-XmGVfO",
        "outputId": "3430021f-e1ec-45b2-8516-da9e5ad25e58",
        "colab": {
          "base_uri": "https://localhost:8080/",
          "height": 111
        }
      },
      "source": [
        "learn.fit_one_cycle(2, slice(2e-3/100, 2e-3))"
      ],
      "execution_count": 33,
      "outputs": [
        {
          "output_type": "display_data",
          "data": {
            "text/html": [
              "<table border=\"1\" class=\"dataframe\">\n",
              "  <thead>\n",
              "    <tr style=\"text-align: left;\">\n",
              "      <th>epoch</th>\n",
              "      <th>train_loss</th>\n",
              "      <th>valid_loss</th>\n",
              "      <th>accuracy</th>\n",
              "      <th>time</th>\n",
              "    </tr>\n",
              "  </thead>\n",
              "  <tbody>\n",
              "    <tr>\n",
              "      <td>0</td>\n",
              "      <td>4.555789</td>\n",
              "      <td>3.671383</td>\n",
              "      <td>0.263158</td>\n",
              "      <td>01:03</td>\n",
              "    </tr>\n",
              "    <tr>\n",
              "      <td>1</td>\n",
              "      <td>4.383978</td>\n",
              "      <td>3.538349</td>\n",
              "      <td>0.298246</td>\n",
              "      <td>01:11</td>\n",
              "    </tr>\n",
              "  </tbody>\n",
              "</table>"
            ],
            "text/plain": [
              "<IPython.core.display.HTML object>"
            ]
          },
          "metadata": {
            "tags": []
          }
        }
      ]
    },
    {
      "cell_type": "code",
      "metadata": {
        "id": "bIft7W25GwSu",
        "outputId": "13858fc1-af02-4101-dc5b-7cc4f4963b1d",
        "colab": {
          "base_uri": "https://localhost:8080/",
          "height": 111
        }
      },
      "source": [
        "learn.fit_one_cycle(2, slice(2e-3/100, 2e-3))"
      ],
      "execution_count": 34,
      "outputs": [
        {
          "output_type": "display_data",
          "data": {
            "text/html": [
              "<table border=\"1\" class=\"dataframe\">\n",
              "  <thead>\n",
              "    <tr style=\"text-align: left;\">\n",
              "      <th>epoch</th>\n",
              "      <th>train_loss</th>\n",
              "      <th>valid_loss</th>\n",
              "      <th>accuracy</th>\n",
              "      <th>time</th>\n",
              "    </tr>\n",
              "  </thead>\n",
              "  <tbody>\n",
              "    <tr>\n",
              "      <td>0</td>\n",
              "      <td>4.164450</td>\n",
              "      <td>3.422315</td>\n",
              "      <td>0.315789</td>\n",
              "      <td>01:05</td>\n",
              "    </tr>\n",
              "    <tr>\n",
              "      <td>1</td>\n",
              "      <td>4.025812</td>\n",
              "      <td>3.313847</td>\n",
              "      <td>0.324561</td>\n",
              "      <td>01:08</td>\n",
              "    </tr>\n",
              "  </tbody>\n",
              "</table>"
            ],
            "text/plain": [
              "<IPython.core.display.HTML object>"
            ]
          },
          "metadata": {
            "tags": []
          }
        }
      ]
    },
    {
      "cell_type": "code",
      "metadata": {
        "id": "EEHszVRvGyFt",
        "outputId": "8ffce898-eb72-41bc-c188-c17e3b3827cb",
        "colab": {
          "base_uri": "https://localhost:8080/",
          "height": 111
        }
      },
      "source": [
        "learn.fit_one_cycle(2, slice(2e-3/100, 2e-3))"
      ],
      "execution_count": 35,
      "outputs": [
        {
          "output_type": "display_data",
          "data": {
            "text/html": [
              "<table border=\"1\" class=\"dataframe\">\n",
              "  <thead>\n",
              "    <tr style=\"text-align: left;\">\n",
              "      <th>epoch</th>\n",
              "      <th>train_loss</th>\n",
              "      <th>valid_loss</th>\n",
              "      <th>accuracy</th>\n",
              "      <th>time</th>\n",
              "    </tr>\n",
              "  </thead>\n",
              "  <tbody>\n",
              "    <tr>\n",
              "      <td>0</td>\n",
              "      <td>3.853751</td>\n",
              "      <td>3.218666</td>\n",
              "      <td>0.342105</td>\n",
              "      <td>01:07</td>\n",
              "    </tr>\n",
              "    <tr>\n",
              "      <td>1</td>\n",
              "      <td>3.728204</td>\n",
              "      <td>3.183496</td>\n",
              "      <td>0.315789</td>\n",
              "      <td>01:08</td>\n",
              "    </tr>\n",
              "  </tbody>\n",
              "</table>"
            ],
            "text/plain": [
              "<IPython.core.display.HTML object>"
            ]
          },
          "metadata": {
            "tags": []
          }
        }
      ]
    },
    {
      "cell_type": "code",
      "metadata": {
        "id": "XsHfrhCHG3dN",
        "outputId": "7661440a-7e46-44de-93b4-1ca4b46f9639",
        "colab": {
          "base_uri": "https://localhost:8080/",
          "height": 173
        }
      },
      "source": [
        "learn.fit_one_cycle(4, slice(2e-3/100, 2e-3))"
      ],
      "execution_count": 36,
      "outputs": [
        {
          "output_type": "display_data",
          "data": {
            "text/html": [
              "<table border=\"1\" class=\"dataframe\">\n",
              "  <thead>\n",
              "    <tr style=\"text-align: left;\">\n",
              "      <th>epoch</th>\n",
              "      <th>train_loss</th>\n",
              "      <th>valid_loss</th>\n",
              "      <th>accuracy</th>\n",
              "      <th>time</th>\n",
              "    </tr>\n",
              "  </thead>\n",
              "  <tbody>\n",
              "    <tr>\n",
              "      <td>0</td>\n",
              "      <td>3.545607</td>\n",
              "      <td>3.135198</td>\n",
              "      <td>0.342105</td>\n",
              "      <td>01:07</td>\n",
              "    </tr>\n",
              "    <tr>\n",
              "      <td>1</td>\n",
              "      <td>3.482176</td>\n",
              "      <td>3.037573</td>\n",
              "      <td>0.377193</td>\n",
              "      <td>01:03</td>\n",
              "    </tr>\n",
              "    <tr>\n",
              "      <td>2</td>\n",
              "      <td>3.302882</td>\n",
              "      <td>2.936446</td>\n",
              "      <td>0.412281</td>\n",
              "      <td>01:10</td>\n",
              "    </tr>\n",
              "    <tr>\n",
              "      <td>3</td>\n",
              "      <td>3.122818</td>\n",
              "      <td>2.914431</td>\n",
              "      <td>0.385965</td>\n",
              "      <td>01:03</td>\n",
              "    </tr>\n",
              "  </tbody>\n",
              "</table>"
            ],
            "text/plain": [
              "<IPython.core.display.HTML object>"
            ]
          },
          "metadata": {
            "tags": []
          }
        }
      ]
    },
    {
      "cell_type": "code",
      "metadata": {
        "id": "0Zsd99isb9EQ",
        "outputId": "775a5c38-4f90-4ac9-9820-5a889dc75192",
        "colab": {
          "base_uri": "https://localhost:8080/",
          "height": 173
        }
      },
      "source": [
        "learn.fit_one_cycle(4, slice(2e-3/100, 2e-3))"
      ],
      "execution_count": 37,
      "outputs": [
        {
          "output_type": "display_data",
          "data": {
            "text/html": [
              "<table border=\"1\" class=\"dataframe\">\n",
              "  <thead>\n",
              "    <tr style=\"text-align: left;\">\n",
              "      <th>epoch</th>\n",
              "      <th>train_loss</th>\n",
              "      <th>valid_loss</th>\n",
              "      <th>accuracy</th>\n",
              "      <th>time</th>\n",
              "    </tr>\n",
              "  </thead>\n",
              "  <tbody>\n",
              "    <tr>\n",
              "      <td>0</td>\n",
              "      <td>2.919841</td>\n",
              "      <td>2.879398</td>\n",
              "      <td>0.385965</td>\n",
              "      <td>01:09</td>\n",
              "    </tr>\n",
              "    <tr>\n",
              "      <td>1</td>\n",
              "      <td>2.905963</td>\n",
              "      <td>2.885673</td>\n",
              "      <td>0.403509</td>\n",
              "      <td>01:04</td>\n",
              "    </tr>\n",
              "    <tr>\n",
              "      <td>2</td>\n",
              "      <td>2.743991</td>\n",
              "      <td>2.837632</td>\n",
              "      <td>0.421053</td>\n",
              "      <td>01:06</td>\n",
              "    </tr>\n",
              "    <tr>\n",
              "      <td>3</td>\n",
              "      <td>2.565166</td>\n",
              "      <td>2.806487</td>\n",
              "      <td>0.412281</td>\n",
              "      <td>01:09</td>\n",
              "    </tr>\n",
              "  </tbody>\n",
              "</table>"
            ],
            "text/plain": [
              "<IPython.core.display.HTML object>"
            ]
          },
          "metadata": {
            "tags": []
          }
        }
      ]
    },
    {
      "cell_type": "code",
      "metadata": {
        "id": "atNWNKDFPbuI",
        "outputId": "266f092a-772c-4934-de12-5d3719b65fee",
        "colab": {
          "base_uri": "https://localhost:8080/",
          "height": 173
        }
      },
      "source": [
        "learn.fit_one_cycle(4, slice(2e-3/100, 2e-3))"
      ],
      "execution_count": 38,
      "outputs": [
        {
          "output_type": "display_data",
          "data": {
            "text/html": [
              "<table border=\"1\" class=\"dataframe\">\n",
              "  <thead>\n",
              "    <tr style=\"text-align: left;\">\n",
              "      <th>epoch</th>\n",
              "      <th>train_loss</th>\n",
              "      <th>valid_loss</th>\n",
              "      <th>accuracy</th>\n",
              "      <th>time</th>\n",
              "    </tr>\n",
              "  </thead>\n",
              "  <tbody>\n",
              "    <tr>\n",
              "      <td>0</td>\n",
              "      <td>2.378504</td>\n",
              "      <td>2.807933</td>\n",
              "      <td>0.429825</td>\n",
              "      <td>01:09</td>\n",
              "    </tr>\n",
              "    <tr>\n",
              "      <td>1</td>\n",
              "      <td>2.359831</td>\n",
              "      <td>2.883749</td>\n",
              "      <td>0.377193</td>\n",
              "      <td>01:04</td>\n",
              "    </tr>\n",
              "    <tr>\n",
              "      <td>2</td>\n",
              "      <td>2.190832</td>\n",
              "      <td>2.835913</td>\n",
              "      <td>0.368421</td>\n",
              "      <td>01:04</td>\n",
              "    </tr>\n",
              "    <tr>\n",
              "      <td>3</td>\n",
              "      <td>2.049857</td>\n",
              "      <td>2.797492</td>\n",
              "      <td>0.412281</td>\n",
              "      <td>01:09</td>\n",
              "    </tr>\n",
              "  </tbody>\n",
              "</table>"
            ],
            "text/plain": [
              "<IPython.core.display.HTML object>"
            ]
          },
          "metadata": {
            "tags": []
          }
        }
      ]
    },
    {
      "cell_type": "code",
      "metadata": {
        "id": "rKrBTZ0T1uVA",
        "outputId": "1dc1c105-a6f4-436c-c639-0292e0806c50",
        "colab": {
          "base_uri": "https://localhost:8080/",
          "height": 173
        }
      },
      "source": [
        "learn.fit_one_cycle(4, slice(2e-3/100, 2e-3))"
      ],
      "execution_count": 39,
      "outputs": [
        {
          "output_type": "display_data",
          "data": {
            "text/html": [
              "<table border=\"1\" class=\"dataframe\">\n",
              "  <thead>\n",
              "    <tr style=\"text-align: left;\">\n",
              "      <th>epoch</th>\n",
              "      <th>train_loss</th>\n",
              "      <th>valid_loss</th>\n",
              "      <th>accuracy</th>\n",
              "      <th>time</th>\n",
              "    </tr>\n",
              "  </thead>\n",
              "  <tbody>\n",
              "    <tr>\n",
              "      <td>0</td>\n",
              "      <td>1.913441</td>\n",
              "      <td>2.833671</td>\n",
              "      <td>0.412281</td>\n",
              "      <td>01:10</td>\n",
              "    </tr>\n",
              "    <tr>\n",
              "      <td>1</td>\n",
              "      <td>1.898070</td>\n",
              "      <td>2.839310</td>\n",
              "      <td>0.421053</td>\n",
              "      <td>01:09</td>\n",
              "    </tr>\n",
              "    <tr>\n",
              "      <td>2</td>\n",
              "      <td>1.737511</td>\n",
              "      <td>2.764351</td>\n",
              "      <td>0.403509</td>\n",
              "      <td>01:04</td>\n",
              "    </tr>\n",
              "    <tr>\n",
              "      <td>3</td>\n",
              "      <td>1.600939</td>\n",
              "      <td>2.751152</td>\n",
              "      <td>0.403509</td>\n",
              "      <td>01:10</td>\n",
              "    </tr>\n",
              "  </tbody>\n",
              "</table>"
            ],
            "text/plain": [
              "<IPython.core.display.HTML object>"
            ]
          },
          "metadata": {
            "tags": []
          }
        }
      ]
    },
    {
      "cell_type": "code",
      "metadata": {
        "id": "ajQC6WDg1yA9",
        "outputId": "75e55f4e-7ec1-4160-a284-91b67399f803",
        "colab": {
          "base_uri": "https://localhost:8080/",
          "height": 173
        }
      },
      "source": [
        "learn.fit_one_cycle(4, slice(2e-3/100, 2e-3))"
      ],
      "execution_count": 40,
      "outputs": [
        {
          "output_type": "display_data",
          "data": {
            "text/html": [
              "<table border=\"1\" class=\"dataframe\">\n",
              "  <thead>\n",
              "    <tr style=\"text-align: left;\">\n",
              "      <th>epoch</th>\n",
              "      <th>train_loss</th>\n",
              "      <th>valid_loss</th>\n",
              "      <th>accuracy</th>\n",
              "      <th>time</th>\n",
              "    </tr>\n",
              "  </thead>\n",
              "  <tbody>\n",
              "    <tr>\n",
              "      <td>0</td>\n",
              "      <td>1.477228</td>\n",
              "      <td>2.809476</td>\n",
              "      <td>0.438596</td>\n",
              "      <td>01:04</td>\n",
              "    </tr>\n",
              "    <tr>\n",
              "      <td>1</td>\n",
              "      <td>1.483428</td>\n",
              "      <td>2.829937</td>\n",
              "      <td>0.421053</td>\n",
              "      <td>01:03</td>\n",
              "    </tr>\n",
              "    <tr>\n",
              "      <td>2</td>\n",
              "      <td>1.371631</td>\n",
              "      <td>2.830498</td>\n",
              "      <td>0.429825</td>\n",
              "      <td>01:05</td>\n",
              "    </tr>\n",
              "    <tr>\n",
              "      <td>3</td>\n",
              "      <td>1.276811</td>\n",
              "      <td>2.798017</td>\n",
              "      <td>0.421053</td>\n",
              "      <td>01:08</td>\n",
              "    </tr>\n",
              "  </tbody>\n",
              "</table>"
            ],
            "text/plain": [
              "<IPython.core.display.HTML object>"
            ]
          },
          "metadata": {
            "tags": []
          }
        }
      ]
    },
    {
      "cell_type": "code",
      "metadata": {
        "id": "KKydb0B4BKGk",
        "outputId": "2b7dd69b-ff16-4e44-93a5-6f31bda9e280",
        "colab": {
          "base_uri": "https://localhost:8080/",
          "height": 173
        }
      },
      "source": [
        "learn.fit_one_cycle(4, slice(2e-3/100, 2e-3))"
      ],
      "execution_count": 41,
      "outputs": [
        {
          "output_type": "display_data",
          "data": {
            "text/html": [
              "<table border=\"1\" class=\"dataframe\">\n",
              "  <thead>\n",
              "    <tr style=\"text-align: left;\">\n",
              "      <th>epoch</th>\n",
              "      <th>train_loss</th>\n",
              "      <th>valid_loss</th>\n",
              "      <th>accuracy</th>\n",
              "      <th>time</th>\n",
              "    </tr>\n",
              "  </thead>\n",
              "  <tbody>\n",
              "    <tr>\n",
              "      <td>0</td>\n",
              "      <td>1.201471</td>\n",
              "      <td>2.812668</td>\n",
              "      <td>0.438596</td>\n",
              "      <td>01:04</td>\n",
              "    </tr>\n",
              "    <tr>\n",
              "      <td>1</td>\n",
              "      <td>1.193097</td>\n",
              "      <td>3.110599</td>\n",
              "      <td>0.385965</td>\n",
              "      <td>01:04</td>\n",
              "    </tr>\n",
              "    <tr>\n",
              "      <td>2</td>\n",
              "      <td>1.109177</td>\n",
              "      <td>2.955318</td>\n",
              "      <td>0.429825</td>\n",
              "      <td>01:07</td>\n",
              "    </tr>\n",
              "    <tr>\n",
              "      <td>3</td>\n",
              "      <td>1.003279</td>\n",
              "      <td>2.893298</td>\n",
              "      <td>0.429825</td>\n",
              "      <td>01:10</td>\n",
              "    </tr>\n",
              "  </tbody>\n",
              "</table>"
            ],
            "text/plain": [
              "<IPython.core.display.HTML object>"
            ]
          },
          "metadata": {
            "tags": []
          }
        }
      ]
    },
    {
      "cell_type": "code",
      "metadata": {
        "id": "T2APKtFKBpGY",
        "outputId": "4328b64b-3704-4ca7-a6cb-f9e0ca20ebb6",
        "colab": {
          "base_uri": "https://localhost:8080/",
          "height": 173
        }
      },
      "source": [
        "learn.fit_one_cycle(4, slice(2e-3/100, 2e-3))"
      ],
      "execution_count": 42,
      "outputs": [
        {
          "output_type": "display_data",
          "data": {
            "text/html": [
              "<table border=\"1\" class=\"dataframe\">\n",
              "  <thead>\n",
              "    <tr style=\"text-align: left;\">\n",
              "      <th>epoch</th>\n",
              "      <th>train_loss</th>\n",
              "      <th>valid_loss</th>\n",
              "      <th>accuracy</th>\n",
              "      <th>time</th>\n",
              "    </tr>\n",
              "  </thead>\n",
              "  <tbody>\n",
              "    <tr>\n",
              "      <td>0</td>\n",
              "      <td>0.908095</td>\n",
              "      <td>2.946764</td>\n",
              "      <td>0.421053</td>\n",
              "      <td>01:12</td>\n",
              "    </tr>\n",
              "    <tr>\n",
              "      <td>1</td>\n",
              "      <td>0.934451</td>\n",
              "      <td>3.058825</td>\n",
              "      <td>0.368421</td>\n",
              "      <td>01:09</td>\n",
              "    </tr>\n",
              "    <tr>\n",
              "      <td>2</td>\n",
              "      <td>0.862975</td>\n",
              "      <td>3.007207</td>\n",
              "      <td>0.429825</td>\n",
              "      <td>01:07</td>\n",
              "    </tr>\n",
              "    <tr>\n",
              "      <td>3</td>\n",
              "      <td>0.774353</td>\n",
              "      <td>2.967085</td>\n",
              "      <td>0.421053</td>\n",
              "      <td>01:07</td>\n",
              "    </tr>\n",
              "  </tbody>\n",
              "</table>"
            ],
            "text/plain": [
              "<IPython.core.display.HTML object>"
            ]
          },
          "metadata": {
            "tags": []
          }
        }
      ]
    },
    {
      "cell_type": "code",
      "metadata": {
        "id": "qtTypA1sPgLU",
        "outputId": "d5622c20-3728-4950-c48f-5bda0307e17c",
        "colab": {
          "base_uri": "https://localhost:8080/",
          "height": 111
        }
      },
      "source": [
        "learn.fit_one_cycle(2, slice(2e-3/100, 2e-3))"
      ],
      "execution_count": 43,
      "outputs": [
        {
          "output_type": "display_data",
          "data": {
            "text/html": [
              "<table border=\"1\" class=\"dataframe\">\n",
              "  <thead>\n",
              "    <tr style=\"text-align: left;\">\n",
              "      <th>epoch</th>\n",
              "      <th>train_loss</th>\n",
              "      <th>valid_loss</th>\n",
              "      <th>accuracy</th>\n",
              "      <th>time</th>\n",
              "    </tr>\n",
              "  </thead>\n",
              "  <tbody>\n",
              "    <tr>\n",
              "      <td>0</td>\n",
              "      <td>0.739812</td>\n",
              "      <td>3.118838</td>\n",
              "      <td>0.403509</td>\n",
              "      <td>01:05</td>\n",
              "    </tr>\n",
              "    <tr>\n",
              "      <td>1</td>\n",
              "      <td>0.724963</td>\n",
              "      <td>3.086684</td>\n",
              "      <td>0.394737</td>\n",
              "      <td>01:08</td>\n",
              "    </tr>\n",
              "  </tbody>\n",
              "</table>"
            ],
            "text/plain": [
              "<IPython.core.display.HTML object>"
            ]
          },
          "metadata": {
            "tags": []
          }
        }
      ]
    },
    {
      "cell_type": "code",
      "metadata": {
        "id": "b242kBsTUp9Y",
        "outputId": "6c68f178-967f-4f5f-f411-f9004c2508cd",
        "colab": {
          "base_uri": "https://localhost:8080/",
          "height": 111
        }
      },
      "source": [
        "learn.fit_one_cycle(2, slice(2e-3/100, 2e-3))"
      ],
      "execution_count": 44,
      "outputs": [
        {
          "output_type": "display_data",
          "data": {
            "text/html": [
              "<table border=\"1\" class=\"dataframe\">\n",
              "  <thead>\n",
              "    <tr style=\"text-align: left;\">\n",
              "      <th>epoch</th>\n",
              "      <th>train_loss</th>\n",
              "      <th>valid_loss</th>\n",
              "      <th>accuracy</th>\n",
              "      <th>time</th>\n",
              "    </tr>\n",
              "  </thead>\n",
              "  <tbody>\n",
              "    <tr>\n",
              "      <td>0</td>\n",
              "      <td>0.691646</td>\n",
              "      <td>3.064340</td>\n",
              "      <td>0.429825</td>\n",
              "      <td>01:07</td>\n",
              "    </tr>\n",
              "    <tr>\n",
              "      <td>1</td>\n",
              "      <td>0.668973</td>\n",
              "      <td>3.031766</td>\n",
              "      <td>0.447368</td>\n",
              "      <td>01:04</td>\n",
              "    </tr>\n",
              "  </tbody>\n",
              "</table>"
            ],
            "text/plain": [
              "<IPython.core.display.HTML object>"
            ]
          },
          "metadata": {
            "tags": []
          }
        }
      ]
    },
    {
      "cell_type": "code",
      "metadata": {
        "id": "Duwf1Ih5VeDZ",
        "outputId": "161bbb9a-0848-4539-ee6c-6471daa73e33",
        "colab": {
          "base_uri": "https://localhost:8080/",
          "height": 80
        }
      },
      "source": [
        "learn.fit_one_cycle(1, slice(2e-3/100, 2e-3))"
      ],
      "execution_count": 45,
      "outputs": [
        {
          "output_type": "display_data",
          "data": {
            "text/html": [
              "<table border=\"1\" class=\"dataframe\">\n",
              "  <thead>\n",
              "    <tr style=\"text-align: left;\">\n",
              "      <th>epoch</th>\n",
              "      <th>train_loss</th>\n",
              "      <th>valid_loss</th>\n",
              "      <th>accuracy</th>\n",
              "      <th>time</th>\n",
              "    </tr>\n",
              "  </thead>\n",
              "  <tbody>\n",
              "    <tr>\n",
              "      <td>0</td>\n",
              "      <td>0.639956</td>\n",
              "      <td>3.187074</td>\n",
              "      <td>0.394737</td>\n",
              "      <td>01:06</td>\n",
              "    </tr>\n",
              "  </tbody>\n",
              "</table>"
            ],
            "text/plain": [
              "<IPython.core.display.HTML object>"
            ]
          },
          "metadata": {
            "tags": []
          }
        }
      ]
    },
    {
      "cell_type": "code",
      "metadata": {
        "id": "c65d-osfDUXm"
      },
      "source": [
        "# save the best model\n",
        "\n",
        "learn.save_encoder('TwADR_pubmed_fold01')"
      ],
      "execution_count": 46,
      "outputs": []
    },
    {
      "cell_type": "code",
      "metadata": {
        "id": "5h-A_GpAIYg8",
        "outputId": "368710cb-bb6d-4eb7-b259-459ac0dd7be0",
        "colab": {
          "base_uri": "https://localhost:8080/",
          "height": 80
        }
      },
      "source": [
        "learn.fit_one_cycle(1, slice(2e-3/100, 2e-3))"
      ],
      "execution_count": 47,
      "outputs": [
        {
          "output_type": "display_data",
          "data": {
            "text/html": [
              "<table border=\"1\" class=\"dataframe\">\n",
              "  <thead>\n",
              "    <tr style=\"text-align: left;\">\n",
              "      <th>epoch</th>\n",
              "      <th>train_loss</th>\n",
              "      <th>valid_loss</th>\n",
              "      <th>accuracy</th>\n",
              "      <th>time</th>\n",
              "    </tr>\n",
              "  </thead>\n",
              "  <tbody>\n",
              "    <tr>\n",
              "      <td>0</td>\n",
              "      <td>0.634821</td>\n",
              "      <td>3.050354</td>\n",
              "      <td>0.412281</td>\n",
              "      <td>01:09</td>\n",
              "    </tr>\n",
              "  </tbody>\n",
              "</table>"
            ],
            "text/plain": [
              "<IPython.core.display.HTML object>"
            ]
          },
          "metadata": {
            "tags": []
          }
        }
      ]
    },
    {
      "cell_type": "code",
      "metadata": {
        "id": "qc4poYxzIwca",
        "outputId": "83fd552a-f793-4499-b315-ce3661abde90",
        "colab": {
          "base_uri": "https://localhost:8080/",
          "height": 80
        }
      },
      "source": [
        "learn.fit_one_cycle(1, slice(2e-3/100, 2e-3))"
      ],
      "execution_count": 48,
      "outputs": [
        {
          "output_type": "display_data",
          "data": {
            "text/html": [
              "<table border=\"1\" class=\"dataframe\">\n",
              "  <thead>\n",
              "    <tr style=\"text-align: left;\">\n",
              "      <th>epoch</th>\n",
              "      <th>train_loss</th>\n",
              "      <th>valid_loss</th>\n",
              "      <th>accuracy</th>\n",
              "      <th>time</th>\n",
              "    </tr>\n",
              "  </thead>\n",
              "  <tbody>\n",
              "    <tr>\n",
              "      <td>0</td>\n",
              "      <td>0.585649</td>\n",
              "      <td>3.139920</td>\n",
              "      <td>0.403509</td>\n",
              "      <td>01:08</td>\n",
              "    </tr>\n",
              "  </tbody>\n",
              "</table>"
            ],
            "text/plain": [
              "<IPython.core.display.HTML object>"
            ]
          },
          "metadata": {
            "tags": []
          }
        }
      ]
    },
    {
      "cell_type": "code",
      "metadata": {
        "id": "66s4PxV1JVfo",
        "outputId": "2f3971b7-6e37-45f4-f2e7-dbe0a8551b23",
        "colab": {
          "base_uri": "https://localhost:8080/",
          "height": 80
        }
      },
      "source": [
        "learn.fit_one_cycle(1, slice(2e-3/100, 2e-3))"
      ],
      "execution_count": 49,
      "outputs": [
        {
          "output_type": "display_data",
          "data": {
            "text/html": [
              "<table border=\"1\" class=\"dataframe\">\n",
              "  <thead>\n",
              "    <tr style=\"text-align: left;\">\n",
              "      <th>epoch</th>\n",
              "      <th>train_loss</th>\n",
              "      <th>valid_loss</th>\n",
              "      <th>accuracy</th>\n",
              "      <th>time</th>\n",
              "    </tr>\n",
              "  </thead>\n",
              "  <tbody>\n",
              "    <tr>\n",
              "      <td>0</td>\n",
              "      <td>0.561617</td>\n",
              "      <td>3.225672</td>\n",
              "      <td>0.429825</td>\n",
              "      <td>01:04</td>\n",
              "    </tr>\n",
              "  </tbody>\n",
              "</table>"
            ],
            "text/plain": [
              "<IPython.core.display.HTML object>"
            ]
          },
          "metadata": {
            "tags": []
          }
        }
      ]
    },
    {
      "cell_type": "markdown",
      "metadata": {
        "id": "rCwZU0E2RgM6"
      },
      "source": [
        "# Part three: Predict on the test dataset"
      ]
    },
    {
      "cell_type": "code",
      "metadata": {
        "id": "gDm72c-dOu7d",
        "outputId": "40c11a0f-aaeb-460a-b97c-e0f4d3fbd463",
        "colab": {
          "base_uri": "https://localhost:8080/",
          "height": 17
        }
      },
      "source": [
        "# use the test data for prediction\n",
        "\n",
        "preds, y = learn.get_preds(DatasetType.Test)"
      ],
      "execution_count": 50,
      "outputs": [
        {
          "output_type": "display_data",
          "data": {
            "text/html": [
              ""
            ],
            "text/plain": [
              "<IPython.core.display.HTML object>"
            ]
          },
          "metadata": {
            "tags": []
          }
        }
      ]
    },
    {
      "cell_type": "code",
      "metadata": {
        "id": "6tFSQcsWPvxn",
        "outputId": "dbc25f7b-3354-450c-ec27-397939c2ee37",
        "colab": {
          "base_uri": "https://localhost:8080/",
          "height": 105
        }
      },
      "source": [
        "predictions, *_ = learn.get_preds(DatasetType.Test)\n",
        "labels = np.argmax(predictions, 1)\n",
        "predict_list = labels.tolist()\n",
        "standard_list = test[0].tolist()\n",
        "\n",
        "print(len(predict_list))\n",
        "print(len(standard_list))\n",
        "\n",
        "print(predict_list)\n",
        "print(standard_list)"
      ],
      "execution_count": 51,
      "outputs": [
        {
          "output_type": "display_data",
          "data": {
            "text/html": [
              ""
            ],
            "text/plain": [
              "<IPython.core.display.HTML object>"
            ]
          },
          "metadata": {
            "tags": []
          }
        },
        {
          "output_type": "stream",
          "text": [
            "143\n",
            "143\n",
            "[1787, 13, 1227, 133, 1295, 189, 974, 2147, 1936, 2147, 1787, 2032, 1787, 1136, 418, 418, 1227, 744, 1227, 97, 1769, 1597, 1458, 208, 1599, 818, 2147, 825, 1484, 852, 2149, 974, 974, 792, 974, 974, 974, 978, 978, 1942, 978, 978, 1062, 109, 1669, 1089, 1096, 1787, 1175, 1682, 1936, 1936, 1706, 1295, 1526, 109, 1295, 1295, 1295, 1321, 1319, 2194, 755, 1432, 1432, 1125, 1529, 1529, 109, 233, 301, 1576, 1594, 1597, 426, 1597, 392, 392, 1610, 1610, 2194, 1526, 2149, 1227, 1073, 1432, 1940, 1531, 1531, 441, 1545, 1073, 1073, 1798, 1767, 1815, 233, 1099, 1769, 1787, 2032, 1787, 301, 2023, 923, 978, 1099, 1109, 1099, 2149, 1936, 1936, 1936, 1340, 1936, 224, 1526, 982, 1526, 1942, 441, 1813, 1718, 1787, 2149, 1787, 1340, 1340, 1974, 1529, 2081, 2147, 2147, 1099, 2147, 2032, 2147, 233, 2149, 824, 2191, 1529, 2194]\n",
            "[13, 13, 61, 133, 189, 189, 195, 233, 233, 233, 393, 393, 393, 396, 418, 452, 561, 744, 749, 750, 791, 791, 809, 813, 813, 818, 824, 824, 825, 852, 947, 974, 974, 974, 974, 974, 974, 978, 978, 978, 978, 978, 1062, 1062, 1073, 1089, 1096, 1099, 1175, 1214, 1230, 1281, 1281, 1295, 1295, 1295, 1295, 1295, 1295, 1295, 1319, 1321, 1349, 1432, 1432, 1509, 1529, 1529, 1529, 1545, 1546, 1576, 1594, 1597, 1597, 1597, 1599, 1599, 1610, 1610, 1610, 1610, 1610, 1610, 1669, 1676, 1679, 1711, 1711, 1718, 1718, 1718, 1718, 1718, 1727, 1727, 1767, 1767, 1769, 1787, 1787, 1787, 1798, 1813, 1813, 1828, 1877, 1925, 1925, 1925, 1936, 1936, 1936, 1936, 1936, 1942, 1973, 1973, 1973, 2010, 2017, 2023, 2032, 2032, 2032, 2032, 2048, 2048, 2048, 2063, 2081, 2147, 2147, 2147, 2147, 2147, 2147, 2149, 2149, 2168, 2191, 2194, 2194]\n"
          ],
          "name": "stdout"
        }
      ]
    },
    {
      "cell_type": "code",
      "metadata": {
        "id": "XIC4zufnMxtq",
        "outputId": "a672cbb4-5547-4856-a564-4106f8aa3a60",
        "colab": {
          "base_uri": "https://localhost:8080/"
        }
      },
      "source": [
        "correct_num = 0\n",
        "\n",
        "for i in range(0, len(standard_list)):\n",
        "  if predict_list[i] == standard_list[i]:\n",
        "    correct_num = correct_num+1\n",
        "  else:\n",
        "    pass\n",
        "print(correct_num)\n",
        "\n",
        "predict_accuracy = correct_num/len(predict_list)\n",
        "print(predict_accuracy)"
      ],
      "execution_count": 52,
      "outputs": [
        {
          "output_type": "stream",
          "text": [
            "50\n",
            "0.34965034965034963\n"
          ],
          "name": "stdout"
        }
      ]
    },
    {
      "cell_type": "code",
      "metadata": {
        "id": "zlKMHp1CIaRJ"
      },
      "source": [
        ""
      ],
      "execution_count": 52,
      "outputs": []
    }
  ]
}