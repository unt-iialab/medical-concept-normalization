{
  "nbformat": 4,
  "nbformat_minor": 0,
  "metadata": {
    "accelerator": "TPU",
    "colab": {
      "name": "twadr_2_mixed_pubmed_bigtweet_twadr.ipynb",
      "provenance": [],
      "collapsed_sections": [],
      "toc_visible": true,
      "include_colab_link": true
    },
    "kernelspec": {
      "display_name": "Python 3",
      "name": "python3"
    }
  },
  "cells": [
    {
      "cell_type": "markdown",
      "metadata": {
        "id": "view-in-github",
        "colab_type": "text"
      },
      "source": [
        "<a href=\"https://colab.research.google.com/github/unt-iialab/medical-concept-normalization/blob/master/medical-concept-normalization/fine-tuning-experiments/askpatient/twadr_2_mixed_pubmed_bigtweet_twadr.ipynb\" target=\"_parent\"><img src=\"https://colab.research.google.com/assets/colab-badge.svg\" alt=\"Open In Colab\"/></a>"
      ]
    },
    {
      "cell_type": "code",
      "metadata": {
        "id": "adSi6i2-dWxy"
      },
      "source": [
        "import os"
      ],
      "execution_count": 1,
      "outputs": []
    },
    {
      "cell_type": "code",
      "metadata": {
        "id": "E7xYCRGPjd9B"
      },
      "source": [
        "base_dir = 'medical-concept-normalization'"
      ],
      "execution_count": 2,
      "outputs": []
    },
    {
      "cell_type": "code",
      "metadata": {
        "id": "yvIW3aUDjYNS"
      },
      "source": [
        "os.mkdir(base_dir)"
      ],
      "execution_count": 3,
      "outputs": []
    },
    {
      "cell_type": "code",
      "metadata": {
        "id": "es-FFLlfk6SG"
      },
      "source": [
        "os.mkdir('medical-concept-normalization/data_collection')"
      ],
      "execution_count": 4,
      "outputs": []
    },
    {
      "cell_type": "markdown",
      "metadata": {
        "id": "0R-Guw_VoJXm"
      },
      "source": [
        "**Install fastai and clone the fastai for text classification**\n",
        "\n"
      ]
    },
    {
      "cell_type": "code",
      "metadata": {
        "id": "QVZa3Z0PmHFH",
        "outputId": "a696c7da-028c-4379-a0d9-c8140eb8b671",
        "colab": {
          "base_uri": "https://localhost:8080/",
          "height": 68
        }
      },
      "source": [
        "!curl https://course-v3.fast.ai/setup/colab | bash"
      ],
      "execution_count": 5,
      "outputs": [
        {
          "output_type": "stream",
          "text": [
            "  % Total    % Received % Xferd  Average Speed   Time    Time     Time  Current\n",
            "                                 Dload  Upload   Total   Spent    Left  Speed\n",
            "\r  0     0    0     0    0     0      0      0 --:--:-- --:--:-- --:--:--     0curl: (6) Could not resolve host: course-v3.fast.ai\n"
          ],
          "name": "stdout"
        }
      ]
    },
    {
      "cell_type": "code",
      "metadata": {
        "id": "_FBFFEBrmJC0",
        "outputId": "d098d537-3732-4b5d-d0b1-39315d20bc9f",
        "colab": {
          "base_uri": "https://localhost:8080/",
          "height": 85
        }
      },
      "source": [
        "!git clone https://github.com/wshuyi/demo-nlp-classification-fastai.git"
      ],
      "execution_count": 6,
      "outputs": [
        {
          "output_type": "stream",
          "text": [
            "Cloning into 'demo-nlp-classification-fastai'...\n",
            "remote: Enumerating objects: 9, done.\u001b[K\n",
            "remote: Total 9 (delta 0), reused 0 (delta 0), pack-reused 9\u001b[K\n",
            "Unpacking objects: 100% (9/9), done.\n"
          ],
          "name": "stdout"
        }
      ]
    },
    {
      "cell_type": "code",
      "metadata": {
        "id": "66zfh_JqmWMU"
      },
      "source": [
        "from fastai import *\n",
        "from fastai.text import *"
      ],
      "execution_count": 7,
      "outputs": []
    },
    {
      "cell_type": "markdown",
      "metadata": {
        "id": "mNIw-yALdBU9"
      },
      "source": [
        "**Set the path of the data collections**"
      ]
    },
    {
      "cell_type": "code",
      "metadata": {
        "id": "pzH7VMh4mqCL"
      },
      "source": [
        "path = Path('medical-concept-normalization/data_collection')"
      ],
      "execution_count": 8,
      "outputs": []
    },
    {
      "cell_type": "code",
      "metadata": {
        "id": "b8fjI6yyn4aS"
      },
      "source": [
        "# training data set\n",
        "\n",
        "train_csv = path/'TwADR-L.fold-2.train.csv'\n",
        "train = pd.read_csv(train_csv, header=None)\n",
        "#train.head()\n",
        "#train.info()"
      ],
      "execution_count": 10,
      "outputs": []
    },
    {
      "cell_type": "code",
      "metadata": {
        "id": "Hmlr-bAorfHd",
        "outputId": "246fba41-9a9e-4d9b-9d0c-dc2fec5ab8bc",
        "colab": {
          "base_uri": "https://localhost:8080/",
          "height": 204
        }
      },
      "source": [
        "# validating data set\n",
        "\n",
        "valid = pd.read_csv(path/\"TwADR-L.fold-2.validation.csv\",header=None)\n",
        "valid.head()"
      ],
      "execution_count": 11,
      "outputs": [
        {
          "output_type": "execute_result",
          "data": {
            "text/html": [
              "<div>\n",
              "<style scoped>\n",
              "    .dataframe tbody tr th:only-of-type {\n",
              "        vertical-align: middle;\n",
              "    }\n",
              "\n",
              "    .dataframe tbody tr th {\n",
              "        vertical-align: top;\n",
              "    }\n",
              "\n",
              "    .dataframe thead th {\n",
              "        text-align: right;\n",
              "    }\n",
              "</style>\n",
              "<table border=\"1\" class=\"dataframe\">\n",
              "  <thead>\n",
              "    <tr style=\"text-align: right;\">\n",
              "      <th></th>\n",
              "      <th>0</th>\n",
              "      <th>1</th>\n",
              "    </tr>\n",
              "  </thead>\n",
              "  <tbody>\n",
              "    <tr>\n",
              "      <th>0</th>\n",
              "      <td>13</td>\n",
              "      <td>insomnia</td>\n",
              "    </tr>\n",
              "    <tr>\n",
              "      <th>1</th>\n",
              "      <td>24</td>\n",
              "      <td>heart beat for being too strong</td>\n",
              "    </tr>\n",
              "    <tr>\n",
              "      <th>2</th>\n",
              "      <td>62</td>\n",
              "      <td>feeling proper psycho</td>\n",
              "    </tr>\n",
              "    <tr>\n",
              "      <th>3</th>\n",
              "      <td>94</td>\n",
              "      <td>anxiety</td>\n",
              "    </tr>\n",
              "    <tr>\n",
              "      <th>4</th>\n",
              "      <td>133</td>\n",
              "      <td>night terrors</td>\n",
              "    </tr>\n",
              "  </tbody>\n",
              "</table>\n",
              "</div>"
            ],
            "text/plain": [
              "     0                                1\n",
              "0   13                         insomnia\n",
              "1   24  heart beat for being too strong\n",
              "2   62            feeling proper psycho\n",
              "3   94                          anxiety\n",
              "4  133                    night terrors"
            ]
          },
          "metadata": {
            "tags": []
          },
          "execution_count": 11
        }
      ]
    },
    {
      "cell_type": "code",
      "metadata": {
        "id": "cOza9dfSsBud",
        "outputId": "2f305c3c-a360-4a57-a7e4-2ed42ca1bc4d",
        "colab": {
          "base_uri": "https://localhost:8080/",
          "height": 204
        }
      },
      "source": [
        "# testing data set\n",
        "\n",
        "test = pd.read_csv(path/\"TwADR-L.fold-2.test.csv\",header=None)\n",
        "test.head()"
      ],
      "execution_count": 12,
      "outputs": [
        {
          "output_type": "execute_result",
          "data": {
            "text/html": [
              "<div>\n",
              "<style scoped>\n",
              "    .dataframe tbody tr th:only-of-type {\n",
              "        vertical-align: middle;\n",
              "    }\n",
              "\n",
              "    .dataframe tbody tr th {\n",
              "        vertical-align: top;\n",
              "    }\n",
              "\n",
              "    .dataframe thead th {\n",
              "        text-align: right;\n",
              "    }\n",
              "</style>\n",
              "<table border=\"1\" class=\"dataframe\">\n",
              "  <thead>\n",
              "    <tr style=\"text-align: right;\">\n",
              "      <th></th>\n",
              "      <th>0</th>\n",
              "      <th>1</th>\n",
              "    </tr>\n",
              "  </thead>\n",
              "  <tbody>\n",
              "    <tr>\n",
              "      <th>0</th>\n",
              "      <td>13</td>\n",
              "      <td>It's 6 am and this adderall got me reevaluatin...</td>\n",
              "    </tr>\n",
              "    <tr>\n",
              "      <th>1</th>\n",
              "      <td>24</td>\n",
              "      <td>racing heart</td>\n",
              "    </tr>\n",
              "    <tr>\n",
              "      <th>2</th>\n",
              "      <td>56</td>\n",
              "      <td>persistent painful erection</td>\n",
              "    </tr>\n",
              "    <tr>\n",
              "      <th>3</th>\n",
              "      <td>57</td>\n",
              "      <td>hypertrophic scarring</td>\n",
              "    </tr>\n",
              "    <tr>\n",
              "      <th>4</th>\n",
              "      <td>94</td>\n",
              "      <td>anxiety</td>\n",
              "    </tr>\n",
              "  </tbody>\n",
              "</table>\n",
              "</div>"
            ],
            "text/plain": [
              "    0                                                  1\n",
              "0  13  It's 6 am and this adderall got me reevaluatin...\n",
              "1  24                                       racing heart\n",
              "2  56                        persistent painful erection\n",
              "3  57                              hypertrophic scarring\n",
              "4  94                                            anxiety"
            ]
          },
          "metadata": {
            "tags": []
          },
          "execution_count": 12
        }
      ]
    },
    {
      "cell_type": "code",
      "metadata": {
        "id": "Vo-YNvVYoaH6",
        "outputId": "e433c4dc-e14a-43bb-aa59-f3130b25cc1c",
        "colab": {
          "base_uri": "https://localhost:8080/",
          "height": 17
        }
      },
      "source": [
        "# Creating DataBunch for language modelling\n",
        "\n",
        "data_lm = TextLMDataBunch.from_csv(path, 'mixed_pubmed_bigtweet_twadr.csv')"
      ],
      "execution_count": 13,
      "outputs": [
        {
          "output_type": "display_data",
          "data": {
            "text/html": [
              ""
            ],
            "text/plain": [
              "<IPython.core.display.HTML object>"
            ]
          },
          "metadata": {
            "tags": []
          }
        },
        {
          "output_type": "display_data",
          "data": {
            "text/html": [
              ""
            ],
            "text/plain": [
              "<IPython.core.display.HTML object>"
            ]
          },
          "metadata": {
            "tags": []
          }
        }
      ]
    },
    {
      "cell_type": "code",
      "metadata": {
        "id": "qcV-9kMnNLBf"
      },
      "source": [
        ""
      ],
      "execution_count": 13,
      "outputs": []
    },
    {
      "cell_type": "code",
      "metadata": {
        "id": "1ScY9afDsnvE"
      },
      "source": [
        "# Creating DataBunch for classification\n",
        "\n",
        "# data_clas = TextClasDataBunch.from_df(path, train, valid, test, vocab=data_lm.train_ds.vocab, bs=128)"
      ],
      "execution_count": 14,
      "outputs": []
    },
    {
      "cell_type": "code",
      "metadata": {
        "id": "gzrSdQcvey9p",
        "outputId": "a7f2af33-74ba-416e-80b4-8ece09200277",
        "colab": {
          "base_uri": "https://localhost:8080/",
          "height": 17
        }
      },
      "source": [
        "data_clas = TextClasDataBunch.from_df(path, train, valid, vocab=data_lm.train_ds.vocab, bs=128)"
      ],
      "execution_count": 15,
      "outputs": [
        {
          "output_type": "display_data",
          "data": {
            "text/html": [
              ""
            ],
            "text/plain": [
              "<IPython.core.display.HTML object>"
            ]
          },
          "metadata": {
            "tags": []
          }
        },
        {
          "output_type": "display_data",
          "data": {
            "text/html": [
              ""
            ],
            "text/plain": [
              "<IPython.core.display.HTML object>"
            ]
          },
          "metadata": {
            "tags": []
          }
        }
      ]
    },
    {
      "cell_type": "code",
      "metadata": {
        "id": "MD27Tf0Ke3ou",
        "outputId": "f2d7b9b2-cb63-484a-ad24-d9b9f4461e54",
        "colab": {
          "base_uri": "https://localhost:8080/",
          "height": 17
        }
      },
      "source": [
        "data_clas.add_test(test,label=0)\n"
      ],
      "execution_count": 16,
      "outputs": [
        {
          "output_type": "display_data",
          "data": {
            "text/html": [
              ""
            ],
            "text/plain": [
              "<IPython.core.display.HTML object>"
            ]
          },
          "metadata": {
            "tags": []
          }
        }
      ]
    },
    {
      "cell_type": "code",
      "metadata": {
        "id": "-dpjnk_rstwk"
      },
      "source": [
        "data_lm.save()\n",
        "data_clas.save()"
      ],
      "execution_count": 17,
      "outputs": []
    },
    {
      "cell_type": "code",
      "metadata": {
        "id": "4OkiJa36sw5s",
        "outputId": "a2b2baaf-47c0-4b73-97fe-ca2d65900820",
        "colab": {
          "base_uri": "https://localhost:8080/",
          "height": 1000
        }
      },
      "source": [
        "data_lm.train_ds.vocab.itos"
      ],
      "execution_count": 18,
      "outputs": [
        {
          "output_type": "execute_result",
          "data": {
            "text/plain": [
              "['xxunk',\n",
              " 'xxpad',\n",
              " 'xxbos',\n",
              " 'xxeos',\n",
              " 'xxfld',\n",
              " 'xxmaj',\n",
              " 'xxup',\n",
              " 'xxrep',\n",
              " 'xxwrep',\n",
              " 'the',\n",
              " 'of',\n",
              " 'and',\n",
              " 'in',\n",
              " 'to',\n",
              " 'a',\n",
              " 'for',\n",
              " 'with',\n",
              " 'was',\n",
              " 'diclofenac',\n",
              " 'were',\n",
              " 'on',\n",
              " 'is',\n",
              " 'rt',\n",
              " 'pain',\n",
              " 'sodium',\n",
              " 'by',\n",
              " 'drug',\n",
              " 'that',\n",
              " 'as',\n",
              " 'i',\n",
              " 'at',\n",
              " 'patients',\n",
              " 'from',\n",
              " 'or',\n",
              " 'this',\n",
              " 'you',\n",
              " 'disease',\n",
              " 'be',\n",
              " 'mg',\n",
              " 'group',\n",
              " 'increased',\n",
              " 'my',\n",
              " 'study',\n",
              " 'mood',\n",
              " 'are',\n",
              " 'not',\n",
              " 'treatment',\n",
              " 'an',\n",
              " 'me',\n",
              " 'it',\n",
              " 'after',\n",
              " 'amp',\n",
              " 'have',\n",
              " 'p',\n",
              " 'release',\n",
              " 'gluten',\n",
              " ',',\n",
              " 'disorder',\n",
              " 'all',\n",
              " 'we',\n",
              " 'free',\n",
              " 'effect',\n",
              " 'withdrawal',\n",
              " 'abnormal',\n",
              " 'no',\n",
              " 'symptoms',\n",
              " 'than',\n",
              " 'decreased',\n",
              " 'new',\n",
              " 'weight',\n",
              " 'your',\n",
              " 'compared',\n",
              " 'out',\n",
              " 'day',\n",
              " 'anxiety',\n",
              " 'using',\n",
              " 'effects',\n",
              " 'more',\n",
              " 'groups',\n",
              " 'time',\n",
              " 'up',\n",
              " 'our',\n",
              " 'about',\n",
              " 'between',\n",
              " 'inflammatory',\n",
              " 'two',\n",
              " 'h',\n",
              " 'blood',\n",
              " 'both',\n",
              " 'its',\n",
              " 'like',\n",
              " 'significantly',\n",
              " 'acute',\n",
              " 'drugs',\n",
              " 'these',\n",
              " 'significant',\n",
              " 'had',\n",
              " 'anti',\n",
              " 'can',\n",
              " 'but',\n",
              " 'potassium',\n",
              " 'skin',\n",
              " 'voltaren',\n",
              " 'used',\n",
              " 'dose',\n",
              " 'disorders',\n",
              " 'has',\n",
              " 'which',\n",
              " 'use',\n",
              " 'behavior',\n",
              " '(',\n",
              " ')',\n",
              " 'do',\n",
              " 'results',\n",
              " 'syndrome',\n",
              " 'also',\n",
              " 'one',\n",
              " 'diseases',\n",
              " '-',\n",
              " 'placebo',\n",
              " 'nt',\n",
              " 'days',\n",
              " 'glutenfree',\n",
              " 'there',\n",
              " 'what',\n",
              " 'sleeplessness',\n",
              " 's',\n",
              " 'efficacy',\n",
              " 'ds',\n",
              " 'may',\n",
              " 'celiac',\n",
              " 'oral',\n",
              " 'm',\n",
              " 'concentration',\n",
              " 'feeling',\n",
              " 'got',\n",
              " 'treated',\n",
              " 'now',\n",
              " 'when',\n",
              " 'different',\n",
              " 'w',\n",
              " 'showed',\n",
              " 'test',\n",
              " 'finding',\n",
              " 'non',\n",
              " 'been',\n",
              " 'administration',\n",
              " 'ml',\n",
              " 'insomnia',\n",
              " 'topical',\n",
              " 'studies',\n",
              " 'high',\n",
              " 'disturbance',\n",
              " 'sleep',\n",
              " 'somnolence',\n",
              " 'c',\n",
              " 'food',\n",
              " 'products',\n",
              " 'control',\n",
              " 'right',\n",
              " 'energy',\n",
              " 'via',\n",
              " 'their',\n",
              " 'hours',\n",
              " 'so',\n",
              " 'if',\n",
              " 'rats',\n",
              " 'clinical',\n",
              " 'during',\n",
              " 'found',\n",
              " 'other',\n",
              " 'induced',\n",
              " 'how',\n",
              " 'could',\n",
              " 'acid',\n",
              " 'mental',\n",
              " 'into',\n",
              " 'well',\n",
              " 'did',\n",
              " 'respectively',\n",
              " 'mean',\n",
              " 'plasma',\n",
              " 'method',\n",
              " 'body',\n",
              " 'state',\n",
              " 'post',\n",
              " 'swelling',\n",
              " 'first',\n",
              " 'diet',\n",
              " 'nausea',\n",
              " 'rate',\n",
              " 'formulation',\n",
              " 'appetite',\n",
              " 'tablets',\n",
              " 'nsaids',\n",
              " 'observed',\n",
              " 'formulations',\n",
              " 'depression',\n",
              " 'who',\n",
              " 'gain',\n",
              " 'muscle',\n",
              " 'over',\n",
              " 'g',\n",
              " 'low',\n",
              " 'n',\n",
              " 'ph',\n",
              " 'effective',\n",
              " 'gel',\n",
              " 'three',\n",
              " 'feel',\n",
              " 'd',\n",
              " 'those',\n",
              " 'review',\n",
              " 'tip',\n",
              " 'kg',\n",
              " 'conditions',\n",
              " 'received',\n",
              " 'vitro',\n",
              " 'solution',\n",
              " 'lower',\n",
              " 'irritable',\n",
              " 'controlled',\n",
              " 'cell',\n",
              " 'heart',\n",
              " 'attention',\n",
              " 'each',\n",
              " 'ceiling',\n",
              " 'analysis',\n",
              " 'reaction',\n",
              " 'activity',\n",
              " 'total',\n",
              " 'excitability',\n",
              " 'single',\n",
              " 'serum',\n",
              " 'renal',\n",
              " 'levels',\n",
              " 'level',\n",
              " 'daily',\n",
              " 'hyperactive',\n",
              " 'system',\n",
              " 'adverse',\n",
              " 'only',\n",
              " 'data',\n",
              " 'analgesic',\n",
              " 'less',\n",
              " 'atorvastatin',\n",
              " 'week',\n",
              " 'model',\n",
              " 'drowsiness',\n",
              " 'eye',\n",
              " 'application',\n",
              " 'dizziness',\n",
              " 'period',\n",
              " 'feelings',\n",
              " 'allergic',\n",
              " 'panic',\n",
              " 'weeks',\n",
              " 'need',\n",
              " 'awake',\n",
              " 'concentrations',\n",
              " 'get',\n",
              " 'joint',\n",
              " 'randomized',\n",
              " 'some',\n",
              " 'most',\n",
              " 'dblclick',\n",
              " 'patient',\n",
              " 'function',\n",
              " 'gastrointestinal',\n",
              " 'however',\n",
              " 'good',\n",
              " 'why',\n",
              " 'pic',\n",
              " 'following',\n",
              " 'evaluated',\n",
              " 'rash',\n",
              " 'ca',\n",
              " 't',\n",
              " 'difference',\n",
              " 'before',\n",
              " 'liver',\n",
              " 'headache',\n",
              " 'site',\n",
              " 'loss',\n",
              " 'they',\n",
              " 'any',\n",
              " 'here',\n",
              " 'double',\n",
              " 'cells',\n",
              " 'will',\n",
              " 'know',\n",
              " 'depressed',\n",
              " 'water',\n",
              " 'postoperative',\n",
              " 'l',\n",
              " 'dissolution',\n",
              " 'infection',\n",
              " 'inflammation',\n",
              " 'surgery',\n",
              " 'initial',\n",
              " 'obtained',\n",
              " 'similar',\n",
              " 'reduced',\n",
              " 'increase',\n",
              " 'healthy',\n",
              " 'bone',\n",
              " 'nsaid',\n",
              " 'associated',\n",
              " 'under',\n",
              " 'based',\n",
              " 'changes',\n",
              " 'b',\n",
              " 'higher',\n",
              " 'therapy',\n",
              " 'brain',\n",
              " 'years',\n",
              " 'relief',\n",
              " 'tablet',\n",
              " 'life',\n",
              " 'check',\n",
              " 'injury',\n",
              " 'just',\n",
              " 'migraine',\n",
              " 'edema',\n",
              " 'swings',\n",
              " 'present',\n",
              " 'injection',\n",
              " 'love',\n",
              " 'change',\n",
              " 'order',\n",
              " 'should',\n",
              " 'chronic',\n",
              " 'studied',\n",
              " 'arthritis',\n",
              " 'bipolar',\n",
              " 'does',\n",
              " 'trial',\n",
              " 'doses',\n",
              " '#',\n",
              " 'great',\n",
              " 'being',\n",
              " 'subjects',\n",
              " 'while',\n",
              " 'vs',\n",
              " 'reported',\n",
              " 'help',\n",
              " 'pressure',\n",
              " 'gastric',\n",
              " 're',\n",
              " 'corneal',\n",
              " 'differences',\n",
              " 'prepared',\n",
              " 'better',\n",
              " 'make',\n",
              " 'x',\n",
              " 'administered',\n",
              " 'response',\n",
              " 'thanks',\n",
              " 'combination',\n",
              " 'tissue',\n",
              " 'absorption',\n",
              " 'min',\n",
              " 'given',\n",
              " 'four',\n",
              " 'due',\n",
              " 'blind',\n",
              " 'wakefulness',\n",
              " 'values',\n",
              " 'events',\n",
              " 'performed',\n",
              " 'cholesterol',\n",
              " 'such',\n",
              " 'developed',\n",
              " 'dreams',\n",
              " 'type',\n",
              " 'fatigue',\n",
              " 'eating',\n",
              " 'side',\n",
              " 'attacks',\n",
              " 'visual',\n",
              " 'decrease',\n",
              " 'very',\n",
              " 'still',\n",
              " 'eat',\n",
              " \"n't\",\n",
              " 'risk',\n",
              " 'us',\n",
              " 'nonsteroidal',\n",
              " 'intolerance',\n",
              " 'containing',\n",
              " 'properties',\n",
              " 'respiratory',\n",
              " 'through',\n",
              " 'gfb',\n",
              " 'breast',\n",
              " 'makes',\n",
              " 'investigated',\n",
              " 'people',\n",
              " 'v',\n",
              " 'tremor',\n",
              " 'urine',\n",
              " 'ratio',\n",
              " 'times',\n",
              " 'within',\n",
              " 'abdominal',\n",
              " 'delivery',\n",
              " 'minutes',\n",
              " 'number',\n",
              " 'mm',\n",
              " '30',\n",
              " 'reduction',\n",
              " 'posted',\n",
              " 'measured',\n",
              " 'show',\n",
              " 'without',\n",
              " 'phase',\n",
              " 'steroidal',\n",
              " 'potential',\n",
              " 'samples',\n",
              " 'assessed',\n",
              " 'knee',\n",
              " 'development',\n",
              " 'best',\n",
              " 'same',\n",
              " 'either',\n",
              " 'living',\n",
              " 'evaluate',\n",
              " 'parameters',\n",
              " 'recipe',\n",
              " 'tired',\n",
              " 'vivo',\n",
              " 'human',\n",
              " 'safety',\n",
              " 'ng',\n",
              " 'range',\n",
              " 'sustained',\n",
              " 'stiffness',\n",
              " 'related',\n",
              " 'liquid',\n",
              " 'kidney',\n",
              " 'auc',\n",
              " 'death',\n",
              " 'attack',\n",
              " 'failure',\n",
              " 'take',\n",
              " 'applied',\n",
              " 'included',\n",
              " 'compare',\n",
              " 'indomethacin',\n",
              " 'e',\n",
              " 'statistically',\n",
              " 'damage',\n",
              " 'night',\n",
              " 'hemorrhage',\n",
              " 'many',\n",
              " 'health',\n",
              " 'medication',\n",
              " 'go',\n",
              " 'going',\n",
              " 'action',\n",
              " 'deficit',\n",
              " 'taste',\n",
              " 'k',\n",
              " 'heres',\n",
              " 'therapeutic',\n",
              " 'read',\n",
              " 'active',\n",
              " 'form',\n",
              " 'primary',\n",
              " 'lipitor',\n",
              " 'year',\n",
              " 'dry',\n",
              " 'rage',\n",
              " 'oa',\n",
              " '\\r \\n ',\n",
              " 'size',\n",
              " 'cardiac',\n",
              " 'psychotic',\n",
              " 'determined',\n",
              " 'because',\n",
              " 'process',\n",
              " 'osteoarthritis',\n",
              " 'way',\n",
              " 'tips',\n",
              " 'available',\n",
              " 'dependent',\n",
              " 'sensitivity',\n",
              " 'normal',\n",
              " 'ii',\n",
              " 'much',\n",
              " 'matrix',\n",
              " 'bioavailability',\n",
              " 'scores',\n",
              " 'tolerability',\n",
              " 'ulcer',\n",
              " 'carcinoma',\n",
              " 'sleepy',\n",
              " 'then',\n",
              " 'today',\n",
              " 'back',\n",
              " 'male',\n",
              " 'scale',\n",
              " 'hour',\n",
              " 'article',\n",
              " '2',\n",
              " 'eyes',\n",
              " 'baseline',\n",
              " 'tested',\n",
              " 'coated',\n",
              " 'jennieo',\n",
              " 'archives',\n",
              " 'made',\n",
              " 'secondary',\n",
              " 'severe',\n",
              " 'safe',\n",
              " 'down',\n",
              " 'infections',\n",
              " 'local',\n",
              " 'stomach',\n",
              " 'vomiting',\n",
              " 'news',\n",
              " 'discomfort',\n",
              " 'addition',\n",
              " 'months',\n",
              " 'think',\n",
              " 'aqueous',\n",
              " 'cox',\n",
              " 'important',\n",
              " 'area',\n",
              " 'end',\n",
              " 'greater',\n",
              " 'polymer',\n",
              " 'even',\n",
              " 'super',\n",
              " 'revealed',\n",
              " 'aim',\n",
              " 'mice',\n",
              " 'numbness',\n",
              " 'dermatitis',\n",
              " 'pulmonary',\n",
              " 'demonstrated',\n",
              " 'multiple',\n",
              " 'volunteers',\n",
              " 'dosage',\n",
              " 'long',\n",
              " 'sensation',\n",
              " 'daytime',\n",
              " 'per',\n",
              " 'na',\n",
              " 'randomly',\n",
              " '1',\n",
              " 'case',\n",
              " 'agent',\n",
              " 'difficulty',\n",
              " 'alone',\n",
              " 'inhibition',\n",
              " 'inhibitor',\n",
              " 'want',\n",
              " 'diagnosis',\n",
              " 'caused',\n",
              " 'tolerated',\n",
              " 'provide',\n",
              " 'presence',\n",
              " 'early',\n",
              " 'improvement',\n",
              " 'among',\n",
              " 'temperature',\n",
              " 'de',\n",
              " 'hallucinations',\n",
              " 'indicated',\n",
              " 'middle',\n",
              " 'fluid',\n",
              " 'follow',\n",
              " 'quality',\n",
              " 'various',\n",
              " 'part',\n",
              " 'trials',\n",
              " 'hypertension',\n",
              " '4',\n",
              " 'animals',\n",
              " 'intensity',\n",
              " 'cases',\n",
              " 'protein',\n",
              " 'score',\n",
              " 'growth',\n",
              " 'suggest',\n",
              " 'treatments',\n",
              " 'exposure',\n",
              " 'ocular',\n",
              " 'u',\n",
              " 'chicken',\n",
              " '10',\n",
              " 'common',\n",
              " 'pre',\n",
              " 'standard',\n",
              " 'f',\n",
              " 'allergy',\n",
              " 'age',\n",
              " 'cd',\n",
              " 'facial',\n",
              " 'wide',\n",
              " 'further',\n",
              " 'zombie',\n",
              " 'mechanism',\n",
              " 'whereas',\n",
              " 'cancer',\n",
              " 'affect',\n",
              " 'aggravated',\n",
              " 'female',\n",
              " 'prolonged',\n",
              " 'conducted',\n",
              " 'rheumatoid',\n",
              " 'hepatic',\n",
              " 'permeation',\n",
              " 'cerebral',\n",
              " 'followed',\n",
              " 'r',\n",
              " 'sweating',\n",
              " 'onset',\n",
              " 'alcohol',\n",
              " 'formation',\n",
              " 'ibuprofen',\n",
              " 'cm',\n",
              " 'every',\n",
              " 'term',\n",
              " 'intestinal',\n",
              " 'agents',\n",
              " 'anger',\n",
              " 'systemic',\n",
              " 'dependence',\n",
              " 'although',\n",
              " 'divided',\n",
              " 'diagnosed',\n",
              " 'o',\n",
              " 'evaluation',\n",
              " 'sleepiness',\n",
              " 'determine',\n",
              " 'relative',\n",
              " 'share',\n",
              " 'rat',\n",
              " 'vas',\n",
              " 'including',\n",
              " 'moderate',\n",
              " 'please',\n",
              " 'pharmaceutical',\n",
              " 'content',\n",
              " 'old',\n",
              " 'tract',\n",
              " 'painful',\n",
              " 'would',\n",
              " 'six',\n",
              " 'elevated',\n",
              " 'shown',\n",
              " 'creatinine',\n",
              " '\\r \\n \\r \\n ',\n",
              " 'disturbances',\n",
              " 'dysfunction',\n",
              " 'anemia',\n",
              " 'rapid',\n",
              " 'cause',\n",
              " 'versus',\n",
              " 'asleep',\n",
              " 'profile',\n",
              " 'exhaustion',\n",
              " 'vehicle',\n",
              " 'calcium',\n",
              " 'happy',\n",
              " 'profiles',\n",
              " 'big',\n",
              " 'urinary',\n",
              " 'product',\n",
              " \"'m\",\n",
              " 'localised',\n",
              " 'pizza',\n",
              " 'care',\n",
              " 'peak',\n",
              " 'complete',\n",
              " 'simple',\n",
              " 'suicidal',\n",
              " 'pharmacokinetic',\n",
              " 'tooth',\n",
              " 'social',\n",
              " 'find',\n",
              " 'experimental',\n",
              " 'vascular',\n",
              " 'resulted',\n",
              " 'complex',\n",
              " 'depressive',\n",
              " 'pellets',\n",
              " 'cross',\n",
              " 'degrees',\n",
              " 'physical',\n",
              " 'th',\n",
              " 'linked',\n",
              " 'nightmares',\n",
              " 'cataract',\n",
              " 'am',\n",
              " 'work',\n",
              " 'bite',\n",
              " 'amount',\n",
              " '5',\n",
              " 'month',\n",
              " 'research',\n",
              " 'blog',\n",
              " 'ever',\n",
              " 'improved',\n",
              " 'result',\n",
              " 'too',\n",
              " 'cookbook',\n",
              " 'microspheres',\n",
              " 'distress',\n",
              " 'diabetes',\n",
              " 'overall',\n",
              " 'sensitive',\n",
              " 'flow',\n",
              " 'irritation',\n",
              " 'analgesia',\n",
              " 'awareness',\n",
              " 'glucose',\n",
              " 'membrane',\n",
              " 'according',\n",
              " 'third',\n",
              " 'combined',\n",
              " 'mild',\n",
              " 'impairment',\n",
              " 'efficiency',\n",
              " 'evidence',\n",
              " 'production',\n",
              " 'density',\n",
              " 'surface',\n",
              " 'enteric',\n",
              " 'least',\n",
              " 'necrosis',\n",
              " 'see',\n",
              " 'lesions',\n",
              " 'global',\n",
              " 'specific',\n",
              " 'arrest',\n",
              " 'where',\n",
              " 'oedema',\n",
              " 'duration',\n",
              " 'diffusion',\n",
              " 'nervous',\n",
              " 'five',\n",
              " 'aspirin',\n",
              " 'medical',\n",
              " 'participants',\n",
              " 'assessment',\n",
              " 'gf',\n",
              " 'major',\n",
              " 'dr',\n",
              " 'chest',\n",
              " 'current',\n",
              " 'carried',\n",
              " 'plus',\n",
              " 'cmax',\n",
              " 'once',\n",
              " 'uterine',\n",
              " 'spasm',\n",
              " 'depersonalization',\n",
              " 'technique',\n",
              " 'interactions',\n",
              " 'peripheral',\n",
              " 'upper',\n",
              " 'models',\n",
              " 'possible',\n",
              " 'examined',\n",
              " 'medium',\n",
              " 'investigate',\n",
              " 'localized',\n",
              " 'face',\n",
              " 'achieved',\n",
              " 'positive',\n",
              " 'performance',\n",
              " 'small',\n",
              " 'design',\n",
              " 'responses',\n",
              " 'commercial',\n",
              " 'produced',\n",
              " 'them',\n",
              " 'off',\n",
              " 'determination',\n",
              " 'episode',\n",
              " 'might',\n",
              " 'preparation',\n",
              " 'outcome',\n",
              " 'considered',\n",
              " 'compulsive',\n",
              " 'interaction',\n",
              " 'patch',\n",
              " 'pruritus',\n",
              " 'co',\n",
              " 'diabetic',\n",
              " 'seizures',\n",
              " 'vision',\n",
              " 'foot',\n",
              " 'prostaglandin',\n",
              " 'misoprostol',\n",
              " 'reference',\n",
              " 'novel',\n",
              " 'erythema',\n",
              " 'solid',\n",
              " 'injuries',\n",
              " 'wheat',\n",
              " 'second',\n",
              " 'crazy',\n",
              " 'toxicity',\n",
              " 'thus',\n",
              " 'degree',\n",
              " 'adderall',\n",
              " 'women',\n",
              " 'expression',\n",
              " 'tolerance',\n",
              " 'dizzy',\n",
              " 'autographed',\n",
              " 'synthesis',\n",
              " 'recorded',\n",
              " 'comparison',\n",
              " 'cold',\n",
              " 'inhibited',\n",
              " 'against',\n",
              " 'inhibitors',\n",
              " 'rates',\n",
              " 'maximum',\n",
              " 'vivid',\n",
              " 'whole',\n",
              " 'beads',\n",
              " 'emotional',\n",
              " 'getting',\n",
              " 'indicate',\n",
              " 'making',\n",
              " 'released',\n",
              " 'try',\n",
              " 'ci',\n",
              " 'count',\n",
              " 'stress',\n",
              " 'cardiovascular',\n",
              " 'ventricular',\n",
              " 'detection',\n",
              " 'capsules',\n",
              " 'rofecoxib',\n",
              " 'fever',\n",
              " 'volume',\n",
              " 'methods',\n",
              " 'enzyme',\n",
              " 'intramuscular',\n",
              " 'extent',\n",
              " 'needed',\n",
              " 'tests',\n",
              " 'value',\n",
              " 'saline',\n",
              " 'fracture',\n",
              " 'dic',\n",
              " 'clearance',\n",
              " 'taking',\n",
              " 'hunger',\n",
              " 'phosphate',\n",
              " 'assess',\n",
              " 'fear',\n",
              " 'characterized',\n",
              " 'children',\n",
              " 'flare',\n",
              " 'characteristics',\n",
              " 'easy',\n",
              " 'soup',\n",
              " 'story',\n",
              " 'next',\n",
              " 'alternative',\n",
              " 'activities',\n",
              " 'twice',\n",
              " 'memory',\n",
              " 'media',\n",
              " 'bad',\n",
              " 'friends',\n",
              " 'others',\n",
              " 'highly',\n",
              " 'influence',\n",
              " 'hungry',\n",
              " 'increasing',\n",
              " 'additional',\n",
              " 'last',\n",
              " 'delicious',\n",
              " 'cream',\n",
              " 'abuse',\n",
              " 'ache',\n",
              " 'neoplasm',\n",
              " 'since',\n",
              " 'few',\n",
              " 'looking',\n",
              " 'therefore',\n",
              " 'superior',\n",
              " 'delayed',\n",
              " 'preparations',\n",
              " 'receiving',\n",
              " 'loaded',\n",
              " 'hurt',\n",
              " 'top',\n",
              " 'paracetamol',\n",
              " 'microg',\n",
              " 'buffer',\n",
              " 'lung',\n",
              " 'nauseous',\n",
              " 'transdermal',\n",
              " 'always',\n",
              " 'issues',\n",
              " 'comparable',\n",
              " 'naproxen',\n",
              " 'able',\n",
              " 'foods',\n",
              " 'solutions',\n",
              " 'asthma',\n",
              " 'nerve',\n",
              " 'sneezing',\n",
              " 'really',\n",
              " 'lipid',\n",
              " 'hand',\n",
              " 'obsessive',\n",
              " 'pge',\n",
              " 'affected',\n",
              " 'gi',\n",
              " '2014',\n",
              " 'open',\n",
              " 'genital',\n",
              " 'hip',\n",
              " 'provided',\n",
              " 've',\n",
              " 'lack',\n",
              " 'medications',\n",
              " 'solubility',\n",
              " 'analyzed',\n",
              " 'cambia',\n",
              " 'findings',\n",
              " 'hplc',\n",
              " 'fractures',\n",
              " 'hepatitis',\n",
              " 'beta',\n",
              " 'point',\n",
              " 'several',\n",
              " 'ldl',\n",
              " 'whether',\n",
              " 'max',\n",
              " 'alpha',\n",
              " 'drops',\n",
              " 'shoulder',\n",
              " 'candidiasis',\n",
              " 'fast',\n",
              " 'structure',\n",
              " 'lesion',\n",
              " 'lose',\n",
              " 'ketorolac',\n",
              " 'hp',\n",
              " 'tissues',\n",
              " 'clinically',\n",
              " 'modified',\n",
              " 'index',\n",
              " 'exhibited',\n",
              " 'incidence',\n",
              " 'forms',\n",
              " 'having',\n",
              " 'serious',\n",
              " 'malignant',\n",
              " 'impaired',\n",
              " 'factor',\n",
              " 'bleeding',\n",
              " 'central',\n",
              " 'block',\n",
              " 'own',\n",
              " 'drowsy',\n",
              " 'short',\n",
              " 'soft',\n",
              " 'sick',\n",
              " 'cramps',\n",
              " 'bread',\n",
              " '6',\n",
              " 'thank',\n",
              " 'dpsgc',\n",
              " 'across',\n",
              " 'chitosan',\n",
              " 'terms',\n",
              " 'intoxication',\n",
              " 'america',\n",
              " 'crossover',\n",
              " 'mass',\n",
              " 'arthropod',\n",
              " 'problems',\n",
              " 'euphoric',\n",
              " 'withdrawals',\n",
              " 'thinking',\n",
              " 'microm',\n",
              " 'cyclooxygenase',\n",
              " 'arterial',\n",
              " 'kinetics',\n",
              " 'examination',\n",
              " 'bulimia',\n",
              " 'dfs',\n",
              " 'eudragit',\n",
              " 'objective',\n",
              " 'capsule',\n",
              " 'nasal',\n",
              " 'negative',\n",
              " ...]"
            ]
          },
          "metadata": {
            "tags": []
          },
          "execution_count": 18
        }
      ]
    },
    {
      "cell_type": "code",
      "metadata": {
        "id": "yPWr03mls3VT",
        "outputId": "3e39b616-fccb-4ec1-ec59-3e311241a805",
        "colab": {
          "base_uri": "https://localhost:8080/",
          "height": 17
        }
      },
      "source": [
        "model_path = path/'models'\n",
        "model_path.mkdir(exist_ok=True)\n",
        "url = 'http://files.fast.ai/models/wt103_v1/'\n",
        "download_url(f'{url}lstm_wt103.pth', model_path/'lstm_wt103.pth')\n",
        "download_url(f'{url}itos_wt103.pkl', model_path/'itos_wt103.pkl')"
      ],
      "execution_count": 19,
      "outputs": [
        {
          "output_type": "display_data",
          "data": {
            "text/html": [
              ""
            ],
            "text/plain": [
              "<IPython.core.display.HTML object>"
            ]
          },
          "metadata": {
            "tags": []
          }
        },
        {
          "output_type": "display_data",
          "data": {
            "text/html": [
              ""
            ],
            "text/plain": [
              "<IPython.core.display.HTML object>"
            ]
          },
          "metadata": {
            "tags": []
          }
        }
      ]
    },
    {
      "cell_type": "code",
      "metadata": {
        "id": "JRzvWg8RtGGr",
        "outputId": "d1e98710-f7ea-4e77-800b-06e3925f57b1",
        "colab": {
          "base_uri": "https://localhost:8080/",
          "height": 34
        }
      },
      "source": [
        "learn = language_model_learner(data_lm, AWD_LSTM, drop_mult=0.5)"
      ],
      "execution_count": 20,
      "outputs": [
        {
          "output_type": "stream",
          "text": [
            "Downloading https://s3.amazonaws.com/fast-ai-modelzoo/wt103-fwd.tgz\n"
          ],
          "name": "stdout"
        },
        {
          "output_type": "display_data",
          "data": {
            "text/html": [
              ""
            ],
            "text/plain": [
              "<IPython.core.display.HTML object>"
            ]
          },
          "metadata": {
            "tags": []
          }
        }
      ]
    },
    {
      "cell_type": "code",
      "metadata": {
        "id": "xKK7GeBev7Xn",
        "outputId": "482ce7ff-e38f-4eaf-991b-6d6fbcd335cc",
        "colab": {
          "base_uri": "https://localhost:8080/",
          "height": 80
        }
      },
      "source": [
        "learn.fit_one_cycle(1, 1e-2)"
      ],
      "execution_count": 21,
      "outputs": [
        {
          "output_type": "display_data",
          "data": {
            "text/html": [
              "<table border=\"1\" class=\"dataframe\">\n",
              "  <thead>\n",
              "    <tr style=\"text-align: left;\">\n",
              "      <th>epoch</th>\n",
              "      <th>train_loss</th>\n",
              "      <th>valid_loss</th>\n",
              "      <th>accuracy</th>\n",
              "      <th>time</th>\n",
              "    </tr>\n",
              "  </thead>\n",
              "  <tbody>\n",
              "    <tr>\n",
              "      <td>0</td>\n",
              "      <td>4.727101</td>\n",
              "      <td>4.192534</td>\n",
              "      <td>0.345847</td>\n",
              "      <td>1:05:25</td>\n",
              "    </tr>\n",
              "  </tbody>\n",
              "</table>"
            ],
            "text/plain": [
              "<IPython.core.display.HTML object>"
            ]
          },
          "metadata": {
            "tags": []
          }
        }
      ]
    },
    {
      "cell_type": "code",
      "metadata": {
        "id": "iB7rHGQCwd12",
        "outputId": "cece743d-bfcd-432c-91a9-2505e44113b3",
        "colab": {
          "base_uri": "https://localhost:8080/",
          "height": 80
        }
      },
      "source": [
        "learn.fit_one_cycle(1, 1e-2)"
      ],
      "execution_count": 22,
      "outputs": [
        {
          "output_type": "display_data",
          "data": {
            "text/html": [
              "<table border=\"1\" class=\"dataframe\">\n",
              "  <thead>\n",
              "    <tr style=\"text-align: left;\">\n",
              "      <th>epoch</th>\n",
              "      <th>train_loss</th>\n",
              "      <th>valid_loss</th>\n",
              "      <th>accuracy</th>\n",
              "      <th>time</th>\n",
              "    </tr>\n",
              "  </thead>\n",
              "  <tbody>\n",
              "    <tr>\n",
              "      <td>0</td>\n",
              "      <td>4.015398</td>\n",
              "      <td>3.811608</td>\n",
              "      <td>0.383036</td>\n",
              "      <td>1:06:12</td>\n",
              "    </tr>\n",
              "  </tbody>\n",
              "</table>"
            ],
            "text/plain": [
              "<IPython.core.display.HTML object>"
            ]
          },
          "metadata": {
            "tags": []
          }
        }
      ]
    },
    {
      "cell_type": "code",
      "metadata": {
        "id": "_BnSuAeCwkBe",
        "outputId": "52af66a0-ed14-46bf-e0fa-faf06ad20b63",
        "colab": {
          "base_uri": "https://localhost:8080/",
          "height": 80
        }
      },
      "source": [
        "learn.fit_one_cycle(1, 1e-3)"
      ],
      "execution_count": 23,
      "outputs": [
        {
          "output_type": "display_data",
          "data": {
            "text/html": [
              "<table border=\"1\" class=\"dataframe\">\n",
              "  <thead>\n",
              "    <tr style=\"text-align: left;\">\n",
              "      <th>epoch</th>\n",
              "      <th>train_loss</th>\n",
              "      <th>valid_loss</th>\n",
              "      <th>accuracy</th>\n",
              "      <th>time</th>\n",
              "    </tr>\n",
              "  </thead>\n",
              "  <tbody>\n",
              "    <tr>\n",
              "      <td>0</td>\n",
              "      <td>3.711154</td>\n",
              "      <td>3.768576</td>\n",
              "      <td>0.387473</td>\n",
              "      <td>1:06:43</td>\n",
              "    </tr>\n",
              "  </tbody>\n",
              "</table>"
            ],
            "text/plain": [
              "<IPython.core.display.HTML object>"
            ]
          },
          "metadata": {
            "tags": []
          }
        }
      ]
    },
    {
      "cell_type": "code",
      "metadata": {
        "id": "MuTm-RFjwrEX",
        "outputId": "b0c05ff9-084c-4828-9b4b-e0c4aa6d8596",
        "colab": {
          "base_uri": "https://localhost:8080/",
          "height": 80
        }
      },
      "source": [
        "learn.fit_one_cycle(1, 1e-3)"
      ],
      "execution_count": 24,
      "outputs": [
        {
          "output_type": "display_data",
          "data": {
            "text/html": [
              "<table border=\"1\" class=\"dataframe\">\n",
              "  <thead>\n",
              "    <tr style=\"text-align: left;\">\n",
              "      <th>epoch</th>\n",
              "      <th>train_loss</th>\n",
              "      <th>valid_loss</th>\n",
              "      <th>accuracy</th>\n",
              "      <th>time</th>\n",
              "    </tr>\n",
              "  </thead>\n",
              "  <tbody>\n",
              "    <tr>\n",
              "      <td>0</td>\n",
              "      <td>3.678114</td>\n",
              "      <td>3.736897</td>\n",
              "      <td>0.390578</td>\n",
              "      <td>1:08:25</td>\n",
              "    </tr>\n",
              "  </tbody>\n",
              "</table>"
            ],
            "text/plain": [
              "<IPython.core.display.HTML object>"
            ]
          },
          "metadata": {
            "tags": []
          }
        }
      ]
    },
    {
      "cell_type": "code",
      "metadata": {
        "id": "1Er2ExO8wr7Y"
      },
      "source": [
        "learn.save_encoder('pubmed_cadec_twadrl_mixed_fold2_first')"
      ],
      "execution_count": 25,
      "outputs": []
    },
    {
      "cell_type": "code",
      "metadata": {
        "id": "z52cZs2qwvad",
        "outputId": "7bfc23ee-43b0-42a3-a983-902c22732fda",
        "colab": {
          "base_uri": "https://localhost:8080/",
          "height": 80
        }
      },
      "source": [
        "learn = text_classifier_learner(data_clas,AWD_LSTM, drop_mult=0.5)\n",
        "learn.load_encoder('pubmed_cadec_twadrl_mixed_fold2_first')\n",
        "learn.fit_one_cycle(1, 1e-2)"
      ],
      "execution_count": 26,
      "outputs": [
        {
          "output_type": "display_data",
          "data": {
            "text/html": [
              "<table border=\"1\" class=\"dataframe\">\n",
              "  <thead>\n",
              "    <tr style=\"text-align: left;\">\n",
              "      <th>epoch</th>\n",
              "      <th>train_loss</th>\n",
              "      <th>valid_loss</th>\n",
              "      <th>accuracy</th>\n",
              "      <th>time</th>\n",
              "    </tr>\n",
              "  </thead>\n",
              "  <tbody>\n",
              "    <tr>\n",
              "      <td>0</td>\n",
              "      <td>7.161222</td>\n",
              "      <td>6.473523</td>\n",
              "      <td>0.092857</td>\n",
              "      <td>01:10</td>\n",
              "    </tr>\n",
              "  </tbody>\n",
              "</table>"
            ],
            "text/plain": [
              "<IPython.core.display.HTML object>"
            ]
          },
          "metadata": {
            "tags": []
          }
        }
      ]
    },
    {
      "cell_type": "code",
      "metadata": {
        "id": "ImwQP1PJwzxd",
        "outputId": "7eb51135-1220-4a2b-a4c2-6746caf1c580",
        "colab": {
          "base_uri": "https://localhost:8080/",
          "height": 80
        }
      },
      "source": [
        "learn.freeze_to(-2)\n",
        "learn.fit_one_cycle(1, slice(5e-3/2., 5e-3))"
      ],
      "execution_count": 27,
      "outputs": [
        {
          "output_type": "display_data",
          "data": {
            "text/html": [
              "<table border=\"1\" class=\"dataframe\">\n",
              "  <thead>\n",
              "    <tr style=\"text-align: left;\">\n",
              "      <th>epoch</th>\n",
              "      <th>train_loss</th>\n",
              "      <th>valid_loss</th>\n",
              "      <th>accuracy</th>\n",
              "      <th>time</th>\n",
              "    </tr>\n",
              "  </thead>\n",
              "  <tbody>\n",
              "    <tr>\n",
              "      <td>0</td>\n",
              "      <td>6.195309</td>\n",
              "      <td>5.420801</td>\n",
              "      <td>0.092857</td>\n",
              "      <td>01:21</td>\n",
              "    </tr>\n",
              "  </tbody>\n",
              "</table>"
            ],
            "text/plain": [
              "<IPython.core.display.HTML object>"
            ]
          },
          "metadata": {
            "tags": []
          }
        }
      ]
    },
    {
      "cell_type": "code",
      "metadata": {
        "id": "Owff_BJXw53u",
        "outputId": "06f6889a-f6ca-41e3-9cf8-7535b16d7c4a",
        "colab": {
          "base_uri": "https://localhost:8080/",
          "height": 80
        }
      },
      "source": [
        "learn.unfreeze()\n",
        "learn.fit_one_cycle(1, slice(2e-3/100, 2e-3))"
      ],
      "execution_count": 28,
      "outputs": [
        {
          "output_type": "display_data",
          "data": {
            "text/html": [
              "<table border=\"1\" class=\"dataframe\">\n",
              "  <thead>\n",
              "    <tr style=\"text-align: left;\">\n",
              "      <th>epoch</th>\n",
              "      <th>train_loss</th>\n",
              "      <th>valid_loss</th>\n",
              "      <th>accuracy</th>\n",
              "      <th>time</th>\n",
              "    </tr>\n",
              "  </thead>\n",
              "  <tbody>\n",
              "    <tr>\n",
              "      <td>0</td>\n",
              "      <td>5.677585</td>\n",
              "      <td>5.250565</td>\n",
              "      <td>0.128571</td>\n",
              "      <td>02:47</td>\n",
              "    </tr>\n",
              "  </tbody>\n",
              "</table>"
            ],
            "text/plain": [
              "<IPython.core.display.HTML object>"
            ]
          },
          "metadata": {
            "tags": []
          }
        }
      ]
    },
    {
      "cell_type": "code",
      "metadata": {
        "id": "lqAyu56V8Waq",
        "outputId": "2fc0b16f-926d-4795-f062-56232e3047e3",
        "colab": {
          "base_uri": "https://localhost:8080/",
          "height": 111
        }
      },
      "source": [
        "learn.fit_one_cycle(2, slice(2e-3/100, 2e-3))"
      ],
      "execution_count": 29,
      "outputs": [
        {
          "output_type": "display_data",
          "data": {
            "text/html": [
              "<table border=\"1\" class=\"dataframe\">\n",
              "  <thead>\n",
              "    <tr style=\"text-align: left;\">\n",
              "      <th>epoch</th>\n",
              "      <th>train_loss</th>\n",
              "      <th>valid_loss</th>\n",
              "      <th>accuracy</th>\n",
              "      <th>time</th>\n",
              "    </tr>\n",
              "  </thead>\n",
              "  <tbody>\n",
              "    <tr>\n",
              "      <td>0</td>\n",
              "      <td>5.390932</td>\n",
              "      <td>4.830639</td>\n",
              "      <td>0.178571</td>\n",
              "      <td>02:57</td>\n",
              "    </tr>\n",
              "    <tr>\n",
              "      <td>1</td>\n",
              "      <td>5.159063</td>\n",
              "      <td>4.709438</td>\n",
              "      <td>0.157143</td>\n",
              "      <td>02:57</td>\n",
              "    </tr>\n",
              "  </tbody>\n",
              "</table>"
            ],
            "text/plain": [
              "<IPython.core.display.HTML object>"
            ]
          },
          "metadata": {
            "tags": []
          }
        }
      ]
    },
    {
      "cell_type": "code",
      "metadata": {
        "id": "a7I1xMRp8bUd",
        "outputId": "7d7c7f10-b287-440e-d96e-0e0e57ed21ce",
        "colab": {
          "base_uri": "https://localhost:8080/",
          "height": 111
        }
      },
      "source": [
        "learn.fit_one_cycle(2, slice(2e-3/100, 2e-3))"
      ],
      "execution_count": 30,
      "outputs": [
        {
          "output_type": "display_data",
          "data": {
            "text/html": [
              "<table border=\"1\" class=\"dataframe\">\n",
              "  <thead>\n",
              "    <tr style=\"text-align: left;\">\n",
              "      <th>epoch</th>\n",
              "      <th>train_loss</th>\n",
              "      <th>valid_loss</th>\n",
              "      <th>accuracy</th>\n",
              "      <th>time</th>\n",
              "    </tr>\n",
              "  </thead>\n",
              "  <tbody>\n",
              "    <tr>\n",
              "      <td>0</td>\n",
              "      <td>4.915034</td>\n",
              "      <td>4.484533</td>\n",
              "      <td>0.185714</td>\n",
              "      <td>03:00</td>\n",
              "    </tr>\n",
              "    <tr>\n",
              "      <td>1</td>\n",
              "      <td>4.698413</td>\n",
              "      <td>4.359352</td>\n",
              "      <td>0.221429</td>\n",
              "      <td>02:53</td>\n",
              "    </tr>\n",
              "  </tbody>\n",
              "</table>"
            ],
            "text/plain": [
              "<IPython.core.display.HTML object>"
            ]
          },
          "metadata": {
            "tags": []
          }
        }
      ]
    },
    {
      "cell_type": "code",
      "metadata": {
        "id": "UAnti-XmGVfO",
        "outputId": "3aef0d3b-4fc1-4567-a001-4e01eb2efe0f",
        "colab": {
          "base_uri": "https://localhost:8080/",
          "height": 111
        }
      },
      "source": [
        "learn.fit_one_cycle(2, slice(2e-3/100, 2e-3))"
      ],
      "execution_count": 31,
      "outputs": [
        {
          "output_type": "display_data",
          "data": {
            "text/html": [
              "<table border=\"1\" class=\"dataframe\">\n",
              "  <thead>\n",
              "    <tr style=\"text-align: left;\">\n",
              "      <th>epoch</th>\n",
              "      <th>train_loss</th>\n",
              "      <th>valid_loss</th>\n",
              "      <th>accuracy</th>\n",
              "      <th>time</th>\n",
              "    </tr>\n",
              "  </thead>\n",
              "  <tbody>\n",
              "    <tr>\n",
              "      <td>0</td>\n",
              "      <td>4.539064</td>\n",
              "      <td>4.272354</td>\n",
              "      <td>0.228571</td>\n",
              "      <td>03:02</td>\n",
              "    </tr>\n",
              "    <tr>\n",
              "      <td>1</td>\n",
              "      <td>4.361889</td>\n",
              "      <td>4.242103</td>\n",
              "      <td>0.221429</td>\n",
              "      <td>02:47</td>\n",
              "    </tr>\n",
              "  </tbody>\n",
              "</table>"
            ],
            "text/plain": [
              "<IPython.core.display.HTML object>"
            ]
          },
          "metadata": {
            "tags": []
          }
        }
      ]
    },
    {
      "cell_type": "code",
      "metadata": {
        "id": "bIft7W25GwSu",
        "outputId": "8dca41c9-946f-4040-a4f9-8bf29b08741b",
        "colab": {
          "base_uri": "https://localhost:8080/",
          "height": 111
        }
      },
      "source": [
        "learn.fit_one_cycle(2, slice(2e-3/100, 2e-3))"
      ],
      "execution_count": 32,
      "outputs": [
        {
          "output_type": "display_data",
          "data": {
            "text/html": [
              "<table border=\"1\" class=\"dataframe\">\n",
              "  <thead>\n",
              "    <tr style=\"text-align: left;\">\n",
              "      <th>epoch</th>\n",
              "      <th>train_loss</th>\n",
              "      <th>valid_loss</th>\n",
              "      <th>accuracy</th>\n",
              "      <th>time</th>\n",
              "    </tr>\n",
              "  </thead>\n",
              "  <tbody>\n",
              "    <tr>\n",
              "      <td>0</td>\n",
              "      <td>4.155115</td>\n",
              "      <td>4.078471</td>\n",
              "      <td>0.264286</td>\n",
              "      <td>03:00</td>\n",
              "    </tr>\n",
              "    <tr>\n",
              "      <td>1</td>\n",
              "      <td>3.983797</td>\n",
              "      <td>3.962416</td>\n",
              "      <td>0.321429</td>\n",
              "      <td>02:56</td>\n",
              "    </tr>\n",
              "  </tbody>\n",
              "</table>"
            ],
            "text/plain": [
              "<IPython.core.display.HTML object>"
            ]
          },
          "metadata": {
            "tags": []
          }
        }
      ]
    },
    {
      "cell_type": "code",
      "metadata": {
        "id": "EEHszVRvGyFt",
        "outputId": "e5587d2a-c5db-469d-a24b-18b388db5523",
        "colab": {
          "base_uri": "https://localhost:8080/",
          "height": 111
        }
      },
      "source": [
        "learn.fit_one_cycle(2, slice(2e-3/100, 2e-3))"
      ],
      "execution_count": 33,
      "outputs": [
        {
          "output_type": "display_data",
          "data": {
            "text/html": [
              "<table border=\"1\" class=\"dataframe\">\n",
              "  <thead>\n",
              "    <tr style=\"text-align: left;\">\n",
              "      <th>epoch</th>\n",
              "      <th>train_loss</th>\n",
              "      <th>valid_loss</th>\n",
              "      <th>accuracy</th>\n",
              "      <th>time</th>\n",
              "    </tr>\n",
              "  </thead>\n",
              "  <tbody>\n",
              "    <tr>\n",
              "      <td>0</td>\n",
              "      <td>3.818940</td>\n",
              "      <td>3.918817</td>\n",
              "      <td>0.307143</td>\n",
              "      <td>02:50</td>\n",
              "    </tr>\n",
              "    <tr>\n",
              "      <td>1</td>\n",
              "      <td>3.656406</td>\n",
              "      <td>3.811095</td>\n",
              "      <td>0.328571</td>\n",
              "      <td>03:00</td>\n",
              "    </tr>\n",
              "  </tbody>\n",
              "</table>"
            ],
            "text/plain": [
              "<IPython.core.display.HTML object>"
            ]
          },
          "metadata": {
            "tags": []
          }
        }
      ]
    },
    {
      "cell_type": "code",
      "metadata": {
        "id": "XsHfrhCHG3dN",
        "outputId": "f0e66473-a70f-4c9c-f48f-436b66815dae",
        "colab": {
          "base_uri": "https://localhost:8080/",
          "height": 173
        }
      },
      "source": [
        "learn.fit_one_cycle(4, slice(2e-3/100, 2e-3))"
      ],
      "execution_count": 34,
      "outputs": [
        {
          "output_type": "display_data",
          "data": {
            "text/html": [
              "<table border=\"1\" class=\"dataframe\">\n",
              "  <thead>\n",
              "    <tr style=\"text-align: left;\">\n",
              "      <th>epoch</th>\n",
              "      <th>train_loss</th>\n",
              "      <th>valid_loss</th>\n",
              "      <th>accuracy</th>\n",
              "      <th>time</th>\n",
              "    </tr>\n",
              "  </thead>\n",
              "  <tbody>\n",
              "    <tr>\n",
              "      <td>0</td>\n",
              "      <td>3.553547</td>\n",
              "      <td>3.797604</td>\n",
              "      <td>0.335714</td>\n",
              "      <td>02:49</td>\n",
              "    </tr>\n",
              "    <tr>\n",
              "      <td>1</td>\n",
              "      <td>3.419807</td>\n",
              "      <td>3.750122</td>\n",
              "      <td>0.314286</td>\n",
              "      <td>03:01</td>\n",
              "    </tr>\n",
              "    <tr>\n",
              "      <td>2</td>\n",
              "      <td>3.251576</td>\n",
              "      <td>3.616993</td>\n",
              "      <td>0.364286</td>\n",
              "      <td>02:57</td>\n",
              "    </tr>\n",
              "    <tr>\n",
              "      <td>3</td>\n",
              "      <td>3.100057</td>\n",
              "      <td>3.650171</td>\n",
              "      <td>0.364286</td>\n",
              "      <td>02:47</td>\n",
              "    </tr>\n",
              "  </tbody>\n",
              "</table>"
            ],
            "text/plain": [
              "<IPython.core.display.HTML object>"
            ]
          },
          "metadata": {
            "tags": []
          }
        }
      ]
    },
    {
      "cell_type": "code",
      "metadata": {
        "id": "0Zsd99isb9EQ",
        "outputId": "6c5a9abf-73cb-4f9a-8e65-97efa85ce717",
        "colab": {
          "base_uri": "https://localhost:8080/",
          "height": 173
        }
      },
      "source": [
        "learn.fit_one_cycle(4, slice(2e-3/100, 2e-3))"
      ],
      "execution_count": 35,
      "outputs": [
        {
          "output_type": "display_data",
          "data": {
            "text/html": [
              "<table border=\"1\" class=\"dataframe\">\n",
              "  <thead>\n",
              "    <tr style=\"text-align: left;\">\n",
              "      <th>epoch</th>\n",
              "      <th>train_loss</th>\n",
              "      <th>valid_loss</th>\n",
              "      <th>accuracy</th>\n",
              "      <th>time</th>\n",
              "    </tr>\n",
              "  </thead>\n",
              "  <tbody>\n",
              "    <tr>\n",
              "      <td>0</td>\n",
              "      <td>2.925767</td>\n",
              "      <td>3.642692</td>\n",
              "      <td>0.335714</td>\n",
              "      <td>02:50</td>\n",
              "    </tr>\n",
              "    <tr>\n",
              "      <td>1</td>\n",
              "      <td>2.842019</td>\n",
              "      <td>3.521856</td>\n",
              "      <td>0.392857</td>\n",
              "      <td>02:54</td>\n",
              "    </tr>\n",
              "    <tr>\n",
              "      <td>2</td>\n",
              "      <td>2.678724</td>\n",
              "      <td>3.578883</td>\n",
              "      <td>0.371429</td>\n",
              "      <td>02:48</td>\n",
              "    </tr>\n",
              "    <tr>\n",
              "      <td>3</td>\n",
              "      <td>2.523904</td>\n",
              "      <td>3.551683</td>\n",
              "      <td>0.371429</td>\n",
              "      <td>02:55</td>\n",
              "    </tr>\n",
              "  </tbody>\n",
              "</table>"
            ],
            "text/plain": [
              "<IPython.core.display.HTML object>"
            ]
          },
          "metadata": {
            "tags": []
          }
        }
      ]
    },
    {
      "cell_type": "code",
      "metadata": {
        "id": "atNWNKDFPbuI",
        "outputId": "4bb43b19-ecdb-481e-81e1-343ac1b25cea",
        "colab": {
          "base_uri": "https://localhost:8080/",
          "height": 173
        }
      },
      "source": [
        "learn.fit_one_cycle(4, slice(2e-3/100, 2e-3))"
      ],
      "execution_count": 36,
      "outputs": [
        {
          "output_type": "display_data",
          "data": {
            "text/html": [
              "<table border=\"1\" class=\"dataframe\">\n",
              "  <thead>\n",
              "    <tr style=\"text-align: left;\">\n",
              "      <th>epoch</th>\n",
              "      <th>train_loss</th>\n",
              "      <th>valid_loss</th>\n",
              "      <th>accuracy</th>\n",
              "      <th>time</th>\n",
              "    </tr>\n",
              "  </thead>\n",
              "  <tbody>\n",
              "    <tr>\n",
              "      <td>0</td>\n",
              "      <td>2.352624</td>\n",
              "      <td>3.529103</td>\n",
              "      <td>0.378571</td>\n",
              "      <td>03:09</td>\n",
              "    </tr>\n",
              "    <tr>\n",
              "      <td>1</td>\n",
              "      <td>2.316777</td>\n",
              "      <td>3.573077</td>\n",
              "      <td>0.385714</td>\n",
              "      <td>02:45</td>\n",
              "    </tr>\n",
              "    <tr>\n",
              "      <td>2</td>\n",
              "      <td>2.143351</td>\n",
              "      <td>3.533997</td>\n",
              "      <td>0.385714</td>\n",
              "      <td>03:00</td>\n",
              "    </tr>\n",
              "    <tr>\n",
              "      <td>3</td>\n",
              "      <td>1.999273</td>\n",
              "      <td>3.497978</td>\n",
              "      <td>0.392857</td>\n",
              "      <td>03:00</td>\n",
              "    </tr>\n",
              "  </tbody>\n",
              "</table>"
            ],
            "text/plain": [
              "<IPython.core.display.HTML object>"
            ]
          },
          "metadata": {
            "tags": []
          }
        }
      ]
    },
    {
      "cell_type": "code",
      "metadata": {
        "id": "rKrBTZ0T1uVA",
        "outputId": "1248f820-cde5-4329-c7ae-da5966793f3e",
        "colab": {
          "base_uri": "https://localhost:8080/",
          "height": 173
        }
      },
      "source": [
        "learn.fit_one_cycle(4, slice(2e-3/100, 2e-3))"
      ],
      "execution_count": 37,
      "outputs": [
        {
          "output_type": "display_data",
          "data": {
            "text/html": [
              "<table border=\"1\" class=\"dataframe\">\n",
              "  <thead>\n",
              "    <tr style=\"text-align: left;\">\n",
              "      <th>epoch</th>\n",
              "      <th>train_loss</th>\n",
              "      <th>valid_loss</th>\n",
              "      <th>accuracy</th>\n",
              "      <th>time</th>\n",
              "    </tr>\n",
              "  </thead>\n",
              "  <tbody>\n",
              "    <tr>\n",
              "      <td>0</td>\n",
              "      <td>1.882691</td>\n",
              "      <td>3.574736</td>\n",
              "      <td>0.421429</td>\n",
              "      <td>02:55</td>\n",
              "    </tr>\n",
              "    <tr>\n",
              "      <td>1</td>\n",
              "      <td>1.852416</td>\n",
              "      <td>3.673790</td>\n",
              "      <td>0.414286</td>\n",
              "      <td>03:04</td>\n",
              "    </tr>\n",
              "    <tr>\n",
              "      <td>2</td>\n",
              "      <td>1.708286</td>\n",
              "      <td>3.559109</td>\n",
              "      <td>0.400000</td>\n",
              "      <td>03:05</td>\n",
              "    </tr>\n",
              "    <tr>\n",
              "      <td>3</td>\n",
              "      <td>1.583490</td>\n",
              "      <td>3.601654</td>\n",
              "      <td>0.392857</td>\n",
              "      <td>03:03</td>\n",
              "    </tr>\n",
              "  </tbody>\n",
              "</table>"
            ],
            "text/plain": [
              "<IPython.core.display.HTML object>"
            ]
          },
          "metadata": {
            "tags": []
          }
        }
      ]
    },
    {
      "cell_type": "code",
      "metadata": {
        "id": "ajQC6WDg1yA9",
        "outputId": "f145dcc1-aeec-4457-f167-052d7c4e8f7b",
        "colab": {
          "base_uri": "https://localhost:8080/",
          "height": 173
        }
      },
      "source": [
        "learn.fit_one_cycle(4, slice(2e-3/100, 2e-3))"
      ],
      "execution_count": 38,
      "outputs": [
        {
          "output_type": "display_data",
          "data": {
            "text/html": [
              "<table border=\"1\" class=\"dataframe\">\n",
              "  <thead>\n",
              "    <tr style=\"text-align: left;\">\n",
              "      <th>epoch</th>\n",
              "      <th>train_loss</th>\n",
              "      <th>valid_loss</th>\n",
              "      <th>accuracy</th>\n",
              "      <th>time</th>\n",
              "    </tr>\n",
              "  </thead>\n",
              "  <tbody>\n",
              "    <tr>\n",
              "      <td>0</td>\n",
              "      <td>1.460193</td>\n",
              "      <td>3.644497</td>\n",
              "      <td>0.407143</td>\n",
              "      <td>02:52</td>\n",
              "    </tr>\n",
              "    <tr>\n",
              "      <td>1</td>\n",
              "      <td>1.420687</td>\n",
              "      <td>3.681850</td>\n",
              "      <td>0.378571</td>\n",
              "      <td>02:50</td>\n",
              "    </tr>\n",
              "    <tr>\n",
              "      <td>2</td>\n",
              "      <td>1.337550</td>\n",
              "      <td>3.702210</td>\n",
              "      <td>0.407143</td>\n",
              "      <td>03:01</td>\n",
              "    </tr>\n",
              "    <tr>\n",
              "      <td>3</td>\n",
              "      <td>1.218928</td>\n",
              "      <td>3.745990</td>\n",
              "      <td>0.407143</td>\n",
              "      <td>03:07</td>\n",
              "    </tr>\n",
              "  </tbody>\n",
              "</table>"
            ],
            "text/plain": [
              "<IPython.core.display.HTML object>"
            ]
          },
          "metadata": {
            "tags": []
          }
        }
      ]
    },
    {
      "cell_type": "code",
      "metadata": {
        "id": "KKydb0B4BKGk",
        "outputId": "6a673cc2-1326-4f27-d64e-078cc5e1eba8",
        "colab": {
          "base_uri": "https://localhost:8080/",
          "height": 173
        }
      },
      "source": [
        "learn.fit_one_cycle(4, slice(2e-3/100, 2e-3))"
      ],
      "execution_count": 39,
      "outputs": [
        {
          "output_type": "display_data",
          "data": {
            "text/html": [
              "<table border=\"1\" class=\"dataframe\">\n",
              "  <thead>\n",
              "    <tr style=\"text-align: left;\">\n",
              "      <th>epoch</th>\n",
              "      <th>train_loss</th>\n",
              "      <th>valid_loss</th>\n",
              "      <th>accuracy</th>\n",
              "      <th>time</th>\n",
              "    </tr>\n",
              "  </thead>\n",
              "  <tbody>\n",
              "    <tr>\n",
              "      <td>0</td>\n",
              "      <td>1.139621</td>\n",
              "      <td>3.731466</td>\n",
              "      <td>0.392857</td>\n",
              "      <td>03:02</td>\n",
              "    </tr>\n",
              "    <tr>\n",
              "      <td>1</td>\n",
              "      <td>1.121308</td>\n",
              "      <td>3.793948</td>\n",
              "      <td>0.407143</td>\n",
              "      <td>03:04</td>\n",
              "    </tr>\n",
              "    <tr>\n",
              "      <td>2</td>\n",
              "      <td>1.039532</td>\n",
              "      <td>3.781830</td>\n",
              "      <td>0.421429</td>\n",
              "      <td>02:46</td>\n",
              "    </tr>\n",
              "    <tr>\n",
              "      <td>3</td>\n",
              "      <td>0.954766</td>\n",
              "      <td>3.825248</td>\n",
              "      <td>0.435714</td>\n",
              "      <td>02:55</td>\n",
              "    </tr>\n",
              "  </tbody>\n",
              "</table>"
            ],
            "text/plain": [
              "<IPython.core.display.HTML object>"
            ]
          },
          "metadata": {
            "tags": []
          }
        }
      ]
    },
    {
      "cell_type": "code",
      "metadata": {
        "id": "T2APKtFKBpGY",
        "outputId": "3e4a87e3-a120-43c8-b7a4-39f0e35a5e0b",
        "colab": {
          "base_uri": "https://localhost:8080/",
          "height": 173
        }
      },
      "source": [
        "learn.fit_one_cycle(4, slice(2e-3/100, 2e-3))"
      ],
      "execution_count": 40,
      "outputs": [
        {
          "output_type": "display_data",
          "data": {
            "text/html": [
              "<table border=\"1\" class=\"dataframe\">\n",
              "  <thead>\n",
              "    <tr style=\"text-align: left;\">\n",
              "      <th>epoch</th>\n",
              "      <th>train_loss</th>\n",
              "      <th>valid_loss</th>\n",
              "      <th>accuracy</th>\n",
              "      <th>time</th>\n",
              "    </tr>\n",
              "  </thead>\n",
              "  <tbody>\n",
              "    <tr>\n",
              "      <td>0</td>\n",
              "      <td>0.867782</td>\n",
              "      <td>3.827138</td>\n",
              "      <td>0.435714</td>\n",
              "      <td>03:00</td>\n",
              "    </tr>\n",
              "    <tr>\n",
              "      <td>1</td>\n",
              "      <td>0.901290</td>\n",
              "      <td>3.992245</td>\n",
              "      <td>0.392857</td>\n",
              "      <td>02:50</td>\n",
              "    </tr>\n",
              "    <tr>\n",
              "      <td>2</td>\n",
              "      <td>0.817905</td>\n",
              "      <td>3.912463</td>\n",
              "      <td>0.421429</td>\n",
              "      <td>02:49</td>\n",
              "    </tr>\n",
              "    <tr>\n",
              "      <td>3</td>\n",
              "      <td>0.771158</td>\n",
              "      <td>3.927340</td>\n",
              "      <td>0.407143</td>\n",
              "      <td>02:59</td>\n",
              "    </tr>\n",
              "  </tbody>\n",
              "</table>"
            ],
            "text/plain": [
              "<IPython.core.display.HTML object>"
            ]
          },
          "metadata": {
            "tags": []
          }
        }
      ]
    },
    {
      "cell_type": "code",
      "metadata": {
        "id": "qtTypA1sPgLU",
        "outputId": "768cca3d-eaa7-4624-f5c6-91098db6bdba",
        "colab": {
          "base_uri": "https://localhost:8080/",
          "height": 111
        }
      },
      "source": [
        "learn.fit_one_cycle(2, slice(2e-3/100, 2e-3))"
      ],
      "execution_count": 41,
      "outputs": [
        {
          "output_type": "display_data",
          "data": {
            "text/html": [
              "<table border=\"1\" class=\"dataframe\">\n",
              "  <thead>\n",
              "    <tr style=\"text-align: left;\">\n",
              "      <th>epoch</th>\n",
              "      <th>train_loss</th>\n",
              "      <th>valid_loss</th>\n",
              "      <th>accuracy</th>\n",
              "      <th>time</th>\n",
              "    </tr>\n",
              "  </thead>\n",
              "  <tbody>\n",
              "    <tr>\n",
              "      <td>0</td>\n",
              "      <td>0.724964</td>\n",
              "      <td>3.956065</td>\n",
              "      <td>0.414286</td>\n",
              "      <td>02:56</td>\n",
              "    </tr>\n",
              "    <tr>\n",
              "      <td>1</td>\n",
              "      <td>0.684359</td>\n",
              "      <td>4.079732</td>\n",
              "      <td>0.364286</td>\n",
              "      <td>03:04</td>\n",
              "    </tr>\n",
              "  </tbody>\n",
              "</table>"
            ],
            "text/plain": [
              "<IPython.core.display.HTML object>"
            ]
          },
          "metadata": {
            "tags": []
          }
        }
      ]
    },
    {
      "cell_type": "code",
      "metadata": {
        "id": "b242kBsTUp9Y",
        "outputId": "9cdbe72c-a964-4149-a352-bd9c6f283e11",
        "colab": {
          "base_uri": "https://localhost:8080/",
          "height": 111
        }
      },
      "source": [
        "learn.fit_one_cycle(2, slice(2e-3/100, 2e-3))"
      ],
      "execution_count": 42,
      "outputs": [
        {
          "output_type": "display_data",
          "data": {
            "text/html": [
              "<table border=\"1\" class=\"dataframe\">\n",
              "  <thead>\n",
              "    <tr style=\"text-align: left;\">\n",
              "      <th>epoch</th>\n",
              "      <th>train_loss</th>\n",
              "      <th>valid_loss</th>\n",
              "      <th>accuracy</th>\n",
              "      <th>time</th>\n",
              "    </tr>\n",
              "  </thead>\n",
              "  <tbody>\n",
              "    <tr>\n",
              "      <td>0</td>\n",
              "      <td>0.692360</td>\n",
              "      <td>4.148520</td>\n",
              "      <td>0.392857</td>\n",
              "      <td>02:59</td>\n",
              "    </tr>\n",
              "    <tr>\n",
              "      <td>1</td>\n",
              "      <td>0.658867</td>\n",
              "      <td>4.114002</td>\n",
              "      <td>0.378571</td>\n",
              "      <td>02:53</td>\n",
              "    </tr>\n",
              "  </tbody>\n",
              "</table>"
            ],
            "text/plain": [
              "<IPython.core.display.HTML object>"
            ]
          },
          "metadata": {
            "tags": []
          }
        }
      ]
    },
    {
      "cell_type": "code",
      "metadata": {
        "id": "Duwf1Ih5VeDZ",
        "outputId": "e2282f8f-2cba-40d2-9ab8-b5973de4b9dd",
        "colab": {
          "base_uri": "https://localhost:8080/",
          "height": 80
        }
      },
      "source": [
        "learn.fit_one_cycle(1, slice(2e-3/100, 2e-3))"
      ],
      "execution_count": 43,
      "outputs": [
        {
          "output_type": "display_data",
          "data": {
            "text/html": [
              "<table border=\"1\" class=\"dataframe\">\n",
              "  <thead>\n",
              "    <tr style=\"text-align: left;\">\n",
              "      <th>epoch</th>\n",
              "      <th>train_loss</th>\n",
              "      <th>valid_loss</th>\n",
              "      <th>accuracy</th>\n",
              "      <th>time</th>\n",
              "    </tr>\n",
              "  </thead>\n",
              "  <tbody>\n",
              "    <tr>\n",
              "      <td>0</td>\n",
              "      <td>0.599365</td>\n",
              "      <td>4.304648</td>\n",
              "      <td>0.407143</td>\n",
              "      <td>02:44</td>\n",
              "    </tr>\n",
              "  </tbody>\n",
              "</table>"
            ],
            "text/plain": [
              "<IPython.core.display.HTML object>"
            ]
          },
          "metadata": {
            "tags": []
          }
        }
      ]
    },
    {
      "cell_type": "code",
      "metadata": {
        "id": "FnYpytxh8vX_",
        "outputId": "58963ac5-b575-49b2-e5b0-c0a4e19ee8f2",
        "colab": {
          "base_uri": "https://localhost:8080/",
          "height": 80
        }
      },
      "source": [
        "learn.fit_one_cycle(1, slice(2e-3/100, 2e-3))"
      ],
      "execution_count": 48,
      "outputs": [
        {
          "output_type": "display_data",
          "data": {
            "text/html": [
              "<table border=\"1\" class=\"dataframe\">\n",
              "  <thead>\n",
              "    <tr style=\"text-align: left;\">\n",
              "      <th>epoch</th>\n",
              "      <th>train_loss</th>\n",
              "      <th>valid_loss</th>\n",
              "      <th>accuracy</th>\n",
              "      <th>time</th>\n",
              "    </tr>\n",
              "  </thead>\n",
              "  <tbody>\n",
              "    <tr>\n",
              "      <td>0</td>\n",
              "      <td>0.596055</td>\n",
              "      <td>4.274840</td>\n",
              "      <td>0.407143</td>\n",
              "      <td>02:56</td>\n",
              "    </tr>\n",
              "  </tbody>\n",
              "</table>"
            ],
            "text/plain": [
              "<IPython.core.display.HTML object>"
            ]
          },
          "metadata": {
            "tags": []
          }
        }
      ]
    },
    {
      "cell_type": "code",
      "metadata": {
        "id": "g2RddCl69qGs",
        "outputId": "c4c3ef30-f763-485c-c6cb-1c527f4b5e76",
        "colab": {
          "base_uri": "https://localhost:8080/",
          "height": 80
        }
      },
      "source": [
        "learn.fit_one_cycle(1, slice(2e-3/100, 2e-3))"
      ],
      "execution_count": 53,
      "outputs": [
        {
          "output_type": "display_data",
          "data": {
            "text/html": [
              "<table border=\"1\" class=\"dataframe\">\n",
              "  <thead>\n",
              "    <tr style=\"text-align: left;\">\n",
              "      <th>epoch</th>\n",
              "      <th>train_loss</th>\n",
              "      <th>valid_loss</th>\n",
              "      <th>accuracy</th>\n",
              "      <th>time</th>\n",
              "    </tr>\n",
              "  </thead>\n",
              "  <tbody>\n",
              "    <tr>\n",
              "      <td>0</td>\n",
              "      <td>0.562568</td>\n",
              "      <td>4.442113</td>\n",
              "      <td>0.407143</td>\n",
              "      <td>02:55</td>\n",
              "    </tr>\n",
              "  </tbody>\n",
              "</table>"
            ],
            "text/plain": [
              "<IPython.core.display.HTML object>"
            ]
          },
          "metadata": {
            "tags": []
          }
        }
      ]
    },
    {
      "cell_type": "code",
      "metadata": {
        "id": "c65d-osfDUXm"
      },
      "source": [
        "# save the best model\n",
        "\n",
        "learn.save_encoder('pubmed_cadec_twadrl_mixed_fold2')"
      ],
      "execution_count": 54,
      "outputs": []
    },
    {
      "cell_type": "code",
      "metadata": {
        "id": "x_ahasrh9peU"
      },
      "source": [
        ""
      ],
      "execution_count": 54,
      "outputs": []
    },
    {
      "cell_type": "markdown",
      "metadata": {
        "id": "rCwZU0E2RgM6"
      },
      "source": [
        "# Part three: Predict on the test dataset"
      ]
    },
    {
      "cell_type": "code",
      "metadata": {
        "id": "gDm72c-dOu7d",
        "outputId": "8e6a3410-7e77-410c-d953-eb908c61fbd3",
        "colab": {
          "base_uri": "https://localhost:8080/",
          "height": 17
        }
      },
      "source": [
        "# use the test data for prediction\n",
        "\n",
        "preds, y = learn.get_preds(DatasetType.Test)"
      ],
      "execution_count": 55,
      "outputs": [
        {
          "output_type": "display_data",
          "data": {
            "text/html": [
              ""
            ],
            "text/plain": [
              "<IPython.core.display.HTML object>"
            ]
          },
          "metadata": {
            "tags": []
          }
        }
      ]
    },
    {
      "cell_type": "code",
      "metadata": {
        "id": "6tFSQcsWPvxn",
        "outputId": "d6f2dd8f-dc2a-4b8e-9ccc-741772e79a8d",
        "colab": {
          "base_uri": "https://localhost:8080/",
          "height": 105
        }
      },
      "source": [
        "predictions, *_ = learn.get_preds(DatasetType.Test)\n",
        "labels = np.argmax(predictions, 1)\n",
        "predict_list = labels.tolist()\n",
        "standard_list = test[0].tolist()\n",
        "\n",
        "print(len(predict_list))\n",
        "print(len(standard_list))\n",
        "\n",
        "print(predict_list)\n",
        "print(standard_list)"
      ],
      "execution_count": 56,
      "outputs": [
        {
          "output_type": "display_data",
          "data": {
            "text/html": [
              ""
            ],
            "text/plain": [
              "<IPython.core.display.HTML object>"
            ]
          },
          "metadata": {
            "tags": []
          }
        },
        {
          "output_type": "stream",
          "text": [
            "143\n",
            "143\n",
            "[2191, 1507, 56, 899, 978, 1942, 189, 189, 189, 189, 217, 1521, 233, 1936, 233, 108, 301, 1787, 1787, 393, 396, 418, 445, 923, 582, 908, 743, 720, 744, 744, 749, 749, 749, 887, 1349, 1099, 792, 792, 2125, 1701, 824, 1682, 265, 1184, 1833, 974, 974, 974, 978, 2168, 1019, 359, 359, 1767, 620, 1099, 224, 1940, 1099, 1136, 441, 1184, 1184, 831, 1373, 1265, 1265, 1295, 1295, 852, 1295, 1308, 1373, 1340, 1340, 1507, 1973, 2191, 1099, 1833, 947, 582, 978, 233, 1701, 1526, 1529, 1529, 2149, 978, 109, 1597, 1597, 2147, 1099, 1597, 1610, 108, 1701, 1526, 109, 1767, 1767, 1718, 1815, 1815, 1718, 1815, 1815, 1767, 1768, 809, 1787, 1787, 1787, 1787, 393, 1196, 418, 645, 2191, 1073, 2032, 1936, 418, 233, 1936, 1936, 1099, 1942, 1833, 923, 1373, 579, 1948, 418, 1099, 224, 2147, 1787, 1676, 1787, 393]\n",
            "[13, 24, 56, 57, 94, 113, 189, 189, 189, 189, 217, 224, 233, 233, 233, 265, 301, 393, 393, 393, 396, 418, 445, 452, 582, 605, 609, 720, 744, 745, 749, 749, 749, 749, 755, 791, 792, 792, 813, 819, 824, 825, 857, 908, 947, 974, 974, 974, 978, 1008, 1019, 1054, 1054, 1073, 1099, 1099, 1099, 1099, 1099, 1136, 1142, 1184, 1184, 1208, 1227, 1265, 1265, 1295, 1295, 1295, 1295, 1308, 1325, 1340, 1340, 1340, 1341, 1341, 1348, 1356, 1356, 1373, 1373, 1483, 1526, 1526, 1529, 1529, 1545, 1546, 1578, 1597, 1597, 1597, 1597, 1597, 1610, 1647, 1669, 1701, 1701, 1718, 1718, 1718, 1718, 1718, 1718, 1727, 1727, 1767, 1768, 1769, 1787, 1787, 1787, 1787, 1787, 1798, 1799, 1810, 1815, 1828, 1833, 1936, 1936, 1936, 1936, 1936, 1942, 1942, 1973, 2023, 2026, 2104, 2113, 2118, 2147, 2147, 2147, 2149, 2168, 2191, 2191]\n"
          ],
          "name": "stdout"
        }
      ]
    },
    {
      "cell_type": "code",
      "metadata": {
        "id": "XIC4zufnMxtq",
        "outputId": "2e290f07-c28a-430e-d962-464abef4f9c2",
        "colab": {
          "base_uri": "https://localhost:8080/",
          "height": 51
        }
      },
      "source": [
        "correct_num = 0\n",
        "\n",
        "for i in range(0, len(standard_list)):\n",
        "  if predict_list[i] == standard_list[i]:\n",
        "    correct_num = correct_num+1\n",
        "  else:\n",
        "    pass\n",
        "print(correct_num)\n",
        "\n",
        "predict_accuracy = correct_num/len(predict_list)\n",
        "print(predict_accuracy)"
      ],
      "execution_count": 57,
      "outputs": [
        {
          "output_type": "stream",
          "text": [
            "60\n",
            "0.4195804195804196\n"
          ],
          "name": "stdout"
        }
      ]
    },
    {
      "cell_type": "code",
      "metadata": {
        "id": "zlKMHp1CIaRJ"
      },
      "source": [
        ""
      ],
      "execution_count": 57,
      "outputs": []
    }
  ]
}