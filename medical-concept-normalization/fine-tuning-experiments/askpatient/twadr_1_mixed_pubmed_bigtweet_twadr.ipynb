{
  "nbformat": 4,
  "nbformat_minor": 0,
  "metadata": {
    "accelerator": "TPU",
    "colab": {
      "name": "twadr_1_mixed_pubmed_bigtweet_twadr.ipynb",
      "provenance": [],
      "collapsed_sections": [],
      "toc_visible": true,
      "include_colab_link": true
    },
    "kernelspec": {
      "display_name": "Python 3",
      "name": "python3"
    }
  },
  "cells": [
    {
      "cell_type": "markdown",
      "metadata": {
        "id": "view-in-github",
        "colab_type": "text"
      },
      "source": [
        "<a href=\"https://colab.research.google.com/github/unt-iialab/medical-concept-normalization/blob/master/medical-concept-normalization/fine-tuning-experiments/askpatient/twadr_1_mixed_pubmed_bigtweet_twadr.ipynb\" target=\"_parent\"><img src=\"https://colab.research.google.com/assets/colab-badge.svg\" alt=\"Open In Colab\"/></a>"
      ]
    },
    {
      "cell_type": "code",
      "metadata": {
        "id": "adSi6i2-dWxy"
      },
      "source": [
        "import os"
      ],
      "execution_count": 1,
      "outputs": []
    },
    {
      "cell_type": "code",
      "metadata": {
        "id": "E7xYCRGPjd9B"
      },
      "source": [
        "base_dir = 'medical-concept-normalization'"
      ],
      "execution_count": 2,
      "outputs": []
    },
    {
      "cell_type": "code",
      "metadata": {
        "id": "yvIW3aUDjYNS"
      },
      "source": [
        "os.mkdir(base_dir)"
      ],
      "execution_count": 3,
      "outputs": []
    },
    {
      "cell_type": "code",
      "metadata": {
        "id": "es-FFLlfk6SG"
      },
      "source": [
        "os.mkdir('medical-concept-normalization/data_collection')"
      ],
      "execution_count": 4,
      "outputs": []
    },
    {
      "cell_type": "markdown",
      "metadata": {
        "id": "0R-Guw_VoJXm"
      },
      "source": [
        "**Install fastai and clone the fastai for text classification**\n",
        "\n"
      ]
    },
    {
      "cell_type": "code",
      "metadata": {
        "id": "QVZa3Z0PmHFH",
        "outputId": "d9bcefab-229a-40d8-8883-85d3deb70872",
        "colab": {
          "base_uri": "https://localhost:8080/",
          "height": 68
        }
      },
      "source": [
        "!curl https://course-v3.fast.ai/setup/colab | bash"
      ],
      "execution_count": 5,
      "outputs": [
        {
          "output_type": "stream",
          "text": [
            "  % Total    % Received % Xferd  Average Speed   Time    Time     Time  Current\n",
            "                                 Dload  Upload   Total   Spent    Left  Speed\n",
            "\r  0     0    0     0    0     0      0      0 --:--:-- --:--:-- --:--:--     0curl: (6) Could not resolve host: course-v3.fast.ai\n"
          ],
          "name": "stdout"
        }
      ]
    },
    {
      "cell_type": "code",
      "metadata": {
        "id": "_FBFFEBrmJC0",
        "outputId": "467c4b4a-eaf6-4e74-8f8c-ab19af158867",
        "colab": {
          "base_uri": "https://localhost:8080/",
          "height": 85
        }
      },
      "source": [
        "!git clone https://github.com/wshuyi/demo-nlp-classification-fastai.git"
      ],
      "execution_count": 6,
      "outputs": [
        {
          "output_type": "stream",
          "text": [
            "Cloning into 'demo-nlp-classification-fastai'...\n",
            "remote: Enumerating objects: 9, done.\u001b[K\n",
            "remote: Total 9 (delta 0), reused 0 (delta 0), pack-reused 9\u001b[K\n",
            "Unpacking objects: 100% (9/9), done.\n"
          ],
          "name": "stdout"
        }
      ]
    },
    {
      "cell_type": "code",
      "metadata": {
        "id": "66zfh_JqmWMU"
      },
      "source": [
        "from fastai import *\n",
        "from fastai.text import *"
      ],
      "execution_count": 7,
      "outputs": []
    },
    {
      "cell_type": "markdown",
      "metadata": {
        "id": "mNIw-yALdBU9"
      },
      "source": [
        "**Set the path of the data collections**"
      ]
    },
    {
      "cell_type": "code",
      "metadata": {
        "id": "pzH7VMh4mqCL"
      },
      "source": [
        "path = Path('medical-concept-normalization/data_collection')"
      ],
      "execution_count": 8,
      "outputs": []
    },
    {
      "cell_type": "code",
      "metadata": {
        "id": "b8fjI6yyn4aS"
      },
      "source": [
        "# training data set\n",
        "\n",
        "train_csv = path/'TwADR-L.fold-1.train.csv'\n",
        "train = pd.read_csv(train_csv, header=None)\n",
        "#train.head()\n",
        "#train.info()"
      ],
      "execution_count": 10,
      "outputs": []
    },
    {
      "cell_type": "code",
      "metadata": {
        "id": "Hmlr-bAorfHd",
        "outputId": "29e34705-98f9-416c-c507-bce46d420935",
        "colab": {
          "base_uri": "https://localhost:8080/",
          "height": 204
        }
      },
      "source": [
        "# validating data set\n",
        "\n",
        "valid = pd.read_csv(path/\"TwADR-L.fold-1.validation.csv\",header=None)\n",
        "valid.head()"
      ],
      "execution_count": 11,
      "outputs": [
        {
          "output_type": "execute_result",
          "data": {
            "text/html": [
              "<div>\n",
              "<style scoped>\n",
              "    .dataframe tbody tr th:only-of-type {\n",
              "        vertical-align: middle;\n",
              "    }\n",
              "\n",
              "    .dataframe tbody tr th {\n",
              "        vertical-align: top;\n",
              "    }\n",
              "\n",
              "    .dataframe thead th {\n",
              "        text-align: right;\n",
              "    }\n",
              "</style>\n",
              "<table border=\"1\" class=\"dataframe\">\n",
              "  <thead>\n",
              "    <tr style=\"text-align: right;\">\n",
              "      <th></th>\n",
              "      <th>0</th>\n",
              "      <th>1</th>\n",
              "    </tr>\n",
              "  </thead>\n",
              "  <tbody>\n",
              "    <tr>\n",
              "      <th>0</th>\n",
              "      <td>85</td>\n",
              "      <td>tremor</td>\n",
              "    </tr>\n",
              "    <tr>\n",
              "      <th>1</th>\n",
              "      <td>119</td>\n",
              "      <td>anxiety</td>\n",
              "    </tr>\n",
              "    <tr>\n",
              "      <th>2</th>\n",
              "      <td>154</td>\n",
              "      <td>hives</td>\n",
              "    </tr>\n",
              "    <tr>\n",
              "      <th>3</th>\n",
              "      <td>189</td>\n",
              "      <td>dizziness</td>\n",
              "    </tr>\n",
              "    <tr>\n",
              "      <th>4</th>\n",
              "      <td>189</td>\n",
              "      <td>dizziness</td>\n",
              "    </tr>\n",
              "  </tbody>\n",
              "</table>\n",
              "</div>"
            ],
            "text/plain": [
              "     0          1\n",
              "0   85     tremor\n",
              "1  119    anxiety\n",
              "2  154      hives\n",
              "3  189  dizziness\n",
              "4  189  dizziness"
            ]
          },
          "metadata": {
            "tags": []
          },
          "execution_count": 11
        }
      ]
    },
    {
      "cell_type": "code",
      "metadata": {
        "id": "cOza9dfSsBud",
        "outputId": "df11a9b5-6188-4634-8aba-481a1caa087e",
        "colab": {
          "base_uri": "https://localhost:8080/",
          "height": 204
        }
      },
      "source": [
        "# testing data set\n",
        "\n",
        "test = pd.read_csv(path/\"TwADR-L.fold-1.test.csv\",header=None)\n",
        "test.head()"
      ],
      "execution_count": 12,
      "outputs": [
        {
          "output_type": "execute_result",
          "data": {
            "text/html": [
              "<div>\n",
              "<style scoped>\n",
              "    .dataframe tbody tr th:only-of-type {\n",
              "        vertical-align: middle;\n",
              "    }\n",
              "\n",
              "    .dataframe tbody tr th {\n",
              "        vertical-align: top;\n",
              "    }\n",
              "\n",
              "    .dataframe thead th {\n",
              "        text-align: right;\n",
              "    }\n",
              "</style>\n",
              "<table border=\"1\" class=\"dataframe\">\n",
              "  <thead>\n",
              "    <tr style=\"text-align: right;\">\n",
              "      <th></th>\n",
              "      <th>0</th>\n",
              "      <th>1</th>\n",
              "    </tr>\n",
              "  </thead>\n",
              "  <tbody>\n",
              "    <tr>\n",
              "      <th>0</th>\n",
              "      <td>13</td>\n",
              "      <td>Insomnia</td>\n",
              "    </tr>\n",
              "    <tr>\n",
              "      <th>1</th>\n",
              "      <td>13</td>\n",
              "      <td>awake in the middle of the night</td>\n",
              "    </tr>\n",
              "    <tr>\n",
              "      <th>2</th>\n",
              "      <td>61</td>\n",
              "      <td>very stupid</td>\n",
              "    </tr>\n",
              "    <tr>\n",
              "      <th>3</th>\n",
              "      <td>133</td>\n",
              "      <td>night terrors</td>\n",
              "    </tr>\n",
              "    <tr>\n",
              "      <th>4</th>\n",
              "      <td>189</td>\n",
              "      <td>dizziness</td>\n",
              "    </tr>\n",
              "  </tbody>\n",
              "</table>\n",
              "</div>"
            ],
            "text/plain": [
              "     0                                 1\n",
              "0   13                          Insomnia\n",
              "1   13  awake in the middle of the night\n",
              "2   61                       very stupid\n",
              "3  133                     night terrors\n",
              "4  189                         dizziness"
            ]
          },
          "metadata": {
            "tags": []
          },
          "execution_count": 12
        }
      ]
    },
    {
      "cell_type": "code",
      "metadata": {
        "id": "Vo-YNvVYoaH6",
        "outputId": "e301a108-ac82-4142-9257-00dff098f38c",
        "colab": {
          "base_uri": "https://localhost:8080/",
          "height": 17
        }
      },
      "source": [
        "# Creating DataBunch for language modelling\n",
        "\n",
        "data_lm = TextLMDataBunch.from_csv(path, 'mixed_pubmed_bigtweet_twadr.csv')"
      ],
      "execution_count": 13,
      "outputs": [
        {
          "output_type": "display_data",
          "data": {
            "text/html": [
              ""
            ],
            "text/plain": [
              "<IPython.core.display.HTML object>"
            ]
          },
          "metadata": {
            "tags": []
          }
        },
        {
          "output_type": "display_data",
          "data": {
            "text/html": [
              ""
            ],
            "text/plain": [
              "<IPython.core.display.HTML object>"
            ]
          },
          "metadata": {
            "tags": []
          }
        }
      ]
    },
    {
      "cell_type": "code",
      "metadata": {
        "id": "qcV-9kMnNLBf"
      },
      "source": [
        ""
      ],
      "execution_count": 13,
      "outputs": []
    },
    {
      "cell_type": "code",
      "metadata": {
        "id": "1ScY9afDsnvE"
      },
      "source": [
        "# Creating DataBunch for classification\n",
        "\n",
        "# data_clas = TextClasDataBunch.from_df(path, train, valid, test, vocab=data_lm.train_ds.vocab, bs=128)"
      ],
      "execution_count": 14,
      "outputs": []
    },
    {
      "cell_type": "code",
      "metadata": {
        "id": "gzrSdQcvey9p",
        "outputId": "b183e48f-06d7-4c99-feea-3a9c5cca682d",
        "colab": {
          "base_uri": "https://localhost:8080/",
          "height": 17
        }
      },
      "source": [
        "data_clas = TextClasDataBunch.from_df(path, train, valid, vocab=data_lm.train_ds.vocab, bs=128)"
      ],
      "execution_count": 15,
      "outputs": [
        {
          "output_type": "display_data",
          "data": {
            "text/html": [
              ""
            ],
            "text/plain": [
              "<IPython.core.display.HTML object>"
            ]
          },
          "metadata": {
            "tags": []
          }
        },
        {
          "output_type": "display_data",
          "data": {
            "text/html": [
              ""
            ],
            "text/plain": [
              "<IPython.core.display.HTML object>"
            ]
          },
          "metadata": {
            "tags": []
          }
        }
      ]
    },
    {
      "cell_type": "code",
      "metadata": {
        "id": "MD27Tf0Ke3ou",
        "outputId": "cf139a84-c47a-4dd1-e1c1-d85da8fc9a40",
        "colab": {
          "base_uri": "https://localhost:8080/",
          "height": 17
        }
      },
      "source": [
        "data_clas.add_test(test,label=0)\n"
      ],
      "execution_count": 16,
      "outputs": [
        {
          "output_type": "display_data",
          "data": {
            "text/html": [
              ""
            ],
            "text/plain": [
              "<IPython.core.display.HTML object>"
            ]
          },
          "metadata": {
            "tags": []
          }
        }
      ]
    },
    {
      "cell_type": "code",
      "metadata": {
        "id": "-dpjnk_rstwk"
      },
      "source": [
        "data_lm.save()\n",
        "data_clas.save()"
      ],
      "execution_count": 17,
      "outputs": []
    },
    {
      "cell_type": "code",
      "metadata": {
        "id": "4OkiJa36sw5s",
        "outputId": "23bfa7a8-4083-45f1-9675-533bd4731f4d",
        "colab": {
          "base_uri": "https://localhost:8080/",
          "height": 1000
        }
      },
      "source": [
        "data_lm.train_ds.vocab.itos"
      ],
      "execution_count": 18,
      "outputs": [
        {
          "output_type": "execute_result",
          "data": {
            "text/plain": [
              "['xxunk',\n",
              " 'xxpad',\n",
              " 'xxbos',\n",
              " 'xxeos',\n",
              " 'xxfld',\n",
              " 'xxmaj',\n",
              " 'xxup',\n",
              " 'xxrep',\n",
              " 'xxwrep',\n",
              " 'the',\n",
              " 'of',\n",
              " 'and',\n",
              " 'in',\n",
              " 'to',\n",
              " 'a',\n",
              " 'for',\n",
              " 'with',\n",
              " 'was',\n",
              " 'diclofenac',\n",
              " 'were',\n",
              " 'on',\n",
              " 'is',\n",
              " 'rt',\n",
              " 'pain',\n",
              " 'sodium',\n",
              " 'by',\n",
              " 'drug',\n",
              " 'that',\n",
              " 'as',\n",
              " 'i',\n",
              " 'at',\n",
              " 'or',\n",
              " 'patients',\n",
              " 'this',\n",
              " 'from',\n",
              " 'you',\n",
              " 'disease',\n",
              " 'mg',\n",
              " 'increased',\n",
              " 'be',\n",
              " 'study',\n",
              " 'group',\n",
              " 'my',\n",
              " 'are',\n",
              " 'mood',\n",
              " 'not',\n",
              " 'treatment',\n",
              " 'after',\n",
              " 'it',\n",
              " 'an',\n",
              " 'have',\n",
              " 'me',\n",
              " 'amp',\n",
              " 'p',\n",
              " 'gluten',\n",
              " 'release',\n",
              " ',',\n",
              " 'disorder',\n",
              " 'all',\n",
              " 'free',\n",
              " 'effect',\n",
              " 'abnormal',\n",
              " 'we',\n",
              " 'than',\n",
              " 'no',\n",
              " 'withdrawal',\n",
              " 'symptoms',\n",
              " 'decreased',\n",
              " 'compared',\n",
              " 'out',\n",
              " 'more',\n",
              " 'your',\n",
              " 'using',\n",
              " 'anxiety',\n",
              " 'effects',\n",
              " 'new',\n",
              " 'weight',\n",
              " 'day',\n",
              " 'up',\n",
              " 'groups',\n",
              " 'two',\n",
              " 'our',\n",
              " 'time',\n",
              " 'inflammatory',\n",
              " 'about',\n",
              " 'drugs',\n",
              " 'between',\n",
              " 'its',\n",
              " 'both',\n",
              " 'significantly',\n",
              " 'blood',\n",
              " 'significant',\n",
              " 'like',\n",
              " 'h',\n",
              " 'anti',\n",
              " 'had',\n",
              " 'acute',\n",
              " 'but',\n",
              " 'potassium',\n",
              " 'these',\n",
              " 'skin',\n",
              " 'use',\n",
              " 'disorders',\n",
              " 'can',\n",
              " 'which',\n",
              " 'has',\n",
              " 'voltaren',\n",
              " 'behavior',\n",
              " 'dose',\n",
              " 'do',\n",
              " 'syndrome',\n",
              " 'used',\n",
              " '(',\n",
              " ')',\n",
              " 'placebo',\n",
              " 'results',\n",
              " 'also',\n",
              " 'what',\n",
              " 'days',\n",
              " 'nt',\n",
              " 'glutenfree',\n",
              " 'one',\n",
              " 'there',\n",
              " '-',\n",
              " 's',\n",
              " 'efficacy',\n",
              " 'diseases',\n",
              " 'sleeplessness',\n",
              " 'oral',\n",
              " 'm',\n",
              " 'may',\n",
              " 'concentration',\n",
              " 'celiac',\n",
              " 'ds',\n",
              " 'feeling',\n",
              " 'when',\n",
              " 'showed',\n",
              " 'now',\n",
              " 'treated',\n",
              " 'different',\n",
              " 'ml',\n",
              " 'got',\n",
              " 'w',\n",
              " 'topical',\n",
              " 'finding',\n",
              " 'been',\n",
              " 'non',\n",
              " 'sleep',\n",
              " 'administration',\n",
              " 'insomnia',\n",
              " 'food',\n",
              " 'disturbance',\n",
              " 'so',\n",
              " 'energy',\n",
              " 'c',\n",
              " 'test',\n",
              " 'rats',\n",
              " 'high',\n",
              " 'products',\n",
              " 'their',\n",
              " 'somnolence',\n",
              " 'studies',\n",
              " 'other',\n",
              " 'control',\n",
              " 'via',\n",
              " 'if',\n",
              " 'who',\n",
              " 'well',\n",
              " 'acid',\n",
              " 'during',\n",
              " 'clinical',\n",
              " 'induced',\n",
              " 'plasma',\n",
              " 'hours',\n",
              " 'mental',\n",
              " 'right',\n",
              " 'did',\n",
              " 'how',\n",
              " 'into',\n",
              " 'found',\n",
              " 'could',\n",
              " 'state',\n",
              " 'swelling',\n",
              " 'nsaids',\n",
              " 'body',\n",
              " 'respectively',\n",
              " 'observed',\n",
              " 'rate',\n",
              " 'first',\n",
              " 'mean',\n",
              " 'post',\n",
              " 'formulations',\n",
              " 'depression',\n",
              " 'formulation',\n",
              " 'method',\n",
              " 'appetite',\n",
              " 'diet',\n",
              " 'nausea',\n",
              " 'gel',\n",
              " 'tablets',\n",
              " 'low',\n",
              " 'muscle',\n",
              " 'tip',\n",
              " 'ph',\n",
              " 'those',\n",
              " 'solution',\n",
              " 'feel',\n",
              " 'over',\n",
              " 'gain',\n",
              " 'n',\n",
              " 'review',\n",
              " 'effective',\n",
              " 'g',\n",
              " 'received',\n",
              " 'three',\n",
              " 'd',\n",
              " 'conditions',\n",
              " 'excitability',\n",
              " 'irritable',\n",
              " 'kg',\n",
              " 'cell',\n",
              " 'only',\n",
              " 'renal',\n",
              " 'reaction',\n",
              " 'heart',\n",
              " 'controlled',\n",
              " 'attention',\n",
              " 'each',\n",
              " 'vitro',\n",
              " 'less',\n",
              " 'total',\n",
              " 'levels',\n",
              " 'hyperactive',\n",
              " 'analysis',\n",
              " 'following',\n",
              " 'adverse',\n",
              " 'serum',\n",
              " 'lower',\n",
              " 'activity',\n",
              " 'awake',\n",
              " 'data',\n",
              " 'ceiling',\n",
              " 'analgesic',\n",
              " 'dblclick',\n",
              " 'atorvastatin',\n",
              " 'dizziness',\n",
              " 'eye',\n",
              " 'liver',\n",
              " 'ca',\n",
              " 'daily',\n",
              " 'week',\n",
              " 'single',\n",
              " 'randomized',\n",
              " 'feelings',\n",
              " 'pic',\n",
              " 'level',\n",
              " 'good',\n",
              " 'concentrations',\n",
              " 'allergic',\n",
              " 'get',\n",
              " 'drowsiness',\n",
              " 'weeks',\n",
              " 'period',\n",
              " 'before',\n",
              " 'rash',\n",
              " 'gastrointestinal',\n",
              " 'system',\n",
              " 'headache',\n",
              " 't',\n",
              " 'panic',\n",
              " 'will',\n",
              " 'function',\n",
              " 'most',\n",
              " 'however',\n",
              " 'patient',\n",
              " 'application',\n",
              " 'here',\n",
              " 'they',\n",
              " 'inflammation',\n",
              " 'why',\n",
              " 'evaluated',\n",
              " 'site',\n",
              " 'joint',\n",
              " 'l',\n",
              " 'need',\n",
              " 'loss',\n",
              " 'increase',\n",
              " 'some',\n",
              " 'surgery',\n",
              " 'difference',\n",
              " 'double',\n",
              " 'know',\n",
              " 'reduced',\n",
              " 'life',\n",
              " 'based',\n",
              " 'b',\n",
              " 'model',\n",
              " 'arthritis',\n",
              " 'depressed',\n",
              " 'present',\n",
              " 'dissolution',\n",
              " 'tablet',\n",
              " 'water',\n",
              " 'nsaid',\n",
              " 'any',\n",
              " 'obtained',\n",
              " '#',\n",
              " 'associated',\n",
              " 'therapy',\n",
              " 'postoperative',\n",
              " 'initial',\n",
              " 'injection',\n",
              " 'chronic',\n",
              " 'under',\n",
              " 'check',\n",
              " 'higher',\n",
              " 'just',\n",
              " 'injury',\n",
              " 'infection',\n",
              " 'years',\n",
              " 'healthy',\n",
              " 'similar',\n",
              " 'changes',\n",
              " 'help',\n",
              " 'cells',\n",
              " 'love',\n",
              " 'change',\n",
              " 'edema',\n",
              " 'pressure',\n",
              " 'make',\n",
              " 'bipolar',\n",
              " 'relief',\n",
              " 'trial',\n",
              " 'brain',\n",
              " 'doses',\n",
              " 'vs',\n",
              " 'migraine',\n",
              " 'bone',\n",
              " 'should',\n",
              " 'does',\n",
              " 'swings',\n",
              " 'administered',\n",
              " 'order',\n",
              " 'response',\n",
              " 'tissue',\n",
              " 'gastric',\n",
              " 'great',\n",
              " 'nonsteroidal',\n",
              " 'studied',\n",
              " 'better',\n",
              " 'prepared',\n",
              " 'wakefulness',\n",
              " 'such',\n",
              " 'reported',\n",
              " 'being',\n",
              " 'combination',\n",
              " 'due',\n",
              " 'subjects',\n",
              " 'differences',\n",
              " 'performed',\n",
              " 'eating',\n",
              " 'while',\n",
              " 'blind',\n",
              " 'min',\n",
              " 'visual',\n",
              " 're',\n",
              " 'gfb',\n",
              " 'absorption',\n",
              " 'side',\n",
              " 'type',\n",
              " 'fatigue',\n",
              " \"n't\",\n",
              " 'four',\n",
              " 'values',\n",
              " 'thanks',\n",
              " 'us',\n",
              " 'containing',\n",
              " 'through',\n",
              " 'either',\n",
              " 'events',\n",
              " 'safety',\n",
              " 'ratio',\n",
              " 'decrease',\n",
              " 'very',\n",
              " 'eat',\n",
              " 'given',\n",
              " 'cholesterol',\n",
              " 'respiratory',\n",
              " 'intolerance',\n",
              " 'still',\n",
              " 'dreams',\n",
              " 'knee',\n",
              " 'developed',\n",
              " 'properties',\n",
              " 'x',\n",
              " 'minutes',\n",
              " 'v',\n",
              " 'recipe',\n",
              " 'abdominal',\n",
              " 'measured',\n",
              " 'phase',\n",
              " 'parameters',\n",
              " 'without',\n",
              " '30',\n",
              " 'risk',\n",
              " 'breast',\n",
              " 'assessed',\n",
              " 'potential',\n",
              " 'corneal',\n",
              " 'attacks',\n",
              " 'steroidal',\n",
              " 'times',\n",
              " 'makes',\n",
              " 'reduction',\n",
              " 'within',\n",
              " 'tremor',\n",
              " 'posted',\n",
              " 'statistically',\n",
              " 'samples',\n",
              " 'investigated',\n",
              " 'hemorrhage',\n",
              " 'stiffness',\n",
              " 'compare',\n",
              " 'attack',\n",
              " 'same',\n",
              " 'show',\n",
              " 'night',\n",
              " 'people',\n",
              " 'urine',\n",
              " 'action',\n",
              " 'delivery',\n",
              " 'medication',\n",
              " 'number',\n",
              " 'taste',\n",
              " 'included',\n",
              " 'going',\n",
              " 'death',\n",
              " 'oa',\n",
              " 'vivo',\n",
              " 'living',\n",
              " 'liquid',\n",
              " 'indomethacin',\n",
              " 'many',\n",
              " 'heres',\n",
              " 'therapeutic',\n",
              " 'osteoarthritis',\n",
              " 'damage',\n",
              " 'failure',\n",
              " 'determined',\n",
              " 'mm',\n",
              " 'human',\n",
              " 'primary',\n",
              " 'size',\n",
              " 'auc',\n",
              " 'related',\n",
              " '2',\n",
              " 'go',\n",
              " 'archives',\n",
              " 'best',\n",
              " 'tired',\n",
              " 'much',\n",
              " 'carcinoma',\n",
              " 'applied',\n",
              " 'sleepy',\n",
              " 'scale',\n",
              " 'cardiac',\n",
              " 'deficit',\n",
              " 'evaluate',\n",
              " 'range',\n",
              " 'think',\n",
              " 'development',\n",
              " 'e',\n",
              " 'year',\n",
              " 'rage',\n",
              " 'infections',\n",
              " 'active',\n",
              " 'lipitor',\n",
              " 'form',\n",
              " 'eyes',\n",
              " 'ng',\n",
              " 'local',\n",
              " '\\r \\n ',\n",
              " 'k',\n",
              " 'because',\n",
              " 'bioavailability',\n",
              " 'sustained',\n",
              " 'dry',\n",
              " 'health',\n",
              " 'discomfort',\n",
              " 'read',\n",
              " 'kidney',\n",
              " 'available',\n",
              " 'scores',\n",
              " 'take',\n",
              " 'ii',\n",
              " 'ulcer',\n",
              " 'psychotic',\n",
              " 'addition',\n",
              " 'back',\n",
              " 'tolerability',\n",
              " 'normal',\n",
              " 'greater',\n",
              " 'end',\n",
              " 'male',\n",
              " 'then',\n",
              " 'months',\n",
              " 'demonstrated',\n",
              " 'dependent',\n",
              " 'secondary',\n",
              " 'coated',\n",
              " 'stomach',\n",
              " 'multiple',\n",
              " 'revealed',\n",
              " 'severe',\n",
              " 'sensitivity',\n",
              " 'cox',\n",
              " 'tips',\n",
              " '1',\n",
              " 'na',\n",
              " 'numbness',\n",
              " 'alone',\n",
              " 'down',\n",
              " 'baseline',\n",
              " 'aim',\n",
              " 'pulmonary',\n",
              " 'jennieo',\n",
              " 'polymer',\n",
              " 'tested',\n",
              " 'matrix',\n",
              " 'quality',\n",
              " 'safe',\n",
              " 'news',\n",
              " 'hour',\n",
              " 'process',\n",
              " 'middle',\n",
              " 'treatments',\n",
              " 'article',\n",
              " 'rheumatoid',\n",
              " 'area',\n",
              " 'per',\n",
              " 'chicken',\n",
              " 'diagnosis',\n",
              " 'dermatitis',\n",
              " 'today',\n",
              " 'trials',\n",
              " 'improvement',\n",
              " 'ibuprofen',\n",
              " 'provide',\n",
              " 'even',\n",
              " 'way',\n",
              " 'super',\n",
              " 'temperature',\n",
              " 'cd',\n",
              " 'randomly',\n",
              " 'further',\n",
              " 'dosage',\n",
              " 'cerebral',\n",
              " 'long',\n",
              " 'inhibition',\n",
              " 'de',\n",
              " 'wide',\n",
              " 'f',\n",
              " 'followed',\n",
              " 'difficulty',\n",
              " 'suggest',\n",
              " 'daytime',\n",
              " 'growth',\n",
              " 'diagnosed',\n",
              " 'prolonged',\n",
              " 'early',\n",
              " 'mechanism',\n",
              " 'aqueous',\n",
              " 'sweating',\n",
              " '10',\n",
              " 'animals',\n",
              " 'vomiting',\n",
              " 'allergy',\n",
              " 'would',\n",
              " 'exposure',\n",
              " 'various',\n",
              " 'presence',\n",
              " 'inhibitor',\n",
              " 'part',\n",
              " 'case',\n",
              " 'elevated',\n",
              " 'painful',\n",
              " 'protein',\n",
              " 'common',\n",
              " 'pre',\n",
              " 'hypertension',\n",
              " 'permeation',\n",
              " 'important',\n",
              " 'want',\n",
              " 'agent',\n",
              " 'distress',\n",
              " 'tolerated',\n",
              " 'six',\n",
              " 'whereas',\n",
              " 'volunteers',\n",
              " 'conducted',\n",
              " 'female',\n",
              " 'aggravated',\n",
              " 'follow',\n",
              " 'sensation',\n",
              " 'alcohol',\n",
              " 'cancer',\n",
              " 'every',\n",
              " 'facial',\n",
              " 'zombie',\n",
              " 'asleep',\n",
              " 'ocular',\n",
              " 'peak',\n",
              " 'made',\n",
              " 'fluid',\n",
              " 'caused',\n",
              " 'systemic',\n",
              " 'intensity',\n",
              " 'profiles',\n",
              " 'localised',\n",
              " 'complex',\n",
              " 'product',\n",
              " 'cause',\n",
              " 'mice',\n",
              " 'suicidal',\n",
              " 'shown',\n",
              " 'among',\n",
              " 'big',\n",
              " 'although',\n",
              " 'cases',\n",
              " 'intestinal',\n",
              " 'score',\n",
              " 'combined',\n",
              " 'age',\n",
              " 'indicated',\n",
              " 'irritation',\n",
              " 'standard',\n",
              " 'content',\n",
              " 'pizza',\n",
              " 'hallucinations',\n",
              " 'pharmaceutical',\n",
              " 'dependence',\n",
              " 'divided',\n",
              " 'term',\n",
              " 'formation',\n",
              " 'profile',\n",
              " 'determine',\n",
              " 'please',\n",
              " 'moderate',\n",
              " 'agents',\n",
              " 'tract',\n",
              " 'experimental',\n",
              " 'month',\n",
              " 'including',\n",
              " 'u',\n",
              " 'find',\n",
              " '4',\n",
              " 'vascular',\n",
              " \"'m\",\n",
              " 'old',\n",
              " 'evidence',\n",
              " 'rat',\n",
              " 'vehicle',\n",
              " 'versus',\n",
              " 'hepatic',\n",
              " 'urinary',\n",
              " 'dysfunction',\n",
              " 'care',\n",
              " 'degrees',\n",
              " 'disturbances',\n",
              " 'share',\n",
              " 'surface',\n",
              " 'exhaustion',\n",
              " 'affect',\n",
              " 'calcium',\n",
              " '5',\n",
              " 'creatinine',\n",
              " 'evaluation',\n",
              " 'improved',\n",
              " 'result',\n",
              " 'onset',\n",
              " 'sleepiness',\n",
              " 'glucose',\n",
              " '\\r \\n \\r \\n ',\n",
              " 'dizzy',\n",
              " 'vas',\n",
              " 'happy',\n",
              " 'social',\n",
              " 'r',\n",
              " 'according',\n",
              " 'complete',\n",
              " 'least',\n",
              " 'research',\n",
              " 'chest',\n",
              " 'awareness',\n",
              " 'pharmacokinetic',\n",
              " 'resulted',\n",
              " 'analgesia',\n",
              " 'th',\n",
              " 'physical',\n",
              " 'anger',\n",
              " 'amount',\n",
              " 'cmax',\n",
              " 'carried',\n",
              " 'produced',\n",
              " 'arrest',\n",
              " 'cm',\n",
              " 'rofecoxib',\n",
              " 'diabetes',\n",
              " 'density',\n",
              " 'too',\n",
              " 'cross',\n",
              " 'work',\n",
              " 'beads',\n",
              " 'relative',\n",
              " 'microspheres',\n",
              " 'nightmares',\n",
              " 'spasm',\n",
              " 'cataract',\n",
              " 'vision',\n",
              " 'depressive',\n",
              " 'peripheral',\n",
              " 'volume',\n",
              " 'rapid',\n",
              " 'diabetic',\n",
              " 'off',\n",
              " 'lesions',\n",
              " 'necrosis',\n",
              " 'positive',\n",
              " 'simple',\n",
              " 'ever',\n",
              " 'cream',\n",
              " 'cold',\n",
              " 'might',\n",
              " 'rates',\n",
              " 'achieved',\n",
              " 'am',\n",
              " 'global',\n",
              " 'tooth',\n",
              " 'localized',\n",
              " 'participants',\n",
              " 'linked',\n",
              " 'enteric',\n",
              " 'overall',\n",
              " 'anemia',\n",
              " 'sensitive',\n",
              " 'blog',\n",
              " 'bad',\n",
              " 'misoprostol',\n",
              " 'plus',\n",
              " 'gf',\n",
              " 'medical',\n",
              " 'impairment',\n",
              " 'flow',\n",
              " 'mild',\n",
              " 'duration',\n",
              " 'flare',\n",
              " 'o',\n",
              " 'against',\n",
              " 'ci',\n",
              " 'oedema',\n",
              " 'thus',\n",
              " 'count',\n",
              " 'pellets',\n",
              " 'uterine',\n",
              " 'erythema',\n",
              " 'saline',\n",
              " 'dr',\n",
              " 'efficiency',\n",
              " 'reference',\n",
              " 'paracetamol',\n",
              " 'technique',\n",
              " 'assessment',\n",
              " 'diffusion',\n",
              " 'second',\n",
              " 'solid',\n",
              " 'fever',\n",
              " 'where',\n",
              " 'recorded',\n",
              " 'naproxen',\n",
              " 'production',\n",
              " 'examined',\n",
              " 'tests',\n",
              " 'last',\n",
              " 'interactions',\n",
              " 'soup',\n",
              " 'cookbook',\n",
              " 'seizures',\n",
              " 'pruritus',\n",
              " 'emotional',\n",
              " 'inhibited',\n",
              " 'comparison',\n",
              " 'five',\n",
              " 'episode',\n",
              " 'design',\n",
              " 'membrane',\n",
              " 'aspirin',\n",
              " 'phosphate',\n",
              " 'foot',\n",
              " 'bite',\n",
              " 'once',\n",
              " 'preparation',\n",
              " 'expression',\n",
              " 'synthesis',\n",
              " 'memory',\n",
              " 'see',\n",
              " 'methods',\n",
              " 'commercial',\n",
              " 'current',\n",
              " 'lack',\n",
              " 'taking',\n",
              " 'interaction',\n",
              " 'microg',\n",
              " 'superior',\n",
              " 'whole',\n",
              " 'therefore',\n",
              " 'getting',\n",
              " 'investigate',\n",
              " 'them',\n",
              " 'outcome',\n",
              " 'additional',\n",
              " 'depersonalization',\n",
              " 'tolerance',\n",
              " '2014',\n",
              " 'third',\n",
              " 'index',\n",
              " 'ventricular',\n",
              " 'maximum',\n",
              " 'prostaglandin',\n",
              " 'performance',\n",
              " 'possible',\n",
              " 'extent',\n",
              " 'assess',\n",
              " 'determination',\n",
              " 'easy',\n",
              " 'comparable',\n",
              " 'injuries',\n",
              " 'women',\n",
              " 'issues',\n",
              " 'hungry',\n",
              " 'tissues',\n",
              " 'vivid',\n",
              " 'considered',\n",
              " 'models',\n",
              " 'detection',\n",
              " 'upper',\n",
              " 'abuse',\n",
              " 'crazy',\n",
              " 'influence',\n",
              " 'incidence',\n",
              " 'characterized',\n",
              " 'children',\n",
              " 'open',\n",
              " 'loaded',\n",
              " 'friends',\n",
              " 'patch',\n",
              " 'toxicity',\n",
              " 'looking',\n",
              " 'major',\n",
              " 'inhibitors',\n",
              " 'compulsive',\n",
              " 'nervous',\n",
              " 'novel',\n",
              " 'clearance',\n",
              " 'delicious',\n",
              " 'dic',\n",
              " 'face',\n",
              " 'next',\n",
              " 'drops',\n",
              " 'cardiovascular',\n",
              " 'receiving',\n",
              " 'story',\n",
              " 'ache',\n",
              " 'findings',\n",
              " 'small',\n",
              " 'alternative',\n",
              " 'intramuscular',\n",
              " 'medium',\n",
              " 'activities',\n",
              " 'others',\n",
              " 'fracture',\n",
              " 'hurt',\n",
              " 'co',\n",
              " 'specific',\n",
              " 'responses',\n",
              " 'genital',\n",
              " 'fear',\n",
              " 'short',\n",
              " 'really',\n",
              " 'intoxication',\n",
              " 'needed',\n",
              " 'il',\n",
              " 'degree',\n",
              " 'foods',\n",
              " 'delayed',\n",
              " 'stress',\n",
              " 'adderall',\n",
              " 'few',\n",
              " 'general',\n",
              " 'making',\n",
              " 'lipid',\n",
              " 'neoplasm',\n",
              " 'preparations',\n",
              " 'antiinflammatory',\n",
              " 'increasing',\n",
              " 'hip',\n",
              " 'medications',\n",
              " '6',\n",
              " 'indicate',\n",
              " 'top',\n",
              " 'wheat',\n",
              " 'autographed',\n",
              " 'whether',\n",
              " 'value',\n",
              " 'hand',\n",
              " 'central',\n",
              " 'factor',\n",
              " 'capsules',\n",
              " 'nauseous',\n",
              " 'withdrawals',\n",
              " 'shoulder',\n",
              " 'ketorolac',\n",
              " 'point',\n",
              " 'twice',\n",
              " 'highly',\n",
              " 'alpha',\n",
              " 'having',\n",
              " 'buffer',\n",
              " 'terms',\n",
              " 'sr',\n",
              " 'solutions',\n",
              " 'modified',\n",
              " 'exhibited',\n",
              " 'lung',\n",
              " 'capsule',\n",
              " 'rabbits',\n",
              " 'released',\n",
              " 'information',\n",
              " 'celecoxib',\n",
              " 'drowsy',\n",
              " 'gi',\n",
              " 'serious',\n",
              " 'forms',\n",
              " 'extraction',\n",
              " 'sexual',\n",
              " 'lesion',\n",
              " 'able',\n",
              " 'fractures',\n",
              " 'coming',\n",
              " 'euphoric',\n",
              " 'hunger',\n",
              " 'since',\n",
              " 'examination',\n",
              " 'arterial',\n",
              " 'bread',\n",
              " 'solubility',\n",
              " 'transdermal',\n",
              " 'partial',\n",
              " 'analyzed',\n",
              " 'malignant',\n",
              " 'dpsgc',\n",
              " 'hp',\n",
              " 'asthma',\n",
              " 'fast',\n",
              " 'several',\n",
              " 'dfs',\n",
              " '3',\n",
              " 'learn',\n",
              " 'always',\n",
              " 'event',\n",
              " 'hplc',\n",
              " 'clinically',\n",
              " 'tongue',\n",
              " 'cramps',\n",
              " 'enzyme',\n",
              " 'another',\n",
              " 'recipes',\n",
              " 'try',\n",
              " 'kinetics',\n",
              " 'bulimia',\n",
              " 'affected',\n",
              " 'cyclooxygenase',\n",
              " 'steroid',\n",
              " 'treat',\n",
              " 'consciousness',\n",
              " 'sneezing',\n",
              " 'hpmc',\n",
              " 'beta',\n",
              " 'candidiasis',\n",
              " 'management',\n",
              " 'media',\n",
              " 'reduce',\n",
              " 'nerve',\n",
              " 'mass',\n",
              " 'objective',\n",
              " 'market',\n",
              " 'movement',\n",
              " 'operative',\n",
              " 'provided',\n",
              " 'cambia',\n",
              " 'support',\n",
              " ...]"
            ]
          },
          "metadata": {
            "tags": []
          },
          "execution_count": 18
        }
      ]
    },
    {
      "cell_type": "code",
      "metadata": {
        "id": "yPWr03mls3VT",
        "outputId": "dc4e4da2-585e-494a-b553-f5c3b624c33c",
        "colab": {
          "base_uri": "https://localhost:8080/",
          "height": 17
        }
      },
      "source": [
        "model_path = path/'models'\n",
        "model_path.mkdir(exist_ok=True)\n",
        "url = 'http://files.fast.ai/models/wt103_v1/'\n",
        "download_url(f'{url}lstm_wt103.pth', model_path/'lstm_wt103.pth')\n",
        "download_url(f'{url}itos_wt103.pkl', model_path/'itos_wt103.pkl')"
      ],
      "execution_count": 19,
      "outputs": [
        {
          "output_type": "display_data",
          "data": {
            "text/html": [
              ""
            ],
            "text/plain": [
              "<IPython.core.display.HTML object>"
            ]
          },
          "metadata": {
            "tags": []
          }
        },
        {
          "output_type": "display_data",
          "data": {
            "text/html": [
              ""
            ],
            "text/plain": [
              "<IPython.core.display.HTML object>"
            ]
          },
          "metadata": {
            "tags": []
          }
        }
      ]
    },
    {
      "cell_type": "code",
      "metadata": {
        "id": "JRzvWg8RtGGr",
        "outputId": "79185c3a-3ba1-4de8-f806-5b0079255539",
        "colab": {
          "base_uri": "https://localhost:8080/",
          "height": 34
        }
      },
      "source": [
        "learn = language_model_learner(data_lm, AWD_LSTM, drop_mult=0.5)"
      ],
      "execution_count": 20,
      "outputs": [
        {
          "output_type": "stream",
          "text": [
            "Downloading https://s3.amazonaws.com/fast-ai-modelzoo/wt103-fwd.tgz\n"
          ],
          "name": "stdout"
        },
        {
          "output_type": "display_data",
          "data": {
            "text/html": [
              ""
            ],
            "text/plain": [
              "<IPython.core.display.HTML object>"
            ]
          },
          "metadata": {
            "tags": []
          }
        }
      ]
    },
    {
      "cell_type": "code",
      "metadata": {
        "id": "xKK7GeBev7Xn",
        "outputId": "43b3d85f-4dd6-4976-ebf9-9fd8df3c5ea1",
        "colab": {
          "base_uri": "https://localhost:8080/",
          "height": 80
        }
      },
      "source": [
        "learn.fit_one_cycle(1, 1e-2)"
      ],
      "execution_count": 21,
      "outputs": [
        {
          "output_type": "display_data",
          "data": {
            "text/html": [
              "<table border=\"1\" class=\"dataframe\">\n",
              "  <thead>\n",
              "    <tr style=\"text-align: left;\">\n",
              "      <th>epoch</th>\n",
              "      <th>train_loss</th>\n",
              "      <th>valid_loss</th>\n",
              "      <th>accuracy</th>\n",
              "      <th>time</th>\n",
              "    </tr>\n",
              "  </thead>\n",
              "  <tbody>\n",
              "    <tr>\n",
              "      <td>0</td>\n",
              "      <td>4.748611</td>\n",
              "      <td>4.191018</td>\n",
              "      <td>0.345089</td>\n",
              "      <td>22:53</td>\n",
              "    </tr>\n",
              "  </tbody>\n",
              "</table>"
            ],
            "text/plain": [
              "<IPython.core.display.HTML object>"
            ]
          },
          "metadata": {
            "tags": []
          }
        }
      ]
    },
    {
      "cell_type": "code",
      "metadata": {
        "id": "iB7rHGQCwd12",
        "outputId": "13bc8655-bb62-498a-cc2e-4d2b3bad8189",
        "colab": {
          "base_uri": "https://localhost:8080/",
          "height": 80
        }
      },
      "source": [
        "learn.fit_one_cycle(1, 1e-2)"
      ],
      "execution_count": 22,
      "outputs": [
        {
          "output_type": "display_data",
          "data": {
            "text/html": [
              "<table border=\"1\" class=\"dataframe\">\n",
              "  <thead>\n",
              "    <tr style=\"text-align: left;\">\n",
              "      <th>epoch</th>\n",
              "      <th>train_loss</th>\n",
              "      <th>valid_loss</th>\n",
              "      <th>accuracy</th>\n",
              "      <th>time</th>\n",
              "    </tr>\n",
              "  </thead>\n",
              "  <tbody>\n",
              "    <tr>\n",
              "      <td>0</td>\n",
              "      <td>4.011661</td>\n",
              "      <td>3.813244</td>\n",
              "      <td>0.381223</td>\n",
              "      <td>22:51</td>\n",
              "    </tr>\n",
              "  </tbody>\n",
              "</table>"
            ],
            "text/plain": [
              "<IPython.core.display.HTML object>"
            ]
          },
          "metadata": {
            "tags": []
          }
        }
      ]
    },
    {
      "cell_type": "code",
      "metadata": {
        "id": "_BnSuAeCwkBe",
        "outputId": "2c914a4a-5c9f-4f98-a63e-317be79dabb4",
        "colab": {
          "base_uri": "https://localhost:8080/",
          "height": 80
        }
      },
      "source": [
        "learn.fit_one_cycle(1, 1e-3)"
      ],
      "execution_count": 23,
      "outputs": [
        {
          "output_type": "display_data",
          "data": {
            "text/html": [
              "<table border=\"1\" class=\"dataframe\">\n",
              "  <thead>\n",
              "    <tr style=\"text-align: left;\">\n",
              "      <th>epoch</th>\n",
              "      <th>train_loss</th>\n",
              "      <th>valid_loss</th>\n",
              "      <th>accuracy</th>\n",
              "      <th>time</th>\n",
              "    </tr>\n",
              "  </thead>\n",
              "  <tbody>\n",
              "    <tr>\n",
              "      <td>0</td>\n",
              "      <td>3.728069</td>\n",
              "      <td>3.770616</td>\n",
              "      <td>0.385958</td>\n",
              "      <td>22:52</td>\n",
              "    </tr>\n",
              "  </tbody>\n",
              "</table>"
            ],
            "text/plain": [
              "<IPython.core.display.HTML object>"
            ]
          },
          "metadata": {
            "tags": []
          }
        }
      ]
    },
    {
      "cell_type": "code",
      "metadata": {
        "id": "MuTm-RFjwrEX",
        "outputId": "199c1add-0a40-4038-ab8a-15bbc906af81",
        "colab": {
          "base_uri": "https://localhost:8080/",
          "height": 80
        }
      },
      "source": [
        "learn.fit_one_cycle(1, 1e-3)"
      ],
      "execution_count": 24,
      "outputs": [
        {
          "output_type": "display_data",
          "data": {
            "text/html": [
              "<table border=\"1\" class=\"dataframe\">\n",
              "  <thead>\n",
              "    <tr style=\"text-align: left;\">\n",
              "      <th>epoch</th>\n",
              "      <th>train_loss</th>\n",
              "      <th>valid_loss</th>\n",
              "      <th>accuracy</th>\n",
              "      <th>time</th>\n",
              "    </tr>\n",
              "  </thead>\n",
              "  <tbody>\n",
              "    <tr>\n",
              "      <td>0</td>\n",
              "      <td>3.671226</td>\n",
              "      <td>3.737394</td>\n",
              "      <td>0.389759</td>\n",
              "      <td>23:05</td>\n",
              "    </tr>\n",
              "  </tbody>\n",
              "</table>"
            ],
            "text/plain": [
              "<IPython.core.display.HTML object>"
            ]
          },
          "metadata": {
            "tags": []
          }
        }
      ]
    },
    {
      "cell_type": "code",
      "metadata": {
        "id": "1Er2ExO8wr7Y"
      },
      "source": [
        "learn.save_encoder('pubmed_cadec_twadrl_mixed_fold1_first')"
      ],
      "execution_count": 25,
      "outputs": []
    },
    {
      "cell_type": "code",
      "metadata": {
        "id": "z52cZs2qwvad",
        "outputId": "af0c21dc-0c34-448a-cf35-f1b02af70d85",
        "colab": {
          "base_uri": "https://localhost:8080/",
          "height": 80
        }
      },
      "source": [
        "learn = text_classifier_learner(data_clas,AWD_LSTM, drop_mult=0.5)\n",
        "learn.load_encoder('pubmed_cadec_twadrl_mixed_fold1_first')\n",
        "learn.fit_one_cycle(1, 1e-2)"
      ],
      "execution_count": 26,
      "outputs": [
        {
          "output_type": "display_data",
          "data": {
            "text/html": [
              "<table border=\"1\" class=\"dataframe\">\n",
              "  <thead>\n",
              "    <tr style=\"text-align: left;\">\n",
              "      <th>epoch</th>\n",
              "      <th>train_loss</th>\n",
              "      <th>valid_loss</th>\n",
              "      <th>accuracy</th>\n",
              "      <th>time</th>\n",
              "    </tr>\n",
              "  </thead>\n",
              "  <tbody>\n",
              "    <tr>\n",
              "      <td>0</td>\n",
              "      <td>7.164419</td>\n",
              "      <td>6.193729</td>\n",
              "      <td>0.114035</td>\n",
              "      <td>00:23</td>\n",
              "    </tr>\n",
              "  </tbody>\n",
              "</table>"
            ],
            "text/plain": [
              "<IPython.core.display.HTML object>"
            ]
          },
          "metadata": {
            "tags": []
          }
        }
      ]
    },
    {
      "cell_type": "code",
      "metadata": {
        "id": "ImwQP1PJwzxd",
        "outputId": "cfa3c3a7-b079-431a-e4c9-5ffc15dd787d",
        "colab": {
          "base_uri": "https://localhost:8080/",
          "height": 80
        }
      },
      "source": [
        "learn.freeze_to(-2)\n",
        "learn.fit_one_cycle(1, slice(5e-3/2., 5e-3))"
      ],
      "execution_count": 27,
      "outputs": [
        {
          "output_type": "display_data",
          "data": {
            "text/html": [
              "<table border=\"1\" class=\"dataframe\">\n",
              "  <thead>\n",
              "    <tr style=\"text-align: left;\">\n",
              "      <th>epoch</th>\n",
              "      <th>train_loss</th>\n",
              "      <th>valid_loss</th>\n",
              "      <th>accuracy</th>\n",
              "      <th>time</th>\n",
              "    </tr>\n",
              "  </thead>\n",
              "  <tbody>\n",
              "    <tr>\n",
              "      <td>0</td>\n",
              "      <td>6.179261</td>\n",
              "      <td>5.153201</td>\n",
              "      <td>0.131579</td>\n",
              "      <td>00:27</td>\n",
              "    </tr>\n",
              "  </tbody>\n",
              "</table>"
            ],
            "text/plain": [
              "<IPython.core.display.HTML object>"
            ]
          },
          "metadata": {
            "tags": []
          }
        }
      ]
    },
    {
      "cell_type": "code",
      "metadata": {
        "id": "Owff_BJXw53u",
        "outputId": "dfb032c4-e6ea-41c4-f8f4-ed83e5a5e373",
        "colab": {
          "base_uri": "https://localhost:8080/",
          "height": 80
        }
      },
      "source": [
        "learn.unfreeze()\n",
        "learn.fit_one_cycle(1, slice(2e-3/100, 2e-3))"
      ],
      "execution_count": 28,
      "outputs": [
        {
          "output_type": "display_data",
          "data": {
            "text/html": [
              "<table border=\"1\" class=\"dataframe\">\n",
              "  <thead>\n",
              "    <tr style=\"text-align: left;\">\n",
              "      <th>epoch</th>\n",
              "      <th>train_loss</th>\n",
              "      <th>valid_loss</th>\n",
              "      <th>accuracy</th>\n",
              "      <th>time</th>\n",
              "    </tr>\n",
              "  </thead>\n",
              "  <tbody>\n",
              "    <tr>\n",
              "      <td>0</td>\n",
              "      <td>5.690652</td>\n",
              "      <td>4.478945</td>\n",
              "      <td>0.184211</td>\n",
              "      <td>01:10</td>\n",
              "    </tr>\n",
              "  </tbody>\n",
              "</table>"
            ],
            "text/plain": [
              "<IPython.core.display.HTML object>"
            ]
          },
          "metadata": {
            "tags": []
          }
        }
      ]
    },
    {
      "cell_type": "code",
      "metadata": {
        "id": "lqAyu56V8Waq",
        "outputId": "67a05d30-73aa-42ff-ea56-03a5fb1b10a1",
        "colab": {
          "base_uri": "https://localhost:8080/",
          "height": 111
        }
      },
      "source": [
        "learn.fit_one_cycle(2, slice(2e-3/100, 2e-3))"
      ],
      "execution_count": 29,
      "outputs": [
        {
          "output_type": "display_data",
          "data": {
            "text/html": [
              "<table border=\"1\" class=\"dataframe\">\n",
              "  <thead>\n",
              "    <tr style=\"text-align: left;\">\n",
              "      <th>epoch</th>\n",
              "      <th>train_loss</th>\n",
              "      <th>valid_loss</th>\n",
              "      <th>accuracy</th>\n",
              "      <th>time</th>\n",
              "    </tr>\n",
              "  </thead>\n",
              "  <tbody>\n",
              "    <tr>\n",
              "      <td>0</td>\n",
              "      <td>5.313859</td>\n",
              "      <td>4.183500</td>\n",
              "      <td>0.263158</td>\n",
              "      <td>01:08</td>\n",
              "    </tr>\n",
              "    <tr>\n",
              "      <td>1</td>\n",
              "      <td>5.130180</td>\n",
              "      <td>4.040364</td>\n",
              "      <td>0.254386</td>\n",
              "      <td>01:10</td>\n",
              "    </tr>\n",
              "  </tbody>\n",
              "</table>"
            ],
            "text/plain": [
              "<IPython.core.display.HTML object>"
            ]
          },
          "metadata": {
            "tags": []
          }
        }
      ]
    },
    {
      "cell_type": "code",
      "metadata": {
        "id": "a7I1xMRp8bUd",
        "outputId": "5eee4392-2088-466c-9348-b3c16288cc27",
        "colab": {
          "base_uri": "https://localhost:8080/",
          "height": 111
        }
      },
      "source": [
        "learn.fit_one_cycle(2, slice(2e-3/100, 2e-3))"
      ],
      "execution_count": 30,
      "outputs": [
        {
          "output_type": "display_data",
          "data": {
            "text/html": [
              "<table border=\"1\" class=\"dataframe\">\n",
              "  <thead>\n",
              "    <tr style=\"text-align: left;\">\n",
              "      <th>epoch</th>\n",
              "      <th>train_loss</th>\n",
              "      <th>valid_loss</th>\n",
              "      <th>accuracy</th>\n",
              "      <th>time</th>\n",
              "    </tr>\n",
              "  </thead>\n",
              "  <tbody>\n",
              "    <tr>\n",
              "      <td>0</td>\n",
              "      <td>4.947289</td>\n",
              "      <td>3.885593</td>\n",
              "      <td>0.271930</td>\n",
              "      <td>01:07</td>\n",
              "    </tr>\n",
              "    <tr>\n",
              "      <td>1</td>\n",
              "      <td>4.746967</td>\n",
              "      <td>3.804395</td>\n",
              "      <td>0.280702</td>\n",
              "      <td>01:05</td>\n",
              "    </tr>\n",
              "  </tbody>\n",
              "</table>"
            ],
            "text/plain": [
              "<IPython.core.display.HTML object>"
            ]
          },
          "metadata": {
            "tags": []
          }
        }
      ]
    },
    {
      "cell_type": "code",
      "metadata": {
        "id": "UAnti-XmGVfO",
        "outputId": "7152ee7c-8448-4305-b0a9-2b218c709a5e",
        "colab": {
          "base_uri": "https://localhost:8080/",
          "height": 111
        }
      },
      "source": [
        "learn.fit_one_cycle(2, slice(2e-3/100, 2e-3))"
      ],
      "execution_count": 31,
      "outputs": [
        {
          "output_type": "display_data",
          "data": {
            "text/html": [
              "<table border=\"1\" class=\"dataframe\">\n",
              "  <thead>\n",
              "    <tr style=\"text-align: left;\">\n",
              "      <th>epoch</th>\n",
              "      <th>train_loss</th>\n",
              "      <th>valid_loss</th>\n",
              "      <th>accuracy</th>\n",
              "      <th>time</th>\n",
              "    </tr>\n",
              "  </thead>\n",
              "  <tbody>\n",
              "    <tr>\n",
              "      <td>0</td>\n",
              "      <td>4.472835</td>\n",
              "      <td>3.617919</td>\n",
              "      <td>0.271930</td>\n",
              "      <td>01:11</td>\n",
              "    </tr>\n",
              "    <tr>\n",
              "      <td>1</td>\n",
              "      <td>4.309844</td>\n",
              "      <td>3.580219</td>\n",
              "      <td>0.307018</td>\n",
              "      <td>01:15</td>\n",
              "    </tr>\n",
              "  </tbody>\n",
              "</table>"
            ],
            "text/plain": [
              "<IPython.core.display.HTML object>"
            ]
          },
          "metadata": {
            "tags": []
          }
        }
      ]
    },
    {
      "cell_type": "code",
      "metadata": {
        "id": "bIft7W25GwSu",
        "outputId": "bcd8aa2a-885c-4ebd-f5a4-dbdd28510ffa",
        "colab": {
          "base_uri": "https://localhost:8080/",
          "height": 111
        }
      },
      "source": [
        "learn.fit_one_cycle(2, slice(2e-3/100, 2e-3))"
      ],
      "execution_count": 32,
      "outputs": [
        {
          "output_type": "display_data",
          "data": {
            "text/html": [
              "<table border=\"1\" class=\"dataframe\">\n",
              "  <thead>\n",
              "    <tr style=\"text-align: left;\">\n",
              "      <th>epoch</th>\n",
              "      <th>train_loss</th>\n",
              "      <th>valid_loss</th>\n",
              "      <th>accuracy</th>\n",
              "      <th>time</th>\n",
              "    </tr>\n",
              "  </thead>\n",
              "  <tbody>\n",
              "    <tr>\n",
              "      <td>0</td>\n",
              "      <td>4.143432</td>\n",
              "      <td>3.443631</td>\n",
              "      <td>0.324561</td>\n",
              "      <td>01:08</td>\n",
              "    </tr>\n",
              "    <tr>\n",
              "      <td>1</td>\n",
              "      <td>3.991961</td>\n",
              "      <td>3.464662</td>\n",
              "      <td>0.307018</td>\n",
              "      <td>01:07</td>\n",
              "    </tr>\n",
              "  </tbody>\n",
              "</table>"
            ],
            "text/plain": [
              "<IPython.core.display.HTML object>"
            ]
          },
          "metadata": {
            "tags": []
          }
        }
      ]
    },
    {
      "cell_type": "code",
      "metadata": {
        "id": "EEHszVRvGyFt",
        "outputId": "2456a9f9-585b-4dc0-828f-9761b4d99a4c",
        "colab": {
          "base_uri": "https://localhost:8080/",
          "height": 111
        }
      },
      "source": [
        "learn.fit_one_cycle(2, slice(2e-3/100, 2e-3))"
      ],
      "execution_count": 33,
      "outputs": [
        {
          "output_type": "display_data",
          "data": {
            "text/html": [
              "<table border=\"1\" class=\"dataframe\">\n",
              "  <thead>\n",
              "    <tr style=\"text-align: left;\">\n",
              "      <th>epoch</th>\n",
              "      <th>train_loss</th>\n",
              "      <th>valid_loss</th>\n",
              "      <th>accuracy</th>\n",
              "      <th>time</th>\n",
              "    </tr>\n",
              "  </thead>\n",
              "  <tbody>\n",
              "    <tr>\n",
              "      <td>0</td>\n",
              "      <td>3.795244</td>\n",
              "      <td>3.286752</td>\n",
              "      <td>0.333333</td>\n",
              "      <td>01:07</td>\n",
              "    </tr>\n",
              "    <tr>\n",
              "      <td>1</td>\n",
              "      <td>3.657757</td>\n",
              "      <td>3.246342</td>\n",
              "      <td>0.315789</td>\n",
              "      <td>01:09</td>\n",
              "    </tr>\n",
              "  </tbody>\n",
              "</table>"
            ],
            "text/plain": [
              "<IPython.core.display.HTML object>"
            ]
          },
          "metadata": {
            "tags": []
          }
        }
      ]
    },
    {
      "cell_type": "code",
      "metadata": {
        "id": "XsHfrhCHG3dN",
        "outputId": "93436489-c695-41d1-8423-3acee4983d55",
        "colab": {
          "base_uri": "https://localhost:8080/",
          "height": 173
        }
      },
      "source": [
        "learn.fit_one_cycle(4, slice(2e-3/100, 2e-3))"
      ],
      "execution_count": 34,
      "outputs": [
        {
          "output_type": "display_data",
          "data": {
            "text/html": [
              "<table border=\"1\" class=\"dataframe\">\n",
              "  <thead>\n",
              "    <tr style=\"text-align: left;\">\n",
              "      <th>epoch</th>\n",
              "      <th>train_loss</th>\n",
              "      <th>valid_loss</th>\n",
              "      <th>accuracy</th>\n",
              "      <th>time</th>\n",
              "    </tr>\n",
              "  </thead>\n",
              "  <tbody>\n",
              "    <tr>\n",
              "      <td>0</td>\n",
              "      <td>3.519202</td>\n",
              "      <td>3.208546</td>\n",
              "      <td>0.342105</td>\n",
              "      <td>01:09</td>\n",
              "    </tr>\n",
              "    <tr>\n",
              "      <td>1</td>\n",
              "      <td>3.419823</td>\n",
              "      <td>3.195864</td>\n",
              "      <td>0.333333</td>\n",
              "      <td>01:10</td>\n",
              "    </tr>\n",
              "    <tr>\n",
              "      <td>2</td>\n",
              "      <td>3.241951</td>\n",
              "      <td>3.074203</td>\n",
              "      <td>0.368421</td>\n",
              "      <td>01:11</td>\n",
              "    </tr>\n",
              "    <tr>\n",
              "      <td>3</td>\n",
              "      <td>3.058040</td>\n",
              "      <td>3.059177</td>\n",
              "      <td>0.359649</td>\n",
              "      <td>01:15</td>\n",
              "    </tr>\n",
              "  </tbody>\n",
              "</table>"
            ],
            "text/plain": [
              "<IPython.core.display.HTML object>"
            ]
          },
          "metadata": {
            "tags": []
          }
        }
      ]
    },
    {
      "cell_type": "code",
      "metadata": {
        "id": "0Zsd99isb9EQ",
        "outputId": "ee5c847a-db43-47f3-958c-871dcf1ecab8",
        "colab": {
          "base_uri": "https://localhost:8080/",
          "height": 173
        }
      },
      "source": [
        "learn.fit_one_cycle(4, slice(2e-3/100, 2e-3))"
      ],
      "execution_count": 35,
      "outputs": [
        {
          "output_type": "display_data",
          "data": {
            "text/html": [
              "<table border=\"1\" class=\"dataframe\">\n",
              "  <thead>\n",
              "    <tr style=\"text-align: left;\">\n",
              "      <th>epoch</th>\n",
              "      <th>train_loss</th>\n",
              "      <th>valid_loss</th>\n",
              "      <th>accuracy</th>\n",
              "      <th>time</th>\n",
              "    </tr>\n",
              "  </thead>\n",
              "  <tbody>\n",
              "    <tr>\n",
              "      <td>0</td>\n",
              "      <td>2.903646</td>\n",
              "      <td>3.041420</td>\n",
              "      <td>0.359649</td>\n",
              "      <td>01:11</td>\n",
              "    </tr>\n",
              "    <tr>\n",
              "      <td>1</td>\n",
              "      <td>2.861588</td>\n",
              "      <td>3.037502</td>\n",
              "      <td>0.385965</td>\n",
              "      <td>01:09</td>\n",
              "    </tr>\n",
              "    <tr>\n",
              "      <td>2</td>\n",
              "      <td>2.689419</td>\n",
              "      <td>3.015268</td>\n",
              "      <td>0.394737</td>\n",
              "      <td>01:07</td>\n",
              "    </tr>\n",
              "    <tr>\n",
              "      <td>3</td>\n",
              "      <td>2.506493</td>\n",
              "      <td>3.000467</td>\n",
              "      <td>0.403509</td>\n",
              "      <td>01:08</td>\n",
              "    </tr>\n",
              "  </tbody>\n",
              "</table>"
            ],
            "text/plain": [
              "<IPython.core.display.HTML object>"
            ]
          },
          "metadata": {
            "tags": []
          }
        }
      ]
    },
    {
      "cell_type": "code",
      "metadata": {
        "id": "atNWNKDFPbuI",
        "outputId": "047ea6d9-d946-4829-bdd2-14b991d28925",
        "colab": {
          "base_uri": "https://localhost:8080/",
          "height": 173
        }
      },
      "source": [
        "learn.fit_one_cycle(4, slice(2e-3/100, 2e-3))"
      ],
      "execution_count": 36,
      "outputs": [
        {
          "output_type": "display_data",
          "data": {
            "text/html": [
              "<table border=\"1\" class=\"dataframe\">\n",
              "  <thead>\n",
              "    <tr style=\"text-align: left;\">\n",
              "      <th>epoch</th>\n",
              "      <th>train_loss</th>\n",
              "      <th>valid_loss</th>\n",
              "      <th>accuracy</th>\n",
              "      <th>time</th>\n",
              "    </tr>\n",
              "  </thead>\n",
              "  <tbody>\n",
              "    <tr>\n",
              "      <td>0</td>\n",
              "      <td>2.360404</td>\n",
              "      <td>3.001726</td>\n",
              "      <td>0.412281</td>\n",
              "      <td>01:08</td>\n",
              "    </tr>\n",
              "    <tr>\n",
              "      <td>1</td>\n",
              "      <td>2.319497</td>\n",
              "      <td>3.091278</td>\n",
              "      <td>0.385965</td>\n",
              "      <td>01:10</td>\n",
              "    </tr>\n",
              "    <tr>\n",
              "      <td>2</td>\n",
              "      <td>2.155585</td>\n",
              "      <td>3.063464</td>\n",
              "      <td>0.438596</td>\n",
              "      <td>01:05</td>\n",
              "    </tr>\n",
              "    <tr>\n",
              "      <td>3</td>\n",
              "      <td>1.990394</td>\n",
              "      <td>3.024331</td>\n",
              "      <td>0.429825</td>\n",
              "      <td>01:06</td>\n",
              "    </tr>\n",
              "  </tbody>\n",
              "</table>"
            ],
            "text/plain": [
              "<IPython.core.display.HTML object>"
            ]
          },
          "metadata": {
            "tags": []
          }
        }
      ]
    },
    {
      "cell_type": "code",
      "metadata": {
        "id": "rKrBTZ0T1uVA",
        "outputId": "2b159153-eed0-4783-94cb-26afaaec9405",
        "colab": {
          "base_uri": "https://localhost:8080/",
          "height": 173
        }
      },
      "source": [
        "learn.fit_one_cycle(4, slice(2e-3/100, 2e-3))"
      ],
      "execution_count": 37,
      "outputs": [
        {
          "output_type": "display_data",
          "data": {
            "text/html": [
              "<table border=\"1\" class=\"dataframe\">\n",
              "  <thead>\n",
              "    <tr style=\"text-align: left;\">\n",
              "      <th>epoch</th>\n",
              "      <th>train_loss</th>\n",
              "      <th>valid_loss</th>\n",
              "      <th>accuracy</th>\n",
              "      <th>time</th>\n",
              "    </tr>\n",
              "  </thead>\n",
              "  <tbody>\n",
              "    <tr>\n",
              "      <td>0</td>\n",
              "      <td>1.835489</td>\n",
              "      <td>3.113526</td>\n",
              "      <td>0.421053</td>\n",
              "      <td>01:08</td>\n",
              "    </tr>\n",
              "    <tr>\n",
              "      <td>1</td>\n",
              "      <td>1.806816</td>\n",
              "      <td>3.037092</td>\n",
              "      <td>0.429825</td>\n",
              "      <td>01:10</td>\n",
              "    </tr>\n",
              "    <tr>\n",
              "      <td>2</td>\n",
              "      <td>1.668866</td>\n",
              "      <td>2.992236</td>\n",
              "      <td>0.412281</td>\n",
              "      <td>01:11</td>\n",
              "    </tr>\n",
              "    <tr>\n",
              "      <td>3</td>\n",
              "      <td>1.551970</td>\n",
              "      <td>2.966848</td>\n",
              "      <td>0.412281</td>\n",
              "      <td>01:10</td>\n",
              "    </tr>\n",
              "  </tbody>\n",
              "</table>"
            ],
            "text/plain": [
              "<IPython.core.display.HTML object>"
            ]
          },
          "metadata": {
            "tags": []
          }
        }
      ]
    },
    {
      "cell_type": "code",
      "metadata": {
        "id": "ajQC6WDg1yA9",
        "outputId": "89ce4306-3c08-41b9-ad43-fda5480dba51",
        "colab": {
          "base_uri": "https://localhost:8080/",
          "height": 173
        }
      },
      "source": [
        "learn.fit_one_cycle(4, slice(2e-3/100, 2e-3))"
      ],
      "execution_count": 38,
      "outputs": [
        {
          "output_type": "display_data",
          "data": {
            "text/html": [
              "<table border=\"1\" class=\"dataframe\">\n",
              "  <thead>\n",
              "    <tr style=\"text-align: left;\">\n",
              "      <th>epoch</th>\n",
              "      <th>train_loss</th>\n",
              "      <th>valid_loss</th>\n",
              "      <th>accuracy</th>\n",
              "      <th>time</th>\n",
              "    </tr>\n",
              "  </thead>\n",
              "  <tbody>\n",
              "    <tr>\n",
              "      <td>0</td>\n",
              "      <td>1.401552</td>\n",
              "      <td>3.004032</td>\n",
              "      <td>0.429825</td>\n",
              "      <td>01:07</td>\n",
              "    </tr>\n",
              "    <tr>\n",
              "      <td>1</td>\n",
              "      <td>1.437088</td>\n",
              "      <td>3.141397</td>\n",
              "      <td>0.438596</td>\n",
              "      <td>01:08</td>\n",
              "    </tr>\n",
              "    <tr>\n",
              "      <td>2</td>\n",
              "      <td>1.321278</td>\n",
              "      <td>3.044457</td>\n",
              "      <td>0.429825</td>\n",
              "      <td>01:06</td>\n",
              "    </tr>\n",
              "    <tr>\n",
              "      <td>3</td>\n",
              "      <td>1.224412</td>\n",
              "      <td>3.076880</td>\n",
              "      <td>0.429825</td>\n",
              "      <td>01:08</td>\n",
              "    </tr>\n",
              "  </tbody>\n",
              "</table>"
            ],
            "text/plain": [
              "<IPython.core.display.HTML object>"
            ]
          },
          "metadata": {
            "tags": []
          }
        }
      ]
    },
    {
      "cell_type": "code",
      "metadata": {
        "id": "KKydb0B4BKGk",
        "outputId": "57ca982b-a169-4e7e-86c5-d928bc1c1832",
        "colab": {
          "base_uri": "https://localhost:8080/",
          "height": 173
        }
      },
      "source": [
        "learn.fit_one_cycle(4, slice(2e-3/100, 2e-3))"
      ],
      "execution_count": 39,
      "outputs": [
        {
          "output_type": "display_data",
          "data": {
            "text/html": [
              "<table border=\"1\" class=\"dataframe\">\n",
              "  <thead>\n",
              "    <tr style=\"text-align: left;\">\n",
              "      <th>epoch</th>\n",
              "      <th>train_loss</th>\n",
              "      <th>valid_loss</th>\n",
              "      <th>accuracy</th>\n",
              "      <th>time</th>\n",
              "    </tr>\n",
              "  </thead>\n",
              "  <tbody>\n",
              "    <tr>\n",
              "      <td>0</td>\n",
              "      <td>1.091559</td>\n",
              "      <td>3.194258</td>\n",
              "      <td>0.438596</td>\n",
              "      <td>01:08</td>\n",
              "    </tr>\n",
              "    <tr>\n",
              "      <td>1</td>\n",
              "      <td>1.150246</td>\n",
              "      <td>3.235505</td>\n",
              "      <td>0.429825</td>\n",
              "      <td>01:09</td>\n",
              "    </tr>\n",
              "    <tr>\n",
              "      <td>2</td>\n",
              "      <td>1.046751</td>\n",
              "      <td>3.183353</td>\n",
              "      <td>0.447368</td>\n",
              "      <td>01:09</td>\n",
              "    </tr>\n",
              "    <tr>\n",
              "      <td>3</td>\n",
              "      <td>0.962639</td>\n",
              "      <td>3.239929</td>\n",
              "      <td>0.438596</td>\n",
              "      <td>01:09</td>\n",
              "    </tr>\n",
              "  </tbody>\n",
              "</table>"
            ],
            "text/plain": [
              "<IPython.core.display.HTML object>"
            ]
          },
          "metadata": {
            "tags": []
          }
        }
      ]
    },
    {
      "cell_type": "code",
      "metadata": {
        "id": "T2APKtFKBpGY",
        "outputId": "c12a9797-10d9-4bfa-b6c0-1dba8bfa89d6",
        "colab": {
          "base_uri": "https://localhost:8080/",
          "height": 173
        }
      },
      "source": [
        "learn.fit_one_cycle(4, slice(2e-3/100, 2e-3))"
      ],
      "execution_count": 40,
      "outputs": [
        {
          "output_type": "display_data",
          "data": {
            "text/html": [
              "<table border=\"1\" class=\"dataframe\">\n",
              "  <thead>\n",
              "    <tr style=\"text-align: left;\">\n",
              "      <th>epoch</th>\n",
              "      <th>train_loss</th>\n",
              "      <th>valid_loss</th>\n",
              "      <th>accuracy</th>\n",
              "      <th>time</th>\n",
              "    </tr>\n",
              "  </thead>\n",
              "  <tbody>\n",
              "    <tr>\n",
              "      <td>0</td>\n",
              "      <td>0.860781</td>\n",
              "      <td>3.190727</td>\n",
              "      <td>0.412281</td>\n",
              "      <td>01:09</td>\n",
              "    </tr>\n",
              "    <tr>\n",
              "      <td>1</td>\n",
              "      <td>0.915171</td>\n",
              "      <td>3.309189</td>\n",
              "      <td>0.447368</td>\n",
              "      <td>01:09</td>\n",
              "    </tr>\n",
              "    <tr>\n",
              "      <td>2</td>\n",
              "      <td>0.853939</td>\n",
              "      <td>3.340638</td>\n",
              "      <td>0.447368</td>\n",
              "      <td>01:05</td>\n",
              "    </tr>\n",
              "    <tr>\n",
              "      <td>3</td>\n",
              "      <td>0.769027</td>\n",
              "      <td>3.339736</td>\n",
              "      <td>0.447368</td>\n",
              "      <td>01:07</td>\n",
              "    </tr>\n",
              "  </tbody>\n",
              "</table>"
            ],
            "text/plain": [
              "<IPython.core.display.HTML object>"
            ]
          },
          "metadata": {
            "tags": []
          }
        }
      ]
    },
    {
      "cell_type": "code",
      "metadata": {
        "id": "qtTypA1sPgLU",
        "outputId": "acec6a4b-8401-4433-d9b6-f4da50dfbadc",
        "colab": {
          "base_uri": "https://localhost:8080/",
          "height": 111
        }
      },
      "source": [
        "learn.fit_one_cycle(2, slice(2e-3/100, 2e-3))"
      ],
      "execution_count": 41,
      "outputs": [
        {
          "output_type": "display_data",
          "data": {
            "text/html": [
              "<table border=\"1\" class=\"dataframe\">\n",
              "  <thead>\n",
              "    <tr style=\"text-align: left;\">\n",
              "      <th>epoch</th>\n",
              "      <th>train_loss</th>\n",
              "      <th>valid_loss</th>\n",
              "      <th>accuracy</th>\n",
              "      <th>time</th>\n",
              "    </tr>\n",
              "  </thead>\n",
              "  <tbody>\n",
              "    <tr>\n",
              "      <td>0</td>\n",
              "      <td>0.742477</td>\n",
              "      <td>3.405522</td>\n",
              "      <td>0.464912</td>\n",
              "      <td>01:05</td>\n",
              "    </tr>\n",
              "    <tr>\n",
              "      <td>1</td>\n",
              "      <td>0.725380</td>\n",
              "      <td>3.447947</td>\n",
              "      <td>0.447368</td>\n",
              "      <td>01:10</td>\n",
              "    </tr>\n",
              "  </tbody>\n",
              "</table>"
            ],
            "text/plain": [
              "<IPython.core.display.HTML object>"
            ]
          },
          "metadata": {
            "tags": []
          }
        }
      ]
    },
    {
      "cell_type": "code",
      "metadata": {
        "id": "b242kBsTUp9Y",
        "outputId": "ff1f2afa-6bd5-4ea1-aeb6-50c3d5412358",
        "colab": {
          "base_uri": "https://localhost:8080/",
          "height": 111
        }
      },
      "source": [
        "learn.fit_one_cycle(2, slice(2e-3/100, 2e-3))"
      ],
      "execution_count": 42,
      "outputs": [
        {
          "output_type": "display_data",
          "data": {
            "text/html": [
              "<table border=\"1\" class=\"dataframe\">\n",
              "  <thead>\n",
              "    <tr style=\"text-align: left;\">\n",
              "      <th>epoch</th>\n",
              "      <th>train_loss</th>\n",
              "      <th>valid_loss</th>\n",
              "      <th>accuracy</th>\n",
              "      <th>time</th>\n",
              "    </tr>\n",
              "  </thead>\n",
              "  <tbody>\n",
              "    <tr>\n",
              "      <td>0</td>\n",
              "      <td>0.665480</td>\n",
              "      <td>3.304940</td>\n",
              "      <td>0.421053</td>\n",
              "      <td>01:08</td>\n",
              "    </tr>\n",
              "    <tr>\n",
              "      <td>1</td>\n",
              "      <td>0.653433</td>\n",
              "      <td>3.404199</td>\n",
              "      <td>0.438596</td>\n",
              "      <td>01:07</td>\n",
              "    </tr>\n",
              "  </tbody>\n",
              "</table>"
            ],
            "text/plain": [
              "<IPython.core.display.HTML object>"
            ]
          },
          "metadata": {
            "tags": []
          }
        }
      ]
    },
    {
      "cell_type": "code",
      "metadata": {
        "id": "Duwf1Ih5VeDZ",
        "outputId": "e5a65d2a-2ea5-4119-9d87-9e6f385909ed",
        "colab": {
          "base_uri": "https://localhost:8080/",
          "height": 80
        }
      },
      "source": [
        "learn.fit_one_cycle(1, slice(2e-3/100, 2e-3))"
      ],
      "execution_count": 43,
      "outputs": [
        {
          "output_type": "display_data",
          "data": {
            "text/html": [
              "<table border=\"1\" class=\"dataframe\">\n",
              "  <thead>\n",
              "    <tr style=\"text-align: left;\">\n",
              "      <th>epoch</th>\n",
              "      <th>train_loss</th>\n",
              "      <th>valid_loss</th>\n",
              "      <th>accuracy</th>\n",
              "      <th>time</th>\n",
              "    </tr>\n",
              "  </thead>\n",
              "  <tbody>\n",
              "    <tr>\n",
              "      <td>0</td>\n",
              "      <td>0.629951</td>\n",
              "      <td>3.532238</td>\n",
              "      <td>0.421053</td>\n",
              "      <td>01:11</td>\n",
              "    </tr>\n",
              "  </tbody>\n",
              "</table>"
            ],
            "text/plain": [
              "<IPython.core.display.HTML object>"
            ]
          },
          "metadata": {
            "tags": []
          }
        }
      ]
    },
    {
      "cell_type": "code",
      "metadata": {
        "id": "iArUipydI5Z6",
        "outputId": "15fe79db-efc3-4946-b9df-66405df9d3b5",
        "colab": {
          "base_uri": "https://localhost:8080/",
          "height": 80
        }
      },
      "source": [
        "learn.fit_one_cycle(1, slice(2e-3/100, 2e-3))"
      ],
      "execution_count": 48,
      "outputs": [
        {
          "output_type": "display_data",
          "data": {
            "text/html": [
              "<table border=\"1\" class=\"dataframe\">\n",
              "  <thead>\n",
              "    <tr style=\"text-align: left;\">\n",
              "      <th>epoch</th>\n",
              "      <th>train_loss</th>\n",
              "      <th>valid_loss</th>\n",
              "      <th>accuracy</th>\n",
              "      <th>time</th>\n",
              "    </tr>\n",
              "  </thead>\n",
              "  <tbody>\n",
              "    <tr>\n",
              "      <td>0</td>\n",
              "      <td>0.579087</td>\n",
              "      <td>3.527045</td>\n",
              "      <td>0.429825</td>\n",
              "      <td>01:11</td>\n",
              "    </tr>\n",
              "  </tbody>\n",
              "</table>"
            ],
            "text/plain": [
              "<IPython.core.display.HTML object>"
            ]
          },
          "metadata": {
            "tags": []
          }
        }
      ]
    },
    {
      "cell_type": "code",
      "metadata": {
        "id": "c65d-osfDUXm"
      },
      "source": [
        "# save the best model\n",
        "\n",
        "learn.save_encoder('pubmed_cadec_twadrl_mixed_fold1')"
      ],
      "execution_count": 44,
      "outputs": []
    },
    {
      "cell_type": "markdown",
      "metadata": {
        "id": "rCwZU0E2RgM6"
      },
      "source": [
        "# Part three: Predict on the test dataset"
      ]
    },
    {
      "cell_type": "code",
      "metadata": {
        "id": "gDm72c-dOu7d",
        "outputId": "4eee9fea-57d0-4b3b-ee2a-c83220d0809e",
        "colab": {
          "base_uri": "https://localhost:8080/",
          "height": 17
        }
      },
      "source": [
        "# use the test data for prediction\n",
        "\n",
        "preds, y = learn.get_preds(DatasetType.Test)"
      ],
      "execution_count": 49,
      "outputs": [
        {
          "output_type": "display_data",
          "data": {
            "text/html": [
              ""
            ],
            "text/plain": [
              "<IPython.core.display.HTML object>"
            ]
          },
          "metadata": {
            "tags": []
          }
        }
      ]
    },
    {
      "cell_type": "code",
      "metadata": {
        "id": "6tFSQcsWPvxn",
        "outputId": "4b3cb2d1-b708-4182-d6e6-b0341649b1f6",
        "colab": {
          "base_uri": "https://localhost:8080/",
          "height": 105
        }
      },
      "source": [
        "predictions, *_ = learn.get_preds(DatasetType.Test)\n",
        "labels = np.argmax(predictions, 1)\n",
        "predict_list = labels.tolist()\n",
        "standard_list = test[0].tolist()\n",
        "\n",
        "print(len(predict_list))\n",
        "print(len(standard_list))\n",
        "\n",
        "print(predict_list)\n",
        "print(standard_list)"
      ],
      "execution_count": 50,
      "outputs": [
        {
          "output_type": "display_data",
          "data": {
            "text/html": [
              ""
            ],
            "text/plain": [
              "<IPython.core.display.HTML object>"
            ]
          },
          "metadata": {
            "tags": []
          }
        },
        {
          "output_type": "stream",
          "text": [
            "143\n",
            "143\n",
            "[1787, 233, 2149, 133, 189, 189, 974, 2147, 1936, 2147, 393, 2032, 1787, 1136, 418, 452, 1610, 744, 749, 97, 1769, 1597, 1458, 2018, 1599, 2074, 824, 825, 1787, 852, 2149, 974, 974, 792, 818, 974, 974, 982, 978, 1942, 982, 978, 1062, 1062, 1669, 1089, 1096, 1787, 1175, 1432, 2113, 1546, 1727, 1295, 852, 1711, 1295, 1545, 1295, 417, 1319, 1597, 755, 1432, 1432, 1483, 1529, 91, 1062, 1545, 2097, 966, 1163, 1597, 1769, 1597, 1599, 392, 1610, 1610, 1610, 1526, 2194, 1610, 1073, 1192, 109, 1531, 1573, 1718, 1597, 1767, 1767, 1798, 1767, 1718, 1597, 2113, 1192, 1787, 2032, 1787, 1799, 2023, 923, 978, 1099, 1109, 1099, 1925, 1936, 1936, 1936, 1340, 1936, 1597, 852, 1822, 852, 1356, 1727, 1813, 1727, 2032, 2149, 1787, 189, 189, 1597, 426, 2081, 2147, 2147, 1099, 2147, 2032, 2147, 1545, 2149, 824, 2191, 1529, 2194]\n",
            "[13, 13, 61, 133, 189, 189, 195, 233, 233, 233, 393, 393, 393, 396, 418, 452, 561, 744, 749, 750, 791, 791, 809, 813, 813, 818, 824, 824, 825, 852, 947, 974, 974, 974, 974, 974, 974, 978, 978, 978, 978, 978, 1062, 1062, 1073, 1089, 1096, 1099, 1175, 1214, 1230, 1281, 1281, 1295, 1295, 1295, 1295, 1295, 1295, 1295, 1319, 1321, 1349, 1432, 1432, 1509, 1529, 1529, 1529, 1545, 1546, 1576, 1594, 1597, 1597, 1597, 1599, 1599, 1610, 1610, 1610, 1610, 1610, 1610, 1669, 1676, 1679, 1711, 1711, 1718, 1718, 1718, 1718, 1718, 1727, 1727, 1767, 1767, 1769, 1787, 1787, 1787, 1798, 1813, 1813, 1828, 1877, 1925, 1925, 1925, 1936, 1936, 1936, 1936, 1936, 1942, 1973, 1973, 1973, 2010, 2017, 2023, 2032, 2032, 2032, 2032, 2048, 2048, 2048, 2063, 2081, 2147, 2147, 2147, 2147, 2147, 2147, 2149, 2149, 2168, 2191, 2194, 2194]\n"
          ],
          "name": "stdout"
        }
      ]
    },
    {
      "cell_type": "code",
      "metadata": {
        "id": "XIC4zufnMxtq",
        "outputId": "3d64f828-ee46-48fd-96b3-358ada3972bb",
        "colab": {
          "base_uri": "https://localhost:8080/",
          "height": 51
        }
      },
      "source": [
        "correct_num = 0\n",
        "\n",
        "for i in range(0, len(standard_list)):\n",
        "  if predict_list[i] == standard_list[i]:\n",
        "    correct_num = correct_num+1\n",
        "  else:\n",
        "    pass\n",
        "print(correct_num)\n",
        "\n",
        "predict_accuracy = correct_num/len(predict_list)\n",
        "print(predict_accuracy)"
      ],
      "execution_count": 51,
      "outputs": [
        {
          "output_type": "stream",
          "text": [
            "53\n",
            "0.3706293706293706\n"
          ],
          "name": "stdout"
        }
      ]
    },
    {
      "cell_type": "code",
      "metadata": {
        "id": "zlKMHp1CIaRJ"
      },
      "source": [
        ""
      ],
      "execution_count": 47,
      "outputs": []
    }
  ]
}