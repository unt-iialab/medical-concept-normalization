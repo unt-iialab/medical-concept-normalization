{
  "nbformat": 4,
  "nbformat_minor": 0,
  "metadata": {
    "accelerator": "TPU",
    "colab": {
      "name": "cadec_ask_07.ipynb",
      "provenance": [],
      "collapsed_sections": [],
      "include_colab_link": true
    },
    "kernelspec": {
      "display_name": "Python 3",
      "name": "python3"
    }
  },
  "cells": [
    {
      "cell_type": "markdown",
      "metadata": {
        "id": "view-in-github",
        "colab_type": "text"
      },
      "source": [
        "<a href=\"https://colab.research.google.com/github/unt-iialab/medical-concept-normalization/blob/master/medical-concept-normalization/fine-tuning-experiments/askpatient/cadec_ask_07.ipynb\" target=\"_parent\"><img src=\"https://colab.research.google.com/assets/colab-badge.svg\" alt=\"Open In Colab\"/></a>"
      ]
    },
    {
      "cell_type": "code",
      "metadata": {
        "id": "adSi6i2-dWxy"
      },
      "source": [
        "import os"
      ],
      "execution_count": 1,
      "outputs": []
    },
    {
      "cell_type": "code",
      "metadata": {
        "id": "E7xYCRGPjd9B"
      },
      "source": [
        "base_dir = 'medical-concept-normalization'"
      ],
      "execution_count": 2,
      "outputs": []
    },
    {
      "cell_type": "code",
      "metadata": {
        "id": "yvIW3aUDjYNS"
      },
      "source": [
        "os.mkdir(base_dir)"
      ],
      "execution_count": 3,
      "outputs": []
    },
    {
      "cell_type": "code",
      "metadata": {
        "id": "es-FFLlfk6SG"
      },
      "source": [
        "os.mkdir('medical-concept-normalization/data_collection')"
      ],
      "execution_count": 4,
      "outputs": []
    },
    {
      "cell_type": "markdown",
      "metadata": {
        "id": "0R-Guw_VoJXm"
      },
      "source": [
        "**Install fastai and clone the fastai for text classification**\n",
        "\n"
      ]
    },
    {
      "cell_type": "code",
      "metadata": {
        "id": "QVZa3Z0PmHFH",
        "outputId": "d2622ac4-8724-420e-af59-a3ed8015abfe",
        "colab": {
          "base_uri": "https://localhost:8080/"
        }
      },
      "source": [
        "!curl https://course-v3.fast.ai/setup/colab | bash"
      ],
      "execution_count": 5,
      "outputs": [
        {
          "output_type": "stream",
          "text": [
            "  % Total    % Received % Xferd  Average Speed   Time    Time     Time  Current\n",
            "                                 Dload  Upload   Total   Spent    Left  Speed\n",
            "\r  0     0    0     0    0     0      0      0 --:--:-- --:--:-- --:--:--     0curl: (6) Could not resolve host: course-v3.fast.ai\n"
          ],
          "name": "stdout"
        }
      ]
    },
    {
      "cell_type": "code",
      "metadata": {
        "id": "_FBFFEBrmJC0",
        "outputId": "572e0e3f-380b-4667-9303-e54d4597197e",
        "colab": {
          "base_uri": "https://localhost:8080/"
        }
      },
      "source": [
        "!git clone https://github.com/wshuyi/demo-nlp-classification-fastai.git"
      ],
      "execution_count": 6,
      "outputs": [
        {
          "output_type": "stream",
          "text": [
            "Cloning into 'demo-nlp-classification-fastai'...\n",
            "remote: Enumerating objects: 9, done.\u001b[K\n",
            "Unpacking objects: 100% (9/9), done.\n",
            "remote: Total 9 (delta 0), reused 0 (delta 0), pack-reused 9\u001b[K\n"
          ],
          "name": "stdout"
        }
      ]
    },
    {
      "cell_type": "code",
      "metadata": {
        "id": "66zfh_JqmWMU"
      },
      "source": [
        "from fastai import *\n",
        "from fastai.text import *"
      ],
      "execution_count": 7,
      "outputs": []
    },
    {
      "cell_type": "markdown",
      "metadata": {
        "id": "mNIw-yALdBU9"
      },
      "source": [
        "**Set the path of the data collections**"
      ]
    },
    {
      "cell_type": "code",
      "metadata": {
        "id": "pzH7VMh4mqCL"
      },
      "source": [
        "path = Path('medical-concept-normalization/data_collection')"
      ],
      "execution_count": 8,
      "outputs": []
    },
    {
      "cell_type": "code",
      "metadata": {
        "id": "b8fjI6yyn4aS"
      },
      "source": [
        "# training data set\n",
        "\n",
        "train_csv = path/'AskAPatient.fold-7.train.csv'\n",
        "train = pd.read_csv(train_csv, header=None)\n",
        "#train.head()\n",
        "#train.info()"
      ],
      "execution_count": 10,
      "outputs": []
    },
    {
      "cell_type": "code",
      "metadata": {
        "id": "Hmlr-bAorfHd",
        "outputId": "db1789b0-35fb-4949-df87-9dedbc59b96d",
        "colab": {
          "base_uri": "https://localhost:8080/",
          "height": 204
        }
      },
      "source": [
        "# validating data set\n",
        "\n",
        "valid = pd.read_csv(path/\"AskAPatient.fold-7.validation.csv\",header=None)\n",
        "valid.head()"
      ],
      "execution_count": 11,
      "outputs": [
        {
          "output_type": "execute_result",
          "data": {
            "text/html": [
              "<div>\n",
              "<style scoped>\n",
              "    .dataframe tbody tr th:only-of-type {\n",
              "        vertical-align: middle;\n",
              "    }\n",
              "\n",
              "    .dataframe tbody tr th {\n",
              "        vertical-align: top;\n",
              "    }\n",
              "\n",
              "    .dataframe thead th {\n",
              "        text-align: right;\n",
              "    }\n",
              "</style>\n",
              "<table border=\"1\" class=\"dataframe\">\n",
              "  <thead>\n",
              "    <tr style=\"text-align: right;\">\n",
              "      <th></th>\n",
              "      <th>0</th>\n",
              "      <th>1</th>\n",
              "    </tr>\n",
              "  </thead>\n",
              "  <tbody>\n",
              "    <tr>\n",
              "      <th>0</th>\n",
              "      <td>0</td>\n",
              "      <td>fear</td>\n",
              "    </tr>\n",
              "    <tr>\n",
              "      <th>1</th>\n",
              "      <td>2</td>\n",
              "      <td>heel pain</td>\n",
              "    </tr>\n",
              "    <tr>\n",
              "      <th>2</th>\n",
              "      <td>4</td>\n",
              "      <td>Discoloration of skin [blotchy] on the neck</td>\n",
              "    </tr>\n",
              "    <tr>\n",
              "      <th>3</th>\n",
              "      <td>8</td>\n",
              "      <td>arthritis</td>\n",
              "    </tr>\n",
              "    <tr>\n",
              "      <th>4</th>\n",
              "      <td>8</td>\n",
              "      <td>arthritis</td>\n",
              "    </tr>\n",
              "  </tbody>\n",
              "</table>\n",
              "</div>"
            ],
            "text/plain": [
              "   0                                            1\n",
              "0  0                                         fear\n",
              "1  2                                    heel pain\n",
              "2  4  Discoloration of skin [blotchy] on the neck\n",
              "3  8                                    arthritis\n",
              "4  8                                    arthritis"
            ]
          },
          "metadata": {
            "tags": []
          },
          "execution_count": 11
        }
      ]
    },
    {
      "cell_type": "code",
      "metadata": {
        "id": "cOza9dfSsBud",
        "outputId": "fdb82525-7c68-4410-bf19-f243172f9c70",
        "colab": {
          "base_uri": "https://localhost:8080/",
          "height": 204
        }
      },
      "source": [
        "# testing data set\n",
        "\n",
        "test = pd.read_csv(path/\"AskAPatient.fold-7.test.csv\",header=None)\n",
        "test.head()"
      ],
      "execution_count": 12,
      "outputs": [
        {
          "output_type": "execute_result",
          "data": {
            "text/html": [
              "<div>\n",
              "<style scoped>\n",
              "    .dataframe tbody tr th:only-of-type {\n",
              "        vertical-align: middle;\n",
              "    }\n",
              "\n",
              "    .dataframe tbody tr th {\n",
              "        vertical-align: top;\n",
              "    }\n",
              "\n",
              "    .dataframe thead th {\n",
              "        text-align: right;\n",
              "    }\n",
              "</style>\n",
              "<table border=\"1\" class=\"dataframe\">\n",
              "  <thead>\n",
              "    <tr style=\"text-align: right;\">\n",
              "      <th></th>\n",
              "      <th>0</th>\n",
              "      <th>1</th>\n",
              "    </tr>\n",
              "  </thead>\n",
              "  <tbody>\n",
              "    <tr>\n",
              "      <th>0</th>\n",
              "      <td>3</td>\n",
              "      <td>joints poping and cracking</td>\n",
              "    </tr>\n",
              "    <tr>\n",
              "      <th>1</th>\n",
              "      <td>8</td>\n",
              "      <td>Arthritis</td>\n",
              "    </tr>\n",
              "    <tr>\n",
              "      <th>2</th>\n",
              "      <td>8</td>\n",
              "      <td>arthritis</td>\n",
              "    </tr>\n",
              "    <tr>\n",
              "      <th>3</th>\n",
              "      <td>8</td>\n",
              "      <td>arthritis</td>\n",
              "    </tr>\n",
              "    <tr>\n",
              "      <th>4</th>\n",
              "      <td>8</td>\n",
              "      <td>arthritis</td>\n",
              "    </tr>\n",
              "  </tbody>\n",
              "</table>\n",
              "</div>"
            ],
            "text/plain": [
              "   0                           1\n",
              "0  3  joints poping and cracking\n",
              "1  8                   Arthritis\n",
              "2  8                   arthritis\n",
              "3  8                   arthritis\n",
              "4  8                   arthritis"
            ]
          },
          "metadata": {
            "tags": []
          },
          "execution_count": 12
        }
      ]
    },
    {
      "cell_type": "code",
      "metadata": {
        "id": "Vo-YNvVYoaH6",
        "outputId": "93642137-04e3-4ca5-f609-b1f5697cdac5",
        "colab": {
          "base_uri": "https://localhost:8080/",
          "height": 17
        }
      },
      "source": [
        "# Creating DataBunch for language modelling\n",
        "\n",
        "data_lm = TextLMDataBunch.from_csv(path, 'cadec_ask.csv')"
      ],
      "execution_count": 13,
      "outputs": [
        {
          "output_type": "display_data",
          "data": {
            "text/html": [
              ""
            ],
            "text/plain": [
              "<IPython.core.display.HTML object>"
            ]
          },
          "metadata": {
            "tags": []
          }
        },
        {
          "output_type": "display_data",
          "data": {
            "text/html": [
              ""
            ],
            "text/plain": [
              "<IPython.core.display.HTML object>"
            ]
          },
          "metadata": {
            "tags": []
          }
        }
      ]
    },
    {
      "cell_type": "code",
      "metadata": {
        "id": "qcV-9kMnNLBf"
      },
      "source": [
        ""
      ],
      "execution_count": 13,
      "outputs": []
    },
    {
      "cell_type": "code",
      "metadata": {
        "id": "1ScY9afDsnvE"
      },
      "source": [
        "# Creating DataBunch for classification\n",
        "\n",
        "# data_clas = TextClasDataBunch.from_df(path, train, valid, test, vocab=data_lm.train_ds.vocab, bs=128)"
      ],
      "execution_count": 14,
      "outputs": []
    },
    {
      "cell_type": "code",
      "metadata": {
        "id": "gzrSdQcvey9p",
        "outputId": "3cf32929-1d72-40d2-de58-0e1aebf0d685",
        "colab": {
          "base_uri": "https://localhost:8080/",
          "height": 17
        }
      },
      "source": [
        "data_clas = TextClasDataBunch.from_df(path, train, valid, vocab=data_lm.train_ds.vocab, bs=128)"
      ],
      "execution_count": 15,
      "outputs": [
        {
          "output_type": "display_data",
          "data": {
            "text/html": [
              ""
            ],
            "text/plain": [
              "<IPython.core.display.HTML object>"
            ]
          },
          "metadata": {
            "tags": []
          }
        },
        {
          "output_type": "display_data",
          "data": {
            "text/html": [
              ""
            ],
            "text/plain": [
              "<IPython.core.display.HTML object>"
            ]
          },
          "metadata": {
            "tags": []
          }
        }
      ]
    },
    {
      "cell_type": "code",
      "metadata": {
        "id": "MD27Tf0Ke3ou",
        "outputId": "4adc1a30-af1a-4456-e042-030f2b81ffc7",
        "colab": {
          "base_uri": "https://localhost:8080/",
          "height": 17
        }
      },
      "source": [
        "data_clas.add_test(test,label=0)\n"
      ],
      "execution_count": 16,
      "outputs": [
        {
          "output_type": "display_data",
          "data": {
            "text/html": [
              ""
            ],
            "text/plain": [
              "<IPython.core.display.HTML object>"
            ]
          },
          "metadata": {
            "tags": []
          }
        }
      ]
    },
    {
      "cell_type": "code",
      "metadata": {
        "id": "-dpjnk_rstwk"
      },
      "source": [
        "data_lm.save()\n",
        "data_clas.save()"
      ],
      "execution_count": 17,
      "outputs": []
    },
    {
      "cell_type": "code",
      "metadata": {
        "id": "4OkiJa36sw5s",
        "outputId": "15aabb2e-8963-452f-e8f6-44697782ed53",
        "colab": {
          "base_uri": "https://localhost:8080/"
        }
      },
      "source": [
        "data_lm.train_ds.vocab.itos"
      ],
      "execution_count": 18,
      "outputs": [
        {
          "output_type": "execute_result",
          "data": {
            "text/plain": [
              "['xxunk',\n",
              " 'xxpad',\n",
              " 'xxbos',\n",
              " 'xxeos',\n",
              " 'xxfld',\n",
              " 'xxmaj',\n",
              " 'xxup',\n",
              " 'xxrep',\n",
              " 'xxwrep',\n",
              " 'pain',\n",
              " 'lipitor',\n",
              " 'in',\n",
              " 'of',\n",
              " 'muscle',\n",
              " '.',\n",
              " 'and',\n",
              " 'to',\n",
              " ',',\n",
              " 'my',\n",
              " 'i',\n",
              " 'the',\n",
              " 'severe',\n",
              " 'myalgia',\n",
              " 'fatigue',\n",
              " 'lower',\n",
              " 'loss',\n",
              " 'weakness',\n",
              " '-',\n",
              " 'limb',\n",
              " 'cramp',\n",
              " 'back',\n",
              " 'stomach',\n",
              " 'a',\n",
              " 'depression',\n",
              " 'cramps',\n",
              " 'gas',\n",
              " 'memory',\n",
              " 'leg',\n",
              " 'joint',\n",
              " 'upper',\n",
              " 'legs',\n",
              " 'pains',\n",
              " 'it',\n",
              " 'headache',\n",
              " 'shoulder',\n",
              " 'knee',\n",
              " 'unable',\n",
              " 'not',\n",
              " 'neck',\n",
              " '/',\n",
              " 'arthralgia',\n",
              " 'on',\n",
              " 'was',\n",
              " 'aches',\n",
              " 'foot',\n",
              " 'excessive',\n",
              " 'for',\n",
              " 'hip',\n",
              " 'all',\n",
              " 'gastrointestinal',\n",
              " 'numbness',\n",
              " 'like',\n",
              " 'arthritis',\n",
              " 'have',\n",
              " 'insomnia',\n",
              " 'feeling',\n",
              " 'problems',\n",
              " 'walk',\n",
              " 'with',\n",
              " 'bleeding',\n",
              " 'arthrotec',\n",
              " 'is',\n",
              " 'heart',\n",
              " 'nausea',\n",
              " 'cholesterol',\n",
              " 'tired',\n",
              " 'feet',\n",
              " 'asthenia',\n",
              " 'dizziness',\n",
              " 'abdominal',\n",
              " 'walking',\n",
              " 'disease',\n",
              " 'this',\n",
              " 'muscles',\n",
              " 'very',\n",
              " 'extreme',\n",
              " 'chest',\n",
              " 'difficulty',\n",
              " 'hair',\n",
              " 'swelling',\n",
              " 'that',\n",
              " 'hand',\n",
              " 'ache',\n",
              " 'zocor',\n",
              " 'vision',\n",
              " 'could',\n",
              " 'burning',\n",
              " 'stiffness',\n",
              " 'sleep',\n",
              " 'backache',\n",
              " 'had',\n",
              " 'cramping',\n",
              " ')',\n",
              " \"n't\",\n",
              " 'increased',\n",
              " 'left',\n",
              " 'liver',\n",
              " 'pins',\n",
              " 'needles',\n",
              " '(',\n",
              " 'blood',\n",
              " 'diarrhoea',\n",
              " 'skin',\n",
              " 'but',\n",
              " 'up',\n",
              " 'amnesia',\n",
              " 'tingling',\n",
              " 'at',\n",
              " 'calf',\n",
              " 'weight',\n",
              " 'me',\n",
              " 'taking',\n",
              " 'high',\n",
              " 'anxiety',\n",
              " 'disability',\n",
              " 'impairment',\n",
              " 'lack',\n",
              " 'short',\n",
              " 'so',\n",
              " 'hands',\n",
              " 'stiff',\n",
              " 'symptom',\n",
              " 'constipation',\n",
              " 'low',\n",
              " 'bloating',\n",
              " 'arms',\n",
              " 'arm',\n",
              " 'term',\n",
              " 'can',\n",
              " 'headaches',\n",
              " 'side',\n",
              " \"'s\",\n",
              " 'time',\n",
              " 'after',\n",
              " 'sore',\n",
              " 'balance',\n",
              " 'no',\n",
              " 'disorder',\n",
              " 'poor',\n",
              " 'voltaren',\n",
              " 'mg',\n",
              " 'neuropathy',\n",
              " 'body',\n",
              " 'or',\n",
              " 'blurred',\n",
              " 'ankle',\n",
              " 'pressure',\n",
              " 'drug',\n",
              " 'joints',\n",
              " 'from',\n",
              " 'off',\n",
              " 'feel',\n",
              " 'hurt',\n",
              " 'am',\n",
              " 'vaginal',\n",
              " 'tiredness',\n",
              " 'pravachol',\n",
              " 'as',\n",
              " 'bad',\n",
              " 'been',\n",
              " 'vertigo',\n",
              " 'energy',\n",
              " 'right',\n",
              " 'get',\n",
              " 'symptoms',\n",
              " '!',\n",
              " 'infarction',\n",
              " 'attack',\n",
              " 'myositis',\n",
              " 'swollen',\n",
              " 'rash',\n",
              " 'acid',\n",
              " 'atrophy',\n",
              " 'has',\n",
              " 'myocardial',\n",
              " 'diarrhea',\n",
              " 'sensation',\n",
              " 'mentally',\n",
              " 'effects',\n",
              " 'shoulders',\n",
              " 'itching',\n",
              " 'painful',\n",
              " 'upset',\n",
              " 'out',\n",
              " 'generalised',\n",
              " 'are',\n",
              " 'constant',\n",
              " 'weak',\n",
              " 'both',\n",
              " 'ubidecarenone',\n",
              " 'dry',\n",
              " 'over',\n",
              " 'damage',\n",
              " 'be',\n",
              " 'day',\n",
              " 'diabetes',\n",
              " 'by',\n",
              " 'gain',\n",
              " 'reduced',\n",
              " 'illness',\n",
              " 'knees',\n",
              " 'started',\n",
              " 'problem',\n",
              " 'elbow',\n",
              " 'years',\n",
              " 'spasm',\n",
              " 'dull',\n",
              " 'tendonitis',\n",
              " 'raised',\n",
              " 'elevated',\n",
              " 'spasms',\n",
              " 'influenza',\n",
              " 'crestor',\n",
              " 'about',\n",
              " 'when',\n",
              " 'hazy',\n",
              " 'mood',\n",
              " 'heavy',\n",
              " 'take',\n",
              " 'do',\n",
              " 'sleeping',\n",
              " 'visual',\n",
              " 'now',\n",
              " 'felt',\n",
              " 'thigh',\n",
              " '3',\n",
              " 'irritable',\n",
              " 'exhaustion',\n",
              " 'toe',\n",
              " 'libido',\n",
              " 'syndrome',\n",
              " 'will',\n",
              " 'reflux',\n",
              " 'bed',\n",
              " 'flu',\n",
              " 'fibromyalgia',\n",
              " 'sclerosis',\n",
              " 'discomfort',\n",
              " 'abnormal',\n",
              " 'did',\n",
              " 'myopathy',\n",
              " 'movement',\n",
              " '2',\n",
              " 'concentrate',\n",
              " 'one',\n",
              " 'down',\n",
              " 'more',\n",
              " 'throat',\n",
              " 'kidney',\n",
              " 'night',\n",
              " 'just',\n",
              " 'flatulence',\n",
              " 'if',\n",
              " 'doctor',\n",
              " 'months',\n",
              " 'vomiting',\n",
              " 'hips',\n",
              " 'urine',\n",
              " 'days',\n",
              " 'would',\n",
              " 'cold',\n",
              " 'lightheadedness',\n",
              " 'went',\n",
              " 'swings',\n",
              " 'confusion',\n",
              " 'aching',\n",
              " 'serum',\n",
              " 'malaise',\n",
              " 'concentration',\n",
              " 'sweating',\n",
              " 'chronic',\n",
              " 'eye',\n",
              " 'stopped',\n",
              " '10',\n",
              " 'soreness',\n",
              " 'calves',\n",
              " 'toes',\n",
              " 'head',\n",
              " 'tremor',\n",
              " 'menstrual',\n",
              " 'disturbance',\n",
              " 'mellitus',\n",
              " 'wind',\n",
              " 'brain',\n",
              " 'appetite',\n",
              " 'stairs',\n",
              " 'simvastatin',\n",
              " 'tinnitus',\n",
              " 'ankles',\n",
              " 'think',\n",
              " 'celebrex',\n",
              " 'ezetimibe',\n",
              " 'face',\n",
              " 'only',\n",
              " 'terrible',\n",
              " 'also',\n",
              " 'some',\n",
              " 'injury',\n",
              " 'failure',\n",
              " 'intense',\n",
              " 'finger',\n",
              " 'paraesthesia',\n",
              " 'took',\n",
              " 'heel',\n",
              " 'general',\n",
              " 'type',\n",
              " 'decreased',\n",
              " 'c',\n",
              " 'mild',\n",
              " 'swallowing',\n",
              " 'peripheral',\n",
              " 'esters',\n",
              " 'impaired',\n",
              " 'parkinson',\n",
              " 'still',\n",
              " 'motivation',\n",
              " 'weeks',\n",
              " 'then',\n",
              " 'ibuprofen',\n",
              " 'cough',\n",
              " 'fingers',\n",
              " 'depressed',\n",
              " 'tendon',\n",
              " 'renal',\n",
              " 'any',\n",
              " 'you',\n",
              " '&',\n",
              " 'restless',\n",
              " 'charleyhorse',\n",
              " 'acute',\n",
              " 'were',\n",
              " 'dark',\n",
              " 'level',\n",
              " 'he',\n",
              " 'getting',\n",
              " 'excruciating',\n",
              " 'palpitations',\n",
              " 'an',\n",
              " 'indigestion',\n",
              " 'eyes',\n",
              " ':',\n",
              " 'stress',\n",
              " 'week',\n",
              " 'dyspnoea',\n",
              " 'hot',\n",
              " '1',\n",
              " 'they',\n",
              " 'lupus',\n",
              " 'speech',\n",
              " 'trouble',\n",
              " 'ascorbic',\n",
              " 'ca',\n",
              " 'lateral',\n",
              " 'strength',\n",
              " 'well',\n",
              " 'tightness',\n",
              " 'than',\n",
              " 'gout',\n",
              " 'migraine',\n",
              " 'always',\n",
              " 'nerve',\n",
              " 'exercise',\n",
              " 'other',\n",
              " \"'m\",\n",
              " 'breathing',\n",
              " 'infection',\n",
              " 'vitamin',\n",
              " 'oil',\n",
              " 'multiple',\n",
              " 'limbs',\n",
              " 'fog',\n",
              " 'enzymes',\n",
              " 'before',\n",
              " 'go',\n",
              " '20',\n",
              " 'heartburn',\n",
              " 'dreams',\n",
              " 'menopause',\n",
              " '5',\n",
              " 'again',\n",
              " 'much',\n",
              " 'even',\n",
              " 'function',\n",
              " 'sinus',\n",
              " 'coq10',\n",
              " 'ago',\n",
              " 'fish',\n",
              " 'twitch',\n",
              " 'wrist',\n",
              " 'advil',\n",
              " 'going',\n",
              " 'thighs',\n",
              " 'twitching',\n",
              " 'which',\n",
              " 'provoked',\n",
              " 'amyotrophic',\n",
              " 'never',\n",
              " 'every',\n",
              " 'taste',\n",
              " 'two',\n",
              " 'being',\n",
              " 'bowel',\n",
              " 'move',\n",
              " \"'ve\",\n",
              " 'drowsy',\n",
              " 'breath',\n",
              " 'elbows',\n",
              " 'mouth',\n",
              " 'nasal',\n",
              " 'due',\n",
              " 'fenofibrate',\n",
              " 'extremely',\n",
              " 'uterine',\n",
              " 'ulcer',\n",
              " 'aleve',\n",
              " 'plantar',\n",
              " 'hardly',\n",
              " 'better',\n",
              " '40',\n",
              " 'clearly',\n",
              " 'lethargy',\n",
              " 'levels',\n",
              " 'urinary',\n",
              " 'numb',\n",
              " 'first',\n",
              " 'mobility',\n",
              " 'because',\n",
              " 'lost',\n",
              " 'worse',\n",
              " 'almost',\n",
              " 'life',\n",
              " 'rheumatoid',\n",
              " 'tight',\n",
              " 'tricor',\n",
              " 'horses',\n",
              " 'loose',\n",
              " 'barely',\n",
              " 'what',\n",
              " 'moody',\n",
              " '+',\n",
              " 'fever',\n",
              " 'medication',\n",
              " 'tylenol',\n",
              " 'sick',\n",
              " 'experienced',\n",
              " 'facial',\n",
              " 'fatigued',\n",
              " 'charley',\n",
              " 'month',\n",
              " 'ringing',\n",
              " 'liptor',\n",
              " 'mental',\n",
              " 'panic',\n",
              " 'light',\n",
              " '4',\n",
              " 'around',\n",
              " 'who',\n",
              " ';',\n",
              " 'hunger',\n",
              " 'drive',\n",
              " 'horrible',\n",
              " 'your',\n",
              " 'away',\n",
              " 'major',\n",
              " 'extremity',\n",
              " 'pulse',\n",
              " 'sharp',\n",
              " 'achilles',\n",
              " 'zetia',\n",
              " 'should',\n",
              " 'attacks',\n",
              " 'fasciitis',\n",
              " 'morning',\n",
              " 'diclofenac',\n",
              " 'since',\n",
              " 'having',\n",
              " 'congestion',\n",
              " 'little',\n",
              " 'dizzy',\n",
              " 'malignant',\n",
              " 'there',\n",
              " 'statin',\n",
              " 'lot',\n",
              " 'finding',\n",
              " 'same',\n",
              " 'natural',\n",
              " 'cancer',\n",
              " 'als',\n",
              " 'rhabdomyolysis',\n",
              " 'shortness',\n",
              " 'got',\n",
              " 'ability',\n",
              " 'slurred',\n",
              " 'irregular',\n",
              " 'thoughts',\n",
              " 'good',\n",
              " 'times',\n",
              " '?',\n",
              " 'accident',\n",
              " 'anything',\n",
              " 'sweats',\n",
              " 'inflammatory',\n",
              " 'stamina',\n",
              " 'statins',\n",
              " 'cerebrovascular',\n",
              " 'told',\n",
              " '6',\n",
              " 'work',\n",
              " 'sugar',\n",
              " 'osteoarthritis',\n",
              " 'taken',\n",
              " 'long',\n",
              " 'oedema',\n",
              " 'became',\n",
              " 'deep',\n",
              " 'present',\n",
              " 'know',\n",
              " 'paracetamol',\n",
              " 'year',\n",
              " 'thought',\n",
              " 'normal',\n",
              " 'dr',\n",
              " 'system',\n",
              " 'tract',\n",
              " 'these',\n",
              " 'neurontin',\n",
              " 'itchy',\n",
              " 'foggy',\n",
              " 'pruritus',\n",
              " 'stand',\n",
              " 'stop',\n",
              " 'sensations',\n",
              " 'area',\n",
              " 'reading',\n",
              " 'ldl',\n",
              " 'flushing',\n",
              " 'sex',\n",
              " 'ear',\n",
              " 'inability',\n",
              " 'colic',\n",
              " 'hypertension',\n",
              " 'stool',\n",
              " 'hard',\n",
              " 'few',\n",
              " 'lopid',\n",
              " 'while',\n",
              " 'erythematosus',\n",
              " 'see',\n",
              " 'put',\n",
              " 'norvasc',\n",
              " 'too',\n",
              " 'looks',\n",
              " 'prednisone',\n",
              " 'hypersomnia',\n",
              " 'without',\n",
              " 'frequent',\n",
              " 'eczema',\n",
              " 'last',\n",
              " 'cpk',\n",
              " 'began',\n",
              " 'atorvastatin',\n",
              " 'creatinine',\n",
              " 'inflammation',\n",
              " 'scalp',\n",
              " 'sense',\n",
              " 'things',\n",
              " 'within',\n",
              " 'most',\n",
              " 'lift',\n",
              " 'falling',\n",
              " 'forgetful',\n",
              " 'nervous',\n",
              " 'period',\n",
              " 'eat',\n",
              " 'strain',\n",
              " 'sight',\n",
              " 'abdomen',\n",
              " 'spasmodic',\n",
              " 'thinking',\n",
              " 'make',\n",
              " 'rapid',\n",
              " 'asthma',\n",
              " 'bone',\n",
              " 'increase',\n",
              " 'hurts',\n",
              " 'many',\n",
              " 'palsy',\n",
              " 'drugs',\n",
              " 'sudden',\n",
              " 'dose',\n",
              " 'inflamation',\n",
              " 'climb',\n",
              " 'menorrhagia',\n",
              " 'omega-3-acid',\n",
              " 'ethyl',\n",
              " 'esters-90',\n",
              " 'weird',\n",
              " 'lipex',\n",
              " 'feels',\n",
              " 'permanent',\n",
              " 'into',\n",
              " 'ms',\n",
              " 'tachycardia',\n",
              " 'zoloft',\n",
              " 'slight',\n",
              " 'bell',\n",
              " 'find',\n",
              " 'dysfunction',\n",
              " 'periods',\n",
              " 'tension',\n",
              " 'change',\n",
              " 'gone',\n",
              " 'aptyalism',\n",
              " 'retention',\n",
              " 'people',\n",
              " 'stroke',\n",
              " 'another',\n",
              " 'difficult',\n",
              " 'co',\n",
              " 'nt',\n",
              " 'ears',\n",
              " 'tablet',\n",
              " 'tolerance',\n",
              " 'bursitis',\n",
              " 'region',\n",
              " 'gastric',\n",
              " 'use',\n",
              " 'paralysis',\n",
              " 'cause',\n",
              " 'limping',\n",
              " 'bp',\n",
              " 'respiratory',\n",
              " 'generally',\n",
              " 'stabbing',\n",
              " 'said',\n",
              " 'overall',\n",
              " 'something',\n",
              " 'unwell',\n",
              " 'gait',\n",
              " 'nightmares',\n",
              " 'triglycerides',\n",
              " 'able',\n",
              " 'three',\n",
              " 'does',\n",
              " 'forearm',\n",
              " 'help',\n",
              " 'coronary',\n",
              " 'empty',\n",
              " 'until',\n",
              " 'q10',\n",
              " 'reaction',\n",
              " 'really',\n",
              " 'delusional',\n",
              " 'omega',\n",
              " 'hungry',\n",
              " 'codeine',\n",
              " 'fast',\n",
              " 'blurry',\n",
              " 'rupture',\n",
              " 'try',\n",
              " 'venous',\n",
              " 'during',\n",
              " 'several',\n",
              " 'muscular',\n",
              " 'everything',\n",
              " 'cortisone',\n",
              " 'tests',\n",
              " 'diovan',\n",
              " 'erythema',\n",
              " 'test',\n",
              " 'self',\n",
              " 'his',\n",
              " 'between',\n",
              " 'bruising',\n",
              " 'stopping',\n",
              " 'bloated',\n",
              " 'suicidal',\n",
              " 'effect',\n",
              " 'ever',\n",
              " 'noticed',\n",
              " 'sever',\n",
              " 'red',\n",
              " 'diet',\n",
              " 'coated',\n",
              " 'edema',\n",
              " 'starting',\n",
              " 'rigidity',\n",
              " 'menopausal',\n",
              " 'food',\n",
              " 'site',\n",
              " 'agitated',\n",
              " 'sides',\n",
              " 'heaviness',\n",
              " 'disc',\n",
              " 'random',\n",
              " 'sweat',\n",
              " 'colitis',\n",
              " 'spotting',\n",
              " 'once',\n",
              " 'constantly',\n",
              " 'twitches',\n",
              " 'bladder',\n",
              " 'prescribed',\n",
              " 'sexual',\n",
              " 'similar',\n",
              " 'sciatica',\n",
              " 'aphasia',\n",
              " 'big',\n",
              " 'paranoia',\n",
              " 'diabetic',\n",
              " 'changes',\n",
              " 'how',\n",
              " '%',\n",
              " 'developed',\n",
              " 'tunnel',\n",
              " 'endometriosis',\n",
              " 'haematuria',\n",
              " 'testosterone',\n",
              " 'breast',\n",
              " 'caused',\n",
              " 'degenerative',\n",
              " 'where',\n",
              " 'slightly',\n",
              " '8',\n",
              " 'their',\n",
              " 'however',\n",
              " 'tongue',\n",
              " 'intolerance',\n",
              " 'less',\n",
              " 'sun',\n",
              " 'crying',\n",
              " 'cycle',\n",
              " 'syncope',\n",
              " 'muscels',\n",
              " 'bronchitis',\n",
              " 'anger',\n",
              " 'ached',\n",
              " 'through',\n",
              " 'standing',\n",
              " 'issues',\n",
              " 'rectal',\n",
              " 'experiencing',\n",
              " 'chill',\n",
              " 'menstruation',\n",
              " 'lowered',\n",
              " 'made',\n",
              " 'dehydration',\n",
              " 'doctors',\n",
              " 'great',\n",
              " 'unbearable',\n",
              " 'neuralgia',\n",
              " 'decrease',\n",
              " 'uterus',\n",
              " 'allergic',\n",
              " 'want',\n",
              " 'found',\n",
              " 'old',\n",
              " 'pill',\n",
              " 'immediately',\n",
              " 'though',\n",
              " 'limp',\n",
              " 'personality',\n",
              " 'film',\n",
              " 'carpal',\n",
              " 'came',\n",
              " '-pelvis',\n",
              " 'recently',\n",
              " 'aspirin',\n",
              " '50',\n",
              " 'enough',\n",
              " 'especially',\n",
              " 'arthritic',\n",
              " 'moodiness',\n",
              " 'unhappy',\n",
              " 'fine',\n",
              " 'rashes',\n",
              " 'she',\n",
              " 'spine',\n",
              " \"'\",\n",
              " 'alzheimer',\n",
              " 'fear',\n",
              " 'stools',\n",
              " 'circulation',\n",
              " 'tried',\n",
              " 'lipidil',\n",
              " 'way',\n",
              " 'related',\n",
              " 'hepatic',\n",
              " 'changed',\n",
              " 'transient',\n",
              " 'hurting',\n",
              " 'ani',\n",
              " 'eyesight',\n",
              " 'fatique',\n",
              " 'chair',\n",
              " 'drink',\n",
              " 'fatty',\n",
              " 'drowsiness',\n",
              " 'causing',\n",
              " 'run',\n",
              " 'serious',\n",
              " 'choking',\n",
              " 'headed',\n",
              " 'steatosis',\n",
              " 'intervertebral',\n",
              " 'haemorrhage',\n",
              " 'pancreatitis',\n",
              " 'quit',\n",
              " 'debilitating',\n",
              " 'physical',\n",
              " 'remember',\n",
              " 'misoprostol',\n",
              " 'wrists',\n",
              " 'read',\n",
              " 'condition',\n",
              " 'disorientated',\n",
              " 'below',\n",
              " 'done',\n",
              " 'may',\n",
              " 'control',\n",
              " 'we',\n",
              " 'total',\n",
              " 'need',\n",
              " 'sure',\n",
              " 'tender',\n",
              " 'potassium',\n",
              " 'thoracic',\n",
              " 'agony',\n",
              " 'infections',\n",
              " 'her',\n",
              " 'irritability',\n",
              " 'cataflam',\n",
              " 'myself',\n",
              " 'lowering',\n",
              " 'ribs',\n",
              " 'b',\n",
              " 'tingly',\n",
              " 'above',\n",
              " 'them',\n",
              " 'medicine',\n",
              " 'sensitivity',\n",
              " 'beat',\n",
              " 'e',\n",
              " 'muscel',\n",
              " 'far',\n",
              " 'hdl',\n",
              " 'interest',\n",
              " 'minutes',\n",
              " 'mobic',\n",
              " 'occasional',\n",
              " 'dizzyness',\n",
              " 'rate',\n",
              " 'morphine',\n",
              " 'dropped',\n",
              " 'sit',\n",
              " 'difficulties',\n",
              " 'daily',\n",
              " 'rhinitis',\n",
              " 'persistent',\n",
              " 'mass',\n",
              " 'musculoskeletal',\n",
              " 'recommend',\n",
              " 'tremors',\n",
              " 'waking',\n",
              " 'works',\n",
              " 'desire',\n",
              " 'lose',\n",
              " 'yellow',\n",
              " 'achy',\n",
              " 'irritation',\n",
              " 'alpha',\n",
              " 'dementia',\n",
              " 'digestive',\n",
              " 'words',\n",
              " 'forearms',\n",
              " 'haematochezia',\n",
              " 'forgetfulness',\n",
              " 'next',\n",
              " 'experience',\n",
              " 'clumsiness',\n",
              " 'lumbar',\n",
              " 'relief',\n",
              " 'contusion',\n",
              " '--',\n",
              " 'rib',\n",
              " 'results',\n",
              " 'limitation',\n",
              " 'chills',\n",
              " 'dysphonia',\n",
              " '75',\n",
              " 'cognition',\n",
              " 'tenderness',\n",
              " 'initial',\n",
              " 'wanted',\n",
              " 'moderate',\n",
              " 'family',\n",
              " 'hope',\n",
              " 'urinate',\n",
              " 'doing',\n",
              " 'hours',\n",
              " 'tocopherol',\n",
              " 'jaundice',\n",
              " 'breasts',\n",
              " 'vit',\n",
              " 'although',\n",
              " 'pravastatin',\n",
              " 'half',\n",
              " 'touch',\n",
              " 'whole',\n",
              " 'none',\n",
              " 'hyperactive',\n",
              " 'count',\n",
              " 'throughout',\n",
              " 'losing',\n",
              " 'eructation',\n",
              " 'later',\n",
              " 'creatine',\n",
              " 'tenalgia',\n",
              " 'worth',\n",
              " 'movements',\n",
              " 'throbbing',\n",
              " 'neoplasm',\n",
              " 'significant',\n",
              " 'altered',\n",
              " 'water',\n",
              " 'lexapro',\n",
              " 'white',\n",
              " 'sleepy',\n",
              " 'improvement',\n",
              " 'alopecia',\n",
              " '30',\n",
              " 'motor',\n",
              " 'believe',\n",
              " 'colon',\n",
              " 'extremities',\n",
              " 'instead',\n",
              " 'its',\n",
              " 'cognitive',\n",
              " 'thinning',\n",
              " 'waist',\n",
              " 'wasting',\n",
              " 'website',\n",
              " 'headedness',\n",
              " 'buzzing',\n",
              " 'sleeplessness',\n",
              " 'concentrating',\n",
              " 'bizarre',\n",
              " 'doc',\n",
              " 'central',\n",
              " 'hoarse',\n",
              " 'moving',\n",
              " 'gastritis',\n",
              " 'neoplastic',\n",
              " 'entire',\n",
              " 'traumatic',\n",
              " '7',\n",
              " 'room',\n",
              " 'blisters',\n",
              " 'asleep',\n",
              " 'post',\n",
              " 'slow',\n",
              " 'glucosamine',\n",
              " 'come',\n",
              " 'affected',\n",
              " 'blister',\n",
              " 'seems',\n",
              " 'constipated',\n",
              " 'non',\n",
              " 'fuzzy',\n",
              " 'completely',\n",
              " 'falls',\n",
              " '100',\n",
              " 'vague',\n",
              " 'shaky',\n",
              " 'shaking',\n",
              " 'cardiac',\n",
              " 'unsteady',\n",
              " 's',\n",
              " 'keep',\n",
              " 'those',\n",
              " 'dosage',\n",
              " 'mastalgia',\n",
              " 'trauma',\n",
              " 'spells',\n",
              " 'spots',\n",
              " 'reason',\n",
              " 'each',\n",
              " 'neurological',\n",
              " 'him',\n",
              " 'wrong',\n",
              " ...]"
            ]
          },
          "metadata": {
            "tags": []
          },
          "execution_count": 18
        }
      ]
    },
    {
      "cell_type": "code",
      "metadata": {
        "id": "yPWr03mls3VT",
        "outputId": "4b6c523c-710a-4eaf-8c6d-f4abc669d326",
        "colab": {
          "base_uri": "https://localhost:8080/",
          "height": 17
        }
      },
      "source": [
        "model_path = path/'models'\n",
        "model_path.mkdir(exist_ok=True)\n",
        "url = 'http://files.fast.ai/models/wt103_v1/'\n",
        "download_url(f'{url}lstm_wt103.pth', model_path/'lstm_wt103.pth')\n",
        "download_url(f'{url}itos_wt103.pkl', model_path/'itos_wt103.pkl')"
      ],
      "execution_count": 19,
      "outputs": [
        {
          "output_type": "display_data",
          "data": {
            "text/html": [
              ""
            ],
            "text/plain": [
              "<IPython.core.display.HTML object>"
            ]
          },
          "metadata": {
            "tags": []
          }
        },
        {
          "output_type": "display_data",
          "data": {
            "text/html": [
              ""
            ],
            "text/plain": [
              "<IPython.core.display.HTML object>"
            ]
          },
          "metadata": {
            "tags": []
          }
        }
      ]
    },
    {
      "cell_type": "code",
      "metadata": {
        "id": "JRzvWg8RtGGr",
        "outputId": "f6b3983c-2818-4439-fd2a-2678f5c172dc",
        "colab": {
          "base_uri": "https://localhost:8080/",
          "height": 34
        }
      },
      "source": [
        "learn = language_model_learner(data_lm, AWD_LSTM, drop_mult=0.5)"
      ],
      "execution_count": 20,
      "outputs": [
        {
          "output_type": "stream",
          "text": [
            "Downloading https://s3.amazonaws.com/fast-ai-modelzoo/wt103-fwd.tgz\n"
          ],
          "name": "stdout"
        },
        {
          "output_type": "display_data",
          "data": {
            "text/html": [
              ""
            ],
            "text/plain": [
              "<IPython.core.display.HTML object>"
            ]
          },
          "metadata": {
            "tags": []
          }
        }
      ]
    },
    {
      "cell_type": "code",
      "metadata": {
        "id": "xKK7GeBev7Xn",
        "outputId": "18cb5ffa-6a37-4b75-ffab-6c327410c046",
        "colab": {
          "base_uri": "https://localhost:8080/",
          "height": 80
        }
      },
      "source": [
        "learn.fit_one_cycle(1, 1e-2)"
      ],
      "execution_count": 21,
      "outputs": [
        {
          "output_type": "display_data",
          "data": {
            "text/html": [
              "<table border=\"1\" class=\"dataframe\">\n",
              "  <thead>\n",
              "    <tr style=\"text-align: left;\">\n",
              "      <th>epoch</th>\n",
              "      <th>train_loss</th>\n",
              "      <th>valid_loss</th>\n",
              "      <th>accuracy</th>\n",
              "      <th>time</th>\n",
              "    </tr>\n",
              "  </thead>\n",
              "  <tbody>\n",
              "    <tr>\n",
              "      <td>0</td>\n",
              "      <td>3.177209</td>\n",
              "      <td>2.696090</td>\n",
              "      <td>0.543811</td>\n",
              "      <td>18:37</td>\n",
              "    </tr>\n",
              "  </tbody>\n",
              "</table>"
            ],
            "text/plain": [
              "<IPython.core.display.HTML object>"
            ]
          },
          "metadata": {
            "tags": []
          }
        }
      ]
    },
    {
      "cell_type": "code",
      "metadata": {
        "id": "iB7rHGQCwd12"
      },
      "source": [
        "# learn.fit_one_cycle(1, 1e-2)"
      ],
      "execution_count": 22,
      "outputs": []
    },
    {
      "cell_type": "code",
      "metadata": {
        "id": "_BnSuAeCwkBe"
      },
      "source": [
        "# learn.fit_one_cycle(1, 1e-3)"
      ],
      "execution_count": 23,
      "outputs": []
    },
    {
      "cell_type": "code",
      "metadata": {
        "id": "MuTm-RFjwrEX",
        "outputId": "9bd2c070-6767-4f4e-aad8-28a69bee107c",
        "colab": {
          "base_uri": "https://localhost:8080/",
          "height": 80
        }
      },
      "source": [
        "learn.fit_one_cycle(1, 1e-3)"
      ],
      "execution_count": 24,
      "outputs": [
        {
          "output_type": "display_data",
          "data": {
            "text/html": [
              "<table border=\"1\" class=\"dataframe\">\n",
              "  <thead>\n",
              "    <tr style=\"text-align: left;\">\n",
              "      <th>epoch</th>\n",
              "      <th>train_loss</th>\n",
              "      <th>valid_loss</th>\n",
              "      <th>accuracy</th>\n",
              "      <th>time</th>\n",
              "    </tr>\n",
              "  </thead>\n",
              "  <tbody>\n",
              "    <tr>\n",
              "      <td>0</td>\n",
              "      <td>2.797687</td>\n",
              "      <td>2.650761</td>\n",
              "      <td>0.549540</td>\n",
              "      <td>18:28</td>\n",
              "    </tr>\n",
              "  </tbody>\n",
              "</table>"
            ],
            "text/plain": [
              "<IPython.core.display.HTML object>"
            ]
          },
          "metadata": {
            "tags": []
          }
        }
      ]
    },
    {
      "cell_type": "code",
      "metadata": {
        "id": "1Er2ExO8wr7Y"
      },
      "source": [
        "learn.save_encoder('cadec_ask_fold7_first')"
      ],
      "execution_count": 25,
      "outputs": []
    },
    {
      "cell_type": "code",
      "metadata": {
        "id": "z52cZs2qwvad",
        "outputId": "1e3b39c2-4a2d-4929-fbb9-6b1f4395f355",
        "colab": {
          "base_uri": "https://localhost:8080/",
          "height": 80
        }
      },
      "source": [
        "learn = text_classifier_learner(data_clas,AWD_LSTM, drop_mult=0.5)\n",
        "learn.load_encoder('cadec_ask_fold7_first')\n",
        "learn.fit_one_cycle(1, 1e-2)"
      ],
      "execution_count": 26,
      "outputs": [
        {
          "output_type": "display_data",
          "data": {
            "text/html": [
              "<table border=\"1\" class=\"dataframe\">\n",
              "  <thead>\n",
              "    <tr style=\"text-align: left;\">\n",
              "      <th>epoch</th>\n",
              "      <th>train_loss</th>\n",
              "      <th>valid_loss</th>\n",
              "      <th>accuracy</th>\n",
              "      <th>time</th>\n",
              "    </tr>\n",
              "  </thead>\n",
              "  <tbody>\n",
              "    <tr>\n",
              "      <td>0</td>\n",
              "      <td>4.009914</td>\n",
              "      <td>3.785490</td>\n",
              "      <td>0.335419</td>\n",
              "      <td>01:12</td>\n",
              "    </tr>\n",
              "  </tbody>\n",
              "</table>"
            ],
            "text/plain": [
              "<IPython.core.display.HTML object>"
            ]
          },
          "metadata": {
            "tags": []
          }
        }
      ]
    },
    {
      "cell_type": "code",
      "metadata": {
        "id": "ImwQP1PJwzxd",
        "outputId": "f4360866-54e3-4998-ccbf-3b0a574a711f",
        "colab": {
          "base_uri": "https://localhost:8080/",
          "height": 80
        }
      },
      "source": [
        "learn.freeze_to(-2)\n",
        "learn.fit_one_cycle(1, slice(5e-3/2., 5e-3))"
      ],
      "execution_count": 27,
      "outputs": [
        {
          "output_type": "display_data",
          "data": {
            "text/html": [
              "<table border=\"1\" class=\"dataframe\">\n",
              "  <thead>\n",
              "    <tr style=\"text-align: left;\">\n",
              "      <th>epoch</th>\n",
              "      <th>train_loss</th>\n",
              "      <th>valid_loss</th>\n",
              "      <th>accuracy</th>\n",
              "      <th>time</th>\n",
              "    </tr>\n",
              "  </thead>\n",
              "  <tbody>\n",
              "    <tr>\n",
              "      <td>0</td>\n",
              "      <td>3.035907</td>\n",
              "      <td>3.086195</td>\n",
              "      <td>0.454318</td>\n",
              "      <td>01:24</td>\n",
              "    </tr>\n",
              "  </tbody>\n",
              "</table>"
            ],
            "text/plain": [
              "<IPython.core.display.HTML object>"
            ]
          },
          "metadata": {
            "tags": []
          }
        }
      ]
    },
    {
      "cell_type": "code",
      "metadata": {
        "id": "Owff_BJXw53u",
        "outputId": "a388078b-6aa7-4bbe-e44d-403aa20b2e49",
        "colab": {
          "base_uri": "https://localhost:8080/",
          "height": 80
        }
      },
      "source": [
        "learn.unfreeze()\n",
        "learn.fit_one_cycle(1, slice(2e-3/100, 2e-3))"
      ],
      "execution_count": 28,
      "outputs": [
        {
          "output_type": "display_data",
          "data": {
            "text/html": [
              "<table border=\"1\" class=\"dataframe\">\n",
              "  <thead>\n",
              "    <tr style=\"text-align: left;\">\n",
              "      <th>epoch</th>\n",
              "      <th>train_loss</th>\n",
              "      <th>valid_loss</th>\n",
              "      <th>accuracy</th>\n",
              "      <th>time</th>\n",
              "    </tr>\n",
              "  </thead>\n",
              "  <tbody>\n",
              "    <tr>\n",
              "      <td>0</td>\n",
              "      <td>2.468254</td>\n",
              "      <td>2.665086</td>\n",
              "      <td>0.534418</td>\n",
              "      <td>03:12</td>\n",
              "    </tr>\n",
              "  </tbody>\n",
              "</table>"
            ],
            "text/plain": [
              "<IPython.core.display.HTML object>"
            ]
          },
          "metadata": {
            "tags": []
          }
        }
      ]
    },
    {
      "cell_type": "code",
      "metadata": {
        "id": "lqAyu56V8Waq",
        "outputId": "69951604-9e2d-4da2-cbd2-fdeeac5f9472",
        "colab": {
          "base_uri": "https://localhost:8080/",
          "height": 111
        }
      },
      "source": [
        "learn.fit_one_cycle(2, slice(2e-3/100, 2e-3))"
      ],
      "execution_count": 29,
      "outputs": [
        {
          "output_type": "display_data",
          "data": {
            "text/html": [
              "<table border=\"1\" class=\"dataframe\">\n",
              "  <thead>\n",
              "    <tr style=\"text-align: left;\">\n",
              "      <th>epoch</th>\n",
              "      <th>train_loss</th>\n",
              "      <th>valid_loss</th>\n",
              "      <th>accuracy</th>\n",
              "      <th>time</th>\n",
              "    </tr>\n",
              "  </thead>\n",
              "  <tbody>\n",
              "    <tr>\n",
              "      <td>0</td>\n",
              "      <td>2.021085</td>\n",
              "      <td>2.263876</td>\n",
              "      <td>0.607009</td>\n",
              "      <td>03:16</td>\n",
              "    </tr>\n",
              "    <tr>\n",
              "      <td>1</td>\n",
              "      <td>1.753257</td>\n",
              "      <td>2.108865</td>\n",
              "      <td>0.640801</td>\n",
              "      <td>03:22</td>\n",
              "    </tr>\n",
              "  </tbody>\n",
              "</table>"
            ],
            "text/plain": [
              "<IPython.core.display.HTML object>"
            ]
          },
          "metadata": {
            "tags": []
          }
        }
      ]
    },
    {
      "cell_type": "code",
      "metadata": {
        "id": "a7I1xMRp8bUd",
        "outputId": "da1fbe4e-a0bf-4c7f-d5a8-2638d246e791",
        "colab": {
          "base_uri": "https://localhost:8080/",
          "height": 111
        }
      },
      "source": [
        "learn.fit_one_cycle(2, slice(2e-3/100, 2e-3))"
      ],
      "execution_count": 30,
      "outputs": [
        {
          "output_type": "display_data",
          "data": {
            "text/html": [
              "<table border=\"1\" class=\"dataframe\">\n",
              "  <thead>\n",
              "    <tr style=\"text-align: left;\">\n",
              "      <th>epoch</th>\n",
              "      <th>train_loss</th>\n",
              "      <th>valid_loss</th>\n",
              "      <th>accuracy</th>\n",
              "      <th>time</th>\n",
              "    </tr>\n",
              "  </thead>\n",
              "  <tbody>\n",
              "    <tr>\n",
              "      <td>0</td>\n",
              "      <td>1.579818</td>\n",
              "      <td>1.930261</td>\n",
              "      <td>0.662078</td>\n",
              "      <td>03:03</td>\n",
              "    </tr>\n",
              "    <tr>\n",
              "      <td>1</td>\n",
              "      <td>1.352269</td>\n",
              "      <td>1.823561</td>\n",
              "      <td>0.685857</td>\n",
              "      <td>03:15</td>\n",
              "    </tr>\n",
              "  </tbody>\n",
              "</table>"
            ],
            "text/plain": [
              "<IPython.core.display.HTML object>"
            ]
          },
          "metadata": {
            "tags": []
          }
        }
      ]
    },
    {
      "cell_type": "code",
      "metadata": {
        "id": "UAnti-XmGVfO",
        "outputId": "02a23337-84dc-407a-977b-2b65afddb8cb",
        "colab": {
          "base_uri": "https://localhost:8080/",
          "height": 111
        }
      },
      "source": [
        "learn.fit_one_cycle(2, slice(2e-3/100, 2e-3))"
      ],
      "execution_count": 31,
      "outputs": [
        {
          "output_type": "display_data",
          "data": {
            "text/html": [
              "<table border=\"1\" class=\"dataframe\">\n",
              "  <thead>\n",
              "    <tr style=\"text-align: left;\">\n",
              "      <th>epoch</th>\n",
              "      <th>train_loss</th>\n",
              "      <th>valid_loss</th>\n",
              "      <th>accuracy</th>\n",
              "      <th>time</th>\n",
              "    </tr>\n",
              "  </thead>\n",
              "  <tbody>\n",
              "    <tr>\n",
              "      <td>0</td>\n",
              "      <td>1.286676</td>\n",
              "      <td>1.707764</td>\n",
              "      <td>0.697121</td>\n",
              "      <td>03:19</td>\n",
              "    </tr>\n",
              "    <tr>\n",
              "      <td>1</td>\n",
              "      <td>1.098023</td>\n",
              "      <td>1.639293</td>\n",
              "      <td>0.709637</td>\n",
              "      <td>03:26</td>\n",
              "    </tr>\n",
              "  </tbody>\n",
              "</table>"
            ],
            "text/plain": [
              "<IPython.core.display.HTML object>"
            ]
          },
          "metadata": {
            "tags": []
          }
        }
      ]
    },
    {
      "cell_type": "code",
      "metadata": {
        "id": "bIft7W25GwSu",
        "outputId": "38a79346-af10-4374-9ae9-e4efa33ee091",
        "colab": {
          "base_uri": "https://localhost:8080/",
          "height": 111
        }
      },
      "source": [
        "learn.fit_one_cycle(2, slice(2e-3/100, 2e-3))"
      ],
      "execution_count": 32,
      "outputs": [
        {
          "output_type": "display_data",
          "data": {
            "text/html": [
              "<table border=\"1\" class=\"dataframe\">\n",
              "  <thead>\n",
              "    <tr style=\"text-align: left;\">\n",
              "      <th>epoch</th>\n",
              "      <th>train_loss</th>\n",
              "      <th>valid_loss</th>\n",
              "      <th>accuracy</th>\n",
              "      <th>time</th>\n",
              "    </tr>\n",
              "  </thead>\n",
              "  <tbody>\n",
              "    <tr>\n",
              "      <td>0</td>\n",
              "      <td>1.008782</td>\n",
              "      <td>1.554298</td>\n",
              "      <td>0.732165</td>\n",
              "      <td>03:18</td>\n",
              "    </tr>\n",
              "    <tr>\n",
              "      <td>1</td>\n",
              "      <td>0.912917</td>\n",
              "      <td>1.510620</td>\n",
              "      <td>0.738423</td>\n",
              "      <td>03:02</td>\n",
              "    </tr>\n",
              "  </tbody>\n",
              "</table>"
            ],
            "text/plain": [
              "<IPython.core.display.HTML object>"
            ]
          },
          "metadata": {
            "tags": []
          }
        }
      ]
    },
    {
      "cell_type": "code",
      "metadata": {
        "id": "EEHszVRvGyFt",
        "outputId": "8fcf8cae-3ce7-4bba-e44e-9e9413bef9c9",
        "colab": {
          "base_uri": "https://localhost:8080/",
          "height": 111
        }
      },
      "source": [
        "learn.fit_one_cycle(2, slice(2e-3/100, 2e-3))"
      ],
      "execution_count": 33,
      "outputs": [
        {
          "output_type": "display_data",
          "data": {
            "text/html": [
              "<table border=\"1\" class=\"dataframe\">\n",
              "  <thead>\n",
              "    <tr style=\"text-align: left;\">\n",
              "      <th>epoch</th>\n",
              "      <th>train_loss</th>\n",
              "      <th>valid_loss</th>\n",
              "      <th>accuracy</th>\n",
              "      <th>time</th>\n",
              "    </tr>\n",
              "  </thead>\n",
              "  <tbody>\n",
              "    <tr>\n",
              "      <td>0</td>\n",
              "      <td>0.836581</td>\n",
              "      <td>1.500531</td>\n",
              "      <td>0.745932</td>\n",
              "      <td>03:08</td>\n",
              "    </tr>\n",
              "    <tr>\n",
              "      <td>1</td>\n",
              "      <td>0.753063</td>\n",
              "      <td>1.424747</td>\n",
              "      <td>0.748436</td>\n",
              "      <td>03:18</td>\n",
              "    </tr>\n",
              "  </tbody>\n",
              "</table>"
            ],
            "text/plain": [
              "<IPython.core.display.HTML object>"
            ]
          },
          "metadata": {
            "tags": []
          }
        }
      ]
    },
    {
      "cell_type": "code",
      "metadata": {
        "id": "XsHfrhCHG3dN",
        "outputId": "2d4e83f5-31f3-43bd-b55c-a1d0d54e5fb5",
        "colab": {
          "base_uri": "https://localhost:8080/",
          "height": 173
        }
      },
      "source": [
        "learn.fit_one_cycle(4, slice(2e-3/100, 2e-3))"
      ],
      "execution_count": 34,
      "outputs": [
        {
          "output_type": "display_data",
          "data": {
            "text/html": [
              "<table border=\"1\" class=\"dataframe\">\n",
              "  <thead>\n",
              "    <tr style=\"text-align: left;\">\n",
              "      <th>epoch</th>\n",
              "      <th>train_loss</th>\n",
              "      <th>valid_loss</th>\n",
              "      <th>accuracy</th>\n",
              "      <th>time</th>\n",
              "    </tr>\n",
              "  </thead>\n",
              "  <tbody>\n",
              "    <tr>\n",
              "      <td>0</td>\n",
              "      <td>0.674611</td>\n",
              "      <td>1.449026</td>\n",
              "      <td>0.748436</td>\n",
              "      <td>03:14</td>\n",
              "    </tr>\n",
              "    <tr>\n",
              "      <td>1</td>\n",
              "      <td>0.679844</td>\n",
              "      <td>1.366770</td>\n",
              "      <td>0.759700</td>\n",
              "      <td>03:22</td>\n",
              "    </tr>\n",
              "    <tr>\n",
              "      <td>2</td>\n",
              "      <td>0.596319</td>\n",
              "      <td>1.292729</td>\n",
              "      <td>0.767209</td>\n",
              "      <td>03:02</td>\n",
              "    </tr>\n",
              "    <tr>\n",
              "      <td>3</td>\n",
              "      <td>0.488216</td>\n",
              "      <td>1.306746</td>\n",
              "      <td>0.764706</td>\n",
              "      <td>03:16</td>\n",
              "    </tr>\n",
              "  </tbody>\n",
              "</table>"
            ],
            "text/plain": [
              "<IPython.core.display.HTML object>"
            ]
          },
          "metadata": {
            "tags": []
          }
        }
      ]
    },
    {
      "cell_type": "code",
      "metadata": {
        "id": "0Zsd99isb9EQ",
        "outputId": "8741602c-9d4e-43d9-ab14-8af0416e9773",
        "colab": {
          "base_uri": "https://localhost:8080/",
          "height": 173
        }
      },
      "source": [
        "learn.fit_one_cycle(4, slice(2e-3/100, 2e-3))"
      ],
      "execution_count": 35,
      "outputs": [
        {
          "output_type": "display_data",
          "data": {
            "text/html": [
              "<table border=\"1\" class=\"dataframe\">\n",
              "  <thead>\n",
              "    <tr style=\"text-align: left;\">\n",
              "      <th>epoch</th>\n",
              "      <th>train_loss</th>\n",
              "      <th>valid_loss</th>\n",
              "      <th>accuracy</th>\n",
              "      <th>time</th>\n",
              "    </tr>\n",
              "  </thead>\n",
              "  <tbody>\n",
              "    <tr>\n",
              "      <td>0</td>\n",
              "      <td>0.498183</td>\n",
              "      <td>1.297532</td>\n",
              "      <td>0.772215</td>\n",
              "      <td>03:22</td>\n",
              "    </tr>\n",
              "    <tr>\n",
              "      <td>1</td>\n",
              "      <td>0.531399</td>\n",
              "      <td>1.256559</td>\n",
              "      <td>0.780976</td>\n",
              "      <td>03:21</td>\n",
              "    </tr>\n",
              "    <tr>\n",
              "      <td>2</td>\n",
              "      <td>0.462960</td>\n",
              "      <td>1.224904</td>\n",
              "      <td>0.783479</td>\n",
              "      <td>03:15</td>\n",
              "    </tr>\n",
              "    <tr>\n",
              "      <td>3</td>\n",
              "      <td>0.379500</td>\n",
              "      <td>1.210610</td>\n",
              "      <td>0.788486</td>\n",
              "      <td>03:21</td>\n",
              "    </tr>\n",
              "  </tbody>\n",
              "</table>"
            ],
            "text/plain": [
              "<IPython.core.display.HTML object>"
            ]
          },
          "metadata": {
            "tags": []
          }
        }
      ]
    },
    {
      "cell_type": "code",
      "metadata": {
        "id": "atNWNKDFPbuI",
        "outputId": "3f49075f-ba73-4907-8de3-844f3f574c0c",
        "colab": {
          "base_uri": "https://localhost:8080/",
          "height": 173
        }
      },
      "source": [
        "learn.fit_one_cycle(4, slice(2e-3/100, 2e-3))"
      ],
      "execution_count": 36,
      "outputs": [
        {
          "output_type": "display_data",
          "data": {
            "text/html": [
              "<table border=\"1\" class=\"dataframe\">\n",
              "  <thead>\n",
              "    <tr style=\"text-align: left;\">\n",
              "      <th>epoch</th>\n",
              "      <th>train_loss</th>\n",
              "      <th>valid_loss</th>\n",
              "      <th>accuracy</th>\n",
              "      <th>time</th>\n",
              "    </tr>\n",
              "  </thead>\n",
              "  <tbody>\n",
              "    <tr>\n",
              "      <td>0</td>\n",
              "      <td>0.396959</td>\n",
              "      <td>1.185964</td>\n",
              "      <td>0.787234</td>\n",
              "      <td>03:32</td>\n",
              "    </tr>\n",
              "    <tr>\n",
              "      <td>1</td>\n",
              "      <td>0.458085</td>\n",
              "      <td>1.260963</td>\n",
              "      <td>0.790989</td>\n",
              "      <td>03:12</td>\n",
              "    </tr>\n",
              "    <tr>\n",
              "      <td>2</td>\n",
              "      <td>0.357188</td>\n",
              "      <td>1.236717</td>\n",
              "      <td>0.804756</td>\n",
              "      <td>03:07</td>\n",
              "    </tr>\n",
              "    <tr>\n",
              "      <td>3</td>\n",
              "      <td>0.311919</td>\n",
              "      <td>1.233387</td>\n",
              "      <td>0.806008</td>\n",
              "      <td>03:11</td>\n",
              "    </tr>\n",
              "  </tbody>\n",
              "</table>"
            ],
            "text/plain": [
              "<IPython.core.display.HTML object>"
            ]
          },
          "metadata": {
            "tags": []
          }
        }
      ]
    },
    {
      "cell_type": "code",
      "metadata": {
        "id": "rKrBTZ0T1uVA",
        "outputId": "39f6527f-9576-424b-c7c4-a3c976e257af",
        "colab": {
          "base_uri": "https://localhost:8080/",
          "height": 173
        }
      },
      "source": [
        "learn.fit_one_cycle(4, slice(2e-3/100, 2e-3))"
      ],
      "execution_count": 37,
      "outputs": [
        {
          "output_type": "display_data",
          "data": {
            "text/html": [
              "<table border=\"1\" class=\"dataframe\">\n",
              "  <thead>\n",
              "    <tr style=\"text-align: left;\">\n",
              "      <th>epoch</th>\n",
              "      <th>train_loss</th>\n",
              "      <th>valid_loss</th>\n",
              "      <th>accuracy</th>\n",
              "      <th>time</th>\n",
              "    </tr>\n",
              "  </thead>\n",
              "  <tbody>\n",
              "    <tr>\n",
              "      <td>0</td>\n",
              "      <td>0.317573</td>\n",
              "      <td>1.193238</td>\n",
              "      <td>0.799750</td>\n",
              "      <td>03:16</td>\n",
              "    </tr>\n",
              "    <tr>\n",
              "      <td>1</td>\n",
              "      <td>0.345800</td>\n",
              "      <td>1.267862</td>\n",
              "      <td>0.797247</td>\n",
              "      <td>03:11</td>\n",
              "    </tr>\n",
              "    <tr>\n",
              "      <td>2</td>\n",
              "      <td>0.321337</td>\n",
              "      <td>1.274761</td>\n",
              "      <td>0.794743</td>\n",
              "      <td>03:19</td>\n",
              "    </tr>\n",
              "    <tr>\n",
              "      <td>3</td>\n",
              "      <td>0.262035</td>\n",
              "      <td>1.207845</td>\n",
              "      <td>0.801001</td>\n",
              "      <td>03:17</td>\n",
              "    </tr>\n",
              "  </tbody>\n",
              "</table>"
            ],
            "text/plain": [
              "<IPython.core.display.HTML object>"
            ]
          },
          "metadata": {
            "tags": []
          }
        }
      ]
    },
    {
      "cell_type": "code",
      "metadata": {
        "id": "ajQC6WDg1yA9",
        "outputId": "557f5dd5-8ad2-41c2-a1a4-10d8748fa3d1",
        "colab": {
          "base_uri": "https://localhost:8080/",
          "height": 173
        }
      },
      "source": [
        "learn.fit_one_cycle(4, slice(2e-3/100, 2e-3))"
      ],
      "execution_count": 38,
      "outputs": [
        {
          "output_type": "display_data",
          "data": {
            "text/html": [
              "<table border=\"1\" class=\"dataframe\">\n",
              "  <thead>\n",
              "    <tr style=\"text-align: left;\">\n",
              "      <th>epoch</th>\n",
              "      <th>train_loss</th>\n",
              "      <th>valid_loss</th>\n",
              "      <th>accuracy</th>\n",
              "      <th>time</th>\n",
              "    </tr>\n",
              "  </thead>\n",
              "  <tbody>\n",
              "    <tr>\n",
              "      <td>0</td>\n",
              "      <td>0.271217</td>\n",
              "      <td>1.292791</td>\n",
              "      <td>0.801001</td>\n",
              "      <td>03:15</td>\n",
              "    </tr>\n",
              "    <tr>\n",
              "      <td>1</td>\n",
              "      <td>0.293984</td>\n",
              "      <td>1.251487</td>\n",
              "      <td>0.798498</td>\n",
              "      <td>03:21</td>\n",
              "    </tr>\n",
              "    <tr>\n",
              "      <td>2</td>\n",
              "      <td>0.284671</td>\n",
              "      <td>1.227356</td>\n",
              "      <td>0.806008</td>\n",
              "      <td>03:17</td>\n",
              "    </tr>\n",
              "    <tr>\n",
              "      <td>3</td>\n",
              "      <td>0.243849</td>\n",
              "      <td>1.229060</td>\n",
              "      <td>0.806008</td>\n",
              "      <td>03:16</td>\n",
              "    </tr>\n",
              "  </tbody>\n",
              "</table>"
            ],
            "text/plain": [
              "<IPython.core.display.HTML object>"
            ]
          },
          "metadata": {
            "tags": []
          }
        }
      ]
    },
    {
      "cell_type": "code",
      "metadata": {
        "id": "KKydb0B4BKGk",
        "outputId": "2f279390-b691-4e8d-8054-589e440be658",
        "colab": {
          "base_uri": "https://localhost:8080/",
          "height": 173
        }
      },
      "source": [
        "learn.fit_one_cycle(4, slice(2e-3/100, 2e-3))"
      ],
      "execution_count": 39,
      "outputs": [
        {
          "output_type": "display_data",
          "data": {
            "text/html": [
              "<table border=\"1\" class=\"dataframe\">\n",
              "  <thead>\n",
              "    <tr style=\"text-align: left;\">\n",
              "      <th>epoch</th>\n",
              "      <th>train_loss</th>\n",
              "      <th>valid_loss</th>\n",
              "      <th>accuracy</th>\n",
              "      <th>time</th>\n",
              "    </tr>\n",
              "  </thead>\n",
              "  <tbody>\n",
              "    <tr>\n",
              "      <td>0</td>\n",
              "      <td>0.243981</td>\n",
              "      <td>1.237707</td>\n",
              "      <td>0.806008</td>\n",
              "      <td>03:20</td>\n",
              "    </tr>\n",
              "    <tr>\n",
              "      <td>1</td>\n",
              "      <td>0.274353</td>\n",
              "      <td>1.304687</td>\n",
              "      <td>0.806008</td>\n",
              "      <td>03:23</td>\n",
              "    </tr>\n",
              "    <tr>\n",
              "      <td>2</td>\n",
              "      <td>0.231752</td>\n",
              "      <td>1.215472</td>\n",
              "      <td>0.811014</td>\n",
              "      <td>03:03</td>\n",
              "    </tr>\n",
              "    <tr>\n",
              "      <td>3</td>\n",
              "      <td>0.203463</td>\n",
              "      <td>1.259917</td>\n",
              "      <td>0.816020</td>\n",
              "      <td>03:08</td>\n",
              "    </tr>\n",
              "  </tbody>\n",
              "</table>"
            ],
            "text/plain": [
              "<IPython.core.display.HTML object>"
            ]
          },
          "metadata": {
            "tags": []
          }
        }
      ]
    },
    {
      "cell_type": "code",
      "metadata": {
        "id": "T2APKtFKBpGY",
        "outputId": "7f37ca54-1c18-4956-876e-34e90d08f089",
        "colab": {
          "base_uri": "https://localhost:8080/",
          "height": 173
        }
      },
      "source": [
        "learn.fit_one_cycle(4, slice(2e-3/100, 2e-3))"
      ],
      "execution_count": 40,
      "outputs": [
        {
          "output_type": "display_data",
          "data": {
            "text/html": [
              "<table border=\"1\" class=\"dataframe\">\n",
              "  <thead>\n",
              "    <tr style=\"text-align: left;\">\n",
              "      <th>epoch</th>\n",
              "      <th>train_loss</th>\n",
              "      <th>valid_loss</th>\n",
              "      <th>accuracy</th>\n",
              "      <th>time</th>\n",
              "    </tr>\n",
              "  </thead>\n",
              "  <tbody>\n",
              "    <tr>\n",
              "      <td>0</td>\n",
              "      <td>0.229392</td>\n",
              "      <td>1.262700</td>\n",
              "      <td>0.813517</td>\n",
              "      <td>03:07</td>\n",
              "    </tr>\n",
              "    <tr>\n",
              "      <td>1</td>\n",
              "      <td>0.258044</td>\n",
              "      <td>1.236889</td>\n",
              "      <td>0.821026</td>\n",
              "      <td>03:12</td>\n",
              "    </tr>\n",
              "    <tr>\n",
              "      <td>2</td>\n",
              "      <td>0.213660</td>\n",
              "      <td>1.253049</td>\n",
              "      <td>0.816020</td>\n",
              "      <td>03:17</td>\n",
              "    </tr>\n",
              "    <tr>\n",
              "      <td>3</td>\n",
              "      <td>0.192225</td>\n",
              "      <td>1.252314</td>\n",
              "      <td>0.819775</td>\n",
              "      <td>03:15</td>\n",
              "    </tr>\n",
              "  </tbody>\n",
              "</table>"
            ],
            "text/plain": [
              "<IPython.core.display.HTML object>"
            ]
          },
          "metadata": {
            "tags": []
          }
        }
      ]
    },
    {
      "cell_type": "code",
      "metadata": {
        "id": "qtTypA1sPgLU",
        "outputId": "8c4f0f58-33fd-4082-8b20-b3df7bf42772",
        "colab": {
          "base_uri": "https://localhost:8080/",
          "height": 111
        }
      },
      "source": [
        "learn.fit_one_cycle(2, slice(2e-3/100, 2e-3))"
      ],
      "execution_count": 41,
      "outputs": [
        {
          "output_type": "display_data",
          "data": {
            "text/html": [
              "<table border=\"1\" class=\"dataframe\">\n",
              "  <thead>\n",
              "    <tr style=\"text-align: left;\">\n",
              "      <th>epoch</th>\n",
              "      <th>train_loss</th>\n",
              "      <th>valid_loss</th>\n",
              "      <th>accuracy</th>\n",
              "      <th>time</th>\n",
              "    </tr>\n",
              "  </thead>\n",
              "  <tbody>\n",
              "    <tr>\n",
              "      <td>0</td>\n",
              "      <td>0.193825</td>\n",
              "      <td>1.258212</td>\n",
              "      <td>0.818523</td>\n",
              "      <td>03:23</td>\n",
              "    </tr>\n",
              "    <tr>\n",
              "      <td>1</td>\n",
              "      <td>0.194542</td>\n",
              "      <td>1.227261</td>\n",
              "      <td>0.826033</td>\n",
              "      <td>03:14</td>\n",
              "    </tr>\n",
              "  </tbody>\n",
              "</table>"
            ],
            "text/plain": [
              "<IPython.core.display.HTML object>"
            ]
          },
          "metadata": {
            "tags": []
          }
        }
      ]
    },
    {
      "cell_type": "code",
      "metadata": {
        "id": "b242kBsTUp9Y",
        "outputId": "425863b9-dfda-432a-f690-c2d5f4534bda",
        "colab": {
          "base_uri": "https://localhost:8080/",
          "height": 111
        }
      },
      "source": [
        "learn.fit_one_cycle(2, slice(2e-3/100, 2e-3))"
      ],
      "execution_count": 42,
      "outputs": [
        {
          "output_type": "display_data",
          "data": {
            "text/html": [
              "<table border=\"1\" class=\"dataframe\">\n",
              "  <thead>\n",
              "    <tr style=\"text-align: left;\">\n",
              "      <th>epoch</th>\n",
              "      <th>train_loss</th>\n",
              "      <th>valid_loss</th>\n",
              "      <th>accuracy</th>\n",
              "      <th>time</th>\n",
              "    </tr>\n",
              "  </thead>\n",
              "  <tbody>\n",
              "    <tr>\n",
              "      <td>0</td>\n",
              "      <td>0.198223</td>\n",
              "      <td>1.354402</td>\n",
              "      <td>0.817272</td>\n",
              "      <td>03:16</td>\n",
              "    </tr>\n",
              "    <tr>\n",
              "      <td>1</td>\n",
              "      <td>0.210179</td>\n",
              "      <td>1.278014</td>\n",
              "      <td>0.821026</td>\n",
              "      <td>03:10</td>\n",
              "    </tr>\n",
              "  </tbody>\n",
              "</table>"
            ],
            "text/plain": [
              "<IPython.core.display.HTML object>"
            ]
          },
          "metadata": {
            "tags": []
          }
        }
      ]
    },
    {
      "cell_type": "code",
      "metadata": {
        "id": "Duwf1Ih5VeDZ",
        "outputId": "b2dc5c19-21b1-4112-d982-c621132b385d",
        "colab": {
          "base_uri": "https://localhost:8080/",
          "height": 80
        }
      },
      "source": [
        "learn.fit_one_cycle(1, slice(2e-3/100, 2e-3))"
      ],
      "execution_count": 43,
      "outputs": [
        {
          "output_type": "display_data",
          "data": {
            "text/html": [
              "<table border=\"1\" class=\"dataframe\">\n",
              "  <thead>\n",
              "    <tr style=\"text-align: left;\">\n",
              "      <th>epoch</th>\n",
              "      <th>train_loss</th>\n",
              "      <th>valid_loss</th>\n",
              "      <th>accuracy</th>\n",
              "      <th>time</th>\n",
              "    </tr>\n",
              "  </thead>\n",
              "  <tbody>\n",
              "    <tr>\n",
              "      <td>0</td>\n",
              "      <td>0.195711</td>\n",
              "      <td>1.282901</td>\n",
              "      <td>0.826033</td>\n",
              "      <td>03:06</td>\n",
              "    </tr>\n",
              "  </tbody>\n",
              "</table>"
            ],
            "text/plain": [
              "<IPython.core.display.HTML object>"
            ]
          },
          "metadata": {
            "tags": []
          }
        }
      ]
    },
    {
      "cell_type": "code",
      "metadata": {
        "id": "c65d-osfDUXm"
      },
      "source": [
        "# save the best model\n",
        "\n",
        "learn.save_encoder('cadec_ask_mixed_fold7')"
      ],
      "execution_count": 44,
      "outputs": []
    },
    {
      "cell_type": "markdown",
      "metadata": {
        "id": "rCwZU0E2RgM6"
      },
      "source": [
        "# Part three: Predict on the test dataset"
      ]
    },
    {
      "cell_type": "code",
      "metadata": {
        "id": "gDm72c-dOu7d",
        "outputId": "8a3da25b-5bdf-4e31-f8fc-78b4ceb8f5a5",
        "colab": {
          "base_uri": "https://localhost:8080/",
          "height": 17
        }
      },
      "source": [
        "# use the test data for prediction\n",
        "\n",
        "preds, y = learn.get_preds(DatasetType.Test)"
      ],
      "execution_count": 45,
      "outputs": [
        {
          "output_type": "display_data",
          "data": {
            "text/html": [
              ""
            ],
            "text/plain": [
              "<IPython.core.display.HTML object>"
            ]
          },
          "metadata": {
            "tags": []
          }
        }
      ]
    },
    {
      "cell_type": "code",
      "metadata": {
        "id": "6tFSQcsWPvxn",
        "outputId": "37734905-a67f-43ea-81ae-5b62b0c8624f",
        "colab": {
          "base_uri": "https://localhost:8080/",
          "height": 105
        }
      },
      "source": [
        "predictions, *_ = learn.get_preds(DatasetType.Test)\n",
        "labels = np.argmax(predictions, 1)\n",
        "predict_list = labels.tolist()\n",
        "standard_list = test[0].tolist()\n",
        "\n",
        "print(len(predict_list))\n",
        "print(len(standard_list))\n",
        "\n",
        "print(predict_list)\n",
        "print(standard_list)"
      ],
      "execution_count": 46,
      "outputs": [
        {
          "output_type": "display_data",
          "data": {
            "text/html": [
              ""
            ],
            "text/plain": [
              "<IPython.core.display.HTML object>"
            ]
          },
          "metadata": {
            "tags": []
          }
        },
        {
          "output_type": "stream",
          "text": [
            "866\n",
            "866\n",
            "[465, 8, 8, 8, 8, 8, 8, 472, 98, 13, 536, 652, 27, 27, 408, 455, 30, 31, 338, 32, 37, 37, 37, 37, 37, 37, 448, 511, 49, 49, 49, 96, 808, 49, 49, 49, 49, 202, 49, 49, 49, 100, 100, 245, 597, 53, 53, 53, 58, 494, 59, 108, 61, 61, 62, 914, 71, 76, 76, 76, 76, 76, 79, 228, 228, 864, 228, 228, 228, 228, 228, 228, 228, 228, 228, 228, 228, 228, 228, 228, 228, 228, 228, 228, 228, 228, 228, 228, 228, 228, 228, 228, 228, 228, 228, 228, 228, 228, 228, 228, 228, 228, 228, 228, 228, 228, 228, 37, 80, 80, 220, 583, 268, 88, 268, 268, 91, 91, 92, 92, 94, 94, 652, 94, 94, 94, 94, 94, 94, 94, 94, 94, 94, 100, 100, 100, 318, 265, 100, 100, 100, 100, 100, 100, 199, 214, 108, 111, 111, 111, 111, 114, 692, 951, 122, 124, 125, 125, 125, 125, 125, 125, 125, 125, 125, 125, 125, 127, 127, 127, 318, 745, 832, 447, 148, 153, 160, 162, 166, 166, 129, 479, 628, 966, 289, 182, 182, 182, 182, 183, 183, 183, 183, 236, 187, 187, 187, 189, 189, 189, 289, 190, 190, 190, 190, 289, 293, 190, 190, 190, 336, 427, 197, 209, 197, 197, 197, 200, 203, 205, 205, 205, 210, 214, 214, 214, 214, 214, 197, 197, 197, 197, 214, 214, 623, 214, 214, 214, 214, 471, 848, 216, 832, 534, 194, 194, 218, 219, 222, 494, 265, 228, 228, 228, 265, 228, 228, 228, 228, 228, 228, 228, 228, 228, 228, 289, 231, 234, 98, 234, 234, 328, 236, 236, 238, 939, 243, 7, 719, 243, 243, 243, 243, 243, 985, 243, 244, 245, 245, 245, 245, 245, 245, 245, 245, 245, 245, 246, 357, 505, 618, 618, 618, 380, 265, 265, 289, 265, 265, 265, 265, 265, 265, 265, 265, 265, 265, 265, 265, 265, 265, 265, 265, 560, 265, 267, 268, 269, 274, 165, 277, 277, 281, 281, 286, 289, 289, 741, 289, 289, 289, 864, 588, 289, 228, 289, 289, 289, 290, 536, 291, 293, 848, 298, 300, 220, 301, 415, 309, 309, 309, 29, 318, 318, 318, 318, 39, 1009, 1009, 1009, 1009, 1009, 1009, 1009, 1009, 1009, 482, 482, 848, 848, 332, 332, 334, 337, 337, 337, 337, 337, 337, 342, 343, 344, 344, 26, 351, 359, 359, 363, 609, 364, 364, 557, 662, 517, 389, 389, 391, 893, 396, 402, 896, 402, 402, 402, 402, 402, 402, 408, 864, 900, 415, 418, 419, 419, 419, 419, 419, 419, 419, 419, 419, 419, 419, 419, 828, 213, 614, 426, 426, 427, 427, 427, 427, 427, 427, 427, 427, 561, 427, 427, 69, 429, 436, 664, 443, 443, 444, 454, 455, 455, 216, 455, 455, 458, 689, 26, 459, 459, 465, 462, 860, 471, 473, 26, 474, 475, 475, 475, 475, 485, 567, 487, 489, 491, 29, 491, 491, 492, 492, 495, 887, 499, 499, 502, 505, 509, 509, 888, 521, 522, 524, 527, 530, 27, 541, 541, 541, 541, 545, 548, 384, 384, 384, 384, 384, 384, 549, 491, 465, 721, 565, 565, 571, 236, 578, 365, 579, 579, 583, 590, 590, 591, 591, 216, 592, 594, 595, 597, 597, 597, 604, 604, 293, 37, 607, 610, 739, 612, 76, 614, 614, 479, 614, 614, 619, 88, 131, 623, 348, 635, 326, 639, 639, 646, 646, 646, 646, 646, 652, 657, 659, 662, 662, 662, 666, 169, 667, 676, 678, 678, 677, 669, 348, 274, 692, 693, 693, 693, 211, 860, 309, 702, 190, 704, 894, 704, 704, 37, 706, 810, 707, 708, 708, 711, 711, 711, 714, 97, 726, 726, 49, 730, 739, 735, 90, 741, 876, 769, 773, 770, 902, 37, 775, 775, 775, 328, 553, 790, 791, 427, 794, 276, 796, 798, 799, 415, 803, 753, 561, 847, 806, 806, 848, 848, 809, 809, 810, 810, 337, 485, 813, 817, 824, 824, 826, 826, 830, 830, 830, 830, 830, 830, 830, 830, 446, 841, 839, 839, 841, 843, 846, 847, 847, 847, 847, 282, 847, 184, 64, 847, 851, 274, 853, 853, 614, 853, 853, 861, 864, 44, 214, 293, 896, 896, 896, 896, 896, 896, 896, 733, 920, 919, 919, 919, 919, 933, 933, 935, 983, 937, 937, 937, 937, 941, 943, 26, 948, 948, 948, 948, 948, 949, 949, 949, 949, 949, 949, 949, 949, 949, 949, 949, 949, 949, 949, 949, 949, 949, 949, 949, 949, 949, 949, 949, 949, 949, 949, 949, 949, 949, 949, 949, 949, 949, 949, 949, 949, 949, 949, 949, 949, 949, 949, 949, 949, 949, 949, 949, 949, 949, 949, 949, 949, 949, 949, 949, 949, 949, 949, 949, 949, 949, 949, 949, 949, 949, 949, 949, 949, 949, 949, 949, 949, 949, 949, 949, 949, 949, 949, 949, 949, 949, 949, 949, 939, 719, 949, 949, 949, 949, 949, 949, 949, 949, 949, 949, 949, 949, 949, 949, 949, 949, 949, 949, 949, 949, 949, 949, 628, 26, 950, 950, 950, 950, 950, 952, 952, 952, 958, 959, 964, 976, 216, 977, 980, 994, 983, 999, 999, 966, 1001, 26, 1001, 1012, 1016, 1017, 1019, 1009, 1026, 1026, 1026, 1028, 1029, 216, 1035, 1029]\n",
            "[3, 8, 8, 8, 8, 8, 8, 9, 10, 13, 27, 27, 27, 27, 28, 28, 30, 31, 31, 32, 37, 37, 37, 37, 37, 37, 37, 49, 49, 49, 49, 49, 49, 49, 49, 49, 49, 49, 49, 49, 49, 49, 49, 50, 53, 53, 53, 53, 58, 58, 59, 60, 61, 61, 62, 68, 71, 76, 76, 76, 76, 76, 79, 79, 79, 79, 79, 79, 79, 79, 79, 79, 79, 79, 79, 79, 79, 79, 79, 79, 79, 79, 79, 79, 79, 79, 79, 79, 79, 79, 79, 79, 79, 79, 79, 79, 79, 79, 79, 79, 79, 79, 79, 79, 79, 79, 79, 79, 80, 80, 80, 84, 86, 88, 89, 89, 91, 91, 92, 92, 94, 94, 94, 94, 94, 94, 94, 94, 94, 94, 94, 94, 94, 100, 100, 100, 100, 100, 100, 100, 100, 100, 100, 100, 100, 102, 108, 111, 111, 111, 111, 114, 122, 122, 122, 124, 125, 125, 125, 125, 125, 125, 125, 125, 125, 125, 125, 127, 127, 127, 127, 132, 139, 142, 148, 153, 160, 162, 166, 166, 172, 172, 179, 181, 182, 182, 182, 182, 182, 183, 183, 183, 183, 185, 187, 187, 187, 189, 189, 189, 190, 190, 190, 190, 190, 190, 190, 190, 190, 190, 194, 194, 197, 197, 197, 197, 197, 200, 203, 205, 205, 205, 210, 214, 214, 214, 214, 214, 214, 214, 214, 214, 214, 214, 214, 214, 214, 214, 214, 214, 216, 216, 218, 218, 218, 218, 218, 219, 222, 224, 228, 228, 228, 228, 228, 228, 228, 228, 228, 228, 228, 228, 228, 228, 228, 228, 231, 234, 234, 234, 234, 235, 236, 236, 238, 243, 243, 243, 243, 243, 243, 243, 243, 243, 243, 243, 244, 245, 245, 245, 245, 245, 245, 245, 245, 245, 245, 246, 246, 248, 254, 254, 254, 256, 265, 265, 265, 265, 265, 265, 265, 265, 265, 265, 265, 265, 265, 265, 265, 265, 265, 265, 265, 265, 265, 267, 268, 269, 274, 277, 277, 277, 281, 281, 286, 289, 289, 289, 289, 289, 289, 289, 289, 289, 289, 289, 289, 289, 290, 291, 291, 293, 296, 298, 300, 300, 301, 301, 309, 309, 309, 317, 318, 318, 318, 318, 325, 325, 325, 325, 325, 325, 325, 325, 325, 325, 325, 325, 325, 325, 332, 332, 334, 337, 337, 337, 337, 337, 337, 342, 343, 344, 344, 346, 351, 359, 359, 363, 363, 364, 364, 369, 378, 383, 389, 389, 391, 396, 396, 402, 402, 402, 402, 402, 402, 402, 402, 408, 409, 411, 416, 417, 419, 419, 419, 419, 419, 419, 419, 419, 419, 419, 419, 419, 420, 424, 426, 426, 426, 426, 427, 427, 427, 427, 427, 427, 427, 427, 427, 427, 427, 429, 436, 437, 442, 443, 444, 454, 455, 455, 455, 455, 455, 458, 458, 458, 459, 459, 461, 462, 471, 471, 473, 474, 474, 475, 475, 475, 475, 485, 487, 487, 489, 491, 491, 491, 491, 492, 492, 495, 498, 499, 499, 502, 505, 509, 509, 518, 521, 522, 524, 527, 530, 536, 541, 541, 541, 541, 545, 548, 548, 548, 548, 548, 548, 548, 549, 561, 564, 565, 566, 569, 571, 574, 578, 578, 579, 579, 583, 590, 590, 591, 591, 592, 592, 594, 595, 597, 597, 597, 604, 604, 605, 606, 607, 610, 610, 612, 614, 614, 614, 614, 614, 614, 619, 620, 622, 623, 623, 635, 639, 639, 639, 646, 646, 646, 646, 646, 652, 657, 659, 662, 662, 662, 666, 666, 667, 668, 677, 677, 678, 679, 685, 690, 691, 693, 693, 693, 698, 701, 702, 702, 703, 703, 704, 704, 704, 704, 705, 705, 707, 708, 708, 711, 711, 711, 714, 725, 726, 726, 727, 730, 734, 735, 740, 741, 769, 769, 770, 770, 775, 775, 775, 775, 775, 778, 784, 790, 792, 794, 794, 794, 796, 798, 799, 801, 803, 803, 806, 806, 806, 806, 809, 809, 809, 809, 810, 810, 810, 813, 814, 817, 824, 824, 826, 826, 830, 830, 830, 830, 830, 830, 830, 830, 831, 837, 839, 839, 841, 843, 846, 847, 847, 847, 847, 847, 847, 847, 847, 847, 851, 852, 853, 853, 853, 853, 853, 861, 864, 869, 877, 896, 896, 896, 896, 896, 896, 896, 897, 909, 913, 919, 919, 919, 919, 933, 933, 935, 937, 937, 937, 937, 937, 941, 943, 946, 948, 948, 948, 948, 948, 949, 949, 949, 949, 949, 949, 949, 949, 949, 949, 949, 949, 949, 949, 949, 949, 949, 949, 949, 949, 949, 949, 949, 949, 949, 949, 949, 949, 949, 949, 949, 949, 949, 949, 949, 949, 949, 949, 949, 949, 949, 949, 949, 949, 949, 949, 949, 949, 949, 949, 949, 949, 949, 949, 949, 949, 949, 949, 949, 949, 949, 949, 949, 949, 949, 949, 949, 949, 949, 949, 949, 949, 949, 949, 949, 949, 949, 949, 949, 949, 949, 949, 949, 949, 949, 949, 949, 949, 949, 949, 949, 949, 949, 949, 949, 949, 949, 949, 949, 949, 949, 949, 949, 949, 949, 949, 949, 950, 950, 950, 950, 950, 950, 950, 952, 952, 952, 958, 959, 964, 976, 976, 977, 980, 994, 997, 999, 999, 999, 1001, 1001, 1001, 1012, 1016, 1017, 1019, 1025, 1026, 1026, 1026, 1028, 1029, 1034, 1035, 1035]\n"
          ],
          "name": "stdout"
        }
      ]
    },
    {
      "cell_type": "code",
      "metadata": {
        "id": "XIC4zufnMxtq",
        "outputId": "940d173d-32f1-42d7-a89d-d3ef89668705",
        "colab": {
          "base_uri": "https://localhost:8080/"
        }
      },
      "source": [
        "correct_num = 0\n",
        "\n",
        "for i in range(0, len(standard_list)):\n",
        "  if predict_list[i] == standard_list[i]:\n",
        "    correct_num = correct_num+1\n",
        "  else:\n",
        "    pass\n",
        "print(correct_num)\n",
        "\n",
        "predict_accuracy = correct_num/len(predict_list)\n",
        "print(predict_accuracy)"
      ],
      "execution_count": 47,
      "outputs": [
        {
          "output_type": "stream",
          "text": [
            "601\n",
            "0.6939953810623557\n"
          ],
          "name": "stdout"
        }
      ]
    },
    {
      "cell_type": "code",
      "metadata": {
        "id": "zlKMHp1CIaRJ"
      },
      "source": [
        ""
      ],
      "execution_count": 47,
      "outputs": []
    }
  ]
}