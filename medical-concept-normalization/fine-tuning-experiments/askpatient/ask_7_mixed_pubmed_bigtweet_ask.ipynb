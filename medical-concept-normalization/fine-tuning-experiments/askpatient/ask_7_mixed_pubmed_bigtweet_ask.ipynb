{
  "nbformat": 4,
  "nbformat_minor": 0,
  "metadata": {
    "accelerator": "TPU",
    "colab": {
      "name": "ask_7_mixed_pubmed_bigtweet_ask.ipynb",
      "provenance": [],
      "collapsed_sections": [],
      "toc_visible": true,
      "include_colab_link": true
    },
    "kernelspec": {
      "display_name": "Python 3",
      "name": "python3"
    }
  },
  "cells": [
    {
      "cell_type": "markdown",
      "metadata": {
        "id": "view-in-github",
        "colab_type": "text"
      },
      "source": [
        "<a href=\"https://colab.research.google.com/github/unt-iialab/medical-concept-normalization/blob/master/medical-concept-normalization/fine-tuning-experiments/askpatient/ask_7_mixed_pubmed_bigtweet_ask.ipynb\" target=\"_parent\"><img src=\"https://colab.research.google.com/assets/colab-badge.svg\" alt=\"Open In Colab\"/></a>"
      ]
    },
    {
      "cell_type": "code",
      "metadata": {
        "id": "adSi6i2-dWxy"
      },
      "source": [
        "import os"
      ],
      "execution_count": 1,
      "outputs": []
    },
    {
      "cell_type": "code",
      "metadata": {
        "id": "E7xYCRGPjd9B"
      },
      "source": [
        "base_dir = 'medical-concept-normalization'"
      ],
      "execution_count": 2,
      "outputs": []
    },
    {
      "cell_type": "code",
      "metadata": {
        "id": "yvIW3aUDjYNS"
      },
      "source": [
        "os.mkdir(base_dir)"
      ],
      "execution_count": 3,
      "outputs": []
    },
    {
      "cell_type": "code",
      "metadata": {
        "id": "es-FFLlfk6SG"
      },
      "source": [
        "os.mkdir('medical-concept-normalization/data_collection')"
      ],
      "execution_count": 4,
      "outputs": []
    },
    {
      "cell_type": "markdown",
      "metadata": {
        "id": "0R-Guw_VoJXm"
      },
      "source": [
        "**Install fastai and clone the fastai for text classification**\n",
        "\n"
      ]
    },
    {
      "cell_type": "code",
      "metadata": {
        "id": "QVZa3Z0PmHFH",
        "outputId": "754f69d3-585e-4955-d166-e2c8cd0810c9",
        "colab": {
          "base_uri": "https://localhost:8080/",
          "height": 68
        }
      },
      "source": [
        "!curl https://course-v3.fast.ai/setup/colab | bash"
      ],
      "execution_count": 5,
      "outputs": [
        {
          "output_type": "stream",
          "text": [
            "  % Total    % Received % Xferd  Average Speed   Time    Time     Time  Current\n",
            "                                 Dload  Upload   Total   Spent    Left  Speed\n",
            "\r  0     0    0     0    0     0      0      0 --:--:-- --:--:-- --:--:--     0curl: (6) Could not resolve host: course-v3.fast.ai\n"
          ],
          "name": "stdout"
        }
      ]
    },
    {
      "cell_type": "code",
      "metadata": {
        "id": "_FBFFEBrmJC0",
        "outputId": "49c82e5c-7df4-4951-ac86-020fb9407108",
        "colab": {
          "base_uri": "https://localhost:8080/",
          "height": 85
        }
      },
      "source": [
        "!git clone https://github.com/wshuyi/demo-nlp-classification-fastai.git"
      ],
      "execution_count": 6,
      "outputs": [
        {
          "output_type": "stream",
          "text": [
            "Cloning into 'demo-nlp-classification-fastai'...\n",
            "remote: Enumerating objects: 9, done.\u001b[K\n",
            "remote: Total 9 (delta 0), reused 0 (delta 0), pack-reused 9\u001b[K\n",
            "Unpacking objects: 100% (9/9), done.\n"
          ],
          "name": "stdout"
        }
      ]
    },
    {
      "cell_type": "code",
      "metadata": {
        "id": "66zfh_JqmWMU"
      },
      "source": [
        "from fastai import *\n",
        "from fastai.text import *"
      ],
      "execution_count": 7,
      "outputs": []
    },
    {
      "cell_type": "markdown",
      "metadata": {
        "id": "mNIw-yALdBU9"
      },
      "source": [
        "**Set the path of the data collections**"
      ]
    },
    {
      "cell_type": "code",
      "metadata": {
        "id": "pzH7VMh4mqCL"
      },
      "source": [
        "path = Path('medical-concept-normalization/data_collection')"
      ],
      "execution_count": 8,
      "outputs": []
    },
    {
      "cell_type": "code",
      "metadata": {
        "id": "b8fjI6yyn4aS"
      },
      "source": [
        "# training data set\n",
        "\n",
        "train_csv = path/'AskAPatient.fold-7.train.csv'\n",
        "train = pd.read_csv(train_csv, header=None)\n",
        "#train.head()\n",
        "#train.info()"
      ],
      "execution_count": 10,
      "outputs": []
    },
    {
      "cell_type": "code",
      "metadata": {
        "id": "Hmlr-bAorfHd",
        "outputId": "43400611-eef0-4bd0-993d-287501a8f768",
        "colab": {
          "base_uri": "https://localhost:8080/",
          "height": 204
        }
      },
      "source": [
        "# validating data set\n",
        "\n",
        "valid = pd.read_csv(path/\"AskAPatient.fold-7.validation.csv\",header=None)\n",
        "valid.head()"
      ],
      "execution_count": 11,
      "outputs": [
        {
          "output_type": "execute_result",
          "data": {
            "text/html": [
              "<div>\n",
              "<style scoped>\n",
              "    .dataframe tbody tr th:only-of-type {\n",
              "        vertical-align: middle;\n",
              "    }\n",
              "\n",
              "    .dataframe tbody tr th {\n",
              "        vertical-align: top;\n",
              "    }\n",
              "\n",
              "    .dataframe thead th {\n",
              "        text-align: right;\n",
              "    }\n",
              "</style>\n",
              "<table border=\"1\" class=\"dataframe\">\n",
              "  <thead>\n",
              "    <tr style=\"text-align: right;\">\n",
              "      <th></th>\n",
              "      <th>0</th>\n",
              "      <th>1</th>\n",
              "    </tr>\n",
              "  </thead>\n",
              "  <tbody>\n",
              "    <tr>\n",
              "      <th>0</th>\n",
              "      <td>0</td>\n",
              "      <td>fear</td>\n",
              "    </tr>\n",
              "    <tr>\n",
              "      <th>1</th>\n",
              "      <td>2</td>\n",
              "      <td>heel pain</td>\n",
              "    </tr>\n",
              "    <tr>\n",
              "      <th>2</th>\n",
              "      <td>4</td>\n",
              "      <td>Discoloration of skin [blotchy] on the neck</td>\n",
              "    </tr>\n",
              "    <tr>\n",
              "      <th>3</th>\n",
              "      <td>8</td>\n",
              "      <td>arthritis</td>\n",
              "    </tr>\n",
              "    <tr>\n",
              "      <th>4</th>\n",
              "      <td>8</td>\n",
              "      <td>arthritis</td>\n",
              "    </tr>\n",
              "  </tbody>\n",
              "</table>\n",
              "</div>"
            ],
            "text/plain": [
              "   0                                            1\n",
              "0  0                                         fear\n",
              "1  2                                    heel pain\n",
              "2  4  Discoloration of skin [blotchy] on the neck\n",
              "3  8                                    arthritis\n",
              "4  8                                    arthritis"
            ]
          },
          "metadata": {
            "tags": []
          },
          "execution_count": 11
        }
      ]
    },
    {
      "cell_type": "code",
      "metadata": {
        "id": "cOza9dfSsBud",
        "outputId": "ce0726d0-e7af-4374-e3b7-0c4115127549",
        "colab": {
          "base_uri": "https://localhost:8080/",
          "height": 204
        }
      },
      "source": [
        "# testing data set\n",
        "\n",
        "test = pd.read_csv(path/\"AskAPatient.fold-7.test.csv\",header=None)\n",
        "test.head()"
      ],
      "execution_count": 12,
      "outputs": [
        {
          "output_type": "execute_result",
          "data": {
            "text/html": [
              "<div>\n",
              "<style scoped>\n",
              "    .dataframe tbody tr th:only-of-type {\n",
              "        vertical-align: middle;\n",
              "    }\n",
              "\n",
              "    .dataframe tbody tr th {\n",
              "        vertical-align: top;\n",
              "    }\n",
              "\n",
              "    .dataframe thead th {\n",
              "        text-align: right;\n",
              "    }\n",
              "</style>\n",
              "<table border=\"1\" class=\"dataframe\">\n",
              "  <thead>\n",
              "    <tr style=\"text-align: right;\">\n",
              "      <th></th>\n",
              "      <th>0</th>\n",
              "      <th>1</th>\n",
              "    </tr>\n",
              "  </thead>\n",
              "  <tbody>\n",
              "    <tr>\n",
              "      <th>0</th>\n",
              "      <td>3</td>\n",
              "      <td>joints poping and cracking</td>\n",
              "    </tr>\n",
              "    <tr>\n",
              "      <th>1</th>\n",
              "      <td>8</td>\n",
              "      <td>Arthritis</td>\n",
              "    </tr>\n",
              "    <tr>\n",
              "      <th>2</th>\n",
              "      <td>8</td>\n",
              "      <td>arthritis</td>\n",
              "    </tr>\n",
              "    <tr>\n",
              "      <th>3</th>\n",
              "      <td>8</td>\n",
              "      <td>arthritis</td>\n",
              "    </tr>\n",
              "    <tr>\n",
              "      <th>4</th>\n",
              "      <td>8</td>\n",
              "      <td>arthritis</td>\n",
              "    </tr>\n",
              "  </tbody>\n",
              "</table>\n",
              "</div>"
            ],
            "text/plain": [
              "   0                           1\n",
              "0  3  joints poping and cracking\n",
              "1  8                   Arthritis\n",
              "2  8                   arthritis\n",
              "3  8                   arthritis\n",
              "4  8                   arthritis"
            ]
          },
          "metadata": {
            "tags": []
          },
          "execution_count": 12
        }
      ]
    },
    {
      "cell_type": "code",
      "metadata": {
        "id": "Vo-YNvVYoaH6",
        "outputId": "850d1d6c-afc7-4639-d564-a2ed6d85d9df",
        "colab": {
          "base_uri": "https://localhost:8080/",
          "height": 17
        }
      },
      "source": [
        "# Creating DataBunch for language modelling\n",
        "\n",
        "data_lm = TextLMDataBunch.from_csv(path, 'mixed_pubmed_bigtweet_askpatient.csv')"
      ],
      "execution_count": 13,
      "outputs": [
        {
          "output_type": "display_data",
          "data": {
            "text/html": [
              ""
            ],
            "text/plain": [
              "<IPython.core.display.HTML object>"
            ]
          },
          "metadata": {
            "tags": []
          }
        },
        {
          "output_type": "display_data",
          "data": {
            "text/html": [
              ""
            ],
            "text/plain": [
              "<IPython.core.display.HTML object>"
            ]
          },
          "metadata": {
            "tags": []
          }
        }
      ]
    },
    {
      "cell_type": "code",
      "metadata": {
        "id": "qcV-9kMnNLBf"
      },
      "source": [
        ""
      ],
      "execution_count": 13,
      "outputs": []
    },
    {
      "cell_type": "code",
      "metadata": {
        "id": "1ScY9afDsnvE"
      },
      "source": [
        "# Creating DataBunch for classification\n",
        "\n",
        "# data_clas = TextClasDataBunch.from_df(path, train, valid, test, vocab=data_lm.train_ds.vocab, bs=128)"
      ],
      "execution_count": 14,
      "outputs": []
    },
    {
      "cell_type": "code",
      "metadata": {
        "id": "gzrSdQcvey9p",
        "outputId": "87319d93-d41a-4355-9aed-ba8304c01b28",
        "colab": {
          "base_uri": "https://localhost:8080/",
          "height": 17
        }
      },
      "source": [
        "data_clas = TextClasDataBunch.from_df(path, train, valid, vocab=data_lm.train_ds.vocab, bs=128)"
      ],
      "execution_count": 15,
      "outputs": [
        {
          "output_type": "display_data",
          "data": {
            "text/html": [
              ""
            ],
            "text/plain": [
              "<IPython.core.display.HTML object>"
            ]
          },
          "metadata": {
            "tags": []
          }
        },
        {
          "output_type": "display_data",
          "data": {
            "text/html": [
              ""
            ],
            "text/plain": [
              "<IPython.core.display.HTML object>"
            ]
          },
          "metadata": {
            "tags": []
          }
        }
      ]
    },
    {
      "cell_type": "code",
      "metadata": {
        "id": "MD27Tf0Ke3ou",
        "outputId": "ad8f7d40-939c-4ec9-e993-891b1b8aaf49",
        "colab": {
          "base_uri": "https://localhost:8080/",
          "height": 17
        }
      },
      "source": [
        "data_clas.add_test(test,label=0)\n"
      ],
      "execution_count": 16,
      "outputs": [
        {
          "output_type": "display_data",
          "data": {
            "text/html": [
              ""
            ],
            "text/plain": [
              "<IPython.core.display.HTML object>"
            ]
          },
          "metadata": {
            "tags": []
          }
        }
      ]
    },
    {
      "cell_type": "code",
      "metadata": {
        "id": "-dpjnk_rstwk"
      },
      "source": [
        "data_lm.save()\n",
        "data_clas.save()"
      ],
      "execution_count": 17,
      "outputs": []
    },
    {
      "cell_type": "code",
      "metadata": {
        "id": "4OkiJa36sw5s",
        "outputId": "ddbaf3a0-3a26-446c-ff42-692f127c95e1",
        "colab": {
          "base_uri": "https://localhost:8080/",
          "height": 1000
        }
      },
      "source": [
        "data_lm.train_ds.vocab.itos"
      ],
      "execution_count": 18,
      "outputs": [
        {
          "output_type": "execute_result",
          "data": {
            "text/plain": [
              "['xxunk',\n",
              " 'xxpad',\n",
              " 'xxbos',\n",
              " 'xxeos',\n",
              " 'xxfld',\n",
              " 'xxmaj',\n",
              " 'xxup',\n",
              " 'xxrep',\n",
              " 'xxwrep',\n",
              " 'pain',\n",
              " 'of',\n",
              " 'the',\n",
              " 'in',\n",
              " 'lipitor',\n",
              " 'and',\n",
              " 'to',\n",
              " 'a',\n",
              " 'muscle',\n",
              " 'with',\n",
              " 'for',\n",
              " 'was',\n",
              " 'diclofenac',\n",
              " 'were',\n",
              " 'severe',\n",
              " 'on',\n",
              " 'my',\n",
              " 'is',\n",
              " 'myalgia',\n",
              " 'lower',\n",
              " 'fatigue',\n",
              " 'rt',\n",
              " 'loss',\n",
              " 'by',\n",
              " 'limb',\n",
              " 'cramp',\n",
              " 'weakness',\n",
              " 'sodium',\n",
              " 'at',\n",
              " 'disease',\n",
              " 'stomach',\n",
              " 'that',\n",
              " 'as',\n",
              " 'or',\n",
              " 'back',\n",
              " 'depression',\n",
              " '-',\n",
              " 'patients',\n",
              " 'from',\n",
              " 'i',\n",
              " 'not',\n",
              " 'this',\n",
              " 'cramps',\n",
              " 'gas',\n",
              " 'joint',\n",
              " 'upper',\n",
              " 'memory',\n",
              " 'leg',\n",
              " 'mg',\n",
              " 'drug',\n",
              " 'you',\n",
              " 'all',\n",
              " 'legs',\n",
              " 'pains',\n",
              " 'headache',\n",
              " 'group',\n",
              " 'knee',\n",
              " 'be',\n",
              " 'are',\n",
              " 'shoulder',\n",
              " 'study',\n",
              " 'unable',\n",
              " 'gastrointestinal',\n",
              " 'arthralgia',\n",
              " 'excessive',\n",
              " 'treatment',\n",
              " 'neck',\n",
              " 'foot',\n",
              " 'arthritis',\n",
              " 'it',\n",
              " 'aches',\n",
              " 'hip',\n",
              " 'after',\n",
              " 'an',\n",
              " 'amp',\n",
              " 'have',\n",
              " 'voltaren',\n",
              " 'p',\n",
              " 'numbness',\n",
              " 'like',\n",
              " 'no',\n",
              " 'arthrotec',\n",
              " 'insomnia',\n",
              " 'increased',\n",
              " 'release',\n",
              " '/',\n",
              " 'nausea',\n",
              " 'time',\n",
              " 'gluten',\n",
              " 'bleeding',\n",
              " 'can',\n",
              " 'both',\n",
              " 'swelling',\n",
              " 'skin',\n",
              " 'abdominal',\n",
              " 'walk',\n",
              " 'blood',\n",
              " 'heart',\n",
              " 'asthenia',\n",
              " 'tired',\n",
              " 'could',\n",
              " 'dizziness',\n",
              " 'feeling',\n",
              " 'high',\n",
              " 'problems',\n",
              " 'than',\n",
              " 'out',\n",
              " 'we',\n",
              " 'walking',\n",
              " 'free',\n",
              " 'difficulty',\n",
              " 'feet',\n",
              " 'up',\n",
              " 'hand',\n",
              " 'muscles',\n",
              " 'effect',\n",
              " 'acid',\n",
              " 'more',\n",
              " 'chest',\n",
              " 'low',\n",
              " 'cholesterol',\n",
              " 'compared',\n",
              " 'hair',\n",
              " 'stiffness',\n",
              " 'ache',\n",
              " 'new',\n",
              " 'zocor',\n",
              " 'extreme',\n",
              " 'backache',\n",
              " 'inflammatory',\n",
              " 'burning',\n",
              " 'vision',\n",
              " 'using',\n",
              " 'weight',\n",
              " 'groups',\n",
              " 'effects',\n",
              " 'very',\n",
              " 'liver',\n",
              " 'between',\n",
              " 'sleep',\n",
              " 'pins',\n",
              " 'needles',\n",
              " 'right',\n",
              " 'your',\n",
              " 'two',\n",
              " 'day',\n",
              " 'diarrhoea',\n",
              " 'has',\n",
              " 'significantly',\n",
              " 'cramping',\n",
              " 'its',\n",
              " 'amnesia',\n",
              " 'significant',\n",
              " 'our',\n",
              " 'about',\n",
              " 'h',\n",
              " 'calf',\n",
              " 'c',\n",
              " 'impairment',\n",
              " 'but',\n",
              " 'one',\n",
              " 'had',\n",
              " 'left',\n",
              " 'concentration',\n",
              " 'anxiety',\n",
              " 'which',\n",
              " 'use',\n",
              " 'used',\n",
              " 'disability',\n",
              " 'these',\n",
              " 'potassium',\n",
              " 'pressure',\n",
              " 'short',\n",
              " 'tingling',\n",
              " 'term',\n",
              " 'anti',\n",
              " 'drugs',\n",
              " 'symptom',\n",
              " 'do',\n",
              " 'lack',\n",
              " 'dose',\n",
              " 'nt',\n",
              " 'bloating',\n",
              " 'results',\n",
              " 's',\n",
              " 'what',\n",
              " 'constipation',\n",
              " 'also',\n",
              " 'stiff',\n",
              " 'placebo',\n",
              " 'when',\n",
              " 'reduced',\n",
              " 'glutenfree',\n",
              " 'disorder',\n",
              " 'body',\n",
              " 'there',\n",
              " 'over',\n",
              " 'efficacy',\n",
              " 'days',\n",
              " 'arm',\n",
              " 'celiac',\n",
              " 'hands',\n",
              " 'so',\n",
              " 'may',\n",
              " 'treated',\n",
              " 'headaches',\n",
              " 'poor',\n",
              " 'arms',\n",
              " 'been',\n",
              " 'ds',\n",
              " 'm',\n",
              " 'sore',\n",
              " 'neuropathy',\n",
              " 'w',\n",
              " 'ankle',\n",
              " 'showed',\n",
              " 'acute',\n",
              " 'well',\n",
              " 'balance',\n",
              " 'get',\n",
              " 'different',\n",
              " 'blurred',\n",
              " 'now',\n",
              " 'serum',\n",
              " 'visual',\n",
              " 'renal',\n",
              " 'ml',\n",
              " 'joints',\n",
              " 'symptoms',\n",
              " 'pravachol',\n",
              " 'food',\n",
              " 'tiredness',\n",
              " 'administration',\n",
              " 'myocardial',\n",
              " 'sensation',\n",
              " 'topical',\n",
              " 'rash',\n",
              " 'products',\n",
              " 'control',\n",
              " 'infarction',\n",
              " 'rats',\n",
              " 'myositis',\n",
              " 'oral',\n",
              " 'non',\n",
              " 'hurt',\n",
              " 'into',\n",
              " 'during',\n",
              " 'atrophy',\n",
              " 'their',\n",
              " 'vaginal',\n",
              " 'energy',\n",
              " 'studies',\n",
              " 'vertigo',\n",
              " 'damage',\n",
              " 'via',\n",
              " 'diabetes',\n",
              " 'if',\n",
              " 'attack',\n",
              " 'rate',\n",
              " 'how',\n",
              " 'mentally',\n",
              " 'clinical',\n",
              " 'itching',\n",
              " 'swollen',\n",
              " 'test',\n",
              " 'generalised',\n",
              " 'found',\n",
              " 'respectively',\n",
              " 'type',\n",
              " 'who',\n",
              " 'painful',\n",
              " 'constant',\n",
              " 'did',\n",
              " 'induced',\n",
              " 'atorvastatin',\n",
              " \"'s\",\n",
              " 'gel',\n",
              " 'tablets',\n",
              " 'first',\n",
              " ')',\n",
              " 'ubidecarenone',\n",
              " 'decreased',\n",
              " 'hours',\n",
              " 'post',\n",
              " 'upset',\n",
              " 'other',\n",
              " ',',\n",
              " 'syndrome',\n",
              " 'raised',\n",
              " 'nsaids',\n",
              " 'diarrhea',\n",
              " 'me',\n",
              " 'g',\n",
              " 'gain',\n",
              " 'dry',\n",
              " 'formulation',\n",
              " 'plasma',\n",
              " 'diet',\n",
              " 'formulations',\n",
              " 'levels',\n",
              " 'three',\n",
              " 'mean',\n",
              " 'method',\n",
              " 'n',\n",
              " 'ph',\n",
              " 'review',\n",
              " 'only',\n",
              " 'elevated',\n",
              " 'period',\n",
              " 'chronic',\n",
              " 'those',\n",
              " 'observed',\n",
              " '(',\n",
              " 'illness',\n",
              " 'solution',\n",
              " 'effective',\n",
              " \"n't\",\n",
              " 'crestor',\n",
              " 'urine',\n",
              " 'weak',\n",
              " 'dull',\n",
              " 'bad',\n",
              " 'spasm',\n",
              " 'tip',\n",
              " 'eye',\n",
              " 'received',\n",
              " 'tendonitis',\n",
              " 'feel',\n",
              " 'present',\n",
              " 'ibuprofen',\n",
              " 'movement',\n",
              " 'elbow',\n",
              " 'shoulders',\n",
              " 'd',\n",
              " 'side',\n",
              " 'hazy',\n",
              " 'each',\n",
              " 'influenza',\n",
              " 'less',\n",
              " 'adverse',\n",
              " 'vitro',\n",
              " 'sleeping',\n",
              " 'kg',\n",
              " 'kidney',\n",
              " 'they',\n",
              " 'exhaustion',\n",
              " 'level',\n",
              " 'discomfort',\n",
              " 'tablet',\n",
              " 'increase',\n",
              " 'spasms',\n",
              " 'data',\n",
              " 'knees',\n",
              " 'activity',\n",
              " 'just',\n",
              " 'abnormal',\n",
              " 'libido',\n",
              " 'daily',\n",
              " 'analysis',\n",
              " 'week',\n",
              " 'reflux',\n",
              " 'analgesic',\n",
              " 'function',\n",
              " 'controlled',\n",
              " 'single',\n",
              " 'migraine',\n",
              " 'heavy',\n",
              " 'myopathy',\n",
              " 'most',\n",
              " 'randomized',\n",
              " 'following',\n",
              " 'some',\n",
              " 'concentrations',\n",
              " 'problem',\n",
              " 'system',\n",
              " 'flatulence',\n",
              " 'inflammation',\n",
              " 'mood',\n",
              " 'fibromyalgia',\n",
              " 'total',\n",
              " 'brain',\n",
              " 'before',\n",
              " 'multiple',\n",
              " 'toe',\n",
              " 'thigh',\n",
              " 'vomiting',\n",
              " 'ca',\n",
              " 'sclerosis',\n",
              " 'irritable',\n",
              " 'concentrate',\n",
              " 'injury',\n",
              " 'dblclick',\n",
              " 'patient',\n",
              " 'similar',\n",
              " 'think',\n",
              " 'throat',\n",
              " 'l',\n",
              " 'b',\n",
              " 'why',\n",
              " 'pic',\n",
              " 'cold',\n",
              " 'difference',\n",
              " 'weeks',\n",
              " 'mild',\n",
              " 'however',\n",
              " 'years',\n",
              " 'osteoarthritis',\n",
              " 'bed',\n",
              " 'model',\n",
              " 'eyes',\n",
              " 'evaluated',\n",
              " 'here',\n",
              " 'changes',\n",
              " 'will',\n",
              " 'know',\n",
              " 'surgery',\n",
              " 'menstrual',\n",
              " 'therapy',\n",
              " 'water',\n",
              " 'failure',\n",
              " 'good',\n",
              " 'flu',\n",
              " 'nsaid',\n",
              " 't',\n",
              " 'check',\n",
              " 'should',\n",
              " 'obtained',\n",
              " 'higher',\n",
              " 'simvastatin',\n",
              " 'lightheadedness',\n",
              " 'healthy',\n",
              " 'double',\n",
              " 'malaise',\n",
              " 'mellitus',\n",
              " 'under',\n",
              " 'oil',\n",
              " 'off',\n",
              " 'while',\n",
              " 'any',\n",
              " 'due',\n",
              " 'being',\n",
              " 'life',\n",
              " 'disturbance',\n",
              " 'confusion',\n",
              " 'based',\n",
              " 'postoperative',\n",
              " 'dissolution',\n",
              " 'sweating',\n",
              " 'cells',\n",
              " 'cell',\n",
              " 'vs',\n",
              " 'hips',\n",
              " 'appetite',\n",
              " 'head',\n",
              " 'associated',\n",
              " 'intolerance',\n",
              " 'peripheral',\n",
              " 'help',\n",
              " 'eat',\n",
              " 'combination',\n",
              " 'relief',\n",
              " 'administered',\n",
              " 'blind',\n",
              " 'soreness',\n",
              " 'area',\n",
              " 'general',\n",
              " 'ezetimibe',\n",
              " 'tinnitus',\n",
              " 'prepared',\n",
              " 'wind',\n",
              " 'trial',\n",
              " 'esters',\n",
              " 'celebrex',\n",
              " 'studied',\n",
              " 'aching',\n",
              " 'conditions',\n",
              " 'tremor',\n",
              " 'night',\n",
              " 'times',\n",
              " 'order',\n",
              " 'swings',\n",
              " 'rheumatoid',\n",
              " 'application',\n",
              " 'stairs',\n",
              " 'impaired',\n",
              " 're',\n",
              " 'great',\n",
              " 'reported',\n",
              " 'values',\n",
              " 'paraesthesia',\n",
              " 'differences',\n",
              " 'stress',\n",
              " 'four',\n",
              " 'love',\n",
              " 'doses',\n",
              " 'events',\n",
              " 'such',\n",
              " 'toes',\n",
              " 'does',\n",
              " 'going',\n",
              " 'change',\n",
              " 'subjects',\n",
              " '1',\n",
              " 'ascorbic',\n",
              " 'infection',\n",
              " 'e',\n",
              " 'coated',\n",
              " 'thanks',\n",
              " 'performed',\n",
              " 'vitamin',\n",
              " 'better',\n",
              " 'min',\n",
              " 'calves',\n",
              " 'response',\n",
              " 'finger',\n",
              " 'without',\n",
              " 'gastric',\n",
              " 'given',\n",
              " 'developed',\n",
              " 'enzymes',\n",
              " 'x',\n",
              " 'urinary',\n",
              " 'investigated',\n",
              " 'parameters',\n",
              " 'hot',\n",
              " 'through',\n",
              " 'absorption',\n",
              " 'gfb',\n",
              " 'make',\n",
              " 'motivation',\n",
              " 'down',\n",
              " 'charleyhorse',\n",
              " 'phase',\n",
              " 'rapid',\n",
              " 'sensitivity',\n",
              " 'nonsteroidal',\n",
              " 'parkinson',\n",
              " 'face',\n",
              " 'ankles',\n",
              " 'properties',\n",
              " 'within',\n",
              " 'need',\n",
              " 'either',\n",
              " 'reduction',\n",
              " 'us',\n",
              " 'paracetamol',\n",
              " 'restless',\n",
              " 'lateral',\n",
              " 'tendon',\n",
              " 'depressed',\n",
              " 'indigestion',\n",
              " 'always',\n",
              " 'posted',\n",
              " 'assessed',\n",
              " '2',\n",
              " 'cough',\n",
              " 'v',\n",
              " 'heel',\n",
              " 'dyspnoea',\n",
              " 'excruciating',\n",
              " 'intense',\n",
              " 'getting',\n",
              " 'swallowing',\n",
              " 'related',\n",
              " 'taste',\n",
              " 'samples',\n",
              " 'range',\n",
              " 'containing',\n",
              " 'felt',\n",
              " 'long',\n",
              " 'palpitations',\n",
              " 'ratio',\n",
              " 'safety',\n",
              " 'dark',\n",
              " 'strength',\n",
              " 'included',\n",
              " 'risk',\n",
              " 'lupus',\n",
              " 'nerve',\n",
              " 'people',\n",
              " 'delivery',\n",
              " 'recipe',\n",
              " 'injection',\n",
              " '30',\n",
              " 'menopause',\n",
              " 'advil',\n",
              " 'size',\n",
              " 'statistically',\n",
              " 'vivo',\n",
              " 'speech',\n",
              " 'show',\n",
              " 'auc',\n",
              " 'co',\n",
              " 'fingers',\n",
              " 'liquid',\n",
              " 'steroidal',\n",
              " 'measured',\n",
              " 'fish',\n",
              " 'gout',\n",
              " 'mm',\n",
              " 'then',\n",
              " 'tightness',\n",
              " 'year',\n",
              " 'k',\n",
              " 'twitch',\n",
              " 'applied',\n",
              " 'number',\n",
              " 'reaction',\n",
              " 'indomethacin',\n",
              " 'every',\n",
              " 'living',\n",
              " 'tips',\n",
              " 'heres',\n",
              " 'oa',\n",
              " 'much',\n",
              " 'scale',\n",
              " 'best',\n",
              " 'major',\n",
              " 'clearly',\n",
              " 'bone',\n",
              " 'minutes',\n",
              " 'read',\n",
              " 'creatinine',\n",
              " 'many',\n",
              " 'determined',\n",
              " 'health',\n",
              " 'evaluate',\n",
              " 'development',\n",
              " 'normal',\n",
              " 'ability',\n",
              " 'decrease',\n",
              " '3',\n",
              " 'baseline',\n",
              " 'moderate',\n",
              " 'primary',\n",
              " 'potential',\n",
              " 'jennieo',\n",
              " 'tissue',\n",
              " 'medication',\n",
              " 'active',\n",
              " 'limbs',\n",
              " 'compare',\n",
              " 'colic',\n",
              " 'heartburn',\n",
              " 'therapeutic',\n",
              " 'ii',\n",
              " 'breathing',\n",
              " 'wrist',\n",
              " 'overall',\n",
              " 'archives',\n",
              " 'dreams',\n",
              " 'drowsy',\n",
              " '\\r \\n ',\n",
              " 'human',\n",
              " 'ulcer',\n",
              " 'misoprostol',\n",
              " 'edema',\n",
              " 'provoked',\n",
              " 'fenofibrate',\n",
              " 'light',\n",
              " 'scores',\n",
              " 'same',\n",
              " 'big',\n",
              " 'greater',\n",
              " 'form',\n",
              " 'months',\n",
              " 'addition',\n",
              " 'tolerability',\n",
              " 'trouble',\n",
              " 'process',\n",
              " 'cancer',\n",
              " 'terrible',\n",
              " 'ng',\n",
              " 'fever',\n",
              " 'dependent',\n",
              " 'sustained',\n",
              " 'aqueous',\n",
              " 'even',\n",
              " 'revealed',\n",
              " 'mouth',\n",
              " 'coq10',\n",
              " 'cox',\n",
              " 'bioavailability',\n",
              " 'amyotrophic',\n",
              " 'available',\n",
              " 'na',\n",
              " 'exercise',\n",
              " 'go',\n",
              " 'sick',\n",
              " 'month',\n",
              " 'aspirin',\n",
              " 'finding',\n",
              " 'bowel',\n",
              " 'twitching',\n",
              " 'matrix',\n",
              " 'caused',\n",
              " 'protein',\n",
              " 'tested',\n",
              " 'sinus',\n",
              " 'uterine',\n",
              " 'diagnosis',\n",
              " 'tract',\n",
              " 'per',\n",
              " 'move',\n",
              " 'because',\n",
              " 'fog',\n",
              " 'breath',\n",
              " 'news',\n",
              " 'hypertension',\n",
              " 'shown',\n",
              " '5',\n",
              " 'where',\n",
              " 'o',\n",
              " '10',\n",
              " 'chicken',\n",
              " 'find',\n",
              " 'common',\n",
              " 'improvement',\n",
              " 'various',\n",
              " 'thighs',\n",
              " 'article',\n",
              " 'indicated',\n",
              " 'made',\n",
              " 'plantar',\n",
              " 'would',\n",
              " 'mice',\n",
              " 'demonstrated',\n",
              " 'today',\n",
              " 'dosage',\n",
              " 'content',\n",
              " 'mobility',\n",
              " 'tolerated',\n",
              " 'take',\n",
              " 'agent',\n",
              " 'safe',\n",
              " 'attacks',\n",
              " 'provide',\n",
              " 'intensity',\n",
              " 'important',\n",
              " 'volunteers',\n",
              " 'polymer',\n",
              " 'part',\n",
              " 'aleve',\n",
              " 'action',\n",
              " 'complex',\n",
              " 'inhibitor',\n",
              " 'sugar',\n",
              " 'aim',\n",
              " 'male',\n",
              " 'fast',\n",
              " 'initial',\n",
              " 'cases',\n",
              " 'facial',\n",
              " 'local',\n",
              " 'surface',\n",
              " 'although',\n",
              " 'tolerance',\n",
              " 'alone',\n",
              " 'nasal',\n",
              " 'presence',\n",
              " 'including',\n",
              " 'follow',\n",
              " '+',\n",
              " 'age',\n",
              " 'natural',\n",
              " 'case',\n",
              " 'still',\n",
              " 'horses',\n",
              " 'global',\n",
              " 'end',\n",
              " 'suggest',\n",
              " 'loose',\n",
              " 'score',\n",
              " 'tricor',\n",
              " 'way',\n",
              " 'randomly',\n",
              " 'animals',\n",
              " 'six',\n",
              " 'treatments',\n",
              " 'drive',\n",
              " 'tight',\n",
              " 'morning',\n",
              " 'followed',\n",
              " 'further',\n",
              " 'tylenol',\n",
              " 'mechanism',\n",
              " 'lost',\n",
              " 'physical',\n",
              " 'divided',\n",
              " 'pharmaceutical',\n",
              " 'trials',\n",
              " 'standard',\n",
              " 'among',\n",
              " 'elbows',\n",
              " 'gi',\n",
              " 'lethargy',\n",
              " 'pre',\n",
              " 'exposure',\n",
              " 'sharp',\n",
              " 'started',\n",
              " 'care',\n",
              " 'evaluation',\n",
              " 'pulse',\n",
              " 'moody',\n",
              " 'whereas',\n",
              " 'formation',\n",
              " 'deep',\n",
              " 'cm',\n",
              " 'eating',\n",
              " 'want',\n",
              " 'fatigued',\n",
              " 'experimental',\n",
              " 'growth',\n",
              " 'conducted',\n",
              " 'hour',\n",
              " 'cd',\n",
              " 'panic',\n",
              " 'ms',\n",
              " 'numb',\n",
              " 'relative',\n",
              " 'permeation',\n",
              " 'issues',\n",
              " 'intestinal',\n",
              " 'onset',\n",
              " 'cerebrovascular',\n",
              " 'extremity',\n",
              " 'hard',\n",
              " 'once',\n",
              " 'sensitive',\n",
              " 'inhibition',\n",
              " 'determine',\n",
              " 'awareness',\n",
              " 'accident',\n",
              " 'ringing',\n",
              " 'vehicle',\n",
              " 'diagnosed',\n",
              " 'sex',\n",
              " 'extremely',\n",
              " 'alpha',\n",
              " '\\r \\n \\r \\n ',\n",
              " 'vas',\n",
              " 'ethyl',\n",
              " 'too',\n",
              " 'naproxen',\n",
              " 'generally',\n",
              " 'peak',\n",
              " 'according',\n",
              " 'product',\n",
              " 'hardly',\n",
              " 'charley',\n",
              " 'region',\n",
              " 'please',\n",
              " 'looks',\n",
              " 'five',\n",
              " 'oedema',\n",
              " 'liptor',\n",
              " 'agents',\n",
              " 'top',\n",
              " 'degrees',\n",
              " 'research',\n",
              " 'versus',\n",
              " 'amount',\n",
              " 'lesions',\n",
              " 'things',\n",
              " 'barely',\n",
              " 'difficult',\n",
              " 'happy',\n",
              " 'improved',\n",
              " 'rat',\n",
              " 'fluid',\n",
              " 'linked',\n",
              " 'mental',\n",
              " '4',\n",
              " 'nervous',\n",
              " 'rofecoxib',\n",
              " 'profile',\n",
              " 'stamina',\n",
              " 'least',\n",
              " 'enteric',\n",
              " 'affected',\n",
              " 'profiles',\n",
              " 'produced',\n",
              " 'density',\n",
              " 'ldl',\n",
              " 'pizza',\n",
              " 'easy',\n",
              " 'malignant',\n",
              " 'thoughts',\n",
              " 'secondary',\n",
              " 'pharmacokinetic',\n",
              " 'periods',\n",
              " 'shortness',\n",
              " 'got',\n",
              " 'fasciitis',\n",
              " 'against',\n",
              " 'congestion',\n",
              " 'slurred',\n",
              " 'cataract',\n",
              " 'rhabdomyolysis',\n",
              " 'achilles',\n",
              " 'ever',\n",
              " 'around',\n",
              " 'production',\n",
              " 'patch',\n",
              " 'plus',\n",
              " 'systemic',\n",
              " 'able',\n",
              " 'see',\n",
              " 'microg',\n",
              " 'state',\n",
              " 'complete',\n",
              " 'corneal',\n",
              " 'pruritus',\n",
              " 'coronary',\n",
              " 'dizzy',\n",
              " 'combined',\n",
              " 'frequent',\n",
              " 'beads',\n",
              " 'temperature',\n",
              " 'strain',\n",
              " 'zetia',\n",
              " 'stroke',\n",
              " 'share',\n",
              " 'preparation',\n",
              " 'resulted',\n",
              " 'calcium',\n",
              " 'flow',\n",
              " 'ear',\n",
              " 'investigate',\n",
              " 'de',\n",
              " 'cause',\n",
              " 'hunger',\n",
              " 'film',\n",
              " 'ocular',\n",
              " 'carried',\n",
              " 'quality',\n",
              " 'eczema',\n",
              " 'site',\n",
              " 'needed',\n",
              " 'reference',\n",
              " 'scalp',\n",
              " 'maximum',\n",
              " 'dr',\n",
              " 'erythema',\n",
              " 'small',\n",
              " 'models',\n",
              " 'prednisone',\n",
              " 'allergic',\n",
              " 'sweats',\n",
              " 'diffusion',\n",
              " 'efficiency',\n",
              " 'achieved',\n",
              " 'microspheres',\n",
              " 'th',\n",
              " 'support',\n",
              " 'participants',\n",
              " 'irregular',\n",
              " 'old',\n",
              " 'respiratory',\n",
              " 'hypersomnia',\n",
              " 'evidence',\n",
              " 'gf',\n",
              " 'third',\n",
              " 'hepatic',\n",
              " 'lopid',\n",
              " 'blog',\n",
              " 'possible',\n",
              " 'pellets',\n",
              " 'tests',\n",
              " ':',\n",
              " 'sensations',\n",
              " 'taking',\n",
              " 'work',\n",
              " 'als',\n",
              " 'might',\n",
              " 'flushing',\n",
              " 'f',\n",
              " 'tension',\n",
              " 'volume',\n",
              " 'assessment',\n",
              " 'r',\n",
              " 'little',\n",
              " 'central',\n",
              " 'codeine',\n",
              " 'medical',\n",
              " 'analgesia',\n",
              " 'examined',\n",
              " 'cookbook',\n",
              " 'dysfunction',\n",
              " 'condition',\n",
              " 'second',\n",
              " ...]"
            ]
          },
          "metadata": {
            "tags": []
          },
          "execution_count": 18
        }
      ]
    },
    {
      "cell_type": "code",
      "metadata": {
        "id": "yPWr03mls3VT",
        "outputId": "15c17b24-9910-4463-97cb-10f9c635f6d2",
        "colab": {
          "base_uri": "https://localhost:8080/",
          "height": 17
        }
      },
      "source": [
        "model_path = path/'models'\n",
        "model_path.mkdir(exist_ok=True)\n",
        "url = 'http://files.fast.ai/models/wt103_v1/'\n",
        "download_url(f'{url}lstm_wt103.pth', model_path/'lstm_wt103.pth')\n",
        "download_url(f'{url}itos_wt103.pkl', model_path/'itos_wt103.pkl')"
      ],
      "execution_count": 19,
      "outputs": [
        {
          "output_type": "display_data",
          "data": {
            "text/html": [
              ""
            ],
            "text/plain": [
              "<IPython.core.display.HTML object>"
            ]
          },
          "metadata": {
            "tags": []
          }
        },
        {
          "output_type": "display_data",
          "data": {
            "text/html": [
              ""
            ],
            "text/plain": [
              "<IPython.core.display.HTML object>"
            ]
          },
          "metadata": {
            "tags": []
          }
        }
      ]
    },
    {
      "cell_type": "code",
      "metadata": {
        "id": "JRzvWg8RtGGr",
        "outputId": "88cfb91b-fa67-4e10-e533-904c59e7e4d2",
        "colab": {
          "base_uri": "https://localhost:8080/",
          "height": 34
        }
      },
      "source": [
        "learn = language_model_learner(data_lm, AWD_LSTM, drop_mult=0.5)"
      ],
      "execution_count": 20,
      "outputs": [
        {
          "output_type": "stream",
          "text": [
            "Downloading https://s3.amazonaws.com/fast-ai-modelzoo/wt103-fwd.tgz\n"
          ],
          "name": "stdout"
        },
        {
          "output_type": "display_data",
          "data": {
            "text/html": [
              ""
            ],
            "text/plain": [
              "<IPython.core.display.HTML object>"
            ]
          },
          "metadata": {
            "tags": []
          }
        }
      ]
    },
    {
      "cell_type": "code",
      "metadata": {
        "id": "xKK7GeBev7Xn",
        "outputId": "930e263b-1585-41fd-c404-c1d311e736c9",
        "colab": {
          "base_uri": "https://localhost:8080/",
          "height": 80
        }
      },
      "source": [
        "learn.fit_one_cycle(1, 1e-2)"
      ],
      "execution_count": 21,
      "outputs": [
        {
          "output_type": "display_data",
          "data": {
            "text/html": [
              "<table border=\"1\" class=\"dataframe\">\n",
              "  <thead>\n",
              "    <tr style=\"text-align: left;\">\n",
              "      <th>epoch</th>\n",
              "      <th>train_loss</th>\n",
              "      <th>valid_loss</th>\n",
              "      <th>accuracy</th>\n",
              "      <th>time</th>\n",
              "    </tr>\n",
              "  </thead>\n",
              "  <tbody>\n",
              "    <tr>\n",
              "      <td>0</td>\n",
              "      <td>3.859032</td>\n",
              "      <td>3.502401</td>\n",
              "      <td>0.440817</td>\n",
              "      <td>1:37:37</td>\n",
              "    </tr>\n",
              "  </tbody>\n",
              "</table>"
            ],
            "text/plain": [
              "<IPython.core.display.HTML object>"
            ]
          },
          "metadata": {
            "tags": []
          }
        }
      ]
    },
    {
      "cell_type": "code",
      "metadata": {
        "id": "iB7rHGQCwd12"
      },
      "source": [
        "# learn.fit_one_cycle(1, 1e-2)"
      ],
      "execution_count": 22,
      "outputs": []
    },
    {
      "cell_type": "code",
      "metadata": {
        "id": "_BnSuAeCwkBe"
      },
      "source": [
        "# learn.fit_one_cycle(1, 1e-3)"
      ],
      "execution_count": 23,
      "outputs": []
    },
    {
      "cell_type": "code",
      "metadata": {
        "id": "MuTm-RFjwrEX",
        "outputId": "4ff13eed-a68f-457d-ece3-bba3adf80f4e",
        "colab": {
          "base_uri": "https://localhost:8080/",
          "height": 80
        }
      },
      "source": [
        "learn.fit_one_cycle(1, 1e-3)"
      ],
      "execution_count": 24,
      "outputs": [
        {
          "output_type": "display_data",
          "data": {
            "text/html": [
              "<table border=\"1\" class=\"dataframe\">\n",
              "  <thead>\n",
              "    <tr style=\"text-align: left;\">\n",
              "      <th>epoch</th>\n",
              "      <th>train_loss</th>\n",
              "      <th>valid_loss</th>\n",
              "      <th>accuracy</th>\n",
              "      <th>time</th>\n",
              "    </tr>\n",
              "  </thead>\n",
              "  <tbody>\n",
              "    <tr>\n",
              "      <td>0</td>\n",
              "      <td>3.507537</td>\n",
              "      <td>3.441150</td>\n",
              "      <td>0.446116</td>\n",
              "      <td>1:35:36</td>\n",
              "    </tr>\n",
              "  </tbody>\n",
              "</table>"
            ],
            "text/plain": [
              "<IPython.core.display.HTML object>"
            ]
          },
          "metadata": {
            "tags": []
          }
        }
      ]
    },
    {
      "cell_type": "code",
      "metadata": {
        "id": "1Er2ExO8wr7Y"
      },
      "source": [
        "learn.save_encoder('pubmed_cadec_askpatient_mixed_fold7_first')"
      ],
      "execution_count": 25,
      "outputs": []
    },
    {
      "cell_type": "code",
      "metadata": {
        "id": "z52cZs2qwvad",
        "outputId": "66dffd35-7a89-4d6c-d4b0-ad1e97d595bc",
        "colab": {
          "base_uri": "https://localhost:8080/",
          "height": 80
        }
      },
      "source": [
        "learn = text_classifier_learner(data_clas,AWD_LSTM, drop_mult=0.5)\n",
        "learn.load_encoder('pubmed_cadec_askpatient_mixed_fold7_first')\n",
        "learn.fit_one_cycle(1, 1e-2)"
      ],
      "execution_count": 26,
      "outputs": [
        {
          "output_type": "display_data",
          "data": {
            "text/html": [
              "<table border=\"1\" class=\"dataframe\">\n",
              "  <thead>\n",
              "    <tr style=\"text-align: left;\">\n",
              "      <th>epoch</th>\n",
              "      <th>train_loss</th>\n",
              "      <th>valid_loss</th>\n",
              "      <th>accuracy</th>\n",
              "      <th>time</th>\n",
              "    </tr>\n",
              "  </thead>\n",
              "  <tbody>\n",
              "    <tr>\n",
              "      <td>0</td>\n",
              "      <td>3.943352</td>\n",
              "      <td>3.727366</td>\n",
              "      <td>0.322904</td>\n",
              "      <td>03:06</td>\n",
              "    </tr>\n",
              "  </tbody>\n",
              "</table>"
            ],
            "text/plain": [
              "<IPython.core.display.HTML object>"
            ]
          },
          "metadata": {
            "tags": []
          }
        }
      ]
    },
    {
      "cell_type": "code",
      "metadata": {
        "id": "ImwQP1PJwzxd",
        "outputId": "e10f3572-f83b-4364-b26b-9beb1c4a31cf",
        "colab": {
          "base_uri": "https://localhost:8080/",
          "height": 80
        }
      },
      "source": [
        "learn.freeze_to(-2)\n",
        "learn.fit_one_cycle(1, slice(5e-3/2., 5e-3))"
      ],
      "execution_count": 27,
      "outputs": [
        {
          "output_type": "display_data",
          "data": {
            "text/html": [
              "<table border=\"1\" class=\"dataframe\">\n",
              "  <thead>\n",
              "    <tr style=\"text-align: left;\">\n",
              "      <th>epoch</th>\n",
              "      <th>train_loss</th>\n",
              "      <th>valid_loss</th>\n",
              "      <th>accuracy</th>\n",
              "      <th>time</th>\n",
              "    </tr>\n",
              "  </thead>\n",
              "  <tbody>\n",
              "    <tr>\n",
              "      <td>0</td>\n",
              "      <td>2.786284</td>\n",
              "      <td>3.039060</td>\n",
              "      <td>0.474343</td>\n",
              "      <td>03:22</td>\n",
              "    </tr>\n",
              "  </tbody>\n",
              "</table>"
            ],
            "text/plain": [
              "<IPython.core.display.HTML object>"
            ]
          },
          "metadata": {
            "tags": []
          }
        }
      ]
    },
    {
      "cell_type": "code",
      "metadata": {
        "id": "Owff_BJXw53u",
        "outputId": "658efc78-528a-47bd-cb5e-963063dad7e0",
        "colab": {
          "base_uri": "https://localhost:8080/",
          "height": 80
        }
      },
      "source": [
        "learn.unfreeze()\n",
        "learn.fit_one_cycle(1, slice(2e-3/100, 2e-3))"
      ],
      "execution_count": 28,
      "outputs": [
        {
          "output_type": "display_data",
          "data": {
            "text/html": [
              "<table border=\"1\" class=\"dataframe\">\n",
              "  <thead>\n",
              "    <tr style=\"text-align: left;\">\n",
              "      <th>epoch</th>\n",
              "      <th>train_loss</th>\n",
              "      <th>valid_loss</th>\n",
              "      <th>accuracy</th>\n",
              "      <th>time</th>\n",
              "    </tr>\n",
              "  </thead>\n",
              "  <tbody>\n",
              "    <tr>\n",
              "      <td>0</td>\n",
              "      <td>2.244147</td>\n",
              "      <td>2.607785</td>\n",
              "      <td>0.534418</td>\n",
              "      <td>07:31</td>\n",
              "    </tr>\n",
              "  </tbody>\n",
              "</table>"
            ],
            "text/plain": [
              "<IPython.core.display.HTML object>"
            ]
          },
          "metadata": {
            "tags": []
          }
        }
      ]
    },
    {
      "cell_type": "code",
      "metadata": {
        "id": "lqAyu56V8Waq",
        "outputId": "607ac114-89a6-443f-b0d9-6e31dc9860c5",
        "colab": {
          "base_uri": "https://localhost:8080/",
          "height": 111
        }
      },
      "source": [
        "learn.fit_one_cycle(2, slice(2e-3/100, 2e-3))"
      ],
      "execution_count": 29,
      "outputs": [
        {
          "output_type": "display_data",
          "data": {
            "text/html": [
              "<table border=\"1\" class=\"dataframe\">\n",
              "  <thead>\n",
              "    <tr style=\"text-align: left;\">\n",
              "      <th>epoch</th>\n",
              "      <th>train_loss</th>\n",
              "      <th>valid_loss</th>\n",
              "      <th>accuracy</th>\n",
              "      <th>time</th>\n",
              "    </tr>\n",
              "  </thead>\n",
              "  <tbody>\n",
              "    <tr>\n",
              "      <td>0</td>\n",
              "      <td>1.894391</td>\n",
              "      <td>2.173949</td>\n",
              "      <td>0.624531</td>\n",
              "      <td>07:38</td>\n",
              "    </tr>\n",
              "    <tr>\n",
              "      <td>1</td>\n",
              "      <td>1.603365</td>\n",
              "      <td>1.997438</td>\n",
              "      <td>0.663329</td>\n",
              "      <td>08:22</td>\n",
              "    </tr>\n",
              "  </tbody>\n",
              "</table>"
            ],
            "text/plain": [
              "<IPython.core.display.HTML object>"
            ]
          },
          "metadata": {
            "tags": []
          }
        }
      ]
    },
    {
      "cell_type": "code",
      "metadata": {
        "id": "a7I1xMRp8bUd",
        "outputId": "6e7e265f-ebbb-4a1e-b519-4e51664881b2",
        "colab": {
          "base_uri": "https://localhost:8080/",
          "height": 111
        }
      },
      "source": [
        "learn.fit_one_cycle(2, slice(2e-3/100, 2e-3))"
      ],
      "execution_count": 30,
      "outputs": [
        {
          "output_type": "display_data",
          "data": {
            "text/html": [
              "<table border=\"1\" class=\"dataframe\">\n",
              "  <thead>\n",
              "    <tr style=\"text-align: left;\">\n",
              "      <th>epoch</th>\n",
              "      <th>train_loss</th>\n",
              "      <th>valid_loss</th>\n",
              "      <th>accuracy</th>\n",
              "      <th>time</th>\n",
              "    </tr>\n",
              "  </thead>\n",
              "  <tbody>\n",
              "    <tr>\n",
              "      <td>0</td>\n",
              "      <td>1.485564</td>\n",
              "      <td>1.845883</td>\n",
              "      <td>0.677096</td>\n",
              "      <td>08:49</td>\n",
              "    </tr>\n",
              "    <tr>\n",
              "      <td>1</td>\n",
              "      <td>1.314104</td>\n",
              "      <td>1.729396</td>\n",
              "      <td>0.693367</td>\n",
              "      <td>08:46</td>\n",
              "    </tr>\n",
              "  </tbody>\n",
              "</table>"
            ],
            "text/plain": [
              "<IPython.core.display.HTML object>"
            ]
          },
          "metadata": {
            "tags": []
          }
        }
      ]
    },
    {
      "cell_type": "code",
      "metadata": {
        "id": "UAnti-XmGVfO",
        "outputId": "4efb5098-0bad-4b7e-d7f3-37abaccc7f55",
        "colab": {
          "base_uri": "https://localhost:8080/",
          "height": 111
        }
      },
      "source": [
        "learn.fit_one_cycle(2, slice(2e-3/100, 2e-3))"
      ],
      "execution_count": 31,
      "outputs": [
        {
          "output_type": "display_data",
          "data": {
            "text/html": [
              "<table border=\"1\" class=\"dataframe\">\n",
              "  <thead>\n",
              "    <tr style=\"text-align: left;\">\n",
              "      <th>epoch</th>\n",
              "      <th>train_loss</th>\n",
              "      <th>valid_loss</th>\n",
              "      <th>accuracy</th>\n",
              "      <th>time</th>\n",
              "    </tr>\n",
              "  </thead>\n",
              "  <tbody>\n",
              "    <tr>\n",
              "      <td>0</td>\n",
              "      <td>1.243096</td>\n",
              "      <td>1.636545</td>\n",
              "      <td>0.704631</td>\n",
              "      <td>08:13</td>\n",
              "    </tr>\n",
              "    <tr>\n",
              "      <td>1</td>\n",
              "      <td>1.009284</td>\n",
              "      <td>1.529205</td>\n",
              "      <td>0.715895</td>\n",
              "      <td>08:03</td>\n",
              "    </tr>\n",
              "  </tbody>\n",
              "</table>"
            ],
            "text/plain": [
              "<IPython.core.display.HTML object>"
            ]
          },
          "metadata": {
            "tags": []
          }
        }
      ]
    },
    {
      "cell_type": "code",
      "metadata": {
        "id": "bIft7W25GwSu",
        "outputId": "135deec0-4456-464f-f282-a01c5907bcc2",
        "colab": {
          "base_uri": "https://localhost:8080/",
          "height": 111
        }
      },
      "source": [
        "learn.fit_one_cycle(2, slice(2e-3/100, 2e-3))"
      ],
      "execution_count": 32,
      "outputs": [
        {
          "output_type": "display_data",
          "data": {
            "text/html": [
              "<table border=\"1\" class=\"dataframe\">\n",
              "  <thead>\n",
              "    <tr style=\"text-align: left;\">\n",
              "      <th>epoch</th>\n",
              "      <th>train_loss</th>\n",
              "      <th>valid_loss</th>\n",
              "      <th>accuracy</th>\n",
              "      <th>time</th>\n",
              "    </tr>\n",
              "  </thead>\n",
              "  <tbody>\n",
              "    <tr>\n",
              "      <td>0</td>\n",
              "      <td>0.971201</td>\n",
              "      <td>1.454730</td>\n",
              "      <td>0.730914</td>\n",
              "      <td>08:08</td>\n",
              "    </tr>\n",
              "    <tr>\n",
              "      <td>1</td>\n",
              "      <td>0.856641</td>\n",
              "      <td>1.400212</td>\n",
              "      <td>0.749687</td>\n",
              "      <td>08:09</td>\n",
              "    </tr>\n",
              "  </tbody>\n",
              "</table>"
            ],
            "text/plain": [
              "<IPython.core.display.HTML object>"
            ]
          },
          "metadata": {
            "tags": []
          }
        }
      ]
    },
    {
      "cell_type": "code",
      "metadata": {
        "id": "EEHszVRvGyFt",
        "outputId": "dd0c8cd4-a11a-4f63-bef6-adf98b4c3488",
        "colab": {
          "base_uri": "https://localhost:8080/",
          "height": 111
        }
      },
      "source": [
        "learn.fit_one_cycle(2, slice(2e-3/100, 2e-3))"
      ],
      "execution_count": 33,
      "outputs": [
        {
          "output_type": "display_data",
          "data": {
            "text/html": [
              "<table border=\"1\" class=\"dataframe\">\n",
              "  <thead>\n",
              "    <tr style=\"text-align: left;\">\n",
              "      <th>epoch</th>\n",
              "      <th>train_loss</th>\n",
              "      <th>valid_loss</th>\n",
              "      <th>accuracy</th>\n",
              "      <th>time</th>\n",
              "    </tr>\n",
              "  </thead>\n",
              "  <tbody>\n",
              "    <tr>\n",
              "      <td>0</td>\n",
              "      <td>0.762619</td>\n",
              "      <td>1.369884</td>\n",
              "      <td>0.764706</td>\n",
              "      <td>08:08</td>\n",
              "    </tr>\n",
              "    <tr>\n",
              "      <td>1</td>\n",
              "      <td>0.718155</td>\n",
              "      <td>1.300884</td>\n",
              "      <td>0.768461</td>\n",
              "      <td>07:51</td>\n",
              "    </tr>\n",
              "  </tbody>\n",
              "</table>"
            ],
            "text/plain": [
              "<IPython.core.display.HTML object>"
            ]
          },
          "metadata": {
            "tags": []
          }
        }
      ]
    },
    {
      "cell_type": "code",
      "metadata": {
        "id": "XsHfrhCHG3dN",
        "outputId": "44817d74-59e5-4425-c035-ece6fc577fd3",
        "colab": {
          "base_uri": "https://localhost:8080/",
          "height": 173
        }
      },
      "source": [
        "learn.fit_one_cycle(4, slice(2e-3/100, 2e-3))"
      ],
      "execution_count": 34,
      "outputs": [
        {
          "output_type": "display_data",
          "data": {
            "text/html": [
              "<table border=\"1\" class=\"dataframe\">\n",
              "  <thead>\n",
              "    <tr style=\"text-align: left;\">\n",
              "      <th>epoch</th>\n",
              "      <th>train_loss</th>\n",
              "      <th>valid_loss</th>\n",
              "      <th>accuracy</th>\n",
              "      <th>time</th>\n",
              "    </tr>\n",
              "  </thead>\n",
              "  <tbody>\n",
              "    <tr>\n",
              "      <td>0</td>\n",
              "      <td>0.652833</td>\n",
              "      <td>1.273963</td>\n",
              "      <td>0.774718</td>\n",
              "      <td>08:21</td>\n",
              "    </tr>\n",
              "    <tr>\n",
              "      <td>1</td>\n",
              "      <td>0.638731</td>\n",
              "      <td>1.224849</td>\n",
              "      <td>0.783479</td>\n",
              "      <td>07:53</td>\n",
              "    </tr>\n",
              "    <tr>\n",
              "      <td>2</td>\n",
              "      <td>0.570994</td>\n",
              "      <td>1.193016</td>\n",
              "      <td>0.792240</td>\n",
              "      <td>07:45</td>\n",
              "    </tr>\n",
              "    <tr>\n",
              "      <td>3</td>\n",
              "      <td>0.468389</td>\n",
              "      <td>1.185417</td>\n",
              "      <td>0.795995</td>\n",
              "      <td>07:54</td>\n",
              "    </tr>\n",
              "  </tbody>\n",
              "</table>"
            ],
            "text/plain": [
              "<IPython.core.display.HTML object>"
            ]
          },
          "metadata": {
            "tags": []
          }
        }
      ]
    },
    {
      "cell_type": "code",
      "metadata": {
        "id": "0Zsd99isb9EQ",
        "outputId": "39a7a474-d4b1-4d2c-c9df-e757ee5136bf",
        "colab": {
          "base_uri": "https://localhost:8080/",
          "height": 173
        }
      },
      "source": [
        "learn.fit_one_cycle(4, slice(2e-3/100, 2e-3))"
      ],
      "execution_count": 35,
      "outputs": [
        {
          "output_type": "display_data",
          "data": {
            "text/html": [
              "<table border=\"1\" class=\"dataframe\">\n",
              "  <thead>\n",
              "    <tr style=\"text-align: left;\">\n",
              "      <th>epoch</th>\n",
              "      <th>train_loss</th>\n",
              "      <th>valid_loss</th>\n",
              "      <th>accuracy</th>\n",
              "      <th>time</th>\n",
              "    </tr>\n",
              "  </thead>\n",
              "  <tbody>\n",
              "    <tr>\n",
              "      <td>0</td>\n",
              "      <td>0.489273</td>\n",
              "      <td>1.171926</td>\n",
              "      <td>0.792240</td>\n",
              "      <td>08:00</td>\n",
              "    </tr>\n",
              "    <tr>\n",
              "      <td>1</td>\n",
              "      <td>0.501249</td>\n",
              "      <td>1.121205</td>\n",
              "      <td>0.799750</td>\n",
              "      <td>08:03</td>\n",
              "    </tr>\n",
              "    <tr>\n",
              "      <td>2</td>\n",
              "      <td>0.442248</td>\n",
              "      <td>1.141381</td>\n",
              "      <td>0.803504</td>\n",
              "      <td>08:09</td>\n",
              "    </tr>\n",
              "    <tr>\n",
              "      <td>3</td>\n",
              "      <td>0.383131</td>\n",
              "      <td>1.130090</td>\n",
              "      <td>0.803504</td>\n",
              "      <td>08:23</td>\n",
              "    </tr>\n",
              "  </tbody>\n",
              "</table>"
            ],
            "text/plain": [
              "<IPython.core.display.HTML object>"
            ]
          },
          "metadata": {
            "tags": []
          }
        }
      ]
    },
    {
      "cell_type": "code",
      "metadata": {
        "id": "atNWNKDFPbuI",
        "outputId": "13fe9804-118e-455b-9225-aa008a62911d",
        "colab": {
          "base_uri": "https://localhost:8080/",
          "height": 173
        }
      },
      "source": [
        "learn.fit_one_cycle(4, slice(2e-3/100, 2e-3))"
      ],
      "execution_count": 36,
      "outputs": [
        {
          "output_type": "display_data",
          "data": {
            "text/html": [
              "<table border=\"1\" class=\"dataframe\">\n",
              "  <thead>\n",
              "    <tr style=\"text-align: left;\">\n",
              "      <th>epoch</th>\n",
              "      <th>train_loss</th>\n",
              "      <th>valid_loss</th>\n",
              "      <th>accuracy</th>\n",
              "      <th>time</th>\n",
              "    </tr>\n",
              "  </thead>\n",
              "  <tbody>\n",
              "    <tr>\n",
              "      <td>0</td>\n",
              "      <td>0.360248</td>\n",
              "      <td>1.210968</td>\n",
              "      <td>0.795995</td>\n",
              "      <td>07:58</td>\n",
              "    </tr>\n",
              "    <tr>\n",
              "      <td>1</td>\n",
              "      <td>0.400624</td>\n",
              "      <td>1.158398</td>\n",
              "      <td>0.799750</td>\n",
              "      <td>08:34</td>\n",
              "    </tr>\n",
              "    <tr>\n",
              "      <td>2</td>\n",
              "      <td>0.332689</td>\n",
              "      <td>1.097132</td>\n",
              "      <td>0.818523</td>\n",
              "      <td>08:47</td>\n",
              "    </tr>\n",
              "    <tr>\n",
              "      <td>3</td>\n",
              "      <td>0.313365</td>\n",
              "      <td>1.064523</td>\n",
              "      <td>0.817272</td>\n",
              "      <td>07:49</td>\n",
              "    </tr>\n",
              "  </tbody>\n",
              "</table>"
            ],
            "text/plain": [
              "<IPython.core.display.HTML object>"
            ]
          },
          "metadata": {
            "tags": []
          }
        }
      ]
    },
    {
      "cell_type": "code",
      "metadata": {
        "id": "rKrBTZ0T1uVA",
        "outputId": "a8f1f3ae-03ea-4620-add6-1a3087168838",
        "colab": {
          "base_uri": "https://localhost:8080/",
          "height": 173
        }
      },
      "source": [
        "learn.fit_one_cycle(4, slice(2e-3/100, 2e-3))"
      ],
      "execution_count": 37,
      "outputs": [
        {
          "output_type": "display_data",
          "data": {
            "text/html": [
              "<table border=\"1\" class=\"dataframe\">\n",
              "  <thead>\n",
              "    <tr style=\"text-align: left;\">\n",
              "      <th>epoch</th>\n",
              "      <th>train_loss</th>\n",
              "      <th>valid_loss</th>\n",
              "      <th>accuracy</th>\n",
              "      <th>time</th>\n",
              "    </tr>\n",
              "  </thead>\n",
              "  <tbody>\n",
              "    <tr>\n",
              "      <td>0</td>\n",
              "      <td>0.308886</td>\n",
              "      <td>1.138272</td>\n",
              "      <td>0.812265</td>\n",
              "      <td>08:33</td>\n",
              "    </tr>\n",
              "    <tr>\n",
              "      <td>1</td>\n",
              "      <td>0.348174</td>\n",
              "      <td>1.082146</td>\n",
              "      <td>0.812265</td>\n",
              "      <td>07:33</td>\n",
              "    </tr>\n",
              "    <tr>\n",
              "      <td>2</td>\n",
              "      <td>0.287409</td>\n",
              "      <td>1.094683</td>\n",
              "      <td>0.813517</td>\n",
              "      <td>08:09</td>\n",
              "    </tr>\n",
              "    <tr>\n",
              "      <td>3</td>\n",
              "      <td>0.236213</td>\n",
              "      <td>1.100038</td>\n",
              "      <td>0.821026</td>\n",
              "      <td>07:39</td>\n",
              "    </tr>\n",
              "  </tbody>\n",
              "</table>"
            ],
            "text/plain": [
              "<IPython.core.display.HTML object>"
            ]
          },
          "metadata": {
            "tags": []
          }
        }
      ]
    },
    {
      "cell_type": "code",
      "metadata": {
        "id": "ajQC6WDg1yA9",
        "outputId": "b7b9de1b-3bae-4c1f-bee4-0b52b76c2f87",
        "colab": {
          "base_uri": "https://localhost:8080/",
          "height": 173
        }
      },
      "source": [
        "learn.fit_one_cycle(4, slice(2e-3/100, 2e-3))"
      ],
      "execution_count": 38,
      "outputs": [
        {
          "output_type": "display_data",
          "data": {
            "text/html": [
              "<table border=\"1\" class=\"dataframe\">\n",
              "  <thead>\n",
              "    <tr style=\"text-align: left;\">\n",
              "      <th>epoch</th>\n",
              "      <th>train_loss</th>\n",
              "      <th>valid_loss</th>\n",
              "      <th>accuracy</th>\n",
              "      <th>time</th>\n",
              "    </tr>\n",
              "  </thead>\n",
              "  <tbody>\n",
              "    <tr>\n",
              "      <td>0</td>\n",
              "      <td>0.270484</td>\n",
              "      <td>1.098969</td>\n",
              "      <td>0.824781</td>\n",
              "      <td>07:40</td>\n",
              "    </tr>\n",
              "    <tr>\n",
              "      <td>1</td>\n",
              "      <td>0.265096</td>\n",
              "      <td>1.124094</td>\n",
              "      <td>0.826033</td>\n",
              "      <td>08:04</td>\n",
              "    </tr>\n",
              "    <tr>\n",
              "      <td>2</td>\n",
              "      <td>0.246873</td>\n",
              "      <td>1.077154</td>\n",
              "      <td>0.823529</td>\n",
              "      <td>08:02</td>\n",
              "    </tr>\n",
              "    <tr>\n",
              "      <td>3</td>\n",
              "      <td>0.221500</td>\n",
              "      <td>1.085955</td>\n",
              "      <td>0.822278</td>\n",
              "      <td>07:52</td>\n",
              "    </tr>\n",
              "  </tbody>\n",
              "</table>"
            ],
            "text/plain": [
              "<IPython.core.display.HTML object>"
            ]
          },
          "metadata": {
            "tags": []
          }
        }
      ]
    },
    {
      "cell_type": "code",
      "metadata": {
        "id": "KKydb0B4BKGk",
        "outputId": "2c61c18f-490c-449b-90f3-cca67dc9bd96",
        "colab": {
          "base_uri": "https://localhost:8080/",
          "height": 173
        }
      },
      "source": [
        "learn.fit_one_cycle(4, slice(2e-3/100, 2e-3))"
      ],
      "execution_count": 39,
      "outputs": [
        {
          "output_type": "display_data",
          "data": {
            "text/html": [
              "<table border=\"1\" class=\"dataframe\">\n",
              "  <thead>\n",
              "    <tr style=\"text-align: left;\">\n",
              "      <th>epoch</th>\n",
              "      <th>train_loss</th>\n",
              "      <th>valid_loss</th>\n",
              "      <th>accuracy</th>\n",
              "      <th>time</th>\n",
              "    </tr>\n",
              "  </thead>\n",
              "  <tbody>\n",
              "    <tr>\n",
              "      <td>0</td>\n",
              "      <td>0.226028</td>\n",
              "      <td>1.135247</td>\n",
              "      <td>0.818523</td>\n",
              "      <td>08:47</td>\n",
              "    </tr>\n",
              "    <tr>\n",
              "      <td>1</td>\n",
              "      <td>0.264740</td>\n",
              "      <td>1.202442</td>\n",
              "      <td>0.811014</td>\n",
              "      <td>07:53</td>\n",
              "    </tr>\n",
              "    <tr>\n",
              "      <td>2</td>\n",
              "      <td>0.220981</td>\n",
              "      <td>1.135040</td>\n",
              "      <td>0.824781</td>\n",
              "      <td>08:15</td>\n",
              "    </tr>\n",
              "    <tr>\n",
              "      <td>3</td>\n",
              "      <td>0.199972</td>\n",
              "      <td>1.132925</td>\n",
              "      <td>0.833542</td>\n",
              "      <td>07:56</td>\n",
              "    </tr>\n",
              "  </tbody>\n",
              "</table>"
            ],
            "text/plain": [
              "<IPython.core.display.HTML object>"
            ]
          },
          "metadata": {
            "tags": []
          }
        }
      ]
    },
    {
      "cell_type": "code",
      "metadata": {
        "id": "T2APKtFKBpGY",
        "outputId": "4d8dd37b-e63e-495e-ca89-1bb77f990efc",
        "colab": {
          "base_uri": "https://localhost:8080/",
          "height": 173
        }
      },
      "source": [
        "learn.fit_one_cycle(4, slice(2e-3/100, 2e-3))"
      ],
      "execution_count": 40,
      "outputs": [
        {
          "output_type": "display_data",
          "data": {
            "text/html": [
              "<table border=\"1\" class=\"dataframe\">\n",
              "  <thead>\n",
              "    <tr style=\"text-align: left;\">\n",
              "      <th>epoch</th>\n",
              "      <th>train_loss</th>\n",
              "      <th>valid_loss</th>\n",
              "      <th>accuracy</th>\n",
              "      <th>time</th>\n",
              "    </tr>\n",
              "  </thead>\n",
              "  <tbody>\n",
              "    <tr>\n",
              "      <td>0</td>\n",
              "      <td>0.184367</td>\n",
              "      <td>1.171489</td>\n",
              "      <td>0.826033</td>\n",
              "      <td>07:58</td>\n",
              "    </tr>\n",
              "    <tr>\n",
              "      <td>1</td>\n",
              "      <td>0.237456</td>\n",
              "      <td>1.206740</td>\n",
              "      <td>0.827284</td>\n",
              "      <td>07:57</td>\n",
              "    </tr>\n",
              "    <tr>\n",
              "      <td>2</td>\n",
              "      <td>0.209602</td>\n",
              "      <td>1.101765</td>\n",
              "      <td>0.827284</td>\n",
              "      <td>08:29</td>\n",
              "    </tr>\n",
              "    <tr>\n",
              "      <td>3</td>\n",
              "      <td>0.190047</td>\n",
              "      <td>1.147073</td>\n",
              "      <td>0.826033</td>\n",
              "      <td>08:29</td>\n",
              "    </tr>\n",
              "  </tbody>\n",
              "</table>"
            ],
            "text/plain": [
              "<IPython.core.display.HTML object>"
            ]
          },
          "metadata": {
            "tags": []
          }
        }
      ]
    },
    {
      "cell_type": "code",
      "metadata": {
        "id": "qtTypA1sPgLU",
        "outputId": "fc24d6c0-a474-4eaa-a1bc-a282c0f52cfa",
        "colab": {
          "base_uri": "https://localhost:8080/",
          "height": 111
        }
      },
      "source": [
        "learn.fit_one_cycle(2, slice(2e-3/100, 2e-3))"
      ],
      "execution_count": 41,
      "outputs": [
        {
          "output_type": "display_data",
          "data": {
            "text/html": [
              "<table border=\"1\" class=\"dataframe\">\n",
              "  <thead>\n",
              "    <tr style=\"text-align: left;\">\n",
              "      <th>epoch</th>\n",
              "      <th>train_loss</th>\n",
              "      <th>valid_loss</th>\n",
              "      <th>accuracy</th>\n",
              "      <th>time</th>\n",
              "    </tr>\n",
              "  </thead>\n",
              "  <tbody>\n",
              "    <tr>\n",
              "      <td>0</td>\n",
              "      <td>0.200744</td>\n",
              "      <td>1.220463</td>\n",
              "      <td>0.818523</td>\n",
              "      <td>08:56</td>\n",
              "    </tr>\n",
              "    <tr>\n",
              "      <td>1</td>\n",
              "      <td>0.209514</td>\n",
              "      <td>1.177041</td>\n",
              "      <td>0.824781</td>\n",
              "      <td>07:54</td>\n",
              "    </tr>\n",
              "  </tbody>\n",
              "</table>"
            ],
            "text/plain": [
              "<IPython.core.display.HTML object>"
            ]
          },
          "metadata": {
            "tags": []
          }
        }
      ]
    },
    {
      "cell_type": "code",
      "metadata": {
        "id": "b242kBsTUp9Y",
        "outputId": "a30dc841-ce17-41e4-8186-62a3e3888a92",
        "colab": {
          "base_uri": "https://localhost:8080/",
          "height": 111
        }
      },
      "source": [
        "learn.fit_one_cycle(2, slice(2e-3/100, 2e-3))"
      ],
      "execution_count": 42,
      "outputs": [
        {
          "output_type": "display_data",
          "data": {
            "text/html": [
              "<table border=\"1\" class=\"dataframe\">\n",
              "  <thead>\n",
              "    <tr style=\"text-align: left;\">\n",
              "      <th>epoch</th>\n",
              "      <th>train_loss</th>\n",
              "      <th>valid_loss</th>\n",
              "      <th>accuracy</th>\n",
              "      <th>time</th>\n",
              "    </tr>\n",
              "  </thead>\n",
              "  <tbody>\n",
              "    <tr>\n",
              "      <td>0</td>\n",
              "      <td>0.221745</td>\n",
              "      <td>1.206998</td>\n",
              "      <td>0.824781</td>\n",
              "      <td>08:40</td>\n",
              "    </tr>\n",
              "    <tr>\n",
              "      <td>1</td>\n",
              "      <td>0.192535</td>\n",
              "      <td>1.174669</td>\n",
              "      <td>0.826033</td>\n",
              "      <td>09:03</td>\n",
              "    </tr>\n",
              "  </tbody>\n",
              "</table>"
            ],
            "text/plain": [
              "<IPython.core.display.HTML object>"
            ]
          },
          "metadata": {
            "tags": []
          }
        }
      ]
    },
    {
      "cell_type": "code",
      "metadata": {
        "id": "Duwf1Ih5VeDZ",
        "outputId": "b182f31c-5a52-490f-c9e2-6ff6f129bde8",
        "colab": {
          "base_uri": "https://localhost:8080/",
          "height": 80
        }
      },
      "source": [
        "learn.fit_one_cycle(1, slice(2e-3/100, 2e-3))"
      ],
      "execution_count": 43,
      "outputs": [
        {
          "output_type": "display_data",
          "data": {
            "text/html": [
              "<table border=\"1\" class=\"dataframe\">\n",
              "  <thead>\n",
              "    <tr style=\"text-align: left;\">\n",
              "      <th>epoch</th>\n",
              "      <th>train_loss</th>\n",
              "      <th>valid_loss</th>\n",
              "      <th>accuracy</th>\n",
              "      <th>time</th>\n",
              "    </tr>\n",
              "  </thead>\n",
              "  <tbody>\n",
              "    <tr>\n",
              "      <td>0</td>\n",
              "      <td>0.195872</td>\n",
              "      <td>1.225886</td>\n",
              "      <td>0.812265</td>\n",
              "      <td>08:04</td>\n",
              "    </tr>\n",
              "  </tbody>\n",
              "</table>"
            ],
            "text/plain": [
              "<IPython.core.display.HTML object>"
            ]
          },
          "metadata": {
            "tags": []
          }
        }
      ]
    },
    {
      "cell_type": "code",
      "metadata": {
        "id": "c65d-osfDUXm"
      },
      "source": [
        "# save the best model\n",
        "\n",
        "learn.save_encoder('pubmed_cadec_askpatient_mixed_fold7')"
      ],
      "execution_count": 44,
      "outputs": []
    },
    {
      "cell_type": "markdown",
      "metadata": {
        "id": "rCwZU0E2RgM6"
      },
      "source": [
        "# Part three: Predict on the test dataset"
      ]
    },
    {
      "cell_type": "code",
      "metadata": {
        "id": "gDm72c-dOu7d",
        "outputId": "f7f1cf6b-6296-4658-bb6c-fb38584dc8b5",
        "colab": {
          "base_uri": "https://localhost:8080/",
          "height": 17
        }
      },
      "source": [
        "# use the test data for prediction\n",
        "\n",
        "preds, y = learn.get_preds(DatasetType.Test)"
      ],
      "execution_count": 45,
      "outputs": [
        {
          "output_type": "display_data",
          "data": {
            "text/html": [
              ""
            ],
            "text/plain": [
              "<IPython.core.display.HTML object>"
            ]
          },
          "metadata": {
            "tags": []
          }
        }
      ]
    },
    {
      "cell_type": "code",
      "metadata": {
        "id": "6tFSQcsWPvxn",
        "outputId": "0075441c-36df-43a2-f3fe-c5008f50d1fd",
        "colab": {
          "base_uri": "https://localhost:8080/",
          "height": 105
        }
      },
      "source": [
        "predictions, *_ = learn.get_preds(DatasetType.Test)\n",
        "labels = np.argmax(predictions, 1)\n",
        "predict_list = labels.tolist()\n",
        "standard_list = test[0].tolist()\n",
        "\n",
        "print(len(predict_list))\n",
        "print(len(standard_list))\n",
        "\n",
        "print(predict_list)\n",
        "print(standard_list)"
      ],
      "execution_count": 46,
      "outputs": [
        {
          "output_type": "display_data",
          "data": {
            "text/html": [
              ""
            ],
            "text/plain": [
              "<IPython.core.display.HTML object>"
            ]
          },
          "metadata": {
            "tags": []
          }
        },
        {
          "output_type": "stream",
          "text": [
            "866\n",
            "866\n",
            "[326, 8, 8, 8, 8, 8, 8, 9, 98, 13, 536, 27, 27, 27, 503, 705, 30, 31, 584, 32, 741, 37, 37, 37, 741, 289, 448, 495, 49, 49, 49, 96, 292, 49, 49, 49, 49, 216, 49, 49, 49, 49, 49, 904, 53, 53, 53, 53, 58, 309, 113, 60, 61, 61, 62, 141, 71, 76, 76, 76, 76, 76, 79, 79, 79, 195, 79, 79, 79, 79, 79, 79, 79, 79, 79, 79, 79, 79, 79, 79, 79, 79, 79, 79, 79, 79, 79, 79, 79, 79, 79, 79, 79, 79, 79, 79, 79, 79, 79, 79, 79, 79, 79, 79, 79, 79, 79, 79, 80, 80, 300, 195, 268, 88, 89, 89, 91, 91, 92, 92, 94, 94, 94, 94, 94, 94, 94, 94, 94, 94, 94, 94, 94, 49, 100, 100, 773, 100, 49, 100, 100, 100, 100, 100, 414, 8, 108, 111, 111, 111, 111, 114, 323, 75, 469, 124, 125, 125, 125, 125, 125, 125, 125, 125, 125, 125, 125, 127, 127, 127, 624, 132, 139, 142, 148, 153, 160, 162, 166, 166, 129, 614, 969, 181, 289, 182, 182, 182, 182, 183, 183, 183, 183, 58, 187, 187, 187, 189, 354, 189, 289, 190, 190, 190, 190, 190, 190, 190, 190, 190, 336, 427, 197, 209, 197, 197, 197, 200, 203, 260, 205, 205, 210, 214, 214, 214, 214, 214, 214, 214, 214, 197, 214, 214, 515, 214, 214, 214, 214, 896, 794, 216, 327, 483, 218, 218, 218, 219, 222, 418, 289, 228, 228, 228, 228, 228, 228, 228, 228, 228, 228, 228, 228, 228, 228, 289, 231, 234, 234, 234, 234, 328, 236, 236, 238, 969, 243, 905, 110, 243, 243, 243, 243, 243, 483, 243, 244, 245, 245, 245, 245, 245, 623, 245, 245, 245, 788, 357, 357, 505, 254, 254, 254, 1009, 265, 265, 289, 265, 265, 265, 265, 265, 265, 265, 265, 265, 265, 265, 265, 265, 265, 265, 265, 624, 228, 267, 89, 269, 274, 277, 277, 277, 281, 281, 286, 289, 289, 289, 289, 289, 289, 289, 289, 289, 228, 289, 289, 289, 290, 268, 291, 289, 557, 298, 300, 80, 301, 775, 652, 309, 309, 29, 794, 318, 318, 318, 325, 328, 328, 328, 328, 328, 328, 328, 328, 328, 269, 615, 757, 328, 332, 332, 334, 337, 337, 337, 337, 337, 337, 342, 343, 144, 344, 47, 351, 359, 359, 363, 363, 364, 289, 557, 662, 383, 389, 389, 391, 396, 396, 402, 896, 402, 402, 789, 789, 402, 402, 408, 409, 709, 415, 418, 471, 471, 419, 419, 419, 419, 419, 419, 419, 419, 419, 419, 828, 327, 426, 426, 426, 426, 427, 427, 427, 427, 427, 427, 427, 427, 615, 427, 450, 429, 436, 663, 1004, 443, 444, 454, 455, 455, 327, 455, 455, 458, 71, 327, 459, 459, 465, 462, 896, 471, 615, 1021, 474, 475, 475, 475, 475, 485, 487, 487, 489, 491, 491, 491, 491, 551, 492, 495, 176, 499, 499, 502, 505, 509, 509, 430, 521, 161, 182, 527, 530, 27, 541, 541, 541, 541, 546, 548, 548, 548, 548, 548, 548, 548, 549, 561, 721, 721, 565, 565, 571, 236, 578, 769, 579, 579, 583, 590, 590, 591, 591, 327, 592, 594, 595, 597, 597, 240, 604, 289, 463, 463, 607, 610, 567, 612, 146, 614, 614, 759, 614, 614, 693, 445, 131, 623, 623, 635, 415, 639, 639, 646, 646, 646, 646, 646, 652, 657, 244, 662, 662, 662, 666, 630, 667, 709, 678, 677, 677, 677, 348, 428, 691, 693, 693, 693, 289, 573, 289, 704, 190, 265, 896, 704, 704, 741, 706, 644, 707, 708, 708, 711, 711, 711, 714, 594, 726, 726, 727, 730, 100, 735, 240, 741, 769, 769, 773, 770, 775, 301, 775, 775, 775, 778, 556, 790, 823, 615, 794, 110, 796, 798, 799, 415, 803, 753, 1000, 847, 806, 806, 809, 809, 809, 809, 810, 810, 337, 485, 813, 817, 824, 824, 826, 826, 830, 830, 830, 830, 830, 830, 830, 830, 1021, 617, 839, 839, 841, 843, 329, 847, 847, 847, 847, 847, 847, 847, 1025, 847, 851, 274, 853, 853, 426, 853, 853, 749, 864, 44, 34, 293, 896, 896, 896, 896, 896, 896, 896, 433, 920, 919, 919, 919, 919, 933, 933, 935, 327, 937, 937, 937, 937, 941, 943, 1026, 948, 948, 948, 948, 948, 949, 949, 949, 949, 949, 949, 949, 949, 949, 949, 949, 949, 949, 949, 949, 949, 949, 949, 949, 949, 949, 949, 949, 949, 949, 949, 949, 949, 949, 949, 949, 949, 949, 949, 949, 949, 949, 949, 949, 949, 949, 949, 949, 949, 949, 949, 949, 949, 949, 949, 949, 949, 949, 949, 949, 949, 949, 949, 949, 949, 949, 949, 949, 949, 949, 949, 949, 949, 949, 949, 949, 949, 949, 949, 949, 949, 949, 949, 949, 949, 949, 949, 949, 327, 719, 949, 949, 949, 949, 949, 949, 949, 949, 949, 949, 949, 949, 949, 949, 949, 949, 949, 949, 949, 949, 949, 949, 949, 110, 950, 950, 950, 950, 950, 952, 952, 952, 958, 327, 964, 976, 976, 977, 980, 994, 1021, 999, 999, 327, 1001, 327, 1001, 1012, 1016, 1017, 999, 1026, 1026, 1026, 1026, 1028, 1029, 1034, 1035, 1029]\n",
            "[3, 8, 8, 8, 8, 8, 8, 9, 10, 13, 27, 27, 27, 27, 28, 28, 30, 31, 31, 32, 37, 37, 37, 37, 37, 37, 37, 49, 49, 49, 49, 49, 49, 49, 49, 49, 49, 49, 49, 49, 49, 49, 49, 50, 53, 53, 53, 53, 58, 58, 59, 60, 61, 61, 62, 68, 71, 76, 76, 76, 76, 76, 79, 79, 79, 79, 79, 79, 79, 79, 79, 79, 79, 79, 79, 79, 79, 79, 79, 79, 79, 79, 79, 79, 79, 79, 79, 79, 79, 79, 79, 79, 79, 79, 79, 79, 79, 79, 79, 79, 79, 79, 79, 79, 79, 79, 79, 79, 80, 80, 80, 84, 86, 88, 89, 89, 91, 91, 92, 92, 94, 94, 94, 94, 94, 94, 94, 94, 94, 94, 94, 94, 94, 100, 100, 100, 100, 100, 100, 100, 100, 100, 100, 100, 100, 102, 108, 111, 111, 111, 111, 114, 122, 122, 122, 124, 125, 125, 125, 125, 125, 125, 125, 125, 125, 125, 125, 127, 127, 127, 127, 132, 139, 142, 148, 153, 160, 162, 166, 166, 172, 172, 179, 181, 182, 182, 182, 182, 182, 183, 183, 183, 183, 185, 187, 187, 187, 189, 189, 189, 190, 190, 190, 190, 190, 190, 190, 190, 190, 190, 194, 194, 197, 197, 197, 197, 197, 200, 203, 205, 205, 205, 210, 214, 214, 214, 214, 214, 214, 214, 214, 214, 214, 214, 214, 214, 214, 214, 214, 214, 216, 216, 218, 218, 218, 218, 218, 219, 222, 224, 228, 228, 228, 228, 228, 228, 228, 228, 228, 228, 228, 228, 228, 228, 228, 228, 231, 234, 234, 234, 234, 235, 236, 236, 238, 243, 243, 243, 243, 243, 243, 243, 243, 243, 243, 243, 244, 245, 245, 245, 245, 245, 245, 245, 245, 245, 245, 246, 246, 248, 254, 254, 254, 256, 265, 265, 265, 265, 265, 265, 265, 265, 265, 265, 265, 265, 265, 265, 265, 265, 265, 265, 265, 265, 265, 267, 268, 269, 274, 277, 277, 277, 281, 281, 286, 289, 289, 289, 289, 289, 289, 289, 289, 289, 289, 289, 289, 289, 290, 291, 291, 293, 296, 298, 300, 300, 301, 301, 309, 309, 309, 317, 318, 318, 318, 318, 325, 325, 325, 325, 325, 325, 325, 325, 325, 325, 325, 325, 325, 325, 332, 332, 334, 337, 337, 337, 337, 337, 337, 342, 343, 344, 344, 346, 351, 359, 359, 363, 363, 364, 364, 369, 378, 383, 389, 389, 391, 396, 396, 402, 402, 402, 402, 402, 402, 402, 402, 408, 409, 411, 416, 417, 419, 419, 419, 419, 419, 419, 419, 419, 419, 419, 419, 419, 420, 424, 426, 426, 426, 426, 427, 427, 427, 427, 427, 427, 427, 427, 427, 427, 427, 429, 436, 437, 442, 443, 444, 454, 455, 455, 455, 455, 455, 458, 458, 458, 459, 459, 461, 462, 471, 471, 473, 474, 474, 475, 475, 475, 475, 485, 487, 487, 489, 491, 491, 491, 491, 492, 492, 495, 498, 499, 499, 502, 505, 509, 509, 518, 521, 522, 524, 527, 530, 536, 541, 541, 541, 541, 545, 548, 548, 548, 548, 548, 548, 548, 549, 561, 564, 565, 566, 569, 571, 574, 578, 578, 579, 579, 583, 590, 590, 591, 591, 592, 592, 594, 595, 597, 597, 597, 604, 604, 605, 606, 607, 610, 610, 612, 614, 614, 614, 614, 614, 614, 619, 620, 622, 623, 623, 635, 639, 639, 639, 646, 646, 646, 646, 646, 652, 657, 659, 662, 662, 662, 666, 666, 667, 668, 677, 677, 678, 679, 685, 690, 691, 693, 693, 693, 698, 701, 702, 702, 703, 703, 704, 704, 704, 704, 705, 705, 707, 708, 708, 711, 711, 711, 714, 725, 726, 726, 727, 730, 734, 735, 740, 741, 769, 769, 770, 770, 775, 775, 775, 775, 775, 778, 784, 790, 792, 794, 794, 794, 796, 798, 799, 801, 803, 803, 806, 806, 806, 806, 809, 809, 809, 809, 810, 810, 810, 813, 814, 817, 824, 824, 826, 826, 830, 830, 830, 830, 830, 830, 830, 830, 831, 837, 839, 839, 841, 843, 846, 847, 847, 847, 847, 847, 847, 847, 847, 847, 851, 852, 853, 853, 853, 853, 853, 861, 864, 869, 877, 896, 896, 896, 896, 896, 896, 896, 897, 909, 913, 919, 919, 919, 919, 933, 933, 935, 937, 937, 937, 937, 937, 941, 943, 946, 948, 948, 948, 948, 948, 949, 949, 949, 949, 949, 949, 949, 949, 949, 949, 949, 949, 949, 949, 949, 949, 949, 949, 949, 949, 949, 949, 949, 949, 949, 949, 949, 949, 949, 949, 949, 949, 949, 949, 949, 949, 949, 949, 949, 949, 949, 949, 949, 949, 949, 949, 949, 949, 949, 949, 949, 949, 949, 949, 949, 949, 949, 949, 949, 949, 949, 949, 949, 949, 949, 949, 949, 949, 949, 949, 949, 949, 949, 949, 949, 949, 949, 949, 949, 949, 949, 949, 949, 949, 949, 949, 949, 949, 949, 949, 949, 949, 949, 949, 949, 949, 949, 949, 949, 949, 949, 949, 949, 949, 949, 949, 949, 950, 950, 950, 950, 950, 950, 950, 952, 952, 952, 958, 959, 964, 976, 976, 977, 980, 994, 997, 999, 999, 999, 1001, 1001, 1001, 1012, 1016, 1017, 1019, 1025, 1026, 1026, 1026, 1028, 1029, 1034, 1035, 1035]\n"
          ],
          "name": "stdout"
        }
      ]
    },
    {
      "cell_type": "code",
      "metadata": {
        "id": "XIC4zufnMxtq",
        "outputId": "bbb997ec-bcd8-45ab-81c6-7edde803ae9f",
        "colab": {
          "base_uri": "https://localhost:8080/",
          "height": 51
        }
      },
      "source": [
        "correct_num = 0\n",
        "\n",
        "for i in range(0, len(standard_list)):\n",
        "  if predict_list[i] == standard_list[i]:\n",
        "    correct_num = correct_num+1\n",
        "  else:\n",
        "    pass\n",
        "print(correct_num)\n",
        "\n",
        "predict_accuracy = correct_num/len(predict_list)\n",
        "print(predict_accuracy)"
      ],
      "execution_count": 47,
      "outputs": [
        {
          "output_type": "stream",
          "text": [
            "667\n",
            "0.7702078521939953\n"
          ],
          "name": "stdout"
        }
      ]
    },
    {
      "cell_type": "code",
      "metadata": {
        "id": "zlKMHp1CIaRJ"
      },
      "source": [
        ""
      ],
      "execution_count": 47,
      "outputs": []
    }
  ]
}