{
  "nbformat": 4,
  "nbformat_minor": 0,
  "metadata": {
    "accelerator": "TPU",
    "colab": {
      "name": "Cadec_twadr_02.ipynb",
      "provenance": [],
      "collapsed_sections": [],
      "include_colab_link": true
    },
    "kernelspec": {
      "display_name": "Python 3",
      "name": "python3"
    }
  },
  "cells": [
    {
      "cell_type": "markdown",
      "metadata": {
        "id": "view-in-github",
        "colab_type": "text"
      },
      "source": [
        "<a href=\"https://colab.research.google.com/github/unt-iialab/medical-concept-normalization/blob/master/medical-concept-normalization/fine-tuning-experiments/askpatient/Cadec_twadr_02.ipynb\" target=\"_parent\"><img src=\"https://colab.research.google.com/assets/colab-badge.svg\" alt=\"Open In Colab\"/></a>"
      ]
    },
    {
      "cell_type": "code",
      "metadata": {
        "id": "adSi6i2-dWxy"
      },
      "source": [
        "import os"
      ],
      "execution_count": 1,
      "outputs": []
    },
    {
      "cell_type": "code",
      "metadata": {
        "id": "E7xYCRGPjd9B"
      },
      "source": [
        "base_dir = 'medical-concept-normalization'"
      ],
      "execution_count": 2,
      "outputs": []
    },
    {
      "cell_type": "code",
      "metadata": {
        "id": "yvIW3aUDjYNS"
      },
      "source": [
        "os.mkdir(base_dir)"
      ],
      "execution_count": 3,
      "outputs": []
    },
    {
      "cell_type": "code",
      "metadata": {
        "id": "es-FFLlfk6SG"
      },
      "source": [
        "os.mkdir('medical-concept-normalization/data_collection')"
      ],
      "execution_count": 4,
      "outputs": []
    },
    {
      "cell_type": "markdown",
      "metadata": {
        "id": "0R-Guw_VoJXm"
      },
      "source": [
        "**Install fastai and clone the fastai for text classification**\n",
        "\n"
      ]
    },
    {
      "cell_type": "code",
      "metadata": {
        "id": "QVZa3Z0PmHFH",
        "outputId": "b2094710-b3dd-48ec-a65a-05528283505e",
        "colab": {
          "base_uri": "https://localhost:8080/"
        }
      },
      "source": [
        "!curl https://course-v3.fast.ai/setup/colab | bash"
      ],
      "execution_count": 5,
      "outputs": [
        {
          "output_type": "stream",
          "text": [
            "  % Total    % Received % Xferd  Average Speed   Time    Time     Time  Current\n",
            "                                 Dload  Upload   Total   Spent    Left  Speed\n",
            "\r  0     0    0     0    0     0      0      0 --:--:-- --:--:-- --:--:--     0curl: (6) Could not resolve host: course-v3.fast.ai\n"
          ],
          "name": "stdout"
        }
      ]
    },
    {
      "cell_type": "code",
      "metadata": {
        "id": "_FBFFEBrmJC0",
        "outputId": "356233ba-63b9-40af-a2ff-8a20a52b0876",
        "colab": {
          "base_uri": "https://localhost:8080/"
        }
      },
      "source": [
        "!git clone https://github.com/wshuyi/demo-nlp-classification-fastai.git"
      ],
      "execution_count": 6,
      "outputs": [
        {
          "output_type": "stream",
          "text": [
            "Cloning into 'demo-nlp-classification-fastai'...\n",
            "remote: Enumerating objects: 9, done.\u001b[K\n",
            "remote: Total 9 (delta 0), reused 0 (delta 0), pack-reused 9\u001b[K\n",
            "Unpacking objects: 100% (9/9), done.\n"
          ],
          "name": "stdout"
        }
      ]
    },
    {
      "cell_type": "code",
      "metadata": {
        "id": "66zfh_JqmWMU"
      },
      "source": [
        "from fastai import *\n",
        "from fastai.text import *"
      ],
      "execution_count": 7,
      "outputs": []
    },
    {
      "cell_type": "markdown",
      "metadata": {
        "id": "mNIw-yALdBU9"
      },
      "source": [
        "**Set the path of the data collections**"
      ]
    },
    {
      "cell_type": "code",
      "metadata": {
        "id": "pzH7VMh4mqCL"
      },
      "source": [
        "path = Path('medical-concept-normalization/data_collection')"
      ],
      "execution_count": 8,
      "outputs": []
    },
    {
      "cell_type": "code",
      "metadata": {
        "id": "b8fjI6yyn4aS"
      },
      "source": [
        "# training data set\n",
        "\n",
        "train_csv = path/'TwADR-L.fold-2.train.csv'\n",
        "train = pd.read_csv(train_csv, header=None)\n",
        "#train.head()\n",
        "#train.info()"
      ],
      "execution_count": 10,
      "outputs": []
    },
    {
      "cell_type": "code",
      "metadata": {
        "id": "Hmlr-bAorfHd",
        "outputId": "4769195f-4ce2-4245-eacc-b36c2c0b39f8",
        "colab": {
          "base_uri": "https://localhost:8080/",
          "height": 204
        }
      },
      "source": [
        "# validating data set\n",
        "\n",
        "valid = pd.read_csv(path/\"TwADR-L.fold-2.validation.csv\",header=None)\n",
        "valid.head()"
      ],
      "execution_count": 11,
      "outputs": [
        {
          "output_type": "execute_result",
          "data": {
            "text/html": [
              "<div>\n",
              "<style scoped>\n",
              "    .dataframe tbody tr th:only-of-type {\n",
              "        vertical-align: middle;\n",
              "    }\n",
              "\n",
              "    .dataframe tbody tr th {\n",
              "        vertical-align: top;\n",
              "    }\n",
              "\n",
              "    .dataframe thead th {\n",
              "        text-align: right;\n",
              "    }\n",
              "</style>\n",
              "<table border=\"1\" class=\"dataframe\">\n",
              "  <thead>\n",
              "    <tr style=\"text-align: right;\">\n",
              "      <th></th>\n",
              "      <th>0</th>\n",
              "      <th>1</th>\n",
              "    </tr>\n",
              "  </thead>\n",
              "  <tbody>\n",
              "    <tr>\n",
              "      <th>0</th>\n",
              "      <td>13</td>\n",
              "      <td>insomnia</td>\n",
              "    </tr>\n",
              "    <tr>\n",
              "      <th>1</th>\n",
              "      <td>24</td>\n",
              "      <td>heart beat for being too strong</td>\n",
              "    </tr>\n",
              "    <tr>\n",
              "      <th>2</th>\n",
              "      <td>62</td>\n",
              "      <td>feeling proper psycho</td>\n",
              "    </tr>\n",
              "    <tr>\n",
              "      <th>3</th>\n",
              "      <td>94</td>\n",
              "      <td>anxiety</td>\n",
              "    </tr>\n",
              "    <tr>\n",
              "      <th>4</th>\n",
              "      <td>133</td>\n",
              "      <td>night terrors</td>\n",
              "    </tr>\n",
              "  </tbody>\n",
              "</table>\n",
              "</div>"
            ],
            "text/plain": [
              "     0                                1\n",
              "0   13                         insomnia\n",
              "1   24  heart beat for being too strong\n",
              "2   62            feeling proper psycho\n",
              "3   94                          anxiety\n",
              "4  133                    night terrors"
            ]
          },
          "metadata": {
            "tags": []
          },
          "execution_count": 11
        }
      ]
    },
    {
      "cell_type": "code",
      "metadata": {
        "id": "cOza9dfSsBud",
        "outputId": "ff67509f-ba81-4a41-bcb5-332ce26025ae",
        "colab": {
          "base_uri": "https://localhost:8080/",
          "height": 204
        }
      },
      "source": [
        "# testing data set\n",
        "\n",
        "test = pd.read_csv(path/\"TwADR-L.fold-2.test.csv\",header=None)\n",
        "test.head()"
      ],
      "execution_count": 12,
      "outputs": [
        {
          "output_type": "execute_result",
          "data": {
            "text/html": [
              "<div>\n",
              "<style scoped>\n",
              "    .dataframe tbody tr th:only-of-type {\n",
              "        vertical-align: middle;\n",
              "    }\n",
              "\n",
              "    .dataframe tbody tr th {\n",
              "        vertical-align: top;\n",
              "    }\n",
              "\n",
              "    .dataframe thead th {\n",
              "        text-align: right;\n",
              "    }\n",
              "</style>\n",
              "<table border=\"1\" class=\"dataframe\">\n",
              "  <thead>\n",
              "    <tr style=\"text-align: right;\">\n",
              "      <th></th>\n",
              "      <th>0</th>\n",
              "      <th>1</th>\n",
              "    </tr>\n",
              "  </thead>\n",
              "  <tbody>\n",
              "    <tr>\n",
              "      <th>0</th>\n",
              "      <td>13</td>\n",
              "      <td>It's 6 am and this adderall got me reevaluatin...</td>\n",
              "    </tr>\n",
              "    <tr>\n",
              "      <th>1</th>\n",
              "      <td>24</td>\n",
              "      <td>racing heart</td>\n",
              "    </tr>\n",
              "    <tr>\n",
              "      <th>2</th>\n",
              "      <td>56</td>\n",
              "      <td>persistent painful erection</td>\n",
              "    </tr>\n",
              "    <tr>\n",
              "      <th>3</th>\n",
              "      <td>57</td>\n",
              "      <td>hypertrophic scarring</td>\n",
              "    </tr>\n",
              "    <tr>\n",
              "      <th>4</th>\n",
              "      <td>94</td>\n",
              "      <td>anxiety</td>\n",
              "    </tr>\n",
              "  </tbody>\n",
              "</table>\n",
              "</div>"
            ],
            "text/plain": [
              "    0                                                  1\n",
              "0  13  It's 6 am and this adderall got me reevaluatin...\n",
              "1  24                                       racing heart\n",
              "2  56                        persistent painful erection\n",
              "3  57                              hypertrophic scarring\n",
              "4  94                                            anxiety"
            ]
          },
          "metadata": {
            "tags": []
          },
          "execution_count": 12
        }
      ]
    },
    {
      "cell_type": "code",
      "metadata": {
        "id": "Vo-YNvVYoaH6",
        "outputId": "8f415266-ea86-4a25-bf04-00416f14ca13",
        "colab": {
          "base_uri": "https://localhost:8080/",
          "height": 17
        }
      },
      "source": [
        "# Creating DataBunch for language modelling\n",
        "\n",
        "data_lm = TextLMDataBunch.from_csv(path, 'TwADR-cadec.csv')"
      ],
      "execution_count": 13,
      "outputs": [
        {
          "output_type": "display_data",
          "data": {
            "text/html": [
              ""
            ],
            "text/plain": [
              "<IPython.core.display.HTML object>"
            ]
          },
          "metadata": {
            "tags": []
          }
        },
        {
          "output_type": "display_data",
          "data": {
            "text/html": [
              ""
            ],
            "text/plain": [
              "<IPython.core.display.HTML object>"
            ]
          },
          "metadata": {
            "tags": []
          }
        }
      ]
    },
    {
      "cell_type": "code",
      "metadata": {
        "id": "qcV-9kMnNLBf"
      },
      "source": [
        ""
      ],
      "execution_count": 13,
      "outputs": []
    },
    {
      "cell_type": "code",
      "metadata": {
        "id": "1ScY9afDsnvE"
      },
      "source": [
        "# Creating DataBunch for classification\n",
        "\n",
        "# data_clas = TextClasDataBunch.from_df(path, train, valid, test, vocab=data_lm.train_ds.vocab, bs=128)"
      ],
      "execution_count": 14,
      "outputs": []
    },
    {
      "cell_type": "code",
      "metadata": {
        "id": "gzrSdQcvey9p",
        "outputId": "7834d7e2-7170-403e-cde5-d2f38205796c",
        "colab": {
          "base_uri": "https://localhost:8080/",
          "height": 17
        }
      },
      "source": [
        "data_clas = TextClasDataBunch.from_df(path, train, valid, vocab=data_lm.train_ds.vocab, bs=128)"
      ],
      "execution_count": 15,
      "outputs": [
        {
          "output_type": "display_data",
          "data": {
            "text/html": [
              ""
            ],
            "text/plain": [
              "<IPython.core.display.HTML object>"
            ]
          },
          "metadata": {
            "tags": []
          }
        },
        {
          "output_type": "display_data",
          "data": {
            "text/html": [
              ""
            ],
            "text/plain": [
              "<IPython.core.display.HTML object>"
            ]
          },
          "metadata": {
            "tags": []
          }
        }
      ]
    },
    {
      "cell_type": "code",
      "metadata": {
        "id": "MD27Tf0Ke3ou",
        "outputId": "9f41dc2b-16c5-4253-d7ee-1393409d26f9",
        "colab": {
          "base_uri": "https://localhost:8080/",
          "height": 17
        }
      },
      "source": [
        "data_clas.add_test(test,label=0)\n"
      ],
      "execution_count": 16,
      "outputs": [
        {
          "output_type": "display_data",
          "data": {
            "text/html": [
              ""
            ],
            "text/plain": [
              "<IPython.core.display.HTML object>"
            ]
          },
          "metadata": {
            "tags": []
          }
        }
      ]
    },
    {
      "cell_type": "code",
      "metadata": {
        "id": "-dpjnk_rstwk"
      },
      "source": [
        "data_lm.save()\n",
        "data_clas.save()"
      ],
      "execution_count": 17,
      "outputs": []
    },
    {
      "cell_type": "code",
      "metadata": {
        "id": "4OkiJa36sw5s",
        "outputId": "5fe43f8d-0cbd-46a5-a6d6-553c50e4b12e",
        "colab": {
          "base_uri": "https://localhost:8080/"
        }
      },
      "source": [
        "data_lm.train_ds.vocab.itos"
      ],
      "execution_count": 18,
      "outputs": [
        {
          "output_type": "execute_result",
          "data": {
            "text/plain": [
              "['xxunk',\n",
              " 'xxpad',\n",
              " 'xxbos',\n",
              " 'xxeos',\n",
              " 'xxfld',\n",
              " 'xxmaj',\n",
              " 'xxup',\n",
              " 'xxrep',\n",
              " 'xxwrep',\n",
              " '.',\n",
              " ',',\n",
              " 'i',\n",
              " 'the',\n",
              " 'and',\n",
              " 'to',\n",
              " 'my',\n",
              " 'pain',\n",
              " 'in',\n",
              " 'of',\n",
              " 'a',\n",
              " 'it',\n",
              " 'me',\n",
              " 'mood',\n",
              " 'increased',\n",
              " 'for',\n",
              " '-',\n",
              " 'have',\n",
              " 'was',\n",
              " 'drug',\n",
              " 'lipitor',\n",
              " '(',\n",
              " ')',\n",
              " 'this',\n",
              " 'disorder',\n",
              " 'on',\n",
              " 'withdrawal',\n",
              " 'abnormal',\n",
              " 'not',\n",
              " 'symptoms',\n",
              " 'had',\n",
              " 'anxiety',\n",
              " 'that',\n",
              " 'is',\n",
              " 'with',\n",
              " 'weight',\n",
              " 'muscle',\n",
              " 'like',\n",
              " 'but',\n",
              " 'taking',\n",
              " 'feeling',\n",
              " 'decreased',\n",
              " \"n't\",\n",
              " 'disorders',\n",
              " 'after',\n",
              " 'up',\n",
              " 'sleeplessness',\n",
              " 'syndrome',\n",
              " 'behavior',\n",
              " 'so',\n",
              " 'sleep',\n",
              " 'blood',\n",
              " 'got',\n",
              " 'insomnia',\n",
              " 'diseases',\n",
              " 'all',\n",
              " 'feel',\n",
              " 'energy',\n",
              " 'disturbance',\n",
              " 'from',\n",
              " 'finding',\n",
              " 'am',\n",
              " 'depression',\n",
              " 'side',\n",
              " 'back',\n",
              " 'somnolence',\n",
              " '!',\n",
              " 'loss',\n",
              " 'cholesterol',\n",
              " 'day',\n",
              " 'been',\n",
              " 'heart',\n",
              " 'be',\n",
              " 'effects',\n",
              " 'mental',\n",
              " 'skin',\n",
              " 'gain',\n",
              " 'as',\n",
              " 'appetite',\n",
              " 'take',\n",
              " 'body',\n",
              " '/',\n",
              " 'at',\n",
              " 'nausea',\n",
              " 'acute',\n",
              " 'about',\n",
              " 'no',\n",
              " 'off',\n",
              " 'mg',\n",
              " 'now',\n",
              " 'fatigue',\n",
              " 'years',\n",
              " 'do',\n",
              " 'has',\n",
              " 'dizziness',\n",
              " 'awake',\n",
              " 'excitability',\n",
              " 'or',\n",
              " 'very',\n",
              " 'out',\n",
              " 'feelings',\n",
              " 'irritable',\n",
              " 'attention',\n",
              " 'joint',\n",
              " 'drowsiness',\n",
              " 'days',\n",
              " 'if',\n",
              " 'did',\n",
              " 'ceiling',\n",
              " 'swelling',\n",
              " 'panic',\n",
              " 'will',\n",
              " 'hyperactive',\n",
              " 'time',\n",
              " 'state',\n",
              " 'are',\n",
              " 'depressed',\n",
              " 'when',\n",
              " 'rash',\n",
              " 'doctor',\n",
              " 'months',\n",
              " \"'m\",\n",
              " 'still',\n",
              " 'you',\n",
              " 'liver',\n",
              " 'could',\n",
              " 'headache',\n",
              " '2',\n",
              " 'started',\n",
              " 'night',\n",
              " 'swings',\n",
              " 'site',\n",
              " 'severe',\n",
              " '3',\n",
              " 'stopped',\n",
              " 'stomach',\n",
              " 'allergic',\n",
              " 'get',\n",
              " 'cramps',\n",
              " 'disease',\n",
              " 'bipolar',\n",
              " 'reaction',\n",
              " '#',\n",
              " 'more',\n",
              " 'problems',\n",
              " 'an',\n",
              " 'bad',\n",
              " 'would',\n",
              " 'took',\n",
              " 'memory',\n",
              " 'also',\n",
              " 'weeks',\n",
              " 'just',\n",
              " '10',\n",
              " 'wakefulness',\n",
              " 'infection',\n",
              " 'down',\n",
              " 'lower',\n",
              " 'by',\n",
              " \"'s\",\n",
              " 'over',\n",
              " 'abdominal',\n",
              " 'dreams',\n",
              " 'attack',\n",
              " 'can',\n",
              " 'breast',\n",
              " 'one',\n",
              " 'tired',\n",
              " 'any',\n",
              " 'went',\n",
              " 'tremor',\n",
              " 'eye',\n",
              " 'leg',\n",
              " 'high',\n",
              " 'other',\n",
              " 'legs',\n",
              " 'then',\n",
              " 'he',\n",
              " 'ca',\n",
              " 'injury',\n",
              " 'brain',\n",
              " 'some',\n",
              " 'only',\n",
              " 'stiffness',\n",
              " 'respiratory',\n",
              " 'numbness',\n",
              " 'attacks',\n",
              " 'week',\n",
              " 'level',\n",
              " 'again',\n",
              " 'dry',\n",
              " 'your',\n",
              " 'ago',\n",
              " '&',\n",
              " 'rage',\n",
              " 'shoulder',\n",
              " 'never',\n",
              " 'difficulty',\n",
              " 'deficit',\n",
              " 'go',\n",
              " 'sleepy',\n",
              " 'chest',\n",
              " 'hemorrhage',\n",
              " 'psychotic',\n",
              " 'bone',\n",
              " 'medication',\n",
              " 'makes',\n",
              " 'even',\n",
              " 'initial',\n",
              " 'better',\n",
              " 'taste',\n",
              " 'failure',\n",
              " '5',\n",
              " 'they',\n",
              " 'foot',\n",
              " 'carcinoma',\n",
              " '6',\n",
              " 'before',\n",
              " 'much',\n",
              " 'low',\n",
              " 'sweating',\n",
              " 'vision',\n",
              " 'arthritis',\n",
              " 'felt',\n",
              " 'pressure',\n",
              " 'were',\n",
              " 'asleep',\n",
              " 'infections',\n",
              " 'discomfort',\n",
              " 'weakness',\n",
              " 'because',\n",
              " 'right',\n",
              " 'gastrointestinal',\n",
              " 'cardiac',\n",
              " 'same',\n",
              " 'zombie',\n",
              " 'neck',\n",
              " 'two',\n",
              " 'edema',\n",
              " 'first',\n",
              " 'away',\n",
              " 'walk',\n",
              " 'which',\n",
              " 'these',\n",
              " 'left',\n",
              " 'kidney',\n",
              " 'middle',\n",
              " 'pains',\n",
              " \"'ve\",\n",
              " 'feet',\n",
              " 'daytime',\n",
              " 'life',\n",
              " 'test',\n",
              " 'being',\n",
              " 'function',\n",
              " 'vomiting',\n",
              " '1',\n",
              " 'ulcer',\n",
              " 'what',\n",
              " 'elevated',\n",
              " 'chronic',\n",
              " 'change',\n",
              " 'hallucinations',\n",
              " 'since',\n",
              " 'going',\n",
              " 'sensation',\n",
              " 'dependence',\n",
              " '4',\n",
              " 'tingling',\n",
              " 'hurt',\n",
              " 'concentration',\n",
              " '20',\n",
              " 'facial',\n",
              " 'knee',\n",
              " 'pulmonary',\n",
              " 'headaches',\n",
              " 'suicidal',\n",
              " 'anger',\n",
              " 'stop',\n",
              " 'nightmares',\n",
              " 'than',\n",
              " 'taken',\n",
              " 'aggravated',\n",
              " 'localised',\n",
              " 'death',\n",
              " 'effect',\n",
              " 'exhaustion',\n",
              " 'damage',\n",
              " 'extreme',\n",
              " 'migraine',\n",
              " 'statins',\n",
              " 'dermatitis',\n",
              " 'sleepiness',\n",
              " 'bleeding',\n",
              " 'muscles',\n",
              " 'ache',\n",
              " 'eating',\n",
              " 'distress',\n",
              " 'need',\n",
              " 'work',\n",
              " 'system',\n",
              " 'getting',\n",
              " 'cerebral',\n",
              " 'told',\n",
              " 'statin',\n",
              " 'there',\n",
              " 'anemia',\n",
              " 'cell',\n",
              " 'depressive',\n",
              " 'worse',\n",
              " 'dizzy',\n",
              " 'well',\n",
              " 'terrible',\n",
              " 'last',\n",
              " '?',\n",
              " 'having',\n",
              " 'wide',\n",
              " 'urine',\n",
              " 'every',\n",
              " 'hands',\n",
              " 'depersonalization',\n",
              " 'dose',\n",
              " 'good',\n",
              " 'serum',\n",
              " 'conditions',\n",
              " 'dr',\n",
              " 'spasm',\n",
              " 'thought',\n",
              " 'should',\n",
              " 'too',\n",
              " 'experienced',\n",
              " 'dysfunction',\n",
              " 'year',\n",
              " 'face',\n",
              " 'who',\n",
              " 'drugs',\n",
              " 'painful',\n",
              " ';',\n",
              " 'social',\n",
              " 'arrest',\n",
              " 'think',\n",
              " 'vivid',\n",
              " 'does',\n",
              " 'month',\n",
              " 'lack',\n",
              " 'irritation',\n",
              " 'make',\n",
              " 'seizures',\n",
              " 'disturbances',\n",
              " 'fear',\n",
              " 'know',\n",
              " 'hip',\n",
              " 'nauseous',\n",
              " 'due',\n",
              " 'hypertension',\n",
              " 'diarrhea',\n",
              " 'see',\n",
              " 'adderall',\n",
              " 'within',\n",
              " 'hours',\n",
              " 'asthma',\n",
              " 'arm',\n",
              " 'sore',\n",
              " 'pruritus',\n",
              " 'put',\n",
              " 'normal',\n",
              " 'neoplasm',\n",
              " 'uterine',\n",
              " 'thinking',\n",
              " 'compulsive',\n",
              " 'cancer',\n",
              " 'aches',\n",
              " 'few',\n",
              " 'bite',\n",
              " 'until',\n",
              " 'gas',\n",
              " 'walking',\n",
              " 'count',\n",
              " 'cause',\n",
              " 'oedema',\n",
              " 'upper',\n",
              " 'problem',\n",
              " '40',\n",
              " 'crazy',\n",
              " 'almost',\n",
              " 'oral',\n",
              " 'without',\n",
              " 'said',\n",
              " 'malignant',\n",
              " 'cold',\n",
              " 'decrease',\n",
              " 'hunger',\n",
              " 'hepatic',\n",
              " 'corneal',\n",
              " 'arms',\n",
              " 'euphoric',\n",
              " 'genital',\n",
              " 'both',\n",
              " 'nerve',\n",
              " 'ventricular',\n",
              " 'intoxication',\n",
              " 'gastric',\n",
              " 'people',\n",
              " 'total',\n",
              " 'abuse',\n",
              " 'mouth',\n",
              " 'sexual',\n",
              " 'personality',\n",
              " 'glucose',\n",
              " 'really',\n",
              " '7',\n",
              " 'necrosis',\n",
              " 'paranoid',\n",
              " 'localized',\n",
              " 'injection',\n",
              " 'cramping',\n",
              " 'drowsy',\n",
              " 'nervous',\n",
              " 'eyes',\n",
              " 'lightheadedness',\n",
              " 'tongue',\n",
              " 'reduced',\n",
              " 'sweat',\n",
              " 'alcohol',\n",
              " 'peripheral',\n",
              " 'impairment',\n",
              " 'vertigo',\n",
              " 'emotional',\n",
              " 'sneezing',\n",
              " 'head',\n",
              " 'short',\n",
              " 'withdrawals',\n",
              " 'electrocardiogram',\n",
              " 'weird',\n",
              " 'another',\n",
              " 'lost',\n",
              " ':',\n",
              " 'doctors',\n",
              " 'little',\n",
              " 'try',\n",
              " 'gone',\n",
              " 'ldl',\n",
              " 'nasal',\n",
              " 'episode',\n",
              " 'myself',\n",
              " 'neuropathy',\n",
              " 'falling',\n",
              " 'hungry',\n",
              " 'knees',\n",
              " 'bulimia',\n",
              " 'great',\n",
              " 'throat',\n",
              " 'spasms',\n",
              " 'while',\n",
              " 'swollen',\n",
              " 'diet',\n",
              " 'neoplasms',\n",
              " 'vaginal',\n",
              " 'obsessive',\n",
              " 'many',\n",
              " '8',\n",
              " 'sinus',\n",
              " 'sudden',\n",
              " 'erythema',\n",
              " 'consciousness',\n",
              " 'diabetic',\n",
              " 'excessive',\n",
              " 'found',\n",
              " 'female',\n",
              " 'lung',\n",
              " 'she',\n",
              " 'candidiasis',\n",
              " 'ear',\n",
              " 'speech',\n",
              " 'term',\n",
              " 'stress',\n",
              " 'breathing',\n",
              " 'way',\n",
              " 'stopping',\n",
              " 'sick',\n",
              " 'injuries',\n",
              " 'non',\n",
              " 'sleeping',\n",
              " 'pneumonia',\n",
              " 'bed',\n",
              " 'tract',\n",
              " 'libido',\n",
              " 'help',\n",
              " 'arthropod',\n",
              " 'obstruction',\n",
              " 'hair',\n",
              " 'exercise',\n",
              " 'levels',\n",
              " 'anything',\n",
              " 'noticed',\n",
              " 'several',\n",
              " 'colitis',\n",
              " 'confusion',\n",
              " 'tooth',\n",
              " 'generalized',\n",
              " 'fever',\n",
              " 'want',\n",
              " 'overdose',\n",
              " 'diabetes',\n",
              " 'palpitations',\n",
              " 'inflammation',\n",
              " 'most',\n",
              " 'old',\n",
              " 'began',\n",
              " 'developed',\n",
              " 'erection',\n",
              " 'thirst',\n",
              " 'ejaculation',\n",
              " 'tests',\n",
              " 'times',\n",
              " 'block',\n",
              " 'shoulders',\n",
              " 'visual',\n",
              " 'muscular',\n",
              " 'something',\n",
              " 'different',\n",
              " 'long',\n",
              " 'insufficiency',\n",
              " 'hepatitis',\n",
              " 'fracture',\n",
              " 'intense',\n",
              " 'renal',\n",
              " 'lowered',\n",
              " 'eat',\n",
              " 'binge',\n",
              " 'unable',\n",
              " 'joints',\n",
              " '%',\n",
              " 'movements',\n",
              " 'suicide',\n",
              " 'thoughts',\n",
              " 'hard',\n",
              " 'red',\n",
              " 'morning',\n",
              " 'minutes',\n",
              " 'making',\n",
              " 'ankle',\n",
              " 'psychosis',\n",
              " 'reading',\n",
              " 'craving',\n",
              " 'daily',\n",
              " 'symptom',\n",
              " 'their',\n",
              " 'lose',\n",
              " 'them',\n",
              " 'itching',\n",
              " 'into',\n",
              " 'next',\n",
              " 'prescribed',\n",
              " 'how',\n",
              " 'despair',\n",
              " 'allergy',\n",
              " 'losing',\n",
              " 'adenocarcinoma',\n",
              " 'urticaria',\n",
              " 'three',\n",
              " 'made',\n",
              " 'haemorrhage',\n",
              " 'bloating',\n",
              " 'person',\n",
              " 'angry',\n",
              " 'result',\n",
              " 'find',\n",
              " 'experiencing',\n",
              " 'partial',\n",
              " 'always',\n",
              " 'sedated',\n",
              " 'use',\n",
              " 'application',\n",
              " 'lbs',\n",
              " 'ever',\n",
              " 'may',\n",
              " 'bladder',\n",
              " 'acid',\n",
              " 'pill',\n",
              " 'general',\n",
              " 'completely',\n",
              " 'atrophy',\n",
              " 'tachycardia',\n",
              " 'however',\n",
              " 'paranoia',\n",
              " 'prolonged',\n",
              " 'tissue',\n",
              " 'burning',\n",
              " 'impaired',\n",
              " 'tolerance',\n",
              " 'blurred',\n",
              " 'sure',\n",
              " 'fractures',\n",
              " 'mind',\n",
              " 'tendency',\n",
              " 'came',\n",
              " 'its',\n",
              " 'metastatic',\n",
              " 'hyper',\n",
              " 'nt',\n",
              " 'around',\n",
              " 'arrhythmia',\n",
              " 'stay',\n",
              " 'traumatic',\n",
              " 'caused',\n",
              " 'vasculitis',\n",
              " 'things',\n",
              " 'cough',\n",
              " 'able',\n",
              " '30',\n",
              " 'limb',\n",
              " 'atrial',\n",
              " 'lupus',\n",
              " 'syncope',\n",
              " 'early',\n",
              " 'drunk',\n",
              " 'potassium',\n",
              " 'immediately',\n",
              " 'finally',\n",
              " 'results',\n",
              " 'bacterial',\n",
              " 'migraines',\n",
              " 'rheumatoid',\n",
              " 'arthrotec',\n",
              " 'food',\n",
              " 'rhinitis',\n",
              " 'myocardial',\n",
              " 'altered',\n",
              " 'major',\n",
              " 'urinary',\n",
              " 'quality',\n",
              " 'read',\n",
              " 'hypomania',\n",
              " 'gland',\n",
              " 'interest',\n",
              " 'nothing',\n",
              " 'fall',\n",
              " 'recommend',\n",
              " 'unspecified',\n",
              " 'weak',\n",
              " '100',\n",
              " 'doing',\n",
              " 'his',\n",
              " 'trippin',\n",
              " 'hyperactivity',\n",
              " 'we',\n",
              " 'terrors',\n",
              " 'positive',\n",
              " 'gained',\n",
              " \"'\",\n",
              " 'half',\n",
              " 'later',\n",
              " 'abdomen',\n",
              " 'bronchitis',\n",
              " 'twitch',\n",
              " 'medicine',\n",
              " 'once',\n",
              " 'especially',\n",
              " 'unconscious',\n",
              " 'hand',\n",
              " 'arousal',\n",
              " 'tried',\n",
              " 'whole',\n",
              " 'esophageal',\n",
              " 'prozac',\n",
              " 'tenderness',\n",
              " 'infarction',\n",
              " 'stuff',\n",
              " 'trying',\n",
              " 'fluid',\n",
              " 'hurting',\n",
              " 'less',\n",
              " 'relief',\n",
              " 'hot',\n",
              " 'thyroid',\n",
              " 'labored',\n",
              " 'recently',\n",
              " 'perforation',\n",
              " 'constant',\n",
              " 'toe',\n",
              " 'mild',\n",
              " 'her',\n",
              " 'musculoskeletal',\n",
              " 'numb',\n",
              " 'bites',\n",
              " 'anyone',\n",
              " 'abnormality',\n",
              " 'indifferent',\n",
              " 'cutaneous',\n",
              " 'none',\n",
              " 'quit',\n",
              " 'upset',\n",
              " 'through',\n",
              " 'family',\n",
              " 'limbs',\n",
              " 'past',\n",
              " 'causing',\n",
              " 'involuntary',\n",
              " 'works',\n",
              " 'horrible',\n",
              " 'male',\n",
              " 'bowel',\n",
              " 'yet',\n",
              " 'lot',\n",
              " 'awful',\n",
              " 'wo',\n",
              " 'though',\n",
              " 'hour',\n",
              " 'mad',\n",
              " 'post',\n",
              " 'meds',\n",
              " 'fingers',\n",
              " 'done',\n",
              " 'changes',\n",
              " 'creatinine',\n",
              " 'atrioventricular',\n",
              " 'come',\n",
              " 'calf',\n",
              " 'super',\n",
              " '80',\n",
              " 'today',\n",
              " 'premature',\n",
              " 'paralysed',\n",
              " 'acidosis',\n",
              " 'bilirubin',\n",
              " 'cyst',\n",
              " 'gait',\n",
              " 'seems',\n",
              " 'flu',\n",
              " 'interactions',\n",
              " 'type',\n",
              " 'manic',\n",
              " 'focusing',\n",
              " 'hurts',\n",
              " 'say',\n",
              " 'enzyme',\n",
              " 'using',\n",
              " 'density',\n",
              " 'metabolic',\n",
              " '--',\n",
              " 'exhausted',\n",
              " 'wake',\n",
              " 'local',\n",
              " 'action',\n",
              " 'permanent',\n",
              " 'acne',\n",
              " 'during',\n",
              " 'substance',\n",
              " '\"',\n",
              " 'alkalosis',\n",
              " 'shaking',\n",
              " 'anxious',\n",
              " 'retention',\n",
              " 'worth',\n",
              " 'porphyria',\n",
              " 'distracted',\n",
              " 'deafness',\n",
              " 'rather',\n",
              " 'keep',\n",
              " 'delayed',\n",
              " 'temperature',\n",
              " 'where',\n",
              " 'hdl',\n",
              " 'prostate',\n",
              " 'dosage',\n",
              " 'epilepsy',\n",
              " 'negative',\n",
              " 'website',\n",
              " 'abscess',\n",
              " 'lowering',\n",
              " 'secondary',\n",
              " 'natural',\n",
              " 'eyelid',\n",
              " 'extremely',\n",
              " 'hit',\n",
              " 'ulcerative',\n",
              " 'sickness',\n",
              " 'thing',\n",
              " 'believe',\n",
              " 'why',\n",
              " 'fucked',\n",
              " 'probably',\n",
              " 'atrophic',\n",
              " 'deficiency',\n",
              " 'motor',\n",
              " 'fucking',\n",
              " 'bruxism',\n",
              " 'affect',\n",
              " 'antisocial',\n",
              " 'syndromes',\n",
              " 'purpura',\n",
              " 'steroid',\n",
              " 'generalised',\n",
              " 'artery',\n",
              " '50',\n",
              " 'far',\n",
              " 'elbow',\n",
              " 'conjunctivitis',\n",
              " 'embolism',\n",
              " 'him',\n",
              " 'cystitis',\n",
              " 'hypersomnia',\n",
              " 'ovarian',\n",
              " 'water',\n",
              " 'retinal',\n",
              " 'ratio',\n",
              " 'trouble',\n",
              " 'ischemia',\n",
              " 'surgery',\n",
              " 'pounding',\n",
              " 'balance',\n",
              " 'miss',\n",
              " 'such',\n",
              " 'anorexia',\n",
              " 'hypertrophy',\n",
              " 'macular',\n",
              " 'constipation',\n",
              " 'epidermal',\n",
              " 'hips',\n",
              " 'self',\n",
              " 'obstructive',\n",
              " 'empty',\n",
              " 'tightness',\n",
              " 'neuralgia',\n",
              " 'own',\n",
              " 'intolerance',\n",
              " 'hope',\n",
              " 'toes',\n",
              " 'those',\n",
              " 'scared',\n",
              " 'otitis',\n",
              " 'active',\n",
              " 'immune',\n",
              " 'else',\n",
              " 'triglycerides',\n",
              " 'related',\n",
              " 'zaps',\n",
              " 'doc',\n",
              " 'experience',\n",
              " 'bullous',\n",
              " 'zocor',\n",
              " 'leukemia',\n",
              " 'ocular',\n",
              " 'viral',\n",
              " 'arteritis',\n",
              " 'improvement',\n",
              " 'tendon',\n",
              " 'slept',\n",
              " 'nail',\n",
              " 'toxicity',\n",
              " 'erythematosus',\n",
              " 'lesion',\n",
              " 'mellitus',\n",
              " 'thrombosis',\n",
              " 'rupture',\n",
              " 'each',\n",
              " 'coronary',\n",
              " 'herpes',\n",
              " 'increase',\n",
              " 'myopathy',\n",
              " 'worked',\n",
              " 'eruptions',\n",
              " 'prothrombin',\n",
              " 'rate',\n",
              " 'diagnosed',\n",
              " 'adrenal',\n",
              " 'fibrillation',\n",
              " 'discoloration',\n",
              " 'intestinal',\n",
              " 'new',\n",
              " 'sinusitis',\n",
              " 'behaviour',\n",
              " 'poor',\n",
              " 'become',\n",
              " 'raised',\n",
              " 'pills',\n",
              " 'accidental',\n",
              " 'add',\n",
              " 'thinness',\n",
              " 'heartburn',\n",
              " 'toxic',\n",
              " 'others',\n",
              " 'hearing',\n",
              " 'hangover',\n",
              " 'etc',\n",
              " 'entire',\n",
              " 'influenza',\n",
              " 'pm',\n",
              " 'inability',\n",
              " 'break',\n",
              " 'thinning',\n",
              " 'feels',\n",
              " 'fat',\n",
              " 'stool',\n",
              " 'eaten',\n",
              " 'starting',\n",
              " 'similar',\n",
              " 'knock',\n",
              " 'decided',\n",
              " 'rectal',\n",
              " 'ankles',\n",
              " 'everything',\n",
              " 'worst',\n",
              " 'cortisone',\n",
              " 'associated',\n",
              " 'point',\n",
              " 'shock',\n",
              " 'enough',\n",
              " 'blindness',\n",
              " 'possible',\n",
              " 'monster',\n",
              " 'burn',\n",
              " 'control',\n",
              " 'hyperplasia',\n",
              " 'bitch',\n",
              " 'vein',\n",
              " 'keeping',\n",
              " 'nephritis',\n",
              " 'tell',\n",
              " 'calcium',\n",
              " 'white',\n",
              " 'physical',\n",
              " 'pancreatitis',\n",
              " 'soreness',\n",
              " 'fell',\n",
              " 'menstruation',\n",
              " 'ok',\n",
              " 'became',\n",
              " 'pissed',\n",
              " 'pregnancy',\n",
              " 'forgetfulness',\n",
              " 'erectile',\n",
              " 'serious',\n",
              " 'second',\n",
              " 'issues',\n",
              " 'switched',\n",
              " 'stairs',\n",
              " 'yawning',\n",
              " 'tiredness',\n",
              " 'diastolic',\n",
              " 'period',\n",
              " 'eczema',\n",
              " 'miserable',\n",
              " 'disorientation',\n",
              " 'continue',\n",
              " 'house',\n",
              " 'although',\n",
              " 'concentrate',\n",
              " 'per',\n",
              " 'arterial',\n",
              " 'used',\n",
              " 'nodule',\n",
              " 'dropped',\n",
              " 'mania',\n",
              " 'cramp',\n",
              " 'twice',\n",
              " 'common',\n",
              " 'gradually',\n",
              " 'polyps',\n",
              " 'multiple',\n",
              " 'healthy',\n",
              " 'uric',\n",
              " 'contact',\n",
              " 'conjunctival',\n",
              " 'coagulation',\n",
              " 'hormone',\n",
              " 'suffered',\n",
              " 'actual',\n",
              " 'itchy',\n",
              " 'aggressive',\n",
              " 'fibrosis',\n",
              " 'psychiatric',\n",
              " 'cataract',\n",
              " 'sad',\n",
              " 'dangerous',\n",
              " 'extremities',\n",
              " 'changed',\n",
              " 'vaginitis',\n",
              " 'totally',\n",
              " 'stenosis',\n",
              " 'infusion',\n",
              " 'flare',\n",
              " 'discharge',\n",
              " 'erosion',\n",
              " 'cut',\n",
              " 'risk',\n",
              " 'systolic',\n",
              " 'might',\n",
              " 'shit',\n",
              " 'psychological',\n",
              " ...]"
            ]
          },
          "metadata": {
            "tags": []
          },
          "execution_count": 18
        }
      ]
    },
    {
      "cell_type": "code",
      "metadata": {
        "id": "yPWr03mls3VT",
        "outputId": "becdb15a-3c43-4247-9de8-ae5750e72b29",
        "colab": {
          "base_uri": "https://localhost:8080/",
          "height": 17
        }
      },
      "source": [
        "model_path = path/'models'\n",
        "model_path.mkdir(exist_ok=True)\n",
        "url = 'http://files.fast.ai/models/wt103_v1/'\n",
        "download_url(f'{url}lstm_wt103.pth', model_path/'lstm_wt103.pth')\n",
        "download_url(f'{url}itos_wt103.pkl', model_path/'itos_wt103.pkl')"
      ],
      "execution_count": 19,
      "outputs": [
        {
          "output_type": "display_data",
          "data": {
            "text/html": [
              ""
            ],
            "text/plain": [
              "<IPython.core.display.HTML object>"
            ]
          },
          "metadata": {
            "tags": []
          }
        },
        {
          "output_type": "display_data",
          "data": {
            "text/html": [
              ""
            ],
            "text/plain": [
              "<IPython.core.display.HTML object>"
            ]
          },
          "metadata": {
            "tags": []
          }
        }
      ]
    },
    {
      "cell_type": "code",
      "metadata": {
        "id": "JRzvWg8RtGGr",
        "outputId": "6413f5dc-7a32-4da5-9555-738d6aa16353",
        "colab": {
          "base_uri": "https://localhost:8080/",
          "height": 34
        }
      },
      "source": [
        "learn = language_model_learner(data_lm, AWD_LSTM, drop_mult=0.5)"
      ],
      "execution_count": 20,
      "outputs": [
        {
          "output_type": "stream",
          "text": [
            "Downloading https://s3.amazonaws.com/fast-ai-modelzoo/wt103-fwd.tgz\n"
          ],
          "name": "stdout"
        },
        {
          "output_type": "display_data",
          "data": {
            "text/html": [
              ""
            ],
            "text/plain": [
              "<IPython.core.display.HTML object>"
            ]
          },
          "metadata": {
            "tags": []
          }
        }
      ]
    },
    {
      "cell_type": "code",
      "metadata": {
        "id": "xKK7GeBev7Xn",
        "outputId": "d7744373-01da-459c-f2b4-1e6050ada7e2",
        "colab": {
          "base_uri": "https://localhost:8080/",
          "height": 80
        }
      },
      "source": [
        "learn.fit_one_cycle(1, 1e-2)"
      ],
      "execution_count": 21,
      "outputs": [
        {
          "output_type": "display_data",
          "data": {
            "text/html": [
              "<table border=\"1\" class=\"dataframe\">\n",
              "  <thead>\n",
              "    <tr style=\"text-align: left;\">\n",
              "      <th>epoch</th>\n",
              "      <th>train_loss</th>\n",
              "      <th>valid_loss</th>\n",
              "      <th>accuracy</th>\n",
              "      <th>time</th>\n",
              "    </tr>\n",
              "  </thead>\n",
              "  <tbody>\n",
              "    <tr>\n",
              "      <td>0</td>\n",
              "      <td>4.284174</td>\n",
              "      <td>3.469149</td>\n",
              "      <td>0.426479</td>\n",
              "      <td>08:06</td>\n",
              "    </tr>\n",
              "  </tbody>\n",
              "</table>"
            ],
            "text/plain": [
              "<IPython.core.display.HTML object>"
            ]
          },
          "metadata": {
            "tags": []
          }
        }
      ]
    },
    {
      "cell_type": "code",
      "metadata": {
        "id": "iB7rHGQCwd12",
        "outputId": "aebeb7a3-4fff-4384-dfdf-ca602919a51d",
        "colab": {
          "base_uri": "https://localhost:8080/",
          "height": 80
        }
      },
      "source": [
        "learn.fit_one_cycle(1, 1e-2)"
      ],
      "execution_count": 22,
      "outputs": [
        {
          "output_type": "display_data",
          "data": {
            "text/html": [
              "<table border=\"1\" class=\"dataframe\">\n",
              "  <thead>\n",
              "    <tr style=\"text-align: left;\">\n",
              "      <th>epoch</th>\n",
              "      <th>train_loss</th>\n",
              "      <th>valid_loss</th>\n",
              "      <th>accuracy</th>\n",
              "      <th>time</th>\n",
              "    </tr>\n",
              "  </thead>\n",
              "  <tbody>\n",
              "    <tr>\n",
              "      <td>0</td>\n",
              "      <td>3.290010</td>\n",
              "      <td>3.041438</td>\n",
              "      <td>0.484319</td>\n",
              "      <td>08:02</td>\n",
              "    </tr>\n",
              "  </tbody>\n",
              "</table>"
            ],
            "text/plain": [
              "<IPython.core.display.HTML object>"
            ]
          },
          "metadata": {
            "tags": []
          }
        }
      ]
    },
    {
      "cell_type": "code",
      "metadata": {
        "id": "_BnSuAeCwkBe",
        "outputId": "83816e00-dc34-4a46-b595-e79726230091",
        "colab": {
          "base_uri": "https://localhost:8080/",
          "height": 80
        }
      },
      "source": [
        "learn.fit_one_cycle(1, 1e-3)"
      ],
      "execution_count": 23,
      "outputs": [
        {
          "output_type": "display_data",
          "data": {
            "text/html": [
              "<table border=\"1\" class=\"dataframe\">\n",
              "  <thead>\n",
              "    <tr style=\"text-align: left;\">\n",
              "      <th>epoch</th>\n",
              "      <th>train_loss</th>\n",
              "      <th>valid_loss</th>\n",
              "      <th>accuracy</th>\n",
              "      <th>time</th>\n",
              "    </tr>\n",
              "  </thead>\n",
              "  <tbody>\n",
              "    <tr>\n",
              "      <td>0</td>\n",
              "      <td>3.044009</td>\n",
              "      <td>3.007803</td>\n",
              "      <td>0.487751</td>\n",
              "      <td>08:02</td>\n",
              "    </tr>\n",
              "  </tbody>\n",
              "</table>"
            ],
            "text/plain": [
              "<IPython.core.display.HTML object>"
            ]
          },
          "metadata": {
            "tags": []
          }
        }
      ]
    },
    {
      "cell_type": "code",
      "metadata": {
        "id": "MuTm-RFjwrEX",
        "outputId": "68b5bb77-f3e6-4506-fb63-ab73250d6937",
        "colab": {
          "base_uri": "https://localhost:8080/",
          "height": 80
        }
      },
      "source": [
        "learn.fit_one_cycle(1, 1e-3)"
      ],
      "execution_count": 24,
      "outputs": [
        {
          "output_type": "display_data",
          "data": {
            "text/html": [
              "<table border=\"1\" class=\"dataframe\">\n",
              "  <thead>\n",
              "    <tr style=\"text-align: left;\">\n",
              "      <th>epoch</th>\n",
              "      <th>train_loss</th>\n",
              "      <th>valid_loss</th>\n",
              "      <th>accuracy</th>\n",
              "      <th>time</th>\n",
              "    </tr>\n",
              "  </thead>\n",
              "  <tbody>\n",
              "    <tr>\n",
              "      <td>0</td>\n",
              "      <td>3.017215</td>\n",
              "      <td>2.979372</td>\n",
              "      <td>0.490792</td>\n",
              "      <td>08:01</td>\n",
              "    </tr>\n",
              "  </tbody>\n",
              "</table>"
            ],
            "text/plain": [
              "<IPython.core.display.HTML object>"
            ]
          },
          "metadata": {
            "tags": []
          }
        }
      ]
    },
    {
      "cell_type": "code",
      "metadata": {
        "id": "1Er2ExO8wr7Y"
      },
      "source": [
        "learn.save_encoder('TwADR-cadec_fold2_first')"
      ],
      "execution_count": 25,
      "outputs": []
    },
    {
      "cell_type": "code",
      "metadata": {
        "id": "z52cZs2qwvad",
        "outputId": "22e49c87-f03c-47f8-c58a-ea32de37df5c",
        "colab": {
          "base_uri": "https://localhost:8080/",
          "height": 80
        }
      },
      "source": [
        "learn = text_classifier_learner(data_clas,AWD_LSTM, drop_mult=0.5)\n",
        "learn.load_encoder('TwADR-cadec_fold2_first')\n",
        "learn.fit_one_cycle(1, 1e-2)"
      ],
      "execution_count": 26,
      "outputs": [
        {
          "output_type": "display_data",
          "data": {
            "text/html": [
              "<table border=\"1\" class=\"dataframe\">\n",
              "  <thead>\n",
              "    <tr style=\"text-align: left;\">\n",
              "      <th>epoch</th>\n",
              "      <th>train_loss</th>\n",
              "      <th>valid_loss</th>\n",
              "      <th>accuracy</th>\n",
              "      <th>time</th>\n",
              "    </tr>\n",
              "  </thead>\n",
              "  <tbody>\n",
              "    <tr>\n",
              "      <td>0</td>\n",
              "      <td>7.191018</td>\n",
              "      <td>6.355796</td>\n",
              "      <td>0.107143</td>\n",
              "      <td>00:22</td>\n",
              "    </tr>\n",
              "  </tbody>\n",
              "</table>"
            ],
            "text/plain": [
              "<IPython.core.display.HTML object>"
            ]
          },
          "metadata": {
            "tags": []
          }
        }
      ]
    },
    {
      "cell_type": "code",
      "metadata": {
        "id": "ImwQP1PJwzxd",
        "outputId": "ab610e4c-d2e2-417c-9718-83d39e90a2b8",
        "colab": {
          "base_uri": "https://localhost:8080/",
          "height": 80
        }
      },
      "source": [
        "learn.freeze_to(-2)\n",
        "learn.fit_one_cycle(1, slice(5e-3/2., 5e-3))"
      ],
      "execution_count": 27,
      "outputs": [
        {
          "output_type": "display_data",
          "data": {
            "text/html": [
              "<table border=\"1\" class=\"dataframe\">\n",
              "  <thead>\n",
              "    <tr style=\"text-align: left;\">\n",
              "      <th>epoch</th>\n",
              "      <th>train_loss</th>\n",
              "      <th>valid_loss</th>\n",
              "      <th>accuracy</th>\n",
              "      <th>time</th>\n",
              "    </tr>\n",
              "  </thead>\n",
              "  <tbody>\n",
              "    <tr>\n",
              "      <td>0</td>\n",
              "      <td>6.243910</td>\n",
              "      <td>5.409770</td>\n",
              "      <td>0.164286</td>\n",
              "      <td>00:23</td>\n",
              "    </tr>\n",
              "  </tbody>\n",
              "</table>"
            ],
            "text/plain": [
              "<IPython.core.display.HTML object>"
            ]
          },
          "metadata": {
            "tags": []
          }
        }
      ]
    },
    {
      "cell_type": "code",
      "metadata": {
        "id": "Owff_BJXw53u",
        "outputId": "ecc77ab6-9fee-487f-bf26-53821e58f052",
        "colab": {
          "base_uri": "https://localhost:8080/",
          "height": 80
        }
      },
      "source": [
        "learn.unfreeze()\n",
        "learn.fit_one_cycle(1, slice(2e-3/100, 2e-3))"
      ],
      "execution_count": 28,
      "outputs": [
        {
          "output_type": "display_data",
          "data": {
            "text/html": [
              "<table border=\"1\" class=\"dataframe\">\n",
              "  <thead>\n",
              "    <tr style=\"text-align: left;\">\n",
              "      <th>epoch</th>\n",
              "      <th>train_loss</th>\n",
              "      <th>valid_loss</th>\n",
              "      <th>accuracy</th>\n",
              "      <th>time</th>\n",
              "    </tr>\n",
              "  </thead>\n",
              "  <tbody>\n",
              "    <tr>\n",
              "      <td>0</td>\n",
              "      <td>5.808930</td>\n",
              "      <td>5.023649</td>\n",
              "      <td>0.221429</td>\n",
              "      <td>00:58</td>\n",
              "    </tr>\n",
              "  </tbody>\n",
              "</table>"
            ],
            "text/plain": [
              "<IPython.core.display.HTML object>"
            ]
          },
          "metadata": {
            "tags": []
          }
        }
      ]
    },
    {
      "cell_type": "code",
      "metadata": {
        "id": "lqAyu56V8Waq",
        "outputId": "fa851372-e781-4dc4-d954-51663a9ff38d",
        "colab": {
          "base_uri": "https://localhost:8080/",
          "height": 111
        }
      },
      "source": [
        "learn.fit_one_cycle(2, slice(2e-3/100, 2e-3))"
      ],
      "execution_count": 29,
      "outputs": [
        {
          "output_type": "display_data",
          "data": {
            "text/html": [
              "<table border=\"1\" class=\"dataframe\">\n",
              "  <thead>\n",
              "    <tr style=\"text-align: left;\">\n",
              "      <th>epoch</th>\n",
              "      <th>train_loss</th>\n",
              "      <th>valid_loss</th>\n",
              "      <th>accuracy</th>\n",
              "      <th>time</th>\n",
              "    </tr>\n",
              "  </thead>\n",
              "  <tbody>\n",
              "    <tr>\n",
              "      <td>0</td>\n",
              "      <td>5.467628</td>\n",
              "      <td>4.650749</td>\n",
              "      <td>0.235714</td>\n",
              "      <td>00:58</td>\n",
              "    </tr>\n",
              "    <tr>\n",
              "      <td>1</td>\n",
              "      <td>5.283749</td>\n",
              "      <td>4.490212</td>\n",
              "      <td>0.264286</td>\n",
              "      <td>00:58</td>\n",
              "    </tr>\n",
              "  </tbody>\n",
              "</table>"
            ],
            "text/plain": [
              "<IPython.core.display.HTML object>"
            ]
          },
          "metadata": {
            "tags": []
          }
        }
      ]
    },
    {
      "cell_type": "code",
      "metadata": {
        "id": "a7I1xMRp8bUd",
        "outputId": "8a09cba2-348a-43dc-9a55-cac46b7dd3b9",
        "colab": {
          "base_uri": "https://localhost:8080/",
          "height": 111
        }
      },
      "source": [
        "learn.fit_one_cycle(2, slice(2e-3/100, 2e-3))"
      ],
      "execution_count": 30,
      "outputs": [
        {
          "output_type": "display_data",
          "data": {
            "text/html": [
              "<table border=\"1\" class=\"dataframe\">\n",
              "  <thead>\n",
              "    <tr style=\"text-align: left;\">\n",
              "      <th>epoch</th>\n",
              "      <th>train_loss</th>\n",
              "      <th>valid_loss</th>\n",
              "      <th>accuracy</th>\n",
              "      <th>time</th>\n",
              "    </tr>\n",
              "  </thead>\n",
              "  <tbody>\n",
              "    <tr>\n",
              "      <td>0</td>\n",
              "      <td>4.982731</td>\n",
              "      <td>4.154720</td>\n",
              "      <td>0.300000</td>\n",
              "      <td>01:00</td>\n",
              "    </tr>\n",
              "    <tr>\n",
              "      <td>1</td>\n",
              "      <td>4.797934</td>\n",
              "      <td>4.036478</td>\n",
              "      <td>0.278571</td>\n",
              "      <td>00:59</td>\n",
              "    </tr>\n",
              "  </tbody>\n",
              "</table>"
            ],
            "text/plain": [
              "<IPython.core.display.HTML object>"
            ]
          },
          "metadata": {
            "tags": []
          }
        }
      ]
    },
    {
      "cell_type": "code",
      "metadata": {
        "id": "UAnti-XmGVfO",
        "outputId": "345a9ab6-1b21-458d-f772-68b810ee313a",
        "colab": {
          "base_uri": "https://localhost:8080/",
          "height": 111
        }
      },
      "source": [
        "learn.fit_one_cycle(2, slice(2e-3/100, 2e-3))"
      ],
      "execution_count": 31,
      "outputs": [
        {
          "output_type": "display_data",
          "data": {
            "text/html": [
              "<table border=\"1\" class=\"dataframe\">\n",
              "  <thead>\n",
              "    <tr style=\"text-align: left;\">\n",
              "      <th>epoch</th>\n",
              "      <th>train_loss</th>\n",
              "      <th>valid_loss</th>\n",
              "      <th>accuracy</th>\n",
              "      <th>time</th>\n",
              "    </tr>\n",
              "  </thead>\n",
              "  <tbody>\n",
              "    <tr>\n",
              "      <td>0</td>\n",
              "      <td>4.572432</td>\n",
              "      <td>3.841286</td>\n",
              "      <td>0.314286</td>\n",
              "      <td>00:56</td>\n",
              "    </tr>\n",
              "    <tr>\n",
              "      <td>1</td>\n",
              "      <td>4.429288</td>\n",
              "      <td>3.805712</td>\n",
              "      <td>0.328571</td>\n",
              "      <td>00:58</td>\n",
              "    </tr>\n",
              "  </tbody>\n",
              "</table>"
            ],
            "text/plain": [
              "<IPython.core.display.HTML object>"
            ]
          },
          "metadata": {
            "tags": []
          }
        }
      ]
    },
    {
      "cell_type": "code",
      "metadata": {
        "id": "bIft7W25GwSu",
        "outputId": "2bd6226d-59a4-429c-85d0-096049210ec3",
        "colab": {
          "base_uri": "https://localhost:8080/",
          "height": 111
        }
      },
      "source": [
        "learn.fit_one_cycle(2, slice(2e-3/100, 2e-3))"
      ],
      "execution_count": 32,
      "outputs": [
        {
          "output_type": "display_data",
          "data": {
            "text/html": [
              "<table border=\"1\" class=\"dataframe\">\n",
              "  <thead>\n",
              "    <tr style=\"text-align: left;\">\n",
              "      <th>epoch</th>\n",
              "      <th>train_loss</th>\n",
              "      <th>valid_loss</th>\n",
              "      <th>accuracy</th>\n",
              "      <th>time</th>\n",
              "    </tr>\n",
              "  </thead>\n",
              "  <tbody>\n",
              "    <tr>\n",
              "      <td>0</td>\n",
              "      <td>4.203556</td>\n",
              "      <td>3.661320</td>\n",
              "      <td>0.321429</td>\n",
              "      <td>00:57</td>\n",
              "    </tr>\n",
              "    <tr>\n",
              "      <td>1</td>\n",
              "      <td>4.056888</td>\n",
              "      <td>3.602844</td>\n",
              "      <td>0.357143</td>\n",
              "      <td>00:58</td>\n",
              "    </tr>\n",
              "  </tbody>\n",
              "</table>"
            ],
            "text/plain": [
              "<IPython.core.display.HTML object>"
            ]
          },
          "metadata": {
            "tags": []
          }
        }
      ]
    },
    {
      "cell_type": "code",
      "metadata": {
        "id": "EEHszVRvGyFt",
        "outputId": "d9958462-ae51-4d2f-ed93-23835761436a",
        "colab": {
          "base_uri": "https://localhost:8080/",
          "height": 111
        }
      },
      "source": [
        "learn.fit_one_cycle(2, slice(2e-3/100, 2e-3))"
      ],
      "execution_count": 33,
      "outputs": [
        {
          "output_type": "display_data",
          "data": {
            "text/html": [
              "<table border=\"1\" class=\"dataframe\">\n",
              "  <thead>\n",
              "    <tr style=\"text-align: left;\">\n",
              "      <th>epoch</th>\n",
              "      <th>train_loss</th>\n",
              "      <th>valid_loss</th>\n",
              "      <th>accuracy</th>\n",
              "      <th>time</th>\n",
              "    </tr>\n",
              "  </thead>\n",
              "  <tbody>\n",
              "    <tr>\n",
              "      <td>0</td>\n",
              "      <td>3.911967</td>\n",
              "      <td>3.535796</td>\n",
              "      <td>0.364286</td>\n",
              "      <td>00:56</td>\n",
              "    </tr>\n",
              "    <tr>\n",
              "      <td>1</td>\n",
              "      <td>3.721219</td>\n",
              "      <td>3.467612</td>\n",
              "      <td>0.378571</td>\n",
              "      <td>00:57</td>\n",
              "    </tr>\n",
              "  </tbody>\n",
              "</table>"
            ],
            "text/plain": [
              "<IPython.core.display.HTML object>"
            ]
          },
          "metadata": {
            "tags": []
          }
        }
      ]
    },
    {
      "cell_type": "code",
      "metadata": {
        "id": "XsHfrhCHG3dN",
        "outputId": "a8a4710b-e513-48e1-9eb4-0f2ddddd4f88",
        "colab": {
          "base_uri": "https://localhost:8080/",
          "height": 173
        }
      },
      "source": [
        "learn.fit_one_cycle(4, slice(2e-3/100, 2e-3))"
      ],
      "execution_count": 34,
      "outputs": [
        {
          "output_type": "display_data",
          "data": {
            "text/html": [
              "<table border=\"1\" class=\"dataframe\">\n",
              "  <thead>\n",
              "    <tr style=\"text-align: left;\">\n",
              "      <th>epoch</th>\n",
              "      <th>train_loss</th>\n",
              "      <th>valid_loss</th>\n",
              "      <th>accuracy</th>\n",
              "      <th>time</th>\n",
              "    </tr>\n",
              "  </thead>\n",
              "  <tbody>\n",
              "    <tr>\n",
              "      <td>0</td>\n",
              "      <td>3.555582</td>\n",
              "      <td>3.448079</td>\n",
              "      <td>0.392857</td>\n",
              "      <td>00:56</td>\n",
              "    </tr>\n",
              "    <tr>\n",
              "      <td>1</td>\n",
              "      <td>3.486620</td>\n",
              "      <td>3.388064</td>\n",
              "      <td>0.335714</td>\n",
              "      <td>01:00</td>\n",
              "    </tr>\n",
              "    <tr>\n",
              "      <td>2</td>\n",
              "      <td>3.301610</td>\n",
              "      <td>3.291774</td>\n",
              "      <td>0.378571</td>\n",
              "      <td>00:59</td>\n",
              "    </tr>\n",
              "    <tr>\n",
              "      <td>3</td>\n",
              "      <td>3.135826</td>\n",
              "      <td>3.285598</td>\n",
              "      <td>0.407143</td>\n",
              "      <td>00:56</td>\n",
              "    </tr>\n",
              "  </tbody>\n",
              "</table>"
            ],
            "text/plain": [
              "<IPython.core.display.HTML object>"
            ]
          },
          "metadata": {
            "tags": []
          }
        }
      ]
    },
    {
      "cell_type": "code",
      "metadata": {
        "id": "0Zsd99isb9EQ",
        "outputId": "a3aceab9-6d69-4544-a226-696d984c3e0d",
        "colab": {
          "base_uri": "https://localhost:8080/",
          "height": 173
        }
      },
      "source": [
        "learn.fit_one_cycle(4, slice(2e-3/100, 2e-3))"
      ],
      "execution_count": 35,
      "outputs": [
        {
          "output_type": "display_data",
          "data": {
            "text/html": [
              "<table border=\"1\" class=\"dataframe\">\n",
              "  <thead>\n",
              "    <tr style=\"text-align: left;\">\n",
              "      <th>epoch</th>\n",
              "      <th>train_loss</th>\n",
              "      <th>valid_loss</th>\n",
              "      <th>accuracy</th>\n",
              "      <th>time</th>\n",
              "    </tr>\n",
              "  </thead>\n",
              "  <tbody>\n",
              "    <tr>\n",
              "      <td>0</td>\n",
              "      <td>3.002877</td>\n",
              "      <td>3.303468</td>\n",
              "      <td>0.364286</td>\n",
              "      <td>01:00</td>\n",
              "    </tr>\n",
              "    <tr>\n",
              "      <td>1</td>\n",
              "      <td>2.908903</td>\n",
              "      <td>3.219060</td>\n",
              "      <td>0.421429</td>\n",
              "      <td>01:03</td>\n",
              "    </tr>\n",
              "    <tr>\n",
              "      <td>2</td>\n",
              "      <td>2.742855</td>\n",
              "      <td>3.200720</td>\n",
              "      <td>0.407143</td>\n",
              "      <td>00:58</td>\n",
              "    </tr>\n",
              "    <tr>\n",
              "      <td>3</td>\n",
              "      <td>2.578526</td>\n",
              "      <td>3.186763</td>\n",
              "      <td>0.421429</td>\n",
              "      <td>00:57</td>\n",
              "    </tr>\n",
              "  </tbody>\n",
              "</table>"
            ],
            "text/plain": [
              "<IPython.core.display.HTML object>"
            ]
          },
          "metadata": {
            "tags": []
          }
        }
      ]
    },
    {
      "cell_type": "code",
      "metadata": {
        "id": "atNWNKDFPbuI",
        "outputId": "0147d470-cf4c-4cab-dbc5-9ab5f155b619",
        "colab": {
          "base_uri": "https://localhost:8080/",
          "height": 173
        }
      },
      "source": [
        "learn.fit_one_cycle(4, slice(2e-3/100, 2e-3))"
      ],
      "execution_count": 36,
      "outputs": [
        {
          "output_type": "display_data",
          "data": {
            "text/html": [
              "<table border=\"1\" class=\"dataframe\">\n",
              "  <thead>\n",
              "    <tr style=\"text-align: left;\">\n",
              "      <th>epoch</th>\n",
              "      <th>train_loss</th>\n",
              "      <th>valid_loss</th>\n",
              "      <th>accuracy</th>\n",
              "      <th>time</th>\n",
              "    </tr>\n",
              "  </thead>\n",
              "  <tbody>\n",
              "    <tr>\n",
              "      <td>0</td>\n",
              "      <td>2.438857</td>\n",
              "      <td>3.200184</td>\n",
              "      <td>0.421429</td>\n",
              "      <td>00:59</td>\n",
              "    </tr>\n",
              "    <tr>\n",
              "      <td>1</td>\n",
              "      <td>2.373379</td>\n",
              "      <td>3.286238</td>\n",
              "      <td>0.392857</td>\n",
              "      <td>00:58</td>\n",
              "    </tr>\n",
              "    <tr>\n",
              "      <td>2</td>\n",
              "      <td>2.206403</td>\n",
              "      <td>3.248786</td>\n",
              "      <td>0.400000</td>\n",
              "      <td>01:02</td>\n",
              "    </tr>\n",
              "    <tr>\n",
              "      <td>3</td>\n",
              "      <td>2.069679</td>\n",
              "      <td>3.234032</td>\n",
              "      <td>0.421429</td>\n",
              "      <td>01:02</td>\n",
              "    </tr>\n",
              "  </tbody>\n",
              "</table>"
            ],
            "text/plain": [
              "<IPython.core.display.HTML object>"
            ]
          },
          "metadata": {
            "tags": []
          }
        }
      ]
    },
    {
      "cell_type": "code",
      "metadata": {
        "id": "rKrBTZ0T1uVA",
        "outputId": "295219a3-de5b-4ee5-db4c-30a5793b0490",
        "colab": {
          "base_uri": "https://localhost:8080/",
          "height": 173
        }
      },
      "source": [
        "learn.fit_one_cycle(4, slice(2e-3/100, 2e-3))"
      ],
      "execution_count": 37,
      "outputs": [
        {
          "output_type": "display_data",
          "data": {
            "text/html": [
              "<table border=\"1\" class=\"dataframe\">\n",
              "  <thead>\n",
              "    <tr style=\"text-align: left;\">\n",
              "      <th>epoch</th>\n",
              "      <th>train_loss</th>\n",
              "      <th>valid_loss</th>\n",
              "      <th>accuracy</th>\n",
              "      <th>time</th>\n",
              "    </tr>\n",
              "  </thead>\n",
              "  <tbody>\n",
              "    <tr>\n",
              "      <td>0</td>\n",
              "      <td>1.910596</td>\n",
              "      <td>3.247226</td>\n",
              "      <td>0.414286</td>\n",
              "      <td>00:56</td>\n",
              "    </tr>\n",
              "    <tr>\n",
              "      <td>1</td>\n",
              "      <td>1.899622</td>\n",
              "      <td>3.354410</td>\n",
              "      <td>0.435714</td>\n",
              "      <td>00:58</td>\n",
              "    </tr>\n",
              "    <tr>\n",
              "      <td>2</td>\n",
              "      <td>1.769787</td>\n",
              "      <td>3.343515</td>\n",
              "      <td>0.400000</td>\n",
              "      <td>01:00</td>\n",
              "    </tr>\n",
              "    <tr>\n",
              "      <td>3</td>\n",
              "      <td>1.630823</td>\n",
              "      <td>3.351908</td>\n",
              "      <td>0.414286</td>\n",
              "      <td>00:57</td>\n",
              "    </tr>\n",
              "  </tbody>\n",
              "</table>"
            ],
            "text/plain": [
              "<IPython.core.display.HTML object>"
            ]
          },
          "metadata": {
            "tags": []
          }
        }
      ]
    },
    {
      "cell_type": "code",
      "metadata": {
        "id": "ajQC6WDg1yA9",
        "outputId": "33ee82b0-068a-400e-96ed-ffeff5051f75",
        "colab": {
          "base_uri": "https://localhost:8080/",
          "height": 173
        }
      },
      "source": [
        "learn.fit_one_cycle(4, slice(2e-3/100, 2e-3))"
      ],
      "execution_count": 38,
      "outputs": [
        {
          "output_type": "display_data",
          "data": {
            "text/html": [
              "<table border=\"1\" class=\"dataframe\">\n",
              "  <thead>\n",
              "    <tr style=\"text-align: left;\">\n",
              "      <th>epoch</th>\n",
              "      <th>train_loss</th>\n",
              "      <th>valid_loss</th>\n",
              "      <th>accuracy</th>\n",
              "      <th>time</th>\n",
              "    </tr>\n",
              "  </thead>\n",
              "  <tbody>\n",
              "    <tr>\n",
              "      <td>0</td>\n",
              "      <td>1.573858</td>\n",
              "      <td>3.373995</td>\n",
              "      <td>0.435714</td>\n",
              "      <td>01:00</td>\n",
              "    </tr>\n",
              "    <tr>\n",
              "      <td>1</td>\n",
              "      <td>1.558301</td>\n",
              "      <td>3.458032</td>\n",
              "      <td>0.414286</td>\n",
              "      <td>01:01</td>\n",
              "    </tr>\n",
              "    <tr>\n",
              "      <td>2</td>\n",
              "      <td>1.409669</td>\n",
              "      <td>3.450265</td>\n",
              "      <td>0.400000</td>\n",
              "      <td>00:57</td>\n",
              "    </tr>\n",
              "    <tr>\n",
              "      <td>3</td>\n",
              "      <td>1.305611</td>\n",
              "      <td>3.464326</td>\n",
              "      <td>0.400000</td>\n",
              "      <td>00:58</td>\n",
              "    </tr>\n",
              "  </tbody>\n",
              "</table>"
            ],
            "text/plain": [
              "<IPython.core.display.HTML object>"
            ]
          },
          "metadata": {
            "tags": []
          }
        }
      ]
    },
    {
      "cell_type": "code",
      "metadata": {
        "id": "KKydb0B4BKGk",
        "outputId": "146f48bd-94f0-49fe-c27a-b9322945d331",
        "colab": {
          "base_uri": "https://localhost:8080/",
          "height": 173
        }
      },
      "source": [
        "learn.fit_one_cycle(4, slice(2e-3/100, 2e-3))"
      ],
      "execution_count": 39,
      "outputs": [
        {
          "output_type": "display_data",
          "data": {
            "text/html": [
              "<table border=\"1\" class=\"dataframe\">\n",
              "  <thead>\n",
              "    <tr style=\"text-align: left;\">\n",
              "      <th>epoch</th>\n",
              "      <th>train_loss</th>\n",
              "      <th>valid_loss</th>\n",
              "      <th>accuracy</th>\n",
              "      <th>time</th>\n",
              "    </tr>\n",
              "  </thead>\n",
              "  <tbody>\n",
              "    <tr>\n",
              "      <td>0</td>\n",
              "      <td>1.181529</td>\n",
              "      <td>3.508908</td>\n",
              "      <td>0.357143</td>\n",
              "      <td>00:58</td>\n",
              "    </tr>\n",
              "    <tr>\n",
              "      <td>1</td>\n",
              "      <td>1.169187</td>\n",
              "      <td>3.532417</td>\n",
              "      <td>0.400000</td>\n",
              "      <td>01:02</td>\n",
              "    </tr>\n",
              "    <tr>\n",
              "      <td>2</td>\n",
              "      <td>1.110904</td>\n",
              "      <td>3.555407</td>\n",
              "      <td>0.421429</td>\n",
              "      <td>01:01</td>\n",
              "    </tr>\n",
              "    <tr>\n",
              "      <td>3</td>\n",
              "      <td>1.023707</td>\n",
              "      <td>3.604430</td>\n",
              "      <td>0.421429</td>\n",
              "      <td>00:57</td>\n",
              "    </tr>\n",
              "  </tbody>\n",
              "</table>"
            ],
            "text/plain": [
              "<IPython.core.display.HTML object>"
            ]
          },
          "metadata": {
            "tags": []
          }
        }
      ]
    },
    {
      "cell_type": "code",
      "metadata": {
        "id": "T2APKtFKBpGY",
        "outputId": "13eac343-6e94-45c9-a7d5-064d8c235d92",
        "colab": {
          "base_uri": "https://localhost:8080/",
          "height": 173
        }
      },
      "source": [
        "learn.fit_one_cycle(4, slice(2e-3/100, 2e-3))"
      ],
      "execution_count": 40,
      "outputs": [
        {
          "output_type": "display_data",
          "data": {
            "text/html": [
              "<table border=\"1\" class=\"dataframe\">\n",
              "  <thead>\n",
              "    <tr style=\"text-align: left;\">\n",
              "      <th>epoch</th>\n",
              "      <th>train_loss</th>\n",
              "      <th>valid_loss</th>\n",
              "      <th>accuracy</th>\n",
              "      <th>time</th>\n",
              "    </tr>\n",
              "  </thead>\n",
              "  <tbody>\n",
              "    <tr>\n",
              "      <td>0</td>\n",
              "      <td>0.938433</td>\n",
              "      <td>3.544840</td>\n",
              "      <td>0.407143</td>\n",
              "      <td>00:59</td>\n",
              "    </tr>\n",
              "    <tr>\n",
              "      <td>1</td>\n",
              "      <td>0.965595</td>\n",
              "      <td>3.666746</td>\n",
              "      <td>0.421429</td>\n",
              "      <td>00:59</td>\n",
              "    </tr>\n",
              "    <tr>\n",
              "      <td>2</td>\n",
              "      <td>0.889679</td>\n",
              "      <td>3.710457</td>\n",
              "      <td>0.414286</td>\n",
              "      <td>01:01</td>\n",
              "    </tr>\n",
              "    <tr>\n",
              "      <td>3</td>\n",
              "      <td>0.811069</td>\n",
              "      <td>3.730391</td>\n",
              "      <td>0.414286</td>\n",
              "      <td>01:01</td>\n",
              "    </tr>\n",
              "  </tbody>\n",
              "</table>"
            ],
            "text/plain": [
              "<IPython.core.display.HTML object>"
            ]
          },
          "metadata": {
            "tags": []
          }
        }
      ]
    },
    {
      "cell_type": "code",
      "metadata": {
        "id": "qtTypA1sPgLU",
        "outputId": "43fa25ac-8052-42da-9703-1c2d5846dee4",
        "colab": {
          "base_uri": "https://localhost:8080/",
          "height": 111
        }
      },
      "source": [
        "learn.fit_one_cycle(2, slice(2e-3/100, 2e-3))"
      ],
      "execution_count": 41,
      "outputs": [
        {
          "output_type": "display_data",
          "data": {
            "text/html": [
              "<table border=\"1\" class=\"dataframe\">\n",
              "  <thead>\n",
              "    <tr style=\"text-align: left;\">\n",
              "      <th>epoch</th>\n",
              "      <th>train_loss</th>\n",
              "      <th>valid_loss</th>\n",
              "      <th>accuracy</th>\n",
              "      <th>time</th>\n",
              "    </tr>\n",
              "  </thead>\n",
              "  <tbody>\n",
              "    <tr>\n",
              "      <td>0</td>\n",
              "      <td>0.782234</td>\n",
              "      <td>3.729173</td>\n",
              "      <td>0.421429</td>\n",
              "      <td>00:58</td>\n",
              "    </tr>\n",
              "    <tr>\n",
              "      <td>1</td>\n",
              "      <td>0.757459</td>\n",
              "      <td>3.774719</td>\n",
              "      <td>0.421429</td>\n",
              "      <td>00:59</td>\n",
              "    </tr>\n",
              "  </tbody>\n",
              "</table>"
            ],
            "text/plain": [
              "<IPython.core.display.HTML object>"
            ]
          },
          "metadata": {
            "tags": []
          }
        }
      ]
    },
    {
      "cell_type": "code",
      "metadata": {
        "id": "b242kBsTUp9Y",
        "outputId": "ad0e273c-32e6-4001-cace-fe3cf48b1d56",
        "colab": {
          "base_uri": "https://localhost:8080/",
          "height": 111
        }
      },
      "source": [
        "learn.fit_one_cycle(2, slice(2e-3/100, 2e-3))"
      ],
      "execution_count": 42,
      "outputs": [
        {
          "output_type": "display_data",
          "data": {
            "text/html": [
              "<table border=\"1\" class=\"dataframe\">\n",
              "  <thead>\n",
              "    <tr style=\"text-align: left;\">\n",
              "      <th>epoch</th>\n",
              "      <th>train_loss</th>\n",
              "      <th>valid_loss</th>\n",
              "      <th>accuracy</th>\n",
              "      <th>time</th>\n",
              "    </tr>\n",
              "  </thead>\n",
              "  <tbody>\n",
              "    <tr>\n",
              "      <td>0</td>\n",
              "      <td>0.718606</td>\n",
              "      <td>3.891943</td>\n",
              "      <td>0.400000</td>\n",
              "      <td>00:57</td>\n",
              "    </tr>\n",
              "    <tr>\n",
              "      <td>1</td>\n",
              "      <td>0.726332</td>\n",
              "      <td>3.940521</td>\n",
              "      <td>0.435714</td>\n",
              "      <td>00:59</td>\n",
              "    </tr>\n",
              "  </tbody>\n",
              "</table>"
            ],
            "text/plain": [
              "<IPython.core.display.HTML object>"
            ]
          },
          "metadata": {
            "tags": []
          }
        }
      ]
    },
    {
      "cell_type": "code",
      "metadata": {
        "id": "Duwf1Ih5VeDZ",
        "outputId": "998e3195-d8f1-4c7a-df78-b6534472a13d",
        "colab": {
          "base_uri": "https://localhost:8080/",
          "height": 80
        }
      },
      "source": [
        "learn.fit_one_cycle(1, slice(2e-3/100, 2e-3))"
      ],
      "execution_count": 43,
      "outputs": [
        {
          "output_type": "display_data",
          "data": {
            "text/html": [
              "<table border=\"1\" class=\"dataframe\">\n",
              "  <thead>\n",
              "    <tr style=\"text-align: left;\">\n",
              "      <th>epoch</th>\n",
              "      <th>train_loss</th>\n",
              "      <th>valid_loss</th>\n",
              "      <th>accuracy</th>\n",
              "      <th>time</th>\n",
              "    </tr>\n",
              "  </thead>\n",
              "  <tbody>\n",
              "    <tr>\n",
              "      <td>0</td>\n",
              "      <td>0.649350</td>\n",
              "      <td>3.892069</td>\n",
              "      <td>0.407143</td>\n",
              "      <td>00:59</td>\n",
              "    </tr>\n",
              "  </tbody>\n",
              "</table>"
            ],
            "text/plain": [
              "<IPython.core.display.HTML object>"
            ]
          },
          "metadata": {
            "tags": []
          }
        }
      ]
    },
    {
      "cell_type": "code",
      "metadata": {
        "id": "c65d-osfDUXm"
      },
      "source": [
        "# save the best model\n",
        "\n",
        "learn.save_encoder('TwADR-cadec_fold2')"
      ],
      "execution_count": 44,
      "outputs": []
    },
    {
      "cell_type": "code",
      "metadata": {
        "id": "5h-A_GpAIYg8",
        "outputId": "3a74f5e7-2b3b-4eab-d26d-ac3e5c65aa40",
        "colab": {
          "base_uri": "https://localhost:8080/",
          "height": 80
        }
      },
      "source": [
        "learn.fit_one_cycle(1, slice(2e-3/100, 2e-3))"
      ],
      "execution_count": 45,
      "outputs": [
        {
          "output_type": "display_data",
          "data": {
            "text/html": [
              "<table border=\"1\" class=\"dataframe\">\n",
              "  <thead>\n",
              "    <tr style=\"text-align: left;\">\n",
              "      <th>epoch</th>\n",
              "      <th>train_loss</th>\n",
              "      <th>valid_loss</th>\n",
              "      <th>accuracy</th>\n",
              "      <th>time</th>\n",
              "    </tr>\n",
              "  </thead>\n",
              "  <tbody>\n",
              "    <tr>\n",
              "      <td>0</td>\n",
              "      <td>0.676654</td>\n",
              "      <td>4.107844</td>\n",
              "      <td>0.414286</td>\n",
              "      <td>00:58</td>\n",
              "    </tr>\n",
              "  </tbody>\n",
              "</table>"
            ],
            "text/plain": [
              "<IPython.core.display.HTML object>"
            ]
          },
          "metadata": {
            "tags": []
          }
        }
      ]
    },
    {
      "cell_type": "code",
      "metadata": {
        "id": "qc4poYxzIwca",
        "outputId": "32f56b1f-baec-48dc-9568-d0aed8574727",
        "colab": {
          "base_uri": "https://localhost:8080/",
          "height": 80
        }
      },
      "source": [
        "learn.fit_one_cycle(1, slice(2e-3/100, 2e-3))"
      ],
      "execution_count": 46,
      "outputs": [
        {
          "output_type": "display_data",
          "data": {
            "text/html": [
              "<table border=\"1\" class=\"dataframe\">\n",
              "  <thead>\n",
              "    <tr style=\"text-align: left;\">\n",
              "      <th>epoch</th>\n",
              "      <th>train_loss</th>\n",
              "      <th>valid_loss</th>\n",
              "      <th>accuracy</th>\n",
              "      <th>time</th>\n",
              "    </tr>\n",
              "  </thead>\n",
              "  <tbody>\n",
              "    <tr>\n",
              "      <td>0</td>\n",
              "      <td>0.589719</td>\n",
              "      <td>4.068735</td>\n",
              "      <td>0.407143</td>\n",
              "      <td>01:04</td>\n",
              "    </tr>\n",
              "  </tbody>\n",
              "</table>"
            ],
            "text/plain": [
              "<IPython.core.display.HTML object>"
            ]
          },
          "metadata": {
            "tags": []
          }
        }
      ]
    },
    {
      "cell_type": "code",
      "metadata": {
        "id": "66s4PxV1JVfo",
        "outputId": "5502d5e6-5200-4baa-dfda-9a784c89bcc2",
        "colab": {
          "base_uri": "https://localhost:8080/",
          "height": 80
        }
      },
      "source": [
        "learn.fit_one_cycle(1, slice(2e-3/100, 2e-3))"
      ],
      "execution_count": 47,
      "outputs": [
        {
          "output_type": "display_data",
          "data": {
            "text/html": [
              "<table border=\"1\" class=\"dataframe\">\n",
              "  <thead>\n",
              "    <tr style=\"text-align: left;\">\n",
              "      <th>epoch</th>\n",
              "      <th>train_loss</th>\n",
              "      <th>valid_loss</th>\n",
              "      <th>accuracy</th>\n",
              "      <th>time</th>\n",
              "    </tr>\n",
              "  </thead>\n",
              "  <tbody>\n",
              "    <tr>\n",
              "      <td>0</td>\n",
              "      <td>0.591183</td>\n",
              "      <td>4.034779</td>\n",
              "      <td>0.421429</td>\n",
              "      <td>00:59</td>\n",
              "    </tr>\n",
              "  </tbody>\n",
              "</table>"
            ],
            "text/plain": [
              "<IPython.core.display.HTML object>"
            ]
          },
          "metadata": {
            "tags": []
          }
        }
      ]
    },
    {
      "cell_type": "code",
      "metadata": {
        "id": "UIARKTw8W0Je",
        "outputId": "609eb5cb-ef9a-46d6-fd9d-170e08b1020f",
        "colab": {
          "base_uri": "https://localhost:8080/",
          "height": 80
        }
      },
      "source": [
        "learn.fit_one_cycle(1, slice(2e-3/100, 2e-3))"
      ],
      "execution_count": 48,
      "outputs": [
        {
          "output_type": "display_data",
          "data": {
            "text/html": [
              "<table border=\"1\" class=\"dataframe\">\n",
              "  <thead>\n",
              "    <tr style=\"text-align: left;\">\n",
              "      <th>epoch</th>\n",
              "      <th>train_loss</th>\n",
              "      <th>valid_loss</th>\n",
              "      <th>accuracy</th>\n",
              "      <th>time</th>\n",
              "    </tr>\n",
              "  </thead>\n",
              "  <tbody>\n",
              "    <tr>\n",
              "      <td>0</td>\n",
              "      <td>0.581688</td>\n",
              "      <td>4.083788</td>\n",
              "      <td>0.392857</td>\n",
              "      <td>01:04</td>\n",
              "    </tr>\n",
              "  </tbody>\n",
              "</table>"
            ],
            "text/plain": [
              "<IPython.core.display.HTML object>"
            ]
          },
          "metadata": {
            "tags": []
          }
        }
      ]
    },
    {
      "cell_type": "code",
      "metadata": {
        "id": "GEvatxUoNIX1",
        "outputId": "8096e5ca-30df-4d2b-8516-53c421ea1bb3",
        "colab": {
          "base_uri": "https://localhost:8080/",
          "height": 80
        }
      },
      "source": [
        "learn.fit_one_cycle(1, slice(2e-3/100, 2e-3))"
      ],
      "execution_count": 52,
      "outputs": [
        {
          "output_type": "display_data",
          "data": {
            "text/html": [
              "<table border=\"1\" class=\"dataframe\">\n",
              "  <thead>\n",
              "    <tr style=\"text-align: left;\">\n",
              "      <th>epoch</th>\n",
              "      <th>train_loss</th>\n",
              "      <th>valid_loss</th>\n",
              "      <th>accuracy</th>\n",
              "      <th>time</th>\n",
              "    </tr>\n",
              "  </thead>\n",
              "  <tbody>\n",
              "    <tr>\n",
              "      <td>0</td>\n",
              "      <td>0.593828</td>\n",
              "      <td>4.155576</td>\n",
              "      <td>0.392857</td>\n",
              "      <td>01:02</td>\n",
              "    </tr>\n",
              "  </tbody>\n",
              "</table>"
            ],
            "text/plain": [
              "<IPython.core.display.HTML object>"
            ]
          },
          "metadata": {
            "tags": []
          }
        }
      ]
    },
    {
      "cell_type": "markdown",
      "metadata": {
        "id": "rCwZU0E2RgM6"
      },
      "source": [
        "# Part three: Predict on the test dataset"
      ]
    },
    {
      "cell_type": "code",
      "metadata": {
        "id": "gDm72c-dOu7d",
        "outputId": "cf2efb5e-5d6a-46bd-8d02-ba0bd29236a7",
        "colab": {
          "base_uri": "https://localhost:8080/",
          "height": 17
        }
      },
      "source": [
        "# use the test data for prediction\n",
        "\n",
        "preds, y = learn.get_preds(DatasetType.Test)"
      ],
      "execution_count": 53,
      "outputs": [
        {
          "output_type": "display_data",
          "data": {
            "text/html": [
              ""
            ],
            "text/plain": [
              "<IPython.core.display.HTML object>"
            ]
          },
          "metadata": {
            "tags": []
          }
        }
      ]
    },
    {
      "cell_type": "code",
      "metadata": {
        "id": "6tFSQcsWPvxn",
        "outputId": "62e2e172-3f5d-4b7c-dce9-2528fdd4cfce",
        "colab": {
          "base_uri": "https://localhost:8080/",
          "height": 105
        }
      },
      "source": [
        "predictions, *_ = learn.get_preds(DatasetType.Test)\n",
        "labels = np.argmax(predictions, 1)\n",
        "predict_list = labels.tolist()\n",
        "standard_list = test[0].tolist()\n",
        "\n",
        "print(len(predict_list))\n",
        "print(len(standard_list))\n",
        "\n",
        "print(predict_list)\n",
        "print(standard_list)"
      ],
      "execution_count": 54,
      "outputs": [
        {
          "output_type": "display_data",
          "data": {
            "text/html": [
              ""
            ],
            "text/plain": [
              "<IPython.core.display.HTML object>"
            ]
          },
          "metadata": {
            "tags": []
          }
        },
        {
          "output_type": "stream",
          "text": [
            "143\n",
            "143\n",
            "[1196, 2104, 56, 792, 978, 250, 2048, 2048, 189, 2048, 217, 1521, 233, 1936, 233, 1647, 301, 1787, 1787, 1787, 1813, 1529, 445, 1230, 582, 908, 792, 720, 744, 744, 749, 749, 749, 887, 1349, 2032, 792, 792, 2125, 418, 824, 1295, 265, 1184, 1356, 974, 974, 974, 978, 1507, 1019, 359, 359, 1767, 620, 1099, 2032, 2194, 1099, 1136, 1142, 1184, 1184, 1427, 2147, 1265, 1265, 1295, 1295, 852, 1295, 1308, 1373, 1340, 1340, 1507, 1973, 2191, 1099, 1356, 2194, 582, 978, 1417, 1701, 1526, 1529, 1062, 1099, 301, 109, 1597, 1597, 1196, 2032, 1597, 1099, 1647, 1073, 1526, 300, 1767, 1718, 1767, 1718, 1718, 1718, 1718, 1718, 1099, 1768, 1099, 1787, 1787, 1787, 1787, 393, 1196, 418, 1810, 2191, 1073, 233, 1936, 109, 233, 1936, 1936, 1099, 1099, 1356, 923, 1767, 579, 1942, 418, 1099, 1529, 233, 1099, 2023, 2191, 393]\n",
            "[13, 24, 56, 57, 94, 113, 189, 189, 189, 189, 217, 224, 233, 233, 233, 265, 301, 393, 393, 393, 396, 418, 445, 452, 582, 605, 609, 720, 744, 745, 749, 749, 749, 749, 755, 791, 792, 792, 813, 819, 824, 825, 857, 908, 947, 974, 974, 974, 978, 1008, 1019, 1054, 1054, 1073, 1099, 1099, 1099, 1099, 1099, 1136, 1142, 1184, 1184, 1208, 1227, 1265, 1265, 1295, 1295, 1295, 1295, 1308, 1325, 1340, 1340, 1340, 1341, 1341, 1348, 1356, 1356, 1373, 1373, 1483, 1526, 1526, 1529, 1529, 1545, 1546, 1578, 1597, 1597, 1597, 1597, 1597, 1610, 1647, 1669, 1701, 1701, 1718, 1718, 1718, 1718, 1718, 1718, 1727, 1727, 1767, 1768, 1769, 1787, 1787, 1787, 1787, 1787, 1798, 1799, 1810, 1815, 1828, 1833, 1936, 1936, 1936, 1936, 1936, 1942, 1942, 1973, 2023, 2026, 2104, 2113, 2118, 2147, 2147, 2147, 2149, 2168, 2191, 2191]\n"
          ],
          "name": "stdout"
        }
      ]
    },
    {
      "cell_type": "code",
      "metadata": {
        "id": "XIC4zufnMxtq",
        "outputId": "e4d2e96a-098a-4ab3-cbe9-0cde1b4bdb51",
        "colab": {
          "base_uri": "https://localhost:8080/"
        }
      },
      "source": [
        "correct_num = 0\n",
        "\n",
        "for i in range(0, len(standard_list)):\n",
        "  if predict_list[i] == standard_list[i]:\n",
        "    correct_num = correct_num+1\n",
        "  else:\n",
        "    pass\n",
        "print(correct_num)\n",
        "\n",
        "predict_accuracy = correct_num/len(predict_list)\n",
        "print(predict_accuracy)"
      ],
      "execution_count": 55,
      "outputs": [
        {
          "output_type": "stream",
          "text": [
            "56\n",
            "0.3916083916083916\n"
          ],
          "name": "stdout"
        }
      ]
    },
    {
      "cell_type": "code",
      "metadata": {
        "id": "zlKMHp1CIaRJ"
      },
      "source": [
        ""
      ],
      "execution_count": 55,
      "outputs": []
    }
  ]
}