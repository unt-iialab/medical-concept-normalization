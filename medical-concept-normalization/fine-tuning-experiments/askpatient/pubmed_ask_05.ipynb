{
  "nbformat": 4,
  "nbformat_minor": 0,
  "metadata": {
    "accelerator": "TPU",
    "colab": {
      "name": "pubmed_ask_05.ipynb",
      "provenance": [],
      "collapsed_sections": [],
      "include_colab_link": true
    },
    "kernelspec": {
      "display_name": "Python 3",
      "name": "python3"
    }
  },
  "cells": [
    {
      "cell_type": "markdown",
      "metadata": {
        "id": "view-in-github",
        "colab_type": "text"
      },
      "source": [
        "<a href=\"https://colab.research.google.com/github/unt-iialab/medical-concept-normalization/blob/master/medical-concept-normalization/fine-tuning-experiments/askpatient/pubmed_ask_05.ipynb\" target=\"_parent\"><img src=\"https://colab.research.google.com/assets/colab-badge.svg\" alt=\"Open In Colab\"/></a>"
      ]
    },
    {
      "cell_type": "code",
      "metadata": {
        "id": "adSi6i2-dWxy"
      },
      "source": [
        "import os"
      ],
      "execution_count": 1,
      "outputs": []
    },
    {
      "cell_type": "code",
      "metadata": {
        "id": "E7xYCRGPjd9B"
      },
      "source": [
        "base_dir = 'medical-concept-normalization'"
      ],
      "execution_count": 2,
      "outputs": []
    },
    {
      "cell_type": "code",
      "metadata": {
        "id": "yvIW3aUDjYNS"
      },
      "source": [
        "os.mkdir(base_dir)"
      ],
      "execution_count": 3,
      "outputs": []
    },
    {
      "cell_type": "code",
      "metadata": {
        "id": "es-FFLlfk6SG"
      },
      "source": [
        "os.mkdir('medical-concept-normalization/data_collection')"
      ],
      "execution_count": 4,
      "outputs": []
    },
    {
      "cell_type": "markdown",
      "metadata": {
        "id": "0R-Guw_VoJXm"
      },
      "source": [
        "**Install fastai and clone the fastai for text classification**\n",
        "\n"
      ]
    },
    {
      "cell_type": "code",
      "metadata": {
        "id": "QVZa3Z0PmHFH",
        "outputId": "27e4b487-66f5-4be6-e2e3-21a6bef6076a",
        "colab": {
          "base_uri": "https://localhost:8080/"
        }
      },
      "source": [
        "!curl https://course-v3.fast.ai/setup/colab | bash"
      ],
      "execution_count": 5,
      "outputs": [
        {
          "output_type": "stream",
          "text": [
            "  % Total    % Received % Xferd  Average Speed   Time    Time     Time  Current\n",
            "                                 Dload  Upload   Total   Spent    Left  Speed\n",
            "  0     0    0     0    0     0      0      0 --:--:-- --:--:-- --:--:--     0curl: (6) Could not resolve host: course-v3.fast.ai\n"
          ],
          "name": "stdout"
        }
      ]
    },
    {
      "cell_type": "code",
      "metadata": {
        "id": "_FBFFEBrmJC0",
        "outputId": "3274df72-2ca2-4112-d6f6-198cab3c90dd",
        "colab": {
          "base_uri": "https://localhost:8080/"
        }
      },
      "source": [
        "!git clone https://github.com/wshuyi/demo-nlp-classification-fastai.git"
      ],
      "execution_count": 6,
      "outputs": [
        {
          "output_type": "stream",
          "text": [
            "Cloning into 'demo-nlp-classification-fastai'...\n",
            "remote: Enumerating objects: 9, done.\u001b[K\n",
            "remote: Total 9 (delta 0), reused 0 (delta 0), pack-reused 9\u001b[K\n",
            "Unpacking objects: 100% (9/9), done.\n"
          ],
          "name": "stdout"
        }
      ]
    },
    {
      "cell_type": "code",
      "metadata": {
        "id": "66zfh_JqmWMU"
      },
      "source": [
        "from fastai import *\n",
        "from fastai.text import *"
      ],
      "execution_count": 7,
      "outputs": []
    },
    {
      "cell_type": "markdown",
      "metadata": {
        "id": "mNIw-yALdBU9"
      },
      "source": [
        "**Set the path of the data collections**"
      ]
    },
    {
      "cell_type": "code",
      "metadata": {
        "id": "pzH7VMh4mqCL"
      },
      "source": [
        "path = Path('medical-concept-normalization/data_collection')"
      ],
      "execution_count": 12,
      "outputs": []
    },
    {
      "cell_type": "code",
      "metadata": {
        "id": "b8fjI6yyn4aS"
      },
      "source": [
        "# training data set\n",
        "\n",
        "train_csv = path/'AskAPatient.fold-5.train.csv'\n",
        "train = pd.read_csv(train_csv, header=None)\n",
        "#train.head()\n",
        "#train.info()"
      ],
      "execution_count": 13,
      "outputs": []
    },
    {
      "cell_type": "code",
      "metadata": {
        "id": "Hmlr-bAorfHd",
        "outputId": "5f53be43-6c59-4090-f355-e1d8602c65b9",
        "colab": {
          "base_uri": "https://localhost:8080/",
          "height": 204
        }
      },
      "source": [
        "# validating data set\n",
        "\n",
        "valid = pd.read_csv(path/\"AskAPatient.fold-5.validation.csv\",header=None)\n",
        "valid.head()"
      ],
      "execution_count": 14,
      "outputs": [
        {
          "output_type": "execute_result",
          "data": {
            "text/html": [
              "<div>\n",
              "<style scoped>\n",
              "    .dataframe tbody tr th:only-of-type {\n",
              "        vertical-align: middle;\n",
              "    }\n",
              "\n",
              "    .dataframe tbody tr th {\n",
              "        vertical-align: top;\n",
              "    }\n",
              "\n",
              "    .dataframe thead th {\n",
              "        text-align: right;\n",
              "    }\n",
              "</style>\n",
              "<table border=\"1\" class=\"dataframe\">\n",
              "  <thead>\n",
              "    <tr style=\"text-align: right;\">\n",
              "      <th></th>\n",
              "      <th>0</th>\n",
              "      <th>1</th>\n",
              "    </tr>\n",
              "  </thead>\n",
              "  <tbody>\n",
              "    <tr>\n",
              "      <th>0</th>\n",
              "      <td>2</td>\n",
              "      <td>heel pain</td>\n",
              "    </tr>\n",
              "    <tr>\n",
              "      <th>1</th>\n",
              "      <td>2</td>\n",
              "      <td>heel pain</td>\n",
              "    </tr>\n",
              "    <tr>\n",
              "      <th>2</th>\n",
              "      <td>5</td>\n",
              "      <td>increase my heart rate</td>\n",
              "    </tr>\n",
              "    <tr>\n",
              "      <th>3</th>\n",
              "      <td>5</td>\n",
              "      <td>tachycardia</td>\n",
              "    </tr>\n",
              "    <tr>\n",
              "      <th>4</th>\n",
              "      <td>8</td>\n",
              "      <td>severe arthritis</td>\n",
              "    </tr>\n",
              "  </tbody>\n",
              "</table>\n",
              "</div>"
            ],
            "text/plain": [
              "   0                       1\n",
              "0  2               heel pain\n",
              "1  2               heel pain\n",
              "2  5  increase my heart rate\n",
              "3  5             tachycardia\n",
              "4  8        severe arthritis"
            ]
          },
          "metadata": {
            "tags": []
          },
          "execution_count": 14
        }
      ]
    },
    {
      "cell_type": "code",
      "metadata": {
        "id": "cOza9dfSsBud",
        "outputId": "4e173386-c2f3-4630-cf17-c7c56ca8f51e",
        "colab": {
          "base_uri": "https://localhost:8080/",
          "height": 204
        }
      },
      "source": [
        "# testing data set\n",
        "\n",
        "test = pd.read_csv(path/\"AskAPatient.fold-5.test.csv\",header=None)\n",
        "test.head()"
      ],
      "execution_count": 15,
      "outputs": [
        {
          "output_type": "execute_result",
          "data": {
            "text/html": [
              "<div>\n",
              "<style scoped>\n",
              "    .dataframe tbody tr th:only-of-type {\n",
              "        vertical-align: middle;\n",
              "    }\n",
              "\n",
              "    .dataframe tbody tr th {\n",
              "        vertical-align: top;\n",
              "    }\n",
              "\n",
              "    .dataframe thead th {\n",
              "        text-align: right;\n",
              "    }\n",
              "</style>\n",
              "<table border=\"1\" class=\"dataframe\">\n",
              "  <thead>\n",
              "    <tr style=\"text-align: right;\">\n",
              "      <th></th>\n",
              "      <th>0</th>\n",
              "      <th>1</th>\n",
              "    </tr>\n",
              "  </thead>\n",
              "  <tbody>\n",
              "    <tr>\n",
              "      <th>0</th>\n",
              "      <td>0</td>\n",
              "      <td>fear</td>\n",
              "    </tr>\n",
              "    <tr>\n",
              "      <th>1</th>\n",
              "      <td>0</td>\n",
              "      <td>scared to death</td>\n",
              "    </tr>\n",
              "    <tr>\n",
              "      <th>2</th>\n",
              "      <td>2</td>\n",
              "      <td>heel pain</td>\n",
              "    </tr>\n",
              "    <tr>\n",
              "      <th>3</th>\n",
              "      <td>2</td>\n",
              "      <td>heels hurt</td>\n",
              "    </tr>\n",
              "    <tr>\n",
              "      <th>4</th>\n",
              "      <td>2</td>\n",
              "      <td>pain in my right heel</td>\n",
              "    </tr>\n",
              "  </tbody>\n",
              "</table>\n",
              "</div>"
            ],
            "text/plain": [
              "   0                      1\n",
              "0  0                   fear\n",
              "1  0        scared to death\n",
              "2  2              heel pain\n",
              "3  2             heels hurt\n",
              "4  2  pain in my right heel"
            ]
          },
          "metadata": {
            "tags": []
          },
          "execution_count": 15
        }
      ]
    },
    {
      "cell_type": "code",
      "metadata": {
        "id": "Vo-YNvVYoaH6",
        "outputId": "9a9c2f22-ba07-47b8-fbc4-bea0878a7c0f",
        "colab": {
          "base_uri": "https://localhost:8080/",
          "height": 17
        }
      },
      "source": [
        "# Creating DataBunch for language modelling\n",
        "\n",
        "data_lm = TextLMDataBunch.from_csv(path, 'pubmed_ask.csv')"
      ],
      "execution_count": 16,
      "outputs": [
        {
          "output_type": "display_data",
          "data": {
            "text/html": [
              ""
            ],
            "text/plain": [
              "<IPython.core.display.HTML object>"
            ]
          },
          "metadata": {
            "tags": []
          }
        },
        {
          "output_type": "display_data",
          "data": {
            "text/html": [
              ""
            ],
            "text/plain": [
              "<IPython.core.display.HTML object>"
            ]
          },
          "metadata": {
            "tags": []
          }
        }
      ]
    },
    {
      "cell_type": "code",
      "metadata": {
        "id": "qcV-9kMnNLBf"
      },
      "source": [
        ""
      ],
      "execution_count": 16,
      "outputs": []
    },
    {
      "cell_type": "code",
      "metadata": {
        "id": "1ScY9afDsnvE"
      },
      "source": [
        "# Creating DataBunch for classification\n",
        "\n",
        "# data_clas = TextClasDataBunch.from_df(path, train, valid, test, vocab=data_lm.train_ds.vocab, bs=128)"
      ],
      "execution_count": 17,
      "outputs": []
    },
    {
      "cell_type": "code",
      "metadata": {
        "id": "gzrSdQcvey9p",
        "outputId": "1fad191a-7dd3-490d-8d34-e412641974f0",
        "colab": {
          "base_uri": "https://localhost:8080/",
          "height": 17
        }
      },
      "source": [
        "data_clas = TextClasDataBunch.from_df(path, train, valid, vocab=data_lm.train_ds.vocab, bs=128)"
      ],
      "execution_count": 18,
      "outputs": [
        {
          "output_type": "display_data",
          "data": {
            "text/html": [
              ""
            ],
            "text/plain": [
              "<IPython.core.display.HTML object>"
            ]
          },
          "metadata": {
            "tags": []
          }
        },
        {
          "output_type": "display_data",
          "data": {
            "text/html": [
              ""
            ],
            "text/plain": [
              "<IPython.core.display.HTML object>"
            ]
          },
          "metadata": {
            "tags": []
          }
        }
      ]
    },
    {
      "cell_type": "code",
      "metadata": {
        "id": "MD27Tf0Ke3ou",
        "outputId": "99f76b1e-77db-4b7f-e1e9-c53418a96018",
        "colab": {
          "base_uri": "https://localhost:8080/",
          "height": 17
        }
      },
      "source": [
        "data_clas.add_test(test,label=0)\n"
      ],
      "execution_count": 19,
      "outputs": [
        {
          "output_type": "display_data",
          "data": {
            "text/html": [
              ""
            ],
            "text/plain": [
              "<IPython.core.display.HTML object>"
            ]
          },
          "metadata": {
            "tags": []
          }
        }
      ]
    },
    {
      "cell_type": "code",
      "metadata": {
        "id": "-dpjnk_rstwk"
      },
      "source": [
        "data_lm.save()\n",
        "data_clas.save()"
      ],
      "execution_count": 20,
      "outputs": []
    },
    {
      "cell_type": "code",
      "metadata": {
        "id": "4OkiJa36sw5s",
        "outputId": "e2d251f8-25e9-49e0-ee91-caec602fe180",
        "colab": {
          "base_uri": "https://localhost:8080/"
        }
      },
      "source": [
        "data_lm.train_ds.vocab.itos"
      ],
      "execution_count": 21,
      "outputs": [
        {
          "output_type": "execute_result",
          "data": {
            "text/plain": [
              "['xxunk',\n",
              " 'xxpad',\n",
              " 'xxbos',\n",
              " 'xxeos',\n",
              " 'xxfld',\n",
              " 'xxmaj',\n",
              " 'xxup',\n",
              " 'xxrep',\n",
              " 'xxwrep',\n",
              " 'pain',\n",
              " 'of',\n",
              " 'the',\n",
              " 'in',\n",
              " 'lipitor',\n",
              " 'and',\n",
              " 'to',\n",
              " 'muscle',\n",
              " 'a',\n",
              " 'diclofenac',\n",
              " 'was',\n",
              " 'with',\n",
              " 'were',\n",
              " 'severe',\n",
              " 'for',\n",
              " 'myalgia',\n",
              " 'lower',\n",
              " 'my',\n",
              " 'fatigue',\n",
              " 'loss',\n",
              " 'cramp',\n",
              " 'weakness',\n",
              " 'limb',\n",
              " 'sodium',\n",
              " 'by',\n",
              " 'on',\n",
              " 'stomach',\n",
              " '-',\n",
              " 'depression',\n",
              " 'back',\n",
              " 'is',\n",
              " 'patients',\n",
              " 'cramps',\n",
              " 'as',\n",
              " 'joint',\n",
              " 'that',\n",
              " 'upper',\n",
              " 'gas',\n",
              " 'at',\n",
              " 'or',\n",
              " 'memory',\n",
              " 'drug',\n",
              " 'mg',\n",
              " 'leg',\n",
              " 'legs',\n",
              " 'pains',\n",
              " 'headache',\n",
              " 'from',\n",
              " 'knee',\n",
              " 'unable',\n",
              " 'shoulder',\n",
              " 'group',\n",
              " 'not',\n",
              " 'arthralgia',\n",
              " 'gastrointestinal',\n",
              " 'study',\n",
              " 'treatment',\n",
              " 'excessive',\n",
              " 'neck',\n",
              " 'foot',\n",
              " 'all',\n",
              " 'this',\n",
              " 'arthritis',\n",
              " 'aches',\n",
              " 'hip',\n",
              " 'after',\n",
              " 'numbness',\n",
              " 'arthrotec',\n",
              " 'release',\n",
              " 'voltaren',\n",
              " 'insomnia',\n",
              " 'p',\n",
              " 'nausea',\n",
              " '/',\n",
              " 'disease',\n",
              " 'bleeding',\n",
              " 'increased',\n",
              " 'an',\n",
              " 'walk',\n",
              " 'both',\n",
              " 'asthenia',\n",
              " 'swelling',\n",
              " 'dizziness',\n",
              " 'skin',\n",
              " 'abdominal',\n",
              " 'like',\n",
              " 'heart',\n",
              " 'be',\n",
              " 'tired',\n",
              " 'feeling',\n",
              " 'no',\n",
              " 'difficulty',\n",
              " 'high',\n",
              " 'walking',\n",
              " 'time',\n",
              " 'problems',\n",
              " 'than',\n",
              " 'feet',\n",
              " 'hand',\n",
              " 'are',\n",
              " 'effect',\n",
              " 'blood',\n",
              " 'muscles',\n",
              " 'low',\n",
              " 'acid',\n",
              " 'chest',\n",
              " 'extreme',\n",
              " 'hair',\n",
              " 'stiffness',\n",
              " 'zocor',\n",
              " 'cholesterol',\n",
              " 'backache',\n",
              " 'ache',\n",
              " 'compared',\n",
              " 'burning',\n",
              " 'inflammatory',\n",
              " 'vision',\n",
              " 'could',\n",
              " 'using',\n",
              " 'weight',\n",
              " 'effects',\n",
              " 'very',\n",
              " 'liver',\n",
              " 'i',\n",
              " 'pins',\n",
              " 'needles',\n",
              " 'groups',\n",
              " 'diarrhoea',\n",
              " 'sleep',\n",
              " 'cramping',\n",
              " 'amnesia',\n",
              " 'two',\n",
              " 'between',\n",
              " 'concentration',\n",
              " 'drugs',\n",
              " 'calf',\n",
              " 'significantly',\n",
              " 'significant',\n",
              " 'impairment',\n",
              " 'h',\n",
              " 'potassium',\n",
              " 'left',\n",
              " 'tingling',\n",
              " 'disability',\n",
              " 'anti',\n",
              " 'short',\n",
              " 'c',\n",
              " 'term',\n",
              " 'anxiety',\n",
              " 'lack',\n",
              " 'can',\n",
              " 'used',\n",
              " 'up',\n",
              " 'symptom',\n",
              " 'constipation',\n",
              " 'dose',\n",
              " 'day',\n",
              " 'which',\n",
              " 'these',\n",
              " 'bloating',\n",
              " 'stiff',\n",
              " 'placebo',\n",
              " 'pressure',\n",
              " 'results',\n",
              " 'it',\n",
              " 'poor',\n",
              " 'had',\n",
              " 'one',\n",
              " 'reduced',\n",
              " 'headaches',\n",
              " 'efficacy',\n",
              " 'arm',\n",
              " 'has',\n",
              " 'disorder',\n",
              " 'have',\n",
              " 'more',\n",
              " 'hands',\n",
              " 'body',\n",
              " 'ds',\n",
              " 'arms',\n",
              " 'sore',\n",
              " 'balance',\n",
              " 'we',\n",
              " 'acute',\n",
              " 'blurred',\n",
              " 'neuropathy',\n",
              " 'showed',\n",
              " 'over',\n",
              " 'treated',\n",
              " 'also',\n",
              " 'days',\n",
              " 'ankle',\n",
              " 'joints',\n",
              " 'visual',\n",
              " 'ml',\n",
              " 'topical',\n",
              " 'myocardial',\n",
              " 'different',\n",
              " 'serum',\n",
              " 'but',\n",
              " 'infarction',\n",
              " 'tiredness',\n",
              " 'pravachol',\n",
              " 'sensation',\n",
              " 'oral',\n",
              " 'studies',\n",
              " 'renal',\n",
              " 'rash',\n",
              " 'been',\n",
              " 'rats',\n",
              " 'control',\n",
              " 'myositis',\n",
              " 'vaginal',\n",
              " 'administration',\n",
              " 'into',\n",
              " 'during',\n",
              " 'mentally',\n",
              " 'vertigo',\n",
              " 'attack',\n",
              " 'generalised',\n",
              " 'hurt',\n",
              " 'diabetes',\n",
              " 'clinical',\n",
              " 'when',\n",
              " 'out',\n",
              " 'rate',\n",
              " 'swollen',\n",
              " 'upset',\n",
              " 'atrophy',\n",
              " 'constant',\n",
              " 'nsaids',\n",
              " 'energy',\n",
              " 'non',\n",
              " 'atorvastatin',\n",
              " 'levels',\n",
              " 'painful',\n",
              " 'formulation',\n",
              " 'plasma',\n",
              " 'respectively',\n",
              " 's',\n",
              " 'formulations',\n",
              " 'induced',\n",
              " 'decreased',\n",
              " 'ubidecarenone',\n",
              " 'itching',\n",
              " ',',\n",
              " 'diarrhea',\n",
              " ')',\n",
              " 'well',\n",
              " 'right',\n",
              " 'their',\n",
              " 'method',\n",
              " 'illness',\n",
              " 'mean',\n",
              " \"n't\",\n",
              " \"'s\",\n",
              " 'gel',\n",
              " 'ph',\n",
              " 'damage',\n",
              " 'use',\n",
              " 'raised',\n",
              " 'tablets',\n",
              " 'three',\n",
              " 'gain',\n",
              " 'effective',\n",
              " 'dull',\n",
              " 'there',\n",
              " 'observed',\n",
              " 'dry',\n",
              " 'may',\n",
              " 'type',\n",
              " 'solution',\n",
              " 'influenza',\n",
              " 'found',\n",
              " 'syndrome',\n",
              " 'period',\n",
              " 'weak',\n",
              " 'eye',\n",
              " '(',\n",
              " 'symptoms',\n",
              " 'shoulders',\n",
              " 'present',\n",
              " 'other',\n",
              " 'hazy',\n",
              " 'elevated',\n",
              " 'g',\n",
              " 'urine',\n",
              " 'received',\n",
              " 'movement',\n",
              " 'elbow',\n",
              " 'spasm',\n",
              " 'sleeping',\n",
              " 'tablet',\n",
              " 'tendonitis',\n",
              " 'chronic',\n",
              " 'adverse',\n",
              " 'analysis',\n",
              " 'crestor',\n",
              " 'heavy',\n",
              " 'its',\n",
              " 'side',\n",
              " 'hours',\n",
              " 'controlled',\n",
              " 'kidney',\n",
              " 'discomfort',\n",
              " 'n',\n",
              " 'kg',\n",
              " 'abnormal',\n",
              " 'toe',\n",
              " 'exhaustion',\n",
              " 'd',\n",
              " 'vitro',\n",
              " 'm',\n",
              " 'less',\n",
              " 'myopathy',\n",
              " 'flatulence',\n",
              " 'level',\n",
              " 'libido',\n",
              " 'knees',\n",
              " 'activity',\n",
              " 'vomiting',\n",
              " 'spasms',\n",
              " 'function',\n",
              " 'data',\n",
              " 'inflammation',\n",
              " 'mood',\n",
              " 'feel',\n",
              " 'analgesic',\n",
              " 'first',\n",
              " 'concentrations',\n",
              " 'ibuprofen',\n",
              " 'total',\n",
              " 'reflux',\n",
              " 'randomized',\n",
              " 'daily',\n",
              " 'sclerosis',\n",
              " 'bad',\n",
              " 'concentrate',\n",
              " 'irritable',\n",
              " 'increase',\n",
              " 'each',\n",
              " 'single',\n",
              " 'mild',\n",
              " 'l',\n",
              " 'migraine',\n",
              " 'injury',\n",
              " 'model',\n",
              " 'system',\n",
              " 'evaluated',\n",
              " 'b',\n",
              " 'bed',\n",
              " 'fibromyalgia',\n",
              " 'however',\n",
              " 'thigh',\n",
              " 'throat',\n",
              " 'only',\n",
              " 'similar',\n",
              " 'get',\n",
              " 'flu',\n",
              " 'patient',\n",
              " 'changes',\n",
              " 'simvastatin',\n",
              " 'cold',\n",
              " 'mellitus',\n",
              " 't',\n",
              " 'surgery',\n",
              " 'problem',\n",
              " 'following',\n",
              " 'multiple',\n",
              " 'nsaid',\n",
              " 'eyes',\n",
              " 'test',\n",
              " 'obtained',\n",
              " 'osteoarthritis',\n",
              " 'postoperative',\n",
              " 'menstrual',\n",
              " 'water',\n",
              " 'dissolution',\n",
              " 'did',\n",
              " 'most',\n",
              " 'lightheadedness',\n",
              " 'disturbance',\n",
              " 'therapy',\n",
              " 'higher',\n",
              " 'due',\n",
              " 'sweating',\n",
              " 'so',\n",
              " 'difference',\n",
              " 'confusion',\n",
              " 'based',\n",
              " 'wind',\n",
              " 'double',\n",
              " 'weeks',\n",
              " 'week',\n",
              " 'hips',\n",
              " 'ezetimibe',\n",
              " 'application',\n",
              " 'cells',\n",
              " 'before',\n",
              " 'administered',\n",
              " 'under',\n",
              " 'tremor',\n",
              " 'combination',\n",
              " 'oil',\n",
              " 'failure',\n",
              " 'peripheral',\n",
              " 'malaise',\n",
              " 'cell',\n",
              " 'impaired',\n",
              " 'prepared',\n",
              " 'events',\n",
              " 'studied',\n",
              " 'swings',\n",
              " 'those',\n",
              " 'tinnitus',\n",
              " 'general',\n",
              " 'associated',\n",
              " 'vs',\n",
              " 'aching',\n",
              " 'doses',\n",
              " 'soreness',\n",
              " 'infection',\n",
              " 'area',\n",
              " 'rheumatoid',\n",
              " 'paraesthesia',\n",
              " 'reported',\n",
              " 'appetite',\n",
              " 'x',\n",
              " 'blind',\n",
              " 'min',\n",
              " 'ascorbic',\n",
              " 'times',\n",
              " 'toes',\n",
              " 'brain',\n",
              " 'calves',\n",
              " 'gastric',\n",
              " 'coated',\n",
              " 'nonsteroidal',\n",
              " 'while',\n",
              " 'performed',\n",
              " 'head',\n",
              " 'e',\n",
              " 'trial',\n",
              " 'finger',\n",
              " 'charleyhorse',\n",
              " 'either',\n",
              " 'conditions',\n",
              " 'stairs',\n",
              " 'stress',\n",
              " 'response',\n",
              " 'esters',\n",
              " 'years',\n",
              " 'relief',\n",
              " 'motivation',\n",
              " 'off',\n",
              " 'who',\n",
              " 'differences',\n",
              " 'four',\n",
              " 'absorption',\n",
              " 'celebrex',\n",
              " 'post',\n",
              " 'subjects',\n",
              " 'phase',\n",
              " 'investigated',\n",
              " 'urinary',\n",
              " 'paracetamol',\n",
              " 'developed',\n",
              " 'change',\n",
              " 'properties',\n",
              " 'swallowing',\n",
              " 'face',\n",
              " 'nerve',\n",
              " 'given',\n",
              " 'containing',\n",
              " 'w',\n",
              " 'indigestion',\n",
              " 'parameters',\n",
              " 'palpitations',\n",
              " 'v',\n",
              " 'safety',\n",
              " 'values',\n",
              " 'new',\n",
              " 'strength',\n",
              " 'parkinson',\n",
              " 'order',\n",
              " 'heel',\n",
              " 'restless',\n",
              " 'rapid',\n",
              " 'cough',\n",
              " 'assessed',\n",
              " 'ankles',\n",
              " 'within',\n",
              " 'enzymes',\n",
              " 'they',\n",
              " 'intense',\n",
              " 'dyspnoea',\n",
              " 'lateral',\n",
              " 'ratio',\n",
              " 'ca',\n",
              " 'such',\n",
              " 'steroidal',\n",
              " 'auc',\n",
              " 'without',\n",
              " 'size',\n",
              " 'indomethacin',\n",
              " 'measured',\n",
              " 'hot',\n",
              " 'dark',\n",
              " 'injection',\n",
              " 'twitch',\n",
              " 'vivo',\n",
              " 'felt',\n",
              " 'vitamin',\n",
              " 'range',\n",
              " 'through',\n",
              " 'delivery',\n",
              " 'tendon',\n",
              " 'lupus',\n",
              " 'gout',\n",
              " 'mm',\n",
              " 'depressed',\n",
              " 'related',\n",
              " 'menopause',\n",
              " 'active',\n",
              " 'ng',\n",
              " 'reduction',\n",
              " 'excruciating',\n",
              " 'therapeutic',\n",
              " 'oa',\n",
              " 'liquid',\n",
              " 'dreams',\n",
              " 'determined',\n",
              " 'speech',\n",
              " 'statistically',\n",
              " 'fingers',\n",
              " 'breathing',\n",
              " 'overall',\n",
              " 'taste',\n",
              " 'night',\n",
              " 'healthy',\n",
              " 'moderate',\n",
              " 'scale',\n",
              " 'included',\n",
              " 'samples',\n",
              " 'major',\n",
              " 'compare',\n",
              " 'potential',\n",
              " 'any',\n",
              " 'clearly',\n",
              " 'decrease',\n",
              " 'creatinine',\n",
              " 'edema',\n",
              " 'evaluate',\n",
              " 'greater',\n",
              " 'number',\n",
              " 'applied',\n",
              " 'ii',\n",
              " 'misoprostol',\n",
              " 'ulcer',\n",
              " 'aqueous',\n",
              " 'down',\n",
              " 'terrible',\n",
              " 'baseline',\n",
              " 'drowsy',\n",
              " 'medication',\n",
              " 'tightness',\n",
              " 'scores',\n",
              " 'good',\n",
              " 'fish',\n",
              " 'human',\n",
              " 'ability',\n",
              " 'normal',\n",
              " 'reaction',\n",
              " 'tissue',\n",
              " 'form',\n",
              " 'limbs',\n",
              " 'development',\n",
              " 'bone',\n",
              " 'minutes',\n",
              " 'tolerability',\n",
              " 'uterine',\n",
              " 'polymer',\n",
              " 'fever',\n",
              " 'bioavailability',\n",
              " 'wrist',\n",
              " 'better',\n",
              " 'aspirin',\n",
              " 'k',\n",
              " 'sinus',\n",
              " 'co',\n",
              " 'primary',\n",
              " 'heartburn',\n",
              " 'mouth',\n",
              " 'process',\n",
              " 'products',\n",
              " 'provoked',\n",
              " 'trouble',\n",
              " 'our',\n",
              " 'fenofibrate',\n",
              " 'sustained',\n",
              " 'tract',\n",
              " 'matrix',\n",
              " 'advil',\n",
              " 'nasal',\n",
              " 'colic',\n",
              " 'twitching',\n",
              " 'some',\n",
              " 'amyotrophic',\n",
              " 'fog',\n",
              " 'always',\n",
              " 'demonstrated',\n",
              " 'hypertension',\n",
              " 'bowel',\n",
              " 'dependent',\n",
              " 'light',\n",
              " 'mobility',\n",
              " 'breath',\n",
              " 'addition',\n",
              " 'aim',\n",
              " 'risk',\n",
              " 'mice',\n",
              " 'cox',\n",
              " 'every',\n",
              " 'thighs',\n",
              " 'na',\n",
              " '+',\n",
              " 'revealed',\n",
              " 'think',\n",
              " 'dosage',\n",
              " 'action',\n",
              " 'move',\n",
              " 'tylenol',\n",
              " 'me',\n",
              " 'facial',\n",
              " 'whereas',\n",
              " 'aleve',\n",
              " 'male',\n",
              " 'formation',\n",
              " 'various',\n",
              " 'exercise',\n",
              " 'cancer',\n",
              " 'initial',\n",
              " 'standard',\n",
              " 'about',\n",
              " 'cases',\n",
              " 'randomly',\n",
              " 'agent',\n",
              " 'being',\n",
              " 'attacks',\n",
              " 'onset',\n",
              " 'coq10',\n",
              " 'inhibitor',\n",
              " 'suggest',\n",
              " 'mechanism',\n",
              " 'tight',\n",
              " 'lethargy',\n",
              " 'permeation',\n",
              " 'followed',\n",
              " 'trials',\n",
              " 'alone',\n",
              " 'months',\n",
              " 'profile',\n",
              " 'indicated',\n",
              " 'long',\n",
              " 'surface',\n",
              " 'volunteers',\n",
              " 'presence',\n",
              " 'plantar',\n",
              " 'improvement',\n",
              " 'extremity',\n",
              " 'per',\n",
              " 'loose',\n",
              " 'sugar',\n",
              " 'although',\n",
              " 'divided',\n",
              " 'o',\n",
              " 'congestion',\n",
              " 'generally',\n",
              " 'physical',\n",
              " 'pharmaceutical',\n",
              " 'tolerance',\n",
              " 'horses',\n",
              " 'shown',\n",
              " 'numb',\n",
              " 'inhibition',\n",
              " 'systemic',\n",
              " 'exposure',\n",
              " 'protein',\n",
              " 'pulse',\n",
              " 'rat',\n",
              " 'same',\n",
              " 'complex',\n",
              " 'then',\n",
              " 'treatments',\n",
              " 'fatigued',\n",
              " 'case',\n",
              " 'oedema',\n",
              " 'conducted',\n",
              " 'end',\n",
              " 'cm',\n",
              " 'available',\n",
              " 'animals',\n",
              " 'alpha',\n",
              " 'pharmacokinetic',\n",
              " 'peak',\n",
              " 'evaluation',\n",
              " 'intensity',\n",
              " 'amount',\n",
              " 'including',\n",
              " 'elbows',\n",
              " 'free',\n",
              " 'further',\n",
              " 'sharp',\n",
              " 'experimental',\n",
              " 'content',\n",
              " 'cerebrovascular',\n",
              " 'ms',\n",
              " 'f',\n",
              " 'ringing',\n",
              " 'caused',\n",
              " 'coronary',\n",
              " 'barely',\n",
              " 'fast',\n",
              " 'improved',\n",
              " 'local',\n",
              " 'moody',\n",
              " 'getting',\n",
              " 'fluid',\n",
              " 'extremely',\n",
              " 'six',\n",
              " 'profiles',\n",
              " 'charley',\n",
              " 'should',\n",
              " 'vehicle',\n",
              " 'microspheres',\n",
              " 'finding',\n",
              " 'gi',\n",
              " 'tricor',\n",
              " 'age',\n",
              " 'panic',\n",
              " 'hardly',\n",
              " 'nervous',\n",
              " 'liptor',\n",
              " 'agents',\n",
              " 'sick',\n",
              " 'strain',\n",
              " 'accident',\n",
              " 'relative',\n",
              " 'mental',\n",
              " 'ear',\n",
              " 'film',\n",
              " 'irregular',\n",
              " 'determine',\n",
              " 'tested',\n",
              " 'product',\n",
              " 'tolerated',\n",
              " 'corneal',\n",
              " 'temperature',\n",
              " 'natural',\n",
              " 'deep',\n",
              " 'beads',\n",
              " 'shortness',\n",
              " 'sensations',\n",
              " 'ethyl',\n",
              " 'growth',\n",
              " 'score',\n",
              " 'thoughts',\n",
              " 'vas',\n",
              " 'malignant',\n",
              " 'stamina',\n",
              " 'versus',\n",
              " 'pruritus',\n",
              " 'drive',\n",
              " 'efficiency',\n",
              " 'slurred',\n",
              " 'hour',\n",
              " 'complete',\n",
              " 'analgesia',\n",
              " 'resulted',\n",
              " 'zetia',\n",
              " 'naproxen',\n",
              " 'dizzy',\n",
              " 'sex',\n",
              " 'cmax',\n",
              " 'common',\n",
              " 'periods',\n",
              " ':',\n",
              " 'cd',\n",
              " 'even',\n",
              " 'patch',\n",
              " 'achilles',\n",
              " 'produced',\n",
              " 'evidence',\n",
              " 'enteric',\n",
              " 'among',\n",
              " 'production',\n",
              " 'combined',\n",
              " 'hypersomnia',\n",
              " 'rhabdomyolysis',\n",
              " 'tension',\n",
              " 'norvasc',\n",
              " 'once',\n",
              " 'calcium',\n",
              " 'retention',\n",
              " 'frequent',\n",
              " 'fasciitis',\n",
              " 'commercial',\n",
              " 'als',\n",
              " 'respiratory',\n",
              " 'hunger',\n",
              " 'secondary',\n",
              " 'lost',\n",
              " 'duration',\n",
              " 'ldl',\n",
              " 'eczema',\n",
              " 'diabetic',\n",
              " 'intestinal',\n",
              " 'carried',\n",
              " 'five',\n",
              " 'because',\n",
              " 'assessment',\n",
              " 'neurontin',\n",
              " 'morning',\n",
              " 'cataflam',\n",
              " 'maximum',\n",
              " 'pre',\n",
              " 'dysfunction',\n",
              " 'plus',\n",
              " 'participants',\n",
              " 'according',\n",
              " 'third',\n",
              " '3',\n",
              " 'density',\n",
              " 'quality',\n",
              " 'comparison',\n",
              " 'rofecoxib',\n",
              " 'ocular',\n",
              " 'review',\n",
              " 'show',\n",
              " 'preparation',\n",
              " 'technique',\n",
              " 'sweats',\n",
              " 'phosphate',\n",
              " 'achieved',\n",
              " 'across',\n",
              " 'medium',\n",
              " 'codeine',\n",
              " 'global',\n",
              " 'sensitivity',\n",
              " 'determination',\n",
              " 'models',\n",
              " 'care',\n",
              " 'degrees',\n",
              " 'de',\n",
              " 'synthesis',\n",
              " 'central',\n",
              " 'ci',\n",
              " 'inability',\n",
              " 'cardiovascular',\n",
              " 'least',\n",
              " 'started',\n",
              " 'influence',\n",
              " 'inhibited',\n",
              " 'capsules',\n",
              " 'rectal',\n",
              " 'erythematosus',\n",
              " 'methods',\n",
              " 'increasing',\n",
              " 'stroke',\n",
              " 'novel',\n",
              " 'pellets',\n",
              " 'cataract',\n",
              " 'examined',\n",
              " 'mass',\n",
              " 'tachycardia',\n",
              " 'prostaglandin',\n",
              " 'serious',\n",
              " 'reference',\n",
              " 'erythema',\n",
              " 'forgetful',\n",
              " 'old',\n",
              " 'structure',\n",
              " 'flushing',\n",
              " 'max',\n",
              " 'lopid',\n",
              " 'membrane',\n",
              " 'prednisone',\n",
              " 'year',\n",
              " 'region',\n",
              " 'findings',\n",
              " 'solid',\n",
              " 'random',\n",
              " 'characterized',\n",
              " 'lipid',\n",
              " 'considered',\n",
              " 'around',\n",
              " 'stool',\n",
              " 'several',\n",
              " 'affected',\n",
              " 'sensitive',\n",
              " 'cross',\n",
              " 'interaction',\n",
              " 'second',\n",
              " 'scalp',\n",
              " 'flow',\n",
              " 'menorrhagia',\n",
              " 'lesions',\n",
              " 'aptyalism',\n",
              " 'small',\n",
              " 'venous',\n",
              " 'preparations',\n",
              " 'investigate',\n",
              " 'against',\n",
              " 'loaded',\n",
              " 'site',\n",
              " 'looks',\n",
              " 'expression',\n",
              " 'antiinflammatory',\n",
              " 'comparable',\n",
              " 'thus',\n",
              " 'buffer',\n",
              " 'asthma',\n",
              " 'food',\n",
              " 'itchy',\n",
              " 'provided',\n",
              " 'capsule',\n",
              " 'bp',\n",
              " 'superior',\n",
              " 'experienced',\n",
              " 'indicate',\n",
              " 'solubility',\n",
              " 'diffusion',\n",
              " 'lipex',\n",
              " 'dic',\n",
              " 'extent',\n",
              " 'bursitis',\n",
              " 'receiving',\n",
              " 'volume',\n",
              " 'inhibitors',\n",
              " 'state',\n",
              " 'clinically',\n",
              " 'assess',\n",
              " 'index',\n",
              " 'recorded',\n",
              " 'performance',\n",
              " 'nm',\n",
              " 'lipoprotein',\n",
              " 'do',\n",
              " 'th',\n",
              " 'whether',\n",
              " 'hepatic',\n",
              " 'stand',\n",
              " 'specific',\n",
              " 'hplc',\n",
              " 'saline',\n",
              " 'palsy',\n",
              " 'design',\n",
              " 'spasmodic',\n",
              " 'twice',\n",
              " 'cpk',\n",
              " 'just',\n",
              " 'intramuscular',\n",
              " 'value',\n",
              " 'drops',\n",
              " 'horrible',\n",
              " 'detection',\n",
              " 'provide',\n",
              " 'therefore',\n",
              " 'forearm',\n",
              " 'made',\n",
              " 'nightmares',\n",
              " 'particle',\n",
              " 'self',\n",
              " 'ketorolac',\n",
              " 'scanning',\n",
              " 'taking',\n",
              " 'medications',\n",
              " 'possible',\n",
              " 'omega-3-acid',\n",
              " 'esters-90',\n",
              " 'solutions',\n",
              " 'tissues',\n",
              " '2',\n",
              " 'bell',\n",
              " 'microg',\n",
              " 'early',\n",
              " 'slight',\n",
              " 'factor',\n",
              " 'life',\n",
              " 'incidence',\n",
              " 'climb',\n",
              " ...]"
            ]
          },
          "metadata": {
            "tags": []
          },
          "execution_count": 21
        }
      ]
    },
    {
      "cell_type": "code",
      "metadata": {
        "id": "yPWr03mls3VT",
        "outputId": "5254b441-5741-4fd4-baca-ee82aeab7cf5",
        "colab": {
          "base_uri": "https://localhost:8080/",
          "height": 17
        }
      },
      "source": [
        "model_path = path/'models'\n",
        "model_path.mkdir(exist_ok=True)\n",
        "url = 'http://files.fast.ai/models/wt103_v1/'\n",
        "download_url(f'{url}lstm_wt103.pth', model_path/'lstm_wt103.pth')\n",
        "download_url(f'{url}itos_wt103.pkl', model_path/'itos_wt103.pkl')"
      ],
      "execution_count": 22,
      "outputs": [
        {
          "output_type": "display_data",
          "data": {
            "text/html": [
              ""
            ],
            "text/plain": [
              "<IPython.core.display.HTML object>"
            ]
          },
          "metadata": {
            "tags": []
          }
        },
        {
          "output_type": "display_data",
          "data": {
            "text/html": [
              ""
            ],
            "text/plain": [
              "<IPython.core.display.HTML object>"
            ]
          },
          "metadata": {
            "tags": []
          }
        }
      ]
    },
    {
      "cell_type": "code",
      "metadata": {
        "id": "JRzvWg8RtGGr",
        "outputId": "80036597-aa41-407d-d627-4c1fabb193e3",
        "colab": {
          "base_uri": "https://localhost:8080/",
          "height": 34
        }
      },
      "source": [
        "learn = language_model_learner(data_lm, AWD_LSTM, drop_mult=0.5)"
      ],
      "execution_count": 23,
      "outputs": [
        {
          "output_type": "stream",
          "text": [
            "Downloading https://s3.amazonaws.com/fast-ai-modelzoo/wt103-fwd.tgz\n"
          ],
          "name": "stdout"
        },
        {
          "output_type": "display_data",
          "data": {
            "text/html": [
              ""
            ],
            "text/plain": [
              "<IPython.core.display.HTML object>"
            ]
          },
          "metadata": {
            "tags": []
          }
        }
      ]
    },
    {
      "cell_type": "code",
      "metadata": {
        "id": "xKK7GeBev7Xn",
        "outputId": "7a1317fe-c6db-4866-d94f-f69e613d415f",
        "colab": {
          "base_uri": "https://localhost:8080/",
          "height": 80
        }
      },
      "source": [
        "learn.fit_one_cycle(1, 1e-2)"
      ],
      "execution_count": 24,
      "outputs": [
        {
          "output_type": "display_data",
          "data": {
            "text/html": [
              "<table border=\"1\" class=\"dataframe\">\n",
              "  <thead>\n",
              "    <tr style=\"text-align: left;\">\n",
              "      <th>epoch</th>\n",
              "      <th>train_loss</th>\n",
              "      <th>valid_loss</th>\n",
              "      <th>accuracy</th>\n",
              "      <th>time</th>\n",
              "    </tr>\n",
              "  </thead>\n",
              "  <tbody>\n",
              "    <tr>\n",
              "      <td>0</td>\n",
              "      <td>3.780315</td>\n",
              "      <td>3.386974</td>\n",
              "      <td>0.456842</td>\n",
              "      <td>1:33:10</td>\n",
              "    </tr>\n",
              "  </tbody>\n",
              "</table>"
            ],
            "text/plain": [
              "<IPython.core.display.HTML object>"
            ]
          },
          "metadata": {
            "tags": []
          }
        }
      ]
    },
    {
      "cell_type": "code",
      "metadata": {
        "id": "iB7rHGQCwd12"
      },
      "source": [
        "# learn.fit_one_cycle(1, 1e-2)"
      ],
      "execution_count": 25,
      "outputs": []
    },
    {
      "cell_type": "code",
      "metadata": {
        "id": "_BnSuAeCwkBe"
      },
      "source": [
        "# learn.fit_one_cycle(1, 1e-3)"
      ],
      "execution_count": 26,
      "outputs": []
    },
    {
      "cell_type": "code",
      "metadata": {
        "id": "MuTm-RFjwrEX",
        "outputId": "f4f388e3-47cb-4669-f14f-3797de873aa2",
        "colab": {
          "base_uri": "https://localhost:8080/",
          "height": 80
        }
      },
      "source": [
        "learn.fit_one_cycle(1, 1e-3)"
      ],
      "execution_count": 27,
      "outputs": [
        {
          "output_type": "display_data",
          "data": {
            "text/html": [
              "<table border=\"1\" class=\"dataframe\">\n",
              "  <thead>\n",
              "    <tr style=\"text-align: left;\">\n",
              "      <th>epoch</th>\n",
              "      <th>train_loss</th>\n",
              "      <th>valid_loss</th>\n",
              "      <th>accuracy</th>\n",
              "      <th>time</th>\n",
              "    </tr>\n",
              "  </thead>\n",
              "  <tbody>\n",
              "    <tr>\n",
              "      <td>0</td>\n",
              "      <td>3.413204</td>\n",
              "      <td>3.328706</td>\n",
              "      <td>0.461384</td>\n",
              "      <td>1:32:24</td>\n",
              "    </tr>\n",
              "  </tbody>\n",
              "</table>"
            ],
            "text/plain": [
              "<IPython.core.display.HTML object>"
            ]
          },
          "metadata": {
            "tags": []
          }
        }
      ]
    },
    {
      "cell_type": "code",
      "metadata": {
        "id": "1Er2ExO8wr7Y"
      },
      "source": [
        "learn.save_encoder('pubmed_ask_fold5_first')"
      ],
      "execution_count": 28,
      "outputs": []
    },
    {
      "cell_type": "code",
      "metadata": {
        "id": "z52cZs2qwvad",
        "outputId": "6f84d506-ab82-470b-c1c1-d6ac0f073d9a",
        "colab": {
          "base_uri": "https://localhost:8080/",
          "height": 80
        }
      },
      "source": [
        "learn = text_classifier_learner(data_clas,AWD_LSTM, drop_mult=0.5)\n",
        "learn.load_encoder('pubmed_ask_fold5_first')\n",
        "learn.fit_one_cycle(1, 1e-2)"
      ],
      "execution_count": 29,
      "outputs": [
        {
          "output_type": "display_data",
          "data": {
            "text/html": [
              "<table border=\"1\" class=\"dataframe\">\n",
              "  <thead>\n",
              "    <tr style=\"text-align: left;\">\n",
              "      <th>epoch</th>\n",
              "      <th>train_loss</th>\n",
              "      <th>valid_loss</th>\n",
              "      <th>accuracy</th>\n",
              "      <th>time</th>\n",
              "    </tr>\n",
              "  </thead>\n",
              "  <tbody>\n",
              "    <tr>\n",
              "      <td>0</td>\n",
              "      <td>3.967611</td>\n",
              "      <td>3.523159</td>\n",
              "      <td>0.371648</td>\n",
              "      <td>03:52</td>\n",
              "    </tr>\n",
              "  </tbody>\n",
              "</table>"
            ],
            "text/plain": [
              "<IPython.core.display.HTML object>"
            ]
          },
          "metadata": {
            "tags": []
          }
        }
      ]
    },
    {
      "cell_type": "code",
      "metadata": {
        "id": "ImwQP1PJwzxd",
        "outputId": "d5e5f5c5-8c1b-408e-bcdb-30e020d5469f",
        "colab": {
          "base_uri": "https://localhost:8080/",
          "height": 80
        }
      },
      "source": [
        "learn.freeze_to(-2)\n",
        "learn.fit_one_cycle(1, slice(5e-3/2., 5e-3))"
      ],
      "execution_count": 30,
      "outputs": [
        {
          "output_type": "display_data",
          "data": {
            "text/html": [
              "<table border=\"1\" class=\"dataframe\">\n",
              "  <thead>\n",
              "    <tr style=\"text-align: left;\">\n",
              "      <th>epoch</th>\n",
              "      <th>train_loss</th>\n",
              "      <th>valid_loss</th>\n",
              "      <th>accuracy</th>\n",
              "      <th>time</th>\n",
              "    </tr>\n",
              "  </thead>\n",
              "  <tbody>\n",
              "    <tr>\n",
              "      <td>0</td>\n",
              "      <td>2.930011</td>\n",
              "      <td>3.013497</td>\n",
              "      <td>0.466156</td>\n",
              "      <td>04:32</td>\n",
              "    </tr>\n",
              "  </tbody>\n",
              "</table>"
            ],
            "text/plain": [
              "<IPython.core.display.HTML object>"
            ]
          },
          "metadata": {
            "tags": []
          }
        }
      ]
    },
    {
      "cell_type": "code",
      "metadata": {
        "id": "Owff_BJXw53u",
        "outputId": "54532c1a-d52f-4c64-e3d3-cbd05601484b",
        "colab": {
          "base_uri": "https://localhost:8080/",
          "height": 80
        }
      },
      "source": [
        "learn.unfreeze()\n",
        "learn.fit_one_cycle(1, slice(2e-3/100, 2e-3))"
      ],
      "execution_count": 31,
      "outputs": [
        {
          "output_type": "display_data",
          "data": {
            "text/html": [
              "<table border=\"1\" class=\"dataframe\">\n",
              "  <thead>\n",
              "    <tr style=\"text-align: left;\">\n",
              "      <th>epoch</th>\n",
              "      <th>train_loss</th>\n",
              "      <th>valid_loss</th>\n",
              "      <th>accuracy</th>\n",
              "      <th>time</th>\n",
              "    </tr>\n",
              "  </thead>\n",
              "  <tbody>\n",
              "    <tr>\n",
              "      <td>0</td>\n",
              "      <td>2.364975</td>\n",
              "      <td>2.590929</td>\n",
              "      <td>0.527458</td>\n",
              "      <td>08:52</td>\n",
              "    </tr>\n",
              "  </tbody>\n",
              "</table>"
            ],
            "text/plain": [
              "<IPython.core.display.HTML object>"
            ]
          },
          "metadata": {
            "tags": []
          }
        }
      ]
    },
    {
      "cell_type": "code",
      "metadata": {
        "id": "lqAyu56V8Waq",
        "outputId": "2857ce93-a486-4b0e-dbd7-05f843842d42",
        "colab": {
          "base_uri": "https://localhost:8080/",
          "height": 111
        }
      },
      "source": [
        "learn.fit_one_cycle(2, slice(2e-3/100, 2e-3))"
      ],
      "execution_count": 32,
      "outputs": [
        {
          "output_type": "display_data",
          "data": {
            "text/html": [
              "<table border=\"1\" class=\"dataframe\">\n",
              "  <thead>\n",
              "    <tr style=\"text-align: left;\">\n",
              "      <th>epoch</th>\n",
              "      <th>train_loss</th>\n",
              "      <th>valid_loss</th>\n",
              "      <th>accuracy</th>\n",
              "      <th>time</th>\n",
              "    </tr>\n",
              "  </thead>\n",
              "  <tbody>\n",
              "    <tr>\n",
              "      <td>0</td>\n",
              "      <td>2.013470</td>\n",
              "      <td>2.285984</td>\n",
              "      <td>0.595147</td>\n",
              "      <td>09:58</td>\n",
              "    </tr>\n",
              "    <tr>\n",
              "      <td>1</td>\n",
              "      <td>1.700988</td>\n",
              "      <td>2.099511</td>\n",
              "      <td>0.629630</td>\n",
              "      <td>10:12</td>\n",
              "    </tr>\n",
              "  </tbody>\n",
              "</table>"
            ],
            "text/plain": [
              "<IPython.core.display.HTML object>"
            ]
          },
          "metadata": {
            "tags": []
          }
        }
      ]
    },
    {
      "cell_type": "code",
      "metadata": {
        "id": "a7I1xMRp8bUd",
        "outputId": "350a4a9b-253e-4faf-e6d7-a8a0d4af12d0",
        "colab": {
          "base_uri": "https://localhost:8080/",
          "height": 111
        }
      },
      "source": [
        "learn.fit_one_cycle(2, slice(2e-3/100, 2e-3))"
      ],
      "execution_count": 33,
      "outputs": [
        {
          "output_type": "display_data",
          "data": {
            "text/html": [
              "<table border=\"1\" class=\"dataframe\">\n",
              "  <thead>\n",
              "    <tr style=\"text-align: left;\">\n",
              "      <th>epoch</th>\n",
              "      <th>train_loss</th>\n",
              "      <th>valid_loss</th>\n",
              "      <th>accuracy</th>\n",
              "      <th>time</th>\n",
              "    </tr>\n",
              "  </thead>\n",
              "  <tbody>\n",
              "    <tr>\n",
              "      <td>0</td>\n",
              "      <td>1.592432</td>\n",
              "      <td>1.928155</td>\n",
              "      <td>0.644955</td>\n",
              "      <td>09:21</td>\n",
              "    </tr>\n",
              "    <tr>\n",
              "      <td>1</td>\n",
              "      <td>1.386737</td>\n",
              "      <td>1.822559</td>\n",
              "      <td>0.680715</td>\n",
              "      <td>09:35</td>\n",
              "    </tr>\n",
              "  </tbody>\n",
              "</table>"
            ],
            "text/plain": [
              "<IPython.core.display.HTML object>"
            ]
          },
          "metadata": {
            "tags": []
          }
        }
      ]
    },
    {
      "cell_type": "code",
      "metadata": {
        "id": "UAnti-XmGVfO",
        "outputId": "2f12e802-5cb1-49e7-c750-ba5303c5ac76",
        "colab": {
          "base_uri": "https://localhost:8080/",
          "height": 111
        }
      },
      "source": [
        "learn.fit_one_cycle(2, slice(2e-3/100, 2e-3))"
      ],
      "execution_count": 34,
      "outputs": [
        {
          "output_type": "display_data",
          "data": {
            "text/html": [
              "<table border=\"1\" class=\"dataframe\">\n",
              "  <thead>\n",
              "    <tr style=\"text-align: left;\">\n",
              "      <th>epoch</th>\n",
              "      <th>train_loss</th>\n",
              "      <th>valid_loss</th>\n",
              "      <th>accuracy</th>\n",
              "      <th>time</th>\n",
              "    </tr>\n",
              "  </thead>\n",
              "  <tbody>\n",
              "    <tr>\n",
              "      <td>0</td>\n",
              "      <td>1.230929</td>\n",
              "      <td>1.667969</td>\n",
              "      <td>0.696041</td>\n",
              "      <td>09:06</td>\n",
              "    </tr>\n",
              "    <tr>\n",
              "      <td>1</td>\n",
              "      <td>1.078532</td>\n",
              "      <td>1.602040</td>\n",
              "      <td>0.706258</td>\n",
              "      <td>09:26</td>\n",
              "    </tr>\n",
              "  </tbody>\n",
              "</table>"
            ],
            "text/plain": [
              "<IPython.core.display.HTML object>"
            ]
          },
          "metadata": {
            "tags": []
          }
        }
      ]
    },
    {
      "cell_type": "code",
      "metadata": {
        "id": "bIft7W25GwSu",
        "outputId": "d1a52eb2-048a-4a75-9e2c-d64a7e1fbda7",
        "colab": {
          "base_uri": "https://localhost:8080/",
          "height": 111
        }
      },
      "source": [
        "learn.fit_one_cycle(2, slice(2e-3/100, 2e-3))"
      ],
      "execution_count": 35,
      "outputs": [
        {
          "output_type": "display_data",
          "data": {
            "text/html": [
              "<table border=\"1\" class=\"dataframe\">\n",
              "  <thead>\n",
              "    <tr style=\"text-align: left;\">\n",
              "      <th>epoch</th>\n",
              "      <th>train_loss</th>\n",
              "      <th>valid_loss</th>\n",
              "      <th>accuracy</th>\n",
              "      <th>time</th>\n",
              "    </tr>\n",
              "  </thead>\n",
              "  <tbody>\n",
              "    <tr>\n",
              "      <td>0</td>\n",
              "      <td>1.061169</td>\n",
              "      <td>1.514435</td>\n",
              "      <td>0.721584</td>\n",
              "      <td>09:38</td>\n",
              "    </tr>\n",
              "    <tr>\n",
              "      <td>1</td>\n",
              "      <td>0.849137</td>\n",
              "      <td>1.446217</td>\n",
              "      <td>0.734355</td>\n",
              "      <td>09:20</td>\n",
              "    </tr>\n",
              "  </tbody>\n",
              "</table>"
            ],
            "text/plain": [
              "<IPython.core.display.HTML object>"
            ]
          },
          "metadata": {
            "tags": []
          }
        }
      ]
    },
    {
      "cell_type": "code",
      "metadata": {
        "id": "EEHszVRvGyFt",
        "outputId": "3bce5983-551f-434c-f29b-36628a039f6c",
        "colab": {
          "base_uri": "https://localhost:8080/",
          "height": 111
        }
      },
      "source": [
        "learn.fit_one_cycle(2, slice(2e-3/100, 2e-3))"
      ],
      "execution_count": 36,
      "outputs": [
        {
          "output_type": "display_data",
          "data": {
            "text/html": [
              "<table border=\"1\" class=\"dataframe\">\n",
              "  <thead>\n",
              "    <tr style=\"text-align: left;\">\n",
              "      <th>epoch</th>\n",
              "      <th>train_loss</th>\n",
              "      <th>valid_loss</th>\n",
              "      <th>accuracy</th>\n",
              "      <th>time</th>\n",
              "    </tr>\n",
              "  </thead>\n",
              "  <tbody>\n",
              "    <tr>\n",
              "      <td>0</td>\n",
              "      <td>0.842305</td>\n",
              "      <td>1.423262</td>\n",
              "      <td>0.734355</td>\n",
              "      <td>08:49</td>\n",
              "    </tr>\n",
              "    <tr>\n",
              "      <td>1</td>\n",
              "      <td>0.741426</td>\n",
              "      <td>1.329082</td>\n",
              "      <td>0.758621</td>\n",
              "      <td>09:50</td>\n",
              "    </tr>\n",
              "  </tbody>\n",
              "</table>"
            ],
            "text/plain": [
              "<IPython.core.display.HTML object>"
            ]
          },
          "metadata": {
            "tags": []
          }
        }
      ]
    },
    {
      "cell_type": "code",
      "metadata": {
        "id": "XsHfrhCHG3dN",
        "outputId": "69fd6e1d-b448-463c-c16c-b07b9da6e06a",
        "colab": {
          "base_uri": "https://localhost:8080/",
          "height": 173
        }
      },
      "source": [
        "learn.fit_one_cycle(4, slice(2e-3/100, 2e-3))"
      ],
      "execution_count": 37,
      "outputs": [
        {
          "output_type": "display_data",
          "data": {
            "text/html": [
              "<table border=\"1\" class=\"dataframe\">\n",
              "  <thead>\n",
              "    <tr style=\"text-align: left;\">\n",
              "      <th>epoch</th>\n",
              "      <th>train_loss</th>\n",
              "      <th>valid_loss</th>\n",
              "      <th>accuracy</th>\n",
              "      <th>time</th>\n",
              "    </tr>\n",
              "  </thead>\n",
              "  <tbody>\n",
              "    <tr>\n",
              "      <td>0</td>\n",
              "      <td>0.712314</td>\n",
              "      <td>1.333238</td>\n",
              "      <td>0.758621</td>\n",
              "      <td>09:07</td>\n",
              "    </tr>\n",
              "    <tr>\n",
              "      <td>1</td>\n",
              "      <td>0.695249</td>\n",
              "      <td>1.277151</td>\n",
              "      <td>0.763729</td>\n",
              "      <td>09:04</td>\n",
              "    </tr>\n",
              "    <tr>\n",
              "      <td>2</td>\n",
              "      <td>0.565292</td>\n",
              "      <td>1.240200</td>\n",
              "      <td>0.770115</td>\n",
              "      <td>09:27</td>\n",
              "    </tr>\n",
              "    <tr>\n",
              "      <td>3</td>\n",
              "      <td>0.475601</td>\n",
              "      <td>1.225326</td>\n",
              "      <td>0.780332</td>\n",
              "      <td>09:47</td>\n",
              "    </tr>\n",
              "  </tbody>\n",
              "</table>"
            ],
            "text/plain": [
              "<IPython.core.display.HTML object>"
            ]
          },
          "metadata": {
            "tags": []
          }
        }
      ]
    },
    {
      "cell_type": "code",
      "metadata": {
        "id": "0Zsd99isb9EQ",
        "outputId": "070ffe67-9421-4755-c44b-301745ff8a5b",
        "colab": {
          "base_uri": "https://localhost:8080/",
          "height": 173
        }
      },
      "source": [
        "learn.fit_one_cycle(4, slice(2e-3/100, 2e-3))"
      ],
      "execution_count": 38,
      "outputs": [
        {
          "output_type": "display_data",
          "data": {
            "text/html": [
              "<table border=\"1\" class=\"dataframe\">\n",
              "  <thead>\n",
              "    <tr style=\"text-align: left;\">\n",
              "      <th>epoch</th>\n",
              "      <th>train_loss</th>\n",
              "      <th>valid_loss</th>\n",
              "      <th>accuracy</th>\n",
              "      <th>time</th>\n",
              "    </tr>\n",
              "  </thead>\n",
              "  <tbody>\n",
              "    <tr>\n",
              "      <td>0</td>\n",
              "      <td>0.495066</td>\n",
              "      <td>1.242786</td>\n",
              "      <td>0.768838</td>\n",
              "      <td>09:07</td>\n",
              "    </tr>\n",
              "    <tr>\n",
              "      <td>1</td>\n",
              "      <td>0.515897</td>\n",
              "      <td>1.236981</td>\n",
              "      <td>0.777778</td>\n",
              "      <td>08:56</td>\n",
              "    </tr>\n",
              "    <tr>\n",
              "      <td>2</td>\n",
              "      <td>0.454311</td>\n",
              "      <td>1.191340</td>\n",
              "      <td>0.791826</td>\n",
              "      <td>09:28</td>\n",
              "    </tr>\n",
              "    <tr>\n",
              "      <td>3</td>\n",
              "      <td>0.363375</td>\n",
              "      <td>1.170614</td>\n",
              "      <td>0.798212</td>\n",
              "      <td>10:07</td>\n",
              "    </tr>\n",
              "  </tbody>\n",
              "</table>"
            ],
            "text/plain": [
              "<IPython.core.display.HTML object>"
            ]
          },
          "metadata": {
            "tags": []
          }
        }
      ]
    },
    {
      "cell_type": "code",
      "metadata": {
        "id": "atNWNKDFPbuI",
        "outputId": "be116a4c-a553-4b18-9452-66b8684f0740",
        "colab": {
          "base_uri": "https://localhost:8080/",
          "height": 173
        }
      },
      "source": [
        "learn.fit_one_cycle(4, slice(2e-3/100, 2e-3))"
      ],
      "execution_count": 39,
      "outputs": [
        {
          "output_type": "display_data",
          "data": {
            "text/html": [
              "<table border=\"1\" class=\"dataframe\">\n",
              "  <thead>\n",
              "    <tr style=\"text-align: left;\">\n",
              "      <th>epoch</th>\n",
              "      <th>train_loss</th>\n",
              "      <th>valid_loss</th>\n",
              "      <th>accuracy</th>\n",
              "      <th>time</th>\n",
              "    </tr>\n",
              "  </thead>\n",
              "  <tbody>\n",
              "    <tr>\n",
              "      <td>0</td>\n",
              "      <td>0.380325</td>\n",
              "      <td>1.155571</td>\n",
              "      <td>0.793103</td>\n",
              "      <td>09:32</td>\n",
              "    </tr>\n",
              "    <tr>\n",
              "      <td>1</td>\n",
              "      <td>0.422720</td>\n",
              "      <td>1.180089</td>\n",
              "      <td>0.787995</td>\n",
              "      <td>10:08</td>\n",
              "    </tr>\n",
              "    <tr>\n",
              "      <td>2</td>\n",
              "      <td>0.355390</td>\n",
              "      <td>1.110142</td>\n",
              "      <td>0.803321</td>\n",
              "      <td>09:56</td>\n",
              "    </tr>\n",
              "    <tr>\n",
              "      <td>3</td>\n",
              "      <td>0.301288</td>\n",
              "      <td>1.149689</td>\n",
              "      <td>0.803321</td>\n",
              "      <td>09:43</td>\n",
              "    </tr>\n",
              "  </tbody>\n",
              "</table>"
            ],
            "text/plain": [
              "<IPython.core.display.HTML object>"
            ]
          },
          "metadata": {
            "tags": []
          }
        }
      ]
    },
    {
      "cell_type": "code",
      "metadata": {
        "id": "rKrBTZ0T1uVA",
        "outputId": "63a1d159-28ac-4fad-ce90-65905369947d",
        "colab": {
          "base_uri": "https://localhost:8080/",
          "height": 173
        }
      },
      "source": [
        "learn.fit_one_cycle(4, slice(2e-3/100, 2e-3))"
      ],
      "execution_count": 40,
      "outputs": [
        {
          "output_type": "display_data",
          "data": {
            "text/html": [
              "<table border=\"1\" class=\"dataframe\">\n",
              "  <thead>\n",
              "    <tr style=\"text-align: left;\">\n",
              "      <th>epoch</th>\n",
              "      <th>train_loss</th>\n",
              "      <th>valid_loss</th>\n",
              "      <th>accuracy</th>\n",
              "      <th>time</th>\n",
              "    </tr>\n",
              "  </thead>\n",
              "  <tbody>\n",
              "    <tr>\n",
              "      <td>0</td>\n",
              "      <td>0.325772</td>\n",
              "      <td>1.146589</td>\n",
              "      <td>0.802043</td>\n",
              "      <td>09:27</td>\n",
              "    </tr>\n",
              "    <tr>\n",
              "      <td>1</td>\n",
              "      <td>0.338919</td>\n",
              "      <td>1.130369</td>\n",
              "      <td>0.803321</td>\n",
              "      <td>09:23</td>\n",
              "    </tr>\n",
              "    <tr>\n",
              "      <td>2</td>\n",
              "      <td>0.283533</td>\n",
              "      <td>1.171353</td>\n",
              "      <td>0.822478</td>\n",
              "      <td>09:29</td>\n",
              "    </tr>\n",
              "    <tr>\n",
              "      <td>3</td>\n",
              "      <td>0.269689</td>\n",
              "      <td>1.119172</td>\n",
              "      <td>0.822478</td>\n",
              "      <td>09:41</td>\n",
              "    </tr>\n",
              "  </tbody>\n",
              "</table>"
            ],
            "text/plain": [
              "<IPython.core.display.HTML object>"
            ]
          },
          "metadata": {
            "tags": []
          }
        }
      ]
    },
    {
      "cell_type": "code",
      "metadata": {
        "id": "ajQC6WDg1yA9",
        "outputId": "b4449d3d-e128-4c9d-a21d-1b4bfa2f7688",
        "colab": {
          "base_uri": "https://localhost:8080/",
          "height": 173
        }
      },
      "source": [
        "learn.fit_one_cycle(4, slice(2e-3/100, 2e-3))"
      ],
      "execution_count": 41,
      "outputs": [
        {
          "output_type": "display_data",
          "data": {
            "text/html": [
              "<table border=\"1\" class=\"dataframe\">\n",
              "  <thead>\n",
              "    <tr style=\"text-align: left;\">\n",
              "      <th>epoch</th>\n",
              "      <th>train_loss</th>\n",
              "      <th>valid_loss</th>\n",
              "      <th>accuracy</th>\n",
              "      <th>time</th>\n",
              "    </tr>\n",
              "  </thead>\n",
              "  <tbody>\n",
              "    <tr>\n",
              "      <td>0</td>\n",
              "      <td>0.250872</td>\n",
              "      <td>1.113349</td>\n",
              "      <td>0.821200</td>\n",
              "      <td>09:58</td>\n",
              "    </tr>\n",
              "    <tr>\n",
              "      <td>1</td>\n",
              "      <td>0.292270</td>\n",
              "      <td>1.166984</td>\n",
              "      <td>0.807152</td>\n",
              "      <td>09:13</td>\n",
              "    </tr>\n",
              "    <tr>\n",
              "      <td>2</td>\n",
              "      <td>0.256098</td>\n",
              "      <td>1.123202</td>\n",
              "      <td>0.833972</td>\n",
              "      <td>09:12</td>\n",
              "    </tr>\n",
              "    <tr>\n",
              "      <td>3</td>\n",
              "      <td>0.213805</td>\n",
              "      <td>1.115637</td>\n",
              "      <td>0.836526</td>\n",
              "      <td>08:55</td>\n",
              "    </tr>\n",
              "  </tbody>\n",
              "</table>"
            ],
            "text/plain": [
              "<IPython.core.display.HTML object>"
            ]
          },
          "metadata": {
            "tags": []
          }
        }
      ]
    },
    {
      "cell_type": "code",
      "metadata": {
        "id": "KKydb0B4BKGk",
        "outputId": "78f3d094-43e6-42c4-9917-acbe54f5a513",
        "colab": {
          "base_uri": "https://localhost:8080/",
          "height": 173
        }
      },
      "source": [
        "learn.fit_one_cycle(4, slice(2e-3/100, 2e-3))"
      ],
      "execution_count": 42,
      "outputs": [
        {
          "output_type": "display_data",
          "data": {
            "text/html": [
              "<table border=\"1\" class=\"dataframe\">\n",
              "  <thead>\n",
              "    <tr style=\"text-align: left;\">\n",
              "      <th>epoch</th>\n",
              "      <th>train_loss</th>\n",
              "      <th>valid_loss</th>\n",
              "      <th>accuracy</th>\n",
              "      <th>time</th>\n",
              "    </tr>\n",
              "  </thead>\n",
              "  <tbody>\n",
              "    <tr>\n",
              "      <td>0</td>\n",
              "      <td>0.248544</td>\n",
              "      <td>1.147261</td>\n",
              "      <td>0.817369</td>\n",
              "      <td>09:23</td>\n",
              "    </tr>\n",
              "    <tr>\n",
              "      <td>1</td>\n",
              "      <td>0.273241</td>\n",
              "      <td>1.189617</td>\n",
              "      <td>0.817369</td>\n",
              "      <td>09:02</td>\n",
              "    </tr>\n",
              "    <tr>\n",
              "      <td>2</td>\n",
              "      <td>0.239500</td>\n",
              "      <td>1.150547</td>\n",
              "      <td>0.828863</td>\n",
              "      <td>09:59</td>\n",
              "    </tr>\n",
              "    <tr>\n",
              "      <td>3</td>\n",
              "      <td>0.203521</td>\n",
              "      <td>1.128514</td>\n",
              "      <td>0.822478</td>\n",
              "      <td>09:30</td>\n",
              "    </tr>\n",
              "  </tbody>\n",
              "</table>"
            ],
            "text/plain": [
              "<IPython.core.display.HTML object>"
            ]
          },
          "metadata": {
            "tags": []
          }
        }
      ]
    },
    {
      "cell_type": "code",
      "metadata": {
        "id": "T2APKtFKBpGY",
        "outputId": "b96eb02b-ae58-41a4-ad5e-bc1945cd3674",
        "colab": {
          "base_uri": "https://localhost:8080/",
          "height": 173
        }
      },
      "source": [
        "learn.fit_one_cycle(4, slice(2e-3/100, 2e-3))"
      ],
      "execution_count": 43,
      "outputs": [
        {
          "output_type": "display_data",
          "data": {
            "text/html": [
              "<table border=\"1\" class=\"dataframe\">\n",
              "  <thead>\n",
              "    <tr style=\"text-align: left;\">\n",
              "      <th>epoch</th>\n",
              "      <th>train_loss</th>\n",
              "      <th>valid_loss</th>\n",
              "      <th>accuracy</th>\n",
              "      <th>time</th>\n",
              "    </tr>\n",
              "  </thead>\n",
              "  <tbody>\n",
              "    <tr>\n",
              "      <td>0</td>\n",
              "      <td>0.213866</td>\n",
              "      <td>1.132328</td>\n",
              "      <td>0.823755</td>\n",
              "      <td>10:02</td>\n",
              "    </tr>\n",
              "    <tr>\n",
              "      <td>1</td>\n",
              "      <td>0.245891</td>\n",
              "      <td>1.169121</td>\n",
              "      <td>0.825032</td>\n",
              "      <td>09:50</td>\n",
              "    </tr>\n",
              "    <tr>\n",
              "      <td>2</td>\n",
              "      <td>0.210952</td>\n",
              "      <td>1.132126</td>\n",
              "      <td>0.826309</td>\n",
              "      <td>10:01</td>\n",
              "    </tr>\n",
              "    <tr>\n",
              "      <td>3</td>\n",
              "      <td>0.200280</td>\n",
              "      <td>1.117414</td>\n",
              "      <td>0.827586</td>\n",
              "      <td>09:04</td>\n",
              "    </tr>\n",
              "  </tbody>\n",
              "</table>"
            ],
            "text/plain": [
              "<IPython.core.display.HTML object>"
            ]
          },
          "metadata": {
            "tags": []
          }
        }
      ]
    },
    {
      "cell_type": "code",
      "metadata": {
        "id": "qtTypA1sPgLU",
        "outputId": "8cec905b-ae65-4aa6-d228-cb60e7a885d5",
        "colab": {
          "base_uri": "https://localhost:8080/",
          "height": 111
        }
      },
      "source": [
        "learn.fit_one_cycle(2, slice(2e-3/100, 2e-3))"
      ],
      "execution_count": 44,
      "outputs": [
        {
          "output_type": "display_data",
          "data": {
            "text/html": [
              "<table border=\"1\" class=\"dataframe\">\n",
              "  <thead>\n",
              "    <tr style=\"text-align: left;\">\n",
              "      <th>epoch</th>\n",
              "      <th>train_loss</th>\n",
              "      <th>valid_loss</th>\n",
              "      <th>accuracy</th>\n",
              "      <th>time</th>\n",
              "    </tr>\n",
              "  </thead>\n",
              "  <tbody>\n",
              "    <tr>\n",
              "      <td>0</td>\n",
              "      <td>0.214610</td>\n",
              "      <td>1.197825</td>\n",
              "      <td>0.825032</td>\n",
              "      <td>08:53</td>\n",
              "    </tr>\n",
              "    <tr>\n",
              "      <td>1</td>\n",
              "      <td>0.210810</td>\n",
              "      <td>1.097320</td>\n",
              "      <td>0.826309</td>\n",
              "      <td>09:16</td>\n",
              "    </tr>\n",
              "  </tbody>\n",
              "</table>"
            ],
            "text/plain": [
              "<IPython.core.display.HTML object>"
            ]
          },
          "metadata": {
            "tags": []
          }
        }
      ]
    },
    {
      "cell_type": "code",
      "metadata": {
        "id": "b242kBsTUp9Y",
        "outputId": "901998f2-cd17-4957-ef43-b1c55015ed80",
        "colab": {
          "base_uri": "https://localhost:8080/",
          "height": 111
        }
      },
      "source": [
        "learn.fit_one_cycle(2, slice(2e-3/100, 2e-3))"
      ],
      "execution_count": 45,
      "outputs": [
        {
          "output_type": "display_data",
          "data": {
            "text/html": [
              "<table border=\"1\" class=\"dataframe\">\n",
              "  <thead>\n",
              "    <tr style=\"text-align: left;\">\n",
              "      <th>epoch</th>\n",
              "      <th>train_loss</th>\n",
              "      <th>valid_loss</th>\n",
              "      <th>accuracy</th>\n",
              "      <th>time</th>\n",
              "    </tr>\n",
              "  </thead>\n",
              "  <tbody>\n",
              "    <tr>\n",
              "      <td>0</td>\n",
              "      <td>0.225079</td>\n",
              "      <td>1.182037</td>\n",
              "      <td>0.828863</td>\n",
              "      <td>10:06</td>\n",
              "    </tr>\n",
              "    <tr>\n",
              "      <td>1</td>\n",
              "      <td>0.219667</td>\n",
              "      <td>1.187382</td>\n",
              "      <td>0.833972</td>\n",
              "      <td>09:29</td>\n",
              "    </tr>\n",
              "  </tbody>\n",
              "</table>"
            ],
            "text/plain": [
              "<IPython.core.display.HTML object>"
            ]
          },
          "metadata": {
            "tags": []
          }
        }
      ]
    },
    {
      "cell_type": "code",
      "metadata": {
        "id": "Duwf1Ih5VeDZ",
        "outputId": "15a08ec8-d4dd-4d53-a136-992ea74d5b7a",
        "colab": {
          "base_uri": "https://localhost:8080/",
          "height": 80
        }
      },
      "source": [
        "learn.fit_one_cycle(1, slice(2e-3/100, 2e-3))"
      ],
      "execution_count": 46,
      "outputs": [
        {
          "output_type": "display_data",
          "data": {
            "text/html": [
              "<table border=\"1\" class=\"dataframe\">\n",
              "  <thead>\n",
              "    <tr style=\"text-align: left;\">\n",
              "      <th>epoch</th>\n",
              "      <th>train_loss</th>\n",
              "      <th>valid_loss</th>\n",
              "      <th>accuracy</th>\n",
              "      <th>time</th>\n",
              "    </tr>\n",
              "  </thead>\n",
              "  <tbody>\n",
              "    <tr>\n",
              "      <td>0</td>\n",
              "      <td>0.206944</td>\n",
              "      <td>1.175350</td>\n",
              "      <td>0.823755</td>\n",
              "      <td>09:33</td>\n",
              "    </tr>\n",
              "  </tbody>\n",
              "</table>"
            ],
            "text/plain": [
              "<IPython.core.display.HTML object>"
            ]
          },
          "metadata": {
            "tags": []
          }
        }
      ]
    },
    {
      "cell_type": "code",
      "metadata": {
        "id": "c65d-osfDUXm"
      },
      "source": [
        "# save the best model\n",
        "\n",
        "learn.save_encoder('pubmed_ask_mixed_fold5')"
      ],
      "execution_count": 47,
      "outputs": []
    },
    {
      "cell_type": "markdown",
      "metadata": {
        "id": "rCwZU0E2RgM6"
      },
      "source": [
        "# Part three: Predict on the test dataset"
      ]
    },
    {
      "cell_type": "code",
      "metadata": {
        "id": "gDm72c-dOu7d",
        "outputId": "bd5d8d93-fa6d-4c01-fe44-4b0863960771",
        "colab": {
          "base_uri": "https://localhost:8080/",
          "height": 17
        }
      },
      "source": [
        "# use the test data for prediction\n",
        "\n",
        "preds, y = learn.get_preds(DatasetType.Test)"
      ],
      "execution_count": 48,
      "outputs": [
        {
          "output_type": "display_data",
          "data": {
            "text/html": [
              ""
            ],
            "text/plain": [
              "<IPython.core.display.HTML object>"
            ]
          },
          "metadata": {
            "tags": []
          }
        }
      ]
    },
    {
      "cell_type": "code",
      "metadata": {
        "id": "6tFSQcsWPvxn",
        "outputId": "ea48c5fe-9a25-4c75-e0f6-362ef61e6275",
        "colab": {
          "base_uri": "https://localhost:8080/",
          "height": 105
        }
      },
      "source": [
        "predictions, *_ = learn.get_preds(DatasetType.Test)\n",
        "labels = np.argmax(predictions, 1)\n",
        "predict_list = labels.tolist()\n",
        "standard_list = test[0].tolist()\n",
        "\n",
        "print(len(predict_list))\n",
        "print(len(standard_list))\n",
        "\n",
        "print(predict_list)\n",
        "print(standard_list)"
      ],
      "execution_count": 49,
      "outputs": [
        {
          "output_type": "display_data",
          "data": {
            "text/html": [
              ""
            ],
            "text/plain": [
              "<IPython.core.display.HTML object>"
            ]
          },
          "metadata": {
            "tags": []
          }
        },
        {
          "output_type": "stream",
          "text": [
            "866\n",
            "866\n",
            "[0, 861, 2, 2, 211, 8, 8, 8, 8, 16, 16, 16, 19, 27, 644, 27, 110, 197, 197, 197, 37, 37, 37, 37, 37, 37, 38, 48, 49, 617, 49, 49, 49, 49, 53, 53, 53, 58, 62, 75, 616, 71, 71, 71, 71, 76, 209, 864, 79, 79, 79, 79, 79, 79, 79, 79, 79, 79, 79, 79, 79, 79, 79, 79, 79, 79, 79, 79, 79, 79, 79, 79, 79, 79, 79, 79, 79, 79, 79, 79, 79, 79, 79, 79, 79, 79, 80, 80, 300, 83, 733, 206, 92, 94, 94, 94, 94, 94, 94, 95, 96, 578, 96, 98, 100, 100, 100, 100, 545, 100, 100, 100, 100, 103, 104, 287, 107, 107, 108, 108, 108, 111, 730, 111, 111, 111, 111, 111, 111, 111, 616, 119, 122, 515, 122, 122, 125, 616, 2, 125, 125, 125, 125, 125, 135, 616, 137, 137, 344, 148, 529, 151, 157, 865, 375, 509, 166, 166, 166, 171, 172, 172, 289, 172, 172, 172, 172, 172, 172, 172, 173, 173, 214, 902, 201, 165, 904, 904, 182, 182, 183, 183, 183, 183, 183, 183, 183, 183, 184, 187, 187, 190, 190, 190, 190, 289, 188, 190, 190, 190, 190, 190, 190, 265, 193, 644, 197, 197, 197, 197, 197, 202, 202, 205, 209, 210, 210, 211, 211, 214, 214, 214, 214, 214, 214, 214, 214, 214, 214, 214, 214, 214, 214, 214, 214, 214, 58, 214, 214, 236, 214, 214, 214, 216, 373, 218, 220, 220, 220, 228, 289, 228, 228, 228, 228, 228, 228, 228, 228, 228, 228, 749, 234, 235, 574, 702, 402, 42, 648, 238, 238, 243, 243, 243, 243, 243, 243, 243, 243, 243, 243, 243, 993, 244, 765, 245, 245, 245, 245, 245, 245, 246, 246, 246, 254, 648, 746, 440, 258, 264, 265, 265, 265, 265, 265, 265, 265, 704, 265, 265, 265, 265, 265, 265, 265, 265, 265, 265, 265, 265, 265, 837, 265, 75, 182, 89, 89, 75, 269, 97, 682, 279, 279, 280, 859, 281, 281, 283, 581, 289, 704, 289, 79, 289, 289, 741, 289, 289, 289, 289, 289, 289, 289, 289, 289, 289, 614, 301, 301, 309, 265, 309, 309, 289, 309, 309, 321, 313, 313, 318, 318, 182, 260, 322, 325, 325, 325, 325, 49, 626, 325, 326, 329, 5, 100, 334, 336, 337, 342, 342, 342, 342, 343, 343, 344, 364, 359, 359, 359, 363, 363, 364, 364, 664, 228, 391, 396, 718, 397, 289, 401, 309, 402, 408, 408, 408, 408, 408, 408, 23, 359, 415, 652, 652, 289, 419, 419, 419, 419, 419, 419, 419, 419, 424, 426, 426, 197, 427, 427, 427, 427, 427, 427, 427, 427, 427, 427, 427, 427, 430, 61, 434, 435, 437, 443, 444, 445, 391, 454, 455, 455, 837, 455, 455, 455, 455, 455, 455, 455, 458, 458, 460, 462, 604, 470, 474, 475, 475, 475, 476, 479, 588, 484, 484, 487, 490, 491, 491, 491, 847, 662, 256, 495, 397, 499, 499, 398, 503, 509, 509, 797, 517, 517, 517, 517, 517, 522, 524, 527, 530, 922, 530, 530, 530, 531, 531, 644, 532, 541, 545, 545, 545, 649, 548, 549, 787, 567, 572, 769, 578, 578, 579, 100, 31, 590, 590, 591, 591, 592, 592, 535, 597, 427, 616, 597, 597, 504, 837, 228, 610, 610, 837, 611, 614, 614, 614, 614, 619, 619, 348, 623, 623, 623, 623, 638, 643, 646, 646, 646, 646, 646, 973, 172, 652, 652, 652, 652, 659, 660, 265, 491, 662, 663, 666, 666, 274, 686, 693, 289, 698, 696, 289, 265, 678, 707, 710, 106, 711, 711, 711, 714, 716, 676, 572, 727, 739, 37, 741, 202, 291, 746, 749, 749, 861, 753, 753, 753, 753, 753, 681, 644, 9, 338, 681, 723, 772, 775, 775, 775, 775, 775, 775, 775, 778, 779, 780, 783, 416, 795, 798, 416, 802, 803, 804, 837, 528, 806, 806, 183, 809, 809, 809, 810, 810, 817, 890, 825, 826, 393, 830, 830, 830, 830, 830, 830, 830, 498, 202, 836, 370, 841, 841, 4, 844, 888, 846, 847, 416, 847, 852, 853, 853, 853, 853, 53, 90, 861, 865, 877, 102, 887, 97, 896, 896, 896, 896, 896, 896, 896, 896, 897, 363, 363, 904, 75, 915, 919, 921, 122, 927, 933, 937, 937, 937, 937, 937, 940, 948, 948, 983, 949, 949, 949, 949, 949, 949, 949, 949, 949, 949, 949, 949, 949, 949, 949, 949, 949, 949, 949, 949, 949, 949, 949, 949, 949, 949, 949, 949, 949, 949, 949, 949, 949, 949, 949, 949, 949, 949, 949, 949, 949, 949, 949, 949, 949, 949, 949, 949, 949, 949, 949, 949, 949, 949, 949, 949, 949, 949, 949, 949, 949, 949, 949, 949, 949, 949, 949, 949, 949, 949, 949, 949, 949, 949, 949, 949, 949, 949, 949, 949, 949, 949, 949, 949, 949, 949, 949, 949, 949, 949, 949, 949, 949, 949, 949, 949, 949, 949, 949, 949, 949, 949, 950, 950, 950, 950, 950, 952, 953, 955, 956, 959, 960, 964, 964, 971, 974, 976, 976, 616, 981, 987, 837, 993, 992, 973, 999, 881, 999, 983, 1001, 1004, 1016, 1016, 993, 77, 1026, 1028, 1028, 1029, 1029, 1028, 1028, 1032, 1035, 1035]\n",
            "[0, 0, 2, 2, 2, 8, 8, 8, 8, 16, 16, 16, 19, 27, 27, 27, 33, 34, 34, 34, 37, 37, 37, 37, 37, 37, 38, 48, 49, 49, 49, 49, 49, 49, 53, 53, 53, 58, 62, 67, 68, 71, 71, 71, 71, 73, 76, 79, 79, 79, 79, 79, 79, 79, 79, 79, 79, 79, 79, 79, 79, 79, 79, 79, 79, 79, 79, 79, 79, 79, 79, 79, 79, 79, 79, 79, 79, 79, 79, 79, 79, 79, 79, 79, 79, 79, 80, 80, 80, 83, 88, 88, 92, 94, 94, 94, 94, 94, 94, 95, 96, 96, 96, 98, 100, 100, 100, 100, 100, 100, 100, 100, 100, 103, 104, 107, 107, 107, 108, 108, 108, 111, 111, 111, 111, 111, 111, 111, 111, 111, 114, 119, 122, 122, 122, 122, 125, 125, 125, 125, 125, 125, 125, 125, 135, 135, 137, 137, 144, 148, 148, 151, 157, 159, 163, 163, 166, 166, 166, 171, 172, 172, 172, 172, 172, 172, 172, 172, 172, 172, 173, 173, 173, 173, 173, 178, 181, 181, 182, 182, 183, 183, 183, 183, 183, 183, 183, 183, 184, 187, 187, 190, 190, 190, 190, 190, 190, 190, 190, 190, 190, 190, 190, 190, 193, 196, 197, 197, 197, 197, 197, 202, 202, 205, 209, 210, 210, 211, 211, 214, 214, 214, 214, 214, 214, 214, 214, 214, 214, 214, 214, 214, 214, 214, 214, 214, 214, 214, 214, 214, 214, 214, 214, 216, 217, 218, 220, 220, 220, 228, 228, 228, 228, 228, 228, 228, 228, 228, 228, 228, 228, 231, 234, 235, 236, 236, 236, 237, 237, 238, 238, 243, 243, 243, 243, 243, 243, 243, 243, 243, 243, 243, 243, 244, 245, 245, 245, 245, 245, 245, 245, 246, 246, 246, 254, 254, 257, 258, 258, 264, 265, 265, 265, 265, 265, 265, 265, 265, 265, 265, 265, 265, 265, 265, 265, 265, 265, 265, 265, 265, 265, 265, 265, 265, 265, 268, 268, 269, 269, 273, 274, 279, 279, 280, 280, 281, 281, 283, 286, 289, 289, 289, 289, 289, 289, 289, 289, 289, 289, 289, 289, 289, 289, 289, 289, 289, 289, 301, 301, 309, 309, 309, 309, 309, 309, 309, 311, 313, 313, 318, 318, 318, 318, 322, 325, 325, 325, 325, 325, 325, 325, 326, 329, 329, 331, 334, 336, 337, 342, 342, 342, 342, 343, 343, 344, 345, 359, 359, 359, 363, 363, 364, 364, 378, 381, 391, 396, 396, 397, 399, 401, 402, 402, 408, 408, 408, 408, 408, 408, 412, 415, 415, 419, 419, 419, 419, 419, 419, 419, 419, 419, 419, 419, 424, 426, 426, 427, 427, 427, 427, 427, 427, 427, 427, 427, 427, 427, 427, 427, 430, 430, 434, 435, 437, 443, 444, 445, 446, 454, 455, 455, 455, 455, 455, 455, 455, 455, 455, 455, 458, 458, 460, 462, 468, 470, 474, 475, 475, 475, 476, 479, 480, 484, 484, 487, 491, 491, 491, 491, 491, 491, 495, 495, 499, 499, 499, 502, 503, 509, 509, 512, 517, 517, 517, 517, 517, 522, 524, 527, 530, 530, 530, 530, 530, 531, 531, 532, 532, 541, 545, 545, 545, 547, 548, 549, 553, 567, 572, 574, 578, 578, 579, 584, 584, 590, 590, 591, 591, 592, 592, 595, 597, 597, 597, 597, 597, 598, 600, 605, 610, 610, 611, 611, 614, 614, 614, 614, 619, 619, 623, 623, 623, 623, 623, 638, 643, 646, 646, 646, 646, 646, 646, 651, 652, 652, 652, 652, 659, 660, 660, 662, 662, 664, 666, 666, 683, 686, 693, 698, 698, 702, 703, 704, 706, 707, 710, 710, 711, 711, 711, 714, 715, 719, 720, 727, 739, 741, 741, 746, 746, 746, 747, 749, 750, 753, 753, 753, 753, 753, 754, 755, 760, 768, 771, 771, 773, 775, 775, 775, 775, 775, 775, 775, 778, 779, 780, 783, 794, 795, 798, 801, 802, 803, 804, 804, 805, 806, 806, 809, 809, 809, 809, 810, 810, 817, 822, 825, 826, 827, 830, 830, 830, 830, 830, 830, 830, 831, 834, 836, 839, 841, 841, 842, 844, 845, 846, 847, 847, 847, 852, 853, 853, 853, 853, 853, 853, 861, 865, 877, 884, 887, 894, 896, 896, 896, 896, 896, 896, 896, 896, 896, 896, 896, 904, 905, 915, 919, 919, 926, 927, 933, 937, 937, 937, 937, 937, 940, 948, 948, 949, 949, 949, 949, 949, 949, 949, 949, 949, 949, 949, 949, 949, 949, 949, 949, 949, 949, 949, 949, 949, 949, 949, 949, 949, 949, 949, 949, 949, 949, 949, 949, 949, 949, 949, 949, 949, 949, 949, 949, 949, 949, 949, 949, 949, 949, 949, 949, 949, 949, 949, 949, 949, 949, 949, 949, 949, 949, 949, 949, 949, 949, 949, 949, 949, 949, 949, 949, 949, 949, 949, 949, 949, 949, 949, 949, 949, 949, 949, 949, 949, 949, 949, 949, 949, 949, 949, 949, 949, 949, 949, 949, 949, 949, 949, 949, 949, 949, 949, 949, 949, 949, 949, 950, 950, 950, 950, 950, 952, 953, 955, 956, 959, 960, 964, 964, 971, 974, 976, 976, 979, 981, 987, 990, 992, 992, 993, 999, 999, 999, 999, 1001, 1004, 1016, 1016, 1016, 1021, 1026, 1028, 1028, 1029, 1029, 1031, 1031, 1032, 1035, 1035]\n"
          ],
          "name": "stdout"
        }
      ]
    },
    {
      "cell_type": "code",
      "metadata": {
        "id": "XIC4zufnMxtq",
        "outputId": "5c28d388-ca76-4699-b6f3-de2d7e7917f3",
        "colab": {
          "base_uri": "https://localhost:8080/"
        }
      },
      "source": [
        "correct_num = 0\n",
        "\n",
        "for i in range(0, len(standard_list)):\n",
        "  if predict_list[i] == standard_list[i]:\n",
        "    correct_num = correct_num+1\n",
        "  else:\n",
        "    pass\n",
        "print(correct_num)\n",
        "\n",
        "predict_accuracy = correct_num/len(predict_list)\n",
        "print(predict_accuracy)"
      ],
      "execution_count": 50,
      "outputs": [
        {
          "output_type": "stream",
          "text": [
            "686\n",
            "0.792147806004619\n"
          ],
          "name": "stdout"
        }
      ]
    },
    {
      "cell_type": "code",
      "metadata": {
        "id": "zlKMHp1CIaRJ"
      },
      "source": [
        ""
      ],
      "execution_count": 50,
      "outputs": []
    }
  ]
}