{
  "nbformat": 4,
  "nbformat_minor": 0,
  "metadata": {
    "accelerator": "TPU",
    "colab": {
      "name": "TwADR-bigtweet_08.ipynb",
      "provenance": [],
      "collapsed_sections": [],
      "include_colab_link": true
    },
    "kernelspec": {
      "display_name": "Python 3",
      "name": "python3"
    }
  },
  "cells": [
    {
      "cell_type": "markdown",
      "metadata": {
        "id": "view-in-github",
        "colab_type": "text"
      },
      "source": [
        "<a href=\"https://colab.research.google.com/github/unt-iialab/medical-concept-normalization/blob/master/medical-concept-normalization/fine-tuning-experiments/askpatient/TwADR_bigtweet_08.ipynb\" target=\"_parent\"><img src=\"https://colab.research.google.com/assets/colab-badge.svg\" alt=\"Open In Colab\"/></a>"
      ]
    },
    {
      "cell_type": "code",
      "metadata": {
        "id": "adSi6i2-dWxy"
      },
      "source": [
        "import os"
      ],
      "execution_count": 1,
      "outputs": []
    },
    {
      "cell_type": "code",
      "metadata": {
        "id": "E7xYCRGPjd9B"
      },
      "source": [
        "base_dir = 'medical-concept-normalization'"
      ],
      "execution_count": 2,
      "outputs": []
    },
    {
      "cell_type": "code",
      "metadata": {
        "id": "yvIW3aUDjYNS"
      },
      "source": [
        "os.mkdir(base_dir)"
      ],
      "execution_count": 3,
      "outputs": []
    },
    {
      "cell_type": "code",
      "metadata": {
        "id": "es-FFLlfk6SG"
      },
      "source": [
        "os.mkdir('medical-concept-normalization/data_collection')"
      ],
      "execution_count": 4,
      "outputs": []
    },
    {
      "cell_type": "markdown",
      "metadata": {
        "id": "0R-Guw_VoJXm"
      },
      "source": [
        "**Install fastai and clone the fastai for text classification**\n",
        "\n"
      ]
    },
    {
      "cell_type": "code",
      "metadata": {
        "id": "QVZa3Z0PmHFH",
        "outputId": "956a0fc4-67ab-4888-95b1-28d532911ee3",
        "colab": {
          "base_uri": "https://localhost:8080/"
        }
      },
      "source": [
        "!curl https://course-v3.fast.ai/setup/colab | bash"
      ],
      "execution_count": 5,
      "outputs": [
        {
          "output_type": "stream",
          "text": [
            "  % Total    % Received % Xferd  Average Speed   Time    Time     Time  Current\n",
            "                                 Dload  Upload   Total   Spent    Left  Speed\n",
            "\r  0     0    0     0    0     0      0      0 --:--:-- --:--:-- --:--:--     0curl: (6) Could not resolve host: course-v3.fast.ai\n"
          ],
          "name": "stdout"
        }
      ]
    },
    {
      "cell_type": "code",
      "metadata": {
        "id": "_FBFFEBrmJC0",
        "outputId": "22fee704-54a2-4d8f-a984-0d0e836c2009",
        "colab": {
          "base_uri": "https://localhost:8080/"
        }
      },
      "source": [
        "!git clone https://github.com/wshuyi/demo-nlp-classification-fastai.git"
      ],
      "execution_count": 6,
      "outputs": [
        {
          "output_type": "stream",
          "text": [
            "Cloning into 'demo-nlp-classification-fastai'...\n",
            "remote: Enumerating objects: 9, done.\u001b[K\n",
            "remote: Total 9 (delta 0), reused 0 (delta 0), pack-reused 9\u001b[K\n",
            "Unpacking objects: 100% (9/9), done.\n"
          ],
          "name": "stdout"
        }
      ]
    },
    {
      "cell_type": "code",
      "metadata": {
        "id": "66zfh_JqmWMU"
      },
      "source": [
        "from fastai import *\n",
        "from fastai.text import *"
      ],
      "execution_count": 7,
      "outputs": []
    },
    {
      "cell_type": "markdown",
      "metadata": {
        "id": "mNIw-yALdBU9"
      },
      "source": [
        "**Set the path of the data collections**"
      ]
    },
    {
      "cell_type": "code",
      "metadata": {
        "id": "pzH7VMh4mqCL"
      },
      "source": [
        "path = Path('medical-concept-normalization/data_collection')"
      ],
      "execution_count": 8,
      "outputs": []
    },
    {
      "cell_type": "code",
      "metadata": {
        "id": "b8fjI6yyn4aS"
      },
      "source": [
        "# training data set\n",
        "\n",
        "train_csv = path/'TwADR-L.fold-8.train.csv'\n",
        "train = pd.read_csv(train_csv, header=None)\n",
        "#train.head()\n",
        "#train.info()"
      ],
      "execution_count": 10,
      "outputs": []
    },
    {
      "cell_type": "code",
      "metadata": {
        "id": "Hmlr-bAorfHd",
        "outputId": "ca55e756-f118-404b-b7b0-0a33a4d9d043",
        "colab": {
          "base_uri": "https://localhost:8080/",
          "height": 204
        }
      },
      "source": [
        "# validating data set\n",
        "\n",
        "valid = pd.read_csv(path/\"TwADR-L.fold-8.validation.csv\",header=None)\n",
        "valid.head()"
      ],
      "execution_count": 11,
      "outputs": [
        {
          "output_type": "execute_result",
          "data": {
            "text/html": [
              "<div>\n",
              "<style scoped>\n",
              "    .dataframe tbody tr th:only-of-type {\n",
              "        vertical-align: middle;\n",
              "    }\n",
              "\n",
              "    .dataframe tbody tr th {\n",
              "        vertical-align: top;\n",
              "    }\n",
              "\n",
              "    .dataframe thead th {\n",
              "        text-align: right;\n",
              "    }\n",
              "</style>\n",
              "<table border=\"1\" class=\"dataframe\">\n",
              "  <thead>\n",
              "    <tr style=\"text-align: right;\">\n",
              "      <th></th>\n",
              "      <th>0</th>\n",
              "      <th>1</th>\n",
              "    </tr>\n",
              "  </thead>\n",
              "  <tbody>\n",
              "    <tr>\n",
              "      <th>0</th>\n",
              "      <td>13</td>\n",
              "      <td>up all night</td>\n",
              "    </tr>\n",
              "    <tr>\n",
              "      <th>1</th>\n",
              "      <td>16</td>\n",
              "      <td>couldn't taste anything</td>\n",
              "    </tr>\n",
              "    <tr>\n",
              "      <th>2</th>\n",
              "      <td>74</td>\n",
              "      <td>useless without</td>\n",
              "    </tr>\n",
              "    <tr>\n",
              "      <th>3</th>\n",
              "      <td>119</td>\n",
              "      <td>anxiety</td>\n",
              "    </tr>\n",
              "    <tr>\n",
              "      <th>4</th>\n",
              "      <td>154</td>\n",
              "      <td>urticaria</td>\n",
              "    </tr>\n",
              "  </tbody>\n",
              "</table>\n",
              "</div>"
            ],
            "text/plain": [
              "     0                        1\n",
              "0   13             up all night\n",
              "1   16  couldn't taste anything\n",
              "2   74          useless without\n",
              "3  119                  anxiety\n",
              "4  154                urticaria"
            ]
          },
          "metadata": {
            "tags": []
          },
          "execution_count": 11
        }
      ]
    },
    {
      "cell_type": "code",
      "metadata": {
        "id": "cOza9dfSsBud",
        "outputId": "6229efac-3b8b-4093-dc5f-9e6a5f578f9a",
        "colab": {
          "base_uri": "https://localhost:8080/",
          "height": 204
        }
      },
      "source": [
        "# testing data set\n",
        "\n",
        "test = pd.read_csv(path/\"TwADR-L.fold-8.test.csv\",header=None)\n",
        "test.head()"
      ],
      "execution_count": 12,
      "outputs": [
        {
          "output_type": "execute_result",
          "data": {
            "text/html": [
              "<div>\n",
              "<style scoped>\n",
              "    .dataframe tbody tr th:only-of-type {\n",
              "        vertical-align: middle;\n",
              "    }\n",
              "\n",
              "    .dataframe tbody tr th {\n",
              "        vertical-align: top;\n",
              "    }\n",
              "\n",
              "    .dataframe thead th {\n",
              "        text-align: right;\n",
              "    }\n",
              "</style>\n",
              "<table border=\"1\" class=\"dataframe\">\n",
              "  <thead>\n",
              "    <tr style=\"text-align: right;\">\n",
              "      <th></th>\n",
              "      <th>0</th>\n",
              "      <th>1</th>\n",
              "    </tr>\n",
              "  </thead>\n",
              "  <tbody>\n",
              "    <tr>\n",
              "      <th>0</th>\n",
              "      <td>24</td>\n",
              "      <td>heart race 100mph</td>\n",
              "    </tr>\n",
              "    <tr>\n",
              "      <th>1</th>\n",
              "      <td>94</td>\n",
              "      <td>anxiety</td>\n",
              "    </tr>\n",
              "    <tr>\n",
              "      <th>2</th>\n",
              "      <td>154</td>\n",
              "      <td>#hivewatch</td>\n",
              "    </tr>\n",
              "    <tr>\n",
              "      <th>3</th>\n",
              "      <td>195</td>\n",
              "      <td>ballooning</td>\n",
              "    </tr>\n",
              "    <tr>\n",
              "      <th>4</th>\n",
              "      <td>195</td>\n",
              "      <td>bloated</td>\n",
              "    </tr>\n",
              "  </tbody>\n",
              "</table>\n",
              "</div>"
            ],
            "text/plain": [
              "     0                  1\n",
              "0   24  heart race 100mph\n",
              "1   94            anxiety\n",
              "2  154         #hivewatch\n",
              "3  195         ballooning\n",
              "4  195            bloated"
            ]
          },
          "metadata": {
            "tags": []
          },
          "execution_count": 12
        }
      ]
    },
    {
      "cell_type": "code",
      "metadata": {
        "id": "Vo-YNvVYoaH6",
        "outputId": "0c9e9c50-f206-4514-d8e7-e49ac673652f",
        "colab": {
          "base_uri": "https://localhost:8080/",
          "height": 17
        }
      },
      "source": [
        "# Creating DataBunch for language modelling\n",
        "\n",
        "data_lm = TextLMDataBunch.from_csv(path, 'TwADR-bigtweet.csv')"
      ],
      "execution_count": 13,
      "outputs": [
        {
          "output_type": "display_data",
          "data": {
            "text/html": [
              ""
            ],
            "text/plain": [
              "<IPython.core.display.HTML object>"
            ]
          },
          "metadata": {
            "tags": []
          }
        },
        {
          "output_type": "display_data",
          "data": {
            "text/html": [
              ""
            ],
            "text/plain": [
              "<IPython.core.display.HTML object>"
            ]
          },
          "metadata": {
            "tags": []
          }
        }
      ]
    },
    {
      "cell_type": "code",
      "metadata": {
        "id": "qcV-9kMnNLBf"
      },
      "source": [
        ""
      ],
      "execution_count": 13,
      "outputs": []
    },
    {
      "cell_type": "code",
      "metadata": {
        "id": "1ScY9afDsnvE"
      },
      "source": [
        "# Creating DataBunch for classification\n",
        "\n",
        "# data_clas = TextClasDataBunch.from_df(path, train, valid, test, vocab=data_lm.train_ds.vocab, bs=128)"
      ],
      "execution_count": 14,
      "outputs": []
    },
    {
      "cell_type": "code",
      "metadata": {
        "id": "gzrSdQcvey9p",
        "outputId": "eaaeede0-b6e5-4953-ef34-b032603d800c",
        "colab": {
          "base_uri": "https://localhost:8080/",
          "height": 17
        }
      },
      "source": [
        "data_clas = TextClasDataBunch.from_df(path, train, valid, vocab=data_lm.train_ds.vocab, bs=128)"
      ],
      "execution_count": 15,
      "outputs": [
        {
          "output_type": "display_data",
          "data": {
            "text/html": [
              ""
            ],
            "text/plain": [
              "<IPython.core.display.HTML object>"
            ]
          },
          "metadata": {
            "tags": []
          }
        },
        {
          "output_type": "display_data",
          "data": {
            "text/html": [
              ""
            ],
            "text/plain": [
              "<IPython.core.display.HTML object>"
            ]
          },
          "metadata": {
            "tags": []
          }
        }
      ]
    },
    {
      "cell_type": "code",
      "metadata": {
        "id": "MD27Tf0Ke3ou",
        "outputId": "32d24c44-7b03-43d4-d30c-b2b604717192",
        "colab": {
          "base_uri": "https://localhost:8080/",
          "height": 17
        }
      },
      "source": [
        "data_clas.add_test(test,label=0)\n"
      ],
      "execution_count": 16,
      "outputs": [
        {
          "output_type": "display_data",
          "data": {
            "text/html": [
              ""
            ],
            "text/plain": [
              "<IPython.core.display.HTML object>"
            ]
          },
          "metadata": {
            "tags": []
          }
        }
      ]
    },
    {
      "cell_type": "code",
      "metadata": {
        "id": "-dpjnk_rstwk"
      },
      "source": [
        "data_lm.save()\n",
        "data_clas.save()"
      ],
      "execution_count": 17,
      "outputs": []
    },
    {
      "cell_type": "code",
      "metadata": {
        "id": "4OkiJa36sw5s",
        "outputId": "eb0e7a9b-8396-4dbb-d737-2276582292f0",
        "colab": {
          "base_uri": "https://localhost:8080/"
        }
      },
      "source": [
        "data_lm.train_ds.vocab.itos"
      ],
      "execution_count": 18,
      "outputs": [
        {
          "output_type": "execute_result",
          "data": {
            "text/plain": [
              "['xxunk',\n",
              " 'xxpad',\n",
              " 'xxbos',\n",
              " 'xxeos',\n",
              " 'xxfld',\n",
              " 'xxmaj',\n",
              " 'xxup',\n",
              " 'xxrep',\n",
              " 'xxwrep',\n",
              " 'to',\n",
              " 'the',\n",
              " 'in',\n",
              " 'rt',\n",
              " 'for',\n",
              " 'of',\n",
              " 'a',\n",
              " 'you',\n",
              " 'i',\n",
              " 'on',\n",
              " 'is',\n",
              " 'disease',\n",
              " 'pain',\n",
              " 'and',\n",
              " 'my',\n",
              " 'mood',\n",
              " 'me',\n",
              " 'amp',\n",
              " 'increased',\n",
              " 'with',\n",
              " 'gluten',\n",
              " ',',\n",
              " 'disorder',\n",
              " 'abnormal',\n",
              " 'withdrawal',\n",
              " 'your',\n",
              " 'anxiety',\n",
              " 'free',\n",
              " 'it',\n",
              " 'symptoms',\n",
              " 'have',\n",
              " 'weight',\n",
              " 'out',\n",
              " 'are',\n",
              " 'this',\n",
              " 'decreased',\n",
              " 'new',\n",
              " 'disorders',\n",
              " 'do',\n",
              " 'about',\n",
              " 'from',\n",
              " '(',\n",
              " ')',\n",
              " 'our',\n",
              " 'like',\n",
              " 'nt',\n",
              " '-',\n",
              " 'not',\n",
              " 'what',\n",
              " 'be',\n",
              " 'sleeplessness',\n",
              " 'behavior',\n",
              " 'syndrome',\n",
              " 'glutenfree',\n",
              " 'up',\n",
              " 'celiac',\n",
              " 'drug',\n",
              " 'now',\n",
              " 'at',\n",
              " 'feeling',\n",
              " 'diseases',\n",
              " 'got',\n",
              " 'or',\n",
              " 'somnolence',\n",
              " 'insomnia',\n",
              " 'disturbance',\n",
              " 'finding',\n",
              " 'sleep',\n",
              " 'that',\n",
              " 'so',\n",
              " 'blood',\n",
              " 'energy',\n",
              " 'all',\n",
              " 'right',\n",
              " 'mental',\n",
              " 'food',\n",
              " 'how',\n",
              " 'acute',\n",
              " 'feel',\n",
              " 'we',\n",
              " 'more',\n",
              " 'can',\n",
              " 'appetite',\n",
              " 'skin',\n",
              " 'gain',\n",
              " 'depression',\n",
              " 'via',\n",
              " 'if',\n",
              " 'its',\n",
              " 'tip',\n",
              " 'body',\n",
              " 'as',\n",
              " 'nausea',\n",
              " 'awake',\n",
              " 'ceiling',\n",
              " 'excitability',\n",
              " 'use',\n",
              " 'dblclick',\n",
              " 'irritable',\n",
              " 'hyperactive',\n",
              " 'attention',\n",
              " 'feelings',\n",
              " 'diet',\n",
              " 'pic',\n",
              " 'w',\n",
              " 'products',\n",
              " 'state',\n",
              " 'panic',\n",
              " 'dizziness',\n",
              " 'why',\n",
              " 'heart',\n",
              " 'get',\n",
              " 'drowsiness',\n",
              " 'allergic',\n",
              " 'muscle',\n",
              " 'by',\n",
              " 'rash',\n",
              " 'had',\n",
              " 'review',\n",
              " 'depressed',\n",
              " 'know',\n",
              " 'was',\n",
              " 'day',\n",
              " 'check',\n",
              " 'an',\n",
              " 'swelling',\n",
              " 'here',\n",
              " 'swings',\n",
              " 'love',\n",
              " 'just',\n",
              " 'bipolar',\n",
              " 'wakefulness',\n",
              " '#',\n",
              " 'make',\n",
              " 'need',\n",
              " 'has',\n",
              " 'post',\n",
              " 'could',\n",
              " 'great',\n",
              " 'brain',\n",
              " 'loss',\n",
              " \"n't\",\n",
              " 'ca',\n",
              " 'eating',\n",
              " 'but',\n",
              " '30',\n",
              " 'infection',\n",
              " 'headache',\n",
              " 'fatigue',\n",
              " 'help',\n",
              " 'eat',\n",
              " 'will',\n",
              " 'reaction',\n",
              " 'test',\n",
              " 'posted',\n",
              " 'thanks',\n",
              " 'liver',\n",
              " 'gfb',\n",
              " 'm',\n",
              " 'breast',\n",
              " 'tremor',\n",
              " 'living',\n",
              " 'site',\n",
              " 're',\n",
              " 'tired',\n",
              " 'joint',\n",
              " 'respiratory',\n",
              " 'dreams',\n",
              " 'life',\n",
              " 's',\n",
              " 'time',\n",
              " 'when',\n",
              " 'makes',\n",
              " 'does',\n",
              " 'eye',\n",
              " 'recipe',\n",
              " 'intolerance',\n",
              " 'who',\n",
              " 'still',\n",
              " 'hemorrhage',\n",
              " 'heres',\n",
              " 'night',\n",
              " 'going',\n",
              " 'abdominal',\n",
              " 'sleepy',\n",
              " 'injury',\n",
              " 'us',\n",
              " 'may',\n",
              " '2',\n",
              " 'jennieo',\n",
              " 'tips',\n",
              " 'attacks',\n",
              " 'rage',\n",
              " 'people',\n",
              " 'there',\n",
              " 'psychotic',\n",
              " 'attack',\n",
              " 'carcinoma',\n",
              " 'go',\n",
              " 'read',\n",
              " '\\r \\n ',\n",
              " 'daytime',\n",
              " 'think',\n",
              " 'deficit',\n",
              " 'initial',\n",
              " 'some',\n",
              " 'death',\n",
              " 'archives',\n",
              " 'today',\n",
              " 'did',\n",
              " 'dry',\n",
              " 'gastrointestinal',\n",
              " 'no',\n",
              " 'take',\n",
              " 'being',\n",
              " 'failure',\n",
              " 'bone',\n",
              " 'good',\n",
              " 'taste',\n",
              " 'super',\n",
              " 'news',\n",
              " 'edema',\n",
              " 'stiffness',\n",
              " 'chicken',\n",
              " 'allergy',\n",
              " '1',\n",
              " 'ulcer',\n",
              " 'sleepiness',\n",
              " 'want',\n",
              " 'chronic',\n",
              " 'asleep',\n",
              " 'they',\n",
              " 'numbness',\n",
              " 'big',\n",
              " 'hallucinations',\n",
              " 'back',\n",
              " 'difficulty',\n",
              " 'pizza',\n",
              " 'cardiac',\n",
              " 'sweating',\n",
              " 'should',\n",
              " 'aggravated',\n",
              " 'level',\n",
              " 'infections',\n",
              " 'article',\n",
              " 'vomiting',\n",
              " 'middle',\n",
              " 'down',\n",
              " 'stomach',\n",
              " '5',\n",
              " 'anger',\n",
              " 'zombie',\n",
              " 'one',\n",
              " 'pulmonary',\n",
              " 'sensation',\n",
              " 'cell',\n",
              " 'discomfort',\n",
              " 'much',\n",
              " 'depressive',\n",
              " '4',\n",
              " 'distress',\n",
              " 'localised',\n",
              " 'nightmares',\n",
              " 'dermatitis',\n",
              " 'happy',\n",
              " 'wide',\n",
              " 'low',\n",
              " 'migraine',\n",
              " '10',\n",
              " 'facial',\n",
              " 'share',\n",
              " 'conditions',\n",
              " 'function',\n",
              " 'system',\n",
              " 'cerebral',\n",
              " 'dysfunction',\n",
              " 'suicidal',\n",
              " 'concentration',\n",
              " 'blog',\n",
              " 'disturbances',\n",
              " 'pressure',\n",
              " 'anemia',\n",
              " '\\r \\n \\r \\n ',\n",
              " 'those',\n",
              " 'dependence',\n",
              " 'bite',\n",
              " 'exhaustion',\n",
              " 'kidney',\n",
              " 'please',\n",
              " 'awareness',\n",
              " 'sensitivity',\n",
              " 'serum',\n",
              " 'dr',\n",
              " 'diagnosis',\n",
              " 'any',\n",
              " 'patients',\n",
              " 'bad',\n",
              " 'compulsive',\n",
              " 'chest',\n",
              " 'seizures',\n",
              " 'change',\n",
              " 'find',\n",
              " 'cookbook',\n",
              " 'am',\n",
              " 'foot',\n",
              " 'spasm',\n",
              " 'best',\n",
              " 'soup',\n",
              " 'too',\n",
              " 'many',\n",
              " 'ever',\n",
              " 'see',\n",
              " 'non',\n",
              " 'even',\n",
              " 'week',\n",
              " 'vision',\n",
              " 'been',\n",
              " \"'m\",\n",
              " 'diagnosed',\n",
              " 'depersonalization',\n",
              " 'damage',\n",
              " 'uterine',\n",
              " 'social',\n",
              " 'getting',\n",
              " 'off',\n",
              " 'arrest',\n",
              " '2014',\n",
              " 'gf',\n",
              " 'also',\n",
              " 'dizzy',\n",
              " 'oedema',\n",
              " 'vivid',\n",
              " 'tooth',\n",
              " 'these',\n",
              " 'hours',\n",
              " 'would',\n",
              " 'hypertension',\n",
              " 'emotional',\n",
              " 'memory',\n",
              " 'safe',\n",
              " 'hepatic',\n",
              " 'hurt',\n",
              " 'autographed',\n",
              " 'show',\n",
              " 'episode',\n",
              " 'arthritis',\n",
              " 'elevated',\n",
              " 'abuse',\n",
              " 'very',\n",
              " 'story',\n",
              " 'health',\n",
              " 'corneal',\n",
              " 'adderall',\n",
              " 'their',\n",
              " 'ache',\n",
              " 'face',\n",
              " 'friends',\n",
              " 'easy',\n",
              " 'u',\n",
              " 'try',\n",
              " 'pruritus',\n",
              " 'neoplasm',\n",
              " '3',\n",
              " 'obsessive',\n",
              " 'localized',\n",
              " 'really',\n",
              " 'bread',\n",
              " 'hunger',\n",
              " 'high',\n",
              " 'well',\n",
              " 'alcohol',\n",
              " 'study',\n",
              " 'only',\n",
              " 'crazy',\n",
              " 'fracture',\n",
              " 'foods',\n",
              " 'hungry',\n",
              " 'nauseous',\n",
              " 'cancer',\n",
              " 'necrosis',\n",
              " '6',\n",
              " 'painful',\n",
              " 'delicious',\n",
              " 'oral',\n",
              " 'urine',\n",
              " 'looking',\n",
              " 'shoulder',\n",
              " 'wheat',\n",
              " 'impairment',\n",
              " 'drowsy',\n",
              " 'top',\n",
              " 'malignant',\n",
              " 'healthy',\n",
              " 'intoxication',\n",
              " 'fear',\n",
              " 'decrease',\n",
              " 'cold',\n",
              " 'euphoric',\n",
              " 'tongue',\n",
              " 'irritation',\n",
              " 'days',\n",
              " 'nervous',\n",
              " 'making',\n",
              " 'sick',\n",
              " 'cramps',\n",
              " 'tract',\n",
              " 'candidiasis',\n",
              " 'giveaway',\n",
              " 'other',\n",
              " 'away',\n",
              " 'first',\n",
              " 'genital',\n",
              " 'way',\n",
              " 'ventricular',\n",
              " 'neoplasms',\n",
              " 'paranoid',\n",
              " 'issues',\n",
              " 'sexual',\n",
              " 'over',\n",
              " 'better',\n",
              " 'asthma',\n",
              " 'peripheral',\n",
              " 'gastric',\n",
              " 'withdrawals',\n",
              " 'thank',\n",
              " 'effect',\n",
              " 'thoughts',\n",
              " 'page',\n",
              " 'chocolate',\n",
              " 'others',\n",
              " 'erythema',\n",
              " 'bowl',\n",
              " 'lightheadedness',\n",
              " 'pneumonia',\n",
              " 'bulimia',\n",
              " 'arthropod',\n",
              " 'libido',\n",
              " 'learn',\n",
              " 'america',\n",
              " 'most',\n",
              " 'coeliac',\n",
              " 'consciousness',\n",
              " 'sneezing',\n",
              " 'count',\n",
              " 'electrocardiogram',\n",
              " 'sweat',\n",
              " 'angry',\n",
              " 'linked',\n",
              " 'glucose',\n",
              " 'always',\n",
              " 'erection',\n",
              " 'injection',\n",
              " 'lung',\n",
              " 'coming',\n",
              " 'personality',\n",
              " 'years',\n",
              " 'nasal',\n",
              " 'thinking',\n",
              " 'injuries',\n",
              " 'year',\n",
              " 've',\n",
              " 'same',\n",
              " 'part',\n",
              " 'diabetes',\n",
              " 'eyes',\n",
              " 'craving',\n",
              " 'ear',\n",
              " 'recipes',\n",
              " 'whole',\n",
              " 'follow',\n",
              " 'thirst',\n",
              " 'own',\n",
              " 'lose',\n",
              " 'renal',\n",
              " 'ejaculation',\n",
              " 'info',\n",
              " 'psychosis',\n",
              " 'atrophy',\n",
              " 'last',\n",
              " 'insufficiency',\n",
              " 'made',\n",
              " 'problems',\n",
              " 'things',\n",
              " 'speech',\n",
              " 'tingling',\n",
              " 'despair',\n",
              " 'excessive',\n",
              " 'fractures',\n",
              " 'child',\n",
              " 'female',\n",
              " 'book',\n",
              " 'visual',\n",
              " 'symptom',\n",
              " 'head',\n",
              " 'sunday',\n",
              " 'cause',\n",
              " 'diabetic',\n",
              " 'generalized',\n",
              " 'impaired',\n",
              " 'support',\n",
              " 'where',\n",
              " 'weird',\n",
              " 'convention',\n",
              " 'lack',\n",
              " 'fever',\n",
              " 'quinoa',\n",
              " 'ty',\n",
              " 'ask',\n",
              " 'interesting',\n",
              " 'palpitations',\n",
              " 'block',\n",
              " 'kids',\n",
              " 'come',\n",
              " 'nerve',\n",
              " 'urticaria',\n",
              " 'mind',\n",
              " 'friendly',\n",
              " 'swollen',\n",
              " 'obstruction',\n",
              " 'lost',\n",
              " 'headaches',\n",
              " 'binge',\n",
              " 'important',\n",
              " 'because',\n",
              " 'metastatic',\n",
              " 'adenocarcinoma',\n",
              " 'after',\n",
              " 'interview',\n",
              " 'overdose',\n",
              " 'hepatitis',\n",
              " '7',\n",
              " 'stop',\n",
              " 'colitis',\n",
              " 'falling',\n",
              " 'losing',\n",
              " 'little',\n",
              " 'her',\n",
              " 'diarrhea',\n",
              " 'before',\n",
              " 'miss',\n",
              " '100',\n",
              " 'adrenal',\n",
              " 'cutaneous',\n",
              " 'haemorrhage',\n",
              " 'wo',\n",
              " 'link',\n",
              " 'neuropathy',\n",
              " 'were',\n",
              " 'again',\n",
              " 'month',\n",
              " 'special',\n",
              " 'valentines',\n",
              " 'look',\n",
              " 'vaginal',\n",
              " 'atrial',\n",
              " 'suicide',\n",
              " 'community',\n",
              " 'inflammation',\n",
              " 'tendency',\n",
              " 'tissue',\n",
              " 'movements',\n",
              " 'weeks',\n",
              " 'next',\n",
              " 'breakfast',\n",
              " 'type',\n",
              " 'vertigo',\n",
              " 'bakery',\n",
              " 'mouth',\n",
              " 'stress',\n",
              " 'yes',\n",
              " 'affect',\n",
              " 'every',\n",
              " 'result',\n",
              " 'hyper',\n",
              " 'hard',\n",
              " 'vasculitis',\n",
              " 'start',\n",
              " 'talk',\n",
              " 'less',\n",
              " 'arrhythmia',\n",
              " 'sedated',\n",
              " 'muscular',\n",
              " 'join',\n",
              " 'digestive',\n",
              " 'options',\n",
              " 'prolonged',\n",
              " 'live',\n",
              " 'hear',\n",
              " 'problem',\n",
              " 'reasons',\n",
              " 'tachycardia',\n",
              " 'than',\n",
              " 'hypomania',\n",
              " 'partial',\n",
              " 'hip',\n",
              " 'pinterest',\n",
              " 'sudden',\n",
              " 'throat',\n",
              " 'pm',\n",
              " 'list',\n",
              " 'application',\n",
              " 'through',\n",
              " 'breathing',\n",
              " 'keep',\n",
              " 'rice',\n",
              " 'anyone',\n",
              " 'lower',\n",
              " 'sinus',\n",
              " 'bleeding',\n",
              " 'then',\n",
              " 'risk',\n",
              " 'stay',\n",
              " 'terrors',\n",
              " 'diagnose',\n",
              " 'musculoskeletal',\n",
              " 'potassium',\n",
              " 'gfree',\n",
              " 'cyst',\n",
              " 'intestinal',\n",
              " 'bacterial',\n",
              " 'gland',\n",
              " 'ideas',\n",
              " '2013',\n",
              " 'limb',\n",
              " 'latest',\n",
              " 'substance',\n",
              " 'world',\n",
              " 'traumatic',\n",
              " 'drunk',\n",
              " 'sure',\n",
              " 'fall',\n",
              " 'flour',\n",
              " 'tolerance',\n",
              " 'healthier',\n",
              " 'which',\n",
              " 'cookies',\n",
              " 'unconscious',\n",
              " 'reduced',\n",
              " 'market',\n",
              " 'yet',\n",
              " 'hey',\n",
              " 'his',\n",
              " 'common',\n",
              " 'creatinine',\n",
              " 'infarction',\n",
              " 'rise',\n",
              " 'itching',\n",
              " 'minutes',\n",
              " 'red',\n",
              " 'twitch',\n",
              " 'acne',\n",
              " 'purpura',\n",
              " 'awesome',\n",
              " 'never',\n",
              " 'fun',\n",
              " 'them',\n",
              " 'hot',\n",
              " 'indifferent',\n",
              " 'arousal',\n",
              " 'exhausted',\n",
              " 'restaurants',\n",
              " 'restaurant',\n",
              " 'glutened',\n",
              " 'prozac',\n",
              " 'someone',\n",
              " 'terrible',\n",
              " 'cake',\n",
              " 'long',\n",
              " 'fluid',\n",
              " 'autoimmune',\n",
              " 'work',\n",
              " 'confusion',\n",
              " 'positive',\n",
              " '&',\n",
              " 'breaking',\n",
              " 'menu',\n",
              " 'hurting',\n",
              " 'gained',\n",
              " 'doing',\n",
              " 'ur',\n",
              " 'antisocial',\n",
              " 'deficiency',\n",
              " 'bronchitis',\n",
              " 'matters',\n",
              " 'bladder',\n",
              " 'understand',\n",
              " 'acidosis',\n",
              " 'gut',\n",
              " 'different',\n",
              " 'lbs',\n",
              " 'motor',\n",
              " 'immune',\n",
              " 'abnormality',\n",
              " 'syncope',\n",
              " 'sleeping',\n",
              " 'involuntary',\n",
              " 'local',\n",
              " 'migraines',\n",
              " 'allergies',\n",
              " 'bites',\n",
              " 'might',\n",
              " 'few',\n",
              " 'bones',\n",
              " 'into',\n",
              " 'premature',\n",
              " 'tested',\n",
              " 'manic',\n",
              " 'early',\n",
              " 'tenderness',\n",
              " 'perforation',\n",
              " 'ok',\n",
              " 'wait',\n",
              " 'two',\n",
              " 'mt',\n",
              " 'archive',\n",
              " 'ready',\n",
              " 'thyroid',\n",
              " 'esophageal',\n",
              " 'hyperactivity',\n",
              " 'd',\n",
              " 'simple',\n",
              " 'mad',\n",
              " 'trippin',\n",
              " 'upper',\n",
              " 'full',\n",
              " 'lupus',\n",
              " 'between',\n",
              " 'bowel',\n",
              " 'cough',\n",
              " 'unspecified',\n",
              " 'favorite',\n",
              " 'girl',\n",
              " 'break',\n",
              " 'testing',\n",
              " 'myocardial',\n",
              " 'density',\n",
              " 'eruptions',\n",
              " 'found',\n",
              " 'lets',\n",
              " 'neck',\n",
              " 'altered',\n",
              " 'pledge',\n",
              " 'expo',\n",
              " 'person',\n",
              " 'interactions',\n",
              " 'remember',\n",
              " 'something',\n",
              " 'tests',\n",
              " 'children',\n",
              " 'hypersomnia',\n",
              " 'able',\n",
              " 'abdomen',\n",
              " 'blurred',\n",
              " 'oats',\n",
              " 'undiagnosed',\n",
              " 'paranoia',\n",
              " 'shaking',\n",
              " 'interest',\n",
              " 'rhinitis',\n",
              " 'generalised',\n",
              " 'amazing',\n",
              " 'macular',\n",
              " 'spasms',\n",
              " 'intense',\n",
              " 'total',\n",
              " 'cook',\n",
              " 'multiple',\n",
              " 'camp',\n",
              " 'blindness',\n",
              " 'sentence',\n",
              " 'syndromes',\n",
              " 'epidermal',\n",
              " 'delayed',\n",
              " 'labored',\n",
              " 'grain',\n",
              " 'metabolic',\n",
              " 'knee',\n",
              " 'reading',\n",
              " 'fucking',\n",
              " 'action',\n",
              " 'zaps',\n",
              " 'media',\n",
              " 'contact',\n",
              " 'until',\n",
              " 'retinal',\n",
              " 'ocular',\n",
              " 'medical',\n",
              " 'urinary',\n",
              " 'white',\n",
              " 'conjunctivitis',\n",
              " 'limbs',\n",
              " 'family',\n",
              " 'provide',\n",
              " 'deafness',\n",
              " 'bruxism',\n",
              " 'awful',\n",
              " 'avoid',\n",
              " 'dinner',\n",
              " 'epilepsy',\n",
              " 'eaten',\n",
              " 'viral',\n",
              " 'anorexia',\n",
              " 'without',\n",
              " 'neuralgia',\n",
              " 'thrombosis',\n",
              " 'sinusitis',\n",
              " 'enzyme',\n",
              " 'walking',\n",
              " '/',\n",
              " 'bullous',\n",
              " 'male',\n",
              " 'anxious',\n",
              " 'needs',\n",
              " \"'s\",\n",
              " 'increase',\n",
              " 'ulcerative',\n",
              " 'protein',\n",
              " 'ischemia',\n",
              " 'ovarian',\n",
              " 'ill',\n",
              " 'discoloration',\n",
              " 'embolism',\n",
              " 'gait',\n",
              " 'listen',\n",
              " 'weekend',\n",
              " 'hangover',\n",
              " 'another',\n",
              " 'rheumatoid',\n",
              " 'bilirubin',\n",
              " 'call',\n",
              " 'focusing',\n",
              " 'event',\n",
              " 'central',\n",
              " 'changes',\n",
              " 'temperature',\n",
              " 'otitis',\n",
              " 'bloating',\n",
              " '8',\n",
              " 'behaviour',\n",
              " 'atrioventricular',\n",
              " 'erectile',\n",
              " 'h',\n",
              " 'having',\n",
              " 'must',\n",
              " 'ways',\n",
              " 'prothrombin',\n",
              " 'prostate',\n",
              " 'fibrillation',\n",
              " 'meet',\n",
              " 'available',\n",
              " 'numb',\n",
              " 'hyperplasia',\n",
              " 'lifestyle',\n",
              " 'mean',\n",
              " 'secondary',\n",
              " 'mellitus',\n",
              " 'obstructive',\n",
              " 'experience',\n",
              " 'black',\n",
              " 'meals',\n",
              " 'sore',\n",
              " 'eyelid',\n",
              " 'toxicity',\n",
              " 'pounding',\n",
              " 'shock',\n",
              " 'stomatitis',\n",
              " 'thing',\n",
              " 'r',\n",
              " 'arteritis',\n",
              " 'lesion',\n",
              " 'say',\n",
              " 'hate',\n",
              " 'group',\n",
              " 'says',\n",
              " 'retention',\n",
              " 'alkalosis',\n",
              " '1st',\n",
              " 'artery',\n",
              " 'distracted',\n",
              " 'porphyria',\n",
              " 'associated',\n",
              " 'worse',\n",
              " 'affects',\n",
              " 'hypertrophy',\n",
              " 'mania',\n",
              " 'crust',\n",
              " 'hearing',\n",
              " 'leukemia',\n",
              " 'abscess',\n",
              " 'toe',\n",
              " 'steroid',\n",
              " 'groggy',\n",
              " 'rupture',\n",
              " '.',\n",
              " '20',\n",
              " '24',\n",
              " 'thirsty',\n",
              " 'thinness',\n",
              " 'true',\n",
              " 'cystitis',\n",
              " 'acid',\n",
              " 'sharing',\n",
              " 'serve',\n",
              " 'hit',\n",
              " 'nothing',\n",
              " 'drugs',\n",
              " 'pls',\n",
              " 'retardation',\n",
              " 'knock',\n",
              " 'series',\n",
              " 'animal',\n",
              " 'research',\n",
              " 'add',\n",
              " 'snack',\n",
              " 'illness',\n",
              " 'fucked',\n",
              " 'nail',\n",
              " 'rectal',\n",
              " 'difficult',\n",
              " 'poor',\n",
              " 'everything',\n",
              " 'place',\n",
              " 'caused',\n",
              " 'radio',\n",
              " 'sensory',\n",
              " 'major',\n",
              " 'completely',\n",
              " 'influenza',\n",
              " 'water',\n",
              " 'morning',\n",
              " 'herpes',\n",
              " 'order',\n",
              " 'shit',\n",
              " 'plague',\n",
              " 'burning',\n",
              " 'fibrosis',\n",
              " 'pasta',\n",
              " 'schizophrenia',\n",
              " 'uk',\n",
              " 'fad',\n",
              " 'hurts',\n",
              " 'll',\n",
              " 'toxic',\n",
              " 'sickness',\n",
              " 'wish',\n",
              " 'psychiatric',\n",
              " 'guide',\n",
              " 'hope',\n",
              " 'awakening',\n",
              " 'trying',\n",
              " 'past',\n",
              " 'beer',\n",
              " 'talks',\n",
              " 'salad',\n",
              " 'respiration',\n",
              " 'pregnancy',\n",
              " 'abnormalities',\n",
              " 'went',\n",
              " 'tomorrow',\n",
              " 'tension',\n",
              " 'bitch',\n",
              " 'hypersensitivity',\n",
              " 'iron',\n",
              " 'myself',\n",
              " 'forward',\n",
              " 'infertility',\n",
              " 'retweet',\n",
              " 'paresis',\n",
              " 'ankle',\n",
              " 'enough',\n",
              " 'featured',\n",
              " 'dear',\n",
              " 'lunch',\n",
              " 'donate',\n",
              " 'atrophic',\n",
              " 'heartburn',\n",
              " 'keeping',\n",
              " 'anything',\n",
              " 'actual',\n",
              " 'dermatologic',\n",
              " 'esophagitis',\n",
              " 'mass',\n",
              " 'entire',\n",
              " 'ago',\n",
              " 'around',\n",
              " 'quality',\n",
              " 'excited',\n",
              " 'accidental',\n",
              " 'sufferers',\n",
              " 'soft',\n",
              " 'gt',\n",
              " ...]"
            ]
          },
          "metadata": {
            "tags": []
          },
          "execution_count": 18
        }
      ]
    },
    {
      "cell_type": "code",
      "metadata": {
        "id": "yPWr03mls3VT",
        "outputId": "56996e8e-bab1-4758-cf29-281bb92ad5bb",
        "colab": {
          "base_uri": "https://localhost:8080/",
          "height": 17
        }
      },
      "source": [
        "model_path = path/'models'\n",
        "model_path.mkdir(exist_ok=True)\n",
        "url = 'http://files.fast.ai/models/wt103_v1/'\n",
        "download_url(f'{url}lstm_wt103.pth', model_path/'lstm_wt103.pth')\n",
        "download_url(f'{url}itos_wt103.pkl', model_path/'itos_wt103.pkl')"
      ],
      "execution_count": 19,
      "outputs": [
        {
          "output_type": "display_data",
          "data": {
            "text/html": [
              ""
            ],
            "text/plain": [
              "<IPython.core.display.HTML object>"
            ]
          },
          "metadata": {
            "tags": []
          }
        },
        {
          "output_type": "display_data",
          "data": {
            "text/html": [
              ""
            ],
            "text/plain": [
              "<IPython.core.display.HTML object>"
            ]
          },
          "metadata": {
            "tags": []
          }
        }
      ]
    },
    {
      "cell_type": "code",
      "metadata": {
        "id": "JRzvWg8RtGGr",
        "outputId": "a81c8b4b-45e5-4c3e-f3b9-5db526119231",
        "colab": {
          "base_uri": "https://localhost:8080/",
          "height": 34
        }
      },
      "source": [
        "learn = language_model_learner(data_lm, AWD_LSTM, drop_mult=0.5)"
      ],
      "execution_count": 20,
      "outputs": [
        {
          "output_type": "stream",
          "text": [
            "Downloading https://s3.amazonaws.com/fast-ai-modelzoo/wt103-fwd.tgz\n"
          ],
          "name": "stdout"
        },
        {
          "output_type": "display_data",
          "data": {
            "text/html": [
              ""
            ],
            "text/plain": [
              "<IPython.core.display.HTML object>"
            ]
          },
          "metadata": {
            "tags": []
          }
        }
      ]
    },
    {
      "cell_type": "code",
      "metadata": {
        "id": "xKK7GeBev7Xn",
        "outputId": "b376f105-c3a3-4697-82d7-937f9adbd29e",
        "colab": {
          "base_uri": "https://localhost:8080/",
          "height": 80
        }
      },
      "source": [
        "learn.fit_one_cycle(1, 1e-2)"
      ],
      "execution_count": 21,
      "outputs": [
        {
          "output_type": "display_data",
          "data": {
            "text/html": [
              "<table border=\"1\" class=\"dataframe\">\n",
              "  <thead>\n",
              "    <tr style=\"text-align: left;\">\n",
              "      <th>epoch</th>\n",
              "      <th>train_loss</th>\n",
              "      <th>valid_loss</th>\n",
              "      <th>accuracy</th>\n",
              "      <th>time</th>\n",
              "    </tr>\n",
              "  </thead>\n",
              "  <tbody>\n",
              "    <tr>\n",
              "      <td>0</td>\n",
              "      <td>4.341544</td>\n",
              "      <td>3.524920</td>\n",
              "      <td>0.451325</td>\n",
              "      <td>09:19</td>\n",
              "    </tr>\n",
              "  </tbody>\n",
              "</table>"
            ],
            "text/plain": [
              "<IPython.core.display.HTML object>"
            ]
          },
          "metadata": {
            "tags": []
          }
        }
      ]
    },
    {
      "cell_type": "code",
      "metadata": {
        "id": "iB7rHGQCwd12",
        "outputId": "7f18dbca-31e1-41c1-9c4c-217ea2ad7641",
        "colab": {
          "base_uri": "https://localhost:8080/",
          "height": 80
        }
      },
      "source": [
        "learn.fit_one_cycle(1, 1e-2)"
      ],
      "execution_count": 22,
      "outputs": [
        {
          "output_type": "display_data",
          "data": {
            "text/html": [
              "<table border=\"1\" class=\"dataframe\">\n",
              "  <thead>\n",
              "    <tr style=\"text-align: left;\">\n",
              "      <th>epoch</th>\n",
              "      <th>train_loss</th>\n",
              "      <th>valid_loss</th>\n",
              "      <th>accuracy</th>\n",
              "      <th>time</th>\n",
              "    </tr>\n",
              "  </thead>\n",
              "  <tbody>\n",
              "    <tr>\n",
              "      <td>0</td>\n",
              "      <td>3.279537</td>\n",
              "      <td>3.010108</td>\n",
              "      <td>0.508538</td>\n",
              "      <td>09:25</td>\n",
              "    </tr>\n",
              "  </tbody>\n",
              "</table>"
            ],
            "text/plain": [
              "<IPython.core.display.HTML object>"
            ]
          },
          "metadata": {
            "tags": []
          }
        }
      ]
    },
    {
      "cell_type": "code",
      "metadata": {
        "id": "_BnSuAeCwkBe",
        "outputId": "cb7b84a5-5c9b-4c82-f2c6-a1b9ef61c5e1",
        "colab": {
          "base_uri": "https://localhost:8080/",
          "height": 80
        }
      },
      "source": [
        "learn.fit_one_cycle(1, 1e-3)"
      ],
      "execution_count": 23,
      "outputs": [
        {
          "output_type": "display_data",
          "data": {
            "text/html": [
              "<table border=\"1\" class=\"dataframe\">\n",
              "  <thead>\n",
              "    <tr style=\"text-align: left;\">\n",
              "      <th>epoch</th>\n",
              "      <th>train_loss</th>\n",
              "      <th>valid_loss</th>\n",
              "      <th>accuracy</th>\n",
              "      <th>time</th>\n",
              "    </tr>\n",
              "  </thead>\n",
              "  <tbody>\n",
              "    <tr>\n",
              "      <td>0</td>\n",
              "      <td>3.019089</td>\n",
              "      <td>2.963007</td>\n",
              "      <td>0.513881</td>\n",
              "      <td>09:27</td>\n",
              "    </tr>\n",
              "  </tbody>\n",
              "</table>"
            ],
            "text/plain": [
              "<IPython.core.display.HTML object>"
            ]
          },
          "metadata": {
            "tags": []
          }
        }
      ]
    },
    {
      "cell_type": "code",
      "metadata": {
        "id": "MuTm-RFjwrEX",
        "outputId": "745866b8-791e-42e3-e3b0-37ff7551f455",
        "colab": {
          "base_uri": "https://localhost:8080/",
          "height": 80
        }
      },
      "source": [
        "learn.fit_one_cycle(1, 1e-3)"
      ],
      "execution_count": 24,
      "outputs": [
        {
          "output_type": "display_data",
          "data": {
            "text/html": [
              "<table border=\"1\" class=\"dataframe\">\n",
              "  <thead>\n",
              "    <tr style=\"text-align: left;\">\n",
              "      <th>epoch</th>\n",
              "      <th>train_loss</th>\n",
              "      <th>valid_loss</th>\n",
              "      <th>accuracy</th>\n",
              "      <th>time</th>\n",
              "    </tr>\n",
              "  </thead>\n",
              "  <tbody>\n",
              "    <tr>\n",
              "      <td>0</td>\n",
              "      <td>2.993626</td>\n",
              "      <td>2.922757</td>\n",
              "      <td>0.517997</td>\n",
              "      <td>09:26</td>\n",
              "    </tr>\n",
              "  </tbody>\n",
              "</table>"
            ],
            "text/plain": [
              "<IPython.core.display.HTML object>"
            ]
          },
          "metadata": {
            "tags": []
          }
        }
      ]
    },
    {
      "cell_type": "code",
      "metadata": {
        "id": "1Er2ExO8wr7Y"
      },
      "source": [
        "learn.save_encoder('TwADR-bigtweet_fold8_first')"
      ],
      "execution_count": 25,
      "outputs": []
    },
    {
      "cell_type": "code",
      "metadata": {
        "id": "z52cZs2qwvad",
        "outputId": "b23cffc6-aea1-461f-8d07-bc34ac66fcde",
        "colab": {
          "base_uri": "https://localhost:8080/",
          "height": 80
        }
      },
      "source": [
        "learn = text_classifier_learner(data_clas,AWD_LSTM, drop_mult=0.5)\n",
        "learn.load_encoder('TwADR-bigtweet_fold8_first')\n",
        "learn.fit_one_cycle(1, 1e-2)"
      ],
      "execution_count": 26,
      "outputs": [
        {
          "output_type": "display_data",
          "data": {
            "text/html": [
              "<table border=\"1\" class=\"dataframe\">\n",
              "  <thead>\n",
              "    <tr style=\"text-align: left;\">\n",
              "      <th>epoch</th>\n",
              "      <th>train_loss</th>\n",
              "      <th>valid_loss</th>\n",
              "      <th>accuracy</th>\n",
              "      <th>time</th>\n",
              "    </tr>\n",
              "  </thead>\n",
              "  <tbody>\n",
              "    <tr>\n",
              "      <td>0</td>\n",
              "      <td>7.325953</td>\n",
              "      <td>6.666893</td>\n",
              "      <td>0.055556</td>\n",
              "      <td>00:23</td>\n",
              "    </tr>\n",
              "  </tbody>\n",
              "</table>"
            ],
            "text/plain": [
              "<IPython.core.display.HTML object>"
            ]
          },
          "metadata": {
            "tags": []
          }
        }
      ]
    },
    {
      "cell_type": "code",
      "metadata": {
        "id": "ImwQP1PJwzxd",
        "outputId": "66e3952b-dc83-48ce-f9dd-95538501f059",
        "colab": {
          "base_uri": "https://localhost:8080/",
          "height": 80
        }
      },
      "source": [
        "learn.freeze_to(-2)\n",
        "learn.fit_one_cycle(1, slice(5e-3/2., 5e-3))"
      ],
      "execution_count": 27,
      "outputs": [
        {
          "output_type": "display_data",
          "data": {
            "text/html": [
              "<table border=\"1\" class=\"dataframe\">\n",
              "  <thead>\n",
              "    <tr style=\"text-align: left;\">\n",
              "      <th>epoch</th>\n",
              "      <th>train_loss</th>\n",
              "      <th>valid_loss</th>\n",
              "      <th>accuracy</th>\n",
              "      <th>time</th>\n",
              "    </tr>\n",
              "  </thead>\n",
              "  <tbody>\n",
              "    <tr>\n",
              "      <td>0</td>\n",
              "      <td>6.319522</td>\n",
              "      <td>5.414823</td>\n",
              "      <td>0.138889</td>\n",
              "      <td>00:27</td>\n",
              "    </tr>\n",
              "  </tbody>\n",
              "</table>"
            ],
            "text/plain": [
              "<IPython.core.display.HTML object>"
            ]
          },
          "metadata": {
            "tags": []
          }
        }
      ]
    },
    {
      "cell_type": "code",
      "metadata": {
        "id": "Owff_BJXw53u",
        "outputId": "56338959-1f34-4aca-e3a6-b69130082899",
        "colab": {
          "base_uri": "https://localhost:8080/",
          "height": 80
        }
      },
      "source": [
        "learn.unfreeze()\n",
        "learn.fit_one_cycle(1, slice(2e-3/100, 2e-3))"
      ],
      "execution_count": 28,
      "outputs": [
        {
          "output_type": "display_data",
          "data": {
            "text/html": [
              "<table border=\"1\" class=\"dataframe\">\n",
              "  <thead>\n",
              "    <tr style=\"text-align: left;\">\n",
              "      <th>epoch</th>\n",
              "      <th>train_loss</th>\n",
              "      <th>valid_loss</th>\n",
              "      <th>accuracy</th>\n",
              "      <th>time</th>\n",
              "    </tr>\n",
              "  </thead>\n",
              "  <tbody>\n",
              "    <tr>\n",
              "      <td>0</td>\n",
              "      <td>5.762370</td>\n",
              "      <td>5.260651</td>\n",
              "      <td>0.152778</td>\n",
              "      <td>01:02</td>\n",
              "    </tr>\n",
              "  </tbody>\n",
              "</table>"
            ],
            "text/plain": [
              "<IPython.core.display.HTML object>"
            ]
          },
          "metadata": {
            "tags": []
          }
        }
      ]
    },
    {
      "cell_type": "code",
      "metadata": {
        "id": "lqAyu56V8Waq",
        "outputId": "f9779b2e-83e2-47ff-a2ba-08c3d7a6f364",
        "colab": {
          "base_uri": "https://localhost:8080/",
          "height": 111
        }
      },
      "source": [
        "learn.fit_one_cycle(2, slice(2e-3/100, 2e-3))"
      ],
      "execution_count": 29,
      "outputs": [
        {
          "output_type": "display_data",
          "data": {
            "text/html": [
              "<table border=\"1\" class=\"dataframe\">\n",
              "  <thead>\n",
              "    <tr style=\"text-align: left;\">\n",
              "      <th>epoch</th>\n",
              "      <th>train_loss</th>\n",
              "      <th>valid_loss</th>\n",
              "      <th>accuracy</th>\n",
              "      <th>time</th>\n",
              "    </tr>\n",
              "  </thead>\n",
              "  <tbody>\n",
              "    <tr>\n",
              "      <td>0</td>\n",
              "      <td>5.460252</td>\n",
              "      <td>4.937675</td>\n",
              "      <td>0.166667</td>\n",
              "      <td>01:03</td>\n",
              "    </tr>\n",
              "    <tr>\n",
              "      <td>1</td>\n",
              "      <td>5.217148</td>\n",
              "      <td>4.774466</td>\n",
              "      <td>0.173611</td>\n",
              "      <td>01:04</td>\n",
              "    </tr>\n",
              "  </tbody>\n",
              "</table>"
            ],
            "text/plain": [
              "<IPython.core.display.HTML object>"
            ]
          },
          "metadata": {
            "tags": []
          }
        }
      ]
    },
    {
      "cell_type": "code",
      "metadata": {
        "id": "a7I1xMRp8bUd",
        "outputId": "f250c7b7-eab0-4265-fed9-0dc5348de25c",
        "colab": {
          "base_uri": "https://localhost:8080/",
          "height": 111
        }
      },
      "source": [
        "learn.fit_one_cycle(2, slice(2e-3/100, 2e-3))"
      ],
      "execution_count": 30,
      "outputs": [
        {
          "output_type": "display_data",
          "data": {
            "text/html": [
              "<table border=\"1\" class=\"dataframe\">\n",
              "  <thead>\n",
              "    <tr style=\"text-align: left;\">\n",
              "      <th>epoch</th>\n",
              "      <th>train_loss</th>\n",
              "      <th>valid_loss</th>\n",
              "      <th>accuracy</th>\n",
              "      <th>time</th>\n",
              "    </tr>\n",
              "  </thead>\n",
              "  <tbody>\n",
              "    <tr>\n",
              "      <td>0</td>\n",
              "      <td>4.983888</td>\n",
              "      <td>4.594035</td>\n",
              "      <td>0.201389</td>\n",
              "      <td>01:06</td>\n",
              "    </tr>\n",
              "    <tr>\n",
              "      <td>1</td>\n",
              "      <td>4.802313</td>\n",
              "      <td>4.420086</td>\n",
              "      <td>0.222222</td>\n",
              "      <td>01:08</td>\n",
              "    </tr>\n",
              "  </tbody>\n",
              "</table>"
            ],
            "text/plain": [
              "<IPython.core.display.HTML object>"
            ]
          },
          "metadata": {
            "tags": []
          }
        }
      ]
    },
    {
      "cell_type": "code",
      "metadata": {
        "id": "UAnti-XmGVfO",
        "outputId": "d2457b8a-b7d5-441d-8940-36e73744deb0",
        "colab": {
          "base_uri": "https://localhost:8080/",
          "height": 111
        }
      },
      "source": [
        "learn.fit_one_cycle(2, slice(2e-3/100, 2e-3))"
      ],
      "execution_count": 31,
      "outputs": [
        {
          "output_type": "display_data",
          "data": {
            "text/html": [
              "<table border=\"1\" class=\"dataframe\">\n",
              "  <thead>\n",
              "    <tr style=\"text-align: left;\">\n",
              "      <th>epoch</th>\n",
              "      <th>train_loss</th>\n",
              "      <th>valid_loss</th>\n",
              "      <th>accuracy</th>\n",
              "      <th>time</th>\n",
              "    </tr>\n",
              "  </thead>\n",
              "  <tbody>\n",
              "    <tr>\n",
              "      <td>0</td>\n",
              "      <td>4.545319</td>\n",
              "      <td>4.350269</td>\n",
              "      <td>0.250000</td>\n",
              "      <td>01:07</td>\n",
              "    </tr>\n",
              "    <tr>\n",
              "      <td>1</td>\n",
              "      <td>4.389562</td>\n",
              "      <td>4.218246</td>\n",
              "      <td>0.270833</td>\n",
              "      <td>01:07</td>\n",
              "    </tr>\n",
              "  </tbody>\n",
              "</table>"
            ],
            "text/plain": [
              "<IPython.core.display.HTML object>"
            ]
          },
          "metadata": {
            "tags": []
          }
        }
      ]
    },
    {
      "cell_type": "code",
      "metadata": {
        "id": "bIft7W25GwSu",
        "outputId": "da61e69b-a50b-4139-8b6b-9ed46903748f",
        "colab": {
          "base_uri": "https://localhost:8080/",
          "height": 111
        }
      },
      "source": [
        "learn.fit_one_cycle(2, slice(2e-3/100, 2e-3))"
      ],
      "execution_count": 32,
      "outputs": [
        {
          "output_type": "display_data",
          "data": {
            "text/html": [
              "<table border=\"1\" class=\"dataframe\">\n",
              "  <thead>\n",
              "    <tr style=\"text-align: left;\">\n",
              "      <th>epoch</th>\n",
              "      <th>train_loss</th>\n",
              "      <th>valid_loss</th>\n",
              "      <th>accuracy</th>\n",
              "      <th>time</th>\n",
              "    </tr>\n",
              "  </thead>\n",
              "  <tbody>\n",
              "    <tr>\n",
              "      <td>0</td>\n",
              "      <td>4.188547</td>\n",
              "      <td>4.092755</td>\n",
              "      <td>0.277778</td>\n",
              "      <td>01:11</td>\n",
              "    </tr>\n",
              "    <tr>\n",
              "      <td>1</td>\n",
              "      <td>4.077948</td>\n",
              "      <td>4.058555</td>\n",
              "      <td>0.263889</td>\n",
              "      <td>01:08</td>\n",
              "    </tr>\n",
              "  </tbody>\n",
              "</table>"
            ],
            "text/plain": [
              "<IPython.core.display.HTML object>"
            ]
          },
          "metadata": {
            "tags": []
          }
        }
      ]
    },
    {
      "cell_type": "code",
      "metadata": {
        "id": "EEHszVRvGyFt",
        "outputId": "55c4f907-584d-41a4-e3c5-e2a7bf8a3802",
        "colab": {
          "base_uri": "https://localhost:8080/",
          "height": 111
        }
      },
      "source": [
        "learn.fit_one_cycle(2, slice(2e-3/100, 2e-3))"
      ],
      "execution_count": 33,
      "outputs": [
        {
          "output_type": "display_data",
          "data": {
            "text/html": [
              "<table border=\"1\" class=\"dataframe\">\n",
              "  <thead>\n",
              "    <tr style=\"text-align: left;\">\n",
              "      <th>epoch</th>\n",
              "      <th>train_loss</th>\n",
              "      <th>valid_loss</th>\n",
              "      <th>accuracy</th>\n",
              "      <th>time</th>\n",
              "    </tr>\n",
              "  </thead>\n",
              "  <tbody>\n",
              "    <tr>\n",
              "      <td>0</td>\n",
              "      <td>3.907812</td>\n",
              "      <td>3.963369</td>\n",
              "      <td>0.298611</td>\n",
              "      <td>01:08</td>\n",
              "    </tr>\n",
              "    <tr>\n",
              "      <td>1</td>\n",
              "      <td>3.766332</td>\n",
              "      <td>3.906109</td>\n",
              "      <td>0.305556</td>\n",
              "      <td>01:04</td>\n",
              "    </tr>\n",
              "  </tbody>\n",
              "</table>"
            ],
            "text/plain": [
              "<IPython.core.display.HTML object>"
            ]
          },
          "metadata": {
            "tags": []
          }
        }
      ]
    },
    {
      "cell_type": "code",
      "metadata": {
        "id": "XsHfrhCHG3dN",
        "outputId": "41968cdc-7312-4be4-93e6-ce28dcc4dd70",
        "colab": {
          "base_uri": "https://localhost:8080/",
          "height": 173
        }
      },
      "source": [
        "learn.fit_one_cycle(4, slice(2e-3/100, 2e-3))"
      ],
      "execution_count": 34,
      "outputs": [
        {
          "output_type": "display_data",
          "data": {
            "text/html": [
              "<table border=\"1\" class=\"dataframe\">\n",
              "  <thead>\n",
              "    <tr style=\"text-align: left;\">\n",
              "      <th>epoch</th>\n",
              "      <th>train_loss</th>\n",
              "      <th>valid_loss</th>\n",
              "      <th>accuracy</th>\n",
              "      <th>time</th>\n",
              "    </tr>\n",
              "  </thead>\n",
              "  <tbody>\n",
              "    <tr>\n",
              "      <td>0</td>\n",
              "      <td>3.621373</td>\n",
              "      <td>3.793311</td>\n",
              "      <td>0.319444</td>\n",
              "      <td>01:05</td>\n",
              "    </tr>\n",
              "    <tr>\n",
              "      <td>1</td>\n",
              "      <td>3.538137</td>\n",
              "      <td>3.772965</td>\n",
              "      <td>0.319444</td>\n",
              "      <td>01:05</td>\n",
              "    </tr>\n",
              "    <tr>\n",
              "      <td>2</td>\n",
              "      <td>3.354026</td>\n",
              "      <td>3.802369</td>\n",
              "      <td>0.312500</td>\n",
              "      <td>01:05</td>\n",
              "    </tr>\n",
              "    <tr>\n",
              "      <td>3</td>\n",
              "      <td>3.190951</td>\n",
              "      <td>3.761414</td>\n",
              "      <td>0.319444</td>\n",
              "      <td>01:03</td>\n",
              "    </tr>\n",
              "  </tbody>\n",
              "</table>"
            ],
            "text/plain": [
              "<IPython.core.display.HTML object>"
            ]
          },
          "metadata": {
            "tags": []
          }
        }
      ]
    },
    {
      "cell_type": "code",
      "metadata": {
        "id": "0Zsd99isb9EQ",
        "outputId": "6009c8ae-9b31-4ceb-9061-a5669eeeb243",
        "colab": {
          "base_uri": "https://localhost:8080/",
          "height": 173
        }
      },
      "source": [
        "learn.fit_one_cycle(4, slice(2e-3/100, 2e-3))"
      ],
      "execution_count": 35,
      "outputs": [
        {
          "output_type": "display_data",
          "data": {
            "text/html": [
              "<table border=\"1\" class=\"dataframe\">\n",
              "  <thead>\n",
              "    <tr style=\"text-align: left;\">\n",
              "      <th>epoch</th>\n",
              "      <th>train_loss</th>\n",
              "      <th>valid_loss</th>\n",
              "      <th>accuracy</th>\n",
              "      <th>time</th>\n",
              "    </tr>\n",
              "  </thead>\n",
              "  <tbody>\n",
              "    <tr>\n",
              "      <td>0</td>\n",
              "      <td>3.030217</td>\n",
              "      <td>3.722632</td>\n",
              "      <td>0.347222</td>\n",
              "      <td>01:04</td>\n",
              "    </tr>\n",
              "    <tr>\n",
              "      <td>1</td>\n",
              "      <td>2.948470</td>\n",
              "      <td>3.718601</td>\n",
              "      <td>0.347222</td>\n",
              "      <td>01:07</td>\n",
              "    </tr>\n",
              "    <tr>\n",
              "      <td>2</td>\n",
              "      <td>2.754458</td>\n",
              "      <td>3.717185</td>\n",
              "      <td>0.368056</td>\n",
              "      <td>01:09</td>\n",
              "    </tr>\n",
              "    <tr>\n",
              "      <td>3</td>\n",
              "      <td>2.610326</td>\n",
              "      <td>3.707659</td>\n",
              "      <td>0.347222</td>\n",
              "      <td>01:05</td>\n",
              "    </tr>\n",
              "  </tbody>\n",
              "</table>"
            ],
            "text/plain": [
              "<IPython.core.display.HTML object>"
            ]
          },
          "metadata": {
            "tags": []
          }
        }
      ]
    },
    {
      "cell_type": "code",
      "metadata": {
        "id": "atNWNKDFPbuI",
        "outputId": "e4dcf395-e3e8-4b81-9cb9-fb35fda78659",
        "colab": {
          "base_uri": "https://localhost:8080/",
          "height": 173
        }
      },
      "source": [
        "learn.fit_one_cycle(4, slice(2e-3/100, 2e-3))"
      ],
      "execution_count": 36,
      "outputs": [
        {
          "output_type": "display_data",
          "data": {
            "text/html": [
              "<table border=\"1\" class=\"dataframe\">\n",
              "  <thead>\n",
              "    <tr style=\"text-align: left;\">\n",
              "      <th>epoch</th>\n",
              "      <th>train_loss</th>\n",
              "      <th>valid_loss</th>\n",
              "      <th>accuracy</th>\n",
              "      <th>time</th>\n",
              "    </tr>\n",
              "  </thead>\n",
              "  <tbody>\n",
              "    <tr>\n",
              "      <td>0</td>\n",
              "      <td>2.461974</td>\n",
              "      <td>3.732440</td>\n",
              "      <td>0.354167</td>\n",
              "      <td>01:03</td>\n",
              "    </tr>\n",
              "    <tr>\n",
              "      <td>1</td>\n",
              "      <td>2.387657</td>\n",
              "      <td>3.795882</td>\n",
              "      <td>0.312500</td>\n",
              "      <td>01:09</td>\n",
              "    </tr>\n",
              "    <tr>\n",
              "      <td>2</td>\n",
              "      <td>2.264964</td>\n",
              "      <td>3.842068</td>\n",
              "      <td>0.347222</td>\n",
              "      <td>01:04</td>\n",
              "    </tr>\n",
              "    <tr>\n",
              "      <td>3</td>\n",
              "      <td>2.093971</td>\n",
              "      <td>3.806201</td>\n",
              "      <td>0.347222</td>\n",
              "      <td>01:03</td>\n",
              "    </tr>\n",
              "  </tbody>\n",
              "</table>"
            ],
            "text/plain": [
              "<IPython.core.display.HTML object>"
            ]
          },
          "metadata": {
            "tags": []
          }
        }
      ]
    },
    {
      "cell_type": "code",
      "metadata": {
        "id": "rKrBTZ0T1uVA",
        "outputId": "f2924d6d-b0ab-4569-8fc3-5333963d03f7",
        "colab": {
          "base_uri": "https://localhost:8080/",
          "height": 173
        }
      },
      "source": [
        "learn.fit_one_cycle(4, slice(2e-3/100, 2e-3))"
      ],
      "execution_count": 37,
      "outputs": [
        {
          "output_type": "display_data",
          "data": {
            "text/html": [
              "<table border=\"1\" class=\"dataframe\">\n",
              "  <thead>\n",
              "    <tr style=\"text-align: left;\">\n",
              "      <th>epoch</th>\n",
              "      <th>train_loss</th>\n",
              "      <th>valid_loss</th>\n",
              "      <th>accuracy</th>\n",
              "      <th>time</th>\n",
              "    </tr>\n",
              "  </thead>\n",
              "  <tbody>\n",
              "    <tr>\n",
              "      <td>0</td>\n",
              "      <td>1.971441</td>\n",
              "      <td>3.810616</td>\n",
              "      <td>0.340278</td>\n",
              "      <td>01:08</td>\n",
              "    </tr>\n",
              "    <tr>\n",
              "      <td>1</td>\n",
              "      <td>1.936497</td>\n",
              "      <td>3.998945</td>\n",
              "      <td>0.354167</td>\n",
              "      <td>01:06</td>\n",
              "    </tr>\n",
              "    <tr>\n",
              "      <td>2</td>\n",
              "      <td>1.825516</td>\n",
              "      <td>3.922150</td>\n",
              "      <td>0.361111</td>\n",
              "      <td>01:07</td>\n",
              "    </tr>\n",
              "    <tr>\n",
              "      <td>3</td>\n",
              "      <td>1.688122</td>\n",
              "      <td>3.919635</td>\n",
              "      <td>0.368056</td>\n",
              "      <td>01:04</td>\n",
              "    </tr>\n",
              "  </tbody>\n",
              "</table>"
            ],
            "text/plain": [
              "<IPython.core.display.HTML object>"
            ]
          },
          "metadata": {
            "tags": []
          }
        }
      ]
    },
    {
      "cell_type": "code",
      "metadata": {
        "id": "ajQC6WDg1yA9",
        "outputId": "789c723c-5a83-4d8e-9b4b-063eed21610d",
        "colab": {
          "base_uri": "https://localhost:8080/",
          "height": 173
        }
      },
      "source": [
        "learn.fit_one_cycle(4, slice(2e-3/100, 2e-3))"
      ],
      "execution_count": 38,
      "outputs": [
        {
          "output_type": "display_data",
          "data": {
            "text/html": [
              "<table border=\"1\" class=\"dataframe\">\n",
              "  <thead>\n",
              "    <tr style=\"text-align: left;\">\n",
              "      <th>epoch</th>\n",
              "      <th>train_loss</th>\n",
              "      <th>valid_loss</th>\n",
              "      <th>accuracy</th>\n",
              "      <th>time</th>\n",
              "    </tr>\n",
              "  </thead>\n",
              "  <tbody>\n",
              "    <tr>\n",
              "      <td>0</td>\n",
              "      <td>1.577067</td>\n",
              "      <td>3.925231</td>\n",
              "      <td>0.340278</td>\n",
              "      <td>01:08</td>\n",
              "    </tr>\n",
              "    <tr>\n",
              "      <td>1</td>\n",
              "      <td>1.564886</td>\n",
              "      <td>4.078100</td>\n",
              "      <td>0.347222</td>\n",
              "      <td>01:04</td>\n",
              "    </tr>\n",
              "    <tr>\n",
              "      <td>2</td>\n",
              "      <td>1.456753</td>\n",
              "      <td>4.087018</td>\n",
              "      <td>0.347222</td>\n",
              "      <td>01:05</td>\n",
              "    </tr>\n",
              "    <tr>\n",
              "      <td>3</td>\n",
              "      <td>1.316305</td>\n",
              "      <td>4.043357</td>\n",
              "      <td>0.347222</td>\n",
              "      <td>01:06</td>\n",
              "    </tr>\n",
              "  </tbody>\n",
              "</table>"
            ],
            "text/plain": [
              "<IPython.core.display.HTML object>"
            ]
          },
          "metadata": {
            "tags": []
          }
        }
      ]
    },
    {
      "cell_type": "code",
      "metadata": {
        "id": "KKydb0B4BKGk",
        "outputId": "2334155a-d89e-485d-f43b-5c1f82a52774",
        "colab": {
          "base_uri": "https://localhost:8080/",
          "height": 173
        }
      },
      "source": [
        "learn.fit_one_cycle(4, slice(2e-3/100, 2e-3))"
      ],
      "execution_count": 39,
      "outputs": [
        {
          "output_type": "display_data",
          "data": {
            "text/html": [
              "<table border=\"1\" class=\"dataframe\">\n",
              "  <thead>\n",
              "    <tr style=\"text-align: left;\">\n",
              "      <th>epoch</th>\n",
              "      <th>train_loss</th>\n",
              "      <th>valid_loss</th>\n",
              "      <th>accuracy</th>\n",
              "      <th>time</th>\n",
              "    </tr>\n",
              "  </thead>\n",
              "  <tbody>\n",
              "    <tr>\n",
              "      <td>0</td>\n",
              "      <td>1.214470</td>\n",
              "      <td>4.079556</td>\n",
              "      <td>0.354167</td>\n",
              "      <td>01:04</td>\n",
              "    </tr>\n",
              "    <tr>\n",
              "      <td>1</td>\n",
              "      <td>1.216266</td>\n",
              "      <td>4.117440</td>\n",
              "      <td>0.361111</td>\n",
              "      <td>01:05</td>\n",
              "    </tr>\n",
              "    <tr>\n",
              "      <td>2</td>\n",
              "      <td>1.130221</td>\n",
              "      <td>4.188843</td>\n",
              "      <td>0.361111</td>\n",
              "      <td>01:08</td>\n",
              "    </tr>\n",
              "    <tr>\n",
              "      <td>3</td>\n",
              "      <td>1.028186</td>\n",
              "      <td>4.179252</td>\n",
              "      <td>0.354167</td>\n",
              "      <td>01:12</td>\n",
              "    </tr>\n",
              "  </tbody>\n",
              "</table>"
            ],
            "text/plain": [
              "<IPython.core.display.HTML object>"
            ]
          },
          "metadata": {
            "tags": []
          }
        }
      ]
    },
    {
      "cell_type": "code",
      "metadata": {
        "id": "T2APKtFKBpGY",
        "outputId": "5cd04ed8-38ae-4edd-ee37-fe15b94bdc83",
        "colab": {
          "base_uri": "https://localhost:8080/",
          "height": 173
        }
      },
      "source": [
        "learn.fit_one_cycle(4, slice(2e-3/100, 2e-3))"
      ],
      "execution_count": 40,
      "outputs": [
        {
          "output_type": "display_data",
          "data": {
            "text/html": [
              "<table border=\"1\" class=\"dataframe\">\n",
              "  <thead>\n",
              "    <tr style=\"text-align: left;\">\n",
              "      <th>epoch</th>\n",
              "      <th>train_loss</th>\n",
              "      <th>valid_loss</th>\n",
              "      <th>accuracy</th>\n",
              "      <th>time</th>\n",
              "    </tr>\n",
              "  </thead>\n",
              "  <tbody>\n",
              "    <tr>\n",
              "      <td>0</td>\n",
              "      <td>1.001998</td>\n",
              "      <td>4.300676</td>\n",
              "      <td>0.361111</td>\n",
              "      <td>01:04</td>\n",
              "    </tr>\n",
              "    <tr>\n",
              "      <td>1</td>\n",
              "      <td>0.993346</td>\n",
              "      <td>4.357848</td>\n",
              "      <td>0.354167</td>\n",
              "      <td>01:06</td>\n",
              "    </tr>\n",
              "    <tr>\n",
              "      <td>2</td>\n",
              "      <td>0.911181</td>\n",
              "      <td>4.397128</td>\n",
              "      <td>0.361111</td>\n",
              "      <td>01:08</td>\n",
              "    </tr>\n",
              "    <tr>\n",
              "      <td>3</td>\n",
              "      <td>0.820409</td>\n",
              "      <td>4.390227</td>\n",
              "      <td>0.361111</td>\n",
              "      <td>01:07</td>\n",
              "    </tr>\n",
              "  </tbody>\n",
              "</table>"
            ],
            "text/plain": [
              "<IPython.core.display.HTML object>"
            ]
          },
          "metadata": {
            "tags": []
          }
        }
      ]
    },
    {
      "cell_type": "code",
      "metadata": {
        "id": "qtTypA1sPgLU",
        "outputId": "bb2385bc-33cd-4bfa-f0c6-554cac0b3016",
        "colab": {
          "base_uri": "https://localhost:8080/",
          "height": 111
        }
      },
      "source": [
        "learn.fit_one_cycle(2, slice(2e-3/100, 2e-3))"
      ],
      "execution_count": 41,
      "outputs": [
        {
          "output_type": "display_data",
          "data": {
            "text/html": [
              "<table border=\"1\" class=\"dataframe\">\n",
              "  <thead>\n",
              "    <tr style=\"text-align: left;\">\n",
              "      <th>epoch</th>\n",
              "      <th>train_loss</th>\n",
              "      <th>valid_loss</th>\n",
              "      <th>accuracy</th>\n",
              "      <th>time</th>\n",
              "    </tr>\n",
              "  </thead>\n",
              "  <tbody>\n",
              "    <tr>\n",
              "      <td>0</td>\n",
              "      <td>0.832319</td>\n",
              "      <td>4.669312</td>\n",
              "      <td>0.333333</td>\n",
              "      <td>01:03</td>\n",
              "    </tr>\n",
              "    <tr>\n",
              "      <td>1</td>\n",
              "      <td>0.773108</td>\n",
              "      <td>4.669424</td>\n",
              "      <td>0.347222</td>\n",
              "      <td>01:02</td>\n",
              "    </tr>\n",
              "  </tbody>\n",
              "</table>"
            ],
            "text/plain": [
              "<IPython.core.display.HTML object>"
            ]
          },
          "metadata": {
            "tags": []
          }
        }
      ]
    },
    {
      "cell_type": "code",
      "metadata": {
        "id": "b242kBsTUp9Y",
        "outputId": "48d61586-aee6-4bc4-e113-f9c99521abf1",
        "colab": {
          "base_uri": "https://localhost:8080/",
          "height": 111
        }
      },
      "source": [
        "learn.fit_one_cycle(2, slice(2e-3/100, 2e-3))"
      ],
      "execution_count": 42,
      "outputs": [
        {
          "output_type": "display_data",
          "data": {
            "text/html": [
              "<table border=\"1\" class=\"dataframe\">\n",
              "  <thead>\n",
              "    <tr style=\"text-align: left;\">\n",
              "      <th>epoch</th>\n",
              "      <th>train_loss</th>\n",
              "      <th>valid_loss</th>\n",
              "      <th>accuracy</th>\n",
              "      <th>time</th>\n",
              "    </tr>\n",
              "  </thead>\n",
              "  <tbody>\n",
              "    <tr>\n",
              "      <td>0</td>\n",
              "      <td>0.724343</td>\n",
              "      <td>4.588834</td>\n",
              "      <td>0.347222</td>\n",
              "      <td>01:02</td>\n",
              "    </tr>\n",
              "    <tr>\n",
              "      <td>1</td>\n",
              "      <td>0.714561</td>\n",
              "      <td>4.623259</td>\n",
              "      <td>0.347222</td>\n",
              "      <td>01:03</td>\n",
              "    </tr>\n",
              "  </tbody>\n",
              "</table>"
            ],
            "text/plain": [
              "<IPython.core.display.HTML object>"
            ]
          },
          "metadata": {
            "tags": []
          }
        }
      ]
    },
    {
      "cell_type": "code",
      "metadata": {
        "id": "Duwf1Ih5VeDZ",
        "outputId": "84575609-4bd8-4af8-c4c6-8671791d2a90",
        "colab": {
          "base_uri": "https://localhost:8080/",
          "height": 80
        }
      },
      "source": [
        "learn.fit_one_cycle(1, slice(2e-3/100, 2e-3))"
      ],
      "execution_count": 43,
      "outputs": [
        {
          "output_type": "display_data",
          "data": {
            "text/html": [
              "<table border=\"1\" class=\"dataframe\">\n",
              "  <thead>\n",
              "    <tr style=\"text-align: left;\">\n",
              "      <th>epoch</th>\n",
              "      <th>train_loss</th>\n",
              "      <th>valid_loss</th>\n",
              "      <th>accuracy</th>\n",
              "      <th>time</th>\n",
              "    </tr>\n",
              "  </thead>\n",
              "  <tbody>\n",
              "    <tr>\n",
              "      <td>0</td>\n",
              "      <td>0.662959</td>\n",
              "      <td>4.695199</td>\n",
              "      <td>0.354167</td>\n",
              "      <td>01:06</td>\n",
              "    </tr>\n",
              "  </tbody>\n",
              "</table>"
            ],
            "text/plain": [
              "<IPython.core.display.HTML object>"
            ]
          },
          "metadata": {
            "tags": []
          }
        }
      ]
    },
    {
      "cell_type": "code",
      "metadata": {
        "id": "c65d-osfDUXm"
      },
      "source": [
        "# save the best model\n",
        "\n",
        "learn.save_encoder('TwADR-bigtweet_fold8')"
      ],
      "execution_count": 44,
      "outputs": []
    },
    {
      "cell_type": "code",
      "metadata": {
        "id": "5h-A_GpAIYg8",
        "outputId": "4b257e45-cfa4-4049-993d-bb6470f86cda",
        "colab": {
          "base_uri": "https://localhost:8080/",
          "height": 80
        }
      },
      "source": [
        "learn.fit_one_cycle(1, slice(2e-3/100, 2e-3))"
      ],
      "execution_count": 45,
      "outputs": [
        {
          "output_type": "display_data",
          "data": {
            "text/html": [
              "<table border=\"1\" class=\"dataframe\">\n",
              "  <thead>\n",
              "    <tr style=\"text-align: left;\">\n",
              "      <th>epoch</th>\n",
              "      <th>train_loss</th>\n",
              "      <th>valid_loss</th>\n",
              "      <th>accuracy</th>\n",
              "      <th>time</th>\n",
              "    </tr>\n",
              "  </thead>\n",
              "  <tbody>\n",
              "    <tr>\n",
              "      <td>0</td>\n",
              "      <td>0.635626</td>\n",
              "      <td>4.677683</td>\n",
              "      <td>0.340278</td>\n",
              "      <td>01:05</td>\n",
              "    </tr>\n",
              "  </tbody>\n",
              "</table>"
            ],
            "text/plain": [
              "<IPython.core.display.HTML object>"
            ]
          },
          "metadata": {
            "tags": []
          }
        }
      ]
    },
    {
      "cell_type": "code",
      "metadata": {
        "id": "qc4poYxzIwca",
        "outputId": "743f5e61-af2d-4159-bd2d-6b134d2b44b9",
        "colab": {
          "base_uri": "https://localhost:8080/",
          "height": 80
        }
      },
      "source": [
        "learn.fit_one_cycle(1, slice(2e-3/100, 2e-3))"
      ],
      "execution_count": 46,
      "outputs": [
        {
          "output_type": "display_data",
          "data": {
            "text/html": [
              "<table border=\"1\" class=\"dataframe\">\n",
              "  <thead>\n",
              "    <tr style=\"text-align: left;\">\n",
              "      <th>epoch</th>\n",
              "      <th>train_loss</th>\n",
              "      <th>valid_loss</th>\n",
              "      <th>accuracy</th>\n",
              "      <th>time</th>\n",
              "    </tr>\n",
              "  </thead>\n",
              "  <tbody>\n",
              "    <tr>\n",
              "      <td>0</td>\n",
              "      <td>0.621962</td>\n",
              "      <td>4.746734</td>\n",
              "      <td>0.326389</td>\n",
              "      <td>01:04</td>\n",
              "    </tr>\n",
              "  </tbody>\n",
              "</table>"
            ],
            "text/plain": [
              "<IPython.core.display.HTML object>"
            ]
          },
          "metadata": {
            "tags": []
          }
        }
      ]
    },
    {
      "cell_type": "code",
      "metadata": {
        "id": "66s4PxV1JVfo",
        "outputId": "32bec71c-0c88-4d48-da98-c17866e5de16",
        "colab": {
          "base_uri": "https://localhost:8080/",
          "height": 80
        }
      },
      "source": [
        "learn.fit_one_cycle(1, slice(2e-3/100, 2e-3))"
      ],
      "execution_count": 47,
      "outputs": [
        {
          "output_type": "display_data",
          "data": {
            "text/html": [
              "<table border=\"1\" class=\"dataframe\">\n",
              "  <thead>\n",
              "    <tr style=\"text-align: left;\">\n",
              "      <th>epoch</th>\n",
              "      <th>train_loss</th>\n",
              "      <th>valid_loss</th>\n",
              "      <th>accuracy</th>\n",
              "      <th>time</th>\n",
              "    </tr>\n",
              "  </thead>\n",
              "  <tbody>\n",
              "    <tr>\n",
              "      <td>0</td>\n",
              "      <td>0.619914</td>\n",
              "      <td>4.773886</td>\n",
              "      <td>0.368056</td>\n",
              "      <td>01:09</td>\n",
              "    </tr>\n",
              "  </tbody>\n",
              "</table>"
            ],
            "text/plain": [
              "<IPython.core.display.HTML object>"
            ]
          },
          "metadata": {
            "tags": []
          }
        }
      ]
    },
    {
      "cell_type": "markdown",
      "metadata": {
        "id": "rCwZU0E2RgM6"
      },
      "source": [
        "# Part three: Predict on the test dataset"
      ]
    },
    {
      "cell_type": "code",
      "metadata": {
        "id": "gDm72c-dOu7d",
        "outputId": "15c01429-6c7e-49e4-8328-31e7bab77815",
        "colab": {
          "base_uri": "https://localhost:8080/",
          "height": 17
        }
      },
      "source": [
        "# use the test data for prediction\n",
        "\n",
        "preds, y = learn.get_preds(DatasetType.Test)"
      ],
      "execution_count": 48,
      "outputs": [
        {
          "output_type": "display_data",
          "data": {
            "text/html": [
              ""
            ],
            "text/plain": [
              "<IPython.core.display.HTML object>"
            ]
          },
          "metadata": {
            "tags": []
          }
        }
      ]
    },
    {
      "cell_type": "code",
      "metadata": {
        "id": "6tFSQcsWPvxn",
        "outputId": "6322fbe6-9f26-4ed2-a1c5-6167abc84b5b",
        "colab": {
          "base_uri": "https://localhost:8080/",
          "height": 105
        }
      },
      "source": [
        "predictions, *_ = learn.get_preds(DatasetType.Test)\n",
        "labels = np.argmax(predictions, 1)\n",
        "predict_list = labels.tolist()\n",
        "standard_list = test[0].tolist()\n",
        "\n",
        "print(len(predict_list))\n",
        "print(len(standard_list))\n",
        "\n",
        "print(predict_list)\n",
        "print(standard_list)"
      ],
      "execution_count": 49,
      "outputs": [
        {
          "output_type": "display_data",
          "data": {
            "text/html": [
              ""
            ],
            "text/plain": [
              "<IPython.core.display.HTML object>"
            ]
          },
          "metadata": {
            "tags": []
          }
        },
        {
          "output_type": "stream",
          "text": [
            "142\n",
            "142\n",
            "[1230, 978, 452, 974, 1884, 224, 1936, 233, 233, 249, 1327, 1787, 1787, 1526, 978, 1099, 1767, 1679, 1509, 1227, 1373, 1810, 706, 1546, 744, 744, 1711, 1099, 1769, 749, 1769, 675, 792, 792, 792, 749, 1546, 1884, 1884, 1884, 265, 2010, 13, 974, 978, 2149, 749, 1089, 187, 2032, 393, 1099, 243, 1099, 1597, 1136, 1192, 1546, 1597, 2008, 1227, 1265, 1682, 1295, 1295, 822, 1308, 1308, 822, 1669, 1373, 1340, 1545, 1340, 1356, 1175, 1214, 1214, 2032, 1508, 1857, 520, 2194, 1701, 2149, 1062, 561, 2194, 1610, 1573, 1597, 1597, 1597, 1597, 1356, 1597, 1597, 1682, 1196, 1597, 1597, 2191, 1767, 1727, 1769, 1787, 1727, 1767, 1150, 2032, 393, 393, 1787, 1150, 2032, 1815, 1597, 2149, 1936, 978, 1940, 966, 1597, 1597, 1578, 2032, 1787, 2032, 1597, 189, 760, 582, 2103, 2113, 891, 224, 233, 2149, 452, 392, 1610, 1787]\n",
            "[24, 94, 154, 195, 195, 224, 233, 233, 233, 249, 371, 393, 393, 402, 418, 426, 426, 441, 445, 561, 582, 645, 706, 720, 744, 744, 749, 749, 749, 749, 749, 767, 792, 792, 792, 792, 818, 824, 825, 825, 839, 858, 913, 974, 978, 1061, 1064, 1089, 1096, 1099, 1099, 1099, 1099, 1099, 1099, 1136, 1192, 1192, 1199, 1213, 1227, 1265, 1290, 1295, 1295, 1308, 1308, 1308, 1308, 1325, 1325, 1340, 1340, 1340, 1356, 1432, 1483, 1483, 1507, 1508, 1518, 1519, 1521, 1526, 1529, 1529, 1529, 1529, 1529, 1573, 1597, 1597, 1597, 1597, 1597, 1597, 1597, 1682, 1718, 1718, 1718, 1718, 1718, 1718, 1718, 1767, 1767, 1767, 1787, 1787, 1787, 1787, 1787, 1787, 1787, 1815, 1932, 1936, 1936, 1936, 1940, 1940, 1942, 1942, 2023, 2032, 2032, 2032, 2048, 2048, 2066, 2074, 2103, 2113, 2113, 2147, 2147, 2149, 2149, 2149, 2168, 2191]\n"
          ],
          "name": "stdout"
        }
      ]
    },
    {
      "cell_type": "code",
      "metadata": {
        "id": "XIC4zufnMxtq",
        "outputId": "b1a9718f-01bd-4ce3-dd9a-0b9f862c48c6",
        "colab": {
          "base_uri": "https://localhost:8080/"
        }
      },
      "source": [
        "correct_num = 0\n",
        "\n",
        "for i in range(0, len(standard_list)):\n",
        "  if predict_list[i] == standard_list[i]:\n",
        "    correct_num = correct_num+1\n",
        "  else:\n",
        "    pass\n",
        "print(correct_num)\n",
        "\n",
        "predict_accuracy = correct_num/len(predict_list)\n",
        "print(predict_accuracy)"
      ],
      "execution_count": 50,
      "outputs": [
        {
          "output_type": "stream",
          "text": [
            "46\n",
            "0.323943661971831\n"
          ],
          "name": "stdout"
        }
      ]
    },
    {
      "cell_type": "code",
      "metadata": {
        "id": "zlKMHp1CIaRJ"
      },
      "source": [
        ""
      ],
      "execution_count": 50,
      "outputs": []
    }
  ]
}