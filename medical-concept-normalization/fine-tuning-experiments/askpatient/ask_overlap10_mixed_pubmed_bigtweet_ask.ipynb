{
  "nbformat": 4,
  "nbformat_minor": 0,
  "metadata": {
    "accelerator": "TPU",
    "colab": {
      "name": "ask_overlap10_mixed_pubmed_bigtweet_ask.ipynb",
      "provenance": [],
      "collapsed_sections": [],
      "toc_visible": true,
      "include_colab_link": true
    },
    "kernelspec": {
      "display_name": "Python 3",
      "name": "python3"
    }
  },
  "cells": [
    {
      "cell_type": "markdown",
      "metadata": {
        "id": "view-in-github",
        "colab_type": "text"
      },
      "source": [
        "<a href=\"https://colab.research.google.com/github/unt-iialab/medical-concept-normalization/blob/master/medical-concept-normalization/fine-tuning-experiments/askpatient/ask_overlap10_mixed_pubmed_bigtweet_ask.ipynb\" target=\"_parent\"><img src=\"https://colab.research.google.com/assets/colab-badge.svg\" alt=\"Open In Colab\"/></a>"
      ]
    },
    {
      "cell_type": "code",
      "metadata": {
        "id": "adSi6i2-dWxy"
      },
      "source": [
        "import os"
      ],
      "execution_count": 1,
      "outputs": []
    },
    {
      "cell_type": "code",
      "metadata": {
        "id": "E7xYCRGPjd9B"
      },
      "source": [
        "base_dir = 'medical-concept-normalization'"
      ],
      "execution_count": 2,
      "outputs": []
    },
    {
      "cell_type": "code",
      "metadata": {
        "id": "yvIW3aUDjYNS"
      },
      "source": [
        "os.mkdir(base_dir)"
      ],
      "execution_count": 3,
      "outputs": []
    },
    {
      "cell_type": "code",
      "metadata": {
        "id": "es-FFLlfk6SG"
      },
      "source": [
        "os.mkdir('medical-concept-normalization/data_collection')"
      ],
      "execution_count": 4,
      "outputs": []
    },
    {
      "cell_type": "markdown",
      "metadata": {
        "id": "0R-Guw_VoJXm"
      },
      "source": [
        "**Install fastai and clone the fastai for text classification**\n",
        "\n"
      ]
    },
    {
      "cell_type": "code",
      "metadata": {
        "id": "QVZa3Z0PmHFH",
        "outputId": "4aace6ae-70fc-44fa-bf39-d2fad748368f",
        "colab": {
          "base_uri": "https://localhost:8080/",
          "height": 68
        }
      },
      "source": [
        "!curl https://course-v3.fast.ai/setup/colab | bash"
      ],
      "execution_count": 5,
      "outputs": [
        {
          "output_type": "stream",
          "text": [
            "  % Total    % Received % Xferd  Average Speed   Time    Time     Time  Current\n",
            "                                 Dload  Upload   Total   Spent    Left  Speed\n",
            "\r  0     0    0     0    0     0      0      0 --:--:-- --:--:-- --:--:--     0curl: (6) Could not resolve host: course-v3.fast.ai\n"
          ],
          "name": "stdout"
        }
      ]
    },
    {
      "cell_type": "code",
      "metadata": {
        "id": "_FBFFEBrmJC0",
        "outputId": "842227f8-e179-46cb-9a40-63aea8e34dac",
        "colab": {
          "base_uri": "https://localhost:8080/",
          "height": 85
        }
      },
      "source": [
        "!git clone https://github.com/wshuyi/demo-nlp-classification-fastai.git"
      ],
      "execution_count": 6,
      "outputs": [
        {
          "output_type": "stream",
          "text": [
            "Cloning into 'demo-nlp-classification-fastai'...\n",
            "remote: Enumerating objects: 9, done.\u001b[K\n",
            "remote: Total 9 (delta 0), reused 0 (delta 0), pack-reused 9\u001b[K\n",
            "Unpacking objects: 100% (9/9), done.\n"
          ],
          "name": "stdout"
        }
      ]
    },
    {
      "cell_type": "code",
      "metadata": {
        "id": "66zfh_JqmWMU"
      },
      "source": [
        "from fastai import *\n",
        "from fastai.text import *"
      ],
      "execution_count": 7,
      "outputs": []
    },
    {
      "cell_type": "markdown",
      "metadata": {
        "id": "mNIw-yALdBU9"
      },
      "source": [
        "**Set the path of the data collections**"
      ]
    },
    {
      "cell_type": "code",
      "metadata": {
        "id": "pzH7VMh4mqCL"
      },
      "source": [
        "path = Path('medical-concept-normalization/data_collection')"
      ],
      "execution_count": 8,
      "outputs": []
    },
    {
      "cell_type": "code",
      "metadata": {
        "id": "b8fjI6yyn4aS"
      },
      "source": [
        "# training data set\n",
        "\n",
        "train_csv = path/'AskAPatient.fold-0.train.csv'\n",
        "train = pd.read_csv(train_csv, header=None)\n",
        "#train.head()\n",
        "#train.info()"
      ],
      "execution_count": 10,
      "outputs": []
    },
    {
      "cell_type": "code",
      "metadata": {
        "id": "Hmlr-bAorfHd",
        "outputId": "12213913-9f7c-44a4-8972-2b217d4b71d1",
        "colab": {
          "base_uri": "https://localhost:8080/",
          "height": 204
        }
      },
      "source": [
        "# validating data set\n",
        "\n",
        "valid = pd.read_csv(path/\"AskAPatient.fold-0.validation.csv\",header=None)\n",
        "valid.head()"
      ],
      "execution_count": 11,
      "outputs": [
        {
          "output_type": "execute_result",
          "data": {
            "text/html": [
              "<div>\n",
              "<style scoped>\n",
              "    .dataframe tbody tr th:only-of-type {\n",
              "        vertical-align: middle;\n",
              "    }\n",
              "\n",
              "    .dataframe tbody tr th {\n",
              "        vertical-align: top;\n",
              "    }\n",
              "\n",
              "    .dataframe thead th {\n",
              "        text-align: right;\n",
              "    }\n",
              "</style>\n",
              "<table border=\"1\" class=\"dataframe\">\n",
              "  <thead>\n",
              "    <tr style=\"text-align: right;\">\n",
              "      <th></th>\n",
              "      <th>0</th>\n",
              "      <th>1</th>\n",
              "    </tr>\n",
              "  </thead>\n",
              "  <tbody>\n",
              "    <tr>\n",
              "      <th>0</th>\n",
              "      <td>0</td>\n",
              "      <td>fear</td>\n",
              "    </tr>\n",
              "    <tr>\n",
              "      <th>1</th>\n",
              "      <td>2</td>\n",
              "      <td>heel pain</td>\n",
              "    </tr>\n",
              "    <tr>\n",
              "      <th>2</th>\n",
              "      <td>4</td>\n",
              "      <td>purple sploches around waist</td>\n",
              "    </tr>\n",
              "    <tr>\n",
              "      <th>3</th>\n",
              "      <td>7</td>\n",
              "      <td>goiter</td>\n",
              "    </tr>\n",
              "    <tr>\n",
              "      <th>4</th>\n",
              "      <td>8</td>\n",
              "      <td>ARTHRITIS</td>\n",
              "    </tr>\n",
              "  </tbody>\n",
              "</table>\n",
              "</div>"
            ],
            "text/plain": [
              "   0                             1\n",
              "0  0                          fear\n",
              "1  2                     heel pain\n",
              "2  4  purple sploches around waist\n",
              "3  7                        goiter\n",
              "4  8                     ARTHRITIS"
            ]
          },
          "metadata": {
            "tags": []
          },
          "execution_count": 11
        }
      ]
    },
    {
      "cell_type": "code",
      "metadata": {
        "id": "cOza9dfSsBud",
        "outputId": "ca4a0e2d-eb69-4f43-8272-8f5f3f050c73",
        "colab": {
          "base_uri": "https://localhost:8080/",
          "height": 204
        }
      },
      "source": [
        "# testing data set\n",
        "\n",
        "test = pd.read_csv(path/\"AskAPatient_overlap_10.csv\",header=None)\n",
        "test.head()"
      ],
      "execution_count": 12,
      "outputs": [
        {
          "output_type": "execute_result",
          "data": {
            "text/html": [
              "<div>\n",
              "<style scoped>\n",
              "    .dataframe tbody tr th:only-of-type {\n",
              "        vertical-align: middle;\n",
              "    }\n",
              "\n",
              "    .dataframe tbody tr th {\n",
              "        vertical-align: top;\n",
              "    }\n",
              "\n",
              "    .dataframe thead th {\n",
              "        text-align: right;\n",
              "    }\n",
              "</style>\n",
              "<table border=\"1\" class=\"dataframe\">\n",
              "  <thead>\n",
              "    <tr style=\"text-align: right;\">\n",
              "      <th></th>\n",
              "      <th>0</th>\n",
              "      <th>1</th>\n",
              "    </tr>\n",
              "  </thead>\n",
              "  <tbody>\n",
              "    <tr>\n",
              "      <th>0</th>\n",
              "      <td>0</td>\n",
              "      <td>'scared' feeling</td>\n",
              "    </tr>\n",
              "    <tr>\n",
              "      <th>1</th>\n",
              "      <td>3</td>\n",
              "      <td>cracking sensations in my joints</td>\n",
              "    </tr>\n",
              "    <tr>\n",
              "      <th>2</th>\n",
              "      <td>4</td>\n",
              "      <td>purple sploches around waist</td>\n",
              "    </tr>\n",
              "    <tr>\n",
              "      <th>3</th>\n",
              "      <td>5</td>\n",
              "      <td>fast and slow heartbeat</td>\n",
              "    </tr>\n",
              "    <tr>\n",
              "      <th>4</th>\n",
              "      <td>5</td>\n",
              "      <td>increased heart rate</td>\n",
              "    </tr>\n",
              "  </tbody>\n",
              "</table>\n",
              "</div>"
            ],
            "text/plain": [
              "   0                                 1\n",
              "0  0                  'scared' feeling\n",
              "1  3  cracking sensations in my joints\n",
              "2  4      purple sploches around waist\n",
              "3  5           fast and slow heartbeat\n",
              "4  5              increased heart rate"
            ]
          },
          "metadata": {
            "tags": []
          },
          "execution_count": 12
        }
      ]
    },
    {
      "cell_type": "code",
      "metadata": {
        "id": "Vo-YNvVYoaH6",
        "outputId": "df48f16a-7980-4d9f-e75f-80955f311009",
        "colab": {
          "base_uri": "https://localhost:8080/",
          "height": 17
        }
      },
      "source": [
        "# Creating DataBunch for language modelling\n",
        "\n",
        "data_lm = TextLMDataBunch.from_csv(path, 'mixed_pubmed_bigtweet_askpatient.csv')"
      ],
      "execution_count": 14,
      "outputs": [
        {
          "output_type": "display_data",
          "data": {
            "text/html": [
              ""
            ],
            "text/plain": [
              "<IPython.core.display.HTML object>"
            ]
          },
          "metadata": {
            "tags": []
          }
        },
        {
          "output_type": "display_data",
          "data": {
            "text/html": [
              ""
            ],
            "text/plain": [
              "<IPython.core.display.HTML object>"
            ]
          },
          "metadata": {
            "tags": []
          }
        }
      ]
    },
    {
      "cell_type": "code",
      "metadata": {
        "id": "qcV-9kMnNLBf"
      },
      "source": [
        ""
      ],
      "execution_count": 14,
      "outputs": []
    },
    {
      "cell_type": "code",
      "metadata": {
        "id": "1ScY9afDsnvE"
      },
      "source": [
        "# Creating DataBunch for classification\n",
        "\n",
        "# data_clas = TextClasDataBunch.from_df(path, train, valid, test, vocab=data_lm.train_ds.vocab, bs=128)"
      ],
      "execution_count": 15,
      "outputs": []
    },
    {
      "cell_type": "code",
      "metadata": {
        "id": "gzrSdQcvey9p",
        "outputId": "c7b4671e-33c3-425b-8103-3ef91ec4d454",
        "colab": {
          "base_uri": "https://localhost:8080/",
          "height": 17
        }
      },
      "source": [
        "data_clas = TextClasDataBunch.from_df(path, train, valid, vocab=data_lm.train_ds.vocab, bs=128)"
      ],
      "execution_count": 16,
      "outputs": [
        {
          "output_type": "display_data",
          "data": {
            "text/html": [
              ""
            ],
            "text/plain": [
              "<IPython.core.display.HTML object>"
            ]
          },
          "metadata": {
            "tags": []
          }
        },
        {
          "output_type": "display_data",
          "data": {
            "text/html": [
              ""
            ],
            "text/plain": [
              "<IPython.core.display.HTML object>"
            ]
          },
          "metadata": {
            "tags": []
          }
        }
      ]
    },
    {
      "cell_type": "code",
      "metadata": {
        "id": "MD27Tf0Ke3ou",
        "outputId": "5eee1e22-4da9-4384-9dd6-7ad24752f34a",
        "colab": {
          "base_uri": "https://localhost:8080/",
          "height": 17
        }
      },
      "source": [
        "data_clas.add_test(test,label=0)\n"
      ],
      "execution_count": 17,
      "outputs": [
        {
          "output_type": "display_data",
          "data": {
            "text/html": [
              ""
            ],
            "text/plain": [
              "<IPython.core.display.HTML object>"
            ]
          },
          "metadata": {
            "tags": []
          }
        }
      ]
    },
    {
      "cell_type": "code",
      "metadata": {
        "id": "-dpjnk_rstwk"
      },
      "source": [
        "data_lm.save()\n",
        "data_clas.save()"
      ],
      "execution_count": 18,
      "outputs": []
    },
    {
      "cell_type": "code",
      "metadata": {
        "id": "4OkiJa36sw5s",
        "outputId": "215d70af-65a2-4e4a-8f2e-40acaad146d4",
        "colab": {
          "base_uri": "https://localhost:8080/",
          "height": 1000
        }
      },
      "source": [
        "data_lm.train_ds.vocab.itos"
      ],
      "execution_count": 19,
      "outputs": [
        {
          "output_type": "execute_result",
          "data": {
            "text/plain": [
              "['xxunk',\n",
              " 'xxpad',\n",
              " 'xxbos',\n",
              " 'xxeos',\n",
              " 'xxfld',\n",
              " 'xxmaj',\n",
              " 'xxup',\n",
              " 'xxrep',\n",
              " 'xxwrep',\n",
              " 'pain',\n",
              " 'of',\n",
              " 'the',\n",
              " 'in',\n",
              " 'lipitor',\n",
              " 'and',\n",
              " 'to',\n",
              " 'a',\n",
              " 'muscle',\n",
              " 'with',\n",
              " 'for',\n",
              " 'was',\n",
              " 'diclofenac',\n",
              " 'were',\n",
              " 'severe',\n",
              " 'on',\n",
              " 'my',\n",
              " 'is',\n",
              " 'myalgia',\n",
              " 'lower',\n",
              " 'fatigue',\n",
              " 'rt',\n",
              " 'by',\n",
              " 'loss',\n",
              " 'limb',\n",
              " 'sodium',\n",
              " 'weakness',\n",
              " 'cramp',\n",
              " 'at',\n",
              " 'disease',\n",
              " 'that',\n",
              " 'stomach',\n",
              " 'or',\n",
              " 'as',\n",
              " 'depression',\n",
              " 'back',\n",
              " '-',\n",
              " 'patients',\n",
              " 'from',\n",
              " 'i',\n",
              " 'this',\n",
              " 'not',\n",
              " 'cramps',\n",
              " 'upper',\n",
              " 'gas',\n",
              " 'joint',\n",
              " 'drug',\n",
              " 'memory',\n",
              " 'leg',\n",
              " 'you',\n",
              " 'mg',\n",
              " 'all',\n",
              " 'legs',\n",
              " 'pains',\n",
              " 'headache',\n",
              " 'knee',\n",
              " 'be',\n",
              " 'are',\n",
              " 'group',\n",
              " 'unable',\n",
              " 'shoulder',\n",
              " 'study',\n",
              " 'gastrointestinal',\n",
              " 'arthralgia',\n",
              " 'treatment',\n",
              " 'neck',\n",
              " 'excessive',\n",
              " 'foot',\n",
              " 'arthritis',\n",
              " 'after',\n",
              " 'it',\n",
              " 'an',\n",
              " 'aches',\n",
              " 'hip',\n",
              " 'amp',\n",
              " 'have',\n",
              " 'like',\n",
              " 'voltaren',\n",
              " 'numbness',\n",
              " 'insomnia',\n",
              " 'arthrotec',\n",
              " 'release',\n",
              " 'no',\n",
              " 'increased',\n",
              " 'p',\n",
              " 'bleeding',\n",
              " 'time',\n",
              " 'nausea',\n",
              " 'both',\n",
              " '/',\n",
              " 'gluten',\n",
              " 'swelling',\n",
              " 'can',\n",
              " 'abdominal',\n",
              " 'asthenia',\n",
              " 'feeling',\n",
              " 'walk',\n",
              " 'skin',\n",
              " 'could',\n",
              " 'tired',\n",
              " 'heart',\n",
              " 'than',\n",
              " 'dizziness',\n",
              " 'problems',\n",
              " 'high',\n",
              " 'blood',\n",
              " 'up',\n",
              " 'walking',\n",
              " 'we',\n",
              " 'difficulty',\n",
              " 'out',\n",
              " 'hand',\n",
              " 'free',\n",
              " 'feet',\n",
              " 'muscles',\n",
              " 'chest',\n",
              " 'more',\n",
              " 'cholesterol',\n",
              " 'acid',\n",
              " 'effect',\n",
              " 'low',\n",
              " 'very',\n",
              " 'new',\n",
              " 'burning',\n",
              " 'stiffness',\n",
              " 'inflammatory',\n",
              " 'ache',\n",
              " 'hair',\n",
              " 'compared',\n",
              " 'extreme',\n",
              " 'liver',\n",
              " 'backache',\n",
              " 'weight',\n",
              " 'vision',\n",
              " 'zocor',\n",
              " 'effects',\n",
              " 'using',\n",
              " 'your',\n",
              " 'between',\n",
              " 'groups',\n",
              " 'diarrhoea',\n",
              " 'about',\n",
              " 'two',\n",
              " 'has',\n",
              " 'right',\n",
              " 'pins',\n",
              " 'needles',\n",
              " 'its',\n",
              " 'sleep',\n",
              " 'cramping',\n",
              " 'our',\n",
              " 'day',\n",
              " 'h',\n",
              " 'significant',\n",
              " 'but',\n",
              " 'concentration',\n",
              " 'amnesia',\n",
              " 'significantly',\n",
              " 'these',\n",
              " 'use',\n",
              " 'left',\n",
              " 'one',\n",
              " 'impairment',\n",
              " 'calf',\n",
              " 'potassium',\n",
              " 'anti',\n",
              " 'c',\n",
              " 'drugs',\n",
              " 'had',\n",
              " 'disability',\n",
              " 'used',\n",
              " 'do',\n",
              " 'tingling',\n",
              " 'short',\n",
              " 'anxiety',\n",
              " 'term',\n",
              " 'which',\n",
              " 'nt',\n",
              " 'symptom',\n",
              " 'lack',\n",
              " 'stiff',\n",
              " 'results',\n",
              " 'also',\n",
              " 's',\n",
              " 'pressure',\n",
              " 'dose',\n",
              " 'constipation',\n",
              " 'placebo',\n",
              " 'over',\n",
              " 'what',\n",
              " 'when',\n",
              " 'bloating',\n",
              " 'efficacy',\n",
              " 'glutenfree',\n",
              " 'body',\n",
              " 'reduced',\n",
              " 'may',\n",
              " 'days',\n",
              " 'ds',\n",
              " 'so',\n",
              " 'arm',\n",
              " 'm',\n",
              " 'poor',\n",
              " 'acute',\n",
              " 'there',\n",
              " 'w',\n",
              " 'headaches',\n",
              " 'disorder',\n",
              " 'been',\n",
              " 'sore',\n",
              " 'get',\n",
              " 'hands',\n",
              " 'arms',\n",
              " 'celiac',\n",
              " 'neuropathy',\n",
              " 'treated',\n",
              " 'showed',\n",
              " 'ml',\n",
              " 'balance',\n",
              " 'blurred',\n",
              " 'now',\n",
              " 'ankle',\n",
              " 'joints',\n",
              " 'visual',\n",
              " 'serum',\n",
              " 'food',\n",
              " 'administration',\n",
              " 'different',\n",
              " 'well',\n",
              " 'topical',\n",
              " 'symptoms',\n",
              " 'during',\n",
              " 'non',\n",
              " 'renal',\n",
              " 'sensation',\n",
              " 'tiredness',\n",
              " 'studies',\n",
              " 'pravachol',\n",
              " 'myocardial',\n",
              " 'oral',\n",
              " 'hurt',\n",
              " 'control',\n",
              " 'vaginal',\n",
              " 'products',\n",
              " 'infarction',\n",
              " 'rats',\n",
              " 'via',\n",
              " 'rash',\n",
              " 'into',\n",
              " 'their',\n",
              " 'rate',\n",
              " 'myositis',\n",
              " 'attack',\n",
              " 'itching',\n",
              " 'damage',\n",
              " 'if',\n",
              " 'how',\n",
              " 'other',\n",
              " 'mentally',\n",
              " 'atorvastatin',\n",
              " 'post',\n",
              " 'vertigo',\n",
              " 'found',\n",
              " 'diabetes',\n",
              " 'test',\n",
              " 'energy',\n",
              " 'constant',\n",
              " 'respectively',\n",
              " 'swollen',\n",
              " 'generalised',\n",
              " 'upset',\n",
              " 'painful',\n",
              " 'who',\n",
              " 'clinical',\n",
              " 'atrophy',\n",
              " 'levels',\n",
              " 'plasma',\n",
              " 'induced',\n",
              " 'did',\n",
              " 'formulations',\n",
              " 'nsaids',\n",
              " 'type',\n",
              " 'decreased',\n",
              " 'gel',\n",
              " 'diet',\n",
              " 'first',\n",
              " \"'s\",\n",
              " 'gain',\n",
              " 'ph',\n",
              " ')',\n",
              " 'period',\n",
              " 'chronic',\n",
              " 'tablets',\n",
              " 'diarrhea',\n",
              " 'dry',\n",
              " 'raised',\n",
              " 'method',\n",
              " 'ubidecarenone',\n",
              " 'syndrome',\n",
              " 'illness',\n",
              " ',',\n",
              " 'review',\n",
              " 'hours',\n",
              " 'formulation',\n",
              " 'feel',\n",
              " 'effective',\n",
              " 'only',\n",
              " 'mean',\n",
              " \"n't\",\n",
              " 'movement',\n",
              " 'eye',\n",
              " 'three',\n",
              " 'me',\n",
              " 'bad',\n",
              " 'tip',\n",
              " 'observed',\n",
              " 'solution',\n",
              " 'g',\n",
              " 'those',\n",
              " 'influenza',\n",
              " 'present',\n",
              " 'elevated',\n",
              " 'dull',\n",
              " '(',\n",
              " 'crestor',\n",
              " 'd',\n",
              " 'hazy',\n",
              " 'elbow',\n",
              " 'sleeping',\n",
              " 'ibuprofen',\n",
              " 'n',\n",
              " 'each',\n",
              " 'adverse',\n",
              " 'shoulders',\n",
              " 'side',\n",
              " 'urine',\n",
              " 'weak',\n",
              " 'discomfort',\n",
              " 'less',\n",
              " 'some',\n",
              " 'tablet',\n",
              " 'kidney',\n",
              " 'kg',\n",
              " 'spasm',\n",
              " 'received',\n",
              " 'inflammation',\n",
              " 'increase',\n",
              " 'most',\n",
              " 'knees',\n",
              " 'function',\n",
              " 'tendonitis',\n",
              " 'vitro',\n",
              " 'data',\n",
              " 'controlled',\n",
              " 'analysis',\n",
              " 'abnormal',\n",
              " 'they',\n",
              " 'heavy',\n",
              " 'vomiting',\n",
              " 'toe',\n",
              " 'level',\n",
              " 'migraine',\n",
              " 'just',\n",
              " 'analgesic',\n",
              " 'myopathy',\n",
              " 'spasms',\n",
              " 'irritable',\n",
              " 'week',\n",
              " 'concentrations',\n",
              " 'libido',\n",
              " 'problem',\n",
              " 'reflux',\n",
              " 'flatulence',\n",
              " 'system',\n",
              " 'patient',\n",
              " 'daily',\n",
              " 'mood',\n",
              " 'why',\n",
              " 'concentrate',\n",
              " 'single',\n",
              " 'bed',\n",
              " 'ca',\n",
              " 'activity',\n",
              " 'throat',\n",
              " 'exhaustion',\n",
              " 'multiple',\n",
              " 'brain',\n",
              " 'total',\n",
              " 'good',\n",
              " 'model',\n",
              " 'think',\n",
              " 'sclerosis',\n",
              " 'however',\n",
              " 'evaluated',\n",
              " 'similar',\n",
              " 'randomized',\n",
              " 'fibromyalgia',\n",
              " 'following',\n",
              " 'here',\n",
              " 'cold',\n",
              " 'dblclick',\n",
              " 'mild',\n",
              " 'years',\n",
              " 'pic',\n",
              " 'injury',\n",
              " 'higher',\n",
              " 'obtained',\n",
              " 'difference',\n",
              " 'l',\n",
              " 'before',\n",
              " 'thigh',\n",
              " 'weeks',\n",
              " 'b',\n",
              " 'off',\n",
              " 'water',\n",
              " 'flu',\n",
              " 'under',\n",
              " 'based',\n",
              " 'dissolution',\n",
              " 'surgery',\n",
              " 'will',\n",
              " 'postoperative',\n",
              " 'osteoarthritis',\n",
              " 'eyes',\n",
              " 'nsaid',\n",
              " 'know',\n",
              " 'lightheadedness',\n",
              " 'head',\n",
              " 'while',\n",
              " 'due',\n",
              " 'simvastatin',\n",
              " 't',\n",
              " 'menstrual',\n",
              " 'double',\n",
              " 'mellitus',\n",
              " 'any',\n",
              " 'cell',\n",
              " 'should',\n",
              " 'changes',\n",
              " 'being',\n",
              " 'therapy',\n",
              " 'healthy',\n",
              " 'order',\n",
              " 'failure',\n",
              " 'tremor',\n",
              " 'love',\n",
              " 'confusion',\n",
              " 'disturbance',\n",
              " 'appetite',\n",
              " 'studied',\n",
              " 'sweating',\n",
              " 'hips',\n",
              " 'help',\n",
              " 'peripheral',\n",
              " 'cells',\n",
              " 'check',\n",
              " 'life',\n",
              " 'application',\n",
              " 'relief',\n",
              " 'malaise',\n",
              " 'aching',\n",
              " 'area',\n",
              " 'combination',\n",
              " 'wind',\n",
              " 'intolerance',\n",
              " 'administered',\n",
              " 'gastric',\n",
              " 'associated',\n",
              " 'min',\n",
              " 'tinnitus',\n",
              " 'trial',\n",
              " 'blind',\n",
              " 'times',\n",
              " 'swings',\n",
              " 'rheumatoid',\n",
              " 'vs',\n",
              " 'doses',\n",
              " 'prepared',\n",
              " 'esters',\n",
              " 'does',\n",
              " 'impaired',\n",
              " 'soreness',\n",
              " 'such',\n",
              " 'differences',\n",
              " 'infection',\n",
              " 'coated',\n",
              " 'x',\n",
              " 'make',\n",
              " 'eat',\n",
              " 'nonsteroidal',\n",
              " 'stairs',\n",
              " 'oil',\n",
              " 'calves',\n",
              " 'change',\n",
              " 'paraesthesia',\n",
              " 'finger',\n",
              " 'values',\n",
              " 'ezetimibe',\n",
              " 'celebrex',\n",
              " 'need',\n",
              " 'response',\n",
              " 'events',\n",
              " 'reported',\n",
              " 'given',\n",
              " 'through',\n",
              " 'paracetamol',\n",
              " 'sensitivity',\n",
              " 'ascorbic',\n",
              " 'general',\n",
              " 're',\n",
              " 'e',\n",
              " 'better',\n",
              " 'conditions',\n",
              " 'motivation',\n",
              " 'subjects',\n",
              " 'thanks',\n",
              " 'four',\n",
              " 'night',\n",
              " 'toes',\n",
              " 'absorption',\n",
              " '2',\n",
              " 'charleyhorse',\n",
              " 'great',\n",
              " 'investigated',\n",
              " 'swallowing',\n",
              " 'either',\n",
              " 'performed',\n",
              " 'without',\n",
              " 'developed',\n",
              " 'cough',\n",
              " 'indigestion',\n",
              " 'us',\n",
              " 'measured',\n",
              " 'strength',\n",
              " 'containing',\n",
              " 'ankles',\n",
              " 'stress',\n",
              " 'reduction',\n",
              " 'range',\n",
              " 'parkinson',\n",
              " 'lupus',\n",
              " 'urinary',\n",
              " 'gfb',\n",
              " 'always',\n",
              " 'posted',\n",
              " 'phase',\n",
              " 'restless',\n",
              " 'minutes',\n",
              " 'dark',\n",
              " 'vitamin',\n",
              " 'getting',\n",
              " 'tendon',\n",
              " 'palpitations',\n",
              " 'properties',\n",
              " 'intense',\n",
              " 'rapid',\n",
              " '1',\n",
              " 'going',\n",
              " 'show',\n",
              " 'excruciating',\n",
              " 'risk',\n",
              " 'taste',\n",
              " 'enzymes',\n",
              " 'lateral',\n",
              " 'v',\n",
              " 'hot',\n",
              " 'related',\n",
              " 'face',\n",
              " 'down',\n",
              " 'delivery',\n",
              " 'within',\n",
              " 'statistically',\n",
              " 'vivo',\n",
              " 'samples',\n",
              " 'long',\n",
              " 'parameters',\n",
              " 'size',\n",
              " 'oa',\n",
              " 'recipe',\n",
              " 'felt',\n",
              " 'indomethacin',\n",
              " 'safety',\n",
              " 'depressed',\n",
              " 'auc',\n",
              " 'potential',\n",
              " 'nerve',\n",
              " 'steroidal',\n",
              " 'dyspnoea',\n",
              " 'number',\n",
              " 'ratio',\n",
              " 'assessed',\n",
              " 'heres',\n",
              " 'people',\n",
              " 'heel',\n",
              " 'menopause',\n",
              " 'liquid',\n",
              " 'clearly',\n",
              " 'every',\n",
              " 'gout',\n",
              " 'fingers',\n",
              " 'injection',\n",
              " 'decrease',\n",
              " 'advil',\n",
              " 'speech',\n",
              " 'determined',\n",
              " '30',\n",
              " 'ng',\n",
              " 'go',\n",
              " 'tightness',\n",
              " 'form',\n",
              " 'best',\n",
              " 'mm',\n",
              " 'normal',\n",
              " 'terrible',\n",
              " 'year',\n",
              " 'active',\n",
              " 'much',\n",
              " 'compare',\n",
              " 'tips',\n",
              " 'even',\n",
              " 'overall',\n",
              " 'moderate',\n",
              " 'twitch',\n",
              " 'applied',\n",
              " 'medication',\n",
              " 'then',\n",
              " 'edema',\n",
              " 'provoked',\n",
              " 'limbs',\n",
              " 'scale',\n",
              " '3',\n",
              " 'read',\n",
              " 'dreams',\n",
              " 'living',\n",
              " 'ii',\n",
              " 'k',\n",
              " 'scores',\n",
              " 'tissue',\n",
              " 'primary',\n",
              " 'included',\n",
              " 'development',\n",
              " 'health',\n",
              " 'evaluate',\n",
              " '\\r \\n ',\n",
              " 'would',\n",
              " 'bone',\n",
              " 'misoprostol',\n",
              " 'major',\n",
              " 'ability',\n",
              " 'wrist',\n",
              " 'because',\n",
              " 'ulcer',\n",
              " 'many',\n",
              " 'available',\n",
              " 'co',\n",
              " 'drowsy',\n",
              " 'breathing',\n",
              " 'bioavailability',\n",
              " 'process',\n",
              " 'reaction',\n",
              " 'greater',\n",
              " 'baseline',\n",
              " 'big',\n",
              " 'trouble',\n",
              " 'colic',\n",
              " 'addition',\n",
              " 'sustained',\n",
              " 'fever',\n",
              " 'fish',\n",
              " 'same',\n",
              " 'aqueous',\n",
              " 'therapeutic',\n",
              " 'aspirin',\n",
              " 'archives',\n",
              " 'tolerability',\n",
              " 'human',\n",
              " 'creatinine',\n",
              " 'heartburn',\n",
              " 'fog',\n",
              " 'light',\n",
              " 'find',\n",
              " 'jennieo',\n",
              " 'demonstrated',\n",
              " 'made',\n",
              " 'cancer',\n",
              " 'bowel',\n",
              " 'mouth',\n",
              " 'mobility',\n",
              " 'na',\n",
              " 'tested',\n",
              " 'coq10',\n",
              " 'cox',\n",
              " 'sinus',\n",
              " 'dependent',\n",
              " 'thighs',\n",
              " 'chicken',\n",
              " 'news',\n",
              " 'revealed',\n",
              " 'action',\n",
              " 'protein',\n",
              " 'exercise',\n",
              " 'months',\n",
              " 'trials',\n",
              " 'breath',\n",
              " 'per',\n",
              " 'amyotrophic',\n",
              " 'end',\n",
              " 'nasal',\n",
              " 'important',\n",
              " 'various',\n",
              " 'polymer',\n",
              " 'uterine',\n",
              " 'matrix',\n",
              " 'tract',\n",
              " 'common',\n",
              " 'fenofibrate',\n",
              " 'horses',\n",
              " 'today',\n",
              " 'although',\n",
              " 'caused',\n",
              " 'move',\n",
              " 'hypertension',\n",
              " 'indicated',\n",
              " 'loose',\n",
              " 'f',\n",
              " 'mice',\n",
              " '10',\n",
              " 'take',\n",
              " 'want',\n",
              " 'way',\n",
              " 'inhibition',\n",
              " 'tylenol',\n",
              " 'ever',\n",
              " 'safe',\n",
              " 'twitching',\n",
              " 'improvement',\n",
              " 'intensity',\n",
              " '5',\n",
              " 'further',\n",
              " 'provide',\n",
              " 'inhibitor',\n",
              " 'o',\n",
              " 'whereas',\n",
              " 'finding',\n",
              " 'attacks',\n",
              " 'score',\n",
              " 'male',\n",
              " 'aim',\n",
              " 'volunteers',\n",
              " 'month',\n",
              " 'follow',\n",
              " 'presence',\n",
              " 'onset',\n",
              " 'followed',\n",
              " 'initial',\n",
              " 'exposure',\n",
              " 'article',\n",
              " 'intestinal',\n",
              " 'suggest',\n",
              " 'sharp',\n",
              " 'sugar',\n",
              " 'treatments',\n",
              " 'sick',\n",
              " 'elbows',\n",
              " 'hour',\n",
              " 'dosage',\n",
              " 'agent',\n",
              " 'plantar',\n",
              " 'tight',\n",
              " 'mechanism',\n",
              " 'surface',\n",
              " 'facial',\n",
              " 'animals',\n",
              " 'generally',\n",
              " 'cd',\n",
              " 'alone',\n",
              " 'part',\n",
              " 'tolerated',\n",
              " 'where',\n",
              " 'cm',\n",
              " 'diagnosed',\n",
              " 'lost',\n",
              " 'formation',\n",
              " 'fast',\n",
              " 'aleve',\n",
              " 'six',\n",
              " 'content',\n",
              " 'rat',\n",
              " 'lethargy',\n",
              " 'among',\n",
              " 'diagnosis',\n",
              " 'physical',\n",
              " 'shown',\n",
              " 'sensitive',\n",
              " 'numb',\n",
              " 'complex',\n",
              " 'difficult',\n",
              " 'eating',\n",
              " 'charley',\n",
              " 'randomly',\n",
              " 'around',\n",
              " 'hard',\n",
              " 'resulted',\n",
              " 'including',\n",
              " 'moody',\n",
              " 'tolerance',\n",
              " 'growth',\n",
              " 'cerebrovascular',\n",
              " 'cases',\n",
              " 'pulse',\n",
              " 'experimental',\n",
              " 'panic',\n",
              " 'plus',\n",
              " 'care',\n",
              " 'local',\n",
              " 'thoughts',\n",
              " 'morning',\n",
              " 'profiles',\n",
              " 'improved',\n",
              " 'nervous',\n",
              " 'oedema',\n",
              " 'drive',\n",
              " 'agents',\n",
              " 'share',\n",
              " 'systemic',\n",
              " 'accident',\n",
              " 'vas',\n",
              " 'gi',\n",
              " 'determine',\n",
              " 'things',\n",
              " 'r',\n",
              " 'barely',\n",
              " 'alpha',\n",
              " 'pizza',\n",
              " 'global',\n",
              " 'zetia',\n",
              " 'permeation',\n",
              " 'research',\n",
              " 'deep',\n",
              " 'coronary',\n",
              " 'tricor',\n",
              " 'natural',\n",
              " 'still',\n",
              " 'pharmaceutical',\n",
              " 'amount',\n",
              " 'extremity',\n",
              " 'peak',\n",
              " 'extremely',\n",
              " 'profile',\n",
              " 'conducted',\n",
              " 'ethyl',\n",
              " 'pre',\n",
              " 'enteric',\n",
              " 'age',\n",
              " '4',\n",
              " 'evaluation',\n",
              " 'naproxen',\n",
              " 'case',\n",
              " '+',\n",
              " 'standard',\n",
              " 'able',\n",
              " 'complete',\n",
              " 'please',\n",
              " 'malignant',\n",
              " 'relative',\n",
              " 'old',\n",
              " 'periods',\n",
              " 'ringing',\n",
              " 'sex',\n",
              " 'corneal',\n",
              " 'happy',\n",
              " '\\r \\n \\r \\n ',\n",
              " 'production',\n",
              " 'evidence',\n",
              " 'patch',\n",
              " 'combined',\n",
              " 'efficiency',\n",
              " 'product',\n",
              " 'hardly',\n",
              " 'erythematosus',\n",
              " 'divided',\n",
              " 'work',\n",
              " 'versus',\n",
              " 'reference',\n",
              " 'awareness',\n",
              " 'liptor',\n",
              " 'th',\n",
              " 'shortness',\n",
              " 'duration',\n",
              " 'blog',\n",
              " 'density',\n",
              " 'mental',\n",
              " 'pruritus',\n",
              " 'participants',\n",
              " 'congestion',\n",
              " 'five',\n",
              " 'rhabdomyolysis',\n",
              " 'might',\n",
              " 'thus',\n",
              " 'linked',\n",
              " 'little',\n",
              " 'affected',\n",
              " 'slurred',\n",
              " 'irregular',\n",
              " 'fatigued',\n",
              " 'region',\n",
              " 'frequent',\n",
              " 'fasciitis',\n",
              " 'assessment',\n",
              " 'looks',\n",
              " 'microspheres',\n",
              " 'top',\n",
              " 'started',\n",
              " 'vehicle',\n",
              " 'once',\n",
              " 'u',\n",
              " 'easy',\n",
              " 'analgesia',\n",
              " 'produced',\n",
              " 'according',\n",
              " 'hypersomnia',\n",
              " 'ms',\n",
              " 'cause',\n",
              " 'central',\n",
              " 'least',\n",
              " 'pharmacokinetic',\n",
              " 'issues',\n",
              " 'allergic',\n",
              " 'cataract',\n",
              " 'got',\n",
              " 'cookbook',\n",
              " 'stamina',\n",
              " 'fluid',\n",
              " 'hunger',\n",
              " 'secondary',\n",
              " 'eczema',\n",
              " 'lesions',\n",
              " 'ldl',\n",
              " 'carried',\n",
              " 'site',\n",
              " 'rectal',\n",
              " 'sweats',\n",
              " 'degrees',\n",
              " 'cmax',\n",
              " 'condition',\n",
              " 'film',\n",
              " 'last',\n",
              " 'quality',\n",
              " 'maximum',\n",
              " 'cross',\n",
              " 'asthma',\n",
              " 'achieved',\n",
              " 'needed',\n",
              " 'dr',\n",
              " 'specific',\n",
              " 'medical',\n",
              " 'respiratory',\n",
              " 'codeine',\n",
              " 'state',\n",
              " 'see',\n",
              " 'dizzy',\n",
              " 'phosphate',\n",
              " 'temperature',\n",
              " 'rofecoxib',\n",
              " 'second',\n",
              " 'calcium',\n",
              " 'beads',\n",
              " 'sensations',\n",
              " 'prednisone',\n",
              " 'rates',\n",
              " 'dysfunction',\n",
              " 'tests',\n",
              " 'third',\n",
              " 'capsules',\n",
              " 'novel',\n",
              " 'neurontin',\n",
              " 'mass',\n",
              " 'tension',\n",
              " 'against',\n",
              " 'recorded',\n",
              " 'ear',\n",
              " 'examined',\n",
              " 'stroke',\n",
              " 'solid',\n",
              " 'models',\n",
              " 'gf',\n",
              " 'indicate',\n",
              " 'support',\n",
              " 'increasing',\n",
              " 'preparation',\n",
              " 'strain',\n",
              " ...]"
            ]
          },
          "metadata": {
            "tags": []
          },
          "execution_count": 19
        }
      ]
    },
    {
      "cell_type": "code",
      "metadata": {
        "id": "yPWr03mls3VT",
        "outputId": "a527727c-bfab-482b-d7be-7d91a72233cf",
        "colab": {
          "base_uri": "https://localhost:8080/",
          "height": 17
        }
      },
      "source": [
        "model_path = path/'models'\n",
        "model_path.mkdir(exist_ok=True)\n",
        "url = 'http://files.fast.ai/models/wt103_v1/'\n",
        "download_url(f'{url}lstm_wt103.pth', model_path/'lstm_wt103.pth')\n",
        "download_url(f'{url}itos_wt103.pkl', model_path/'itos_wt103.pkl')"
      ],
      "execution_count": 20,
      "outputs": [
        {
          "output_type": "display_data",
          "data": {
            "text/html": [
              ""
            ],
            "text/plain": [
              "<IPython.core.display.HTML object>"
            ]
          },
          "metadata": {
            "tags": []
          }
        },
        {
          "output_type": "display_data",
          "data": {
            "text/html": [
              ""
            ],
            "text/plain": [
              "<IPython.core.display.HTML object>"
            ]
          },
          "metadata": {
            "tags": []
          }
        }
      ]
    },
    {
      "cell_type": "code",
      "metadata": {
        "id": "JRzvWg8RtGGr",
        "outputId": "cf1183b5-0e52-47af-95da-d7ac18b9e8b8",
        "colab": {
          "base_uri": "https://localhost:8080/",
          "height": 34
        }
      },
      "source": [
        "learn = language_model_learner(data_lm, AWD_LSTM, drop_mult=0.5)"
      ],
      "execution_count": 21,
      "outputs": [
        {
          "output_type": "stream",
          "text": [
            "Downloading https://s3.amazonaws.com/fast-ai-modelzoo/wt103-fwd.tgz\n"
          ],
          "name": "stdout"
        },
        {
          "output_type": "display_data",
          "data": {
            "text/html": [
              ""
            ],
            "text/plain": [
              "<IPython.core.display.HTML object>"
            ]
          },
          "metadata": {
            "tags": []
          }
        }
      ]
    },
    {
      "cell_type": "code",
      "metadata": {
        "id": "xKK7GeBev7Xn",
        "outputId": "866a682a-166c-4ae3-96ce-15305544bed2",
        "colab": {
          "base_uri": "https://localhost:8080/",
          "height": 80
        }
      },
      "source": [
        "learn.fit_one_cycle(1, 1e-2)"
      ],
      "execution_count": 22,
      "outputs": [
        {
          "output_type": "display_data",
          "data": {
            "text/html": [
              "<table border=\"1\" class=\"dataframe\">\n",
              "  <thead>\n",
              "    <tr style=\"text-align: left;\">\n",
              "      <th>epoch</th>\n",
              "      <th>train_loss</th>\n",
              "      <th>valid_loss</th>\n",
              "      <th>accuracy</th>\n",
              "      <th>time</th>\n",
              "    </tr>\n",
              "  </thead>\n",
              "  <tbody>\n",
              "    <tr>\n",
              "      <td>0</td>\n",
              "      <td>3.848570</td>\n",
              "      <td>3.467800</td>\n",
              "      <td>0.446479</td>\n",
              "      <td>35:01</td>\n",
              "    </tr>\n",
              "  </tbody>\n",
              "</table>"
            ],
            "text/plain": [
              "<IPython.core.display.HTML object>"
            ]
          },
          "metadata": {
            "tags": []
          }
        }
      ]
    },
    {
      "cell_type": "code",
      "metadata": {
        "id": "iB7rHGQCwd12"
      },
      "source": [
        "# learn.fit_one_cycle(1, 1e-2)"
      ],
      "execution_count": 23,
      "outputs": []
    },
    {
      "cell_type": "code",
      "metadata": {
        "id": "_BnSuAeCwkBe"
      },
      "source": [
        "# learn.fit_one_cycle(1, 1e-3)"
      ],
      "execution_count": 24,
      "outputs": []
    },
    {
      "cell_type": "code",
      "metadata": {
        "id": "MuTm-RFjwrEX",
        "outputId": "52e85b9b-b612-4261-bb21-de982f40a48f",
        "colab": {
          "base_uri": "https://localhost:8080/",
          "height": 80
        }
      },
      "source": [
        "learn.fit_one_cycle(1, 1e-3)"
      ],
      "execution_count": 25,
      "outputs": [
        {
          "output_type": "display_data",
          "data": {
            "text/html": [
              "<table border=\"1\" class=\"dataframe\">\n",
              "  <thead>\n",
              "    <tr style=\"text-align: left;\">\n",
              "      <th>epoch</th>\n",
              "      <th>train_loss</th>\n",
              "      <th>valid_loss</th>\n",
              "      <th>accuracy</th>\n",
              "      <th>time</th>\n",
              "    </tr>\n",
              "  </thead>\n",
              "  <tbody>\n",
              "    <tr>\n",
              "      <td>0</td>\n",
              "      <td>3.518413</td>\n",
              "      <td>3.406411</td>\n",
              "      <td>0.452141</td>\n",
              "      <td>35:04</td>\n",
              "    </tr>\n",
              "  </tbody>\n",
              "</table>"
            ],
            "text/plain": [
              "<IPython.core.display.HTML object>"
            ]
          },
          "metadata": {
            "tags": []
          }
        }
      ]
    },
    {
      "cell_type": "code",
      "metadata": {
        "id": "1Er2ExO8wr7Y"
      },
      "source": [
        "learn.save_encoder('pubmed_bigtweet_askpatient_mixed_overlap10_first')"
      ],
      "execution_count": 26,
      "outputs": []
    },
    {
      "cell_type": "code",
      "metadata": {
        "id": "z52cZs2qwvad",
        "outputId": "03300d16-b635-44f0-cdf6-ea6ce97f68fa",
        "colab": {
          "base_uri": "https://localhost:8080/",
          "height": 80
        }
      },
      "source": [
        "learn = text_classifier_learner(data_clas,AWD_LSTM, drop_mult=0.5)\n",
        "learn.load_encoder('pubmed_bigtweet_askpatient_mixed_overlap10_first')\n",
        "learn.fit_one_cycle(1, 1e-2)"
      ],
      "execution_count": 27,
      "outputs": [
        {
          "output_type": "display_data",
          "data": {
            "text/html": [
              "<table border=\"1\" class=\"dataframe\">\n",
              "  <thead>\n",
              "    <tr style=\"text-align: left;\">\n",
              "      <th>epoch</th>\n",
              "      <th>train_loss</th>\n",
              "      <th>valid_loss</th>\n",
              "      <th>accuracy</th>\n",
              "      <th>time</th>\n",
              "    </tr>\n",
              "  </thead>\n",
              "  <tbody>\n",
              "    <tr>\n",
              "      <td>0</td>\n",
              "      <td>3.933878</td>\n",
              "      <td>3.821103</td>\n",
              "      <td>0.345562</td>\n",
              "      <td>01:13</td>\n",
              "    </tr>\n",
              "  </tbody>\n",
              "</table>"
            ],
            "text/plain": [
              "<IPython.core.display.HTML object>"
            ]
          },
          "metadata": {
            "tags": []
          }
        }
      ]
    },
    {
      "cell_type": "code",
      "metadata": {
        "id": "ImwQP1PJwzxd",
        "outputId": "90a95cda-c501-4242-804b-c58f6d7a8845",
        "colab": {
          "base_uri": "https://localhost:8080/",
          "height": 80
        }
      },
      "source": [
        "learn.freeze_to(-2)\n",
        "learn.fit_one_cycle(1, slice(5e-3/2., 5e-3))"
      ],
      "execution_count": 28,
      "outputs": [
        {
          "output_type": "display_data",
          "data": {
            "text/html": [
              "<table border=\"1\" class=\"dataframe\">\n",
              "  <thead>\n",
              "    <tr style=\"text-align: left;\">\n",
              "      <th>epoch</th>\n",
              "      <th>train_loss</th>\n",
              "      <th>valid_loss</th>\n",
              "      <th>accuracy</th>\n",
              "      <th>time</th>\n",
              "    </tr>\n",
              "  </thead>\n",
              "  <tbody>\n",
              "    <tr>\n",
              "      <td>0</td>\n",
              "      <td>2.888889</td>\n",
              "      <td>2.975978</td>\n",
              "      <td>0.494675</td>\n",
              "      <td>01:25</td>\n",
              "    </tr>\n",
              "  </tbody>\n",
              "</table>"
            ],
            "text/plain": [
              "<IPython.core.display.HTML object>"
            ]
          },
          "metadata": {
            "tags": []
          }
        }
      ]
    },
    {
      "cell_type": "code",
      "metadata": {
        "id": "Owff_BJXw53u",
        "outputId": "eb29fc70-5216-4542-9020-9e28fb79fbc9",
        "colab": {
          "base_uri": "https://localhost:8080/",
          "height": 80
        }
      },
      "source": [
        "learn.unfreeze()\n",
        "learn.fit_one_cycle(1, slice(2e-3/100, 2e-3))"
      ],
      "execution_count": 29,
      "outputs": [
        {
          "output_type": "display_data",
          "data": {
            "text/html": [
              "<table border=\"1\" class=\"dataframe\">\n",
              "  <thead>\n",
              "    <tr style=\"text-align: left;\">\n",
              "      <th>epoch</th>\n",
              "      <th>train_loss</th>\n",
              "      <th>valid_loss</th>\n",
              "      <th>accuracy</th>\n",
              "      <th>time</th>\n",
              "    </tr>\n",
              "  </thead>\n",
              "  <tbody>\n",
              "    <tr>\n",
              "      <td>0</td>\n",
              "      <td>2.306977</td>\n",
              "      <td>2.609479</td>\n",
              "      <td>0.552663</td>\n",
              "      <td>03:31</td>\n",
              "    </tr>\n",
              "  </tbody>\n",
              "</table>"
            ],
            "text/plain": [
              "<IPython.core.display.HTML object>"
            ]
          },
          "metadata": {
            "tags": []
          }
        }
      ]
    },
    {
      "cell_type": "code",
      "metadata": {
        "id": "lqAyu56V8Waq",
        "outputId": "85d8f880-f31d-4245-9312-ce9a31927758",
        "colab": {
          "base_uri": "https://localhost:8080/",
          "height": 111
        }
      },
      "source": [
        "learn.fit_one_cycle(2, slice(2e-3/100, 2e-3))"
      ],
      "execution_count": 30,
      "outputs": [
        {
          "output_type": "display_data",
          "data": {
            "text/html": [
              "<table border=\"1\" class=\"dataframe\">\n",
              "  <thead>\n",
              "    <tr style=\"text-align: left;\">\n",
              "      <th>epoch</th>\n",
              "      <th>train_loss</th>\n",
              "      <th>valid_loss</th>\n",
              "      <th>accuracy</th>\n",
              "      <th>time</th>\n",
              "    </tr>\n",
              "  </thead>\n",
              "  <tbody>\n",
              "    <tr>\n",
              "      <td>0</td>\n",
              "      <td>2.088660</td>\n",
              "      <td>2.293450</td>\n",
              "      <td>0.609467</td>\n",
              "      <td>03:23</td>\n",
              "    </tr>\n",
              "    <tr>\n",
              "      <td>1</td>\n",
              "      <td>1.695000</td>\n",
              "      <td>2.141110</td>\n",
              "      <td>0.627219</td>\n",
              "      <td>03:22</td>\n",
              "    </tr>\n",
              "  </tbody>\n",
              "</table>"
            ],
            "text/plain": [
              "<IPython.core.display.HTML object>"
            ]
          },
          "metadata": {
            "tags": []
          }
        }
      ]
    },
    {
      "cell_type": "code",
      "metadata": {
        "id": "a7I1xMRp8bUd",
        "outputId": "d7cf8ade-6b9e-43c7-d5bb-ab4a7a9b0816",
        "colab": {
          "base_uri": "https://localhost:8080/",
          "height": 111
        }
      },
      "source": [
        "learn.fit_one_cycle(2, slice(2e-3/100, 2e-3))"
      ],
      "execution_count": 31,
      "outputs": [
        {
          "output_type": "display_data",
          "data": {
            "text/html": [
              "<table border=\"1\" class=\"dataframe\">\n",
              "  <thead>\n",
              "    <tr style=\"text-align: left;\">\n",
              "      <th>epoch</th>\n",
              "      <th>train_loss</th>\n",
              "      <th>valid_loss</th>\n",
              "      <th>accuracy</th>\n",
              "      <th>time</th>\n",
              "    </tr>\n",
              "  </thead>\n",
              "  <tbody>\n",
              "    <tr>\n",
              "      <td>0</td>\n",
              "      <td>1.516374</td>\n",
              "      <td>1.978610</td>\n",
              "      <td>0.653254</td>\n",
              "      <td>03:10</td>\n",
              "    </tr>\n",
              "    <tr>\n",
              "      <td>1</td>\n",
              "      <td>1.330484</td>\n",
              "      <td>1.853077</td>\n",
              "      <td>0.679290</td>\n",
              "      <td>03:32</td>\n",
              "    </tr>\n",
              "  </tbody>\n",
              "</table>"
            ],
            "text/plain": [
              "<IPython.core.display.HTML object>"
            ]
          },
          "metadata": {
            "tags": []
          }
        }
      ]
    },
    {
      "cell_type": "code",
      "metadata": {
        "id": "UAnti-XmGVfO",
        "outputId": "cd254d81-ece8-4180-f618-d3a9596df6e3",
        "colab": {
          "base_uri": "https://localhost:8080/",
          "height": 111
        }
      },
      "source": [
        "learn.fit_one_cycle(2, slice(2e-3/100, 2e-3))"
      ],
      "execution_count": 32,
      "outputs": [
        {
          "output_type": "display_data",
          "data": {
            "text/html": [
              "<table border=\"1\" class=\"dataframe\">\n",
              "  <thead>\n",
              "    <tr style=\"text-align: left;\">\n",
              "      <th>epoch</th>\n",
              "      <th>train_loss</th>\n",
              "      <th>valid_loss</th>\n",
              "      <th>accuracy</th>\n",
              "      <th>time</th>\n",
              "    </tr>\n",
              "  </thead>\n",
              "  <tbody>\n",
              "    <tr>\n",
              "      <td>0</td>\n",
              "      <td>1.202429</td>\n",
              "      <td>1.741072</td>\n",
              "      <td>0.701775</td>\n",
              "      <td>03:28</td>\n",
              "    </tr>\n",
              "    <tr>\n",
              "      <td>1</td>\n",
              "      <td>1.008164</td>\n",
              "      <td>1.639205</td>\n",
              "      <td>0.708876</td>\n",
              "      <td>03:14</td>\n",
              "    </tr>\n",
              "  </tbody>\n",
              "</table>"
            ],
            "text/plain": [
              "<IPython.core.display.HTML object>"
            ]
          },
          "metadata": {
            "tags": []
          }
        }
      ]
    },
    {
      "cell_type": "code",
      "metadata": {
        "id": "bIft7W25GwSu",
        "outputId": "b71dc83a-faa9-4bf3-d28d-4fcbd4dc4fe1",
        "colab": {
          "base_uri": "https://localhost:8080/",
          "height": 111
        }
      },
      "source": [
        "learn.fit_one_cycle(2, slice(2e-3/100, 2e-3))"
      ],
      "execution_count": 33,
      "outputs": [
        {
          "output_type": "display_data",
          "data": {
            "text/html": [
              "<table border=\"1\" class=\"dataframe\">\n",
              "  <thead>\n",
              "    <tr style=\"text-align: left;\">\n",
              "      <th>epoch</th>\n",
              "      <th>train_loss</th>\n",
              "      <th>valid_loss</th>\n",
              "      <th>accuracy</th>\n",
              "      <th>time</th>\n",
              "    </tr>\n",
              "  </thead>\n",
              "  <tbody>\n",
              "    <tr>\n",
              "      <td>0</td>\n",
              "      <td>0.955702</td>\n",
              "      <td>1.566788</td>\n",
              "      <td>0.718343</td>\n",
              "      <td>03:17</td>\n",
              "    </tr>\n",
              "    <tr>\n",
              "      <td>1</td>\n",
              "      <td>0.839721</td>\n",
              "      <td>1.554028</td>\n",
              "      <td>0.725444</td>\n",
              "      <td>03:12</td>\n",
              "    </tr>\n",
              "  </tbody>\n",
              "</table>"
            ],
            "text/plain": [
              "<IPython.core.display.HTML object>"
            ]
          },
          "metadata": {
            "tags": []
          }
        }
      ]
    },
    {
      "cell_type": "code",
      "metadata": {
        "id": "EEHszVRvGyFt",
        "outputId": "78853eb6-2a6d-45c6-8a0f-0761239edb8c",
        "colab": {
          "base_uri": "https://localhost:8080/",
          "height": 111
        }
      },
      "source": [
        "learn.fit_one_cycle(2, slice(2e-3/100, 2e-3))"
      ],
      "execution_count": 34,
      "outputs": [
        {
          "output_type": "display_data",
          "data": {
            "text/html": [
              "<table border=\"1\" class=\"dataframe\">\n",
              "  <thead>\n",
              "    <tr style=\"text-align: left;\">\n",
              "      <th>epoch</th>\n",
              "      <th>train_loss</th>\n",
              "      <th>valid_loss</th>\n",
              "      <th>accuracy</th>\n",
              "      <th>time</th>\n",
              "    </tr>\n",
              "  </thead>\n",
              "  <tbody>\n",
              "    <tr>\n",
              "      <td>0</td>\n",
              "      <td>0.792176</td>\n",
              "      <td>1.475052</td>\n",
              "      <td>0.728994</td>\n",
              "      <td>03:15</td>\n",
              "    </tr>\n",
              "    <tr>\n",
              "      <td>1</td>\n",
              "      <td>0.694485</td>\n",
              "      <td>1.451819</td>\n",
              "      <td>0.744379</td>\n",
              "      <td>03:12</td>\n",
              "    </tr>\n",
              "  </tbody>\n",
              "</table>"
            ],
            "text/plain": [
              "<IPython.core.display.HTML object>"
            ]
          },
          "metadata": {
            "tags": []
          }
        }
      ]
    },
    {
      "cell_type": "code",
      "metadata": {
        "id": "XsHfrhCHG3dN",
        "outputId": "9b9d03d8-449b-4c8e-da38-bc760803fb94",
        "colab": {
          "base_uri": "https://localhost:8080/",
          "height": 173
        }
      },
      "source": [
        "learn.fit_one_cycle(4, slice(2e-3/100, 2e-3))"
      ],
      "execution_count": 35,
      "outputs": [
        {
          "output_type": "display_data",
          "data": {
            "text/html": [
              "<table border=\"1\" class=\"dataframe\">\n",
              "  <thead>\n",
              "    <tr style=\"text-align: left;\">\n",
              "      <th>epoch</th>\n",
              "      <th>train_loss</th>\n",
              "      <th>valid_loss</th>\n",
              "      <th>accuracy</th>\n",
              "      <th>time</th>\n",
              "    </tr>\n",
              "  </thead>\n",
              "  <tbody>\n",
              "    <tr>\n",
              "      <td>0</td>\n",
              "      <td>0.656207</td>\n",
              "      <td>1.418384</td>\n",
              "      <td>0.747929</td>\n",
              "      <td>03:07</td>\n",
              "    </tr>\n",
              "    <tr>\n",
              "      <td>1</td>\n",
              "      <td>0.624535</td>\n",
              "      <td>1.398026</td>\n",
              "      <td>0.749112</td>\n",
              "      <td>03:21</td>\n",
              "    </tr>\n",
              "    <tr>\n",
              "      <td>2</td>\n",
              "      <td>0.555884</td>\n",
              "      <td>1.366051</td>\n",
              "      <td>0.763314</td>\n",
              "      <td>03:18</td>\n",
              "    </tr>\n",
              "    <tr>\n",
              "      <td>3</td>\n",
              "      <td>0.460025</td>\n",
              "      <td>1.335264</td>\n",
              "      <td>0.772781</td>\n",
              "      <td>03:33</td>\n",
              "    </tr>\n",
              "  </tbody>\n",
              "</table>"
            ],
            "text/plain": [
              "<IPython.core.display.HTML object>"
            ]
          },
          "metadata": {
            "tags": []
          }
        }
      ]
    },
    {
      "cell_type": "code",
      "metadata": {
        "id": "0Zsd99isb9EQ",
        "outputId": "b4c529a3-44a8-4b45-a443-4a7f12f5f812",
        "colab": {
          "base_uri": "https://localhost:8080/",
          "height": 173
        }
      },
      "source": [
        "learn.fit_one_cycle(4, slice(2e-3/100, 2e-3))"
      ],
      "execution_count": 36,
      "outputs": [
        {
          "output_type": "display_data",
          "data": {
            "text/html": [
              "<table border=\"1\" class=\"dataframe\">\n",
              "  <thead>\n",
              "    <tr style=\"text-align: left;\">\n",
              "      <th>epoch</th>\n",
              "      <th>train_loss</th>\n",
              "      <th>valid_loss</th>\n",
              "      <th>accuracy</th>\n",
              "      <th>time</th>\n",
              "    </tr>\n",
              "  </thead>\n",
              "  <tbody>\n",
              "    <tr>\n",
              "      <td>0</td>\n",
              "      <td>0.431328</td>\n",
              "      <td>1.353074</td>\n",
              "      <td>0.778698</td>\n",
              "      <td>03:31</td>\n",
              "    </tr>\n",
              "    <tr>\n",
              "      <td>1</td>\n",
              "      <td>0.496206</td>\n",
              "      <td>1.366226</td>\n",
              "      <td>0.760947</td>\n",
              "      <td>03:12</td>\n",
              "    </tr>\n",
              "    <tr>\n",
              "      <td>2</td>\n",
              "      <td>0.410655</td>\n",
              "      <td>1.264189</td>\n",
              "      <td>0.775148</td>\n",
              "      <td>03:28</td>\n",
              "    </tr>\n",
              "    <tr>\n",
              "      <td>3</td>\n",
              "      <td>0.380106</td>\n",
              "      <td>1.263701</td>\n",
              "      <td>0.778698</td>\n",
              "      <td>03:38</td>\n",
              "    </tr>\n",
              "  </tbody>\n",
              "</table>"
            ],
            "text/plain": [
              "<IPython.core.display.HTML object>"
            ]
          },
          "metadata": {
            "tags": []
          }
        }
      ]
    },
    {
      "cell_type": "code",
      "metadata": {
        "id": "atNWNKDFPbuI",
        "outputId": "6cd2a2b5-dca6-4c4f-ad77-fa50192b5a81",
        "colab": {
          "base_uri": "https://localhost:8080/",
          "height": 173
        }
      },
      "source": [
        "learn.fit_one_cycle(4, slice(2e-3/100, 2e-3))"
      ],
      "execution_count": 37,
      "outputs": [
        {
          "output_type": "display_data",
          "data": {
            "text/html": [
              "<table border=\"1\" class=\"dataframe\">\n",
              "  <thead>\n",
              "    <tr style=\"text-align: left;\">\n",
              "      <th>epoch</th>\n",
              "      <th>train_loss</th>\n",
              "      <th>valid_loss</th>\n",
              "      <th>accuracy</th>\n",
              "      <th>time</th>\n",
              "    </tr>\n",
              "  </thead>\n",
              "  <tbody>\n",
              "    <tr>\n",
              "      <td>0</td>\n",
              "      <td>0.407049</td>\n",
              "      <td>1.277078</td>\n",
              "      <td>0.778698</td>\n",
              "      <td>03:39</td>\n",
              "    </tr>\n",
              "    <tr>\n",
              "      <td>1</td>\n",
              "      <td>0.388038</td>\n",
              "      <td>1.249681</td>\n",
              "      <td>0.788166</td>\n",
              "      <td>03:14</td>\n",
              "    </tr>\n",
              "    <tr>\n",
              "      <td>2</td>\n",
              "      <td>0.351847</td>\n",
              "      <td>1.212389</td>\n",
              "      <td>0.796450</td>\n",
              "      <td>03:31</td>\n",
              "    </tr>\n",
              "    <tr>\n",
              "      <td>3</td>\n",
              "      <td>0.306422</td>\n",
              "      <td>1.238016</td>\n",
              "      <td>0.797633</td>\n",
              "      <td>03:13</td>\n",
              "    </tr>\n",
              "  </tbody>\n",
              "</table>"
            ],
            "text/plain": [
              "<IPython.core.display.HTML object>"
            ]
          },
          "metadata": {
            "tags": []
          }
        }
      ]
    },
    {
      "cell_type": "code",
      "metadata": {
        "id": "rKrBTZ0T1uVA",
        "outputId": "3b1b3312-41a1-4b49-90c4-ac524350bc66",
        "colab": {
          "base_uri": "https://localhost:8080/",
          "height": 173
        }
      },
      "source": [
        "learn.fit_one_cycle(4, slice(2e-3/100, 2e-3))"
      ],
      "execution_count": 38,
      "outputs": [
        {
          "output_type": "display_data",
          "data": {
            "text/html": [
              "<table border=\"1\" class=\"dataframe\">\n",
              "  <thead>\n",
              "    <tr style=\"text-align: left;\">\n",
              "      <th>epoch</th>\n",
              "      <th>train_loss</th>\n",
              "      <th>valid_loss</th>\n",
              "      <th>accuracy</th>\n",
              "      <th>time</th>\n",
              "    </tr>\n",
              "  </thead>\n",
              "  <tbody>\n",
              "    <tr>\n",
              "      <td>0</td>\n",
              "      <td>0.313325</td>\n",
              "      <td>1.228012</td>\n",
              "      <td>0.796450</td>\n",
              "      <td>03:23</td>\n",
              "    </tr>\n",
              "    <tr>\n",
              "      <td>1</td>\n",
              "      <td>0.371851</td>\n",
              "      <td>1.208787</td>\n",
              "      <td>0.798817</td>\n",
              "      <td>03:21</td>\n",
              "    </tr>\n",
              "    <tr>\n",
              "      <td>2</td>\n",
              "      <td>0.276819</td>\n",
              "      <td>1.216164</td>\n",
              "      <td>0.801183</td>\n",
              "      <td>03:22</td>\n",
              "    </tr>\n",
              "    <tr>\n",
              "      <td>3</td>\n",
              "      <td>0.268749</td>\n",
              "      <td>1.214440</td>\n",
              "      <td>0.802367</td>\n",
              "      <td>03:25</td>\n",
              "    </tr>\n",
              "  </tbody>\n",
              "</table>"
            ],
            "text/plain": [
              "<IPython.core.display.HTML object>"
            ]
          },
          "metadata": {
            "tags": []
          }
        }
      ]
    },
    {
      "cell_type": "code",
      "metadata": {
        "id": "ajQC6WDg1yA9",
        "outputId": "d768dc43-8260-4674-f6cc-59b6e4325e4a",
        "colab": {
          "base_uri": "https://localhost:8080/",
          "height": 173
        }
      },
      "source": [
        "learn.fit_one_cycle(4, slice(2e-3/100, 2e-3))"
      ],
      "execution_count": 39,
      "outputs": [
        {
          "output_type": "display_data",
          "data": {
            "text/html": [
              "<table border=\"1\" class=\"dataframe\">\n",
              "  <thead>\n",
              "    <tr style=\"text-align: left;\">\n",
              "      <th>epoch</th>\n",
              "      <th>train_loss</th>\n",
              "      <th>valid_loss</th>\n",
              "      <th>accuracy</th>\n",
              "      <th>time</th>\n",
              "    </tr>\n",
              "  </thead>\n",
              "  <tbody>\n",
              "    <tr>\n",
              "      <td>0</td>\n",
              "      <td>0.240111</td>\n",
              "      <td>1.265099</td>\n",
              "      <td>0.794083</td>\n",
              "      <td>03:19</td>\n",
              "    </tr>\n",
              "    <tr>\n",
              "      <td>1</td>\n",
              "      <td>0.286093</td>\n",
              "      <td>1.258279</td>\n",
              "      <td>0.807101</td>\n",
              "      <td>03:25</td>\n",
              "    </tr>\n",
              "    <tr>\n",
              "      <td>2</td>\n",
              "      <td>0.245082</td>\n",
              "      <td>1.241860</td>\n",
              "      <td>0.804734</td>\n",
              "      <td>03:30</td>\n",
              "    </tr>\n",
              "    <tr>\n",
              "      <td>3</td>\n",
              "      <td>0.221645</td>\n",
              "      <td>1.255758</td>\n",
              "      <td>0.803550</td>\n",
              "      <td>03:13</td>\n",
              "    </tr>\n",
              "  </tbody>\n",
              "</table>"
            ],
            "text/plain": [
              "<IPython.core.display.HTML object>"
            ]
          },
          "metadata": {
            "tags": []
          }
        }
      ]
    },
    {
      "cell_type": "code",
      "metadata": {
        "id": "KKydb0B4BKGk"
      },
      "source": [
        "# learn.fit_one_cycle(4, slice(2e-3/100, 2e-3))"
      ],
      "execution_count": 40,
      "outputs": []
    },
    {
      "cell_type": "code",
      "metadata": {
        "id": "T2APKtFKBpGY"
      },
      "source": [
        "# learn.fit_one_cycle(4, slice(2e-3/100, 2e-3))"
      ],
      "execution_count": 41,
      "outputs": []
    },
    {
      "cell_type": "code",
      "metadata": {
        "id": "qtTypA1sPgLU"
      },
      "source": [
        "# learn.fit_one_cycle(2, slice(2e-3/100, 2e-3))"
      ],
      "execution_count": 42,
      "outputs": []
    },
    {
      "cell_type": "code",
      "metadata": {
        "id": "b242kBsTUp9Y"
      },
      "source": [
        "# learn.fit_one_cycle(2, slice(2e-3/100, 2e-3))"
      ],
      "execution_count": 43,
      "outputs": []
    },
    {
      "cell_type": "code",
      "metadata": {
        "id": "Duwf1Ih5VeDZ",
        "outputId": "db01c6ca-8d75-496b-c050-7ebcd3fa370e",
        "colab": {
          "base_uri": "https://localhost:8080/",
          "height": 80
        }
      },
      "source": [
        "learn.fit_one_cycle(1, slice(2e-3/100, 2e-3))"
      ],
      "execution_count": 44,
      "outputs": [
        {
          "output_type": "display_data",
          "data": {
            "text/html": [
              "<table border=\"1\" class=\"dataframe\">\n",
              "  <thead>\n",
              "    <tr style=\"text-align: left;\">\n",
              "      <th>epoch</th>\n",
              "      <th>train_loss</th>\n",
              "      <th>valid_loss</th>\n",
              "      <th>accuracy</th>\n",
              "      <th>time</th>\n",
              "    </tr>\n",
              "  </thead>\n",
              "  <tbody>\n",
              "    <tr>\n",
              "      <td>0</td>\n",
              "      <td>0.252074</td>\n",
              "      <td>1.350192</td>\n",
              "      <td>0.808284</td>\n",
              "      <td>03:13</td>\n",
              "    </tr>\n",
              "  </tbody>\n",
              "</table>"
            ],
            "text/plain": [
              "<IPython.core.display.HTML object>"
            ]
          },
          "metadata": {
            "tags": []
          }
        }
      ]
    },
    {
      "cell_type": "code",
      "metadata": {
        "id": "c65d-osfDUXm"
      },
      "source": [
        "# save the best model\n",
        "\n",
        "learn.save_encoder('pubmed_bigtweet_askpatient_mixed_overlap10')"
      ],
      "execution_count": 45,
      "outputs": []
    },
    {
      "cell_type": "markdown",
      "metadata": {
        "id": "rCwZU0E2RgM6"
      },
      "source": [
        "# Part three: Predict on the test dataset"
      ]
    },
    {
      "cell_type": "code",
      "metadata": {
        "id": "gDm72c-dOu7d",
        "outputId": "92e2f383-7b23-4c8a-ce17-d28e954411fe",
        "colab": {
          "base_uri": "https://localhost:8080/",
          "height": 17
        }
      },
      "source": [
        "# use the test data for prediction\n",
        "\n",
        "preds, y = learn.get_preds(DatasetType.Test)"
      ],
      "execution_count": 46,
      "outputs": [
        {
          "output_type": "display_data",
          "data": {
            "text/html": [
              ""
            ],
            "text/plain": [
              "<IPython.core.display.HTML object>"
            ]
          },
          "metadata": {
            "tags": []
          }
        }
      ]
    },
    {
      "cell_type": "code",
      "metadata": {
        "id": "6tFSQcsWPvxn",
        "outputId": "fa2bffbc-bd74-4803-ce8a-d32296b8075d",
        "colab": {
          "base_uri": "https://localhost:8080/",
          "height": 105
        }
      },
      "source": [
        "predictions, *_ = learn.get_preds(DatasetType.Test)\n",
        "labels = np.argmax(predictions, 1)\n",
        "predict_list = labels.tolist()\n",
        "standard_list = test[0].tolist()\n",
        "\n",
        "print(len(predict_list))\n",
        "print(len(standard_list))\n",
        "\n",
        "print(predict_list)\n",
        "print(standard_list)"
      ],
      "execution_count": 47,
      "outputs": [
        {
          "output_type": "display_data",
          "data": {
            "text/html": [
              ""
            ],
            "text/plain": [
              "<IPython.core.display.HTML object>"
            ]
          },
          "metadata": {
            "tags": []
          }
        },
        {
          "output_type": "stream",
          "text": [
            "681\n",
            "681\n",
            "[0, 467, 61, 334, 5, 1026, 646, 472, 10, 447, 788, 374, 135, 27, 707, 532, 706, 614, 2, 30, 32, 34, 741, 37, 38, 623, 41, 1002, 983, 983, 325, 100, 100, 640, 61, 464, 71, 71, 71, 76, 352, 182, 1009, 79, 109, 109, 109, 109, 109, 129, 37, 109, 569, 80, 794, 89, 892, 557, 850, 94, 94, 448, 734, 546, 683, 98, 244, 338, 100, 100, 100, 100, 61, 100, 405, 236, 107, 108, 108, 892, 35, 313, 211, 484, 172, 281, 108, 190, 730, 35, 120, 853, 628, 125, 339, 125, 127, 698, 129, 129, 700, 132, 607, 142, 144, 794, 794, 182, 354, 157, 509, 165, 81, 405, 194, 121, 412, 860, 182, 182, 182, 182, 183, 183, 187, 1026, 1028, 190, 190, 190, 190, 190, 190, 190, 190, 197, 34, 34, 34, 34, 805, 568, 2, 210, 210, 210, 210, 210, 211, 34, 257, 214, 214, 351, 214, 214, 339, 448, 220, 44, 228, 228, 79, 228, 228, 228, 228, 776, 541, 234, 235, 236, 314, 402, 339, 1009, 910, 187, 820, 448, 1009, 1009, 390, 448, 638, 245, 245, 245, 245, 245, 245, 467, 246, 646, 35, 390, 715, 259, 260, 260, 390, 265, 419, 660, 402, 265, 265, 260, 297, 265, 265, 265, 199, 86, 892, 270, 294, 700, 282, 283, 52, 805, 419, 696, 289, 289, 289, 289, 861, 289, 108, 111, 655, 289, 289, 289, 289, 289, 289, 289, 289, 289, 289, 205, 741, 289, 289, 289, 289, 651, 364, 260, 541, 896, 272, 877, 787, 589, 41, 301, 100, 265, 304, 397, 309, 309, 310, 309, 309, 747, 318, 359, 79, 896, 146, 558, 234, 321, 954, 1002, 1002, 1002, 848, 325, 729, 61, 143, 203, 627, 627, 185, 337, 337, 337, 768, 129, 343, 129, 343, 364, 318, 272, 910, 197, 359, 847, 359, 17, 847, 360, 360, 364, 289, 726, 954, 607, 427, 444, 822, 402, 402, 402, 673, 556, 446, 415, 801, 526, 318, 419, 129, 419, 419, 35, 736, 426, 426, 427, 427, 558, 427, 737, 427, 427, 427, 49, 591, 612, 736, 430, 910, 434, 435, 438, 441, 444, 444, 444, 391, 446, 453, 2, 111, 524, 416, 794, 475, 591, 158, 158, 158, 909, 479, 479, 532, 744, 694, 486, 494, 293, 326, 491, 664, 865, 491, 926, 491, 492, 746, 499, 579, 288, 506, 318, 874, 517, 339, 847, 521, 521, 236, 530, 530, 531, 532, 542, 591, 291, 768, 546, 548, 730, 730, 88, 451, 926, 318, 318, 567, 775, 810, 301, 577, 688, 577, 578, 578, 579, 579, 579, 579, 584, 586, 289, 591, 325, 325, 591, 594, 594, 707, 595, 737, 541, 142, 604, 704, 37, 607, 127, 925, 614, 478, 623, 623, 318, 624, 633, 633, 633, 637, 245, 640, 236, 648, 648, 275, 651, 652, 652, 652, 806, 810, 810, 660, 491, 491, 491, 664, 437, 670, 403, 706, 681, 217, 772, 37, 645, 185, 926, 427, 698, 651, 700, 121, 352, 696, 696, 699, 651, 704, 190, 704, 741, 706, 644, 707, 707, 106, 623, 726, 730, 774, 49, 549, 670, 88, 544, 739, 741, 703, 624, 109, 741, 541, 746, 405, 746, 749, 753, 271, 96, 809, 666, 337, 375, 770, 771, 774, 775, 301, 775, 775, 775, 775, 775, 775, 258, 359, 787, 787, 787, 780, 479, 798, 852, 339, 757, 805, 805, 315, 808, 809, 246, 809, 809, 809, 810, 810, 810, 810, 246, 815, 315, 824, 377, 826, 402, 828, 829, 830, 830, 830, 830, 831, 954, 841, 841, 840, 764, 846, 329, 847, 847, 808, 847, 540, 706, 864, 111, 130, 108, 289, 861, 861, 475, 426, 353, 874, 876, 245, 877, 877, 165, 172, 61, 190, 893, 415, 579, 896, 897, 560, 363, 328, 764, 117, 772, 905, 906, 466, 306, 837, 939, 837, 933, 933, 937, 937, 949, 949, 949, 949, 949, 949, 949, 949, 949, 949, 949, 949, 949, 949, 949, 949, 949, 949, 213, 973, 448, 952, 628, 1026, 967, 287, 256, 994, 951, 1001, 1002, 1011, 1019, 992, 822, 1026, 1028, 439, 1029, 1029, 1026, 1035]\n",
            "[0, 3, 4, 5, 5, 7, 8, 9, 10, 14, 18, 19, 22, 27, 28, 28, 29, 30, 30, 30, 32, 34, 37, 37, 38, 40, 41, 47, 49, 49, 49, 49, 49, 50, 61, 70, 71, 71, 71, 76, 77, 77, 79, 79, 79, 79, 79, 79, 79, 79, 79, 79, 79, 80, 82, 89, 89, 90, 93, 94, 94, 94, 96, 98, 98, 98, 99, 100, 100, 100, 100, 100, 100, 100, 101, 102, 107, 108, 108, 109, 110, 111, 111, 111, 111, 111, 111, 111, 111, 119, 120, 122, 125, 125, 125, 125, 127, 129, 129, 129, 129, 132, 138, 142, 144, 150, 150, 153, 157, 157, 163, 165, 166, 168, 170, 172, 180, 182, 182, 182, 182, 182, 183, 183, 187, 187, 189, 190, 190, 190, 190, 190, 190, 190, 190, 197, 197, 197, 197, 197, 204, 205, 205, 210, 210, 210, 210, 210, 211, 214, 214, 214, 214, 214, 214, 214, 216, 218, 220, 228, 228, 228, 228, 228, 228, 228, 228, 229, 231, 234, 235, 236, 236, 238, 238, 238, 238, 240, 240, 243, 243, 243, 243, 243, 245, 245, 245, 245, 245, 245, 245, 245, 246, 246, 249, 254, 254, 259, 260, 260, 261, 265, 265, 265, 265, 265, 265, 265, 265, 265, 265, 265, 266, 268, 268, 270, 272, 281, 282, 283, 286, 288, 289, 289, 289, 289, 289, 289, 289, 289, 289, 289, 289, 289, 289, 289, 289, 289, 289, 289, 289, 289, 289, 289, 289, 289, 289, 289, 289, 289, 289, 289, 291, 293, 294, 295, 299, 299, 301, 301, 301, 301, 304, 304, 309, 309, 309, 309, 309, 317, 318, 318, 318, 318, 318, 320, 320, 321, 323, 325, 325, 325, 325, 325, 326, 327, 330, 333, 334, 334, 337, 337, 337, 337, 338, 343, 343, 343, 343, 345, 346, 347, 350, 351, 359, 359, 359, 359, 359, 360, 360, 364, 364, 365, 380, 387, 388, 392, 394, 402, 402, 402, 408, 408, 413, 415, 416, 419, 419, 419, 419, 419, 419, 424, 424, 426, 426, 427, 427, 427, 427, 427, 427, 427, 427, 427, 427, 427, 428, 430, 433, 434, 435, 438, 441, 443, 444, 444, 444, 446, 453, 461, 462, 465, 473, 473, 475, 475, 476, 476, 476, 477, 479, 479, 481, 482, 483, 486, 487, 487, 488, 491, 491, 491, 491, 491, 491, 492, 493, 499, 505, 505, 506, 509, 514, 517, 517, 517, 521, 521, 529, 530, 530, 531, 531, 542, 543, 543, 545, 546, 548, 549, 549, 554, 561, 561, 565, 566, 567, 571, 575, 577, 577, 577, 577, 578, 578, 579, 579, 579, 579, 584, 586, 588, 591, 591, 591, 591, 594, 594, 595, 595, 596, 598, 598, 604, 606, 606, 607, 609, 611, 614, 614, 617, 623, 623, 624, 633, 633, 633, 637, 638, 640, 646, 648, 648, 648, 651, 652, 652, 654, 659, 659, 659, 660, 662, 662, 663, 663, 663, 664, 669, 677, 681, 683, 686, 686, 686, 687, 689, 693, 698, 700, 700, 701, 701, 702, 702, 702, 702, 703, 703, 704, 704, 705, 705, 707, 707, 710, 715, 716, 718, 723, 727, 730, 731, 733, 738, 739, 741, 741, 741, 741, 741, 746, 746, 746, 746, 749, 753, 756, 761, 763, 765, 766, 767, 770, 771, 774, 775, 775, 775, 775, 775, 775, 775, 775, 782, 784, 787, 787, 788, 794, 794, 798, 800, 803, 804, 805, 805, 807, 808, 809, 809, 809, 809, 809, 810, 810, 810, 810, 813, 815, 816, 824, 826, 826, 827, 828, 829, 830, 830, 830, 830, 831, 834, 840, 840, 840, 840, 844, 846, 847, 847, 847, 847, 847, 861, 864, 864, 864, 864, 864, 865, 865, 865, 867, 871, 874, 876, 876, 877, 877, 882, 883, 888, 889, 893, 894, 896, 896, 896, 896, 896, 898, 902, 903, 903, 905, 906, 908, 917, 920, 926, 932, 933, 933, 937, 937, 949, 949, 949, 949, 949, 949, 949, 949, 949, 949, 949, 949, 949, 949, 949, 949, 949, 949, 949, 949, 949, 952, 955, 966, 967, 969, 994, 994, 1000, 1001, 1002, 1011, 1019, 1020, 1020, 1026, 1028, 1028, 1029, 1029, 1030, 1035]\n"
          ],
          "name": "stdout"
        }
      ]
    },
    {
      "cell_type": "code",
      "metadata": {
        "id": "XIC4zufnMxtq",
        "outputId": "05442b6c-07bb-40db-cca9-529e96270407",
        "colab": {
          "base_uri": "https://localhost:8080/",
          "height": 51
        }
      },
      "source": [
        "correct_num = 0\n",
        "\n",
        "for i in range(0, len(standard_list)):\n",
        "  if predict_list[i] == standard_list[i]:\n",
        "    correct_num = correct_num+1\n",
        "  else:\n",
        "    pass\n",
        "print(correct_num)\n",
        "\n",
        "predict_accuracy = correct_num/len(predict_list)\n",
        "print(predict_accuracy)"
      ],
      "execution_count": 48,
      "outputs": [
        {
          "output_type": "stream",
          "text": [
            "302\n",
            "0.4434654919236417\n"
          ],
          "name": "stdout"
        }
      ]
    },
    {
      "cell_type": "code",
      "metadata": {
        "id": "zlKMHp1CIaRJ"
      },
      "source": [
        ""
      ],
      "execution_count": 48,
      "outputs": []
    }
  ]
}