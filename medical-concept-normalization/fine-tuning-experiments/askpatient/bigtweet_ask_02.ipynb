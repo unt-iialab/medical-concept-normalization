{
  "nbformat": 4,
  "nbformat_minor": 0,
  "metadata": {
    "accelerator": "TPU",
    "colab": {
      "name": "bigtweet_ask_02.ipynb",
      "provenance": [],
      "collapsed_sections": [],
      "include_colab_link": true
    },
    "kernelspec": {
      "display_name": "Python 3",
      "name": "python3"
    }
  },
  "cells": [
    {
      "cell_type": "markdown",
      "metadata": {
        "id": "view-in-github",
        "colab_type": "text"
      },
      "source": [
        "<a href=\"https://colab.research.google.com/github/unt-iialab/medical-concept-normalization/blob/master/medical-concept-normalization/fine-tuning-experiments/askpatient/bigtweet_ask_02.ipynb\" target=\"_parent\"><img src=\"https://colab.research.google.com/assets/colab-badge.svg\" alt=\"Open In Colab\"/></a>"
      ]
    },
    {
      "cell_type": "code",
      "metadata": {
        "id": "adSi6i2-dWxy"
      },
      "source": [
        "import os"
      ],
      "execution_count": null,
      "outputs": []
    },
    {
      "cell_type": "code",
      "metadata": {
        "id": "E7xYCRGPjd9B"
      },
      "source": [
        "base_dir = 'medical-concept-normalization'"
      ],
      "execution_count": null,
      "outputs": []
    },
    {
      "cell_type": "code",
      "metadata": {
        "id": "yvIW3aUDjYNS"
      },
      "source": [
        "os.mkdir(base_dir)"
      ],
      "execution_count": null,
      "outputs": []
    },
    {
      "cell_type": "code",
      "metadata": {
        "id": "es-FFLlfk6SG"
      },
      "source": [
        "os.mkdir('medical-concept-normalization/data_collection')"
      ],
      "execution_count": null,
      "outputs": []
    },
    {
      "cell_type": "markdown",
      "metadata": {
        "id": "0R-Guw_VoJXm"
      },
      "source": [
        "**Install fastai and clone the fastai for text classification**\n",
        "\n"
      ]
    },
    {
      "cell_type": "code",
      "metadata": {
        "id": "QVZa3Z0PmHFH",
        "outputId": "e124d92f-5d8c-4689-dc95-81840548ba74",
        "colab": {
          "base_uri": "https://localhost:8080/"
        }
      },
      "source": [
        "!curl https://course-v3.fast.ai/setup/colab | bash"
      ],
      "execution_count": null,
      "outputs": [
        {
          "output_type": "stream",
          "text": [
            "  % Total    % Received % Xferd  Average Speed   Time    Time     Time  Current\n",
            "                                 Dload  Upload   Total   Spent    Left  Speed\n",
            "\r  0     0    0     0    0     0      0      0 --:--:-- --:--:-- --:--:--     0curl: (6) Could not resolve host: course-v3.fast.ai\n"
          ],
          "name": "stdout"
        }
      ]
    },
    {
      "cell_type": "code",
      "metadata": {
        "id": "_FBFFEBrmJC0",
        "outputId": "710672dd-9005-4ff7-bcbd-2a7fa016e3af",
        "colab": {
          "base_uri": "https://localhost:8080/"
        }
      },
      "source": [
        "!git clone https://github.com/wshuyi/demo-nlp-classification-fastai.git"
      ],
      "execution_count": null,
      "outputs": [
        {
          "output_type": "stream",
          "text": [
            "Cloning into 'demo-nlp-classification-fastai'...\n",
            "remote: Enumerating objects: 9, done.\u001b[K\n",
            "remote: Total 9 (delta 0), reused 0 (delta 0), pack-reused 9\u001b[K\n",
            "Unpacking objects: 100% (9/9), done.\n"
          ],
          "name": "stdout"
        }
      ]
    },
    {
      "cell_type": "code",
      "metadata": {
        "id": "66zfh_JqmWMU"
      },
      "source": [
        "from fastai import *\n",
        "from fastai.text import *"
      ],
      "execution_count": null,
      "outputs": []
    },
    {
      "cell_type": "markdown",
      "metadata": {
        "id": "mNIw-yALdBU9"
      },
      "source": [
        "**Set the path of the data collections**"
      ]
    },
    {
      "cell_type": "code",
      "metadata": {
        "id": "pzH7VMh4mqCL"
      },
      "source": [
        "path = Path('medical-concept-normalization/data_collection')"
      ],
      "execution_count": null,
      "outputs": []
    },
    {
      "cell_type": "code",
      "metadata": {
        "id": "b8fjI6yyn4aS"
      },
      "source": [
        "# training data set\n",
        "\n",
        "train_csv = path/'AskAPatient.fold-2.train.csv'\n",
        "train = pd.read_csv(train_csv, header=None)\n",
        "#train.head()\n",
        "#train.info()"
      ],
      "execution_count": null,
      "outputs": []
    },
    {
      "cell_type": "code",
      "metadata": {
        "id": "Hmlr-bAorfHd",
        "outputId": "b0b328ac-357d-4c01-a42a-074adcb70f92",
        "colab": {
          "base_uri": "https://localhost:8080/",
          "height": 204
        }
      },
      "source": [
        "# validating data set\n",
        "\n",
        "valid = pd.read_csv(path/\"AskAPatient.fold-2.validation.csv\",header=None)\n",
        "valid.head()"
      ],
      "execution_count": null,
      "outputs": [
        {
          "output_type": "execute_result",
          "data": {
            "text/html": [
              "<div>\n",
              "<style scoped>\n",
              "    .dataframe tbody tr th:only-of-type {\n",
              "        vertical-align: middle;\n",
              "    }\n",
              "\n",
              "    .dataframe tbody tr th {\n",
              "        vertical-align: top;\n",
              "    }\n",
              "\n",
              "    .dataframe thead th {\n",
              "        text-align: right;\n",
              "    }\n",
              "</style>\n",
              "<table border=\"1\" class=\"dataframe\">\n",
              "  <thead>\n",
              "    <tr style=\"text-align: right;\">\n",
              "      <th></th>\n",
              "      <th>0</th>\n",
              "      <th>1</th>\n",
              "    </tr>\n",
              "  </thead>\n",
              "  <tbody>\n",
              "    <tr>\n",
              "      <th>0</th>\n",
              "      <td>2</td>\n",
              "      <td>left heel pain</td>\n",
              "    </tr>\n",
              "    <tr>\n",
              "      <th>1</th>\n",
              "      <td>4</td>\n",
              "      <td>Discoloration of skin [blotchy] on the neck</td>\n",
              "    </tr>\n",
              "    <tr>\n",
              "      <th>2</th>\n",
              "      <td>7</td>\n",
              "      <td>goiter</td>\n",
              "    </tr>\n",
              "    <tr>\n",
              "      <th>3</th>\n",
              "      <td>8</td>\n",
              "      <td>arthritis</td>\n",
              "    </tr>\n",
              "    <tr>\n",
              "      <th>4</th>\n",
              "      <td>8</td>\n",
              "      <td>arthritis</td>\n",
              "    </tr>\n",
              "  </tbody>\n",
              "</table>\n",
              "</div>"
            ],
            "text/plain": [
              "   0                                            1\n",
              "0  2                               left heel pain\n",
              "1  4  Discoloration of skin [blotchy] on the neck\n",
              "2  7                                       goiter\n",
              "3  8                                    arthritis\n",
              "4  8                                    arthritis"
            ]
          },
          "metadata": {
            "tags": []
          },
          "execution_count": 11
        }
      ]
    },
    {
      "cell_type": "code",
      "metadata": {
        "id": "cOza9dfSsBud",
        "outputId": "17008423-684f-4dea-b2cc-081c8eecba6b",
        "colab": {
          "base_uri": "https://localhost:8080/",
          "height": 204
        }
      },
      "source": [
        "# testing data set\n",
        "\n",
        "test = pd.read_csv(path/\"AskAPatient.fold-2.test.csv\",header=None)\n",
        "test.head()"
      ],
      "execution_count": null,
      "outputs": [
        {
          "output_type": "execute_result",
          "data": {
            "text/html": [
              "<div>\n",
              "<style scoped>\n",
              "    .dataframe tbody tr th:only-of-type {\n",
              "        vertical-align: middle;\n",
              "    }\n",
              "\n",
              "    .dataframe tbody tr th {\n",
              "        vertical-align: top;\n",
              "    }\n",
              "\n",
              "    .dataframe thead th {\n",
              "        text-align: right;\n",
              "    }\n",
              "</style>\n",
              "<table border=\"1\" class=\"dataframe\">\n",
              "  <thead>\n",
              "    <tr style=\"text-align: right;\">\n",
              "      <th></th>\n",
              "      <th>0</th>\n",
              "      <th>1</th>\n",
              "    </tr>\n",
              "  </thead>\n",
              "  <tbody>\n",
              "    <tr>\n",
              "      <th>0</th>\n",
              "      <td>2</td>\n",
              "      <td>right heel pain</td>\n",
              "    </tr>\n",
              "    <tr>\n",
              "      <th>1</th>\n",
              "      <td>4</td>\n",
              "      <td>black and blue marks</td>\n",
              "    </tr>\n",
              "    <tr>\n",
              "      <th>2</th>\n",
              "      <td>8</td>\n",
              "      <td>arthritice</td>\n",
              "    </tr>\n",
              "    <tr>\n",
              "      <th>3</th>\n",
              "      <td>8</td>\n",
              "      <td>arthritis</td>\n",
              "    </tr>\n",
              "    <tr>\n",
              "      <th>4</th>\n",
              "      <td>8</td>\n",
              "      <td>arthritis</td>\n",
              "    </tr>\n",
              "  </tbody>\n",
              "</table>\n",
              "</div>"
            ],
            "text/plain": [
              "   0                     1\n",
              "0  2       right heel pain\n",
              "1  4  black and blue marks\n",
              "2  8            arthritice\n",
              "3  8             arthritis\n",
              "4  8             arthritis"
            ]
          },
          "metadata": {
            "tags": []
          },
          "execution_count": 12
        }
      ]
    },
    {
      "cell_type": "code",
      "metadata": {
        "id": "Vo-YNvVYoaH6",
        "outputId": "2141bc6d-a007-4ca2-9cb6-92a252e24f7e",
        "colab": {
          "base_uri": "https://localhost:8080/",
          "height": 17
        }
      },
      "source": [
        "# Creating DataBunch for language modelling\n",
        "\n",
        "data_lm = TextLMDataBunch.from_csv(path, 'bigtweet_ask.csv')"
      ],
      "execution_count": null,
      "outputs": [
        {
          "output_type": "display_data",
          "data": {
            "text/html": [
              ""
            ],
            "text/plain": [
              "<IPython.core.display.HTML object>"
            ]
          },
          "metadata": {
            "tags": []
          }
        },
        {
          "output_type": "display_data",
          "data": {
            "text/html": [
              ""
            ],
            "text/plain": [
              "<IPython.core.display.HTML object>"
            ]
          },
          "metadata": {
            "tags": []
          }
        }
      ]
    },
    {
      "cell_type": "code",
      "metadata": {
        "id": "qcV-9kMnNLBf"
      },
      "source": [
        ""
      ],
      "execution_count": null,
      "outputs": []
    },
    {
      "cell_type": "code",
      "metadata": {
        "id": "1ScY9afDsnvE"
      },
      "source": [
        "# Creating DataBunch for classification\n",
        "\n",
        "# data_clas = TextClasDataBunch.from_df(path, train, valid, test, vocab=data_lm.train_ds.vocab, bs=128)"
      ],
      "execution_count": null,
      "outputs": []
    },
    {
      "cell_type": "code",
      "metadata": {
        "id": "gzrSdQcvey9p",
        "outputId": "a96dabea-3172-467e-b58f-db0414b9f94a",
        "colab": {
          "base_uri": "https://localhost:8080/",
          "height": 17
        }
      },
      "source": [
        "data_clas = TextClasDataBunch.from_df(path, train, valid, vocab=data_lm.train_ds.vocab, bs=128)"
      ],
      "execution_count": null,
      "outputs": [
        {
          "output_type": "display_data",
          "data": {
            "text/html": [
              ""
            ],
            "text/plain": [
              "<IPython.core.display.HTML object>"
            ]
          },
          "metadata": {
            "tags": []
          }
        },
        {
          "output_type": "display_data",
          "data": {
            "text/html": [
              ""
            ],
            "text/plain": [
              "<IPython.core.display.HTML object>"
            ]
          },
          "metadata": {
            "tags": []
          }
        }
      ]
    },
    {
      "cell_type": "code",
      "metadata": {
        "id": "MD27Tf0Ke3ou",
        "outputId": "b8a96324-fe72-4ade-ed03-c08f9546dcfe",
        "colab": {
          "base_uri": "https://localhost:8080/",
          "height": 17
        }
      },
      "source": [
        "data_clas.add_test(test,label=0)\n"
      ],
      "execution_count": null,
      "outputs": [
        {
          "output_type": "display_data",
          "data": {
            "text/html": [
              ""
            ],
            "text/plain": [
              "<IPython.core.display.HTML object>"
            ]
          },
          "metadata": {
            "tags": []
          }
        }
      ]
    },
    {
      "cell_type": "code",
      "metadata": {
        "id": "-dpjnk_rstwk"
      },
      "source": [
        "data_lm.save()\n",
        "data_clas.save()"
      ],
      "execution_count": null,
      "outputs": []
    },
    {
      "cell_type": "code",
      "metadata": {
        "id": "4OkiJa36sw5s",
        "outputId": "2f101ce4-bda2-4ee6-c9e5-9146b2c5e222",
        "colab": {
          "base_uri": "https://localhost:8080/"
        }
      },
      "source": [
        "data_lm.train_ds.vocab.itos"
      ],
      "execution_count": null,
      "outputs": [
        {
          "output_type": "execute_result",
          "data": {
            "text/plain": [
              "['xxunk',\n",
              " 'xxpad',\n",
              " 'xxbos',\n",
              " 'xxeos',\n",
              " 'xxfld',\n",
              " 'xxmaj',\n",
              " 'xxup',\n",
              " 'xxrep',\n",
              " 'xxwrep',\n",
              " 'pain',\n",
              " 'lipitor',\n",
              " 'in',\n",
              " 'of',\n",
              " 'muscle',\n",
              " 'to',\n",
              " 'the',\n",
              " 'severe',\n",
              " 'and',\n",
              " 'my',\n",
              " 'myalgia',\n",
              " 'fatigue',\n",
              " 'lower',\n",
              " 'rt',\n",
              " 'a',\n",
              " 'cramp',\n",
              " 'loss',\n",
              " 'limb',\n",
              " 'weakness',\n",
              " 'for',\n",
              " 'stomach',\n",
              " 'disease',\n",
              " 'back',\n",
              " '-',\n",
              " 'depression',\n",
              " 'on',\n",
              " 'cramps',\n",
              " 'gas',\n",
              " 'upper',\n",
              " 'is',\n",
              " 'memory',\n",
              " 'joint',\n",
              " 'you',\n",
              " 'leg',\n",
              " 'legs',\n",
              " 'pains',\n",
              " 'i',\n",
              " 'headache',\n",
              " 'unable',\n",
              " 'with',\n",
              " 'shoulder',\n",
              " 'arthralgia',\n",
              " 'knee',\n",
              " 'neck',\n",
              " 'excessive',\n",
              " 'foot',\n",
              " 'aches',\n",
              " 'gastrointestinal',\n",
              " 'hip',\n",
              " 'amp',\n",
              " 'numbness',\n",
              " 'not',\n",
              " 'arthritis',\n",
              " 'insomnia',\n",
              " 'like',\n",
              " 'all',\n",
              " '/',\n",
              " 'bleeding',\n",
              " 'arthrotec',\n",
              " 'gluten',\n",
              " 'walk',\n",
              " 'asthenia',\n",
              " 'dizziness',\n",
              " 'tired',\n",
              " 'nausea',\n",
              " 'feeling',\n",
              " 'abdominal',\n",
              " 'problems',\n",
              " 'walking',\n",
              " 'heart',\n",
              " 'feet',\n",
              " 'difficulty',\n",
              " 'muscles',\n",
              " 'swelling',\n",
              " 'chest',\n",
              " 'ache',\n",
              " 'hair',\n",
              " 'backache',\n",
              " 'at',\n",
              " 'hand',\n",
              " 'extreme',\n",
              " 'burning',\n",
              " 'zocor',\n",
              " 'could',\n",
              " 'stiffness',\n",
              " 'diarrhoea',\n",
              " 'can',\n",
              " 'vision',\n",
              " 'pins',\n",
              " 'needles',\n",
              " 'your',\n",
              " 'have',\n",
              " 'are',\n",
              " 'it',\n",
              " 'cramping',\n",
              " 'free',\n",
              " 'sleep',\n",
              " 'increased',\n",
              " 'amnesia',\n",
              " 'out',\n",
              " 'skin',\n",
              " 'blood',\n",
              " 'very',\n",
              " 'right',\n",
              " 'liver',\n",
              " 'up',\n",
              " 'or',\n",
              " 'weight',\n",
              " 'calf',\n",
              " 'tingling',\n",
              " 'from',\n",
              " 'disability',\n",
              " 'impairment',\n",
              " 'left',\n",
              " 'new',\n",
              " 'cholesterol',\n",
              " 'anxiety',\n",
              " 'this',\n",
              " 'do',\n",
              " 'lack',\n",
              " 'about',\n",
              " 'short',\n",
              " 'symptom',\n",
              " 'stiff',\n",
              " 'nt',\n",
              " 'bloating',\n",
              " 'constipation',\n",
              " 'our',\n",
              " 'low',\n",
              " 'what',\n",
              " 'term',\n",
              " 'glutenfree',\n",
              " 'high',\n",
              " 'disorder',\n",
              " 'arm',\n",
              " 'was',\n",
              " 'poor',\n",
              " 'hands',\n",
              " 'be',\n",
              " 'headaches',\n",
              " 'so',\n",
              " 'sore',\n",
              " 'celiac',\n",
              " 'that',\n",
              " 'arms',\n",
              " 'voltaren',\n",
              " 'neuropathy',\n",
              " 'get',\n",
              " 'balance',\n",
              " 'blurred',\n",
              " 'now',\n",
              " 'time',\n",
              " 'ankle',\n",
              " 'body',\n",
              " 'tiredness',\n",
              " 'infarction',\n",
              " 'joints',\n",
              " 'vaginal',\n",
              " 'pressure',\n",
              " 'rash',\n",
              " 'myocardial',\n",
              " 'by',\n",
              " 'pravachol',\n",
              " 'sensation',\n",
              " 'hurt',\n",
              " 'myositis',\n",
              " 'mentally',\n",
              " 'acid',\n",
              " 'atrophy',\n",
              " 'swollen',\n",
              " 'vertigo',\n",
              " ')',\n",
              " 'more',\n",
              " 'food',\n",
              " 'itching',\n",
              " 'energy',\n",
              " 'attack',\n",
              " 'we',\n",
              " 'how',\n",
              " \"'s\",\n",
              " 'upset',\n",
              " 'ubidecarenone',\n",
              " 'diarrhea',\n",
              " ',',\n",
              " 'generalised',\n",
              " 'gain',\n",
              " 'diabetes',\n",
              " '(',\n",
              " 'painful',\n",
              " 'raised',\n",
              " 'as',\n",
              " 'damage',\n",
              " 'dry',\n",
              " 'dull',\n",
              " 'constant',\n",
              " 'me',\n",
              " 'spasm',\n",
              " \"n't\",\n",
              " 'feel',\n",
              " 'no',\n",
              " 'shoulders',\n",
              " 'via',\n",
              " 'illness',\n",
              " 'use',\n",
              " 'its',\n",
              " 'bad',\n",
              " 'elbow',\n",
              " 'weak',\n",
              " 'if',\n",
              " 'visual',\n",
              " 'tendonitis',\n",
              " 'hazy',\n",
              " 'tip',\n",
              " 'flatulence',\n",
              " 'crestor',\n",
              " 'symptoms',\n",
              " 'sleeping',\n",
              " 'influenza',\n",
              " 'toe',\n",
              " 'spasms',\n",
              " 'both',\n",
              " 'just',\n",
              " 'exhaustion',\n",
              " 'reduced',\n",
              " 'syndrome',\n",
              " 'has',\n",
              " 'myopathy',\n",
              " 'problem',\n",
              " 'heavy',\n",
              " 'mood',\n",
              " 'abnormal',\n",
              " 'w',\n",
              " 'elevated',\n",
              " 'dblclick',\n",
              " 'knees',\n",
              " 'movement',\n",
              " 'pic',\n",
              " 'irritable',\n",
              " 'reflux',\n",
              " 'diet',\n",
              " 'products',\n",
              " 'libido',\n",
              " 'concentrate',\n",
              " 'thigh',\n",
              " 'sclerosis',\n",
              " 'discomfort',\n",
              " 'flu',\n",
              " 'fibromyalgia',\n",
              " 'vomiting',\n",
              " 'think',\n",
              " 'bed',\n",
              " 'throat',\n",
              " 'serum',\n",
              " 'why',\n",
              " 'kidney',\n",
              " 'check',\n",
              " 'had',\n",
              " 'cold',\n",
              " 'chronic',\n",
              " 'lightheadedness',\n",
              " 'off',\n",
              " 'mellitus',\n",
              " 'tremor',\n",
              " 'wind',\n",
              " 'over',\n",
              " 'review',\n",
              " 'disturbance',\n",
              " 'brain',\n",
              " 'simvastatin',\n",
              " 'head',\n",
              " 'know',\n",
              " 'hips',\n",
              " 'when',\n",
              " 'type',\n",
              " 'concentration',\n",
              " 'sweating',\n",
              " 'swings',\n",
              " 'here',\n",
              " 'menstrual',\n",
              " 'aching',\n",
              " 'ezetimibe',\n",
              " 'malaise',\n",
              " 'urine',\n",
              " 'appetite',\n",
              " 'eye',\n",
              " 'eat',\n",
              " 'confusion',\n",
              " 'but',\n",
              " 'tinnitus',\n",
              " 'soreness',\n",
              " 'paraesthesia',\n",
              " 'post',\n",
              " 'calves',\n",
              " 'injury',\n",
              " 'celebrex',\n",
              " 'love',\n",
              " 'esters',\n",
              " 'finger',\n",
              " 'make',\n",
              " 's',\n",
              " 'gfb',\n",
              " 'impaired',\n",
              " 'm',\n",
              " 'toes',\n",
              " 'an',\n",
              " 're',\n",
              " 'ca',\n",
              " 'intolerance',\n",
              " 'who',\n",
              " 'peripheral',\n",
              " 'stairs',\n",
              " 'c',\n",
              " 'renal',\n",
              " 'swallowing',\n",
              " 'indigestion',\n",
              " '2',\n",
              " 'failure',\n",
              " 'cough',\n",
              " 'help',\n",
              " 'ascorbic',\n",
              " 'heel',\n",
              " 'ankles',\n",
              " 'going',\n",
              " 'thanks',\n",
              " 'motivation',\n",
              " 'hot',\n",
              " 'intense',\n",
              " 'ibuprofen',\n",
              " 'great',\n",
              " 'palpitations',\n",
              " 'migraine',\n",
              " 'parkinson',\n",
              " 'excruciating',\n",
              " 'decreased',\n",
              " 'face',\n",
              " 'will',\n",
              " 'restless',\n",
              " 'lateral',\n",
              " 'charleyhorse',\n",
              " 'day',\n",
              " 'mild',\n",
              " '1',\n",
              " 'one',\n",
              " 'dyspnoea',\n",
              " 'recipe',\n",
              " 'acute',\n",
              " 'tendon',\n",
              " 'dark',\n",
              " 'fingers',\n",
              " 'felt',\n",
              " 'lupus',\n",
              " 'getting',\n",
              " 'read',\n",
              " 'some',\n",
              " 'posted',\n",
              " 'night',\n",
              " 'speech',\n",
              " 'general',\n",
              " '30',\n",
              " 'always',\n",
              " 'depressed',\n",
              " 'they',\n",
              " 'nerve',\n",
              " 'down',\n",
              " 'multiple',\n",
              " 'vitamin',\n",
              " 'infection',\n",
              " 'oil',\n",
              " 'menopause',\n",
              " 'heres',\n",
              " 'us',\n",
              " 'stress',\n",
              " 'may',\n",
              " 'eyes',\n",
              " 'life',\n",
              " 'advil',\n",
              " 'archives',\n",
              " 'breathing',\n",
              " 'test',\n",
              " 'gout',\n",
              " 'dreams',\n",
              " 'taste',\n",
              " 'being',\n",
              " 'go',\n",
              " '\\r \\n ',\n",
              " 'drowsy',\n",
              " '3',\n",
              " 'does',\n",
              " 'twitch',\n",
              " 'enzymes',\n",
              " 'big',\n",
              " 'wrist',\n",
              " 'need',\n",
              " 'fish',\n",
              " 'tightness',\n",
              " 'jennieo',\n",
              " 'terrible',\n",
              " 'people',\n",
              " 'amyotrophic',\n",
              " 'provoked',\n",
              " 'tips',\n",
              " 'limbs',\n",
              " 'there',\n",
              " 'heartburn',\n",
              " 'trouble',\n",
              " 'fenofibrate',\n",
              " 'strength',\n",
              " 'mg',\n",
              " 'bowel',\n",
              " 'sensitivity',\n",
              " 'mouth',\n",
              " 'well',\n",
              " 'living',\n",
              " '10',\n",
              " 'did',\n",
              " 'function',\n",
              " 'fog',\n",
              " 'nasal',\n",
              " 'breath',\n",
              " 'uterine',\n",
              " 'should',\n",
              " 'move',\n",
              " 'mobility',\n",
              " 'sinus',\n",
              " 'twitching',\n",
              " 'level',\n",
              " 'rheumatoid',\n",
              " 'coq10',\n",
              " 'today',\n",
              " 'tight',\n",
              " 'horses',\n",
              " 'thighs',\n",
              " 'side',\n",
              " 'news',\n",
              " 'chicken',\n",
              " 'urinary',\n",
              " 'tylenol',\n",
              " 'much',\n",
              " 'clearly',\n",
              " '5',\n",
              " 'aleve',\n",
              " 'only',\n",
              " 'were',\n",
              " 'thoughts',\n",
              " 'elbows',\n",
              " 'want',\n",
              " 'ulcer',\n",
              " 'accident',\n",
              " 'sick',\n",
              " 'diclofenac',\n",
              " 'find',\n",
              " 'plantar',\n",
              " 'hardly',\n",
              " 'congestion',\n",
              " 'lethargy',\n",
              " '+',\n",
              " 'loose',\n",
              " 'charley',\n",
              " 'cerebrovascular',\n",
              " 'been',\n",
              " 'fatigued',\n",
              " 'take',\n",
              " 'those',\n",
              " 'things',\n",
              " 'fever',\n",
              " 'drive',\n",
              " 'panic',\n",
              " 'ever',\n",
              " 'pulse',\n",
              " 'paracetamol',\n",
              " 'extremity',\n",
              " 'good',\n",
              " 'would',\n",
              " 'sharp',\n",
              " 'ringing',\n",
              " 'numb',\n",
              " 'pizza',\n",
              " 'light',\n",
              " 'slurred',\n",
              " 'barely',\n",
              " 'please',\n",
              " 'lost',\n",
              " 'stamina',\n",
              " 'facial',\n",
              " 'patients',\n",
              " 'finding',\n",
              " 'tricor',\n",
              " 'sugar',\n",
              " 'even',\n",
              " 'eating',\n",
              " 'shortness',\n",
              " 'difficult',\n",
              " 'best',\n",
              " 'tract',\n",
              " 'blog',\n",
              " 'deep',\n",
              " 'malignant',\n",
              " 'happy',\n",
              " 'awareness',\n",
              " 'moody',\n",
              " 'exercise',\n",
              " 'article',\n",
              " 'than',\n",
              " 'liptor',\n",
              " '4',\n",
              " 'week',\n",
              " 'share',\n",
              " 'mental',\n",
              " 'issues',\n",
              " 'colic',\n",
              " 'attacks',\n",
              " 'zetia',\n",
              " 'area',\n",
              " 'dr',\n",
              " 'hunger',\n",
              " 'hypertension',\n",
              " '\\r \\n \\r \\n ',\n",
              " 'present',\n",
              " 'eczema',\n",
              " 'rhabdomyolysis',\n",
              " 'system',\n",
              " 'around',\n",
              " 'too',\n",
              " 'oedema',\n",
              " 'every',\n",
              " 'osteoarthritis',\n",
              " 'sex',\n",
              " 'neurontin',\n",
              " 'sweats',\n",
              " 'irregular',\n",
              " 'cancer',\n",
              " 'easy',\n",
              " 'see',\n",
              " 'dizzy',\n",
              " 'extremely',\n",
              " 'fasciitis',\n",
              " 'sensations',\n",
              " 'cookbook',\n",
              " 'looks',\n",
              " 'creatinine',\n",
              " 'inflammatory',\n",
              " 'still',\n",
              " 'top',\n",
              " 'any',\n",
              " 'scalp',\n",
              " 'itchy',\n",
              " 'norvasc',\n",
              " 'hard',\n",
              " 'omega-3-acid',\n",
              " 'ethyl',\n",
              " 'esters-90',\n",
              " 'prednisone',\n",
              " 'natural',\n",
              " 'major',\n",
              " 'aptyalism',\n",
              " 'strain',\n",
              " 'years',\n",
              " 'inflammation',\n",
              " 'achilles',\n",
              " 'asthma',\n",
              " 'between',\n",
              " 'pruritus',\n",
              " 'started',\n",
              " 'als',\n",
              " 'got',\n",
              " 'ability',\n",
              " 'health',\n",
              " 'forgetful',\n",
              " 'diagnosis',\n",
              " 'palsy',\n",
              " 'hypersomnia',\n",
              " '2014',\n",
              " 'am',\n",
              " 'nervous',\n",
              " 'flushing',\n",
              " 'atorvastatin',\n",
              " 'inability',\n",
              " 'ear',\n",
              " 'soup',\n",
              " 'also',\n",
              " 'gf',\n",
              " 'spasmodic',\n",
              " 'increase',\n",
              " 'diagnosed',\n",
              " ':',\n",
              " 'delicious',\n",
              " 'tension',\n",
              " 'looking',\n",
              " 'erythematosus',\n",
              " 'safe',\n",
              " 'foggy',\n",
              " 'region',\n",
              " 'friends',\n",
              " 'autographed',\n",
              " 'where',\n",
              " 'menorrhagia',\n",
              " 'tachycardia',\n",
              " 'story',\n",
              " 'show',\n",
              " 'lopid',\n",
              " 'rapid',\n",
              " 'bell',\n",
              " 'bread',\n",
              " 'little',\n",
              " 'hurts',\n",
              " 'zoloft',\n",
              " 'first',\n",
              " 'lipex',\n",
              " 'super',\n",
              " 'foods',\n",
              " 'bone',\n",
              " 'allergic',\n",
              " 'respiratory',\n",
              " 'stool',\n",
              " 'horrible',\n",
              " 'co',\n",
              " 'climb',\n",
              " 'try',\n",
              " 'dysfunction',\n",
              " 'frequent',\n",
              " 'sense',\n",
              " 'month',\n",
              " '20',\n",
              " 'stand',\n",
              " 'healthy',\n",
              " 'these',\n",
              " 'many',\n",
              " 'bursitis',\n",
              " 'lot',\n",
              " 'delusional',\n",
              " 'morning',\n",
              " 'forearm',\n",
              " 'abdomen',\n",
              " 'nightmares',\n",
              " 'lift',\n",
              " 'most',\n",
              " 'their',\n",
              " 'venous',\n",
              " 'limping',\n",
              " 'able',\n",
              " 'retention',\n",
              " 'gait',\n",
              " 'unwell',\n",
              " 'periods',\n",
              " 'ears',\n",
              " 'cpk',\n",
              " 'hungry',\n",
              " 'long',\n",
              " 'stroke',\n",
              " 'haematuria',\n",
              " 'feels',\n",
              " 'anything',\n",
              " 'codeine',\n",
              " 'u',\n",
              " 'sight',\n",
              " 'tolerance',\n",
              " 'period',\n",
              " 'chocolate',\n",
              " '&',\n",
              " 'fast',\n",
              " 'reading',\n",
              " 'giveaway',\n",
              " 'ms',\n",
              " 'recipes',\n",
              " 'spotting',\n",
              " 'cortisone',\n",
              " 'others',\n",
              " 'inflamation',\n",
              " 'generally',\n",
              " 'study',\n",
              " 'bruising',\n",
              " 'thank',\n",
              " 'made',\n",
              " 'info',\n",
              " 'after',\n",
              " 'learn',\n",
              " 'sexual',\n",
              " 'sudden',\n",
              " 'diovan',\n",
              " 'weird',\n",
              " 'random',\n",
              " 'into',\n",
              " 'falling',\n",
              " 'support',\n",
              " 'allergy',\n",
              " 'red',\n",
              " 'his',\n",
              " 'went',\n",
              " 'really',\n",
              " 'bp',\n",
              " 'disc',\n",
              " 'part',\n",
              " 'degenerative',\n",
              " 'rupture',\n",
              " 'menopausal',\n",
              " 'wheat',\n",
              " 'levels',\n",
              " 'book',\n",
              " 'erythema',\n",
              " 'linked',\n",
              " 'gut',\n",
              " 'due',\n",
              " 'self',\n",
              " 'stabbing',\n",
              " 'coronary',\n",
              " 'whole',\n",
              " 'suicidal',\n",
              " 'everything',\n",
              " 'kids',\n",
              " 'way',\n",
              " 'gastric',\n",
              " 'year',\n",
              " 'omega',\n",
              " 'tablet',\n",
              " 'heaviness',\n",
              " 'death',\n",
              " 'sweat',\n",
              " 'change',\n",
              " 'bowl',\n",
              " 'rigidity',\n",
              " 'ty',\n",
              " 'coeliac',\n",
              " 'rectal',\n",
              " 'page',\n",
              " 'q10',\n",
              " 'paralysis',\n",
              " 'coming',\n",
              " 'diagnose',\n",
              " 'without',\n",
              " 'live',\n",
              " 've',\n",
              " 'thinking',\n",
              " 'own',\n",
              " 'edema',\n",
              " 'became',\n",
              " 'drink',\n",
              " 'changes',\n",
              " 'sever',\n",
              " 'bloated',\n",
              " 'worse',\n",
              " 'remember',\n",
              " 'quinoa',\n",
              " 'empty',\n",
              " 'non',\n",
              " 'breast',\n",
              " 'ask',\n",
              " 'less',\n",
              " 'testosterone',\n",
              " 'list',\n",
              " 'carpal',\n",
              " 'better',\n",
              " 'syncope',\n",
              " 'permanent',\n",
              " 'other',\n",
              " 'anger',\n",
              " 'important',\n",
              " 'ached',\n",
              " 'muscular',\n",
              " 'america',\n",
              " 'sciatica',\n",
              " 'twitches',\n",
              " 'tunnel',\n",
              " 'last',\n",
              " 'bladder',\n",
              " 'intervertebral',\n",
              " 'yes',\n",
              " 'aphasia',\n",
              " 'before',\n",
              " 'diabetic',\n",
              " 'digestive',\n",
              " 'chill',\n",
              " 'child',\n",
              " 'her',\n",
              " 'slight',\n",
              " 'eructation',\n",
              " 'overall',\n",
              " 'follow',\n",
              " 'interesting',\n",
              " 'paranoia',\n",
              " 'sides',\n",
              " 'someone',\n",
              " 'through',\n",
              " 'then',\n",
              " 'tender',\n",
              " 'hey',\n",
              " '-pelvis',\n",
              " 'glutened',\n",
              " 'menstruation',\n",
              " '100',\n",
              " 'cause',\n",
              " 'stools',\n",
              " 'coated',\n",
              " 'valentines',\n",
              " 'crying',\n",
              " 'agitated',\n",
              " 'rise',\n",
              " 'interview',\n",
              " 'b',\n",
              " 'colitis',\n",
              " 'headed',\n",
              " 'convention',\n",
              " 'endometriosis',\n",
              " 'persistent',\n",
              " 'film',\n",
              " 'blurry',\n",
              " 'standing',\n",
              " 'risk',\n",
              " 'muscels',\n",
              " 'haemorrhage',\n",
              " 'uterus',\n",
              " 'disorientated',\n",
              " 'fatique',\n",
              " 'pancreatitis',\n",
              " 'few',\n",
              " 'breakfast',\n",
              " 'dehydration',\n",
              " 'allergies',\n",
              " 'choking',\n",
              " 'sunday',\n",
              " 'cookies',\n",
              " 'special',\n",
              " 'link',\n",
              " 'options',\n",
              " 'intestinal',\n",
              " 'limp',\n",
              " 'cycle',\n",
              " 'hear',\n",
              " 'autoimmune',\n",
              " 'constantly',\n",
              " 'lose',\n",
              " 'which',\n",
              " 'friendly',\n",
              " 'talk',\n",
              " 'thoracic',\n",
              " 'never',\n",
              " 'while',\n",
              " 'bronchitis',\n",
              " 'drowsiness',\n",
              " 'next',\n",
              " 'misoprostol',\n",
              " 'unhappy',\n",
              " 'sun',\n",
              " 'morphine',\n",
              " 'clumsiness',\n",
              " 'start',\n",
              " '40',\n",
              " 'reaction',\n",
              " 'eyesight',\n",
              " 'words',\n",
              " 'come',\n",
              " 'agony',\n",
              " 'irritability',\n",
              " 'rashes',\n",
              " 'arthritic',\n",
              " 'steatosis',\n",
              " 'sure',\n",
              " 'breaking',\n",
              " 'personality',\n",
              " 'world',\n",
              " 'because',\n",
              " 'community',\n",
              " 'away',\n",
              " 'fear',\n",
              " 'cake',\n",
              " 'triglycerides',\n",
              " 'circulation',\n",
              " 'episode',\n",
              " 'ok',\n",
              " 'cataflam',\n",
              " 'hurting',\n",
              " 'interest',\n",
              " '2013',\n",
              " 'lipidil',\n",
              " 'lead',\n",
              " 'chair',\n",
              " 'transient',\n",
              " 'haematochezia',\n",
              " 'gfree',\n",
              " 'decrease',\n",
              " 'rice',\n",
              " 'yellow',\n",
              " 'restaurant',\n",
              " 'musculoskeletal',\n",
              " 'enough',\n",
              " 'ribs',\n",
              " 'neuralgia',\n",
              " 'hepatic',\n",
              " 'dysphonia',\n",
              " 'keep',\n",
              " 'look',\n",
              " 'central',\n",
              " 'pinterest',\n",
              " 'cognition',\n",
              " 'restaurants',\n",
              " 'bakery',\n",
              " 'tongue',\n",
              " 'muscel',\n",
              " 'spine',\n",
              " 'another',\n",
              " 'something',\n",
              " 'alzheimer',\n",
              " 'anyone',\n",
              " 'wrists',\n",
              " 'run',\n",
              " 'rib',\n",
              " 'easily',\n",
              " 'lumbar',\n",
              " 'tests',\n",
              " 'ani',\n",
              " 'cell',\n",
              " 'infections',\n",
              " 'creatine',\n",
              " 'desire',\n",
              " 'join',\n",
              " 'ideas',\n",
              " 'dinner',\n",
              " 'common',\n",
              " 'tenderness',\n",
              " 'potassium',\n",
              " 'ill',\n",
              " 'latest',\n",
              " 'testing',\n",
              " 'exhausted',\n",
              " 'condition',\n",
              " 'mt',\n",
              " 'dizzyness',\n",
              " 'reasons',\n",
              " 'pledge',\n",
              " 'healthier',\n",
              " 'them',\n",
              " 'pravastatin',\n",
              " 'rate',\n",
              " 'limitation',\n",
              " 'might',\n",
              " 'bizarre',\n",
              " 'makes',\n",
              " 'slow',\n",
              " 'white',\n",
              " 'mass',\n",
              " 'vague',\n",
              " 'true',\n",
              " 'same',\n",
              " 'tingly',\n",
              " 'aspirin',\n",
              " 'archive',\n",
              " 'lifestyle',\n",
              " 'fun',\n",
              " 'affected',\n",
              " 'provide',\n",
              " 'days',\n",
              " 'almost',\n",
              " '25',\n",
              " 'sentence',\n",
              " 'lexapro',\n",
              " 'hyperactive',\n",
              " 'rhinitis',\n",
              " 'irritation',\n",
              " 'excited',\n",
              " 'achy',\n",
              " 'mobic',\n",
              " 'forgetfulness',\n",
              " 'falls',\n",
              " 'serious',\n",
              " 'sleepy',\n",
              " 'medical',\n",
              " 'menu',\n",
              " 'matters',\n",
              " 'awesome',\n",
              " 'doing',\n",
              " 'unbearable',\n",
              " 'beer',\n",
              " 'hoarse',\n",
              " 'breasts',\n",
              " 'h',\n",
              " 'contusion',\n",
              " 'market',\n",
              " 'experience',\n",
              " 'incoordination',\n",
              " 'during',\n",
              " 'slightly',\n",
              " 'weekend',\n",
              " 'neoplasm',\n",
              " 'place',\n",
              " 'moving',\n",
              " 'black',\n",
              " 'starting',\n",
              " 'times',\n",
              " 'jaundice',\n",
              " 'understand',\n",
              " 'tenalgia',\n",
              " 'expo',\n",
              " ...]"
            ]
          },
          "metadata": {
            "tags": []
          },
          "execution_count": 18
        }
      ]
    },
    {
      "cell_type": "code",
      "metadata": {
        "id": "yPWr03mls3VT",
        "outputId": "d7620986-4fa1-42d6-cd57-9ba46b13257b",
        "colab": {
          "base_uri": "https://localhost:8080/",
          "height": 17
        }
      },
      "source": [
        "model_path = path/'models'\n",
        "model_path.mkdir(exist_ok=True)\n",
        "url = 'http://files.fast.ai/models/wt103_v1/'\n",
        "download_url(f'{url}lstm_wt103.pth', model_path/'lstm_wt103.pth')\n",
        "download_url(f'{url}itos_wt103.pkl', model_path/'itos_wt103.pkl')"
      ],
      "execution_count": null,
      "outputs": [
        {
          "output_type": "display_data",
          "data": {
            "text/html": [
              ""
            ],
            "text/plain": [
              "<IPython.core.display.HTML object>"
            ]
          },
          "metadata": {
            "tags": []
          }
        },
        {
          "output_type": "display_data",
          "data": {
            "text/html": [
              ""
            ],
            "text/plain": [
              "<IPython.core.display.HTML object>"
            ]
          },
          "metadata": {
            "tags": []
          }
        }
      ]
    },
    {
      "cell_type": "code",
      "metadata": {
        "id": "JRzvWg8RtGGr",
        "outputId": "452e8c22-25cd-4071-b6b0-d2662062fdc3",
        "colab": {
          "base_uri": "https://localhost:8080/",
          "height": 34
        }
      },
      "source": [
        "learn = language_model_learner(data_lm, AWD_LSTM, drop_mult=0.5)"
      ],
      "execution_count": null,
      "outputs": [
        {
          "output_type": "stream",
          "text": [
            "Downloading https://s3.amazonaws.com/fast-ai-modelzoo/wt103-fwd.tgz\n"
          ],
          "name": "stdout"
        },
        {
          "output_type": "display_data",
          "data": {
            "text/html": [
              ""
            ],
            "text/plain": [
              "<IPython.core.display.HTML object>"
            ]
          },
          "metadata": {
            "tags": []
          }
        }
      ]
    },
    {
      "cell_type": "code",
      "metadata": {
        "id": "xKK7GeBev7Xn",
        "outputId": "737b357a-23e4-4b12-b212-90909828e0b6",
        "colab": {
          "base_uri": "https://localhost:8080/",
          "height": 80
        }
      },
      "source": [
        "learn.fit_one_cycle(1, 1e-2)"
      ],
      "execution_count": null,
      "outputs": [
        {
          "output_type": "display_data",
          "data": {
            "text/html": [
              "<table border=\"1\" class=\"dataframe\">\n",
              "  <thead>\n",
              "    <tr style=\"text-align: left;\">\n",
              "      <th>epoch</th>\n",
              "      <th>train_loss</th>\n",
              "      <th>valid_loss</th>\n",
              "      <th>accuracy</th>\n",
              "      <th>time</th>\n",
              "    </tr>\n",
              "  </thead>\n",
              "  <tbody>\n",
              "    <tr>\n",
              "      <td>0</td>\n",
              "      <td>3.254325</td>\n",
              "      <td>2.766317</td>\n",
              "      <td>0.547308</td>\n",
              "      <td>19:11</td>\n",
              "    </tr>\n",
              "  </tbody>\n",
              "</table>"
            ],
            "text/plain": [
              "<IPython.core.display.HTML object>"
            ]
          },
          "metadata": {
            "tags": []
          }
        }
      ]
    },
    {
      "cell_type": "code",
      "metadata": {
        "id": "iB7rHGQCwd12"
      },
      "source": [
        "# learn.fit_one_cycle(1, 1e-2)"
      ],
      "execution_count": null,
      "outputs": []
    },
    {
      "cell_type": "code",
      "metadata": {
        "id": "_BnSuAeCwkBe"
      },
      "source": [
        "# learn.fit_one_cycle(1, 1e-3)"
      ],
      "execution_count": null,
      "outputs": []
    },
    {
      "cell_type": "code",
      "metadata": {
        "id": "MuTm-RFjwrEX",
        "outputId": "db41a0a5-56e4-4745-d678-73f39a6082dc",
        "colab": {
          "base_uri": "https://localhost:8080/",
          "height": 80
        }
      },
      "source": [
        "learn.fit_one_cycle(1, 1e-3)"
      ],
      "execution_count": null,
      "outputs": [
        {
          "output_type": "display_data",
          "data": {
            "text/html": [
              "<table border=\"1\" class=\"dataframe\">\n",
              "  <thead>\n",
              "    <tr style=\"text-align: left;\">\n",
              "      <th>epoch</th>\n",
              "      <th>train_loss</th>\n",
              "      <th>valid_loss</th>\n",
              "      <th>accuracy</th>\n",
              "      <th>time</th>\n",
              "    </tr>\n",
              "  </thead>\n",
              "  <tbody>\n",
              "    <tr>\n",
              "      <td>0</td>\n",
              "      <td>2.825487</td>\n",
              "      <td>2.708482</td>\n",
              "      <td>0.553125</td>\n",
              "      <td>19:14</td>\n",
              "    </tr>\n",
              "  </tbody>\n",
              "</table>"
            ],
            "text/plain": [
              "<IPython.core.display.HTML object>"
            ]
          },
          "metadata": {
            "tags": []
          }
        }
      ]
    },
    {
      "cell_type": "code",
      "metadata": {
        "id": "1Er2ExO8wr7Y"
      },
      "source": [
        "learn.save_encoder('bigtweet_ask_ask_fold2_first')"
      ],
      "execution_count": null,
      "outputs": []
    },
    {
      "cell_type": "code",
      "metadata": {
        "id": "z52cZs2qwvad",
        "outputId": "1d49a0b2-81a6-44ad-d946-4786f241626d",
        "colab": {
          "base_uri": "https://localhost:8080/",
          "height": 80
        }
      },
      "source": [
        "learn = text_classifier_learner(data_clas,AWD_LSTM, drop_mult=0.5)\n",
        "learn.load_encoder('bigtweet_ask_ask_fold2_first')\n",
        "learn.fit_one_cycle(1, 1e-2)"
      ],
      "execution_count": null,
      "outputs": [
        {
          "output_type": "display_data",
          "data": {
            "text/html": [
              "<table border=\"1\" class=\"dataframe\">\n",
              "  <thead>\n",
              "    <tr style=\"text-align: left;\">\n",
              "      <th>epoch</th>\n",
              "      <th>train_loss</th>\n",
              "      <th>valid_loss</th>\n",
              "      <th>accuracy</th>\n",
              "      <th>time</th>\n",
              "    </tr>\n",
              "  </thead>\n",
              "  <tbody>\n",
              "    <tr>\n",
              "      <td>0</td>\n",
              "      <td>4.041721</td>\n",
              "      <td>3.527359</td>\n",
              "      <td>0.352243</td>\n",
              "      <td>01:09</td>\n",
              "    </tr>\n",
              "  </tbody>\n",
              "</table>"
            ],
            "text/plain": [
              "<IPython.core.display.HTML object>"
            ]
          },
          "metadata": {
            "tags": []
          }
        }
      ]
    },
    {
      "cell_type": "code",
      "metadata": {
        "id": "ImwQP1PJwzxd",
        "outputId": "60c79d1c-077a-4ff9-c298-05d151e2877a",
        "colab": {
          "base_uri": "https://localhost:8080/",
          "height": 80
        }
      },
      "source": [
        "learn.freeze_to(-2)\n",
        "learn.fit_one_cycle(1, slice(5e-3/2., 5e-3))"
      ],
      "execution_count": null,
      "outputs": [
        {
          "output_type": "display_data",
          "data": {
            "text/html": [
              "<table border=\"1\" class=\"dataframe\">\n",
              "  <thead>\n",
              "    <tr style=\"text-align: left;\">\n",
              "      <th>epoch</th>\n",
              "      <th>train_loss</th>\n",
              "      <th>valid_loss</th>\n",
              "      <th>accuracy</th>\n",
              "      <th>time</th>\n",
              "    </tr>\n",
              "  </thead>\n",
              "  <tbody>\n",
              "    <tr>\n",
              "      <td>0</td>\n",
              "      <td>3.099262</td>\n",
              "      <td>2.998225</td>\n",
              "      <td>0.488127</td>\n",
              "      <td>01:22</td>\n",
              "    </tr>\n",
              "  </tbody>\n",
              "</table>"
            ],
            "text/plain": [
              "<IPython.core.display.HTML object>"
            ]
          },
          "metadata": {
            "tags": []
          }
        }
      ]
    },
    {
      "cell_type": "code",
      "metadata": {
        "id": "Owff_BJXw53u",
        "outputId": "ca4cb608-db71-4f0b-8b4f-0be5ab7859f5",
        "colab": {
          "base_uri": "https://localhost:8080/",
          "height": 80
        }
      },
      "source": [
        "learn.unfreeze()\n",
        "learn.fit_one_cycle(1, slice(2e-3/100, 2e-3))"
      ],
      "execution_count": null,
      "outputs": [
        {
          "output_type": "display_data",
          "data": {
            "text/html": [
              "<table border=\"1\" class=\"dataframe\">\n",
              "  <thead>\n",
              "    <tr style=\"text-align: left;\">\n",
              "      <th>epoch</th>\n",
              "      <th>train_loss</th>\n",
              "      <th>valid_loss</th>\n",
              "      <th>accuracy</th>\n",
              "      <th>time</th>\n",
              "    </tr>\n",
              "  </thead>\n",
              "  <tbody>\n",
              "    <tr>\n",
              "      <td>0</td>\n",
              "      <td>2.395055</td>\n",
              "      <td>2.638406</td>\n",
              "      <td>0.573879</td>\n",
              "      <td>03:09</td>\n",
              "    </tr>\n",
              "  </tbody>\n",
              "</table>"
            ],
            "text/plain": [
              "<IPython.core.display.HTML object>"
            ]
          },
          "metadata": {
            "tags": []
          }
        }
      ]
    },
    {
      "cell_type": "code",
      "metadata": {
        "id": "lqAyu56V8Waq",
        "outputId": "9c518343-3076-453b-b2a7-4b3e711592d6",
        "colab": {
          "base_uri": "https://localhost:8080/",
          "height": 111
        }
      },
      "source": [
        "learn.fit_one_cycle(2, slice(2e-3/100, 2e-3))"
      ],
      "execution_count": null,
      "outputs": [
        {
          "output_type": "display_data",
          "data": {
            "text/html": [
              "<table border=\"1\" class=\"dataframe\">\n",
              "  <thead>\n",
              "    <tr style=\"text-align: left;\">\n",
              "      <th>epoch</th>\n",
              "      <th>train_loss</th>\n",
              "      <th>valid_loss</th>\n",
              "      <th>accuracy</th>\n",
              "      <th>time</th>\n",
              "    </tr>\n",
              "  </thead>\n",
              "  <tbody>\n",
              "    <tr>\n",
              "      <td>0</td>\n",
              "      <td>2.103515</td>\n",
              "      <td>2.334264</td>\n",
              "      <td>0.606860</td>\n",
              "      <td>03:07</td>\n",
              "    </tr>\n",
              "    <tr>\n",
              "      <td>1</td>\n",
              "      <td>1.753989</td>\n",
              "      <td>2.186458</td>\n",
              "      <td>0.647757</td>\n",
              "      <td>03:01</td>\n",
              "    </tr>\n",
              "  </tbody>\n",
              "</table>"
            ],
            "text/plain": [
              "<IPython.core.display.HTML object>"
            ]
          },
          "metadata": {
            "tags": []
          }
        }
      ]
    },
    {
      "cell_type": "code",
      "metadata": {
        "id": "a7I1xMRp8bUd",
        "outputId": "477e889f-11a5-4403-8332-8590e85678f0",
        "colab": {
          "base_uri": "https://localhost:8080/",
          "height": 111
        }
      },
      "source": [
        "learn.fit_one_cycle(2, slice(2e-3/100, 2e-3))"
      ],
      "execution_count": null,
      "outputs": [
        {
          "output_type": "display_data",
          "data": {
            "text/html": [
              "<table border=\"1\" class=\"dataframe\">\n",
              "  <thead>\n",
              "    <tr style=\"text-align: left;\">\n",
              "      <th>epoch</th>\n",
              "      <th>train_loss</th>\n",
              "      <th>valid_loss</th>\n",
              "      <th>accuracy</th>\n",
              "      <th>time</th>\n",
              "    </tr>\n",
              "  </thead>\n",
              "  <tbody>\n",
              "    <tr>\n",
              "      <td>0</td>\n",
              "      <td>1.582257</td>\n",
              "      <td>1.974054</td>\n",
              "      <td>0.674142</td>\n",
              "      <td>03:01</td>\n",
              "    </tr>\n",
              "    <tr>\n",
              "      <td>1</td>\n",
              "      <td>1.400741</td>\n",
              "      <td>1.884095</td>\n",
              "      <td>0.700528</td>\n",
              "      <td>03:10</td>\n",
              "    </tr>\n",
              "  </tbody>\n",
              "</table>"
            ],
            "text/plain": [
              "<IPython.core.display.HTML object>"
            ]
          },
          "metadata": {
            "tags": []
          }
        }
      ]
    },
    {
      "cell_type": "code",
      "metadata": {
        "id": "UAnti-XmGVfO",
        "outputId": "87ff1084-997d-4674-ca52-9781bbf83693",
        "colab": {
          "base_uri": "https://localhost:8080/",
          "height": 111
        }
      },
      "source": [
        "learn.fit_one_cycle(2, slice(2e-3/100, 2e-3))"
      ],
      "execution_count": null,
      "outputs": [
        {
          "output_type": "display_data",
          "data": {
            "text/html": [
              "<table border=\"1\" class=\"dataframe\">\n",
              "  <thead>\n",
              "    <tr style=\"text-align: left;\">\n",
              "      <th>epoch</th>\n",
              "      <th>train_loss</th>\n",
              "      <th>valid_loss</th>\n",
              "      <th>accuracy</th>\n",
              "      <th>time</th>\n",
              "    </tr>\n",
              "  </thead>\n",
              "  <tbody>\n",
              "    <tr>\n",
              "      <td>0</td>\n",
              "      <td>1.287917</td>\n",
              "      <td>1.780498</td>\n",
              "      <td>0.697889</td>\n",
              "      <td>03:12</td>\n",
              "    </tr>\n",
              "    <tr>\n",
              "      <td>1</td>\n",
              "      <td>1.166370</td>\n",
              "      <td>1.699860</td>\n",
              "      <td>0.720317</td>\n",
              "      <td>03:06</td>\n",
              "    </tr>\n",
              "  </tbody>\n",
              "</table>"
            ],
            "text/plain": [
              "<IPython.core.display.HTML object>"
            ]
          },
          "metadata": {
            "tags": []
          }
        }
      ]
    },
    {
      "cell_type": "code",
      "metadata": {
        "id": "bIft7W25GwSu",
        "outputId": "07d6d2fd-871a-4601-b1a1-b30c3d8ad4f5",
        "colab": {
          "base_uri": "https://localhost:8080/",
          "height": 111
        }
      },
      "source": [
        "learn.fit_one_cycle(2, slice(2e-3/100, 2e-3))"
      ],
      "execution_count": null,
      "outputs": [
        {
          "output_type": "display_data",
          "data": {
            "text/html": [
              "<table border=\"1\" class=\"dataframe\">\n",
              "  <thead>\n",
              "    <tr style=\"text-align: left;\">\n",
              "      <th>epoch</th>\n",
              "      <th>train_loss</th>\n",
              "      <th>valid_loss</th>\n",
              "      <th>accuracy</th>\n",
              "      <th>time</th>\n",
              "    </tr>\n",
              "  </thead>\n",
              "  <tbody>\n",
              "    <tr>\n",
              "      <td>0</td>\n",
              "      <td>1.075864</td>\n",
              "      <td>1.614104</td>\n",
              "      <td>0.736148</td>\n",
              "      <td>03:00</td>\n",
              "    </tr>\n",
              "    <tr>\n",
              "      <td>1</td>\n",
              "      <td>0.929274</td>\n",
              "      <td>1.544817</td>\n",
              "      <td>0.740106</td>\n",
              "      <td>03:15</td>\n",
              "    </tr>\n",
              "  </tbody>\n",
              "</table>"
            ],
            "text/plain": [
              "<IPython.core.display.HTML object>"
            ]
          },
          "metadata": {
            "tags": []
          }
        }
      ]
    },
    {
      "cell_type": "code",
      "metadata": {
        "id": "EEHszVRvGyFt",
        "outputId": "d47d83e3-69b3-4fe9-d3e9-7892659bd0ec",
        "colab": {
          "base_uri": "https://localhost:8080/",
          "height": 111
        }
      },
      "source": [
        "learn.fit_one_cycle(2, slice(2e-3/100, 2e-3))"
      ],
      "execution_count": null,
      "outputs": [
        {
          "output_type": "display_data",
          "data": {
            "text/html": [
              "<table border=\"1\" class=\"dataframe\">\n",
              "  <thead>\n",
              "    <tr style=\"text-align: left;\">\n",
              "      <th>epoch</th>\n",
              "      <th>train_loss</th>\n",
              "      <th>valid_loss</th>\n",
              "      <th>accuracy</th>\n",
              "      <th>time</th>\n",
              "    </tr>\n",
              "  </thead>\n",
              "  <tbody>\n",
              "    <tr>\n",
              "      <td>0</td>\n",
              "      <td>0.905682</td>\n",
              "      <td>1.501490</td>\n",
              "      <td>0.753298</td>\n",
              "      <td>03:24</td>\n",
              "    </tr>\n",
              "    <tr>\n",
              "      <td>1</td>\n",
              "      <td>0.741007</td>\n",
              "      <td>1.500712</td>\n",
              "      <td>0.758575</td>\n",
              "      <td>03:18</td>\n",
              "    </tr>\n",
              "  </tbody>\n",
              "</table>"
            ],
            "text/plain": [
              "<IPython.core.display.HTML object>"
            ]
          },
          "metadata": {
            "tags": []
          }
        }
      ]
    },
    {
      "cell_type": "code",
      "metadata": {
        "id": "XsHfrhCHG3dN",
        "outputId": "47696841-8584-4df5-8aca-3c63b8d0fff8",
        "colab": {
          "base_uri": "https://localhost:8080/",
          "height": 173
        }
      },
      "source": [
        "learn.fit_one_cycle(4, slice(2e-3/100, 2e-3))"
      ],
      "execution_count": null,
      "outputs": [
        {
          "output_type": "display_data",
          "data": {
            "text/html": [
              "<table border=\"1\" class=\"dataframe\">\n",
              "  <thead>\n",
              "    <tr style=\"text-align: left;\">\n",
              "      <th>epoch</th>\n",
              "      <th>train_loss</th>\n",
              "      <th>valid_loss</th>\n",
              "      <th>accuracy</th>\n",
              "      <th>time</th>\n",
              "    </tr>\n",
              "  </thead>\n",
              "  <tbody>\n",
              "    <tr>\n",
              "      <td>0</td>\n",
              "      <td>0.696199</td>\n",
              "      <td>1.416731</td>\n",
              "      <td>0.765172</td>\n",
              "      <td>03:05</td>\n",
              "    </tr>\n",
              "    <tr>\n",
              "      <td>1</td>\n",
              "      <td>0.694595</td>\n",
              "      <td>1.373504</td>\n",
              "      <td>0.765172</td>\n",
              "      <td>03:06</td>\n",
              "    </tr>\n",
              "    <tr>\n",
              "      <td>2</td>\n",
              "      <td>0.624625</td>\n",
              "      <td>1.299672</td>\n",
              "      <td>0.774406</td>\n",
              "      <td>03:12</td>\n",
              "    </tr>\n",
              "    <tr>\n",
              "      <td>3</td>\n",
              "      <td>0.503104</td>\n",
              "      <td>1.294074</td>\n",
              "      <td>0.782322</td>\n",
              "      <td>03:21</td>\n",
              "    </tr>\n",
              "  </tbody>\n",
              "</table>"
            ],
            "text/plain": [
              "<IPython.core.display.HTML object>"
            ]
          },
          "metadata": {
            "tags": []
          }
        }
      ]
    },
    {
      "cell_type": "code",
      "metadata": {
        "id": "0Zsd99isb9EQ",
        "outputId": "55d3349a-2c72-4bda-9d1a-ba444136c692",
        "colab": {
          "base_uri": "https://localhost:8080/",
          "height": 173
        }
      },
      "source": [
        "learn.fit_one_cycle(4, slice(2e-3/100, 2e-3))"
      ],
      "execution_count": null,
      "outputs": [
        {
          "output_type": "display_data",
          "data": {
            "text/html": [
              "<table border=\"1\" class=\"dataframe\">\n",
              "  <thead>\n",
              "    <tr style=\"text-align: left;\">\n",
              "      <th>epoch</th>\n",
              "      <th>train_loss</th>\n",
              "      <th>valid_loss</th>\n",
              "      <th>accuracy</th>\n",
              "      <th>time</th>\n",
              "    </tr>\n",
              "  </thead>\n",
              "  <tbody>\n",
              "    <tr>\n",
              "      <td>0</td>\n",
              "      <td>0.515337</td>\n",
              "      <td>1.299722</td>\n",
              "      <td>0.781003</td>\n",
              "      <td>03:14</td>\n",
              "    </tr>\n",
              "    <tr>\n",
              "      <td>1</td>\n",
              "      <td>0.531494</td>\n",
              "      <td>1.250641</td>\n",
              "      <td>0.792876</td>\n",
              "      <td>03:02</td>\n",
              "    </tr>\n",
              "    <tr>\n",
              "      <td>2</td>\n",
              "      <td>0.465688</td>\n",
              "      <td>1.262557</td>\n",
              "      <td>0.790237</td>\n",
              "      <td>03:11</td>\n",
              "    </tr>\n",
              "    <tr>\n",
              "      <td>3</td>\n",
              "      <td>0.376458</td>\n",
              "      <td>1.266784</td>\n",
              "      <td>0.798153</td>\n",
              "      <td>03:23</td>\n",
              "    </tr>\n",
              "  </tbody>\n",
              "</table>"
            ],
            "text/plain": [
              "<IPython.core.display.HTML object>"
            ]
          },
          "metadata": {
            "tags": []
          }
        }
      ]
    },
    {
      "cell_type": "code",
      "metadata": {
        "id": "atNWNKDFPbuI",
        "outputId": "8ba3ad57-8bde-4256-8e76-b19cf004e2cb",
        "colab": {
          "base_uri": "https://localhost:8080/",
          "height": 173
        }
      },
      "source": [
        "learn.fit_one_cycle(4, slice(2e-3/100, 2e-3))"
      ],
      "execution_count": null,
      "outputs": [
        {
          "output_type": "display_data",
          "data": {
            "text/html": [
              "<table border=\"1\" class=\"dataframe\">\n",
              "  <thead>\n",
              "    <tr style=\"text-align: left;\">\n",
              "      <th>epoch</th>\n",
              "      <th>train_loss</th>\n",
              "      <th>valid_loss</th>\n",
              "      <th>accuracy</th>\n",
              "      <th>time</th>\n",
              "    </tr>\n",
              "  </thead>\n",
              "  <tbody>\n",
              "    <tr>\n",
              "      <td>0</td>\n",
              "      <td>0.412636</td>\n",
              "      <td>1.252278</td>\n",
              "      <td>0.792876</td>\n",
              "      <td>03:15</td>\n",
              "    </tr>\n",
              "    <tr>\n",
              "      <td>1</td>\n",
              "      <td>0.433458</td>\n",
              "      <td>1.284217</td>\n",
              "      <td>0.802111</td>\n",
              "      <td>03:13</td>\n",
              "    </tr>\n",
              "    <tr>\n",
              "      <td>2</td>\n",
              "      <td>0.363783</td>\n",
              "      <td>1.224852</td>\n",
              "      <td>0.803430</td>\n",
              "      <td>03:16</td>\n",
              "    </tr>\n",
              "    <tr>\n",
              "      <td>3</td>\n",
              "      <td>0.320127</td>\n",
              "      <td>1.209009</td>\n",
              "      <td>0.808707</td>\n",
              "      <td>03:24</td>\n",
              "    </tr>\n",
              "  </tbody>\n",
              "</table>"
            ],
            "text/plain": [
              "<IPython.core.display.HTML object>"
            ]
          },
          "metadata": {
            "tags": []
          }
        }
      ]
    },
    {
      "cell_type": "code",
      "metadata": {
        "id": "rKrBTZ0T1uVA",
        "outputId": "f2203e0b-e3b2-4e6b-fc85-7713b7ce15f2",
        "colab": {
          "base_uri": "https://localhost:8080/",
          "height": 173
        }
      },
      "source": [
        "learn.fit_one_cycle(4, slice(2e-3/100, 2e-3))"
      ],
      "execution_count": null,
      "outputs": [
        {
          "output_type": "display_data",
          "data": {
            "text/html": [
              "<table border=\"1\" class=\"dataframe\">\n",
              "  <thead>\n",
              "    <tr style=\"text-align: left;\">\n",
              "      <th>epoch</th>\n",
              "      <th>train_loss</th>\n",
              "      <th>valid_loss</th>\n",
              "      <th>accuracy</th>\n",
              "      <th>time</th>\n",
              "    </tr>\n",
              "  </thead>\n",
              "  <tbody>\n",
              "    <tr>\n",
              "      <td>0</td>\n",
              "      <td>0.358402</td>\n",
              "      <td>1.241647</td>\n",
              "      <td>0.798153</td>\n",
              "      <td>03:18</td>\n",
              "    </tr>\n",
              "    <tr>\n",
              "      <td>1</td>\n",
              "      <td>0.360825</td>\n",
              "      <td>1.283335</td>\n",
              "      <td>0.795515</td>\n",
              "      <td>03:21</td>\n",
              "    </tr>\n",
              "    <tr>\n",
              "      <td>2</td>\n",
              "      <td>0.314008</td>\n",
              "      <td>1.287012</td>\n",
              "      <td>0.807388</td>\n",
              "      <td>03:07</td>\n",
              "    </tr>\n",
              "    <tr>\n",
              "      <td>3</td>\n",
              "      <td>0.283917</td>\n",
              "      <td>1.245282</td>\n",
              "      <td>0.806069</td>\n",
              "      <td>03:01</td>\n",
              "    </tr>\n",
              "  </tbody>\n",
              "</table>"
            ],
            "text/plain": [
              "<IPython.core.display.HTML object>"
            ]
          },
          "metadata": {
            "tags": []
          }
        }
      ]
    },
    {
      "cell_type": "code",
      "metadata": {
        "id": "ajQC6WDg1yA9",
        "outputId": "61d1cc20-9b74-44a8-8c4e-c39be7e667e6",
        "colab": {
          "base_uri": "https://localhost:8080/",
          "height": 173
        }
      },
      "source": [
        "learn.fit_one_cycle(4, slice(2e-3/100, 2e-3))"
      ],
      "execution_count": null,
      "outputs": [
        {
          "output_type": "display_data",
          "data": {
            "text/html": [
              "<table border=\"1\" class=\"dataframe\">\n",
              "  <thead>\n",
              "    <tr style=\"text-align: left;\">\n",
              "      <th>epoch</th>\n",
              "      <th>train_loss</th>\n",
              "      <th>valid_loss</th>\n",
              "      <th>accuracy</th>\n",
              "      <th>time</th>\n",
              "    </tr>\n",
              "  </thead>\n",
              "  <tbody>\n",
              "    <tr>\n",
              "      <td>0</td>\n",
              "      <td>0.261775</td>\n",
              "      <td>1.298254</td>\n",
              "      <td>0.806069</td>\n",
              "      <td>03:11</td>\n",
              "    </tr>\n",
              "    <tr>\n",
              "      <td>1</td>\n",
              "      <td>0.340206</td>\n",
              "      <td>1.289389</td>\n",
              "      <td>0.811346</td>\n",
              "      <td>03:06</td>\n",
              "    </tr>\n",
              "    <tr>\n",
              "      <td>2</td>\n",
              "      <td>0.272509</td>\n",
              "      <td>1.288798</td>\n",
              "      <td>0.810026</td>\n",
              "      <td>03:05</td>\n",
              "    </tr>\n",
              "    <tr>\n",
              "      <td>3</td>\n",
              "      <td>0.227109</td>\n",
              "      <td>1.280907</td>\n",
              "      <td>0.813984</td>\n",
              "      <td>03:08</td>\n",
              "    </tr>\n",
              "  </tbody>\n",
              "</table>"
            ],
            "text/plain": [
              "<IPython.core.display.HTML object>"
            ]
          },
          "metadata": {
            "tags": []
          }
        }
      ]
    },
    {
      "cell_type": "code",
      "metadata": {
        "id": "KKydb0B4BKGk",
        "outputId": "700b7901-05dd-4fa1-8bd8-88eb47200619",
        "colab": {
          "base_uri": "https://localhost:8080/",
          "height": 173
        }
      },
      "source": [
        "learn.fit_one_cycle(4, slice(2e-3/100, 2e-3))"
      ],
      "execution_count": null,
      "outputs": [
        {
          "output_type": "display_data",
          "data": {
            "text/html": [
              "<table border=\"1\" class=\"dataframe\">\n",
              "  <thead>\n",
              "    <tr style=\"text-align: left;\">\n",
              "      <th>epoch</th>\n",
              "      <th>train_loss</th>\n",
              "      <th>valid_loss</th>\n",
              "      <th>accuracy</th>\n",
              "      <th>time</th>\n",
              "    </tr>\n",
              "  </thead>\n",
              "  <tbody>\n",
              "    <tr>\n",
              "      <td>0</td>\n",
              "      <td>0.250820</td>\n",
              "      <td>1.245810</td>\n",
              "      <td>0.812665</td>\n",
              "      <td>03:26</td>\n",
              "    </tr>\n",
              "    <tr>\n",
              "      <td>1</td>\n",
              "      <td>0.274218</td>\n",
              "      <td>1.332309</td>\n",
              "      <td>0.821900</td>\n",
              "      <td>03:12</td>\n",
              "    </tr>\n",
              "    <tr>\n",
              "      <td>2</td>\n",
              "      <td>0.261009</td>\n",
              "      <td>1.258817</td>\n",
              "      <td>0.816623</td>\n",
              "      <td>03:17</td>\n",
              "    </tr>\n",
              "    <tr>\n",
              "      <td>3</td>\n",
              "      <td>0.203112</td>\n",
              "      <td>1.283311</td>\n",
              "      <td>0.820580</td>\n",
              "      <td>03:15</td>\n",
              "    </tr>\n",
              "  </tbody>\n",
              "</table>"
            ],
            "text/plain": [
              "<IPython.core.display.HTML object>"
            ]
          },
          "metadata": {
            "tags": []
          }
        }
      ]
    },
    {
      "cell_type": "code",
      "metadata": {
        "id": "T2APKtFKBpGY",
        "outputId": "6375c2d4-3499-4edd-b398-df93734453ec",
        "colab": {
          "base_uri": "https://localhost:8080/",
          "height": 173
        }
      },
      "source": [
        "learn.fit_one_cycle(4, slice(2e-3/100, 2e-3))"
      ],
      "execution_count": null,
      "outputs": [
        {
          "output_type": "display_data",
          "data": {
            "text/html": [
              "<table border=\"1\" class=\"dataframe\">\n",
              "  <thead>\n",
              "    <tr style=\"text-align: left;\">\n",
              "      <th>epoch</th>\n",
              "      <th>train_loss</th>\n",
              "      <th>valid_loss</th>\n",
              "      <th>accuracy</th>\n",
              "      <th>time</th>\n",
              "    </tr>\n",
              "  </thead>\n",
              "  <tbody>\n",
              "    <tr>\n",
              "      <td>0</td>\n",
              "      <td>0.229779</td>\n",
              "      <td>1.329546</td>\n",
              "      <td>0.817942</td>\n",
              "      <td>03:20</td>\n",
              "    </tr>\n",
              "    <tr>\n",
              "      <td>1</td>\n",
              "      <td>0.254460</td>\n",
              "      <td>1.303493</td>\n",
              "      <td>0.817942</td>\n",
              "      <td>03:11</td>\n",
              "    </tr>\n",
              "    <tr>\n",
              "      <td>2</td>\n",
              "      <td>0.222182</td>\n",
              "      <td>1.309173</td>\n",
              "      <td>0.816623</td>\n",
              "      <td>03:22</td>\n",
              "    </tr>\n",
              "    <tr>\n",
              "      <td>3</td>\n",
              "      <td>0.199777</td>\n",
              "      <td>1.266375</td>\n",
              "      <td>0.816623</td>\n",
              "      <td>03:02</td>\n",
              "    </tr>\n",
              "  </tbody>\n",
              "</table>"
            ],
            "text/plain": [
              "<IPython.core.display.HTML object>"
            ]
          },
          "metadata": {
            "tags": []
          }
        }
      ]
    },
    {
      "cell_type": "code",
      "metadata": {
        "id": "qtTypA1sPgLU",
        "outputId": "d1f6a976-5816-443e-df9c-74d1418267ce",
        "colab": {
          "base_uri": "https://localhost:8080/",
          "height": 111
        }
      },
      "source": [
        "learn.fit_one_cycle(2, slice(2e-3/100, 2e-3))"
      ],
      "execution_count": null,
      "outputs": [
        {
          "output_type": "display_data",
          "data": {
            "text/html": [
              "<table border=\"1\" class=\"dataframe\">\n",
              "  <thead>\n",
              "    <tr style=\"text-align: left;\">\n",
              "      <th>epoch</th>\n",
              "      <th>train_loss</th>\n",
              "      <th>valid_loss</th>\n",
              "      <th>accuracy</th>\n",
              "      <th>time</th>\n",
              "    </tr>\n",
              "  </thead>\n",
              "  <tbody>\n",
              "    <tr>\n",
              "      <td>0</td>\n",
              "      <td>0.212572</td>\n",
              "      <td>1.433434</td>\n",
              "      <td>0.821900</td>\n",
              "      <td>03:23</td>\n",
              "    </tr>\n",
              "    <tr>\n",
              "      <td>1</td>\n",
              "      <td>0.200883</td>\n",
              "      <td>1.387193</td>\n",
              "      <td>0.823219</td>\n",
              "      <td>03:31</td>\n",
              "    </tr>\n",
              "  </tbody>\n",
              "</table>"
            ],
            "text/plain": [
              "<IPython.core.display.HTML object>"
            ]
          },
          "metadata": {
            "tags": []
          }
        }
      ]
    },
    {
      "cell_type": "code",
      "metadata": {
        "id": "b242kBsTUp9Y",
        "outputId": "319ff20f-c621-4972-ee20-605043798979",
        "colab": {
          "base_uri": "https://localhost:8080/",
          "height": 111
        }
      },
      "source": [
        "learn.fit_one_cycle(2, slice(2e-3/100, 2e-3))"
      ],
      "execution_count": null,
      "outputs": [
        {
          "output_type": "display_data",
          "data": {
            "text/html": [
              "<table border=\"1\" class=\"dataframe\">\n",
              "  <thead>\n",
              "    <tr style=\"text-align: left;\">\n",
              "      <th>epoch</th>\n",
              "      <th>train_loss</th>\n",
              "      <th>valid_loss</th>\n",
              "      <th>accuracy</th>\n",
              "      <th>time</th>\n",
              "    </tr>\n",
              "  </thead>\n",
              "  <tbody>\n",
              "    <tr>\n",
              "      <td>0</td>\n",
              "      <td>0.206745</td>\n",
              "      <td>1.358443</td>\n",
              "      <td>0.819261</td>\n",
              "      <td>03:27</td>\n",
              "    </tr>\n",
              "    <tr>\n",
              "      <td>1</td>\n",
              "      <td>0.196074</td>\n",
              "      <td>1.360647</td>\n",
              "      <td>0.820580</td>\n",
              "      <td>03:01</td>\n",
              "    </tr>\n",
              "  </tbody>\n",
              "</table>"
            ],
            "text/plain": [
              "<IPython.core.display.HTML object>"
            ]
          },
          "metadata": {
            "tags": []
          }
        }
      ]
    },
    {
      "cell_type": "code",
      "metadata": {
        "id": "Duwf1Ih5VeDZ",
        "outputId": "81cbff44-0ea3-4fff-e238-93422c53e4be",
        "colab": {
          "base_uri": "https://localhost:8080/",
          "height": 80
        }
      },
      "source": [
        "learn.fit_one_cycle(1, slice(2e-3/100, 2e-3))"
      ],
      "execution_count": null,
      "outputs": [
        {
          "output_type": "display_data",
          "data": {
            "text/html": [
              "<table border=\"1\" class=\"dataframe\">\n",
              "  <thead>\n",
              "    <tr style=\"text-align: left;\">\n",
              "      <th>epoch</th>\n",
              "      <th>train_loss</th>\n",
              "      <th>valid_loss</th>\n",
              "      <th>accuracy</th>\n",
              "      <th>time</th>\n",
              "    </tr>\n",
              "  </thead>\n",
              "  <tbody>\n",
              "    <tr>\n",
              "      <td>0</td>\n",
              "      <td>0.182465</td>\n",
              "      <td>1.417626</td>\n",
              "      <td>0.824538</td>\n",
              "      <td>03:26</td>\n",
              "    </tr>\n",
              "  </tbody>\n",
              "</table>"
            ],
            "text/plain": [
              "<IPython.core.display.HTML object>"
            ]
          },
          "metadata": {
            "tags": []
          }
        }
      ]
    },
    {
      "cell_type": "code",
      "metadata": {
        "id": "c65d-osfDUXm"
      },
      "source": [
        "# save the best model\n",
        "\n",
        "learn.save_encoder('bigtweet_ask_ask_mixed_fold2')"
      ],
      "execution_count": null,
      "outputs": []
    },
    {
      "cell_type": "markdown",
      "metadata": {
        "id": "rCwZU0E2RgM6"
      },
      "source": [
        "# Part three: Predict on the test dataset"
      ]
    },
    {
      "cell_type": "code",
      "metadata": {
        "id": "gDm72c-dOu7d",
        "outputId": "f43dea05-c523-488c-f75d-56bcf6a32547",
        "colab": {
          "base_uri": "https://localhost:8080/",
          "height": 17
        }
      },
      "source": [
        "# use the test data for prediction\n",
        "\n",
        "preds, y = learn.get_preds(DatasetType.Test)"
      ],
      "execution_count": null,
      "outputs": [
        {
          "output_type": "display_data",
          "data": {
            "text/html": [
              ""
            ],
            "text/plain": [
              "<IPython.core.display.HTML object>"
            ]
          },
          "metadata": {
            "tags": []
          }
        }
      ]
    },
    {
      "cell_type": "code",
      "metadata": {
        "id": "6tFSQcsWPvxn",
        "outputId": "14ad2722-f00f-4540-fc50-265483031258",
        "colab": {
          "base_uri": "https://localhost:8080/",
          "height": 105
        }
      },
      "source": [
        "predictions, *_ = learn.get_preds(DatasetType.Test)\n",
        "labels = np.argmax(predictions, 1)\n",
        "predict_list = labels.tolist()\n",
        "standard_list = test[0].tolist()\n",
        "\n",
        "print(len(predict_list))\n",
        "print(len(standard_list))\n",
        "\n",
        "print(predict_list)\n",
        "print(standard_list)"
      ],
      "execution_count": null,
      "outputs": [
        {
          "output_type": "display_data",
          "data": {
            "text/html": [
              ""
            ],
            "text/plain": [
              "<IPython.core.display.HTML object>"
            ]
          },
          "metadata": {
            "tags": []
          }
        },
        {
          "output_type": "stream",
          "text": [
            "866\n",
            "866\n",
            "[2, 821, 1000, 8, 8, 8, 179, 8, 554, 16, 836, 27, 30, 86, 414, 414, 414, 32, 34, 37, 37, 741, 37, 37, 37, 37, 37, 37, 37, 37, 39, 623, 44, 922, 49, 94, 49, 325, 49, 49, 49, 49, 49, 49, 49, 891, 52, 53, 370, 370, 53, 309, 58, 60, 62, 62, 179, 752, 70, 70, 70, 71, 71, 71, 996, 76, 289, 79, 79, 614, 546, 79, 79, 79, 79, 79, 79, 79, 79, 79, 79, 79, 79, 79, 79, 79, 79, 79, 79, 79, 79, 79, 79, 79, 861, 861, 1022, 79, 79, 79, 79, 220, 80, 80, 80, 80, 80, 80, 531, 83, 268, 325, 92, 92, 850, 94, 94, 94, 826, 826, 94, 94, 94, 94, 94, 96, 96, 594, 246, 100, 100, 100, 100, 108, 108, 108, 289, 275, 111, 111, 111, 111, 211, 111, 214, 519, 125, 261, 125, 125, 125, 125, 125, 125, 125, 125, 125, 125, 125, 125, 125, 125, 172, 131, 132, 135, 316, 316, 89, 139, 142, 143, 738, 151, 151, 152, 736, 157, 161, 162, 163, 166, 166, 172, 172, 172, 172, 172, 172, 205, 54, 180, 182, 182, 182, 182, 183, 183, 100, 187, 187, 187, 187, 187, 189, 190, 190, 190, 190, 190, 309, 190, 190, 193, 193, 170, 197, 197, 197, 197, 202, 203, 205, 205, 205, 207, 595, 289, 210, 210, 210, 2, 214, 214, 214, 34, 214, 214, 214, 214, 214, 214, 214, 214, 214, 214, 214, 557, 218, 218, 615, 218, 220, 223, 224, 227, 228, 44, 228, 228, 326, 228, 214, 746, 140, 234, 98, 235, 235, 235, 235, 117, 236, 238, 992, 992, 999, 999, 179, 243, 243, 243, 243, 749, 245, 245, 245, 245, 638, 245, 245, 245, 246, 485, 485, 249, 370, 523, 260, 318, 265, 301, 265, 265, 265, 265, 701, 265, 265, 265, 265, 265, 265, 265, 265, 265, 265, 265, 265, 265, 265, 99, 265, 65, 100, 383, 274, 520, 277, 316, 278, 280, 281, 289, 111, 289, 289, 289, 289, 228, 205, 289, 864, 289, 79, 289, 289, 289, 205, 289, 182, 528, 289, 79, 96, 291, 293, 646, 644, 298, 301, 301, 304, 354, 308, 309, 318, 318, 167, 325, 325, 325, 325, 325, 325, 325, 325, 325, 325, 325, 325, 891, 891, 325, 329, 332, 334, 335, 336, 336, 185, 337, 337, 337, 337, 185, 100, 337, 338, 341, 342, 343, 343, 343, 343, 520, 172, 359, 596, 289, 362, 363, 363, 364, 364, 289, 364, 370, 375, 374, 391, 446, 402, 402, 89, 408, 416, 418, 418, 419, 419, 419, 419, 261, 419, 420, 861, 80, 425, 426, 426, 479, 426, 426, 426, 427, 427, 427, 427, 427, 427, 427, 427, 427, 427, 427, 197, 427, 427, 360, 174, 427, 447, 441, 443, 878, 391, 446, 446, 142, 261, 454, 455, 455, 455, 261, 455, 458, 460, 70, 908, 462, 471, 360, 493, 485, 487, 771, 326, 489, 491, 491, 491, 561, 491, 491, 492, 492, 495, 495, 495, 499, 501, 502, 517, 517, 517, 517, 517, 517, 517, 517, 370, 524, 524, 524, 524, 742, 524, 528, 528, 530, 530, 530, 531, 787, 143, 532, 537, 540, 541, 541, 541, 541, 548, 548, 551, 80, 805, 49, 172, 864, 575, 579, 868, 338, 585, 38, 261, 299, 325, 179, 591, 592, 595, 595, 595, 520, 427, 604, 741, 610, 610, 326, 611, 614, 614, 614, 614, 614, 326, 619, 719, 719, 624, 334, 632, 635, 623, 640, 840, 644, 646, 646, 646, 646, 648, 652, 652, 656, 662, 491, 686, 693, 546, 660, 701, 704, 704, 708, 708, 710, 710, 711, 714, 714, 714, 715, 717, 644, 735, 736, 427, 741, 741, 37, 745, 746, 746, 749, 749, 749, 803, 753, 245, 245, 245, 876, 245, 644, 205, 205, 660, 773, 623, 775, 778, 778, 778, 778, 780, 790, 796, 803, 803, 803, 753, 804, 806, 806, 806, 809, 809, 809, 810, 823, 825, 316, 826, 830, 830, 830, 830, 543, 446, 202, 840, 840, 623, 847, 847, 847, 847, 849, 853, 853, 853, 853, 280, 864, 864, 520, 896, 896, 896, 896, 896, 896, 897, 520, 363, 904, 904, 914, 919, 919, 919, 919, 999, 852, 937, 937, 937, 938, 940, 940, 47, 948, 948, 948, 948, 948, 949, 949, 949, 949, 949, 949, 949, 949, 949, 949, 949, 949, 949, 949, 949, 949, 949, 949, 949, 949, 949, 949, 949, 949, 949, 949, 949, 949, 949, 949, 949, 949, 949, 949, 949, 949, 949, 949, 949, 949, 949, 949, 949, 949, 949, 949, 949, 949, 949, 949, 949, 949, 949, 949, 949, 949, 949, 949, 949, 949, 949, 949, 949, 949, 949, 949, 949, 949, 949, 949, 949, 949, 949, 949, 949, 949, 949, 949, 949, 949, 949, 949, 949, 949, 949, 852, 949, 949, 949, 949, 949, 949, 949, 949, 949, 949, 949, 949, 949, 949, 949, 950, 950, 950, 952, 520, 955, 955, 958, 960, 955, 967, 967, 721, 870, 977, 980, 261, 981, 255, 986, 988, 989, 261, 991, 994, 917, 997, 1001, 1001, 1003, 1013, 1014, 1015, 1016, 1016, 1026, 1026, 1026, 1026, 1026, 1026, 1026, 1026, 276, 1028, 1028, 1028, 1028, 1028, 1028, 1029, 1029, 1035]\n",
            "[2, 4, 8, 8, 8, 8, 8, 8, 10, 16, 23, 27, 30, 31, 31, 31, 31, 32, 34, 37, 37, 37, 37, 37, 37, 37, 37, 37, 37, 37, 39, 40, 44, 48, 49, 49, 49, 49, 49, 49, 49, 49, 49, 49, 49, 50, 52, 53, 53, 53, 53, 57, 58, 60, 62, 62, 68, 69, 70, 70, 70, 71, 71, 71, 75, 76, 76, 79, 79, 79, 79, 79, 79, 79, 79, 79, 79, 79, 79, 79, 79, 79, 79, 79, 79, 79, 79, 79, 79, 79, 79, 79, 79, 79, 79, 79, 79, 79, 79, 79, 79, 80, 80, 80, 80, 80, 80, 80, 82, 83, 89, 90, 92, 92, 93, 94, 94, 94, 94, 94, 94, 94, 94, 94, 94, 96, 96, 97, 98, 100, 100, 100, 100, 108, 108, 108, 109, 110, 111, 111, 111, 111, 111, 111, 115, 120, 125, 125, 125, 125, 125, 125, 125, 125, 125, 125, 125, 125, 125, 125, 125, 125, 129, 131, 132, 135, 135, 135, 137, 139, 142, 143, 149, 151, 151, 152, 155, 157, 161, 162, 163, 166, 166, 172, 172, 172, 172, 172, 172, 174, 180, 180, 182, 182, 182, 182, 183, 183, 185, 187, 187, 187, 187, 187, 189, 190, 190, 190, 190, 190, 190, 190, 190, 193, 193, 194, 197, 197, 197, 197, 202, 203, 205, 205, 205, 207, 207, 209, 210, 210, 210, 213, 214, 214, 214, 214, 214, 214, 214, 214, 214, 214, 214, 214, 214, 214, 214, 215, 218, 218, 218, 218, 220, 223, 224, 227, 228, 228, 228, 228, 228, 228, 230, 231, 232, 234, 234, 235, 235, 235, 235, 236, 236, 238, 238, 238, 243, 243, 243, 243, 243, 243, 243, 244, 245, 245, 245, 245, 245, 245, 245, 245, 246, 246, 246, 249, 254, 260, 260, 260, 265, 265, 265, 265, 265, 265, 265, 265, 265, 265, 265, 265, 265, 265, 265, 265, 265, 265, 265, 265, 265, 265, 265, 265, 265, 274, 274, 275, 277, 277, 278, 280, 281, 289, 289, 289, 289, 289, 289, 289, 289, 289, 289, 289, 289, 289, 289, 289, 289, 289, 289, 289, 289, 289, 291, 291, 293, 297, 298, 298, 301, 301, 304, 306, 308, 310, 318, 318, 319, 325, 325, 325, 325, 325, 325, 325, 325, 325, 325, 325, 325, 325, 325, 325, 329, 332, 334, 335, 336, 336, 337, 337, 337, 337, 337, 337, 337, 337, 338, 341, 342, 343, 343, 343, 343, 353, 356, 359, 359, 360, 362, 363, 363, 364, 364, 364, 364, 370, 375, 379, 391, 395, 402, 402, 404, 408, 416, 418, 418, 419, 419, 419, 419, 419, 419, 420, 421, 422, 425, 426, 426, 426, 426, 426, 426, 427, 427, 427, 427, 427, 427, 427, 427, 427, 427, 427, 427, 427, 427, 427, 427, 427, 436, 441, 443, 443, 444, 446, 446, 447, 450, 454, 455, 455, 455, 455, 455, 458, 460, 464, 466, 469, 471, 473, 473, 485, 487, 487, 488, 489, 491, 491, 491, 491, 491, 491, 492, 492, 495, 495, 495, 499, 501, 502, 509, 517, 517, 517, 517, 517, 517, 517, 521, 524, 524, 524, 524, 524, 524, 528, 528, 530, 530, 530, 531, 531, 531, 532, 537, 540, 541, 541, 541, 541, 548, 548, 551, 552, 555, 572, 573, 574, 575, 579, 582, 584, 585, 587, 588, 589, 590, 590, 591, 592, 595, 595, 595, 597, 597, 604, 606, 610, 610, 610, 611, 614, 614, 614, 614, 614, 618, 619, 619, 619, 624, 627, 632, 635, 640, 640, 642, 644, 646, 646, 646, 646, 648, 652, 652, 656, 662, 662, 686, 693, 695, 699, 702, 704, 704, 708, 708, 710, 710, 711, 714, 714, 714, 715, 717, 727, 735, 736, 737, 741, 741, 741, 745, 746, 746, 749, 749, 750, 753, 753, 764, 764, 764, 765, 765, 766, 769, 769, 771, 773, 775, 775, 778, 778, 778, 778, 780, 790, 796, 803, 803, 803, 803, 804, 806, 806, 806, 809, 809, 809, 810, 823, 825, 826, 826, 830, 830, 830, 830, 830, 831, 834, 840, 840, 841, 847, 847, 847, 847, 849, 853, 853, 853, 853, 859, 864, 864, 866, 896, 896, 896, 896, 896, 896, 897, 901, 903, 904, 904, 914, 919, 919, 919, 919, 922, 933, 937, 937, 937, 938, 940, 940, 940, 948, 948, 948, 948, 948, 949, 949, 949, 949, 949, 949, 949, 949, 949, 949, 949, 949, 949, 949, 949, 949, 949, 949, 949, 949, 949, 949, 949, 949, 949, 949, 949, 949, 949, 949, 949, 949, 949, 949, 949, 949, 949, 949, 949, 949, 949, 949, 949, 949, 949, 949, 949, 949, 949, 949, 949, 949, 949, 949, 949, 949, 949, 949, 949, 949, 949, 949, 949, 949, 949, 949, 949, 949, 949, 949, 949, 949, 949, 949, 949, 949, 949, 949, 949, 949, 949, 949, 949, 949, 949, 949, 949, 949, 949, 949, 949, 949, 949, 949, 949, 949, 949, 949, 949, 949, 949, 950, 950, 950, 952, 953, 955, 955, 958, 960, 962, 967, 967, 973, 974, 977, 980, 981, 981, 983, 986, 988, 989, 989, 991, 994, 994, 997, 1001, 1001, 1003, 1013, 1014, 1015, 1016, 1016, 1026, 1026, 1026, 1026, 1026, 1026, 1026, 1026, 1026, 1028, 1028, 1028, 1028, 1028, 1028, 1029, 1029, 1035]\n"
          ],
          "name": "stdout"
        }
      ]
    },
    {
      "cell_type": "code",
      "metadata": {
        "id": "XIC4zufnMxtq",
        "outputId": "17b79986-785c-4264-ae13-54539c4e53ec",
        "colab": {
          "base_uri": "https://localhost:8080/"
        }
      },
      "source": [
        "correct_num = 0\n",
        "\n",
        "for i in range(0, len(standard_list)):\n",
        "  if predict_list[i] == standard_list[i]:\n",
        "    correct_num = correct_num+1\n",
        "  else:\n",
        "    pass\n",
        "print(correct_num)\n",
        "\n",
        "predict_accuracy = correct_num/len(predict_list)\n",
        "print(predict_accuracy)"
      ],
      "execution_count": null,
      "outputs": [
        {
          "output_type": "stream",
          "text": [
            "662\n",
            "0.7644341801385681\n"
          ],
          "name": "stdout"
        }
      ]
    },
    {
      "cell_type": "code",
      "metadata": {
        "id": "zlKMHp1CIaRJ"
      },
      "source": [
        ""
      ],
      "execution_count": null,
      "outputs": []
    }
  ]
}