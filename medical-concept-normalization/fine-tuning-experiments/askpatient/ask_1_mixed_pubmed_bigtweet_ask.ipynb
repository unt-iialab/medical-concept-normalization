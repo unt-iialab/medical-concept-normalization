{
  "nbformat": 4,
  "nbformat_minor": 0,
  "metadata": {
    "accelerator": "TPU",
    "colab": {
      "name": "ask_1_mixed_pubmed_bigtweet_ask.ipynb",
      "provenance": [],
      "collapsed_sections": [],
      "toc_visible": true,
      "include_colab_link": true
    },
    "kernelspec": {
      "display_name": "Python 3",
      "name": "python3"
    }
  },
  "cells": [
    {
      "cell_type": "markdown",
      "metadata": {
        "id": "view-in-github",
        "colab_type": "text"
      },
      "source": [
        "<a href=\"https://colab.research.google.com/github/unt-iialab/medical-concept-normalization/blob/master/medical-concept-normalization/fine-tuning-experiments/askpatient/ask_1_mixed_pubmed_bigtweet_ask.ipynb\" target=\"_parent\"><img src=\"https://colab.research.google.com/assets/colab-badge.svg\" alt=\"Open In Colab\"/></a>"
      ]
    },
    {
      "cell_type": "code",
      "metadata": {
        "id": "adSi6i2-dWxy"
      },
      "source": [
        "import os"
      ],
      "execution_count": 1,
      "outputs": []
    },
    {
      "cell_type": "code",
      "metadata": {
        "id": "E7xYCRGPjd9B"
      },
      "source": [
        "base_dir = 'medical-concept-normalization'"
      ],
      "execution_count": 2,
      "outputs": []
    },
    {
      "cell_type": "code",
      "metadata": {
        "id": "yvIW3aUDjYNS"
      },
      "source": [
        "os.mkdir(base_dir)"
      ],
      "execution_count": 3,
      "outputs": []
    },
    {
      "cell_type": "code",
      "metadata": {
        "id": "es-FFLlfk6SG"
      },
      "source": [
        "os.mkdir('medical-concept-normalization/data_collection')"
      ],
      "execution_count": 4,
      "outputs": []
    },
    {
      "cell_type": "markdown",
      "metadata": {
        "id": "0R-Guw_VoJXm"
      },
      "source": [
        "**Install fastai and clone the fastai for text classification**\n",
        "\n"
      ]
    },
    {
      "cell_type": "code",
      "metadata": {
        "id": "QVZa3Z0PmHFH",
        "outputId": "92b1e5f0-a2fe-4bc0-cec6-ce475606ca9c",
        "colab": {
          "base_uri": "https://localhost:8080/",
          "height": 68
        }
      },
      "source": [
        "!curl https://course-v3.fast.ai/setup/colab | bash"
      ],
      "execution_count": 5,
      "outputs": [
        {
          "output_type": "stream",
          "text": [
            "  % Total    % Received % Xferd  Average Speed   Time    Time     Time  Current\n",
            "                                 Dload  Upload   Total   Spent    Left  Speed\n",
            "\r  0     0    0     0    0     0      0      0 --:--:-- --:--:-- --:--:--     0curl: (6) Could not resolve host: course-v3.fast.ai\n"
          ],
          "name": "stdout"
        }
      ]
    },
    {
      "cell_type": "code",
      "metadata": {
        "id": "_FBFFEBrmJC0",
        "outputId": "3a198e1c-3329-42dc-f45c-849358112773",
        "colab": {
          "base_uri": "https://localhost:8080/",
          "height": 85
        }
      },
      "source": [
        "!git clone https://github.com/wshuyi/demo-nlp-classification-fastai.git"
      ],
      "execution_count": 6,
      "outputs": [
        {
          "output_type": "stream",
          "text": [
            "Cloning into 'demo-nlp-classification-fastai'...\n",
            "remote: Enumerating objects: 9, done.\u001b[K\n",
            "remote: Total 9 (delta 0), reused 0 (delta 0), pack-reused 9\u001b[K\n",
            "Unpacking objects: 100% (9/9), done.\n"
          ],
          "name": "stdout"
        }
      ]
    },
    {
      "cell_type": "code",
      "metadata": {
        "id": "66zfh_JqmWMU"
      },
      "source": [
        "from fastai import *\n",
        "from fastai.text import *"
      ],
      "execution_count": 7,
      "outputs": []
    },
    {
      "cell_type": "markdown",
      "metadata": {
        "id": "mNIw-yALdBU9"
      },
      "source": [
        "**Set the path of the data collections**"
      ]
    },
    {
      "cell_type": "code",
      "metadata": {
        "id": "pzH7VMh4mqCL"
      },
      "source": [
        "path = Path('medical-concept-normalization/data_collection')"
      ],
      "execution_count": 8,
      "outputs": []
    },
    {
      "cell_type": "code",
      "metadata": {
        "id": "b8fjI6yyn4aS"
      },
      "source": [
        "# training data set\n",
        "\n",
        "train_csv = path/'AskAPatient.fold-1.train.csv'\n",
        "train = pd.read_csv(train_csv, header=None)\n",
        "#train.head()\n",
        "#train.info()"
      ],
      "execution_count": 10,
      "outputs": []
    },
    {
      "cell_type": "code",
      "metadata": {
        "id": "Hmlr-bAorfHd",
        "outputId": "30bfdbc9-b3c7-4135-e64d-e710e955480a",
        "colab": {
          "base_uri": "https://localhost:8080/",
          "height": 204
        }
      },
      "source": [
        "# validating data set\n",
        "\n",
        "valid = pd.read_csv(path/\"AskAPatient.fold-1.validation.csv\",header=None)\n",
        "valid.head()"
      ],
      "execution_count": 11,
      "outputs": [
        {
          "output_type": "execute_result",
          "data": {
            "text/html": [
              "<div>\n",
              "<style scoped>\n",
              "    .dataframe tbody tr th:only-of-type {\n",
              "        vertical-align: middle;\n",
              "    }\n",
              "\n",
              "    .dataframe tbody tr th {\n",
              "        vertical-align: top;\n",
              "    }\n",
              "\n",
              "    .dataframe thead th {\n",
              "        text-align: right;\n",
              "    }\n",
              "</style>\n",
              "<table border=\"1\" class=\"dataframe\">\n",
              "  <thead>\n",
              "    <tr style=\"text-align: right;\">\n",
              "      <th></th>\n",
              "      <th>0</th>\n",
              "      <th>1</th>\n",
              "    </tr>\n",
              "  </thead>\n",
              "  <tbody>\n",
              "    <tr>\n",
              "      <th>0</th>\n",
              "      <td>0</td>\n",
              "      <td>fear</td>\n",
              "    </tr>\n",
              "    <tr>\n",
              "      <th>1</th>\n",
              "      <td>2</td>\n",
              "      <td>heels hurt</td>\n",
              "    </tr>\n",
              "    <tr>\n",
              "      <th>2</th>\n",
              "      <td>4</td>\n",
              "      <td>Discoloration of skin [blotchy] on the neck</td>\n",
              "    </tr>\n",
              "    <tr>\n",
              "      <th>3</th>\n",
              "      <td>6</td>\n",
              "      <td>diastolic dysfunction</td>\n",
              "    </tr>\n",
              "    <tr>\n",
              "      <th>4</th>\n",
              "      <td>8</td>\n",
              "      <td>arthritis</td>\n",
              "    </tr>\n",
              "  </tbody>\n",
              "</table>\n",
              "</div>"
            ],
            "text/plain": [
              "   0                                            1\n",
              "0  0                                         fear\n",
              "1  2                                   heels hurt\n",
              "2  4  Discoloration of skin [blotchy] on the neck\n",
              "3  6                        diastolic dysfunction\n",
              "4  8                                    arthritis"
            ]
          },
          "metadata": {
            "tags": []
          },
          "execution_count": 11
        }
      ]
    },
    {
      "cell_type": "code",
      "metadata": {
        "id": "cOza9dfSsBud",
        "outputId": "eff92adf-3141-4c8a-d6c3-fd40d05ffb92",
        "colab": {
          "base_uri": "https://localhost:8080/",
          "height": 204
        }
      },
      "source": [
        "# testing data set\n",
        "\n",
        "test = pd.read_csv(path/\"AskAPatient.fold-1.test.csv\",header=None)\n",
        "test.head()"
      ],
      "execution_count": 12,
      "outputs": [
        {
          "output_type": "execute_result",
          "data": {
            "text/html": [
              "<div>\n",
              "<style scoped>\n",
              "    .dataframe tbody tr th:only-of-type {\n",
              "        vertical-align: middle;\n",
              "    }\n",
              "\n",
              "    .dataframe tbody tr th {\n",
              "        vertical-align: top;\n",
              "    }\n",
              "\n",
              "    .dataframe thead th {\n",
              "        text-align: right;\n",
              "    }\n",
              "</style>\n",
              "<table border=\"1\" class=\"dataframe\">\n",
              "  <thead>\n",
              "    <tr style=\"text-align: right;\">\n",
              "      <th></th>\n",
              "      <th>0</th>\n",
              "      <th>1</th>\n",
              "    </tr>\n",
              "  </thead>\n",
              "  <tbody>\n",
              "    <tr>\n",
              "      <th>0</th>\n",
              "      <td>2</td>\n",
              "      <td>heel pain</td>\n",
              "    </tr>\n",
              "    <tr>\n",
              "      <th>1</th>\n",
              "      <td>2</td>\n",
              "      <td>right heel became painful</td>\n",
              "    </tr>\n",
              "    <tr>\n",
              "      <th>2</th>\n",
              "      <td>8</td>\n",
              "      <td>Arthritis</td>\n",
              "    </tr>\n",
              "    <tr>\n",
              "      <th>3</th>\n",
              "      <td>8</td>\n",
              "      <td>arthristis</td>\n",
              "    </tr>\n",
              "    <tr>\n",
              "      <th>4</th>\n",
              "      <td>8</td>\n",
              "      <td>arthritis</td>\n",
              "    </tr>\n",
              "  </tbody>\n",
              "</table>\n",
              "</div>"
            ],
            "text/plain": [
              "   0                          1\n",
              "0  2                  heel pain\n",
              "1  2  right heel became painful\n",
              "2  8                  Arthritis\n",
              "3  8                 arthristis\n",
              "4  8                  arthritis"
            ]
          },
          "metadata": {
            "tags": []
          },
          "execution_count": 12
        }
      ]
    },
    {
      "cell_type": "code",
      "metadata": {
        "id": "Vo-YNvVYoaH6",
        "outputId": "52a0178b-344e-4709-a34a-0cd50841b565",
        "colab": {
          "base_uri": "https://localhost:8080/",
          "height": 17
        }
      },
      "source": [
        "# Creating DataBunch for language modelling\n",
        "\n",
        "data_lm = TextLMDataBunch.from_csv(path, 'mixed_pubmed_bigtweet_askpatient.csv')"
      ],
      "execution_count": 13,
      "outputs": [
        {
          "output_type": "display_data",
          "data": {
            "text/html": [
              ""
            ],
            "text/plain": [
              "<IPython.core.display.HTML object>"
            ]
          },
          "metadata": {
            "tags": []
          }
        },
        {
          "output_type": "display_data",
          "data": {
            "text/html": [
              ""
            ],
            "text/plain": [
              "<IPython.core.display.HTML object>"
            ]
          },
          "metadata": {
            "tags": []
          }
        }
      ]
    },
    {
      "cell_type": "code",
      "metadata": {
        "id": "qcV-9kMnNLBf"
      },
      "source": [
        ""
      ],
      "execution_count": 13,
      "outputs": []
    },
    {
      "cell_type": "code",
      "metadata": {
        "id": "1ScY9afDsnvE"
      },
      "source": [
        "# Creating DataBunch for classification\n",
        "\n",
        "# data_clas = TextClasDataBunch.from_df(path, train, valid, test, vocab=data_lm.train_ds.vocab, bs=128)"
      ],
      "execution_count": 14,
      "outputs": []
    },
    {
      "cell_type": "code",
      "metadata": {
        "id": "gzrSdQcvey9p",
        "outputId": "6b0e1608-b2ac-44ab-c954-02402f464253",
        "colab": {
          "base_uri": "https://localhost:8080/",
          "height": 17
        }
      },
      "source": [
        "data_clas = TextClasDataBunch.from_df(path, train, valid, vocab=data_lm.train_ds.vocab, bs=128)"
      ],
      "execution_count": 15,
      "outputs": [
        {
          "output_type": "display_data",
          "data": {
            "text/html": [
              ""
            ],
            "text/plain": [
              "<IPython.core.display.HTML object>"
            ]
          },
          "metadata": {
            "tags": []
          }
        },
        {
          "output_type": "display_data",
          "data": {
            "text/html": [
              ""
            ],
            "text/plain": [
              "<IPython.core.display.HTML object>"
            ]
          },
          "metadata": {
            "tags": []
          }
        }
      ]
    },
    {
      "cell_type": "code",
      "metadata": {
        "id": "MD27Tf0Ke3ou",
        "outputId": "9482081d-6177-427f-f955-5e73a26b26ac",
        "colab": {
          "base_uri": "https://localhost:8080/",
          "height": 17
        }
      },
      "source": [
        "data_clas.add_test(test,label=0)\n"
      ],
      "execution_count": 16,
      "outputs": [
        {
          "output_type": "display_data",
          "data": {
            "text/html": [
              ""
            ],
            "text/plain": [
              "<IPython.core.display.HTML object>"
            ]
          },
          "metadata": {
            "tags": []
          }
        }
      ]
    },
    {
      "cell_type": "code",
      "metadata": {
        "id": "-dpjnk_rstwk"
      },
      "source": [
        "data_lm.save()\n",
        "data_clas.save()"
      ],
      "execution_count": 17,
      "outputs": []
    },
    {
      "cell_type": "code",
      "metadata": {
        "id": "4OkiJa36sw5s",
        "outputId": "ae660c93-71ee-4d41-b7ce-046b02e4017d",
        "colab": {
          "base_uri": "https://localhost:8080/",
          "height": 1000
        }
      },
      "source": [
        "data_lm.train_ds.vocab.itos"
      ],
      "execution_count": 18,
      "outputs": [
        {
          "output_type": "execute_result",
          "data": {
            "text/plain": [
              "['xxunk',\n",
              " 'xxpad',\n",
              " 'xxbos',\n",
              " 'xxeos',\n",
              " 'xxfld',\n",
              " 'xxmaj',\n",
              " 'xxup',\n",
              " 'xxrep',\n",
              " 'xxwrep',\n",
              " 'pain',\n",
              " 'of',\n",
              " 'the',\n",
              " 'in',\n",
              " 'lipitor',\n",
              " 'and',\n",
              " 'to',\n",
              " 'a',\n",
              " 'muscle',\n",
              " 'with',\n",
              " 'for',\n",
              " 'was',\n",
              " 'diclofenac',\n",
              " 'were',\n",
              " 'severe',\n",
              " 'on',\n",
              " 'my',\n",
              " 'is',\n",
              " 'myalgia',\n",
              " 'lower',\n",
              " 'fatigue',\n",
              " 'rt',\n",
              " 'by',\n",
              " 'loss',\n",
              " 'cramp',\n",
              " 'weakness',\n",
              " 'limb',\n",
              " 'sodium',\n",
              " 'at',\n",
              " 'disease',\n",
              " 'stomach',\n",
              " 'that',\n",
              " 'or',\n",
              " 'as',\n",
              " 'depression',\n",
              " 'back',\n",
              " '-',\n",
              " 'patients',\n",
              " 'from',\n",
              " 'i',\n",
              " 'not',\n",
              " 'this',\n",
              " 'cramps',\n",
              " 'upper',\n",
              " 'joint',\n",
              " 'gas',\n",
              " 'memory',\n",
              " 'drug',\n",
              " 'leg',\n",
              " 'mg',\n",
              " 'you',\n",
              " 'all',\n",
              " 'legs',\n",
              " 'pains',\n",
              " 'headache',\n",
              " 'knee',\n",
              " 'be',\n",
              " 'are',\n",
              " 'group',\n",
              " 'shoulder',\n",
              " 'unable',\n",
              " 'study',\n",
              " 'arthralgia',\n",
              " 'gastrointestinal',\n",
              " 'neck',\n",
              " 'treatment',\n",
              " 'foot',\n",
              " 'excessive',\n",
              " 'arthritis',\n",
              " 'aches',\n",
              " 'after',\n",
              " 'it',\n",
              " 'hip',\n",
              " 'amp',\n",
              " 'an',\n",
              " 'have',\n",
              " 'numbness',\n",
              " 'arthrotec',\n",
              " 'voltaren',\n",
              " 'like',\n",
              " 'insomnia',\n",
              " 'p',\n",
              " 'increased',\n",
              " 'release',\n",
              " '/',\n",
              " 'no',\n",
              " 'both',\n",
              " 'time',\n",
              " 'nausea',\n",
              " 'bleeding',\n",
              " 'gluten',\n",
              " 'asthenia',\n",
              " 'tired',\n",
              " 'can',\n",
              " 'heart',\n",
              " 'skin',\n",
              " 'walk',\n",
              " 'could',\n",
              " 'swelling',\n",
              " 'problems',\n",
              " 'abdominal',\n",
              " 'dizziness',\n",
              " 'feeling',\n",
              " 'blood',\n",
              " 'walking',\n",
              " 'up',\n",
              " 'high',\n",
              " 'than',\n",
              " 'feet',\n",
              " 'we',\n",
              " 'difficulty',\n",
              " 'out',\n",
              " 'muscles',\n",
              " 'chest',\n",
              " 'effect',\n",
              " 'free',\n",
              " 'hand',\n",
              " 'low',\n",
              " 'more',\n",
              " 'ache',\n",
              " 'cholesterol',\n",
              " 'hair',\n",
              " 'zocor',\n",
              " 'stiffness',\n",
              " 'acid',\n",
              " 'backache',\n",
              " 'inflammatory',\n",
              " 'very',\n",
              " 'new',\n",
              " 'burning',\n",
              " 'extreme',\n",
              " 'vision',\n",
              " 'compared',\n",
              " 'weight',\n",
              " 'using',\n",
              " 'liver',\n",
              " 'effects',\n",
              " 'pins',\n",
              " 'needles',\n",
              " 'sleep',\n",
              " 'right',\n",
              " 'between',\n",
              " 'your',\n",
              " 'groups',\n",
              " 'has',\n",
              " 'diarrhoea',\n",
              " 'about',\n",
              " 'two',\n",
              " 'h',\n",
              " 'cramping',\n",
              " 'amnesia',\n",
              " 'day',\n",
              " 'significant',\n",
              " 'our',\n",
              " 'its',\n",
              " 'significantly',\n",
              " 'these',\n",
              " 'concentration',\n",
              " 'use',\n",
              " 'left',\n",
              " 'drugs',\n",
              " 'calf',\n",
              " 'impairment',\n",
              " 'had',\n",
              " 'c',\n",
              " 'one',\n",
              " 'disability',\n",
              " 'term',\n",
              " 'short',\n",
              " 'tingling',\n",
              " 'do',\n",
              " 'potassium',\n",
              " 'lack',\n",
              " 'anxiety',\n",
              " 'anti',\n",
              " 'but',\n",
              " 'which',\n",
              " 'symptom',\n",
              " 'nt',\n",
              " 'used',\n",
              " 'pressure',\n",
              " 'bloating',\n",
              " 'dose',\n",
              " 'results',\n",
              " 's',\n",
              " 'constipation',\n",
              " 'glutenfree',\n",
              " 'when',\n",
              " 'stiff',\n",
              " 'placebo',\n",
              " 'what',\n",
              " 'over',\n",
              " 'also',\n",
              " 'poor',\n",
              " 'reduced',\n",
              " 'disorder',\n",
              " 'body',\n",
              " 'so',\n",
              " 'efficacy',\n",
              " 'hands',\n",
              " 'm',\n",
              " 'there',\n",
              " 'ds',\n",
              " 'days',\n",
              " 'celiac',\n",
              " 'may',\n",
              " 'been',\n",
              " 'arm',\n",
              " 'headaches',\n",
              " 'ml',\n",
              " 'acute',\n",
              " 'visual',\n",
              " 'balance',\n",
              " 'treated',\n",
              " 'get',\n",
              " 'sore',\n",
              " 'now',\n",
              " 'neuropathy',\n",
              " 'ankle',\n",
              " 'w',\n",
              " 'joints',\n",
              " 'arms',\n",
              " 'pravachol',\n",
              " 'showed',\n",
              " 'blurred',\n",
              " 'well',\n",
              " 'serum',\n",
              " 'symptoms',\n",
              " 'topical',\n",
              " 'products',\n",
              " 'different',\n",
              " 'administration',\n",
              " 'food',\n",
              " 'control',\n",
              " 'during',\n",
              " 'rash',\n",
              " 'myocardial',\n",
              " 'oral',\n",
              " 'non',\n",
              " 'into',\n",
              " 'hurt',\n",
              " 'their',\n",
              " 'infarction',\n",
              " 'test',\n",
              " 'rats',\n",
              " 'diabetes',\n",
              " 'tiredness',\n",
              " 'vertigo',\n",
              " 'myositis',\n",
              " 'damage',\n",
              " 'studies',\n",
              " 'rate',\n",
              " 'vaginal',\n",
              " 'renal',\n",
              " 'sensation',\n",
              " 'atorvastatin',\n",
              " 'via',\n",
              " 'painful',\n",
              " 'generalised',\n",
              " 'clinical',\n",
              " 'energy',\n",
              " 'mentally',\n",
              " 'swollen',\n",
              " 'other',\n",
              " 'if',\n",
              " 'decreased',\n",
              " 'atrophy',\n",
              " 'diarrhea',\n",
              " 'who',\n",
              " 'constant',\n",
              " 'attack',\n",
              " 'itching',\n",
              " 'how',\n",
              " 'first',\n",
              " 'upset',\n",
              " ')',\n",
              " 'found',\n",
              " 'plasma',\n",
              " 'did',\n",
              " 'levels',\n",
              " 'type',\n",
              " 'diet',\n",
              " 'ph',\n",
              " 'respectively',\n",
              " \"'s\",\n",
              " ',',\n",
              " 'gain',\n",
              " 'induced',\n",
              " 'ubidecarenone',\n",
              " 'nsaids',\n",
              " 'method',\n",
              " 'gel',\n",
              " 'raised',\n",
              " 'chronic',\n",
              " 'post',\n",
              " 'syndrome',\n",
              " 'tablets',\n",
              " 'hours',\n",
              " 'mean',\n",
              " 'movement',\n",
              " 'me',\n",
              " 'eye',\n",
              " 'effective',\n",
              " 'g',\n",
              " 'formulations',\n",
              " 'dry',\n",
              " 'period',\n",
              " 'observed',\n",
              " 'n',\n",
              " 'shoulders',\n",
              " \"n't\",\n",
              " 'only',\n",
              " 'formulation',\n",
              " 'solution',\n",
              " 'illness',\n",
              " 'feel',\n",
              " 'weak',\n",
              " '(',\n",
              " 'dull',\n",
              " 'elbow',\n",
              " 'received',\n",
              " 'three',\n",
              " 'tip',\n",
              " 'bad',\n",
              " 'review',\n",
              " 'spasm',\n",
              " 'urine',\n",
              " 'elevated',\n",
              " 'sleeping',\n",
              " 'present',\n",
              " 'those',\n",
              " 'influenza',\n",
              " 'analysis',\n",
              " 'each',\n",
              " 'crestor',\n",
              " 'ibuprofen',\n",
              " 'controlled',\n",
              " 'hazy',\n",
              " 'kidney',\n",
              " 'less',\n",
              " 'side',\n",
              " 'tendonitis',\n",
              " 'd',\n",
              " 'adverse',\n",
              " 'kg',\n",
              " 'exhaustion',\n",
              " 'discomfort',\n",
              " 'tablet',\n",
              " 'increase',\n",
              " 'just',\n",
              " 'reflux',\n",
              " 'spasms',\n",
              " 'level',\n",
              " 'abnormal',\n",
              " 'week',\n",
              " 'they',\n",
              " 'mood',\n",
              " 'some',\n",
              " 'flatulence',\n",
              " 'libido',\n",
              " 'heavy',\n",
              " 'activity',\n",
              " 'toe',\n",
              " 'knees',\n",
              " 'daily',\n",
              " 'problem',\n",
              " 'migraine',\n",
              " 'before',\n",
              " 'data',\n",
              " 'ca',\n",
              " 'function',\n",
              " 'analgesic',\n",
              " 'vitro',\n",
              " 'irritable',\n",
              " 'dblclick',\n",
              " 'most',\n",
              " 'inflammation',\n",
              " 'concentrations',\n",
              " 'bed',\n",
              " 'think',\n",
              " 'system',\n",
              " 'vomiting',\n",
              " 'pic',\n",
              " 'concentrate',\n",
              " 'myopathy',\n",
              " 'years',\n",
              " 'l',\n",
              " 'single',\n",
              " 'similar',\n",
              " 'fibromyalgia',\n",
              " 'randomized',\n",
              " 'following',\n",
              " 'patient',\n",
              " 'total',\n",
              " 'brain',\n",
              " 'multiple',\n",
              " 'sclerosis',\n",
              " 'weeks',\n",
              " 'injury',\n",
              " 'thigh',\n",
              " 'why',\n",
              " 'good',\n",
              " 'b',\n",
              " 'however',\n",
              " 'mellitus',\n",
              " 'mild',\n",
              " 'model',\n",
              " 'cold',\n",
              " 'will',\n",
              " 'evaluated',\n",
              " 'simvastatin',\n",
              " 'osteoarthritis',\n",
              " 'off',\n",
              " 'under',\n",
              " 'here',\n",
              " 'disturbance',\n",
              " 'menstrual',\n",
              " 'throat',\n",
              " 'higher',\n",
              " 'lightheadedness',\n",
              " 'check',\n",
              " 'changes',\n",
              " 'should',\n",
              " 'while',\n",
              " 'flu',\n",
              " 'obtained',\n",
              " 'nsaid',\n",
              " 'water',\n",
              " 'surgery',\n",
              " 'cells',\n",
              " 'know',\n",
              " 'double',\n",
              " 'due',\n",
              " 'difference',\n",
              " 'based',\n",
              " 'therapy',\n",
              " 'healthy',\n",
              " 'failure',\n",
              " 'eyes',\n",
              " 'relief',\n",
              " 'postoperative',\n",
              " 'wind',\n",
              " 'dissolution',\n",
              " 'confusion',\n",
              " 'swings',\n",
              " 'any',\n",
              " 't',\n",
              " 'help',\n",
              " 'order',\n",
              " 'head',\n",
              " 'tremor',\n",
              " 'hips',\n",
              " 'sweating',\n",
              " 'blind',\n",
              " 'being',\n",
              " 'differences',\n",
              " 'prepared',\n",
              " 'life',\n",
              " 'trial',\n",
              " 'love',\n",
              " 'impaired',\n",
              " 'combination',\n",
              " 'studied',\n",
              " 'oil',\n",
              " 'associated',\n",
              " 'such',\n",
              " 'general',\n",
              " 'malaise',\n",
              " 'cell',\n",
              " 'min',\n",
              " 'aching',\n",
              " 'vs',\n",
              " 'soreness',\n",
              " 'peripheral',\n",
              " 'application',\n",
              " 'doses',\n",
              " 'appetite',\n",
              " 'eat',\n",
              " 'ezetimibe',\n",
              " 'tinnitus',\n",
              " 'stairs',\n",
              " 'conditions',\n",
              " 'area',\n",
              " 'paraesthesia',\n",
              " 'celebrex',\n",
              " 'esters',\n",
              " 'administered',\n",
              " 'intolerance',\n",
              " 'stress',\n",
              " 'make',\n",
              " 'events',\n",
              " 'four',\n",
              " 'times',\n",
              " 'coated',\n",
              " 'ankles',\n",
              " 'does',\n",
              " 'finger',\n",
              " 'calves',\n",
              " 'change',\n",
              " 'great',\n",
              " 'nonsteroidal',\n",
              " 'absorption',\n",
              " 'urinary',\n",
              " 'infection',\n",
              " 'ascorbic',\n",
              " 'given',\n",
              " 'performed',\n",
              " 'thanks',\n",
              " 'rapid',\n",
              " 'containing',\n",
              " 'developed',\n",
              " 'sensitivity',\n",
              " 'gastric',\n",
              " 'toes',\n",
              " 'without',\n",
              " 'night',\n",
              " 'reported',\n",
              " 'going',\n",
              " 'always',\n",
              " 'through',\n",
              " 'safety',\n",
              " 'investigated',\n",
              " 'values',\n",
              " 'cough',\n",
              " 're',\n",
              " 'charleyhorse',\n",
              " 'down',\n",
              " 'either',\n",
              " 'rheumatoid',\n",
              " '1',\n",
              " 'better',\n",
              " 'vitamin',\n",
              " 'phase',\n",
              " 'x',\n",
              " 'motivation',\n",
              " 'need',\n",
              " 'enzymes',\n",
              " 'swallowing',\n",
              " 'us',\n",
              " '2',\n",
              " 'gfb',\n",
              " 'v',\n",
              " 'heel',\n",
              " 'paracetamol',\n",
              " 'excruciating',\n",
              " 'range',\n",
              " 'tendon',\n",
              " 'hot',\n",
              " 'reduction',\n",
              " 'response',\n",
              " 'related',\n",
              " 'depressed',\n",
              " 'palpitations',\n",
              " 'indigestion',\n",
              " 'parameters',\n",
              " 'ratio',\n",
              " 'mm',\n",
              " 'e',\n",
              " 'number',\n",
              " 'within',\n",
              " 'strength',\n",
              " 'show',\n",
              " 'face',\n",
              " 'dyspnoea',\n",
              " 'properties',\n",
              " 'auc',\n",
              " 'posted',\n",
              " 'restless',\n",
              " 'lateral',\n",
              " 'taste',\n",
              " 'subjects',\n",
              " 'included',\n",
              " 'getting',\n",
              " 'assessed',\n",
              " 'minutes',\n",
              " 'people',\n",
              " 'recipe',\n",
              " 'parkinson',\n",
              " 'risk',\n",
              " 'long',\n",
              " 'speech',\n",
              " 'size',\n",
              " 'intense',\n",
              " 'nerve',\n",
              " 'oa',\n",
              " 'delivery',\n",
              " 'potential',\n",
              " 'every',\n",
              " 'dark',\n",
              " 'vivo',\n",
              " 'felt',\n",
              " 'lupus',\n",
              " 'samples',\n",
              " 'clearly',\n",
              " 'steroidal',\n",
              " 'primary',\n",
              " 'statistically',\n",
              " 'terrible',\n",
              " '30',\n",
              " 'fingers',\n",
              " 'measured',\n",
              " 'best',\n",
              " 'even',\n",
              " 'decrease',\n",
              " 'compare',\n",
              " 'menopause',\n",
              " 'form',\n",
              " 'fish',\n",
              " 'injection',\n",
              " 'major',\n",
              " 'active',\n",
              " 'scale',\n",
              " 'applied',\n",
              " 'then',\n",
              " 'therapeutic',\n",
              " 'evaluate',\n",
              " 'many',\n",
              " 'year',\n",
              " 'big',\n",
              " 'gout',\n",
              " 'ng',\n",
              " 'liquid',\n",
              " 'overall',\n",
              " 'indomethacin',\n",
              " 'advil',\n",
              " 'twitch',\n",
              " 'provoked',\n",
              " 'tips',\n",
              " 'ability',\n",
              " 'heres',\n",
              " 'k',\n",
              " 'normal',\n",
              " 'health',\n",
              " '\\r \\n ',\n",
              " 'tightness',\n",
              " 'co',\n",
              " 'breathing',\n",
              " 'development',\n",
              " 'medication',\n",
              " 'much',\n",
              " 'edema',\n",
              " 'reaction',\n",
              " 'read',\n",
              " 'bone',\n",
              " 'determined',\n",
              " 'colic',\n",
              " 'dreams',\n",
              " '3',\n",
              " 'ii',\n",
              " 'creatinine',\n",
              " 'fever',\n",
              " 'baseline',\n",
              " 'addition',\n",
              " 'aqueous',\n",
              " 'limbs',\n",
              " 'light',\n",
              " 'living',\n",
              " 'sinus',\n",
              " 'sustained',\n",
              " 'ulcer',\n",
              " 'jennieo',\n",
              " 'process',\n",
              " 'archives',\n",
              " 'trouble',\n",
              " 'drowsy',\n",
              " 'tissue',\n",
              " 'months',\n",
              " 'bowel',\n",
              " 'wrist',\n",
              " 'because',\n",
              " 'bioavailability',\n",
              " 'misoprostol',\n",
              " 'hypertension',\n",
              " 'available',\n",
              " 'tested',\n",
              " 'same',\n",
              " 'moderate',\n",
              " 'uterine',\n",
              " 'mobility',\n",
              " 'greater',\n",
              " 'tolerability',\n",
              " 'made',\n",
              " 'nasal',\n",
              " 'aspirin',\n",
              " 'month',\n",
              " 'go',\n",
              " 'fog',\n",
              " 'polymer',\n",
              " 'dependent',\n",
              " 'article',\n",
              " 'mice',\n",
              " 'protein',\n",
              " 'per',\n",
              " 'trials',\n",
              " 'human',\n",
              " 'mouth',\n",
              " 'various',\n",
              " 'would',\n",
              " 'o',\n",
              " 'twitching',\n",
              " 'news',\n",
              " 'revealed',\n",
              " 'important',\n",
              " 'safe',\n",
              " 'treatments',\n",
              " 'amyotrophic',\n",
              " 'heartburn',\n",
              " 'cancer',\n",
              " 'cd',\n",
              " 'finding',\n",
              " 'chicken',\n",
              " 'breath',\n",
              " 'demonstrated',\n",
              " 'today',\n",
              " 'action',\n",
              " 'coq10',\n",
              " 'tract',\n",
              " 'find',\n",
              " 'fenofibrate',\n",
              " 'na',\n",
              " 'scores',\n",
              " 'matrix',\n",
              " 'where',\n",
              " 'randomly',\n",
              " '10',\n",
              " 'tylenol',\n",
              " 'inhibitor',\n",
              " 'indicated',\n",
              " 'dosage',\n",
              " 'exercise',\n",
              " 'aim',\n",
              " 'horses',\n",
              " 'suggest',\n",
              " 'part',\n",
              " 'follow',\n",
              " 'sick',\n",
              " 'shown',\n",
              " 'end',\n",
              " 'want',\n",
              " 'eating',\n",
              " 'way',\n",
              " 'sugar',\n",
              " 'attacks',\n",
              " 'standard',\n",
              " 'morning',\n",
              " 'onset',\n",
              " 'moody',\n",
              " 'plantar',\n",
              " 'take',\n",
              " 'formation',\n",
              " 'physical',\n",
              " 'tolerated',\n",
              " 'caused',\n",
              " 'sharp',\n",
              " 'presence',\n",
              " 'volunteers',\n",
              " 'thighs',\n",
              " 'move',\n",
              " 'followed',\n",
              " 'male',\n",
              " 'common',\n",
              " 'still',\n",
              " 'although',\n",
              " 'initial',\n",
              " 'intensity',\n",
              " 'pulse',\n",
              " 'animals',\n",
              " 'tight',\n",
              " 'further',\n",
              " 'alpha',\n",
              " 'generally',\n",
              " '5',\n",
              " 'hour',\n",
              " 'agents',\n",
              " 'age',\n",
              " 'cerebrovascular',\n",
              " 'complex',\n",
              " '+',\n",
              " 'local',\n",
              " 'facial',\n",
              " 'cox',\n",
              " 'divided',\n",
              " 'drive',\n",
              " 'fast',\n",
              " 'growth',\n",
              " 'content',\n",
              " 'six',\n",
              " 'exposure',\n",
              " 'whereas',\n",
              " 'naproxen',\n",
              " 'permeation',\n",
              " 'score',\n",
              " 'aleve',\n",
              " 'ever',\n",
              " 'intestinal',\n",
              " 'determine',\n",
              " 'started',\n",
              " 'tolerance',\n",
              " 'agent',\n",
              " 'including',\n",
              " 'case',\n",
              " 'provide',\n",
              " 'extremity',\n",
              " 'among',\n",
              " 'share',\n",
              " 'hardly',\n",
              " 'diagnosed',\n",
              " 'oedema',\n",
              " 'lost',\n",
              " 'accident',\n",
              " 'diagnosis',\n",
              " 'alone',\n",
              " 'please',\n",
              " 'mechanism',\n",
              " 'lethargy',\n",
              " 'profiles',\n",
              " 'charley',\n",
              " 'nervous',\n",
              " 'ringing',\n",
              " 'fatigued',\n",
              " 'elbows',\n",
              " 'surface',\n",
              " 'sex',\n",
              " 'thoughts',\n",
              " 'numb',\n",
              " 'natural',\n",
              " 'care',\n",
              " 'conducted',\n",
              " 'relative',\n",
              " 'cases',\n",
              " 'vas',\n",
              " 'difficult',\n",
              " '\\r \\n \\r \\n ',\n",
              " 'things',\n",
              " 'microspheres',\n",
              " 'vehicle',\n",
              " 'research',\n",
              " 'pharmaceutical',\n",
              " 'plus',\n",
              " 'coronary',\n",
              " 'congestion',\n",
              " 'tricor',\n",
              " 'product',\n",
              " 'work',\n",
              " 'awareness',\n",
              " 'issues',\n",
              " 'sensitive',\n",
              " 'improved',\n",
              " 'th',\n",
              " 'malignant',\n",
              " 'hard',\n",
              " 'corneal',\n",
              " 'peak',\n",
              " 'panic',\n",
              " 'slurred',\n",
              " 'f',\n",
              " 'inhibition',\n",
              " 'got',\n",
              " 'rat',\n",
              " 'loose',\n",
              " 'evaluation',\n",
              " 'barely',\n",
              " '4',\n",
              " 'global',\n",
              " 'pizza',\n",
              " 'happy',\n",
              " 'around',\n",
              " 'pre',\n",
              " 'irregular',\n",
              " 'rhabdomyolysis',\n",
              " 'u',\n",
              " 'achieved',\n",
              " 'resulted',\n",
              " 'fluid',\n",
              " 'extremely',\n",
              " 'blog',\n",
              " 'zetia',\n",
              " 'ldl',\n",
              " 'improvement',\n",
              " 'experimental',\n",
              " 'top',\n",
              " 'systemic',\n",
              " 'r',\n",
              " 'looks',\n",
              " 'diabetic',\n",
              " 'mental',\n",
              " 'analgesia',\n",
              " 'old',\n",
              " 'ethyl',\n",
              " 'combined',\n",
              " 'stamina',\n",
              " 'versus',\n",
              " 'shortness',\n",
              " 'eczema',\n",
              " 'fasciitis',\n",
              " 'least',\n",
              " 'central',\n",
              " 'assessment',\n",
              " 'preparation',\n",
              " 'against',\n",
              " 'profile',\n",
              " 'evidence',\n",
              " 'enteric',\n",
              " 'periods',\n",
              " 'degrees',\n",
              " 'might',\n",
              " 'pruritus',\n",
              " 'frequent',\n",
              " 'according',\n",
              " 'deep',\n",
              " 'ear',\n",
              " 'little',\n",
              " 'gf',\n",
              " 'amount',\n",
              " 'density',\n",
              " 'film',\n",
              " 'cm',\n",
              " 'reference',\n",
              " 'condition',\n",
              " 'efficiency',\n",
              " 'cmax',\n",
              " 'support',\n",
              " 'tension',\n",
              " 'calcium',\n",
              " 'pharmacokinetic',\n",
              " 'able',\n",
              " 'allergic',\n",
              " 'temperature',\n",
              " 'gi',\n",
              " 'sensations',\n",
              " 'production',\n",
              " 'super',\n",
              " 'participants',\n",
              " 'easy',\n",
              " 'affected',\n",
              " 'liptor',\n",
              " 'beads',\n",
              " 'once',\n",
              " 'soup',\n",
              " 'ms',\n",
              " 'complete',\n",
              " 'strain',\n",
              " 'too',\n",
              " 'dizzy',\n",
              " 'cause',\n",
              " 'ocular',\n",
              " 'region',\n",
              " 'achilles',\n",
              " 'increasing',\n",
              " 'five',\n",
              " 'ci',\n",
              " 'hunger',\n",
              " 'cookbook',\n",
              " 'site',\n",
              " 'carried',\n",
              " 'technique',\n",
              " 'lesions',\n",
              " 'venous',\n",
              " 'neurontin',\n",
              " 'secondary',\n",
              " 'quality',\n",
              " 'produced',\n",
              " 'expression',\n",
              " 'serious',\n",
              " 'considered',\n",
              " 'slow',\n",
              " 'see',\n",
              " 'saline',\n",
              " 'recorded',\n",
              " 'try',\n",
              " 'flushing',\n",
              " 'medical',\n",
              " 'commercial',\n",
              " 'duration',\n",
              " 'capsules',\n",
              " 'flow',\n",
              " 'linked',\n",
              " 'third',\n",
              " 'whole',\n",
              " 'dr',\n",
              " 'maximum',\n",
              " 'characterized',\n",
              " 'needed',\n",
              " 'erythema',\n",
              " 'rates',\n",
              " 'hypersomnia',\n",
              " 'examined',\n",
              " 'extent',\n",
              " 'erythematosus',\n",
              " 'small',\n",
              " 'inhibited',\n",
              " ...]"
            ]
          },
          "metadata": {
            "tags": []
          },
          "execution_count": 18
        }
      ]
    },
    {
      "cell_type": "code",
      "metadata": {
        "id": "yPWr03mls3VT",
        "outputId": "5b023b11-bb8e-4fb7-d7b9-f21c4a69e3e7",
        "colab": {
          "base_uri": "https://localhost:8080/",
          "height": 17
        }
      },
      "source": [
        "model_path = path/'models'\n",
        "model_path.mkdir(exist_ok=True)\n",
        "url = 'http://files.fast.ai/models/wt103_v1/'\n",
        "download_url(f'{url}lstm_wt103.pth', model_path/'lstm_wt103.pth')\n",
        "download_url(f'{url}itos_wt103.pkl', model_path/'itos_wt103.pkl')"
      ],
      "execution_count": 19,
      "outputs": [
        {
          "output_type": "display_data",
          "data": {
            "text/html": [
              ""
            ],
            "text/plain": [
              "<IPython.core.display.HTML object>"
            ]
          },
          "metadata": {
            "tags": []
          }
        },
        {
          "output_type": "display_data",
          "data": {
            "text/html": [
              ""
            ],
            "text/plain": [
              "<IPython.core.display.HTML object>"
            ]
          },
          "metadata": {
            "tags": []
          }
        }
      ]
    },
    {
      "cell_type": "code",
      "metadata": {
        "id": "JRzvWg8RtGGr",
        "outputId": "42c526e8-ea69-4b97-a9f8-0aca48f0c7d6",
        "colab": {
          "base_uri": "https://localhost:8080/",
          "height": 34
        }
      },
      "source": [
        "learn = language_model_learner(data_lm, AWD_LSTM, drop_mult=0.5)"
      ],
      "execution_count": 20,
      "outputs": [
        {
          "output_type": "stream",
          "text": [
            "Downloading https://s3.amazonaws.com/fast-ai-modelzoo/wt103-fwd.tgz\n"
          ],
          "name": "stdout"
        },
        {
          "output_type": "display_data",
          "data": {
            "text/html": [
              ""
            ],
            "text/plain": [
              "<IPython.core.display.HTML object>"
            ]
          },
          "metadata": {
            "tags": []
          }
        }
      ]
    },
    {
      "cell_type": "code",
      "metadata": {
        "id": "xKK7GeBev7Xn",
        "outputId": "f1724cc8-890f-4c80-ecf2-6168c6ecaa2f",
        "colab": {
          "base_uri": "https://localhost:8080/",
          "height": 80
        }
      },
      "source": [
        "learn.fit_one_cycle(1, 1e-2)"
      ],
      "execution_count": 21,
      "outputs": [
        {
          "output_type": "display_data",
          "data": {
            "text/html": [
              "<table border=\"1\" class=\"dataframe\">\n",
              "  <thead>\n",
              "    <tr style=\"text-align: left;\">\n",
              "      <th>epoch</th>\n",
              "      <th>train_loss</th>\n",
              "      <th>valid_loss</th>\n",
              "      <th>accuracy</th>\n",
              "      <th>time</th>\n",
              "    </tr>\n",
              "  </thead>\n",
              "  <tbody>\n",
              "    <tr>\n",
              "      <td>0</td>\n",
              "      <td>3.856086</td>\n",
              "      <td>3.501384</td>\n",
              "      <td>0.440554</td>\n",
              "      <td>33:23</td>\n",
              "    </tr>\n",
              "  </tbody>\n",
              "</table>"
            ],
            "text/plain": [
              "<IPython.core.display.HTML object>"
            ]
          },
          "metadata": {
            "tags": []
          }
        }
      ]
    },
    {
      "cell_type": "code",
      "metadata": {
        "id": "iB7rHGQCwd12"
      },
      "source": [
        "# learn.fit_one_cycle(1, 1e-2)"
      ],
      "execution_count": 22,
      "outputs": []
    },
    {
      "cell_type": "code",
      "metadata": {
        "id": "_BnSuAeCwkBe"
      },
      "source": [
        "# learn.fit_one_cycle(1, 1e-3)"
      ],
      "execution_count": 23,
      "outputs": []
    },
    {
      "cell_type": "code",
      "metadata": {
        "id": "MuTm-RFjwrEX",
        "outputId": "a3f52ef6-171f-4536-d2d4-b9811ba97b42",
        "colab": {
          "base_uri": "https://localhost:8080/",
          "height": 80
        }
      },
      "source": [
        "learn.fit_one_cycle(1, 1e-3)"
      ],
      "execution_count": 24,
      "outputs": [
        {
          "output_type": "display_data",
          "data": {
            "text/html": [
              "<table border=\"1\" class=\"dataframe\">\n",
              "  <thead>\n",
              "    <tr style=\"text-align: left;\">\n",
              "      <th>epoch</th>\n",
              "      <th>train_loss</th>\n",
              "      <th>valid_loss</th>\n",
              "      <th>accuracy</th>\n",
              "      <th>time</th>\n",
              "    </tr>\n",
              "  </thead>\n",
              "  <tbody>\n",
              "    <tr>\n",
              "      <td>0</td>\n",
              "      <td>3.516645</td>\n",
              "      <td>3.440894</td>\n",
              "      <td>0.445312</td>\n",
              "      <td>33:00</td>\n",
              "    </tr>\n",
              "  </tbody>\n",
              "</table>"
            ],
            "text/plain": [
              "<IPython.core.display.HTML object>"
            ]
          },
          "metadata": {
            "tags": []
          }
        }
      ]
    },
    {
      "cell_type": "code",
      "metadata": {
        "id": "1Er2ExO8wr7Y"
      },
      "source": [
        "learn.save_encoder('pubmed_cadec_askpatient_mixed_fold1_first')"
      ],
      "execution_count": 25,
      "outputs": []
    },
    {
      "cell_type": "code",
      "metadata": {
        "id": "z52cZs2qwvad",
        "outputId": "b6a4ac5c-9bc9-4c3d-891e-76d659536c3a",
        "colab": {
          "base_uri": "https://localhost:8080/",
          "height": 80
        }
      },
      "source": [
        "learn = text_classifier_learner(data_clas,AWD_LSTM, drop_mult=0.5)\n",
        "learn.load_encoder('pubmed_cadec_askpatient_mixed_fold1_first')\n",
        "learn.fit_one_cycle(1, 1e-2)"
      ],
      "execution_count": 26,
      "outputs": [
        {
          "output_type": "display_data",
          "data": {
            "text/html": [
              "<table border=\"1\" class=\"dataframe\">\n",
              "  <thead>\n",
              "    <tr style=\"text-align: left;\">\n",
              "      <th>epoch</th>\n",
              "      <th>train_loss</th>\n",
              "      <th>valid_loss</th>\n",
              "      <th>accuracy</th>\n",
              "      <th>time</th>\n",
              "    </tr>\n",
              "  </thead>\n",
              "  <tbody>\n",
              "    <tr>\n",
              "      <td>0</td>\n",
              "      <td>3.789699</td>\n",
              "      <td>3.705876</td>\n",
              "      <td>0.353511</td>\n",
              "      <td>01:03</td>\n",
              "    </tr>\n",
              "  </tbody>\n",
              "</table>"
            ],
            "text/plain": [
              "<IPython.core.display.HTML object>"
            ]
          },
          "metadata": {
            "tags": []
          }
        }
      ]
    },
    {
      "cell_type": "code",
      "metadata": {
        "id": "ImwQP1PJwzxd",
        "outputId": "5fe336cb-f645-4b56-de5a-ab9e050b0a1f",
        "colab": {
          "base_uri": "https://localhost:8080/",
          "height": 80
        }
      },
      "source": [
        "learn.freeze_to(-2)\n",
        "learn.fit_one_cycle(1, slice(5e-3/2., 5e-3))"
      ],
      "execution_count": 27,
      "outputs": [
        {
          "output_type": "display_data",
          "data": {
            "text/html": [
              "<table border=\"1\" class=\"dataframe\">\n",
              "  <thead>\n",
              "    <tr style=\"text-align: left;\">\n",
              "      <th>epoch</th>\n",
              "      <th>train_loss</th>\n",
              "      <th>valid_loss</th>\n",
              "      <th>accuracy</th>\n",
              "      <th>time</th>\n",
              "    </tr>\n",
              "  </thead>\n",
              "  <tbody>\n",
              "    <tr>\n",
              "      <td>0</td>\n",
              "      <td>2.916974</td>\n",
              "      <td>3.166340</td>\n",
              "      <td>0.449153</td>\n",
              "      <td>01:15</td>\n",
              "    </tr>\n",
              "  </tbody>\n",
              "</table>"
            ],
            "text/plain": [
              "<IPython.core.display.HTML object>"
            ]
          },
          "metadata": {
            "tags": []
          }
        }
      ]
    },
    {
      "cell_type": "code",
      "metadata": {
        "id": "Owff_BJXw53u",
        "outputId": "31b0de19-0481-4e70-9c31-66edc6f16c69",
        "colab": {
          "base_uri": "https://localhost:8080/",
          "height": 80
        }
      },
      "source": [
        "learn.unfreeze()\n",
        "learn.fit_one_cycle(1, slice(2e-3/100, 2e-3))"
      ],
      "execution_count": 28,
      "outputs": [
        {
          "output_type": "display_data",
          "data": {
            "text/html": [
              "<table border=\"1\" class=\"dataframe\">\n",
              "  <thead>\n",
              "    <tr style=\"text-align: left;\">\n",
              "      <th>epoch</th>\n",
              "      <th>train_loss</th>\n",
              "      <th>valid_loss</th>\n",
              "      <th>accuracy</th>\n",
              "      <th>time</th>\n",
              "    </tr>\n",
              "  </thead>\n",
              "  <tbody>\n",
              "    <tr>\n",
              "      <td>0</td>\n",
              "      <td>2.219140</td>\n",
              "      <td>2.751706</td>\n",
              "      <td>0.526634</td>\n",
              "      <td>03:14</td>\n",
              "    </tr>\n",
              "  </tbody>\n",
              "</table>"
            ],
            "text/plain": [
              "<IPython.core.display.HTML object>"
            ]
          },
          "metadata": {
            "tags": []
          }
        }
      ]
    },
    {
      "cell_type": "code",
      "metadata": {
        "id": "lqAyu56V8Waq",
        "outputId": "d5b6015b-e512-4916-8343-b5f34cd2f6b2",
        "colab": {
          "base_uri": "https://localhost:8080/",
          "height": 111
        }
      },
      "source": [
        "learn.fit_one_cycle(2, slice(2e-3/100, 2e-3))"
      ],
      "execution_count": 29,
      "outputs": [
        {
          "output_type": "display_data",
          "data": {
            "text/html": [
              "<table border=\"1\" class=\"dataframe\">\n",
              "  <thead>\n",
              "    <tr style=\"text-align: left;\">\n",
              "      <th>epoch</th>\n",
              "      <th>train_loss</th>\n",
              "      <th>valid_loss</th>\n",
              "      <th>accuracy</th>\n",
              "      <th>time</th>\n",
              "    </tr>\n",
              "  </thead>\n",
              "  <tbody>\n",
              "    <tr>\n",
              "      <td>0</td>\n",
              "      <td>1.923966</td>\n",
              "      <td>2.438787</td>\n",
              "      <td>0.562954</td>\n",
              "      <td>03:05</td>\n",
              "    </tr>\n",
              "    <tr>\n",
              "      <td>1</td>\n",
              "      <td>1.601449</td>\n",
              "      <td>2.318713</td>\n",
              "      <td>0.587167</td>\n",
              "      <td>03:14</td>\n",
              "    </tr>\n",
              "  </tbody>\n",
              "</table>"
            ],
            "text/plain": [
              "<IPython.core.display.HTML object>"
            ]
          },
          "metadata": {
            "tags": []
          }
        }
      ]
    },
    {
      "cell_type": "code",
      "metadata": {
        "id": "a7I1xMRp8bUd",
        "outputId": "6da35d20-7952-4938-e11d-fef6482763f2",
        "colab": {
          "base_uri": "https://localhost:8080/",
          "height": 111
        }
      },
      "source": [
        "learn.fit_one_cycle(2, slice(2e-3/100, 2e-3))"
      ],
      "execution_count": 30,
      "outputs": [
        {
          "output_type": "display_data",
          "data": {
            "text/html": [
              "<table border=\"1\" class=\"dataframe\">\n",
              "  <thead>\n",
              "    <tr style=\"text-align: left;\">\n",
              "      <th>epoch</th>\n",
              "      <th>train_loss</th>\n",
              "      <th>valid_loss</th>\n",
              "      <th>accuracy</th>\n",
              "      <th>time</th>\n",
              "    </tr>\n",
              "  </thead>\n",
              "  <tbody>\n",
              "    <tr>\n",
              "      <td>0</td>\n",
              "      <td>1.525035</td>\n",
              "      <td>2.118743</td>\n",
              "      <td>0.613801</td>\n",
              "      <td>03:15</td>\n",
              "    </tr>\n",
              "    <tr>\n",
              "      <td>1</td>\n",
              "      <td>1.308045</td>\n",
              "      <td>1.973596</td>\n",
              "      <td>0.641647</td>\n",
              "      <td>03:15</td>\n",
              "    </tr>\n",
              "  </tbody>\n",
              "</table>"
            ],
            "text/plain": [
              "<IPython.core.display.HTML object>"
            ]
          },
          "metadata": {
            "tags": []
          }
        }
      ]
    },
    {
      "cell_type": "code",
      "metadata": {
        "id": "UAnti-XmGVfO",
        "outputId": "47362af1-4ded-4060-ccc0-90bd61bf5855",
        "colab": {
          "base_uri": "https://localhost:8080/",
          "height": 111
        }
      },
      "source": [
        "learn.fit_one_cycle(2, slice(2e-3/100, 2e-3))"
      ],
      "execution_count": 31,
      "outputs": [
        {
          "output_type": "display_data",
          "data": {
            "text/html": [
              "<table border=\"1\" class=\"dataframe\">\n",
              "  <thead>\n",
              "    <tr style=\"text-align: left;\">\n",
              "      <th>epoch</th>\n",
              "      <th>train_loss</th>\n",
              "      <th>valid_loss</th>\n",
              "      <th>accuracy</th>\n",
              "      <th>time</th>\n",
              "    </tr>\n",
              "  </thead>\n",
              "  <tbody>\n",
              "    <tr>\n",
              "      <td>0</td>\n",
              "      <td>1.193365</td>\n",
              "      <td>1.835360</td>\n",
              "      <td>0.661017</td>\n",
              "      <td>03:16</td>\n",
              "    </tr>\n",
              "    <tr>\n",
              "      <td>1</td>\n",
              "      <td>1.023279</td>\n",
              "      <td>1.773591</td>\n",
              "      <td>0.673123</td>\n",
              "      <td>03:11</td>\n",
              "    </tr>\n",
              "  </tbody>\n",
              "</table>"
            ],
            "text/plain": [
              "<IPython.core.display.HTML object>"
            ]
          },
          "metadata": {
            "tags": []
          }
        }
      ]
    },
    {
      "cell_type": "code",
      "metadata": {
        "id": "bIft7W25GwSu",
        "outputId": "043cb6cc-f00b-454e-d3d2-c734a60ceff5",
        "colab": {
          "base_uri": "https://localhost:8080/",
          "height": 111
        }
      },
      "source": [
        "learn.fit_one_cycle(2, slice(2e-3/100, 2e-3))"
      ],
      "execution_count": 32,
      "outputs": [
        {
          "output_type": "display_data",
          "data": {
            "text/html": [
              "<table border=\"1\" class=\"dataframe\">\n",
              "  <thead>\n",
              "    <tr style=\"text-align: left;\">\n",
              "      <th>epoch</th>\n",
              "      <th>train_loss</th>\n",
              "      <th>valid_loss</th>\n",
              "      <th>accuracy</th>\n",
              "      <th>time</th>\n",
              "    </tr>\n",
              "  </thead>\n",
              "  <tbody>\n",
              "    <tr>\n",
              "      <td>0</td>\n",
              "      <td>0.982615</td>\n",
              "      <td>1.698322</td>\n",
              "      <td>0.698547</td>\n",
              "      <td>03:16</td>\n",
              "    </tr>\n",
              "    <tr>\n",
              "      <td>1</td>\n",
              "      <td>0.877185</td>\n",
              "      <td>1.614114</td>\n",
              "      <td>0.703390</td>\n",
              "      <td>03:19</td>\n",
              "    </tr>\n",
              "  </tbody>\n",
              "</table>"
            ],
            "text/plain": [
              "<IPython.core.display.HTML object>"
            ]
          },
          "metadata": {
            "tags": []
          }
        }
      ]
    },
    {
      "cell_type": "code",
      "metadata": {
        "id": "EEHszVRvGyFt",
        "outputId": "5291f65e-f56b-49e7-a11f-1248120cbecf",
        "colab": {
          "base_uri": "https://localhost:8080/",
          "height": 111
        }
      },
      "source": [
        "learn.fit_one_cycle(2, slice(2e-3/100, 2e-3))"
      ],
      "execution_count": 33,
      "outputs": [
        {
          "output_type": "display_data",
          "data": {
            "text/html": [
              "<table border=\"1\" class=\"dataframe\">\n",
              "  <thead>\n",
              "    <tr style=\"text-align: left;\">\n",
              "      <th>epoch</th>\n",
              "      <th>train_loss</th>\n",
              "      <th>valid_loss</th>\n",
              "      <th>accuracy</th>\n",
              "      <th>time</th>\n",
              "    </tr>\n",
              "  </thead>\n",
              "  <tbody>\n",
              "    <tr>\n",
              "      <td>0</td>\n",
              "      <td>0.777188</td>\n",
              "      <td>1.610670</td>\n",
              "      <td>0.714286</td>\n",
              "      <td>03:07</td>\n",
              "    </tr>\n",
              "    <tr>\n",
              "      <td>1</td>\n",
              "      <td>0.735961</td>\n",
              "      <td>1.481336</td>\n",
              "      <td>0.726392</td>\n",
              "      <td>03:15</td>\n",
              "    </tr>\n",
              "  </tbody>\n",
              "</table>"
            ],
            "text/plain": [
              "<IPython.core.display.HTML object>"
            ]
          },
          "metadata": {
            "tags": []
          }
        }
      ]
    },
    {
      "cell_type": "code",
      "metadata": {
        "id": "XsHfrhCHG3dN",
        "outputId": "ec8106b3-4a99-4d7f-ba1f-ca4c2eae0295",
        "colab": {
          "base_uri": "https://localhost:8080/",
          "height": 173
        }
      },
      "source": [
        "learn.fit_one_cycle(4, slice(2e-3/100, 2e-3))"
      ],
      "execution_count": 34,
      "outputs": [
        {
          "output_type": "display_data",
          "data": {
            "text/html": [
              "<table border=\"1\" class=\"dataframe\">\n",
              "  <thead>\n",
              "    <tr style=\"text-align: left;\">\n",
              "      <th>epoch</th>\n",
              "      <th>train_loss</th>\n",
              "      <th>valid_loss</th>\n",
              "      <th>accuracy</th>\n",
              "      <th>time</th>\n",
              "    </tr>\n",
              "  </thead>\n",
              "  <tbody>\n",
              "    <tr>\n",
              "      <td>0</td>\n",
              "      <td>0.692227</td>\n",
              "      <td>1.462419</td>\n",
              "      <td>0.726392</td>\n",
              "      <td>03:19</td>\n",
              "    </tr>\n",
              "    <tr>\n",
              "      <td>1</td>\n",
              "      <td>0.685005</td>\n",
              "      <td>1.411828</td>\n",
              "      <td>0.739709</td>\n",
              "      <td>03:07</td>\n",
              "    </tr>\n",
              "    <tr>\n",
              "      <td>2</td>\n",
              "      <td>0.542895</td>\n",
              "      <td>1.358350</td>\n",
              "      <td>0.748184</td>\n",
              "      <td>03:19</td>\n",
              "    </tr>\n",
              "    <tr>\n",
              "      <td>3</td>\n",
              "      <td>0.478326</td>\n",
              "      <td>1.354343</td>\n",
              "      <td>0.753027</td>\n",
              "      <td>03:11</td>\n",
              "    </tr>\n",
              "  </tbody>\n",
              "</table>"
            ],
            "text/plain": [
              "<IPython.core.display.HTML object>"
            ]
          },
          "metadata": {
            "tags": []
          }
        }
      ]
    },
    {
      "cell_type": "code",
      "metadata": {
        "id": "0Zsd99isb9EQ",
        "outputId": "ba6f8866-f03d-4d61-bfe7-114bb1d2ddd1",
        "colab": {
          "base_uri": "https://localhost:8080/",
          "height": 173
        }
      },
      "source": [
        "learn.fit_one_cycle(4, slice(2e-3/100, 2e-3))"
      ],
      "execution_count": 35,
      "outputs": [
        {
          "output_type": "display_data",
          "data": {
            "text/html": [
              "<table border=\"1\" class=\"dataframe\">\n",
              "  <thead>\n",
              "    <tr style=\"text-align: left;\">\n",
              "      <th>epoch</th>\n",
              "      <th>train_loss</th>\n",
              "      <th>valid_loss</th>\n",
              "      <th>accuracy</th>\n",
              "      <th>time</th>\n",
              "    </tr>\n",
              "  </thead>\n",
              "  <tbody>\n",
              "    <tr>\n",
              "      <td>0</td>\n",
              "      <td>0.486288</td>\n",
              "      <td>1.384000</td>\n",
              "      <td>0.750605</td>\n",
              "      <td>03:03</td>\n",
              "    </tr>\n",
              "    <tr>\n",
              "      <td>1</td>\n",
              "      <td>0.519857</td>\n",
              "      <td>1.318882</td>\n",
              "      <td>0.754237</td>\n",
              "      <td>03:21</td>\n",
              "    </tr>\n",
              "    <tr>\n",
              "      <td>2</td>\n",
              "      <td>0.419518</td>\n",
              "      <td>1.303305</td>\n",
              "      <td>0.774818</td>\n",
              "      <td>03:14</td>\n",
              "    </tr>\n",
              "    <tr>\n",
              "      <td>3</td>\n",
              "      <td>0.360943</td>\n",
              "      <td>1.290609</td>\n",
              "      <td>0.769976</td>\n",
              "      <td>03:17</td>\n",
              "    </tr>\n",
              "  </tbody>\n",
              "</table>"
            ],
            "text/plain": [
              "<IPython.core.display.HTML object>"
            ]
          },
          "metadata": {
            "tags": []
          }
        }
      ]
    },
    {
      "cell_type": "code",
      "metadata": {
        "id": "atNWNKDFPbuI",
        "outputId": "7a7a6938-d6db-43f6-9548-4deb637cbbac",
        "colab": {
          "base_uri": "https://localhost:8080/",
          "height": 173
        }
      },
      "source": [
        "learn.fit_one_cycle(4, slice(2e-3/100, 2e-3))"
      ],
      "execution_count": 36,
      "outputs": [
        {
          "output_type": "display_data",
          "data": {
            "text/html": [
              "<table border=\"1\" class=\"dataframe\">\n",
              "  <thead>\n",
              "    <tr style=\"text-align: left;\">\n",
              "      <th>epoch</th>\n",
              "      <th>train_loss</th>\n",
              "      <th>valid_loss</th>\n",
              "      <th>accuracy</th>\n",
              "      <th>time</th>\n",
              "    </tr>\n",
              "  </thead>\n",
              "  <tbody>\n",
              "    <tr>\n",
              "      <td>0</td>\n",
              "      <td>0.391481</td>\n",
              "      <td>1.310731</td>\n",
              "      <td>0.768765</td>\n",
              "      <td>03:13</td>\n",
              "    </tr>\n",
              "    <tr>\n",
              "      <td>1</td>\n",
              "      <td>0.394786</td>\n",
              "      <td>1.305242</td>\n",
              "      <td>0.767554</td>\n",
              "      <td>03:20</td>\n",
              "    </tr>\n",
              "    <tr>\n",
              "      <td>2</td>\n",
              "      <td>0.351055</td>\n",
              "      <td>1.253578</td>\n",
              "      <td>0.784504</td>\n",
              "      <td>03:12</td>\n",
              "    </tr>\n",
              "    <tr>\n",
              "      <td>3</td>\n",
              "      <td>0.312173</td>\n",
              "      <td>1.219283</td>\n",
              "      <td>0.786925</td>\n",
              "      <td>03:11</td>\n",
              "    </tr>\n",
              "  </tbody>\n",
              "</table>"
            ],
            "text/plain": [
              "<IPython.core.display.HTML object>"
            ]
          },
          "metadata": {
            "tags": []
          }
        }
      ]
    },
    {
      "cell_type": "code",
      "metadata": {
        "id": "rKrBTZ0T1uVA",
        "outputId": "a0c6265a-e3b7-4f36-bd6b-63076ba84bb0",
        "colab": {
          "base_uri": "https://localhost:8080/",
          "height": 173
        }
      },
      "source": [
        "learn.fit_one_cycle(4, slice(2e-3/100, 2e-3))"
      ],
      "execution_count": 37,
      "outputs": [
        {
          "output_type": "display_data",
          "data": {
            "text/html": [
              "<table border=\"1\" class=\"dataframe\">\n",
              "  <thead>\n",
              "    <tr style=\"text-align: left;\">\n",
              "      <th>epoch</th>\n",
              "      <th>train_loss</th>\n",
              "      <th>valid_loss</th>\n",
              "      <th>accuracy</th>\n",
              "      <th>time</th>\n",
              "    </tr>\n",
              "  </thead>\n",
              "  <tbody>\n",
              "    <tr>\n",
              "      <td>0</td>\n",
              "      <td>0.301570</td>\n",
              "      <td>1.275028</td>\n",
              "      <td>0.790557</td>\n",
              "      <td>03:13</td>\n",
              "    </tr>\n",
              "    <tr>\n",
              "      <td>1</td>\n",
              "      <td>0.329842</td>\n",
              "      <td>1.313248</td>\n",
              "      <td>0.780872</td>\n",
              "      <td>03:13</td>\n",
              "    </tr>\n",
              "    <tr>\n",
              "      <td>2</td>\n",
              "      <td>0.284856</td>\n",
              "      <td>1.339820</td>\n",
              "      <td>0.796610</td>\n",
              "      <td>03:01</td>\n",
              "    </tr>\n",
              "    <tr>\n",
              "      <td>3</td>\n",
              "      <td>0.247864</td>\n",
              "      <td>1.297476</td>\n",
              "      <td>0.797821</td>\n",
              "      <td>03:16</td>\n",
              "    </tr>\n",
              "  </tbody>\n",
              "</table>"
            ],
            "text/plain": [
              "<IPython.core.display.HTML object>"
            ]
          },
          "metadata": {
            "tags": []
          }
        }
      ]
    },
    {
      "cell_type": "code",
      "metadata": {
        "id": "ajQC6WDg1yA9",
        "outputId": "7849aed1-42f5-4ea5-fc2d-35edb4465420",
        "colab": {
          "base_uri": "https://localhost:8080/",
          "height": 173
        }
      },
      "source": [
        "learn.fit_one_cycle(4, slice(2e-3/100, 2e-3))"
      ],
      "execution_count": 38,
      "outputs": [
        {
          "output_type": "display_data",
          "data": {
            "text/html": [
              "<table border=\"1\" class=\"dataframe\">\n",
              "  <thead>\n",
              "    <tr style=\"text-align: left;\">\n",
              "      <th>epoch</th>\n",
              "      <th>train_loss</th>\n",
              "      <th>valid_loss</th>\n",
              "      <th>accuracy</th>\n",
              "      <th>time</th>\n",
              "    </tr>\n",
              "  </thead>\n",
              "  <tbody>\n",
              "    <tr>\n",
              "      <td>0</td>\n",
              "      <td>0.285166</td>\n",
              "      <td>1.330670</td>\n",
              "      <td>0.789346</td>\n",
              "      <td>03:05</td>\n",
              "    </tr>\n",
              "    <tr>\n",
              "      <td>1</td>\n",
              "      <td>0.290510</td>\n",
              "      <td>1.354784</td>\n",
              "      <td>0.783293</td>\n",
              "      <td>03:17</td>\n",
              "    </tr>\n",
              "    <tr>\n",
              "      <td>2</td>\n",
              "      <td>0.270437</td>\n",
              "      <td>1.250834</td>\n",
              "      <td>0.788136</td>\n",
              "      <td>03:19</td>\n",
              "    </tr>\n",
              "    <tr>\n",
              "      <td>3</td>\n",
              "      <td>0.237980</td>\n",
              "      <td>1.311801</td>\n",
              "      <td>0.789346</td>\n",
              "      <td>03:24</td>\n",
              "    </tr>\n",
              "  </tbody>\n",
              "</table>"
            ],
            "text/plain": [
              "<IPython.core.display.HTML object>"
            ]
          },
          "metadata": {
            "tags": []
          }
        }
      ]
    },
    {
      "cell_type": "code",
      "metadata": {
        "id": "KKydb0B4BKGk",
        "outputId": "c0f5c7b5-c7c3-4bbb-cd91-c180fce21535",
        "colab": {
          "base_uri": "https://localhost:8080/",
          "height": 173
        }
      },
      "source": [
        "learn.fit_one_cycle(4, slice(2e-3/100, 2e-3))"
      ],
      "execution_count": 39,
      "outputs": [
        {
          "output_type": "display_data",
          "data": {
            "text/html": [
              "<table border=\"1\" class=\"dataframe\">\n",
              "  <thead>\n",
              "    <tr style=\"text-align: left;\">\n",
              "      <th>epoch</th>\n",
              "      <th>train_loss</th>\n",
              "      <th>valid_loss</th>\n",
              "      <th>accuracy</th>\n",
              "      <th>time</th>\n",
              "    </tr>\n",
              "  </thead>\n",
              "  <tbody>\n",
              "    <tr>\n",
              "      <td>0</td>\n",
              "      <td>0.240982</td>\n",
              "      <td>1.306228</td>\n",
              "      <td>0.779661</td>\n",
              "      <td>03:17</td>\n",
              "    </tr>\n",
              "    <tr>\n",
              "      <td>1</td>\n",
              "      <td>0.282694</td>\n",
              "      <td>1.288309</td>\n",
              "      <td>0.802663</td>\n",
              "      <td>03:03</td>\n",
              "    </tr>\n",
              "    <tr>\n",
              "      <td>2</td>\n",
              "      <td>0.242926</td>\n",
              "      <td>1.254124</td>\n",
              "      <td>0.806295</td>\n",
              "      <td>03:17</td>\n",
              "    </tr>\n",
              "    <tr>\n",
              "      <td>3</td>\n",
              "      <td>0.198547</td>\n",
              "      <td>1.319332</td>\n",
              "      <td>0.807506</td>\n",
              "      <td>03:04</td>\n",
              "    </tr>\n",
              "  </tbody>\n",
              "</table>"
            ],
            "text/plain": [
              "<IPython.core.display.HTML object>"
            ]
          },
          "metadata": {
            "tags": []
          }
        }
      ]
    },
    {
      "cell_type": "code",
      "metadata": {
        "id": "T2APKtFKBpGY",
        "outputId": "b0de382e-7692-441b-bb95-07069a6be412",
        "colab": {
          "base_uri": "https://localhost:8080/",
          "height": 173
        }
      },
      "source": [
        "learn.fit_one_cycle(4, slice(2e-3/100, 2e-3))"
      ],
      "execution_count": 40,
      "outputs": [
        {
          "output_type": "display_data",
          "data": {
            "text/html": [
              "<table border=\"1\" class=\"dataframe\">\n",
              "  <thead>\n",
              "    <tr style=\"text-align: left;\">\n",
              "      <th>epoch</th>\n",
              "      <th>train_loss</th>\n",
              "      <th>valid_loss</th>\n",
              "      <th>accuracy</th>\n",
              "      <th>time</th>\n",
              "    </tr>\n",
              "  </thead>\n",
              "  <tbody>\n",
              "    <tr>\n",
              "      <td>0</td>\n",
              "      <td>0.228209</td>\n",
              "      <td>1.254803</td>\n",
              "      <td>0.800242</td>\n",
              "      <td>03:16</td>\n",
              "    </tr>\n",
              "    <tr>\n",
              "      <td>1</td>\n",
              "      <td>0.257813</td>\n",
              "      <td>1.383674</td>\n",
              "      <td>0.791768</td>\n",
              "      <td>03:05</td>\n",
              "    </tr>\n",
              "    <tr>\n",
              "      <td>2</td>\n",
              "      <td>0.216453</td>\n",
              "      <td>1.270960</td>\n",
              "      <td>0.802663</td>\n",
              "      <td>03:14</td>\n",
              "    </tr>\n",
              "    <tr>\n",
              "      <td>3</td>\n",
              "      <td>0.181068</td>\n",
              "      <td>1.302848</td>\n",
              "      <td>0.803874</td>\n",
              "      <td>03:11</td>\n",
              "    </tr>\n",
              "  </tbody>\n",
              "</table>"
            ],
            "text/plain": [
              "<IPython.core.display.HTML object>"
            ]
          },
          "metadata": {
            "tags": []
          }
        }
      ]
    },
    {
      "cell_type": "code",
      "metadata": {
        "id": "qtTypA1sPgLU",
        "outputId": "e763a983-3f0e-4662-8404-212bba2dc871",
        "colab": {
          "base_uri": "https://localhost:8080/",
          "height": 111
        }
      },
      "source": [
        "learn.fit_one_cycle(2, slice(2e-3/100, 2e-3))"
      ],
      "execution_count": 41,
      "outputs": [
        {
          "output_type": "display_data",
          "data": {
            "text/html": [
              "<table border=\"1\" class=\"dataframe\">\n",
              "  <thead>\n",
              "    <tr style=\"text-align: left;\">\n",
              "      <th>epoch</th>\n",
              "      <th>train_loss</th>\n",
              "      <th>valid_loss</th>\n",
              "      <th>accuracy</th>\n",
              "      <th>time</th>\n",
              "    </tr>\n",
              "  </thead>\n",
              "  <tbody>\n",
              "    <tr>\n",
              "      <td>0</td>\n",
              "      <td>0.194063</td>\n",
              "      <td>1.432133</td>\n",
              "      <td>0.785714</td>\n",
              "      <td>03:19</td>\n",
              "    </tr>\n",
              "    <tr>\n",
              "      <td>1</td>\n",
              "      <td>0.195869</td>\n",
              "      <td>1.366427</td>\n",
              "      <td>0.794189</td>\n",
              "      <td>03:14</td>\n",
              "    </tr>\n",
              "  </tbody>\n",
              "</table>"
            ],
            "text/plain": [
              "<IPython.core.display.HTML object>"
            ]
          },
          "metadata": {
            "tags": []
          }
        }
      ]
    },
    {
      "cell_type": "code",
      "metadata": {
        "id": "b242kBsTUp9Y",
        "outputId": "7a258b42-bdf8-4684-d48b-f637c3d35ab0",
        "colab": {
          "base_uri": "https://localhost:8080/",
          "height": 111
        }
      },
      "source": [
        "learn.fit_one_cycle(2, slice(2e-3/100, 2e-3))"
      ],
      "execution_count": 42,
      "outputs": [
        {
          "output_type": "display_data",
          "data": {
            "text/html": [
              "<table border=\"1\" class=\"dataframe\">\n",
              "  <thead>\n",
              "    <tr style=\"text-align: left;\">\n",
              "      <th>epoch</th>\n",
              "      <th>train_loss</th>\n",
              "      <th>valid_loss</th>\n",
              "      <th>accuracy</th>\n",
              "      <th>time</th>\n",
              "    </tr>\n",
              "  </thead>\n",
              "  <tbody>\n",
              "    <tr>\n",
              "      <td>0</td>\n",
              "      <td>0.205466</td>\n",
              "      <td>1.344924</td>\n",
              "      <td>0.795399</td>\n",
              "      <td>03:12</td>\n",
              "    </tr>\n",
              "    <tr>\n",
              "      <td>1</td>\n",
              "      <td>0.202816</td>\n",
              "      <td>1.390790</td>\n",
              "      <td>0.805085</td>\n",
              "      <td>03:18</td>\n",
              "    </tr>\n",
              "  </tbody>\n",
              "</table>"
            ],
            "text/plain": [
              "<IPython.core.display.HTML object>"
            ]
          },
          "metadata": {
            "tags": []
          }
        }
      ]
    },
    {
      "cell_type": "code",
      "metadata": {
        "id": "Duwf1Ih5VeDZ",
        "outputId": "65392a77-be64-4bad-df2c-ea41a2e8b799",
        "colab": {
          "base_uri": "https://localhost:8080/",
          "height": 80
        }
      },
      "source": [
        "learn.fit_one_cycle(1, slice(2e-3/100, 2e-3))"
      ],
      "execution_count": 43,
      "outputs": [
        {
          "output_type": "display_data",
          "data": {
            "text/html": [
              "<table border=\"1\" class=\"dataframe\">\n",
              "  <thead>\n",
              "    <tr style=\"text-align: left;\">\n",
              "      <th>epoch</th>\n",
              "      <th>train_loss</th>\n",
              "      <th>valid_loss</th>\n",
              "      <th>accuracy</th>\n",
              "      <th>time</th>\n",
              "    </tr>\n",
              "  </thead>\n",
              "  <tbody>\n",
              "    <tr>\n",
              "      <td>0</td>\n",
              "      <td>0.186304</td>\n",
              "      <td>1.351010</td>\n",
              "      <td>0.808717</td>\n",
              "      <td>03:06</td>\n",
              "    </tr>\n",
              "  </tbody>\n",
              "</table>"
            ],
            "text/plain": [
              "<IPython.core.display.HTML object>"
            ]
          },
          "metadata": {
            "tags": []
          }
        }
      ]
    },
    {
      "cell_type": "code",
      "metadata": {
        "id": "c65d-osfDUXm"
      },
      "source": [
        "# save the best model\n",
        "\n",
        "learn.save_encoder('pubmed_cadec_askpatient_mixed_fold1')"
      ],
      "execution_count": 44,
      "outputs": []
    },
    {
      "cell_type": "markdown",
      "metadata": {
        "id": "rCwZU0E2RgM6"
      },
      "source": [
        "# Part three: Predict on the test dataset"
      ]
    },
    {
      "cell_type": "code",
      "metadata": {
        "id": "gDm72c-dOu7d",
        "outputId": "71f26c28-f2dc-4a6d-a7c4-f63b6b635425",
        "colab": {
          "base_uri": "https://localhost:8080/",
          "height": 17
        }
      },
      "source": [
        "# use the test data for prediction\n",
        "\n",
        "preds, y = learn.get_preds(DatasetType.Test)"
      ],
      "execution_count": 45,
      "outputs": [
        {
          "output_type": "display_data",
          "data": {
            "text/html": [
              ""
            ],
            "text/plain": [
              "<IPython.core.display.HTML object>"
            ]
          },
          "metadata": {
            "tags": []
          }
        }
      ]
    },
    {
      "cell_type": "code",
      "metadata": {
        "id": "6tFSQcsWPvxn",
        "outputId": "677c4a39-d962-4748-ee7d-49b61d4ecb27",
        "colab": {
          "base_uri": "https://localhost:8080/",
          "height": 105
        }
      },
      "source": [
        "predictions, *_ = learn.get_preds(DatasetType.Test)\n",
        "labels = np.argmax(predictions, 1)\n",
        "predict_list = labels.tolist()\n",
        "standard_list = test[0].tolist()\n",
        "\n",
        "print(len(predict_list))\n",
        "print(len(standard_list))\n",
        "\n",
        "print(predict_list)\n",
        "print(standard_list)"
      ],
      "execution_count": 46,
      "outputs": [
        {
          "output_type": "display_data",
          "data": {
            "text/html": [
              ""
            ],
            "text/plain": [
              "<IPython.core.display.HTML object>"
            ]
          },
          "metadata": {
            "tags": []
          }
        },
        {
          "output_type": "stream",
          "text": [
            "867\n",
            "867\n",
            "[2, 2, 8, 983, 8, 8, 728, 16, 20, 21, 662, 246, 27, 31, 36, 37, 37, 37, 37, 37, 37, 37, 37, 37, 37, 37, 42, 42, 44, 246, 325, 49, 325, 49, 49, 49, 49, 22, 53, 53, 53, 226, 60, 61, 62, 427, 70, 776, 71, 122, 79, 79, 79, 79, 79, 79, 79, 79, 79, 79, 79, 79, 79, 79, 79, 79, 79, 79, 79, 79, 79, 79, 79, 79, 79, 79, 79, 79, 79, 108, 108, 108, 108, 108, 79, 79, 805, 80, 1024, 80, 80, 80, 80, 491, 109, 88, 89, 325, 92, 92, 92, 94, 94, 94, 94, 94, 736, 94, 94, 94, 94, 96, 49, 365, 98, 610, 610, 100, 100, 766, 100, 100, 572, 301, 100, 775, 62, 103, 1025, 105, 107, 107, 108, 108, 111, 111, 111, 111, 111, 111, 111, 111, 111, 111, 114, 117, 395, 125, 125, 125, 125, 125, 125, 125, 125, 125, 125, 125, 125, 125, 125, 2, 293, 624, 847, 1025, 135, 135, 139, 139, 1021, 447, 418, 652, 146, 158, 166, 166, 166, 169, 171, 172, 172, 172, 172, 172, 173, 173, 173, 106, 180, 182, 182, 615, 182, 182, 182, 182, 182, 182, 182, 182, 183, 183, 183, 183, 183, 183, 183, 184, 187, 187, 187, 187, 189, 189, 190, 190, 190, 193, 193, 197, 197, 199, 202, 205, 205, 205, 37, 214, 214, 214, 214, 214, 214, 214, 214, 218, 207, 220, 223, 223, 226, 227, 228, 228, 228, 228, 326, 228, 228, 228, 228, 228, 228, 228, 228, 234, 236, 236, 239, 239, 241, 243, 243, 243, 243, 245, 245, 770, 245, 318, 246, 246, 246, 246, 647, 262, 254, 864, 262, 264, 265, 265, 265, 265, 704, 265, 265, 265, 265, 265, 265, 265, 265, 265, 265, 265, 265, 265, 265, 265, 265, 265, 137, 8, 269, 276, 1025, 277, 620, 280, 462, 281, 281, 281, 289, 289, 289, 704, 2, 289, 392, 109, 111, 289, 289, 289, 652, 289, 289, 289, 289, 289, 289, 864, 304, 293, 801, 1025, 298, 589, 459, 330, 309, 309, 309, 309, 762, 507, 318, 318, 318, 331, 325, 325, 325, 325, 325, 325, 325, 325, 325, 325, 325, 325, 325, 325, 325, 1002, 600, 301, 326, 328, 136, 332, 332, 332, 336, 337, 343, 343, 352, 265, 258, 246, 359, 359, 359, 359, 359, 360, 318, 363, 37, 364, 364, 364, 367, 374, 847, 434, 426, 386, 491, 391, 391, 391, 394, 396, 396, 397, 868, 402, 402, 301, 861, 507, 408, 408, 408, 408, 408, 537, 801, 415, 418, 419, 419, 419, 419, 419, 419, 1025, 419, 652, 421, 424, 426, 426, 426, 427, 615, 427, 427, 427, 427, 427, 427, 318, 427, 892, 427, 491, 291, 432, 435, 637, 438, 441, 441, 443, 444, 584, 584, 868, 455, 455, 455, 455, 455, 455, 455, 455, 455, 455, 455, 455, 455, 455, 456, 460, 469, 470, 470, 473, 474, 475, 475, 475, 479, 644, 486, 489, 491, 491, 29, 491, 491, 677, 492, 597, 495, 495, 496, 497, 232, 507, 507, 41, 516, 517, 517, 517, 383, 484, 37, 524, 524, 530, 530, 530, 530, 530, 27, 27, 266, 481, 540, 541, 325, 545, 545, 545, 1025, 548, 384, 384, 549, 862, 565, 572, 577, 721, 590, 590, 1025, 592, 592, 592, 707, 427, 746, 610, 565, 610, 610, 610, 491, 614, 614, 614, 614, 614, 614, 614, 638, 623, 214, 625, 1025, 274, 644, 868, 644, 646, 646, 652, 652, 652, 652, 109, 491, 265, 662, 455, 662, 662, 378, 664, 666, 567, 567, 682, 686, 686, 319, 700, 704, 703, 704, 1025, 711, 711, 711, 372, 299, 714, 714, 715, 717, 862, 735, 766, 741, 745, 541, 746, 455, 746, 752, 753, 645, 769, 771, 772, 686, 775, 775, 775, 572, 775, 775, 775, 775, 783, 458, 901, 24, 799, 753, 806, 808, 809, 805, 810, 246, 1025, 826, 905, 826, 150, 830, 830, 830, 1025, 830, 202, 876, 840, 617, 847, 49, 847, 371, 853, 387, 367, 363, 749, 246, 864, 565, 874, 903, 775, 877, 877, 877, 268, 268, 878, 408, 889, 367, 367, 677, 579, 896, 896, 579, 896, 896, 896, 904, 904, 910, 919, 919, 923, 133, 927, 69, 930, 806, 933, 936, 936, 937, 937, 937, 937, 937, 937, 937, 937, 937, 937, 255, 948, 948, 949, 949, 949, 949, 949, 949, 949, 949, 949, 949, 949, 949, 949, 949, 949, 949, 949, 949, 949, 949, 949, 949, 949, 949, 949, 949, 949, 949, 949, 949, 949, 949, 949, 949, 949, 949, 949, 949, 949, 949, 949, 949, 949, 949, 949, 949, 949, 949, 949, 949, 949, 949, 949, 949, 949, 949, 949, 949, 949, 949, 949, 949, 949, 949, 949, 949, 949, 949, 949, 949, 949, 949, 949, 949, 949, 949, 949, 949, 949, 949, 949, 949, 949, 949, 949, 949, 974, 949, 949, 949, 949, 949, 949, 949, 949, 949, 949, 949, 949, 949, 949, 949, 949, 949, 949, 949, 949, 949, 949, 949, 949, 949, 949, 949, 949, 950, 950, 950, 950, 952, 952, 955, 1025, 948, 958, 961, 68, 964, 967, 968, 974, 974, 976, 976, 976, 972, 255, 983, 983, 984, 994, 972, 1008, 1013, 1026, 1028]\n",
            "[2, 2, 8, 8, 8, 8, 8, 16, 20, 21, 22, 25, 27, 31, 36, 37, 37, 37, 37, 37, 37, 37, 37, 37, 37, 37, 42, 42, 44, 45, 49, 49, 49, 49, 49, 49, 49, 49, 53, 53, 53, 59, 60, 61, 62, 65, 70, 71, 71, 77, 79, 79, 79, 79, 79, 79, 79, 79, 79, 79, 79, 79, 79, 79, 79, 79, 79, 79, 79, 79, 79, 79, 79, 79, 79, 79, 79, 79, 79, 79, 79, 79, 79, 79, 79, 79, 79, 80, 80, 80, 80, 80, 80, 81, 83, 88, 89, 90, 92, 92, 92, 94, 94, 94, 94, 94, 94, 94, 94, 94, 94, 96, 96, 97, 98, 100, 100, 100, 100, 100, 100, 100, 100, 100, 100, 100, 100, 103, 103, 105, 107, 107, 108, 108, 111, 111, 111, 111, 111, 111, 111, 111, 111, 111, 114, 117, 120, 125, 125, 125, 125, 125, 125, 125, 125, 125, 125, 125, 125, 125, 125, 127, 130, 130, 134, 135, 135, 135, 139, 139, 141, 142, 145, 146, 146, 158, 166, 166, 166, 169, 171, 172, 172, 172, 172, 172, 173, 173, 173, 180, 180, 182, 182, 182, 182, 182, 182, 182, 182, 182, 182, 182, 183, 183, 183, 183, 183, 183, 183, 184, 187, 187, 187, 187, 189, 189, 190, 190, 190, 193, 193, 197, 197, 200, 202, 205, 205, 205, 209, 214, 214, 214, 214, 214, 214, 214, 214, 218, 220, 220, 223, 223, 226, 227, 228, 228, 228, 228, 228, 228, 228, 228, 228, 228, 228, 228, 228, 234, 236, 236, 239, 239, 241, 243, 243, 243, 243, 245, 245, 245, 245, 245, 246, 246, 246, 246, 247, 251, 254, 260, 262, 264, 265, 265, 265, 265, 265, 265, 265, 265, 265, 265, 265, 265, 265, 265, 265, 265, 265, 265, 265, 265, 265, 265, 268, 269, 269, 276, 277, 277, 279, 280, 281, 281, 281, 281, 289, 289, 289, 289, 289, 289, 289, 289, 289, 289, 289, 289, 289, 289, 289, 289, 289, 289, 289, 289, 290, 293, 294, 298, 298, 299, 302, 304, 309, 309, 309, 309, 315, 317, 318, 318, 318, 324, 325, 325, 325, 325, 325, 325, 325, 325, 325, 325, 325, 325, 325, 325, 325, 325, 325, 325, 326, 328, 330, 332, 332, 332, 336, 337, 343, 343, 352, 352, 355, 357, 359, 359, 359, 359, 359, 360, 360, 363, 364, 364, 364, 364, 367, 374, 374, 376, 384, 386, 386, 391, 391, 391, 394, 396, 396, 397, 400, 402, 402, 402, 403, 407, 408, 408, 408, 408, 408, 410, 415, 415, 418, 419, 419, 419, 419, 419, 419, 419, 419, 419, 421, 424, 426, 426, 426, 427, 427, 427, 427, 427, 427, 427, 427, 427, 427, 427, 427, 428, 428, 432, 435, 435, 438, 440, 441, 443, 444, 444, 444, 448, 455, 455, 455, 455, 455, 455, 455, 455, 455, 455, 455, 455, 455, 455, 456, 460, 469, 470, 470, 473, 474, 475, 475, 475, 479, 481, 486, 489, 491, 491, 491, 491, 491, 491, 492, 495, 495, 495, 496, 497, 499, 507, 507, 515, 516, 517, 517, 517, 517, 520, 522, 524, 524, 530, 530, 530, 530, 530, 536, 536, 537, 538, 540, 541, 544, 545, 545, 545, 548, 548, 548, 548, 549, 550, 569, 572, 577, 577, 590, 590, 592, 592, 592, 592, 595, 597, 598, 610, 610, 610, 610, 610, 613, 614, 614, 614, 614, 614, 614, 614, 623, 623, 624, 625, 628, 644, 644, 644, 644, 646, 646, 652, 652, 652, 652, 655, 659, 660, 662, 662, 662, 662, 664, 664, 666, 674, 680, 682, 686, 686, 694, 700, 702, 703, 704, 710, 711, 711, 711, 712, 714, 714, 714, 715, 717, 729, 735, 741, 741, 745, 746, 746, 746, 746, 752, 753, 765, 769, 771, 772, 773, 775, 775, 775, 775, 775, 775, 775, 775, 783, 787, 790, 793, 799, 803, 806, 808, 809, 809, 810, 813, 815, 826, 826, 826, 827, 830, 830, 830, 830, 830, 834, 840, 840, 841, 847, 847, 847, 852, 853, 857, 858, 860, 861, 863, 864, 873, 874, 875, 876, 877, 877, 877, 878, 878, 878, 886, 889, 893, 893, 895, 896, 896, 896, 896, 896, 896, 896, 904, 904, 910, 919, 919, 923, 925, 927, 928, 930, 932, 933, 936, 936, 937, 937, 937, 937, 937, 937, 937, 937, 937, 937, 939, 948, 948, 949, 949, 949, 949, 949, 949, 949, 949, 949, 949, 949, 949, 949, 949, 949, 949, 949, 949, 949, 949, 949, 949, 949, 949, 949, 949, 949, 949, 949, 949, 949, 949, 949, 949, 949, 949, 949, 949, 949, 949, 949, 949, 949, 949, 949, 949, 949, 949, 949, 949, 949, 949, 949, 949, 949, 949, 949, 949, 949, 949, 949, 949, 949, 949, 949, 949, 949, 949, 949, 949, 949, 949, 949, 949, 949, 949, 949, 949, 949, 949, 949, 949, 949, 949, 949, 949, 949, 949, 949, 949, 949, 949, 949, 949, 949, 949, 949, 949, 949, 949, 949, 949, 949, 949, 949, 949, 949, 949, 949, 949, 949, 949, 949, 949, 949, 950, 950, 950, 950, 952, 952, 955, 955, 957, 958, 961, 963, 964, 967, 968, 974, 974, 976, 976, 976, 980, 983, 983, 983, 984, 994, 1006, 1008, 1023, 1026, 1028]\n"
          ],
          "name": "stdout"
        }
      ]
    },
    {
      "cell_type": "code",
      "metadata": {
        "id": "XIC4zufnMxtq",
        "outputId": "bdae741b-3d78-4778-8111-f7a45f0ea143",
        "colab": {
          "base_uri": "https://localhost:8080/",
          "height": 51
        }
      },
      "source": [
        "correct_num = 0\n",
        "\n",
        "for i in range(0, len(standard_list)):\n",
        "  if predict_list[i] == standard_list[i]:\n",
        "    correct_num = correct_num+1\n",
        "  else:\n",
        "    pass\n",
        "print(correct_num)\n",
        "\n",
        "predict_accuracy = correct_num/len(predict_list)\n",
        "print(predict_accuracy)"
      ],
      "execution_count": 47,
      "outputs": [
        {
          "output_type": "stream",
          "text": [
            "667\n",
            "0.7693194925028836\n"
          ],
          "name": "stdout"
        }
      ]
    },
    {
      "cell_type": "code",
      "metadata": {
        "id": "zlKMHp1CIaRJ"
      },
      "source": [
        ""
      ],
      "execution_count": 47,
      "outputs": []
    }
  ]
}