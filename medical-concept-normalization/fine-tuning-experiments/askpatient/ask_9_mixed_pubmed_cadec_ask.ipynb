{
  "nbformat": 4,
  "nbformat_minor": 0,
  "metadata": {
    "accelerator": "TPU",
    "colab": {
      "name": "ask_9_mixed_pubmed_cadec_ask.ipynb",
      "provenance": [],
      "collapsed_sections": [],
      "toc_visible": true,
      "include_colab_link": true
    },
    "kernelspec": {
      "display_name": "Python 3",
      "name": "python3"
    }
  },
  "cells": [
    {
      "cell_type": "markdown",
      "metadata": {
        "id": "view-in-github",
        "colab_type": "text"
      },
      "source": [
        "<a href=\"https://colab.research.google.com/github/unt-iialab/medical-concept-normalization/blob/master/medical-concept-normalization/fine-tuning-experiments/askpatient/ask_9_mixed_pubmed_cadec_ask.ipynb\" target=\"_parent\"><img src=\"https://colab.research.google.com/assets/colab-badge.svg\" alt=\"Open In Colab\"/></a>"
      ]
    },
    {
      "cell_type": "code",
      "metadata": {
        "id": "adSi6i2-dWxy"
      },
      "source": [
        "import os"
      ],
      "execution_count": 1,
      "outputs": []
    },
    {
      "cell_type": "code",
      "metadata": {
        "id": "E7xYCRGPjd9B"
      },
      "source": [
        "base_dir = 'medical-concept-normalization'"
      ],
      "execution_count": 2,
      "outputs": []
    },
    {
      "cell_type": "code",
      "metadata": {
        "id": "yvIW3aUDjYNS"
      },
      "source": [
        "os.mkdir(base_dir)"
      ],
      "execution_count": 3,
      "outputs": []
    },
    {
      "cell_type": "code",
      "metadata": {
        "id": "es-FFLlfk6SG"
      },
      "source": [
        "os.mkdir('medical-concept-normalization/data_collection')"
      ],
      "execution_count": 4,
      "outputs": []
    },
    {
      "cell_type": "markdown",
      "metadata": {
        "id": "0R-Guw_VoJXm"
      },
      "source": [
        "**Install fastai and clone the fastai for text classification**\n",
        "\n"
      ]
    },
    {
      "cell_type": "code",
      "metadata": {
        "id": "QVZa3Z0PmHFH",
        "outputId": "bac56274-4ed8-477f-9dcf-f20847e904d3",
        "colab": {
          "base_uri": "https://localhost:8080/",
          "height": 89
        }
      },
      "source": [
        "!curl https://course-v3.fast.ai/setup/colab | bash"
      ],
      "execution_count": 5,
      "outputs": [
        {
          "output_type": "stream",
          "text": [
            "  % Total    % Received % Xferd  Average Speed   Time    Time     Time  Current\n",
            "                                 Dload  Upload   Total   Spent    Left  Speed\n",
            "\r  0     0    0     0    0     0      0      0 --:--:-- --:--:-- --:--:--     0curl: (6) Could not resolve host: course-v3.fast.ai\n"
          ],
          "name": "stdout"
        }
      ]
    },
    {
      "cell_type": "code",
      "metadata": {
        "id": "_FBFFEBrmJC0",
        "outputId": "bfeda2a5-c4f9-4a61-e6a5-bdd1124a5b38",
        "colab": {
          "base_uri": "https://localhost:8080/",
          "height": 87
        }
      },
      "source": [
        "!git clone https://github.com/wshuyi/demo-nlp-classification-fastai.git"
      ],
      "execution_count": 6,
      "outputs": [
        {
          "output_type": "stream",
          "text": [
            "Cloning into 'demo-nlp-classification-fastai'...\n",
            "remote: Enumerating objects: 9, done.\u001b[K\n",
            "remote: Total 9 (delta 0), reused 0 (delta 0), pack-reused 9\u001b[K\n",
            "Unpacking objects: 100% (9/9), done.\n"
          ],
          "name": "stdout"
        }
      ]
    },
    {
      "cell_type": "code",
      "metadata": {
        "id": "66zfh_JqmWMU"
      },
      "source": [
        "from fastai import *\n",
        "from fastai.text import *"
      ],
      "execution_count": 7,
      "outputs": []
    },
    {
      "cell_type": "markdown",
      "metadata": {
        "id": "mNIw-yALdBU9"
      },
      "source": [
        "**Set the path of the data collections**"
      ]
    },
    {
      "cell_type": "code",
      "metadata": {
        "id": "pzH7VMh4mqCL"
      },
      "source": [
        "path = Path('medical-concept-normalization/data_collection')"
      ],
      "execution_count": 8,
      "outputs": []
    },
    {
      "cell_type": "code",
      "metadata": {
        "id": "b8fjI6yyn4aS"
      },
      "source": [
        "# training data set\n",
        "\n",
        "train_csv = path/'AskAPatient.fold-9.train.csv'\n",
        "train = pd.read_csv(train_csv, header=None)\n",
        "#train.head()\n",
        "#train.info()"
      ],
      "execution_count": 10,
      "outputs": []
    },
    {
      "cell_type": "code",
      "metadata": {
        "id": "Hmlr-bAorfHd",
        "outputId": "66992133-2815-4b24-b8b7-56c41829b38b",
        "colab": {
          "base_uri": "https://localhost:8080/",
          "height": 202
        }
      },
      "source": [
        "# validating data set\n",
        "\n",
        "valid = pd.read_csv(path/\"AskAPatient.fold-9.validation.csv\",header=None)\n",
        "valid.head()"
      ],
      "execution_count": 11,
      "outputs": [
        {
          "output_type": "execute_result",
          "data": {
            "text/html": [
              "<div>\n",
              "<style scoped>\n",
              "    .dataframe tbody tr th:only-of-type {\n",
              "        vertical-align: middle;\n",
              "    }\n",
              "\n",
              "    .dataframe tbody tr th {\n",
              "        vertical-align: top;\n",
              "    }\n",
              "\n",
              "    .dataframe thead th {\n",
              "        text-align: right;\n",
              "    }\n",
              "</style>\n",
              "<table border=\"1\" class=\"dataframe\">\n",
              "  <thead>\n",
              "    <tr style=\"text-align: right;\">\n",
              "      <th></th>\n",
              "      <th>0</th>\n",
              "      <th>1</th>\n",
              "    </tr>\n",
              "  </thead>\n",
              "  <tbody>\n",
              "    <tr>\n",
              "      <th>0</th>\n",
              "      <td>3</td>\n",
              "      <td>cracking sensations in my joints</td>\n",
              "    </tr>\n",
              "    <tr>\n",
              "      <th>1</th>\n",
              "      <td>5</td>\n",
              "      <td>fast and slow heartbeat</td>\n",
              "    </tr>\n",
              "    <tr>\n",
              "      <th>2</th>\n",
              "      <td>8</td>\n",
              "      <td>arthritis</td>\n",
              "    </tr>\n",
              "    <tr>\n",
              "      <th>3</th>\n",
              "      <td>8</td>\n",
              "      <td>arthritis</td>\n",
              "    </tr>\n",
              "    <tr>\n",
              "      <th>4</th>\n",
              "      <td>8</td>\n",
              "      <td>arthritis</td>\n",
              "    </tr>\n",
              "  </tbody>\n",
              "</table>\n",
              "</div>"
            ],
            "text/plain": [
              "   0                                 1\n",
              "0  3  cracking sensations in my joints\n",
              "1  5           fast and slow heartbeat\n",
              "2  8                         arthritis\n",
              "3  8                         arthritis\n",
              "4  8                         arthritis"
            ]
          },
          "metadata": {
            "tags": []
          },
          "execution_count": 11
        }
      ]
    },
    {
      "cell_type": "code",
      "metadata": {
        "id": "cOza9dfSsBud",
        "outputId": "e2b7ce1c-04ba-40f1-caba-99422d39044b",
        "colab": {
          "base_uri": "https://localhost:8080/",
          "height": 202
        }
      },
      "source": [
        "# testing data set\n",
        "\n",
        "test = pd.read_csv(path/\"AskAPatient.fold-9.test.csv\",header=None)\n",
        "test.head()"
      ],
      "execution_count": 12,
      "outputs": [
        {
          "output_type": "execute_result",
          "data": {
            "text/html": [
              "<div>\n",
              "<style scoped>\n",
              "    .dataframe tbody tr th:only-of-type {\n",
              "        vertical-align: middle;\n",
              "    }\n",
              "\n",
              "    .dataframe tbody tr th {\n",
              "        vertical-align: top;\n",
              "    }\n",
              "\n",
              "    .dataframe thead th {\n",
              "        text-align: right;\n",
              "    }\n",
              "</style>\n",
              "<table border=\"1\" class=\"dataframe\">\n",
              "  <thead>\n",
              "    <tr style=\"text-align: right;\">\n",
              "      <th></th>\n",
              "      <th>0</th>\n",
              "      <th>1</th>\n",
              "    </tr>\n",
              "  </thead>\n",
              "  <tbody>\n",
              "    <tr>\n",
              "      <th>0</th>\n",
              "      <td>2</td>\n",
              "      <td>painful heels</td>\n",
              "    </tr>\n",
              "    <tr>\n",
              "      <th>1</th>\n",
              "      <td>4</td>\n",
              "      <td>Discoloration of skin [blotchy] on the neck</td>\n",
              "    </tr>\n",
              "    <tr>\n",
              "      <th>2</th>\n",
              "      <td>5</td>\n",
              "      <td>my heart rate jumped to 106</td>\n",
              "    </tr>\n",
              "    <tr>\n",
              "      <th>3</th>\n",
              "      <td>7</td>\n",
              "      <td>goiter</td>\n",
              "    </tr>\n",
              "    <tr>\n",
              "      <th>4</th>\n",
              "      <td>8</td>\n",
              "      <td>arthritis</td>\n",
              "    </tr>\n",
              "  </tbody>\n",
              "</table>\n",
              "</div>"
            ],
            "text/plain": [
              "   0                                            1\n",
              "0  2                                painful heels\n",
              "1  4  Discoloration of skin [blotchy] on the neck\n",
              "2  5                  my heart rate jumped to 106\n",
              "3  7                                       goiter\n",
              "4  8                                    arthritis"
            ]
          },
          "metadata": {
            "tags": []
          },
          "execution_count": 12
        }
      ]
    },
    {
      "cell_type": "code",
      "metadata": {
        "id": "Vo-YNvVYoaH6",
        "outputId": "ee34bdd3-8f65-42be-bb8b-36d7fc9a395b",
        "colab": {
          "base_uri": "https://localhost:8080/",
          "height": 17
        }
      },
      "source": [
        "# Creating DataBunch for language modelling\n",
        "\n",
        "data_lm = TextLMDataBunch.from_csv(path, 'pubmed_cadec_askpatient_mixed.csv')"
      ],
      "execution_count": 13,
      "outputs": [
        {
          "output_type": "display_data",
          "data": {
            "text/html": [
              ""
            ],
            "text/plain": [
              "<IPython.core.display.HTML object>"
            ]
          },
          "metadata": {
            "tags": []
          }
        },
        {
          "output_type": "display_data",
          "data": {
            "text/html": [
              ""
            ],
            "text/plain": [
              "<IPython.core.display.HTML object>"
            ]
          },
          "metadata": {
            "tags": []
          }
        }
      ]
    },
    {
      "cell_type": "code",
      "metadata": {
        "id": "qcV-9kMnNLBf"
      },
      "source": [
        ""
      ],
      "execution_count": 13,
      "outputs": []
    },
    {
      "cell_type": "code",
      "metadata": {
        "id": "1ScY9afDsnvE"
      },
      "source": [
        "# Creating DataBunch for classification\n",
        "\n",
        "# data_clas = TextClasDataBunch.from_df(path, train, valid, test, vocab=data_lm.train_ds.vocab, bs=128)"
      ],
      "execution_count": 14,
      "outputs": []
    },
    {
      "cell_type": "code",
      "metadata": {
        "id": "gzrSdQcvey9p",
        "outputId": "f01ae61d-e3b2-41b9-e58b-67aa7ffecf79",
        "colab": {
          "base_uri": "https://localhost:8080/",
          "height": 17
        }
      },
      "source": [
        "data_clas = TextClasDataBunch.from_df(path, train, valid, vocab=data_lm.train_ds.vocab, bs=128)"
      ],
      "execution_count": 15,
      "outputs": [
        {
          "output_type": "display_data",
          "data": {
            "text/html": [
              ""
            ],
            "text/plain": [
              "<IPython.core.display.HTML object>"
            ]
          },
          "metadata": {
            "tags": []
          }
        },
        {
          "output_type": "display_data",
          "data": {
            "text/html": [
              ""
            ],
            "text/plain": [
              "<IPython.core.display.HTML object>"
            ]
          },
          "metadata": {
            "tags": []
          }
        }
      ]
    },
    {
      "cell_type": "code",
      "metadata": {
        "id": "MD27Tf0Ke3ou",
        "outputId": "eb7ac459-ed61-4854-b8ce-cfd8b4b05d0a",
        "colab": {
          "base_uri": "https://localhost:8080/",
          "height": 17
        }
      },
      "source": [
        "data_clas.add_test(test,label=0)\n"
      ],
      "execution_count": 16,
      "outputs": [
        {
          "output_type": "display_data",
          "data": {
            "text/html": [
              ""
            ],
            "text/plain": [
              "<IPython.core.display.HTML object>"
            ]
          },
          "metadata": {
            "tags": []
          }
        }
      ]
    },
    {
      "cell_type": "code",
      "metadata": {
        "id": "-dpjnk_rstwk"
      },
      "source": [
        "data_lm.save()\n",
        "data_clas.save()"
      ],
      "execution_count": 17,
      "outputs": []
    },
    {
      "cell_type": "code",
      "metadata": {
        "id": "4OkiJa36sw5s",
        "outputId": "1564b13d-d482-4fec-d42c-6c6c6cd587d5",
        "colab": {
          "base_uri": "https://localhost:8080/",
          "height": 1000
        }
      },
      "source": [
        "data_lm.train_ds.vocab.itos"
      ],
      "execution_count": 18,
      "outputs": [
        {
          "output_type": "execute_result",
          "data": {
            "text/plain": [
              "['xxunk',\n",
              " 'xxpad',\n",
              " 'xxbos',\n",
              " 'xxeos',\n",
              " 'xxfld',\n",
              " 'xxmaj',\n",
              " 'xxup',\n",
              " 'xxrep',\n",
              " 'xxwrep',\n",
              " 'pain',\n",
              " 'of',\n",
              " 'the',\n",
              " 'in',\n",
              " 'lipitor',\n",
              " 'and',\n",
              " 'to',\n",
              " 'muscle',\n",
              " 'a',\n",
              " '.',\n",
              " 'was',\n",
              " 'with',\n",
              " 'i',\n",
              " 'diclofenac',\n",
              " ',',\n",
              " 'my',\n",
              " 'for',\n",
              " 'were',\n",
              " 'severe',\n",
              " 'on',\n",
              " 'lower',\n",
              " 'myalgia',\n",
              " 'fatigue',\n",
              " 'loss',\n",
              " 'is',\n",
              " 'weakness',\n",
              " '-',\n",
              " 'that',\n",
              " 'by',\n",
              " 'sodium',\n",
              " 'cramp',\n",
              " 'limb',\n",
              " 'back',\n",
              " 'stomach',\n",
              " 'at',\n",
              " 'as',\n",
              " 'this',\n",
              " 'drug',\n",
              " 'depression',\n",
              " 'not',\n",
              " 'it',\n",
              " 'cramps',\n",
              " 'mg',\n",
              " 'or',\n",
              " 'patients',\n",
              " 'joint',\n",
              " 'leg',\n",
              " 'gas',\n",
              " 'upper',\n",
              " 'memory',\n",
              " 'from',\n",
              " 'legs',\n",
              " 'after',\n",
              " 'pains',\n",
              " 'all',\n",
              " 'knee',\n",
              " 'have',\n",
              " 'headache',\n",
              " 'shoulder',\n",
              " 'unable',\n",
              " 'group',\n",
              " '/',\n",
              " 'neck',\n",
              " 'arthralgia',\n",
              " 'gastrointestinal',\n",
              " 'be',\n",
              " 'treatment',\n",
              " 'study',\n",
              " 'foot',\n",
              " 'aches',\n",
              " 'excessive',\n",
              " 'arthritis',\n",
              " 'like',\n",
              " 'cholesterol',\n",
              " 'no',\n",
              " 'hip',\n",
              " 'an',\n",
              " 'had',\n",
              " 'effects',\n",
              " 'voltaren',\n",
              " 'insomnia',\n",
              " 'arthrotec',\n",
              " 'numbness',\n",
              " 'but',\n",
              " 'time',\n",
              " 'disease',\n",
              " 'p',\n",
              " 'walk',\n",
              " 'are',\n",
              " 'increased',\n",
              " 'heart',\n",
              " 'problems',\n",
              " 'release',\n",
              " 'bleeding',\n",
              " 'feeling',\n",
              " 'both',\n",
              " 'nausea',\n",
              " 'feet',\n",
              " 'could',\n",
              " 'high',\n",
              " 'dizziness',\n",
              " 'very',\n",
              " 'swelling',\n",
              " 'than',\n",
              " 'abdominal',\n",
              " 'tired',\n",
              " 'asthenia',\n",
              " 'skin',\n",
              " 'walking',\n",
              " 'blood',\n",
              " 'muscles',\n",
              " 'difficulty',\n",
              " 'extreme',\n",
              " 'up',\n",
              " 'hand',\n",
              " 'effect',\n",
              " 'chest',\n",
              " 'day',\n",
              " 'acid',\n",
              " 'has',\n",
              " 'hair',\n",
              " 'zocor',\n",
              " 'been',\n",
              " 'liver',\n",
              " 'low',\n",
              " 'stiffness',\n",
              " 'vision',\n",
              " 'two',\n",
              " 'compared',\n",
              " 'sleep',\n",
              " 'ache',\n",
              " 'burning',\n",
              " 'can',\n",
              " 'weight',\n",
              " ')',\n",
              " 'backache',\n",
              " 'inflammatory',\n",
              " 'cramping',\n",
              " 'side',\n",
              " 'days',\n",
              " \"n't\",\n",
              " 'using',\n",
              " 'left',\n",
              " '(',\n",
              " 'drugs',\n",
              " 'which',\n",
              " 'one',\n",
              " 'groups',\n",
              " 'pins',\n",
              " 'needles',\n",
              " 'diarrhoea',\n",
              " 'also',\n",
              " 'more',\n",
              " 'between',\n",
              " 'amnesia',\n",
              " 'tingling',\n",
              " 'these',\n",
              " 'calf',\n",
              " 'significant',\n",
              " 'short',\n",
              " 'taking',\n",
              " 'term',\n",
              " 'dose',\n",
              " 'significantly',\n",
              " 'over',\n",
              " 'c',\n",
              " 'concentration',\n",
              " 'anxiety',\n",
              " 'potassium',\n",
              " 'anti',\n",
              " 'h',\n",
              " 'lack',\n",
              " 'impairment',\n",
              " 'symptom',\n",
              " 'me',\n",
              " 'when',\n",
              " 'disability',\n",
              " 'used',\n",
              " 'pressure',\n",
              " 'results',\n",
              " 'body',\n",
              " 'so',\n",
              " 'bloating',\n",
              " 'arms',\n",
              " 'stiff',\n",
              " 'arm',\n",
              " 'hands',\n",
              " 'constipation',\n",
              " 'placebo',\n",
              " 'headaches',\n",
              " 'symptoms',\n",
              " 'out',\n",
              " 'sore',\n",
              " 'years',\n",
              " 'we',\n",
              " 'disorder',\n",
              " 'poor',\n",
              " 'reduced',\n",
              " \"'s\",\n",
              " 'efficacy',\n",
              " 'did',\n",
              " 'other',\n",
              " 'ankle',\n",
              " 'ds',\n",
              " 'balance',\n",
              " 'acute',\n",
              " 'neuropathy',\n",
              " 'off',\n",
              " 'treated',\n",
              " 'ml',\n",
              " 'blurred',\n",
              " 'visual',\n",
              " 'joints',\n",
              " 'showed',\n",
              " 'well',\n",
              " 'tiredness',\n",
              " 'hurt',\n",
              " 'right',\n",
              " 'different',\n",
              " 'during',\n",
              " '!',\n",
              " 'oral',\n",
              " 'am',\n",
              " 'feel',\n",
              " 'topical',\n",
              " 'painful',\n",
              " 'sensation',\n",
              " 'about',\n",
              " 'rash',\n",
              " 'infarction',\n",
              " 'myositis',\n",
              " 'control',\n",
              " 'serum',\n",
              " 'into',\n",
              " 'bad',\n",
              " 'there',\n",
              " 'myocardial',\n",
              " 'constant',\n",
              " 'vaginal',\n",
              " 'attack',\n",
              " 'damage',\n",
              " 'only',\n",
              " 'get',\n",
              " 'renal',\n",
              " 'swollen',\n",
              " 'levels',\n",
              " 'pravachol',\n",
              " 'decreased',\n",
              " 'administration',\n",
              " 'rats',\n",
              " 'first',\n",
              " 'found',\n",
              " 'may',\n",
              " 'vertigo',\n",
              " 'energy',\n",
              " 'rate',\n",
              " 'studies',\n",
              " 'diarrhea',\n",
              " 'use',\n",
              " 'mentally',\n",
              " 'weeks',\n",
              " 'months',\n",
              " 'diabetes',\n",
              " 'induced',\n",
              " 'gain',\n",
              " 'non',\n",
              " 'their',\n",
              " 'atrophy',\n",
              " 'three',\n",
              " 'generalised',\n",
              " 's',\n",
              " 'week',\n",
              " 'clinical',\n",
              " 'atorvastatin',\n",
              " 'itching',\n",
              " 'effective',\n",
              " 'weak',\n",
              " 'nsaids',\n",
              " 'respectively',\n",
              " 'syndrome',\n",
              " 'dry',\n",
              " 'upset',\n",
              " 'hours',\n",
              " 'period',\n",
              " 'gel',\n",
              " 'shoulders',\n",
              " 'elevated',\n",
              " 'tablets',\n",
              " 'before',\n",
              " 'formulations',\n",
              " 'type',\n",
              " 'illness',\n",
              " 'formulation',\n",
              " 'urine',\n",
              " 'method',\n",
              " 'eye',\n",
              " 'will',\n",
              " 'ubidecarenone',\n",
              " 'its',\n",
              " 'knees',\n",
              " 'plasma',\n",
              " 'mean',\n",
              " 'received',\n",
              " 'movement',\n",
              " 'discomfort',\n",
              " 'do',\n",
              " 'level',\n",
              " 'sleeping',\n",
              " 'g',\n",
              " 'elbow',\n",
              " 'raised',\n",
              " 'crestor',\n",
              " 'kidney',\n",
              " 'observed',\n",
              " 'adverse',\n",
              " 'dull',\n",
              " 'any',\n",
              " 'present',\n",
              " 'solution',\n",
              " 'problem',\n",
              " 'influenza',\n",
              " 'spasm',\n",
              " 'chronic',\n",
              " 'each',\n",
              " 'ph',\n",
              " 'kg',\n",
              " 'some',\n",
              " 'take',\n",
              " 'n',\n",
              " 'however',\n",
              " 'felt',\n",
              " 'heavy',\n",
              " 'ibuprofen',\n",
              " 'toe',\n",
              " 'spasms',\n",
              " 'bed',\n",
              " 'started',\n",
              " 'controlled',\n",
              " 'm',\n",
              " 'most',\n",
              " 'reflux',\n",
              " 'hazy',\n",
              " 'similar',\n",
              " 'analgesic',\n",
              " 'exhaustion',\n",
              " 'tendonitis',\n",
              " 'if',\n",
              " '3',\n",
              " 'due',\n",
              " 'total',\n",
              " 'now',\n",
              " 'tablet',\n",
              " 'function',\n",
              " 'less',\n",
              " 'increase',\n",
              " 'activity',\n",
              " 'mood',\n",
              " 'vitro',\n",
              " 'test',\n",
              " 'daily',\n",
              " 'they',\n",
              " 'vomiting',\n",
              " 'abnormal',\n",
              " 'would',\n",
              " 'system',\n",
              " 'down',\n",
              " 'myopathy',\n",
              " 'medication',\n",
              " 'flatulence',\n",
              " 'who',\n",
              " 'flu',\n",
              " 'surgery',\n",
              " 'inflammation',\n",
              " 'thigh',\n",
              " 'just',\n",
              " 'mild',\n",
              " 'analysis',\n",
              " 'concentrate',\n",
              " 'sclerosis',\n",
              " 'irritable',\n",
              " 'fibromyalgia',\n",
              " 'l',\n",
              " 'single',\n",
              " 'concentrations',\n",
              " 'while',\n",
              " 'libido',\n",
              " 'better',\n",
              " 'throat',\n",
              " '2',\n",
              " 'patient',\n",
              " 'night',\n",
              " 'data',\n",
              " 'within',\n",
              " 'then',\n",
              " 'injury',\n",
              " 'randomized',\n",
              " 'cold',\n",
              " 'migraine',\n",
              " 'd',\n",
              " 'times',\n",
              " 'hips',\n",
              " 'developed',\n",
              " 'b',\n",
              " 'menstrual',\n",
              " 'eyes',\n",
              " 'simvastatin',\n",
              " 'following',\n",
              " 'changes',\n",
              " 'model',\n",
              " 'evaluated',\n",
              " 'nsaid',\n",
              " 'those',\n",
              " 'obtained',\n",
              " 'osteoarthritis',\n",
              " 't',\n",
              " 'mellitus',\n",
              " 'doctor',\n",
              " 'multiple',\n",
              " 'head',\n",
              " 'went',\n",
              " 'without',\n",
              " 'general',\n",
              " 'good',\n",
              " 'brain',\n",
              " 'lightheadedness',\n",
              " 'higher',\n",
              " 'therapy',\n",
              " 'disturbance',\n",
              " 'relief',\n",
              " 'ca',\n",
              " 'water',\n",
              " 'difference',\n",
              " 'sweating',\n",
              " 'malaise',\n",
              " 'postoperative',\n",
              " 'normal',\n",
              " 'under',\n",
              " 'because',\n",
              " 'based',\n",
              " 'cells',\n",
              " 'double',\n",
              " 'calves',\n",
              " 'think',\n",
              " 'wind',\n",
              " 'tremor',\n",
              " 'swings',\n",
              " 'ankles',\n",
              " 'stopped',\n",
              " 'appetite',\n",
              " 'failure',\n",
              " 'aching',\n",
              " 'oil',\n",
              " 'toes',\n",
              " 'confusion',\n",
              " 'soreness',\n",
              " 'infection',\n",
              " 'doses',\n",
              " 'combination',\n",
              " 'dissolution',\n",
              " 'associated',\n",
              " 'stairs',\n",
              " 'impaired',\n",
              " 'cell',\n",
              " 'took',\n",
              " 'peripheral',\n",
              " 'stress',\n",
              " 'new',\n",
              " 'min',\n",
              " 'application',\n",
              " 'celebrex',\n",
              " 'such',\n",
              " 'gastric',\n",
              " 'vs',\n",
              " 'blind',\n",
              " 'events',\n",
              " 'reported',\n",
              " 'face',\n",
              " 'area',\n",
              " 'intense',\n",
              " 'tinnitus',\n",
              " 'ezetimibe',\n",
              " 'change',\n",
              " 'finger',\n",
              " 'swallowing',\n",
              " 'e',\n",
              " 'four',\n",
              " 'prepared',\n",
              " 'esters',\n",
              " 'administered',\n",
              " 'rheumatoid',\n",
              " 'given',\n",
              " '10',\n",
              " 'strength',\n",
              " 'even',\n",
              " 'he',\n",
              " 'same',\n",
              " 'conditions',\n",
              " 'reduction',\n",
              " 'should',\n",
              " 'ascorbic',\n",
              " 'studied',\n",
              " 'hot',\n",
              " 'every',\n",
              " 'excruciating',\n",
              " 'x',\n",
              " 'response',\n",
              " 'coated',\n",
              " 'terrible',\n",
              " 'performed',\n",
              " 'order',\n",
              " 'nonsteroidal',\n",
              " 'post',\n",
              " 'related',\n",
              " 'nerve',\n",
              " 'still',\n",
              " 'lateral',\n",
              " 'being',\n",
              " 'rapid',\n",
              " 'paracetamol',\n",
              " 'paraesthesia',\n",
              " 'differences',\n",
              " 'cough',\n",
              " 'life',\n",
              " 'w',\n",
              " 'either',\n",
              " 'through',\n",
              " 'investigated',\n",
              " 'enzymes',\n",
              " 'values',\n",
              " 'restless',\n",
              " 'charleyhorse',\n",
              " 'depressed',\n",
              " 'subjects',\n",
              " 'heel',\n",
              " 'minutes',\n",
              " 'experienced',\n",
              " 'absorption',\n",
              " 'parkinson',\n",
              " 'healthy',\n",
              " 'ratio',\n",
              " 'year',\n",
              " 'trial',\n",
              " 'number',\n",
              " 'reaction',\n",
              " 'vitamin',\n",
              " 'indigestion',\n",
              " 'exercise',\n",
              " '&',\n",
              " 'urinary',\n",
              " 'motivation',\n",
              " 'long',\n",
              " 'major',\n",
              " 'parameters',\n",
              " 'fingers',\n",
              " 'dark',\n",
              " 'lupus',\n",
              " 'tendon',\n",
              " 'getting',\n",
              " 'active',\n",
              " 'assessed',\n",
              " 'measured',\n",
              " 'containing',\n",
              " 'palpitations',\n",
              " 'phase',\n",
              " 'decrease',\n",
              " 'statistically',\n",
              " 'much',\n",
              " 'injection',\n",
              " 'properties',\n",
              " 'range',\n",
              " \"'m\",\n",
              " 'ldl',\n",
              " 'form',\n",
              " 'overall',\n",
              " 'safety',\n",
              " 'you',\n",
              " '1',\n",
              " 'v',\n",
              " 'size',\n",
              " 'steroidal',\n",
              " 'taste',\n",
              " 'dyspnoea',\n",
              " 'per',\n",
              " 'moderate',\n",
              " 'indomethacin',\n",
              " 'month',\n",
              " 'tightness',\n",
              " 'ability',\n",
              " 'compare',\n",
              " 'since',\n",
              " 'always',\n",
              " 'delivery',\n",
              " 'oa',\n",
              " 'clearly',\n",
              " 'limbs',\n",
              " 'mm',\n",
              " 'coq10',\n",
              " ':',\n",
              " 'improvement',\n",
              " 'gout',\n",
              " 'work',\n",
              " 'statins',\n",
              " 'menopause',\n",
              " 'liquid',\n",
              " 'speech',\n",
              " 'ago',\n",
              " 'trouble',\n",
              " 'vivo',\n",
              " 'edema',\n",
              " 'almost',\n",
              " 'included',\n",
              " 'samples',\n",
              " 'never',\n",
              " 'scale',\n",
              " 'dosage',\n",
              " 'caused',\n",
              " 'auc',\n",
              " 'ng',\n",
              " 'going',\n",
              " 'breathing',\n",
              " 'ulcer',\n",
              " 'again',\n",
              " 'primary',\n",
              " 'light',\n",
              " 'twitch',\n",
              " 'morning',\n",
              " 'fish',\n",
              " 'wrist',\n",
              " 'sinus',\n",
              " 'dreams',\n",
              " '5',\n",
              " 'several',\n",
              " 'bone',\n",
              " 'risk',\n",
              " 'potential',\n",
              " 'taken',\n",
              " 'move',\n",
              " 'cancer',\n",
              " 'tissue',\n",
              " 'fever',\n",
              " 'uterine',\n",
              " 'misoprostol',\n",
              " 'amyotrophic',\n",
              " 'tolerability',\n",
              " 'baseline',\n",
              " 'development',\n",
              " 'heartburn',\n",
              " 'aqueous',\n",
              " 'k',\n",
              " 'determined',\n",
              " 'thighs',\n",
              " 'statin',\n",
              " 'physical',\n",
              " 'sustained',\n",
              " 'co',\n",
              " 'greater',\n",
              " 'fog',\n",
              " 'our',\n",
              " 'although',\n",
              " 'bioavailability',\n",
              " 'go',\n",
              " 'human',\n",
              " 'applied',\n",
              " 'evaluate',\n",
              " 'ii',\n",
              " 'aspirin',\n",
              " 'therapeutic',\n",
              " '20',\n",
              " 'breath',\n",
              " 'twitching',\n",
              " 'many',\n",
              " 'old',\n",
              " 'advil',\n",
              " 'attacks',\n",
              " 'demonstrated',\n",
              " 'mouth',\n",
              " 'six',\n",
              " 'dependent',\n",
              " 'colic',\n",
              " 'scores',\n",
              " 'drowsy',\n",
              " 'once',\n",
              " 'aim',\n",
              " 'cox',\n",
              " 'bowel',\n",
              " 'extremely',\n",
              " 'tract',\n",
              " 'process',\n",
              " 'addition',\n",
              " 'hardly',\n",
              " 'what',\n",
              " 'hour',\n",
              " 'diet',\n",
              " 'age',\n",
              " 'products',\n",
              " 'nasal',\n",
              " 'provoked',\n",
              " 'having',\n",
              " 'creatinine',\n",
              " 'matrix',\n",
              " 'hypertension',\n",
              " 'around',\n",
              " 'action',\n",
              " 'revealed',\n",
              " 'few',\n",
              " 'initial',\n",
              " 'polymer',\n",
              " 'including',\n",
              " 'o',\n",
              " 'improved',\n",
              " 'free',\n",
              " \"'ve\",\n",
              " 'male',\n",
              " 'mobility',\n",
              " 'elbows',\n",
              " '+',\n",
              " 'site',\n",
              " 'alone',\n",
              " '4',\n",
              " 'numb',\n",
              " 'mice',\n",
              " 'horses',\n",
              " 'inhibition',\n",
              " 'aleve',\n",
              " 'end',\n",
              " 'trials',\n",
              " 'case',\n",
              " 'quality',\n",
              " 'various',\n",
              " 'last',\n",
              " 'tight',\n",
              " 'followed',\n",
              " 'worse',\n",
              " 'intensity',\n",
              " 'onset',\n",
              " 'natural',\n",
              " 'tricor',\n",
              " 'made',\n",
              " 'volunteers',\n",
              " 'sharp',\n",
              " 'agent',\n",
              " 'indicated',\n",
              " 'plantar',\n",
              " 'facial',\n",
              " 'fenofibrate',\n",
              " 'mechanism',\n",
              " 'lost',\n",
              " 'formation',\n",
              " 'tylenol',\n",
              " 'na',\n",
              " 'barely',\n",
              " 'alpha',\n",
              " 'inhibitor',\n",
              " 'combined',\n",
              " 'tolerance',\n",
              " 'lethargy',\n",
              " 'cause',\n",
              " 'cerebrovascular',\n",
              " 'surface',\n",
              " 'fatigued',\n",
              " 'standard',\n",
              " 'presence',\n",
              " 'treatments',\n",
              " 'mental',\n",
              " 'sick',\n",
              " 'permeation',\n",
              " '40',\n",
              " 'pulse',\n",
              " 'randomly',\n",
              " 'further',\n",
              " 'little',\n",
              " 'drive',\n",
              " 'sugar',\n",
              " 'ms',\n",
              " 'does',\n",
              " 'tests',\n",
              " 'local',\n",
              " 'content',\n",
              " 'ringing',\n",
              " 'protein',\n",
              " 'suggest',\n",
              " 'animals',\n",
              " 'exposure',\n",
              " 'generally',\n",
              " 'loose',\n",
              " 'congestion',\n",
              " 'accident',\n",
              " 'shown',\n",
              " 'amount',\n",
              " 'pharmaceutical',\n",
              " 'cases',\n",
              " 'sex',\n",
              " 'finding',\n",
              " '?',\n",
              " 'possible',\n",
              " 'another',\n",
              " 'peak',\n",
              " 'systemic',\n",
              " 'stroke',\n",
              " 'charley',\n",
              " 'liptor',\n",
              " 'fast',\n",
              " 'common',\n",
              " 'malignant',\n",
              " ';',\n",
              " 'oedema',\n",
              " 'divided',\n",
              " 'second',\n",
              " 'especially',\n",
              " 'rat',\n",
              " 'shortness',\n",
              " 'whereas',\n",
              " 'food',\n",
              " 'complex',\n",
              " 'fluid',\n",
              " 'thought',\n",
              " 'corneal',\n",
              " 'pharmacokinetic',\n",
              " 'prescribed',\n",
              " 'experimental',\n",
              " 'horrible',\n",
              " 'deep',\n",
              " 'profile',\n",
              " 'hard',\n",
              " 'moody',\n",
              " 'stamina',\n",
              " 'frequent',\n",
              " 'tested',\n",
              " 'score',\n",
              " 'became',\n",
              " 'resulted',\n",
              " 'plus',\n",
              " 'your',\n",
              " 'conducted',\n",
              " 'versus',\n",
              " 'evaluation',\n",
              " 'way',\n",
              " 'available',\n",
              " 'extremity',\n",
              " 'increasing',\n",
              " 'relative',\n",
              " 'determine',\n",
              " 'panic',\n",
              " 'periods',\n",
              " 'serious',\n",
              " 'patch',\n",
              " 'irregular',\n",
              " 'coronary',\n",
              " 'vas',\n",
              " 'agents',\n",
              " 'temperature',\n",
              " 'ear',\n",
              " 'sweats',\n",
              " 'lot',\n",
              " 'hunger',\n",
              " 'zetia',\n",
              " 'away',\n",
              " 'profiles',\n",
              " 'naproxen',\n",
              " 'f',\n",
              " 'pruritus',\n",
              " 'nervous',\n",
              " 'degrees',\n",
              " 'als',\n",
              " 'too',\n",
              " 'thoughts',\n",
              " 'secondary',\n",
              " 'third',\n",
              " 'complete',\n",
              " 'microspheres',\n",
              " 'tolerated',\n",
              " 'rhabdomyolysis',\n",
              " 'dr',\n",
              " 'diabetic',\n",
              " 'five',\n",
              " 'produced',\n",
              " 'dizzy',\n",
              " 'health',\n",
              " 'achilles',\n",
              " 'rofecoxib',\n",
              " 'tension',\n",
              " 'twice',\n",
              " 'stand',\n",
              " 'got',\n",
              " 'vehicle',\n",
              " 'stop',\n",
              " 'care',\n",
              " 'slurred',\n",
              " 'see',\n",
              " 'th',\n",
              " 'product',\n",
              " 'find',\n",
              " 'fasciitis',\n",
              " 'help',\n",
              " 'anything',\n",
              " 'ethyl',\n",
              " 'evidence',\n",
              " 'lowering',\n",
              " 'among',\n",
              " 'cmax',\n",
              " 'calcium',\n",
              " 'bp',\n",
              " 'medications',\n",
              " 'eczema',\n",
              " 'production',\n",
              " 'them',\n",
              " 'global',\n",
              " 'methods',\n",
              " 'enteric',\n",
              " 'point',\n",
              " 'codeine',\n",
              " 'where',\n",
              " 'sensitive',\n",
              " 'eat',\n",
              " 'told',\n",
              " 'cd',\n",
              " 'norvasc',\n",
              " 'least',\n",
              " 'density',\n",
              " 'sensitivity',\n",
              " 'inability',\n",
              " 'region',\n",
              " 'achieved',\n",
              " 'small',\n",
              " 'against',\n",
              " 'recently',\n",
              " 'according',\n",
              " 'flow',\n",
              " 'respiratory',\n",
              " 'strain',\n",
              " 'how',\n",
              " 'assessment',\n",
              " 'condition',\n",
              " 'show',\n",
              " 'duration',\n",
              " 'said',\n",
              " 'considered',\n",
              " 'slight',\n",
              " 'synthesis',\n",
              " 'began',\n",
              " 'efficiency',\n",
              " 'dysfunction',\n",
              " 'reading',\n",
              " 'neurontin',\n",
              " 'state',\n",
              " 'things',\n",
              " 'pre',\n",
              " 'able',\n",
              " 'early',\n",
              " 'preparation',\n",
              " 'medicine',\n",
              " 'bursitis',\n",
              " 'sensations',\n",
              " 'across',\n",
              " 'prednisone',\n",
              " 'scalp',\n",
              " 'analgesia',\n",
              " 'microg',\n",
              " 'capsules',\n",
              " 'growth',\n",
              " 'people',\n",
              " 'solid',\n",
              " 'cataflam',\n",
              " 'immediately',\n",
              " 'lipid',\n",
              " 'erythematosus',\n",
              " 'cataract',\n",
              " 'difficult',\n",
              " 'research',\n",
              " 'beads',\n",
              " 'triglycerides',\n",
              " 'cm',\n",
              " 'cardiovascular',\n",
              " 'foggy',\n",
              " 'hurts',\n",
              " 'commercial',\n",
              " 'permanent',\n",
              " 'make',\n",
              " 'recorded',\n",
              " 'carried',\n",
              " 'prostaglandin',\n",
              " 'volume',\n",
              " 'sense',\n",
              " 'determination',\n",
              " 'technique',\n",
              " 'thinking',\n",
              " 'comparable',\n",
              " 'asthma',\n",
              " 'participants',\n",
              " 'extent',\n",
              " 'know',\n",
              " ...]"
            ]
          },
          "metadata": {
            "tags": []
          },
          "execution_count": 18
        }
      ]
    },
    {
      "cell_type": "code",
      "metadata": {
        "id": "yPWr03mls3VT",
        "outputId": "830b3b48-21d6-4e00-85e8-c67e0bf66c90",
        "colab": {
          "base_uri": "https://localhost:8080/",
          "height": 17
        }
      },
      "source": [
        "model_path = path/'models'\n",
        "model_path.mkdir(exist_ok=True)\n",
        "url = 'http://files.fast.ai/models/wt103_v1/'\n",
        "download_url(f'{url}lstm_wt103.pth', model_path/'lstm_wt103.pth')\n",
        "download_url(f'{url}itos_wt103.pkl', model_path/'itos_wt103.pkl')"
      ],
      "execution_count": 22,
      "outputs": [
        {
          "output_type": "display_data",
          "data": {
            "text/html": [
              ""
            ],
            "text/plain": [
              "<IPython.core.display.HTML object>"
            ]
          },
          "metadata": {
            "tags": []
          }
        },
        {
          "output_type": "display_data",
          "data": {
            "text/html": [
              ""
            ],
            "text/plain": [
              "<IPython.core.display.HTML object>"
            ]
          },
          "metadata": {
            "tags": []
          }
        }
      ]
    },
    {
      "cell_type": "code",
      "metadata": {
        "id": "JRzvWg8RtGGr"
      },
      "source": [
        "learn = language_model_learner(data_lm, AWD_LSTM, drop_mult=0.5)"
      ],
      "execution_count": 23,
      "outputs": []
    },
    {
      "cell_type": "code",
      "metadata": {
        "id": "xKK7GeBev7Xn",
        "outputId": "560380cb-31e0-4d77-dffc-700371bdb453",
        "colab": {
          "base_uri": "https://localhost:8080/",
          "height": 79
        }
      },
      "source": [
        "learn.fit_one_cycle(1, 1e-2)"
      ],
      "execution_count": 24,
      "outputs": [
        {
          "output_type": "display_data",
          "data": {
            "text/html": [
              "<table border=\"1\" class=\"dataframe\">\n",
              "  <thead>\n",
              "    <tr style=\"text-align: left;\">\n",
              "      <th>epoch</th>\n",
              "      <th>train_loss</th>\n",
              "      <th>valid_loss</th>\n",
              "      <th>accuracy</th>\n",
              "      <th>time</th>\n",
              "    </tr>\n",
              "  </thead>\n",
              "  <tbody>\n",
              "    <tr>\n",
              "      <td>0</td>\n",
              "      <td>3.816972</td>\n",
              "      <td>3.461866</td>\n",
              "      <td>0.436776</td>\n",
              "      <td>35:58</td>\n",
              "    </tr>\n",
              "  </tbody>\n",
              "</table>"
            ],
            "text/plain": [
              "<IPython.core.display.HTML object>"
            ]
          },
          "metadata": {
            "tags": []
          }
        }
      ]
    },
    {
      "cell_type": "code",
      "metadata": {
        "id": "iB7rHGQCwd12"
      },
      "source": [
        "# learn.fit_one_cycle(1, 1e-2)"
      ],
      "execution_count": 25,
      "outputs": []
    },
    {
      "cell_type": "code",
      "metadata": {
        "id": "_BnSuAeCwkBe"
      },
      "source": [
        "# learn.fit_one_cycle(1, 1e-3)"
      ],
      "execution_count": 26,
      "outputs": []
    },
    {
      "cell_type": "code",
      "metadata": {
        "id": "MuTm-RFjwrEX",
        "outputId": "a7eabfc4-7ea1-4b77-967a-e2b5c3f37199",
        "colab": {
          "base_uri": "https://localhost:8080/",
          "height": 79
        }
      },
      "source": [
        "learn.fit_one_cycle(1, 1e-3)"
      ],
      "execution_count": 27,
      "outputs": [
        {
          "output_type": "display_data",
          "data": {
            "text/html": [
              "<table border=\"1\" class=\"dataframe\">\n",
              "  <thead>\n",
              "    <tr style=\"text-align: left;\">\n",
              "      <th>epoch</th>\n",
              "      <th>train_loss</th>\n",
              "      <th>valid_loss</th>\n",
              "      <th>accuracy</th>\n",
              "      <th>time</th>\n",
              "    </tr>\n",
              "  </thead>\n",
              "  <tbody>\n",
              "    <tr>\n",
              "      <td>0</td>\n",
              "      <td>3.485849</td>\n",
              "      <td>3.406280</td>\n",
              "      <td>0.441987</td>\n",
              "      <td>36:09</td>\n",
              "    </tr>\n",
              "  </tbody>\n",
              "</table>"
            ],
            "text/plain": [
              "<IPython.core.display.HTML object>"
            ]
          },
          "metadata": {
            "tags": []
          }
        }
      ]
    },
    {
      "cell_type": "code",
      "metadata": {
        "id": "1Er2ExO8wr7Y"
      },
      "source": [
        "learn.save_encoder('pubmed_cadec_askpatient_mixed_fold9_first')"
      ],
      "execution_count": 28,
      "outputs": []
    },
    {
      "cell_type": "code",
      "metadata": {
        "id": "z52cZs2qwvad",
        "outputId": "c0fca085-0a30-46f2-ec10-5cac6474b1e5",
        "colab": {
          "base_uri": "https://localhost:8080/",
          "height": 79
        }
      },
      "source": [
        "learn = text_classifier_learner(data_clas,AWD_LSTM, drop_mult=0.5)\n",
        "learn.load_encoder('pubmed_cadec_askpatient_mixed_fold9_first')\n",
        "learn.fit_one_cycle(1, 1e-2)"
      ],
      "execution_count": 29,
      "outputs": [
        {
          "output_type": "display_data",
          "data": {
            "text/html": [
              "<table border=\"1\" class=\"dataframe\">\n",
              "  <thead>\n",
              "    <tr style=\"text-align: left;\">\n",
              "      <th>epoch</th>\n",
              "      <th>train_loss</th>\n",
              "      <th>valid_loss</th>\n",
              "      <th>accuracy</th>\n",
              "      <th>time</th>\n",
              "    </tr>\n",
              "  </thead>\n",
              "  <tbody>\n",
              "    <tr>\n",
              "      <td>0</td>\n",
              "      <td>3.958101</td>\n",
              "      <td>3.319452</td>\n",
              "      <td>0.423181</td>\n",
              "      <td>01:11</td>\n",
              "    </tr>\n",
              "  </tbody>\n",
              "</table>"
            ],
            "text/plain": [
              "<IPython.core.display.HTML object>"
            ]
          },
          "metadata": {
            "tags": []
          }
        }
      ]
    },
    {
      "cell_type": "code",
      "metadata": {
        "id": "ImwQP1PJwzxd",
        "outputId": "741e599d-a813-4ddf-dcff-371d73b9d9ea",
        "colab": {
          "base_uri": "https://localhost:8080/",
          "height": 79
        }
      },
      "source": [
        "learn.freeze_to(-2)\n",
        "learn.fit_one_cycle(1, slice(5e-3/2., 5e-3))"
      ],
      "execution_count": 30,
      "outputs": [
        {
          "output_type": "display_data",
          "data": {
            "text/html": [
              "<table border=\"1\" class=\"dataframe\">\n",
              "  <thead>\n",
              "    <tr style=\"text-align: left;\">\n",
              "      <th>epoch</th>\n",
              "      <th>train_loss</th>\n",
              "      <th>valid_loss</th>\n",
              "      <th>accuracy</th>\n",
              "      <th>time</th>\n",
              "    </tr>\n",
              "  </thead>\n",
              "  <tbody>\n",
              "    <tr>\n",
              "      <td>0</td>\n",
              "      <td>2.875328</td>\n",
              "      <td>2.739612</td>\n",
              "      <td>0.517520</td>\n",
              "      <td>01:28</td>\n",
              "    </tr>\n",
              "  </tbody>\n",
              "</table>"
            ],
            "text/plain": [
              "<IPython.core.display.HTML object>"
            ]
          },
          "metadata": {
            "tags": []
          }
        }
      ]
    },
    {
      "cell_type": "code",
      "metadata": {
        "id": "Owff_BJXw53u",
        "outputId": "a328b4de-6c85-4102-f016-3255aebd9f0d",
        "colab": {
          "base_uri": "https://localhost:8080/",
          "height": 79
        }
      },
      "source": [
        "learn.unfreeze()\n",
        "learn.fit_one_cycle(1, slice(2e-3/100, 2e-3))"
      ],
      "execution_count": 31,
      "outputs": [
        {
          "output_type": "display_data",
          "data": {
            "text/html": [
              "<table border=\"1\" class=\"dataframe\">\n",
              "  <thead>\n",
              "    <tr style=\"text-align: left;\">\n",
              "      <th>epoch</th>\n",
              "      <th>train_loss</th>\n",
              "      <th>valid_loss</th>\n",
              "      <th>accuracy</th>\n",
              "      <th>time</th>\n",
              "    </tr>\n",
              "  </thead>\n",
              "  <tbody>\n",
              "    <tr>\n",
              "      <td>0</td>\n",
              "      <td>2.339214</td>\n",
              "      <td>2.345653</td>\n",
              "      <td>0.597035</td>\n",
              "      <td>03:22</td>\n",
              "    </tr>\n",
              "  </tbody>\n",
              "</table>"
            ],
            "text/plain": [
              "<IPython.core.display.HTML object>"
            ]
          },
          "metadata": {
            "tags": []
          }
        }
      ]
    },
    {
      "cell_type": "code",
      "metadata": {
        "id": "lqAyu56V8Waq",
        "outputId": "ad97c8e8-691f-4de3-d7a1-30b40836f926",
        "colab": {
          "base_uri": "https://localhost:8080/",
          "height": 110
        }
      },
      "source": [
        "learn.fit_one_cycle(2, slice(2e-3/100, 2e-3))"
      ],
      "execution_count": 32,
      "outputs": [
        {
          "output_type": "display_data",
          "data": {
            "text/html": [
              "<table border=\"1\" class=\"dataframe\">\n",
              "  <thead>\n",
              "    <tr style=\"text-align: left;\">\n",
              "      <th>epoch</th>\n",
              "      <th>train_loss</th>\n",
              "      <th>valid_loss</th>\n",
              "      <th>accuracy</th>\n",
              "      <th>time</th>\n",
              "    </tr>\n",
              "  </thead>\n",
              "  <tbody>\n",
              "    <tr>\n",
              "      <td>0</td>\n",
              "      <td>1.992968</td>\n",
              "      <td>2.085386</td>\n",
              "      <td>0.640162</td>\n",
              "      <td>03:19</td>\n",
              "    </tr>\n",
              "    <tr>\n",
              "      <td>1</td>\n",
              "      <td>1.702852</td>\n",
              "      <td>1.956919</td>\n",
              "      <td>0.642857</td>\n",
              "      <td>03:19</td>\n",
              "    </tr>\n",
              "  </tbody>\n",
              "</table>"
            ],
            "text/plain": [
              "<IPython.core.display.HTML object>"
            ]
          },
          "metadata": {
            "tags": []
          }
        }
      ]
    },
    {
      "cell_type": "code",
      "metadata": {
        "id": "a7I1xMRp8bUd",
        "outputId": "45c8a6c6-91d5-4a02-8cee-1ba6a7d9b0dd",
        "colab": {
          "base_uri": "https://localhost:8080/",
          "height": 110
        }
      },
      "source": [
        "learn.fit_one_cycle(2, slice(2e-3/100, 2e-3))"
      ],
      "execution_count": 33,
      "outputs": [
        {
          "output_type": "display_data",
          "data": {
            "text/html": [
              "<table border=\"1\" class=\"dataframe\">\n",
              "  <thead>\n",
              "    <tr style=\"text-align: left;\">\n",
              "      <th>epoch</th>\n",
              "      <th>train_loss</th>\n",
              "      <th>valid_loss</th>\n",
              "      <th>accuracy</th>\n",
              "      <th>time</th>\n",
              "    </tr>\n",
              "  </thead>\n",
              "  <tbody>\n",
              "    <tr>\n",
              "      <td>0</td>\n",
              "      <td>1.597936</td>\n",
              "      <td>1.768976</td>\n",
              "      <td>0.684636</td>\n",
              "      <td>03:42</td>\n",
              "    </tr>\n",
              "    <tr>\n",
              "      <td>1</td>\n",
              "      <td>1.320490</td>\n",
              "      <td>1.679849</td>\n",
              "      <td>0.703504</td>\n",
              "      <td>03:17</td>\n",
              "    </tr>\n",
              "  </tbody>\n",
              "</table>"
            ],
            "text/plain": [
              "<IPython.core.display.HTML object>"
            ]
          },
          "metadata": {
            "tags": []
          }
        }
      ]
    },
    {
      "cell_type": "code",
      "metadata": {
        "id": "UAnti-XmGVfO",
        "outputId": "08601104-df2f-4046-c6ad-2f7359228025",
        "colab": {
          "base_uri": "https://localhost:8080/",
          "height": 110
        }
      },
      "source": [
        "learn.fit_one_cycle(2, slice(2e-3/100, 2e-3))"
      ],
      "execution_count": 34,
      "outputs": [
        {
          "output_type": "display_data",
          "data": {
            "text/html": [
              "<table border=\"1\" class=\"dataframe\">\n",
              "  <thead>\n",
              "    <tr style=\"text-align: left;\">\n",
              "      <th>epoch</th>\n",
              "      <th>train_loss</th>\n",
              "      <th>valid_loss</th>\n",
              "      <th>accuracy</th>\n",
              "      <th>time</th>\n",
              "    </tr>\n",
              "  </thead>\n",
              "  <tbody>\n",
              "    <tr>\n",
              "      <td>0</td>\n",
              "      <td>1.177221</td>\n",
              "      <td>1.555274</td>\n",
              "      <td>0.725067</td>\n",
              "      <td>03:32</td>\n",
              "    </tr>\n",
              "    <tr>\n",
              "      <td>1</td>\n",
              "      <td>1.027568</td>\n",
              "      <td>1.490998</td>\n",
              "      <td>0.742588</td>\n",
              "      <td>03:16</td>\n",
              "    </tr>\n",
              "  </tbody>\n",
              "</table>"
            ],
            "text/plain": [
              "<IPython.core.display.HTML object>"
            ]
          },
          "metadata": {
            "tags": []
          }
        }
      ]
    },
    {
      "cell_type": "code",
      "metadata": {
        "id": "bIft7W25GwSu",
        "outputId": "7cc593ee-3b5e-4a5b-9a50-4611f3806bbc",
        "colab": {
          "base_uri": "https://localhost:8080/",
          "height": 110
        }
      },
      "source": [
        "learn.fit_one_cycle(2, slice(2e-3/100, 2e-3))"
      ],
      "execution_count": 35,
      "outputs": [
        {
          "output_type": "display_data",
          "data": {
            "text/html": [
              "<table border=\"1\" class=\"dataframe\">\n",
              "  <thead>\n",
              "    <tr style=\"text-align: left;\">\n",
              "      <th>epoch</th>\n",
              "      <th>train_loss</th>\n",
              "      <th>valid_loss</th>\n",
              "      <th>accuracy</th>\n",
              "      <th>time</th>\n",
              "    </tr>\n",
              "  </thead>\n",
              "  <tbody>\n",
              "    <tr>\n",
              "      <td>0</td>\n",
              "      <td>0.970472</td>\n",
              "      <td>1.415296</td>\n",
              "      <td>0.746631</td>\n",
              "      <td>03:40</td>\n",
              "    </tr>\n",
              "    <tr>\n",
              "      <td>1</td>\n",
              "      <td>0.844565</td>\n",
              "      <td>1.373346</td>\n",
              "      <td>0.753369</td>\n",
              "      <td>03:27</td>\n",
              "    </tr>\n",
              "  </tbody>\n",
              "</table>"
            ],
            "text/plain": [
              "<IPython.core.display.HTML object>"
            ]
          },
          "metadata": {
            "tags": []
          }
        }
      ]
    },
    {
      "cell_type": "code",
      "metadata": {
        "id": "EEHszVRvGyFt",
        "outputId": "7808df21-b3d7-4c39-eb95-dfd9c0782479",
        "colab": {
          "base_uri": "https://localhost:8080/",
          "height": 110
        }
      },
      "source": [
        "learn.fit_one_cycle(2, slice(2e-3/100, 2e-3))"
      ],
      "execution_count": 36,
      "outputs": [
        {
          "output_type": "display_data",
          "data": {
            "text/html": [
              "<table border=\"1\" class=\"dataframe\">\n",
              "  <thead>\n",
              "    <tr style=\"text-align: left;\">\n",
              "      <th>epoch</th>\n",
              "      <th>train_loss</th>\n",
              "      <th>valid_loss</th>\n",
              "      <th>accuracy</th>\n",
              "      <th>time</th>\n",
              "    </tr>\n",
              "  </thead>\n",
              "  <tbody>\n",
              "    <tr>\n",
              "      <td>0</td>\n",
              "      <td>0.808211</td>\n",
              "      <td>1.331710</td>\n",
              "      <td>0.760108</td>\n",
              "      <td>03:34</td>\n",
              "    </tr>\n",
              "    <tr>\n",
              "      <td>1</td>\n",
              "      <td>0.699164</td>\n",
              "      <td>1.278810</td>\n",
              "      <td>0.787062</td>\n",
              "      <td>03:44</td>\n",
              "    </tr>\n",
              "  </tbody>\n",
              "</table>"
            ],
            "text/plain": [
              "<IPython.core.display.HTML object>"
            ]
          },
          "metadata": {
            "tags": []
          }
        }
      ]
    },
    {
      "cell_type": "code",
      "metadata": {
        "id": "XsHfrhCHG3dN",
        "outputId": "1976e126-1800-442c-99de-5eaf4f34d816",
        "colab": {
          "base_uri": "https://localhost:8080/",
          "height": 171
        }
      },
      "source": [
        "learn.fit_one_cycle(4, slice(2e-3/100, 2e-3))"
      ],
      "execution_count": 37,
      "outputs": [
        {
          "output_type": "display_data",
          "data": {
            "text/html": [
              "<table border=\"1\" class=\"dataframe\">\n",
              "  <thead>\n",
              "    <tr style=\"text-align: left;\">\n",
              "      <th>epoch</th>\n",
              "      <th>train_loss</th>\n",
              "      <th>valid_loss</th>\n",
              "      <th>accuracy</th>\n",
              "      <th>time</th>\n",
              "    </tr>\n",
              "  </thead>\n",
              "  <tbody>\n",
              "    <tr>\n",
              "      <td>0</td>\n",
              "      <td>0.629241</td>\n",
              "      <td>1.314877</td>\n",
              "      <td>0.781671</td>\n",
              "      <td>03:32</td>\n",
              "    </tr>\n",
              "    <tr>\n",
              "      <td>1</td>\n",
              "      <td>0.660716</td>\n",
              "      <td>1.256529</td>\n",
              "      <td>0.781671</td>\n",
              "      <td>03:17</td>\n",
              "    </tr>\n",
              "    <tr>\n",
              "      <td>2</td>\n",
              "      <td>0.576824</td>\n",
              "      <td>1.193663</td>\n",
              "      <td>0.804582</td>\n",
              "      <td>03:35</td>\n",
              "    </tr>\n",
              "    <tr>\n",
              "      <td>3</td>\n",
              "      <td>0.497138</td>\n",
              "      <td>1.160173</td>\n",
              "      <td>0.803235</td>\n",
              "      <td>03:39</td>\n",
              "    </tr>\n",
              "  </tbody>\n",
              "</table>"
            ],
            "text/plain": [
              "<IPython.core.display.HTML object>"
            ]
          },
          "metadata": {
            "tags": []
          }
        }
      ]
    },
    {
      "cell_type": "code",
      "metadata": {
        "id": "0Zsd99isb9EQ",
        "outputId": "b83eeffc-7991-4fe4-d009-707029574276",
        "colab": {
          "base_uri": "https://localhost:8080/",
          "height": 171
        }
      },
      "source": [
        "learn.fit_one_cycle(4, slice(2e-3/100, 2e-3))"
      ],
      "execution_count": 38,
      "outputs": [
        {
          "output_type": "display_data",
          "data": {
            "text/html": [
              "<table border=\"1\" class=\"dataframe\">\n",
              "  <thead>\n",
              "    <tr style=\"text-align: left;\">\n",
              "      <th>epoch</th>\n",
              "      <th>train_loss</th>\n",
              "      <th>valid_loss</th>\n",
              "      <th>accuracy</th>\n",
              "      <th>time</th>\n",
              "    </tr>\n",
              "  </thead>\n",
              "  <tbody>\n",
              "    <tr>\n",
              "      <td>0</td>\n",
              "      <td>0.491431</td>\n",
              "      <td>1.192627</td>\n",
              "      <td>0.803235</td>\n",
              "      <td>03:26</td>\n",
              "    </tr>\n",
              "    <tr>\n",
              "      <td>1</td>\n",
              "      <td>0.502830</td>\n",
              "      <td>1.151319</td>\n",
              "      <td>0.812668</td>\n",
              "      <td>03:35</td>\n",
              "    </tr>\n",
              "    <tr>\n",
              "      <td>2</td>\n",
              "      <td>0.415567</td>\n",
              "      <td>1.141369</td>\n",
              "      <td>0.818059</td>\n",
              "      <td>03:29</td>\n",
              "    </tr>\n",
              "    <tr>\n",
              "      <td>3</td>\n",
              "      <td>0.350178</td>\n",
              "      <td>1.103785</td>\n",
              "      <td>0.819407</td>\n",
              "      <td>03:24</td>\n",
              "    </tr>\n",
              "  </tbody>\n",
              "</table>"
            ],
            "text/plain": [
              "<IPython.core.display.HTML object>"
            ]
          },
          "metadata": {
            "tags": []
          }
        }
      ]
    },
    {
      "cell_type": "code",
      "metadata": {
        "id": "atNWNKDFPbuI",
        "outputId": "b8f92e96-640f-4375-db6c-b832e7f188a4",
        "colab": {
          "base_uri": "https://localhost:8080/",
          "height": 171
        }
      },
      "source": [
        "# learn.fit_one_cycle(4, slice(2e-3/100, 2e-3))"
      ],
      "execution_count": 39,
      "outputs": [
        {
          "output_type": "display_data",
          "data": {
            "text/html": [
              "<table border=\"1\" class=\"dataframe\">\n",
              "  <thead>\n",
              "    <tr style=\"text-align: left;\">\n",
              "      <th>epoch</th>\n",
              "      <th>train_loss</th>\n",
              "      <th>valid_loss</th>\n",
              "      <th>accuracy</th>\n",
              "      <th>time</th>\n",
              "    </tr>\n",
              "  </thead>\n",
              "  <tbody>\n",
              "    <tr>\n",
              "      <td>0</td>\n",
              "      <td>0.354612</td>\n",
              "      <td>1.166176</td>\n",
              "      <td>0.809973</td>\n",
              "      <td>03:16</td>\n",
              "    </tr>\n",
              "    <tr>\n",
              "      <td>1</td>\n",
              "      <td>0.389529</td>\n",
              "      <td>1.128959</td>\n",
              "      <td>0.820755</td>\n",
              "      <td>03:18</td>\n",
              "    </tr>\n",
              "    <tr>\n",
              "      <td>2</td>\n",
              "      <td>0.358228</td>\n",
              "      <td>1.079651</td>\n",
              "      <td>0.828841</td>\n",
              "      <td>03:26</td>\n",
              "    </tr>\n",
              "    <tr>\n",
              "      <td>3</td>\n",
              "      <td>0.293039</td>\n",
              "      <td>1.078379</td>\n",
              "      <td>0.830189</td>\n",
              "      <td>03:35</td>\n",
              "    </tr>\n",
              "  </tbody>\n",
              "</table>"
            ],
            "text/plain": [
              "<IPython.core.display.HTML object>"
            ]
          },
          "metadata": {
            "tags": []
          }
        }
      ]
    },
    {
      "cell_type": "code",
      "metadata": {
        "id": "rKrBTZ0T1uVA",
        "outputId": "907f6171-cdb9-4362-ac17-23f35c824bf9",
        "colab": {
          "base_uri": "https://localhost:8080/",
          "height": 171
        }
      },
      "source": [
        "# learn.fit_one_cycle(4, slice(2e-3/100, 2e-3))"
      ],
      "execution_count": 40,
      "outputs": [
        {
          "output_type": "display_data",
          "data": {
            "text/html": [
              "<table border=\"1\" class=\"dataframe\">\n",
              "  <thead>\n",
              "    <tr style=\"text-align: left;\">\n",
              "      <th>epoch</th>\n",
              "      <th>train_loss</th>\n",
              "      <th>valid_loss</th>\n",
              "      <th>accuracy</th>\n",
              "      <th>time</th>\n",
              "    </tr>\n",
              "  </thead>\n",
              "  <tbody>\n",
              "    <tr>\n",
              "      <td>0</td>\n",
              "      <td>0.283412</td>\n",
              "      <td>1.147953</td>\n",
              "      <td>0.820755</td>\n",
              "      <td>03:31</td>\n",
              "    </tr>\n",
              "    <tr>\n",
              "      <td>1</td>\n",
              "      <td>0.339905</td>\n",
              "      <td>1.157306</td>\n",
              "      <td>0.830189</td>\n",
              "      <td>03:34</td>\n",
              "    </tr>\n",
              "    <tr>\n",
              "      <td>2</td>\n",
              "      <td>0.304252</td>\n",
              "      <td>1.108460</td>\n",
              "      <td>0.836927</td>\n",
              "      <td>03:26</td>\n",
              "    </tr>\n",
              "    <tr>\n",
              "      <td>3</td>\n",
              "      <td>0.246475</td>\n",
              "      <td>1.113789</td>\n",
              "      <td>0.836927</td>\n",
              "      <td>03:15</td>\n",
              "    </tr>\n",
              "  </tbody>\n",
              "</table>"
            ],
            "text/plain": [
              "<IPython.core.display.HTML object>"
            ]
          },
          "metadata": {
            "tags": []
          }
        }
      ]
    },
    {
      "cell_type": "code",
      "metadata": {
        "id": "ajQC6WDg1yA9",
        "outputId": "b40dd2c4-8aec-4f3f-c4a2-1c5fea1ea3df",
        "colab": {
          "base_uri": "https://localhost:8080/",
          "height": 171
        }
      },
      "source": [
        "# learn.fit_one_cycle(4, slice(2e-3/100, 2e-3))"
      ],
      "execution_count": 41,
      "outputs": [
        {
          "output_type": "display_data",
          "data": {
            "text/html": [
              "<table border=\"1\" class=\"dataframe\">\n",
              "  <thead>\n",
              "    <tr style=\"text-align: left;\">\n",
              "      <th>epoch</th>\n",
              "      <th>train_loss</th>\n",
              "      <th>valid_loss</th>\n",
              "      <th>accuracy</th>\n",
              "      <th>time</th>\n",
              "    </tr>\n",
              "  </thead>\n",
              "  <tbody>\n",
              "    <tr>\n",
              "      <td>0</td>\n",
              "      <td>0.252536</td>\n",
              "      <td>1.116741</td>\n",
              "      <td>0.832884</td>\n",
              "      <td>03:38</td>\n",
              "    </tr>\n",
              "    <tr>\n",
              "      <td>1</td>\n",
              "      <td>0.312478</td>\n",
              "      <td>1.106091</td>\n",
              "      <td>0.835580</td>\n",
              "      <td>03:36</td>\n",
              "    </tr>\n",
              "    <tr>\n",
              "      <td>2</td>\n",
              "      <td>0.254409</td>\n",
              "      <td>1.146005</td>\n",
              "      <td>0.836927</td>\n",
              "      <td>03:27</td>\n",
              "    </tr>\n",
              "    <tr>\n",
              "      <td>3</td>\n",
              "      <td>0.222430</td>\n",
              "      <td>1.086820</td>\n",
              "      <td>0.839623</td>\n",
              "      <td>03:21</td>\n",
              "    </tr>\n",
              "  </tbody>\n",
              "</table>"
            ],
            "text/plain": [
              "<IPython.core.display.HTML object>"
            ]
          },
          "metadata": {
            "tags": []
          }
        }
      ]
    },
    {
      "cell_type": "code",
      "metadata": {
        "id": "KKydb0B4BKGk",
        "outputId": "987e27e0-8d05-4f4a-f93e-e308c9c54d39",
        "colab": {
          "base_uri": "https://localhost:8080/",
          "height": 171
        }
      },
      "source": [
        "# learn.fit_one_cycle(4, slice(2e-3/100, 2e-3))"
      ],
      "execution_count": 42,
      "outputs": [
        {
          "output_type": "display_data",
          "data": {
            "text/html": [
              "<table border=\"1\" class=\"dataframe\">\n",
              "  <thead>\n",
              "    <tr style=\"text-align: left;\">\n",
              "      <th>epoch</th>\n",
              "      <th>train_loss</th>\n",
              "      <th>valid_loss</th>\n",
              "      <th>accuracy</th>\n",
              "      <th>time</th>\n",
              "    </tr>\n",
              "  </thead>\n",
              "  <tbody>\n",
              "    <tr>\n",
              "      <td>0</td>\n",
              "      <td>0.227749</td>\n",
              "      <td>1.162006</td>\n",
              "      <td>0.845013</td>\n",
              "      <td>03:34</td>\n",
              "    </tr>\n",
              "    <tr>\n",
              "      <td>1</td>\n",
              "      <td>0.278727</td>\n",
              "      <td>1.191556</td>\n",
              "      <td>0.838275</td>\n",
              "      <td>03:13</td>\n",
              "    </tr>\n",
              "    <tr>\n",
              "      <td>2</td>\n",
              "      <td>0.243214</td>\n",
              "      <td>1.210213</td>\n",
              "      <td>0.838275</td>\n",
              "      <td>03:29</td>\n",
              "    </tr>\n",
              "    <tr>\n",
              "      <td>3</td>\n",
              "      <td>0.202392</td>\n",
              "      <td>1.162865</td>\n",
              "      <td>0.840970</td>\n",
              "      <td>03:38</td>\n",
              "    </tr>\n",
              "  </tbody>\n",
              "</table>"
            ],
            "text/plain": [
              "<IPython.core.display.HTML object>"
            ]
          },
          "metadata": {
            "tags": []
          }
        }
      ]
    },
    {
      "cell_type": "code",
      "metadata": {
        "id": "T2APKtFKBpGY",
        "outputId": "4b51e9df-65e0-4b69-9045-470456de2f0a",
        "colab": {
          "base_uri": "https://localhost:8080/",
          "height": 171
        }
      },
      "source": [
        "# learn.fit_one_cycle(4, slice(2e-3/100, 2e-3))"
      ],
      "execution_count": 43,
      "outputs": [
        {
          "output_type": "display_data",
          "data": {
            "text/html": [
              "<table border=\"1\" class=\"dataframe\">\n",
              "  <thead>\n",
              "    <tr style=\"text-align: left;\">\n",
              "      <th>epoch</th>\n",
              "      <th>train_loss</th>\n",
              "      <th>valid_loss</th>\n",
              "      <th>accuracy</th>\n",
              "      <th>time</th>\n",
              "    </tr>\n",
              "  </thead>\n",
              "  <tbody>\n",
              "    <tr>\n",
              "      <td>0</td>\n",
              "      <td>0.207375</td>\n",
              "      <td>1.172120</td>\n",
              "      <td>0.835580</td>\n",
              "      <td>03:23</td>\n",
              "    </tr>\n",
              "    <tr>\n",
              "      <td>1</td>\n",
              "      <td>0.247716</td>\n",
              "      <td>1.216843</td>\n",
              "      <td>0.839623</td>\n",
              "      <td>03:14</td>\n",
              "    </tr>\n",
              "    <tr>\n",
              "      <td>2</td>\n",
              "      <td>0.221243</td>\n",
              "      <td>1.178124</td>\n",
              "      <td>0.843666</td>\n",
              "      <td>03:22</td>\n",
              "    </tr>\n",
              "    <tr>\n",
              "      <td>3</td>\n",
              "      <td>0.178859</td>\n",
              "      <td>1.198529</td>\n",
              "      <td>0.840970</td>\n",
              "      <td>03:17</td>\n",
              "    </tr>\n",
              "  </tbody>\n",
              "</table>"
            ],
            "text/plain": [
              "<IPython.core.display.HTML object>"
            ]
          },
          "metadata": {
            "tags": []
          }
        }
      ]
    },
    {
      "cell_type": "code",
      "metadata": {
        "id": "qtTypA1sPgLU",
        "outputId": "b142a2ca-c32a-4e04-87e4-4c6c671489c7",
        "colab": {
          "base_uri": "https://localhost:8080/",
          "height": 110
        }
      },
      "source": [
        "learn.fit_one_cycle(2, slice(2e-3/100, 2e-3))"
      ],
      "execution_count": 44,
      "outputs": [
        {
          "output_type": "display_data",
          "data": {
            "text/html": [
              "<table border=\"1\" class=\"dataframe\">\n",
              "  <thead>\n",
              "    <tr style=\"text-align: left;\">\n",
              "      <th>epoch</th>\n",
              "      <th>train_loss</th>\n",
              "      <th>valid_loss</th>\n",
              "      <th>accuracy</th>\n",
              "      <th>time</th>\n",
              "    </tr>\n",
              "  </thead>\n",
              "  <tbody>\n",
              "    <tr>\n",
              "      <td>0</td>\n",
              "      <td>0.196051</td>\n",
              "      <td>1.113240</td>\n",
              "      <td>0.840970</td>\n",
              "      <td>03:36</td>\n",
              "    </tr>\n",
              "    <tr>\n",
              "      <td>1</td>\n",
              "      <td>0.194956</td>\n",
              "      <td>1.154222</td>\n",
              "      <td>0.840970</td>\n",
              "      <td>03:28</td>\n",
              "    </tr>\n",
              "  </tbody>\n",
              "</table>"
            ],
            "text/plain": [
              "<IPython.core.display.HTML object>"
            ]
          },
          "metadata": {
            "tags": []
          }
        }
      ]
    },
    {
      "cell_type": "code",
      "metadata": {
        "id": "b242kBsTUp9Y",
        "outputId": "1588b2f3-f801-4a90-b677-acdf646ff4fd",
        "colab": {
          "base_uri": "https://localhost:8080/",
          "height": 110
        }
      },
      "source": [
        "learn.fit_one_cycle(2, slice(2e-3/100, 2e-3))"
      ],
      "execution_count": 45,
      "outputs": [
        {
          "output_type": "display_data",
          "data": {
            "text/html": [
              "<table border=\"1\" class=\"dataframe\">\n",
              "  <thead>\n",
              "    <tr style=\"text-align: left;\">\n",
              "      <th>epoch</th>\n",
              "      <th>train_loss</th>\n",
              "      <th>valid_loss</th>\n",
              "      <th>accuracy</th>\n",
              "      <th>time</th>\n",
              "    </tr>\n",
              "  </thead>\n",
              "  <tbody>\n",
              "    <tr>\n",
              "      <td>0</td>\n",
              "      <td>0.202127</td>\n",
              "      <td>1.173942</td>\n",
              "      <td>0.846361</td>\n",
              "      <td>03:41</td>\n",
              "    </tr>\n",
              "    <tr>\n",
              "      <td>1</td>\n",
              "      <td>0.187528</td>\n",
              "      <td>1.151056</td>\n",
              "      <td>0.843666</td>\n",
              "      <td>03:23</td>\n",
              "    </tr>\n",
              "  </tbody>\n",
              "</table>"
            ],
            "text/plain": [
              "<IPython.core.display.HTML object>"
            ]
          },
          "metadata": {
            "tags": []
          }
        }
      ]
    },
    {
      "cell_type": "code",
      "metadata": {
        "id": "Duwf1Ih5VeDZ",
        "outputId": "41945619-6567-4c76-c51c-0c6226ec8e26",
        "colab": {
          "base_uri": "https://localhost:8080/",
          "height": 79
        }
      },
      "source": [
        "learn.fit_one_cycle(1, slice(2e-3/100, 2e-3))"
      ],
      "execution_count": 46,
      "outputs": [
        {
          "output_type": "display_data",
          "data": {
            "text/html": [
              "<table border=\"1\" class=\"dataframe\">\n",
              "  <thead>\n",
              "    <tr style=\"text-align: left;\">\n",
              "      <th>epoch</th>\n",
              "      <th>train_loss</th>\n",
              "      <th>valid_loss</th>\n",
              "      <th>accuracy</th>\n",
              "      <th>time</th>\n",
              "    </tr>\n",
              "  </thead>\n",
              "  <tbody>\n",
              "    <tr>\n",
              "      <td>0</td>\n",
              "      <td>0.193455</td>\n",
              "      <td>1.194947</td>\n",
              "      <td>0.842318</td>\n",
              "      <td>03:56</td>\n",
              "    </tr>\n",
              "  </tbody>\n",
              "</table>"
            ],
            "text/plain": [
              "<IPython.core.display.HTML object>"
            ]
          },
          "metadata": {
            "tags": []
          }
        }
      ]
    },
    {
      "cell_type": "code",
      "metadata": {
        "id": "c65d-osfDUXm"
      },
      "source": [
        "# save the best model\n",
        "\n",
        "learn.save_encoder('pubmed_cadec_askpatient_mixed_fold9')"
      ],
      "execution_count": 47,
      "outputs": []
    },
    {
      "cell_type": "markdown",
      "metadata": {
        "id": "rCwZU0E2RgM6"
      },
      "source": [
        "# Part three: Predict on the test dataset"
      ]
    },
    {
      "cell_type": "code",
      "metadata": {
        "id": "gDm72c-dOu7d",
        "outputId": "8565192b-1195-4e58-d5c5-dc6b47941c9e",
        "colab": {
          "base_uri": "https://localhost:8080/",
          "height": 17
        }
      },
      "source": [
        "# use the test data for prediction\n",
        "\n",
        "preds, y = learn.get_preds(DatasetType.Test)"
      ],
      "execution_count": 48,
      "outputs": [
        {
          "output_type": "display_data",
          "data": {
            "text/html": [
              ""
            ],
            "text/plain": [
              "<IPython.core.display.HTML object>"
            ]
          },
          "metadata": {
            "tags": []
          }
        }
      ]
    },
    {
      "cell_type": "code",
      "metadata": {
        "id": "6tFSQcsWPvxn",
        "outputId": "ee4e51d2-01dd-41a8-bc31-c56b06705d92",
        "colab": {
          "base_uri": "https://localhost:8080/",
          "height": 107
        }
      },
      "source": [
        "predictions, *_ = learn.get_preds(DatasetType.Test)\n",
        "labels = np.argmax(predictions, 1)\n",
        "predict_list = labels.tolist()\n",
        "standard_list = test[0].tolist()\n",
        "\n",
        "print(len(predict_list))\n",
        "print(len(standard_list))\n",
        "\n",
        "print(predict_list)\n",
        "print(standard_list)"
      ],
      "execution_count": 49,
      "outputs": [
        {
          "output_type": "display_data",
          "data": {
            "text/html": [
              ""
            ],
            "text/plain": [
              "<IPython.core.display.HTML object>"
            ]
          },
          "metadata": {
            "tags": []
          }
        },
        {
          "output_type": "stream",
          "text": [
            "866\n",
            "866\n",
            "[861, 4, 444, 983, 8, 8, 8, 8, 8, 240, 359, 359, 20, 20, 574, 439, 27, 27, 27, 750, 31, 31, 584, 129, 37, 37, 37, 37, 702, 491, 37, 37, 37, 37, 1025, 41, 49, 49, 49, 49, 49, 368, 853, 853, 517, 115, 646, 63, 426, 509, 71, 822, 76, 76, 512, 79, 265, 265, 79, 79, 79, 79, 79, 79, 79, 79, 79, 79, 79, 79, 79, 79, 79, 79, 79, 79, 79, 79, 79, 79, 79, 79, 79, 265, 79, 79, 79, 79, 79, 46, 228, 289, 80, 107, 491, 128, 85, 88, 352, 268, 268, 964, 91, 91, 92, 94, 94, 94, 94, 94, 94, 94, 94, 77, 598, 96, 594, 408, 98, 100, 100, 100, 100, 100, 877, 108, 108, 108, 108, 111, 111, 111, 111, 117, 117, 117, 117, 125, 125, 125, 125, 125, 125, 125, 125, 125, 125, 125, 125, 125, 125, 773, 129, 343, 1026, 225, 268, 268, 137, 646, 499, 142, 148, 151, 151, 805, 980, 980, 321, 166, 166, 166, 166, 166, 166, 774, 172, 172, 172, 700, 79, 172, 172, 172, 214, 877, 624, 165, 904, 623, 182, 182, 182, 182, 183, 183, 183, 183, 183, 183, 184, 187, 187, 187, 188, 190, 190, 190, 289, 190, 190, 260, 197, 197, 202, 206, 210, 210, 210, 210, 1026, 214, 839, 896, 896, 214, 896, 197, 214, 214, 214, 214, 425, 216, 898, 391, 218, 226, 226, 228, 228, 228, 228, 228, 228, 293, 462, 228, 228, 228, 228, 228, 228, 228, 228, 228, 228, 231, 232, 234, 234, 235, 235, 235, 235, 236, 236, 434, 125, 243, 495, 243, 243, 243, 243, 245, 245, 638, 245, 245, 245, 245, 245, 245, 246, 246, 268, 254, 254, 446, 260, 289, 289, 265, 265, 265, 265, 265, 265, 265, 265, 265, 703, 265, 265, 265, 265, 265, 265, 265, 265, 265, 265, 265, 265, 318, 265, 265, 265, 265, 475, 276, 277, 280, 280, 280, 281, 281, 283, 505, 37, 614, 289, 652, 652, 289, 289, 265, 289, 265, 289, 289, 289, 289, 289, 289, 289, 289, 289, 289, 289, 289, 289, 289, 235, 597, 220, 780, 301, 301, 301, 309, 309, 309, 309, 703, 309, 309, 321, 313, 236, 136, 318, 318, 318, 318, 318, 318, 318, 325, 325, 325, 49, 325, 325, 325, 325, 325, 325, 325, 325, 325, 20, 1009, 325, 326, 332, 334, 336, 262, 337, 337, 337, 343, 343, 344, 402, 351, 359, 363, 363, 701, 109, 109, 528, 826, 384, 387, 391, 391, 402, 402, 358, 428, 408, 896, 415, 418, 265, 419, 419, 419, 419, 419, 426, 427, 427, 427, 427, 1026, 427, 427, 100, 427, 435, 428, 663, 437, 390, 443, 444, 268, 446, 598, 231, 455, 746, 455, 455, 455, 455, 455, 455, 455, 460, 460, 464, 462, 223, 466, 635, 470, 475, 475, 475, 475, 591, 476, 479, 488, 487, 489, 490, 491, 491, 491, 491, 491, 491, 664, 491, 492, 291, 499, 499, 426, 516, 516, 517, 383, 517, 517, 517, 517, 521, 849, 524, 529, 530, 531, 531, 531, 545, 234, 536, 864, 541, 541, 545, 545, 545, 545, 546, 548, 548, 431, 557, 559, 491, 565, 574, 521, 579, 579, 579, 268, 408, 590, 590, 591, 592, 594, 427, 597, 172, 326, 614, 614, 614, 614, 614, 614, 614, 614, 617, 620, 49, 623, 623, 623, 623, 243, 634, 211, 643, 644, 767, 646, 646, 646, 774, 652, 652, 652, 652, 652, 656, 658, 491, 662, 662, 662, 666, 670, 348, 676, 726, 686, 686, 577, 598, 1026, 696, 703, 700, 704, 705, 708, 107, 715, 717, 851, 509, 352, 718, 88, 129, 649, 746, 746, 746, 746, 749, 750, 759, 596, 770, 773, 773, 100, 775, 775, 775, 852, 792, 795, 798, 753, 804, 805, 299, 806, 806, 808, 808, 809, 809, 183, 809, 809, 536, 810, 812, 825, 826, 826, 619, 830, 830, 830, 830, 830, 830, 830, 830, 1000, 834, 839, 294, 840, 840, 840, 841, 370, 843, 846, 846, 847, 325, 851, 852, 852, 853, 853, 853, 853, 853, 853, 853, 853, 853, 853, 853, 983, 559, 117, 704, 289, 872, 323, 872, 888, 888, 892, 579, 896, 896, 896, 896, 896, 896, 896, 896, 896, 430, 912, 919, 919, 919, 919, 919, 933, 936, 937, 937, 983, 937, 943, 948, 948, 948, 949, 949, 949, 949, 949, 949, 949, 949, 949, 949, 949, 949, 949, 949, 949, 949, 949, 949, 949, 949, 949, 949, 949, 949, 949, 949, 949, 949, 949, 949, 949, 949, 949, 949, 949, 949, 949, 949, 949, 949, 949, 949, 949, 949, 949, 949, 949, 949, 949, 949, 949, 949, 949, 949, 949, 949, 949, 949, 949, 949, 949, 949, 949, 949, 949, 949, 949, 949, 949, 949, 949, 949, 949, 949, 949, 949, 949, 949, 949, 949, 949, 949, 949, 949, 949, 949, 949, 949, 949, 949, 949, 949, 949, 949, 949, 949, 949, 949, 949, 949, 949, 949, 949, 949, 949, 949, 949, 949, 949, 949, 949, 950, 950, 950, 950, 983, 950, 952, 953, 938, 961, 961, 302, 964, 965, 966, 983, 975, 976, 983, 1026, 992, 995, 1001, 1026, 1015, 1015, 1015, 1017, 1024, 1026, 1026, 1028, 1032, 1035]\n",
            "[2, 4, 5, 7, 8, 8, 8, 8, 8, 11, 16, 16, 20, 20, 21, 24, 27, 27, 27, 29, 31, 31, 31, 37, 37, 37, 37, 37, 37, 37, 37, 37, 37, 37, 38, 41, 49, 49, 49, 49, 49, 50, 53, 53, 55, 60, 61, 63, 65, 66, 71, 73, 76, 76, 78, 79, 79, 79, 79, 79, 79, 79, 79, 79, 79, 79, 79, 79, 79, 79, 79, 79, 79, 79, 79, 79, 79, 79, 79, 79, 79, 79, 79, 79, 79, 79, 79, 79, 79, 79, 79, 79, 80, 80, 82, 82, 85, 88, 88, 89, 89, 91, 91, 91, 92, 94, 94, 94, 94, 94, 94, 94, 94, 94, 96, 96, 97, 98, 98, 100, 100, 100, 100, 100, 107, 108, 108, 108, 108, 111, 111, 111, 111, 117, 117, 117, 117, 125, 125, 125, 125, 125, 125, 125, 125, 125, 125, 125, 125, 125, 125, 127, 129, 129, 133, 135, 137, 137, 137, 139, 140, 142, 148, 151, 151, 158, 160, 160, 163, 166, 166, 166, 166, 166, 166, 166, 172, 172, 172, 172, 172, 172, 172, 172, 173, 173, 175, 178, 181, 182, 182, 182, 182, 182, 183, 183, 183, 183, 183, 183, 184, 187, 187, 187, 188, 190, 190, 190, 190, 190, 190, 190, 197, 197, 202, 206, 210, 210, 210, 210, 212, 214, 214, 214, 214, 214, 214, 214, 214, 214, 214, 214, 215, 216, 216, 218, 218, 226, 226, 228, 228, 228, 228, 228, 228, 228, 228, 228, 228, 228, 228, 228, 228, 228, 228, 228, 228, 231, 232, 234, 234, 235, 235, 235, 235, 236, 236, 238, 238, 243, 243, 243, 243, 243, 243, 245, 245, 245, 245, 245, 245, 245, 245, 245, 246, 246, 253, 254, 254, 258, 260, 260, 260, 265, 265, 265, 265, 265, 265, 265, 265, 265, 265, 265, 265, 265, 265, 265, 265, 265, 265, 265, 265, 265, 265, 265, 265, 265, 265, 265, 272, 276, 277, 280, 280, 280, 281, 281, 283, 288, 289, 289, 289, 289, 289, 289, 289, 289, 289, 289, 289, 289, 289, 289, 289, 289, 289, 289, 289, 289, 289, 289, 289, 289, 291, 300, 300, 301, 301, 301, 301, 309, 309, 309, 309, 309, 309, 309, 311, 313, 314, 316, 318, 318, 318, 318, 318, 318, 318, 325, 325, 325, 325, 325, 325, 325, 325, 325, 325, 325, 325, 325, 325, 325, 325, 326, 332, 334, 336, 336, 337, 337, 337, 343, 343, 344, 344, 351, 359, 363, 363, 364, 364, 364, 367, 377, 384, 387, 391, 391, 402, 402, 402, 408, 408, 415, 415, 418, 419, 419, 419, 419, 419, 419, 426, 427, 427, 427, 427, 427, 427, 427, 427, 427, 435, 436, 437, 437, 438, 443, 444, 445, 446, 447, 455, 455, 455, 455, 455, 455, 455, 455, 455, 455, 460, 460, 461, 462, 463, 467, 468, 470, 475, 475, 475, 475, 475, 476, 479, 487, 487, 489, 490, 491, 491, 491, 491, 491, 491, 491, 491, 492, 493, 499, 499, 500, 516, 516, 517, 517, 517, 517, 517, 517, 521, 522, 524, 529, 530, 531, 531, 531, 532, 533, 536, 539, 541, 541, 545, 545, 545, 545, 546, 548, 548, 554, 557, 559, 562, 565, 574, 577, 579, 579, 579, 581, 589, 590, 590, 591, 592, 594, 597, 597, 604, 610, 614, 614, 614, 614, 614, 614, 614, 614, 617, 620, 621, 623, 623, 623, 623, 629, 634, 635, 643, 644, 645, 646, 646, 646, 648, 651, 652, 652, 652, 652, 656, 658, 662, 662, 662, 662, 666, 670, 673, 677, 677, 686, 686, 688, 692, 693, 697, 700, 700, 704, 706, 708, 713, 715, 717, 728, 728, 728, 730, 733, 741, 741, 746, 746, 746, 746, 749, 750, 759, 762, 770, 772, 773, 775, 775, 775, 775, 785, 791, 795, 798, 803, 804, 805, 805, 806, 806, 808, 808, 809, 809, 809, 809, 809, 810, 810, 812, 825, 826, 826, 830, 830, 830, 830, 830, 830, 830, 830, 830, 834, 834, 839, 840, 840, 840, 840, 841, 842, 843, 844, 846, 847, 848, 851, 852, 852, 853, 853, 853, 853, 853, 853, 853, 853, 853, 853, 853, 853, 853, 855, 861, 864, 872, 881, 885, 888, 888, 892, 896, 896, 896, 896, 896, 896, 896, 897, 897, 897, 899, 912, 919, 919, 919, 919, 919, 933, 936, 937, 937, 937, 937, 943, 948, 948, 948, 949, 949, 949, 949, 949, 949, 949, 949, 949, 949, 949, 949, 949, 949, 949, 949, 949, 949, 949, 949, 949, 949, 949, 949, 949, 949, 949, 949, 949, 949, 949, 949, 949, 949, 949, 949, 949, 949, 949, 949, 949, 949, 949, 949, 949, 949, 949, 949, 949, 949, 949, 949, 949, 949, 949, 949, 949, 949, 949, 949, 949, 949, 949, 949, 949, 949, 949, 949, 949, 949, 949, 949, 949, 949, 949, 949, 949, 949, 949, 949, 949, 949, 949, 949, 949, 949, 949, 949, 949, 949, 949, 949, 949, 949, 949, 949, 949, 949, 949, 949, 949, 949, 949, 949, 949, 949, 949, 949, 949, 949, 949, 950, 950, 950, 950, 950, 950, 952, 953, 955, 960, 961, 964, 964, 965, 966, 970, 975, 976, 985, 988, 992, 995, 1001, 1009, 1015, 1015, 1015, 1017, 1024, 1026, 1026, 1028, 1032, 1035]\n"
          ],
          "name": "stdout"
        }
      ]
    },
    {
      "cell_type": "code",
      "metadata": {
        "id": "XIC4zufnMxtq",
        "outputId": "d6dd11f0-0214-40ff-b3a0-dd010c297960",
        "colab": {
          "base_uri": "https://localhost:8080/",
          "height": 52
        }
      },
      "source": [
        "correct_num = 0\n",
        "\n",
        "for i in range(0, len(standard_list)):\n",
        "  if predict_list[i] == standard_list[i]:\n",
        "    correct_num = correct_num+1\n",
        "  else:\n",
        "    pass\n",
        "print(correct_num)\n",
        "\n",
        "predict_accuracy = correct_num/len(predict_list)\n",
        "print(predict_accuracy)"
      ],
      "execution_count": 50,
      "outputs": [
        {
          "output_type": "stream",
          "text": [
            "659\n",
            "0.7609699769053118\n"
          ],
          "name": "stdout"
        }
      ]
    },
    {
      "cell_type": "code",
      "metadata": {
        "id": "zlKMHp1CIaRJ"
      },
      "source": [
        ""
      ],
      "execution_count": 50,
      "outputs": []
    }
  ]
}