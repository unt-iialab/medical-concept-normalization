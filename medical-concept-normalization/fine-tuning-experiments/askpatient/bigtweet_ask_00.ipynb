{
  "nbformat": 4,
  "nbformat_minor": 0,
  "metadata": {
    "accelerator": "TPU",
    "colab": {
      "name": "bigtweet_ask_00.ipynb",
      "provenance": [],
      "collapsed_sections": [],
      "include_colab_link": true
    },
    "kernelspec": {
      "display_name": "Python 3",
      "name": "python3"
    }
  },
  "cells": [
    {
      "cell_type": "markdown",
      "metadata": {
        "id": "view-in-github",
        "colab_type": "text"
      },
      "source": [
        "<a href=\"https://colab.research.google.com/github/unt-iialab/medical-concept-normalization/blob/master/medical-concept-normalization/fine-tuning-experiments/askpatient/bigtweet_ask_00.ipynb\" target=\"_parent\"><img src=\"https://colab.research.google.com/assets/colab-badge.svg\" alt=\"Open In Colab\"/></a>"
      ]
    },
    {
      "cell_type": "code",
      "metadata": {
        "id": "adSi6i2-dWxy"
      },
      "source": [
        "import os"
      ],
      "execution_count": 1,
      "outputs": []
    },
    {
      "cell_type": "code",
      "metadata": {
        "id": "E7xYCRGPjd9B"
      },
      "source": [
        "base_dir = 'medical-concept-normalization'"
      ],
      "execution_count": 2,
      "outputs": []
    },
    {
      "cell_type": "code",
      "metadata": {
        "id": "yvIW3aUDjYNS"
      },
      "source": [
        "os.mkdir(base_dir)"
      ],
      "execution_count": 3,
      "outputs": []
    },
    {
      "cell_type": "code",
      "metadata": {
        "id": "es-FFLlfk6SG"
      },
      "source": [
        "os.mkdir('medical-concept-normalization/data_collection')"
      ],
      "execution_count": 4,
      "outputs": []
    },
    {
      "cell_type": "markdown",
      "metadata": {
        "id": "0R-Guw_VoJXm"
      },
      "source": [
        "**Install fastai and clone the fastai for text classification**\n",
        "\n"
      ]
    },
    {
      "cell_type": "code",
      "metadata": {
        "id": "QVZa3Z0PmHFH",
        "outputId": "30b7a683-5f04-4823-83bd-400efb75bc12",
        "colab": {
          "base_uri": "https://localhost:8080/"
        }
      },
      "source": [
        "!curl https://course-v3.fast.ai/setup/colab | bash"
      ],
      "execution_count": 5,
      "outputs": [
        {
          "output_type": "stream",
          "text": [
            "  % Total    % Received % Xferd  Average Speed   Time    Time     Time  Current\n",
            "                                 Dload  Upload   Total   Spent    Left  Speed\n",
            "\r  0     0    0     0    0     0      0      0 --:--:-- --:--:-- --:--:--     0curl: (6) Could not resolve host: course-v3.fast.ai\n"
          ],
          "name": "stdout"
        }
      ]
    },
    {
      "cell_type": "code",
      "metadata": {
        "id": "_FBFFEBrmJC0",
        "outputId": "69d19044-9464-4a44-ff29-704544b54bcb",
        "colab": {
          "base_uri": "https://localhost:8080/"
        }
      },
      "source": [
        "!git clone https://github.com/wshuyi/demo-nlp-classification-fastai.git"
      ],
      "execution_count": 6,
      "outputs": [
        {
          "output_type": "stream",
          "text": [
            "Cloning into 'demo-nlp-classification-fastai'...\n",
            "remote: Enumerating objects: 9, done.\u001b[K\n",
            "remote: Total 9 (delta 0), reused 0 (delta 0), pack-reused 9\u001b[K\n",
            "Unpacking objects: 100% (9/9), done.\n"
          ],
          "name": "stdout"
        }
      ]
    },
    {
      "cell_type": "code",
      "metadata": {
        "id": "66zfh_JqmWMU"
      },
      "source": [
        "from fastai import *\n",
        "from fastai.text import *"
      ],
      "execution_count": 7,
      "outputs": []
    },
    {
      "cell_type": "markdown",
      "metadata": {
        "id": "mNIw-yALdBU9"
      },
      "source": [
        "**Set the path of the data collections**"
      ]
    },
    {
      "cell_type": "code",
      "metadata": {
        "id": "pzH7VMh4mqCL"
      },
      "source": [
        "path = Path('medical-concept-normalization/data_collection')"
      ],
      "execution_count": 8,
      "outputs": []
    },
    {
      "cell_type": "code",
      "metadata": {
        "id": "b8fjI6yyn4aS"
      },
      "source": [
        "# training data set\n",
        "\n",
        "train_csv = path/'AskAPatient.fold-0.train.csv'\n",
        "train = pd.read_csv(train_csv, header=None)\n",
        "#train.head()\n",
        "#train.info()"
      ],
      "execution_count": 10,
      "outputs": []
    },
    {
      "cell_type": "code",
      "metadata": {
        "id": "Hmlr-bAorfHd",
        "outputId": "f554b05a-eaf1-4a21-9674-ddc5d3a17fb5",
        "colab": {
          "base_uri": "https://localhost:8080/",
          "height": 204
        }
      },
      "source": [
        "# validating data set\n",
        "\n",
        "valid = pd.read_csv(path/\"AskAPatient.fold-0.validation.csv\",header=None)\n",
        "valid.head()"
      ],
      "execution_count": 11,
      "outputs": [
        {
          "output_type": "execute_result",
          "data": {
            "text/html": [
              "<div>\n",
              "<style scoped>\n",
              "    .dataframe tbody tr th:only-of-type {\n",
              "        vertical-align: middle;\n",
              "    }\n",
              "\n",
              "    .dataframe tbody tr th {\n",
              "        vertical-align: top;\n",
              "    }\n",
              "\n",
              "    .dataframe thead th {\n",
              "        text-align: right;\n",
              "    }\n",
              "</style>\n",
              "<table border=\"1\" class=\"dataframe\">\n",
              "  <thead>\n",
              "    <tr style=\"text-align: right;\">\n",
              "      <th></th>\n",
              "      <th>0</th>\n",
              "      <th>1</th>\n",
              "    </tr>\n",
              "  </thead>\n",
              "  <tbody>\n",
              "    <tr>\n",
              "      <th>0</th>\n",
              "      <td>0</td>\n",
              "      <td>fear</td>\n",
              "    </tr>\n",
              "    <tr>\n",
              "      <th>1</th>\n",
              "      <td>2</td>\n",
              "      <td>heel pain</td>\n",
              "    </tr>\n",
              "    <tr>\n",
              "      <th>2</th>\n",
              "      <td>4</td>\n",
              "      <td>purple sploches around waist</td>\n",
              "    </tr>\n",
              "    <tr>\n",
              "      <th>3</th>\n",
              "      <td>7</td>\n",
              "      <td>goiter</td>\n",
              "    </tr>\n",
              "    <tr>\n",
              "      <th>4</th>\n",
              "      <td>8</td>\n",
              "      <td>ARTHRITIS</td>\n",
              "    </tr>\n",
              "  </tbody>\n",
              "</table>\n",
              "</div>"
            ],
            "text/plain": [
              "   0                             1\n",
              "0  0                          fear\n",
              "1  2                     heel pain\n",
              "2  4  purple sploches around waist\n",
              "3  7                        goiter\n",
              "4  8                     ARTHRITIS"
            ]
          },
          "metadata": {
            "tags": []
          },
          "execution_count": 11
        }
      ]
    },
    {
      "cell_type": "code",
      "metadata": {
        "id": "cOza9dfSsBud",
        "outputId": "bc9c675a-c4de-4c88-8732-cf8276f4bedc",
        "colab": {
          "base_uri": "https://localhost:8080/",
          "height": 204
        }
      },
      "source": [
        "# testing data set\n",
        "\n",
        "test = pd.read_csv(path/\"AskAPatient.fold-0.test.csv\",header=None)\n",
        "test.head()"
      ],
      "execution_count": 12,
      "outputs": [
        {
          "output_type": "execute_result",
          "data": {
            "text/html": [
              "<div>\n",
              "<style scoped>\n",
              "    .dataframe tbody tr th:only-of-type {\n",
              "        vertical-align: middle;\n",
              "    }\n",
              "\n",
              "    .dataframe tbody tr th {\n",
              "        vertical-align: top;\n",
              "    }\n",
              "\n",
              "    .dataframe thead th {\n",
              "        text-align: right;\n",
              "    }\n",
              "</style>\n",
              "<table border=\"1\" class=\"dataframe\">\n",
              "  <thead>\n",
              "    <tr style=\"text-align: right;\">\n",
              "      <th></th>\n",
              "      <th>0</th>\n",
              "      <th>1</th>\n",
              "    </tr>\n",
              "  </thead>\n",
              "  <tbody>\n",
              "    <tr>\n",
              "      <th>0</th>\n",
              "      <td>0</td>\n",
              "      <td>'scared' feeling</td>\n",
              "    </tr>\n",
              "    <tr>\n",
              "      <th>1</th>\n",
              "      <td>2</td>\n",
              "      <td>heel pain</td>\n",
              "    </tr>\n",
              "    <tr>\n",
              "      <th>2</th>\n",
              "      <td>3</td>\n",
              "      <td>cracking sensations in my joints</td>\n",
              "    </tr>\n",
              "    <tr>\n",
              "      <th>3</th>\n",
              "      <td>5</td>\n",
              "      <td>fast and slow heartbeat</td>\n",
              "    </tr>\n",
              "    <tr>\n",
              "      <th>4</th>\n",
              "      <td>5</td>\n",
              "      <td>increased heart rate</td>\n",
              "    </tr>\n",
              "  </tbody>\n",
              "</table>\n",
              "</div>"
            ],
            "text/plain": [
              "   0                                 1\n",
              "0  0                  'scared' feeling\n",
              "1  2                         heel pain\n",
              "2  3  cracking sensations in my joints\n",
              "3  5           fast and slow heartbeat\n",
              "4  5              increased heart rate"
            ]
          },
          "metadata": {
            "tags": []
          },
          "execution_count": 12
        }
      ]
    },
    {
      "cell_type": "code",
      "metadata": {
        "id": "Vo-YNvVYoaH6",
        "outputId": "4a832edc-4dab-47dc-9b9b-8c4f3d9ee7f0",
        "colab": {
          "base_uri": "https://localhost:8080/",
          "height": 17
        }
      },
      "source": [
        "# Creating DataBunch for language modelling\n",
        "\n",
        "data_lm = TextLMDataBunch.from_csv(path, 'bigtweet_ask.csv')"
      ],
      "execution_count": 13,
      "outputs": [
        {
          "output_type": "display_data",
          "data": {
            "text/html": [
              ""
            ],
            "text/plain": [
              "<IPython.core.display.HTML object>"
            ]
          },
          "metadata": {
            "tags": []
          }
        },
        {
          "output_type": "display_data",
          "data": {
            "text/html": [
              ""
            ],
            "text/plain": [
              "<IPython.core.display.HTML object>"
            ]
          },
          "metadata": {
            "tags": []
          }
        }
      ]
    },
    {
      "cell_type": "code",
      "metadata": {
        "id": "qcV-9kMnNLBf"
      },
      "source": [
        ""
      ],
      "execution_count": 13,
      "outputs": []
    },
    {
      "cell_type": "code",
      "metadata": {
        "id": "1ScY9afDsnvE"
      },
      "source": [
        "# Creating DataBunch for classification\n",
        "\n",
        "# data_clas = TextClasDataBunch.from_df(path, train, valid, test, vocab=data_lm.train_ds.vocab, bs=128)"
      ],
      "execution_count": 14,
      "outputs": []
    },
    {
      "cell_type": "code",
      "metadata": {
        "id": "gzrSdQcvey9p",
        "outputId": "ff35bfd2-05ad-4166-b53f-b4b8e920f7f1",
        "colab": {
          "base_uri": "https://localhost:8080/",
          "height": 17
        }
      },
      "source": [
        "data_clas = TextClasDataBunch.from_df(path, train, valid, vocab=data_lm.train_ds.vocab, bs=128)"
      ],
      "execution_count": 15,
      "outputs": [
        {
          "output_type": "display_data",
          "data": {
            "text/html": [
              ""
            ],
            "text/plain": [
              "<IPython.core.display.HTML object>"
            ]
          },
          "metadata": {
            "tags": []
          }
        },
        {
          "output_type": "display_data",
          "data": {
            "text/html": [
              ""
            ],
            "text/plain": [
              "<IPython.core.display.HTML object>"
            ]
          },
          "metadata": {
            "tags": []
          }
        }
      ]
    },
    {
      "cell_type": "code",
      "metadata": {
        "id": "MD27Tf0Ke3ou",
        "outputId": "b0e230ea-f697-4c86-f957-a205ba795fdb",
        "colab": {
          "base_uri": "https://localhost:8080/",
          "height": 17
        }
      },
      "source": [
        "data_clas.add_test(test,label=0)\n"
      ],
      "execution_count": 16,
      "outputs": [
        {
          "output_type": "display_data",
          "data": {
            "text/html": [
              ""
            ],
            "text/plain": [
              "<IPython.core.display.HTML object>"
            ]
          },
          "metadata": {
            "tags": []
          }
        }
      ]
    },
    {
      "cell_type": "code",
      "metadata": {
        "id": "-dpjnk_rstwk"
      },
      "source": [
        "data_lm.save()\n",
        "data_clas.save()"
      ],
      "execution_count": 17,
      "outputs": []
    },
    {
      "cell_type": "code",
      "metadata": {
        "id": "4OkiJa36sw5s",
        "outputId": "2d31a4a1-6ce9-4fe7-e815-6ad224369b16",
        "colab": {
          "base_uri": "https://localhost:8080/"
        }
      },
      "source": [
        "data_lm.train_ds.vocab.itos"
      ],
      "execution_count": 18,
      "outputs": [
        {
          "output_type": "execute_result",
          "data": {
            "text/plain": [
              "['xxunk',\n",
              " 'xxpad',\n",
              " 'xxbos',\n",
              " 'xxeos',\n",
              " 'xxfld',\n",
              " 'xxmaj',\n",
              " 'xxup',\n",
              " 'xxrep',\n",
              " 'xxwrep',\n",
              " 'pain',\n",
              " 'lipitor',\n",
              " 'in',\n",
              " 'of',\n",
              " 'muscle',\n",
              " 'to',\n",
              " 'the',\n",
              " 'and',\n",
              " 'severe',\n",
              " 'my',\n",
              " 'myalgia',\n",
              " 'fatigue',\n",
              " 'rt',\n",
              " 'lower',\n",
              " 'a',\n",
              " 'loss',\n",
              " 'weakness',\n",
              " 'limb',\n",
              " 'cramp',\n",
              " 'for',\n",
              " 'disease',\n",
              " 'stomach',\n",
              " 'back',\n",
              " 'depression',\n",
              " '-',\n",
              " 'on',\n",
              " 'cramps',\n",
              " 'is',\n",
              " 'gas',\n",
              " 'upper',\n",
              " 'joint',\n",
              " 'leg',\n",
              " 'memory',\n",
              " 'you',\n",
              " 'pains',\n",
              " 'legs',\n",
              " 'i',\n",
              " 'headache',\n",
              " 'with',\n",
              " 'shoulder',\n",
              " 'unable',\n",
              " 'knee',\n",
              " 'arthralgia',\n",
              " 'excessive',\n",
              " 'neck',\n",
              " 'foot',\n",
              " 'aches',\n",
              " 'gastrointestinal',\n",
              " 'hip',\n",
              " 'amp',\n",
              " 'numbness',\n",
              " 'not',\n",
              " 'insomnia',\n",
              " 'arthritis',\n",
              " 'all',\n",
              " '/',\n",
              " 'gluten',\n",
              " 'arthrotec',\n",
              " 'asthenia',\n",
              " 'like',\n",
              " 'tired',\n",
              " 'nausea',\n",
              " 'bleeding',\n",
              " 'feeling',\n",
              " 'dizziness',\n",
              " 'walk',\n",
              " 'abdominal',\n",
              " 'heart',\n",
              " 'problems',\n",
              " 'walking',\n",
              " 'feet',\n",
              " 'swelling',\n",
              " 'difficulty',\n",
              " 'muscles',\n",
              " 'ache',\n",
              " 'backache',\n",
              " 'extreme',\n",
              " 'at',\n",
              " 'hair',\n",
              " 'chest',\n",
              " 'hand',\n",
              " 'zocor',\n",
              " 'vision',\n",
              " 'burning',\n",
              " 'stiffness',\n",
              " 'could',\n",
              " 'free',\n",
              " 'pins',\n",
              " 'needles',\n",
              " 'your',\n",
              " 'it',\n",
              " 'out',\n",
              " 'increased',\n",
              " 'have',\n",
              " 'can',\n",
              " 'are',\n",
              " 'very',\n",
              " 'up',\n",
              " 'diarrhoea',\n",
              " 'amnesia',\n",
              " 'skin',\n",
              " 'cramping',\n",
              " 'sleep',\n",
              " 'right',\n",
              " 'or',\n",
              " 'liver',\n",
              " 'calf',\n",
              " 'blood',\n",
              " 'weight',\n",
              " 'anxiety',\n",
              " 'from',\n",
              " 'cholesterol',\n",
              " 'left',\n",
              " 'impairment',\n",
              " 'tingling',\n",
              " 'disability',\n",
              " 'symptom',\n",
              " 'new',\n",
              " 'about',\n",
              " 'this',\n",
              " 'stiff',\n",
              " 'lack',\n",
              " 'nt',\n",
              " 'our',\n",
              " 'what',\n",
              " 'do',\n",
              " 'low',\n",
              " 'bloating',\n",
              " 'short',\n",
              " 'high',\n",
              " 'glutenfree',\n",
              " 'constipation',\n",
              " 'disorder',\n",
              " 'term',\n",
              " 'hands',\n",
              " 'headaches',\n",
              " 'celiac',\n",
              " 'arm',\n",
              " 'neuropathy',\n",
              " 'be',\n",
              " 'was',\n",
              " 'sore',\n",
              " 'get',\n",
              " 'voltaren',\n",
              " 'so',\n",
              " 'poor',\n",
              " 'arms',\n",
              " 'blurred',\n",
              " 'balance',\n",
              " 'time',\n",
              " 'that',\n",
              " 'tiredness',\n",
              " 'body',\n",
              " 'ankle',\n",
              " 'now',\n",
              " 'rash',\n",
              " 'pressure',\n",
              " 'joints',\n",
              " 'infarction',\n",
              " 'hurt',\n",
              " 'myositis',\n",
              " 'myocardial',\n",
              " 'pravachol',\n",
              " 'food',\n",
              " 'by',\n",
              " 'acid',\n",
              " 'vaginal',\n",
              " 'atrophy',\n",
              " 'mentally',\n",
              " 'generalised',\n",
              " 'sensation',\n",
              " 'swollen',\n",
              " 'vertigo',\n",
              " \"'s\",\n",
              " ')',\n",
              " 'itching',\n",
              " 'more',\n",
              " 'energy',\n",
              " 'we',\n",
              " 'upset',\n",
              " 'attack',\n",
              " 'ubidecarenone',\n",
              " 'how',\n",
              " 'painful',\n",
              " ',',\n",
              " 'diabetes',\n",
              " 'no',\n",
              " 'gain',\n",
              " 'diarrhea',\n",
              " 'constant',\n",
              " \"n't\",\n",
              " 'shoulders',\n",
              " 'dry',\n",
              " '(',\n",
              " 'dull',\n",
              " 'illness',\n",
              " 'damage',\n",
              " 'weak',\n",
              " 'me',\n",
              " 'via',\n",
              " 'its',\n",
              " 'spasm',\n",
              " 'crestor',\n",
              " 'feel',\n",
              " 'bad',\n",
              " 'as',\n",
              " 'raised',\n",
              " 'hazy',\n",
              " 'influenza',\n",
              " 'tip',\n",
              " 'use',\n",
              " 'sleeping',\n",
              " 'visual',\n",
              " 'symptoms',\n",
              " 'elbow',\n",
              " 'myopathy',\n",
              " 'toe',\n",
              " 'reduced',\n",
              " 'both',\n",
              " 'tendonitis',\n",
              " 'if',\n",
              " 'elevated',\n",
              " 'diet',\n",
              " 'abnormal',\n",
              " 'has',\n",
              " 'knees',\n",
              " 'heavy',\n",
              " 'spasms',\n",
              " 'flatulence',\n",
              " 'syndrome',\n",
              " 'w',\n",
              " 'mood',\n",
              " 'exhaustion',\n",
              " 'dblclick',\n",
              " 'irritable',\n",
              " 'pic',\n",
              " 'libido',\n",
              " 'products',\n",
              " 'think',\n",
              " 'reflux',\n",
              " 'just',\n",
              " 'why',\n",
              " 'problem',\n",
              " 'fibromyalgia',\n",
              " 'discomfort',\n",
              " 'bed',\n",
              " 'concentrate',\n",
              " 'sclerosis',\n",
              " 'thigh',\n",
              " 'movement',\n",
              " 'throat',\n",
              " 'vomiting',\n",
              " 'off',\n",
              " 'lightheadedness',\n",
              " 'kidney',\n",
              " 'flu',\n",
              " 'know',\n",
              " 'check',\n",
              " 'over',\n",
              " 'here',\n",
              " 'cold',\n",
              " 'chronic',\n",
              " 'review',\n",
              " 'serum',\n",
              " 'malaise',\n",
              " 'when',\n",
              " 'wind',\n",
              " 'sweating',\n",
              " 'had',\n",
              " 'brain',\n",
              " 'urine',\n",
              " 'tremor',\n",
              " 'hips',\n",
              " 'love',\n",
              " 'confusion',\n",
              " 'mellitus',\n",
              " 'head',\n",
              " 'concentration',\n",
              " 'soreness',\n",
              " 'appetite',\n",
              " 'simvastatin',\n",
              " 'swings',\n",
              " 'disturbance',\n",
              " 'impaired',\n",
              " 'type',\n",
              " 'eat',\n",
              " 'tinnitus',\n",
              " 'eye',\n",
              " 'finger',\n",
              " 'post',\n",
              " 'esters',\n",
              " 'c',\n",
              " 'thanks',\n",
              " 'menstrual',\n",
              " 'stairs',\n",
              " 'calves',\n",
              " 'toes',\n",
              " 'm',\n",
              " 'celebrex',\n",
              " 'aching',\n",
              " 'an',\n",
              " 's',\n",
              " 'peripheral',\n",
              " 'help',\n",
              " 'who',\n",
              " 'ezetimibe',\n",
              " 'intolerance',\n",
              " 'paraesthesia',\n",
              " 'injury',\n",
              " 'charleyhorse',\n",
              " 'but',\n",
              " 'cough',\n",
              " 'failure',\n",
              " 'parkinson',\n",
              " 'gfb',\n",
              " 'ca',\n",
              " 'will',\n",
              " 'recipe',\n",
              " 'going',\n",
              " 'one',\n",
              " '1',\n",
              " 'motivation',\n",
              " 'always',\n",
              " 'great',\n",
              " 'depressed',\n",
              " 'indigestion',\n",
              " '2',\n",
              " 'some',\n",
              " 'ibuprofen',\n",
              " 'acute',\n",
              " 'make',\n",
              " 'ascorbic',\n",
              " 'renal',\n",
              " 'mild',\n",
              " 'dark',\n",
              " 'face',\n",
              " 'ankles',\n",
              " 'swallowing',\n",
              " 'lupus',\n",
              " 'dyspnoea',\n",
              " 'heel',\n",
              " 'day',\n",
              " 'posted',\n",
              " 'excruciating',\n",
              " 'intense',\n",
              " 'tendon',\n",
              " 'night',\n",
              " 'decreased',\n",
              " 're',\n",
              " 'down',\n",
              " 'getting',\n",
              " 'advil',\n",
              " 'general',\n",
              " 'palpitations',\n",
              " 'restless',\n",
              " 'migraine',\n",
              " 'felt',\n",
              " 'hot',\n",
              " 'oil',\n",
              " 'lateral',\n",
              " 'multiple',\n",
              " 'vitamin',\n",
              " 'gout',\n",
              " '30',\n",
              " 'speech',\n",
              " 'stress',\n",
              " 'fingers',\n",
              " 'us',\n",
              " 'eyes',\n",
              " 'may',\n",
              " 'breathing',\n",
              " 'menopause',\n",
              " 'fish',\n",
              " 'big',\n",
              " 'people',\n",
              " 'infection',\n",
              " 'tightness',\n",
              " 'read',\n",
              " 'enzymes',\n",
              " 'life',\n",
              " 'they',\n",
              " 'drowsy',\n",
              " 'heres',\n",
              " 'living',\n",
              " 'there',\n",
              " 'dreams',\n",
              " 'need',\n",
              " 'being',\n",
              " 'terrible',\n",
              " 'twitch',\n",
              " 'archives',\n",
              " 'nerve',\n",
              " 'tips',\n",
              " 'test',\n",
              " 'taste',\n",
              " 'does',\n",
              " 'well',\n",
              " 'wrist',\n",
              " 'go',\n",
              " '3',\n",
              " 'jennieo',\n",
              " 'limbs',\n",
              " 'mg',\n",
              " 'amyotrophic',\n",
              " '\\r \\n ',\n",
              " 'strength',\n",
              " 'fog',\n",
              " 'fenofibrate',\n",
              " 'sensitivity',\n",
              " 'provoked',\n",
              " 'bowel',\n",
              " 'chicken',\n",
              " 'did',\n",
              " 'heartburn',\n",
              " 'side',\n",
              " 'sinus',\n",
              " 'function',\n",
              " 'mouth',\n",
              " 'mobility',\n",
              " 'clearly',\n",
              " 'should',\n",
              " 'tight',\n",
              " 'news',\n",
              " 'twitching',\n",
              " 'trouble',\n",
              " 'breath',\n",
              " 'thighs',\n",
              " 'today',\n",
              " 'coq10',\n",
              " 'move',\n",
              " 'level',\n",
              " '10',\n",
              " 'only',\n",
              " 'sick',\n",
              " 'ulcer',\n",
              " 'urinary',\n",
              " 'diclofenac',\n",
              " 'much',\n",
              " 'moody',\n",
              " 'numb',\n",
              " 'aleve',\n",
              " 'uterine',\n",
              " 'plantar',\n",
              " 'rheumatoid',\n",
              " 'find',\n",
              " '5',\n",
              " 'good',\n",
              " 'horses',\n",
              " 'sharp',\n",
              " 'thoughts',\n",
              " 'drive',\n",
              " 'exercise',\n",
              " 'loose',\n",
              " 'facial',\n",
              " 'nasal',\n",
              " 'want',\n",
              " 'lethargy',\n",
              " 'tylenol',\n",
              " 'were',\n",
              " 'extremity',\n",
              " 'been',\n",
              " 'article',\n",
              " 'panic',\n",
              " 'accident',\n",
              " 'ever',\n",
              " 'eating',\n",
              " 'tricor',\n",
              " 'ringing',\n",
              " '+',\n",
              " 'fever',\n",
              " 'elbows',\n",
              " 'cerebrovascular',\n",
              " 'those',\n",
              " 'hardly',\n",
              " 'fatigued',\n",
              " 'malignant',\n",
              " 'patients',\n",
              " 'charley',\n",
              " 'blog',\n",
              " 'best',\n",
              " 'slurred',\n",
              " 'issues',\n",
              " 'happy',\n",
              " 'lost',\n",
              " 'light',\n",
              " 'oedema',\n",
              " 'awareness',\n",
              " 'liptor',\n",
              " 'every',\n",
              " '4',\n",
              " 'looks',\n",
              " 'pulse',\n",
              " 'colic',\n",
              " '\\r \\n \\r \\n ',\n",
              " 'share',\n",
              " 'system',\n",
              " 'take',\n",
              " 'things',\n",
              " 'pizza',\n",
              " 'even',\n",
              " 'shortness',\n",
              " 'would',\n",
              " 'attacks',\n",
              " 'sugar',\n",
              " 'week',\n",
              " 'paracetamol',\n",
              " 'present',\n",
              " 'top',\n",
              " 'major',\n",
              " 'fasciitis',\n",
              " 'sex',\n",
              " 'finding',\n",
              " 'dizzy',\n",
              " 'barely',\n",
              " ':',\n",
              " 'rhabdomyolysis',\n",
              " 'area',\n",
              " 'too',\n",
              " 'got',\n",
              " 'please',\n",
              " 'norvasc',\n",
              " 'extremely',\n",
              " 'prednisone',\n",
              " 'achilles',\n",
              " 'difficult',\n",
              " 'cancer',\n",
              " 'mental',\n",
              " 'sweats',\n",
              " 'deep',\n",
              " 'diagnosis',\n",
              " 'stamina',\n",
              " 'eczema',\n",
              " 'erythematosus',\n",
              " 'hard',\n",
              " 'osteoarthritis',\n",
              " 'flushing',\n",
              " 'pruritus',\n",
              " 'inflammatory',\n",
              " 'tract',\n",
              " 'hunger',\n",
              " 'congestion',\n",
              " 'region',\n",
              " 'lopid',\n",
              " 'soup',\n",
              " 'than',\n",
              " 'hypertension',\n",
              " 'ability',\n",
              " 'cookbook',\n",
              " 'ear',\n",
              " 'between',\n",
              " 'hypersomnia',\n",
              " 'als',\n",
              " 'around',\n",
              " 'scalp',\n",
              " 'irregular',\n",
              " 'easy',\n",
              " 'strain',\n",
              " 'nervous',\n",
              " 'itchy',\n",
              " 'forgetful',\n",
              " 'years',\n",
              " 'any',\n",
              " 'neurontin',\n",
              " 'dr',\n",
              " 'zetia',\n",
              " 'stool',\n",
              " 'inflammation',\n",
              " 'delicious',\n",
              " 'diagnosed',\n",
              " 'gf',\n",
              " 'natural',\n",
              " 'started',\n",
              " 'still',\n",
              " '2014',\n",
              " 'atorvastatin',\n",
              " 'aptyalism',\n",
              " 'story',\n",
              " 'month',\n",
              " 'creatinine',\n",
              " 'also',\n",
              " '20',\n",
              " 'sensations',\n",
              " 'super',\n",
              " 'first',\n",
              " 'increase',\n",
              " 'friends',\n",
              " 'asthma',\n",
              " 'inability',\n",
              " 'morning',\n",
              " 'try',\n",
              " 'many',\n",
              " 'most',\n",
              " 'where',\n",
              " 'palsy',\n",
              " 'hurts',\n",
              " 'see',\n",
              " 'tachycardia',\n",
              " 'rapid',\n",
              " 'thank',\n",
              " 'health',\n",
              " 'omega-3-acid',\n",
              " 'ethyl',\n",
              " 'esters-90',\n",
              " 'unwell',\n",
              " 'show',\n",
              " 'menorrhagia',\n",
              " 'bread',\n",
              " 'foods',\n",
              " 'autographed',\n",
              " 'went',\n",
              " 'little',\n",
              " 'forearm',\n",
              " 'stand',\n",
              " 'climb',\n",
              " 'am',\n",
              " 'lipex',\n",
              " 'bursitis',\n",
              " 'spasmodic',\n",
              " 'u',\n",
              " 'looking',\n",
              " 'frequent',\n",
              " 'safe',\n",
              " 'periods',\n",
              " 'tolerance',\n",
              " 'support',\n",
              " 'hungry',\n",
              " 'lot',\n",
              " 'sense',\n",
              " 'study',\n",
              " 'bone',\n",
              " 'tension',\n",
              " 'generally',\n",
              " 'abdomen',\n",
              " 'horrible',\n",
              " 'able',\n",
              " 'wheat',\n",
              " 'their',\n",
              " 'cortisone',\n",
              " 'healthy',\n",
              " 'stabbing',\n",
              " 'ms',\n",
              " 'bell',\n",
              " 'limping',\n",
              " 'delusional',\n",
              " 'allergic',\n",
              " 'cpk',\n",
              " 'haematuria',\n",
              " 'dysfunction',\n",
              " 'giveaway',\n",
              " 'long',\n",
              " 'foggy',\n",
              " '&',\n",
              " 'venous',\n",
              " 'reading',\n",
              " 'respiratory',\n",
              " 'retention',\n",
              " 'fast',\n",
              " 'chocolate',\n",
              " 'sexual',\n",
              " 'spotting',\n",
              " 'lift',\n",
              " 'year',\n",
              " 'non',\n",
              " 'linked',\n",
              " 'gait',\n",
              " 'bruising',\n",
              " 'part',\n",
              " 'ears',\n",
              " 'made',\n",
              " 'sight',\n",
              " 'inflamation',\n",
              " 'tablet',\n",
              " 'into',\n",
              " 'codeine',\n",
              " 'america',\n",
              " 'book',\n",
              " 'sudden',\n",
              " 've',\n",
              " 'levels',\n",
              " 'info',\n",
              " 'allergy',\n",
              " 'nightmares',\n",
              " 'anything',\n",
              " 'bowl',\n",
              " 'change',\n",
              " 'everything',\n",
              " 'zoloft',\n",
              " 'feels',\n",
              " 'gastric',\n",
              " 'after',\n",
              " 'bp',\n",
              " 'recipes',\n",
              " 'weird',\n",
              " 'thinking',\n",
              " 'learn',\n",
              " 'rigidity',\n",
              " 'diovan',\n",
              " 'remember',\n",
              " 'rupture',\n",
              " 'erythema',\n",
              " 'period',\n",
              " 'heaviness',\n",
              " 'digestive',\n",
              " 'these',\n",
              " 'really',\n",
              " 'coming',\n",
              " 'other',\n",
              " 'became',\n",
              " 'others',\n",
              " 'omega',\n",
              " 'then',\n",
              " 'paralysis',\n",
              " 'self',\n",
              " 'quinoa',\n",
              " 'co',\n",
              " 'falling',\n",
              " 'degenerative',\n",
              " 'bloated',\n",
              " 'list',\n",
              " 'child',\n",
              " 'convention',\n",
              " 'aphasia',\n",
              " 'without',\n",
              " 'interesting',\n",
              " 'his',\n",
              " 'before',\n",
              " 'gut',\n",
              " 'coronary',\n",
              " 'slight',\n",
              " 'menopausal',\n",
              " 'coeliac',\n",
              " 'coated',\n",
              " 'death',\n",
              " 'overall',\n",
              " 'empty',\n",
              " 'due',\n",
              " 'agitated',\n",
              " 'rise',\n",
              " 'way',\n",
              " 'edema',\n",
              " 'whole',\n",
              " 'anger',\n",
              " 'disc',\n",
              " 'rectal',\n",
              " 'options',\n",
              " 'q10',\n",
              " 'kids',\n",
              " 'sever',\n",
              " 'live',\n",
              " 'last',\n",
              " 'tunnel',\n",
              " 'page',\n",
              " 'through',\n",
              " 'menstruation',\n",
              " 'bladder',\n",
              " 'chill',\n",
              " 'muscular',\n",
              " 'diabetic',\n",
              " 'changes',\n",
              " 'drink',\n",
              " 'own',\n",
              " 'sun',\n",
              " 'blurry',\n",
              " 'film',\n",
              " 'worse',\n",
              " 'sunday',\n",
              " 'colitis',\n",
              " 'join',\n",
              " 'never',\n",
              " 'twitches',\n",
              " 'random',\n",
              " 'ask',\n",
              " 'suicidal',\n",
              " 'sides',\n",
              " 'interview',\n",
              " 'testosterone',\n",
              " 'someone',\n",
              " 'carpal',\n",
              " 'ached',\n",
              " 'permanent',\n",
              " 'irritability',\n",
              " 'spine',\n",
              " 'less',\n",
              " 'stroke',\n",
              " 'red',\n",
              " 'special',\n",
              " 'allergies',\n",
              " 'breast',\n",
              " 'sciatica',\n",
              " 'follow',\n",
              " 'bronchitis',\n",
              " 'enough',\n",
              " 'uterus',\n",
              " 'cookies',\n",
              " 'transient',\n",
              " 'crying',\n",
              " 'syncope',\n",
              " 'which',\n",
              " '40',\n",
              " 'link',\n",
              " 'eructation',\n",
              " 'steatosis',\n",
              " 'risk',\n",
              " 'important',\n",
              " 'agony',\n",
              " 'intervertebral',\n",
              " 'unhappy',\n",
              " 'sweat',\n",
              " 'muscel',\n",
              " 'intestinal',\n",
              " 'hey',\n",
              " 'come',\n",
              " 'ty',\n",
              " 'stools',\n",
              " 'paranoia',\n",
              " 'rate',\n",
              " 'hear',\n",
              " 'cycle',\n",
              " 'friendly',\n",
              " 'misoprostol',\n",
              " 'eyesight',\n",
              " 'words',\n",
              " 'dehydration',\n",
              " 'desire',\n",
              " 'another',\n",
              " 'cause',\n",
              " 'headed',\n",
              " '100',\n",
              " 'diagnose',\n",
              " '-pelvis',\n",
              " 'reasons',\n",
              " 'drowsiness',\n",
              " 'haemorrhage',\n",
              " 'restaurants',\n",
              " 'pancreatitis',\n",
              " 'fatique',\n",
              " 'menu',\n",
              " 'yes',\n",
              " 'endometriosis',\n",
              " 'better',\n",
              " 'b',\n",
              " 'tender',\n",
              " 'thoracic',\n",
              " 'standing',\n",
              " 'breaking',\n",
              " 'almost',\n",
              " 'something',\n",
              " 'cognition',\n",
              " 'cataflam',\n",
              " 'valentines',\n",
              " 'central',\n",
              " 'disorientated',\n",
              " 'talk',\n",
              " 'autoimmune',\n",
              " '2013',\n",
              " 'hepatic',\n",
              " 'choking',\n",
              " 'persistent',\n",
              " 'glutened',\n",
              " 'neuralgia',\n",
              " 'hurting',\n",
              " 'while',\n",
              " 'them',\n",
              " 'cake',\n",
              " 'anyone',\n",
              " 'constantly',\n",
              " 'musculoskeletal',\n",
              " 'sure',\n",
              " 'triglycerides',\n",
              " 'makes',\n",
              " 'reaction',\n",
              " 'flour',\n",
              " 'potassium',\n",
              " 'away',\n",
              " 'ribs',\n",
              " 'dinner',\n",
              " 'bakery',\n",
              " 'her',\n",
              " 'lose',\n",
              " 'yellow',\n",
              " 'arthritic',\n",
              " 'episode',\n",
              " 'affected',\n",
              " 'interest',\n",
              " 'ani',\n",
              " 'few',\n",
              " 'market',\n",
              " 'alzheimer',\n",
              " 'fear',\n",
              " 'next',\n",
              " 'tongue',\n",
              " 'full',\n",
              " 'chair',\n",
              " 'sensitive',\n",
              " 'ok',\n",
              " 'lipidil',\n",
              " 'ideas',\n",
              " 'ill',\n",
              " 'keep',\n",
              " '25',\n",
              " 'restaurant',\n",
              " 'condition',\n",
              " 'look',\n",
              " 'pinterest',\n",
              " 'mt',\n",
              " 'latest',\n",
              " 'world',\n",
              " 'start',\n",
              " 'awesome',\n",
              " 'black',\n",
              " 'testing',\n",
              " 'circulation',\n",
              " 'clumsiness',\n",
              " 'might',\n",
              " 'medical',\n",
              " 'unsteady',\n",
              " 'neoplasm',\n",
              " 'tenderness',\n",
              " 'run',\n",
              " 'irritation',\n",
              " 'rice',\n",
              " 'limp',\n",
              " 'slightly',\n",
              " 'community',\n",
              " 'gfree',\n",
              " 'personality',\n",
              " 'tests',\n",
              " 'dizzyness',\n",
              " 'chills',\n",
              " 'matters',\n",
              " 'rhinitis',\n",
              " 'healthier',\n",
              " 'breakfast',\n",
              " 'achy',\n",
              " 'frozen',\n",
              " 'tenalgia',\n",
              " 'tingly',\n",
              " 'slow',\n",
              " 'lexapro',\n",
              " 'because',\n",
              " 'white',\n",
              " 'rashes',\n",
              " 'vit',\n",
              " 'bizarre',\n",
              " 'pravastatin',\n",
              " 'morphine',\n",
              " 'difficulties',\n",
              " 'neoplastic',\n",
              " 'provide',\n",
              " 'lumbar',\n",
              " 'easily',\n",
              " 'weeks',\n",
              " 'especially',\n",
              " 'expo',\n",
              " 'common',\n",
              " 'fun',\n",
              " 'moving',\n",
              " 'days',\n",
              " 'haematochezia',\n",
              " 'alopecia',\n",
              " 'place',\n",
              " 'exhausted',\n",
              " 'forgetfulness',\n",
              " 'hyperactive',\n",
              " 'sentence',\n",
              " 'gi',\n",
              " 'excited',\n",
              " 'hoarse',\n",
              " 'aspirin',\n",
              " 'mobic',\n",
              " 'decrease',\n",
              " 'infections',\n",
              " 'tested',\n",
              " 'muscels',\n",
              " 'wrists',\n",
              " 'sit',\n",
              " 'lets',\n",
              " 'moodiness',\n",
              " 'archive',\n",
              " 'urinate',\n",
              " 'limitation',\n",
              " 'serious',\n",
              " 'touch',\n",
              " 'favorite',\n",
              " 'rib',\n",
              " 'vague',\n",
              " 'fatty',\n",
              " 'wasting',\n",
              " 'unbearable',\n",
              " 'blister',\n",
              " 'pledge',\n",
              " ...]"
            ]
          },
          "metadata": {
            "tags": []
          },
          "execution_count": 18
        }
      ]
    },
    {
      "cell_type": "code",
      "metadata": {
        "id": "yPWr03mls3VT",
        "outputId": "6eebd901-dd14-418a-8e35-a091722996ad",
        "colab": {
          "base_uri": "https://localhost:8080/",
          "height": 17
        }
      },
      "source": [
        "model_path = path/'models'\n",
        "model_path.mkdir(exist_ok=True)\n",
        "url = 'http://files.fast.ai/models/wt103_v1/'\n",
        "download_url(f'{url}lstm_wt103.pth', model_path/'lstm_wt103.pth')\n",
        "download_url(f'{url}itos_wt103.pkl', model_path/'itos_wt103.pkl')"
      ],
      "execution_count": 19,
      "outputs": [
        {
          "output_type": "display_data",
          "data": {
            "text/html": [
              ""
            ],
            "text/plain": [
              "<IPython.core.display.HTML object>"
            ]
          },
          "metadata": {
            "tags": []
          }
        },
        {
          "output_type": "display_data",
          "data": {
            "text/html": [
              ""
            ],
            "text/plain": [
              "<IPython.core.display.HTML object>"
            ]
          },
          "metadata": {
            "tags": []
          }
        }
      ]
    },
    {
      "cell_type": "code",
      "metadata": {
        "id": "JRzvWg8RtGGr",
        "outputId": "a59bf270-99ff-4e72-a612-487dbe2f4bc5",
        "colab": {
          "base_uri": "https://localhost:8080/",
          "height": 34
        }
      },
      "source": [
        "learn = language_model_learner(data_lm, AWD_LSTM, drop_mult=0.5)"
      ],
      "execution_count": 20,
      "outputs": [
        {
          "output_type": "stream",
          "text": [
            "Downloading https://s3.amazonaws.com/fast-ai-modelzoo/wt103-fwd.tgz\n"
          ],
          "name": "stdout"
        },
        {
          "output_type": "display_data",
          "data": {
            "text/html": [
              ""
            ],
            "text/plain": [
              "<IPython.core.display.HTML object>"
            ]
          },
          "metadata": {
            "tags": []
          }
        }
      ]
    },
    {
      "cell_type": "code",
      "metadata": {
        "id": "xKK7GeBev7Xn",
        "outputId": "a6e86af1-6953-4c16-ffe8-7d77d983dc98",
        "colab": {
          "base_uri": "https://localhost:8080/",
          "height": 80
        }
      },
      "source": [
        "learn.fit_one_cycle(1, 1e-2)"
      ],
      "execution_count": 21,
      "outputs": [
        {
          "output_type": "display_data",
          "data": {
            "text/html": [
              "<table border=\"1\" class=\"dataframe\">\n",
              "  <thead>\n",
              "    <tr style=\"text-align: left;\">\n",
              "      <th>epoch</th>\n",
              "      <th>train_loss</th>\n",
              "      <th>valid_loss</th>\n",
              "      <th>accuracy</th>\n",
              "      <th>time</th>\n",
              "    </tr>\n",
              "  </thead>\n",
              "  <tbody>\n",
              "    <tr>\n",
              "      <td>0</td>\n",
              "      <td>3.243211</td>\n",
              "      <td>2.746469</td>\n",
              "      <td>0.549777</td>\n",
              "      <td>19:37</td>\n",
              "    </tr>\n",
              "  </tbody>\n",
              "</table>"
            ],
            "text/plain": [
              "<IPython.core.display.HTML object>"
            ]
          },
          "metadata": {
            "tags": []
          }
        }
      ]
    },
    {
      "cell_type": "code",
      "metadata": {
        "id": "iB7rHGQCwd12"
      },
      "source": [
        "# learn.fit_one_cycle(1, 1e-2)"
      ],
      "execution_count": 22,
      "outputs": []
    },
    {
      "cell_type": "code",
      "metadata": {
        "id": "_BnSuAeCwkBe"
      },
      "source": [
        "# learn.fit_one_cycle(1, 1e-3)"
      ],
      "execution_count": 23,
      "outputs": []
    },
    {
      "cell_type": "code",
      "metadata": {
        "id": "MuTm-RFjwrEX",
        "outputId": "bf699719-e96a-4f90-f72f-e321d9c070ae",
        "colab": {
          "base_uri": "https://localhost:8080/",
          "height": 80
        }
      },
      "source": [
        "learn.fit_one_cycle(1, 1e-3)"
      ],
      "execution_count": 24,
      "outputs": [
        {
          "output_type": "display_data",
          "data": {
            "text/html": [
              "<table border=\"1\" class=\"dataframe\">\n",
              "  <thead>\n",
              "    <tr style=\"text-align: left;\">\n",
              "      <th>epoch</th>\n",
              "      <th>train_loss</th>\n",
              "      <th>valid_loss</th>\n",
              "      <th>accuracy</th>\n",
              "      <th>time</th>\n",
              "    </tr>\n",
              "  </thead>\n",
              "  <tbody>\n",
              "    <tr>\n",
              "      <td>0</td>\n",
              "      <td>2.831543</td>\n",
              "      <td>2.693849</td>\n",
              "      <td>0.555168</td>\n",
              "      <td>19:32</td>\n",
              "    </tr>\n",
              "  </tbody>\n",
              "</table>"
            ],
            "text/plain": [
              "<IPython.core.display.HTML object>"
            ]
          },
          "metadata": {
            "tags": []
          }
        }
      ]
    },
    {
      "cell_type": "code",
      "metadata": {
        "id": "1Er2ExO8wr7Y"
      },
      "source": [
        "learn.save_encoder('bigtweet_ask_fold0_first')"
      ],
      "execution_count": 25,
      "outputs": []
    },
    {
      "cell_type": "code",
      "metadata": {
        "id": "z52cZs2qwvad",
        "outputId": "e0c53940-610d-405f-b694-0fa8b307b9b3",
        "colab": {
          "base_uri": "https://localhost:8080/",
          "height": 80
        }
      },
      "source": [
        "learn = text_classifier_learner(data_clas,AWD_LSTM, drop_mult=0.5)\n",
        "learn.load_encoder('bigtweet_ask_fold0_first')\n",
        "learn.fit_one_cycle(1, 1e-2)"
      ],
      "execution_count": 26,
      "outputs": [
        {
          "output_type": "display_data",
          "data": {
            "text/html": [
              "<table border=\"1\" class=\"dataframe\">\n",
              "  <thead>\n",
              "    <tr style=\"text-align: left;\">\n",
              "      <th>epoch</th>\n",
              "      <th>train_loss</th>\n",
              "      <th>valid_loss</th>\n",
              "      <th>accuracy</th>\n",
              "      <th>time</th>\n",
              "    </tr>\n",
              "  </thead>\n",
              "  <tbody>\n",
              "    <tr>\n",
              "      <td>0</td>\n",
              "      <td>4.001494</td>\n",
              "      <td>3.984161</td>\n",
              "      <td>0.330178</td>\n",
              "      <td>01:06</td>\n",
              "    </tr>\n",
              "  </tbody>\n",
              "</table>"
            ],
            "text/plain": [
              "<IPython.core.display.HTML object>"
            ]
          },
          "metadata": {
            "tags": []
          }
        }
      ]
    },
    {
      "cell_type": "code",
      "metadata": {
        "id": "ImwQP1PJwzxd",
        "outputId": "161b4bef-9098-46f9-e8a2-25baaac1c4c1",
        "colab": {
          "base_uri": "https://localhost:8080/",
          "height": 80
        }
      },
      "source": [
        "learn.freeze_to(-2)\n",
        "learn.fit_one_cycle(1, slice(5e-3/2., 5e-3))"
      ],
      "execution_count": 27,
      "outputs": [
        {
          "output_type": "display_data",
          "data": {
            "text/html": [
              "<table border=\"1\" class=\"dataframe\">\n",
              "  <thead>\n",
              "    <tr style=\"text-align: left;\">\n",
              "      <th>epoch</th>\n",
              "      <th>train_loss</th>\n",
              "      <th>valid_loss</th>\n",
              "      <th>accuracy</th>\n",
              "      <th>time</th>\n",
              "    </tr>\n",
              "  </thead>\n",
              "  <tbody>\n",
              "    <tr>\n",
              "      <td>0</td>\n",
              "      <td>2.972028</td>\n",
              "      <td>3.223663</td>\n",
              "      <td>0.447337</td>\n",
              "      <td>01:25</td>\n",
              "    </tr>\n",
              "  </tbody>\n",
              "</table>"
            ],
            "text/plain": [
              "<IPython.core.display.HTML object>"
            ]
          },
          "metadata": {
            "tags": []
          }
        }
      ]
    },
    {
      "cell_type": "code",
      "metadata": {
        "id": "Owff_BJXw53u",
        "outputId": "361aa2c3-099d-4172-99cc-8ca40028f197",
        "colab": {
          "base_uri": "https://localhost:8080/",
          "height": 80
        }
      },
      "source": [
        "learn.unfreeze()\n",
        "learn.fit_one_cycle(1, slice(2e-3/100, 2e-3))"
      ],
      "execution_count": 28,
      "outputs": [
        {
          "output_type": "display_data",
          "data": {
            "text/html": [
              "<table border=\"1\" class=\"dataframe\">\n",
              "  <thead>\n",
              "    <tr style=\"text-align: left;\">\n",
              "      <th>epoch</th>\n",
              "      <th>train_loss</th>\n",
              "      <th>valid_loss</th>\n",
              "      <th>accuracy</th>\n",
              "      <th>time</th>\n",
              "    </tr>\n",
              "  </thead>\n",
              "  <tbody>\n",
              "    <tr>\n",
              "      <td>0</td>\n",
              "      <td>2.472886</td>\n",
              "      <td>2.729860</td>\n",
              "      <td>0.524260</td>\n",
              "      <td>03:17</td>\n",
              "    </tr>\n",
              "  </tbody>\n",
              "</table>"
            ],
            "text/plain": [
              "<IPython.core.display.HTML object>"
            ]
          },
          "metadata": {
            "tags": []
          }
        }
      ]
    },
    {
      "cell_type": "code",
      "metadata": {
        "id": "lqAyu56V8Waq",
        "outputId": "824d5e90-522c-46d4-f0b9-3e8b3d5015bb",
        "colab": {
          "base_uri": "https://localhost:8080/",
          "height": 111
        }
      },
      "source": [
        "learn.fit_one_cycle(2, slice(2e-3/100, 2e-3))"
      ],
      "execution_count": 29,
      "outputs": [
        {
          "output_type": "display_data",
          "data": {
            "text/html": [
              "<table border=\"1\" class=\"dataframe\">\n",
              "  <thead>\n",
              "    <tr style=\"text-align: left;\">\n",
              "      <th>epoch</th>\n",
              "      <th>train_loss</th>\n",
              "      <th>valid_loss</th>\n",
              "      <th>accuracy</th>\n",
              "      <th>time</th>\n",
              "    </tr>\n",
              "  </thead>\n",
              "  <tbody>\n",
              "    <tr>\n",
              "      <td>0</td>\n",
              "      <td>2.093267</td>\n",
              "      <td>2.362443</td>\n",
              "      <td>0.581065</td>\n",
              "      <td>03:07</td>\n",
              "    </tr>\n",
              "    <tr>\n",
              "      <td>1</td>\n",
              "      <td>1.794946</td>\n",
              "      <td>2.258467</td>\n",
              "      <td>0.608284</td>\n",
              "      <td>03:14</td>\n",
              "    </tr>\n",
              "  </tbody>\n",
              "</table>"
            ],
            "text/plain": [
              "<IPython.core.display.HTML object>"
            ]
          },
          "metadata": {
            "tags": []
          }
        }
      ]
    },
    {
      "cell_type": "code",
      "metadata": {
        "id": "a7I1xMRp8bUd",
        "outputId": "2c71a4a0-6e5b-4e7a-81e9-f41a5546e56a",
        "colab": {
          "base_uri": "https://localhost:8080/",
          "height": 111
        }
      },
      "source": [
        "learn.fit_one_cycle(2, slice(2e-3/100, 2e-3))"
      ],
      "execution_count": 30,
      "outputs": [
        {
          "output_type": "display_data",
          "data": {
            "text/html": [
              "<table border=\"1\" class=\"dataframe\">\n",
              "  <thead>\n",
              "    <tr style=\"text-align: left;\">\n",
              "      <th>epoch</th>\n",
              "      <th>train_loss</th>\n",
              "      <th>valid_loss</th>\n",
              "      <th>accuracy</th>\n",
              "      <th>time</th>\n",
              "    </tr>\n",
              "  </thead>\n",
              "  <tbody>\n",
              "    <tr>\n",
              "      <td>0</td>\n",
              "      <td>1.589783</td>\n",
              "      <td>2.025165</td>\n",
              "      <td>0.648521</td>\n",
              "      <td>03:18</td>\n",
              "    </tr>\n",
              "    <tr>\n",
              "      <td>1</td>\n",
              "      <td>1.363090</td>\n",
              "      <td>1.936665</td>\n",
              "      <td>0.667456</td>\n",
              "      <td>03:16</td>\n",
              "    </tr>\n",
              "  </tbody>\n",
              "</table>"
            ],
            "text/plain": [
              "<IPython.core.display.HTML object>"
            ]
          },
          "metadata": {
            "tags": []
          }
        }
      ]
    },
    {
      "cell_type": "code",
      "metadata": {
        "id": "UAnti-XmGVfO",
        "outputId": "d82b7b7e-0967-4f57-fbd7-1d6bf194763c",
        "colab": {
          "base_uri": "https://localhost:8080/",
          "height": 111
        }
      },
      "source": [
        "learn.fit_one_cycle(2, slice(2e-3/100, 2e-3))"
      ],
      "execution_count": 31,
      "outputs": [
        {
          "output_type": "display_data",
          "data": {
            "text/html": [
              "<table border=\"1\" class=\"dataframe\">\n",
              "  <thead>\n",
              "    <tr style=\"text-align: left;\">\n",
              "      <th>epoch</th>\n",
              "      <th>train_loss</th>\n",
              "      <th>valid_loss</th>\n",
              "      <th>accuracy</th>\n",
              "      <th>time</th>\n",
              "    </tr>\n",
              "  </thead>\n",
              "  <tbody>\n",
              "    <tr>\n",
              "      <td>0</td>\n",
              "      <td>1.270337</td>\n",
              "      <td>1.813907</td>\n",
              "      <td>0.680473</td>\n",
              "      <td>03:19</td>\n",
              "    </tr>\n",
              "    <tr>\n",
              "      <td>1</td>\n",
              "      <td>1.149081</td>\n",
              "      <td>1.721559</td>\n",
              "      <td>0.700592</td>\n",
              "      <td>03:06</td>\n",
              "    </tr>\n",
              "  </tbody>\n",
              "</table>"
            ],
            "text/plain": [
              "<IPython.core.display.HTML object>"
            ]
          },
          "metadata": {
            "tags": []
          }
        }
      ]
    },
    {
      "cell_type": "code",
      "metadata": {
        "id": "bIft7W25GwSu",
        "outputId": "d309658e-db67-4af1-e6ba-75488badeb62",
        "colab": {
          "base_uri": "https://localhost:8080/",
          "height": 111
        }
      },
      "source": [
        "learn.fit_one_cycle(2, slice(2e-3/100, 2e-3))"
      ],
      "execution_count": 32,
      "outputs": [
        {
          "output_type": "display_data",
          "data": {
            "text/html": [
              "<table border=\"1\" class=\"dataframe\">\n",
              "  <thead>\n",
              "    <tr style=\"text-align: left;\">\n",
              "      <th>epoch</th>\n",
              "      <th>train_loss</th>\n",
              "      <th>valid_loss</th>\n",
              "      <th>accuracy</th>\n",
              "      <th>time</th>\n",
              "    </tr>\n",
              "  </thead>\n",
              "  <tbody>\n",
              "    <tr>\n",
              "      <td>0</td>\n",
              "      <td>1.046506</td>\n",
              "      <td>1.620909</td>\n",
              "      <td>0.704142</td>\n",
              "      <td>03:20</td>\n",
              "    </tr>\n",
              "    <tr>\n",
              "      <td>1</td>\n",
              "      <td>0.902537</td>\n",
              "      <td>1.537697</td>\n",
              "      <td>0.731361</td>\n",
              "      <td>03:26</td>\n",
              "    </tr>\n",
              "  </tbody>\n",
              "</table>"
            ],
            "text/plain": [
              "<IPython.core.display.HTML object>"
            ]
          },
          "metadata": {
            "tags": []
          }
        }
      ]
    },
    {
      "cell_type": "code",
      "metadata": {
        "id": "EEHszVRvGyFt",
        "outputId": "2e25f9ec-5e7d-4ba0-b6be-dd6143a34cea",
        "colab": {
          "base_uri": "https://localhost:8080/",
          "height": 111
        }
      },
      "source": [
        "learn.fit_one_cycle(2, slice(2e-3/100, 2e-3))"
      ],
      "execution_count": 33,
      "outputs": [
        {
          "output_type": "display_data",
          "data": {
            "text/html": [
              "<table border=\"1\" class=\"dataframe\">\n",
              "  <thead>\n",
              "    <tr style=\"text-align: left;\">\n",
              "      <th>epoch</th>\n",
              "      <th>train_loss</th>\n",
              "      <th>valid_loss</th>\n",
              "      <th>accuracy</th>\n",
              "      <th>time</th>\n",
              "    </tr>\n",
              "  </thead>\n",
              "  <tbody>\n",
              "    <tr>\n",
              "      <td>0</td>\n",
              "      <td>0.893012</td>\n",
              "      <td>1.533280</td>\n",
              "      <td>0.737278</td>\n",
              "      <td>03:07</td>\n",
              "    </tr>\n",
              "    <tr>\n",
              "      <td>1</td>\n",
              "      <td>0.741061</td>\n",
              "      <td>1.480216</td>\n",
              "      <td>0.739645</td>\n",
              "      <td>03:28</td>\n",
              "    </tr>\n",
              "  </tbody>\n",
              "</table>"
            ],
            "text/plain": [
              "<IPython.core.display.HTML object>"
            ]
          },
          "metadata": {
            "tags": []
          }
        }
      ]
    },
    {
      "cell_type": "code",
      "metadata": {
        "id": "XsHfrhCHG3dN",
        "outputId": "b7eefb23-52ae-4e5e-abe3-9ac80ed4eee7",
        "colab": {
          "base_uri": "https://localhost:8080/",
          "height": 173
        }
      },
      "source": [
        "learn.fit_one_cycle(4, slice(2e-3/100, 2e-3))"
      ],
      "execution_count": 34,
      "outputs": [
        {
          "output_type": "display_data",
          "data": {
            "text/html": [
              "<table border=\"1\" class=\"dataframe\">\n",
              "  <thead>\n",
              "    <tr style=\"text-align: left;\">\n",
              "      <th>epoch</th>\n",
              "      <th>train_loss</th>\n",
              "      <th>valid_loss</th>\n",
              "      <th>accuracy</th>\n",
              "      <th>time</th>\n",
              "    </tr>\n",
              "  </thead>\n",
              "  <tbody>\n",
              "    <tr>\n",
              "      <td>0</td>\n",
              "      <td>0.702999</td>\n",
              "      <td>1.435150</td>\n",
              "      <td>0.756213</td>\n",
              "      <td>03:13</td>\n",
              "    </tr>\n",
              "    <tr>\n",
              "      <td>1</td>\n",
              "      <td>0.718458</td>\n",
              "      <td>1.397373</td>\n",
              "      <td>0.752663</td>\n",
              "      <td>03:11</td>\n",
              "    </tr>\n",
              "    <tr>\n",
              "      <td>2</td>\n",
              "      <td>0.614109</td>\n",
              "      <td>1.383340</td>\n",
              "      <td>0.757396</td>\n",
              "      <td>03:11</td>\n",
              "    </tr>\n",
              "    <tr>\n",
              "      <td>3</td>\n",
              "      <td>0.551489</td>\n",
              "      <td>1.367133</td>\n",
              "      <td>0.760947</td>\n",
              "      <td>03:26</td>\n",
              "    </tr>\n",
              "  </tbody>\n",
              "</table>"
            ],
            "text/plain": [
              "<IPython.core.display.HTML object>"
            ]
          },
          "metadata": {
            "tags": []
          }
        }
      ]
    },
    {
      "cell_type": "code",
      "metadata": {
        "id": "0Zsd99isb9EQ",
        "outputId": "109b991f-8630-4ae7-cfbe-0f1c52e5b4aa",
        "colab": {
          "base_uri": "https://localhost:8080/",
          "height": 173
        }
      },
      "source": [
        "learn.fit_one_cycle(4, slice(2e-3/100, 2e-3))"
      ],
      "execution_count": 35,
      "outputs": [
        {
          "output_type": "display_data",
          "data": {
            "text/html": [
              "<table border=\"1\" class=\"dataframe\">\n",
              "  <thead>\n",
              "    <tr style=\"text-align: left;\">\n",
              "      <th>epoch</th>\n",
              "      <th>train_loss</th>\n",
              "      <th>valid_loss</th>\n",
              "      <th>accuracy</th>\n",
              "      <th>time</th>\n",
              "    </tr>\n",
              "  </thead>\n",
              "  <tbody>\n",
              "    <tr>\n",
              "      <td>0</td>\n",
              "      <td>0.523307</td>\n",
              "      <td>1.353285</td>\n",
              "      <td>0.757396</td>\n",
              "      <td>03:26</td>\n",
              "    </tr>\n",
              "    <tr>\n",
              "      <td>1</td>\n",
              "      <td>0.548497</td>\n",
              "      <td>1.348228</td>\n",
              "      <td>0.768047</td>\n",
              "      <td>03:05</td>\n",
              "    </tr>\n",
              "    <tr>\n",
              "      <td>2</td>\n",
              "      <td>0.483945</td>\n",
              "      <td>1.297913</td>\n",
              "      <td>0.778698</td>\n",
              "      <td>03:34</td>\n",
              "    </tr>\n",
              "    <tr>\n",
              "      <td>3</td>\n",
              "      <td>0.406568</td>\n",
              "      <td>1.318943</td>\n",
              "      <td>0.779882</td>\n",
              "      <td>03:13</td>\n",
              "    </tr>\n",
              "  </tbody>\n",
              "</table>"
            ],
            "text/plain": [
              "<IPython.core.display.HTML object>"
            ]
          },
          "metadata": {
            "tags": []
          }
        }
      ]
    },
    {
      "cell_type": "code",
      "metadata": {
        "id": "atNWNKDFPbuI",
        "outputId": "b33f3ab0-f3eb-4a69-b324-77da86530051",
        "colab": {
          "base_uri": "https://localhost:8080/",
          "height": 173
        }
      },
      "source": [
        "learn.fit_one_cycle(4, slice(2e-3/100, 2e-3))"
      ],
      "execution_count": 36,
      "outputs": [
        {
          "output_type": "display_data",
          "data": {
            "text/html": [
              "<table border=\"1\" class=\"dataframe\">\n",
              "  <thead>\n",
              "    <tr style=\"text-align: left;\">\n",
              "      <th>epoch</th>\n",
              "      <th>train_loss</th>\n",
              "      <th>valid_loss</th>\n",
              "      <th>accuracy</th>\n",
              "      <th>time</th>\n",
              "    </tr>\n",
              "  </thead>\n",
              "  <tbody>\n",
              "    <tr>\n",
              "      <td>0</td>\n",
              "      <td>0.427873</td>\n",
              "      <td>1.332856</td>\n",
              "      <td>0.768047</td>\n",
              "      <td>03:22</td>\n",
              "    </tr>\n",
              "    <tr>\n",
              "      <td>1</td>\n",
              "      <td>0.452751</td>\n",
              "      <td>1.418731</td>\n",
              "      <td>0.772781</td>\n",
              "      <td>03:08</td>\n",
              "    </tr>\n",
              "    <tr>\n",
              "      <td>2</td>\n",
              "      <td>0.395777</td>\n",
              "      <td>1.276057</td>\n",
              "      <td>0.790533</td>\n",
              "      <td>03:33</td>\n",
              "    </tr>\n",
              "    <tr>\n",
              "      <td>3</td>\n",
              "      <td>0.331695</td>\n",
              "      <td>1.296962</td>\n",
              "      <td>0.785799</td>\n",
              "      <td>03:06</td>\n",
              "    </tr>\n",
              "  </tbody>\n",
              "</table>"
            ],
            "text/plain": [
              "<IPython.core.display.HTML object>"
            ]
          },
          "metadata": {
            "tags": []
          }
        }
      ]
    },
    {
      "cell_type": "code",
      "metadata": {
        "id": "rKrBTZ0T1uVA",
        "outputId": "0aeaa597-e812-49a4-bffa-91e7796e8ef3",
        "colab": {
          "base_uri": "https://localhost:8080/",
          "height": 173
        }
      },
      "source": [
        "learn.fit_one_cycle(4, slice(2e-3/100, 2e-3))"
      ],
      "execution_count": 37,
      "outputs": [
        {
          "output_type": "display_data",
          "data": {
            "text/html": [
              "<table border=\"1\" class=\"dataframe\">\n",
              "  <thead>\n",
              "    <tr style=\"text-align: left;\">\n",
              "      <th>epoch</th>\n",
              "      <th>train_loss</th>\n",
              "      <th>valid_loss</th>\n",
              "      <th>accuracy</th>\n",
              "      <th>time</th>\n",
              "    </tr>\n",
              "  </thead>\n",
              "  <tbody>\n",
              "    <tr>\n",
              "      <td>0</td>\n",
              "      <td>0.332247</td>\n",
              "      <td>1.336604</td>\n",
              "      <td>0.779882</td>\n",
              "      <td>03:21</td>\n",
              "    </tr>\n",
              "    <tr>\n",
              "      <td>1</td>\n",
              "      <td>0.384854</td>\n",
              "      <td>1.308493</td>\n",
              "      <td>0.783432</td>\n",
              "      <td>03:16</td>\n",
              "    </tr>\n",
              "    <tr>\n",
              "      <td>2</td>\n",
              "      <td>0.327812</td>\n",
              "      <td>1.345190</td>\n",
              "      <td>0.788166</td>\n",
              "      <td>03:26</td>\n",
              "    </tr>\n",
              "    <tr>\n",
              "      <td>3</td>\n",
              "      <td>0.280614</td>\n",
              "      <td>1.327651</td>\n",
              "      <td>0.794083</td>\n",
              "      <td>03:12</td>\n",
              "    </tr>\n",
              "  </tbody>\n",
              "</table>"
            ],
            "text/plain": [
              "<IPython.core.display.HTML object>"
            ]
          },
          "metadata": {
            "tags": []
          }
        }
      ]
    },
    {
      "cell_type": "code",
      "metadata": {
        "id": "ajQC6WDg1yA9",
        "outputId": "f38da363-fe47-400a-c6e9-9286934e9f97",
        "colab": {
          "base_uri": "https://localhost:8080/",
          "height": 173
        }
      },
      "source": [
        "learn.fit_one_cycle(4, slice(2e-3/100, 2e-3))"
      ],
      "execution_count": 38,
      "outputs": [
        {
          "output_type": "display_data",
          "data": {
            "text/html": [
              "<table border=\"1\" class=\"dataframe\">\n",
              "  <thead>\n",
              "    <tr style=\"text-align: left;\">\n",
              "      <th>epoch</th>\n",
              "      <th>train_loss</th>\n",
              "      <th>valid_loss</th>\n",
              "      <th>accuracy</th>\n",
              "      <th>time</th>\n",
              "    </tr>\n",
              "  </thead>\n",
              "  <tbody>\n",
              "    <tr>\n",
              "      <td>0</td>\n",
              "      <td>0.251306</td>\n",
              "      <td>1.389121</td>\n",
              "      <td>0.792899</td>\n",
              "      <td>03:21</td>\n",
              "    </tr>\n",
              "    <tr>\n",
              "      <td>1</td>\n",
              "      <td>0.339749</td>\n",
              "      <td>1.307940</td>\n",
              "      <td>0.789349</td>\n",
              "      <td>03:12</td>\n",
              "    </tr>\n",
              "    <tr>\n",
              "      <td>2</td>\n",
              "      <td>0.265679</td>\n",
              "      <td>1.342394</td>\n",
              "      <td>0.789349</td>\n",
              "      <td>03:24</td>\n",
              "    </tr>\n",
              "    <tr>\n",
              "      <td>3</td>\n",
              "      <td>0.222862</td>\n",
              "      <td>1.350510</td>\n",
              "      <td>0.792899</td>\n",
              "      <td>03:30</td>\n",
              "    </tr>\n",
              "  </tbody>\n",
              "</table>"
            ],
            "text/plain": [
              "<IPython.core.display.HTML object>"
            ]
          },
          "metadata": {
            "tags": []
          }
        }
      ]
    },
    {
      "cell_type": "code",
      "metadata": {
        "id": "KKydb0B4BKGk",
        "outputId": "b2e84006-1d2e-400f-ab31-0d9e28ca881d",
        "colab": {
          "base_uri": "https://localhost:8080/",
          "height": 173
        }
      },
      "source": [
        "learn.fit_one_cycle(4, slice(2e-3/100, 2e-3))"
      ],
      "execution_count": 39,
      "outputs": [
        {
          "output_type": "display_data",
          "data": {
            "text/html": [
              "<table border=\"1\" class=\"dataframe\">\n",
              "  <thead>\n",
              "    <tr style=\"text-align: left;\">\n",
              "      <th>epoch</th>\n",
              "      <th>train_loss</th>\n",
              "      <th>valid_loss</th>\n",
              "      <th>accuracy</th>\n",
              "      <th>time</th>\n",
              "    </tr>\n",
              "  </thead>\n",
              "  <tbody>\n",
              "    <tr>\n",
              "      <td>0</td>\n",
              "      <td>0.239740</td>\n",
              "      <td>1.427443</td>\n",
              "      <td>0.792899</td>\n",
              "      <td>03:18</td>\n",
              "    </tr>\n",
              "    <tr>\n",
              "      <td>1</td>\n",
              "      <td>0.267082</td>\n",
              "      <td>1.355874</td>\n",
              "      <td>0.796450</td>\n",
              "      <td>03:24</td>\n",
              "    </tr>\n",
              "    <tr>\n",
              "      <td>2</td>\n",
              "      <td>0.275450</td>\n",
              "      <td>1.308841</td>\n",
              "      <td>0.801183</td>\n",
              "      <td>03:30</td>\n",
              "    </tr>\n",
              "    <tr>\n",
              "      <td>3</td>\n",
              "      <td>0.223567</td>\n",
              "      <td>1.322177</td>\n",
              "      <td>0.798817</td>\n",
              "      <td>03:22</td>\n",
              "    </tr>\n",
              "  </tbody>\n",
              "</table>"
            ],
            "text/plain": [
              "<IPython.core.display.HTML object>"
            ]
          },
          "metadata": {
            "tags": []
          }
        }
      ]
    },
    {
      "cell_type": "code",
      "metadata": {
        "id": "T2APKtFKBpGY",
        "outputId": "af0d5bf9-5af8-40b2-d7c9-c1eb8376715c",
        "colab": {
          "base_uri": "https://localhost:8080/",
          "height": 173
        }
      },
      "source": [
        "learn.fit_one_cycle(4, slice(2e-3/100, 2e-3))"
      ],
      "execution_count": 40,
      "outputs": [
        {
          "output_type": "display_data",
          "data": {
            "text/html": [
              "<table border=\"1\" class=\"dataframe\">\n",
              "  <thead>\n",
              "    <tr style=\"text-align: left;\">\n",
              "      <th>epoch</th>\n",
              "      <th>train_loss</th>\n",
              "      <th>valid_loss</th>\n",
              "      <th>accuracy</th>\n",
              "      <th>time</th>\n",
              "    </tr>\n",
              "  </thead>\n",
              "  <tbody>\n",
              "    <tr>\n",
              "      <td>0</td>\n",
              "      <td>0.244166</td>\n",
              "      <td>1.394327</td>\n",
              "      <td>0.788166</td>\n",
              "      <td>03:09</td>\n",
              "    </tr>\n",
              "    <tr>\n",
              "      <td>1</td>\n",
              "      <td>0.273254</td>\n",
              "      <td>1.372202</td>\n",
              "      <td>0.791716</td>\n",
              "      <td>03:08</td>\n",
              "    </tr>\n",
              "    <tr>\n",
              "      <td>2</td>\n",
              "      <td>0.216790</td>\n",
              "      <td>1.378519</td>\n",
              "      <td>0.790533</td>\n",
              "      <td>03:29</td>\n",
              "    </tr>\n",
              "    <tr>\n",
              "      <td>3</td>\n",
              "      <td>0.189076</td>\n",
              "      <td>1.371586</td>\n",
              "      <td>0.796450</td>\n",
              "      <td>03:30</td>\n",
              "    </tr>\n",
              "  </tbody>\n",
              "</table>"
            ],
            "text/plain": [
              "<IPython.core.display.HTML object>"
            ]
          },
          "metadata": {
            "tags": []
          }
        }
      ]
    },
    {
      "cell_type": "code",
      "metadata": {
        "id": "qtTypA1sPgLU",
        "outputId": "f485f514-dc57-4456-dcf8-8372225ef71e",
        "colab": {
          "base_uri": "https://localhost:8080/",
          "height": 111
        }
      },
      "source": [
        "learn.fit_one_cycle(2, slice(2e-3/100, 2e-3))"
      ],
      "execution_count": 41,
      "outputs": [
        {
          "output_type": "display_data",
          "data": {
            "text/html": [
              "<table border=\"1\" class=\"dataframe\">\n",
              "  <thead>\n",
              "    <tr style=\"text-align: left;\">\n",
              "      <th>epoch</th>\n",
              "      <th>train_loss</th>\n",
              "      <th>valid_loss</th>\n",
              "      <th>accuracy</th>\n",
              "      <th>time</th>\n",
              "    </tr>\n",
              "  </thead>\n",
              "  <tbody>\n",
              "    <tr>\n",
              "      <td>0</td>\n",
              "      <td>0.218658</td>\n",
              "      <td>1.356594</td>\n",
              "      <td>0.791716</td>\n",
              "      <td>03:28</td>\n",
              "    </tr>\n",
              "    <tr>\n",
              "      <td>1</td>\n",
              "      <td>0.223467</td>\n",
              "      <td>1.416609</td>\n",
              "      <td>0.792899</td>\n",
              "      <td>03:08</td>\n",
              "    </tr>\n",
              "  </tbody>\n",
              "</table>"
            ],
            "text/plain": [
              "<IPython.core.display.HTML object>"
            ]
          },
          "metadata": {
            "tags": []
          }
        }
      ]
    },
    {
      "cell_type": "code",
      "metadata": {
        "id": "b242kBsTUp9Y",
        "outputId": "ea466a55-9fde-484b-b680-e37ae96727a0",
        "colab": {
          "base_uri": "https://localhost:8080/",
          "height": 111
        }
      },
      "source": [
        "learn.fit_one_cycle(2, slice(2e-3/100, 2e-3))"
      ],
      "execution_count": 42,
      "outputs": [
        {
          "output_type": "display_data",
          "data": {
            "text/html": [
              "<table border=\"1\" class=\"dataframe\">\n",
              "  <thead>\n",
              "    <tr style=\"text-align: left;\">\n",
              "      <th>epoch</th>\n",
              "      <th>train_loss</th>\n",
              "      <th>valid_loss</th>\n",
              "      <th>accuracy</th>\n",
              "      <th>time</th>\n",
              "    </tr>\n",
              "  </thead>\n",
              "  <tbody>\n",
              "    <tr>\n",
              "      <td>0</td>\n",
              "      <td>0.214271</td>\n",
              "      <td>1.417901</td>\n",
              "      <td>0.791716</td>\n",
              "      <td>03:32</td>\n",
              "    </tr>\n",
              "    <tr>\n",
              "      <td>1</td>\n",
              "      <td>0.192824</td>\n",
              "      <td>1.341292</td>\n",
              "      <td>0.796450</td>\n",
              "      <td>03:06</td>\n",
              "    </tr>\n",
              "  </tbody>\n",
              "</table>"
            ],
            "text/plain": [
              "<IPython.core.display.HTML object>"
            ]
          },
          "metadata": {
            "tags": []
          }
        }
      ]
    },
    {
      "cell_type": "code",
      "metadata": {
        "id": "Duwf1Ih5VeDZ",
        "outputId": "48a93410-31af-403f-fc5f-51ce10f3911c",
        "colab": {
          "base_uri": "https://localhost:8080/",
          "height": 80
        }
      },
      "source": [
        "learn.fit_one_cycle(1, slice(2e-3/100, 2e-3))"
      ],
      "execution_count": 43,
      "outputs": [
        {
          "output_type": "display_data",
          "data": {
            "text/html": [
              "<table border=\"1\" class=\"dataframe\">\n",
              "  <thead>\n",
              "    <tr style=\"text-align: left;\">\n",
              "      <th>epoch</th>\n",
              "      <th>train_loss</th>\n",
              "      <th>valid_loss</th>\n",
              "      <th>accuracy</th>\n",
              "      <th>time</th>\n",
              "    </tr>\n",
              "  </thead>\n",
              "  <tbody>\n",
              "    <tr>\n",
              "      <td>0</td>\n",
              "      <td>0.191774</td>\n",
              "      <td>1.383210</td>\n",
              "      <td>0.800000</td>\n",
              "      <td>03:34</td>\n",
              "    </tr>\n",
              "  </tbody>\n",
              "</table>"
            ],
            "text/plain": [
              "<IPython.core.display.HTML object>"
            ]
          },
          "metadata": {
            "tags": []
          }
        }
      ]
    },
    {
      "cell_type": "code",
      "metadata": {
        "id": "c65d-osfDUXm"
      },
      "source": [
        "# save the best model\n",
        "\n",
        "learn.save_encoder('bigtweet_ask_mixed_fold0')"
      ],
      "execution_count": 44,
      "outputs": []
    },
    {
      "cell_type": "markdown",
      "metadata": {
        "id": "rCwZU0E2RgM6"
      },
      "source": [
        "# Part three: Predict on the test dataset"
      ]
    },
    {
      "cell_type": "code",
      "metadata": {
        "id": "gDm72c-dOu7d",
        "outputId": "9b175cfe-ba61-4fe3-dc2f-7a8efc3cb093",
        "colab": {
          "base_uri": "https://localhost:8080/",
          "height": 17
        }
      },
      "source": [
        "# use the test data for prediction\n",
        "\n",
        "preds, y = learn.get_preds(DatasetType.Test)"
      ],
      "execution_count": 45,
      "outputs": [
        {
          "output_type": "display_data",
          "data": {
            "text/html": [
              ""
            ],
            "text/plain": [
              "<IPython.core.display.HTML object>"
            ]
          },
          "metadata": {
            "tags": []
          }
        }
      ]
    },
    {
      "cell_type": "code",
      "metadata": {
        "id": "6tFSQcsWPvxn",
        "outputId": "8db04195-5747-41d9-93ee-96f6382c8fb9",
        "colab": {
          "base_uri": "https://localhost:8080/",
          "height": 105
        }
      },
      "source": [
        "predictions, *_ = learn.get_preds(DatasetType.Test)\n",
        "labels = np.argmax(predictions, 1)\n",
        "predict_list = labels.tolist()\n",
        "standard_list = test[0].tolist()\n",
        "\n",
        "print(len(predict_list))\n",
        "print(len(standard_list))\n",
        "\n",
        "print(predict_list)\n",
        "print(standard_list)"
      ],
      "execution_count": 46,
      "outputs": [
        {
          "output_type": "display_data",
          "data": {
            "text/html": [
              ""
            ],
            "text/plain": [
              "<IPython.core.display.HTML object>"
            ]
          },
          "metadata": {
            "tags": []
          }
        },
        {
          "output_type": "stream",
          "text": [
            "867\n",
            "867\n",
            "[613, 2, 765, 475, 5, 8, 8, 8, 8, 8, 8, 8, 509, 787, 21, 22, 325, 27, 27, 558, 29, 30, 211, 30, 31, 31, 32, 34, 34, 37, 37, 37, 37, 37, 37, 37, 38, 44, 546, 49, 49, 49, 49, 49, 49, 475, 49, 49, 49, 49, 49, 49, 49, 49, 53, 53, 58, 61, 71, 71, 491, 76, 76, 79, 79, 79, 79, 265, 391, 997, 265, 265, 265, 265, 265, 265, 265, 265, 265, 265, 265, 265, 265, 265, 265, 265, 265, 265, 265, 265, 265, 265, 265, 265, 265, 610, 111, 289, 265, 265, 80, 80, 80, 80, 80, 80, 80, 80, 80, 88, 137, 137, 137, 90, 91, 92, 94, 94, 94, 94, 94, 94, 94, 94, 96, 96, 98, 683, 98, 338, 597, 337, 100, 337, 100, 100, 100, 100, 100, 291, 236, 108, 108, 108, 209, 281, 111, 111, 111, 4, 111, 2, 117, 142, 43, 43, 787, 125, 391, 125, 125, 125, 125, 125, 125, 125, 125, 125, 777, 127, 129, 131, 745, 142, 142, 144, 235, 301, 151, 151, 430, 157, 157, 158, 165, 165, 166, 772, 166, 101, 172, 172, 172, 172, 172, 172, 172, 689, 127, 182, 182, 182, 182, 182, 183, 183, 183, 183, 183, 183, 183, 183, 183, 183, 183, 183, 183, 184, 184, 185, 187, 187, 187, 189, 189, 190, 190, 190, 190, 190, 190, 193, 39, 197, 205, 210, 210, 210, 210, 877, 214, 214, 214, 471, 214, 214, 214, 214, 214, 214, 214, 214, 214, 815, 216, 391, 218, 218, 220, 220, 220, 220, 220, 222, 226, 228, 228, 228, 228, 228, 228, 228, 228, 228, 544, 234, 234, 235, 180, 262, 434, 634, 256, 613, 243, 243, 243, 243, 243, 244, 245, 245, 245, 764, 245, 245, 245, 194, 733, 646, 246, 246, 246, 971, 254, 254, 259, 260, 256, 262, 265, 265, 265, 265, 419, 265, 402, 265, 265, 265, 265, 265, 265, 265, 265, 265, 265, 265, 265, 265, 265, 265, 265, 265, 265, 137, 137, 137, 269, 805, 271, 276, 277, 589, 289, 289, 190, 289, 289, 652, 697, 289, 289, 289, 289, 289, 260, 289, 289, 289, 289, 289, 289, 289, 291, 896, 877, 299, 300, 300, 265, 301, 591, 397, 308, 309, 309, 309, 309, 309, 309, 750, 642, 318, 318, 2, 79, 146, 231, 321, 321, 939, 323, 1028, 325, 602, 602, 602, 602, 602, 602, 602, 602, 602, 602, 1009, 325, 325, 326, 430, 203, 334, 335, 336, 337, 337, 337, 337, 338, 343, 344, 672, 359, 359, 794, 360, 363, 363, 289, 364, 364, 364, 97, 842, 161, 444, 396, 402, 402, 405, 415, 418, 419, 419, 652, 652, 652, 652, 471, 419, 419, 364, 736, 426, 426, 427, 427, 427, 427, 427, 427, 427, 427, 427, 427, 427, 427, 591, 736, 430, 433, 434, 435, 442, 444, 444, 444, 990, 455, 455, 463, 524, 474, 475, 591, 475, 591, 787, 744, 372, 489, 491, 491, 680, 491, 492, 492, 499, 805, 88, 509, 516, 516, 517, 256, 847, 521, 524, 999, 553, 530, 530, 530, 530, 598, 535, 541, 541, 216, 291, 546, 548, 548, 548, 548, 548, 548, 318, 190, 567, 577, 577, 578, 579, 579, 584, 874, 289, 590, 590, 325, 592, 595, 597, 597, 708, 142, 704, 228, 607, 608, 610, 610, 610, 830, 76, 742, 614, 614, 619, 619, 619, 623, 623, 624, 633, 633, 638, 644, 644, 646, 646, 646, 646, 646, 262, 617, 651, 652, 652, 652, 652, 652, 652, 662, 662, 491, 662, 491, 664, 437, 666, 491, 676, 373, 772, 686, 185, 159, 216, 693, 698, 699, 172, 265, 190, 707, 710, 711, 210, 718, 674, 570, 289, 745, 746, 746, 746, 98, 746, 749, 753, 753, 794, 607, 773, 775, 775, 775, 775, 502, 787, 235, 613, 711, 804, 805, 805, 815, 809, 809, 809, 809, 575, 810, 45, 815, 33, 824, 377, 826, 828, 829, 830, 997, 830, 830, 830, 830, 202, 840, 840, 726, 847, 847, 847, 847, 808, 847, 852, 852, 853, 853, 853, 853, 853, 853, 853, 676, 864, 864, 130, 662, 475, 614, 868, 871, 874, 245, 876, 61, 892, 896, 896, 896, 896, 896, 688, 328, 683, 896, 122, 812, 466, 916, 994, 919, 919, 913, 835, 931, 933, 936, 937, 937, 937, 937, 937, 937, 937, 941, 941, 944, 947, 613, 949, 949, 949, 949, 949, 949, 949, 949, 949, 949, 949, 949, 949, 949, 949, 949, 949, 949, 949, 949, 949, 949, 949, 949, 949, 949, 949, 949, 949, 949, 949, 949, 949, 949, 949, 949, 949, 949, 949, 949, 949, 949, 949, 949, 949, 949, 949, 949, 949, 949, 949, 949, 949, 949, 949, 949, 949, 949, 949, 949, 949, 949, 949, 949, 949, 949, 949, 949, 949, 949, 973, 985, 949, 949, 949, 949, 949, 949, 949, 949, 949, 949, 949, 949, 949, 949, 949, 949, 949, 949, 949, 949, 949, 949, 949, 949, 949, 949, 949, 949, 949, 949, 949, 949, 949, 949, 949, 949, 949, 256, 950, 950, 950, 950, 952, 952, 955, 956, 956, 964, 964, 967, 967, 967, 977, 110, 1001, 1001, 977, 1011, 1017, 1020, 1020, 1022, 1026, 1026, 1028, 1028, 1028, 1028, 985, 1035]\n",
            "[0, 2, 3, 5, 5, 8, 8, 8, 8, 8, 8, 8, 14, 18, 21, 22, 22, 27, 27, 28, 29, 30, 30, 30, 31, 31, 32, 34, 34, 37, 37, 37, 37, 37, 37, 37, 38, 44, 47, 49, 49, 49, 49, 49, 49, 49, 49, 49, 49, 49, 49, 49, 49, 49, 53, 53, 58, 61, 71, 71, 74, 76, 76, 77, 79, 79, 79, 79, 79, 79, 79, 79, 79, 79, 79, 79, 79, 79, 79, 79, 79, 79, 79, 79, 79, 79, 79, 79, 79, 79, 79, 79, 79, 79, 79, 79, 79, 79, 79, 79, 80, 80, 80, 80, 80, 80, 80, 80, 80, 88, 89, 89, 89, 90, 91, 92, 94, 94, 94, 94, 94, 94, 94, 94, 96, 96, 98, 98, 98, 100, 100, 100, 100, 100, 100, 100, 100, 100, 100, 101, 102, 108, 108, 108, 109, 111, 111, 111, 111, 111, 111, 111, 117, 120, 120, 120, 122, 125, 125, 125, 125, 125, 125, 125, 125, 125, 125, 125, 125, 127, 129, 131, 132, 142, 142, 144, 150, 150, 151, 151, 153, 157, 157, 158, 165, 165, 166, 166, 166, 168, 172, 172, 172, 172, 172, 172, 172, 180, 182, 182, 182, 182, 182, 182, 183, 183, 183, 183, 183, 183, 183, 183, 183, 183, 183, 183, 183, 184, 184, 185, 187, 187, 187, 189, 189, 190, 190, 190, 190, 190, 190, 193, 197, 197, 205, 210, 210, 210, 210, 214, 214, 214, 214, 214, 214, 214, 214, 214, 214, 214, 214, 214, 214, 216, 216, 218, 218, 218, 220, 220, 220, 220, 220, 222, 226, 228, 228, 228, 228, 228, 228, 228, 228, 228, 229, 234, 234, 235, 238, 238, 238, 240, 243, 243, 243, 243, 243, 243, 243, 244, 245, 245, 245, 245, 245, 245, 245, 245, 245, 246, 246, 246, 246, 249, 254, 254, 259, 260, 261, 262, 265, 265, 265, 265, 265, 265, 265, 265, 265, 265, 265, 265, 265, 265, 265, 265, 265, 265, 265, 265, 265, 265, 265, 265, 265, 268, 268, 268, 269, 270, 271, 276, 277, 288, 289, 289, 289, 289, 289, 289, 289, 289, 289, 289, 289, 289, 289, 289, 289, 289, 289, 289, 289, 289, 291, 293, 295, 299, 300, 300, 301, 301, 301, 304, 308, 309, 309, 309, 309, 309, 309, 317, 318, 318, 318, 318, 318, 318, 320, 321, 321, 323, 323, 325, 325, 325, 325, 325, 325, 325, 325, 325, 325, 325, 325, 325, 325, 325, 326, 327, 333, 334, 335, 336, 337, 337, 337, 337, 338, 343, 344, 347, 359, 359, 360, 360, 363, 363, 364, 364, 364, 364, 365, 380, 388, 392, 396, 402, 402, 405, 416, 418, 419, 419, 419, 419, 419, 419, 419, 419, 419, 419, 424, 426, 426, 427, 427, 427, 427, 427, 427, 427, 427, 427, 427, 427, 427, 427, 428, 430, 433, 434, 435, 443, 444, 444, 444, 455, 455, 455, 462, 465, 474, 475, 475, 475, 475, 476, 482, 483, 489, 491, 491, 491, 491, 492, 492, 499, 505, 509, 509, 516, 516, 517, 517, 517, 521, 524, 527, 529, 530, 530, 530, 530, 531, 535, 541, 541, 543, 543, 546, 548, 548, 548, 548, 548, 548, 565, 566, 567, 577, 577, 578, 579, 579, 584, 586, 588, 590, 590, 591, 592, 595, 597, 597, 598, 598, 606, 606, 607, 608, 610, 610, 610, 611, 614, 614, 614, 614, 619, 619, 619, 623, 623, 624, 633, 633, 638, 644, 644, 646, 646, 646, 646, 646, 648, 648, 651, 652, 652, 652, 652, 652, 652, 662, 662, 662, 662, 663, 663, 663, 666, 669, 681, 683, 686, 686, 687, 689, 693, 693, 698, 700, 700, 701, 703, 707, 710, 711, 715, 718, 731, 733, 741, 745, 746, 746, 746, 746, 746, 749, 753, 753, 756, 763, 771, 775, 775, 775, 775, 782, 787, 794, 794, 800, 804, 805, 805, 807, 809, 809, 809, 809, 810, 810, 813, 815, 816, 824, 826, 826, 828, 829, 830, 830, 830, 830, 830, 830, 834, 840, 840, 840, 847, 847, 847, 847, 847, 847, 852, 852, 853, 853, 853, 853, 853, 853, 853, 861, 864, 864, 864, 865, 865, 867, 868, 871, 874, 876, 876, 888, 892, 896, 896, 896, 896, 896, 896, 898, 902, 903, 905, 906, 908, 916, 917, 919, 919, 920, 929, 931, 933, 936, 937, 937, 937, 937, 937, 937, 937, 941, 941, 944, 947, 948, 949, 949, 949, 949, 949, 949, 949, 949, 949, 949, 949, 949, 949, 949, 949, 949, 949, 949, 949, 949, 949, 949, 949, 949, 949, 949, 949, 949, 949, 949, 949, 949, 949, 949, 949, 949, 949, 949, 949, 949, 949, 949, 949, 949, 949, 949, 949, 949, 949, 949, 949, 949, 949, 949, 949, 949, 949, 949, 949, 949, 949, 949, 949, 949, 949, 949, 949, 949, 949, 949, 949, 949, 949, 949, 949, 949, 949, 949, 949, 949, 949, 949, 949, 949, 949, 949, 949, 949, 949, 949, 949, 949, 949, 949, 949, 949, 949, 949, 949, 949, 949, 949, 949, 949, 949, 949, 949, 949, 949, 949, 950, 950, 950, 950, 952, 952, 955, 956, 956, 964, 964, 967, 967, 967, 977, 1000, 1001, 1001, 1002, 1011, 1017, 1020, 1020, 1022, 1026, 1026, 1028, 1028, 1028, 1028, 1030, 1035]\n"
          ],
          "name": "stdout"
        }
      ]
    },
    {
      "cell_type": "code",
      "metadata": {
        "id": "XIC4zufnMxtq",
        "outputId": "8ffa35ca-8f88-4146-fe37-3f46c25e9a96",
        "colab": {
          "base_uri": "https://localhost:8080/"
        }
      },
      "source": [
        "correct_num = 0\n",
        "\n",
        "for i in range(0, len(standard_list)):\n",
        "  if predict_list[i] == standard_list[i]:\n",
        "    correct_num = correct_num+1\n",
        "  else:\n",
        "    pass\n",
        "print(correct_num)\n",
        "\n",
        "predict_accuracy = correct_num/len(predict_list)\n",
        "print(predict_accuracy)"
      ],
      "execution_count": 47,
      "outputs": [
        {
          "output_type": "stream",
          "text": [
            "629\n",
            "0.7254901960784313\n"
          ],
          "name": "stdout"
        }
      ]
    },
    {
      "cell_type": "code",
      "metadata": {
        "id": "zlKMHp1CIaRJ"
      },
      "source": [
        ""
      ],
      "execution_count": 47,
      "outputs": []
    }
  ]
}