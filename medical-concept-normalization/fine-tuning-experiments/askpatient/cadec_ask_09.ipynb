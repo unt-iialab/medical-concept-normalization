{
  "nbformat": 4,
  "nbformat_minor": 0,
  "metadata": {
    "accelerator": "TPU",
    "colab": {
      "name": "cadec_ask_09.ipynb",
      "provenance": [],
      "collapsed_sections": [],
      "include_colab_link": true
    },
    "kernelspec": {
      "display_name": "Python 3",
      "name": "python3"
    }
  },
  "cells": [
    {
      "cell_type": "markdown",
      "metadata": {
        "id": "view-in-github",
        "colab_type": "text"
      },
      "source": [
        "<a href=\"https://colab.research.google.com/github/unt-iialab/medical-concept-normalization/blob/master/medical-concept-normalization/fine-tuning-experiments/askpatient/cadec_ask_09.ipynb\" target=\"_parent\"><img src=\"https://colab.research.google.com/assets/colab-badge.svg\" alt=\"Open In Colab\"/></a>"
      ]
    },
    {
      "cell_type": "code",
      "metadata": {
        "id": "adSi6i2-dWxy"
      },
      "source": [
        "import os"
      ],
      "execution_count": 1,
      "outputs": []
    },
    {
      "cell_type": "code",
      "metadata": {
        "id": "E7xYCRGPjd9B"
      },
      "source": [
        "base_dir = 'medical-concept-normalization'"
      ],
      "execution_count": 2,
      "outputs": []
    },
    {
      "cell_type": "code",
      "metadata": {
        "id": "yvIW3aUDjYNS"
      },
      "source": [
        "os.mkdir(base_dir)"
      ],
      "execution_count": 3,
      "outputs": []
    },
    {
      "cell_type": "code",
      "metadata": {
        "id": "es-FFLlfk6SG"
      },
      "source": [
        "os.mkdir('medical-concept-normalization/data_collection')"
      ],
      "execution_count": 4,
      "outputs": []
    },
    {
      "cell_type": "markdown",
      "metadata": {
        "id": "0R-Guw_VoJXm"
      },
      "source": [
        "**Install fastai and clone the fastai for text classification**\n",
        "\n"
      ]
    },
    {
      "cell_type": "code",
      "metadata": {
        "id": "QVZa3Z0PmHFH",
        "outputId": "83728a71-c71b-4e02-cfd4-3dcc75de49b4",
        "colab": {
          "base_uri": "https://localhost:8080/"
        }
      },
      "source": [
        "!curl https://course-v3.fast.ai/setup/colab | bash"
      ],
      "execution_count": 5,
      "outputs": [
        {
          "output_type": "stream",
          "text": [
            "  % Total    % Received % Xferd  Average Speed   Time    Time     Time  Current\n",
            "                                 Dload  Upload   Total   Spent    Left  Speed\n",
            "\r  0     0    0     0    0     0      0      0 --:--:-- --:--:-- --:--:--     0curl: (6) Could not resolve host: course-v3.fast.ai\n"
          ],
          "name": "stdout"
        }
      ]
    },
    {
      "cell_type": "code",
      "metadata": {
        "id": "_FBFFEBrmJC0",
        "outputId": "60dbbe6f-c571-446a-b766-50fe57c8dcee",
        "colab": {
          "base_uri": "https://localhost:8080/"
        }
      },
      "source": [
        "!git clone https://github.com/wshuyi/demo-nlp-classification-fastai.git"
      ],
      "execution_count": 6,
      "outputs": [
        {
          "output_type": "stream",
          "text": [
            "Cloning into 'demo-nlp-classification-fastai'...\n",
            "remote: Enumerating objects: 9, done.\u001b[K\n",
            "remote: Total 9 (delta 0), reused 0 (delta 0), pack-reused 9\n",
            "Unpacking objects: 100% (9/9), done.\n"
          ],
          "name": "stdout"
        }
      ]
    },
    {
      "cell_type": "code",
      "metadata": {
        "id": "66zfh_JqmWMU"
      },
      "source": [
        "from fastai import *\n",
        "from fastai.text import *"
      ],
      "execution_count": 7,
      "outputs": []
    },
    {
      "cell_type": "markdown",
      "metadata": {
        "id": "mNIw-yALdBU9"
      },
      "source": [
        "**Set the path of the data collections**"
      ]
    },
    {
      "cell_type": "code",
      "metadata": {
        "id": "pzH7VMh4mqCL"
      },
      "source": [
        "path = Path('medical-concept-normalization/data_collection')"
      ],
      "execution_count": 8,
      "outputs": []
    },
    {
      "cell_type": "code",
      "metadata": {
        "id": "b8fjI6yyn4aS"
      },
      "source": [
        "# training data set\n",
        "\n",
        "train_csv = path/'AskAPatient.fold-9.train.csv'\n",
        "train = pd.read_csv(train_csv, header=None)\n",
        "#train.head()\n",
        "#train.info()"
      ],
      "execution_count": 10,
      "outputs": []
    },
    {
      "cell_type": "code",
      "metadata": {
        "id": "Hmlr-bAorfHd",
        "outputId": "edcc7373-2437-4c48-b953-65d49f5280c0",
        "colab": {
          "base_uri": "https://localhost:8080/",
          "height": 204
        }
      },
      "source": [
        "# validating data set\n",
        "\n",
        "valid = pd.read_csv(path/\"AskAPatient.fold-9.validation.csv\",header=None)\n",
        "valid.head()"
      ],
      "execution_count": 11,
      "outputs": [
        {
          "output_type": "execute_result",
          "data": {
            "text/html": [
              "<div>\n",
              "<style scoped>\n",
              "    .dataframe tbody tr th:only-of-type {\n",
              "        vertical-align: middle;\n",
              "    }\n",
              "\n",
              "    .dataframe tbody tr th {\n",
              "        vertical-align: top;\n",
              "    }\n",
              "\n",
              "    .dataframe thead th {\n",
              "        text-align: right;\n",
              "    }\n",
              "</style>\n",
              "<table border=\"1\" class=\"dataframe\">\n",
              "  <thead>\n",
              "    <tr style=\"text-align: right;\">\n",
              "      <th></th>\n",
              "      <th>0</th>\n",
              "      <th>1</th>\n",
              "    </tr>\n",
              "  </thead>\n",
              "  <tbody>\n",
              "    <tr>\n",
              "      <th>0</th>\n",
              "      <td>3</td>\n",
              "      <td>cracking sensations in my joints</td>\n",
              "    </tr>\n",
              "    <tr>\n",
              "      <th>1</th>\n",
              "      <td>5</td>\n",
              "      <td>fast and slow heartbeat</td>\n",
              "    </tr>\n",
              "    <tr>\n",
              "      <th>2</th>\n",
              "      <td>8</td>\n",
              "      <td>arthritis</td>\n",
              "    </tr>\n",
              "    <tr>\n",
              "      <th>3</th>\n",
              "      <td>8</td>\n",
              "      <td>arthritis</td>\n",
              "    </tr>\n",
              "    <tr>\n",
              "      <th>4</th>\n",
              "      <td>8</td>\n",
              "      <td>arthritis</td>\n",
              "    </tr>\n",
              "  </tbody>\n",
              "</table>\n",
              "</div>"
            ],
            "text/plain": [
              "   0                                 1\n",
              "0  3  cracking sensations in my joints\n",
              "1  5           fast and slow heartbeat\n",
              "2  8                         arthritis\n",
              "3  8                         arthritis\n",
              "4  8                         arthritis"
            ]
          },
          "metadata": {
            "tags": []
          },
          "execution_count": 11
        }
      ]
    },
    {
      "cell_type": "code",
      "metadata": {
        "id": "cOza9dfSsBud",
        "outputId": "16042328-0a49-4bec-e335-5c4913886591",
        "colab": {
          "base_uri": "https://localhost:8080/",
          "height": 204
        }
      },
      "source": [
        "# testing data set\n",
        "\n",
        "test = pd.read_csv(path/\"AskAPatient.fold-9.test.csv\",header=None)\n",
        "test.head()"
      ],
      "execution_count": 12,
      "outputs": [
        {
          "output_type": "execute_result",
          "data": {
            "text/html": [
              "<div>\n",
              "<style scoped>\n",
              "    .dataframe tbody tr th:only-of-type {\n",
              "        vertical-align: middle;\n",
              "    }\n",
              "\n",
              "    .dataframe tbody tr th {\n",
              "        vertical-align: top;\n",
              "    }\n",
              "\n",
              "    .dataframe thead th {\n",
              "        text-align: right;\n",
              "    }\n",
              "</style>\n",
              "<table border=\"1\" class=\"dataframe\">\n",
              "  <thead>\n",
              "    <tr style=\"text-align: right;\">\n",
              "      <th></th>\n",
              "      <th>0</th>\n",
              "      <th>1</th>\n",
              "    </tr>\n",
              "  </thead>\n",
              "  <tbody>\n",
              "    <tr>\n",
              "      <th>0</th>\n",
              "      <td>2</td>\n",
              "      <td>painful heels</td>\n",
              "    </tr>\n",
              "    <tr>\n",
              "      <th>1</th>\n",
              "      <td>4</td>\n",
              "      <td>Discoloration of skin [blotchy] on the neck</td>\n",
              "    </tr>\n",
              "    <tr>\n",
              "      <th>2</th>\n",
              "      <td>5</td>\n",
              "      <td>my heart rate jumped to 106</td>\n",
              "    </tr>\n",
              "    <tr>\n",
              "      <th>3</th>\n",
              "      <td>7</td>\n",
              "      <td>goiter</td>\n",
              "    </tr>\n",
              "    <tr>\n",
              "      <th>4</th>\n",
              "      <td>8</td>\n",
              "      <td>arthritis</td>\n",
              "    </tr>\n",
              "  </tbody>\n",
              "</table>\n",
              "</div>"
            ],
            "text/plain": [
              "   0                                            1\n",
              "0  2                                painful heels\n",
              "1  4  Discoloration of skin [blotchy] on the neck\n",
              "2  5                  my heart rate jumped to 106\n",
              "3  7                                       goiter\n",
              "4  8                                    arthritis"
            ]
          },
          "metadata": {
            "tags": []
          },
          "execution_count": 12
        }
      ]
    },
    {
      "cell_type": "code",
      "metadata": {
        "id": "Vo-YNvVYoaH6",
        "outputId": "6ce23c83-4c62-420e-d3ba-111063f76bb4",
        "colab": {
          "base_uri": "https://localhost:8080/",
          "height": 17
        }
      },
      "source": [
        "# Creating DataBunch for language modelling\n",
        "\n",
        "data_lm = TextLMDataBunch.from_csv(path, 'cadec_ask.csv')"
      ],
      "execution_count": 13,
      "outputs": [
        {
          "output_type": "display_data",
          "data": {
            "text/html": [
              ""
            ],
            "text/plain": [
              "<IPython.core.display.HTML object>"
            ]
          },
          "metadata": {
            "tags": []
          }
        },
        {
          "output_type": "display_data",
          "data": {
            "text/html": [
              ""
            ],
            "text/plain": [
              "<IPython.core.display.HTML object>"
            ]
          },
          "metadata": {
            "tags": []
          }
        }
      ]
    },
    {
      "cell_type": "code",
      "metadata": {
        "id": "qcV-9kMnNLBf"
      },
      "source": [
        ""
      ],
      "execution_count": 13,
      "outputs": []
    },
    {
      "cell_type": "code",
      "metadata": {
        "id": "1ScY9afDsnvE"
      },
      "source": [
        "# Creating DataBunch for classification\n",
        "\n",
        "# data_clas = TextClasDataBunch.from_df(path, train, valid, test, vocab=data_lm.train_ds.vocab, bs=128)"
      ],
      "execution_count": 14,
      "outputs": []
    },
    {
      "cell_type": "code",
      "metadata": {
        "id": "gzrSdQcvey9p",
        "outputId": "5fe869d2-d43c-4e3d-bf9e-7218ef022c91",
        "colab": {
          "base_uri": "https://localhost:8080/",
          "height": 17
        }
      },
      "source": [
        "data_clas = TextClasDataBunch.from_df(path, train, valid, vocab=data_lm.train_ds.vocab, bs=128)"
      ],
      "execution_count": 15,
      "outputs": [
        {
          "output_type": "display_data",
          "data": {
            "text/html": [
              ""
            ],
            "text/plain": [
              "<IPython.core.display.HTML object>"
            ]
          },
          "metadata": {
            "tags": []
          }
        },
        {
          "output_type": "display_data",
          "data": {
            "text/html": [
              ""
            ],
            "text/plain": [
              "<IPython.core.display.HTML object>"
            ]
          },
          "metadata": {
            "tags": []
          }
        }
      ]
    },
    {
      "cell_type": "code",
      "metadata": {
        "id": "MD27Tf0Ke3ou",
        "outputId": "743e94d7-e92f-4416-b12a-220e81f3ed63",
        "colab": {
          "base_uri": "https://localhost:8080/",
          "height": 17
        }
      },
      "source": [
        "data_clas.add_test(test,label=0)\n"
      ],
      "execution_count": 16,
      "outputs": [
        {
          "output_type": "display_data",
          "data": {
            "text/html": [
              ""
            ],
            "text/plain": [
              "<IPython.core.display.HTML object>"
            ]
          },
          "metadata": {
            "tags": []
          }
        }
      ]
    },
    {
      "cell_type": "code",
      "metadata": {
        "id": "-dpjnk_rstwk"
      },
      "source": [
        "data_lm.save()\n",
        "data_clas.save()"
      ],
      "execution_count": 17,
      "outputs": []
    },
    {
      "cell_type": "code",
      "metadata": {
        "id": "4OkiJa36sw5s",
        "outputId": "cf7e7fc7-35f1-4e8c-91d0-f057e69f3aea",
        "colab": {
          "base_uri": "https://localhost:8080/"
        }
      },
      "source": [
        "data_lm.train_ds.vocab.itos"
      ],
      "execution_count": 18,
      "outputs": [
        {
          "output_type": "execute_result",
          "data": {
            "text/plain": [
              "['xxunk',\n",
              " 'xxpad',\n",
              " 'xxbos',\n",
              " 'xxeos',\n",
              " 'xxfld',\n",
              " 'xxmaj',\n",
              " 'xxup',\n",
              " 'xxrep',\n",
              " 'xxwrep',\n",
              " 'pain',\n",
              " 'lipitor',\n",
              " 'in',\n",
              " 'of',\n",
              " 'muscle',\n",
              " '.',\n",
              " 'and',\n",
              " 'to',\n",
              " ',',\n",
              " 'my',\n",
              " 'i',\n",
              " 'the',\n",
              " 'severe',\n",
              " 'myalgia',\n",
              " 'fatigue',\n",
              " 'lower',\n",
              " 'loss',\n",
              " 'weakness',\n",
              " '-',\n",
              " 'cramp',\n",
              " 'limb',\n",
              " 'back',\n",
              " 'stomach',\n",
              " 'a',\n",
              " 'depression',\n",
              " 'cramps',\n",
              " 'joint',\n",
              " 'memory',\n",
              " 'leg',\n",
              " 'gas',\n",
              " 'upper',\n",
              " 'legs',\n",
              " 'pains',\n",
              " 'it',\n",
              " 'shoulder',\n",
              " 'unable',\n",
              " 'headache',\n",
              " 'knee',\n",
              " 'not',\n",
              " '/',\n",
              " 'neck',\n",
              " 'arthralgia',\n",
              " 'foot',\n",
              " 'on',\n",
              " 'was',\n",
              " 'aches',\n",
              " 'excessive',\n",
              " 'for',\n",
              " 'hip',\n",
              " 'like',\n",
              " 'gastrointestinal',\n",
              " 'numbness',\n",
              " 'all',\n",
              " 'arthritis',\n",
              " 'walk',\n",
              " 'have',\n",
              " 'insomnia',\n",
              " 'arthrotec',\n",
              " 'feeling',\n",
              " 'problems',\n",
              " 'bleeding',\n",
              " 'with',\n",
              " 'nausea',\n",
              " 'is',\n",
              " 'cholesterol',\n",
              " 'feet',\n",
              " 'tired',\n",
              " 'heart',\n",
              " 'asthenia',\n",
              " 'dizziness',\n",
              " 'abdominal',\n",
              " 'this',\n",
              " 'disease',\n",
              " 'walking',\n",
              " 'muscles',\n",
              " 'difficulty',\n",
              " 'very',\n",
              " 'extreme',\n",
              " 'chest',\n",
              " 'swelling',\n",
              " 'that',\n",
              " 'hair',\n",
              " 'could',\n",
              " 'hand',\n",
              " 'sleep',\n",
              " 'burning',\n",
              " 'zocor',\n",
              " 'ache',\n",
              " 'vision',\n",
              " 'stiffness',\n",
              " 'cramping',\n",
              " ')',\n",
              " 'increased',\n",
              " 'backache',\n",
              " \"n't\",\n",
              " 'had',\n",
              " 'left',\n",
              " 'pins',\n",
              " 'needles',\n",
              " '(',\n",
              " 'diarrhoea',\n",
              " 'liver',\n",
              " 'blood',\n",
              " 'skin',\n",
              " 'amnesia',\n",
              " 'up',\n",
              " 'calf',\n",
              " 'but',\n",
              " 'at',\n",
              " 'tingling',\n",
              " 'anxiety',\n",
              " 'impairment',\n",
              " 'taking',\n",
              " 'high',\n",
              " 'me',\n",
              " 'weight',\n",
              " 'short',\n",
              " 'so',\n",
              " 'lack',\n",
              " 'disability',\n",
              " 'stiff',\n",
              " 'symptom',\n",
              " 'side',\n",
              " 'low',\n",
              " 'constipation',\n",
              " 'bloating',\n",
              " 'term',\n",
              " 'hands',\n",
              " 'arms',\n",
              " 'can',\n",
              " 'arm',\n",
              " \"'s\",\n",
              " 'headaches',\n",
              " 'time',\n",
              " 'after',\n",
              " 'sore',\n",
              " 'no',\n",
              " 'voltaren',\n",
              " 'neuropathy',\n",
              " 'disorder',\n",
              " 'body',\n",
              " 'pressure',\n",
              " 'poor',\n",
              " 'balance',\n",
              " 'mg',\n",
              " 'drug',\n",
              " 'tiredness',\n",
              " 'blurred',\n",
              " 'joints',\n",
              " 'ankle',\n",
              " 'off',\n",
              " 'or',\n",
              " 'from',\n",
              " 'hurt',\n",
              " 'feel',\n",
              " 'vaginal',\n",
              " 'bad',\n",
              " 'am',\n",
              " 'pravachol',\n",
              " 'been',\n",
              " 'right',\n",
              " 'get',\n",
              " 'as',\n",
              " 'acid',\n",
              " 'rash',\n",
              " 'sensation',\n",
              " 'effects',\n",
              " 'has',\n",
              " 'infarction',\n",
              " '!',\n",
              " 'vertigo',\n",
              " 'mentally',\n",
              " 'myocardial',\n",
              " 'myositis',\n",
              " 'swollen',\n",
              " 'symptoms',\n",
              " 'shoulders',\n",
              " 'generalised',\n",
              " 'atrophy',\n",
              " 'attack',\n",
              " 'upset',\n",
              " 'itching',\n",
              " 'energy',\n",
              " 'diarrhea',\n",
              " 'constant',\n",
              " 'are',\n",
              " 'painful',\n",
              " 'out',\n",
              " 'both',\n",
              " 'raised',\n",
              " 'dry',\n",
              " 'over',\n",
              " 'ubidecarenone',\n",
              " 'diabetes',\n",
              " 'by',\n",
              " 'weak',\n",
              " 'dull',\n",
              " 'be',\n",
              " 'damage',\n",
              " 'gain',\n",
              " 'reduced',\n",
              " 'elbow',\n",
              " 'spasm',\n",
              " 'illness',\n",
              " 'years',\n",
              " 'sleeping',\n",
              " 'knees',\n",
              " 'problem',\n",
              " 'crestor',\n",
              " 'when',\n",
              " 'tendonitis',\n",
              " 'spasms',\n",
              " 'about',\n",
              " 'influenza',\n",
              " 'elevated',\n",
              " 'day',\n",
              " 'started',\n",
              " 'take',\n",
              " 'heavy',\n",
              " 'hazy',\n",
              " '3',\n",
              " 'now',\n",
              " 'do',\n",
              " 'exhaustion',\n",
              " 'did',\n",
              " 'visual',\n",
              " 'bed',\n",
              " 'reflux',\n",
              " 'flatulence',\n",
              " 'mood',\n",
              " 'toe',\n",
              " 'movement',\n",
              " 'discomfort',\n",
              " 'flu',\n",
              " 'libido',\n",
              " 'felt',\n",
              " 'thigh',\n",
              " 'abnormal',\n",
              " 'throat',\n",
              " 'syndrome',\n",
              " 'concentrate',\n",
              " 'sclerosis',\n",
              " 'irritable',\n",
              " 'will',\n",
              " 'myopathy',\n",
              " 'doctor',\n",
              " 'just',\n",
              " 'kidney',\n",
              " 'down',\n",
              " 'months',\n",
              " 'days',\n",
              " 'fibromyalgia',\n",
              " '2',\n",
              " 'hips',\n",
              " 'night',\n",
              " 'serum',\n",
              " 'vomiting',\n",
              " 'one',\n",
              " 'lightheadedness',\n",
              " 'would',\n",
              " 'urine',\n",
              " 'more',\n",
              " 'concentration',\n",
              " 'if',\n",
              " 'malaise',\n",
              " 'stairs',\n",
              " 'stopped',\n",
              " 'sweating',\n",
              " 'wind',\n",
              " 'head',\n",
              " 'cold',\n",
              " 'disturbance',\n",
              " 'went',\n",
              " 'aching',\n",
              " 'appetite',\n",
              " 'chronic',\n",
              " 'mellitus',\n",
              " 'calves',\n",
              " 'confusion',\n",
              " 'swings',\n",
              " 'ankles',\n",
              " 'soreness',\n",
              " 'tremor',\n",
              " '10',\n",
              " 'eye',\n",
              " 'menstrual',\n",
              " 'celebrex',\n",
              " 'simvastatin',\n",
              " 'tinnitus',\n",
              " 'think',\n",
              " 'toes',\n",
              " 'also',\n",
              " 'brain',\n",
              " 'some',\n",
              " 'only',\n",
              " 'paraesthesia',\n",
              " 'intense',\n",
              " 'ezetimibe',\n",
              " 'terrible',\n",
              " 'type',\n",
              " 'peripheral',\n",
              " 'took',\n",
              " 'impaired',\n",
              " 'parkinson',\n",
              " 'finger',\n",
              " 'failure',\n",
              " 'decreased',\n",
              " 'cough',\n",
              " 'general',\n",
              " 'c',\n",
              " 'weeks',\n",
              " 'motivation',\n",
              " 'swallowing',\n",
              " 'mild',\n",
              " 'esters',\n",
              " 'still',\n",
              " 'ibuprofen',\n",
              " 'stress',\n",
              " 'then',\n",
              " 'indigestion',\n",
              " 'injury',\n",
              " 'acute',\n",
              " 'were',\n",
              " 'dark',\n",
              " 'renal',\n",
              " 'tendon',\n",
              " 'face',\n",
              " '&',\n",
              " 'depressed',\n",
              " 'dyspnoea',\n",
              " 'excruciating',\n",
              " 'speech',\n",
              " 'heel',\n",
              " 'any',\n",
              " 'level',\n",
              " 'restless',\n",
              " 'getting',\n",
              " 'fingers',\n",
              " 'palpitations',\n",
              " 'week',\n",
              " 'tightness',\n",
              " 'charleyhorse',\n",
              " 'ascorbic',\n",
              " 'he',\n",
              " 'lupus',\n",
              " 'an',\n",
              " ':',\n",
              " 'lateral',\n",
              " 'infection',\n",
              " 'eyes',\n",
              " 'other',\n",
              " \"'m\",\n",
              " 'they',\n",
              " 'exercise',\n",
              " 'migraine',\n",
              " 'hot',\n",
              " 'you',\n",
              " '1',\n",
              " '20',\n",
              " 'breathing',\n",
              " 'than',\n",
              " 'nerve',\n",
              " 'dreams',\n",
              " 'menopause',\n",
              " 'enzymes',\n",
              " 'gout',\n",
              " 'well',\n",
              " 'ago',\n",
              " 'wrist',\n",
              " 'twitch',\n",
              " 'even',\n",
              " 'vitamin',\n",
              " 'oil',\n",
              " 'ca',\n",
              " 'coq10',\n",
              " '5',\n",
              " 'before',\n",
              " 'amyotrophic',\n",
              " 'every',\n",
              " 'strength',\n",
              " 'two',\n",
              " 'twitching',\n",
              " 'going',\n",
              " 'much',\n",
              " 'function',\n",
              " 'drowsy',\n",
              " 'again',\n",
              " 'which',\n",
              " 'go',\n",
              " 'nasal',\n",
              " 'multiple',\n",
              " 'always',\n",
              " 'trouble',\n",
              " 'sinus',\n",
              " 'limbs',\n",
              " 'fish',\n",
              " 'advil',\n",
              " 'thighs',\n",
              " 'uterine',\n",
              " 'mobility',\n",
              " 'breath',\n",
              " 'move',\n",
              " 'mouth',\n",
              " 'bowel',\n",
              " 'fog',\n",
              " 'never',\n",
              " 'taste',\n",
              " 'better',\n",
              " 'heartburn',\n",
              " 'tylenol',\n",
              " 'medication',\n",
              " 'plantar',\n",
              " 'worse',\n",
              " 'due',\n",
              " 'hardly',\n",
              " 'provoked',\n",
              " 'tight',\n",
              " 'numb',\n",
              " 'ulcer',\n",
              " 'being',\n",
              " 'sick',\n",
              " 'almost',\n",
              " 'first',\n",
              " 'clearly',\n",
              " 'tricor',\n",
              " 'fatigued',\n",
              " 'elbows',\n",
              " 'levels',\n",
              " \"'ve\",\n",
              " 'fenofibrate',\n",
              " 'drive',\n",
              " '40',\n",
              " 'aleve',\n",
              " 'barely',\n",
              " 'lost',\n",
              " '4',\n",
              " 'experienced',\n",
              " 'horses',\n",
              " 'because',\n",
              " 'rheumatoid',\n",
              " 'liptor',\n",
              " '+',\n",
              " 'diclofenac',\n",
              " 'moody',\n",
              " 'loose',\n",
              " 'urinary',\n",
              " 'extremely',\n",
              " 'zetia',\n",
              " 'fever',\n",
              " 'sharp',\n",
              " 'accident',\n",
              " 'slurred',\n",
              " 'cerebrovascular',\n",
              " 'month',\n",
              " 'lethargy',\n",
              " 'charley',\n",
              " 'these',\n",
              " 'horrible',\n",
              " 'extremity',\n",
              " 'around',\n",
              " 'morning',\n",
              " 'light',\n",
              " 'pulse',\n",
              " 'finding',\n",
              " 'life',\n",
              " 'shortness',\n",
              " 'what',\n",
              " 'lot',\n",
              " 'major',\n",
              " 'having',\n",
              " 'facial',\n",
              " ';',\n",
              " 'sex',\n",
              " 'dizzy',\n",
              " 'panic',\n",
              " 'ringing',\n",
              " 'fasciitis',\n",
              " 'who',\n",
              " 'since',\n",
              " '?',\n",
              " 'there',\n",
              " 'congestion',\n",
              " 'mental',\n",
              " 'last',\n",
              " 'sugar',\n",
              " 'anything',\n",
              " 'dr',\n",
              " 'should',\n",
              " 'hypertension',\n",
              " 'cancer',\n",
              " 'stamina',\n",
              " 'deep',\n",
              " 'natural',\n",
              " 'year',\n",
              " 'statin',\n",
              " 'rhabdomyolysis',\n",
              " 'times',\n",
              " 'malignant',\n",
              " 'attacks',\n",
              " 'statins',\n",
              " 'ability',\n",
              " 'stop',\n",
              " 'sweats',\n",
              " 'told',\n",
              " 'achilles',\n",
              " 'irregular',\n",
              " 'osteoarthritis',\n",
              " 'present',\n",
              " 'taken',\n",
              " 'paracetamol',\n",
              " 'pruritus',\n",
              " 'good',\n",
              " 'long',\n",
              " 'tract',\n",
              " 'hunger',\n",
              " 'colic',\n",
              " 'hard',\n",
              " 'oedema',\n",
              " 'inflammation',\n",
              " 'als',\n",
              " 'thoughts',\n",
              " 'neurontin',\n",
              " 'system',\n",
              " 'frequent',\n",
              " 'few',\n",
              " 'know',\n",
              " 'sensations',\n",
              " 'became',\n",
              " 'your',\n",
              " 'little',\n",
              " 'got',\n",
              " 'forgetful',\n",
              " 'work',\n",
              " 'period',\n",
              " 'without',\n",
              " 'normal',\n",
              " 'creatinine',\n",
              " 'lopid',\n",
              " 'eczema',\n",
              " 'away',\n",
              " 'hypersomnia',\n",
              " 'ear',\n",
              " 'while',\n",
              " 'reading',\n",
              " 'too',\n",
              " 'put',\n",
              " 'inability',\n",
              " 'within',\n",
              " 'stool',\n",
              " '6',\n",
              " 'rapid',\n",
              " 'inflammatory',\n",
              " 'stand',\n",
              " 'thought',\n",
              " 'strain',\n",
              " 'see',\n",
              " 'asthma',\n",
              " 'erythematosus',\n",
              " 'norvasc',\n",
              " 'flushing',\n",
              " 'atorvastatin',\n",
              " 'ldl',\n",
              " 'same',\n",
              " 'into',\n",
              " 'most',\n",
              " 'difficult',\n",
              " 'hurts',\n",
              " 'things',\n",
              " 'sense',\n",
              " 'itchy',\n",
              " 'area',\n",
              " 'foggy',\n",
              " 'make',\n",
              " 'cpk',\n",
              " 'spasmodic',\n",
              " 'menorrhagia',\n",
              " 'find',\n",
              " 'use',\n",
              " 'climb',\n",
              " 'began',\n",
              " 'omega-3-acid',\n",
              " 'ethyl',\n",
              " 'esters-90',\n",
              " 'nervous',\n",
              " 'sudden',\n",
              " 'tension',\n",
              " 'nightmares',\n",
              " 'looks',\n",
              " 'aptyalism',\n",
              " 'dose',\n",
              " 'prednisone',\n",
              " 'drugs',\n",
              " 'lift',\n",
              " 'falling',\n",
              " 'dysfunction',\n",
              " 'stroke',\n",
              " 'bell',\n",
              " 'eat',\n",
              " 'periods',\n",
              " 'permanent',\n",
              " 'feels',\n",
              " 'said',\n",
              " 'palsy',\n",
              " 'nt',\n",
              " 'tolerance',\n",
              " 'ms',\n",
              " 'respiratory',\n",
              " 'region',\n",
              " 'lipex',\n",
              " 'increase',\n",
              " 'tachycardia',\n",
              " 'bp',\n",
              " 'tablet',\n",
              " 'triglycerides',\n",
              " 'venous',\n",
              " 'gone',\n",
              " 'weird',\n",
              " 'help',\n",
              " 'another',\n",
              " 'inflamation',\n",
              " 'several',\n",
              " 'thinking',\n",
              " 'change',\n",
              " 'sight',\n",
              " 'empty',\n",
              " 'coronary',\n",
              " 'gait',\n",
              " 'many',\n",
              " 'slight',\n",
              " 'something',\n",
              " 'limping',\n",
              " 'q10',\n",
              " 'sexual',\n",
              " 'overall',\n",
              " 'really',\n",
              " 'ears',\n",
              " 'delusional',\n",
              " 'abdomen',\n",
              " 'omega',\n",
              " 'bone',\n",
              " 'co',\n",
              " 'forearm',\n",
              " 'blurry',\n",
              " 'aphasia',\n",
              " 'edema',\n",
              " 'bruising',\n",
              " 'everything',\n",
              " 'able',\n",
              " 'stabbing',\n",
              " 'haematuria',\n",
              " 'cause',\n",
              " 'diet',\n",
              " 'codeine',\n",
              " 'bursitis',\n",
              " 'zoloft',\n",
              " 'test',\n",
              " 'does',\n",
              " 'developed',\n",
              " 'people',\n",
              " 'especially',\n",
              " 'muscular',\n",
              " 'self',\n",
              " 'fast',\n",
              " 'erythema',\n",
              " 'paranoia',\n",
              " 'three',\n",
              " 'diabetic',\n",
              " 'scalp',\n",
              " 'effect',\n",
              " 'between',\n",
              " 'menopausal',\n",
              " 'gastric',\n",
              " 'heaviness',\n",
              " 'stopping',\n",
              " 'generally',\n",
              " 'unwell',\n",
              " 'paralysis',\n",
              " 'try',\n",
              " 'rigidity',\n",
              " 'until',\n",
              " 'twitches',\n",
              " 'reaction',\n",
              " 'cortisone',\n",
              " 'ever',\n",
              " 'diovan',\n",
              " 'his',\n",
              " 'how',\n",
              " 'retention',\n",
              " 'bladder',\n",
              " 'carpal',\n",
              " 'tunnel',\n",
              " 'sides',\n",
              " 'during',\n",
              " 'where',\n",
              " 'caused',\n",
              " 'through',\n",
              " 'may',\n",
              " 'spine',\n",
              " 'disc',\n",
              " 'suicidal',\n",
              " 'site',\n",
              " 'sever',\n",
              " 'once',\n",
              " 'degenerative',\n",
              " 'changes',\n",
              " 'random',\n",
              " 'them',\n",
              " 'intolerance',\n",
              " 'she',\n",
              " 'standing',\n",
              " 'spotting',\n",
              " 'hungry',\n",
              " 'bloated',\n",
              " 'lowered',\n",
              " 'rupture',\n",
              " 'noticed',\n",
              " 'testosterone',\n",
              " '8',\n",
              " 'cycle',\n",
              " 'coated',\n",
              " '%',\n",
              " 'red',\n",
              " 'unbearable',\n",
              " 'menstruation',\n",
              " 'big',\n",
              " 'rectal',\n",
              " 'food',\n",
              " 'great',\n",
              " 'slightly',\n",
              " 'similar',\n",
              " 'made',\n",
              " 'sweat',\n",
              " 'old',\n",
              " 'syncope',\n",
              " 'doctors',\n",
              " 'ached',\n",
              " 'found',\n",
              " 'physical',\n",
              " 'bronchitis',\n",
              " 'came',\n",
              " 'prescribed',\n",
              " 'tongue',\n",
              " 'anger',\n",
              " 'words',\n",
              " 'however',\n",
              " 'ani',\n",
              " 'crying',\n",
              " 'though',\n",
              " 'pill',\n",
              " 'run',\n",
              " 'sun',\n",
              " 'tests',\n",
              " 'way',\n",
              " 'disorientated',\n",
              " 'constantly',\n",
              " 'musculoskeletal',\n",
              " 'irritability',\n",
              " 'fear',\n",
              " 'endometriosis',\n",
              " 'tender',\n",
              " 'headed',\n",
              " 'neuralgia',\n",
              " 'sciatica',\n",
              " 'allergic',\n",
              " 'colitis',\n",
              " 'hurting',\n",
              " 'enough',\n",
              " 'issues',\n",
              " 'remember',\n",
              " 'their',\n",
              " \"'\",\n",
              " 'arthritic',\n",
              " 'starting',\n",
              " 'agitated',\n",
              " 'uterus',\n",
              " 'infections',\n",
              " 'morphine',\n",
              " 'eyesight',\n",
              " 'chair',\n",
              " 'eructation',\n",
              " 'sure',\n",
              " 'read',\n",
              " 'hepatic',\n",
              " 'rashes',\n",
              " 'transient',\n",
              " 'film',\n",
              " 'choking',\n",
              " 'thoracic',\n",
              " 'limp',\n",
              " 'myself',\n",
              " '50',\n",
              " 'hours',\n",
              " 'quit',\n",
              " 'intervertebral',\n",
              " 'chill',\n",
              " 'done',\n",
              " 'recommend',\n",
              " 'unhappy',\n",
              " 'fatique',\n",
              " 'want',\n",
              " 'we',\n",
              " 'condition',\n",
              " 'fine',\n",
              " 'muscel',\n",
              " 'circulation',\n",
              " 'causing',\n",
              " 'muscels',\n",
              " 'need',\n",
              " 'decrease',\n",
              " 'desire',\n",
              " 'occasional',\n",
              " 'dehydration',\n",
              " 'less',\n",
              " 'recently',\n",
              " 'potassium',\n",
              " 'persistent',\n",
              " 'agony',\n",
              " '-pelvis',\n",
              " 'sensitivity',\n",
              " 'debilitating',\n",
              " 'alzheimer',\n",
              " 'cataflam',\n",
              " 'breast',\n",
              " 'lipidil',\n",
              " 'below',\n",
              " 'steatosis',\n",
              " 'limitation',\n",
              " 'stools',\n",
              " 'related',\n",
              " 'minutes',\n",
              " 'mobic',\n",
              " 'tremors',\n",
              " 'tried',\n",
              " 'rate',\n",
              " 'misoprostol',\n",
              " 'hdl',\n",
              " 'anyone',\n",
              " 'immediately',\n",
              " 'wanted',\n",
              " 'ribs',\n",
              " 'chills',\n",
              " 'changed',\n",
              " 'experiencing',\n",
              " 'control',\n",
              " 'dizzyness',\n",
              " 'medicine',\n",
              " 'serious',\n",
              " 'lowering',\n",
              " 'e',\n",
              " 'worth',\n",
              " 'haemorrhage',\n",
              " 'sleeplessness',\n",
              " 'irritation',\n",
              " 'unsteady',\n",
              " 'pancreatitis',\n",
              " 'clumsiness',\n",
              " 'waking',\n",
              " 'moodiness',\n",
              " 'far',\n",
              " 'personality',\n",
              " 'later',\n",
              " 'wasting',\n",
              " 'interest',\n",
              " 'tingly',\n",
              " 'fatty',\n",
              " 'hoarse',\n",
              " 'above',\n",
              " 'daily',\n",
              " 'lose',\n",
              " 'moderate',\n",
              " 'forearms',\n",
              " 'contusion',\n",
              " 'total',\n",
              " 'touch',\n",
              " 'her',\n",
              " 'sit',\n",
              " 'works',\n",
              " '7',\n",
              " 'achy',\n",
              " 'digestive',\n",
              " 'lexapro',\n",
              " 'aspirin',\n",
              " 'buzzing',\n",
              " 'although',\n",
              " 'next',\n",
              " 'its',\n",
              " 'yellow',\n",
              " 'drowsiness',\n",
              " 'difficulties',\n",
              " 'extremities',\n",
              " 'results',\n",
              " 'tenderness',\n",
              " 'instead',\n",
              " 'cognitive',\n",
              " 'b',\n",
              " 'beat',\n",
              " 'wrists',\n",
              " 'throbbing',\n",
              " 'colon',\n",
              " 'gastritis',\n",
              " 'drink',\n",
              " 'dysphonia',\n",
              " 'bizarre',\n",
              " 'alpha',\n",
              " 'lumbar',\n",
              " 'white',\n",
              " 'creatine',\n",
              " 'believe',\n",
              " 'tenalgia',\n",
              " 'urinate',\n",
              " 'rhinitis',\n",
              " 'dropped',\n",
              " 'movements',\n",
              " 'affected',\n",
              " 'constipated',\n",
              " 'vague',\n",
              " 'entire',\n",
              " 'each',\n",
              " 'experience',\n",
              " 'exhausted',\n",
              " 'cognition',\n",
              " 'neoplasm',\n",
              " 'rib',\n",
              " 'mass',\n",
              " 'concentrating',\n",
              " 'blisters',\n",
              " 'dementia',\n",
              " 'whole',\n",
              " 'family',\n",
              " 'breasts',\n",
              " 'jaundice',\n",
              " 'hyperactive',\n",
              " 'losing',\n",
              " 'tocopherol',\n",
              " 'spots',\n",
              " 'seems',\n",
              " 'post',\n",
              " 'count',\n",
              " 'across',\n",
              " 'central',\n",
              " 'non',\n",
              " 'altered',\n",
              " 'meds',\n",
              " '--',\n",
              " 'haematochezia',\n",
              " 'neoplastic',\n",
              " 'asleep',\n",
              " 'headedness',\n",
              " 'finally',\n",
              " 'stuff',\n",
              " 'tore',\n",
              " 'alopecia',\n",
              " 'cardiac',\n",
              " 'slow',\n",
              " 'vit',\n",
              " 'glucosamine',\n",
              " 'nothing',\n",
              " 'website',\n",
              " 'pravastatin',\n",
              " 'why',\n",
              " 'inflammed',\n",
              " 'easily',\n",
              " 'throughout',\n",
              " 'keep',\n",
              " 'doc',\n",
              " 'room',\n",
              " 'trying',\n",
              " 'doing',\n",
              " 'say',\n",
              " 'him',\n",
              " 'healthy',\n",
              " 'initial',\n",
              " 'blind',\n",
              " '200',\n",
              " 'falls',\n",
              " '80',\n",
              " 'blurring',\n",
              " 'meniscus',\n",
              " 'others',\n",
              " 'mastalgia',\n",
              " 'relief',\n",
              " 'hope',\n",
              " 'significant',\n",
              " 'unexplained',\n",
              " 's',\n",
              " 'shaking',\n",
              " 'cell',\n",
              " 'none',\n",
              " 'water',\n",
              " 'using',\n",
              " 'half',\n",
              " ...]"
            ]
          },
          "metadata": {
            "tags": []
          },
          "execution_count": 18
        }
      ]
    },
    {
      "cell_type": "code",
      "metadata": {
        "id": "yPWr03mls3VT",
        "outputId": "810ebeba-d451-47f2-a573-d78cb86d00d6",
        "colab": {
          "base_uri": "https://localhost:8080/",
          "height": 17
        }
      },
      "source": [
        "model_path = path/'models'\n",
        "model_path.mkdir(exist_ok=True)\n",
        "url = 'http://files.fast.ai/models/wt103_v1/'\n",
        "download_url(f'{url}lstm_wt103.pth', model_path/'lstm_wt103.pth')\n",
        "download_url(f'{url}itos_wt103.pkl', model_path/'itos_wt103.pkl')"
      ],
      "execution_count": 19,
      "outputs": [
        {
          "output_type": "display_data",
          "data": {
            "text/html": [
              ""
            ],
            "text/plain": [
              "<IPython.core.display.HTML object>"
            ]
          },
          "metadata": {
            "tags": []
          }
        },
        {
          "output_type": "display_data",
          "data": {
            "text/html": [
              ""
            ],
            "text/plain": [
              "<IPython.core.display.HTML object>"
            ]
          },
          "metadata": {
            "tags": []
          }
        }
      ]
    },
    {
      "cell_type": "code",
      "metadata": {
        "id": "JRzvWg8RtGGr",
        "outputId": "9762ea37-1d3e-411e-aaa9-542c06e58428",
        "colab": {
          "base_uri": "https://localhost:8080/",
          "height": 34
        }
      },
      "source": [
        "learn = language_model_learner(data_lm, AWD_LSTM, drop_mult=0.5)"
      ],
      "execution_count": 20,
      "outputs": [
        {
          "output_type": "stream",
          "text": [
            "Downloading https://s3.amazonaws.com/fast-ai-modelzoo/wt103-fwd.tgz\n"
          ],
          "name": "stdout"
        },
        {
          "output_type": "display_data",
          "data": {
            "text/html": [
              ""
            ],
            "text/plain": [
              "<IPython.core.display.HTML object>"
            ]
          },
          "metadata": {
            "tags": []
          }
        }
      ]
    },
    {
      "cell_type": "code",
      "metadata": {
        "id": "xKK7GeBev7Xn",
        "outputId": "7b78c073-3c60-4a63-87ad-3defec9fbcf1",
        "colab": {
          "base_uri": "https://localhost:8080/",
          "height": 80
        }
      },
      "source": [
        "learn.fit_one_cycle(1, 1e-2)"
      ],
      "execution_count": 21,
      "outputs": [
        {
          "output_type": "display_data",
          "data": {
            "text/html": [
              "<table border=\"1\" class=\"dataframe\">\n",
              "  <thead>\n",
              "    <tr style=\"text-align: left;\">\n",
              "      <th>epoch</th>\n",
              "      <th>train_loss</th>\n",
              "      <th>valid_loss</th>\n",
              "      <th>accuracy</th>\n",
              "      <th>time</th>\n",
              "    </tr>\n",
              "  </thead>\n",
              "  <tbody>\n",
              "    <tr>\n",
              "      <td>0</td>\n",
              "      <td>3.194465</td>\n",
              "      <td>2.703886</td>\n",
              "      <td>0.544015</td>\n",
              "      <td>18:24</td>\n",
              "    </tr>\n",
              "  </tbody>\n",
              "</table>"
            ],
            "text/plain": [
              "<IPython.core.display.HTML object>"
            ]
          },
          "metadata": {
            "tags": []
          }
        }
      ]
    },
    {
      "cell_type": "code",
      "metadata": {
        "id": "iB7rHGQCwd12"
      },
      "source": [
        "# learn.fit_one_cycle(1, 1e-2)"
      ],
      "execution_count": 22,
      "outputs": []
    },
    {
      "cell_type": "code",
      "metadata": {
        "id": "_BnSuAeCwkBe"
      },
      "source": [
        "# learn.fit_one_cycle(1, 1e-3)"
      ],
      "execution_count": 23,
      "outputs": []
    },
    {
      "cell_type": "code",
      "metadata": {
        "id": "MuTm-RFjwrEX",
        "outputId": "af3f29d3-4788-4028-99f4-55ca8557bb27",
        "colab": {
          "base_uri": "https://localhost:8080/",
          "height": 80
        }
      },
      "source": [
        "learn.fit_one_cycle(1, 1e-3)"
      ],
      "execution_count": 24,
      "outputs": [
        {
          "output_type": "display_data",
          "data": {
            "text/html": [
              "<table border=\"1\" class=\"dataframe\">\n",
              "  <thead>\n",
              "    <tr style=\"text-align: left;\">\n",
              "      <th>epoch</th>\n",
              "      <th>train_loss</th>\n",
              "      <th>valid_loss</th>\n",
              "      <th>accuracy</th>\n",
              "      <th>time</th>\n",
              "    </tr>\n",
              "  </thead>\n",
              "  <tbody>\n",
              "    <tr>\n",
              "      <td>0</td>\n",
              "      <td>2.788932</td>\n",
              "      <td>2.653575</td>\n",
              "      <td>0.549323</td>\n",
              "      <td>18:14</td>\n",
              "    </tr>\n",
              "  </tbody>\n",
              "</table>"
            ],
            "text/plain": [
              "<IPython.core.display.HTML object>"
            ]
          },
          "metadata": {
            "tags": []
          }
        }
      ]
    },
    {
      "cell_type": "code",
      "metadata": {
        "id": "1Er2ExO8wr7Y"
      },
      "source": [
        "learn.save_encoder('cadec_ask_fold9_first')"
      ],
      "execution_count": 25,
      "outputs": []
    },
    {
      "cell_type": "code",
      "metadata": {
        "id": "z52cZs2qwvad",
        "outputId": "f095b478-f605-4c16-c1f6-8b38b260a01c",
        "colab": {
          "base_uri": "https://localhost:8080/",
          "height": 80
        }
      },
      "source": [
        "learn = text_classifier_learner(data_clas,AWD_LSTM, drop_mult=0.5)\n",
        "learn.load_encoder('cadec_ask_fold9_first')\n",
        "learn.fit_one_cycle(1, 1e-2)"
      ],
      "execution_count": 26,
      "outputs": [
        {
          "output_type": "display_data",
          "data": {
            "text/html": [
              "<table border=\"1\" class=\"dataframe\">\n",
              "  <thead>\n",
              "    <tr style=\"text-align: left;\">\n",
              "      <th>epoch</th>\n",
              "      <th>train_loss</th>\n",
              "      <th>valid_loss</th>\n",
              "      <th>accuracy</th>\n",
              "      <th>time</th>\n",
              "    </tr>\n",
              "  </thead>\n",
              "  <tbody>\n",
              "    <tr>\n",
              "      <td>0</td>\n",
              "      <td>4.140569</td>\n",
              "      <td>3.407335</td>\n",
              "      <td>0.396226</td>\n",
              "      <td>01:15</td>\n",
              "    </tr>\n",
              "  </tbody>\n",
              "</table>"
            ],
            "text/plain": [
              "<IPython.core.display.HTML object>"
            ]
          },
          "metadata": {
            "tags": []
          }
        }
      ]
    },
    {
      "cell_type": "code",
      "metadata": {
        "id": "ImwQP1PJwzxd",
        "outputId": "4d5ed9d0-a7cd-4327-a65c-1c0e4a879557",
        "colab": {
          "base_uri": "https://localhost:8080/",
          "height": 80
        }
      },
      "source": [
        "learn.freeze_to(-2)\n",
        "learn.fit_one_cycle(1, slice(5e-3/2., 5e-3))"
      ],
      "execution_count": 27,
      "outputs": [
        {
          "output_type": "display_data",
          "data": {
            "text/html": [
              "<table border=\"1\" class=\"dataframe\">\n",
              "  <thead>\n",
              "    <tr style=\"text-align: left;\">\n",
              "      <th>epoch</th>\n",
              "      <th>train_loss</th>\n",
              "      <th>valid_loss</th>\n",
              "      <th>accuracy</th>\n",
              "      <th>time</th>\n",
              "    </tr>\n",
              "  </thead>\n",
              "  <tbody>\n",
              "    <tr>\n",
              "      <td>0</td>\n",
              "      <td>3.019321</td>\n",
              "      <td>2.812169</td>\n",
              "      <td>0.498652</td>\n",
              "      <td>01:17</td>\n",
              "    </tr>\n",
              "  </tbody>\n",
              "</table>"
            ],
            "text/plain": [
              "<IPython.core.display.HTML object>"
            ]
          },
          "metadata": {
            "tags": []
          }
        }
      ]
    },
    {
      "cell_type": "code",
      "metadata": {
        "id": "Owff_BJXw53u",
        "outputId": "8dfe8e87-f981-42eb-80e3-2880ed73d604",
        "colab": {
          "base_uri": "https://localhost:8080/",
          "height": 80
        }
      },
      "source": [
        "learn.unfreeze()\n",
        "learn.fit_one_cycle(1, slice(2e-3/100, 2e-3))"
      ],
      "execution_count": 28,
      "outputs": [
        {
          "output_type": "display_data",
          "data": {
            "text/html": [
              "<table border=\"1\" class=\"dataframe\">\n",
              "  <thead>\n",
              "    <tr style=\"text-align: left;\">\n",
              "      <th>epoch</th>\n",
              "      <th>train_loss</th>\n",
              "      <th>valid_loss</th>\n",
              "      <th>accuracy</th>\n",
              "      <th>time</th>\n",
              "    </tr>\n",
              "  </thead>\n",
              "  <tbody>\n",
              "    <tr>\n",
              "      <td>0</td>\n",
              "      <td>2.370037</td>\n",
              "      <td>2.402685</td>\n",
              "      <td>0.574124</td>\n",
              "      <td>03:10</td>\n",
              "    </tr>\n",
              "  </tbody>\n",
              "</table>"
            ],
            "text/plain": [
              "<IPython.core.display.HTML object>"
            ]
          },
          "metadata": {
            "tags": []
          }
        }
      ]
    },
    {
      "cell_type": "code",
      "metadata": {
        "id": "lqAyu56V8Waq",
        "outputId": "f7eecab9-e9ff-4af8-a739-921267b81903",
        "colab": {
          "base_uri": "https://localhost:8080/",
          "height": 111
        }
      },
      "source": [
        "learn.fit_one_cycle(2, slice(2e-3/100, 2e-3))"
      ],
      "execution_count": 29,
      "outputs": [
        {
          "output_type": "display_data",
          "data": {
            "text/html": [
              "<table border=\"1\" class=\"dataframe\">\n",
              "  <thead>\n",
              "    <tr style=\"text-align: left;\">\n",
              "      <th>epoch</th>\n",
              "      <th>train_loss</th>\n",
              "      <th>valid_loss</th>\n",
              "      <th>accuracy</th>\n",
              "      <th>time</th>\n",
              "    </tr>\n",
              "  </thead>\n",
              "  <tbody>\n",
              "    <tr>\n",
              "      <td>0</td>\n",
              "      <td>2.105309</td>\n",
              "      <td>2.109012</td>\n",
              "      <td>0.618598</td>\n",
              "      <td>03:22</td>\n",
              "    </tr>\n",
              "    <tr>\n",
              "      <td>1</td>\n",
              "      <td>1.857004</td>\n",
              "      <td>1.948767</td>\n",
              "      <td>0.650943</td>\n",
              "      <td>03:11</td>\n",
              "    </tr>\n",
              "  </tbody>\n",
              "</table>"
            ],
            "text/plain": [
              "<IPython.core.display.HTML object>"
            ]
          },
          "metadata": {
            "tags": []
          }
        }
      ]
    },
    {
      "cell_type": "code",
      "metadata": {
        "id": "a7I1xMRp8bUd",
        "outputId": "05a044d8-4e8a-4e84-d5e9-0603bda75b9d",
        "colab": {
          "base_uri": "https://localhost:8080/",
          "height": 111
        }
      },
      "source": [
        "learn.fit_one_cycle(2, slice(2e-3/100, 2e-3))"
      ],
      "execution_count": 30,
      "outputs": [
        {
          "output_type": "display_data",
          "data": {
            "text/html": [
              "<table border=\"1\" class=\"dataframe\">\n",
              "  <thead>\n",
              "    <tr style=\"text-align: left;\">\n",
              "      <th>epoch</th>\n",
              "      <th>train_loss</th>\n",
              "      <th>valid_loss</th>\n",
              "      <th>accuracy</th>\n",
              "      <th>time</th>\n",
              "    </tr>\n",
              "  </thead>\n",
              "  <tbody>\n",
              "    <tr>\n",
              "      <td>0</td>\n",
              "      <td>1.590596</td>\n",
              "      <td>1.748235</td>\n",
              "      <td>0.683288</td>\n",
              "      <td>03:17</td>\n",
              "    </tr>\n",
              "    <tr>\n",
              "      <td>1</td>\n",
              "      <td>1.372446</td>\n",
              "      <td>1.666547</td>\n",
              "      <td>0.699461</td>\n",
              "      <td>03:27</td>\n",
              "    </tr>\n",
              "  </tbody>\n",
              "</table>"
            ],
            "text/plain": [
              "<IPython.core.display.HTML object>"
            ]
          },
          "metadata": {
            "tags": []
          }
        }
      ]
    },
    {
      "cell_type": "code",
      "metadata": {
        "id": "UAnti-XmGVfO",
        "outputId": "01611ab0-5b84-455e-a26c-a8b331cc5fb0",
        "colab": {
          "base_uri": "https://localhost:8080/",
          "height": 111
        }
      },
      "source": [
        "learn.fit_one_cycle(2, slice(2e-3/100, 2e-3))"
      ],
      "execution_count": 31,
      "outputs": [
        {
          "output_type": "display_data",
          "data": {
            "text/html": [
              "<table border=\"1\" class=\"dataframe\">\n",
              "  <thead>\n",
              "    <tr style=\"text-align: left;\">\n",
              "      <th>epoch</th>\n",
              "      <th>train_loss</th>\n",
              "      <th>valid_loss</th>\n",
              "      <th>accuracy</th>\n",
              "      <th>time</th>\n",
              "    </tr>\n",
              "  </thead>\n",
              "  <tbody>\n",
              "    <tr>\n",
              "      <td>0</td>\n",
              "      <td>1.300091</td>\n",
              "      <td>1.547331</td>\n",
              "      <td>0.718329</td>\n",
              "      <td>03:22</td>\n",
              "    </tr>\n",
              "    <tr>\n",
              "      <td>1</td>\n",
              "      <td>1.038138</td>\n",
              "      <td>1.512391</td>\n",
              "      <td>0.733154</td>\n",
              "      <td>03:21</td>\n",
              "    </tr>\n",
              "  </tbody>\n",
              "</table>"
            ],
            "text/plain": [
              "<IPython.core.display.HTML object>"
            ]
          },
          "metadata": {
            "tags": []
          }
        }
      ]
    },
    {
      "cell_type": "code",
      "metadata": {
        "id": "bIft7W25GwSu",
        "outputId": "dbd117d5-8006-4db2-a6e1-ac0864dca0d1",
        "colab": {
          "base_uri": "https://localhost:8080/",
          "height": 111
        }
      },
      "source": [
        "learn.fit_one_cycle(2, slice(2e-3/100, 2e-3))"
      ],
      "execution_count": 32,
      "outputs": [
        {
          "output_type": "display_data",
          "data": {
            "text/html": [
              "<table border=\"1\" class=\"dataframe\">\n",
              "  <thead>\n",
              "    <tr style=\"text-align: left;\">\n",
              "      <th>epoch</th>\n",
              "      <th>train_loss</th>\n",
              "      <th>valid_loss</th>\n",
              "      <th>accuracy</th>\n",
              "      <th>time</th>\n",
              "    </tr>\n",
              "  </thead>\n",
              "  <tbody>\n",
              "    <tr>\n",
              "      <td>0</td>\n",
              "      <td>1.043361</td>\n",
              "      <td>1.413745</td>\n",
              "      <td>0.737197</td>\n",
              "      <td>03:22</td>\n",
              "    </tr>\n",
              "    <tr>\n",
              "      <td>1</td>\n",
              "      <td>0.909534</td>\n",
              "      <td>1.359338</td>\n",
              "      <td>0.762803</td>\n",
              "      <td>03:16</td>\n",
              "    </tr>\n",
              "  </tbody>\n",
              "</table>"
            ],
            "text/plain": [
              "<IPython.core.display.HTML object>"
            ]
          },
          "metadata": {
            "tags": []
          }
        }
      ]
    },
    {
      "cell_type": "code",
      "metadata": {
        "id": "EEHszVRvGyFt",
        "outputId": "e5f91e41-5337-4ff6-bf64-fc1defb58208",
        "colab": {
          "base_uri": "https://localhost:8080/",
          "height": 111
        }
      },
      "source": [
        "learn.fit_one_cycle(2, slice(2e-3/100, 2e-3))"
      ],
      "execution_count": 33,
      "outputs": [
        {
          "output_type": "display_data",
          "data": {
            "text/html": [
              "<table border=\"1\" class=\"dataframe\">\n",
              "  <thead>\n",
              "    <tr style=\"text-align: left;\">\n",
              "      <th>epoch</th>\n",
              "      <th>train_loss</th>\n",
              "      <th>valid_loss</th>\n",
              "      <th>accuracy</th>\n",
              "      <th>time</th>\n",
              "    </tr>\n",
              "  </thead>\n",
              "  <tbody>\n",
              "    <tr>\n",
              "      <td>0</td>\n",
              "      <td>0.902273</td>\n",
              "      <td>1.349654</td>\n",
              "      <td>0.757412</td>\n",
              "      <td>03:18</td>\n",
              "    </tr>\n",
              "    <tr>\n",
              "      <td>1</td>\n",
              "      <td>0.765395</td>\n",
              "      <td>1.299185</td>\n",
              "      <td>0.766846</td>\n",
              "      <td>03:06</td>\n",
              "    </tr>\n",
              "  </tbody>\n",
              "</table>"
            ],
            "text/plain": [
              "<IPython.core.display.HTML object>"
            ]
          },
          "metadata": {
            "tags": []
          }
        }
      ]
    },
    {
      "cell_type": "code",
      "metadata": {
        "id": "XsHfrhCHG3dN",
        "outputId": "a158aa8f-8958-4e0f-b732-7c2e47aeb08d",
        "colab": {
          "base_uri": "https://localhost:8080/",
          "height": 173
        }
      },
      "source": [
        "learn.fit_one_cycle(4, slice(2e-3/100, 2e-3))"
      ],
      "execution_count": 34,
      "outputs": [
        {
          "output_type": "display_data",
          "data": {
            "text/html": [
              "<table border=\"1\" class=\"dataframe\">\n",
              "  <thead>\n",
              "    <tr style=\"text-align: left;\">\n",
              "      <th>epoch</th>\n",
              "      <th>train_loss</th>\n",
              "      <th>valid_loss</th>\n",
              "      <th>accuracy</th>\n",
              "      <th>time</th>\n",
              "    </tr>\n",
              "  </thead>\n",
              "  <tbody>\n",
              "    <tr>\n",
              "      <td>0</td>\n",
              "      <td>0.674265</td>\n",
              "      <td>1.333389</td>\n",
              "      <td>0.769542</td>\n",
              "      <td>03:21</td>\n",
              "    </tr>\n",
              "    <tr>\n",
              "      <td>1</td>\n",
              "      <td>0.675204</td>\n",
              "      <td>1.236453</td>\n",
              "      <td>0.781671</td>\n",
              "      <td>03:08</td>\n",
              "    </tr>\n",
              "    <tr>\n",
              "      <td>2</td>\n",
              "      <td>0.591569</td>\n",
              "      <td>1.154686</td>\n",
              "      <td>0.795148</td>\n",
              "      <td>03:06</td>\n",
              "    </tr>\n",
              "    <tr>\n",
              "      <td>3</td>\n",
              "      <td>0.530470</td>\n",
              "      <td>1.152637</td>\n",
              "      <td>0.797844</td>\n",
              "      <td>03:22</td>\n",
              "    </tr>\n",
              "  </tbody>\n",
              "</table>"
            ],
            "text/plain": [
              "<IPython.core.display.HTML object>"
            ]
          },
          "metadata": {
            "tags": []
          }
        }
      ]
    },
    {
      "cell_type": "code",
      "metadata": {
        "id": "0Zsd99isb9EQ",
        "outputId": "158a1e26-7f7d-42fd-f441-dc0a8591b187",
        "colab": {
          "base_uri": "https://localhost:8080/",
          "height": 173
        }
      },
      "source": [
        "learn.fit_one_cycle(4, slice(2e-3/100, 2e-3))"
      ],
      "execution_count": 35,
      "outputs": [
        {
          "output_type": "display_data",
          "data": {
            "text/html": [
              "<table border=\"1\" class=\"dataframe\">\n",
              "  <thead>\n",
              "    <tr style=\"text-align: left;\">\n",
              "      <th>epoch</th>\n",
              "      <th>train_loss</th>\n",
              "      <th>valid_loss</th>\n",
              "      <th>accuracy</th>\n",
              "      <th>time</th>\n",
              "    </tr>\n",
              "  </thead>\n",
              "  <tbody>\n",
              "    <tr>\n",
              "      <td>0</td>\n",
              "      <td>0.547235</td>\n",
              "      <td>1.166883</td>\n",
              "      <td>0.799191</td>\n",
              "      <td>03:22</td>\n",
              "    </tr>\n",
              "    <tr>\n",
              "      <td>1</td>\n",
              "      <td>0.554315</td>\n",
              "      <td>1.113259</td>\n",
              "      <td>0.804582</td>\n",
              "      <td>03:06</td>\n",
              "    </tr>\n",
              "    <tr>\n",
              "      <td>2</td>\n",
              "      <td>0.426536</td>\n",
              "      <td>1.100495</td>\n",
              "      <td>0.815364</td>\n",
              "      <td>03:05</td>\n",
              "    </tr>\n",
              "    <tr>\n",
              "      <td>3</td>\n",
              "      <td>0.400081</td>\n",
              "      <td>1.064535</td>\n",
              "      <td>0.819407</td>\n",
              "      <td>02:59</td>\n",
              "    </tr>\n",
              "  </tbody>\n",
              "</table>"
            ],
            "text/plain": [
              "<IPython.core.display.HTML object>"
            ]
          },
          "metadata": {
            "tags": []
          }
        }
      ]
    },
    {
      "cell_type": "code",
      "metadata": {
        "id": "atNWNKDFPbuI",
        "outputId": "5b7b11be-8290-4a11-e7dc-0d663b204e59",
        "colab": {
          "base_uri": "https://localhost:8080/",
          "height": 173
        }
      },
      "source": [
        "learn.fit_one_cycle(4, slice(2e-3/100, 2e-3))"
      ],
      "execution_count": 36,
      "outputs": [
        {
          "output_type": "display_data",
          "data": {
            "text/html": [
              "<table border=\"1\" class=\"dataframe\">\n",
              "  <thead>\n",
              "    <tr style=\"text-align: left;\">\n",
              "      <th>epoch</th>\n",
              "      <th>train_loss</th>\n",
              "      <th>valid_loss</th>\n",
              "      <th>accuracy</th>\n",
              "      <th>time</th>\n",
              "    </tr>\n",
              "  </thead>\n",
              "  <tbody>\n",
              "    <tr>\n",
              "      <td>0</td>\n",
              "      <td>0.368475</td>\n",
              "      <td>1.116072</td>\n",
              "      <td>0.820755</td>\n",
              "      <td>03:23</td>\n",
              "    </tr>\n",
              "    <tr>\n",
              "      <td>1</td>\n",
              "      <td>0.419313</td>\n",
              "      <td>1.087601</td>\n",
              "      <td>0.826146</td>\n",
              "      <td>03:21</td>\n",
              "    </tr>\n",
              "    <tr>\n",
              "      <td>2</td>\n",
              "      <td>0.350181</td>\n",
              "      <td>1.051553</td>\n",
              "      <td>0.819407</td>\n",
              "      <td>03:20</td>\n",
              "    </tr>\n",
              "    <tr>\n",
              "      <td>3</td>\n",
              "      <td>0.307096</td>\n",
              "      <td>1.063765</td>\n",
              "      <td>0.824798</td>\n",
              "      <td>03:22</td>\n",
              "    </tr>\n",
              "  </tbody>\n",
              "</table>"
            ],
            "text/plain": [
              "<IPython.core.display.HTML object>"
            ]
          },
          "metadata": {
            "tags": []
          }
        }
      ]
    },
    {
      "cell_type": "code",
      "metadata": {
        "id": "rKrBTZ0T1uVA",
        "outputId": "40b76cd4-6f55-4c9b-9b4c-4ef0c70f1af1",
        "colab": {
          "base_uri": "https://localhost:8080/",
          "height": 173
        }
      },
      "source": [
        "learn.fit_one_cycle(4, slice(2e-3/100, 2e-3))"
      ],
      "execution_count": 37,
      "outputs": [
        {
          "output_type": "display_data",
          "data": {
            "text/html": [
              "<table border=\"1\" class=\"dataframe\">\n",
              "  <thead>\n",
              "    <tr style=\"text-align: left;\">\n",
              "      <th>epoch</th>\n",
              "      <th>train_loss</th>\n",
              "      <th>valid_loss</th>\n",
              "      <th>accuracy</th>\n",
              "      <th>time</th>\n",
              "    </tr>\n",
              "  </thead>\n",
              "  <tbody>\n",
              "    <tr>\n",
              "      <td>0</td>\n",
              "      <td>0.311523</td>\n",
              "      <td>1.146166</td>\n",
              "      <td>0.818059</td>\n",
              "      <td>03:23</td>\n",
              "    </tr>\n",
              "    <tr>\n",
              "      <td>1</td>\n",
              "      <td>0.372964</td>\n",
              "      <td>1.104248</td>\n",
              "      <td>0.826146</td>\n",
              "      <td>03:06</td>\n",
              "    </tr>\n",
              "    <tr>\n",
              "      <td>2</td>\n",
              "      <td>0.321713</td>\n",
              "      <td>1.057407</td>\n",
              "      <td>0.838275</td>\n",
              "      <td>03:17</td>\n",
              "    </tr>\n",
              "    <tr>\n",
              "      <td>3</td>\n",
              "      <td>0.280538</td>\n",
              "      <td>1.139910</td>\n",
              "      <td>0.838275</td>\n",
              "      <td>03:30</td>\n",
              "    </tr>\n",
              "  </tbody>\n",
              "</table>"
            ],
            "text/plain": [
              "<IPython.core.display.HTML object>"
            ]
          },
          "metadata": {
            "tags": []
          }
        }
      ]
    },
    {
      "cell_type": "code",
      "metadata": {
        "id": "ajQC6WDg1yA9",
        "outputId": "1eef2363-df7e-42f1-b740-a585ddd94465",
        "colab": {
          "base_uri": "https://localhost:8080/",
          "height": 173
        }
      },
      "source": [
        "learn.fit_one_cycle(4, slice(2e-3/100, 2e-3))"
      ],
      "execution_count": 38,
      "outputs": [
        {
          "output_type": "display_data",
          "data": {
            "text/html": [
              "<table border=\"1\" class=\"dataframe\">\n",
              "  <thead>\n",
              "    <tr style=\"text-align: left;\">\n",
              "      <th>epoch</th>\n",
              "      <th>train_loss</th>\n",
              "      <th>valid_loss</th>\n",
              "      <th>accuracy</th>\n",
              "      <th>time</th>\n",
              "    </tr>\n",
              "  </thead>\n",
              "  <tbody>\n",
              "    <tr>\n",
              "      <td>0</td>\n",
              "      <td>0.260737</td>\n",
              "      <td>1.152448</td>\n",
              "      <td>0.831536</td>\n",
              "      <td>03:27</td>\n",
              "    </tr>\n",
              "    <tr>\n",
              "      <td>1</td>\n",
              "      <td>0.304673</td>\n",
              "      <td>1.114818</td>\n",
              "      <td>0.834232</td>\n",
              "      <td>03:22</td>\n",
              "    </tr>\n",
              "    <tr>\n",
              "      <td>2</td>\n",
              "      <td>0.279506</td>\n",
              "      <td>1.090198</td>\n",
              "      <td>0.842318</td>\n",
              "      <td>03:16</td>\n",
              "    </tr>\n",
              "    <tr>\n",
              "      <td>3</td>\n",
              "      <td>0.236475</td>\n",
              "      <td>1.069215</td>\n",
              "      <td>0.838275</td>\n",
              "      <td>03:23</td>\n",
              "    </tr>\n",
              "  </tbody>\n",
              "</table>"
            ],
            "text/plain": [
              "<IPython.core.display.HTML object>"
            ]
          },
          "metadata": {
            "tags": []
          }
        }
      ]
    },
    {
      "cell_type": "code",
      "metadata": {
        "id": "KKydb0B4BKGk",
        "outputId": "4cb2cdc1-ecb2-4654-aa93-ed547bc072a6",
        "colab": {
          "base_uri": "https://localhost:8080/",
          "height": 173
        }
      },
      "source": [
        "learn.fit_one_cycle(4, slice(2e-3/100, 2e-3))"
      ],
      "execution_count": 39,
      "outputs": [
        {
          "output_type": "display_data",
          "data": {
            "text/html": [
              "<table border=\"1\" class=\"dataframe\">\n",
              "  <thead>\n",
              "    <tr style=\"text-align: left;\">\n",
              "      <th>epoch</th>\n",
              "      <th>train_loss</th>\n",
              "      <th>valid_loss</th>\n",
              "      <th>accuracy</th>\n",
              "      <th>time</th>\n",
              "    </tr>\n",
              "  </thead>\n",
              "  <tbody>\n",
              "    <tr>\n",
              "      <td>0</td>\n",
              "      <td>0.233820</td>\n",
              "      <td>1.146242</td>\n",
              "      <td>0.830189</td>\n",
              "      <td>03:30</td>\n",
              "    </tr>\n",
              "    <tr>\n",
              "      <td>1</td>\n",
              "      <td>0.280010</td>\n",
              "      <td>1.146278</td>\n",
              "      <td>0.832884</td>\n",
              "      <td>03:07</td>\n",
              "    </tr>\n",
              "    <tr>\n",
              "      <td>2</td>\n",
              "      <td>0.257846</td>\n",
              "      <td>1.175664</td>\n",
              "      <td>0.839623</td>\n",
              "      <td>03:20</td>\n",
              "    </tr>\n",
              "    <tr>\n",
              "      <td>3</td>\n",
              "      <td>0.196875</td>\n",
              "      <td>1.113014</td>\n",
              "      <td>0.840970</td>\n",
              "      <td>03:27</td>\n",
              "    </tr>\n",
              "  </tbody>\n",
              "</table>"
            ],
            "text/plain": [
              "<IPython.core.display.HTML object>"
            ]
          },
          "metadata": {
            "tags": []
          }
        }
      ]
    },
    {
      "cell_type": "code",
      "metadata": {
        "id": "T2APKtFKBpGY",
        "outputId": "e025802e-7ad0-4bb6-9a22-136c653dce49",
        "colab": {
          "base_uri": "https://localhost:8080/",
          "height": 173
        }
      },
      "source": [
        "learn.fit_one_cycle(4, slice(2e-3/100, 2e-3))"
      ],
      "execution_count": 40,
      "outputs": [
        {
          "output_type": "display_data",
          "data": {
            "text/html": [
              "<table border=\"1\" class=\"dataframe\">\n",
              "  <thead>\n",
              "    <tr style=\"text-align: left;\">\n",
              "      <th>epoch</th>\n",
              "      <th>train_loss</th>\n",
              "      <th>valid_loss</th>\n",
              "      <th>accuracy</th>\n",
              "      <th>time</th>\n",
              "    </tr>\n",
              "  </thead>\n",
              "  <tbody>\n",
              "    <tr>\n",
              "      <td>0</td>\n",
              "      <td>0.246061</td>\n",
              "      <td>1.190849</td>\n",
              "      <td>0.835580</td>\n",
              "      <td>03:28</td>\n",
              "    </tr>\n",
              "    <tr>\n",
              "      <td>1</td>\n",
              "      <td>0.261414</td>\n",
              "      <td>1.121706</td>\n",
              "      <td>0.828841</td>\n",
              "      <td>03:10</td>\n",
              "    </tr>\n",
              "    <tr>\n",
              "      <td>2</td>\n",
              "      <td>0.227188</td>\n",
              "      <td>1.122894</td>\n",
              "      <td>0.836927</td>\n",
              "      <td>03:16</td>\n",
              "    </tr>\n",
              "    <tr>\n",
              "      <td>3</td>\n",
              "      <td>0.204798</td>\n",
              "      <td>1.179027</td>\n",
              "      <td>0.835580</td>\n",
              "      <td>03:18</td>\n",
              "    </tr>\n",
              "  </tbody>\n",
              "</table>"
            ],
            "text/plain": [
              "<IPython.core.display.HTML object>"
            ]
          },
          "metadata": {
            "tags": []
          }
        }
      ]
    },
    {
      "cell_type": "code",
      "metadata": {
        "id": "qtTypA1sPgLU",
        "outputId": "4f1afcc4-2480-48e2-e9d6-1a5993283202",
        "colab": {
          "base_uri": "https://localhost:8080/",
          "height": 111
        }
      },
      "source": [
        "learn.fit_one_cycle(2, slice(2e-3/100, 2e-3))"
      ],
      "execution_count": 41,
      "outputs": [
        {
          "output_type": "display_data",
          "data": {
            "text/html": [
              "<table border=\"1\" class=\"dataframe\">\n",
              "  <thead>\n",
              "    <tr style=\"text-align: left;\">\n",
              "      <th>epoch</th>\n",
              "      <th>train_loss</th>\n",
              "      <th>valid_loss</th>\n",
              "      <th>accuracy</th>\n",
              "      <th>time</th>\n",
              "    </tr>\n",
              "  </thead>\n",
              "  <tbody>\n",
              "    <tr>\n",
              "      <td>0</td>\n",
              "      <td>0.203694</td>\n",
              "      <td>1.226120</td>\n",
              "      <td>0.838275</td>\n",
              "      <td>03:25</td>\n",
              "    </tr>\n",
              "    <tr>\n",
              "      <td>1</td>\n",
              "      <td>0.202986</td>\n",
              "      <td>1.191016</td>\n",
              "      <td>0.838275</td>\n",
              "      <td>03:16</td>\n",
              "    </tr>\n",
              "  </tbody>\n",
              "</table>"
            ],
            "text/plain": [
              "<IPython.core.display.HTML object>"
            ]
          },
          "metadata": {
            "tags": []
          }
        }
      ]
    },
    {
      "cell_type": "code",
      "metadata": {
        "id": "b242kBsTUp9Y",
        "outputId": "251d4c6c-18ea-449b-df8a-b323611bb6a4",
        "colab": {
          "base_uri": "https://localhost:8080/",
          "height": 111
        }
      },
      "source": [
        "learn.fit_one_cycle(2, slice(2e-3/100, 2e-3))"
      ],
      "execution_count": 42,
      "outputs": [
        {
          "output_type": "display_data",
          "data": {
            "text/html": [
              "<table border=\"1\" class=\"dataframe\">\n",
              "  <thead>\n",
              "    <tr style=\"text-align: left;\">\n",
              "      <th>epoch</th>\n",
              "      <th>train_loss</th>\n",
              "      <th>valid_loss</th>\n",
              "      <th>accuracy</th>\n",
              "      <th>time</th>\n",
              "    </tr>\n",
              "  </thead>\n",
              "  <tbody>\n",
              "    <tr>\n",
              "      <td>0</td>\n",
              "      <td>0.208586</td>\n",
              "      <td>1.103454</td>\n",
              "      <td>0.842318</td>\n",
              "      <td>03:30</td>\n",
              "    </tr>\n",
              "    <tr>\n",
              "      <td>1</td>\n",
              "      <td>0.217281</td>\n",
              "      <td>1.137459</td>\n",
              "      <td>0.842318</td>\n",
              "      <td>03:23</td>\n",
              "    </tr>\n",
              "  </tbody>\n",
              "</table>"
            ],
            "text/plain": [
              "<IPython.core.display.HTML object>"
            ]
          },
          "metadata": {
            "tags": []
          }
        }
      ]
    },
    {
      "cell_type": "code",
      "metadata": {
        "id": "Duwf1Ih5VeDZ",
        "outputId": "f5eb77fb-928d-4fc9-c89d-3bbe3807fb8d",
        "colab": {
          "base_uri": "https://localhost:8080/",
          "height": 80
        }
      },
      "source": [
        "learn.fit_one_cycle(1, slice(2e-3/100, 2e-3))"
      ],
      "execution_count": 43,
      "outputs": [
        {
          "output_type": "display_data",
          "data": {
            "text/html": [
              "<table border=\"1\" class=\"dataframe\">\n",
              "  <thead>\n",
              "    <tr style=\"text-align: left;\">\n",
              "      <th>epoch</th>\n",
              "      <th>train_loss</th>\n",
              "      <th>valid_loss</th>\n",
              "      <th>accuracy</th>\n",
              "      <th>time</th>\n",
              "    </tr>\n",
              "  </thead>\n",
              "  <tbody>\n",
              "    <tr>\n",
              "      <td>0</td>\n",
              "      <td>0.195126</td>\n",
              "      <td>1.112640</td>\n",
              "      <td>0.835580</td>\n",
              "      <td>03:17</td>\n",
              "    </tr>\n",
              "  </tbody>\n",
              "</table>"
            ],
            "text/plain": [
              "<IPython.core.display.HTML object>"
            ]
          },
          "metadata": {
            "tags": []
          }
        }
      ]
    },
    {
      "cell_type": "code",
      "metadata": {
        "id": "c65d-osfDUXm"
      },
      "source": [
        "# save the best model\n",
        "\n",
        "learn.save_encoder('cadec_ask_mixed_fold9')"
      ],
      "execution_count": 44,
      "outputs": []
    },
    {
      "cell_type": "markdown",
      "metadata": {
        "id": "rCwZU0E2RgM6"
      },
      "source": [
        "# Part three: Predict on the test dataset"
      ]
    },
    {
      "cell_type": "code",
      "metadata": {
        "id": "gDm72c-dOu7d",
        "outputId": "323b7942-29d1-49aa-b9c6-82366232d573",
        "colab": {
          "base_uri": "https://localhost:8080/",
          "height": 17
        }
      },
      "source": [
        "# use the test data for prediction\n",
        "\n",
        "preds, y = learn.get_preds(DatasetType.Test)"
      ],
      "execution_count": 45,
      "outputs": [
        {
          "output_type": "display_data",
          "data": {
            "text/html": [
              ""
            ],
            "text/plain": [
              "<IPython.core.display.HTML object>"
            ]
          },
          "metadata": {
            "tags": []
          }
        }
      ]
    },
    {
      "cell_type": "code",
      "metadata": {
        "id": "6tFSQcsWPvxn",
        "outputId": "b818b4f8-4cdc-44a2-9540-f0cb9000c56b",
        "colab": {
          "base_uri": "https://localhost:8080/",
          "height": 105
        }
      },
      "source": [
        "predictions, *_ = learn.get_preds(DatasetType.Test)\n",
        "labels = np.argmax(predictions, 1)\n",
        "predict_list = labels.tolist()\n",
        "standard_list = test[0].tolist()\n",
        "\n",
        "print(len(predict_list))\n",
        "print(len(standard_list))\n",
        "\n",
        "print(predict_list)\n",
        "print(standard_list)"
      ],
      "execution_count": 46,
      "outputs": [
        {
          "output_type": "display_data",
          "data": {
            "text/html": [
              ""
            ],
            "text/plain": [
              "<IPython.core.display.HTML object>"
            ]
          },
          "metadata": {
            "tags": []
          }
        },
        {
          "output_type": "stream",
          "text": [
            "866\n",
            "866\n",
            "[172, 4, 444, 257, 8, 8, 8, 8, 8, 315, 16, 16, 20, 20, 21, 879, 413, 407, 27, 750, 31, 31, 31, 704, 289, 37, 37, 37, 491, 491, 289, 289, 37, 639, 38, 41, 1026, 49, 49, 49, 49, 323, 501, 501, 383, 983, 4, 63, 426, 416, 71, 73, 76, 76, 726, 79, 79, 79, 79, 79, 79, 79, 79, 79, 79, 79, 79, 79, 79, 79, 79, 79, 79, 79, 79, 79, 79, 79, 79, 79, 79, 79, 79, 265, 79, 108, 108, 108, 108, 46, 111, 289, 80, 520, 491, 82, 85, 88, 620, 89, 89, 347, 91, 91, 92, 94, 94, 94, 94, 94, 94, 94, 94, 79, 598, 96, 380, 98, 98, 100, 100, 100, 100, 590, 713, 108, 108, 108, 108, 111, 111, 111, 111, 117, 117, 117, 117, 125, 125, 125, 125, 125, 125, 125, 125, 125, 125, 125, 125, 125, 125, 773, 129, 419, 1026, 225, 268, 89, 137, 768, 144, 142, 148, 151, 151, 158, 87, 87, 321, 166, 166, 166, 166, 166, 166, 774, 172, 172, 108, 700, 108, 172, 172, 172, 173, 214, 214, 178, 904, 127, 182, 182, 182, 182, 183, 183, 183, 183, 183, 183, 184, 187, 187, 187, 188, 190, 190, 190, 190, 190, 190, 653, 197, 197, 202, 206, 210, 210, 210, 210, 390, 214, 99, 214, 214, 214, 214, 214, 214, 214, 214, 214, 425, 455, 693, 996, 218, 226, 226, 228, 228, 228, 228, 228, 228, 289, 656, 228, 228, 228, 228, 228, 228, 228, 228, 289, 228, 231, 232, 234, 234, 235, 235, 557, 328, 236, 236, 434, 1000, 243, 628, 243, 243, 243, 243, 245, 245, 638, 245, 245, 245, 245, 245, 245, 246, 246, 404, 254, 254, 444, 260, 260, 289, 265, 265, 265, 265, 265, 265, 265, 289, 265, 702, 265, 265, 265, 265, 265, 265, 265, 265, 265, 265, 265, 265, 703, 265, 265, 265, 265, 517, 276, 277, 280, 280, 280, 281, 281, 283, 505, 289, 614, 289, 289, 289, 289, 289, 265, 289, 265, 289, 289, 289, 289, 289, 289, 289, 289, 289, 289, 289, 289, 289, 289, 291, 625, 220, 301, 301, 301, 301, 309, 309, 309, 309, 309, 309, 309, 321, 313, 236, 689, 318, 318, 318, 318, 318, 318, 318, 1002, 1002, 1002, 325, 644, 644, 644, 644, 644, 644, 644, 644, 644, 87, 932, 644, 618, 332, 334, 336, 521, 337, 337, 337, 343, 343, 344, 402, 351, 596, 363, 363, 364, 364, 364, 726, 240, 548, 387, 391, 391, 402, 402, 358, 408, 408, 415, 415, 418, 419, 419, 419, 419, 419, 419, 426, 427, 427, 427, 427, 628, 427, 49, 427, 427, 435, 683, 664, 437, 442, 443, 444, 620, 446, 447, 746, 455, 455, 455, 455, 455, 455, 455, 455, 455, 460, 460, 464, 462, 223, 796, 468, 470, 475, 475, 475, 475, 591, 476, 794, 488, 487, 489, 595, 491, 491, 664, 491, 491, 491, 491, 491, 492, 746, 482, 499, 237, 516, 516, 517, 383, 517, 517, 517, 517, 521, 30, 289, 529, 530, 531, 531, 531, 668, 747, 536, 864, 405, 405, 545, 545, 545, 545, 317, 548, 548, 88, 425, 559, 491, 565, 236, 521, 579, 579, 579, 268, 408, 590, 590, 591, 592, 594, 427, 597, 172, 610, 614, 614, 614, 614, 614, 614, 614, 614, 617, 620, 49, 623, 528, 623, 623, 628, 218, 635, 643, 644, 721, 646, 646, 646, 821, 419, 652, 652, 652, 652, 656, 658, 491, 662, 491, 662, 666, 670, 350, 678, 437, 686, 686, 577, 690, 994, 364, 700, 111, 704, 678, 708, 713, 716, 717, 728, 273, 550, 730, 375, 864, 741, 746, 746, 746, 746, 749, 750, 589, 315, 770, 773, 773, 100, 775, 775, 775, 852, 823, 795, 798, 753, 804, 805, 299, 806, 806, 808, 808, 809, 809, 809, 809, 809, 810, 810, 812, 825, 826, 826, 125, 830, 830, 830, 830, 830, 830, 830, 830, 43, 202, 839, 520, 840, 840, 840, 841, 853, 843, 846, 846, 847, 757, 851, 852, 852, 853, 853, 853, 853, 853, 853, 853, 853, 853, 853, 853, 853, 707, 855, 704, 289, 872, 836, 754, 888, 888, 892, 115, 896, 896, 896, 896, 896, 896, 896, 896, 214, 891, 912, 919, 919, 919, 919, 919, 933, 936, 937, 937, 134, 937, 943, 948, 948, 948, 949, 949, 949, 949, 949, 949, 949, 949, 949, 949, 949, 949, 949, 949, 949, 949, 949, 949, 949, 949, 949, 949, 949, 949, 949, 949, 949, 949, 949, 949, 949, 949, 949, 949, 949, 949, 949, 949, 949, 949, 949, 949, 949, 949, 949, 949, 949, 949, 949, 949, 949, 949, 949, 949, 949, 949, 949, 949, 949, 949, 949, 949, 949, 949, 949, 949, 949, 949, 949, 949, 949, 949, 949, 949, 949, 949, 949, 949, 949, 949, 949, 949, 949, 949, 949, 949, 949, 949, 949, 949, 949, 949, 949, 949, 949, 949, 949, 949, 949, 949, 949, 949, 949, 949, 949, 949, 949, 949, 949, 949, 949, 950, 950, 950, 950, 939, 950, 952, 953, 1018, 960, 961, 983, 964, 965, 966, 970, 975, 976, 628, 187, 992, 995, 1001, 1026, 1015, 1015, 1015, 1017, 1024, 1026, 1026, 1028, 1032, 1035]\n",
            "[2, 4, 5, 7, 8, 8, 8, 8, 8, 11, 16, 16, 20, 20, 21, 24, 27, 27, 27, 29, 31, 31, 31, 37, 37, 37, 37, 37, 37, 37, 37, 37, 37, 37, 38, 41, 49, 49, 49, 49, 49, 50, 53, 53, 55, 60, 61, 63, 65, 66, 71, 73, 76, 76, 78, 79, 79, 79, 79, 79, 79, 79, 79, 79, 79, 79, 79, 79, 79, 79, 79, 79, 79, 79, 79, 79, 79, 79, 79, 79, 79, 79, 79, 79, 79, 79, 79, 79, 79, 79, 79, 79, 80, 80, 82, 82, 85, 88, 88, 89, 89, 91, 91, 91, 92, 94, 94, 94, 94, 94, 94, 94, 94, 94, 96, 96, 97, 98, 98, 100, 100, 100, 100, 100, 107, 108, 108, 108, 108, 111, 111, 111, 111, 117, 117, 117, 117, 125, 125, 125, 125, 125, 125, 125, 125, 125, 125, 125, 125, 125, 125, 127, 129, 129, 133, 135, 137, 137, 137, 139, 140, 142, 148, 151, 151, 158, 160, 160, 163, 166, 166, 166, 166, 166, 166, 166, 172, 172, 172, 172, 172, 172, 172, 172, 173, 173, 175, 178, 181, 182, 182, 182, 182, 182, 183, 183, 183, 183, 183, 183, 184, 187, 187, 187, 188, 190, 190, 190, 190, 190, 190, 190, 197, 197, 202, 206, 210, 210, 210, 210, 212, 214, 214, 214, 214, 214, 214, 214, 214, 214, 214, 214, 215, 216, 216, 218, 218, 226, 226, 228, 228, 228, 228, 228, 228, 228, 228, 228, 228, 228, 228, 228, 228, 228, 228, 228, 228, 231, 232, 234, 234, 235, 235, 235, 235, 236, 236, 238, 238, 243, 243, 243, 243, 243, 243, 245, 245, 245, 245, 245, 245, 245, 245, 245, 246, 246, 253, 254, 254, 258, 260, 260, 260, 265, 265, 265, 265, 265, 265, 265, 265, 265, 265, 265, 265, 265, 265, 265, 265, 265, 265, 265, 265, 265, 265, 265, 265, 265, 265, 265, 272, 276, 277, 280, 280, 280, 281, 281, 283, 288, 289, 289, 289, 289, 289, 289, 289, 289, 289, 289, 289, 289, 289, 289, 289, 289, 289, 289, 289, 289, 289, 289, 289, 289, 291, 300, 300, 301, 301, 301, 301, 309, 309, 309, 309, 309, 309, 309, 311, 313, 314, 316, 318, 318, 318, 318, 318, 318, 318, 325, 325, 325, 325, 325, 325, 325, 325, 325, 325, 325, 325, 325, 325, 325, 325, 326, 332, 334, 336, 336, 337, 337, 337, 343, 343, 344, 344, 351, 359, 363, 363, 364, 364, 364, 367, 377, 384, 387, 391, 391, 402, 402, 402, 408, 408, 415, 415, 418, 419, 419, 419, 419, 419, 419, 426, 427, 427, 427, 427, 427, 427, 427, 427, 427, 435, 436, 437, 437, 438, 443, 444, 445, 446, 447, 455, 455, 455, 455, 455, 455, 455, 455, 455, 455, 460, 460, 461, 462, 463, 467, 468, 470, 475, 475, 475, 475, 475, 476, 479, 487, 487, 489, 490, 491, 491, 491, 491, 491, 491, 491, 491, 492, 493, 499, 499, 500, 516, 516, 517, 517, 517, 517, 517, 517, 521, 522, 524, 529, 530, 531, 531, 531, 532, 533, 536, 539, 541, 541, 545, 545, 545, 545, 546, 548, 548, 554, 557, 559, 562, 565, 574, 577, 579, 579, 579, 581, 589, 590, 590, 591, 592, 594, 597, 597, 604, 610, 614, 614, 614, 614, 614, 614, 614, 614, 617, 620, 621, 623, 623, 623, 623, 629, 634, 635, 643, 644, 645, 646, 646, 646, 648, 651, 652, 652, 652, 652, 656, 658, 662, 662, 662, 662, 666, 670, 673, 677, 677, 686, 686, 688, 692, 693, 697, 700, 700, 704, 706, 708, 713, 715, 717, 728, 728, 728, 730, 733, 741, 741, 746, 746, 746, 746, 749, 750, 759, 762, 770, 772, 773, 775, 775, 775, 775, 785, 791, 795, 798, 803, 804, 805, 805, 806, 806, 808, 808, 809, 809, 809, 809, 809, 810, 810, 812, 825, 826, 826, 830, 830, 830, 830, 830, 830, 830, 830, 830, 834, 834, 839, 840, 840, 840, 840, 841, 842, 843, 844, 846, 847, 848, 851, 852, 852, 853, 853, 853, 853, 853, 853, 853, 853, 853, 853, 853, 853, 853, 855, 861, 864, 872, 881, 885, 888, 888, 892, 896, 896, 896, 896, 896, 896, 896, 897, 897, 897, 899, 912, 919, 919, 919, 919, 919, 933, 936, 937, 937, 937, 937, 943, 948, 948, 948, 949, 949, 949, 949, 949, 949, 949, 949, 949, 949, 949, 949, 949, 949, 949, 949, 949, 949, 949, 949, 949, 949, 949, 949, 949, 949, 949, 949, 949, 949, 949, 949, 949, 949, 949, 949, 949, 949, 949, 949, 949, 949, 949, 949, 949, 949, 949, 949, 949, 949, 949, 949, 949, 949, 949, 949, 949, 949, 949, 949, 949, 949, 949, 949, 949, 949, 949, 949, 949, 949, 949, 949, 949, 949, 949, 949, 949, 949, 949, 949, 949, 949, 949, 949, 949, 949, 949, 949, 949, 949, 949, 949, 949, 949, 949, 949, 949, 949, 949, 949, 949, 949, 949, 949, 949, 949, 949, 949, 949, 949, 949, 950, 950, 950, 950, 950, 950, 952, 953, 955, 960, 961, 964, 964, 965, 966, 970, 975, 976, 985, 988, 992, 995, 1001, 1009, 1015, 1015, 1015, 1017, 1024, 1026, 1026, 1028, 1032, 1035]\n"
          ],
          "name": "stdout"
        }
      ]
    },
    {
      "cell_type": "code",
      "metadata": {
        "id": "XIC4zufnMxtq",
        "outputId": "c9b4580d-5fa1-4b74-b811-b4f1ed03c3f7",
        "colab": {
          "base_uri": "https://localhost:8080/"
        }
      },
      "source": [
        "correct_num = 0\n",
        "\n",
        "for i in range(0, len(standard_list)):\n",
        "  if predict_list[i] == standard_list[i]:\n",
        "    correct_num = correct_num+1\n",
        "  else:\n",
        "    pass\n",
        "print(correct_num)\n",
        "\n",
        "predict_accuracy = correct_num/len(predict_list)\n",
        "print(predict_accuracy)"
      ],
      "execution_count": 47,
      "outputs": [
        {
          "output_type": "stream",
          "text": [
            "659\n",
            "0.7609699769053118\n"
          ],
          "name": "stdout"
        }
      ]
    },
    {
      "cell_type": "code",
      "metadata": {
        "id": "zlKMHp1CIaRJ"
      },
      "source": [
        ""
      ],
      "execution_count": 47,
      "outputs": []
    }
  ]
}