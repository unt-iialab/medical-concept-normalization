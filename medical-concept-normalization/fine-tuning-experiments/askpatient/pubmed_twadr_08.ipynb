{
  "nbformat": 4,
  "nbformat_minor": 0,
  "metadata": {
    "accelerator": "TPU",
    "colab": {
      "name": "pubmed_twadr_08.ipynb",
      "provenance": [],
      "collapsed_sections": [],
      "toc_visible": true,
      "include_colab_link": true
    },
    "kernelspec": {
      "display_name": "Python 3",
      "name": "python3"
    }
  },
  "cells": [
    {
      "cell_type": "markdown",
      "metadata": {
        "id": "view-in-github",
        "colab_type": "text"
      },
      "source": [
        "<a href=\"https://colab.research.google.com/github/unt-iialab/medical-concept-normalization/blob/master/medical-concept-normalization/fine-tuning-experiments/askpatient/pubmed_twadr_08.ipynb\" target=\"_parent\"><img src=\"https://colab.research.google.com/assets/colab-badge.svg\" alt=\"Open In Colab\"/></a>"
      ]
    },
    {
      "cell_type": "code",
      "metadata": {
        "id": "adSi6i2-dWxy"
      },
      "source": [
        "import os"
      ],
      "execution_count": 1,
      "outputs": []
    },
    {
      "cell_type": "code",
      "metadata": {
        "id": "E7xYCRGPjd9B"
      },
      "source": [
        "base_dir = 'medical-concept-normalization'"
      ],
      "execution_count": 2,
      "outputs": []
    },
    {
      "cell_type": "code",
      "metadata": {
        "id": "yvIW3aUDjYNS"
      },
      "source": [
        "os.mkdir(base_dir)"
      ],
      "execution_count": 3,
      "outputs": []
    },
    {
      "cell_type": "code",
      "metadata": {
        "id": "es-FFLlfk6SG"
      },
      "source": [
        "os.mkdir('medical-concept-normalization/data_collection')"
      ],
      "execution_count": 4,
      "outputs": []
    },
    {
      "cell_type": "markdown",
      "metadata": {
        "id": "0R-Guw_VoJXm"
      },
      "source": [
        "**Install fastai and clone the fastai for text classification**\n",
        "\n"
      ]
    },
    {
      "cell_type": "code",
      "metadata": {
        "id": "QVZa3Z0PmHFH",
        "outputId": "e035c2f6-094b-413b-ae40-37e3434877b3",
        "colab": {
          "base_uri": "https://localhost:8080/"
        }
      },
      "source": [
        "!curl https://course-v3.fast.ai/setup/colab | bash"
      ],
      "execution_count": 5,
      "outputs": [
        {
          "output_type": "stream",
          "text": [
            "  % Total    % Received % Xferd  Average Speed   Time    Time     Time  Current\n",
            "                                 Dload  Upload   Total   Spent    Left  Speed\n",
            "\r  0     0    0     0    0     0      0      0 --:--:-- --:--:-- --:--:--     0curl: (6) Could not resolve host: course-v3.fast.ai\n"
          ],
          "name": "stdout"
        }
      ]
    },
    {
      "cell_type": "code",
      "metadata": {
        "id": "_FBFFEBrmJC0",
        "outputId": "99b84ddc-40b8-41cd-a3c4-933362db8264",
        "colab": {
          "base_uri": "https://localhost:8080/"
        }
      },
      "source": [
        "!git clone https://github.com/wshuyi/demo-nlp-classification-fastai.git"
      ],
      "execution_count": 6,
      "outputs": [
        {
          "output_type": "stream",
          "text": [
            "Cloning into 'demo-nlp-classification-fastai'...\n",
            "remote: Enumerating objects: 9, done.\u001b[K\n",
            "remote: Total 9 (delta 0), reused 0 (delta 0), pack-reused 9\u001b[K\n",
            "Unpacking objects: 100% (9/9), done.\n"
          ],
          "name": "stdout"
        }
      ]
    },
    {
      "cell_type": "code",
      "metadata": {
        "id": "66zfh_JqmWMU"
      },
      "source": [
        "from fastai import *\n",
        "from fastai.text import *"
      ],
      "execution_count": 7,
      "outputs": []
    },
    {
      "cell_type": "markdown",
      "metadata": {
        "id": "mNIw-yALdBU9"
      },
      "source": [
        "**Set the path of the data collections**"
      ]
    },
    {
      "cell_type": "code",
      "metadata": {
        "id": "pzH7VMh4mqCL"
      },
      "source": [
        "path = Path('medical-concept-normalization/data_collection')"
      ],
      "execution_count": 8,
      "outputs": []
    },
    {
      "cell_type": "code",
      "metadata": {
        "id": "b8fjI6yyn4aS"
      },
      "source": [
        "# training data set\n",
        "\n",
        "train_csv = path/'TwADR-L.fold-8.train.csv'\n",
        "train = pd.read_csv(train_csv, header=None)\n",
        "#train.head()\n",
        "#train.info()"
      ],
      "execution_count": 10,
      "outputs": []
    },
    {
      "cell_type": "code",
      "metadata": {
        "id": "Hmlr-bAorfHd",
        "outputId": "a126e1b6-f1db-4472-e745-d1e2a7ffe847",
        "colab": {
          "base_uri": "https://localhost:8080/",
          "height": 204
        }
      },
      "source": [
        "# validating data set\n",
        "\n",
        "valid = pd.read_csv(path/\"TwADR-L.fold-8.validation.csv\",header=None)\n",
        "valid.head()"
      ],
      "execution_count": 11,
      "outputs": [
        {
          "output_type": "execute_result",
          "data": {
            "text/html": [
              "<div>\n",
              "<style scoped>\n",
              "    .dataframe tbody tr th:only-of-type {\n",
              "        vertical-align: middle;\n",
              "    }\n",
              "\n",
              "    .dataframe tbody tr th {\n",
              "        vertical-align: top;\n",
              "    }\n",
              "\n",
              "    .dataframe thead th {\n",
              "        text-align: right;\n",
              "    }\n",
              "</style>\n",
              "<table border=\"1\" class=\"dataframe\">\n",
              "  <thead>\n",
              "    <tr style=\"text-align: right;\">\n",
              "      <th></th>\n",
              "      <th>0</th>\n",
              "      <th>1</th>\n",
              "    </tr>\n",
              "  </thead>\n",
              "  <tbody>\n",
              "    <tr>\n",
              "      <th>0</th>\n",
              "      <td>13</td>\n",
              "      <td>up all night</td>\n",
              "    </tr>\n",
              "    <tr>\n",
              "      <th>1</th>\n",
              "      <td>16</td>\n",
              "      <td>couldn't taste anything</td>\n",
              "    </tr>\n",
              "    <tr>\n",
              "      <th>2</th>\n",
              "      <td>74</td>\n",
              "      <td>useless without</td>\n",
              "    </tr>\n",
              "    <tr>\n",
              "      <th>3</th>\n",
              "      <td>119</td>\n",
              "      <td>anxiety</td>\n",
              "    </tr>\n",
              "    <tr>\n",
              "      <th>4</th>\n",
              "      <td>154</td>\n",
              "      <td>urticaria</td>\n",
              "    </tr>\n",
              "  </tbody>\n",
              "</table>\n",
              "</div>"
            ],
            "text/plain": [
              "     0                        1\n",
              "0   13             up all night\n",
              "1   16  couldn't taste anything\n",
              "2   74          useless without\n",
              "3  119                  anxiety\n",
              "4  154                urticaria"
            ]
          },
          "metadata": {
            "tags": []
          },
          "execution_count": 11
        }
      ]
    },
    {
      "cell_type": "code",
      "metadata": {
        "id": "cOza9dfSsBud",
        "outputId": "4ee2fbaa-dbe0-4f7b-9c39-9dbef983dc81",
        "colab": {
          "base_uri": "https://localhost:8080/",
          "height": 204
        }
      },
      "source": [
        "# testing data set\n",
        "\n",
        "test = pd.read_csv(path/\"TwADR-L.fold-8.test.csv\",header=None)\n",
        "test.head()"
      ],
      "execution_count": 12,
      "outputs": [
        {
          "output_type": "execute_result",
          "data": {
            "text/html": [
              "<div>\n",
              "<style scoped>\n",
              "    .dataframe tbody tr th:only-of-type {\n",
              "        vertical-align: middle;\n",
              "    }\n",
              "\n",
              "    .dataframe tbody tr th {\n",
              "        vertical-align: top;\n",
              "    }\n",
              "\n",
              "    .dataframe thead th {\n",
              "        text-align: right;\n",
              "    }\n",
              "</style>\n",
              "<table border=\"1\" class=\"dataframe\">\n",
              "  <thead>\n",
              "    <tr style=\"text-align: right;\">\n",
              "      <th></th>\n",
              "      <th>0</th>\n",
              "      <th>1</th>\n",
              "    </tr>\n",
              "  </thead>\n",
              "  <tbody>\n",
              "    <tr>\n",
              "      <th>0</th>\n",
              "      <td>24</td>\n",
              "      <td>heart race 100mph</td>\n",
              "    </tr>\n",
              "    <tr>\n",
              "      <th>1</th>\n",
              "      <td>94</td>\n",
              "      <td>anxiety</td>\n",
              "    </tr>\n",
              "    <tr>\n",
              "      <th>2</th>\n",
              "      <td>154</td>\n",
              "      <td>#hivewatch</td>\n",
              "    </tr>\n",
              "    <tr>\n",
              "      <th>3</th>\n",
              "      <td>195</td>\n",
              "      <td>ballooning</td>\n",
              "    </tr>\n",
              "    <tr>\n",
              "      <th>4</th>\n",
              "      <td>195</td>\n",
              "      <td>bloated</td>\n",
              "    </tr>\n",
              "  </tbody>\n",
              "</table>\n",
              "</div>"
            ],
            "text/plain": [
              "     0                  1\n",
              "0   24  heart race 100mph\n",
              "1   94            anxiety\n",
              "2  154         #hivewatch\n",
              "3  195         ballooning\n",
              "4  195            bloated"
            ]
          },
          "metadata": {
            "tags": []
          },
          "execution_count": 12
        }
      ]
    },
    {
      "cell_type": "code",
      "metadata": {
        "id": "Vo-YNvVYoaH6",
        "outputId": "5da110c9-1b6d-4b6c-f881-e4a00f798390",
        "colab": {
          "base_uri": "https://localhost:8080/",
          "height": 17
        }
      },
      "source": [
        "# Creating DataBunch for language modelling\n",
        "\n",
        "data_lm = TextLMDataBunch.from_csv(path, 'TwADR_pubmed.csv')"
      ],
      "execution_count": 13,
      "outputs": [
        {
          "output_type": "display_data",
          "data": {
            "text/html": [
              ""
            ],
            "text/plain": [
              "<IPython.core.display.HTML object>"
            ]
          },
          "metadata": {
            "tags": []
          }
        },
        {
          "output_type": "display_data",
          "data": {
            "text/html": [
              ""
            ],
            "text/plain": [
              "<IPython.core.display.HTML object>"
            ]
          },
          "metadata": {
            "tags": []
          }
        }
      ]
    },
    {
      "cell_type": "code",
      "metadata": {
        "id": "qcV-9kMnNLBf"
      },
      "source": [
        ""
      ],
      "execution_count": 13,
      "outputs": []
    },
    {
      "cell_type": "code",
      "metadata": {
        "id": "1ScY9afDsnvE"
      },
      "source": [
        "# Creating DataBunch for classification\n",
        "\n",
        "# data_clas = TextClasDataBunch.from_df(path, train, valid, test, vocab=data_lm.train_ds.vocab, bs=128)"
      ],
      "execution_count": 14,
      "outputs": []
    },
    {
      "cell_type": "code",
      "metadata": {
        "id": "gzrSdQcvey9p",
        "outputId": "c8744a3b-f6a2-41a4-f8cb-2ce8f0494914",
        "colab": {
          "base_uri": "https://localhost:8080/",
          "height": 17
        }
      },
      "source": [
        "data_clas = TextClasDataBunch.from_df(path, train, valid, vocab=data_lm.train_ds.vocab, bs=128)"
      ],
      "execution_count": 15,
      "outputs": [
        {
          "output_type": "display_data",
          "data": {
            "text/html": [
              ""
            ],
            "text/plain": [
              "<IPython.core.display.HTML object>"
            ]
          },
          "metadata": {
            "tags": []
          }
        },
        {
          "output_type": "display_data",
          "data": {
            "text/html": [
              ""
            ],
            "text/plain": [
              "<IPython.core.display.HTML object>"
            ]
          },
          "metadata": {
            "tags": []
          }
        }
      ]
    },
    {
      "cell_type": "code",
      "metadata": {
        "id": "MD27Tf0Ke3ou",
        "outputId": "1abf4616-9296-4b31-ace5-4dfec6146e45",
        "colab": {
          "base_uri": "https://localhost:8080/",
          "height": 17
        }
      },
      "source": [
        "data_clas.add_test(test,label=0)\n"
      ],
      "execution_count": 16,
      "outputs": [
        {
          "output_type": "display_data",
          "data": {
            "text/html": [
              ""
            ],
            "text/plain": [
              "<IPython.core.display.HTML object>"
            ]
          },
          "metadata": {
            "tags": []
          }
        }
      ]
    },
    {
      "cell_type": "code",
      "metadata": {
        "id": "-dpjnk_rstwk"
      },
      "source": [
        "data_lm.save()\n",
        "data_clas.save()"
      ],
      "execution_count": 17,
      "outputs": []
    },
    {
      "cell_type": "code",
      "metadata": {
        "id": "4OkiJa36sw5s",
        "outputId": "e9d0a306-7f4b-4fed-a6a4-2ff404f925a7",
        "colab": {
          "base_uri": "https://localhost:8080/"
        }
      },
      "source": [
        "data_lm.train_ds.vocab.itos"
      ],
      "execution_count": 18,
      "outputs": [
        {
          "output_type": "execute_result",
          "data": {
            "text/plain": [
              "['xxunk',\n",
              " 'xxpad',\n",
              " 'xxbos',\n",
              " 'xxeos',\n",
              " 'xxfld',\n",
              " 'xxmaj',\n",
              " 'xxup',\n",
              " 'xxrep',\n",
              " 'xxwrep',\n",
              " 'the',\n",
              " 'of',\n",
              " 'and',\n",
              " 'in',\n",
              " 'to',\n",
              " 'a',\n",
              " 'diclofenac',\n",
              " 'was',\n",
              " 'with',\n",
              " 'were',\n",
              " 'for',\n",
              " 'pain',\n",
              " 'sodium',\n",
              " 'drug',\n",
              " 'by',\n",
              " 'on',\n",
              " 'patients',\n",
              " 'as',\n",
              " 'that',\n",
              " 'is',\n",
              " 'at',\n",
              " 'or',\n",
              " 'mg',\n",
              " 'group',\n",
              " 'from',\n",
              " 'increased',\n",
              " 'study',\n",
              " 'mood',\n",
              " 'this',\n",
              " 'treatment',\n",
              " 'after',\n",
              " 'p',\n",
              " 'release',\n",
              " 'an',\n",
              " 'be',\n",
              " ',',\n",
              " 'disorder',\n",
              " 'me',\n",
              " 'effect',\n",
              " 'i',\n",
              " 'not',\n",
              " 'withdrawal',\n",
              " 'abnormal',\n",
              " 'than',\n",
              " 'decreased',\n",
              " 'compared',\n",
              " 'weight',\n",
              " 'anxiety',\n",
              " 'using',\n",
              " 'groups',\n",
              " 'my',\n",
              " 'symptoms',\n",
              " 'are',\n",
              " 'no',\n",
              " 'effects',\n",
              " 'two',\n",
              " 'inflammatory',\n",
              " 'both',\n",
              " 'significantly',\n",
              " 'drugs',\n",
              " 'day',\n",
              " 'significant',\n",
              " 'acute',\n",
              " 'anti',\n",
              " 'potassium',\n",
              " 'dose',\n",
              " 'between',\n",
              " 'time',\n",
              " 'h',\n",
              " 'voltaren',\n",
              " 'skin',\n",
              " 'blood',\n",
              " 'disorders',\n",
              " 'all',\n",
              " 'used',\n",
              " 'syndrome',\n",
              " 'these',\n",
              " 'placebo',\n",
              " 'which',\n",
              " '(',\n",
              " ')',\n",
              " 'behavior',\n",
              " '-',\n",
              " 'results',\n",
              " 'had',\n",
              " 'it',\n",
              " 'days',\n",
              " 'concentration',\n",
              " 'efficacy',\n",
              " 'diseases',\n",
              " 'ds',\n",
              " 'sleeplessness',\n",
              " 'oral',\n",
              " 'have',\n",
              " 'we',\n",
              " 'like',\n",
              " 'different',\n",
              " 'also',\n",
              " 'feeling',\n",
              " 'showed',\n",
              " 'more',\n",
              " 'up',\n",
              " 'one',\n",
              " 'ml',\n",
              " 'administration',\n",
              " 'treated',\n",
              " 'finding',\n",
              " 'but',\n",
              " 'topical',\n",
              " 'disturbance',\n",
              " 'insomnia',\n",
              " 'c',\n",
              " 'somnolence',\n",
              " 'has',\n",
              " 'sleep',\n",
              " 'rats',\n",
              " 'high',\n",
              " 'acid',\n",
              " 'non',\n",
              " 'control',\n",
              " 'plasma',\n",
              " 'studies',\n",
              " 'energy',\n",
              " 'induced',\n",
              " 'during',\n",
              " 'been',\n",
              " 'respectively',\n",
              " 'got',\n",
              " 'clinical',\n",
              " 'mean',\n",
              " 'hours',\n",
              " 'formulations',\n",
              " 'swelling',\n",
              " 'formulation',\n",
              " 'there',\n",
              " 'state',\n",
              " 'nsaids',\n",
              " 'mental',\n",
              " 'rate',\n",
              " 'their',\n",
              " 'into',\n",
              " 'other',\n",
              " 'found',\n",
              " 's',\n",
              " 'nausea',\n",
              " 'effective',\n",
              " 'low',\n",
              " 'tablets',\n",
              " 'depression',\n",
              " 'disease',\n",
              " 'gain',\n",
              " 'method',\n",
              " 'muscle',\n",
              " 'appetite',\n",
              " 'body',\n",
              " 'observed',\n",
              " 'ph',\n",
              " 'received',\n",
              " 'kg',\n",
              " 'three',\n",
              " 'gel',\n",
              " 'solution',\n",
              " 'its',\n",
              " 'may',\n",
              " 'when',\n",
              " 'n',\n",
              " 'heart',\n",
              " 'use',\n",
              " 'g',\n",
              " 'controlled',\n",
              " 'attention',\n",
              " 'reaction',\n",
              " 'vitro',\n",
              " 'd',\n",
              " 'levels',\n",
              " 'renal',\n",
              " 'excitability',\n",
              " 'conditions',\n",
              " 'total',\n",
              " 'analysis',\n",
              " 'awake',\n",
              " 'lower',\n",
              " 'well',\n",
              " 'over',\n",
              " 'activity',\n",
              " 'analgesic',\n",
              " 'dizziness',\n",
              " 'cell',\n",
              " 'first',\n",
              " 'm',\n",
              " 'irritable',\n",
              " 'atorvastatin',\n",
              " 'concentrations',\n",
              " 'adverse',\n",
              " 'out',\n",
              " 'eye',\n",
              " 'hyperactive',\n",
              " 'test',\n",
              " 'each',\n",
              " 'panic',\n",
              " 'daily',\n",
              " 'randomized',\n",
              " 'period',\n",
              " 'data',\n",
              " 'liver',\n",
              " 'feel',\n",
              " 'feelings',\n",
              " 'ceiling',\n",
              " 'system',\n",
              " 'serum',\n",
              " 'level',\n",
              " 'drowsiness',\n",
              " 'single',\n",
              " 'application',\n",
              " 'evaluated',\n",
              " 'patient',\n",
              " 'following',\n",
              " 'can',\n",
              " 'however',\n",
              " 'gastrointestinal',\n",
              " 'postoperative',\n",
              " 'function',\n",
              " 'less',\n",
              " 'headache',\n",
              " 'rash',\n",
              " 'surgery',\n",
              " 'model',\n",
              " 'l',\n",
              " 'joint',\n",
              " 'loss',\n",
              " 'site',\n",
              " 'inflammation',\n",
              " 'therapy',\n",
              " 'similar',\n",
              " 'double',\n",
              " 'depressed',\n",
              " 'water',\n",
              " 'reduced',\n",
              " 'weeks',\n",
              " 'arthritis',\n",
              " 't',\n",
              " 'infection',\n",
              " 'obtained',\n",
              " 'allergic',\n",
              " 'only',\n",
              " 'higher',\n",
              " 'difference',\n",
              " 'b',\n",
              " 'nsaid',\n",
              " 'injection',\n",
              " 'edema',\n",
              " 'based',\n",
              " 'did',\n",
              " 'present',\n",
              " 'migraine',\n",
              " 'response',\n",
              " 'changes',\n",
              " 'prepared',\n",
              " 'swings',\n",
              " 'initial',\n",
              " 'dissolution',\n",
              " 'cells',\n",
              " 'tablet',\n",
              " 'injury',\n",
              " 'combination',\n",
              " '#',\n",
              " 'bipolar',\n",
              " 'most',\n",
              " 'week',\n",
              " 'those',\n",
              " 'bone',\n",
              " 'pressure',\n",
              " 'under',\n",
              " 'associated',\n",
              " 'change',\n",
              " 'min',\n",
              " 'wakefulness',\n",
              " 'before',\n",
              " \"n't\",\n",
              " 'increase',\n",
              " 'reported',\n",
              " 'values',\n",
              " 'vs',\n",
              " 'trial',\n",
              " 'studied',\n",
              " 'gastric',\n",
              " 'nonsteroidal',\n",
              " 'corneal',\n",
              " 'visual',\n",
              " 'ca',\n",
              " 'administered',\n",
              " 'relief',\n",
              " 'blind',\n",
              " 'cholesterol',\n",
              " 'post',\n",
              " 'could',\n",
              " 'performed',\n",
              " 'events',\n",
              " 'containing',\n",
              " 'attacks',\n",
              " 'chronic',\n",
              " 'subjects',\n",
              " 'investigated',\n",
              " 'doses',\n",
              " 'tissue',\n",
              " 'given',\n",
              " 'differences',\n",
              " 'developed',\n",
              " 'breast',\n",
              " 'while',\n",
              " 'ratio',\n",
              " 'new',\n",
              " 'absorption',\n",
              " 'indomethacin',\n",
              " 'due',\n",
              " 'four',\n",
              " 'phase',\n",
              " 'abdominal',\n",
              " 'knee',\n",
              " 'fatigue',\n",
              " 'v',\n",
              " 'respiratory',\n",
              " 'auc',\n",
              " 'decrease',\n",
              " 'years',\n",
              " 'brain',\n",
              " 'who',\n",
              " 'dreams',\n",
              " 'parameters',\n",
              " 'times',\n",
              " 'either',\n",
              " 'x',\n",
              " 'measured',\n",
              " 'such',\n",
              " 'safety',\n",
              " 'order',\n",
              " 'properties',\n",
              " 'assessed',\n",
              " 'delivery',\n",
              " 'any',\n",
              " 'attack',\n",
              " 'side',\n",
              " 'stiffness',\n",
              " 'urine',\n",
              " 'w',\n",
              " 'action',\n",
              " 'reduction',\n",
              " 'within',\n",
              " 'steroidal',\n",
              " 'number',\n",
              " 'oa',\n",
              " 'determined',\n",
              " 'potential',\n",
              " 'mm',\n",
              " 'type',\n",
              " 'failure',\n",
              " 'hemorrhage',\n",
              " 'statistically',\n",
              " 'compare',\n",
              " 'liquid',\n",
              " 'therapeutic',\n",
              " 'included',\n",
              " 'vivo',\n",
              " 'evaluate',\n",
              " 'applied',\n",
              " 'development',\n",
              " 'human',\n",
              " 'kidney',\n",
              " 'tremor',\n",
              " 'active',\n",
              " 'e',\n",
              " 'osteoarthritis',\n",
              " 'rage',\n",
              " 'bioavailability',\n",
              " 'deficit',\n",
              " 'size',\n",
              " 'k',\n",
              " 'minutes',\n",
              " 'tolerability',\n",
              " 'sleepy',\n",
              " 'medication',\n",
              " 'dry',\n",
              " 'lipitor',\n",
              " 'cardiac',\n",
              " 'samples',\n",
              " 'taste',\n",
              " 'healthy',\n",
              " 'scale',\n",
              " 'range',\n",
              " 'ng',\n",
              " 'without',\n",
              " 'ulcer',\n",
              " 'local',\n",
              " 'eyes',\n",
              " 'good',\n",
              " 'carcinoma',\n",
              " 'form',\n",
              " 'through',\n",
              " 'sustained',\n",
              " 'ii',\n",
              " 'addition',\n",
              " 'process',\n",
              " 'cox',\n",
              " 'baseline',\n",
              " 'dependent',\n",
              " 'related',\n",
              " 'our',\n",
              " 'better',\n",
              " 'greater',\n",
              " 'male',\n",
              " 'discomfort',\n",
              " 'normal',\n",
              " 'middle',\n",
              " 'scores',\n",
              " 'so',\n",
              " 'same',\n",
              " 'primary',\n",
              " 'infections',\n",
              " 'psychotic',\n",
              " 'aim',\n",
              " 'about',\n",
              " 'alone',\n",
              " 'matrix',\n",
              " 'makes',\n",
              " 'secondary',\n",
              " 'night',\n",
              " 'aqueous',\n",
              " 'products',\n",
              " 'na',\n",
              " 'severe',\n",
              " 'numbness',\n",
              " 'indicated',\n",
              " 'revealed',\n",
              " 'tired',\n",
              " 'coated',\n",
              " 'wide',\n",
              " 'demonstrated',\n",
              " 'hour',\n",
              " 'polymer',\n",
              " 'temperature',\n",
              " 'randomly',\n",
              " 'difficulty',\n",
              " 'pulmonary',\n",
              " 'daytime',\n",
              " 'ocular',\n",
              " 'rheumatoid',\n",
              " 'treatments',\n",
              " 'vomiting',\n",
              " 'sensation',\n",
              " 'formation',\n",
              " 'suggest',\n",
              " 'early',\n",
              " 'inhibitor',\n",
              " 'dosage',\n",
              " 'stomach',\n",
              " 'trials',\n",
              " 'they',\n",
              " 'aggravated',\n",
              " 'agent',\n",
              " 'free',\n",
              " 'irritation',\n",
              " 'months',\n",
              " 'presence',\n",
              " 'risk',\n",
              " 'very',\n",
              " 'animals',\n",
              " 'various',\n",
              " 'volunteers',\n",
              " 'dermatitis',\n",
              " 'per',\n",
              " 'zombie',\n",
              " 'permeation',\n",
              " 'mechanism',\n",
              " 'still',\n",
              " 'mice',\n",
              " 'intensity',\n",
              " 'hypertension',\n",
              " 'further',\n",
              " 'asleep',\n",
              " 'whereas',\n",
              " 'inhibition',\n",
              " 'multiple',\n",
              " 'end',\n",
              " 'death',\n",
              " 'cerebral',\n",
              " 'area',\n",
              " 'ibuprofen',\n",
              " 'cancer',\n",
              " 'improvement',\n",
              " 'sweating',\n",
              " 'moderate',\n",
              " 'term',\n",
              " 'shown',\n",
              " 'pharmaceutical',\n",
              " 'onset',\n",
              " 'hepatic',\n",
              " 'f',\n",
              " 'case',\n",
              " 'damage',\n",
              " 'distress',\n",
              " 'elevated',\n",
              " 'followed',\n",
              " 'cases',\n",
              " 'standard',\n",
              " 'conducted',\n",
              " 'de',\n",
              " 'exposure',\n",
              " 'dependence',\n",
              " 'rat',\n",
              " 'facial',\n",
              " 'fluid',\n",
              " 'growth',\n",
              " 'although',\n",
              " 'divided',\n",
              " 'sleepiness',\n",
              " 'experimental',\n",
              " 'systemic',\n",
              " 'th',\n",
              " 'anemia',\n",
              " 'vehicle',\n",
              " 'available',\n",
              " 'being',\n",
              " 'complex',\n",
              " 'quality',\n",
              " 'female',\n",
              " 'relative',\n",
              " 'density',\n",
              " 'prolonged',\n",
              " 'evaluation',\n",
              " 'pre',\n",
              " 'peak',\n",
              " 'cd',\n",
              " 'hallucinations',\n",
              " 'six',\n",
              " 'cm',\n",
              " 'anger',\n",
              " 'profiles',\n",
              " 'alcohol',\n",
              " 'degrees',\n",
              " 'o',\n",
              " 'content',\n",
              " 'some',\n",
              " 'localised',\n",
              " 'disturbances',\n",
              " 'depressive',\n",
              " 'profile',\n",
              " 'improved',\n",
              " 'calcium',\n",
              " \"'m\",\n",
              " 'microspheres',\n",
              " 'dysfunction',\n",
              " 'vascular',\n",
              " 'cataract',\n",
              " 'age',\n",
              " 'protein',\n",
              " 'painful',\n",
              " 'including',\n",
              " 'enteric',\n",
              " 'lesions',\n",
              " 'glucose',\n",
              " 'resulted',\n",
              " 'efficiency',\n",
              " 'exhaustion',\n",
              " 'rapid',\n",
              " 'tested',\n",
              " 'vas',\n",
              " 'long',\n",
              " 'flow',\n",
              " 'down',\n",
              " 'versus',\n",
              " 'ci',\n",
              " 'agents',\n",
              " 'creatinine',\n",
              " 'foot',\n",
              " 'determine',\n",
              " 'cmax',\n",
              " 'review',\n",
              " 'nightmares',\n",
              " 'score',\n",
              " 'suicidal',\n",
              " 'amount',\n",
              " 'duration',\n",
              " 'production',\n",
              " 'should',\n",
              " 'combined',\n",
              " 'diabetic',\n",
              " 'solid',\n",
              " 'tolerated',\n",
              " 'common',\n",
              " 'need',\n",
              " 'product',\n",
              " 'tract',\n",
              " 'beads',\n",
              " 'assessment',\n",
              " 'depersonalization',\n",
              " 'tolerance',\n",
              " 'aspirin',\n",
              " 'vision',\n",
              " 'peripheral',\n",
              " 'rofecoxib',\n",
              " 'necrosis',\n",
              " 'mild',\n",
              " 'five',\n",
              " 'misoprostol',\n",
              " 'urinary',\n",
              " 'overall',\n",
              " 'evidence',\n",
              " 'pruritus',\n",
              " 'synthesis',\n",
              " 'thus',\n",
              " 'membrane',\n",
              " 'among',\n",
              " 'third',\n",
              " 'arrest',\n",
              " 'analgesia',\n",
              " 'erythema',\n",
              " 'then',\n",
              " 'commercial',\n",
              " 'oedema',\n",
              " 'old',\n",
              " 'achieved',\n",
              " 'localized',\n",
              " 'seizures',\n",
              " 'diabetes',\n",
              " 'because',\n",
              " 'performance',\n",
              " 'reference',\n",
              " 'interactions',\n",
              " 'chest',\n",
              " 'social',\n",
              " 'preparation',\n",
              " 'least',\n",
              " 'complete',\n",
              " 'neoplasm',\n",
              " 'diffusion',\n",
              " 'surface',\n",
              " 'findings',\n",
              " 'according',\n",
              " 'pharmacokinetic',\n",
              " 'ventricular',\n",
              " 'maximum',\n",
              " 'major',\n",
              " 'memory',\n",
              " 'impairment',\n",
              " 'compulsive',\n",
              " 'uterine',\n",
              " 'result',\n",
              " 'participants',\n",
              " 'every',\n",
              " 'year',\n",
              " 'examined',\n",
              " 'responses',\n",
              " 'technique',\n",
              " 'recorded',\n",
              " 'investigate',\n",
              " 'physical',\n",
              " 'volume',\n",
              " 'value',\n",
              " 'detection',\n",
              " 'dizzy',\n",
              " 'plus',\n",
              " 'bite',\n",
              " 'comparable',\n",
              " 'determination',\n",
              " 'indicate',\n",
              " 'cross',\n",
              " 'spasm',\n",
              " 'flare',\n",
              " 'caused',\n",
              " 'fever',\n",
              " 'prostaglandin',\n",
              " 'provide',\n",
              " 'degree',\n",
              " 'methods',\n",
              " 'medium',\n",
              " 'carried',\n",
              " 'vivid',\n",
              " 'withdrawals',\n",
              " 'interaction',\n",
              " 'once',\n",
              " 'naproxen',\n",
              " 'count',\n",
              " 'microg',\n",
              " 'pellets',\n",
              " 'novel',\n",
              " 'intestinal',\n",
              " 'produced',\n",
              " 'inhibited',\n",
              " 'toxicity',\n",
              " 'design',\n",
              " 'care',\n",
              " 'life',\n",
              " 'receiving',\n",
              " 'specific',\n",
              " 'patch',\n",
              " 'cold',\n",
              " 'expression',\n",
              " 'if',\n",
              " 'adderall',\n",
              " 'upper',\n",
              " 'comparison',\n",
              " 'against',\n",
              " 'highly',\n",
              " 'saline',\n",
              " 'even',\n",
              " 'eating',\n",
              " 'lack',\n",
              " 'nervous',\n",
              " 'positive',\n",
              " 'antiinflammatory',\n",
              " 'hunger',\n",
              " 'loaded',\n",
              " 'drops',\n",
              " 'intramuscular',\n",
              " 'outcome',\n",
              " 'solubility',\n",
              " 'paracetamol',\n",
              " 'rates',\n",
              " 'characterized',\n",
              " 'global',\n",
              " 'models',\n",
              " 'ketorolac',\n",
              " 'abuse',\n",
              " 'malignant',\n",
              " 'superior',\n",
              " 'second',\n",
              " 'delayed',\n",
              " 'therefore',\n",
              " 'dic',\n",
              " 'emotional',\n",
              " 'considered',\n",
              " 'possible',\n",
              " 'show',\n",
              " 'will',\n",
              " 'hplc',\n",
              " 'affect',\n",
              " 'inhibitors',\n",
              " 'extent',\n",
              " 'influence',\n",
              " 'euphoric',\n",
              " 'lesion',\n",
              " 'face',\n",
              " 'shoulder',\n",
              " 'incidence',\n",
              " 'small',\n",
              " 'preparations',\n",
              " 'stress',\n",
              " 'enzyme',\n",
              " 'lipoprotein',\n",
              " 'nauseous',\n",
              " 'max',\n",
              " 'taking',\n",
              " 'lung',\n",
              " 'activities',\n",
              " 'medications',\n",
              " 'buffer',\n",
              " 'hepatitis',\n",
              " 'work',\n",
              " 'co',\n",
              " 'hp',\n",
              " 'injuries',\n",
              " 'whether',\n",
              " 'current',\n",
              " 'obsessive',\n",
              " 'capsules',\n",
              " 'increasing',\n",
              " 'clearance',\n",
              " 'extraction',\n",
              " 'tooth',\n",
              " 'enhanced',\n",
              " 'tissues',\n",
              " 'phosphate',\n",
              " 'you',\n",
              " 'ldl',\n",
              " 'clinically',\n",
              " 'candidiasis',\n",
              " 'index',\n",
              " 'made',\n",
              " 'your',\n",
              " 'lipid',\n",
              " 'central',\n",
              " 'ache',\n",
              " 'analyzed',\n",
              " 'drowsy',\n",
              " 'provided',\n",
              " 'back',\n",
              " 'cyclooxygenase',\n",
              " 'nm',\n",
              " 'forms',\n",
              " 'asthma',\n",
              " 'intoxication',\n",
              " 'way',\n",
              " 'solutions',\n",
              " 'steroid',\n",
              " 'fear',\n",
              " 'crazy',\n",
              " 'celecoxib',\n",
              " 'eudragit',\n",
              " 'cardiovascular',\n",
              " 'beta',\n",
              " 'r',\n",
              " 'examination',\n",
              " 'characteristics',\n",
              " 'consciousness',\n",
              " 'short',\n",
              " 'impaired',\n",
              " 'get',\n",
              " 'bulimia',\n",
              " 'twice',\n",
              " 'structure',\n",
              " 'objective',\n",
              " 'obstruction',\n",
              " 'aged',\n",
              " 'assess',\n",
              " 'bleeding',\n",
              " 'chitosan',\n",
              " 'animal',\n",
              " 'thirst',\n",
              " 'artery',\n",
              " 'genital',\n",
              " 'hungry',\n",
              " 'cream',\n",
              " 'food',\n",
              " 'crossover',\n",
              " 'does',\n",
              " 'kinetics',\n",
              " 'block',\n",
              " 'arthrotec',\n",
              " 'transdermal',\n",
              " 'factor',\n",
              " 'sneezing',\n",
              " 'arterial',\n",
              " 'neoplasms',\n",
              " 'released',\n",
              " 'additional',\n",
              " 'exhibited',\n",
              " 'ability',\n",
              " 'cambia',\n",
              " 'simple',\n",
              " 'media',\n",
              " 'alternative',\n",
              " 'bacterial',\n",
              " 'health',\n",
              " 'alpha',\n",
              " 'capsule',\n",
              " 'point',\n",
              " 'particle',\n",
              " 'pattern',\n",
              " 'many',\n",
              " 'cramps',\n",
              " 'fractures',\n",
              " 'gi',\n",
              " 'analgesics',\n",
              " 'partial',\n",
              " 'rabbits',\n",
              " 'research',\n",
              " 'known',\n",
              " 'tongue',\n",
              " 'dpsgc',\n",
              " 'management',\n",
              " 'modified',\n",
              " 'do',\n",
              " 'sr',\n",
              " 'sensitive',\n",
              " 'hpmc',\n",
              " 'coronary',\n",
              " 'general',\n",
              " 'diet',\n",
              " 'tests',\n",
              " 'collagen',\n",
              " 'reduce',\n",
              " 'collected',\n",
              " 'operative',\n",
              " 'pge',\n",
              " 'fast',\n",
              " 'ophthalmic',\n",
              " 'experiments',\n",
              " 'tmax',\n",
              " 'cutaneous',\n",
              " 'hand',\n",
              " 'dfs',\n",
              " 'excretion',\n",
              " 'paranoid',\n",
              " 'randomised',\n",
              " 'microm',\n",
              " 'insufficiency',\n",
              " 'absence',\n",
              " 'target',\n",
              " 'nasal',\n",
              " 'scanning',\n",
              " 'average',\n",
              " 'lightheadedness',\n",
              " 'procedure',\n",
              " 'sweat',\n",
              " 'tenderness',\n",
              " 'factors',\n",
              " 'electrocardiogram',\n",
              " 'role',\n",
              " 'across',\n",
              " 'via',\n",
              " 'substance',\n",
              " 'muscular',\n",
              " 'df',\n",
              " 'arthropod',\n",
              " 'soft',\n",
              " 'pneumonia',\n",
              " 'headaches',\n",
              " 'cause',\n",
              " 'chloride',\n",
              " 'nerve',\n",
              " 'systems',\n",
              " 'faster',\n",
              " 'potent',\n",
              " 'percentage',\n",
              " 'excessive',\n",
              " 'ak',\n",
              " 'ear',\n",
              " 'penetration',\n",
              " 'open',\n",
              " 'episode',\n",
              " 'microscopy',\n",
              " 'orally',\n",
              " 'women',\n",
              " 'swollen',\n",
              " 'stability',\n",
              " 'dcf',\n",
              " 'terms',\n",
              " 'selective',\n",
              " 'zero',\n",
              " 'erection',\n",
              " 'personality',\n",
              " 'movement',\n",
              " 'cs',\n",
              " 'acetaminophen',\n",
              " 'right',\n",
              " 'altered',\n",
              " 'required',\n",
              " 'chemical',\n",
              " 'colitis',\n",
              " 'mass',\n",
              " 'aes',\n",
              " 'oil',\n",
              " 'adult',\n",
              " 'limb',\n",
              " 'several',\n",
              " 'traumatic',\n",
              " 'compounds',\n",
              " 'salt',\n",
              " 'colic',\n",
              " 'peg',\n",
              " 'falling',\n",
              " 'half',\n",
              " 'seen',\n",
              " 'generalized',\n",
              " 'thinking',\n",
              " 'electron',\n",
              " 'sd',\n",
              " 'hr',\n",
              " 'reducing',\n",
              " 'tumor',\n",
              " 'fracture',\n",
              " 'occurred',\n",
              " 'metabolism',\n",
              " 'musculoskeletal',\n",
              " 'sexual',\n",
              " 'tendency',\n",
              " 'follow',\n",
              " 'receive',\n",
              " 'serious',\n",
              " 'mouth',\n",
              " 'detected',\n",
              " 'selected',\n",
              " 'large',\n",
              " 'negative',\n",
              " 'make',\n",
              " 'nail',\n",
              " 'symptom',\n",
              " 'metastatic',\n",
              " 'making',\n",
              " 'speech',\n",
              " 'laser',\n",
              " 'whole',\n",
              " 'tingling',\n",
              " 'assigned',\n",
              " 'much',\n",
              " 'approximately',\n",
              " 'loading',\n",
              " 'established',\n",
              " 'widely',\n",
              " 'contact',\n",
              " 'seven',\n",
              " ...]"
            ]
          },
          "metadata": {
            "tags": []
          },
          "execution_count": 18
        }
      ]
    },
    {
      "cell_type": "code",
      "metadata": {
        "id": "yPWr03mls3VT",
        "outputId": "b39d8f89-8b51-4353-9312-b9b3efde5153",
        "colab": {
          "base_uri": "https://localhost:8080/",
          "height": 17
        }
      },
      "source": [
        "model_path = path/'models'\n",
        "model_path.mkdir(exist_ok=True)\n",
        "url = 'http://files.fast.ai/models/wt103_v1/'\n",
        "download_url(f'{url}lstm_wt103.pth', model_path/'lstm_wt103.pth')\n",
        "download_url(f'{url}itos_wt103.pkl', model_path/'itos_wt103.pkl')"
      ],
      "execution_count": 19,
      "outputs": [
        {
          "output_type": "display_data",
          "data": {
            "text/html": [
              ""
            ],
            "text/plain": [
              "<IPython.core.display.HTML object>"
            ]
          },
          "metadata": {
            "tags": []
          }
        },
        {
          "output_type": "display_data",
          "data": {
            "text/html": [
              ""
            ],
            "text/plain": [
              "<IPython.core.display.HTML object>"
            ]
          },
          "metadata": {
            "tags": []
          }
        }
      ]
    },
    {
      "cell_type": "code",
      "metadata": {
        "id": "JRzvWg8RtGGr",
        "outputId": "c761dda7-f993-402e-ebec-be622b9e8c1b",
        "colab": {
          "base_uri": "https://localhost:8080/",
          "height": 34
        }
      },
      "source": [
        "learn = language_model_learner(data_lm, AWD_LSTM, drop_mult=0.5)"
      ],
      "execution_count": 20,
      "outputs": [
        {
          "output_type": "stream",
          "text": [
            "Downloading https://s3.amazonaws.com/fast-ai-modelzoo/wt103-fwd.tgz\n"
          ],
          "name": "stdout"
        },
        {
          "output_type": "display_data",
          "data": {
            "text/html": [
              ""
            ],
            "text/plain": [
              "<IPython.core.display.HTML object>"
            ]
          },
          "metadata": {
            "tags": []
          }
        }
      ]
    },
    {
      "cell_type": "code",
      "metadata": {
        "id": "xKK7GeBev7Xn",
        "outputId": "af10c6bb-b404-4229-e1b0-485aa4044561",
        "colab": {
          "base_uri": "https://localhost:8080/",
          "height": 80
        }
      },
      "source": [
        "learn.fit_one_cycle(1, 1e-2)"
      ],
      "execution_count": 21,
      "outputs": [
        {
          "output_type": "display_data",
          "data": {
            "text/html": [
              "<table border=\"1\" class=\"dataframe\">\n",
              "  <thead>\n",
              "    <tr style=\"text-align: left;\">\n",
              "      <th>epoch</th>\n",
              "      <th>train_loss</th>\n",
              "      <th>valid_loss</th>\n",
              "      <th>accuracy</th>\n",
              "      <th>time</th>\n",
              "    </tr>\n",
              "  </thead>\n",
              "  <tbody>\n",
              "    <tr>\n",
              "      <td>0</td>\n",
              "      <td>4.834837</td>\n",
              "      <td>4.200236</td>\n",
              "      <td>0.350507</td>\n",
              "      <td>16:54</td>\n",
              "    </tr>\n",
              "  </tbody>\n",
              "</table>"
            ],
            "text/plain": [
              "<IPython.core.display.HTML object>"
            ]
          },
          "metadata": {
            "tags": []
          }
        }
      ]
    },
    {
      "cell_type": "code",
      "metadata": {
        "id": "iB7rHGQCwd12",
        "outputId": "09d58023-5f7e-4065-e84f-9381c30d4b81",
        "colab": {
          "base_uri": "https://localhost:8080/",
          "height": 80
        }
      },
      "source": [
        "learn.fit_one_cycle(1, 1e-2)"
      ],
      "execution_count": 22,
      "outputs": [
        {
          "output_type": "display_data",
          "data": {
            "text/html": [
              "<table border=\"1\" class=\"dataframe\">\n",
              "  <thead>\n",
              "    <tr style=\"text-align: left;\">\n",
              "      <th>epoch</th>\n",
              "      <th>train_loss</th>\n",
              "      <th>valid_loss</th>\n",
              "      <th>accuracy</th>\n",
              "      <th>time</th>\n",
              "    </tr>\n",
              "  </thead>\n",
              "  <tbody>\n",
              "    <tr>\n",
              "      <td>0</td>\n",
              "      <td>4.013020</td>\n",
              "      <td>3.799879</td>\n",
              "      <td>0.386693</td>\n",
              "      <td>16:56</td>\n",
              "    </tr>\n",
              "  </tbody>\n",
              "</table>"
            ],
            "text/plain": [
              "<IPython.core.display.HTML object>"
            ]
          },
          "metadata": {
            "tags": []
          }
        }
      ]
    },
    {
      "cell_type": "code",
      "metadata": {
        "id": "_BnSuAeCwkBe",
        "outputId": "46195fb0-23e8-486c-eea3-155910ad86cd",
        "colab": {
          "base_uri": "https://localhost:8080/",
          "height": 80
        }
      },
      "source": [
        "learn.fit_one_cycle(1, 1e-3)"
      ],
      "execution_count": 23,
      "outputs": [
        {
          "output_type": "display_data",
          "data": {
            "text/html": [
              "<table border=\"1\" class=\"dataframe\">\n",
              "  <thead>\n",
              "    <tr style=\"text-align: left;\">\n",
              "      <th>epoch</th>\n",
              "      <th>train_loss</th>\n",
              "      <th>valid_loss</th>\n",
              "      <th>accuracy</th>\n",
              "      <th>time</th>\n",
              "    </tr>\n",
              "  </thead>\n",
              "  <tbody>\n",
              "    <tr>\n",
              "      <td>0</td>\n",
              "      <td>3.744223</td>\n",
              "      <td>3.753707</td>\n",
              "      <td>0.391312</td>\n",
              "      <td>16:49</td>\n",
              "    </tr>\n",
              "  </tbody>\n",
              "</table>"
            ],
            "text/plain": [
              "<IPython.core.display.HTML object>"
            ]
          },
          "metadata": {
            "tags": []
          }
        }
      ]
    },
    {
      "cell_type": "code",
      "metadata": {
        "id": "MuTm-RFjwrEX",
        "outputId": "88cb5252-71f8-4bb9-d7b4-9111be057371",
        "colab": {
          "base_uri": "https://localhost:8080/",
          "height": 80
        }
      },
      "source": [
        "learn.fit_one_cycle(1, 1e-3)"
      ],
      "execution_count": 24,
      "outputs": [
        {
          "output_type": "display_data",
          "data": {
            "text/html": [
              "<table border=\"1\" class=\"dataframe\">\n",
              "  <thead>\n",
              "    <tr style=\"text-align: left;\">\n",
              "      <th>epoch</th>\n",
              "      <th>train_loss</th>\n",
              "      <th>valid_loss</th>\n",
              "      <th>accuracy</th>\n",
              "      <th>time</th>\n",
              "    </tr>\n",
              "  </thead>\n",
              "  <tbody>\n",
              "    <tr>\n",
              "      <td>0</td>\n",
              "      <td>3.693006</td>\n",
              "      <td>3.721822</td>\n",
              "      <td>0.393905</td>\n",
              "      <td>16:49</td>\n",
              "    </tr>\n",
              "  </tbody>\n",
              "</table>"
            ],
            "text/plain": [
              "<IPython.core.display.HTML object>"
            ]
          },
          "metadata": {
            "tags": []
          }
        }
      ]
    },
    {
      "cell_type": "code",
      "metadata": {
        "id": "1Er2ExO8wr7Y"
      },
      "source": [
        "learn.save_encoder('TwADR_pubmed_fold8_first')"
      ],
      "execution_count": 25,
      "outputs": []
    },
    {
      "cell_type": "code",
      "metadata": {
        "id": "z52cZs2qwvad",
        "outputId": "a9f52172-69eb-4677-9213-c3f67587cb4b",
        "colab": {
          "base_uri": "https://localhost:8080/",
          "height": 80
        }
      },
      "source": [
        "learn = text_classifier_learner(data_clas,AWD_LSTM, drop_mult=0.5)\n",
        "learn.load_encoder('TwADR_pubmed_fold8_first')\n",
        "learn.fit_one_cycle(1, 1e-2)"
      ],
      "execution_count": 26,
      "outputs": [
        {
          "output_type": "display_data",
          "data": {
            "text/html": [
              "<table border=\"1\" class=\"dataframe\">\n",
              "  <thead>\n",
              "    <tr style=\"text-align: left;\">\n",
              "      <th>epoch</th>\n",
              "      <th>train_loss</th>\n",
              "      <th>valid_loss</th>\n",
              "      <th>accuracy</th>\n",
              "      <th>time</th>\n",
              "    </tr>\n",
              "  </thead>\n",
              "  <tbody>\n",
              "    <tr>\n",
              "      <td>0</td>\n",
              "      <td>7.161105</td>\n",
              "      <td>6.435785</td>\n",
              "      <td>0.097222</td>\n",
              "      <td>00:24</td>\n",
              "    </tr>\n",
              "  </tbody>\n",
              "</table>"
            ],
            "text/plain": [
              "<IPython.core.display.HTML object>"
            ]
          },
          "metadata": {
            "tags": []
          }
        }
      ]
    },
    {
      "cell_type": "code",
      "metadata": {
        "id": "ImwQP1PJwzxd",
        "outputId": "c8af881c-17f2-40b4-c750-255f635ce92c",
        "colab": {
          "base_uri": "https://localhost:8080/",
          "height": 80
        }
      },
      "source": [
        "learn.freeze_to(-2)\n",
        "learn.fit_one_cycle(1, slice(5e-3/2., 5e-3))"
      ],
      "execution_count": 27,
      "outputs": [
        {
          "output_type": "display_data",
          "data": {
            "text/html": [
              "<table border=\"1\" class=\"dataframe\">\n",
              "  <thead>\n",
              "    <tr style=\"text-align: left;\">\n",
              "      <th>epoch</th>\n",
              "      <th>train_loss</th>\n",
              "      <th>valid_loss</th>\n",
              "      <th>accuracy</th>\n",
              "      <th>time</th>\n",
              "    </tr>\n",
              "  </thead>\n",
              "  <tbody>\n",
              "    <tr>\n",
              "      <td>0</td>\n",
              "      <td>6.191473</td>\n",
              "      <td>5.638983</td>\n",
              "      <td>0.111111</td>\n",
              "      <td>00:27</td>\n",
              "    </tr>\n",
              "  </tbody>\n",
              "</table>"
            ],
            "text/plain": [
              "<IPython.core.display.HTML object>"
            ]
          },
          "metadata": {
            "tags": []
          }
        }
      ]
    },
    {
      "cell_type": "code",
      "metadata": {
        "id": "Owff_BJXw53u",
        "outputId": "819bcd24-89ce-4086-c88a-c7779245aa4b",
        "colab": {
          "base_uri": "https://localhost:8080/",
          "height": 80
        }
      },
      "source": [
        "learn.unfreeze()\n",
        "learn.fit_one_cycle(1, slice(2e-3/100, 2e-3))"
      ],
      "execution_count": 28,
      "outputs": [
        {
          "output_type": "display_data",
          "data": {
            "text/html": [
              "<table border=\"1\" class=\"dataframe\">\n",
              "  <thead>\n",
              "    <tr style=\"text-align: left;\">\n",
              "      <th>epoch</th>\n",
              "      <th>train_loss</th>\n",
              "      <th>valid_loss</th>\n",
              "      <th>accuracy</th>\n",
              "      <th>time</th>\n",
              "    </tr>\n",
              "  </thead>\n",
              "  <tbody>\n",
              "    <tr>\n",
              "      <td>0</td>\n",
              "      <td>5.730159</td>\n",
              "      <td>5.399304</td>\n",
              "      <td>0.138889</td>\n",
              "      <td>01:09</td>\n",
              "    </tr>\n",
              "  </tbody>\n",
              "</table>"
            ],
            "text/plain": [
              "<IPython.core.display.HTML object>"
            ]
          },
          "metadata": {
            "tags": []
          }
        }
      ]
    },
    {
      "cell_type": "code",
      "metadata": {
        "id": "lqAyu56V8Waq",
        "outputId": "92eb14f9-c2cf-4d6f-b402-052c4a78efd2",
        "colab": {
          "base_uri": "https://localhost:8080/",
          "height": 111
        }
      },
      "source": [
        "learn.fit_one_cycle(2, slice(2e-3/100, 2e-3))"
      ],
      "execution_count": 29,
      "outputs": [
        {
          "output_type": "display_data",
          "data": {
            "text/html": [
              "<table border=\"1\" class=\"dataframe\">\n",
              "  <thead>\n",
              "    <tr style=\"text-align: left;\">\n",
              "      <th>epoch</th>\n",
              "      <th>train_loss</th>\n",
              "      <th>valid_loss</th>\n",
              "      <th>accuracy</th>\n",
              "      <th>time</th>\n",
              "    </tr>\n",
              "  </thead>\n",
              "  <tbody>\n",
              "    <tr>\n",
              "      <td>0</td>\n",
              "      <td>5.399959</td>\n",
              "      <td>4.925529</td>\n",
              "      <td>0.180556</td>\n",
              "      <td>01:06</td>\n",
              "    </tr>\n",
              "    <tr>\n",
              "      <td>1</td>\n",
              "      <td>5.185745</td>\n",
              "      <td>4.828532</td>\n",
              "      <td>0.166667</td>\n",
              "      <td>01:09</td>\n",
              "    </tr>\n",
              "  </tbody>\n",
              "</table>"
            ],
            "text/plain": [
              "<IPython.core.display.HTML object>"
            ]
          },
          "metadata": {
            "tags": []
          }
        }
      ]
    },
    {
      "cell_type": "code",
      "metadata": {
        "id": "a7I1xMRp8bUd",
        "outputId": "fc9a4dd7-961c-4f85-bb93-cef4c4946ed0",
        "colab": {
          "base_uri": "https://localhost:8080/",
          "height": 111
        }
      },
      "source": [
        "learn.fit_one_cycle(2, slice(2e-3/100, 2e-3))"
      ],
      "execution_count": 30,
      "outputs": [
        {
          "output_type": "display_data",
          "data": {
            "text/html": [
              "<table border=\"1\" class=\"dataframe\">\n",
              "  <thead>\n",
              "    <tr style=\"text-align: left;\">\n",
              "      <th>epoch</th>\n",
              "      <th>train_loss</th>\n",
              "      <th>valid_loss</th>\n",
              "      <th>accuracy</th>\n",
              "      <th>time</th>\n",
              "    </tr>\n",
              "  </thead>\n",
              "  <tbody>\n",
              "    <tr>\n",
              "      <td>0</td>\n",
              "      <td>4.934985</td>\n",
              "      <td>4.563263</td>\n",
              "      <td>0.194444</td>\n",
              "      <td>01:06</td>\n",
              "    </tr>\n",
              "    <tr>\n",
              "      <td>1</td>\n",
              "      <td>4.766882</td>\n",
              "      <td>4.496870</td>\n",
              "      <td>0.208333</td>\n",
              "      <td>01:05</td>\n",
              "    </tr>\n",
              "  </tbody>\n",
              "</table>"
            ],
            "text/plain": [
              "<IPython.core.display.HTML object>"
            ]
          },
          "metadata": {
            "tags": []
          }
        }
      ]
    },
    {
      "cell_type": "code",
      "metadata": {
        "id": "UAnti-XmGVfO",
        "outputId": "fef7043e-549b-48b9-bd5c-d2dc3be9f631",
        "colab": {
          "base_uri": "https://localhost:8080/",
          "height": 111
        }
      },
      "source": [
        "learn.fit_one_cycle(2, slice(2e-3/100, 2e-3))"
      ],
      "execution_count": 31,
      "outputs": [
        {
          "output_type": "display_data",
          "data": {
            "text/html": [
              "<table border=\"1\" class=\"dataframe\">\n",
              "  <thead>\n",
              "    <tr style=\"text-align: left;\">\n",
              "      <th>epoch</th>\n",
              "      <th>train_loss</th>\n",
              "      <th>valid_loss</th>\n",
              "      <th>accuracy</th>\n",
              "      <th>time</th>\n",
              "    </tr>\n",
              "  </thead>\n",
              "  <tbody>\n",
              "    <tr>\n",
              "      <td>0</td>\n",
              "      <td>4.555962</td>\n",
              "      <td>4.370860</td>\n",
              "      <td>0.215278</td>\n",
              "      <td>01:06</td>\n",
              "    </tr>\n",
              "    <tr>\n",
              "      <td>1</td>\n",
              "      <td>4.366799</td>\n",
              "      <td>4.234644</td>\n",
              "      <td>0.256944</td>\n",
              "      <td>01:09</td>\n",
              "    </tr>\n",
              "  </tbody>\n",
              "</table>"
            ],
            "text/plain": [
              "<IPython.core.display.HTML object>"
            ]
          },
          "metadata": {
            "tags": []
          }
        }
      ]
    },
    {
      "cell_type": "code",
      "metadata": {
        "id": "bIft7W25GwSu",
        "outputId": "748c665c-9f1e-4081-b5d4-69ca09973552",
        "colab": {
          "base_uri": "https://localhost:8080/",
          "height": 111
        }
      },
      "source": [
        "learn.fit_one_cycle(2, slice(2e-3/100, 2e-3))"
      ],
      "execution_count": 32,
      "outputs": [
        {
          "output_type": "display_data",
          "data": {
            "text/html": [
              "<table border=\"1\" class=\"dataframe\">\n",
              "  <thead>\n",
              "    <tr style=\"text-align: left;\">\n",
              "      <th>epoch</th>\n",
              "      <th>train_loss</th>\n",
              "      <th>valid_loss</th>\n",
              "      <th>accuracy</th>\n",
              "      <th>time</th>\n",
              "    </tr>\n",
              "  </thead>\n",
              "  <tbody>\n",
              "    <tr>\n",
              "      <td>0</td>\n",
              "      <td>4.145444</td>\n",
              "      <td>4.155344</td>\n",
              "      <td>0.236111</td>\n",
              "      <td>01:04</td>\n",
              "    </tr>\n",
              "    <tr>\n",
              "      <td>1</td>\n",
              "      <td>4.027617</td>\n",
              "      <td>4.159703</td>\n",
              "      <td>0.256944</td>\n",
              "      <td>01:04</td>\n",
              "    </tr>\n",
              "  </tbody>\n",
              "</table>"
            ],
            "text/plain": [
              "<IPython.core.display.HTML object>"
            ]
          },
          "metadata": {
            "tags": []
          }
        }
      ]
    },
    {
      "cell_type": "code",
      "metadata": {
        "id": "EEHszVRvGyFt",
        "outputId": "f28212c0-6a0e-4920-8bad-c77b0af378fe",
        "colab": {
          "base_uri": "https://localhost:8080/",
          "height": 111
        }
      },
      "source": [
        "learn.fit_one_cycle(2, slice(2e-3/100, 2e-3))"
      ],
      "execution_count": 33,
      "outputs": [
        {
          "output_type": "display_data",
          "data": {
            "text/html": [
              "<table border=\"1\" class=\"dataframe\">\n",
              "  <thead>\n",
              "    <tr style=\"text-align: left;\">\n",
              "      <th>epoch</th>\n",
              "      <th>train_loss</th>\n",
              "      <th>valid_loss</th>\n",
              "      <th>accuracy</th>\n",
              "      <th>time</th>\n",
              "    </tr>\n",
              "  </thead>\n",
              "  <tbody>\n",
              "    <tr>\n",
              "      <td>0</td>\n",
              "      <td>3.826627</td>\n",
              "      <td>4.061072</td>\n",
              "      <td>0.312500</td>\n",
              "      <td>01:10</td>\n",
              "    </tr>\n",
              "    <tr>\n",
              "      <td>1</td>\n",
              "      <td>3.701168</td>\n",
              "      <td>4.006934</td>\n",
              "      <td>0.305556</td>\n",
              "      <td>01:09</td>\n",
              "    </tr>\n",
              "  </tbody>\n",
              "</table>"
            ],
            "text/plain": [
              "<IPython.core.display.HTML object>"
            ]
          },
          "metadata": {
            "tags": []
          }
        }
      ]
    },
    {
      "cell_type": "code",
      "metadata": {
        "id": "XsHfrhCHG3dN",
        "outputId": "cfe516dc-ff87-433c-e198-1a6a24edb400",
        "colab": {
          "base_uri": "https://localhost:8080/",
          "height": 173
        }
      },
      "source": [
        "learn.fit_one_cycle(4, slice(2e-3/100, 2e-3))"
      ],
      "execution_count": 34,
      "outputs": [
        {
          "output_type": "display_data",
          "data": {
            "text/html": [
              "<table border=\"1\" class=\"dataframe\">\n",
              "  <thead>\n",
              "    <tr style=\"text-align: left;\">\n",
              "      <th>epoch</th>\n",
              "      <th>train_loss</th>\n",
              "      <th>valid_loss</th>\n",
              "      <th>accuracy</th>\n",
              "      <th>time</th>\n",
              "    </tr>\n",
              "  </thead>\n",
              "  <tbody>\n",
              "    <tr>\n",
              "      <td>0</td>\n",
              "      <td>3.501995</td>\n",
              "      <td>3.896476</td>\n",
              "      <td>0.333333</td>\n",
              "      <td>01:03</td>\n",
              "    </tr>\n",
              "    <tr>\n",
              "      <td>1</td>\n",
              "      <td>3.442546</td>\n",
              "      <td>3.834368</td>\n",
              "      <td>0.319444</td>\n",
              "      <td>01:08</td>\n",
              "    </tr>\n",
              "    <tr>\n",
              "      <td>2</td>\n",
              "      <td>3.277429</td>\n",
              "      <td>3.893432</td>\n",
              "      <td>0.298611</td>\n",
              "      <td>01:07</td>\n",
              "    </tr>\n",
              "    <tr>\n",
              "      <td>3</td>\n",
              "      <td>3.092127</td>\n",
              "      <td>3.825117</td>\n",
              "      <td>0.319444</td>\n",
              "      <td>01:10</td>\n",
              "    </tr>\n",
              "  </tbody>\n",
              "</table>"
            ],
            "text/plain": [
              "<IPython.core.display.HTML object>"
            ]
          },
          "metadata": {
            "tags": []
          }
        }
      ]
    },
    {
      "cell_type": "code",
      "metadata": {
        "id": "0Zsd99isb9EQ",
        "outputId": "bc20f024-2fd6-4265-b5f4-254538ba92f1",
        "colab": {
          "base_uri": "https://localhost:8080/",
          "height": 173
        }
      },
      "source": [
        "learn.fit_one_cycle(4, slice(2e-3/100, 2e-3))"
      ],
      "execution_count": 35,
      "outputs": [
        {
          "output_type": "display_data",
          "data": {
            "text/html": [
              "<table border=\"1\" class=\"dataframe\">\n",
              "  <thead>\n",
              "    <tr style=\"text-align: left;\">\n",
              "      <th>epoch</th>\n",
              "      <th>train_loss</th>\n",
              "      <th>valid_loss</th>\n",
              "      <th>accuracy</th>\n",
              "      <th>time</th>\n",
              "    </tr>\n",
              "  </thead>\n",
              "  <tbody>\n",
              "    <tr>\n",
              "      <td>0</td>\n",
              "      <td>2.914396</td>\n",
              "      <td>3.824937</td>\n",
              "      <td>0.340278</td>\n",
              "      <td>01:06</td>\n",
              "    </tr>\n",
              "    <tr>\n",
              "      <td>1</td>\n",
              "      <td>2.868388</td>\n",
              "      <td>3.739526</td>\n",
              "      <td>0.347222</td>\n",
              "      <td>01:06</td>\n",
              "    </tr>\n",
              "    <tr>\n",
              "      <td>2</td>\n",
              "      <td>2.674695</td>\n",
              "      <td>3.781960</td>\n",
              "      <td>0.347222</td>\n",
              "      <td>01:04</td>\n",
              "    </tr>\n",
              "    <tr>\n",
              "      <td>3</td>\n",
              "      <td>2.513710</td>\n",
              "      <td>3.776102</td>\n",
              "      <td>0.347222</td>\n",
              "      <td>01:06</td>\n",
              "    </tr>\n",
              "  </tbody>\n",
              "</table>"
            ],
            "text/plain": [
              "<IPython.core.display.HTML object>"
            ]
          },
          "metadata": {
            "tags": []
          }
        }
      ]
    },
    {
      "cell_type": "code",
      "metadata": {
        "id": "atNWNKDFPbuI",
        "outputId": "461aa335-2057-4ca3-979e-e2d8530ee731",
        "colab": {
          "base_uri": "https://localhost:8080/",
          "height": 173
        }
      },
      "source": [
        "learn.fit_one_cycle(4, slice(2e-3/100, 2e-3))"
      ],
      "execution_count": 36,
      "outputs": [
        {
          "output_type": "display_data",
          "data": {
            "text/html": [
              "<table border=\"1\" class=\"dataframe\">\n",
              "  <thead>\n",
              "    <tr style=\"text-align: left;\">\n",
              "      <th>epoch</th>\n",
              "      <th>train_loss</th>\n",
              "      <th>valid_loss</th>\n",
              "      <th>accuracy</th>\n",
              "      <th>time</th>\n",
              "    </tr>\n",
              "  </thead>\n",
              "  <tbody>\n",
              "    <tr>\n",
              "      <td>0</td>\n",
              "      <td>2.351288</td>\n",
              "      <td>3.772121</td>\n",
              "      <td>0.354167</td>\n",
              "      <td>01:05</td>\n",
              "    </tr>\n",
              "    <tr>\n",
              "      <td>1</td>\n",
              "      <td>2.330698</td>\n",
              "      <td>3.770191</td>\n",
              "      <td>0.361111</td>\n",
              "      <td>01:12</td>\n",
              "    </tr>\n",
              "    <tr>\n",
              "      <td>2</td>\n",
              "      <td>2.160268</td>\n",
              "      <td>3.772835</td>\n",
              "      <td>0.354167</td>\n",
              "      <td>01:10</td>\n",
              "    </tr>\n",
              "    <tr>\n",
              "      <td>3</td>\n",
              "      <td>1.988782</td>\n",
              "      <td>3.748775</td>\n",
              "      <td>0.361111</td>\n",
              "      <td>01:10</td>\n",
              "    </tr>\n",
              "  </tbody>\n",
              "</table>"
            ],
            "text/plain": [
              "<IPython.core.display.HTML object>"
            ]
          },
          "metadata": {
            "tags": []
          }
        }
      ]
    },
    {
      "cell_type": "code",
      "metadata": {
        "id": "rKrBTZ0T1uVA",
        "outputId": "2b27683b-83d8-4760-843d-3e92175da74e",
        "colab": {
          "base_uri": "https://localhost:8080/",
          "height": 173
        }
      },
      "source": [
        "learn.fit_one_cycle(4, slice(2e-3/100, 2e-3))"
      ],
      "execution_count": 37,
      "outputs": [
        {
          "output_type": "display_data",
          "data": {
            "text/html": [
              "<table border=\"1\" class=\"dataframe\">\n",
              "  <thead>\n",
              "    <tr style=\"text-align: left;\">\n",
              "      <th>epoch</th>\n",
              "      <th>train_loss</th>\n",
              "      <th>valid_loss</th>\n",
              "      <th>accuracy</th>\n",
              "      <th>time</th>\n",
              "    </tr>\n",
              "  </thead>\n",
              "  <tbody>\n",
              "    <tr>\n",
              "      <td>0</td>\n",
              "      <td>1.908376</td>\n",
              "      <td>3.824616</td>\n",
              "      <td>0.354167</td>\n",
              "      <td>01:04</td>\n",
              "    </tr>\n",
              "    <tr>\n",
              "      <td>1</td>\n",
              "      <td>1.864640</td>\n",
              "      <td>3.780122</td>\n",
              "      <td>0.340278</td>\n",
              "      <td>01:07</td>\n",
              "    </tr>\n",
              "    <tr>\n",
              "      <td>2</td>\n",
              "      <td>1.705503</td>\n",
              "      <td>3.855622</td>\n",
              "      <td>0.347222</td>\n",
              "      <td>01:04</td>\n",
              "    </tr>\n",
              "    <tr>\n",
              "      <td>3</td>\n",
              "      <td>1.572702</td>\n",
              "      <td>3.851968</td>\n",
              "      <td>0.354167</td>\n",
              "      <td>01:05</td>\n",
              "    </tr>\n",
              "  </tbody>\n",
              "</table>"
            ],
            "text/plain": [
              "<IPython.core.display.HTML object>"
            ]
          },
          "metadata": {
            "tags": []
          }
        }
      ]
    },
    {
      "cell_type": "code",
      "metadata": {
        "id": "ajQC6WDg1yA9",
        "outputId": "5ca914d4-eb59-484d-92a2-5257b855b889",
        "colab": {
          "base_uri": "https://localhost:8080/",
          "height": 173
        }
      },
      "source": [
        "learn.fit_one_cycle(4, slice(2e-3/100, 2e-3))"
      ],
      "execution_count": 38,
      "outputs": [
        {
          "output_type": "display_data",
          "data": {
            "text/html": [
              "<table border=\"1\" class=\"dataframe\">\n",
              "  <thead>\n",
              "    <tr style=\"text-align: left;\">\n",
              "      <th>epoch</th>\n",
              "      <th>train_loss</th>\n",
              "      <th>valid_loss</th>\n",
              "      <th>accuracy</th>\n",
              "      <th>time</th>\n",
              "    </tr>\n",
              "  </thead>\n",
              "  <tbody>\n",
              "    <tr>\n",
              "      <td>0</td>\n",
              "      <td>1.478333</td>\n",
              "      <td>3.862944</td>\n",
              "      <td>0.368056</td>\n",
              "      <td>01:12</td>\n",
              "    </tr>\n",
              "    <tr>\n",
              "      <td>1</td>\n",
              "      <td>1.481725</td>\n",
              "      <td>4.015754</td>\n",
              "      <td>0.361111</td>\n",
              "      <td>01:09</td>\n",
              "    </tr>\n",
              "    <tr>\n",
              "      <td>2</td>\n",
              "      <td>1.354698</td>\n",
              "      <td>4.002783</td>\n",
              "      <td>0.375000</td>\n",
              "      <td>01:08</td>\n",
              "    </tr>\n",
              "    <tr>\n",
              "      <td>3</td>\n",
              "      <td>1.246268</td>\n",
              "      <td>3.984081</td>\n",
              "      <td>0.381944</td>\n",
              "      <td>01:09</td>\n",
              "    </tr>\n",
              "  </tbody>\n",
              "</table>"
            ],
            "text/plain": [
              "<IPython.core.display.HTML object>"
            ]
          },
          "metadata": {
            "tags": []
          }
        }
      ]
    },
    {
      "cell_type": "code",
      "metadata": {
        "id": "KKydb0B4BKGk",
        "outputId": "c786e1f6-776f-41dc-9ed4-b26d3b796807",
        "colab": {
          "base_uri": "https://localhost:8080/",
          "height": 173
        }
      },
      "source": [
        "learn.fit_one_cycle(4, slice(2e-3/100, 2e-3))"
      ],
      "execution_count": 39,
      "outputs": [
        {
          "output_type": "display_data",
          "data": {
            "text/html": [
              "<table border=\"1\" class=\"dataframe\">\n",
              "  <thead>\n",
              "    <tr style=\"text-align: left;\">\n",
              "      <th>epoch</th>\n",
              "      <th>train_loss</th>\n",
              "      <th>valid_loss</th>\n",
              "      <th>accuracy</th>\n",
              "      <th>time</th>\n",
              "    </tr>\n",
              "  </thead>\n",
              "  <tbody>\n",
              "    <tr>\n",
              "      <td>0</td>\n",
              "      <td>1.138150</td>\n",
              "      <td>4.026968</td>\n",
              "      <td>0.354167</td>\n",
              "      <td>01:03</td>\n",
              "    </tr>\n",
              "    <tr>\n",
              "      <td>1</td>\n",
              "      <td>1.135543</td>\n",
              "      <td>4.026909</td>\n",
              "      <td>0.368056</td>\n",
              "      <td>01:06</td>\n",
              "    </tr>\n",
              "    <tr>\n",
              "      <td>2</td>\n",
              "      <td>1.059905</td>\n",
              "      <td>4.097287</td>\n",
              "      <td>0.381944</td>\n",
              "      <td>01:09</td>\n",
              "    </tr>\n",
              "    <tr>\n",
              "      <td>3</td>\n",
              "      <td>0.976533</td>\n",
              "      <td>4.077559</td>\n",
              "      <td>0.395833</td>\n",
              "      <td>01:04</td>\n",
              "    </tr>\n",
              "  </tbody>\n",
              "</table>"
            ],
            "text/plain": [
              "<IPython.core.display.HTML object>"
            ]
          },
          "metadata": {
            "tags": []
          }
        }
      ]
    },
    {
      "cell_type": "code",
      "metadata": {
        "id": "T2APKtFKBpGY",
        "outputId": "d3228e50-9731-4224-f5f0-e22d22f6c905",
        "colab": {
          "base_uri": "https://localhost:8080/",
          "height": 173
        }
      },
      "source": [
        "learn.fit_one_cycle(4, slice(2e-3/100, 2e-3))"
      ],
      "execution_count": 40,
      "outputs": [
        {
          "output_type": "display_data",
          "data": {
            "text/html": [
              "<table border=\"1\" class=\"dataframe\">\n",
              "  <thead>\n",
              "    <tr style=\"text-align: left;\">\n",
              "      <th>epoch</th>\n",
              "      <th>train_loss</th>\n",
              "      <th>valid_loss</th>\n",
              "      <th>accuracy</th>\n",
              "      <th>time</th>\n",
              "    </tr>\n",
              "  </thead>\n",
              "  <tbody>\n",
              "    <tr>\n",
              "      <td>0</td>\n",
              "      <td>0.880543</td>\n",
              "      <td>4.148643</td>\n",
              "      <td>0.375000</td>\n",
              "      <td>01:05</td>\n",
              "    </tr>\n",
              "    <tr>\n",
              "      <td>1</td>\n",
              "      <td>0.938334</td>\n",
              "      <td>4.234128</td>\n",
              "      <td>0.354167</td>\n",
              "      <td>01:11</td>\n",
              "    </tr>\n",
              "    <tr>\n",
              "      <td>2</td>\n",
              "      <td>0.869346</td>\n",
              "      <td>4.239212</td>\n",
              "      <td>0.388889</td>\n",
              "      <td>01:05</td>\n",
              "    </tr>\n",
              "    <tr>\n",
              "      <td>3</td>\n",
              "      <td>0.788879</td>\n",
              "      <td>4.154280</td>\n",
              "      <td>0.416667</td>\n",
              "      <td>01:09</td>\n",
              "    </tr>\n",
              "  </tbody>\n",
              "</table>"
            ],
            "text/plain": [
              "<IPython.core.display.HTML object>"
            ]
          },
          "metadata": {
            "tags": []
          }
        }
      ]
    },
    {
      "cell_type": "code",
      "metadata": {
        "id": "qtTypA1sPgLU",
        "outputId": "b49c9f17-acb1-4ad6-ba3a-698dde8bf25d",
        "colab": {
          "base_uri": "https://localhost:8080/",
          "height": 111
        }
      },
      "source": [
        "learn.fit_one_cycle(2, slice(2e-3/100, 2e-3))"
      ],
      "execution_count": 41,
      "outputs": [
        {
          "output_type": "display_data",
          "data": {
            "text/html": [
              "<table border=\"1\" class=\"dataframe\">\n",
              "  <thead>\n",
              "    <tr style=\"text-align: left;\">\n",
              "      <th>epoch</th>\n",
              "      <th>train_loss</th>\n",
              "      <th>valid_loss</th>\n",
              "      <th>accuracy</th>\n",
              "      <th>time</th>\n",
              "    </tr>\n",
              "  </thead>\n",
              "  <tbody>\n",
              "    <tr>\n",
              "      <td>0</td>\n",
              "      <td>0.765391</td>\n",
              "      <td>4.218878</td>\n",
              "      <td>0.361111</td>\n",
              "      <td>01:07</td>\n",
              "    </tr>\n",
              "    <tr>\n",
              "      <td>1</td>\n",
              "      <td>0.721162</td>\n",
              "      <td>4.269134</td>\n",
              "      <td>0.395833</td>\n",
              "      <td>01:04</td>\n",
              "    </tr>\n",
              "  </tbody>\n",
              "</table>"
            ],
            "text/plain": [
              "<IPython.core.display.HTML object>"
            ]
          },
          "metadata": {
            "tags": []
          }
        }
      ]
    },
    {
      "cell_type": "code",
      "metadata": {
        "id": "b242kBsTUp9Y",
        "outputId": "f5520dc6-ef65-4674-f31e-cdaf764e862b",
        "colab": {
          "base_uri": "https://localhost:8080/",
          "height": 111
        }
      },
      "source": [
        "learn.fit_one_cycle(2, slice(2e-3/100, 2e-3))"
      ],
      "execution_count": 42,
      "outputs": [
        {
          "output_type": "display_data",
          "data": {
            "text/html": [
              "<table border=\"1\" class=\"dataframe\">\n",
              "  <thead>\n",
              "    <tr style=\"text-align: left;\">\n",
              "      <th>epoch</th>\n",
              "      <th>train_loss</th>\n",
              "      <th>valid_loss</th>\n",
              "      <th>accuracy</th>\n",
              "      <th>time</th>\n",
              "    </tr>\n",
              "  </thead>\n",
              "  <tbody>\n",
              "    <tr>\n",
              "      <td>0</td>\n",
              "      <td>0.652896</td>\n",
              "      <td>4.314492</td>\n",
              "      <td>0.409722</td>\n",
              "      <td>01:08</td>\n",
              "    </tr>\n",
              "    <tr>\n",
              "      <td>1</td>\n",
              "      <td>0.628839</td>\n",
              "      <td>4.392315</td>\n",
              "      <td>0.402778</td>\n",
              "      <td>01:09</td>\n",
              "    </tr>\n",
              "  </tbody>\n",
              "</table>"
            ],
            "text/plain": [
              "<IPython.core.display.HTML object>"
            ]
          },
          "metadata": {
            "tags": []
          }
        }
      ]
    },
    {
      "cell_type": "code",
      "metadata": {
        "id": "Duwf1Ih5VeDZ",
        "outputId": "98b5dc33-11da-42b5-9330-c98c7e5ab0ae",
        "colab": {
          "base_uri": "https://localhost:8080/",
          "height": 80
        }
      },
      "source": [
        "learn.fit_one_cycle(1, slice(2e-3/100, 2e-3))"
      ],
      "execution_count": 43,
      "outputs": [
        {
          "output_type": "display_data",
          "data": {
            "text/html": [
              "<table border=\"1\" class=\"dataframe\">\n",
              "  <thead>\n",
              "    <tr style=\"text-align: left;\">\n",
              "      <th>epoch</th>\n",
              "      <th>train_loss</th>\n",
              "      <th>valid_loss</th>\n",
              "      <th>accuracy</th>\n",
              "      <th>time</th>\n",
              "    </tr>\n",
              "  </thead>\n",
              "  <tbody>\n",
              "    <tr>\n",
              "      <td>0</td>\n",
              "      <td>0.669593</td>\n",
              "      <td>4.496497</td>\n",
              "      <td>0.381944</td>\n",
              "      <td>01:05</td>\n",
              "    </tr>\n",
              "  </tbody>\n",
              "</table>"
            ],
            "text/plain": [
              "<IPython.core.display.HTML object>"
            ]
          },
          "metadata": {
            "tags": []
          }
        }
      ]
    },
    {
      "cell_type": "code",
      "metadata": {
        "id": "c65d-osfDUXm"
      },
      "source": [
        "# save the best model\n",
        "\n",
        "learn.save_encoder('TwADR_pubmed_fold8')"
      ],
      "execution_count": 44,
      "outputs": []
    },
    {
      "cell_type": "code",
      "metadata": {
        "id": "5h-A_GpAIYg8",
        "outputId": "139a7702-f44d-4240-9a3d-64b1b660a22f",
        "colab": {
          "base_uri": "https://localhost:8080/",
          "height": 80
        }
      },
      "source": [
        "learn.fit_one_cycle(1, slice(2e-3/100, 2e-3))"
      ],
      "execution_count": 45,
      "outputs": [
        {
          "output_type": "display_data",
          "data": {
            "text/html": [
              "<table border=\"1\" class=\"dataframe\">\n",
              "  <thead>\n",
              "    <tr style=\"text-align: left;\">\n",
              "      <th>epoch</th>\n",
              "      <th>train_loss</th>\n",
              "      <th>valid_loss</th>\n",
              "      <th>accuracy</th>\n",
              "      <th>time</th>\n",
              "    </tr>\n",
              "  </thead>\n",
              "  <tbody>\n",
              "    <tr>\n",
              "      <td>0</td>\n",
              "      <td>0.565598</td>\n",
              "      <td>4.468367</td>\n",
              "      <td>0.381944</td>\n",
              "      <td>01:09</td>\n",
              "    </tr>\n",
              "  </tbody>\n",
              "</table>"
            ],
            "text/plain": [
              "<IPython.core.display.HTML object>"
            ]
          },
          "metadata": {
            "tags": []
          }
        }
      ]
    },
    {
      "cell_type": "code",
      "metadata": {
        "id": "qc4poYxzIwca",
        "outputId": "0bc461dd-d92c-4b03-9efb-009e8bd02b7a",
        "colab": {
          "base_uri": "https://localhost:8080/",
          "height": 80
        }
      },
      "source": [
        "learn.fit_one_cycle(1, slice(2e-3/100, 2e-3))"
      ],
      "execution_count": 46,
      "outputs": [
        {
          "output_type": "display_data",
          "data": {
            "text/html": [
              "<table border=\"1\" class=\"dataframe\">\n",
              "  <thead>\n",
              "    <tr style=\"text-align: left;\">\n",
              "      <th>epoch</th>\n",
              "      <th>train_loss</th>\n",
              "      <th>valid_loss</th>\n",
              "      <th>accuracy</th>\n",
              "      <th>time</th>\n",
              "    </tr>\n",
              "  </thead>\n",
              "  <tbody>\n",
              "    <tr>\n",
              "      <td>0</td>\n",
              "      <td>0.595061</td>\n",
              "      <td>4.574587</td>\n",
              "      <td>0.368056</td>\n",
              "      <td>01:08</td>\n",
              "    </tr>\n",
              "  </tbody>\n",
              "</table>"
            ],
            "text/plain": [
              "<IPython.core.display.HTML object>"
            ]
          },
          "metadata": {
            "tags": []
          }
        }
      ]
    },
    {
      "cell_type": "code",
      "metadata": {
        "id": "66s4PxV1JVfo",
        "outputId": "123e0275-9eca-4346-82eb-8e622d395adc",
        "colab": {
          "base_uri": "https://localhost:8080/",
          "height": 80
        }
      },
      "source": [
        "learn.fit_one_cycle(1, slice(2e-3/100, 2e-3))"
      ],
      "execution_count": 47,
      "outputs": [
        {
          "output_type": "display_data",
          "data": {
            "text/html": [
              "<table border=\"1\" class=\"dataframe\">\n",
              "  <thead>\n",
              "    <tr style=\"text-align: left;\">\n",
              "      <th>epoch</th>\n",
              "      <th>train_loss</th>\n",
              "      <th>valid_loss</th>\n",
              "      <th>accuracy</th>\n",
              "      <th>time</th>\n",
              "    </tr>\n",
              "  </thead>\n",
              "  <tbody>\n",
              "    <tr>\n",
              "      <td>0</td>\n",
              "      <td>0.574935</td>\n",
              "      <td>4.550220</td>\n",
              "      <td>0.381944</td>\n",
              "      <td>01:03</td>\n",
              "    </tr>\n",
              "  </tbody>\n",
              "</table>"
            ],
            "text/plain": [
              "<IPython.core.display.HTML object>"
            ]
          },
          "metadata": {
            "tags": []
          }
        }
      ]
    },
    {
      "cell_type": "markdown",
      "metadata": {
        "id": "rCwZU0E2RgM6"
      },
      "source": [
        "# Part three: Predict on the test dataset"
      ]
    },
    {
      "cell_type": "code",
      "metadata": {
        "id": "gDm72c-dOu7d",
        "outputId": "dd80f030-addb-4d1b-f2ce-7ef647a7b9ee",
        "colab": {
          "base_uri": "https://localhost:8080/",
          "height": 17
        }
      },
      "source": [
        "# use the test data for prediction\n",
        "\n",
        "preds, y = learn.get_preds(DatasetType.Test)"
      ],
      "execution_count": 48,
      "outputs": [
        {
          "output_type": "display_data",
          "data": {
            "text/html": [
              ""
            ],
            "text/plain": [
              "<IPython.core.display.HTML object>"
            ]
          },
          "metadata": {
            "tags": []
          }
        }
      ]
    },
    {
      "cell_type": "code",
      "metadata": {
        "id": "6tFSQcsWPvxn",
        "outputId": "925f997e-1690-4753-db2d-ccec99d0b261",
        "colab": {
          "base_uri": "https://localhost:8080/",
          "height": 105
        }
      },
      "source": [
        "predictions, *_ = learn.get_preds(DatasetType.Test)\n",
        "labels = np.argmax(predictions, 1)\n",
        "predict_list = labels.tolist()\n",
        "standard_list = test[0].tolist()\n",
        "\n",
        "print(len(predict_list))\n",
        "print(len(standard_list))\n",
        "\n",
        "print(predict_list)\n",
        "print(standard_list)"
      ],
      "execution_count": 49,
      "outputs": [
        {
          "output_type": "display_data",
          "data": {
            "text/html": [
              ""
            ],
            "text/plain": [
              "<IPython.core.display.HTML object>"
            ]
          },
          "metadata": {
            "tags": []
          }
        },
        {
          "output_type": "stream",
          "text": [
            "142\n",
            "142\n",
            "[1230, 978, 1265, 224, 852, 224, 1936, 2147, 2147, 249, 1327, 1787, 1787, 14, 978, 1099, 947, 109, 596, 1227, 1373, 1810, 706, 1718, 744, 744, 1417, 749, 749, 749, 749, 815, 792, 792, 792, 1727, 1787, 824, 1884, 1884, 265, 2010, 1769, 974, 978, 1283, 749, 1089, 187, 2023, 2002, 1099, 1091, 1099, 1099, 1136, 1192, 1884, 852, 1003, 1227, 1265, 1682, 1295, 1295, 1308, 1308, 1308, 1308, 1669, 1373, 1279, 224, 1340, 1973, 1175, 1483, 1483, 852, 1508, 611, 520, 2194, 1701, 1529, 1062, 561, 1529, 2032, 1573, 791, 393, 791, 1597, 1356, 1597, 791, 1531, 1196, 1545, 13, 852, 1767, 1727, 1798, 2023, 1727, 1718, 2079, 2032, 393, 2032, 2032, 2079, 2032, 1815, 1545, 2149, 1936, 978, 1463, 966, 1295, 1942, 1578, 2032, 2032, 2032, 852, 189, 760, 1531, 1877, 2113, 2113, 2010, 2147, 2149, 2149, 791, 1669, 1787]\n",
            "[24, 94, 154, 195, 195, 224, 233, 233, 233, 249, 371, 393, 393, 402, 418, 426, 426, 441, 445, 561, 582, 645, 706, 720, 744, 744, 749, 749, 749, 749, 749, 767, 792, 792, 792, 792, 818, 824, 825, 825, 839, 858, 913, 974, 978, 1061, 1064, 1089, 1096, 1099, 1099, 1099, 1099, 1099, 1099, 1136, 1192, 1192, 1199, 1213, 1227, 1265, 1290, 1295, 1295, 1308, 1308, 1308, 1308, 1325, 1325, 1340, 1340, 1340, 1356, 1432, 1483, 1483, 1507, 1508, 1518, 1519, 1521, 1526, 1529, 1529, 1529, 1529, 1529, 1573, 1597, 1597, 1597, 1597, 1597, 1597, 1597, 1682, 1718, 1718, 1718, 1718, 1718, 1718, 1718, 1767, 1767, 1767, 1787, 1787, 1787, 1787, 1787, 1787, 1787, 1815, 1932, 1936, 1936, 1936, 1940, 1940, 1942, 1942, 2023, 2032, 2032, 2032, 2048, 2048, 2066, 2074, 2103, 2113, 2113, 2147, 2147, 2149, 2149, 2149, 2168, 2191]\n"
          ],
          "name": "stdout"
        }
      ]
    },
    {
      "cell_type": "code",
      "metadata": {
        "id": "XIC4zufnMxtq",
        "outputId": "c3d2ef33-5303-4dda-d631-3a3ab9dfe5af",
        "colab": {
          "base_uri": "https://localhost:8080/"
        }
      },
      "source": [
        "correct_num = 0\n",
        "\n",
        "for i in range(0, len(standard_list)):\n",
        "  if predict_list[i] == standard_list[i]:\n",
        "    correct_num = correct_num+1\n",
        "  else:\n",
        "    pass\n",
        "print(correct_num)\n",
        "\n",
        "predict_accuracy = correct_num/len(predict_list)\n",
        "print(predict_accuracy)"
      ],
      "execution_count": 50,
      "outputs": [
        {
          "output_type": "stream",
          "text": [
            "49\n",
            "0.34507042253521125\n"
          ],
          "name": "stdout"
        }
      ]
    },
    {
      "cell_type": "code",
      "metadata": {
        "id": "zlKMHp1CIaRJ"
      },
      "source": [
        ""
      ],
      "execution_count": 50,
      "outputs": []
    }
  ]
}