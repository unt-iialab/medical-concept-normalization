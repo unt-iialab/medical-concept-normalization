{
  "nbformat": 4,
  "nbformat_minor": 0,
  "metadata": {
    "accelerator": "TPU",
    "colab": {
      "name": "pubmed_ask_08.ipynb",
      "provenance": [],
      "collapsed_sections": [],
      "include_colab_link": true
    },
    "kernelspec": {
      "display_name": "Python 3",
      "name": "python3"
    }
  },
  "cells": [
    {
      "cell_type": "markdown",
      "metadata": {
        "id": "view-in-github",
        "colab_type": "text"
      },
      "source": [
        "<a href=\"https://colab.research.google.com/github/unt-iialab/medical-concept-normalization/blob/master/medical-concept-normalization/fine-tuning-experiments/askpatient/pubmed_ask_08.ipynb\" target=\"_parent\"><img src=\"https://colab.research.google.com/assets/colab-badge.svg\" alt=\"Open In Colab\"/></a>"
      ]
    },
    {
      "cell_type": "code",
      "metadata": {
        "id": "adSi6i2-dWxy"
      },
      "source": [
        "import os"
      ],
      "execution_count": 1,
      "outputs": []
    },
    {
      "cell_type": "code",
      "metadata": {
        "id": "E7xYCRGPjd9B"
      },
      "source": [
        "base_dir = 'medical-concept-normalization'"
      ],
      "execution_count": 2,
      "outputs": []
    },
    {
      "cell_type": "code",
      "metadata": {
        "id": "yvIW3aUDjYNS"
      },
      "source": [
        "os.mkdir(base_dir)"
      ],
      "execution_count": 3,
      "outputs": []
    },
    {
      "cell_type": "code",
      "metadata": {
        "id": "es-FFLlfk6SG"
      },
      "source": [
        "os.mkdir('medical-concept-normalization/data_collection')"
      ],
      "execution_count": 4,
      "outputs": []
    },
    {
      "cell_type": "markdown",
      "metadata": {
        "id": "0R-Guw_VoJXm"
      },
      "source": [
        "**Install fastai and clone the fastai for text classification**\n",
        "\n"
      ]
    },
    {
      "cell_type": "code",
      "metadata": {
        "id": "QVZa3Z0PmHFH",
        "outputId": "f3564c11-2777-464c-f4fd-5644197bbdd2",
        "colab": {
          "base_uri": "https://localhost:8080/"
        }
      },
      "source": [
        "!curl https://course-v3.fast.ai/setup/colab | bash"
      ],
      "execution_count": 5,
      "outputs": [
        {
          "output_type": "stream",
          "text": [
            "  % Total    % Received % Xferd  Average Speed   Time    Time     Time  Current\n",
            "                                 Dload  Upload   Total   Spent    Left  Speed\n",
            "  0     0    0     0    0     0      0      0 --:--:--  0:00:04 --:--:--     0curl: (6) Could not resolve host: course-v3.fast.ai\n"
          ],
          "name": "stdout"
        }
      ]
    },
    {
      "cell_type": "code",
      "metadata": {
        "id": "_FBFFEBrmJC0",
        "outputId": "fcda62ab-11bf-4bf2-fc1b-5b3fc1d465c6",
        "colab": {
          "base_uri": "https://localhost:8080/"
        }
      },
      "source": [
        "!git clone https://github.com/wshuyi/demo-nlp-classification-fastai.git"
      ],
      "execution_count": 6,
      "outputs": [
        {
          "output_type": "stream",
          "text": [
            "Cloning into 'demo-nlp-classification-fastai'...\n",
            "remote: Enumerating objects: 9, done.\u001b[K\n",
            "remote: Total 9 (delta 0), reused 0 (delta 0), pack-reused 9\u001b[K\n",
            "Unpacking objects: 100% (9/9), done.\n"
          ],
          "name": "stdout"
        }
      ]
    },
    {
      "cell_type": "code",
      "metadata": {
        "id": "66zfh_JqmWMU"
      },
      "source": [
        "from fastai import *\n",
        "from fastai.text import *"
      ],
      "execution_count": 7,
      "outputs": []
    },
    {
      "cell_type": "markdown",
      "metadata": {
        "id": "mNIw-yALdBU9"
      },
      "source": [
        "**Set the path of the data collections**"
      ]
    },
    {
      "cell_type": "code",
      "metadata": {
        "id": "pzH7VMh4mqCL"
      },
      "source": [
        "path = Path('medical-concept-normalization/data_collection')"
      ],
      "execution_count": 8,
      "outputs": []
    },
    {
      "cell_type": "code",
      "metadata": {
        "id": "b8fjI6yyn4aS"
      },
      "source": [
        "# training data set\n",
        "\n",
        "train_csv = path/'AskAPatient.fold-8.train.csv'\n",
        "train = pd.read_csv(train_csv, header=None)\n",
        "#train.head()\n",
        "#train.info()"
      ],
      "execution_count": 10,
      "outputs": []
    },
    {
      "cell_type": "code",
      "metadata": {
        "id": "Hmlr-bAorfHd",
        "outputId": "8788ed54-67b5-447f-ac12-4d8622704d22",
        "colab": {
          "base_uri": "https://localhost:8080/",
          "height": 204
        }
      },
      "source": [
        "# validating data set\n",
        "\n",
        "valid = pd.read_csv(path/\"AskAPatient.fold-8.validation.csv\",header=None)\n",
        "valid.head()"
      ],
      "execution_count": 11,
      "outputs": [
        {
          "output_type": "execute_result",
          "data": {
            "text/html": [
              "<div>\n",
              "<style scoped>\n",
              "    .dataframe tbody tr th:only-of-type {\n",
              "        vertical-align: middle;\n",
              "    }\n",
              "\n",
              "    .dataframe tbody tr th {\n",
              "        vertical-align: top;\n",
              "    }\n",
              "\n",
              "    .dataframe thead th {\n",
              "        text-align: right;\n",
              "    }\n",
              "</style>\n",
              "<table border=\"1\" class=\"dataframe\">\n",
              "  <thead>\n",
              "    <tr style=\"text-align: right;\">\n",
              "      <th></th>\n",
              "      <th>0</th>\n",
              "      <th>1</th>\n",
              "    </tr>\n",
              "  </thead>\n",
              "  <tbody>\n",
              "    <tr>\n",
              "      <th>0</th>\n",
              "      <td>0</td>\n",
              "      <td>scared to death</td>\n",
              "    </tr>\n",
              "    <tr>\n",
              "      <th>1</th>\n",
              "      <td>2</td>\n",
              "      <td>heel pain</td>\n",
              "    </tr>\n",
              "    <tr>\n",
              "      <th>2</th>\n",
              "      <td>5</td>\n",
              "      <td>increased heart rate</td>\n",
              "    </tr>\n",
              "    <tr>\n",
              "      <th>3</th>\n",
              "      <td>6</td>\n",
              "      <td>stage 1 diastolic dysfunction</td>\n",
              "    </tr>\n",
              "    <tr>\n",
              "      <th>4</th>\n",
              "      <td>8</td>\n",
              "      <td>arthritis</td>\n",
              "    </tr>\n",
              "  </tbody>\n",
              "</table>\n",
              "</div>"
            ],
            "text/plain": [
              "   0                              1\n",
              "0  0                scared to death\n",
              "1  2                      heel pain\n",
              "2  5           increased heart rate\n",
              "3  6  stage 1 diastolic dysfunction\n",
              "4  8                      arthritis"
            ]
          },
          "metadata": {
            "tags": []
          },
          "execution_count": 11
        }
      ]
    },
    {
      "cell_type": "code",
      "metadata": {
        "id": "cOza9dfSsBud",
        "outputId": "ddeb23f0-8249-4f8f-ae2c-859076153e72",
        "colab": {
          "base_uri": "https://localhost:8080/",
          "height": 204
        }
      },
      "source": [
        "# testing data set\n",
        "\n",
        "test = pd.read_csv(path/\"AskAPatient.fold-8.test.csv\",header=None)\n",
        "test.head()"
      ],
      "execution_count": 12,
      "outputs": [
        {
          "output_type": "execute_result",
          "data": {
            "text/html": [
              "<div>\n",
              "<style scoped>\n",
              "    .dataframe tbody tr th:only-of-type {\n",
              "        vertical-align: middle;\n",
              "    }\n",
              "\n",
              "    .dataframe tbody tr th {\n",
              "        vertical-align: top;\n",
              "    }\n",
              "\n",
              "    .dataframe thead th {\n",
              "        text-align: right;\n",
              "    }\n",
              "</style>\n",
              "<table border=\"1\" class=\"dataframe\">\n",
              "  <thead>\n",
              "    <tr style=\"text-align: right;\">\n",
              "      <th></th>\n",
              "      <th>0</th>\n",
              "      <th>1</th>\n",
              "    </tr>\n",
              "  </thead>\n",
              "  <tbody>\n",
              "    <tr>\n",
              "      <th>0</th>\n",
              "      <td>1</td>\n",
              "      <td>Abdominal rash</td>\n",
              "    </tr>\n",
              "    <tr>\n",
              "      <th>1</th>\n",
              "      <td>5</td>\n",
              "      <td>increase my heart rate</td>\n",
              "    </tr>\n",
              "    <tr>\n",
              "      <th>2</th>\n",
              "      <td>5</td>\n",
              "      <td>tachycardia</td>\n",
              "    </tr>\n",
              "    <tr>\n",
              "      <th>3</th>\n",
              "      <td>8</td>\n",
              "      <td>arthritis</td>\n",
              "    </tr>\n",
              "    <tr>\n",
              "      <th>4</th>\n",
              "      <td>8</td>\n",
              "      <td>arthritis</td>\n",
              "    </tr>\n",
              "  </tbody>\n",
              "</table>\n",
              "</div>"
            ],
            "text/plain": [
              "   0                       1\n",
              "0  1          Abdominal rash\n",
              "1  5  increase my heart rate\n",
              "2  5             tachycardia\n",
              "3  8               arthritis\n",
              "4  8               arthritis"
            ]
          },
          "metadata": {
            "tags": []
          },
          "execution_count": 12
        }
      ]
    },
    {
      "cell_type": "code",
      "metadata": {
        "id": "Vo-YNvVYoaH6",
        "outputId": "b4ee8d1a-26eb-44a9-c6af-736852f66eda",
        "colab": {
          "base_uri": "https://localhost:8080/",
          "height": 17
        }
      },
      "source": [
        "# Creating DataBunch for language modelling\n",
        "\n",
        "data_lm = TextLMDataBunch.from_csv(path, 'pubmed_ask.csv')"
      ],
      "execution_count": 13,
      "outputs": [
        {
          "output_type": "display_data",
          "data": {
            "text/html": [
              ""
            ],
            "text/plain": [
              "<IPython.core.display.HTML object>"
            ]
          },
          "metadata": {
            "tags": []
          }
        },
        {
          "output_type": "display_data",
          "data": {
            "text/html": [
              ""
            ],
            "text/plain": [
              "<IPython.core.display.HTML object>"
            ]
          },
          "metadata": {
            "tags": []
          }
        }
      ]
    },
    {
      "cell_type": "code",
      "metadata": {
        "id": "qcV-9kMnNLBf"
      },
      "source": [
        ""
      ],
      "execution_count": 13,
      "outputs": []
    },
    {
      "cell_type": "code",
      "metadata": {
        "id": "1ScY9afDsnvE"
      },
      "source": [
        "# Creating DataBunch for classification\n",
        "\n",
        "# data_clas = TextClasDataBunch.from_df(path, train, valid, test, vocab=data_lm.train_ds.vocab, bs=128)"
      ],
      "execution_count": 14,
      "outputs": []
    },
    {
      "cell_type": "code",
      "metadata": {
        "id": "gzrSdQcvey9p",
        "outputId": "6f08dbf5-0621-4dfb-df34-41e4d92715d1",
        "colab": {
          "base_uri": "https://localhost:8080/",
          "height": 17
        }
      },
      "source": [
        "data_clas = TextClasDataBunch.from_df(path, train, valid, vocab=data_lm.train_ds.vocab, bs=128)"
      ],
      "execution_count": 15,
      "outputs": [
        {
          "output_type": "display_data",
          "data": {
            "text/html": [
              ""
            ],
            "text/plain": [
              "<IPython.core.display.HTML object>"
            ]
          },
          "metadata": {
            "tags": []
          }
        },
        {
          "output_type": "display_data",
          "data": {
            "text/html": [
              ""
            ],
            "text/plain": [
              "<IPython.core.display.HTML object>"
            ]
          },
          "metadata": {
            "tags": []
          }
        }
      ]
    },
    {
      "cell_type": "code",
      "metadata": {
        "id": "MD27Tf0Ke3ou",
        "outputId": "72a2d793-7bf6-4bc6-cde5-04d5418fda9a",
        "colab": {
          "base_uri": "https://localhost:8080/",
          "height": 17
        }
      },
      "source": [
        "data_clas.add_test(test,label=0)\n"
      ],
      "execution_count": 16,
      "outputs": [
        {
          "output_type": "display_data",
          "data": {
            "text/html": [
              ""
            ],
            "text/plain": [
              "<IPython.core.display.HTML object>"
            ]
          },
          "metadata": {
            "tags": []
          }
        }
      ]
    },
    {
      "cell_type": "code",
      "metadata": {
        "id": "-dpjnk_rstwk"
      },
      "source": [
        "data_lm.save()\n",
        "data_clas.save()"
      ],
      "execution_count": 17,
      "outputs": []
    },
    {
      "cell_type": "code",
      "metadata": {
        "id": "4OkiJa36sw5s",
        "outputId": "fb7fce6c-f90e-40b5-c2cc-2cac576b0ee9",
        "colab": {
          "base_uri": "https://localhost:8080/"
        }
      },
      "source": [
        "data_lm.train_ds.vocab.itos"
      ],
      "execution_count": 18,
      "outputs": [
        {
          "output_type": "execute_result",
          "data": {
            "text/plain": [
              "['xxunk',\n",
              " 'xxpad',\n",
              " 'xxbos',\n",
              " 'xxeos',\n",
              " 'xxfld',\n",
              " 'xxmaj',\n",
              " 'xxup',\n",
              " 'xxrep',\n",
              " 'xxwrep',\n",
              " 'pain',\n",
              " 'of',\n",
              " 'the',\n",
              " 'in',\n",
              " 'lipitor',\n",
              " 'and',\n",
              " 'to',\n",
              " 'muscle',\n",
              " 'a',\n",
              " 'was',\n",
              " 'diclofenac',\n",
              " 'with',\n",
              " 'were',\n",
              " 'severe',\n",
              " 'for',\n",
              " 'myalgia',\n",
              " 'lower',\n",
              " 'my',\n",
              " 'fatigue',\n",
              " 'loss',\n",
              " 'weakness',\n",
              " 'sodium',\n",
              " 'cramp',\n",
              " 'limb',\n",
              " 'on',\n",
              " 'by',\n",
              " 'stomach',\n",
              " '-',\n",
              " 'depression',\n",
              " 'back',\n",
              " 'is',\n",
              " 'at',\n",
              " 'cramps',\n",
              " 'patients',\n",
              " 'that',\n",
              " 'as',\n",
              " 'joint',\n",
              " 'upper',\n",
              " 'gas',\n",
              " 'memory',\n",
              " 'or',\n",
              " 'leg',\n",
              " 'drug',\n",
              " 'mg',\n",
              " 'legs',\n",
              " 'pains',\n",
              " 'knee',\n",
              " 'headache',\n",
              " 'from',\n",
              " 'shoulder',\n",
              " 'unable',\n",
              " 'group',\n",
              " 'not',\n",
              " 'arthralgia',\n",
              " 'gastrointestinal',\n",
              " 'neck',\n",
              " 'study',\n",
              " 'foot',\n",
              " 'treatment',\n",
              " 'excessive',\n",
              " 'all',\n",
              " 'arthritis',\n",
              " 'aches',\n",
              " 'this',\n",
              " 'hip',\n",
              " 'after',\n",
              " 'voltaren',\n",
              " 'insomnia',\n",
              " 'numbness',\n",
              " 'disease',\n",
              " 'arthrotec',\n",
              " 'release',\n",
              " 'p',\n",
              " 'nausea',\n",
              " 'increased',\n",
              " 'both',\n",
              " '/',\n",
              " 'bleeding',\n",
              " 'asthenia',\n",
              " 'walk',\n",
              " 'abdominal',\n",
              " 'swelling',\n",
              " 'be',\n",
              " 'an',\n",
              " 'heart',\n",
              " 'like',\n",
              " 'tired',\n",
              " 'feeling',\n",
              " 'skin',\n",
              " 'dizziness',\n",
              " 'no',\n",
              " 'problems',\n",
              " 'walking',\n",
              " 'than',\n",
              " 'high',\n",
              " 'time',\n",
              " 'blood',\n",
              " 'feet',\n",
              " 'difficulty',\n",
              " 'hand',\n",
              " 'are',\n",
              " 'muscles',\n",
              " 'compared',\n",
              " 'effect',\n",
              " 'chest',\n",
              " 'backache',\n",
              " 'extreme',\n",
              " 'cholesterol',\n",
              " 'low',\n",
              " 'ache',\n",
              " 'stiffness',\n",
              " 'vision',\n",
              " 'inflammatory',\n",
              " 'burning',\n",
              " 'acid',\n",
              " 'hair',\n",
              " 'using',\n",
              " 'could',\n",
              " 'i',\n",
              " 'zocor',\n",
              " 'very',\n",
              " 'weight',\n",
              " 'liver',\n",
              " 'effects',\n",
              " 'sleep',\n",
              " 'pins',\n",
              " 'needles',\n",
              " 'diarrhoea',\n",
              " 'groups',\n",
              " 'amnesia',\n",
              " 'significantly',\n",
              " 'cramping',\n",
              " 'between',\n",
              " 'significant',\n",
              " 'concentration',\n",
              " 'two',\n",
              " 'impairment',\n",
              " 'h',\n",
              " 'drugs',\n",
              " 'short',\n",
              " 'term',\n",
              " 'potassium',\n",
              " 'c',\n",
              " 'tingling',\n",
              " 'anti',\n",
              " 'calf',\n",
              " 'left',\n",
              " 'disability',\n",
              " 'anxiety',\n",
              " 'symptom',\n",
              " 'can',\n",
              " 'up',\n",
              " 'lack',\n",
              " 'used',\n",
              " 'pressure',\n",
              " 'dose',\n",
              " 'placebo',\n",
              " 'stiff',\n",
              " 'day',\n",
              " 'which',\n",
              " 'these',\n",
              " 'constipation',\n",
              " 'results',\n",
              " 'bloating',\n",
              " 'arm',\n",
              " 'had',\n",
              " 'poor',\n",
              " 'disorder',\n",
              " 'efficacy',\n",
              " 'hands',\n",
              " 'one',\n",
              " 'it',\n",
              " 'more',\n",
              " 'ds',\n",
              " 'acute',\n",
              " 'headaches',\n",
              " 'arms',\n",
              " 'reduced',\n",
              " 'neuropathy',\n",
              " 'have',\n",
              " 'has',\n",
              " 'ml',\n",
              " 'treated',\n",
              " 'we',\n",
              " 'over',\n",
              " 'balance',\n",
              " 'sore',\n",
              " 'showed',\n",
              " 'tiredness',\n",
              " 'blurred',\n",
              " 'body',\n",
              " 'days',\n",
              " 'ankle',\n",
              " 'serum',\n",
              " 'visual',\n",
              " 'joints',\n",
              " 'also',\n",
              " 'topical',\n",
              " 'myocardial',\n",
              " 'different',\n",
              " 'renal',\n",
              " 'pravachol',\n",
              " 'rash',\n",
              " 'infarction',\n",
              " 'control',\n",
              " 'sensation',\n",
              " 'rats',\n",
              " 'been',\n",
              " 'administration',\n",
              " 'studies',\n",
              " 'but',\n",
              " 'oral',\n",
              " 'mentally',\n",
              " 'vaginal',\n",
              " 'during',\n",
              " 'generalised',\n",
              " 'swollen',\n",
              " 'into',\n",
              " 'myositis',\n",
              " 'rate',\n",
              " 'vertigo',\n",
              " 'attack',\n",
              " 'itching',\n",
              " 'diabetes',\n",
              " 'energy',\n",
              " 'atrophy',\n",
              " 'hurt',\n",
              " \"'s\",\n",
              " 's',\n",
              " 'constant',\n",
              " 'decreased',\n",
              " 'respectively',\n",
              " ',',\n",
              " 'painful',\n",
              " 'plasma',\n",
              " 'upset',\n",
              " 'when',\n",
              " 'nsaids',\n",
              " 'levels',\n",
              " 'damage',\n",
              " 'formulation',\n",
              " 'well',\n",
              " 'tablets',\n",
              " 'formulations',\n",
              " 'induced',\n",
              " 'non',\n",
              " 'clinical',\n",
              " 'dry',\n",
              " 'diarrhea',\n",
              " 'use',\n",
              " 'ubidecarenone',\n",
              " 'right',\n",
              " 'gel',\n",
              " 'out',\n",
              " 'there',\n",
              " 'their',\n",
              " 'atorvastatin',\n",
              " 'method',\n",
              " ')',\n",
              " 'gain',\n",
              " 'dull',\n",
              " 'found',\n",
              " 'observed',\n",
              " 'type',\n",
              " 'raised',\n",
              " 'illness',\n",
              " 'mean',\n",
              " 'syndrome',\n",
              " 'may',\n",
              " 'other',\n",
              " 'spasm',\n",
              " 'present',\n",
              " 'elevated',\n",
              " 'effective',\n",
              " 'urine',\n",
              " 'solution',\n",
              " 'influenza',\n",
              " 'g',\n",
              " 'ph',\n",
              " 'weak',\n",
              " 'three',\n",
              " 'movement',\n",
              " 'eye',\n",
              " \"n't\",\n",
              " 'elbow',\n",
              " 'hours',\n",
              " 'period',\n",
              " 'its',\n",
              " 'shoulders',\n",
              " 'tablet',\n",
              " 'heavy',\n",
              " 'hazy',\n",
              " 'ibuprofen',\n",
              " 'tendonitis',\n",
              " 'crestor',\n",
              " 'received',\n",
              " 'kidney',\n",
              " '(',\n",
              " 'n',\n",
              " 'symptoms',\n",
              " 'chronic',\n",
              " 'discomfort',\n",
              " 'abnormal',\n",
              " 'controlled',\n",
              " 'sleeping',\n",
              " 'kg',\n",
              " 'adverse',\n",
              " 'activity',\n",
              " 'analysis',\n",
              " 'm',\n",
              " 'vitro',\n",
              " 'mood',\n",
              " 'toe',\n",
              " 'function',\n",
              " 'knees',\n",
              " 'concentrate',\n",
              " 'd',\n",
              " 'spasms',\n",
              " 'feel',\n",
              " 'each',\n",
              " 'irritable',\n",
              " 'migraine',\n",
              " 'first',\n",
              " 'myopathy',\n",
              " 'analgesic',\n",
              " 'level',\n",
              " 'flatulence',\n",
              " 'vomiting',\n",
              " 'system',\n",
              " 'increase',\n",
              " 'concentrations',\n",
              " 'less',\n",
              " 'bad',\n",
              " 'exhaustion',\n",
              " 'side',\n",
              " 'however',\n",
              " 'data',\n",
              " 'mild',\n",
              " 'sclerosis',\n",
              " 'inflammation',\n",
              " 'fibromyalgia',\n",
              " 'reflux',\n",
              " 'total',\n",
              " 'bed',\n",
              " 'randomized',\n",
              " 'l',\n",
              " 'daily',\n",
              " 'libido',\n",
              " 'injury',\n",
              " 'evaluated',\n",
              " 'similar',\n",
              " 'throat',\n",
              " 'thigh',\n",
              " 'single',\n",
              " 'model',\n",
              " 'patient',\n",
              " 'problem',\n",
              " 'get',\n",
              " 'mellitus',\n",
              " 'only',\n",
              " 'following',\n",
              " 'cold',\n",
              " 'b',\n",
              " 'eyes',\n",
              " 'multiple',\n",
              " 'higher',\n",
              " 'double',\n",
              " 'simvastatin',\n",
              " 'surgery',\n",
              " 'sweating',\n",
              " 'obtained',\n",
              " 'changes',\n",
              " 'week',\n",
              " 'flu',\n",
              " 'dissolution',\n",
              " 'test',\n",
              " 'water',\n",
              " 'difference',\n",
              " 'most',\n",
              " 'nsaid',\n",
              " 'so',\n",
              " 't',\n",
              " 'menstrual',\n",
              " 'postoperative',\n",
              " 'oil',\n",
              " 'osteoarthritis',\n",
              " 'based',\n",
              " 'due',\n",
              " 'cells',\n",
              " 'swings',\n",
              " 'did',\n",
              " 'malaise',\n",
              " 'lightheadedness',\n",
              " 'therapy',\n",
              " 'blind',\n",
              " 'aching',\n",
              " 'disturbance',\n",
              " 'appetite',\n",
              " 'soreness',\n",
              " 'impaired',\n",
              " 'while',\n",
              " 'wind',\n",
              " 'brain',\n",
              " 'confusion',\n",
              " 'weeks',\n",
              " 'hips',\n",
              " 'tremor',\n",
              " 'administered',\n",
              " 'combination',\n",
              " 'associated',\n",
              " 'x',\n",
              " 'under',\n",
              " 'those',\n",
              " 'peripheral',\n",
              " 'performed',\n",
              " 'failure',\n",
              " 'tinnitus',\n",
              " 'reported',\n",
              " 'general',\n",
              " 'celebrex',\n",
              " 'relief',\n",
              " 'gastric',\n",
              " 'head',\n",
              " 'calves',\n",
              " 'ezetimibe',\n",
              " 'before',\n",
              " 'studied',\n",
              " 'min',\n",
              " 'finger',\n",
              " 'paraesthesia',\n",
              " 'vs',\n",
              " 'coated',\n",
              " 'application',\n",
              " 'trial',\n",
              " 'esters',\n",
              " 'cell',\n",
              " 'parkinson',\n",
              " 'nonsteroidal',\n",
              " 'response',\n",
              " 'values',\n",
              " 'prepared',\n",
              " 'stairs',\n",
              " 'who',\n",
              " 'rapid',\n",
              " 'e',\n",
              " 'area',\n",
              " 'times',\n",
              " 'events',\n",
              " 'off',\n",
              " 'rheumatoid',\n",
              " 'swallowing',\n",
              " 'cough',\n",
              " 'charleyhorse',\n",
              " 'stress',\n",
              " 'phase',\n",
              " 'motivation',\n",
              " 'indigestion',\n",
              " 'differences',\n",
              " 'ascorbic',\n",
              " 'absorption',\n",
              " 'face',\n",
              " 'toes',\n",
              " 'developed',\n",
              " 'infection',\n",
              " 'given',\n",
              " 'intense',\n",
              " 'hot',\n",
              " 'order',\n",
              " 'strength',\n",
              " 'post',\n",
              " 'lateral',\n",
              " 'doses',\n",
              " 'conditions',\n",
              " 'enzymes',\n",
              " 'paracetamol',\n",
              " 'subjects',\n",
              " 'ratio',\n",
              " 'v',\n",
              " 'restless',\n",
              " 'properties',\n",
              " 'w',\n",
              " 'four',\n",
              " 'excruciating',\n",
              " 'change',\n",
              " 'urinary',\n",
              " 'vitamin',\n",
              " 'measured',\n",
              " 'reduction',\n",
              " 'new',\n",
              " 'dyspnoea',\n",
              " 'investigated',\n",
              " 'tendon',\n",
              " 'containing',\n",
              " 'palpitations',\n",
              " 'ca',\n",
              " 'assessed',\n",
              " 'years',\n",
              " 'dark',\n",
              " 'ankles',\n",
              " 'felt',\n",
              " 'range',\n",
              " 'auc',\n",
              " 'parameters',\n",
              " 'speech',\n",
              " 'within',\n",
              " 'safety',\n",
              " 'statistically',\n",
              " 'steroidal',\n",
              " 'without',\n",
              " 'nerve',\n",
              " 'fingers',\n",
              " 'through',\n",
              " 'indomethacin',\n",
              " 'taste',\n",
              " 'gout',\n",
              " 'ng',\n",
              " 'either',\n",
              " 'such',\n",
              " 'heel',\n",
              " 'menopause',\n",
              " 'scale',\n",
              " 'size',\n",
              " 'mm',\n",
              " 'edema',\n",
              " 'delivery',\n",
              " 'lupus',\n",
              " 'clearly',\n",
              " 'major',\n",
              " 'depressed',\n",
              " 'decrease',\n",
              " 'compare',\n",
              " 'creatinine',\n",
              " 'included',\n",
              " 'potential',\n",
              " 'number',\n",
              " 'injection',\n",
              " 'twitch',\n",
              " 'liquid',\n",
              " 'related',\n",
              " 'baseline',\n",
              " 'down',\n",
              " 'vivo',\n",
              " 'ulcer',\n",
              " 'determined',\n",
              " 'primary',\n",
              " 'limbs',\n",
              " 'oa',\n",
              " 'form',\n",
              " 'k',\n",
              " 'wrist',\n",
              " 'development',\n",
              " 'scores',\n",
              " 'misoprostol',\n",
              " 'samples',\n",
              " 'overall',\n",
              " 'active',\n",
              " 'medication',\n",
              " 'fish',\n",
              " 'aqueous',\n",
              " 'good',\n",
              " 'terrible',\n",
              " 'tissue',\n",
              " 'colic',\n",
              " 'tightness',\n",
              " 'greater',\n",
              " 'dreams',\n",
              " 'therapeutic',\n",
              " 'drowsy',\n",
              " 'healthy',\n",
              " 'reaction',\n",
              " 'ii',\n",
              " 'they',\n",
              " 'night',\n",
              " 'ability',\n",
              " 'normal',\n",
              " 'co',\n",
              " 'applied',\n",
              " 'mouth',\n",
              " 'process',\n",
              " 'light',\n",
              " 'moderate',\n",
              " 'fenofibrate',\n",
              " 'some',\n",
              " 'any',\n",
              " 'fever',\n",
              " 'tolerability',\n",
              " 'evaluate',\n",
              " 'breath',\n",
              " 'trouble',\n",
              " 'better',\n",
              " 'amyotrophic',\n",
              " 'minutes',\n",
              " 'bone',\n",
              " 'breathing',\n",
              " 'aspirin',\n",
              " 'think',\n",
              " 'heartburn',\n",
              " 'products',\n",
              " 'sustained',\n",
              " 'sinus',\n",
              " 'bioavailability',\n",
              " 'action',\n",
              " 'addition',\n",
              " 'dependent',\n",
              " 'provoked',\n",
              " 'uterine',\n",
              " 'always',\n",
              " 'cox',\n",
              " 'tract',\n",
              " 'matrix',\n",
              " 'every',\n",
              " 'hypertension',\n",
              " 'human',\n",
              " 'about',\n",
              " 'fog',\n",
              " 'inhibitor',\n",
              " 'polymer',\n",
              " 'bowel',\n",
              " 'our',\n",
              " 'nasal',\n",
              " 'revealed',\n",
              " 'demonstrated',\n",
              " 'mice',\n",
              " 'move',\n",
              " 'o',\n",
              " 'being',\n",
              " 'advil',\n",
              " 'per',\n",
              " 'dosage',\n",
              " 'presence',\n",
              " 'tylenol',\n",
              " 'twitching',\n",
              " 'mobility',\n",
              " 'intensity',\n",
              " 'exercise',\n",
              " 'facial',\n",
              " 'treatments',\n",
              " 'animals',\n",
              " 'coq10',\n",
              " 'alone',\n",
              " 'horses',\n",
              " 'various',\n",
              " 'risk',\n",
              " 'although',\n",
              " 'generally',\n",
              " 'cerebrovascular',\n",
              " '+',\n",
              " 'cancer',\n",
              " 'initial',\n",
              " 'suggest',\n",
              " 'aim',\n",
              " 'tight',\n",
              " 'alpha',\n",
              " 'aleve',\n",
              " 'inhibition',\n",
              " 'loose',\n",
              " 'physical',\n",
              " 'thighs',\n",
              " 'trials',\n",
              " 'tolerance',\n",
              " 'long',\n",
              " 'permeation',\n",
              " 'attacks',\n",
              " 'improvement',\n",
              " 'formation',\n",
              " 'score',\n",
              " 'indicated',\n",
              " 'shown',\n",
              " 'profiles',\n",
              " 'hardly',\n",
              " 'exposure',\n",
              " 'protein',\n",
              " 'end',\n",
              " 'surface',\n",
              " 'six',\n",
              " 'na',\n",
              " 'agent',\n",
              " 'accident',\n",
              " 'finding',\n",
              " 'same',\n",
              " 'onset',\n",
              " 'volunteers',\n",
              " 'charley',\n",
              " 'further',\n",
              " 'numb',\n",
              " 'free',\n",
              " 'plantar',\n",
              " 'moody',\n",
              " 'tricor',\n",
              " 'content',\n",
              " 'me',\n",
              " 'sugar',\n",
              " 'mechanism',\n",
              " 'pulse',\n",
              " 'agents',\n",
              " 'months',\n",
              " 'extremity',\n",
              " 'case',\n",
              " 'including',\n",
              " 'male',\n",
              " 'oedema',\n",
              " 'hour',\n",
              " 'randomly',\n",
              " 'divided',\n",
              " 'then',\n",
              " 'whereas',\n",
              " 'followed',\n",
              " 'cm',\n",
              " 'microspheres',\n",
              " 'fast',\n",
              " 'elbows',\n",
              " 'lethargy',\n",
              " 'complex',\n",
              " 'systemic',\n",
              " 'experimental',\n",
              " 'should',\n",
              " 'cases',\n",
              " 'rat',\n",
              " 'sharp',\n",
              " 'standard',\n",
              " 'available',\n",
              " 'evaluation',\n",
              " 'profile',\n",
              " 'slurred',\n",
              " 'versus',\n",
              " 'congestion',\n",
              " 'shortness',\n",
              " 'fatigued',\n",
              " 'coronary',\n",
              " 'ms',\n",
              " 'degrees',\n",
              " 'naproxen',\n",
              " 'panic',\n",
              " 'getting',\n",
              " 'vas',\n",
              " 'barely',\n",
              " 'enteric',\n",
              " 'local',\n",
              " 'stroke',\n",
              " 'deep',\n",
              " 'corneal',\n",
              " 'peak',\n",
              " 'malignant',\n",
              " 'efficiency',\n",
              " 'ethyl',\n",
              " 'f',\n",
              " 'assessment',\n",
              " 'natural',\n",
              " 'produced',\n",
              " 'combined',\n",
              " 'tolerated',\n",
              " 'morning',\n",
              " 'participants',\n",
              " 'drive',\n",
              " 'fluid',\n",
              " 'secondary',\n",
              " 'capsules',\n",
              " 'extremely',\n",
              " 'global',\n",
              " 'lost',\n",
              " 'resulted',\n",
              " 'pharmaceutical',\n",
              " 'irregular',\n",
              " 'conducted',\n",
              " 'pruritus',\n",
              " 'region',\n",
              " 'amount',\n",
              " 'sex',\n",
              " 'prednisone',\n",
              " 'liptor',\n",
              " 'achieved',\n",
              " 'diabetic',\n",
              " 'tested',\n",
              " 'plus',\n",
              " 'hunger',\n",
              " 'determine',\n",
              " 'eczema',\n",
              " 'periods',\n",
              " 'pharmacokinetic',\n",
              " 'th',\n",
              " 'sick',\n",
              " 'common',\n",
              " 'caused',\n",
              " 'cataract',\n",
              " 'production',\n",
              " 'five',\n",
              " 'vehicle',\n",
              " 'quality',\n",
              " 'even',\n",
              " 'mental',\n",
              " 'stamina',\n",
              " 'ringing',\n",
              " 'growth',\n",
              " 'old',\n",
              " 'nervous',\n",
              " 'ldl',\n",
              " ':',\n",
              " 'neurontin',\n",
              " 'improved',\n",
              " 'fasciitis',\n",
              " 'lesions',\n",
              " 'strain',\n",
              " 'relative',\n",
              " 'rofecoxib',\n",
              " 'respiratory',\n",
              " 'thus',\n",
              " 'frequent',\n",
              " 'recorded',\n",
              " 'sensitivity',\n",
              " 'density',\n",
              " 'age',\n",
              " 'year',\n",
              " 'cd',\n",
              " 'pre',\n",
              " 'review',\n",
              " 'patch',\n",
              " 'achilles',\n",
              " 'evidence',\n",
              " 'zetia',\n",
              " 'methods',\n",
              " 'rhabdomyolysis',\n",
              " 'prostaglandin',\n",
              " 'analgesia',\n",
              " 'cmax',\n",
              " 'tension',\n",
              " 'complete',\n",
              " 'increasing',\n",
              " 'als',\n",
              " 'thoughts',\n",
              " 'forgetful',\n",
              " 'sensations',\n",
              " 'ocular',\n",
              " 'reference',\n",
              " 'beads',\n",
              " 'carried',\n",
              " 'film',\n",
              " 'started',\n",
              " 'second',\n",
              " 'around',\n",
              " 'cardiovascular',\n",
              " 'scalp',\n",
              " 'commercial',\n",
              " 'bp',\n",
              " 'food',\n",
              " 'according',\n",
              " 'pellets',\n",
              " 'dysfunction',\n",
              " 'volume',\n",
              " 'determination',\n",
              " 'lopid',\n",
              " 'saline',\n",
              " 'preparation',\n",
              " 'dizzy',\n",
              " 'central',\n",
              " 'gi',\n",
              " 'receiving',\n",
              " 'comparison',\n",
              " 'temperature',\n",
              " 'hepatic',\n",
              " 'show',\n",
              " 'spasmodic',\n",
              " 'looks',\n",
              " 'least',\n",
              " 'affected',\n",
              " 'norvasc',\n",
              " 'duration',\n",
              " 'rectal',\n",
              " 'inability',\n",
              " 'diffusion',\n",
              " 'third',\n",
              " 'value',\n",
              " 'aptyalism',\n",
              " 'erythema',\n",
              " 'phosphate',\n",
              " 'sweats',\n",
              " 'stool',\n",
              " 'flushing',\n",
              " 'models',\n",
              " 'solid',\n",
              " 'several',\n",
              " 'interaction',\n",
              " 'morphine',\n",
              " 'lipid',\n",
              " 'vascular',\n",
              " 'erythematosus',\n",
              " 'index',\n",
              " 'membrane',\n",
              " 'ear',\n",
              " 'medium',\n",
              " 'product',\n",
              " 'investigate',\n",
              " 'technique',\n",
              " 'codeine',\n",
              " 'itchy',\n",
              " 'among',\n",
              " 'because',\n",
              " 'characterized',\n",
              " 'inhibited',\n",
              " 'hypersomnia',\n",
              " 'venous',\n",
              " '3',\n",
              " 'once',\n",
              " 'foggy',\n",
              " 'just',\n",
              " 'condition',\n",
              " 'extent',\n",
              " 'tachycardia',\n",
              " 'bursitis',\n",
              " 'maximum',\n",
              " 'across',\n",
              " 'superior',\n",
              " 'hurts',\n",
              " 'dic',\n",
              " 'lipoprotein',\n",
              " 'taking',\n",
              " 'random',\n",
              " 'medications',\n",
              " 'state',\n",
              " 'care',\n",
              " 'omega-3-acid',\n",
              " 'esters-90',\n",
              " 'flow',\n",
              " 'considered',\n",
              " 'ci',\n",
              " 'intramuscular',\n",
              " 'findings',\n",
              " 'cataflam',\n",
              " 'arthritic',\n",
              " 'sensitive',\n",
              " 'early',\n",
              " 'novel',\n",
              " 'lipex',\n",
              " 'whether',\n",
              " 'against',\n",
              " 'calcium',\n",
              " 'prolonged',\n",
              " 'asthma',\n",
              " 'retention',\n",
              " 'influence',\n",
              " 'synthesis',\n",
              " 'hard',\n",
              " 'beta',\n",
              " 'incidence',\n",
              " 'cpk',\n",
              " 'clinically',\n",
              " 'self',\n",
              " 'analyzed',\n",
              " 'outcome',\n",
              " 'serious',\n",
              " 'ketorolac',\n",
              " 'hplc',\n",
              " 'indicate',\n",
              " 'preparations',\n",
              " 'difficult',\n",
              " 'slow',\n",
              " 'intestinal',\n",
              " 'slight',\n",
              " 'mass',\n",
              " 'expression',\n",
              " 'small',\n",
              " 'delusional',\n",
              " 'design',\n",
              " 'menorrhagia',\n",
              " 'able',\n",
              " 'abdomen',\n",
              " 'microg',\n",
              " 'examined',\n",
              " 'tissues',\n",
              " 'became',\n",
              " 'possible',\n",
              " 'ophthalmic',\n",
              " 'comparable',\n",
              " 'solutions',\n",
              " 'therefore',\n",
              " 'horrible',\n",
              " 'structure',\n",
              " 'forearm',\n",
              " 'cross',\n",
              " 'assess',\n",
              " 'detection',\n",
              " 'nm',\n",
              " 'solubility',\n",
              " 'dpsgc',\n",
              " 'almost',\n",
              " 'zoloft',\n",
              " 'made',\n",
              " 'inhibitors',\n",
              " 'life',\n",
              " 'capsule',\n",
              " 'cambia',\n",
              " 'specific',\n",
              " ...]"
            ]
          },
          "metadata": {
            "tags": []
          },
          "execution_count": 18
        }
      ]
    },
    {
      "cell_type": "code",
      "metadata": {
        "id": "yPWr03mls3VT",
        "outputId": "3a17953e-6435-4802-ebdb-e0b2269546ee",
        "colab": {
          "base_uri": "https://localhost:8080/",
          "height": 17
        }
      },
      "source": [
        "model_path = path/'models'\n",
        "model_path.mkdir(exist_ok=True)\n",
        "url = 'http://files.fast.ai/models/wt103_v1/'\n",
        "download_url(f'{url}lstm_wt103.pth', model_path/'lstm_wt103.pth')\n",
        "download_url(f'{url}itos_wt103.pkl', model_path/'itos_wt103.pkl')"
      ],
      "execution_count": 19,
      "outputs": [
        {
          "output_type": "display_data",
          "data": {
            "text/html": [
              ""
            ],
            "text/plain": [
              "<IPython.core.display.HTML object>"
            ]
          },
          "metadata": {
            "tags": []
          }
        },
        {
          "output_type": "display_data",
          "data": {
            "text/html": [
              ""
            ],
            "text/plain": [
              "<IPython.core.display.HTML object>"
            ]
          },
          "metadata": {
            "tags": []
          }
        }
      ]
    },
    {
      "cell_type": "code",
      "metadata": {
        "id": "JRzvWg8RtGGr",
        "outputId": "a6a20aa6-63ae-4efe-f121-76b5293e63be",
        "colab": {
          "base_uri": "https://localhost:8080/",
          "height": 34
        }
      },
      "source": [
        "learn = language_model_learner(data_lm, AWD_LSTM, drop_mult=0.5)"
      ],
      "execution_count": 20,
      "outputs": [
        {
          "output_type": "stream",
          "text": [
            "Downloading https://s3.amazonaws.com/fast-ai-modelzoo/wt103-fwd.tgz\n"
          ],
          "name": "stdout"
        },
        {
          "output_type": "display_data",
          "data": {
            "text/html": [
              ""
            ],
            "text/plain": [
              "<IPython.core.display.HTML object>"
            ]
          },
          "metadata": {
            "tags": []
          }
        }
      ]
    },
    {
      "cell_type": "code",
      "metadata": {
        "id": "xKK7GeBev7Xn",
        "outputId": "7152c273-73e5-4eb7-8663-5a916078f67f",
        "colab": {
          "base_uri": "https://localhost:8080/",
          "height": 80
        }
      },
      "source": [
        "learn.fit_one_cycle(1, 1e-2)"
      ],
      "execution_count": 21,
      "outputs": [
        {
          "output_type": "display_data",
          "data": {
            "text/html": [
              "<table border=\"1\" class=\"dataframe\">\n",
              "  <thead>\n",
              "    <tr style=\"text-align: left;\">\n",
              "      <th>epoch</th>\n",
              "      <th>train_loss</th>\n",
              "      <th>valid_loss</th>\n",
              "      <th>accuracy</th>\n",
              "      <th>time</th>\n",
              "    </tr>\n",
              "  </thead>\n",
              "  <tbody>\n",
              "    <tr>\n",
              "      <td>0</td>\n",
              "      <td>3.792647</td>\n",
              "      <td>3.397962</td>\n",
              "      <td>0.456852</td>\n",
              "      <td>28:37</td>\n",
              "    </tr>\n",
              "  </tbody>\n",
              "</table>"
            ],
            "text/plain": [
              "<IPython.core.display.HTML object>"
            ]
          },
          "metadata": {
            "tags": []
          }
        }
      ]
    },
    {
      "cell_type": "code",
      "metadata": {
        "id": "iB7rHGQCwd12"
      },
      "source": [
        "# learn.fit_one_cycle(1, 1e-2)"
      ],
      "execution_count": 22,
      "outputs": []
    },
    {
      "cell_type": "code",
      "metadata": {
        "id": "_BnSuAeCwkBe"
      },
      "source": [
        "# learn.fit_one_cycle(1, 1e-3)"
      ],
      "execution_count": 23,
      "outputs": []
    },
    {
      "cell_type": "code",
      "metadata": {
        "id": "MuTm-RFjwrEX",
        "outputId": "97aaff8b-a9a7-4022-828e-d2110ddaa955",
        "colab": {
          "base_uri": "https://localhost:8080/",
          "height": 80
        }
      },
      "source": [
        "learn.fit_one_cycle(1, 1e-3)"
      ],
      "execution_count": 24,
      "outputs": [
        {
          "output_type": "display_data",
          "data": {
            "text/html": [
              "<table border=\"1\" class=\"dataframe\">\n",
              "  <thead>\n",
              "    <tr style=\"text-align: left;\">\n",
              "      <th>epoch</th>\n",
              "      <th>train_loss</th>\n",
              "      <th>valid_loss</th>\n",
              "      <th>accuracy</th>\n",
              "      <th>time</th>\n",
              "    </tr>\n",
              "  </thead>\n",
              "  <tbody>\n",
              "    <tr>\n",
              "      <td>0</td>\n",
              "      <td>3.426883</td>\n",
              "      <td>3.337075</td>\n",
              "      <td>0.461825</td>\n",
              "      <td>28:22</td>\n",
              "    </tr>\n",
              "  </tbody>\n",
              "</table>"
            ],
            "text/plain": [
              "<IPython.core.display.HTML object>"
            ]
          },
          "metadata": {
            "tags": []
          }
        }
      ]
    },
    {
      "cell_type": "code",
      "metadata": {
        "id": "1Er2ExO8wr7Y"
      },
      "source": [
        "learn.save_encoder('pubmed_ask_fold8_first')"
      ],
      "execution_count": 25,
      "outputs": []
    },
    {
      "cell_type": "code",
      "metadata": {
        "id": "z52cZs2qwvad",
        "outputId": "93ac2a08-4a74-4bae-e565-66666c5ffc11",
        "colab": {
          "base_uri": "https://localhost:8080/",
          "height": 80
        }
      },
      "source": [
        "learn = text_classifier_learner(data_clas,AWD_LSTM, drop_mult=0.5)\n",
        "learn.load_encoder('pubmed_ask_fold8_first')\n",
        "learn.fit_one_cycle(1, 1e-2)"
      ],
      "execution_count": 26,
      "outputs": [
        {
          "output_type": "display_data",
          "data": {
            "text/html": [
              "<table border=\"1\" class=\"dataframe\">\n",
              "  <thead>\n",
              "    <tr style=\"text-align: left;\">\n",
              "      <th>epoch</th>\n",
              "      <th>train_loss</th>\n",
              "      <th>valid_loss</th>\n",
              "      <th>accuracy</th>\n",
              "      <th>time</th>\n",
              "    </tr>\n",
              "  </thead>\n",
              "  <tbody>\n",
              "    <tr>\n",
              "      <td>0</td>\n",
              "      <td>4.041767</td>\n",
              "      <td>3.736209</td>\n",
              "      <td>0.347719</td>\n",
              "      <td>01:12</td>\n",
              "    </tr>\n",
              "  </tbody>\n",
              "</table>"
            ],
            "text/plain": [
              "<IPython.core.display.HTML object>"
            ]
          },
          "metadata": {
            "tags": []
          }
        }
      ]
    },
    {
      "cell_type": "code",
      "metadata": {
        "id": "ImwQP1PJwzxd",
        "outputId": "20dbdfaf-2351-4756-d0ec-d8811a4746f6",
        "colab": {
          "base_uri": "https://localhost:8080/",
          "height": 80
        }
      },
      "source": [
        "learn.freeze_to(-2)\n",
        "learn.fit_one_cycle(1, slice(5e-3/2., 5e-3))"
      ],
      "execution_count": 27,
      "outputs": [
        {
          "output_type": "display_data",
          "data": {
            "text/html": [
              "<table border=\"1\" class=\"dataframe\">\n",
              "  <thead>\n",
              "    <tr style=\"text-align: left;\">\n",
              "      <th>epoch</th>\n",
              "      <th>train_loss</th>\n",
              "      <th>valid_loss</th>\n",
              "      <th>accuracy</th>\n",
              "      <th>time</th>\n",
              "    </tr>\n",
              "  </thead>\n",
              "  <tbody>\n",
              "    <tr>\n",
              "      <td>0</td>\n",
              "      <td>2.876636</td>\n",
              "      <td>3.073824</td>\n",
              "      <td>0.471023</td>\n",
              "      <td>01:17</td>\n",
              "    </tr>\n",
              "  </tbody>\n",
              "</table>"
            ],
            "text/plain": [
              "<IPython.core.display.HTML object>"
            ]
          },
          "metadata": {
            "tags": []
          }
        }
      ]
    },
    {
      "cell_type": "code",
      "metadata": {
        "id": "Owff_BJXw53u",
        "outputId": "037909ba-dfc2-40de-e03d-a9d61a6ae5bd",
        "colab": {
          "base_uri": "https://localhost:8080/",
          "height": 80
        }
      },
      "source": [
        "learn.unfreeze()\n",
        "learn.fit_one_cycle(1, slice(2e-3/100, 2e-3))"
      ],
      "execution_count": 28,
      "outputs": [
        {
          "output_type": "display_data",
          "data": {
            "text/html": [
              "<table border=\"1\" class=\"dataframe\">\n",
              "  <thead>\n",
              "    <tr style=\"text-align: left;\">\n",
              "      <th>epoch</th>\n",
              "      <th>train_loss</th>\n",
              "      <th>valid_loss</th>\n",
              "      <th>accuracy</th>\n",
              "      <th>time</th>\n",
              "    </tr>\n",
              "  </thead>\n",
              "  <tbody>\n",
              "    <tr>\n",
              "      <td>0</td>\n",
              "      <td>2.327642</td>\n",
              "      <td>2.600571</td>\n",
              "      <td>0.537608</td>\n",
              "      <td>03:16</td>\n",
              "    </tr>\n",
              "  </tbody>\n",
              "</table>"
            ],
            "text/plain": [
              "<IPython.core.display.HTML object>"
            ]
          },
          "metadata": {
            "tags": []
          }
        }
      ]
    },
    {
      "cell_type": "code",
      "metadata": {
        "id": "lqAyu56V8Waq",
        "outputId": "3aeab21b-321e-408b-e5c1-81a478bf910f",
        "colab": {
          "base_uri": "https://localhost:8080/",
          "height": 111
        }
      },
      "source": [
        "learn.fit_one_cycle(2, slice(2e-3/100, 2e-3))"
      ],
      "execution_count": 29,
      "outputs": [
        {
          "output_type": "display_data",
          "data": {
            "text/html": [
              "<table border=\"1\" class=\"dataframe\">\n",
              "  <thead>\n",
              "    <tr style=\"text-align: left;\">\n",
              "      <th>epoch</th>\n",
              "      <th>train_loss</th>\n",
              "      <th>valid_loss</th>\n",
              "      <th>accuracy</th>\n",
              "      <th>time</th>\n",
              "    </tr>\n",
              "  </thead>\n",
              "  <tbody>\n",
              "    <tr>\n",
              "      <td>0</td>\n",
              "      <td>1.927378</td>\n",
              "      <td>2.195226</td>\n",
              "      <td>0.598027</td>\n",
              "      <td>03:09</td>\n",
              "    </tr>\n",
              "    <tr>\n",
              "      <td>1</td>\n",
              "      <td>1.686485</td>\n",
              "      <td>2.064573</td>\n",
              "      <td>0.628853</td>\n",
              "      <td>03:29</td>\n",
              "    </tr>\n",
              "  </tbody>\n",
              "</table>"
            ],
            "text/plain": [
              "<IPython.core.display.HTML object>"
            ]
          },
          "metadata": {
            "tags": []
          }
        }
      ]
    },
    {
      "cell_type": "code",
      "metadata": {
        "id": "a7I1xMRp8bUd",
        "outputId": "576074f8-af05-474a-fdf4-b4a4e7615067",
        "colab": {
          "base_uri": "https://localhost:8080/",
          "height": 111
        }
      },
      "source": [
        "learn.fit_one_cycle(2, slice(2e-3/100, 2e-3))"
      ],
      "execution_count": 30,
      "outputs": [
        {
          "output_type": "display_data",
          "data": {
            "text/html": [
              "<table border=\"1\" class=\"dataframe\">\n",
              "  <thead>\n",
              "    <tr style=\"text-align: left;\">\n",
              "      <th>epoch</th>\n",
              "      <th>train_loss</th>\n",
              "      <th>valid_loss</th>\n",
              "      <th>accuracy</th>\n",
              "      <th>time</th>\n",
              "    </tr>\n",
              "  </thead>\n",
              "  <tbody>\n",
              "    <tr>\n",
              "      <td>0</td>\n",
              "      <td>1.518019</td>\n",
              "      <td>1.826842</td>\n",
              "      <td>0.670777</td>\n",
              "      <td>03:24</td>\n",
              "    </tr>\n",
              "    <tr>\n",
              "      <td>1</td>\n",
              "      <td>1.304574</td>\n",
              "      <td>1.725335</td>\n",
              "      <td>0.681874</td>\n",
              "      <td>03:12</td>\n",
              "    </tr>\n",
              "  </tbody>\n",
              "</table>"
            ],
            "text/plain": [
              "<IPython.core.display.HTML object>"
            ]
          },
          "metadata": {
            "tags": []
          }
        }
      ]
    },
    {
      "cell_type": "code",
      "metadata": {
        "id": "UAnti-XmGVfO",
        "outputId": "c5bae2b8-5e2a-43c4-df6b-f72503607de5",
        "colab": {
          "base_uri": "https://localhost:8080/",
          "height": 111
        }
      },
      "source": [
        "learn.fit_one_cycle(2, slice(2e-3/100, 2e-3))"
      ],
      "execution_count": 31,
      "outputs": [
        {
          "output_type": "display_data",
          "data": {
            "text/html": [
              "<table border=\"1\" class=\"dataframe\">\n",
              "  <thead>\n",
              "    <tr style=\"text-align: left;\">\n",
              "      <th>epoch</th>\n",
              "      <th>train_loss</th>\n",
              "      <th>valid_loss</th>\n",
              "      <th>accuracy</th>\n",
              "      <th>time</th>\n",
              "    </tr>\n",
              "  </thead>\n",
              "  <tbody>\n",
              "    <tr>\n",
              "      <td>0</td>\n",
              "      <td>1.199337</td>\n",
              "      <td>1.611043</td>\n",
              "      <td>0.692972</td>\n",
              "      <td>03:28</td>\n",
              "    </tr>\n",
              "    <tr>\n",
              "      <td>1</td>\n",
              "      <td>1.044897</td>\n",
              "      <td>1.531832</td>\n",
              "      <td>0.711467</td>\n",
              "      <td>03:15</td>\n",
              "    </tr>\n",
              "  </tbody>\n",
              "</table>"
            ],
            "text/plain": [
              "<IPython.core.display.HTML object>"
            ]
          },
          "metadata": {
            "tags": []
          }
        }
      ]
    },
    {
      "cell_type": "code",
      "metadata": {
        "id": "bIft7W25GwSu",
        "outputId": "9dd05c4f-1a41-4d3c-e9e8-1ef5e51cf6e8",
        "colab": {
          "base_uri": "https://localhost:8080/",
          "height": 111
        }
      },
      "source": [
        "learn.fit_one_cycle(2, slice(2e-3/100, 2e-3))"
      ],
      "execution_count": 32,
      "outputs": [
        {
          "output_type": "display_data",
          "data": {
            "text/html": [
              "<table border=\"1\" class=\"dataframe\">\n",
              "  <thead>\n",
              "    <tr style=\"text-align: left;\">\n",
              "      <th>epoch</th>\n",
              "      <th>train_loss</th>\n",
              "      <th>valid_loss</th>\n",
              "      <th>accuracy</th>\n",
              "      <th>time</th>\n",
              "    </tr>\n",
              "  </thead>\n",
              "  <tbody>\n",
              "    <tr>\n",
              "      <td>0</td>\n",
              "      <td>0.993573</td>\n",
              "      <td>1.473663</td>\n",
              "      <td>0.725031</td>\n",
              "      <td>03:21</td>\n",
              "    </tr>\n",
              "    <tr>\n",
              "      <td>1</td>\n",
              "      <td>0.905567</td>\n",
              "      <td>1.384297</td>\n",
              "      <td>0.747226</td>\n",
              "      <td>03:33</td>\n",
              "    </tr>\n",
              "  </tbody>\n",
              "</table>"
            ],
            "text/plain": [
              "<IPython.core.display.HTML object>"
            ]
          },
          "metadata": {
            "tags": []
          }
        }
      ]
    },
    {
      "cell_type": "code",
      "metadata": {
        "id": "EEHszVRvGyFt",
        "outputId": "ac30be97-6dbb-40f8-9113-520ce1582984",
        "colab": {
          "base_uri": "https://localhost:8080/",
          "height": 111
        }
      },
      "source": [
        "learn.fit_one_cycle(2, slice(2e-3/100, 2e-3))"
      ],
      "execution_count": 33,
      "outputs": [
        {
          "output_type": "display_data",
          "data": {
            "text/html": [
              "<table border=\"1\" class=\"dataframe\">\n",
              "  <thead>\n",
              "    <tr style=\"text-align: left;\">\n",
              "      <th>epoch</th>\n",
              "      <th>train_loss</th>\n",
              "      <th>valid_loss</th>\n",
              "      <th>accuracy</th>\n",
              "      <th>time</th>\n",
              "    </tr>\n",
              "  </thead>\n",
              "  <tbody>\n",
              "    <tr>\n",
              "      <td>0</td>\n",
              "      <td>0.848265</td>\n",
              "      <td>1.382123</td>\n",
              "      <td>0.741060</td>\n",
              "      <td>03:19</td>\n",
              "    </tr>\n",
              "    <tr>\n",
              "      <td>1</td>\n",
              "      <td>0.750232</td>\n",
              "      <td>1.315451</td>\n",
              "      <td>0.759556</td>\n",
              "      <td>03:20</td>\n",
              "    </tr>\n",
              "  </tbody>\n",
              "</table>"
            ],
            "text/plain": [
              "<IPython.core.display.HTML object>"
            ]
          },
          "metadata": {
            "tags": []
          }
        }
      ]
    },
    {
      "cell_type": "code",
      "metadata": {
        "id": "XsHfrhCHG3dN",
        "outputId": "00dfc9d6-1306-4d01-a4a0-7e2f3cc9d02b",
        "colab": {
          "base_uri": "https://localhost:8080/",
          "height": 173
        }
      },
      "source": [
        "learn.fit_one_cycle(4, slice(2e-3/100, 2e-3))"
      ],
      "execution_count": 34,
      "outputs": [
        {
          "output_type": "display_data",
          "data": {
            "text/html": [
              "<table border=\"1\" class=\"dataframe\">\n",
              "  <thead>\n",
              "    <tr style=\"text-align: left;\">\n",
              "      <th>epoch</th>\n",
              "      <th>train_loss</th>\n",
              "      <th>valid_loss</th>\n",
              "      <th>accuracy</th>\n",
              "      <th>time</th>\n",
              "    </tr>\n",
              "  </thead>\n",
              "  <tbody>\n",
              "    <tr>\n",
              "      <td>0</td>\n",
              "      <td>0.660527</td>\n",
              "      <td>1.279337</td>\n",
              "      <td>0.764488</td>\n",
              "      <td>03:10</td>\n",
              "    </tr>\n",
              "    <tr>\n",
              "      <td>1</td>\n",
              "      <td>0.694273</td>\n",
              "      <td>1.238804</td>\n",
              "      <td>0.773120</td>\n",
              "      <td>03:16</td>\n",
              "    </tr>\n",
              "    <tr>\n",
              "      <td>2</td>\n",
              "      <td>0.580396</td>\n",
              "      <td>1.194737</td>\n",
              "      <td>0.790382</td>\n",
              "      <td>03:21</td>\n",
              "    </tr>\n",
              "    <tr>\n",
              "      <td>3</td>\n",
              "      <td>0.506445</td>\n",
              "      <td>1.180726</td>\n",
              "      <td>0.786683</td>\n",
              "      <td>03:19</td>\n",
              "    </tr>\n",
              "  </tbody>\n",
              "</table>"
            ],
            "text/plain": [
              "<IPython.core.display.HTML object>"
            ]
          },
          "metadata": {
            "tags": []
          }
        }
      ]
    },
    {
      "cell_type": "code",
      "metadata": {
        "id": "0Zsd99isb9EQ",
        "outputId": "1f5c0aa9-dfae-4783-8845-44b717da0ec5",
        "colab": {
          "base_uri": "https://localhost:8080/",
          "height": 173
        }
      },
      "source": [
        "learn.fit_one_cycle(4, slice(2e-3/100, 2e-3))"
      ],
      "execution_count": 35,
      "outputs": [
        {
          "output_type": "display_data",
          "data": {
            "text/html": [
              "<table border=\"1\" class=\"dataframe\">\n",
              "  <thead>\n",
              "    <tr style=\"text-align: left;\">\n",
              "      <th>epoch</th>\n",
              "      <th>train_loss</th>\n",
              "      <th>valid_loss</th>\n",
              "      <th>accuracy</th>\n",
              "      <th>time</th>\n",
              "    </tr>\n",
              "  </thead>\n",
              "  <tbody>\n",
              "    <tr>\n",
              "      <td>0</td>\n",
              "      <td>0.479620</td>\n",
              "      <td>1.165596</td>\n",
              "      <td>0.787916</td>\n",
              "      <td>03:18</td>\n",
              "    </tr>\n",
              "    <tr>\n",
              "      <td>1</td>\n",
              "      <td>0.549712</td>\n",
              "      <td>1.156211</td>\n",
              "      <td>0.790382</td>\n",
              "      <td>03:13</td>\n",
              "    </tr>\n",
              "    <tr>\n",
              "      <td>2</td>\n",
              "      <td>0.454509</td>\n",
              "      <td>1.131837</td>\n",
              "      <td>0.795314</td>\n",
              "      <td>03:23</td>\n",
              "    </tr>\n",
              "    <tr>\n",
              "      <td>3</td>\n",
              "      <td>0.393537</td>\n",
              "      <td>1.100782</td>\n",
              "      <td>0.796547</td>\n",
              "      <td>03:17</td>\n",
              "    </tr>\n",
              "  </tbody>\n",
              "</table>"
            ],
            "text/plain": [
              "<IPython.core.display.HTML object>"
            ]
          },
          "metadata": {
            "tags": []
          }
        }
      ]
    },
    {
      "cell_type": "code",
      "metadata": {
        "id": "atNWNKDFPbuI",
        "outputId": "6207a5e9-29d9-4bce-d9be-1d5e2b7f05e7",
        "colab": {
          "base_uri": "https://localhost:8080/",
          "height": 173
        }
      },
      "source": [
        "learn.fit_one_cycle(4, slice(2e-3/100, 2e-3))"
      ],
      "execution_count": 36,
      "outputs": [
        {
          "output_type": "display_data",
          "data": {
            "text/html": [
              "<table border=\"1\" class=\"dataframe\">\n",
              "  <thead>\n",
              "    <tr style=\"text-align: left;\">\n",
              "      <th>epoch</th>\n",
              "      <th>train_loss</th>\n",
              "      <th>valid_loss</th>\n",
              "      <th>accuracy</th>\n",
              "      <th>time</th>\n",
              "    </tr>\n",
              "  </thead>\n",
              "  <tbody>\n",
              "    <tr>\n",
              "      <td>0</td>\n",
              "      <td>0.386579</td>\n",
              "      <td>1.141480</td>\n",
              "      <td>0.796547</td>\n",
              "      <td>03:11</td>\n",
              "    </tr>\n",
              "    <tr>\n",
              "      <td>1</td>\n",
              "      <td>0.396734</td>\n",
              "      <td>1.187671</td>\n",
              "      <td>0.801480</td>\n",
              "      <td>03:16</td>\n",
              "    </tr>\n",
              "    <tr>\n",
              "      <td>2</td>\n",
              "      <td>0.371621</td>\n",
              "      <td>1.137319</td>\n",
              "      <td>0.802713</td>\n",
              "      <td>03:19</td>\n",
              "    </tr>\n",
              "    <tr>\n",
              "      <td>3</td>\n",
              "      <td>0.311613</td>\n",
              "      <td>1.159460</td>\n",
              "      <td>0.806412</td>\n",
              "      <td>03:16</td>\n",
              "    </tr>\n",
              "  </tbody>\n",
              "</table>"
            ],
            "text/plain": [
              "<IPython.core.display.HTML object>"
            ]
          },
          "metadata": {
            "tags": []
          }
        }
      ]
    },
    {
      "cell_type": "code",
      "metadata": {
        "id": "rKrBTZ0T1uVA",
        "outputId": "c69266df-c243-42ba-b8e0-a02cb409e8b4",
        "colab": {
          "base_uri": "https://localhost:8080/",
          "height": 173
        }
      },
      "source": [
        "learn.fit_one_cycle(4, slice(2e-3/100, 2e-3))"
      ],
      "execution_count": 37,
      "outputs": [
        {
          "output_type": "display_data",
          "data": {
            "text/html": [
              "<table border=\"1\" class=\"dataframe\">\n",
              "  <thead>\n",
              "    <tr style=\"text-align: left;\">\n",
              "      <th>epoch</th>\n",
              "      <th>train_loss</th>\n",
              "      <th>valid_loss</th>\n",
              "      <th>accuracy</th>\n",
              "      <th>time</th>\n",
              "    </tr>\n",
              "  </thead>\n",
              "  <tbody>\n",
              "    <tr>\n",
              "      <td>0</td>\n",
              "      <td>0.294896</td>\n",
              "      <td>1.133405</td>\n",
              "      <td>0.810111</td>\n",
              "      <td>03:26</td>\n",
              "    </tr>\n",
              "    <tr>\n",
              "      <td>1</td>\n",
              "      <td>0.359980</td>\n",
              "      <td>1.178244</td>\n",
              "      <td>0.807645</td>\n",
              "      <td>03:27</td>\n",
              "    </tr>\n",
              "    <tr>\n",
              "      <td>2</td>\n",
              "      <td>0.299985</td>\n",
              "      <td>1.189804</td>\n",
              "      <td>0.807645</td>\n",
              "      <td>03:10</td>\n",
              "    </tr>\n",
              "    <tr>\n",
              "      <td>3</td>\n",
              "      <td>0.266452</td>\n",
              "      <td>1.120640</td>\n",
              "      <td>0.816276</td>\n",
              "      <td>03:16</td>\n",
              "    </tr>\n",
              "  </tbody>\n",
              "</table>"
            ],
            "text/plain": [
              "<IPython.core.display.HTML object>"
            ]
          },
          "metadata": {
            "tags": []
          }
        }
      ]
    },
    {
      "cell_type": "code",
      "metadata": {
        "id": "ajQC6WDg1yA9",
        "outputId": "6444585a-994c-46d5-e984-81394ac84fb5",
        "colab": {
          "base_uri": "https://localhost:8080/",
          "height": 173
        }
      },
      "source": [
        "learn.fit_one_cycle(4, slice(2e-3/100, 2e-3))"
      ],
      "execution_count": 38,
      "outputs": [
        {
          "output_type": "display_data",
          "data": {
            "text/html": [
              "<table border=\"1\" class=\"dataframe\">\n",
              "  <thead>\n",
              "    <tr style=\"text-align: left;\">\n",
              "      <th>epoch</th>\n",
              "      <th>train_loss</th>\n",
              "      <th>valid_loss</th>\n",
              "      <th>accuracy</th>\n",
              "      <th>time</th>\n",
              "    </tr>\n",
              "  </thead>\n",
              "  <tbody>\n",
              "    <tr>\n",
              "      <td>0</td>\n",
              "      <td>0.267845</td>\n",
              "      <td>1.173342</td>\n",
              "      <td>0.811344</td>\n",
              "      <td>03:12</td>\n",
              "    </tr>\n",
              "    <tr>\n",
              "      <td>1</td>\n",
              "      <td>0.295779</td>\n",
              "      <td>1.186801</td>\n",
              "      <td>0.800247</td>\n",
              "      <td>03:15</td>\n",
              "    </tr>\n",
              "    <tr>\n",
              "      <td>2</td>\n",
              "      <td>0.266194</td>\n",
              "      <td>1.144637</td>\n",
              "      <td>0.810111</td>\n",
              "      <td>03:27</td>\n",
              "    </tr>\n",
              "    <tr>\n",
              "      <td>3</td>\n",
              "      <td>0.237783</td>\n",
              "      <td>1.130272</td>\n",
              "      <td>0.817509</td>\n",
              "      <td>03:29</td>\n",
              "    </tr>\n",
              "  </tbody>\n",
              "</table>"
            ],
            "text/plain": [
              "<IPython.core.display.HTML object>"
            ]
          },
          "metadata": {
            "tags": []
          }
        }
      ]
    },
    {
      "cell_type": "code",
      "metadata": {
        "id": "KKydb0B4BKGk",
        "outputId": "0296bd54-22b2-4539-f741-1eb40f7983d8",
        "colab": {
          "base_uri": "https://localhost:8080/",
          "height": 173
        }
      },
      "source": [
        "learn.fit_one_cycle(4, slice(2e-3/100, 2e-3))"
      ],
      "execution_count": 39,
      "outputs": [
        {
          "output_type": "display_data",
          "data": {
            "text/html": [
              "<table border=\"1\" class=\"dataframe\">\n",
              "  <thead>\n",
              "    <tr style=\"text-align: left;\">\n",
              "      <th>epoch</th>\n",
              "      <th>train_loss</th>\n",
              "      <th>valid_loss</th>\n",
              "      <th>accuracy</th>\n",
              "      <th>time</th>\n",
              "    </tr>\n",
              "  </thead>\n",
              "  <tbody>\n",
              "    <tr>\n",
              "      <td>0</td>\n",
              "      <td>0.229019</td>\n",
              "      <td>1.169161</td>\n",
              "      <td>0.806412</td>\n",
              "      <td>03:19</td>\n",
              "    </tr>\n",
              "    <tr>\n",
              "      <td>1</td>\n",
              "      <td>0.277244</td>\n",
              "      <td>1.210645</td>\n",
              "      <td>0.815043</td>\n",
              "      <td>03:21</td>\n",
              "    </tr>\n",
              "    <tr>\n",
              "      <td>2</td>\n",
              "      <td>0.244095</td>\n",
              "      <td>1.232033</td>\n",
              "      <td>0.812577</td>\n",
              "      <td>03:19</td>\n",
              "    </tr>\n",
              "    <tr>\n",
              "      <td>3</td>\n",
              "      <td>0.219720</td>\n",
              "      <td>1.196922</td>\n",
              "      <td>0.823674</td>\n",
              "      <td>03:22</td>\n",
              "    </tr>\n",
              "  </tbody>\n",
              "</table>"
            ],
            "text/plain": [
              "<IPython.core.display.HTML object>"
            ]
          },
          "metadata": {
            "tags": []
          }
        }
      ]
    },
    {
      "cell_type": "code",
      "metadata": {
        "id": "T2APKtFKBpGY",
        "outputId": "0d8b6e9c-e1e8-4d13-e46b-6c47019215db",
        "colab": {
          "base_uri": "https://localhost:8080/",
          "height": 173
        }
      },
      "source": [
        "learn.fit_one_cycle(4, slice(2e-3/100, 2e-3))"
      ],
      "execution_count": 40,
      "outputs": [
        {
          "output_type": "display_data",
          "data": {
            "text/html": [
              "<table border=\"1\" class=\"dataframe\">\n",
              "  <thead>\n",
              "    <tr style=\"text-align: left;\">\n",
              "      <th>epoch</th>\n",
              "      <th>train_loss</th>\n",
              "      <th>valid_loss</th>\n",
              "      <th>accuracy</th>\n",
              "      <th>time</th>\n",
              "    </tr>\n",
              "  </thead>\n",
              "  <tbody>\n",
              "    <tr>\n",
              "      <td>0</td>\n",
              "      <td>0.213150</td>\n",
              "      <td>1.237890</td>\n",
              "      <td>0.815043</td>\n",
              "      <td>03:27</td>\n",
              "    </tr>\n",
              "    <tr>\n",
              "      <td>1</td>\n",
              "      <td>0.275595</td>\n",
              "      <td>1.245178</td>\n",
              "      <td>0.816276</td>\n",
              "      <td>03:28</td>\n",
              "    </tr>\n",
              "    <tr>\n",
              "      <td>2</td>\n",
              "      <td>0.219506</td>\n",
              "      <td>1.214066</td>\n",
              "      <td>0.817509</td>\n",
              "      <td>03:15</td>\n",
              "    </tr>\n",
              "    <tr>\n",
              "      <td>3</td>\n",
              "      <td>0.184941</td>\n",
              "      <td>1.235495</td>\n",
              "      <td>0.822441</td>\n",
              "      <td>03:14</td>\n",
              "    </tr>\n",
              "  </tbody>\n",
              "</table>"
            ],
            "text/plain": [
              "<IPython.core.display.HTML object>"
            ]
          },
          "metadata": {
            "tags": []
          }
        }
      ]
    },
    {
      "cell_type": "code",
      "metadata": {
        "id": "qtTypA1sPgLU",
        "outputId": "473098e0-d59d-4e60-b693-e01de507025d",
        "colab": {
          "base_uri": "https://localhost:8080/",
          "height": 111
        }
      },
      "source": [
        "learn.fit_one_cycle(2, slice(2e-3/100, 2e-3))"
      ],
      "execution_count": 41,
      "outputs": [
        {
          "output_type": "display_data",
          "data": {
            "text/html": [
              "<table border=\"1\" class=\"dataframe\">\n",
              "  <thead>\n",
              "    <tr style=\"text-align: left;\">\n",
              "      <th>epoch</th>\n",
              "      <th>train_loss</th>\n",
              "      <th>valid_loss</th>\n",
              "      <th>accuracy</th>\n",
              "      <th>time</th>\n",
              "    </tr>\n",
              "  </thead>\n",
              "  <tbody>\n",
              "    <tr>\n",
              "      <td>0</td>\n",
              "      <td>0.206056</td>\n",
              "      <td>1.185138</td>\n",
              "      <td>0.805179</td>\n",
              "      <td>03:31</td>\n",
              "    </tr>\n",
              "    <tr>\n",
              "      <td>1</td>\n",
              "      <td>0.205152</td>\n",
              "      <td>1.207410</td>\n",
              "      <td>0.811344</td>\n",
              "      <td>03:12</td>\n",
              "    </tr>\n",
              "  </tbody>\n",
              "</table>"
            ],
            "text/plain": [
              "<IPython.core.display.HTML object>"
            ]
          },
          "metadata": {
            "tags": []
          }
        }
      ]
    },
    {
      "cell_type": "code",
      "metadata": {
        "id": "b242kBsTUp9Y",
        "outputId": "4fdf9d1c-bfbb-434f-fdf1-462a75374e4b",
        "colab": {
          "base_uri": "https://localhost:8080/",
          "height": 111
        }
      },
      "source": [
        "learn.fit_one_cycle(2, slice(2e-3/100, 2e-3))"
      ],
      "execution_count": 42,
      "outputs": [
        {
          "output_type": "display_data",
          "data": {
            "text/html": [
              "<table border=\"1\" class=\"dataframe\">\n",
              "  <thead>\n",
              "    <tr style=\"text-align: left;\">\n",
              "      <th>epoch</th>\n",
              "      <th>train_loss</th>\n",
              "      <th>valid_loss</th>\n",
              "      <th>accuracy</th>\n",
              "      <th>time</th>\n",
              "    </tr>\n",
              "  </thead>\n",
              "  <tbody>\n",
              "    <tr>\n",
              "      <td>0</td>\n",
              "      <td>0.226010</td>\n",
              "      <td>1.269972</td>\n",
              "      <td>0.806412</td>\n",
              "      <td>03:13</td>\n",
              "    </tr>\n",
              "    <tr>\n",
              "      <td>1</td>\n",
              "      <td>0.183113</td>\n",
              "      <td>1.266676</td>\n",
              "      <td>0.811344</td>\n",
              "      <td>03:24</td>\n",
              "    </tr>\n",
              "  </tbody>\n",
              "</table>"
            ],
            "text/plain": [
              "<IPython.core.display.HTML object>"
            ]
          },
          "metadata": {
            "tags": []
          }
        }
      ]
    },
    {
      "cell_type": "code",
      "metadata": {
        "id": "Duwf1Ih5VeDZ",
        "outputId": "433c252c-8943-4d58-8eaf-ad3d908d2083",
        "colab": {
          "base_uri": "https://localhost:8080/",
          "height": 80
        }
      },
      "source": [
        "learn.fit_one_cycle(1, slice(2e-3/100, 2e-3))"
      ],
      "execution_count": 43,
      "outputs": [
        {
          "output_type": "display_data",
          "data": {
            "text/html": [
              "<table border=\"1\" class=\"dataframe\">\n",
              "  <thead>\n",
              "    <tr style=\"text-align: left;\">\n",
              "      <th>epoch</th>\n",
              "      <th>train_loss</th>\n",
              "      <th>valid_loss</th>\n",
              "      <th>accuracy</th>\n",
              "      <th>time</th>\n",
              "    </tr>\n",
              "  </thead>\n",
              "  <tbody>\n",
              "    <tr>\n",
              "      <td>0</td>\n",
              "      <td>0.188199</td>\n",
              "      <td>1.263678</td>\n",
              "      <td>0.815043</td>\n",
              "      <td>03:13</td>\n",
              "    </tr>\n",
              "  </tbody>\n",
              "</table>"
            ],
            "text/plain": [
              "<IPython.core.display.HTML object>"
            ]
          },
          "metadata": {
            "tags": []
          }
        }
      ]
    },
    {
      "cell_type": "code",
      "metadata": {
        "id": "c65d-osfDUXm"
      },
      "source": [
        "# save the best model\n",
        "\n",
        "learn.save_encoder('pubmed_ask_mixed_fold8')"
      ],
      "execution_count": 44,
      "outputs": []
    },
    {
      "cell_type": "markdown",
      "metadata": {
        "id": "rCwZU0E2RgM6"
      },
      "source": [
        "# Part three: Predict on the test dataset"
      ]
    },
    {
      "cell_type": "code",
      "metadata": {
        "id": "gDm72c-dOu7d",
        "outputId": "b0562d61-845e-427b-f757-c6cb5ae90c6a",
        "colab": {
          "base_uri": "https://localhost:8080/",
          "height": 17
        }
      },
      "source": [
        "# use the test data for prediction\n",
        "\n",
        "preds, y = learn.get_preds(DatasetType.Test)"
      ],
      "execution_count": 45,
      "outputs": [
        {
          "output_type": "display_data",
          "data": {
            "text/html": [
              ""
            ],
            "text/plain": [
              "<IPython.core.display.HTML object>"
            ]
          },
          "metadata": {
            "tags": []
          }
        }
      ]
    },
    {
      "cell_type": "code",
      "metadata": {
        "id": "6tFSQcsWPvxn",
        "outputId": "7769bbd6-5160-4eb4-ee8b-3b971f6d9cc5",
        "colab": {
          "base_uri": "https://localhost:8080/",
          "height": 105
        }
      },
      "source": [
        "predictions, *_ = learn.get_preds(DatasetType.Test)\n",
        "labels = np.argmax(predictions, 1)\n",
        "predict_list = labels.tolist()\n",
        "standard_list = test[0].tolist()\n",
        "\n",
        "print(len(predict_list))\n",
        "print(len(standard_list))\n",
        "\n",
        "print(predict_list)\n",
        "print(standard_list)"
      ],
      "execution_count": 46,
      "outputs": [
        {
          "output_type": "display_data",
          "data": {
            "text/html": [
              ""
            ],
            "text/plain": [
              "<IPython.core.display.HTML object>"
            ]
          },
          "metadata": {
            "tags": []
          }
        },
        {
          "output_type": "stream",
          "text": [
            "866\n",
            "866\n",
            "[384, 18, 424, 8, 8, 8, 12, 20, 162, 27, 491, 491, 31, 31, 34, 65, 655, 487, 37, 37, 37, 37, 42, 926, 49, 775, 49, 49, 775, 615, 100, 53, 53, 53, 53, 53, 60, 60, 60, 70, 74, 76, 76, 79, 79, 79, 79, 79, 79, 79, 79, 79, 79, 79, 79, 79, 79, 79, 79, 79, 79, 79, 79, 79, 79, 79, 79, 79, 79, 79, 79, 79, 79, 79, 79, 79, 79, 79, 79, 79, 79, 79, 79, 79, 79, 79, 79, 79, 80, 80, 80, 80, 85, 87, 91, 91, 91, 94, 94, 94, 77, 47, 94, 94, 94, 94, 94, 94, 94, 94, 94, 94, 94, 30, 94, 234, 1021, 427, 100, 100, 100, 100, 100, 100, 998, 105, 108, 108, 108, 842, 111, 111, 111, 111, 111, 111, 111, 111, 111, 111, 112, 117, 118, 585, 125, 125, 125, 125, 125, 125, 125, 125, 125, 20, 289, 801, 127, 135, 94, 805, 94, 387, 89, 137, 139, 142, 847, 151, 151, 152, 157, 159, 67, 165, 166, 166, 770, 172, 2, 172, 172, 173, 173, 181, 182, 182, 182, 182, 182, 182, 698, 183, 183, 183, 183, 183, 183, 183, 183, 184, 184, 185, 243, 187, 187, 187, 651, 189, 190, 190, 190, 190, 190, 190, 190, 190, 111, 193, 170, 834, 206, 206, 210, 210, 214, 214, 214, 214, 214, 214, 214, 214, 214, 214, 214, 214, 214, 847, 926, 220, 220, 220, 220, 223, 224, 402, 227, 228, 228, 77, 228, 228, 228, 228, 228, 228, 228, 228, 228, 228, 228, 228, 998, 228, 228, 234, 234, 234, 234, 234, 235, 235, 236, 236, 238, 238, 239, 242, 305, 243, 243, 243, 243, 371, 243, 630, 245, 893, 245, 245, 245, 245, 245, 575, 252, 254, 746, 260, 260, 263, 265, 265, 660, 265, 265, 265, 265, 318, 265, 265, 265, 265, 265, 265, 265, 265, 265, 265, 265, 265, 265, 265, 265, 265, 265, 265, 265, 265, 265, 265, 265, 265, 265, 265, 318, 265, 199, 269, 277, 277, 277, 280, 289, 289, 289, 289, 289, 209, 289, 654, 289, 289, 289, 289, 289, 289, 289, 289, 289, 509, 291, 756, 525, 653, 364, 172, 741, 300, 415, 415, 301, 775, 311, 985, 304, 847, 190, 309, 309, 309, 309, 96, 309, 309, 876, 318, 325, 325, 325, 325, 325, 325, 325, 325, 325, 325, 325, 326, 326, 846, 332, 332, 334, 336, 337, 597, 343, 127, 343, 649, 773, 352, 402, 359, 359, 408, 343, 391, 444, 608, 505, 401, 314, 402, 402, 402, 135, 406, 408, 805, 31, 301, 418, 419, 419, 419, 419, 419, 419, 419, 419, 419, 423, 424, 424, 424, 426, 426, 427, 427, 427, 727, 427, 427, 427, 427, 427, 427, 998, 816, 727, 348, 117, 238, 443, 441, 888, 449, 90, 453, 454, 455, 455, 190, 455, 455, 455, 455, 499, 459, 460, 462, 463, 469, 470, 654, 471, 325, 853, 79, 475, 367, 475, 756, 614, 491, 491, 491, 491, 491, 62, 491, 492, 308, 495, 495, 503, 264, 616, 281, 314, 517, 517, 517, 831, 523, 524, 524, 998, 530, 530, 530, 517, 531, 546, 548, 548, 369, 533, 491, 574, 578, 579, 580, 584, 587, 590, 590, 47, 592, 592, 594, 595, 359, 597, 383, 610, 614, 614, 614, 614, 614, 756, 617, 619, 622, 623, 623, 624, 633, 109, 809, 646, 646, 646, 775, 385, 651, 172, 652, 652, 652, 720, 662, 662, 437, 676, 842, 695, 289, 702, 702, 704, 702, 704, 707, 408, 715, 717, 127, 723, 696, 726, 491, 741, 741, 579, 741, 741, 541, 749, 749, 751, 759, 96, 763, 764, 375, 773, 774, 723, 775, 775, 727, 775, 775, 777, 778, 334, 352, 781, 131, 787, 613, 794, 794, 794, 172, 583, 806, 808, 404, 809, 809, 809, 810, 810, 812, 819, 826, 826, 830, 830, 830, 830, 830, 830, 830, 1026, 1026, 831, 0, 834, 834, 840, 385, 847, 847, 847, 848, 371, 852, 852, 853, 853, 853, 853, 534, 861, 861, 364, 82, 47, 871, 358, 902, 49, 877, 877, 877, 190, 896, 896, 896, 896, 896, 896, 842, 972, 904, 904, 904, 904, 600, 907, 433, 912, 934, 937, 937, 937, 937, 937, 937, 937, 937, 972, 937, 941, 973, 973, 943, 818, 948, 949, 949, 949, 949, 949, 949, 949, 949, 949, 949, 949, 949, 949, 949, 949, 949, 949, 949, 949, 949, 949, 949, 949, 949, 949, 949, 949, 949, 949, 949, 949, 949, 949, 949, 949, 949, 949, 949, 949, 949, 949, 949, 949, 949, 949, 949, 949, 949, 949, 949, 949, 949, 949, 949, 949, 949, 949, 949, 949, 949, 949, 949, 949, 949, 949, 949, 949, 949, 949, 949, 949, 949, 949, 949, 949, 949, 949, 931, 949, 949, 949, 949, 949, 949, 949, 949, 949, 949, 949, 949, 949, 949, 949, 949, 949, 949, 949, 949, 949, 949, 949, 949, 949, 949, 950, 950, 950, 950, 950, 950, 950, 955, 955, 314, 964, 964, 243, 965, 966, 792, 659, 932, 976, 978, 979, 980, 1021, 1021, 989, 997, 999, 1016, 1001, 1001, 1004, 1004, 1005, 1016, 1026, 818, 1026, 1026, 1026, 1026, 1026, 1026, 985, 1027, 972, 1028, 1028, 1029]\n",
            "[1, 5, 5, 8, 8, 8, 12, 20, 26, 27, 29, 29, 31, 31, 34, 34, 34, 37, 37, 37, 37, 37, 42, 43, 49, 49, 49, 49, 49, 49, 49, 53, 53, 53, 53, 53, 60, 60, 60, 70, 74, 76, 76, 79, 79, 79, 79, 79, 79, 79, 79, 79, 79, 79, 79, 79, 79, 79, 79, 79, 79, 79, 79, 79, 79, 79, 79, 79, 79, 79, 79, 79, 79, 79, 79, 79, 79, 79, 79, 79, 79, 79, 79, 79, 79, 79, 79, 79, 80, 80, 80, 80, 85, 87, 91, 91, 91, 94, 94, 94, 94, 94, 94, 94, 94, 94, 94, 94, 94, 94, 94, 94, 94, 94, 94, 98, 99, 100, 100, 100, 100, 100, 100, 100, 103, 105, 108, 108, 108, 110, 111, 111, 111, 111, 111, 111, 111, 111, 111, 111, 112, 117, 118, 125, 125, 125, 125, 125, 125, 125, 125, 125, 125, 125, 126, 127, 127, 135, 135, 135, 135, 136, 137, 137, 139, 142, 151, 151, 151, 152, 157, 159, 164, 165, 166, 166, 166, 172, 172, 172, 172, 173, 173, 181, 182, 182, 182, 182, 182, 182, 182, 183, 183, 183, 183, 183, 183, 183, 183, 184, 184, 185, 187, 187, 187, 187, 188, 189, 190, 190, 190, 190, 190, 190, 190, 190, 190, 193, 194, 202, 206, 206, 210, 210, 214, 214, 214, 214, 214, 214, 214, 214, 214, 214, 214, 214, 214, 218, 218, 220, 220, 220, 220, 223, 224, 226, 227, 228, 228, 228, 228, 228, 228, 228, 228, 228, 228, 228, 228, 228, 228, 228, 228, 228, 228, 234, 234, 234, 234, 234, 235, 235, 236, 236, 238, 238, 239, 242, 243, 243, 243, 243, 243, 243, 243, 244, 245, 245, 245, 245, 245, 245, 245, 250, 252, 254, 257, 260, 260, 263, 265, 265, 265, 265, 265, 265, 265, 265, 265, 265, 265, 265, 265, 265, 265, 265, 265, 265, 265, 265, 265, 265, 265, 265, 265, 265, 265, 265, 265, 265, 265, 265, 265, 265, 265, 265, 266, 269, 277, 277, 277, 280, 289, 289, 289, 289, 289, 289, 289, 289, 289, 289, 289, 289, 289, 289, 289, 289, 289, 291, 291, 291, 291, 293, 293, 293, 293, 300, 301, 301, 301, 301, 303, 304, 304, 307, 309, 309, 309, 309, 309, 309, 309, 310, 318, 318, 325, 325, 325, 325, 325, 325, 325, 325, 325, 325, 325, 326, 326, 329, 332, 332, 334, 336, 337, 337, 343, 343, 343, 349, 350, 352, 358, 359, 359, 373, 375, 391, 391, 394, 398, 401, 402, 402, 402, 402, 405, 406, 408, 413, 414, 415, 418, 419, 419, 419, 419, 419, 419, 419, 419, 419, 423, 424, 424, 424, 426, 426, 427, 427, 427, 427, 427, 427, 427, 427, 427, 427, 427, 427, 427, 427, 429, 434, 439, 441, 447, 449, 451, 453, 454, 455, 455, 455, 455, 455, 455, 455, 459, 459, 460, 462, 463, 469, 470, 471, 471, 473, 474, 475, 475, 475, 475, 478, 479, 491, 491, 491, 491, 491, 491, 491, 492, 494, 495, 495, 503, 503, 503, 513, 516, 517, 517, 517, 519, 523, 524, 524, 527, 530, 530, 530, 531, 531, 546, 548, 548, 557, 558, 561, 574, 578, 579, 580, 584, 587, 590, 590, 591, 592, 592, 594, 595, 596, 597, 603, 610, 614, 614, 614, 614, 614, 615, 617, 619, 622, 623, 623, 624, 633, 637, 641, 646, 646, 646, 647, 648, 651, 651, 652, 652, 652, 652, 662, 662, 664, 681, 693, 695, 700, 701, 701, 704, 704, 704, 707, 711, 716, 717, 721, 723, 723, 726, 738, 741, 741, 741, 741, 741, 746, 749, 749, 751, 759, 761, 763, 764, 767, 773, 774, 775, 775, 775, 775, 775, 775, 777, 778, 779, 779, 781, 786, 788, 794, 794, 794, 794, 803, 806, 806, 808, 809, 809, 809, 809, 810, 810, 812, 820, 826, 826, 830, 830, 830, 830, 830, 830, 830, 830, 830, 831, 833, 834, 834, 840, 841, 847, 847, 847, 848, 852, 852, 852, 853, 853, 853, 853, 853, 861, 861, 864, 865, 870, 871, 872, 876, 876, 877, 877, 877, 889, 896, 896, 896, 896, 896, 896, 900, 900, 904, 904, 904, 904, 905, 907, 910, 912, 934, 937, 937, 937, 937, 937, 937, 937, 937, 937, 937, 941, 941, 941, 943, 948, 948, 949, 949, 949, 949, 949, 949, 949, 949, 949, 949, 949, 949, 949, 949, 949, 949, 949, 949, 949, 949, 949, 949, 949, 949, 949, 949, 949, 949, 949, 949, 949, 949, 949, 949, 949, 949, 949, 949, 949, 949, 949, 949, 949, 949, 949, 949, 949, 949, 949, 949, 949, 949, 949, 949, 949, 949, 949, 949, 949, 949, 949, 949, 949, 949, 949, 949, 949, 949, 949, 949, 949, 949, 949, 949, 949, 949, 949, 949, 949, 949, 949, 949, 949, 949, 949, 949, 949, 949, 949, 949, 949, 949, 949, 949, 949, 949, 949, 949, 949, 949, 949, 949, 949, 949, 950, 950, 950, 950, 950, 950, 950, 955, 955, 963, 964, 964, 964, 965, 966, 967, 970, 973, 976, 978, 979, 980, 983, 983, 989, 997, 999, 1001, 1001, 1001, 1004, 1004, 1005, 1016, 1026, 1026, 1026, 1026, 1026, 1026, 1026, 1026, 1026, 1027, 1028, 1028, 1028, 1029]\n"
          ],
          "name": "stdout"
        }
      ]
    },
    {
      "cell_type": "code",
      "metadata": {
        "id": "XIC4zufnMxtq",
        "outputId": "ce153f02-7017-4ea0-b14d-6f2d21597f82",
        "colab": {
          "base_uri": "https://localhost:8080/"
        }
      },
      "source": [
        "correct_num = 0\n",
        "\n",
        "for i in range(0, len(standard_list)):\n",
        "  if predict_list[i] == standard_list[i]:\n",
        "    correct_num = correct_num+1\n",
        "  else:\n",
        "    pass\n",
        "print(correct_num)\n",
        "\n",
        "predict_accuracy = correct_num/len(predict_list)\n",
        "print(predict_accuracy)"
      ],
      "execution_count": 47,
      "outputs": [
        {
          "output_type": "stream",
          "text": [
            "674\n",
            "0.7782909930715936\n"
          ],
          "name": "stdout"
        }
      ]
    },
    {
      "cell_type": "code",
      "metadata": {
        "id": "zlKMHp1CIaRJ"
      },
      "source": [
        ""
      ],
      "execution_count": 47,
      "outputs": []
    }
  ]
}