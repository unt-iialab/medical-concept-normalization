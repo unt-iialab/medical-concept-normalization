{
  "nbformat": 4,
  "nbformat_minor": 0,
  "metadata": {
    "accelerator": "TPU",
    "colab": {
      "name": "cadec_ask_05.ipynb",
      "provenance": [],
      "collapsed_sections": [],
      "include_colab_link": true
    },
    "kernelspec": {
      "display_name": "Python 3",
      "name": "python3"
    }
  },
  "cells": [
    {
      "cell_type": "markdown",
      "metadata": {
        "id": "view-in-github",
        "colab_type": "text"
      },
      "source": [
        "<a href=\"https://colab.research.google.com/github/unt-iialab/medical-concept-normalization/blob/master/medical-concept-normalization/fine-tuning-experiments/askpatient/cadec_ask_05.ipynb\" target=\"_parent\"><img src=\"https://colab.research.google.com/assets/colab-badge.svg\" alt=\"Open In Colab\"/></a>"
      ]
    },
    {
      "cell_type": "code",
      "metadata": {
        "id": "adSi6i2-dWxy"
      },
      "source": [
        "import os"
      ],
      "execution_count": 1,
      "outputs": []
    },
    {
      "cell_type": "code",
      "metadata": {
        "id": "E7xYCRGPjd9B"
      },
      "source": [
        "base_dir = 'medical-concept-normalization'"
      ],
      "execution_count": 2,
      "outputs": []
    },
    {
      "cell_type": "code",
      "metadata": {
        "id": "yvIW3aUDjYNS"
      },
      "source": [
        "os.mkdir(base_dir)"
      ],
      "execution_count": 3,
      "outputs": []
    },
    {
      "cell_type": "code",
      "metadata": {
        "id": "es-FFLlfk6SG"
      },
      "source": [
        "os.mkdir('medical-concept-normalization/data_collection')"
      ],
      "execution_count": 4,
      "outputs": []
    },
    {
      "cell_type": "markdown",
      "metadata": {
        "id": "0R-Guw_VoJXm"
      },
      "source": [
        "**Install fastai and clone the fastai for text classification**\n",
        "\n"
      ]
    },
    {
      "cell_type": "code",
      "metadata": {
        "id": "QVZa3Z0PmHFH",
        "outputId": "a2b8a65d-6df0-45ca-c3fa-0216477a8599",
        "colab": {
          "base_uri": "https://localhost:8080/"
        }
      },
      "source": [
        "!curl https://course-v3.fast.ai/setup/colab | bash"
      ],
      "execution_count": 5,
      "outputs": [
        {
          "output_type": "stream",
          "text": [
            "  % Total    % Received % Xferd  Average Speed   Time    Time     Time  Current\n",
            "                                 Dload  Upload   Total   Spent    Left  Speed\n",
            "\r  0     0    0     0    0     0      0      0 --:--:-- --:--:-- --:--:--     0curl: (6) Could not resolve host: course-v3.fast.ai\n"
          ],
          "name": "stdout"
        }
      ]
    },
    {
      "cell_type": "code",
      "metadata": {
        "id": "_FBFFEBrmJC0",
        "outputId": "f5894d55-e768-4a08-9eb3-5aef9cd23a3d",
        "colab": {
          "base_uri": "https://localhost:8080/"
        }
      },
      "source": [
        "!git clone https://github.com/wshuyi/demo-nlp-classification-fastai.git"
      ],
      "execution_count": 6,
      "outputs": [
        {
          "output_type": "stream",
          "text": [
            "Cloning into 'demo-nlp-classification-fastai'...\n",
            "remote: Enumerating objects: 9, done.\u001b[K\n",
            "Unpacking objects: 100% (9/9), done.\n",
            "remote: Total 9 (delta 0), reused 0 (delta 0), pack-reused 9\u001b[K\n"
          ],
          "name": "stdout"
        }
      ]
    },
    {
      "cell_type": "code",
      "metadata": {
        "id": "66zfh_JqmWMU"
      },
      "source": [
        "from fastai import *\n",
        "from fastai.text import *"
      ],
      "execution_count": 7,
      "outputs": []
    },
    {
      "cell_type": "markdown",
      "metadata": {
        "id": "mNIw-yALdBU9"
      },
      "source": [
        "**Set the path of the data collections**"
      ]
    },
    {
      "cell_type": "code",
      "metadata": {
        "id": "pzH7VMh4mqCL"
      },
      "source": [
        "path = Path('medical-concept-normalization/data_collection')"
      ],
      "execution_count": 8,
      "outputs": []
    },
    {
      "cell_type": "code",
      "metadata": {
        "id": "b8fjI6yyn4aS"
      },
      "source": [
        "# training data set\n",
        "\n",
        "train_csv = path/'AskAPatient.fold-5.train.csv'\n",
        "train = pd.read_csv(train_csv, header=None)\n",
        "#train.head()\n",
        "#train.info()"
      ],
      "execution_count": 10,
      "outputs": []
    },
    {
      "cell_type": "code",
      "metadata": {
        "id": "Hmlr-bAorfHd",
        "outputId": "866457ae-416e-409f-fc72-9ff481d62c7d",
        "colab": {
          "base_uri": "https://localhost:8080/",
          "height": 204
        }
      },
      "source": [
        "# validating data set\n",
        "\n",
        "valid = pd.read_csv(path/\"AskAPatient.fold-5.validation.csv\",header=None)\n",
        "valid.head()"
      ],
      "execution_count": 11,
      "outputs": [
        {
          "output_type": "execute_result",
          "data": {
            "text/html": [
              "<div>\n",
              "<style scoped>\n",
              "    .dataframe tbody tr th:only-of-type {\n",
              "        vertical-align: middle;\n",
              "    }\n",
              "\n",
              "    .dataframe tbody tr th {\n",
              "        vertical-align: top;\n",
              "    }\n",
              "\n",
              "    .dataframe thead th {\n",
              "        text-align: right;\n",
              "    }\n",
              "</style>\n",
              "<table border=\"1\" class=\"dataframe\">\n",
              "  <thead>\n",
              "    <tr style=\"text-align: right;\">\n",
              "      <th></th>\n",
              "      <th>0</th>\n",
              "      <th>1</th>\n",
              "    </tr>\n",
              "  </thead>\n",
              "  <tbody>\n",
              "    <tr>\n",
              "      <th>0</th>\n",
              "      <td>2</td>\n",
              "      <td>heel pain</td>\n",
              "    </tr>\n",
              "    <tr>\n",
              "      <th>1</th>\n",
              "      <td>2</td>\n",
              "      <td>heel pain</td>\n",
              "    </tr>\n",
              "    <tr>\n",
              "      <th>2</th>\n",
              "      <td>5</td>\n",
              "      <td>increase my heart rate</td>\n",
              "    </tr>\n",
              "    <tr>\n",
              "      <th>3</th>\n",
              "      <td>5</td>\n",
              "      <td>tachycardia</td>\n",
              "    </tr>\n",
              "    <tr>\n",
              "      <th>4</th>\n",
              "      <td>8</td>\n",
              "      <td>severe arthritis</td>\n",
              "    </tr>\n",
              "  </tbody>\n",
              "</table>\n",
              "</div>"
            ],
            "text/plain": [
              "   0                       1\n",
              "0  2               heel pain\n",
              "1  2               heel pain\n",
              "2  5  increase my heart rate\n",
              "3  5             tachycardia\n",
              "4  8        severe arthritis"
            ]
          },
          "metadata": {
            "tags": []
          },
          "execution_count": 11
        }
      ]
    },
    {
      "cell_type": "code",
      "metadata": {
        "id": "cOza9dfSsBud",
        "outputId": "6b79df65-9f7c-42be-d22c-086bc4629a95",
        "colab": {
          "base_uri": "https://localhost:8080/",
          "height": 204
        }
      },
      "source": [
        "# testing data set\n",
        "\n",
        "test = pd.read_csv(path/\"AskAPatient.fold-5.test.csv\",header=None)\n",
        "test.head()"
      ],
      "execution_count": 12,
      "outputs": [
        {
          "output_type": "execute_result",
          "data": {
            "text/html": [
              "<div>\n",
              "<style scoped>\n",
              "    .dataframe tbody tr th:only-of-type {\n",
              "        vertical-align: middle;\n",
              "    }\n",
              "\n",
              "    .dataframe tbody tr th {\n",
              "        vertical-align: top;\n",
              "    }\n",
              "\n",
              "    .dataframe thead th {\n",
              "        text-align: right;\n",
              "    }\n",
              "</style>\n",
              "<table border=\"1\" class=\"dataframe\">\n",
              "  <thead>\n",
              "    <tr style=\"text-align: right;\">\n",
              "      <th></th>\n",
              "      <th>0</th>\n",
              "      <th>1</th>\n",
              "    </tr>\n",
              "  </thead>\n",
              "  <tbody>\n",
              "    <tr>\n",
              "      <th>0</th>\n",
              "      <td>0</td>\n",
              "      <td>fear</td>\n",
              "    </tr>\n",
              "    <tr>\n",
              "      <th>1</th>\n",
              "      <td>0</td>\n",
              "      <td>scared to death</td>\n",
              "    </tr>\n",
              "    <tr>\n",
              "      <th>2</th>\n",
              "      <td>2</td>\n",
              "      <td>heel pain</td>\n",
              "    </tr>\n",
              "    <tr>\n",
              "      <th>3</th>\n",
              "      <td>2</td>\n",
              "      <td>heels hurt</td>\n",
              "    </tr>\n",
              "    <tr>\n",
              "      <th>4</th>\n",
              "      <td>2</td>\n",
              "      <td>pain in my right heel</td>\n",
              "    </tr>\n",
              "  </tbody>\n",
              "</table>\n",
              "</div>"
            ],
            "text/plain": [
              "   0                      1\n",
              "0  0                   fear\n",
              "1  0        scared to death\n",
              "2  2              heel pain\n",
              "3  2             heels hurt\n",
              "4  2  pain in my right heel"
            ]
          },
          "metadata": {
            "tags": []
          },
          "execution_count": 12
        }
      ]
    },
    {
      "cell_type": "code",
      "metadata": {
        "id": "Vo-YNvVYoaH6",
        "outputId": "58659db2-5438-4f77-fe63-db4cbd60cb96",
        "colab": {
          "base_uri": "https://localhost:8080/",
          "height": 17
        }
      },
      "source": [
        "# Creating DataBunch for language modelling\n",
        "\n",
        "data_lm = TextLMDataBunch.from_csv(path, 'cadec_ask.csv')"
      ],
      "execution_count": 13,
      "outputs": [
        {
          "output_type": "display_data",
          "data": {
            "text/html": [
              ""
            ],
            "text/plain": [
              "<IPython.core.display.HTML object>"
            ]
          },
          "metadata": {
            "tags": []
          }
        },
        {
          "output_type": "display_data",
          "data": {
            "text/html": [
              ""
            ],
            "text/plain": [
              "<IPython.core.display.HTML object>"
            ]
          },
          "metadata": {
            "tags": []
          }
        }
      ]
    },
    {
      "cell_type": "code",
      "metadata": {
        "id": "qcV-9kMnNLBf"
      },
      "source": [
        ""
      ],
      "execution_count": 13,
      "outputs": []
    },
    {
      "cell_type": "code",
      "metadata": {
        "id": "1ScY9afDsnvE"
      },
      "source": [
        "# Creating DataBunch for classification\n",
        "\n",
        "# data_clas = TextClasDataBunch.from_df(path, train, valid, test, vocab=data_lm.train_ds.vocab, bs=128)"
      ],
      "execution_count": 14,
      "outputs": []
    },
    {
      "cell_type": "code",
      "metadata": {
        "id": "gzrSdQcvey9p",
        "outputId": "90d0c622-d476-4a4f-d979-2433f738a9b3",
        "colab": {
          "base_uri": "https://localhost:8080/",
          "height": 17
        }
      },
      "source": [
        "data_clas = TextClasDataBunch.from_df(path, train, valid, vocab=data_lm.train_ds.vocab, bs=128)"
      ],
      "execution_count": 15,
      "outputs": [
        {
          "output_type": "display_data",
          "data": {
            "text/html": [
              ""
            ],
            "text/plain": [
              "<IPython.core.display.HTML object>"
            ]
          },
          "metadata": {
            "tags": []
          }
        },
        {
          "output_type": "display_data",
          "data": {
            "text/html": [
              ""
            ],
            "text/plain": [
              "<IPython.core.display.HTML object>"
            ]
          },
          "metadata": {
            "tags": []
          }
        }
      ]
    },
    {
      "cell_type": "code",
      "metadata": {
        "id": "MD27Tf0Ke3ou",
        "outputId": "870d53cc-1b03-4c7a-9977-030e9de58dc9",
        "colab": {
          "base_uri": "https://localhost:8080/",
          "height": 17
        }
      },
      "source": [
        "data_clas.add_test(test,label=0)\n"
      ],
      "execution_count": 16,
      "outputs": [
        {
          "output_type": "display_data",
          "data": {
            "text/html": [
              ""
            ],
            "text/plain": [
              "<IPython.core.display.HTML object>"
            ]
          },
          "metadata": {
            "tags": []
          }
        }
      ]
    },
    {
      "cell_type": "code",
      "metadata": {
        "id": "-dpjnk_rstwk"
      },
      "source": [
        "data_lm.save()\n",
        "data_clas.save()"
      ],
      "execution_count": 17,
      "outputs": []
    },
    {
      "cell_type": "code",
      "metadata": {
        "id": "4OkiJa36sw5s",
        "outputId": "20331ad4-25d7-4157-ca30-7f0488f8373e",
        "colab": {
          "base_uri": "https://localhost:8080/"
        }
      },
      "source": [
        "data_lm.train_ds.vocab.itos"
      ],
      "execution_count": 18,
      "outputs": [
        {
          "output_type": "execute_result",
          "data": {
            "text/plain": [
              "['xxunk',\n",
              " 'xxpad',\n",
              " 'xxbos',\n",
              " 'xxeos',\n",
              " 'xxfld',\n",
              " 'xxmaj',\n",
              " 'xxup',\n",
              " 'xxrep',\n",
              " 'xxwrep',\n",
              " 'pain',\n",
              " 'lipitor',\n",
              " 'in',\n",
              " 'of',\n",
              " 'muscle',\n",
              " '.',\n",
              " 'and',\n",
              " 'to',\n",
              " ',',\n",
              " 'i',\n",
              " 'my',\n",
              " 'the',\n",
              " 'severe',\n",
              " 'myalgia',\n",
              " 'fatigue',\n",
              " 'lower',\n",
              " 'loss',\n",
              " '-',\n",
              " 'weakness',\n",
              " 'cramp',\n",
              " 'limb',\n",
              " 'back',\n",
              " 'stomach',\n",
              " 'a',\n",
              " 'depression',\n",
              " 'cramps',\n",
              " 'memory',\n",
              " 'leg',\n",
              " 'gas',\n",
              " 'joint',\n",
              " 'upper',\n",
              " 'legs',\n",
              " 'pains',\n",
              " 'it',\n",
              " 'shoulder',\n",
              " 'headache',\n",
              " 'unable',\n",
              " 'knee',\n",
              " 'neck',\n",
              " 'not',\n",
              " '/',\n",
              " 'on',\n",
              " 'arthralgia',\n",
              " 'was',\n",
              " 'aches',\n",
              " 'foot',\n",
              " 'excessive',\n",
              " 'hip',\n",
              " 'like',\n",
              " 'for',\n",
              " 'gastrointestinal',\n",
              " 'numbness',\n",
              " 'arthritis',\n",
              " 'all',\n",
              " 'insomnia',\n",
              " 'problems',\n",
              " 'walk',\n",
              " 'have',\n",
              " 'feeling',\n",
              " 'bleeding',\n",
              " 'arthrotec',\n",
              " 'with',\n",
              " 'cholesterol',\n",
              " 'is',\n",
              " 'heart',\n",
              " 'nausea',\n",
              " 'tired',\n",
              " 'feet',\n",
              " 'abdominal',\n",
              " 'asthenia',\n",
              " 'dizziness',\n",
              " 'disease',\n",
              " 'muscles',\n",
              " 'walking',\n",
              " 'extreme',\n",
              " 'this',\n",
              " 'very',\n",
              " 'chest',\n",
              " 'difficulty',\n",
              " 'that',\n",
              " 'hair',\n",
              " 'swelling',\n",
              " 'hand',\n",
              " 'zocor',\n",
              " 'sleep',\n",
              " 'vision',\n",
              " 'could',\n",
              " 'burning',\n",
              " 'increased',\n",
              " 'ache',\n",
              " 'cramping',\n",
              " ')',\n",
              " 'stiffness',\n",
              " 'had',\n",
              " 'backache',\n",
              " \"n't\",\n",
              " 'pins',\n",
              " 'needles',\n",
              " 'liver',\n",
              " '(',\n",
              " 'diarrhoea',\n",
              " 'blood',\n",
              " 'left',\n",
              " 'calf',\n",
              " 'but',\n",
              " 'up',\n",
              " 'skin',\n",
              " 'tingling',\n",
              " 'amnesia',\n",
              " 'at',\n",
              " 'weight',\n",
              " 'anxiety',\n",
              " 'high',\n",
              " 'taking',\n",
              " 'short',\n",
              " 'me',\n",
              " 'disability',\n",
              " 'impairment',\n",
              " 'lack',\n",
              " 'side',\n",
              " 'low',\n",
              " 'term',\n",
              " 'arms',\n",
              " 'so',\n",
              " 'symptom',\n",
              " 'hands',\n",
              " 'stiff',\n",
              " 'can',\n",
              " 'headaches',\n",
              " 'arm',\n",
              " 'bloating',\n",
              " 'constipation',\n",
              " 'sore',\n",
              " 'time',\n",
              " 'no',\n",
              " 'after',\n",
              " \"'s\",\n",
              " 'disorder',\n",
              " 'poor',\n",
              " 'balance',\n",
              " 'or',\n",
              " 'mg',\n",
              " 'body',\n",
              " 'neuropathy',\n",
              " 'voltaren',\n",
              " 'pressure',\n",
              " 'off',\n",
              " 'blurred',\n",
              " 'from',\n",
              " 'tiredness',\n",
              " 'feel',\n",
              " 'drug',\n",
              " 'ankle',\n",
              " 'joints',\n",
              " 'hurt',\n",
              " 'infarction',\n",
              " 'pravachol',\n",
              " 'been',\n",
              " 'rash',\n",
              " 'am',\n",
              " 'vaginal',\n",
              " 'myocardial',\n",
              " 'attack',\n",
              " 'bad',\n",
              " 'myositis',\n",
              " 'right',\n",
              " 'get',\n",
              " '!',\n",
              " 'effects',\n",
              " 'vertigo',\n",
              " 'as',\n",
              " 'has',\n",
              " 'acid',\n",
              " 'painful',\n",
              " 'mentally',\n",
              " 'sensation',\n",
              " 'symptoms',\n",
              " 'swollen',\n",
              " 'shoulders',\n",
              " 'upset',\n",
              " 'energy',\n",
              " 'generalised',\n",
              " 'itching',\n",
              " 'diarrhea',\n",
              " 'constant',\n",
              " 'both',\n",
              " 'ubidecarenone',\n",
              " 'out',\n",
              " 'atrophy',\n",
              " 'gain',\n",
              " 'over',\n",
              " 'are',\n",
              " 'dry',\n",
              " 'by',\n",
              " 'weak',\n",
              " 'diabetes',\n",
              " 'raised',\n",
              " 'dull',\n",
              " 'be',\n",
              " 'problem',\n",
              " 'damage',\n",
              " 'knees',\n",
              " 'elbow',\n",
              " 'tendonitis',\n",
              " 'spasm',\n",
              " 'crestor',\n",
              " 'elevated',\n",
              " 'do',\n",
              " 'influenza',\n",
              " 'day',\n",
              " 'reduced',\n",
              " 'illness',\n",
              " 'sleeping',\n",
              " 'take',\n",
              " 'spasms',\n",
              " 'when',\n",
              " 'started',\n",
              " 'mood',\n",
              " 'years',\n",
              " 'about',\n",
              " 'hazy',\n",
              " 'heavy',\n",
              " 'toe',\n",
              " 'exhaustion',\n",
              " 'visual',\n",
              " '3',\n",
              " 'felt',\n",
              " 'bed',\n",
              " 'kidney',\n",
              " 'flu',\n",
              " 'movement',\n",
              " 'discomfort',\n",
              " 'abnormal',\n",
              " 'did',\n",
              " 'thigh',\n",
              " 'flatulence',\n",
              " 'irritable',\n",
              " 'now',\n",
              " 'myopathy',\n",
              " 'concentrate',\n",
              " 'libido',\n",
              " 'reflux',\n",
              " 'syndrome',\n",
              " 'sclerosis',\n",
              " 'just',\n",
              " 'will',\n",
              " 'throat',\n",
              " 'hips',\n",
              " 'cold',\n",
              " 'down',\n",
              " 'doctor',\n",
              " 'fibromyalgia',\n",
              " 'months',\n",
              " 'vomiting',\n",
              " '2',\n",
              " 'would',\n",
              " 'if',\n",
              " 'days',\n",
              " 'more',\n",
              " 'night',\n",
              " 'one',\n",
              " 'went',\n",
              " 'urine',\n",
              " 'concentration',\n",
              " 'swings',\n",
              " 'serum',\n",
              " 'appetite',\n",
              " 'soreness',\n",
              " 'malaise',\n",
              " 'lightheadedness',\n",
              " 'calves',\n",
              " '10',\n",
              " 'confusion',\n",
              " 'stopped',\n",
              " 'head',\n",
              " 'disturbance',\n",
              " 'chronic',\n",
              " 'mellitus',\n",
              " 'sweating',\n",
              " 'eye',\n",
              " 'wind',\n",
              " 'tremor',\n",
              " 'aching',\n",
              " 'toes',\n",
              " 'menstrual',\n",
              " 'simvastatin',\n",
              " 'think',\n",
              " 'tinnitus',\n",
              " 'brain',\n",
              " 'stairs',\n",
              " 'paraesthesia',\n",
              " 'some',\n",
              " 'injury',\n",
              " 'esters',\n",
              " 'ankles',\n",
              " 'failure',\n",
              " 'cough',\n",
              " 'type',\n",
              " 'finger',\n",
              " 'heel',\n",
              " 'celebrex',\n",
              " 'c',\n",
              " 'ibuprofen',\n",
              " 'terrible',\n",
              " 'impaired',\n",
              " 'also',\n",
              " 'excruciating',\n",
              " 'only',\n",
              " 'intense',\n",
              " 'acute',\n",
              " 'ezetimibe',\n",
              " 'face',\n",
              " 'took',\n",
              " 'mild',\n",
              " 'parkinson',\n",
              " 'fingers',\n",
              " 'still',\n",
              " 'general',\n",
              " 'renal',\n",
              " 'getting',\n",
              " 'were',\n",
              " 'decreased',\n",
              " 'palpitations',\n",
              " 'motivation',\n",
              " 'charleyhorse',\n",
              " 'indigestion',\n",
              " 'level',\n",
              " '&',\n",
              " 'peripheral',\n",
              " 'depressed',\n",
              " 'hot',\n",
              " 'ascorbic',\n",
              " 'tendon',\n",
              " 'dark',\n",
              " 'eyes',\n",
              " 'stress',\n",
              " 'weeks',\n",
              " 'they',\n",
              " 'swallowing',\n",
              " 'lupus',\n",
              " 'restless',\n",
              " 'any',\n",
              " 'he',\n",
              " 'lateral',\n",
              " \"'m\",\n",
              " 'enzymes',\n",
              " 'dyspnoea',\n",
              " 'strength',\n",
              " 'week',\n",
              " 'you',\n",
              " 'tightness',\n",
              " 'then',\n",
              " 'speech',\n",
              " 'always',\n",
              " 'infection',\n",
              " 'trouble',\n",
              " 'nerve',\n",
              " 'twitch',\n",
              " 'limbs',\n",
              " 'other',\n",
              " 'exercise',\n",
              " 'gout',\n",
              " '1',\n",
              " 'an',\n",
              " 'ca',\n",
              " 'oil',\n",
              " 'menopause',\n",
              " 'well',\n",
              " '20',\n",
              " ':',\n",
              " 'ago',\n",
              " 'much',\n",
              " 'migraine',\n",
              " 'never',\n",
              " 'than',\n",
              " 'heartburn',\n",
              " 'before',\n",
              " 'again',\n",
              " 'dreams',\n",
              " 'which',\n",
              " 'drowsy',\n",
              " 'sinus',\n",
              " 'wrist',\n",
              " 'every',\n",
              " 'multiple',\n",
              " 'taste',\n",
              " 'going',\n",
              " '5',\n",
              " 'vitamin',\n",
              " 'coq10',\n",
              " 'even',\n",
              " 'fish',\n",
              " 'provoked',\n",
              " 'breathing',\n",
              " 'amyotrophic',\n",
              " 'advil',\n",
              " 'move',\n",
              " 'function',\n",
              " 'go',\n",
              " 'thighs',\n",
              " 'bowel',\n",
              " 'breath',\n",
              " 'nasal',\n",
              " 'hardly',\n",
              " 'fog',\n",
              " 'twitching',\n",
              " 'due',\n",
              " 'mouth',\n",
              " 'elbows',\n",
              " 'better',\n",
              " \"'ve\",\n",
              " 'clearly',\n",
              " 'ulcer',\n",
              " 'worse',\n",
              " 'tylenol',\n",
              " 'lethargy',\n",
              " 'levels',\n",
              " 'lost',\n",
              " 'rheumatoid',\n",
              " 'being',\n",
              " 'fenofibrate',\n",
              " 'tricor',\n",
              " 'fever',\n",
              " 'barely',\n",
              " 'mobility',\n",
              " '40',\n",
              " 'horses',\n",
              " 'extremely',\n",
              " 'medication',\n",
              " '+',\n",
              " 'because',\n",
              " 'uterine',\n",
              " 'two',\n",
              " 'urinary',\n",
              " 'sick',\n",
              " 'fatigued',\n",
              " 'plantar',\n",
              " 'tight',\n",
              " 'light',\n",
              " 'aleve',\n",
              " 'experienced',\n",
              " 'liptor',\n",
              " 'sharp',\n",
              " 'first',\n",
              " 'panic',\n",
              " 'drive',\n",
              " 'life',\n",
              " 'month',\n",
              " 'what',\n",
              " 'loose',\n",
              " 'these',\n",
              " 'diclofenac',\n",
              " 'mental',\n",
              " 'charley',\n",
              " 'numb',\n",
              " 'extremity',\n",
              " 'morning',\n",
              " 'who',\n",
              " 'dizzy',\n",
              " 'pulse',\n",
              " 'almost',\n",
              " ';',\n",
              " 'horrible',\n",
              " 'moody',\n",
              " 'malignant',\n",
              " 'shortness',\n",
              " 'ringing',\n",
              " 'slurred',\n",
              " 'facial',\n",
              " 'major',\n",
              " 'paracetamol',\n",
              " 'around',\n",
              " 'stamina',\n",
              " 'should',\n",
              " 'attacks',\n",
              " 'hunger',\n",
              " '4',\n",
              " 'accident',\n",
              " 'having',\n",
              " 'dr',\n",
              " 'deep',\n",
              " 'told',\n",
              " 'statins',\n",
              " 'cerebrovascular',\n",
              " 'oedema',\n",
              " 'finding',\n",
              " '?',\n",
              " 'sugar',\n",
              " 'tract',\n",
              " 'achilles',\n",
              " 'sweats',\n",
              " 'cancer',\n",
              " 'got',\n",
              " 'since',\n",
              " 'sex',\n",
              " 'als',\n",
              " 'zetia',\n",
              " 'your',\n",
              " 'ldl',\n",
              " 'same',\n",
              " 'away',\n",
              " 'sensations',\n",
              " 'times',\n",
              " 'present',\n",
              " 'rhabdomyolysis',\n",
              " 'thoughts',\n",
              " 'hypertension',\n",
              " 'congestion',\n",
              " 'became',\n",
              " 'statin',\n",
              " 'long',\n",
              " 'irregular',\n",
              " '6',\n",
              " 'natural',\n",
              " 'lot',\n",
              " 'ability',\n",
              " 'inability',\n",
              " 'good',\n",
              " 'taken',\n",
              " 'without',\n",
              " 'colic',\n",
              " 'fasciitis',\n",
              " 'reading',\n",
              " 'thought',\n",
              " 'work',\n",
              " 'know',\n",
              " 'osteoarthritis',\n",
              " 'forgetful',\n",
              " 'anything',\n",
              " 'system',\n",
              " 'flushing',\n",
              " 'neurontin',\n",
              " 'stand',\n",
              " 'hard',\n",
              " 'stop',\n",
              " 'little',\n",
              " 'things',\n",
              " 'foggy',\n",
              " 'hypersomnia',\n",
              " 'inflammatory',\n",
              " 'cpk',\n",
              " 'last',\n",
              " 'too',\n",
              " 'normal',\n",
              " 'hurts',\n",
              " 'year',\n",
              " 'put',\n",
              " 'nervous',\n",
              " 'lopid',\n",
              " 'area',\n",
              " 'eczema',\n",
              " 'prednisone',\n",
              " 'creatinine',\n",
              " 'erythematosus',\n",
              " 'stool',\n",
              " 'few',\n",
              " 'there',\n",
              " 'looks',\n",
              " 'ear',\n",
              " 'strain',\n",
              " 'lipex',\n",
              " 'inflammation',\n",
              " 'sense',\n",
              " 'pruritus',\n",
              " 'period',\n",
              " 'dose',\n",
              " 'use',\n",
              " 'frequent',\n",
              " 'drugs',\n",
              " 'within',\n",
              " 'while',\n",
              " 'see',\n",
              " 'periods',\n",
              " 'began',\n",
              " 'into',\n",
              " 'eat',\n",
              " 'spasmodic',\n",
              " 'atorvastatin',\n",
              " 'scalp',\n",
              " 'itchy',\n",
              " 'most',\n",
              " 'tension',\n",
              " 'rapid',\n",
              " 'tachycardia',\n",
              " 'gone',\n",
              " 'stroke',\n",
              " 'norvasc',\n",
              " 'ears',\n",
              " 'lift',\n",
              " 'omega-3-acid',\n",
              " 'ethyl',\n",
              " 'esters-90',\n",
              " 'respiratory',\n",
              " 'said',\n",
              " 'increase',\n",
              " 'region',\n",
              " 'climb',\n",
              " 'tolerance',\n",
              " 'dysfunction',\n",
              " 'gait',\n",
              " 'asthma',\n",
              " 'feels',\n",
              " 'sudden',\n",
              " 'make',\n",
              " 'thinking',\n",
              " 'menorrhagia',\n",
              " 'something',\n",
              " 'forearm',\n",
              " 'nt',\n",
              " 'falling',\n",
              " 'sight',\n",
              " 'bursitis',\n",
              " 'overall',\n",
              " 'nightmares',\n",
              " 'permanent',\n",
              " 'gastric',\n",
              " 'change',\n",
              " 'abdomen',\n",
              " 'aptyalism',\n",
              " 'ms',\n",
              " 'stabbing',\n",
              " 'weird',\n",
              " 'cortisone',\n",
              " 'another',\n",
              " 'delusional',\n",
              " 'omega',\n",
              " 'people',\n",
              " 'difficult',\n",
              " 'everything',\n",
              " 'inflamation',\n",
              " 'find',\n",
              " 'able',\n",
              " 'many',\n",
              " 'heaviness',\n",
              " 'bone',\n",
              " 'slight',\n",
              " 'venous',\n",
              " 'bruising',\n",
              " 'help',\n",
              " 'limping',\n",
              " 'zoloft',\n",
              " 'several',\n",
              " 'until',\n",
              " 'bell',\n",
              " 'bp',\n",
              " 'empty',\n",
              " 'menopausal',\n",
              " 'erythema',\n",
              " 'does',\n",
              " 'fast',\n",
              " 'co',\n",
              " 'self',\n",
              " 'tablet',\n",
              " 'cause',\n",
              " 'rigidity',\n",
              " 'tests',\n",
              " 'ever',\n",
              " 'palsy',\n",
              " 'sexual',\n",
              " 'codeine',\n",
              " 'coronary',\n",
              " 'especially',\n",
              " 'hungry',\n",
              " 'triglycerides',\n",
              " 'unwell',\n",
              " 'effect',\n",
              " 'blurry',\n",
              " 'similar',\n",
              " 'retention',\n",
              " 'three',\n",
              " 'reaction',\n",
              " 'q10',\n",
              " 'tunnel',\n",
              " 'bladder',\n",
              " 'edema',\n",
              " 'rupture',\n",
              " 'generally',\n",
              " 'sever',\n",
              " 'ached',\n",
              " 'aphasia',\n",
              " 'during',\n",
              " 'between',\n",
              " 'lowered',\n",
              " 'red',\n",
              " 'carpal',\n",
              " 'haematuria',\n",
              " 'test',\n",
              " 'diet',\n",
              " 'paralysis',\n",
              " 'starting',\n",
              " 'random',\n",
              " 'try',\n",
              " 'sides',\n",
              " 'old',\n",
              " 'developed',\n",
              " 'muscular',\n",
              " 'issues',\n",
              " 'sun',\n",
              " 'degenerative',\n",
              " '8',\n",
              " 'prescribed',\n",
              " 'caused',\n",
              " 'his',\n",
              " 'diovan',\n",
              " 'spotting',\n",
              " 'standing',\n",
              " 'allergic',\n",
              " 'great',\n",
              " 'really',\n",
              " 'made',\n",
              " 'changes',\n",
              " 'diabetic',\n",
              " 'cycle',\n",
              " 'chill',\n",
              " 'where',\n",
              " 'food',\n",
              " 'doctors',\n",
              " 'breast',\n",
              " 'rectal',\n",
              " 'them',\n",
              " 'big',\n",
              " 'paranoia',\n",
              " 'noticed',\n",
              " 'irritability',\n",
              " 'she',\n",
              " 'twitches',\n",
              " 'limp',\n",
              " 'disc',\n",
              " 'crying',\n",
              " 'site',\n",
              " 'sweat',\n",
              " 'condition',\n",
              " 'quit',\n",
              " 'found',\n",
              " 'how',\n",
              " 'less',\n",
              " 'came',\n",
              " 'headed',\n",
              " 'way',\n",
              " 'want',\n",
              " 'fine',\n",
              " 'tongue',\n",
              " 'menstruation',\n",
              " 'run',\n",
              " 'bloated',\n",
              " 'though',\n",
              " 'stopping',\n",
              " 'myself',\n",
              " 'endometriosis',\n",
              " 'muscels',\n",
              " 'chair',\n",
              " 'through',\n",
              " 'immediately',\n",
              " 'colitis',\n",
              " 'decrease',\n",
              " 'slightly',\n",
              " 'fear',\n",
              " 'anger',\n",
              " 'suicidal',\n",
              " 'coated',\n",
              " 'however',\n",
              " 'hurting',\n",
              " \"'\",\n",
              " 'agitated',\n",
              " 'bronchitis',\n",
              " 'constantly',\n",
              " 'spine',\n",
              " 'uterus',\n",
              " 'arthritic',\n",
              " 'choking',\n",
              " 'infections',\n",
              " 'hepatic',\n",
              " 'sciatica',\n",
              " 'stools',\n",
              " 'tried',\n",
              " 'control',\n",
              " 'neuralgia',\n",
              " 'unhappy',\n",
              " 'related',\n",
              " 'agony',\n",
              " 'sensitivity',\n",
              " 'enough',\n",
              " 'tender',\n",
              " 'intolerance',\n",
              " 'once',\n",
              " 'may',\n",
              " 'personality',\n",
              " 'changed',\n",
              " 'syncope',\n",
              " 'ribs',\n",
              " 'eyesight',\n",
              " 'daily',\n",
              " 'fatique',\n",
              " 'rashes',\n",
              " 'dehydration',\n",
              " 'pancreatitis',\n",
              " 'experiencing',\n",
              " 'above',\n",
              " 'interest',\n",
              " 'moodiness',\n",
              " 'sure',\n",
              " 'need',\n",
              " 'drowsiness',\n",
              " 'morphine',\n",
              " 'steatosis',\n",
              " 'lowering',\n",
              " 'physical',\n",
              " 'circulation',\n",
              " 'debilitating',\n",
              " 'read',\n",
              " 'their',\n",
              " 'aspirin',\n",
              " 'recommend',\n",
              " 'testosterone',\n",
              " 'chills',\n",
              " 'unbearable',\n",
              " 'transient',\n",
              " 'eructation',\n",
              " 'words',\n",
              " '%',\n",
              " 'lipidil',\n",
              " 'pill',\n",
              " 'drink',\n",
              " 'musculoskeletal',\n",
              " 'forearms',\n",
              " 'mobic',\n",
              " 'gastritis',\n",
              " 'muscel',\n",
              " 'film',\n",
              " 'disorientated',\n",
              " 'dropped',\n",
              " 'done',\n",
              " 'misoprostol',\n",
              " 'tremors',\n",
              " 'rate',\n",
              " 'remember',\n",
              " 'cataflam',\n",
              " 'sit',\n",
              " 'intervertebral',\n",
              " 'occasional',\n",
              " 'persistent',\n",
              " '-pelvis',\n",
              " 'desire',\n",
              " 'below',\n",
              " 'instead',\n",
              " 'thoracic',\n",
              " 'beat',\n",
              " 'cognition',\n",
              " 'achy',\n",
              " 'potassium',\n",
              " 'hyperactive',\n",
              " 'ani',\n",
              " 'we',\n",
              " 'total',\n",
              " 'hdl',\n",
              " 'serious',\n",
              " 'touch',\n",
              " 'worth',\n",
              " 'neoplastic',\n",
              " 'extremities',\n",
              " 'mass',\n",
              " '--',\n",
              " 'causing',\n",
              " 'although',\n",
              " 'sleeplessness',\n",
              " 'lumbar',\n",
              " 'tenalgia',\n",
              " 'minutes',\n",
              " 'spells',\n",
              " '7',\n",
              " 'bizarre',\n",
              " 'count',\n",
              " 'initial',\n",
              " 'her',\n",
              " 'tenderness',\n",
              " 'fatty',\n",
              " 'yellow',\n",
              " 'alpha',\n",
              " 'tocopherol',\n",
              " 'clumsiness',\n",
              " 'wrists',\n",
              " 'hours',\n",
              " 'haemorrhage',\n",
              " 'blisters',\n",
              " 'contusion',\n",
              " 'headedness',\n",
              " 'next',\n",
              " 'later',\n",
              " 'wanted',\n",
              " 'limitation',\n",
              " 'lexapro',\n",
              " 'irritation',\n",
              " 'wasting',\n",
              " 'sleepy',\n",
              " 'throbbing',\n",
              " 'movements',\n",
              " 'rib',\n",
              " 'neoplasm',\n",
              " 'white',\n",
              " 'b',\n",
              " 'falls',\n",
              " 'far',\n",
              " 'difficulties',\n",
              " 'medicine',\n",
              " 'nothing',\n",
              " 'forgetfulness',\n",
              " '50',\n",
              " 'unsteady',\n",
              " 'results',\n",
              " 'overweight',\n",
              " 'dementia',\n",
              " 'entire',\n",
              " 'water',\n",
              " 'its',\n",
              " 'doc',\n",
              " 'central',\n",
              " 'slow',\n",
              " 'alzheimer',\n",
              " 'haematochezia',\n",
              " 'anyone',\n",
              " 'meds',\n",
              " 'spots',\n",
              " 'seems',\n",
              " 'glucosamine',\n",
              " 'buzzing',\n",
              " 'whole',\n",
              " 'each',\n",
              " 'tingly',\n",
              " 'moderate',\n",
              " 'concentrating',\n",
              " 'altered',\n",
              " 'dysphonia',\n",
              " 'cognitive',\n",
              " 'lose',\n",
              " 'dizzyness',\n",
              " 'dosage',\n",
              " 'website',\n",
              " 'vague',\n",
              " 'losing',\n",
              " 'exhausted',\n",
              " 'tore',\n",
              " 'doing',\n",
              " 'urinate',\n",
              " 'burn',\n",
              " 'asleep',\n",
              " 'creatine',\n",
              " 'why',\n",
              " 'incoordination',\n",
              " 'half',\n",
              " 'top',\n",
              " 'believe',\n",
              " '75',\n",
              " 'migranes',\n",
              " 'nose',\n",
              " 'recently',\n",
              " 'works',\n",
              " 'colon',\n",
              " 'moving',\n",
              " 'non',\n",
              " 'gut',\n",
              " 'hit',\n",
              " 'inflammed',\n",
              " 'hoarse',\n",
              " 'infective',\n",
              " 'cystitis',\n",
              " 'easily',\n",
              " 'unexplained',\n",
              " 'rhinitis',\n",
              " 'cardiac',\n",
              " 'charlie',\n",
              " '80',\n",
              " 'cell',\n",
              " 'post',\n",
              " 'room',\n",
              " 'neurological',\n",
              " 'waking',\n",
              " 'four',\n",
              " 'vit',\n",
              " 'come',\n",
              " 'burping',\n",
              " 'working',\n",
              " 'helped',\n",
              " 'fuzzy',\n",
              " 'none',\n",
              " 'digestive',\n",
              " 'photosensitisation',\n",
              " 'experience',\n",
              " 'alopecia',\n",
              " 'range',\n",
              " 'hope',\n",
              " 'hives',\n",
              " ...]"
            ]
          },
          "metadata": {
            "tags": []
          },
          "execution_count": 18
        }
      ]
    },
    {
      "cell_type": "code",
      "metadata": {
        "id": "yPWr03mls3VT",
        "outputId": "a5ed2213-79e6-4f8e-e255-d8bf1c658b9f",
        "colab": {
          "base_uri": "https://localhost:8080/",
          "height": 17
        }
      },
      "source": [
        "model_path = path/'models'\n",
        "model_path.mkdir(exist_ok=True)\n",
        "url = 'http://files.fast.ai/models/wt103_v1/'\n",
        "download_url(f'{url}lstm_wt103.pth', model_path/'lstm_wt103.pth')\n",
        "download_url(f'{url}itos_wt103.pkl', model_path/'itos_wt103.pkl')"
      ],
      "execution_count": 19,
      "outputs": [
        {
          "output_type": "display_data",
          "data": {
            "text/html": [
              ""
            ],
            "text/plain": [
              "<IPython.core.display.HTML object>"
            ]
          },
          "metadata": {
            "tags": []
          }
        },
        {
          "output_type": "display_data",
          "data": {
            "text/html": [
              ""
            ],
            "text/plain": [
              "<IPython.core.display.HTML object>"
            ]
          },
          "metadata": {
            "tags": []
          }
        }
      ]
    },
    {
      "cell_type": "code",
      "metadata": {
        "id": "JRzvWg8RtGGr",
        "outputId": "ce1e9bd3-cc33-45b4-d025-9015a7ba2341",
        "colab": {
          "base_uri": "https://localhost:8080/",
          "height": 34
        }
      },
      "source": [
        "learn = language_model_learner(data_lm, AWD_LSTM, drop_mult=0.5)"
      ],
      "execution_count": 20,
      "outputs": [
        {
          "output_type": "stream",
          "text": [
            "Downloading https://s3.amazonaws.com/fast-ai-modelzoo/wt103-fwd.tgz\n"
          ],
          "name": "stdout"
        },
        {
          "output_type": "display_data",
          "data": {
            "text/html": [
              ""
            ],
            "text/plain": [
              "<IPython.core.display.HTML object>"
            ]
          },
          "metadata": {
            "tags": []
          }
        }
      ]
    },
    {
      "cell_type": "code",
      "metadata": {
        "id": "xKK7GeBev7Xn",
        "outputId": "58156f62-5fb8-4c4a-cf01-2573e6114af0",
        "colab": {
          "base_uri": "https://localhost:8080/",
          "height": 80
        }
      },
      "source": [
        "learn.fit_one_cycle(1, 1e-2)"
      ],
      "execution_count": 21,
      "outputs": [
        {
          "output_type": "display_data",
          "data": {
            "text/html": [
              "<table border=\"1\" class=\"dataframe\">\n",
              "  <thead>\n",
              "    <tr style=\"text-align: left;\">\n",
              "      <th>epoch</th>\n",
              "      <th>train_loss</th>\n",
              "      <th>valid_loss</th>\n",
              "      <th>accuracy</th>\n",
              "      <th>time</th>\n",
              "    </tr>\n",
              "  </thead>\n",
              "  <tbody>\n",
              "    <tr>\n",
              "      <td>0</td>\n",
              "      <td>3.176730</td>\n",
              "      <td>2.713993</td>\n",
              "      <td>0.539807</td>\n",
              "      <td>18:14</td>\n",
              "    </tr>\n",
              "  </tbody>\n",
              "</table>"
            ],
            "text/plain": [
              "<IPython.core.display.HTML object>"
            ]
          },
          "metadata": {
            "tags": []
          }
        }
      ]
    },
    {
      "cell_type": "code",
      "metadata": {
        "id": "iB7rHGQCwd12"
      },
      "source": [
        "# learn.fit_one_cycle(1, 1e-2)"
      ],
      "execution_count": 22,
      "outputs": []
    },
    {
      "cell_type": "code",
      "metadata": {
        "id": "_BnSuAeCwkBe"
      },
      "source": [
        "# learn.fit_one_cycle(1, 1e-3)"
      ],
      "execution_count": 23,
      "outputs": []
    },
    {
      "cell_type": "code",
      "metadata": {
        "id": "MuTm-RFjwrEX",
        "outputId": "d8416e25-a7a8-40a3-c92e-eaf0c459bcf9",
        "colab": {
          "base_uri": "https://localhost:8080/",
          "height": 80
        }
      },
      "source": [
        "learn.fit_one_cycle(1, 1e-3)"
      ],
      "execution_count": 24,
      "outputs": [
        {
          "output_type": "display_data",
          "data": {
            "text/html": [
              "<table border=\"1\" class=\"dataframe\">\n",
              "  <thead>\n",
              "    <tr style=\"text-align: left;\">\n",
              "      <th>epoch</th>\n",
              "      <th>train_loss</th>\n",
              "      <th>valid_loss</th>\n",
              "      <th>accuracy</th>\n",
              "      <th>time</th>\n",
              "    </tr>\n",
              "  </thead>\n",
              "  <tbody>\n",
              "    <tr>\n",
              "      <td>0</td>\n",
              "      <td>2.805083</td>\n",
              "      <td>2.667406</td>\n",
              "      <td>0.545434</td>\n",
              "      <td>18:12</td>\n",
              "    </tr>\n",
              "  </tbody>\n",
              "</table>"
            ],
            "text/plain": [
              "<IPython.core.display.HTML object>"
            ]
          },
          "metadata": {
            "tags": []
          }
        }
      ]
    },
    {
      "cell_type": "code",
      "metadata": {
        "id": "1Er2ExO8wr7Y"
      },
      "source": [
        "learn.save_encoder('cadec_ask_fold5_first')"
      ],
      "execution_count": 25,
      "outputs": []
    },
    {
      "cell_type": "code",
      "metadata": {
        "id": "z52cZs2qwvad",
        "outputId": "2b570d3e-18fb-49be-d4c7-5063289b5486",
        "colab": {
          "base_uri": "https://localhost:8080/",
          "height": 80
        }
      },
      "source": [
        "learn = text_classifier_learner(data_clas,AWD_LSTM, drop_mult=0.5)\n",
        "learn.load_encoder('cadec_ask_fold5_first')\n",
        "learn.fit_one_cycle(1, 1e-2)"
      ],
      "execution_count": 26,
      "outputs": [
        {
          "output_type": "display_data",
          "data": {
            "text/html": [
              "<table border=\"1\" class=\"dataframe\">\n",
              "  <thead>\n",
              "    <tr style=\"text-align: left;\">\n",
              "      <th>epoch</th>\n",
              "      <th>train_loss</th>\n",
              "      <th>valid_loss</th>\n",
              "      <th>accuracy</th>\n",
              "      <th>time</th>\n",
              "    </tr>\n",
              "  </thead>\n",
              "  <tbody>\n",
              "    <tr>\n",
              "      <td>0</td>\n",
              "      <td>4.154222</td>\n",
              "      <td>3.795614</td>\n",
              "      <td>0.346105</td>\n",
              "      <td>01:09</td>\n",
              "    </tr>\n",
              "  </tbody>\n",
              "</table>"
            ],
            "text/plain": [
              "<IPython.core.display.HTML object>"
            ]
          },
          "metadata": {
            "tags": []
          }
        }
      ]
    },
    {
      "cell_type": "code",
      "metadata": {
        "id": "ImwQP1PJwzxd",
        "outputId": "2c61aca6-cd74-40a7-8035-f1f59e443046",
        "colab": {
          "base_uri": "https://localhost:8080/",
          "height": 80
        }
      },
      "source": [
        "learn.freeze_to(-2)\n",
        "learn.fit_one_cycle(1, slice(5e-3/2., 5e-3))"
      ],
      "execution_count": 27,
      "outputs": [
        {
          "output_type": "display_data",
          "data": {
            "text/html": [
              "<table border=\"1\" class=\"dataframe\">\n",
              "  <thead>\n",
              "    <tr style=\"text-align: left;\">\n",
              "      <th>epoch</th>\n",
              "      <th>train_loss</th>\n",
              "      <th>valid_loss</th>\n",
              "      <th>accuracy</th>\n",
              "      <th>time</th>\n",
              "    </tr>\n",
              "  </thead>\n",
              "  <tbody>\n",
              "    <tr>\n",
              "      <td>0</td>\n",
              "      <td>2.956072</td>\n",
              "      <td>3.222713</td>\n",
              "      <td>0.444444</td>\n",
              "      <td>01:23</td>\n",
              "    </tr>\n",
              "  </tbody>\n",
              "</table>"
            ],
            "text/plain": [
              "<IPython.core.display.HTML object>"
            ]
          },
          "metadata": {
            "tags": []
          }
        }
      ]
    },
    {
      "cell_type": "code",
      "metadata": {
        "id": "Owff_BJXw53u",
        "outputId": "361a0233-0f30-4c6c-a075-59bf8efc8d6d",
        "colab": {
          "base_uri": "https://localhost:8080/",
          "height": 80
        }
      },
      "source": [
        "learn.unfreeze()\n",
        "learn.fit_one_cycle(1, slice(2e-3/100, 2e-3))"
      ],
      "execution_count": 28,
      "outputs": [
        {
          "output_type": "display_data",
          "data": {
            "text/html": [
              "<table border=\"1\" class=\"dataframe\">\n",
              "  <thead>\n",
              "    <tr style=\"text-align: left;\">\n",
              "      <th>epoch</th>\n",
              "      <th>train_loss</th>\n",
              "      <th>valid_loss</th>\n",
              "      <th>accuracy</th>\n",
              "      <th>time</th>\n",
              "    </tr>\n",
              "  </thead>\n",
              "  <tbody>\n",
              "    <tr>\n",
              "      <td>0</td>\n",
              "      <td>2.422913</td>\n",
              "      <td>2.725467</td>\n",
              "      <td>0.507024</td>\n",
              "      <td>03:10</td>\n",
              "    </tr>\n",
              "  </tbody>\n",
              "</table>"
            ],
            "text/plain": [
              "<IPython.core.display.HTML object>"
            ]
          },
          "metadata": {
            "tags": []
          }
        }
      ]
    },
    {
      "cell_type": "code",
      "metadata": {
        "id": "lqAyu56V8Waq",
        "outputId": "7169f6f5-1f82-4be8-b14a-17b90b7cf019",
        "colab": {
          "base_uri": "https://localhost:8080/",
          "height": 111
        }
      },
      "source": [
        "learn.fit_one_cycle(2, slice(2e-3/100, 2e-3))"
      ],
      "execution_count": 29,
      "outputs": [
        {
          "output_type": "display_data",
          "data": {
            "text/html": [
              "<table border=\"1\" class=\"dataframe\">\n",
              "  <thead>\n",
              "    <tr style=\"text-align: left;\">\n",
              "      <th>epoch</th>\n",
              "      <th>train_loss</th>\n",
              "      <th>valid_loss</th>\n",
              "      <th>accuracy</th>\n",
              "      <th>time</th>\n",
              "    </tr>\n",
              "  </thead>\n",
              "  <tbody>\n",
              "    <tr>\n",
              "      <td>0</td>\n",
              "      <td>2.098704</td>\n",
              "      <td>2.378862</td>\n",
              "      <td>0.561941</td>\n",
              "      <td>03:10</td>\n",
              "    </tr>\n",
              "    <tr>\n",
              "      <td>1</td>\n",
              "      <td>1.803935</td>\n",
              "      <td>2.219633</td>\n",
              "      <td>0.601533</td>\n",
              "      <td>03:04</td>\n",
              "    </tr>\n",
              "  </tbody>\n",
              "</table>"
            ],
            "text/plain": [
              "<IPython.core.display.HTML object>"
            ]
          },
          "metadata": {
            "tags": []
          }
        }
      ]
    },
    {
      "cell_type": "code",
      "metadata": {
        "id": "a7I1xMRp8bUd",
        "outputId": "e76dc1a9-434b-4e42-a1fc-0be8bc5c1859",
        "colab": {
          "base_uri": "https://localhost:8080/",
          "height": 111
        }
      },
      "source": [
        "learn.fit_one_cycle(2, slice(2e-3/100, 2e-3))"
      ],
      "execution_count": 30,
      "outputs": [
        {
          "output_type": "display_data",
          "data": {
            "text/html": [
              "<table border=\"1\" class=\"dataframe\">\n",
              "  <thead>\n",
              "    <tr style=\"text-align: left;\">\n",
              "      <th>epoch</th>\n",
              "      <th>train_loss</th>\n",
              "      <th>valid_loss</th>\n",
              "      <th>accuracy</th>\n",
              "      <th>time</th>\n",
              "    </tr>\n",
              "  </thead>\n",
              "  <tbody>\n",
              "    <tr>\n",
              "      <td>0</td>\n",
              "      <td>1.560869</td>\n",
              "      <td>2.021816</td>\n",
              "      <td>0.639847</td>\n",
              "      <td>03:10</td>\n",
              "    </tr>\n",
              "    <tr>\n",
              "      <td>1</td>\n",
              "      <td>1.444063</td>\n",
              "      <td>1.901298</td>\n",
              "      <td>0.666667</td>\n",
              "      <td>03:11</td>\n",
              "    </tr>\n",
              "  </tbody>\n",
              "</table>"
            ],
            "text/plain": [
              "<IPython.core.display.HTML object>"
            ]
          },
          "metadata": {
            "tags": []
          }
        }
      ]
    },
    {
      "cell_type": "code",
      "metadata": {
        "id": "UAnti-XmGVfO",
        "outputId": "32e01387-1a37-43ae-a0a3-40ebc1e90048",
        "colab": {
          "base_uri": "https://localhost:8080/",
          "height": 111
        }
      },
      "source": [
        "learn.fit_one_cycle(2, slice(2e-3/100, 2e-3))"
      ],
      "execution_count": 31,
      "outputs": [
        {
          "output_type": "display_data",
          "data": {
            "text/html": [
              "<table border=\"1\" class=\"dataframe\">\n",
              "  <thead>\n",
              "    <tr style=\"text-align: left;\">\n",
              "      <th>epoch</th>\n",
              "      <th>train_loss</th>\n",
              "      <th>valid_loss</th>\n",
              "      <th>accuracy</th>\n",
              "      <th>time</th>\n",
              "    </tr>\n",
              "  </thead>\n",
              "  <tbody>\n",
              "    <tr>\n",
              "      <td>0</td>\n",
              "      <td>1.320089</td>\n",
              "      <td>1.759107</td>\n",
              "      <td>0.674330</td>\n",
              "      <td>03:07</td>\n",
              "    </tr>\n",
              "    <tr>\n",
              "      <td>1</td>\n",
              "      <td>1.144737</td>\n",
              "      <td>1.689159</td>\n",
              "      <td>0.710089</td>\n",
              "      <td>03:17</td>\n",
              "    </tr>\n",
              "  </tbody>\n",
              "</table>"
            ],
            "text/plain": [
              "<IPython.core.display.HTML object>"
            ]
          },
          "metadata": {
            "tags": []
          }
        }
      ]
    },
    {
      "cell_type": "code",
      "metadata": {
        "id": "bIft7W25GwSu",
        "outputId": "e031e24d-087e-46a2-d9ce-737ce74ebd77",
        "colab": {
          "base_uri": "https://localhost:8080/",
          "height": 111
        }
      },
      "source": [
        "learn.fit_one_cycle(2, slice(2e-3/100, 2e-3))"
      ],
      "execution_count": 32,
      "outputs": [
        {
          "output_type": "display_data",
          "data": {
            "text/html": [
              "<table border=\"1\" class=\"dataframe\">\n",
              "  <thead>\n",
              "    <tr style=\"text-align: left;\">\n",
              "      <th>epoch</th>\n",
              "      <th>train_loss</th>\n",
              "      <th>valid_loss</th>\n",
              "      <th>accuracy</th>\n",
              "      <th>time</th>\n",
              "    </tr>\n",
              "  </thead>\n",
              "  <tbody>\n",
              "    <tr>\n",
              "      <td>0</td>\n",
              "      <td>1.040295</td>\n",
              "      <td>1.578707</td>\n",
              "      <td>0.711367</td>\n",
              "      <td>03:08</td>\n",
              "    </tr>\n",
              "    <tr>\n",
              "      <td>1</td>\n",
              "      <td>0.925638</td>\n",
              "      <td>1.536281</td>\n",
              "      <td>0.722861</td>\n",
              "      <td>03:05</td>\n",
              "    </tr>\n",
              "  </tbody>\n",
              "</table>"
            ],
            "text/plain": [
              "<IPython.core.display.HTML object>"
            ]
          },
          "metadata": {
            "tags": []
          }
        }
      ]
    },
    {
      "cell_type": "code",
      "metadata": {
        "id": "EEHszVRvGyFt",
        "outputId": "38ebb67c-da81-45f6-949f-3b301d44e368",
        "colab": {
          "base_uri": "https://localhost:8080/",
          "height": 111
        }
      },
      "source": [
        "learn.fit_one_cycle(2, slice(2e-3/100, 2e-3))"
      ],
      "execution_count": 33,
      "outputs": [
        {
          "output_type": "display_data",
          "data": {
            "text/html": [
              "<table border=\"1\" class=\"dataframe\">\n",
              "  <thead>\n",
              "    <tr style=\"text-align: left;\">\n",
              "      <th>epoch</th>\n",
              "      <th>train_loss</th>\n",
              "      <th>valid_loss</th>\n",
              "      <th>accuracy</th>\n",
              "      <th>time</th>\n",
              "    </tr>\n",
              "  </thead>\n",
              "  <tbody>\n",
              "    <tr>\n",
              "      <td>0</td>\n",
              "      <td>0.891679</td>\n",
              "      <td>1.501102</td>\n",
              "      <td>0.736909</td>\n",
              "      <td>03:15</td>\n",
              "    </tr>\n",
              "    <tr>\n",
              "      <td>1</td>\n",
              "      <td>0.759896</td>\n",
              "      <td>1.473982</td>\n",
              "      <td>0.744572</td>\n",
              "      <td>03:08</td>\n",
              "    </tr>\n",
              "  </tbody>\n",
              "</table>"
            ],
            "text/plain": [
              "<IPython.core.display.HTML object>"
            ]
          },
          "metadata": {
            "tags": []
          }
        }
      ]
    },
    {
      "cell_type": "code",
      "metadata": {
        "id": "XsHfrhCHG3dN",
        "outputId": "7f166782-bb29-40c6-d2ea-2c53bb557f41",
        "colab": {
          "base_uri": "https://localhost:8080/",
          "height": 173
        }
      },
      "source": [
        "learn.fit_one_cycle(4, slice(2e-3/100, 2e-3))"
      ],
      "execution_count": 34,
      "outputs": [
        {
          "output_type": "display_data",
          "data": {
            "text/html": [
              "<table border=\"1\" class=\"dataframe\">\n",
              "  <thead>\n",
              "    <tr style=\"text-align: left;\">\n",
              "      <th>epoch</th>\n",
              "      <th>train_loss</th>\n",
              "      <th>valid_loss</th>\n",
              "      <th>accuracy</th>\n",
              "      <th>time</th>\n",
              "    </tr>\n",
              "  </thead>\n",
              "  <tbody>\n",
              "    <tr>\n",
              "      <td>0</td>\n",
              "      <td>0.704217</td>\n",
              "      <td>1.399088</td>\n",
              "      <td>0.750958</td>\n",
              "      <td>03:07</td>\n",
              "    </tr>\n",
              "    <tr>\n",
              "      <td>1</td>\n",
              "      <td>0.695937</td>\n",
              "      <td>1.334360</td>\n",
              "      <td>0.756066</td>\n",
              "      <td>03:16</td>\n",
              "    </tr>\n",
              "    <tr>\n",
              "      <td>2</td>\n",
              "      <td>0.577715</td>\n",
              "      <td>1.291929</td>\n",
              "      <td>0.771392</td>\n",
              "      <td>03:08</td>\n",
              "    </tr>\n",
              "    <tr>\n",
              "      <td>3</td>\n",
              "      <td>0.485956</td>\n",
              "      <td>1.296581</td>\n",
              "      <td>0.771392</td>\n",
              "      <td>03:14</td>\n",
              "    </tr>\n",
              "  </tbody>\n",
              "</table>"
            ],
            "text/plain": [
              "<IPython.core.display.HTML object>"
            ]
          },
          "metadata": {
            "tags": []
          }
        }
      ]
    },
    {
      "cell_type": "code",
      "metadata": {
        "id": "0Zsd99isb9EQ",
        "outputId": "7675eedf-aa41-4bd7-ff81-22d7608d4a4b",
        "colab": {
          "base_uri": "https://localhost:8080/",
          "height": 173
        }
      },
      "source": [
        "learn.fit_one_cycle(4, slice(2e-3/100, 2e-3))"
      ],
      "execution_count": 35,
      "outputs": [
        {
          "output_type": "display_data",
          "data": {
            "text/html": [
              "<table border=\"1\" class=\"dataframe\">\n",
              "  <thead>\n",
              "    <tr style=\"text-align: left;\">\n",
              "      <th>epoch</th>\n",
              "      <th>train_loss</th>\n",
              "      <th>valid_loss</th>\n",
              "      <th>accuracy</th>\n",
              "      <th>time</th>\n",
              "    </tr>\n",
              "  </thead>\n",
              "  <tbody>\n",
              "    <tr>\n",
              "      <td>0</td>\n",
              "      <td>0.502284</td>\n",
              "      <td>1.310222</td>\n",
              "      <td>0.781609</td>\n",
              "      <td>03:17</td>\n",
              "    </tr>\n",
              "    <tr>\n",
              "      <td>1</td>\n",
              "      <td>0.495158</td>\n",
              "      <td>1.361032</td>\n",
              "      <td>0.767561</td>\n",
              "      <td>03:20</td>\n",
              "    </tr>\n",
              "    <tr>\n",
              "      <td>2</td>\n",
              "      <td>0.459433</td>\n",
              "      <td>1.221018</td>\n",
              "      <td>0.798212</td>\n",
              "      <td>03:17</td>\n",
              "    </tr>\n",
              "    <tr>\n",
              "      <td>3</td>\n",
              "      <td>0.399303</td>\n",
              "      <td>1.260008</td>\n",
              "      <td>0.804598</td>\n",
              "      <td>02:59</td>\n",
              "    </tr>\n",
              "  </tbody>\n",
              "</table>"
            ],
            "text/plain": [
              "<IPython.core.display.HTML object>"
            ]
          },
          "metadata": {
            "tags": []
          }
        }
      ]
    },
    {
      "cell_type": "code",
      "metadata": {
        "id": "atNWNKDFPbuI",
        "outputId": "d82147e5-1cf9-4628-882a-37e32ad66adb",
        "colab": {
          "base_uri": "https://localhost:8080/",
          "height": 173
        }
      },
      "source": [
        "learn.fit_one_cycle(4, slice(2e-3/100, 2e-3))"
      ],
      "execution_count": 36,
      "outputs": [
        {
          "output_type": "display_data",
          "data": {
            "text/html": [
              "<table border=\"1\" class=\"dataframe\">\n",
              "  <thead>\n",
              "    <tr style=\"text-align: left;\">\n",
              "      <th>epoch</th>\n",
              "      <th>train_loss</th>\n",
              "      <th>valid_loss</th>\n",
              "      <th>accuracy</th>\n",
              "      <th>time</th>\n",
              "    </tr>\n",
              "  </thead>\n",
              "  <tbody>\n",
              "    <tr>\n",
              "      <td>0</td>\n",
              "      <td>0.408141</td>\n",
              "      <td>1.251226</td>\n",
              "      <td>0.787995</td>\n",
              "      <td>03:22</td>\n",
              "    </tr>\n",
              "    <tr>\n",
              "      <td>1</td>\n",
              "      <td>0.420033</td>\n",
              "      <td>1.201479</td>\n",
              "      <td>0.796935</td>\n",
              "      <td>03:08</td>\n",
              "    </tr>\n",
              "    <tr>\n",
              "      <td>2</td>\n",
              "      <td>0.390608</td>\n",
              "      <td>1.207215</td>\n",
              "      <td>0.812261</td>\n",
              "      <td>03:13</td>\n",
              "    </tr>\n",
              "    <tr>\n",
              "      <td>3</td>\n",
              "      <td>0.300194</td>\n",
              "      <td>1.216392</td>\n",
              "      <td>0.809706</td>\n",
              "      <td>03:21</td>\n",
              "    </tr>\n",
              "  </tbody>\n",
              "</table>"
            ],
            "text/plain": [
              "<IPython.core.display.HTML object>"
            ]
          },
          "metadata": {
            "tags": []
          }
        }
      ]
    },
    {
      "cell_type": "code",
      "metadata": {
        "id": "rKrBTZ0T1uVA",
        "outputId": "7b8ab76c-309d-4741-9dc0-49050bc3b608",
        "colab": {
          "base_uri": "https://localhost:8080/",
          "height": 173
        }
      },
      "source": [
        "learn.fit_one_cycle(4, slice(2e-3/100, 2e-3))"
      ],
      "execution_count": 37,
      "outputs": [
        {
          "output_type": "display_data",
          "data": {
            "text/html": [
              "<table border=\"1\" class=\"dataframe\">\n",
              "  <thead>\n",
              "    <tr style=\"text-align: left;\">\n",
              "      <th>epoch</th>\n",
              "      <th>train_loss</th>\n",
              "      <th>valid_loss</th>\n",
              "      <th>accuracy</th>\n",
              "      <th>time</th>\n",
              "    </tr>\n",
              "  </thead>\n",
              "  <tbody>\n",
              "    <tr>\n",
              "      <td>0</td>\n",
              "      <td>0.322095</td>\n",
              "      <td>1.274452</td>\n",
              "      <td>0.804598</td>\n",
              "      <td>03:10</td>\n",
              "    </tr>\n",
              "    <tr>\n",
              "      <td>1</td>\n",
              "      <td>0.367223</td>\n",
              "      <td>1.250547</td>\n",
              "      <td>0.803321</td>\n",
              "      <td>03:25</td>\n",
              "    </tr>\n",
              "    <tr>\n",
              "      <td>2</td>\n",
              "      <td>0.320983</td>\n",
              "      <td>1.165058</td>\n",
              "      <td>0.814815</td>\n",
              "      <td>03:21</td>\n",
              "    </tr>\n",
              "    <tr>\n",
              "      <td>3</td>\n",
              "      <td>0.269809</td>\n",
              "      <td>1.241383</td>\n",
              "      <td>0.816092</td>\n",
              "      <td>03:14</td>\n",
              "    </tr>\n",
              "  </tbody>\n",
              "</table>"
            ],
            "text/plain": [
              "<IPython.core.display.HTML object>"
            ]
          },
          "metadata": {
            "tags": []
          }
        }
      ]
    },
    {
      "cell_type": "code",
      "metadata": {
        "id": "ajQC6WDg1yA9",
        "outputId": "5231ad9d-277d-448c-efd0-efacea1de1d3",
        "colab": {
          "base_uri": "https://localhost:8080/",
          "height": 173
        }
      },
      "source": [
        "learn.fit_one_cycle(4, slice(2e-3/100, 2e-3))"
      ],
      "execution_count": 38,
      "outputs": [
        {
          "output_type": "display_data",
          "data": {
            "text/html": [
              "<table border=\"1\" class=\"dataframe\">\n",
              "  <thead>\n",
              "    <tr style=\"text-align: left;\">\n",
              "      <th>epoch</th>\n",
              "      <th>train_loss</th>\n",
              "      <th>valid_loss</th>\n",
              "      <th>accuracy</th>\n",
              "      <th>time</th>\n",
              "    </tr>\n",
              "  </thead>\n",
              "  <tbody>\n",
              "    <tr>\n",
              "      <td>0</td>\n",
              "      <td>0.279642</td>\n",
              "      <td>1.207184</td>\n",
              "      <td>0.816092</td>\n",
              "      <td>03:14</td>\n",
              "    </tr>\n",
              "    <tr>\n",
              "      <td>1</td>\n",
              "      <td>0.301831</td>\n",
              "      <td>1.389767</td>\n",
              "      <td>0.810983</td>\n",
              "      <td>03:07</td>\n",
              "    </tr>\n",
              "    <tr>\n",
              "      <td>2</td>\n",
              "      <td>0.286923</td>\n",
              "      <td>1.224315</td>\n",
              "      <td>0.816092</td>\n",
              "      <td>03:20</td>\n",
              "    </tr>\n",
              "    <tr>\n",
              "      <td>3</td>\n",
              "      <td>0.216111</td>\n",
              "      <td>1.284311</td>\n",
              "      <td>0.814815</td>\n",
              "      <td>03:11</td>\n",
              "    </tr>\n",
              "  </tbody>\n",
              "</table>"
            ],
            "text/plain": [
              "<IPython.core.display.HTML object>"
            ]
          },
          "metadata": {
            "tags": []
          }
        }
      ]
    },
    {
      "cell_type": "code",
      "metadata": {
        "id": "KKydb0B4BKGk",
        "outputId": "015d2277-5e97-412e-9d5c-eb7a7f087f82",
        "colab": {
          "base_uri": "https://localhost:8080/",
          "height": 173
        }
      },
      "source": [
        "learn.fit_one_cycle(4, slice(2e-3/100, 2e-3))"
      ],
      "execution_count": 39,
      "outputs": [
        {
          "output_type": "display_data",
          "data": {
            "text/html": [
              "<table border=\"1\" class=\"dataframe\">\n",
              "  <thead>\n",
              "    <tr style=\"text-align: left;\">\n",
              "      <th>epoch</th>\n",
              "      <th>train_loss</th>\n",
              "      <th>valid_loss</th>\n",
              "      <th>accuracy</th>\n",
              "      <th>time</th>\n",
              "    </tr>\n",
              "  </thead>\n",
              "  <tbody>\n",
              "    <tr>\n",
              "      <td>0</td>\n",
              "      <td>0.242021</td>\n",
              "      <td>1.258855</td>\n",
              "      <td>0.810983</td>\n",
              "      <td>03:17</td>\n",
              "    </tr>\n",
              "    <tr>\n",
              "      <td>1</td>\n",
              "      <td>0.289177</td>\n",
              "      <td>1.274289</td>\n",
              "      <td>0.810983</td>\n",
              "      <td>03:15</td>\n",
              "    </tr>\n",
              "    <tr>\n",
              "      <td>2</td>\n",
              "      <td>0.247255</td>\n",
              "      <td>1.259743</td>\n",
              "      <td>0.812261</td>\n",
              "      <td>03:07</td>\n",
              "    </tr>\n",
              "    <tr>\n",
              "      <td>3</td>\n",
              "      <td>0.208400</td>\n",
              "      <td>1.233415</td>\n",
              "      <td>0.821200</td>\n",
              "      <td>03:11</td>\n",
              "    </tr>\n",
              "  </tbody>\n",
              "</table>"
            ],
            "text/plain": [
              "<IPython.core.display.HTML object>"
            ]
          },
          "metadata": {
            "tags": []
          }
        }
      ]
    },
    {
      "cell_type": "code",
      "metadata": {
        "id": "T2APKtFKBpGY",
        "outputId": "d45d1469-0f87-4c17-9d2d-eeaa4ee2d291",
        "colab": {
          "base_uri": "https://localhost:8080/",
          "height": 173
        }
      },
      "source": [
        "learn.fit_one_cycle(4, slice(2e-3/100, 2e-3))"
      ],
      "execution_count": 40,
      "outputs": [
        {
          "output_type": "display_data",
          "data": {
            "text/html": [
              "<table border=\"1\" class=\"dataframe\">\n",
              "  <thead>\n",
              "    <tr style=\"text-align: left;\">\n",
              "      <th>epoch</th>\n",
              "      <th>train_loss</th>\n",
              "      <th>valid_loss</th>\n",
              "      <th>accuracy</th>\n",
              "      <th>time</th>\n",
              "    </tr>\n",
              "  </thead>\n",
              "  <tbody>\n",
              "    <tr>\n",
              "      <td>0</td>\n",
              "      <td>0.201797</td>\n",
              "      <td>1.309870</td>\n",
              "      <td>0.809706</td>\n",
              "      <td>03:10</td>\n",
              "    </tr>\n",
              "    <tr>\n",
              "      <td>1</td>\n",
              "      <td>0.251269</td>\n",
              "      <td>1.288607</td>\n",
              "      <td>0.809706</td>\n",
              "      <td>03:32</td>\n",
              "    </tr>\n",
              "    <tr>\n",
              "      <td>2</td>\n",
              "      <td>0.228972</td>\n",
              "      <td>1.278206</td>\n",
              "      <td>0.819923</td>\n",
              "      <td>03:16</td>\n",
              "    </tr>\n",
              "    <tr>\n",
              "      <td>3</td>\n",
              "      <td>0.200133</td>\n",
              "      <td>1.339655</td>\n",
              "      <td>0.823755</td>\n",
              "      <td>03:23</td>\n",
              "    </tr>\n",
              "  </tbody>\n",
              "</table>"
            ],
            "text/plain": [
              "<IPython.core.display.HTML object>"
            ]
          },
          "metadata": {
            "tags": []
          }
        }
      ]
    },
    {
      "cell_type": "code",
      "metadata": {
        "id": "qtTypA1sPgLU",
        "outputId": "158e01c3-c116-4ae1-f15b-64a3ced2bba1",
        "colab": {
          "base_uri": "https://localhost:8080/",
          "height": 111
        }
      },
      "source": [
        "learn.fit_one_cycle(2, slice(2e-3/100, 2e-3))"
      ],
      "execution_count": 41,
      "outputs": [
        {
          "output_type": "display_data",
          "data": {
            "text/html": [
              "<table border=\"1\" class=\"dataframe\">\n",
              "  <thead>\n",
              "    <tr style=\"text-align: left;\">\n",
              "      <th>epoch</th>\n",
              "      <th>train_loss</th>\n",
              "      <th>valid_loss</th>\n",
              "      <th>accuracy</th>\n",
              "      <th>time</th>\n",
              "    </tr>\n",
              "  </thead>\n",
              "  <tbody>\n",
              "    <tr>\n",
              "      <td>0</td>\n",
              "      <td>0.215122</td>\n",
              "      <td>1.356818</td>\n",
              "      <td>0.814815</td>\n",
              "      <td>03:17</td>\n",
              "    </tr>\n",
              "    <tr>\n",
              "      <td>1</td>\n",
              "      <td>0.224854</td>\n",
              "      <td>1.272786</td>\n",
              "      <td>0.825032</td>\n",
              "      <td>03:18</td>\n",
              "    </tr>\n",
              "  </tbody>\n",
              "</table>"
            ],
            "text/plain": [
              "<IPython.core.display.HTML object>"
            ]
          },
          "metadata": {
            "tags": []
          }
        }
      ]
    },
    {
      "cell_type": "code",
      "metadata": {
        "id": "b242kBsTUp9Y",
        "outputId": "d7250f4f-1ecf-4629-c7de-cd2e65f68f19",
        "colab": {
          "base_uri": "https://localhost:8080/",
          "height": 111
        }
      },
      "source": [
        "learn.fit_one_cycle(2, slice(2e-3/100, 2e-3))"
      ],
      "execution_count": 42,
      "outputs": [
        {
          "output_type": "display_data",
          "data": {
            "text/html": [
              "<table border=\"1\" class=\"dataframe\">\n",
              "  <thead>\n",
              "    <tr style=\"text-align: left;\">\n",
              "      <th>epoch</th>\n",
              "      <th>train_loss</th>\n",
              "      <th>valid_loss</th>\n",
              "      <th>accuracy</th>\n",
              "      <th>time</th>\n",
              "    </tr>\n",
              "  </thead>\n",
              "  <tbody>\n",
              "    <tr>\n",
              "      <td>0</td>\n",
              "      <td>0.224121</td>\n",
              "      <td>1.419405</td>\n",
              "      <td>0.813538</td>\n",
              "      <td>03:17</td>\n",
              "    </tr>\n",
              "    <tr>\n",
              "      <td>1</td>\n",
              "      <td>0.197532</td>\n",
              "      <td>1.394375</td>\n",
              "      <td>0.821200</td>\n",
              "      <td>03:22</td>\n",
              "    </tr>\n",
              "  </tbody>\n",
              "</table>"
            ],
            "text/plain": [
              "<IPython.core.display.HTML object>"
            ]
          },
          "metadata": {
            "tags": []
          }
        }
      ]
    },
    {
      "cell_type": "code",
      "metadata": {
        "id": "Duwf1Ih5VeDZ",
        "outputId": "74e648f5-1cdc-485a-87b0-dcef9769c193",
        "colab": {
          "base_uri": "https://localhost:8080/",
          "height": 80
        }
      },
      "source": [
        "learn.fit_one_cycle(1, slice(2e-3/100, 2e-3))"
      ],
      "execution_count": 43,
      "outputs": [
        {
          "output_type": "display_data",
          "data": {
            "text/html": [
              "<table border=\"1\" class=\"dataframe\">\n",
              "  <thead>\n",
              "    <tr style=\"text-align: left;\">\n",
              "      <th>epoch</th>\n",
              "      <th>train_loss</th>\n",
              "      <th>valid_loss</th>\n",
              "      <th>accuracy</th>\n",
              "      <th>time</th>\n",
              "    </tr>\n",
              "  </thead>\n",
              "  <tbody>\n",
              "    <tr>\n",
              "      <td>0</td>\n",
              "      <td>0.195439</td>\n",
              "      <td>1.293327</td>\n",
              "      <td>0.825032</td>\n",
              "      <td>03:09</td>\n",
              "    </tr>\n",
              "  </tbody>\n",
              "</table>"
            ],
            "text/plain": [
              "<IPython.core.display.HTML object>"
            ]
          },
          "metadata": {
            "tags": []
          }
        }
      ]
    },
    {
      "cell_type": "code",
      "metadata": {
        "id": "c65d-osfDUXm"
      },
      "source": [
        "# save the best model\n",
        "\n",
        "learn.save_encoder('cadec_ask_mixed_fold5')"
      ],
      "execution_count": 44,
      "outputs": []
    },
    {
      "cell_type": "markdown",
      "metadata": {
        "id": "rCwZU0E2RgM6"
      },
      "source": [
        "# Part three: Predict on the test dataset"
      ]
    },
    {
      "cell_type": "code",
      "metadata": {
        "id": "gDm72c-dOu7d",
        "outputId": "4fb39969-feb6-4e5d-f160-dbf8fd6b4a2e",
        "colab": {
          "base_uri": "https://localhost:8080/",
          "height": 17
        }
      },
      "source": [
        "# use the test data for prediction\n",
        "\n",
        "preds, y = learn.get_preds(DatasetType.Test)"
      ],
      "execution_count": 45,
      "outputs": [
        {
          "output_type": "display_data",
          "data": {
            "text/html": [
              ""
            ],
            "text/plain": [
              "<IPython.core.display.HTML object>"
            ]
          },
          "metadata": {
            "tags": []
          }
        }
      ]
    },
    {
      "cell_type": "code",
      "metadata": {
        "id": "6tFSQcsWPvxn",
        "outputId": "8874bc19-4708-4a60-d2cc-ea3ad9436594",
        "colab": {
          "base_uri": "https://localhost:8080/",
          "height": 105
        }
      },
      "source": [
        "predictions, *_ = learn.get_preds(DatasetType.Test)\n",
        "labels = np.argmax(predictions, 1)\n",
        "predict_list = labels.tolist()\n",
        "standard_list = test[0].tolist()\n",
        "\n",
        "print(len(predict_list))\n",
        "print(len(standard_list))\n",
        "\n",
        "print(predict_list)\n",
        "print(standard_list)"
      ],
      "execution_count": 46,
      "outputs": [
        {
          "output_type": "display_data",
          "data": {
            "text/html": [
              ""
            ],
            "text/plain": [
              "<IPython.core.display.HTML object>"
            ]
          },
          "metadata": {
            "tags": []
          }
        },
        {
          "output_type": "stream",
          "text": [
            "866\n",
            "866\n",
            "[0, 0, 2, 182, 211, 8, 8, 8, 980, 16, 16, 16, 863, 27, 695, 27, 110, 34, 175, 471, 289, 289, 37, 37, 37, 37, 38, 48, 480, 626, 49, 49, 49, 49, 53, 243, 243, 58, 27, 243, 57, 71, 71, 71, 71, 129, 209, 864, 79, 79, 79, 79, 79, 79, 79, 79, 79, 79, 79, 79, 79, 79, 79, 79, 79, 79, 79, 79, 79, 79, 79, 79, 79, 79, 79, 79, 79, 79, 79, 79, 79, 79, 79, 79, 79, 228, 80, 80, 220, 83, 733, 46, 92, 94, 94, 94, 94, 94, 94, 95, 96, 96, 96, 98, 100, 100, 100, 100, 100, 100, 100, 31, 337, 103, 954, 107, 107, 107, 108, 108, 108, 111, 730, 465, 111, 111, 111, 111, 2, 111, 243, 119, 122, 213, 122, 122, 125, 179, 125, 125, 125, 125, 125, 125, 135, 925, 268, 137, 344, 148, 148, 151, 157, 865, 785, 785, 166, 166, 166, 171, 172, 172, 289, 172, 172, 172, 172, 172, 172, 172, 173, 173, 318, 902, 173, 165, 181, 181, 182, 182, 183, 183, 183, 183, 183, 183, 183, 183, 184, 187, 187, 190, 190, 190, 289, 703, 188, 190, 190, 190, 190, 190, 190, 933, 193, 98, 197, 197, 197, 197, 197, 202, 202, 205, 209, 210, 210, 211, 211, 214, 214, 214, 214, 214, 214, 214, 214, 214, 214, 214, 214, 214, 214, 214, 214, 214, 185, 214, 214, 314, 214, 214, 214, 216, 98, 218, 220, 220, 220, 228, 289, 228, 228, 228, 228, 228, 228, 228, 228, 228, 228, 749, 234, 235, 245, 701, 314, 34, 626, 238, 238, 940, 929, 243, 243, 243, 243, 243, 243, 243, 243, 243, 110, 244, 765, 245, 245, 245, 245, 245, 638, 357, 357, 357, 254, 728, 749, 438, 258, 264, 635, 265, 265, 265, 265, 265, 265, 704, 265, 265, 265, 265, 265, 265, 265, 265, 265, 265, 265, 265, 265, 954, 265, 75, 79, 89, 89, 31, 269, 909, 682, 279, 279, 280, 695, 281, 281, 283, 728, 289, 289, 228, 79, 289, 289, 289, 289, 289, 289, 289, 289, 289, 289, 289, 289, 289, 614, 301, 301, 309, 704, 309, 309, 309, 309, 309, 303, 313, 313, 318, 318, 130, 260, 315, 325, 325, 325, 325, 291, 925, 391, 326, 329, 329, 100, 334, 336, 337, 342, 342, 342, 342, 343, 343, 344, 364, 359, 359, 359, 363, 214, 364, 364, 378, 228, 391, 396, 396, 397, 289, 401, 309, 402, 408, 408, 408, 408, 556, 408, 180, 117, 415, 652, 419, 700, 419, 419, 419, 419, 419, 419, 419, 419, 424, 426, 426, 175, 427, 427, 427, 427, 427, 427, 427, 257, 257, 427, 427, 427, 430, 430, 434, 435, 437, 443, 444, 444, 446, 454, 455, 455, 316, 455, 455, 455, 455, 455, 455, 455, 458, 458, 460, 462, 873, 470, 474, 475, 475, 475, 476, 479, 848, 348, 484, 487, 491, 491, 491, 491, 662, 662, 736, 495, 545, 499, 499, 845, 503, 509, 509, 289, 517, 517, 517, 517, 517, 522, 524, 527, 530, 809, 530, 530, 530, 531, 531, 532, 532, 541, 545, 545, 545, 769, 384, 549, 787, 567, 572, 574, 578, 578, 579, 31, 31, 590, 590, 591, 591, 592, 592, 535, 597, 427, 597, 597, 509, 503, 243, 701, 610, 610, 483, 611, 614, 614, 614, 614, 619, 619, 617, 623, 623, 623, 348, 245, 643, 646, 646, 646, 646, 646, 954, 651, 652, 652, 652, 652, 659, 660, 265, 491, 662, 663, 666, 666, 407, 686, 693, 289, 698, 696, 700, 265, 706, 707, 710, 316, 711, 711, 711, 714, 716, 801, 652, 727, 254, 37, 741, 291, 405, 746, 749, 749, 861, 753, 753, 753, 753, 753, 663, 362, 9, 338, 897, 723, 772, 775, 775, 775, 775, 775, 775, 775, 778, 779, 780, 783, 481, 161, 798, 359, 802, 803, 804, 141, 589, 806, 806, 183, 809, 809, 809, 810, 810, 817, 890, 825, 826, 228, 830, 830, 830, 830, 830, 830, 218, 256, 202, 836, 585, 841, 841, 891, 844, 863, 846, 847, 448, 847, 852, 853, 853, 853, 853, 483, 1025, 861, 865, 877, 884, 887, 648, 896, 896, 896, 896, 896, 896, 896, 897, 897, 645, 753, 904, 75, 915, 919, 921, 316, 927, 933, 937, 937, 937, 937, 937, 940, 948, 948, 972, 949, 949, 949, 949, 949, 949, 949, 949, 949, 949, 949, 949, 949, 949, 949, 949, 949, 949, 949, 949, 949, 949, 949, 949, 949, 949, 949, 949, 949, 949, 949, 949, 949, 949, 949, 949, 949, 949, 949, 949, 949, 949, 949, 949, 949, 949, 949, 949, 949, 949, 949, 949, 949, 949, 949, 949, 949, 949, 949, 949, 949, 949, 949, 949, 949, 949, 949, 949, 949, 949, 949, 949, 949, 949, 949, 949, 949, 949, 949, 949, 949, 949, 949, 949, 949, 949, 949, 949, 949, 949, 949, 949, 949, 949, 949, 949, 949, 949, 949, 949, 949, 949, 950, 950, 950, 950, 950, 952, 953, 955, 956, 959, 960, 964, 964, 1009, 974, 976, 976, 995, 995, 987, 954, 243, 992, 316, 999, 925, 999, 925, 1001, 997, 1016, 1016, 939, 1016, 1026, 1028, 1028, 1029, 1029, 1031, 1031, 1032, 1035, 1035]\n",
            "[0, 0, 2, 2, 2, 8, 8, 8, 8, 16, 16, 16, 19, 27, 27, 27, 33, 34, 34, 34, 37, 37, 37, 37, 37, 37, 38, 48, 49, 49, 49, 49, 49, 49, 53, 53, 53, 58, 62, 67, 68, 71, 71, 71, 71, 73, 76, 79, 79, 79, 79, 79, 79, 79, 79, 79, 79, 79, 79, 79, 79, 79, 79, 79, 79, 79, 79, 79, 79, 79, 79, 79, 79, 79, 79, 79, 79, 79, 79, 79, 79, 79, 79, 79, 79, 79, 80, 80, 80, 83, 88, 88, 92, 94, 94, 94, 94, 94, 94, 95, 96, 96, 96, 98, 100, 100, 100, 100, 100, 100, 100, 100, 100, 103, 104, 107, 107, 107, 108, 108, 108, 111, 111, 111, 111, 111, 111, 111, 111, 111, 114, 119, 122, 122, 122, 122, 125, 125, 125, 125, 125, 125, 125, 125, 135, 135, 137, 137, 144, 148, 148, 151, 157, 159, 163, 163, 166, 166, 166, 171, 172, 172, 172, 172, 172, 172, 172, 172, 172, 172, 173, 173, 173, 173, 173, 178, 181, 181, 182, 182, 183, 183, 183, 183, 183, 183, 183, 183, 184, 187, 187, 190, 190, 190, 190, 190, 190, 190, 190, 190, 190, 190, 190, 190, 193, 196, 197, 197, 197, 197, 197, 202, 202, 205, 209, 210, 210, 211, 211, 214, 214, 214, 214, 214, 214, 214, 214, 214, 214, 214, 214, 214, 214, 214, 214, 214, 214, 214, 214, 214, 214, 214, 214, 216, 217, 218, 220, 220, 220, 228, 228, 228, 228, 228, 228, 228, 228, 228, 228, 228, 228, 231, 234, 235, 236, 236, 236, 237, 237, 238, 238, 243, 243, 243, 243, 243, 243, 243, 243, 243, 243, 243, 243, 244, 245, 245, 245, 245, 245, 245, 245, 246, 246, 246, 254, 254, 257, 258, 258, 264, 265, 265, 265, 265, 265, 265, 265, 265, 265, 265, 265, 265, 265, 265, 265, 265, 265, 265, 265, 265, 265, 265, 265, 265, 265, 268, 268, 269, 269, 273, 274, 279, 279, 280, 280, 281, 281, 283, 286, 289, 289, 289, 289, 289, 289, 289, 289, 289, 289, 289, 289, 289, 289, 289, 289, 289, 289, 301, 301, 309, 309, 309, 309, 309, 309, 309, 311, 313, 313, 318, 318, 318, 318, 322, 325, 325, 325, 325, 325, 325, 325, 326, 329, 329, 331, 334, 336, 337, 342, 342, 342, 342, 343, 343, 344, 345, 359, 359, 359, 363, 363, 364, 364, 378, 381, 391, 396, 396, 397, 399, 401, 402, 402, 408, 408, 408, 408, 408, 408, 412, 415, 415, 419, 419, 419, 419, 419, 419, 419, 419, 419, 419, 419, 424, 426, 426, 427, 427, 427, 427, 427, 427, 427, 427, 427, 427, 427, 427, 427, 430, 430, 434, 435, 437, 443, 444, 445, 446, 454, 455, 455, 455, 455, 455, 455, 455, 455, 455, 455, 458, 458, 460, 462, 468, 470, 474, 475, 475, 475, 476, 479, 480, 484, 484, 487, 491, 491, 491, 491, 491, 491, 495, 495, 499, 499, 499, 502, 503, 509, 509, 512, 517, 517, 517, 517, 517, 522, 524, 527, 530, 530, 530, 530, 530, 531, 531, 532, 532, 541, 545, 545, 545, 547, 548, 549, 553, 567, 572, 574, 578, 578, 579, 584, 584, 590, 590, 591, 591, 592, 592, 595, 597, 597, 597, 597, 597, 598, 600, 605, 610, 610, 611, 611, 614, 614, 614, 614, 619, 619, 623, 623, 623, 623, 623, 638, 643, 646, 646, 646, 646, 646, 646, 651, 652, 652, 652, 652, 659, 660, 660, 662, 662, 664, 666, 666, 683, 686, 693, 698, 698, 702, 703, 704, 706, 707, 710, 710, 711, 711, 711, 714, 715, 719, 720, 727, 739, 741, 741, 746, 746, 746, 747, 749, 750, 753, 753, 753, 753, 753, 754, 755, 760, 768, 771, 771, 773, 775, 775, 775, 775, 775, 775, 775, 778, 779, 780, 783, 794, 795, 798, 801, 802, 803, 804, 804, 805, 806, 806, 809, 809, 809, 809, 810, 810, 817, 822, 825, 826, 827, 830, 830, 830, 830, 830, 830, 830, 831, 834, 836, 839, 841, 841, 842, 844, 845, 846, 847, 847, 847, 852, 853, 853, 853, 853, 853, 853, 861, 865, 877, 884, 887, 894, 896, 896, 896, 896, 896, 896, 896, 896, 896, 896, 896, 904, 905, 915, 919, 919, 926, 927, 933, 937, 937, 937, 937, 937, 940, 948, 948, 949, 949, 949, 949, 949, 949, 949, 949, 949, 949, 949, 949, 949, 949, 949, 949, 949, 949, 949, 949, 949, 949, 949, 949, 949, 949, 949, 949, 949, 949, 949, 949, 949, 949, 949, 949, 949, 949, 949, 949, 949, 949, 949, 949, 949, 949, 949, 949, 949, 949, 949, 949, 949, 949, 949, 949, 949, 949, 949, 949, 949, 949, 949, 949, 949, 949, 949, 949, 949, 949, 949, 949, 949, 949, 949, 949, 949, 949, 949, 949, 949, 949, 949, 949, 949, 949, 949, 949, 949, 949, 949, 949, 949, 949, 949, 949, 949, 949, 949, 949, 949, 949, 949, 950, 950, 950, 950, 950, 952, 953, 955, 956, 959, 960, 964, 964, 971, 974, 976, 976, 979, 981, 987, 990, 992, 992, 993, 999, 999, 999, 999, 1001, 1004, 1016, 1016, 1016, 1021, 1026, 1028, 1028, 1029, 1029, 1031, 1031, 1032, 1035, 1035]\n"
          ],
          "name": "stdout"
        }
      ]
    },
    {
      "cell_type": "code",
      "metadata": {
        "id": "XIC4zufnMxtq",
        "outputId": "d7dd6476-f20e-4ed0-8ca3-35c3ed1c16e6",
        "colab": {
          "base_uri": "https://localhost:8080/"
        }
      },
      "source": [
        "correct_num = 0\n",
        "\n",
        "for i in range(0, len(standard_list)):\n",
        "  if predict_list[i] == standard_list[i]:\n",
        "    correct_num = correct_num+1\n",
        "  else:\n",
        "    pass\n",
        "print(correct_num)\n",
        "\n",
        "predict_accuracy = correct_num/len(predict_list)\n",
        "print(predict_accuracy)"
      ],
      "execution_count": 47,
      "outputs": [
        {
          "output_type": "stream",
          "text": [
            "670\n",
            "0.7736720554272517\n"
          ],
          "name": "stdout"
        }
      ]
    },
    {
      "cell_type": "code",
      "metadata": {
        "id": "zlKMHp1CIaRJ"
      },
      "source": [
        ""
      ],
      "execution_count": 47,
      "outputs": []
    }
  ]
}