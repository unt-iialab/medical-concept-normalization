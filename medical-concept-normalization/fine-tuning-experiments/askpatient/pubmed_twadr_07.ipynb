{
  "nbformat": 4,
  "nbformat_minor": 0,
  "metadata": {
    "accelerator": "TPU",
    "colab": {
      "name": "pubmed_twadr_07.ipynb",
      "provenance": [],
      "collapsed_sections": [],
      "toc_visible": true,
      "include_colab_link": true
    },
    "kernelspec": {
      "display_name": "Python 3",
      "name": "python3"
    }
  },
  "cells": [
    {
      "cell_type": "markdown",
      "metadata": {
        "id": "view-in-github",
        "colab_type": "text"
      },
      "source": [
        "<a href=\"https://colab.research.google.com/github/unt-iialab/medical-concept-normalization/blob/master/medical-concept-normalization/fine-tuning-experiments/askpatient/pubmed_twadr_07.ipynb\" target=\"_parent\"><img src=\"https://colab.research.google.com/assets/colab-badge.svg\" alt=\"Open In Colab\"/></a>"
      ]
    },
    {
      "cell_type": "code",
      "metadata": {
        "id": "adSi6i2-dWxy"
      },
      "source": [
        "import os"
      ],
      "execution_count": 1,
      "outputs": []
    },
    {
      "cell_type": "code",
      "metadata": {
        "id": "E7xYCRGPjd9B"
      },
      "source": [
        "base_dir = 'medical-concept-normalization'"
      ],
      "execution_count": 2,
      "outputs": []
    },
    {
      "cell_type": "code",
      "metadata": {
        "id": "yvIW3aUDjYNS"
      },
      "source": [
        "os.mkdir(base_dir)"
      ],
      "execution_count": 3,
      "outputs": []
    },
    {
      "cell_type": "code",
      "metadata": {
        "id": "es-FFLlfk6SG"
      },
      "source": [
        "os.mkdir('medical-concept-normalization/data_collection')"
      ],
      "execution_count": 4,
      "outputs": []
    },
    {
      "cell_type": "markdown",
      "metadata": {
        "id": "0R-Guw_VoJXm"
      },
      "source": [
        "**Install fastai and clone the fastai for text classification**\n",
        "\n"
      ]
    },
    {
      "cell_type": "code",
      "metadata": {
        "id": "QVZa3Z0PmHFH",
        "outputId": "c9e4983e-f45d-45b5-ac34-8aef9692a988",
        "colab": {
          "base_uri": "https://localhost:8080/"
        }
      },
      "source": [
        "!curl https://course-v3.fast.ai/setup/colab | bash"
      ],
      "execution_count": 5,
      "outputs": [
        {
          "output_type": "stream",
          "text": [
            "  % Total    % Received % Xferd  Average Speed   Time    Time     Time  Current\n",
            "                                 Dload  Upload   Total   Spent    Left  Speed\n",
            "\r  0     0    0     0    0     0      0      0 --:--:-- --:--:-- --:--:--     0curl: (6) Could not resolve host: course-v3.fast.ai\n"
          ],
          "name": "stdout"
        }
      ]
    },
    {
      "cell_type": "code",
      "metadata": {
        "id": "_FBFFEBrmJC0",
        "outputId": "876942f9-1d4e-43b3-db49-6f43fc34e369",
        "colab": {
          "base_uri": "https://localhost:8080/"
        }
      },
      "source": [
        "!git clone https://github.com/wshuyi/demo-nlp-classification-fastai.git"
      ],
      "execution_count": 6,
      "outputs": [
        {
          "output_type": "stream",
          "text": [
            "Cloning into 'demo-nlp-classification-fastai'...\n",
            "remote: Enumerating objects: 9, done.\u001b[K\n",
            "remote: Total 9 (delta 0), reused 0 (delta 0), pack-reused 9\u001b[K\n",
            "Unpacking objects: 100% (9/9), done.\n"
          ],
          "name": "stdout"
        }
      ]
    },
    {
      "cell_type": "code",
      "metadata": {
        "id": "66zfh_JqmWMU"
      },
      "source": [
        "from fastai import *\n",
        "from fastai.text import *"
      ],
      "execution_count": 7,
      "outputs": []
    },
    {
      "cell_type": "markdown",
      "metadata": {
        "id": "mNIw-yALdBU9"
      },
      "source": [
        "**Set the path of the data collections**"
      ]
    },
    {
      "cell_type": "code",
      "metadata": {
        "id": "pzH7VMh4mqCL"
      },
      "source": [
        "path = Path('medical-concept-normalization/data_collection')"
      ],
      "execution_count": 8,
      "outputs": []
    },
    {
      "cell_type": "code",
      "metadata": {
        "id": "b8fjI6yyn4aS"
      },
      "source": [
        "# training data set\n",
        "\n",
        "train_csv = path/'TwADR-L.fold-7.train.csv'\n",
        "train = pd.read_csv(train_csv, header=None)\n",
        "#train.head()\n",
        "#train.info()"
      ],
      "execution_count": 10,
      "outputs": []
    },
    {
      "cell_type": "code",
      "metadata": {
        "id": "Hmlr-bAorfHd",
        "outputId": "1f95573c-b391-4604-d126-8fb95d57c2e3",
        "colab": {
          "base_uri": "https://localhost:8080/",
          "height": 204
        }
      },
      "source": [
        "# validating data set\n",
        "\n",
        "valid = pd.read_csv(path/\"TwADR-L.fold-7.validation.csv\",header=None)\n",
        "valid.head()"
      ],
      "execution_count": 11,
      "outputs": [
        {
          "output_type": "execute_result",
          "data": {
            "text/html": [
              "<div>\n",
              "<style scoped>\n",
              "    .dataframe tbody tr th:only-of-type {\n",
              "        vertical-align: middle;\n",
              "    }\n",
              "\n",
              "    .dataframe tbody tr th {\n",
              "        vertical-align: top;\n",
              "    }\n",
              "\n",
              "    .dataframe thead th {\n",
              "        text-align: right;\n",
              "    }\n",
              "</style>\n",
              "<table border=\"1\" class=\"dataframe\">\n",
              "  <thead>\n",
              "    <tr style=\"text-align: right;\">\n",
              "      <th></th>\n",
              "      <th>0</th>\n",
              "      <th>1</th>\n",
              "    </tr>\n",
              "  </thead>\n",
              "  <tbody>\n",
              "    <tr>\n",
              "      <th>0</th>\n",
              "      <td>13</td>\n",
              "      <td>insomniac</td>\n",
              "    </tr>\n",
              "    <tr>\n",
              "      <th>1</th>\n",
              "      <td>24</td>\n",
              "      <td>racing heart</td>\n",
              "    </tr>\n",
              "    <tr>\n",
              "      <th>2</th>\n",
              "      <td>60</td>\n",
              "      <td>cigarette withdrawal</td>\n",
              "    </tr>\n",
              "    <tr>\n",
              "      <th>3</th>\n",
              "      <td>91</td>\n",
              "      <td>jitters</td>\n",
              "    </tr>\n",
              "    <tr>\n",
              "      <th>4</th>\n",
              "      <td>93</td>\n",
              "      <td>shooting</td>\n",
              "    </tr>\n",
              "  </tbody>\n",
              "</table>\n",
              "</div>"
            ],
            "text/plain": [
              "    0                     1\n",
              "0  13             insomniac\n",
              "1  24          racing heart\n",
              "2  60  cigarette withdrawal\n",
              "3  91               jitters\n",
              "4  93              shooting"
            ]
          },
          "metadata": {
            "tags": []
          },
          "execution_count": 11
        }
      ]
    },
    {
      "cell_type": "code",
      "metadata": {
        "id": "cOza9dfSsBud",
        "outputId": "3690e116-c015-4932-c2a6-1c8d3d58d43e",
        "colab": {
          "base_uri": "https://localhost:8080/",
          "height": 204
        }
      },
      "source": [
        "# testing data set\n",
        "\n",
        "test = pd.read_csv(path/\"TwADR-L.fold-7.test.csv\",header=None)\n",
        "test.head()"
      ],
      "execution_count": 12,
      "outputs": [
        {
          "output_type": "execute_result",
          "data": {
            "text/html": [
              "<div>\n",
              "<style scoped>\n",
              "    .dataframe tbody tr th:only-of-type {\n",
              "        vertical-align: middle;\n",
              "    }\n",
              "\n",
              "    .dataframe tbody tr th {\n",
              "        vertical-align: top;\n",
              "    }\n",
              "\n",
              "    .dataframe thead th {\n",
              "        text-align: right;\n",
              "    }\n",
              "</style>\n",
              "<table border=\"1\" class=\"dataframe\">\n",
              "  <thead>\n",
              "    <tr style=\"text-align: right;\">\n",
              "      <th></th>\n",
              "      <th>0</th>\n",
              "      <th>1</th>\n",
              "    </tr>\n",
              "  </thead>\n",
              "  <tbody>\n",
              "    <tr>\n",
              "      <th>0</th>\n",
              "      <td>13</td>\n",
              "      <td>keeping me awake</td>\n",
              "    </tr>\n",
              "    <tr>\n",
              "      <th>1</th>\n",
              "      <td>94</td>\n",
              "      <td>anxiety</td>\n",
              "    </tr>\n",
              "    <tr>\n",
              "      <th>2</th>\n",
              "      <td>119</td>\n",
              "      <td>incr anxiety</td>\n",
              "    </tr>\n",
              "    <tr>\n",
              "      <th>3</th>\n",
              "      <td>119</td>\n",
              "      <td>anxiety</td>\n",
              "    </tr>\n",
              "    <tr>\n",
              "      <th>4</th>\n",
              "      <td>121</td>\n",
              "      <td>itching</td>\n",
              "    </tr>\n",
              "  </tbody>\n",
              "</table>\n",
              "</div>"
            ],
            "text/plain": [
              "     0                 1\n",
              "0   13  keeping me awake\n",
              "1   94           anxiety\n",
              "2  119      incr anxiety\n",
              "3  119           anxiety\n",
              "4  121           itching"
            ]
          },
          "metadata": {
            "tags": []
          },
          "execution_count": 12
        }
      ]
    },
    {
      "cell_type": "code",
      "metadata": {
        "id": "Vo-YNvVYoaH6",
        "outputId": "bc50c974-2977-480e-c8e1-1c62d1e39995",
        "colab": {
          "base_uri": "https://localhost:8080/",
          "height": 17
        }
      },
      "source": [
        "# Creating DataBunch for language modelling\n",
        "\n",
        "data_lm = TextLMDataBunch.from_csv(path, 'TwADR_pubmed.csv')"
      ],
      "execution_count": 13,
      "outputs": [
        {
          "output_type": "display_data",
          "data": {
            "text/html": [
              ""
            ],
            "text/plain": [
              "<IPython.core.display.HTML object>"
            ]
          },
          "metadata": {
            "tags": []
          }
        },
        {
          "output_type": "display_data",
          "data": {
            "text/html": [
              ""
            ],
            "text/plain": [
              "<IPython.core.display.HTML object>"
            ]
          },
          "metadata": {
            "tags": []
          }
        }
      ]
    },
    {
      "cell_type": "code",
      "metadata": {
        "id": "qcV-9kMnNLBf"
      },
      "source": [
        ""
      ],
      "execution_count": 13,
      "outputs": []
    },
    {
      "cell_type": "code",
      "metadata": {
        "id": "1ScY9afDsnvE"
      },
      "source": [
        "# Creating DataBunch for classification\n",
        "\n",
        "# data_clas = TextClasDataBunch.from_df(path, train, valid, test, vocab=data_lm.train_ds.vocab, bs=128)"
      ],
      "execution_count": 14,
      "outputs": []
    },
    {
      "cell_type": "code",
      "metadata": {
        "id": "gzrSdQcvey9p",
        "outputId": "c7b6c11d-4831-447e-b902-ad86b841888a",
        "colab": {
          "base_uri": "https://localhost:8080/",
          "height": 17
        }
      },
      "source": [
        "data_clas = TextClasDataBunch.from_df(path, train, valid, vocab=data_lm.train_ds.vocab, bs=128)"
      ],
      "execution_count": 15,
      "outputs": [
        {
          "output_type": "display_data",
          "data": {
            "text/html": [
              ""
            ],
            "text/plain": [
              "<IPython.core.display.HTML object>"
            ]
          },
          "metadata": {
            "tags": []
          }
        },
        {
          "output_type": "display_data",
          "data": {
            "text/html": [
              ""
            ],
            "text/plain": [
              "<IPython.core.display.HTML object>"
            ]
          },
          "metadata": {
            "tags": []
          }
        }
      ]
    },
    {
      "cell_type": "code",
      "metadata": {
        "id": "MD27Tf0Ke3ou",
        "outputId": "0f12f732-5cd4-4631-a462-8ea3b4d5f238",
        "colab": {
          "base_uri": "https://localhost:8080/",
          "height": 17
        }
      },
      "source": [
        "data_clas.add_test(test,label=0)\n"
      ],
      "execution_count": 16,
      "outputs": [
        {
          "output_type": "display_data",
          "data": {
            "text/html": [
              ""
            ],
            "text/plain": [
              "<IPython.core.display.HTML object>"
            ]
          },
          "metadata": {
            "tags": []
          }
        }
      ]
    },
    {
      "cell_type": "code",
      "metadata": {
        "id": "-dpjnk_rstwk"
      },
      "source": [
        "data_lm.save()\n",
        "data_clas.save()"
      ],
      "execution_count": 17,
      "outputs": []
    },
    {
      "cell_type": "code",
      "metadata": {
        "id": "4OkiJa36sw5s",
        "outputId": "47a1c4be-aeb3-4f98-a1c9-db54d74e90f6",
        "colab": {
          "base_uri": "https://localhost:8080/"
        }
      },
      "source": [
        "data_lm.train_ds.vocab.itos"
      ],
      "execution_count": 18,
      "outputs": [
        {
          "output_type": "execute_result",
          "data": {
            "text/plain": [
              "['xxunk',\n",
              " 'xxpad',\n",
              " 'xxbos',\n",
              " 'xxeos',\n",
              " 'xxfld',\n",
              " 'xxmaj',\n",
              " 'xxup',\n",
              " 'xxrep',\n",
              " 'xxwrep',\n",
              " 'the',\n",
              " 'of',\n",
              " 'and',\n",
              " 'in',\n",
              " 'to',\n",
              " 'a',\n",
              " 'diclofenac',\n",
              " 'was',\n",
              " 'with',\n",
              " 'were',\n",
              " 'for',\n",
              " 'pain',\n",
              " 'sodium',\n",
              " 'by',\n",
              " 'drug',\n",
              " 'on',\n",
              " 'patients',\n",
              " 'as',\n",
              " 'that',\n",
              " 'is',\n",
              " 'at',\n",
              " 'or',\n",
              " 'mg',\n",
              " 'increased',\n",
              " 'group',\n",
              " 'from',\n",
              " 'mood',\n",
              " 'this',\n",
              " 'study',\n",
              " 'treatment',\n",
              " 'after',\n",
              " 'p',\n",
              " 'release',\n",
              " 'an',\n",
              " 'be',\n",
              " ',',\n",
              " 'disorder',\n",
              " 'me',\n",
              " 'i',\n",
              " 'abnormal',\n",
              " 'withdrawal',\n",
              " 'effect',\n",
              " 'not',\n",
              " 'decreased',\n",
              " 'than',\n",
              " 'compared',\n",
              " 'weight',\n",
              " 'anxiety',\n",
              " 'using',\n",
              " 'groups',\n",
              " 'my',\n",
              " 'are',\n",
              " 'effects',\n",
              " 'no',\n",
              " 'two',\n",
              " 'symptoms',\n",
              " 'both',\n",
              " 'inflammatory',\n",
              " 'significantly',\n",
              " 'between',\n",
              " 'acute',\n",
              " 'significant',\n",
              " 'h',\n",
              " 'potassium',\n",
              " 'drugs',\n",
              " 'anti',\n",
              " 'skin',\n",
              " 'day',\n",
              " 'disorders',\n",
              " 'voltaren',\n",
              " 'syndrome',\n",
              " 'blood',\n",
              " '(',\n",
              " ')',\n",
              " 'time',\n",
              " 'dose',\n",
              " 'all',\n",
              " 'behavior',\n",
              " 'used',\n",
              " 'these',\n",
              " 'which',\n",
              " 'sleeplessness',\n",
              " 'it',\n",
              " 'placebo',\n",
              " 'results',\n",
              " '-',\n",
              " 'had',\n",
              " 'efficacy',\n",
              " 'diseases',\n",
              " 'days',\n",
              " 'oral',\n",
              " 'treated',\n",
              " 'have',\n",
              " 'like',\n",
              " 'ds',\n",
              " 'also',\n",
              " 'feeling',\n",
              " 'concentration',\n",
              " 'we',\n",
              " 'showed',\n",
              " 'ml',\n",
              " 'different',\n",
              " 'more',\n",
              " 'finding',\n",
              " 'insomnia',\n",
              " 'one',\n",
              " 'disturbance',\n",
              " 'up',\n",
              " 'sleep',\n",
              " 'somnolence',\n",
              " 'but',\n",
              " 'has',\n",
              " 'administration',\n",
              " 'topical',\n",
              " 'energy',\n",
              " 'high',\n",
              " 'studies',\n",
              " 'plasma',\n",
              " 'control',\n",
              " 'c',\n",
              " 'non',\n",
              " 'acid',\n",
              " 'rats',\n",
              " 'been',\n",
              " 'clinical',\n",
              " 'induced',\n",
              " 'got',\n",
              " 'respectively',\n",
              " 'hours',\n",
              " 'swelling',\n",
              " 'found',\n",
              " 'during',\n",
              " 'mental',\n",
              " 'state',\n",
              " 'rate',\n",
              " 'into',\n",
              " 'tablets',\n",
              " 'appetite',\n",
              " 'gain',\n",
              " 'there',\n",
              " 'formulation',\n",
              " 'mean',\n",
              " 'muscle',\n",
              " 'nsaids',\n",
              " 'effective',\n",
              " 'method',\n",
              " 'their',\n",
              " 'formulations',\n",
              " 'ph',\n",
              " 'other',\n",
              " 'depression',\n",
              " 's',\n",
              " 'nausea',\n",
              " 'body',\n",
              " 'disease',\n",
              " 'its',\n",
              " 'observed',\n",
              " 'may',\n",
              " 'kg',\n",
              " 'gel',\n",
              " 'solution',\n",
              " 'use',\n",
              " 'g',\n",
              " 'low',\n",
              " 'three',\n",
              " 'n',\n",
              " 'when',\n",
              " 'received',\n",
              " 'controlled',\n",
              " 'd',\n",
              " 'vitro',\n",
              " 'test',\n",
              " 'lower',\n",
              " 'adverse',\n",
              " 'activity',\n",
              " 'analgesic',\n",
              " 'irritable',\n",
              " 'awake',\n",
              " 'heart',\n",
              " 'well',\n",
              " 'dizziness',\n",
              " 'over',\n",
              " 'm',\n",
              " 'conditions',\n",
              " 'analysis',\n",
              " 'attention',\n",
              " 'first',\n",
              " 'levels',\n",
              " 'renal',\n",
              " 'excitability',\n",
              " 'level',\n",
              " 'out',\n",
              " 'feel',\n",
              " 'period',\n",
              " 'total',\n",
              " 'reaction',\n",
              " 'atorvastatin',\n",
              " 'drowsiness',\n",
              " 'daily',\n",
              " 'each',\n",
              " 'randomized',\n",
              " 'hyperactive',\n",
              " 'data',\n",
              " 'ceiling',\n",
              " 'serum',\n",
              " 'system',\n",
              " 'cell',\n",
              " 'eye',\n",
              " 'concentrations',\n",
              " 'feelings',\n",
              " 'liver',\n",
              " 'single',\n",
              " 'panic',\n",
              " 'headache',\n",
              " 'evaluated',\n",
              " 'less',\n",
              " 'patient',\n",
              " 'loss',\n",
              " 'rash',\n",
              " 'double',\n",
              " 'application',\n",
              " 'model',\n",
              " 'however',\n",
              " 't',\n",
              " 'site',\n",
              " 'gastrointestinal',\n",
              " 'joint',\n",
              " 'can',\n",
              " 'depressed',\n",
              " 'present',\n",
              " 'function',\n",
              " 'weeks',\n",
              " 'dissolution',\n",
              " 'surgery',\n",
              " 'allergic',\n",
              " 'inflammation',\n",
              " 'infection',\n",
              " 'tablet',\n",
              " 'initial',\n",
              " 'obtained',\n",
              " 'postoperative',\n",
              " 'combination',\n",
              " 'injury',\n",
              " 'l',\n",
              " 'similar',\n",
              " 'water',\n",
              " 'did',\n",
              " 'edema',\n",
              " 'arthritis',\n",
              " 'most',\n",
              " 'associated',\n",
              " 'difference',\n",
              " 'higher',\n",
              " 'reduced',\n",
              " 'therapy',\n",
              " 'injection',\n",
              " 'cells',\n",
              " 'only',\n",
              " 'based',\n",
              " 'bone',\n",
              " 'b',\n",
              " 'following',\n",
              " 'prepared',\n",
              " 'pressure',\n",
              " 'response',\n",
              " 'bipolar',\n",
              " 'nsaid',\n",
              " 'swings',\n",
              " '#',\n",
              " 'studied',\n",
              " 'those',\n",
              " 'change',\n",
              " 'week',\n",
              " 'increase',\n",
              " 'differences',\n",
              " 'gastric',\n",
              " 'administered',\n",
              " 'visual',\n",
              " 'under',\n",
              " 'trial',\n",
              " 'blind',\n",
              " 'doses',\n",
              " 'performed',\n",
              " 'changes',\n",
              " 'migraine',\n",
              " 'relief',\n",
              " 'events',\n",
              " 'before',\n",
              " \"n't\",\n",
              " 'wakefulness',\n",
              " 'values',\n",
              " 'developed',\n",
              " 'cholesterol',\n",
              " 'min',\n",
              " 'investigated',\n",
              " 'containing',\n",
              " 'x',\n",
              " 'corneal',\n",
              " 'tissue',\n",
              " 'breast',\n",
              " 'ratio',\n",
              " 'chronic',\n",
              " 'reported',\n",
              " 'vs',\n",
              " 'ca',\n",
              " 'absorption',\n",
              " 'order',\n",
              " 'phase',\n",
              " 'subjects',\n",
              " 'could',\n",
              " 'knee',\n",
              " 'decrease',\n",
              " 'nonsteroidal',\n",
              " 'due',\n",
              " 'abdominal',\n",
              " 'indomethacin',\n",
              " 'four',\n",
              " 'while',\n",
              " 'safety',\n",
              " 'given',\n",
              " 'w',\n",
              " 'fatigue',\n",
              " 'respiratory',\n",
              " 'v',\n",
              " 'attacks',\n",
              " 'assessed',\n",
              " 'within',\n",
              " 'auc',\n",
              " 'dreams',\n",
              " 'urine',\n",
              " 'parameters',\n",
              " 'therapeutic',\n",
              " 'side',\n",
              " 'new',\n",
              " 'such',\n",
              " 'brain',\n",
              " 'either',\n",
              " 'properties',\n",
              " 'measured',\n",
              " 'years',\n",
              " 'compare',\n",
              " 'delivery',\n",
              " 'post',\n",
              " 'failure',\n",
              " 'stiffness',\n",
              " 'who',\n",
              " 'ng',\n",
              " 'human',\n",
              " 'mm',\n",
              " 'steroidal',\n",
              " 'statistically',\n",
              " 'evaluate',\n",
              " 'tremor',\n",
              " 'reduction',\n",
              " 'dry',\n",
              " 'healthy',\n",
              " 'sustained',\n",
              " 'taste',\n",
              " 'any',\n",
              " 'hemorrhage',\n",
              " 'oa',\n",
              " 'e',\n",
              " 'included',\n",
              " 'k',\n",
              " 'through',\n",
              " 'type',\n",
              " 'attack',\n",
              " 'vivo',\n",
              " 'action',\n",
              " 'liquid',\n",
              " 'scale',\n",
              " 'better',\n",
              " 'times',\n",
              " 'minutes',\n",
              " 'deficit',\n",
              " 'kidney',\n",
              " 'active',\n",
              " 'medication',\n",
              " 'size',\n",
              " 'osteoarthritis',\n",
              " 'so',\n",
              " 'bioavailability',\n",
              " 'determined',\n",
              " 'baseline',\n",
              " 'samples',\n",
              " 'rage',\n",
              " 'lipitor',\n",
              " 'process',\n",
              " 'primary',\n",
              " 'cardiac',\n",
              " 'scores',\n",
              " 'sleepy',\n",
              " 'eyes',\n",
              " 'local',\n",
              " 'range',\n",
              " 'form',\n",
              " 'development',\n",
              " 'greater',\n",
              " 'potential',\n",
              " 'applied',\n",
              " 'number',\n",
              " 'alone',\n",
              " 'they',\n",
              " 'makes',\n",
              " 'without',\n",
              " 'discomfort',\n",
              " 'psychotic',\n",
              " 'coated',\n",
              " 'matrix',\n",
              " 'cox',\n",
              " 'dependent',\n",
              " 'carcinoma',\n",
              " 'tolerability',\n",
              " 'pulmonary',\n",
              " 'male',\n",
              " 'good',\n",
              " 'related',\n",
              " 'wide',\n",
              " 'revealed',\n",
              " 'secondary',\n",
              " 'ii',\n",
              " 'demonstrated',\n",
              " 'addition',\n",
              " 'tired',\n",
              " 'severe',\n",
              " 'infections',\n",
              " 'products',\n",
              " 'polymer',\n",
              " 'na',\n",
              " 'aqueous',\n",
              " 'hour',\n",
              " 'normal',\n",
              " 'temperature',\n",
              " 'aim',\n",
              " 'same',\n",
              " 'ulcer',\n",
              " 'our',\n",
              " 'about',\n",
              " 'dosage',\n",
              " 'middle',\n",
              " 'night',\n",
              " 'vomiting',\n",
              " 'very',\n",
              " 'mice',\n",
              " 'aggravated',\n",
              " 'dermatitis',\n",
              " 'volunteers',\n",
              " 'shown',\n",
              " 'sensation',\n",
              " 'facial',\n",
              " 'numbness',\n",
              " 'stomach',\n",
              " 'end',\n",
              " 'treatments',\n",
              " 'being',\n",
              " 'various',\n",
              " 'per',\n",
              " 'area',\n",
              " 'intensity',\n",
              " 'cerebral',\n",
              " 'formation',\n",
              " 'daytime',\n",
              " 'inhibition',\n",
              " 'agent',\n",
              " 'standard',\n",
              " 'indicated',\n",
              " 'suggest',\n",
              " 'hypertension',\n",
              " 'multiple',\n",
              " 'animals',\n",
              " 'trials',\n",
              " 'fluid',\n",
              " 'randomly',\n",
              " 'de',\n",
              " 'cm',\n",
              " 'followed',\n",
              " 'mechanism',\n",
              " 'hallucinations',\n",
              " 'agents',\n",
              " 'risk',\n",
              " 'distress',\n",
              " 'presence',\n",
              " 'relative',\n",
              " 'vas',\n",
              " 'rheumatoid',\n",
              " 'still',\n",
              " 'early',\n",
              " 'free',\n",
              " 'prolonged',\n",
              " 'permeation',\n",
              " 'profiles',\n",
              " 'inhibitor',\n",
              " 'sweating',\n",
              " 'improvement',\n",
              " 'cancer',\n",
              " 'score',\n",
              " 'exposure',\n",
              " 'difficulty',\n",
              " 'cases',\n",
              " 'zombie',\n",
              " 'conducted',\n",
              " 'whereas',\n",
              " 'further',\n",
              " 'ocular',\n",
              " 'elevated',\n",
              " 'localised',\n",
              " 'dysfunction',\n",
              " 'complex',\n",
              " 'although',\n",
              " 'dependence',\n",
              " 'irritation',\n",
              " 'anger',\n",
              " 'systemic',\n",
              " 'quality',\n",
              " 'female',\n",
              " \"'m\",\n",
              " 'th',\n",
              " 'anemia',\n",
              " 'months',\n",
              " 'rat',\n",
              " 'peak',\n",
              " 'asleep',\n",
              " 'available',\n",
              " 'disturbances',\n",
              " 'some',\n",
              " 'case',\n",
              " 'including',\n",
              " 'versus',\n",
              " 'calcium',\n",
              " 'sleepiness',\n",
              " 'ibuprofen',\n",
              " 'onset',\n",
              " 'surface',\n",
              " 'damage',\n",
              " 'growth',\n",
              " 'evaluation',\n",
              " 'six',\n",
              " 'f',\n",
              " 'profile',\n",
              " 'combined',\n",
              " 'protein',\n",
              " 'tract',\n",
              " 'death',\n",
              " 'assessment',\n",
              " 'five',\n",
              " 'determine',\n",
              " 'common',\n",
              " 'oedema',\n",
              " 'enteric',\n",
              " 'divided',\n",
              " 'pharmaceutical',\n",
              " 'vehicle',\n",
              " 'alcohol',\n",
              " 'tolerated',\n",
              " 'microspheres',\n",
              " 'models',\n",
              " 'term',\n",
              " 'pharmacokinetic',\n",
              " 'membrane',\n",
              " 'improved',\n",
              " 'physical',\n",
              " 'nightmares',\n",
              " 'down',\n",
              " 'resulted',\n",
              " 'vascular',\n",
              " 'among',\n",
              " 'moderate',\n",
              " 'because',\n",
              " 'suicidal',\n",
              " 'misoprostol',\n",
              " 'production',\n",
              " 'o',\n",
              " 'ventricular',\n",
              " 'cmax',\n",
              " 'painful',\n",
              " 'produced',\n",
              " 'hepatic',\n",
              " 'age',\n",
              " 'analgesia',\n",
              " 'solid',\n",
              " 'need',\n",
              " 'duration',\n",
              " 'cataract',\n",
              " 'social',\n",
              " 'compulsive',\n",
              " 'density',\n",
              " 'maximum',\n",
              " 'necrosis',\n",
              " 'lesions',\n",
              " 'eating',\n",
              " 'efficiency',\n",
              " 'naproxen',\n",
              " 'beads',\n",
              " 'rapid',\n",
              " 'urinary',\n",
              " 'performance',\n",
              " 'pre',\n",
              " 'depressive',\n",
              " 'third',\n",
              " 'preparation',\n",
              " 'achieved',\n",
              " 'medium',\n",
              " 'spasm',\n",
              " 'intestinal',\n",
              " 'reference',\n",
              " 'dizzy',\n",
              " 'bite',\n",
              " 'seizures',\n",
              " 'mild',\n",
              " 'thus',\n",
              " 'arrest',\n",
              " 'diabetic',\n",
              " 'foot',\n",
              " 'content',\n",
              " 'impairment',\n",
              " 'synthesis',\n",
              " 'according',\n",
              " 'product',\n",
              " 'cross',\n",
              " 'then',\n",
              " 'interactions',\n",
              " 'experimental',\n",
              " 'caused',\n",
              " 'tested',\n",
              " 'glucose',\n",
              " 'pruritus',\n",
              " 'localized',\n",
              " 'toxicity',\n",
              " 'commercial',\n",
              " 'exhaustion',\n",
              " 'carried',\n",
              " 'once',\n",
              " 'creatinine',\n",
              " 'technique',\n",
              " 'flow',\n",
              " 'pellets',\n",
              " 'ci',\n",
              " 'memory',\n",
              " 'uterine',\n",
              " 'participants',\n",
              " 'aspirin',\n",
              " 'enzyme',\n",
              " 'extent',\n",
              " 'evidence',\n",
              " 'flare',\n",
              " 'volume',\n",
              " 'complete',\n",
              " 'should',\n",
              " 'peripheral',\n",
              " 'cd',\n",
              " 'major',\n",
              " 'prostaglandin',\n",
              " 'review',\n",
              " 'long',\n",
              " 'result',\n",
              " 'examined',\n",
              " 'second',\n",
              " 'inhibitors',\n",
              " 'fever',\n",
              " 'least',\n",
              " 'vision',\n",
              " 'life',\n",
              " 'comparison',\n",
              " 'value',\n",
              " 'vivid',\n",
              " 'erythema',\n",
              " 'lung',\n",
              " 'year',\n",
              " 'inhibited',\n",
              " 'show',\n",
              " 'diffusion',\n",
              " 'lack',\n",
              " 'old',\n",
              " 'chest',\n",
              " 'interaction',\n",
              " 'detection',\n",
              " 'saline',\n",
              " 'rofecoxib',\n",
              " 'intramuscular',\n",
              " 'receiving',\n",
              " 'care',\n",
              " 'expression',\n",
              " 'delayed',\n",
              " 'work',\n",
              " 'if',\n",
              " 'superior',\n",
              " 'considered',\n",
              " 'diabetes',\n",
              " 'every',\n",
              " 'influence',\n",
              " 'adderall',\n",
              " 'patch',\n",
              " 'you',\n",
              " 'recorded',\n",
              " 'amount',\n",
              " 'index',\n",
              " 'injuries',\n",
              " 'upper',\n",
              " 'degrees',\n",
              " 'outcome',\n",
              " 'overall',\n",
              " 'paracetamol',\n",
              " 'tolerance',\n",
              " 'responses',\n",
              " 'methods',\n",
              " 'assess',\n",
              " 'withdrawals',\n",
              " 'investigate',\n",
              " 'findings',\n",
              " 'therefore',\n",
              " 'tooth',\n",
              " 'emotional',\n",
              " 'count',\n",
              " 'depersonalization',\n",
              " 'beta',\n",
              " 'indicate',\n",
              " 'medications',\n",
              " 'positive',\n",
              " 'specific',\n",
              " 'possible',\n",
              " 'abuse',\n",
              " 'obsessive',\n",
              " 'loaded',\n",
              " 'characterized',\n",
              " 'microg',\n",
              " 'small',\n",
              " 'degree',\n",
              " 'global',\n",
              " 'clearance',\n",
              " 'comparable',\n",
              " 'nervous',\n",
              " 'your',\n",
              " 'affect',\n",
              " 'dic',\n",
              " 'intoxication',\n",
              " 'determination',\n",
              " 'simple',\n",
              " 'nm',\n",
              " 'preparations',\n",
              " 'face',\n",
              " 'crazy',\n",
              " 'provide',\n",
              " 'plus',\n",
              " 'shoulder',\n",
              " 'co',\n",
              " 'phosphate',\n",
              " 'rates',\n",
              " 'tissues',\n",
              " 'ketorolac',\n",
              " 'drowsy',\n",
              " 'twice',\n",
              " 'stress',\n",
              " 'buffer',\n",
              " 'taking',\n",
              " 'activities',\n",
              " 'design',\n",
              " 'clinically',\n",
              " 'ache',\n",
              " 'novel',\n",
              " 'capsules',\n",
              " 'hplc',\n",
              " 'provided',\n",
              " 'back',\n",
              " 'alpha',\n",
              " 'max',\n",
              " 'examination',\n",
              " 'cardiovascular',\n",
              " 'neoplasm',\n",
              " 'current',\n",
              " 'nauseous',\n",
              " 'cold',\n",
              " 'diet',\n",
              " 'transdermal',\n",
              " 'analgesics',\n",
              " 'exhibited',\n",
              " 'highly',\n",
              " 'will',\n",
              " 'fear',\n",
              " 'lipid',\n",
              " 'extraction',\n",
              " 'analyzed',\n",
              " 'hunger',\n",
              " 'forms',\n",
              " 'cream',\n",
              " 'even',\n",
              " 'against',\n",
              " 'increasing',\n",
              " 'made',\n",
              " 'mass',\n",
              " 'consciousness',\n",
              " 'way',\n",
              " 'central',\n",
              " 'solutions',\n",
              " 'rabbits',\n",
              " 'sneezing',\n",
              " 'modified',\n",
              " 'r',\n",
              " 'objective',\n",
              " 'bleeding',\n",
              " 'hand',\n",
              " 'genital',\n",
              " 'euphoric',\n",
              " 'general',\n",
              " 'does',\n",
              " 'hepatitis',\n",
              " 'kinetics',\n",
              " 'obstruction',\n",
              " 'short',\n",
              " 'nerve',\n",
              " 'ear',\n",
              " 'lipoprotein',\n",
              " 'dpsgc',\n",
              " 'additional',\n",
              " 'tests',\n",
              " 'terms',\n",
              " 'penetration',\n",
              " 'cause',\n",
              " 'arthropod',\n",
              " 'hp',\n",
              " 'incidence',\n",
              " 'nasal',\n",
              " 'research',\n",
              " 'bulimia',\n",
              " 'hpmc',\n",
              " 'tongue',\n",
              " 'sensitive',\n",
              " 'food',\n",
              " 'cramps',\n",
              " 'arterial',\n",
              " 'solubility',\n",
              " 'ability',\n",
              " 'partial',\n",
              " 'important',\n",
              " 'steroid',\n",
              " 'pneumonia',\n",
              " 'chitosan',\n",
              " 'hurt',\n",
              " 'experiments',\n",
              " 'asthma',\n",
              " 'several',\n",
              " 'lightheadedness',\n",
              " 'il',\n",
              " 'malignant',\n",
              " 'episode',\n",
              " 'characteristics',\n",
              " 'role',\n",
              " 'impaired',\n",
              " 'cutaneous',\n",
              " 'binding',\n",
              " 'do',\n",
              " 'lesion',\n",
              " 'neoplasms',\n",
              " 'sr',\n",
              " 'eudragit',\n",
              " 'sexual',\n",
              " 'paranoid',\n",
              " 'enhanced',\n",
              " 'media',\n",
              " 'factor',\n",
              " 'block',\n",
              " 'fracture',\n",
              " 'hungry',\n",
              " 'management',\n",
              " 'cambia',\n",
              " 'urticaria',\n",
              " 'get',\n",
              " 'collected',\n",
              " 'drops',\n",
              " 'absence',\n",
              " 'aged',\n",
              " 'required',\n",
              " 'candidiasis',\n",
              " 'whether',\n",
              " 'structure',\n",
              " 'open',\n",
              " 'antiinflammatory',\n",
              " 'since',\n",
              " 'reduce',\n",
              " 'pge',\n",
              " 'soft',\n",
              " 'capsule',\n",
              " 'dcf',\n",
              " 'adult',\n",
              " 'serious',\n",
              " 'useful',\n",
              " 'headaches',\n",
              " 'musculoskeletal',\n",
              " 'potent',\n",
              " 'animal',\n",
              " 'procedure',\n",
              " 'tenderness',\n",
              " 'metabolism',\n",
              " 'released',\n",
              " 'electrocardiogram',\n",
              " 'tmax',\n",
              " 'mouth',\n",
              " 'faster',\n",
              " 'scanning',\n",
              " 'tingling',\n",
              " 'whole',\n",
              " 'known',\n",
              " 'pattern',\n",
              " 'many',\n",
              " 'ophthalmic',\n",
              " 'particle',\n",
              " 'stability',\n",
              " 'women',\n",
              " 'insufficiency',\n",
              " 'thirst',\n",
              " 'chemical',\n",
              " 'average',\n",
              " 'personality',\n",
              " 'cs',\n",
              " 'colitis',\n",
              " 'half',\n",
              " 'collagen',\n",
              " 'allergy',\n",
              " 'activation',\n",
              " 'dfs',\n",
              " 'binge',\n",
              " 'zero',\n",
              " 'across',\n",
              " 'arthrotec',\n",
              " 'microm',\n",
              " 'right',\n",
              " 'traumatic',\n",
              " 'salt',\n",
              " 'systems',\n",
              " 'information',\n",
              " 'crossover',\n",
              " 'bad',\n",
              " 'bacterial',\n",
              " 'myocardial',\n",
              " 'alternative',\n",
              " 'ldl',\n",
              " 'fast',\n",
              " 'df',\n",
              " 'sd',\n",
              " 'chloride',\n",
              " 'coronary',\n",
              " 'generalized',\n",
              " 'tendency',\n",
              " 'target',\n",
              " 'hr',\n",
              " 'ejaculation',\n",
              " 'occurred',\n",
              " 'much',\n",
              " 'point',\n",
              " 'microscopy',\n",
              " 'factors',\n",
              " 'gi',\n",
              " 'excretion',\n",
              " 'substance',\n",
              " 'interval',\n",
              " 'erection',\n",
              " 'intravenous',\n",
              " 'via',\n",
              " 'lose',\n",
              " 'artery',\n",
              " 'loading',\n",
              " 'fractures',\n",
              " 'needed',\n",
              " 'libido',\n",
              " 'symptom',\n",
              " 'laboratory',\n",
              " 'selected',\n",
              " 'sweat',\n",
              " 'diarrhea',\n",
              " 'confirmed',\n",
              " 'percentage',\n",
              " 'health',\n",
              " 'detected',\n",
              " 'laser',\n",
              " 'reducing',\n",
              " 'breathing',\n",
              " 'established',\n",
              " 'large',\n",
              " 'injected',\n",
              " 'celecoxib',\n",
              " 'criteria',\n",
              " 'randomised',\n",
              " 'kcnq',\n",
              " 'vasculitis',\n",
              " 'limb',\n",
              " 'orally',\n",
              " 'overdose',\n",
              " 'designed',\n",
              " 'muscular',\n",
              " 'taken',\n",
              " 'electron',\n",
              " 'cyclooxygenase',\n",
              " ...]"
            ]
          },
          "metadata": {
            "tags": []
          },
          "execution_count": 18
        }
      ]
    },
    {
      "cell_type": "code",
      "metadata": {
        "id": "yPWr03mls3VT",
        "outputId": "775f99f9-da80-42dd-c731-db45f76a275c",
        "colab": {
          "base_uri": "https://localhost:8080/",
          "height": 17
        }
      },
      "source": [
        "model_path = path/'models'\n",
        "model_path.mkdir(exist_ok=True)\n",
        "url = 'http://files.fast.ai/models/wt103_v1/'\n",
        "download_url(f'{url}lstm_wt103.pth', model_path/'lstm_wt103.pth')\n",
        "download_url(f'{url}itos_wt103.pkl', model_path/'itos_wt103.pkl')"
      ],
      "execution_count": 19,
      "outputs": [
        {
          "output_type": "display_data",
          "data": {
            "text/html": [
              ""
            ],
            "text/plain": [
              "<IPython.core.display.HTML object>"
            ]
          },
          "metadata": {
            "tags": []
          }
        },
        {
          "output_type": "display_data",
          "data": {
            "text/html": [
              ""
            ],
            "text/plain": [
              "<IPython.core.display.HTML object>"
            ]
          },
          "metadata": {
            "tags": []
          }
        }
      ]
    },
    {
      "cell_type": "code",
      "metadata": {
        "id": "JRzvWg8RtGGr",
        "outputId": "409ca210-cd39-451d-9f52-bb42305ab5a6",
        "colab": {
          "base_uri": "https://localhost:8080/",
          "height": 34
        }
      },
      "source": [
        "learn = language_model_learner(data_lm, AWD_LSTM, drop_mult=0.5)"
      ],
      "execution_count": 20,
      "outputs": [
        {
          "output_type": "stream",
          "text": [
            "Downloading https://s3.amazonaws.com/fast-ai-modelzoo/wt103-fwd.tgz\n"
          ],
          "name": "stdout"
        },
        {
          "output_type": "display_data",
          "data": {
            "text/html": [
              ""
            ],
            "text/plain": [
              "<IPython.core.display.HTML object>"
            ]
          },
          "metadata": {
            "tags": []
          }
        }
      ]
    },
    {
      "cell_type": "code",
      "metadata": {
        "id": "xKK7GeBev7Xn",
        "outputId": "a8a29f39-9017-4bee-ce42-76b2f265ec4e",
        "colab": {
          "base_uri": "https://localhost:8080/",
          "height": 80
        }
      },
      "source": [
        "learn.fit_one_cycle(1, 1e-2)"
      ],
      "execution_count": 21,
      "outputs": [
        {
          "output_type": "display_data",
          "data": {
            "text/html": [
              "<table border=\"1\" class=\"dataframe\">\n",
              "  <thead>\n",
              "    <tr style=\"text-align: left;\">\n",
              "      <th>epoch</th>\n",
              "      <th>train_loss</th>\n",
              "      <th>valid_loss</th>\n",
              "      <th>accuracy</th>\n",
              "      <th>time</th>\n",
              "    </tr>\n",
              "  </thead>\n",
              "  <tbody>\n",
              "    <tr>\n",
              "      <td>0</td>\n",
              "      <td>4.844624</td>\n",
              "      <td>4.219815</td>\n",
              "      <td>0.346729</td>\n",
              "      <td>17:31</td>\n",
              "    </tr>\n",
              "  </tbody>\n",
              "</table>"
            ],
            "text/plain": [
              "<IPython.core.display.HTML object>"
            ]
          },
          "metadata": {
            "tags": []
          }
        }
      ]
    },
    {
      "cell_type": "code",
      "metadata": {
        "id": "iB7rHGQCwd12",
        "outputId": "aa8830ca-f0ec-41f5-e7ea-487db54f49b9",
        "colab": {
          "base_uri": "https://localhost:8080/",
          "height": 80
        }
      },
      "source": [
        "learn.fit_one_cycle(1, 1e-2)"
      ],
      "execution_count": 22,
      "outputs": [
        {
          "output_type": "display_data",
          "data": {
            "text/html": [
              "<table border=\"1\" class=\"dataframe\">\n",
              "  <thead>\n",
              "    <tr style=\"text-align: left;\">\n",
              "      <th>epoch</th>\n",
              "      <th>train_loss</th>\n",
              "      <th>valid_loss</th>\n",
              "      <th>accuracy</th>\n",
              "      <th>time</th>\n",
              "    </tr>\n",
              "  </thead>\n",
              "  <tbody>\n",
              "    <tr>\n",
              "      <td>0</td>\n",
              "      <td>4.017951</td>\n",
              "      <td>3.831418</td>\n",
              "      <td>0.380907</td>\n",
              "      <td>17:21</td>\n",
              "    </tr>\n",
              "  </tbody>\n",
              "</table>"
            ],
            "text/plain": [
              "<IPython.core.display.HTML object>"
            ]
          },
          "metadata": {
            "tags": []
          }
        }
      ]
    },
    {
      "cell_type": "code",
      "metadata": {
        "id": "_BnSuAeCwkBe",
        "outputId": "4e67d97d-c46d-4c8c-f357-2aaf758f210c",
        "colab": {
          "base_uri": "https://localhost:8080/",
          "height": 80
        }
      },
      "source": [
        "learn.fit_one_cycle(1, 1e-3)"
      ],
      "execution_count": 23,
      "outputs": [
        {
          "output_type": "display_data",
          "data": {
            "text/html": [
              "<table border=\"1\" class=\"dataframe\">\n",
              "  <thead>\n",
              "    <tr style=\"text-align: left;\">\n",
              "      <th>epoch</th>\n",
              "      <th>train_loss</th>\n",
              "      <th>valid_loss</th>\n",
              "      <th>accuracy</th>\n",
              "      <th>time</th>\n",
              "    </tr>\n",
              "  </thead>\n",
              "  <tbody>\n",
              "    <tr>\n",
              "      <td>0</td>\n",
              "      <td>3.738396</td>\n",
              "      <td>3.788031</td>\n",
              "      <td>0.385680</td>\n",
              "      <td>17:14</td>\n",
              "    </tr>\n",
              "  </tbody>\n",
              "</table>"
            ],
            "text/plain": [
              "<IPython.core.display.HTML object>"
            ]
          },
          "metadata": {
            "tags": []
          }
        }
      ]
    },
    {
      "cell_type": "code",
      "metadata": {
        "id": "MuTm-RFjwrEX",
        "outputId": "099a178c-6df2-477c-e932-9ff110bf4188",
        "colab": {
          "base_uri": "https://localhost:8080/",
          "height": 80
        }
      },
      "source": [
        "learn.fit_one_cycle(1, 1e-3)"
      ],
      "execution_count": 24,
      "outputs": [
        {
          "output_type": "display_data",
          "data": {
            "text/html": [
              "<table border=\"1\" class=\"dataframe\">\n",
              "  <thead>\n",
              "    <tr style=\"text-align: left;\">\n",
              "      <th>epoch</th>\n",
              "      <th>train_loss</th>\n",
              "      <th>valid_loss</th>\n",
              "      <th>accuracy</th>\n",
              "      <th>time</th>\n",
              "    </tr>\n",
              "  </thead>\n",
              "  <tbody>\n",
              "    <tr>\n",
              "      <td>0</td>\n",
              "      <td>3.681271</td>\n",
              "      <td>3.754756</td>\n",
              "      <td>0.389706</td>\n",
              "      <td>17:25</td>\n",
              "    </tr>\n",
              "  </tbody>\n",
              "</table>"
            ],
            "text/plain": [
              "<IPython.core.display.HTML object>"
            ]
          },
          "metadata": {
            "tags": []
          }
        }
      ]
    },
    {
      "cell_type": "code",
      "metadata": {
        "id": "1Er2ExO8wr7Y"
      },
      "source": [
        "learn.save_encoder('TwADR_pubmed_fold7_first')"
      ],
      "execution_count": 25,
      "outputs": []
    },
    {
      "cell_type": "code",
      "metadata": {
        "id": "z52cZs2qwvad",
        "outputId": "42e7a17b-97be-49da-8b29-5bc1acfb439f",
        "colab": {
          "base_uri": "https://localhost:8080/",
          "height": 80
        }
      },
      "source": [
        "learn = text_classifier_learner(data_clas,AWD_LSTM, drop_mult=0.5)\n",
        "learn.load_encoder('TwADR_pubmed_fold7_first')\n",
        "learn.fit_one_cycle(1, 1e-2)"
      ],
      "execution_count": 26,
      "outputs": [
        {
          "output_type": "display_data",
          "data": {
            "text/html": [
              "<table border=\"1\" class=\"dataframe\">\n",
              "  <thead>\n",
              "    <tr style=\"text-align: left;\">\n",
              "      <th>epoch</th>\n",
              "      <th>train_loss</th>\n",
              "      <th>valid_loss</th>\n",
              "      <th>accuracy</th>\n",
              "      <th>time</th>\n",
              "    </tr>\n",
              "  </thead>\n",
              "  <tbody>\n",
              "    <tr>\n",
              "      <td>0</td>\n",
              "      <td>7.157570</td>\n",
              "      <td>6.459374</td>\n",
              "      <td>0.091549</td>\n",
              "      <td>00:23</td>\n",
              "    </tr>\n",
              "  </tbody>\n",
              "</table>"
            ],
            "text/plain": [
              "<IPython.core.display.HTML object>"
            ]
          },
          "metadata": {
            "tags": []
          }
        }
      ]
    },
    {
      "cell_type": "code",
      "metadata": {
        "id": "ImwQP1PJwzxd",
        "outputId": "dbafc1df-4606-4604-9d91-0a9fda1f9472",
        "colab": {
          "base_uri": "https://localhost:8080/",
          "height": 80
        }
      },
      "source": [
        "learn.freeze_to(-2)\n",
        "learn.fit_one_cycle(1, slice(5e-3/2., 5e-3))"
      ],
      "execution_count": 27,
      "outputs": [
        {
          "output_type": "display_data",
          "data": {
            "text/html": [
              "<table border=\"1\" class=\"dataframe\">\n",
              "  <thead>\n",
              "    <tr style=\"text-align: left;\">\n",
              "      <th>epoch</th>\n",
              "      <th>train_loss</th>\n",
              "      <th>valid_loss</th>\n",
              "      <th>accuracy</th>\n",
              "      <th>time</th>\n",
              "    </tr>\n",
              "  </thead>\n",
              "  <tbody>\n",
              "    <tr>\n",
              "      <td>0</td>\n",
              "      <td>6.180783</td>\n",
              "      <td>5.314089</td>\n",
              "      <td>0.140845</td>\n",
              "      <td>00:27</td>\n",
              "    </tr>\n",
              "  </tbody>\n",
              "</table>"
            ],
            "text/plain": [
              "<IPython.core.display.HTML object>"
            ]
          },
          "metadata": {
            "tags": []
          }
        }
      ]
    },
    {
      "cell_type": "code",
      "metadata": {
        "id": "Owff_BJXw53u",
        "outputId": "90e8e6e8-3a87-4aae-9b68-c28e6283a52d",
        "colab": {
          "base_uri": "https://localhost:8080/",
          "height": 80
        }
      },
      "source": [
        "learn.unfreeze()\n",
        "learn.fit_one_cycle(1, slice(2e-3/100, 2e-3))"
      ],
      "execution_count": 28,
      "outputs": [
        {
          "output_type": "display_data",
          "data": {
            "text/html": [
              "<table border=\"1\" class=\"dataframe\">\n",
              "  <thead>\n",
              "    <tr style=\"text-align: left;\">\n",
              "      <th>epoch</th>\n",
              "      <th>train_loss</th>\n",
              "      <th>valid_loss</th>\n",
              "      <th>accuracy</th>\n",
              "      <th>time</th>\n",
              "    </tr>\n",
              "  </thead>\n",
              "  <tbody>\n",
              "    <tr>\n",
              "      <td>0</td>\n",
              "      <td>5.653076</td>\n",
              "      <td>4.923798</td>\n",
              "      <td>0.147887</td>\n",
              "      <td>01:08</td>\n",
              "    </tr>\n",
              "  </tbody>\n",
              "</table>"
            ],
            "text/plain": [
              "<IPython.core.display.HTML object>"
            ]
          },
          "metadata": {
            "tags": []
          }
        }
      ]
    },
    {
      "cell_type": "code",
      "metadata": {
        "id": "lqAyu56V8Waq",
        "outputId": "97b816f8-3d17-482c-9c31-18661bc1c918",
        "colab": {
          "base_uri": "https://localhost:8080/",
          "height": 111
        }
      },
      "source": [
        "learn.fit_one_cycle(2, slice(2e-3/100, 2e-3))"
      ],
      "execution_count": 29,
      "outputs": [
        {
          "output_type": "display_data",
          "data": {
            "text/html": [
              "<table border=\"1\" class=\"dataframe\">\n",
              "  <thead>\n",
              "    <tr style=\"text-align: left;\">\n",
              "      <th>epoch</th>\n",
              "      <th>train_loss</th>\n",
              "      <th>valid_loss</th>\n",
              "      <th>accuracy</th>\n",
              "      <th>time</th>\n",
              "    </tr>\n",
              "  </thead>\n",
              "  <tbody>\n",
              "    <tr>\n",
              "      <td>0</td>\n",
              "      <td>5.365910</td>\n",
              "      <td>4.544039</td>\n",
              "      <td>0.169014</td>\n",
              "      <td>01:09</td>\n",
              "    </tr>\n",
              "    <tr>\n",
              "      <td>1</td>\n",
              "      <td>5.150282</td>\n",
              "      <td>4.377017</td>\n",
              "      <td>0.218310</td>\n",
              "      <td>01:09</td>\n",
              "    </tr>\n",
              "  </tbody>\n",
              "</table>"
            ],
            "text/plain": [
              "<IPython.core.display.HTML object>"
            ]
          },
          "metadata": {
            "tags": []
          }
        }
      ]
    },
    {
      "cell_type": "code",
      "metadata": {
        "id": "a7I1xMRp8bUd",
        "outputId": "26f17265-7b59-4ad8-a914-3197527ac181",
        "colab": {
          "base_uri": "https://localhost:8080/",
          "height": 111
        }
      },
      "source": [
        "learn.fit_one_cycle(2, slice(2e-3/100, 2e-3))"
      ],
      "execution_count": 30,
      "outputs": [
        {
          "output_type": "display_data",
          "data": {
            "text/html": [
              "<table border=\"1\" class=\"dataframe\">\n",
              "  <thead>\n",
              "    <tr style=\"text-align: left;\">\n",
              "      <th>epoch</th>\n",
              "      <th>train_loss</th>\n",
              "      <th>valid_loss</th>\n",
              "      <th>accuracy</th>\n",
              "      <th>time</th>\n",
              "    </tr>\n",
              "  </thead>\n",
              "  <tbody>\n",
              "    <tr>\n",
              "      <td>0</td>\n",
              "      <td>4.887630</td>\n",
              "      <td>4.168142</td>\n",
              "      <td>0.260563</td>\n",
              "      <td>01:08</td>\n",
              "    </tr>\n",
              "    <tr>\n",
              "      <td>1</td>\n",
              "      <td>4.689466</td>\n",
              "      <td>4.115684</td>\n",
              "      <td>0.253521</td>\n",
              "      <td>01:05</td>\n",
              "    </tr>\n",
              "  </tbody>\n",
              "</table>"
            ],
            "text/plain": [
              "<IPython.core.display.HTML object>"
            ]
          },
          "metadata": {
            "tags": []
          }
        }
      ]
    },
    {
      "cell_type": "code",
      "metadata": {
        "id": "UAnti-XmGVfO",
        "outputId": "ecf9f651-0b96-402f-cbf9-ee44c4b28365",
        "colab": {
          "base_uri": "https://localhost:8080/",
          "height": 111
        }
      },
      "source": [
        "learn.fit_one_cycle(2, slice(2e-3/100, 2e-3))"
      ],
      "execution_count": 31,
      "outputs": [
        {
          "output_type": "display_data",
          "data": {
            "text/html": [
              "<table border=\"1\" class=\"dataframe\">\n",
              "  <thead>\n",
              "    <tr style=\"text-align: left;\">\n",
              "      <th>epoch</th>\n",
              "      <th>train_loss</th>\n",
              "      <th>valid_loss</th>\n",
              "      <th>accuracy</th>\n",
              "      <th>time</th>\n",
              "    </tr>\n",
              "  </thead>\n",
              "  <tbody>\n",
              "    <tr>\n",
              "      <td>0</td>\n",
              "      <td>4.505593</td>\n",
              "      <td>3.912461</td>\n",
              "      <td>0.274648</td>\n",
              "      <td>01:06</td>\n",
              "    </tr>\n",
              "    <tr>\n",
              "      <td>1</td>\n",
              "      <td>4.328784</td>\n",
              "      <td>3.824998</td>\n",
              "      <td>0.302817</td>\n",
              "      <td>01:10</td>\n",
              "    </tr>\n",
              "  </tbody>\n",
              "</table>"
            ],
            "text/plain": [
              "<IPython.core.display.HTML object>"
            ]
          },
          "metadata": {
            "tags": []
          }
        }
      ]
    },
    {
      "cell_type": "code",
      "metadata": {
        "id": "bIft7W25GwSu",
        "outputId": "380167d3-8433-4b38-d08b-9f82b68ec8cf",
        "colab": {
          "base_uri": "https://localhost:8080/",
          "height": 111
        }
      },
      "source": [
        "learn.fit_one_cycle(2, slice(2e-3/100, 2e-3))"
      ],
      "execution_count": 32,
      "outputs": [
        {
          "output_type": "display_data",
          "data": {
            "text/html": [
              "<table border=\"1\" class=\"dataframe\">\n",
              "  <thead>\n",
              "    <tr style=\"text-align: left;\">\n",
              "      <th>epoch</th>\n",
              "      <th>train_loss</th>\n",
              "      <th>valid_loss</th>\n",
              "      <th>accuracy</th>\n",
              "      <th>time</th>\n",
              "    </tr>\n",
              "  </thead>\n",
              "  <tbody>\n",
              "    <tr>\n",
              "      <td>0</td>\n",
              "      <td>4.131667</td>\n",
              "      <td>3.665275</td>\n",
              "      <td>0.330986</td>\n",
              "      <td>01:03</td>\n",
              "    </tr>\n",
              "    <tr>\n",
              "      <td>1</td>\n",
              "      <td>3.959701</td>\n",
              "      <td>3.610501</td>\n",
              "      <td>0.338028</td>\n",
              "      <td>01:07</td>\n",
              "    </tr>\n",
              "  </tbody>\n",
              "</table>"
            ],
            "text/plain": [
              "<IPython.core.display.HTML object>"
            ]
          },
          "metadata": {
            "tags": []
          }
        }
      ]
    },
    {
      "cell_type": "code",
      "metadata": {
        "id": "EEHszVRvGyFt",
        "outputId": "c6640473-9b6b-4fb2-95b6-ce866b27522b",
        "colab": {
          "base_uri": "https://localhost:8080/",
          "height": 111
        }
      },
      "source": [
        "learn.fit_one_cycle(2, slice(2e-3/100, 2e-3))"
      ],
      "execution_count": 33,
      "outputs": [
        {
          "output_type": "display_data",
          "data": {
            "text/html": [
              "<table border=\"1\" class=\"dataframe\">\n",
              "  <thead>\n",
              "    <tr style=\"text-align: left;\">\n",
              "      <th>epoch</th>\n",
              "      <th>train_loss</th>\n",
              "      <th>valid_loss</th>\n",
              "      <th>accuracy</th>\n",
              "      <th>time</th>\n",
              "    </tr>\n",
              "  </thead>\n",
              "  <tbody>\n",
              "    <tr>\n",
              "      <td>0</td>\n",
              "      <td>3.831822</td>\n",
              "      <td>3.526082</td>\n",
              "      <td>0.302817</td>\n",
              "      <td>01:07</td>\n",
              "    </tr>\n",
              "    <tr>\n",
              "      <td>1</td>\n",
              "      <td>3.669475</td>\n",
              "      <td>3.435712</td>\n",
              "      <td>0.352113</td>\n",
              "      <td>01:10</td>\n",
              "    </tr>\n",
              "  </tbody>\n",
              "</table>"
            ],
            "text/plain": [
              "<IPython.core.display.HTML object>"
            ]
          },
          "metadata": {
            "tags": []
          }
        }
      ]
    },
    {
      "cell_type": "code",
      "metadata": {
        "id": "XsHfrhCHG3dN",
        "outputId": "c4e6c61d-ea4b-4d8f-cc87-aca9541b693a",
        "colab": {
          "base_uri": "https://localhost:8080/",
          "height": 173
        }
      },
      "source": [
        "learn.fit_one_cycle(4, slice(2e-3/100, 2e-3))"
      ],
      "execution_count": 34,
      "outputs": [
        {
          "output_type": "display_data",
          "data": {
            "text/html": [
              "<table border=\"1\" class=\"dataframe\">\n",
              "  <thead>\n",
              "    <tr style=\"text-align: left;\">\n",
              "      <th>epoch</th>\n",
              "      <th>train_loss</th>\n",
              "      <th>valid_loss</th>\n",
              "      <th>accuracy</th>\n",
              "      <th>time</th>\n",
              "    </tr>\n",
              "  </thead>\n",
              "  <tbody>\n",
              "    <tr>\n",
              "      <td>0</td>\n",
              "      <td>3.493630</td>\n",
              "      <td>3.429317</td>\n",
              "      <td>0.380282</td>\n",
              "      <td>01:09</td>\n",
              "    </tr>\n",
              "    <tr>\n",
              "      <td>1</td>\n",
              "      <td>3.400767</td>\n",
              "      <td>3.474437</td>\n",
              "      <td>0.380282</td>\n",
              "      <td>01:09</td>\n",
              "    </tr>\n",
              "    <tr>\n",
              "      <td>2</td>\n",
              "      <td>3.227703</td>\n",
              "      <td>3.307821</td>\n",
              "      <td>0.422535</td>\n",
              "      <td>01:05</td>\n",
              "    </tr>\n",
              "    <tr>\n",
              "      <td>3</td>\n",
              "      <td>3.041924</td>\n",
              "      <td>3.299419</td>\n",
              "      <td>0.429577</td>\n",
              "      <td>01:08</td>\n",
              "    </tr>\n",
              "  </tbody>\n",
              "</table>"
            ],
            "text/plain": [
              "<IPython.core.display.HTML object>"
            ]
          },
          "metadata": {
            "tags": []
          }
        }
      ]
    },
    {
      "cell_type": "code",
      "metadata": {
        "id": "0Zsd99isb9EQ",
        "outputId": "9335e239-1539-40fa-ec90-9d60c543cab5",
        "colab": {
          "base_uri": "https://localhost:8080/",
          "height": 173
        }
      },
      "source": [
        "learn.fit_one_cycle(4, slice(2e-3/100, 2e-3))"
      ],
      "execution_count": 35,
      "outputs": [
        {
          "output_type": "display_data",
          "data": {
            "text/html": [
              "<table border=\"1\" class=\"dataframe\">\n",
              "  <thead>\n",
              "    <tr style=\"text-align: left;\">\n",
              "      <th>epoch</th>\n",
              "      <th>train_loss</th>\n",
              "      <th>valid_loss</th>\n",
              "      <th>accuracy</th>\n",
              "      <th>time</th>\n",
              "    </tr>\n",
              "  </thead>\n",
              "  <tbody>\n",
              "    <tr>\n",
              "      <td>0</td>\n",
              "      <td>2.885112</td>\n",
              "      <td>3.283533</td>\n",
              "      <td>0.408451</td>\n",
              "      <td>01:12</td>\n",
              "    </tr>\n",
              "    <tr>\n",
              "      <td>1</td>\n",
              "      <td>2.825374</td>\n",
              "      <td>3.287572</td>\n",
              "      <td>0.443662</td>\n",
              "      <td>01:07</td>\n",
              "    </tr>\n",
              "    <tr>\n",
              "      <td>2</td>\n",
              "      <td>2.663857</td>\n",
              "      <td>3.211102</td>\n",
              "      <td>0.450704</td>\n",
              "      <td>01:08</td>\n",
              "    </tr>\n",
              "    <tr>\n",
              "      <td>3</td>\n",
              "      <td>2.504497</td>\n",
              "      <td>3.170670</td>\n",
              "      <td>0.443662</td>\n",
              "      <td>01:09</td>\n",
              "    </tr>\n",
              "  </tbody>\n",
              "</table>"
            ],
            "text/plain": [
              "<IPython.core.display.HTML object>"
            ]
          },
          "metadata": {
            "tags": []
          }
        }
      ]
    },
    {
      "cell_type": "code",
      "metadata": {
        "id": "atNWNKDFPbuI",
        "outputId": "7bcaff76-cf3d-44d4-b33f-9c4078347c97",
        "colab": {
          "base_uri": "https://localhost:8080/",
          "height": 173
        }
      },
      "source": [
        "learn.fit_one_cycle(4, slice(2e-3/100, 2e-3))"
      ],
      "execution_count": 36,
      "outputs": [
        {
          "output_type": "display_data",
          "data": {
            "text/html": [
              "<table border=\"1\" class=\"dataframe\">\n",
              "  <thead>\n",
              "    <tr style=\"text-align: left;\">\n",
              "      <th>epoch</th>\n",
              "      <th>train_loss</th>\n",
              "      <th>valid_loss</th>\n",
              "      <th>accuracy</th>\n",
              "      <th>time</th>\n",
              "    </tr>\n",
              "  </thead>\n",
              "  <tbody>\n",
              "    <tr>\n",
              "      <td>0</td>\n",
              "      <td>2.314192</td>\n",
              "      <td>3.199917</td>\n",
              "      <td>0.450704</td>\n",
              "      <td>01:09</td>\n",
              "    </tr>\n",
              "    <tr>\n",
              "      <td>1</td>\n",
              "      <td>2.296424</td>\n",
              "      <td>3.194815</td>\n",
              "      <td>0.436620</td>\n",
              "      <td>01:08</td>\n",
              "    </tr>\n",
              "    <tr>\n",
              "      <td>2</td>\n",
              "      <td>2.157697</td>\n",
              "      <td>3.222903</td>\n",
              "      <td>0.464789</td>\n",
              "      <td>01:04</td>\n",
              "    </tr>\n",
              "    <tr>\n",
              "      <td>3</td>\n",
              "      <td>2.010880</td>\n",
              "      <td>3.214616</td>\n",
              "      <td>0.464789</td>\n",
              "      <td>01:02</td>\n",
              "    </tr>\n",
              "  </tbody>\n",
              "</table>"
            ],
            "text/plain": [
              "<IPython.core.display.HTML object>"
            ]
          },
          "metadata": {
            "tags": []
          }
        }
      ]
    },
    {
      "cell_type": "code",
      "metadata": {
        "id": "rKrBTZ0T1uVA",
        "outputId": "954701d7-ef4c-4fab-cac4-f0d4842b34e3",
        "colab": {
          "base_uri": "https://localhost:8080/",
          "height": 173
        }
      },
      "source": [
        "learn.fit_one_cycle(4, slice(2e-3/100, 2e-3))"
      ],
      "execution_count": 37,
      "outputs": [
        {
          "output_type": "display_data",
          "data": {
            "text/html": [
              "<table border=\"1\" class=\"dataframe\">\n",
              "  <thead>\n",
              "    <tr style=\"text-align: left;\">\n",
              "      <th>epoch</th>\n",
              "      <th>train_loss</th>\n",
              "      <th>valid_loss</th>\n",
              "      <th>accuracy</th>\n",
              "      <th>time</th>\n",
              "    </tr>\n",
              "  </thead>\n",
              "  <tbody>\n",
              "    <tr>\n",
              "      <td>0</td>\n",
              "      <td>1.832294</td>\n",
              "      <td>3.173965</td>\n",
              "      <td>0.471831</td>\n",
              "      <td>01:06</td>\n",
              "    </tr>\n",
              "    <tr>\n",
              "      <td>1</td>\n",
              "      <td>1.847323</td>\n",
              "      <td>3.244236</td>\n",
              "      <td>0.471831</td>\n",
              "      <td>01:11</td>\n",
              "    </tr>\n",
              "    <tr>\n",
              "      <td>2</td>\n",
              "      <td>1.703073</td>\n",
              "      <td>3.199125</td>\n",
              "      <td>0.450704</td>\n",
              "      <td>01:08</td>\n",
              "    </tr>\n",
              "    <tr>\n",
              "      <td>3</td>\n",
              "      <td>1.589845</td>\n",
              "      <td>3.188159</td>\n",
              "      <td>0.464789</td>\n",
              "      <td>01:07</td>\n",
              "    </tr>\n",
              "  </tbody>\n",
              "</table>"
            ],
            "text/plain": [
              "<IPython.core.display.HTML object>"
            ]
          },
          "metadata": {
            "tags": []
          }
        }
      ]
    },
    {
      "cell_type": "code",
      "metadata": {
        "id": "ajQC6WDg1yA9",
        "outputId": "392f7ebf-f1d4-4ef4-8f1b-58961c6525e9",
        "colab": {
          "base_uri": "https://localhost:8080/",
          "height": 173
        }
      },
      "source": [
        "learn.fit_one_cycle(4, slice(2e-3/100, 2e-3))"
      ],
      "execution_count": 38,
      "outputs": [
        {
          "output_type": "display_data",
          "data": {
            "text/html": [
              "<table border=\"1\" class=\"dataframe\">\n",
              "  <thead>\n",
              "    <tr style=\"text-align: left;\">\n",
              "      <th>epoch</th>\n",
              "      <th>train_loss</th>\n",
              "      <th>valid_loss</th>\n",
              "      <th>accuracy</th>\n",
              "      <th>time</th>\n",
              "    </tr>\n",
              "  </thead>\n",
              "  <tbody>\n",
              "    <tr>\n",
              "      <td>0</td>\n",
              "      <td>1.460279</td>\n",
              "      <td>3.264130</td>\n",
              "      <td>0.457746</td>\n",
              "      <td>01:02</td>\n",
              "    </tr>\n",
              "    <tr>\n",
              "      <td>1</td>\n",
              "      <td>1.443911</td>\n",
              "      <td>3.376091</td>\n",
              "      <td>0.464789</td>\n",
              "      <td>01:07</td>\n",
              "    </tr>\n",
              "    <tr>\n",
              "      <td>2</td>\n",
              "      <td>1.333911</td>\n",
              "      <td>3.270062</td>\n",
              "      <td>0.457746</td>\n",
              "      <td>01:09</td>\n",
              "    </tr>\n",
              "    <tr>\n",
              "      <td>3</td>\n",
              "      <td>1.224264</td>\n",
              "      <td>3.267121</td>\n",
              "      <td>0.464789</td>\n",
              "      <td>01:04</td>\n",
              "    </tr>\n",
              "  </tbody>\n",
              "</table>"
            ],
            "text/plain": [
              "<IPython.core.display.HTML object>"
            ]
          },
          "metadata": {
            "tags": []
          }
        }
      ]
    },
    {
      "cell_type": "code",
      "metadata": {
        "id": "KKydb0B4BKGk",
        "outputId": "96a6056e-737b-4869-b873-1247f6236ab7",
        "colab": {
          "base_uri": "https://localhost:8080/",
          "height": 173
        }
      },
      "source": [
        "learn.fit_one_cycle(4, slice(2e-3/100, 2e-3))"
      ],
      "execution_count": 39,
      "outputs": [
        {
          "output_type": "display_data",
          "data": {
            "text/html": [
              "<table border=\"1\" class=\"dataframe\">\n",
              "  <thead>\n",
              "    <tr style=\"text-align: left;\">\n",
              "      <th>epoch</th>\n",
              "      <th>train_loss</th>\n",
              "      <th>valid_loss</th>\n",
              "      <th>accuracy</th>\n",
              "      <th>time</th>\n",
              "    </tr>\n",
              "  </thead>\n",
              "  <tbody>\n",
              "    <tr>\n",
              "      <td>0</td>\n",
              "      <td>1.150484</td>\n",
              "      <td>3.336891</td>\n",
              "      <td>0.450704</td>\n",
              "      <td>01:09</td>\n",
              "    </tr>\n",
              "    <tr>\n",
              "      <td>1</td>\n",
              "      <td>1.144051</td>\n",
              "      <td>3.438468</td>\n",
              "      <td>0.436620</td>\n",
              "      <td>01:07</td>\n",
              "    </tr>\n",
              "    <tr>\n",
              "      <td>2</td>\n",
              "      <td>1.044675</td>\n",
              "      <td>3.482291</td>\n",
              "      <td>0.471831</td>\n",
              "      <td>01:11</td>\n",
              "    </tr>\n",
              "    <tr>\n",
              "      <td>3</td>\n",
              "      <td>0.976385</td>\n",
              "      <td>3.476528</td>\n",
              "      <td>0.457746</td>\n",
              "      <td>01:07</td>\n",
              "    </tr>\n",
              "  </tbody>\n",
              "</table>"
            ],
            "text/plain": [
              "<IPython.core.display.HTML object>"
            ]
          },
          "metadata": {
            "tags": []
          }
        }
      ]
    },
    {
      "cell_type": "code",
      "metadata": {
        "id": "T2APKtFKBpGY",
        "outputId": "fe9a5606-b649-4f64-a4e8-25bbc3cfbf07",
        "colab": {
          "base_uri": "https://localhost:8080/",
          "height": 173
        }
      },
      "source": [
        "learn.fit_one_cycle(4, slice(2e-3/100, 2e-3))"
      ],
      "execution_count": 40,
      "outputs": [
        {
          "output_type": "display_data",
          "data": {
            "text/html": [
              "<table border=\"1\" class=\"dataframe\">\n",
              "  <thead>\n",
              "    <tr style=\"text-align: left;\">\n",
              "      <th>epoch</th>\n",
              "      <th>train_loss</th>\n",
              "      <th>valid_loss</th>\n",
              "      <th>accuracy</th>\n",
              "      <th>time</th>\n",
              "    </tr>\n",
              "  </thead>\n",
              "  <tbody>\n",
              "    <tr>\n",
              "      <td>0</td>\n",
              "      <td>0.900398</td>\n",
              "      <td>3.448976</td>\n",
              "      <td>0.471831</td>\n",
              "      <td>01:06</td>\n",
              "    </tr>\n",
              "    <tr>\n",
              "      <td>1</td>\n",
              "      <td>0.918291</td>\n",
              "      <td>3.577148</td>\n",
              "      <td>0.429577</td>\n",
              "      <td>01:06</td>\n",
              "    </tr>\n",
              "    <tr>\n",
              "      <td>2</td>\n",
              "      <td>0.859902</td>\n",
              "      <td>3.602414</td>\n",
              "      <td>0.443662</td>\n",
              "      <td>01:05</td>\n",
              "    </tr>\n",
              "    <tr>\n",
              "      <td>3</td>\n",
              "      <td>0.782764</td>\n",
              "      <td>3.620399</td>\n",
              "      <td>0.443662</td>\n",
              "      <td>01:06</td>\n",
              "    </tr>\n",
              "  </tbody>\n",
              "</table>"
            ],
            "text/plain": [
              "<IPython.core.display.HTML object>"
            ]
          },
          "metadata": {
            "tags": []
          }
        }
      ]
    },
    {
      "cell_type": "code",
      "metadata": {
        "id": "qtTypA1sPgLU",
        "outputId": "5ca96556-1138-4e97-ed2f-186d90aebc4c",
        "colab": {
          "base_uri": "https://localhost:8080/",
          "height": 111
        }
      },
      "source": [
        "learn.fit_one_cycle(2, slice(2e-3/100, 2e-3))"
      ],
      "execution_count": 41,
      "outputs": [
        {
          "output_type": "display_data",
          "data": {
            "text/html": [
              "<table border=\"1\" class=\"dataframe\">\n",
              "  <thead>\n",
              "    <tr style=\"text-align: left;\">\n",
              "      <th>epoch</th>\n",
              "      <th>train_loss</th>\n",
              "      <th>valid_loss</th>\n",
              "      <th>accuracy</th>\n",
              "      <th>time</th>\n",
              "    </tr>\n",
              "  </thead>\n",
              "  <tbody>\n",
              "    <tr>\n",
              "      <td>0</td>\n",
              "      <td>0.724227</td>\n",
              "      <td>3.671462</td>\n",
              "      <td>0.464789</td>\n",
              "      <td>01:05</td>\n",
              "    </tr>\n",
              "    <tr>\n",
              "      <td>1</td>\n",
              "      <td>0.716937</td>\n",
              "      <td>3.602720</td>\n",
              "      <td>0.457746</td>\n",
              "      <td>01:06</td>\n",
              "    </tr>\n",
              "  </tbody>\n",
              "</table>"
            ],
            "text/plain": [
              "<IPython.core.display.HTML object>"
            ]
          },
          "metadata": {
            "tags": []
          }
        }
      ]
    },
    {
      "cell_type": "code",
      "metadata": {
        "id": "b242kBsTUp9Y",
        "outputId": "d9092d71-c155-4d94-9e02-316c9b37348f",
        "colab": {
          "base_uri": "https://localhost:8080/",
          "height": 111
        }
      },
      "source": [
        "learn.fit_one_cycle(2, slice(2e-3/100, 2e-3))"
      ],
      "execution_count": 42,
      "outputs": [
        {
          "output_type": "display_data",
          "data": {
            "text/html": [
              "<table border=\"1\" class=\"dataframe\">\n",
              "  <thead>\n",
              "    <tr style=\"text-align: left;\">\n",
              "      <th>epoch</th>\n",
              "      <th>train_loss</th>\n",
              "      <th>valid_loss</th>\n",
              "      <th>accuracy</th>\n",
              "      <th>time</th>\n",
              "    </tr>\n",
              "  </thead>\n",
              "  <tbody>\n",
              "    <tr>\n",
              "      <td>0</td>\n",
              "      <td>0.691014</td>\n",
              "      <td>3.592876</td>\n",
              "      <td>0.464789</td>\n",
              "      <td>01:08</td>\n",
              "    </tr>\n",
              "    <tr>\n",
              "      <td>1</td>\n",
              "      <td>0.655891</td>\n",
              "      <td>3.685036</td>\n",
              "      <td>0.471831</td>\n",
              "      <td>01:08</td>\n",
              "    </tr>\n",
              "  </tbody>\n",
              "</table>"
            ],
            "text/plain": [
              "<IPython.core.display.HTML object>"
            ]
          },
          "metadata": {
            "tags": []
          }
        }
      ]
    },
    {
      "cell_type": "code",
      "metadata": {
        "id": "Duwf1Ih5VeDZ",
        "outputId": "aade695d-79ff-4cfd-fb2d-e7158b7d2648",
        "colab": {
          "base_uri": "https://localhost:8080/",
          "height": 80
        }
      },
      "source": [
        "learn.fit_one_cycle(1, slice(2e-3/100, 2e-3))"
      ],
      "execution_count": 43,
      "outputs": [
        {
          "output_type": "display_data",
          "data": {
            "text/html": [
              "<table border=\"1\" class=\"dataframe\">\n",
              "  <thead>\n",
              "    <tr style=\"text-align: left;\">\n",
              "      <th>epoch</th>\n",
              "      <th>train_loss</th>\n",
              "      <th>valid_loss</th>\n",
              "      <th>accuracy</th>\n",
              "      <th>time</th>\n",
              "    </tr>\n",
              "  </thead>\n",
              "  <tbody>\n",
              "    <tr>\n",
              "      <td>0</td>\n",
              "      <td>0.591588</td>\n",
              "      <td>3.698958</td>\n",
              "      <td>0.457746</td>\n",
              "      <td>01:06</td>\n",
              "    </tr>\n",
              "  </tbody>\n",
              "</table>"
            ],
            "text/plain": [
              "<IPython.core.display.HTML object>"
            ]
          },
          "metadata": {
            "tags": []
          }
        }
      ]
    },
    {
      "cell_type": "code",
      "metadata": {
        "id": "c65d-osfDUXm"
      },
      "source": [
        "# save the best model\n",
        "\n",
        "learn.save_encoder('TwADR_pubmed_fold7')"
      ],
      "execution_count": 44,
      "outputs": []
    },
    {
      "cell_type": "code",
      "metadata": {
        "id": "5h-A_GpAIYg8",
        "outputId": "7d6f1fe3-4b4f-4c55-9644-020bd8d279ca",
        "colab": {
          "base_uri": "https://localhost:8080/",
          "height": 80
        }
      },
      "source": [
        "learn.fit_one_cycle(1, slice(2e-3/100, 2e-3))"
      ],
      "execution_count": 45,
      "outputs": [
        {
          "output_type": "display_data",
          "data": {
            "text/html": [
              "<table border=\"1\" class=\"dataframe\">\n",
              "  <thead>\n",
              "    <tr style=\"text-align: left;\">\n",
              "      <th>epoch</th>\n",
              "      <th>train_loss</th>\n",
              "      <th>valid_loss</th>\n",
              "      <th>accuracy</th>\n",
              "      <th>time</th>\n",
              "    </tr>\n",
              "  </thead>\n",
              "  <tbody>\n",
              "    <tr>\n",
              "      <td>0</td>\n",
              "      <td>0.581096</td>\n",
              "      <td>3.775743</td>\n",
              "      <td>0.485915</td>\n",
              "      <td>01:07</td>\n",
              "    </tr>\n",
              "  </tbody>\n",
              "</table>"
            ],
            "text/plain": [
              "<IPython.core.display.HTML object>"
            ]
          },
          "metadata": {
            "tags": []
          }
        }
      ]
    },
    {
      "cell_type": "code",
      "metadata": {
        "id": "qc4poYxzIwca",
        "outputId": "881fe4f7-e6fe-491d-8a60-221d88482c8d",
        "colab": {
          "base_uri": "https://localhost:8080/",
          "height": 80
        }
      },
      "source": [
        "learn.fit_one_cycle(1, slice(2e-3/100, 2e-3))"
      ],
      "execution_count": 46,
      "outputs": [
        {
          "output_type": "display_data",
          "data": {
            "text/html": [
              "<table border=\"1\" class=\"dataframe\">\n",
              "  <thead>\n",
              "    <tr style=\"text-align: left;\">\n",
              "      <th>epoch</th>\n",
              "      <th>train_loss</th>\n",
              "      <th>valid_loss</th>\n",
              "      <th>accuracy</th>\n",
              "      <th>time</th>\n",
              "    </tr>\n",
              "  </thead>\n",
              "  <tbody>\n",
              "    <tr>\n",
              "      <td>0</td>\n",
              "      <td>0.609588</td>\n",
              "      <td>3.945838</td>\n",
              "      <td>0.436620</td>\n",
              "      <td>01:11</td>\n",
              "    </tr>\n",
              "  </tbody>\n",
              "</table>"
            ],
            "text/plain": [
              "<IPython.core.display.HTML object>"
            ]
          },
          "metadata": {
            "tags": []
          }
        }
      ]
    },
    {
      "cell_type": "code",
      "metadata": {
        "id": "66s4PxV1JVfo",
        "outputId": "55ade40b-6362-4ef4-f13e-ceaa6f196e17",
        "colab": {
          "base_uri": "https://localhost:8080/",
          "height": 80
        }
      },
      "source": [
        "learn.fit_one_cycle(1, slice(2e-3/100, 2e-3))"
      ],
      "execution_count": 47,
      "outputs": [
        {
          "output_type": "display_data",
          "data": {
            "text/html": [
              "<table border=\"1\" class=\"dataframe\">\n",
              "  <thead>\n",
              "    <tr style=\"text-align: left;\">\n",
              "      <th>epoch</th>\n",
              "      <th>train_loss</th>\n",
              "      <th>valid_loss</th>\n",
              "      <th>accuracy</th>\n",
              "      <th>time</th>\n",
              "    </tr>\n",
              "  </thead>\n",
              "  <tbody>\n",
              "    <tr>\n",
              "      <td>0</td>\n",
              "      <td>0.556426</td>\n",
              "      <td>3.811880</td>\n",
              "      <td>0.450704</td>\n",
              "      <td>01:04</td>\n",
              "    </tr>\n",
              "  </tbody>\n",
              "</table>"
            ],
            "text/plain": [
              "<IPython.core.display.HTML object>"
            ]
          },
          "metadata": {
            "tags": []
          }
        }
      ]
    },
    {
      "cell_type": "code",
      "metadata": {
        "id": "UIARKTw8W0Je",
        "outputId": "1140d2d9-a57b-488d-e3b3-e0d37707ffec",
        "colab": {
          "base_uri": "https://localhost:8080/",
          "height": 80
        }
      },
      "source": [
        "learn.fit_one_cycle(1, slice(2e-3/100, 2e-3))"
      ],
      "execution_count": 51,
      "outputs": [
        {
          "output_type": "display_data",
          "data": {
            "text/html": [
              "<table border=\"1\" class=\"dataframe\">\n",
              "  <thead>\n",
              "    <tr style=\"text-align: left;\">\n",
              "      <th>epoch</th>\n",
              "      <th>train_loss</th>\n",
              "      <th>valid_loss</th>\n",
              "      <th>accuracy</th>\n",
              "      <th>time</th>\n",
              "    </tr>\n",
              "  </thead>\n",
              "  <tbody>\n",
              "    <tr>\n",
              "      <td>0</td>\n",
              "      <td>0.576702</td>\n",
              "      <td>3.948550</td>\n",
              "      <td>0.443662</td>\n",
              "      <td>01:10</td>\n",
              "    </tr>\n",
              "  </tbody>\n",
              "</table>"
            ],
            "text/plain": [
              "<IPython.core.display.HTML object>"
            ]
          },
          "metadata": {
            "tags": []
          }
        }
      ]
    },
    {
      "cell_type": "markdown",
      "metadata": {
        "id": "rCwZU0E2RgM6"
      },
      "source": [
        "# Part three: Predict on the test dataset"
      ]
    },
    {
      "cell_type": "code",
      "metadata": {
        "id": "gDm72c-dOu7d",
        "outputId": "3cb40bd6-43e0-4028-a739-3e0c6fd24903",
        "colab": {
          "base_uri": "https://localhost:8080/",
          "height": 17
        }
      },
      "source": [
        "# use the test data for prediction\n",
        "\n",
        "preds, y = learn.get_preds(DatasetType.Test)"
      ],
      "execution_count": 52,
      "outputs": [
        {
          "output_type": "display_data",
          "data": {
            "text/html": [
              ""
            ],
            "text/plain": [
              "<IPython.core.display.HTML object>"
            ]
          },
          "metadata": {
            "tags": []
          }
        }
      ]
    },
    {
      "cell_type": "code",
      "metadata": {
        "id": "6tFSQcsWPvxn",
        "outputId": "2d3fe486-1859-4af1-8fd7-eeea4453c80c",
        "colab": {
          "base_uri": "https://localhost:8080/",
          "height": 105
        }
      },
      "source": [
        "predictions, *_ = learn.get_preds(DatasetType.Test)\n",
        "labels = np.argmax(predictions, 1)\n",
        "predict_list = labels.tolist()\n",
        "standard_list = test[0].tolist()\n",
        "\n",
        "print(len(predict_list))\n",
        "print(len(standard_list))\n",
        "\n",
        "print(predict_list)\n",
        "print(standard_list)"
      ],
      "execution_count": 53,
      "outputs": [
        {
          "output_type": "display_data",
          "data": {
            "text/html": [
              ""
            ],
            "text/plain": [
              "<IPython.core.display.HTML object>"
            ]
          },
          "metadata": {
            "tags": []
          }
        },
        {
          "output_type": "stream",
          "text": [
            "142\n",
            "142\n",
            "[2191, 978, 978, 978, 121, 1096, 154, 1877, 2048, 189, 1340, 649, 231, 231, 1936, 2147, 2147, 233, 1936, 233, 452, 857, 300, 1054, 393, 1136, 418, 426, 518, 231, 1099, 749, 1340, 1748, 749, 1819, 749, 1597, 1932, 1932, 1798, 824, 1507, 1884, 852, 2149, 2103, 978, 974, 974, 1062, 224, 978, 978, 1729, 1130, 426, 1815, 2149, 1099, 1136, 1175, 1265, 852, 978, 1099, 121, 1308, 1484, 1327, 1718, 1507, 1483, 974, 1432, 1806, 418, 1701, 2149, 1573, 1594, 1597, 1597, 1597, 1597, 1597, 1597, 1597, 1597, 1597, 1610, 1610, 265, 2149, 1727, 1787, 1526, 1767, 1073, 1718, 1718, 1099, 1718, 1718, 1718, 561, 1597, 1787, 1099, 1727, 2191, 1787, 1597, 418, 2191, 109, 1373, 1915, 1936, 1936, 1936, 2149, 749, 1529, 1942, 1942, 2113, 16, 1265, 2048, 1813, 1295, 418, 1769, 2123, 2119, 2123, 2147, 1877, 2191, 1099, 1877]\n",
            "[13, 94, 119, 119, 121, 143, 154, 189, 189, 189, 224, 230, 231, 231, 233, 233, 233, 233, 233, 233, 249, 265, 300, 359, 393, 396, 418, 426, 518, 596, 693, 712, 744, 749, 749, 749, 749, 791, 815, 815, 818, 824, 824, 825, 852, 852, 907, 947, 974, 974, 978, 982, 982, 982, 1005, 1019, 1054, 1073, 1073, 1099, 1136, 1175, 1265, 1295, 1295, 1295, 1296, 1308, 1319, 1327, 1340, 1341, 1417, 1432, 1432, 1508, 1526, 1526, 1545, 1573, 1594, 1597, 1597, 1597, 1597, 1597, 1597, 1597, 1597, 1597, 1610, 1610, 1647, 1669, 1669, 1676, 1711, 1718, 1718, 1718, 1727, 1727, 1767, 1767, 1767, 1769, 1769, 1787, 1787, 1787, 1787, 1787, 1798, 1815, 1815, 1822, 1833, 1915, 1936, 1936, 1936, 1936, 1942, 1942, 1942, 1942, 1948, 1962, 1973, 1974, 2023, 2032, 2063, 2097, 2103, 2119, 2123, 2147, 2147, 2191, 2191, 2194]\n"
          ],
          "name": "stdout"
        }
      ]
    },
    {
      "cell_type": "code",
      "metadata": {
        "id": "XIC4zufnMxtq",
        "outputId": "aa7320db-44a4-4047-aa26-a63e9f531457",
        "colab": {
          "base_uri": "https://localhost:8080/"
        }
      },
      "source": [
        "correct_num = 0\n",
        "\n",
        "for i in range(0, len(standard_list)):\n",
        "  if predict_list[i] == standard_list[i]:\n",
        "    correct_num = correct_num+1\n",
        "  else:\n",
        "    pass\n",
        "print(correct_num)\n",
        "\n",
        "predict_accuracy = correct_num/len(predict_list)\n",
        "print(predict_accuracy)"
      ],
      "execution_count": 54,
      "outputs": [
        {
          "output_type": "stream",
          "text": [
            "51\n",
            "0.3591549295774648\n"
          ],
          "name": "stdout"
        }
      ]
    },
    {
      "cell_type": "code",
      "metadata": {
        "id": "zlKMHp1CIaRJ"
      },
      "source": [
        ""
      ],
      "execution_count": 54,
      "outputs": []
    }
  ]
}