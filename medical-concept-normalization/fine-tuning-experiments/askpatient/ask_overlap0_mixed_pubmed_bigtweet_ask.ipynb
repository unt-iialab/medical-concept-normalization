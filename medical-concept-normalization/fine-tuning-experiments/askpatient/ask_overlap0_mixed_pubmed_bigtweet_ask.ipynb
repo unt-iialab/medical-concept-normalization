{
  "nbformat": 4,
  "nbformat_minor": 0,
  "metadata": {
    "accelerator": "TPU",
    "colab": {
      "name": "ask_overlap0_mixed_pubmed_bigtweet_ask.ipynb",
      "provenance": [],
      "collapsed_sections": [],
      "toc_visible": true,
      "include_colab_link": true
    },
    "kernelspec": {
      "display_name": "Python 3",
      "name": "python3"
    }
  },
  "cells": [
    {
      "cell_type": "markdown",
      "metadata": {
        "id": "view-in-github",
        "colab_type": "text"
      },
      "source": [
        "<a href=\"https://colab.research.google.com/github/unt-iialab/medical-concept-normalization/blob/master/medical-concept-normalization/fine-tuning-experiments/askpatient/ask_overlap0_mixed_pubmed_bigtweet_ask.ipynb\" target=\"_parent\"><img src=\"https://colab.research.google.com/assets/colab-badge.svg\" alt=\"Open In Colab\"/></a>"
      ]
    },
    {
      "cell_type": "code",
      "metadata": {
        "id": "adSi6i2-dWxy"
      },
      "source": [
        "import os"
      ],
      "execution_count": 1,
      "outputs": []
    },
    {
      "cell_type": "code",
      "metadata": {
        "id": "E7xYCRGPjd9B"
      },
      "source": [
        "base_dir = 'medical-concept-normalization'"
      ],
      "execution_count": 2,
      "outputs": []
    },
    {
      "cell_type": "code",
      "metadata": {
        "id": "yvIW3aUDjYNS"
      },
      "source": [
        "os.mkdir(base_dir)"
      ],
      "execution_count": 3,
      "outputs": []
    },
    {
      "cell_type": "code",
      "metadata": {
        "id": "es-FFLlfk6SG"
      },
      "source": [
        "os.mkdir('medical-concept-normalization/data_collection')"
      ],
      "execution_count": 4,
      "outputs": []
    },
    {
      "cell_type": "markdown",
      "metadata": {
        "id": "0R-Guw_VoJXm"
      },
      "source": [
        "**Install fastai and clone the fastai for text classification**\n",
        "\n"
      ]
    },
    {
      "cell_type": "code",
      "metadata": {
        "id": "QVZa3Z0PmHFH",
        "outputId": "2444469f-64cd-467d-fc22-3ee33b8606b9",
        "colab": {
          "base_uri": "https://localhost:8080/",
          "height": 68
        }
      },
      "source": [
        "!curl https://course-v3.fast.ai/setup/colab | bash"
      ],
      "execution_count": 5,
      "outputs": [
        {
          "output_type": "stream",
          "text": [
            "  % Total    % Received % Xferd  Average Speed   Time    Time     Time  Current\n",
            "                                 Dload  Upload   Total   Spent    Left  Speed\n",
            "\r  0     0    0     0    0     0      0      0 --:--:-- --:--:-- --:--:--     0curl: (6) Could not resolve host: course-v3.fast.ai\n"
          ],
          "name": "stdout"
        }
      ]
    },
    {
      "cell_type": "code",
      "metadata": {
        "id": "_FBFFEBrmJC0",
        "outputId": "2ad3bd47-b5bd-4517-d05f-65778154ecd3",
        "colab": {
          "base_uri": "https://localhost:8080/",
          "height": 85
        }
      },
      "source": [
        "!git clone https://github.com/wshuyi/demo-nlp-classification-fastai.git"
      ],
      "execution_count": 6,
      "outputs": [
        {
          "output_type": "stream",
          "text": [
            "Cloning into 'demo-nlp-classification-fastai'...\n",
            "remote: Enumerating objects: 9, done.\u001b[K\n",
            "remote: Total 9 (delta 0), reused 0 (delta 0), pack-reused 9\u001b[K\n",
            "Unpacking objects: 100% (9/9), done.\n"
          ],
          "name": "stdout"
        }
      ]
    },
    {
      "cell_type": "code",
      "metadata": {
        "id": "66zfh_JqmWMU"
      },
      "source": [
        "from fastai import *\n",
        "from fastai.text import *"
      ],
      "execution_count": 7,
      "outputs": []
    },
    {
      "cell_type": "markdown",
      "metadata": {
        "id": "mNIw-yALdBU9"
      },
      "source": [
        "**Set the path of the data collections**"
      ]
    },
    {
      "cell_type": "code",
      "metadata": {
        "id": "pzH7VMh4mqCL"
      },
      "source": [
        "path = Path('medical-concept-normalization/data_collection')"
      ],
      "execution_count": 8,
      "outputs": []
    },
    {
      "cell_type": "code",
      "metadata": {
        "id": "b8fjI6yyn4aS"
      },
      "source": [
        "# training data set\n",
        "\n",
        "train_csv = path/'AskAPatient.fold-0.train.csv'\n",
        "train = pd.read_csv(train_csv, header=None)\n",
        "#train.head()\n",
        "#train.info()"
      ],
      "execution_count": 10,
      "outputs": []
    },
    {
      "cell_type": "code",
      "metadata": {
        "id": "Hmlr-bAorfHd",
        "outputId": "2be19fbe-a816-4a5d-ecd7-54323c45f7c2",
        "colab": {
          "base_uri": "https://localhost:8080/",
          "height": 204
        }
      },
      "source": [
        "# validating data set\n",
        "\n",
        "valid = pd.read_csv(path/\"AskAPatient.fold-0.validation.csv\",header=None)\n",
        "valid.head()"
      ],
      "execution_count": 11,
      "outputs": [
        {
          "output_type": "execute_result",
          "data": {
            "text/html": [
              "<div>\n",
              "<style scoped>\n",
              "    .dataframe tbody tr th:only-of-type {\n",
              "        vertical-align: middle;\n",
              "    }\n",
              "\n",
              "    .dataframe tbody tr th {\n",
              "        vertical-align: top;\n",
              "    }\n",
              "\n",
              "    .dataframe thead th {\n",
              "        text-align: right;\n",
              "    }\n",
              "</style>\n",
              "<table border=\"1\" class=\"dataframe\">\n",
              "  <thead>\n",
              "    <tr style=\"text-align: right;\">\n",
              "      <th></th>\n",
              "      <th>0</th>\n",
              "      <th>1</th>\n",
              "    </tr>\n",
              "  </thead>\n",
              "  <tbody>\n",
              "    <tr>\n",
              "      <th>0</th>\n",
              "      <td>0</td>\n",
              "      <td>fear</td>\n",
              "    </tr>\n",
              "    <tr>\n",
              "      <th>1</th>\n",
              "      <td>2</td>\n",
              "      <td>heel pain</td>\n",
              "    </tr>\n",
              "    <tr>\n",
              "      <th>2</th>\n",
              "      <td>4</td>\n",
              "      <td>purple sploches around waist</td>\n",
              "    </tr>\n",
              "    <tr>\n",
              "      <th>3</th>\n",
              "      <td>7</td>\n",
              "      <td>goiter</td>\n",
              "    </tr>\n",
              "    <tr>\n",
              "      <th>4</th>\n",
              "      <td>8</td>\n",
              "      <td>ARTHRITIS</td>\n",
              "    </tr>\n",
              "  </tbody>\n",
              "</table>\n",
              "</div>"
            ],
            "text/plain": [
              "   0                             1\n",
              "0  0                          fear\n",
              "1  2                     heel pain\n",
              "2  4  purple sploches around waist\n",
              "3  7                        goiter\n",
              "4  8                     ARTHRITIS"
            ]
          },
          "metadata": {
            "tags": []
          },
          "execution_count": 11
        }
      ]
    },
    {
      "cell_type": "code",
      "metadata": {
        "id": "cOza9dfSsBud",
        "outputId": "20d8c3d2-2e30-435c-e001-3b3124d00686",
        "colab": {
          "base_uri": "https://localhost:8080/",
          "height": 204
        }
      },
      "source": [
        "# testing data set\n",
        "\n",
        "test = pd.read_csv(path/\"AskAPatient_overlap_0.csv\",header=None)\n",
        "test.head()"
      ],
      "execution_count": 12,
      "outputs": [
        {
          "output_type": "execute_result",
          "data": {
            "text/html": [
              "<div>\n",
              "<style scoped>\n",
              "    .dataframe tbody tr th:only-of-type {\n",
              "        vertical-align: middle;\n",
              "    }\n",
              "\n",
              "    .dataframe tbody tr th {\n",
              "        vertical-align: top;\n",
              "    }\n",
              "\n",
              "    .dataframe thead th {\n",
              "        text-align: right;\n",
              "    }\n",
              "</style>\n",
              "<table border=\"1\" class=\"dataframe\">\n",
              "  <thead>\n",
              "    <tr style=\"text-align: right;\">\n",
              "      <th></th>\n",
              "      <th>0</th>\n",
              "      <th>1</th>\n",
              "    </tr>\n",
              "  </thead>\n",
              "  <tbody>\n",
              "    <tr>\n",
              "      <th>0</th>\n",
              "      <td>0</td>\n",
              "      <td>'scared' feeling</td>\n",
              "    </tr>\n",
              "    <tr>\n",
              "      <th>1</th>\n",
              "      <td>3</td>\n",
              "      <td>cracking sensations in my joints</td>\n",
              "    </tr>\n",
              "    <tr>\n",
              "      <th>2</th>\n",
              "      <td>4</td>\n",
              "      <td>purple sploches around waist</td>\n",
              "    </tr>\n",
              "    <tr>\n",
              "      <th>3</th>\n",
              "      <td>5</td>\n",
              "      <td>fast and slow heartbeat</td>\n",
              "    </tr>\n",
              "    <tr>\n",
              "      <th>4</th>\n",
              "      <td>5</td>\n",
              "      <td>increased heart rate</td>\n",
              "    </tr>\n",
              "  </tbody>\n",
              "</table>\n",
              "</div>"
            ],
            "text/plain": [
              "   0                                 1\n",
              "0  0                  'scared' feeling\n",
              "1  3  cracking sensations in my joints\n",
              "2  4      purple sploches around waist\n",
              "3  5           fast and slow heartbeat\n",
              "4  5              increased heart rate"
            ]
          },
          "metadata": {
            "tags": []
          },
          "execution_count": 12
        }
      ]
    },
    {
      "cell_type": "code",
      "metadata": {
        "id": "Vo-YNvVYoaH6",
        "outputId": "683936ad-937c-4383-acd5-239219ebd08c",
        "colab": {
          "base_uri": "https://localhost:8080/",
          "height": 17
        }
      },
      "source": [
        "# Creating DataBunch for language modelling\n",
        "\n",
        "data_lm = TextLMDataBunch.from_csv(path, 'mixed_pubmed_bigtweet_askpatient.csv')"
      ],
      "execution_count": 13,
      "outputs": [
        {
          "output_type": "display_data",
          "data": {
            "text/html": [
              ""
            ],
            "text/plain": [
              "<IPython.core.display.HTML object>"
            ]
          },
          "metadata": {
            "tags": []
          }
        },
        {
          "output_type": "display_data",
          "data": {
            "text/html": [
              ""
            ],
            "text/plain": [
              "<IPython.core.display.HTML object>"
            ]
          },
          "metadata": {
            "tags": []
          }
        }
      ]
    },
    {
      "cell_type": "code",
      "metadata": {
        "id": "qcV-9kMnNLBf"
      },
      "source": [
        ""
      ],
      "execution_count": 13,
      "outputs": []
    },
    {
      "cell_type": "code",
      "metadata": {
        "id": "1ScY9afDsnvE"
      },
      "source": [
        "# Creating DataBunch for classification\n",
        "\n",
        "# data_clas = TextClasDataBunch.from_df(path, train, valid, test, vocab=data_lm.train_ds.vocab, bs=128)"
      ],
      "execution_count": 14,
      "outputs": []
    },
    {
      "cell_type": "code",
      "metadata": {
        "id": "gzrSdQcvey9p",
        "outputId": "2ee66044-69ce-41cb-c624-5502c6eaf139",
        "colab": {
          "base_uri": "https://localhost:8080/",
          "height": 17
        }
      },
      "source": [
        "data_clas = TextClasDataBunch.from_df(path, train, valid, vocab=data_lm.train_ds.vocab, bs=128)"
      ],
      "execution_count": 15,
      "outputs": [
        {
          "output_type": "display_data",
          "data": {
            "text/html": [
              ""
            ],
            "text/plain": [
              "<IPython.core.display.HTML object>"
            ]
          },
          "metadata": {
            "tags": []
          }
        },
        {
          "output_type": "display_data",
          "data": {
            "text/html": [
              ""
            ],
            "text/plain": [
              "<IPython.core.display.HTML object>"
            ]
          },
          "metadata": {
            "tags": []
          }
        }
      ]
    },
    {
      "cell_type": "code",
      "metadata": {
        "id": "MD27Tf0Ke3ou",
        "outputId": "9a8e198b-782f-446b-bb81-a4410259cd7e",
        "colab": {
          "base_uri": "https://localhost:8080/",
          "height": 17
        }
      },
      "source": [
        "data_clas.add_test(test,label=0)\n"
      ],
      "execution_count": 16,
      "outputs": [
        {
          "output_type": "display_data",
          "data": {
            "text/html": [
              ""
            ],
            "text/plain": [
              "<IPython.core.display.HTML object>"
            ]
          },
          "metadata": {
            "tags": []
          }
        }
      ]
    },
    {
      "cell_type": "code",
      "metadata": {
        "id": "-dpjnk_rstwk"
      },
      "source": [
        "data_lm.save()\n",
        "data_clas.save()"
      ],
      "execution_count": 17,
      "outputs": []
    },
    {
      "cell_type": "code",
      "metadata": {
        "id": "4OkiJa36sw5s",
        "outputId": "317bbafe-595c-4f0f-d74f-7f8de51eae61",
        "colab": {
          "base_uri": "https://localhost:8080/",
          "height": 1000
        }
      },
      "source": [
        "data_lm.train_ds.vocab.itos"
      ],
      "execution_count": 18,
      "outputs": [
        {
          "output_type": "execute_result",
          "data": {
            "text/plain": [
              "['xxunk',\n",
              " 'xxpad',\n",
              " 'xxbos',\n",
              " 'xxeos',\n",
              " 'xxfld',\n",
              " 'xxmaj',\n",
              " 'xxup',\n",
              " 'xxrep',\n",
              " 'xxwrep',\n",
              " 'pain',\n",
              " 'of',\n",
              " 'the',\n",
              " 'in',\n",
              " 'lipitor',\n",
              " 'and',\n",
              " 'to',\n",
              " 'a',\n",
              " 'muscle',\n",
              " 'with',\n",
              " 'for',\n",
              " 'was',\n",
              " 'diclofenac',\n",
              " 'were',\n",
              " 'severe',\n",
              " 'on',\n",
              " 'is',\n",
              " 'my',\n",
              " 'myalgia',\n",
              " 'lower',\n",
              " 'rt',\n",
              " 'fatigue',\n",
              " 'loss',\n",
              " 'by',\n",
              " 'cramp',\n",
              " 'limb',\n",
              " 'weakness',\n",
              " 'sodium',\n",
              " 'at',\n",
              " 'disease',\n",
              " 'that',\n",
              " 'stomach',\n",
              " 'or',\n",
              " 'back',\n",
              " 'as',\n",
              " '-',\n",
              " 'depression',\n",
              " 'patients',\n",
              " 'from',\n",
              " 'i',\n",
              " 'this',\n",
              " 'cramps',\n",
              " 'not',\n",
              " 'joint',\n",
              " 'upper',\n",
              " 'gas',\n",
              " 'drug',\n",
              " 'leg',\n",
              " 'memory',\n",
              " 'mg',\n",
              " 'you',\n",
              " 'all',\n",
              " 'pains',\n",
              " 'legs',\n",
              " 'headache',\n",
              " 'group',\n",
              " 'be',\n",
              " 'knee',\n",
              " 'shoulder',\n",
              " 'are',\n",
              " 'unable',\n",
              " 'study',\n",
              " 'arthralgia',\n",
              " 'treatment',\n",
              " 'gastrointestinal',\n",
              " 'neck',\n",
              " 'excessive',\n",
              " 'after',\n",
              " 'arthritis',\n",
              " 'aches',\n",
              " 'an',\n",
              " 'foot',\n",
              " 'it',\n",
              " 'hip',\n",
              " 'amp',\n",
              " 'have',\n",
              " 'voltaren',\n",
              " 'like',\n",
              " 'numbness',\n",
              " 'arthrotec',\n",
              " 'insomnia',\n",
              " 'increased',\n",
              " 'p',\n",
              " 'no',\n",
              " 'both',\n",
              " '/',\n",
              " 'release',\n",
              " 'bleeding',\n",
              " 'nausea',\n",
              " 'gluten',\n",
              " 'can',\n",
              " 'time',\n",
              " 'asthenia',\n",
              " 'walk',\n",
              " 'tired',\n",
              " 'swelling',\n",
              " 'heart',\n",
              " 'skin',\n",
              " 'abdominal',\n",
              " 'feeling',\n",
              " 'could',\n",
              " 'dizziness',\n",
              " 'than',\n",
              " 'problems',\n",
              " 'blood',\n",
              " 'walking',\n",
              " 'high',\n",
              " 'out',\n",
              " 'difficulty',\n",
              " 'up',\n",
              " 'muscles',\n",
              " 'free',\n",
              " 'we',\n",
              " 'more',\n",
              " 'hand',\n",
              " 'feet',\n",
              " 'effect',\n",
              " 'low',\n",
              " 'cholesterol',\n",
              " 'chest',\n",
              " 'hair',\n",
              " 'very',\n",
              " 'compared',\n",
              " 'zocor',\n",
              " 'new',\n",
              " 'extreme',\n",
              " 'stiffness',\n",
              " 'vision',\n",
              " 'inflammatory',\n",
              " 'ache',\n",
              " 'burning',\n",
              " 'backache',\n",
              " 'acid',\n",
              " 'groups',\n",
              " 'your',\n",
              " 'using',\n",
              " 'effects',\n",
              " 'weight',\n",
              " 'pins',\n",
              " 'needles',\n",
              " 'liver',\n",
              " 'sleep',\n",
              " 'between',\n",
              " 'right',\n",
              " 'diarrhoea',\n",
              " 'about',\n",
              " 'two',\n",
              " 'h',\n",
              " 'has',\n",
              " 'our',\n",
              " 'cramping',\n",
              " 'significantly',\n",
              " 'significant',\n",
              " 'amnesia',\n",
              " 'day',\n",
              " 'its',\n",
              " 'had',\n",
              " 'use',\n",
              " 'drugs',\n",
              " 'these',\n",
              " 'concentration',\n",
              " 'one',\n",
              " 'impairment',\n",
              " 'disability',\n",
              " 'but',\n",
              " 'potassium',\n",
              " 'c',\n",
              " 'which',\n",
              " 'calf',\n",
              " 'anti',\n",
              " 'left',\n",
              " 'used',\n",
              " 'tingling',\n",
              " 'short',\n",
              " 'term',\n",
              " 'anxiety',\n",
              " 'do',\n",
              " 'lack',\n",
              " 'symptom',\n",
              " 'dose',\n",
              " 'stiff',\n",
              " 's',\n",
              " 'constipation',\n",
              " 'nt',\n",
              " 'results',\n",
              " 'placebo',\n",
              " 'pressure',\n",
              " 'bloating',\n",
              " 'also',\n",
              " 'what',\n",
              " 'efficacy',\n",
              " 'body',\n",
              " 'there',\n",
              " 'glutenfree',\n",
              " 'when',\n",
              " 'reduced',\n",
              " 'over',\n",
              " 'may',\n",
              " 'treated',\n",
              " 'disorder',\n",
              " 'headaches',\n",
              " 'days',\n",
              " 'arm',\n",
              " 'acute',\n",
              " 'arms',\n",
              " 'been',\n",
              " 'hands',\n",
              " 'so',\n",
              " 'ankle',\n",
              " 'celiac',\n",
              " 'ds',\n",
              " 'poor',\n",
              " 'balance',\n",
              " 'neuropathy',\n",
              " 'm',\n",
              " 'w',\n",
              " 'blurred',\n",
              " 'get',\n",
              " 'showed',\n",
              " 'sore',\n",
              " 'visual',\n",
              " 'now',\n",
              " 'ml',\n",
              " 'well',\n",
              " 'topical',\n",
              " 'joints',\n",
              " 'food',\n",
              " 'tiredness',\n",
              " 'renal',\n",
              " 'symptoms',\n",
              " 'oral',\n",
              " 'serum',\n",
              " 'myocardial',\n",
              " 'administration',\n",
              " 'into',\n",
              " 'control',\n",
              " 'myositis',\n",
              " 'hurt',\n",
              " 'infarction',\n",
              " 'different',\n",
              " 'sensation',\n",
              " 'rash',\n",
              " 'products',\n",
              " 'during',\n",
              " 'non',\n",
              " 'studies',\n",
              " 'generalised',\n",
              " 'via',\n",
              " 'damage',\n",
              " 'their',\n",
              " 'atrophy',\n",
              " 'vaginal',\n",
              " 'rats',\n",
              " 'rate',\n",
              " 'energy',\n",
              " 'vertigo',\n",
              " 'test',\n",
              " 'painful',\n",
              " 'itching',\n",
              " 'pravachol',\n",
              " 'attack',\n",
              " 'who',\n",
              " 'clinical',\n",
              " 'mentally',\n",
              " 'swollen',\n",
              " 'post',\n",
              " 'diabetes',\n",
              " 'if',\n",
              " 'how',\n",
              " 'ubidecarenone',\n",
              " 'constant',\n",
              " 'respectively',\n",
              " 'first',\n",
              " 'atorvastatin',\n",
              " \"'s\",\n",
              " 'formulations',\n",
              " 'other',\n",
              " ')',\n",
              " 'type',\n",
              " 'induced',\n",
              " 'did',\n",
              " 'found',\n",
              " 'diet',\n",
              " ',',\n",
              " 'mean',\n",
              " 'effective',\n",
              " 'ph',\n",
              " 'decreased',\n",
              " 'gain',\n",
              " 'formulation',\n",
              " 'plasma',\n",
              " 'nsaids',\n",
              " 'upset',\n",
              " 'levels',\n",
              " 'gel',\n",
              " 'hours',\n",
              " 'dry',\n",
              " 'chronic',\n",
              " 'period',\n",
              " 'diarrhea',\n",
              " 'feel',\n",
              " 'raised',\n",
              " 'solution',\n",
              " 'tablets',\n",
              " 'three',\n",
              " 'shoulders',\n",
              " 'observed',\n",
              " 'bad',\n",
              " 'syndrome',\n",
              " 'illness',\n",
              " 'movement',\n",
              " 'urine',\n",
              " 'g',\n",
              " '(',\n",
              " 'n',\n",
              " 'method',\n",
              " 'only',\n",
              " 'those',\n",
              " 'dull',\n",
              " 'received',\n",
              " 'me',\n",
              " 'hazy',\n",
              " 'present',\n",
              " 'elevated',\n",
              " \"n't\",\n",
              " 'each',\n",
              " 'kidney',\n",
              " 'review',\n",
              " 'eye',\n",
              " 'weak',\n",
              " 'spasm',\n",
              " 'd',\n",
              " 'tip',\n",
              " 'crestor',\n",
              " 'elbow',\n",
              " 'influenza',\n",
              " 'less',\n",
              " 'increase',\n",
              " 'ibuprofen',\n",
              " 'most',\n",
              " 'kg',\n",
              " 'adverse',\n",
              " 'analgesic',\n",
              " 'tendonitis',\n",
              " 'level',\n",
              " 'week',\n",
              " 'side',\n",
              " 'mood',\n",
              " 'heavy',\n",
              " 'sleeping',\n",
              " 'discomfort',\n",
              " 'data',\n",
              " 'spasms',\n",
              " 'controlled',\n",
              " 'activity',\n",
              " 'analysis',\n",
              " 'just',\n",
              " 'tablet',\n",
              " 'migraine',\n",
              " 'exhaustion',\n",
              " 'some',\n",
              " 'function',\n",
              " 'libido',\n",
              " 'knees',\n",
              " 'toe',\n",
              " 'before',\n",
              " 'total',\n",
              " 'system',\n",
              " 'abnormal',\n",
              " 'concentrations',\n",
              " 'patient',\n",
              " 'inflammation',\n",
              " 'vitro',\n",
              " 'they',\n",
              " 'daily',\n",
              " 'following',\n",
              " 'dblclick',\n",
              " 'single',\n",
              " 'ca',\n",
              " 'reflux',\n",
              " 'myopathy',\n",
              " 'problem',\n",
              " 'pic',\n",
              " 'thigh',\n",
              " 'l',\n",
              " 'flatulence',\n",
              " 'sclerosis',\n",
              " 'randomized',\n",
              " 'irritable',\n",
              " 'injury',\n",
              " 'why',\n",
              " 'vomiting',\n",
              " 'years',\n",
              " 'however',\n",
              " 'flu',\n",
              " 'think',\n",
              " 'brain',\n",
              " 'evaluated',\n",
              " 'concentrate',\n",
              " 'b',\n",
              " 'throat',\n",
              " 'good',\n",
              " 'multiple',\n",
              " 'higher',\n",
              " 'similar',\n",
              " 'check',\n",
              " 'therapy',\n",
              " 'here',\n",
              " 'weeks',\n",
              " 'simvastatin',\n",
              " 'mild',\n",
              " 'osteoarthritis',\n",
              " 'eyes',\n",
              " 'model',\n",
              " 'cold',\n",
              " 'fibromyalgia',\n",
              " 'difference',\n",
              " 'bed',\n",
              " 'head',\n",
              " 'lightheadedness',\n",
              " 'will',\n",
              " 'water',\n",
              " 'obtained',\n",
              " 'surgery',\n",
              " 'nsaid',\n",
              " 'know',\n",
              " 'mellitus',\n",
              " 'postoperative',\n",
              " 'hips',\n",
              " 't',\n",
              " 'double',\n",
              " 'while',\n",
              " 'swings',\n",
              " 'disturbance',\n",
              " 'cell',\n",
              " 'based',\n",
              " 'any',\n",
              " 'appetite',\n",
              " 'healthy',\n",
              " 'changes',\n",
              " 'life',\n",
              " 'oil',\n",
              " 'peripheral',\n",
              " 'malaise',\n",
              " 'failure',\n",
              " 'dissolution',\n",
              " 'due',\n",
              " 'sweating',\n",
              " 'relief',\n",
              " 'off',\n",
              " 'menstrual',\n",
              " 'being',\n",
              " 'combination',\n",
              " 'confusion',\n",
              " 'eat',\n",
              " 'love',\n",
              " 'associated',\n",
              " 'help',\n",
              " 'cells',\n",
              " 'impaired',\n",
              " 'tremor',\n",
              " 'general',\n",
              " 'ezetimibe',\n",
              " 'studied',\n",
              " 'trial',\n",
              " 'administered',\n",
              " 'min',\n",
              " 'wind',\n",
              " 'should',\n",
              " 'doses',\n",
              " 'application',\n",
              " 'blind',\n",
              " 'under',\n",
              " 'soreness',\n",
              " 'rheumatoid',\n",
              " 'esters',\n",
              " 'stairs',\n",
              " 'order',\n",
              " 'times',\n",
              " 'events',\n",
              " 'prepared',\n",
              " 'finger',\n",
              " 'without',\n",
              " 'differences',\n",
              " 'paraesthesia',\n",
              " 'through',\n",
              " 'make',\n",
              " 'infection',\n",
              " 'four',\n",
              " 'gastric',\n",
              " 'aching',\n",
              " 'intolerance',\n",
              " 'great',\n",
              " 'calves',\n",
              " 'night',\n",
              " 'change',\n",
              " 'given',\n",
              " 'e',\n",
              " 'tinnitus',\n",
              " 'response',\n",
              " 'values',\n",
              " 'vs',\n",
              " 'ascorbic',\n",
              " 'swallowing',\n",
              " 'subjects',\n",
              " 'celebrex',\n",
              " 'toes',\n",
              " 'gfb',\n",
              " 'stress',\n",
              " 'conditions',\n",
              " 'nonsteroidal',\n",
              " 'need',\n",
              " 'area',\n",
              " 're',\n",
              " 'dyspnoea',\n",
              " 'does',\n",
              " 'coated',\n",
              " 'paracetamol',\n",
              " 'parkinson',\n",
              " 'performed',\n",
              " 'safety',\n",
              " 'sensitivity',\n",
              " 'hot',\n",
              " 'strength',\n",
              " 'reduction',\n",
              " 'better',\n",
              " 'vitamin',\n",
              " 'urinary',\n",
              " 'face',\n",
              " 'cough',\n",
              " 'us',\n",
              " 'always',\n",
              " 'thanks',\n",
              " 'such',\n",
              " 'delivery',\n",
              " 'x',\n",
              " 'lupus',\n",
              " 'reported',\n",
              " 'containing',\n",
              " 'intense',\n",
              " 'down',\n",
              " 'properties',\n",
              " 'rapid',\n",
              " 'lateral',\n",
              " 'motivation',\n",
              " 'v',\n",
              " 'tendon',\n",
              " 'related',\n",
              " 'parameters',\n",
              " 'going',\n",
              " 'posted',\n",
              " '2',\n",
              " 'steroidal',\n",
              " 'within',\n",
              " 'absorption',\n",
              " 'ankles',\n",
              " 'indigestion',\n",
              " 'investigated',\n",
              " '1',\n",
              " 'dark',\n",
              " 'phase',\n",
              " 'charleyhorse',\n",
              " 'heel',\n",
              " 'range',\n",
              " 'excruciating',\n",
              " 'measured',\n",
              " 'developed',\n",
              " 'palpitations',\n",
              " 'enzymes',\n",
              " 'taste',\n",
              " 'people',\n",
              " 'recipe',\n",
              " 'risk',\n",
              " 'samples',\n",
              " 'indomethacin',\n",
              " 'number',\n",
              " 'every',\n",
              " 'either',\n",
              " 'felt',\n",
              " 'mm',\n",
              " 'ratio',\n",
              " 'potential',\n",
              " 'assessed',\n",
              " 'major',\n",
              " 'nerve',\n",
              " 'depressed',\n",
              " 'restless',\n",
              " 'k',\n",
              " 'auc',\n",
              " 'injection',\n",
              " 'living',\n",
              " 'oa',\n",
              " 'fish',\n",
              " 'minutes',\n",
              " 'statistically',\n",
              " 'tissue',\n",
              " 'size',\n",
              " 'compare',\n",
              " 'twitch',\n",
              " 'getting',\n",
              " 'speech',\n",
              " 'tightness',\n",
              " 'scale',\n",
              " 'form',\n",
              " 'show',\n",
              " 'fingers',\n",
              " 'advil',\n",
              " 'menopause',\n",
              " 'then',\n",
              " 'evaluate',\n",
              " 'primary',\n",
              " 'co',\n",
              " 'heres',\n",
              " 'best',\n",
              " 'liquid',\n",
              " 'vivo',\n",
              " 'long',\n",
              " 'ng',\n",
              " 'year',\n",
              " '30',\n",
              " 'health',\n",
              " 'decrease',\n",
              " 'big',\n",
              " 'normal',\n",
              " 'wrist',\n",
              " 'clearly',\n",
              " 'archives',\n",
              " 'breathing',\n",
              " '3',\n",
              " 'included',\n",
              " 'gout',\n",
              " 'medication',\n",
              " 'ii',\n",
              " 'edema',\n",
              " 'available',\n",
              " 'tips',\n",
              " 'misoprostol',\n",
              " 'ability',\n",
              " 'provoked',\n",
              " 'reaction',\n",
              " 'active',\n",
              " 'limbs',\n",
              " 'many',\n",
              " 'much',\n",
              " 'scores',\n",
              " 'ulcer',\n",
              " 'bone',\n",
              " 'go',\n",
              " 'even',\n",
              " 'overall',\n",
              " 'creatinine',\n",
              " 'determined',\n",
              " 'greater',\n",
              " 'find',\n",
              " 'baseline',\n",
              " 'development',\n",
              " 'read',\n",
              " 'applied',\n",
              " 'terrible',\n",
              " 'bioavailability',\n",
              " 'moderate',\n",
              " 'light',\n",
              " 'therapeutic',\n",
              " 'dreams',\n",
              " 'exercise',\n",
              " 'revealed',\n",
              " 'aqueous',\n",
              " 'human',\n",
              " 'tolerability',\n",
              " 'because',\n",
              " 'colic',\n",
              " 'na',\n",
              " 'sustained',\n",
              " 'protein',\n",
              " 'fever',\n",
              " 'amyotrophic',\n",
              " 'end',\n",
              " 'matrix',\n",
              " 'action',\n",
              " 'heartburn',\n",
              " 'jennieo',\n",
              " 'trouble',\n",
              " 'addition',\n",
              " 'mouth',\n",
              " 'tract',\n",
              " 'months',\n",
              " 'fog',\n",
              " 'way',\n",
              " 'news',\n",
              " 'nasal',\n",
              " 'fenofibrate',\n",
              " '\\r \\n ',\n",
              " 'dependent',\n",
              " 'made',\n",
              " 'sinus',\n",
              " 'article',\n",
              " 'hypertension',\n",
              " 'demonstrated',\n",
              " 'drowsy',\n",
              " 'uterine',\n",
              " 'tested',\n",
              " 'cancer',\n",
              " '5',\n",
              " 'same',\n",
              " 'would',\n",
              " 'attacks',\n",
              " 'chicken',\n",
              " 'breath',\n",
              " 'polymer',\n",
              " 'aspirin',\n",
              " 'coq10',\n",
              " 'move',\n",
              " 'agent',\n",
              " 'bowel',\n",
              " 'cases',\n",
              " 'male',\n",
              " 'per',\n",
              " 'process',\n",
              " '10',\n",
              " 'where',\n",
              " 'further',\n",
              " 'thighs',\n",
              " 'various',\n",
              " 'mobility',\n",
              " 'o',\n",
              " 'cox',\n",
              " 'presence',\n",
              " 'today',\n",
              " 'tylenol',\n",
              " 'tolerance',\n",
              " 'mice',\n",
              " 'shown',\n",
              " 'month',\n",
              " 'twitching',\n",
              " 'treatments',\n",
              " 'important',\n",
              " 'divided',\n",
              " 'lost',\n",
              " 'still',\n",
              " 'inhibition',\n",
              " 'improvement',\n",
              " 'elbows',\n",
              " 'onset',\n",
              " 'sick',\n",
              " 'pulse',\n",
              " 'plantar',\n",
              " 'horses',\n",
              " 'although',\n",
              " 'ever',\n",
              " 'fast',\n",
              " 'six',\n",
              " 'take',\n",
              " 'including',\n",
              " 'initial',\n",
              " 'physical',\n",
              " 'inhibitor',\n",
              " 'finding',\n",
              " 'animals',\n",
              " '+',\n",
              " 'aleve',\n",
              " 'alone',\n",
              " 'tolerated',\n",
              " 'dosage',\n",
              " 'score',\n",
              " 'sharp',\n",
              " 'aim',\n",
              " 'mechanism',\n",
              " 'alpha',\n",
              " 'sensitive',\n",
              " 'follow',\n",
              " 'want',\n",
              " 'conducted',\n",
              " 'diagnosed',\n",
              " 'safe',\n",
              " 'tight',\n",
              " 'intensity',\n",
              " 'oedema',\n",
              " 'facial',\n",
              " 'formation',\n",
              " 'suggest',\n",
              " 'profile',\n",
              " 'caused',\n",
              " 'hardly',\n",
              " 'growth',\n",
              " 'content',\n",
              " 'trials',\n",
              " 'indicated',\n",
              " 'permeation',\n",
              " 'natural',\n",
              " 'around',\n",
              " 'extremity',\n",
              " 'cd',\n",
              " 'exposure',\n",
              " 'nervous',\n",
              " 'volunteers',\n",
              " 'intestinal',\n",
              " 'local',\n",
              " 'provide',\n",
              " 'according',\n",
              " 'complex',\n",
              " 'diagnosis',\n",
              " 'sugar',\n",
              " 'common',\n",
              " 'naproxen',\n",
              " 'loose',\n",
              " 'issues',\n",
              " 'tricor',\n",
              " 'age',\n",
              " 'case',\n",
              " 'hour',\n",
              " 'difficult',\n",
              " 'standard',\n",
              " 'degrees',\n",
              " 'r',\n",
              " 'malignant',\n",
              " 'generally',\n",
              " 'pharmaceutical',\n",
              " 'cerebrovascular',\n",
              " 'share',\n",
              " 'randomly',\n",
              " 'whereas',\n",
              " 'coronary',\n",
              " 'among',\n",
              " 'agents',\n",
              " 'liptor',\n",
              " 'accident',\n",
              " '\\r \\n \\r \\n ',\n",
              " 'f',\n",
              " 'lethargy',\n",
              " 'evaluation',\n",
              " 'profiles',\n",
              " 'eating',\n",
              " 'determine',\n",
              " 'part',\n",
              " 'fatigued',\n",
              " 'thoughts',\n",
              " 'awareness',\n",
              " 'product',\n",
              " 'moody',\n",
              " 'microspheres',\n",
              " 'top',\n",
              " 'vas',\n",
              " 'charley',\n",
              " 'things',\n",
              " 'care',\n",
              " 'global',\n",
              " 'drive',\n",
              " '4',\n",
              " 'surface',\n",
              " 'followed',\n",
              " 'irregular',\n",
              " 'please',\n",
              " 'morning',\n",
              " 'vehicle',\n",
              " 'rhabdomyolysis',\n",
              " 'improved',\n",
              " 'started',\n",
              " 'numb',\n",
              " 'deep',\n",
              " 'experimental',\n",
              " 'cm',\n",
              " 'systemic',\n",
              " 'panic',\n",
              " 'pizza',\n",
              " 'extremely',\n",
              " 'peak',\n",
              " 'linked',\n",
              " 'resulted',\n",
              " 'barely',\n",
              " 'fluid',\n",
              " 'region',\n",
              " 'corneal',\n",
              " 'patch',\n",
              " 'happy',\n",
              " 'ldl',\n",
              " 'once',\n",
              " 'blog',\n",
              " 'hard',\n",
              " 'versus',\n",
              " 'mental',\n",
              " 'condition',\n",
              " 'pre',\n",
              " 'research',\n",
              " 'rat',\n",
              " 'pharmacokinetic',\n",
              " 'calcium',\n",
              " 'congestion',\n",
              " 'cross',\n",
              " 'cause',\n",
              " 'ringing',\n",
              " 'old',\n",
              " 'periods',\n",
              " 'assessment',\n",
              " 'least',\n",
              " 'sex',\n",
              " 'stamina',\n",
              " 'lesions',\n",
              " 'hunger',\n",
              " 'complete',\n",
              " 'fasciitis',\n",
              " 'temperature',\n",
              " 'shortness',\n",
              " 'ethyl',\n",
              " 'against',\n",
              " 'neurontin',\n",
              " 'gi',\n",
              " 'ms',\n",
              " 'combined',\n",
              " 'sweats',\n",
              " 'slurred',\n",
              " 'might',\n",
              " 'hypersomnia',\n",
              " 'erythematosus',\n",
              " 'affected',\n",
              " 'achieved',\n",
              " 'secondary',\n",
              " 'participants',\n",
              " 'third',\n",
              " 'increasing',\n",
              " 'amount',\n",
              " 'preparation',\n",
              " 'rofecoxib',\n",
              " 'considered',\n",
              " 'frequent',\n",
              " 'too',\n",
              " 'cookbook',\n",
              " 'allergic',\n",
              " 'duration',\n",
              " 'models',\n",
              " 'density',\n",
              " 'th',\n",
              " 'u',\n",
              " 'enteric',\n",
              " 'looks',\n",
              " 'work',\n",
              " 'diabetic',\n",
              " 'relative',\n",
              " 'film',\n",
              " 'scalp',\n",
              " 'carried',\n",
              " 'ocular',\n",
              " 'synthesis',\n",
              " 'central',\n",
              " 'zetia',\n",
              " 'support',\n",
              " 'medical',\n",
              " 'efficiency',\n",
              " 'taking',\n",
              " 'able',\n",
              " 'evidence',\n",
              " 'stroke',\n",
              " 'reference',\n",
              " 'microg',\n",
              " 'technique',\n",
              " 'needed',\n",
              " 'little',\n",
              " 'got',\n",
              " 'achilles',\n",
              " 'codeine',\n",
              " 'tension',\n",
              " 'thus',\n",
              " 'plus',\n",
              " 'ear',\n",
              " 'analgesia',\n",
              " 'eczema',\n",
              " 'cmax',\n",
              " 'indicate',\n",
              " 'expression',\n",
              " 'site',\n",
              " 'flow',\n",
              " 'see',\n",
              " 'phosphate',\n",
              " 'cataract',\n",
              " 'interaction',\n",
              " 'investigate',\n",
              " 'flushing',\n",
              " 'recorded',\n",
              " 'pruritus',\n",
              " 'rectal',\n",
              " 'inhibitors',\n",
              " 'second',\n",
              " 'receiving',\n",
              " 'five',\n",
              " 'produced',\n",
              " ':',\n",
              " 'whether',\n",
              " 'respiratory',\n",
              " 'easy',\n",
              " 'de',\n",
              " 'maximum',\n",
              " 'comparison',\n",
              " ...]"
            ]
          },
          "metadata": {
            "tags": []
          },
          "execution_count": 18
        }
      ]
    },
    {
      "cell_type": "code",
      "metadata": {
        "id": "yPWr03mls3VT",
        "outputId": "27899a33-38d5-4526-f3c5-7da9e21a7f07",
        "colab": {
          "base_uri": "https://localhost:8080/",
          "height": 17
        }
      },
      "source": [
        "model_path = path/'models'\n",
        "model_path.mkdir(exist_ok=True)\n",
        "url = 'http://files.fast.ai/models/wt103_v1/'\n",
        "download_url(f'{url}lstm_wt103.pth', model_path/'lstm_wt103.pth')\n",
        "download_url(f'{url}itos_wt103.pkl', model_path/'itos_wt103.pkl')"
      ],
      "execution_count": 19,
      "outputs": [
        {
          "output_type": "display_data",
          "data": {
            "text/html": [
              ""
            ],
            "text/plain": [
              "<IPython.core.display.HTML object>"
            ]
          },
          "metadata": {
            "tags": []
          }
        },
        {
          "output_type": "display_data",
          "data": {
            "text/html": [
              ""
            ],
            "text/plain": [
              "<IPython.core.display.HTML object>"
            ]
          },
          "metadata": {
            "tags": []
          }
        }
      ]
    },
    {
      "cell_type": "code",
      "metadata": {
        "id": "JRzvWg8RtGGr",
        "outputId": "21eb6c27-6599-4780-f107-b65983018b05",
        "colab": {
          "base_uri": "https://localhost:8080/",
          "height": 34
        }
      },
      "source": [
        "learn = language_model_learner(data_lm, AWD_LSTM, drop_mult=0.5)"
      ],
      "execution_count": 20,
      "outputs": [
        {
          "output_type": "stream",
          "text": [
            "Downloading https://s3.amazonaws.com/fast-ai-modelzoo/wt103-fwd.tgz\n"
          ],
          "name": "stdout"
        },
        {
          "output_type": "display_data",
          "data": {
            "text/html": [
              ""
            ],
            "text/plain": [
              "<IPython.core.display.HTML object>"
            ]
          },
          "metadata": {
            "tags": []
          }
        }
      ]
    },
    {
      "cell_type": "code",
      "metadata": {
        "id": "xKK7GeBev7Xn",
        "outputId": "342d1d58-fe51-410b-ebde-34fbe51d8777",
        "colab": {
          "base_uri": "https://localhost:8080/",
          "height": 80
        }
      },
      "source": [
        "learn.fit_one_cycle(1, 1e-2)"
      ],
      "execution_count": 21,
      "outputs": [
        {
          "output_type": "display_data",
          "data": {
            "text/html": [
              "<table border=\"1\" class=\"dataframe\">\n",
              "  <thead>\n",
              "    <tr style=\"text-align: left;\">\n",
              "      <th>epoch</th>\n",
              "      <th>train_loss</th>\n",
              "      <th>valid_loss</th>\n",
              "      <th>accuracy</th>\n",
              "      <th>time</th>\n",
              "    </tr>\n",
              "  </thead>\n",
              "  <tbody>\n",
              "    <tr>\n",
              "      <td>0</td>\n",
              "      <td>3.844141</td>\n",
              "      <td>3.491211</td>\n",
              "      <td>0.440647</td>\n",
              "      <td>35:21</td>\n",
              "    </tr>\n",
              "  </tbody>\n",
              "</table>"
            ],
            "text/plain": [
              "<IPython.core.display.HTML object>"
            ]
          },
          "metadata": {
            "tags": []
          }
        }
      ]
    },
    {
      "cell_type": "code",
      "metadata": {
        "id": "iB7rHGQCwd12"
      },
      "source": [
        "# learn.fit_one_cycle(1, 1e-2)"
      ],
      "execution_count": 22,
      "outputs": []
    },
    {
      "cell_type": "code",
      "metadata": {
        "id": "_BnSuAeCwkBe"
      },
      "source": [
        "# learn.fit_one_cycle(1, 1e-3)"
      ],
      "execution_count": 23,
      "outputs": []
    },
    {
      "cell_type": "code",
      "metadata": {
        "id": "MuTm-RFjwrEX",
        "outputId": "d273ff67-d196-4c7f-9cfc-3f95fbf2e8f1",
        "colab": {
          "base_uri": "https://localhost:8080/",
          "height": 80
        }
      },
      "source": [
        "learn.fit_one_cycle(1, 1e-3)"
      ],
      "execution_count": 24,
      "outputs": [
        {
          "output_type": "display_data",
          "data": {
            "text/html": [
              "<table border=\"1\" class=\"dataframe\">\n",
              "  <thead>\n",
              "    <tr style=\"text-align: left;\">\n",
              "      <th>epoch</th>\n",
              "      <th>train_loss</th>\n",
              "      <th>valid_loss</th>\n",
              "      <th>accuracy</th>\n",
              "      <th>time</th>\n",
              "    </tr>\n",
              "  </thead>\n",
              "  <tbody>\n",
              "    <tr>\n",
              "      <td>0</td>\n",
              "      <td>3.519639</td>\n",
              "      <td>3.432925</td>\n",
              "      <td>0.446326</td>\n",
              "      <td>35:36</td>\n",
              "    </tr>\n",
              "  </tbody>\n",
              "</table>"
            ],
            "text/plain": [
              "<IPython.core.display.HTML object>"
            ]
          },
          "metadata": {
            "tags": []
          }
        }
      ]
    },
    {
      "cell_type": "code",
      "metadata": {
        "id": "1Er2ExO8wr7Y"
      },
      "source": [
        "learn.save_encoder('pubmed_bigtweet_askpatient_mixed_overlap0_first')"
      ],
      "execution_count": 25,
      "outputs": []
    },
    {
      "cell_type": "code",
      "metadata": {
        "id": "z52cZs2qwvad",
        "outputId": "ce1b3cb3-7ed0-4b36-ee75-ef46c8e92e43",
        "colab": {
          "base_uri": "https://localhost:8080/",
          "height": 80
        }
      },
      "source": [
        "learn = text_classifier_learner(data_clas,AWD_LSTM, drop_mult=0.5)\n",
        "learn.load_encoder('pubmed_bigtweet_askpatient_mixed_overlap0_first')\n",
        "learn.fit_one_cycle(1, 1e-2)"
      ],
      "execution_count": 26,
      "outputs": [
        {
          "output_type": "display_data",
          "data": {
            "text/html": [
              "<table border=\"1\" class=\"dataframe\">\n",
              "  <thead>\n",
              "    <tr style=\"text-align: left;\">\n",
              "      <th>epoch</th>\n",
              "      <th>train_loss</th>\n",
              "      <th>valid_loss</th>\n",
              "      <th>accuracy</th>\n",
              "      <th>time</th>\n",
              "    </tr>\n",
              "  </thead>\n",
              "  <tbody>\n",
              "    <tr>\n",
              "      <td>0</td>\n",
              "      <td>3.940258</td>\n",
              "      <td>3.500388</td>\n",
              "      <td>0.382249</td>\n",
              "      <td>01:16</td>\n",
              "    </tr>\n",
              "  </tbody>\n",
              "</table>"
            ],
            "text/plain": [
              "<IPython.core.display.HTML object>"
            ]
          },
          "metadata": {
            "tags": []
          }
        }
      ]
    },
    {
      "cell_type": "code",
      "metadata": {
        "id": "ImwQP1PJwzxd",
        "outputId": "3e78ed15-3515-451a-a310-deb61d5b5c6f",
        "colab": {
          "base_uri": "https://localhost:8080/",
          "height": 80
        }
      },
      "source": [
        "learn.freeze_to(-2)\n",
        "learn.fit_one_cycle(1, slice(5e-3/2., 5e-3))"
      ],
      "execution_count": 27,
      "outputs": [
        {
          "output_type": "display_data",
          "data": {
            "text/html": [
              "<table border=\"1\" class=\"dataframe\">\n",
              "  <thead>\n",
              "    <tr style=\"text-align: left;\">\n",
              "      <th>epoch</th>\n",
              "      <th>train_loss</th>\n",
              "      <th>valid_loss</th>\n",
              "      <th>accuracy</th>\n",
              "      <th>time</th>\n",
              "    </tr>\n",
              "  </thead>\n",
              "  <tbody>\n",
              "    <tr>\n",
              "      <td>0</td>\n",
              "      <td>2.994701</td>\n",
              "      <td>3.085384</td>\n",
              "      <td>0.453254</td>\n",
              "      <td>01:27</td>\n",
              "    </tr>\n",
              "  </tbody>\n",
              "</table>"
            ],
            "text/plain": [
              "<IPython.core.display.HTML object>"
            ]
          },
          "metadata": {
            "tags": []
          }
        }
      ]
    },
    {
      "cell_type": "code",
      "metadata": {
        "id": "Owff_BJXw53u",
        "outputId": "fccb9971-fa65-49e3-dacc-b700182ef180",
        "colab": {
          "base_uri": "https://localhost:8080/",
          "height": 80
        }
      },
      "source": [
        "learn.unfreeze()\n",
        "learn.fit_one_cycle(1, slice(2e-3/100, 2e-3))"
      ],
      "execution_count": 28,
      "outputs": [
        {
          "output_type": "display_data",
          "data": {
            "text/html": [
              "<table border=\"1\" class=\"dataframe\">\n",
              "  <thead>\n",
              "    <tr style=\"text-align: left;\">\n",
              "      <th>epoch</th>\n",
              "      <th>train_loss</th>\n",
              "      <th>valid_loss</th>\n",
              "      <th>accuracy</th>\n",
              "      <th>time</th>\n",
              "    </tr>\n",
              "  </thead>\n",
              "  <tbody>\n",
              "    <tr>\n",
              "      <td>0</td>\n",
              "      <td>2.246021</td>\n",
              "      <td>2.622950</td>\n",
              "      <td>0.576331</td>\n",
              "      <td>03:13</td>\n",
              "    </tr>\n",
              "  </tbody>\n",
              "</table>"
            ],
            "text/plain": [
              "<IPython.core.display.HTML object>"
            ]
          },
          "metadata": {
            "tags": []
          }
        }
      ]
    },
    {
      "cell_type": "code",
      "metadata": {
        "id": "lqAyu56V8Waq",
        "outputId": "b9069f32-f0df-472c-f7bd-ad4709c07598",
        "colab": {
          "base_uri": "https://localhost:8080/",
          "height": 111
        }
      },
      "source": [
        "learn.fit_one_cycle(2, slice(2e-3/100, 2e-3))"
      ],
      "execution_count": 29,
      "outputs": [
        {
          "output_type": "display_data",
          "data": {
            "text/html": [
              "<table border=\"1\" class=\"dataframe\">\n",
              "  <thead>\n",
              "    <tr style=\"text-align: left;\">\n",
              "      <th>epoch</th>\n",
              "      <th>train_loss</th>\n",
              "      <th>valid_loss</th>\n",
              "      <th>accuracy</th>\n",
              "      <th>time</th>\n",
              "    </tr>\n",
              "  </thead>\n",
              "  <tbody>\n",
              "    <tr>\n",
              "      <td>0</td>\n",
              "      <td>1.980936</td>\n",
              "      <td>2.265943</td>\n",
              "      <td>0.617751</td>\n",
              "      <td>03:35</td>\n",
              "    </tr>\n",
              "    <tr>\n",
              "      <td>1</td>\n",
              "      <td>1.708008</td>\n",
              "      <td>2.133132</td>\n",
              "      <td>0.644970</td>\n",
              "      <td>03:37</td>\n",
              "    </tr>\n",
              "  </tbody>\n",
              "</table>"
            ],
            "text/plain": [
              "<IPython.core.display.HTML object>"
            ]
          },
          "metadata": {
            "tags": []
          }
        }
      ]
    },
    {
      "cell_type": "code",
      "metadata": {
        "id": "a7I1xMRp8bUd",
        "outputId": "b0b2260d-df36-4fd7-eaf9-591fb0cc7840",
        "colab": {
          "base_uri": "https://localhost:8080/",
          "height": 111
        }
      },
      "source": [
        "learn.fit_one_cycle(2, slice(2e-3/100, 2e-3))"
      ],
      "execution_count": 30,
      "outputs": [
        {
          "output_type": "display_data",
          "data": {
            "text/html": [
              "<table border=\"1\" class=\"dataframe\">\n",
              "  <thead>\n",
              "    <tr style=\"text-align: left;\">\n",
              "      <th>epoch</th>\n",
              "      <th>train_loss</th>\n",
              "      <th>valid_loss</th>\n",
              "      <th>accuracy</th>\n",
              "      <th>time</th>\n",
              "    </tr>\n",
              "  </thead>\n",
              "  <tbody>\n",
              "    <tr>\n",
              "      <td>0</td>\n",
              "      <td>1.488198</td>\n",
              "      <td>1.911959</td>\n",
              "      <td>0.666272</td>\n",
              "      <td>03:22</td>\n",
              "    </tr>\n",
              "    <tr>\n",
              "      <td>1</td>\n",
              "      <td>1.281131</td>\n",
              "      <td>1.799770</td>\n",
              "      <td>0.682840</td>\n",
              "      <td>03:22</td>\n",
              "    </tr>\n",
              "  </tbody>\n",
              "</table>"
            ],
            "text/plain": [
              "<IPython.core.display.HTML object>"
            ]
          },
          "metadata": {
            "tags": []
          }
        }
      ]
    },
    {
      "cell_type": "code",
      "metadata": {
        "id": "UAnti-XmGVfO",
        "outputId": "bd0e382d-b0e4-4d67-e486-b39254273144",
        "colab": {
          "base_uri": "https://localhost:8080/",
          "height": 111
        }
      },
      "source": [
        "learn.fit_one_cycle(2, slice(2e-3/100, 2e-3))"
      ],
      "execution_count": 31,
      "outputs": [
        {
          "output_type": "display_data",
          "data": {
            "text/html": [
              "<table border=\"1\" class=\"dataframe\">\n",
              "  <thead>\n",
              "    <tr style=\"text-align: left;\">\n",
              "      <th>epoch</th>\n",
              "      <th>train_loss</th>\n",
              "      <th>valid_loss</th>\n",
              "      <th>accuracy</th>\n",
              "      <th>time</th>\n",
              "    </tr>\n",
              "  </thead>\n",
              "  <tbody>\n",
              "    <tr>\n",
              "      <td>0</td>\n",
              "      <td>1.281264</td>\n",
              "      <td>1.758745</td>\n",
              "      <td>0.681657</td>\n",
              "      <td>03:24</td>\n",
              "    </tr>\n",
              "    <tr>\n",
              "      <td>1</td>\n",
              "      <td>1.074082</td>\n",
              "      <td>1.641008</td>\n",
              "      <td>0.708876</td>\n",
              "      <td>03:33</td>\n",
              "    </tr>\n",
              "  </tbody>\n",
              "</table>"
            ],
            "text/plain": [
              "<IPython.core.display.HTML object>"
            ]
          },
          "metadata": {
            "tags": []
          }
        }
      ]
    },
    {
      "cell_type": "code",
      "metadata": {
        "id": "bIft7W25GwSu",
        "outputId": "517ef138-f9dd-46f7-b402-fd1a8913eb19",
        "colab": {
          "base_uri": "https://localhost:8080/",
          "height": 111
        }
      },
      "source": [
        "learn.fit_one_cycle(2, slice(2e-3/100, 2e-3))"
      ],
      "execution_count": 32,
      "outputs": [
        {
          "output_type": "display_data",
          "data": {
            "text/html": [
              "<table border=\"1\" class=\"dataframe\">\n",
              "  <thead>\n",
              "    <tr style=\"text-align: left;\">\n",
              "      <th>epoch</th>\n",
              "      <th>train_loss</th>\n",
              "      <th>valid_loss</th>\n",
              "      <th>accuracy</th>\n",
              "      <th>time</th>\n",
              "    </tr>\n",
              "  </thead>\n",
              "  <tbody>\n",
              "    <tr>\n",
              "      <td>0</td>\n",
              "      <td>0.950677</td>\n",
              "      <td>1.579004</td>\n",
              "      <td>0.720710</td>\n",
              "      <td>03:25</td>\n",
              "    </tr>\n",
              "    <tr>\n",
              "      <td>1</td>\n",
              "      <td>0.884919</td>\n",
              "      <td>1.493146</td>\n",
              "      <td>0.739645</td>\n",
              "      <td>03:29</td>\n",
              "    </tr>\n",
              "  </tbody>\n",
              "</table>"
            ],
            "text/plain": [
              "<IPython.core.display.HTML object>"
            ]
          },
          "metadata": {
            "tags": []
          }
        }
      ]
    },
    {
      "cell_type": "code",
      "metadata": {
        "id": "EEHszVRvGyFt",
        "outputId": "a9f6183f-6bbe-4260-ffee-924155a58862",
        "colab": {
          "base_uri": "https://localhost:8080/",
          "height": 111
        }
      },
      "source": [
        "learn.fit_one_cycle(2, slice(2e-3/100, 2e-3))"
      ],
      "execution_count": 33,
      "outputs": [
        {
          "output_type": "display_data",
          "data": {
            "text/html": [
              "<table border=\"1\" class=\"dataframe\">\n",
              "  <thead>\n",
              "    <tr style=\"text-align: left;\">\n",
              "      <th>epoch</th>\n",
              "      <th>train_loss</th>\n",
              "      <th>valid_loss</th>\n",
              "      <th>accuracy</th>\n",
              "      <th>time</th>\n",
              "    </tr>\n",
              "  </thead>\n",
              "  <tbody>\n",
              "    <tr>\n",
              "      <td>0</td>\n",
              "      <td>0.810173</td>\n",
              "      <td>1.484764</td>\n",
              "      <td>0.742012</td>\n",
              "      <td>03:36</td>\n",
              "    </tr>\n",
              "    <tr>\n",
              "      <td>1</td>\n",
              "      <td>0.690307</td>\n",
              "      <td>1.430711</td>\n",
              "      <td>0.755030</td>\n",
              "      <td>03:18</td>\n",
              "    </tr>\n",
              "  </tbody>\n",
              "</table>"
            ],
            "text/plain": [
              "<IPython.core.display.HTML object>"
            ]
          },
          "metadata": {
            "tags": []
          }
        }
      ]
    },
    {
      "cell_type": "code",
      "metadata": {
        "id": "XsHfrhCHG3dN",
        "outputId": "bb8099ce-fd75-40fd-fe38-d3a8083593ba",
        "colab": {
          "base_uri": "https://localhost:8080/",
          "height": 173
        }
      },
      "source": [
        "learn.fit_one_cycle(4, slice(2e-3/100, 2e-3))"
      ],
      "execution_count": 34,
      "outputs": [
        {
          "output_type": "display_data",
          "data": {
            "text/html": [
              "<table border=\"1\" class=\"dataframe\">\n",
              "  <thead>\n",
              "    <tr style=\"text-align: left;\">\n",
              "      <th>epoch</th>\n",
              "      <th>train_loss</th>\n",
              "      <th>valid_loss</th>\n",
              "      <th>accuracy</th>\n",
              "      <th>time</th>\n",
              "    </tr>\n",
              "  </thead>\n",
              "  <tbody>\n",
              "    <tr>\n",
              "      <td>0</td>\n",
              "      <td>0.665745</td>\n",
              "      <td>1.388863</td>\n",
              "      <td>0.757396</td>\n",
              "      <td>03:36</td>\n",
              "    </tr>\n",
              "    <tr>\n",
              "      <td>1</td>\n",
              "      <td>0.667520</td>\n",
              "      <td>1.369364</td>\n",
              "      <td>0.760947</td>\n",
              "      <td>03:15</td>\n",
              "    </tr>\n",
              "    <tr>\n",
              "      <td>2</td>\n",
              "      <td>0.562180</td>\n",
              "      <td>1.297689</td>\n",
              "      <td>0.781065</td>\n",
              "      <td>03:43</td>\n",
              "    </tr>\n",
              "    <tr>\n",
              "      <td>3</td>\n",
              "      <td>0.481150</td>\n",
              "      <td>1.291107</td>\n",
              "      <td>0.782248</td>\n",
              "      <td>03:15</td>\n",
              "    </tr>\n",
              "  </tbody>\n",
              "</table>"
            ],
            "text/plain": [
              "<IPython.core.display.HTML object>"
            ]
          },
          "metadata": {
            "tags": []
          }
        }
      ]
    },
    {
      "cell_type": "code",
      "metadata": {
        "id": "0Zsd99isb9EQ",
        "outputId": "4d9ac05c-9906-490c-f3bb-7e98a2772b35",
        "colab": {
          "base_uri": "https://localhost:8080/",
          "height": 173
        }
      },
      "source": [
        "learn.fit_one_cycle(4, slice(2e-3/100, 2e-3))"
      ],
      "execution_count": 35,
      "outputs": [
        {
          "output_type": "display_data",
          "data": {
            "text/html": [
              "<table border=\"1\" class=\"dataframe\">\n",
              "  <thead>\n",
              "    <tr style=\"text-align: left;\">\n",
              "      <th>epoch</th>\n",
              "      <th>train_loss</th>\n",
              "      <th>valid_loss</th>\n",
              "      <th>accuracy</th>\n",
              "      <th>time</th>\n",
              "    </tr>\n",
              "  </thead>\n",
              "  <tbody>\n",
              "    <tr>\n",
              "      <td>0</td>\n",
              "      <td>0.505376</td>\n",
              "      <td>1.339105</td>\n",
              "      <td>0.783432</td>\n",
              "      <td>03:15</td>\n",
              "    </tr>\n",
              "    <tr>\n",
              "      <td>1</td>\n",
              "      <td>0.506888</td>\n",
              "      <td>1.320771</td>\n",
              "      <td>0.772781</td>\n",
              "      <td>03:38</td>\n",
              "    </tr>\n",
              "    <tr>\n",
              "      <td>2</td>\n",
              "      <td>0.470805</td>\n",
              "      <td>1.250291</td>\n",
              "      <td>0.784615</td>\n",
              "      <td>03:11</td>\n",
              "    </tr>\n",
              "    <tr>\n",
              "      <td>3</td>\n",
              "      <td>0.359843</td>\n",
              "      <td>1.252890</td>\n",
              "      <td>0.789349</td>\n",
              "      <td>03:22</td>\n",
              "    </tr>\n",
              "  </tbody>\n",
              "</table>"
            ],
            "text/plain": [
              "<IPython.core.display.HTML object>"
            ]
          },
          "metadata": {
            "tags": []
          }
        }
      ]
    },
    {
      "cell_type": "code",
      "metadata": {
        "id": "atNWNKDFPbuI",
        "outputId": "f41070aa-ef4f-4a3a-c8e9-c83f0833b246",
        "colab": {
          "base_uri": "https://localhost:8080/",
          "height": 173
        }
      },
      "source": [
        "learn.fit_one_cycle(4, slice(2e-3/100, 2e-3))"
      ],
      "execution_count": 36,
      "outputs": [
        {
          "output_type": "display_data",
          "data": {
            "text/html": [
              "<table border=\"1\" class=\"dataframe\">\n",
              "  <thead>\n",
              "    <tr style=\"text-align: left;\">\n",
              "      <th>epoch</th>\n",
              "      <th>train_loss</th>\n",
              "      <th>valid_loss</th>\n",
              "      <th>accuracy</th>\n",
              "      <th>time</th>\n",
              "    </tr>\n",
              "  </thead>\n",
              "  <tbody>\n",
              "    <tr>\n",
              "      <td>0</td>\n",
              "      <td>0.381698</td>\n",
              "      <td>1.271582</td>\n",
              "      <td>0.792899</td>\n",
              "      <td>03:12</td>\n",
              "    </tr>\n",
              "    <tr>\n",
              "      <td>1</td>\n",
              "      <td>0.405435</td>\n",
              "      <td>1.271992</td>\n",
              "      <td>0.792899</td>\n",
              "      <td>03:34</td>\n",
              "    </tr>\n",
              "    <tr>\n",
              "      <td>2</td>\n",
              "      <td>0.362969</td>\n",
              "      <td>1.261559</td>\n",
              "      <td>0.796450</td>\n",
              "      <td>03:19</td>\n",
              "    </tr>\n",
              "    <tr>\n",
              "      <td>3</td>\n",
              "      <td>0.293535</td>\n",
              "      <td>1.235469</td>\n",
              "      <td>0.800000</td>\n",
              "      <td>03:43</td>\n",
              "    </tr>\n",
              "  </tbody>\n",
              "</table>"
            ],
            "text/plain": [
              "<IPython.core.display.HTML object>"
            ]
          },
          "metadata": {
            "tags": []
          }
        }
      ]
    },
    {
      "cell_type": "code",
      "metadata": {
        "id": "rKrBTZ0T1uVA",
        "outputId": "90d03347-0470-4435-e826-0c0177d4cc3a",
        "colab": {
          "base_uri": "https://localhost:8080/",
          "height": 173
        }
      },
      "source": [
        "learn.fit_one_cycle(4, slice(2e-3/100, 2e-3))"
      ],
      "execution_count": 37,
      "outputs": [
        {
          "output_type": "display_data",
          "data": {
            "text/html": [
              "<table border=\"1\" class=\"dataframe\">\n",
              "  <thead>\n",
              "    <tr style=\"text-align: left;\">\n",
              "      <th>epoch</th>\n",
              "      <th>train_loss</th>\n",
              "      <th>valid_loss</th>\n",
              "      <th>accuracy</th>\n",
              "      <th>time</th>\n",
              "    </tr>\n",
              "  </thead>\n",
              "  <tbody>\n",
              "    <tr>\n",
              "      <td>0</td>\n",
              "      <td>0.284610</td>\n",
              "      <td>1.277482</td>\n",
              "      <td>0.795266</td>\n",
              "      <td>03:25</td>\n",
              "    </tr>\n",
              "    <tr>\n",
              "      <td>1</td>\n",
              "      <td>0.350604</td>\n",
              "      <td>1.328014</td>\n",
              "      <td>0.801183</td>\n",
              "      <td>03:22</td>\n",
              "    </tr>\n",
              "    <tr>\n",
              "      <td>2</td>\n",
              "      <td>0.291348</td>\n",
              "      <td>1.248400</td>\n",
              "      <td>0.803550</td>\n",
              "      <td>03:26</td>\n",
              "    </tr>\n",
              "    <tr>\n",
              "      <td>3</td>\n",
              "      <td>0.271815</td>\n",
              "      <td>1.251564</td>\n",
              "      <td>0.804734</td>\n",
              "      <td>03:23</td>\n",
              "    </tr>\n",
              "  </tbody>\n",
              "</table>"
            ],
            "text/plain": [
              "<IPython.core.display.HTML object>"
            ]
          },
          "metadata": {
            "tags": []
          }
        }
      ]
    },
    {
      "cell_type": "code",
      "metadata": {
        "id": "ajQC6WDg1yA9",
        "outputId": "8704827e-68d0-4c9d-ac9b-51989630460f",
        "colab": {
          "base_uri": "https://localhost:8080/",
          "height": 173
        }
      },
      "source": [
        "learn.fit_one_cycle(4, slice(2e-3/100, 2e-3))"
      ],
      "execution_count": 38,
      "outputs": [
        {
          "output_type": "display_data",
          "data": {
            "text/html": [
              "<table border=\"1\" class=\"dataframe\">\n",
              "  <thead>\n",
              "    <tr style=\"text-align: left;\">\n",
              "      <th>epoch</th>\n",
              "      <th>train_loss</th>\n",
              "      <th>valid_loss</th>\n",
              "      <th>accuracy</th>\n",
              "      <th>time</th>\n",
              "    </tr>\n",
              "  </thead>\n",
              "  <tbody>\n",
              "    <tr>\n",
              "      <td>0</td>\n",
              "      <td>0.272724</td>\n",
              "      <td>1.259453</td>\n",
              "      <td>0.794083</td>\n",
              "      <td>03:28</td>\n",
              "    </tr>\n",
              "    <tr>\n",
              "      <td>1</td>\n",
              "      <td>0.313890</td>\n",
              "      <td>1.351903</td>\n",
              "      <td>0.803550</td>\n",
              "      <td>03:24</td>\n",
              "    </tr>\n",
              "    <tr>\n",
              "      <td>2</td>\n",
              "      <td>0.248327</td>\n",
              "      <td>1.327967</td>\n",
              "      <td>0.809467</td>\n",
              "      <td>03:32</td>\n",
              "    </tr>\n",
              "    <tr>\n",
              "      <td>3</td>\n",
              "      <td>0.218422</td>\n",
              "      <td>1.246281</td>\n",
              "      <td>0.805917</td>\n",
              "      <td>03:26</td>\n",
              "    </tr>\n",
              "  </tbody>\n",
              "</table>"
            ],
            "text/plain": [
              "<IPython.core.display.HTML object>"
            ]
          },
          "metadata": {
            "tags": []
          }
        }
      ]
    },
    {
      "cell_type": "code",
      "metadata": {
        "id": "KKydb0B4BKGk"
      },
      "source": [
        "# learn.fit_one_cycle(4, slice(2e-3/100, 2e-3))"
      ],
      "execution_count": 39,
      "outputs": []
    },
    {
      "cell_type": "code",
      "metadata": {
        "id": "T2APKtFKBpGY"
      },
      "source": [
        "# learn.fit_one_cycle(4, slice(2e-3/100, 2e-3))"
      ],
      "execution_count": 40,
      "outputs": []
    },
    {
      "cell_type": "code",
      "metadata": {
        "id": "qtTypA1sPgLU"
      },
      "source": [
        "# learn.fit_one_cycle(2, slice(2e-3/100, 2e-3))"
      ],
      "execution_count": 41,
      "outputs": []
    },
    {
      "cell_type": "code",
      "metadata": {
        "id": "b242kBsTUp9Y"
      },
      "source": [
        "# learn.fit_one_cycle(2, slice(2e-3/100, 2e-3))"
      ],
      "execution_count": 42,
      "outputs": []
    },
    {
      "cell_type": "code",
      "metadata": {
        "id": "Duwf1Ih5VeDZ",
        "outputId": "56e39683-f053-473b-c077-01cba8014d82",
        "colab": {
          "base_uri": "https://localhost:8080/",
          "height": 80
        }
      },
      "source": [
        "learn.fit_one_cycle(1, slice(2e-3/100, 2e-3))"
      ],
      "execution_count": 43,
      "outputs": [
        {
          "output_type": "display_data",
          "data": {
            "text/html": [
              "<table border=\"1\" class=\"dataframe\">\n",
              "  <thead>\n",
              "    <tr style=\"text-align: left;\">\n",
              "      <th>epoch</th>\n",
              "      <th>train_loss</th>\n",
              "      <th>valid_loss</th>\n",
              "      <th>accuracy</th>\n",
              "      <th>time</th>\n",
              "    </tr>\n",
              "  </thead>\n",
              "  <tbody>\n",
              "    <tr>\n",
              "      <td>0</td>\n",
              "      <td>0.223610</td>\n",
              "      <td>1.385077</td>\n",
              "      <td>0.795266</td>\n",
              "      <td>03:33</td>\n",
              "    </tr>\n",
              "  </tbody>\n",
              "</table>"
            ],
            "text/plain": [
              "<IPython.core.display.HTML object>"
            ]
          },
          "metadata": {
            "tags": []
          }
        }
      ]
    },
    {
      "cell_type": "code",
      "metadata": {
        "id": "4hVqA0vUDWTi",
        "outputId": "c99fa5c6-4502-4fb1-ffdf-61b74388e0fd",
        "colab": {
          "base_uri": "https://localhost:8080/",
          "height": 80
        }
      },
      "source": [
        "learn.fit_one_cycle(1, slice(2e-3/100, 2e-3))"
      ],
      "execution_count": 48,
      "outputs": [
        {
          "output_type": "display_data",
          "data": {
            "text/html": [
              "<table border=\"1\" class=\"dataframe\">\n",
              "  <thead>\n",
              "    <tr style=\"text-align: left;\">\n",
              "      <th>epoch</th>\n",
              "      <th>train_loss</th>\n",
              "      <th>valid_loss</th>\n",
              "      <th>accuracy</th>\n",
              "      <th>time</th>\n",
              "    </tr>\n",
              "  </thead>\n",
              "  <tbody>\n",
              "    <tr>\n",
              "      <td>0</td>\n",
              "      <td>0.252709</td>\n",
              "      <td>1.325123</td>\n",
              "      <td>0.796450</td>\n",
              "      <td>03:12</td>\n",
              "    </tr>\n",
              "  </tbody>\n",
              "</table>"
            ],
            "text/plain": [
              "<IPython.core.display.HTML object>"
            ]
          },
          "metadata": {
            "tags": []
          }
        }
      ]
    },
    {
      "cell_type": "code",
      "metadata": {
        "id": "c65d-osfDUXm"
      },
      "source": [
        "# save the best model\n",
        "\n",
        "learn.save_encoder('pubmed_bigtweet_askpatient_mixed_overlap0')"
      ],
      "execution_count": 49,
      "outputs": []
    },
    {
      "cell_type": "markdown",
      "metadata": {
        "id": "rCwZU0E2RgM6"
      },
      "source": [
        "# Part three: Predict on the test dataset"
      ]
    },
    {
      "cell_type": "code",
      "metadata": {
        "id": "gDm72c-dOu7d",
        "outputId": "5b79666f-111c-4673-ddd7-3f5be81af8c6",
        "colab": {
          "base_uri": "https://localhost:8080/",
          "height": 17
        }
      },
      "source": [
        "# use the test data for prediction\n",
        "\n",
        "preds, y = learn.get_preds(DatasetType.Test)"
      ],
      "execution_count": 50,
      "outputs": [
        {
          "output_type": "display_data",
          "data": {
            "text/html": [
              ""
            ],
            "text/plain": [
              "<IPython.core.display.HTML object>"
            ]
          },
          "metadata": {
            "tags": []
          }
        }
      ]
    },
    {
      "cell_type": "code",
      "metadata": {
        "id": "6tFSQcsWPvxn",
        "outputId": "2440622e-a243-404f-bc0a-3646209824f9",
        "colab": {
          "base_uri": "https://localhost:8080/",
          "height": 105
        }
      },
      "source": [
        "predictions, *_ = learn.get_preds(DatasetType.Test)\n",
        "labels = np.argmax(predictions, 1)\n",
        "predict_list = labels.tolist()\n",
        "standard_list = test[0].tolist()\n",
        "\n",
        "print(len(predict_list))\n",
        "print(len(standard_list))\n",
        "\n",
        "print(predict_list)\n",
        "print(standard_list)"
      ],
      "execution_count": 51,
      "outputs": [
        {
          "output_type": "display_data",
          "data": {
            "text/html": [
              ""
            ],
            "text/plain": [
              "<IPython.core.display.HTML object>"
            ]
          },
          "metadata": {
            "tags": []
          }
        },
        {
          "output_type": "stream",
          "text": [
            "610\n",
            "610\n",
            "[90, 126, 15, 334, 5, 933, 218, 760, 10, 685, 5, 808, 555, 27, 644, 595, 29, 76, 211, 30, 34, 289, 38, 623, 41, 35, 218, 218, 325, 475, 685, 623, 70, 71, 71, 76, 265, 717, 1026, 79, 146, 293, 289, 863, 80, 15, 89, 391, 90, 850, 94, 810, 337, 98, 708, 98, 757, 337, 100, 337, 100, 591, 100, 291, 236, 107, 108, 108, 209, 315, 313, 111, 511, 111, 111, 111, 293, 730, 937, 831, 218, 808, 125, 546, 187, 579, 129, 129, 289, 745, 607, 144, 591, 218, 430, 144, 633, 509, 178, 166, 405, 170, 607, 180, 127, 182, 182, 182, 182, 973, 189, 190, 190, 190, 190, 190, 190, 190, 197, 34, 34, 34, 34, 736, 764, 769, 210, 210, 210, 210, 159, 211, 896, 411, 471, 214, 348, 214, 1026, 973, 587, 44, 228, 79, 228, 228, 228, 544, 231, 234, 236, 337, 402, 973, 853, 772, 328, 392, 156, 973, 973, 973, 156, 765, 245, 245, 245, 245, 245, 245, 467, 246, 644, 516, 973, 618, 259, 289, 260, 156, 265, 419, 660, 402, 265, 704, 265, 265, 199, 86, 391, 504, 485, 281, 807, 283, 355, 805, 419, 696, 289, 289, 289, 289, 861, 289, 289, 111, 655, 289, 289, 289, 289, 289, 289, 289, 190, 265, 289, 289, 289, 289, 289, 289, 651, 364, 260, 291, 293, 570, 877, 887, 589, 301, 301, 214, 475, 304, 607, 309, 309, 310, 310, 310, 750, 318, 419, 532, 773, 265, 320, 705, 509, 970, 848, 359, 729, 430, 136, 333, 334, 334, 688, 337, 337, 789, 768, 343, 343, 129, 281, 364, 62, 672, 851, 214, 359, 359, 359, 315, 794, 360, 360, 364, 364, 513, 371, 387, 161, 444, 842, 820, 402, 402, 50, 408, 805, 415, 801, 419, 419, 471, 293, 419, 419, 973, 424, 426, 426, 427, 427, 427, 143, 427, 100, 479, 49, 591, 737, 736, 430, 434, 238, 435, 438, 441, 102, 444, 444, 444, 446, 453, 182, 462, 524, 473, 794, 475, 591, 158, 158, 158, 421, 479, 130, 532, 744, 694, 486, 326, 894, 326, 491, 437, 865, 491, 1026, 82, 746, 499, 555, 805, 506, 162, 471, 517, 133, 517, 509, 521, 182, 531, 234, 405, 475, 291, 546, 546, 730, 730, 88, 533, 491, 111, 190, 567, 571, 810, 301, 819, 688, 577, 578, 578, 579, 579, 579, 579, 584, 579, 289, 591, 590, 325, 591, 97, 97, 595, 328, 427, 491, 813, 172, 606, 37, 609, 830, 76, 742, 623, 623, 624, 633, 633, 633, 637, 245, 640, 623, 688, 688, 294, 651, 652, 652, 118, 810, 810, 660, 662, 491, 29, 664, 437, 378, 810, 678, 681, 810, 182, 182, 386, 579, 817, 49, 698, 699, 700, 190, 573, 696, 696, 293, 651, 190, 190, 37, 579, 709, 595, 707, 707, 106, 772, 715, 870, 723, 727, 730, 730, 521, 82, 610, 579, 703, 741, 289, 741, 541, 746, 98, 746, 749, 753, 325, 96, 607, 764, 337, 801, 770, 772, 774, 775, 49, 100, 775, 775, 775, 775, 647, 810, 359, 787, 887, 787, 591, 473, 798, 492, 90, 90, 805, 450, 808, 809, 180, 809, 809, 810, 810, 575, 810, 45, 815, 33, 377, 826, 607, 828, 829, 830, 831, 973, 840, 647, 840, 764, 846, 329, 847, 808, 49, 540, 677, 111, 130, 109, 289, 865, 865, 421, 867, 208, 874, 245, 245, 877, 877, 882, 172, 888, 293, 893, 415, 896, 896, 896, 471, 896, 898, 902, 896, 903, 905, 906, 466, 736, 156, 857, 940, 933, 933, 973, 331, 973, 1026, 973, 256, 315, 839, 1002, 1031, 1031, 273, 1026, 1028, 1029, 1029, 1026]\n",
            "[0, 3, 4, 5, 5, 7, 8, 9, 10, 14, 18, 19, 22, 27, 28, 28, 29, 30, 30, 30, 34, 37, 38, 40, 41, 47, 49, 49, 49, 49, 50, 61, 70, 71, 71, 76, 77, 77, 79, 79, 79, 79, 79, 79, 80, 82, 89, 89, 90, 93, 94, 94, 96, 98, 98, 98, 99, 100, 100, 100, 100, 100, 100, 101, 102, 107, 108, 108, 109, 110, 111, 111, 111, 111, 111, 111, 111, 111, 119, 120, 122, 125, 125, 125, 125, 129, 129, 129, 129, 132, 138, 144, 150, 150, 153, 157, 157, 163, 165, 166, 168, 170, 172, 180, 182, 182, 182, 182, 182, 187, 189, 190, 190, 190, 190, 190, 190, 190, 197, 197, 197, 197, 197, 204, 205, 205, 210, 210, 210, 210, 210, 211, 214, 214, 214, 214, 214, 214, 216, 218, 220, 228, 228, 228, 228, 228, 228, 229, 231, 234, 236, 236, 238, 238, 238, 238, 240, 240, 243, 243, 243, 243, 243, 245, 245, 245, 245, 245, 245, 245, 245, 246, 246, 249, 254, 254, 259, 260, 260, 261, 265, 265, 265, 265, 265, 265, 265, 265, 266, 268, 268, 270, 272, 281, 282, 283, 286, 288, 289, 289, 289, 289, 289, 289, 289, 289, 289, 289, 289, 289, 289, 289, 289, 289, 289, 289, 289, 289, 289, 289, 289, 289, 289, 289, 289, 289, 289, 291, 293, 294, 295, 299, 299, 301, 301, 301, 301, 304, 304, 309, 309, 309, 309, 309, 317, 318, 318, 318, 318, 318, 320, 320, 321, 323, 325, 325, 326, 327, 330, 333, 334, 334, 337, 337, 337, 337, 338, 343, 343, 343, 343, 345, 346, 347, 350, 351, 359, 359, 359, 359, 359, 360, 360, 364, 364, 365, 380, 387, 388, 392, 394, 402, 402, 402, 408, 408, 413, 415, 416, 419, 419, 419, 419, 419, 419, 424, 424, 426, 426, 427, 427, 427, 427, 427, 427, 427, 427, 427, 427, 428, 430, 433, 434, 435, 438, 441, 443, 444, 444, 444, 446, 453, 461, 462, 465, 473, 473, 475, 475, 476, 476, 476, 477, 479, 479, 481, 482, 483, 486, 487, 487, 488, 491, 491, 491, 491, 491, 491, 493, 499, 505, 505, 506, 509, 514, 517, 517, 517, 521, 521, 529, 531, 531, 542, 543, 543, 545, 546, 549, 549, 554, 561, 561, 565, 566, 567, 571, 575, 577, 577, 577, 577, 578, 578, 579, 579, 579, 579, 584, 586, 588, 591, 591, 591, 591, 594, 594, 595, 595, 596, 598, 598, 604, 606, 606, 609, 611, 614, 614, 617, 623, 624, 633, 633, 633, 637, 638, 640, 646, 648, 648, 648, 651, 652, 654, 659, 659, 659, 660, 662, 662, 663, 663, 663, 664, 669, 677, 681, 683, 686, 686, 686, 687, 689, 693, 698, 700, 700, 701, 701, 702, 702, 702, 702, 703, 703, 704, 704, 705, 705, 707, 707, 710, 715, 716, 718, 723, 727, 730, 731, 733, 738, 739, 741, 741, 741, 741, 741, 746, 746, 746, 746, 749, 753, 756, 761, 763, 765, 766, 767, 770, 771, 774, 775, 775, 775, 775, 775, 775, 775, 775, 782, 784, 787, 787, 788, 794, 794, 798, 800, 803, 804, 805, 807, 808, 809, 809, 809, 809, 810, 810, 810, 810, 813, 815, 816, 826, 826, 827, 828, 829, 830, 831, 834, 840, 840, 840, 840, 844, 846, 847, 847, 847, 847, 861, 864, 864, 864, 864, 865, 865, 865, 867, 871, 874, 876, 876, 877, 877, 882, 883, 888, 889, 893, 894, 896, 896, 896, 896, 896, 898, 902, 903, 903, 905, 906, 908, 917, 920, 926, 932, 933, 933, 949, 949, 955, 966, 969, 994, 994, 1000, 1002, 1011, 1019, 1020, 1026, 1028, 1029, 1029, 1030]\n"
          ],
          "name": "stdout"
        }
      ]
    },
    {
      "cell_type": "code",
      "metadata": {
        "id": "XIC4zufnMxtq",
        "outputId": "c6668b9f-e8d4-42e4-f2fa-1887bb712363",
        "colab": {
          "base_uri": "https://localhost:8080/",
          "height": 51
        }
      },
      "source": [
        "correct_num = 0\n",
        "\n",
        "for i in range(0, len(standard_list)):\n",
        "  if predict_list[i] == standard_list[i]:\n",
        "    correct_num = correct_num+1\n",
        "  else:\n",
        "    pass\n",
        "print(correct_num)\n",
        "\n",
        "predict_accuracy = correct_num/len(predict_list)\n",
        "print(predict_accuracy)"
      ],
      "execution_count": 52,
      "outputs": [
        {
          "output_type": "stream",
          "text": [
            "250\n",
            "0.4098360655737705\n"
          ],
          "name": "stdout"
        }
      ]
    },
    {
      "cell_type": "code",
      "metadata": {
        "id": "zlKMHp1CIaRJ"
      },
      "source": [
        ""
      ],
      "execution_count": 52,
      "outputs": []
    }
  ]
}