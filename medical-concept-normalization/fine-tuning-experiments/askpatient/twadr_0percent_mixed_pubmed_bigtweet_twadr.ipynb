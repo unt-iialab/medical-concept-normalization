{
  "nbformat": 4,
  "nbformat_minor": 0,
  "metadata": {
    "accelerator": "TPU",
    "colab": {
      "name": "twadr_0percent_mixed_pubmed_bigtweet_twadr.ipynb",
      "provenance": [],
      "collapsed_sections": [],
      "toc_visible": true,
      "include_colab_link": true
    },
    "kernelspec": {
      "display_name": "Python 3",
      "name": "python3"
    }
  },
  "cells": [
    {
      "cell_type": "markdown",
      "metadata": {
        "id": "view-in-github",
        "colab_type": "text"
      },
      "source": [
        "<a href=\"https://colab.research.google.com/github/unt-iialab/medical-concept-normalization/blob/master/medical-concept-normalization/fine-tuning-experiments/askpatient/twadr_0percent_mixed_pubmed_bigtweet_twadr.ipynb\" target=\"_parent\"><img src=\"https://colab.research.google.com/assets/colab-badge.svg\" alt=\"Open In Colab\"/></a>"
      ]
    },
    {
      "cell_type": "code",
      "metadata": {
        "id": "adSi6i2-dWxy"
      },
      "source": [
        "import os"
      ],
      "execution_count": 1,
      "outputs": []
    },
    {
      "cell_type": "code",
      "metadata": {
        "id": "E7xYCRGPjd9B"
      },
      "source": [
        "base_dir = 'medical-concept-normalization'"
      ],
      "execution_count": 2,
      "outputs": []
    },
    {
      "cell_type": "code",
      "metadata": {
        "id": "yvIW3aUDjYNS"
      },
      "source": [
        "os.mkdir(base_dir)"
      ],
      "execution_count": 3,
      "outputs": []
    },
    {
      "cell_type": "code",
      "metadata": {
        "id": "es-FFLlfk6SG"
      },
      "source": [
        "os.mkdir('medical-concept-normalization/data_collection')"
      ],
      "execution_count": 4,
      "outputs": []
    },
    {
      "cell_type": "markdown",
      "metadata": {
        "id": "0R-Guw_VoJXm"
      },
      "source": [
        "**Install fastai and clone the fastai for text classification**\n",
        "\n"
      ]
    },
    {
      "cell_type": "code",
      "metadata": {
        "id": "QVZa3Z0PmHFH",
        "outputId": "7c3c5429-1f63-4dbd-ab86-064745493de4",
        "colab": {
          "base_uri": "https://localhost:8080/",
          "height": 68
        }
      },
      "source": [
        "!curl https://course-v3.fast.ai/setup/colab | bash"
      ],
      "execution_count": 5,
      "outputs": [
        {
          "output_type": "stream",
          "text": [
            "  % Total    % Received % Xferd  Average Speed   Time    Time     Time  Current\n",
            "                                 Dload  Upload   Total   Spent    Left  Speed\n",
            "\r  0     0    0     0    0     0      0      0 --:--:-- --:--:-- --:--:--     0curl: (6) Could not resolve host: course-v3.fast.ai\n"
          ],
          "name": "stdout"
        }
      ]
    },
    {
      "cell_type": "code",
      "metadata": {
        "id": "_FBFFEBrmJC0",
        "outputId": "d3e77bf6-a2e3-4b8e-852b-457a4ed1208e",
        "colab": {
          "base_uri": "https://localhost:8080/",
          "height": 85
        }
      },
      "source": [
        "!git clone https://github.com/wshuyi/demo-nlp-classification-fastai.git"
      ],
      "execution_count": 6,
      "outputs": [
        {
          "output_type": "stream",
          "text": [
            "Cloning into 'demo-nlp-classification-fastai'...\n",
            "remote: Enumerating objects: 9, done.\u001b[K\n",
            "remote: Total 9 (delta 0), reused 0 (delta 0), pack-reused 9\u001b[K\n",
            "Unpacking objects: 100% (9/9), done.\n"
          ],
          "name": "stdout"
        }
      ]
    },
    {
      "cell_type": "code",
      "metadata": {
        "id": "66zfh_JqmWMU"
      },
      "source": [
        "from fastai import *\n",
        "from fastai.text import *"
      ],
      "execution_count": 7,
      "outputs": []
    },
    {
      "cell_type": "markdown",
      "metadata": {
        "id": "mNIw-yALdBU9"
      },
      "source": [
        "**Set the path of the data collections**"
      ]
    },
    {
      "cell_type": "code",
      "metadata": {
        "id": "pzH7VMh4mqCL"
      },
      "source": [
        "path = Path('medical-concept-normalization/data_collection')"
      ],
      "execution_count": 8,
      "outputs": []
    },
    {
      "cell_type": "code",
      "metadata": {
        "id": "b8fjI6yyn4aS"
      },
      "source": [
        "# training data set\n",
        "\n",
        "train_csv = path/'tward_training_folder_0.csv'\n",
        "train = pd.read_csv(train_csv, header=None)\n",
        "#train.head()\n",
        "#train.info()"
      ],
      "execution_count": 10,
      "outputs": []
    },
    {
      "cell_type": "code",
      "metadata": {
        "id": "Hmlr-bAorfHd",
        "outputId": "afd15f52-7ab5-4c71-e0eb-033eabbc41ff",
        "colab": {
          "base_uri": "https://localhost:8080/",
          "height": 204
        }
      },
      "source": [
        "# validating data set\n",
        "\n",
        "valid = pd.read_csv(path/\"tward_validation_folder_0.csv\",header=None)\n",
        "valid.head()\n"
      ],
      "execution_count": 11,
      "outputs": [
        {
          "output_type": "execute_result",
          "data": {
            "text/html": [
              "<div>\n",
              "<style scoped>\n",
              "    .dataframe tbody tr th:only-of-type {\n",
              "        vertical-align: middle;\n",
              "    }\n",
              "\n",
              "    .dataframe tbody tr th {\n",
              "        vertical-align: top;\n",
              "    }\n",
              "\n",
              "    .dataframe thead th {\n",
              "        text-align: right;\n",
              "    }\n",
              "</style>\n",
              "<table border=\"1\" class=\"dataframe\">\n",
              "  <thead>\n",
              "    <tr style=\"text-align: right;\">\n",
              "      <th></th>\n",
              "      <th>0</th>\n",
              "      <th>1</th>\n",
              "    </tr>\n",
              "  </thead>\n",
              "  <tbody>\n",
              "    <tr>\n",
              "      <th>0</th>\n",
              "      <td>1811</td>\n",
              "      <td>cant shut up for the whole day</td>\n",
              "    </tr>\n",
              "    <tr>\n",
              "      <th>1</th>\n",
              "      <td>903</td>\n",
              "      <td>angry</td>\n",
              "    </tr>\n",
              "    <tr>\n",
              "      <th>2</th>\n",
              "      <td>1576</td>\n",
              "      <td>got me to the ceiling</td>\n",
              "    </tr>\n",
              "    <tr>\n",
              "      <th>3</th>\n",
              "      <td>2201</td>\n",
              "      <td>anxiety</td>\n",
              "    </tr>\n",
              "    <tr>\n",
              "      <th>4</th>\n",
              "      <td>416</td>\n",
              "      <td>tingling</td>\n",
              "    </tr>\n",
              "  </tbody>\n",
              "</table>\n",
              "</div>"
            ],
            "text/plain": [
              "      0                               1\n",
              "0  1811  cant shut up for the whole day\n",
              "1   903                           angry\n",
              "2  1576           got me to the ceiling\n",
              "3  2201                         anxiety\n",
              "4   416                        tingling"
            ]
          },
          "metadata": {
            "tags": []
          },
          "execution_count": 11
        }
      ]
    },
    {
      "cell_type": "code",
      "metadata": {
        "id": "cOza9dfSsBud",
        "outputId": "52a9eba0-0b84-4fe0-a3e0-ca40e13d1a6a",
        "colab": {
          "base_uri": "https://localhost:8080/",
          "height": 204
        }
      },
      "source": [
        "# testing data set\n",
        "\n",
        "test = pd.read_csv(path/\"tward_testing_overlap_0.csv\",header=None)\n",
        "test.head()"
      ],
      "execution_count": 12,
      "outputs": [
        {
          "output_type": "execute_result",
          "data": {
            "text/html": [
              "<div>\n",
              "<style scoped>\n",
              "    .dataframe tbody tr th:only-of-type {\n",
              "        vertical-align: middle;\n",
              "    }\n",
              "\n",
              "    .dataframe tbody tr th {\n",
              "        vertical-align: top;\n",
              "    }\n",
              "\n",
              "    .dataframe thead th {\n",
              "        text-align: right;\n",
              "    }\n",
              "</style>\n",
              "<table border=\"1\" class=\"dataframe\">\n",
              "  <thead>\n",
              "    <tr style=\"text-align: right;\">\n",
              "      <th></th>\n",
              "      <th>0</th>\n",
              "      <th>1</th>\n",
              "    </tr>\n",
              "  </thead>\n",
              "  <tbody>\n",
              "    <tr>\n",
              "      <th>0</th>\n",
              "      <td>1576</td>\n",
              "      <td>still not tired</td>\n",
              "    </tr>\n",
              "    <tr>\n",
              "      <th>1</th>\n",
              "      <td>2099</td>\n",
              "      <td>can't remember the last time i slept</td>\n",
              "    </tr>\n",
              "    <tr>\n",
              "      <th>2</th>\n",
              "      <td>1698</td>\n",
              "      <td>i feel like</td>\n",
              "    </tr>\n",
              "    <tr>\n",
              "      <th>3</th>\n",
              "      <td>1811</td>\n",
              "      <td>wired</td>\n",
              "    </tr>\n",
              "    <tr>\n",
              "      <th>4</th>\n",
              "      <td>476</td>\n",
              "      <td>still procrastinating</td>\n",
              "    </tr>\n",
              "  </tbody>\n",
              "</table>\n",
              "</div>"
            ],
            "text/plain": [
              "      0                                     1\n",
              "0  1576                       still not tired\n",
              "1  2099  can't remember the last time i slept\n",
              "2  1698                           i feel like\n",
              "3  1811                                 wired\n",
              "4   476                 still procrastinating"
            ]
          },
          "metadata": {
            "tags": []
          },
          "execution_count": 12
        }
      ]
    },
    {
      "cell_type": "code",
      "metadata": {
        "id": "Vo-YNvVYoaH6",
        "outputId": "569fb1a6-1108-4d1d-cc58-360fa91f5f99",
        "colab": {
          "base_uri": "https://localhost:8080/",
          "height": 17
        }
      },
      "source": [
        "# Creating DataBunch for language modelling\n",
        "\n",
        "data_lm = TextLMDataBunch.from_csv(path, 'mixed_pubmed_bigtweet_twadr.csv')"
      ],
      "execution_count": 13,
      "outputs": [
        {
          "output_type": "display_data",
          "data": {
            "text/html": [
              ""
            ],
            "text/plain": [
              "<IPython.core.display.HTML object>"
            ]
          },
          "metadata": {
            "tags": []
          }
        },
        {
          "output_type": "display_data",
          "data": {
            "text/html": [
              ""
            ],
            "text/plain": [
              "<IPython.core.display.HTML object>"
            ]
          },
          "metadata": {
            "tags": []
          }
        }
      ]
    },
    {
      "cell_type": "code",
      "metadata": {
        "id": "qcV-9kMnNLBf"
      },
      "source": [
        ""
      ],
      "execution_count": 13,
      "outputs": []
    },
    {
      "cell_type": "code",
      "metadata": {
        "id": "1ScY9afDsnvE"
      },
      "source": [
        "# Creating DataBunch for classification\n",
        "\n",
        "# data_clas = TextClasDataBunch.from_df(path, train, valid, test, vocab=data_lm.train_ds.vocab, bs=128)"
      ],
      "execution_count": 14,
      "outputs": []
    },
    {
      "cell_type": "code",
      "metadata": {
        "id": "gzrSdQcvey9p",
        "outputId": "447a9772-5ff6-4f56-e54d-e99ecf167bf2",
        "colab": {
          "base_uri": "https://localhost:8080/",
          "height": 17
        }
      },
      "source": [
        "data_clas = TextClasDataBunch.from_df(path, train, valid, vocab=data_lm.train_ds.vocab, bs=128)"
      ],
      "execution_count": 15,
      "outputs": [
        {
          "output_type": "display_data",
          "data": {
            "text/html": [
              ""
            ],
            "text/plain": [
              "<IPython.core.display.HTML object>"
            ]
          },
          "metadata": {
            "tags": []
          }
        },
        {
          "output_type": "display_data",
          "data": {
            "text/html": [
              ""
            ],
            "text/plain": [
              "<IPython.core.display.HTML object>"
            ]
          },
          "metadata": {
            "tags": []
          }
        }
      ]
    },
    {
      "cell_type": "code",
      "metadata": {
        "id": "MD27Tf0Ke3ou",
        "outputId": "2ed64617-da30-41cc-9ae5-591fb7e8f63f",
        "colab": {
          "base_uri": "https://localhost:8080/",
          "height": 17
        }
      },
      "source": [
        "data_clas.add_test(test,label=0)\n"
      ],
      "execution_count": 16,
      "outputs": [
        {
          "output_type": "display_data",
          "data": {
            "text/html": [
              ""
            ],
            "text/plain": [
              "<IPython.core.display.HTML object>"
            ]
          },
          "metadata": {
            "tags": []
          }
        }
      ]
    },
    {
      "cell_type": "code",
      "metadata": {
        "id": "-dpjnk_rstwk"
      },
      "source": [
        "data_lm.save()\n",
        "data_clas.save()"
      ],
      "execution_count": 17,
      "outputs": []
    },
    {
      "cell_type": "code",
      "metadata": {
        "id": "4OkiJa36sw5s",
        "outputId": "80661a47-a833-4fa8-8150-a2ab68fddd63",
        "colab": {
          "base_uri": "https://localhost:8080/",
          "height": 1000
        }
      },
      "source": [
        "data_lm.train_ds.vocab.itos"
      ],
      "execution_count": 18,
      "outputs": [
        {
          "output_type": "execute_result",
          "data": {
            "text/plain": [
              "['xxunk',\n",
              " 'xxpad',\n",
              " 'xxbos',\n",
              " 'xxeos',\n",
              " 'xxfld',\n",
              " 'xxmaj',\n",
              " 'xxup',\n",
              " 'xxrep',\n",
              " 'xxwrep',\n",
              " 'the',\n",
              " 'of',\n",
              " 'and',\n",
              " 'in',\n",
              " 'to',\n",
              " 'a',\n",
              " 'for',\n",
              " 'with',\n",
              " 'was',\n",
              " 'diclofenac',\n",
              " 'were',\n",
              " 'on',\n",
              " 'is',\n",
              " 'pain',\n",
              " 'rt',\n",
              " 'sodium',\n",
              " 'by',\n",
              " 'drug',\n",
              " 'that',\n",
              " 'as',\n",
              " 'i',\n",
              " 'patients',\n",
              " 'at',\n",
              " 'or',\n",
              " 'from',\n",
              " 'this',\n",
              " 'you',\n",
              " 'disease',\n",
              " 'be',\n",
              " 'mg',\n",
              " 'increased',\n",
              " 'group',\n",
              " 'study',\n",
              " 'my',\n",
              " 'mood',\n",
              " 'are',\n",
              " 'not',\n",
              " 'treatment',\n",
              " 'an',\n",
              " 'it',\n",
              " 'after',\n",
              " 'me',\n",
              " 'amp',\n",
              " 'have',\n",
              " 'p',\n",
              " 'release',\n",
              " 'gluten',\n",
              " 'disorder',\n",
              " ',',\n",
              " 'all',\n",
              " 'effect',\n",
              " 'we',\n",
              " 'than',\n",
              " 'free',\n",
              " 'abnormal',\n",
              " 'withdrawal',\n",
              " 'new',\n",
              " 'decreased',\n",
              " 'symptoms',\n",
              " 'compared',\n",
              " 'your',\n",
              " 'more',\n",
              " 'no',\n",
              " 'anxiety',\n",
              " 'weight',\n",
              " 'day',\n",
              " 'out',\n",
              " 'using',\n",
              " 'effects',\n",
              " 'groups',\n",
              " 'two',\n",
              " 'up',\n",
              " 'both',\n",
              " 'h',\n",
              " 'inflammatory',\n",
              " 'time',\n",
              " 'drugs',\n",
              " 'our',\n",
              " 'about',\n",
              " 'its',\n",
              " 'significantly',\n",
              " 'blood',\n",
              " 'between',\n",
              " 'potassium',\n",
              " 'acute',\n",
              " 'these',\n",
              " 'had',\n",
              " 'anti',\n",
              " 'significant',\n",
              " 'used',\n",
              " 'skin',\n",
              " 'which',\n",
              " 'like',\n",
              " 'can',\n",
              " 'but',\n",
              " 'use',\n",
              " 'disorders',\n",
              " 'has',\n",
              " 'do',\n",
              " 'dose',\n",
              " 'voltaren',\n",
              " 'also',\n",
              " '(',\n",
              " ')',\n",
              " 'results',\n",
              " 'syndrome',\n",
              " 'placebo',\n",
              " 'behavior',\n",
              " 'glutenfree',\n",
              " 'one',\n",
              " '-',\n",
              " 'days',\n",
              " 'efficacy',\n",
              " 'what',\n",
              " 'sleeplessness',\n",
              " 'nt',\n",
              " 's',\n",
              " 'may',\n",
              " 'diseases',\n",
              " 'oral',\n",
              " 'concentration',\n",
              " 'feeling',\n",
              " 'there',\n",
              " 'celiac',\n",
              " 'treated',\n",
              " 'ds',\n",
              " 'm',\n",
              " 'when',\n",
              " 'got',\n",
              " 'now',\n",
              " 'been',\n",
              " 'ml',\n",
              " 'w',\n",
              " 'administration',\n",
              " 'different',\n",
              " 'topical',\n",
              " 'finding',\n",
              " 'test',\n",
              " 'showed',\n",
              " 'non',\n",
              " 'disturbance',\n",
              " 'high',\n",
              " 'insomnia',\n",
              " 'somnolence',\n",
              " 'food',\n",
              " 'their',\n",
              " 'products',\n",
              " 'studies',\n",
              " 'c',\n",
              " 'control',\n",
              " 'sleep',\n",
              " 'energy',\n",
              " 'so',\n",
              " 'acid',\n",
              " 'rats',\n",
              " 'other',\n",
              " 'how',\n",
              " 'hours',\n",
              " 'right',\n",
              " 'clinical',\n",
              " 'if',\n",
              " 'via',\n",
              " 'well',\n",
              " 'found',\n",
              " 'post',\n",
              " 'induced',\n",
              " 'into',\n",
              " 'did',\n",
              " 'could',\n",
              " 'mental',\n",
              " 'during',\n",
              " 'state',\n",
              " 'who',\n",
              " 'nsaids',\n",
              " 'body',\n",
              " 'diet',\n",
              " 'mean',\n",
              " 'rate',\n",
              " 'plasma',\n",
              " 'first',\n",
              " 'swelling',\n",
              " 'respectively',\n",
              " 'formulations',\n",
              " 'depression',\n",
              " 'effective',\n",
              " 'muscle',\n",
              " 'low',\n",
              " 'formulation',\n",
              " 'nausea',\n",
              " 'ph',\n",
              " 'appetite',\n",
              " 'gel',\n",
              " 'gain',\n",
              " 'observed',\n",
              " 'feel',\n",
              " 'method',\n",
              " 'over',\n",
              " 'g',\n",
              " 'tablets',\n",
              " 'review',\n",
              " 'tip',\n",
              " 'those',\n",
              " 'received',\n",
              " 'n',\n",
              " 'controlled',\n",
              " 'only',\n",
              " 'irritable',\n",
              " 'kg',\n",
              " 'reaction',\n",
              " 'three',\n",
              " 'cell',\n",
              " 'd',\n",
              " 'less',\n",
              " 'activity',\n",
              " 'solution',\n",
              " 'renal',\n",
              " 'heart',\n",
              " 'analgesic',\n",
              " 'week',\n",
              " 'excitability',\n",
              " 'each',\n",
              " 'conditions',\n",
              " 'adverse',\n",
              " 'atorvastatin',\n",
              " 'ceiling',\n",
              " 'levels',\n",
              " 'attention',\n",
              " 'analysis',\n",
              " 'serum',\n",
              " 'total',\n",
              " 'awake',\n",
              " 'vitro',\n",
              " 'gastrointestinal',\n",
              " 'hyperactive',\n",
              " 'single',\n",
              " 'lower',\n",
              " 'period',\n",
              " 'following',\n",
              " 'weeks',\n",
              " 'data',\n",
              " 'dizziness',\n",
              " 'daily',\n",
              " 'system',\n",
              " 'most',\n",
              " 'good',\n",
              " 'ca',\n",
              " 'feelings',\n",
              " 'dblclick',\n",
              " 'they',\n",
              " 'application',\n",
              " 'liver',\n",
              " 'level',\n",
              " 'panic',\n",
              " 'pic',\n",
              " 'however',\n",
              " 'concentrations',\n",
              " 'some',\n",
              " 'eye',\n",
              " 'evaluated',\n",
              " 'randomized',\n",
              " 'get',\n",
              " 'allergic',\n",
              " 'before',\n",
              " 'joint',\n",
              " 'patient',\n",
              " 'function',\n",
              " 'here',\n",
              " 't',\n",
              " 'drowsiness',\n",
              " 'model',\n",
              " 'why',\n",
              " 'need',\n",
              " 'l',\n",
              " 'depressed',\n",
              " 'know',\n",
              " 'site',\n",
              " 'headache',\n",
              " 'double',\n",
              " 'loss',\n",
              " 'surgery',\n",
              " 'inflammation',\n",
              " 'years',\n",
              " 'similar',\n",
              " 'rash',\n",
              " 'increase',\n",
              " 'obtained',\n",
              " 'difference',\n",
              " 'will',\n",
              " 'higher',\n",
              " 'any',\n",
              " 'b',\n",
              " 'postoperative',\n",
              " 'nsaid',\n",
              " 'reduced',\n",
              " 'cells',\n",
              " 'relief',\n",
              " 'under',\n",
              " 'vs',\n",
              " 'therapy',\n",
              " 'tablet',\n",
              " 'initial',\n",
              " 'associated',\n",
              " 'injection',\n",
              " 'swings',\n",
              " 'healthy',\n",
              " 'infection',\n",
              " 'changes',\n",
              " 'migraine',\n",
              " 'dissolution',\n",
              " 'edema',\n",
              " 'pressure',\n",
              " 'check',\n",
              " 'bone',\n",
              " 'help',\n",
              " 'present',\n",
              " 'based',\n",
              " 'injury',\n",
              " 'life',\n",
              " 'change',\n",
              " 'combination',\n",
              " 'make',\n",
              " 'chronic',\n",
              " 'administered',\n",
              " 'trial',\n",
              " 'response',\n",
              " 'studied',\n",
              " 'brain',\n",
              " 'just',\n",
              " 'water',\n",
              " 'order',\n",
              " 'arthritis',\n",
              " 'bipolar',\n",
              " 'love',\n",
              " 'wakefulness',\n",
              " 'should',\n",
              " 'better',\n",
              " 'subjects',\n",
              " 'reported',\n",
              " 'such',\n",
              " 'type',\n",
              " 'does',\n",
              " 'while',\n",
              " 'being',\n",
              " 'prepared',\n",
              " 'doses',\n",
              " 'eating',\n",
              " 'gastric',\n",
              " \"n't\",\n",
              " 'due',\n",
              " 'side',\n",
              " 'tissue',\n",
              " 'four',\n",
              " 'us',\n",
              " 'nonsteroidal',\n",
              " 'absorption',\n",
              " 'differences',\n",
              " 'abdominal',\n",
              " 'great',\n",
              " 'events',\n",
              " '#',\n",
              " 'eat',\n",
              " 'visual',\n",
              " 'x',\n",
              " 'given',\n",
              " 'minutes',\n",
              " 'blind',\n",
              " 'performed',\n",
              " 'cholesterol',\n",
              " 'min',\n",
              " 'corneal',\n",
              " 'gfb',\n",
              " 'within',\n",
              " 'values',\n",
              " 'investigated',\n",
              " 'thanks',\n",
              " 'respiratory',\n",
              " 'containing',\n",
              " '30',\n",
              " 'fatigue',\n",
              " 'safety',\n",
              " 'decrease',\n",
              " 're',\n",
              " 'very',\n",
              " 'either',\n",
              " 'developed',\n",
              " 'knee',\n",
              " 'breast',\n",
              " 'through',\n",
              " 'phase',\n",
              " 'potential',\n",
              " 'without',\n",
              " 'intolerance',\n",
              " 'attacks',\n",
              " 'attack',\n",
              " 'still',\n",
              " 'delivery',\n",
              " 'risk',\n",
              " 'assessed',\n",
              " 'recipe',\n",
              " 'makes',\n",
              " 'ratio',\n",
              " 'dreams',\n",
              " 'measured',\n",
              " 'parameters',\n",
              " 'v',\n",
              " 'properties',\n",
              " 'urine',\n",
              " 'posted',\n",
              " 'active',\n",
              " 'night',\n",
              " 'therapeutic',\n",
              " 'number',\n",
              " 'oa',\n",
              " 'action',\n",
              " 'auc',\n",
              " 'death',\n",
              " 'people',\n",
              " 'tremor',\n",
              " 'hemorrhage',\n",
              " 'same',\n",
              " 'steroidal',\n",
              " 'taste',\n",
              " 'stiffness',\n",
              " 'times',\n",
              " 'included',\n",
              " 'development',\n",
              " 'liquid',\n",
              " 'show',\n",
              " 'damage',\n",
              " 'living',\n",
              " 'samples',\n",
              " 'applied',\n",
              " 'indomethacin',\n",
              " 'ng',\n",
              " 'size',\n",
              " 'e',\n",
              " 'reduction',\n",
              " 'vivo',\n",
              " 'range',\n",
              " 'take',\n",
              " 'going',\n",
              " 'best',\n",
              " 'lipitor',\n",
              " 'determined',\n",
              " 'related',\n",
              " 'year',\n",
              " 'compare',\n",
              " 'tired',\n",
              " 'form',\n",
              " 'dry',\n",
              " 'k',\n",
              " 'dependent',\n",
              " 'medication',\n",
              " 'normal',\n",
              " 'many',\n",
              " 'evaluate',\n",
              " 'human',\n",
              " 'go',\n",
              " 'archives',\n",
              " 'primary',\n",
              " 'deficit',\n",
              " 'osteoarthritis',\n",
              " 'statistically',\n",
              " 'sustained',\n",
              " 'heres',\n",
              " 'health',\n",
              " 'jennieo',\n",
              " 'failure',\n",
              " 'local',\n",
              " 'then',\n",
              " 'scale',\n",
              " 'because',\n",
              " '2',\n",
              " 'cardiac',\n",
              " 'baseline',\n",
              " 'discomfort',\n",
              " 'tolerability',\n",
              " 'psychotic',\n",
              " 'long',\n",
              " 'available',\n",
              " 'eyes',\n",
              " 'severe',\n",
              " 'kidney',\n",
              " 'process',\n",
              " 'carcinoma',\n",
              " 'infections',\n",
              " 'read',\n",
              " 'sensitivity',\n",
              " 'back',\n",
              " 'tips',\n",
              " 'stomach',\n",
              " 'male',\n",
              " 'demonstrated',\n",
              " '1',\n",
              " 'addition',\n",
              " 'ii',\n",
              " 'think',\n",
              " '\\r \\n ',\n",
              " 'much',\n",
              " 'mm',\n",
              " 'today',\n",
              " 'pulmonary',\n",
              " 'ulcer',\n",
              " 'sleepy',\n",
              " 'rage',\n",
              " 'aim',\n",
              " 'article',\n",
              " 'alone',\n",
              " 'bioavailability',\n",
              " 'scores',\n",
              " 'mice',\n",
              " 'secondary',\n",
              " 'revealed',\n",
              " 'months',\n",
              " 'numbness',\n",
              " 'middle',\n",
              " 'coated',\n",
              " 'treatments',\n",
              " 'inhibitor',\n",
              " 'area',\n",
              " 'hour',\n",
              " 'temperature',\n",
              " 'per',\n",
              " 'greater',\n",
              " 'trials',\n",
              " 'down',\n",
              " 'cox',\n",
              " 'super',\n",
              " 'matrix',\n",
              " 'dermatitis',\n",
              " 'made',\n",
              " 'polymer',\n",
              " 'inhibition',\n",
              " 'improvement',\n",
              " 'follow',\n",
              " 'aqueous',\n",
              " 'want',\n",
              " 'even',\n",
              " 'big',\n",
              " 'news',\n",
              " 'safe',\n",
              " 'way',\n",
              " 'na',\n",
              " 'wide',\n",
              " 'vomiting',\n",
              " 'cerebral',\n",
              " 'randomly',\n",
              " 'tested',\n",
              " 'protein',\n",
              " 'dosage',\n",
              " 'volunteers',\n",
              " 'difficulty',\n",
              " 'aggravated',\n",
              " 'onset',\n",
              " 'chicken',\n",
              " 'age',\n",
              " 'sweating',\n",
              " 'ibuprofen',\n",
              " 'quality',\n",
              " 'formation',\n",
              " 'allergy',\n",
              " 'further',\n",
              " 'early',\n",
              " 'important',\n",
              " 'case',\n",
              " 'growth',\n",
              " 'daytime',\n",
              " 'pharmaceutical',\n",
              " 'cancer',\n",
              " 'score',\n",
              " 'tolerated',\n",
              " 'fluid',\n",
              " 'sensation',\n",
              " '10',\n",
              " 'hepatic',\n",
              " 'caused',\n",
              " 'f',\n",
              " 'followed',\n",
              " 'female',\n",
              " 'intensity',\n",
              " 'suggest',\n",
              " 'divided',\n",
              " 'rheumatoid',\n",
              " 'product',\n",
              " 'end',\n",
              " 'cases',\n",
              " 'pre',\n",
              " 'standard',\n",
              " 'provide',\n",
              " 'multiple',\n",
              " 'distress',\n",
              " 'term',\n",
              " 'ocular',\n",
              " 'profile',\n",
              " 'diagnosis',\n",
              " 'painful',\n",
              " 'animals',\n",
              " 'mechanism',\n",
              " 'prolonged',\n",
              " 'intestinal',\n",
              " 'common',\n",
              " 'rat',\n",
              " 'presence',\n",
              " 'permeation',\n",
              " 'systemic',\n",
              " 'cm',\n",
              " 'agent',\n",
              " 'indicated',\n",
              " 'find',\n",
              " 'pizza',\n",
              " 'shown',\n",
              " 'exposure',\n",
              " 'old',\n",
              " 'asleep',\n",
              " 'six',\n",
              " 'hypertension',\n",
              " 'among',\n",
              " 'facial',\n",
              " 'combined',\n",
              " 'resulted',\n",
              " 'various',\n",
              " 'complete',\n",
              " 'every',\n",
              " 'share',\n",
              " 'versus',\n",
              " 'elevated',\n",
              " 'part',\n",
              " 'calcium',\n",
              " 'anger',\n",
              " 'alcohol',\n",
              " 'zombie',\n",
              " 'diagnosed',\n",
              " 'profiles',\n",
              " 'complex',\n",
              " 'irritation',\n",
              " 'vehicle',\n",
              " 'peak',\n",
              " 'evaluation',\n",
              " 'experimental',\n",
              " \"'m\",\n",
              " 'would',\n",
              " 'work',\n",
              " '4',\n",
              " 'conducted',\n",
              " 'affect',\n",
              " 'determine',\n",
              " 'moderate',\n",
              " 'whereas',\n",
              " 'cause',\n",
              " 'anemia',\n",
              " 'dysfunction',\n",
              " 'dependence',\n",
              " 'although',\n",
              " 'too',\n",
              " 'research',\n",
              " 'result',\n",
              " 'content',\n",
              " 'urinary',\n",
              " 'glucose',\n",
              " 'relative',\n",
              " 'month',\n",
              " 'tooth',\n",
              " 'cd',\n",
              " 'including',\n",
              " 'tract',\n",
              " 'sleepiness',\n",
              " 'cross',\n",
              " '5',\n",
              " 'microspheres',\n",
              " 'cataract',\n",
              " 'rapid',\n",
              " 'agents',\n",
              " 'pharmacokinetic',\n",
              " 'o',\n",
              " 'happy',\n",
              " 'vascular',\n",
              " 'blog',\n",
              " 'mild',\n",
              " 'according',\n",
              " 'u',\n",
              " 'care',\n",
              " 'hallucinations',\n",
              " 'awareness',\n",
              " 'duration',\n",
              " 'disturbances',\n",
              " 'depressive',\n",
              " 'social',\n",
              " 'nightmares',\n",
              " 'diabetes',\n",
              " 'exhaustion',\n",
              " 'least',\n",
              " 'density',\n",
              " 'sensitive',\n",
              " 'r',\n",
              " 'possible',\n",
              " 'peripheral',\n",
              " 'participants',\n",
              " 'comparison',\n",
              " 'evidence',\n",
              " 'vas',\n",
              " 'medium',\n",
              " 'once',\n",
              " 'diabetic',\n",
              " 'enteric',\n",
              " 'improved',\n",
              " 'see',\n",
              " 'localised',\n",
              " 'analgesia',\n",
              " 'third',\n",
              " 'chest',\n",
              " 'physical',\n",
              " 'second',\n",
              " 'aspirin',\n",
              " 'suicidal',\n",
              " 'against',\n",
              " '\\r \\n \\r \\n ',\n",
              " 'major',\n",
              " 'solid',\n",
              " 'arrest',\n",
              " 'localized',\n",
              " 'oedema',\n",
              " 'necrosis',\n",
              " 'considered',\n",
              " 'where',\n",
              " 'please',\n",
              " 'assessment',\n",
              " 'five',\n",
              " 'pellets',\n",
              " 'ever',\n",
              " 'synthesis',\n",
              " 'overall',\n",
              " 'plus',\n",
              " 'produced',\n",
              " 'investigate',\n",
              " 'performance',\n",
              " 'tolerance',\n",
              " 'specific',\n",
              " 'beads',\n",
              " 'bad',\n",
              " 'production',\n",
              " 'achieved',\n",
              " 'last',\n",
              " 'cmax',\n",
              " 'reference',\n",
              " 'episode',\n",
              " 'simple',\n",
              " 'current',\n",
              " 'surface',\n",
              " 'examined',\n",
              " 'uterine',\n",
              " 'am',\n",
              " 'dizzy',\n",
              " 'misoprostol',\n",
              " 'interactions',\n",
              " 'amount',\n",
              " 'degree',\n",
              " 'medical',\n",
              " 'design',\n",
              " 'making',\n",
              " 'commercial',\n",
              " 'depersonalization',\n",
              " 'positive',\n",
              " 'flow',\n",
              " 'degrees',\n",
              " 'efficiency',\n",
              " 'linked',\n",
              " 'flare',\n",
              " 'foot',\n",
              " 'carried',\n",
              " 'global',\n",
              " 'creatinine',\n",
              " 'vision',\n",
              " 'tests',\n",
              " 'lesions',\n",
              " 'th',\n",
              " 'volume',\n",
              " 'diffusion',\n",
              " 'thus',\n",
              " 'patch',\n",
              " 'extent',\n",
              " 'fever',\n",
              " 'rofecoxib',\n",
              " 'influence',\n",
              " 'receiving',\n",
              " 'small',\n",
              " 'face',\n",
              " 'soup',\n",
              " 'cold',\n",
              " 'models',\n",
              " 'pruritus',\n",
              " 'erythema',\n",
              " 'value',\n",
              " 'delayed',\n",
              " 'paracetamol',\n",
              " 'ache',\n",
              " 'outcome',\n",
              " 'children',\n",
              " 'spasm',\n",
              " 'de',\n",
              " 'seizures',\n",
              " '2014',\n",
              " 'preparation',\n",
              " 'prostaglandin',\n",
              " 'responses',\n",
              " 'emotional',\n",
              " 'off',\n",
              " 'cookbook',\n",
              " 'impairment',\n",
              " 'bite',\n",
              " 'phosphate',\n",
              " 'interaction',\n",
              " 'membrane',\n",
              " 'nauseous',\n",
              " 'naproxen',\n",
              " 'injuries',\n",
              " 'ventricular',\n",
              " 'toxicity',\n",
              " 'easy',\n",
              " 'them',\n",
              " 'since',\n",
              " 'indicate',\n",
              " 'drops',\n",
              " 'nervous',\n",
              " 'gf',\n",
              " 'incidence',\n",
              " 'stress',\n",
              " 'recorded',\n",
              " 'rates',\n",
              " 'upper',\n",
              " 'findings',\n",
              " 'vivid',\n",
              " 'microg',\n",
              " 'technique',\n",
              " 'memory',\n",
              " 'might',\n",
              " 'story',\n",
              " 'cardiovascular',\n",
              " 'solubility',\n",
              " 'women',\n",
              " 'others',\n",
              " 'taking',\n",
              " 'inhibited',\n",
              " 'compulsive',\n",
              " 'wheat',\n",
              " 'superior',\n",
              " 'expression',\n",
              " 'getting',\n",
              " 'dr',\n",
              " 'next',\n",
              " 'methods',\n",
              " 'bread',\n",
              " 'needed',\n",
              " 'dic',\n",
              " 'provided',\n",
              " 'hurt',\n",
              " 'friends',\n",
              " 'central',\n",
              " 'inhibitors',\n",
              " 'medications',\n",
              " 'additional',\n",
              " 'assess',\n",
              " 'determination',\n",
              " 'asthma',\n",
              " 'few',\n",
              " 'saline',\n",
              " 'crazy',\n",
              " 'try',\n",
              " 'short',\n",
              " 'neoplasm',\n",
              " 'intramuscular',\n",
              " 'maximum',\n",
              " 'delicious',\n",
              " 'cream',\n",
              " 'characteristics',\n",
              " 'hip',\n",
              " 'looking',\n",
              " 'whether',\n",
              " 'whole',\n",
              " 'novel',\n",
              " 'foods',\n",
              " 'media',\n",
              " 'block',\n",
              " 'general',\n",
              " 'thinking',\n",
              " 'adderall',\n",
              " 'ci',\n",
              " 'open',\n",
              " 'affected',\n",
              " 'highly',\n",
              " 'hungry',\n",
              " 'co',\n",
              " 'capsules',\n",
              " 'shoulder',\n",
              " 'loaded',\n",
              " 'count',\n",
              " 'comparable',\n",
              " 'forms',\n",
              " 'detection',\n",
              " 'fracture',\n",
              " 'lung',\n",
              " 'always',\n",
              " 'released',\n",
              " 'partial',\n",
              " 'buffer',\n",
              " 'hunger',\n",
              " 'rabbits',\n",
              " 'issues',\n",
              " 'ldl',\n",
              " 'lesion',\n",
              " 'pge',\n",
              " 'transdermal',\n",
              " 'activities',\n",
              " 'preparations',\n",
              " 'serious',\n",
              " 'autographed',\n",
              " 'abuse',\n",
              " 'index',\n",
              " 'increasing',\n",
              " 'lipid',\n",
              " 'really',\n",
              " 'withdrawals',\n",
              " 'hand',\n",
              " 'tissues',\n",
              " 'genital',\n",
              " 'alpha',\n",
              " 'characterized',\n",
              " 'modified',\n",
              " 'examination',\n",
              " 'tongue',\n",
              " 'sexual',\n",
              " 'giveaway',\n",
              " 'fractures',\n",
              " 'twice',\n",
              " 'extraction',\n",
              " 'pneumonia',\n",
              " 'known',\n",
              " 'alternative',\n",
              " 'own',\n",
              " 'exhibited',\n",
              " 'gi',\n",
              " 'antiinflammatory',\n",
              " 'solutions',\n",
              " 'ketorolac',\n",
              " 'therefore',\n",
              " 'enzyme',\n",
              " 'drowsy',\n",
              " 'terms',\n",
              " 'information',\n",
              " 'max',\n",
              " 'microm',\n",
              " 'nm',\n",
              " 'nasal',\n",
              " 'lack',\n",
              " 'hplc',\n",
              " 'factor',\n",
              " 'treat',\n",
              " 'arterial',\n",
              " 'mass',\n",
              " 'bleeding',\n",
              " 'able',\n",
              " 'sick',\n",
              " 'chitosan',\n",
              " 'oil',\n",
              " 'steroid',\n",
              " 'candidiasis',\n",
              " 'artery',\n",
              " 'clinically',\n",
              " 'beta',\n",
              " 'aged',\n",
              " 'fear',\n",
              " 'thank',\n",
              " 'learn',\n",
              " 'recipes',\n",
              " 'top',\n",
              " 'event',\n",
              " 'management',\n",
              " 'collected',\n",
              " 'list',\n",
              " 'dpsgc',\n",
              " 'average',\n",
              " 'point',\n",
              " 'sneezing',\n",
              " 'morning',\n",
              " 'lipoprotein',\n",
              " 'systems',\n",
              " 'required',\n",
              " 'kinetics',\n",
              " 'paranoid',\n",
              " 'cramps',\n",
              " 'useful',\n",
              " 'percentage',\n",
              " ...]"
            ]
          },
          "metadata": {
            "tags": []
          },
          "execution_count": 18
        }
      ]
    },
    {
      "cell_type": "code",
      "metadata": {
        "id": "yPWr03mls3VT",
        "outputId": "0d3df884-dc34-45ed-c9e4-5bc788a42495",
        "colab": {
          "base_uri": "https://localhost:8080/",
          "height": 17
        }
      },
      "source": [
        "model_path = path/'models'\n",
        "model_path.mkdir(exist_ok=True)\n",
        "url = 'http://files.fast.ai/models/wt103_v1/'\n",
        "download_url(f'{url}lstm_wt103.pth', model_path/'lstm_wt103.pth')\n",
        "download_url(f'{url}itos_wt103.pkl', model_path/'itos_wt103.pkl')"
      ],
      "execution_count": 19,
      "outputs": [
        {
          "output_type": "display_data",
          "data": {
            "text/html": [
              ""
            ],
            "text/plain": [
              "<IPython.core.display.HTML object>"
            ]
          },
          "metadata": {
            "tags": []
          }
        },
        {
          "output_type": "display_data",
          "data": {
            "text/html": [
              ""
            ],
            "text/plain": [
              "<IPython.core.display.HTML object>"
            ]
          },
          "metadata": {
            "tags": []
          }
        }
      ]
    },
    {
      "cell_type": "code",
      "metadata": {
        "id": "JRzvWg8RtGGr",
        "outputId": "beb18941-b704-4607-bc94-cb3474664de1",
        "colab": {
          "base_uri": "https://localhost:8080/",
          "height": 34
        }
      },
      "source": [
        "learn = language_model_learner(data_lm, AWD_LSTM, drop_mult=0.5)"
      ],
      "execution_count": 20,
      "outputs": [
        {
          "output_type": "stream",
          "text": [
            "Downloading https://s3.amazonaws.com/fast-ai-modelzoo/wt103-fwd.tgz\n"
          ],
          "name": "stdout"
        },
        {
          "output_type": "display_data",
          "data": {
            "text/html": [
              ""
            ],
            "text/plain": [
              "<IPython.core.display.HTML object>"
            ]
          },
          "metadata": {
            "tags": []
          }
        }
      ]
    },
    {
      "cell_type": "code",
      "metadata": {
        "id": "xKK7GeBev7Xn",
        "outputId": "d5aeaf3d-4647-44fd-f370-abb6ff3b993a",
        "colab": {
          "base_uri": "https://localhost:8080/",
          "height": 80
        }
      },
      "source": [
        "learn.fit_one_cycle(1, 1e-2)"
      ],
      "execution_count": 21,
      "outputs": [
        {
          "output_type": "display_data",
          "data": {
            "text/html": [
              "<table border=\"1\" class=\"dataframe\">\n",
              "  <thead>\n",
              "    <tr style=\"text-align: left;\">\n",
              "      <th>epoch</th>\n",
              "      <th>train_loss</th>\n",
              "      <th>valid_loss</th>\n",
              "      <th>accuracy</th>\n",
              "      <th>time</th>\n",
              "    </tr>\n",
              "  </thead>\n",
              "  <tbody>\n",
              "    <tr>\n",
              "      <td>0</td>\n",
              "      <td>4.737868</td>\n",
              "      <td>4.179143</td>\n",
              "      <td>0.346916</td>\n",
              "      <td>22:58</td>\n",
              "    </tr>\n",
              "  </tbody>\n",
              "</table>"
            ],
            "text/plain": [
              "<IPython.core.display.HTML object>"
            ]
          },
          "metadata": {
            "tags": []
          }
        }
      ]
    },
    {
      "cell_type": "code",
      "metadata": {
        "id": "iB7rHGQCwd12",
        "outputId": "5b2bc84d-df20-4716-db4a-8380d3e5fb75",
        "colab": {
          "base_uri": "https://localhost:8080/",
          "height": 80
        }
      },
      "source": [
        "learn.fit_one_cycle(1, 1e-2)"
      ],
      "execution_count": 22,
      "outputs": [
        {
          "output_type": "display_data",
          "data": {
            "text/html": [
              "<table border=\"1\" class=\"dataframe\">\n",
              "  <thead>\n",
              "    <tr style=\"text-align: left;\">\n",
              "      <th>epoch</th>\n",
              "      <th>train_loss</th>\n",
              "      <th>valid_loss</th>\n",
              "      <th>accuracy</th>\n",
              "      <th>time</th>\n",
              "    </tr>\n",
              "  </thead>\n",
              "  <tbody>\n",
              "    <tr>\n",
              "      <td>0</td>\n",
              "      <td>4.019536</td>\n",
              "      <td>3.795144</td>\n",
              "      <td>0.385336</td>\n",
              "      <td>22:49</td>\n",
              "    </tr>\n",
              "  </tbody>\n",
              "</table>"
            ],
            "text/plain": [
              "<IPython.core.display.HTML object>"
            ]
          },
          "metadata": {
            "tags": []
          }
        }
      ]
    },
    {
      "cell_type": "code",
      "metadata": {
        "id": "_BnSuAeCwkBe",
        "outputId": "5b3576a5-267f-4daf-9f2e-25f79b32b21c",
        "colab": {
          "base_uri": "https://localhost:8080/",
          "height": 80
        }
      },
      "source": [
        "learn.fit_one_cycle(1, 1e-3)"
      ],
      "execution_count": 23,
      "outputs": [
        {
          "output_type": "display_data",
          "data": {
            "text/html": [
              "<table border=\"1\" class=\"dataframe\">\n",
              "  <thead>\n",
              "    <tr style=\"text-align: left;\">\n",
              "      <th>epoch</th>\n",
              "      <th>train_loss</th>\n",
              "      <th>valid_loss</th>\n",
              "      <th>accuracy</th>\n",
              "      <th>time</th>\n",
              "    </tr>\n",
              "  </thead>\n",
              "  <tbody>\n",
              "    <tr>\n",
              "      <td>0</td>\n",
              "      <td>3.729517</td>\n",
              "      <td>3.749534</td>\n",
              "      <td>0.389840</td>\n",
              "      <td>23:01</td>\n",
              "    </tr>\n",
              "  </tbody>\n",
              "</table>"
            ],
            "text/plain": [
              "<IPython.core.display.HTML object>"
            ]
          },
          "metadata": {
            "tags": []
          }
        }
      ]
    },
    {
      "cell_type": "code",
      "metadata": {
        "id": "MuTm-RFjwrEX",
        "outputId": "17c80d6d-e1fa-422a-e883-209f29211f6c",
        "colab": {
          "base_uri": "https://localhost:8080/",
          "height": 80
        }
      },
      "source": [
        "learn.fit_one_cycle(1, 1e-3)"
      ],
      "execution_count": 24,
      "outputs": [
        {
          "output_type": "display_data",
          "data": {
            "text/html": [
              "<table border=\"1\" class=\"dataframe\">\n",
              "  <thead>\n",
              "    <tr style=\"text-align: left;\">\n",
              "      <th>epoch</th>\n",
              "      <th>train_loss</th>\n",
              "      <th>valid_loss</th>\n",
              "      <th>accuracy</th>\n",
              "      <th>time</th>\n",
              "    </tr>\n",
              "  </thead>\n",
              "  <tbody>\n",
              "    <tr>\n",
              "      <td>0</td>\n",
              "      <td>3.691423</td>\n",
              "      <td>3.718100</td>\n",
              "      <td>0.393080</td>\n",
              "      <td>22:40</td>\n",
              "    </tr>\n",
              "  </tbody>\n",
              "</table>"
            ],
            "text/plain": [
              "<IPython.core.display.HTML object>"
            ]
          },
          "metadata": {
            "tags": []
          }
        }
      ]
    },
    {
      "cell_type": "code",
      "metadata": {
        "id": "1Er2ExO8wr7Y"
      },
      "source": [
        "learn.save_encoder('mixed_pubmed_bigtweet_twadr_fold0overlap_first')"
      ],
      "execution_count": 25,
      "outputs": []
    },
    {
      "cell_type": "code",
      "metadata": {
        "id": "z52cZs2qwvad",
        "outputId": "8dcbb754-fb41-4943-8e02-5d096de45652",
        "colab": {
          "base_uri": "https://localhost:8080/",
          "height": 80
        }
      },
      "source": [
        "learn = text_classifier_learner(data_clas,AWD_LSTM, drop_mult=0.5)\n",
        "learn.load_encoder('mixed_pubmed_bigtweet_twadr_fold0overlap_first')\n",
        "learn.fit_one_cycle(1, 1e-2)"
      ],
      "execution_count": 26,
      "outputs": [
        {
          "output_type": "display_data",
          "data": {
            "text/html": [
              "<table border=\"1\" class=\"dataframe\">\n",
              "  <thead>\n",
              "    <tr style=\"text-align: left;\">\n",
              "      <th>epoch</th>\n",
              "      <th>train_loss</th>\n",
              "      <th>valid_loss</th>\n",
              "      <th>accuracy</th>\n",
              "      <th>time</th>\n",
              "    </tr>\n",
              "  </thead>\n",
              "  <tbody>\n",
              "    <tr>\n",
              "      <td>0</td>\n",
              "      <td>7.131246</td>\n",
              "      <td>6.156239</td>\n",
              "      <td>0.104348</td>\n",
              "      <td>00:23</td>\n",
              "    </tr>\n",
              "  </tbody>\n",
              "</table>"
            ],
            "text/plain": [
              "<IPython.core.display.HTML object>"
            ]
          },
          "metadata": {
            "tags": []
          }
        }
      ]
    },
    {
      "cell_type": "code",
      "metadata": {
        "id": "ImwQP1PJwzxd",
        "outputId": "0d3ed650-7efc-45b7-d09f-df14338eb59e",
        "colab": {
          "base_uri": "https://localhost:8080/",
          "height": 80
        }
      },
      "source": [
        "learn.freeze_to(-2)\n",
        "learn.fit_one_cycle(1, slice(5e-3/2., 5e-3))"
      ],
      "execution_count": 27,
      "outputs": [
        {
          "output_type": "display_data",
          "data": {
            "text/html": [
              "<table border=\"1\" class=\"dataframe\">\n",
              "  <thead>\n",
              "    <tr style=\"text-align: left;\">\n",
              "      <th>epoch</th>\n",
              "      <th>train_loss</th>\n",
              "      <th>valid_loss</th>\n",
              "      <th>accuracy</th>\n",
              "      <th>time</th>\n",
              "    </tr>\n",
              "  </thead>\n",
              "  <tbody>\n",
              "    <tr>\n",
              "      <td>0</td>\n",
              "      <td>6.176614</td>\n",
              "      <td>4.898152</td>\n",
              "      <td>0.121739</td>\n",
              "      <td>00:26</td>\n",
              "    </tr>\n",
              "  </tbody>\n",
              "</table>"
            ],
            "text/plain": [
              "<IPython.core.display.HTML object>"
            ]
          },
          "metadata": {
            "tags": []
          }
        }
      ]
    },
    {
      "cell_type": "code",
      "metadata": {
        "id": "Owff_BJXw53u",
        "outputId": "81161817-5eea-48de-9e9c-daad86dec1f8",
        "colab": {
          "base_uri": "https://localhost:8080/",
          "height": 80
        }
      },
      "source": [
        "learn.unfreeze()\n",
        "learn.fit_one_cycle(1, slice(2e-3/100, 2e-3))"
      ],
      "execution_count": 28,
      "outputs": [
        {
          "output_type": "display_data",
          "data": {
            "text/html": [
              "<table border=\"1\" class=\"dataframe\">\n",
              "  <thead>\n",
              "    <tr style=\"text-align: left;\">\n",
              "      <th>epoch</th>\n",
              "      <th>train_loss</th>\n",
              "      <th>valid_loss</th>\n",
              "      <th>accuracy</th>\n",
              "      <th>time</th>\n",
              "    </tr>\n",
              "  </thead>\n",
              "  <tbody>\n",
              "    <tr>\n",
              "      <td>0</td>\n",
              "      <td>5.674140</td>\n",
              "      <td>4.614071</td>\n",
              "      <td>0.191304</td>\n",
              "      <td>01:09</td>\n",
              "    </tr>\n",
              "  </tbody>\n",
              "</table>"
            ],
            "text/plain": [
              "<IPython.core.display.HTML object>"
            ]
          },
          "metadata": {
            "tags": []
          }
        }
      ]
    },
    {
      "cell_type": "code",
      "metadata": {
        "id": "lqAyu56V8Waq",
        "outputId": "b88f1ab3-c938-435c-d035-aa6aa8d74a54",
        "colab": {
          "base_uri": "https://localhost:8080/",
          "height": 111
        }
      },
      "source": [
        "learn.fit_one_cycle(2, slice(2e-3/100, 2e-3))"
      ],
      "execution_count": 29,
      "outputs": [
        {
          "output_type": "display_data",
          "data": {
            "text/html": [
              "<table border=\"1\" class=\"dataframe\">\n",
              "  <thead>\n",
              "    <tr style=\"text-align: left;\">\n",
              "      <th>epoch</th>\n",
              "      <th>train_loss</th>\n",
              "      <th>valid_loss</th>\n",
              "      <th>accuracy</th>\n",
              "      <th>time</th>\n",
              "    </tr>\n",
              "  </thead>\n",
              "  <tbody>\n",
              "    <tr>\n",
              "      <td>0</td>\n",
              "      <td>5.377638</td>\n",
              "      <td>4.325761</td>\n",
              "      <td>0.217391</td>\n",
              "      <td>01:07</td>\n",
              "    </tr>\n",
              "    <tr>\n",
              "      <td>1</td>\n",
              "      <td>5.164179</td>\n",
              "      <td>4.227374</td>\n",
              "      <td>0.260870</td>\n",
              "      <td>01:07</td>\n",
              "    </tr>\n",
              "  </tbody>\n",
              "</table>"
            ],
            "text/plain": [
              "<IPython.core.display.HTML object>"
            ]
          },
          "metadata": {
            "tags": []
          }
        }
      ]
    },
    {
      "cell_type": "code",
      "metadata": {
        "id": "a7I1xMRp8bUd",
        "outputId": "ea03784a-e958-4ecf-f683-2205c8c0f96d",
        "colab": {
          "base_uri": "https://localhost:8080/",
          "height": 111
        }
      },
      "source": [
        "learn.fit_one_cycle(2, slice(2e-3/100, 2e-3))"
      ],
      "execution_count": 30,
      "outputs": [
        {
          "output_type": "display_data",
          "data": {
            "text/html": [
              "<table border=\"1\" class=\"dataframe\">\n",
              "  <thead>\n",
              "    <tr style=\"text-align: left;\">\n",
              "      <th>epoch</th>\n",
              "      <th>train_loss</th>\n",
              "      <th>valid_loss</th>\n",
              "      <th>accuracy</th>\n",
              "      <th>time</th>\n",
              "    </tr>\n",
              "  </thead>\n",
              "  <tbody>\n",
              "    <tr>\n",
              "      <td>0</td>\n",
              "      <td>4.910917</td>\n",
              "      <td>3.999468</td>\n",
              "      <td>0.217391</td>\n",
              "      <td>01:05</td>\n",
              "    </tr>\n",
              "    <tr>\n",
              "      <td>1</td>\n",
              "      <td>4.706783</td>\n",
              "      <td>3.927096</td>\n",
              "      <td>0.243478</td>\n",
              "      <td>01:07</td>\n",
              "    </tr>\n",
              "  </tbody>\n",
              "</table>"
            ],
            "text/plain": [
              "<IPython.core.display.HTML object>"
            ]
          },
          "metadata": {
            "tags": []
          }
        }
      ]
    },
    {
      "cell_type": "code",
      "metadata": {
        "id": "UAnti-XmGVfO",
        "outputId": "98c6a3c9-3e95-447e-fcae-890be7fa4620",
        "colab": {
          "base_uri": "https://localhost:8080/",
          "height": 111
        }
      },
      "source": [
        "learn.fit_one_cycle(2, slice(2e-3/100, 2e-3))"
      ],
      "execution_count": 31,
      "outputs": [
        {
          "output_type": "display_data",
          "data": {
            "text/html": [
              "<table border=\"1\" class=\"dataframe\">\n",
              "  <thead>\n",
              "    <tr style=\"text-align: left;\">\n",
              "      <th>epoch</th>\n",
              "      <th>train_loss</th>\n",
              "      <th>valid_loss</th>\n",
              "      <th>accuracy</th>\n",
              "      <th>time</th>\n",
              "    </tr>\n",
              "  </thead>\n",
              "  <tbody>\n",
              "    <tr>\n",
              "      <td>0</td>\n",
              "      <td>4.472293</td>\n",
              "      <td>3.780668</td>\n",
              "      <td>0.313043</td>\n",
              "      <td>01:05</td>\n",
              "    </tr>\n",
              "    <tr>\n",
              "      <td>1</td>\n",
              "      <td>4.325327</td>\n",
              "      <td>3.717154</td>\n",
              "      <td>0.286957</td>\n",
              "      <td>01:05</td>\n",
              "    </tr>\n",
              "  </tbody>\n",
              "</table>"
            ],
            "text/plain": [
              "<IPython.core.display.HTML object>"
            ]
          },
          "metadata": {
            "tags": []
          }
        }
      ]
    },
    {
      "cell_type": "code",
      "metadata": {
        "id": "bIft7W25GwSu",
        "outputId": "3e6f4913-6ab8-41f0-b372-e50eb5c3ee17",
        "colab": {
          "base_uri": "https://localhost:8080/",
          "height": 111
        }
      },
      "source": [
        "learn.fit_one_cycle(2, slice(2e-3/100, 2e-3))"
      ],
      "execution_count": 32,
      "outputs": [
        {
          "output_type": "display_data",
          "data": {
            "text/html": [
              "<table border=\"1\" class=\"dataframe\">\n",
              "  <thead>\n",
              "    <tr style=\"text-align: left;\">\n",
              "      <th>epoch</th>\n",
              "      <th>train_loss</th>\n",
              "      <th>valid_loss</th>\n",
              "      <th>accuracy</th>\n",
              "      <th>time</th>\n",
              "    </tr>\n",
              "  </thead>\n",
              "  <tbody>\n",
              "    <tr>\n",
              "      <td>0</td>\n",
              "      <td>4.128567</td>\n",
              "      <td>3.523573</td>\n",
              "      <td>0.286957</td>\n",
              "      <td>01:08</td>\n",
              "    </tr>\n",
              "    <tr>\n",
              "      <td>1</td>\n",
              "      <td>3.987180</td>\n",
              "      <td>3.494440</td>\n",
              "      <td>0.347826</td>\n",
              "      <td>01:07</td>\n",
              "    </tr>\n",
              "  </tbody>\n",
              "</table>"
            ],
            "text/plain": [
              "<IPython.core.display.HTML object>"
            ]
          },
          "metadata": {
            "tags": []
          }
        }
      ]
    },
    {
      "cell_type": "code",
      "metadata": {
        "id": "EEHszVRvGyFt",
        "outputId": "302fc6db-4210-4a45-eec6-239f95d901db",
        "colab": {
          "base_uri": "https://localhost:8080/",
          "height": 111
        }
      },
      "source": [
        "learn.fit_one_cycle(2, slice(2e-3/100, 2e-3))"
      ],
      "execution_count": 33,
      "outputs": [
        {
          "output_type": "display_data",
          "data": {
            "text/html": [
              "<table border=\"1\" class=\"dataframe\">\n",
              "  <thead>\n",
              "    <tr style=\"text-align: left;\">\n",
              "      <th>epoch</th>\n",
              "      <th>train_loss</th>\n",
              "      <th>valid_loss</th>\n",
              "      <th>accuracy</th>\n",
              "      <th>time</th>\n",
              "    </tr>\n",
              "  </thead>\n",
              "  <tbody>\n",
              "    <tr>\n",
              "      <td>0</td>\n",
              "      <td>3.798090</td>\n",
              "      <td>3.453353</td>\n",
              "      <td>0.330435</td>\n",
              "      <td>01:04</td>\n",
              "    </tr>\n",
              "    <tr>\n",
              "      <td>1</td>\n",
              "      <td>3.646176</td>\n",
              "      <td>3.397893</td>\n",
              "      <td>0.347826</td>\n",
              "      <td>01:08</td>\n",
              "    </tr>\n",
              "  </tbody>\n",
              "</table>"
            ],
            "text/plain": [
              "<IPython.core.display.HTML object>"
            ]
          },
          "metadata": {
            "tags": []
          }
        }
      ]
    },
    {
      "cell_type": "code",
      "metadata": {
        "id": "XsHfrhCHG3dN",
        "outputId": "ae820a66-47c6-4fdf-dc44-4dca5310ef29",
        "colab": {
          "base_uri": "https://localhost:8080/",
          "height": 173
        }
      },
      "source": [
        "learn.fit_one_cycle(4, slice(2e-3/100, 2e-3))"
      ],
      "execution_count": 34,
      "outputs": [
        {
          "output_type": "display_data",
          "data": {
            "text/html": [
              "<table border=\"1\" class=\"dataframe\">\n",
              "  <thead>\n",
              "    <tr style=\"text-align: left;\">\n",
              "      <th>epoch</th>\n",
              "      <th>train_loss</th>\n",
              "      <th>valid_loss</th>\n",
              "      <th>accuracy</th>\n",
              "      <th>time</th>\n",
              "    </tr>\n",
              "  </thead>\n",
              "  <tbody>\n",
              "    <tr>\n",
              "      <td>0</td>\n",
              "      <td>3.482186</td>\n",
              "      <td>3.331968</td>\n",
              "      <td>0.347826</td>\n",
              "      <td>01:03</td>\n",
              "    </tr>\n",
              "    <tr>\n",
              "      <td>1</td>\n",
              "      <td>3.388303</td>\n",
              "      <td>3.258308</td>\n",
              "      <td>0.356522</td>\n",
              "      <td>01:05</td>\n",
              "    </tr>\n",
              "    <tr>\n",
              "      <td>2</td>\n",
              "      <td>3.200617</td>\n",
              "      <td>3.228791</td>\n",
              "      <td>0.347826</td>\n",
              "      <td>01:08</td>\n",
              "    </tr>\n",
              "    <tr>\n",
              "      <td>3</td>\n",
              "      <td>3.044141</td>\n",
              "      <td>3.229238</td>\n",
              "      <td>0.330435</td>\n",
              "      <td>01:06</td>\n",
              "    </tr>\n",
              "  </tbody>\n",
              "</table>"
            ],
            "text/plain": [
              "<IPython.core.display.HTML object>"
            ]
          },
          "metadata": {
            "tags": []
          }
        }
      ]
    },
    {
      "cell_type": "code",
      "metadata": {
        "id": "0Zsd99isb9EQ",
        "outputId": "79dafca7-59e5-4009-8078-c8247a14b60f",
        "colab": {
          "base_uri": "https://localhost:8080/",
          "height": 173
        }
      },
      "source": [
        "learn.fit_one_cycle(4, slice(2e-3/100, 2e-3))"
      ],
      "execution_count": 35,
      "outputs": [
        {
          "output_type": "display_data",
          "data": {
            "text/html": [
              "<table border=\"1\" class=\"dataframe\">\n",
              "  <thead>\n",
              "    <tr style=\"text-align: left;\">\n",
              "      <th>epoch</th>\n",
              "      <th>train_loss</th>\n",
              "      <th>valid_loss</th>\n",
              "      <th>accuracy</th>\n",
              "      <th>time</th>\n",
              "    </tr>\n",
              "  </thead>\n",
              "  <tbody>\n",
              "    <tr>\n",
              "      <td>0</td>\n",
              "      <td>2.852188</td>\n",
              "      <td>3.217638</td>\n",
              "      <td>0.347826</td>\n",
              "      <td>01:10</td>\n",
              "    </tr>\n",
              "    <tr>\n",
              "      <td>1</td>\n",
              "      <td>2.823408</td>\n",
              "      <td>3.281309</td>\n",
              "      <td>0.330435</td>\n",
              "      <td>01:05</td>\n",
              "    </tr>\n",
              "    <tr>\n",
              "      <td>2</td>\n",
              "      <td>2.643030</td>\n",
              "      <td>3.229269</td>\n",
              "      <td>0.313043</td>\n",
              "      <td>01:07</td>\n",
              "    </tr>\n",
              "    <tr>\n",
              "      <td>3</td>\n",
              "      <td>2.490173</td>\n",
              "      <td>3.253141</td>\n",
              "      <td>0.295652</td>\n",
              "      <td>01:03</td>\n",
              "    </tr>\n",
              "  </tbody>\n",
              "</table>"
            ],
            "text/plain": [
              "<IPython.core.display.HTML object>"
            ]
          },
          "metadata": {
            "tags": []
          }
        }
      ]
    },
    {
      "cell_type": "code",
      "metadata": {
        "id": "atNWNKDFPbuI",
        "outputId": "be54985b-f2f8-48f2-c825-c2fdf47679a5",
        "colab": {
          "base_uri": "https://localhost:8080/",
          "height": 173
        }
      },
      "source": [
        "learn.fit_one_cycle(4, slice(2e-3/100, 2e-3))"
      ],
      "execution_count": 36,
      "outputs": [
        {
          "output_type": "display_data",
          "data": {
            "text/html": [
              "<table border=\"1\" class=\"dataframe\">\n",
              "  <thead>\n",
              "    <tr style=\"text-align: left;\">\n",
              "      <th>epoch</th>\n",
              "      <th>train_loss</th>\n",
              "      <th>valid_loss</th>\n",
              "      <th>accuracy</th>\n",
              "      <th>time</th>\n",
              "    </tr>\n",
              "  </thead>\n",
              "  <tbody>\n",
              "    <tr>\n",
              "      <td>0</td>\n",
              "      <td>2.347867</td>\n",
              "      <td>3.216843</td>\n",
              "      <td>0.339130</td>\n",
              "      <td>01:07</td>\n",
              "    </tr>\n",
              "    <tr>\n",
              "      <td>1</td>\n",
              "      <td>2.316210</td>\n",
              "      <td>3.274376</td>\n",
              "      <td>0.373913</td>\n",
              "      <td>01:06</td>\n",
              "    </tr>\n",
              "    <tr>\n",
              "      <td>2</td>\n",
              "      <td>2.151614</td>\n",
              "      <td>3.172969</td>\n",
              "      <td>0.400000</td>\n",
              "      <td>01:07</td>\n",
              "    </tr>\n",
              "    <tr>\n",
              "      <td>3</td>\n",
              "      <td>1.991429</td>\n",
              "      <td>3.187582</td>\n",
              "      <td>0.391304</td>\n",
              "      <td>01:09</td>\n",
              "    </tr>\n",
              "  </tbody>\n",
              "</table>"
            ],
            "text/plain": [
              "<IPython.core.display.HTML object>"
            ]
          },
          "metadata": {
            "tags": []
          }
        }
      ]
    },
    {
      "cell_type": "code",
      "metadata": {
        "id": "rKrBTZ0T1uVA",
        "outputId": "ff924e72-02f7-464c-e94d-76f09f0ed6b5",
        "colab": {
          "base_uri": "https://localhost:8080/",
          "height": 173
        }
      },
      "source": [
        "learn.fit_one_cycle(4, slice(2e-3/100, 2e-3))"
      ],
      "execution_count": 37,
      "outputs": [
        {
          "output_type": "display_data",
          "data": {
            "text/html": [
              "<table border=\"1\" class=\"dataframe\">\n",
              "  <thead>\n",
              "    <tr style=\"text-align: left;\">\n",
              "      <th>epoch</th>\n",
              "      <th>train_loss</th>\n",
              "      <th>valid_loss</th>\n",
              "      <th>accuracy</th>\n",
              "      <th>time</th>\n",
              "    </tr>\n",
              "  </thead>\n",
              "  <tbody>\n",
              "    <tr>\n",
              "      <td>0</td>\n",
              "      <td>1.833247</td>\n",
              "      <td>3.232282</td>\n",
              "      <td>0.391304</td>\n",
              "      <td>01:09</td>\n",
              "    </tr>\n",
              "    <tr>\n",
              "      <td>1</td>\n",
              "      <td>1.833185</td>\n",
              "      <td>3.327243</td>\n",
              "      <td>0.391304</td>\n",
              "      <td>01:07</td>\n",
              "    </tr>\n",
              "    <tr>\n",
              "      <td>2</td>\n",
              "      <td>1.689593</td>\n",
              "      <td>3.277829</td>\n",
              "      <td>0.391304</td>\n",
              "      <td>01:09</td>\n",
              "    </tr>\n",
              "    <tr>\n",
              "      <td>3</td>\n",
              "      <td>1.550542</td>\n",
              "      <td>3.298469</td>\n",
              "      <td>0.373913</td>\n",
              "      <td>01:06</td>\n",
              "    </tr>\n",
              "  </tbody>\n",
              "</table>"
            ],
            "text/plain": [
              "<IPython.core.display.HTML object>"
            ]
          },
          "metadata": {
            "tags": []
          }
        }
      ]
    },
    {
      "cell_type": "code",
      "metadata": {
        "id": "ajQC6WDg1yA9",
        "outputId": "66fb0b22-93ef-4bfe-9055-7b6c6fce2973",
        "colab": {
          "base_uri": "https://localhost:8080/",
          "height": 173
        }
      },
      "source": [
        "learn.fit_one_cycle(4, slice(2e-3/100, 2e-3))"
      ],
      "execution_count": 38,
      "outputs": [
        {
          "output_type": "display_data",
          "data": {
            "text/html": [
              "<table border=\"1\" class=\"dataframe\">\n",
              "  <thead>\n",
              "    <tr style=\"text-align: left;\">\n",
              "      <th>epoch</th>\n",
              "      <th>train_loss</th>\n",
              "      <th>valid_loss</th>\n",
              "      <th>accuracy</th>\n",
              "      <th>time</th>\n",
              "    </tr>\n",
              "  </thead>\n",
              "  <tbody>\n",
              "    <tr>\n",
              "      <td>0</td>\n",
              "      <td>1.394125</td>\n",
              "      <td>3.330763</td>\n",
              "      <td>0.391304</td>\n",
              "      <td>01:07</td>\n",
              "    </tr>\n",
              "    <tr>\n",
              "      <td>1</td>\n",
              "      <td>1.401590</td>\n",
              "      <td>3.415265</td>\n",
              "      <td>0.365217</td>\n",
              "      <td>01:10</td>\n",
              "    </tr>\n",
              "    <tr>\n",
              "      <td>2</td>\n",
              "      <td>1.324995</td>\n",
              "      <td>3.356744</td>\n",
              "      <td>0.382609</td>\n",
              "      <td>01:04</td>\n",
              "    </tr>\n",
              "    <tr>\n",
              "      <td>3</td>\n",
              "      <td>1.213404</td>\n",
              "      <td>3.335640</td>\n",
              "      <td>0.400000</td>\n",
              "      <td>01:10</td>\n",
              "    </tr>\n",
              "  </tbody>\n",
              "</table>"
            ],
            "text/plain": [
              "<IPython.core.display.HTML object>"
            ]
          },
          "metadata": {
            "tags": []
          }
        }
      ]
    },
    {
      "cell_type": "code",
      "metadata": {
        "id": "KKydb0B4BKGk",
        "outputId": "6bc62074-02b5-43c0-e4da-a8ba3cdc2118",
        "colab": {
          "base_uri": "https://localhost:8080/",
          "height": 173
        }
      },
      "source": [
        "learn.fit_one_cycle(4, slice(2e-3/100, 2e-3))"
      ],
      "execution_count": 39,
      "outputs": [
        {
          "output_type": "display_data",
          "data": {
            "text/html": [
              "<table border=\"1\" class=\"dataframe\">\n",
              "  <thead>\n",
              "    <tr style=\"text-align: left;\">\n",
              "      <th>epoch</th>\n",
              "      <th>train_loss</th>\n",
              "      <th>valid_loss</th>\n",
              "      <th>accuracy</th>\n",
              "      <th>time</th>\n",
              "    </tr>\n",
              "  </thead>\n",
              "  <tbody>\n",
              "    <tr>\n",
              "      <td>0</td>\n",
              "      <td>1.121495</td>\n",
              "      <td>3.379417</td>\n",
              "      <td>0.426087</td>\n",
              "      <td>01:10</td>\n",
              "    </tr>\n",
              "    <tr>\n",
              "      <td>1</td>\n",
              "      <td>1.144591</td>\n",
              "      <td>3.425703</td>\n",
              "      <td>0.417391</td>\n",
              "      <td>01:08</td>\n",
              "    </tr>\n",
              "    <tr>\n",
              "      <td>2</td>\n",
              "      <td>1.055923</td>\n",
              "      <td>3.489067</td>\n",
              "      <td>0.400000</td>\n",
              "      <td>01:10</td>\n",
              "    </tr>\n",
              "    <tr>\n",
              "      <td>3</td>\n",
              "      <td>0.949762</td>\n",
              "      <td>3.494132</td>\n",
              "      <td>0.426087</td>\n",
              "      <td>01:12</td>\n",
              "    </tr>\n",
              "  </tbody>\n",
              "</table>"
            ],
            "text/plain": [
              "<IPython.core.display.HTML object>"
            ]
          },
          "metadata": {
            "tags": []
          }
        }
      ]
    },
    {
      "cell_type": "code",
      "metadata": {
        "id": "T2APKtFKBpGY",
        "outputId": "f9190152-b393-4bfa-c3ec-35e554a108fb",
        "colab": {
          "base_uri": "https://localhost:8080/",
          "height": 173
        }
      },
      "source": [
        "learn.fit_one_cycle(4, slice(2e-3/100, 2e-3))"
      ],
      "execution_count": 40,
      "outputs": [
        {
          "output_type": "display_data",
          "data": {
            "text/html": [
              "<table border=\"1\" class=\"dataframe\">\n",
              "  <thead>\n",
              "    <tr style=\"text-align: left;\">\n",
              "      <th>epoch</th>\n",
              "      <th>train_loss</th>\n",
              "      <th>valid_loss</th>\n",
              "      <th>accuracy</th>\n",
              "      <th>time</th>\n",
              "    </tr>\n",
              "  </thead>\n",
              "  <tbody>\n",
              "    <tr>\n",
              "      <td>0</td>\n",
              "      <td>0.876389</td>\n",
              "      <td>3.600988</td>\n",
              "      <td>0.426087</td>\n",
              "      <td>01:04</td>\n",
              "    </tr>\n",
              "    <tr>\n",
              "      <td>1</td>\n",
              "      <td>0.901534</td>\n",
              "      <td>3.666185</td>\n",
              "      <td>0.373913</td>\n",
              "      <td>01:08</td>\n",
              "    </tr>\n",
              "    <tr>\n",
              "      <td>2</td>\n",
              "      <td>0.835802</td>\n",
              "      <td>3.674575</td>\n",
              "      <td>0.382609</td>\n",
              "      <td>01:05</td>\n",
              "    </tr>\n",
              "    <tr>\n",
              "      <td>3</td>\n",
              "      <td>0.756521</td>\n",
              "      <td>3.630085</td>\n",
              "      <td>0.382609</td>\n",
              "      <td>01:10</td>\n",
              "    </tr>\n",
              "  </tbody>\n",
              "</table>"
            ],
            "text/plain": [
              "<IPython.core.display.HTML object>"
            ]
          },
          "metadata": {
            "tags": []
          }
        }
      ]
    },
    {
      "cell_type": "code",
      "metadata": {
        "id": "qtTypA1sPgLU",
        "outputId": "911fe378-110b-415b-f299-18474cdb949b",
        "colab": {
          "base_uri": "https://localhost:8080/",
          "height": 111
        }
      },
      "source": [
        "learn.fit_one_cycle(2, slice(2e-3/100, 2e-3))"
      ],
      "execution_count": 41,
      "outputs": [
        {
          "output_type": "display_data",
          "data": {
            "text/html": [
              "<table border=\"1\" class=\"dataframe\">\n",
              "  <thead>\n",
              "    <tr style=\"text-align: left;\">\n",
              "      <th>epoch</th>\n",
              "      <th>train_loss</th>\n",
              "      <th>valid_loss</th>\n",
              "      <th>accuracy</th>\n",
              "      <th>time</th>\n",
              "    </tr>\n",
              "  </thead>\n",
              "  <tbody>\n",
              "    <tr>\n",
              "      <td>0</td>\n",
              "      <td>0.712533</td>\n",
              "      <td>3.617586</td>\n",
              "      <td>0.400000</td>\n",
              "      <td>01:09</td>\n",
              "    </tr>\n",
              "    <tr>\n",
              "      <td>1</td>\n",
              "      <td>0.691989</td>\n",
              "      <td>3.642014</td>\n",
              "      <td>0.373913</td>\n",
              "      <td>01:07</td>\n",
              "    </tr>\n",
              "  </tbody>\n",
              "</table>"
            ],
            "text/plain": [
              "<IPython.core.display.HTML object>"
            ]
          },
          "metadata": {
            "tags": []
          }
        }
      ]
    },
    {
      "cell_type": "code",
      "metadata": {
        "id": "b242kBsTUp9Y",
        "outputId": "bd065708-fc2f-4c9c-9499-19067cf521d1",
        "colab": {
          "base_uri": "https://localhost:8080/",
          "height": 111
        }
      },
      "source": [
        "learn.fit_one_cycle(2, slice(2e-3/100, 2e-3))"
      ],
      "execution_count": 42,
      "outputs": [
        {
          "output_type": "display_data",
          "data": {
            "text/html": [
              "<table border=\"1\" class=\"dataframe\">\n",
              "  <thead>\n",
              "    <tr style=\"text-align: left;\">\n",
              "      <th>epoch</th>\n",
              "      <th>train_loss</th>\n",
              "      <th>valid_loss</th>\n",
              "      <th>accuracy</th>\n",
              "      <th>time</th>\n",
              "    </tr>\n",
              "  </thead>\n",
              "  <tbody>\n",
              "    <tr>\n",
              "      <td>0</td>\n",
              "      <td>0.677008</td>\n",
              "      <td>3.677135</td>\n",
              "      <td>0.400000</td>\n",
              "      <td>01:04</td>\n",
              "    </tr>\n",
              "    <tr>\n",
              "      <td>1</td>\n",
              "      <td>0.633446</td>\n",
              "      <td>3.656056</td>\n",
              "      <td>0.339130</td>\n",
              "      <td>01:09</td>\n",
              "    </tr>\n",
              "  </tbody>\n",
              "</table>"
            ],
            "text/plain": [
              "<IPython.core.display.HTML object>"
            ]
          },
          "metadata": {
            "tags": []
          }
        }
      ]
    },
    {
      "cell_type": "code",
      "metadata": {
        "id": "Duwf1Ih5VeDZ",
        "outputId": "ae7b4976-cc57-40bf-f830-aa33ccabdb4e",
        "colab": {
          "base_uri": "https://localhost:8080/",
          "height": 80
        }
      },
      "source": [
        "learn.fit_one_cycle(1, slice(2e-3/100, 2e-3))"
      ],
      "execution_count": 43,
      "outputs": [
        {
          "output_type": "display_data",
          "data": {
            "text/html": [
              "<table border=\"1\" class=\"dataframe\">\n",
              "  <thead>\n",
              "    <tr style=\"text-align: left;\">\n",
              "      <th>epoch</th>\n",
              "      <th>train_loss</th>\n",
              "      <th>valid_loss</th>\n",
              "      <th>accuracy</th>\n",
              "      <th>time</th>\n",
              "    </tr>\n",
              "  </thead>\n",
              "  <tbody>\n",
              "    <tr>\n",
              "      <td>0</td>\n",
              "      <td>0.651349</td>\n",
              "      <td>3.805116</td>\n",
              "      <td>0.382609</td>\n",
              "      <td>01:07</td>\n",
              "    </tr>\n",
              "  </tbody>\n",
              "</table>"
            ],
            "text/plain": [
              "<IPython.core.display.HTML object>"
            ]
          },
          "metadata": {
            "tags": []
          }
        }
      ]
    },
    {
      "cell_type": "code",
      "metadata": {
        "id": "c65d-osfDUXm"
      },
      "source": [
        "# save the best model\n",
        "\n",
        "learn.save_encoder('mixed_pubmed_bigtweet_twadr_fold0overlap')"
      ],
      "execution_count": 44,
      "outputs": []
    },
    {
      "cell_type": "markdown",
      "metadata": {
        "id": "rCwZU0E2RgM6"
      },
      "source": [
        "# Part three: Predict on the test dataset"
      ]
    },
    {
      "cell_type": "code",
      "metadata": {
        "id": "gDm72c-dOu7d",
        "outputId": "8581244c-85b8-452f-e048-fa901a433205",
        "colab": {
          "base_uri": "https://localhost:8080/",
          "height": 17
        }
      },
      "source": [
        "# use the test data for prediction\n",
        "\n",
        "preds, y = learn.get_preds(DatasetType.Test)"
      ],
      "execution_count": 45,
      "outputs": [
        {
          "output_type": "display_data",
          "data": {
            "text/html": [
              ""
            ],
            "text/plain": [
              "<IPython.core.display.HTML object>"
            ]
          },
          "metadata": {
            "tags": []
          }
        }
      ]
    },
    {
      "cell_type": "code",
      "metadata": {
        "id": "6tFSQcsWPvxn",
        "outputId": "5265e707-c2a5-497b-85a3-d6e5baaf16ab",
        "colab": {
          "base_uri": "https://localhost:8080/",
          "height": 105
        }
      },
      "source": [
        "predictions, *_ = learn.get_preds(DatasetType.Test)\n",
        "labels = np.argmax(predictions, 1)\n",
        "predict_list = labels.tolist()\n",
        "standard_list = test[0].tolist()\n",
        "\n",
        "print(len(predict_list))\n",
        "print(len(standard_list))\n",
        "\n",
        "print(predict_list)\n",
        "print(standard_list)"
      ],
      "execution_count": 46,
      "outputs": [
        {
          "output_type": "display_data",
          "data": {
            "text/html": [
              ""
            ],
            "text/plain": [
              "<IPython.core.display.HTML object>"
            ]
          },
          "metadata": {
            "tags": []
          }
        },
        {
          "output_type": "stream",
          "text": [
            "144\n",
            "144\n",
            "[2099, 2099, 1308, 1677, 1932, 359, 840, 803, 1932, 309, 574, 106, 854, 918, 860, 2214, 854, 711, 965, 1442, 106, 803, 744, 1698, 1802, 171, 840, 974, 2027, 1932, 378, 359, 135, 1576, 12, 1811, 2099, 1534, 931, 803, 2099, 1822, 79, 1126, 92, 1935, 1307, 621, 1811, 854, 2099, 1106, 1534, 1106, 135, 1323, 1583, 2182, 1932, 1308, 92, 1932, 1932, 1323, 840, 744, 1948, 635, 2027, 860, 2099, 1811, 309, 1546, 1570, 700, 1534, 854, 978, 1106, 2027, 1038, 620, 2099, 909, 1811, 135, 1698, 1307, 359, 230, 2065, 1534, 903, 378, 1617, 1570, 798, 2065, 1178, 378, 840, 1811, 2099, 2099, 985, 1478, 2097, 2099, 1576, 1411, 2099, 1932, 1639, 1411, 2099, 1811, 1652, 574, 700, 1811, 2027, 860, 375, 268, 1403, 2099, 1811, 935, 87, 170, 106, 574, 309, 2214, 1932, 2097, 1534, 2018, 1698, 1308, 621, 1773, 170]\n",
            "[1576, 2099, 1698, 1811, 476, 840, 440, 2099, 171, 309, 703, 135, 375, 1326, 860, 574, 2003, 210, 1408, 237, 106, 1576, 700, 1095, 1194, 1307, 239, 935, 833, 1076, 1935, 1008, 2176, 1576, 2088, 1407, 1411, 505, 1811, 1576, 803, 605, 1652, 931, 92, 974, 2088, 1075, 491, 1932, 1075, 574, 1220, 1032, 2048, 2088, 1583, 1043, 2188, 1095, 872, 854, 1307, 1950, 170, 700, 1698, 170, 451, 860, 1076, 2099, 309, 872, 210, 700, 237, 2003, 1077, 1299, 99, 1038, 106, 2218, 1698, 1666, 135, 1698, 171, 1534, 1811, 699, 854, 171, 621, 794, 941, 89, 965, 472, 1935, 574, 336, 1348, 803, 1403, 2027, 1811, 1752, 1025, 1411, 2099, 1932, 989, 2046, 2099, 724, 1308, 1106, 621, 1811, 699, 1307, 574, 268, 959, 2099, 1308, 1542, 860, 2201, 1308, 574, 309, 1472, 384, 384, 854, 833, 79, 467, 2165, 1049, 956]\n"
          ],
          "name": "stdout"
        }
      ]
    },
    {
      "cell_type": "code",
      "metadata": {
        "id": "XIC4zufnMxtq",
        "outputId": "0e41c31e-bdc5-4a23-9661-ec86dc6fe278",
        "colab": {
          "base_uri": "https://localhost:8080/",
          "height": 51
        }
      },
      "source": [
        "correct_num = 0\n",
        "\n",
        "for i in range(0, len(standard_list)):\n",
        "  if predict_list[i] == standard_list[i]:\n",
        "    correct_num = correct_num+1\n",
        "  else:\n",
        "    pass\n",
        "print(correct_num)\n",
        "\n",
        "predict_accuracy = correct_num/len(predict_list)\n",
        "print(predict_accuracy)"
      ],
      "execution_count": 47,
      "outputs": [
        {
          "output_type": "stream",
          "text": [
            "22\n",
            "0.1527777777777778\n"
          ],
          "name": "stdout"
        }
      ]
    },
    {
      "cell_type": "code",
      "metadata": {
        "id": "zlKMHp1CIaRJ"
      },
      "source": [
        ""
      ],
      "execution_count": 47,
      "outputs": []
    }
  ]
}