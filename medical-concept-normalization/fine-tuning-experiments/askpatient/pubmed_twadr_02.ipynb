{
  "nbformat": 4,
  "nbformat_minor": 0,
  "metadata": {
    "accelerator": "TPU",
    "colab": {
      "name": "pubmed_twadr_02.ipynb",
      "provenance": [],
      "collapsed_sections": [],
      "include_colab_link": true
    },
    "kernelspec": {
      "display_name": "Python 3",
      "name": "python3"
    }
  },
  "cells": [
    {
      "cell_type": "markdown",
      "metadata": {
        "id": "view-in-github",
        "colab_type": "text"
      },
      "source": [
        "<a href=\"https://colab.research.google.com/github/unt-iialab/medical-concept-normalization/blob/master/medical-concept-normalization/fine-tuning-experiments/askpatient/pubmed_twadr_02.ipynb\" target=\"_parent\"><img src=\"https://colab.research.google.com/assets/colab-badge.svg\" alt=\"Open In Colab\"/></a>"
      ]
    },
    {
      "cell_type": "code",
      "metadata": {
        "id": "adSi6i2-dWxy"
      },
      "source": [
        "import os"
      ],
      "execution_count": 1,
      "outputs": []
    },
    {
      "cell_type": "code",
      "metadata": {
        "id": "E7xYCRGPjd9B"
      },
      "source": [
        "base_dir = 'medical-concept-normalization'"
      ],
      "execution_count": 2,
      "outputs": []
    },
    {
      "cell_type": "code",
      "metadata": {
        "id": "yvIW3aUDjYNS"
      },
      "source": [
        "os.mkdir(base_dir)"
      ],
      "execution_count": 3,
      "outputs": []
    },
    {
      "cell_type": "code",
      "metadata": {
        "id": "es-FFLlfk6SG"
      },
      "source": [
        "os.mkdir('medical-concept-normalization/data_collection')"
      ],
      "execution_count": 4,
      "outputs": []
    },
    {
      "cell_type": "markdown",
      "metadata": {
        "id": "0R-Guw_VoJXm"
      },
      "source": [
        "**Install fastai and clone the fastai for text classification**\n",
        "\n"
      ]
    },
    {
      "cell_type": "code",
      "metadata": {
        "id": "QVZa3Z0PmHFH",
        "outputId": "bc384f72-4658-4917-8f95-2cc4cdb022f7",
        "colab": {
          "base_uri": "https://localhost:8080/"
        }
      },
      "source": [
        "!curl https://course-v3.fast.ai/setup/colab | bash"
      ],
      "execution_count": 5,
      "outputs": [
        {
          "output_type": "stream",
          "text": [
            "  % Total    % Received % Xferd  Average Speed   Time    Time     Time  Current\n",
            "                                 Dload  Upload   Total   Spent    Left  Speed\n",
            "\r  0     0    0     0    0     0      0      0 --:--:-- --:--:-- --:--:--     0curl: (6) Could not resolve host: course-v3.fast.ai\n"
          ],
          "name": "stdout"
        }
      ]
    },
    {
      "cell_type": "code",
      "metadata": {
        "id": "_FBFFEBrmJC0",
        "outputId": "e35004a6-30d8-4ece-8216-69c195382f12",
        "colab": {
          "base_uri": "https://localhost:8080/"
        }
      },
      "source": [
        "!git clone https://github.com/wshuyi/demo-nlp-classification-fastai.git"
      ],
      "execution_count": 6,
      "outputs": [
        {
          "output_type": "stream",
          "text": [
            "Cloning into 'demo-nlp-classification-fastai'...\n",
            "remote: Enumerating objects: 9, done.\u001b[K\n",
            "remote: Total 9 (delta 0), reused 0 (delta 0), pack-reused 9\u001b[K\n",
            "Unpacking objects: 100% (9/9), done.\n"
          ],
          "name": "stdout"
        }
      ]
    },
    {
      "cell_type": "code",
      "metadata": {
        "id": "66zfh_JqmWMU"
      },
      "source": [
        "from fastai import *\n",
        "from fastai.text import *"
      ],
      "execution_count": 7,
      "outputs": []
    },
    {
      "cell_type": "markdown",
      "metadata": {
        "id": "mNIw-yALdBU9"
      },
      "source": [
        "**Set the path of the data collections**"
      ]
    },
    {
      "cell_type": "code",
      "metadata": {
        "id": "pzH7VMh4mqCL"
      },
      "source": [
        "path = Path('medical-concept-normalization/data_collection')"
      ],
      "execution_count": 12,
      "outputs": []
    },
    {
      "cell_type": "code",
      "metadata": {
        "id": "b8fjI6yyn4aS"
      },
      "source": [
        "# training data set\n",
        "\n",
        "train_csv = path/'TwADR-L.fold-2.train.csv'\n",
        "train = pd.read_csv(train_csv, header=None)\n",
        "#train.head()\n",
        "#train.info()"
      ],
      "execution_count": 13,
      "outputs": []
    },
    {
      "cell_type": "code",
      "metadata": {
        "id": "Hmlr-bAorfHd",
        "outputId": "9837948c-0db5-4faa-fa84-73bd617779a6",
        "colab": {
          "base_uri": "https://localhost:8080/",
          "height": 204
        }
      },
      "source": [
        "# validating data set\n",
        "\n",
        "valid = pd.read_csv(path/\"TwADR-L.fold-2.validation.csv\",header=None)\n",
        "valid.head()"
      ],
      "execution_count": 14,
      "outputs": [
        {
          "output_type": "execute_result",
          "data": {
            "text/html": [
              "<div>\n",
              "<style scoped>\n",
              "    .dataframe tbody tr th:only-of-type {\n",
              "        vertical-align: middle;\n",
              "    }\n",
              "\n",
              "    .dataframe tbody tr th {\n",
              "        vertical-align: top;\n",
              "    }\n",
              "\n",
              "    .dataframe thead th {\n",
              "        text-align: right;\n",
              "    }\n",
              "</style>\n",
              "<table border=\"1\" class=\"dataframe\">\n",
              "  <thead>\n",
              "    <tr style=\"text-align: right;\">\n",
              "      <th></th>\n",
              "      <th>0</th>\n",
              "      <th>1</th>\n",
              "    </tr>\n",
              "  </thead>\n",
              "  <tbody>\n",
              "    <tr>\n",
              "      <th>0</th>\n",
              "      <td>13</td>\n",
              "      <td>insomnia</td>\n",
              "    </tr>\n",
              "    <tr>\n",
              "      <th>1</th>\n",
              "      <td>24</td>\n",
              "      <td>heart beat for being too strong</td>\n",
              "    </tr>\n",
              "    <tr>\n",
              "      <th>2</th>\n",
              "      <td>62</td>\n",
              "      <td>feeling proper psycho</td>\n",
              "    </tr>\n",
              "    <tr>\n",
              "      <th>3</th>\n",
              "      <td>94</td>\n",
              "      <td>anxiety</td>\n",
              "    </tr>\n",
              "    <tr>\n",
              "      <th>4</th>\n",
              "      <td>133</td>\n",
              "      <td>night terrors</td>\n",
              "    </tr>\n",
              "  </tbody>\n",
              "</table>\n",
              "</div>"
            ],
            "text/plain": [
              "     0                                1\n",
              "0   13                         insomnia\n",
              "1   24  heart beat for being too strong\n",
              "2   62            feeling proper psycho\n",
              "3   94                          anxiety\n",
              "4  133                    night terrors"
            ]
          },
          "metadata": {
            "tags": []
          },
          "execution_count": 14
        }
      ]
    },
    {
      "cell_type": "code",
      "metadata": {
        "id": "cOza9dfSsBud",
        "outputId": "35a7d688-3a1f-4ded-fb9d-ddd7697a41c3",
        "colab": {
          "base_uri": "https://localhost:8080/",
          "height": 204
        }
      },
      "source": [
        "# testing data set\n",
        "\n",
        "test = pd.read_csv(path/\"TwADR-L.fold-2.test.csv\",header=None)\n",
        "test.head()"
      ],
      "execution_count": 15,
      "outputs": [
        {
          "output_type": "execute_result",
          "data": {
            "text/html": [
              "<div>\n",
              "<style scoped>\n",
              "    .dataframe tbody tr th:only-of-type {\n",
              "        vertical-align: middle;\n",
              "    }\n",
              "\n",
              "    .dataframe tbody tr th {\n",
              "        vertical-align: top;\n",
              "    }\n",
              "\n",
              "    .dataframe thead th {\n",
              "        text-align: right;\n",
              "    }\n",
              "</style>\n",
              "<table border=\"1\" class=\"dataframe\">\n",
              "  <thead>\n",
              "    <tr style=\"text-align: right;\">\n",
              "      <th></th>\n",
              "      <th>0</th>\n",
              "      <th>1</th>\n",
              "    </tr>\n",
              "  </thead>\n",
              "  <tbody>\n",
              "    <tr>\n",
              "      <th>0</th>\n",
              "      <td>13</td>\n",
              "      <td>It's 6 am and this adderall got me reevaluatin...</td>\n",
              "    </tr>\n",
              "    <tr>\n",
              "      <th>1</th>\n",
              "      <td>24</td>\n",
              "      <td>racing heart</td>\n",
              "    </tr>\n",
              "    <tr>\n",
              "      <th>2</th>\n",
              "      <td>56</td>\n",
              "      <td>persistent painful erection</td>\n",
              "    </tr>\n",
              "    <tr>\n",
              "      <th>3</th>\n",
              "      <td>57</td>\n",
              "      <td>hypertrophic scarring</td>\n",
              "    </tr>\n",
              "    <tr>\n",
              "      <th>4</th>\n",
              "      <td>94</td>\n",
              "      <td>anxiety</td>\n",
              "    </tr>\n",
              "  </tbody>\n",
              "</table>\n",
              "</div>"
            ],
            "text/plain": [
              "    0                                                  1\n",
              "0  13  It's 6 am and this adderall got me reevaluatin...\n",
              "1  24                                       racing heart\n",
              "2  56                        persistent painful erection\n",
              "3  57                              hypertrophic scarring\n",
              "4  94                                            anxiety"
            ]
          },
          "metadata": {
            "tags": []
          },
          "execution_count": 15
        }
      ]
    },
    {
      "cell_type": "code",
      "metadata": {
        "id": "Vo-YNvVYoaH6",
        "outputId": "a1960ad9-fe6f-4c74-cd2e-2879a7921c41",
        "colab": {
          "base_uri": "https://localhost:8080/",
          "height": 17
        }
      },
      "source": [
        "# Creating DataBunch for language modelling\n",
        "\n",
        "data_lm = TextLMDataBunch.from_csv(path, 'TwADR_pubmed.csv')"
      ],
      "execution_count": 16,
      "outputs": [
        {
          "output_type": "display_data",
          "data": {
            "text/html": [
              ""
            ],
            "text/plain": [
              "<IPython.core.display.HTML object>"
            ]
          },
          "metadata": {
            "tags": []
          }
        },
        {
          "output_type": "display_data",
          "data": {
            "text/html": [
              ""
            ],
            "text/plain": [
              "<IPython.core.display.HTML object>"
            ]
          },
          "metadata": {
            "tags": []
          }
        }
      ]
    },
    {
      "cell_type": "code",
      "metadata": {
        "id": "qcV-9kMnNLBf"
      },
      "source": [
        ""
      ],
      "execution_count": 16,
      "outputs": []
    },
    {
      "cell_type": "code",
      "metadata": {
        "id": "1ScY9afDsnvE"
      },
      "source": [
        "# Creating DataBunch for classification\n",
        "\n",
        "# data_clas = TextClasDataBunch.from_df(path, train, valid, test, vocab=data_lm.train_ds.vocab, bs=128)"
      ],
      "execution_count": 17,
      "outputs": []
    },
    {
      "cell_type": "code",
      "metadata": {
        "id": "gzrSdQcvey9p",
        "outputId": "d2303b75-d134-4799-b7ca-b8f6734b2ae2",
        "colab": {
          "base_uri": "https://localhost:8080/",
          "height": 17
        }
      },
      "source": [
        "data_clas = TextClasDataBunch.from_df(path, train, valid, vocab=data_lm.train_ds.vocab, bs=128)"
      ],
      "execution_count": 18,
      "outputs": [
        {
          "output_type": "display_data",
          "data": {
            "text/html": [
              ""
            ],
            "text/plain": [
              "<IPython.core.display.HTML object>"
            ]
          },
          "metadata": {
            "tags": []
          }
        },
        {
          "output_type": "display_data",
          "data": {
            "text/html": [
              ""
            ],
            "text/plain": [
              "<IPython.core.display.HTML object>"
            ]
          },
          "metadata": {
            "tags": []
          }
        }
      ]
    },
    {
      "cell_type": "code",
      "metadata": {
        "id": "MD27Tf0Ke3ou",
        "outputId": "bfe0df39-a951-481d-a513-a67aa1da0108",
        "colab": {
          "base_uri": "https://localhost:8080/",
          "height": 17
        }
      },
      "source": [
        "data_clas.add_test(test,label=0)\n"
      ],
      "execution_count": 19,
      "outputs": [
        {
          "output_type": "display_data",
          "data": {
            "text/html": [
              ""
            ],
            "text/plain": [
              "<IPython.core.display.HTML object>"
            ]
          },
          "metadata": {
            "tags": []
          }
        }
      ]
    },
    {
      "cell_type": "code",
      "metadata": {
        "id": "-dpjnk_rstwk"
      },
      "source": [
        "data_lm.save()\n",
        "data_clas.save()"
      ],
      "execution_count": 20,
      "outputs": []
    },
    {
      "cell_type": "code",
      "metadata": {
        "id": "4OkiJa36sw5s",
        "outputId": "c6ca7a17-a13a-452f-bf23-5c7ccf93f6e7",
        "colab": {
          "base_uri": "https://localhost:8080/"
        }
      },
      "source": [
        "data_lm.train_ds.vocab.itos"
      ],
      "execution_count": 21,
      "outputs": [
        {
          "output_type": "execute_result",
          "data": {
            "text/plain": [
              "['xxunk',\n",
              " 'xxpad',\n",
              " 'xxbos',\n",
              " 'xxeos',\n",
              " 'xxfld',\n",
              " 'xxmaj',\n",
              " 'xxup',\n",
              " 'xxrep',\n",
              " 'xxwrep',\n",
              " 'the',\n",
              " 'of',\n",
              " 'and',\n",
              " 'in',\n",
              " 'to',\n",
              " 'a',\n",
              " 'diclofenac',\n",
              " 'was',\n",
              " 'with',\n",
              " 'were',\n",
              " 'for',\n",
              " 'pain',\n",
              " 'sodium',\n",
              " 'drug',\n",
              " 'by',\n",
              " 'on',\n",
              " 'patients',\n",
              " 'as',\n",
              " 'that',\n",
              " 'is',\n",
              " 'at',\n",
              " 'or',\n",
              " 'mg',\n",
              " 'group',\n",
              " 'increased',\n",
              " 'from',\n",
              " 'mood',\n",
              " 'study',\n",
              " 'this',\n",
              " 'treatment',\n",
              " 'after',\n",
              " 'p',\n",
              " 'release',\n",
              " 'an',\n",
              " 'be',\n",
              " 'disorder',\n",
              " ',',\n",
              " 'me',\n",
              " 'effect',\n",
              " 'i',\n",
              " 'abnormal',\n",
              " 'withdrawal',\n",
              " 'not',\n",
              " 'decreased',\n",
              " 'than',\n",
              " 'compared',\n",
              " 'weight',\n",
              " 'anxiety',\n",
              " 'groups',\n",
              " 'no',\n",
              " 'using',\n",
              " 'are',\n",
              " 'my',\n",
              " 'symptoms',\n",
              " 'effects',\n",
              " 'inflammatory',\n",
              " 'both',\n",
              " 'two',\n",
              " 'drugs',\n",
              " 'significantly',\n",
              " 'significant',\n",
              " 'acute',\n",
              " 'potassium',\n",
              " 'skin',\n",
              " 'anti',\n",
              " 'between',\n",
              " 'day',\n",
              " 'behavior',\n",
              " 'h',\n",
              " 'dose',\n",
              " 'all',\n",
              " 'disorders',\n",
              " 'blood',\n",
              " 'used',\n",
              " 'syndrome',\n",
              " '(',\n",
              " ')',\n",
              " 'time',\n",
              " 'voltaren',\n",
              " 'these',\n",
              " 'placebo',\n",
              " 'results',\n",
              " 'which',\n",
              " 'had',\n",
              " '-',\n",
              " 'efficacy',\n",
              " 'concentration',\n",
              " 'sleeplessness',\n",
              " 'oral',\n",
              " 'have',\n",
              " 'it',\n",
              " 'ds',\n",
              " 'diseases',\n",
              " 'days',\n",
              " 'also',\n",
              " 'treated',\n",
              " 'feeling',\n",
              " 'we',\n",
              " 'more',\n",
              " 'showed',\n",
              " 'ml',\n",
              " 'like',\n",
              " 'topical',\n",
              " 'up',\n",
              " 'administration',\n",
              " 'somnolence',\n",
              " 'different',\n",
              " 'disturbance',\n",
              " 'but',\n",
              " 'finding',\n",
              " 'has',\n",
              " 'sleep',\n",
              " 'one',\n",
              " 'insomnia',\n",
              " 'control',\n",
              " 'c',\n",
              " 'rats',\n",
              " 'energy',\n",
              " 'acid',\n",
              " 'high',\n",
              " 'been',\n",
              " 'non',\n",
              " 'studies',\n",
              " 'got',\n",
              " 'induced',\n",
              " 'plasma',\n",
              " 'respectively',\n",
              " 'clinical',\n",
              " 'hours',\n",
              " 'swelling',\n",
              " 'mental',\n",
              " 'nsaids',\n",
              " 'there',\n",
              " 'during',\n",
              " 'into',\n",
              " 'state',\n",
              " 'formulation',\n",
              " 'mean',\n",
              " 'their',\n",
              " 'method',\n",
              " 'tablets',\n",
              " 'found',\n",
              " 'formulations',\n",
              " 'muscle',\n",
              " 'gain',\n",
              " 'body',\n",
              " 'observed',\n",
              " 'appetite',\n",
              " 'other',\n",
              " 'nausea',\n",
              " 'effective',\n",
              " 's',\n",
              " 'rate',\n",
              " 'low',\n",
              " 'g',\n",
              " 'gel',\n",
              " 'depression',\n",
              " 'disease',\n",
              " 'may',\n",
              " 'use',\n",
              " 'three',\n",
              " 'when',\n",
              " 'its',\n",
              " 'd',\n",
              " 'solution',\n",
              " 'n',\n",
              " 'total',\n",
              " 'received',\n",
              " 'heart',\n",
              " 'ph',\n",
              " 'adverse',\n",
              " 'hyperactive',\n",
              " 'vitro',\n",
              " 'analysis',\n",
              " 'test',\n",
              " 'serum',\n",
              " 'lower',\n",
              " 'irritable',\n",
              " 'over',\n",
              " 'well',\n",
              " 'first',\n",
              " 'attention',\n",
              " 'kg',\n",
              " 'analgesic',\n",
              " 'each',\n",
              " 'drowsiness',\n",
              " 'controlled',\n",
              " 'conditions',\n",
              " 'dizziness',\n",
              " 'atorvastatin',\n",
              " 'activity',\n",
              " 'ceiling',\n",
              " 'reaction',\n",
              " 'out',\n",
              " 'cell',\n",
              " 'levels',\n",
              " 'renal',\n",
              " 'data',\n",
              " 'daily',\n",
              " 'excitability',\n",
              " 'single',\n",
              " 'm',\n",
              " 'awake',\n",
              " 'liver',\n",
              " 'period',\n",
              " 'system',\n",
              " 'concentrations',\n",
              " 'eye',\n",
              " 'feel',\n",
              " 'gastrointestinal',\n",
              " 'panic',\n",
              " 'application',\n",
              " 'headache',\n",
              " 'l',\n",
              " 'level',\n",
              " 'randomized',\n",
              " 'rash',\n",
              " 'feelings',\n",
              " 'evaluated',\n",
              " 'patient',\n",
              " 'however',\n",
              " 'less',\n",
              " 'loss',\n",
              " 'following',\n",
              " 't',\n",
              " 'model',\n",
              " 'depressed',\n",
              " 'surgery',\n",
              " 'tablet',\n",
              " 'double',\n",
              " 'function',\n",
              " 'difference',\n",
              " 'water',\n",
              " 'joint',\n",
              " 'site',\n",
              " 'can',\n",
              " 'reduced',\n",
              " 'obtained',\n",
              " 'inflammation',\n",
              " 'weeks',\n",
              " 'dissolution',\n",
              " 'therapy',\n",
              " 'b',\n",
              " 'arthritis',\n",
              " 'similar',\n",
              " 'nsaid',\n",
              " 'postoperative',\n",
              " 'present',\n",
              " 'injury',\n",
              " 'swings',\n",
              " 'most',\n",
              " 'increase',\n",
              " 'only',\n",
              " 'did',\n",
              " 'associated',\n",
              " 'under',\n",
              " 'higher',\n",
              " 'infection',\n",
              " 'before',\n",
              " 'changes',\n",
              " 'injection',\n",
              " 'bipolar',\n",
              " 'based',\n",
              " 'cells',\n",
              " 'combination',\n",
              " 'initial',\n",
              " 'prepared',\n",
              " 'edema',\n",
              " 'allergic',\n",
              " '#',\n",
              " 'wakefulness',\n",
              " 'week',\n",
              " 'studied',\n",
              " 'pressure',\n",
              " 'response',\n",
              " 'migraine',\n",
              " 'those',\n",
              " 'gastric',\n",
              " 'min',\n",
              " 'due',\n",
              " 'bone',\n",
              " 'trial',\n",
              " \"n't\",\n",
              " 'change',\n",
              " 'nonsteroidal',\n",
              " 'doses',\n",
              " 'administered',\n",
              " 'visual',\n",
              " 'values',\n",
              " 'relief',\n",
              " 'events',\n",
              " 'reported',\n",
              " 'absorption',\n",
              " 'differences',\n",
              " 'vs',\n",
              " 'tissue',\n",
              " 'while',\n",
              " 'ratio',\n",
              " 'corneal',\n",
              " 'ca',\n",
              " 'chronic',\n",
              " 'performed',\n",
              " 'four',\n",
              " 'parameters',\n",
              " 'blind',\n",
              " 'order',\n",
              " 'developed',\n",
              " 'urine',\n",
              " 'investigated',\n",
              " 'subjects',\n",
              " 'dreams',\n",
              " 'fatigue',\n",
              " 'decrease',\n",
              " 'who',\n",
              " 'given',\n",
              " 'abdominal',\n",
              " 'tremor',\n",
              " 'containing',\n",
              " 'breast',\n",
              " 'within',\n",
              " 'could',\n",
              " 'cholesterol',\n",
              " 'properties',\n",
              " 'auc',\n",
              " 'new',\n",
              " 'measured',\n",
              " 'x',\n",
              " 'knee',\n",
              " 'post',\n",
              " 'either',\n",
              " 'side',\n",
              " 'delivery',\n",
              " 'brain',\n",
              " 'reduction',\n",
              " 'assessed',\n",
              " 'number',\n",
              " 'therapeutic',\n",
              " 'attacks',\n",
              " 'failure',\n",
              " 'action',\n",
              " 'safety',\n",
              " 'respiratory',\n",
              " 'times',\n",
              " 'human',\n",
              " 'liquid',\n",
              " 'indomethacin',\n",
              " 'steroidal',\n",
              " 'minutes',\n",
              " 'w',\n",
              " 'such',\n",
              " 'years',\n",
              " 'phase',\n",
              " 'hemorrhage',\n",
              " 'statistically',\n",
              " 'healthy',\n",
              " 'vivo',\n",
              " 'any',\n",
              " 'kidney',\n",
              " 'sustained',\n",
              " 'included',\n",
              " 'oa',\n",
              " 'good',\n",
              " 'stiffness',\n",
              " 'compare',\n",
              " 'k',\n",
              " 'evaluate',\n",
              " 'size',\n",
              " 'medication',\n",
              " 'osteoarthritis',\n",
              " 'attack',\n",
              " 'ng',\n",
              " 'lipitor',\n",
              " 'dependent',\n",
              " 'range',\n",
              " 'e',\n",
              " 'without',\n",
              " 'scale',\n",
              " 'carcinoma',\n",
              " 'applied',\n",
              " 'bioavailability',\n",
              " 'deficit',\n",
              " 'psychotic',\n",
              " 'potential',\n",
              " 'better',\n",
              " 'type',\n",
              " 'dry',\n",
              " 'v',\n",
              " 'through',\n",
              " 'sleepy',\n",
              " 'mm',\n",
              " 'determined',\n",
              " 'samples',\n",
              " 'ulcer',\n",
              " 'our',\n",
              " 'primary',\n",
              " 'tolerability',\n",
              " 'polymer',\n",
              " 'cardiac',\n",
              " 'development',\n",
              " 'local',\n",
              " 'severe',\n",
              " 'active',\n",
              " 'form',\n",
              " 'rage',\n",
              " 'same',\n",
              " 'demonstrated',\n",
              " 'related',\n",
              " 'greater',\n",
              " 'matrix',\n",
              " 'normal',\n",
              " 'baseline',\n",
              " 'eyes',\n",
              " 'taste',\n",
              " 'ii',\n",
              " 'male',\n",
              " 'products',\n",
              " 'hour',\n",
              " 'process',\n",
              " 'makes',\n",
              " 'so',\n",
              " 'numbness',\n",
              " 'addition',\n",
              " 'discomfort',\n",
              " 'aim',\n",
              " 'coated',\n",
              " 'scores',\n",
              " 'wide',\n",
              " 'they',\n",
              " 'na',\n",
              " 'sweating',\n",
              " 'infections',\n",
              " 'middle',\n",
              " 'stomach',\n",
              " 'treatments',\n",
              " 'randomly',\n",
              " 'volunteers',\n",
              " 'suggest',\n",
              " 'tired',\n",
              " 'night',\n",
              " 'alone',\n",
              " 'mice',\n",
              " 'asleep',\n",
              " 'vomiting',\n",
              " 'secondary',\n",
              " 'per',\n",
              " 'end',\n",
              " 'inhibition',\n",
              " 'daytime',\n",
              " 'aqueous',\n",
              " 'cox',\n",
              " 'area',\n",
              " 'temperature',\n",
              " 'about',\n",
              " 'very',\n",
              " 'presence',\n",
              " 'mechanism',\n",
              " 'rheumatoid',\n",
              " 'pulmonary',\n",
              " 'difficulty',\n",
              " 'indicated',\n",
              " 'risk',\n",
              " 'revealed',\n",
              " 'dermatitis',\n",
              " 'cancer',\n",
              " 'improvement',\n",
              " 'cases',\n",
              " 'multiple',\n",
              " 'relative',\n",
              " 'shown',\n",
              " 'formation',\n",
              " 'sensation',\n",
              " 'free',\n",
              " 'various',\n",
              " 'early',\n",
              " 'permeation',\n",
              " 'systemic',\n",
              " 'f',\n",
              " 'agent',\n",
              " 'cerebral',\n",
              " 'aggravated',\n",
              " 'exposure',\n",
              " 'standard',\n",
              " 'dosage',\n",
              " 'whereas',\n",
              " 'prolonged',\n",
              " 'hypertension',\n",
              " 'intensity',\n",
              " 'still',\n",
              " 'available',\n",
              " 'ibuprofen',\n",
              " 'inhibitor',\n",
              " 'ocular',\n",
              " 'months',\n",
              " 'peak',\n",
              " 'anger',\n",
              " 'agents',\n",
              " 'trials',\n",
              " 'vas',\n",
              " 'animals',\n",
              " 'some',\n",
              " 'divided',\n",
              " 'vehicle',\n",
              " 'dependence',\n",
              " 'score',\n",
              " 'hallucinations',\n",
              " 'damage',\n",
              " 'including',\n",
              " 'facial',\n",
              " 'fluid',\n",
              " 'distress',\n",
              " 'quality',\n",
              " 'rat',\n",
              " 'moderate',\n",
              " 'conducted',\n",
              " 'localised',\n",
              " 'cataract',\n",
              " 'suicidal',\n",
              " 'being',\n",
              " 'six',\n",
              " 'sleepiness',\n",
              " 'followed',\n",
              " 'although',\n",
              " 'dysfunction',\n",
              " 'disturbances',\n",
              " 'zombie',\n",
              " 'further',\n",
              " 'hepatic',\n",
              " 'evaluation',\n",
              " 'onset',\n",
              " 'pharmacokinetic',\n",
              " 'experimental',\n",
              " 'rapid',\n",
              " 'case',\n",
              " 'combined',\n",
              " 'elevated',\n",
              " 'urinary',\n",
              " 'alcohol',\n",
              " 'amount',\n",
              " 'complex',\n",
              " 'calcium',\n",
              " 'anemia',\n",
              " 'produced',\n",
              " 'vascular',\n",
              " 'profiles',\n",
              " \"'m\",\n",
              " 'age',\n",
              " 'irritation',\n",
              " 'improved',\n",
              " 'complete',\n",
              " 'female',\n",
              " 'necrosis',\n",
              " 'depressive',\n",
              " 'common',\n",
              " 'cm',\n",
              " 'down',\n",
              " 'should',\n",
              " 'term',\n",
              " 'determine',\n",
              " 'protein',\n",
              " 'versus',\n",
              " 'maximum',\n",
              " 'cmax',\n",
              " 'exhaustion',\n",
              " 'resulted',\n",
              " 'painful',\n",
              " 'product',\n",
              " 'among',\n",
              " 'enteric',\n",
              " 'profile',\n",
              " 'caused',\n",
              " 'lesions',\n",
              " 'solid',\n",
              " 'depersonalization',\n",
              " 'tract',\n",
              " 'participants',\n",
              " 'tolerated',\n",
              " 'evidence',\n",
              " 'growth',\n",
              " 'analgesia',\n",
              " 'mild',\n",
              " 'beads',\n",
              " 'density',\n",
              " 'social',\n",
              " 'flow',\n",
              " 'old',\n",
              " 'nightmares',\n",
              " 'o',\n",
              " 'oedema',\n",
              " 'then',\n",
              " 'dizzy',\n",
              " 'pharmaceutical',\n",
              " 'overall',\n",
              " 'chest',\n",
              " 'physical',\n",
              " 'glucose',\n",
              " 'impairment',\n",
              " 'five',\n",
              " 'death',\n",
              " 'compulsive',\n",
              " 'tested',\n",
              " 'efficiency',\n",
              " 'synthesis',\n",
              " 'misoprostol',\n",
              " 'cross',\n",
              " 'naproxen',\n",
              " 'th',\n",
              " 'microspheres',\n",
              " 'content',\n",
              " 'aspirin',\n",
              " 'performance',\n",
              " 'volume',\n",
              " 'ci',\n",
              " 'flare',\n",
              " 'rofecoxib',\n",
              " 'surface',\n",
              " 'reference',\n",
              " 'according',\n",
              " 'toxicity',\n",
              " 'need',\n",
              " 'because',\n",
              " 'review',\n",
              " 'seizures',\n",
              " 'nervous',\n",
              " 'models',\n",
              " 'achieved',\n",
              " 'diabetic',\n",
              " 'peripheral',\n",
              " 'major',\n",
              " 'diffusion',\n",
              " 'vivid',\n",
              " 'technique',\n",
              " 'extent',\n",
              " 'characterized',\n",
              " 'carried',\n",
              " 'paracetamol',\n",
              " 'intestinal',\n",
              " 'production',\n",
              " 'face',\n",
              " 'injuries',\n",
              " 'third',\n",
              " 'membrane',\n",
              " 'bite',\n",
              " 'withdrawals',\n",
              " 'preparation',\n",
              " 'result',\n",
              " 'erythema',\n",
              " 'arrest',\n",
              " 'pruritus',\n",
              " 'ventricular',\n",
              " 'spasm',\n",
              " 'year',\n",
              " 'degrees',\n",
              " 'investigate',\n",
              " 'expression',\n",
              " 'localized',\n",
              " 'least',\n",
              " 'vision',\n",
              " 'comparison',\n",
              " 'eating',\n",
              " 'examined',\n",
              " 'cd',\n",
              " 'thus',\n",
              " 'methods',\n",
              " 'duration',\n",
              " 'commercial',\n",
              " 'diabetes',\n",
              " 'saline',\n",
              " 'recorded',\n",
              " 'foot',\n",
              " 'care',\n",
              " 'patch',\n",
              " 'creatinine',\n",
              " 'memory',\n",
              " 'interaction',\n",
              " 'medications',\n",
              " 'delayed',\n",
              " 'positive',\n",
              " 'fever',\n",
              " 'once',\n",
              " 'long',\n",
              " 'pellets',\n",
              " 'emotional',\n",
              " 'assessment',\n",
              " 'every',\n",
              " 'therefore',\n",
              " 'novel',\n",
              " 'increasing',\n",
              " 'pre',\n",
              " 'superior',\n",
              " 'second',\n",
              " 'tolerance',\n",
              " 'considered',\n",
              " 'incidence',\n",
              " 'asthma',\n",
              " 'comparable',\n",
              " 'uterine',\n",
              " 'made',\n",
              " 'indicate',\n",
              " 'lack',\n",
              " 'enzyme',\n",
              " 'shoulder',\n",
              " 'value',\n",
              " 'upper',\n",
              " 'prostaglandin',\n",
              " 'microg',\n",
              " 'phosphate',\n",
              " 'inhibitors',\n",
              " 'degree',\n",
              " 'possible',\n",
              " 'neoplasm',\n",
              " 'hunger',\n",
              " 'inhibited',\n",
              " 'max',\n",
              " 'medium',\n",
              " 'adderall',\n",
              " 'global',\n",
              " 'determination',\n",
              " 'antiinflammatory',\n",
              " 'influence',\n",
              " 'specific',\n",
              " 'interactions',\n",
              " 'impaired',\n",
              " 'if',\n",
              " 'count',\n",
              " 'index',\n",
              " 'back',\n",
              " 'drowsy',\n",
              " 'capsules',\n",
              " 'work',\n",
              " 'life',\n",
              " 'stress',\n",
              " 'dic',\n",
              " 'receiving',\n",
              " 'cardiovascular',\n",
              " 'detection',\n",
              " 'abuse',\n",
              " 'ache',\n",
              " 'beta',\n",
              " 'current',\n",
              " 'activities',\n",
              " 'nm',\n",
              " 'alpha',\n",
              " 'responses',\n",
              " 'plus',\n",
              " 'factor',\n",
              " 'rates',\n",
              " 'lung',\n",
              " 'show',\n",
              " 'taking',\n",
              " 'cramps',\n",
              " 'intoxication',\n",
              " 'solubility',\n",
              " 'loaded',\n",
              " 'euphoric',\n",
              " 'cold',\n",
              " 'rabbits',\n",
              " 'lipid',\n",
              " 'hplc',\n",
              " 'tooth',\n",
              " 'clinically',\n",
              " 'clearance',\n",
              " 'sensitive',\n",
              " 'outcome',\n",
              " 'assess',\n",
              " 'provided',\n",
              " 'analyzed',\n",
              " 'small',\n",
              " 'design',\n",
              " 'intramuscular',\n",
              " 'bulimia',\n",
              " 'obsessive',\n",
              " 'preparations',\n",
              " 'findings',\n",
              " 'drops',\n",
              " 'tissues',\n",
              " 'transdermal',\n",
              " 'highly',\n",
              " 'way',\n",
              " 'de',\n",
              " 'r',\n",
              " 'ketorolac',\n",
              " 'extraction',\n",
              " 'simple',\n",
              " 'candidiasis',\n",
              " 'ldl',\n",
              " 'cream',\n",
              " 'obstruction',\n",
              " 'fear',\n",
              " 'sexual',\n",
              " 'exhibited',\n",
              " 'food',\n",
              " 'co',\n",
              " 'kinetics',\n",
              " 'you',\n",
              " 'health',\n",
              " 'tests',\n",
              " 'research',\n",
              " 'characteristics',\n",
              " 'malignant',\n",
              " 'affect',\n",
              " 'tongue',\n",
              " 'episode',\n",
              " 'diet',\n",
              " 'consciousness',\n",
              " 'cutaneous',\n",
              " 'thirst',\n",
              " 'against',\n",
              " 'provide',\n",
              " 'chitosan',\n",
              " 'enhanced',\n",
              " 'nasal',\n",
              " 'eudragit',\n",
              " 'important',\n",
              " 'mass',\n",
              " 'buffer',\n",
              " 'media',\n",
              " 'nerve',\n",
              " 'block',\n",
              " 'even',\n",
              " 'terms',\n",
              " 'reduce',\n",
              " 'nauseous',\n",
              " 'forms',\n",
              " 'open',\n",
              " 'genital',\n",
              " 'crazy',\n",
              " 'central',\n",
              " 'several',\n",
              " 'pge',\n",
              " 'across',\n",
              " 'solutions',\n",
              " 'tenderness',\n",
              " 'partial',\n",
              " 'structure',\n",
              " 'capsule',\n",
              " 'your',\n",
              " 'lesion',\n",
              " 'aged',\n",
              " 'urticaria',\n",
              " 'will',\n",
              " 'hepatitis',\n",
              " 'bleeding',\n",
              " 'sr',\n",
              " 'hand',\n",
              " 'lipoprotein',\n",
              " 'modified',\n",
              " 'arthropod',\n",
              " 'objective',\n",
              " 'lightheadedness',\n",
              " 'coronary',\n",
              " 'right',\n",
              " 'substance',\n",
              " 'erection',\n",
              " 'fractures',\n",
              " 'arterial',\n",
              " 'tingling',\n",
              " 'twice',\n",
              " 'sweat',\n",
              " 'crossover',\n",
              " 'ophthalmic',\n",
              " 'laboratory',\n",
              " 'women',\n",
              " 'cause',\n",
              " 'whether',\n",
              " 'ability',\n",
              " 'ear',\n",
              " 'ak',\n",
              " 'laser',\n",
              " 'additional',\n",
              " 'soft',\n",
              " 'analgesics',\n",
              " 'artery',\n",
              " 'hurt',\n",
              " 'do',\n",
              " 'much',\n",
              " 'known',\n",
              " 'cs',\n",
              " 'released',\n",
              " 'personality',\n",
              " 'systems',\n",
              " 'acetaminophen',\n",
              " 'short',\n",
              " 'musculoskeletal',\n",
              " 'steroid',\n",
              " 'analogue',\n",
              " 'randomised',\n",
              " 'chemical',\n",
              " 'particle',\n",
              " 'hungry',\n",
              " 'movement',\n",
              " 'management',\n",
              " 'symptom',\n",
              " 'animal',\n",
              " 'traumatic',\n",
              " 'occurred',\n",
              " 'large',\n",
              " 'required',\n",
              " 'neoplasms',\n",
              " 'receive',\n",
              " 'alternative',\n",
              " 'hpmc',\n",
              " 'dpsgc',\n",
              " 'get',\n",
              " 'point',\n",
              " 'sneezing',\n",
              " 'since',\n",
              " 'collagen',\n",
              " 'zero',\n",
              " 'general',\n",
              " 'hp',\n",
              " 'excretion',\n",
              " 'percentage',\n",
              " 'penetration',\n",
              " 'faster',\n",
              " 'intake',\n",
              " 'pattern',\n",
              " 'stability',\n",
              " 'electrocardiogram',\n",
              " 'celecoxib',\n",
              " 'cyclooxygenase',\n",
              " 'excessive',\n",
              " 'examination',\n",
              " 'altered',\n",
              " 'average',\n",
              " 'confirmed',\n",
              " 'cambia',\n",
              " 'colitis',\n",
              " 'thinking',\n",
              " 'assigned',\n",
              " 'binding',\n",
              " 'bacterial',\n",
              " 'ejaculation',\n",
              " 'microm',\n",
              " 'status',\n",
              " 'reducing',\n",
              " 'absence',\n",
              " 'tmax',\n",
              " 'libido',\n",
              " 'diarrhea',\n",
              " 'procedure',\n",
              " 'effectiveness',\n",
              " 'oil',\n",
              " 'salt',\n",
              " 'seen',\n",
              " 'limit',\n",
              " 'experiments',\n",
              " 'designed',\n",
              " 'adult',\n",
              " 'muscular',\n",
              " 'loading',\n",
              " 'hr',\n",
              " 'serious',\n",
              " 'follow',\n",
              " 'nail',\n",
              " 'speech',\n",
              " 'metabolism',\n",
              " 'limb',\n",
              " 'pneumonia',\n",
              " 'selective',\n",
              " 'does',\n",
              " 'curve',\n",
              " 'collected',\n",
              " 'eight',\n",
              " 'orally',\n",
              " 'percent',\n",
              " 'metastatic',\n",
              " 'tendency',\n",
              " 'fracture',\n",
              " 'il',\n",
              " 'insufficiency',\n",
              " 'interest',\n",
              " 'target',\n",
              " 'fast',\n",
              " 'prior',\n",
              " 'activation',\n",
              " 'variables',\n",
              " 'paranoid',\n",
              " 'direct',\n",
              " 'interval',\n",
              " 'df',\n",
              " 'independent',\n",
              " 'dosing',\n",
              " 'lens',\n",
              " 'gi',\n",
              " 'seven',\n",
              " 'molecular',\n",
              " 'whole',\n",
              " 'intraocular',\n",
              " 'fall',\n",
              " 'aes',\n",
              " 'colic',\n",
              " ...]"
            ]
          },
          "metadata": {
            "tags": []
          },
          "execution_count": 21
        }
      ]
    },
    {
      "cell_type": "code",
      "metadata": {
        "id": "yPWr03mls3VT",
        "outputId": "260e33be-1027-4bdd-9b52-c6845e73df6a",
        "colab": {
          "base_uri": "https://localhost:8080/",
          "height": 17
        }
      },
      "source": [
        "model_path = path/'models'\n",
        "model_path.mkdir(exist_ok=True)\n",
        "url = 'http://files.fast.ai/models/wt103_v1/'\n",
        "download_url(f'{url}lstm_wt103.pth', model_path/'lstm_wt103.pth')\n",
        "download_url(f'{url}itos_wt103.pkl', model_path/'itos_wt103.pkl')"
      ],
      "execution_count": 22,
      "outputs": [
        {
          "output_type": "display_data",
          "data": {
            "text/html": [
              ""
            ],
            "text/plain": [
              "<IPython.core.display.HTML object>"
            ]
          },
          "metadata": {
            "tags": []
          }
        },
        {
          "output_type": "display_data",
          "data": {
            "text/html": [
              ""
            ],
            "text/plain": [
              "<IPython.core.display.HTML object>"
            ]
          },
          "metadata": {
            "tags": []
          }
        }
      ]
    },
    {
      "cell_type": "code",
      "metadata": {
        "id": "JRzvWg8RtGGr",
        "outputId": "e422fbf8-f552-402d-d38b-f4349f668772",
        "colab": {
          "base_uri": "https://localhost:8080/",
          "height": 34
        }
      },
      "source": [
        "learn = language_model_learner(data_lm, AWD_LSTM, drop_mult=0.5)"
      ],
      "execution_count": 23,
      "outputs": [
        {
          "output_type": "stream",
          "text": [
            "Downloading https://s3.amazonaws.com/fast-ai-modelzoo/wt103-fwd.tgz\n"
          ],
          "name": "stdout"
        },
        {
          "output_type": "display_data",
          "data": {
            "text/html": [
              ""
            ],
            "text/plain": [
              "<IPython.core.display.HTML object>"
            ]
          },
          "metadata": {
            "tags": []
          }
        }
      ]
    },
    {
      "cell_type": "code",
      "metadata": {
        "id": "xKK7GeBev7Xn",
        "outputId": "6c811ff6-b245-4ece-bfe1-8fa3c01634ce",
        "colab": {
          "base_uri": "https://localhost:8080/",
          "height": 80
        }
      },
      "source": [
        "learn.fit_one_cycle(1, 1e-2)"
      ],
      "execution_count": 24,
      "outputs": [
        {
          "output_type": "display_data",
          "data": {
            "text/html": [
              "<table border=\"1\" class=\"dataframe\">\n",
              "  <thead>\n",
              "    <tr style=\"text-align: left;\">\n",
              "      <th>epoch</th>\n",
              "      <th>train_loss</th>\n",
              "      <th>valid_loss</th>\n",
              "      <th>accuracy</th>\n",
              "      <th>time</th>\n",
              "    </tr>\n",
              "  </thead>\n",
              "  <tbody>\n",
              "    <tr>\n",
              "      <td>0</td>\n",
              "      <td>4.836865</td>\n",
              "      <td>4.228076</td>\n",
              "      <td>0.345810</td>\n",
              "      <td>58:13</td>\n",
              "    </tr>\n",
              "  </tbody>\n",
              "</table>"
            ],
            "text/plain": [
              "<IPython.core.display.HTML object>"
            ]
          },
          "metadata": {
            "tags": []
          }
        }
      ]
    },
    {
      "cell_type": "code",
      "metadata": {
        "id": "iB7rHGQCwd12",
        "outputId": "567bbfc2-1035-4ae6-d187-cfd31a37abec",
        "colab": {
          "base_uri": "https://localhost:8080/",
          "height": 80
        }
      },
      "source": [
        "learn.fit_one_cycle(1, 1e-2)"
      ],
      "execution_count": 25,
      "outputs": [
        {
          "output_type": "display_data",
          "data": {
            "text/html": [
              "<table border=\"1\" class=\"dataframe\">\n",
              "  <thead>\n",
              "    <tr style=\"text-align: left;\">\n",
              "      <th>epoch</th>\n",
              "      <th>train_loss</th>\n",
              "      <th>valid_loss</th>\n",
              "      <th>accuracy</th>\n",
              "      <th>time</th>\n",
              "    </tr>\n",
              "  </thead>\n",
              "  <tbody>\n",
              "    <tr>\n",
              "      <td>0</td>\n",
              "      <td>4.015906</td>\n",
              "      <td>3.831921</td>\n",
              "      <td>0.381757</td>\n",
              "      <td>59:14</td>\n",
              "    </tr>\n",
              "  </tbody>\n",
              "</table>"
            ],
            "text/plain": [
              "<IPython.core.display.HTML object>"
            ]
          },
          "metadata": {
            "tags": []
          }
        }
      ]
    },
    {
      "cell_type": "code",
      "metadata": {
        "id": "_BnSuAeCwkBe",
        "outputId": "184d33c7-bc25-46f3-8dbb-0316a20b80b3",
        "colab": {
          "base_uri": "https://localhost:8080/",
          "height": 80
        }
      },
      "source": [
        "learn.fit_one_cycle(1, 1e-3)"
      ],
      "execution_count": 26,
      "outputs": [
        {
          "output_type": "display_data",
          "data": {
            "text/html": [
              "<table border=\"1\" class=\"dataframe\">\n",
              "  <thead>\n",
              "    <tr style=\"text-align: left;\">\n",
              "      <th>epoch</th>\n",
              "      <th>train_loss</th>\n",
              "      <th>valid_loss</th>\n",
              "      <th>accuracy</th>\n",
              "      <th>time</th>\n",
              "    </tr>\n",
              "  </thead>\n",
              "  <tbody>\n",
              "    <tr>\n",
              "      <td>0</td>\n",
              "      <td>3.739721</td>\n",
              "      <td>3.787857</td>\n",
              "      <td>0.385723</td>\n",
              "      <td>59:21</td>\n",
              "    </tr>\n",
              "  </tbody>\n",
              "</table>"
            ],
            "text/plain": [
              "<IPython.core.display.HTML object>"
            ]
          },
          "metadata": {
            "tags": []
          }
        }
      ]
    },
    {
      "cell_type": "code",
      "metadata": {
        "id": "MuTm-RFjwrEX",
        "outputId": "7a8227e5-a7a2-4352-d9aa-f65e955c282e",
        "colab": {
          "base_uri": "https://localhost:8080/",
          "height": 80
        }
      },
      "source": [
        "learn.fit_one_cycle(1, 1e-3)"
      ],
      "execution_count": 27,
      "outputs": [
        {
          "output_type": "display_data",
          "data": {
            "text/html": [
              "<table border=\"1\" class=\"dataframe\">\n",
              "  <thead>\n",
              "    <tr style=\"text-align: left;\">\n",
              "      <th>epoch</th>\n",
              "      <th>train_loss</th>\n",
              "      <th>valid_loss</th>\n",
              "      <th>accuracy</th>\n",
              "      <th>time</th>\n",
              "    </tr>\n",
              "  </thead>\n",
              "  <tbody>\n",
              "    <tr>\n",
              "      <td>0</td>\n",
              "      <td>3.678107</td>\n",
              "      <td>3.753765</td>\n",
              "      <td>0.389354</td>\n",
              "      <td>58:54</td>\n",
              "    </tr>\n",
              "  </tbody>\n",
              "</table>"
            ],
            "text/plain": [
              "<IPython.core.display.HTML object>"
            ]
          },
          "metadata": {
            "tags": []
          }
        }
      ]
    },
    {
      "cell_type": "code",
      "metadata": {
        "id": "1Er2ExO8wr7Y"
      },
      "source": [
        "learn.save_encoder('TwADR_pubmed_fold2_first')"
      ],
      "execution_count": 28,
      "outputs": []
    },
    {
      "cell_type": "code",
      "metadata": {
        "id": "z52cZs2qwvad",
        "outputId": "5ce6250f-7c7e-43dd-e1e2-f9b3de2c1c2a",
        "colab": {
          "base_uri": "https://localhost:8080/",
          "height": 80
        }
      },
      "source": [
        "learn = text_classifier_learner(data_clas,AWD_LSTM, drop_mult=0.5)\n",
        "learn.load_encoder('TwADR_pubmed_fold2_first')\n",
        "learn.fit_one_cycle(1, 1e-2)"
      ],
      "execution_count": 29,
      "outputs": [
        {
          "output_type": "display_data",
          "data": {
            "text/html": [
              "<table border=\"1\" class=\"dataframe\">\n",
              "  <thead>\n",
              "    <tr style=\"text-align: left;\">\n",
              "      <th>epoch</th>\n",
              "      <th>train_loss</th>\n",
              "      <th>valid_loss</th>\n",
              "      <th>accuracy</th>\n",
              "      <th>time</th>\n",
              "    </tr>\n",
              "  </thead>\n",
              "  <tbody>\n",
              "    <tr>\n",
              "      <td>0</td>\n",
              "      <td>7.199482</td>\n",
              "      <td>6.566236</td>\n",
              "      <td>0.078571</td>\n",
              "      <td>01:19</td>\n",
              "    </tr>\n",
              "  </tbody>\n",
              "</table>"
            ],
            "text/plain": [
              "<IPython.core.display.HTML object>"
            ]
          },
          "metadata": {
            "tags": []
          }
        }
      ]
    },
    {
      "cell_type": "code",
      "metadata": {
        "id": "ImwQP1PJwzxd",
        "outputId": "ea0b25db-6f7e-4c7f-a334-1156b34d0c71",
        "colab": {
          "base_uri": "https://localhost:8080/",
          "height": 80
        }
      },
      "source": [
        "learn.freeze_to(-2)\n",
        "learn.fit_one_cycle(1, slice(5e-3/2., 5e-3))"
      ],
      "execution_count": 30,
      "outputs": [
        {
          "output_type": "display_data",
          "data": {
            "text/html": [
              "<table border=\"1\" class=\"dataframe\">\n",
              "  <thead>\n",
              "    <tr style=\"text-align: left;\">\n",
              "      <th>epoch</th>\n",
              "      <th>train_loss</th>\n",
              "      <th>valid_loss</th>\n",
              "      <th>accuracy</th>\n",
              "      <th>time</th>\n",
              "    </tr>\n",
              "  </thead>\n",
              "  <tbody>\n",
              "    <tr>\n",
              "      <td>0</td>\n",
              "      <td>6.261480</td>\n",
              "      <td>5.557024</td>\n",
              "      <td>0.092857</td>\n",
              "      <td>01:24</td>\n",
              "    </tr>\n",
              "  </tbody>\n",
              "</table>"
            ],
            "text/plain": [
              "<IPython.core.display.HTML object>"
            ]
          },
          "metadata": {
            "tags": []
          }
        }
      ]
    },
    {
      "cell_type": "code",
      "metadata": {
        "id": "Owff_BJXw53u",
        "outputId": "0cde8df8-5326-4ba4-b13b-7534fa2fc8f6",
        "colab": {
          "base_uri": "https://localhost:8080/",
          "height": 80
        }
      },
      "source": [
        "learn.unfreeze()\n",
        "learn.fit_one_cycle(1, slice(2e-3/100, 2e-3))"
      ],
      "execution_count": 31,
      "outputs": [
        {
          "output_type": "display_data",
          "data": {
            "text/html": [
              "<table border=\"1\" class=\"dataframe\">\n",
              "  <thead>\n",
              "    <tr style=\"text-align: left;\">\n",
              "      <th>epoch</th>\n",
              "      <th>train_loss</th>\n",
              "      <th>valid_loss</th>\n",
              "      <th>accuracy</th>\n",
              "      <th>time</th>\n",
              "    </tr>\n",
              "  </thead>\n",
              "  <tbody>\n",
              "    <tr>\n",
              "      <td>0</td>\n",
              "      <td>5.702356</td>\n",
              "      <td>5.199523</td>\n",
              "      <td>0.121429</td>\n",
              "      <td>03:04</td>\n",
              "    </tr>\n",
              "  </tbody>\n",
              "</table>"
            ],
            "text/plain": [
              "<IPython.core.display.HTML object>"
            ]
          },
          "metadata": {
            "tags": []
          }
        }
      ]
    },
    {
      "cell_type": "code",
      "metadata": {
        "id": "lqAyu56V8Waq",
        "outputId": "168da886-17bf-4fe8-b1b1-134b7aa40857",
        "colab": {
          "base_uri": "https://localhost:8080/",
          "height": 111
        }
      },
      "source": [
        "learn.fit_one_cycle(2, slice(2e-3/100, 2e-3))"
      ],
      "execution_count": 32,
      "outputs": [
        {
          "output_type": "display_data",
          "data": {
            "text/html": [
              "<table border=\"1\" class=\"dataframe\">\n",
              "  <thead>\n",
              "    <tr style=\"text-align: left;\">\n",
              "      <th>epoch</th>\n",
              "      <th>train_loss</th>\n",
              "      <th>valid_loss</th>\n",
              "      <th>accuracy</th>\n",
              "      <th>time</th>\n",
              "    </tr>\n",
              "  </thead>\n",
              "  <tbody>\n",
              "    <tr>\n",
              "      <td>0</td>\n",
              "      <td>5.409135</td>\n",
              "      <td>4.722571</td>\n",
              "      <td>0.192857</td>\n",
              "      <td>03:17</td>\n",
              "    </tr>\n",
              "    <tr>\n",
              "      <td>1</td>\n",
              "      <td>5.167701</td>\n",
              "      <td>4.568894</td>\n",
              "      <td>0.214286</td>\n",
              "      <td>03:20</td>\n",
              "    </tr>\n",
              "  </tbody>\n",
              "</table>"
            ],
            "text/plain": [
              "<IPython.core.display.HTML object>"
            ]
          },
          "metadata": {
            "tags": []
          }
        }
      ]
    },
    {
      "cell_type": "code",
      "metadata": {
        "id": "a7I1xMRp8bUd",
        "outputId": "4d61bcfc-a568-4a2c-d438-579c45696ee9",
        "colab": {
          "base_uri": "https://localhost:8080/",
          "height": 111
        }
      },
      "source": [
        "learn.fit_one_cycle(2, slice(2e-3/100, 2e-3))"
      ],
      "execution_count": 33,
      "outputs": [
        {
          "output_type": "display_data",
          "data": {
            "text/html": [
              "<table border=\"1\" class=\"dataframe\">\n",
              "  <thead>\n",
              "    <tr style=\"text-align: left;\">\n",
              "      <th>epoch</th>\n",
              "      <th>train_loss</th>\n",
              "      <th>valid_loss</th>\n",
              "      <th>accuracy</th>\n",
              "      <th>time</th>\n",
              "    </tr>\n",
              "  </thead>\n",
              "  <tbody>\n",
              "    <tr>\n",
              "      <td>0</td>\n",
              "      <td>4.931015</td>\n",
              "      <td>4.382425</td>\n",
              "      <td>0.214286</td>\n",
              "      <td>03:15</td>\n",
              "    </tr>\n",
              "    <tr>\n",
              "      <td>1</td>\n",
              "      <td>4.750274</td>\n",
              "      <td>4.298354</td>\n",
              "      <td>0.221429</td>\n",
              "      <td>03:16</td>\n",
              "    </tr>\n",
              "  </tbody>\n",
              "</table>"
            ],
            "text/plain": [
              "<IPython.core.display.HTML object>"
            ]
          },
          "metadata": {
            "tags": []
          }
        }
      ]
    },
    {
      "cell_type": "code",
      "metadata": {
        "id": "UAnti-XmGVfO",
        "outputId": "5d694cf8-5ece-4cd2-e9e5-408843771984",
        "colab": {
          "base_uri": "https://localhost:8080/",
          "height": 111
        }
      },
      "source": [
        "learn.fit_one_cycle(2, slice(2e-3/100, 2e-3))"
      ],
      "execution_count": 34,
      "outputs": [
        {
          "output_type": "display_data",
          "data": {
            "text/html": [
              "<table border=\"1\" class=\"dataframe\">\n",
              "  <thead>\n",
              "    <tr style=\"text-align: left;\">\n",
              "      <th>epoch</th>\n",
              "      <th>train_loss</th>\n",
              "      <th>valid_loss</th>\n",
              "      <th>accuracy</th>\n",
              "      <th>time</th>\n",
              "    </tr>\n",
              "  </thead>\n",
              "  <tbody>\n",
              "    <tr>\n",
              "      <td>0</td>\n",
              "      <td>4.558293</td>\n",
              "      <td>4.124784</td>\n",
              "      <td>0.250000</td>\n",
              "      <td>03:19</td>\n",
              "    </tr>\n",
              "    <tr>\n",
              "      <td>1</td>\n",
              "      <td>4.369778</td>\n",
              "      <td>4.063530</td>\n",
              "      <td>0.257143</td>\n",
              "      <td>03:07</td>\n",
              "    </tr>\n",
              "  </tbody>\n",
              "</table>"
            ],
            "text/plain": [
              "<IPython.core.display.HTML object>"
            ]
          },
          "metadata": {
            "tags": []
          }
        }
      ]
    },
    {
      "cell_type": "code",
      "metadata": {
        "id": "bIft7W25GwSu",
        "outputId": "77cbba9c-326d-45f9-8f14-400378dc017f",
        "colab": {
          "base_uri": "https://localhost:8080/",
          "height": 111
        }
      },
      "source": [
        "learn.fit_one_cycle(2, slice(2e-3/100, 2e-3))"
      ],
      "execution_count": 35,
      "outputs": [
        {
          "output_type": "display_data",
          "data": {
            "text/html": [
              "<table border=\"1\" class=\"dataframe\">\n",
              "  <thead>\n",
              "    <tr style=\"text-align: left;\">\n",
              "      <th>epoch</th>\n",
              "      <th>train_loss</th>\n",
              "      <th>valid_loss</th>\n",
              "      <th>accuracy</th>\n",
              "      <th>time</th>\n",
              "    </tr>\n",
              "  </thead>\n",
              "  <tbody>\n",
              "    <tr>\n",
              "      <td>0</td>\n",
              "      <td>4.154916</td>\n",
              "      <td>3.991494</td>\n",
              "      <td>0.271429</td>\n",
              "      <td>03:23</td>\n",
              "    </tr>\n",
              "    <tr>\n",
              "      <td>1</td>\n",
              "      <td>4.004797</td>\n",
              "      <td>3.942941</td>\n",
              "      <td>0.285714</td>\n",
              "      <td>03:18</td>\n",
              "    </tr>\n",
              "  </tbody>\n",
              "</table>"
            ],
            "text/plain": [
              "<IPython.core.display.HTML object>"
            ]
          },
          "metadata": {
            "tags": []
          }
        }
      ]
    },
    {
      "cell_type": "code",
      "metadata": {
        "id": "EEHszVRvGyFt",
        "outputId": "95313901-0026-4ae2-e411-11e091b3a7e4",
        "colab": {
          "base_uri": "https://localhost:8080/",
          "height": 111
        }
      },
      "source": [
        "learn.fit_one_cycle(2, slice(2e-3/100, 2e-3))"
      ],
      "execution_count": 36,
      "outputs": [
        {
          "output_type": "display_data",
          "data": {
            "text/html": [
              "<table border=\"1\" class=\"dataframe\">\n",
              "  <thead>\n",
              "    <tr style=\"text-align: left;\">\n",
              "      <th>epoch</th>\n",
              "      <th>train_loss</th>\n",
              "      <th>valid_loss</th>\n",
              "      <th>accuracy</th>\n",
              "      <th>time</th>\n",
              "    </tr>\n",
              "  </thead>\n",
              "  <tbody>\n",
              "    <tr>\n",
              "      <td>0</td>\n",
              "      <td>3.858638</td>\n",
              "      <td>3.807827</td>\n",
              "      <td>0.292857</td>\n",
              "      <td>03:06</td>\n",
              "    </tr>\n",
              "    <tr>\n",
              "      <td>1</td>\n",
              "      <td>3.704192</td>\n",
              "      <td>3.701417</td>\n",
              "      <td>0.314286</td>\n",
              "      <td>03:07</td>\n",
              "    </tr>\n",
              "  </tbody>\n",
              "</table>"
            ],
            "text/plain": [
              "<IPython.core.display.HTML object>"
            ]
          },
          "metadata": {
            "tags": []
          }
        }
      ]
    },
    {
      "cell_type": "code",
      "metadata": {
        "id": "XsHfrhCHG3dN",
        "outputId": "06a716e6-561e-499f-ecf4-3a684d8a6e53",
        "colab": {
          "base_uri": "https://localhost:8080/",
          "height": 173
        }
      },
      "source": [
        "learn.fit_one_cycle(4, slice(2e-3/100, 2e-3))"
      ],
      "execution_count": 37,
      "outputs": [
        {
          "output_type": "display_data",
          "data": {
            "text/html": [
              "<table border=\"1\" class=\"dataframe\">\n",
              "  <thead>\n",
              "    <tr style=\"text-align: left;\">\n",
              "      <th>epoch</th>\n",
              "      <th>train_loss</th>\n",
              "      <th>valid_loss</th>\n",
              "      <th>accuracy</th>\n",
              "      <th>time</th>\n",
              "    </tr>\n",
              "  </thead>\n",
              "  <tbody>\n",
              "    <tr>\n",
              "      <td>0</td>\n",
              "      <td>3.512677</td>\n",
              "      <td>3.649511</td>\n",
              "      <td>0.335714</td>\n",
              "      <td>03:18</td>\n",
              "    </tr>\n",
              "    <tr>\n",
              "      <td>1</td>\n",
              "      <td>3.439916</td>\n",
              "      <td>3.623492</td>\n",
              "      <td>0.335714</td>\n",
              "      <td>03:26</td>\n",
              "    </tr>\n",
              "    <tr>\n",
              "      <td>2</td>\n",
              "      <td>3.254142</td>\n",
              "      <td>3.550891</td>\n",
              "      <td>0.364286</td>\n",
              "      <td>03:13</td>\n",
              "    </tr>\n",
              "    <tr>\n",
              "      <td>3</td>\n",
              "      <td>3.091109</td>\n",
              "      <td>3.529598</td>\n",
              "      <td>0.357143</td>\n",
              "      <td>03:17</td>\n",
              "    </tr>\n",
              "  </tbody>\n",
              "</table>"
            ],
            "text/plain": [
              "<IPython.core.display.HTML object>"
            ]
          },
          "metadata": {
            "tags": []
          }
        }
      ]
    },
    {
      "cell_type": "code",
      "metadata": {
        "id": "0Zsd99isb9EQ",
        "outputId": "5b67d576-27bf-4c18-b8a1-6e26e577b06e",
        "colab": {
          "base_uri": "https://localhost:8080/",
          "height": 173
        }
      },
      "source": [
        "learn.fit_one_cycle(4, slice(2e-3/100, 2e-3))"
      ],
      "execution_count": 38,
      "outputs": [
        {
          "output_type": "display_data",
          "data": {
            "text/html": [
              "<table border=\"1\" class=\"dataframe\">\n",
              "  <thead>\n",
              "    <tr style=\"text-align: left;\">\n",
              "      <th>epoch</th>\n",
              "      <th>train_loss</th>\n",
              "      <th>valid_loss</th>\n",
              "      <th>accuracy</th>\n",
              "      <th>time</th>\n",
              "    </tr>\n",
              "  </thead>\n",
              "  <tbody>\n",
              "    <tr>\n",
              "      <td>0</td>\n",
              "      <td>2.897871</td>\n",
              "      <td>3.584560</td>\n",
              "      <td>0.328571</td>\n",
              "      <td>03:07</td>\n",
              "    </tr>\n",
              "    <tr>\n",
              "      <td>1</td>\n",
              "      <td>2.848092</td>\n",
              "      <td>3.525436</td>\n",
              "      <td>0.335714</td>\n",
              "      <td>03:19</td>\n",
              "    </tr>\n",
              "    <tr>\n",
              "      <td>2</td>\n",
              "      <td>2.709912</td>\n",
              "      <td>3.568906</td>\n",
              "      <td>0.350000</td>\n",
              "      <td>03:03</td>\n",
              "    </tr>\n",
              "    <tr>\n",
              "      <td>3</td>\n",
              "      <td>2.541939</td>\n",
              "      <td>3.543825</td>\n",
              "      <td>0.342857</td>\n",
              "      <td>03:19</td>\n",
              "    </tr>\n",
              "  </tbody>\n",
              "</table>"
            ],
            "text/plain": [
              "<IPython.core.display.HTML object>"
            ]
          },
          "metadata": {
            "tags": []
          }
        }
      ]
    },
    {
      "cell_type": "code",
      "metadata": {
        "id": "atNWNKDFPbuI",
        "outputId": "1053f919-10be-4e97-a234-93aa7915c7e1",
        "colab": {
          "base_uri": "https://localhost:8080/",
          "height": 173
        }
      },
      "source": [
        "learn.fit_one_cycle(4, slice(2e-3/100, 2e-3))"
      ],
      "execution_count": 39,
      "outputs": [
        {
          "output_type": "display_data",
          "data": {
            "text/html": [
              "<table border=\"1\" class=\"dataframe\">\n",
              "  <thead>\n",
              "    <tr style=\"text-align: left;\">\n",
              "      <th>epoch</th>\n",
              "      <th>train_loss</th>\n",
              "      <th>valid_loss</th>\n",
              "      <th>accuracy</th>\n",
              "      <th>time</th>\n",
              "    </tr>\n",
              "  </thead>\n",
              "  <tbody>\n",
              "    <tr>\n",
              "      <td>0</td>\n",
              "      <td>2.376066</td>\n",
              "      <td>3.525526</td>\n",
              "      <td>0.350000</td>\n",
              "      <td>03:17</td>\n",
              "    </tr>\n",
              "    <tr>\n",
              "      <td>1</td>\n",
              "      <td>2.360226</td>\n",
              "      <td>3.571804</td>\n",
              "      <td>0.350000</td>\n",
              "      <td>03:14</td>\n",
              "    </tr>\n",
              "    <tr>\n",
              "      <td>2</td>\n",
              "      <td>2.186786</td>\n",
              "      <td>3.591262</td>\n",
              "      <td>0.371429</td>\n",
              "      <td>03:12</td>\n",
              "    </tr>\n",
              "    <tr>\n",
              "      <td>3</td>\n",
              "      <td>2.038167</td>\n",
              "      <td>3.550888</td>\n",
              "      <td>0.378571</td>\n",
              "      <td>03:08</td>\n",
              "    </tr>\n",
              "  </tbody>\n",
              "</table>"
            ],
            "text/plain": [
              "<IPython.core.display.HTML object>"
            ]
          },
          "metadata": {
            "tags": []
          }
        }
      ]
    },
    {
      "cell_type": "code",
      "metadata": {
        "id": "rKrBTZ0T1uVA",
        "outputId": "a29753f0-f558-4905-968e-ba5531adbfdf",
        "colab": {
          "base_uri": "https://localhost:8080/",
          "height": 173
        }
      },
      "source": [
        "learn.fit_one_cycle(4, slice(2e-3/100, 2e-3))"
      ],
      "execution_count": 40,
      "outputs": [
        {
          "output_type": "display_data",
          "data": {
            "text/html": [
              "<table border=\"1\" class=\"dataframe\">\n",
              "  <thead>\n",
              "    <tr style=\"text-align: left;\">\n",
              "      <th>epoch</th>\n",
              "      <th>train_loss</th>\n",
              "      <th>valid_loss</th>\n",
              "      <th>accuracy</th>\n",
              "      <th>time</th>\n",
              "    </tr>\n",
              "  </thead>\n",
              "  <tbody>\n",
              "    <tr>\n",
              "      <td>0</td>\n",
              "      <td>1.884116</td>\n",
              "      <td>3.617758</td>\n",
              "      <td>0.371429</td>\n",
              "      <td>03:19</td>\n",
              "    </tr>\n",
              "    <tr>\n",
              "      <td>1</td>\n",
              "      <td>1.858101</td>\n",
              "      <td>3.573722</td>\n",
              "      <td>0.400000</td>\n",
              "      <td>03:24</td>\n",
              "    </tr>\n",
              "    <tr>\n",
              "      <td>2</td>\n",
              "      <td>1.715435</td>\n",
              "      <td>3.585540</td>\n",
              "      <td>0.378571</td>\n",
              "      <td>03:06</td>\n",
              "    </tr>\n",
              "    <tr>\n",
              "      <td>3</td>\n",
              "      <td>1.586367</td>\n",
              "      <td>3.593527</td>\n",
              "      <td>0.400000</td>\n",
              "      <td>03:16</td>\n",
              "    </tr>\n",
              "  </tbody>\n",
              "</table>"
            ],
            "text/plain": [
              "<IPython.core.display.HTML object>"
            ]
          },
          "metadata": {
            "tags": []
          }
        }
      ]
    },
    {
      "cell_type": "code",
      "metadata": {
        "id": "ajQC6WDg1yA9",
        "outputId": "344689e1-f482-495e-8db7-718a05022f8b",
        "colab": {
          "base_uri": "https://localhost:8080/",
          "height": 173
        }
      },
      "source": [
        "learn.fit_one_cycle(4, slice(2e-3/100, 2e-3))"
      ],
      "execution_count": 41,
      "outputs": [
        {
          "output_type": "display_data",
          "data": {
            "text/html": [
              "<table border=\"1\" class=\"dataframe\">\n",
              "  <thead>\n",
              "    <tr style=\"text-align: left;\">\n",
              "      <th>epoch</th>\n",
              "      <th>train_loss</th>\n",
              "      <th>valid_loss</th>\n",
              "      <th>accuracy</th>\n",
              "      <th>time</th>\n",
              "    </tr>\n",
              "  </thead>\n",
              "  <tbody>\n",
              "    <tr>\n",
              "      <td>0</td>\n",
              "      <td>1.462405</td>\n",
              "      <td>3.681417</td>\n",
              "      <td>0.364286</td>\n",
              "      <td>03:23</td>\n",
              "    </tr>\n",
              "    <tr>\n",
              "      <td>1</td>\n",
              "      <td>1.454741</td>\n",
              "      <td>3.731477</td>\n",
              "      <td>0.378571</td>\n",
              "      <td>03:10</td>\n",
              "    </tr>\n",
              "    <tr>\n",
              "      <td>2</td>\n",
              "      <td>1.355643</td>\n",
              "      <td>3.740706</td>\n",
              "      <td>0.371429</td>\n",
              "      <td>03:22</td>\n",
              "    </tr>\n",
              "    <tr>\n",
              "      <td>3</td>\n",
              "      <td>1.223897</td>\n",
              "      <td>3.794671</td>\n",
              "      <td>0.371429</td>\n",
              "      <td>03:14</td>\n",
              "    </tr>\n",
              "  </tbody>\n",
              "</table>"
            ],
            "text/plain": [
              "<IPython.core.display.HTML object>"
            ]
          },
          "metadata": {
            "tags": []
          }
        }
      ]
    },
    {
      "cell_type": "code",
      "metadata": {
        "id": "KKydb0B4BKGk",
        "outputId": "ba997c39-f352-47a2-f8d8-c24f819a0ac5",
        "colab": {
          "base_uri": "https://localhost:8080/",
          "height": 173
        }
      },
      "source": [
        "learn.fit_one_cycle(4, slice(2e-3/100, 2e-3))"
      ],
      "execution_count": 42,
      "outputs": [
        {
          "output_type": "display_data",
          "data": {
            "text/html": [
              "<table border=\"1\" class=\"dataframe\">\n",
              "  <thead>\n",
              "    <tr style=\"text-align: left;\">\n",
              "      <th>epoch</th>\n",
              "      <th>train_loss</th>\n",
              "      <th>valid_loss</th>\n",
              "      <th>accuracy</th>\n",
              "      <th>time</th>\n",
              "    </tr>\n",
              "  </thead>\n",
              "  <tbody>\n",
              "    <tr>\n",
              "      <td>0</td>\n",
              "      <td>1.142988</td>\n",
              "      <td>3.693445</td>\n",
              "      <td>0.400000</td>\n",
              "      <td>03:20</td>\n",
              "    </tr>\n",
              "    <tr>\n",
              "      <td>1</td>\n",
              "      <td>1.159347</td>\n",
              "      <td>3.792310</td>\n",
              "      <td>0.392857</td>\n",
              "      <td>03:12</td>\n",
              "    </tr>\n",
              "    <tr>\n",
              "      <td>2</td>\n",
              "      <td>1.078509</td>\n",
              "      <td>3.822785</td>\n",
              "      <td>0.378571</td>\n",
              "      <td>03:12</td>\n",
              "    </tr>\n",
              "    <tr>\n",
              "      <td>3</td>\n",
              "      <td>0.976213</td>\n",
              "      <td>3.820003</td>\n",
              "      <td>0.364286</td>\n",
              "      <td>03:22</td>\n",
              "    </tr>\n",
              "  </tbody>\n",
              "</table>"
            ],
            "text/plain": [
              "<IPython.core.display.HTML object>"
            ]
          },
          "metadata": {
            "tags": []
          }
        }
      ]
    },
    {
      "cell_type": "code",
      "metadata": {
        "id": "T2APKtFKBpGY",
        "outputId": "caabd0e9-b748-4032-c3cc-dc8a29257ea2",
        "colab": {
          "base_uri": "https://localhost:8080/",
          "height": 173
        }
      },
      "source": [
        "learn.fit_one_cycle(4, slice(2e-3/100, 2e-3))"
      ],
      "execution_count": 43,
      "outputs": [
        {
          "output_type": "display_data",
          "data": {
            "text/html": [
              "<table border=\"1\" class=\"dataframe\">\n",
              "  <thead>\n",
              "    <tr style=\"text-align: left;\">\n",
              "      <th>epoch</th>\n",
              "      <th>train_loss</th>\n",
              "      <th>valid_loss</th>\n",
              "      <th>accuracy</th>\n",
              "      <th>time</th>\n",
              "    </tr>\n",
              "  </thead>\n",
              "  <tbody>\n",
              "    <tr>\n",
              "      <td>0</td>\n",
              "      <td>0.880659</td>\n",
              "      <td>3.872225</td>\n",
              "      <td>0.378571</td>\n",
              "      <td>03:18</td>\n",
              "    </tr>\n",
              "    <tr>\n",
              "      <td>1</td>\n",
              "      <td>0.895826</td>\n",
              "      <td>3.951263</td>\n",
              "      <td>0.371429</td>\n",
              "      <td>03:22</td>\n",
              "    </tr>\n",
              "    <tr>\n",
              "      <td>2</td>\n",
              "      <td>0.847691</td>\n",
              "      <td>3.968568</td>\n",
              "      <td>0.357143</td>\n",
              "      <td>03:06</td>\n",
              "    </tr>\n",
              "    <tr>\n",
              "      <td>3</td>\n",
              "      <td>0.791557</td>\n",
              "      <td>3.947050</td>\n",
              "      <td>0.364286</td>\n",
              "      <td>03:15</td>\n",
              "    </tr>\n",
              "  </tbody>\n",
              "</table>"
            ],
            "text/plain": [
              "<IPython.core.display.HTML object>"
            ]
          },
          "metadata": {
            "tags": []
          }
        }
      ]
    },
    {
      "cell_type": "code",
      "metadata": {
        "id": "qtTypA1sPgLU",
        "outputId": "b8395e54-2943-404a-93fa-a670e6006ef4",
        "colab": {
          "base_uri": "https://localhost:8080/",
          "height": 111
        }
      },
      "source": [
        "learn.fit_one_cycle(2, slice(2e-3/100, 2e-3))"
      ],
      "execution_count": 44,
      "outputs": [
        {
          "output_type": "display_data",
          "data": {
            "text/html": [
              "<table border=\"1\" class=\"dataframe\">\n",
              "  <thead>\n",
              "    <tr style=\"text-align: left;\">\n",
              "      <th>epoch</th>\n",
              "      <th>train_loss</th>\n",
              "      <th>valid_loss</th>\n",
              "      <th>accuracy</th>\n",
              "      <th>time</th>\n",
              "    </tr>\n",
              "  </thead>\n",
              "  <tbody>\n",
              "    <tr>\n",
              "      <td>0</td>\n",
              "      <td>0.767189</td>\n",
              "      <td>4.125974</td>\n",
              "      <td>0.342857</td>\n",
              "      <td>03:08</td>\n",
              "    </tr>\n",
              "    <tr>\n",
              "      <td>1</td>\n",
              "      <td>0.737578</td>\n",
              "      <td>3.958614</td>\n",
              "      <td>0.371429</td>\n",
              "      <td>03:20</td>\n",
              "    </tr>\n",
              "  </tbody>\n",
              "</table>"
            ],
            "text/plain": [
              "<IPython.core.display.HTML object>"
            ]
          },
          "metadata": {
            "tags": []
          }
        }
      ]
    },
    {
      "cell_type": "code",
      "metadata": {
        "id": "b242kBsTUp9Y",
        "outputId": "9e1b714f-767e-4679-e125-51fc07435c91",
        "colab": {
          "base_uri": "https://localhost:8080/",
          "height": 111
        }
      },
      "source": [
        "learn.fit_one_cycle(2, slice(2e-3/100, 2e-3))"
      ],
      "execution_count": 45,
      "outputs": [
        {
          "output_type": "display_data",
          "data": {
            "text/html": [
              "<table border=\"1\" class=\"dataframe\">\n",
              "  <thead>\n",
              "    <tr style=\"text-align: left;\">\n",
              "      <th>epoch</th>\n",
              "      <th>train_loss</th>\n",
              "      <th>valid_loss</th>\n",
              "      <th>accuracy</th>\n",
              "      <th>time</th>\n",
              "    </tr>\n",
              "  </thead>\n",
              "  <tbody>\n",
              "    <tr>\n",
              "      <td>0</td>\n",
              "      <td>0.698178</td>\n",
              "      <td>4.056379</td>\n",
              "      <td>0.414286</td>\n",
              "      <td>03:14</td>\n",
              "    </tr>\n",
              "    <tr>\n",
              "      <td>1</td>\n",
              "      <td>0.668639</td>\n",
              "      <td>4.035613</td>\n",
              "      <td>0.414286</td>\n",
              "      <td>03:08</td>\n",
              "    </tr>\n",
              "  </tbody>\n",
              "</table>"
            ],
            "text/plain": [
              "<IPython.core.display.HTML object>"
            ]
          },
          "metadata": {
            "tags": []
          }
        }
      ]
    },
    {
      "cell_type": "code",
      "metadata": {
        "id": "Duwf1Ih5VeDZ",
        "outputId": "98a6578d-0e2e-4150-bafc-bc67c2ee84fb",
        "colab": {
          "base_uri": "https://localhost:8080/",
          "height": 80
        }
      },
      "source": [
        "learn.fit_one_cycle(1, slice(2e-3/100, 2e-3))"
      ],
      "execution_count": 46,
      "outputs": [
        {
          "output_type": "display_data",
          "data": {
            "text/html": [
              "<table border=\"1\" class=\"dataframe\">\n",
              "  <thead>\n",
              "    <tr style=\"text-align: left;\">\n",
              "      <th>epoch</th>\n",
              "      <th>train_loss</th>\n",
              "      <th>valid_loss</th>\n",
              "      <th>accuracy</th>\n",
              "      <th>time</th>\n",
              "    </tr>\n",
              "  </thead>\n",
              "  <tbody>\n",
              "    <tr>\n",
              "      <td>0</td>\n",
              "      <td>0.652032</td>\n",
              "      <td>4.072524</td>\n",
              "      <td>0.364286</td>\n",
              "      <td>03:24</td>\n",
              "    </tr>\n",
              "  </tbody>\n",
              "</table>"
            ],
            "text/plain": [
              "<IPython.core.display.HTML object>"
            ]
          },
          "metadata": {
            "tags": []
          }
        }
      ]
    },
    {
      "cell_type": "code",
      "metadata": {
        "id": "c65d-osfDUXm"
      },
      "source": [
        "# save the best model\n",
        "\n",
        "learn.save_encoder('TwADR_pubmed_fold2')"
      ],
      "execution_count": 47,
      "outputs": []
    },
    {
      "cell_type": "code",
      "metadata": {
        "id": "5h-A_GpAIYg8",
        "outputId": "62411e84-c6a1-438e-8257-39461727875a",
        "colab": {
          "base_uri": "https://localhost:8080/",
          "height": 80
        }
      },
      "source": [
        "learn.fit_one_cycle(1, slice(2e-3/100, 2e-3))"
      ],
      "execution_count": 48,
      "outputs": [
        {
          "output_type": "display_data",
          "data": {
            "text/html": [
              "<table border=\"1\" class=\"dataframe\">\n",
              "  <thead>\n",
              "    <tr style=\"text-align: left;\">\n",
              "      <th>epoch</th>\n",
              "      <th>train_loss</th>\n",
              "      <th>valid_loss</th>\n",
              "      <th>accuracy</th>\n",
              "      <th>time</th>\n",
              "    </tr>\n",
              "  </thead>\n",
              "  <tbody>\n",
              "    <tr>\n",
              "      <td>0</td>\n",
              "      <td>0.630835</td>\n",
              "      <td>4.248214</td>\n",
              "      <td>0.385714</td>\n",
              "      <td>03:19</td>\n",
              "    </tr>\n",
              "  </tbody>\n",
              "</table>"
            ],
            "text/plain": [
              "<IPython.core.display.HTML object>"
            ]
          },
          "metadata": {
            "tags": []
          }
        }
      ]
    },
    {
      "cell_type": "code",
      "metadata": {
        "id": "qc4poYxzIwca",
        "outputId": "96701ec1-5a71-4d0f-8d72-d6274a342a1a",
        "colab": {
          "base_uri": "https://localhost:8080/",
          "height": 80
        }
      },
      "source": [
        "learn.fit_one_cycle(1, slice(2e-3/100, 2e-3))"
      ],
      "execution_count": 49,
      "outputs": [
        {
          "output_type": "display_data",
          "data": {
            "text/html": [
              "<table border=\"1\" class=\"dataframe\">\n",
              "  <thead>\n",
              "    <tr style=\"text-align: left;\">\n",
              "      <th>epoch</th>\n",
              "      <th>train_loss</th>\n",
              "      <th>valid_loss</th>\n",
              "      <th>accuracy</th>\n",
              "      <th>time</th>\n",
              "    </tr>\n",
              "  </thead>\n",
              "  <tbody>\n",
              "    <tr>\n",
              "      <td>0</td>\n",
              "      <td>0.571112</td>\n",
              "      <td>4.245546</td>\n",
              "      <td>0.357143</td>\n",
              "      <td>03:23</td>\n",
              "    </tr>\n",
              "  </tbody>\n",
              "</table>"
            ],
            "text/plain": [
              "<IPython.core.display.HTML object>"
            ]
          },
          "metadata": {
            "tags": []
          }
        }
      ]
    },
    {
      "cell_type": "code",
      "metadata": {
        "id": "66s4PxV1JVfo",
        "outputId": "ef103a9c-e610-49ce-9002-925a6e8397d8",
        "colab": {
          "base_uri": "https://localhost:8080/",
          "height": 80
        }
      },
      "source": [
        "learn.fit_one_cycle(1, slice(2e-3/100, 2e-3))"
      ],
      "execution_count": 50,
      "outputs": [
        {
          "output_type": "display_data",
          "data": {
            "text/html": [
              "<table border=\"1\" class=\"dataframe\">\n",
              "  <thead>\n",
              "    <tr style=\"text-align: left;\">\n",
              "      <th>epoch</th>\n",
              "      <th>train_loss</th>\n",
              "      <th>valid_loss</th>\n",
              "      <th>accuracy</th>\n",
              "      <th>time</th>\n",
              "    </tr>\n",
              "  </thead>\n",
              "  <tbody>\n",
              "    <tr>\n",
              "      <td>0</td>\n",
              "      <td>0.580646</td>\n",
              "      <td>4.311902</td>\n",
              "      <td>0.371429</td>\n",
              "      <td>03:20</td>\n",
              "    </tr>\n",
              "  </tbody>\n",
              "</table>"
            ],
            "text/plain": [
              "<IPython.core.display.HTML object>"
            ]
          },
          "metadata": {
            "tags": []
          }
        }
      ]
    },
    {
      "cell_type": "code",
      "metadata": {
        "id": "UIARKTw8W0Je",
        "outputId": "d7d8fd52-0fbb-4d79-8da3-40828f212fac",
        "colab": {
          "base_uri": "https://localhost:8080/",
          "height": 80
        }
      },
      "source": [
        "learn.fit_one_cycle(1, slice(2e-3/100, 2e-3))"
      ],
      "execution_count": 51,
      "outputs": [
        {
          "output_type": "display_data",
          "data": {
            "text/html": [
              "<table border=\"1\" class=\"dataframe\">\n",
              "  <thead>\n",
              "    <tr style=\"text-align: left;\">\n",
              "      <th>epoch</th>\n",
              "      <th>train_loss</th>\n",
              "      <th>valid_loss</th>\n",
              "      <th>accuracy</th>\n",
              "      <th>time</th>\n",
              "    </tr>\n",
              "  </thead>\n",
              "  <tbody>\n",
              "    <tr>\n",
              "      <td>0</td>\n",
              "      <td>0.533584</td>\n",
              "      <td>4.340794</td>\n",
              "      <td>0.350000</td>\n",
              "      <td>03:27</td>\n",
              "    </tr>\n",
              "  </tbody>\n",
              "</table>"
            ],
            "text/plain": [
              "<IPython.core.display.HTML object>"
            ]
          },
          "metadata": {
            "tags": []
          }
        }
      ]
    },
    {
      "cell_type": "markdown",
      "metadata": {
        "id": "rCwZU0E2RgM6"
      },
      "source": [
        "# Part three: Predict on the test dataset"
      ]
    },
    {
      "cell_type": "code",
      "metadata": {
        "id": "gDm72c-dOu7d",
        "outputId": "0403e138-c388-4227-bde8-d696fc3308fd",
        "colab": {
          "base_uri": "https://localhost:8080/",
          "height": 17
        }
      },
      "source": [
        "# use the test data for prediction\n",
        "\n",
        "preds, y = learn.get_preds(DatasetType.Test)"
      ],
      "execution_count": 52,
      "outputs": [
        {
          "output_type": "display_data",
          "data": {
            "text/html": [
              ""
            ],
            "text/plain": [
              "<IPython.core.display.HTML object>"
            ]
          },
          "metadata": {
            "tags": []
          }
        }
      ]
    },
    {
      "cell_type": "code",
      "metadata": {
        "id": "6tFSQcsWPvxn",
        "outputId": "da8f7c17-4b18-4061-a020-557078de3376",
        "colab": {
          "base_uri": "https://localhost:8080/",
          "height": 105
        }
      },
      "source": [
        "predictions, *_ = learn.get_preds(DatasetType.Test)\n",
        "labels = np.argmax(predictions, 1)\n",
        "predict_list = labels.tolist()\n",
        "standard_list = test[0].tolist()\n",
        "\n",
        "print(len(predict_list))\n",
        "print(len(standard_list))\n",
        "\n",
        "print(predict_list)\n",
        "print(standard_list)"
      ],
      "execution_count": 53,
      "outputs": [
        {
          "output_type": "display_data",
          "data": {
            "text/html": [
              ""
            ],
            "text/plain": [
              "<IPython.core.display.HTML object>"
            ]
          },
          "metadata": {
            "tags": []
          }
        },
        {
          "output_type": "stream",
          "text": [
            "143\n",
            "143\n",
            "[2191, 24, 56, 551, 978, 2191, 1545, 1545, 189, 1545, 217, 1521, 2147, 233, 2147, 1136, 301, 13, 13, 13, 945, 418, 445, 1597, 582, 908, 609, 720, 744, 744, 749, 749, 749, 887, 755, 1718, 792, 792, 2125, 978, 824, 426, 265, 1184, 1846, 974, 974, 974, 978, 1599, 1019, 359, 359, 1718, 1925, 1099, 2032, 1526, 1099, 1136, 561, 1184, 1184, 1157, 1373, 1265, 1265, 1295, 1295, 852, 1295, 1308, 1373, 1340, 1340, 1507, 1973, 2191, 2191, 1822, 2110, 582, 978, 712, 1701, 1526, 1529, 1062, 1545, 426, 109, 1597, 1597, 1815, 1767, 1597, 1610, 1136, 1073, 1526, 1925, 1718, 1531, 1718, 1718, 1718, 1718, 1718, 1718, 1545, 1768, 712, 13, 1787, 1787, 13, 393, 1196, 418, 1810, 2191, 1073, 2191, 233, 1196, 233, 233, 233, 1545, 1942, 1822, 923, 1767, 1230, 1948, 824, 1099, 1295, 2147, 2032, 2194, 2191, 393]\n",
            "[13, 24, 56, 57, 94, 113, 189, 189, 189, 189, 217, 224, 233, 233, 233, 265, 301, 393, 393, 393, 396, 418, 445, 452, 582, 605, 609, 720, 744, 745, 749, 749, 749, 749, 755, 791, 792, 792, 813, 819, 824, 825, 857, 908, 947, 974, 974, 974, 978, 1008, 1019, 1054, 1054, 1073, 1099, 1099, 1099, 1099, 1099, 1136, 1142, 1184, 1184, 1208, 1227, 1265, 1265, 1295, 1295, 1295, 1295, 1308, 1325, 1340, 1340, 1340, 1341, 1341, 1348, 1356, 1356, 1373, 1373, 1483, 1526, 1526, 1529, 1529, 1545, 1546, 1578, 1597, 1597, 1597, 1597, 1597, 1610, 1647, 1669, 1701, 1701, 1718, 1718, 1718, 1718, 1718, 1718, 1727, 1727, 1767, 1768, 1769, 1787, 1787, 1787, 1787, 1787, 1798, 1799, 1810, 1815, 1828, 1833, 1936, 1936, 1936, 1936, 1936, 1942, 1942, 1973, 2023, 2026, 2104, 2113, 2118, 2147, 2147, 2147, 2149, 2168, 2191, 2191]\n"
          ],
          "name": "stdout"
        }
      ]
    },
    {
      "cell_type": "code",
      "metadata": {
        "id": "XIC4zufnMxtq",
        "outputId": "a854542d-314d-4b89-f1dc-8f82e2da1fbb",
        "colab": {
          "base_uri": "https://localhost:8080/"
        }
      },
      "source": [
        "correct_num = 0\n",
        "\n",
        "for i in range(0, len(standard_list)):\n",
        "  if predict_list[i] == standard_list[i]:\n",
        "    correct_num = correct_num+1\n",
        "  else:\n",
        "    pass\n",
        "print(correct_num)\n",
        "\n",
        "predict_accuracy = correct_num/len(predict_list)\n",
        "print(predict_accuracy)"
      ],
      "execution_count": 54,
      "outputs": [
        {
          "output_type": "stream",
          "text": [
            "56\n",
            "0.3916083916083916\n"
          ],
          "name": "stdout"
        }
      ]
    },
    {
      "cell_type": "code",
      "metadata": {
        "id": "zlKMHp1CIaRJ"
      },
      "source": [
        ""
      ],
      "execution_count": 54,
      "outputs": []
    }
  ]
}