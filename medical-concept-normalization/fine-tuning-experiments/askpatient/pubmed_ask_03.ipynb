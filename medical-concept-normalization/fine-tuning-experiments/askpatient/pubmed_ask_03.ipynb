{
  "nbformat": 4,
  "nbformat_minor": 0,
  "metadata": {
    "accelerator": "TPU",
    "colab": {
      "name": "pubmed_ask_03.ipynb",
      "provenance": [],
      "collapsed_sections": [],
      "include_colab_link": true
    },
    "kernelspec": {
      "display_name": "Python 3",
      "name": "python3"
    }
  },
  "cells": [
    {
      "cell_type": "markdown",
      "metadata": {
        "id": "view-in-github",
        "colab_type": "text"
      },
      "source": [
        "<a href=\"https://colab.research.google.com/github/unt-iialab/medical-concept-normalization/blob/master/medical-concept-normalization/fine-tuning-experiments/askpatient/pubmed_ask_03.ipynb\" target=\"_parent\"><img src=\"https://colab.research.google.com/assets/colab-badge.svg\" alt=\"Open In Colab\"/></a>"
      ]
    },
    {
      "cell_type": "code",
      "metadata": {
        "id": "adSi6i2-dWxy"
      },
      "source": [
        "import os"
      ],
      "execution_count": 1,
      "outputs": []
    },
    {
      "cell_type": "code",
      "metadata": {
        "id": "E7xYCRGPjd9B"
      },
      "source": [
        "base_dir = 'medical-concept-normalization'"
      ],
      "execution_count": 2,
      "outputs": []
    },
    {
      "cell_type": "code",
      "metadata": {
        "id": "yvIW3aUDjYNS"
      },
      "source": [
        "os.mkdir(base_dir)"
      ],
      "execution_count": 3,
      "outputs": []
    },
    {
      "cell_type": "code",
      "metadata": {
        "id": "es-FFLlfk6SG"
      },
      "source": [
        "os.mkdir('medical-concept-normalization/data_collection')"
      ],
      "execution_count": 4,
      "outputs": []
    },
    {
      "cell_type": "markdown",
      "metadata": {
        "id": "0R-Guw_VoJXm"
      },
      "source": [
        "**Install fastai and clone the fastai for text classification**\n",
        "\n"
      ]
    },
    {
      "cell_type": "code",
      "metadata": {
        "id": "QVZa3Z0PmHFH",
        "outputId": "c17cd663-69ee-4d06-a553-49ec5f9245f9",
        "colab": {
          "base_uri": "https://localhost:8080/"
        }
      },
      "source": [
        "!curl https://course-v3.fast.ai/setup/colab | bash"
      ],
      "execution_count": 5,
      "outputs": [
        {
          "output_type": "stream",
          "text": [
            "  % Total    % Received % Xferd  Average Speed   Time    Time     Time  Current\n",
            "                                 Dload  Upload   Total   Spent    Left  Speed\n",
            "\r  0     0    0     0    0     0      0      0 --:--:-- --:--:-- --:--:--     0curl: (6) Could not resolve host: course-v3.fast.ai\n"
          ],
          "name": "stdout"
        }
      ]
    },
    {
      "cell_type": "code",
      "metadata": {
        "id": "_FBFFEBrmJC0",
        "outputId": "16144b6c-5701-4efa-fbc3-8deb2c3f7451",
        "colab": {
          "base_uri": "https://localhost:8080/"
        }
      },
      "source": [
        "!git clone https://github.com/wshuyi/demo-nlp-classification-fastai.git"
      ],
      "execution_count": 6,
      "outputs": [
        {
          "output_type": "stream",
          "text": [
            "Cloning into 'demo-nlp-classification-fastai'...\n",
            "remote: Enumerating objects: 9, done.\u001b[K\n",
            "Unpacking objects: 100% (9/9), done.\n",
            "remote: Total 9 (delta 0), reused 0 (delta 0), pack-reused 9\u001b[K\n"
          ],
          "name": "stdout"
        }
      ]
    },
    {
      "cell_type": "code",
      "metadata": {
        "id": "66zfh_JqmWMU"
      },
      "source": [
        "from fastai import *\n",
        "from fastai.text import *"
      ],
      "execution_count": 7,
      "outputs": []
    },
    {
      "cell_type": "markdown",
      "metadata": {
        "id": "mNIw-yALdBU9"
      },
      "source": [
        "**Set the path of the data collections**"
      ]
    },
    {
      "cell_type": "code",
      "metadata": {
        "id": "pzH7VMh4mqCL"
      },
      "source": [
        "path = Path('medical-concept-normalization/data_collection')"
      ],
      "execution_count": 8,
      "outputs": []
    },
    {
      "cell_type": "code",
      "metadata": {
        "id": "b8fjI6yyn4aS"
      },
      "source": [
        "# training data set\n",
        "\n",
        "train_csv = path/'AskAPatient.fold-3.train.csv'\n",
        "train = pd.read_csv(train_csv, header=None)\n",
        "#train.head()\n",
        "#train.info()"
      ],
      "execution_count": 10,
      "outputs": []
    },
    {
      "cell_type": "code",
      "metadata": {
        "id": "Hmlr-bAorfHd",
        "outputId": "d4b37363-6926-4f6a-e86e-b5c1c1c2ba49",
        "colab": {
          "base_uri": "https://localhost:8080/",
          "height": 204
        }
      },
      "source": [
        "# validating data set\n",
        "\n",
        "valid = pd.read_csv(path/\"AskAPatient.fold-3.validation.csv\",header=None)\n",
        "valid.head()"
      ],
      "execution_count": 11,
      "outputs": [
        {
          "output_type": "execute_result",
          "data": {
            "text/html": [
              "<div>\n",
              "<style scoped>\n",
              "    .dataframe tbody tr th:only-of-type {\n",
              "        vertical-align: middle;\n",
              "    }\n",
              "\n",
              "    .dataframe tbody tr th {\n",
              "        vertical-align: top;\n",
              "    }\n",
              "\n",
              "    .dataframe thead th {\n",
              "        text-align: right;\n",
              "    }\n",
              "</style>\n",
              "<table border=\"1\" class=\"dataframe\">\n",
              "  <thead>\n",
              "    <tr style=\"text-align: right;\">\n",
              "      <th></th>\n",
              "      <th>0</th>\n",
              "      <th>1</th>\n",
              "    </tr>\n",
              "  </thead>\n",
              "  <tbody>\n",
              "    <tr>\n",
              "      <th>0</th>\n",
              "      <td>2</td>\n",
              "      <td>left heel pain</td>\n",
              "    </tr>\n",
              "    <tr>\n",
              "      <th>1</th>\n",
              "      <td>2</td>\n",
              "      <td>right heel became painful</td>\n",
              "    </tr>\n",
              "    <tr>\n",
              "      <th>2</th>\n",
              "      <td>8</td>\n",
              "      <td>Arthritis</td>\n",
              "    </tr>\n",
              "    <tr>\n",
              "      <th>3</th>\n",
              "      <td>8</td>\n",
              "      <td>arthritis</td>\n",
              "    </tr>\n",
              "    <tr>\n",
              "      <th>4</th>\n",
              "      <td>8</td>\n",
              "      <td>arthritis</td>\n",
              "    </tr>\n",
              "  </tbody>\n",
              "</table>\n",
              "</div>"
            ],
            "text/plain": [
              "   0                          1\n",
              "0  2             left heel pain\n",
              "1  2  right heel became painful\n",
              "2  8                  Arthritis\n",
              "3  8                  arthritis\n",
              "4  8                  arthritis"
            ]
          },
          "metadata": {
            "tags": []
          },
          "execution_count": 11
        }
      ]
    },
    {
      "cell_type": "code",
      "metadata": {
        "id": "cOza9dfSsBud",
        "outputId": "023ebb35-c65f-4f50-d87d-df0f241ce6b9",
        "colab": {
          "base_uri": "https://localhost:8080/",
          "height": 204
        }
      },
      "source": [
        "# testing data set\n",
        "\n",
        "test = pd.read_csv(path/\"AskAPatient.fold-3.test.csv\",header=None)\n",
        "test.head()"
      ],
      "execution_count": 12,
      "outputs": [
        {
          "output_type": "execute_result",
          "data": {
            "text/html": [
              "<div>\n",
              "<style scoped>\n",
              "    .dataframe tbody tr th:only-of-type {\n",
              "        vertical-align: middle;\n",
              "    }\n",
              "\n",
              "    .dataframe tbody tr th {\n",
              "        vertical-align: top;\n",
              "    }\n",
              "\n",
              "    .dataframe thead th {\n",
              "        text-align: right;\n",
              "    }\n",
              "</style>\n",
              "<table border=\"1\" class=\"dataframe\">\n",
              "  <thead>\n",
              "    <tr style=\"text-align: right;\">\n",
              "      <th></th>\n",
              "      <th>0</th>\n",
              "      <th>1</th>\n",
              "    </tr>\n",
              "  </thead>\n",
              "  <tbody>\n",
              "    <tr>\n",
              "      <th>0</th>\n",
              "      <td>2</td>\n",
              "      <td>heel pain</td>\n",
              "    </tr>\n",
              "    <tr>\n",
              "      <th>1</th>\n",
              "      <td>5</td>\n",
              "      <td>rapid heart beat</td>\n",
              "    </tr>\n",
              "    <tr>\n",
              "      <th>2</th>\n",
              "      <td>6</td>\n",
              "      <td>diastolic dysfunction</td>\n",
              "    </tr>\n",
              "    <tr>\n",
              "      <th>3</th>\n",
              "      <td>8</td>\n",
              "      <td>arthritis</td>\n",
              "    </tr>\n",
              "    <tr>\n",
              "      <th>4</th>\n",
              "      <td>8</td>\n",
              "      <td>arthritis</td>\n",
              "    </tr>\n",
              "  </tbody>\n",
              "</table>\n",
              "</div>"
            ],
            "text/plain": [
              "   0                      1\n",
              "0  2              heel pain\n",
              "1  5       rapid heart beat\n",
              "2  6  diastolic dysfunction\n",
              "3  8              arthritis\n",
              "4  8              arthritis"
            ]
          },
          "metadata": {
            "tags": []
          },
          "execution_count": 12
        }
      ]
    },
    {
      "cell_type": "code",
      "metadata": {
        "id": "Vo-YNvVYoaH6",
        "outputId": "5a818de1-fb36-4991-8672-00f0522f96e8",
        "colab": {
          "base_uri": "https://localhost:8080/",
          "height": 17
        }
      },
      "source": [
        "# Creating DataBunch for language modelling\n",
        "\n",
        "data_lm = TextLMDataBunch.from_csv(path, 'pubmed_ask.csv')"
      ],
      "execution_count": 13,
      "outputs": [
        {
          "output_type": "display_data",
          "data": {
            "text/html": [
              ""
            ],
            "text/plain": [
              "<IPython.core.display.HTML object>"
            ]
          },
          "metadata": {
            "tags": []
          }
        },
        {
          "output_type": "display_data",
          "data": {
            "text/html": [
              ""
            ],
            "text/plain": [
              "<IPython.core.display.HTML object>"
            ]
          },
          "metadata": {
            "tags": []
          }
        }
      ]
    },
    {
      "cell_type": "code",
      "metadata": {
        "id": "qcV-9kMnNLBf"
      },
      "source": [
        ""
      ],
      "execution_count": 13,
      "outputs": []
    },
    {
      "cell_type": "code",
      "metadata": {
        "id": "1ScY9afDsnvE"
      },
      "source": [
        "# Creating DataBunch for classification\n",
        "\n",
        "# data_clas = TextClasDataBunch.from_df(path, train, valid, test, vocab=data_lm.train_ds.vocab, bs=128)"
      ],
      "execution_count": 14,
      "outputs": []
    },
    {
      "cell_type": "code",
      "metadata": {
        "id": "gzrSdQcvey9p",
        "outputId": "1b0ef96c-346e-444e-fbb9-ac892f8136ef",
        "colab": {
          "base_uri": "https://localhost:8080/",
          "height": 17
        }
      },
      "source": [
        "data_clas = TextClasDataBunch.from_df(path, train, valid, vocab=data_lm.train_ds.vocab, bs=128)"
      ],
      "execution_count": 15,
      "outputs": [
        {
          "output_type": "display_data",
          "data": {
            "text/html": [
              ""
            ],
            "text/plain": [
              "<IPython.core.display.HTML object>"
            ]
          },
          "metadata": {
            "tags": []
          }
        },
        {
          "output_type": "display_data",
          "data": {
            "text/html": [
              ""
            ],
            "text/plain": [
              "<IPython.core.display.HTML object>"
            ]
          },
          "metadata": {
            "tags": []
          }
        }
      ]
    },
    {
      "cell_type": "code",
      "metadata": {
        "id": "MD27Tf0Ke3ou",
        "outputId": "532170a8-ce3c-4247-931c-551255763bdd",
        "colab": {
          "base_uri": "https://localhost:8080/",
          "height": 17
        }
      },
      "source": [
        "data_clas.add_test(test,label=0)\n"
      ],
      "execution_count": 16,
      "outputs": [
        {
          "output_type": "display_data",
          "data": {
            "text/html": [
              ""
            ],
            "text/plain": [
              "<IPython.core.display.HTML object>"
            ]
          },
          "metadata": {
            "tags": []
          }
        }
      ]
    },
    {
      "cell_type": "code",
      "metadata": {
        "id": "-dpjnk_rstwk"
      },
      "source": [
        "data_lm.save()\n",
        "data_clas.save()"
      ],
      "execution_count": 17,
      "outputs": []
    },
    {
      "cell_type": "code",
      "metadata": {
        "id": "4OkiJa36sw5s",
        "outputId": "2eeb2dce-677e-4358-d9e8-11b28dfd2c0d",
        "colab": {
          "base_uri": "https://localhost:8080/"
        }
      },
      "source": [
        "data_lm.train_ds.vocab.itos"
      ],
      "execution_count": 18,
      "outputs": [
        {
          "output_type": "execute_result",
          "data": {
            "text/plain": [
              "['xxunk',\n",
              " 'xxpad',\n",
              " 'xxbos',\n",
              " 'xxeos',\n",
              " 'xxfld',\n",
              " 'xxmaj',\n",
              " 'xxup',\n",
              " 'xxrep',\n",
              " 'xxwrep',\n",
              " 'pain',\n",
              " 'of',\n",
              " 'the',\n",
              " 'in',\n",
              " 'lipitor',\n",
              " 'and',\n",
              " 'to',\n",
              " 'muscle',\n",
              " 'a',\n",
              " 'was',\n",
              " 'diclofenac',\n",
              " 'with',\n",
              " 'were',\n",
              " 'severe',\n",
              " 'for',\n",
              " 'myalgia',\n",
              " 'lower',\n",
              " 'my',\n",
              " 'fatigue',\n",
              " 'loss',\n",
              " 'cramp',\n",
              " 'limb',\n",
              " 'weakness',\n",
              " 'sodium',\n",
              " 'on',\n",
              " 'by',\n",
              " 'stomach',\n",
              " '-',\n",
              " 'depression',\n",
              " 'back',\n",
              " 'is',\n",
              " 'cramps',\n",
              " 'patients',\n",
              " 'at',\n",
              " 'that',\n",
              " 'upper',\n",
              " 'joint',\n",
              " 'as',\n",
              " 'gas',\n",
              " 'leg',\n",
              " 'drug',\n",
              " 'memory',\n",
              " 'or',\n",
              " 'mg',\n",
              " 'legs',\n",
              " 'pains',\n",
              " 'headache',\n",
              " 'knee',\n",
              " 'from',\n",
              " 'group',\n",
              " 'shoulder',\n",
              " 'not',\n",
              " 'unable',\n",
              " 'arthralgia',\n",
              " 'gastrointestinal',\n",
              " 'neck',\n",
              " 'study',\n",
              " 'all',\n",
              " 'excessive',\n",
              " 'treatment',\n",
              " 'foot',\n",
              " 'this',\n",
              " 'arthritis',\n",
              " 'aches',\n",
              " 'after',\n",
              " 'hip',\n",
              " 'numbness',\n",
              " 'voltaren',\n",
              " 'p',\n",
              " 'disease',\n",
              " 'insomnia',\n",
              " 'arthrotec',\n",
              " 'release',\n",
              " 'increased',\n",
              " '/',\n",
              " 'nausea',\n",
              " 'both',\n",
              " 'bleeding',\n",
              " 'abdominal',\n",
              " 'swelling',\n",
              " 'asthenia',\n",
              " 'skin',\n",
              " 'like',\n",
              " 'walk',\n",
              " 'heart',\n",
              " 'an',\n",
              " 'be',\n",
              " 'dizziness',\n",
              " 'feeling',\n",
              " 'no',\n",
              " 'tired',\n",
              " 'walking',\n",
              " 'time',\n",
              " 'difficulty',\n",
              " 'hand',\n",
              " 'high',\n",
              " 'feet',\n",
              " 'than',\n",
              " 'problems',\n",
              " 'are',\n",
              " 'effect',\n",
              " 'muscles',\n",
              " 'blood',\n",
              " 'cholesterol',\n",
              " 'acid',\n",
              " 'extreme',\n",
              " 'backache',\n",
              " 'compared',\n",
              " 'stiffness',\n",
              " 'zocor',\n",
              " 'hair',\n",
              " 'ache',\n",
              " 'low',\n",
              " 'burning',\n",
              " 'inflammatory',\n",
              " 'chest',\n",
              " 'could',\n",
              " 'vision',\n",
              " 'weight',\n",
              " 'effects',\n",
              " 'liver',\n",
              " 'pins',\n",
              " 'needles',\n",
              " 'groups',\n",
              " 'i',\n",
              " 'diarrhoea',\n",
              " 'cramping',\n",
              " 'using',\n",
              " 'significantly',\n",
              " 'very',\n",
              " 'sleep',\n",
              " 'two',\n",
              " 'between',\n",
              " 'amnesia',\n",
              " 'significant',\n",
              " 'drugs',\n",
              " 'concentration',\n",
              " 'potassium',\n",
              " 'anti',\n",
              " 'left',\n",
              " 'calf',\n",
              " 'impairment',\n",
              " 'h',\n",
              " 'c',\n",
              " 'symptom',\n",
              " 'disability',\n",
              " 'short',\n",
              " 'term',\n",
              " 'up',\n",
              " 'lack',\n",
              " 'anxiety',\n",
              " 'tingling',\n",
              " 'used',\n",
              " 'dose',\n",
              " 'can',\n",
              " 'pressure',\n",
              " 'bloating',\n",
              " 'which',\n",
              " 'day',\n",
              " 'these',\n",
              " 'placebo',\n",
              " 'stiff',\n",
              " 'efficacy',\n",
              " 'it',\n",
              " 'constipation',\n",
              " 'results',\n",
              " 'arm',\n",
              " 'one',\n",
              " 'disorder',\n",
              " 'headaches',\n",
              " 'ds',\n",
              " 'reduced',\n",
              " 'poor',\n",
              " 'hands',\n",
              " 'more',\n",
              " 'has',\n",
              " 'sore',\n",
              " 'had',\n",
              " 'have',\n",
              " 'body',\n",
              " 'days',\n",
              " 'balance',\n",
              " 'we',\n",
              " 'ankle',\n",
              " 'neuropathy',\n",
              " 'arms',\n",
              " 'showed',\n",
              " 'ml',\n",
              " 'also',\n",
              " 'treated',\n",
              " 'visual',\n",
              " 'over',\n",
              " 'topical',\n",
              " 'acute',\n",
              " 'blurred',\n",
              " 'tiredness',\n",
              " 'joints',\n",
              " 'but',\n",
              " 'administration',\n",
              " 'serum',\n",
              " 'renal',\n",
              " 'rash',\n",
              " 'vaginal',\n",
              " 'myocardial',\n",
              " 'rats',\n",
              " 'been',\n",
              " 'sensation',\n",
              " 'oral',\n",
              " 'infarction',\n",
              " 'myositis',\n",
              " 'studies',\n",
              " 'swollen',\n",
              " 'control',\n",
              " 'pravachol',\n",
              " 'into',\n",
              " 'during',\n",
              " 'hurt',\n",
              " 'itching',\n",
              " 'vertigo',\n",
              " 'different',\n",
              " 'rate',\n",
              " 'clinical',\n",
              " 'mentally',\n",
              " 'energy',\n",
              " ',',\n",
              " \"'s\",\n",
              " 'attack',\n",
              " 'painful',\n",
              " 'atrophy',\n",
              " 'when',\n",
              " 'generalised',\n",
              " 'right',\n",
              " 'atorvastatin',\n",
              " 'decreased',\n",
              " 'diabetes',\n",
              " 'respectively',\n",
              " 'induced',\n",
              " 'non',\n",
              " 'tablets',\n",
              " 'dry',\n",
              " 'ubidecarenone',\n",
              " 's',\n",
              " 'there',\n",
              " 'constant',\n",
              " 'gel',\n",
              " 'diarrhea',\n",
              " 'nsaids',\n",
              " 'levels',\n",
              " 'well',\n",
              " 'use',\n",
              " 'upset',\n",
              " 'damage',\n",
              " 'gain',\n",
              " 'formulation',\n",
              " 'plasma',\n",
              " 'formulations',\n",
              " ')',\n",
              " 'observed',\n",
              " 'solution',\n",
              " 'found',\n",
              " 'other',\n",
              " 'method',\n",
              " 'out',\n",
              " 'type',\n",
              " 'illness',\n",
              " 'effective',\n",
              " 'three',\n",
              " 'their',\n",
              " 'period',\n",
              " 'dull',\n",
              " 'received',\n",
              " 'g',\n",
              " 'ph',\n",
              " 'elbow',\n",
              " 'urine',\n",
              " 'raised',\n",
              " 'syndrome',\n",
              " 'mean',\n",
              " 'symptoms',\n",
              " 'elevated',\n",
              " \"n't\",\n",
              " 'weak',\n",
              " 'shoulders',\n",
              " 'n',\n",
              " 'influenza',\n",
              " 'may',\n",
              " 'present',\n",
              " 'tablet',\n",
              " '(',\n",
              " 'sleeping',\n",
              " 'its',\n",
              " 'chronic',\n",
              " 'eye',\n",
              " 'tendonitis',\n",
              " 'spasm',\n",
              " 'analysis',\n",
              " 'crestor',\n",
              " 'abnormal',\n",
              " 'movement',\n",
              " 'activity',\n",
              " 'discomfort',\n",
              " 'knees',\n",
              " 'hazy',\n",
              " 'adverse',\n",
              " 'side',\n",
              " 'controlled',\n",
              " 'heavy',\n",
              " 'toe',\n",
              " 'analgesic',\n",
              " 'kg',\n",
              " 'hours',\n",
              " 'kidney',\n",
              " 'ibuprofen',\n",
              " 'level',\n",
              " 'flatulence',\n",
              " 'first',\n",
              " 'spasms',\n",
              " 'm',\n",
              " 'each',\n",
              " 'bad',\n",
              " 'less',\n",
              " 'mood',\n",
              " 'myopathy',\n",
              " 'vomiting',\n",
              " 'vitro',\n",
              " 'concentrations',\n",
              " 'data',\n",
              " 'd',\n",
              " 'single',\n",
              " 'reflux',\n",
              " 'function',\n",
              " 'irritable',\n",
              " 'throat',\n",
              " 'daily',\n",
              " 'exhaustion',\n",
              " 'sclerosis',\n",
              " 'however',\n",
              " 'mild',\n",
              " 'similar',\n",
              " 'evaluated',\n",
              " 'libido',\n",
              " 'thigh',\n",
              " 'system',\n",
              " 'b',\n",
              " 'feel',\n",
              " 'fibromyalgia',\n",
              " 'increase',\n",
              " 'simvastatin',\n",
              " 'total',\n",
              " 'bed',\n",
              " 'migraine',\n",
              " 'injury',\n",
              " 'flu',\n",
              " 'inflammation',\n",
              " 'get',\n",
              " 'patient',\n",
              " 'eyes',\n",
              " 'concentrate',\n",
              " 'mellitus',\n",
              " 'l',\n",
              " 'surgery',\n",
              " 'randomized',\n",
              " 'following',\n",
              " 'so',\n",
              " 'problem',\n",
              " 'weeks',\n",
              " 'osteoarthritis',\n",
              " 'only',\n",
              " 'test',\n",
              " 'nsaid',\n",
              " 'difference',\n",
              " 'postoperative',\n",
              " 'changes',\n",
              " 'did',\n",
              " 'disturbance',\n",
              " 'model',\n",
              " 'cold',\n",
              " 'most',\n",
              " 'lightheadedness',\n",
              " 'water',\n",
              " 'before',\n",
              " 'menstrual',\n",
              " 'sweating',\n",
              " 'failure',\n",
              " 'obtained',\n",
              " 'wind',\n",
              " 'higher',\n",
              " 'therapy',\n",
              " 't',\n",
              " 'multiple',\n",
              " 'week',\n",
              " 'combination',\n",
              " 'confusion',\n",
              " 'ezetimibe',\n",
              " 'malaise',\n",
              " 'under',\n",
              " 'double',\n",
              " 'due',\n",
              " 'head',\n",
              " 'while',\n",
              " 'swings',\n",
              " 'dissolution',\n",
              " 'cells',\n",
              " 'brain',\n",
              " 'application',\n",
              " 'impaired',\n",
              " 'esters',\n",
              " 'based',\n",
              " 'oil',\n",
              " 'appetite',\n",
              " 'prepared',\n",
              " 'studied',\n",
              " 'doses',\n",
              " 'vs',\n",
              " 'times',\n",
              " 'tremor',\n",
              " 'hips',\n",
              " 'those',\n",
              " 'general',\n",
              " 'blind',\n",
              " 'trial',\n",
              " 'stairs',\n",
              " 'paraesthesia',\n",
              " 'peripheral',\n",
              " 'infection',\n",
              " 'calves',\n",
              " 'celebrex',\n",
              " 'cell',\n",
              " 'nonsteroidal',\n",
              " 'administered',\n",
              " 'area',\n",
              " 'gastric',\n",
              " 'aching',\n",
              " 'associated',\n",
              " 'e',\n",
              " 'min',\n",
              " 'values',\n",
              " 'reported',\n",
              " 'finger',\n",
              " 'tinnitus',\n",
              " 'coated',\n",
              " 'performed',\n",
              " 'events',\n",
              " 'response',\n",
              " 'relief',\n",
              " 'off',\n",
              " 'ascorbic',\n",
              " 'motivation',\n",
              " 'soreness',\n",
              " 'toes',\n",
              " 'differences',\n",
              " 'absorption',\n",
              " 'containing',\n",
              " 'lateral',\n",
              " 'swallowing',\n",
              " 'developed',\n",
              " 'charleyhorse',\n",
              " 'stress',\n",
              " 'cough',\n",
              " 'parkinson',\n",
              " 'ankles',\n",
              " 'conditions',\n",
              " 'vitamin',\n",
              " 'change',\n",
              " 'given',\n",
              " 'investigated',\n",
              " 'who',\n",
              " 'strength',\n",
              " 'parameters',\n",
              " 'reduction',\n",
              " 'rheumatoid',\n",
              " 'paracetamol',\n",
              " 'years',\n",
              " 'order',\n",
              " 'w',\n",
              " 'subjects',\n",
              " 'either',\n",
              " 'four',\n",
              " 'x',\n",
              " 'heel',\n",
              " 'indomethacin',\n",
              " 'ca',\n",
              " 'size',\n",
              " 'face',\n",
              " 'rapid',\n",
              " 'assessed',\n",
              " 'auc',\n",
              " 'v',\n",
              " 'properties',\n",
              " 'such',\n",
              " 'dark',\n",
              " 'excruciating',\n",
              " 'phase',\n",
              " 'tendon',\n",
              " 'new',\n",
              " 'restless',\n",
              " 'enzymes',\n",
              " 'intense',\n",
              " 'safety',\n",
              " 'they',\n",
              " 'measured',\n",
              " 'post',\n",
              " 'palpitations',\n",
              " 'felt',\n",
              " 'nerve',\n",
              " 'dyspnoea',\n",
              " 'ratio',\n",
              " 'indigestion',\n",
              " 'compare',\n",
              " 'hot',\n",
              " 'without',\n",
              " 'steroidal',\n",
              " 'within',\n",
              " 'mm',\n",
              " 'statistically',\n",
              " 'depressed',\n",
              " 'twitch',\n",
              " 'healthy',\n",
              " 'range',\n",
              " 'lupus',\n",
              " 'edema',\n",
              " 'fingers',\n",
              " 'urinary',\n",
              " 'speech',\n",
              " 'delivery',\n",
              " 'injection',\n",
              " 'bioavailability',\n",
              " 'number',\n",
              " 'oa',\n",
              " 'liquid',\n",
              " 'through',\n",
              " 'included',\n",
              " 'ng',\n",
              " 'night',\n",
              " 'taste',\n",
              " 'down',\n",
              " 'major',\n",
              " 'menopause',\n",
              " 'overall',\n",
              " 'fish',\n",
              " 'clearly',\n",
              " 'related',\n",
              " 'determined',\n",
              " 'decrease',\n",
              " 'vivo',\n",
              " 'tightness',\n",
              " 'scale',\n",
              " 'form',\n",
              " 'breathing',\n",
              " 'therapeutic',\n",
              " 'ulcer',\n",
              " 'k',\n",
              " 'dreams',\n",
              " 'potential',\n",
              " 'samples',\n",
              " 'colic',\n",
              " 'limbs',\n",
              " 'drowsy',\n",
              " 'process',\n",
              " 'amyotrophic',\n",
              " 'any',\n",
              " 'tissue',\n",
              " 'applied',\n",
              " 'ii',\n",
              " 'active',\n",
              " 'moderate',\n",
              " 'evaluate',\n",
              " 'some',\n",
              " 'tolerability',\n",
              " 'wrist',\n",
              " 'development',\n",
              " 'terrible',\n",
              " 'ability',\n",
              " 'fever',\n",
              " 'gout',\n",
              " 'normal',\n",
              " 'mobility',\n",
              " 'reaction',\n",
              " 'scores',\n",
              " 'light',\n",
              " 'co',\n",
              " 'heartburn',\n",
              " 'medication',\n",
              " 'mouth',\n",
              " 'aqueous',\n",
              " 'human',\n",
              " 'demonstrated',\n",
              " 'provoked',\n",
              " 'products',\n",
              " 'minutes',\n",
              " 'per',\n",
              " 'advil',\n",
              " 'greater',\n",
              " 'nasal',\n",
              " 'bone',\n",
              " 'trouble',\n",
              " 'sustained',\n",
              " 'primary',\n",
              " 'fenofibrate',\n",
              " 'our',\n",
              " 'twitching',\n",
              " 'revealed',\n",
              " 'misoprostol',\n",
              " 'addition',\n",
              " 'always',\n",
              " 'aspirin',\n",
              " 'attacks',\n",
              " 'baseline',\n",
              " 'creatinine',\n",
              " 'bowel',\n",
              " 'dependent',\n",
              " 'tylenol',\n",
              " 'good',\n",
              " 'sinus',\n",
              " 'aim',\n",
              " 'tract',\n",
              " 'matrix',\n",
              " 'uterine',\n",
              " 'think',\n",
              " 'cancer',\n",
              " 'breath',\n",
              " 'move',\n",
              " 'hypertension',\n",
              " 'every',\n",
              " 'better',\n",
              " 'further',\n",
              " 'action',\n",
              " 'about',\n",
              " 'coq10',\n",
              " 'being',\n",
              " 'aleve',\n",
              " 'cox',\n",
              " 'improvement',\n",
              " 'protein',\n",
              " 'fog',\n",
              " 'although',\n",
              " 'shown',\n",
              " 'exercise',\n",
              " 'indicated',\n",
              " 'polymer',\n",
              " 'o',\n",
              " 'male',\n",
              " 'end',\n",
              " 'mice',\n",
              " 'various',\n",
              " 'facial',\n",
              " 'elbows',\n",
              " 'dosage',\n",
              " '+',\n",
              " 'na',\n",
              " 'animals',\n",
              " 'thighs',\n",
              " 'horses',\n",
              " 'months',\n",
              " 'cerebrovascular',\n",
              " 'whereas',\n",
              " 'permeation',\n",
              " 'initial',\n",
              " 'finding',\n",
              " 'volunteers',\n",
              " 'alone',\n",
              " 'cases',\n",
              " 'content',\n",
              " 'alpha',\n",
              " 'risk',\n",
              " 'suggest',\n",
              " 'six',\n",
              " 'f',\n",
              " 'experimental',\n",
              " 'lethargy',\n",
              " 'trials',\n",
              " 'treatments',\n",
              " 'complex',\n",
              " 'plantar',\n",
              " 'mechanism',\n",
              " 'me',\n",
              " 'extremity',\n",
              " 'numb',\n",
              " 'same',\n",
              " 'tolerance',\n",
              " 'surface',\n",
              " 'sharp',\n",
              " 'tight',\n",
              " 'long',\n",
              " 'onset',\n",
              " 'conducted',\n",
              " 'divided',\n",
              " 'physical',\n",
              " 'presence',\n",
              " 'malignant',\n",
              " 'moody',\n",
              " 'loose',\n",
              " 'accident',\n",
              " 'intensity',\n",
              " 'oedema',\n",
              " 'standard',\n",
              " 'pulse',\n",
              " 'inhibition',\n",
              " 'followed',\n",
              " 'randomly',\n",
              " 'formation',\n",
              " 'inhibitor',\n",
              " 'hardly',\n",
              " 'free',\n",
              " 'hour',\n",
              " 'agents',\n",
              " 'rat',\n",
              " 'pharmaceutical',\n",
              " 'agent',\n",
              " 'microspheres',\n",
              " 'panic',\n",
              " 'combined',\n",
              " 'exposure',\n",
              " 'getting',\n",
              " 'relative',\n",
              " 'congestion',\n",
              " 'charley',\n",
              " 'corneal',\n",
              " 'local',\n",
              " 'case',\n",
              " 'available',\n",
              " 'vehicle',\n",
              " 'liptor',\n",
              " 'fast',\n",
              " 'natural',\n",
              " 'peak',\n",
              " 'fatigued',\n",
              " 'naproxen',\n",
              " 'amount',\n",
              " 'enteric',\n",
              " 'versus',\n",
              " 'barely',\n",
              " 'cm',\n",
              " 'th',\n",
              " 'efficiency',\n",
              " 'eczema',\n",
              " 'tricor',\n",
              " 'analgesia',\n",
              " 'generally',\n",
              " 'calcium',\n",
              " 'rhabdomyolysis',\n",
              " 'evaluation',\n",
              " 'profile',\n",
              " 'systemic',\n",
              " 'profiles',\n",
              " 'determine',\n",
              " 'should',\n",
              " 'slurred',\n",
              " 'ms',\n",
              " 'coronary',\n",
              " 'ringing',\n",
              " 'nervous',\n",
              " 'then',\n",
              " 'deep',\n",
              " 'among',\n",
              " 'produced',\n",
              " 'drive',\n",
              " 'ci',\n",
              " 'sensations',\n",
              " 'sugar',\n",
              " 'cmax',\n",
              " 'duration',\n",
              " 'ethyl',\n",
              " 'resulted',\n",
              " 'quality',\n",
              " 'diabetic',\n",
              " 'vas',\n",
              " 'shortness',\n",
              " 'pruritus',\n",
              " 'stamina',\n",
              " 'including',\n",
              " 'secondary',\n",
              " 'sick',\n",
              " 'irregular',\n",
              " 'sex',\n",
              " 'periods',\n",
              " 'score',\n",
              " 'improved',\n",
              " 'fluid',\n",
              " 'caused',\n",
              " 'assessment',\n",
              " 'als',\n",
              " 'frequent',\n",
              " 'pellets',\n",
              " 'maximum',\n",
              " 'age',\n",
              " 'pharmacokinetic',\n",
              " 'forgetful',\n",
              " 'investigate',\n",
              " 'fasciitis',\n",
              " 'gi',\n",
              " 'lost',\n",
              " 'complete',\n",
              " 'started',\n",
              " 'hunger',\n",
              " 'extremely',\n",
              " 'review',\n",
              " 'mental',\n",
              " 'models',\n",
              " 'synthesis',\n",
              " 'according',\n",
              " 'tension',\n",
              " 'common',\n",
              " 'tested',\n",
              " 'even',\n",
              " 'temperature',\n",
              " 'cataract',\n",
              " 'morning',\n",
              " 'stroke',\n",
              " 'product',\n",
              " 'patch',\n",
              " 'central',\n",
              " 'commercial',\n",
              " 'evidence',\n",
              " '3',\n",
              " 'tolerated',\n",
              " 'erythematosus',\n",
              " 'beads',\n",
              " 'once',\n",
              " 'growth',\n",
              " 'de',\n",
              " 'examined',\n",
              " 'solid',\n",
              " 'thoughts',\n",
              " 'five',\n",
              " 'third',\n",
              " 'ldl',\n",
              " 'pre',\n",
              " 'flushing',\n",
              " 'reference',\n",
              " 'achieved',\n",
              " 'neurontin',\n",
              " 'rofecoxib',\n",
              " 'dizzy',\n",
              " 'respiratory',\n",
              " 'rectal',\n",
              " 'achilles',\n",
              " 'comparison',\n",
              " 'strain',\n",
              " 'hypersomnia',\n",
              " 'interaction',\n",
              " 'increasing',\n",
              " 'food',\n",
              " 'global',\n",
              " 'cataflam',\n",
              " 'production',\n",
              " 'norvasc',\n",
              " 'region',\n",
              " 'zetia',\n",
              " 'phosphate',\n",
              " 'medium',\n",
              " 'beta',\n",
              " 'old',\n",
              " 'inhibited',\n",
              " 'saline',\n",
              " 'aptyalism',\n",
              " 'sensitivity',\n",
              " 'capsules',\n",
              " 'comparable',\n",
              " 'participants',\n",
              " 'cardiovascular',\n",
              " 'value',\n",
              " 'technique',\n",
              " 'least',\n",
              " 'codeine',\n",
              " 'ear',\n",
              " ':',\n",
              " 'menorrhagia',\n",
              " 'film',\n",
              " 'because',\n",
              " 'ocular',\n",
              " 'design',\n",
              " 'itchy',\n",
              " 'scalp',\n",
              " 'drops',\n",
              " 'superior',\n",
              " 'condition',\n",
              " 'dysfunction',\n",
              " 'retention',\n",
              " 'bp',\n",
              " 'mass',\n",
              " 'sweats',\n",
              " 'around',\n",
              " 'diffusion',\n",
              " 'morphine',\n",
              " 'expression',\n",
              " 'preparation',\n",
              " 'intestinal',\n",
              " 'carried',\n",
              " 'erythema',\n",
              " 'year',\n",
              " 'show',\n",
              " 'methods',\n",
              " 'prednisone',\n",
              " 'venous',\n",
              " 'recorded',\n",
              " 'influence',\n",
              " 'stool',\n",
              " 'determination',\n",
              " 'findings',\n",
              " 'affected',\n",
              " 'palsy',\n",
              " 'thus',\n",
              " 'cpk',\n",
              " 'care',\n",
              " 'second',\n",
              " 'looks',\n",
              " 'novel',\n",
              " 'hard',\n",
              " 'microg',\n",
              " 'cross',\n",
              " 'ketorolac',\n",
              " 'early',\n",
              " 'degrees',\n",
              " 'volume',\n",
              " 'asthma',\n",
              " 'sensitive',\n",
              " 'state',\n",
              " 'inability',\n",
              " 'possible',\n",
              " 'lopid',\n",
              " 'indicate',\n",
              " 'tachycardia',\n",
              " 'density',\n",
              " 'membrane',\n",
              " 'characterized',\n",
              " 'hplc',\n",
              " 'lipid',\n",
              " 'antiinflammatory',\n",
              " 'slow',\n",
              " 'prostaglandin',\n",
              " 'serious',\n",
              " 'preparations',\n",
              " 'provided',\n",
              " 'extent',\n",
              " 'small',\n",
              " 'considered',\n",
              " 'rates',\n",
              " 'climb',\n",
              " 'cd',\n",
              " 'medications',\n",
              " 'spasmodic',\n",
              " 'bell',\n",
              " 'omega-3-acid',\n",
              " 'esters-90',\n",
              " 'bursitis',\n",
              " 'difficult',\n",
              " 'whether',\n",
              " 'several',\n",
              " 'little',\n",
              " 'against',\n",
              " 'intramuscular',\n",
              " 'flow',\n",
              " 'across',\n",
              " 'responses',\n",
              " 'faster',\n",
              " 'month',\n",
              " 'specific',\n",
              " 'forearm',\n",
              " 'therefore',\n",
              " 'hurts',\n",
              " 'receiving',\n",
              " 'structure',\n",
              " 'random',\n",
              " 'lipex',\n",
              " 'large',\n",
              " '2',\n",
              " 'self',\n",
              " 'loaded',\n",
              " 'hepatic',\n",
              " 'inhibitors',\n",
              " 'extraction',\n",
              " 'plus',\n",
              " 'experienced',\n",
              " 'confidence',\n",
              " 'solubility',\n",
              " 'buffer',\n",
              " 'index',\n",
              " 'just',\n",
              " 'horrible',\n",
              " 'analyzed',\n",
              " 'made',\n",
              " 'provide',\n",
              " 'rigidity',\n",
              " 'ophthalmic',\n",
              " 'exhibited',\n",
              " 'il',\n",
              " 'particle',\n",
              " 'detection',\n",
              " 'site',\n",
              " 'vascular',\n",
              " ...]"
            ]
          },
          "metadata": {
            "tags": []
          },
          "execution_count": 18
        }
      ]
    },
    {
      "cell_type": "code",
      "metadata": {
        "id": "yPWr03mls3VT",
        "outputId": "943dd542-0c6f-4a57-ad7b-2709d0295359",
        "colab": {
          "base_uri": "https://localhost:8080/",
          "height": 17
        }
      },
      "source": [
        "model_path = path/'models'\n",
        "model_path.mkdir(exist_ok=True)\n",
        "url = 'http://files.fast.ai/models/wt103_v1/'\n",
        "download_url(f'{url}lstm_wt103.pth', model_path/'lstm_wt103.pth')\n",
        "download_url(f'{url}itos_wt103.pkl', model_path/'itos_wt103.pkl')"
      ],
      "execution_count": 19,
      "outputs": [
        {
          "output_type": "display_data",
          "data": {
            "text/html": [
              ""
            ],
            "text/plain": [
              "<IPython.core.display.HTML object>"
            ]
          },
          "metadata": {
            "tags": []
          }
        },
        {
          "output_type": "display_data",
          "data": {
            "text/html": [
              ""
            ],
            "text/plain": [
              "<IPython.core.display.HTML object>"
            ]
          },
          "metadata": {
            "tags": []
          }
        }
      ]
    },
    {
      "cell_type": "code",
      "metadata": {
        "id": "JRzvWg8RtGGr",
        "outputId": "249ce87f-7d3e-4edb-93a2-a206f8ef6964",
        "colab": {
          "base_uri": "https://localhost:8080/",
          "height": 34
        }
      },
      "source": [
        "learn = language_model_learner(data_lm, AWD_LSTM, drop_mult=0.5)"
      ],
      "execution_count": 20,
      "outputs": [
        {
          "output_type": "stream",
          "text": [
            "Downloading https://s3.amazonaws.com/fast-ai-modelzoo/wt103-fwd.tgz\n"
          ],
          "name": "stdout"
        },
        {
          "output_type": "display_data",
          "data": {
            "text/html": [
              ""
            ],
            "text/plain": [
              "<IPython.core.display.HTML object>"
            ]
          },
          "metadata": {
            "tags": []
          }
        }
      ]
    },
    {
      "cell_type": "code",
      "metadata": {
        "id": "xKK7GeBev7Xn",
        "outputId": "bfa12f4b-0572-4440-d710-ffe077049fc5",
        "colab": {
          "base_uri": "https://localhost:8080/",
          "height": 80
        }
      },
      "source": [
        "learn.fit_one_cycle(1, 1e-2)"
      ],
      "execution_count": 21,
      "outputs": [
        {
          "output_type": "display_data",
          "data": {
            "text/html": [
              "<table border=\"1\" class=\"dataframe\">\n",
              "  <thead>\n",
              "    <tr style=\"text-align: left;\">\n",
              "      <th>epoch</th>\n",
              "      <th>train_loss</th>\n",
              "      <th>valid_loss</th>\n",
              "      <th>accuracy</th>\n",
              "      <th>time</th>\n",
              "    </tr>\n",
              "  </thead>\n",
              "  <tbody>\n",
              "    <tr>\n",
              "      <td>0</td>\n",
              "      <td>3.775534</td>\n",
              "      <td>3.369524</td>\n",
              "      <td>0.459884</td>\n",
              "      <td>26:41</td>\n",
              "    </tr>\n",
              "  </tbody>\n",
              "</table>"
            ],
            "text/plain": [
              "<IPython.core.display.HTML object>"
            ]
          },
          "metadata": {
            "tags": []
          }
        }
      ]
    },
    {
      "cell_type": "code",
      "metadata": {
        "id": "iB7rHGQCwd12"
      },
      "source": [
        "# learn.fit_one_cycle(1, 1e-2)"
      ],
      "execution_count": 22,
      "outputs": []
    },
    {
      "cell_type": "code",
      "metadata": {
        "id": "_BnSuAeCwkBe"
      },
      "source": [
        "# learn.fit_one_cycle(1, 1e-3)"
      ],
      "execution_count": 23,
      "outputs": []
    },
    {
      "cell_type": "code",
      "metadata": {
        "id": "MuTm-RFjwrEX",
        "outputId": "f9c621c9-e858-4165-be02-1ea366a93f91",
        "colab": {
          "base_uri": "https://localhost:8080/",
          "height": 80
        }
      },
      "source": [
        "learn.fit_one_cycle(1, 1e-3)"
      ],
      "execution_count": 24,
      "outputs": [
        {
          "output_type": "display_data",
          "data": {
            "text/html": [
              "<table border=\"1\" class=\"dataframe\">\n",
              "  <thead>\n",
              "    <tr style=\"text-align: left;\">\n",
              "      <th>epoch</th>\n",
              "      <th>train_loss</th>\n",
              "      <th>valid_loss</th>\n",
              "      <th>accuracy</th>\n",
              "      <th>time</th>\n",
              "    </tr>\n",
              "  </thead>\n",
              "  <tbody>\n",
              "    <tr>\n",
              "      <td>0</td>\n",
              "      <td>3.419018</td>\n",
              "      <td>3.312649</td>\n",
              "      <td>0.464685</td>\n",
              "      <td>26:34</td>\n",
              "    </tr>\n",
              "  </tbody>\n",
              "</table>"
            ],
            "text/plain": [
              "<IPython.core.display.HTML object>"
            ]
          },
          "metadata": {
            "tags": []
          }
        }
      ]
    },
    {
      "cell_type": "code",
      "metadata": {
        "id": "1Er2ExO8wr7Y"
      },
      "source": [
        "learn.save_encoder('pubmed_ask_fold3_first')"
      ],
      "execution_count": 25,
      "outputs": []
    },
    {
      "cell_type": "code",
      "metadata": {
        "id": "z52cZs2qwvad",
        "outputId": "7d6f5295-7d57-4063-fe95-1f00bb2937b4",
        "colab": {
          "base_uri": "https://localhost:8080/",
          "height": 80
        }
      },
      "source": [
        "learn = text_classifier_learner(data_clas,AWD_LSTM, drop_mult=0.5)\n",
        "learn.load_encoder('pubmed_ask_fold3_first')\n",
        "learn.fit_one_cycle(1, 1e-2)"
      ],
      "execution_count": 26,
      "outputs": [
        {
          "output_type": "display_data",
          "data": {
            "text/html": [
              "<table border=\"1\" class=\"dataframe\">\n",
              "  <thead>\n",
              "    <tr style=\"text-align: left;\">\n",
              "      <th>epoch</th>\n",
              "      <th>train_loss</th>\n",
              "      <th>valid_loss</th>\n",
              "      <th>accuracy</th>\n",
              "      <th>time</th>\n",
              "    </tr>\n",
              "  </thead>\n",
              "  <tbody>\n",
              "    <tr>\n",
              "      <td>0</td>\n",
              "      <td>3.953424</td>\n",
              "      <td>3.621862</td>\n",
              "      <td>0.379135</td>\n",
              "      <td>01:01</td>\n",
              "    </tr>\n",
              "  </tbody>\n",
              "</table>"
            ],
            "text/plain": [
              "<IPython.core.display.HTML object>"
            ]
          },
          "metadata": {
            "tags": []
          }
        }
      ]
    },
    {
      "cell_type": "code",
      "metadata": {
        "id": "ImwQP1PJwzxd",
        "outputId": "fe7bf975-1b2a-46a2-d34f-37c9f4630428",
        "colab": {
          "base_uri": "https://localhost:8080/",
          "height": 80
        }
      },
      "source": [
        "learn.freeze_to(-2)\n",
        "learn.fit_one_cycle(1, slice(5e-3/2., 5e-3))"
      ],
      "execution_count": 27,
      "outputs": [
        {
          "output_type": "display_data",
          "data": {
            "text/html": [
              "<table border=\"1\" class=\"dataframe\">\n",
              "  <thead>\n",
              "    <tr style=\"text-align: left;\">\n",
              "      <th>epoch</th>\n",
              "      <th>train_loss</th>\n",
              "      <th>valid_loss</th>\n",
              "      <th>accuracy</th>\n",
              "      <th>time</th>\n",
              "    </tr>\n",
              "  </thead>\n",
              "  <tbody>\n",
              "    <tr>\n",
              "      <td>0</td>\n",
              "      <td>2.981645</td>\n",
              "      <td>3.149585</td>\n",
              "      <td>0.449109</td>\n",
              "      <td>01:10</td>\n",
              "    </tr>\n",
              "  </tbody>\n",
              "</table>"
            ],
            "text/plain": [
              "<IPython.core.display.HTML object>"
            ]
          },
          "metadata": {
            "tags": []
          }
        }
      ]
    },
    {
      "cell_type": "code",
      "metadata": {
        "id": "Owff_BJXw53u",
        "outputId": "79b7e78c-6b1f-47e4-9d0c-0461d3562f94",
        "colab": {
          "base_uri": "https://localhost:8080/",
          "height": 80
        }
      },
      "source": [
        "learn.unfreeze()\n",
        "learn.fit_one_cycle(1, slice(2e-3/100, 2e-3))"
      ],
      "execution_count": 28,
      "outputs": [
        {
          "output_type": "display_data",
          "data": {
            "text/html": [
              "<table border=\"1\" class=\"dataframe\">\n",
              "  <thead>\n",
              "    <tr style=\"text-align: left;\">\n",
              "      <th>epoch</th>\n",
              "      <th>train_loss</th>\n",
              "      <th>valid_loss</th>\n",
              "      <th>accuracy</th>\n",
              "      <th>time</th>\n",
              "    </tr>\n",
              "  </thead>\n",
              "  <tbody>\n",
              "    <tr>\n",
              "      <td>0</td>\n",
              "      <td>2.227067</td>\n",
              "      <td>2.635718</td>\n",
              "      <td>0.544529</td>\n",
              "      <td>02:56</td>\n",
              "    </tr>\n",
              "  </tbody>\n",
              "</table>"
            ],
            "text/plain": [
              "<IPython.core.display.HTML object>"
            ]
          },
          "metadata": {
            "tags": []
          }
        }
      ]
    },
    {
      "cell_type": "code",
      "metadata": {
        "id": "lqAyu56V8Waq",
        "outputId": "934c3c94-5199-4098-91ed-f6cbecfe52e4",
        "colab": {
          "base_uri": "https://localhost:8080/",
          "height": 111
        }
      },
      "source": [
        "learn.fit_one_cycle(2, slice(2e-3/100, 2e-3))"
      ],
      "execution_count": 29,
      "outputs": [
        {
          "output_type": "display_data",
          "data": {
            "text/html": [
              "<table border=\"1\" class=\"dataframe\">\n",
              "  <thead>\n",
              "    <tr style=\"text-align: left;\">\n",
              "      <th>epoch</th>\n",
              "      <th>train_loss</th>\n",
              "      <th>valid_loss</th>\n",
              "      <th>accuracy</th>\n",
              "      <th>time</th>\n",
              "    </tr>\n",
              "  </thead>\n",
              "  <tbody>\n",
              "    <tr>\n",
              "      <td>0</td>\n",
              "      <td>1.979082</td>\n",
              "      <td>2.281686</td>\n",
              "      <td>0.610687</td>\n",
              "      <td>03:01</td>\n",
              "    </tr>\n",
              "    <tr>\n",
              "      <td>1</td>\n",
              "      <td>1.648066</td>\n",
              "      <td>2.119425</td>\n",
              "      <td>0.624682</td>\n",
              "      <td>03:07</td>\n",
              "    </tr>\n",
              "  </tbody>\n",
              "</table>"
            ],
            "text/plain": [
              "<IPython.core.display.HTML object>"
            ]
          },
          "metadata": {
            "tags": []
          }
        }
      ]
    },
    {
      "cell_type": "code",
      "metadata": {
        "id": "a7I1xMRp8bUd",
        "outputId": "8fedd562-8384-4320-ee7e-feb02f6b6586",
        "colab": {
          "base_uri": "https://localhost:8080/",
          "height": 111
        }
      },
      "source": [
        "learn.fit_one_cycle(2, slice(2e-3/100, 2e-3))"
      ],
      "execution_count": 30,
      "outputs": [
        {
          "output_type": "display_data",
          "data": {
            "text/html": [
              "<table border=\"1\" class=\"dataframe\">\n",
              "  <thead>\n",
              "    <tr style=\"text-align: left;\">\n",
              "      <th>epoch</th>\n",
              "      <th>train_loss</th>\n",
              "      <th>valid_loss</th>\n",
              "      <th>accuracy</th>\n",
              "      <th>time</th>\n",
              "    </tr>\n",
              "  </thead>\n",
              "  <tbody>\n",
              "    <tr>\n",
              "      <td>0</td>\n",
              "      <td>1.448841</td>\n",
              "      <td>1.925142</td>\n",
              "      <td>0.664122</td>\n",
              "      <td>03:02</td>\n",
              "    </tr>\n",
              "    <tr>\n",
              "      <td>1</td>\n",
              "      <td>1.340319</td>\n",
              "      <td>1.811462</td>\n",
              "      <td>0.687023</td>\n",
              "      <td>03:04</td>\n",
              "    </tr>\n",
              "  </tbody>\n",
              "</table>"
            ],
            "text/plain": [
              "<IPython.core.display.HTML object>"
            ]
          },
          "metadata": {
            "tags": []
          }
        }
      ]
    },
    {
      "cell_type": "code",
      "metadata": {
        "id": "UAnti-XmGVfO",
        "outputId": "b9787c76-4ebf-42f2-9673-e0e29c6028cd",
        "colab": {
          "base_uri": "https://localhost:8080/",
          "height": 111
        }
      },
      "source": [
        "learn.fit_one_cycle(2, slice(2e-3/100, 2e-3))"
      ],
      "execution_count": 31,
      "outputs": [
        {
          "output_type": "display_data",
          "data": {
            "text/html": [
              "<table border=\"1\" class=\"dataframe\">\n",
              "  <thead>\n",
              "    <tr style=\"text-align: left;\">\n",
              "      <th>epoch</th>\n",
              "      <th>train_loss</th>\n",
              "      <th>valid_loss</th>\n",
              "      <th>accuracy</th>\n",
              "      <th>time</th>\n",
              "    </tr>\n",
              "  </thead>\n",
              "  <tbody>\n",
              "    <tr>\n",
              "      <td>0</td>\n",
              "      <td>1.237259</td>\n",
              "      <td>1.722398</td>\n",
              "      <td>0.692112</td>\n",
              "      <td>02:54</td>\n",
              "    </tr>\n",
              "    <tr>\n",
              "      <td>1</td>\n",
              "      <td>1.034926</td>\n",
              "      <td>1.623517</td>\n",
              "      <td>0.712468</td>\n",
              "      <td>02:54</td>\n",
              "    </tr>\n",
              "  </tbody>\n",
              "</table>"
            ],
            "text/plain": [
              "<IPython.core.display.HTML object>"
            ]
          },
          "metadata": {
            "tags": []
          }
        }
      ]
    },
    {
      "cell_type": "code",
      "metadata": {
        "id": "bIft7W25GwSu",
        "outputId": "393ad6a4-e187-4c3d-9ccf-5b8407d8f86f",
        "colab": {
          "base_uri": "https://localhost:8080/",
          "height": 111
        }
      },
      "source": [
        "learn.fit_one_cycle(2, slice(2e-3/100, 2e-3))"
      ],
      "execution_count": 32,
      "outputs": [
        {
          "output_type": "display_data",
          "data": {
            "text/html": [
              "<table border=\"1\" class=\"dataframe\">\n",
              "  <thead>\n",
              "    <tr style=\"text-align: left;\">\n",
              "      <th>epoch</th>\n",
              "      <th>train_loss</th>\n",
              "      <th>valid_loss</th>\n",
              "      <th>accuracy</th>\n",
              "      <th>time</th>\n",
              "    </tr>\n",
              "  </thead>\n",
              "  <tbody>\n",
              "    <tr>\n",
              "      <td>0</td>\n",
              "      <td>1.023252</td>\n",
              "      <td>1.572050</td>\n",
              "      <td>0.721374</td>\n",
              "      <td>02:56</td>\n",
              "    </tr>\n",
              "    <tr>\n",
              "      <td>1</td>\n",
              "      <td>0.830072</td>\n",
              "      <td>1.535598</td>\n",
              "      <td>0.731552</td>\n",
              "      <td>03:10</td>\n",
              "    </tr>\n",
              "  </tbody>\n",
              "</table>"
            ],
            "text/plain": [
              "<IPython.core.display.HTML object>"
            ]
          },
          "metadata": {
            "tags": []
          }
        }
      ]
    },
    {
      "cell_type": "code",
      "metadata": {
        "id": "EEHszVRvGyFt",
        "outputId": "06413824-f9d1-41e5-a2e4-806bf9112bf9",
        "colab": {
          "base_uri": "https://localhost:8080/",
          "height": 111
        }
      },
      "source": [
        "learn.fit_one_cycle(2, slice(2e-3/100, 2e-3))"
      ],
      "execution_count": 33,
      "outputs": [
        {
          "output_type": "display_data",
          "data": {
            "text/html": [
              "<table border=\"1\" class=\"dataframe\">\n",
              "  <thead>\n",
              "    <tr style=\"text-align: left;\">\n",
              "      <th>epoch</th>\n",
              "      <th>train_loss</th>\n",
              "      <th>valid_loss</th>\n",
              "      <th>accuracy</th>\n",
              "      <th>time</th>\n",
              "    </tr>\n",
              "  </thead>\n",
              "  <tbody>\n",
              "    <tr>\n",
              "      <td>0</td>\n",
              "      <td>0.818962</td>\n",
              "      <td>1.508651</td>\n",
              "      <td>0.722646</td>\n",
              "      <td>02:52</td>\n",
              "    </tr>\n",
              "    <tr>\n",
              "      <td>1</td>\n",
              "      <td>0.708440</td>\n",
              "      <td>1.467912</td>\n",
              "      <td>0.740458</td>\n",
              "      <td>02:54</td>\n",
              "    </tr>\n",
              "  </tbody>\n",
              "</table>"
            ],
            "text/plain": [
              "<IPython.core.display.HTML object>"
            ]
          },
          "metadata": {
            "tags": []
          }
        }
      ]
    },
    {
      "cell_type": "code",
      "metadata": {
        "id": "XsHfrhCHG3dN",
        "outputId": "abe48f25-d737-4d0e-db35-e965d863f771",
        "colab": {
          "base_uri": "https://localhost:8080/",
          "height": 173
        }
      },
      "source": [
        "learn.fit_one_cycle(4, slice(2e-3/100, 2e-3))"
      ],
      "execution_count": 34,
      "outputs": [
        {
          "output_type": "display_data",
          "data": {
            "text/html": [
              "<table border=\"1\" class=\"dataframe\">\n",
              "  <thead>\n",
              "    <tr style=\"text-align: left;\">\n",
              "      <th>epoch</th>\n",
              "      <th>train_loss</th>\n",
              "      <th>valid_loss</th>\n",
              "      <th>accuracy</th>\n",
              "      <th>time</th>\n",
              "    </tr>\n",
              "  </thead>\n",
              "  <tbody>\n",
              "    <tr>\n",
              "      <td>0</td>\n",
              "      <td>0.673233</td>\n",
              "      <td>1.406487</td>\n",
              "      <td>0.741730</td>\n",
              "      <td>03:06</td>\n",
              "    </tr>\n",
              "    <tr>\n",
              "      <td>1</td>\n",
              "      <td>0.678296</td>\n",
              "      <td>1.362355</td>\n",
              "      <td>0.746819</td>\n",
              "      <td>02:57</td>\n",
              "    </tr>\n",
              "    <tr>\n",
              "      <td>2</td>\n",
              "      <td>0.554152</td>\n",
              "      <td>1.302543</td>\n",
              "      <td>0.767176</td>\n",
              "      <td>03:09</td>\n",
              "    </tr>\n",
              "    <tr>\n",
              "      <td>3</td>\n",
              "      <td>0.486135</td>\n",
              "      <td>1.279594</td>\n",
              "      <td>0.760814</td>\n",
              "      <td>03:05</td>\n",
              "    </tr>\n",
              "  </tbody>\n",
              "</table>"
            ],
            "text/plain": [
              "<IPython.core.display.HTML object>"
            ]
          },
          "metadata": {
            "tags": []
          }
        }
      ]
    },
    {
      "cell_type": "code",
      "metadata": {
        "id": "0Zsd99isb9EQ",
        "outputId": "9b518a40-1232-455e-ff64-d95d86674cbf",
        "colab": {
          "base_uri": "https://localhost:8080/",
          "height": 173
        }
      },
      "source": [
        "learn.fit_one_cycle(4, slice(2e-3/100, 2e-3))"
      ],
      "execution_count": 35,
      "outputs": [
        {
          "output_type": "display_data",
          "data": {
            "text/html": [
              "<table border=\"1\" class=\"dataframe\">\n",
              "  <thead>\n",
              "    <tr style=\"text-align: left;\">\n",
              "      <th>epoch</th>\n",
              "      <th>train_loss</th>\n",
              "      <th>valid_loss</th>\n",
              "      <th>accuracy</th>\n",
              "      <th>time</th>\n",
              "    </tr>\n",
              "  </thead>\n",
              "  <tbody>\n",
              "    <tr>\n",
              "      <td>0</td>\n",
              "      <td>0.468059</td>\n",
              "      <td>1.354765</td>\n",
              "      <td>0.754453</td>\n",
              "      <td>02:54</td>\n",
              "    </tr>\n",
              "    <tr>\n",
              "      <td>1</td>\n",
              "      <td>0.529577</td>\n",
              "      <td>1.324435</td>\n",
              "      <td>0.756997</td>\n",
              "      <td>03:08</td>\n",
              "    </tr>\n",
              "    <tr>\n",
              "      <td>2</td>\n",
              "      <td>0.437032</td>\n",
              "      <td>1.303158</td>\n",
              "      <td>0.758270</td>\n",
              "      <td>03:14</td>\n",
              "    </tr>\n",
              "    <tr>\n",
              "      <td>3</td>\n",
              "      <td>0.366792</td>\n",
              "      <td>1.282815</td>\n",
              "      <td>0.776081</td>\n",
              "      <td>03:05</td>\n",
              "    </tr>\n",
              "  </tbody>\n",
              "</table>"
            ],
            "text/plain": [
              "<IPython.core.display.HTML object>"
            ]
          },
          "metadata": {
            "tags": []
          }
        }
      ]
    },
    {
      "cell_type": "code",
      "metadata": {
        "id": "atNWNKDFPbuI",
        "outputId": "941fbdd5-3319-432d-bc4e-35a41c0aee0c",
        "colab": {
          "base_uri": "https://localhost:8080/",
          "height": 173
        }
      },
      "source": [
        "learn.fit_one_cycle(4, slice(2e-3/100, 2e-3))"
      ],
      "execution_count": 36,
      "outputs": [
        {
          "output_type": "display_data",
          "data": {
            "text/html": [
              "<table border=\"1\" class=\"dataframe\">\n",
              "  <thead>\n",
              "    <tr style=\"text-align: left;\">\n",
              "      <th>epoch</th>\n",
              "      <th>train_loss</th>\n",
              "      <th>valid_loss</th>\n",
              "      <th>accuracy</th>\n",
              "      <th>time</th>\n",
              "    </tr>\n",
              "  </thead>\n",
              "  <tbody>\n",
              "    <tr>\n",
              "      <td>0</td>\n",
              "      <td>0.357722</td>\n",
              "      <td>1.277156</td>\n",
              "      <td>0.774809</td>\n",
              "      <td>02:56</td>\n",
              "    </tr>\n",
              "    <tr>\n",
              "      <td>1</td>\n",
              "      <td>0.399266</td>\n",
              "      <td>1.310687</td>\n",
              "      <td>0.773537</td>\n",
              "      <td>02:55</td>\n",
              "    </tr>\n",
              "    <tr>\n",
              "      <td>2</td>\n",
              "      <td>0.339378</td>\n",
              "      <td>1.269419</td>\n",
              "      <td>0.777354</td>\n",
              "      <td>03:06</td>\n",
              "    </tr>\n",
              "    <tr>\n",
              "      <td>3</td>\n",
              "      <td>0.314142</td>\n",
              "      <td>1.273686</td>\n",
              "      <td>0.782443</td>\n",
              "      <td>02:59</td>\n",
              "    </tr>\n",
              "  </tbody>\n",
              "</table>"
            ],
            "text/plain": [
              "<IPython.core.display.HTML object>"
            ]
          },
          "metadata": {
            "tags": []
          }
        }
      ]
    },
    {
      "cell_type": "code",
      "metadata": {
        "id": "rKrBTZ0T1uVA",
        "outputId": "a3242eed-414d-4fc6-fe79-da678b244cd8",
        "colab": {
          "base_uri": "https://localhost:8080/",
          "height": 173
        }
      },
      "source": [
        "learn.fit_one_cycle(4, slice(2e-3/100, 2e-3))"
      ],
      "execution_count": 37,
      "outputs": [
        {
          "output_type": "display_data",
          "data": {
            "text/html": [
              "<table border=\"1\" class=\"dataframe\">\n",
              "  <thead>\n",
              "    <tr style=\"text-align: left;\">\n",
              "      <th>epoch</th>\n",
              "      <th>train_loss</th>\n",
              "      <th>valid_loss</th>\n",
              "      <th>accuracy</th>\n",
              "      <th>time</th>\n",
              "    </tr>\n",
              "  </thead>\n",
              "  <tbody>\n",
              "    <tr>\n",
              "      <td>0</td>\n",
              "      <td>0.291351</td>\n",
              "      <td>1.337048</td>\n",
              "      <td>0.783715</td>\n",
              "      <td>03:00</td>\n",
              "    </tr>\n",
              "    <tr>\n",
              "      <td>1</td>\n",
              "      <td>0.356508</td>\n",
              "      <td>1.371790</td>\n",
              "      <td>0.779898</td>\n",
              "      <td>03:01</td>\n",
              "    </tr>\n",
              "    <tr>\n",
              "      <td>2</td>\n",
              "      <td>0.287756</td>\n",
              "      <td>1.338387</td>\n",
              "      <td>0.786260</td>\n",
              "      <td>02:52</td>\n",
              "    </tr>\n",
              "    <tr>\n",
              "      <td>3</td>\n",
              "      <td>0.259964</td>\n",
              "      <td>1.343649</td>\n",
              "      <td>0.790076</td>\n",
              "      <td>02:56</td>\n",
              "    </tr>\n",
              "  </tbody>\n",
              "</table>"
            ],
            "text/plain": [
              "<IPython.core.display.HTML object>"
            ]
          },
          "metadata": {
            "tags": []
          }
        }
      ]
    },
    {
      "cell_type": "code",
      "metadata": {
        "id": "ajQC6WDg1yA9",
        "outputId": "5c904414-fd87-4e2d-f252-dfd8292bd8f8",
        "colab": {
          "base_uri": "https://localhost:8080/",
          "height": 173
        }
      },
      "source": [
        "learn.fit_one_cycle(4, slice(2e-3/100, 2e-3))"
      ],
      "execution_count": 38,
      "outputs": [
        {
          "output_type": "display_data",
          "data": {
            "text/html": [
              "<table border=\"1\" class=\"dataframe\">\n",
              "  <thead>\n",
              "    <tr style=\"text-align: left;\">\n",
              "      <th>epoch</th>\n",
              "      <th>train_loss</th>\n",
              "      <th>valid_loss</th>\n",
              "      <th>accuracy</th>\n",
              "      <th>time</th>\n",
              "    </tr>\n",
              "  </thead>\n",
              "  <tbody>\n",
              "    <tr>\n",
              "      <td>0</td>\n",
              "      <td>0.262811</td>\n",
              "      <td>1.326010</td>\n",
              "      <td>0.787532</td>\n",
              "      <td>03:09</td>\n",
              "    </tr>\n",
              "    <tr>\n",
              "      <td>1</td>\n",
              "      <td>0.291973</td>\n",
              "      <td>1.341781</td>\n",
              "      <td>0.790076</td>\n",
              "      <td>03:14</td>\n",
              "    </tr>\n",
              "    <tr>\n",
              "      <td>2</td>\n",
              "      <td>0.251963</td>\n",
              "      <td>1.361124</td>\n",
              "      <td>0.790076</td>\n",
              "      <td>03:01</td>\n",
              "    </tr>\n",
              "    <tr>\n",
              "      <td>3</td>\n",
              "      <td>0.226359</td>\n",
              "      <td>1.361892</td>\n",
              "      <td>0.784987</td>\n",
              "      <td>03:02</td>\n",
              "    </tr>\n",
              "  </tbody>\n",
              "</table>"
            ],
            "text/plain": [
              "<IPython.core.display.HTML object>"
            ]
          },
          "metadata": {
            "tags": []
          }
        }
      ]
    },
    {
      "cell_type": "code",
      "metadata": {
        "id": "KKydb0B4BKGk",
        "outputId": "01a04eb5-15ec-44c3-9722-663acf2d5747",
        "colab": {
          "base_uri": "https://localhost:8080/",
          "height": 173
        }
      },
      "source": [
        "learn.fit_one_cycle(4, slice(2e-3/100, 2e-3))"
      ],
      "execution_count": 39,
      "outputs": [
        {
          "output_type": "display_data",
          "data": {
            "text/html": [
              "<table border=\"1\" class=\"dataframe\">\n",
              "  <thead>\n",
              "    <tr style=\"text-align: left;\">\n",
              "      <th>epoch</th>\n",
              "      <th>train_loss</th>\n",
              "      <th>valid_loss</th>\n",
              "      <th>accuracy</th>\n",
              "      <th>time</th>\n",
              "    </tr>\n",
              "  </thead>\n",
              "  <tbody>\n",
              "    <tr>\n",
              "      <td>0</td>\n",
              "      <td>0.248831</td>\n",
              "      <td>1.393053</td>\n",
              "      <td>0.788804</td>\n",
              "      <td>03:10</td>\n",
              "    </tr>\n",
              "    <tr>\n",
              "      <td>1</td>\n",
              "      <td>0.274024</td>\n",
              "      <td>1.433186</td>\n",
              "      <td>0.778626</td>\n",
              "      <td>02:51</td>\n",
              "    </tr>\n",
              "    <tr>\n",
              "      <td>2</td>\n",
              "      <td>0.232363</td>\n",
              "      <td>1.343450</td>\n",
              "      <td>0.788804</td>\n",
              "      <td>03:12</td>\n",
              "    </tr>\n",
              "    <tr>\n",
              "      <td>3</td>\n",
              "      <td>0.202370</td>\n",
              "      <td>1.419886</td>\n",
              "      <td>0.786260</td>\n",
              "      <td>02:57</td>\n",
              "    </tr>\n",
              "  </tbody>\n",
              "</table>"
            ],
            "text/plain": [
              "<IPython.core.display.HTML object>"
            ]
          },
          "metadata": {
            "tags": []
          }
        }
      ]
    },
    {
      "cell_type": "code",
      "metadata": {
        "id": "T2APKtFKBpGY",
        "outputId": "3b2158ed-610e-4552-f36c-000eca48dc68",
        "colab": {
          "base_uri": "https://localhost:8080/",
          "height": 173
        }
      },
      "source": [
        "learn.fit_one_cycle(4, slice(2e-3/100, 2e-3))"
      ],
      "execution_count": 40,
      "outputs": [
        {
          "output_type": "display_data",
          "data": {
            "text/html": [
              "<table border=\"1\" class=\"dataframe\">\n",
              "  <thead>\n",
              "    <tr style=\"text-align: left;\">\n",
              "      <th>epoch</th>\n",
              "      <th>train_loss</th>\n",
              "      <th>valid_loss</th>\n",
              "      <th>accuracy</th>\n",
              "      <th>time</th>\n",
              "    </tr>\n",
              "  </thead>\n",
              "  <tbody>\n",
              "    <tr>\n",
              "      <td>0</td>\n",
              "      <td>0.215097</td>\n",
              "      <td>1.481093</td>\n",
              "      <td>0.779898</td>\n",
              "      <td>02:52</td>\n",
              "    </tr>\n",
              "    <tr>\n",
              "      <td>1</td>\n",
              "      <td>0.232115</td>\n",
              "      <td>1.416222</td>\n",
              "      <td>0.796438</td>\n",
              "      <td>02:52</td>\n",
              "    </tr>\n",
              "    <tr>\n",
              "      <td>2</td>\n",
              "      <td>0.229823</td>\n",
              "      <td>1.427312</td>\n",
              "      <td>0.800254</td>\n",
              "      <td>03:03</td>\n",
              "    </tr>\n",
              "    <tr>\n",
              "      <td>3</td>\n",
              "      <td>0.176463</td>\n",
              "      <td>1.485184</td>\n",
              "      <td>0.796438</td>\n",
              "      <td>02:49</td>\n",
              "    </tr>\n",
              "  </tbody>\n",
              "</table>"
            ],
            "text/plain": [
              "<IPython.core.display.HTML object>"
            ]
          },
          "metadata": {
            "tags": []
          }
        }
      ]
    },
    {
      "cell_type": "code",
      "metadata": {
        "id": "qtTypA1sPgLU",
        "outputId": "97d8f2bf-0fcc-47c4-bba7-9104bdf71bfb",
        "colab": {
          "base_uri": "https://localhost:8080/",
          "height": 111
        }
      },
      "source": [
        "learn.fit_one_cycle(2, slice(2e-3/100, 2e-3))"
      ],
      "execution_count": 41,
      "outputs": [
        {
          "output_type": "display_data",
          "data": {
            "text/html": [
              "<table border=\"1\" class=\"dataframe\">\n",
              "  <thead>\n",
              "    <tr style=\"text-align: left;\">\n",
              "      <th>epoch</th>\n",
              "      <th>train_loss</th>\n",
              "      <th>valid_loss</th>\n",
              "      <th>accuracy</th>\n",
              "      <th>time</th>\n",
              "    </tr>\n",
              "  </thead>\n",
              "  <tbody>\n",
              "    <tr>\n",
              "      <td>0</td>\n",
              "      <td>0.247829</td>\n",
              "      <td>1.387014</td>\n",
              "      <td>0.788804</td>\n",
              "      <td>02:58</td>\n",
              "    </tr>\n",
              "    <tr>\n",
              "      <td>1</td>\n",
              "      <td>0.192363</td>\n",
              "      <td>1.547557</td>\n",
              "      <td>0.790076</td>\n",
              "      <td>02:50</td>\n",
              "    </tr>\n",
              "  </tbody>\n",
              "</table>"
            ],
            "text/plain": [
              "<IPython.core.display.HTML object>"
            ]
          },
          "metadata": {
            "tags": []
          }
        }
      ]
    },
    {
      "cell_type": "code",
      "metadata": {
        "id": "b242kBsTUp9Y",
        "outputId": "ca542970-9b2e-443b-e7b7-5d6bb68e94b4",
        "colab": {
          "base_uri": "https://localhost:8080/",
          "height": 111
        }
      },
      "source": [
        "learn.fit_one_cycle(2, slice(2e-3/100, 2e-3))"
      ],
      "execution_count": 42,
      "outputs": [
        {
          "output_type": "display_data",
          "data": {
            "text/html": [
              "<table border=\"1\" class=\"dataframe\">\n",
              "  <thead>\n",
              "    <tr style=\"text-align: left;\">\n",
              "      <th>epoch</th>\n",
              "      <th>train_loss</th>\n",
              "      <th>valid_loss</th>\n",
              "      <th>accuracy</th>\n",
              "      <th>time</th>\n",
              "    </tr>\n",
              "  </thead>\n",
              "  <tbody>\n",
              "    <tr>\n",
              "      <td>0</td>\n",
              "      <td>0.205434</td>\n",
              "      <td>1.607537</td>\n",
              "      <td>0.788804</td>\n",
              "      <td>03:03</td>\n",
              "    </tr>\n",
              "    <tr>\n",
              "      <td>1</td>\n",
              "      <td>0.181384</td>\n",
              "      <td>1.456018</td>\n",
              "      <td>0.796438</td>\n",
              "      <td>02:58</td>\n",
              "    </tr>\n",
              "  </tbody>\n",
              "</table>"
            ],
            "text/plain": [
              "<IPython.core.display.HTML object>"
            ]
          },
          "metadata": {
            "tags": []
          }
        }
      ]
    },
    {
      "cell_type": "code",
      "metadata": {
        "id": "Duwf1Ih5VeDZ",
        "outputId": "19027d57-4a45-4005-8c2d-3188fcbc5791",
        "colab": {
          "base_uri": "https://localhost:8080/",
          "height": 80
        }
      },
      "source": [
        "learn.fit_one_cycle(1, slice(2e-3/100, 2e-3))"
      ],
      "execution_count": 43,
      "outputs": [
        {
          "output_type": "display_data",
          "data": {
            "text/html": [
              "<table border=\"1\" class=\"dataframe\">\n",
              "  <thead>\n",
              "    <tr style=\"text-align: left;\">\n",
              "      <th>epoch</th>\n",
              "      <th>train_loss</th>\n",
              "      <th>valid_loss</th>\n",
              "      <th>accuracy</th>\n",
              "      <th>time</th>\n",
              "    </tr>\n",
              "  </thead>\n",
              "  <tbody>\n",
              "    <tr>\n",
              "      <td>0</td>\n",
              "      <td>0.180826</td>\n",
              "      <td>1.408654</td>\n",
              "      <td>0.797710</td>\n",
              "      <td>02:57</td>\n",
              "    </tr>\n",
              "  </tbody>\n",
              "</table>"
            ],
            "text/plain": [
              "<IPython.core.display.HTML object>"
            ]
          },
          "metadata": {
            "tags": []
          }
        }
      ]
    },
    {
      "cell_type": "code",
      "metadata": {
        "id": "c65d-osfDUXm"
      },
      "source": [
        "# save the best model\n",
        "\n",
        "learn.save_encoder('pubmed_ask_mixed_fold3')"
      ],
      "execution_count": 44,
      "outputs": []
    },
    {
      "cell_type": "markdown",
      "metadata": {
        "id": "rCwZU0E2RgM6"
      },
      "source": [
        "# Part three: Predict on the test dataset"
      ]
    },
    {
      "cell_type": "code",
      "metadata": {
        "id": "gDm72c-dOu7d",
        "outputId": "4f4153cc-a3a7-4899-eacb-bf66bb8d089f",
        "colab": {
          "base_uri": "https://localhost:8080/",
          "height": 17
        }
      },
      "source": [
        "# use the test data for prediction\n",
        "\n",
        "preds, y = learn.get_preds(DatasetType.Test)"
      ],
      "execution_count": 45,
      "outputs": [
        {
          "output_type": "display_data",
          "data": {
            "text/html": [
              ""
            ],
            "text/plain": [
              "<IPython.core.display.HTML object>"
            ]
          },
          "metadata": {
            "tags": []
          }
        }
      ]
    },
    {
      "cell_type": "code",
      "metadata": {
        "id": "6tFSQcsWPvxn",
        "outputId": "639a4de3-6177-424f-95ce-bd7185ca3367",
        "colab": {
          "base_uri": "https://localhost:8080/",
          "height": 105
        }
      },
      "source": [
        "predictions, *_ = learn.get_preds(DatasetType.Test)\n",
        "labels = np.argmax(predictions, 1)\n",
        "predict_list = labels.tolist()\n",
        "standard_list = test[0].tolist()\n",
        "\n",
        "print(len(predict_list))\n",
        "print(len(standard_list))\n",
        "\n",
        "print(predict_list)\n",
        "print(standard_list)"
      ],
      "execution_count": 46,
      "outputs": [
        {
          "output_type": "display_data",
          "data": {
            "text/html": [
              ""
            ],
            "text/plain": [
              "<IPython.core.display.HTML object>"
            ]
          },
          "metadata": {
            "tags": []
          }
        },
        {
          "output_type": "stream",
          "text": [
            "866\n",
            "866\n",
            "[2, 787, 6, 8, 8, 8, 12, 469, 330, 27, 27, 662, 29, 30, 31, 34, 197, 94, 37, 37, 37, 37, 37, 37, 37, 37, 37, 49, 325, 49, 43, 49, 317, 49, 49, 49, 49, 49, 49, 49, 53, 53, 53, 60, 61, 61, 683, 62, 100, 27, 70, 71, 107, 244, 76, 652, 79, 228, 79, 79, 79, 79, 94, 79, 79, 79, 79, 79, 79, 79, 79, 79, 79, 79, 79, 79, 79, 79, 79, 79, 79, 79, 79, 79, 79, 79, 79, 79, 79, 79, 79, 79, 80, 80, 80, 89, 689, 43, 91, 94, 94, 94, 94, 94, 94, 94, 94, 94, 94, 94, 94, 94, 94, 94, 96, 96, 98, 98, 756, 100, 734, 100, 100, 861, 966, 644, 214, 108, 108, 108, 108, 111, 111, 189, 117, 771, 119, 447, 122, 298, 125, 125, 125, 125, 125, 125, 125, 126, 129, 861, 343, 343, 131, 298, 298, 298, 140, 226, 142, 151, 809, 475, 626, 182, 163, 163, 167, 473, 170, 604, 172, 172, 260, 172, 111, 173, 173, 498, 182, 182, 182, 182, 183, 183, 183, 183, 809, 809, 809, 809, 809, 809, 187, 187, 187, 187, 187, 187, 810, 190, 190, 190, 190, 190, 192, 193, 193, 193, 197, 197, 197, 197, 94, 199, 203, 854, 205, 205, 652, 210, 210, 210, 211, 337, 214, 471, 214, 214, 214, 214, 214, 214, 214, 214, 215, 216, 220, 220, 820, 228, 228, 228, 228, 228, 228, 228, 228, 228, 990, 465, 228, 289, 228, 228, 276, 234, 234, 234, 780, 695, 235, 236, 434, 43, 328, 243, 410, 966, 243, 243, 243, 43, 837, 245, 245, 764, 683, 246, 990, 254, 275, 260, 260, 260, 265, 265, 265, 265, 265, 265, 265, 265, 265, 265, 265, 265, 265, 265, 265, 265, 265, 265, 265, 265, 265, 265, 265, 265, 265, 265, 265, 265, 265, 265, 265, 265, 265, 265, 265, 265, 281, 52, 289, 289, 289, 289, 289, 111, 289, 289, 289, 289, 289, 864, 289, 289, 289, 289, 289, 896, 289, 441, 293, 583, 644, 298, 805, 220, 300, 300, 301, 590, 537, 309, 309, 309, 309, 309, 309, 309, 309, 683, 172, 318, 318, 321, 325, 325, 49, 325, 325, 325, 325, 325, 325, 325, 325, 325, 325, 325, 325, 325, 325, 328, 329, 332, 335, 678, 337, 337, 337, 338, 340, 342, 344, 359, 359, 359, 359, 361, 364, 364, 727, 419, 364, 94, 384, 386, 391, 391, 391, 391, 443, 396, 396, 939, 402, 402, 402, 408, 117, 415, 565, 418, 652, 652, 652, 652, 652, 419, 419, 424, 424, 425, 425, 215, 426, 427, 737, 427, 597, 597, 597, 597, 430, 435, 663, 441, 443, 443, 444, 444, 444, 452, 454, 94, 455, 455, 455, 455, 231, 455, 471, 474, 475, 475, 475, 475, 475, 475, 720, 488, 490, 491, 491, 491, 491, 491, 499, 711, 507, 510, 289, 586, 517, 517, 517, 383, 517, 524, 524, 146, 530, 530, 530, 644, 541, 408, 750, 545, 545, 545, 545, 545, 545, 548, 548, 548, 548, 548, 549, 697, 423, 909, 572, 236, 574, 574, 236, 896, 583, 585, 590, 590, 591, 591, 94, 592, 592, 786, 786, 97, 599, 96, 96, 127, 610, 326, 427, 614, 614, 614, 780, 888, 619, 403, 622, 623, 624, 842, 627, 794, 633, 111, 652, 637, 638, 643, 125, 644, 646, 646, 648, 646, 646, 288, 652, 652, 652, 419, 652, 98, 661, 662, 518, 54, 690, 130, 700, 462, 419, 265, 492, 711, 711, 711, 711, 711, 714, 714, 715, 769, 764, 730, 736, 704, 861, 741, 741, 289, 79, 720, 746, 746, 746, 746, 750, 769, 723, 773, 648, 775, 775, 775, 775, 775, 775, 475, 783, 790, 790, 756, 794, 794, 512, 753, 804, 804, 805, 805, 805, 806, 806, 806, 806, 809, 809, 561, 666, 810, 137, 906, 816, 426, 817, 817, 1026, 821, 826, 830, 830, 830, 830, 830, 830, 838, 840, 7, 380, 840, 844, 844, 847, 847, 848, 848, 477, 852, 43, 806, 853, 853, 853, 853, 94, 861, 731, 790, 638, 214, 445, 34, 123, 892, 896, 896, 896, 896, 896, 896, 896, 896, 919, 919, 919, 919, 929, 937, 937, 937, 937, 937, 632, 937, 937, 937, 940, 948, 948, 43, 43, 948, 949, 949, 949, 949, 949, 949, 949, 949, 949, 949, 949, 949, 949, 949, 949, 949, 949, 949, 949, 949, 949, 949, 949, 949, 949, 949, 949, 949, 949, 949, 949, 949, 949, 949, 949, 949, 949, 949, 949, 949, 949, 949, 949, 949, 949, 949, 949, 949, 949, 949, 949, 949, 949, 949, 949, 949, 949, 949, 949, 949, 949, 949, 949, 949, 949, 949, 949, 949, 949, 949, 949, 949, 949, 949, 949, 949, 949, 949, 949, 949, 949, 949, 949, 949, 949, 949, 949, 949, 949, 949, 949, 949, 949, 949, 949, 949, 949, 949, 949, 949, 949, 949, 949, 949, 949, 949, 949, 949, 949, 949, 950, 950, 950, 950, 950, 952, 952, 952, 952, 955, 956, 956, 958, 958, 964, 965, 966, 974, 976, 976, 1023, 43, 983, 986, 992, 256, 626, 962, 1001, 1001, 1005, 339, 1008, 1015, 1016, 1026, 1026, 1026, 1026, 966, 1028, 1028, 1026, 1035]\n",
            "[2, 5, 6, 8, 8, 8, 12, 15, 17, 27, 27, 29, 29, 30, 31, 34, 34, 35, 37, 37, 37, 37, 37, 37, 37, 37, 37, 49, 49, 49, 49, 49, 49, 49, 49, 49, 49, 49, 49, 49, 53, 53, 53, 60, 61, 61, 62, 62, 62, 63, 70, 71, 72, 74, 76, 77, 77, 77, 79, 79, 79, 79, 79, 79, 79, 79, 79, 79, 79, 79, 79, 79, 79, 79, 79, 79, 79, 79, 79, 79, 79, 79, 79, 79, 79, 79, 79, 79, 79, 79, 79, 79, 80, 80, 80, 89, 90, 91, 91, 94, 94, 94, 94, 94, 94, 94, 94, 94, 94, 94, 94, 94, 94, 94, 96, 96, 98, 98, 99, 100, 100, 100, 100, 100, 104, 106, 107, 108, 108, 108, 109, 111, 111, 116, 117, 117, 119, 120, 122, 122, 125, 125, 125, 125, 125, 125, 125, 126, 127, 128, 129, 129, 131, 139, 139, 139, 140, 140, 142, 151, 151, 151, 154, 162, 163, 163, 167, 169, 170, 172, 172, 172, 172, 172, 172, 173, 173, 176, 182, 182, 182, 182, 183, 183, 183, 183, 183, 183, 183, 183, 183, 183, 187, 187, 187, 187, 187, 187, 187, 190, 190, 190, 190, 190, 192, 193, 193, 193, 197, 197, 197, 197, 198, 199, 203, 204, 205, 205, 209, 210, 210, 210, 211, 214, 214, 214, 214, 214, 214, 214, 214, 214, 214, 214, 215, 216, 220, 220, 221, 228, 228, 228, 228, 228, 228, 228, 228, 228, 228, 228, 228, 228, 228, 228, 233, 234, 234, 234, 235, 235, 235, 236, 238, 238, 240, 243, 243, 243, 243, 243, 243, 243, 244, 245, 245, 245, 246, 246, 254, 254, 255, 260, 260, 260, 265, 265, 265, 265, 265, 265, 265, 265, 265, 265, 265, 265, 265, 265, 265, 265, 265, 265, 265, 265, 265, 265, 265, 265, 265, 265, 265, 265, 265, 265, 265, 265, 265, 265, 265, 265, 281, 286, 289, 289, 289, 289, 289, 289, 289, 289, 289, 289, 289, 289, 289, 289, 289, 289, 289, 289, 289, 292, 293, 294, 298, 298, 299, 300, 300, 300, 301, 301, 305, 309, 309, 309, 309, 309, 309, 309, 309, 317, 318, 318, 318, 321, 325, 325, 325, 325, 325, 325, 325, 325, 325, 325, 325, 325, 325, 325, 325, 325, 325, 328, 329, 332, 335, 337, 337, 337, 337, 338, 340, 342, 354, 359, 359, 359, 359, 361, 364, 364, 364, 364, 364, 371, 384, 386, 391, 391, 391, 391, 392, 396, 396, 402, 402, 402, 402, 408, 415, 415, 418, 418, 419, 419, 419, 419, 419, 419, 419, 424, 424, 425, 425, 425, 426, 427, 427, 427, 427, 427, 427, 427, 430, 435, 437, 441, 443, 443, 444, 444, 444, 452, 454, 455, 455, 455, 455, 455, 455, 455, 471, 474, 475, 475, 475, 475, 475, 475, 487, 488, 490, 491, 491, 491, 491, 491, 499, 505, 507, 510, 513, 514, 517, 517, 517, 517, 517, 524, 524, 525, 530, 530, 530, 531, 541, 541, 542, 545, 545, 545, 545, 545, 545, 548, 548, 548, 548, 548, 549, 549, 559, 560, 572, 574, 574, 574, 574, 579, 583, 585, 590, 590, 591, 591, 592, 592, 592, 593, 593, 594, 599, 602, 602, 609, 610, 610, 610, 614, 614, 614, 615, 617, 619, 619, 622, 623, 624, 627, 627, 630, 633, 635, 636, 637, 638, 643, 644, 644, 646, 646, 646, 646, 646, 650, 652, 652, 652, 653, 654, 659, 661, 662, 672, 675, 690, 696, 700, 702, 703, 704, 708, 711, 711, 711, 711, 711, 714, 714, 715, 723, 727, 730, 736, 741, 741, 741, 741, 741, 742, 743, 746, 746, 746, 746, 748, 769, 771, 772, 774, 775, 775, 775, 775, 775, 775, 780, 783, 790, 790, 794, 794, 794, 797, 803, 804, 804, 805, 805, 805, 806, 806, 806, 806, 809, 809, 810, 810, 810, 812, 812, 816, 816, 817, 817, 818, 821, 826, 830, 830, 830, 830, 830, 830, 838, 840, 840, 840, 840, 844, 844, 847, 847, 847, 848, 852, 852, 853, 853, 853, 853, 853, 853, 857, 861, 862, 868, 876, 877, 879, 880, 891, 892, 896, 896, 896, 896, 896, 896, 896, 897, 919, 919, 919, 919, 929, 937, 937, 937, 937, 937, 937, 937, 937, 937, 940, 948, 948, 948, 948, 948, 949, 949, 949, 949, 949, 949, 949, 949, 949, 949, 949, 949, 949, 949, 949, 949, 949, 949, 949, 949, 949, 949, 949, 949, 949, 949, 949, 949, 949, 949, 949, 949, 949, 949, 949, 949, 949, 949, 949, 949, 949, 949, 949, 949, 949, 949, 949, 949, 949, 949, 949, 949, 949, 949, 949, 949, 949, 949, 949, 949, 949, 949, 949, 949, 949, 949, 949, 949, 949, 949, 949, 949, 949, 949, 949, 949, 949, 949, 949, 949, 949, 949, 949, 949, 949, 949, 949, 949, 949, 949, 949, 949, 949, 949, 949, 949, 949, 949, 949, 949, 949, 949, 949, 949, 949, 949, 949, 949, 949, 949, 950, 950, 950, 950, 950, 952, 952, 952, 952, 955, 956, 956, 958, 958, 964, 965, 966, 974, 976, 976, 980, 982, 983, 986, 992, 994, 999, 999, 1001, 1001, 1005, 1007, 1008, 1015, 1016, 1026, 1026, 1026, 1026, 1026, 1028, 1028, 1031, 1035]\n"
          ],
          "name": "stdout"
        }
      ]
    },
    {
      "cell_type": "code",
      "metadata": {
        "id": "XIC4zufnMxtq",
        "outputId": "eff8c140-eed2-4eea-d5ed-3bc22eb38dab",
        "colab": {
          "base_uri": "https://localhost:8080/"
        }
      },
      "source": [
        "correct_num = 0\n",
        "\n",
        "for i in range(0, len(standard_list)):\n",
        "  if predict_list[i] == standard_list[i]:\n",
        "    correct_num = correct_num+1\n",
        "  else:\n",
        "    pass\n",
        "print(correct_num)\n",
        "\n",
        "predict_accuracy = correct_num/len(predict_list)\n",
        "print(predict_accuracy)"
      ],
      "execution_count": 47,
      "outputs": [
        {
          "output_type": "stream",
          "text": [
            "660\n",
            "0.7621247113163973\n"
          ],
          "name": "stdout"
        }
      ]
    },
    {
      "cell_type": "code",
      "metadata": {
        "id": "zlKMHp1CIaRJ"
      },
      "source": [
        ""
      ],
      "execution_count": 47,
      "outputs": []
    }
  ]
}