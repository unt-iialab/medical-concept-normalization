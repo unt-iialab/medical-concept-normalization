{
  "nbformat": 4,
  "nbformat_minor": 0,
  "metadata": {
    "accelerator": "TPU",
    "colab": {
      "name": "Cadec_twadr_00.ipynb",
      "provenance": [],
      "collapsed_sections": [],
      "include_colab_link": true
    },
    "kernelspec": {
      "display_name": "Python 3",
      "name": "python3"
    }
  },
  "cells": [
    {
      "cell_type": "markdown",
      "metadata": {
        "id": "view-in-github",
        "colab_type": "text"
      },
      "source": [
        "<a href=\"https://colab.research.google.com/github/unt-iialab/medical-concept-normalization/blob/master/medical-concept-normalization/fine-tuning-experiments/askpatient/Cadec_twadr_00.ipynb\" target=\"_parent\"><img src=\"https://colab.research.google.com/assets/colab-badge.svg\" alt=\"Open In Colab\"/></a>"
      ]
    },
    {
      "cell_type": "code",
      "metadata": {
        "id": "adSi6i2-dWxy"
      },
      "source": [
        "import os"
      ],
      "execution_count": 1,
      "outputs": []
    },
    {
      "cell_type": "code",
      "metadata": {
        "id": "E7xYCRGPjd9B"
      },
      "source": [
        "base_dir = 'medical-concept-normalization'"
      ],
      "execution_count": 2,
      "outputs": []
    },
    {
      "cell_type": "code",
      "metadata": {
        "id": "yvIW3aUDjYNS"
      },
      "source": [
        "os.mkdir(base_dir)"
      ],
      "execution_count": 3,
      "outputs": []
    },
    {
      "cell_type": "code",
      "metadata": {
        "id": "es-FFLlfk6SG"
      },
      "source": [
        "os.mkdir('medical-concept-normalization/data_collection')"
      ],
      "execution_count": 4,
      "outputs": []
    },
    {
      "cell_type": "markdown",
      "metadata": {
        "id": "0R-Guw_VoJXm"
      },
      "source": [
        "**Install fastai and clone the fastai for text classification**\n",
        "\n"
      ]
    },
    {
      "cell_type": "code",
      "metadata": {
        "id": "QVZa3Z0PmHFH",
        "outputId": "87935c99-6cf9-4a68-9949-d51f38bea200",
        "colab": {
          "base_uri": "https://localhost:8080/"
        }
      },
      "source": [
        "!curl https://course-v3.fast.ai/setup/colab | bash"
      ],
      "execution_count": 5,
      "outputs": [
        {
          "output_type": "stream",
          "text": [
            "  % Total    % Received % Xferd  Average Speed   Time    Time     Time  Current\n",
            "                                 Dload  Upload   Total   Spent    Left  Speed\n",
            "\r  0     0    0     0    0     0      0      0 --:--:-- --:--:-- --:--:--     0curl: (6) Could not resolve host: course-v3.fast.ai\n"
          ],
          "name": "stdout"
        }
      ]
    },
    {
      "cell_type": "code",
      "metadata": {
        "id": "_FBFFEBrmJC0",
        "outputId": "30121642-d93d-4ed4-f507-ba60739716f1",
        "colab": {
          "base_uri": "https://localhost:8080/"
        }
      },
      "source": [
        "!git clone https://github.com/wshuyi/demo-nlp-classification-fastai.git"
      ],
      "execution_count": 6,
      "outputs": [
        {
          "output_type": "stream",
          "text": [
            "Cloning into 'demo-nlp-classification-fastai'...\n",
            "remote: Enumerating objects: 9, done.\u001b[K\n",
            "remote: Total 9 (delta 0), reused 0 (delta 0), pack-reused 9\u001b[K\n",
            "Unpacking objects: 100% (9/9), done.\n"
          ],
          "name": "stdout"
        }
      ]
    },
    {
      "cell_type": "code",
      "metadata": {
        "id": "66zfh_JqmWMU"
      },
      "source": [
        "from fastai import *\n",
        "from fastai.text import *"
      ],
      "execution_count": 7,
      "outputs": []
    },
    {
      "cell_type": "markdown",
      "metadata": {
        "id": "mNIw-yALdBU9"
      },
      "source": [
        "**Set the path of the data collections**"
      ]
    },
    {
      "cell_type": "code",
      "metadata": {
        "id": "pzH7VMh4mqCL"
      },
      "source": [
        "path = Path('medical-concept-normalization/data_collection')"
      ],
      "execution_count": 8,
      "outputs": []
    },
    {
      "cell_type": "code",
      "metadata": {
        "id": "b8fjI6yyn4aS"
      },
      "source": [
        "# training data set\n",
        "\n",
        "train_csv = path/'TwADR-L.fold-0.train.csv'\n",
        "train = pd.read_csv(train_csv, header=None)\n",
        "#train.head()\n",
        "#train.info()"
      ],
      "execution_count": 10,
      "outputs": []
    },
    {
      "cell_type": "code",
      "metadata": {
        "id": "Hmlr-bAorfHd",
        "outputId": "54e41bc5-19ff-4179-bc34-979e20e2ab9f",
        "colab": {
          "base_uri": "https://localhost:8080/",
          "height": 204
        }
      },
      "source": [
        "# validating data set\n",
        "\n",
        "valid = pd.read_csv(path/\"TwADR-L.fold-0.validation.csv\",header=None)\n",
        "valid.head()"
      ],
      "execution_count": 11,
      "outputs": [
        {
          "output_type": "execute_result",
          "data": {
            "text/html": [
              "<div>\n",
              "<style scoped>\n",
              "    .dataframe tbody tr th:only-of-type {\n",
              "        vertical-align: middle;\n",
              "    }\n",
              "\n",
              "    .dataframe tbody tr th {\n",
              "        vertical-align: top;\n",
              "    }\n",
              "\n",
              "    .dataframe thead th {\n",
              "        text-align: right;\n",
              "    }\n",
              "</style>\n",
              "<table border=\"1\" class=\"dataframe\">\n",
              "  <thead>\n",
              "    <tr style=\"text-align: right;\">\n",
              "      <th></th>\n",
              "      <th>0</th>\n",
              "      <th>1</th>\n",
              "    </tr>\n",
              "  </thead>\n",
              "  <tbody>\n",
              "    <tr>\n",
              "      <th>0</th>\n",
              "      <td>13</td>\n",
              "      <td>insomnia</td>\n",
              "    </tr>\n",
              "    <tr>\n",
              "      <th>1</th>\n",
              "      <td>57</td>\n",
              "      <td>hypertrophic scarring</td>\n",
              "    </tr>\n",
              "    <tr>\n",
              "      <th>2</th>\n",
              "      <td>84</td>\n",
              "      <td>paraplegic</td>\n",
              "    </tr>\n",
              "    <tr>\n",
              "      <th>3</th>\n",
              "      <td>93</td>\n",
              "      <td>shooting</td>\n",
              "    </tr>\n",
              "    <tr>\n",
              "      <th>4</th>\n",
              "      <td>97</td>\n",
              "      <td>screwing with my short term memory</td>\n",
              "    </tr>\n",
              "  </tbody>\n",
              "</table>\n",
              "</div>"
            ],
            "text/plain": [
              "    0                                   1\n",
              "0  13                            insomnia\n",
              "1  57               hypertrophic scarring\n",
              "2  84                          paraplegic\n",
              "3  93                            shooting\n",
              "4  97  screwing with my short term memory"
            ]
          },
          "metadata": {
            "tags": []
          },
          "execution_count": 11
        }
      ]
    },
    {
      "cell_type": "code",
      "metadata": {
        "id": "cOza9dfSsBud",
        "outputId": "225bdfad-24f0-4561-e766-63d47ff6a699",
        "colab": {
          "base_uri": "https://localhost:8080/",
          "height": 204
        }
      },
      "source": [
        "# testing data set\n",
        "\n",
        "test = pd.read_csv(path/\"TwADR-L.fold-0.test.csv\",header=None)\n",
        "test.head()"
      ],
      "execution_count": 12,
      "outputs": [
        {
          "output_type": "execute_result",
          "data": {
            "text/html": [
              "<div>\n",
              "<style scoped>\n",
              "    .dataframe tbody tr th:only-of-type {\n",
              "        vertical-align: middle;\n",
              "    }\n",
              "\n",
              "    .dataframe tbody tr th {\n",
              "        vertical-align: top;\n",
              "    }\n",
              "\n",
              "    .dataframe thead th {\n",
              "        text-align: right;\n",
              "    }\n",
              "</style>\n",
              "<table border=\"1\" class=\"dataframe\">\n",
              "  <thead>\n",
              "    <tr style=\"text-align: right;\">\n",
              "      <th></th>\n",
              "      <th>0</th>\n",
              "      <th>1</th>\n",
              "    </tr>\n",
              "  </thead>\n",
              "  <tbody>\n",
              "    <tr>\n",
              "      <th>0</th>\n",
              "      <td>13</td>\n",
              "      <td>insomniac</td>\n",
              "    </tr>\n",
              "    <tr>\n",
              "      <th>1</th>\n",
              "      <td>60</td>\n",
              "      <td>cigarette withdrawal</td>\n",
              "    </tr>\n",
              "    <tr>\n",
              "      <th>2</th>\n",
              "      <td>108</td>\n",
              "      <td>cramps</td>\n",
              "    </tr>\n",
              "    <tr>\n",
              "      <th>3</th>\n",
              "      <td>109</td>\n",
              "      <td>make me drunker</td>\n",
              "    </tr>\n",
              "    <tr>\n",
              "      <th>4</th>\n",
              "      <td>133</td>\n",
              "      <td>nightmares</td>\n",
              "    </tr>\n",
              "  </tbody>\n",
              "</table>\n",
              "</div>"
            ],
            "text/plain": [
              "     0                     1\n",
              "0   13             insomniac\n",
              "1   60  cigarette withdrawal\n",
              "2  108                cramps\n",
              "3  109       make me drunker\n",
              "4  133            nightmares"
            ]
          },
          "metadata": {
            "tags": []
          },
          "execution_count": 12
        }
      ]
    },
    {
      "cell_type": "code",
      "metadata": {
        "id": "Vo-YNvVYoaH6",
        "outputId": "100997a7-c583-4db4-9127-658b7f22a050",
        "colab": {
          "base_uri": "https://localhost:8080/",
          "height": 17
        }
      },
      "source": [
        "# Creating DataBunch for language modelling\n",
        "\n",
        "data_lm = TextLMDataBunch.from_csv(path, 'TwADR-cadec.csv')"
      ],
      "execution_count": 13,
      "outputs": [
        {
          "output_type": "display_data",
          "data": {
            "text/html": [
              ""
            ],
            "text/plain": [
              "<IPython.core.display.HTML object>"
            ]
          },
          "metadata": {
            "tags": []
          }
        },
        {
          "output_type": "display_data",
          "data": {
            "text/html": [
              ""
            ],
            "text/plain": [
              "<IPython.core.display.HTML object>"
            ]
          },
          "metadata": {
            "tags": []
          }
        }
      ]
    },
    {
      "cell_type": "code",
      "metadata": {
        "id": "qcV-9kMnNLBf"
      },
      "source": [
        ""
      ],
      "execution_count": 13,
      "outputs": []
    },
    {
      "cell_type": "code",
      "metadata": {
        "id": "1ScY9afDsnvE"
      },
      "source": [
        "# Creating DataBunch for classification\n",
        "\n",
        "# data_clas = TextClasDataBunch.from_df(path, train, valid, test, vocab=data_lm.train_ds.vocab, bs=128)"
      ],
      "execution_count": 14,
      "outputs": []
    },
    {
      "cell_type": "code",
      "metadata": {
        "id": "gzrSdQcvey9p",
        "outputId": "386c8087-d8c1-4e7e-b0f6-4c8ee539aebf",
        "colab": {
          "base_uri": "https://localhost:8080/",
          "height": 17
        }
      },
      "source": [
        "data_clas = TextClasDataBunch.from_df(path, train, valid, vocab=data_lm.train_ds.vocab, bs=128)"
      ],
      "execution_count": 15,
      "outputs": [
        {
          "output_type": "display_data",
          "data": {
            "text/html": [
              ""
            ],
            "text/plain": [
              "<IPython.core.display.HTML object>"
            ]
          },
          "metadata": {
            "tags": []
          }
        },
        {
          "output_type": "display_data",
          "data": {
            "text/html": [
              ""
            ],
            "text/plain": [
              "<IPython.core.display.HTML object>"
            ]
          },
          "metadata": {
            "tags": []
          }
        }
      ]
    },
    {
      "cell_type": "code",
      "metadata": {
        "id": "MD27Tf0Ke3ou",
        "outputId": "41282700-f649-48e2-fb49-d633a4fd49d1",
        "colab": {
          "base_uri": "https://localhost:8080/",
          "height": 17
        }
      },
      "source": [
        "data_clas.add_test(test,label=0)\n"
      ],
      "execution_count": 16,
      "outputs": [
        {
          "output_type": "display_data",
          "data": {
            "text/html": [
              ""
            ],
            "text/plain": [
              "<IPython.core.display.HTML object>"
            ]
          },
          "metadata": {
            "tags": []
          }
        }
      ]
    },
    {
      "cell_type": "code",
      "metadata": {
        "id": "-dpjnk_rstwk"
      },
      "source": [
        "data_lm.save()\n",
        "data_clas.save()"
      ],
      "execution_count": 17,
      "outputs": []
    },
    {
      "cell_type": "code",
      "metadata": {
        "id": "4OkiJa36sw5s",
        "outputId": "d1ae66f7-64d9-416c-bd57-20e9eaffb81e",
        "colab": {
          "base_uri": "https://localhost:8080/"
        }
      },
      "source": [
        "data_lm.train_ds.vocab.itos"
      ],
      "execution_count": 18,
      "outputs": [
        {
          "output_type": "execute_result",
          "data": {
            "text/plain": [
              "['xxunk',\n",
              " 'xxpad',\n",
              " 'xxbos',\n",
              " 'xxeos',\n",
              " 'xxfld',\n",
              " 'xxmaj',\n",
              " 'xxup',\n",
              " 'xxrep',\n",
              " 'xxwrep',\n",
              " '.',\n",
              " ',',\n",
              " 'i',\n",
              " 'the',\n",
              " 'and',\n",
              " 'to',\n",
              " 'my',\n",
              " 'pain',\n",
              " 'of',\n",
              " 'in',\n",
              " 'a',\n",
              " 'it',\n",
              " 'me',\n",
              " 'mood',\n",
              " 'increased',\n",
              " 'for',\n",
              " 'have',\n",
              " 'was',\n",
              " '-',\n",
              " 'drug',\n",
              " 'this',\n",
              " ')',\n",
              " '(',\n",
              " 'lipitor',\n",
              " 'on',\n",
              " 'disorder',\n",
              " 'not',\n",
              " 'withdrawal',\n",
              " 'abnormal',\n",
              " 'symptoms',\n",
              " 'anxiety',\n",
              " 'that',\n",
              " 'had',\n",
              " 'is',\n",
              " 'muscle',\n",
              " 'weight',\n",
              " 'with',\n",
              " 'like',\n",
              " 'but',\n",
              " 'decreased',\n",
              " \"n't\",\n",
              " 'taking',\n",
              " 'feeling',\n",
              " 'disorders',\n",
              " 'up',\n",
              " 'sleep',\n",
              " 'behavior',\n",
              " 'after',\n",
              " 'syndrome',\n",
              " 'sleeplessness',\n",
              " 'so',\n",
              " 'blood',\n",
              " 'got',\n",
              " 'insomnia',\n",
              " 'all',\n",
              " 'diseases',\n",
              " 'am',\n",
              " 'feel',\n",
              " 'side',\n",
              " 'from',\n",
              " '!',\n",
              " 'disturbance',\n",
              " 'somnolence',\n",
              " 'depression',\n",
              " 'finding',\n",
              " 'back',\n",
              " 'effects',\n",
              " 'loss',\n",
              " 'energy',\n",
              " 'cholesterol',\n",
              " 'been',\n",
              " 'day',\n",
              " 'heart',\n",
              " 'body',\n",
              " 'be',\n",
              " 'mental',\n",
              " 'gain',\n",
              " 'as',\n",
              " 'skin',\n",
              " 'nausea',\n",
              " 'acute',\n",
              " '/',\n",
              " 'take',\n",
              " 'appetite',\n",
              " 'about',\n",
              " 'no',\n",
              " 'at',\n",
              " 'do',\n",
              " 'fatigue',\n",
              " 'dizziness',\n",
              " 'off',\n",
              " 'now',\n",
              " 'has',\n",
              " 'mg',\n",
              " 'irritable',\n",
              " 'years',\n",
              " 'excitability',\n",
              " 'will',\n",
              " 'or',\n",
              " 'feelings',\n",
              " 'out',\n",
              " 'very',\n",
              " 'hyperactive',\n",
              " 'drowsiness',\n",
              " 'awake',\n",
              " 'ceiling',\n",
              " 'are',\n",
              " 'state',\n",
              " 'joint',\n",
              " 'days',\n",
              " 'panic',\n",
              " 'attention',\n",
              " 'swelling',\n",
              " 'did',\n",
              " 'months',\n",
              " 'if',\n",
              " 'you',\n",
              " 'doctor',\n",
              " 'liver',\n",
              " 'when',\n",
              " \"'m\",\n",
              " 'rash',\n",
              " 'severe',\n",
              " 'started',\n",
              " 'still',\n",
              " 'time',\n",
              " 'could',\n",
              " 'site',\n",
              " 'depressed',\n",
              " 'stopped',\n",
              " '2',\n",
              " 'headache',\n",
              " 'stomach',\n",
              " 'night',\n",
              " 'problems',\n",
              " 'swings',\n",
              " 'cramps',\n",
              " 'bipolar',\n",
              " 'get',\n",
              " 'disease',\n",
              " 'down',\n",
              " '3',\n",
              " 'memory',\n",
              " 'allergic',\n",
              " 'also',\n",
              " '#',\n",
              " '10',\n",
              " 'more',\n",
              " 'lower',\n",
              " 'can',\n",
              " 'would',\n",
              " 'took',\n",
              " 'infection',\n",
              " 'wakefulness',\n",
              " \"'s\",\n",
              " 'weeks',\n",
              " 'reaction',\n",
              " 'bad',\n",
              " 'abdominal',\n",
              " 'any',\n",
              " 'just',\n",
              " 'an',\n",
              " 'by',\n",
              " 'over',\n",
              " 'dreams',\n",
              " 'eye',\n",
              " 'leg',\n",
              " 'attack',\n",
              " 'one',\n",
              " 'went',\n",
              " 'tired',\n",
              " 'legs',\n",
              " 'tremor',\n",
              " 'other',\n",
              " 'respiratory',\n",
              " 'brain',\n",
              " 'again',\n",
              " 'some',\n",
              " 'injury',\n",
              " 'only',\n",
              " 'high',\n",
              " 'numbness',\n",
              " 'he',\n",
              " 'then',\n",
              " 'breast',\n",
              " 'attacks',\n",
              " 'ca',\n",
              " 'level',\n",
              " 'your',\n",
              " 'week',\n",
              " 'stiffness',\n",
              " 'dry',\n",
              " 'never',\n",
              " 'shoulder',\n",
              " 'hemorrhage',\n",
              " 'ago',\n",
              " 'medication',\n",
              " 'much',\n",
              " 'they',\n",
              " 'rage',\n",
              " 'initial',\n",
              " 'felt',\n",
              " 'pressure',\n",
              " '5',\n",
              " 'deficit',\n",
              " 'go',\n",
              " 'arthritis',\n",
              " 'before',\n",
              " 'foot',\n",
              " 'difficulty',\n",
              " 'life',\n",
              " 'psychotic',\n",
              " '6',\n",
              " '&',\n",
              " 'bone',\n",
              " 'two',\n",
              " 'edema',\n",
              " 'carcinoma',\n",
              " 'vision',\n",
              " 'low',\n",
              " 'better',\n",
              " 'chest',\n",
              " 'failure',\n",
              " 'sleepy',\n",
              " 'sweating',\n",
              " 'makes',\n",
              " 'because',\n",
              " 'taste',\n",
              " 'these',\n",
              " 'left',\n",
              " 'which',\n",
              " 'infections',\n",
              " \"'ve\",\n",
              " 'discomfort',\n",
              " 'weakness',\n",
              " 'asleep',\n",
              " 'first',\n",
              " 'neck',\n",
              " 'even',\n",
              " 'were',\n",
              " '4',\n",
              " 'gastrointestinal',\n",
              " 'stop',\n",
              " 'zombie',\n",
              " 'middle',\n",
              " 'same',\n",
              " 'cardiac',\n",
              " 'function',\n",
              " 'walk',\n",
              " 'kidney',\n",
              " '1',\n",
              " 'sensation',\n",
              " 'what',\n",
              " 'hurt',\n",
              " 'aggravated',\n",
              " 'exhaustion',\n",
              " 'dependence',\n",
              " 'daytime',\n",
              " 'chronic',\n",
              " 'right',\n",
              " 'feet',\n",
              " 'test',\n",
              " 'than',\n",
              " 'away',\n",
              " 'ulcer',\n",
              " 'distress',\n",
              " 'going',\n",
              " ';',\n",
              " 'anger',\n",
              " 'facial',\n",
              " 'headaches',\n",
              " 'vomiting',\n",
              " 'change',\n",
              " 'worse',\n",
              " 'extreme',\n",
              " 'pulmonary',\n",
              " '?',\n",
              " 'suicidal',\n",
              " 'since',\n",
              " 'ache',\n",
              " 'experienced',\n",
              " 'getting',\n",
              " 'bleeding',\n",
              " 'elevated',\n",
              " 'disturbances',\n",
              " 'damage',\n",
              " 'effect',\n",
              " 'know',\n",
              " 'concentration',\n",
              " 'localised',\n",
              " 'pains',\n",
              " 'depressive',\n",
              " 'thought',\n",
              " 'taken',\n",
              " 'knee',\n",
              " 'being',\n",
              " 'dermatitis',\n",
              " 'dysfunction',\n",
              " 'painful',\n",
              " '20',\n",
              " 'cell',\n",
              " 'tingling',\n",
              " 'wide',\n",
              " 'work',\n",
              " 'hallucinations',\n",
              " 'cerebral',\n",
              " 'conditions',\n",
              " 'muscles',\n",
              " 'having',\n",
              " 'make',\n",
              " 'death',\n",
              " 'every',\n",
              " 'need',\n",
              " 'dizzy',\n",
              " 'drugs',\n",
              " 'well',\n",
              " 'told',\n",
              " 'due',\n",
              " 'should',\n",
              " 'urine',\n",
              " 'see',\n",
              " 'there',\n",
              " 'good',\n",
              " 'sleepiness',\n",
              " 'face',\n",
              " 'statins',\n",
              " 'statin',\n",
              " 'nightmares',\n",
              " 'year',\n",
              " 'system',\n",
              " 'anemia',\n",
              " 'terrible',\n",
              " 'hunger',\n",
              " 'pruritus',\n",
              " 'last',\n",
              " 'dr',\n",
              " 'think',\n",
              " 'eating',\n",
              " 'dose',\n",
              " 'serum',\n",
              " 'depersonalization',\n",
              " 'compulsive',\n",
              " 'normal',\n",
              " 'migraine',\n",
              " 'hours',\n",
              " 'arm',\n",
              " 'within',\n",
              " 'who',\n",
              " 'social',\n",
              " 'lack',\n",
              " 'hands',\n",
              " 'few',\n",
              " 'month',\n",
              " 'problem',\n",
              " 'diarrhea',\n",
              " 'spasm',\n",
              " 'does',\n",
              " 'asthma',\n",
              " 'cause',\n",
              " 'vivid',\n",
              " 'uterine',\n",
              " 'irritation',\n",
              " 'arrest',\n",
              " 'bite',\n",
              " 'hypertension',\n",
              " 'adderall',\n",
              " 'thinking',\n",
              " 'hip',\n",
              " 'until',\n",
              " 'fear',\n",
              " 'crazy',\n",
              " 'almost',\n",
              " 'aches',\n",
              " 'too',\n",
              " 'neoplasm',\n",
              " 'cancer',\n",
              " 'nauseous',\n",
              " 'walking',\n",
              " 'oedema',\n",
              " 'emotional',\n",
              " 'genital',\n",
              " 'oral',\n",
              " 'alcohol',\n",
              " 'corneal',\n",
              " 'seizures',\n",
              " 'impairment',\n",
              " 'said',\n",
              " 'drowsy',\n",
              " 'without',\n",
              " 'gastric',\n",
              " 'people',\n",
              " 'sore',\n",
              " 'obsessive',\n",
              " 'count',\n",
              " 'candidiasis',\n",
              " 'necrosis',\n",
              " '7',\n",
              " 'ventricular',\n",
              " 'hungry',\n",
              " 'intoxication',\n",
              " 'abuse',\n",
              " 'both',\n",
              " 'euphoric',\n",
              " 'many',\n",
              " 'withdrawals',\n",
              " 'eyes',\n",
              " 'diet',\n",
              " 'vaginal',\n",
              " 'sexual',\n",
              " 'total',\n",
              " 'injection',\n",
              " 'glucose',\n",
              " 'decrease',\n",
              " 'great',\n",
              " 'upper',\n",
              " 'really',\n",
              " 'hepatic',\n",
              " 'lightheadedness',\n",
              " 'gas',\n",
              " '8',\n",
              " 'arms',\n",
              " 'long',\n",
              " 'ldl',\n",
              " 'reduced',\n",
              " 'weird',\n",
              " 'hair',\n",
              " 'term',\n",
              " 'put',\n",
              " 'head',\n",
              " 'another',\n",
              " 'spasms',\n",
              " 'myself',\n",
              " 'localized',\n",
              " 'something',\n",
              " 'exercise',\n",
              " 'malignant',\n",
              " 'anything',\n",
              " '40',\n",
              " 'cold',\n",
              " 'nervous',\n",
              " ':',\n",
              " 'lost',\n",
              " 'personality',\n",
              " 'injuries',\n",
              " 'bed',\n",
              " 'erythema',\n",
              " 'lung',\n",
              " 'nerve',\n",
              " 'paranoid',\n",
              " 'tract',\n",
              " 'little',\n",
              " 'tooth',\n",
              " 'stress',\n",
              " 'doctors',\n",
              " 'she',\n",
              " 'sneezing',\n",
              " 'cramping',\n",
              " 'short',\n",
              " 'peripheral',\n",
              " 'speech',\n",
              " 'falling',\n",
              " 'sudden',\n",
              " 'pneumonia',\n",
              " 'joints',\n",
              " 'tongue',\n",
              " 'episode',\n",
              " 'way',\n",
              " 'urticaria',\n",
              " 'mouth',\n",
              " 'next',\n",
              " 'while',\n",
              " 'found',\n",
              " 'nasal',\n",
              " 'neuropathy',\n",
              " 'sweat',\n",
              " 'minutes',\n",
              " 'help',\n",
              " 'sleeping',\n",
              " 'electrocardiogram',\n",
              " 'diabetes',\n",
              " 'female',\n",
              " 'consciousness',\n",
              " 'ear',\n",
              " 'sick',\n",
              " 'tests',\n",
              " 'vertigo',\n",
              " 'stopping',\n",
              " 'thirst',\n",
              " 'libido',\n",
              " 'breathing',\n",
              " 'intense',\n",
              " 'most',\n",
              " 'erection',\n",
              " 'bulimia',\n",
              " 'block',\n",
              " 'fracture',\n",
              " 'colitis',\n",
              " 'try',\n",
              " 'arthropod',\n",
              " 'itching',\n",
              " 'thoughts',\n",
              " 'times',\n",
              " 'noticed',\n",
              " 'morning',\n",
              " 'inflammation',\n",
              " 'however',\n",
              " 'movements',\n",
              " 'non',\n",
              " 'visual',\n",
              " 'old',\n",
              " 'several',\n",
              " 'eat',\n",
              " 'overdose',\n",
              " 'pill',\n",
              " 'angry',\n",
              " 'reading',\n",
              " 'generalized',\n",
              " 'fever',\n",
              " 'diabetic',\n",
              " 'throat',\n",
              " 'levels',\n",
              " 'shoulders',\n",
              " 'swollen',\n",
              " 'gone',\n",
              " 'prescribed',\n",
              " 'palpitations',\n",
              " 'red',\n",
              " 'sure',\n",
              " 'obstruction',\n",
              " 'find',\n",
              " 'sinus',\n",
              " 'neoplasms',\n",
              " 'lose',\n",
              " 'ejaculation',\n",
              " 'want',\n",
              " '%',\n",
              " 'renal',\n",
              " 'potassium',\n",
              " 'how',\n",
              " 'metastatic',\n",
              " 'confusion',\n",
              " 'bloating',\n",
              " 'came',\n",
              " 'result',\n",
              " 'completely',\n",
              " 'them',\n",
              " 'lowered',\n",
              " 'general',\n",
              " 'excessive',\n",
              " 'allergy',\n",
              " 'psychosis',\n",
              " 'caused',\n",
              " 'knees',\n",
              " 'tissue',\n",
              " 'daily',\n",
              " 'despair',\n",
              " 'making',\n",
              " 'hard',\n",
              " 'burning',\n",
              " 'lbs',\n",
              " 'their',\n",
              " 'use',\n",
              " 'doing',\n",
              " 'made',\n",
              " 'lupus',\n",
              " 'experiencing',\n",
              " 'limb',\n",
              " 'atrophy',\n",
              " 'suicide',\n",
              " 'may',\n",
              " 'quality',\n",
              " 'ankle',\n",
              " 'adenocarcinoma',\n",
              " 'insufficiency',\n",
              " 'began',\n",
              " 'different',\n",
              " 'always',\n",
              " 'tolerance',\n",
              " 'paranoia',\n",
              " '30',\n",
              " 'binge',\n",
              " 'vasculitis',\n",
              " 'losing',\n",
              " 'fractures',\n",
              " 'hurting',\n",
              " 'unconscious',\n",
              " 'symptom',\n",
              " 'partial',\n",
              " 'developed',\n",
              " 'half',\n",
              " 'cutaneous',\n",
              " 'lot',\n",
              " 'application',\n",
              " 'hepatitis',\n",
              " 'traumatic',\n",
              " 'around',\n",
              " 'ever',\n",
              " 'muscular',\n",
              " 'food',\n",
              " 'nt',\n",
              " 'density',\n",
              " 'into',\n",
              " 'fall',\n",
              " 'gained',\n",
              " 'prolonged',\n",
              " 'things',\n",
              " 'immediately',\n",
              " 'mild',\n",
              " 'cough',\n",
              " 'impaired',\n",
              " 'trying',\n",
              " 'craving',\n",
              " 'drunk',\n",
              " 'bacterial',\n",
              " 'unable',\n",
              " 'tachycardia',\n",
              " 'three',\n",
              " 'acid',\n",
              " 'atrial',\n",
              " 'early',\n",
              " 'haemorrhage',\n",
              " 'arrhythmia',\n",
              " 'read',\n",
              " 'mind',\n",
              " 'weak',\n",
              " 'major',\n",
              " 'especially',\n",
              " 'tendency',\n",
              " 'enzyme',\n",
              " 'through',\n",
              " 'his',\n",
              " 'blurred',\n",
              " 'tenderness',\n",
              " 'once',\n",
              " 'arthrotec',\n",
              " 'we',\n",
              " 'terrors',\n",
              " 'altered',\n",
              " 'musculoskeletal',\n",
              " 'worth',\n",
              " 'numb',\n",
              " 'infarction',\n",
              " 'causing',\n",
              " 'hypomania',\n",
              " 'her',\n",
              " 'rheumatoid',\n",
              " 'finally',\n",
              " 'toe',\n",
              " 'sedated',\n",
              " 'action',\n",
              " 'upset',\n",
              " 'wo',\n",
              " 'stay',\n",
              " 'migraines',\n",
              " 'twitch',\n",
              " 'tried',\n",
              " 'nothing',\n",
              " 'past',\n",
              " 'creatinine',\n",
              " 'bladder',\n",
              " 'involuntary',\n",
              " 'person',\n",
              " 'its',\n",
              " 'later',\n",
              " 'permanent',\n",
              " 'meds',\n",
              " 'motor',\n",
              " 'interactions',\n",
              " 'family',\n",
              " 'natural',\n",
              " 'labored',\n",
              " 'trippin',\n",
              " 'substance',\n",
              " 'medicine',\n",
              " 'hand',\n",
              " 'gland',\n",
              " 'yet',\n",
              " 'bowel',\n",
              " 'awful',\n",
              " 'purpura',\n",
              " 'though',\n",
              " 'perforation',\n",
              " 'shaking',\n",
              " 'syncope',\n",
              " 'relief',\n",
              " 'hot',\n",
              " 'less',\n",
              " 'rhinitis',\n",
              " 'myocardial',\n",
              " 'abnormality',\n",
              " 'recommend',\n",
              " 'changes',\n",
              " 'stuff',\n",
              " 'hyper',\n",
              " 'acidosis',\n",
              " 'keep',\n",
              " 'quit',\n",
              " 'arousal',\n",
              " 'premature',\n",
              " 'atrioventricular',\n",
              " '--',\n",
              " 'done',\n",
              " 'limbs',\n",
              " 'bronchitis',\n",
              " 'hurts',\n",
              " 'positive',\n",
              " 'during',\n",
              " 'results',\n",
              " 'able',\n",
              " 'interest',\n",
              " 'male',\n",
              " 'manic',\n",
              " 'esophageal',\n",
              " 'far',\n",
              " 'mad',\n",
              " 'recently',\n",
              " 'using',\n",
              " 'acne',\n",
              " '80',\n",
              " 'delayed',\n",
              " 'whole',\n",
              " 'retinal',\n",
              " 'temperature',\n",
              " 'none',\n",
              " 'super',\n",
              " 'unspecified',\n",
              " \"'\",\n",
              " 'antisocial',\n",
              " 'starting',\n",
              " 'post',\n",
              " 'cyst',\n",
              " 'dosage',\n",
              " 'today',\n",
              " 'tightness',\n",
              " 'believe',\n",
              " 'type',\n",
              " 'come',\n",
              " 'hyperactivity',\n",
              " '100',\n",
              " 'wake',\n",
              " 'prozac',\n",
              " 'thyroid',\n",
              " 'why',\n",
              " 'where',\n",
              " 'epilepsy',\n",
              " 'erythematosus',\n",
              " 'water',\n",
              " 'discoloration',\n",
              " 'anyone',\n",
              " 'generalised',\n",
              " 'hour',\n",
              " 'horrible',\n",
              " 'calf',\n",
              " 'hypersomnia',\n",
              " 'say',\n",
              " 'deafness',\n",
              " 'anxious',\n",
              " 'conjunctivitis',\n",
              " 'local',\n",
              " 'seems',\n",
              " 'fluid',\n",
              " 'ulcerative',\n",
              " 'poor',\n",
              " 'exhausted',\n",
              " 'bullous',\n",
              " 'constant',\n",
              " 'shock',\n",
              " 'urinary',\n",
              " 'trouble',\n",
              " 'indifferent',\n",
              " 'etc',\n",
              " 'him',\n",
              " 'worked',\n",
              " 'probably',\n",
              " 'doc',\n",
              " 'distracted',\n",
              " 'experience',\n",
              " 'erectile',\n",
              " 'self',\n",
              " 'fibrillation',\n",
              " 'otitis',\n",
              " 'zocor',\n",
              " 'accidental',\n",
              " 'related',\n",
              " 'epidermal',\n",
              " 'nail',\n",
              " 'everything',\n",
              " 'website',\n",
              " 'artery',\n",
              " 'hearing',\n",
              " 'constipation',\n",
              " 'obstructive',\n",
              " 'new',\n",
              " 'hypertrophy',\n",
              " 'secondary',\n",
              " 'abdomen',\n",
              " 'hangover',\n",
              " 'metabolic',\n",
              " 'bilirubin',\n",
              " 'each',\n",
              " 'works',\n",
              " 'rather',\n",
              " 'control',\n",
              " 'steroid',\n",
              " '50',\n",
              " 'prothrombin',\n",
              " 'retention',\n",
              " 'embolism',\n",
              " 'syndromes',\n",
              " 'flu',\n",
              " 'gait',\n",
              " 'prostate',\n",
              " 'lesion',\n",
              " '\"',\n",
              " 'thing',\n",
              " 'hit',\n",
              " 'deficiency',\n",
              " 'herpes',\n",
              " 'entire',\n",
              " 'heartburn',\n",
              " 'improvement',\n",
              " 'surgery',\n",
              " 'behaviour',\n",
              " 'fingers',\n",
              " 'rupture',\n",
              " 'zaps',\n",
              " 'sickness',\n",
              " 'cystitis',\n",
              " 'viral',\n",
              " 'fucked',\n",
              " 'wrist',\n",
              " 'triglycerides',\n",
              " 'influenza',\n",
              " 'intolerance',\n",
              " 'focusing',\n",
              " 'others',\n",
              " 'break',\n",
              " 'eyelid',\n",
              " 'feels',\n",
              " 'lowering',\n",
              " 'ratio',\n",
              " 'neuralgia',\n",
              " 'macular',\n",
              " 'enough',\n",
              " 'diagnosed',\n",
              " 'thrombosis',\n",
              " 'leukemia',\n",
              " 'contact',\n",
              " 'adrenal',\n",
              " 'mellitus',\n",
              " 'decided',\n",
              " 'hips',\n",
              " 'coronary',\n",
              " 'toes',\n",
              " 'helped',\n",
              " 'knock',\n",
              " 'toxicity',\n",
              " 'affect',\n",
              " 'slept',\n",
              " 'thinness',\n",
              " 'associated',\n",
              " 'anorexia',\n",
              " 'hdl',\n",
              " 'pm',\n",
              " 'groggy',\n",
              " 'fucking',\n",
              " 'alkalosis',\n",
              " 'bites',\n",
              " 'thirsty',\n",
              " 'hope',\n",
              " 'pounding',\n",
              " 'extremely',\n",
              " 'forgetfulness',\n",
              " 'own',\n",
              " 'diastolic',\n",
              " 'health',\n",
              " 'ok',\n",
              " 'else',\n",
              " 'eaten',\n",
              " 'immune',\n",
              " 'ischemia',\n",
              " 'those',\n",
              " 'period',\n",
              " 'gradually',\n",
              " 'possible',\n",
              " 'paralysed',\n",
              " 'dangerous',\n",
              " 'arteritis',\n",
              " 'balance',\n",
              " 'active',\n",
              " 'cramp',\n",
              " 'such',\n",
              " 'eruptions',\n",
              " 'inability',\n",
              " 'although',\n",
              " 'sad',\n",
              " 'ankles',\n",
              " 'porphyria',\n",
              " 'ovarian',\n",
              " 'changed',\n",
              " 'point',\n",
              " 'similar',\n",
              " 'bruxism',\n",
              " 'intestinal',\n",
              " 'ocular',\n",
              " 'issues',\n",
              " 'became',\n",
              " 'fat',\n",
              " 'mass',\n",
              " 'lipoprotein',\n",
              " 'gave',\n",
              " 'add',\n",
              " \"'ll\",\n",
              " 'physical',\n",
              " 'highly',\n",
              " 'shit',\n",
              " 'abnormalities',\n",
              " 'eczema',\n",
              " 'raised',\n",
              " 'abscess',\n",
              " 'paresis',\n",
              " 'white',\n",
              " 'hypoaesthesia',\n",
              " 'voltaren',\n",
              " 'blindness',\n",
              " 'empty',\n",
              " 'rate',\n",
              " 'discharge',\n",
              " 'deprived',\n",
              " 'stairs',\n",
              " 'totally',\n",
              " 'hyperplasia',\n",
              " 'continue',\n",
              " 'gout',\n",
              " 'mean',\n",
              " 'toxic',\n",
              " 'fell',\n",
              " 'creatine',\n",
              " 'scared',\n",
              " 'worst',\n",
              " 'digestive',\n",
              " 'pancreatitis',\n",
              " 'distractibility',\n",
              " 'interstitial',\n",
              " 'retardation',\n",
              " 'reflux',\n",
              " 'psychological',\n",
              " 'stool',\n",
              " 'suffered',\n",
              " 'wanted',\n",
              " 'concentrate',\n",
              " 'itchy',\n",
              " 'apnea',\n",
              " 'erosion',\n",
              " 'serious',\n",
              " 'fine',\n",
              " 'puking',\n",
              " 'shut',\n",
              " 'arterial',\n",
              " 'aggressive',\n",
              " 'sinusitis',\n",
              " 'healthy',\n",
              " 'infusion',\n",
              " 'yawning',\n",
              " 'vulvovaginal',\n",
              " 'look',\n",
              " 'fasting',\n",
              " 'animal',\n",
              " 'schizophrenia',\n",
              " 'longer',\n",
              " 'hypochondriasis',\n",
              " 'strength',\n",
              " 'might',\n",
              " 'tension',\n",
              " 'vein',\n",
              " 'acneiform',\n",
              " 'miss',\n",
              " 'mania',\n",
              " 'vascular',\n",
              " 'big',\n",
              " 'rectal',\n",
              " 'respiration',\n",
              " 'improved',\n",
              " 'cortisone',\n",
              " 'thinning',\n",
              " 'squamous',\n",
              " 'cut',\n",
              " 'instead',\n",
              " 'neutropenic',\n",
              " 'pregnancy',\n",
              " 'soft',\n",
              " ...]"
            ]
          },
          "metadata": {
            "tags": []
          },
          "execution_count": 18
        }
      ]
    },
    {
      "cell_type": "code",
      "metadata": {
        "id": "yPWr03mls3VT",
        "outputId": "1876f732-9408-4af4-a226-61cc444075b0",
        "colab": {
          "base_uri": "https://localhost:8080/",
          "height": 17
        }
      },
      "source": [
        "model_path = path/'models'\n",
        "model_path.mkdir(exist_ok=True)\n",
        "url = 'http://files.fast.ai/models/wt103_v1/'\n",
        "download_url(f'{url}lstm_wt103.pth', model_path/'lstm_wt103.pth')\n",
        "download_url(f'{url}itos_wt103.pkl', model_path/'itos_wt103.pkl')"
      ],
      "execution_count": 19,
      "outputs": [
        {
          "output_type": "display_data",
          "data": {
            "text/html": [
              ""
            ],
            "text/plain": [
              "<IPython.core.display.HTML object>"
            ]
          },
          "metadata": {
            "tags": []
          }
        },
        {
          "output_type": "display_data",
          "data": {
            "text/html": [
              ""
            ],
            "text/plain": [
              "<IPython.core.display.HTML object>"
            ]
          },
          "metadata": {
            "tags": []
          }
        }
      ]
    },
    {
      "cell_type": "code",
      "metadata": {
        "id": "JRzvWg8RtGGr",
        "outputId": "22b033b7-9d25-44ee-f376-73d00c06994c",
        "colab": {
          "base_uri": "https://localhost:8080/",
          "height": 34
        }
      },
      "source": [
        "learn = language_model_learner(data_lm, AWD_LSTM, drop_mult=0.5)"
      ],
      "execution_count": 20,
      "outputs": [
        {
          "output_type": "stream",
          "text": [
            "Downloading https://s3.amazonaws.com/fast-ai-modelzoo/wt103-fwd.tgz\n"
          ],
          "name": "stdout"
        },
        {
          "output_type": "display_data",
          "data": {
            "text/html": [
              ""
            ],
            "text/plain": [
              "<IPython.core.display.HTML object>"
            ]
          },
          "metadata": {
            "tags": []
          }
        }
      ]
    },
    {
      "cell_type": "code",
      "metadata": {
        "id": "xKK7GeBev7Xn",
        "outputId": "1a4aed2f-5faf-4d1a-e431-73b146602ff8",
        "colab": {
          "base_uri": "https://localhost:8080/",
          "height": 80
        }
      },
      "source": [
        "learn.fit_one_cycle(1, 1e-2)"
      ],
      "execution_count": 21,
      "outputs": [
        {
          "output_type": "display_data",
          "data": {
            "text/html": [
              "<table border=\"1\" class=\"dataframe\">\n",
              "  <thead>\n",
              "    <tr style=\"text-align: left;\">\n",
              "      <th>epoch</th>\n",
              "      <th>train_loss</th>\n",
              "      <th>valid_loss</th>\n",
              "      <th>accuracy</th>\n",
              "      <th>time</th>\n",
              "    </tr>\n",
              "  </thead>\n",
              "  <tbody>\n",
              "    <tr>\n",
              "      <td>0</td>\n",
              "      <td>4.275078</td>\n",
              "      <td>3.455983</td>\n",
              "      <td>0.431948</td>\n",
              "      <td>08:58</td>\n",
              "    </tr>\n",
              "  </tbody>\n",
              "</table>"
            ],
            "text/plain": [
              "<IPython.core.display.HTML object>"
            ]
          },
          "metadata": {
            "tags": []
          }
        }
      ]
    },
    {
      "cell_type": "code",
      "metadata": {
        "id": "iB7rHGQCwd12",
        "outputId": "ddaae105-7357-4095-a48e-20a85e4cca98",
        "colab": {
          "base_uri": "https://localhost:8080/",
          "height": 80
        }
      },
      "source": [
        "learn.fit_one_cycle(1, 1e-2)"
      ],
      "execution_count": 22,
      "outputs": [
        {
          "output_type": "display_data",
          "data": {
            "text/html": [
              "<table border=\"1\" class=\"dataframe\">\n",
              "  <thead>\n",
              "    <tr style=\"text-align: left;\">\n",
              "      <th>epoch</th>\n",
              "      <th>train_loss</th>\n",
              "      <th>valid_loss</th>\n",
              "      <th>accuracy</th>\n",
              "      <th>time</th>\n",
              "    </tr>\n",
              "  </thead>\n",
              "  <tbody>\n",
              "    <tr>\n",
              "      <td>0</td>\n",
              "      <td>3.260770</td>\n",
              "      <td>3.020249</td>\n",
              "      <td>0.489090</td>\n",
              "      <td>08:53</td>\n",
              "    </tr>\n",
              "  </tbody>\n",
              "</table>"
            ],
            "text/plain": [
              "<IPython.core.display.HTML object>"
            ]
          },
          "metadata": {
            "tags": []
          }
        }
      ]
    },
    {
      "cell_type": "code",
      "metadata": {
        "id": "_BnSuAeCwkBe",
        "outputId": "a07279df-1e07-46e3-aad1-f617d59c55db",
        "colab": {
          "base_uri": "https://localhost:8080/",
          "height": 80
        }
      },
      "source": [
        "learn.fit_one_cycle(1, 1e-3)"
      ],
      "execution_count": 23,
      "outputs": [
        {
          "output_type": "display_data",
          "data": {
            "text/html": [
              "<table border=\"1\" class=\"dataframe\">\n",
              "  <thead>\n",
              "    <tr style=\"text-align: left;\">\n",
              "      <th>epoch</th>\n",
              "      <th>train_loss</th>\n",
              "      <th>valid_loss</th>\n",
              "      <th>accuracy</th>\n",
              "      <th>time</th>\n",
              "    </tr>\n",
              "  </thead>\n",
              "  <tbody>\n",
              "    <tr>\n",
              "      <td>0</td>\n",
              "      <td>3.081868</td>\n",
              "      <td>2.988015</td>\n",
              "      <td>0.493862</td>\n",
              "      <td>08:54</td>\n",
              "    </tr>\n",
              "  </tbody>\n",
              "</table>"
            ],
            "text/plain": [
              "<IPython.core.display.HTML object>"
            ]
          },
          "metadata": {
            "tags": []
          }
        }
      ]
    },
    {
      "cell_type": "code",
      "metadata": {
        "id": "MuTm-RFjwrEX",
        "outputId": "062c29b8-2ac5-442b-8dcf-e6e18a8c8263",
        "colab": {
          "base_uri": "https://localhost:8080/",
          "height": 80
        }
      },
      "source": [
        "learn.fit_one_cycle(1, 1e-3)"
      ],
      "execution_count": 24,
      "outputs": [
        {
          "output_type": "display_data",
          "data": {
            "text/html": [
              "<table border=\"1\" class=\"dataframe\">\n",
              "  <thead>\n",
              "    <tr style=\"text-align: left;\">\n",
              "      <th>epoch</th>\n",
              "      <th>train_loss</th>\n",
              "      <th>valid_loss</th>\n",
              "      <th>accuracy</th>\n",
              "      <th>time</th>\n",
              "    </tr>\n",
              "  </thead>\n",
              "  <tbody>\n",
              "    <tr>\n",
              "      <td>0</td>\n",
              "      <td>3.035752</td>\n",
              "      <td>2.959770</td>\n",
              "      <td>0.496150</td>\n",
              "      <td>08:52</td>\n",
              "    </tr>\n",
              "  </tbody>\n",
              "</table>"
            ],
            "text/plain": [
              "<IPython.core.display.HTML object>"
            ]
          },
          "metadata": {
            "tags": []
          }
        }
      ]
    },
    {
      "cell_type": "code",
      "metadata": {
        "id": "1Er2ExO8wr7Y"
      },
      "source": [
        "learn.save_encoder('TwADR-cadec_fold0_first')"
      ],
      "execution_count": 25,
      "outputs": []
    },
    {
      "cell_type": "code",
      "metadata": {
        "id": "z52cZs2qwvad",
        "outputId": "b126758e-f3aa-4703-a9c3-352769a2a44a",
        "colab": {
          "base_uri": "https://localhost:8080/",
          "height": 80
        }
      },
      "source": [
        "learn = text_classifier_learner(data_clas,AWD_LSTM, drop_mult=0.5)\n",
        "learn.load_encoder('TwADR-cadec_fold0_first')\n",
        "learn.fit_one_cycle(1, 1e-2)"
      ],
      "execution_count": 26,
      "outputs": [
        {
          "output_type": "display_data",
          "data": {
            "text/html": [
              "<table border=\"1\" class=\"dataframe\">\n",
              "  <thead>\n",
              "    <tr style=\"text-align: left;\">\n",
              "      <th>epoch</th>\n",
              "      <th>train_loss</th>\n",
              "      <th>valid_loss</th>\n",
              "      <th>accuracy</th>\n",
              "      <th>time</th>\n",
              "    </tr>\n",
              "  </thead>\n",
              "  <tbody>\n",
              "    <tr>\n",
              "      <td>0</td>\n",
              "      <td>7.233232</td>\n",
              "      <td>6.554132</td>\n",
              "      <td>0.060870</td>\n",
              "      <td>00:24</td>\n",
              "    </tr>\n",
              "  </tbody>\n",
              "</table>"
            ],
            "text/plain": [
              "<IPython.core.display.HTML object>"
            ]
          },
          "metadata": {
            "tags": []
          }
        }
      ]
    },
    {
      "cell_type": "code",
      "metadata": {
        "id": "ImwQP1PJwzxd",
        "outputId": "13058a4a-20dd-42f7-ca23-b96e4edac513",
        "colab": {
          "base_uri": "https://localhost:8080/",
          "height": 80
        }
      },
      "source": [
        "learn.freeze_to(-2)\n",
        "learn.fit_one_cycle(1, slice(5e-3/2., 5e-3))"
      ],
      "execution_count": 27,
      "outputs": [
        {
          "output_type": "display_data",
          "data": {
            "text/html": [
              "<table border=\"1\" class=\"dataframe\">\n",
              "  <thead>\n",
              "    <tr style=\"text-align: left;\">\n",
              "      <th>epoch</th>\n",
              "      <th>train_loss</th>\n",
              "      <th>valid_loss</th>\n",
              "      <th>accuracy</th>\n",
              "      <th>time</th>\n",
              "    </tr>\n",
              "  </thead>\n",
              "  <tbody>\n",
              "    <tr>\n",
              "      <td>0</td>\n",
              "      <td>6.279817</td>\n",
              "      <td>5.492826</td>\n",
              "      <td>0.130435</td>\n",
              "      <td>00:25</td>\n",
              "    </tr>\n",
              "  </tbody>\n",
              "</table>"
            ],
            "text/plain": [
              "<IPython.core.display.HTML object>"
            ]
          },
          "metadata": {
            "tags": []
          }
        }
      ]
    },
    {
      "cell_type": "code",
      "metadata": {
        "id": "Owff_BJXw53u",
        "outputId": "51dce421-2af0-4710-eae2-12ebca05c789",
        "colab": {
          "base_uri": "https://localhost:8080/",
          "height": 80
        }
      },
      "source": [
        "learn.unfreeze()\n",
        "learn.fit_one_cycle(1, slice(2e-3/100, 2e-3))"
      ],
      "execution_count": 28,
      "outputs": [
        {
          "output_type": "display_data",
          "data": {
            "text/html": [
              "<table border=\"1\" class=\"dataframe\">\n",
              "  <thead>\n",
              "    <tr style=\"text-align: left;\">\n",
              "      <th>epoch</th>\n",
              "      <th>train_loss</th>\n",
              "      <th>valid_loss</th>\n",
              "      <th>accuracy</th>\n",
              "      <th>time</th>\n",
              "    </tr>\n",
              "  </thead>\n",
              "  <tbody>\n",
              "    <tr>\n",
              "      <td>0</td>\n",
              "      <td>5.755794</td>\n",
              "      <td>4.802615</td>\n",
              "      <td>0.147826</td>\n",
              "      <td>01:07</td>\n",
              "    </tr>\n",
              "  </tbody>\n",
              "</table>"
            ],
            "text/plain": [
              "<IPython.core.display.HTML object>"
            ]
          },
          "metadata": {
            "tags": []
          }
        }
      ]
    },
    {
      "cell_type": "code",
      "metadata": {
        "id": "lqAyu56V8Waq",
        "outputId": "2ce4824e-0d18-4c8c-96c6-ff630e3490e6",
        "colab": {
          "base_uri": "https://localhost:8080/",
          "height": 111
        }
      },
      "source": [
        "learn.fit_one_cycle(2, slice(2e-3/100, 2e-3))"
      ],
      "execution_count": 29,
      "outputs": [
        {
          "output_type": "display_data",
          "data": {
            "text/html": [
              "<table border=\"1\" class=\"dataframe\">\n",
              "  <thead>\n",
              "    <tr style=\"text-align: left;\">\n",
              "      <th>epoch</th>\n",
              "      <th>train_loss</th>\n",
              "      <th>valid_loss</th>\n",
              "      <th>accuracy</th>\n",
              "      <th>time</th>\n",
              "    </tr>\n",
              "  </thead>\n",
              "  <tbody>\n",
              "    <tr>\n",
              "      <td>0</td>\n",
              "      <td>5.461421</td>\n",
              "      <td>4.459805</td>\n",
              "      <td>0.182609</td>\n",
              "      <td>01:08</td>\n",
              "    </tr>\n",
              "    <tr>\n",
              "      <td>1</td>\n",
              "      <td>5.251167</td>\n",
              "      <td>4.308764</td>\n",
              "      <td>0.200000</td>\n",
              "      <td>01:03</td>\n",
              "    </tr>\n",
              "  </tbody>\n",
              "</table>"
            ],
            "text/plain": [
              "<IPython.core.display.HTML object>"
            ]
          },
          "metadata": {
            "tags": []
          }
        }
      ]
    },
    {
      "cell_type": "code",
      "metadata": {
        "id": "a7I1xMRp8bUd",
        "outputId": "e16a0ee3-245e-4400-ba1f-c8ddce1e258c",
        "colab": {
          "base_uri": "https://localhost:8080/",
          "height": 111
        }
      },
      "source": [
        "learn.fit_one_cycle(2, slice(2e-3/100, 2e-3))"
      ],
      "execution_count": 30,
      "outputs": [
        {
          "output_type": "display_data",
          "data": {
            "text/html": [
              "<table border=\"1\" class=\"dataframe\">\n",
              "  <thead>\n",
              "    <tr style=\"text-align: left;\">\n",
              "      <th>epoch</th>\n",
              "      <th>train_loss</th>\n",
              "      <th>valid_loss</th>\n",
              "      <th>accuracy</th>\n",
              "      <th>time</th>\n",
              "    </tr>\n",
              "  </thead>\n",
              "  <tbody>\n",
              "    <tr>\n",
              "      <td>0</td>\n",
              "      <td>4.954540</td>\n",
              "      <td>4.065209</td>\n",
              "      <td>0.252174</td>\n",
              "      <td>01:08</td>\n",
              "    </tr>\n",
              "    <tr>\n",
              "      <td>1</td>\n",
              "      <td>4.777846</td>\n",
              "      <td>4.038539</td>\n",
              "      <td>0.252174</td>\n",
              "      <td>01:01</td>\n",
              "    </tr>\n",
              "  </tbody>\n",
              "</table>"
            ],
            "text/plain": [
              "<IPython.core.display.HTML object>"
            ]
          },
          "metadata": {
            "tags": []
          }
        }
      ]
    },
    {
      "cell_type": "code",
      "metadata": {
        "id": "UAnti-XmGVfO",
        "outputId": "010c8a3d-e566-4f89-81cd-d37f45576ada",
        "colab": {
          "base_uri": "https://localhost:8080/",
          "height": 111
        }
      },
      "source": [
        "learn.fit_one_cycle(2, slice(2e-3/100, 2e-3))"
      ],
      "execution_count": 31,
      "outputs": [
        {
          "output_type": "display_data",
          "data": {
            "text/html": [
              "<table border=\"1\" class=\"dataframe\">\n",
              "  <thead>\n",
              "    <tr style=\"text-align: left;\">\n",
              "      <th>epoch</th>\n",
              "      <th>train_loss</th>\n",
              "      <th>valid_loss</th>\n",
              "      <th>accuracy</th>\n",
              "      <th>time</th>\n",
              "    </tr>\n",
              "  </thead>\n",
              "  <tbody>\n",
              "    <tr>\n",
              "      <td>0</td>\n",
              "      <td>4.550385</td>\n",
              "      <td>3.950456</td>\n",
              "      <td>0.260870</td>\n",
              "      <td>01:05</td>\n",
              "    </tr>\n",
              "    <tr>\n",
              "      <td>1</td>\n",
              "      <td>4.394523</td>\n",
              "      <td>3.851768</td>\n",
              "      <td>0.278261</td>\n",
              "      <td>01:04</td>\n",
              "    </tr>\n",
              "  </tbody>\n",
              "</table>"
            ],
            "text/plain": [
              "<IPython.core.display.HTML object>"
            ]
          },
          "metadata": {
            "tags": []
          }
        }
      ]
    },
    {
      "cell_type": "code",
      "metadata": {
        "id": "bIft7W25GwSu",
        "outputId": "a74e59c3-62c4-47bc-bd44-270ae4c20e52",
        "colab": {
          "base_uri": "https://localhost:8080/",
          "height": 111
        }
      },
      "source": [
        "learn.fit_one_cycle(2, slice(2e-3/100, 2e-3))"
      ],
      "execution_count": 32,
      "outputs": [
        {
          "output_type": "display_data",
          "data": {
            "text/html": [
              "<table border=\"1\" class=\"dataframe\">\n",
              "  <thead>\n",
              "    <tr style=\"text-align: left;\">\n",
              "      <th>epoch</th>\n",
              "      <th>train_loss</th>\n",
              "      <th>valid_loss</th>\n",
              "      <th>accuracy</th>\n",
              "      <th>time</th>\n",
              "    </tr>\n",
              "  </thead>\n",
              "  <tbody>\n",
              "    <tr>\n",
              "      <td>0</td>\n",
              "      <td>4.195397</td>\n",
              "      <td>3.722086</td>\n",
              "      <td>0.278261</td>\n",
              "      <td>01:05</td>\n",
              "    </tr>\n",
              "    <tr>\n",
              "      <td>1</td>\n",
              "      <td>4.060951</td>\n",
              "      <td>3.638329</td>\n",
              "      <td>0.278261</td>\n",
              "      <td>01:08</td>\n",
              "    </tr>\n",
              "  </tbody>\n",
              "</table>"
            ],
            "text/plain": [
              "<IPython.core.display.HTML object>"
            ]
          },
          "metadata": {
            "tags": []
          }
        }
      ]
    },
    {
      "cell_type": "code",
      "metadata": {
        "id": "EEHszVRvGyFt",
        "outputId": "35befd9b-a216-4a37-cb6a-e535c153dca0",
        "colab": {
          "base_uri": "https://localhost:8080/",
          "height": 111
        }
      },
      "source": [
        "learn.fit_one_cycle(2, slice(2e-3/100, 2e-3))"
      ],
      "execution_count": 33,
      "outputs": [
        {
          "output_type": "display_data",
          "data": {
            "text/html": [
              "<table border=\"1\" class=\"dataframe\">\n",
              "  <thead>\n",
              "    <tr style=\"text-align: left;\">\n",
              "      <th>epoch</th>\n",
              "      <th>train_loss</th>\n",
              "      <th>valid_loss</th>\n",
              "      <th>accuracy</th>\n",
              "      <th>time</th>\n",
              "    </tr>\n",
              "  </thead>\n",
              "  <tbody>\n",
              "    <tr>\n",
              "      <td>0</td>\n",
              "      <td>3.879625</td>\n",
              "      <td>3.549569</td>\n",
              "      <td>0.313043</td>\n",
              "      <td>01:04</td>\n",
              "    </tr>\n",
              "    <tr>\n",
              "      <td>1</td>\n",
              "      <td>3.735331</td>\n",
              "      <td>3.524523</td>\n",
              "      <td>0.339130</td>\n",
              "      <td>01:01</td>\n",
              "    </tr>\n",
              "  </tbody>\n",
              "</table>"
            ],
            "text/plain": [
              "<IPython.core.display.HTML object>"
            ]
          },
          "metadata": {
            "tags": []
          }
        }
      ]
    },
    {
      "cell_type": "code",
      "metadata": {
        "id": "XsHfrhCHG3dN",
        "outputId": "b771eba9-55b0-421f-d3c4-c527c513b9aa",
        "colab": {
          "base_uri": "https://localhost:8080/",
          "height": 173
        }
      },
      "source": [
        "learn.fit_one_cycle(4, slice(2e-3/100, 2e-3))"
      ],
      "execution_count": 34,
      "outputs": [
        {
          "output_type": "display_data",
          "data": {
            "text/html": [
              "<table border=\"1\" class=\"dataframe\">\n",
              "  <thead>\n",
              "    <tr style=\"text-align: left;\">\n",
              "      <th>epoch</th>\n",
              "      <th>train_loss</th>\n",
              "      <th>valid_loss</th>\n",
              "      <th>accuracy</th>\n",
              "      <th>time</th>\n",
              "    </tr>\n",
              "  </thead>\n",
              "  <tbody>\n",
              "    <tr>\n",
              "      <td>0</td>\n",
              "      <td>3.567021</td>\n",
              "      <td>3.525229</td>\n",
              "      <td>0.304348</td>\n",
              "      <td>01:08</td>\n",
              "    </tr>\n",
              "    <tr>\n",
              "      <td>1</td>\n",
              "      <td>3.472496</td>\n",
              "      <td>3.500514</td>\n",
              "      <td>0.321739</td>\n",
              "      <td>01:08</td>\n",
              "    </tr>\n",
              "    <tr>\n",
              "      <td>2</td>\n",
              "      <td>3.272350</td>\n",
              "      <td>3.453426</td>\n",
              "      <td>0.321739</td>\n",
              "      <td>01:06</td>\n",
              "    </tr>\n",
              "    <tr>\n",
              "      <td>3</td>\n",
              "      <td>3.101677</td>\n",
              "      <td>3.409678</td>\n",
              "      <td>0.330435</td>\n",
              "      <td>01:02</td>\n",
              "    </tr>\n",
              "  </tbody>\n",
              "</table>"
            ],
            "text/plain": [
              "<IPython.core.display.HTML object>"
            ]
          },
          "metadata": {
            "tags": []
          }
        }
      ]
    },
    {
      "cell_type": "code",
      "metadata": {
        "id": "0Zsd99isb9EQ",
        "outputId": "5efc6c10-0412-4c89-8658-e7a78ca870c6",
        "colab": {
          "base_uri": "https://localhost:8080/",
          "height": 173
        }
      },
      "source": [
        "learn.fit_one_cycle(4, slice(2e-3/100, 2e-3))"
      ],
      "execution_count": 35,
      "outputs": [
        {
          "output_type": "display_data",
          "data": {
            "text/html": [
              "<table border=\"1\" class=\"dataframe\">\n",
              "  <thead>\n",
              "    <tr style=\"text-align: left;\">\n",
              "      <th>epoch</th>\n",
              "      <th>train_loss</th>\n",
              "      <th>valid_loss</th>\n",
              "      <th>accuracy</th>\n",
              "      <th>time</th>\n",
              "    </tr>\n",
              "  </thead>\n",
              "  <tbody>\n",
              "    <tr>\n",
              "      <td>0</td>\n",
              "      <td>2.935484</td>\n",
              "      <td>3.458913</td>\n",
              "      <td>0.339130</td>\n",
              "      <td>01:03</td>\n",
              "    </tr>\n",
              "    <tr>\n",
              "      <td>1</td>\n",
              "      <td>2.886775</td>\n",
              "      <td>3.431721</td>\n",
              "      <td>0.313043</td>\n",
              "      <td>01:04</td>\n",
              "    </tr>\n",
              "    <tr>\n",
              "      <td>2</td>\n",
              "      <td>2.712967</td>\n",
              "      <td>3.365712</td>\n",
              "      <td>0.373913</td>\n",
              "      <td>01:08</td>\n",
              "    </tr>\n",
              "    <tr>\n",
              "      <td>3</td>\n",
              "      <td>2.556620</td>\n",
              "      <td>3.380217</td>\n",
              "      <td>0.347826</td>\n",
              "      <td>01:11</td>\n",
              "    </tr>\n",
              "  </tbody>\n",
              "</table>"
            ],
            "text/plain": [
              "<IPython.core.display.HTML object>"
            ]
          },
          "metadata": {
            "tags": []
          }
        }
      ]
    },
    {
      "cell_type": "code",
      "metadata": {
        "id": "atNWNKDFPbuI",
        "outputId": "c2c72d9d-d339-452b-dce0-0b6676310a47",
        "colab": {
          "base_uri": "https://localhost:8080/",
          "height": 173
        }
      },
      "source": [
        "learn.fit_one_cycle(4, slice(2e-3/100, 2e-3))"
      ],
      "execution_count": 36,
      "outputs": [
        {
          "output_type": "display_data",
          "data": {
            "text/html": [
              "<table border=\"1\" class=\"dataframe\">\n",
              "  <thead>\n",
              "    <tr style=\"text-align: left;\">\n",
              "      <th>epoch</th>\n",
              "      <th>train_loss</th>\n",
              "      <th>valid_loss</th>\n",
              "      <th>accuracy</th>\n",
              "      <th>time</th>\n",
              "    </tr>\n",
              "  </thead>\n",
              "  <tbody>\n",
              "    <tr>\n",
              "      <td>0</td>\n",
              "      <td>2.372758</td>\n",
              "      <td>3.339276</td>\n",
              "      <td>0.356522</td>\n",
              "      <td>01:07</td>\n",
              "    </tr>\n",
              "    <tr>\n",
              "      <td>1</td>\n",
              "      <td>2.343452</td>\n",
              "      <td>3.310621</td>\n",
              "      <td>0.356522</td>\n",
              "      <td>01:09</td>\n",
              "    </tr>\n",
              "    <tr>\n",
              "      <td>2</td>\n",
              "      <td>2.217196</td>\n",
              "      <td>3.352814</td>\n",
              "      <td>0.356522</td>\n",
              "      <td>01:06</td>\n",
              "    </tr>\n",
              "    <tr>\n",
              "      <td>3</td>\n",
              "      <td>2.071698</td>\n",
              "      <td>3.433913</td>\n",
              "      <td>0.339130</td>\n",
              "      <td>01:02</td>\n",
              "    </tr>\n",
              "  </tbody>\n",
              "</table>"
            ],
            "text/plain": [
              "<IPython.core.display.HTML object>"
            ]
          },
          "metadata": {
            "tags": []
          }
        }
      ]
    },
    {
      "cell_type": "code",
      "metadata": {
        "id": "rKrBTZ0T1uVA",
        "outputId": "df1dbba8-bfb6-4c5f-832d-8dee61b42f78",
        "colab": {
          "base_uri": "https://localhost:8080/",
          "height": 173
        }
      },
      "source": [
        "learn.fit_one_cycle(4, slice(2e-3/100, 2e-3))"
      ],
      "execution_count": 37,
      "outputs": [
        {
          "output_type": "display_data",
          "data": {
            "text/html": [
              "<table border=\"1\" class=\"dataframe\">\n",
              "  <thead>\n",
              "    <tr style=\"text-align: left;\">\n",
              "      <th>epoch</th>\n",
              "      <th>train_loss</th>\n",
              "      <th>valid_loss</th>\n",
              "      <th>accuracy</th>\n",
              "      <th>time</th>\n",
              "    </tr>\n",
              "  </thead>\n",
              "  <tbody>\n",
              "    <tr>\n",
              "      <td>0</td>\n",
              "      <td>1.975398</td>\n",
              "      <td>3.355983</td>\n",
              "      <td>0.391304</td>\n",
              "      <td>01:03</td>\n",
              "    </tr>\n",
              "    <tr>\n",
              "      <td>1</td>\n",
              "      <td>1.900709</td>\n",
              "      <td>3.418064</td>\n",
              "      <td>0.347826</td>\n",
              "      <td>01:03</td>\n",
              "    </tr>\n",
              "    <tr>\n",
              "      <td>2</td>\n",
              "      <td>1.787240</td>\n",
              "      <td>3.380969</td>\n",
              "      <td>0.356522</td>\n",
              "      <td>01:05</td>\n",
              "    </tr>\n",
              "    <tr>\n",
              "      <td>3</td>\n",
              "      <td>1.643925</td>\n",
              "      <td>3.345597</td>\n",
              "      <td>0.356522</td>\n",
              "      <td>01:02</td>\n",
              "    </tr>\n",
              "  </tbody>\n",
              "</table>"
            ],
            "text/plain": [
              "<IPython.core.display.HTML object>"
            ]
          },
          "metadata": {
            "tags": []
          }
        }
      ]
    },
    {
      "cell_type": "code",
      "metadata": {
        "id": "ajQC6WDg1yA9",
        "outputId": "15253989-49d7-45c0-8169-24c9525be862",
        "colab": {
          "base_uri": "https://localhost:8080/",
          "height": 173
        }
      },
      "source": [
        "learn.fit_one_cycle(4, slice(2e-3/100, 2e-3))"
      ],
      "execution_count": 38,
      "outputs": [
        {
          "output_type": "display_data",
          "data": {
            "text/html": [
              "<table border=\"1\" class=\"dataframe\">\n",
              "  <thead>\n",
              "    <tr style=\"text-align: left;\">\n",
              "      <th>epoch</th>\n",
              "      <th>train_loss</th>\n",
              "      <th>valid_loss</th>\n",
              "      <th>accuracy</th>\n",
              "      <th>time</th>\n",
              "    </tr>\n",
              "  </thead>\n",
              "  <tbody>\n",
              "    <tr>\n",
              "      <td>0</td>\n",
              "      <td>1.554562</td>\n",
              "      <td>3.348886</td>\n",
              "      <td>0.382609</td>\n",
              "      <td>01:11</td>\n",
              "    </tr>\n",
              "    <tr>\n",
              "      <td>1</td>\n",
              "      <td>1.549012</td>\n",
              "      <td>3.424731</td>\n",
              "      <td>0.408696</td>\n",
              "      <td>01:03</td>\n",
              "    </tr>\n",
              "    <tr>\n",
              "      <td>2</td>\n",
              "      <td>1.443931</td>\n",
              "      <td>3.369582</td>\n",
              "      <td>0.373913</td>\n",
              "      <td>01:10</td>\n",
              "    </tr>\n",
              "    <tr>\n",
              "      <td>3</td>\n",
              "      <td>1.314771</td>\n",
              "      <td>3.364643</td>\n",
              "      <td>0.365217</td>\n",
              "      <td>01:04</td>\n",
              "    </tr>\n",
              "  </tbody>\n",
              "</table>"
            ],
            "text/plain": [
              "<IPython.core.display.HTML object>"
            ]
          },
          "metadata": {
            "tags": []
          }
        }
      ]
    },
    {
      "cell_type": "code",
      "metadata": {
        "id": "KKydb0B4BKGk",
        "outputId": "095b45f2-95cb-4505-d03f-3096148f5968",
        "colab": {
          "base_uri": "https://localhost:8080/",
          "height": 173
        }
      },
      "source": [
        "learn.fit_one_cycle(4, slice(2e-3/100, 2e-3))"
      ],
      "execution_count": 39,
      "outputs": [
        {
          "output_type": "display_data",
          "data": {
            "text/html": [
              "<table border=\"1\" class=\"dataframe\">\n",
              "  <thead>\n",
              "    <tr style=\"text-align: left;\">\n",
              "      <th>epoch</th>\n",
              "      <th>train_loss</th>\n",
              "      <th>valid_loss</th>\n",
              "      <th>accuracy</th>\n",
              "      <th>time</th>\n",
              "    </tr>\n",
              "  </thead>\n",
              "  <tbody>\n",
              "    <tr>\n",
              "      <td>0</td>\n",
              "      <td>1.236918</td>\n",
              "      <td>3.395929</td>\n",
              "      <td>0.382609</td>\n",
              "      <td>01:04</td>\n",
              "    </tr>\n",
              "    <tr>\n",
              "      <td>1</td>\n",
              "      <td>1.234299</td>\n",
              "      <td>3.572369</td>\n",
              "      <td>0.356522</td>\n",
              "      <td>01:04</td>\n",
              "    </tr>\n",
              "    <tr>\n",
              "      <td>2</td>\n",
              "      <td>1.148754</td>\n",
              "      <td>3.438464</td>\n",
              "      <td>0.330435</td>\n",
              "      <td>01:06</td>\n",
              "    </tr>\n",
              "    <tr>\n",
              "      <td>3</td>\n",
              "      <td>1.026012</td>\n",
              "      <td>3.385891</td>\n",
              "      <td>0.347826</td>\n",
              "      <td>01:08</td>\n",
              "    </tr>\n",
              "  </tbody>\n",
              "</table>"
            ],
            "text/plain": [
              "<IPython.core.display.HTML object>"
            ]
          },
          "metadata": {
            "tags": []
          }
        }
      ]
    },
    {
      "cell_type": "code",
      "metadata": {
        "id": "T2APKtFKBpGY",
        "outputId": "c7a89190-88bd-44e0-d7a3-9758370a6615",
        "colab": {
          "base_uri": "https://localhost:8080/",
          "height": 173
        }
      },
      "source": [
        "learn.fit_one_cycle(4, slice(2e-3/100, 2e-3))"
      ],
      "execution_count": 40,
      "outputs": [
        {
          "output_type": "display_data",
          "data": {
            "text/html": [
              "<table border=\"1\" class=\"dataframe\">\n",
              "  <thead>\n",
              "    <tr style=\"text-align: left;\">\n",
              "      <th>epoch</th>\n",
              "      <th>train_loss</th>\n",
              "      <th>valid_loss</th>\n",
              "      <th>accuracy</th>\n",
              "      <th>time</th>\n",
              "    </tr>\n",
              "  </thead>\n",
              "  <tbody>\n",
              "    <tr>\n",
              "      <td>0</td>\n",
              "      <td>0.936731</td>\n",
              "      <td>3.391649</td>\n",
              "      <td>0.365217</td>\n",
              "      <td>01:08</td>\n",
              "    </tr>\n",
              "    <tr>\n",
              "      <td>1</td>\n",
              "      <td>0.988532</td>\n",
              "      <td>3.723442</td>\n",
              "      <td>0.347826</td>\n",
              "      <td>01:10</td>\n",
              "    </tr>\n",
              "    <tr>\n",
              "      <td>2</td>\n",
              "      <td>0.948157</td>\n",
              "      <td>3.691957</td>\n",
              "      <td>0.321739</td>\n",
              "      <td>01:05</td>\n",
              "    </tr>\n",
              "    <tr>\n",
              "      <td>3</td>\n",
              "      <td>0.854773</td>\n",
              "      <td>3.698786</td>\n",
              "      <td>0.339130</td>\n",
              "      <td>01:04</td>\n",
              "    </tr>\n",
              "  </tbody>\n",
              "</table>"
            ],
            "text/plain": [
              "<IPython.core.display.HTML object>"
            ]
          },
          "metadata": {
            "tags": []
          }
        }
      ]
    },
    {
      "cell_type": "code",
      "metadata": {
        "id": "qtTypA1sPgLU",
        "outputId": "34674d83-97d4-41c1-e155-84d9ea3e3fa9",
        "colab": {
          "base_uri": "https://localhost:8080/",
          "height": 111
        }
      },
      "source": [
        "learn.fit_one_cycle(2, slice(2e-3/100, 2e-3))"
      ],
      "execution_count": 41,
      "outputs": [
        {
          "output_type": "display_data",
          "data": {
            "text/html": [
              "<table border=\"1\" class=\"dataframe\">\n",
              "  <thead>\n",
              "    <tr style=\"text-align: left;\">\n",
              "      <th>epoch</th>\n",
              "      <th>train_loss</th>\n",
              "      <th>valid_loss</th>\n",
              "      <th>accuracy</th>\n",
              "      <th>time</th>\n",
              "    </tr>\n",
              "  </thead>\n",
              "  <tbody>\n",
              "    <tr>\n",
              "      <td>0</td>\n",
              "      <td>0.772723</td>\n",
              "      <td>3.699604</td>\n",
              "      <td>0.365217</td>\n",
              "      <td>01:09</td>\n",
              "    </tr>\n",
              "    <tr>\n",
              "      <td>1</td>\n",
              "      <td>0.748338</td>\n",
              "      <td>3.684272</td>\n",
              "      <td>0.356522</td>\n",
              "      <td>01:08</td>\n",
              "    </tr>\n",
              "  </tbody>\n",
              "</table>"
            ],
            "text/plain": [
              "<IPython.core.display.HTML object>"
            ]
          },
          "metadata": {
            "tags": []
          }
        }
      ]
    },
    {
      "cell_type": "code",
      "metadata": {
        "id": "b242kBsTUp9Y",
        "outputId": "89b67fb8-d099-4d76-bd95-4f961effd887",
        "colab": {
          "base_uri": "https://localhost:8080/",
          "height": 111
        }
      },
      "source": [
        "learn.fit_one_cycle(2, slice(2e-3/100, 2e-3))"
      ],
      "execution_count": 42,
      "outputs": [
        {
          "output_type": "display_data",
          "data": {
            "text/html": [
              "<table border=\"1\" class=\"dataframe\">\n",
              "  <thead>\n",
              "    <tr style=\"text-align: left;\">\n",
              "      <th>epoch</th>\n",
              "      <th>train_loss</th>\n",
              "      <th>valid_loss</th>\n",
              "      <th>accuracy</th>\n",
              "      <th>time</th>\n",
              "    </tr>\n",
              "  </thead>\n",
              "  <tbody>\n",
              "    <tr>\n",
              "      <td>0</td>\n",
              "      <td>0.739160</td>\n",
              "      <td>3.776825</td>\n",
              "      <td>0.347826</td>\n",
              "      <td>01:02</td>\n",
              "    </tr>\n",
              "    <tr>\n",
              "      <td>1</td>\n",
              "      <td>0.713579</td>\n",
              "      <td>3.738614</td>\n",
              "      <td>0.339130</td>\n",
              "      <td>01:04</td>\n",
              "    </tr>\n",
              "  </tbody>\n",
              "</table>"
            ],
            "text/plain": [
              "<IPython.core.display.HTML object>"
            ]
          },
          "metadata": {
            "tags": []
          }
        }
      ]
    },
    {
      "cell_type": "code",
      "metadata": {
        "id": "Duwf1Ih5VeDZ",
        "outputId": "d0ec8794-c756-4508-a624-b95365659447",
        "colab": {
          "base_uri": "https://localhost:8080/",
          "height": 80
        }
      },
      "source": [
        "learn.fit_one_cycle(1, slice(2e-3/100, 2e-3))"
      ],
      "execution_count": 43,
      "outputs": [
        {
          "output_type": "display_data",
          "data": {
            "text/html": [
              "<table border=\"1\" class=\"dataframe\">\n",
              "  <thead>\n",
              "    <tr style=\"text-align: left;\">\n",
              "      <th>epoch</th>\n",
              "      <th>train_loss</th>\n",
              "      <th>valid_loss</th>\n",
              "      <th>accuracy</th>\n",
              "      <th>time</th>\n",
              "    </tr>\n",
              "  </thead>\n",
              "  <tbody>\n",
              "    <tr>\n",
              "      <td>0</td>\n",
              "      <td>0.678513</td>\n",
              "      <td>3.797195</td>\n",
              "      <td>0.365217</td>\n",
              "      <td>01:03</td>\n",
              "    </tr>\n",
              "  </tbody>\n",
              "</table>"
            ],
            "text/plain": [
              "<IPython.core.display.HTML object>"
            ]
          },
          "metadata": {
            "tags": []
          }
        }
      ]
    },
    {
      "cell_type": "code",
      "metadata": {
        "id": "c65d-osfDUXm"
      },
      "source": [
        "# save the best model\n",
        "\n",
        "learn.save_encoder('TwADR-cadec_fold0')"
      ],
      "execution_count": 44,
      "outputs": []
    },
    {
      "cell_type": "code",
      "metadata": {
        "id": "5h-A_GpAIYg8",
        "outputId": "e72bb7e5-9570-4061-f36f-90d650d057a0",
        "colab": {
          "base_uri": "https://localhost:8080/",
          "height": 80
        }
      },
      "source": [
        "learn.fit_one_cycle(1, slice(2e-3/100, 2e-3))"
      ],
      "execution_count": 45,
      "outputs": [
        {
          "output_type": "display_data",
          "data": {
            "text/html": [
              "<table border=\"1\" class=\"dataframe\">\n",
              "  <thead>\n",
              "    <tr style=\"text-align: left;\">\n",
              "      <th>epoch</th>\n",
              "      <th>train_loss</th>\n",
              "      <th>valid_loss</th>\n",
              "      <th>accuracy</th>\n",
              "      <th>time</th>\n",
              "    </tr>\n",
              "  </thead>\n",
              "  <tbody>\n",
              "    <tr>\n",
              "      <td>0</td>\n",
              "      <td>0.622294</td>\n",
              "      <td>3.834475</td>\n",
              "      <td>0.330435</td>\n",
              "      <td>01:03</td>\n",
              "    </tr>\n",
              "  </tbody>\n",
              "</table>"
            ],
            "text/plain": [
              "<IPython.core.display.HTML object>"
            ]
          },
          "metadata": {
            "tags": []
          }
        }
      ]
    },
    {
      "cell_type": "code",
      "metadata": {
        "id": "qc4poYxzIwca",
        "outputId": "e078b068-5ee8-4f6f-f43a-3ba0d284c02a",
        "colab": {
          "base_uri": "https://localhost:8080/",
          "height": 80
        }
      },
      "source": [
        "learn.fit_one_cycle(1, slice(2e-3/100, 2e-3))"
      ],
      "execution_count": 46,
      "outputs": [
        {
          "output_type": "display_data",
          "data": {
            "text/html": [
              "<table border=\"1\" class=\"dataframe\">\n",
              "  <thead>\n",
              "    <tr style=\"text-align: left;\">\n",
              "      <th>epoch</th>\n",
              "      <th>train_loss</th>\n",
              "      <th>valid_loss</th>\n",
              "      <th>accuracy</th>\n",
              "      <th>time</th>\n",
              "    </tr>\n",
              "  </thead>\n",
              "  <tbody>\n",
              "    <tr>\n",
              "      <td>0</td>\n",
              "      <td>0.596365</td>\n",
              "      <td>3.770068</td>\n",
              "      <td>0.347826</td>\n",
              "      <td>01:08</td>\n",
              "    </tr>\n",
              "  </tbody>\n",
              "</table>"
            ],
            "text/plain": [
              "<IPython.core.display.HTML object>"
            ]
          },
          "metadata": {
            "tags": []
          }
        }
      ]
    },
    {
      "cell_type": "code",
      "metadata": {
        "id": "66s4PxV1JVfo",
        "outputId": "3200b92e-8b2a-4ad8-b01b-3d99f4ce43b2",
        "colab": {
          "base_uri": "https://localhost:8080/",
          "height": 80
        }
      },
      "source": [
        "learn.fit_one_cycle(1, slice(2e-3/100, 2e-3))"
      ],
      "execution_count": 47,
      "outputs": [
        {
          "output_type": "display_data",
          "data": {
            "text/html": [
              "<table border=\"1\" class=\"dataframe\">\n",
              "  <thead>\n",
              "    <tr style=\"text-align: left;\">\n",
              "      <th>epoch</th>\n",
              "      <th>train_loss</th>\n",
              "      <th>valid_loss</th>\n",
              "      <th>accuracy</th>\n",
              "      <th>time</th>\n",
              "    </tr>\n",
              "  </thead>\n",
              "  <tbody>\n",
              "    <tr>\n",
              "      <td>0</td>\n",
              "      <td>0.588880</td>\n",
              "      <td>3.805523</td>\n",
              "      <td>0.373913</td>\n",
              "      <td>01:02</td>\n",
              "    </tr>\n",
              "  </tbody>\n",
              "</table>"
            ],
            "text/plain": [
              "<IPython.core.display.HTML object>"
            ]
          },
          "metadata": {
            "tags": []
          }
        }
      ]
    },
    {
      "cell_type": "markdown",
      "metadata": {
        "id": "rCwZU0E2RgM6"
      },
      "source": [
        "# Part three: Predict on the test dataset"
      ]
    },
    {
      "cell_type": "code",
      "metadata": {
        "id": "gDm72c-dOu7d",
        "outputId": "9de6906d-d3d5-48a0-aff1-d0449d3ca3d8",
        "colab": {
          "base_uri": "https://localhost:8080/",
          "height": 17
        }
      },
      "source": [
        "# use the test data for prediction\n",
        "\n",
        "preds, y = learn.get_preds(DatasetType.Test)"
      ],
      "execution_count": 48,
      "outputs": [
        {
          "output_type": "display_data",
          "data": {
            "text/html": [
              ""
            ],
            "text/plain": [
              "<IPython.core.display.HTML object>"
            ]
          },
          "metadata": {
            "tags": []
          }
        }
      ]
    },
    {
      "cell_type": "code",
      "metadata": {
        "id": "6tFSQcsWPvxn",
        "outputId": "e9c5fd37-d126-4da9-dfbe-b1eaba7b4565",
        "colab": {
          "base_uri": "https://localhost:8080/",
          "height": 105
        }
      },
      "source": [
        "predictions, *_ = learn.get_preds(DatasetType.Test)\n",
        "labels = np.argmax(predictions, 1)\n",
        "predict_list = labels.tolist()\n",
        "standard_list = test[0].tolist()\n",
        "\n",
        "print(len(predict_list))\n",
        "print(len(standard_list))\n",
        "\n",
        "print(predict_list)\n",
        "print(standard_list)"
      ],
      "execution_count": 49,
      "outputs": [
        {
          "output_type": "display_data",
          "data": {
            "text/html": [
              ""
            ],
            "text/plain": [
              "<IPython.core.display.HTML object>"
            ]
          },
          "metadata": {
            "tags": []
          }
        },
        {
          "output_type": "stream",
          "text": [
            "143\n",
            "143\n",
            "[393, 1597, 265, 1578, 1184, 852, 1096, 1295, 231, 231, 233, 233, 233, 233, 249, 249, 1724, 1787, 1925, 1519, 1529, 1099, 644, 1711, 749, 749, 1942, 792, 792, 792, 813, 852, 852, 749, 1356, 1767, 974, 978, 978, 978, 978, 978, 1711, 824, 1007, 2149, 1669, 1767, 1089, 1099, 426, 974, 1136, 1545, 908, 2097, 1099, 1767, 1356, 1942, 1265, 1930, 1295, 1669, 518, 1308, 1340, 1265, 1340, 1265, 1340, 1340, 1356, 1484, 1508, 1701, 1711, 2118, 1597, 1597, 1597, 1597, 1597, 1599, 1096, 1942, 1610, 1099, 1669, 1787, 1531, 1915, 1711, 1718, 1718, 1767, 1727, 1768, 1073, 2149, 1727, 2191, 1767, 1718, 1787, 1787, 2032, 1787, 1787, 1787, 1099, 1798, 1815, 1815, 1727, 1940, 1877, 1884, 825, 1798, 1930, 1936, 1936, 815, 1942, 1942, 2002, 2109, 729, 2018, 1787, 452, 982, 1877, 825, 1787, 2032, 2147, 974, 1727, 1787, 2191, 2191]\n",
            "[13, 60, 108, 109, 133, 154, 187, 189, 231, 231, 233, 233, 233, 233, 249, 249, 265, 393, 418, 520, 561, 561, 644, 749, 749, 749, 772, 792, 792, 792, 813, 852, 852, 887, 908, 974, 974, 978, 978, 978, 978, 978, 978, 978, 1007, 1048, 1073, 1073, 1089, 1096, 1099, 1099, 1136, 1136, 1184, 1204, 1204, 1227, 1227, 1253, 1265, 1278, 1295, 1295, 1296, 1308, 1340, 1340, 1340, 1340, 1340, 1340, 1356, 1484, 1508, 1526, 1531, 1597, 1597, 1597, 1597, 1597, 1597, 1599, 1599, 1610, 1610, 1610, 1669, 1676, 1682, 1682, 1711, 1718, 1718, 1718, 1718, 1727, 1727, 1727, 1753, 1753, 1767, 1767, 1787, 1787, 1787, 1787, 1787, 1787, 1787, 1798, 1815, 1815, 1815, 1857, 1877, 1884, 1884, 1925, 1930, 1936, 1936, 1940, 1942, 1942, 2002, 2014, 2014, 2018, 2032, 2063, 2081, 2103, 2110, 2147, 2147, 2147, 2147, 2150, 2150, 2191, 2191]\n"
          ],
          "name": "stdout"
        }
      ]
    },
    {
      "cell_type": "code",
      "metadata": {
        "id": "XIC4zufnMxtq",
        "outputId": "c041f40c-651e-4cbe-83d3-492455d971e6",
        "colab": {
          "base_uri": "https://localhost:8080/"
        }
      },
      "source": [
        "correct_num = 0\n",
        "\n",
        "for i in range(0, len(standard_list)):\n",
        "  if predict_list[i] == standard_list[i]:\n",
        "    correct_num = correct_num+1\n",
        "  else:\n",
        "    pass\n",
        "print(correct_num)\n",
        "\n",
        "predict_accuracy = correct_num/len(predict_list)\n",
        "print(predict_accuracy)"
      ],
      "execution_count": 50,
      "outputs": [
        {
          "output_type": "stream",
          "text": [
            "68\n",
            "0.4755244755244755\n"
          ],
          "name": "stdout"
        }
      ]
    },
    {
      "cell_type": "code",
      "metadata": {
        "id": "zlKMHp1CIaRJ"
      },
      "source": [
        ""
      ],
      "execution_count": 50,
      "outputs": []
    }
  ]
}