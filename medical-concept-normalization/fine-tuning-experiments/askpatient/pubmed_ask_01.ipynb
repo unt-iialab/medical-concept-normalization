{
  "nbformat": 4,
  "nbformat_minor": 0,
  "metadata": {
    "accelerator": "TPU",
    "colab": {
      "name": "pubmed_ask_01.ipynb",
      "provenance": [],
      "collapsed_sections": [],
      "include_colab_link": true
    },
    "kernelspec": {
      "display_name": "Python 3",
      "name": "python3"
    }
  },
  "cells": [
    {
      "cell_type": "markdown",
      "metadata": {
        "id": "view-in-github",
        "colab_type": "text"
      },
      "source": [
        "<a href=\"https://colab.research.google.com/github/unt-iialab/medical-concept-normalization/blob/master/medical-concept-normalization/fine-tuning-experiments/askpatient/pubmed_ask_01.ipynb\" target=\"_parent\"><img src=\"https://colab.research.google.com/assets/colab-badge.svg\" alt=\"Open In Colab\"/></a>"
      ]
    },
    {
      "cell_type": "code",
      "metadata": {
        "id": "adSi6i2-dWxy"
      },
      "source": [
        "import os"
      ],
      "execution_count": 1,
      "outputs": []
    },
    {
      "cell_type": "code",
      "metadata": {
        "id": "E7xYCRGPjd9B"
      },
      "source": [
        "base_dir = 'medical-concept-normalization'"
      ],
      "execution_count": 2,
      "outputs": []
    },
    {
      "cell_type": "code",
      "metadata": {
        "id": "yvIW3aUDjYNS"
      },
      "source": [
        "os.mkdir(base_dir)"
      ],
      "execution_count": 3,
      "outputs": []
    },
    {
      "cell_type": "code",
      "metadata": {
        "id": "es-FFLlfk6SG"
      },
      "source": [
        "os.mkdir('medical-concept-normalization/data_collection')"
      ],
      "execution_count": 4,
      "outputs": []
    },
    {
      "cell_type": "markdown",
      "metadata": {
        "id": "0R-Guw_VoJXm"
      },
      "source": [
        "**Install fastai and clone the fastai for text classification**\n",
        "\n"
      ]
    },
    {
      "cell_type": "code",
      "metadata": {
        "id": "QVZa3Z0PmHFH",
        "outputId": "1b015805-47ea-4896-85e2-58d5b5ef0563",
        "colab": {
          "base_uri": "https://localhost:8080/"
        }
      },
      "source": [
        "!curl https://course-v3.fast.ai/setup/colab | bash"
      ],
      "execution_count": 5,
      "outputs": [
        {
          "output_type": "stream",
          "text": [
            "  % Total    % Received % Xferd  Average Speed   Time    Time     Time  Current\n",
            "                                 Dload  Upload   Total   Spent    Left  Speed\n",
            "\r  0     0    0     0    0     0      0      0 --:--:-- --:--:-- --:--:--     0curl: (6) Could not resolve host: course-v3.fast.ai\n"
          ],
          "name": "stdout"
        }
      ]
    },
    {
      "cell_type": "code",
      "metadata": {
        "id": "_FBFFEBrmJC0",
        "outputId": "2695bdb4-1909-4e73-f399-c0bf3bcc12ec",
        "colab": {
          "base_uri": "https://localhost:8080/"
        }
      },
      "source": [
        "!git clone https://github.com/wshuyi/demo-nlp-classification-fastai.git"
      ],
      "execution_count": 6,
      "outputs": [
        {
          "output_type": "stream",
          "text": [
            "Cloning into 'demo-nlp-classification-fastai'...\n",
            "remote: Enumerating objects: 9, done.\u001b[K\n",
            "remote: Total 9 (delta 0), reused 0 (delta 0), pack-reused 9\u001b[K\n",
            "Unpacking objects: 100% (9/9), done.\n"
          ],
          "name": "stdout"
        }
      ]
    },
    {
      "cell_type": "code",
      "metadata": {
        "id": "66zfh_JqmWMU"
      },
      "source": [
        "from fastai import *\n",
        "from fastai.text import *"
      ],
      "execution_count": 7,
      "outputs": []
    },
    {
      "cell_type": "markdown",
      "metadata": {
        "id": "mNIw-yALdBU9"
      },
      "source": [
        "**Set the path of the data collections**"
      ]
    },
    {
      "cell_type": "code",
      "metadata": {
        "id": "pzH7VMh4mqCL"
      },
      "source": [
        "path = Path('medical-concept-normalization/data_collection')"
      ],
      "execution_count": 8,
      "outputs": []
    },
    {
      "cell_type": "code",
      "metadata": {
        "id": "b8fjI6yyn4aS"
      },
      "source": [
        "# training data set\n",
        "\n",
        "train_csv = path/'AskAPatient.fold-1.train.csv'\n",
        "train = pd.read_csv(train_csv, header=None)\n",
        "#train.head()\n",
        "#train.info()"
      ],
      "execution_count": 10,
      "outputs": []
    },
    {
      "cell_type": "code",
      "metadata": {
        "id": "Hmlr-bAorfHd",
        "outputId": "5466b2ee-14e4-42d1-bea5-a3a13fe2a54b",
        "colab": {
          "base_uri": "https://localhost:8080/",
          "height": 204
        }
      },
      "source": [
        "# validating data set\n",
        "\n",
        "valid = pd.read_csv(path/\"AskAPatient.fold-1.validation.csv\",header=None)\n",
        "valid.head()"
      ],
      "execution_count": 11,
      "outputs": [
        {
          "output_type": "execute_result",
          "data": {
            "text/html": [
              "<div>\n",
              "<style scoped>\n",
              "    .dataframe tbody tr th:only-of-type {\n",
              "        vertical-align: middle;\n",
              "    }\n",
              "\n",
              "    .dataframe tbody tr th {\n",
              "        vertical-align: top;\n",
              "    }\n",
              "\n",
              "    .dataframe thead th {\n",
              "        text-align: right;\n",
              "    }\n",
              "</style>\n",
              "<table border=\"1\" class=\"dataframe\">\n",
              "  <thead>\n",
              "    <tr style=\"text-align: right;\">\n",
              "      <th></th>\n",
              "      <th>0</th>\n",
              "      <th>1</th>\n",
              "    </tr>\n",
              "  </thead>\n",
              "  <tbody>\n",
              "    <tr>\n",
              "      <th>0</th>\n",
              "      <td>0</td>\n",
              "      <td>fear</td>\n",
              "    </tr>\n",
              "    <tr>\n",
              "      <th>1</th>\n",
              "      <td>2</td>\n",
              "      <td>heels hurt</td>\n",
              "    </tr>\n",
              "    <tr>\n",
              "      <th>2</th>\n",
              "      <td>4</td>\n",
              "      <td>Discoloration of skin [blotchy] on the neck</td>\n",
              "    </tr>\n",
              "    <tr>\n",
              "      <th>3</th>\n",
              "      <td>6</td>\n",
              "      <td>diastolic dysfunction</td>\n",
              "    </tr>\n",
              "    <tr>\n",
              "      <th>4</th>\n",
              "      <td>8</td>\n",
              "      <td>arthritis</td>\n",
              "    </tr>\n",
              "  </tbody>\n",
              "</table>\n",
              "</div>"
            ],
            "text/plain": [
              "   0                                            1\n",
              "0  0                                         fear\n",
              "1  2                                   heels hurt\n",
              "2  4  Discoloration of skin [blotchy] on the neck\n",
              "3  6                        diastolic dysfunction\n",
              "4  8                                    arthritis"
            ]
          },
          "metadata": {
            "tags": []
          },
          "execution_count": 11
        }
      ]
    },
    {
      "cell_type": "code",
      "metadata": {
        "id": "cOza9dfSsBud",
        "outputId": "b95e6ac8-02ed-4a92-a09d-67c63db189b6",
        "colab": {
          "base_uri": "https://localhost:8080/",
          "height": 204
        }
      },
      "source": [
        "# testing data set\n",
        "\n",
        "test = pd.read_csv(path/\"AskAPatient.fold-1.test.csv\",header=None)\n",
        "test.head()"
      ],
      "execution_count": 12,
      "outputs": [
        {
          "output_type": "execute_result",
          "data": {
            "text/html": [
              "<div>\n",
              "<style scoped>\n",
              "    .dataframe tbody tr th:only-of-type {\n",
              "        vertical-align: middle;\n",
              "    }\n",
              "\n",
              "    .dataframe tbody tr th {\n",
              "        vertical-align: top;\n",
              "    }\n",
              "\n",
              "    .dataframe thead th {\n",
              "        text-align: right;\n",
              "    }\n",
              "</style>\n",
              "<table border=\"1\" class=\"dataframe\">\n",
              "  <thead>\n",
              "    <tr style=\"text-align: right;\">\n",
              "      <th></th>\n",
              "      <th>0</th>\n",
              "      <th>1</th>\n",
              "    </tr>\n",
              "  </thead>\n",
              "  <tbody>\n",
              "    <tr>\n",
              "      <th>0</th>\n",
              "      <td>2</td>\n",
              "      <td>heel pain</td>\n",
              "    </tr>\n",
              "    <tr>\n",
              "      <th>1</th>\n",
              "      <td>2</td>\n",
              "      <td>right heel became painful</td>\n",
              "    </tr>\n",
              "    <tr>\n",
              "      <th>2</th>\n",
              "      <td>8</td>\n",
              "      <td>Arthritis</td>\n",
              "    </tr>\n",
              "    <tr>\n",
              "      <th>3</th>\n",
              "      <td>8</td>\n",
              "      <td>arthristis</td>\n",
              "    </tr>\n",
              "    <tr>\n",
              "      <th>4</th>\n",
              "      <td>8</td>\n",
              "      <td>arthritis</td>\n",
              "    </tr>\n",
              "  </tbody>\n",
              "</table>\n",
              "</div>"
            ],
            "text/plain": [
              "   0                          1\n",
              "0  2                  heel pain\n",
              "1  2  right heel became painful\n",
              "2  8                  Arthritis\n",
              "3  8                 arthristis\n",
              "4  8                  arthritis"
            ]
          },
          "metadata": {
            "tags": []
          },
          "execution_count": 12
        }
      ]
    },
    {
      "cell_type": "code",
      "metadata": {
        "id": "Vo-YNvVYoaH6",
        "outputId": "a1de58f3-11b3-4c27-cf6a-37b65ba36cf3",
        "colab": {
          "base_uri": "https://localhost:8080/",
          "height": 17
        }
      },
      "source": [
        "# Creating DataBunch for language modelling\n",
        "\n",
        "data_lm = TextLMDataBunch.from_csv(path, 'pubmed_ask.csv')"
      ],
      "execution_count": 13,
      "outputs": [
        {
          "output_type": "display_data",
          "data": {
            "text/html": [
              ""
            ],
            "text/plain": [
              "<IPython.core.display.HTML object>"
            ]
          },
          "metadata": {
            "tags": []
          }
        },
        {
          "output_type": "display_data",
          "data": {
            "text/html": [
              ""
            ],
            "text/plain": [
              "<IPython.core.display.HTML object>"
            ]
          },
          "metadata": {
            "tags": []
          }
        }
      ]
    },
    {
      "cell_type": "code",
      "metadata": {
        "id": "qcV-9kMnNLBf"
      },
      "source": [
        ""
      ],
      "execution_count": 13,
      "outputs": []
    },
    {
      "cell_type": "code",
      "metadata": {
        "id": "1ScY9afDsnvE"
      },
      "source": [
        "# Creating DataBunch for classification\n",
        "\n",
        "# data_clas = TextClasDataBunch.from_df(path, train, valid, test, vocab=data_lm.train_ds.vocab, bs=128)"
      ],
      "execution_count": 14,
      "outputs": []
    },
    {
      "cell_type": "code",
      "metadata": {
        "id": "gzrSdQcvey9p",
        "outputId": "649b08bf-abf0-4d42-b206-e00c7784ff02",
        "colab": {
          "base_uri": "https://localhost:8080/",
          "height": 17
        }
      },
      "source": [
        "data_clas = TextClasDataBunch.from_df(path, train, valid, vocab=data_lm.train_ds.vocab, bs=128)"
      ],
      "execution_count": 15,
      "outputs": [
        {
          "output_type": "display_data",
          "data": {
            "text/html": [
              ""
            ],
            "text/plain": [
              "<IPython.core.display.HTML object>"
            ]
          },
          "metadata": {
            "tags": []
          }
        },
        {
          "output_type": "display_data",
          "data": {
            "text/html": [
              ""
            ],
            "text/plain": [
              "<IPython.core.display.HTML object>"
            ]
          },
          "metadata": {
            "tags": []
          }
        }
      ]
    },
    {
      "cell_type": "code",
      "metadata": {
        "id": "MD27Tf0Ke3ou",
        "outputId": "6d39f38c-eaa1-4e63-c1ea-446ff9a679d8",
        "colab": {
          "base_uri": "https://localhost:8080/",
          "height": 17
        }
      },
      "source": [
        "data_clas.add_test(test,label=0)\n"
      ],
      "execution_count": 16,
      "outputs": [
        {
          "output_type": "display_data",
          "data": {
            "text/html": [
              ""
            ],
            "text/plain": [
              "<IPython.core.display.HTML object>"
            ]
          },
          "metadata": {
            "tags": []
          }
        }
      ]
    },
    {
      "cell_type": "code",
      "metadata": {
        "id": "-dpjnk_rstwk"
      },
      "source": [
        "data_lm.save()\n",
        "data_clas.save()"
      ],
      "execution_count": 17,
      "outputs": []
    },
    {
      "cell_type": "code",
      "metadata": {
        "id": "4OkiJa36sw5s",
        "outputId": "d3da985e-11ad-4273-d505-0d98ea9d3185",
        "colab": {
          "base_uri": "https://localhost:8080/"
        }
      },
      "source": [
        "data_lm.train_ds.vocab.itos"
      ],
      "execution_count": 18,
      "outputs": [
        {
          "output_type": "execute_result",
          "data": {
            "text/plain": [
              "['xxunk',\n",
              " 'xxpad',\n",
              " 'xxbos',\n",
              " 'xxeos',\n",
              " 'xxfld',\n",
              " 'xxmaj',\n",
              " 'xxup',\n",
              " 'xxrep',\n",
              " 'xxwrep',\n",
              " 'pain',\n",
              " 'of',\n",
              " 'the',\n",
              " 'in',\n",
              " 'lipitor',\n",
              " 'and',\n",
              " 'to',\n",
              " 'muscle',\n",
              " 'a',\n",
              " 'was',\n",
              " 'diclofenac',\n",
              " 'with',\n",
              " 'were',\n",
              " 'severe',\n",
              " 'for',\n",
              " 'myalgia',\n",
              " 'lower',\n",
              " 'my',\n",
              " 'fatigue',\n",
              " 'loss',\n",
              " 'sodium',\n",
              " 'limb',\n",
              " 'cramp',\n",
              " 'weakness',\n",
              " 'on',\n",
              " 'by',\n",
              " 'stomach',\n",
              " 'depression',\n",
              " '-',\n",
              " 'back',\n",
              " 'is',\n",
              " 'at',\n",
              " 'cramps',\n",
              " 'patients',\n",
              " 'that',\n",
              " 'joint',\n",
              " 'as',\n",
              " 'gas',\n",
              " 'upper',\n",
              " 'or',\n",
              " 'memory',\n",
              " 'drug',\n",
              " 'leg',\n",
              " 'mg',\n",
              " 'legs',\n",
              " 'pains',\n",
              " 'knee',\n",
              " 'from',\n",
              " 'headache',\n",
              " 'group',\n",
              " 'unable',\n",
              " 'shoulder',\n",
              " 'not',\n",
              " 'arthralgia',\n",
              " 'study',\n",
              " 'gastrointestinal',\n",
              " 'foot',\n",
              " 'neck',\n",
              " 'all',\n",
              " 'arthritis',\n",
              " 'excessive',\n",
              " 'treatment',\n",
              " 'this',\n",
              " 'aches',\n",
              " 'after',\n",
              " 'hip',\n",
              " 'voltaren',\n",
              " 'disease',\n",
              " 'p',\n",
              " 'numbness',\n",
              " 'insomnia',\n",
              " 'arthrotec',\n",
              " 'release',\n",
              " 'nausea',\n",
              " 'increased',\n",
              " 'both',\n",
              " '/',\n",
              " 'bleeding',\n",
              " 'an',\n",
              " 'swelling',\n",
              " 'be',\n",
              " 'asthenia',\n",
              " 'walk',\n",
              " 'abdominal',\n",
              " 'like',\n",
              " 'skin',\n",
              " 'dizziness',\n",
              " 'tired',\n",
              " 'heart',\n",
              " 'feeling',\n",
              " 'high',\n",
              " 'no',\n",
              " 'than',\n",
              " 'walking',\n",
              " 'feet',\n",
              " 'blood',\n",
              " 'time',\n",
              " 'hand',\n",
              " 'problems',\n",
              " 'difficulty',\n",
              " 'are',\n",
              " 'muscles',\n",
              " 'effect',\n",
              " 'chest',\n",
              " 'cholesterol',\n",
              " 'compared',\n",
              " 'stiffness',\n",
              " 'backache',\n",
              " 'hair',\n",
              " 'acid',\n",
              " 'extreme',\n",
              " 'vision',\n",
              " 'low',\n",
              " 'inflammatory',\n",
              " 'zocor',\n",
              " 'could',\n",
              " 'burning',\n",
              " 'ache',\n",
              " 'liver',\n",
              " 'groups',\n",
              " 'using',\n",
              " 'very',\n",
              " 'pins',\n",
              " 'needles',\n",
              " 'effects',\n",
              " 'weight',\n",
              " 'i',\n",
              " 'diarrhoea',\n",
              " 'cramping',\n",
              " 'two',\n",
              " 'sleep',\n",
              " 'between',\n",
              " 'significantly',\n",
              " 'amnesia',\n",
              " 'concentration',\n",
              " 'significant',\n",
              " 'h',\n",
              " 'drugs',\n",
              " 'calf',\n",
              " 'left',\n",
              " 'short',\n",
              " 'term',\n",
              " 'potassium',\n",
              " 'anti',\n",
              " 'tingling',\n",
              " 'symptom',\n",
              " 'used',\n",
              " 'c',\n",
              " 'impairment',\n",
              " 'up',\n",
              " 'can',\n",
              " 'disability',\n",
              " 'anxiety',\n",
              " 'stiff',\n",
              " 'lack',\n",
              " 'placebo',\n",
              " 'pressure',\n",
              " 'which',\n",
              " 'constipation',\n",
              " 'dose',\n",
              " 'bloating',\n",
              " 'these',\n",
              " 'efficacy',\n",
              " 'day',\n",
              " 'arm',\n",
              " 'poor',\n",
              " 'had',\n",
              " 'it',\n",
              " 'results',\n",
              " 'reduced',\n",
              " 'has',\n",
              " 'hands',\n",
              " 'one',\n",
              " 'disorder',\n",
              " 'more',\n",
              " 'headaches',\n",
              " 'arms',\n",
              " 'ds',\n",
              " 'sore',\n",
              " 'neuropathy',\n",
              " 'also',\n",
              " 'ml',\n",
              " 'body',\n",
              " 'have',\n",
              " 'blurred',\n",
              " 'we',\n",
              " 'over',\n",
              " 'visual',\n",
              " 'days',\n",
              " 'acute',\n",
              " 'showed',\n",
              " 'ankle',\n",
              " 'balance',\n",
              " 'treated',\n",
              " 'serum',\n",
              " 'topical',\n",
              " 'tiredness',\n",
              " 'joints',\n",
              " 'administration',\n",
              " 'oral',\n",
              " 'renal',\n",
              " 'sensation',\n",
              " 'different',\n",
              " 'pravachol',\n",
              " 'been',\n",
              " 'rats',\n",
              " 'myocardial',\n",
              " 'studies',\n",
              " 'infarction',\n",
              " 'vaginal',\n",
              " 'but',\n",
              " 'control',\n",
              " 'respectively',\n",
              " 'mentally',\n",
              " 'during',\n",
              " 'into',\n",
              " 'swollen',\n",
              " 'rash',\n",
              " 'myositis',\n",
              " 'hurt',\n",
              " 'vertigo',\n",
              " 'atrophy',\n",
              " 'rate',\n",
              " 'painful',\n",
              " 'energy',\n",
              " ')',\n",
              " 'diabetes',\n",
              " 'generalised',\n",
              " 'constant',\n",
              " 'itching',\n",
              " \"'s\",\n",
              " 'non',\n",
              " ',',\n",
              " 'decreased',\n",
              " 'clinical',\n",
              " 'out',\n",
              " 'atorvastatin',\n",
              " 'method',\n",
              " 'plasma',\n",
              " 'ubidecarenone',\n",
              " 'attack',\n",
              " 'levels',\n",
              " 'formulation',\n",
              " 'upset',\n",
              " 'nsaids',\n",
              " 's',\n",
              " 'formulations',\n",
              " 'when',\n",
              " 'found',\n",
              " 'diarrhea',\n",
              " 'raised',\n",
              " 'syndrome',\n",
              " 'gain',\n",
              " 'induced',\n",
              " '(',\n",
              " 'gel',\n",
              " 'right',\n",
              " 'dry',\n",
              " 'dull',\n",
              " 'mean',\n",
              " 'tablets',\n",
              " 'damage',\n",
              " 'their',\n",
              " 'there',\n",
              " 'observed',\n",
              " \"n't\",\n",
              " 'illness',\n",
              " 'well',\n",
              " 'present',\n",
              " 'other',\n",
              " 'shoulders',\n",
              " 'n',\n",
              " 'may',\n",
              " 'use',\n",
              " 'hazy',\n",
              " 'elevated',\n",
              " 'ph',\n",
              " 'type',\n",
              " 'urine',\n",
              " 'period',\n",
              " 'g',\n",
              " 'solution',\n",
              " 'spasm',\n",
              " 'three',\n",
              " 'eye',\n",
              " 'effective',\n",
              " 'influenza',\n",
              " 'tendonitis',\n",
              " 'movement',\n",
              " 'symptoms',\n",
              " 'crestor',\n",
              " 'hours',\n",
              " 'kidney',\n",
              " 'chronic',\n",
              " 'kg',\n",
              " 'discomfort',\n",
              " 'weak',\n",
              " 'elbow',\n",
              " 'tablet',\n",
              " 'ibuprofen',\n",
              " 'controlled',\n",
              " 'received',\n",
              " 'adverse',\n",
              " 'abnormal',\n",
              " 'mood',\n",
              " 'm',\n",
              " 'its',\n",
              " 'toe',\n",
              " 'analgesic',\n",
              " 'flatulence',\n",
              " 'vitro',\n",
              " 'analysis',\n",
              " 'sleeping',\n",
              " 'each',\n",
              " 'knees',\n",
              " 'reflux',\n",
              " 'spasms',\n",
              " 'exhaustion',\n",
              " 'level',\n",
              " 'side',\n",
              " 'activity',\n",
              " 'total',\n",
              " 'migraine',\n",
              " 'first',\n",
              " 'bad',\n",
              " 'less',\n",
              " 'l',\n",
              " 'data',\n",
              " 'however',\n",
              " 'daily',\n",
              " 'increase',\n",
              " 'libido',\n",
              " 'd',\n",
              " 'heavy',\n",
              " 'single',\n",
              " 'concentrations',\n",
              " 'concentrate',\n",
              " 'irritable',\n",
              " 'myopathy',\n",
              " 'injury',\n",
              " 'vomiting',\n",
              " 'randomized',\n",
              " 'inflammation',\n",
              " 'feel',\n",
              " 'sclerosis',\n",
              " 'system',\n",
              " 'function',\n",
              " 'osteoarthritis',\n",
              " 'bed',\n",
              " 'fibromyalgia',\n",
              " 'patient',\n",
              " 'thigh',\n",
              " 'evaluated',\n",
              " 'throat',\n",
              " 'b',\n",
              " 'mild',\n",
              " 'similar',\n",
              " 'get',\n",
              " 'obtained',\n",
              " 'model',\n",
              " 'eyes',\n",
              " 'problem',\n",
              " 'surgery',\n",
              " 'only',\n",
              " 'water',\n",
              " 'flu',\n",
              " 'higher',\n",
              " 'test',\n",
              " 'multiple',\n",
              " 'due',\n",
              " 'mellitus',\n",
              " 'nsaid',\n",
              " 'malaise',\n",
              " 'simvastatin',\n",
              " 'double',\n",
              " 'week',\n",
              " 'difference',\n",
              " 'following',\n",
              " 'disturbance',\n",
              " 'lightheadedness',\n",
              " 'therapy',\n",
              " 'cells',\n",
              " 'so',\n",
              " 'postoperative',\n",
              " 'wind',\n",
              " 'weeks',\n",
              " 'cold',\n",
              " 'appetite',\n",
              " 'head',\n",
              " 'peripheral',\n",
              " 'changes',\n",
              " 'menstrual',\n",
              " 'did',\n",
              " 't',\n",
              " 'min',\n",
              " 'hips',\n",
              " 'cell',\n",
              " 'based',\n",
              " 'brain',\n",
              " 'most',\n",
              " 'failure',\n",
              " 'swings',\n",
              " 'dissolution',\n",
              " 'oil',\n",
              " 'combination',\n",
              " 'aching',\n",
              " 'application',\n",
              " 'before',\n",
              " 'ezetimibe',\n",
              " 'under',\n",
              " 'soreness',\n",
              " 'paraesthesia',\n",
              " 'blind',\n",
              " 'confusion',\n",
              " 'associated',\n",
              " 'tremor',\n",
              " 'prepared',\n",
              " 'while',\n",
              " 'sweating',\n",
              " 'administered',\n",
              " 'trial',\n",
              " 'tinnitus',\n",
              " 'those',\n",
              " 'impaired',\n",
              " 'esters',\n",
              " 'values',\n",
              " 'studied',\n",
              " 'general',\n",
              " 'off',\n",
              " 'stairs',\n",
              " 'stress',\n",
              " 'times',\n",
              " 'calves',\n",
              " 'area',\n",
              " 'doses',\n",
              " 'four',\n",
              " 'conditions',\n",
              " 'rheumatoid',\n",
              " 'gastric',\n",
              " 'response',\n",
              " 'relief',\n",
              " 'performed',\n",
              " 'finger',\n",
              " 'x',\n",
              " 'indigestion',\n",
              " 'reported',\n",
              " 'celebrex',\n",
              " 'coated',\n",
              " 'vs',\n",
              " 'ascorbic',\n",
              " 'nonsteroidal',\n",
              " 'ankles',\n",
              " 'motivation',\n",
              " 'events',\n",
              " 'phase',\n",
              " 'order',\n",
              " 'swallowing',\n",
              " 'years',\n",
              " 'v',\n",
              " 'change',\n",
              " 'toes',\n",
              " 'infection',\n",
              " 'paracetamol',\n",
              " 'developed',\n",
              " 'who',\n",
              " 'differences',\n",
              " 'face',\n",
              " 'parkinson',\n",
              " 'rapid',\n",
              " 'absorption',\n",
              " 'charleyhorse',\n",
              " 'ca',\n",
              " 'investigated',\n",
              " 'strength',\n",
              " 'ratio',\n",
              " 'enzymes',\n",
              " 'reduction',\n",
              " 'e',\n",
              " 'either',\n",
              " 'containing',\n",
              " 'lateral',\n",
              " 'dyspnoea',\n",
              " 'properties',\n",
              " 'safety',\n",
              " 'given',\n",
              " 'assessed',\n",
              " 'palpitations',\n",
              " 'restless',\n",
              " 'post',\n",
              " 'excruciating',\n",
              " 'within',\n",
              " 'parameters',\n",
              " 'urinary',\n",
              " 'new',\n",
              " 'heel',\n",
              " 'night',\n",
              " 'nerve',\n",
              " 'they',\n",
              " 'hot',\n",
              " 'dark',\n",
              " 'speech',\n",
              " 'measured',\n",
              " 'subjects',\n",
              " 'delivery',\n",
              " 'number',\n",
              " 'injection',\n",
              " 'w',\n",
              " 'oa',\n",
              " 'range',\n",
              " 'intense',\n",
              " 'vitamin',\n",
              " 'without',\n",
              " 'lupus',\n",
              " 'active',\n",
              " 'tendon',\n",
              " 'ng',\n",
              " 'cough',\n",
              " 'applied',\n",
              " 'ulcer',\n",
              " 'potential',\n",
              " 'statistically',\n",
              " 'such',\n",
              " 'auc',\n",
              " 'samples',\n",
              " 'decrease',\n",
              " 'steroidal',\n",
              " 'compare',\n",
              " 'felt',\n",
              " 'ii',\n",
              " 'twitch',\n",
              " 'related',\n",
              " 'form',\n",
              " 'scale',\n",
              " 'through',\n",
              " 'drowsy',\n",
              " 'included',\n",
              " 'medication',\n",
              " 'taste',\n",
              " 'healthy',\n",
              " 'menopause',\n",
              " 'indomethacin',\n",
              " 'tightness',\n",
              " 'evaluate',\n",
              " 'size',\n",
              " 'liquid',\n",
              " 'ability',\n",
              " 'minutes',\n",
              " 'limbs',\n",
              " 'k',\n",
              " 'vivo',\n",
              " 'therapeutic',\n",
              " 'depressed',\n",
              " 'gout',\n",
              " 'bioavailability',\n",
              " 'fingers',\n",
              " 'scores',\n",
              " 'clearly',\n",
              " 'human',\n",
              " 'terrible',\n",
              " 'tissue',\n",
              " 'primary',\n",
              " 'creatinine',\n",
              " 'reaction',\n",
              " 'down',\n",
              " 'dreams',\n",
              " 'development',\n",
              " 'fish',\n",
              " 'aqueous',\n",
              " 'baseline',\n",
              " 'sinus',\n",
              " 'colic',\n",
              " 'aspirin',\n",
              " 'wrist',\n",
              " 'edema',\n",
              " 'any',\n",
              " 'overall',\n",
              " 'moderate',\n",
              " 'trouble',\n",
              " 'heartburn',\n",
              " 'bone',\n",
              " 'breathing',\n",
              " 'addition',\n",
              " 'determined',\n",
              " 'co',\n",
              " 'major',\n",
              " 'mm',\n",
              " 'polymer',\n",
              " 'matrix',\n",
              " 'normal',\n",
              " 'fever',\n",
              " 'better',\n",
              " 'sustained',\n",
              " 'some',\n",
              " 'bowel',\n",
              " 'good',\n",
              " 'hypertension',\n",
              " 'move',\n",
              " 'amyotrophic',\n",
              " 'our',\n",
              " 'misoprostol',\n",
              " 'advil',\n",
              " 'provoked',\n",
              " 'light',\n",
              " 'aim',\n",
              " 'cancer',\n",
              " 'process',\n",
              " 'demonstrated',\n",
              " 'tolerability',\n",
              " 'nasal',\n",
              " 'products',\n",
              " 'thighs',\n",
              " 'greater',\n",
              " 'fog',\n",
              " 'uterine',\n",
              " 'mouth',\n",
              " 'dependent',\n",
              " 'action',\n",
              " 'think',\n",
              " 'tylenol',\n",
              " 'various',\n",
              " 'being',\n",
              " 'initial',\n",
              " 'finding',\n",
              " 'fenofibrate',\n",
              " 'every',\n",
              " 'mobility',\n",
              " 'formation',\n",
              " 'cox',\n",
              " 'mice',\n",
              " 'coq10',\n",
              " 'attacks',\n",
              " 'horses',\n",
              " 'facial',\n",
              " 'inhibition',\n",
              " 'suggest',\n",
              " 'revealed',\n",
              " 'trials',\n",
              " 'na',\n",
              " 'breath',\n",
              " 'intensity',\n",
              " 'always',\n",
              " 'per',\n",
              " 'dosage',\n",
              " 'agent',\n",
              " '+',\n",
              " 'tract',\n",
              " 'shown',\n",
              " 'mechanism',\n",
              " 'volunteers',\n",
              " 'onset',\n",
              " 'treatments',\n",
              " 'alone',\n",
              " 'twitching',\n",
              " 'inhibitor',\n",
              " 'sharp',\n",
              " 'score',\n",
              " 'animals',\n",
              " 'improvement',\n",
              " 'elbows',\n",
              " 'cerebrovascular',\n",
              " 'moody',\n",
              " 'permeation',\n",
              " 'surface',\n",
              " 'exercise',\n",
              " 'o',\n",
              " 'complex',\n",
              " 'then',\n",
              " 'followed',\n",
              " 'case',\n",
              " 'risk',\n",
              " 'about',\n",
              " 'numb',\n",
              " 'further',\n",
              " 'presence',\n",
              " 'extremity',\n",
              " 'indicated',\n",
              " 'protein',\n",
              " 'although',\n",
              " 'alpha',\n",
              " 'peak',\n",
              " 'cm',\n",
              " 'end',\n",
              " 'male',\n",
              " 'tolerance',\n",
              " 'relative',\n",
              " 'charley',\n",
              " 'six',\n",
              " 'corneal',\n",
              " 'standard',\n",
              " 'months',\n",
              " 'generally',\n",
              " 'plantar',\n",
              " 'accident',\n",
              " 'oedema',\n",
              " 'experimental',\n",
              " 'randomly',\n",
              " 'sugar',\n",
              " 'physical',\n",
              " 'tricor',\n",
              " 'loose',\n",
              " 'divided',\n",
              " 'lethargy',\n",
              " 'long',\n",
              " 'pulse',\n",
              " 'local',\n",
              " 'hardly',\n",
              " 'malignant',\n",
              " 'me',\n",
              " 'fluid',\n",
              " 'tight',\n",
              " 'same',\n",
              " 'should',\n",
              " 'barely',\n",
              " 'exposure',\n",
              " 'versus',\n",
              " 'agents',\n",
              " 'aleve',\n",
              " 'fast',\n",
              " 'vehicle',\n",
              " 'whereas',\n",
              " 'evaluation',\n",
              " 'hour',\n",
              " 'vas',\n",
              " 'thoughts',\n",
              " 'free',\n",
              " 'rat',\n",
              " 'cases',\n",
              " 'liptor',\n",
              " 'caused',\n",
              " 'including',\n",
              " 'panic',\n",
              " 'profile',\n",
              " 'ms',\n",
              " 'natural',\n",
              " 'achieved',\n",
              " 'pharmaceutical',\n",
              " 'duration',\n",
              " 'profiles',\n",
              " 'irregular',\n",
              " 'pharmacokinetic',\n",
              " 'combined',\n",
              " 'content',\n",
              " 'available',\n",
              " 'slurred',\n",
              " 'improved',\n",
              " 'assessment',\n",
              " 'congestion',\n",
              " 'fatigued',\n",
              " 'nervous',\n",
              " 'complete',\n",
              " 'analgesia',\n",
              " 'conducted',\n",
              " 'lost',\n",
              " 'extremely',\n",
              " 'global',\n",
              " 'shortness',\n",
              " 'coronary',\n",
              " '3',\n",
              " 'produced',\n",
              " 'product',\n",
              " 'beads',\n",
              " 'morning',\n",
              " 'microspheres',\n",
              " 'rhabdomyolysis',\n",
              " 'even',\n",
              " 'ethyl',\n",
              " 'rofecoxib',\n",
              " 'ringing',\n",
              " 'als',\n",
              " 'carried',\n",
              " 'among',\n",
              " 'pre',\n",
              " 'secondary',\n",
              " 'increasing',\n",
              " 'getting',\n",
              " 'frequent',\n",
              " 'enteric',\n",
              " 'periods',\n",
              " 'dizzy',\n",
              " 'zetia',\n",
              " 'resulted',\n",
              " 'hepatic',\n",
              " 'comparison',\n",
              " 'quality',\n",
              " 'determine',\n",
              " 'temperature',\n",
              " 'th',\n",
              " 'cmax',\n",
              " 'sweats',\n",
              " 'gi',\n",
              " 'once',\n",
              " 'drive',\n",
              " 'evidence',\n",
              " 'strain',\n",
              " 'efficiency',\n",
              " 'ear',\n",
              " 'growth',\n",
              " 'hunger',\n",
              " 'systemic',\n",
              " 'tolerated',\n",
              " 'f',\n",
              " 'mental',\n",
              " 'codeine',\n",
              " 'plus',\n",
              " 'according',\n",
              " 'production',\n",
              " 'central',\n",
              " 'amount',\n",
              " 'tested',\n",
              " 'ldl',\n",
              " 'fasciitis',\n",
              " 'reference',\n",
              " 'lesions',\n",
              " 'sensitivity',\n",
              " 'hypersomnia',\n",
              " 'participants',\n",
              " 'started',\n",
              " 'flushing',\n",
              " 'patch',\n",
              " 'common',\n",
              " 'determination',\n",
              " 'forgetful',\n",
              " 'erythema',\n",
              " 'achilles',\n",
              " 'five',\n",
              " 'capsules',\n",
              " 'sex',\n",
              " 'calcium',\n",
              " 'sick',\n",
              " 'bp',\n",
              " 'microg',\n",
              " 'film',\n",
              " 'old',\n",
              " 'density',\n",
              " 'saline',\n",
              " 'diabetic',\n",
              " 'respiratory',\n",
              " 'commercial',\n",
              " 'because',\n",
              " 'review',\n",
              " 'maximum',\n",
              " 'third',\n",
              " 'stamina',\n",
              " 'recorded',\n",
              " 'spasmodic',\n",
              " 'preparation',\n",
              " 'buffer',\n",
              " 'stool',\n",
              " 'cardiovascular',\n",
              " 'erythematosus',\n",
              " 'age',\n",
              " 'expression',\n",
              " 'pruritus',\n",
              " 'design',\n",
              " 'thus',\n",
              " 'venous',\n",
              " 'neurontin',\n",
              " 'year',\n",
              " 'pellets',\n",
              " 'methods',\n",
              " 'cd',\n",
              " 'several',\n",
              " 'around',\n",
              " 'stroke',\n",
              " 'investigate',\n",
              " 'norvasc',\n",
              " 'sensations',\n",
              " 'cataract',\n",
              " 'phosphate',\n",
              " 'sensitive',\n",
              " 'degrees',\n",
              " 'least',\n",
              " 'intramuscular',\n",
              " 'superior',\n",
              " 'prednisone',\n",
              " 'examined',\n",
              " 'interaction',\n",
              " 'deep',\n",
              " 'morphine',\n",
              " 'technique',\n",
              " ':',\n",
              " 'volume',\n",
              " 'rectal',\n",
              " 'characterized',\n",
              " 'random',\n",
              " 'index',\n",
              " 'diffusion',\n",
              " 'eczema',\n",
              " 'food',\n",
              " 'state',\n",
              " 'models',\n",
              " 'tension',\n",
              " 'cpk',\n",
              " 'solid',\n",
              " 'retention',\n",
              " 'cross',\n",
              " 'detection',\n",
              " 'membrane',\n",
              " 'vascular',\n",
              " 'lopid',\n",
              " 'synthesis',\n",
              " 'naproxen',\n",
              " 'hard',\n",
              " 'month',\n",
              " 'across',\n",
              " 'dysfunction',\n",
              " 'region',\n",
              " 'menorrhagia',\n",
              " 'bursitis',\n",
              " 'aptyalism',\n",
              " 'comparable',\n",
              " 'hplc',\n",
              " 'arthritic',\n",
              " 'extent',\n",
              " 'flow',\n",
              " 'self',\n",
              " 'scalp',\n",
              " 'ocular',\n",
              " 'lipid',\n",
              " 'antiinflammatory',\n",
              " 'inability',\n",
              " 'inhibited',\n",
              " 'medium',\n",
              " 'asthma',\n",
              " 'palsy',\n",
              " 'ci',\n",
              " 'therefore',\n",
              " 'receiving',\n",
              " 'dic',\n",
              " 'rates',\n",
              " 'inhibitors',\n",
              " 'condition',\n",
              " 'show',\n",
              " 'de',\n",
              " 'intestinal',\n",
              " 'specific',\n",
              " 'possible',\n",
              " 'slight',\n",
              " 'site',\n",
              " 'itchy',\n",
              " 'early',\n",
              " 'performance',\n",
              " 'horrible',\n",
              " 'considered',\n",
              " 'affected',\n",
              " 'novel',\n",
              " 'large',\n",
              " 'just',\n",
              " 'second',\n",
              " 'influence',\n",
              " 'omega-3-acid',\n",
              " 'esters-90',\n",
              " 'transient',\n",
              " 'mass',\n",
              " 'looks',\n",
              " 'beta',\n",
              " 'foggy',\n",
              " 'slow',\n",
              " 'against',\n",
              " 'rabbits',\n",
              " 'much',\n",
              " 'nm',\n",
              " 'cambia',\n",
              " 'climb',\n",
              " 'drops',\n",
              " 'whether',\n",
              " 'prostaglandin',\n",
              " 'muscular',\n",
              " 'outcome',\n",
              " 'characteristics',\n",
              " 'lipoprotein',\n",
              " 'little',\n",
              " 'medications',\n",
              " 'value',\n",
              " 'cataflam',\n",
              " 'abdomen',\n",
              " 'hurts',\n",
              " 'became',\n",
              " 'difficult',\n",
              " 'small',\n",
              " 'additional',\n",
              " 'tachycardia',\n",
              " 'bell',\n",
              " 'ketorolac',\n",
              " 'taking',\n",
              " 'if',\n",
              " 'indicate',\n",
              " '2',\n",
              " 'findings',\n",
              " 'lipex',\n",
              " 'diet',\n",
              " ...]"
            ]
          },
          "metadata": {
            "tags": []
          },
          "execution_count": 18
        }
      ]
    },
    {
      "cell_type": "code",
      "metadata": {
        "id": "yPWr03mls3VT",
        "outputId": "f9b9b67e-17e6-4fa8-9d76-13397e05e30b",
        "colab": {
          "base_uri": "https://localhost:8080/",
          "height": 17
        }
      },
      "source": [
        "model_path = path/'models'\n",
        "model_path.mkdir(exist_ok=True)\n",
        "url = 'http://files.fast.ai/models/wt103_v1/'\n",
        "download_url(f'{url}lstm_wt103.pth', model_path/'lstm_wt103.pth')\n",
        "download_url(f'{url}itos_wt103.pkl', model_path/'itos_wt103.pkl')"
      ],
      "execution_count": 19,
      "outputs": [
        {
          "output_type": "display_data",
          "data": {
            "text/html": [
              ""
            ],
            "text/plain": [
              "<IPython.core.display.HTML object>"
            ]
          },
          "metadata": {
            "tags": []
          }
        },
        {
          "output_type": "display_data",
          "data": {
            "text/html": [
              ""
            ],
            "text/plain": [
              "<IPython.core.display.HTML object>"
            ]
          },
          "metadata": {
            "tags": []
          }
        }
      ]
    },
    {
      "cell_type": "code",
      "metadata": {
        "id": "JRzvWg8RtGGr",
        "outputId": "9a3cd457-6912-4554-eca9-54f69ef2050d",
        "colab": {
          "base_uri": "https://localhost:8080/",
          "height": 34
        }
      },
      "source": [
        "learn = language_model_learner(data_lm, AWD_LSTM, drop_mult=0.5)"
      ],
      "execution_count": 20,
      "outputs": [
        {
          "output_type": "stream",
          "text": [
            "Downloading https://s3.amazonaws.com/fast-ai-modelzoo/wt103-fwd.tgz\n"
          ],
          "name": "stdout"
        },
        {
          "output_type": "display_data",
          "data": {
            "text/html": [
              ""
            ],
            "text/plain": [
              "<IPython.core.display.HTML object>"
            ]
          },
          "metadata": {
            "tags": []
          }
        }
      ]
    },
    {
      "cell_type": "code",
      "metadata": {
        "id": "xKK7GeBev7Xn",
        "outputId": "3107416c-b0ce-46e6-dc77-a7388e0aeab1",
        "colab": {
          "base_uri": "https://localhost:8080/",
          "height": 80
        }
      },
      "source": [
        "learn.fit_one_cycle(1, 1e-2)"
      ],
      "execution_count": 21,
      "outputs": [
        {
          "output_type": "display_data",
          "data": {
            "text/html": [
              "<table border=\"1\" class=\"dataframe\">\n",
              "  <thead>\n",
              "    <tr style=\"text-align: left;\">\n",
              "      <th>epoch</th>\n",
              "      <th>train_loss</th>\n",
              "      <th>valid_loss</th>\n",
              "      <th>accuracy</th>\n",
              "      <th>time</th>\n",
              "    </tr>\n",
              "  </thead>\n",
              "  <tbody>\n",
              "    <tr>\n",
              "      <td>0</td>\n",
              "      <td>3.792674</td>\n",
              "      <td>3.363943</td>\n",
              "      <td>0.460527</td>\n",
              "      <td>28:39</td>\n",
              "    </tr>\n",
              "  </tbody>\n",
              "</table>"
            ],
            "text/plain": [
              "<IPython.core.display.HTML object>"
            ]
          },
          "metadata": {
            "tags": []
          }
        }
      ]
    },
    {
      "cell_type": "code",
      "metadata": {
        "id": "iB7rHGQCwd12"
      },
      "source": [
        "# learn.fit_one_cycle(1, 1e-2)"
      ],
      "execution_count": 22,
      "outputs": []
    },
    {
      "cell_type": "code",
      "metadata": {
        "id": "_BnSuAeCwkBe"
      },
      "source": [
        "# learn.fit_one_cycle(1, 1e-3)"
      ],
      "execution_count": 23,
      "outputs": []
    },
    {
      "cell_type": "code",
      "metadata": {
        "id": "MuTm-RFjwrEX",
        "outputId": "adcd6434-4872-441c-c997-0632f61b0a96",
        "colab": {
          "base_uri": "https://localhost:8080/",
          "height": 80
        }
      },
      "source": [
        "learn.fit_one_cycle(1, 1e-3)"
      ],
      "execution_count": 24,
      "outputs": [
        {
          "output_type": "display_data",
          "data": {
            "text/html": [
              "<table border=\"1\" class=\"dataframe\">\n",
              "  <thead>\n",
              "    <tr style=\"text-align: left;\">\n",
              "      <th>epoch</th>\n",
              "      <th>train_loss</th>\n",
              "      <th>valid_loss</th>\n",
              "      <th>accuracy</th>\n",
              "      <th>time</th>\n",
              "    </tr>\n",
              "  </thead>\n",
              "  <tbody>\n",
              "    <tr>\n",
              "      <td>0</td>\n",
              "      <td>3.419755</td>\n",
              "      <td>3.305378</td>\n",
              "      <td>0.465796</td>\n",
              "      <td>28:31</td>\n",
              "    </tr>\n",
              "  </tbody>\n",
              "</table>"
            ],
            "text/plain": [
              "<IPython.core.display.HTML object>"
            ]
          },
          "metadata": {
            "tags": []
          }
        }
      ]
    },
    {
      "cell_type": "code",
      "metadata": {
        "id": "1Er2ExO8wr7Y"
      },
      "source": [
        "learn.save_encoder('pubmed_ask_fold1_first')"
      ],
      "execution_count": 25,
      "outputs": []
    },
    {
      "cell_type": "code",
      "metadata": {
        "id": "z52cZs2qwvad",
        "outputId": "71e342ec-f8ab-4a79-beff-3a8047457fa5",
        "colab": {
          "base_uri": "https://localhost:8080/",
          "height": 80
        }
      },
      "source": [
        "learn = text_classifier_learner(data_clas,AWD_LSTM, drop_mult=0.5)\n",
        "learn.load_encoder('pubmed_ask_fold1_first')\n",
        "learn.fit_one_cycle(1, 1e-2)"
      ],
      "execution_count": 26,
      "outputs": [
        {
          "output_type": "display_data",
          "data": {
            "text/html": [
              "<table border=\"1\" class=\"dataframe\">\n",
              "  <thead>\n",
              "    <tr style=\"text-align: left;\">\n",
              "      <th>epoch</th>\n",
              "      <th>train_loss</th>\n",
              "      <th>valid_loss</th>\n",
              "      <th>accuracy</th>\n",
              "      <th>time</th>\n",
              "    </tr>\n",
              "  </thead>\n",
              "  <tbody>\n",
              "    <tr>\n",
              "      <td>0</td>\n",
              "      <td>3.988538</td>\n",
              "      <td>4.085874</td>\n",
              "      <td>0.296610</td>\n",
              "      <td>01:11</td>\n",
              "    </tr>\n",
              "  </tbody>\n",
              "</table>"
            ],
            "text/plain": [
              "<IPython.core.display.HTML object>"
            ]
          },
          "metadata": {
            "tags": []
          }
        }
      ]
    },
    {
      "cell_type": "code",
      "metadata": {
        "id": "ImwQP1PJwzxd",
        "outputId": "f4fb676c-f180-4a3a-ac7b-9cf77f6e6543",
        "colab": {
          "base_uri": "https://localhost:8080/",
          "height": 80
        }
      },
      "source": [
        "learn.freeze_to(-2)\n",
        "learn.fit_one_cycle(1, slice(5e-3/2., 5e-3))"
      ],
      "execution_count": 27,
      "outputs": [
        {
          "output_type": "display_data",
          "data": {
            "text/html": [
              "<table border=\"1\" class=\"dataframe\">\n",
              "  <thead>\n",
              "    <tr style=\"text-align: left;\">\n",
              "      <th>epoch</th>\n",
              "      <th>train_loss</th>\n",
              "      <th>valid_loss</th>\n",
              "      <th>accuracy</th>\n",
              "      <th>time</th>\n",
              "    </tr>\n",
              "  </thead>\n",
              "  <tbody>\n",
              "    <tr>\n",
              "      <td>0</td>\n",
              "      <td>2.918314</td>\n",
              "      <td>3.331257</td>\n",
              "      <td>0.406780</td>\n",
              "      <td>01:18</td>\n",
              "    </tr>\n",
              "  </tbody>\n",
              "</table>"
            ],
            "text/plain": [
              "<IPython.core.display.HTML object>"
            ]
          },
          "metadata": {
            "tags": []
          }
        }
      ]
    },
    {
      "cell_type": "code",
      "metadata": {
        "id": "Owff_BJXw53u",
        "outputId": "3b9b224c-36f3-448a-de5c-5a0326549984",
        "colab": {
          "base_uri": "https://localhost:8080/",
          "height": 80
        }
      },
      "source": [
        "learn.unfreeze()\n",
        "learn.fit_one_cycle(1, slice(2e-3/100, 2e-3))"
      ],
      "execution_count": 28,
      "outputs": [
        {
          "output_type": "display_data",
          "data": {
            "text/html": [
              "<table border=\"1\" class=\"dataframe\">\n",
              "  <thead>\n",
              "    <tr style=\"text-align: left;\">\n",
              "      <th>epoch</th>\n",
              "      <th>train_loss</th>\n",
              "      <th>valid_loss</th>\n",
              "      <th>accuracy</th>\n",
              "      <th>time</th>\n",
              "    </tr>\n",
              "  </thead>\n",
              "  <tbody>\n",
              "    <tr>\n",
              "      <td>0</td>\n",
              "      <td>2.313232</td>\n",
              "      <td>2.882601</td>\n",
              "      <td>0.491525</td>\n",
              "      <td>03:12</td>\n",
              "    </tr>\n",
              "  </tbody>\n",
              "</table>"
            ],
            "text/plain": [
              "<IPython.core.display.HTML object>"
            ]
          },
          "metadata": {
            "tags": []
          }
        }
      ]
    },
    {
      "cell_type": "code",
      "metadata": {
        "id": "lqAyu56V8Waq",
        "outputId": "67732321-db17-4df1-bf42-26fe2c048cc9",
        "colab": {
          "base_uri": "https://localhost:8080/",
          "height": 111
        }
      },
      "source": [
        "learn.fit_one_cycle(2, slice(2e-3/100, 2e-3))"
      ],
      "execution_count": 29,
      "outputs": [
        {
          "output_type": "display_data",
          "data": {
            "text/html": [
              "<table border=\"1\" class=\"dataframe\">\n",
              "  <thead>\n",
              "    <tr style=\"text-align: left;\">\n",
              "      <th>epoch</th>\n",
              "      <th>train_loss</th>\n",
              "      <th>valid_loss</th>\n",
              "      <th>accuracy</th>\n",
              "      <th>time</th>\n",
              "    </tr>\n",
              "  </thead>\n",
              "  <tbody>\n",
              "    <tr>\n",
              "      <td>0</td>\n",
              "      <td>2.109271</td>\n",
              "      <td>2.441298</td>\n",
              "      <td>0.582324</td>\n",
              "      <td>03:23</td>\n",
              "    </tr>\n",
              "    <tr>\n",
              "      <td>1</td>\n",
              "      <td>1.694445</td>\n",
              "      <td>2.293300</td>\n",
              "      <td>0.587167</td>\n",
              "      <td>03:28</td>\n",
              "    </tr>\n",
              "  </tbody>\n",
              "</table>"
            ],
            "text/plain": [
              "<IPython.core.display.HTML object>"
            ]
          },
          "metadata": {
            "tags": []
          }
        }
      ]
    },
    {
      "cell_type": "code",
      "metadata": {
        "id": "a7I1xMRp8bUd",
        "outputId": "c437e76d-48b9-4f89-aeec-8977f07384b4",
        "colab": {
          "base_uri": "https://localhost:8080/",
          "height": 111
        }
      },
      "source": [
        "learn.fit_one_cycle(2, slice(2e-3/100, 2e-3))"
      ],
      "execution_count": 30,
      "outputs": [
        {
          "output_type": "display_data",
          "data": {
            "text/html": [
              "<table border=\"1\" class=\"dataframe\">\n",
              "  <thead>\n",
              "    <tr style=\"text-align: left;\">\n",
              "      <th>epoch</th>\n",
              "      <th>train_loss</th>\n",
              "      <th>valid_loss</th>\n",
              "      <th>accuracy</th>\n",
              "      <th>time</th>\n",
              "    </tr>\n",
              "  </thead>\n",
              "  <tbody>\n",
              "    <tr>\n",
              "      <td>0</td>\n",
              "      <td>1.547839</td>\n",
              "      <td>2.087015</td>\n",
              "      <td>0.629540</td>\n",
              "      <td>03:11</td>\n",
              "    </tr>\n",
              "    <tr>\n",
              "      <td>1</td>\n",
              "      <td>1.336053</td>\n",
              "      <td>1.974126</td>\n",
              "      <td>0.644068</td>\n",
              "      <td>03:28</td>\n",
              "    </tr>\n",
              "  </tbody>\n",
              "</table>"
            ],
            "text/plain": [
              "<IPython.core.display.HTML object>"
            ]
          },
          "metadata": {
            "tags": []
          }
        }
      ]
    },
    {
      "cell_type": "code",
      "metadata": {
        "id": "UAnti-XmGVfO",
        "outputId": "fbed7c3e-d2f2-4418-dace-ee823b7cd19c",
        "colab": {
          "base_uri": "https://localhost:8080/",
          "height": 111
        }
      },
      "source": [
        "learn.fit_one_cycle(2, slice(2e-3/100, 2e-3))"
      ],
      "execution_count": 31,
      "outputs": [
        {
          "output_type": "display_data",
          "data": {
            "text/html": [
              "<table border=\"1\" class=\"dataframe\">\n",
              "  <thead>\n",
              "    <tr style=\"text-align: left;\">\n",
              "      <th>epoch</th>\n",
              "      <th>train_loss</th>\n",
              "      <th>valid_loss</th>\n",
              "      <th>accuracy</th>\n",
              "      <th>time</th>\n",
              "    </tr>\n",
              "  </thead>\n",
              "  <tbody>\n",
              "    <tr>\n",
              "      <td>0</td>\n",
              "      <td>1.253805</td>\n",
              "      <td>1.852033</td>\n",
              "      <td>0.658596</td>\n",
              "      <td>03:18</td>\n",
              "    </tr>\n",
              "    <tr>\n",
              "      <td>1</td>\n",
              "      <td>1.034443</td>\n",
              "      <td>1.783723</td>\n",
              "      <td>0.676755</td>\n",
              "      <td>03:07</td>\n",
              "    </tr>\n",
              "  </tbody>\n",
              "</table>"
            ],
            "text/plain": [
              "<IPython.core.display.HTML object>"
            ]
          },
          "metadata": {
            "tags": []
          }
        }
      ]
    },
    {
      "cell_type": "code",
      "metadata": {
        "id": "bIft7W25GwSu",
        "outputId": "8f8aa442-0d80-4def-8adc-808c710504ce",
        "colab": {
          "base_uri": "https://localhost:8080/",
          "height": 111
        }
      },
      "source": [
        "learn.fit_one_cycle(2, slice(2e-3/100, 2e-3))"
      ],
      "execution_count": 32,
      "outputs": [
        {
          "output_type": "display_data",
          "data": {
            "text/html": [
              "<table border=\"1\" class=\"dataframe\">\n",
              "  <thead>\n",
              "    <tr style=\"text-align: left;\">\n",
              "      <th>epoch</th>\n",
              "      <th>train_loss</th>\n",
              "      <th>valid_loss</th>\n",
              "      <th>accuracy</th>\n",
              "      <th>time</th>\n",
              "    </tr>\n",
              "  </thead>\n",
              "  <tbody>\n",
              "    <tr>\n",
              "      <td>0</td>\n",
              "      <td>1.042234</td>\n",
              "      <td>1.664504</td>\n",
              "      <td>0.687651</td>\n",
              "      <td>03:17</td>\n",
              "    </tr>\n",
              "    <tr>\n",
              "      <td>1</td>\n",
              "      <td>0.883389</td>\n",
              "      <td>1.594533</td>\n",
              "      <td>0.709443</td>\n",
              "      <td>03:20</td>\n",
              "    </tr>\n",
              "  </tbody>\n",
              "</table>"
            ],
            "text/plain": [
              "<IPython.core.display.HTML object>"
            ]
          },
          "metadata": {
            "tags": []
          }
        }
      ]
    },
    {
      "cell_type": "code",
      "metadata": {
        "id": "EEHszVRvGyFt",
        "outputId": "72b4da4f-a8ce-44c8-fef6-330eae1f133d",
        "colab": {
          "base_uri": "https://localhost:8080/",
          "height": 111
        }
      },
      "source": [
        "learn.fit_one_cycle(2, slice(2e-3/100, 2e-3))"
      ],
      "execution_count": 33,
      "outputs": [
        {
          "output_type": "display_data",
          "data": {
            "text/html": [
              "<table border=\"1\" class=\"dataframe\">\n",
              "  <thead>\n",
              "    <tr style=\"text-align: left;\">\n",
              "      <th>epoch</th>\n",
              "      <th>train_loss</th>\n",
              "      <th>valid_loss</th>\n",
              "      <th>accuracy</th>\n",
              "      <th>time</th>\n",
              "    </tr>\n",
              "  </thead>\n",
              "  <tbody>\n",
              "    <tr>\n",
              "      <td>0</td>\n",
              "      <td>0.872841</td>\n",
              "      <td>1.543494</td>\n",
              "      <td>0.713075</td>\n",
              "      <td>03:20</td>\n",
              "    </tr>\n",
              "    <tr>\n",
              "      <td>1</td>\n",
              "      <td>0.733417</td>\n",
              "      <td>1.491633</td>\n",
              "      <td>0.720339</td>\n",
              "      <td>03:21</td>\n",
              "    </tr>\n",
              "  </tbody>\n",
              "</table>"
            ],
            "text/plain": [
              "<IPython.core.display.HTML object>"
            ]
          },
          "metadata": {
            "tags": []
          }
        }
      ]
    },
    {
      "cell_type": "code",
      "metadata": {
        "id": "XsHfrhCHG3dN",
        "outputId": "d78d6e9c-5a21-4f9e-aa08-f17fd6b7592a",
        "colab": {
          "base_uri": "https://localhost:8080/",
          "height": 173
        }
      },
      "source": [
        "learn.fit_one_cycle(4, slice(2e-3/100, 2e-3))"
      ],
      "execution_count": 34,
      "outputs": [
        {
          "output_type": "display_data",
          "data": {
            "text/html": [
              "<table border=\"1\" class=\"dataframe\">\n",
              "  <thead>\n",
              "    <tr style=\"text-align: left;\">\n",
              "      <th>epoch</th>\n",
              "      <th>train_loss</th>\n",
              "      <th>valid_loss</th>\n",
              "      <th>accuracy</th>\n",
              "      <th>time</th>\n",
              "    </tr>\n",
              "  </thead>\n",
              "  <tbody>\n",
              "    <tr>\n",
              "      <td>0</td>\n",
              "      <td>0.653298</td>\n",
              "      <td>1.514907</td>\n",
              "      <td>0.717918</td>\n",
              "      <td>03:11</td>\n",
              "    </tr>\n",
              "    <tr>\n",
              "      <td>1</td>\n",
              "      <td>0.644361</td>\n",
              "      <td>1.457106</td>\n",
              "      <td>0.746973</td>\n",
              "      <td>03:25</td>\n",
              "    </tr>\n",
              "    <tr>\n",
              "      <td>2</td>\n",
              "      <td>0.575989</td>\n",
              "      <td>1.401924</td>\n",
              "      <td>0.757869</td>\n",
              "      <td>03:26</td>\n",
              "    </tr>\n",
              "    <tr>\n",
              "      <td>3</td>\n",
              "      <td>0.500190</td>\n",
              "      <td>1.362006</td>\n",
              "      <td>0.754237</td>\n",
              "      <td>03:10</td>\n",
              "    </tr>\n",
              "  </tbody>\n",
              "</table>"
            ],
            "text/plain": [
              "<IPython.core.display.HTML object>"
            ]
          },
          "metadata": {
            "tags": []
          }
        }
      ]
    },
    {
      "cell_type": "code",
      "metadata": {
        "id": "0Zsd99isb9EQ",
        "outputId": "289d7f53-0bcd-4f46-d2cd-2881f96205d1",
        "colab": {
          "base_uri": "https://localhost:8080/",
          "height": 173
        }
      },
      "source": [
        "learn.fit_one_cycle(4, slice(2e-3/100, 2e-3))"
      ],
      "execution_count": 35,
      "outputs": [
        {
          "output_type": "display_data",
          "data": {
            "text/html": [
              "<table border=\"1\" class=\"dataframe\">\n",
              "  <thead>\n",
              "    <tr style=\"text-align: left;\">\n",
              "      <th>epoch</th>\n",
              "      <th>train_loss</th>\n",
              "      <th>valid_loss</th>\n",
              "      <th>accuracy</th>\n",
              "      <th>time</th>\n",
              "    </tr>\n",
              "  </thead>\n",
              "  <tbody>\n",
              "    <tr>\n",
              "      <td>0</td>\n",
              "      <td>0.511425</td>\n",
              "      <td>1.412743</td>\n",
              "      <td>0.743341</td>\n",
              "      <td>03:28</td>\n",
              "    </tr>\n",
              "    <tr>\n",
              "      <td>1</td>\n",
              "      <td>0.538767</td>\n",
              "      <td>1.355369</td>\n",
              "      <td>0.757869</td>\n",
              "      <td>03:18</td>\n",
              "    </tr>\n",
              "    <tr>\n",
              "      <td>2</td>\n",
              "      <td>0.442469</td>\n",
              "      <td>1.353999</td>\n",
              "      <td>0.767554</td>\n",
              "      <td>03:31</td>\n",
              "    </tr>\n",
              "    <tr>\n",
              "      <td>3</td>\n",
              "      <td>0.365727</td>\n",
              "      <td>1.348150</td>\n",
              "      <td>0.767554</td>\n",
              "      <td>03:26</td>\n",
              "    </tr>\n",
              "  </tbody>\n",
              "</table>"
            ],
            "text/plain": [
              "<IPython.core.display.HTML object>"
            ]
          },
          "metadata": {
            "tags": []
          }
        }
      ]
    },
    {
      "cell_type": "code",
      "metadata": {
        "id": "atNWNKDFPbuI",
        "outputId": "ec13232b-e76c-41c9-9715-1fb3fff2bafa",
        "colab": {
          "base_uri": "https://localhost:8080/",
          "height": 173
        }
      },
      "source": [
        "learn.fit_one_cycle(4, slice(2e-3/100, 2e-3))"
      ],
      "execution_count": 36,
      "outputs": [
        {
          "output_type": "display_data",
          "data": {
            "text/html": [
              "<table border=\"1\" class=\"dataframe\">\n",
              "  <thead>\n",
              "    <tr style=\"text-align: left;\">\n",
              "      <th>epoch</th>\n",
              "      <th>train_loss</th>\n",
              "      <th>valid_loss</th>\n",
              "      <th>accuracy</th>\n",
              "      <th>time</th>\n",
              "    </tr>\n",
              "  </thead>\n",
              "  <tbody>\n",
              "    <tr>\n",
              "      <td>0</td>\n",
              "      <td>0.369913</td>\n",
              "      <td>1.469133</td>\n",
              "      <td>0.761501</td>\n",
              "      <td>03:20</td>\n",
              "    </tr>\n",
              "    <tr>\n",
              "      <td>1</td>\n",
              "      <td>0.431654</td>\n",
              "      <td>1.305091</td>\n",
              "      <td>0.772397</td>\n",
              "      <td>03:19</td>\n",
              "    </tr>\n",
              "    <tr>\n",
              "      <td>2</td>\n",
              "      <td>0.363883</td>\n",
              "      <td>1.273125</td>\n",
              "      <td>0.773608</td>\n",
              "      <td>03:18</td>\n",
              "    </tr>\n",
              "    <tr>\n",
              "      <td>3</td>\n",
              "      <td>0.283950</td>\n",
              "      <td>1.273995</td>\n",
              "      <td>0.780872</td>\n",
              "      <td>03:31</td>\n",
              "    </tr>\n",
              "  </tbody>\n",
              "</table>"
            ],
            "text/plain": [
              "<IPython.core.display.HTML object>"
            ]
          },
          "metadata": {
            "tags": []
          }
        }
      ]
    },
    {
      "cell_type": "code",
      "metadata": {
        "id": "rKrBTZ0T1uVA",
        "outputId": "af16a414-2669-4011-b751-0cda98290109",
        "colab": {
          "base_uri": "https://localhost:8080/",
          "height": 173
        }
      },
      "source": [
        "learn.fit_one_cycle(4, slice(2e-3/100, 2e-3))"
      ],
      "execution_count": 37,
      "outputs": [
        {
          "output_type": "display_data",
          "data": {
            "text/html": [
              "<table border=\"1\" class=\"dataframe\">\n",
              "  <thead>\n",
              "    <tr style=\"text-align: left;\">\n",
              "      <th>epoch</th>\n",
              "      <th>train_loss</th>\n",
              "      <th>valid_loss</th>\n",
              "      <th>accuracy</th>\n",
              "      <th>time</th>\n",
              "    </tr>\n",
              "  </thead>\n",
              "  <tbody>\n",
              "    <tr>\n",
              "      <td>0</td>\n",
              "      <td>0.291295</td>\n",
              "      <td>1.269362</td>\n",
              "      <td>0.780872</td>\n",
              "      <td>03:12</td>\n",
              "    </tr>\n",
              "    <tr>\n",
              "      <td>1</td>\n",
              "      <td>0.368972</td>\n",
              "      <td>1.302038</td>\n",
              "      <td>0.782082</td>\n",
              "      <td>03:26</td>\n",
              "    </tr>\n",
              "    <tr>\n",
              "      <td>2</td>\n",
              "      <td>0.311643</td>\n",
              "      <td>1.306606</td>\n",
              "      <td>0.782082</td>\n",
              "      <td>03:13</td>\n",
              "    </tr>\n",
              "    <tr>\n",
              "      <td>3</td>\n",
              "      <td>0.261665</td>\n",
              "      <td>1.271550</td>\n",
              "      <td>0.785714</td>\n",
              "      <td>03:24</td>\n",
              "    </tr>\n",
              "  </tbody>\n",
              "</table>"
            ],
            "text/plain": [
              "<IPython.core.display.HTML object>"
            ]
          },
          "metadata": {
            "tags": []
          }
        }
      ]
    },
    {
      "cell_type": "code",
      "metadata": {
        "id": "ajQC6WDg1yA9",
        "outputId": "60abc711-0614-4da0-bd90-6207aa415bfe",
        "colab": {
          "base_uri": "https://localhost:8080/",
          "height": 173
        }
      },
      "source": [
        "learn.fit_one_cycle(4, slice(2e-3/100, 2e-3))"
      ],
      "execution_count": 38,
      "outputs": [
        {
          "output_type": "display_data",
          "data": {
            "text/html": [
              "<table border=\"1\" class=\"dataframe\">\n",
              "  <thead>\n",
              "    <tr style=\"text-align: left;\">\n",
              "      <th>epoch</th>\n",
              "      <th>train_loss</th>\n",
              "      <th>valid_loss</th>\n",
              "      <th>accuracy</th>\n",
              "      <th>time</th>\n",
              "    </tr>\n",
              "  </thead>\n",
              "  <tbody>\n",
              "    <tr>\n",
              "      <td>0</td>\n",
              "      <td>0.270483</td>\n",
              "      <td>1.301264</td>\n",
              "      <td>0.780872</td>\n",
              "      <td>03:10</td>\n",
              "    </tr>\n",
              "    <tr>\n",
              "      <td>1</td>\n",
              "      <td>0.306187</td>\n",
              "      <td>1.361474</td>\n",
              "      <td>0.784504</td>\n",
              "      <td>03:06</td>\n",
              "    </tr>\n",
              "    <tr>\n",
              "      <td>2</td>\n",
              "      <td>0.254360</td>\n",
              "      <td>1.312364</td>\n",
              "      <td>0.796610</td>\n",
              "      <td>03:24</td>\n",
              "    </tr>\n",
              "    <tr>\n",
              "      <td>3</td>\n",
              "      <td>0.227568</td>\n",
              "      <td>1.302461</td>\n",
              "      <td>0.795399</td>\n",
              "      <td>03:13</td>\n",
              "    </tr>\n",
              "  </tbody>\n",
              "</table>"
            ],
            "text/plain": [
              "<IPython.core.display.HTML object>"
            ]
          },
          "metadata": {
            "tags": []
          }
        }
      ]
    },
    {
      "cell_type": "code",
      "metadata": {
        "id": "KKydb0B4BKGk",
        "outputId": "ce9f21ba-e374-4441-bffc-39037b0ddf01",
        "colab": {
          "base_uri": "https://localhost:8080/",
          "height": 173
        }
      },
      "source": [
        "learn.fit_one_cycle(4, slice(2e-3/100, 2e-3))"
      ],
      "execution_count": 39,
      "outputs": [
        {
          "output_type": "display_data",
          "data": {
            "text/html": [
              "<table border=\"1\" class=\"dataframe\">\n",
              "  <thead>\n",
              "    <tr style=\"text-align: left;\">\n",
              "      <th>epoch</th>\n",
              "      <th>train_loss</th>\n",
              "      <th>valid_loss</th>\n",
              "      <th>accuracy</th>\n",
              "      <th>time</th>\n",
              "    </tr>\n",
              "  </thead>\n",
              "  <tbody>\n",
              "    <tr>\n",
              "      <td>0</td>\n",
              "      <td>0.243514</td>\n",
              "      <td>1.297367</td>\n",
              "      <td>0.790557</td>\n",
              "      <td>03:15</td>\n",
              "    </tr>\n",
              "    <tr>\n",
              "      <td>1</td>\n",
              "      <td>0.278538</td>\n",
              "      <td>1.403838</td>\n",
              "      <td>0.769976</td>\n",
              "      <td>03:28</td>\n",
              "    </tr>\n",
              "    <tr>\n",
              "      <td>2</td>\n",
              "      <td>0.227178</td>\n",
              "      <td>1.381421</td>\n",
              "      <td>0.784504</td>\n",
              "      <td>03:10</td>\n",
              "    </tr>\n",
              "    <tr>\n",
              "      <td>3</td>\n",
              "      <td>0.205737</td>\n",
              "      <td>1.323540</td>\n",
              "      <td>0.792978</td>\n",
              "      <td>03:27</td>\n",
              "    </tr>\n",
              "  </tbody>\n",
              "</table>"
            ],
            "text/plain": [
              "<IPython.core.display.HTML object>"
            ]
          },
          "metadata": {
            "tags": []
          }
        }
      ]
    },
    {
      "cell_type": "code",
      "metadata": {
        "id": "T2APKtFKBpGY",
        "outputId": "679f9cc4-7096-41d6-b55e-6a9b0bc3c1e5",
        "colab": {
          "base_uri": "https://localhost:8080/",
          "height": 173
        }
      },
      "source": [
        "learn.fit_one_cycle(4, slice(2e-3/100, 2e-3))"
      ],
      "execution_count": 40,
      "outputs": [
        {
          "output_type": "display_data",
          "data": {
            "text/html": [
              "<table border=\"1\" class=\"dataframe\">\n",
              "  <thead>\n",
              "    <tr style=\"text-align: left;\">\n",
              "      <th>epoch</th>\n",
              "      <th>train_loss</th>\n",
              "      <th>valid_loss</th>\n",
              "      <th>accuracy</th>\n",
              "      <th>time</th>\n",
              "    </tr>\n",
              "  </thead>\n",
              "  <tbody>\n",
              "    <tr>\n",
              "      <td>0</td>\n",
              "      <td>0.200482</td>\n",
              "      <td>1.339136</td>\n",
              "      <td>0.802663</td>\n",
              "      <td>03:32</td>\n",
              "    </tr>\n",
              "    <tr>\n",
              "      <td>1</td>\n",
              "      <td>0.255295</td>\n",
              "      <td>1.321740</td>\n",
              "      <td>0.802663</td>\n",
              "      <td>03:17</td>\n",
              "    </tr>\n",
              "    <tr>\n",
              "      <td>2</td>\n",
              "      <td>0.221992</td>\n",
              "      <td>1.397917</td>\n",
              "      <td>0.805085</td>\n",
              "      <td>03:27</td>\n",
              "    </tr>\n",
              "    <tr>\n",
              "      <td>3</td>\n",
              "      <td>0.191084</td>\n",
              "      <td>1.399530</td>\n",
              "      <td>0.802663</td>\n",
              "      <td>03:31</td>\n",
              "    </tr>\n",
              "  </tbody>\n",
              "</table>"
            ],
            "text/plain": [
              "<IPython.core.display.HTML object>"
            ]
          },
          "metadata": {
            "tags": []
          }
        }
      ]
    },
    {
      "cell_type": "code",
      "metadata": {
        "id": "qtTypA1sPgLU",
        "outputId": "54988d2f-8ba0-4629-9876-39b7e25aa344",
        "colab": {
          "base_uri": "https://localhost:8080/",
          "height": 111
        }
      },
      "source": [
        "learn.fit_one_cycle(2, slice(2e-3/100, 2e-3))"
      ],
      "execution_count": 41,
      "outputs": [
        {
          "output_type": "display_data",
          "data": {
            "text/html": [
              "<table border=\"1\" class=\"dataframe\">\n",
              "  <thead>\n",
              "    <tr style=\"text-align: left;\">\n",
              "      <th>epoch</th>\n",
              "      <th>train_loss</th>\n",
              "      <th>valid_loss</th>\n",
              "      <th>accuracy</th>\n",
              "      <th>time</th>\n",
              "    </tr>\n",
              "  </thead>\n",
              "  <tbody>\n",
              "    <tr>\n",
              "      <td>0</td>\n",
              "      <td>0.207797</td>\n",
              "      <td>1.435889</td>\n",
              "      <td>0.792978</td>\n",
              "      <td>03:30</td>\n",
              "    </tr>\n",
              "    <tr>\n",
              "      <td>1</td>\n",
              "      <td>0.193162</td>\n",
              "      <td>1.373461</td>\n",
              "      <td>0.803874</td>\n",
              "      <td>03:14</td>\n",
              "    </tr>\n",
              "  </tbody>\n",
              "</table>"
            ],
            "text/plain": [
              "<IPython.core.display.HTML object>"
            ]
          },
          "metadata": {
            "tags": []
          }
        }
      ]
    },
    {
      "cell_type": "code",
      "metadata": {
        "id": "b242kBsTUp9Y",
        "outputId": "42e68bd5-6f0c-4f80-b0d5-eec292b36a0c",
        "colab": {
          "base_uri": "https://localhost:8080/",
          "height": 111
        }
      },
      "source": [
        "learn.fit_one_cycle(2, slice(2e-3/100, 2e-3))"
      ],
      "execution_count": 42,
      "outputs": [
        {
          "output_type": "display_data",
          "data": {
            "text/html": [
              "<table border=\"1\" class=\"dataframe\">\n",
              "  <thead>\n",
              "    <tr style=\"text-align: left;\">\n",
              "      <th>epoch</th>\n",
              "      <th>train_loss</th>\n",
              "      <th>valid_loss</th>\n",
              "      <th>accuracy</th>\n",
              "      <th>time</th>\n",
              "    </tr>\n",
              "  </thead>\n",
              "  <tbody>\n",
              "    <tr>\n",
              "      <td>0</td>\n",
              "      <td>0.204230</td>\n",
              "      <td>1.445872</td>\n",
              "      <td>0.794189</td>\n",
              "      <td>03:15</td>\n",
              "    </tr>\n",
              "    <tr>\n",
              "      <td>1</td>\n",
              "      <td>0.194671</td>\n",
              "      <td>1.415408</td>\n",
              "      <td>0.795399</td>\n",
              "      <td>03:13</td>\n",
              "    </tr>\n",
              "  </tbody>\n",
              "</table>"
            ],
            "text/plain": [
              "<IPython.core.display.HTML object>"
            ]
          },
          "metadata": {
            "tags": []
          }
        }
      ]
    },
    {
      "cell_type": "code",
      "metadata": {
        "id": "Duwf1Ih5VeDZ",
        "outputId": "b9154118-0046-40ff-b034-a1154aeb83f5",
        "colab": {
          "base_uri": "https://localhost:8080/",
          "height": 80
        }
      },
      "source": [
        "learn.fit_one_cycle(1, slice(2e-3/100, 2e-3))"
      ],
      "execution_count": 43,
      "outputs": [
        {
          "output_type": "display_data",
          "data": {
            "text/html": [
              "<table border=\"1\" class=\"dataframe\">\n",
              "  <thead>\n",
              "    <tr style=\"text-align: left;\">\n",
              "      <th>epoch</th>\n",
              "      <th>train_loss</th>\n",
              "      <th>valid_loss</th>\n",
              "      <th>accuracy</th>\n",
              "      <th>time</th>\n",
              "    </tr>\n",
              "  </thead>\n",
              "  <tbody>\n",
              "    <tr>\n",
              "      <td>0</td>\n",
              "      <td>0.209764</td>\n",
              "      <td>1.361379</td>\n",
              "      <td>0.803874</td>\n",
              "      <td>03:32</td>\n",
              "    </tr>\n",
              "  </tbody>\n",
              "</table>"
            ],
            "text/plain": [
              "<IPython.core.display.HTML object>"
            ]
          },
          "metadata": {
            "tags": []
          }
        }
      ]
    },
    {
      "cell_type": "code",
      "metadata": {
        "id": "c65d-osfDUXm"
      },
      "source": [
        "# save the best model\n",
        "\n",
        "learn.save_encoder('pubmed_ask_mixed_fold1')"
      ],
      "execution_count": 44,
      "outputs": []
    },
    {
      "cell_type": "markdown",
      "metadata": {
        "id": "rCwZU0E2RgM6"
      },
      "source": [
        "# Part three: Predict on the test dataset"
      ]
    },
    {
      "cell_type": "code",
      "metadata": {
        "id": "gDm72c-dOu7d",
        "outputId": "1656d6de-c73d-4ca7-b72d-453bcd7036aa",
        "colab": {
          "base_uri": "https://localhost:8080/",
          "height": 17
        }
      },
      "source": [
        "# use the test data for prediction\n",
        "\n",
        "preds, y = learn.get_preds(DatasetType.Test)"
      ],
      "execution_count": 45,
      "outputs": [
        {
          "output_type": "display_data",
          "data": {
            "text/html": [
              ""
            ],
            "text/plain": [
              "<IPython.core.display.HTML object>"
            ]
          },
          "metadata": {
            "tags": []
          }
        }
      ]
    },
    {
      "cell_type": "code",
      "metadata": {
        "id": "6tFSQcsWPvxn",
        "outputId": "58ea58bf-5402-49e1-ed10-202f31bbc343",
        "colab": {
          "base_uri": "https://localhost:8080/",
          "height": 105
        }
      },
      "source": [
        "predictions, *_ = learn.get_preds(DatasetType.Test)\n",
        "labels = np.argmax(predictions, 1)\n",
        "predict_list = labels.tolist()\n",
        "standard_list = test[0].tolist()\n",
        "\n",
        "print(len(predict_list))\n",
        "print(len(standard_list))\n",
        "\n",
        "print(predict_list)\n",
        "print(standard_list)"
      ],
      "execution_count": 46,
      "outputs": [
        {
          "output_type": "display_data",
          "data": {
            "text/html": [
              ""
            ],
            "text/plain": [
              "<IPython.core.display.HTML object>"
            ]
          },
          "metadata": {
            "tags": []
          }
        },
        {
          "output_type": "stream",
          "text": [
            "867\n",
            "867\n",
            "[2, 2, 8, 1026, 8, 8, 1026, 16, 20, 21, 693, 246, 27, 31, 36, 37, 37, 37, 37, 37, 37, 37, 37, 37, 37, 37, 42, 42, 44, 813, 49, 49, 49, 49, 49, 49, 49, 49, 53, 53, 53, 226, 60, 61, 62, 626, 70, 776, 71, 122, 79, 79, 79, 79, 79, 79, 79, 79, 79, 79, 79, 79, 79, 79, 79, 79, 79, 79, 79, 79, 79, 79, 79, 79, 79, 79, 79, 79, 108, 108, 108, 108, 108, 108, 79, 111, 135, 80, 17, 80, 80, 80, 80, 491, 109, 88, 89, 240, 92, 92, 92, 94, 94, 94, 94, 94, 830, 94, 94, 94, 94, 96, 847, 908, 234, 100, 31, 100, 100, 766, 100, 100, 572, 301, 100, 100, 58, 103, 964, 105, 107, 107, 108, 108, 111, 111, 462, 111, 111, 111, 111, 111, 111, 111, 114, 117, 395, 125, 125, 125, 125, 125, 125, 125, 125, 125, 125, 125, 125, 125, 125, 802, 37, 624, 847, 693, 135, 693, 139, 139, 57, 142, 576, 864, 146, 158, 166, 343, 166, 169, 171, 172, 172, 172, 172, 172, 173, 173, 173, 106, 180, 182, 182, 794, 182, 182, 182, 182, 182, 182, 182, 182, 183, 183, 183, 183, 183, 183, 183, 184, 187, 187, 187, 187, 189, 189, 190, 190, 190, 193, 193, 197, 60, 200, 202, 205, 205, 205, 30, 214, 214, 214, 214, 214, 214, 214, 214, 218, 220, 220, 223, 223, 226, 227, 228, 228, 228, 228, 228, 228, 228, 228, 228, 228, 228, 228, 228, 234, 236, 236, 239, 239, 241, 243, 243, 243, 243, 245, 245, 245, 245, 245, 246, 246, 246, 246, 2, 969, 254, 289, 262, 208, 265, 265, 265, 265, 265, 265, 265, 265, 265, 265, 265, 265, 265, 265, 265, 265, 265, 265, 265, 265, 265, 265, 89, 133, 8, 276, 969, 277, 444, 280, 462, 462, 281, 281, 289, 289, 289, 289, 289, 289, 741, 108, 281, 289, 289, 289, 289, 289, 289, 289, 289, 289, 289, 289, 304, 293, 801, 1025, 298, 589, 626, 304, 309, 309, 309, 309, 762, 782, 318, 318, 318, 49, 325, 325, 325, 325, 325, 325, 325, 325, 325, 325, 325, 325, 325, 325, 325, 213, 615, 325, 326, 328, 133, 332, 332, 332, 430, 337, 343, 343, 352, 236, 762, 814, 359, 359, 359, 359, 359, 473, 293, 363, 293, 364, 364, 364, 367, 374, 847, 376, 426, 386, 386, 391, 391, 391, 585, 396, 396, 397, 868, 402, 402, 806, 749, 406, 408, 408, 408, 408, 408, 410, 801, 801, 418, 419, 652, 652, 652, 652, 652, 616, 419, 652, 421, 424, 426, 426, 426, 427, 427, 427, 427, 427, 427, 427, 427, 318, 427, 892, 427, 558, 576, 432, 435, 435, 438, 258, 441, 443, 444, 334, 444, 847, 455, 969, 455, 455, 693, 455, 455, 455, 455, 455, 455, 455, 455, 693, 456, 460, 469, 470, 470, 235, 474, 475, 475, 475, 479, 644, 486, 489, 491, 491, 29, 491, 491, 681, 492, 495, 495, 495, 496, 497, 499, 507, 507, 41, 516, 517, 517, 517, 517, 484, 37, 318, 524, 530, 530, 530, 530, 530, 27, 536, 427, 246, 540, 541, 235, 545, 545, 545, 1020, 548, 548, 548, 549, 581, 569, 572, 577, 438, 590, 590, 693, 592, 592, 592, 707, 427, 683, 610, 565, 610, 610, 610, 475, 614, 614, 614, 614, 614, 614, 614, 528, 623, 214, 625, 794, 274, 644, 794, 644, 646, 646, 652, 652, 652, 652, 109, 491, 660, 662, 662, 662, 662, 378, 664, 666, 205, 29, 682, 182, 182, 151, 700, 701, 293, 704, 763, 711, 711, 711, 23, 850, 714, 714, 715, 717, 565, 735, 129, 741, 745, 541, 746, 257, 746, 752, 753, 213, 769, 771, 772, 772, 775, 775, 775, 572, 775, 775, 775, 775, 783, 627, 582, 627, 799, 753, 332, 808, 809, 360, 810, 786, 988, 826, 969, 826, 28, 830, 830, 830, 693, 830, 834, 528, 840, 348, 847, 805, 847, 988, 853, 387, 367, 363, 861, 683, 289, 873, 874, 647, 769, 877, 877, 877, 443, 443, 878, 519, 889, 366, 366, 688, 896, 896, 896, 293, 896, 896, 173, 904, 904, 910, 919, 919, 983, 133, 927, 937, 983, 973, 1005, 936, 936, 937, 937, 937, 937, 937, 937, 937, 937, 937, 937, 133, 948, 948, 949, 949, 949, 949, 949, 949, 949, 949, 949, 949, 949, 949, 949, 949, 949, 949, 949, 949, 949, 949, 949, 949, 949, 949, 949, 949, 949, 949, 949, 949, 949, 949, 949, 949, 949, 949, 949, 949, 949, 949, 949, 949, 949, 949, 949, 949, 949, 949, 949, 949, 949, 949, 949, 949, 949, 949, 949, 949, 949, 949, 949, 949, 949, 949, 949, 949, 949, 949, 949, 949, 949, 949, 949, 949, 949, 949, 949, 949, 949, 949, 949, 949, 949, 949, 949, 949, 974, 949, 1001, 949, 949, 949, 949, 949, 949, 949, 949, 949, 949, 949, 949, 949, 949, 949, 949, 949, 949, 949, 949, 949, 949, 949, 949, 949, 949, 950, 950, 950, 950, 952, 952, 955, 7, 68, 958, 961, 963, 964, 967, 968, 974, 974, 976, 976, 976, 969, 969, 983, 983, 984, 108, 68, 1008, 981, 1026, 1028]\n",
            "[2, 2, 8, 8, 8, 8, 8, 16, 20, 21, 22, 25, 27, 31, 36, 37, 37, 37, 37, 37, 37, 37, 37, 37, 37, 37, 42, 42, 44, 45, 49, 49, 49, 49, 49, 49, 49, 49, 53, 53, 53, 59, 60, 61, 62, 65, 70, 71, 71, 77, 79, 79, 79, 79, 79, 79, 79, 79, 79, 79, 79, 79, 79, 79, 79, 79, 79, 79, 79, 79, 79, 79, 79, 79, 79, 79, 79, 79, 79, 79, 79, 79, 79, 79, 79, 79, 79, 80, 80, 80, 80, 80, 80, 81, 83, 88, 89, 90, 92, 92, 92, 94, 94, 94, 94, 94, 94, 94, 94, 94, 94, 96, 96, 97, 98, 100, 100, 100, 100, 100, 100, 100, 100, 100, 100, 100, 100, 103, 103, 105, 107, 107, 108, 108, 111, 111, 111, 111, 111, 111, 111, 111, 111, 111, 114, 117, 120, 125, 125, 125, 125, 125, 125, 125, 125, 125, 125, 125, 125, 125, 125, 127, 130, 130, 134, 135, 135, 135, 139, 139, 141, 142, 145, 146, 146, 158, 166, 166, 166, 169, 171, 172, 172, 172, 172, 172, 173, 173, 173, 180, 180, 182, 182, 182, 182, 182, 182, 182, 182, 182, 182, 182, 183, 183, 183, 183, 183, 183, 183, 184, 187, 187, 187, 187, 189, 189, 190, 190, 190, 193, 193, 197, 197, 200, 202, 205, 205, 205, 209, 214, 214, 214, 214, 214, 214, 214, 214, 218, 220, 220, 223, 223, 226, 227, 228, 228, 228, 228, 228, 228, 228, 228, 228, 228, 228, 228, 228, 234, 236, 236, 239, 239, 241, 243, 243, 243, 243, 245, 245, 245, 245, 245, 246, 246, 246, 246, 247, 251, 254, 260, 262, 264, 265, 265, 265, 265, 265, 265, 265, 265, 265, 265, 265, 265, 265, 265, 265, 265, 265, 265, 265, 265, 265, 265, 268, 269, 269, 276, 277, 277, 279, 280, 281, 281, 281, 281, 289, 289, 289, 289, 289, 289, 289, 289, 289, 289, 289, 289, 289, 289, 289, 289, 289, 289, 289, 289, 290, 293, 294, 298, 298, 299, 302, 304, 309, 309, 309, 309, 315, 317, 318, 318, 318, 324, 325, 325, 325, 325, 325, 325, 325, 325, 325, 325, 325, 325, 325, 325, 325, 325, 325, 325, 326, 328, 330, 332, 332, 332, 336, 337, 343, 343, 352, 352, 355, 357, 359, 359, 359, 359, 359, 360, 360, 363, 364, 364, 364, 364, 367, 374, 374, 376, 384, 386, 386, 391, 391, 391, 394, 396, 396, 397, 400, 402, 402, 402, 403, 407, 408, 408, 408, 408, 408, 410, 415, 415, 418, 419, 419, 419, 419, 419, 419, 419, 419, 419, 421, 424, 426, 426, 426, 427, 427, 427, 427, 427, 427, 427, 427, 427, 427, 427, 427, 428, 428, 432, 435, 435, 438, 440, 441, 443, 444, 444, 444, 448, 455, 455, 455, 455, 455, 455, 455, 455, 455, 455, 455, 455, 455, 455, 456, 460, 469, 470, 470, 473, 474, 475, 475, 475, 479, 481, 486, 489, 491, 491, 491, 491, 491, 491, 492, 495, 495, 495, 496, 497, 499, 507, 507, 515, 516, 517, 517, 517, 517, 520, 522, 524, 524, 530, 530, 530, 530, 530, 536, 536, 537, 538, 540, 541, 544, 545, 545, 545, 548, 548, 548, 548, 549, 550, 569, 572, 577, 577, 590, 590, 592, 592, 592, 592, 595, 597, 598, 610, 610, 610, 610, 610, 613, 614, 614, 614, 614, 614, 614, 614, 623, 623, 624, 625, 628, 644, 644, 644, 644, 646, 646, 652, 652, 652, 652, 655, 659, 660, 662, 662, 662, 662, 664, 664, 666, 674, 680, 682, 686, 686, 694, 700, 702, 703, 704, 710, 711, 711, 711, 712, 714, 714, 714, 715, 717, 729, 735, 741, 741, 745, 746, 746, 746, 746, 752, 753, 765, 769, 771, 772, 773, 775, 775, 775, 775, 775, 775, 775, 775, 783, 787, 790, 793, 799, 803, 806, 808, 809, 809, 810, 813, 815, 826, 826, 826, 827, 830, 830, 830, 830, 830, 834, 840, 840, 841, 847, 847, 847, 852, 853, 857, 858, 860, 861, 863, 864, 873, 874, 875, 876, 877, 877, 877, 878, 878, 878, 886, 889, 893, 893, 895, 896, 896, 896, 896, 896, 896, 896, 904, 904, 910, 919, 919, 923, 925, 927, 928, 930, 932, 933, 936, 936, 937, 937, 937, 937, 937, 937, 937, 937, 937, 937, 939, 948, 948, 949, 949, 949, 949, 949, 949, 949, 949, 949, 949, 949, 949, 949, 949, 949, 949, 949, 949, 949, 949, 949, 949, 949, 949, 949, 949, 949, 949, 949, 949, 949, 949, 949, 949, 949, 949, 949, 949, 949, 949, 949, 949, 949, 949, 949, 949, 949, 949, 949, 949, 949, 949, 949, 949, 949, 949, 949, 949, 949, 949, 949, 949, 949, 949, 949, 949, 949, 949, 949, 949, 949, 949, 949, 949, 949, 949, 949, 949, 949, 949, 949, 949, 949, 949, 949, 949, 949, 949, 949, 949, 949, 949, 949, 949, 949, 949, 949, 949, 949, 949, 949, 949, 949, 949, 949, 949, 949, 949, 949, 949, 949, 949, 949, 949, 949, 950, 950, 950, 950, 952, 952, 955, 955, 957, 958, 961, 963, 964, 967, 968, 974, 974, 976, 976, 976, 980, 983, 983, 983, 984, 994, 1006, 1008, 1023, 1026, 1028]\n"
          ],
          "name": "stdout"
        }
      ]
    },
    {
      "cell_type": "code",
      "metadata": {
        "id": "XIC4zufnMxtq",
        "outputId": "9978553b-8f77-4f91-c2a9-4d215dc5460c",
        "colab": {
          "base_uri": "https://localhost:8080/"
        }
      },
      "source": [
        "correct_num = 0\n",
        "\n",
        "for i in range(0, len(standard_list)):\n",
        "  if predict_list[i] == standard_list[i]:\n",
        "    correct_num = correct_num+1\n",
        "  else:\n",
        "    pass\n",
        "print(correct_num)\n",
        "\n",
        "predict_accuracy = correct_num/len(predict_list)\n",
        "print(predict_accuracy)"
      ],
      "execution_count": 47,
      "outputs": [
        {
          "output_type": "stream",
          "text": [
            "670\n",
            "0.7727797001153403\n"
          ],
          "name": "stdout"
        }
      ]
    },
    {
      "cell_type": "code",
      "metadata": {
        "id": "zlKMHp1CIaRJ"
      },
      "source": [
        ""
      ],
      "execution_count": 47,
      "outputs": []
    }
  ]
}