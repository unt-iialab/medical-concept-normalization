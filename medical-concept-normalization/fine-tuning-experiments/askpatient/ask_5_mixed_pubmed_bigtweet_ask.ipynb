{
  "nbformat": 4,
  "nbformat_minor": 0,
  "metadata": {
    "accelerator": "TPU",
    "colab": {
      "name": "ask_5_mixed_pubmed_bigtweet_ask.ipynb",
      "provenance": [],
      "collapsed_sections": [],
      "toc_visible": true,
      "include_colab_link": true
    },
    "kernelspec": {
      "display_name": "Python 3",
      "name": "python3"
    }
  },
  "cells": [
    {
      "cell_type": "markdown",
      "metadata": {
        "id": "view-in-github",
        "colab_type": "text"
      },
      "source": [
        "<a href=\"https://colab.research.google.com/github/unt-iialab/medical-concept-normalization/blob/master/medical-concept-normalization/fine-tuning-experiments/askpatient/ask_5_mixed_pubmed_bigtweet_ask.ipynb\" target=\"_parent\"><img src=\"https://colab.research.google.com/assets/colab-badge.svg\" alt=\"Open In Colab\"/></a>"
      ]
    },
    {
      "cell_type": "code",
      "metadata": {
        "id": "adSi6i2-dWxy"
      },
      "source": [
        "import os"
      ],
      "execution_count": 1,
      "outputs": []
    },
    {
      "cell_type": "code",
      "metadata": {
        "id": "E7xYCRGPjd9B"
      },
      "source": [
        "base_dir = 'medical-concept-normalization'"
      ],
      "execution_count": 2,
      "outputs": []
    },
    {
      "cell_type": "code",
      "metadata": {
        "id": "yvIW3aUDjYNS"
      },
      "source": [
        "os.mkdir(base_dir)"
      ],
      "execution_count": 3,
      "outputs": []
    },
    {
      "cell_type": "code",
      "metadata": {
        "id": "es-FFLlfk6SG"
      },
      "source": [
        "os.mkdir('medical-concept-normalization/data_collection')"
      ],
      "execution_count": 4,
      "outputs": []
    },
    {
      "cell_type": "markdown",
      "metadata": {
        "id": "0R-Guw_VoJXm"
      },
      "source": [
        "**Install fastai and clone the fastai for text classification**\n",
        "\n"
      ]
    },
    {
      "cell_type": "code",
      "metadata": {
        "id": "QVZa3Z0PmHFH",
        "outputId": "a823dc2b-dc00-4edc-e65f-d85c2d329961",
        "colab": {
          "base_uri": "https://localhost:8080/",
          "height": 68
        }
      },
      "source": [
        "!curl https://course-v3.fast.ai/setup/colab | bash"
      ],
      "execution_count": 5,
      "outputs": [
        {
          "output_type": "stream",
          "text": [
            "  % Total    % Received % Xferd  Average Speed   Time    Time     Time  Current\n",
            "                                 Dload  Upload   Total   Spent    Left  Speed\n",
            "\r  0     0    0     0    0     0      0      0 --:--:-- --:--:-- --:--:--     0curl: (6) Could not resolve host: course-v3.fast.ai\n"
          ],
          "name": "stdout"
        }
      ]
    },
    {
      "cell_type": "code",
      "metadata": {
        "id": "_FBFFEBrmJC0",
        "outputId": "d4d47b3f-0bad-4d9e-b475-8861dac99057",
        "colab": {
          "base_uri": "https://localhost:8080/",
          "height": 85
        }
      },
      "source": [
        "!git clone https://github.com/wshuyi/demo-nlp-classification-fastai.git"
      ],
      "execution_count": 6,
      "outputs": [
        {
          "output_type": "stream",
          "text": [
            "Cloning into 'demo-nlp-classification-fastai'...\n",
            "remote: Enumerating objects: 9, done.\u001b[K\n",
            "remote: Total 9 (delta 0), reused 0 (delta 0), pack-reused 9\u001b[K\n",
            "Unpacking objects: 100% (9/9), done.\n"
          ],
          "name": "stdout"
        }
      ]
    },
    {
      "cell_type": "code",
      "metadata": {
        "id": "66zfh_JqmWMU"
      },
      "source": [
        "from fastai import *\n",
        "from fastai.text import *"
      ],
      "execution_count": 7,
      "outputs": []
    },
    {
      "cell_type": "markdown",
      "metadata": {
        "id": "mNIw-yALdBU9"
      },
      "source": [
        "**Set the path of the data collections**"
      ]
    },
    {
      "cell_type": "code",
      "metadata": {
        "id": "pzH7VMh4mqCL"
      },
      "source": [
        "path = Path('medical-concept-normalization/data_collection')"
      ],
      "execution_count": 8,
      "outputs": []
    },
    {
      "cell_type": "code",
      "metadata": {
        "id": "b8fjI6yyn4aS"
      },
      "source": [
        "# training data set\n",
        "\n",
        "train_csv = path/'AskAPatient.fold-5.train.csv'\n",
        "train = pd.read_csv(train_csv, header=None)\n",
        "#train.head()\n",
        "#train.info()"
      ],
      "execution_count": 10,
      "outputs": []
    },
    {
      "cell_type": "code",
      "metadata": {
        "id": "Hmlr-bAorfHd",
        "outputId": "1b801cfc-e905-4acf-9c07-815a4bea35e8",
        "colab": {
          "base_uri": "https://localhost:8080/",
          "height": 204
        }
      },
      "source": [
        "# validating data set\n",
        "\n",
        "valid = pd.read_csv(path/\"AskAPatient.fold-5.validation.csv\",header=None)\n",
        "valid.head()"
      ],
      "execution_count": 11,
      "outputs": [
        {
          "output_type": "execute_result",
          "data": {
            "text/html": [
              "<div>\n",
              "<style scoped>\n",
              "    .dataframe tbody tr th:only-of-type {\n",
              "        vertical-align: middle;\n",
              "    }\n",
              "\n",
              "    .dataframe tbody tr th {\n",
              "        vertical-align: top;\n",
              "    }\n",
              "\n",
              "    .dataframe thead th {\n",
              "        text-align: right;\n",
              "    }\n",
              "</style>\n",
              "<table border=\"1\" class=\"dataframe\">\n",
              "  <thead>\n",
              "    <tr style=\"text-align: right;\">\n",
              "      <th></th>\n",
              "      <th>0</th>\n",
              "      <th>1</th>\n",
              "    </tr>\n",
              "  </thead>\n",
              "  <tbody>\n",
              "    <tr>\n",
              "      <th>0</th>\n",
              "      <td>2</td>\n",
              "      <td>heel pain</td>\n",
              "    </tr>\n",
              "    <tr>\n",
              "      <th>1</th>\n",
              "      <td>2</td>\n",
              "      <td>heel pain</td>\n",
              "    </tr>\n",
              "    <tr>\n",
              "      <th>2</th>\n",
              "      <td>5</td>\n",
              "      <td>increase my heart rate</td>\n",
              "    </tr>\n",
              "    <tr>\n",
              "      <th>3</th>\n",
              "      <td>5</td>\n",
              "      <td>tachycardia</td>\n",
              "    </tr>\n",
              "    <tr>\n",
              "      <th>4</th>\n",
              "      <td>8</td>\n",
              "      <td>severe arthritis</td>\n",
              "    </tr>\n",
              "  </tbody>\n",
              "</table>\n",
              "</div>"
            ],
            "text/plain": [
              "   0                       1\n",
              "0  2               heel pain\n",
              "1  2               heel pain\n",
              "2  5  increase my heart rate\n",
              "3  5             tachycardia\n",
              "4  8        severe arthritis"
            ]
          },
          "metadata": {
            "tags": []
          },
          "execution_count": 11
        }
      ]
    },
    {
      "cell_type": "code",
      "metadata": {
        "id": "cOza9dfSsBud",
        "outputId": "f5727447-3659-42bd-ecce-c635e47b5521",
        "colab": {
          "base_uri": "https://localhost:8080/",
          "height": 204
        }
      },
      "source": [
        "# testing data set\n",
        "\n",
        "test = pd.read_csv(path/\"AskAPatient.fold-5.test.csv\",header=None)\n",
        "test.head()"
      ],
      "execution_count": 12,
      "outputs": [
        {
          "output_type": "execute_result",
          "data": {
            "text/html": [
              "<div>\n",
              "<style scoped>\n",
              "    .dataframe tbody tr th:only-of-type {\n",
              "        vertical-align: middle;\n",
              "    }\n",
              "\n",
              "    .dataframe tbody tr th {\n",
              "        vertical-align: top;\n",
              "    }\n",
              "\n",
              "    .dataframe thead th {\n",
              "        text-align: right;\n",
              "    }\n",
              "</style>\n",
              "<table border=\"1\" class=\"dataframe\">\n",
              "  <thead>\n",
              "    <tr style=\"text-align: right;\">\n",
              "      <th></th>\n",
              "      <th>0</th>\n",
              "      <th>1</th>\n",
              "    </tr>\n",
              "  </thead>\n",
              "  <tbody>\n",
              "    <tr>\n",
              "      <th>0</th>\n",
              "      <td>0</td>\n",
              "      <td>fear</td>\n",
              "    </tr>\n",
              "    <tr>\n",
              "      <th>1</th>\n",
              "      <td>0</td>\n",
              "      <td>scared to death</td>\n",
              "    </tr>\n",
              "    <tr>\n",
              "      <th>2</th>\n",
              "      <td>2</td>\n",
              "      <td>heel pain</td>\n",
              "    </tr>\n",
              "    <tr>\n",
              "      <th>3</th>\n",
              "      <td>2</td>\n",
              "      <td>heels hurt</td>\n",
              "    </tr>\n",
              "    <tr>\n",
              "      <th>4</th>\n",
              "      <td>2</td>\n",
              "      <td>pain in my right heel</td>\n",
              "    </tr>\n",
              "  </tbody>\n",
              "</table>\n",
              "</div>"
            ],
            "text/plain": [
              "   0                      1\n",
              "0  0                   fear\n",
              "1  0        scared to death\n",
              "2  2              heel pain\n",
              "3  2             heels hurt\n",
              "4  2  pain in my right heel"
            ]
          },
          "metadata": {
            "tags": []
          },
          "execution_count": 12
        }
      ]
    },
    {
      "cell_type": "code",
      "metadata": {
        "id": "Vo-YNvVYoaH6",
        "outputId": "b6282bf1-2db8-4491-b822-208d85ed15c1",
        "colab": {
          "base_uri": "https://localhost:8080/",
          "height": 17
        }
      },
      "source": [
        "# Creating DataBunch for language modelling\n",
        "\n",
        "data_lm = TextLMDataBunch.from_csv(path, 'mixed_pubmed_bigtweet_askpatient.csv')"
      ],
      "execution_count": 13,
      "outputs": [
        {
          "output_type": "display_data",
          "data": {
            "text/html": [
              ""
            ],
            "text/plain": [
              "<IPython.core.display.HTML object>"
            ]
          },
          "metadata": {
            "tags": []
          }
        },
        {
          "output_type": "display_data",
          "data": {
            "text/html": [
              ""
            ],
            "text/plain": [
              "<IPython.core.display.HTML object>"
            ]
          },
          "metadata": {
            "tags": []
          }
        }
      ]
    },
    {
      "cell_type": "code",
      "metadata": {
        "id": "qcV-9kMnNLBf"
      },
      "source": [
        ""
      ],
      "execution_count": 13,
      "outputs": []
    },
    {
      "cell_type": "code",
      "metadata": {
        "id": "1ScY9afDsnvE"
      },
      "source": [
        "# Creating DataBunch for classification\n",
        "\n",
        "# data_clas = TextClasDataBunch.from_df(path, train, valid, test, vocab=data_lm.train_ds.vocab, bs=128)"
      ],
      "execution_count": 14,
      "outputs": []
    },
    {
      "cell_type": "code",
      "metadata": {
        "id": "gzrSdQcvey9p",
        "outputId": "9ff41258-e640-47c3-ddab-3bd6e04ee089",
        "colab": {
          "base_uri": "https://localhost:8080/",
          "height": 17
        }
      },
      "source": [
        "data_clas = TextClasDataBunch.from_df(path, train, valid, vocab=data_lm.train_ds.vocab, bs=128)"
      ],
      "execution_count": 15,
      "outputs": [
        {
          "output_type": "display_data",
          "data": {
            "text/html": [
              ""
            ],
            "text/plain": [
              "<IPython.core.display.HTML object>"
            ]
          },
          "metadata": {
            "tags": []
          }
        },
        {
          "output_type": "display_data",
          "data": {
            "text/html": [
              ""
            ],
            "text/plain": [
              "<IPython.core.display.HTML object>"
            ]
          },
          "metadata": {
            "tags": []
          }
        }
      ]
    },
    {
      "cell_type": "code",
      "metadata": {
        "id": "MD27Tf0Ke3ou",
        "outputId": "a8adb85d-c30d-4550-d065-12535a501e19",
        "colab": {
          "base_uri": "https://localhost:8080/",
          "height": 17
        }
      },
      "source": [
        "data_clas.add_test(test,label=0)\n"
      ],
      "execution_count": 16,
      "outputs": [
        {
          "output_type": "display_data",
          "data": {
            "text/html": [
              ""
            ],
            "text/plain": [
              "<IPython.core.display.HTML object>"
            ]
          },
          "metadata": {
            "tags": []
          }
        }
      ]
    },
    {
      "cell_type": "code",
      "metadata": {
        "id": "-dpjnk_rstwk"
      },
      "source": [
        "data_lm.save()\n",
        "data_clas.save()"
      ],
      "execution_count": 17,
      "outputs": []
    },
    {
      "cell_type": "code",
      "metadata": {
        "id": "4OkiJa36sw5s",
        "outputId": "ee1dfca7-2292-400e-d6bf-f5c5f9da0cca",
        "colab": {
          "base_uri": "https://localhost:8080/",
          "height": 1000
        }
      },
      "source": [
        "data_lm.train_ds.vocab.itos"
      ],
      "execution_count": 18,
      "outputs": [
        {
          "output_type": "execute_result",
          "data": {
            "text/plain": [
              "['xxunk',\n",
              " 'xxpad',\n",
              " 'xxbos',\n",
              " 'xxeos',\n",
              " 'xxfld',\n",
              " 'xxmaj',\n",
              " 'xxup',\n",
              " 'xxrep',\n",
              " 'xxwrep',\n",
              " 'pain',\n",
              " 'of',\n",
              " 'the',\n",
              " 'in',\n",
              " 'lipitor',\n",
              " 'and',\n",
              " 'to',\n",
              " 'a',\n",
              " 'muscle',\n",
              " 'with',\n",
              " 'for',\n",
              " 'was',\n",
              " 'diclofenac',\n",
              " 'were',\n",
              " 'severe',\n",
              " 'on',\n",
              " 'my',\n",
              " 'is',\n",
              " 'myalgia',\n",
              " 'lower',\n",
              " 'fatigue',\n",
              " 'rt',\n",
              " 'by',\n",
              " 'loss',\n",
              " 'cramp',\n",
              " 'limb',\n",
              " 'sodium',\n",
              " 'weakness',\n",
              " 'disease',\n",
              " 'at',\n",
              " 'stomach',\n",
              " 'that',\n",
              " 'or',\n",
              " 'as',\n",
              " 'back',\n",
              " '-',\n",
              " 'depression',\n",
              " 'patients',\n",
              " 'from',\n",
              " 'i',\n",
              " 'this',\n",
              " 'cramps',\n",
              " 'not',\n",
              " 'joint',\n",
              " 'upper',\n",
              " 'drug',\n",
              " 'gas',\n",
              " 'mg',\n",
              " 'memory',\n",
              " 'you',\n",
              " 'leg',\n",
              " 'all',\n",
              " 'legs',\n",
              " 'pains',\n",
              " 'headache',\n",
              " 'knee',\n",
              " 'group',\n",
              " 'unable',\n",
              " 'be',\n",
              " 'are',\n",
              " 'study',\n",
              " 'shoulder',\n",
              " 'arthralgia',\n",
              " 'neck',\n",
              " 'treatment',\n",
              " 'gastrointestinal',\n",
              " 'foot',\n",
              " 'after',\n",
              " 'excessive',\n",
              " 'arthritis',\n",
              " 'it',\n",
              " 'have',\n",
              " 'an',\n",
              " 'aches',\n",
              " 'hip',\n",
              " 'amp',\n",
              " 'voltaren',\n",
              " 'numbness',\n",
              " 'like',\n",
              " 'insomnia',\n",
              " 'arthrotec',\n",
              " 'p',\n",
              " 'release',\n",
              " 'no',\n",
              " 'nausea',\n",
              " '/',\n",
              " 'increased',\n",
              " 'time',\n",
              " 'gluten',\n",
              " 'asthenia',\n",
              " 'bleeding',\n",
              " 'both',\n",
              " 'heart',\n",
              " 'swelling',\n",
              " 'feeling',\n",
              " 'can',\n",
              " 'walk',\n",
              " 'tired',\n",
              " 'abdominal',\n",
              " 'skin',\n",
              " 'dizziness',\n",
              " 'blood',\n",
              " 'could',\n",
              " 'problems',\n",
              " 'high',\n",
              " 'than',\n",
              " 'out',\n",
              " 'difficulty',\n",
              " 'free',\n",
              " 'walking',\n",
              " 'we',\n",
              " 'up',\n",
              " 'feet',\n",
              " 'muscles',\n",
              " 'cholesterol',\n",
              " 'hand',\n",
              " 'more',\n",
              " 'effect',\n",
              " 'low',\n",
              " 'acid',\n",
              " 'hair',\n",
              " 'chest',\n",
              " 'extreme',\n",
              " 'new',\n",
              " 'stiffness',\n",
              " 'burning',\n",
              " 'vision',\n",
              " 'ache',\n",
              " 'compared',\n",
              " 'very',\n",
              " 'liver',\n",
              " 'zocor',\n",
              " 'backache',\n",
              " 'effects',\n",
              " 'inflammatory',\n",
              " 'your',\n",
              " 'using',\n",
              " 'weight',\n",
              " 'between',\n",
              " 'groups',\n",
              " 'diarrhoea',\n",
              " 'pins',\n",
              " 'needles',\n",
              " 'sleep',\n",
              " 'two',\n",
              " 'cramping',\n",
              " 'amnesia',\n",
              " 'our',\n",
              " 'day',\n",
              " 'right',\n",
              " 'about',\n",
              " 'its',\n",
              " 'h',\n",
              " 'significant',\n",
              " 'one',\n",
              " 'has',\n",
              " 'significantly',\n",
              " 'drugs',\n",
              " 'calf',\n",
              " 'use',\n",
              " 'but',\n",
              " 'c',\n",
              " 'impairment',\n",
              " 'concentration',\n",
              " 'these',\n",
              " 'which',\n",
              " 'left',\n",
              " 'anti',\n",
              " 'do',\n",
              " 'anxiety',\n",
              " 'tingling',\n",
              " 'potassium',\n",
              " 'disability',\n",
              " 'had',\n",
              " 'lack',\n",
              " 'dose',\n",
              " 'short',\n",
              " 'symptom',\n",
              " 'used',\n",
              " 'term',\n",
              " 'nt',\n",
              " 'pressure',\n",
              " 's',\n",
              " 'results',\n",
              " 'placebo',\n",
              " 'glutenfree',\n",
              " 'constipation',\n",
              " 'what',\n",
              " 'bloating',\n",
              " 'stiff',\n",
              " 'efficacy',\n",
              " 'also',\n",
              " 'when',\n",
              " 'arm',\n",
              " 'headaches',\n",
              " 'body',\n",
              " 'days',\n",
              " 'over',\n",
              " 'may',\n",
              " 'disorder',\n",
              " 'reduced',\n",
              " 'poor',\n",
              " 'there',\n",
              " 'celiac',\n",
              " 'so',\n",
              " 'ml',\n",
              " 'treated',\n",
              " 'neuropathy',\n",
              " 'arms',\n",
              " 'acute',\n",
              " 'sore',\n",
              " 'hands',\n",
              " 'blurred',\n",
              " 'been',\n",
              " 'm',\n",
              " 'get',\n",
              " 'ds',\n",
              " 'w',\n",
              " 'balance',\n",
              " 'ankle',\n",
              " 'well',\n",
              " 'showed',\n",
              " 'visual',\n",
              " 'joints',\n",
              " 'now',\n",
              " 'topical',\n",
              " 'different',\n",
              " 'serum',\n",
              " 'tiredness',\n",
              " 'symptoms',\n",
              " 'administration',\n",
              " 'food',\n",
              " 'renal',\n",
              " 'myocardial',\n",
              " 'control',\n",
              " 'products',\n",
              " 'infarction',\n",
              " 'myositis',\n",
              " 'oral',\n",
              " 'studies',\n",
              " 'rash',\n",
              " 'pravachol',\n",
              " 'via',\n",
              " 'during',\n",
              " 'into',\n",
              " 'atrophy',\n",
              " 'rats',\n",
              " 'sensation',\n",
              " 'diabetes',\n",
              " 'test',\n",
              " 'swollen',\n",
              " 'other',\n",
              " 'non',\n",
              " 'hurt',\n",
              " 'vaginal',\n",
              " 'how',\n",
              " 'rate',\n",
              " 'damage',\n",
              " 'vertigo',\n",
              " 'their',\n",
              " 'clinical',\n",
              " 'attack',\n",
              " 'energy',\n",
              " 'induced',\n",
              " 'painful',\n",
              " 'who',\n",
              " 'found',\n",
              " 'mentally',\n",
              " 'atorvastatin',\n",
              " 'type',\n",
              " ')',\n",
              " 'respectively',\n",
              " 'ubidecarenone',\n",
              " 'itching',\n",
              " 'if',\n",
              " 'decreased',\n",
              " 'upset',\n",
              " 'plasma',\n",
              " 'first',\n",
              " 'chronic',\n",
              " 'post',\n",
              " 'generalised',\n",
              " 'constant',\n",
              " \"'s\",\n",
              " 'gel',\n",
              " 'levels',\n",
              " 'diarrhea',\n",
              " 'did',\n",
              " 'syndrome',\n",
              " 'nsaids',\n",
              " ',',\n",
              " 'tablets',\n",
              " 'dry',\n",
              " 'effective',\n",
              " 'feel',\n",
              " 'gain',\n",
              " 'diet',\n",
              " 'three',\n",
              " 'period',\n",
              " 'formulations',\n",
              " 'ph',\n",
              " 'bad',\n",
              " 'observed',\n",
              " 'elevated',\n",
              " 'shoulders',\n",
              " 'me',\n",
              " 'formulation',\n",
              " 'hours',\n",
              " 'g',\n",
              " '(',\n",
              " \"n't\",\n",
              " 'mean',\n",
              " 'those',\n",
              " 'illness',\n",
              " 'hazy',\n",
              " 'eye',\n",
              " 'only',\n",
              " 'method',\n",
              " 'raised',\n",
              " 'weak',\n",
              " 'n',\n",
              " 'movement',\n",
              " 'review',\n",
              " 'kg',\n",
              " 'urine',\n",
              " 'crestor',\n",
              " 'solution',\n",
              " 'dull',\n",
              " 'adverse',\n",
              " 'each',\n",
              " 'present',\n",
              " 'elbow',\n",
              " 'tip',\n",
              " 'd',\n",
              " 'ibuprofen',\n",
              " 'received',\n",
              " 'week',\n",
              " 'sleeping',\n",
              " 'spasm',\n",
              " 'tendonitis',\n",
              " 'influenza',\n",
              " 'less',\n",
              " 'kidney',\n",
              " 'most',\n",
              " 'tablet',\n",
              " 'side',\n",
              " 'level',\n",
              " 'analysis',\n",
              " 'discomfort',\n",
              " 'analgesic',\n",
              " 'activity',\n",
              " 'abnormal',\n",
              " 'some',\n",
              " 'knees',\n",
              " 'increase',\n",
              " 'vitro',\n",
              " 'heavy',\n",
              " 'controlled',\n",
              " 'exhaustion',\n",
              " 'they',\n",
              " 'vomiting',\n",
              " 'libido',\n",
              " 'function',\n",
              " 'just',\n",
              " 'migraine',\n",
              " 'similar',\n",
              " 'concentrations',\n",
              " 'concentrate',\n",
              " 'flatulence',\n",
              " 'problem',\n",
              " 'single',\n",
              " 'before',\n",
              " 'toe',\n",
              " 'daily',\n",
              " 'spasms',\n",
              " 'system',\n",
              " 'irritable',\n",
              " 'inflammation',\n",
              " 'reflux',\n",
              " 'data',\n",
              " 'mood',\n",
              " 'dblclick',\n",
              " 'however',\n",
              " 'brain',\n",
              " 'thigh',\n",
              " 'years',\n",
              " 'patient',\n",
              " 'bed',\n",
              " 'injury',\n",
              " 'myopathy',\n",
              " 'following',\n",
              " 'l',\n",
              " 'b',\n",
              " 'weeks',\n",
              " 'here',\n",
              " 'total',\n",
              " 'pic',\n",
              " 'sclerosis',\n",
              " 'throat',\n",
              " 'ca',\n",
              " 't',\n",
              " 'fibromyalgia',\n",
              " 'randomized',\n",
              " 'multiple',\n",
              " 'flu',\n",
              " 'why',\n",
              " 'mellitus',\n",
              " 'think',\n",
              " 'mild',\n",
              " 'surgery',\n",
              " 'good',\n",
              " 'simvastatin',\n",
              " 'difference',\n",
              " 'cold',\n",
              " 'eyes',\n",
              " 'changes',\n",
              " 'off',\n",
              " 'healthy',\n",
              " 'evaluated',\n",
              " 'will',\n",
              " 'higher',\n",
              " 'check',\n",
              " 'know',\n",
              " 'osteoarthritis',\n",
              " 'lightheadedness',\n",
              " 'nsaid',\n",
              " 'due',\n",
              " 'dissolution',\n",
              " 'malaise',\n",
              " 'model',\n",
              " 'under',\n",
              " 'sweating',\n",
              " 'hips',\n",
              " 'obtained',\n",
              " 'being',\n",
              " 'while',\n",
              " 'failure',\n",
              " 'should',\n",
              " 'water',\n",
              " 'love',\n",
              " 'cells',\n",
              " 'double',\n",
              " 'life',\n",
              " 'cell',\n",
              " 'based',\n",
              " 'relief',\n",
              " 'head',\n",
              " 'any',\n",
              " 'postoperative',\n",
              " 'impaired',\n",
              " 'disturbance',\n",
              " 'appetite',\n",
              " 'min',\n",
              " 'associated',\n",
              " 'aching',\n",
              " 'peripheral',\n",
              " 'studied',\n",
              " 'menstrual',\n",
              " 'confusion',\n",
              " 'application',\n",
              " 'tremor',\n",
              " 'therapy',\n",
              " 'area',\n",
              " 'combination',\n",
              " 'tinnitus',\n",
              " 'oil',\n",
              " 'stress',\n",
              " 'blind',\n",
              " 'prepared',\n",
              " 'general',\n",
              " 'celebrex',\n",
              " 'help',\n",
              " 'wind',\n",
              " 'gastric',\n",
              " 'swings',\n",
              " 'administered',\n",
              " 'times',\n",
              " 'esters',\n",
              " 'intolerance',\n",
              " 'four',\n",
              " 'order',\n",
              " 'finger',\n",
              " 'soreness',\n",
              " 'reported',\n",
              " 'sensitivity',\n",
              " 'vs',\n",
              " 'trial',\n",
              " 'make',\n",
              " 'events',\n",
              " 'ezetimibe',\n",
              " 'change',\n",
              " 'calves',\n",
              " 'paraesthesia',\n",
              " 'developed',\n",
              " 'does',\n",
              " 'infection',\n",
              " 'us',\n",
              " 'through',\n",
              " 'eat',\n",
              " 'conditions',\n",
              " 'without',\n",
              " 'values',\n",
              " 'stairs',\n",
              " 'response',\n",
              " 'x',\n",
              " 'coated',\n",
              " 'rheumatoid',\n",
              " 'great',\n",
              " 'night',\n",
              " 're',\n",
              " 'going',\n",
              " 'given',\n",
              " 'paracetamol',\n",
              " 'nonsteroidal',\n",
              " 'ascorbic',\n",
              " 'gfb',\n",
              " 'charleyhorse',\n",
              " 'differences',\n",
              " 'subjects',\n",
              " 'absorption',\n",
              " 'swallowing',\n",
              " 'motivation',\n",
              " 'performed',\n",
              " 'thanks',\n",
              " 'such',\n",
              " 'better',\n",
              " '2',\n",
              " '1',\n",
              " 'cough',\n",
              " 'restless',\n",
              " 'e',\n",
              " 'doses',\n",
              " 'ankles',\n",
              " 'hot',\n",
              " 'enzymes',\n",
              " 'rapid',\n",
              " 'face',\n",
              " 'parkinson',\n",
              " 'investigated',\n",
              " 'down',\n",
              " 'risk',\n",
              " 'phase',\n",
              " 'urinary',\n",
              " 'reduction',\n",
              " 'toes',\n",
              " 'strength',\n",
              " 'always',\n",
              " 'depressed',\n",
              " 'containing',\n",
              " 'assessed',\n",
              " 'taste',\n",
              " 'either',\n",
              " 'tendon',\n",
              " 'indigestion',\n",
              " 'lateral',\n",
              " 'posted',\n",
              " 'vitamin',\n",
              " 'nerve',\n",
              " 'heel',\n",
              " 'delivery',\n",
              " 'safety',\n",
              " 'parameters',\n",
              " 'statistically',\n",
              " 'v',\n",
              " 'within',\n",
              " 'properties',\n",
              " 'injection',\n",
              " 'dyspnoea',\n",
              " 'compare',\n",
              " 'lupus',\n",
              " 'intense',\n",
              " 'related',\n",
              " 'samples',\n",
              " 'every',\n",
              " 'fingers',\n",
              " 'show',\n",
              " 'palpitations',\n",
              " 'number',\n",
              " 'indomethacin',\n",
              " 'excruciating',\n",
              " 'need',\n",
              " 'liquid',\n",
              " 'range',\n",
              " 'felt',\n",
              " 'dark',\n",
              " 'steroidal',\n",
              " 'advil',\n",
              " 'best',\n",
              " 'ng',\n",
              " 'size',\n",
              " 'getting',\n",
              " 'twitch',\n",
              " 'menopause',\n",
              " 'potential',\n",
              " 'auc',\n",
              " 'living',\n",
              " 'long',\n",
              " 'included',\n",
              " 'recipe',\n",
              " 'medication',\n",
              " 'vivo',\n",
              " 'speech',\n",
              " 'major',\n",
              " 'decrease',\n",
              " 'minutes',\n",
              " 'wrist',\n",
              " 'ii',\n",
              " 'ratio',\n",
              " 'much',\n",
              " 'people',\n",
              " 'gout',\n",
              " 'overall',\n",
              " 'read',\n",
              " 'year',\n",
              " 'mm',\n",
              " 'fish',\n",
              " 'bone',\n",
              " 'reaction',\n",
              " 'clearly',\n",
              " 'therapeutic',\n",
              " 'oa',\n",
              " 'normal',\n",
              " 'light',\n",
              " 'scale',\n",
              " 'moderate',\n",
              " 'health',\n",
              " 'active',\n",
              " 'limbs',\n",
              " 'dreams',\n",
              " 'many',\n",
              " 'form',\n",
              " 'applied',\n",
              " 'evaluate',\n",
              " 'ability',\n",
              " 'heres',\n",
              " 'edema',\n",
              " 'go',\n",
              " 'archives',\n",
              " '30',\n",
              " 'human',\n",
              " '\\r \\n ',\n",
              " 'development',\n",
              " 'tightness',\n",
              " 'measured',\n",
              " 'breathing',\n",
              " 'baseline',\n",
              " 'provoked',\n",
              " 'primary',\n",
              " 'sinus',\n",
              " 'available',\n",
              " 'greater',\n",
              " '3',\n",
              " 'k',\n",
              " 'tolerability',\n",
              " 'months',\n",
              " 'misoprostol',\n",
              " 'terrible',\n",
              " 'then',\n",
              " 'scores',\n",
              " 'aqueous',\n",
              " 'even',\n",
              " 'drowsy',\n",
              " 'cox',\n",
              " 'determined',\n",
              " 'big',\n",
              " 'bioavailability',\n",
              " 'trouble',\n",
              " 'ulcer',\n",
              " 'tips',\n",
              " 'dependent',\n",
              " 'demonstrated',\n",
              " 'fever',\n",
              " 'sustained',\n",
              " 'exercise',\n",
              " 'co',\n",
              " 'heartburn',\n",
              " 'nasal',\n",
              " 'tissue',\n",
              " 'action',\n",
              " 'uterine',\n",
              " 'move',\n",
              " 'because',\n",
              " 'would',\n",
              " 'addition',\n",
              " 'article',\n",
              " 'same',\n",
              " 'creatinine',\n",
              " 'tested',\n",
              " 'process',\n",
              " 'find',\n",
              " 'aspirin',\n",
              " 'bowel',\n",
              " 'made',\n",
              " 'matrix',\n",
              " 'fog',\n",
              " 'protein',\n",
              " 'revealed',\n",
              " 'amyotrophic',\n",
              " 'breath',\n",
              " 'na',\n",
              " 'mouth',\n",
              " 'improvement',\n",
              " 'today',\n",
              " '10',\n",
              " 'jennieo',\n",
              " 'news',\n",
              " 'tract',\n",
              " 'cancer',\n",
              " 'month',\n",
              " 'coq10',\n",
              " 'hypertension',\n",
              " 'polymer',\n",
              " 'mice',\n",
              " 'mobility',\n",
              " 'inhibition',\n",
              " 'tolerance',\n",
              " 'colic',\n",
              " 'male',\n",
              " 'initial',\n",
              " 'presence',\n",
              " 'including',\n",
              " 'onset',\n",
              " 'important',\n",
              " 'dosage',\n",
              " 'aim',\n",
              " 'alone',\n",
              " 'twitching',\n",
              " 'end',\n",
              " 'safe',\n",
              " 'horses',\n",
              " 'chicken',\n",
              " 'whereas',\n",
              " 'common',\n",
              " 'thighs',\n",
              " 'fenofibrate',\n",
              " 'volunteers',\n",
              " 'indicated',\n",
              " 'treatments',\n",
              " 'tolerated',\n",
              " 'way',\n",
              " 'sick',\n",
              " 'facial',\n",
              " 'trials',\n",
              " 'provide',\n",
              " 'case',\n",
              " '+',\n",
              " 'f',\n",
              " 'score',\n",
              " 'local',\n",
              " 'want',\n",
              " 'various',\n",
              " 'suggest',\n",
              " '5',\n",
              " 'attacks',\n",
              " 'aleve',\n",
              " 'lethargy',\n",
              " 'exposure',\n",
              " 'tight',\n",
              " 'follow',\n",
              " 'although',\n",
              " 'fast',\n",
              " 'plantar',\n",
              " 'tylenol',\n",
              " 'cd',\n",
              " 'mechanism',\n",
              " 'randomly',\n",
              " 'inhibitor',\n",
              " 'hardly',\n",
              " 'diagnosis',\n",
              " 'content',\n",
              " 'still',\n",
              " 'formation',\n",
              " 'take',\n",
              " 'per',\n",
              " 'caused',\n",
              " 'o',\n",
              " 'where',\n",
              " 'hour',\n",
              " 'complex',\n",
              " 'further',\n",
              " 'oedema',\n",
              " 'morning',\n",
              " 'intestinal',\n",
              " 'ever',\n",
              " 'part',\n",
              " 'shown',\n",
              " 'followed',\n",
              " 'versus',\n",
              " 'moody',\n",
              " 'relative',\n",
              " 'old',\n",
              " 'among',\n",
              " 'physical',\n",
              " 'agent',\n",
              " 'loose',\n",
              " 'natural',\n",
              " 'lost',\n",
              " 'cerebrovascular',\n",
              " 'surface',\n",
              " 'cm',\n",
              " 'cases',\n",
              " 'animals',\n",
              " 'finding',\n",
              " 'charley',\n",
              " 'sensitive',\n",
              " 'things',\n",
              " 'profile',\n",
              " 'sharp',\n",
              " 'malignant',\n",
              " 'elbows',\n",
              " 'pizza',\n",
              " 'alpha',\n",
              " 'rat',\n",
              " 'sugar',\n",
              " 'pulse',\n",
              " 'research',\n",
              " 'experimental',\n",
              " 'standard',\n",
              " 'degrees',\n",
              " 'six',\n",
              " 'accident',\n",
              " 'hard',\n",
              " 'global',\n",
              " 'share',\n",
              " 'generally',\n",
              " 'around',\n",
              " 'age',\n",
              " 'issues',\n",
              " 'conducted',\n",
              " 'tricor',\n",
              " 'intensity',\n",
              " 'corneal',\n",
              " 'diagnosed',\n",
              " 'naproxen',\n",
              " 'irregular',\n",
              " 'congestion',\n",
              " 'profiles',\n",
              " 'panic',\n",
              " 'started',\n",
              " 'evaluation',\n",
              " 'care',\n",
              " 'divided',\n",
              " 'peak',\n",
              " 'vehicle',\n",
              " 'please',\n",
              " 'stamina',\n",
              " 'coronary',\n",
              " 'growth',\n",
              " 'ms',\n",
              " 'product',\n",
              " 'agents',\n",
              " 'pre',\n",
              " 'according',\n",
              " 'eating',\n",
              " '4',\n",
              " 'extremity',\n",
              " 'rhabdomyolysis',\n",
              " 'deep',\n",
              " 'fluid',\n",
              " '\\r \\n \\r \\n ',\n",
              " 'drive',\n",
              " 'systemic',\n",
              " 'ringing',\n",
              " 'r',\n",
              " 'periods',\n",
              " 'against',\n",
              " 'reference',\n",
              " 'able',\n",
              " 'shortness',\n",
              " 'condition',\n",
              " 'resulted',\n",
              " 'top',\n",
              " 'nervous',\n",
              " 'zetia',\n",
              " 'got',\n",
              " 'lesions',\n",
              " 'amount',\n",
              " 'blog',\n",
              " 'awareness',\n",
              " 'looks',\n",
              " 'difficult',\n",
              " 'complete',\n",
              " 'linked',\n",
              " 'thoughts',\n",
              " 'combined',\n",
              " 'numb',\n",
              " 'pharmaceutical',\n",
              " 'th',\n",
              " 'improved',\n",
              " 'happy',\n",
              " 'de',\n",
              " 'microspheres',\n",
              " 'prednisone',\n",
              " 'produced',\n",
              " 'mental',\n",
              " 'once',\n",
              " 'recorded',\n",
              " 'too',\n",
              " 'fatigued',\n",
              " 'vas',\n",
              " 'permeation',\n",
              " 'pruritus',\n",
              " 'barely',\n",
              " 'plus',\n",
              " 'beads',\n",
              " 'affected',\n",
              " 'enteric',\n",
              " 'u',\n",
              " 'allergic',\n",
              " 'work',\n",
              " 'evidence',\n",
              " 'liptor',\n",
              " 'rofecoxib',\n",
              " 'assessment',\n",
              " 'analgesia',\n",
              " 'pharmacokinetic',\n",
              " 'soup',\n",
              " 'extremely',\n",
              " 'super',\n",
              " 'cause',\n",
              " 'dizzy',\n",
              " 'preparation',\n",
              " 'participants',\n",
              " 'little',\n",
              " 'see',\n",
              " 'film',\n",
              " 'cookbook',\n",
              " 'hunger',\n",
              " 'fasciitis',\n",
              " 'ci',\n",
              " 'support',\n",
              " 'synthesis',\n",
              " 'site',\n",
              " 'region',\n",
              " 'patch',\n",
              " 'third',\n",
              " 'five',\n",
              " 'stroke',\n",
              " 'diabetic',\n",
              " 'eczema',\n",
              " 'efficiency',\n",
              " 'tension',\n",
              " 'central',\n",
              " 'hypersomnia',\n",
              " 'slurred',\n",
              " 'ethyl',\n",
              " 'flushing',\n",
              " 'carried',\n",
              " 'dr',\n",
              " 'cross',\n",
              " 'sex',\n",
              " 'medium',\n",
              " 'rates',\n",
              " 'easy',\n",
              " 'secondary',\n",
              " 'serious',\n",
              " 'state',\n",
              " 'sweats',\n",
              " 'gi',\n",
              " 'needed',\n",
              " 'achieved',\n",
              " 'respiratory',\n",
              " 'medical',\n",
              " 'codeine',\n",
              " 'neurontin',\n",
              " 'duration',\n",
              " 'microg',\n",
              " 'tests',\n",
              " 'norvasc',\n",
              " 'least',\n",
              " 'strain',\n",
              " 'models',\n",
              " 'calcium',\n",
              " 'temperature',\n",
              " 'several',\n",
              " 'production',\n",
              " 'quality',\n",
              " 'als',\n",
              " 'frequent',\n",
              " 'whole',\n",
              " 'achilles',\n",
              " 'specific',\n",
              " ':',\n",
              " 'erythematosus',\n",
              " 'small',\n",
              " 'ear',\n",
              " 'findings',\n",
              " 'determine',\n",
              " 'erythema',\n",
              " 'density',\n",
              " 'comparison',\n",
              " ...]"
            ]
          },
          "metadata": {
            "tags": []
          },
          "execution_count": 18
        }
      ]
    },
    {
      "cell_type": "code",
      "metadata": {
        "id": "yPWr03mls3VT",
        "outputId": "6dd2e0eb-7fac-42fc-8bf4-223b5f241506",
        "colab": {
          "base_uri": "https://localhost:8080/",
          "height": 17
        }
      },
      "source": [
        "model_path = path/'models'\n",
        "model_path.mkdir(exist_ok=True)\n",
        "url = 'http://files.fast.ai/models/wt103_v1/'\n",
        "download_url(f'{url}lstm_wt103.pth', model_path/'lstm_wt103.pth')\n",
        "download_url(f'{url}itos_wt103.pkl', model_path/'itos_wt103.pkl')"
      ],
      "execution_count": 19,
      "outputs": [
        {
          "output_type": "display_data",
          "data": {
            "text/html": [
              ""
            ],
            "text/plain": [
              "<IPython.core.display.HTML object>"
            ]
          },
          "metadata": {
            "tags": []
          }
        },
        {
          "output_type": "display_data",
          "data": {
            "text/html": [
              ""
            ],
            "text/plain": [
              "<IPython.core.display.HTML object>"
            ]
          },
          "metadata": {
            "tags": []
          }
        }
      ]
    },
    {
      "cell_type": "code",
      "metadata": {
        "id": "JRzvWg8RtGGr",
        "outputId": "f10e0afc-c14a-4399-e269-d5440bc5c8a5",
        "colab": {
          "base_uri": "https://localhost:8080/",
          "height": 34
        }
      },
      "source": [
        "learn = language_model_learner(data_lm, AWD_LSTM, drop_mult=0.5)"
      ],
      "execution_count": 20,
      "outputs": [
        {
          "output_type": "stream",
          "text": [
            "Downloading https://s3.amazonaws.com/fast-ai-modelzoo/wt103-fwd.tgz\n"
          ],
          "name": "stdout"
        },
        {
          "output_type": "display_data",
          "data": {
            "text/html": [
              ""
            ],
            "text/plain": [
              "<IPython.core.display.HTML object>"
            ]
          },
          "metadata": {
            "tags": []
          }
        }
      ]
    },
    {
      "cell_type": "code",
      "metadata": {
        "id": "xKK7GeBev7Xn",
        "outputId": "7f9d936d-ecc0-4895-fab9-2f1ad24313ad",
        "colab": {
          "base_uri": "https://localhost:8080/",
          "height": 80
        }
      },
      "source": [
        "learn.fit_one_cycle(1, 1e-2)"
      ],
      "execution_count": 21,
      "outputs": [
        {
          "output_type": "display_data",
          "data": {
            "text/html": [
              "<table border=\"1\" class=\"dataframe\">\n",
              "  <thead>\n",
              "    <tr style=\"text-align: left;\">\n",
              "      <th>epoch</th>\n",
              "      <th>train_loss</th>\n",
              "      <th>valid_loss</th>\n",
              "      <th>accuracy</th>\n",
              "      <th>time</th>\n",
              "    </tr>\n",
              "  </thead>\n",
              "  <tbody>\n",
              "    <tr>\n",
              "      <td>0</td>\n",
              "      <td>3.858504</td>\n",
              "      <td>3.475956</td>\n",
              "      <td>0.443790</td>\n",
              "      <td>34:50</td>\n",
              "    </tr>\n",
              "  </tbody>\n",
              "</table>"
            ],
            "text/plain": [
              "<IPython.core.display.HTML object>"
            ]
          },
          "metadata": {
            "tags": []
          }
        }
      ]
    },
    {
      "cell_type": "code",
      "metadata": {
        "id": "iB7rHGQCwd12"
      },
      "source": [
        "# learn.fit_one_cycle(1, 1e-2)"
      ],
      "execution_count": 22,
      "outputs": []
    },
    {
      "cell_type": "code",
      "metadata": {
        "id": "_BnSuAeCwkBe"
      },
      "source": [
        "# learn.fit_one_cycle(1, 1e-3)"
      ],
      "execution_count": 23,
      "outputs": []
    },
    {
      "cell_type": "code",
      "metadata": {
        "id": "MuTm-RFjwrEX",
        "outputId": "5eb3ba38-29f3-4cb8-c9d8-665fb2bec6f1",
        "colab": {
          "base_uri": "https://localhost:8080/",
          "height": 80
        }
      },
      "source": [
        "learn.fit_one_cycle(1, 1e-3)"
      ],
      "execution_count": 24,
      "outputs": [
        {
          "output_type": "display_data",
          "data": {
            "text/html": [
              "<table border=\"1\" class=\"dataframe\">\n",
              "  <thead>\n",
              "    <tr style=\"text-align: left;\">\n",
              "      <th>epoch</th>\n",
              "      <th>train_loss</th>\n",
              "      <th>valid_loss</th>\n",
              "      <th>accuracy</th>\n",
              "      <th>time</th>\n",
              "    </tr>\n",
              "  </thead>\n",
              "  <tbody>\n",
              "    <tr>\n",
              "      <td>0</td>\n",
              "      <td>3.518103</td>\n",
              "      <td>3.416475</td>\n",
              "      <td>0.449268</td>\n",
              "      <td>34:44</td>\n",
              "    </tr>\n",
              "  </tbody>\n",
              "</table>"
            ],
            "text/plain": [
              "<IPython.core.display.HTML object>"
            ]
          },
          "metadata": {
            "tags": []
          }
        }
      ]
    },
    {
      "cell_type": "code",
      "metadata": {
        "id": "1Er2ExO8wr7Y"
      },
      "source": [
        "learn.save_encoder('pubmed_cadec_askpatient_mixed_fold5_first')"
      ],
      "execution_count": 25,
      "outputs": []
    },
    {
      "cell_type": "code",
      "metadata": {
        "id": "z52cZs2qwvad",
        "outputId": "91b58f8f-f4c2-4bdc-e614-40bdce403636",
        "colab": {
          "base_uri": "https://localhost:8080/",
          "height": 80
        }
      },
      "source": [
        "learn = text_classifier_learner(data_clas,AWD_LSTM, drop_mult=0.5)\n",
        "learn.load_encoder('pubmed_cadec_askpatient_mixed_fold5_first')\n",
        "learn.fit_one_cycle(1, 1e-2)"
      ],
      "execution_count": 26,
      "outputs": [
        {
          "output_type": "display_data",
          "data": {
            "text/html": [
              "<table border=\"1\" class=\"dataframe\">\n",
              "  <thead>\n",
              "    <tr style=\"text-align: left;\">\n",
              "      <th>epoch</th>\n",
              "      <th>train_loss</th>\n",
              "      <th>valid_loss</th>\n",
              "      <th>accuracy</th>\n",
              "      <th>time</th>\n",
              "    </tr>\n",
              "  </thead>\n",
              "  <tbody>\n",
              "    <tr>\n",
              "      <td>0</td>\n",
              "      <td>3.902260</td>\n",
              "      <td>3.642191</td>\n",
              "      <td>0.357599</td>\n",
              "      <td>01:10</td>\n",
              "    </tr>\n",
              "  </tbody>\n",
              "</table>"
            ],
            "text/plain": [
              "<IPython.core.display.HTML object>"
            ]
          },
          "metadata": {
            "tags": []
          }
        }
      ]
    },
    {
      "cell_type": "code",
      "metadata": {
        "id": "ImwQP1PJwzxd",
        "outputId": "c49c7dc0-9da7-4709-e861-c4d30b0a5fea",
        "colab": {
          "base_uri": "https://localhost:8080/",
          "height": 80
        }
      },
      "source": [
        "learn.freeze_to(-2)\n",
        "learn.fit_one_cycle(1, slice(5e-3/2., 5e-3))"
      ],
      "execution_count": 27,
      "outputs": [
        {
          "output_type": "display_data",
          "data": {
            "text/html": [
              "<table border=\"1\" class=\"dataframe\">\n",
              "  <thead>\n",
              "    <tr style=\"text-align: left;\">\n",
              "      <th>epoch</th>\n",
              "      <th>train_loss</th>\n",
              "      <th>valid_loss</th>\n",
              "      <th>accuracy</th>\n",
              "      <th>time</th>\n",
              "    </tr>\n",
              "  </thead>\n",
              "  <tbody>\n",
              "    <tr>\n",
              "      <td>0</td>\n",
              "      <td>3.002753</td>\n",
              "      <td>3.124437</td>\n",
              "      <td>0.453384</td>\n",
              "      <td>01:26</td>\n",
              "    </tr>\n",
              "  </tbody>\n",
              "</table>"
            ],
            "text/plain": [
              "<IPython.core.display.HTML object>"
            ]
          },
          "metadata": {
            "tags": []
          }
        }
      ]
    },
    {
      "cell_type": "code",
      "metadata": {
        "id": "Owff_BJXw53u",
        "outputId": "c177d410-ab0a-4a25-adf5-e964fb462e58",
        "colab": {
          "base_uri": "https://localhost:8080/",
          "height": 80
        }
      },
      "source": [
        "learn.unfreeze()\n",
        "learn.fit_one_cycle(1, slice(2e-3/100, 2e-3))"
      ],
      "execution_count": 28,
      "outputs": [
        {
          "output_type": "display_data",
          "data": {
            "text/html": [
              "<table border=\"1\" class=\"dataframe\">\n",
              "  <thead>\n",
              "    <tr style=\"text-align: left;\">\n",
              "      <th>epoch</th>\n",
              "      <th>train_loss</th>\n",
              "      <th>valid_loss</th>\n",
              "      <th>accuracy</th>\n",
              "      <th>time</th>\n",
              "    </tr>\n",
              "  </thead>\n",
              "  <tbody>\n",
              "    <tr>\n",
              "      <td>0</td>\n",
              "      <td>2.250410</td>\n",
              "      <td>2.603305</td>\n",
              "      <td>0.542784</td>\n",
              "      <td>03:22</td>\n",
              "    </tr>\n",
              "  </tbody>\n",
              "</table>"
            ],
            "text/plain": [
              "<IPython.core.display.HTML object>"
            ]
          },
          "metadata": {
            "tags": []
          }
        }
      ]
    },
    {
      "cell_type": "code",
      "metadata": {
        "id": "lqAyu56V8Waq",
        "outputId": "a4e5833e-f3bc-4e50-84f6-14228a724999",
        "colab": {
          "base_uri": "https://localhost:8080/",
          "height": 111
        }
      },
      "source": [
        "learn.fit_one_cycle(2, slice(2e-3/100, 2e-3))"
      ],
      "execution_count": 29,
      "outputs": [
        {
          "output_type": "display_data",
          "data": {
            "text/html": [
              "<table border=\"1\" class=\"dataframe\">\n",
              "  <thead>\n",
              "    <tr style=\"text-align: left;\">\n",
              "      <th>epoch</th>\n",
              "      <th>train_loss</th>\n",
              "      <th>valid_loss</th>\n",
              "      <th>accuracy</th>\n",
              "      <th>time</th>\n",
              "    </tr>\n",
              "  </thead>\n",
              "  <tbody>\n",
              "    <tr>\n",
              "      <td>0</td>\n",
              "      <td>2.019557</td>\n",
              "      <td>2.273327</td>\n",
              "      <td>0.606641</td>\n",
              "      <td>03:15</td>\n",
              "    </tr>\n",
              "    <tr>\n",
              "      <td>1</td>\n",
              "      <td>1.694070</td>\n",
              "      <td>2.117052</td>\n",
              "      <td>0.637292</td>\n",
              "      <td>03:24</td>\n",
              "    </tr>\n",
              "  </tbody>\n",
              "</table>"
            ],
            "text/plain": [
              "<IPython.core.display.HTML object>"
            ]
          },
          "metadata": {
            "tags": []
          }
        }
      ]
    },
    {
      "cell_type": "code",
      "metadata": {
        "id": "a7I1xMRp8bUd",
        "outputId": "12f021b1-a414-4a84-8878-cd46fbfbe812",
        "colab": {
          "base_uri": "https://localhost:8080/",
          "height": 111
        }
      },
      "source": [
        "learn.fit_one_cycle(2, slice(2e-3/100, 2e-3))"
      ],
      "execution_count": 30,
      "outputs": [
        {
          "output_type": "display_data",
          "data": {
            "text/html": [
              "<table border=\"1\" class=\"dataframe\">\n",
              "  <thead>\n",
              "    <tr style=\"text-align: left;\">\n",
              "      <th>epoch</th>\n",
              "      <th>train_loss</th>\n",
              "      <th>valid_loss</th>\n",
              "      <th>accuracy</th>\n",
              "      <th>time</th>\n",
              "    </tr>\n",
              "  </thead>\n",
              "  <tbody>\n",
              "    <tr>\n",
              "      <td>0</td>\n",
              "      <td>1.531348</td>\n",
              "      <td>1.928897</td>\n",
              "      <td>0.661558</td>\n",
              "      <td>03:23</td>\n",
              "    </tr>\n",
              "    <tr>\n",
              "      <td>1</td>\n",
              "      <td>1.302335</td>\n",
              "      <td>1.858581</td>\n",
              "      <td>0.680715</td>\n",
              "      <td>03:11</td>\n",
              "    </tr>\n",
              "  </tbody>\n",
              "</table>"
            ],
            "text/plain": [
              "<IPython.core.display.HTML object>"
            ]
          },
          "metadata": {
            "tags": []
          }
        }
      ]
    },
    {
      "cell_type": "code",
      "metadata": {
        "id": "UAnti-XmGVfO",
        "outputId": "5b0798f0-fe40-4d27-b02e-95862fda34d9",
        "colab": {
          "base_uri": "https://localhost:8080/",
          "height": 111
        }
      },
      "source": [
        "learn.fit_one_cycle(2, slice(2e-3/100, 2e-3))"
      ],
      "execution_count": 31,
      "outputs": [
        {
          "output_type": "display_data",
          "data": {
            "text/html": [
              "<table border=\"1\" class=\"dataframe\">\n",
              "  <thead>\n",
              "    <tr style=\"text-align: left;\">\n",
              "      <th>epoch</th>\n",
              "      <th>train_loss</th>\n",
              "      <th>valid_loss</th>\n",
              "      <th>accuracy</th>\n",
              "      <th>time</th>\n",
              "    </tr>\n",
              "  </thead>\n",
              "  <tbody>\n",
              "    <tr>\n",
              "      <td>0</td>\n",
              "      <td>1.270276</td>\n",
              "      <td>1.686215</td>\n",
              "      <td>0.688378</td>\n",
              "      <td>03:19</td>\n",
              "    </tr>\n",
              "    <tr>\n",
              "      <td>1</td>\n",
              "      <td>1.030848</td>\n",
              "      <td>1.624536</td>\n",
              "      <td>0.720307</td>\n",
              "      <td>03:16</td>\n",
              "    </tr>\n",
              "  </tbody>\n",
              "</table>"
            ],
            "text/plain": [
              "<IPython.core.display.HTML object>"
            ]
          },
          "metadata": {
            "tags": []
          }
        }
      ]
    },
    {
      "cell_type": "code",
      "metadata": {
        "id": "bIft7W25GwSu",
        "outputId": "36716d2d-3c52-44eb-83eb-437d4ecf9318",
        "colab": {
          "base_uri": "https://localhost:8080/",
          "height": 111
        }
      },
      "source": [
        "learn.fit_one_cycle(2, slice(2e-3/100, 2e-3))"
      ],
      "execution_count": 32,
      "outputs": [
        {
          "output_type": "display_data",
          "data": {
            "text/html": [
              "<table border=\"1\" class=\"dataframe\">\n",
              "  <thead>\n",
              "    <tr style=\"text-align: left;\">\n",
              "      <th>epoch</th>\n",
              "      <th>train_loss</th>\n",
              "      <th>valid_loss</th>\n",
              "      <th>accuracy</th>\n",
              "      <th>time</th>\n",
              "    </tr>\n",
              "  </thead>\n",
              "  <tbody>\n",
              "    <tr>\n",
              "      <td>0</td>\n",
              "      <td>0.924873</td>\n",
              "      <td>1.547446</td>\n",
              "      <td>0.739464</td>\n",
              "      <td>03:27</td>\n",
              "    </tr>\n",
              "    <tr>\n",
              "      <td>1</td>\n",
              "      <td>0.862462</td>\n",
              "      <td>1.455810</td>\n",
              "      <td>0.743295</td>\n",
              "      <td>03:30</td>\n",
              "    </tr>\n",
              "  </tbody>\n",
              "</table>"
            ],
            "text/plain": [
              "<IPython.core.display.HTML object>"
            ]
          },
          "metadata": {
            "tags": []
          }
        }
      ]
    },
    {
      "cell_type": "code",
      "metadata": {
        "id": "EEHszVRvGyFt",
        "outputId": "532f2b56-816d-4c83-ac18-ba2be4e03e0a",
        "colab": {
          "base_uri": "https://localhost:8080/",
          "height": 111
        }
      },
      "source": [
        "learn.fit_one_cycle(2, slice(2e-3/100, 2e-3))"
      ],
      "execution_count": 33,
      "outputs": [
        {
          "output_type": "display_data",
          "data": {
            "text/html": [
              "<table border=\"1\" class=\"dataframe\">\n",
              "  <thead>\n",
              "    <tr style=\"text-align: left;\">\n",
              "      <th>epoch</th>\n",
              "      <th>train_loss</th>\n",
              "      <th>valid_loss</th>\n",
              "      <th>accuracy</th>\n",
              "      <th>time</th>\n",
              "    </tr>\n",
              "  </thead>\n",
              "  <tbody>\n",
              "    <tr>\n",
              "      <td>0</td>\n",
              "      <td>0.817250</td>\n",
              "      <td>1.440826</td>\n",
              "      <td>0.756066</td>\n",
              "      <td>03:20</td>\n",
              "    </tr>\n",
              "    <tr>\n",
              "      <td>1</td>\n",
              "      <td>0.686628</td>\n",
              "      <td>1.405276</td>\n",
              "      <td>0.770115</td>\n",
              "      <td>03:31</td>\n",
              "    </tr>\n",
              "  </tbody>\n",
              "</table>"
            ],
            "text/plain": [
              "<IPython.core.display.HTML object>"
            ]
          },
          "metadata": {
            "tags": []
          }
        }
      ]
    },
    {
      "cell_type": "code",
      "metadata": {
        "id": "XsHfrhCHG3dN",
        "outputId": "17819e89-b2c4-4d5d-cb50-a1ef080bd7a8",
        "colab": {
          "base_uri": "https://localhost:8080/",
          "height": 173
        }
      },
      "source": [
        "learn.fit_one_cycle(4, slice(2e-3/100, 2e-3))"
      ],
      "execution_count": 34,
      "outputs": [
        {
          "output_type": "display_data",
          "data": {
            "text/html": [
              "<table border=\"1\" class=\"dataframe\">\n",
              "  <thead>\n",
              "    <tr style=\"text-align: left;\">\n",
              "      <th>epoch</th>\n",
              "      <th>train_loss</th>\n",
              "      <th>valid_loss</th>\n",
              "      <th>accuracy</th>\n",
              "      <th>time</th>\n",
              "    </tr>\n",
              "  </thead>\n",
              "  <tbody>\n",
              "    <tr>\n",
              "      <td>0</td>\n",
              "      <td>0.638303</td>\n",
              "      <td>1.387661</td>\n",
              "      <td>0.768838</td>\n",
              "      <td>03:23</td>\n",
              "    </tr>\n",
              "    <tr>\n",
              "      <td>1</td>\n",
              "      <td>0.691848</td>\n",
              "      <td>1.325558</td>\n",
              "      <td>0.767561</td>\n",
              "      <td>03:21</td>\n",
              "    </tr>\n",
              "    <tr>\n",
              "      <td>2</td>\n",
              "      <td>0.548026</td>\n",
              "      <td>1.289205</td>\n",
              "      <td>0.779055</td>\n",
              "      <td>03:16</td>\n",
              "    </tr>\n",
              "    <tr>\n",
              "      <td>3</td>\n",
              "      <td>0.495838</td>\n",
              "      <td>1.288401</td>\n",
              "      <td>0.780332</td>\n",
              "      <td>03:28</td>\n",
              "    </tr>\n",
              "  </tbody>\n",
              "</table>"
            ],
            "text/plain": [
              "<IPython.core.display.HTML object>"
            ]
          },
          "metadata": {
            "tags": []
          }
        }
      ]
    },
    {
      "cell_type": "code",
      "metadata": {
        "id": "0Zsd99isb9EQ",
        "outputId": "58d0bad6-a533-43ea-d391-025e180b7bf8",
        "colab": {
          "base_uri": "https://localhost:8080/",
          "height": 173
        }
      },
      "source": [
        "learn.fit_one_cycle(4, slice(2e-3/100, 2e-3))"
      ],
      "execution_count": 35,
      "outputs": [
        {
          "output_type": "display_data",
          "data": {
            "text/html": [
              "<table border=\"1\" class=\"dataframe\">\n",
              "  <thead>\n",
              "    <tr style=\"text-align: left;\">\n",
              "      <th>epoch</th>\n",
              "      <th>train_loss</th>\n",
              "      <th>valid_loss</th>\n",
              "      <th>accuracy</th>\n",
              "      <th>time</th>\n",
              "    </tr>\n",
              "  </thead>\n",
              "  <tbody>\n",
              "    <tr>\n",
              "      <td>0</td>\n",
              "      <td>0.485811</td>\n",
              "      <td>1.269704</td>\n",
              "      <td>0.773946</td>\n",
              "      <td>03:27</td>\n",
              "    </tr>\n",
              "    <tr>\n",
              "      <td>1</td>\n",
              "      <td>0.496900</td>\n",
              "      <td>1.250107</td>\n",
              "      <td>0.790549</td>\n",
              "      <td>03:28</td>\n",
              "    </tr>\n",
              "    <tr>\n",
              "      <td>2</td>\n",
              "      <td>0.407843</td>\n",
              "      <td>1.223432</td>\n",
              "      <td>0.794381</td>\n",
              "      <td>03:21</td>\n",
              "    </tr>\n",
              "    <tr>\n",
              "      <td>3</td>\n",
              "      <td>0.383848</td>\n",
              "      <td>1.207308</td>\n",
              "      <td>0.798212</td>\n",
              "      <td>03:23</td>\n",
              "    </tr>\n",
              "  </tbody>\n",
              "</table>"
            ],
            "text/plain": [
              "<IPython.core.display.HTML object>"
            ]
          },
          "metadata": {
            "tags": []
          }
        }
      ]
    },
    {
      "cell_type": "code",
      "metadata": {
        "id": "atNWNKDFPbuI",
        "outputId": "f742d7eb-7d12-4fdf-f4a1-9fd895c2e050",
        "colab": {
          "base_uri": "https://localhost:8080/",
          "height": 173
        }
      },
      "source": [
        "learn.fit_one_cycle(4, slice(2e-3/100, 2e-3))"
      ],
      "execution_count": 36,
      "outputs": [
        {
          "output_type": "display_data",
          "data": {
            "text/html": [
              "<table border=\"1\" class=\"dataframe\">\n",
              "  <thead>\n",
              "    <tr style=\"text-align: left;\">\n",
              "      <th>epoch</th>\n",
              "      <th>train_loss</th>\n",
              "      <th>valid_loss</th>\n",
              "      <th>accuracy</th>\n",
              "      <th>time</th>\n",
              "    </tr>\n",
              "  </thead>\n",
              "  <tbody>\n",
              "    <tr>\n",
              "      <td>0</td>\n",
              "      <td>0.379511</td>\n",
              "      <td>1.243762</td>\n",
              "      <td>0.787995</td>\n",
              "      <td>03:29</td>\n",
              "    </tr>\n",
              "    <tr>\n",
              "      <td>1</td>\n",
              "      <td>0.406528</td>\n",
              "      <td>1.211863</td>\n",
              "      <td>0.798212</td>\n",
              "      <td>03:24</td>\n",
              "    </tr>\n",
              "    <tr>\n",
              "      <td>2</td>\n",
              "      <td>0.366092</td>\n",
              "      <td>1.174982</td>\n",
              "      <td>0.805875</td>\n",
              "      <td>03:27</td>\n",
              "    </tr>\n",
              "    <tr>\n",
              "      <td>3</td>\n",
              "      <td>0.324833</td>\n",
              "      <td>1.181068</td>\n",
              "      <td>0.803321</td>\n",
              "      <td>03:19</td>\n",
              "    </tr>\n",
              "  </tbody>\n",
              "</table>"
            ],
            "text/plain": [
              "<IPython.core.display.HTML object>"
            ]
          },
          "metadata": {
            "tags": []
          }
        }
      ]
    },
    {
      "cell_type": "code",
      "metadata": {
        "id": "rKrBTZ0T1uVA",
        "outputId": "07b6cba4-0ea6-4753-a24a-799921443bc5",
        "colab": {
          "base_uri": "https://localhost:8080/",
          "height": 173
        }
      },
      "source": [
        "learn.fit_one_cycle(4, slice(2e-3/100, 2e-3))"
      ],
      "execution_count": 37,
      "outputs": [
        {
          "output_type": "display_data",
          "data": {
            "text/html": [
              "<table border=\"1\" class=\"dataframe\">\n",
              "  <thead>\n",
              "    <tr style=\"text-align: left;\">\n",
              "      <th>epoch</th>\n",
              "      <th>train_loss</th>\n",
              "      <th>valid_loss</th>\n",
              "      <th>accuracy</th>\n",
              "      <th>time</th>\n",
              "    </tr>\n",
              "  </thead>\n",
              "  <tbody>\n",
              "    <tr>\n",
              "      <td>0</td>\n",
              "      <td>0.301621</td>\n",
              "      <td>1.249485</td>\n",
              "      <td>0.805875</td>\n",
              "      <td>03:21</td>\n",
              "    </tr>\n",
              "    <tr>\n",
              "      <td>1</td>\n",
              "      <td>0.317255</td>\n",
              "      <td>1.223269</td>\n",
              "      <td>0.807152</td>\n",
              "      <td>03:14</td>\n",
              "    </tr>\n",
              "    <tr>\n",
              "      <td>2</td>\n",
              "      <td>0.301103</td>\n",
              "      <td>1.205282</td>\n",
              "      <td>0.813538</td>\n",
              "      <td>03:25</td>\n",
              "    </tr>\n",
              "    <tr>\n",
              "      <td>3</td>\n",
              "      <td>0.242671</td>\n",
              "      <td>1.145550</td>\n",
              "      <td>0.818646</td>\n",
              "      <td>03:18</td>\n",
              "    </tr>\n",
              "  </tbody>\n",
              "</table>"
            ],
            "text/plain": [
              "<IPython.core.display.HTML object>"
            ]
          },
          "metadata": {
            "tags": []
          }
        }
      ]
    },
    {
      "cell_type": "code",
      "metadata": {
        "id": "ajQC6WDg1yA9",
        "outputId": "2f5b36f8-5e31-4edb-95c7-f313abe21306",
        "colab": {
          "base_uri": "https://localhost:8080/",
          "height": 173
        }
      },
      "source": [
        "learn.fit_one_cycle(4, slice(2e-3/100, 2e-3))"
      ],
      "execution_count": 38,
      "outputs": [
        {
          "output_type": "display_data",
          "data": {
            "text/html": [
              "<table border=\"1\" class=\"dataframe\">\n",
              "  <thead>\n",
              "    <tr style=\"text-align: left;\">\n",
              "      <th>epoch</th>\n",
              "      <th>train_loss</th>\n",
              "      <th>valid_loss</th>\n",
              "      <th>accuracy</th>\n",
              "      <th>time</th>\n",
              "    </tr>\n",
              "  </thead>\n",
              "  <tbody>\n",
              "    <tr>\n",
              "      <td>0</td>\n",
              "      <td>0.247926</td>\n",
              "      <td>1.215848</td>\n",
              "      <td>0.814815</td>\n",
              "      <td>03:07</td>\n",
              "    </tr>\n",
              "    <tr>\n",
              "      <td>1</td>\n",
              "      <td>0.312597</td>\n",
              "      <td>1.245695</td>\n",
              "      <td>0.813538</td>\n",
              "      <td>03:13</td>\n",
              "    </tr>\n",
              "    <tr>\n",
              "      <td>2</td>\n",
              "      <td>0.266767</td>\n",
              "      <td>1.156368</td>\n",
              "      <td>0.819923</td>\n",
              "      <td>03:27</td>\n",
              "    </tr>\n",
              "    <tr>\n",
              "      <td>3</td>\n",
              "      <td>0.223806</td>\n",
              "      <td>1.185154</td>\n",
              "      <td>0.814815</td>\n",
              "      <td>03:15</td>\n",
              "    </tr>\n",
              "  </tbody>\n",
              "</table>"
            ],
            "text/plain": [
              "<IPython.core.display.HTML object>"
            ]
          },
          "metadata": {
            "tags": []
          }
        }
      ]
    },
    {
      "cell_type": "code",
      "metadata": {
        "id": "KKydb0B4BKGk",
        "outputId": "45ca4590-2771-41de-9b59-39563471a004",
        "colab": {
          "base_uri": "https://localhost:8080/",
          "height": 173
        }
      },
      "source": [
        "learn.fit_one_cycle(4, slice(2e-3/100, 2e-3))"
      ],
      "execution_count": 39,
      "outputs": [
        {
          "output_type": "display_data",
          "data": {
            "text/html": [
              "<table border=\"1\" class=\"dataframe\">\n",
              "  <thead>\n",
              "    <tr style=\"text-align: left;\">\n",
              "      <th>epoch</th>\n",
              "      <th>train_loss</th>\n",
              "      <th>valid_loss</th>\n",
              "      <th>accuracy</th>\n",
              "      <th>time</th>\n",
              "    </tr>\n",
              "  </thead>\n",
              "  <tbody>\n",
              "    <tr>\n",
              "      <td>0</td>\n",
              "      <td>0.229915</td>\n",
              "      <td>1.181428</td>\n",
              "      <td>0.818646</td>\n",
              "      <td>03:10</td>\n",
              "    </tr>\n",
              "    <tr>\n",
              "      <td>1</td>\n",
              "      <td>0.250928</td>\n",
              "      <td>1.233149</td>\n",
              "      <td>0.821200</td>\n",
              "      <td>03:21</td>\n",
              "    </tr>\n",
              "    <tr>\n",
              "      <td>2</td>\n",
              "      <td>0.237366</td>\n",
              "      <td>1.191327</td>\n",
              "      <td>0.828863</td>\n",
              "      <td>03:16</td>\n",
              "    </tr>\n",
              "    <tr>\n",
              "      <td>3</td>\n",
              "      <td>0.223426</td>\n",
              "      <td>1.234331</td>\n",
              "      <td>0.826309</td>\n",
              "      <td>03:23</td>\n",
              "    </tr>\n",
              "  </tbody>\n",
              "</table>"
            ],
            "text/plain": [
              "<IPython.core.display.HTML object>"
            ]
          },
          "metadata": {
            "tags": []
          }
        }
      ]
    },
    {
      "cell_type": "code",
      "metadata": {
        "id": "T2APKtFKBpGY",
        "outputId": "86643ac7-6317-4a08-c100-eda739fba30a",
        "colab": {
          "base_uri": "https://localhost:8080/",
          "height": 173
        }
      },
      "source": [
        "learn.fit_one_cycle(4, slice(2e-3/100, 2e-3))"
      ],
      "execution_count": 40,
      "outputs": [
        {
          "output_type": "display_data",
          "data": {
            "text/html": [
              "<table border=\"1\" class=\"dataframe\">\n",
              "  <thead>\n",
              "    <tr style=\"text-align: left;\">\n",
              "      <th>epoch</th>\n",
              "      <th>train_loss</th>\n",
              "      <th>valid_loss</th>\n",
              "      <th>accuracy</th>\n",
              "      <th>time</th>\n",
              "    </tr>\n",
              "  </thead>\n",
              "  <tbody>\n",
              "    <tr>\n",
              "      <td>0</td>\n",
              "      <td>0.212314</td>\n",
              "      <td>1.268261</td>\n",
              "      <td>0.816092</td>\n",
              "      <td>03:14</td>\n",
              "    </tr>\n",
              "    <tr>\n",
              "      <td>1</td>\n",
              "      <td>0.266536</td>\n",
              "      <td>1.274817</td>\n",
              "      <td>0.813538</td>\n",
              "      <td>03:16</td>\n",
              "    </tr>\n",
              "    <tr>\n",
              "      <td>2</td>\n",
              "      <td>0.215977</td>\n",
              "      <td>1.266836</td>\n",
              "      <td>0.816092</td>\n",
              "      <td>03:16</td>\n",
              "    </tr>\n",
              "    <tr>\n",
              "      <td>3</td>\n",
              "      <td>0.212514</td>\n",
              "      <td>1.236207</td>\n",
              "      <td>0.825032</td>\n",
              "      <td>03:20</td>\n",
              "    </tr>\n",
              "  </tbody>\n",
              "</table>"
            ],
            "text/plain": [
              "<IPython.core.display.HTML object>"
            ]
          },
          "metadata": {
            "tags": []
          }
        }
      ]
    },
    {
      "cell_type": "code",
      "metadata": {
        "id": "qtTypA1sPgLU",
        "outputId": "3cb621d3-91d6-4678-ce79-317dfbdb5cfe",
        "colab": {
          "base_uri": "https://localhost:8080/",
          "height": 111
        }
      },
      "source": [
        "learn.fit_one_cycle(2, slice(2e-3/100, 2e-3))"
      ],
      "execution_count": 41,
      "outputs": [
        {
          "output_type": "display_data",
          "data": {
            "text/html": [
              "<table border=\"1\" class=\"dataframe\">\n",
              "  <thead>\n",
              "    <tr style=\"text-align: left;\">\n",
              "      <th>epoch</th>\n",
              "      <th>train_loss</th>\n",
              "      <th>valid_loss</th>\n",
              "      <th>accuracy</th>\n",
              "      <th>time</th>\n",
              "    </tr>\n",
              "  </thead>\n",
              "  <tbody>\n",
              "    <tr>\n",
              "      <td>0</td>\n",
              "      <td>0.211010</td>\n",
              "      <td>1.313161</td>\n",
              "      <td>0.825032</td>\n",
              "      <td>03:18</td>\n",
              "    </tr>\n",
              "    <tr>\n",
              "      <td>1</td>\n",
              "      <td>0.192818</td>\n",
              "      <td>1.187958</td>\n",
              "      <td>0.831418</td>\n",
              "      <td>03:32</td>\n",
              "    </tr>\n",
              "  </tbody>\n",
              "</table>"
            ],
            "text/plain": [
              "<IPython.core.display.HTML object>"
            ]
          },
          "metadata": {
            "tags": []
          }
        }
      ]
    },
    {
      "cell_type": "code",
      "metadata": {
        "id": "b242kBsTUp9Y",
        "outputId": "5eb7a257-68b6-4eba-e357-e1313556d759",
        "colab": {
          "base_uri": "https://localhost:8080/",
          "height": 111
        }
      },
      "source": [
        "learn.fit_one_cycle(2, slice(2e-3/100, 2e-3))"
      ],
      "execution_count": 42,
      "outputs": [
        {
          "output_type": "display_data",
          "data": {
            "text/html": [
              "<table border=\"1\" class=\"dataframe\">\n",
              "  <thead>\n",
              "    <tr style=\"text-align: left;\">\n",
              "      <th>epoch</th>\n",
              "      <th>train_loss</th>\n",
              "      <th>valid_loss</th>\n",
              "      <th>accuracy</th>\n",
              "      <th>time</th>\n",
              "    </tr>\n",
              "  </thead>\n",
              "  <tbody>\n",
              "    <tr>\n",
              "      <td>0</td>\n",
              "      <td>0.194002</td>\n",
              "      <td>1.288214</td>\n",
              "      <td>0.825032</td>\n",
              "      <td>03:18</td>\n",
              "    </tr>\n",
              "    <tr>\n",
              "      <td>1</td>\n",
              "      <td>0.201552</td>\n",
              "      <td>1.207439</td>\n",
              "      <td>0.833972</td>\n",
              "      <td>03:12</td>\n",
              "    </tr>\n",
              "  </tbody>\n",
              "</table>"
            ],
            "text/plain": [
              "<IPython.core.display.HTML object>"
            ]
          },
          "metadata": {
            "tags": []
          }
        }
      ]
    },
    {
      "cell_type": "code",
      "metadata": {
        "id": "Duwf1Ih5VeDZ",
        "outputId": "beed64ab-491b-4c3f-faf9-0e157e099644",
        "colab": {
          "base_uri": "https://localhost:8080/",
          "height": 80
        }
      },
      "source": [
        "learn.fit_one_cycle(1, slice(2e-3/100, 2e-3))"
      ],
      "execution_count": 43,
      "outputs": [
        {
          "output_type": "display_data",
          "data": {
            "text/html": [
              "<table border=\"1\" class=\"dataframe\">\n",
              "  <thead>\n",
              "    <tr style=\"text-align: left;\">\n",
              "      <th>epoch</th>\n",
              "      <th>train_loss</th>\n",
              "      <th>valid_loss</th>\n",
              "      <th>accuracy</th>\n",
              "      <th>time</th>\n",
              "    </tr>\n",
              "  </thead>\n",
              "  <tbody>\n",
              "    <tr>\n",
              "      <td>0</td>\n",
              "      <td>0.196627</td>\n",
              "      <td>1.247636</td>\n",
              "      <td>0.818646</td>\n",
              "      <td>03:14</td>\n",
              "    </tr>\n",
              "  </tbody>\n",
              "</table>"
            ],
            "text/plain": [
              "<IPython.core.display.HTML object>"
            ]
          },
          "metadata": {
            "tags": []
          }
        }
      ]
    },
    {
      "cell_type": "code",
      "metadata": {
        "id": "c65d-osfDUXm"
      },
      "source": [
        "# save the best model\n",
        "\n",
        "learn.save_encoder('pubmed_cadec_askpatient_mixed_fold5')"
      ],
      "execution_count": 44,
      "outputs": []
    },
    {
      "cell_type": "markdown",
      "metadata": {
        "id": "rCwZU0E2RgM6"
      },
      "source": [
        "# Part three: Predict on the test dataset"
      ]
    },
    {
      "cell_type": "code",
      "metadata": {
        "id": "gDm72c-dOu7d",
        "outputId": "7b6f4050-e86e-4d32-97cd-af4710bddb88",
        "colab": {
          "base_uri": "https://localhost:8080/",
          "height": 17
        }
      },
      "source": [
        "# use the test data for prediction\n",
        "\n",
        "preds, y = learn.get_preds(DatasetType.Test)"
      ],
      "execution_count": 45,
      "outputs": [
        {
          "output_type": "display_data",
          "data": {
            "text/html": [
              ""
            ],
            "text/plain": [
              "<IPython.core.display.HTML object>"
            ]
          },
          "metadata": {
            "tags": []
          }
        }
      ]
    },
    {
      "cell_type": "code",
      "metadata": {
        "id": "6tFSQcsWPvxn",
        "outputId": "c82a16f7-959c-46d6-a29d-735196d37902",
        "colab": {
          "base_uri": "https://localhost:8080/",
          "height": 105
        }
      },
      "source": [
        "predictions, *_ = learn.get_preds(DatasetType.Test)\n",
        "labels = np.argmax(predictions, 1)\n",
        "predict_list = labels.tolist()\n",
        "standard_list = test[0].tolist()\n",
        "\n",
        "print(len(predict_list))\n",
        "print(len(standard_list))\n",
        "\n",
        "print(predict_list)\n",
        "print(standard_list)"
      ],
      "execution_count": 46,
      "outputs": [
        {
          "output_type": "display_data",
          "data": {
            "text/html": [
              ""
            ],
            "text/plain": [
              "<IPython.core.display.HTML object>"
            ]
          },
          "metadata": {
            "tags": []
          }
        },
        {
          "output_type": "stream",
          "text": [
            "866\n",
            "866\n",
            "[0, 433, 2, 182, 211, 8, 8, 8, 327, 16, 16, 16, 19, 27, 318, 27, 382, 34, 34, 197, 37, 37, 37, 37, 37, 37, 871, 48, 480, 558, 49, 49, 49, 100, 53, 53, 53, 577, 29, 198, 198, 71, 71, 71, 71, 129, 209, 864, 79, 195, 79, 79, 79, 79, 79, 79, 79, 79, 79, 79, 79, 79, 79, 79, 79, 79, 79, 79, 79, 79, 79, 79, 79, 79, 79, 79, 79, 79, 79, 79, 79, 79, 79, 79, 79, 79, 80, 80, 300, 83, 733, 66, 92, 94, 94, 94, 94, 94, 94, 95, 96, 14, 96, 98, 100, 100, 100, 100, 100, 100, 100, 100, 402, 103, 808, 886, 107, 107, 108, 108, 108, 111, 730, 465, 111, 111, 111, 111, 182, 111, 99, 119, 122, 632, 122, 122, 125, 990, 125, 125, 125, 125, 125, 125, 135, 483, 137, 137, 344, 148, 503, 151, 157, 865, 732, 96, 166, 166, 166, 171, 172, 172, 289, 172, 172, 172, 172, 172, 172, 172, 173, 173, 173, 696, 632, 165, 181, 181, 182, 182, 183, 183, 183, 183, 183, 183, 183, 183, 184, 187, 187, 190, 190, 190, 190, 190, 188, 190, 190, 190, 190, 190, 190, 129, 193, 196, 197, 197, 197, 197, 197, 202, 202, 205, 209, 210, 210, 211, 211, 214, 214, 214, 214, 214, 214, 214, 214, 214, 214, 214, 214, 214, 214, 214, 214, 214, 265, 578, 214, 236, 214, 214, 214, 216, 98, 218, 103, 220, 588, 228, 289, 228, 228, 228, 228, 228, 228, 228, 228, 228, 228, 542, 234, 235, 236, 702, 402, 34, 739, 238, 238, 198, 1031, 243, 243, 243, 243, 243, 243, 243, 243, 243, 298, 244, 765, 245, 245, 245, 245, 245, 245, 246, 246, 246, 254, 728, 746, 441, 258, 264, 265, 265, 265, 265, 265, 265, 265, 265, 265, 265, 265, 265, 265, 265, 265, 265, 265, 265, 265, 265, 265, 240, 265, 898, 250, 268, 137, 125, 269, 645, 861, 753, 279, 280, 859, 281, 281, 283, 728, 289, 704, 228, 79, 146, 289, 741, 289, 289, 289, 289, 289, 289, 289, 289, 289, 741, 614, 301, 301, 216, 265, 309, 309, 309, 309, 309, 321, 313, 313, 318, 318, 130, 318, 322, 732, 993, 993, 993, 993, 993, 878, 326, 329, 329, 100, 334, 336, 337, 342, 342, 342, 342, 127, 343, 344, 364, 359, 359, 359, 363, 363, 364, 364, 664, 228, 391, 396, 396, 397, 402, 401, 402, 402, 416, 408, 408, 408, 408, 408, 412, 847, 415, 652, 419, 704, 419, 419, 419, 419, 419, 419, 419, 419, 424, 426, 426, 785, 427, 427, 427, 427, 427, 427, 427, 436, 436, 427, 427, 427, 430, 61, 434, 435, 437, 443, 444, 445, 446, 454, 455, 240, 1031, 455, 455, 455, 455, 455, 455, 455, 458, 458, 460, 462, 873, 470, 474, 475, 475, 475, 476, 479, 73, 484, 484, 326, 491, 491, 491, 491, 62, 662, 994, 495, 226, 499, 499, 344, 503, 509, 509, 269, 517, 517, 517, 517, 517, 656, 524, 990, 530, 133, 530, 530, 530, 531, 320, 644, 532, 541, 545, 545, 545, 764, 548, 549, 553, 567, 572, 861, 568, 578, 579, 31, 31, 590, 590, 591, 591, 592, 592, 535, 597, 427, 198, 597, 597, 502, 198, 462, 326, 326, 7, 611, 614, 614, 614, 614, 619, 619, 528, 623, 623, 623, 623, 638, 643, 646, 646, 646, 646, 646, 1026, 172, 652, 652, 652, 652, 659, 660, 265, 662, 662, 663, 666, 666, 170, 686, 693, 129, 698, 696, 703, 265, 677, 707, 710, 106, 711, 711, 711, 714, 716, 801, 743, 727, 739, 37, 741, 746, 405, 746, 532, 749, 861, 753, 753, 753, 753, 753, 677, 644, 9, 338, 775, 769, 772, 775, 775, 775, 775, 775, 775, 775, 778, 779, 780, 783, 847, 886, 798, 416, 802, 803, 804, 319, 555, 810, 806, 183, 809, 809, 809, 810, 810, 817, 73, 825, 826, 719, 830, 830, 830, 830, 830, 830, 853, 736, 834, 632, 312, 841, 841, 891, 844, 595, 846, 847, 847, 847, 852, 853, 853, 853, 853, 198, 179, 663, 865, 877, 884, 887, 510, 896, 896, 896, 896, 896, 896, 896, 897, 897, 645, 363, 904, 898, 7, 919, 921, 7, 927, 933, 937, 937, 937, 937, 937, 940, 948, 948, 972, 949, 949, 949, 949, 949, 949, 949, 949, 949, 949, 949, 949, 949, 949, 949, 949, 949, 949, 949, 949, 949, 949, 949, 949, 949, 949, 949, 949, 949, 949, 949, 949, 949, 949, 949, 949, 949, 949, 949, 949, 949, 949, 949, 949, 949, 949, 949, 949, 949, 949, 949, 949, 949, 949, 949, 949, 949, 949, 949, 949, 949, 949, 949, 949, 949, 949, 949, 949, 949, 949, 949, 949, 949, 949, 949, 949, 949, 949, 949, 949, 949, 949, 949, 949, 949, 949, 949, 949, 949, 949, 949, 949, 949, 949, 949, 949, 949, 949, 949, 949, 949, 949, 950, 950, 950, 950, 950, 952, 953, 955, 956, 959, 960, 964, 964, 971, 974, 976, 976, 1031, 981, 964, 985, 992, 992, 622, 999, 179, 1019, 1026, 1001, 1004, 1016, 1016, 275, 132, 1026, 1028, 1028, 1029, 1029, 1031, 1031, 1032, 1035, 1035]\n",
            "[0, 0, 2, 2, 2, 8, 8, 8, 8, 16, 16, 16, 19, 27, 27, 27, 33, 34, 34, 34, 37, 37, 37, 37, 37, 37, 38, 48, 49, 49, 49, 49, 49, 49, 53, 53, 53, 58, 62, 67, 68, 71, 71, 71, 71, 73, 76, 79, 79, 79, 79, 79, 79, 79, 79, 79, 79, 79, 79, 79, 79, 79, 79, 79, 79, 79, 79, 79, 79, 79, 79, 79, 79, 79, 79, 79, 79, 79, 79, 79, 79, 79, 79, 79, 79, 79, 80, 80, 80, 83, 88, 88, 92, 94, 94, 94, 94, 94, 94, 95, 96, 96, 96, 98, 100, 100, 100, 100, 100, 100, 100, 100, 100, 103, 104, 107, 107, 107, 108, 108, 108, 111, 111, 111, 111, 111, 111, 111, 111, 111, 114, 119, 122, 122, 122, 122, 125, 125, 125, 125, 125, 125, 125, 125, 135, 135, 137, 137, 144, 148, 148, 151, 157, 159, 163, 163, 166, 166, 166, 171, 172, 172, 172, 172, 172, 172, 172, 172, 172, 172, 173, 173, 173, 173, 173, 178, 181, 181, 182, 182, 183, 183, 183, 183, 183, 183, 183, 183, 184, 187, 187, 190, 190, 190, 190, 190, 190, 190, 190, 190, 190, 190, 190, 190, 193, 196, 197, 197, 197, 197, 197, 202, 202, 205, 209, 210, 210, 211, 211, 214, 214, 214, 214, 214, 214, 214, 214, 214, 214, 214, 214, 214, 214, 214, 214, 214, 214, 214, 214, 214, 214, 214, 214, 216, 217, 218, 220, 220, 220, 228, 228, 228, 228, 228, 228, 228, 228, 228, 228, 228, 228, 231, 234, 235, 236, 236, 236, 237, 237, 238, 238, 243, 243, 243, 243, 243, 243, 243, 243, 243, 243, 243, 243, 244, 245, 245, 245, 245, 245, 245, 245, 246, 246, 246, 254, 254, 257, 258, 258, 264, 265, 265, 265, 265, 265, 265, 265, 265, 265, 265, 265, 265, 265, 265, 265, 265, 265, 265, 265, 265, 265, 265, 265, 265, 265, 268, 268, 269, 269, 273, 274, 279, 279, 280, 280, 281, 281, 283, 286, 289, 289, 289, 289, 289, 289, 289, 289, 289, 289, 289, 289, 289, 289, 289, 289, 289, 289, 301, 301, 309, 309, 309, 309, 309, 309, 309, 311, 313, 313, 318, 318, 318, 318, 322, 325, 325, 325, 325, 325, 325, 325, 326, 329, 329, 331, 334, 336, 337, 342, 342, 342, 342, 343, 343, 344, 345, 359, 359, 359, 363, 363, 364, 364, 378, 381, 391, 396, 396, 397, 399, 401, 402, 402, 408, 408, 408, 408, 408, 408, 412, 415, 415, 419, 419, 419, 419, 419, 419, 419, 419, 419, 419, 419, 424, 426, 426, 427, 427, 427, 427, 427, 427, 427, 427, 427, 427, 427, 427, 427, 430, 430, 434, 435, 437, 443, 444, 445, 446, 454, 455, 455, 455, 455, 455, 455, 455, 455, 455, 455, 458, 458, 460, 462, 468, 470, 474, 475, 475, 475, 476, 479, 480, 484, 484, 487, 491, 491, 491, 491, 491, 491, 495, 495, 499, 499, 499, 502, 503, 509, 509, 512, 517, 517, 517, 517, 517, 522, 524, 527, 530, 530, 530, 530, 530, 531, 531, 532, 532, 541, 545, 545, 545, 547, 548, 549, 553, 567, 572, 574, 578, 578, 579, 584, 584, 590, 590, 591, 591, 592, 592, 595, 597, 597, 597, 597, 597, 598, 600, 605, 610, 610, 611, 611, 614, 614, 614, 614, 619, 619, 623, 623, 623, 623, 623, 638, 643, 646, 646, 646, 646, 646, 646, 651, 652, 652, 652, 652, 659, 660, 660, 662, 662, 664, 666, 666, 683, 686, 693, 698, 698, 702, 703, 704, 706, 707, 710, 710, 711, 711, 711, 714, 715, 719, 720, 727, 739, 741, 741, 746, 746, 746, 747, 749, 750, 753, 753, 753, 753, 753, 754, 755, 760, 768, 771, 771, 773, 775, 775, 775, 775, 775, 775, 775, 778, 779, 780, 783, 794, 795, 798, 801, 802, 803, 804, 804, 805, 806, 806, 809, 809, 809, 809, 810, 810, 817, 822, 825, 826, 827, 830, 830, 830, 830, 830, 830, 830, 831, 834, 836, 839, 841, 841, 842, 844, 845, 846, 847, 847, 847, 852, 853, 853, 853, 853, 853, 853, 861, 865, 877, 884, 887, 894, 896, 896, 896, 896, 896, 896, 896, 896, 896, 896, 896, 904, 905, 915, 919, 919, 926, 927, 933, 937, 937, 937, 937, 937, 940, 948, 948, 949, 949, 949, 949, 949, 949, 949, 949, 949, 949, 949, 949, 949, 949, 949, 949, 949, 949, 949, 949, 949, 949, 949, 949, 949, 949, 949, 949, 949, 949, 949, 949, 949, 949, 949, 949, 949, 949, 949, 949, 949, 949, 949, 949, 949, 949, 949, 949, 949, 949, 949, 949, 949, 949, 949, 949, 949, 949, 949, 949, 949, 949, 949, 949, 949, 949, 949, 949, 949, 949, 949, 949, 949, 949, 949, 949, 949, 949, 949, 949, 949, 949, 949, 949, 949, 949, 949, 949, 949, 949, 949, 949, 949, 949, 949, 949, 949, 949, 949, 949, 949, 949, 949, 950, 950, 950, 950, 950, 952, 953, 955, 956, 959, 960, 964, 964, 971, 974, 976, 976, 979, 981, 987, 990, 992, 992, 993, 999, 999, 999, 999, 1001, 1004, 1016, 1016, 1016, 1021, 1026, 1028, 1028, 1029, 1029, 1031, 1031, 1032, 1035, 1035]\n"
          ],
          "name": "stdout"
        }
      ]
    },
    {
      "cell_type": "code",
      "metadata": {
        "id": "XIC4zufnMxtq",
        "outputId": "968c15dd-ef1e-43b0-8e94-2965120852f7",
        "colab": {
          "base_uri": "https://localhost:8080/",
          "height": 51
        }
      },
      "source": [
        "correct_num = 0\n",
        "\n",
        "for i in range(0, len(standard_list)):\n",
        "  if predict_list[i] == standard_list[i]:\n",
        "    correct_num = correct_num+1\n",
        "  else:\n",
        "    pass\n",
        "print(correct_num)\n",
        "\n",
        "predict_accuracy = correct_num/len(predict_list)\n",
        "print(predict_accuracy)"
      ],
      "execution_count": 47,
      "outputs": [
        {
          "output_type": "stream",
          "text": [
            "669\n",
            "0.7725173210161663\n"
          ],
          "name": "stdout"
        }
      ]
    },
    {
      "cell_type": "code",
      "metadata": {
        "id": "zlKMHp1CIaRJ"
      },
      "source": [
        ""
      ],
      "execution_count": 47,
      "outputs": []
    }
  ]
}