{
  "nbformat": 4,
  "nbformat_minor": 0,
  "metadata": {
    "accelerator": "TPU",
    "colab": {
      "name": "bigtweet_ask_06.ipynb",
      "provenance": [],
      "collapsed_sections": [],
      "include_colab_link": true
    },
    "kernelspec": {
      "display_name": "Python 3",
      "name": "python3"
    }
  },
  "cells": [
    {
      "cell_type": "markdown",
      "metadata": {
        "id": "view-in-github",
        "colab_type": "text"
      },
      "source": [
        "<a href=\"https://colab.research.google.com/github/unt-iialab/medical-concept-normalization/blob/master/medical-concept-normalization/fine-tuning-experiments/askpatient/bigtweet_ask_06.ipynb\" target=\"_parent\"><img src=\"https://colab.research.google.com/assets/colab-badge.svg\" alt=\"Open In Colab\"/></a>"
      ]
    },
    {
      "cell_type": "code",
      "metadata": {
        "id": "adSi6i2-dWxy"
      },
      "source": [
        "import os"
      ],
      "execution_count": null,
      "outputs": []
    },
    {
      "cell_type": "code",
      "metadata": {
        "id": "E7xYCRGPjd9B"
      },
      "source": [
        "base_dir = 'medical-concept-normalization'"
      ],
      "execution_count": null,
      "outputs": []
    },
    {
      "cell_type": "code",
      "metadata": {
        "id": "yvIW3aUDjYNS"
      },
      "source": [
        "os.mkdir(base_dir)"
      ],
      "execution_count": null,
      "outputs": []
    },
    {
      "cell_type": "code",
      "metadata": {
        "id": "es-FFLlfk6SG"
      },
      "source": [
        "os.mkdir('medical-concept-normalization/data_collection')"
      ],
      "execution_count": null,
      "outputs": []
    },
    {
      "cell_type": "markdown",
      "metadata": {
        "id": "0R-Guw_VoJXm"
      },
      "source": [
        "**Install fastai and clone the fastai for text classification**\n",
        "\n"
      ]
    },
    {
      "cell_type": "code",
      "metadata": {
        "id": "QVZa3Z0PmHFH",
        "outputId": "062c84f7-d504-4c84-b331-abbd0c43db20",
        "colab": {
          "base_uri": "https://localhost:8080/"
        }
      },
      "source": [
        "!curl https://course-v3.fast.ai/setup/colab | bash"
      ],
      "execution_count": null,
      "outputs": [
        {
          "output_type": "stream",
          "text": [
            "  % Total    % Received % Xferd  Average Speed   Time    Time     Time  Current\n",
            "                                 Dload  Upload   Total   Spent    Left  Speed\n",
            "\r  0     0    0     0    0     0      0      0 --:--:-- --:--:-- --:--:--     0curl: (6) Could not resolve host: course-v3.fast.ai\n"
          ],
          "name": "stdout"
        }
      ]
    },
    {
      "cell_type": "code",
      "metadata": {
        "id": "_FBFFEBrmJC0",
        "outputId": "4ddfcef4-e73b-48ae-e9ae-71380b07877a",
        "colab": {
          "base_uri": "https://localhost:8080/"
        }
      },
      "source": [
        "!git clone https://github.com/wshuyi/demo-nlp-classification-fastai.git"
      ],
      "execution_count": null,
      "outputs": [
        {
          "output_type": "stream",
          "text": [
            "Cloning into 'demo-nlp-classification-fastai'...\n",
            "remote: Enumerating objects: 9, done.\u001b[K\n",
            "remote: Total 9 (delta 0), reused 0 (delta 0), pack-reused 9\u001b[K\n",
            "Unpacking objects: 100% (9/9), done.\n"
          ],
          "name": "stdout"
        }
      ]
    },
    {
      "cell_type": "code",
      "metadata": {
        "id": "66zfh_JqmWMU"
      },
      "source": [
        "from fastai import *\n",
        "from fastai.text import *"
      ],
      "execution_count": null,
      "outputs": []
    },
    {
      "cell_type": "markdown",
      "metadata": {
        "id": "mNIw-yALdBU9"
      },
      "source": [
        "**Set the path of the data collections**"
      ]
    },
    {
      "cell_type": "code",
      "metadata": {
        "id": "pzH7VMh4mqCL"
      },
      "source": [
        "path = Path('medical-concept-normalization/data_collection')"
      ],
      "execution_count": null,
      "outputs": []
    },
    {
      "cell_type": "code",
      "metadata": {
        "id": "b8fjI6yyn4aS"
      },
      "source": [
        "# training data set\n",
        "\n",
        "train_csv = path/'AskAPatient.fold-6.train.csv'\n",
        "train = pd.read_csv(train_csv, header=None)\n",
        "#train.head()\n",
        "#train.info()"
      ],
      "execution_count": null,
      "outputs": []
    },
    {
      "cell_type": "code",
      "metadata": {
        "id": "Hmlr-bAorfHd",
        "outputId": "3608eae3-0d16-46c2-b7e5-1a4b5ac7197c",
        "colab": {
          "base_uri": "https://localhost:8080/",
          "height": 204
        }
      },
      "source": [
        "# validating data set\n",
        "\n",
        "valid = pd.read_csv(path/\"AskAPatient.fold-6.validation.csv\",header=None)\n",
        "valid.head()"
      ],
      "execution_count": null,
      "outputs": [
        {
          "output_type": "execute_result",
          "data": {
            "text/html": [
              "<div>\n",
              "<style scoped>\n",
              "    .dataframe tbody tr th:only-of-type {\n",
              "        vertical-align: middle;\n",
              "    }\n",
              "\n",
              "    .dataframe tbody tr th {\n",
              "        vertical-align: top;\n",
              "    }\n",
              "\n",
              "    .dataframe thead th {\n",
              "        text-align: right;\n",
              "    }\n",
              "</style>\n",
              "<table border=\"1\" class=\"dataframe\">\n",
              "  <thead>\n",
              "    <tr style=\"text-align: right;\">\n",
              "      <th></th>\n",
              "      <th>0</th>\n",
              "      <th>1</th>\n",
              "    </tr>\n",
              "  </thead>\n",
              "  <tbody>\n",
              "    <tr>\n",
              "      <th>0</th>\n",
              "      <td>2</td>\n",
              "      <td>heel pain</td>\n",
              "    </tr>\n",
              "    <tr>\n",
              "      <th>1</th>\n",
              "      <td>2</td>\n",
              "      <td>heels hurt</td>\n",
              "    </tr>\n",
              "    <tr>\n",
              "      <th>2</th>\n",
              "      <td>4</td>\n",
              "      <td>black and blue marks</td>\n",
              "    </tr>\n",
              "    <tr>\n",
              "      <th>3</th>\n",
              "      <td>5</td>\n",
              "      <td>fast and slow heartbeat</td>\n",
              "    </tr>\n",
              "    <tr>\n",
              "      <th>4</th>\n",
              "      <td>5</td>\n",
              "      <td>increased heart rate</td>\n",
              "    </tr>\n",
              "  </tbody>\n",
              "</table>\n",
              "</div>"
            ],
            "text/plain": [
              "   0                        1\n",
              "0  2                heel pain\n",
              "1  2               heels hurt\n",
              "2  4     black and blue marks\n",
              "3  5  fast and slow heartbeat\n",
              "4  5     increased heart rate"
            ]
          },
          "metadata": {
            "tags": []
          },
          "execution_count": 11
        }
      ]
    },
    {
      "cell_type": "code",
      "metadata": {
        "id": "cOza9dfSsBud",
        "outputId": "90e56d96-ef41-4a37-a3fd-f2bb93788677",
        "colab": {
          "base_uri": "https://localhost:8080/",
          "height": 204
        }
      },
      "source": [
        "# testing data set\n",
        "\n",
        "test = pd.read_csv(path/\"AskAPatient.fold-6.test.csv\",header=None)\n",
        "test.head()"
      ],
      "execution_count": null,
      "outputs": [
        {
          "output_type": "execute_result",
          "data": {
            "text/html": [
              "<div>\n",
              "<style scoped>\n",
              "    .dataframe tbody tr th:only-of-type {\n",
              "        vertical-align: middle;\n",
              "    }\n",
              "\n",
              "    .dataframe tbody tr th {\n",
              "        vertical-align: top;\n",
              "    }\n",
              "\n",
              "    .dataframe thead th {\n",
              "        text-align: right;\n",
              "    }\n",
              "</style>\n",
              "<table border=\"1\" class=\"dataframe\">\n",
              "  <thead>\n",
              "    <tr style=\"text-align: right;\">\n",
              "      <th></th>\n",
              "      <th>0</th>\n",
              "      <th>1</th>\n",
              "    </tr>\n",
              "  </thead>\n",
              "  <tbody>\n",
              "    <tr>\n",
              "      <th>0</th>\n",
              "      <td>2</td>\n",
              "      <td>left heel pain</td>\n",
              "    </tr>\n",
              "    <tr>\n",
              "      <th>1</th>\n",
              "      <td>5</td>\n",
              "      <td>tachycardia</td>\n",
              "    </tr>\n",
              "    <tr>\n",
              "      <th>2</th>\n",
              "      <td>8</td>\n",
              "      <td>ARTHRITIS</td>\n",
              "    </tr>\n",
              "    <tr>\n",
              "      <th>3</th>\n",
              "      <td>8</td>\n",
              "      <td>arthrites</td>\n",
              "    </tr>\n",
              "    <tr>\n",
              "      <th>4</th>\n",
              "      <td>8</td>\n",
              "      <td>arthritis</td>\n",
              "    </tr>\n",
              "  </tbody>\n",
              "</table>\n",
              "</div>"
            ],
            "text/plain": [
              "   0               1\n",
              "0  2  left heel pain\n",
              "1  5     tachycardia\n",
              "2  8       ARTHRITIS\n",
              "3  8       arthrites\n",
              "4  8       arthritis"
            ]
          },
          "metadata": {
            "tags": []
          },
          "execution_count": 12
        }
      ]
    },
    {
      "cell_type": "code",
      "metadata": {
        "id": "Vo-YNvVYoaH6",
        "outputId": "fbf8d550-d7d3-421f-9009-691cd0ebbf3b",
        "colab": {
          "base_uri": "https://localhost:8080/",
          "height": 17
        }
      },
      "source": [
        "# Creating DataBunch for language modelling\n",
        "\n",
        "data_lm = TextLMDataBunch.from_csv(path, 'bigtweet_ask.csv')"
      ],
      "execution_count": null,
      "outputs": [
        {
          "output_type": "display_data",
          "data": {
            "text/html": [
              ""
            ],
            "text/plain": [
              "<IPython.core.display.HTML object>"
            ]
          },
          "metadata": {
            "tags": []
          }
        },
        {
          "output_type": "display_data",
          "data": {
            "text/html": [
              ""
            ],
            "text/plain": [
              "<IPython.core.display.HTML object>"
            ]
          },
          "metadata": {
            "tags": []
          }
        }
      ]
    },
    {
      "cell_type": "code",
      "metadata": {
        "id": "qcV-9kMnNLBf"
      },
      "source": [
        ""
      ],
      "execution_count": null,
      "outputs": []
    },
    {
      "cell_type": "code",
      "metadata": {
        "id": "1ScY9afDsnvE"
      },
      "source": [
        "# Creating DataBunch for classification\n",
        "\n",
        "# data_clas = TextClasDataBunch.from_df(path, train, valid, test, vocab=data_lm.train_ds.vocab, bs=128)"
      ],
      "execution_count": null,
      "outputs": []
    },
    {
      "cell_type": "code",
      "metadata": {
        "id": "gzrSdQcvey9p",
        "outputId": "92c4ce72-041e-4b14-f6d0-01c2a7723550",
        "colab": {
          "base_uri": "https://localhost:8080/",
          "height": 17
        }
      },
      "source": [
        "data_clas = TextClasDataBunch.from_df(path, train, valid, vocab=data_lm.train_ds.vocab, bs=128)"
      ],
      "execution_count": null,
      "outputs": [
        {
          "output_type": "display_data",
          "data": {
            "text/html": [
              ""
            ],
            "text/plain": [
              "<IPython.core.display.HTML object>"
            ]
          },
          "metadata": {
            "tags": []
          }
        },
        {
          "output_type": "display_data",
          "data": {
            "text/html": [
              ""
            ],
            "text/plain": [
              "<IPython.core.display.HTML object>"
            ]
          },
          "metadata": {
            "tags": []
          }
        }
      ]
    },
    {
      "cell_type": "code",
      "metadata": {
        "id": "MD27Tf0Ke3ou",
        "outputId": "99b4aa5c-ec27-48f6-aa35-001feb410299",
        "colab": {
          "base_uri": "https://localhost:8080/",
          "height": 17
        }
      },
      "source": [
        "data_clas.add_test(test,label=0)\n"
      ],
      "execution_count": null,
      "outputs": [
        {
          "output_type": "display_data",
          "data": {
            "text/html": [
              ""
            ],
            "text/plain": [
              "<IPython.core.display.HTML object>"
            ]
          },
          "metadata": {
            "tags": []
          }
        }
      ]
    },
    {
      "cell_type": "code",
      "metadata": {
        "id": "-dpjnk_rstwk"
      },
      "source": [
        "data_lm.save()\n",
        "data_clas.save()"
      ],
      "execution_count": null,
      "outputs": []
    },
    {
      "cell_type": "code",
      "metadata": {
        "id": "4OkiJa36sw5s",
        "outputId": "ec8e4252-dc64-4dba-bf88-5aec02957b99",
        "colab": {
          "base_uri": "https://localhost:8080/"
        }
      },
      "source": [
        "data_lm.train_ds.vocab.itos"
      ],
      "execution_count": null,
      "outputs": [
        {
          "output_type": "execute_result",
          "data": {
            "text/plain": [
              "['xxunk',\n",
              " 'xxpad',\n",
              " 'xxbos',\n",
              " 'xxeos',\n",
              " 'xxfld',\n",
              " 'xxmaj',\n",
              " 'xxup',\n",
              " 'xxrep',\n",
              " 'xxwrep',\n",
              " 'pain',\n",
              " 'lipitor',\n",
              " 'in',\n",
              " 'of',\n",
              " 'muscle',\n",
              " 'to',\n",
              " 'the',\n",
              " 'severe',\n",
              " 'and',\n",
              " 'my',\n",
              " 'myalgia',\n",
              " 'rt',\n",
              " 'fatigue',\n",
              " 'a',\n",
              " 'lower',\n",
              " 'loss',\n",
              " 'cramp',\n",
              " 'limb',\n",
              " 'weakness',\n",
              " 'for',\n",
              " 'stomach',\n",
              " 'disease',\n",
              " 'depression',\n",
              " '-',\n",
              " 'back',\n",
              " 'on',\n",
              " 'cramps',\n",
              " 'gas',\n",
              " 'is',\n",
              " 'upper',\n",
              " 'joint',\n",
              " 'memory',\n",
              " 'leg',\n",
              " 'you',\n",
              " 'legs',\n",
              " 'pains',\n",
              " 'i',\n",
              " 'headache',\n",
              " 'with',\n",
              " 'unable',\n",
              " 'shoulder',\n",
              " 'arthralgia',\n",
              " 'knee',\n",
              " 'neck',\n",
              " 'excessive',\n",
              " 'foot',\n",
              " 'aches',\n",
              " 'amp',\n",
              " 'gastrointestinal',\n",
              " 'hip',\n",
              " 'numbness',\n",
              " 'arthritis',\n",
              " 'not',\n",
              " 'all',\n",
              " 'insomnia',\n",
              " '/',\n",
              " 'like',\n",
              " 'gluten',\n",
              " 'arthrotec',\n",
              " 'tired',\n",
              " 'asthenia',\n",
              " 'nausea',\n",
              " 'bleeding',\n",
              " 'walk',\n",
              " 'abdominal',\n",
              " 'heart',\n",
              " 'feeling',\n",
              " 'walking',\n",
              " 'problems',\n",
              " 'dizziness',\n",
              " 'difficulty',\n",
              " 'feet',\n",
              " 'swelling',\n",
              " 'chest',\n",
              " 'muscles',\n",
              " 'hand',\n",
              " 'hair',\n",
              " 'backache',\n",
              " 'at',\n",
              " 'ache',\n",
              " 'extreme',\n",
              " 'burning',\n",
              " 'vision',\n",
              " 'could',\n",
              " 'your',\n",
              " 'zocor',\n",
              " 'stiffness',\n",
              " 'out',\n",
              " 'it',\n",
              " 'free',\n",
              " 'pins',\n",
              " 'needles',\n",
              " 'are',\n",
              " 'increased',\n",
              " 'can',\n",
              " 'diarrhoea',\n",
              " 'sleep',\n",
              " 'cramping',\n",
              " 'have',\n",
              " 'up',\n",
              " 'very',\n",
              " 'right',\n",
              " 'amnesia',\n",
              " 'skin',\n",
              " 'liver',\n",
              " 'blood',\n",
              " 'anxiety',\n",
              " 'from',\n",
              " 'or',\n",
              " 'calf',\n",
              " 'disability',\n",
              " 'impairment',\n",
              " 'cholesterol',\n",
              " 'left',\n",
              " 'new',\n",
              " 'weight',\n",
              " 'tingling',\n",
              " 'symptom',\n",
              " 'stiff',\n",
              " 'about',\n",
              " 'do',\n",
              " 'this',\n",
              " 'lack',\n",
              " 'nt',\n",
              " 'constipation',\n",
              " 'bloating',\n",
              " 'short',\n",
              " 'glutenfree',\n",
              " 'low',\n",
              " 'what',\n",
              " 'our',\n",
              " 'high',\n",
              " 'term',\n",
              " 'celiac',\n",
              " 'disorder',\n",
              " 'neuropathy',\n",
              " 'headaches',\n",
              " 'be',\n",
              " 'hands',\n",
              " 'arm',\n",
              " 'poor',\n",
              " 'was',\n",
              " 'voltaren',\n",
              " 'sore',\n",
              " 'that',\n",
              " 'balance',\n",
              " 'blurred',\n",
              " 'so',\n",
              " 'arms',\n",
              " 'get',\n",
              " 'tiredness',\n",
              " 'body',\n",
              " 'now',\n",
              " 'time',\n",
              " 'ankle',\n",
              " 'pressure',\n",
              " 'pravachol',\n",
              " 'rash',\n",
              " 'myositis',\n",
              " 'acid',\n",
              " 'joints',\n",
              " 'infarction',\n",
              " 'hurt',\n",
              " 'by',\n",
              " 'atrophy',\n",
              " 'vertigo',\n",
              " 'myocardial',\n",
              " 'vaginal',\n",
              " 'attack',\n",
              " 'itching',\n",
              " 'mentally',\n",
              " 'swollen',\n",
              " 'sensation',\n",
              " 'generalised',\n",
              " 'we',\n",
              " 'more',\n",
              " 'how',\n",
              " 'food',\n",
              " 'upset',\n",
              " 'energy',\n",
              " ')',\n",
              " \"'s\",\n",
              " 'ubidecarenone',\n",
              " 'diabetes',\n",
              " ',',\n",
              " \"n't\",\n",
              " 'diarrhea',\n",
              " 'illness',\n",
              " 'feel',\n",
              " 'raised',\n",
              " 'via',\n",
              " 'painful',\n",
              " 'gain',\n",
              " 'weak',\n",
              " 'dull',\n",
              " 'constant',\n",
              " 'dry',\n",
              " 'its',\n",
              " 'bad',\n",
              " 'shoulders',\n",
              " 'no',\n",
              " '(',\n",
              " 'hazy',\n",
              " 'spasm',\n",
              " 'as',\n",
              " 'elbow',\n",
              " 'damage',\n",
              " 'use',\n",
              " 'influenza',\n",
              " 'me',\n",
              " 'tip',\n",
              " 'reduced',\n",
              " 'sleeping',\n",
              " 'if',\n",
              " 'tendonitis',\n",
              " 'diet',\n",
              " 'symptoms',\n",
              " 'visual',\n",
              " 'exhaustion',\n",
              " 'crestor',\n",
              " 'both',\n",
              " 'has',\n",
              " 'knees',\n",
              " 'w',\n",
              " 'libido',\n",
              " 'heavy',\n",
              " 'problem',\n",
              " 'reflux',\n",
              " 'movement',\n",
              " 'thigh',\n",
              " 'spasms',\n",
              " 'just',\n",
              " 'think',\n",
              " 'toe',\n",
              " 'dblclick',\n",
              " 'mood',\n",
              " 'products',\n",
              " 'irritable',\n",
              " 'syndrome',\n",
              " 'myopathy',\n",
              " 'elevated',\n",
              " 'flatulence',\n",
              " 'concentrate',\n",
              " 'pic',\n",
              " 'abnormal',\n",
              " 'sclerosis',\n",
              " 'discomfort',\n",
              " 'throat',\n",
              " 'kidney',\n",
              " 'fibromyalgia',\n",
              " 'why',\n",
              " 'bed',\n",
              " 'chronic',\n",
              " 'flu',\n",
              " 'check',\n",
              " 'lightheadedness',\n",
              " 'serum',\n",
              " 'over',\n",
              " 'vomiting',\n",
              " 'brain',\n",
              " 'here',\n",
              " 'review',\n",
              " 'disturbance',\n",
              " 'had',\n",
              " 'know',\n",
              " 'cold',\n",
              " 'type',\n",
              " 'sweating',\n",
              " 'appetite',\n",
              " 'mellitus',\n",
              " 'malaise',\n",
              " 'love',\n",
              " 'hips',\n",
              " 'when',\n",
              " 'confusion',\n",
              " 'urine',\n",
              " 'menstrual',\n",
              " 'simvastatin',\n",
              " 'off',\n",
              " 'head',\n",
              " 'wind',\n",
              " 'tremor',\n",
              " 'eat',\n",
              " 'aching',\n",
              " 'concentration',\n",
              " 'tinnitus',\n",
              " 'esters',\n",
              " 'swings',\n",
              " 'eye',\n",
              " 'post',\n",
              " 'calves',\n",
              " 'soreness',\n",
              " 'intolerance',\n",
              " 'finger',\n",
              " 'peripheral',\n",
              " 'stairs',\n",
              " 'ezetimibe',\n",
              " 'celebrex',\n",
              " 'renal',\n",
              " 'paraesthesia',\n",
              " 'm',\n",
              " 'impaired',\n",
              " 'make',\n",
              " 'injury',\n",
              " 'help',\n",
              " 'failure',\n",
              " 'motivation',\n",
              " 'ca',\n",
              " 'one',\n",
              " 's',\n",
              " 'ascorbic',\n",
              " 'an',\n",
              " 'toes',\n",
              " 'gfb',\n",
              " 'going',\n",
              " 're',\n",
              " '2',\n",
              " 'ankles',\n",
              " 'charleyhorse',\n",
              " 'but',\n",
              " 'indigestion',\n",
              " 'dyspnoea',\n",
              " 'thanks',\n",
              " 'mild',\n",
              " 'dark',\n",
              " 'who',\n",
              " 'face',\n",
              " 'tendon',\n",
              " 'ibuprofen',\n",
              " 'great',\n",
              " 'parkinson',\n",
              " 'acute',\n",
              " 'restless',\n",
              " 'swallowing',\n",
              " 'hot',\n",
              " 'decreased',\n",
              " 'will',\n",
              " 'c',\n",
              " 'down',\n",
              " 'heel',\n",
              " 'night',\n",
              " '1',\n",
              " 'cough',\n",
              " 'getting',\n",
              " 'excruciating',\n",
              " 'intense',\n",
              " 'recipe',\n",
              " 'palpitations',\n",
              " 'posted',\n",
              " 'fingers',\n",
              " 'some',\n",
              " 'lupus',\n",
              " 'felt',\n",
              " 'always',\n",
              " 'being',\n",
              " 'day',\n",
              " '30',\n",
              " 'migraine',\n",
              " 'depressed',\n",
              " 'lateral',\n",
              " 'speech',\n",
              " 'read',\n",
              " 'general',\n",
              " 'twitch',\n",
              " 'may',\n",
              " 'life',\n",
              " 'multiple',\n",
              " 'stress',\n",
              " 'breathing',\n",
              " 'heres',\n",
              " 'gout',\n",
              " 'they',\n",
              " 'eyes',\n",
              " 'enzymes',\n",
              " 'menopause',\n",
              " 'infection',\n",
              " 'tightness',\n",
              " 'limbs',\n",
              " '\\r \\n ',\n",
              " 'us',\n",
              " 'living',\n",
              " 'advil',\n",
              " 'oil',\n",
              " 'test',\n",
              " 'tips',\n",
              " 'trouble',\n",
              " 'does',\n",
              " 'taste',\n",
              " 'jennieo',\n",
              " 'sensitivity',\n",
              " 'people',\n",
              " 'need',\n",
              " 'dreams',\n",
              " 'wrist',\n",
              " 'drowsy',\n",
              " 'archives',\n",
              " 'there',\n",
              " 'mg',\n",
              " 'strength',\n",
              " 'provoked',\n",
              " 'fish',\n",
              " 'go',\n",
              " 'amyotrophic',\n",
              " 'nerve',\n",
              " '3',\n",
              " 'twitching',\n",
              " 'vitamin',\n",
              " 'mobility',\n",
              " 'heartburn',\n",
              " 'terrible',\n",
              " 'move',\n",
              " 'sinus',\n",
              " 'fenofibrate',\n",
              " 'should',\n",
              " 'big',\n",
              " 'clearly',\n",
              " 'nasal',\n",
              " 'did',\n",
              " 'mouth',\n",
              " 'bowel',\n",
              " 'level',\n",
              " 'fog',\n",
              " 'coq10',\n",
              " 'tylenol',\n",
              " 'chicken',\n",
              " 'thighs',\n",
              " 'plantar',\n",
              " 'urinary',\n",
              " 'aleve',\n",
              " '10',\n",
              " 'uterine',\n",
              " 'rheumatoid',\n",
              " 'function',\n",
              " 'sick',\n",
              " 'well',\n",
              " 'side',\n",
              " 'breath',\n",
              " 'ulcer',\n",
              " 'good',\n",
              " 'find',\n",
              " 'news',\n",
              " '+',\n",
              " 'diclofenac',\n",
              " 'take',\n",
              " 'facial',\n",
              " '5',\n",
              " 'accident',\n",
              " 'eating',\n",
              " '\\r \\n \\r \\n ',\n",
              " 'lost',\n",
              " 'ever',\n",
              " 'today',\n",
              " 'lethargy',\n",
              " 'elbows',\n",
              " 'fever',\n",
              " 'cerebrovascular',\n",
              " 'please',\n",
              " 'barely',\n",
              " 'slurred',\n",
              " 'share',\n",
              " 'ringing',\n",
              " 'loose',\n",
              " 'been',\n",
              " 'much',\n",
              " 'tight',\n",
              " 'horses',\n",
              " 'only',\n",
              " 'panic',\n",
              " 'those',\n",
              " 'hardly',\n",
              " 'thoughts',\n",
              " 'sharp',\n",
              " 'moody',\n",
              " 'numb',\n",
              " 'light',\n",
              " 'fatigued',\n",
              " 'malignant',\n",
              " 'issues',\n",
              " 'sugar',\n",
              " 'top',\n",
              " 'deep',\n",
              " 'things',\n",
              " 'best',\n",
              " 'paracetamol',\n",
              " 'happy',\n",
              " 'pizza',\n",
              " 'awareness',\n",
              " 'mental',\n",
              " 'article',\n",
              " 'blog',\n",
              " 'rhabdomyolysis',\n",
              " 'fasciitis',\n",
              " 'exercise',\n",
              " 'charley',\n",
              " 'drive',\n",
              " 'want',\n",
              " 'extremity',\n",
              " 'finding',\n",
              " 'colic',\n",
              " 'would',\n",
              " 'looks',\n",
              " 'even',\n",
              " 'week',\n",
              " 'difficult',\n",
              " 'pulse',\n",
              " 'oedema',\n",
              " 'liptor',\n",
              " 'present',\n",
              " 'patients',\n",
              " 'were',\n",
              " 'tract',\n",
              " 'too',\n",
              " 'pruritus',\n",
              " 'stamina',\n",
              " 'dr',\n",
              " 'eczema',\n",
              " 'achilles',\n",
              " 'tricor',\n",
              " 'got',\n",
              " 'every',\n",
              " 'hypertension',\n",
              " '4',\n",
              " 'congestion',\n",
              " 'hard',\n",
              " 'extremely',\n",
              " 'system',\n",
              " 'cancer',\n",
              " 'creatinine',\n",
              " 'started',\n",
              " 'hunger',\n",
              " 'sweats',\n",
              " 'zetia',\n",
              " 'cookbook',\n",
              " 'irregular',\n",
              " 'shortness',\n",
              " 'erythematosus',\n",
              " 'many',\n",
              " 'hypersomnia',\n",
              " 'norvasc',\n",
              " ':',\n",
              " 'ear',\n",
              " 'diagnosed',\n",
              " 'any',\n",
              " 'spasmodic',\n",
              " 'inflammatory',\n",
              " 'see',\n",
              " 'forgetful',\n",
              " 'major',\n",
              " 'between',\n",
              " 'sex',\n",
              " 'attacks',\n",
              " 'ability',\n",
              " 'als',\n",
              " 'around',\n",
              " 'first',\n",
              " 'tachycardia',\n",
              " 'area',\n",
              " 'still',\n",
              " 'sensations',\n",
              " 'their',\n",
              " 'show',\n",
              " 'asthma',\n",
              " 'than',\n",
              " 'osteoarthritis',\n",
              " 'dizzy',\n",
              " 'friends',\n",
              " 'try',\n",
              " 'neurontin',\n",
              " 'easy',\n",
              " 'went',\n",
              " 'flushing',\n",
              " 'nervous',\n",
              " 'inability',\n",
              " 'super',\n",
              " 'delicious',\n",
              " 'scalp',\n",
              " 'itchy',\n",
              " 'diagnosis',\n",
              " 'gf',\n",
              " 'region',\n",
              " 'soup',\n",
              " 'lopid',\n",
              " 'menorrhagia',\n",
              " 'natural',\n",
              " 'most',\n",
              " 'autographed',\n",
              " 'increase',\n",
              " 'zoloft',\n",
              " 'palsy',\n",
              " 'also',\n",
              " 'little',\n",
              " 'years',\n",
              " 'health',\n",
              " 'where',\n",
              " 'rapid',\n",
              " 'bursitis',\n",
              " 'inflammation',\n",
              " 'stool',\n",
              " 'prednisone',\n",
              " 'omega-3-acid',\n",
              " 'ethyl',\n",
              " 'esters-90',\n",
              " 'tension',\n",
              " 'learn',\n",
              " 'story',\n",
              " 'aptyalism',\n",
              " 'sense',\n",
              " 'bone',\n",
              " 'venous',\n",
              " '2014',\n",
              " 'frequent',\n",
              " 'study',\n",
              " 'lipex',\n",
              " 'foggy',\n",
              " 'u',\n",
              " 'support',\n",
              " 'respiratory',\n",
              " 'strain',\n",
              " 'atorvastatin',\n",
              " 'looking',\n",
              " 'bread',\n",
              " 'cpk',\n",
              " 'dysfunction',\n",
              " 'stand',\n",
              " 'wheat',\n",
              " 'safe',\n",
              " 'bell',\n",
              " 'hurts',\n",
              " 'morning',\n",
              " 'am',\n",
              " 'climb',\n",
              " '20',\n",
              " 'month',\n",
              " 'retention',\n",
              " 'lot',\n",
              " 'foods',\n",
              " 'able',\n",
              " 'rupture',\n",
              " 'healthy',\n",
              " 'ms',\n",
              " 'sight',\n",
              " 'long',\n",
              " 'periods',\n",
              " 'hungry',\n",
              " 'allergic',\n",
              " 'thank',\n",
              " 'stroke',\n",
              " 'really',\n",
              " 'abdomen',\n",
              " 'delusional',\n",
              " 'allergy',\n",
              " 'horrible',\n",
              " 'rigidity',\n",
              " 'feels',\n",
              " 'death',\n",
              " 'heaviness',\n",
              " 'non',\n",
              " 'recipes',\n",
              " 'others',\n",
              " 'period',\n",
              " 'part',\n",
              " 'limping',\n",
              " 'everything',\n",
              " 'fast',\n",
              " 'unwell',\n",
              " 'forearm',\n",
              " 'bowl',\n",
              " 'empty',\n",
              " 'sudden',\n",
              " 'spotting',\n",
              " 'book',\n",
              " 'due',\n",
              " 'these',\n",
              " 'year',\n",
              " 'before',\n",
              " 'change',\n",
              " 'lift',\n",
              " 'reading',\n",
              " 'cortisone',\n",
              " 'stabbing',\n",
              " 'codeine',\n",
              " 'gastric',\n",
              " 'anything',\n",
              " 've',\n",
              " 'ears',\n",
              " 'coronary',\n",
              " 'slight',\n",
              " 'bruising',\n",
              " '&',\n",
              " 'coming',\n",
              " 'sexual',\n",
              " 'tolerance',\n",
              " 'falling',\n",
              " 'quinoa',\n",
              " 'nightmares',\n",
              " 'into',\n",
              " 'thinking',\n",
              " 'bp',\n",
              " 'became',\n",
              " 'suicidal',\n",
              " 'way',\n",
              " 'made',\n",
              " 'edema',\n",
              " 'then',\n",
              " 'linked',\n",
              " 'weird',\n",
              " 'self',\n",
              " 'giveaway',\n",
              " 'chocolate',\n",
              " 'inflamation',\n",
              " 'tablet',\n",
              " 'degenerative',\n",
              " 'co',\n",
              " 'generally',\n",
              " 'child',\n",
              " 'aphasia',\n",
              " 'gait',\n",
              " 'haematuria',\n",
              " 'his',\n",
              " 'list',\n",
              " 'diabetic',\n",
              " 'remember',\n",
              " 'info',\n",
              " 'paralysis',\n",
              " 'coeliac',\n",
              " 'blurry',\n",
              " 'after',\n",
              " 'gut',\n",
              " 'interesting',\n",
              " 'random',\n",
              " 'levels',\n",
              " 'kids',\n",
              " 'erythema',\n",
              " 'sun',\n",
              " 'own',\n",
              " 'through',\n",
              " 'diovan',\n",
              " 'rise',\n",
              " 'anger',\n",
              " 'chill',\n",
              " 'digestive',\n",
              " 'syncope',\n",
              " 'tunnel',\n",
              " 'rectal',\n",
              " 'live',\n",
              " 'sever',\n",
              " 'without',\n",
              " 'page',\n",
              " 'diagnose',\n",
              " 'bladder',\n",
              " 'muscular',\n",
              " 'endometriosis',\n",
              " 'america',\n",
              " 'drink',\n",
              " 'agitated',\n",
              " 'changes',\n",
              " 'whole',\n",
              " 'red',\n",
              " 'important',\n",
              " 'other',\n",
              " 'bloated',\n",
              " 'transient',\n",
              " 'worse',\n",
              " 'convention',\n",
              " 'disc',\n",
              " 'sunday',\n",
              " 'special',\n",
              " 'link',\n",
              " 'omega',\n",
              " 'carpal',\n",
              " 'menstruation',\n",
              " 'bakery',\n",
              " 'testosterone',\n",
              " 'interview',\n",
              " 'irritability',\n",
              " 'words',\n",
              " 'less',\n",
              " 'her',\n",
              " 'coated',\n",
              " 'options',\n",
              " 'ask',\n",
              " 'colitis',\n",
              " 'steatosis',\n",
              " 'headed',\n",
              " 'enough',\n",
              " 'cycle',\n",
              " 'overall',\n",
              " 'twitches',\n",
              " 'which',\n",
              " 'ached',\n",
              " 'musculoskeletal',\n",
              " 'muscels',\n",
              " 'allergies',\n",
              " 'paranoia',\n",
              " 'follow',\n",
              " 'uterus',\n",
              " 'menopausal',\n",
              " 'permanent',\n",
              " 'few',\n",
              " 'misoprostol',\n",
              " 'neuralgia',\n",
              " 'cake',\n",
              " 'risk',\n",
              " 'sweat',\n",
              " 'breast',\n",
              " 'ty',\n",
              " 'dehydration',\n",
              " 'bronchitis',\n",
              " 'hear',\n",
              " 'crying',\n",
              " 'choking',\n",
              " 'yes',\n",
              " 'ani',\n",
              " 'gfree',\n",
              " '-pelvis',\n",
              " 'talk',\n",
              " 'last',\n",
              " 'film',\n",
              " 'reasons',\n",
              " 'pancreatitis',\n",
              " 'come',\n",
              " 'unhappy',\n",
              " 'fatique',\n",
              " 'arthritic',\n",
              " 'sciatica',\n",
              " 'standing',\n",
              " 'better',\n",
              " 'sides',\n",
              " 'q10',\n",
              " 'haemorrhage',\n",
              " 'something',\n",
              " 'personality',\n",
              " 'interest',\n",
              " 'cause',\n",
              " 'breakfast',\n",
              " 'friendly',\n",
              " 'tender',\n",
              " 'disorientated',\n",
              " 'next',\n",
              " 'episode',\n",
              " 'circulation',\n",
              " 'tongue',\n",
              " 'someone',\n",
              " 'valentines',\n",
              " 'condition',\n",
              " 'lipidil',\n",
              " 'persistent',\n",
              " 'thoracic',\n",
              " 'spine',\n",
              " 'full',\n",
              " 'restaurants',\n",
              " 'sentence',\n",
              " 'intervertebral',\n",
              " 'rate',\n",
              " 'anyone',\n",
              " 'agony',\n",
              " 'never',\n",
              " 'start',\n",
              " 'chair',\n",
              " 'stools',\n",
              " 'bizarre',\n",
              " '100',\n",
              " 'menu',\n",
              " 'b',\n",
              " 'eyesight',\n",
              " 'cookies',\n",
              " 'glutened',\n",
              " 'hepatic',\n",
              " 'ribs',\n",
              " 'decrease',\n",
              " 'almost',\n",
              " 'morphine',\n",
              " 'fun',\n",
              " 'potassium',\n",
              " 'hey',\n",
              " 'drowsiness',\n",
              " 'limp',\n",
              " 'join',\n",
              " 'ideas',\n",
              " 'cataflam',\n",
              " 'keep',\n",
              " 'because',\n",
              " '2013',\n",
              " 'rice',\n",
              " 'eructation',\n",
              " 'hurting',\n",
              " 'fear',\n",
              " 'white',\n",
              " 'mobic',\n",
              " 'clumsiness',\n",
              " 'triglycerides',\n",
              " 'might',\n",
              " 'unbearable',\n",
              " 'matters',\n",
              " 'tremors',\n",
              " 'easily',\n",
              " 'restaurant',\n",
              " 'desire',\n",
              " 'ok',\n",
              " 'central',\n",
              " 'breaking',\n",
              " 'latest',\n",
              " 'infections',\n",
              " '40',\n",
              " 'intestinal',\n",
              " 'alzheimer',\n",
              " 'irritation',\n",
              " 'aspirin',\n",
              " 'awesome',\n",
              " 'contusion',\n",
              " 'lexapro',\n",
              " 'sensitive',\n",
              " 'pledge',\n",
              " 'lose',\n",
              " 'archive',\n",
              " 'forearms',\n",
              " 'market',\n",
              " 'mt',\n",
              " 'yellow',\n",
              " 'pinterest',\n",
              " 'affected',\n",
              " 'while',\n",
              " 'world',\n",
              " 'slow',\n",
              " 'cognition',\n",
              " 'autoimmune',\n",
              " 'makes',\n",
              " 'away',\n",
              " 'testing',\n",
              " 'muscel',\n",
              " 'look',\n",
              " 'hoarse',\n",
              " 'chills',\n",
              " 'hyperactive',\n",
              " 'reaction',\n",
              " 'ill',\n",
              " 'rhinitis',\n",
              " 'constantly',\n",
              " 'community',\n",
              " 'children',\n",
              " 'slightly',\n",
              " 'moodiness',\n",
              " 'tingly',\n",
              " 'creatine',\n",
              " 'run',\n",
              " '25',\n",
              " 'debilitating',\n",
              " 'wasting',\n",
              " 'expo',\n",
              " 'cook',\n",
              " 'wrists',\n",
              " 'cell',\n",
              " 'healthier',\n",
              " 'exhausted',\n",
              " 'lumbar',\n",
              " 'another',\n",
              " 'tenalgia',\n",
              " 'common',\n",
              " 'must',\n",
              " 'glucosamine',\n",
              " 'black',\n",
              " 'rib',\n",
              " 'sleeplessness',\n",
              " 'excited',\n",
              " 'dinner',\n",
              " 'undiagnosed',\n",
              " 'lead',\n",
              " 'vit',\n",
              " 'vague',\n",
              " 'alpha',\n",
              " 'tocopherol',\n",
              " 'weeks',\n",
              " 'tenderness',\n",
              " 'flour',\n",
              " 'sure',\n",
              " 'haematochezia',\n",
              " 'moderate',\n",
              " 'wrong',\n",
              " 'extra',\n",
              " 'tested',\n",
              " 'unsteady',\n",
              " 'neoplasm',\n",
              " 'medical',\n",
              " 'frozen',\n",
              " 'serious',\n",
              " '6',\n",
              " 'starting',\n",
              " 'density',\n",
              " 'falls',\n",
              " 'pravastatin',\n",
              " 'caused',\n",
              " ...]"
            ]
          },
          "metadata": {
            "tags": []
          },
          "execution_count": 18
        }
      ]
    },
    {
      "cell_type": "code",
      "metadata": {
        "id": "yPWr03mls3VT",
        "outputId": "d6bbefe2-f141-4b01-d6b6-b1fa237169e9",
        "colab": {
          "base_uri": "https://localhost:8080/",
          "height": 17
        }
      },
      "source": [
        "model_path = path/'models'\n",
        "model_path.mkdir(exist_ok=True)\n",
        "url = 'http://files.fast.ai/models/wt103_v1/'\n",
        "download_url(f'{url}lstm_wt103.pth', model_path/'lstm_wt103.pth')\n",
        "download_url(f'{url}itos_wt103.pkl', model_path/'itos_wt103.pkl')"
      ],
      "execution_count": null,
      "outputs": [
        {
          "output_type": "display_data",
          "data": {
            "text/html": [
              ""
            ],
            "text/plain": [
              "<IPython.core.display.HTML object>"
            ]
          },
          "metadata": {
            "tags": []
          }
        },
        {
          "output_type": "display_data",
          "data": {
            "text/html": [
              ""
            ],
            "text/plain": [
              "<IPython.core.display.HTML object>"
            ]
          },
          "metadata": {
            "tags": []
          }
        }
      ]
    },
    {
      "cell_type": "code",
      "metadata": {
        "id": "JRzvWg8RtGGr",
        "outputId": "08c1b1a4-8fce-44e5-c44e-7fba9372a2e6",
        "colab": {
          "base_uri": "https://localhost:8080/",
          "height": 34
        }
      },
      "source": [
        "learn = language_model_learner(data_lm, AWD_LSTM, drop_mult=0.5)"
      ],
      "execution_count": null,
      "outputs": [
        {
          "output_type": "stream",
          "text": [
            "Downloading https://s3.amazonaws.com/fast-ai-modelzoo/wt103-fwd.tgz\n"
          ],
          "name": "stdout"
        },
        {
          "output_type": "display_data",
          "data": {
            "text/html": [
              ""
            ],
            "text/plain": [
              "<IPython.core.display.HTML object>"
            ]
          },
          "metadata": {
            "tags": []
          }
        }
      ]
    },
    {
      "cell_type": "code",
      "metadata": {
        "id": "xKK7GeBev7Xn",
        "outputId": "0f55499e-f105-4897-a163-c865d0d5ff03",
        "colab": {
          "base_uri": "https://localhost:8080/",
          "height": 80
        }
      },
      "source": [
        "learn.fit_one_cycle(1, 1e-2)"
      ],
      "execution_count": null,
      "outputs": [
        {
          "output_type": "display_data",
          "data": {
            "text/html": [
              "<table border=\"1\" class=\"dataframe\">\n",
              "  <thead>\n",
              "    <tr style=\"text-align: left;\">\n",
              "      <th>epoch</th>\n",
              "      <th>train_loss</th>\n",
              "      <th>valid_loss</th>\n",
              "      <th>accuracy</th>\n",
              "      <th>time</th>\n",
              "    </tr>\n",
              "  </thead>\n",
              "  <tbody>\n",
              "    <tr>\n",
              "      <td>0</td>\n",
              "      <td>3.260208</td>\n",
              "      <td>2.750072</td>\n",
              "      <td>0.551292</td>\n",
              "      <td>19:32</td>\n",
              "    </tr>\n",
              "  </tbody>\n",
              "</table>"
            ],
            "text/plain": [
              "<IPython.core.display.HTML object>"
            ]
          },
          "metadata": {
            "tags": []
          }
        }
      ]
    },
    {
      "cell_type": "code",
      "metadata": {
        "id": "iB7rHGQCwd12"
      },
      "source": [
        "# learn.fit_one_cycle(1, 1e-2)"
      ],
      "execution_count": null,
      "outputs": []
    },
    {
      "cell_type": "code",
      "metadata": {
        "id": "_BnSuAeCwkBe"
      },
      "source": [
        "# learn.fit_one_cycle(1, 1e-3)"
      ],
      "execution_count": null,
      "outputs": []
    },
    {
      "cell_type": "code",
      "metadata": {
        "id": "MuTm-RFjwrEX",
        "outputId": "074d716d-b969-4b97-cfb5-87ee75333790",
        "colab": {
          "base_uri": "https://localhost:8080/",
          "height": 80
        }
      },
      "source": [
        "learn.fit_one_cycle(1, 1e-3)"
      ],
      "execution_count": null,
      "outputs": [
        {
          "output_type": "display_data",
          "data": {
            "text/html": [
              "<table border=\"1\" class=\"dataframe\">\n",
              "  <thead>\n",
              "    <tr style=\"text-align: left;\">\n",
              "      <th>epoch</th>\n",
              "      <th>train_loss</th>\n",
              "      <th>valid_loss</th>\n",
              "      <th>accuracy</th>\n",
              "      <th>time</th>\n",
              "    </tr>\n",
              "  </thead>\n",
              "  <tbody>\n",
              "    <tr>\n",
              "      <td>0</td>\n",
              "      <td>2.841858</td>\n",
              "      <td>2.697870</td>\n",
              "      <td>0.555993</td>\n",
              "      <td>19:28</td>\n",
              "    </tr>\n",
              "  </tbody>\n",
              "</table>"
            ],
            "text/plain": [
              "<IPython.core.display.HTML object>"
            ]
          },
          "metadata": {
            "tags": []
          }
        }
      ]
    },
    {
      "cell_type": "code",
      "metadata": {
        "id": "1Er2ExO8wr7Y"
      },
      "source": [
        "learn.save_encoder('bigtweet_ask_ask_fold6_first')"
      ],
      "execution_count": null,
      "outputs": []
    },
    {
      "cell_type": "code",
      "metadata": {
        "id": "z52cZs2qwvad",
        "outputId": "0525bc5b-81ca-46ac-e9fe-3a1006d0b0cf",
        "colab": {
          "base_uri": "https://localhost:8080/",
          "height": 80
        }
      },
      "source": [
        "learn = text_classifier_learner(data_clas,AWD_LSTM, drop_mult=0.5)\n",
        "learn.load_encoder('bigtweet_ask_ask_fold6_first')\n",
        "learn.fit_one_cycle(1, 1e-2)"
      ],
      "execution_count": null,
      "outputs": [
        {
          "output_type": "display_data",
          "data": {
            "text/html": [
              "<table border=\"1\" class=\"dataframe\">\n",
              "  <thead>\n",
              "    <tr style=\"text-align: left;\">\n",
              "      <th>epoch</th>\n",
              "      <th>train_loss</th>\n",
              "      <th>valid_loss</th>\n",
              "      <th>accuracy</th>\n",
              "      <th>time</th>\n",
              "    </tr>\n",
              "  </thead>\n",
              "  <tbody>\n",
              "    <tr>\n",
              "      <td>0</td>\n",
              "      <td>4.054873</td>\n",
              "      <td>3.783264</td>\n",
              "      <td>0.340909</td>\n",
              "      <td>01:10</td>\n",
              "    </tr>\n",
              "  </tbody>\n",
              "</table>"
            ],
            "text/plain": [
              "<IPython.core.display.HTML object>"
            ]
          },
          "metadata": {
            "tags": []
          }
        }
      ]
    },
    {
      "cell_type": "code",
      "metadata": {
        "id": "ImwQP1PJwzxd",
        "outputId": "73767125-6a12-4468-a45e-1efc24665bf5",
        "colab": {
          "base_uri": "https://localhost:8080/",
          "height": 80
        }
      },
      "source": [
        "learn.freeze_to(-2)\n",
        "learn.fit_one_cycle(1, slice(5e-3/2., 5e-3))"
      ],
      "execution_count": null,
      "outputs": [
        {
          "output_type": "display_data",
          "data": {
            "text/html": [
              "<table border=\"1\" class=\"dataframe\">\n",
              "  <thead>\n",
              "    <tr style=\"text-align: left;\">\n",
              "      <th>epoch</th>\n",
              "      <th>train_loss</th>\n",
              "      <th>valid_loss</th>\n",
              "      <th>accuracy</th>\n",
              "      <th>time</th>\n",
              "    </tr>\n",
              "  </thead>\n",
              "  <tbody>\n",
              "    <tr>\n",
              "      <td>0</td>\n",
              "      <td>3.001810</td>\n",
              "      <td>3.036321</td>\n",
              "      <td>0.475936</td>\n",
              "      <td>01:17</td>\n",
              "    </tr>\n",
              "  </tbody>\n",
              "</table>"
            ],
            "text/plain": [
              "<IPython.core.display.HTML object>"
            ]
          },
          "metadata": {
            "tags": []
          }
        }
      ]
    },
    {
      "cell_type": "code",
      "metadata": {
        "id": "Owff_BJXw53u",
        "outputId": "038ae20e-541d-42c3-eeff-ef30e449eb6f",
        "colab": {
          "base_uri": "https://localhost:8080/",
          "height": 80
        }
      },
      "source": [
        "learn.unfreeze()\n",
        "learn.fit_one_cycle(1, slice(2e-3/100, 2e-3))"
      ],
      "execution_count": null,
      "outputs": [
        {
          "output_type": "display_data",
          "data": {
            "text/html": [
              "<table border=\"1\" class=\"dataframe\">\n",
              "  <thead>\n",
              "    <tr style=\"text-align: left;\">\n",
              "      <th>epoch</th>\n",
              "      <th>train_loss</th>\n",
              "      <th>valid_loss</th>\n",
              "      <th>accuracy</th>\n",
              "      <th>time</th>\n",
              "    </tr>\n",
              "  </thead>\n",
              "  <tbody>\n",
              "    <tr>\n",
              "      <td>0</td>\n",
              "      <td>2.431617</td>\n",
              "      <td>2.620968</td>\n",
              "      <td>0.532086</td>\n",
              "      <td>03:13</td>\n",
              "    </tr>\n",
              "  </tbody>\n",
              "</table>"
            ],
            "text/plain": [
              "<IPython.core.display.HTML object>"
            ]
          },
          "metadata": {
            "tags": []
          }
        }
      ]
    },
    {
      "cell_type": "code",
      "metadata": {
        "id": "lqAyu56V8Waq",
        "outputId": "b41d07f6-38fc-4ce7-ef9a-18b44d44de87",
        "colab": {
          "base_uri": "https://localhost:8080/",
          "height": 111
        }
      },
      "source": [
        "learn.fit_one_cycle(2, slice(2e-3/100, 2e-3))"
      ],
      "execution_count": null,
      "outputs": [
        {
          "output_type": "display_data",
          "data": {
            "text/html": [
              "<table border=\"1\" class=\"dataframe\">\n",
              "  <thead>\n",
              "    <tr style=\"text-align: left;\">\n",
              "      <th>epoch</th>\n",
              "      <th>train_loss</th>\n",
              "      <th>valid_loss</th>\n",
              "      <th>accuracy</th>\n",
              "      <th>time</th>\n",
              "    </tr>\n",
              "  </thead>\n",
              "  <tbody>\n",
              "    <tr>\n",
              "      <td>0</td>\n",
              "      <td>2.063375</td>\n",
              "      <td>2.184874</td>\n",
              "      <td>0.604278</td>\n",
              "      <td>03:17</td>\n",
              "    </tr>\n",
              "    <tr>\n",
              "      <td>1</td>\n",
              "      <td>1.762692</td>\n",
              "      <td>1.993476</td>\n",
              "      <td>0.640374</td>\n",
              "      <td>03:30</td>\n",
              "    </tr>\n",
              "  </tbody>\n",
              "</table>"
            ],
            "text/plain": [
              "<IPython.core.display.HTML object>"
            ]
          },
          "metadata": {
            "tags": []
          }
        }
      ]
    },
    {
      "cell_type": "code",
      "metadata": {
        "id": "a7I1xMRp8bUd",
        "outputId": "757de036-febc-4c45-eee9-ce52eca1fa13",
        "colab": {
          "base_uri": "https://localhost:8080/",
          "height": 111
        }
      },
      "source": [
        "learn.fit_one_cycle(2, slice(2e-3/100, 2e-3))"
      ],
      "execution_count": null,
      "outputs": [
        {
          "output_type": "display_data",
          "data": {
            "text/html": [
              "<table border=\"1\" class=\"dataframe\">\n",
              "  <thead>\n",
              "    <tr style=\"text-align: left;\">\n",
              "      <th>epoch</th>\n",
              "      <th>train_loss</th>\n",
              "      <th>valid_loss</th>\n",
              "      <th>accuracy</th>\n",
              "      <th>time</th>\n",
              "    </tr>\n",
              "  </thead>\n",
              "  <tbody>\n",
              "    <tr>\n",
              "      <td>0</td>\n",
              "      <td>1.586507</td>\n",
              "      <td>1.816137</td>\n",
              "      <td>0.664438</td>\n",
              "      <td>03:08</td>\n",
              "    </tr>\n",
              "    <tr>\n",
              "      <td>1</td>\n",
              "      <td>1.372575</td>\n",
              "      <td>1.696053</td>\n",
              "      <td>0.692513</td>\n",
              "      <td>03:27</td>\n",
              "    </tr>\n",
              "  </tbody>\n",
              "</table>"
            ],
            "text/plain": [
              "<IPython.core.display.HTML object>"
            ]
          },
          "metadata": {
            "tags": []
          }
        }
      ]
    },
    {
      "cell_type": "code",
      "metadata": {
        "id": "UAnti-XmGVfO",
        "outputId": "33edd206-292d-49cc-bf5a-2e5a18439ea3",
        "colab": {
          "base_uri": "https://localhost:8080/",
          "height": 111
        }
      },
      "source": [
        "learn.fit_one_cycle(2, slice(2e-3/100, 2e-3))"
      ],
      "execution_count": null,
      "outputs": [
        {
          "output_type": "display_data",
          "data": {
            "text/html": [
              "<table border=\"1\" class=\"dataframe\">\n",
              "  <thead>\n",
              "    <tr style=\"text-align: left;\">\n",
              "      <th>epoch</th>\n",
              "      <th>train_loss</th>\n",
              "      <th>valid_loss</th>\n",
              "      <th>accuracy</th>\n",
              "      <th>time</th>\n",
              "    </tr>\n",
              "  </thead>\n",
              "  <tbody>\n",
              "    <tr>\n",
              "      <td>0</td>\n",
              "      <td>1.249641</td>\n",
              "      <td>1.564088</td>\n",
              "      <td>0.713904</td>\n",
              "      <td>03:21</td>\n",
              "    </tr>\n",
              "    <tr>\n",
              "      <td>1</td>\n",
              "      <td>1.118466</td>\n",
              "      <td>1.481499</td>\n",
              "      <td>0.727273</td>\n",
              "      <td>03:11</td>\n",
              "    </tr>\n",
              "  </tbody>\n",
              "</table>"
            ],
            "text/plain": [
              "<IPython.core.display.HTML object>"
            ]
          },
          "metadata": {
            "tags": []
          }
        }
      ]
    },
    {
      "cell_type": "code",
      "metadata": {
        "id": "bIft7W25GwSu",
        "outputId": "87979962-4965-41ad-eb16-f50261cd989a",
        "colab": {
          "base_uri": "https://localhost:8080/",
          "height": 111
        }
      },
      "source": [
        "learn.fit_one_cycle(2, slice(2e-3/100, 2e-3))"
      ],
      "execution_count": null,
      "outputs": [
        {
          "output_type": "display_data",
          "data": {
            "text/html": [
              "<table border=\"1\" class=\"dataframe\">\n",
              "  <thead>\n",
              "    <tr style=\"text-align: left;\">\n",
              "      <th>epoch</th>\n",
              "      <th>train_loss</th>\n",
              "      <th>valid_loss</th>\n",
              "      <th>accuracy</th>\n",
              "      <th>time</th>\n",
              "    </tr>\n",
              "  </thead>\n",
              "  <tbody>\n",
              "    <tr>\n",
              "      <td>0</td>\n",
              "      <td>1.016417</td>\n",
              "      <td>1.424529</td>\n",
              "      <td>0.741979</td>\n",
              "      <td>03:13</td>\n",
              "    </tr>\n",
              "    <tr>\n",
              "      <td>1</td>\n",
              "      <td>0.877735</td>\n",
              "      <td>1.349625</td>\n",
              "      <td>0.758021</td>\n",
              "      <td>03:16</td>\n",
              "    </tr>\n",
              "  </tbody>\n",
              "</table>"
            ],
            "text/plain": [
              "<IPython.core.display.HTML object>"
            ]
          },
          "metadata": {
            "tags": []
          }
        }
      ]
    },
    {
      "cell_type": "code",
      "metadata": {
        "id": "EEHszVRvGyFt",
        "outputId": "e22c78dd-f2da-425e-fbee-069cf87b094c",
        "colab": {
          "base_uri": "https://localhost:8080/",
          "height": 111
        }
      },
      "source": [
        "learn.fit_one_cycle(2, slice(2e-3/100, 2e-3))"
      ],
      "execution_count": null,
      "outputs": [
        {
          "output_type": "display_data",
          "data": {
            "text/html": [
              "<table border=\"1\" class=\"dataframe\">\n",
              "  <thead>\n",
              "    <tr style=\"text-align: left;\">\n",
              "      <th>epoch</th>\n",
              "      <th>train_loss</th>\n",
              "      <th>valid_loss</th>\n",
              "      <th>accuracy</th>\n",
              "      <th>time</th>\n",
              "    </tr>\n",
              "  </thead>\n",
              "  <tbody>\n",
              "    <tr>\n",
              "      <td>0</td>\n",
              "      <td>0.839912</td>\n",
              "      <td>1.264961</td>\n",
              "      <td>0.768717</td>\n",
              "      <td>03:17</td>\n",
              "    </tr>\n",
              "    <tr>\n",
              "      <td>1</td>\n",
              "      <td>0.744904</td>\n",
              "      <td>1.228769</td>\n",
              "      <td>0.768717</td>\n",
              "      <td>03:22</td>\n",
              "    </tr>\n",
              "  </tbody>\n",
              "</table>"
            ],
            "text/plain": [
              "<IPython.core.display.HTML object>"
            ]
          },
          "metadata": {
            "tags": []
          }
        }
      ]
    },
    {
      "cell_type": "code",
      "metadata": {
        "id": "XsHfrhCHG3dN",
        "outputId": "781ddb47-a8c8-4511-ff42-d0af6abb9d4e",
        "colab": {
          "base_uri": "https://localhost:8080/",
          "height": 173
        }
      },
      "source": [
        "learn.fit_one_cycle(4, slice(2e-3/100, 2e-3))"
      ],
      "execution_count": null,
      "outputs": [
        {
          "output_type": "display_data",
          "data": {
            "text/html": [
              "<table border=\"1\" class=\"dataframe\">\n",
              "  <thead>\n",
              "    <tr style=\"text-align: left;\">\n",
              "      <th>epoch</th>\n",
              "      <th>train_loss</th>\n",
              "      <th>valid_loss</th>\n",
              "      <th>accuracy</th>\n",
              "      <th>time</th>\n",
              "    </tr>\n",
              "  </thead>\n",
              "  <tbody>\n",
              "    <tr>\n",
              "      <td>0</td>\n",
              "      <td>0.663759</td>\n",
              "      <td>1.261686</td>\n",
              "      <td>0.774064</td>\n",
              "      <td>03:10</td>\n",
              "    </tr>\n",
              "    <tr>\n",
              "      <td>1</td>\n",
              "      <td>0.677763</td>\n",
              "      <td>1.175763</td>\n",
              "      <td>0.787433</td>\n",
              "      <td>03:19</td>\n",
              "    </tr>\n",
              "    <tr>\n",
              "      <td>2</td>\n",
              "      <td>0.596936</td>\n",
              "      <td>1.089170</td>\n",
              "      <td>0.795455</td>\n",
              "      <td>03:25</td>\n",
              "    </tr>\n",
              "    <tr>\n",
              "      <td>3</td>\n",
              "      <td>0.521178</td>\n",
              "      <td>1.086093</td>\n",
              "      <td>0.794118</td>\n",
              "      <td>03:12</td>\n",
              "    </tr>\n",
              "  </tbody>\n",
              "</table>"
            ],
            "text/plain": [
              "<IPython.core.display.HTML object>"
            ]
          },
          "metadata": {
            "tags": []
          }
        }
      ]
    },
    {
      "cell_type": "code",
      "metadata": {
        "id": "0Zsd99isb9EQ",
        "outputId": "df0a1a71-6cd2-4119-ef19-3279660fe49a",
        "colab": {
          "base_uri": "https://localhost:8080/",
          "height": 173
        }
      },
      "source": [
        "learn.fit_one_cycle(4, slice(2e-3/100, 2e-3))"
      ],
      "execution_count": null,
      "outputs": [
        {
          "output_type": "display_data",
          "data": {
            "text/html": [
              "<table border=\"1\" class=\"dataframe\">\n",
              "  <thead>\n",
              "    <tr style=\"text-align: left;\">\n",
              "      <th>epoch</th>\n",
              "      <th>train_loss</th>\n",
              "      <th>valid_loss</th>\n",
              "      <th>accuracy</th>\n",
              "      <th>time</th>\n",
              "    </tr>\n",
              "  </thead>\n",
              "  <tbody>\n",
              "    <tr>\n",
              "      <td>0</td>\n",
              "      <td>0.506872</td>\n",
              "      <td>1.127408</td>\n",
              "      <td>0.799465</td>\n",
              "      <td>03:10</td>\n",
              "    </tr>\n",
              "    <tr>\n",
              "      <td>1</td>\n",
              "      <td>0.554201</td>\n",
              "      <td>1.077550</td>\n",
              "      <td>0.796791</td>\n",
              "      <td>03:30</td>\n",
              "    </tr>\n",
              "    <tr>\n",
              "      <td>2</td>\n",
              "      <td>0.449205</td>\n",
              "      <td>1.054214</td>\n",
              "      <td>0.808824</td>\n",
              "      <td>03:12</td>\n",
              "    </tr>\n",
              "    <tr>\n",
              "      <td>3</td>\n",
              "      <td>0.435569</td>\n",
              "      <td>1.048589</td>\n",
              "      <td>0.806150</td>\n",
              "      <td>03:28</td>\n",
              "    </tr>\n",
              "  </tbody>\n",
              "</table>"
            ],
            "text/plain": [
              "<IPython.core.display.HTML object>"
            ]
          },
          "metadata": {
            "tags": []
          }
        }
      ]
    },
    {
      "cell_type": "code",
      "metadata": {
        "id": "atNWNKDFPbuI",
        "outputId": "608080ba-0d0a-4bf1-d8df-eb77b18498cc",
        "colab": {
          "base_uri": "https://localhost:8080/",
          "height": 173
        }
      },
      "source": [
        "learn.fit_one_cycle(4, slice(2e-3/100, 2e-3))"
      ],
      "execution_count": null,
      "outputs": [
        {
          "output_type": "display_data",
          "data": {
            "text/html": [
              "<table border=\"1\" class=\"dataframe\">\n",
              "  <thead>\n",
              "    <tr style=\"text-align: left;\">\n",
              "      <th>epoch</th>\n",
              "      <th>train_loss</th>\n",
              "      <th>valid_loss</th>\n",
              "      <th>accuracy</th>\n",
              "      <th>time</th>\n",
              "    </tr>\n",
              "  </thead>\n",
              "  <tbody>\n",
              "    <tr>\n",
              "      <td>0</td>\n",
              "      <td>0.370084</td>\n",
              "      <td>1.082636</td>\n",
              "      <td>0.804813</td>\n",
              "      <td>03:25</td>\n",
              "    </tr>\n",
              "    <tr>\n",
              "      <td>1</td>\n",
              "      <td>0.416731</td>\n",
              "      <td>1.151476</td>\n",
              "      <td>0.792781</td>\n",
              "      <td>03:16</td>\n",
              "    </tr>\n",
              "    <tr>\n",
              "      <td>2</td>\n",
              "      <td>0.392349</td>\n",
              "      <td>1.035563</td>\n",
              "      <td>0.812834</td>\n",
              "      <td>03:12</td>\n",
              "    </tr>\n",
              "    <tr>\n",
              "      <td>3</td>\n",
              "      <td>0.324086</td>\n",
              "      <td>1.019267</td>\n",
              "      <td>0.807487</td>\n",
              "      <td>03:27</td>\n",
              "    </tr>\n",
              "  </tbody>\n",
              "</table>"
            ],
            "text/plain": [
              "<IPython.core.display.HTML object>"
            ]
          },
          "metadata": {
            "tags": []
          }
        }
      ]
    },
    {
      "cell_type": "code",
      "metadata": {
        "id": "rKrBTZ0T1uVA",
        "outputId": "8fb3bbe9-b87e-480d-f51a-a28933c713cf",
        "colab": {
          "base_uri": "https://localhost:8080/",
          "height": 173
        }
      },
      "source": [
        "learn.fit_one_cycle(4, slice(2e-3/100, 2e-3))"
      ],
      "execution_count": null,
      "outputs": [
        {
          "output_type": "display_data",
          "data": {
            "text/html": [
              "<table border=\"1\" class=\"dataframe\">\n",
              "  <thead>\n",
              "    <tr style=\"text-align: left;\">\n",
              "      <th>epoch</th>\n",
              "      <th>train_loss</th>\n",
              "      <th>valid_loss</th>\n",
              "      <th>accuracy</th>\n",
              "      <th>time</th>\n",
              "    </tr>\n",
              "  </thead>\n",
              "  <tbody>\n",
              "    <tr>\n",
              "      <td>0</td>\n",
              "      <td>0.298475</td>\n",
              "      <td>1.122179</td>\n",
              "      <td>0.804813</td>\n",
              "      <td>03:25</td>\n",
              "    </tr>\n",
              "    <tr>\n",
              "      <td>1</td>\n",
              "      <td>0.378408</td>\n",
              "      <td>1.087662</td>\n",
              "      <td>0.802139</td>\n",
              "      <td>03:14</td>\n",
              "    </tr>\n",
              "    <tr>\n",
              "      <td>2</td>\n",
              "      <td>0.332743</td>\n",
              "      <td>1.077229</td>\n",
              "      <td>0.816845</td>\n",
              "      <td>03:15</td>\n",
              "    </tr>\n",
              "    <tr>\n",
              "      <td>3</td>\n",
              "      <td>0.278202</td>\n",
              "      <td>1.067940</td>\n",
              "      <td>0.815508</td>\n",
              "      <td>03:17</td>\n",
              "    </tr>\n",
              "  </tbody>\n",
              "</table>"
            ],
            "text/plain": [
              "<IPython.core.display.HTML object>"
            ]
          },
          "metadata": {
            "tags": []
          }
        }
      ]
    },
    {
      "cell_type": "code",
      "metadata": {
        "id": "ajQC6WDg1yA9",
        "outputId": "1149e956-aa8b-4493-e169-e6f3b65841f5",
        "colab": {
          "base_uri": "https://localhost:8080/",
          "height": 173
        }
      },
      "source": [
        "learn.fit_one_cycle(4, slice(2e-3/100, 2e-3))"
      ],
      "execution_count": null,
      "outputs": [
        {
          "output_type": "display_data",
          "data": {
            "text/html": [
              "<table border=\"1\" class=\"dataframe\">\n",
              "  <thead>\n",
              "    <tr style=\"text-align: left;\">\n",
              "      <th>epoch</th>\n",
              "      <th>train_loss</th>\n",
              "      <th>valid_loss</th>\n",
              "      <th>accuracy</th>\n",
              "      <th>time</th>\n",
              "    </tr>\n",
              "  </thead>\n",
              "  <tbody>\n",
              "    <tr>\n",
              "      <td>0</td>\n",
              "      <td>0.282881</td>\n",
              "      <td>1.108994</td>\n",
              "      <td>0.808824</td>\n",
              "      <td>03:26</td>\n",
              "    </tr>\n",
              "    <tr>\n",
              "      <td>1</td>\n",
              "      <td>0.307663</td>\n",
              "      <td>1.151385</td>\n",
              "      <td>0.816845</td>\n",
              "      <td>03:14</td>\n",
              "    </tr>\n",
              "    <tr>\n",
              "      <td>2</td>\n",
              "      <td>0.295036</td>\n",
              "      <td>1.061775</td>\n",
              "      <td>0.818182</td>\n",
              "      <td>03:09</td>\n",
              "    </tr>\n",
              "    <tr>\n",
              "      <td>3</td>\n",
              "      <td>0.213889</td>\n",
              "      <td>1.058665</td>\n",
              "      <td>0.820856</td>\n",
              "      <td>03:21</td>\n",
              "    </tr>\n",
              "  </tbody>\n",
              "</table>"
            ],
            "text/plain": [
              "<IPython.core.display.HTML object>"
            ]
          },
          "metadata": {
            "tags": []
          }
        }
      ]
    },
    {
      "cell_type": "code",
      "metadata": {
        "id": "KKydb0B4BKGk",
        "outputId": "d3efc147-56ed-48cf-8df5-c6171a6c98b5",
        "colab": {
          "base_uri": "https://localhost:8080/",
          "height": 173
        }
      },
      "source": [
        "learn.fit_one_cycle(4, slice(2e-3/100, 2e-3))"
      ],
      "execution_count": null,
      "outputs": [
        {
          "output_type": "display_data",
          "data": {
            "text/html": [
              "<table border=\"1\" class=\"dataframe\">\n",
              "  <thead>\n",
              "    <tr style=\"text-align: left;\">\n",
              "      <th>epoch</th>\n",
              "      <th>train_loss</th>\n",
              "      <th>valid_loss</th>\n",
              "      <th>accuracy</th>\n",
              "      <th>time</th>\n",
              "    </tr>\n",
              "  </thead>\n",
              "  <tbody>\n",
              "    <tr>\n",
              "      <td>0</td>\n",
              "      <td>0.259713</td>\n",
              "      <td>1.114189</td>\n",
              "      <td>0.816845</td>\n",
              "      <td>03:14</td>\n",
              "    </tr>\n",
              "    <tr>\n",
              "      <td>1</td>\n",
              "      <td>0.272140</td>\n",
              "      <td>1.094696</td>\n",
              "      <td>0.827540</td>\n",
              "      <td>03:11</td>\n",
              "    </tr>\n",
              "    <tr>\n",
              "      <td>2</td>\n",
              "      <td>0.241592</td>\n",
              "      <td>1.017878</td>\n",
              "      <td>0.827540</td>\n",
              "      <td>03:22</td>\n",
              "    </tr>\n",
              "    <tr>\n",
              "      <td>3</td>\n",
              "      <td>0.215329</td>\n",
              "      <td>1.058790</td>\n",
              "      <td>0.823529</td>\n",
              "      <td>03:15</td>\n",
              "    </tr>\n",
              "  </tbody>\n",
              "</table>"
            ],
            "text/plain": [
              "<IPython.core.display.HTML object>"
            ]
          },
          "metadata": {
            "tags": []
          }
        }
      ]
    },
    {
      "cell_type": "code",
      "metadata": {
        "id": "T2APKtFKBpGY",
        "outputId": "b3311370-6c87-40f5-a224-d3081928fbac",
        "colab": {
          "base_uri": "https://localhost:8080/",
          "height": 173
        }
      },
      "source": [
        "learn.fit_one_cycle(4, slice(2e-3/100, 2e-3))"
      ],
      "execution_count": null,
      "outputs": [
        {
          "output_type": "display_data",
          "data": {
            "text/html": [
              "<table border=\"1\" class=\"dataframe\">\n",
              "  <thead>\n",
              "    <tr style=\"text-align: left;\">\n",
              "      <th>epoch</th>\n",
              "      <th>train_loss</th>\n",
              "      <th>valid_loss</th>\n",
              "      <th>accuracy</th>\n",
              "      <th>time</th>\n",
              "    </tr>\n",
              "  </thead>\n",
              "  <tbody>\n",
              "    <tr>\n",
              "      <td>0</td>\n",
              "      <td>0.213891</td>\n",
              "      <td>1.118280</td>\n",
              "      <td>0.815508</td>\n",
              "      <td>03:06</td>\n",
              "    </tr>\n",
              "    <tr>\n",
              "      <td>1</td>\n",
              "      <td>0.265767</td>\n",
              "      <td>1.177649</td>\n",
              "      <td>0.815508</td>\n",
              "      <td>03:11</td>\n",
              "    </tr>\n",
              "    <tr>\n",
              "      <td>2</td>\n",
              "      <td>0.249940</td>\n",
              "      <td>1.087508</td>\n",
              "      <td>0.820856</td>\n",
              "      <td>03:06</td>\n",
              "    </tr>\n",
              "    <tr>\n",
              "      <td>3</td>\n",
              "      <td>0.208576</td>\n",
              "      <td>1.136600</td>\n",
              "      <td>0.823529</td>\n",
              "      <td>03:29</td>\n",
              "    </tr>\n",
              "  </tbody>\n",
              "</table>"
            ],
            "text/plain": [
              "<IPython.core.display.HTML object>"
            ]
          },
          "metadata": {
            "tags": []
          }
        }
      ]
    },
    {
      "cell_type": "code",
      "metadata": {
        "id": "qtTypA1sPgLU",
        "outputId": "a95020dd-9b55-4411-b4a7-b01387e14290",
        "colab": {
          "base_uri": "https://localhost:8080/",
          "height": 111
        }
      },
      "source": [
        "learn.fit_one_cycle(2, slice(2e-3/100, 2e-3))"
      ],
      "execution_count": null,
      "outputs": [
        {
          "output_type": "display_data",
          "data": {
            "text/html": [
              "<table border=\"1\" class=\"dataframe\">\n",
              "  <thead>\n",
              "    <tr style=\"text-align: left;\">\n",
              "      <th>epoch</th>\n",
              "      <th>train_loss</th>\n",
              "      <th>valid_loss</th>\n",
              "      <th>accuracy</th>\n",
              "      <th>time</th>\n",
              "    </tr>\n",
              "  </thead>\n",
              "  <tbody>\n",
              "    <tr>\n",
              "      <td>0</td>\n",
              "      <td>0.203360</td>\n",
              "      <td>1.116158</td>\n",
              "      <td>0.822192</td>\n",
              "      <td>03:30</td>\n",
              "    </tr>\n",
              "    <tr>\n",
              "      <td>1</td>\n",
              "      <td>0.201633</td>\n",
              "      <td>1.161157</td>\n",
              "      <td>0.828877</td>\n",
              "      <td>03:07</td>\n",
              "    </tr>\n",
              "  </tbody>\n",
              "</table>"
            ],
            "text/plain": [
              "<IPython.core.display.HTML object>"
            ]
          },
          "metadata": {
            "tags": []
          }
        }
      ]
    },
    {
      "cell_type": "code",
      "metadata": {
        "id": "b242kBsTUp9Y",
        "outputId": "d35cc38c-f44b-4b7b-a604-2734f8f20bfc",
        "colab": {
          "base_uri": "https://localhost:8080/",
          "height": 111
        }
      },
      "source": [
        "learn.fit_one_cycle(2, slice(2e-3/100, 2e-3))"
      ],
      "execution_count": null,
      "outputs": [
        {
          "output_type": "display_data",
          "data": {
            "text/html": [
              "<table border=\"1\" class=\"dataframe\">\n",
              "  <thead>\n",
              "    <tr style=\"text-align: left;\">\n",
              "      <th>epoch</th>\n",
              "      <th>train_loss</th>\n",
              "      <th>valid_loss</th>\n",
              "      <th>accuracy</th>\n",
              "      <th>time</th>\n",
              "    </tr>\n",
              "  </thead>\n",
              "  <tbody>\n",
              "    <tr>\n",
              "      <td>0</td>\n",
              "      <td>0.240867</td>\n",
              "      <td>1.134627</td>\n",
              "      <td>0.828877</td>\n",
              "      <td>03:09</td>\n",
              "    </tr>\n",
              "    <tr>\n",
              "      <td>1</td>\n",
              "      <td>0.208614</td>\n",
              "      <td>1.115148</td>\n",
              "      <td>0.826203</td>\n",
              "      <td>03:13</td>\n",
              "    </tr>\n",
              "  </tbody>\n",
              "</table>"
            ],
            "text/plain": [
              "<IPython.core.display.HTML object>"
            ]
          },
          "metadata": {
            "tags": []
          }
        }
      ]
    },
    {
      "cell_type": "code",
      "metadata": {
        "id": "Duwf1Ih5VeDZ",
        "outputId": "ed0d6c1a-331e-4920-8654-8109331d9755",
        "colab": {
          "base_uri": "https://localhost:8080/",
          "height": 80
        }
      },
      "source": [
        "learn.fit_one_cycle(1, slice(2e-3/100, 2e-3))"
      ],
      "execution_count": null,
      "outputs": [
        {
          "output_type": "display_data",
          "data": {
            "text/html": [
              "<table border=\"1\" class=\"dataframe\">\n",
              "  <thead>\n",
              "    <tr style=\"text-align: left;\">\n",
              "      <th>epoch</th>\n",
              "      <th>train_loss</th>\n",
              "      <th>valid_loss</th>\n",
              "      <th>accuracy</th>\n",
              "      <th>time</th>\n",
              "    </tr>\n",
              "  </thead>\n",
              "  <tbody>\n",
              "    <tr>\n",
              "      <td>0</td>\n",
              "      <td>0.194405</td>\n",
              "      <td>1.190693</td>\n",
              "      <td>0.818182</td>\n",
              "      <td>03:12</td>\n",
              "    </tr>\n",
              "  </tbody>\n",
              "</table>"
            ],
            "text/plain": [
              "<IPython.core.display.HTML object>"
            ]
          },
          "metadata": {
            "tags": []
          }
        }
      ]
    },
    {
      "cell_type": "code",
      "metadata": {
        "id": "c65d-osfDUXm"
      },
      "source": [
        "# save the best model\n",
        "\n",
        "learn.save_encoder('bigtweet_ask_ask_mixed_fold6')"
      ],
      "execution_count": null,
      "outputs": []
    },
    {
      "cell_type": "markdown",
      "metadata": {
        "id": "rCwZU0E2RgM6"
      },
      "source": [
        "# Part three: Predict on the test dataset"
      ]
    },
    {
      "cell_type": "code",
      "metadata": {
        "id": "gDm72c-dOu7d",
        "outputId": "9853470b-dcf5-4b27-8189-036dfdedb8c1",
        "colab": {
          "base_uri": "https://localhost:8080/",
          "height": 17
        }
      },
      "source": [
        "# use the test data for prediction\n",
        "\n",
        "preds, y = learn.get_preds(DatasetType.Test)"
      ],
      "execution_count": null,
      "outputs": [
        {
          "output_type": "display_data",
          "data": {
            "text/html": [
              ""
            ],
            "text/plain": [
              "<IPython.core.display.HTML object>"
            ]
          },
          "metadata": {
            "tags": []
          }
        }
      ]
    },
    {
      "cell_type": "code",
      "metadata": {
        "id": "6tFSQcsWPvxn",
        "outputId": "4091dc8c-2064-4045-de2b-dea4754f8842",
        "colab": {
          "base_uri": "https://localhost:8080/",
          "height": 37
        }
      },
      "source": [
        "predictions, *_ = learn.get_preds(DatasetType.Test)\n",
        "labels = np.argmax(predictions, 1)\n",
        "predict_list = labels.tolist()\n",
        "standard_list = test[0].tolist()\n",
        "\n",
        "print(len(predict_list))\n",
        "print(len(standard_list))\n",
        "\n",
        "print(predict_list)\n",
        "print(standard_list)"
      ],
      "execution_count": null,
      "outputs": [
        {
          "output_type": "display_data",
          "data": {
            "text/html": [
              "\n",
              "    <div>\n",
              "        <style>\n",
              "            /* Turns off some styling */\n",
              "            progress {\n",
              "                /* gets rid of default border in Firefox and Opera. */\n",
              "                border: none;\n",
              "                /* Needs to be in here for Safari polyfill so background images work as expected. */\n",
              "                background-size: auto;\n",
              "            }\n",
              "            .progress-bar-interrupted, .progress-bar-interrupted::-webkit-progress-bar {\n",
              "                background: #F44336;\n",
              "            }\n",
              "        </style>\n",
              "      <progress value='1' class='' max='7' style='width:300px; height:20px; vertical-align: middle;'></progress>\n",
              "      14.29% [1/7 00:01<00:06]\n",
              "    </div>\n",
              "    "
            ],
            "text/plain": [
              "<IPython.core.display.HTML object>"
            ]
          },
          "metadata": {
            "tags": []
          }
        }
      ]
    },
    {
      "cell_type": "code",
      "metadata": {
        "id": "XIC4zufnMxtq"
      },
      "source": [
        "correct_num = 0\n",
        "\n",
        "for i in range(0, len(standard_list)):\n",
        "  if predict_list[i] == standard_list[i]:\n",
        "    correct_num = correct_num+1\n",
        "  else:\n",
        "    pass\n",
        "print(correct_num)\n",
        "\n",
        "predict_accuracy = correct_num/len(predict_list)\n",
        "print(predict_accuracy)"
      ],
      "execution_count": null,
      "outputs": []
    },
    {
      "cell_type": "code",
      "metadata": {
        "id": "zlKMHp1CIaRJ"
      },
      "source": [
        ""
      ],
      "execution_count": null,
      "outputs": []
    }
  ]
}