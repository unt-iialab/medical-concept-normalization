{
  "nbformat": 4,
  "nbformat_minor": 0,
  "metadata": {
    "accelerator": "TPU",
    "colab": {
      "name": "cadec_ask_06.ipynb",
      "provenance": [],
      "collapsed_sections": [],
      "include_colab_link": true
    },
    "kernelspec": {
      "display_name": "Python 3",
      "name": "python3"
    }
  },
  "cells": [
    {
      "cell_type": "markdown",
      "metadata": {
        "id": "view-in-github",
        "colab_type": "text"
      },
      "source": [
        "<a href=\"https://colab.research.google.com/github/unt-iialab/medical-concept-normalization/blob/master/medical-concept-normalization/fine-tuning-experiments/askpatient/cadec_ask_06.ipynb\" target=\"_parent\"><img src=\"https://colab.research.google.com/assets/colab-badge.svg\" alt=\"Open In Colab\"/></a>"
      ]
    },
    {
      "cell_type": "code",
      "metadata": {
        "id": "adSi6i2-dWxy"
      },
      "source": [
        "import os"
      ],
      "execution_count": 1,
      "outputs": []
    },
    {
      "cell_type": "code",
      "metadata": {
        "id": "E7xYCRGPjd9B"
      },
      "source": [
        "base_dir = 'medical-concept-normalization'"
      ],
      "execution_count": 2,
      "outputs": []
    },
    {
      "cell_type": "code",
      "metadata": {
        "id": "yvIW3aUDjYNS"
      },
      "source": [
        "os.mkdir(base_dir)"
      ],
      "execution_count": 3,
      "outputs": []
    },
    {
      "cell_type": "code",
      "metadata": {
        "id": "es-FFLlfk6SG"
      },
      "source": [
        "os.mkdir('medical-concept-normalization/data_collection')"
      ],
      "execution_count": 4,
      "outputs": []
    },
    {
      "cell_type": "markdown",
      "metadata": {
        "id": "0R-Guw_VoJXm"
      },
      "source": [
        "**Install fastai and clone the fastai for text classification**\n",
        "\n"
      ]
    },
    {
      "cell_type": "code",
      "metadata": {
        "id": "QVZa3Z0PmHFH",
        "outputId": "d9bd5bad-7c9a-4880-adfc-61a54437d07f",
        "colab": {
          "base_uri": "https://localhost:8080/"
        }
      },
      "source": [
        "!curl https://course-v3.fast.ai/setup/colab | bash"
      ],
      "execution_count": 5,
      "outputs": [
        {
          "output_type": "stream",
          "text": [
            "  % Total    % Received % Xferd  Average Speed   Time    Time     Time  Current\n",
            "                                 Dload  Upload   Total   Spent    Left  Speed\n",
            "\r  0     0    0     0    0     0      0      0 --:--:-- --:--:-- --:--:--     0curl: (6) Could not resolve host: course-v3.fast.ai\n"
          ],
          "name": "stdout"
        }
      ]
    },
    {
      "cell_type": "code",
      "metadata": {
        "id": "_FBFFEBrmJC0",
        "outputId": "79b8b26c-eec6-4cd9-93ae-0d56ceec0bba",
        "colab": {
          "base_uri": "https://localhost:8080/"
        }
      },
      "source": [
        "!git clone https://github.com/wshuyi/demo-nlp-classification-fastai.git"
      ],
      "execution_count": 6,
      "outputs": [
        {
          "output_type": "stream",
          "text": [
            "Cloning into 'demo-nlp-classification-fastai'...\n",
            "remote: Enumerating objects: 9, done.\u001b[K\n",
            "remote: Total 9 (delta 0), reused 0 (delta 0), pack-reused 9\u001b[K\n",
            "Unpacking objects: 100% (9/9), done.\n"
          ],
          "name": "stdout"
        }
      ]
    },
    {
      "cell_type": "code",
      "metadata": {
        "id": "66zfh_JqmWMU"
      },
      "source": [
        "from fastai import *\n",
        "from fastai.text import *"
      ],
      "execution_count": 7,
      "outputs": []
    },
    {
      "cell_type": "markdown",
      "metadata": {
        "id": "mNIw-yALdBU9"
      },
      "source": [
        "**Set the path of the data collections**"
      ]
    },
    {
      "cell_type": "code",
      "metadata": {
        "id": "pzH7VMh4mqCL"
      },
      "source": [
        "path = Path('medical-concept-normalization/data_collection')"
      ],
      "execution_count": 8,
      "outputs": []
    },
    {
      "cell_type": "code",
      "metadata": {
        "id": "b8fjI6yyn4aS"
      },
      "source": [
        "# training data set\n",
        "\n",
        "train_csv = path/'AskAPatient.fold-6.train.csv'\n",
        "train = pd.read_csv(train_csv, header=None)\n",
        "#train.head()\n",
        "#train.info()"
      ],
      "execution_count": 10,
      "outputs": []
    },
    {
      "cell_type": "code",
      "metadata": {
        "id": "Hmlr-bAorfHd",
        "outputId": "b675bd75-6869-4122-d579-99382cf2e22c",
        "colab": {
          "base_uri": "https://localhost:8080/",
          "height": 204
        }
      },
      "source": [
        "# validating data set\n",
        "\n",
        "valid = pd.read_csv(path/\"AskAPatient.fold-6.validation.csv\",header=None)\n",
        "valid.head()"
      ],
      "execution_count": 11,
      "outputs": [
        {
          "output_type": "execute_result",
          "data": {
            "text/html": [
              "<div>\n",
              "<style scoped>\n",
              "    .dataframe tbody tr th:only-of-type {\n",
              "        vertical-align: middle;\n",
              "    }\n",
              "\n",
              "    .dataframe tbody tr th {\n",
              "        vertical-align: top;\n",
              "    }\n",
              "\n",
              "    .dataframe thead th {\n",
              "        text-align: right;\n",
              "    }\n",
              "</style>\n",
              "<table border=\"1\" class=\"dataframe\">\n",
              "  <thead>\n",
              "    <tr style=\"text-align: right;\">\n",
              "      <th></th>\n",
              "      <th>0</th>\n",
              "      <th>1</th>\n",
              "    </tr>\n",
              "  </thead>\n",
              "  <tbody>\n",
              "    <tr>\n",
              "      <th>0</th>\n",
              "      <td>2</td>\n",
              "      <td>heel pain</td>\n",
              "    </tr>\n",
              "    <tr>\n",
              "      <th>1</th>\n",
              "      <td>2</td>\n",
              "      <td>heels hurt</td>\n",
              "    </tr>\n",
              "    <tr>\n",
              "      <th>2</th>\n",
              "      <td>4</td>\n",
              "      <td>black and blue marks</td>\n",
              "    </tr>\n",
              "    <tr>\n",
              "      <th>3</th>\n",
              "      <td>5</td>\n",
              "      <td>fast and slow heartbeat</td>\n",
              "    </tr>\n",
              "    <tr>\n",
              "      <th>4</th>\n",
              "      <td>5</td>\n",
              "      <td>increased heart rate</td>\n",
              "    </tr>\n",
              "  </tbody>\n",
              "</table>\n",
              "</div>"
            ],
            "text/plain": [
              "   0                        1\n",
              "0  2                heel pain\n",
              "1  2               heels hurt\n",
              "2  4     black and blue marks\n",
              "3  5  fast and slow heartbeat\n",
              "4  5     increased heart rate"
            ]
          },
          "metadata": {
            "tags": []
          },
          "execution_count": 11
        }
      ]
    },
    {
      "cell_type": "code",
      "metadata": {
        "id": "cOza9dfSsBud",
        "outputId": "c36b3fd0-a26f-402a-a997-377cc2dfc08d",
        "colab": {
          "base_uri": "https://localhost:8080/",
          "height": 204
        }
      },
      "source": [
        "# testing data set\n",
        "\n",
        "test = pd.read_csv(path/\"AskAPatient.fold-6.test.csv\",header=None)\n",
        "test.head()"
      ],
      "execution_count": 12,
      "outputs": [
        {
          "output_type": "execute_result",
          "data": {
            "text/html": [
              "<div>\n",
              "<style scoped>\n",
              "    .dataframe tbody tr th:only-of-type {\n",
              "        vertical-align: middle;\n",
              "    }\n",
              "\n",
              "    .dataframe tbody tr th {\n",
              "        vertical-align: top;\n",
              "    }\n",
              "\n",
              "    .dataframe thead th {\n",
              "        text-align: right;\n",
              "    }\n",
              "</style>\n",
              "<table border=\"1\" class=\"dataframe\">\n",
              "  <thead>\n",
              "    <tr style=\"text-align: right;\">\n",
              "      <th></th>\n",
              "      <th>0</th>\n",
              "      <th>1</th>\n",
              "    </tr>\n",
              "  </thead>\n",
              "  <tbody>\n",
              "    <tr>\n",
              "      <th>0</th>\n",
              "      <td>2</td>\n",
              "      <td>left heel pain</td>\n",
              "    </tr>\n",
              "    <tr>\n",
              "      <th>1</th>\n",
              "      <td>5</td>\n",
              "      <td>tachycardia</td>\n",
              "    </tr>\n",
              "    <tr>\n",
              "      <th>2</th>\n",
              "      <td>8</td>\n",
              "      <td>ARTHRITIS</td>\n",
              "    </tr>\n",
              "    <tr>\n",
              "      <th>3</th>\n",
              "      <td>8</td>\n",
              "      <td>arthrites</td>\n",
              "    </tr>\n",
              "    <tr>\n",
              "      <th>4</th>\n",
              "      <td>8</td>\n",
              "      <td>arthritis</td>\n",
              "    </tr>\n",
              "  </tbody>\n",
              "</table>\n",
              "</div>"
            ],
            "text/plain": [
              "   0               1\n",
              "0  2  left heel pain\n",
              "1  5     tachycardia\n",
              "2  8       ARTHRITIS\n",
              "3  8       arthrites\n",
              "4  8       arthritis"
            ]
          },
          "metadata": {
            "tags": []
          },
          "execution_count": 12
        }
      ]
    },
    {
      "cell_type": "code",
      "metadata": {
        "id": "Vo-YNvVYoaH6",
        "outputId": "781fc75c-19e4-403f-c61e-299e706c48a8",
        "colab": {
          "base_uri": "https://localhost:8080/",
          "height": 17
        }
      },
      "source": [
        "# Creating DataBunch for language modelling\n",
        "\n",
        "data_lm = TextLMDataBunch.from_csv(path, 'cadec_ask.csv')"
      ],
      "execution_count": 13,
      "outputs": [
        {
          "output_type": "display_data",
          "data": {
            "text/html": [
              ""
            ],
            "text/plain": [
              "<IPython.core.display.HTML object>"
            ]
          },
          "metadata": {
            "tags": []
          }
        },
        {
          "output_type": "display_data",
          "data": {
            "text/html": [
              ""
            ],
            "text/plain": [
              "<IPython.core.display.HTML object>"
            ]
          },
          "metadata": {
            "tags": []
          }
        }
      ]
    },
    {
      "cell_type": "code",
      "metadata": {
        "id": "qcV-9kMnNLBf"
      },
      "source": [
        ""
      ],
      "execution_count": 13,
      "outputs": []
    },
    {
      "cell_type": "code",
      "metadata": {
        "id": "1ScY9afDsnvE"
      },
      "source": [
        "# Creating DataBunch for classification\n",
        "\n",
        "# data_clas = TextClasDataBunch.from_df(path, train, valid, test, vocab=data_lm.train_ds.vocab, bs=128)"
      ],
      "execution_count": 14,
      "outputs": []
    },
    {
      "cell_type": "code",
      "metadata": {
        "id": "gzrSdQcvey9p",
        "outputId": "ec23e3db-447a-4528-e633-cd757c01e7f8",
        "colab": {
          "base_uri": "https://localhost:8080/",
          "height": 17
        }
      },
      "source": [
        "data_clas = TextClasDataBunch.from_df(path, train, valid, vocab=data_lm.train_ds.vocab, bs=128)"
      ],
      "execution_count": 15,
      "outputs": [
        {
          "output_type": "display_data",
          "data": {
            "text/html": [
              ""
            ],
            "text/plain": [
              "<IPython.core.display.HTML object>"
            ]
          },
          "metadata": {
            "tags": []
          }
        },
        {
          "output_type": "display_data",
          "data": {
            "text/html": [
              ""
            ],
            "text/plain": [
              "<IPython.core.display.HTML object>"
            ]
          },
          "metadata": {
            "tags": []
          }
        }
      ]
    },
    {
      "cell_type": "code",
      "metadata": {
        "id": "MD27Tf0Ke3ou",
        "outputId": "a0b64d20-c711-486f-ebbb-b68323904e30",
        "colab": {
          "base_uri": "https://localhost:8080/",
          "height": 17
        }
      },
      "source": [
        "data_clas.add_test(test,label=0)\n"
      ],
      "execution_count": 16,
      "outputs": [
        {
          "output_type": "display_data",
          "data": {
            "text/html": [
              ""
            ],
            "text/plain": [
              "<IPython.core.display.HTML object>"
            ]
          },
          "metadata": {
            "tags": []
          }
        }
      ]
    },
    {
      "cell_type": "code",
      "metadata": {
        "id": "-dpjnk_rstwk"
      },
      "source": [
        "data_lm.save()\n",
        "data_clas.save()"
      ],
      "execution_count": 17,
      "outputs": []
    },
    {
      "cell_type": "code",
      "metadata": {
        "id": "4OkiJa36sw5s",
        "outputId": "23d42a9d-222f-4a2e-fe13-309e0edc38c2",
        "colab": {
          "base_uri": "https://localhost:8080/"
        }
      },
      "source": [
        "data_lm.train_ds.vocab.itos"
      ],
      "execution_count": 18,
      "outputs": [
        {
          "output_type": "execute_result",
          "data": {
            "text/plain": [
              "['xxunk',\n",
              " 'xxpad',\n",
              " 'xxbos',\n",
              " 'xxeos',\n",
              " 'xxfld',\n",
              " 'xxmaj',\n",
              " 'xxup',\n",
              " 'xxrep',\n",
              " 'xxwrep',\n",
              " 'pain',\n",
              " 'lipitor',\n",
              " 'in',\n",
              " 'of',\n",
              " 'muscle',\n",
              " '.',\n",
              " 'and',\n",
              " 'to',\n",
              " ',',\n",
              " 'my',\n",
              " 'i',\n",
              " 'the',\n",
              " 'severe',\n",
              " 'myalgia',\n",
              " 'fatigue',\n",
              " 'lower',\n",
              " 'loss',\n",
              " 'weakness',\n",
              " '-',\n",
              " 'cramp',\n",
              " 'limb',\n",
              " 'stomach',\n",
              " 'back',\n",
              " 'a',\n",
              " 'depression',\n",
              " 'cramps',\n",
              " 'memory',\n",
              " 'leg',\n",
              " 'joint',\n",
              " 'gas',\n",
              " 'legs',\n",
              " 'upper',\n",
              " 'pains',\n",
              " 'it',\n",
              " 'shoulder',\n",
              " 'headache',\n",
              " 'unable',\n",
              " 'knee',\n",
              " 'not',\n",
              " '/',\n",
              " 'neck',\n",
              " 'arthralgia',\n",
              " 'aches',\n",
              " 'on',\n",
              " 'was',\n",
              " 'foot',\n",
              " 'excessive',\n",
              " 'for',\n",
              " 'hip',\n",
              " 'all',\n",
              " 'numbness',\n",
              " 'like',\n",
              " 'have',\n",
              " 'arthritis',\n",
              " 'gastrointestinal',\n",
              " 'insomnia',\n",
              " 'walk',\n",
              " 'with',\n",
              " 'problems',\n",
              " 'bleeding',\n",
              " 'feeling',\n",
              " 'cholesterol',\n",
              " 'arthrotec',\n",
              " 'nausea',\n",
              " 'is',\n",
              " 'abdominal',\n",
              " 'tired',\n",
              " 'asthenia',\n",
              " 'heart',\n",
              " 'feet',\n",
              " 'dizziness',\n",
              " 'walking',\n",
              " 'disease',\n",
              " 'muscles',\n",
              " 'extreme',\n",
              " 'this',\n",
              " 'very',\n",
              " 'difficulty',\n",
              " 'swelling',\n",
              " 'chest',\n",
              " 'hair',\n",
              " 'that',\n",
              " 'sleep',\n",
              " 'zocor',\n",
              " 'ache',\n",
              " 'cramping',\n",
              " 'stiffness',\n",
              " 'hand',\n",
              " 'vision',\n",
              " 'could',\n",
              " 'backache',\n",
              " 'had',\n",
              " 'increased',\n",
              " 'burning',\n",
              " ')',\n",
              " \"n't\",\n",
              " 'liver',\n",
              " 'pins',\n",
              " 'needles',\n",
              " 'left',\n",
              " '(',\n",
              " 'blood',\n",
              " 'skin',\n",
              " 'but',\n",
              " 'up',\n",
              " 'diarrhoea',\n",
              " 'calf',\n",
              " 'tingling',\n",
              " 'weight',\n",
              " 'at',\n",
              " 'amnesia',\n",
              " 'high',\n",
              " 'impairment',\n",
              " 'disability',\n",
              " 'taking',\n",
              " 'anxiety',\n",
              " 'me',\n",
              " 'lack',\n",
              " 'stiff',\n",
              " 'bloating',\n",
              " 'low',\n",
              " 'short',\n",
              " 'symptom',\n",
              " 'arms',\n",
              " 'side',\n",
              " 'hands',\n",
              " 'so',\n",
              " 'headaches',\n",
              " 'arm',\n",
              " 'constipation',\n",
              " 'can',\n",
              " 'term',\n",
              " 'after',\n",
              " 'time',\n",
              " 'sore',\n",
              " \"'s\",\n",
              " 'no',\n",
              " 'body',\n",
              " 'disorder',\n",
              " 'balance',\n",
              " 'or',\n",
              " 'poor',\n",
              " 'neuropathy',\n",
              " 'tiredness',\n",
              " 'off',\n",
              " 'voltaren',\n",
              " 'pressure',\n",
              " 'from',\n",
              " 'blurred',\n",
              " 'feel',\n",
              " 'drug',\n",
              " 'ankle',\n",
              " 'joints',\n",
              " 'mg',\n",
              " 'been',\n",
              " 'bad',\n",
              " 'pravachol',\n",
              " 'vaginal',\n",
              " 'am',\n",
              " 'hurt',\n",
              " 'acid',\n",
              " '!',\n",
              " 'rash',\n",
              " 'has',\n",
              " 'infarction',\n",
              " 'right',\n",
              " 'sensation',\n",
              " 'get',\n",
              " 'as',\n",
              " 'vertigo',\n",
              " 'myocardial',\n",
              " 'effects',\n",
              " 'energy',\n",
              " 'attack',\n",
              " 'myositis',\n",
              " 'swollen',\n",
              " 'shoulders',\n",
              " 'painful',\n",
              " 'mentally',\n",
              " 'symptoms',\n",
              " 'generalised',\n",
              " 'atrophy',\n",
              " 'upset',\n",
              " 'diarrhea',\n",
              " 'itching',\n",
              " 'constant',\n",
              " 'gain',\n",
              " 'over',\n",
              " 'out',\n",
              " 'ubidecarenone',\n",
              " 'dry',\n",
              " 'both',\n",
              " 'are',\n",
              " 'weak',\n",
              " 'by',\n",
              " 'damage',\n",
              " 'diabetes',\n",
              " 'be',\n",
              " 'raised',\n",
              " 'elbow',\n",
              " 'dull',\n",
              " 'reduced',\n",
              " 'years',\n",
              " 'knees',\n",
              " 'about',\n",
              " 'day',\n",
              " 'crestor',\n",
              " 'illness',\n",
              " 'heavy',\n",
              " 'spasm',\n",
              " 'elevated',\n",
              " 'sleeping',\n",
              " 'problem',\n",
              " 'spasms',\n",
              " 'do',\n",
              " 'started',\n",
              " 'hazy',\n",
              " 'mood',\n",
              " '3',\n",
              " 'tendonitis',\n",
              " 'take',\n",
              " 'toe',\n",
              " 'influenza',\n",
              " 'now',\n",
              " 'when',\n",
              " 'bed',\n",
              " 'thigh',\n",
              " 'reflux',\n",
              " 'syndrome',\n",
              " 'flatulence',\n",
              " 'exhaustion',\n",
              " 'flu',\n",
              " 'visual',\n",
              " 'felt',\n",
              " 'myopathy',\n",
              " 'irritable',\n",
              " 'movement',\n",
              " 'libido',\n",
              " 'sclerosis',\n",
              " 'down',\n",
              " 'discomfort',\n",
              " 'will',\n",
              " 'abnormal',\n",
              " '2',\n",
              " 'throat',\n",
              " 'kidney',\n",
              " 'one',\n",
              " 'just',\n",
              " 'fibromyalgia',\n",
              " 'concentrate',\n",
              " 'did',\n",
              " 'months',\n",
              " 'vomiting',\n",
              " 'if',\n",
              " 'urine',\n",
              " 'doctor',\n",
              " 'night',\n",
              " 'more',\n",
              " 'hips',\n",
              " 'days',\n",
              " 'cold',\n",
              " 'went',\n",
              " 'serum',\n",
              " 'simvastatin',\n",
              " 'soreness',\n",
              " 'head',\n",
              " 'lightheadedness',\n",
              " 'would',\n",
              " 'swings',\n",
              " 'confusion',\n",
              " 'stopped',\n",
              " 'aching',\n",
              " 'eye',\n",
              " 'concentration',\n",
              " 'sweating',\n",
              " 'chronic',\n",
              " 'wind',\n",
              " 'toes',\n",
              " 'mellitus',\n",
              " 'calves',\n",
              " 'malaise',\n",
              " 'menstrual',\n",
              " 'some',\n",
              " 'tremor',\n",
              " '10',\n",
              " 'stairs',\n",
              " 'appetite',\n",
              " 'esters',\n",
              " 'brain',\n",
              " 'mild',\n",
              " 'ezetimibe',\n",
              " 'think',\n",
              " 'only',\n",
              " 'ankles',\n",
              " 'celebrex',\n",
              " 'paraesthesia',\n",
              " 'disturbance',\n",
              " 'injury',\n",
              " 'type',\n",
              " 'finger',\n",
              " 'intense',\n",
              " 'tinnitus',\n",
              " 'general',\n",
              " 'heel',\n",
              " 'terrible',\n",
              " 'decreased',\n",
              " 'were',\n",
              " 'took',\n",
              " 'swallowing',\n",
              " 'c',\n",
              " 'impaired',\n",
              " 'parkinson',\n",
              " 'face',\n",
              " 'motivation',\n",
              " 'also',\n",
              " 'failure',\n",
              " 'indigestion',\n",
              " 'weeks',\n",
              " '&',\n",
              " 'charleyhorse',\n",
              " 'dark',\n",
              " 'eyes',\n",
              " 'level',\n",
              " 'fingers',\n",
              " 'excruciating',\n",
              " 'ibuprofen',\n",
              " 'acute',\n",
              " 'getting',\n",
              " 'peripheral',\n",
              " 'tendon',\n",
              " 'then',\n",
              " 'ascorbic',\n",
              " 'restless',\n",
              " 'any',\n",
              " 'they',\n",
              " 'speech',\n",
              " 'depressed',\n",
              " 'still',\n",
              " 'renal',\n",
              " 'cough',\n",
              " 'hot',\n",
              " 'lupus',\n",
              " 'stress',\n",
              " 'lateral',\n",
              " 'week',\n",
              " 'tightness',\n",
              " 'palpitations',\n",
              " 'you',\n",
              " 'ca',\n",
              " 'an',\n",
              " 'dyspnoea',\n",
              " \"'m\",\n",
              " 'strength',\n",
              " '1',\n",
              " 'nerve',\n",
              " 'gout',\n",
              " 'coq10',\n",
              " 'he',\n",
              " 'exercise',\n",
              " 'wrist',\n",
              " 'migraine',\n",
              " 'trouble',\n",
              " 'infection',\n",
              " 'oil',\n",
              " 'dreams',\n",
              " 'always',\n",
              " 'other',\n",
              " '5',\n",
              " 'menopause',\n",
              " 'well',\n",
              " 'twitch',\n",
              " 'multiple',\n",
              " 'before',\n",
              " 'vitamin',\n",
              " 'ago',\n",
              " 'much',\n",
              " 'enzymes',\n",
              " 'than',\n",
              " 'fish',\n",
              " '20',\n",
              " 'mouth',\n",
              " 'advil',\n",
              " 'even',\n",
              " 'heartburn',\n",
              " 'fog',\n",
              " 'twitching',\n",
              " 'go',\n",
              " 'going',\n",
              " 'drowsy',\n",
              " 'thighs',\n",
              " 'never',\n",
              " 'breathing',\n",
              " 'taste',\n",
              " 'amyotrophic',\n",
              " 'move',\n",
              " 'every',\n",
              " 'limbs',\n",
              " 'medication',\n",
              " 'again',\n",
              " 'fenofibrate',\n",
              " 'function',\n",
              " 'elbows',\n",
              " 'sinus',\n",
              " 'which',\n",
              " 'breath',\n",
              " 'bowel',\n",
              " ':',\n",
              " 'provoked',\n",
              " 'being',\n",
              " 'ulcer',\n",
              " 'uterine',\n",
              " 'hardly',\n",
              " 'tylenol',\n",
              " 'mobility',\n",
              " 'nasal',\n",
              " \"'ve\",\n",
              " 'worse',\n",
              " 'fatigued',\n",
              " 'aleve',\n",
              " 'tight',\n",
              " 'horses',\n",
              " 'almost',\n",
              " '+',\n",
              " '4',\n",
              " 'fever',\n",
              " 'month',\n",
              " 'because',\n",
              " 'sharp',\n",
              " 'clearly',\n",
              " 'urinary',\n",
              " 'numb',\n",
              " 'life',\n",
              " 'first',\n",
              " 'two',\n",
              " 'lethargy',\n",
              " 'tricor',\n",
              " 'experienced',\n",
              " 'rheumatoid',\n",
              " 'moody',\n",
              " 'lost',\n",
              " 'due',\n",
              " 'extremely',\n",
              " 'sick',\n",
              " 'plantar',\n",
              " '40',\n",
              " 'what',\n",
              " 'diclofenac',\n",
              " 'barely',\n",
              " 'charley',\n",
              " 'better',\n",
              " 'levels',\n",
              " 'loose',\n",
              " 'pulse',\n",
              " 'ringing',\n",
              " 'facial',\n",
              " 'stamina',\n",
              " 'drive',\n",
              " 'light',\n",
              " 'since',\n",
              " 'liptor',\n",
              " 'panic',\n",
              " 'mental',\n",
              " 'accident',\n",
              " 'major',\n",
              " 'system',\n",
              " ';',\n",
              " 'shortness',\n",
              " 'thoughts',\n",
              " 'cerebrovascular',\n",
              " 'finding',\n",
              " 'horrible',\n",
              " 'around',\n",
              " 'extremity',\n",
              " 'these',\n",
              " 'zetia',\n",
              " 'deep',\n",
              " 'slurred',\n",
              " 'taken',\n",
              " 'anything',\n",
              " 'achilles',\n",
              " 'who',\n",
              " 'dizzy',\n",
              " 'malignant',\n",
              " 'cancer',\n",
              " 'your',\n",
              " 'there',\n",
              " 'attacks',\n",
              " 'long',\n",
              " 'statins',\n",
              " 'should',\n",
              " '?',\n",
              " 'irregular',\n",
              " 'colic',\n",
              " 'oedema',\n",
              " 'lot',\n",
              " 'natural',\n",
              " 'hard',\n",
              " 'thought',\n",
              " 'present',\n",
              " 'als',\n",
              " 'times',\n",
              " 'fasciitis',\n",
              " 'osteoarthritis',\n",
              " 'congestion',\n",
              " 'reading',\n",
              " 'statin',\n",
              " 'having',\n",
              " 'stand',\n",
              " 'paracetamol',\n",
              " 'rhabdomyolysis',\n",
              " '6',\n",
              " 'away',\n",
              " 'ability',\n",
              " 'tract',\n",
              " 'hunger',\n",
              " 'ldl',\n",
              " 'became',\n",
              " 'sugar',\n",
              " 'too',\n",
              " 'morning',\n",
              " 'lopid',\n",
              " 'told',\n",
              " 'see',\n",
              " 'looks',\n",
              " 'norvasc',\n",
              " 'area',\n",
              " 'inflammation',\n",
              " 'eczema',\n",
              " 'neurontin',\n",
              " 'stop',\n",
              " 'without',\n",
              " 'sensations',\n",
              " 'prednisone',\n",
              " 'erythematosus',\n",
              " 'last',\n",
              " 'inability',\n",
              " 'cpk',\n",
              " 'normal',\n",
              " 'frequent',\n",
              " 'ear',\n",
              " 'same',\n",
              " 'sex',\n",
              " 'forgetful',\n",
              " 'nervous',\n",
              " 'hypertension',\n",
              " 'things',\n",
              " 'little',\n",
              " 'inflammatory',\n",
              " 'dr',\n",
              " 'hurts',\n",
              " 'put',\n",
              " 'period',\n",
              " 'flushing',\n",
              " 'sweats',\n",
              " 'good',\n",
              " 'got',\n",
              " 'know',\n",
              " 'drugs',\n",
              " 'itchy',\n",
              " 'within',\n",
              " 'asthma',\n",
              " 'creatinine',\n",
              " 'while',\n",
              " 'periods',\n",
              " 'year',\n",
              " 'difficult',\n",
              " 'pruritus',\n",
              " 'few',\n",
              " 'strain',\n",
              " 'eat',\n",
              " 'foggy',\n",
              " 'work',\n",
              " 'nt',\n",
              " 'stool',\n",
              " 'spasmodic',\n",
              " 'make',\n",
              " 'atorvastatin',\n",
              " 'permanent',\n",
              " 'lipex',\n",
              " 'menorrhagia',\n",
              " 'sense',\n",
              " 'sudden',\n",
              " 'most',\n",
              " 'stroke',\n",
              " 'hypersomnia',\n",
              " 'began',\n",
              " 'weird',\n",
              " 'feels',\n",
              " 'scalp',\n",
              " 'omega-3-acid',\n",
              " 'ethyl',\n",
              " 'esters-90',\n",
              " 'bursitis',\n",
              " 'aptyalism',\n",
              " 'thinking',\n",
              " 'lift',\n",
              " 'tension',\n",
              " 'overall',\n",
              " 'dose',\n",
              " 'bell',\n",
              " 'palsy',\n",
              " 'increase',\n",
              " 'another',\n",
              " 'falling',\n",
              " 'rapid',\n",
              " 'gone',\n",
              " 'said',\n",
              " 'tachycardia',\n",
              " 'many',\n",
              " 'does',\n",
              " 'zoloft',\n",
              " 'ms',\n",
              " 'sight',\n",
              " 'into',\n",
              " 'bruising',\n",
              " 'empty',\n",
              " 'co',\n",
              " 'several',\n",
              " 'inflamation',\n",
              " 'use',\n",
              " 'bp',\n",
              " 'respiratory',\n",
              " 'cause',\n",
              " 'people',\n",
              " 'find',\n",
              " 'abdomen',\n",
              " 'tolerance',\n",
              " 'venous',\n",
              " 'until',\n",
              " 'paralysis',\n",
              " 'gait',\n",
              " 'ears',\n",
              " 'fast',\n",
              " 'gastric',\n",
              " 'climb',\n",
              " 'limping',\n",
              " 'bone',\n",
              " 'diet',\n",
              " 'coronary',\n",
              " 'aphasia',\n",
              " 'change',\n",
              " 'something',\n",
              " 'region',\n",
              " 'everything',\n",
              " 'nightmares',\n",
              " 'tablet',\n",
              " 'help',\n",
              " 'forearm',\n",
              " 'q10',\n",
              " 'retention',\n",
              " 'triglycerides',\n",
              " 'delusional',\n",
              " 'heaviness',\n",
              " 'dysfunction',\n",
              " 'codeine',\n",
              " 'suicidal',\n",
              " 'haematuria',\n",
              " 'especially',\n",
              " 'between',\n",
              " 'omega',\n",
              " 'slight',\n",
              " 'stabbing',\n",
              " 'able',\n",
              " 'muscular',\n",
              " 'during',\n",
              " 'edema',\n",
              " 'degenerative',\n",
              " 'sever',\n",
              " 'blurry',\n",
              " 'developed',\n",
              " 'self',\n",
              " 'test',\n",
              " 'where',\n",
              " 'menopausal',\n",
              " 'bloated',\n",
              " 'sexual',\n",
              " 'three',\n",
              " 'cortisone',\n",
              " 'really',\n",
              " 'diovan',\n",
              " 'unwell',\n",
              " 'site',\n",
              " 'rigidity',\n",
              " 'them',\n",
              " '8',\n",
              " 'ached',\n",
              " 'changes',\n",
              " 'rupture',\n",
              " 'ever',\n",
              " 'sciatica',\n",
              " 'spine',\n",
              " 'red',\n",
              " 'erythema',\n",
              " 'generally',\n",
              " 'issues',\n",
              " 'tests',\n",
              " 'try',\n",
              " 'lowered',\n",
              " 'reaction',\n",
              " 'cycle',\n",
              " 'food',\n",
              " 'diabetic',\n",
              " 'sides',\n",
              " 'similar',\n",
              " 'effect',\n",
              " 'doctors',\n",
              " '%',\n",
              " 'big',\n",
              " 'noticed',\n",
              " 'his',\n",
              " 'she',\n",
              " 'spotting',\n",
              " 'stopping',\n",
              " 'endometriosis',\n",
              " 'made',\n",
              " 'want',\n",
              " 'bladder',\n",
              " 'paranoia',\n",
              " 'caused',\n",
              " 'tunnel',\n",
              " 'testosterone',\n",
              " 'old',\n",
              " 'though',\n",
              " 'carpal',\n",
              " 'sweat',\n",
              " 'hungry',\n",
              " 'came',\n",
              " 'quit',\n",
              " 'slightly',\n",
              " 'myself',\n",
              " 'starting',\n",
              " 'syncope',\n",
              " 'muscels',\n",
              " 'random',\n",
              " 'anger',\n",
              " 'rectal',\n",
              " 'hurting',\n",
              " 'found',\n",
              " 'irritability',\n",
              " 'disc',\n",
              " 'interest',\n",
              " 'prescribed',\n",
              " 'once',\n",
              " 'however',\n",
              " 'steatosis',\n",
              " 'arthritic',\n",
              " 'menstruation',\n",
              " 'tongue',\n",
              " 'standing',\n",
              " 'neuralgia',\n",
              " 'bronchitis',\n",
              " 'run',\n",
              " 'crying',\n",
              " 'twitches',\n",
              " 'great',\n",
              " 'intolerance',\n",
              " 'infections',\n",
              " 'uterus',\n",
              " 'dehydration',\n",
              " 'stools',\n",
              " 'breast',\n",
              " 'through',\n",
              " 'chair',\n",
              " 'allergic',\n",
              " 'how',\n",
              " 'limp',\n",
              " 'hepatic',\n",
              " 'tender',\n",
              " 'disorientated',\n",
              " 'fatique',\n",
              " 'eyesight',\n",
              " 'colitis',\n",
              " 'experiencing',\n",
              " 'may',\n",
              " 'aspirin',\n",
              " 'immediately',\n",
              " 'rashes',\n",
              " 'misoprostol',\n",
              " 'agitated',\n",
              " 'read',\n",
              " 'constantly',\n",
              " 'unbearable',\n",
              " 'physical',\n",
              " 'lipidil',\n",
              " 'sun',\n",
              " 'causing',\n",
              " '-pelvis',\n",
              " 'agony',\n",
              " 'coated',\n",
              " 'fine',\n",
              " 'choking',\n",
              " 'pancreatitis',\n",
              " 'less',\n",
              " 'changed',\n",
              " 'b',\n",
              " 'sure',\n",
              " 'remember',\n",
              " 'done',\n",
              " 'ribs',\n",
              " 'decrease',\n",
              " 'drowsiness',\n",
              " 'wrists',\n",
              " '50',\n",
              " 'fear',\n",
              " 'recently',\n",
              " 'medicine',\n",
              " 'chill',\n",
              " 'personality',\n",
              " 'muscel',\n",
              " 'hours',\n",
              " 'daily',\n",
              " 'words',\n",
              " 'hdl',\n",
              " 'moodiness',\n",
              " 'headed',\n",
              " 'below',\n",
              " 'condition',\n",
              " 'eructation',\n",
              " 'need',\n",
              " 'mobic',\n",
              " 'fatty',\n",
              " 'total',\n",
              " 'desire',\n",
              " 'minutes',\n",
              " 'control',\n",
              " 'clumsiness',\n",
              " 'occasional',\n",
              " 'difficulties',\n",
              " 'yellow',\n",
              " 'irritation',\n",
              " 'lexapro',\n",
              " 'we',\n",
              " 'enough',\n",
              " 'morphine',\n",
              " 'tried',\n",
              " 'transient',\n",
              " 'unhappy',\n",
              " 'musculoskeletal',\n",
              " 'drink',\n",
              " 'circulation',\n",
              " 'chills',\n",
              " 'pill',\n",
              " 'persistent',\n",
              " 'thoracic',\n",
              " '7',\n",
              " 'related',\n",
              " 'cataflam',\n",
              " 'sensitivity',\n",
              " 'way',\n",
              " 'lose',\n",
              " 'their',\n",
              " 'ani',\n",
              " 'tingly',\n",
              " 'potassium',\n",
              " 'doing',\n",
              " 'touch',\n",
              " 'rhinitis',\n",
              " 'above',\n",
              " 'debilitating',\n",
              " 'intervertebral',\n",
              " 'extremities',\n",
              " 'film',\n",
              " 'wasting',\n",
              " 'later',\n",
              " 'finally',\n",
              " 'haemorrhage',\n",
              " '--',\n",
              " 'alzheimer',\n",
              " 'sleeplessness',\n",
              " 'recommend',\n",
              " 'slow',\n",
              " 'central',\n",
              " 'forearms',\n",
              " 'wanted',\n",
              " 'her',\n",
              " 'rib',\n",
              " 'far',\n",
              " 'tenalgia',\n",
              " 'urinate',\n",
              " 'non',\n",
              " 'cognition',\n",
              " 'dropped',\n",
              " 'waking',\n",
              " 'buzzing',\n",
              " 'neoplasm',\n",
              " 'tremors',\n",
              " 'say',\n",
              " 'moderate',\n",
              " 'whole',\n",
              " 'hoarse',\n",
              " 'bizarre',\n",
              " 'sleepy',\n",
              " 'achy',\n",
              " 'tenderness',\n",
              " 'works',\n",
              " 'serious',\n",
              " 'neoplastic',\n",
              " 'cognitive',\n",
              " 'creatine',\n",
              " 'although',\n",
              " 'e',\n",
              " 'sit',\n",
              " 'instead',\n",
              " 'limitation',\n",
              " 'pravastatin',\n",
              " 'beat',\n",
              " 'thinning',\n",
              " 'digestive',\n",
              " \"'\",\n",
              " 'its',\n",
              " 'constipated',\n",
              " 'initial',\n",
              " 'next',\n",
              " 'him',\n",
              " 'rate',\n",
              " 'breasts',\n",
              " 'hyperactive',\n",
              " 'dizzyness',\n",
              " 'alpha',\n",
              " 'none',\n",
              " 'water',\n",
              " 'tore',\n",
              " 'significant',\n",
              " 'vague',\n",
              " 'hope',\n",
              " 'anyone',\n",
              " 'dementia',\n",
              " 'count',\n",
              " 'haematochezia',\n",
              " '100',\n",
              " 'seems',\n",
              " 'gastritis',\n",
              " 'headedness',\n",
              " 'fuzzy',\n",
              " 'coma',\n",
              " 'charlie',\n",
              " 'motor',\n",
              " 'white',\n",
              " 'asleep',\n",
              " 'contusion',\n",
              " 'others',\n",
              " '80',\n",
              " 'dysphonia',\n",
              " 'lowering',\n",
              " 'exhausted',\n",
              " 'tocopherol',\n",
              " 'worth',\n",
              " 'spells',\n",
              " 'hit',\n",
              " 'lumbar',\n",
              " 'keep',\n",
              " 'glucosamine',\n",
              " 'altered',\n",
              " 'alopecia',\n",
              " 'completely',\n",
              " 'incoordination',\n",
              " 'results',\n",
              " '75',\n",
              " 'etc',\n",
              " 'surgery',\n",
              " 'live',\n",
              " '30',\n",
              " 'why',\n",
              " 'trying',\n",
              " 'easily',\n",
              " 'forgetfulness',\n",
              " 'movements',\n",
              " 'cardiac',\n",
              " 'jaundice',\n",
              " 'inflammed',\n",
              " 'entire',\n",
              " 'blisters',\n",
              " 'losing',\n",
              " 'blister',\n",
              " 'meds',\n",
              " 'relief',\n",
              " 'dosage',\n",
              " 'post',\n",
              " '\"',\n",
              " 'each',\n",
              " 'traumatic',\n",
              " 'experience',\n",
              " 'torn',\n",
              " 'shaking',\n",
              " 'affected',\n",
              " 'falls',\n",
              " 'believe',\n",
              " 'vit',\n",
              " 'reason',\n",
              " 'colon',\n",
              " 'website',\n",
              " ...]"
            ]
          },
          "metadata": {
            "tags": []
          },
          "execution_count": 18
        }
      ]
    },
    {
      "cell_type": "code",
      "metadata": {
        "id": "yPWr03mls3VT",
        "outputId": "b61a5886-1848-4a49-ed99-058333a6eb63",
        "colab": {
          "base_uri": "https://localhost:8080/",
          "height": 17
        }
      },
      "source": [
        "model_path = path/'models'\n",
        "model_path.mkdir(exist_ok=True)\n",
        "url = 'http://files.fast.ai/models/wt103_v1/'\n",
        "download_url(f'{url}lstm_wt103.pth', model_path/'lstm_wt103.pth')\n",
        "download_url(f'{url}itos_wt103.pkl', model_path/'itos_wt103.pkl')"
      ],
      "execution_count": 19,
      "outputs": [
        {
          "output_type": "display_data",
          "data": {
            "text/html": [
              ""
            ],
            "text/plain": [
              "<IPython.core.display.HTML object>"
            ]
          },
          "metadata": {
            "tags": []
          }
        },
        {
          "output_type": "display_data",
          "data": {
            "text/html": [
              ""
            ],
            "text/plain": [
              "<IPython.core.display.HTML object>"
            ]
          },
          "metadata": {
            "tags": []
          }
        }
      ]
    },
    {
      "cell_type": "code",
      "metadata": {
        "id": "JRzvWg8RtGGr",
        "outputId": "234a28c0-3daf-481c-fab0-c06b1d439cb2",
        "colab": {
          "base_uri": "https://localhost:8080/",
          "height": 34
        }
      },
      "source": [
        "learn = language_model_learner(data_lm, AWD_LSTM, drop_mult=0.5)"
      ],
      "execution_count": 20,
      "outputs": [
        {
          "output_type": "stream",
          "text": [
            "Downloading https://s3.amazonaws.com/fast-ai-modelzoo/wt103-fwd.tgz\n"
          ],
          "name": "stdout"
        },
        {
          "output_type": "display_data",
          "data": {
            "text/html": [
              ""
            ],
            "text/plain": [
              "<IPython.core.display.HTML object>"
            ]
          },
          "metadata": {
            "tags": []
          }
        }
      ]
    },
    {
      "cell_type": "code",
      "metadata": {
        "id": "xKK7GeBev7Xn",
        "outputId": "2d34f6c8-fe2d-4f96-a2fb-2b1204bd312b",
        "colab": {
          "base_uri": "https://localhost:8080/",
          "height": 80
        }
      },
      "source": [
        "learn.fit_one_cycle(1, 1e-2)"
      ],
      "execution_count": 21,
      "outputs": [
        {
          "output_type": "display_data",
          "data": {
            "text/html": [
              "<table border=\"1\" class=\"dataframe\">\n",
              "  <thead>\n",
              "    <tr style=\"text-align: left;\">\n",
              "      <th>epoch</th>\n",
              "      <th>train_loss</th>\n",
              "      <th>valid_loss</th>\n",
              "      <th>accuracy</th>\n",
              "      <th>time</th>\n",
              "    </tr>\n",
              "  </thead>\n",
              "  <tbody>\n",
              "    <tr>\n",
              "      <td>0</td>\n",
              "      <td>3.176128</td>\n",
              "      <td>2.687330</td>\n",
              "      <td>0.546158</td>\n",
              "      <td>18:23</td>\n",
              "    </tr>\n",
              "  </tbody>\n",
              "</table>"
            ],
            "text/plain": [
              "<IPython.core.display.HTML object>"
            ]
          },
          "metadata": {
            "tags": []
          }
        }
      ]
    },
    {
      "cell_type": "code",
      "metadata": {
        "id": "iB7rHGQCwd12"
      },
      "source": [
        "# learn.fit_one_cycle(1, 1e-2)"
      ],
      "execution_count": 22,
      "outputs": []
    },
    {
      "cell_type": "code",
      "metadata": {
        "id": "_BnSuAeCwkBe"
      },
      "source": [
        "# learn.fit_one_cycle(1, 1e-3)"
      ],
      "execution_count": 23,
      "outputs": []
    },
    {
      "cell_type": "code",
      "metadata": {
        "id": "MuTm-RFjwrEX",
        "outputId": "af06a9a3-2be6-450e-c0e7-4a62d50e0ef8",
        "colab": {
          "base_uri": "https://localhost:8080/",
          "height": 80
        }
      },
      "source": [
        "learn.fit_one_cycle(1, 1e-3)"
      ],
      "execution_count": 24,
      "outputs": [
        {
          "output_type": "display_data",
          "data": {
            "text/html": [
              "<table border=\"1\" class=\"dataframe\">\n",
              "  <thead>\n",
              "    <tr style=\"text-align: left;\">\n",
              "      <th>epoch</th>\n",
              "      <th>train_loss</th>\n",
              "      <th>valid_loss</th>\n",
              "      <th>accuracy</th>\n",
              "      <th>time</th>\n",
              "    </tr>\n",
              "  </thead>\n",
              "  <tbody>\n",
              "    <tr>\n",
              "      <td>0</td>\n",
              "      <td>2.789419</td>\n",
              "      <td>2.641274</td>\n",
              "      <td>0.551218</td>\n",
              "      <td>18:13</td>\n",
              "    </tr>\n",
              "  </tbody>\n",
              "</table>"
            ],
            "text/plain": [
              "<IPython.core.display.HTML object>"
            ]
          },
          "metadata": {
            "tags": []
          }
        }
      ]
    },
    {
      "cell_type": "code",
      "metadata": {
        "id": "1Er2ExO8wr7Y"
      },
      "source": [
        "learn.save_encoder('cadec_ask_fold6_first')"
      ],
      "execution_count": 25,
      "outputs": []
    },
    {
      "cell_type": "code",
      "metadata": {
        "id": "z52cZs2qwvad",
        "outputId": "8c3497e3-8b39-4101-95ff-ab8eb201283f",
        "colab": {
          "base_uri": "https://localhost:8080/",
          "height": 80
        }
      },
      "source": [
        "learn = text_classifier_learner(data_clas,AWD_LSTM, drop_mult=0.5)\n",
        "learn.load_encoder('cadec_ask_fold6_first')\n",
        "learn.fit_one_cycle(1, 1e-2)"
      ],
      "execution_count": 26,
      "outputs": [
        {
          "output_type": "display_data",
          "data": {
            "text/html": [
              "<table border=\"1\" class=\"dataframe\">\n",
              "  <thead>\n",
              "    <tr style=\"text-align: left;\">\n",
              "      <th>epoch</th>\n",
              "      <th>train_loss</th>\n",
              "      <th>valid_loss</th>\n",
              "      <th>accuracy</th>\n",
              "      <th>time</th>\n",
              "    </tr>\n",
              "  </thead>\n",
              "  <tbody>\n",
              "    <tr>\n",
              "      <td>0</td>\n",
              "      <td>4.118221</td>\n",
              "      <td>3.685761</td>\n",
              "      <td>0.318182</td>\n",
              "      <td>01:13</td>\n",
              "    </tr>\n",
              "  </tbody>\n",
              "</table>"
            ],
            "text/plain": [
              "<IPython.core.display.HTML object>"
            ]
          },
          "metadata": {
            "tags": []
          }
        }
      ]
    },
    {
      "cell_type": "code",
      "metadata": {
        "id": "ImwQP1PJwzxd",
        "outputId": "bc60015d-3219-4cd4-9926-a75815a8dbf5",
        "colab": {
          "base_uri": "https://localhost:8080/",
          "height": 80
        }
      },
      "source": [
        "learn.freeze_to(-2)\n",
        "learn.fit_one_cycle(1, slice(5e-3/2., 5e-3))"
      ],
      "execution_count": 27,
      "outputs": [
        {
          "output_type": "display_data",
          "data": {
            "text/html": [
              "<table border=\"1\" class=\"dataframe\">\n",
              "  <thead>\n",
              "    <tr style=\"text-align: left;\">\n",
              "      <th>epoch</th>\n",
              "      <th>train_loss</th>\n",
              "      <th>valid_loss</th>\n",
              "      <th>accuracy</th>\n",
              "      <th>time</th>\n",
              "    </tr>\n",
              "  </thead>\n",
              "  <tbody>\n",
              "    <tr>\n",
              "      <td>0</td>\n",
              "      <td>2.929388</td>\n",
              "      <td>3.146955</td>\n",
              "      <td>0.453209</td>\n",
              "      <td>01:13</td>\n",
              "    </tr>\n",
              "  </tbody>\n",
              "</table>"
            ],
            "text/plain": [
              "<IPython.core.display.HTML object>"
            ]
          },
          "metadata": {
            "tags": []
          }
        }
      ]
    },
    {
      "cell_type": "code",
      "metadata": {
        "id": "Owff_BJXw53u",
        "outputId": "73c35b66-6fe2-482c-8ef8-08d468ac9d32",
        "colab": {
          "base_uri": "https://localhost:8080/",
          "height": 80
        }
      },
      "source": [
        "learn.unfreeze()\n",
        "learn.fit_one_cycle(1, slice(2e-3/100, 2e-3))"
      ],
      "execution_count": 28,
      "outputs": [
        {
          "output_type": "display_data",
          "data": {
            "text/html": [
              "<table border=\"1\" class=\"dataframe\">\n",
              "  <thead>\n",
              "    <tr style=\"text-align: left;\">\n",
              "      <th>epoch</th>\n",
              "      <th>train_loss</th>\n",
              "      <th>valid_loss</th>\n",
              "      <th>accuracy</th>\n",
              "      <th>time</th>\n",
              "    </tr>\n",
              "  </thead>\n",
              "  <tbody>\n",
              "    <tr>\n",
              "      <td>0</td>\n",
              "      <td>2.353477</td>\n",
              "      <td>2.529993</td>\n",
              "      <td>0.552139</td>\n",
              "      <td>03:22</td>\n",
              "    </tr>\n",
              "  </tbody>\n",
              "</table>"
            ],
            "text/plain": [
              "<IPython.core.display.HTML object>"
            ]
          },
          "metadata": {
            "tags": []
          }
        }
      ]
    },
    {
      "cell_type": "code",
      "metadata": {
        "id": "lqAyu56V8Waq",
        "outputId": "0709eb8f-71f7-41e7-cd5f-a50b4c7f720b",
        "colab": {
          "base_uri": "https://localhost:8080/",
          "height": 111
        }
      },
      "source": [
        "learn.fit_one_cycle(2, slice(2e-3/100, 2e-3))"
      ],
      "execution_count": 29,
      "outputs": [
        {
          "output_type": "display_data",
          "data": {
            "text/html": [
              "<table border=\"1\" class=\"dataframe\">\n",
              "  <thead>\n",
              "    <tr style=\"text-align: left;\">\n",
              "      <th>epoch</th>\n",
              "      <th>train_loss</th>\n",
              "      <th>valid_loss</th>\n",
              "      <th>accuracy</th>\n",
              "      <th>time</th>\n",
              "    </tr>\n",
              "  </thead>\n",
              "  <tbody>\n",
              "    <tr>\n",
              "      <td>0</td>\n",
              "      <td>2.149602</td>\n",
              "      <td>2.174727</td>\n",
              "      <td>0.612299</td>\n",
              "      <td>03:04</td>\n",
              "    </tr>\n",
              "    <tr>\n",
              "      <td>1</td>\n",
              "      <td>1.708092</td>\n",
              "      <td>2.001833</td>\n",
              "      <td>0.635027</td>\n",
              "      <td>03:10</td>\n",
              "    </tr>\n",
              "  </tbody>\n",
              "</table>"
            ],
            "text/plain": [
              "<IPython.core.display.HTML object>"
            ]
          },
          "metadata": {
            "tags": []
          }
        }
      ]
    },
    {
      "cell_type": "code",
      "metadata": {
        "id": "a7I1xMRp8bUd",
        "outputId": "8bc23cf6-5fbd-4dfc-f8d1-cfbc72378067",
        "colab": {
          "base_uri": "https://localhost:8080/",
          "height": 111
        }
      },
      "source": [
        "learn.fit_one_cycle(2, slice(2e-3/100, 2e-3))"
      ],
      "execution_count": 30,
      "outputs": [
        {
          "output_type": "display_data",
          "data": {
            "text/html": [
              "<table border=\"1\" class=\"dataframe\">\n",
              "  <thead>\n",
              "    <tr style=\"text-align: left;\">\n",
              "      <th>epoch</th>\n",
              "      <th>train_loss</th>\n",
              "      <th>valid_loss</th>\n",
              "      <th>accuracy</th>\n",
              "      <th>time</th>\n",
              "    </tr>\n",
              "  </thead>\n",
              "  <tbody>\n",
              "    <tr>\n",
              "      <td>0</td>\n",
              "      <td>1.551519</td>\n",
              "      <td>1.810251</td>\n",
              "      <td>0.667112</td>\n",
              "      <td>03:14</td>\n",
              "    </tr>\n",
              "    <tr>\n",
              "      <td>1</td>\n",
              "      <td>1.296878</td>\n",
              "      <td>1.679339</td>\n",
              "      <td>0.684492</td>\n",
              "      <td>03:02</td>\n",
              "    </tr>\n",
              "  </tbody>\n",
              "</table>"
            ],
            "text/plain": [
              "<IPython.core.display.HTML object>"
            ]
          },
          "metadata": {
            "tags": []
          }
        }
      ]
    },
    {
      "cell_type": "code",
      "metadata": {
        "id": "UAnti-XmGVfO",
        "outputId": "fff8776b-38d2-4e7b-9eba-a8c8a071ae49",
        "colab": {
          "base_uri": "https://localhost:8080/",
          "height": 111
        }
      },
      "source": [
        "learn.fit_one_cycle(2, slice(2e-3/100, 2e-3))"
      ],
      "execution_count": 31,
      "outputs": [
        {
          "output_type": "display_data",
          "data": {
            "text/html": [
              "<table border=\"1\" class=\"dataframe\">\n",
              "  <thead>\n",
              "    <tr style=\"text-align: left;\">\n",
              "      <th>epoch</th>\n",
              "      <th>train_loss</th>\n",
              "      <th>valid_loss</th>\n",
              "      <th>accuracy</th>\n",
              "      <th>time</th>\n",
              "    </tr>\n",
              "  </thead>\n",
              "  <tbody>\n",
              "    <tr>\n",
              "      <td>0</td>\n",
              "      <td>1.228045</td>\n",
              "      <td>1.496920</td>\n",
              "      <td>0.719251</td>\n",
              "      <td>03:08</td>\n",
              "    </tr>\n",
              "    <tr>\n",
              "      <td>1</td>\n",
              "      <td>1.088280</td>\n",
              "      <td>1.435347</td>\n",
              "      <td>0.725936</td>\n",
              "      <td>03:09</td>\n",
              "    </tr>\n",
              "  </tbody>\n",
              "</table>"
            ],
            "text/plain": [
              "<IPython.core.display.HTML object>"
            ]
          },
          "metadata": {
            "tags": []
          }
        }
      ]
    },
    {
      "cell_type": "code",
      "metadata": {
        "id": "bIft7W25GwSu",
        "outputId": "2e4846cf-d057-42b6-8e47-45ef609d3acb",
        "colab": {
          "base_uri": "https://localhost:8080/",
          "height": 111
        }
      },
      "source": [
        "learn.fit_one_cycle(2, slice(2e-3/100, 2e-3))"
      ],
      "execution_count": 32,
      "outputs": [
        {
          "output_type": "display_data",
          "data": {
            "text/html": [
              "<table border=\"1\" class=\"dataframe\">\n",
              "  <thead>\n",
              "    <tr style=\"text-align: left;\">\n",
              "      <th>epoch</th>\n",
              "      <th>train_loss</th>\n",
              "      <th>valid_loss</th>\n",
              "      <th>accuracy</th>\n",
              "      <th>time</th>\n",
              "    </tr>\n",
              "  </thead>\n",
              "  <tbody>\n",
              "    <tr>\n",
              "      <td>0</td>\n",
              "      <td>1.022990</td>\n",
              "      <td>1.371577</td>\n",
              "      <td>0.750000</td>\n",
              "      <td>03:20</td>\n",
              "    </tr>\n",
              "    <tr>\n",
              "      <td>1</td>\n",
              "      <td>0.928412</td>\n",
              "      <td>1.304002</td>\n",
              "      <td>0.764706</td>\n",
              "      <td>03:10</td>\n",
              "    </tr>\n",
              "  </tbody>\n",
              "</table>"
            ],
            "text/plain": [
              "<IPython.core.display.HTML object>"
            ]
          },
          "metadata": {
            "tags": []
          }
        }
      ]
    },
    {
      "cell_type": "code",
      "metadata": {
        "id": "EEHszVRvGyFt",
        "outputId": "13238206-9426-4512-f4c9-9af5d10513e6",
        "colab": {
          "base_uri": "https://localhost:8080/",
          "height": 111
        }
      },
      "source": [
        "learn.fit_one_cycle(2, slice(2e-3/100, 2e-3))"
      ],
      "execution_count": 33,
      "outputs": [
        {
          "output_type": "display_data",
          "data": {
            "text/html": [
              "<table border=\"1\" class=\"dataframe\">\n",
              "  <thead>\n",
              "    <tr style=\"text-align: left;\">\n",
              "      <th>epoch</th>\n",
              "      <th>train_loss</th>\n",
              "      <th>valid_loss</th>\n",
              "      <th>accuracy</th>\n",
              "      <th>time</th>\n",
              "    </tr>\n",
              "  </thead>\n",
              "  <tbody>\n",
              "    <tr>\n",
              "      <td>0</td>\n",
              "      <td>0.845470</td>\n",
              "      <td>1.254328</td>\n",
              "      <td>0.752674</td>\n",
              "      <td>03:26</td>\n",
              "    </tr>\n",
              "    <tr>\n",
              "      <td>1</td>\n",
              "      <td>0.731954</td>\n",
              "      <td>1.221027</td>\n",
              "      <td>0.756684</td>\n",
              "      <td>03:16</td>\n",
              "    </tr>\n",
              "  </tbody>\n",
              "</table>"
            ],
            "text/plain": [
              "<IPython.core.display.HTML object>"
            ]
          },
          "metadata": {
            "tags": []
          }
        }
      ]
    },
    {
      "cell_type": "code",
      "metadata": {
        "id": "XsHfrhCHG3dN",
        "outputId": "b06eb94a-74f1-43fc-d9f1-c6177006fc5b",
        "colab": {
          "base_uri": "https://localhost:8080/",
          "height": 173
        }
      },
      "source": [
        "learn.fit_one_cycle(4, slice(2e-3/100, 2e-3))"
      ],
      "execution_count": 34,
      "outputs": [
        {
          "output_type": "display_data",
          "data": {
            "text/html": [
              "<table border=\"1\" class=\"dataframe\">\n",
              "  <thead>\n",
              "    <tr style=\"text-align: left;\">\n",
              "      <th>epoch</th>\n",
              "      <th>train_loss</th>\n",
              "      <th>valid_loss</th>\n",
              "      <th>accuracy</th>\n",
              "      <th>time</th>\n",
              "    </tr>\n",
              "  </thead>\n",
              "  <tbody>\n",
              "    <tr>\n",
              "      <td>0</td>\n",
              "      <td>0.695664</td>\n",
              "      <td>1.221781</td>\n",
              "      <td>0.774064</td>\n",
              "      <td>03:17</td>\n",
              "    </tr>\n",
              "    <tr>\n",
              "      <td>1</td>\n",
              "      <td>0.676278</td>\n",
              "      <td>1.171701</td>\n",
              "      <td>0.800802</td>\n",
              "      <td>03:27</td>\n",
              "    </tr>\n",
              "    <tr>\n",
              "      <td>2</td>\n",
              "      <td>0.582630</td>\n",
              "      <td>1.083633</td>\n",
              "      <td>0.808824</td>\n",
              "      <td>03:22</td>\n",
              "    </tr>\n",
              "    <tr>\n",
              "      <td>3</td>\n",
              "      <td>0.518665</td>\n",
              "      <td>1.077539</td>\n",
              "      <td>0.800802</td>\n",
              "      <td>03:25</td>\n",
              "    </tr>\n",
              "  </tbody>\n",
              "</table>"
            ],
            "text/plain": [
              "<IPython.core.display.HTML object>"
            ]
          },
          "metadata": {
            "tags": []
          }
        }
      ]
    },
    {
      "cell_type": "code",
      "metadata": {
        "id": "0Zsd99isb9EQ",
        "outputId": "ed72cff9-7abb-4c72-b961-75164aaaa775",
        "colab": {
          "base_uri": "https://localhost:8080/",
          "height": 173
        }
      },
      "source": [
        "learn.fit_one_cycle(4, slice(2e-3/100, 2e-3))"
      ],
      "execution_count": 35,
      "outputs": [
        {
          "output_type": "display_data",
          "data": {
            "text/html": [
              "<table border=\"1\" class=\"dataframe\">\n",
              "  <thead>\n",
              "    <tr style=\"text-align: left;\">\n",
              "      <th>epoch</th>\n",
              "      <th>train_loss</th>\n",
              "      <th>valid_loss</th>\n",
              "      <th>accuracy</th>\n",
              "      <th>time</th>\n",
              "    </tr>\n",
              "  </thead>\n",
              "  <tbody>\n",
              "    <tr>\n",
              "      <td>0</td>\n",
              "      <td>0.505804</td>\n",
              "      <td>1.093688</td>\n",
              "      <td>0.815508</td>\n",
              "      <td>03:12</td>\n",
              "    </tr>\n",
              "    <tr>\n",
              "      <td>1</td>\n",
              "      <td>0.528499</td>\n",
              "      <td>1.049326</td>\n",
              "      <td>0.808824</td>\n",
              "      <td>03:25</td>\n",
              "    </tr>\n",
              "    <tr>\n",
              "      <td>2</td>\n",
              "      <td>0.450040</td>\n",
              "      <td>1.047893</td>\n",
              "      <td>0.814171</td>\n",
              "      <td>03:30</td>\n",
              "    </tr>\n",
              "    <tr>\n",
              "      <td>3</td>\n",
              "      <td>0.381450</td>\n",
              "      <td>1.040073</td>\n",
              "      <td>0.816845</td>\n",
              "      <td>03:16</td>\n",
              "    </tr>\n",
              "  </tbody>\n",
              "</table>"
            ],
            "text/plain": [
              "<IPython.core.display.HTML object>"
            ]
          },
          "metadata": {
            "tags": []
          }
        }
      ]
    },
    {
      "cell_type": "code",
      "metadata": {
        "id": "atNWNKDFPbuI",
        "outputId": "50163e4a-08dc-4271-c062-aa791c776c25",
        "colab": {
          "base_uri": "https://localhost:8080/",
          "height": 173
        }
      },
      "source": [
        "learn.fit_one_cycle(4, slice(2e-3/100, 2e-3))"
      ],
      "execution_count": 36,
      "outputs": [
        {
          "output_type": "display_data",
          "data": {
            "text/html": [
              "<table border=\"1\" class=\"dataframe\">\n",
              "  <thead>\n",
              "    <tr style=\"text-align: left;\">\n",
              "      <th>epoch</th>\n",
              "      <th>train_loss</th>\n",
              "      <th>valid_loss</th>\n",
              "      <th>accuracy</th>\n",
              "      <th>time</th>\n",
              "    </tr>\n",
              "  </thead>\n",
              "  <tbody>\n",
              "    <tr>\n",
              "      <td>0</td>\n",
              "      <td>0.404627</td>\n",
              "      <td>1.060907</td>\n",
              "      <td>0.806150</td>\n",
              "      <td>03:17</td>\n",
              "    </tr>\n",
              "    <tr>\n",
              "      <td>1</td>\n",
              "      <td>0.436042</td>\n",
              "      <td>1.040857</td>\n",
              "      <td>0.811497</td>\n",
              "      <td>03:07</td>\n",
              "    </tr>\n",
              "    <tr>\n",
              "      <td>2</td>\n",
              "      <td>0.375731</td>\n",
              "      <td>1.006607</td>\n",
              "      <td>0.819519</td>\n",
              "      <td>03:15</td>\n",
              "    </tr>\n",
              "    <tr>\n",
              "      <td>3</td>\n",
              "      <td>0.339328</td>\n",
              "      <td>1.008590</td>\n",
              "      <td>0.827540</td>\n",
              "      <td>03:26</td>\n",
              "    </tr>\n",
              "  </tbody>\n",
              "</table>"
            ],
            "text/plain": [
              "<IPython.core.display.HTML object>"
            ]
          },
          "metadata": {
            "tags": []
          }
        }
      ]
    },
    {
      "cell_type": "code",
      "metadata": {
        "id": "rKrBTZ0T1uVA",
        "outputId": "08a4cab5-ffe9-43c0-82b5-6aaa8dbe1861",
        "colab": {
          "base_uri": "https://localhost:8080/",
          "height": 173
        }
      },
      "source": [
        "learn.fit_one_cycle(4, slice(2e-3/100, 2e-3))"
      ],
      "execution_count": 37,
      "outputs": [
        {
          "output_type": "display_data",
          "data": {
            "text/html": [
              "<table border=\"1\" class=\"dataframe\">\n",
              "  <thead>\n",
              "    <tr style=\"text-align: left;\">\n",
              "      <th>epoch</th>\n",
              "      <th>train_loss</th>\n",
              "      <th>valid_loss</th>\n",
              "      <th>accuracy</th>\n",
              "      <th>time</th>\n",
              "    </tr>\n",
              "  </thead>\n",
              "  <tbody>\n",
              "    <tr>\n",
              "      <td>0</td>\n",
              "      <td>0.323440</td>\n",
              "      <td>1.040214</td>\n",
              "      <td>0.812834</td>\n",
              "      <td>03:09</td>\n",
              "    </tr>\n",
              "    <tr>\n",
              "      <td>1</td>\n",
              "      <td>0.362818</td>\n",
              "      <td>1.039197</td>\n",
              "      <td>0.824866</td>\n",
              "      <td>03:16</td>\n",
              "    </tr>\n",
              "    <tr>\n",
              "      <td>2</td>\n",
              "      <td>0.320721</td>\n",
              "      <td>1.021155</td>\n",
              "      <td>0.828877</td>\n",
              "      <td>03:19</td>\n",
              "    </tr>\n",
              "    <tr>\n",
              "      <td>3</td>\n",
              "      <td>0.278432</td>\n",
              "      <td>1.024950</td>\n",
              "      <td>0.830214</td>\n",
              "      <td>03:17</td>\n",
              "    </tr>\n",
              "  </tbody>\n",
              "</table>"
            ],
            "text/plain": [
              "<IPython.core.display.HTML object>"
            ]
          },
          "metadata": {
            "tags": []
          }
        }
      ]
    },
    {
      "cell_type": "code",
      "metadata": {
        "id": "ajQC6WDg1yA9",
        "outputId": "ac20c6c7-df5f-4d3c-fd55-a8bc09651d38",
        "colab": {
          "base_uri": "https://localhost:8080/",
          "height": 173
        }
      },
      "source": [
        "learn.fit_one_cycle(4, slice(2e-3/100, 2e-3))"
      ],
      "execution_count": 38,
      "outputs": [
        {
          "output_type": "display_data",
          "data": {
            "text/html": [
              "<table border=\"1\" class=\"dataframe\">\n",
              "  <thead>\n",
              "    <tr style=\"text-align: left;\">\n",
              "      <th>epoch</th>\n",
              "      <th>train_loss</th>\n",
              "      <th>valid_loss</th>\n",
              "      <th>accuracy</th>\n",
              "      <th>time</th>\n",
              "    </tr>\n",
              "  </thead>\n",
              "  <tbody>\n",
              "    <tr>\n",
              "      <td>0</td>\n",
              "      <td>0.277822</td>\n",
              "      <td>1.107404</td>\n",
              "      <td>0.823529</td>\n",
              "      <td>03:11</td>\n",
              "    </tr>\n",
              "    <tr>\n",
              "      <td>1</td>\n",
              "      <td>0.332759</td>\n",
              "      <td>1.100617</td>\n",
              "      <td>0.816845</td>\n",
              "      <td>03:00</td>\n",
              "    </tr>\n",
              "    <tr>\n",
              "      <td>2</td>\n",
              "      <td>0.271586</td>\n",
              "      <td>1.101288</td>\n",
              "      <td>0.823529</td>\n",
              "      <td>03:05</td>\n",
              "    </tr>\n",
              "    <tr>\n",
              "      <td>3</td>\n",
              "      <td>0.229076</td>\n",
              "      <td>1.075749</td>\n",
              "      <td>0.824866</td>\n",
              "      <td>03:10</td>\n",
              "    </tr>\n",
              "  </tbody>\n",
              "</table>"
            ],
            "text/plain": [
              "<IPython.core.display.HTML object>"
            ]
          },
          "metadata": {
            "tags": []
          }
        }
      ]
    },
    {
      "cell_type": "code",
      "metadata": {
        "id": "KKydb0B4BKGk",
        "outputId": "45b0c9f4-774e-4a2e-9db1-8bb8d61abcca",
        "colab": {
          "base_uri": "https://localhost:8080/",
          "height": 173
        }
      },
      "source": [
        "learn.fit_one_cycle(4, slice(2e-3/100, 2e-3))"
      ],
      "execution_count": 39,
      "outputs": [
        {
          "output_type": "display_data",
          "data": {
            "text/html": [
              "<table border=\"1\" class=\"dataframe\">\n",
              "  <thead>\n",
              "    <tr style=\"text-align: left;\">\n",
              "      <th>epoch</th>\n",
              "      <th>train_loss</th>\n",
              "      <th>valid_loss</th>\n",
              "      <th>accuracy</th>\n",
              "      <th>time</th>\n",
              "    </tr>\n",
              "  </thead>\n",
              "  <tbody>\n",
              "    <tr>\n",
              "      <td>0</td>\n",
              "      <td>0.235823</td>\n",
              "      <td>1.127673</td>\n",
              "      <td>0.814171</td>\n",
              "      <td>03:07</td>\n",
              "    </tr>\n",
              "    <tr>\n",
              "      <td>1</td>\n",
              "      <td>0.271143</td>\n",
              "      <td>1.062243</td>\n",
              "      <td>0.824866</td>\n",
              "      <td>03:21</td>\n",
              "    </tr>\n",
              "    <tr>\n",
              "      <td>2</td>\n",
              "      <td>0.249726</td>\n",
              "      <td>1.080588</td>\n",
              "      <td>0.826203</td>\n",
              "      <td>03:03</td>\n",
              "    </tr>\n",
              "    <tr>\n",
              "      <td>3</td>\n",
              "      <td>0.215335</td>\n",
              "      <td>1.061527</td>\n",
              "      <td>0.824866</td>\n",
              "      <td>03:24</td>\n",
              "    </tr>\n",
              "  </tbody>\n",
              "</table>"
            ],
            "text/plain": [
              "<IPython.core.display.HTML object>"
            ]
          },
          "metadata": {
            "tags": []
          }
        }
      ]
    },
    {
      "cell_type": "code",
      "metadata": {
        "id": "T2APKtFKBpGY",
        "outputId": "57e00f70-63f3-4e62-9080-bd48f4235d69",
        "colab": {
          "base_uri": "https://localhost:8080/",
          "height": 173
        }
      },
      "source": [
        "learn.fit_one_cycle(4, slice(2e-3/100, 2e-3))"
      ],
      "execution_count": 40,
      "outputs": [
        {
          "output_type": "display_data",
          "data": {
            "text/html": [
              "<table border=\"1\" class=\"dataframe\">\n",
              "  <thead>\n",
              "    <tr style=\"text-align: left;\">\n",
              "      <th>epoch</th>\n",
              "      <th>train_loss</th>\n",
              "      <th>valid_loss</th>\n",
              "      <th>accuracy</th>\n",
              "      <th>time</th>\n",
              "    </tr>\n",
              "  </thead>\n",
              "  <tbody>\n",
              "    <tr>\n",
              "      <td>0</td>\n",
              "      <td>0.223297</td>\n",
              "      <td>1.159763</td>\n",
              "      <td>0.819519</td>\n",
              "      <td>03:24</td>\n",
              "    </tr>\n",
              "    <tr>\n",
              "      <td>1</td>\n",
              "      <td>0.260269</td>\n",
              "      <td>1.095498</td>\n",
              "      <td>0.822192</td>\n",
              "      <td>03:26</td>\n",
              "    </tr>\n",
              "    <tr>\n",
              "      <td>2</td>\n",
              "      <td>0.225869</td>\n",
              "      <td>1.082394</td>\n",
              "      <td>0.836898</td>\n",
              "      <td>03:04</td>\n",
              "    </tr>\n",
              "    <tr>\n",
              "      <td>3</td>\n",
              "      <td>0.210322</td>\n",
              "      <td>1.031221</td>\n",
              "      <td>0.836898</td>\n",
              "      <td>03:24</td>\n",
              "    </tr>\n",
              "  </tbody>\n",
              "</table>"
            ],
            "text/plain": [
              "<IPython.core.display.HTML object>"
            ]
          },
          "metadata": {
            "tags": []
          }
        }
      ]
    },
    {
      "cell_type": "code",
      "metadata": {
        "id": "qtTypA1sPgLU",
        "outputId": "72230076-39ef-4601-9daf-baa72f734c08",
        "colab": {
          "base_uri": "https://localhost:8080/",
          "height": 111
        }
      },
      "source": [
        "learn.fit_one_cycle(2, slice(2e-3/100, 2e-3))"
      ],
      "execution_count": 41,
      "outputs": [
        {
          "output_type": "display_data",
          "data": {
            "text/html": [
              "<table border=\"1\" class=\"dataframe\">\n",
              "  <thead>\n",
              "    <tr style=\"text-align: left;\">\n",
              "      <th>epoch</th>\n",
              "      <th>train_loss</th>\n",
              "      <th>valid_loss</th>\n",
              "      <th>accuracy</th>\n",
              "      <th>time</th>\n",
              "    </tr>\n",
              "  </thead>\n",
              "  <tbody>\n",
              "    <tr>\n",
              "      <td>0</td>\n",
              "      <td>0.214190</td>\n",
              "      <td>1.085827</td>\n",
              "      <td>0.832888</td>\n",
              "      <td>03:06</td>\n",
              "    </tr>\n",
              "    <tr>\n",
              "      <td>1</td>\n",
              "      <td>0.217484</td>\n",
              "      <td>1.045098</td>\n",
              "      <td>0.826203</td>\n",
              "      <td>03:14</td>\n",
              "    </tr>\n",
              "  </tbody>\n",
              "</table>"
            ],
            "text/plain": [
              "<IPython.core.display.HTML object>"
            ]
          },
          "metadata": {
            "tags": []
          }
        }
      ]
    },
    {
      "cell_type": "code",
      "metadata": {
        "id": "b242kBsTUp9Y",
        "outputId": "ca76fcc8-a6b6-4b19-ce78-f76c16ef7cf0",
        "colab": {
          "base_uri": "https://localhost:8080/",
          "height": 111
        }
      },
      "source": [
        "learn.fit_one_cycle(2, slice(2e-3/100, 2e-3))"
      ],
      "execution_count": 42,
      "outputs": [
        {
          "output_type": "display_data",
          "data": {
            "text/html": [
              "<table border=\"1\" class=\"dataframe\">\n",
              "  <thead>\n",
              "    <tr style=\"text-align: left;\">\n",
              "      <th>epoch</th>\n",
              "      <th>train_loss</th>\n",
              "      <th>valid_loss</th>\n",
              "      <th>accuracy</th>\n",
              "      <th>time</th>\n",
              "    </tr>\n",
              "  </thead>\n",
              "  <tbody>\n",
              "    <tr>\n",
              "      <td>0</td>\n",
              "      <td>0.211938</td>\n",
              "      <td>1.141356</td>\n",
              "      <td>0.828877</td>\n",
              "      <td>03:06</td>\n",
              "    </tr>\n",
              "    <tr>\n",
              "      <td>1</td>\n",
              "      <td>0.200799</td>\n",
              "      <td>1.152526</td>\n",
              "      <td>0.830214</td>\n",
              "      <td>03:08</td>\n",
              "    </tr>\n",
              "  </tbody>\n",
              "</table>"
            ],
            "text/plain": [
              "<IPython.core.display.HTML object>"
            ]
          },
          "metadata": {
            "tags": []
          }
        }
      ]
    },
    {
      "cell_type": "code",
      "metadata": {
        "id": "Duwf1Ih5VeDZ",
        "outputId": "e208761b-baba-40b2-fd5a-1203617b28be",
        "colab": {
          "base_uri": "https://localhost:8080/",
          "height": 80
        }
      },
      "source": [
        "learn.fit_one_cycle(1, slice(2e-3/100, 2e-3))"
      ],
      "execution_count": 43,
      "outputs": [
        {
          "output_type": "display_data",
          "data": {
            "text/html": [
              "<table border=\"1\" class=\"dataframe\">\n",
              "  <thead>\n",
              "    <tr style=\"text-align: left;\">\n",
              "      <th>epoch</th>\n",
              "      <th>train_loss</th>\n",
              "      <th>valid_loss</th>\n",
              "      <th>accuracy</th>\n",
              "      <th>time</th>\n",
              "    </tr>\n",
              "  </thead>\n",
              "  <tbody>\n",
              "    <tr>\n",
              "      <td>0</td>\n",
              "      <td>0.194369</td>\n",
              "      <td>1.099740</td>\n",
              "      <td>0.823529</td>\n",
              "      <td>03:20</td>\n",
              "    </tr>\n",
              "  </tbody>\n",
              "</table>"
            ],
            "text/plain": [
              "<IPython.core.display.HTML object>"
            ]
          },
          "metadata": {
            "tags": []
          }
        }
      ]
    },
    {
      "cell_type": "code",
      "metadata": {
        "id": "c65d-osfDUXm"
      },
      "source": [
        "# save the best model\n",
        "\n",
        "learn.save_encoder('cadec_ask_mixed_fold6')"
      ],
      "execution_count": 44,
      "outputs": []
    },
    {
      "cell_type": "markdown",
      "metadata": {
        "id": "rCwZU0E2RgM6"
      },
      "source": [
        "# Part three: Predict on the test dataset"
      ]
    },
    {
      "cell_type": "code",
      "metadata": {
        "id": "gDm72c-dOu7d",
        "outputId": "551b930a-37b5-4c07-86bb-6c5dea28635c",
        "colab": {
          "base_uri": "https://localhost:8080/",
          "height": 17
        }
      },
      "source": [
        "# use the test data for prediction\n",
        "\n",
        "preds, y = learn.get_preds(DatasetType.Test)"
      ],
      "execution_count": 45,
      "outputs": [
        {
          "output_type": "display_data",
          "data": {
            "text/html": [
              ""
            ],
            "text/plain": [
              "<IPython.core.display.HTML object>"
            ]
          },
          "metadata": {
            "tags": []
          }
        }
      ]
    },
    {
      "cell_type": "code",
      "metadata": {
        "id": "6tFSQcsWPvxn",
        "outputId": "62d9e7ba-1d5d-44c7-ed65-f293f3e0b2a3",
        "colab": {
          "base_uri": "https://localhost:8080/",
          "height": 105
        }
      },
      "source": [
        "predictions, *_ = learn.get_preds(DatasetType.Test)\n",
        "labels = np.argmax(predictions, 1)\n",
        "predict_list = labels.tolist()\n",
        "standard_list = test[0].tolist()\n",
        "\n",
        "print(len(predict_list))\n",
        "print(len(standard_list))\n",
        "\n",
        "print(predict_list)\n",
        "print(standard_list)"
      ],
      "execution_count": 46,
      "outputs": [
        {
          "output_type": "display_data",
          "data": {
            "text/html": [
              ""
            ],
            "text/plain": [
              "<IPython.core.display.HTML object>"
            ]
          },
          "metadata": {
            "tags": []
          }
        },
        {
          "output_type": "stream",
          "text": [
            "866\n",
            "866\n",
            "[2, 18, 325, 213, 8, 8, 8, 8, 8, 8, 8, 77, 882, 27, 31, 197, 415, 37, 37, 37, 727, 37, 37, 37, 37, 37, 735, 41, 41, 41, 88, 49, 818, 49, 49, 49, 49, 49, 49, 49, 51, 53, 53, 53, 53, 53, 141, 56, 58, 58, 301, 60, 64, 67, 71, 71, 289, 76, 864, 37, 79, 79, 79, 79, 79, 79, 79, 79, 79, 79, 79, 79, 79, 79, 79, 79, 79, 79, 79, 79, 79, 79, 79, 79, 79, 79, 79, 79, 79, 79, 79, 289, 79, 79, 79, 79, 79, 80, 80, 80, 80, 80, 80, 81, 29, 83, 89, 90, 91, 91, 91, 91, 91, 94, 94, 94, 94, 94, 94, 94, 94, 94, 94, 96, 96, 96, 100, 546, 100, 100, 100, 100, 214, 106, 108, 108, 108, 108, 289, 604, 111, 111, 111, 112, 113, 114, 398, 487, 117, 289, 833, 637, 122, 279, 125, 275, 125, 125, 125, 125, 125, 125, 778, 127, 741, 319, 135, 89, 627, 139, 151, 151, 391, 157, 157, 163, 165, 171, 172, 172, 172, 172, 172, 173, 607, 179, 182, 182, 182, 183, 183, 183, 183, 184, 184, 187, 187, 296, 189, 190, 190, 191, 197, 197, 202, 205, 210, 210, 211, 190, 214, 214, 214, 214, 214, 214, 214, 214, 214, 58, 214, 214, 214, 214, 218, 402, 220, 223, 224, 225, 265, 228, 228, 228, 228, 228, 228, 228, 228, 228, 228, 228, 228, 228, 289, 98, 235, 236, 238, 242, 243, 1031, 996, 243, 243, 243, 243, 764, 245, 245, 245, 876, 245, 246, 357, 869, 254, 289, 264, 289, 265, 265, 265, 265, 265, 265, 265, 265, 265, 704, 265, 265, 265, 265, 265, 265, 265, 265, 265, 265, 265, 289, 265, 265, 265, 269, 269, 277, 277, 277, 277, 277, 419, 281, 847, 284, 288, 289, 289, 289, 289, 289, 289, 289, 289, 524, 289, 182, 289, 289, 289, 289, 289, 289, 37, 289, 289, 289, 289, 289, 289, 202, 697, 604, 293, 298, 298, 255, 775, 754, 704, 309, 309, 309, 318, 318, 318, 318, 235, 203, 325, 10, 325, 325, 325, 325, 325, 325, 325, 325, 325, 203, 391, 729, 332, 332, 332, 336, 337, 337, 337, 337, 100, 901, 646, 341, 341, 342, 342, 343, 343, 344, 344, 88, 214, 402, 402, 359, 362, 363, 359, 370, 969, 754, 375, 383, 384, 391, 391, 391, 391, 391, 391, 394, 393, 100, 402, 405, 408, 589, 408, 408, 360, 418, 418, 419, 652, 419, 652, 652, 129, 864, 419, 419, 424, 424, 426, 427, 388, 427, 597, 427, 427, 427, 427, 427, 427, 626, 235, 430, 434, 378, 439, 441, 441, 441, 443, 444, 441, 268, 89, 455, 455, 455, 455, 455, 455, 489, 459, 460, 460, 460, 460, 470, 49, 473, 474, 475, 475, 475, 475, 475, 475, 475, 905, 486, 487, 489, 491, 491, 491, 491, 491, 497, 499, 499, 499, 499, 479, 506, 509, 472, 84, 524, 265, 524, 526, 528, 530, 530, 530, 531, 255, 746, 541, 541, 541, 183, 545, 545, 266, 644, 548, 548, 47, 563, 565, 418, 567, 810, 515, 579, 583, 590, 590, 591, 427, 591, 592, 592, 592, 725, 597, 601, 228, 610, 418, 610, 830, 614, 76, 614, 614, 614, 614, 614, 265, 962, 623, 623, 623, 623, 864, 427, 203, 635, 644, 644, 646, 646, 646, 646, 172, 646, 741, 651, 652, 652, 652, 656, 660, 29, 663, 666, 677, 686, 182, 766, 530, 691, 693, 604, 704, 704, 704, 704, 579, 708, 709, 710, 710, 651, 205, 723, 343, 39, 735, 735, 735, 37, 745, 745, 749, 753, 753, 755, 47, 763, 893, 70, 205, 876, 337, 578, 378, 769, 205, 166, 779, 876, 2, 765, 773, 49, 49, 775, 775, 775, 775, 775, 775, 775, 776, 794, 794, 801, 802, 803, 989, 255, 783, 299, 806, 98, 806, 806, 183, 809, 810, 817, 100, 826, 826, 826, 826, 826, 830, 830, 830, 830, 830, 830, 996, 996, 835, 836, 838, 840, 840, 840, 329, 847, 847, 235, 848, 853, 852, 852, 852, 853, 853, 853, 853, 853, 856, 421, 861, 781, 864, 865, 866, 868, 868, 1026, 876, 172, 888, 890, 415, 896, 897, 896, 896, 896, 896, 896, 896, 896, 896, 902, 875, 904, 918, 919, 933, 935, 935, 936, 937, 937, 937, 937, 937, 940, 948, 948, 925, 948, 949, 949, 949, 949, 949, 949, 949, 949, 949, 949, 949, 949, 949, 949, 949, 949, 949, 949, 949, 949, 949, 949, 949, 949, 949, 949, 949, 949, 949, 949, 949, 949, 949, 949, 949, 949, 949, 949, 949, 949, 949, 949, 949, 949, 949, 949, 949, 949, 949, 949, 949, 949, 949, 949, 949, 949, 949, 949, 949, 949, 949, 949, 949, 949, 949, 949, 949, 949, 949, 949, 949, 949, 949, 949, 949, 949, 949, 949, 949, 949, 949, 949, 949, 949, 949, 949, 949, 949, 949, 949, 949, 949, 949, 949, 949, 949, 949, 949, 949, 949, 949, 950, 950, 950, 950, 952, 952, 952, 952, 955, 1016, 957, 958, 969, 967, 951, 976, 976, 976, 976, 980, 47, 994, 999, 1010, 1015, 1015, 1031, 1031, 1026, 1031, 1026, 1031, 1028, 1029, 1029, 1011, 1035]\n",
            "[2, 5, 8, 8, 8, 8, 8, 8, 8, 8, 8, 8, 8, 27, 31, 34, 37, 37, 37, 37, 37, 37, 37, 37, 37, 37, 39, 41, 41, 41, 46, 49, 49, 49, 49, 49, 49, 49, 49, 49, 51, 53, 53, 53, 53, 53, 54, 56, 58, 58, 58, 60, 64, 67, 71, 71, 76, 76, 76, 79, 79, 79, 79, 79, 79, 79, 79, 79, 79, 79, 79, 79, 79, 79, 79, 79, 79, 79, 79, 79, 79, 79, 79, 79, 79, 79, 79, 79, 79, 79, 79, 79, 79, 79, 79, 79, 79, 80, 80, 80, 80, 80, 80, 81, 81, 83, 89, 90, 91, 91, 91, 91, 91, 94, 94, 94, 94, 94, 94, 94, 94, 94, 94, 96, 96, 96, 100, 100, 100, 100, 100, 100, 102, 106, 108, 108, 108, 108, 108, 111, 111, 111, 111, 112, 113, 114, 116, 117, 117, 118, 120, 121, 122, 123, 125, 125, 125, 125, 125, 125, 125, 125, 125, 127, 129, 131, 135, 137, 138, 139, 151, 151, 156, 157, 157, 163, 165, 171, 172, 172, 172, 172, 172, 173, 177, 179, 182, 182, 182, 183, 183, 183, 183, 184, 184, 187, 187, 187, 189, 190, 190, 191, 197, 197, 201, 205, 210, 210, 211, 211, 214, 214, 214, 214, 214, 214, 214, 214, 214, 214, 214, 214, 214, 214, 218, 220, 220, 223, 224, 225, 228, 228, 228, 228, 228, 228, 228, 228, 228, 228, 228, 228, 228, 228, 228, 234, 235, 236, 238, 242, 243, 243, 243, 243, 243, 243, 243, 245, 245, 245, 245, 245, 245, 246, 246, 249, 254, 260, 264, 265, 265, 265, 265, 265, 265, 265, 265, 265, 265, 265, 265, 265, 265, 265, 265, 265, 265, 265, 265, 265, 265, 265, 265, 265, 265, 269, 269, 277, 277, 277, 277, 277, 279, 281, 282, 284, 288, 289, 289, 289, 289, 289, 289, 289, 289, 289, 289, 289, 289, 289, 289, 289, 289, 289, 289, 289, 289, 289, 289, 289, 289, 291, 293, 293, 293, 298, 298, 300, 301, 301, 301, 309, 309, 309, 318, 318, 318, 318, 320, 325, 325, 325, 325, 325, 325, 325, 325, 325, 325, 325, 325, 325, 325, 326, 332, 332, 332, 336, 337, 337, 337, 337, 337, 337, 338, 341, 341, 342, 342, 343, 343, 344, 344, 346, 351, 358, 358, 359, 362, 363, 368, 370, 371, 374, 375, 383, 384, 391, 391, 391, 391, 391, 391, 394, 394, 402, 402, 405, 408, 408, 408, 408, 416, 418, 418, 419, 419, 419, 419, 419, 419, 419, 419, 419, 424, 424, 426, 427, 427, 427, 427, 427, 427, 427, 427, 427, 427, 427, 427, 430, 434, 437, 439, 441, 441, 441, 443, 444, 445, 446, 446, 455, 455, 455, 455, 455, 455, 457, 459, 460, 460, 460, 460, 470, 473, 473, 474, 475, 475, 475, 475, 475, 475, 475, 477, 486, 488, 489, 491, 491, 491, 491, 491, 497, 499, 499, 499, 499, 504, 506, 509, 510, 517, 524, 524, 524, 526, 528, 530, 530, 530, 531, 534, 541, 541, 541, 541, 545, 545, 545, 545, 546, 548, 548, 562, 563, 565, 565, 567, 576, 577, 579, 583, 590, 590, 591, 591, 591, 592, 592, 592, 594, 597, 601, 606, 610, 610, 610, 611, 614, 614, 614, 614, 614, 614, 614, 614, 614, 623, 623, 623, 623, 625, 626, 631, 635, 644, 644, 646, 646, 646, 646, 646, 646, 649, 651, 652, 652, 652, 656, 660, 662, 665, 666, 678, 686, 686, 687, 689, 691, 693, 700, 704, 704, 704, 704, 704, 708, 709, 710, 710, 717, 722, 723, 732, 735, 735, 735, 735, 741, 745, 745, 749, 753, 753, 755, 757, 763, 764, 764, 764, 764, 766, 769, 769, 769, 769, 770, 771, 771, 772, 772, 773, 775, 775, 775, 775, 775, 775, 775, 775, 775, 776, 780, 794, 801, 802, 803, 803, 804, 805, 805, 806, 806, 806, 806, 809, 809, 810, 817, 819, 826, 826, 826, 826, 826, 830, 830, 830, 830, 830, 830, 830, 830, 835, 836, 838, 840, 840, 840, 846, 847, 847, 848, 848, 852, 852, 852, 852, 853, 853, 853, 853, 853, 856, 861, 861, 864, 864, 865, 866, 868, 868, 871, 876, 883, 888, 890, 894, 896, 896, 896, 896, 896, 896, 896, 896, 896, 896, 902, 903, 904, 918, 919, 933, 935, 935, 936, 937, 937, 937, 937, 937, 940, 948, 948, 948, 948, 949, 949, 949, 949, 949, 949, 949, 949, 949, 949, 949, 949, 949, 949, 949, 949, 949, 949, 949, 949, 949, 949, 949, 949, 949, 949, 949, 949, 949, 949, 949, 949, 949, 949, 949, 949, 949, 949, 949, 949, 949, 949, 949, 949, 949, 949, 949, 949, 949, 949, 949, 949, 949, 949, 949, 949, 949, 949, 949, 949, 949, 949, 949, 949, 949, 949, 949, 949, 949, 949, 949, 949, 949, 949, 949, 949, 949, 949, 949, 949, 949, 949, 949, 949, 949, 949, 949, 949, 949, 949, 949, 949, 949, 949, 949, 949, 949, 949, 949, 949, 949, 950, 950, 950, 950, 952, 952, 952, 952, 955, 956, 957, 958, 964, 967, 972, 976, 976, 976, 976, 980, 986, 994, 999, 1010, 1015, 1015, 1020, 1024, 1026, 1026, 1026, 1026, 1028, 1029, 1029, 1031, 1035]\n"
          ],
          "name": "stdout"
        }
      ]
    },
    {
      "cell_type": "code",
      "metadata": {
        "id": "XIC4zufnMxtq",
        "outputId": "54bd4000-0a90-450e-fb95-4ff62577820f",
        "colab": {
          "base_uri": "https://localhost:8080/"
        }
      },
      "source": [
        "correct_num = 0\n",
        "\n",
        "for i in range(0, len(standard_list)):\n",
        "  if predict_list[i] == standard_list[i]:\n",
        "    correct_num = correct_num+1\n",
        "  else:\n",
        "    pass\n",
        "print(correct_num)\n",
        "\n",
        "predict_accuracy = correct_num/len(predict_list)\n",
        "print(predict_accuracy)"
      ],
      "execution_count": 47,
      "outputs": [
        {
          "output_type": "stream",
          "text": [
            "678\n",
            "0.7829099307159353\n"
          ],
          "name": "stdout"
        }
      ]
    },
    {
      "cell_type": "code",
      "metadata": {
        "id": "zlKMHp1CIaRJ"
      },
      "source": [
        ""
      ],
      "execution_count": 47,
      "outputs": []
    }
  ]
}