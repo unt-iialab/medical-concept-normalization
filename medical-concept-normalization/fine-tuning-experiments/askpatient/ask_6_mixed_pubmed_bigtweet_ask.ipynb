{
  "nbformat": 4,
  "nbformat_minor": 0,
  "metadata": {
    "accelerator": "TPU",
    "colab": {
      "name": "ask_6_mixed_pubmed_bigtweet_ask.ipynb",
      "provenance": [],
      "collapsed_sections": [],
      "toc_visible": true,
      "include_colab_link": true
    },
    "kernelspec": {
      "display_name": "Python 3",
      "name": "python3"
    }
  },
  "cells": [
    {
      "cell_type": "markdown",
      "metadata": {
        "id": "view-in-github",
        "colab_type": "text"
      },
      "source": [
        "<a href=\"https://colab.research.google.com/github/unt-iialab/medical-concept-normalization/blob/master/medical-concept-normalization/fine-tuning-experiments/askpatient/ask_6_mixed_pubmed_bigtweet_ask.ipynb\" target=\"_parent\"><img src=\"https://colab.research.google.com/assets/colab-badge.svg\" alt=\"Open In Colab\"/></a>"
      ]
    },
    {
      "cell_type": "code",
      "metadata": {
        "id": "adSi6i2-dWxy"
      },
      "source": [
        "import os"
      ],
      "execution_count": 1,
      "outputs": []
    },
    {
      "cell_type": "code",
      "metadata": {
        "id": "E7xYCRGPjd9B"
      },
      "source": [
        "base_dir = 'medical-concept-normalization'"
      ],
      "execution_count": 2,
      "outputs": []
    },
    {
      "cell_type": "code",
      "metadata": {
        "id": "yvIW3aUDjYNS"
      },
      "source": [
        "os.mkdir(base_dir)"
      ],
      "execution_count": 3,
      "outputs": []
    },
    {
      "cell_type": "code",
      "metadata": {
        "id": "es-FFLlfk6SG"
      },
      "source": [
        "os.mkdir('medical-concept-normalization/data_collection')"
      ],
      "execution_count": 4,
      "outputs": []
    },
    {
      "cell_type": "markdown",
      "metadata": {
        "id": "0R-Guw_VoJXm"
      },
      "source": [
        "**Install fastai and clone the fastai for text classification**\n",
        "\n"
      ]
    },
    {
      "cell_type": "code",
      "metadata": {
        "id": "QVZa3Z0PmHFH",
        "outputId": "9f5a7af9-b4ac-4f89-deb2-f3268ed30133",
        "colab": {
          "base_uri": "https://localhost:8080/",
          "height": 68
        }
      },
      "source": [
        "!curl https://course-v3.fast.ai/setup/colab | bash"
      ],
      "execution_count": 5,
      "outputs": [
        {
          "output_type": "stream",
          "text": [
            "  % Total    % Received % Xferd  Average Speed   Time    Time     Time  Current\n",
            "                                 Dload  Upload   Total   Spent    Left  Speed\n",
            "\r  0     0    0     0    0     0      0      0 --:--:-- --:--:-- --:--:--     0\r  0     0    0     0    0     0      0      0 --:--:-- --:--:-- --:--:--     0curl: (6) Could not resolve host: course-v3.fast.ai\n"
          ],
          "name": "stdout"
        }
      ]
    },
    {
      "cell_type": "code",
      "metadata": {
        "id": "_FBFFEBrmJC0",
        "outputId": "609b0236-cb8b-4948-9650-4aefd2974f3e",
        "colab": {
          "base_uri": "https://localhost:8080/",
          "height": 85
        }
      },
      "source": [
        "!git clone https://github.com/wshuyi/demo-nlp-classification-fastai.git"
      ],
      "execution_count": 6,
      "outputs": [
        {
          "output_type": "stream",
          "text": [
            "Cloning into 'demo-nlp-classification-fastai'...\n",
            "remote: Enumerating objects: 9, done.\u001b[K\n",
            "remote: Total 9 (delta 0), reused 0 (delta 0), pack-reused 9\u001b[K\n",
            "Unpacking objects: 100% (9/9), done.\n"
          ],
          "name": "stdout"
        }
      ]
    },
    {
      "cell_type": "code",
      "metadata": {
        "id": "66zfh_JqmWMU"
      },
      "source": [
        "from fastai import *\n",
        "from fastai.text import *"
      ],
      "execution_count": 7,
      "outputs": []
    },
    {
      "cell_type": "markdown",
      "metadata": {
        "id": "mNIw-yALdBU9"
      },
      "source": [
        "**Set the path of the data collections**"
      ]
    },
    {
      "cell_type": "code",
      "metadata": {
        "id": "pzH7VMh4mqCL"
      },
      "source": [
        "path = Path('medical-concept-normalization/data_collection')"
      ],
      "execution_count": 8,
      "outputs": []
    },
    {
      "cell_type": "code",
      "metadata": {
        "id": "b8fjI6yyn4aS"
      },
      "source": [
        "# training data set\n",
        "\n",
        "train_csv = path/'AskAPatient.fold-6.train.csv'\n",
        "train = pd.read_csv(train_csv, header=None)\n",
        "#train.head()\n",
        "#train.info()"
      ],
      "execution_count": 10,
      "outputs": []
    },
    {
      "cell_type": "code",
      "metadata": {
        "id": "Hmlr-bAorfHd",
        "outputId": "5e0b8a1f-9012-46d4-b580-d6cae2adc17d",
        "colab": {
          "base_uri": "https://localhost:8080/",
          "height": 204
        }
      },
      "source": [
        "# validating data set\n",
        "\n",
        "valid = pd.read_csv(path/\"AskAPatient.fold-6.validation.csv\",header=None)\n",
        "valid.head()"
      ],
      "execution_count": 11,
      "outputs": [
        {
          "output_type": "execute_result",
          "data": {
            "text/html": [
              "<div>\n",
              "<style scoped>\n",
              "    .dataframe tbody tr th:only-of-type {\n",
              "        vertical-align: middle;\n",
              "    }\n",
              "\n",
              "    .dataframe tbody tr th {\n",
              "        vertical-align: top;\n",
              "    }\n",
              "\n",
              "    .dataframe thead th {\n",
              "        text-align: right;\n",
              "    }\n",
              "</style>\n",
              "<table border=\"1\" class=\"dataframe\">\n",
              "  <thead>\n",
              "    <tr style=\"text-align: right;\">\n",
              "      <th></th>\n",
              "      <th>0</th>\n",
              "      <th>1</th>\n",
              "    </tr>\n",
              "  </thead>\n",
              "  <tbody>\n",
              "    <tr>\n",
              "      <th>0</th>\n",
              "      <td>2</td>\n",
              "      <td>heel pain</td>\n",
              "    </tr>\n",
              "    <tr>\n",
              "      <th>1</th>\n",
              "      <td>2</td>\n",
              "      <td>heels hurt</td>\n",
              "    </tr>\n",
              "    <tr>\n",
              "      <th>2</th>\n",
              "      <td>4</td>\n",
              "      <td>black and blue marks</td>\n",
              "    </tr>\n",
              "    <tr>\n",
              "      <th>3</th>\n",
              "      <td>5</td>\n",
              "      <td>fast and slow heartbeat</td>\n",
              "    </tr>\n",
              "    <tr>\n",
              "      <th>4</th>\n",
              "      <td>5</td>\n",
              "      <td>increased heart rate</td>\n",
              "    </tr>\n",
              "  </tbody>\n",
              "</table>\n",
              "</div>"
            ],
            "text/plain": [
              "   0                        1\n",
              "0  2                heel pain\n",
              "1  2               heels hurt\n",
              "2  4     black and blue marks\n",
              "3  5  fast and slow heartbeat\n",
              "4  5     increased heart rate"
            ]
          },
          "metadata": {
            "tags": []
          },
          "execution_count": 11
        }
      ]
    },
    {
      "cell_type": "code",
      "metadata": {
        "id": "cOza9dfSsBud",
        "outputId": "a20087e8-0260-47ac-a7d6-484e56c6299c",
        "colab": {
          "base_uri": "https://localhost:8080/",
          "height": 204
        }
      },
      "source": [
        "# testing data set\n",
        "\n",
        "test = pd.read_csv(path/\"AskAPatient.fold-6.test.csv\",header=None)\n",
        "test.head()"
      ],
      "execution_count": 12,
      "outputs": [
        {
          "output_type": "execute_result",
          "data": {
            "text/html": [
              "<div>\n",
              "<style scoped>\n",
              "    .dataframe tbody tr th:only-of-type {\n",
              "        vertical-align: middle;\n",
              "    }\n",
              "\n",
              "    .dataframe tbody tr th {\n",
              "        vertical-align: top;\n",
              "    }\n",
              "\n",
              "    .dataframe thead th {\n",
              "        text-align: right;\n",
              "    }\n",
              "</style>\n",
              "<table border=\"1\" class=\"dataframe\">\n",
              "  <thead>\n",
              "    <tr style=\"text-align: right;\">\n",
              "      <th></th>\n",
              "      <th>0</th>\n",
              "      <th>1</th>\n",
              "    </tr>\n",
              "  </thead>\n",
              "  <tbody>\n",
              "    <tr>\n",
              "      <th>0</th>\n",
              "      <td>2</td>\n",
              "      <td>left heel pain</td>\n",
              "    </tr>\n",
              "    <tr>\n",
              "      <th>1</th>\n",
              "      <td>5</td>\n",
              "      <td>tachycardia</td>\n",
              "    </tr>\n",
              "    <tr>\n",
              "      <th>2</th>\n",
              "      <td>8</td>\n",
              "      <td>ARTHRITIS</td>\n",
              "    </tr>\n",
              "    <tr>\n",
              "      <th>3</th>\n",
              "      <td>8</td>\n",
              "      <td>arthrites</td>\n",
              "    </tr>\n",
              "    <tr>\n",
              "      <th>4</th>\n",
              "      <td>8</td>\n",
              "      <td>arthritis</td>\n",
              "    </tr>\n",
              "  </tbody>\n",
              "</table>\n",
              "</div>"
            ],
            "text/plain": [
              "   0               1\n",
              "0  2  left heel pain\n",
              "1  5     tachycardia\n",
              "2  8       ARTHRITIS\n",
              "3  8       arthrites\n",
              "4  8       arthritis"
            ]
          },
          "metadata": {
            "tags": []
          },
          "execution_count": 12
        }
      ]
    },
    {
      "cell_type": "code",
      "metadata": {
        "id": "Vo-YNvVYoaH6",
        "outputId": "6460dc9c-4e3b-4e56-f273-2f4318cada75",
        "colab": {
          "base_uri": "https://localhost:8080/",
          "height": 17
        }
      },
      "source": [
        "# Creating DataBunch for language modelling\n",
        "\n",
        "data_lm = TextLMDataBunch.from_csv(path, 'mixed_pubmed_bigtweet_askpatient.csv')"
      ],
      "execution_count": 13,
      "outputs": [
        {
          "output_type": "display_data",
          "data": {
            "text/html": [
              ""
            ],
            "text/plain": [
              "<IPython.core.display.HTML object>"
            ]
          },
          "metadata": {
            "tags": []
          }
        },
        {
          "output_type": "display_data",
          "data": {
            "text/html": [
              ""
            ],
            "text/plain": [
              "<IPython.core.display.HTML object>"
            ]
          },
          "metadata": {
            "tags": []
          }
        }
      ]
    },
    {
      "cell_type": "code",
      "metadata": {
        "id": "qcV-9kMnNLBf"
      },
      "source": [
        ""
      ],
      "execution_count": 13,
      "outputs": []
    },
    {
      "cell_type": "code",
      "metadata": {
        "id": "1ScY9afDsnvE"
      },
      "source": [
        "# Creating DataBunch for classification\n",
        "\n",
        "# data_clas = TextClasDataBunch.from_df(path, train, valid, test, vocab=data_lm.train_ds.vocab, bs=128)"
      ],
      "execution_count": 14,
      "outputs": []
    },
    {
      "cell_type": "code",
      "metadata": {
        "id": "gzrSdQcvey9p",
        "outputId": "0144d140-6b4e-4496-e55b-fa8850c9d1d8",
        "colab": {
          "base_uri": "https://localhost:8080/",
          "height": 17
        }
      },
      "source": [
        "data_clas = TextClasDataBunch.from_df(path, train, valid, vocab=data_lm.train_ds.vocab, bs=128)"
      ],
      "execution_count": 15,
      "outputs": [
        {
          "output_type": "display_data",
          "data": {
            "text/html": [
              ""
            ],
            "text/plain": [
              "<IPython.core.display.HTML object>"
            ]
          },
          "metadata": {
            "tags": []
          }
        },
        {
          "output_type": "display_data",
          "data": {
            "text/html": [
              ""
            ],
            "text/plain": [
              "<IPython.core.display.HTML object>"
            ]
          },
          "metadata": {
            "tags": []
          }
        }
      ]
    },
    {
      "cell_type": "code",
      "metadata": {
        "id": "MD27Tf0Ke3ou",
        "outputId": "8f1ec922-0d44-489b-bba5-6e315c207202",
        "colab": {
          "base_uri": "https://localhost:8080/",
          "height": 17
        }
      },
      "source": [
        "data_clas.add_test(test,label=0)\n"
      ],
      "execution_count": 16,
      "outputs": [
        {
          "output_type": "display_data",
          "data": {
            "text/html": [
              ""
            ],
            "text/plain": [
              "<IPython.core.display.HTML object>"
            ]
          },
          "metadata": {
            "tags": []
          }
        }
      ]
    },
    {
      "cell_type": "code",
      "metadata": {
        "id": "-dpjnk_rstwk"
      },
      "source": [
        "data_lm.save()\n",
        "data_clas.save()"
      ],
      "execution_count": 17,
      "outputs": []
    },
    {
      "cell_type": "code",
      "metadata": {
        "id": "4OkiJa36sw5s",
        "outputId": "f8ba54e6-0809-4b27-a435-458845028b5e",
        "colab": {
          "base_uri": "https://localhost:8080/",
          "height": 1000
        }
      },
      "source": [
        "data_lm.train_ds.vocab.itos"
      ],
      "execution_count": 18,
      "outputs": [
        {
          "output_type": "execute_result",
          "data": {
            "text/plain": [
              "['xxunk',\n",
              " 'xxpad',\n",
              " 'xxbos',\n",
              " 'xxeos',\n",
              " 'xxfld',\n",
              " 'xxmaj',\n",
              " 'xxup',\n",
              " 'xxrep',\n",
              " 'xxwrep',\n",
              " 'pain',\n",
              " 'of',\n",
              " 'the',\n",
              " 'in',\n",
              " 'lipitor',\n",
              " 'and',\n",
              " 'to',\n",
              " 'a',\n",
              " 'muscle',\n",
              " 'with',\n",
              " 'for',\n",
              " 'was',\n",
              " 'diclofenac',\n",
              " 'were',\n",
              " 'severe',\n",
              " 'on',\n",
              " 'my',\n",
              " 'is',\n",
              " 'myalgia',\n",
              " 'lower',\n",
              " 'fatigue',\n",
              " 'rt',\n",
              " 'loss',\n",
              " 'by',\n",
              " 'sodium',\n",
              " 'limb',\n",
              " 'cramp',\n",
              " 'weakness',\n",
              " 'at',\n",
              " 'disease',\n",
              " 'that',\n",
              " 'stomach',\n",
              " 'or',\n",
              " 'as',\n",
              " 'depression',\n",
              " 'back',\n",
              " '-',\n",
              " 'patients',\n",
              " 'i',\n",
              " 'from',\n",
              " 'this',\n",
              " 'cramps',\n",
              " 'not',\n",
              " 'upper',\n",
              " 'joint',\n",
              " 'gas',\n",
              " 'memory',\n",
              " 'drug',\n",
              " 'leg',\n",
              " 'mg',\n",
              " 'you',\n",
              " 'all',\n",
              " 'legs',\n",
              " 'pains',\n",
              " 'headache',\n",
              " 'be',\n",
              " 'knee',\n",
              " 'are',\n",
              " 'group',\n",
              " 'shoulder',\n",
              " 'study',\n",
              " 'unable',\n",
              " 'arthralgia',\n",
              " 'treatment',\n",
              " 'gastrointestinal',\n",
              " 'neck',\n",
              " 'excessive',\n",
              " 'foot',\n",
              " 'an',\n",
              " 'after',\n",
              " 'it',\n",
              " 'aches',\n",
              " 'arthritis',\n",
              " 'hip',\n",
              " 'amp',\n",
              " 'have',\n",
              " 'numbness',\n",
              " 'voltaren',\n",
              " 'like',\n",
              " 'arthrotec',\n",
              " 'insomnia',\n",
              " 'p',\n",
              " 'no',\n",
              " 'nausea',\n",
              " 'release',\n",
              " 'increased',\n",
              " '/',\n",
              " 'both',\n",
              " 'gluten',\n",
              " 'asthenia',\n",
              " 'can',\n",
              " 'bleeding',\n",
              " 'abdominal',\n",
              " 'time',\n",
              " 'skin',\n",
              " 'swelling',\n",
              " 'could',\n",
              " 'tired',\n",
              " 'walk',\n",
              " 'heart',\n",
              " 'dizziness',\n",
              " 'blood',\n",
              " 'high',\n",
              " 'problems',\n",
              " 'feeling',\n",
              " 'than',\n",
              " 'walking',\n",
              " 'we',\n",
              " 'feet',\n",
              " 'up',\n",
              " 'free',\n",
              " 'hand',\n",
              " 'effect',\n",
              " 'out',\n",
              " 'difficulty',\n",
              " 'cholesterol',\n",
              " 'new',\n",
              " 'chest',\n",
              " 'muscles',\n",
              " 'low',\n",
              " 'more',\n",
              " 'hair',\n",
              " 'acid',\n",
              " 'inflammatory',\n",
              " 'extreme',\n",
              " 'zocor',\n",
              " 'backache',\n",
              " 'very',\n",
              " 'compared',\n",
              " 'burning',\n",
              " 'ache',\n",
              " 'vision',\n",
              " 'effects',\n",
              " 'using',\n",
              " 'stiffness',\n",
              " 'your',\n",
              " 'diarrhoea',\n",
              " 'liver',\n",
              " 'weight',\n",
              " 'sleep',\n",
              " 'pins',\n",
              " 'needles',\n",
              " 'our',\n",
              " 'two',\n",
              " 'between',\n",
              " 'about',\n",
              " 'right',\n",
              " 'groups',\n",
              " 'amnesia',\n",
              " 'cramping',\n",
              " 'has',\n",
              " 'its',\n",
              " 'significant',\n",
              " 'day',\n",
              " 'impairment',\n",
              " 'significantly',\n",
              " 'use',\n",
              " 'one',\n",
              " 'concentration',\n",
              " 'drugs',\n",
              " 'anti',\n",
              " 'potassium',\n",
              " 'these',\n",
              " 'which',\n",
              " 'h',\n",
              " 'left',\n",
              " 'anxiety',\n",
              " 'calf',\n",
              " 'disability',\n",
              " 'but',\n",
              " 'tingling',\n",
              " 'c',\n",
              " 'short',\n",
              " 'had',\n",
              " 'symptom',\n",
              " 'term',\n",
              " 'do',\n",
              " 'used',\n",
              " 'pressure',\n",
              " 'lack',\n",
              " 'stiff',\n",
              " 'constipation',\n",
              " 'results',\n",
              " 'also',\n",
              " 'bloating',\n",
              " 'placebo',\n",
              " 'dose',\n",
              " 's',\n",
              " 'nt',\n",
              " 'when',\n",
              " 'glutenfree',\n",
              " 'efficacy',\n",
              " 'what',\n",
              " 'disorder',\n",
              " 'so',\n",
              " 'm',\n",
              " 'over',\n",
              " 'poor',\n",
              " 'may',\n",
              " 'arm',\n",
              " 'headaches',\n",
              " 'there',\n",
              " 'hands',\n",
              " 'days',\n",
              " 'reduced',\n",
              " 'been',\n",
              " 'celiac',\n",
              " 'ds',\n",
              " 'get',\n",
              " 'body',\n",
              " 'balance',\n",
              " 'sore',\n",
              " 'acute',\n",
              " 'arms',\n",
              " 'neuropathy',\n",
              " 'blurred',\n",
              " 'ankle',\n",
              " 'w',\n",
              " 'ml',\n",
              " 'showed',\n",
              " 'now',\n",
              " 'treated',\n",
              " 'well',\n",
              " 'serum',\n",
              " 'joints',\n",
              " 'symptoms',\n",
              " 'different',\n",
              " 'renal',\n",
              " 'topical',\n",
              " 'tiredness',\n",
              " 'visual',\n",
              " 'oral',\n",
              " 'products',\n",
              " 'sensation',\n",
              " 'administration',\n",
              " 'food',\n",
              " 'into',\n",
              " 'pravachol',\n",
              " 'myocardial',\n",
              " 'their',\n",
              " 'infarction',\n",
              " 'rash',\n",
              " 'control',\n",
              " 'during',\n",
              " 'atrophy',\n",
              " 'studies',\n",
              " 'vertigo',\n",
              " 'myositis',\n",
              " 'hurt',\n",
              " 'via',\n",
              " 'test',\n",
              " 'clinical',\n",
              " 'rats',\n",
              " 'non',\n",
              " 'attack',\n",
              " 'swollen',\n",
              " 'damage',\n",
              " 'vaginal',\n",
              " 'energy',\n",
              " 'how',\n",
              " 'diabetes',\n",
              " 'mentally',\n",
              " 'itching',\n",
              " 'found',\n",
              " 'other',\n",
              " 'ubidecarenone',\n",
              " 'who',\n",
              " 'decreased',\n",
              " 'post',\n",
              " 'respectively',\n",
              " 'induced',\n",
              " 'upset',\n",
              " 'atorvastatin',\n",
              " 'painful',\n",
              " 'rate',\n",
              " 'nsaids',\n",
              " 'type',\n",
              " 'diarrhea',\n",
              " 'if',\n",
              " 'constant',\n",
              " 'generalised',\n",
              " 'syndrome',\n",
              " 'did',\n",
              " ',',\n",
              " 'method',\n",
              " 'diet',\n",
              " 'first',\n",
              " ')',\n",
              " \"'s\",\n",
              " 'levels',\n",
              " 'formulations',\n",
              " 'tablets',\n",
              " 'raised',\n",
              " 'formulation',\n",
              " 'dry',\n",
              " 'hours',\n",
              " 'gel',\n",
              " 'plasma',\n",
              " 'illness',\n",
              " 'ph',\n",
              " 'observed',\n",
              " 'gain',\n",
              " 'effective',\n",
              " 'period',\n",
              " 'me',\n",
              " 'feel',\n",
              " 'mean',\n",
              " 'dull',\n",
              " 'urine',\n",
              " 'solution',\n",
              " \"n't\",\n",
              " 'review',\n",
              " 'only',\n",
              " 'chronic',\n",
              " 'd',\n",
              " 'g',\n",
              " 'ibuprofen',\n",
              " 'bad',\n",
              " '(',\n",
              " 'weak',\n",
              " 'eye',\n",
              " 'elbow',\n",
              " 'those',\n",
              " 'side',\n",
              " 'three',\n",
              " 'hazy',\n",
              " 'movement',\n",
              " 'elevated',\n",
              " 'present',\n",
              " 'shoulders',\n",
              " 'crestor',\n",
              " 'increase',\n",
              " 'n',\n",
              " 'each',\n",
              " 'tendonitis',\n",
              " 'tablet',\n",
              " 'kidney',\n",
              " 'received',\n",
              " 'less',\n",
              " 'tip',\n",
              " 'influenza',\n",
              " 'adverse',\n",
              " 'controlled',\n",
              " 'vitro',\n",
              " 'spasm',\n",
              " 'kg',\n",
              " 'heavy',\n",
              " 'abnormal',\n",
              " 'activity',\n",
              " 'discomfort',\n",
              " 'single',\n",
              " 'sleeping',\n",
              " 'level',\n",
              " 'some',\n",
              " 'analysis',\n",
              " 'exhaustion',\n",
              " 'problem',\n",
              " 'analgesic',\n",
              " 'vomiting',\n",
              " 'they',\n",
              " 'system',\n",
              " 'data',\n",
              " 'spasms',\n",
              " 'flatulence',\n",
              " 'knees',\n",
              " 'just',\n",
              " 'week',\n",
              " 'daily',\n",
              " 'toe',\n",
              " 'migraine',\n",
              " 'ca',\n",
              " 'libido',\n",
              " 'most',\n",
              " 'randomized',\n",
              " 'myopathy',\n",
              " 'following',\n",
              " 'mood',\n",
              " 'reflux',\n",
              " 'dblclick',\n",
              " 'inflammation',\n",
              " 'however',\n",
              " 'pic',\n",
              " 'sclerosis',\n",
              " 'function',\n",
              " 'thigh',\n",
              " 'before',\n",
              " 'total',\n",
              " 'b',\n",
              " 'similar',\n",
              " 'evaluated',\n",
              " 'patient',\n",
              " 'throat',\n",
              " 'why',\n",
              " 'concentrations',\n",
              " 'l',\n",
              " 'here',\n",
              " 'multiple',\n",
              " 'concentrate',\n",
              " 'irritable',\n",
              " 'injury',\n",
              " 'good',\n",
              " 'fibromyalgia',\n",
              " 'weeks',\n",
              " 'cold',\n",
              " 'brain',\n",
              " 'nsaid',\n",
              " 'flu',\n",
              " 'years',\n",
              " 'bed',\n",
              " 'model',\n",
              " 'changes',\n",
              " 'will',\n",
              " 'mellitus',\n",
              " 'therapy',\n",
              " 'higher',\n",
              " 't',\n",
              " 'think',\n",
              " 'surgery',\n",
              " 'double',\n",
              " 'osteoarthritis',\n",
              " 'due',\n",
              " 'mild',\n",
              " 'difference',\n",
              " 'water',\n",
              " 'check',\n",
              " 'under',\n",
              " 'obtained',\n",
              " 'simvastatin',\n",
              " 'eyes',\n",
              " 'know',\n",
              " 'based',\n",
              " 'relief',\n",
              " 'lightheadedness',\n",
              " 'malaise',\n",
              " 'off',\n",
              " 'any',\n",
              " 'life',\n",
              " 'associated',\n",
              " 'dissolution',\n",
              " 'combination',\n",
              " 'hips',\n",
              " 'confusion',\n",
              " 'being',\n",
              " 'failure',\n",
              " 'should',\n",
              " 'while',\n",
              " 'head',\n",
              " 'trial',\n",
              " 'studied',\n",
              " 'blind',\n",
              " 'tremor',\n",
              " 'disturbance',\n",
              " 'menstrual',\n",
              " 'help',\n",
              " 'cell',\n",
              " 'vs',\n",
              " 'tinnitus',\n",
              " 'cells',\n",
              " 'wind',\n",
              " 'healthy',\n",
              " 'general',\n",
              " 'sweating',\n",
              " 'order',\n",
              " 'appetite',\n",
              " 'peripheral',\n",
              " 'gastric',\n",
              " 'through',\n",
              " 'administered',\n",
              " 'application',\n",
              " 'oil',\n",
              " 'ezetimibe',\n",
              " 'eat',\n",
              " 'postoperative',\n",
              " 'impaired',\n",
              " 'doses',\n",
              " 'prepared',\n",
              " 'area',\n",
              " 'nonsteroidal',\n",
              " 'love',\n",
              " 'min',\n",
              " 'esters',\n",
              " 'make',\n",
              " 'soreness',\n",
              " 'swings',\n",
              " 'intolerance',\n",
              " 'stairs',\n",
              " 'calves',\n",
              " 'infection',\n",
              " 'four',\n",
              " 'great',\n",
              " 'paraesthesia',\n",
              " 'down',\n",
              " 'reported',\n",
              " 'x',\n",
              " 'response',\n",
              " 'developed',\n",
              " 'such',\n",
              " 'without',\n",
              " 'celebrex',\n",
              " 'performed',\n",
              " 'stress',\n",
              " 'values',\n",
              " 'events',\n",
              " 'times',\n",
              " 'conditions',\n",
              " 'coated',\n",
              " 'e',\n",
              " 'aching',\n",
              " 're',\n",
              " 'change',\n",
              " 'going',\n",
              " 'face',\n",
              " 'toes',\n",
              " 'need',\n",
              " 'rheumatoid',\n",
              " 'night',\n",
              " 'given',\n",
              " 'ankles',\n",
              " 'safety',\n",
              " 'paracetamol',\n",
              " 'differences',\n",
              " 'sensitivity',\n",
              " 'v',\n",
              " 'swallowing',\n",
              " 'hot',\n",
              " 'ascorbic',\n",
              " 'does',\n",
              " 'strength',\n",
              " 'investigated',\n",
              " 'subjects',\n",
              " 'motivation',\n",
              " 'thanks',\n",
              " 'vitamin',\n",
              " 'enzymes',\n",
              " 'urinary',\n",
              " 'either',\n",
              " 'excruciating',\n",
              " 'charleyhorse',\n",
              " 'phase',\n",
              " '2',\n",
              " 'finger',\n",
              " 'parkinson',\n",
              " 'cough',\n",
              " 'better',\n",
              " 'us',\n",
              " 'rapid',\n",
              " 'gfb',\n",
              " 'within',\n",
              " 'dyspnoea',\n",
              " 'number',\n",
              " 'reduction',\n",
              " 'palpitations',\n",
              " 'posted',\n",
              " 'related',\n",
              " 'indigestion',\n",
              " 'range',\n",
              " 'always',\n",
              " 'properties',\n",
              " '1',\n",
              " 'dark',\n",
              " 'restless',\n",
              " 'absorption',\n",
              " 'parameters',\n",
              " 'intense',\n",
              " 'risk',\n",
              " 'show',\n",
              " 'heel',\n",
              " 'decrease',\n",
              " 'depressed',\n",
              " 'felt',\n",
              " 'lateral',\n",
              " 'containing',\n",
              " 'tendon',\n",
              " 'lupus',\n",
              " 'delivery',\n",
              " 'ratio',\n",
              " 'taste',\n",
              " 'fingers',\n",
              " 'statistically',\n",
              " 'included',\n",
              " 'recipe',\n",
              " 'speech',\n",
              " 'samples',\n",
              " 'steroidal',\n",
              " 'injection',\n",
              " 'vivo',\n",
              " 'nerve',\n",
              " 'oa',\n",
              " 'every',\n",
              " 'minutes',\n",
              " 'assessed',\n",
              " 'tightness',\n",
              " 'liquid',\n",
              " 'heres',\n",
              " 'compare',\n",
              " 'potential',\n",
              " 'k',\n",
              " 'applied',\n",
              " 'many',\n",
              " 'measured',\n",
              " '30',\n",
              " 'twitch',\n",
              " 'best',\n",
              " 'size',\n",
              " 'getting',\n",
              " 'people',\n",
              " 'therapeutic',\n",
              " 'primary',\n",
              " 'gout',\n",
              " 'ng',\n",
              " 'form',\n",
              " 'much',\n",
              " 'mm',\n",
              " 'reaction',\n",
              " 'long',\n",
              " 'auc',\n",
              " 'indomethacin',\n",
              " 'year',\n",
              " 'development',\n",
              " 'tips',\n",
              " 'wrist',\n",
              " 'advil',\n",
              " 'colic',\n",
              " 'health',\n",
              " 'determined',\n",
              " 'evaluate',\n",
              " 'misoprostol',\n",
              " 'ulcer',\n",
              " 'process',\n",
              " 'limbs',\n",
              " 'then',\n",
              " 'dreams',\n",
              " 'living',\n",
              " 'ii',\n",
              " 'major',\n",
              " 'menopause',\n",
              " 'bone',\n",
              " 'even',\n",
              " 'active',\n",
              " 'co',\n",
              " 'overall',\n",
              " 'light',\n",
              " 'normal',\n",
              " 'mouth',\n",
              " 'breathing',\n",
              " 'creatinine',\n",
              " 'fish',\n",
              " 'clearly',\n",
              " 'go',\n",
              " '\\r \\n ',\n",
              " 'aspirin',\n",
              " 'read',\n",
              " 'terrible',\n",
              " 'aqueous',\n",
              " 'available',\n",
              " 'ability',\n",
              " 'trouble',\n",
              " 'edema',\n",
              " 'provoked',\n",
              " 'heartburn',\n",
              " 'moderate',\n",
              " 'would',\n",
              " 'sustained',\n",
              " 'human',\n",
              " 'bioavailability',\n",
              " 'fever',\n",
              " 'archives',\n",
              " 'scores',\n",
              " 'jennieo',\n",
              " 'same',\n",
              " 'addition',\n",
              " 'scale',\n",
              " 'big',\n",
              " 'medication',\n",
              " 'greater',\n",
              " 'drowsy',\n",
              " 'tissue',\n",
              " 'tested',\n",
              " 'action',\n",
              " 'article',\n",
              " 'made',\n",
              " 'hypertension',\n",
              " 'news',\n",
              " 'fenofibrate',\n",
              " 'tract',\n",
              " 'because',\n",
              " 'tolerability',\n",
              " 'various',\n",
              " '3',\n",
              " 'na',\n",
              " 'breath',\n",
              " 'revealed',\n",
              " 'cox',\n",
              " 'caused',\n",
              " 'aim',\n",
              " 'matrix',\n",
              " 'exercise',\n",
              " 'polymer',\n",
              " 'find',\n",
              " 'protein',\n",
              " 'take',\n",
              " 'today',\n",
              " 'dependent',\n",
              " 'move',\n",
              " 'cancer',\n",
              " 'chicken',\n",
              " 'amyotrophic',\n",
              " 'per',\n",
              " 'o',\n",
              " 'baseline',\n",
              " 'end',\n",
              " 'bowel',\n",
              " 'nasal',\n",
              " 'thighs',\n",
              " 'uterine',\n",
              " 'important',\n",
              " 'dosage',\n",
              " 'mobility',\n",
              " '5',\n",
              " 'demonstrated',\n",
              " 'facial',\n",
              " 'where',\n",
              " 'month',\n",
              " 'indicated',\n",
              " 'coq10',\n",
              " 'improvement',\n",
              " 'attacks',\n",
              " 'aleve',\n",
              " 'intensity',\n",
              " 'twitching',\n",
              " 'safe',\n",
              " 'sinus',\n",
              " 'follow',\n",
              " 'agent',\n",
              " 'mice',\n",
              " 'fog',\n",
              " 'tylenol',\n",
              " '+',\n",
              " 'cd',\n",
              " 'formation',\n",
              " 'trials',\n",
              " 'tolerated',\n",
              " 'plantar',\n",
              " 'although',\n",
              " 'inhibition',\n",
              " 'further',\n",
              " 'alone',\n",
              " 'common',\n",
              " 'shown',\n",
              " 'surface',\n",
              " 'followed',\n",
              " 'part',\n",
              " 'treatments',\n",
              " 'finding',\n",
              " 'months',\n",
              " 'male',\n",
              " 'presence',\n",
              " 'fast',\n",
              " 'still',\n",
              " 'diagnosis',\n",
              " '10',\n",
              " 'sick',\n",
              " 'generally',\n",
              " 'whereas',\n",
              " 'panic',\n",
              " 'initial',\n",
              " 'ever',\n",
              " 'product',\n",
              " 'morning',\n",
              " 'want',\n",
              " 'sharp',\n",
              " 'cerebrovascular',\n",
              " 'cm',\n",
              " 'alpha',\n",
              " 'eating',\n",
              " 'inhibitor',\n",
              " 'pharmaceutical',\n",
              " 'animals',\n",
              " 'volunteers',\n",
              " 'relative',\n",
              " 'care',\n",
              " 'tight',\n",
              " 'including',\n",
              " 'pulse',\n",
              " 'complex',\n",
              " 'conducted',\n",
              " 'tolerance',\n",
              " 'way',\n",
              " 'standard',\n",
              " 'score',\n",
              " 'content',\n",
              " 'rat',\n",
              " 'mechanism',\n",
              " 'research',\n",
              " 'lethargy',\n",
              " 'provide',\n",
              " 'elbows',\n",
              " 'accident',\n",
              " 'profiles',\n",
              " 'randomly',\n",
              " 'onset',\n",
              " 'extremely',\n",
              " 'f',\n",
              " 'intestinal',\n",
              " 'share',\n",
              " 'fatigued',\n",
              " 'versus',\n",
              " 'amount',\n",
              " 'hour',\n",
              " 'six',\n",
              " 'congestion',\n",
              " 'sensitive',\n",
              " 'natural',\n",
              " 'drive',\n",
              " 'started',\n",
              " 'determine',\n",
              " 'age',\n",
              " 'sugar',\n",
              " 'permeation',\n",
              " 'suggest',\n",
              " 'physical',\n",
              " 'global',\n",
              " 'agents',\n",
              " 'moody',\n",
              " 'plus',\n",
              " 'things',\n",
              " 'profile',\n",
              " 'fluid',\n",
              " 'combined',\n",
              " 'oedema',\n",
              " 'barely',\n",
              " 'local',\n",
              " 'secondary',\n",
              " 'rhabdomyolysis',\n",
              " 'evaluation',\n",
              " 'peak',\n",
              " 'pre',\n",
              " 'exposure',\n",
              " 'loose',\n",
              " 'around',\n",
              " 'thoughts',\n",
              " 'horses',\n",
              " 'mental',\n",
              " 'please',\n",
              " '\\r \\n \\r \\n ',\n",
              " 'able',\n",
              " 'sex',\n",
              " 'hardly',\n",
              " 'periods',\n",
              " 'vas',\n",
              " 'tricor',\n",
              " 'cause',\n",
              " 'old',\n",
              " 'ms',\n",
              " 'lost',\n",
              " 'among',\n",
              " 'ringing',\n",
              " 'least',\n",
              " 'awareness',\n",
              " 'cases',\n",
              " 'experimental',\n",
              " 'th',\n",
              " 'enteric',\n",
              " 'case',\n",
              " 'evidence',\n",
              " 'irregular',\n",
              " 'numb',\n",
              " 'microspheres',\n",
              " 'charley',\n",
              " 'deep',\n",
              " 'easy',\n",
              " 'divided',\n",
              " 'happy',\n",
              " 'looks',\n",
              " 'difficult',\n",
              " 'dr',\n",
              " 'liptor',\n",
              " '4',\n",
              " 'too',\n",
              " 'five',\n",
              " 'gi',\n",
              " 'issues',\n",
              " 'nervous',\n",
              " 'vehicle',\n",
              " 'systemic',\n",
              " 'pizza',\n",
              " 'coronary',\n",
              " 'extremity',\n",
              " 'slurred',\n",
              " 'ethyl',\n",
              " 'complete',\n",
              " 'technique',\n",
              " 'hard',\n",
              " 'malignant',\n",
              " 'got',\n",
              " 'shortness',\n",
              " 'analgesia',\n",
              " 'blog',\n",
              " 'naproxen',\n",
              " 'duration',\n",
              " 'diagnosed',\n",
              " 'improved',\n",
              " 'growth',\n",
              " 'achieved',\n",
              " 'work',\n",
              " 'condition',\n",
              " 'fasciitis',\n",
              " 'participants',\n",
              " 'patch',\n",
              " 'r',\n",
              " 'respiratory',\n",
              " 'produced',\n",
              " 'lesions',\n",
              " 'hunger',\n",
              " 'calcium',\n",
              " 'u',\n",
              " 'top',\n",
              " 'against',\n",
              " 'zetia',\n",
              " 'stamina',\n",
              " 'according',\n",
              " 'tension',\n",
              " 'density',\n",
              " 'support',\n",
              " 'corneal',\n",
              " 'sweats',\n",
              " 'assessment',\n",
              " 'affected',\n",
              " 'frequent',\n",
              " 'prednisone',\n",
              " 'pharmacokinetic',\n",
              " 'see',\n",
              " 'dizzy',\n",
              " 'serious',\n",
              " 'rates',\n",
              " 'medical',\n",
              " 'pruritus',\n",
              " 'third',\n",
              " 'investigate',\n",
              " 'state',\n",
              " 'norvasc',\n",
              " 'cataract',\n",
              " 'women',\n",
              " 'neurontin',\n",
              " 'production',\n",
              " 'retention',\n",
              " 'resulted',\n",
              " 'ldl',\n",
              " 'efficiency',\n",
              " 'ci',\n",
              " 'allergic',\n",
              " 'once',\n",
              " 'value',\n",
              " 'flow',\n",
              " 'dysfunction',\n",
              " 'diabetic',\n",
              " 'gf',\n",
              " 'cross',\n",
              " 'quality',\n",
              " 'increasing',\n",
              " 'might',\n",
              " 'capsules',\n",
              " 'temperature',\n",
              " 'region',\n",
              " 'small',\n",
              " 'carried',\n",
              " 'eczema',\n",
              " 'preparation',\n",
              " 'possible',\n",
              " 'erythema',\n",
              " 'considered',\n",
              " 'synthesis',\n",
              " 'strain',\n",
              " 'beads',\n",
              " 'site',\n",
              " 'open',\n",
              " 'second',\n",
              " 'solid',\n",
              " 'reference',\n",
              " 'central',\n",
              " 'determination',\n",
              " 'hypersomnia',\n",
              " 'linked',\n",
              " 'als',\n",
              " 'needed',\n",
              " 'little',\n",
              " 'microg',\n",
              " 'indicate',\n",
              " 'intramuscular',\n",
              " 'sensations',\n",
              " 'cardiovascular',\n",
              " ...]"
            ]
          },
          "metadata": {
            "tags": []
          },
          "execution_count": 18
        }
      ]
    },
    {
      "cell_type": "code",
      "metadata": {
        "id": "yPWr03mls3VT",
        "outputId": "514692e4-2c64-4046-e0cd-8bff4b6eab84",
        "colab": {
          "base_uri": "https://localhost:8080/",
          "height": 17
        }
      },
      "source": [
        "model_path = path/'models'\n",
        "model_path.mkdir(exist_ok=True)\n",
        "url = 'http://files.fast.ai/models/wt103_v1/'\n",
        "download_url(f'{url}lstm_wt103.pth', model_path/'lstm_wt103.pth')\n",
        "download_url(f'{url}itos_wt103.pkl', model_path/'itos_wt103.pkl')"
      ],
      "execution_count": 19,
      "outputs": [
        {
          "output_type": "display_data",
          "data": {
            "text/html": [
              ""
            ],
            "text/plain": [
              "<IPython.core.display.HTML object>"
            ]
          },
          "metadata": {
            "tags": []
          }
        },
        {
          "output_type": "display_data",
          "data": {
            "text/html": [
              ""
            ],
            "text/plain": [
              "<IPython.core.display.HTML object>"
            ]
          },
          "metadata": {
            "tags": []
          }
        }
      ]
    },
    {
      "cell_type": "code",
      "metadata": {
        "id": "JRzvWg8RtGGr",
        "outputId": "e8bf2d72-f30d-4959-8768-e2846c14c28f",
        "colab": {
          "base_uri": "https://localhost:8080/",
          "height": 34
        }
      },
      "source": [
        "learn = language_model_learner(data_lm, AWD_LSTM, drop_mult=0.5)"
      ],
      "execution_count": 20,
      "outputs": [
        {
          "output_type": "stream",
          "text": [
            "Downloading https://s3.amazonaws.com/fast-ai-modelzoo/wt103-fwd.tgz\n"
          ],
          "name": "stdout"
        },
        {
          "output_type": "display_data",
          "data": {
            "text/html": [
              ""
            ],
            "text/plain": [
              "<IPython.core.display.HTML object>"
            ]
          },
          "metadata": {
            "tags": []
          }
        }
      ]
    },
    {
      "cell_type": "code",
      "metadata": {
        "id": "xKK7GeBev7Xn",
        "outputId": "1b9f5ccb-0974-47c8-bf5b-2d29cd9718ef",
        "colab": {
          "base_uri": "https://localhost:8080/",
          "height": 80
        }
      },
      "source": [
        "learn.fit_one_cycle(1, 1e-2)"
      ],
      "execution_count": 21,
      "outputs": [
        {
          "output_type": "display_data",
          "data": {
            "text/html": [
              "<table border=\"1\" class=\"dataframe\">\n",
              "  <thead>\n",
              "    <tr style=\"text-align: left;\">\n",
              "      <th>epoch</th>\n",
              "      <th>train_loss</th>\n",
              "      <th>valid_loss</th>\n",
              "      <th>accuracy</th>\n",
              "      <th>time</th>\n",
              "    </tr>\n",
              "  </thead>\n",
              "  <tbody>\n",
              "    <tr>\n",
              "      <td>0</td>\n",
              "      <td>3.842548</td>\n",
              "      <td>3.476300</td>\n",
              "      <td>0.443353</td>\n",
              "      <td>1:36:58</td>\n",
              "    </tr>\n",
              "  </tbody>\n",
              "</table>"
            ],
            "text/plain": [
              "<IPython.core.display.HTML object>"
            ]
          },
          "metadata": {
            "tags": []
          }
        }
      ]
    },
    {
      "cell_type": "code",
      "metadata": {
        "id": "iB7rHGQCwd12"
      },
      "source": [
        "# learn.fit_one_cycle(1, 1e-2)"
      ],
      "execution_count": 22,
      "outputs": []
    },
    {
      "cell_type": "code",
      "metadata": {
        "id": "_BnSuAeCwkBe"
      },
      "source": [
        "# learn.fit_one_cycle(1, 1e-3)"
      ],
      "execution_count": 23,
      "outputs": []
    },
    {
      "cell_type": "code",
      "metadata": {
        "id": "MuTm-RFjwrEX",
        "outputId": "aa63cd7f-94e1-4a7f-9cfb-78cabf0e688c",
        "colab": {
          "base_uri": "https://localhost:8080/",
          "height": 80
        }
      },
      "source": [
        "learn.fit_one_cycle(1, 1e-3)"
      ],
      "execution_count": 24,
      "outputs": [
        {
          "output_type": "display_data",
          "data": {
            "text/html": [
              "<table border=\"1\" class=\"dataframe\">\n",
              "  <thead>\n",
              "    <tr style=\"text-align: left;\">\n",
              "      <th>epoch</th>\n",
              "      <th>train_loss</th>\n",
              "      <th>valid_loss</th>\n",
              "      <th>accuracy</th>\n",
              "      <th>time</th>\n",
              "    </tr>\n",
              "  </thead>\n",
              "  <tbody>\n",
              "    <tr>\n",
              "      <td>0</td>\n",
              "      <td>3.531582</td>\n",
              "      <td>3.415551</td>\n",
              "      <td>0.448982</td>\n",
              "      <td>1:36:31</td>\n",
              "    </tr>\n",
              "  </tbody>\n",
              "</table>"
            ],
            "text/plain": [
              "<IPython.core.display.HTML object>"
            ]
          },
          "metadata": {
            "tags": []
          }
        }
      ]
    },
    {
      "cell_type": "code",
      "metadata": {
        "id": "1Er2ExO8wr7Y"
      },
      "source": [
        "learn.save_encoder('pubmed_cadec_askpatient_mixed_fold6_first')"
      ],
      "execution_count": 25,
      "outputs": []
    },
    {
      "cell_type": "code",
      "metadata": {
        "id": "z52cZs2qwvad",
        "outputId": "860316a6-e93e-437b-ecad-246e205c1710",
        "colab": {
          "base_uri": "https://localhost:8080/",
          "height": 80
        }
      },
      "source": [
        "learn = text_classifier_learner(data_clas,AWD_LSTM, drop_mult=0.5)\n",
        "learn.load_encoder('pubmed_cadec_askpatient_mixed_fold6_first')\n",
        "learn.fit_one_cycle(1, 1e-2)"
      ],
      "execution_count": 26,
      "outputs": [
        {
          "output_type": "display_data",
          "data": {
            "text/html": [
              "<table border=\"1\" class=\"dataframe\">\n",
              "  <thead>\n",
              "    <tr style=\"text-align: left;\">\n",
              "      <th>epoch</th>\n",
              "      <th>train_loss</th>\n",
              "      <th>valid_loss</th>\n",
              "      <th>accuracy</th>\n",
              "      <th>time</th>\n",
              "    </tr>\n",
              "  </thead>\n",
              "  <tbody>\n",
              "    <tr>\n",
              "      <td>0</td>\n",
              "      <td>4.062358</td>\n",
              "      <td>3.468951</td>\n",
              "      <td>0.362299</td>\n",
              "      <td>03:23</td>\n",
              "    </tr>\n",
              "  </tbody>\n",
              "</table>"
            ],
            "text/plain": [
              "<IPython.core.display.HTML object>"
            ]
          },
          "metadata": {
            "tags": []
          }
        }
      ]
    },
    {
      "cell_type": "code",
      "metadata": {
        "id": "ImwQP1PJwzxd",
        "outputId": "5433f0a5-66b0-430b-e3c5-75ceda644950",
        "colab": {
          "base_uri": "https://localhost:8080/",
          "height": 80
        }
      },
      "source": [
        "learn.freeze_to(-2)\n",
        "learn.fit_one_cycle(1, slice(5e-3/2., 5e-3))"
      ],
      "execution_count": 27,
      "outputs": [
        {
          "output_type": "display_data",
          "data": {
            "text/html": [
              "<table border=\"1\" class=\"dataframe\">\n",
              "  <thead>\n",
              "    <tr style=\"text-align: left;\">\n",
              "      <th>epoch</th>\n",
              "      <th>train_loss</th>\n",
              "      <th>valid_loss</th>\n",
              "      <th>accuracy</th>\n",
              "      <th>time</th>\n",
              "    </tr>\n",
              "  </thead>\n",
              "  <tbody>\n",
              "    <tr>\n",
              "      <td>0</td>\n",
              "      <td>2.913022</td>\n",
              "      <td>2.812383</td>\n",
              "      <td>0.495989</td>\n",
              "      <td>03:37</td>\n",
              "    </tr>\n",
              "  </tbody>\n",
              "</table>"
            ],
            "text/plain": [
              "<IPython.core.display.HTML object>"
            ]
          },
          "metadata": {
            "tags": []
          }
        }
      ]
    },
    {
      "cell_type": "code",
      "metadata": {
        "id": "Owff_BJXw53u",
        "outputId": "e7126dfa-a1f2-4c20-f65f-db84d5f553eb",
        "colab": {
          "base_uri": "https://localhost:8080/",
          "height": 80
        }
      },
      "source": [
        "learn.unfreeze()\n",
        "learn.fit_one_cycle(1, slice(2e-3/100, 2e-3))"
      ],
      "execution_count": 28,
      "outputs": [
        {
          "output_type": "display_data",
          "data": {
            "text/html": [
              "<table border=\"1\" class=\"dataframe\">\n",
              "  <thead>\n",
              "    <tr style=\"text-align: left;\">\n",
              "      <th>epoch</th>\n",
              "      <th>train_loss</th>\n",
              "      <th>valid_loss</th>\n",
              "      <th>accuracy</th>\n",
              "      <th>time</th>\n",
              "    </tr>\n",
              "  </thead>\n",
              "  <tbody>\n",
              "    <tr>\n",
              "      <td>0</td>\n",
              "      <td>2.286166</td>\n",
              "      <td>2.551876</td>\n",
              "      <td>0.556150</td>\n",
              "      <td>07:27</td>\n",
              "    </tr>\n",
              "  </tbody>\n",
              "</table>"
            ],
            "text/plain": [
              "<IPython.core.display.HTML object>"
            ]
          },
          "metadata": {
            "tags": []
          }
        }
      ]
    },
    {
      "cell_type": "code",
      "metadata": {
        "id": "lqAyu56V8Waq",
        "outputId": "a9a11137-02f9-4721-da66-03a5ac92775d",
        "colab": {
          "base_uri": "https://localhost:8080/",
          "height": 111
        }
      },
      "source": [
        "learn.fit_one_cycle(2, slice(2e-3/100, 2e-3))"
      ],
      "execution_count": 29,
      "outputs": [
        {
          "output_type": "display_data",
          "data": {
            "text/html": [
              "<table border=\"1\" class=\"dataframe\">\n",
              "  <thead>\n",
              "    <tr style=\"text-align: left;\">\n",
              "      <th>epoch</th>\n",
              "      <th>train_loss</th>\n",
              "      <th>valid_loss</th>\n",
              "      <th>accuracy</th>\n",
              "      <th>time</th>\n",
              "    </tr>\n",
              "  </thead>\n",
              "  <tbody>\n",
              "    <tr>\n",
              "      <td>0</td>\n",
              "      <td>2.040384</td>\n",
              "      <td>2.212602</td>\n",
              "      <td>0.597594</td>\n",
              "      <td>07:40</td>\n",
              "    </tr>\n",
              "    <tr>\n",
              "      <td>1</td>\n",
              "      <td>1.745143</td>\n",
              "      <td>2.037211</td>\n",
              "      <td>0.627005</td>\n",
              "      <td>08:02</td>\n",
              "    </tr>\n",
              "  </tbody>\n",
              "</table>"
            ],
            "text/plain": [
              "<IPython.core.display.HTML object>"
            ]
          },
          "metadata": {
            "tags": []
          }
        }
      ]
    },
    {
      "cell_type": "code",
      "metadata": {
        "id": "a7I1xMRp8bUd",
        "outputId": "5ee03a01-3506-43d0-e2ba-412c27be9186",
        "colab": {
          "base_uri": "https://localhost:8080/",
          "height": 111
        }
      },
      "source": [
        "learn.fit_one_cycle(2, slice(2e-3/100, 2e-3))"
      ],
      "execution_count": 30,
      "outputs": [
        {
          "output_type": "display_data",
          "data": {
            "text/html": [
              "<table border=\"1\" class=\"dataframe\">\n",
              "  <thead>\n",
              "    <tr style=\"text-align: left;\">\n",
              "      <th>epoch</th>\n",
              "      <th>train_loss</th>\n",
              "      <th>valid_loss</th>\n",
              "      <th>accuracy</th>\n",
              "      <th>time</th>\n",
              "    </tr>\n",
              "  </thead>\n",
              "  <tbody>\n",
              "    <tr>\n",
              "      <td>0</td>\n",
              "      <td>1.529092</td>\n",
              "      <td>1.832263</td>\n",
              "      <td>0.668449</td>\n",
              "      <td>08:39</td>\n",
              "    </tr>\n",
              "    <tr>\n",
              "      <td>1</td>\n",
              "      <td>1.281533</td>\n",
              "      <td>1.749276</td>\n",
              "      <td>0.687166</td>\n",
              "      <td>07:40</td>\n",
              "    </tr>\n",
              "  </tbody>\n",
              "</table>"
            ],
            "text/plain": [
              "<IPython.core.display.HTML object>"
            ]
          },
          "metadata": {
            "tags": []
          }
        }
      ]
    },
    {
      "cell_type": "code",
      "metadata": {
        "id": "UAnti-XmGVfO",
        "outputId": "00d7c38e-f348-4a29-a6eb-a2a6f609f40e",
        "colab": {
          "base_uri": "https://localhost:8080/",
          "height": 111
        }
      },
      "source": [
        "learn.fit_one_cycle(2, slice(2e-3/100, 2e-3))"
      ],
      "execution_count": 31,
      "outputs": [
        {
          "output_type": "display_data",
          "data": {
            "text/html": [
              "<table border=\"1\" class=\"dataframe\">\n",
              "  <thead>\n",
              "    <tr style=\"text-align: left;\">\n",
              "      <th>epoch</th>\n",
              "      <th>train_loss</th>\n",
              "      <th>valid_loss</th>\n",
              "      <th>accuracy</th>\n",
              "      <th>time</th>\n",
              "    </tr>\n",
              "  </thead>\n",
              "  <tbody>\n",
              "    <tr>\n",
              "      <td>0</td>\n",
              "      <td>1.274808</td>\n",
              "      <td>1.593790</td>\n",
              "      <td>0.719251</td>\n",
              "      <td>08:27</td>\n",
              "    </tr>\n",
              "    <tr>\n",
              "      <td>1</td>\n",
              "      <td>1.126173</td>\n",
              "      <td>1.512331</td>\n",
              "      <td>0.720588</td>\n",
              "      <td>08:21</td>\n",
              "    </tr>\n",
              "  </tbody>\n",
              "</table>"
            ],
            "text/plain": [
              "<IPython.core.display.HTML object>"
            ]
          },
          "metadata": {
            "tags": []
          }
        }
      ]
    },
    {
      "cell_type": "code",
      "metadata": {
        "id": "bIft7W25GwSu",
        "outputId": "1652299d-1de3-40e3-a585-cc92c71542dd",
        "colab": {
          "base_uri": "https://localhost:8080/",
          "height": 111
        }
      },
      "source": [
        "learn.fit_one_cycle(2, slice(2e-3/100, 2e-3))"
      ],
      "execution_count": 32,
      "outputs": [
        {
          "output_type": "display_data",
          "data": {
            "text/html": [
              "<table border=\"1\" class=\"dataframe\">\n",
              "  <thead>\n",
              "    <tr style=\"text-align: left;\">\n",
              "      <th>epoch</th>\n",
              "      <th>train_loss</th>\n",
              "      <th>valid_loss</th>\n",
              "      <th>accuracy</th>\n",
              "      <th>time</th>\n",
              "    </tr>\n",
              "  </thead>\n",
              "  <tbody>\n",
              "    <tr>\n",
              "      <td>0</td>\n",
              "      <td>1.024038</td>\n",
              "      <td>1.422937</td>\n",
              "      <td>0.744652</td>\n",
              "      <td>08:05</td>\n",
              "    </tr>\n",
              "    <tr>\n",
              "      <td>1</td>\n",
              "      <td>0.862617</td>\n",
              "      <td>1.352075</td>\n",
              "      <td>0.747326</td>\n",
              "      <td>07:47</td>\n",
              "    </tr>\n",
              "  </tbody>\n",
              "</table>"
            ],
            "text/plain": [
              "<IPython.core.display.HTML object>"
            ]
          },
          "metadata": {
            "tags": []
          }
        }
      ]
    },
    {
      "cell_type": "code",
      "metadata": {
        "id": "EEHszVRvGyFt",
        "outputId": "40a2d5e3-1fa7-40b6-b8ea-4e6d4268000f",
        "colab": {
          "base_uri": "https://localhost:8080/",
          "height": 111
        }
      },
      "source": [
        "learn.fit_one_cycle(2, slice(2e-3/100, 2e-3))"
      ],
      "execution_count": 33,
      "outputs": [
        {
          "output_type": "display_data",
          "data": {
            "text/html": [
              "<table border=\"1\" class=\"dataframe\">\n",
              "  <thead>\n",
              "    <tr style=\"text-align: left;\">\n",
              "      <th>epoch</th>\n",
              "      <th>train_loss</th>\n",
              "      <th>valid_loss</th>\n",
              "      <th>accuracy</th>\n",
              "      <th>time</th>\n",
              "    </tr>\n",
              "  </thead>\n",
              "  <tbody>\n",
              "    <tr>\n",
              "      <td>0</td>\n",
              "      <td>0.830202</td>\n",
              "      <td>1.296270</td>\n",
              "      <td>0.756684</td>\n",
              "      <td>08:32</td>\n",
              "    </tr>\n",
              "    <tr>\n",
              "      <td>1</td>\n",
              "      <td>0.718441</td>\n",
              "      <td>1.287168</td>\n",
              "      <td>0.770053</td>\n",
              "      <td>08:21</td>\n",
              "    </tr>\n",
              "  </tbody>\n",
              "</table>"
            ],
            "text/plain": [
              "<IPython.core.display.HTML object>"
            ]
          },
          "metadata": {
            "tags": []
          }
        }
      ]
    },
    {
      "cell_type": "code",
      "metadata": {
        "id": "XsHfrhCHG3dN",
        "outputId": "d52e1100-96a1-48e5-fd10-dda6c913ae6e",
        "colab": {
          "base_uri": "https://localhost:8080/",
          "height": 173
        }
      },
      "source": [
        "learn.fit_one_cycle(4, slice(2e-3/100, 2e-3))"
      ],
      "execution_count": 34,
      "outputs": [
        {
          "output_type": "display_data",
          "data": {
            "text/html": [
              "<table border=\"1\" class=\"dataframe\">\n",
              "  <thead>\n",
              "    <tr style=\"text-align: left;\">\n",
              "      <th>epoch</th>\n",
              "      <th>train_loss</th>\n",
              "      <th>valid_loss</th>\n",
              "      <th>accuracy</th>\n",
              "      <th>time</th>\n",
              "    </tr>\n",
              "  </thead>\n",
              "  <tbody>\n",
              "    <tr>\n",
              "      <td>0</td>\n",
              "      <td>0.692037</td>\n",
              "      <td>1.256032</td>\n",
              "      <td>0.762032</td>\n",
              "      <td>07:46</td>\n",
              "    </tr>\n",
              "    <tr>\n",
              "      <td>1</td>\n",
              "      <td>0.687792</td>\n",
              "      <td>1.209238</td>\n",
              "      <td>0.779412</td>\n",
              "      <td>07:34</td>\n",
              "    </tr>\n",
              "    <tr>\n",
              "      <td>2</td>\n",
              "      <td>0.590637</td>\n",
              "      <td>1.131384</td>\n",
              "      <td>0.790107</td>\n",
              "      <td>08:27</td>\n",
              "    </tr>\n",
              "    <tr>\n",
              "      <td>3</td>\n",
              "      <td>0.487972</td>\n",
              "      <td>1.109286</td>\n",
              "      <td>0.792781</td>\n",
              "      <td>08:01</td>\n",
              "    </tr>\n",
              "  </tbody>\n",
              "</table>"
            ],
            "text/plain": [
              "<IPython.core.display.HTML object>"
            ]
          },
          "metadata": {
            "tags": []
          }
        }
      ]
    },
    {
      "cell_type": "code",
      "metadata": {
        "id": "0Zsd99isb9EQ",
        "outputId": "450c5c78-ee24-40eb-bb87-436a2770e492",
        "colab": {
          "base_uri": "https://localhost:8080/",
          "height": 173
        }
      },
      "source": [
        "learn.fit_one_cycle(4, slice(2e-3/100, 2e-3))"
      ],
      "execution_count": 35,
      "outputs": [
        {
          "output_type": "display_data",
          "data": {
            "text/html": [
              "<table border=\"1\" class=\"dataframe\">\n",
              "  <thead>\n",
              "    <tr style=\"text-align: left;\">\n",
              "      <th>epoch</th>\n",
              "      <th>train_loss</th>\n",
              "      <th>valid_loss</th>\n",
              "      <th>accuracy</th>\n",
              "      <th>time</th>\n",
              "    </tr>\n",
              "  </thead>\n",
              "  <tbody>\n",
              "    <tr>\n",
              "      <td>0</td>\n",
              "      <td>0.497157</td>\n",
              "      <td>1.186892</td>\n",
              "      <td>0.788770</td>\n",
              "      <td>08:12</td>\n",
              "    </tr>\n",
              "    <tr>\n",
              "      <td>1</td>\n",
              "      <td>0.544029</td>\n",
              "      <td>1.154180</td>\n",
              "      <td>0.782086</td>\n",
              "      <td>08:00</td>\n",
              "    </tr>\n",
              "    <tr>\n",
              "      <td>2</td>\n",
              "      <td>0.440282</td>\n",
              "      <td>1.096287</td>\n",
              "      <td>0.796791</td>\n",
              "      <td>08:11</td>\n",
              "    </tr>\n",
              "    <tr>\n",
              "      <td>3</td>\n",
              "      <td>0.383530</td>\n",
              "      <td>1.095886</td>\n",
              "      <td>0.795455</td>\n",
              "      <td>08:17</td>\n",
              "    </tr>\n",
              "  </tbody>\n",
              "</table>"
            ],
            "text/plain": [
              "<IPython.core.display.HTML object>"
            ]
          },
          "metadata": {
            "tags": []
          }
        }
      ]
    },
    {
      "cell_type": "code",
      "metadata": {
        "id": "atNWNKDFPbuI",
        "outputId": "1a804e63-9971-46a3-b013-d3655eb7a5e9",
        "colab": {
          "base_uri": "https://localhost:8080/",
          "height": 173
        }
      },
      "source": [
        "learn.fit_one_cycle(4, slice(2e-3/100, 2e-3))"
      ],
      "execution_count": 36,
      "outputs": [
        {
          "output_type": "display_data",
          "data": {
            "text/html": [
              "<table border=\"1\" class=\"dataframe\">\n",
              "  <thead>\n",
              "    <tr style=\"text-align: left;\">\n",
              "      <th>epoch</th>\n",
              "      <th>train_loss</th>\n",
              "      <th>valid_loss</th>\n",
              "      <th>accuracy</th>\n",
              "      <th>time</th>\n",
              "    </tr>\n",
              "  </thead>\n",
              "  <tbody>\n",
              "    <tr>\n",
              "      <td>0</td>\n",
              "      <td>0.386636</td>\n",
              "      <td>1.153383</td>\n",
              "      <td>0.800802</td>\n",
              "      <td>08:18</td>\n",
              "    </tr>\n",
              "    <tr>\n",
              "      <td>1</td>\n",
              "      <td>0.432745</td>\n",
              "      <td>1.094055</td>\n",
              "      <td>0.806150</td>\n",
              "      <td>08:12</td>\n",
              "    </tr>\n",
              "    <tr>\n",
              "      <td>2</td>\n",
              "      <td>0.375910</td>\n",
              "      <td>1.031955</td>\n",
              "      <td>0.808824</td>\n",
              "      <td>08:45</td>\n",
              "    </tr>\n",
              "    <tr>\n",
              "      <td>3</td>\n",
              "      <td>0.343916</td>\n",
              "      <td>1.034638</td>\n",
              "      <td>0.811497</td>\n",
              "      <td>08:03</td>\n",
              "    </tr>\n",
              "  </tbody>\n",
              "</table>"
            ],
            "text/plain": [
              "<IPython.core.display.HTML object>"
            ]
          },
          "metadata": {
            "tags": []
          }
        }
      ]
    },
    {
      "cell_type": "code",
      "metadata": {
        "id": "rKrBTZ0T1uVA",
        "outputId": "ad21a3d7-85dc-4130-8b7f-f0ea91591dec",
        "colab": {
          "base_uri": "https://localhost:8080/",
          "height": 173
        }
      },
      "source": [
        "learn.fit_one_cycle(4, slice(2e-3/100, 2e-3))"
      ],
      "execution_count": 37,
      "outputs": [
        {
          "output_type": "display_data",
          "data": {
            "text/html": [
              "<table border=\"1\" class=\"dataframe\">\n",
              "  <thead>\n",
              "    <tr style=\"text-align: left;\">\n",
              "      <th>epoch</th>\n",
              "      <th>train_loss</th>\n",
              "      <th>valid_loss</th>\n",
              "      <th>accuracy</th>\n",
              "      <th>time</th>\n",
              "    </tr>\n",
              "  </thead>\n",
              "  <tbody>\n",
              "    <tr>\n",
              "      <td>0</td>\n",
              "      <td>0.306914</td>\n",
              "      <td>1.113363</td>\n",
              "      <td>0.812834</td>\n",
              "      <td>08:09</td>\n",
              "    </tr>\n",
              "    <tr>\n",
              "      <td>1</td>\n",
              "      <td>0.339078</td>\n",
              "      <td>1.120398</td>\n",
              "      <td>0.814171</td>\n",
              "      <td>08:25</td>\n",
              "    </tr>\n",
              "    <tr>\n",
              "      <td>2</td>\n",
              "      <td>0.306428</td>\n",
              "      <td>1.129953</td>\n",
              "      <td>0.811497</td>\n",
              "      <td>08:12</td>\n",
              "    </tr>\n",
              "    <tr>\n",
              "      <td>3</td>\n",
              "      <td>0.266552</td>\n",
              "      <td>1.081938</td>\n",
              "      <td>0.816845</td>\n",
              "      <td>08:38</td>\n",
              "    </tr>\n",
              "  </tbody>\n",
              "</table>"
            ],
            "text/plain": [
              "<IPython.core.display.HTML object>"
            ]
          },
          "metadata": {
            "tags": []
          }
        }
      ]
    },
    {
      "cell_type": "code",
      "metadata": {
        "id": "ajQC6WDg1yA9",
        "outputId": "922ead52-ae8e-4594-eec5-39b84ef2bf13",
        "colab": {
          "base_uri": "https://localhost:8080/",
          "height": 173
        }
      },
      "source": [
        "learn.fit_one_cycle(4, slice(2e-3/100, 2e-3))"
      ],
      "execution_count": 38,
      "outputs": [
        {
          "output_type": "display_data",
          "data": {
            "text/html": [
              "<table border=\"1\" class=\"dataframe\">\n",
              "  <thead>\n",
              "    <tr style=\"text-align: left;\">\n",
              "      <th>epoch</th>\n",
              "      <th>train_loss</th>\n",
              "      <th>valid_loss</th>\n",
              "      <th>accuracy</th>\n",
              "      <th>time</th>\n",
              "    </tr>\n",
              "  </thead>\n",
              "  <tbody>\n",
              "    <tr>\n",
              "      <td>0</td>\n",
              "      <td>0.263340</td>\n",
              "      <td>1.085434</td>\n",
              "      <td>0.814171</td>\n",
              "      <td>08:23</td>\n",
              "    </tr>\n",
              "    <tr>\n",
              "      <td>1</td>\n",
              "      <td>0.294137</td>\n",
              "      <td>1.092252</td>\n",
              "      <td>0.818182</td>\n",
              "      <td>08:02</td>\n",
              "    </tr>\n",
              "    <tr>\n",
              "      <td>2</td>\n",
              "      <td>0.277417</td>\n",
              "      <td>1.186075</td>\n",
              "      <td>0.812834</td>\n",
              "      <td>07:48</td>\n",
              "    </tr>\n",
              "    <tr>\n",
              "      <td>3</td>\n",
              "      <td>0.229061</td>\n",
              "      <td>1.136785</td>\n",
              "      <td>0.818182</td>\n",
              "      <td>08:21</td>\n",
              "    </tr>\n",
              "  </tbody>\n",
              "</table>"
            ],
            "text/plain": [
              "<IPython.core.display.HTML object>"
            ]
          },
          "metadata": {
            "tags": []
          }
        }
      ]
    },
    {
      "cell_type": "code",
      "metadata": {
        "id": "KKydb0B4BKGk",
        "outputId": "a5374269-201c-4989-f75f-b7e06ae1ae65",
        "colab": {
          "base_uri": "https://localhost:8080/",
          "height": 173
        }
      },
      "source": [
        "learn.fit_one_cycle(4, slice(2e-3/100, 2e-3))"
      ],
      "execution_count": 39,
      "outputs": [
        {
          "output_type": "display_data",
          "data": {
            "text/html": [
              "<table border=\"1\" class=\"dataframe\">\n",
              "  <thead>\n",
              "    <tr style=\"text-align: left;\">\n",
              "      <th>epoch</th>\n",
              "      <th>train_loss</th>\n",
              "      <th>valid_loss</th>\n",
              "      <th>accuracy</th>\n",
              "      <th>time</th>\n",
              "    </tr>\n",
              "  </thead>\n",
              "  <tbody>\n",
              "    <tr>\n",
              "      <td>0</td>\n",
              "      <td>0.225417</td>\n",
              "      <td>1.163229</td>\n",
              "      <td>0.816845</td>\n",
              "      <td>07:50</td>\n",
              "    </tr>\n",
              "    <tr>\n",
              "      <td>1</td>\n",
              "      <td>0.265191</td>\n",
              "      <td>1.136444</td>\n",
              "      <td>0.824866</td>\n",
              "      <td>07:50</td>\n",
              "    </tr>\n",
              "    <tr>\n",
              "      <td>2</td>\n",
              "      <td>0.252134</td>\n",
              "      <td>1.083742</td>\n",
              "      <td>0.830214</td>\n",
              "      <td>08:40</td>\n",
              "    </tr>\n",
              "    <tr>\n",
              "      <td>3</td>\n",
              "      <td>0.206674</td>\n",
              "      <td>1.124961</td>\n",
              "      <td>0.831551</td>\n",
              "      <td>08:11</td>\n",
              "    </tr>\n",
              "  </tbody>\n",
              "</table>"
            ],
            "text/plain": [
              "<IPython.core.display.HTML object>"
            ]
          },
          "metadata": {
            "tags": []
          }
        }
      ]
    },
    {
      "cell_type": "code",
      "metadata": {
        "id": "T2APKtFKBpGY",
        "outputId": "bca6018e-1258-4de4-c841-cc10102d7c65",
        "colab": {
          "base_uri": "https://localhost:8080/",
          "height": 173
        }
      },
      "source": [
        "learn.fit_one_cycle(4, slice(2e-3/100, 2e-3))"
      ],
      "execution_count": 40,
      "outputs": [
        {
          "output_type": "display_data",
          "data": {
            "text/html": [
              "<table border=\"1\" class=\"dataframe\">\n",
              "  <thead>\n",
              "    <tr style=\"text-align: left;\">\n",
              "      <th>epoch</th>\n",
              "      <th>train_loss</th>\n",
              "      <th>valid_loss</th>\n",
              "      <th>accuracy</th>\n",
              "      <th>time</th>\n",
              "    </tr>\n",
              "  </thead>\n",
              "  <tbody>\n",
              "    <tr>\n",
              "      <td>0</td>\n",
              "      <td>0.207133</td>\n",
              "      <td>1.206470</td>\n",
              "      <td>0.827540</td>\n",
              "      <td>07:43</td>\n",
              "    </tr>\n",
              "    <tr>\n",
              "      <td>1</td>\n",
              "      <td>0.231433</td>\n",
              "      <td>1.164257</td>\n",
              "      <td>0.827540</td>\n",
              "      <td>08:48</td>\n",
              "    </tr>\n",
              "    <tr>\n",
              "      <td>2</td>\n",
              "      <td>0.227131</td>\n",
              "      <td>1.040035</td>\n",
              "      <td>0.831551</td>\n",
              "      <td>08:37</td>\n",
              "    </tr>\n",
              "    <tr>\n",
              "      <td>3</td>\n",
              "      <td>0.175037</td>\n",
              "      <td>1.133764</td>\n",
              "      <td>0.832888</td>\n",
              "      <td>08:48</td>\n",
              "    </tr>\n",
              "  </tbody>\n",
              "</table>"
            ],
            "text/plain": [
              "<IPython.core.display.HTML object>"
            ]
          },
          "metadata": {
            "tags": []
          }
        }
      ]
    },
    {
      "cell_type": "code",
      "metadata": {
        "id": "qtTypA1sPgLU",
        "outputId": "3b499a05-18d2-49df-d431-ac9b1ba5f225",
        "colab": {
          "base_uri": "https://localhost:8080/",
          "height": 111
        }
      },
      "source": [
        "learn.fit_one_cycle(2, slice(2e-3/100, 2e-3))"
      ],
      "execution_count": 41,
      "outputs": [
        {
          "output_type": "display_data",
          "data": {
            "text/html": [
              "<table border=\"1\" class=\"dataframe\">\n",
              "  <thead>\n",
              "    <tr style=\"text-align: left;\">\n",
              "      <th>epoch</th>\n",
              "      <th>train_loss</th>\n",
              "      <th>valid_loss</th>\n",
              "      <th>accuracy</th>\n",
              "      <th>time</th>\n",
              "    </tr>\n",
              "  </thead>\n",
              "  <tbody>\n",
              "    <tr>\n",
              "      <td>0</td>\n",
              "      <td>0.219837</td>\n",
              "      <td>1.142723</td>\n",
              "      <td>0.828877</td>\n",
              "      <td>08:13</td>\n",
              "    </tr>\n",
              "    <tr>\n",
              "      <td>1</td>\n",
              "      <td>0.204853</td>\n",
              "      <td>1.087701</td>\n",
              "      <td>0.838235</td>\n",
              "      <td>08:20</td>\n",
              "    </tr>\n",
              "  </tbody>\n",
              "</table>"
            ],
            "text/plain": [
              "<IPython.core.display.HTML object>"
            ]
          },
          "metadata": {
            "tags": []
          }
        }
      ]
    },
    {
      "cell_type": "code",
      "metadata": {
        "id": "b242kBsTUp9Y",
        "outputId": "c1e80dc6-dfd2-4116-c4e2-3fb3f35111a2",
        "colab": {
          "base_uri": "https://localhost:8080/",
          "height": 111
        }
      },
      "source": [
        "learn.fit_one_cycle(2, slice(2e-3/100, 2e-3))"
      ],
      "execution_count": 42,
      "outputs": [
        {
          "output_type": "display_data",
          "data": {
            "text/html": [
              "<table border=\"1\" class=\"dataframe\">\n",
              "  <thead>\n",
              "    <tr style=\"text-align: left;\">\n",
              "      <th>epoch</th>\n",
              "      <th>train_loss</th>\n",
              "      <th>valid_loss</th>\n",
              "      <th>accuracy</th>\n",
              "      <th>time</th>\n",
              "    </tr>\n",
              "  </thead>\n",
              "  <tbody>\n",
              "    <tr>\n",
              "      <td>0</td>\n",
              "      <td>0.200657</td>\n",
              "      <td>1.123935</td>\n",
              "      <td>0.835562</td>\n",
              "      <td>08:21</td>\n",
              "    </tr>\n",
              "    <tr>\n",
              "      <td>1</td>\n",
              "      <td>0.173716</td>\n",
              "      <td>1.058166</td>\n",
              "      <td>0.844920</td>\n",
              "      <td>08:37</td>\n",
              "    </tr>\n",
              "  </tbody>\n",
              "</table>"
            ],
            "text/plain": [
              "<IPython.core.display.HTML object>"
            ]
          },
          "metadata": {
            "tags": []
          }
        }
      ]
    },
    {
      "cell_type": "code",
      "metadata": {
        "id": "Duwf1Ih5VeDZ",
        "outputId": "3d515cc0-fc6a-433c-bea4-2dce012b08ac",
        "colab": {
          "base_uri": "https://localhost:8080/",
          "height": 80
        }
      },
      "source": [
        "learn.fit_one_cycle(1, slice(2e-3/100, 2e-3))"
      ],
      "execution_count": 43,
      "outputs": [
        {
          "output_type": "display_data",
          "data": {
            "text/html": [
              "<table border=\"1\" class=\"dataframe\">\n",
              "  <thead>\n",
              "    <tr style=\"text-align: left;\">\n",
              "      <th>epoch</th>\n",
              "      <th>train_loss</th>\n",
              "      <th>valid_loss</th>\n",
              "      <th>accuracy</th>\n",
              "      <th>time</th>\n",
              "    </tr>\n",
              "  </thead>\n",
              "  <tbody>\n",
              "    <tr>\n",
              "      <td>0</td>\n",
              "      <td>0.190879</td>\n",
              "      <td>1.121562</td>\n",
              "      <td>0.840909</td>\n",
              "      <td>08:10</td>\n",
              "    </tr>\n",
              "  </tbody>\n",
              "</table>"
            ],
            "text/plain": [
              "<IPython.core.display.HTML object>"
            ]
          },
          "metadata": {
            "tags": []
          }
        }
      ]
    },
    {
      "cell_type": "code",
      "metadata": {
        "id": "c65d-osfDUXm"
      },
      "source": [
        "# save the best model\n",
        "\n",
        "learn.save_encoder('pubmed_cadec_askpatient_mixed_fold6')"
      ],
      "execution_count": 44,
      "outputs": []
    },
    {
      "cell_type": "markdown",
      "metadata": {
        "id": "rCwZU0E2RgM6"
      },
      "source": [
        "# Part three: Predict on the test dataset"
      ]
    },
    {
      "cell_type": "code",
      "metadata": {
        "id": "gDm72c-dOu7d",
        "outputId": "c2b15d28-a331-4225-ad9c-ea6123ebe042",
        "colab": {
          "base_uri": "https://localhost:8080/",
          "height": 17
        }
      },
      "source": [
        "# use the test data for prediction\n",
        "\n",
        "preds, y = learn.get_preds(DatasetType.Test)"
      ],
      "execution_count": 45,
      "outputs": [
        {
          "output_type": "display_data",
          "data": {
            "text/html": [
              ""
            ],
            "text/plain": [
              "<IPython.core.display.HTML object>"
            ]
          },
          "metadata": {
            "tags": []
          }
        }
      ]
    },
    {
      "cell_type": "code",
      "metadata": {
        "id": "6tFSQcsWPvxn",
        "outputId": "5ae89550-795b-4352-d885-cd04b7257af2",
        "colab": {
          "base_uri": "https://localhost:8080/",
          "height": 105
        }
      },
      "source": [
        "predictions, *_ = learn.get_preds(DatasetType.Test)\n",
        "labels = np.argmax(predictions, 1)\n",
        "predict_list = labels.tolist()\n",
        "standard_list = test[0].tolist()\n",
        "\n",
        "print(len(predict_list))\n",
        "print(len(standard_list))\n",
        "\n",
        "print(predict_list)\n",
        "print(standard_list)"
      ],
      "execution_count": 46,
      "outputs": [
        {
          "output_type": "display_data",
          "data": {
            "text/html": [
              ""
            ],
            "text/plain": [
              "<IPython.core.display.HTML object>"
            ]
          },
          "metadata": {
            "tags": []
          }
        },
        {
          "output_type": "stream",
          "text": [
            "866\n",
            "866\n",
            "[2, 5, 8, 1026, 8, 8, 8, 8, 8, 8, 8, 102, 143, 27, 31, 34, 37, 37, 37, 37, 182, 37, 37, 37, 37, 37, 402, 41, 41, 41, 76, 49, 183, 100, 49, 100, 100, 100, 100, 100, 51, 53, 53, 53, 53, 53, 998, 767, 58, 58, 577, 422, 64, 67, 71, 71, 289, 76, 864, 522, 228, 624, 624, 624, 182, 182, 182, 182, 182, 182, 182, 182, 182, 182, 182, 182, 182, 182, 182, 182, 182, 182, 182, 182, 182, 182, 182, 182, 182, 182, 182, 289, 182, 624, 624, 624, 79, 80, 80, 80, 80, 80, 80, 81, 662, 83, 89, 90, 91, 91, 91, 91, 91, 94, 94, 94, 94, 94, 94, 94, 94, 94, 94, 96, 96, 96, 100, 545, 100, 100, 100, 100, 185, 316, 108, 108, 108, 108, 864, 462, 111, 111, 111, 112, 255, 114, 330, 117, 117, 118, 453, 76, 469, 626, 125, 35, 125, 125, 125, 125, 125, 125, 778, 210, 741, 319, 135, 89, 246, 139, 151, 847, 925, 157, 157, 163, 178, 171, 172, 172, 172, 172, 172, 173, 607, 179, 182, 182, 182, 183, 183, 183, 183, 184, 807, 187, 187, 187, 189, 190, 190, 191, 34, 197, 202, 205, 210, 210, 289, 190, 214, 214, 214, 214, 214, 214, 896, 896, 175, 240, 214, 214, 214, 214, 218, 499, 220, 463, 224, 225, 265, 228, 228, 228, 228, 228, 228, 228, 228, 228, 462, 228, 228, 228, 79, 98, 235, 236, 238, 242, 243, 939, 243, 243, 243, 243, 243, 765, 245, 245, 245, 876, 764, 246, 246, 249, 618, 289, 264, 289, 265, 265, 265, 265, 265, 265, 265, 265, 265, 704, 265, 265, 265, 265, 265, 265, 265, 265, 265, 265, 265, 79, 265, 265, 265, 269, 269, 277, 277, 277, 277, 277, 279, 281, 612, 284, 288, 309, 289, 289, 289, 289, 289, 289, 289, 289, 289, 289, 289, 289, 289, 289, 289, 289, 289, 289, 289, 289, 289, 289, 289, 291, 190, 190, 293, 298, 298, 87, 301, 855, 301, 309, 309, 309, 318, 318, 318, 318, 707, 453, 325, 426, 325, 325, 325, 325, 325, 325, 325, 325, 325, 453, 615, 729, 332, 332, 332, 336, 337, 337, 337, 337, 100, 516, 338, 341, 341, 342, 342, 343, 343, 344, 344, 337, 197, 402, 402, 359, 362, 363, 359, 370, 269, 374, 375, 517, 384, 391, 391, 391, 391, 391, 391, 585, 745, 100, 402, 405, 408, 626, 408, 408, 318, 418, 418, 419, 419, 419, 289, 289, 129, 864, 419, 419, 424, 424, 426, 427, 388, 427, 597, 427, 427, 427, 427, 427, 175, 634, 749, 430, 434, 861, 439, 258, 441, 441, 443, 444, 392, 627, 89, 455, 455, 455, 455, 455, 455, 489, 459, 460, 460, 460, 460, 470, 473, 473, 474, 49, 475, 475, 475, 475, 475, 475, 195, 486, 610, 489, 491, 491, 491, 491, 491, 497, 499, 499, 499, 499, 479, 506, 509, 472, 850, 524, 465, 524, 655, 528, 530, 530, 530, 531, 993, 541, 541, 541, 541, 183, 545, 545, 545, 546, 384, 384, 29, 563, 569, 569, 567, 731, 521, 579, 266, 590, 590, 475, 427, 591, 592, 592, 592, 594, 597, 601, 228, 610, 569, 610, 830, 614, 76, 614, 614, 614, 614, 614, 816, 269, 989, 623, 213, 623, 806, 427, 203, 635, 644, 644, 297, 646, 297, 646, 245, 646, 37, 172, 652, 652, 652, 656, 88, 29, 663, 666, 677, 2, 686, 687, 710, 691, 693, 700, 704, 704, 289, 704, 741, 708, 691, 710, 710, 717, 205, 723, 910, 735, 735, 735, 735, 37, 745, 745, 749, 753, 753, 755, 644, 763, 205, 433, 205, 96, 579, 769, 769, 769, 205, 350, 779, 723, 773, 772, 773, 49, 49, 775, 775, 775, 775, 775, 775, 775, 689, 235, 794, 801, 802, 753, 1009, 35, 445, 493, 806, 1026, 806, 806, 809, 809, 810, 817, 100, 826, 826, 826, 826, 826, 830, 830, 830, 830, 830, 830, 830, 830, 835, 836, 556, 840, 840, 840, 329, 847, 234, 157, 848, 410, 852, 852, 852, 853, 853, 853, 853, 853, 856, 421, 421, 864, 864, 865, 866, 868, 868, 1026, 876, 569, 888, 890, 415, 896, 897, 896, 896, 896, 896, 896, 896, 896, 896, 902, 363, 904, 918, 919, 933, 935, 935, 936, 937, 937, 937, 937, 937, 940, 948, 948, 255, 948, 949, 949, 949, 949, 949, 949, 949, 949, 949, 949, 949, 949, 949, 949, 949, 949, 949, 949, 949, 949, 949, 949, 949, 949, 949, 949, 949, 949, 949, 949, 949, 949, 949, 949, 949, 949, 949, 949, 949, 949, 949, 949, 949, 949, 949, 949, 949, 949, 949, 949, 949, 949, 949, 949, 949, 949, 949, 949, 949, 949, 949, 949, 949, 949, 949, 949, 949, 949, 949, 949, 949, 949, 949, 949, 949, 949, 949, 949, 949, 949, 949, 949, 949, 949, 949, 949, 949, 949, 949, 949, 949, 949, 949, 949, 949, 949, 949, 949, 949, 949, 949, 950, 950, 950, 950, 952, 952, 952, 952, 955, 956, 957, 958, 939, 967, 251, 976, 976, 87, 87, 980, 243, 994, 999, 1010, 1015, 1015, 133, 1024, 1026, 925, 1026, 1026, 1028, 1029, 1029, 1028, 1035]\n",
            "[2, 5, 8, 8, 8, 8, 8, 8, 8, 8, 8, 8, 8, 27, 31, 34, 37, 37, 37, 37, 37, 37, 37, 37, 37, 37, 39, 41, 41, 41, 46, 49, 49, 49, 49, 49, 49, 49, 49, 49, 51, 53, 53, 53, 53, 53, 54, 56, 58, 58, 58, 60, 64, 67, 71, 71, 76, 76, 76, 79, 79, 79, 79, 79, 79, 79, 79, 79, 79, 79, 79, 79, 79, 79, 79, 79, 79, 79, 79, 79, 79, 79, 79, 79, 79, 79, 79, 79, 79, 79, 79, 79, 79, 79, 79, 79, 79, 80, 80, 80, 80, 80, 80, 81, 81, 83, 89, 90, 91, 91, 91, 91, 91, 94, 94, 94, 94, 94, 94, 94, 94, 94, 94, 96, 96, 96, 100, 100, 100, 100, 100, 100, 102, 106, 108, 108, 108, 108, 108, 111, 111, 111, 111, 112, 113, 114, 116, 117, 117, 118, 120, 121, 122, 123, 125, 125, 125, 125, 125, 125, 125, 125, 125, 127, 129, 131, 135, 137, 138, 139, 151, 151, 156, 157, 157, 163, 165, 171, 172, 172, 172, 172, 172, 173, 177, 179, 182, 182, 182, 183, 183, 183, 183, 184, 184, 187, 187, 187, 189, 190, 190, 191, 197, 197, 201, 205, 210, 210, 211, 211, 214, 214, 214, 214, 214, 214, 214, 214, 214, 214, 214, 214, 214, 214, 218, 220, 220, 223, 224, 225, 228, 228, 228, 228, 228, 228, 228, 228, 228, 228, 228, 228, 228, 228, 228, 234, 235, 236, 238, 242, 243, 243, 243, 243, 243, 243, 243, 245, 245, 245, 245, 245, 245, 246, 246, 249, 254, 260, 264, 265, 265, 265, 265, 265, 265, 265, 265, 265, 265, 265, 265, 265, 265, 265, 265, 265, 265, 265, 265, 265, 265, 265, 265, 265, 265, 269, 269, 277, 277, 277, 277, 277, 279, 281, 282, 284, 288, 289, 289, 289, 289, 289, 289, 289, 289, 289, 289, 289, 289, 289, 289, 289, 289, 289, 289, 289, 289, 289, 289, 289, 289, 291, 293, 293, 293, 298, 298, 300, 301, 301, 301, 309, 309, 309, 318, 318, 318, 318, 320, 325, 325, 325, 325, 325, 325, 325, 325, 325, 325, 325, 325, 325, 325, 326, 332, 332, 332, 336, 337, 337, 337, 337, 337, 337, 338, 341, 341, 342, 342, 343, 343, 344, 344, 346, 351, 358, 358, 359, 362, 363, 368, 370, 371, 374, 375, 383, 384, 391, 391, 391, 391, 391, 391, 394, 394, 402, 402, 405, 408, 408, 408, 408, 416, 418, 418, 419, 419, 419, 419, 419, 419, 419, 419, 419, 424, 424, 426, 427, 427, 427, 427, 427, 427, 427, 427, 427, 427, 427, 427, 430, 434, 437, 439, 441, 441, 441, 443, 444, 445, 446, 446, 455, 455, 455, 455, 455, 455, 457, 459, 460, 460, 460, 460, 470, 473, 473, 474, 475, 475, 475, 475, 475, 475, 475, 477, 486, 488, 489, 491, 491, 491, 491, 491, 497, 499, 499, 499, 499, 504, 506, 509, 510, 517, 524, 524, 524, 526, 528, 530, 530, 530, 531, 534, 541, 541, 541, 541, 545, 545, 545, 545, 546, 548, 548, 562, 563, 565, 565, 567, 576, 577, 579, 583, 590, 590, 591, 591, 591, 592, 592, 592, 594, 597, 601, 606, 610, 610, 610, 611, 614, 614, 614, 614, 614, 614, 614, 614, 614, 623, 623, 623, 623, 625, 626, 631, 635, 644, 644, 646, 646, 646, 646, 646, 646, 649, 651, 652, 652, 652, 656, 660, 662, 665, 666, 678, 686, 686, 687, 689, 691, 693, 700, 704, 704, 704, 704, 704, 708, 709, 710, 710, 717, 722, 723, 732, 735, 735, 735, 735, 741, 745, 745, 749, 753, 753, 755, 757, 763, 764, 764, 764, 764, 766, 769, 769, 769, 769, 770, 771, 771, 772, 772, 773, 775, 775, 775, 775, 775, 775, 775, 775, 775, 776, 780, 794, 801, 802, 803, 803, 804, 805, 805, 806, 806, 806, 806, 809, 809, 810, 817, 819, 826, 826, 826, 826, 826, 830, 830, 830, 830, 830, 830, 830, 830, 835, 836, 838, 840, 840, 840, 846, 847, 847, 848, 848, 852, 852, 852, 852, 853, 853, 853, 853, 853, 856, 861, 861, 864, 864, 865, 866, 868, 868, 871, 876, 883, 888, 890, 894, 896, 896, 896, 896, 896, 896, 896, 896, 896, 896, 902, 903, 904, 918, 919, 933, 935, 935, 936, 937, 937, 937, 937, 937, 940, 948, 948, 948, 948, 949, 949, 949, 949, 949, 949, 949, 949, 949, 949, 949, 949, 949, 949, 949, 949, 949, 949, 949, 949, 949, 949, 949, 949, 949, 949, 949, 949, 949, 949, 949, 949, 949, 949, 949, 949, 949, 949, 949, 949, 949, 949, 949, 949, 949, 949, 949, 949, 949, 949, 949, 949, 949, 949, 949, 949, 949, 949, 949, 949, 949, 949, 949, 949, 949, 949, 949, 949, 949, 949, 949, 949, 949, 949, 949, 949, 949, 949, 949, 949, 949, 949, 949, 949, 949, 949, 949, 949, 949, 949, 949, 949, 949, 949, 949, 949, 949, 949, 949, 949, 949, 950, 950, 950, 950, 952, 952, 952, 952, 955, 956, 957, 958, 964, 967, 972, 976, 976, 976, 976, 980, 986, 994, 999, 1010, 1015, 1015, 1020, 1024, 1026, 1026, 1026, 1026, 1028, 1029, 1029, 1031, 1035]\n"
          ],
          "name": "stdout"
        }
      ]
    },
    {
      "cell_type": "code",
      "metadata": {
        "id": "XIC4zufnMxtq",
        "outputId": "d44a42d8-6c23-46bd-fa84-51d0e542442c",
        "colab": {
          "base_uri": "https://localhost:8080/",
          "height": 51
        }
      },
      "source": [
        "correct_num = 0\n",
        "\n",
        "for i in range(0, len(standard_list)):\n",
        "  if predict_list[i] == standard_list[i]:\n",
        "    correct_num = correct_num+1\n",
        "  else:\n",
        "    pass\n",
        "print(correct_num)\n",
        "\n",
        "predict_accuracy = correct_num/len(predict_list)\n",
        "print(predict_accuracy)"
      ],
      "execution_count": 47,
      "outputs": [
        {
          "output_type": "stream",
          "text": [
            "631\n",
            "0.7286374133949192\n"
          ],
          "name": "stdout"
        }
      ]
    },
    {
      "cell_type": "code",
      "metadata": {
        "id": "zlKMHp1CIaRJ"
      },
      "source": [
        ""
      ],
      "execution_count": 47,
      "outputs": []
    }
  ]
}