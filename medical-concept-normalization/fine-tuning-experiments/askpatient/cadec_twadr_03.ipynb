{
  "nbformat": 4,
  "nbformat_minor": 0,
  "metadata": {
    "accelerator": "TPU",
    "colab": {
      "name": "cadec_twadr_03.ipynb",
      "provenance": [],
      "collapsed_sections": [],
      "include_colab_link": true
    },
    "kernelspec": {
      "display_name": "Python 3",
      "name": "python3"
    }
  },
  "cells": [
    {
      "cell_type": "markdown",
      "metadata": {
        "id": "view-in-github",
        "colab_type": "text"
      },
      "source": [
        "<a href=\"https://colab.research.google.com/github/unt-iialab/medical-concept-normalization/blob/master/medical-concept-normalization/fine-tuning-experiments/askpatient/cadec_twadr_03.ipynb\" target=\"_parent\"><img src=\"https://colab.research.google.com/assets/colab-badge.svg\" alt=\"Open In Colab\"/></a>"
      ]
    },
    {
      "cell_type": "code",
      "metadata": {
        "id": "adSi6i2-dWxy"
      },
      "source": [
        "import os"
      ],
      "execution_count": 1,
      "outputs": []
    },
    {
      "cell_type": "code",
      "metadata": {
        "id": "E7xYCRGPjd9B"
      },
      "source": [
        "base_dir = 'medical-concept-normalization'"
      ],
      "execution_count": 2,
      "outputs": []
    },
    {
      "cell_type": "code",
      "metadata": {
        "id": "yvIW3aUDjYNS"
      },
      "source": [
        "os.mkdir(base_dir)"
      ],
      "execution_count": 3,
      "outputs": []
    },
    {
      "cell_type": "code",
      "metadata": {
        "id": "es-FFLlfk6SG"
      },
      "source": [
        "os.mkdir('medical-concept-normalization/data_collection')"
      ],
      "execution_count": 4,
      "outputs": []
    },
    {
      "cell_type": "markdown",
      "metadata": {
        "id": "0R-Guw_VoJXm"
      },
      "source": [
        "**Install fastai and clone the fastai for text classification**\n",
        "\n"
      ]
    },
    {
      "cell_type": "code",
      "metadata": {
        "id": "QVZa3Z0PmHFH",
        "outputId": "930f0aff-fa56-462b-ffab-4c3cb4f7772b",
        "colab": {
          "base_uri": "https://localhost:8080/"
        }
      },
      "source": [
        "!curl https://course-v3.fast.ai/setup/colab | bash"
      ],
      "execution_count": 5,
      "outputs": [
        {
          "output_type": "stream",
          "text": [
            "  % Total    % Received % Xferd  Average Speed   Time    Time     Time  Current\n",
            "                                 Dload  Upload   Total   Spent    Left  Speed\n",
            "\r  0     0    0     0    0     0      0      0 --:--:-- --:--:-- --:--:--     0curl: (6) Could not resolve host: course-v3.fast.ai\n"
          ],
          "name": "stdout"
        }
      ]
    },
    {
      "cell_type": "code",
      "metadata": {
        "id": "_FBFFEBrmJC0",
        "outputId": "6d47a3a8-d38f-44d1-e777-d961e4838a3e",
        "colab": {
          "base_uri": "https://localhost:8080/"
        }
      },
      "source": [
        "!git clone https://github.com/wshuyi/demo-nlp-classification-fastai.git"
      ],
      "execution_count": 6,
      "outputs": [
        {
          "output_type": "stream",
          "text": [
            "Cloning into 'demo-nlp-classification-fastai'...\n",
            "remote: Enumerating objects: 9, done.\u001b[K\n",
            "remote: Total 9 (delta 0), reused 0 (delta 0), pack-reused 9\u001b[K\n",
            "Unpacking objects: 100% (9/9), done.\n"
          ],
          "name": "stdout"
        }
      ]
    },
    {
      "cell_type": "code",
      "metadata": {
        "id": "66zfh_JqmWMU"
      },
      "source": [
        "from fastai import *\n",
        "from fastai.text import *"
      ],
      "execution_count": 7,
      "outputs": []
    },
    {
      "cell_type": "markdown",
      "metadata": {
        "id": "mNIw-yALdBU9"
      },
      "source": [
        "**Set the path of the data collections**"
      ]
    },
    {
      "cell_type": "code",
      "metadata": {
        "id": "pzH7VMh4mqCL"
      },
      "source": [
        "path = Path('medical-concept-normalization/data_collection')"
      ],
      "execution_count": 8,
      "outputs": []
    },
    {
      "cell_type": "code",
      "metadata": {
        "id": "b8fjI6yyn4aS"
      },
      "source": [
        "# training data set\n",
        "\n",
        "train_csv = path/'TwADR-L.fold-3.train.csv'\n",
        "train = pd.read_csv(train_csv, header=None)\n",
        "#train.head()\n",
        "#train.info()"
      ],
      "execution_count": 10,
      "outputs": []
    },
    {
      "cell_type": "code",
      "metadata": {
        "id": "Hmlr-bAorfHd",
        "outputId": "481a7631-6688-4844-9d98-d6ec3e19560b",
        "colab": {
          "base_uri": "https://localhost:8080/",
          "height": 204
        }
      },
      "source": [
        "# validating data set\n",
        "\n",
        "valid = pd.read_csv(path/\"TwADR-L.fold-3.validation.csv\",header=None)\n",
        "valid.head()"
      ],
      "execution_count": 11,
      "outputs": [
        {
          "output_type": "execute_result",
          "data": {
            "text/html": [
              "<div>\n",
              "<style scoped>\n",
              "    .dataframe tbody tr th:only-of-type {\n",
              "        vertical-align: middle;\n",
              "    }\n",
              "\n",
              "    .dataframe tbody tr th {\n",
              "        vertical-align: top;\n",
              "    }\n",
              "\n",
              "    .dataframe thead th {\n",
              "        text-align: right;\n",
              "    }\n",
              "</style>\n",
              "<table border=\"1\" class=\"dataframe\">\n",
              "  <thead>\n",
              "    <tr style=\"text-align: right;\">\n",
              "      <th></th>\n",
              "      <th>0</th>\n",
              "      <th>1</th>\n",
              "    </tr>\n",
              "  </thead>\n",
              "  <tbody>\n",
              "    <tr>\n",
              "      <th>0</th>\n",
              "      <td>91</td>\n",
              "      <td>jitters</td>\n",
              "    </tr>\n",
              "    <tr>\n",
              "      <th>1</th>\n",
              "      <td>93</td>\n",
              "      <td>shooting</td>\n",
              "    </tr>\n",
              "    <tr>\n",
              "      <th>2</th>\n",
              "      <td>187</td>\n",
              "      <td>dry mouth</td>\n",
              "    </tr>\n",
              "    <tr>\n",
              "      <th>3</th>\n",
              "      <td>189</td>\n",
              "      <td>dizzy</td>\n",
              "    </tr>\n",
              "    <tr>\n",
              "      <th>4</th>\n",
              "      <td>230</td>\n",
              "      <td>mania</td>\n",
              "    </tr>\n",
              "  </tbody>\n",
              "</table>\n",
              "</div>"
            ],
            "text/plain": [
              "     0          1\n",
              "0   91    jitters\n",
              "1   93   shooting\n",
              "2  187  dry mouth\n",
              "3  189      dizzy\n",
              "4  230      mania"
            ]
          },
          "metadata": {
            "tags": []
          },
          "execution_count": 11
        }
      ]
    },
    {
      "cell_type": "code",
      "metadata": {
        "id": "cOza9dfSsBud",
        "outputId": "286cb6c8-0424-49b7-a039-d9a4d4e78bd5",
        "colab": {
          "base_uri": "https://localhost:8080/",
          "height": 204
        }
      },
      "source": [
        "# testing data set\n",
        "\n",
        "test = pd.read_csv(path/\"TwADR-L.fold-3.test.csv\",header=None)\n",
        "test.head()"
      ],
      "execution_count": 12,
      "outputs": [
        {
          "output_type": "execute_result",
          "data": {
            "text/html": [
              "<div>\n",
              "<style scoped>\n",
              "    .dataframe tbody tr th:only-of-type {\n",
              "        vertical-align: middle;\n",
              "    }\n",
              "\n",
              "    .dataframe tbody tr th {\n",
              "        vertical-align: top;\n",
              "    }\n",
              "\n",
              "    .dataframe thead th {\n",
              "        text-align: right;\n",
              "    }\n",
              "</style>\n",
              "<table border=\"1\" class=\"dataframe\">\n",
              "  <thead>\n",
              "    <tr style=\"text-align: right;\">\n",
              "      <th></th>\n",
              "      <th>0</th>\n",
              "      <th>1</th>\n",
              "    </tr>\n",
              "  </thead>\n",
              "  <tbody>\n",
              "    <tr>\n",
              "      <th>0</th>\n",
              "      <td>13</td>\n",
              "      <td>insomniac</td>\n",
              "    </tr>\n",
              "    <tr>\n",
              "      <th>1</th>\n",
              "      <td>16</td>\n",
              "      <td>couldn't taste anything</td>\n",
              "    </tr>\n",
              "    <tr>\n",
              "      <th>2</th>\n",
              "      <td>61</td>\n",
              "      <td>spins</td>\n",
              "    </tr>\n",
              "    <tr>\n",
              "      <th>3</th>\n",
              "      <td>85</td>\n",
              "      <td>tremor</td>\n",
              "    </tr>\n",
              "    <tr>\n",
              "      <th>4</th>\n",
              "      <td>94</td>\n",
              "      <td>anxiety</td>\n",
              "    </tr>\n",
              "  </tbody>\n",
              "</table>\n",
              "</div>"
            ],
            "text/plain": [
              "    0                        1\n",
              "0  13                insomniac\n",
              "1  16  couldn't taste anything\n",
              "2  61                    spins\n",
              "3  85                   tremor\n",
              "4  94                  anxiety"
            ]
          },
          "metadata": {
            "tags": []
          },
          "execution_count": 12
        }
      ]
    },
    {
      "cell_type": "code",
      "metadata": {
        "id": "Vo-YNvVYoaH6",
        "outputId": "95fd02bf-f919-43f2-f145-75e54666b678",
        "colab": {
          "base_uri": "https://localhost:8080/",
          "height": 17
        }
      },
      "source": [
        "# Creating DataBunch for language modelling\n",
        "\n",
        "data_lm = TextLMDataBunch.from_csv(path, 'TwADR-cadec.csv')"
      ],
      "execution_count": 14,
      "outputs": [
        {
          "output_type": "display_data",
          "data": {
            "text/html": [
              ""
            ],
            "text/plain": [
              "<IPython.core.display.HTML object>"
            ]
          },
          "metadata": {
            "tags": []
          }
        },
        {
          "output_type": "display_data",
          "data": {
            "text/html": [
              ""
            ],
            "text/plain": [
              "<IPython.core.display.HTML object>"
            ]
          },
          "metadata": {
            "tags": []
          }
        }
      ]
    },
    {
      "cell_type": "code",
      "metadata": {
        "id": "qcV-9kMnNLBf"
      },
      "source": [
        ""
      ],
      "execution_count": 14,
      "outputs": []
    },
    {
      "cell_type": "code",
      "metadata": {
        "id": "1ScY9afDsnvE"
      },
      "source": [
        "# Creating DataBunch for classification\n",
        "\n",
        "# data_clas = TextClasDataBunch.from_df(path, train, valid, test, vocab=data_lm.train_ds.vocab, bs=128)"
      ],
      "execution_count": 15,
      "outputs": []
    },
    {
      "cell_type": "code",
      "metadata": {
        "id": "gzrSdQcvey9p",
        "outputId": "94b1884a-3e88-4ed7-8420-5092b94aefad",
        "colab": {
          "base_uri": "https://localhost:8080/",
          "height": 17
        }
      },
      "source": [
        "data_clas = TextClasDataBunch.from_df(path, train, valid, vocab=data_lm.train_ds.vocab, bs=128)"
      ],
      "execution_count": 16,
      "outputs": [
        {
          "output_type": "display_data",
          "data": {
            "text/html": [
              ""
            ],
            "text/plain": [
              "<IPython.core.display.HTML object>"
            ]
          },
          "metadata": {
            "tags": []
          }
        },
        {
          "output_type": "display_data",
          "data": {
            "text/html": [
              ""
            ],
            "text/plain": [
              "<IPython.core.display.HTML object>"
            ]
          },
          "metadata": {
            "tags": []
          }
        }
      ]
    },
    {
      "cell_type": "code",
      "metadata": {
        "id": "MD27Tf0Ke3ou",
        "outputId": "656e0b5d-74bb-4139-c77d-6bcc4d0bb0ea",
        "colab": {
          "base_uri": "https://localhost:8080/",
          "height": 17
        }
      },
      "source": [
        "data_clas.add_test(test,label=0)\n"
      ],
      "execution_count": 17,
      "outputs": [
        {
          "output_type": "display_data",
          "data": {
            "text/html": [
              ""
            ],
            "text/plain": [
              "<IPython.core.display.HTML object>"
            ]
          },
          "metadata": {
            "tags": []
          }
        }
      ]
    },
    {
      "cell_type": "code",
      "metadata": {
        "id": "-dpjnk_rstwk"
      },
      "source": [
        "data_lm.save()\n",
        "data_clas.save()"
      ],
      "execution_count": 18,
      "outputs": []
    },
    {
      "cell_type": "code",
      "metadata": {
        "id": "4OkiJa36sw5s",
        "outputId": "0b066446-79b4-49e3-c217-efcae9754117",
        "colab": {
          "base_uri": "https://localhost:8080/"
        }
      },
      "source": [
        "data_lm.train_ds.vocab.itos"
      ],
      "execution_count": 19,
      "outputs": [
        {
          "output_type": "execute_result",
          "data": {
            "text/plain": [
              "['xxunk',\n",
              " 'xxpad',\n",
              " 'xxbos',\n",
              " 'xxeos',\n",
              " 'xxfld',\n",
              " 'xxmaj',\n",
              " 'xxup',\n",
              " 'xxrep',\n",
              " 'xxwrep',\n",
              " '.',\n",
              " ',',\n",
              " 'i',\n",
              " 'the',\n",
              " 'and',\n",
              " 'to',\n",
              " 'my',\n",
              " 'pain',\n",
              " 'of',\n",
              " 'in',\n",
              " 'a',\n",
              " 'it',\n",
              " 'me',\n",
              " 'mood',\n",
              " 'increased',\n",
              " 'for',\n",
              " 'have',\n",
              " '-',\n",
              " 'was',\n",
              " 'drug',\n",
              " 'this',\n",
              " 'lipitor',\n",
              " 'on',\n",
              " ')',\n",
              " '(',\n",
              " 'disorder',\n",
              " 'abnormal',\n",
              " 'withdrawal',\n",
              " 'symptoms',\n",
              " 'not',\n",
              " 'had',\n",
              " 'anxiety',\n",
              " 'that',\n",
              " 'is',\n",
              " 'with',\n",
              " 'muscle',\n",
              " 'weight',\n",
              " 'like',\n",
              " 'but',\n",
              " 'taking',\n",
              " 'feeling',\n",
              " 'decreased',\n",
              " \"n't\",\n",
              " 'sleeplessness',\n",
              " 'disorders',\n",
              " 'behavior',\n",
              " 'up',\n",
              " 'syndrome',\n",
              " 'after',\n",
              " 'sleep',\n",
              " 'so',\n",
              " 'blood',\n",
              " 'insomnia',\n",
              " 'feel',\n",
              " 'all',\n",
              " 'am',\n",
              " 'got',\n",
              " 'diseases',\n",
              " 'side',\n",
              " '!',\n",
              " 'energy',\n",
              " 'somnolence',\n",
              " 'finding',\n",
              " 'back',\n",
              " 'disturbance',\n",
              " 'depression',\n",
              " 'from',\n",
              " 'loss',\n",
              " 'cholesterol',\n",
              " 'day',\n",
              " 'effects',\n",
              " 'been',\n",
              " 'mental',\n",
              " 'heart',\n",
              " 'as',\n",
              " 'skin',\n",
              " 'gain',\n",
              " 'body',\n",
              " 'be',\n",
              " 'appetite',\n",
              " 'acute',\n",
              " '/',\n",
              " 'take',\n",
              " 'at',\n",
              " 'nausea',\n",
              " 'no',\n",
              " 'has',\n",
              " 'off',\n",
              " 'about',\n",
              " 'years',\n",
              " 'now',\n",
              " 'irritable',\n",
              " 'mg',\n",
              " 'very',\n",
              " 'fatigue',\n",
              " 'do',\n",
              " 'out',\n",
              " 'dizziness',\n",
              " 'hyperactive',\n",
              " 'or',\n",
              " 'feelings',\n",
              " 'will',\n",
              " 'excitability',\n",
              " 'attention',\n",
              " 'ceiling',\n",
              " 'are',\n",
              " 'drowsiness',\n",
              " 'days',\n",
              " 'awake',\n",
              " 'state',\n",
              " 'did',\n",
              " 'panic',\n",
              " 'joint',\n",
              " 'swelling',\n",
              " 'months',\n",
              " 'time',\n",
              " 'you',\n",
              " 'doctor',\n",
              " 'if',\n",
              " 'rash',\n",
              " 'liver',\n",
              " 'stomach',\n",
              " 'depressed',\n",
              " 'still',\n",
              " 'when',\n",
              " 'disease',\n",
              " \"'m\",\n",
              " 'stopped',\n",
              " '2',\n",
              " 'started',\n",
              " 'severe',\n",
              " 'could',\n",
              " 'night',\n",
              " 'cramps',\n",
              " 'headache',\n",
              " 'swings',\n",
              " 'reaction',\n",
              " '3',\n",
              " 'wakefulness',\n",
              " 'site',\n",
              " '#',\n",
              " 'allergic',\n",
              " 'get',\n",
              " 'more',\n",
              " 'memory',\n",
              " 'problems',\n",
              " 'also',\n",
              " 'took',\n",
              " 'bipolar',\n",
              " 'would',\n",
              " 'bad',\n",
              " '10',\n",
              " 'abdominal',\n",
              " 'lower',\n",
              " 'tired',\n",
              " 'weeks',\n",
              " 'infection',\n",
              " 'can',\n",
              " 'an',\n",
              " 'any',\n",
              " 'down',\n",
              " \"'s\",\n",
              " 'dreams',\n",
              " 'just',\n",
              " 'eye',\n",
              " 'attack',\n",
              " 'one',\n",
              " 'by',\n",
              " 'leg',\n",
              " 'went',\n",
              " 'some',\n",
              " 'tremor',\n",
              " 'over',\n",
              " 'other',\n",
              " 'breast',\n",
              " 'high',\n",
              " 'again',\n",
              " 'respiratory',\n",
              " 'ca',\n",
              " 'only',\n",
              " 'level',\n",
              " 'he',\n",
              " 'legs',\n",
              " 'your',\n",
              " 'then',\n",
              " 'numbness',\n",
              " 'week',\n",
              " 'brain',\n",
              " 'stiffness',\n",
              " 'attacks',\n",
              " 'never',\n",
              " 'dry',\n",
              " 'hemorrhage',\n",
              " 'injury',\n",
              " 'deficit',\n",
              " 'sleepy',\n",
              " 'rage',\n",
              " '&',\n",
              " 'ago',\n",
              " 'go',\n",
              " 'shoulder',\n",
              " '5',\n",
              " 'before',\n",
              " 'makes',\n",
              " 'difficulty',\n",
              " 'chest',\n",
              " 'much',\n",
              " 'arthritis',\n",
              " 'which',\n",
              " 'medication',\n",
              " 'initial',\n",
              " 'failure',\n",
              " 'two',\n",
              " 'sweating',\n",
              " 'discomfort',\n",
              " 'carcinoma',\n",
              " 'foot',\n",
              " 'pressure',\n",
              " 'bone',\n",
              " 'neck',\n",
              " 'better',\n",
              " 'they',\n",
              " 'taste',\n",
              " 'felt',\n",
              " 'psychotic',\n",
              " 'life',\n",
              " 'low',\n",
              " 'cardiac',\n",
              " 'because',\n",
              " 'ulcer',\n",
              " 'same',\n",
              " 'asleep',\n",
              " 'vision',\n",
              " '6',\n",
              " 'infections',\n",
              " 'edema',\n",
              " 'first',\n",
              " 'even',\n",
              " '4',\n",
              " 'daytime',\n",
              " 'left',\n",
              " 'were',\n",
              " 'stop',\n",
              " 'gastrointestinal',\n",
              " '1',\n",
              " 'middle',\n",
              " 'feet',\n",
              " 'away',\n",
              " 'these',\n",
              " \"'ve\",\n",
              " 'right',\n",
              " 'aggravated',\n",
              " 'since',\n",
              " 'need',\n",
              " 'weakness',\n",
              " 'than',\n",
              " 'zombie',\n",
              " 'pulmonary',\n",
              " 'extreme',\n",
              " 'pains',\n",
              " 'knee',\n",
              " 'sensation',\n",
              " 'elevated',\n",
              " 'hurt',\n",
              " 'going',\n",
              " 'chronic',\n",
              " 'tingling',\n",
              " 'dependence',\n",
              " 'headaches',\n",
              " 'suicidal',\n",
              " 'test',\n",
              " 'function',\n",
              " 'walk',\n",
              " 'exhaustion',\n",
              " 'vomiting',\n",
              " 'distress',\n",
              " 'concentration',\n",
              " 'damage',\n",
              " 'kidney',\n",
              " 'dizzy',\n",
              " 'sleepiness',\n",
              " 'hallucinations',\n",
              " 'worse',\n",
              " 'good',\n",
              " 'disturbances',\n",
              " 'muscles',\n",
              " 'last',\n",
              " 'cell',\n",
              " 'system',\n",
              " 'dr',\n",
              " 'anger',\n",
              " 'face',\n",
              " 'ache',\n",
              " 'facial',\n",
              " 'cerebral',\n",
              " 'effect',\n",
              " 'eating',\n",
              " 'bleeding',\n",
              " 'being',\n",
              " 'work',\n",
              " 'painful',\n",
              " 'depressive',\n",
              " 'getting',\n",
              " '20',\n",
              " 'localised',\n",
              " 'what',\n",
              " 'there',\n",
              " 'having',\n",
              " 'hands',\n",
              " 'well',\n",
              " 'told',\n",
              " 'nightmares',\n",
              " 'change',\n",
              " 'taken',\n",
              " 'death',\n",
              " 'thought',\n",
              " '?',\n",
              " 'wide',\n",
              " 'conditions',\n",
              " 'think',\n",
              " ';',\n",
              " 'statin',\n",
              " 'spasm',\n",
              " 'dysfunction',\n",
              " 'make',\n",
              " 'compulsive',\n",
              " 'migraine',\n",
              " 'anemia',\n",
              " 'statins',\n",
              " 'dose',\n",
              " 'urine',\n",
              " 'bite',\n",
              " 'social',\n",
              " 'due',\n",
              " 'lack',\n",
              " 'dermatitis',\n",
              " 'experienced',\n",
              " 'see',\n",
              " 'crazy',\n",
              " 'every',\n",
              " 'terrible',\n",
              " 'does',\n",
              " 'within',\n",
              " 'drugs',\n",
              " 'arm',\n",
              " 'should',\n",
              " 'hours',\n",
              " 'corneal',\n",
              " 'too',\n",
              " 'serum',\n",
              " 'almost',\n",
              " 'know',\n",
              " 'uterine',\n",
              " 'depersonalization',\n",
              " 'arrest',\n",
              " 'who',\n",
              " 'diarrhea',\n",
              " 'vivid',\n",
              " 'pruritus',\n",
              " 'normal',\n",
              " 'seizures',\n",
              " 'problem',\n",
              " 'hypertension',\n",
              " 'asthma',\n",
              " 'said',\n",
              " 'thinking',\n",
              " 'month',\n",
              " 'until',\n",
              " 'hunger',\n",
              " 'eyes',\n",
              " 'oral',\n",
              " 'really',\n",
              " 'ventricular',\n",
              " 'neoplasm',\n",
              " 'fear',\n",
              " 'emotional',\n",
              " 'oedema',\n",
              " 'cause',\n",
              " 'cancer',\n",
              " 'sore',\n",
              " 'intoxication',\n",
              " 'abuse',\n",
              " 'nauseous',\n",
              " 'count',\n",
              " 'obsessive',\n",
              " 'irritation',\n",
              " 'another',\n",
              " 'put',\n",
              " 'vaginal',\n",
              " '40',\n",
              " 'aches',\n",
              " 'without',\n",
              " 'genital',\n",
              " 'gastric',\n",
              " 'hip',\n",
              " 'year',\n",
              " 'malignant',\n",
              " 'alcohol',\n",
              " 'gas',\n",
              " 'decrease',\n",
              " 'walking',\n",
              " 'impairment',\n",
              " 'people',\n",
              " 'arms',\n",
              " 'many',\n",
              " 'both',\n",
              " 'euphoric',\n",
              " 'few',\n",
              " 'necrosis',\n",
              " 'cold',\n",
              " 'great',\n",
              " 'withdrawals',\n",
              " 'nervous',\n",
              " 'cramping',\n",
              " 'term',\n",
              " 'drowsy',\n",
              " 'gone',\n",
              " 'adderall',\n",
              " 'tongue',\n",
              " 'localized',\n",
              " 'hungry',\n",
              " 'peripheral',\n",
              " 'sexual',\n",
              " ':',\n",
              " 'upper',\n",
              " 'reduced',\n",
              " 'hepatic',\n",
              " 'little',\n",
              " 'excessive',\n",
              " 'weird',\n",
              " 'bulimia',\n",
              " 'long',\n",
              " '7',\n",
              " 'head',\n",
              " 'lost',\n",
              " 'personality',\n",
              " 'total',\n",
              " 'arthropod',\n",
              " '8',\n",
              " 'candidiasis',\n",
              " 'erection',\n",
              " 'nerve',\n",
              " 'neuropathy',\n",
              " 'tract',\n",
              " 'lightheadedness',\n",
              " 'sick',\n",
              " 'spasms',\n",
              " 'falling',\n",
              " 'something',\n",
              " 'consciousness',\n",
              " 'myself',\n",
              " 'injection',\n",
              " 'female',\n",
              " 'diet',\n",
              " 'help',\n",
              " 'injuries',\n",
              " 'sweat',\n",
              " 'sneezing',\n",
              " 'short',\n",
              " 'glucose',\n",
              " 'speech',\n",
              " 'lung',\n",
              " 'tooth',\n",
              " 'neoplasms',\n",
              " 'paranoid',\n",
              " 'way',\n",
              " 'vertigo',\n",
              " 'lose',\n",
              " 'non',\n",
              " 'stress',\n",
              " 'diabetic',\n",
              " 'thirst',\n",
              " 'electrocardiogram',\n",
              " 'ldl',\n",
              " 'erythema',\n",
              " 'found',\n",
              " 'anything',\n",
              " 'knees',\n",
              " 'tests',\n",
              " 'joints',\n",
              " 'nasal',\n",
              " 'breathing',\n",
              " 'swollen',\n",
              " 'lbs',\n",
              " 'most',\n",
              " 'sudden',\n",
              " 'try',\n",
              " 'ejaculation',\n",
              " 'bed',\n",
              " 'exercise',\n",
              " 'palpitations',\n",
              " 'generalized',\n",
              " 'fever',\n",
              " 'visual',\n",
              " 'episode',\n",
              " 'doctors',\n",
              " 'ear',\n",
              " 'urticaria',\n",
              " 'muscular',\n",
              " 'diabetes',\n",
              " 'want',\n",
              " 'she',\n",
              " 'prescribed',\n",
              " 'always',\n",
              " 'thoughts',\n",
              " 'throat',\n",
              " 'libido',\n",
              " 'bloating',\n",
              " 'suicide',\n",
              " 'sleeping',\n",
              " 'pneumonia',\n",
              " 'noticed',\n",
              " 'find',\n",
              " 'insufficiency',\n",
              " 'stopping',\n",
              " 'renal',\n",
              " 'obstruction',\n",
              " 'minutes',\n",
              " 'old',\n",
              " 'different',\n",
              " 'caused',\n",
              " 'overdose',\n",
              " 'them',\n",
              " 'several',\n",
              " 'mouth',\n",
              " 'came',\n",
              " 'developed',\n",
              " 'sinus',\n",
              " 'how',\n",
              " 'block',\n",
              " 'inflammation',\n",
              " 'symptom',\n",
              " 'lowered',\n",
              " 'morning',\n",
              " 'despair',\n",
              " 'next',\n",
              " 'hair',\n",
              " 'while',\n",
              " 'ankle',\n",
              " 'colitis',\n",
              " '%',\n",
              " 'reading',\n",
              " 'making',\n",
              " 'binge',\n",
              " 'hard',\n",
              " 'immediately',\n",
              " 'prolonged',\n",
              " 'red',\n",
              " 'atrophy',\n",
              " 'general',\n",
              " 'movements',\n",
              " 'partial',\n",
              " 'tendency',\n",
              " 'eat',\n",
              " 'itching',\n",
              " 'their',\n",
              " 'levels',\n",
              " 'potassium',\n",
              " '30',\n",
              " 'times',\n",
              " 'intense',\n",
              " 'however',\n",
              " 'shoulders',\n",
              " 'losing',\n",
              " 'tissue',\n",
              " 'lupus',\n",
              " 'sure',\n",
              " 'experiencing',\n",
              " 'lot',\n",
              " 'fracture',\n",
              " 'nt',\n",
              " 'adenocarcinoma',\n",
              " 'began',\n",
              " 'bacterial',\n",
              " 'atrial',\n",
              " 'metastatic',\n",
              " 'three',\n",
              " 'food',\n",
              " 'tried',\n",
              " 'use',\n",
              " 'result',\n",
              " 'around',\n",
              " 'limb',\n",
              " 'tolerance',\n",
              " 'vasculitis',\n",
              " 'hot',\n",
              " 'unconscious',\n",
              " 'pill',\n",
              " 'impaired',\n",
              " 'arthrotec',\n",
              " 'daily',\n",
              " 'doing',\n",
              " 'burning',\n",
              " 'craving',\n",
              " 'twitch',\n",
              " 'tachycardia',\n",
              " 'once',\n",
              " 'may',\n",
              " 'into',\n",
              " 'half',\n",
              " 'his',\n",
              " 'weak',\n",
              " 'migraines',\n",
              " 'fractures',\n",
              " 'unable',\n",
              " 'psychosis',\n",
              " 'blurred',\n",
              " 'past',\n",
              " 'completely',\n",
              " 'hepatitis',\n",
              " 'haemorrhage',\n",
              " 'musculoskeletal',\n",
              " 'angry',\n",
              " 'arrhythmia',\n",
              " 'application',\n",
              " 'recommend',\n",
              " 'person',\n",
              " 'made',\n",
              " 'mind',\n",
              " 'cough',\n",
              " 'awful',\n",
              " 'allergy',\n",
              " 'trying',\n",
              " 'bladder',\n",
              " 'things',\n",
              " 'cutaneous',\n",
              " 'confusion',\n",
              " 'motor',\n",
              " 'its',\n",
              " 'quality',\n",
              " 'major',\n",
              " 'paranoia',\n",
              " 'hurting',\n",
              " 'interactions',\n",
              " 'changes',\n",
              " 'results',\n",
              " 'early',\n",
              " 'fall',\n",
              " 'traumatic',\n",
              " 'unspecified',\n",
              " 'terrors',\n",
              " 'abnormality',\n",
              " 'ever',\n",
              " 'interest',\n",
              " 'nothing',\n",
              " 'numb',\n",
              " 'acid',\n",
              " 'tenderness',\n",
              " 'we',\n",
              " '100',\n",
              " 'prozac',\n",
              " 'her',\n",
              " 'altered',\n",
              " 'urinary',\n",
              " 'stuff',\n",
              " 'wo',\n",
              " 'gained',\n",
              " 'hyper',\n",
              " 'rhinitis',\n",
              " 'sedated',\n",
              " 'fluid',\n",
              " 'hand',\n",
              " 'limbs',\n",
              " 'rheumatoid',\n",
              " 'purpura',\n",
              " 'drunk',\n",
              " 'family',\n",
              " 'gland',\n",
              " 'lowering',\n",
              " 'toe',\n",
              " 'mild',\n",
              " 'less',\n",
              " 'works',\n",
              " 'later',\n",
              " 'mad',\n",
              " 'hypomania',\n",
              " 'stay',\n",
              " 'done',\n",
              " 'myocardial',\n",
              " 'anxious',\n",
              " 'especially',\n",
              " 'bronchitis',\n",
              " 'premature',\n",
              " '--',\n",
              " 'medicine',\n",
              " 'hyperactivity',\n",
              " 'shaking',\n",
              " 'syncope',\n",
              " 'upset',\n",
              " 'whole',\n",
              " 'horrible',\n",
              " 'relief',\n",
              " 'worth',\n",
              " 'meds',\n",
              " 'though',\n",
              " 'infarction',\n",
              " 'during',\n",
              " 'related',\n",
              " 'through',\n",
              " 'hurts',\n",
              " 'finally',\n",
              " 'arousal',\n",
              " 'anyone',\n",
              " 'cyst',\n",
              " 'causing',\n",
              " 'website',\n",
              " 'enzyme',\n",
              " 'acne',\n",
              " 'type',\n",
              " 'creatinine',\n",
              " 'balance',\n",
              " 'indifferent',\n",
              " 'focusing',\n",
              " 'abdomen',\n",
              " 'permanent',\n",
              " 'substance',\n",
              " 'bowel',\n",
              " 'post',\n",
              " 'seems',\n",
              " \"'\",\n",
              " 'involuntary',\n",
              " 'today',\n",
              " 'density',\n",
              " 'perforation',\n",
              " 'positive',\n",
              " 'ratio',\n",
              " 'read',\n",
              " 'gait',\n",
              " 'acidosis',\n",
              " 'super',\n",
              " 'esophageal',\n",
              " 'exhausted',\n",
              " 'antisocial',\n",
              " 'keep',\n",
              " 'action',\n",
              " 'artery',\n",
              " 'worked',\n",
              " 'quit',\n",
              " 'delayed',\n",
              " 'recently',\n",
              " 'manic',\n",
              " 'atrioventricular',\n",
              " 'rather',\n",
              " 'hypertrophy',\n",
              " 'labored',\n",
              " 'triglycerides',\n",
              " 'macular',\n",
              " 'retention',\n",
              " 'slept',\n",
              " 'trouble',\n",
              " 'own',\n",
              " 'syndromes',\n",
              " 'hour',\n",
              " 'ocular',\n",
              " 'far',\n",
              " 'hdl',\n",
              " 'yet',\n",
              " 'come',\n",
              " 'calf',\n",
              " 'fibrillation',\n",
              " 'paralysed',\n",
              " 'metabolic',\n",
              " 'prothrombin',\n",
              " 'sinusitis',\n",
              " 'eyelid',\n",
              " 'others',\n",
              " 'similar',\n",
              " 'retinal',\n",
              " 'surgery',\n",
              " 'atrophic',\n",
              " 'lesion',\n",
              " 'water',\n",
              " 'him',\n",
              " 'ovarian',\n",
              " 'fingers',\n",
              " 'anorexia',\n",
              " 'male',\n",
              " 'why',\n",
              " 'hypersomnia',\n",
              " 'say',\n",
              " 'alkalosis',\n",
              " 'became',\n",
              " 'thinness',\n",
              " 'dosage',\n",
              " 'viral',\n",
              " 'shock',\n",
              " 'herpes',\n",
              " 'probably',\n",
              " 'neuralgia',\n",
              " 'thing',\n",
              " 'miss',\n",
              " 'improvement',\n",
              " 'else',\n",
              " '80',\n",
              " 'hope',\n",
              " 'heartburn',\n",
              " 'thyroid',\n",
              " 'secondary',\n",
              " 'local',\n",
              " 'sickness',\n",
              " 'ischemia',\n",
              " 'break',\n",
              " 'blindness',\n",
              " 'using',\n",
              " 'rupture',\n",
              " 'porphyria',\n",
              " 'eruptions',\n",
              " 'trippin',\n",
              " 'nail',\n",
              " 'where',\n",
              " 'hit',\n",
              " 'cystitis',\n",
              " 'etc',\n",
              " 'starting',\n",
              " 'tightness',\n",
              " 'immune',\n",
              " 'generalised',\n",
              " 'control',\n",
              " 'experience',\n",
              " 'pounding',\n",
              " 'empty',\n",
              " 'thrombosis',\n",
              " 'cortisone',\n",
              " 'bites',\n",
              " 'hearing',\n",
              " 'adrenal',\n",
              " 'temperature',\n",
              " 'deficiency',\n",
              " 'everything',\n",
              " 'knock',\n",
              " 'worst',\n",
              " 'distracted',\n",
              " 'able',\n",
              " 'natural',\n",
              " 'constant',\n",
              " 'bilirubin',\n",
              " 'none',\n",
              " 'abscess',\n",
              " 'deafness',\n",
              " 'coronary',\n",
              " 'intolerance',\n",
              " 'epilepsy',\n",
              " '50',\n",
              " 'highly',\n",
              " 'extremely',\n",
              " 'erythematosus',\n",
              " 'erectile',\n",
              " 'constipation',\n",
              " 'issues',\n",
              " 'doc',\n",
              " 'eaten',\n",
              " 'groggy',\n",
              " 'fucked',\n",
              " 'zocor',\n",
              " 'believe',\n",
              " 'toxicity',\n",
              " 'job',\n",
              " 'steroid',\n",
              " 'accidental',\n",
              " 'mellitus',\n",
              " 'wake',\n",
              " 'entire',\n",
              " 'prostate',\n",
              " 'conjunctivitis',\n",
              " 'otitis',\n",
              " 'influenza',\n",
              " 'flu',\n",
              " 'self',\n",
              " 'those',\n",
              " 'fucking',\n",
              " 'rate',\n",
              " 'hyperplasia',\n",
              " 'diagnosed',\n",
              " 'obstructive',\n",
              " 'discoloration',\n",
              " '\"',\n",
              " 'stool',\n",
              " 'new',\n",
              " 'flare',\n",
              " 'psychological',\n",
              " 'behaviour',\n",
              " 'shit',\n",
              " 'hangover',\n",
              " 'full',\n",
              " 'suffered',\n",
              " 'raised',\n",
              " 'per',\n",
              " 'poor',\n",
              " 'epidermal',\n",
              " 'ulcerative',\n",
              " 'arteritis',\n",
              " 'embolism',\n",
              " 'each',\n",
              " 'affect',\n",
              " 'pissed',\n",
              " 'sad',\n",
              " 'age',\n",
              " 'wrist',\n",
              " 'health',\n",
              " 'helped',\n",
              " 'period',\n",
              " 'itchy',\n",
              " 'negative',\n",
              " 'stairs',\n",
              " 'congenital',\n",
              " 'leukemia',\n",
              " 'dangerous',\n",
              " 'insomniac',\n",
              " 'mass',\n",
              " 'toes',\n",
              " 'complex',\n",
              " 'illness',\n",
              " 'white',\n",
              " 'deprived',\n",
              " 'messed',\n",
              " 'congestion',\n",
              " 'called',\n",
              " 'second',\n",
              " 'bruxism',\n",
              " 'totally',\n",
              " 'enough',\n",
              " 'possible',\n",
              " 'vascular',\n",
              " 'forgetfulness',\n",
              " 'grumpy',\n",
              " 'fat',\n",
              " 'twice',\n",
              " 'zaps',\n",
              " 'intestinal',\n",
              " 'feels',\n",
              " 'reflux',\n",
              " 'pm',\n",
              " 'thirsty',\n",
              " 'serious',\n",
              " 'cataract',\n",
              " 'hips',\n",
              " 'vaginitis',\n",
              " 'creatine',\n",
              " 'continue',\n",
              " 'research',\n",
              " 'active',\n",
              " 'bullous',\n",
              " 'extremity',\n",
              " 'pills',\n",
              " 'such',\n",
              " 'mean',\n",
              " 'healthy',\n",
              " 'add',\n",
              " 'increase',\n",
              " 'tiredness',\n",
              " 'become',\n",
              " 'haemorrhagic',\n",
              " 'thrombocytopenia',\n",
              " 'central',\n",
              " 'tendon',\n",
              " 'mania',\n",
              " 'physical',\n",
              " 'endometrial',\n",
              " 'disorientation',\n",
              " 'apnea',\n",
              " 'slightly',\n",
              " '15',\n",
              " 'rectal',\n",
              " 'arterial',\n",
              " 'cut',\n",
              " 'start',\n",
              " 'look',\n",
              " 'present',\n",
              " \"'ll\",\n",
              " 'soft',\n",
              " 'point',\n",
              " 'clonic',\n",
              " 'diastolic',\n",
              " 'extremities',\n",
              " 'associated',\n",
              " 'keeping',\n",
              " 'inability',\n",
              " 'retardation',\n",
              " 'reason',\n",
              " 'activity',\n",
              " 'radiation',\n",
              " 'aggressive',\n",
              " 'psychiatric',\n",
              " 'animal',\n",
              " 'prednisone',\n",
              " '9',\n",
              " 'prolactin',\n",
              " 'big',\n",
              " 'yawning',\n",
              " 'menstruation',\n",
              " 'fibrosis',\n",
              " ...]"
            ]
          },
          "metadata": {
            "tags": []
          },
          "execution_count": 19
        }
      ]
    },
    {
      "cell_type": "code",
      "metadata": {
        "id": "yPWr03mls3VT",
        "outputId": "60ea07c5-1f98-47a9-ad2f-b4ae348d99de",
        "colab": {
          "base_uri": "https://localhost:8080/",
          "height": 17
        }
      },
      "source": [
        "model_path = path/'models'\n",
        "model_path.mkdir(exist_ok=True)\n",
        "url = 'http://files.fast.ai/models/wt103_v1/'\n",
        "download_url(f'{url}lstm_wt103.pth', model_path/'lstm_wt103.pth')\n",
        "download_url(f'{url}itos_wt103.pkl', model_path/'itos_wt103.pkl')"
      ],
      "execution_count": 20,
      "outputs": [
        {
          "output_type": "display_data",
          "data": {
            "text/html": [
              ""
            ],
            "text/plain": [
              "<IPython.core.display.HTML object>"
            ]
          },
          "metadata": {
            "tags": []
          }
        },
        {
          "output_type": "display_data",
          "data": {
            "text/html": [
              ""
            ],
            "text/plain": [
              "<IPython.core.display.HTML object>"
            ]
          },
          "metadata": {
            "tags": []
          }
        }
      ]
    },
    {
      "cell_type": "code",
      "metadata": {
        "id": "JRzvWg8RtGGr",
        "outputId": "f047d14e-c498-47a1-9d6f-9185f8ea0b17",
        "colab": {
          "base_uri": "https://localhost:8080/",
          "height": 34
        }
      },
      "source": [
        "learn = language_model_learner(data_lm, AWD_LSTM, drop_mult=0.5)"
      ],
      "execution_count": 21,
      "outputs": [
        {
          "output_type": "stream",
          "text": [
            "Downloading https://s3.amazonaws.com/fast-ai-modelzoo/wt103-fwd.tgz\n"
          ],
          "name": "stdout"
        },
        {
          "output_type": "display_data",
          "data": {
            "text/html": [
              ""
            ],
            "text/plain": [
              "<IPython.core.display.HTML object>"
            ]
          },
          "metadata": {
            "tags": []
          }
        }
      ]
    },
    {
      "cell_type": "code",
      "metadata": {
        "id": "xKK7GeBev7Xn",
        "outputId": "2051eb5c-5ba6-437a-ebd8-18b6abde9f51",
        "colab": {
          "base_uri": "https://localhost:8080/",
          "height": 80
        }
      },
      "source": [
        "learn.fit_one_cycle(1, 1e-2)"
      ],
      "execution_count": 22,
      "outputs": [
        {
          "output_type": "display_data",
          "data": {
            "text/html": [
              "<table border=\"1\" class=\"dataframe\">\n",
              "  <thead>\n",
              "    <tr style=\"text-align: left;\">\n",
              "      <th>epoch</th>\n",
              "      <th>train_loss</th>\n",
              "      <th>valid_loss</th>\n",
              "      <th>accuracy</th>\n",
              "      <th>time</th>\n",
              "    </tr>\n",
              "  </thead>\n",
              "  <tbody>\n",
              "    <tr>\n",
              "      <td>0</td>\n",
              "      <td>4.286728</td>\n",
              "      <td>3.459611</td>\n",
              "      <td>0.428697</td>\n",
              "      <td>09:12</td>\n",
              "    </tr>\n",
              "  </tbody>\n",
              "</table>"
            ],
            "text/plain": [
              "<IPython.core.display.HTML object>"
            ]
          },
          "metadata": {
            "tags": []
          }
        }
      ]
    },
    {
      "cell_type": "code",
      "metadata": {
        "id": "iB7rHGQCwd12",
        "outputId": "387f9698-3b65-4b42-d590-20a09ea908a3",
        "colab": {
          "base_uri": "https://localhost:8080/",
          "height": 80
        }
      },
      "source": [
        "learn.fit_one_cycle(1, 1e-2)"
      ],
      "execution_count": 23,
      "outputs": [
        {
          "output_type": "display_data",
          "data": {
            "text/html": [
              "<table border=\"1\" class=\"dataframe\">\n",
              "  <thead>\n",
              "    <tr style=\"text-align: left;\">\n",
              "      <th>epoch</th>\n",
              "      <th>train_loss</th>\n",
              "      <th>valid_loss</th>\n",
              "      <th>accuracy</th>\n",
              "      <th>time</th>\n",
              "    </tr>\n",
              "  </thead>\n",
              "  <tbody>\n",
              "    <tr>\n",
              "      <td>0</td>\n",
              "      <td>3.262551</td>\n",
              "      <td>3.022271</td>\n",
              "      <td>0.488044</td>\n",
              "      <td>09:06</td>\n",
              "    </tr>\n",
              "  </tbody>\n",
              "</table>"
            ],
            "text/plain": [
              "<IPython.core.display.HTML object>"
            ]
          },
          "metadata": {
            "tags": []
          }
        }
      ]
    },
    {
      "cell_type": "code",
      "metadata": {
        "id": "_BnSuAeCwkBe",
        "outputId": "efb1a25a-0400-47ee-a438-8d1fcaa5acae",
        "colab": {
          "base_uri": "https://localhost:8080/",
          "height": 80
        }
      },
      "source": [
        "learn.fit_one_cycle(1, 1e-3)"
      ],
      "execution_count": 24,
      "outputs": [
        {
          "output_type": "display_data",
          "data": {
            "text/html": [
              "<table border=\"1\" class=\"dataframe\">\n",
              "  <thead>\n",
              "    <tr style=\"text-align: left;\">\n",
              "      <th>epoch</th>\n",
              "      <th>train_loss</th>\n",
              "      <th>valid_loss</th>\n",
              "      <th>accuracy</th>\n",
              "      <th>time</th>\n",
              "    </tr>\n",
              "  </thead>\n",
              "  <tbody>\n",
              "    <tr>\n",
              "      <td>0</td>\n",
              "      <td>3.048299</td>\n",
              "      <td>2.987095</td>\n",
              "      <td>0.492062</td>\n",
              "      <td>09:04</td>\n",
              "    </tr>\n",
              "  </tbody>\n",
              "</table>"
            ],
            "text/plain": [
              "<IPython.core.display.HTML object>"
            ]
          },
          "metadata": {
            "tags": []
          }
        }
      ]
    },
    {
      "cell_type": "code",
      "metadata": {
        "id": "MuTm-RFjwrEX",
        "outputId": "f781bf4a-2bc9-471f-bd5a-9be2cf2cf705",
        "colab": {
          "base_uri": "https://localhost:8080/",
          "height": 80
        }
      },
      "source": [
        "learn.fit_one_cycle(1, 1e-3)"
      ],
      "execution_count": 25,
      "outputs": [
        {
          "output_type": "display_data",
          "data": {
            "text/html": [
              "<table border=\"1\" class=\"dataframe\">\n",
              "  <thead>\n",
              "    <tr style=\"text-align: left;\">\n",
              "      <th>epoch</th>\n",
              "      <th>train_loss</th>\n",
              "      <th>valid_loss</th>\n",
              "      <th>accuracy</th>\n",
              "      <th>time</th>\n",
              "    </tr>\n",
              "  </thead>\n",
              "  <tbody>\n",
              "    <tr>\n",
              "      <td>0</td>\n",
              "      <td>3.001334</td>\n",
              "      <td>2.957087</td>\n",
              "      <td>0.495061</td>\n",
              "      <td>09:05</td>\n",
              "    </tr>\n",
              "  </tbody>\n",
              "</table>"
            ],
            "text/plain": [
              "<IPython.core.display.HTML object>"
            ]
          },
          "metadata": {
            "tags": []
          }
        }
      ]
    },
    {
      "cell_type": "code",
      "metadata": {
        "id": "1Er2ExO8wr7Y"
      },
      "source": [
        "learn.save_encoder('TwADR-cadec_fold3_first')"
      ],
      "execution_count": 26,
      "outputs": []
    },
    {
      "cell_type": "code",
      "metadata": {
        "id": "z52cZs2qwvad",
        "outputId": "86d63bcb-8f37-45cf-f5c6-ec4f249f20cf",
        "colab": {
          "base_uri": "https://localhost:8080/",
          "height": 80
        }
      },
      "source": [
        "learn = text_classifier_learner(data_clas,AWD_LSTM, drop_mult=0.5)\n",
        "learn.load_encoder('TwADR-cadec_fold3_first')\n",
        "learn.fit_one_cycle(1, 1e-2)"
      ],
      "execution_count": 27,
      "outputs": [
        {
          "output_type": "display_data",
          "data": {
            "text/html": [
              "<table border=\"1\" class=\"dataframe\">\n",
              "  <thead>\n",
              "    <tr style=\"text-align: left;\">\n",
              "      <th>epoch</th>\n",
              "      <th>train_loss</th>\n",
              "      <th>valid_loss</th>\n",
              "      <th>accuracy</th>\n",
              "      <th>time</th>\n",
              "    </tr>\n",
              "  </thead>\n",
              "  <tbody>\n",
              "    <tr>\n",
              "      <td>0</td>\n",
              "      <td>7.254933</td>\n",
              "      <td>6.219384</td>\n",
              "      <td>0.092437</td>\n",
              "      <td>00:27</td>\n",
              "    </tr>\n",
              "  </tbody>\n",
              "</table>"
            ],
            "text/plain": [
              "<IPython.core.display.HTML object>"
            ]
          },
          "metadata": {
            "tags": []
          }
        }
      ]
    },
    {
      "cell_type": "code",
      "metadata": {
        "id": "ImwQP1PJwzxd",
        "outputId": "bddbff08-4fab-4070-aebb-db25776e8ef2",
        "colab": {
          "base_uri": "https://localhost:8080/",
          "height": 80
        }
      },
      "source": [
        "learn.freeze_to(-2)\n",
        "learn.fit_one_cycle(1, slice(5e-3/2., 5e-3))"
      ],
      "execution_count": 28,
      "outputs": [
        {
          "output_type": "display_data",
          "data": {
            "text/html": [
              "<table border=\"1\" class=\"dataframe\">\n",
              "  <thead>\n",
              "    <tr style=\"text-align: left;\">\n",
              "      <th>epoch</th>\n",
              "      <th>train_loss</th>\n",
              "      <th>valid_loss</th>\n",
              "      <th>accuracy</th>\n",
              "      <th>time</th>\n",
              "    </tr>\n",
              "  </thead>\n",
              "  <tbody>\n",
              "    <tr>\n",
              "      <td>0</td>\n",
              "      <td>6.310027</td>\n",
              "      <td>5.177754</td>\n",
              "      <td>0.109244</td>\n",
              "      <td>00:28</td>\n",
              "    </tr>\n",
              "  </tbody>\n",
              "</table>"
            ],
            "text/plain": [
              "<IPython.core.display.HTML object>"
            ]
          },
          "metadata": {
            "tags": []
          }
        }
      ]
    },
    {
      "cell_type": "code",
      "metadata": {
        "id": "Owff_BJXw53u",
        "outputId": "63a4208a-e16d-4995-c80b-3ac2df3b5078",
        "colab": {
          "base_uri": "https://localhost:8080/",
          "height": 80
        }
      },
      "source": [
        "learn.unfreeze()\n",
        "learn.fit_one_cycle(1, slice(2e-3/100, 2e-3))"
      ],
      "execution_count": 29,
      "outputs": [
        {
          "output_type": "display_data",
          "data": {
            "text/html": [
              "<table border=\"1\" class=\"dataframe\">\n",
              "  <thead>\n",
              "    <tr style=\"text-align: left;\">\n",
              "      <th>epoch</th>\n",
              "      <th>train_loss</th>\n",
              "      <th>valid_loss</th>\n",
              "      <th>accuracy</th>\n",
              "      <th>time</th>\n",
              "    </tr>\n",
              "  </thead>\n",
              "  <tbody>\n",
              "    <tr>\n",
              "      <td>0</td>\n",
              "      <td>5.743585</td>\n",
              "      <td>4.937383</td>\n",
              "      <td>0.168067</td>\n",
              "      <td>01:08</td>\n",
              "    </tr>\n",
              "  </tbody>\n",
              "</table>"
            ],
            "text/plain": [
              "<IPython.core.display.HTML object>"
            ]
          },
          "metadata": {
            "tags": []
          }
        }
      ]
    },
    {
      "cell_type": "code",
      "metadata": {
        "id": "lqAyu56V8Waq",
        "outputId": "849d2265-ea41-4c84-f05b-336645036e7d",
        "colab": {
          "base_uri": "https://localhost:8080/",
          "height": 111
        }
      },
      "source": [
        "learn.fit_one_cycle(2, slice(2e-3/100, 2e-3))"
      ],
      "execution_count": 30,
      "outputs": [
        {
          "output_type": "display_data",
          "data": {
            "text/html": [
              "<table border=\"1\" class=\"dataframe\">\n",
              "  <thead>\n",
              "    <tr style=\"text-align: left;\">\n",
              "      <th>epoch</th>\n",
              "      <th>train_loss</th>\n",
              "      <th>valid_loss</th>\n",
              "      <th>accuracy</th>\n",
              "      <th>time</th>\n",
              "    </tr>\n",
              "  </thead>\n",
              "  <tbody>\n",
              "    <tr>\n",
              "      <td>0</td>\n",
              "      <td>5.515096</td>\n",
              "      <td>4.645401</td>\n",
              "      <td>0.210084</td>\n",
              "      <td>01:05</td>\n",
              "    </tr>\n",
              "    <tr>\n",
              "      <td>1</td>\n",
              "      <td>5.288623</td>\n",
              "      <td>4.507689</td>\n",
              "      <td>0.184874</td>\n",
              "      <td>01:09</td>\n",
              "    </tr>\n",
              "  </tbody>\n",
              "</table>"
            ],
            "text/plain": [
              "<IPython.core.display.HTML object>"
            ]
          },
          "metadata": {
            "tags": []
          }
        }
      ]
    },
    {
      "cell_type": "code",
      "metadata": {
        "id": "a7I1xMRp8bUd",
        "outputId": "b372075d-fe76-446b-e2f3-7651acc2fe80",
        "colab": {
          "base_uri": "https://localhost:8080/",
          "height": 111
        }
      },
      "source": [
        "learn.fit_one_cycle(2, slice(2e-3/100, 2e-3))"
      ],
      "execution_count": 31,
      "outputs": [
        {
          "output_type": "display_data",
          "data": {
            "text/html": [
              "<table border=\"1\" class=\"dataframe\">\n",
              "  <thead>\n",
              "    <tr style=\"text-align: left;\">\n",
              "      <th>epoch</th>\n",
              "      <th>train_loss</th>\n",
              "      <th>valid_loss</th>\n",
              "      <th>accuracy</th>\n",
              "      <th>time</th>\n",
              "    </tr>\n",
              "  </thead>\n",
              "  <tbody>\n",
              "    <tr>\n",
              "      <td>0</td>\n",
              "      <td>4.992494</td>\n",
              "      <td>4.384673</td>\n",
              "      <td>0.159664</td>\n",
              "      <td>01:06</td>\n",
              "    </tr>\n",
              "    <tr>\n",
              "      <td>1</td>\n",
              "      <td>4.845067</td>\n",
              "      <td>4.165663</td>\n",
              "      <td>0.277311</td>\n",
              "      <td>01:09</td>\n",
              "    </tr>\n",
              "  </tbody>\n",
              "</table>"
            ],
            "text/plain": [
              "<IPython.core.display.HTML object>"
            ]
          },
          "metadata": {
            "tags": []
          }
        }
      ]
    },
    {
      "cell_type": "code",
      "metadata": {
        "id": "UAnti-XmGVfO",
        "outputId": "01bc58df-04a8-45e3-ef62-e16b2b7ff207",
        "colab": {
          "base_uri": "https://localhost:8080/",
          "height": 111
        }
      },
      "source": [
        "learn.fit_one_cycle(2, slice(2e-3/100, 2e-3))"
      ],
      "execution_count": 32,
      "outputs": [
        {
          "output_type": "display_data",
          "data": {
            "text/html": [
              "<table border=\"1\" class=\"dataframe\">\n",
              "  <thead>\n",
              "    <tr style=\"text-align: left;\">\n",
              "      <th>epoch</th>\n",
              "      <th>train_loss</th>\n",
              "      <th>valid_loss</th>\n",
              "      <th>accuracy</th>\n",
              "      <th>time</th>\n",
              "    </tr>\n",
              "  </thead>\n",
              "  <tbody>\n",
              "    <tr>\n",
              "      <td>0</td>\n",
              "      <td>4.601480</td>\n",
              "      <td>4.004056</td>\n",
              "      <td>0.319328</td>\n",
              "      <td>01:09</td>\n",
              "    </tr>\n",
              "    <tr>\n",
              "      <td>1</td>\n",
              "      <td>4.440254</td>\n",
              "      <td>3.868280</td>\n",
              "      <td>0.285714</td>\n",
              "      <td>01:09</td>\n",
              "    </tr>\n",
              "  </tbody>\n",
              "</table>"
            ],
            "text/plain": [
              "<IPython.core.display.HTML object>"
            ]
          },
          "metadata": {
            "tags": []
          }
        }
      ]
    },
    {
      "cell_type": "code",
      "metadata": {
        "id": "bIft7W25GwSu",
        "outputId": "74a7231f-9249-4fe6-ea13-56b92ec4b9ad",
        "colab": {
          "base_uri": "https://localhost:8080/",
          "height": 111
        }
      },
      "source": [
        "learn.fit_one_cycle(2, slice(2e-3/100, 2e-3))"
      ],
      "execution_count": 33,
      "outputs": [
        {
          "output_type": "display_data",
          "data": {
            "text/html": [
              "<table border=\"1\" class=\"dataframe\">\n",
              "  <thead>\n",
              "    <tr style=\"text-align: left;\">\n",
              "      <th>epoch</th>\n",
              "      <th>train_loss</th>\n",
              "      <th>valid_loss</th>\n",
              "      <th>accuracy</th>\n",
              "      <th>time</th>\n",
              "    </tr>\n",
              "  </thead>\n",
              "  <tbody>\n",
              "    <tr>\n",
              "      <td>0</td>\n",
              "      <td>4.275781</td>\n",
              "      <td>3.837729</td>\n",
              "      <td>0.277311</td>\n",
              "      <td>01:05</td>\n",
              "    </tr>\n",
              "    <tr>\n",
              "      <td>1</td>\n",
              "      <td>4.094974</td>\n",
              "      <td>3.768489</td>\n",
              "      <td>0.277311</td>\n",
              "      <td>01:09</td>\n",
              "    </tr>\n",
              "  </tbody>\n",
              "</table>"
            ],
            "text/plain": [
              "<IPython.core.display.HTML object>"
            ]
          },
          "metadata": {
            "tags": []
          }
        }
      ]
    },
    {
      "cell_type": "code",
      "metadata": {
        "id": "EEHszVRvGyFt",
        "outputId": "424ae72a-1532-4228-e4f9-54ac0abeaaff",
        "colab": {
          "base_uri": "https://localhost:8080/",
          "height": 111
        }
      },
      "source": [
        "learn.fit_one_cycle(2, slice(2e-3/100, 2e-3))"
      ],
      "execution_count": 34,
      "outputs": [
        {
          "output_type": "display_data",
          "data": {
            "text/html": [
              "<table border=\"1\" class=\"dataframe\">\n",
              "  <thead>\n",
              "    <tr style=\"text-align: left;\">\n",
              "      <th>epoch</th>\n",
              "      <th>train_loss</th>\n",
              "      <th>valid_loss</th>\n",
              "      <th>accuracy</th>\n",
              "      <th>time</th>\n",
              "    </tr>\n",
              "  </thead>\n",
              "  <tbody>\n",
              "    <tr>\n",
              "      <td>0</td>\n",
              "      <td>3.904352</td>\n",
              "      <td>3.501278</td>\n",
              "      <td>0.369748</td>\n",
              "      <td>01:09</td>\n",
              "    </tr>\n",
              "    <tr>\n",
              "      <td>1</td>\n",
              "      <td>3.797781</td>\n",
              "      <td>3.458126</td>\n",
              "      <td>0.386555</td>\n",
              "      <td>01:03</td>\n",
              "    </tr>\n",
              "  </tbody>\n",
              "</table>"
            ],
            "text/plain": [
              "<IPython.core.display.HTML object>"
            ]
          },
          "metadata": {
            "tags": []
          }
        }
      ]
    },
    {
      "cell_type": "code",
      "metadata": {
        "id": "XsHfrhCHG3dN",
        "outputId": "4cc26f08-2c0f-487f-a2fd-415eecaa2516",
        "colab": {
          "base_uri": "https://localhost:8080/",
          "height": 173
        }
      },
      "source": [
        "learn.fit_one_cycle(4, slice(2e-3/100, 2e-3))"
      ],
      "execution_count": 35,
      "outputs": [
        {
          "output_type": "display_data",
          "data": {
            "text/html": [
              "<table border=\"1\" class=\"dataframe\">\n",
              "  <thead>\n",
              "    <tr style=\"text-align: left;\">\n",
              "      <th>epoch</th>\n",
              "      <th>train_loss</th>\n",
              "      <th>valid_loss</th>\n",
              "      <th>accuracy</th>\n",
              "      <th>time</th>\n",
              "    </tr>\n",
              "  </thead>\n",
              "  <tbody>\n",
              "    <tr>\n",
              "      <td>0</td>\n",
              "      <td>3.575854</td>\n",
              "      <td>3.410635</td>\n",
              "      <td>0.386555</td>\n",
              "      <td>01:07</td>\n",
              "    </tr>\n",
              "    <tr>\n",
              "      <td>1</td>\n",
              "      <td>3.505850</td>\n",
              "      <td>3.297367</td>\n",
              "      <td>0.436975</td>\n",
              "      <td>01:06</td>\n",
              "    </tr>\n",
              "    <tr>\n",
              "      <td>2</td>\n",
              "      <td>3.326732</td>\n",
              "      <td>3.358158</td>\n",
              "      <td>0.386555</td>\n",
              "      <td>01:07</td>\n",
              "    </tr>\n",
              "    <tr>\n",
              "      <td>3</td>\n",
              "      <td>3.176109</td>\n",
              "      <td>3.347710</td>\n",
              "      <td>0.378151</td>\n",
              "      <td>01:05</td>\n",
              "    </tr>\n",
              "  </tbody>\n",
              "</table>"
            ],
            "text/plain": [
              "<IPython.core.display.HTML object>"
            ]
          },
          "metadata": {
            "tags": []
          }
        }
      ]
    },
    {
      "cell_type": "code",
      "metadata": {
        "id": "0Zsd99isb9EQ",
        "outputId": "4fbffbf7-e46a-41fc-f35d-71b58f82670c",
        "colab": {
          "base_uri": "https://localhost:8080/",
          "height": 173
        }
      },
      "source": [
        "learn.fit_one_cycle(4, slice(2e-3/100, 2e-3))"
      ],
      "execution_count": 36,
      "outputs": [
        {
          "output_type": "display_data",
          "data": {
            "text/html": [
              "<table border=\"1\" class=\"dataframe\">\n",
              "  <thead>\n",
              "    <tr style=\"text-align: left;\">\n",
              "      <th>epoch</th>\n",
              "      <th>train_loss</th>\n",
              "      <th>valid_loss</th>\n",
              "      <th>accuracy</th>\n",
              "      <th>time</th>\n",
              "    </tr>\n",
              "  </thead>\n",
              "  <tbody>\n",
              "    <tr>\n",
              "      <td>0</td>\n",
              "      <td>2.980046</td>\n",
              "      <td>3.248951</td>\n",
              "      <td>0.462185</td>\n",
              "      <td>01:08</td>\n",
              "    </tr>\n",
              "    <tr>\n",
              "      <td>1</td>\n",
              "      <td>2.926056</td>\n",
              "      <td>3.183070</td>\n",
              "      <td>0.445378</td>\n",
              "      <td>01:06</td>\n",
              "    </tr>\n",
              "    <tr>\n",
              "      <td>2</td>\n",
              "      <td>2.758224</td>\n",
              "      <td>3.191485</td>\n",
              "      <td>0.445378</td>\n",
              "      <td>01:13</td>\n",
              "    </tr>\n",
              "    <tr>\n",
              "      <td>3</td>\n",
              "      <td>2.608985</td>\n",
              "      <td>3.186211</td>\n",
              "      <td>0.462185</td>\n",
              "      <td>01:04</td>\n",
              "    </tr>\n",
              "  </tbody>\n",
              "</table>"
            ],
            "text/plain": [
              "<IPython.core.display.HTML object>"
            ]
          },
          "metadata": {
            "tags": []
          }
        }
      ]
    },
    {
      "cell_type": "code",
      "metadata": {
        "id": "atNWNKDFPbuI",
        "outputId": "8cf08f11-ec9c-4be9-fb3e-1eceefa58114",
        "colab": {
          "base_uri": "https://localhost:8080/",
          "height": 173
        }
      },
      "source": [
        "learn.fit_one_cycle(4, slice(2e-3/100, 2e-3))"
      ],
      "execution_count": 37,
      "outputs": [
        {
          "output_type": "display_data",
          "data": {
            "text/html": [
              "<table border=\"1\" class=\"dataframe\">\n",
              "  <thead>\n",
              "    <tr style=\"text-align: left;\">\n",
              "      <th>epoch</th>\n",
              "      <th>train_loss</th>\n",
              "      <th>valid_loss</th>\n",
              "      <th>accuracy</th>\n",
              "      <th>time</th>\n",
              "    </tr>\n",
              "  </thead>\n",
              "  <tbody>\n",
              "    <tr>\n",
              "      <td>0</td>\n",
              "      <td>2.494101</td>\n",
              "      <td>3.146317</td>\n",
              "      <td>0.453782</td>\n",
              "      <td>01:07</td>\n",
              "    </tr>\n",
              "    <tr>\n",
              "      <td>1</td>\n",
              "      <td>2.426560</td>\n",
              "      <td>3.029467</td>\n",
              "      <td>0.462185</td>\n",
              "      <td>01:10</td>\n",
              "    </tr>\n",
              "    <tr>\n",
              "      <td>2</td>\n",
              "      <td>2.253326</td>\n",
              "      <td>3.082618</td>\n",
              "      <td>0.462185</td>\n",
              "      <td>01:09</td>\n",
              "    </tr>\n",
              "    <tr>\n",
              "      <td>3</td>\n",
              "      <td>2.105603</td>\n",
              "      <td>3.114343</td>\n",
              "      <td>0.453782</td>\n",
              "      <td>01:08</td>\n",
              "    </tr>\n",
              "  </tbody>\n",
              "</table>"
            ],
            "text/plain": [
              "<IPython.core.display.HTML object>"
            ]
          },
          "metadata": {
            "tags": []
          }
        }
      ]
    },
    {
      "cell_type": "code",
      "metadata": {
        "id": "rKrBTZ0T1uVA",
        "outputId": "6f364a14-c975-48d4-f756-0cb08806d4b7",
        "colab": {
          "base_uri": "https://localhost:8080/",
          "height": 173
        }
      },
      "source": [
        "learn.fit_one_cycle(4, slice(2e-3/100, 2e-3))"
      ],
      "execution_count": 38,
      "outputs": [
        {
          "output_type": "display_data",
          "data": {
            "text/html": [
              "<table border=\"1\" class=\"dataframe\">\n",
              "  <thead>\n",
              "    <tr style=\"text-align: left;\">\n",
              "      <th>epoch</th>\n",
              "      <th>train_loss</th>\n",
              "      <th>valid_loss</th>\n",
              "      <th>accuracy</th>\n",
              "      <th>time</th>\n",
              "    </tr>\n",
              "  </thead>\n",
              "  <tbody>\n",
              "    <tr>\n",
              "      <td>0</td>\n",
              "      <td>1.944796</td>\n",
              "      <td>3.120957</td>\n",
              "      <td>0.403361</td>\n",
              "      <td>01:04</td>\n",
              "    </tr>\n",
              "    <tr>\n",
              "      <td>1</td>\n",
              "      <td>1.924184</td>\n",
              "      <td>3.105034</td>\n",
              "      <td>0.420168</td>\n",
              "      <td>01:07</td>\n",
              "    </tr>\n",
              "    <tr>\n",
              "      <td>2</td>\n",
              "      <td>1.823742</td>\n",
              "      <td>3.080029</td>\n",
              "      <td>0.478992</td>\n",
              "      <td>01:03</td>\n",
              "    </tr>\n",
              "    <tr>\n",
              "      <td>3</td>\n",
              "      <td>1.651450</td>\n",
              "      <td>3.030699</td>\n",
              "      <td>0.470588</td>\n",
              "      <td>01:10</td>\n",
              "    </tr>\n",
              "  </tbody>\n",
              "</table>"
            ],
            "text/plain": [
              "<IPython.core.display.HTML object>"
            ]
          },
          "metadata": {
            "tags": []
          }
        }
      ]
    },
    {
      "cell_type": "code",
      "metadata": {
        "id": "ajQC6WDg1yA9",
        "outputId": "19dddc1d-2c40-462a-9d20-6a0d1b12c62d",
        "colab": {
          "base_uri": "https://localhost:8080/",
          "height": 173
        }
      },
      "source": [
        "learn.fit_one_cycle(4, slice(2e-3/100, 2e-3))"
      ],
      "execution_count": 39,
      "outputs": [
        {
          "output_type": "display_data",
          "data": {
            "text/html": [
              "<table border=\"1\" class=\"dataframe\">\n",
              "  <thead>\n",
              "    <tr style=\"text-align: left;\">\n",
              "      <th>epoch</th>\n",
              "      <th>train_loss</th>\n",
              "      <th>valid_loss</th>\n",
              "      <th>accuracy</th>\n",
              "      <th>time</th>\n",
              "    </tr>\n",
              "  </thead>\n",
              "  <tbody>\n",
              "    <tr>\n",
              "      <td>0</td>\n",
              "      <td>1.551678</td>\n",
              "      <td>3.114764</td>\n",
              "      <td>0.462185</td>\n",
              "      <td>01:05</td>\n",
              "    </tr>\n",
              "    <tr>\n",
              "      <td>1</td>\n",
              "      <td>1.541326</td>\n",
              "      <td>3.139090</td>\n",
              "      <td>0.445378</td>\n",
              "      <td>01:04</td>\n",
              "    </tr>\n",
              "    <tr>\n",
              "      <td>2</td>\n",
              "      <td>1.419731</td>\n",
              "      <td>3.156495</td>\n",
              "      <td>0.420168</td>\n",
              "      <td>01:06</td>\n",
              "    </tr>\n",
              "    <tr>\n",
              "      <td>3</td>\n",
              "      <td>1.290068</td>\n",
              "      <td>3.164395</td>\n",
              "      <td>0.436975</td>\n",
              "      <td>01:06</td>\n",
              "    </tr>\n",
              "  </tbody>\n",
              "</table>"
            ],
            "text/plain": [
              "<IPython.core.display.HTML object>"
            ]
          },
          "metadata": {
            "tags": []
          }
        }
      ]
    },
    {
      "cell_type": "code",
      "metadata": {
        "id": "KKydb0B4BKGk",
        "outputId": "cc785819-c977-473f-84e1-7aa6119218dd",
        "colab": {
          "base_uri": "https://localhost:8080/",
          "height": 173
        }
      },
      "source": [
        "learn.fit_one_cycle(4, slice(2e-3/100, 2e-3))"
      ],
      "execution_count": 40,
      "outputs": [
        {
          "output_type": "display_data",
          "data": {
            "text/html": [
              "<table border=\"1\" class=\"dataframe\">\n",
              "  <thead>\n",
              "    <tr style=\"text-align: left;\">\n",
              "      <th>epoch</th>\n",
              "      <th>train_loss</th>\n",
              "      <th>valid_loss</th>\n",
              "      <th>accuracy</th>\n",
              "      <th>time</th>\n",
              "    </tr>\n",
              "  </thead>\n",
              "  <tbody>\n",
              "    <tr>\n",
              "      <td>0</td>\n",
              "      <td>1.260191</td>\n",
              "      <td>3.274737</td>\n",
              "      <td>0.436975</td>\n",
              "      <td>01:07</td>\n",
              "    </tr>\n",
              "    <tr>\n",
              "      <td>1</td>\n",
              "      <td>1.244051</td>\n",
              "      <td>3.232326</td>\n",
              "      <td>0.428571</td>\n",
              "      <td>01:09</td>\n",
              "    </tr>\n",
              "    <tr>\n",
              "      <td>2</td>\n",
              "      <td>1.144767</td>\n",
              "      <td>3.267982</td>\n",
              "      <td>0.386555</td>\n",
              "      <td>01:09</td>\n",
              "    </tr>\n",
              "    <tr>\n",
              "      <td>3</td>\n",
              "      <td>1.035880</td>\n",
              "      <td>3.253362</td>\n",
              "      <td>0.445378</td>\n",
              "      <td>01:09</td>\n",
              "    </tr>\n",
              "  </tbody>\n",
              "</table>"
            ],
            "text/plain": [
              "<IPython.core.display.HTML object>"
            ]
          },
          "metadata": {
            "tags": []
          }
        }
      ]
    },
    {
      "cell_type": "code",
      "metadata": {
        "id": "T2APKtFKBpGY",
        "outputId": "7f3f6b92-d531-4e3d-f446-be53dce82bc8",
        "colab": {
          "base_uri": "https://localhost:8080/",
          "height": 173
        }
      },
      "source": [
        "learn.fit_one_cycle(4, slice(2e-3/100, 2e-3))"
      ],
      "execution_count": 41,
      "outputs": [
        {
          "output_type": "display_data",
          "data": {
            "text/html": [
              "<table border=\"1\" class=\"dataframe\">\n",
              "  <thead>\n",
              "    <tr style=\"text-align: left;\">\n",
              "      <th>epoch</th>\n",
              "      <th>train_loss</th>\n",
              "      <th>valid_loss</th>\n",
              "      <th>accuracy</th>\n",
              "      <th>time</th>\n",
              "    </tr>\n",
              "  </thead>\n",
              "  <tbody>\n",
              "    <tr>\n",
              "      <td>0</td>\n",
              "      <td>0.909667</td>\n",
              "      <td>3.297057</td>\n",
              "      <td>0.420168</td>\n",
              "      <td>01:11</td>\n",
              "    </tr>\n",
              "    <tr>\n",
              "      <td>1</td>\n",
              "      <td>0.963222</td>\n",
              "      <td>3.394537</td>\n",
              "      <td>0.403361</td>\n",
              "      <td>01:10</td>\n",
              "    </tr>\n",
              "    <tr>\n",
              "      <td>2</td>\n",
              "      <td>0.934401</td>\n",
              "      <td>3.347184</td>\n",
              "      <td>0.453782</td>\n",
              "      <td>01:03</td>\n",
              "    </tr>\n",
              "    <tr>\n",
              "      <td>3</td>\n",
              "      <td>0.854587</td>\n",
              "      <td>3.338979</td>\n",
              "      <td>0.453782</td>\n",
              "      <td>01:03</td>\n",
              "    </tr>\n",
              "  </tbody>\n",
              "</table>"
            ],
            "text/plain": [
              "<IPython.core.display.HTML object>"
            ]
          },
          "metadata": {
            "tags": []
          }
        }
      ]
    },
    {
      "cell_type": "code",
      "metadata": {
        "id": "qtTypA1sPgLU",
        "outputId": "0d24e5d7-fb32-4d79-8fb6-2290fa3402e0",
        "colab": {
          "base_uri": "https://localhost:8080/",
          "height": 111
        }
      },
      "source": [
        "learn.fit_one_cycle(2, slice(2e-3/100, 2e-3))"
      ],
      "execution_count": 42,
      "outputs": [
        {
          "output_type": "display_data",
          "data": {
            "text/html": [
              "<table border=\"1\" class=\"dataframe\">\n",
              "  <thead>\n",
              "    <tr style=\"text-align: left;\">\n",
              "      <th>epoch</th>\n",
              "      <th>train_loss</th>\n",
              "      <th>valid_loss</th>\n",
              "      <th>accuracy</th>\n",
              "      <th>time</th>\n",
              "    </tr>\n",
              "  </thead>\n",
              "  <tbody>\n",
              "    <tr>\n",
              "      <td>0</td>\n",
              "      <td>0.765644</td>\n",
              "      <td>3.414597</td>\n",
              "      <td>0.428571</td>\n",
              "      <td>01:07</td>\n",
              "    </tr>\n",
              "    <tr>\n",
              "      <td>1</td>\n",
              "      <td>0.757674</td>\n",
              "      <td>3.392944</td>\n",
              "      <td>0.428571</td>\n",
              "      <td>01:08</td>\n",
              "    </tr>\n",
              "  </tbody>\n",
              "</table>"
            ],
            "text/plain": [
              "<IPython.core.display.HTML object>"
            ]
          },
          "metadata": {
            "tags": []
          }
        }
      ]
    },
    {
      "cell_type": "code",
      "metadata": {
        "id": "b242kBsTUp9Y",
        "outputId": "235e7f8b-132d-4def-a8e1-f151558395c2",
        "colab": {
          "base_uri": "https://localhost:8080/",
          "height": 111
        }
      },
      "source": [
        "learn.fit_one_cycle(2, slice(2e-3/100, 2e-3))"
      ],
      "execution_count": 43,
      "outputs": [
        {
          "output_type": "display_data",
          "data": {
            "text/html": [
              "<table border=\"1\" class=\"dataframe\">\n",
              "  <thead>\n",
              "    <tr style=\"text-align: left;\">\n",
              "      <th>epoch</th>\n",
              "      <th>train_loss</th>\n",
              "      <th>valid_loss</th>\n",
              "      <th>accuracy</th>\n",
              "      <th>time</th>\n",
              "    </tr>\n",
              "  </thead>\n",
              "  <tbody>\n",
              "    <tr>\n",
              "      <td>0</td>\n",
              "      <td>0.726551</td>\n",
              "      <td>3.454822</td>\n",
              "      <td>0.428571</td>\n",
              "      <td>01:03</td>\n",
              "    </tr>\n",
              "    <tr>\n",
              "      <td>1</td>\n",
              "      <td>0.703610</td>\n",
              "      <td>3.475708</td>\n",
              "      <td>0.411765</td>\n",
              "      <td>01:07</td>\n",
              "    </tr>\n",
              "  </tbody>\n",
              "</table>"
            ],
            "text/plain": [
              "<IPython.core.display.HTML object>"
            ]
          },
          "metadata": {
            "tags": []
          }
        }
      ]
    },
    {
      "cell_type": "code",
      "metadata": {
        "id": "Duwf1Ih5VeDZ",
        "outputId": "3844d21a-241c-4fea-8462-1d5767ed4b00",
        "colab": {
          "base_uri": "https://localhost:8080/",
          "height": 80
        }
      },
      "source": [
        "learn.fit_one_cycle(1, slice(2e-3/100, 2e-3))"
      ],
      "execution_count": 44,
      "outputs": [
        {
          "output_type": "display_data",
          "data": {
            "text/html": [
              "<table border=\"1\" class=\"dataframe\">\n",
              "  <thead>\n",
              "    <tr style=\"text-align: left;\">\n",
              "      <th>epoch</th>\n",
              "      <th>train_loss</th>\n",
              "      <th>valid_loss</th>\n",
              "      <th>accuracy</th>\n",
              "      <th>time</th>\n",
              "    </tr>\n",
              "  </thead>\n",
              "  <tbody>\n",
              "    <tr>\n",
              "      <td>0</td>\n",
              "      <td>0.639110</td>\n",
              "      <td>3.396900</td>\n",
              "      <td>0.436975</td>\n",
              "      <td>01:06</td>\n",
              "    </tr>\n",
              "  </tbody>\n",
              "</table>"
            ],
            "text/plain": [
              "<IPython.core.display.HTML object>"
            ]
          },
          "metadata": {
            "tags": []
          }
        }
      ]
    },
    {
      "cell_type": "code",
      "metadata": {
        "id": "c65d-osfDUXm"
      },
      "source": [
        "# save the best model\n",
        "\n",
        "learn.save_encoder('TwADR-cadec_fold3')"
      ],
      "execution_count": 45,
      "outputs": []
    },
    {
      "cell_type": "code",
      "metadata": {
        "id": "5h-A_GpAIYg8",
        "outputId": "2119c237-4424-4043-c8ec-f0e4eefb96af",
        "colab": {
          "base_uri": "https://localhost:8080/",
          "height": 80
        }
      },
      "source": [
        "learn.fit_one_cycle(1, slice(2e-3/100, 2e-3))"
      ],
      "execution_count": 46,
      "outputs": [
        {
          "output_type": "display_data",
          "data": {
            "text/html": [
              "<table border=\"1\" class=\"dataframe\">\n",
              "  <thead>\n",
              "    <tr style=\"text-align: left;\">\n",
              "      <th>epoch</th>\n",
              "      <th>train_loss</th>\n",
              "      <th>valid_loss</th>\n",
              "      <th>accuracy</th>\n",
              "      <th>time</th>\n",
              "    </tr>\n",
              "  </thead>\n",
              "  <tbody>\n",
              "    <tr>\n",
              "      <td>0</td>\n",
              "      <td>0.636323</td>\n",
              "      <td>3.507253</td>\n",
              "      <td>0.462185</td>\n",
              "      <td>01:11</td>\n",
              "    </tr>\n",
              "  </tbody>\n",
              "</table>"
            ],
            "text/plain": [
              "<IPython.core.display.HTML object>"
            ]
          },
          "metadata": {
            "tags": []
          }
        }
      ]
    },
    {
      "cell_type": "code",
      "metadata": {
        "id": "qc4poYxzIwca",
        "outputId": "66d157ad-31cf-432c-f8c0-7cfc44fb9dbd",
        "colab": {
          "base_uri": "https://localhost:8080/",
          "height": 80
        }
      },
      "source": [
        "learn.fit_one_cycle(1, slice(2e-3/100, 2e-3))"
      ],
      "execution_count": 47,
      "outputs": [
        {
          "output_type": "display_data",
          "data": {
            "text/html": [
              "<table border=\"1\" class=\"dataframe\">\n",
              "  <thead>\n",
              "    <tr style=\"text-align: left;\">\n",
              "      <th>epoch</th>\n",
              "      <th>train_loss</th>\n",
              "      <th>valid_loss</th>\n",
              "      <th>accuracy</th>\n",
              "      <th>time</th>\n",
              "    </tr>\n",
              "  </thead>\n",
              "  <tbody>\n",
              "    <tr>\n",
              "      <td>0</td>\n",
              "      <td>0.594818</td>\n",
              "      <td>3.510998</td>\n",
              "      <td>0.478992</td>\n",
              "      <td>01:09</td>\n",
              "    </tr>\n",
              "  </tbody>\n",
              "</table>"
            ],
            "text/plain": [
              "<IPython.core.display.HTML object>"
            ]
          },
          "metadata": {
            "tags": []
          }
        }
      ]
    },
    {
      "cell_type": "code",
      "metadata": {
        "id": "66s4PxV1JVfo",
        "outputId": "b99ccaaa-2c83-4f9e-daac-1ab842f62504",
        "colab": {
          "base_uri": "https://localhost:8080/",
          "height": 80
        }
      },
      "source": [
        "learn.fit_one_cycle(1, slice(2e-3/100, 2e-3))"
      ],
      "execution_count": 48,
      "outputs": [
        {
          "output_type": "display_data",
          "data": {
            "text/html": [
              "<table border=\"1\" class=\"dataframe\">\n",
              "  <thead>\n",
              "    <tr style=\"text-align: left;\">\n",
              "      <th>epoch</th>\n",
              "      <th>train_loss</th>\n",
              "      <th>valid_loss</th>\n",
              "      <th>accuracy</th>\n",
              "      <th>time</th>\n",
              "    </tr>\n",
              "  </thead>\n",
              "  <tbody>\n",
              "    <tr>\n",
              "      <td>0</td>\n",
              "      <td>0.557343</td>\n",
              "      <td>3.612135</td>\n",
              "      <td>0.428571</td>\n",
              "      <td>01:06</td>\n",
              "    </tr>\n",
              "  </tbody>\n",
              "</table>"
            ],
            "text/plain": [
              "<IPython.core.display.HTML object>"
            ]
          },
          "metadata": {
            "tags": []
          }
        }
      ]
    },
    {
      "cell_type": "markdown",
      "metadata": {
        "id": "rCwZU0E2RgM6"
      },
      "source": [
        "# Part three: Predict on the test dataset"
      ]
    },
    {
      "cell_type": "code",
      "metadata": {
        "id": "gDm72c-dOu7d",
        "outputId": "ae882c84-d634-40bd-c1d5-bd7a6a85ed60",
        "colab": {
          "base_uri": "https://localhost:8080/",
          "height": 17
        }
      },
      "source": [
        "# use the test data for prediction\n",
        "\n",
        "preds, y = learn.get_preds(DatasetType.Test)"
      ],
      "execution_count": 49,
      "outputs": [
        {
          "output_type": "display_data",
          "data": {
            "text/html": [
              ""
            ],
            "text/plain": [
              "<IPython.core.display.HTML object>"
            ]
          },
          "metadata": {
            "tags": []
          }
        }
      ]
    },
    {
      "cell_type": "code",
      "metadata": {
        "id": "6tFSQcsWPvxn",
        "outputId": "26101eee-08fa-46ff-818d-2359c7b15e59",
        "colab": {
          "base_uri": "https://localhost:8080/",
          "height": 105
        }
      },
      "source": [
        "predictions, *_ = learn.get_preds(DatasetType.Test)\n",
        "labels = np.argmax(predictions, 1)\n",
        "predict_list = labels.tolist()\n",
        "standard_list = test[0].tolist()\n",
        "\n",
        "print(len(predict_list))\n",
        "print(len(standard_list))\n",
        "\n",
        "print(predict_list)\n",
        "print(standard_list)"
      ],
      "execution_count": 50,
      "outputs": [
        {
          "output_type": "display_data",
          "data": {
            "text/html": [
              ""
            ],
            "text/plain": [
              "<IPython.core.display.HTML object>"
            ]
          },
          "metadata": {
            "tags": []
          }
        },
        {
          "output_type": "stream",
          "text": [
            "143\n",
            "143\n",
            "[393, 1962, 1718, 1204, 978, 750, 109, 1019, 189, 1007, 233, 249, 232, 750, 1767, 2149, 1054, 1599, 13, 393, 1787, 1054, 1526, 1973, 2063, 232, 1199, 2104, 629, 1483, 1204, 749, 749, 749, 1099, 792, 792, 792, 809, 809, 809, 1308, 2118, 2168, 1727, 2149, 1727, 512, 974, 974, 974, 232, 2147, 1669, 1054, 1099, 1545, 1099, 1925, 1136, 1136, 1145, 749, 1204, 1054, 1340, 1265, 947, 189, 189, 1727, 1597, 1597, 1942, 1508, 1711, 2074, 1484, 1787, 1769, 452, 1767, 1099, 1767, 1524, 1783, 1711, 1597, 1340, 1610, 418, 749, 1019, 1701, 1526, 1175, 1711, 1718, 1769, 1718, 1787, 1718, 1718, 1767, 1787, 1787, 1787, 1787, 1787, 2150, 393, 393, 1787, 1815, 982, 1340, 825, 1884, 1884, 1915, 1925, 1936, 1936, 1711, 1727, 858, 1787, 393, 1787, 13, 2074, 2081, 1767, 224, 2147, 2147, 2147, 233, 2147, 1054, 1545, 561, 2032]\n",
            "[13, 16, 61, 85, 94, 97, 109, 121, 189, 203, 233, 249, 265, 276, 284, 309, 359, 392, 393, 393, 393, 426, 441, 452, 452, 452, 561, 579, 629, 712, 739, 749, 749, 749, 792, 792, 792, 792, 809, 809, 809, 822, 824, 824, 852, 908, 947, 954, 974, 974, 974, 978, 1048, 1048, 1054, 1054, 1099, 1099, 1109, 1136, 1136, 1145, 1190, 1204, 1204, 1265, 1265, 1283, 1295, 1295, 1344, 1356, 1356, 1356, 1416, 1417, 1427, 1484, 1521, 1526, 1529, 1545, 1545, 1545, 1546, 1578, 1595, 1597, 1597, 1610, 1610, 1669, 1669, 1701, 1701, 1711, 1711, 1718, 1718, 1718, 1753, 1767, 1767, 1767, 1787, 1787, 1787, 1787, 1787, 1787, 1787, 1787, 1787, 1815, 1822, 1877, 1884, 1884, 1884, 1915, 1925, 1936, 1936, 1942, 1942, 2010, 2032, 2032, 2032, 2032, 2074, 2081, 2103, 2103, 2147, 2147, 2147, 2147, 2147, 2149, 2149, 2149, 2191]\n"
          ],
          "name": "stdout"
        }
      ]
    },
    {
      "cell_type": "code",
      "metadata": {
        "id": "XIC4zufnMxtq",
        "outputId": "f233e70b-cea5-4ad3-e77f-504ae2c7db6d",
        "colab": {
          "base_uri": "https://localhost:8080/"
        }
      },
      "source": [
        "correct_num = 0\n",
        "\n",
        "for i in range(0, len(standard_list)):\n",
        "  if predict_list[i] == standard_list[i]:\n",
        "    correct_num = correct_num+1\n",
        "  else:\n",
        "    pass\n",
        "print(correct_num)\n",
        "\n",
        "predict_accuracy = correct_num/len(predict_list)\n",
        "print(predict_accuracy)"
      ],
      "execution_count": 51,
      "outputs": [
        {
          "output_type": "stream",
          "text": [
            "52\n",
            "0.36363636363636365\n"
          ],
          "name": "stdout"
        }
      ]
    },
    {
      "cell_type": "code",
      "metadata": {
        "id": "zlKMHp1CIaRJ"
      },
      "source": [
        ""
      ],
      "execution_count": 51,
      "outputs": []
    }
  ]
}