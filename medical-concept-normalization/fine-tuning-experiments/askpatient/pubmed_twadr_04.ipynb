{
  "nbformat": 4,
  "nbformat_minor": 0,
  "metadata": {
    "accelerator": "TPU",
    "colab": {
      "name": "pubmed_twadr_04.ipynb",
      "provenance": [],
      "collapsed_sections": [],
      "toc_visible": true,
      "include_colab_link": true
    },
    "kernelspec": {
      "display_name": "Python 3",
      "name": "python3"
    }
  },
  "cells": [
    {
      "cell_type": "markdown",
      "metadata": {
        "id": "view-in-github",
        "colab_type": "text"
      },
      "source": [
        "<a href=\"https://colab.research.google.com/github/unt-iialab/medical-concept-normalization/blob/master/medical-concept-normalization/fine-tuning-experiments/askpatient/pubmed_twadr_04.ipynb\" target=\"_parent\"><img src=\"https://colab.research.google.com/assets/colab-badge.svg\" alt=\"Open In Colab\"/></a>"
      ]
    },
    {
      "cell_type": "code",
      "metadata": {
        "id": "adSi6i2-dWxy"
      },
      "source": [
        "import os"
      ],
      "execution_count": 1,
      "outputs": []
    },
    {
      "cell_type": "code",
      "metadata": {
        "id": "E7xYCRGPjd9B"
      },
      "source": [
        "base_dir = 'medical-concept-normalization'"
      ],
      "execution_count": 2,
      "outputs": []
    },
    {
      "cell_type": "code",
      "metadata": {
        "id": "yvIW3aUDjYNS"
      },
      "source": [
        "os.mkdir(base_dir)"
      ],
      "execution_count": 3,
      "outputs": []
    },
    {
      "cell_type": "code",
      "metadata": {
        "id": "es-FFLlfk6SG"
      },
      "source": [
        "os.mkdir('medical-concept-normalization/data_collection')"
      ],
      "execution_count": 4,
      "outputs": []
    },
    {
      "cell_type": "markdown",
      "metadata": {
        "id": "0R-Guw_VoJXm"
      },
      "source": [
        "**Install fastai and clone the fastai for text classification**\n",
        "\n"
      ]
    },
    {
      "cell_type": "code",
      "metadata": {
        "id": "QVZa3Z0PmHFH",
        "outputId": "36f49c04-3785-4413-9db2-7e9fd36eb4b3",
        "colab": {
          "base_uri": "https://localhost:8080/"
        }
      },
      "source": [
        "!curl https://course-v3.fast.ai/setup/colab | bash"
      ],
      "execution_count": 5,
      "outputs": [
        {
          "output_type": "stream",
          "text": [
            "  % Total    % Received % Xferd  Average Speed   Time    Time     Time  Current\n",
            "                                 Dload  Upload   Total   Spent    Left  Speed\n",
            "\r  0     0    0     0    0     0      0      0 --:--:-- --:--:-- --:--:--     0curl: (6) Could not resolve host: course-v3.fast.ai\n"
          ],
          "name": "stdout"
        }
      ]
    },
    {
      "cell_type": "code",
      "metadata": {
        "id": "_FBFFEBrmJC0",
        "outputId": "63c985e7-e0b4-4dd4-9e5d-5f64805edfb7",
        "colab": {
          "base_uri": "https://localhost:8080/"
        }
      },
      "source": [
        "!git clone https://github.com/wshuyi/demo-nlp-classification-fastai.git"
      ],
      "execution_count": 6,
      "outputs": [
        {
          "output_type": "stream",
          "text": [
            "Cloning into 'demo-nlp-classification-fastai'...\n",
            "remote: Enumerating objects: 9, done.\u001b[K\n",
            "remote: Total 9 (delta 0), reused 0 (delta 0), pack-reused 9\u001b[K\n",
            "Unpacking objects: 100% (9/9), done.\n"
          ],
          "name": "stdout"
        }
      ]
    },
    {
      "cell_type": "code",
      "metadata": {
        "id": "66zfh_JqmWMU"
      },
      "source": [
        "from fastai import *\n",
        "from fastai.text import *"
      ],
      "execution_count": 7,
      "outputs": []
    },
    {
      "cell_type": "markdown",
      "metadata": {
        "id": "mNIw-yALdBU9"
      },
      "source": [
        "**Set the path of the data collections**"
      ]
    },
    {
      "cell_type": "code",
      "metadata": {
        "id": "pzH7VMh4mqCL"
      },
      "source": [
        "path = Path('medical-concept-normalization/data_collection')"
      ],
      "execution_count": 8,
      "outputs": []
    },
    {
      "cell_type": "code",
      "metadata": {
        "id": "b8fjI6yyn4aS"
      },
      "source": [
        "# training data set\n",
        "\n",
        "train_csv = path/'TwADR-L.fold-4.train.csv'\n",
        "train = pd.read_csv(train_csv, header=None)\n",
        "#train.head()\n",
        "#train.info()"
      ],
      "execution_count": 10,
      "outputs": []
    },
    {
      "cell_type": "code",
      "metadata": {
        "id": "Hmlr-bAorfHd",
        "outputId": "5c23f6ee-c136-4a57-ff32-340a538b757f",
        "colab": {
          "base_uri": "https://localhost:8080/",
          "height": 204
        }
      },
      "source": [
        "# validating data set\n",
        "\n",
        "valid = pd.read_csv(path/\"TwADR-L.fold-4.validation.csv\",header=None)\n",
        "valid.head()"
      ],
      "execution_count": 11,
      "outputs": [
        {
          "output_type": "execute_result",
          "data": {
            "text/html": [
              "<div>\n",
              "<style scoped>\n",
              "    .dataframe tbody tr th:only-of-type {\n",
              "        vertical-align: middle;\n",
              "    }\n",
              "\n",
              "    .dataframe tbody tr th {\n",
              "        vertical-align: top;\n",
              "    }\n",
              "\n",
              "    .dataframe thead th {\n",
              "        text-align: right;\n",
              "    }\n",
              "</style>\n",
              "<table border=\"1\" class=\"dataframe\">\n",
              "  <thead>\n",
              "    <tr style=\"text-align: right;\">\n",
              "      <th></th>\n",
              "      <th>0</th>\n",
              "      <th>1</th>\n",
              "    </tr>\n",
              "  </thead>\n",
              "  <tbody>\n",
              "    <tr>\n",
              "      <th>0</th>\n",
              "      <td>61</td>\n",
              "      <td>very stupid</td>\n",
              "    </tr>\n",
              "    <tr>\n",
              "      <th>1</th>\n",
              "      <td>74</td>\n",
              "      <td>useless without</td>\n",
              "    </tr>\n",
              "    <tr>\n",
              "      <th>2</th>\n",
              "      <td>93</td>\n",
              "      <td>shooting</td>\n",
              "    </tr>\n",
              "    <tr>\n",
              "      <th>3</th>\n",
              "      <td>195</td>\n",
              "      <td>makes me so damn bloated</td>\n",
              "    </tr>\n",
              "    <tr>\n",
              "      <th>4</th>\n",
              "      <td>231</td>\n",
              "      <td>gives me man vivid dreams</td>\n",
              "    </tr>\n",
              "  </tbody>\n",
              "</table>\n",
              "</div>"
            ],
            "text/plain": [
              "     0                          1\n",
              "0   61                very stupid\n",
              "1   74            useless without\n",
              "2   93                   shooting\n",
              "3  195   makes me so damn bloated\n",
              "4  231  gives me man vivid dreams"
            ]
          },
          "metadata": {
            "tags": []
          },
          "execution_count": 11
        }
      ]
    },
    {
      "cell_type": "code",
      "metadata": {
        "id": "cOza9dfSsBud",
        "outputId": "8beaf860-f967-4fff-8f1f-cb8075c00b9f",
        "colab": {
          "base_uri": "https://localhost:8080/",
          "height": 204
        }
      },
      "source": [
        "# testing data set\n",
        "\n",
        "test = pd.read_csv(path/\"TwADR-L.fold-4.test.csv\",header=None)\n",
        "test.head()"
      ],
      "execution_count": 12,
      "outputs": [
        {
          "output_type": "execute_result",
          "data": {
            "text/html": [
              "<div>\n",
              "<style scoped>\n",
              "    .dataframe tbody tr th:only-of-type {\n",
              "        vertical-align: middle;\n",
              "    }\n",
              "\n",
              "    .dataframe tbody tr th {\n",
              "        vertical-align: top;\n",
              "    }\n",
              "\n",
              "    .dataframe thead th {\n",
              "        text-align: right;\n",
              "    }\n",
              "</style>\n",
              "<table border=\"1\" class=\"dataframe\">\n",
              "  <thead>\n",
              "    <tr style=\"text-align: right;\">\n",
              "      <th></th>\n",
              "      <th>0</th>\n",
              "      <th>1</th>\n",
              "    </tr>\n",
              "  </thead>\n",
              "  <tbody>\n",
              "    <tr>\n",
              "      <th>0</th>\n",
              "      <td>13</td>\n",
              "      <td>insomnia</td>\n",
              "    </tr>\n",
              "    <tr>\n",
              "      <th>1</th>\n",
              "      <td>13</td>\n",
              "      <td>insomnia</td>\n",
              "    </tr>\n",
              "    <tr>\n",
              "      <th>2</th>\n",
              "      <td>56</td>\n",
              "      <td>painful b..</td>\n",
              "    </tr>\n",
              "    <tr>\n",
              "      <th>3</th>\n",
              "      <td>62</td>\n",
              "      <td>hypomanic</td>\n",
              "    </tr>\n",
              "    <tr>\n",
              "      <th>4</th>\n",
              "      <td>84</td>\n",
              "      <td>paraplegic</td>\n",
              "    </tr>\n",
              "  </tbody>\n",
              "</table>\n",
              "</div>"
            ],
            "text/plain": [
              "    0            1\n",
              "0  13     insomnia\n",
              "1  13     insomnia\n",
              "2  56  painful b..\n",
              "3  62    hypomanic\n",
              "4  84   paraplegic"
            ]
          },
          "metadata": {
            "tags": []
          },
          "execution_count": 12
        }
      ]
    },
    {
      "cell_type": "code",
      "metadata": {
        "id": "Vo-YNvVYoaH6",
        "outputId": "523bcf66-23a7-4ed0-e607-ea202e42fa4e",
        "colab": {
          "base_uri": "https://localhost:8080/",
          "height": 17
        }
      },
      "source": [
        "# Creating DataBunch for language modelling\n",
        "\n",
        "data_lm = TextLMDataBunch.from_csv(path, 'TwADR-cadec.csv')"
      ],
      "execution_count": 13,
      "outputs": [
        {
          "output_type": "display_data",
          "data": {
            "text/html": [
              ""
            ],
            "text/plain": [
              "<IPython.core.display.HTML object>"
            ]
          },
          "metadata": {
            "tags": []
          }
        },
        {
          "output_type": "display_data",
          "data": {
            "text/html": [
              ""
            ],
            "text/plain": [
              "<IPython.core.display.HTML object>"
            ]
          },
          "metadata": {
            "tags": []
          }
        }
      ]
    },
    {
      "cell_type": "code",
      "metadata": {
        "id": "qcV-9kMnNLBf"
      },
      "source": [
        ""
      ],
      "execution_count": 13,
      "outputs": []
    },
    {
      "cell_type": "code",
      "metadata": {
        "id": "1ScY9afDsnvE"
      },
      "source": [
        "# Creating DataBunch for classification\n",
        "\n",
        "# data_clas = TextClasDataBunch.from_df(path, train, valid, test, vocab=data_lm.train_ds.vocab, bs=128)"
      ],
      "execution_count": 14,
      "outputs": []
    },
    {
      "cell_type": "code",
      "metadata": {
        "id": "gzrSdQcvey9p",
        "outputId": "5464cf4f-10c5-4c0c-c3e2-38a315a5bb2b",
        "colab": {
          "base_uri": "https://localhost:8080/",
          "height": 17
        }
      },
      "source": [
        "data_clas = TextClasDataBunch.from_df(path, train, valid, vocab=data_lm.train_ds.vocab, bs=128)"
      ],
      "execution_count": 15,
      "outputs": [
        {
          "output_type": "display_data",
          "data": {
            "text/html": [
              ""
            ],
            "text/plain": [
              "<IPython.core.display.HTML object>"
            ]
          },
          "metadata": {
            "tags": []
          }
        },
        {
          "output_type": "display_data",
          "data": {
            "text/html": [
              ""
            ],
            "text/plain": [
              "<IPython.core.display.HTML object>"
            ]
          },
          "metadata": {
            "tags": []
          }
        }
      ]
    },
    {
      "cell_type": "code",
      "metadata": {
        "id": "MD27Tf0Ke3ou",
        "outputId": "71604fc8-1a84-461e-c742-691556fda27f",
        "colab": {
          "base_uri": "https://localhost:8080/",
          "height": 17
        }
      },
      "source": [
        "data_clas.add_test(test,label=0)\n"
      ],
      "execution_count": 16,
      "outputs": [
        {
          "output_type": "display_data",
          "data": {
            "text/html": [
              ""
            ],
            "text/plain": [
              "<IPython.core.display.HTML object>"
            ]
          },
          "metadata": {
            "tags": []
          }
        }
      ]
    },
    {
      "cell_type": "code",
      "metadata": {
        "id": "-dpjnk_rstwk"
      },
      "source": [
        "data_lm.save()\n",
        "data_clas.save()"
      ],
      "execution_count": 17,
      "outputs": []
    },
    {
      "cell_type": "code",
      "metadata": {
        "id": "4OkiJa36sw5s",
        "outputId": "2a09fb44-a299-4691-b551-774bd1518929",
        "colab": {
          "base_uri": "https://localhost:8080/"
        }
      },
      "source": [
        "data_lm.train_ds.vocab.itos"
      ],
      "execution_count": 18,
      "outputs": [
        {
          "output_type": "execute_result",
          "data": {
            "text/plain": [
              "['xxunk',\n",
              " 'xxpad',\n",
              " 'xxbos',\n",
              " 'xxeos',\n",
              " 'xxfld',\n",
              " 'xxmaj',\n",
              " 'xxup',\n",
              " 'xxrep',\n",
              " 'xxwrep',\n",
              " '.',\n",
              " ',',\n",
              " 'i',\n",
              " 'the',\n",
              " 'and',\n",
              " 'to',\n",
              " 'my',\n",
              " 'pain',\n",
              " 'of',\n",
              " 'in',\n",
              " 'a',\n",
              " 'it',\n",
              " 'me',\n",
              " 'mood',\n",
              " 'increased',\n",
              " 'for',\n",
              " 'have',\n",
              " '-',\n",
              " 'was',\n",
              " 'drug',\n",
              " ')',\n",
              " 'lipitor',\n",
              " '(',\n",
              " 'this',\n",
              " 'on',\n",
              " 'disorder',\n",
              " 'abnormal',\n",
              " 'not',\n",
              " 'had',\n",
              " 'withdrawal',\n",
              " 'that',\n",
              " 'symptoms',\n",
              " 'anxiety',\n",
              " 'is',\n",
              " 'with',\n",
              " 'muscle',\n",
              " 'weight',\n",
              " 'like',\n",
              " 'but',\n",
              " 'decreased',\n",
              " 'feeling',\n",
              " \"n't\",\n",
              " 'taking',\n",
              " 'disorders',\n",
              " 'sleeplessness',\n",
              " 'up',\n",
              " 'after',\n",
              " 'syndrome',\n",
              " 'behavior',\n",
              " 'sleep',\n",
              " 'blood',\n",
              " 'so',\n",
              " 'diseases',\n",
              " 'insomnia',\n",
              " 'got',\n",
              " 'am',\n",
              " 'feel',\n",
              " 'all',\n",
              " 'side',\n",
              " 'energy',\n",
              " 'depression',\n",
              " 'somnolence',\n",
              " 'finding',\n",
              " 'from',\n",
              " 'disturbance',\n",
              " 'effects',\n",
              " '!',\n",
              " 'back',\n",
              " 'loss',\n",
              " 'be',\n",
              " 'been',\n",
              " 'mental',\n",
              " 'day',\n",
              " 'heart',\n",
              " 'as',\n",
              " 'skin',\n",
              " 'cholesterol',\n",
              " 'body',\n",
              " 'gain',\n",
              " 'take',\n",
              " 'appetite',\n",
              " 'acute',\n",
              " 'no',\n",
              " '/',\n",
              " 'nausea',\n",
              " 'at',\n",
              " 'now',\n",
              " 'off',\n",
              " 'do',\n",
              " 'has',\n",
              " 'fatigue',\n",
              " 'about',\n",
              " 'mg',\n",
              " 'years',\n",
              " 'dizziness',\n",
              " 'out',\n",
              " 'or',\n",
              " 'very',\n",
              " 'irritable',\n",
              " 'will',\n",
              " 'awake',\n",
              " 'hyperactive',\n",
              " 'state',\n",
              " 'feelings',\n",
              " 'excitability',\n",
              " 'are',\n",
              " 'drowsiness',\n",
              " 'attention',\n",
              " 'did',\n",
              " 'ceiling',\n",
              " 'joint',\n",
              " 'days',\n",
              " 'you',\n",
              " 'panic',\n",
              " 'months',\n",
              " 'doctor',\n",
              " 'still',\n",
              " 'time',\n",
              " 'if',\n",
              " 'liver',\n",
              " \"'m\",\n",
              " 'rash',\n",
              " 'swelling',\n",
              " 'depressed',\n",
              " 'severe',\n",
              " 'stomach',\n",
              " 'stopped',\n",
              " '2',\n",
              " 'swings',\n",
              " 'could',\n",
              " 'when',\n",
              " 'site',\n",
              " 'started',\n",
              " 'cramps',\n",
              " 'wakefulness',\n",
              " 'problems',\n",
              " 'headache',\n",
              " 'would',\n",
              " 'get',\n",
              " 'disease',\n",
              " 'bipolar',\n",
              " 'night',\n",
              " 'down',\n",
              " '#',\n",
              " 'also',\n",
              " 'allergic',\n",
              " '3',\n",
              " 'infection',\n",
              " 'memory',\n",
              " 'just',\n",
              " 'abdominal',\n",
              " 'reaction',\n",
              " 'weeks',\n",
              " '10',\n",
              " 'lower',\n",
              " 'an',\n",
              " 'can',\n",
              " 'dreams',\n",
              " \"'s\",\n",
              " 'more',\n",
              " 'took',\n",
              " 'any',\n",
              " 'bad',\n",
              " 'over',\n",
              " 'tired',\n",
              " 'attack',\n",
              " 'leg',\n",
              " 'by',\n",
              " 'breast',\n",
              " 'respiratory',\n",
              " 'high',\n",
              " 'other',\n",
              " 'he',\n",
              " 'some',\n",
              " 'eye',\n",
              " 'legs',\n",
              " 'went',\n",
              " 'only',\n",
              " 'brain',\n",
              " 'ca',\n",
              " 'one',\n",
              " 'then',\n",
              " 'tremor',\n",
              " 'again',\n",
              " 'level',\n",
              " 'stiffness',\n",
              " 'numbness',\n",
              " 'dry',\n",
              " 'hemorrhage',\n",
              " 'week',\n",
              " 'injury',\n",
              " 'go',\n",
              " 'attacks',\n",
              " 'they',\n",
              " 'rage',\n",
              " 'never',\n",
              " 'your',\n",
              " 'foot',\n",
              " 'makes',\n",
              " 'sleepy',\n",
              " 'ago',\n",
              " 'vision',\n",
              " 'deficit',\n",
              " 'shoulder',\n",
              " 'psychotic',\n",
              " 'difficulty',\n",
              " 'arthritis',\n",
              " 'chest',\n",
              " 'feet',\n",
              " '6',\n",
              " '&',\n",
              " 'pressure',\n",
              " 'before',\n",
              " 'better',\n",
              " 'bone',\n",
              " 'medication',\n",
              " 'infections',\n",
              " 'which',\n",
              " '5',\n",
              " 'discomfort',\n",
              " 'much',\n",
              " 'carcinoma',\n",
              " 'failure',\n",
              " 'two',\n",
              " 'neck',\n",
              " 'low',\n",
              " 'initial',\n",
              " 'these',\n",
              " 'asleep',\n",
              " 'even',\n",
              " 'felt',\n",
              " 'sweating',\n",
              " 'life',\n",
              " 'edema',\n",
              " 'gastrointestinal',\n",
              " 'because',\n",
              " \"'ve\",\n",
              " 'cardiac',\n",
              " 'weakness',\n",
              " 'same',\n",
              " 'what',\n",
              " 'than',\n",
              " 'zombie',\n",
              " 'first',\n",
              " 'sensation',\n",
              " 'pulmonary',\n",
              " 'daytime',\n",
              " '4',\n",
              " 'walk',\n",
              " 'going',\n",
              " 'ulcer',\n",
              " 'hurt',\n",
              " 'chronic',\n",
              " 'being',\n",
              " 'were',\n",
              " 'left',\n",
              " 'stop',\n",
              " 'kidney',\n",
              " 'since',\n",
              " 'change',\n",
              " 'function',\n",
              " 'aggravated',\n",
              " 'away',\n",
              " 'taste',\n",
              " 'hallucinations',\n",
              " 'middle',\n",
              " 'facial',\n",
              " 'damage',\n",
              " 'test',\n",
              " 'pains',\n",
              " 'knee',\n",
              " 'cell',\n",
              " 'exhaustion',\n",
              " 'last',\n",
              " '1',\n",
              " 'work',\n",
              " 'elevated',\n",
              " 'dependence',\n",
              " 'right',\n",
              " 'need',\n",
              " 'statins',\n",
              " 'vomiting',\n",
              " 'muscles',\n",
              " 'worse',\n",
              " 'death',\n",
              " 'anger',\n",
              " 'dermatitis',\n",
              " 'extreme',\n",
              " 'bleeding',\n",
              " 'sleepiness',\n",
              " 'localised',\n",
              " 'effect',\n",
              " 'distress',\n",
              " 'headaches',\n",
              " 'good',\n",
              " 'depressive',\n",
              " 'taken',\n",
              " 'tingling',\n",
              " 'nightmares',\n",
              " 'dose',\n",
              " 'dizzy',\n",
              " '20',\n",
              " 'cerebral',\n",
              " 'well',\n",
              " 'anemia',\n",
              " 'experienced',\n",
              " '?',\n",
              " 'suicidal',\n",
              " 'ache',\n",
              " 'dysfunction',\n",
              " 'there',\n",
              " 'concentration',\n",
              " 'know',\n",
              " 'statin',\n",
              " 'told',\n",
              " 'system',\n",
              " 'wide',\n",
              " 'dr',\n",
              " ';',\n",
              " 'conditions',\n",
              " 'disturbances',\n",
              " 'urine',\n",
              " 'face',\n",
              " 'terrible',\n",
              " 'thought',\n",
              " 'migraine',\n",
              " 'having',\n",
              " 'hands',\n",
              " 'getting',\n",
              " 'spasm',\n",
              " 'should',\n",
              " 'drugs',\n",
              " 'serum',\n",
              " 'seizures',\n",
              " 'who',\n",
              " 'make',\n",
              " 'painful',\n",
              " 'vivid',\n",
              " 'arrest',\n",
              " 'too',\n",
              " 'lack',\n",
              " 'eating',\n",
              " 'social',\n",
              " 'walking',\n",
              " 'within',\n",
              " 'see',\n",
              " 'thinking',\n",
              " 'few',\n",
              " 'normal',\n",
              " 'think',\n",
              " 'depersonalization',\n",
              " 'uterine',\n",
              " 'every',\n",
              " 'compulsive',\n",
              " 'hypertension',\n",
              " 'year',\n",
              " 'cancer',\n",
              " 'hours',\n",
              " 'bite',\n",
              " 'due',\n",
              " 'does',\n",
              " 'pruritus',\n",
              " 'hip',\n",
              " 'oedema',\n",
              " 'fear',\n",
              " 'arm',\n",
              " 'month',\n",
              " 'until',\n",
              " 'vaginal',\n",
              " 'hunger',\n",
              " 'emotional',\n",
              " 'alcohol',\n",
              " 'nauseous',\n",
              " 'irritation',\n",
              " 'count',\n",
              " 'diarrhea',\n",
              " 'crazy',\n",
              " 'without',\n",
              " 'many',\n",
              " 'almost',\n",
              " 'neoplasm',\n",
              " 'cause',\n",
              " 'corneal',\n",
              " 'problem',\n",
              " 'really',\n",
              " 'cold',\n",
              " 'reduced',\n",
              " 'eyes',\n",
              " 'oral',\n",
              " 'necrosis',\n",
              " 'adderall',\n",
              " 'said',\n",
              " 'people',\n",
              " 'swollen',\n",
              " 'another',\n",
              " 'aches',\n",
              " 'ldl',\n",
              " 'both',\n",
              " 'upper',\n",
              " '7',\n",
              " 'put',\n",
              " 'tongue',\n",
              " '40',\n",
              " 'localized',\n",
              " 'gas',\n",
              " 'personality',\n",
              " 'sore',\n",
              " 'lightheadedness',\n",
              " 'way',\n",
              " 'neuropathy',\n",
              " 'impairment',\n",
              " 'asthma',\n",
              " 'arms',\n",
              " '8',\n",
              " 'decrease',\n",
              " 'candidiasis',\n",
              " 'little',\n",
              " 'long',\n",
              " 'gone',\n",
              " 'ventricular',\n",
              " 'sexual',\n",
              " 'drowsy',\n",
              " 'electrocardiogram',\n",
              " 'tract',\n",
              " 'female',\n",
              " 'peripheral',\n",
              " 'nervous',\n",
              " 'euphoric',\n",
              " 'try',\n",
              " 'abuse',\n",
              " 'injuries',\n",
              " 'lost',\n",
              " 'obsessive',\n",
              " 'malignant',\n",
              " 'total',\n",
              " 'sneezing',\n",
              " 'cramping',\n",
              " 'paranoid',\n",
              " 'lung',\n",
              " 'found',\n",
              " 'consciousness',\n",
              " 'urticaria',\n",
              " 'nasal',\n",
              " 'genital',\n",
              " 'hungry',\n",
              " 'erythema',\n",
              " 'diabetic',\n",
              " 'diet',\n",
              " ':',\n",
              " 'vertigo',\n",
              " 'nerve',\n",
              " 'falling',\n",
              " 'injection',\n",
              " 'pneumonia',\n",
              " 'speech',\n",
              " 'hepatic',\n",
              " 'knees',\n",
              " 'sudden',\n",
              " 'bed',\n",
              " 'mouth',\n",
              " 'libido',\n",
              " 'myself',\n",
              " 'tooth',\n",
              " 'sleeping',\n",
              " 'term',\n",
              " 'anything',\n",
              " 'intoxication',\n",
              " 'head',\n",
              " 'glucose',\n",
              " 'great',\n",
              " 'weird',\n",
              " 'spasms',\n",
              " 'throat',\n",
              " 'stress',\n",
              " 'overdose',\n",
              " 'breathing',\n",
              " 'arthropod',\n",
              " 'bulimia',\n",
              " 'doctors',\n",
              " 'gastric',\n",
              " 'she',\n",
              " 'something',\n",
              " 'several',\n",
              " 'times',\n",
              " 'block',\n",
              " 'episode',\n",
              " 'withdrawals',\n",
              " 'noticed',\n",
              " 'ear',\n",
              " 'non',\n",
              " 'general',\n",
              " 'find',\n",
              " 'colitis',\n",
              " 'neoplasms',\n",
              " 'palpitations',\n",
              " 'lose',\n",
              " 'diabetes',\n",
              " 'levels',\n",
              " 'short',\n",
              " 'tests',\n",
              " 'generalized',\n",
              " 'intense',\n",
              " 'want',\n",
              " 'sweat',\n",
              " 'developed',\n",
              " 'most',\n",
              " 'prescribed',\n",
              " 'fracture',\n",
              " 'next',\n",
              " 'allergy',\n",
              " 'sick',\n",
              " 'their',\n",
              " 'ever',\n",
              " 'joints',\n",
              " 'hard',\n",
              " 'thirst',\n",
              " 'making',\n",
              " 'help',\n",
              " 'lbs',\n",
              " 'inflammation',\n",
              " 'stopping',\n",
              " 'morning',\n",
              " 'while',\n",
              " 'reading',\n",
              " 'daily',\n",
              " 'excessive',\n",
              " 'renal',\n",
              " 'itching',\n",
              " 'minutes',\n",
              " 'craving',\n",
              " 'erection',\n",
              " 'mind',\n",
              " 'tissue',\n",
              " 'always',\n",
              " 'atrophy',\n",
              " 'pill',\n",
              " 'may',\n",
              " 'unable',\n",
              " 'thoughts',\n",
              " 'bloating',\n",
              " 'exercise',\n",
              " 'visual',\n",
              " 'how',\n",
              " 'however',\n",
              " 'eat',\n",
              " 'ejaculation',\n",
              " 'shoulders',\n",
              " 'hair',\n",
              " 'lot',\n",
              " 'losing',\n",
              " 'unconscious',\n",
              " 'sedated',\n",
              " 'lowered',\n",
              " 'came',\n",
              " 'symptom',\n",
              " 'muscular',\n",
              " 'ankle',\n",
              " 'movements',\n",
              " 'insufficiency',\n",
              " 'burning',\n",
              " 'fever',\n",
              " 'different',\n",
              " 'sure',\n",
              " 'metastatic',\n",
              " 'weak',\n",
              " 'despair',\n",
              " 'potassium',\n",
              " 'suicide',\n",
              " 'obstruction',\n",
              " 'old',\n",
              " 'red',\n",
              " 'into',\n",
              " 'sinus',\n",
              " 'blurred',\n",
              " 'hepatitis',\n",
              " 'completely',\n",
              " 'tachycardia',\n",
              " '%',\n",
              " 'caused',\n",
              " 'bladder',\n",
              " 'them',\n",
              " 'confusion',\n",
              " 'bacterial',\n",
              " 'use',\n",
              " 'his',\n",
              " 'experiencing',\n",
              " 'psychosis',\n",
              " 'hypomania',\n",
              " 'application',\n",
              " 'prolonged',\n",
              " 'its',\n",
              " 'later',\n",
              " 'partial',\n",
              " '30',\n",
              " 'angry',\n",
              " 'vasculitis',\n",
              " 'made',\n",
              " 'began',\n",
              " 'half',\n",
              " 'traumatic',\n",
              " 'fractures',\n",
              " 'food',\n",
              " 'numb',\n",
              " 'impaired',\n",
              " 'cutaneous',\n",
              " 'tolerance',\n",
              " 'haemorrhage',\n",
              " 'binge',\n",
              " 'hurting',\n",
              " 'past',\n",
              " 'gained',\n",
              " 'recommend',\n",
              " 'result',\n",
              " 'awful',\n",
              " 'hyper',\n",
              " 'hand',\n",
              " 'three',\n",
              " 'limb',\n",
              " 'atrial',\n",
              " 'trying',\n",
              " 'tried',\n",
              " 'acid',\n",
              " 'paranoia',\n",
              " 'person',\n",
              " 'lupus',\n",
              " 'early',\n",
              " 'limbs',\n",
              " 'nt',\n",
              " 'stuff',\n",
              " 'arrhythmia',\n",
              " 'musculoskeletal',\n",
              " 'whole',\n",
              " 'shaking',\n",
              " 'around',\n",
              " 'doing',\n",
              " 'her',\n",
              " 'we',\n",
              " 'drunk',\n",
              " 'cough',\n",
              " 'arthrotec',\n",
              " 'tenderness',\n",
              " 'medicine',\n",
              " 'once',\n",
              " 'syncope',\n",
              " 'migraines',\n",
              " 'things',\n",
              " 'stay',\n",
              " 'hot',\n",
              " 'rhinitis',\n",
              " 'adenocarcinoma',\n",
              " 'rheumatoid',\n",
              " 'interest',\n",
              " 'changes',\n",
              " 'twitch',\n",
              " 'fall',\n",
              " 'immediately',\n",
              " 'fluid',\n",
              " 'results',\n",
              " 'come',\n",
              " 'infarction',\n",
              " 'abnormality',\n",
              " 'believe',\n",
              " 'causing',\n",
              " 'quit',\n",
              " 'family',\n",
              " 'hour',\n",
              " 'perforation',\n",
              " 'urinary',\n",
              " 'read',\n",
              " 'purpura',\n",
              " 'bronchitis',\n",
              " 'worth',\n",
              " 'toe',\n",
              " 'balance',\n",
              " 'less',\n",
              " 'esophageal',\n",
              " 'acidosis',\n",
              " 'quality',\n",
              " 'interactions',\n",
              " 'especially',\n",
              " 'nothing',\n",
              " 'altered',\n",
              " 'upset',\n",
              " 'gland',\n",
              " 'mild',\n",
              " '100',\n",
              " 'finally',\n",
              " 'super',\n",
              " 'tendency',\n",
              " 'recently',\n",
              " 'labored',\n",
              " 'focusing',\n",
              " 'unspecified',\n",
              " 'motor',\n",
              " 'male',\n",
              " 'arousal',\n",
              " 'say',\n",
              " 'manic',\n",
              " 'bowel',\n",
              " 'yet',\n",
              " 'prozac',\n",
              " 'done',\n",
              " 'rather',\n",
              " 'creatinine',\n",
              " 'meds',\n",
              " 'seems',\n",
              " 'hurts',\n",
              " 'cyst',\n",
              " 'substance',\n",
              " 'atrioventricular',\n",
              " 'zocor',\n",
              " 'mad',\n",
              " 'indifferent',\n",
              " 'acne',\n",
              " 'through',\n",
              " 'hyperactivity',\n",
              " 'thyroid',\n",
              " 'terrors',\n",
              " 'permanent',\n",
              " 'wo',\n",
              " 'anxious',\n",
              " 'keep',\n",
              " 'premature',\n",
              " 'starting',\n",
              " 'able',\n",
              " 'major',\n",
              " 'relief',\n",
              " 'though',\n",
              " 'constant',\n",
              " 'anyone',\n",
              " 'exhausted',\n",
              " 'myocardial',\n",
              " 'viral',\n",
              " 'abdomen',\n",
              " 'temperature',\n",
              " 'positive',\n",
              " 'lowering',\n",
              " 'action',\n",
              " 'type',\n",
              " 'enzyme',\n",
              " 'experience',\n",
              " 'density',\n",
              " 'using',\n",
              " 'fucked',\n",
              " 'conjunctivitis',\n",
              " 'hdl',\n",
              " 'metabolic',\n",
              " 'natural',\n",
              " 'involuntary',\n",
              " 'everything',\n",
              " 'thing',\n",
              " 'deficiency',\n",
              " 'ratio',\n",
              " 'else',\n",
              " 'nail',\n",
              " 'him',\n",
              " 'artery',\n",
              " 'immune',\n",
              " 'post',\n",
              " 'probably',\n",
              " 'horrible',\n",
              " 'tightness',\n",
              " 'otitis',\n",
              " 'self',\n",
              " 'accidental',\n",
              " 'triglycerides',\n",
              " 'syndromes',\n",
              " 'worst',\n",
              " 'adrenal',\n",
              " 'alkalosis',\n",
              " 'influenza',\n",
              " 'similar',\n",
              " 'where',\n",
              " '--',\n",
              " 'heartburn',\n",
              " 'calf',\n",
              " 'prostate',\n",
              " 'bullous',\n",
              " 'helped',\n",
              " 'thinness',\n",
              " 'why',\n",
              " 'possible',\n",
              " \"'\",\n",
              " 'erectile',\n",
              " '50',\n",
              " 'entire',\n",
              " 'slept',\n",
              " 'empty',\n",
              " 'improvement',\n",
              " 'pounding',\n",
              " 'herpes',\n",
              " 'etc',\n",
              " 'bites',\n",
              " 'doc',\n",
              " 'retention',\n",
              " 'increase',\n",
              " 'toxicity',\n",
              " 'thrombosis',\n",
              " 'hope',\n",
              " 'macular',\n",
              " 'secondary',\n",
              " 'bruxism',\n",
              " 'coronary',\n",
              " 'groggy',\n",
              " 'cystitis',\n",
              " 'those',\n",
              " 'epilepsy',\n",
              " 'related',\n",
              " 'wake',\n",
              " 'atrophic',\n",
              " 'discoloration',\n",
              " 'works',\n",
              " 'extremely',\n",
              " 'physical',\n",
              " 'lesion',\n",
              " 'none',\n",
              " 'pm',\n",
              " 'active',\n",
              " 'per',\n",
              " 'local',\n",
              " 'mellitus',\n",
              " 'antisocial',\n",
              " 'distracted',\n",
              " 'affect',\n",
              " 'far',\n",
              " 'ulcerative',\n",
              " 'steroid',\n",
              " 'blindness',\n",
              " 'anorexia',\n",
              " 'website',\n",
              " 'own',\n",
              " 'hips',\n",
              " 'add',\n",
              " 'eczema',\n",
              " 'constipation',\n",
              " 'hyperplasia',\n",
              " 'trouble',\n",
              " 'feels',\n",
              " 'paralysed',\n",
              " 'enough',\n",
              " 'fibrillation',\n",
              " 'poor',\n",
              " 'water',\n",
              " 'abscess',\n",
              " 'elbow',\n",
              " 'twice',\n",
              " 'reflux',\n",
              " 'hypertrophy',\n",
              " 'obstructive',\n",
              " 'today',\n",
              " 'fingers',\n",
              " 'eruptions',\n",
              " 'embolism',\n",
              " 'neuralgia',\n",
              " 'ocular',\n",
              " 'associated',\n",
              " 'delayed',\n",
              " 'gait',\n",
              " 'such',\n",
              " 'zaps',\n",
              " 'issues',\n",
              " 'control',\n",
              " 'eyelid',\n",
              " 'ischemia',\n",
              " 'tiredness',\n",
              " 'worked',\n",
              " 'hearing',\n",
              " 'trippin',\n",
              " 'hangover',\n",
              " 'negative',\n",
              " 'deafness',\n",
              " 'retinal',\n",
              " 'wrist',\n",
              " 'job',\n",
              " 'erythematosus',\n",
              " 'continue',\n",
              " 'bilirubin',\n",
              " 'intolerance',\n",
              " 'look',\n",
              " 'ankles',\n",
              " 'hypersomnia',\n",
              " 'iron',\n",
              " 'miss',\n",
              " 'sinusitis',\n",
              " 'break',\n",
              " 'rupture',\n",
              " 'behaviour',\n",
              " 'sickness',\n",
              " 'decided',\n",
              " 'generalised',\n",
              " 'shock',\n",
              " 'stairs',\n",
              " 'tendon',\n",
              " 'serious',\n",
              " 'rectal',\n",
              " 'age',\n",
              " 'leukemia',\n",
              " 'disorientation',\n",
              " 'others',\n",
              " 'second',\n",
              " 'psychiatric',\n",
              " 'period',\n",
              " 'keeping',\n",
              " 'white',\n",
              " 'diagnosed',\n",
              " \"'ll\",\n",
              " 'prothrombin',\n",
              " 'new',\n",
              " 'hit',\n",
              " 'changed',\n",
              " 'burn',\n",
              " '80',\n",
              " 'became',\n",
              " 'contact',\n",
              " 'mass',\n",
              " 'porphyria',\n",
              " 'fucking',\n",
              " 'arteritis',\n",
              " 'toxic',\n",
              " 'vascular',\n",
              " 'itchy',\n",
              " '\"',\n",
              " 'each',\n",
              " 'abnormalities',\n",
              " 'toes',\n",
              " 'vulvovaginal',\n",
              " 'monster',\n",
              " 'extremities',\n",
              " 'during',\n",
              " 'tuberculosis',\n",
              " 'ovarian',\n",
              " 'illness',\n",
              " 'central',\n",
              " 'sad',\n",
              " 'flu',\n",
              " 'flare',\n",
              " 'knock',\n",
              " 'surgery',\n",
              " 'intestinal',\n",
              " 'psychological',\n",
              " 'fine',\n",
              " 'eaten',\n",
              " 'might',\n",
              " 'pancreatitis',\n",
              " 'dropped',\n",
              " 'used',\n",
              " 'soreness',\n",
              " 'health',\n",
              " 'tension',\n",
              " 'odour',\n",
              " 'restlessness',\n",
              " 'calcium',\n",
              " 'conjunctival',\n",
              " 'diastolic',\n",
              " 'dosage',\n",
              " 'gout',\n",
              " 'reason',\n",
              " 'pills',\n",
              " 'menstruation',\n",
              " 'thrombocytopenic',\n",
              " 'angina',\n",
              " 'dermatologic',\n",
              " 'messed',\n",
              " 'sensory',\n",
              " 'arterial',\n",
              " 'myopathy',\n",
              " 'creatine',\n",
              " 'epidermal',\n",
              " 'eruption',\n",
              " 'hospital',\n",
              " 'calves',\n",
              " 'point',\n",
              " 'congenital',\n",
              " 'erosion',\n",
              " 'puking',\n",
              " 'vaginitis',\n",
              " 'healthy',\n",
              " 'live',\n",
              " 'stupid',\n",
              " 'shut',\n",
              " 'highly',\n",
              " 'paresis',\n",
              " 'become',\n",
              " 'big',\n",
              " 'prolactin',\n",
              " 'cataract',\n",
              " 'cortisone',\n",
              " 'mean',\n",
              " 'fell',\n",
              " 'rate',\n",
              " 'forgetfulness',\n",
              " ...]"
            ]
          },
          "metadata": {
            "tags": []
          },
          "execution_count": 18
        }
      ]
    },
    {
      "cell_type": "code",
      "metadata": {
        "id": "yPWr03mls3VT",
        "outputId": "17a7963c-3698-4f7d-9ead-e5b2a3d993c0",
        "colab": {
          "base_uri": "https://localhost:8080/",
          "height": 17
        }
      },
      "source": [
        "model_path = path/'models'\n",
        "model_path.mkdir(exist_ok=True)\n",
        "url = 'http://files.fast.ai/models/wt103_v1/'\n",
        "download_url(f'{url}lstm_wt103.pth', model_path/'lstm_wt103.pth')\n",
        "download_url(f'{url}itos_wt103.pkl', model_path/'itos_wt103.pkl')"
      ],
      "execution_count": 19,
      "outputs": [
        {
          "output_type": "display_data",
          "data": {
            "text/html": [
              ""
            ],
            "text/plain": [
              "<IPython.core.display.HTML object>"
            ]
          },
          "metadata": {
            "tags": []
          }
        },
        {
          "output_type": "display_data",
          "data": {
            "text/html": [
              ""
            ],
            "text/plain": [
              "<IPython.core.display.HTML object>"
            ]
          },
          "metadata": {
            "tags": []
          }
        }
      ]
    },
    {
      "cell_type": "code",
      "metadata": {
        "id": "JRzvWg8RtGGr",
        "outputId": "5dc189a3-e927-451d-e3e7-c249ad0f84c8",
        "colab": {
          "base_uri": "https://localhost:8080/",
          "height": 34
        }
      },
      "source": [
        "learn = language_model_learner(data_lm, AWD_LSTM, drop_mult=0.5)"
      ],
      "execution_count": 20,
      "outputs": [
        {
          "output_type": "stream",
          "text": [
            "Downloading https://s3.amazonaws.com/fast-ai-modelzoo/wt103-fwd.tgz\n"
          ],
          "name": "stdout"
        },
        {
          "output_type": "display_data",
          "data": {
            "text/html": [
              ""
            ],
            "text/plain": [
              "<IPython.core.display.HTML object>"
            ]
          },
          "metadata": {
            "tags": []
          }
        }
      ]
    },
    {
      "cell_type": "code",
      "metadata": {
        "id": "xKK7GeBev7Xn",
        "outputId": "cb18df03-1d61-4b5f-e9ae-dfd17ffaad2d",
        "colab": {
          "base_uri": "https://localhost:8080/",
          "height": 80
        }
      },
      "source": [
        "learn.fit_one_cycle(1, 1e-2)"
      ],
      "execution_count": 21,
      "outputs": [
        {
          "output_type": "display_data",
          "data": {
            "text/html": [
              "<table border=\"1\" class=\"dataframe\">\n",
              "  <thead>\n",
              "    <tr style=\"text-align: left;\">\n",
              "      <th>epoch</th>\n",
              "      <th>train_loss</th>\n",
              "      <th>valid_loss</th>\n",
              "      <th>accuracy</th>\n",
              "      <th>time</th>\n",
              "    </tr>\n",
              "  </thead>\n",
              "  <tbody>\n",
              "    <tr>\n",
              "      <td>0</td>\n",
              "      <td>4.306536</td>\n",
              "      <td>3.457965</td>\n",
              "      <td>0.431822</td>\n",
              "      <td>09:05</td>\n",
              "    </tr>\n",
              "  </tbody>\n",
              "</table>"
            ],
            "text/plain": [
              "<IPython.core.display.HTML object>"
            ]
          },
          "metadata": {
            "tags": []
          }
        }
      ]
    },
    {
      "cell_type": "code",
      "metadata": {
        "id": "iB7rHGQCwd12",
        "outputId": "b4b14d7d-6582-45f4-f81c-0c4d18e5d8a1",
        "colab": {
          "base_uri": "https://localhost:8080/",
          "height": 80
        }
      },
      "source": [
        "learn.fit_one_cycle(1, 1e-2)"
      ],
      "execution_count": 22,
      "outputs": [
        {
          "output_type": "display_data",
          "data": {
            "text/html": [
              "<table border=\"1\" class=\"dataframe\">\n",
              "  <thead>\n",
              "    <tr style=\"text-align: left;\">\n",
              "      <th>epoch</th>\n",
              "      <th>train_loss</th>\n",
              "      <th>valid_loss</th>\n",
              "      <th>accuracy</th>\n",
              "      <th>time</th>\n",
              "    </tr>\n",
              "  </thead>\n",
              "  <tbody>\n",
              "    <tr>\n",
              "      <td>0</td>\n",
              "      <td>3.267616</td>\n",
              "      <td>3.026124</td>\n",
              "      <td>0.489174</td>\n",
              "      <td>08:55</td>\n",
              "    </tr>\n",
              "  </tbody>\n",
              "</table>"
            ],
            "text/plain": [
              "<IPython.core.display.HTML object>"
            ]
          },
          "metadata": {
            "tags": []
          }
        }
      ]
    },
    {
      "cell_type": "code",
      "metadata": {
        "id": "_BnSuAeCwkBe",
        "outputId": "3a3b8256-3df0-4d30-8631-c2f007e16586",
        "colab": {
          "base_uri": "https://localhost:8080/",
          "height": 80
        }
      },
      "source": [
        "learn.fit_one_cycle(1, 1e-3)"
      ],
      "execution_count": 23,
      "outputs": [
        {
          "output_type": "display_data",
          "data": {
            "text/html": [
              "<table border=\"1\" class=\"dataframe\">\n",
              "  <thead>\n",
              "    <tr style=\"text-align: left;\">\n",
              "      <th>epoch</th>\n",
              "      <th>train_loss</th>\n",
              "      <th>valid_loss</th>\n",
              "      <th>accuracy</th>\n",
              "      <th>time</th>\n",
              "    </tr>\n",
              "  </thead>\n",
              "  <tbody>\n",
              "    <tr>\n",
              "      <td>0</td>\n",
              "      <td>3.059953</td>\n",
              "      <td>2.990225</td>\n",
              "      <td>0.493471</td>\n",
              "      <td>09:01</td>\n",
              "    </tr>\n",
              "  </tbody>\n",
              "</table>"
            ],
            "text/plain": [
              "<IPython.core.display.HTML object>"
            ]
          },
          "metadata": {
            "tags": []
          }
        }
      ]
    },
    {
      "cell_type": "code",
      "metadata": {
        "id": "MuTm-RFjwrEX",
        "outputId": "eba4c1d6-884b-40bd-9968-29dea0a5970b",
        "colab": {
          "base_uri": "https://localhost:8080/",
          "height": 80
        }
      },
      "source": [
        "learn.fit_one_cycle(1, 1e-3)"
      ],
      "execution_count": 24,
      "outputs": [
        {
          "output_type": "display_data",
          "data": {
            "text/html": [
              "<table border=\"1\" class=\"dataframe\">\n",
              "  <thead>\n",
              "    <tr style=\"text-align: left;\">\n",
              "      <th>epoch</th>\n",
              "      <th>train_loss</th>\n",
              "      <th>valid_loss</th>\n",
              "      <th>accuracy</th>\n",
              "      <th>time</th>\n",
              "    </tr>\n",
              "  </thead>\n",
              "  <tbody>\n",
              "    <tr>\n",
              "      <td>0</td>\n",
              "      <td>3.006375</td>\n",
              "      <td>2.961155</td>\n",
              "      <td>0.496568</td>\n",
              "      <td>09:00</td>\n",
              "    </tr>\n",
              "  </tbody>\n",
              "</table>"
            ],
            "text/plain": [
              "<IPython.core.display.HTML object>"
            ]
          },
          "metadata": {
            "tags": []
          }
        }
      ]
    },
    {
      "cell_type": "code",
      "metadata": {
        "id": "1Er2ExO8wr7Y"
      },
      "source": [
        "learn.save_encoder('TwADR-cadec_fold4_first')"
      ],
      "execution_count": 25,
      "outputs": []
    },
    {
      "cell_type": "code",
      "metadata": {
        "id": "z52cZs2qwvad",
        "outputId": "d9391fff-347b-489f-b656-0eccff7145c6",
        "colab": {
          "base_uri": "https://localhost:8080/",
          "height": 80
        }
      },
      "source": [
        "learn = text_classifier_learner(data_clas,AWD_LSTM, drop_mult=0.5)\n",
        "learn.load_encoder('TwADR-cadec_fold4_first')\n",
        "learn.fit_one_cycle(1, 1e-2)"
      ],
      "execution_count": 26,
      "outputs": [
        {
          "output_type": "display_data",
          "data": {
            "text/html": [
              "<table border=\"1\" class=\"dataframe\">\n",
              "  <thead>\n",
              "    <tr style=\"text-align: left;\">\n",
              "      <th>epoch</th>\n",
              "      <th>train_loss</th>\n",
              "      <th>valid_loss</th>\n",
              "      <th>accuracy</th>\n",
              "      <th>time</th>\n",
              "    </tr>\n",
              "  </thead>\n",
              "  <tbody>\n",
              "    <tr>\n",
              "      <td>0</td>\n",
              "      <td>7.147584</td>\n",
              "      <td>6.727969</td>\n",
              "      <td>0.058333</td>\n",
              "      <td>00:25</td>\n",
              "    </tr>\n",
              "  </tbody>\n",
              "</table>"
            ],
            "text/plain": [
              "<IPython.core.display.HTML object>"
            ]
          },
          "metadata": {
            "tags": []
          }
        }
      ]
    },
    {
      "cell_type": "code",
      "metadata": {
        "id": "ImwQP1PJwzxd",
        "outputId": "5d699df1-0902-41db-a37f-a5027ac66b33",
        "colab": {
          "base_uri": "https://localhost:8080/",
          "height": 80
        }
      },
      "source": [
        "learn.freeze_to(-2)\n",
        "learn.fit_one_cycle(1, slice(5e-3/2., 5e-3))"
      ],
      "execution_count": 27,
      "outputs": [
        {
          "output_type": "display_data",
          "data": {
            "text/html": [
              "<table border=\"1\" class=\"dataframe\">\n",
              "  <thead>\n",
              "    <tr style=\"text-align: left;\">\n",
              "      <th>epoch</th>\n",
              "      <th>train_loss</th>\n",
              "      <th>valid_loss</th>\n",
              "      <th>accuracy</th>\n",
              "      <th>time</th>\n",
              "    </tr>\n",
              "  </thead>\n",
              "  <tbody>\n",
              "    <tr>\n",
              "      <td>0</td>\n",
              "      <td>6.202625</td>\n",
              "      <td>5.842129</td>\n",
              "      <td>0.125000</td>\n",
              "      <td>00:26</td>\n",
              "    </tr>\n",
              "  </tbody>\n",
              "</table>"
            ],
            "text/plain": [
              "<IPython.core.display.HTML object>"
            ]
          },
          "metadata": {
            "tags": []
          }
        }
      ]
    },
    {
      "cell_type": "code",
      "metadata": {
        "id": "Owff_BJXw53u",
        "outputId": "de58817a-ced0-4fb2-9617-b5c39c83e3b2",
        "colab": {
          "base_uri": "https://localhost:8080/",
          "height": 80
        }
      },
      "source": [
        "learn.unfreeze()\n",
        "learn.fit_one_cycle(1, slice(2e-3/100, 2e-3))"
      ],
      "execution_count": 28,
      "outputs": [
        {
          "output_type": "display_data",
          "data": {
            "text/html": [
              "<table border=\"1\" class=\"dataframe\">\n",
              "  <thead>\n",
              "    <tr style=\"text-align: left;\">\n",
              "      <th>epoch</th>\n",
              "      <th>train_loss</th>\n",
              "      <th>valid_loss</th>\n",
              "      <th>accuracy</th>\n",
              "      <th>time</th>\n",
              "    </tr>\n",
              "  </thead>\n",
              "  <tbody>\n",
              "    <tr>\n",
              "      <td>0</td>\n",
              "      <td>5.692034</td>\n",
              "      <td>5.014335</td>\n",
              "      <td>0.150000</td>\n",
              "      <td>01:09</td>\n",
              "    </tr>\n",
              "  </tbody>\n",
              "</table>"
            ],
            "text/plain": [
              "<IPython.core.display.HTML object>"
            ]
          },
          "metadata": {
            "tags": []
          }
        }
      ]
    },
    {
      "cell_type": "code",
      "metadata": {
        "id": "lqAyu56V8Waq",
        "outputId": "d872ecae-bca8-4773-a07e-d402333a9f70",
        "colab": {
          "base_uri": "https://localhost:8080/",
          "height": 111
        }
      },
      "source": [
        "learn.fit_one_cycle(2, slice(2e-3/100, 2e-3))"
      ],
      "execution_count": 29,
      "outputs": [
        {
          "output_type": "display_data",
          "data": {
            "text/html": [
              "<table border=\"1\" class=\"dataframe\">\n",
              "  <thead>\n",
              "    <tr style=\"text-align: left;\">\n",
              "      <th>epoch</th>\n",
              "      <th>train_loss</th>\n",
              "      <th>valid_loss</th>\n",
              "      <th>accuracy</th>\n",
              "      <th>time</th>\n",
              "    </tr>\n",
              "  </thead>\n",
              "  <tbody>\n",
              "    <tr>\n",
              "      <td>0</td>\n",
              "      <td>5.402799</td>\n",
              "      <td>4.736977</td>\n",
              "      <td>0.175000</td>\n",
              "      <td>01:03</td>\n",
              "    </tr>\n",
              "    <tr>\n",
              "      <td>1</td>\n",
              "      <td>5.141881</td>\n",
              "      <td>4.502251</td>\n",
              "      <td>0.216667</td>\n",
              "      <td>01:08</td>\n",
              "    </tr>\n",
              "  </tbody>\n",
              "</table>"
            ],
            "text/plain": [
              "<IPython.core.display.HTML object>"
            ]
          },
          "metadata": {
            "tags": []
          }
        }
      ]
    },
    {
      "cell_type": "code",
      "metadata": {
        "id": "a7I1xMRp8bUd",
        "outputId": "9bc5994f-62a0-4bea-cf0f-ea202480b4db",
        "colab": {
          "base_uri": "https://localhost:8080/",
          "height": 111
        }
      },
      "source": [
        "learn.fit_one_cycle(2, slice(2e-3/100, 2e-3))"
      ],
      "execution_count": 30,
      "outputs": [
        {
          "output_type": "display_data",
          "data": {
            "text/html": [
              "<table border=\"1\" class=\"dataframe\">\n",
              "  <thead>\n",
              "    <tr style=\"text-align: left;\">\n",
              "      <th>epoch</th>\n",
              "      <th>train_loss</th>\n",
              "      <th>valid_loss</th>\n",
              "      <th>accuracy</th>\n",
              "      <th>time</th>\n",
              "    </tr>\n",
              "  </thead>\n",
              "  <tbody>\n",
              "    <tr>\n",
              "      <td>0</td>\n",
              "      <td>4.941268</td>\n",
              "      <td>4.295733</td>\n",
              "      <td>0.233333</td>\n",
              "      <td>01:07</td>\n",
              "    </tr>\n",
              "    <tr>\n",
              "      <td>1</td>\n",
              "      <td>4.728354</td>\n",
              "      <td>4.200907</td>\n",
              "      <td>0.250000</td>\n",
              "      <td>01:06</td>\n",
              "    </tr>\n",
              "  </tbody>\n",
              "</table>"
            ],
            "text/plain": [
              "<IPython.core.display.HTML object>"
            ]
          },
          "metadata": {
            "tags": []
          }
        }
      ]
    },
    {
      "cell_type": "code",
      "metadata": {
        "id": "UAnti-XmGVfO",
        "outputId": "0c8a0fba-5981-4760-875b-798e886e5b51",
        "colab": {
          "base_uri": "https://localhost:8080/",
          "height": 111
        }
      },
      "source": [
        "learn.fit_one_cycle(2, slice(2e-3/100, 2e-3))"
      ],
      "execution_count": 31,
      "outputs": [
        {
          "output_type": "display_data",
          "data": {
            "text/html": [
              "<table border=\"1\" class=\"dataframe\">\n",
              "  <thead>\n",
              "    <tr style=\"text-align: left;\">\n",
              "      <th>epoch</th>\n",
              "      <th>train_loss</th>\n",
              "      <th>valid_loss</th>\n",
              "      <th>accuracy</th>\n",
              "      <th>time</th>\n",
              "    </tr>\n",
              "  </thead>\n",
              "  <tbody>\n",
              "    <tr>\n",
              "      <td>0</td>\n",
              "      <td>4.519309</td>\n",
              "      <td>3.962932</td>\n",
              "      <td>0.266667</td>\n",
              "      <td>01:08</td>\n",
              "    </tr>\n",
              "    <tr>\n",
              "      <td>1</td>\n",
              "      <td>4.341138</td>\n",
              "      <td>3.894563</td>\n",
              "      <td>0.283333</td>\n",
              "      <td>01:03</td>\n",
              "    </tr>\n",
              "  </tbody>\n",
              "</table>"
            ],
            "text/plain": [
              "<IPython.core.display.HTML object>"
            ]
          },
          "metadata": {
            "tags": []
          }
        }
      ]
    },
    {
      "cell_type": "code",
      "metadata": {
        "id": "bIft7W25GwSu",
        "outputId": "bf507a00-f3fc-4526-8093-f4210d531de9",
        "colab": {
          "base_uri": "https://localhost:8080/",
          "height": 111
        }
      },
      "source": [
        "learn.fit_one_cycle(2, slice(2e-3/100, 2e-3))"
      ],
      "execution_count": 32,
      "outputs": [
        {
          "output_type": "display_data",
          "data": {
            "text/html": [
              "<table border=\"1\" class=\"dataframe\">\n",
              "  <thead>\n",
              "    <tr style=\"text-align: left;\">\n",
              "      <th>epoch</th>\n",
              "      <th>train_loss</th>\n",
              "      <th>valid_loss</th>\n",
              "      <th>accuracy</th>\n",
              "      <th>time</th>\n",
              "    </tr>\n",
              "  </thead>\n",
              "  <tbody>\n",
              "    <tr>\n",
              "      <td>0</td>\n",
              "      <td>4.142485</td>\n",
              "      <td>3.769136</td>\n",
              "      <td>0.300000</td>\n",
              "      <td>01:07</td>\n",
              "    </tr>\n",
              "    <tr>\n",
              "      <td>1</td>\n",
              "      <td>4.001356</td>\n",
              "      <td>3.761849</td>\n",
              "      <td>0.283333</td>\n",
              "      <td>01:06</td>\n",
              "    </tr>\n",
              "  </tbody>\n",
              "</table>"
            ],
            "text/plain": [
              "<IPython.core.display.HTML object>"
            ]
          },
          "metadata": {
            "tags": []
          }
        }
      ]
    },
    {
      "cell_type": "code",
      "metadata": {
        "id": "EEHszVRvGyFt",
        "outputId": "d2fe2f0a-af9c-403f-d290-8b2152b190b3",
        "colab": {
          "base_uri": "https://localhost:8080/",
          "height": 111
        }
      },
      "source": [
        "learn.fit_one_cycle(2, slice(2e-3/100, 2e-3))"
      ],
      "execution_count": 33,
      "outputs": [
        {
          "output_type": "display_data",
          "data": {
            "text/html": [
              "<table border=\"1\" class=\"dataframe\">\n",
              "  <thead>\n",
              "    <tr style=\"text-align: left;\">\n",
              "      <th>epoch</th>\n",
              "      <th>train_loss</th>\n",
              "      <th>valid_loss</th>\n",
              "      <th>accuracy</th>\n",
              "      <th>time</th>\n",
              "    </tr>\n",
              "  </thead>\n",
              "  <tbody>\n",
              "    <tr>\n",
              "      <td>0</td>\n",
              "      <td>3.813526</td>\n",
              "      <td>3.645154</td>\n",
              "      <td>0.325000</td>\n",
              "      <td>01:04</td>\n",
              "    </tr>\n",
              "    <tr>\n",
              "      <td>1</td>\n",
              "      <td>3.691638</td>\n",
              "      <td>3.588827</td>\n",
              "      <td>0.325000</td>\n",
              "      <td>01:02</td>\n",
              "    </tr>\n",
              "  </tbody>\n",
              "</table>"
            ],
            "text/plain": [
              "<IPython.core.display.HTML object>"
            ]
          },
          "metadata": {
            "tags": []
          }
        }
      ]
    },
    {
      "cell_type": "code",
      "metadata": {
        "id": "XsHfrhCHG3dN",
        "outputId": "bb91e160-8b37-4f0a-93c9-de65bde13ba1",
        "colab": {
          "base_uri": "https://localhost:8080/",
          "height": 173
        }
      },
      "source": [
        "learn.fit_one_cycle(4, slice(2e-3/100, 2e-3))"
      ],
      "execution_count": 34,
      "outputs": [
        {
          "output_type": "display_data",
          "data": {
            "text/html": [
              "<table border=\"1\" class=\"dataframe\">\n",
              "  <thead>\n",
              "    <tr style=\"text-align: left;\">\n",
              "      <th>epoch</th>\n",
              "      <th>train_loss</th>\n",
              "      <th>valid_loss</th>\n",
              "      <th>accuracy</th>\n",
              "      <th>time</th>\n",
              "    </tr>\n",
              "  </thead>\n",
              "  <tbody>\n",
              "    <tr>\n",
              "      <td>0</td>\n",
              "      <td>3.473383</td>\n",
              "      <td>3.490860</td>\n",
              "      <td>0.366667</td>\n",
              "      <td>01:05</td>\n",
              "    </tr>\n",
              "    <tr>\n",
              "      <td>1</td>\n",
              "      <td>3.420986</td>\n",
              "      <td>3.559900</td>\n",
              "      <td>0.300000</td>\n",
              "      <td>01:05</td>\n",
              "    </tr>\n",
              "    <tr>\n",
              "      <td>2</td>\n",
              "      <td>3.264878</td>\n",
              "      <td>3.439771</td>\n",
              "      <td>0.366667</td>\n",
              "      <td>01:08</td>\n",
              "    </tr>\n",
              "    <tr>\n",
              "      <td>3</td>\n",
              "      <td>3.101749</td>\n",
              "      <td>3.452209</td>\n",
              "      <td>0.391667</td>\n",
              "      <td>01:09</td>\n",
              "    </tr>\n",
              "  </tbody>\n",
              "</table>"
            ],
            "text/plain": [
              "<IPython.core.display.HTML object>"
            ]
          },
          "metadata": {
            "tags": []
          }
        }
      ]
    },
    {
      "cell_type": "code",
      "metadata": {
        "id": "0Zsd99isb9EQ",
        "outputId": "8d1d3d3c-0502-46d3-80d4-9add388c4356",
        "colab": {
          "base_uri": "https://localhost:8080/",
          "height": 173
        }
      },
      "source": [
        "learn.fit_one_cycle(4, slice(2e-3/100, 2e-3))"
      ],
      "execution_count": 35,
      "outputs": [
        {
          "output_type": "display_data",
          "data": {
            "text/html": [
              "<table border=\"1\" class=\"dataframe\">\n",
              "  <thead>\n",
              "    <tr style=\"text-align: left;\">\n",
              "      <th>epoch</th>\n",
              "      <th>train_loss</th>\n",
              "      <th>valid_loss</th>\n",
              "      <th>accuracy</th>\n",
              "      <th>time</th>\n",
              "    </tr>\n",
              "  </thead>\n",
              "  <tbody>\n",
              "    <tr>\n",
              "      <td>0</td>\n",
              "      <td>2.961788</td>\n",
              "      <td>3.459029</td>\n",
              "      <td>0.333333</td>\n",
              "      <td>01:05</td>\n",
              "    </tr>\n",
              "    <tr>\n",
              "      <td>1</td>\n",
              "      <td>2.878929</td>\n",
              "      <td>3.455432</td>\n",
              "      <td>0.333333</td>\n",
              "      <td>01:07</td>\n",
              "    </tr>\n",
              "    <tr>\n",
              "      <td>2</td>\n",
              "      <td>2.720313</td>\n",
              "      <td>3.441921</td>\n",
              "      <td>0.358333</td>\n",
              "      <td>01:10</td>\n",
              "    </tr>\n",
              "    <tr>\n",
              "      <td>3</td>\n",
              "      <td>2.577511</td>\n",
              "      <td>3.458439</td>\n",
              "      <td>0.358333</td>\n",
              "      <td>01:05</td>\n",
              "    </tr>\n",
              "  </tbody>\n",
              "</table>"
            ],
            "text/plain": [
              "<IPython.core.display.HTML object>"
            ]
          },
          "metadata": {
            "tags": []
          }
        }
      ]
    },
    {
      "cell_type": "code",
      "metadata": {
        "id": "atNWNKDFPbuI",
        "outputId": "5ea12f45-881f-472b-c157-1925f7c8c293",
        "colab": {
          "base_uri": "https://localhost:8080/",
          "height": 173
        }
      },
      "source": [
        "learn.fit_one_cycle(4, slice(2e-3/100, 2e-3))"
      ],
      "execution_count": 36,
      "outputs": [
        {
          "output_type": "display_data",
          "data": {
            "text/html": [
              "<table border=\"1\" class=\"dataframe\">\n",
              "  <thead>\n",
              "    <tr style=\"text-align: left;\">\n",
              "      <th>epoch</th>\n",
              "      <th>train_loss</th>\n",
              "      <th>valid_loss</th>\n",
              "      <th>accuracy</th>\n",
              "      <th>time</th>\n",
              "    </tr>\n",
              "  </thead>\n",
              "  <tbody>\n",
              "    <tr>\n",
              "      <td>0</td>\n",
              "      <td>2.437379</td>\n",
              "      <td>3.460439</td>\n",
              "      <td>0.375000</td>\n",
              "      <td>01:03</td>\n",
              "    </tr>\n",
              "    <tr>\n",
              "      <td>1</td>\n",
              "      <td>2.379917</td>\n",
              "      <td>3.456452</td>\n",
              "      <td>0.375000</td>\n",
              "      <td>01:05</td>\n",
              "    </tr>\n",
              "    <tr>\n",
              "      <td>2</td>\n",
              "      <td>2.215513</td>\n",
              "      <td>3.362992</td>\n",
              "      <td>0.416667</td>\n",
              "      <td>01:11</td>\n",
              "    </tr>\n",
              "    <tr>\n",
              "      <td>3</td>\n",
              "      <td>2.064884</td>\n",
              "      <td>3.402957</td>\n",
              "      <td>0.375000</td>\n",
              "      <td>01:09</td>\n",
              "    </tr>\n",
              "  </tbody>\n",
              "</table>"
            ],
            "text/plain": [
              "<IPython.core.display.HTML object>"
            ]
          },
          "metadata": {
            "tags": []
          }
        }
      ]
    },
    {
      "cell_type": "code",
      "metadata": {
        "id": "rKrBTZ0T1uVA",
        "outputId": "6e69d421-596a-42a9-a7df-46e02d6ae3f5",
        "colab": {
          "base_uri": "https://localhost:8080/",
          "height": 173
        }
      },
      "source": [
        "learn.fit_one_cycle(4, slice(2e-3/100, 2e-3))"
      ],
      "execution_count": 37,
      "outputs": [
        {
          "output_type": "display_data",
          "data": {
            "text/html": [
              "<table border=\"1\" class=\"dataframe\">\n",
              "  <thead>\n",
              "    <tr style=\"text-align: left;\">\n",
              "      <th>epoch</th>\n",
              "      <th>train_loss</th>\n",
              "      <th>valid_loss</th>\n",
              "      <th>accuracy</th>\n",
              "      <th>time</th>\n",
              "    </tr>\n",
              "  </thead>\n",
              "  <tbody>\n",
              "    <tr>\n",
              "      <td>0</td>\n",
              "      <td>1.922244</td>\n",
              "      <td>3.413975</td>\n",
              "      <td>0.383333</td>\n",
              "      <td>01:06</td>\n",
              "    </tr>\n",
              "    <tr>\n",
              "      <td>1</td>\n",
              "      <td>1.895684</td>\n",
              "      <td>3.562439</td>\n",
              "      <td>0.358333</td>\n",
              "      <td>01:10</td>\n",
              "    </tr>\n",
              "    <tr>\n",
              "      <td>2</td>\n",
              "      <td>1.772988</td>\n",
              "      <td>3.512934</td>\n",
              "      <td>0.416667</td>\n",
              "      <td>01:07</td>\n",
              "    </tr>\n",
              "    <tr>\n",
              "      <td>3</td>\n",
              "      <td>1.645582</td>\n",
              "      <td>3.569577</td>\n",
              "      <td>0.400000</td>\n",
              "      <td>01:05</td>\n",
              "    </tr>\n",
              "  </tbody>\n",
              "</table>"
            ],
            "text/plain": [
              "<IPython.core.display.HTML object>"
            ]
          },
          "metadata": {
            "tags": []
          }
        }
      ]
    },
    {
      "cell_type": "code",
      "metadata": {
        "id": "ajQC6WDg1yA9",
        "outputId": "a8b25cbf-2154-4666-a050-8065a3862fc5",
        "colab": {
          "base_uri": "https://localhost:8080/",
          "height": 173
        }
      },
      "source": [
        "learn.fit_one_cycle(4, slice(2e-3/100, 2e-3))"
      ],
      "execution_count": 38,
      "outputs": [
        {
          "output_type": "display_data",
          "data": {
            "text/html": [
              "<table border=\"1\" class=\"dataframe\">\n",
              "  <thead>\n",
              "    <tr style=\"text-align: left;\">\n",
              "      <th>epoch</th>\n",
              "      <th>train_loss</th>\n",
              "      <th>valid_loss</th>\n",
              "      <th>accuracy</th>\n",
              "      <th>time</th>\n",
              "    </tr>\n",
              "  </thead>\n",
              "  <tbody>\n",
              "    <tr>\n",
              "      <td>0</td>\n",
              "      <td>1.564221</td>\n",
              "      <td>3.541104</td>\n",
              "      <td>0.391667</td>\n",
              "      <td>01:08</td>\n",
              "    </tr>\n",
              "    <tr>\n",
              "      <td>1</td>\n",
              "      <td>1.538525</td>\n",
              "      <td>3.628438</td>\n",
              "      <td>0.375000</td>\n",
              "      <td>01:03</td>\n",
              "    </tr>\n",
              "    <tr>\n",
              "      <td>2</td>\n",
              "      <td>1.404828</td>\n",
              "      <td>3.657474</td>\n",
              "      <td>0.400000</td>\n",
              "      <td>01:04</td>\n",
              "    </tr>\n",
              "    <tr>\n",
              "      <td>3</td>\n",
              "      <td>1.330609</td>\n",
              "      <td>3.633701</td>\n",
              "      <td>0.400000</td>\n",
              "      <td>01:07</td>\n",
              "    </tr>\n",
              "  </tbody>\n",
              "</table>"
            ],
            "text/plain": [
              "<IPython.core.display.HTML object>"
            ]
          },
          "metadata": {
            "tags": []
          }
        }
      ]
    },
    {
      "cell_type": "code",
      "metadata": {
        "id": "KKydb0B4BKGk",
        "outputId": "cc3a4a77-8557-4b51-ce66-3bdd2fea4c2e",
        "colab": {
          "base_uri": "https://localhost:8080/",
          "height": 173
        }
      },
      "source": [
        "learn.fit_one_cycle(4, slice(2e-3/100, 2e-3))"
      ],
      "execution_count": 39,
      "outputs": [
        {
          "output_type": "display_data",
          "data": {
            "text/html": [
              "<table border=\"1\" class=\"dataframe\">\n",
              "  <thead>\n",
              "    <tr style=\"text-align: left;\">\n",
              "      <th>epoch</th>\n",
              "      <th>train_loss</th>\n",
              "      <th>valid_loss</th>\n",
              "      <th>accuracy</th>\n",
              "      <th>time</th>\n",
              "    </tr>\n",
              "  </thead>\n",
              "  <tbody>\n",
              "    <tr>\n",
              "      <td>0</td>\n",
              "      <td>1.174394</td>\n",
              "      <td>3.614529</td>\n",
              "      <td>0.400000</td>\n",
              "      <td>01:04</td>\n",
              "    </tr>\n",
              "    <tr>\n",
              "      <td>1</td>\n",
              "      <td>1.195283</td>\n",
              "      <td>3.794473</td>\n",
              "      <td>0.391667</td>\n",
              "      <td>01:08</td>\n",
              "    </tr>\n",
              "    <tr>\n",
              "      <td>2</td>\n",
              "      <td>1.096752</td>\n",
              "      <td>3.703133</td>\n",
              "      <td>0.391667</td>\n",
              "      <td>01:05</td>\n",
              "    </tr>\n",
              "    <tr>\n",
              "      <td>3</td>\n",
              "      <td>0.993668</td>\n",
              "      <td>3.614974</td>\n",
              "      <td>0.391667</td>\n",
              "      <td>01:08</td>\n",
              "    </tr>\n",
              "  </tbody>\n",
              "</table>"
            ],
            "text/plain": [
              "<IPython.core.display.HTML object>"
            ]
          },
          "metadata": {
            "tags": []
          }
        }
      ]
    },
    {
      "cell_type": "code",
      "metadata": {
        "id": "T2APKtFKBpGY",
        "outputId": "f4c9c10d-32f5-462c-9ff3-50204c823e72",
        "colab": {
          "base_uri": "https://localhost:8080/",
          "height": 173
        }
      },
      "source": [
        "learn.fit_one_cycle(4, slice(2e-3/100, 2e-3))"
      ],
      "execution_count": 40,
      "outputs": [
        {
          "output_type": "display_data",
          "data": {
            "text/html": [
              "<table border=\"1\" class=\"dataframe\">\n",
              "  <thead>\n",
              "    <tr style=\"text-align: left;\">\n",
              "      <th>epoch</th>\n",
              "      <th>train_loss</th>\n",
              "      <th>valid_loss</th>\n",
              "      <th>accuracy</th>\n",
              "      <th>time</th>\n",
              "    </tr>\n",
              "  </thead>\n",
              "  <tbody>\n",
              "    <tr>\n",
              "      <td>0</td>\n",
              "      <td>0.922903</td>\n",
              "      <td>3.792342</td>\n",
              "      <td>0.358333</td>\n",
              "      <td>01:09</td>\n",
              "    </tr>\n",
              "    <tr>\n",
              "      <td>1</td>\n",
              "      <td>0.962329</td>\n",
              "      <td>3.740606</td>\n",
              "      <td>0.375000</td>\n",
              "      <td>01:12</td>\n",
              "    </tr>\n",
              "    <tr>\n",
              "      <td>2</td>\n",
              "      <td>0.923125</td>\n",
              "      <td>3.787871</td>\n",
              "      <td>0.391667</td>\n",
              "      <td>01:12</td>\n",
              "    </tr>\n",
              "    <tr>\n",
              "      <td>3</td>\n",
              "      <td>0.834559</td>\n",
              "      <td>3.793742</td>\n",
              "      <td>0.400000</td>\n",
              "      <td>01:08</td>\n",
              "    </tr>\n",
              "  </tbody>\n",
              "</table>"
            ],
            "text/plain": [
              "<IPython.core.display.HTML object>"
            ]
          },
          "metadata": {
            "tags": []
          }
        }
      ]
    },
    {
      "cell_type": "code",
      "metadata": {
        "id": "qtTypA1sPgLU",
        "outputId": "b9b2c992-0b61-4601-b087-31faeafc18d1",
        "colab": {
          "base_uri": "https://localhost:8080/",
          "height": 111
        }
      },
      "source": [
        "learn.fit_one_cycle(2, slice(2e-3/100, 2e-3))"
      ],
      "execution_count": 41,
      "outputs": [
        {
          "output_type": "display_data",
          "data": {
            "text/html": [
              "<table border=\"1\" class=\"dataframe\">\n",
              "  <thead>\n",
              "    <tr style=\"text-align: left;\">\n",
              "      <th>epoch</th>\n",
              "      <th>train_loss</th>\n",
              "      <th>valid_loss</th>\n",
              "      <th>accuracy</th>\n",
              "      <th>time</th>\n",
              "    </tr>\n",
              "  </thead>\n",
              "  <tbody>\n",
              "    <tr>\n",
              "      <td>0</td>\n",
              "      <td>0.741129</td>\n",
              "      <td>3.725758</td>\n",
              "      <td>0.408333</td>\n",
              "      <td>01:08</td>\n",
              "    </tr>\n",
              "    <tr>\n",
              "      <td>1</td>\n",
              "      <td>0.724974</td>\n",
              "      <td>3.821234</td>\n",
              "      <td>0.391667</td>\n",
              "      <td>01:09</td>\n",
              "    </tr>\n",
              "  </tbody>\n",
              "</table>"
            ],
            "text/plain": [
              "<IPython.core.display.HTML object>"
            ]
          },
          "metadata": {
            "tags": []
          }
        }
      ]
    },
    {
      "cell_type": "code",
      "metadata": {
        "id": "b242kBsTUp9Y",
        "outputId": "b6984ccd-a46c-4b9f-e3e3-3884fda30257",
        "colab": {
          "base_uri": "https://localhost:8080/",
          "height": 111
        }
      },
      "source": [
        "learn.fit_one_cycle(2, slice(2e-3/100, 2e-3))"
      ],
      "execution_count": 42,
      "outputs": [
        {
          "output_type": "display_data",
          "data": {
            "text/html": [
              "<table border=\"1\" class=\"dataframe\">\n",
              "  <thead>\n",
              "    <tr style=\"text-align: left;\">\n",
              "      <th>epoch</th>\n",
              "      <th>train_loss</th>\n",
              "      <th>valid_loss</th>\n",
              "      <th>accuracy</th>\n",
              "      <th>time</th>\n",
              "    </tr>\n",
              "  </thead>\n",
              "  <tbody>\n",
              "    <tr>\n",
              "      <td>0</td>\n",
              "      <td>0.719873</td>\n",
              "      <td>3.919568</td>\n",
              "      <td>0.383333</td>\n",
              "      <td>01:06</td>\n",
              "    </tr>\n",
              "    <tr>\n",
              "      <td>1</td>\n",
              "      <td>0.703193</td>\n",
              "      <td>3.937141</td>\n",
              "      <td>0.383333</td>\n",
              "      <td>01:04</td>\n",
              "    </tr>\n",
              "  </tbody>\n",
              "</table>"
            ],
            "text/plain": [
              "<IPython.core.display.HTML object>"
            ]
          },
          "metadata": {
            "tags": []
          }
        }
      ]
    },
    {
      "cell_type": "code",
      "metadata": {
        "id": "Duwf1Ih5VeDZ",
        "outputId": "4611977a-f4ac-45ab-a4ad-3b2c7ce15017",
        "colab": {
          "base_uri": "https://localhost:8080/",
          "height": 80
        }
      },
      "source": [
        "learn.fit_one_cycle(1, slice(2e-3/100, 2e-3))"
      ],
      "execution_count": 43,
      "outputs": [
        {
          "output_type": "display_data",
          "data": {
            "text/html": [
              "<table border=\"1\" class=\"dataframe\">\n",
              "  <thead>\n",
              "    <tr style=\"text-align: left;\">\n",
              "      <th>epoch</th>\n",
              "      <th>train_loss</th>\n",
              "      <th>valid_loss</th>\n",
              "      <th>accuracy</th>\n",
              "      <th>time</th>\n",
              "    </tr>\n",
              "  </thead>\n",
              "  <tbody>\n",
              "    <tr>\n",
              "      <td>0</td>\n",
              "      <td>0.694999</td>\n",
              "      <td>3.869509</td>\n",
              "      <td>0.391667</td>\n",
              "      <td>01:03</td>\n",
              "    </tr>\n",
              "  </tbody>\n",
              "</table>"
            ],
            "text/plain": [
              "<IPython.core.display.HTML object>"
            ]
          },
          "metadata": {
            "tags": []
          }
        }
      ]
    },
    {
      "cell_type": "code",
      "metadata": {
        "id": "c65d-osfDUXm"
      },
      "source": [
        "# save the best model\n",
        "\n",
        "learn.save_encoder('TwADR-cadec_fold4')"
      ],
      "execution_count": 44,
      "outputs": []
    },
    {
      "cell_type": "code",
      "metadata": {
        "id": "5h-A_GpAIYg8",
        "outputId": "9f452f58-d73d-4d01-8c26-fca9037bbb93",
        "colab": {
          "base_uri": "https://localhost:8080/",
          "height": 80
        }
      },
      "source": [
        "learn.fit_one_cycle(1, slice(2e-3/100, 2e-3))"
      ],
      "execution_count": 45,
      "outputs": [
        {
          "output_type": "display_data",
          "data": {
            "text/html": [
              "<table border=\"1\" class=\"dataframe\">\n",
              "  <thead>\n",
              "    <tr style=\"text-align: left;\">\n",
              "      <th>epoch</th>\n",
              "      <th>train_loss</th>\n",
              "      <th>valid_loss</th>\n",
              "      <th>accuracy</th>\n",
              "      <th>time</th>\n",
              "    </tr>\n",
              "  </thead>\n",
              "  <tbody>\n",
              "    <tr>\n",
              "      <td>0</td>\n",
              "      <td>0.634884</td>\n",
              "      <td>3.935308</td>\n",
              "      <td>0.400000</td>\n",
              "      <td>01:09</td>\n",
              "    </tr>\n",
              "  </tbody>\n",
              "</table>"
            ],
            "text/plain": [
              "<IPython.core.display.HTML object>"
            ]
          },
          "metadata": {
            "tags": []
          }
        }
      ]
    },
    {
      "cell_type": "code",
      "metadata": {
        "id": "qc4poYxzIwca",
        "outputId": "b22b9ed5-1029-480e-ce4c-ec1bc3354758",
        "colab": {
          "base_uri": "https://localhost:8080/",
          "height": 80
        }
      },
      "source": [
        "learn.fit_one_cycle(1, slice(2e-3/100, 2e-3))"
      ],
      "execution_count": 46,
      "outputs": [
        {
          "output_type": "display_data",
          "data": {
            "text/html": [
              "<table border=\"1\" class=\"dataframe\">\n",
              "  <thead>\n",
              "    <tr style=\"text-align: left;\">\n",
              "      <th>epoch</th>\n",
              "      <th>train_loss</th>\n",
              "      <th>valid_loss</th>\n",
              "      <th>accuracy</th>\n",
              "      <th>time</th>\n",
              "    </tr>\n",
              "  </thead>\n",
              "  <tbody>\n",
              "    <tr>\n",
              "      <td>0</td>\n",
              "      <td>0.596203</td>\n",
              "      <td>4.057834</td>\n",
              "      <td>0.383333</td>\n",
              "      <td>01:03</td>\n",
              "    </tr>\n",
              "  </tbody>\n",
              "</table>"
            ],
            "text/plain": [
              "<IPython.core.display.HTML object>"
            ]
          },
          "metadata": {
            "tags": []
          }
        }
      ]
    },
    {
      "cell_type": "code",
      "metadata": {
        "id": "66s4PxV1JVfo",
        "outputId": "22d26c35-4e14-4406-9111-7bc9ee1382b4",
        "colab": {
          "base_uri": "https://localhost:8080/",
          "height": 80
        }
      },
      "source": [
        "learn.fit_one_cycle(1, slice(2e-3/100, 2e-3))"
      ],
      "execution_count": 47,
      "outputs": [
        {
          "output_type": "display_data",
          "data": {
            "text/html": [
              "<table border=\"1\" class=\"dataframe\">\n",
              "  <thead>\n",
              "    <tr style=\"text-align: left;\">\n",
              "      <th>epoch</th>\n",
              "      <th>train_loss</th>\n",
              "      <th>valid_loss</th>\n",
              "      <th>accuracy</th>\n",
              "      <th>time</th>\n",
              "    </tr>\n",
              "  </thead>\n",
              "  <tbody>\n",
              "    <tr>\n",
              "      <td>0</td>\n",
              "      <td>0.584107</td>\n",
              "      <td>3.891435</td>\n",
              "      <td>0.391667</td>\n",
              "      <td>01:07</td>\n",
              "    </tr>\n",
              "  </tbody>\n",
              "</table>"
            ],
            "text/plain": [
              "<IPython.core.display.HTML object>"
            ]
          },
          "metadata": {
            "tags": []
          }
        }
      ]
    },
    {
      "cell_type": "markdown",
      "metadata": {
        "id": "rCwZU0E2RgM6"
      },
      "source": [
        "# Part three: Predict on the test dataset"
      ]
    },
    {
      "cell_type": "code",
      "metadata": {
        "id": "gDm72c-dOu7d",
        "outputId": "22173a7c-2283-4b2b-8121-d3a2be30d68e",
        "colab": {
          "base_uri": "https://localhost:8080/",
          "height": 17
        }
      },
      "source": [
        "# use the test data for prediction\n",
        "\n",
        "preds, y = learn.get_preds(DatasetType.Test)"
      ],
      "execution_count": 48,
      "outputs": [
        {
          "output_type": "display_data",
          "data": {
            "text/html": [
              ""
            ],
            "text/plain": [
              "<IPython.core.display.HTML object>"
            ]
          },
          "metadata": {
            "tags": []
          }
        }
      ]
    },
    {
      "cell_type": "code",
      "metadata": {
        "id": "6tFSQcsWPvxn",
        "outputId": "73458b1c-7972-4b3f-c01a-eac0a56770ac",
        "colab": {
          "base_uri": "https://localhost:8080/",
          "height": 105
        }
      },
      "source": [
        "predictions, *_ = learn.get_preds(DatasetType.Test)\n",
        "labels = np.argmax(predictions, 1)\n",
        "predict_list = labels.tolist()\n",
        "standard_list = test[0].tolist()\n",
        "\n",
        "print(len(predict_list))\n",
        "print(len(standard_list))\n",
        "\n",
        "print(predict_list)\n",
        "print(standard_list)"
      ],
      "execution_count": 49,
      "outputs": [
        {
          "output_type": "display_data",
          "data": {
            "text/html": [
              ""
            ],
            "text/plain": [
              "<IPython.core.display.HTML object>"
            ]
          },
          "metadata": {
            "tags": []
          }
        },
        {
          "output_type": "stream",
          "text": [
            "143\n",
            "143\n",
            "[1787, 1787, 720, 2024, 1595, 109, 189, 189, 189, 230, 231, 1936, 233, 233, 2032, 1787, 1136, 908, 2149, 2063, 2002, 187, 1769, 596, 1290, 1432, 749, 749, 97, 1597, 792, 1484, 1458, 1458, 2147, 824, 908, 908, 923, 1278, 824, 1718, 974, 978, 982, 978, 978, 978, 978, 418, 1828, 1089, 1711, 1099, 1099, 1099, 1769, 1136, 1136, 1145, 1150, 1150, 1308, 1184, 1184, 1718, 1204, 974, 24, 1265, 857, 1099, 1308, 824, 1529, 2149, 1099, 1936, 1099, 1508, 1508, 1511, 1526, 1529, 1711, 1682, 1594, 1595, 791, 60, 1597, 1099, 1099, 1718, 1718, 1718, 1610, 978, 1073, 1073, 1787, 1680, 1701, 1526, 418, 56, 1718, 1718, 1073, 1815, 1718, 1815, 1578, 2191, 2191, 2149, 2023, 1857, 1769, 825, 824, 1936, 1936, 1727, 2002, 1899, 2026, 2032, 2032, 189, 1508, 1099, 791, 2103, 2014, 2119, 2147, 966, 2032, 2147, 1936, 1711, 2149]\n",
            "[13, 13, 56, 62, 84, 109, 189, 189, 189, 230, 231, 233, 233, 233, 393, 393, 396, 418, 418, 452, 452, 483, 561, 596, 712, 729, 749, 749, 750, 791, 792, 792, 809, 809, 813, 824, 908, 908, 923, 933, 936, 945, 974, 978, 978, 978, 978, 978, 978, 978, 1073, 1089, 1099, 1099, 1099, 1099, 1099, 1136, 1136, 1145, 1150, 1150, 1164, 1184, 1184, 1196, 1204, 1214, 1230, 1265, 1278, 1295, 1308, 1327, 1340, 1340, 1340, 1340, 1373, 1508, 1508, 1511, 1526, 1529, 1531, 1531, 1594, 1595, 1597, 1597, 1597, 1610, 1610, 1610, 1610, 1610, 1610, 1661, 1669, 1669, 1676, 1680, 1701, 1701, 1706, 1711, 1718, 1718, 1727, 1727, 1767, 1767, 1783, 1787, 1787, 1787, 1813, 1857, 1873, 1884, 1884, 1936, 1936, 1942, 2002, 2014, 2026, 2032, 2032, 2048, 2077, 2084, 2097, 2103, 2109, 2119, 2147, 2147, 2147, 2147, 2149, 2173, 2194]\n"
          ],
          "name": "stdout"
        }
      ]
    },
    {
      "cell_type": "code",
      "metadata": {
        "id": "XIC4zufnMxtq",
        "outputId": "f10ce26f-ddfe-40d9-a2d5-85e6b6ba1c22",
        "colab": {
          "base_uri": "https://localhost:8080/"
        }
      },
      "source": [
        "correct_num = 0\n",
        "\n",
        "for i in range(0, len(standard_list)):\n",
        "  if predict_list[i] == standard_list[i]:\n",
        "    correct_num = correct_num+1\n",
        "  else:\n",
        "    pass\n",
        "print(correct_num)\n",
        "\n",
        "predict_accuracy = correct_num/len(predict_list)\n",
        "print(predict_accuracy)"
      ],
      "execution_count": 50,
      "outputs": [
        {
          "output_type": "stream",
          "text": [
            "60\n",
            "0.4195804195804196\n"
          ],
          "name": "stdout"
        }
      ]
    },
    {
      "cell_type": "code",
      "metadata": {
        "id": "zlKMHp1CIaRJ"
      },
      "source": [
        ""
      ],
      "execution_count": 50,
      "outputs": []
    }
  ]
}