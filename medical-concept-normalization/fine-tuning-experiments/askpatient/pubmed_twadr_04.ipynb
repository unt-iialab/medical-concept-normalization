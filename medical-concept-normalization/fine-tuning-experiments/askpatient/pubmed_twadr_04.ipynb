{
  "nbformat": 4,
  "nbformat_minor": 0,
  "metadata": {
    "accelerator": "TPU",
    "colab": {
      "name": "pubmed_twadr_04.ipynb",
      "provenance": [],
      "collapsed_sections": [],
      "toc_visible": true,
      "include_colab_link": true
    },
    "kernelspec": {
      "display_name": "Python 3",
      "name": "python3"
    }
  },
  "cells": [
    {
      "cell_type": "markdown",
      "metadata": {
        "id": "view-in-github",
        "colab_type": "text"
      },
      "source": [
        "<a href=\"https://colab.research.google.com/github/unt-iialab/medical-concept-normalization/blob/master/medical-concept-normalization/fine-tuning-experiments/askpatient/pubmed_twadr_04.ipynb\" target=\"_parent\"><img src=\"https://colab.research.google.com/assets/colab-badge.svg\" alt=\"Open In Colab\"/></a>"
      ]
    },
    {
      "cell_type": "code",
      "metadata": {
        "id": "adSi6i2-dWxy"
      },
      "source": [
        "import os"
      ],
      "execution_count": 1,
      "outputs": []
    },
    {
      "cell_type": "code",
      "metadata": {
        "id": "E7xYCRGPjd9B"
      },
      "source": [
        "base_dir = 'medical-concept-normalization'"
      ],
      "execution_count": 2,
      "outputs": []
    },
    {
      "cell_type": "code",
      "metadata": {
        "id": "yvIW3aUDjYNS"
      },
      "source": [
        "os.mkdir(base_dir)"
      ],
      "execution_count": 3,
      "outputs": []
    },
    {
      "cell_type": "code",
      "metadata": {
        "id": "es-FFLlfk6SG"
      },
      "source": [
        "os.mkdir('medical-concept-normalization/data_collection')"
      ],
      "execution_count": 4,
      "outputs": []
    },
    {
      "cell_type": "markdown",
      "metadata": {
        "id": "0R-Guw_VoJXm"
      },
      "source": [
        "**Install fastai and clone the fastai for text classification**\n",
        "\n"
      ]
    },
    {
      "cell_type": "code",
      "metadata": {
        "id": "QVZa3Z0PmHFH",
        "outputId": "0b2cbbaf-40dc-4dd9-fea9-0a14d4f9869e",
        "colab": {
          "base_uri": "https://localhost:8080/"
        }
      },
      "source": [
        "!curl https://course-v3.fast.ai/setup/colab | bash"
      ],
      "execution_count": 5,
      "outputs": [
        {
          "output_type": "stream",
          "text": [
            "  % Total    % Received % Xferd  Average Speed   Time    Time     Time  Current\n",
            "                                 Dload  Upload   Total   Spent    Left  Speed\n",
            "\r  0     0    0     0    0     0      0      0 --:--:-- --:--:-- --:--:--     0curl: (6) Could not resolve host: course-v3.fast.ai\n"
          ],
          "name": "stdout"
        }
      ]
    },
    {
      "cell_type": "code",
      "metadata": {
        "id": "_FBFFEBrmJC0",
        "outputId": "d18756cb-c8d1-482f-cbfe-07b85a6f1df0",
        "colab": {
          "base_uri": "https://localhost:8080/"
        }
      },
      "source": [
        "!git clone https://github.com/wshuyi/demo-nlp-classification-fastai.git"
      ],
      "execution_count": 6,
      "outputs": [
        {
          "output_type": "stream",
          "text": [
            "Cloning into 'demo-nlp-classification-fastai'...\n",
            "remote: Enumerating objects: 9, done.\u001b[K\n",
            "remote: Total 9 (delta 0), reused 0 (delta 0), pack-reused 9\u001b[K\n",
            "Unpacking objects: 100% (9/9), done.\n"
          ],
          "name": "stdout"
        }
      ]
    },
    {
      "cell_type": "code",
      "metadata": {
        "id": "66zfh_JqmWMU"
      },
      "source": [
        "from fastai import *\n",
        "from fastai.text import *"
      ],
      "execution_count": 7,
      "outputs": []
    },
    {
      "cell_type": "markdown",
      "metadata": {
        "id": "mNIw-yALdBU9"
      },
      "source": [
        "**Set the path of the data collections**"
      ]
    },
    {
      "cell_type": "code",
      "metadata": {
        "id": "pzH7VMh4mqCL"
      },
      "source": [
        "path = Path('medical-concept-normalization/data_collection')"
      ],
      "execution_count": 8,
      "outputs": []
    },
    {
      "cell_type": "code",
      "metadata": {
        "id": "b8fjI6yyn4aS"
      },
      "source": [
        "# training data set\n",
        "\n",
        "train_csv = path/'TwADR-L.fold-4.train.csv'\n",
        "train = pd.read_csv(train_csv, header=None)\n",
        "#train.head()\n",
        "#train.info()"
      ],
      "execution_count": 10,
      "outputs": []
    },
    {
      "cell_type": "code",
      "metadata": {
        "id": "Hmlr-bAorfHd",
        "outputId": "2e873426-d93f-4e2a-b8ad-d2207ff8b436",
        "colab": {
          "base_uri": "https://localhost:8080/",
          "height": 204
        }
      },
      "source": [
        "# validating data set\n",
        "\n",
        "valid = pd.read_csv(path/\"TwADR-L.fold-4.validation.csv\",header=None)\n",
        "valid.head()"
      ],
      "execution_count": 11,
      "outputs": [
        {
          "output_type": "execute_result",
          "data": {
            "text/html": [
              "<div>\n",
              "<style scoped>\n",
              "    .dataframe tbody tr th:only-of-type {\n",
              "        vertical-align: middle;\n",
              "    }\n",
              "\n",
              "    .dataframe tbody tr th {\n",
              "        vertical-align: top;\n",
              "    }\n",
              "\n",
              "    .dataframe thead th {\n",
              "        text-align: right;\n",
              "    }\n",
              "</style>\n",
              "<table border=\"1\" class=\"dataframe\">\n",
              "  <thead>\n",
              "    <tr style=\"text-align: right;\">\n",
              "      <th></th>\n",
              "      <th>0</th>\n",
              "      <th>1</th>\n",
              "    </tr>\n",
              "  </thead>\n",
              "  <tbody>\n",
              "    <tr>\n",
              "      <th>0</th>\n",
              "      <td>61</td>\n",
              "      <td>very stupid</td>\n",
              "    </tr>\n",
              "    <tr>\n",
              "      <th>1</th>\n",
              "      <td>74</td>\n",
              "      <td>useless without</td>\n",
              "    </tr>\n",
              "    <tr>\n",
              "      <th>2</th>\n",
              "      <td>93</td>\n",
              "      <td>shooting</td>\n",
              "    </tr>\n",
              "    <tr>\n",
              "      <th>3</th>\n",
              "      <td>195</td>\n",
              "      <td>makes me so damn bloated</td>\n",
              "    </tr>\n",
              "    <tr>\n",
              "      <th>4</th>\n",
              "      <td>231</td>\n",
              "      <td>gives me man vivid dreams</td>\n",
              "    </tr>\n",
              "  </tbody>\n",
              "</table>\n",
              "</div>"
            ],
            "text/plain": [
              "     0                          1\n",
              "0   61                very stupid\n",
              "1   74            useless without\n",
              "2   93                   shooting\n",
              "3  195   makes me so damn bloated\n",
              "4  231  gives me man vivid dreams"
            ]
          },
          "metadata": {
            "tags": []
          },
          "execution_count": 11
        }
      ]
    },
    {
      "cell_type": "code",
      "metadata": {
        "id": "cOza9dfSsBud",
        "outputId": "723f58d0-de59-4dd9-d1e8-11b064180895",
        "colab": {
          "base_uri": "https://localhost:8080/",
          "height": 204
        }
      },
      "source": [
        "# testing data set\n",
        "\n",
        "test = pd.read_csv(path/\"TwADR-L.fold-4.test.csv\",header=None)\n",
        "test.head()"
      ],
      "execution_count": 12,
      "outputs": [
        {
          "output_type": "execute_result",
          "data": {
            "text/html": [
              "<div>\n",
              "<style scoped>\n",
              "    .dataframe tbody tr th:only-of-type {\n",
              "        vertical-align: middle;\n",
              "    }\n",
              "\n",
              "    .dataframe tbody tr th {\n",
              "        vertical-align: top;\n",
              "    }\n",
              "\n",
              "    .dataframe thead th {\n",
              "        text-align: right;\n",
              "    }\n",
              "</style>\n",
              "<table border=\"1\" class=\"dataframe\">\n",
              "  <thead>\n",
              "    <tr style=\"text-align: right;\">\n",
              "      <th></th>\n",
              "      <th>0</th>\n",
              "      <th>1</th>\n",
              "    </tr>\n",
              "  </thead>\n",
              "  <tbody>\n",
              "    <tr>\n",
              "      <th>0</th>\n",
              "      <td>13</td>\n",
              "      <td>insomnia</td>\n",
              "    </tr>\n",
              "    <tr>\n",
              "      <th>1</th>\n",
              "      <td>13</td>\n",
              "      <td>insomnia</td>\n",
              "    </tr>\n",
              "    <tr>\n",
              "      <th>2</th>\n",
              "      <td>56</td>\n",
              "      <td>painful b..</td>\n",
              "    </tr>\n",
              "    <tr>\n",
              "      <th>3</th>\n",
              "      <td>62</td>\n",
              "      <td>hypomanic</td>\n",
              "    </tr>\n",
              "    <tr>\n",
              "      <th>4</th>\n",
              "      <td>84</td>\n",
              "      <td>paraplegic</td>\n",
              "    </tr>\n",
              "  </tbody>\n",
              "</table>\n",
              "</div>"
            ],
            "text/plain": [
              "    0            1\n",
              "0  13     insomnia\n",
              "1  13     insomnia\n",
              "2  56  painful b..\n",
              "3  62    hypomanic\n",
              "4  84   paraplegic"
            ]
          },
          "metadata": {
            "tags": []
          },
          "execution_count": 12
        }
      ]
    },
    {
      "cell_type": "code",
      "metadata": {
        "id": "Vo-YNvVYoaH6",
        "outputId": "7d8fc0cc-bdc6-49b4-f89f-c06b79d1c099",
        "colab": {
          "base_uri": "https://localhost:8080/",
          "height": 17
        }
      },
      "source": [
        "# Creating DataBunch for language modelling\n",
        "\n",
        "data_lm = TextLMDataBunch.from_csv(path, 'TwADR_pubmed.csv')"
      ],
      "execution_count": 13,
      "outputs": [
        {
          "output_type": "display_data",
          "data": {
            "text/html": [
              ""
            ],
            "text/plain": [
              "<IPython.core.display.HTML object>"
            ]
          },
          "metadata": {
            "tags": []
          }
        },
        {
          "output_type": "display_data",
          "data": {
            "text/html": [
              ""
            ],
            "text/plain": [
              "<IPython.core.display.HTML object>"
            ]
          },
          "metadata": {
            "tags": []
          }
        }
      ]
    },
    {
      "cell_type": "code",
      "metadata": {
        "id": "qcV-9kMnNLBf"
      },
      "source": [
        ""
      ],
      "execution_count": 13,
      "outputs": []
    },
    {
      "cell_type": "code",
      "metadata": {
        "id": "1ScY9afDsnvE"
      },
      "source": [
        "# Creating DataBunch for classification\n",
        "\n",
        "# data_clas = TextClasDataBunch.from_df(path, train, valid, test, vocab=data_lm.train_ds.vocab, bs=128)"
      ],
      "execution_count": 14,
      "outputs": []
    },
    {
      "cell_type": "code",
      "metadata": {
        "id": "gzrSdQcvey9p",
        "outputId": "1fcc8ed4-f90f-47c0-c306-4c17b39fa092",
        "colab": {
          "base_uri": "https://localhost:8080/",
          "height": 17
        }
      },
      "source": [
        "data_clas = TextClasDataBunch.from_df(path, train, valid, vocab=data_lm.train_ds.vocab, bs=128)"
      ],
      "execution_count": 15,
      "outputs": [
        {
          "output_type": "display_data",
          "data": {
            "text/html": [
              ""
            ],
            "text/plain": [
              "<IPython.core.display.HTML object>"
            ]
          },
          "metadata": {
            "tags": []
          }
        },
        {
          "output_type": "display_data",
          "data": {
            "text/html": [
              ""
            ],
            "text/plain": [
              "<IPython.core.display.HTML object>"
            ]
          },
          "metadata": {
            "tags": []
          }
        }
      ]
    },
    {
      "cell_type": "code",
      "metadata": {
        "id": "MD27Tf0Ke3ou",
        "outputId": "dd319669-4a32-48d3-c157-48872e9274a7",
        "colab": {
          "base_uri": "https://localhost:8080/",
          "height": 17
        }
      },
      "source": [
        "data_clas.add_test(test,label=0)\n"
      ],
      "execution_count": 16,
      "outputs": [
        {
          "output_type": "display_data",
          "data": {
            "text/html": [
              ""
            ],
            "text/plain": [
              "<IPython.core.display.HTML object>"
            ]
          },
          "metadata": {
            "tags": []
          }
        }
      ]
    },
    {
      "cell_type": "code",
      "metadata": {
        "id": "-dpjnk_rstwk"
      },
      "source": [
        "data_lm.save()\n",
        "data_clas.save()"
      ],
      "execution_count": 17,
      "outputs": []
    },
    {
      "cell_type": "code",
      "metadata": {
        "id": "4OkiJa36sw5s",
        "outputId": "c8910054-6dc5-4e61-e36c-910736ba8dfe",
        "colab": {
          "base_uri": "https://localhost:8080/"
        }
      },
      "source": [
        "data_lm.train_ds.vocab.itos"
      ],
      "execution_count": 18,
      "outputs": [
        {
          "output_type": "execute_result",
          "data": {
            "text/plain": [
              "['xxunk',\n",
              " 'xxpad',\n",
              " 'xxbos',\n",
              " 'xxeos',\n",
              " 'xxfld',\n",
              " 'xxmaj',\n",
              " 'xxup',\n",
              " 'xxrep',\n",
              " 'xxwrep',\n",
              " 'the',\n",
              " 'of',\n",
              " 'and',\n",
              " 'in',\n",
              " 'to',\n",
              " 'a',\n",
              " 'diclofenac',\n",
              " 'was',\n",
              " 'with',\n",
              " 'were',\n",
              " 'for',\n",
              " 'pain',\n",
              " 'sodium',\n",
              " 'drug',\n",
              " 'by',\n",
              " 'on',\n",
              " 'patients',\n",
              " 'as',\n",
              " 'that',\n",
              " 'is',\n",
              " 'at',\n",
              " 'or',\n",
              " 'mg',\n",
              " 'increased',\n",
              " 'group',\n",
              " 'from',\n",
              " 'mood',\n",
              " 'study',\n",
              " 'this',\n",
              " 'treatment',\n",
              " 'after',\n",
              " 'p',\n",
              " 'release',\n",
              " 'an',\n",
              " 'be',\n",
              " ',',\n",
              " 'me',\n",
              " 'disorder',\n",
              " 'effect',\n",
              " 'not',\n",
              " 'abnormal',\n",
              " 'i',\n",
              " 'withdrawal',\n",
              " 'decreased',\n",
              " 'than',\n",
              " 'weight',\n",
              " 'anxiety',\n",
              " 'compared',\n",
              " 'using',\n",
              " 'groups',\n",
              " 'are',\n",
              " 'no',\n",
              " 'effects',\n",
              " 'my',\n",
              " 'both',\n",
              " 'symptoms',\n",
              " 'two',\n",
              " 'inflammatory',\n",
              " 'significantly',\n",
              " 'acute',\n",
              " 'potassium',\n",
              " 'drugs',\n",
              " 'significant',\n",
              " 'h',\n",
              " 'between',\n",
              " 'anti',\n",
              " 'day',\n",
              " 'these',\n",
              " 'skin',\n",
              " 'time',\n",
              " 'voltaren',\n",
              " 'disorders',\n",
              " 'used',\n",
              " 'all',\n",
              " 'syndrome',\n",
              " 'dose',\n",
              " 'blood',\n",
              " 'behavior',\n",
              " 'which',\n",
              " 'results',\n",
              " '-',\n",
              " '(',\n",
              " ')',\n",
              " 'placebo',\n",
              " 'it',\n",
              " 'efficacy',\n",
              " 'had',\n",
              " 'sleeplessness',\n",
              " 'concentration',\n",
              " 'oral',\n",
              " 'ds',\n",
              " 'have',\n",
              " 'days',\n",
              " 'treated',\n",
              " 'showed',\n",
              " 'we',\n",
              " 'diseases',\n",
              " 'feeling',\n",
              " 'like',\n",
              " 'ml',\n",
              " 'also',\n",
              " 'different',\n",
              " 'one',\n",
              " 'up',\n",
              " 'but',\n",
              " 'topical',\n",
              " 'more',\n",
              " 'insomnia',\n",
              " 'has',\n",
              " 'disturbance',\n",
              " 'somnolence',\n",
              " 'sleep',\n",
              " 'administration',\n",
              " 'finding',\n",
              " 'non',\n",
              " 'rats',\n",
              " 'high',\n",
              " 'control',\n",
              " 'energy',\n",
              " 'c',\n",
              " 'studies',\n",
              " 'acid',\n",
              " 'been',\n",
              " 'plasma',\n",
              " 'induced',\n",
              " 'clinical',\n",
              " 'got',\n",
              " 'respectively',\n",
              " 'mental',\n",
              " 'during',\n",
              " 'hours',\n",
              " 'nausea',\n",
              " 'state',\n",
              " 'there',\n",
              " 'found',\n",
              " 'formulation',\n",
              " 'into',\n",
              " 'formulations',\n",
              " 'gain',\n",
              " 'muscle',\n",
              " 'method',\n",
              " 'swelling',\n",
              " 'nsaids',\n",
              " 'mean',\n",
              " 's',\n",
              " 'rate',\n",
              " 'tablets',\n",
              " 'observed',\n",
              " 'g',\n",
              " 'depression',\n",
              " 'low',\n",
              " 'its',\n",
              " 'solution',\n",
              " 'their',\n",
              " 'may',\n",
              " 'disease',\n",
              " 'body',\n",
              " 'other',\n",
              " 'gel',\n",
              " 'appetite',\n",
              " 'ph',\n",
              " 'effective',\n",
              " 'kg',\n",
              " 'n',\n",
              " 'received',\n",
              " 'three',\n",
              " 'lower',\n",
              " 'activity',\n",
              " 'when',\n",
              " 'vitro',\n",
              " 'irritable',\n",
              " 'conditions',\n",
              " 'adverse',\n",
              " 'controlled',\n",
              " 'first',\n",
              " 'renal',\n",
              " 'heart',\n",
              " 'serum',\n",
              " 'cell',\n",
              " 'total',\n",
              " 'liver',\n",
              " 'excitability',\n",
              " 'analysis',\n",
              " 'levels',\n",
              " 'analgesic',\n",
              " 'ceiling',\n",
              " 'use',\n",
              " 'hyperactive',\n",
              " 'data',\n",
              " 'concentrations',\n",
              " 'well',\n",
              " 'reaction',\n",
              " 'd',\n",
              " 'atorvastatin',\n",
              " 'feel',\n",
              " 'drowsiness',\n",
              " 'daily',\n",
              " 'out',\n",
              " 'm',\n",
              " 'single',\n",
              " 'randomized',\n",
              " 'system',\n",
              " 'dizziness',\n",
              " 'feelings',\n",
              " 'attention',\n",
              " 'panic',\n",
              " 'application',\n",
              " 'each',\n",
              " 'period',\n",
              " 'however',\n",
              " 'headache',\n",
              " 'level',\n",
              " 'gastrointestinal',\n",
              " 'over',\n",
              " 'function',\n",
              " 'eye',\n",
              " 'evaluated',\n",
              " 'following',\n",
              " 'awake',\n",
              " 'patient',\n",
              " 'test',\n",
              " 't',\n",
              " 'less',\n",
              " 'rash',\n",
              " 'model',\n",
              " 'site',\n",
              " 'inflammation',\n",
              " 'surgery',\n",
              " 'nsaid',\n",
              " 'joint',\n",
              " 'double',\n",
              " 'can',\n",
              " 'reduced',\n",
              " 'loss',\n",
              " 'l',\n",
              " 'weeks',\n",
              " 'obtained',\n",
              " 'tablet',\n",
              " 'postoperative',\n",
              " 'depressed',\n",
              " 'injection',\n",
              " 'higher',\n",
              " 'therapy',\n",
              " 'present',\n",
              " 'only',\n",
              " 'water',\n",
              " 'similar',\n",
              " 'injury',\n",
              " 'difference',\n",
              " 'cells',\n",
              " 'allergic',\n",
              " 'did',\n",
              " 'b',\n",
              " 'infection',\n",
              " 'initial',\n",
              " 'based',\n",
              " 'arthritis',\n",
              " '#',\n",
              " 'associated',\n",
              " 'dissolution',\n",
              " 'combination',\n",
              " 'increase',\n",
              " 'edema',\n",
              " 'change',\n",
              " 'most',\n",
              " 'pressure',\n",
              " 'swings',\n",
              " 'wakefulness',\n",
              " 'under',\n",
              " 'doses',\n",
              " 'bipolar',\n",
              " 'relief',\n",
              " 'studied',\n",
              " 'before',\n",
              " 'administered',\n",
              " 'bone',\n",
              " \"n't\",\n",
              " 'changes',\n",
              " 'trial',\n",
              " 'vs',\n",
              " 'those',\n",
              " 'gastric',\n",
              " 'chronic',\n",
              " 'migraine',\n",
              " 'prepared',\n",
              " 'events',\n",
              " 'response',\n",
              " 'while',\n",
              " 'absorption',\n",
              " 'week',\n",
              " 'performed',\n",
              " 'x',\n",
              " 'blind',\n",
              " 'order',\n",
              " 'due',\n",
              " 'post',\n",
              " 'differences',\n",
              " 'could',\n",
              " 'min',\n",
              " 'dreams',\n",
              " 'ca',\n",
              " 'visual',\n",
              " 'developed',\n",
              " 'brain',\n",
              " 'phase',\n",
              " 'nonsteroidal',\n",
              " 'values',\n",
              " 'ratio',\n",
              " 'given',\n",
              " 'assessed',\n",
              " 'w',\n",
              " 'reported',\n",
              " 'tissue',\n",
              " 'fatigue',\n",
              " 'decrease',\n",
              " 'four',\n",
              " 'respiratory',\n",
              " 'investigated',\n",
              " 'new',\n",
              " 'subjects',\n",
              " 'attacks',\n",
              " 'corneal',\n",
              " 'parameters',\n",
              " 'urine',\n",
              " 'either',\n",
              " 'tremor',\n",
              " 'cholesterol',\n",
              " 'within',\n",
              " 'years',\n",
              " 'action',\n",
              " 'side',\n",
              " 'properties',\n",
              " 'v',\n",
              " 'containing',\n",
              " 'abdominal',\n",
              " 'failure',\n",
              " 'auc',\n",
              " 'ng',\n",
              " 'delivery',\n",
              " 'who',\n",
              " 'breast',\n",
              " 'mm',\n",
              " 'indomethacin',\n",
              " 'minutes',\n",
              " 'any',\n",
              " 'steroidal',\n",
              " 'reduction',\n",
              " 'liquid',\n",
              " 'statistically',\n",
              " 'knee',\n",
              " 'measured',\n",
              " 'such',\n",
              " 'included',\n",
              " 'development',\n",
              " 'human',\n",
              " 'active',\n",
              " 'applied',\n",
              " 'potential',\n",
              " 'hemorrhage',\n",
              " 'times',\n",
              " 'sustained',\n",
              " 'vivo',\n",
              " 'stiffness',\n",
              " 'e',\n",
              " 'attack',\n",
              " 'safety',\n",
              " 'kidney',\n",
              " 'dry',\n",
              " 'compare',\n",
              " 'oa',\n",
              " 'sleepy',\n",
              " 'therapeutic',\n",
              " 'number',\n",
              " 'scores',\n",
              " 'determined',\n",
              " 'healthy',\n",
              " 'evaluate',\n",
              " 'k',\n",
              " 'samples',\n",
              " 'primary',\n",
              " 'medication',\n",
              " 'osteoarthritis',\n",
              " 'rage',\n",
              " 'taste',\n",
              " 'through',\n",
              " 'eyes',\n",
              " 'hour',\n",
              " 'better',\n",
              " 'good',\n",
              " 'tolerability',\n",
              " 'scale',\n",
              " 'bioavailability',\n",
              " 'discomfort',\n",
              " 'lipitor',\n",
              " 'same',\n",
              " 'form',\n",
              " 'size',\n",
              " 'related',\n",
              " 'dependent',\n",
              " 'so',\n",
              " 'without',\n",
              " 'process',\n",
              " 'type',\n",
              " 'ii',\n",
              " 'tired',\n",
              " 'male',\n",
              " 'carcinoma',\n",
              " 'local',\n",
              " 'alone',\n",
              " 'addition',\n",
              " 'normal',\n",
              " 'about',\n",
              " 'range',\n",
              " 'makes',\n",
              " 'aqueous',\n",
              " 'baseline',\n",
              " 'our',\n",
              " 'greater',\n",
              " 'ulcer',\n",
              " 'night',\n",
              " 'matrix',\n",
              " 'middle',\n",
              " 'demonstrated',\n",
              " 'revealed',\n",
              " 'randomly',\n",
              " 'polymer',\n",
              " 'products',\n",
              " 'psychotic',\n",
              " 'numbness',\n",
              " 'cardiac',\n",
              " 'cox',\n",
              " 'infections',\n",
              " 'severe',\n",
              " 'deficit',\n",
              " 'permeation',\n",
              " 'very',\n",
              " 'they',\n",
              " 'sweating',\n",
              " 'coated',\n",
              " 'treatments',\n",
              " 'mice',\n",
              " 'secondary',\n",
              " 'daytime',\n",
              " 'free',\n",
              " 'sensation',\n",
              " 'aim',\n",
              " 'suggest',\n",
              " 'na',\n",
              " 'multiple',\n",
              " 'inhibitor',\n",
              " 'quality',\n",
              " 'shown',\n",
              " 'temperature',\n",
              " 'per',\n",
              " 'vomiting',\n",
              " 'inhibition',\n",
              " 'formation',\n",
              " 'presence',\n",
              " 'rheumatoid',\n",
              " 'pulmonary',\n",
              " 'whereas',\n",
              " 'end',\n",
              " 'trials',\n",
              " 'months',\n",
              " 'further',\n",
              " 'volunteers',\n",
              " 'indicated',\n",
              " 'risk',\n",
              " 'agent',\n",
              " 'area',\n",
              " 'dosage',\n",
              " 'wide',\n",
              " 'various',\n",
              " 'difficulty',\n",
              " 'animals',\n",
              " 'prolonged',\n",
              " 'divided',\n",
              " 'still',\n",
              " 'early',\n",
              " 'localised',\n",
              " 'fluid',\n",
              " 'cerebral',\n",
              " 'dependence',\n",
              " 'distress',\n",
              " 'complex',\n",
              " 'onset',\n",
              " 'term',\n",
              " 'available',\n",
              " 'zombie',\n",
              " 'hepatic',\n",
              " 'facial',\n",
              " 'followed',\n",
              " 'standard',\n",
              " 'some',\n",
              " 'dermatitis',\n",
              " 'systemic',\n",
              " 'vas',\n",
              " 'mechanism',\n",
              " 'vehicle',\n",
              " 'suicidal',\n",
              " 'ocular',\n",
              " 'exposure',\n",
              " 'profile',\n",
              " 'intensity',\n",
              " 'rat',\n",
              " 'sleepiness',\n",
              " 'calcium',\n",
              " 'pharmaceutical',\n",
              " 'ibuprofen',\n",
              " 'asleep',\n",
              " 'disturbances',\n",
              " 'cm',\n",
              " 'improvement',\n",
              " 'experimental',\n",
              " 'elevated',\n",
              " 'cases',\n",
              " 'peak',\n",
              " 'conducted',\n",
              " 'evaluation',\n",
              " 'urinary',\n",
              " 'dysfunction',\n",
              " 'determine',\n",
              " 'cancer',\n",
              " 'cataract',\n",
              " 'although',\n",
              " 'improved',\n",
              " 'aggravated',\n",
              " 'moderate',\n",
              " 'stomach',\n",
              " 'agents',\n",
              " 'f',\n",
              " 'case',\n",
              " 'growth',\n",
              " 'content',\n",
              " 'female',\n",
              " 'de',\n",
              " 'protein',\n",
              " 'relative',\n",
              " 'death',\n",
              " 'hypertension',\n",
              " 'alcohol',\n",
              " 'microspheres',\n",
              " 'hallucinations',\n",
              " 'versus',\n",
              " 'combined',\n",
              " 'score',\n",
              " 'rapid',\n",
              " 'painful',\n",
              " 'glucose',\n",
              " 'being',\n",
              " 'mild',\n",
              " 'density',\n",
              " 'common',\n",
              " 'profiles',\n",
              " 'anger',\n",
              " 'social',\n",
              " 'peripheral',\n",
              " 'irritation',\n",
              " 'six',\n",
              " 'nightmares',\n",
              " 'depersonalization',\n",
              " 'down',\n",
              " 'cmax',\n",
              " 'age',\n",
              " 'depressive',\n",
              " 'among',\n",
              " 'oedema',\n",
              " 'chest',\n",
              " 'surface',\n",
              " 'need',\n",
              " 'produced',\n",
              " 'resulted',\n",
              " 'pre',\n",
              " \"'m\",\n",
              " 'volume',\n",
              " 'damage',\n",
              " 'long',\n",
              " 'anemia',\n",
              " 'th',\n",
              " 'including',\n",
              " 'complete',\n",
              " 'exhaustion',\n",
              " 'diabetic',\n",
              " 'tract',\n",
              " 'pharmacokinetic',\n",
              " 'vascular',\n",
              " 'performance',\n",
              " 'membrane',\n",
              " 'because',\n",
              " 'result',\n",
              " 'production',\n",
              " 'third',\n",
              " 'tolerated',\n",
              " 'amount',\n",
              " 'misoprostol',\n",
              " 'impairment',\n",
              " 'enteric',\n",
              " 'synthesis',\n",
              " 'necrosis',\n",
              " 'preparation',\n",
              " 'duration',\n",
              " 'analgesia',\n",
              " 'nervous',\n",
              " 'lesions',\n",
              " 'models',\n",
              " 'once',\n",
              " 'solid',\n",
              " 'flow',\n",
              " 'aspirin',\n",
              " 'year',\n",
              " 'creatinine',\n",
              " 'evidence',\n",
              " 'eating',\n",
              " 'achieved',\n",
              " 'plus',\n",
              " 'cross',\n",
              " 'five',\n",
              " 'interactions',\n",
              " 'least',\n",
              " 'tested',\n",
              " 'spasm',\n",
              " 'seizures',\n",
              " 'investigate',\n",
              " 'assessment',\n",
              " 'vivid',\n",
              " 'vision',\n",
              " 'physical',\n",
              " 'degrees',\n",
              " 'dizzy',\n",
              " 'expression',\n",
              " 'tolerance',\n",
              " 'beads',\n",
              " 'ventricular',\n",
              " 'medium',\n",
              " 'upper',\n",
              " 'product',\n",
              " 'methods',\n",
              " 'cd',\n",
              " 'arrest',\n",
              " 'toxicity',\n",
              " 'lack',\n",
              " 'injuries',\n",
              " 'memory',\n",
              " 'comparison',\n",
              " 'erythema',\n",
              " 'patch',\n",
              " 'show',\n",
              " 'o',\n",
              " 'diffusion',\n",
              " 'examined',\n",
              " 'enzyme',\n",
              " 'participants',\n",
              " 'second',\n",
              " 'reference',\n",
              " 'caused',\n",
              " 'ci',\n",
              " 'maximum',\n",
              " 'comparable',\n",
              " 'diabetes',\n",
              " 'thus',\n",
              " 'technique',\n",
              " 'old',\n",
              " 'foot',\n",
              " 'interaction',\n",
              " 'overall',\n",
              " 'delayed',\n",
              " 'should',\n",
              " 'extent',\n",
              " 'prostaglandin',\n",
              " 'outcome',\n",
              " 'rofecoxib',\n",
              " 'care',\n",
              " 'detection',\n",
              " 'count',\n",
              " 'inhibited',\n",
              " 'localized',\n",
              " 'major',\n",
              " 'determination',\n",
              " 'phosphate',\n",
              " 'pruritus',\n",
              " 'saline',\n",
              " 'value',\n",
              " 'intestinal',\n",
              " 'hunger',\n",
              " 'naproxen',\n",
              " 'face',\n",
              " 'influence',\n",
              " 'carried',\n",
              " 'uterine',\n",
              " 'pellets',\n",
              " 'novel',\n",
              " 'medications',\n",
              " 'bite',\n",
              " 'characterized',\n",
              " 'receiving',\n",
              " 'stress',\n",
              " 'then',\n",
              " 'neoplasm',\n",
              " 'index',\n",
              " 'review',\n",
              " 'specific',\n",
              " 'work',\n",
              " 'intramuscular',\n",
              " 'commercial',\n",
              " 'efficiency',\n",
              " 'ache',\n",
              " 'fever',\n",
              " 'according',\n",
              " 'findings',\n",
              " 'drops',\n",
              " 'tooth',\n",
              " 'paracetamol',\n",
              " 'nauseous',\n",
              " 'flare',\n",
              " 'degree',\n",
              " 'every',\n",
              " 'therefore',\n",
              " 'crazy',\n",
              " 'antiinflammatory',\n",
              " 'global',\n",
              " 'small',\n",
              " 'affect',\n",
              " 'responses',\n",
              " 'intoxication',\n",
              " 'back',\n",
              " 'lung',\n",
              " 'provide',\n",
              " 'you',\n",
              " 'inhibitors',\n",
              " 'dic',\n",
              " 'life',\n",
              " 'compulsive',\n",
              " 'tissues',\n",
              " 'hplc',\n",
              " 'considered',\n",
              " 'nm',\n",
              " 'recorded',\n",
              " 'shoulder',\n",
              " 'bulimia',\n",
              " 'loaded',\n",
              " 'against',\n",
              " 'transdermal',\n",
              " 'cold',\n",
              " 'activities',\n",
              " 'will',\n",
              " 'capsules',\n",
              " 'abuse',\n",
              " 'possible',\n",
              " 'even',\n",
              " 'research',\n",
              " 'forms',\n",
              " 'clinically',\n",
              " 'design',\n",
              " 'incidence',\n",
              " 'withdrawals',\n",
              " 'taking',\n",
              " 'indicate',\n",
              " 'alpha',\n",
              " 'food',\n",
              " 'cardiovascular',\n",
              " 'adderall',\n",
              " 'superior',\n",
              " 'lipoprotein',\n",
              " 'pge',\n",
              " 'positive',\n",
              " 'emotional',\n",
              " 'microg',\n",
              " 'analyzed',\n",
              " 'malignant',\n",
              " 'euphoric',\n",
              " 'way',\n",
              " 'your',\n",
              " 'characteristics',\n",
              " 'buffer',\n",
              " 'max',\n",
              " 'lipid',\n",
              " 'provided',\n",
              " 'ketorolac',\n",
              " 'clearance',\n",
              " 'consciousness',\n",
              " 'preparations',\n",
              " 'central',\n",
              " 'short',\n",
              " 'rabbits',\n",
              " 'lesion',\n",
              " 'ldl',\n",
              " 'fear',\n",
              " 'dpsgc',\n",
              " 'r',\n",
              " 'co',\n",
              " 'impaired',\n",
              " 'diet',\n",
              " 'assess',\n",
              " 'kinetics',\n",
              " 'nasal',\n",
              " 'solubility',\n",
              " 'structure',\n",
              " 'if',\n",
              " 'twice',\n",
              " 'extraction',\n",
              " 'current',\n",
              " 'partial',\n",
              " 'cramps',\n",
              " 'excretion',\n",
              " 'nerve',\n",
              " 'sneezing',\n",
              " 'health',\n",
              " 'do',\n",
              " 'block',\n",
              " 'increasing',\n",
              " 'terms',\n",
              " 'modified',\n",
              " 'beta',\n",
              " 'celecoxib',\n",
              " 'cream',\n",
              " 'genital',\n",
              " 'asthma',\n",
              " 'drowsy',\n",
              " 'bleeding',\n",
              " 'objective',\n",
              " 'hepatitis',\n",
              " 'factor',\n",
              " 'neoplasms',\n",
              " 'highly',\n",
              " 'enhanced',\n",
              " 'hurt',\n",
              " 'across',\n",
              " 'pneumonia',\n",
              " 'role',\n",
              " 'examination',\n",
              " 'animal',\n",
              " 'tests',\n",
              " 'thirst',\n",
              " 'simple',\n",
              " 'fast',\n",
              " 'randomised',\n",
              " 'whether',\n",
              " 'right',\n",
              " 'hand',\n",
              " 'sensitive',\n",
              " 'urticaria',\n",
              " 'overdose',\n",
              " 'open',\n",
              " 'point',\n",
              " 'speech',\n",
              " 'obstruction',\n",
              " 'aged',\n",
              " 'il',\n",
              " 'factors',\n",
              " 'important',\n",
              " 'tingling',\n",
              " 'artery',\n",
              " 'exhibited',\n",
              " 'personality',\n",
              " 'operative',\n",
              " 'chitosan',\n",
              " 'media',\n",
              " 'known',\n",
              " 'cause',\n",
              " 'tendency',\n",
              " 'sexual',\n",
              " 'cambia',\n",
              " 'sr',\n",
              " 'gi',\n",
              " 'rates',\n",
              " 'hungry',\n",
              " 'receive',\n",
              " 'collected',\n",
              " 'ophthalmic',\n",
              " 'fractures',\n",
              " 'made',\n",
              " 'eudragit',\n",
              " 'erection',\n",
              " 'electrocardiogram',\n",
              " 'systems',\n",
              " 'several',\n",
              " 'metabolism',\n",
              " 'management',\n",
              " 'binding',\n",
              " 'additional',\n",
              " 'scanning',\n",
              " 'coronary',\n",
              " 'zero',\n",
              " 'tongue',\n",
              " 'seen',\n",
              " 'reducing',\n",
              " 'mass',\n",
              " 'capsule',\n",
              " 'microm',\n",
              " 'does',\n",
              " 'get',\n",
              " 'faster',\n",
              " 'tenderness',\n",
              " 'candidiasis',\n",
              " 'large',\n",
              " 'hp',\n",
              " 'orally',\n",
              " 'chemical',\n",
              " 'headaches',\n",
              " 'traumatic',\n",
              " 'reduce',\n",
              " 'particle',\n",
              " 'many',\n",
              " 'colitis',\n",
              " 'general',\n",
              " 'procedure',\n",
              " 'episode',\n",
              " 'tmax',\n",
              " 'sd',\n",
              " 'cs',\n",
              " 'arterial',\n",
              " 'collagen',\n",
              " 'cyclooxygenase',\n",
              " 'generalized',\n",
              " 'oil',\n",
              " 'stability',\n",
              " 'potent',\n",
              " 'designed',\n",
              " 'solutions',\n",
              " 'crossover',\n",
              " 'dosing',\n",
              " 'released',\n",
              " 'dfs',\n",
              " 'substance',\n",
              " 'penetration',\n",
              " 'established',\n",
              " 'selected',\n",
              " 'symptom',\n",
              " 'cutaneous',\n",
              " 'assigned',\n",
              " 'musculoskeletal',\n",
              " 'sweat',\n",
              " 'required',\n",
              " 'criteria',\n",
              " 'lightheadedness',\n",
              " 'intake',\n",
              " 'steroid',\n",
              " 'since',\n",
              " 'status',\n",
              " 'information',\n",
              " 'absence',\n",
              " 'much',\n",
              " 'selective',\n",
              " 'confirmed',\n",
              " 'ability',\n",
              " 'altered',\n",
              " 'pattern',\n",
              " 'analgesics',\n",
              " 'needed',\n",
              " 'laboratory',\n",
              " 'follow',\n",
              " 'detected',\n",
              " 'hpmc',\n",
              " 'intravenous',\n",
              " 'effectiveness',\n",
              " 'interest',\n",
              " 'obsessive',\n",
              " 'affected',\n",
              " 'soft',\n",
              " 'arthrotec',\n",
              " 'aes',\n",
              " 'assay',\n",
              " 'make',\n",
              " 'serious',\n",
              " 'binge',\n",
              " 'salt',\n",
              " 'adult',\n",
              " 'muscular',\n",
              " 'widely',\n",
              " 'ischemia',\n",
              " 'excessive',\n",
              " 'ear',\n",
              " 'occurred',\n",
              " 'dcf',\n",
              " 'fracture',\n",
              " 'experiments',\n",
              " 'colic',\n",
              " 'alginate',\n",
              " 'alternative',\n",
              " 'seven',\n",
              " 'limit',\n",
              " 'laser',\n",
              " 'mouth',\n",
              " 'infusion',\n",
              " 'eight',\n",
              " 'experienced',\n",
              " 'libido',\n",
              " 'insufficiency',\n",
              " 'linear',\n",
              " 'myocardial',\n",
              " 'metastatic',\n",
              " ...]"
            ]
          },
          "metadata": {
            "tags": []
          },
          "execution_count": 18
        }
      ]
    },
    {
      "cell_type": "code",
      "metadata": {
        "id": "yPWr03mls3VT",
        "outputId": "c10b925f-cc5d-4060-898b-f5dacec36911",
        "colab": {
          "base_uri": "https://localhost:8080/",
          "height": 17
        }
      },
      "source": [
        "model_path = path/'models'\n",
        "model_path.mkdir(exist_ok=True)\n",
        "url = 'http://files.fast.ai/models/wt103_v1/'\n",
        "download_url(f'{url}lstm_wt103.pth', model_path/'lstm_wt103.pth')\n",
        "download_url(f'{url}itos_wt103.pkl', model_path/'itos_wt103.pkl')"
      ],
      "execution_count": 19,
      "outputs": [
        {
          "output_type": "display_data",
          "data": {
            "text/html": [
              ""
            ],
            "text/plain": [
              "<IPython.core.display.HTML object>"
            ]
          },
          "metadata": {
            "tags": []
          }
        },
        {
          "output_type": "display_data",
          "data": {
            "text/html": [
              ""
            ],
            "text/plain": [
              "<IPython.core.display.HTML object>"
            ]
          },
          "metadata": {
            "tags": []
          }
        }
      ]
    },
    {
      "cell_type": "code",
      "metadata": {
        "id": "JRzvWg8RtGGr",
        "outputId": "6d8b392f-3850-4ea3-ee1a-de9c5a2f5275",
        "colab": {
          "base_uri": "https://localhost:8080/",
          "height": 34
        }
      },
      "source": [
        "learn = language_model_learner(data_lm, AWD_LSTM, drop_mult=0.5)"
      ],
      "execution_count": 20,
      "outputs": [
        {
          "output_type": "stream",
          "text": [
            "Downloading https://s3.amazonaws.com/fast-ai-modelzoo/wt103-fwd.tgz\n"
          ],
          "name": "stdout"
        },
        {
          "output_type": "display_data",
          "data": {
            "text/html": [
              ""
            ],
            "text/plain": [
              "<IPython.core.display.HTML object>"
            ]
          },
          "metadata": {
            "tags": []
          }
        }
      ]
    },
    {
      "cell_type": "code",
      "metadata": {
        "id": "xKK7GeBev7Xn",
        "outputId": "a720fbbe-1e87-4ed7-c6b4-ffc35b9f439d",
        "colab": {
          "base_uri": "https://localhost:8080/",
          "height": 80
        }
      },
      "source": [
        "learn.fit_one_cycle(1, 1e-2)"
      ],
      "execution_count": 21,
      "outputs": [
        {
          "output_type": "display_data",
          "data": {
            "text/html": [
              "<table border=\"1\" class=\"dataframe\">\n",
              "  <thead>\n",
              "    <tr style=\"text-align: left;\">\n",
              "      <th>epoch</th>\n",
              "      <th>train_loss</th>\n",
              "      <th>valid_loss</th>\n",
              "      <th>accuracy</th>\n",
              "      <th>time</th>\n",
              "    </tr>\n",
              "  </thead>\n",
              "  <tbody>\n",
              "    <tr>\n",
              "      <td>0</td>\n",
              "      <td>4.842000</td>\n",
              "      <td>4.177683</td>\n",
              "      <td>0.351494</td>\n",
              "      <td>15:46</td>\n",
              "    </tr>\n",
              "  </tbody>\n",
              "</table>"
            ],
            "text/plain": [
              "<IPython.core.display.HTML object>"
            ]
          },
          "metadata": {
            "tags": []
          }
        }
      ]
    },
    {
      "cell_type": "code",
      "metadata": {
        "id": "iB7rHGQCwd12",
        "outputId": "884b0d23-c988-4cbb-9510-be13d79ddf84",
        "colab": {
          "base_uri": "https://localhost:8080/",
          "height": 80
        }
      },
      "source": [
        "learn.fit_one_cycle(1, 1e-2)"
      ],
      "execution_count": 22,
      "outputs": [
        {
          "output_type": "display_data",
          "data": {
            "text/html": [
              "<table border=\"1\" class=\"dataframe\">\n",
              "  <thead>\n",
              "    <tr style=\"text-align: left;\">\n",
              "      <th>epoch</th>\n",
              "      <th>train_loss</th>\n",
              "      <th>valid_loss</th>\n",
              "      <th>accuracy</th>\n",
              "      <th>time</th>\n",
              "    </tr>\n",
              "  </thead>\n",
              "  <tbody>\n",
              "    <tr>\n",
              "      <td>0</td>\n",
              "      <td>4.043366</td>\n",
              "      <td>3.786264</td>\n",
              "      <td>0.386435</td>\n",
              "      <td>15:38</td>\n",
              "    </tr>\n",
              "  </tbody>\n",
              "</table>"
            ],
            "text/plain": [
              "<IPython.core.display.HTML object>"
            ]
          },
          "metadata": {
            "tags": []
          }
        }
      ]
    },
    {
      "cell_type": "code",
      "metadata": {
        "id": "_BnSuAeCwkBe",
        "outputId": "a8607005-4cd7-4779-ca7a-4802ddad092e",
        "colab": {
          "base_uri": "https://localhost:8080/",
          "height": 80
        }
      },
      "source": [
        "learn.fit_one_cycle(1, 1e-3)"
      ],
      "execution_count": 23,
      "outputs": [
        {
          "output_type": "display_data",
          "data": {
            "text/html": [
              "<table border=\"1\" class=\"dataframe\">\n",
              "  <thead>\n",
              "    <tr style=\"text-align: left;\">\n",
              "      <th>epoch</th>\n",
              "      <th>train_loss</th>\n",
              "      <th>valid_loss</th>\n",
              "      <th>accuracy</th>\n",
              "      <th>time</th>\n",
              "    </tr>\n",
              "  </thead>\n",
              "  <tbody>\n",
              "    <tr>\n",
              "      <td>0</td>\n",
              "      <td>3.733979</td>\n",
              "      <td>3.738708</td>\n",
              "      <td>0.391415</td>\n",
              "      <td>15:40</td>\n",
              "    </tr>\n",
              "  </tbody>\n",
              "</table>"
            ],
            "text/plain": [
              "<IPython.core.display.HTML object>"
            ]
          },
          "metadata": {
            "tags": []
          }
        }
      ]
    },
    {
      "cell_type": "code",
      "metadata": {
        "id": "MuTm-RFjwrEX",
        "outputId": "1afb317b-0ca4-43f6-b1a4-5caf8c665c63",
        "colab": {
          "base_uri": "https://localhost:8080/",
          "height": 80
        }
      },
      "source": [
        "learn.fit_one_cycle(1, 1e-3)"
      ],
      "execution_count": 24,
      "outputs": [
        {
          "output_type": "display_data",
          "data": {
            "text/html": [
              "<table border=\"1\" class=\"dataframe\">\n",
              "  <thead>\n",
              "    <tr style=\"text-align: left;\">\n",
              "      <th>epoch</th>\n",
              "      <th>train_loss</th>\n",
              "      <th>valid_loss</th>\n",
              "      <th>accuracy</th>\n",
              "      <th>time</th>\n",
              "    </tr>\n",
              "  </thead>\n",
              "  <tbody>\n",
              "    <tr>\n",
              "      <td>0</td>\n",
              "      <td>3.690859</td>\n",
              "      <td>3.706515</td>\n",
              "      <td>0.394557</td>\n",
              "      <td>15:47</td>\n",
              "    </tr>\n",
              "  </tbody>\n",
              "</table>"
            ],
            "text/plain": [
              "<IPython.core.display.HTML object>"
            ]
          },
          "metadata": {
            "tags": []
          }
        }
      ]
    },
    {
      "cell_type": "code",
      "metadata": {
        "id": "1Er2ExO8wr7Y"
      },
      "source": [
        "learn.save_encoder('TwADR_pubmed_fold4_first')"
      ],
      "execution_count": 25,
      "outputs": []
    },
    {
      "cell_type": "code",
      "metadata": {
        "id": "z52cZs2qwvad",
        "outputId": "ccc6bd42-1c2f-4019-8f96-a2dfd65e2826",
        "colab": {
          "base_uri": "https://localhost:8080/",
          "height": 80
        }
      },
      "source": [
        "learn = text_classifier_learner(data_clas,AWD_LSTM, drop_mult=0.5)\n",
        "learn.load_encoder('TwADR_pubmed_fold4_first')\n",
        "learn.fit_one_cycle(1, 1e-2)"
      ],
      "execution_count": 26,
      "outputs": [
        {
          "output_type": "display_data",
          "data": {
            "text/html": [
              "<table border=\"1\" class=\"dataframe\">\n",
              "  <thead>\n",
              "    <tr style=\"text-align: left;\">\n",
              "      <th>epoch</th>\n",
              "      <th>train_loss</th>\n",
              "      <th>valid_loss</th>\n",
              "      <th>accuracy</th>\n",
              "      <th>time</th>\n",
              "    </tr>\n",
              "  </thead>\n",
              "  <tbody>\n",
              "    <tr>\n",
              "      <td>0</td>\n",
              "      <td>7.205054</td>\n",
              "      <td>6.546072</td>\n",
              "      <td>0.091667</td>\n",
              "      <td>00:25</td>\n",
              "    </tr>\n",
              "  </tbody>\n",
              "</table>"
            ],
            "text/plain": [
              "<IPython.core.display.HTML object>"
            ]
          },
          "metadata": {
            "tags": []
          }
        }
      ]
    },
    {
      "cell_type": "code",
      "metadata": {
        "id": "ImwQP1PJwzxd",
        "outputId": "be7dc0d8-50dd-48c8-b0cc-70e1e7430a02",
        "colab": {
          "base_uri": "https://localhost:8080/",
          "height": 80
        }
      },
      "source": [
        "learn.freeze_to(-2)\n",
        "learn.fit_one_cycle(1, slice(5e-3/2., 5e-3))"
      ],
      "execution_count": 27,
      "outputs": [
        {
          "output_type": "display_data",
          "data": {
            "text/html": [
              "<table border=\"1\" class=\"dataframe\">\n",
              "  <thead>\n",
              "    <tr style=\"text-align: left;\">\n",
              "      <th>epoch</th>\n",
              "      <th>train_loss</th>\n",
              "      <th>valid_loss</th>\n",
              "      <th>accuracy</th>\n",
              "      <th>time</th>\n",
              "    </tr>\n",
              "  </thead>\n",
              "  <tbody>\n",
              "    <tr>\n",
              "      <td>0</td>\n",
              "      <td>6.250976</td>\n",
              "      <td>5.724273</td>\n",
              "      <td>0.150000</td>\n",
              "      <td>00:24</td>\n",
              "    </tr>\n",
              "  </tbody>\n",
              "</table>"
            ],
            "text/plain": [
              "<IPython.core.display.HTML object>"
            ]
          },
          "metadata": {
            "tags": []
          }
        }
      ]
    },
    {
      "cell_type": "code",
      "metadata": {
        "id": "Owff_BJXw53u",
        "outputId": "6859825e-60b6-4f02-a3fe-d2723ce42252",
        "colab": {
          "base_uri": "https://localhost:8080/",
          "height": 80
        }
      },
      "source": [
        "learn.unfreeze()\n",
        "learn.fit_one_cycle(1, slice(2e-3/100, 2e-3))"
      ],
      "execution_count": 28,
      "outputs": [
        {
          "output_type": "display_data",
          "data": {
            "text/html": [
              "<table border=\"1\" class=\"dataframe\">\n",
              "  <thead>\n",
              "    <tr style=\"text-align: left;\">\n",
              "      <th>epoch</th>\n",
              "      <th>train_loss</th>\n",
              "      <th>valid_loss</th>\n",
              "      <th>accuracy</th>\n",
              "      <th>time</th>\n",
              "    </tr>\n",
              "  </thead>\n",
              "  <tbody>\n",
              "    <tr>\n",
              "      <td>0</td>\n",
              "      <td>5.745228</td>\n",
              "      <td>5.131246</td>\n",
              "      <td>0.166667</td>\n",
              "      <td>01:04</td>\n",
              "    </tr>\n",
              "  </tbody>\n",
              "</table>"
            ],
            "text/plain": [
              "<IPython.core.display.HTML object>"
            ]
          },
          "metadata": {
            "tags": []
          }
        }
      ]
    },
    {
      "cell_type": "code",
      "metadata": {
        "id": "lqAyu56V8Waq",
        "outputId": "bc8441b8-b1ff-4218-ba30-3ced80250c6f",
        "colab": {
          "base_uri": "https://localhost:8080/",
          "height": 111
        }
      },
      "source": [
        "learn.fit_one_cycle(2, slice(2e-3/100, 2e-3))"
      ],
      "execution_count": 29,
      "outputs": [
        {
          "output_type": "display_data",
          "data": {
            "text/html": [
              "<table border=\"1\" class=\"dataframe\">\n",
              "  <thead>\n",
              "    <tr style=\"text-align: left;\">\n",
              "      <th>epoch</th>\n",
              "      <th>train_loss</th>\n",
              "      <th>valid_loss</th>\n",
              "      <th>accuracy</th>\n",
              "      <th>time</th>\n",
              "    </tr>\n",
              "  </thead>\n",
              "  <tbody>\n",
              "    <tr>\n",
              "      <td>0</td>\n",
              "      <td>5.438085</td>\n",
              "      <td>4.706786</td>\n",
              "      <td>0.175000</td>\n",
              "      <td>01:04</td>\n",
              "    </tr>\n",
              "    <tr>\n",
              "      <td>1</td>\n",
              "      <td>5.226608</td>\n",
              "      <td>4.589098</td>\n",
              "      <td>0.225000</td>\n",
              "      <td>01:01</td>\n",
              "    </tr>\n",
              "  </tbody>\n",
              "</table>"
            ],
            "text/plain": [
              "<IPython.core.display.HTML object>"
            ]
          },
          "metadata": {
            "tags": []
          }
        }
      ]
    },
    {
      "cell_type": "code",
      "metadata": {
        "id": "a7I1xMRp8bUd",
        "outputId": "62d3cb0b-171c-4377-daf6-bfca09c12fad",
        "colab": {
          "base_uri": "https://localhost:8080/",
          "height": 111
        }
      },
      "source": [
        "learn.fit_one_cycle(2, slice(2e-3/100, 2e-3))"
      ],
      "execution_count": 30,
      "outputs": [
        {
          "output_type": "display_data",
          "data": {
            "text/html": [
              "<table border=\"1\" class=\"dataframe\">\n",
              "  <thead>\n",
              "    <tr style=\"text-align: left;\">\n",
              "      <th>epoch</th>\n",
              "      <th>train_loss</th>\n",
              "      <th>valid_loss</th>\n",
              "      <th>accuracy</th>\n",
              "      <th>time</th>\n",
              "    </tr>\n",
              "  </thead>\n",
              "  <tbody>\n",
              "    <tr>\n",
              "      <td>0</td>\n",
              "      <td>4.986502</td>\n",
              "      <td>4.321394</td>\n",
              "      <td>0.258333</td>\n",
              "      <td>01:01</td>\n",
              "    </tr>\n",
              "    <tr>\n",
              "      <td>1</td>\n",
              "      <td>4.807708</td>\n",
              "      <td>4.221321</td>\n",
              "      <td>0.258333</td>\n",
              "      <td>01:02</td>\n",
              "    </tr>\n",
              "  </tbody>\n",
              "</table>"
            ],
            "text/plain": [
              "<IPython.core.display.HTML object>"
            ]
          },
          "metadata": {
            "tags": []
          }
        }
      ]
    },
    {
      "cell_type": "code",
      "metadata": {
        "id": "UAnti-XmGVfO",
        "outputId": "3b9aa995-6a95-4ab7-de7f-48c8ab5e32d4",
        "colab": {
          "base_uri": "https://localhost:8080/",
          "height": 111
        }
      },
      "source": [
        "learn.fit_one_cycle(2, slice(2e-3/100, 2e-3))"
      ],
      "execution_count": 31,
      "outputs": [
        {
          "output_type": "display_data",
          "data": {
            "text/html": [
              "<table border=\"1\" class=\"dataframe\">\n",
              "  <thead>\n",
              "    <tr style=\"text-align: left;\">\n",
              "      <th>epoch</th>\n",
              "      <th>train_loss</th>\n",
              "      <th>valid_loss</th>\n",
              "      <th>accuracy</th>\n",
              "      <th>time</th>\n",
              "    </tr>\n",
              "  </thead>\n",
              "  <tbody>\n",
              "    <tr>\n",
              "      <td>0</td>\n",
              "      <td>4.572659</td>\n",
              "      <td>4.142347</td>\n",
              "      <td>0.275000</td>\n",
              "      <td>00:59</td>\n",
              "    </tr>\n",
              "    <tr>\n",
              "      <td>1</td>\n",
              "      <td>4.416861</td>\n",
              "      <td>3.966407</td>\n",
              "      <td>0.325000</td>\n",
              "      <td>00:59</td>\n",
              "    </tr>\n",
              "  </tbody>\n",
              "</table>"
            ],
            "text/plain": [
              "<IPython.core.display.HTML object>"
            ]
          },
          "metadata": {
            "tags": []
          }
        }
      ]
    },
    {
      "cell_type": "code",
      "metadata": {
        "id": "bIft7W25GwSu",
        "outputId": "26af3f52-56b4-4d26-a62f-1a83982786c8",
        "colab": {
          "base_uri": "https://localhost:8080/",
          "height": 111
        }
      },
      "source": [
        "learn.fit_one_cycle(2, slice(2e-3/100, 2e-3))"
      ],
      "execution_count": 32,
      "outputs": [
        {
          "output_type": "display_data",
          "data": {
            "text/html": [
              "<table border=\"1\" class=\"dataframe\">\n",
              "  <thead>\n",
              "    <tr style=\"text-align: left;\">\n",
              "      <th>epoch</th>\n",
              "      <th>train_loss</th>\n",
              "      <th>valid_loss</th>\n",
              "      <th>accuracy</th>\n",
              "      <th>time</th>\n",
              "    </tr>\n",
              "  </thead>\n",
              "  <tbody>\n",
              "    <tr>\n",
              "      <td>0</td>\n",
              "      <td>4.214502</td>\n",
              "      <td>3.840574</td>\n",
              "      <td>0.316667</td>\n",
              "      <td>01:04</td>\n",
              "    </tr>\n",
              "    <tr>\n",
              "      <td>1</td>\n",
              "      <td>4.070415</td>\n",
              "      <td>3.812047</td>\n",
              "      <td>0.283333</td>\n",
              "      <td>01:02</td>\n",
              "    </tr>\n",
              "  </tbody>\n",
              "</table>"
            ],
            "text/plain": [
              "<IPython.core.display.HTML object>"
            ]
          },
          "metadata": {
            "tags": []
          }
        }
      ]
    },
    {
      "cell_type": "code",
      "metadata": {
        "id": "EEHszVRvGyFt",
        "outputId": "df42c7dc-65b6-4f3c-c716-4602f74a97d0",
        "colab": {
          "base_uri": "https://localhost:8080/",
          "height": 111
        }
      },
      "source": [
        "learn.fit_one_cycle(2, slice(2e-3/100, 2e-3))"
      ],
      "execution_count": 33,
      "outputs": [
        {
          "output_type": "display_data",
          "data": {
            "text/html": [
              "<table border=\"1\" class=\"dataframe\">\n",
              "  <thead>\n",
              "    <tr style=\"text-align: left;\">\n",
              "      <th>epoch</th>\n",
              "      <th>train_loss</th>\n",
              "      <th>valid_loss</th>\n",
              "      <th>accuracy</th>\n",
              "      <th>time</th>\n",
              "    </tr>\n",
              "  </thead>\n",
              "  <tbody>\n",
              "    <tr>\n",
              "      <td>0</td>\n",
              "      <td>3.902004</td>\n",
              "      <td>3.727372</td>\n",
              "      <td>0.366667</td>\n",
              "      <td>01:08</td>\n",
              "    </tr>\n",
              "    <tr>\n",
              "      <td>1</td>\n",
              "      <td>3.760525</td>\n",
              "      <td>3.700618</td>\n",
              "      <td>0.341667</td>\n",
              "      <td>01:03</td>\n",
              "    </tr>\n",
              "  </tbody>\n",
              "</table>"
            ],
            "text/plain": [
              "<IPython.core.display.HTML object>"
            ]
          },
          "metadata": {
            "tags": []
          }
        }
      ]
    },
    {
      "cell_type": "code",
      "metadata": {
        "id": "XsHfrhCHG3dN",
        "outputId": "8c9b41e4-8341-4863-b604-7485ca054366",
        "colab": {
          "base_uri": "https://localhost:8080/",
          "height": 173
        }
      },
      "source": [
        "learn.fit_one_cycle(4, slice(2e-3/100, 2e-3))"
      ],
      "execution_count": 34,
      "outputs": [
        {
          "output_type": "display_data",
          "data": {
            "text/html": [
              "<table border=\"1\" class=\"dataframe\">\n",
              "  <thead>\n",
              "    <tr style=\"text-align: left;\">\n",
              "      <th>epoch</th>\n",
              "      <th>train_loss</th>\n",
              "      <th>valid_loss</th>\n",
              "      <th>accuracy</th>\n",
              "      <th>time</th>\n",
              "    </tr>\n",
              "  </thead>\n",
              "  <tbody>\n",
              "    <tr>\n",
              "      <td>0</td>\n",
              "      <td>3.569719</td>\n",
              "      <td>3.637098</td>\n",
              "      <td>0.333333</td>\n",
              "      <td>01:00</td>\n",
              "    </tr>\n",
              "    <tr>\n",
              "      <td>1</td>\n",
              "      <td>3.493597</td>\n",
              "      <td>3.597358</td>\n",
              "      <td>0.308333</td>\n",
              "      <td>01:00</td>\n",
              "    </tr>\n",
              "    <tr>\n",
              "      <td>2</td>\n",
              "      <td>3.322882</td>\n",
              "      <td>3.514940</td>\n",
              "      <td>0.408333</td>\n",
              "      <td>01:02</td>\n",
              "    </tr>\n",
              "    <tr>\n",
              "      <td>3</td>\n",
              "      <td>3.158712</td>\n",
              "      <td>3.516770</td>\n",
              "      <td>0.400000</td>\n",
              "      <td>01:03</td>\n",
              "    </tr>\n",
              "  </tbody>\n",
              "</table>"
            ],
            "text/plain": [
              "<IPython.core.display.HTML object>"
            ]
          },
          "metadata": {
            "tags": []
          }
        }
      ]
    },
    {
      "cell_type": "code",
      "metadata": {
        "id": "0Zsd99isb9EQ",
        "outputId": "3aeb5424-9af5-4808-cce1-22f9dafd282c",
        "colab": {
          "base_uri": "https://localhost:8080/",
          "height": 173
        }
      },
      "source": [
        "learn.fit_one_cycle(4, slice(2e-3/100, 2e-3))"
      ],
      "execution_count": 35,
      "outputs": [
        {
          "output_type": "display_data",
          "data": {
            "text/html": [
              "<table border=\"1\" class=\"dataframe\">\n",
              "  <thead>\n",
              "    <tr style=\"text-align: left;\">\n",
              "      <th>epoch</th>\n",
              "      <th>train_loss</th>\n",
              "      <th>valid_loss</th>\n",
              "      <th>accuracy</th>\n",
              "      <th>time</th>\n",
              "    </tr>\n",
              "  </thead>\n",
              "  <tbody>\n",
              "    <tr>\n",
              "      <td>0</td>\n",
              "      <td>2.997350</td>\n",
              "      <td>3.506801</td>\n",
              "      <td>0.408333</td>\n",
              "      <td>00:59</td>\n",
              "    </tr>\n",
              "    <tr>\n",
              "      <td>1</td>\n",
              "      <td>2.921129</td>\n",
              "      <td>3.485883</td>\n",
              "      <td>0.366667</td>\n",
              "      <td>01:02</td>\n",
              "    </tr>\n",
              "    <tr>\n",
              "      <td>2</td>\n",
              "      <td>2.732234</td>\n",
              "      <td>3.425692</td>\n",
              "      <td>0.433333</td>\n",
              "      <td>01:04</td>\n",
              "    </tr>\n",
              "    <tr>\n",
              "      <td>3</td>\n",
              "      <td>2.564222</td>\n",
              "      <td>3.387824</td>\n",
              "      <td>0.433333</td>\n",
              "      <td>01:02</td>\n",
              "    </tr>\n",
              "  </tbody>\n",
              "</table>"
            ],
            "text/plain": [
              "<IPython.core.display.HTML object>"
            ]
          },
          "metadata": {
            "tags": []
          }
        }
      ]
    },
    {
      "cell_type": "code",
      "metadata": {
        "id": "atNWNKDFPbuI",
        "outputId": "5b78e6b8-81fb-4f72-8080-fbb53d9ccae4",
        "colab": {
          "base_uri": "https://localhost:8080/",
          "height": 173
        }
      },
      "source": [
        "learn.fit_one_cycle(4, slice(2e-3/100, 2e-3))"
      ],
      "execution_count": 36,
      "outputs": [
        {
          "output_type": "display_data",
          "data": {
            "text/html": [
              "<table border=\"1\" class=\"dataframe\">\n",
              "  <thead>\n",
              "    <tr style=\"text-align: left;\">\n",
              "      <th>epoch</th>\n",
              "      <th>train_loss</th>\n",
              "      <th>valid_loss</th>\n",
              "      <th>accuracy</th>\n",
              "      <th>time</th>\n",
              "    </tr>\n",
              "  </thead>\n",
              "  <tbody>\n",
              "    <tr>\n",
              "      <td>0</td>\n",
              "      <td>2.448110</td>\n",
              "      <td>3.482567</td>\n",
              "      <td>0.400000</td>\n",
              "      <td>00:58</td>\n",
              "    </tr>\n",
              "    <tr>\n",
              "      <td>1</td>\n",
              "      <td>2.372349</td>\n",
              "      <td>3.558305</td>\n",
              "      <td>0.358333</td>\n",
              "      <td>01:00</td>\n",
              "    </tr>\n",
              "    <tr>\n",
              "      <td>2</td>\n",
              "      <td>2.207558</td>\n",
              "      <td>3.426339</td>\n",
              "      <td>0.375000</td>\n",
              "      <td>01:01</td>\n",
              "    </tr>\n",
              "    <tr>\n",
              "      <td>3</td>\n",
              "      <td>2.090102</td>\n",
              "      <td>3.461089</td>\n",
              "      <td>0.350000</td>\n",
              "      <td>00:59</td>\n",
              "    </tr>\n",
              "  </tbody>\n",
              "</table>"
            ],
            "text/plain": [
              "<IPython.core.display.HTML object>"
            ]
          },
          "metadata": {
            "tags": []
          }
        }
      ]
    },
    {
      "cell_type": "code",
      "metadata": {
        "id": "rKrBTZ0T1uVA",
        "outputId": "35978e12-77b1-472c-9535-8008b0bf66ab",
        "colab": {
          "base_uri": "https://localhost:8080/",
          "height": 173
        }
      },
      "source": [
        "learn.fit_one_cycle(4, slice(2e-3/100, 2e-3))"
      ],
      "execution_count": 37,
      "outputs": [
        {
          "output_type": "display_data",
          "data": {
            "text/html": [
              "<table border=\"1\" class=\"dataframe\">\n",
              "  <thead>\n",
              "    <tr style=\"text-align: left;\">\n",
              "      <th>epoch</th>\n",
              "      <th>train_loss</th>\n",
              "      <th>valid_loss</th>\n",
              "      <th>accuracy</th>\n",
              "      <th>time</th>\n",
              "    </tr>\n",
              "  </thead>\n",
              "  <tbody>\n",
              "    <tr>\n",
              "      <td>0</td>\n",
              "      <td>1.941489</td>\n",
              "      <td>3.386345</td>\n",
              "      <td>0.391667</td>\n",
              "      <td>01:03</td>\n",
              "    </tr>\n",
              "    <tr>\n",
              "      <td>1</td>\n",
              "      <td>1.904890</td>\n",
              "      <td>3.454435</td>\n",
              "      <td>0.400000</td>\n",
              "      <td>01:04</td>\n",
              "    </tr>\n",
              "    <tr>\n",
              "      <td>2</td>\n",
              "      <td>1.784073</td>\n",
              "      <td>3.499000</td>\n",
              "      <td>0.408333</td>\n",
              "      <td>01:01</td>\n",
              "    </tr>\n",
              "    <tr>\n",
              "      <td>3</td>\n",
              "      <td>1.628874</td>\n",
              "      <td>3.442484</td>\n",
              "      <td>0.425000</td>\n",
              "      <td>01:01</td>\n",
              "    </tr>\n",
              "  </tbody>\n",
              "</table>"
            ],
            "text/plain": [
              "<IPython.core.display.HTML object>"
            ]
          },
          "metadata": {
            "tags": []
          }
        }
      ]
    },
    {
      "cell_type": "code",
      "metadata": {
        "id": "ajQC6WDg1yA9",
        "outputId": "a4c1ea2e-e3ae-4bec-9e73-baa1fe01ef3d",
        "colab": {
          "base_uri": "https://localhost:8080/",
          "height": 173
        }
      },
      "source": [
        "learn.fit_one_cycle(4, slice(2e-3/100, 2e-3))"
      ],
      "execution_count": 38,
      "outputs": [
        {
          "output_type": "display_data",
          "data": {
            "text/html": [
              "<table border=\"1\" class=\"dataframe\">\n",
              "  <thead>\n",
              "    <tr style=\"text-align: left;\">\n",
              "      <th>epoch</th>\n",
              "      <th>train_loss</th>\n",
              "      <th>valid_loss</th>\n",
              "      <th>accuracy</th>\n",
              "      <th>time</th>\n",
              "    </tr>\n",
              "  </thead>\n",
              "  <tbody>\n",
              "    <tr>\n",
              "      <td>0</td>\n",
              "      <td>1.510908</td>\n",
              "      <td>3.480734</td>\n",
              "      <td>0.400000</td>\n",
              "      <td>01:03</td>\n",
              "    </tr>\n",
              "    <tr>\n",
              "      <td>1</td>\n",
              "      <td>1.471902</td>\n",
              "      <td>3.598947</td>\n",
              "      <td>0.375000</td>\n",
              "      <td>01:04</td>\n",
              "    </tr>\n",
              "    <tr>\n",
              "      <td>2</td>\n",
              "      <td>1.371918</td>\n",
              "      <td>3.448247</td>\n",
              "      <td>0.400000</td>\n",
              "      <td>01:03</td>\n",
              "    </tr>\n",
              "    <tr>\n",
              "      <td>3</td>\n",
              "      <td>1.239963</td>\n",
              "      <td>3.489529</td>\n",
              "      <td>0.400000</td>\n",
              "      <td>01:06</td>\n",
              "    </tr>\n",
              "  </tbody>\n",
              "</table>"
            ],
            "text/plain": [
              "<IPython.core.display.HTML object>"
            ]
          },
          "metadata": {
            "tags": []
          }
        }
      ]
    },
    {
      "cell_type": "code",
      "metadata": {
        "id": "KKydb0B4BKGk",
        "outputId": "610bc300-36ee-4ad6-cd75-2832e580ae95",
        "colab": {
          "base_uri": "https://localhost:8080/",
          "height": 173
        }
      },
      "source": [
        "learn.fit_one_cycle(4, slice(2e-3/100, 2e-3))"
      ],
      "execution_count": 39,
      "outputs": [
        {
          "output_type": "display_data",
          "data": {
            "text/html": [
              "<table border=\"1\" class=\"dataframe\">\n",
              "  <thead>\n",
              "    <tr style=\"text-align: left;\">\n",
              "      <th>epoch</th>\n",
              "      <th>train_loss</th>\n",
              "      <th>valid_loss</th>\n",
              "      <th>accuracy</th>\n",
              "      <th>time</th>\n",
              "    </tr>\n",
              "  </thead>\n",
              "  <tbody>\n",
              "    <tr>\n",
              "      <td>0</td>\n",
              "      <td>1.142132</td>\n",
              "      <td>3.510531</td>\n",
              "      <td>0.383333</td>\n",
              "      <td>01:00</td>\n",
              "    </tr>\n",
              "    <tr>\n",
              "      <td>1</td>\n",
              "      <td>1.169466</td>\n",
              "      <td>3.595794</td>\n",
              "      <td>0.366667</td>\n",
              "      <td>01:01</td>\n",
              "    </tr>\n",
              "    <tr>\n",
              "      <td>2</td>\n",
              "      <td>1.085663</td>\n",
              "      <td>3.586222</td>\n",
              "      <td>0.375000</td>\n",
              "      <td>00:59</td>\n",
              "    </tr>\n",
              "    <tr>\n",
              "      <td>3</td>\n",
              "      <td>0.979054</td>\n",
              "      <td>3.551101</td>\n",
              "      <td>0.391667</td>\n",
              "      <td>01:03</td>\n",
              "    </tr>\n",
              "  </tbody>\n",
              "</table>"
            ],
            "text/plain": [
              "<IPython.core.display.HTML object>"
            ]
          },
          "metadata": {
            "tags": []
          }
        }
      ]
    },
    {
      "cell_type": "code",
      "metadata": {
        "id": "T2APKtFKBpGY",
        "outputId": "a77d1b37-bf66-4443-8512-c69742300ee7",
        "colab": {
          "base_uri": "https://localhost:8080/",
          "height": 173
        }
      },
      "source": [
        "learn.fit_one_cycle(4, slice(2e-3/100, 2e-3))"
      ],
      "execution_count": 40,
      "outputs": [
        {
          "output_type": "display_data",
          "data": {
            "text/html": [
              "<table border=\"1\" class=\"dataframe\">\n",
              "  <thead>\n",
              "    <tr style=\"text-align: left;\">\n",
              "      <th>epoch</th>\n",
              "      <th>train_loss</th>\n",
              "      <th>valid_loss</th>\n",
              "      <th>accuracy</th>\n",
              "      <th>time</th>\n",
              "    </tr>\n",
              "  </thead>\n",
              "  <tbody>\n",
              "    <tr>\n",
              "      <td>0</td>\n",
              "      <td>0.914146</td>\n",
              "      <td>3.554577</td>\n",
              "      <td>0.400000</td>\n",
              "      <td>00:59</td>\n",
              "    </tr>\n",
              "    <tr>\n",
              "      <td>1</td>\n",
              "      <td>0.992914</td>\n",
              "      <td>3.738359</td>\n",
              "      <td>0.400000</td>\n",
              "      <td>01:01</td>\n",
              "    </tr>\n",
              "    <tr>\n",
              "      <td>2</td>\n",
              "      <td>0.905616</td>\n",
              "      <td>3.723634</td>\n",
              "      <td>0.358333</td>\n",
              "      <td>01:04</td>\n",
              "    </tr>\n",
              "    <tr>\n",
              "      <td>3</td>\n",
              "      <td>0.822702</td>\n",
              "      <td>3.732988</td>\n",
              "      <td>0.358333</td>\n",
              "      <td>01:03</td>\n",
              "    </tr>\n",
              "  </tbody>\n",
              "</table>"
            ],
            "text/plain": [
              "<IPython.core.display.HTML object>"
            ]
          },
          "metadata": {
            "tags": []
          }
        }
      ]
    },
    {
      "cell_type": "code",
      "metadata": {
        "id": "qtTypA1sPgLU",
        "outputId": "a54b2a48-db94-4608-9b51-eeeffdcf4f0b",
        "colab": {
          "base_uri": "https://localhost:8080/",
          "height": 111
        }
      },
      "source": [
        "learn.fit_one_cycle(2, slice(2e-3/100, 2e-3))"
      ],
      "execution_count": 41,
      "outputs": [
        {
          "output_type": "display_data",
          "data": {
            "text/html": [
              "<table border=\"1\" class=\"dataframe\">\n",
              "  <thead>\n",
              "    <tr style=\"text-align: left;\">\n",
              "      <th>epoch</th>\n",
              "      <th>train_loss</th>\n",
              "      <th>valid_loss</th>\n",
              "      <th>accuracy</th>\n",
              "      <th>time</th>\n",
              "    </tr>\n",
              "  </thead>\n",
              "  <tbody>\n",
              "    <tr>\n",
              "      <td>0</td>\n",
              "      <td>0.750544</td>\n",
              "      <td>3.731293</td>\n",
              "      <td>0.400000</td>\n",
              "      <td>01:01</td>\n",
              "    </tr>\n",
              "    <tr>\n",
              "      <td>1</td>\n",
              "      <td>0.716185</td>\n",
              "      <td>3.672532</td>\n",
              "      <td>0.400000</td>\n",
              "      <td>00:59</td>\n",
              "    </tr>\n",
              "  </tbody>\n",
              "</table>"
            ],
            "text/plain": [
              "<IPython.core.display.HTML object>"
            ]
          },
          "metadata": {
            "tags": []
          }
        }
      ]
    },
    {
      "cell_type": "code",
      "metadata": {
        "id": "b242kBsTUp9Y",
        "outputId": "ba331f35-e0e3-4311-9959-3a47613229ae",
        "colab": {
          "base_uri": "https://localhost:8080/",
          "height": 111
        }
      },
      "source": [
        "learn.fit_one_cycle(2, slice(2e-3/100, 2e-3))"
      ],
      "execution_count": 42,
      "outputs": [
        {
          "output_type": "display_data",
          "data": {
            "text/html": [
              "<table border=\"1\" class=\"dataframe\">\n",
              "  <thead>\n",
              "    <tr style=\"text-align: left;\">\n",
              "      <th>epoch</th>\n",
              "      <th>train_loss</th>\n",
              "      <th>valid_loss</th>\n",
              "      <th>accuracy</th>\n",
              "      <th>time</th>\n",
              "    </tr>\n",
              "  </thead>\n",
              "  <tbody>\n",
              "    <tr>\n",
              "      <td>0</td>\n",
              "      <td>0.721606</td>\n",
              "      <td>3.981314</td>\n",
              "      <td>0.350000</td>\n",
              "      <td>01:03</td>\n",
              "    </tr>\n",
              "    <tr>\n",
              "      <td>1</td>\n",
              "      <td>0.693167</td>\n",
              "      <td>3.766038</td>\n",
              "      <td>0.383333</td>\n",
              "      <td>01:01</td>\n",
              "    </tr>\n",
              "  </tbody>\n",
              "</table>"
            ],
            "text/plain": [
              "<IPython.core.display.HTML object>"
            ]
          },
          "metadata": {
            "tags": []
          }
        }
      ]
    },
    {
      "cell_type": "code",
      "metadata": {
        "id": "Duwf1Ih5VeDZ",
        "outputId": "f95afa8c-9a2f-4193-fc11-f1bb5cd919e1",
        "colab": {
          "base_uri": "https://localhost:8080/",
          "height": 80
        }
      },
      "source": [
        "learn.fit_one_cycle(1, slice(2e-3/100, 2e-3))"
      ],
      "execution_count": 43,
      "outputs": [
        {
          "output_type": "display_data",
          "data": {
            "text/html": [
              "<table border=\"1\" class=\"dataframe\">\n",
              "  <thead>\n",
              "    <tr style=\"text-align: left;\">\n",
              "      <th>epoch</th>\n",
              "      <th>train_loss</th>\n",
              "      <th>valid_loss</th>\n",
              "      <th>accuracy</th>\n",
              "      <th>time</th>\n",
              "    </tr>\n",
              "  </thead>\n",
              "  <tbody>\n",
              "    <tr>\n",
              "      <td>0</td>\n",
              "      <td>0.650406</td>\n",
              "      <td>3.755312</td>\n",
              "      <td>0.391667</td>\n",
              "      <td>01:04</td>\n",
              "    </tr>\n",
              "  </tbody>\n",
              "</table>"
            ],
            "text/plain": [
              "<IPython.core.display.HTML object>"
            ]
          },
          "metadata": {
            "tags": []
          }
        }
      ]
    },
    {
      "cell_type": "code",
      "metadata": {
        "id": "c65d-osfDUXm"
      },
      "source": [
        "# save the best model\n",
        "\n",
        "learn.save_encoder('TwADR_pubmed_fold4')"
      ],
      "execution_count": 44,
      "outputs": []
    },
    {
      "cell_type": "code",
      "metadata": {
        "id": "5h-A_GpAIYg8",
        "outputId": "28c51883-3c0c-4e0c-8541-bfa511fc915d",
        "colab": {
          "base_uri": "https://localhost:8080/",
          "height": 80
        }
      },
      "source": [
        "learn.fit_one_cycle(1, slice(2e-3/100, 2e-3))"
      ],
      "execution_count": 45,
      "outputs": [
        {
          "output_type": "display_data",
          "data": {
            "text/html": [
              "<table border=\"1\" class=\"dataframe\">\n",
              "  <thead>\n",
              "    <tr style=\"text-align: left;\">\n",
              "      <th>epoch</th>\n",
              "      <th>train_loss</th>\n",
              "      <th>valid_loss</th>\n",
              "      <th>accuracy</th>\n",
              "      <th>time</th>\n",
              "    </tr>\n",
              "  </thead>\n",
              "  <tbody>\n",
              "    <tr>\n",
              "      <td>0</td>\n",
              "      <td>0.627051</td>\n",
              "      <td>3.853754</td>\n",
              "      <td>0.366667</td>\n",
              "      <td>01:07</td>\n",
              "    </tr>\n",
              "  </tbody>\n",
              "</table>"
            ],
            "text/plain": [
              "<IPython.core.display.HTML object>"
            ]
          },
          "metadata": {
            "tags": []
          }
        }
      ]
    },
    {
      "cell_type": "code",
      "metadata": {
        "id": "qc4poYxzIwca",
        "outputId": "7aa31e6c-0b01-4515-9f2a-2030e1ef47a7",
        "colab": {
          "base_uri": "https://localhost:8080/",
          "height": 80
        }
      },
      "source": [
        "learn.fit_one_cycle(1, slice(2e-3/100, 2e-3))"
      ],
      "execution_count": 46,
      "outputs": [
        {
          "output_type": "display_data",
          "data": {
            "text/html": [
              "<table border=\"1\" class=\"dataframe\">\n",
              "  <thead>\n",
              "    <tr style=\"text-align: left;\">\n",
              "      <th>epoch</th>\n",
              "      <th>train_loss</th>\n",
              "      <th>valid_loss</th>\n",
              "      <th>accuracy</th>\n",
              "      <th>time</th>\n",
              "    </tr>\n",
              "  </thead>\n",
              "  <tbody>\n",
              "    <tr>\n",
              "      <td>0</td>\n",
              "      <td>0.617981</td>\n",
              "      <td>3.923063</td>\n",
              "      <td>0.408333</td>\n",
              "      <td>01:05</td>\n",
              "    </tr>\n",
              "  </tbody>\n",
              "</table>"
            ],
            "text/plain": [
              "<IPython.core.display.HTML object>"
            ]
          },
          "metadata": {
            "tags": []
          }
        }
      ]
    },
    {
      "cell_type": "code",
      "metadata": {
        "id": "66s4PxV1JVfo",
        "outputId": "e9ff5bc0-8d9a-471c-e2e4-a6baa2b3b3d7",
        "colab": {
          "base_uri": "https://localhost:8080/",
          "height": 80
        }
      },
      "source": [
        "learn.fit_one_cycle(1, slice(2e-3/100, 2e-3))"
      ],
      "execution_count": 47,
      "outputs": [
        {
          "output_type": "display_data",
          "data": {
            "text/html": [
              "<table border=\"1\" class=\"dataframe\">\n",
              "  <thead>\n",
              "    <tr style=\"text-align: left;\">\n",
              "      <th>epoch</th>\n",
              "      <th>train_loss</th>\n",
              "      <th>valid_loss</th>\n",
              "      <th>accuracy</th>\n",
              "      <th>time</th>\n",
              "    </tr>\n",
              "  </thead>\n",
              "  <tbody>\n",
              "    <tr>\n",
              "      <td>0</td>\n",
              "      <td>0.609477</td>\n",
              "      <td>3.832782</td>\n",
              "      <td>0.425000</td>\n",
              "      <td>01:02</td>\n",
              "    </tr>\n",
              "  </tbody>\n",
              "</table>"
            ],
            "text/plain": [
              "<IPython.core.display.HTML object>"
            ]
          },
          "metadata": {
            "tags": []
          }
        }
      ]
    },
    {
      "cell_type": "markdown",
      "metadata": {
        "id": "rCwZU0E2RgM6"
      },
      "source": [
        "# Part three: Predict on the test dataset"
      ]
    },
    {
      "cell_type": "code",
      "metadata": {
        "id": "gDm72c-dOu7d",
        "outputId": "01eae025-908b-4537-afda-1516fc741c05",
        "colab": {
          "base_uri": "https://localhost:8080/",
          "height": 17
        }
      },
      "source": [
        "# use the test data for prediction\n",
        "\n",
        "preds, y = learn.get_preds(DatasetType.Test)"
      ],
      "execution_count": 48,
      "outputs": [
        {
          "output_type": "display_data",
          "data": {
            "text/html": [
              ""
            ],
            "text/plain": [
              "<IPython.core.display.HTML object>"
            ]
          },
          "metadata": {
            "tags": []
          }
        }
      ]
    },
    {
      "cell_type": "code",
      "metadata": {
        "id": "6tFSQcsWPvxn",
        "outputId": "2b977dd9-2527-4f6f-96d6-f99d83545a01",
        "colab": {
          "base_uri": "https://localhost:8080/",
          "height": 105
        }
      },
      "source": [
        "predictions, *_ = learn.get_preds(DatasetType.Test)\n",
        "labels = np.argmax(predictions, 1)\n",
        "predict_list = labels.tolist()\n",
        "standard_list = test[0].tolist()\n",
        "\n",
        "print(len(predict_list))\n",
        "print(len(standard_list))\n",
        "\n",
        "print(predict_list)\n",
        "print(standard_list)"
      ],
      "execution_count": 49,
      "outputs": [
        {
          "output_type": "display_data",
          "data": {
            "text/html": [
              ""
            ],
            "text/plain": [
              "<IPython.core.display.HTML object>"
            ]
          },
          "metadata": {
            "tags": []
          }
        },
        {
          "output_type": "stream",
          "text": [
            "143\n",
            "143\n",
            "[1787, 1787, 56, 791, 791, 109, 852, 189, 189, 230, 231, 1936, 233, 233, 1787, 393, 1136, 2063, 982, 819, 2002, 187, 561, 596, 1290, 1432, 749, 749, 97, 1597, 792, 1974, 1458, 1458, 2147, 824, 908, 231, 923, 792, 791, 791, 974, 978, 982, 978, 978, 978, 978, 1546, 1828, 1089, 1815, 1099, 1877, 2147, 1669, 1136, 1136, 1145, 2002, 2002, 1340, 1184, 1184, 1718, 1204, 978, 24, 1265, 857, 582, 1308, 1227, 2149, 852, 1340, 1936, 2002, 1508, 1508, 1511, 1526, 1529, 1711, 1682, 1594, 1595, 1597, 1597, 1597, 2168, 1526, 791, 791, 791, 1610, 978, 1073, 1669, 2081, 1680, 1701, 1526, 1594, 56, 1767, 1767, 1669, 1679, 1767, 1815, 1578, 2191, 1787, 1048, 2023, 1857, 749, 825, 2168, 1936, 1936, 1942, 2002, 1899, 791, 2191, 1787, 189, 1508, 224, 791, 2103, 2014, 2119, 2147, 1319, 1787, 2147, 1936, 1349, 2149]\n",
            "[13, 13, 56, 62, 84, 109, 189, 189, 189, 230, 231, 233, 233, 233, 393, 393, 396, 418, 418, 452, 452, 483, 561, 596, 712, 729, 749, 749, 750, 791, 792, 792, 809, 809, 813, 824, 908, 908, 923, 933, 936, 945, 974, 978, 978, 978, 978, 978, 978, 978, 1073, 1089, 1099, 1099, 1099, 1099, 1099, 1136, 1136, 1145, 1150, 1150, 1164, 1184, 1184, 1196, 1204, 1214, 1230, 1265, 1278, 1295, 1308, 1327, 1340, 1340, 1340, 1340, 1373, 1508, 1508, 1511, 1526, 1529, 1531, 1531, 1594, 1595, 1597, 1597, 1597, 1610, 1610, 1610, 1610, 1610, 1610, 1661, 1669, 1669, 1676, 1680, 1701, 1701, 1706, 1711, 1718, 1718, 1727, 1727, 1767, 1767, 1783, 1787, 1787, 1787, 1813, 1857, 1873, 1884, 1884, 1936, 1936, 1942, 2002, 2014, 2026, 2032, 2032, 2048, 2077, 2084, 2097, 2103, 2109, 2119, 2147, 2147, 2147, 2147, 2149, 2173, 2194]\n"
          ],
          "name": "stdout"
        }
      ]
    },
    {
      "cell_type": "code",
      "metadata": {
        "id": "XIC4zufnMxtq",
        "outputId": "7c91c14e-bccf-478a-85e2-b45290baef39",
        "colab": {
          "base_uri": "https://localhost:8080/"
        }
      },
      "source": [
        "correct_num = 0\n",
        "\n",
        "for i in range(0, len(standard_list)):\n",
        "  if predict_list[i] == standard_list[i]:\n",
        "    correct_num = correct_num+1\n",
        "  else:\n",
        "    pass\n",
        "print(correct_num)\n",
        "\n",
        "predict_accuracy = correct_num/len(predict_list)\n",
        "print(predict_accuracy)"
      ],
      "execution_count": 50,
      "outputs": [
        {
          "output_type": "stream",
          "text": [
            "59\n",
            "0.4125874125874126\n"
          ],
          "name": "stdout"
        }
      ]
    },
    {
      "cell_type": "code",
      "metadata": {
        "id": "zlKMHp1CIaRJ"
      },
      "source": [
        ""
      ],
      "execution_count": 50,
      "outputs": []
    }
  ]
}