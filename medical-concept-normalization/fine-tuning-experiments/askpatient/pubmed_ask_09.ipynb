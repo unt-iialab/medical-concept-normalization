{
  "nbformat": 4,
  "nbformat_minor": 0,
  "metadata": {
    "accelerator": "TPU",
    "colab": {
      "name": "pubmed_ask_09.ipynb",
      "provenance": [],
      "collapsed_sections": [],
      "include_colab_link": true
    },
    "kernelspec": {
      "display_name": "Python 3",
      "name": "python3"
    }
  },
  "cells": [
    {
      "cell_type": "markdown",
      "metadata": {
        "id": "view-in-github",
        "colab_type": "text"
      },
      "source": [
        "<a href=\"https://colab.research.google.com/github/unt-iialab/medical-concept-normalization/blob/master/medical-concept-normalization/fine-tuning-experiments/askpatient/pubmed_ask_09.ipynb\" target=\"_parent\"><img src=\"https://colab.research.google.com/assets/colab-badge.svg\" alt=\"Open In Colab\"/></a>"
      ]
    },
    {
      "cell_type": "code",
      "metadata": {
        "id": "adSi6i2-dWxy"
      },
      "source": [
        "import os"
      ],
      "execution_count": 1,
      "outputs": []
    },
    {
      "cell_type": "code",
      "metadata": {
        "id": "E7xYCRGPjd9B"
      },
      "source": [
        "base_dir = 'medical-concept-normalization'"
      ],
      "execution_count": 2,
      "outputs": []
    },
    {
      "cell_type": "code",
      "metadata": {
        "id": "yvIW3aUDjYNS"
      },
      "source": [
        "os.mkdir(base_dir)"
      ],
      "execution_count": 3,
      "outputs": []
    },
    {
      "cell_type": "code",
      "metadata": {
        "id": "es-FFLlfk6SG"
      },
      "source": [
        "os.mkdir('medical-concept-normalization/data_collection')"
      ],
      "execution_count": 4,
      "outputs": []
    },
    {
      "cell_type": "markdown",
      "metadata": {
        "id": "0R-Guw_VoJXm"
      },
      "source": [
        "**Install fastai and clone the fastai for text classification**\n",
        "\n"
      ]
    },
    {
      "cell_type": "code",
      "metadata": {
        "id": "QVZa3Z0PmHFH",
        "outputId": "fd106cff-60d8-478f-d10c-924f415507dc",
        "colab": {
          "base_uri": "https://localhost:8080/"
        }
      },
      "source": [
        "!curl https://course-v3.fast.ai/setup/colab | bash"
      ],
      "execution_count": 5,
      "outputs": [
        {
          "output_type": "stream",
          "text": [
            "  % Total    % Received % Xferd  Average Speed   Time    Time     Time  Current\n",
            "                                 Dload  Upload   Total   Spent    Left  Speed\n",
            "\r  0     0    0     0    0     0      0      0 --:--:-- --:--:-- --:--:--     0curl: (6) Could not resolve host: course-v3.fast.ai\n"
          ],
          "name": "stdout"
        }
      ]
    },
    {
      "cell_type": "code",
      "metadata": {
        "id": "_FBFFEBrmJC0",
        "outputId": "3c2c5273-8e24-441b-ff15-0985ceaf88fd",
        "colab": {
          "base_uri": "https://localhost:8080/"
        }
      },
      "source": [
        "!git clone https://github.com/wshuyi/demo-nlp-classification-fastai.git"
      ],
      "execution_count": 6,
      "outputs": [
        {
          "output_type": "stream",
          "text": [
            "Cloning into 'demo-nlp-classification-fastai'...\n",
            "remote: Enumerating objects: 9, done.\u001b[K\n",
            "Unpacking objects: 100% (9/9), done.\n",
            "remote: Total 9 (delta 0), reused 0 (delta 0), pack-reused 9\u001b[K\n"
          ],
          "name": "stdout"
        }
      ]
    },
    {
      "cell_type": "code",
      "metadata": {
        "id": "66zfh_JqmWMU"
      },
      "source": [
        "from fastai import *\n",
        "from fastai.text import *"
      ],
      "execution_count": 7,
      "outputs": []
    },
    {
      "cell_type": "markdown",
      "metadata": {
        "id": "mNIw-yALdBU9"
      },
      "source": [
        "**Set the path of the data collections**"
      ]
    },
    {
      "cell_type": "code",
      "metadata": {
        "id": "pzH7VMh4mqCL"
      },
      "source": [
        "path = Path('medical-concept-normalization/data_collection')"
      ],
      "execution_count": 8,
      "outputs": []
    },
    {
      "cell_type": "code",
      "metadata": {
        "id": "b8fjI6yyn4aS"
      },
      "source": [
        "# training data set\n",
        "\n",
        "train_csv = path/'AskAPatient.fold-9.train.csv'\n",
        "train = pd.read_csv(train_csv, header=None)\n",
        "#train.head()\n",
        "#train.info()"
      ],
      "execution_count": 10,
      "outputs": []
    },
    {
      "cell_type": "code",
      "metadata": {
        "id": "Hmlr-bAorfHd",
        "outputId": "cf1f956d-95bd-4624-84f8-b46a37d80efe",
        "colab": {
          "base_uri": "https://localhost:8080/",
          "height": 204
        }
      },
      "source": [
        "# validating data set\n",
        "\n",
        "valid = pd.read_csv(path/\"AskAPatient.fold-9.validation.csv\",header=None)\n",
        "valid.head()"
      ],
      "execution_count": 11,
      "outputs": [
        {
          "output_type": "execute_result",
          "data": {
            "text/html": [
              "<div>\n",
              "<style scoped>\n",
              "    .dataframe tbody tr th:only-of-type {\n",
              "        vertical-align: middle;\n",
              "    }\n",
              "\n",
              "    .dataframe tbody tr th {\n",
              "        vertical-align: top;\n",
              "    }\n",
              "\n",
              "    .dataframe thead th {\n",
              "        text-align: right;\n",
              "    }\n",
              "</style>\n",
              "<table border=\"1\" class=\"dataframe\">\n",
              "  <thead>\n",
              "    <tr style=\"text-align: right;\">\n",
              "      <th></th>\n",
              "      <th>0</th>\n",
              "      <th>1</th>\n",
              "    </tr>\n",
              "  </thead>\n",
              "  <tbody>\n",
              "    <tr>\n",
              "      <th>0</th>\n",
              "      <td>3</td>\n",
              "      <td>cracking sensations in my joints</td>\n",
              "    </tr>\n",
              "    <tr>\n",
              "      <th>1</th>\n",
              "      <td>5</td>\n",
              "      <td>fast and slow heartbeat</td>\n",
              "    </tr>\n",
              "    <tr>\n",
              "      <th>2</th>\n",
              "      <td>8</td>\n",
              "      <td>arthritis</td>\n",
              "    </tr>\n",
              "    <tr>\n",
              "      <th>3</th>\n",
              "      <td>8</td>\n",
              "      <td>arthritis</td>\n",
              "    </tr>\n",
              "    <tr>\n",
              "      <th>4</th>\n",
              "      <td>8</td>\n",
              "      <td>arthritis</td>\n",
              "    </tr>\n",
              "  </tbody>\n",
              "</table>\n",
              "</div>"
            ],
            "text/plain": [
              "   0                                 1\n",
              "0  3  cracking sensations in my joints\n",
              "1  5           fast and slow heartbeat\n",
              "2  8                         arthritis\n",
              "3  8                         arthritis\n",
              "4  8                         arthritis"
            ]
          },
          "metadata": {
            "tags": []
          },
          "execution_count": 11
        }
      ]
    },
    {
      "cell_type": "code",
      "metadata": {
        "id": "cOza9dfSsBud",
        "outputId": "ac0f4be1-0478-42cd-a1aa-1d4f2836e367",
        "colab": {
          "base_uri": "https://localhost:8080/",
          "height": 204
        }
      },
      "source": [
        "# testing data set\n",
        "\n",
        "test = pd.read_csv(path/\"AskAPatient.fold-9.test.csv\",header=None)\n",
        "test.head()"
      ],
      "execution_count": 12,
      "outputs": [
        {
          "output_type": "execute_result",
          "data": {
            "text/html": [
              "<div>\n",
              "<style scoped>\n",
              "    .dataframe tbody tr th:only-of-type {\n",
              "        vertical-align: middle;\n",
              "    }\n",
              "\n",
              "    .dataframe tbody tr th {\n",
              "        vertical-align: top;\n",
              "    }\n",
              "\n",
              "    .dataframe thead th {\n",
              "        text-align: right;\n",
              "    }\n",
              "</style>\n",
              "<table border=\"1\" class=\"dataframe\">\n",
              "  <thead>\n",
              "    <tr style=\"text-align: right;\">\n",
              "      <th></th>\n",
              "      <th>0</th>\n",
              "      <th>1</th>\n",
              "    </tr>\n",
              "  </thead>\n",
              "  <tbody>\n",
              "    <tr>\n",
              "      <th>0</th>\n",
              "      <td>2</td>\n",
              "      <td>painful heels</td>\n",
              "    </tr>\n",
              "    <tr>\n",
              "      <th>1</th>\n",
              "      <td>4</td>\n",
              "      <td>Discoloration of skin [blotchy] on the neck</td>\n",
              "    </tr>\n",
              "    <tr>\n",
              "      <th>2</th>\n",
              "      <td>5</td>\n",
              "      <td>my heart rate jumped to 106</td>\n",
              "    </tr>\n",
              "    <tr>\n",
              "      <th>3</th>\n",
              "      <td>7</td>\n",
              "      <td>goiter</td>\n",
              "    </tr>\n",
              "    <tr>\n",
              "      <th>4</th>\n",
              "      <td>8</td>\n",
              "      <td>arthritis</td>\n",
              "    </tr>\n",
              "  </tbody>\n",
              "</table>\n",
              "</div>"
            ],
            "text/plain": [
              "   0                                            1\n",
              "0  2                                painful heels\n",
              "1  4  Discoloration of skin [blotchy] on the neck\n",
              "2  5                  my heart rate jumped to 106\n",
              "3  7                                       goiter\n",
              "4  8                                    arthritis"
            ]
          },
          "metadata": {
            "tags": []
          },
          "execution_count": 12
        }
      ]
    },
    {
      "cell_type": "code",
      "metadata": {
        "id": "Vo-YNvVYoaH6",
        "outputId": "a2518568-9753-4819-9c62-3e653a68a514",
        "colab": {
          "base_uri": "https://localhost:8080/",
          "height": 17
        }
      },
      "source": [
        "# Creating DataBunch for language modelling\n",
        "\n",
        "data_lm = TextLMDataBunch.from_csv(path, 'pubmed_ask.csv')"
      ],
      "execution_count": 13,
      "outputs": [
        {
          "output_type": "display_data",
          "data": {
            "text/html": [
              ""
            ],
            "text/plain": [
              "<IPython.core.display.HTML object>"
            ]
          },
          "metadata": {
            "tags": []
          }
        },
        {
          "output_type": "display_data",
          "data": {
            "text/html": [
              ""
            ],
            "text/plain": [
              "<IPython.core.display.HTML object>"
            ]
          },
          "metadata": {
            "tags": []
          }
        }
      ]
    },
    {
      "cell_type": "code",
      "metadata": {
        "id": "qcV-9kMnNLBf"
      },
      "source": [
        ""
      ],
      "execution_count": 13,
      "outputs": []
    },
    {
      "cell_type": "code",
      "metadata": {
        "id": "1ScY9afDsnvE"
      },
      "source": [
        "# Creating DataBunch for classification\n",
        "\n",
        "# data_clas = TextClasDataBunch.from_df(path, train, valid, test, vocab=data_lm.train_ds.vocab, bs=128)"
      ],
      "execution_count": 14,
      "outputs": []
    },
    {
      "cell_type": "code",
      "metadata": {
        "id": "gzrSdQcvey9p",
        "outputId": "7c711be2-4a1f-4f61-f435-da49c4fb1c21",
        "colab": {
          "base_uri": "https://localhost:8080/",
          "height": 17
        }
      },
      "source": [
        "data_clas = TextClasDataBunch.from_df(path, train, valid, vocab=data_lm.train_ds.vocab, bs=128)"
      ],
      "execution_count": 15,
      "outputs": [
        {
          "output_type": "display_data",
          "data": {
            "text/html": [
              ""
            ],
            "text/plain": [
              "<IPython.core.display.HTML object>"
            ]
          },
          "metadata": {
            "tags": []
          }
        },
        {
          "output_type": "display_data",
          "data": {
            "text/html": [
              ""
            ],
            "text/plain": [
              "<IPython.core.display.HTML object>"
            ]
          },
          "metadata": {
            "tags": []
          }
        }
      ]
    },
    {
      "cell_type": "code",
      "metadata": {
        "id": "MD27Tf0Ke3ou",
        "outputId": "9daa7efb-9814-492c-d03d-1ff0f1853537",
        "colab": {
          "base_uri": "https://localhost:8080/",
          "height": 17
        }
      },
      "source": [
        "data_clas.add_test(test,label=0)\n"
      ],
      "execution_count": 16,
      "outputs": [
        {
          "output_type": "display_data",
          "data": {
            "text/html": [
              ""
            ],
            "text/plain": [
              "<IPython.core.display.HTML object>"
            ]
          },
          "metadata": {
            "tags": []
          }
        }
      ]
    },
    {
      "cell_type": "code",
      "metadata": {
        "id": "-dpjnk_rstwk"
      },
      "source": [
        "data_lm.save()\n",
        "data_clas.save()"
      ],
      "execution_count": 17,
      "outputs": []
    },
    {
      "cell_type": "code",
      "metadata": {
        "id": "4OkiJa36sw5s",
        "outputId": "40623b01-3af4-4eb5-9813-ad155bda83a5",
        "colab": {
          "base_uri": "https://localhost:8080/"
        }
      },
      "source": [
        "data_lm.train_ds.vocab.itos"
      ],
      "execution_count": 18,
      "outputs": [
        {
          "output_type": "execute_result",
          "data": {
            "text/plain": [
              "['xxunk',\n",
              " 'xxpad',\n",
              " 'xxbos',\n",
              " 'xxeos',\n",
              " 'xxfld',\n",
              " 'xxmaj',\n",
              " 'xxup',\n",
              " 'xxrep',\n",
              " 'xxwrep',\n",
              " 'pain',\n",
              " 'of',\n",
              " 'the',\n",
              " 'in',\n",
              " 'lipitor',\n",
              " 'and',\n",
              " 'to',\n",
              " 'muscle',\n",
              " 'a',\n",
              " 'was',\n",
              " 'diclofenac',\n",
              " 'with',\n",
              " 'were',\n",
              " 'severe',\n",
              " 'for',\n",
              " 'myalgia',\n",
              " 'lower',\n",
              " 'my',\n",
              " 'fatigue',\n",
              " 'loss',\n",
              " 'cramp',\n",
              " 'weakness',\n",
              " 'sodium',\n",
              " 'limb',\n",
              " 'on',\n",
              " 'by',\n",
              " 'stomach',\n",
              " '-',\n",
              " 'depression',\n",
              " 'back',\n",
              " 'is',\n",
              " 'at',\n",
              " 'patients',\n",
              " 'cramps',\n",
              " 'that',\n",
              " 'upper',\n",
              " 'as',\n",
              " 'gas',\n",
              " 'joint',\n",
              " 'or',\n",
              " 'memory',\n",
              " 'drug',\n",
              " 'leg',\n",
              " 'mg',\n",
              " 'legs',\n",
              " 'pains',\n",
              " 'headache',\n",
              " 'knee',\n",
              " 'from',\n",
              " 'group',\n",
              " 'unable',\n",
              " 'not',\n",
              " 'shoulder',\n",
              " 'arthralgia',\n",
              " 'gastrointestinal',\n",
              " 'study',\n",
              " 'neck',\n",
              " 'this',\n",
              " 'excessive',\n",
              " 'all',\n",
              " 'foot',\n",
              " 'treatment',\n",
              " 'arthritis',\n",
              " 'aches',\n",
              " 'after',\n",
              " 'hip',\n",
              " 'voltaren',\n",
              " 'numbness',\n",
              " 'disease',\n",
              " 'arthrotec',\n",
              " 'insomnia',\n",
              " 'p',\n",
              " 'release',\n",
              " 'nausea',\n",
              " 'bleeding',\n",
              " 'increased',\n",
              " '/',\n",
              " 'an',\n",
              " 'both',\n",
              " 'abdominal',\n",
              " 'asthenia',\n",
              " 'be',\n",
              " 'walk',\n",
              " 'skin',\n",
              " 'swelling',\n",
              " 'like',\n",
              " 'heart',\n",
              " 'dizziness',\n",
              " 'tired',\n",
              " 'feeling',\n",
              " 'high',\n",
              " 'no',\n",
              " 'walking',\n",
              " 'feet',\n",
              " 'than',\n",
              " 'problems',\n",
              " 'muscles',\n",
              " 'difficulty',\n",
              " 'cholesterol',\n",
              " 'hand',\n",
              " 'time',\n",
              " 'effect',\n",
              " 'chest',\n",
              " 'blood',\n",
              " 'low',\n",
              " 'compared',\n",
              " 'stiffness',\n",
              " 'are',\n",
              " 'hair',\n",
              " 'burning',\n",
              " 'ache',\n",
              " 'acid',\n",
              " 'backache',\n",
              " 'could',\n",
              " 'inflammatory',\n",
              " 'vision',\n",
              " 'extreme',\n",
              " 'zocor',\n",
              " 'liver',\n",
              " 'groups',\n",
              " 'weight',\n",
              " 'diarrhoea',\n",
              " 'very',\n",
              " 'effects',\n",
              " 'using',\n",
              " 'pins',\n",
              " 'needles',\n",
              " 'i',\n",
              " 'sleep',\n",
              " 'cramping',\n",
              " 'between',\n",
              " 'significant',\n",
              " 'amnesia',\n",
              " 'significantly',\n",
              " 'two',\n",
              " 'concentration',\n",
              " 'calf',\n",
              " 'impairment',\n",
              " 'left',\n",
              " 'anti',\n",
              " 'term',\n",
              " 'drugs',\n",
              " 'potassium',\n",
              " 'short',\n",
              " 'up',\n",
              " 'disability',\n",
              " 'h',\n",
              " 'anxiety',\n",
              " 'can',\n",
              " 'tingling',\n",
              " 'used',\n",
              " 'c',\n",
              " 'symptom',\n",
              " 'dose',\n",
              " 'lack',\n",
              " 'stiff',\n",
              " 'which',\n",
              " 'bloating',\n",
              " 'day',\n",
              " 'pressure',\n",
              " 'these',\n",
              " 'placebo',\n",
              " 'results',\n",
              " 'had',\n",
              " 'constipation',\n",
              " 'efficacy',\n",
              " 'it',\n",
              " 'poor',\n",
              " 'has',\n",
              " 'more',\n",
              " 'arms',\n",
              " 'arm',\n",
              " 'ds',\n",
              " 'disorder',\n",
              " 'one',\n",
              " 'reduced',\n",
              " 'neuropathy',\n",
              " 'hands',\n",
              " 'we',\n",
              " 'balance',\n",
              " 'acute',\n",
              " 'showed',\n",
              " 'over',\n",
              " 'headaches',\n",
              " 'sore',\n",
              " 'body',\n",
              " 'visual',\n",
              " 'treated',\n",
              " 'ankle',\n",
              " 'blurred',\n",
              " 'have',\n",
              " 'days',\n",
              " 'also',\n",
              " 'ml',\n",
              " 'topical',\n",
              " 'joints',\n",
              " 'serum',\n",
              " 'tiredness',\n",
              " 'been',\n",
              " 'vaginal',\n",
              " 'sensation',\n",
              " 'oral',\n",
              " 'different',\n",
              " 'myocardial',\n",
              " 'rash',\n",
              " 'control',\n",
              " 'pravachol',\n",
              " 'infarction',\n",
              " 'renal',\n",
              " 'but',\n",
              " 'myositis',\n",
              " 'into',\n",
              " 'during',\n",
              " 'administration',\n",
              " 'swollen',\n",
              " 'rats',\n",
              " 'mentally',\n",
              " 'studies',\n",
              " 'rate',\n",
              " 'atrophy',\n",
              " 'painful',\n",
              " 'vertigo',\n",
              " 'generalised',\n",
              " 'respectively',\n",
              " 'energy',\n",
              " 'hurt',\n",
              " 'itching',\n",
              " \"'s\",\n",
              " 'diabetes',\n",
              " 'attack',\n",
              " 's',\n",
              " 'upset',\n",
              " 'decreased',\n",
              " 'when',\n",
              " 'constant',\n",
              " ')',\n",
              " 'ubidecarenone',\n",
              " 'diarrhea',\n",
              " 'clinical',\n",
              " 'atorvastatin',\n",
              " 'non',\n",
              " 'levels',\n",
              " 'formulation',\n",
              " 'plasma',\n",
              " 'out',\n",
              " 'nsaids',\n",
              " 'there',\n",
              " 'tablets',\n",
              " 'illness',\n",
              " 'formulations',\n",
              " ',',\n",
              " 'method',\n",
              " 'dry',\n",
              " 'induced',\n",
              " 'raised',\n",
              " 'syndrome',\n",
              " 'found',\n",
              " 'ph',\n",
              " 'period',\n",
              " 'gain',\n",
              " 'gel',\n",
              " 'use',\n",
              " 'movement',\n",
              " 'damage',\n",
              " 'their',\n",
              " 'influenza',\n",
              " 'effective',\n",
              " 'right',\n",
              " 'observed',\n",
              " 'may',\n",
              " 'mean',\n",
              " 'three',\n",
              " 'hours',\n",
              " 'other',\n",
              " 'dull',\n",
              " '(',\n",
              " 'well',\n",
              " 'spasm',\n",
              " 'type',\n",
              " 'shoulders',\n",
              " 'urine',\n",
              " 'eye',\n",
              " 'present',\n",
              " 'solution',\n",
              " \"n't\",\n",
              " 'symptoms',\n",
              " 'elbow',\n",
              " 'elevated',\n",
              " 'chronic',\n",
              " 'its',\n",
              " 'weak',\n",
              " 'discomfort',\n",
              " 'crestor',\n",
              " 'hazy',\n",
              " 'kidney',\n",
              " 'tablet',\n",
              " 'tendonitis',\n",
              " 'n',\n",
              " 'each',\n",
              " 'analysis',\n",
              " 'g',\n",
              " 'side',\n",
              " 'abnormal',\n",
              " 'controlled',\n",
              " 'spasms',\n",
              " 'first',\n",
              " 'received',\n",
              " 'sleeping',\n",
              " 'ibuprofen',\n",
              " 'level',\n",
              " 'adverse',\n",
              " 'heavy',\n",
              " 'mood',\n",
              " 'vitro',\n",
              " 'd',\n",
              " 'vomiting',\n",
              " 'analgesic',\n",
              " 'knees',\n",
              " 'kg',\n",
              " 'total',\n",
              " 'increase',\n",
              " 'activity',\n",
              " 'data',\n",
              " 'bad',\n",
              " 'exhaustion',\n",
              " 'reflux',\n",
              " 'toe',\n",
              " 'sclerosis',\n",
              " 'daily',\n",
              " 'concentrations',\n",
              " 'patient',\n",
              " 'thigh',\n",
              " 'function',\n",
              " 'throat',\n",
              " 'myopathy',\n",
              " 'less',\n",
              " 'randomized',\n",
              " 'single',\n",
              " 'irritable',\n",
              " 'feel',\n",
              " 'inflammation',\n",
              " 'm',\n",
              " 'libido',\n",
              " 'migraine',\n",
              " 'following',\n",
              " 'mild',\n",
              " 'system',\n",
              " 'surgery',\n",
              " 'similar',\n",
              " 'l',\n",
              " 'concentrate',\n",
              " 'flatulence',\n",
              " 'model',\n",
              " 'injury',\n",
              " 'b',\n",
              " 'only',\n",
              " 'cold',\n",
              " 'get',\n",
              " 'however',\n",
              " 'flu',\n",
              " 'bed',\n",
              " 'evaluated',\n",
              " 'problem',\n",
              " 'obtained',\n",
              " 'multiple',\n",
              " 'simvastatin',\n",
              " 'fibromyalgia',\n",
              " 'osteoarthritis',\n",
              " 'water',\n",
              " 'mellitus',\n",
              " 'changes',\n",
              " 'test',\n",
              " 'dissolution',\n",
              " 'disturbance',\n",
              " 'lightheadedness',\n",
              " 'eyes',\n",
              " 'malaise',\n",
              " 'postoperative',\n",
              " 'hips',\n",
              " 'higher',\n",
              " 't',\n",
              " 'appetite',\n",
              " 'did',\n",
              " 'nsaid',\n",
              " 'most',\n",
              " 'failure',\n",
              " 'difference',\n",
              " 'based',\n",
              " 'cells',\n",
              " 'tremor',\n",
              " 'menstrual',\n",
              " 'confusion',\n",
              " 'head',\n",
              " 'sweating',\n",
              " 'due',\n",
              " 'double',\n",
              " 'swings',\n",
              " 'before',\n",
              " 'peripheral',\n",
              " 'therapy',\n",
              " 'weeks',\n",
              " 'oil',\n",
              " 'combination',\n",
              " 'administered',\n",
              " 'associated',\n",
              " 'ezetimibe',\n",
              " 'finger',\n",
              " 'so',\n",
              " 'doses',\n",
              " 'esters',\n",
              " 'tinnitus',\n",
              " 'cell',\n",
              " 'under',\n",
              " 'studied',\n",
              " 'application',\n",
              " 'min',\n",
              " 'blind',\n",
              " 'times',\n",
              " 'week',\n",
              " 'brain',\n",
              " 'gastric',\n",
              " 'wind',\n",
              " 'while',\n",
              " 'paraesthesia',\n",
              " 'general',\n",
              " 'rheumatoid',\n",
              " 'stress',\n",
              " 'celebrex',\n",
              " 'performed',\n",
              " 'aching',\n",
              " 'trial',\n",
              " 'infection',\n",
              " 'calves',\n",
              " 'values',\n",
              " 'impaired',\n",
              " 'stairs',\n",
              " 'those',\n",
              " 'coated',\n",
              " 'relief',\n",
              " 'reported',\n",
              " 'years',\n",
              " 'developed',\n",
              " 'off',\n",
              " 'soreness',\n",
              " 'paracetamol',\n",
              " 'ascorbic',\n",
              " 'conditions',\n",
              " 'parkinson',\n",
              " 'toes',\n",
              " 'prepared',\n",
              " 'cough',\n",
              " 'post',\n",
              " 'area',\n",
              " 'who',\n",
              " 'charleyhorse',\n",
              " 'four',\n",
              " 'e',\n",
              " 'differences',\n",
              " 'events',\n",
              " 'ankles',\n",
              " 'parameters',\n",
              " 'rapid',\n",
              " 'response',\n",
              " 'vs',\n",
              " 'order',\n",
              " 'swallowing',\n",
              " 'either',\n",
              " 'phase',\n",
              " 'x',\n",
              " 'nonsteroidal',\n",
              " 'investigated',\n",
              " 'absorption',\n",
              " 'heel',\n",
              " 'hot',\n",
              " 'face',\n",
              " 'indigestion',\n",
              " 'strength',\n",
              " 'change',\n",
              " 'palpitations',\n",
              " 'safety',\n",
              " 'motivation',\n",
              " 'excruciating',\n",
              " 'urinary',\n",
              " 'intense',\n",
              " 'given',\n",
              " 'new',\n",
              " 'within',\n",
              " 'containing',\n",
              " 'tendon',\n",
              " 'assessed',\n",
              " 'lateral',\n",
              " 'related',\n",
              " 'enzymes',\n",
              " 'reduction',\n",
              " 'measured',\n",
              " 'ca',\n",
              " 'properties',\n",
              " 'oa',\n",
              " 'depressed',\n",
              " 'dyspnoea',\n",
              " 'lupus',\n",
              " 'restless',\n",
              " 'included',\n",
              " 'tightness',\n",
              " 'felt',\n",
              " 'dark',\n",
              " 'nerve',\n",
              " 'subjects',\n",
              " 'injection',\n",
              " 'compare',\n",
              " 'taste',\n",
              " 'statistically',\n",
              " 'v',\n",
              " 'twitch',\n",
              " 'auc',\n",
              " 'ratio',\n",
              " 'indomethacin',\n",
              " 'vitamin',\n",
              " 'number',\n",
              " 'steroidal',\n",
              " 'form',\n",
              " 'night',\n",
              " 'through',\n",
              " 'clearly',\n",
              " 'fingers',\n",
              " 'limbs',\n",
              " 'speech',\n",
              " 'decrease',\n",
              " 'mm',\n",
              " 'w',\n",
              " 'size',\n",
              " 'delivery',\n",
              " 'such',\n",
              " 'samples',\n",
              " 'edema',\n",
              " 'applied',\n",
              " 'menopause',\n",
              " 'fish',\n",
              " 'gout',\n",
              " 'healthy',\n",
              " 'range',\n",
              " 'vivo',\n",
              " 'primary',\n",
              " 'potential',\n",
              " 'scale',\n",
              " 'provoked',\n",
              " 'any',\n",
              " 'without',\n",
              " 'breathing',\n",
              " 'evaluate',\n",
              " 'therapeutic',\n",
              " 'active',\n",
              " 'they',\n",
              " 'tolerability',\n",
              " 'determined',\n",
              " 'moderate',\n",
              " 'down',\n",
              " 'bioavailability',\n",
              " 'better',\n",
              " 'heartburn',\n",
              " 'k',\n",
              " 'drowsy',\n",
              " 'creatinine',\n",
              " 'minutes',\n",
              " 'reaction',\n",
              " 'baseline',\n",
              " 'ulcer',\n",
              " 'ng',\n",
              " 'colic',\n",
              " 'major',\n",
              " 'overall',\n",
              " 'tissue',\n",
              " 'dreams',\n",
              " 'liquid',\n",
              " 'wrist',\n",
              " 'medication',\n",
              " 'good',\n",
              " 'aspirin',\n",
              " 'scores',\n",
              " 'sinus',\n",
              " 'human',\n",
              " 'ability',\n",
              " 'cox',\n",
              " 'misoprostol',\n",
              " 'development',\n",
              " 'nasal',\n",
              " 'bone',\n",
              " 'mouth',\n",
              " 'fever',\n",
              " 'demonstrated',\n",
              " 'facial',\n",
              " 'every',\n",
              " 'greater',\n",
              " 'fenofibrate',\n",
              " 'trouble',\n",
              " 'ii',\n",
              " 'think',\n",
              " 'addition',\n",
              " 'aqueous',\n",
              " 'terrible',\n",
              " 'about',\n",
              " 'treatments',\n",
              " 'amyotrophic',\n",
              " 'sustained',\n",
              " 'process',\n",
              " 'co',\n",
              " 'matrix',\n",
              " 'always',\n",
              " 'advil',\n",
              " 'light',\n",
              " 'normal',\n",
              " 'tract',\n",
              " 'dosage',\n",
              " 'coq10',\n",
              " 'products',\n",
              " 'uterine',\n",
              " 'our',\n",
              " 'hypertension',\n",
              " 'mice',\n",
              " 'revealed',\n",
              " 'dependent',\n",
              " 'cancer',\n",
              " 'polymer',\n",
              " 'attacks',\n",
              " 'presence',\n",
              " 'various',\n",
              " 'twitching',\n",
              " 'bowel',\n",
              " 'some',\n",
              " 'thighs',\n",
              " 'male',\n",
              " 'plantar',\n",
              " 'mobility',\n",
              " 'fog',\n",
              " 'aim',\n",
              " 'aleve',\n",
              " 'indicated',\n",
              " 'although',\n",
              " 'move',\n",
              " 'complex',\n",
              " 'lethargy',\n",
              " 'content',\n",
              " 'breath',\n",
              " 'six',\n",
              " 'tylenol',\n",
              " 'agent',\n",
              " 'alone',\n",
              " 'intensity',\n",
              " 'same',\n",
              " 'formation',\n",
              " 'horses',\n",
              " 'volunteers',\n",
              " 'initial',\n",
              " 'alpha',\n",
              " 'physical',\n",
              " 'na',\n",
              " 'risk',\n",
              " 'tricor',\n",
              " 'protein',\n",
              " 'free',\n",
              " 'per',\n",
              " 'standard',\n",
              " 'shown',\n",
              " 'followed',\n",
              " 'long',\n",
              " 'suggest',\n",
              " 'action',\n",
              " 'permeation',\n",
              " 'months',\n",
              " 'being',\n",
              " 'end',\n",
              " 'me',\n",
              " 'elbows',\n",
              " 'sharp',\n",
              " 'inhibition',\n",
              " 'onset',\n",
              " 'surface',\n",
              " 'oedema',\n",
              " 'trials',\n",
              " 'improvement',\n",
              " 'barely',\n",
              " 'cm',\n",
              " 'whereas',\n",
              " 'exercise',\n",
              " 'randomly',\n",
              " 'loose',\n",
              " 'available',\n",
              " 'inhibitor',\n",
              " 'including',\n",
              " 'rat',\n",
              " 'hour',\n",
              " 'experimental',\n",
              " 'moody',\n",
              " '+',\n",
              " 'further',\n",
              " 'should',\n",
              " 'hardly',\n",
              " 'vas',\n",
              " 'numb',\n",
              " 'ms',\n",
              " 'mechanism',\n",
              " 'conducted',\n",
              " 'profile',\n",
              " 'malignant',\n",
              " 'relative',\n",
              " 'fluid',\n",
              " 'combined',\n",
              " 'tolerance',\n",
              " 'tight',\n",
              " 'fatigued',\n",
              " 'score',\n",
              " 'divided',\n",
              " 'pharmaceutical',\n",
              " 'sugar',\n",
              " 'evaluation',\n",
              " 'generally',\n",
              " 'cerebrovascular',\n",
              " 'sex',\n",
              " 'age',\n",
              " 'versus',\n",
              " 'amount',\n",
              " 'then',\n",
              " 'animals',\n",
              " 'o',\n",
              " 'pulse',\n",
              " 'extremely',\n",
              " 'extremity',\n",
              " 'temperature',\n",
              " 'liptor',\n",
              " 'pharmacokinetic',\n",
              " 'mental',\n",
              " 'corneal',\n",
              " 'finding',\n",
              " 'charley',\n",
              " 'systemic',\n",
              " 'drive',\n",
              " 'fast',\n",
              " 'congestion',\n",
              " 'profiles',\n",
              " 'slurred',\n",
              " 'resulted',\n",
              " 'getting',\n",
              " 'ringing',\n",
              " 'deep',\n",
              " 'case',\n",
              " 'analgesia',\n",
              " 'vehicle',\n",
              " 'periods',\n",
              " 'determine',\n",
              " 'th',\n",
              " 'agents',\n",
              " 'ethyl',\n",
              " 'duration',\n",
              " 'nervous',\n",
              " 'exposure',\n",
              " 'irregular',\n",
              " 'naproxen',\n",
              " 'pruritus',\n",
              " 'cd',\n",
              " 'product',\n",
              " 'produced',\n",
              " 'sick',\n",
              " 'caused',\n",
              " 'cases',\n",
              " 'improved',\n",
              " 'once',\n",
              " 'accident',\n",
              " 'fasciitis',\n",
              " 'microspheres',\n",
              " 'shortness',\n",
              " 'ldl',\n",
              " 'increasing',\n",
              " 'cataract',\n",
              " 'achilles',\n",
              " 'lost',\n",
              " 'local',\n",
              " 'morning',\n",
              " 'hunger',\n",
              " 'coronary',\n",
              " 'beads',\n",
              " 'natural',\n",
              " 'thoughts',\n",
              " 'rhabdomyolysis',\n",
              " 'plus',\n",
              " 'secondary',\n",
              " 'respiratory',\n",
              " 'enteric',\n",
              " 'sensations',\n",
              " 'assessment',\n",
              " '3',\n",
              " 'central',\n",
              " 'flushing',\n",
              " 'tension',\n",
              " 'among',\n",
              " 'eczema',\n",
              " 'medium',\n",
              " 'least',\n",
              " 'models',\n",
              " 'third',\n",
              " 'carried',\n",
              " 'preparation',\n",
              " 'sweats',\n",
              " 'stamina',\n",
              " 'tolerated',\n",
              " 'production',\n",
              " 'norvasc',\n",
              " 'five',\n",
              " 'hypersomnia',\n",
              " 'even',\n",
              " 'scalp',\n",
              " 'methods',\n",
              " 'panic',\n",
              " 'growth',\n",
              " 'participants',\n",
              " 'forgetful',\n",
              " 'degrees',\n",
              " 'strain',\n",
              " 'de',\n",
              " 'calcium',\n",
              " 'pellets',\n",
              " 'pre',\n",
              " 'ocular',\n",
              " 'mass',\n",
              " 'peak',\n",
              " 'rofecoxib',\n",
              " 'complete',\n",
              " 'common',\n",
              " 'cmax',\n",
              " 'efficiency',\n",
              " 'microg',\n",
              " 'stroke',\n",
              " 'f',\n",
              " 'film',\n",
              " 'prednisone',\n",
              " 'capsules',\n",
              " 'recorded',\n",
              " 'dizzy',\n",
              " 'ear',\n",
              " 'zetia',\n",
              " 'comparison',\n",
              " 'thus',\n",
              " ':',\n",
              " 'hard',\n",
              " 'second',\n",
              " 'sensitivity',\n",
              " 'beta',\n",
              " 'according',\n",
              " 'flow',\n",
              " 'stool',\n",
              " 'patch',\n",
              " 'old',\n",
              " 'volume',\n",
              " 'erythema',\n",
              " 'tested',\n",
              " 'affected',\n",
              " 'global',\n",
              " 'cross',\n",
              " 'frequent',\n",
              " 'cardiovascular',\n",
              " 'year',\n",
              " 'lopid',\n",
              " 'dysfunction',\n",
              " 'intestinal',\n",
              " 'expression',\n",
              " 'evidence',\n",
              " 'gi',\n",
              " 'sensitive',\n",
              " 'findings',\n",
              " 'state',\n",
              " 'venous',\n",
              " 'als',\n",
              " 'reference',\n",
              " 'rectal',\n",
              " 'maximum',\n",
              " 'cpk',\n",
              " 'food',\n",
              " 'drops',\n",
              " 'erythematosus',\n",
              " 'density',\n",
              " 'condition',\n",
              " 'value',\n",
              " 'phosphate',\n",
              " 'across',\n",
              " 'inability',\n",
              " 'quality',\n",
              " 'looks',\n",
              " 'diabetic',\n",
              " 'started',\n",
              " 'bp',\n",
              " 'specific',\n",
              " 'intramuscular',\n",
              " 'prostaglandin',\n",
              " 'region',\n",
              " 'taking',\n",
              " 'investigate',\n",
              " 'care',\n",
              " 'detection',\n",
              " 'design',\n",
              " 'lesions',\n",
              " 'show',\n",
              " 'indicate',\n",
              " 'commercial',\n",
              " 'lipid',\n",
              " 'retention',\n",
              " 'achieved',\n",
              " 'against',\n",
              " 'interaction',\n",
              " 'influence',\n",
              " 'hepatic',\n",
              " 'structure',\n",
              " 'around',\n",
              " 'index',\n",
              " 'receiving',\n",
              " 'palsy',\n",
              " 'aptyalism',\n",
              " 'diffusion',\n",
              " 'asthma',\n",
              " 'menorrhagia',\n",
              " 'because',\n",
              " 'considered',\n",
              " 'determination',\n",
              " 'random',\n",
              " 'neurontin',\n",
              " 'provide',\n",
              " 'membrane',\n",
              " 'comparable',\n",
              " 'superior',\n",
              " 'ci',\n",
              " 'codeine',\n",
              " 'early',\n",
              " 'extent',\n",
              " 'inhibited',\n",
              " 'examined',\n",
              " 'just',\n",
              " 'tachycardia',\n",
              " 'spasmodic',\n",
              " 'large',\n",
              " 'solid',\n",
              " 'capsule',\n",
              " 'cataflam',\n",
              " 'characterized',\n",
              " 'review',\n",
              " 'muscular',\n",
              " 'inhibitors',\n",
              " 'made',\n",
              " 'possible',\n",
              " 'morphine',\n",
              " 'hurts',\n",
              " 'medications',\n",
              " 'bursitis',\n",
              " 'omega-3-acid',\n",
              " 'esters-90',\n",
              " 'would',\n",
              " 'slight',\n",
              " 'dic',\n",
              " 'buffer',\n",
              " 'site',\n",
              " 'foggy',\n",
              " 'transient',\n",
              " 'responses',\n",
              " 'itchy',\n",
              " 'provided',\n",
              " 'solubility',\n",
              " 'outcome',\n",
              " 'difficult',\n",
              " 'degree',\n",
              " 'vascular',\n",
              " 'arthritic',\n",
              " 'technique',\n",
              " 'synthesis',\n",
              " 'limping',\n",
              " 'forearm',\n",
              " 'lift',\n",
              " 'month',\n",
              " 'life',\n",
              " 'novel',\n",
              " 'assess',\n",
              " 'rates',\n",
              " 'sense',\n",
              " 'nm',\n",
              " 'saline',\n",
              " 'preparations',\n",
              " 'small',\n",
              " 'r',\n",
              " 'forms',\n",
              " 'several',\n",
              " 'lipoprotein',\n",
              " 'whether',\n",
              " 'horrible',\n",
              " 'enzyme',\n",
              " 'lipex',\n",
              " ...]"
            ]
          },
          "metadata": {
            "tags": []
          },
          "execution_count": 18
        }
      ]
    },
    {
      "cell_type": "code",
      "metadata": {
        "id": "yPWr03mls3VT",
        "outputId": "1523282b-9b10-48f2-e8fc-10de3bdd657d",
        "colab": {
          "base_uri": "https://localhost:8080/",
          "height": 17
        }
      },
      "source": [
        "model_path = path/'models'\n",
        "model_path.mkdir(exist_ok=True)\n",
        "url = 'http://files.fast.ai/models/wt103_v1/'\n",
        "download_url(f'{url}lstm_wt103.pth', model_path/'lstm_wt103.pth')\n",
        "download_url(f'{url}itos_wt103.pkl', model_path/'itos_wt103.pkl')"
      ],
      "execution_count": 19,
      "outputs": [
        {
          "output_type": "display_data",
          "data": {
            "text/html": [
              ""
            ],
            "text/plain": [
              "<IPython.core.display.HTML object>"
            ]
          },
          "metadata": {
            "tags": []
          }
        },
        {
          "output_type": "display_data",
          "data": {
            "text/html": [
              ""
            ],
            "text/plain": [
              "<IPython.core.display.HTML object>"
            ]
          },
          "metadata": {
            "tags": []
          }
        }
      ]
    },
    {
      "cell_type": "code",
      "metadata": {
        "id": "JRzvWg8RtGGr",
        "outputId": "5592549b-3839-47b3-8f4d-157755e93e7d",
        "colab": {
          "base_uri": "https://localhost:8080/",
          "height": 34
        }
      },
      "source": [
        "learn = language_model_learner(data_lm, AWD_LSTM, drop_mult=0.5)"
      ],
      "execution_count": 20,
      "outputs": [
        {
          "output_type": "stream",
          "text": [
            "Downloading https://s3.amazonaws.com/fast-ai-modelzoo/wt103-fwd.tgz\n"
          ],
          "name": "stdout"
        },
        {
          "output_type": "display_data",
          "data": {
            "text/html": [
              ""
            ],
            "text/plain": [
              "<IPython.core.display.HTML object>"
            ]
          },
          "metadata": {
            "tags": []
          }
        }
      ]
    },
    {
      "cell_type": "code",
      "metadata": {
        "id": "xKK7GeBev7Xn",
        "outputId": "3087c705-7c93-48c1-d90c-fa058b1a8897",
        "colab": {
          "base_uri": "https://localhost:8080/",
          "height": 80
        }
      },
      "source": [
        "learn.fit_one_cycle(1, 1e-2)"
      ],
      "execution_count": 21,
      "outputs": [
        {
          "output_type": "display_data",
          "data": {
            "text/html": [
              "<table border=\"1\" class=\"dataframe\">\n",
              "  <thead>\n",
              "    <tr style=\"text-align: left;\">\n",
              "      <th>epoch</th>\n",
              "      <th>train_loss</th>\n",
              "      <th>valid_loss</th>\n",
              "      <th>accuracy</th>\n",
              "      <th>time</th>\n",
              "    </tr>\n",
              "  </thead>\n",
              "  <tbody>\n",
              "    <tr>\n",
              "      <td>0</td>\n",
              "      <td>3.793211</td>\n",
              "      <td>3.378945</td>\n",
              "      <td>0.457885</td>\n",
              "      <td>28:31</td>\n",
              "    </tr>\n",
              "  </tbody>\n",
              "</table>"
            ],
            "text/plain": [
              "<IPython.core.display.HTML object>"
            ]
          },
          "metadata": {
            "tags": []
          }
        }
      ]
    },
    {
      "cell_type": "code",
      "metadata": {
        "id": "iB7rHGQCwd12"
      },
      "source": [
        "# learn.fit_one_cycle(1, 1e-2)"
      ],
      "execution_count": 22,
      "outputs": []
    },
    {
      "cell_type": "code",
      "metadata": {
        "id": "_BnSuAeCwkBe"
      },
      "source": [
        "# learn.fit_one_cycle(1, 1e-3)"
      ],
      "execution_count": 23,
      "outputs": []
    },
    {
      "cell_type": "code",
      "metadata": {
        "id": "MuTm-RFjwrEX",
        "outputId": "c426154c-bc85-4760-d54a-d8b1d477a8cb",
        "colab": {
          "base_uri": "https://localhost:8080/",
          "height": 80
        }
      },
      "source": [
        "learn.fit_one_cycle(1, 1e-3)"
      ],
      "execution_count": 24,
      "outputs": [
        {
          "output_type": "display_data",
          "data": {
            "text/html": [
              "<table border=\"1\" class=\"dataframe\">\n",
              "  <thead>\n",
              "    <tr style=\"text-align: left;\">\n",
              "      <th>epoch</th>\n",
              "      <th>train_loss</th>\n",
              "      <th>valid_loss</th>\n",
              "      <th>accuracy</th>\n",
              "      <th>time</th>\n",
              "    </tr>\n",
              "  </thead>\n",
              "  <tbody>\n",
              "    <tr>\n",
              "      <td>0</td>\n",
              "      <td>3.445093</td>\n",
              "      <td>3.321636</td>\n",
              "      <td>0.463092</td>\n",
              "      <td>28:25</td>\n",
              "    </tr>\n",
              "  </tbody>\n",
              "</table>"
            ],
            "text/plain": [
              "<IPython.core.display.HTML object>"
            ]
          },
          "metadata": {
            "tags": []
          }
        }
      ]
    },
    {
      "cell_type": "code",
      "metadata": {
        "id": "1Er2ExO8wr7Y"
      },
      "source": [
        "learn.save_encoder('pubmed_ask_fold9_first')"
      ],
      "execution_count": 25,
      "outputs": []
    },
    {
      "cell_type": "code",
      "metadata": {
        "id": "z52cZs2qwvad",
        "outputId": "71a93b03-da56-456a-b4f5-609bc0e325be",
        "colab": {
          "base_uri": "https://localhost:8080/",
          "height": 80
        }
      },
      "source": [
        "learn = text_classifier_learner(data_clas,AWD_LSTM, drop_mult=0.5)\n",
        "learn.load_encoder('pubmed_ask_fold9_first')\n",
        "learn.fit_one_cycle(1, 1e-2)"
      ],
      "execution_count": 26,
      "outputs": [
        {
          "output_type": "display_data",
          "data": {
            "text/html": [
              "<table border=\"1\" class=\"dataframe\">\n",
              "  <thead>\n",
              "    <tr style=\"text-align: left;\">\n",
              "      <th>epoch</th>\n",
              "      <th>train_loss</th>\n",
              "      <th>valid_loss</th>\n",
              "      <th>accuracy</th>\n",
              "      <th>time</th>\n",
              "    </tr>\n",
              "  </thead>\n",
              "  <tbody>\n",
              "    <tr>\n",
              "      <td>0</td>\n",
              "      <td>4.088994</td>\n",
              "      <td>3.526895</td>\n",
              "      <td>0.386792</td>\n",
              "      <td>01:09</td>\n",
              "    </tr>\n",
              "  </tbody>\n",
              "</table>"
            ],
            "text/plain": [
              "<IPython.core.display.HTML object>"
            ]
          },
          "metadata": {
            "tags": []
          }
        }
      ]
    },
    {
      "cell_type": "code",
      "metadata": {
        "id": "ImwQP1PJwzxd",
        "outputId": "f8708b4e-65fe-4a13-bb7d-bbd207993305",
        "colab": {
          "base_uri": "https://localhost:8080/",
          "height": 80
        }
      },
      "source": [
        "learn.freeze_to(-2)\n",
        "learn.fit_one_cycle(1, slice(5e-3/2., 5e-3))"
      ],
      "execution_count": 27,
      "outputs": [
        {
          "output_type": "display_data",
          "data": {
            "text/html": [
              "<table border=\"1\" class=\"dataframe\">\n",
              "  <thead>\n",
              "    <tr style=\"text-align: left;\">\n",
              "      <th>epoch</th>\n",
              "      <th>train_loss</th>\n",
              "      <th>valid_loss</th>\n",
              "      <th>accuracy</th>\n",
              "      <th>time</th>\n",
              "    </tr>\n",
              "  </thead>\n",
              "  <tbody>\n",
              "    <tr>\n",
              "      <td>0</td>\n",
              "      <td>2.965428</td>\n",
              "      <td>2.861493</td>\n",
              "      <td>0.501348</td>\n",
              "      <td>01:21</td>\n",
              "    </tr>\n",
              "  </tbody>\n",
              "</table>"
            ],
            "text/plain": [
              "<IPython.core.display.HTML object>"
            ]
          },
          "metadata": {
            "tags": []
          }
        }
      ]
    },
    {
      "cell_type": "code",
      "metadata": {
        "id": "Owff_BJXw53u",
        "outputId": "a5c30b2b-ff1b-465e-f378-7e3da0674501",
        "colab": {
          "base_uri": "https://localhost:8080/",
          "height": 80
        }
      },
      "source": [
        "learn.unfreeze()\n",
        "learn.fit_one_cycle(1, slice(2e-3/100, 2e-3))"
      ],
      "execution_count": 28,
      "outputs": [
        {
          "output_type": "display_data",
          "data": {
            "text/html": [
              "<table border=\"1\" class=\"dataframe\">\n",
              "  <thead>\n",
              "    <tr style=\"text-align: left;\">\n",
              "      <th>epoch</th>\n",
              "      <th>train_loss</th>\n",
              "      <th>valid_loss</th>\n",
              "      <th>accuracy</th>\n",
              "      <th>time</th>\n",
              "    </tr>\n",
              "  </thead>\n",
              "  <tbody>\n",
              "    <tr>\n",
              "      <td>0</td>\n",
              "      <td>2.399071</td>\n",
              "      <td>2.515096</td>\n",
              "      <td>0.553908</td>\n",
              "      <td>03:15</td>\n",
              "    </tr>\n",
              "  </tbody>\n",
              "</table>"
            ],
            "text/plain": [
              "<IPython.core.display.HTML object>"
            ]
          },
          "metadata": {
            "tags": []
          }
        }
      ]
    },
    {
      "cell_type": "code",
      "metadata": {
        "id": "lqAyu56V8Waq",
        "outputId": "8c6acb2f-e701-4fee-d040-56428187582c",
        "colab": {
          "base_uri": "https://localhost:8080/",
          "height": 111
        }
      },
      "source": [
        "learn.fit_one_cycle(2, slice(2e-3/100, 2e-3))"
      ],
      "execution_count": 29,
      "outputs": [
        {
          "output_type": "display_data",
          "data": {
            "text/html": [
              "<table border=\"1\" class=\"dataframe\">\n",
              "  <thead>\n",
              "    <tr style=\"text-align: left;\">\n",
              "      <th>epoch</th>\n",
              "      <th>train_loss</th>\n",
              "      <th>valid_loss</th>\n",
              "      <th>accuracy</th>\n",
              "      <th>time</th>\n",
              "    </tr>\n",
              "  </thead>\n",
              "  <tbody>\n",
              "    <tr>\n",
              "      <td>0</td>\n",
              "      <td>2.069563</td>\n",
              "      <td>2.120255</td>\n",
              "      <td>0.626685</td>\n",
              "      <td>03:18</td>\n",
              "    </tr>\n",
              "    <tr>\n",
              "      <td>1</td>\n",
              "      <td>1.764500</td>\n",
              "      <td>1.955459</td>\n",
              "      <td>0.656334</td>\n",
              "      <td>03:16</td>\n",
              "    </tr>\n",
              "  </tbody>\n",
              "</table>"
            ],
            "text/plain": [
              "<IPython.core.display.HTML object>"
            ]
          },
          "metadata": {
            "tags": []
          }
        }
      ]
    },
    {
      "cell_type": "code",
      "metadata": {
        "id": "a7I1xMRp8bUd",
        "outputId": "96d4e0c4-f017-4c68-af4e-04e8b2a5c7fe",
        "colab": {
          "base_uri": "https://localhost:8080/",
          "height": 111
        }
      },
      "source": [
        "learn.fit_one_cycle(2, slice(2e-3/100, 2e-3))"
      ],
      "execution_count": 30,
      "outputs": [
        {
          "output_type": "display_data",
          "data": {
            "text/html": [
              "<table border=\"1\" class=\"dataframe\">\n",
              "  <thead>\n",
              "    <tr style=\"text-align: left;\">\n",
              "      <th>epoch</th>\n",
              "      <th>train_loss</th>\n",
              "      <th>valid_loss</th>\n",
              "      <th>accuracy</th>\n",
              "      <th>time</th>\n",
              "    </tr>\n",
              "  </thead>\n",
              "  <tbody>\n",
              "    <tr>\n",
              "      <td>0</td>\n",
              "      <td>1.628088</td>\n",
              "      <td>1.749959</td>\n",
              "      <td>0.680593</td>\n",
              "      <td>03:20</td>\n",
              "    </tr>\n",
              "    <tr>\n",
              "      <td>1</td>\n",
              "      <td>1.333917</td>\n",
              "      <td>1.664228</td>\n",
              "      <td>0.707547</td>\n",
              "      <td>03:29</td>\n",
              "    </tr>\n",
              "  </tbody>\n",
              "</table>"
            ],
            "text/plain": [
              "<IPython.core.display.HTML object>"
            ]
          },
          "metadata": {
            "tags": []
          }
        }
      ]
    },
    {
      "cell_type": "code",
      "metadata": {
        "id": "UAnti-XmGVfO",
        "outputId": "fac4077c-4df3-47c0-f34d-09ffb2dc5a98",
        "colab": {
          "base_uri": "https://localhost:8080/",
          "height": 111
        }
      },
      "source": [
        "learn.fit_one_cycle(2, slice(2e-3/100, 2e-3))"
      ],
      "execution_count": 31,
      "outputs": [
        {
          "output_type": "display_data",
          "data": {
            "text/html": [
              "<table border=\"1\" class=\"dataframe\">\n",
              "  <thead>\n",
              "    <tr style=\"text-align: left;\">\n",
              "      <th>epoch</th>\n",
              "      <th>train_loss</th>\n",
              "      <th>valid_loss</th>\n",
              "      <th>accuracy</th>\n",
              "      <th>time</th>\n",
              "    </tr>\n",
              "  </thead>\n",
              "  <tbody>\n",
              "    <tr>\n",
              "      <td>0</td>\n",
              "      <td>1.272004</td>\n",
              "      <td>1.597713</td>\n",
              "      <td>0.721024</td>\n",
              "      <td>03:27</td>\n",
              "    </tr>\n",
              "    <tr>\n",
              "      <td>1</td>\n",
              "      <td>1.063122</td>\n",
              "      <td>1.521818</td>\n",
              "      <td>0.729111</td>\n",
              "      <td>03:30</td>\n",
              "    </tr>\n",
              "  </tbody>\n",
              "</table>"
            ],
            "text/plain": [
              "<IPython.core.display.HTML object>"
            ]
          },
          "metadata": {
            "tags": []
          }
        }
      ]
    },
    {
      "cell_type": "code",
      "metadata": {
        "id": "bIft7W25GwSu",
        "outputId": "3d32a4dd-28b9-44a3-ed63-0dfa9dbf3918",
        "colab": {
          "base_uri": "https://localhost:8080/",
          "height": 111
        }
      },
      "source": [
        "learn.fit_one_cycle(2, slice(2e-3/100, 2e-3))"
      ],
      "execution_count": 32,
      "outputs": [
        {
          "output_type": "display_data",
          "data": {
            "text/html": [
              "<table border=\"1\" class=\"dataframe\">\n",
              "  <thead>\n",
              "    <tr style=\"text-align: left;\">\n",
              "      <th>epoch</th>\n",
              "      <th>train_loss</th>\n",
              "      <th>valid_loss</th>\n",
              "      <th>accuracy</th>\n",
              "      <th>time</th>\n",
              "    </tr>\n",
              "  </thead>\n",
              "  <tbody>\n",
              "    <tr>\n",
              "      <td>0</td>\n",
              "      <td>1.011288</td>\n",
              "      <td>1.468789</td>\n",
              "      <td>0.738544</td>\n",
              "      <td>03:24</td>\n",
              "    </tr>\n",
              "    <tr>\n",
              "      <td>1</td>\n",
              "      <td>0.871671</td>\n",
              "      <td>1.424433</td>\n",
              "      <td>0.750674</td>\n",
              "      <td>03:10</td>\n",
              "    </tr>\n",
              "  </tbody>\n",
              "</table>"
            ],
            "text/plain": [
              "<IPython.core.display.HTML object>"
            ]
          },
          "metadata": {
            "tags": []
          }
        }
      ]
    },
    {
      "cell_type": "code",
      "metadata": {
        "id": "EEHszVRvGyFt",
        "outputId": "ee203e93-0ef6-42f1-e77e-9915ea5373e9",
        "colab": {
          "base_uri": "https://localhost:8080/",
          "height": 111
        }
      },
      "source": [
        "learn.fit_one_cycle(2, slice(2e-3/100, 2e-3))"
      ],
      "execution_count": 33,
      "outputs": [
        {
          "output_type": "display_data",
          "data": {
            "text/html": [
              "<table border=\"1\" class=\"dataframe\">\n",
              "  <thead>\n",
              "    <tr style=\"text-align: left;\">\n",
              "      <th>epoch</th>\n",
              "      <th>train_loss</th>\n",
              "      <th>valid_loss</th>\n",
              "      <th>accuracy</th>\n",
              "      <th>time</th>\n",
              "    </tr>\n",
              "  </thead>\n",
              "  <tbody>\n",
              "    <tr>\n",
              "      <td>0</td>\n",
              "      <td>0.899133</td>\n",
              "      <td>1.345766</td>\n",
              "      <td>0.747978</td>\n",
              "      <td>03:11</td>\n",
              "    </tr>\n",
              "    <tr>\n",
              "      <td>1</td>\n",
              "      <td>0.728443</td>\n",
              "      <td>1.299285</td>\n",
              "      <td>0.765499</td>\n",
              "      <td>03:30</td>\n",
              "    </tr>\n",
              "  </tbody>\n",
              "</table>"
            ],
            "text/plain": [
              "<IPython.core.display.HTML object>"
            ]
          },
          "metadata": {
            "tags": []
          }
        }
      ]
    },
    {
      "cell_type": "code",
      "metadata": {
        "id": "XsHfrhCHG3dN",
        "outputId": "0089da8d-77eb-4b1b-9ed8-18609118d046",
        "colab": {
          "base_uri": "https://localhost:8080/",
          "height": 173
        }
      },
      "source": [
        "learn.fit_one_cycle(4, slice(2e-3/100, 2e-3))"
      ],
      "execution_count": 34,
      "outputs": [
        {
          "output_type": "display_data",
          "data": {
            "text/html": [
              "<table border=\"1\" class=\"dataframe\">\n",
              "  <thead>\n",
              "    <tr style=\"text-align: left;\">\n",
              "      <th>epoch</th>\n",
              "      <th>train_loss</th>\n",
              "      <th>valid_loss</th>\n",
              "      <th>accuracy</th>\n",
              "      <th>time</th>\n",
              "    </tr>\n",
              "  </thead>\n",
              "  <tbody>\n",
              "    <tr>\n",
              "      <td>0</td>\n",
              "      <td>0.653672</td>\n",
              "      <td>1.323170</td>\n",
              "      <td>0.773585</td>\n",
              "      <td>03:19</td>\n",
              "    </tr>\n",
              "    <tr>\n",
              "      <td>1</td>\n",
              "      <td>0.685464</td>\n",
              "      <td>1.245390</td>\n",
              "      <td>0.781671</td>\n",
              "      <td>03:26</td>\n",
              "    </tr>\n",
              "    <tr>\n",
              "      <td>2</td>\n",
              "      <td>0.607195</td>\n",
              "      <td>1.153271</td>\n",
              "      <td>0.793801</td>\n",
              "      <td>03:31</td>\n",
              "    </tr>\n",
              "    <tr>\n",
              "      <td>3</td>\n",
              "      <td>0.514635</td>\n",
              "      <td>1.164088</td>\n",
              "      <td>0.799191</td>\n",
              "      <td>03:22</td>\n",
              "    </tr>\n",
              "  </tbody>\n",
              "</table>"
            ],
            "text/plain": [
              "<IPython.core.display.HTML object>"
            ]
          },
          "metadata": {
            "tags": []
          }
        }
      ]
    },
    {
      "cell_type": "code",
      "metadata": {
        "id": "0Zsd99isb9EQ",
        "outputId": "81a393ff-7470-4343-9a69-f69283ab557d",
        "colab": {
          "base_uri": "https://localhost:8080/",
          "height": 173
        }
      },
      "source": [
        "learn.fit_one_cycle(4, slice(2e-3/100, 2e-3))"
      ],
      "execution_count": 35,
      "outputs": [
        {
          "output_type": "display_data",
          "data": {
            "text/html": [
              "<table border=\"1\" class=\"dataframe\">\n",
              "  <thead>\n",
              "    <tr style=\"text-align: left;\">\n",
              "      <th>epoch</th>\n",
              "      <th>train_loss</th>\n",
              "      <th>valid_loss</th>\n",
              "      <th>accuracy</th>\n",
              "      <th>time</th>\n",
              "    </tr>\n",
              "  </thead>\n",
              "  <tbody>\n",
              "    <tr>\n",
              "      <td>0</td>\n",
              "      <td>0.502947</td>\n",
              "      <td>1.192338</td>\n",
              "      <td>0.799191</td>\n",
              "      <td>03:10</td>\n",
              "    </tr>\n",
              "    <tr>\n",
              "      <td>1</td>\n",
              "      <td>0.516625</td>\n",
              "      <td>1.163584</td>\n",
              "      <td>0.796496</td>\n",
              "      <td>03:15</td>\n",
              "    </tr>\n",
              "    <tr>\n",
              "      <td>2</td>\n",
              "      <td>0.461528</td>\n",
              "      <td>1.101443</td>\n",
              "      <td>0.807278</td>\n",
              "      <td>03:13</td>\n",
              "    </tr>\n",
              "    <tr>\n",
              "      <td>3</td>\n",
              "      <td>0.388674</td>\n",
              "      <td>1.082634</td>\n",
              "      <td>0.812668</td>\n",
              "      <td>03:26</td>\n",
              "    </tr>\n",
              "  </tbody>\n",
              "</table>"
            ],
            "text/plain": [
              "<IPython.core.display.HTML object>"
            ]
          },
          "metadata": {
            "tags": []
          }
        }
      ]
    },
    {
      "cell_type": "code",
      "metadata": {
        "id": "atNWNKDFPbuI",
        "outputId": "783dac45-996e-43e0-c648-c14979bf5a0c",
        "colab": {
          "base_uri": "https://localhost:8080/",
          "height": 173
        }
      },
      "source": [
        "learn.fit_one_cycle(4, slice(2e-3/100, 2e-3))"
      ],
      "execution_count": 36,
      "outputs": [
        {
          "output_type": "display_data",
          "data": {
            "text/html": [
              "<table border=\"1\" class=\"dataframe\">\n",
              "  <thead>\n",
              "    <tr style=\"text-align: left;\">\n",
              "      <th>epoch</th>\n",
              "      <th>train_loss</th>\n",
              "      <th>valid_loss</th>\n",
              "      <th>accuracy</th>\n",
              "      <th>time</th>\n",
              "    </tr>\n",
              "  </thead>\n",
              "  <tbody>\n",
              "    <tr>\n",
              "      <td>0</td>\n",
              "      <td>0.401081</td>\n",
              "      <td>1.209533</td>\n",
              "      <td>0.815364</td>\n",
              "      <td>03:34</td>\n",
              "    </tr>\n",
              "    <tr>\n",
              "      <td>1</td>\n",
              "      <td>0.447406</td>\n",
              "      <td>1.099672</td>\n",
              "      <td>0.818059</td>\n",
              "      <td>03:37</td>\n",
              "    </tr>\n",
              "    <tr>\n",
              "      <td>2</td>\n",
              "      <td>0.370094</td>\n",
              "      <td>1.083227</td>\n",
              "      <td>0.832884</td>\n",
              "      <td>03:13</td>\n",
              "    </tr>\n",
              "    <tr>\n",
              "      <td>3</td>\n",
              "      <td>0.298138</td>\n",
              "      <td>1.060173</td>\n",
              "      <td>0.832884</td>\n",
              "      <td>03:29</td>\n",
              "    </tr>\n",
              "  </tbody>\n",
              "</table>"
            ],
            "text/plain": [
              "<IPython.core.display.HTML object>"
            ]
          },
          "metadata": {
            "tags": []
          }
        }
      ]
    },
    {
      "cell_type": "code",
      "metadata": {
        "id": "rKrBTZ0T1uVA",
        "outputId": "5194a723-ed8f-4227-b1a7-86e826943696",
        "colab": {
          "base_uri": "https://localhost:8080/",
          "height": 173
        }
      },
      "source": [
        "learn.fit_one_cycle(4, slice(2e-3/100, 2e-3))"
      ],
      "execution_count": 37,
      "outputs": [
        {
          "output_type": "display_data",
          "data": {
            "text/html": [
              "<table border=\"1\" class=\"dataframe\">\n",
              "  <thead>\n",
              "    <tr style=\"text-align: left;\">\n",
              "      <th>epoch</th>\n",
              "      <th>train_loss</th>\n",
              "      <th>valid_loss</th>\n",
              "      <th>accuracy</th>\n",
              "      <th>time</th>\n",
              "    </tr>\n",
              "  </thead>\n",
              "  <tbody>\n",
              "    <tr>\n",
              "      <td>0</td>\n",
              "      <td>0.315325</td>\n",
              "      <td>1.091302</td>\n",
              "      <td>0.830189</td>\n",
              "      <td>03:15</td>\n",
              "    </tr>\n",
              "    <tr>\n",
              "      <td>1</td>\n",
              "      <td>0.381078</td>\n",
              "      <td>1.154638</td>\n",
              "      <td>0.830189</td>\n",
              "      <td>03:16</td>\n",
              "    </tr>\n",
              "    <tr>\n",
              "      <td>2</td>\n",
              "      <td>0.300873</td>\n",
              "      <td>1.092395</td>\n",
              "      <td>0.834232</td>\n",
              "      <td>03:13</td>\n",
              "    </tr>\n",
              "    <tr>\n",
              "      <td>3</td>\n",
              "      <td>0.260305</td>\n",
              "      <td>1.065515</td>\n",
              "      <td>0.834232</td>\n",
              "      <td>03:22</td>\n",
              "    </tr>\n",
              "  </tbody>\n",
              "</table>"
            ],
            "text/plain": [
              "<IPython.core.display.HTML object>"
            ]
          },
          "metadata": {
            "tags": []
          }
        }
      ]
    },
    {
      "cell_type": "code",
      "metadata": {
        "id": "ajQC6WDg1yA9",
        "outputId": "65ca3775-6c21-4bc1-a86e-01ac7109aa11",
        "colab": {
          "base_uri": "https://localhost:8080/",
          "height": 173
        }
      },
      "source": [
        "learn.fit_one_cycle(4, slice(2e-3/100, 2e-3))"
      ],
      "execution_count": 38,
      "outputs": [
        {
          "output_type": "display_data",
          "data": {
            "text/html": [
              "<table border=\"1\" class=\"dataframe\">\n",
              "  <thead>\n",
              "    <tr style=\"text-align: left;\">\n",
              "      <th>epoch</th>\n",
              "      <th>train_loss</th>\n",
              "      <th>valid_loss</th>\n",
              "      <th>accuracy</th>\n",
              "      <th>time</th>\n",
              "    </tr>\n",
              "  </thead>\n",
              "  <tbody>\n",
              "    <tr>\n",
              "      <td>0</td>\n",
              "      <td>0.266646</td>\n",
              "      <td>1.132112</td>\n",
              "      <td>0.826146</td>\n",
              "      <td>03:39</td>\n",
              "    </tr>\n",
              "    <tr>\n",
              "      <td>1</td>\n",
              "      <td>0.286665</td>\n",
              "      <td>1.205008</td>\n",
              "      <td>0.819407</td>\n",
              "      <td>03:27</td>\n",
              "    </tr>\n",
              "    <tr>\n",
              "      <td>2</td>\n",
              "      <td>0.283235</td>\n",
              "      <td>1.150126</td>\n",
              "      <td>0.835580</td>\n",
              "      <td>03:12</td>\n",
              "    </tr>\n",
              "    <tr>\n",
              "      <td>3</td>\n",
              "      <td>0.242316</td>\n",
              "      <td>1.160549</td>\n",
              "      <td>0.832884</td>\n",
              "      <td>03:15</td>\n",
              "    </tr>\n",
              "  </tbody>\n",
              "</table>"
            ],
            "text/plain": [
              "<IPython.core.display.HTML object>"
            ]
          },
          "metadata": {
            "tags": []
          }
        }
      ]
    },
    {
      "cell_type": "code",
      "metadata": {
        "id": "KKydb0B4BKGk",
        "outputId": "0b59600b-3895-4f9e-8e6e-072704daf1c4",
        "colab": {
          "base_uri": "https://localhost:8080/",
          "height": 173
        }
      },
      "source": [
        "learn.fit_one_cycle(4, slice(2e-3/100, 2e-3))"
      ],
      "execution_count": 39,
      "outputs": [
        {
          "output_type": "display_data",
          "data": {
            "text/html": [
              "<table border=\"1\" class=\"dataframe\">\n",
              "  <thead>\n",
              "    <tr style=\"text-align: left;\">\n",
              "      <th>epoch</th>\n",
              "      <th>train_loss</th>\n",
              "      <th>valid_loss</th>\n",
              "      <th>accuracy</th>\n",
              "      <th>time</th>\n",
              "    </tr>\n",
              "  </thead>\n",
              "  <tbody>\n",
              "    <tr>\n",
              "      <td>0</td>\n",
              "      <td>0.246631</td>\n",
              "      <td>1.151352</td>\n",
              "      <td>0.831536</td>\n",
              "      <td>03:29</td>\n",
              "    </tr>\n",
              "    <tr>\n",
              "      <td>1</td>\n",
              "      <td>0.240932</td>\n",
              "      <td>1.138350</td>\n",
              "      <td>0.838275</td>\n",
              "      <td>03:22</td>\n",
              "    </tr>\n",
              "    <tr>\n",
              "      <td>2</td>\n",
              "      <td>0.214306</td>\n",
              "      <td>1.140866</td>\n",
              "      <td>0.836927</td>\n",
              "      <td>03:16</td>\n",
              "    </tr>\n",
              "    <tr>\n",
              "      <td>3</td>\n",
              "      <td>0.206666</td>\n",
              "      <td>1.148106</td>\n",
              "      <td>0.830189</td>\n",
              "      <td>03:27</td>\n",
              "    </tr>\n",
              "  </tbody>\n",
              "</table>"
            ],
            "text/plain": [
              "<IPython.core.display.HTML object>"
            ]
          },
          "metadata": {
            "tags": []
          }
        }
      ]
    },
    {
      "cell_type": "code",
      "metadata": {
        "id": "T2APKtFKBpGY",
        "outputId": "08efe8de-9b15-48f4-9207-e944ee5a8fe7",
        "colab": {
          "base_uri": "https://localhost:8080/",
          "height": 173
        }
      },
      "source": [
        "learn.fit_one_cycle(4, slice(2e-3/100, 2e-3))"
      ],
      "execution_count": 40,
      "outputs": [
        {
          "output_type": "display_data",
          "data": {
            "text/html": [
              "<table border=\"1\" class=\"dataframe\">\n",
              "  <thead>\n",
              "    <tr style=\"text-align: left;\">\n",
              "      <th>epoch</th>\n",
              "      <th>train_loss</th>\n",
              "      <th>valid_loss</th>\n",
              "      <th>accuracy</th>\n",
              "      <th>time</th>\n",
              "    </tr>\n",
              "  </thead>\n",
              "  <tbody>\n",
              "    <tr>\n",
              "      <td>0</td>\n",
              "      <td>0.207448</td>\n",
              "      <td>1.141320</td>\n",
              "      <td>0.830189</td>\n",
              "      <td>03:28</td>\n",
              "    </tr>\n",
              "    <tr>\n",
              "      <td>1</td>\n",
              "      <td>0.248496</td>\n",
              "      <td>1.175969</td>\n",
              "      <td>0.827493</td>\n",
              "      <td>03:20</td>\n",
              "    </tr>\n",
              "    <tr>\n",
              "      <td>2</td>\n",
              "      <td>0.229659</td>\n",
              "      <td>1.181817</td>\n",
              "      <td>0.835580</td>\n",
              "      <td>03:27</td>\n",
              "    </tr>\n",
              "    <tr>\n",
              "      <td>3</td>\n",
              "      <td>0.207630</td>\n",
              "      <td>1.151481</td>\n",
              "      <td>0.834232</td>\n",
              "      <td>03:20</td>\n",
              "    </tr>\n",
              "  </tbody>\n",
              "</table>"
            ],
            "text/plain": [
              "<IPython.core.display.HTML object>"
            ]
          },
          "metadata": {
            "tags": []
          }
        }
      ]
    },
    {
      "cell_type": "code",
      "metadata": {
        "id": "qtTypA1sPgLU",
        "outputId": "29cb2d29-c2db-49da-a3a4-cdaebff78a8e",
        "colab": {
          "base_uri": "https://localhost:8080/",
          "height": 111
        }
      },
      "source": [
        "learn.fit_one_cycle(2, slice(2e-3/100, 2e-3))"
      ],
      "execution_count": 41,
      "outputs": [
        {
          "output_type": "display_data",
          "data": {
            "text/html": [
              "<table border=\"1\" class=\"dataframe\">\n",
              "  <thead>\n",
              "    <tr style=\"text-align: left;\">\n",
              "      <th>epoch</th>\n",
              "      <th>train_loss</th>\n",
              "      <th>valid_loss</th>\n",
              "      <th>accuracy</th>\n",
              "      <th>time</th>\n",
              "    </tr>\n",
              "  </thead>\n",
              "  <tbody>\n",
              "    <tr>\n",
              "      <td>0</td>\n",
              "      <td>0.208435</td>\n",
              "      <td>1.202019</td>\n",
              "      <td>0.831536</td>\n",
              "      <td>03:11</td>\n",
              "    </tr>\n",
              "    <tr>\n",
              "      <td>1</td>\n",
              "      <td>0.197626</td>\n",
              "      <td>1.173470</td>\n",
              "      <td>0.831536</td>\n",
              "      <td>03:18</td>\n",
              "    </tr>\n",
              "  </tbody>\n",
              "</table>"
            ],
            "text/plain": [
              "<IPython.core.display.HTML object>"
            ]
          },
          "metadata": {
            "tags": []
          }
        }
      ]
    },
    {
      "cell_type": "code",
      "metadata": {
        "id": "b242kBsTUp9Y",
        "outputId": "e9f2f77a-cd86-4cee-9a3a-60ca1a7d52d7",
        "colab": {
          "base_uri": "https://localhost:8080/",
          "height": 111
        }
      },
      "source": [
        "learn.fit_one_cycle(2, slice(2e-3/100, 2e-3))"
      ],
      "execution_count": 42,
      "outputs": [
        {
          "output_type": "display_data",
          "data": {
            "text/html": [
              "<table border=\"1\" class=\"dataframe\">\n",
              "  <thead>\n",
              "    <tr style=\"text-align: left;\">\n",
              "      <th>epoch</th>\n",
              "      <th>train_loss</th>\n",
              "      <th>valid_loss</th>\n",
              "      <th>accuracy</th>\n",
              "      <th>time</th>\n",
              "    </tr>\n",
              "  </thead>\n",
              "  <tbody>\n",
              "    <tr>\n",
              "      <td>0</td>\n",
              "      <td>0.231631</td>\n",
              "      <td>1.168987</td>\n",
              "      <td>0.827493</td>\n",
              "      <td>03:24</td>\n",
              "    </tr>\n",
              "    <tr>\n",
              "      <td>1</td>\n",
              "      <td>0.185198</td>\n",
              "      <td>1.141858</td>\n",
              "      <td>0.836927</td>\n",
              "      <td>03:13</td>\n",
              "    </tr>\n",
              "  </tbody>\n",
              "</table>"
            ],
            "text/plain": [
              "<IPython.core.display.HTML object>"
            ]
          },
          "metadata": {
            "tags": []
          }
        }
      ]
    },
    {
      "cell_type": "code",
      "metadata": {
        "id": "Duwf1Ih5VeDZ",
        "outputId": "2c0dffe9-31a9-41dd-dba7-caf2c8a9ccd5",
        "colab": {
          "base_uri": "https://localhost:8080/",
          "height": 80
        }
      },
      "source": [
        "learn.fit_one_cycle(1, slice(2e-3/100, 2e-3))"
      ],
      "execution_count": 43,
      "outputs": [
        {
          "output_type": "display_data",
          "data": {
            "text/html": [
              "<table border=\"1\" class=\"dataframe\">\n",
              "  <thead>\n",
              "    <tr style=\"text-align: left;\">\n",
              "      <th>epoch</th>\n",
              "      <th>train_loss</th>\n",
              "      <th>valid_loss</th>\n",
              "      <th>accuracy</th>\n",
              "      <th>time</th>\n",
              "    </tr>\n",
              "  </thead>\n",
              "  <tbody>\n",
              "    <tr>\n",
              "      <td>0</td>\n",
              "      <td>0.185764</td>\n",
              "      <td>1.213735</td>\n",
              "      <td>0.835580</td>\n",
              "      <td>03:35</td>\n",
              "    </tr>\n",
              "  </tbody>\n",
              "</table>"
            ],
            "text/plain": [
              "<IPython.core.display.HTML object>"
            ]
          },
          "metadata": {
            "tags": []
          }
        }
      ]
    },
    {
      "cell_type": "code",
      "metadata": {
        "id": "c65d-osfDUXm"
      },
      "source": [
        "# save the best model\n",
        "\n",
        "learn.save_encoder('pubmed_ask_mixed_fold9')"
      ],
      "execution_count": 44,
      "outputs": []
    },
    {
      "cell_type": "markdown",
      "metadata": {
        "id": "rCwZU0E2RgM6"
      },
      "source": [
        "# Part three: Predict on the test dataset"
      ]
    },
    {
      "cell_type": "code",
      "metadata": {
        "id": "gDm72c-dOu7d",
        "outputId": "0da89457-9039-4d9a-941a-f2f82700fd20",
        "colab": {
          "base_uri": "https://localhost:8080/",
          "height": 17
        }
      },
      "source": [
        "# use the test data for prediction\n",
        "\n",
        "preds, y = learn.get_preds(DatasetType.Test)"
      ],
      "execution_count": 45,
      "outputs": [
        {
          "output_type": "display_data",
          "data": {
            "text/html": [
              ""
            ],
            "text/plain": [
              "<IPython.core.display.HTML object>"
            ]
          },
          "metadata": {
            "tags": []
          }
        }
      ]
    },
    {
      "cell_type": "code",
      "metadata": {
        "id": "6tFSQcsWPvxn",
        "outputId": "e8f030e5-cdba-42da-c4f0-df307b958f56",
        "colab": {
          "base_uri": "https://localhost:8080/",
          "height": 105
        }
      },
      "source": [
        "predictions, *_ = learn.get_preds(DatasetType.Test)\n",
        "labels = np.argmax(predictions, 1)\n",
        "predict_list = labels.tolist()\n",
        "standard_list = test[0].tolist()\n",
        "\n",
        "print(len(predict_list))\n",
        "print(len(standard_list))\n",
        "\n",
        "print(predict_list)\n",
        "print(standard_list)"
      ],
      "execution_count": 46,
      "outputs": [
        {
          "output_type": "display_data",
          "data": {
            "text/html": [
              ""
            ],
            "text/plain": [
              "<IPython.core.display.HTML object>"
            ]
          },
          "metadata": {
            "tags": []
          }
        },
        {
          "output_type": "stream",
          "text": [
            "866\n",
            "866\n",
            "[2, 348, 334, 243, 8, 8, 8, 8, 8, 11, 16, 16, 20, 20, 21, 24, 413, 407, 27, 749, 31, 31, 31, 37, 37, 37, 37, 37, 37, 37, 37, 37, 37, 37, 38, 41, 1026, 49, 49, 49, 100, 640, 53, 53, 603, 60, 15, 63, 426, 343, 71, 73, 76, 76, 512, 79, 79, 79, 79, 79, 79, 79, 79, 79, 79, 79, 79, 79, 79, 79, 79, 79, 79, 79, 79, 79, 79, 79, 79, 79, 79, 79, 79, 265, 79, 79, 79, 79, 79, 46, 265, 289, 80, 80, 491, 478, 85, 88, 841, 89, 137, 90, 91, 91, 92, 94, 94, 94, 94, 94, 94, 94, 94, 214, 705, 96, 594, 234, 98, 49, 100, 100, 100, 414, 505, 108, 108, 108, 108, 111, 111, 111, 111, 117, 117, 117, 117, 125, 125, 125, 125, 125, 125, 125, 125, 125, 125, 125, 125, 125, 125, 773, 129, 129, 644, 27, 268, 268, 137, 139, 144, 142, 148, 151, 151, 158, 160, 160, 321, 166, 166, 166, 166, 166, 166, 771, 172, 172, 751, 700, 172, 172, 172, 172, 214, 173, 624, 165, 181, 127, 182, 182, 182, 182, 183, 183, 183, 183, 183, 183, 184, 187, 187, 187, 188, 190, 190, 190, 190, 190, 190, 190, 197, 197, 202, 206, 210, 210, 210, 210, 649, 214, 342, 214, 214, 214, 214, 214, 214, 214, 214, 214, 425, 216, 49, 243, 218, 226, 226, 228, 228, 228, 228, 228, 228, 111, 465, 228, 228, 228, 228, 228, 228, 228, 228, 228, 228, 231, 232, 234, 234, 235, 235, 557, 235, 236, 236, 434, 243, 243, 243, 243, 243, 243, 243, 245, 245, 245, 245, 245, 245, 245, 245, 876, 246, 246, 446, 254, 254, 441, 260, 260, 525, 265, 265, 265, 265, 265, 265, 265, 2, 265, 265, 265, 265, 265, 265, 265, 265, 265, 265, 265, 265, 265, 265, 265, 265, 265, 265, 265, 294, 276, 277, 280, 280, 280, 281, 281, 283, 505, 289, 614, 289, 289, 289, 289, 289, 265, 289, 265, 289, 289, 289, 289, 289, 289, 289, 289, 289, 289, 289, 289, 289, 289, 591, 300, 147, 780, 301, 301, 301, 309, 309, 309, 309, 309, 309, 309, 321, 313, 236, 683, 318, 318, 318, 318, 318, 318, 318, 507, 507, 507, 325, 507, 507, 507, 507, 507, 507, 507, 507, 507, 256, 256, 235, 326, 332, 334, 336, 336, 337, 337, 337, 343, 343, 344, 402, 351, 359, 363, 363, 364, 364, 364, 858, 826, 384, 387, 391, 391, 402, 402, 358, 626, 505, 415, 775, 418, 419, 419, 652, 419, 419, 419, 426, 427, 427, 775, 427, 312, 816, 427, 100, 427, 435, 905, 664, 437, 64, 443, 444, 664, 446, 273, 541, 455, 455, 455, 455, 455, 455, 455, 455, 455, 460, 460, 464, 462, 463, 908, 95, 470, 475, 475, 475, 475, 591, 476, 479, 488, 487, 489, 490, 491, 491, 664, 491, 491, 491, 861, 491, 492, 854, 499, 499, 154, 516, 516, 517, 383, 517, 517, 517, 517, 521, 522, 524, 529, 530, 517, 531, 531, 27, 317, 536, 539, 291, 291, 545, 545, 545, 545, 727, 548, 548, 660, 557, 559, 491, 487, 574, 733, 579, 579, 579, 902, 473, 590, 590, 591, 592, 594, 427, 597, 172, 326, 614, 614, 614, 614, 614, 614, 614, 614, 617, 620, 775, 623, 640, 348, 623, 213, 90, 635, 643, 644, 326, 646, 646, 646, 383, 652, 652, 652, 652, 652, 656, 658, 491, 491, 491, 662, 810, 665, 521, 681, 679, 686, 686, 647, 335, 330, 364, 700, 172, 704, 681, 708, 109, 715, 717, 851, 894, 510, 718, 88, 649, 37, 746, 746, 746, 746, 749, 537, 759, 17, 770, 772, 770, 301, 775, 775, 775, 852, 868, 795, 798, 753, 804, 805, 233, 806, 806, 808, 808, 809, 809, 809, 809, 809, 536, 810, 812, 825, 826, 826, 537, 830, 830, 830, 830, 830, 830, 830, 830, 90, 202, 839, 135, 90, 840, 840, 841, 198, 843, 846, 846, 847, 644, 851, 852, 852, 853, 853, 853, 853, 853, 853, 853, 853, 853, 853, 853, 236, 283, 117, 704, 172, 358, 323, 402, 888, 888, 892, 579, 896, 896, 896, 896, 896, 896, 896, 896, 896, 894, 912, 919, 919, 919, 919, 919, 933, 936, 937, 937, 116, 937, 943, 948, 948, 948, 949, 949, 949, 949, 949, 949, 949, 949, 949, 949, 949, 949, 949, 949, 949, 949, 949, 949, 949, 949, 949, 949, 949, 949, 949, 949, 949, 949, 949, 949, 949, 949, 949, 949, 949, 949, 949, 949, 949, 949, 949, 949, 949, 949, 949, 949, 949, 949, 949, 949, 949, 949, 949, 949, 949, 949, 949, 949, 949, 949, 949, 949, 949, 949, 949, 949, 949, 949, 949, 949, 949, 949, 949, 949, 949, 949, 949, 949, 949, 949, 949, 949, 949, 949, 949, 949, 949, 949, 949, 949, 949, 949, 949, 949, 949, 949, 949, 949, 949, 949, 949, 949, 949, 949, 949, 949, 949, 949, 949, 949, 949, 950, 950, 950, 950, 932, 950, 952, 953, 955, 960, 960, 983, 964, 965, 966, 970, 114, 976, 243, 1026, 992, 967, 1001, 950, 1015, 1015, 1015, 1017, 1024, 1026, 1026, 1028, 1023, 1035]\n",
            "[2, 4, 5, 7, 8, 8, 8, 8, 8, 11, 16, 16, 20, 20, 21, 24, 27, 27, 27, 29, 31, 31, 31, 37, 37, 37, 37, 37, 37, 37, 37, 37, 37, 37, 38, 41, 49, 49, 49, 49, 49, 50, 53, 53, 55, 60, 61, 63, 65, 66, 71, 73, 76, 76, 78, 79, 79, 79, 79, 79, 79, 79, 79, 79, 79, 79, 79, 79, 79, 79, 79, 79, 79, 79, 79, 79, 79, 79, 79, 79, 79, 79, 79, 79, 79, 79, 79, 79, 79, 79, 79, 79, 80, 80, 82, 82, 85, 88, 88, 89, 89, 91, 91, 91, 92, 94, 94, 94, 94, 94, 94, 94, 94, 94, 96, 96, 97, 98, 98, 100, 100, 100, 100, 100, 107, 108, 108, 108, 108, 111, 111, 111, 111, 117, 117, 117, 117, 125, 125, 125, 125, 125, 125, 125, 125, 125, 125, 125, 125, 125, 125, 127, 129, 129, 133, 135, 137, 137, 137, 139, 140, 142, 148, 151, 151, 158, 160, 160, 163, 166, 166, 166, 166, 166, 166, 166, 172, 172, 172, 172, 172, 172, 172, 172, 173, 173, 175, 178, 181, 182, 182, 182, 182, 182, 183, 183, 183, 183, 183, 183, 184, 187, 187, 187, 188, 190, 190, 190, 190, 190, 190, 190, 197, 197, 202, 206, 210, 210, 210, 210, 212, 214, 214, 214, 214, 214, 214, 214, 214, 214, 214, 214, 215, 216, 216, 218, 218, 226, 226, 228, 228, 228, 228, 228, 228, 228, 228, 228, 228, 228, 228, 228, 228, 228, 228, 228, 228, 231, 232, 234, 234, 235, 235, 235, 235, 236, 236, 238, 238, 243, 243, 243, 243, 243, 243, 245, 245, 245, 245, 245, 245, 245, 245, 245, 246, 246, 253, 254, 254, 258, 260, 260, 260, 265, 265, 265, 265, 265, 265, 265, 265, 265, 265, 265, 265, 265, 265, 265, 265, 265, 265, 265, 265, 265, 265, 265, 265, 265, 265, 265, 272, 276, 277, 280, 280, 280, 281, 281, 283, 288, 289, 289, 289, 289, 289, 289, 289, 289, 289, 289, 289, 289, 289, 289, 289, 289, 289, 289, 289, 289, 289, 289, 289, 289, 291, 300, 300, 301, 301, 301, 301, 309, 309, 309, 309, 309, 309, 309, 311, 313, 314, 316, 318, 318, 318, 318, 318, 318, 318, 325, 325, 325, 325, 325, 325, 325, 325, 325, 325, 325, 325, 325, 325, 325, 325, 326, 332, 334, 336, 336, 337, 337, 337, 343, 343, 344, 344, 351, 359, 363, 363, 364, 364, 364, 367, 377, 384, 387, 391, 391, 402, 402, 402, 408, 408, 415, 415, 418, 419, 419, 419, 419, 419, 419, 426, 427, 427, 427, 427, 427, 427, 427, 427, 427, 435, 436, 437, 437, 438, 443, 444, 445, 446, 447, 455, 455, 455, 455, 455, 455, 455, 455, 455, 455, 460, 460, 461, 462, 463, 467, 468, 470, 475, 475, 475, 475, 475, 476, 479, 487, 487, 489, 490, 491, 491, 491, 491, 491, 491, 491, 491, 492, 493, 499, 499, 500, 516, 516, 517, 517, 517, 517, 517, 517, 521, 522, 524, 529, 530, 531, 531, 531, 532, 533, 536, 539, 541, 541, 545, 545, 545, 545, 546, 548, 548, 554, 557, 559, 562, 565, 574, 577, 579, 579, 579, 581, 589, 590, 590, 591, 592, 594, 597, 597, 604, 610, 614, 614, 614, 614, 614, 614, 614, 614, 617, 620, 621, 623, 623, 623, 623, 629, 634, 635, 643, 644, 645, 646, 646, 646, 648, 651, 652, 652, 652, 652, 656, 658, 662, 662, 662, 662, 666, 670, 673, 677, 677, 686, 686, 688, 692, 693, 697, 700, 700, 704, 706, 708, 713, 715, 717, 728, 728, 728, 730, 733, 741, 741, 746, 746, 746, 746, 749, 750, 759, 762, 770, 772, 773, 775, 775, 775, 775, 785, 791, 795, 798, 803, 804, 805, 805, 806, 806, 808, 808, 809, 809, 809, 809, 809, 810, 810, 812, 825, 826, 826, 830, 830, 830, 830, 830, 830, 830, 830, 830, 834, 834, 839, 840, 840, 840, 840, 841, 842, 843, 844, 846, 847, 848, 851, 852, 852, 853, 853, 853, 853, 853, 853, 853, 853, 853, 853, 853, 853, 853, 855, 861, 864, 872, 881, 885, 888, 888, 892, 896, 896, 896, 896, 896, 896, 896, 897, 897, 897, 899, 912, 919, 919, 919, 919, 919, 933, 936, 937, 937, 937, 937, 943, 948, 948, 948, 949, 949, 949, 949, 949, 949, 949, 949, 949, 949, 949, 949, 949, 949, 949, 949, 949, 949, 949, 949, 949, 949, 949, 949, 949, 949, 949, 949, 949, 949, 949, 949, 949, 949, 949, 949, 949, 949, 949, 949, 949, 949, 949, 949, 949, 949, 949, 949, 949, 949, 949, 949, 949, 949, 949, 949, 949, 949, 949, 949, 949, 949, 949, 949, 949, 949, 949, 949, 949, 949, 949, 949, 949, 949, 949, 949, 949, 949, 949, 949, 949, 949, 949, 949, 949, 949, 949, 949, 949, 949, 949, 949, 949, 949, 949, 949, 949, 949, 949, 949, 949, 949, 949, 949, 949, 949, 949, 949, 949, 949, 949, 950, 950, 950, 950, 950, 950, 952, 953, 955, 960, 961, 964, 964, 965, 966, 970, 975, 976, 985, 988, 992, 995, 1001, 1009, 1015, 1015, 1015, 1017, 1024, 1026, 1026, 1028, 1032, 1035]\n"
          ],
          "name": "stdout"
        }
      ]
    },
    {
      "cell_type": "code",
      "metadata": {
        "id": "XIC4zufnMxtq",
        "outputId": "8f75888d-d6ff-41d9-f58d-6b344e2f853a",
        "colab": {
          "base_uri": "https://localhost:8080/"
        }
      },
      "source": [
        "correct_num = 0\n",
        "\n",
        "for i in range(0, len(standard_list)):\n",
        "  if predict_list[i] == standard_list[i]:\n",
        "    correct_num = correct_num+1\n",
        "  else:\n",
        "    pass\n",
        "print(correct_num)\n",
        "\n",
        "predict_accuracy = correct_num/len(predict_list)\n",
        "print(predict_accuracy)"
      ],
      "execution_count": 47,
      "outputs": [
        {
          "output_type": "stream",
          "text": [
            "668\n",
            "0.7713625866050808\n"
          ],
          "name": "stdout"
        }
      ]
    },
    {
      "cell_type": "code",
      "metadata": {
        "id": "zlKMHp1CIaRJ"
      },
      "source": [
        ""
      ],
      "execution_count": 47,
      "outputs": []
    }
  ]
}