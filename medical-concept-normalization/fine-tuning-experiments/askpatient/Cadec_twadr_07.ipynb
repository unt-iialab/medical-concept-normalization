{
  "nbformat": 4,
  "nbformat_minor": 0,
  "metadata": {
    "accelerator": "TPU",
    "colab": {
      "name": "Cadec_twadr_07.ipynb",
      "provenance": [],
      "collapsed_sections": [],
      "include_colab_link": true
    },
    "kernelspec": {
      "display_name": "Python 3",
      "name": "python3"
    }
  },
  "cells": [
    {
      "cell_type": "markdown",
      "metadata": {
        "id": "view-in-github",
        "colab_type": "text"
      },
      "source": [
        "<a href=\"https://colab.research.google.com/github/unt-iialab/medical-concept-normalization/blob/master/medical-concept-normalization/fine-tuning-experiments/askpatient/Cadec_twadr_07.ipynb\" target=\"_parent\"><img src=\"https://colab.research.google.com/assets/colab-badge.svg\" alt=\"Open In Colab\"/></a>"
      ]
    },
    {
      "cell_type": "code",
      "metadata": {
        "id": "adSi6i2-dWxy"
      },
      "source": [
        "import os"
      ],
      "execution_count": null,
      "outputs": []
    },
    {
      "cell_type": "code",
      "metadata": {
        "id": "E7xYCRGPjd9B"
      },
      "source": [
        "base_dir = 'medical-concept-normalization'"
      ],
      "execution_count": null,
      "outputs": []
    },
    {
      "cell_type": "code",
      "metadata": {
        "id": "yvIW3aUDjYNS"
      },
      "source": [
        "os.mkdir(base_dir)"
      ],
      "execution_count": null,
      "outputs": []
    },
    {
      "cell_type": "code",
      "metadata": {
        "id": "es-FFLlfk6SG"
      },
      "source": [
        "os.mkdir('medical-concept-normalization/data_collection')"
      ],
      "execution_count": null,
      "outputs": []
    },
    {
      "cell_type": "markdown",
      "metadata": {
        "id": "0R-Guw_VoJXm"
      },
      "source": [
        "**Install fastai and clone the fastai for text classification**\n",
        "\n"
      ]
    },
    {
      "cell_type": "code",
      "metadata": {
        "id": "QVZa3Z0PmHFH",
        "outputId": "44720a84-54a3-4849-a62e-86a7cb4c9a2b",
        "colab": {
          "base_uri": "https://localhost:8080/"
        }
      },
      "source": [
        "!curl https://course-v3.fast.ai/setup/colab | bash"
      ],
      "execution_count": null,
      "outputs": [
        {
          "output_type": "stream",
          "text": [
            "  % Total    % Received % Xferd  Average Speed   Time    Time     Time  Current\n",
            "                                 Dload  Upload   Total   Spent    Left  Speed\n",
            "\r  0     0    0     0    0     0      0      0 --:--:-- --:--:-- --:--:--     0curl: (6) Could not resolve host: course-v3.fast.ai\n"
          ],
          "name": "stdout"
        }
      ]
    },
    {
      "cell_type": "code",
      "metadata": {
        "id": "_FBFFEBrmJC0",
        "outputId": "0ba2c307-e958-46e1-85ac-1e74bab20948",
        "colab": {
          "base_uri": "https://localhost:8080/"
        }
      },
      "source": [
        "!git clone https://github.com/wshuyi/demo-nlp-classification-fastai.git"
      ],
      "execution_count": null,
      "outputs": [
        {
          "output_type": "stream",
          "text": [
            "Cloning into 'demo-nlp-classification-fastai'...\n",
            "remote: Enumerating objects: 9, done.\u001b[K\n",
            "remote: Total 9 (delta 0), reused 0 (delta 0), pack-reused 9\u001b[K\n",
            "Unpacking objects: 100% (9/9), done.\n"
          ],
          "name": "stdout"
        }
      ]
    },
    {
      "cell_type": "code",
      "metadata": {
        "id": "66zfh_JqmWMU"
      },
      "source": [
        "from fastai import *\n",
        "from fastai.text import *"
      ],
      "execution_count": null,
      "outputs": []
    },
    {
      "cell_type": "markdown",
      "metadata": {
        "id": "mNIw-yALdBU9"
      },
      "source": [
        "**Set the path of the data collections**"
      ]
    },
    {
      "cell_type": "code",
      "metadata": {
        "id": "pzH7VMh4mqCL"
      },
      "source": [
        "path = Path('medical-concept-normalization/data_collection')"
      ],
      "execution_count": null,
      "outputs": []
    },
    {
      "cell_type": "code",
      "metadata": {
        "id": "b8fjI6yyn4aS"
      },
      "source": [
        "# training data set\n",
        "\n",
        "train_csv = path/'TwADR-L.fold-7.train.csv'\n",
        "train = pd.read_csv(train_csv, header=None)\n",
        "#train.head()\n",
        "#train.info()"
      ],
      "execution_count": null,
      "outputs": []
    },
    {
      "cell_type": "code",
      "metadata": {
        "id": "Hmlr-bAorfHd",
        "outputId": "844ce5bc-6256-415f-eb5d-b430ffaed8d0",
        "colab": {
          "base_uri": "https://localhost:8080/",
          "height": 204
        }
      },
      "source": [
        "# validating data set\n",
        "\n",
        "valid = pd.read_csv(path/\"TwADR-L.fold-7.validation.csv\",header=None)\n",
        "valid.head()"
      ],
      "execution_count": null,
      "outputs": [
        {
          "output_type": "execute_result",
          "data": {
            "text/html": [
              "<div>\n",
              "<style scoped>\n",
              "    .dataframe tbody tr th:only-of-type {\n",
              "        vertical-align: middle;\n",
              "    }\n",
              "\n",
              "    .dataframe tbody tr th {\n",
              "        vertical-align: top;\n",
              "    }\n",
              "\n",
              "    .dataframe thead th {\n",
              "        text-align: right;\n",
              "    }\n",
              "</style>\n",
              "<table border=\"1\" class=\"dataframe\">\n",
              "  <thead>\n",
              "    <tr style=\"text-align: right;\">\n",
              "      <th></th>\n",
              "      <th>0</th>\n",
              "      <th>1</th>\n",
              "    </tr>\n",
              "  </thead>\n",
              "  <tbody>\n",
              "    <tr>\n",
              "      <th>0</th>\n",
              "      <td>13</td>\n",
              "      <td>insomniac</td>\n",
              "    </tr>\n",
              "    <tr>\n",
              "      <th>1</th>\n",
              "      <td>24</td>\n",
              "      <td>racing heart</td>\n",
              "    </tr>\n",
              "    <tr>\n",
              "      <th>2</th>\n",
              "      <td>60</td>\n",
              "      <td>cigarette withdrawal</td>\n",
              "    </tr>\n",
              "    <tr>\n",
              "      <th>3</th>\n",
              "      <td>91</td>\n",
              "      <td>jitters</td>\n",
              "    </tr>\n",
              "    <tr>\n",
              "      <th>4</th>\n",
              "      <td>93</td>\n",
              "      <td>shooting</td>\n",
              "    </tr>\n",
              "  </tbody>\n",
              "</table>\n",
              "</div>"
            ],
            "text/plain": [
              "    0                     1\n",
              "0  13             insomniac\n",
              "1  24          racing heart\n",
              "2  60  cigarette withdrawal\n",
              "3  91               jitters\n",
              "4  93              shooting"
            ]
          },
          "metadata": {
            "tags": []
          },
          "execution_count": 11
        }
      ]
    },
    {
      "cell_type": "code",
      "metadata": {
        "id": "cOza9dfSsBud",
        "outputId": "1ae9ac82-f3f5-445a-e4eb-d9b1107d4d87",
        "colab": {
          "base_uri": "https://localhost:8080/",
          "height": 204
        }
      },
      "source": [
        "# testing data set\n",
        "\n",
        "test = pd.read_csv(path/\"TwADR-L.fold-7.test.csv\",header=None)\n",
        "test.head()"
      ],
      "execution_count": null,
      "outputs": [
        {
          "output_type": "execute_result",
          "data": {
            "text/html": [
              "<div>\n",
              "<style scoped>\n",
              "    .dataframe tbody tr th:only-of-type {\n",
              "        vertical-align: middle;\n",
              "    }\n",
              "\n",
              "    .dataframe tbody tr th {\n",
              "        vertical-align: top;\n",
              "    }\n",
              "\n",
              "    .dataframe thead th {\n",
              "        text-align: right;\n",
              "    }\n",
              "</style>\n",
              "<table border=\"1\" class=\"dataframe\">\n",
              "  <thead>\n",
              "    <tr style=\"text-align: right;\">\n",
              "      <th></th>\n",
              "      <th>0</th>\n",
              "      <th>1</th>\n",
              "    </tr>\n",
              "  </thead>\n",
              "  <tbody>\n",
              "    <tr>\n",
              "      <th>0</th>\n",
              "      <td>13</td>\n",
              "      <td>keeping me awake</td>\n",
              "    </tr>\n",
              "    <tr>\n",
              "      <th>1</th>\n",
              "      <td>94</td>\n",
              "      <td>anxiety</td>\n",
              "    </tr>\n",
              "    <tr>\n",
              "      <th>2</th>\n",
              "      <td>119</td>\n",
              "      <td>incr anxiety</td>\n",
              "    </tr>\n",
              "    <tr>\n",
              "      <th>3</th>\n",
              "      <td>119</td>\n",
              "      <td>anxiety</td>\n",
              "    </tr>\n",
              "    <tr>\n",
              "      <th>4</th>\n",
              "      <td>121</td>\n",
              "      <td>itching</td>\n",
              "    </tr>\n",
              "  </tbody>\n",
              "</table>\n",
              "</div>"
            ],
            "text/plain": [
              "     0                 1\n",
              "0   13  keeping me awake\n",
              "1   94           anxiety\n",
              "2  119      incr anxiety\n",
              "3  119           anxiety\n",
              "4  121           itching"
            ]
          },
          "metadata": {
            "tags": []
          },
          "execution_count": 12
        }
      ]
    },
    {
      "cell_type": "code",
      "metadata": {
        "id": "Vo-YNvVYoaH6",
        "outputId": "5f0b6248-4683-4e5e-a15d-793f261750f3",
        "colab": {
          "base_uri": "https://localhost:8080/",
          "height": 17
        }
      },
      "source": [
        "# Creating DataBunch for language modelling\n",
        "\n",
        "data_lm = TextLMDataBunch.from_csv(path, 'TwADR-cadec.csv')"
      ],
      "execution_count": null,
      "outputs": [
        {
          "output_type": "display_data",
          "data": {
            "text/html": [
              ""
            ],
            "text/plain": [
              "<IPython.core.display.HTML object>"
            ]
          },
          "metadata": {
            "tags": []
          }
        },
        {
          "output_type": "display_data",
          "data": {
            "text/html": [
              ""
            ],
            "text/plain": [
              "<IPython.core.display.HTML object>"
            ]
          },
          "metadata": {
            "tags": []
          }
        }
      ]
    },
    {
      "cell_type": "code",
      "metadata": {
        "id": "qcV-9kMnNLBf"
      },
      "source": [
        ""
      ],
      "execution_count": null,
      "outputs": []
    },
    {
      "cell_type": "code",
      "metadata": {
        "id": "1ScY9afDsnvE"
      },
      "source": [
        "# Creating DataBunch for classification\n",
        "\n",
        "# data_clas = TextClasDataBunch.from_df(path, train, valid, test, vocab=data_lm.train_ds.vocab, bs=128)"
      ],
      "execution_count": null,
      "outputs": []
    },
    {
      "cell_type": "code",
      "metadata": {
        "id": "gzrSdQcvey9p",
        "outputId": "decd8493-e98f-46d0-e91b-951bfdab17c6",
        "colab": {
          "base_uri": "https://localhost:8080/",
          "height": 17
        }
      },
      "source": [
        "data_clas = TextClasDataBunch.from_df(path, train, valid, vocab=data_lm.train_ds.vocab, bs=128)"
      ],
      "execution_count": null,
      "outputs": [
        {
          "output_type": "display_data",
          "data": {
            "text/html": [
              ""
            ],
            "text/plain": [
              "<IPython.core.display.HTML object>"
            ]
          },
          "metadata": {
            "tags": []
          }
        },
        {
          "output_type": "display_data",
          "data": {
            "text/html": [
              ""
            ],
            "text/plain": [
              "<IPython.core.display.HTML object>"
            ]
          },
          "metadata": {
            "tags": []
          }
        }
      ]
    },
    {
      "cell_type": "code",
      "metadata": {
        "id": "MD27Tf0Ke3ou",
        "outputId": "3cbbf162-7c81-462f-f610-b6bf60a5f10b",
        "colab": {
          "base_uri": "https://localhost:8080/",
          "height": 17
        }
      },
      "source": [
        "data_clas.add_test(test,label=0)\n"
      ],
      "execution_count": null,
      "outputs": [
        {
          "output_type": "display_data",
          "data": {
            "text/html": [
              ""
            ],
            "text/plain": [
              "<IPython.core.display.HTML object>"
            ]
          },
          "metadata": {
            "tags": []
          }
        }
      ]
    },
    {
      "cell_type": "code",
      "metadata": {
        "id": "-dpjnk_rstwk"
      },
      "source": [
        "data_lm.save()\n",
        "data_clas.save()"
      ],
      "execution_count": null,
      "outputs": []
    },
    {
      "cell_type": "code",
      "metadata": {
        "id": "4OkiJa36sw5s",
        "outputId": "2473dd04-3352-4f5b-ff22-aed3e42859f0",
        "colab": {
          "base_uri": "https://localhost:8080/"
        }
      },
      "source": [
        "data_lm.train_ds.vocab.itos"
      ],
      "execution_count": null,
      "outputs": [
        {
          "output_type": "execute_result",
          "data": {
            "text/plain": [
              "['xxunk',\n",
              " 'xxpad',\n",
              " 'xxbos',\n",
              " 'xxeos',\n",
              " 'xxfld',\n",
              " 'xxmaj',\n",
              " 'xxup',\n",
              " 'xxrep',\n",
              " 'xxwrep',\n",
              " '.',\n",
              " ',',\n",
              " 'i',\n",
              " 'the',\n",
              " 'and',\n",
              " 'to',\n",
              " 'my',\n",
              " 'pain',\n",
              " 'of',\n",
              " 'in',\n",
              " 'a',\n",
              " 'it',\n",
              " 'me',\n",
              " 'mood',\n",
              " 'increased',\n",
              " 'for',\n",
              " 'have',\n",
              " 'was',\n",
              " '-',\n",
              " ')',\n",
              " '(',\n",
              " 'drug',\n",
              " 'lipitor',\n",
              " 'this',\n",
              " 'disorder',\n",
              " 'on',\n",
              " 'abnormal',\n",
              " 'withdrawal',\n",
              " 'not',\n",
              " 'symptoms',\n",
              " 'anxiety',\n",
              " 'had',\n",
              " 'that',\n",
              " 'is',\n",
              " 'muscle',\n",
              " 'with',\n",
              " 'weight',\n",
              " 'like',\n",
              " 'but',\n",
              " 'decreased',\n",
              " \"n't\",\n",
              " 'feeling',\n",
              " 'taking',\n",
              " 'disorders',\n",
              " 'behavior',\n",
              " 'sleeplessness',\n",
              " 'after',\n",
              " 'up',\n",
              " 'syndrome',\n",
              " 'sleep',\n",
              " 'got',\n",
              " 'insomnia',\n",
              " 'so',\n",
              " 'blood',\n",
              " 'diseases',\n",
              " 'all',\n",
              " 'feel',\n",
              " 'side',\n",
              " 'am',\n",
              " 'from',\n",
              " 'finding',\n",
              " 'disturbance',\n",
              " 'somnolence',\n",
              " 'back',\n",
              " 'depression',\n",
              " 'cholesterol',\n",
              " 'energy',\n",
              " '!',\n",
              " 'effects',\n",
              " 'day',\n",
              " 'loss',\n",
              " 'mental',\n",
              " 'be',\n",
              " 'been',\n",
              " 'body',\n",
              " '/',\n",
              " 'skin',\n",
              " 'heart',\n",
              " 'gain',\n",
              " 'as',\n",
              " 'acute',\n",
              " 'nausea',\n",
              " 'appetite',\n",
              " 'take',\n",
              " 'no',\n",
              " 'about',\n",
              " 'at',\n",
              " 'dizziness',\n",
              " 'off',\n",
              " 'now',\n",
              " 'mg',\n",
              " 'has',\n",
              " 'fatigue',\n",
              " 'out',\n",
              " 'do',\n",
              " 'years',\n",
              " 'hyperactive',\n",
              " 'or',\n",
              " 'will',\n",
              " 'attention',\n",
              " 'irritable',\n",
              " 'very',\n",
              " 'awake',\n",
              " 'ceiling',\n",
              " 'excitability',\n",
              " 'drowsiness',\n",
              " 'did',\n",
              " 'days',\n",
              " 'joint',\n",
              " 'panic',\n",
              " 'are',\n",
              " 'feelings',\n",
              " 'state',\n",
              " 'you',\n",
              " 'time',\n",
              " 'when',\n",
              " 'swelling',\n",
              " 'if',\n",
              " 'doctor',\n",
              " 'liver',\n",
              " 'depressed',\n",
              " 'months',\n",
              " \"'m\",\n",
              " 'rash',\n",
              " 'stomach',\n",
              " 'swings',\n",
              " 'still',\n",
              " 'site',\n",
              " 'stopped',\n",
              " 'could',\n",
              " '2',\n",
              " 'problems',\n",
              " 'severe',\n",
              " 'night',\n",
              " '3',\n",
              " 'started',\n",
              " 'cramps',\n",
              " 'headache',\n",
              " 'wakefulness',\n",
              " 'down',\n",
              " 'disease',\n",
              " '#',\n",
              " 'memory',\n",
              " 'allergic',\n",
              " 'lower',\n",
              " 'get',\n",
              " 'also',\n",
              " '10',\n",
              " 'bipolar',\n",
              " 'more',\n",
              " 'an',\n",
              " 'took',\n",
              " 'just',\n",
              " 'reaction',\n",
              " \"'s\",\n",
              " 'by',\n",
              " 'any',\n",
              " 'some',\n",
              " 'abdominal',\n",
              " 'infection',\n",
              " 'weeks',\n",
              " 'would',\n",
              " 'dreams',\n",
              " 'over',\n",
              " 'can',\n",
              " 'eye',\n",
              " 'tired',\n",
              " 'bad',\n",
              " 'went',\n",
              " 'leg',\n",
              " 'respiratory',\n",
              " 'one',\n",
              " 'attack',\n",
              " 'dry',\n",
              " 'other',\n",
              " 'week',\n",
              " 'injury',\n",
              " 'level',\n",
              " 'tremor',\n",
              " 'attacks',\n",
              " 'only',\n",
              " 'then',\n",
              " 'ca',\n",
              " 'legs',\n",
              " 'breast',\n",
              " 'brain',\n",
              " 'he',\n",
              " 'again',\n",
              " 'your',\n",
              " 'stiffness',\n",
              " 'numbness',\n",
              " 'high',\n",
              " 'never',\n",
              " 'hemorrhage',\n",
              " 'sleepy',\n",
              " 'much',\n",
              " 'medication',\n",
              " 'go',\n",
              " 'difficulty',\n",
              " 'before',\n",
              " 'better',\n",
              " 'rage',\n",
              " 'carcinoma',\n",
              " 'psychotic',\n",
              " 'they',\n",
              " '&',\n",
              " 'deficit',\n",
              " 'initial',\n",
              " 'ago',\n",
              " 'shoulder',\n",
              " 'chest',\n",
              " 'makes',\n",
              " 'weakness',\n",
              " 'pressure',\n",
              " 'vision',\n",
              " 'which',\n",
              " 'life',\n",
              " 'two',\n",
              " 'neck',\n",
              " 'arthritis',\n",
              " 'failure',\n",
              " 'low',\n",
              " 'even',\n",
              " 'foot',\n",
              " 'felt',\n",
              " 'cardiac',\n",
              " 'bone',\n",
              " 'sweating',\n",
              " 'left',\n",
              " 'were',\n",
              " 'kidney',\n",
              " '6',\n",
              " 'taste',\n",
              " '1',\n",
              " 'tingling',\n",
              " 'these',\n",
              " 'feet',\n",
              " 'hurt',\n",
              " 'because',\n",
              " 'infections',\n",
              " 'gastrointestinal',\n",
              " 'daytime',\n",
              " 'first',\n",
              " 'same',\n",
              " '5',\n",
              " 'discomfort',\n",
              " 'edema',\n",
              " 'elevated',\n",
              " 'sensation',\n",
              " 'right',\n",
              " 'going',\n",
              " 'away',\n",
              " 'distress',\n",
              " 'what',\n",
              " 'concentration',\n",
              " 'asleep',\n",
              " \"'ve\",\n",
              " 'vomiting',\n",
              " 'middle',\n",
              " 'chronic',\n",
              " '4',\n",
              " 'zombie',\n",
              " 'aggravated',\n",
              " 'stop',\n",
              " 'ulcer',\n",
              " 'since',\n",
              " 'damage',\n",
              " 'pulmonary',\n",
              " 'exhaustion',\n",
              " 'system',\n",
              " 'walk',\n",
              " 'function',\n",
              " 'change',\n",
              " 'dermatitis',\n",
              " 'cell',\n",
              " 'need',\n",
              " 'being',\n",
              " 'disturbances',\n",
              " 'test',\n",
              " 'depressive',\n",
              " 'headaches',\n",
              " 'death',\n",
              " 'work',\n",
              " 'pains',\n",
              " 'hallucinations',\n",
              " 'effect',\n",
              " 'knee',\n",
              " 'facial',\n",
              " 'than',\n",
              " ';',\n",
              " 'anger',\n",
              " 'getting',\n",
              " 'suicidal',\n",
              " 'muscles',\n",
              " 'taken',\n",
              " 'dependence',\n",
              " '?',\n",
              " 'last',\n",
              " 'localised',\n",
              " 'having',\n",
              " 'experienced',\n",
              " 'extreme',\n",
              " 'see',\n",
              " 'good',\n",
              " 'sleepiness',\n",
              " 'ache',\n",
              " 'migraine',\n",
              " 'statins',\n",
              " 'thought',\n",
              " 'dysfunction',\n",
              " 'painful',\n",
              " 'drugs',\n",
              " 'cerebral',\n",
              " 'eating',\n",
              " 'arrest',\n",
              " 'urine',\n",
              " 'bleeding',\n",
              " 'hands',\n",
              " 'nightmares',\n",
              " 'due',\n",
              " 'too',\n",
              " 'think',\n",
              " 'worse',\n",
              " 'who',\n",
              " 'told',\n",
              " 'should',\n",
              " 'wide',\n",
              " 'compulsive',\n",
              " 'conditions',\n",
              " 'dr',\n",
              " 'there',\n",
              " 'every',\n",
              " 'know',\n",
              " '20',\n",
              " 'terrible',\n",
              " 'anemia',\n",
              " 'face',\n",
              " 'dizzy',\n",
              " 'hours',\n",
              " 'bite',\n",
              " 'does',\n",
              " 'spasm',\n",
              " 'dose',\n",
              " 'year',\n",
              " 'statin',\n",
              " 'make',\n",
              " 'lack',\n",
              " 'month',\n",
              " 'uterine',\n",
              " 'social',\n",
              " 'within',\n",
              " 'depersonalization',\n",
              " 'serum',\n",
              " 'walking',\n",
              " 'hunger',\n",
              " 'really',\n",
              " 'well',\n",
              " 'pruritus',\n",
              " 'cause',\n",
              " 'problem',\n",
              " 'cancer',\n",
              " 'adderall',\n",
              " 'corneal',\n",
              " 'few',\n",
              " 'normal',\n",
              " 'vivid',\n",
              " '40',\n",
              " 'cold',\n",
              " 'arm',\n",
              " 'hip',\n",
              " 'diarrhea',\n",
              " 'thinking',\n",
              " 'said',\n",
              " 'asthma',\n",
              " 'irritation',\n",
              " 'aches',\n",
              " 'seizures',\n",
              " 'count',\n",
              " 'until',\n",
              " 'sore',\n",
              " 'decrease',\n",
              " 'obsessive',\n",
              " 'ventricular',\n",
              " 'reduced',\n",
              " 'crazy',\n",
              " 'without',\n",
              " 'intoxication',\n",
              " 'almost',\n",
              " 'fear',\n",
              " 'oedema',\n",
              " 'impairment',\n",
              " 'arms',\n",
              " 'drowsy',\n",
              " 'vaginal',\n",
              " 'abuse',\n",
              " ':',\n",
              " '7',\n",
              " 'alcohol',\n",
              " 'hungry',\n",
              " 'many',\n",
              " 'hepatic',\n",
              " 'necrosis',\n",
              " 'injection',\n",
              " 'nervous',\n",
              " 'candidiasis',\n",
              " 'euphoric',\n",
              " 'erythema',\n",
              " 'another',\n",
              " 'upper',\n",
              " 'withdrawals',\n",
              " 'emotional',\n",
              " 'neoplasm',\n",
              " 'nauseous',\n",
              " 'localized',\n",
              " 'genital',\n",
              " 'head',\n",
              " 'episode',\n",
              " 'gastric',\n",
              " 'sexual',\n",
              " 'oral',\n",
              " 'both',\n",
              " 'hypertension',\n",
              " 'peripheral',\n",
              " 'arthropod',\n",
              " 'ldl',\n",
              " 'spasms',\n",
              " 'help',\n",
              " 'sweat',\n",
              " 'mouth',\n",
              " 'urticaria',\n",
              " 'tongue',\n",
              " 'lightheadedness',\n",
              " 'sick',\n",
              " 'weird',\n",
              " 'bulimia',\n",
              " 'personality',\n",
              " '8',\n",
              " 'throat',\n",
              " 'term',\n",
              " 'people',\n",
              " 'thirst',\n",
              " 'lung',\n",
              " 'diet',\n",
              " 'tests',\n",
              " 'eyes',\n",
              " 'paranoid',\n",
              " 'pneumonia',\n",
              " 'excessive',\n",
              " 'malignant',\n",
              " 'short',\n",
              " 'total',\n",
              " 'visual',\n",
              " 'swollen',\n",
              " 'tract',\n",
              " 'sneezing',\n",
              " 'injuries',\n",
              " 'myself',\n",
              " 'levels',\n",
              " 'fever',\n",
              " 'put',\n",
              " 'joints',\n",
              " 'neuropathy',\n",
              " 'speech',\n",
              " 'gas',\n",
              " 'great',\n",
              " 'little',\n",
              " 'electrocardiogram',\n",
              " 'neoplasms',\n",
              " 'sudden',\n",
              " 'glucose',\n",
              " 'exercise',\n",
              " 'stress',\n",
              " 'next',\n",
              " 'hepatitis',\n",
              " 'long',\n",
              " 'way',\n",
              " 'knees',\n",
              " 'lost',\n",
              " 'erection',\n",
              " 'nerve',\n",
              " 'she',\n",
              " 'try',\n",
              " 'something',\n",
              " 'breathing',\n",
              " 'tooth',\n",
              " 'found',\n",
              " 'vertigo',\n",
              " 'consciousness',\n",
              " 'female',\n",
              " 'diabetic',\n",
              " 'while',\n",
              " 'bed',\n",
              " 'times',\n",
              " 'gone',\n",
              " 'ear',\n",
              " 'generalized',\n",
              " 'nasal',\n",
              " 'renal',\n",
              " 'sleeping',\n",
              " 'reading',\n",
              " 'want',\n",
              " 'diabetes',\n",
              " 'hair',\n",
              " 'suicide',\n",
              " '%',\n",
              " 'block',\n",
              " 'anything',\n",
              " 'cramping',\n",
              " 'allergy',\n",
              " 'stopping',\n",
              " 'them',\n",
              " 'several',\n",
              " 'obstruction',\n",
              " 'noticed',\n",
              " 'falling',\n",
              " 'lbs',\n",
              " 'itching',\n",
              " 'palpitations',\n",
              " 'non',\n",
              " 'use',\n",
              " 'libido',\n",
              " 'psychosis',\n",
              " 'colitis',\n",
              " 'came',\n",
              " 'lose',\n",
              " 'inflammation',\n",
              " 'may',\n",
              " 'pill',\n",
              " 'most',\n",
              " 'doctors',\n",
              " 'symptom',\n",
              " 'movements',\n",
              " 'old',\n",
              " 'thoughts',\n",
              " 'metastatic',\n",
              " 'fracture',\n",
              " 'general',\n",
              " 'sinus',\n",
              " 'intense',\n",
              " 'morning',\n",
              " 'shoulders',\n",
              " 'different',\n",
              " 'began',\n",
              " 'into',\n",
              " 'muscular',\n",
              " 'find',\n",
              " 'daily',\n",
              " 'insufficiency',\n",
              " 'made',\n",
              " 'their',\n",
              " 'lowered',\n",
              " 'lupus',\n",
              " 'developed',\n",
              " 'red',\n",
              " 'minutes',\n",
              " 'potassium',\n",
              " 'making',\n",
              " 'unable',\n",
              " 'how',\n",
              " 'ejaculation',\n",
              " 'eat',\n",
              " 'cutaneous',\n",
              " 'always',\n",
              " 'despair',\n",
              " 'atrophy',\n",
              " 'angry',\n",
              " 'prescribed',\n",
              " 'completely',\n",
              " 'binge',\n",
              " 'caused',\n",
              " 'tachycardia',\n",
              " 'however',\n",
              " 'trying',\n",
              " 'arrhythmia',\n",
              " 'immediately',\n",
              " 'partial',\n",
              " 'result',\n",
              " 'hard',\n",
              " 'confusion',\n",
              " 'burning',\n",
              " 'hyper',\n",
              " 'tried',\n",
              " 'hot',\n",
              " 'tolerance',\n",
              " 'overdose',\n",
              " 'prolonged',\n",
              " 'bladder',\n",
              " 'bloating',\n",
              " 'losing',\n",
              " 'once',\n",
              " 'weak',\n",
              " 'tendency',\n",
              " 'his',\n",
              " 'sure',\n",
              " 'recommend',\n",
              " 'craving',\n",
              " 'unconscious',\n",
              " 'bacterial',\n",
              " 'around',\n",
              " 'atrial',\n",
              " 'impaired',\n",
              " 'things',\n",
              " 'paranoia',\n",
              " 'ever',\n",
              " 'drunk',\n",
              " 'application',\n",
              " 'though',\n",
              " 'ankle',\n",
              " 'fluid',\n",
              " 'sedated',\n",
              " 'interest',\n",
              " '30',\n",
              " 'cough',\n",
              " 'twitch',\n",
              " 'syncope',\n",
              " 'three',\n",
              " 'traumatic',\n",
              " 'tissue',\n",
              " 'musculoskeletal',\n",
              " 'experiencing',\n",
              " 'limb',\n",
              " 'vasculitis',\n",
              " 'half',\n",
              " 'its',\n",
              " 'past',\n",
              " 'acid',\n",
              " 'major',\n",
              " 'hand',\n",
              " 'gained',\n",
              " 'hurting',\n",
              " 'changes',\n",
              " 'stuff',\n",
              " 'doing',\n",
              " 'terrors',\n",
              " 'numb',\n",
              " 'acne',\n",
              " 'fractures',\n",
              " 'lot',\n",
              " 'we',\n",
              " 'blurred',\n",
              " 'food',\n",
              " 'motor',\n",
              " 'rheumatoid',\n",
              " 'urinary',\n",
              " 'family',\n",
              " 'early',\n",
              " 'less',\n",
              " 'results',\n",
              " 'hypomania',\n",
              " 'nothing',\n",
              " 'migraines',\n",
              " 'especially',\n",
              " 'haemorrhage',\n",
              " 'arthrotec',\n",
              " 'bronchitis',\n",
              " 'nt',\n",
              " 'unspecified',\n",
              " 'involuntary',\n",
              " 'fall',\n",
              " 'keep',\n",
              " 'read',\n",
              " 'whole',\n",
              " 'causing',\n",
              " 'recently',\n",
              " 'acidosis',\n",
              " 'trippin',\n",
              " 'toe',\n",
              " 'lowering',\n",
              " 'through',\n",
              " 'esophageal',\n",
              " 'infarction',\n",
              " 'atrioventricular',\n",
              " 'upset',\n",
              " 'mind',\n",
              " 'arousal',\n",
              " 'medicine',\n",
              " 'limbs',\n",
              " 'tenderness',\n",
              " 'labored',\n",
              " 'adenocarcinoma',\n",
              " 'action',\n",
              " 'during',\n",
              " 'gland',\n",
              " 'awful',\n",
              " 'hurts',\n",
              " 'later',\n",
              " 'substance',\n",
              " 'anyone',\n",
              " 'person',\n",
              " 'thyroid',\n",
              " 'quality',\n",
              " 'tightness',\n",
              " 'positive',\n",
              " 'permanent',\n",
              " 'stay',\n",
              " 'premature',\n",
              " 'prozac',\n",
              " 'experience',\n",
              " 'come',\n",
              " 'abnormality',\n",
              " 'male',\n",
              " 'bowel',\n",
              " 'manic',\n",
              " 'super',\n",
              " 'hdl',\n",
              " 'exhausted',\n",
              " 'density',\n",
              " 'rhinitis',\n",
              " 'myocardial',\n",
              " 'hyperactivity',\n",
              " 'type',\n",
              " 'natural',\n",
              " 'meds',\n",
              " 'worth',\n",
              " 'done',\n",
              " 'indifferent',\n",
              " 'perforation',\n",
              " 'enzyme',\n",
              " 'pounding',\n",
              " 'shaking',\n",
              " 'interactions',\n",
              " 'creatinine',\n",
              " 'doc',\n",
              " 'antisocial',\n",
              " 'cyst',\n",
              " 'abdomen',\n",
              " 'purpura',\n",
              " 'wake',\n",
              " '50',\n",
              " 'flu',\n",
              " 'metabolic',\n",
              " 'altered',\n",
              " 'related',\n",
              " 'able',\n",
              " 'finally',\n",
              " 'far',\n",
              " \"'\",\n",
              " '100',\n",
              " 'yet',\n",
              " 'mad',\n",
              " 'wo',\n",
              " '\"',\n",
              " 'hour',\n",
              " 'constant',\n",
              " 'probably',\n",
              " 'none',\n",
              " 'works',\n",
              " 'neuralgia',\n",
              " 'hope',\n",
              " 'new',\n",
              " 'erythematosus',\n",
              " 'mild',\n",
              " 'everything',\n",
              " 'gait',\n",
              " 'quit',\n",
              " 'delayed',\n",
              " 'her',\n",
              " 'seems',\n",
              " 'deafness',\n",
              " 'nail',\n",
              " 'temperature',\n",
              " 'sickness',\n",
              " 'embolism',\n",
              " 'ratio',\n",
              " 'deficiency',\n",
              " 'balance',\n",
              " 'else',\n",
              " 'website',\n",
              " 'affect',\n",
              " 'prostate',\n",
              " 'dosage',\n",
              " 'steroid',\n",
              " 'leukemia',\n",
              " 'heartburn',\n",
              " 'bullous',\n",
              " 'anxious',\n",
              " 'add',\n",
              " 'similar',\n",
              " 'epilepsy',\n",
              " 'ovarian',\n",
              " 'thinness',\n",
              " '--',\n",
              " 'empty',\n",
              " 'retention',\n",
              " 'possible',\n",
              " 'water',\n",
              " 'horrible',\n",
              " 'herpes',\n",
              " 'relief',\n",
              " 'break',\n",
              " 'trouble',\n",
              " 'ocular',\n",
              " 'eyelid',\n",
              " 'per',\n",
              " '80',\n",
              " 'hips',\n",
              " 'post',\n",
              " 'today',\n",
              " 'starting',\n",
              " 'shock',\n",
              " 'others',\n",
              " 'thing',\n",
              " 'adrenal',\n",
              " 'active',\n",
              " 'became',\n",
              " 'groggy',\n",
              " 'retinal',\n",
              " 'ischemia',\n",
              " 'fibrillation',\n",
              " 'anorexia',\n",
              " 'paralysed',\n",
              " 'porphyria',\n",
              " 'zaps',\n",
              " 'say',\n",
              " 'eruptions',\n",
              " 'improvement',\n",
              " 'those',\n",
              " 'worst',\n",
              " 'epidermal',\n",
              " 'rather',\n",
              " 'alkalosis',\n",
              " 'conjunctivitis',\n",
              " 'worked',\n",
              " 'hypersomnia',\n",
              " 'arteritis',\n",
              " 'immune',\n",
              " 'mellitus',\n",
              " 'generalised',\n",
              " 'raised',\n",
              " 'blindness',\n",
              " 'knock',\n",
              " 'mass',\n",
              " 'increase',\n",
              " 'hearing',\n",
              " 'triglycerides',\n",
              " 'thrombosis',\n",
              " 'sinusitis',\n",
              " 'why',\n",
              " 'him',\n",
              " 'toxic',\n",
              " 'toes',\n",
              " 'contact',\n",
              " 'helped',\n",
              " 'hit',\n",
              " 'fucked',\n",
              " 'influenza',\n",
              " 'hangover',\n",
              " 'etc',\n",
              " 'fingers',\n",
              " 'viral',\n",
              " 'ulcerative',\n",
              " 'distracted',\n",
              " 'focusing',\n",
              " 'lesion',\n",
              " 'zocor',\n",
              " 'physical',\n",
              " 'believe',\n",
              " 'bites',\n",
              " 'poor',\n",
              " 'constipation',\n",
              " 'macular',\n",
              " 'enough',\n",
              " 'own',\n",
              " 'pm',\n",
              " 'self',\n",
              " 'control',\n",
              " 'miss',\n",
              " 'where',\n",
              " 'local',\n",
              " 'eaten',\n",
              " 'artery',\n",
              " 'obstructive',\n",
              " 'scared',\n",
              " 'calf',\n",
              " 'cystitis',\n",
              " 'using',\n",
              " 'rectal',\n",
              " 'behaviour',\n",
              " 'each',\n",
              " 'forgetfulness',\n",
              " 'prothrombin',\n",
              " 'pissed',\n",
              " 'bruxism',\n",
              " 'negative',\n",
              " 'patients',\n",
              " 'discoloration',\n",
              " 'slept',\n",
              " 'wanted',\n",
              " 'dryness',\n",
              " 'health',\n",
              " 'otitis',\n",
              " 'couple',\n",
              " 'toxicity',\n",
              " 'pills',\n",
              " 'med',\n",
              " 'surgery',\n",
              " \"'ll\",\n",
              " 'used',\n",
              " 'extremely',\n",
              " 'bilirubin',\n",
              " 'miserable',\n",
              " 'job',\n",
              " 'second',\n",
              " 'feels',\n",
              " 'twice',\n",
              " 'calcium',\n",
              " 'fat',\n",
              " 'age',\n",
              " 'tiredness',\n",
              " 'alteration',\n",
              " 'eczema',\n",
              " 'atrophic',\n",
              " 'oropharyngeal',\n",
              " 'multiple',\n",
              " 'gout',\n",
              " 'period',\n",
              " 'syndromes',\n",
              " 'hormone',\n",
              " 'stupid',\n",
              " 'concentrate',\n",
              " 'abscess',\n",
              " 'such',\n",
              " 'hypochondriasis',\n",
              " 'tension',\n",
              " 'vulvovaginal',\n",
              " 'entire',\n",
              " 'hyperplasia',\n",
              " 'fucking',\n",
              " 'ischemic',\n",
              " 'mania',\n",
              " 'ok',\n",
              " 'sad',\n",
              " 'squamous',\n",
              " 'soreness',\n",
              " 'gradually',\n",
              " 'issues',\n",
              " 'shit',\n",
              " 'thirsty',\n",
              " 'keeping',\n",
              " 'hypersensitivity',\n",
              " 'highly',\n",
              " 'flare',\n",
              " 'fell',\n",
              " 'digestive',\n",
              " 'instead',\n",
              " 'cranky',\n",
              " 'shut',\n",
              " 'cataract',\n",
              " 'hypertensive',\n",
              " 'paresis',\n",
              " 'erectile',\n",
              " 'vein',\n",
              " 'inability',\n",
              " 'infusion',\n",
              " 'rate',\n",
              " 'fibrosis',\n",
              " 'incontinence',\n",
              " 'big',\n",
              " 'associated',\n",
              " 'ankles',\n",
              " 'mean',\n",
              " 'although',\n",
              " 'extremity',\n",
              " 'illness',\n",
              " 'look',\n",
              " 'full',\n",
              " 'haemorrhagic',\n",
              " 'stenosis',\n",
              " 'sensory',\n",
              " 'retardation',\n",
              " 'totally',\n",
              " 'effusion',\n",
              " 'stomatitis',\n",
              " 'cortisone',\n",
              " 'live',\n",
              " 'reflux',\n",
              " 'multiforme',\n",
              " 'called',\n",
              " 'psychological',\n",
              " 'eruption',\n",
              " 'secondary',\n",
              " 'decided',\n",
              " 'hypertrophy',\n",
              " 'congestion',\n",
              " 'extremities',\n",
              " 'lipoprotein',\n",
              " 'dropped',\n",
              " 'changed',\n",
              " 'here',\n",
              " 'common',\n",
              " 'dermatologic',\n",
              " ...]"
            ]
          },
          "metadata": {
            "tags": []
          },
          "execution_count": 18
        }
      ]
    },
    {
      "cell_type": "code",
      "metadata": {
        "id": "yPWr03mls3VT",
        "outputId": "d871a835-f8de-4ce2-b01c-41994ce57c6c",
        "colab": {
          "base_uri": "https://localhost:8080/",
          "height": 17
        }
      },
      "source": [
        "model_path = path/'models'\n",
        "model_path.mkdir(exist_ok=True)\n",
        "url = 'http://files.fast.ai/models/wt103_v1/'\n",
        "download_url(f'{url}lstm_wt103.pth', model_path/'lstm_wt103.pth')\n",
        "download_url(f'{url}itos_wt103.pkl', model_path/'itos_wt103.pkl')"
      ],
      "execution_count": null,
      "outputs": [
        {
          "output_type": "display_data",
          "data": {
            "text/html": [
              ""
            ],
            "text/plain": [
              "<IPython.core.display.HTML object>"
            ]
          },
          "metadata": {
            "tags": []
          }
        },
        {
          "output_type": "display_data",
          "data": {
            "text/html": [
              ""
            ],
            "text/plain": [
              "<IPython.core.display.HTML object>"
            ]
          },
          "metadata": {
            "tags": []
          }
        }
      ]
    },
    {
      "cell_type": "code",
      "metadata": {
        "id": "JRzvWg8RtGGr",
        "outputId": "f46f6abb-6a75-4088-f889-32f207c18680",
        "colab": {
          "base_uri": "https://localhost:8080/",
          "height": 34
        }
      },
      "source": [
        "learn = language_model_learner(data_lm, AWD_LSTM, drop_mult=0.5)"
      ],
      "execution_count": null,
      "outputs": [
        {
          "output_type": "stream",
          "text": [
            "Downloading https://s3.amazonaws.com/fast-ai-modelzoo/wt103-fwd.tgz\n"
          ],
          "name": "stdout"
        },
        {
          "output_type": "display_data",
          "data": {
            "text/html": [
              ""
            ],
            "text/plain": [
              "<IPython.core.display.HTML object>"
            ]
          },
          "metadata": {
            "tags": []
          }
        }
      ]
    },
    {
      "cell_type": "code",
      "metadata": {
        "id": "xKK7GeBev7Xn",
        "outputId": "2906c3ad-29ca-427d-c508-d1027c473c01",
        "colab": {
          "base_uri": "https://localhost:8080/",
          "height": 80
        }
      },
      "source": [
        "learn.fit_one_cycle(1, 1e-2)"
      ],
      "execution_count": null,
      "outputs": [
        {
          "output_type": "display_data",
          "data": {
            "text/html": [
              "<table border=\"1\" class=\"dataframe\">\n",
              "  <thead>\n",
              "    <tr style=\"text-align: left;\">\n",
              "      <th>epoch</th>\n",
              "      <th>train_loss</th>\n",
              "      <th>valid_loss</th>\n",
              "      <th>accuracy</th>\n",
              "      <th>time</th>\n",
              "    </tr>\n",
              "  </thead>\n",
              "  <tbody>\n",
              "    <tr>\n",
              "      <td>0</td>\n",
              "      <td>4.301860</td>\n",
              "      <td>3.447126</td>\n",
              "      <td>0.429548</td>\n",
              "      <td>09:25</td>\n",
              "    </tr>\n",
              "  </tbody>\n",
              "</table>"
            ],
            "text/plain": [
              "<IPython.core.display.HTML object>"
            ]
          },
          "metadata": {
            "tags": []
          }
        }
      ]
    },
    {
      "cell_type": "code",
      "metadata": {
        "id": "iB7rHGQCwd12",
        "outputId": "43dd952c-f30f-46c4-b05c-e5b8dfa985bb",
        "colab": {
          "base_uri": "https://localhost:8080/",
          "height": 80
        }
      },
      "source": [
        "learn.fit_one_cycle(1, 1e-2)"
      ],
      "execution_count": null,
      "outputs": [
        {
          "output_type": "display_data",
          "data": {
            "text/html": [
              "<table border=\"1\" class=\"dataframe\">\n",
              "  <thead>\n",
              "    <tr style=\"text-align: left;\">\n",
              "      <th>epoch</th>\n",
              "      <th>train_loss</th>\n",
              "      <th>valid_loss</th>\n",
              "      <th>accuracy</th>\n",
              "      <th>time</th>\n",
              "    </tr>\n",
              "  </thead>\n",
              "  <tbody>\n",
              "    <tr>\n",
              "      <td>0</td>\n",
              "      <td>3.270081</td>\n",
              "      <td>3.013472</td>\n",
              "      <td>0.486635</td>\n",
              "      <td>09:26</td>\n",
              "    </tr>\n",
              "  </tbody>\n",
              "</table>"
            ],
            "text/plain": [
              "<IPython.core.display.HTML object>"
            ]
          },
          "metadata": {
            "tags": []
          }
        }
      ]
    },
    {
      "cell_type": "code",
      "metadata": {
        "id": "_BnSuAeCwkBe",
        "outputId": "05bdcee9-1e86-4951-c1ec-b9b3e2a85fd4",
        "colab": {
          "base_uri": "https://localhost:8080/",
          "height": 80
        }
      },
      "source": [
        "learn.fit_one_cycle(1, 1e-3)"
      ],
      "execution_count": null,
      "outputs": [
        {
          "output_type": "display_data",
          "data": {
            "text/html": [
              "<table border=\"1\" class=\"dataframe\">\n",
              "  <thead>\n",
              "    <tr style=\"text-align: left;\">\n",
              "      <th>epoch</th>\n",
              "      <th>train_loss</th>\n",
              "      <th>valid_loss</th>\n",
              "      <th>accuracy</th>\n",
              "      <th>time</th>\n",
              "    </tr>\n",
              "  </thead>\n",
              "  <tbody>\n",
              "    <tr>\n",
              "      <td>0</td>\n",
              "      <td>3.056666</td>\n",
              "      <td>2.976197</td>\n",
              "      <td>0.491071</td>\n",
              "      <td>09:20</td>\n",
              "    </tr>\n",
              "  </tbody>\n",
              "</table>"
            ],
            "text/plain": [
              "<IPython.core.display.HTML object>"
            ]
          },
          "metadata": {
            "tags": []
          }
        }
      ]
    },
    {
      "cell_type": "code",
      "metadata": {
        "id": "MuTm-RFjwrEX",
        "outputId": "63811fd6-7ffd-40d5-acdd-f2abb9a726e5",
        "colab": {
          "base_uri": "https://localhost:8080/",
          "height": 80
        }
      },
      "source": [
        "learn.fit_one_cycle(1, 1e-3)"
      ],
      "execution_count": null,
      "outputs": [
        {
          "output_type": "display_data",
          "data": {
            "text/html": [
              "<table border=\"1\" class=\"dataframe\">\n",
              "  <thead>\n",
              "    <tr style=\"text-align: left;\">\n",
              "      <th>epoch</th>\n",
              "      <th>train_loss</th>\n",
              "      <th>valid_loss</th>\n",
              "      <th>accuracy</th>\n",
              "      <th>time</th>\n",
              "    </tr>\n",
              "  </thead>\n",
              "  <tbody>\n",
              "    <tr>\n",
              "      <td>0</td>\n",
              "      <td>3.017321</td>\n",
              "      <td>2.946982</td>\n",
              "      <td>0.494531</td>\n",
              "      <td>09:18</td>\n",
              "    </tr>\n",
              "  </tbody>\n",
              "</table>"
            ],
            "text/plain": [
              "<IPython.core.display.HTML object>"
            ]
          },
          "metadata": {
            "tags": []
          }
        }
      ]
    },
    {
      "cell_type": "code",
      "metadata": {
        "id": "1Er2ExO8wr7Y"
      },
      "source": [
        "learn.save_encoder('TwADR-cadec_fold7_first')"
      ],
      "execution_count": null,
      "outputs": []
    },
    {
      "cell_type": "code",
      "metadata": {
        "id": "z52cZs2qwvad",
        "outputId": "074d6984-45ff-4b1d-adc9-6d8db8d34655",
        "colab": {
          "base_uri": "https://localhost:8080/",
          "height": 80
        }
      },
      "source": [
        "learn = text_classifier_learner(data_clas,AWD_LSTM, drop_mult=0.5)\n",
        "learn.load_encoder('TwADR-cadec_fold7_first')\n",
        "learn.fit_one_cycle(1, 1e-2)"
      ],
      "execution_count": null,
      "outputs": [
        {
          "output_type": "display_data",
          "data": {
            "text/html": [
              "<table border=\"1\" class=\"dataframe\">\n",
              "  <thead>\n",
              "    <tr style=\"text-align: left;\">\n",
              "      <th>epoch</th>\n",
              "      <th>train_loss</th>\n",
              "      <th>valid_loss</th>\n",
              "      <th>accuracy</th>\n",
              "      <th>time</th>\n",
              "    </tr>\n",
              "  </thead>\n",
              "  <tbody>\n",
              "    <tr>\n",
              "      <td>0</td>\n",
              "      <td>7.177192</td>\n",
              "      <td>6.548279</td>\n",
              "      <td>0.056338</td>\n",
              "      <td>00:23</td>\n",
              "    </tr>\n",
              "  </tbody>\n",
              "</table>"
            ],
            "text/plain": [
              "<IPython.core.display.HTML object>"
            ]
          },
          "metadata": {
            "tags": []
          }
        }
      ]
    },
    {
      "cell_type": "code",
      "metadata": {
        "id": "ImwQP1PJwzxd",
        "outputId": "888894ff-4419-47f1-ff2d-219773cce96d",
        "colab": {
          "base_uri": "https://localhost:8080/",
          "height": 80
        }
      },
      "source": [
        "learn.freeze_to(-2)\n",
        "learn.fit_one_cycle(1, slice(5e-3/2., 5e-3))"
      ],
      "execution_count": null,
      "outputs": [
        {
          "output_type": "display_data",
          "data": {
            "text/html": [
              "<table border=\"1\" class=\"dataframe\">\n",
              "  <thead>\n",
              "    <tr style=\"text-align: left;\">\n",
              "      <th>epoch</th>\n",
              "      <th>train_loss</th>\n",
              "      <th>valid_loss</th>\n",
              "      <th>accuracy</th>\n",
              "      <th>time</th>\n",
              "    </tr>\n",
              "  </thead>\n",
              "  <tbody>\n",
              "    <tr>\n",
              "      <td>0</td>\n",
              "      <td>6.245907</td>\n",
              "      <td>6.570937</td>\n",
              "      <td>0.105634</td>\n",
              "      <td>00:27</td>\n",
              "    </tr>\n",
              "  </tbody>\n",
              "</table>"
            ],
            "text/plain": [
              "<IPython.core.display.HTML object>"
            ]
          },
          "metadata": {
            "tags": []
          }
        }
      ]
    },
    {
      "cell_type": "code",
      "metadata": {
        "id": "Owff_BJXw53u",
        "outputId": "3e643121-ad2e-46f7-89f0-e4f0d447ecc7",
        "colab": {
          "base_uri": "https://localhost:8080/",
          "height": 80
        }
      },
      "source": [
        "learn.unfreeze()\n",
        "learn.fit_one_cycle(1, slice(2e-3/100, 2e-3))"
      ],
      "execution_count": null,
      "outputs": [
        {
          "output_type": "display_data",
          "data": {
            "text/html": [
              "<table border=\"1\" class=\"dataframe\">\n",
              "  <thead>\n",
              "    <tr style=\"text-align: left;\">\n",
              "      <th>epoch</th>\n",
              "      <th>train_loss</th>\n",
              "      <th>valid_loss</th>\n",
              "      <th>accuracy</th>\n",
              "      <th>time</th>\n",
              "    </tr>\n",
              "  </thead>\n",
              "  <tbody>\n",
              "    <tr>\n",
              "      <td>0</td>\n",
              "      <td>5.721471</td>\n",
              "      <td>5.037560</td>\n",
              "      <td>0.140845</td>\n",
              "      <td>01:05</td>\n",
              "    </tr>\n",
              "  </tbody>\n",
              "</table>"
            ],
            "text/plain": [
              "<IPython.core.display.HTML object>"
            ]
          },
          "metadata": {
            "tags": []
          }
        }
      ]
    },
    {
      "cell_type": "code",
      "metadata": {
        "id": "lqAyu56V8Waq",
        "outputId": "2779299e-b598-4ef0-ff6d-f9af9207a11b",
        "colab": {
          "base_uri": "https://localhost:8080/",
          "height": 111
        }
      },
      "source": [
        "learn.fit_one_cycle(2, slice(2e-3/100, 2e-3))"
      ],
      "execution_count": null,
      "outputs": [
        {
          "output_type": "display_data",
          "data": {
            "text/html": [
              "<table border=\"1\" class=\"dataframe\">\n",
              "  <thead>\n",
              "    <tr style=\"text-align: left;\">\n",
              "      <th>epoch</th>\n",
              "      <th>train_loss</th>\n",
              "      <th>valid_loss</th>\n",
              "      <th>accuracy</th>\n",
              "      <th>time</th>\n",
              "    </tr>\n",
              "  </thead>\n",
              "  <tbody>\n",
              "    <tr>\n",
              "      <td>0</td>\n",
              "      <td>5.444561</td>\n",
              "      <td>4.537719</td>\n",
              "      <td>0.225352</td>\n",
              "      <td>01:10</td>\n",
              "    </tr>\n",
              "    <tr>\n",
              "      <td>1</td>\n",
              "      <td>5.209799</td>\n",
              "      <td>4.408756</td>\n",
              "      <td>0.239437</td>\n",
              "      <td>01:12</td>\n",
              "    </tr>\n",
              "  </tbody>\n",
              "</table>"
            ],
            "text/plain": [
              "<IPython.core.display.HTML object>"
            ]
          },
          "metadata": {
            "tags": []
          }
        }
      ]
    },
    {
      "cell_type": "code",
      "metadata": {
        "id": "a7I1xMRp8bUd",
        "outputId": "df8c232e-d930-478a-ce80-afe6229945d6",
        "colab": {
          "base_uri": "https://localhost:8080/",
          "height": 111
        }
      },
      "source": [
        "learn.fit_one_cycle(2, slice(2e-3/100, 2e-3))"
      ],
      "execution_count": null,
      "outputs": [
        {
          "output_type": "display_data",
          "data": {
            "text/html": [
              "<table border=\"1\" class=\"dataframe\">\n",
              "  <thead>\n",
              "    <tr style=\"text-align: left;\">\n",
              "      <th>epoch</th>\n",
              "      <th>train_loss</th>\n",
              "      <th>valid_loss</th>\n",
              "      <th>accuracy</th>\n",
              "      <th>time</th>\n",
              "    </tr>\n",
              "  </thead>\n",
              "  <tbody>\n",
              "    <tr>\n",
              "      <td>0</td>\n",
              "      <td>4.929905</td>\n",
              "      <td>4.235127</td>\n",
              "      <td>0.253521</td>\n",
              "      <td>01:11</td>\n",
              "    </tr>\n",
              "    <tr>\n",
              "      <td>1</td>\n",
              "      <td>4.754183</td>\n",
              "      <td>4.128231</td>\n",
              "      <td>0.288732</td>\n",
              "      <td>01:06</td>\n",
              "    </tr>\n",
              "  </tbody>\n",
              "</table>"
            ],
            "text/plain": [
              "<IPython.core.display.HTML object>"
            ]
          },
          "metadata": {
            "tags": []
          }
        }
      ]
    },
    {
      "cell_type": "code",
      "metadata": {
        "id": "UAnti-XmGVfO",
        "outputId": "ba36b793-b55d-4c6e-d694-a29c2a95e648",
        "colab": {
          "base_uri": "https://localhost:8080/",
          "height": 111
        }
      },
      "source": [
        "learn.fit_one_cycle(2, slice(2e-3/100, 2e-3))"
      ],
      "execution_count": null,
      "outputs": [
        {
          "output_type": "display_data",
          "data": {
            "text/html": [
              "<table border=\"1\" class=\"dataframe\">\n",
              "  <thead>\n",
              "    <tr style=\"text-align: left;\">\n",
              "      <th>epoch</th>\n",
              "      <th>train_loss</th>\n",
              "      <th>valid_loss</th>\n",
              "      <th>accuracy</th>\n",
              "      <th>time</th>\n",
              "    </tr>\n",
              "  </thead>\n",
              "  <tbody>\n",
              "    <tr>\n",
              "      <td>0</td>\n",
              "      <td>4.561887</td>\n",
              "      <td>3.925485</td>\n",
              "      <td>0.281690</td>\n",
              "      <td>01:09</td>\n",
              "    </tr>\n",
              "    <tr>\n",
              "      <td>1</td>\n",
              "      <td>4.400131</td>\n",
              "      <td>3.965159</td>\n",
              "      <td>0.309859</td>\n",
              "      <td>01:10</td>\n",
              "    </tr>\n",
              "  </tbody>\n",
              "</table>"
            ],
            "text/plain": [
              "<IPython.core.display.HTML object>"
            ]
          },
          "metadata": {
            "tags": []
          }
        }
      ]
    },
    {
      "cell_type": "code",
      "metadata": {
        "id": "bIft7W25GwSu",
        "outputId": "78c9c803-043e-4e5e-f8a7-be380314184b",
        "colab": {
          "base_uri": "https://localhost:8080/",
          "height": 111
        }
      },
      "source": [
        "learn.fit_one_cycle(2, slice(2e-3/100, 2e-3))"
      ],
      "execution_count": null,
      "outputs": [
        {
          "output_type": "display_data",
          "data": {
            "text/html": [
              "<table border=\"1\" class=\"dataframe\">\n",
              "  <thead>\n",
              "    <tr style=\"text-align: left;\">\n",
              "      <th>epoch</th>\n",
              "      <th>train_loss</th>\n",
              "      <th>valid_loss</th>\n",
              "      <th>accuracy</th>\n",
              "      <th>time</th>\n",
              "    </tr>\n",
              "  </thead>\n",
              "  <tbody>\n",
              "    <tr>\n",
              "      <td>0</td>\n",
              "      <td>4.191002</td>\n",
              "      <td>3.796646</td>\n",
              "      <td>0.295775</td>\n",
              "      <td>01:05</td>\n",
              "    </tr>\n",
              "    <tr>\n",
              "      <td>1</td>\n",
              "      <td>4.035128</td>\n",
              "      <td>3.789541</td>\n",
              "      <td>0.309859</td>\n",
              "      <td>01:06</td>\n",
              "    </tr>\n",
              "  </tbody>\n",
              "</table>"
            ],
            "text/plain": [
              "<IPython.core.display.HTML object>"
            ]
          },
          "metadata": {
            "tags": []
          }
        }
      ]
    },
    {
      "cell_type": "code",
      "metadata": {
        "id": "EEHszVRvGyFt",
        "outputId": "fefd4447-f260-4986-d998-ee66fa37569c",
        "colab": {
          "base_uri": "https://localhost:8080/",
          "height": 111
        }
      },
      "source": [
        "learn.fit_one_cycle(2, slice(2e-3/100, 2e-3))"
      ],
      "execution_count": null,
      "outputs": [
        {
          "output_type": "display_data",
          "data": {
            "text/html": [
              "<table border=\"1\" class=\"dataframe\">\n",
              "  <thead>\n",
              "    <tr style=\"text-align: left;\">\n",
              "      <th>epoch</th>\n",
              "      <th>train_loss</th>\n",
              "      <th>valid_loss</th>\n",
              "      <th>accuracy</th>\n",
              "      <th>time</th>\n",
              "    </tr>\n",
              "  </thead>\n",
              "  <tbody>\n",
              "    <tr>\n",
              "      <td>0</td>\n",
              "      <td>3.866744</td>\n",
              "      <td>3.660089</td>\n",
              "      <td>0.309859</td>\n",
              "      <td>01:12</td>\n",
              "    </tr>\n",
              "    <tr>\n",
              "      <td>1</td>\n",
              "      <td>3.719861</td>\n",
              "      <td>3.595023</td>\n",
              "      <td>0.309859</td>\n",
              "      <td>01:08</td>\n",
              "    </tr>\n",
              "  </tbody>\n",
              "</table>"
            ],
            "text/plain": [
              "<IPython.core.display.HTML object>"
            ]
          },
          "metadata": {
            "tags": []
          }
        }
      ]
    },
    {
      "cell_type": "code",
      "metadata": {
        "id": "XsHfrhCHG3dN",
        "outputId": "c5afe60a-3e4c-4e5c-d530-b863343cc6df",
        "colab": {
          "base_uri": "https://localhost:8080/",
          "height": 173
        }
      },
      "source": [
        "learn.fit_one_cycle(4, slice(2e-3/100, 2e-3))"
      ],
      "execution_count": null,
      "outputs": [
        {
          "output_type": "display_data",
          "data": {
            "text/html": [
              "<table border=\"1\" class=\"dataframe\">\n",
              "  <thead>\n",
              "    <tr style=\"text-align: left;\">\n",
              "      <th>epoch</th>\n",
              "      <th>train_loss</th>\n",
              "      <th>valid_loss</th>\n",
              "      <th>accuracy</th>\n",
              "      <th>time</th>\n",
              "    </tr>\n",
              "  </thead>\n",
              "  <tbody>\n",
              "    <tr>\n",
              "      <td>0</td>\n",
              "      <td>3.541752</td>\n",
              "      <td>3.485255</td>\n",
              "      <td>0.352113</td>\n",
              "      <td>01:12</td>\n",
              "    </tr>\n",
              "    <tr>\n",
              "      <td>1</td>\n",
              "      <td>3.458559</td>\n",
              "      <td>3.447229</td>\n",
              "      <td>0.387324</td>\n",
              "      <td>01:12</td>\n",
              "    </tr>\n",
              "    <tr>\n",
              "      <td>2</td>\n",
              "      <td>3.285770</td>\n",
              "      <td>3.326516</td>\n",
              "      <td>0.380282</td>\n",
              "      <td>01:04</td>\n",
              "    </tr>\n",
              "    <tr>\n",
              "      <td>3</td>\n",
              "      <td>3.117748</td>\n",
              "      <td>3.339302</td>\n",
              "      <td>0.394366</td>\n",
              "      <td>01:05</td>\n",
              "    </tr>\n",
              "  </tbody>\n",
              "</table>"
            ],
            "text/plain": [
              "<IPython.core.display.HTML object>"
            ]
          },
          "metadata": {
            "tags": []
          }
        }
      ]
    },
    {
      "cell_type": "code",
      "metadata": {
        "id": "0Zsd99isb9EQ",
        "outputId": "2034b82a-7ad0-4d04-ea7f-77bf86c4a5fc",
        "colab": {
          "base_uri": "https://localhost:8080/",
          "height": 173
        }
      },
      "source": [
        "learn.fit_one_cycle(4, slice(2e-3/100, 2e-3))"
      ],
      "execution_count": null,
      "outputs": [
        {
          "output_type": "display_data",
          "data": {
            "text/html": [
              "<table border=\"1\" class=\"dataframe\">\n",
              "  <thead>\n",
              "    <tr style=\"text-align: left;\">\n",
              "      <th>epoch</th>\n",
              "      <th>train_loss</th>\n",
              "      <th>valid_loss</th>\n",
              "      <th>accuracy</th>\n",
              "      <th>time</th>\n",
              "    </tr>\n",
              "  </thead>\n",
              "  <tbody>\n",
              "    <tr>\n",
              "      <td>0</td>\n",
              "      <td>2.962584</td>\n",
              "      <td>3.278273</td>\n",
              "      <td>0.429577</td>\n",
              "      <td>01:05</td>\n",
              "    </tr>\n",
              "    <tr>\n",
              "      <td>1</td>\n",
              "      <td>2.874791</td>\n",
              "      <td>3.305027</td>\n",
              "      <td>0.415493</td>\n",
              "      <td>01:11</td>\n",
              "    </tr>\n",
              "    <tr>\n",
              "      <td>2</td>\n",
              "      <td>2.699726</td>\n",
              "      <td>3.243513</td>\n",
              "      <td>0.415493</td>\n",
              "      <td>01:08</td>\n",
              "    </tr>\n",
              "    <tr>\n",
              "      <td>3</td>\n",
              "      <td>2.543836</td>\n",
              "      <td>3.226346</td>\n",
              "      <td>0.422535</td>\n",
              "      <td>01:07</td>\n",
              "    </tr>\n",
              "  </tbody>\n",
              "</table>"
            ],
            "text/plain": [
              "<IPython.core.display.HTML object>"
            ]
          },
          "metadata": {
            "tags": []
          }
        }
      ]
    },
    {
      "cell_type": "code",
      "metadata": {
        "id": "atNWNKDFPbuI",
        "outputId": "d51cbd1d-870d-4790-9d47-a88a28c0f7e0",
        "colab": {
          "base_uri": "https://localhost:8080/",
          "height": 173
        }
      },
      "source": [
        "learn.fit_one_cycle(4, slice(2e-3/100, 2e-3))"
      ],
      "execution_count": null,
      "outputs": [
        {
          "output_type": "display_data",
          "data": {
            "text/html": [
              "<table border=\"1\" class=\"dataframe\">\n",
              "  <thead>\n",
              "    <tr style=\"text-align: left;\">\n",
              "      <th>epoch</th>\n",
              "      <th>train_loss</th>\n",
              "      <th>valid_loss</th>\n",
              "      <th>accuracy</th>\n",
              "      <th>time</th>\n",
              "    </tr>\n",
              "  </thead>\n",
              "  <tbody>\n",
              "    <tr>\n",
              "      <td>0</td>\n",
              "      <td>2.371392</td>\n",
              "      <td>3.186740</td>\n",
              "      <td>0.436620</td>\n",
              "      <td>01:12</td>\n",
              "    </tr>\n",
              "    <tr>\n",
              "      <td>1</td>\n",
              "      <td>2.393822</td>\n",
              "      <td>3.256419</td>\n",
              "      <td>0.408451</td>\n",
              "      <td>01:09</td>\n",
              "    </tr>\n",
              "    <tr>\n",
              "      <td>2</td>\n",
              "      <td>2.222875</td>\n",
              "      <td>3.188813</td>\n",
              "      <td>0.443662</td>\n",
              "      <td>01:08</td>\n",
              "    </tr>\n",
              "    <tr>\n",
              "      <td>3</td>\n",
              "      <td>2.060678</td>\n",
              "      <td>3.180953</td>\n",
              "      <td>0.429577</td>\n",
              "      <td>01:11</td>\n",
              "    </tr>\n",
              "  </tbody>\n",
              "</table>"
            ],
            "text/plain": [
              "<IPython.core.display.HTML object>"
            ]
          },
          "metadata": {
            "tags": []
          }
        }
      ]
    },
    {
      "cell_type": "code",
      "metadata": {
        "id": "rKrBTZ0T1uVA",
        "outputId": "c61f7c49-a67a-41e3-c2a2-4c917ef93229",
        "colab": {
          "base_uri": "https://localhost:8080/",
          "height": 173
        }
      },
      "source": [
        "learn.fit_one_cycle(4, slice(2e-3/100, 2e-3))"
      ],
      "execution_count": null,
      "outputs": [
        {
          "output_type": "display_data",
          "data": {
            "text/html": [
              "<table border=\"1\" class=\"dataframe\">\n",
              "  <thead>\n",
              "    <tr style=\"text-align: left;\">\n",
              "      <th>epoch</th>\n",
              "      <th>train_loss</th>\n",
              "      <th>valid_loss</th>\n",
              "      <th>accuracy</th>\n",
              "      <th>time</th>\n",
              "    </tr>\n",
              "  </thead>\n",
              "  <tbody>\n",
              "    <tr>\n",
              "      <td>0</td>\n",
              "      <td>1.951220</td>\n",
              "      <td>3.176714</td>\n",
              "      <td>0.436620</td>\n",
              "      <td>01:07</td>\n",
              "    </tr>\n",
              "    <tr>\n",
              "      <td>1</td>\n",
              "      <td>1.916722</td>\n",
              "      <td>3.202010</td>\n",
              "      <td>0.436620</td>\n",
              "      <td>01:12</td>\n",
              "    </tr>\n",
              "    <tr>\n",
              "      <td>2</td>\n",
              "      <td>1.767669</td>\n",
              "      <td>3.137132</td>\n",
              "      <td>0.443662</td>\n",
              "      <td>01:07</td>\n",
              "    </tr>\n",
              "    <tr>\n",
              "      <td>3</td>\n",
              "      <td>1.620170</td>\n",
              "      <td>3.168604</td>\n",
              "      <td>0.450704</td>\n",
              "      <td>01:08</td>\n",
              "    </tr>\n",
              "  </tbody>\n",
              "</table>"
            ],
            "text/plain": [
              "<IPython.core.display.HTML object>"
            ]
          },
          "metadata": {
            "tags": []
          }
        }
      ]
    },
    {
      "cell_type": "code",
      "metadata": {
        "id": "ajQC6WDg1yA9",
        "outputId": "6ce3e227-5eb5-4c71-ca86-8e4eb05af52c",
        "colab": {
          "base_uri": "https://localhost:8080/",
          "height": 173
        }
      },
      "source": [
        "learn.fit_one_cycle(4, slice(2e-3/100, 2e-3))"
      ],
      "execution_count": null,
      "outputs": [
        {
          "output_type": "display_data",
          "data": {
            "text/html": [
              "<table border=\"1\" class=\"dataframe\">\n",
              "  <thead>\n",
              "    <tr style=\"text-align: left;\">\n",
              "      <th>epoch</th>\n",
              "      <th>train_loss</th>\n",
              "      <th>valid_loss</th>\n",
              "      <th>accuracy</th>\n",
              "      <th>time</th>\n",
              "    </tr>\n",
              "  </thead>\n",
              "  <tbody>\n",
              "    <tr>\n",
              "      <td>0</td>\n",
              "      <td>1.526865</td>\n",
              "      <td>3.184197</td>\n",
              "      <td>0.450704</td>\n",
              "      <td>01:05</td>\n",
              "    </tr>\n",
              "    <tr>\n",
              "      <td>1</td>\n",
              "      <td>1.521385</td>\n",
              "      <td>3.283867</td>\n",
              "      <td>0.464789</td>\n",
              "      <td>01:10</td>\n",
              "    </tr>\n",
              "    <tr>\n",
              "      <td>2</td>\n",
              "      <td>1.397128</td>\n",
              "      <td>3.243200</td>\n",
              "      <td>0.471831</td>\n",
              "      <td>01:10</td>\n",
              "    </tr>\n",
              "    <tr>\n",
              "      <td>3</td>\n",
              "      <td>1.277366</td>\n",
              "      <td>3.256428</td>\n",
              "      <td>0.471831</td>\n",
              "      <td>01:03</td>\n",
              "    </tr>\n",
              "  </tbody>\n",
              "</table>"
            ],
            "text/plain": [
              "<IPython.core.display.HTML object>"
            ]
          },
          "metadata": {
            "tags": []
          }
        }
      ]
    },
    {
      "cell_type": "code",
      "metadata": {
        "id": "KKydb0B4BKGk",
        "outputId": "f7f0ed28-f2f7-4cb0-cad9-c1fa6f82adfd",
        "colab": {
          "base_uri": "https://localhost:8080/",
          "height": 173
        }
      },
      "source": [
        "learn.fit_one_cycle(4, slice(2e-3/100, 2e-3))"
      ],
      "execution_count": null,
      "outputs": [
        {
          "output_type": "display_data",
          "data": {
            "text/html": [
              "<table border=\"1\" class=\"dataframe\">\n",
              "  <thead>\n",
              "    <tr style=\"text-align: left;\">\n",
              "      <th>epoch</th>\n",
              "      <th>train_loss</th>\n",
              "      <th>valid_loss</th>\n",
              "      <th>accuracy</th>\n",
              "      <th>time</th>\n",
              "    </tr>\n",
              "  </thead>\n",
              "  <tbody>\n",
              "    <tr>\n",
              "      <td>0</td>\n",
              "      <td>1.180284</td>\n",
              "      <td>3.286139</td>\n",
              "      <td>0.478873</td>\n",
              "      <td>01:03</td>\n",
              "    </tr>\n",
              "    <tr>\n",
              "      <td>1</td>\n",
              "      <td>1.209558</td>\n",
              "      <td>3.274119</td>\n",
              "      <td>0.457746</td>\n",
              "      <td>01:06</td>\n",
              "    </tr>\n",
              "    <tr>\n",
              "      <td>2</td>\n",
              "      <td>1.113189</td>\n",
              "      <td>3.322426</td>\n",
              "      <td>0.464789</td>\n",
              "      <td>01:10</td>\n",
              "    </tr>\n",
              "    <tr>\n",
              "      <td>3</td>\n",
              "      <td>1.018587</td>\n",
              "      <td>3.326386</td>\n",
              "      <td>0.457746</td>\n",
              "      <td>01:08</td>\n",
              "    </tr>\n",
              "  </tbody>\n",
              "</table>"
            ],
            "text/plain": [
              "<IPython.core.display.HTML object>"
            ]
          },
          "metadata": {
            "tags": []
          }
        }
      ]
    },
    {
      "cell_type": "code",
      "metadata": {
        "id": "T2APKtFKBpGY",
        "outputId": "d75a9743-1379-4404-b0cb-b26de040a253",
        "colab": {
          "base_uri": "https://localhost:8080/",
          "height": 173
        }
      },
      "source": [
        "learn.fit_one_cycle(4, slice(2e-3/100, 2e-3))"
      ],
      "execution_count": null,
      "outputs": [
        {
          "output_type": "display_data",
          "data": {
            "text/html": [
              "<table border=\"1\" class=\"dataframe\">\n",
              "  <thead>\n",
              "    <tr style=\"text-align: left;\">\n",
              "      <th>epoch</th>\n",
              "      <th>train_loss</th>\n",
              "      <th>valid_loss</th>\n",
              "      <th>accuracy</th>\n",
              "      <th>time</th>\n",
              "    </tr>\n",
              "  </thead>\n",
              "  <tbody>\n",
              "    <tr>\n",
              "      <td>0</td>\n",
              "      <td>0.934403</td>\n",
              "      <td>3.366995</td>\n",
              "      <td>0.457746</td>\n",
              "      <td>01:07</td>\n",
              "    </tr>\n",
              "    <tr>\n",
              "      <td>1</td>\n",
              "      <td>0.964353</td>\n",
              "      <td>3.466676</td>\n",
              "      <td>0.457746</td>\n",
              "      <td>01:08</td>\n",
              "    </tr>\n",
              "    <tr>\n",
              "      <td>2</td>\n",
              "      <td>0.915766</td>\n",
              "      <td>3.382648</td>\n",
              "      <td>0.436620</td>\n",
              "      <td>01:04</td>\n",
              "    </tr>\n",
              "    <tr>\n",
              "      <td>3</td>\n",
              "      <td>0.857747</td>\n",
              "      <td>3.413395</td>\n",
              "      <td>0.450704</td>\n",
              "      <td>01:13</td>\n",
              "    </tr>\n",
              "  </tbody>\n",
              "</table>"
            ],
            "text/plain": [
              "<IPython.core.display.HTML object>"
            ]
          },
          "metadata": {
            "tags": []
          }
        }
      ]
    },
    {
      "cell_type": "code",
      "metadata": {
        "id": "qtTypA1sPgLU",
        "outputId": "51cfe238-e0f3-4074-8020-ca0cc4d78604",
        "colab": {
          "base_uri": "https://localhost:8080/",
          "height": 111
        }
      },
      "source": [
        "learn.fit_one_cycle(2, slice(2e-3/100, 2e-3))"
      ],
      "execution_count": null,
      "outputs": [
        {
          "output_type": "display_data",
          "data": {
            "text/html": [
              "<table border=\"1\" class=\"dataframe\">\n",
              "  <thead>\n",
              "    <tr style=\"text-align: left;\">\n",
              "      <th>epoch</th>\n",
              "      <th>train_loss</th>\n",
              "      <th>valid_loss</th>\n",
              "      <th>accuracy</th>\n",
              "      <th>time</th>\n",
              "    </tr>\n",
              "  </thead>\n",
              "  <tbody>\n",
              "    <tr>\n",
              "      <td>0</td>\n",
              "      <td>0.766535</td>\n",
              "      <td>3.351264</td>\n",
              "      <td>0.443662</td>\n",
              "      <td>01:04</td>\n",
              "    </tr>\n",
              "    <tr>\n",
              "      <td>1</td>\n",
              "      <td>0.746372</td>\n",
              "      <td>3.370763</td>\n",
              "      <td>0.450704</td>\n",
              "      <td>01:07</td>\n",
              "    </tr>\n",
              "  </tbody>\n",
              "</table>"
            ],
            "text/plain": [
              "<IPython.core.display.HTML object>"
            ]
          },
          "metadata": {
            "tags": []
          }
        }
      ]
    },
    {
      "cell_type": "code",
      "metadata": {
        "id": "b242kBsTUp9Y",
        "outputId": "8794deaa-fe06-41f0-fbdd-cf27710c12f4",
        "colab": {
          "base_uri": "https://localhost:8080/",
          "height": 111
        }
      },
      "source": [
        "learn.fit_one_cycle(2, slice(2e-3/100, 2e-3))"
      ],
      "execution_count": null,
      "outputs": [
        {
          "output_type": "display_data",
          "data": {
            "text/html": [
              "<table border=\"1\" class=\"dataframe\">\n",
              "  <thead>\n",
              "    <tr style=\"text-align: left;\">\n",
              "      <th>epoch</th>\n",
              "      <th>train_loss</th>\n",
              "      <th>valid_loss</th>\n",
              "      <th>accuracy</th>\n",
              "      <th>time</th>\n",
              "    </tr>\n",
              "  </thead>\n",
              "  <tbody>\n",
              "    <tr>\n",
              "      <td>0</td>\n",
              "      <td>0.710865</td>\n",
              "      <td>3.568898</td>\n",
              "      <td>0.464789</td>\n",
              "      <td>01:09</td>\n",
              "    </tr>\n",
              "    <tr>\n",
              "      <td>1</td>\n",
              "      <td>0.680068</td>\n",
              "      <td>3.651678</td>\n",
              "      <td>0.457746</td>\n",
              "      <td>01:10</td>\n",
              "    </tr>\n",
              "  </tbody>\n",
              "</table>"
            ],
            "text/plain": [
              "<IPython.core.display.HTML object>"
            ]
          },
          "metadata": {
            "tags": []
          }
        }
      ]
    },
    {
      "cell_type": "code",
      "metadata": {
        "id": "Duwf1Ih5VeDZ",
        "outputId": "b54a7246-472d-4ae4-8248-e9928f240fc5",
        "colab": {
          "base_uri": "https://localhost:8080/",
          "height": 80
        }
      },
      "source": [
        "learn.fit_one_cycle(1, slice(2e-3/100, 2e-3))"
      ],
      "execution_count": null,
      "outputs": [
        {
          "output_type": "display_data",
          "data": {
            "text/html": [
              "<table border=\"1\" class=\"dataframe\">\n",
              "  <thead>\n",
              "    <tr style=\"text-align: left;\">\n",
              "      <th>epoch</th>\n",
              "      <th>train_loss</th>\n",
              "      <th>valid_loss</th>\n",
              "      <th>accuracy</th>\n",
              "      <th>time</th>\n",
              "    </tr>\n",
              "  </thead>\n",
              "  <tbody>\n",
              "    <tr>\n",
              "      <td>0</td>\n",
              "      <td>0.651936</td>\n",
              "      <td>3.581722</td>\n",
              "      <td>0.443662</td>\n",
              "      <td>01:06</td>\n",
              "    </tr>\n",
              "  </tbody>\n",
              "</table>"
            ],
            "text/plain": [
              "<IPython.core.display.HTML object>"
            ]
          },
          "metadata": {
            "tags": []
          }
        }
      ]
    },
    {
      "cell_type": "code",
      "metadata": {
        "id": "c65d-osfDUXm"
      },
      "source": [
        "# save the best model\n",
        "\n",
        "learn.save_encoder('TwADR-cadec_fold7')"
      ],
      "execution_count": null,
      "outputs": []
    },
    {
      "cell_type": "code",
      "metadata": {
        "id": "5h-A_GpAIYg8",
        "outputId": "d61670c8-7060-472d-c14a-f797e9a94b36",
        "colab": {
          "base_uri": "https://localhost:8080/",
          "height": 80
        }
      },
      "source": [
        "learn.fit_one_cycle(1, slice(2e-3/100, 2e-3))"
      ],
      "execution_count": null,
      "outputs": [
        {
          "output_type": "display_data",
          "data": {
            "text/html": [
              "<table border=\"1\" class=\"dataframe\">\n",
              "  <thead>\n",
              "    <tr style=\"text-align: left;\">\n",
              "      <th>epoch</th>\n",
              "      <th>train_loss</th>\n",
              "      <th>valid_loss</th>\n",
              "      <th>accuracy</th>\n",
              "      <th>time</th>\n",
              "    </tr>\n",
              "  </thead>\n",
              "  <tbody>\n",
              "    <tr>\n",
              "      <td>0</td>\n",
              "      <td>0.629988</td>\n",
              "      <td>3.629579</td>\n",
              "      <td>0.450704</td>\n",
              "      <td>01:06</td>\n",
              "    </tr>\n",
              "  </tbody>\n",
              "</table>"
            ],
            "text/plain": [
              "<IPython.core.display.HTML object>"
            ]
          },
          "metadata": {
            "tags": []
          }
        }
      ]
    },
    {
      "cell_type": "code",
      "metadata": {
        "id": "qc4poYxzIwca",
        "outputId": "bc5198a7-8bdc-4dd8-f49c-51e6f99f5eb9",
        "colab": {
          "base_uri": "https://localhost:8080/",
          "height": 80
        }
      },
      "source": [
        "learn.fit_one_cycle(1, slice(2e-3/100, 2e-3))"
      ],
      "execution_count": null,
      "outputs": [
        {
          "output_type": "display_data",
          "data": {
            "text/html": [
              "<table border=\"1\" class=\"dataframe\">\n",
              "  <thead>\n",
              "    <tr style=\"text-align: left;\">\n",
              "      <th>epoch</th>\n",
              "      <th>train_loss</th>\n",
              "      <th>valid_loss</th>\n",
              "      <th>accuracy</th>\n",
              "      <th>time</th>\n",
              "    </tr>\n",
              "  </thead>\n",
              "  <tbody>\n",
              "    <tr>\n",
              "      <td>0</td>\n",
              "      <td>0.637981</td>\n",
              "      <td>3.634472</td>\n",
              "      <td>0.457746</td>\n",
              "      <td>01:07</td>\n",
              "    </tr>\n",
              "  </tbody>\n",
              "</table>"
            ],
            "text/plain": [
              "<IPython.core.display.HTML object>"
            ]
          },
          "metadata": {
            "tags": []
          }
        }
      ]
    },
    {
      "cell_type": "code",
      "metadata": {
        "id": "66s4PxV1JVfo",
        "outputId": "b511502d-ad0e-4fa1-f013-9a0cf956e3ee",
        "colab": {
          "base_uri": "https://localhost:8080/",
          "height": 80
        }
      },
      "source": [
        "learn.fit_one_cycle(1, slice(2e-3/100, 2e-3))"
      ],
      "execution_count": null,
      "outputs": [
        {
          "output_type": "display_data",
          "data": {
            "text/html": [
              "<table border=\"1\" class=\"dataframe\">\n",
              "  <thead>\n",
              "    <tr style=\"text-align: left;\">\n",
              "      <th>epoch</th>\n",
              "      <th>train_loss</th>\n",
              "      <th>valid_loss</th>\n",
              "      <th>accuracy</th>\n",
              "      <th>time</th>\n",
              "    </tr>\n",
              "  </thead>\n",
              "  <tbody>\n",
              "    <tr>\n",
              "      <td>0</td>\n",
              "      <td>0.595152</td>\n",
              "      <td>3.591135</td>\n",
              "      <td>0.443662</td>\n",
              "      <td>01:06</td>\n",
              "    </tr>\n",
              "  </tbody>\n",
              "</table>"
            ],
            "text/plain": [
              "<IPython.core.display.HTML object>"
            ]
          },
          "metadata": {
            "tags": []
          }
        }
      ]
    },
    {
      "cell_type": "code",
      "metadata": {
        "id": "UIARKTw8W0Je",
        "outputId": "4331f2fa-3a6d-41dd-de44-1405d4bad92d",
        "colab": {
          "base_uri": "https://localhost:8080/",
          "height": 80
        }
      },
      "source": [
        "learn.fit_one_cycle(1, slice(2e-3/100, 2e-3))"
      ],
      "execution_count": null,
      "outputs": [
        {
          "output_type": "display_data",
          "data": {
            "text/html": [
              "<table border=\"1\" class=\"dataframe\">\n",
              "  <thead>\n",
              "    <tr style=\"text-align: left;\">\n",
              "      <th>epoch</th>\n",
              "      <th>train_loss</th>\n",
              "      <th>valid_loss</th>\n",
              "      <th>accuracy</th>\n",
              "      <th>time</th>\n",
              "    </tr>\n",
              "  </thead>\n",
              "  <tbody>\n",
              "    <tr>\n",
              "      <td>0</td>\n",
              "      <td>0.615485</td>\n",
              "      <td>3.590800</td>\n",
              "      <td>0.443662</td>\n",
              "      <td>01:13</td>\n",
              "    </tr>\n",
              "  </tbody>\n",
              "</table>"
            ],
            "text/plain": [
              "<IPython.core.display.HTML object>"
            ]
          },
          "metadata": {
            "tags": []
          }
        }
      ]
    },
    {
      "cell_type": "code",
      "metadata": {
        "id": "GEvatxUoNIX1",
        "outputId": "edc7c70c-38a7-4b10-bf89-3c246c6a0d02",
        "colab": {
          "base_uri": "https://localhost:8080/",
          "height": 80
        }
      },
      "source": [
        "learn.fit_one_cycle(1, slice(2e-3/100, 2e-3))"
      ],
      "execution_count": null,
      "outputs": [
        {
          "output_type": "display_data",
          "data": {
            "text/html": [
              "<table border=\"1\" class=\"dataframe\">\n",
              "  <thead>\n",
              "    <tr style=\"text-align: left;\">\n",
              "      <th>epoch</th>\n",
              "      <th>train_loss</th>\n",
              "      <th>valid_loss</th>\n",
              "      <th>accuracy</th>\n",
              "      <th>time</th>\n",
              "    </tr>\n",
              "  </thead>\n",
              "  <tbody>\n",
              "    <tr>\n",
              "      <td>0</td>\n",
              "      <td>0.557999</td>\n",
              "      <td>3.731659</td>\n",
              "      <td>0.457746</td>\n",
              "      <td>01:05</td>\n",
              "    </tr>\n",
              "  </tbody>\n",
              "</table>"
            ],
            "text/plain": [
              "<IPython.core.display.HTML object>"
            ]
          },
          "metadata": {
            "tags": []
          }
        }
      ]
    },
    {
      "cell_type": "markdown",
      "metadata": {
        "id": "rCwZU0E2RgM6"
      },
      "source": [
        "# Part three: Predict on the test dataset"
      ]
    },
    {
      "cell_type": "code",
      "metadata": {
        "id": "gDm72c-dOu7d",
        "outputId": "0c024da6-1928-4637-8b84-c326b0dfa6aa",
        "colab": {
          "base_uri": "https://localhost:8080/",
          "height": 17
        }
      },
      "source": [
        "# use the test data for prediction\n",
        "\n",
        "preds, y = learn.get_preds(DatasetType.Test)"
      ],
      "execution_count": null,
      "outputs": [
        {
          "output_type": "display_data",
          "data": {
            "text/html": [
              ""
            ],
            "text/plain": [
              "<IPython.core.display.HTML object>"
            ]
          },
          "metadata": {
            "tags": []
          }
        }
      ]
    },
    {
      "cell_type": "code",
      "metadata": {
        "id": "6tFSQcsWPvxn",
        "outputId": "b1a91083-4f1e-424d-a015-e09bcff0cbfe",
        "colab": {
          "base_uri": "https://localhost:8080/",
          "height": 105
        }
      },
      "source": [
        "predictions, *_ = learn.get_preds(DatasetType.Test)\n",
        "labels = np.argmax(predictions, 1)\n",
        "predict_list = labels.tolist()\n",
        "standard_list = test[0].tolist()\n",
        "\n",
        "print(len(predict_list))\n",
        "print(len(standard_list))\n",
        "\n",
        "print(predict_list)\n",
        "print(standard_list)"
      ],
      "execution_count": null,
      "outputs": [
        {
          "output_type": "display_data",
          "data": {
            "text/html": [
              ""
            ],
            "text/plain": [
              "<IPython.core.display.HTML object>"
            ]
          },
          "metadata": {
            "tags": []
          }
        },
        {
          "output_type": "stream",
          "text": [
            "142\n",
            "142\n",
            "[1787, 978, 978, 978, 195, 249, 154, 2048, 189, 189, 2149, 649, 231, 231, 1936, 2147, 2147, 2147, 233, 233, 249, 857, 300, 1054, 393, 1136, 418, 426, 518, 1214, 1787, 1711, 1099, 749, 749, 749, 749, 791, 1545, 1545, 818, 824, 2168, 1884, 852, 852, 1279, 1062, 974, 1356, 1062, 441, 978, 978, 1518, 233, 426, 1718, 1669, 1099, 1136, 1175, 1265, 1545, 1062, 61, 195, 1308, 1321, 1327, 1099, 1507, 1873, 974, 1432, 1806, 1701, 1526, 1545, 1573, 1163, 1597, 1597, 1597, 1597, 1597, 1597, 1597, 1597, 1597, 1610, 1610, 108, 947, 1073, 1787, 1531, 1767, 1718, 1718, 1753, 947, 1718, 1718, 1718, 561, 1597, 1787, 825, 1073, 1787, 1787, 1974, 1099, 1787, 1529, 1373, 1915, 1936, 1936, 1936, 1925, 749, 1283, 1942, 1942, 2113, 16, 1265, 2048, 1813, 61, 418, 1769, 1718, 2119, 1718, 2147, 2147, 2191, 1597, 1099]\n",
            "[13, 94, 119, 119, 121, 143, 154, 189, 189, 189, 224, 230, 231, 231, 233, 233, 233, 233, 233, 233, 249, 265, 300, 359, 393, 396, 418, 426, 518, 596, 693, 712, 744, 749, 749, 749, 749, 791, 815, 815, 818, 824, 824, 825, 852, 852, 907, 947, 974, 974, 978, 982, 982, 982, 1005, 1019, 1054, 1073, 1073, 1099, 1136, 1175, 1265, 1295, 1295, 1295, 1296, 1308, 1319, 1327, 1340, 1341, 1417, 1432, 1432, 1508, 1526, 1526, 1545, 1573, 1594, 1597, 1597, 1597, 1597, 1597, 1597, 1597, 1597, 1597, 1610, 1610, 1647, 1669, 1669, 1676, 1711, 1718, 1718, 1718, 1727, 1727, 1767, 1767, 1767, 1769, 1769, 1787, 1787, 1787, 1787, 1787, 1798, 1815, 1815, 1822, 1833, 1915, 1936, 1936, 1936, 1936, 1942, 1942, 1942, 1942, 1948, 1962, 1973, 1974, 2023, 2032, 2063, 2097, 2103, 2119, 2123, 2147, 2147, 2191, 2191, 2194]\n"
          ],
          "name": "stdout"
        }
      ]
    },
    {
      "cell_type": "code",
      "metadata": {
        "id": "XIC4zufnMxtq",
        "outputId": "2714f715-3dba-49df-fb00-c09f0b28438d",
        "colab": {
          "base_uri": "https://localhost:8080/"
        }
      },
      "source": [
        "correct_num = 0\n",
        "\n",
        "for i in range(0, len(standard_list)):\n",
        "  if predict_list[i] == standard_list[i]:\n",
        "    correct_num = correct_num+1\n",
        "  else:\n",
        "    pass\n",
        "print(correct_num)\n",
        "\n",
        "predict_accuracy = correct_num/len(predict_list)\n",
        "print(predict_accuracy)"
      ],
      "execution_count": null,
      "outputs": [
        {
          "output_type": "stream",
          "text": [
            "59\n",
            "0.4154929577464789\n"
          ],
          "name": "stdout"
        }
      ]
    },
    {
      "cell_type": "code",
      "metadata": {
        "id": "zlKMHp1CIaRJ"
      },
      "source": [
        ""
      ],
      "execution_count": null,
      "outputs": []
    }
  ]
}