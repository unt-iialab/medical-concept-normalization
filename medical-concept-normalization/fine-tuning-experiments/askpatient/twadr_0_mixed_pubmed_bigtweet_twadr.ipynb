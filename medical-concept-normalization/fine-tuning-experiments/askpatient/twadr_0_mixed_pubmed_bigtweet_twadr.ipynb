{
  "nbformat": 4,
  "nbformat_minor": 0,
  "metadata": {
    "accelerator": "TPU",
    "colab": {
      "name": "twadr_0_mixed_pubmed_bigtweet_twadr.ipynb",
      "provenance": [],
      "collapsed_sections": [],
      "toc_visible": true,
      "include_colab_link": true
    },
    "kernelspec": {
      "display_name": "Python 3",
      "name": "python3"
    }
  },
  "cells": [
    {
      "cell_type": "markdown",
      "metadata": {
        "id": "view-in-github",
        "colab_type": "text"
      },
      "source": [
        "<a href=\"https://colab.research.google.com/github/unt-iialab/medical-concept-normalization/blob/master/medical-concept-normalization/fine-tuning-experiments/askpatient/twadr_0_mixed_pubmed_bigtweet_twadr.ipynb\" target=\"_parent\"><img src=\"https://colab.research.google.com/assets/colab-badge.svg\" alt=\"Open In Colab\"/></a>"
      ]
    },
    {
      "cell_type": "code",
      "metadata": {
        "id": "adSi6i2-dWxy"
      },
      "source": [
        "import os"
      ],
      "execution_count": 1,
      "outputs": []
    },
    {
      "cell_type": "code",
      "metadata": {
        "id": "E7xYCRGPjd9B"
      },
      "source": [
        "base_dir = 'medical-concept-normalization'"
      ],
      "execution_count": 2,
      "outputs": []
    },
    {
      "cell_type": "code",
      "metadata": {
        "id": "yvIW3aUDjYNS"
      },
      "source": [
        "os.mkdir(base_dir)"
      ],
      "execution_count": 3,
      "outputs": []
    },
    {
      "cell_type": "code",
      "metadata": {
        "id": "es-FFLlfk6SG"
      },
      "source": [
        "os.mkdir('medical-concept-normalization/data_collection')"
      ],
      "execution_count": 4,
      "outputs": []
    },
    {
      "cell_type": "markdown",
      "metadata": {
        "id": "0R-Guw_VoJXm"
      },
      "source": [
        "**Install fastai and clone the fastai for text classification**\n",
        "\n"
      ]
    },
    {
      "cell_type": "code",
      "metadata": {
        "id": "QVZa3Z0PmHFH",
        "outputId": "dcc55d97-7b4d-4fac-ae79-26e30ee1b6c6",
        "colab": {
          "base_uri": "https://localhost:8080/",
          "height": 68
        }
      },
      "source": [
        "!curl https://course-v3.fast.ai/setup/colab | bash"
      ],
      "execution_count": 5,
      "outputs": [
        {
          "output_type": "stream",
          "text": [
            "  % Total    % Received % Xferd  Average Speed   Time    Time     Time  Current\n",
            "                                 Dload  Upload   Total   Spent    Left  Speed\n",
            "\r  0     0    0     0    0     0      0      0 --:--:-- --:--:-- --:--:--     0curl: (6) Could not resolve host: course-v3.fast.ai\n"
          ],
          "name": "stdout"
        }
      ]
    },
    {
      "cell_type": "code",
      "metadata": {
        "id": "_FBFFEBrmJC0",
        "outputId": "67d892a0-a017-40d1-c4d7-8230d7c7525d",
        "colab": {
          "base_uri": "https://localhost:8080/",
          "height": 85
        }
      },
      "source": [
        "!git clone https://github.com/wshuyi/demo-nlp-classification-fastai.git"
      ],
      "execution_count": 6,
      "outputs": [
        {
          "output_type": "stream",
          "text": [
            "Cloning into 'demo-nlp-classification-fastai'...\n",
            "remote: Enumerating objects: 9, done.\u001b[K\n",
            "Unpacking objects: 100% (9/9), done.\n",
            "remote: Total 9 (delta 0), reused 0 (delta 0), pack-reused 9\u001b[K\n"
          ],
          "name": "stdout"
        }
      ]
    },
    {
      "cell_type": "code",
      "metadata": {
        "id": "66zfh_JqmWMU"
      },
      "source": [
        "from fastai import *\n",
        "from fastai.text import *"
      ],
      "execution_count": 7,
      "outputs": []
    },
    {
      "cell_type": "markdown",
      "metadata": {
        "id": "mNIw-yALdBU9"
      },
      "source": [
        "**Set the path of the data collections**"
      ]
    },
    {
      "cell_type": "code",
      "metadata": {
        "id": "pzH7VMh4mqCL"
      },
      "source": [
        "path = Path('medical-concept-normalization/data_collection')"
      ],
      "execution_count": 8,
      "outputs": []
    },
    {
      "cell_type": "code",
      "metadata": {
        "id": "b8fjI6yyn4aS"
      },
      "source": [
        "# training data set\n",
        "\n",
        "train_csv = path/'TwADR-L.fold-0.train.csv'\n",
        "train = pd.read_csv(train_csv, header=None)\n",
        "#train.head()\n",
        "#train.info()"
      ],
      "execution_count": 10,
      "outputs": []
    },
    {
      "cell_type": "code",
      "metadata": {
        "id": "Hmlr-bAorfHd",
        "outputId": "23629d4a-6fa4-435d-9a8c-42205fdf59e4",
        "colab": {
          "base_uri": "https://localhost:8080/",
          "height": 204
        }
      },
      "source": [
        "# validating data set\n",
        "\n",
        "valid = pd.read_csv(path/\"TwADR-L.fold-0.validation.csv\",header=None)\n",
        "valid.head()"
      ],
      "execution_count": 11,
      "outputs": [
        {
          "output_type": "execute_result",
          "data": {
            "text/html": [
              "<div>\n",
              "<style scoped>\n",
              "    .dataframe tbody tr th:only-of-type {\n",
              "        vertical-align: middle;\n",
              "    }\n",
              "\n",
              "    .dataframe tbody tr th {\n",
              "        vertical-align: top;\n",
              "    }\n",
              "\n",
              "    .dataframe thead th {\n",
              "        text-align: right;\n",
              "    }\n",
              "</style>\n",
              "<table border=\"1\" class=\"dataframe\">\n",
              "  <thead>\n",
              "    <tr style=\"text-align: right;\">\n",
              "      <th></th>\n",
              "      <th>0</th>\n",
              "      <th>1</th>\n",
              "    </tr>\n",
              "  </thead>\n",
              "  <tbody>\n",
              "    <tr>\n",
              "      <th>0</th>\n",
              "      <td>13</td>\n",
              "      <td>insomnia</td>\n",
              "    </tr>\n",
              "    <tr>\n",
              "      <th>1</th>\n",
              "      <td>57</td>\n",
              "      <td>hypertrophic scarring</td>\n",
              "    </tr>\n",
              "    <tr>\n",
              "      <th>2</th>\n",
              "      <td>84</td>\n",
              "      <td>paraplegic</td>\n",
              "    </tr>\n",
              "    <tr>\n",
              "      <th>3</th>\n",
              "      <td>93</td>\n",
              "      <td>shooting</td>\n",
              "    </tr>\n",
              "    <tr>\n",
              "      <th>4</th>\n",
              "      <td>97</td>\n",
              "      <td>screwing with my short term memory</td>\n",
              "    </tr>\n",
              "  </tbody>\n",
              "</table>\n",
              "</div>"
            ],
            "text/plain": [
              "    0                                   1\n",
              "0  13                            insomnia\n",
              "1  57               hypertrophic scarring\n",
              "2  84                          paraplegic\n",
              "3  93                            shooting\n",
              "4  97  screwing with my short term memory"
            ]
          },
          "metadata": {
            "tags": []
          },
          "execution_count": 11
        }
      ]
    },
    {
      "cell_type": "code",
      "metadata": {
        "id": "cOza9dfSsBud",
        "outputId": "27e03e03-697d-4bb3-de2d-68f3d8f4c43f",
        "colab": {
          "base_uri": "https://localhost:8080/",
          "height": 204
        }
      },
      "source": [
        "# testing data set\n",
        "\n",
        "test = pd.read_csv(path/\"TwADR-L.fold-0.test.csv\",header=None)\n",
        "test.head()"
      ],
      "execution_count": 12,
      "outputs": [
        {
          "output_type": "execute_result",
          "data": {
            "text/html": [
              "<div>\n",
              "<style scoped>\n",
              "    .dataframe tbody tr th:only-of-type {\n",
              "        vertical-align: middle;\n",
              "    }\n",
              "\n",
              "    .dataframe tbody tr th {\n",
              "        vertical-align: top;\n",
              "    }\n",
              "\n",
              "    .dataframe thead th {\n",
              "        text-align: right;\n",
              "    }\n",
              "</style>\n",
              "<table border=\"1\" class=\"dataframe\">\n",
              "  <thead>\n",
              "    <tr style=\"text-align: right;\">\n",
              "      <th></th>\n",
              "      <th>0</th>\n",
              "      <th>1</th>\n",
              "    </tr>\n",
              "  </thead>\n",
              "  <tbody>\n",
              "    <tr>\n",
              "      <th>0</th>\n",
              "      <td>13</td>\n",
              "      <td>insomniac</td>\n",
              "    </tr>\n",
              "    <tr>\n",
              "      <th>1</th>\n",
              "      <td>60</td>\n",
              "      <td>cigarette withdrawal</td>\n",
              "    </tr>\n",
              "    <tr>\n",
              "      <th>2</th>\n",
              "      <td>108</td>\n",
              "      <td>cramps</td>\n",
              "    </tr>\n",
              "    <tr>\n",
              "      <th>3</th>\n",
              "      <td>109</td>\n",
              "      <td>make me drunker</td>\n",
              "    </tr>\n",
              "    <tr>\n",
              "      <th>4</th>\n",
              "      <td>133</td>\n",
              "      <td>nightmares</td>\n",
              "    </tr>\n",
              "  </tbody>\n",
              "</table>\n",
              "</div>"
            ],
            "text/plain": [
              "     0                     1\n",
              "0   13             insomniac\n",
              "1   60  cigarette withdrawal\n",
              "2  108                cramps\n",
              "3  109       make me drunker\n",
              "4  133            nightmares"
            ]
          },
          "metadata": {
            "tags": []
          },
          "execution_count": 12
        }
      ]
    },
    {
      "cell_type": "code",
      "metadata": {
        "id": "Vo-YNvVYoaH6",
        "outputId": "8bc93cbe-d9cb-4422-f8e7-f970706b6d01",
        "colab": {
          "base_uri": "https://localhost:8080/",
          "height": 17
        }
      },
      "source": [
        "# Creating DataBunch for language modelling\n",
        "\n",
        "data_lm = TextLMDataBunch.from_csv(path, 'mixed_pubmed_bigtweet_twadr.csv')"
      ],
      "execution_count": 13,
      "outputs": [
        {
          "output_type": "display_data",
          "data": {
            "text/html": [
              ""
            ],
            "text/plain": [
              "<IPython.core.display.HTML object>"
            ]
          },
          "metadata": {
            "tags": []
          }
        },
        {
          "output_type": "display_data",
          "data": {
            "text/html": [
              ""
            ],
            "text/plain": [
              "<IPython.core.display.HTML object>"
            ]
          },
          "metadata": {
            "tags": []
          }
        }
      ]
    },
    {
      "cell_type": "code",
      "metadata": {
        "id": "qcV-9kMnNLBf"
      },
      "source": [
        ""
      ],
      "execution_count": 13,
      "outputs": []
    },
    {
      "cell_type": "code",
      "metadata": {
        "id": "1ScY9afDsnvE"
      },
      "source": [
        "# Creating DataBunch for classification\n",
        "\n",
        "# data_clas = TextClasDataBunch.from_df(path, train, valid, test, vocab=data_lm.train_ds.vocab, bs=128)"
      ],
      "execution_count": 14,
      "outputs": []
    },
    {
      "cell_type": "code",
      "metadata": {
        "id": "gzrSdQcvey9p",
        "outputId": "b4f673c9-31c4-46c9-d6c5-ed47a40d4fbe",
        "colab": {
          "base_uri": "https://localhost:8080/",
          "height": 17
        }
      },
      "source": [
        "data_clas = TextClasDataBunch.from_df(path, train, valid, vocab=data_lm.train_ds.vocab, bs=128)"
      ],
      "execution_count": 15,
      "outputs": [
        {
          "output_type": "display_data",
          "data": {
            "text/html": [
              ""
            ],
            "text/plain": [
              "<IPython.core.display.HTML object>"
            ]
          },
          "metadata": {
            "tags": []
          }
        },
        {
          "output_type": "display_data",
          "data": {
            "text/html": [
              ""
            ],
            "text/plain": [
              "<IPython.core.display.HTML object>"
            ]
          },
          "metadata": {
            "tags": []
          }
        }
      ]
    },
    {
      "cell_type": "code",
      "metadata": {
        "id": "MD27Tf0Ke3ou",
        "outputId": "81f87a5a-4801-46ec-b487-a9a8ee3ceb3a",
        "colab": {
          "base_uri": "https://localhost:8080/",
          "height": 17
        }
      },
      "source": [
        "data_clas.add_test(test,label=0)\n"
      ],
      "execution_count": 16,
      "outputs": [
        {
          "output_type": "display_data",
          "data": {
            "text/html": [
              ""
            ],
            "text/plain": [
              "<IPython.core.display.HTML object>"
            ]
          },
          "metadata": {
            "tags": []
          }
        }
      ]
    },
    {
      "cell_type": "code",
      "metadata": {
        "id": "-dpjnk_rstwk"
      },
      "source": [
        "data_lm.save()\n",
        "data_clas.save()"
      ],
      "execution_count": 17,
      "outputs": []
    },
    {
      "cell_type": "code",
      "metadata": {
        "id": "4OkiJa36sw5s",
        "outputId": "7fbc5bd5-cc1a-4fc7-b57e-95fe79707829",
        "colab": {
          "base_uri": "https://localhost:8080/",
          "height": 1000
        }
      },
      "source": [
        "data_lm.train_ds.vocab.itos"
      ],
      "execution_count": 18,
      "outputs": [
        {
          "output_type": "execute_result",
          "data": {
            "text/plain": [
              "['xxunk',\n",
              " 'xxpad',\n",
              " 'xxbos',\n",
              " 'xxeos',\n",
              " 'xxfld',\n",
              " 'xxmaj',\n",
              " 'xxup',\n",
              " 'xxrep',\n",
              " 'xxwrep',\n",
              " 'the',\n",
              " 'of',\n",
              " 'and',\n",
              " 'in',\n",
              " 'to',\n",
              " 'a',\n",
              " 'for',\n",
              " 'with',\n",
              " 'was',\n",
              " 'diclofenac',\n",
              " 'were',\n",
              " 'on',\n",
              " 'is',\n",
              " 'rt',\n",
              " 'pain',\n",
              " 'sodium',\n",
              " 'by',\n",
              " 'drug',\n",
              " 'that',\n",
              " 'as',\n",
              " 'at',\n",
              " 'i',\n",
              " 'or',\n",
              " 'patients',\n",
              " 'this',\n",
              " 'from',\n",
              " 'you',\n",
              " 'disease',\n",
              " 'be',\n",
              " 'mg',\n",
              " 'increased',\n",
              " 'group',\n",
              " 'my',\n",
              " 'study',\n",
              " 'are',\n",
              " 'not',\n",
              " 'mood',\n",
              " 'treatment',\n",
              " 'an',\n",
              " 'it',\n",
              " 'after',\n",
              " 'have',\n",
              " 'me',\n",
              " 'amp',\n",
              " 'release',\n",
              " 'gluten',\n",
              " 'p',\n",
              " 'disorder',\n",
              " ',',\n",
              " 'all',\n",
              " 'effect',\n",
              " 'abnormal',\n",
              " 'free',\n",
              " 'withdrawal',\n",
              " 'symptoms',\n",
              " 'we',\n",
              " 'than',\n",
              " 'no',\n",
              " 'decreased',\n",
              " 'weight',\n",
              " 'new',\n",
              " 'out',\n",
              " 'more',\n",
              " 'anxiety',\n",
              " 'your',\n",
              " 'compared',\n",
              " 'using',\n",
              " 'effects',\n",
              " 'day',\n",
              " 'time',\n",
              " 'groups',\n",
              " 'up',\n",
              " 'our',\n",
              " 'about',\n",
              " 'two',\n",
              " 'both',\n",
              " 'inflammatory',\n",
              " 'between',\n",
              " 'blood',\n",
              " 'h',\n",
              " 'its',\n",
              " 'drugs',\n",
              " 'significantly',\n",
              " 'can',\n",
              " 'acute',\n",
              " 'like',\n",
              " 'skin',\n",
              " 'these',\n",
              " 'potassium',\n",
              " 'disorders',\n",
              " 'had',\n",
              " 'dose',\n",
              " 'anti',\n",
              " 'but',\n",
              " 'significant',\n",
              " 'use',\n",
              " 'which',\n",
              " 'used',\n",
              " 'has',\n",
              " 'voltaren',\n",
              " 'behavior',\n",
              " '(',\n",
              " ')',\n",
              " 'syndrome',\n",
              " 'do',\n",
              " 'also',\n",
              " 'results',\n",
              " '-',\n",
              " 'nt',\n",
              " 'glutenfree',\n",
              " 'days',\n",
              " 'placebo',\n",
              " 'one',\n",
              " 's',\n",
              " 'what',\n",
              " 'efficacy',\n",
              " 'diseases',\n",
              " 'oral',\n",
              " 'sleeplessness',\n",
              " 'there',\n",
              " 'may',\n",
              " 'celiac',\n",
              " 'concentration',\n",
              " 'm',\n",
              " 'feeling',\n",
              " 'now',\n",
              " 'ds',\n",
              " 'when',\n",
              " 'w',\n",
              " 'different',\n",
              " 'treated',\n",
              " 'test',\n",
              " 'showed',\n",
              " 'been',\n",
              " 'got',\n",
              " 'topical',\n",
              " 'ml',\n",
              " 'finding',\n",
              " 'so',\n",
              " 'administration',\n",
              " 'products',\n",
              " 'somnolence',\n",
              " 'non',\n",
              " 'food',\n",
              " 'high',\n",
              " 'insomnia',\n",
              " 'sleep',\n",
              " 'rats',\n",
              " 'disturbance',\n",
              " 'via',\n",
              " 'right',\n",
              " 'hours',\n",
              " 'their',\n",
              " 'if',\n",
              " 'studies',\n",
              " 'control',\n",
              " 'c',\n",
              " 'other',\n",
              " 'into',\n",
              " 'acid',\n",
              " 'clinical',\n",
              " 'who',\n",
              " 'mental',\n",
              " 'energy',\n",
              " 'induced',\n",
              " 'body',\n",
              " 'rate',\n",
              " 'how',\n",
              " 'respectively',\n",
              " 'post',\n",
              " 'well',\n",
              " 'during',\n",
              " 'nsaids',\n",
              " 'found',\n",
              " 'state',\n",
              " 'mean',\n",
              " 'muscle',\n",
              " 'could',\n",
              " 'plasma',\n",
              " 'swelling',\n",
              " 'low',\n",
              " 'formulation',\n",
              " 'formulations',\n",
              " 'did',\n",
              " 'nausea',\n",
              " 'first',\n",
              " 'tablets',\n",
              " 'observed',\n",
              " 'over',\n",
              " 'gain',\n",
              " 'feel',\n",
              " 'diet',\n",
              " 'depression',\n",
              " 'method',\n",
              " 'three',\n",
              " 'appetite',\n",
              " 'ph',\n",
              " 'g',\n",
              " 'those',\n",
              " 'effective',\n",
              " 'review',\n",
              " 'tip',\n",
              " 'n',\n",
              " 'gel',\n",
              " 'solution',\n",
              " 'received',\n",
              " 'cell',\n",
              " 'kg',\n",
              " 'each',\n",
              " 'conditions',\n",
              " 'lower',\n",
              " 'controlled',\n",
              " 'only',\n",
              " 'reaction',\n",
              " 'irritable',\n",
              " 'heart',\n",
              " 'analgesic',\n",
              " 'activity',\n",
              " 'analysis',\n",
              " 'adverse',\n",
              " 'd',\n",
              " 'excitability',\n",
              " 'hyperactive',\n",
              " 'eye',\n",
              " 'total',\n",
              " 'serum',\n",
              " 'data',\n",
              " 'single',\n",
              " 'awake',\n",
              " 'get',\n",
              " 'feelings',\n",
              " 'daily',\n",
              " 'following',\n",
              " 'dizziness',\n",
              " 'vitro',\n",
              " 'atorvastatin',\n",
              " 'less',\n",
              " 'patient',\n",
              " 'renal',\n",
              " 'levels',\n",
              " 'gastrointestinal',\n",
              " 'system',\n",
              " 'weeks',\n",
              " 'attention',\n",
              " 'week',\n",
              " 'panic',\n",
              " 'liver',\n",
              " 'period',\n",
              " 'level',\n",
              " 'ca',\n",
              " 'ceiling',\n",
              " 'drowsiness',\n",
              " 'randomized',\n",
              " 'dblclick',\n",
              " 'site',\n",
              " 'concentrations',\n",
              " 'joint',\n",
              " 'most',\n",
              " 'however',\n",
              " 'headache',\n",
              " 'pic',\n",
              " 'some',\n",
              " 'allergic',\n",
              " 'before',\n",
              " 'surgery',\n",
              " 'loss',\n",
              " 'function',\n",
              " 'evaluated',\n",
              " 'need',\n",
              " 'rash',\n",
              " 'application',\n",
              " 'good',\n",
              " 'they',\n",
              " 'why',\n",
              " 't',\n",
              " 'inflammation',\n",
              " 'double',\n",
              " 'model',\n",
              " 'here',\n",
              " 'will',\n",
              " 'postoperative',\n",
              " 'reduced',\n",
              " 'increase',\n",
              " 'nsaid',\n",
              " 'difference',\n",
              " 'associated',\n",
              " 'chronic',\n",
              " 'l',\n",
              " 'present',\n",
              " 'depressed',\n",
              " 'arthritis',\n",
              " 'higher',\n",
              " 'dissolution',\n",
              " 'water',\n",
              " 'tablet',\n",
              " 'obtained',\n",
              " 'any',\n",
              " 'check',\n",
              " 'therapy',\n",
              " 'years',\n",
              " 'injection',\n",
              " 'based',\n",
              " 'know',\n",
              " 'similar',\n",
              " 'healthy',\n",
              " 'edema',\n",
              " 'under',\n",
              " 'infection',\n",
              " 'bipolar',\n",
              " 'initial',\n",
              " 'injury',\n",
              " 'b',\n",
              " 'combination',\n",
              " '#',\n",
              " 'cells',\n",
              " 'relief',\n",
              " 'migraine',\n",
              " 'just',\n",
              " 'brain',\n",
              " 'swings',\n",
              " 'bone',\n",
              " 'should',\n",
              " 'administered',\n",
              " 'life',\n",
              " 'help',\n",
              " 'order',\n",
              " 'change',\n",
              " 'better',\n",
              " 'prepared',\n",
              " 'studied',\n",
              " 'wakefulness',\n",
              " \"n't\",\n",
              " 'make',\n",
              " 'changes',\n",
              " 'does',\n",
              " 'trial',\n",
              " 'response',\n",
              " 'great',\n",
              " 'due',\n",
              " 'vs',\n",
              " 'gastric',\n",
              " 'pressure',\n",
              " 'reported',\n",
              " 'min',\n",
              " 'given',\n",
              " 'while',\n",
              " 'being',\n",
              " 'differences',\n",
              " 'doses',\n",
              " 'love',\n",
              " 'eating',\n",
              " 'such',\n",
              " 'tissue',\n",
              " 'still',\n",
              " 'nonsteroidal',\n",
              " 're',\n",
              " 'very',\n",
              " 'gfb',\n",
              " 'values',\n",
              " 'blind',\n",
              " 'phase',\n",
              " 'events',\n",
              " 'breast',\n",
              " 'side',\n",
              " 'four',\n",
              " 'fatigue',\n",
              " 'performed',\n",
              " 'subjects',\n",
              " '30',\n",
              " 'containing',\n",
              " 'visual',\n",
              " 'corneal',\n",
              " 'absorption',\n",
              " 'v',\n",
              " 'investigated',\n",
              " 'intolerance',\n",
              " 'ratio',\n",
              " 'respiratory',\n",
              " 'properties',\n",
              " 'thanks',\n",
              " 'dreams',\n",
              " 'either',\n",
              " 'abdominal',\n",
              " 'through',\n",
              " 'attacks',\n",
              " 'cholesterol',\n",
              " 'developed',\n",
              " 'knee',\n",
              " 'without',\n",
              " 'times',\n",
              " 'eat',\n",
              " 'safety',\n",
              " 'samples',\n",
              " 'taste',\n",
              " 'within',\n",
              " 'us',\n",
              " 'living',\n",
              " 'type',\n",
              " 'posted',\n",
              " 'urine',\n",
              " 'parameters',\n",
              " 'delivery',\n",
              " 'recipe',\n",
              " 'assessed',\n",
              " 'makes',\n",
              " 'minutes',\n",
              " 'number',\n",
              " 'x',\n",
              " 'decrease',\n",
              " 'people',\n",
              " 'show',\n",
              " 'potential',\n",
              " 'death',\n",
              " 'attack',\n",
              " 'auc',\n",
              " 'risk',\n",
              " 'tremor',\n",
              " 'measured',\n",
              " 'statistically',\n",
              " 'included',\n",
              " 'mm',\n",
              " 'therapeutic',\n",
              " 'liquid',\n",
              " 'determined',\n",
              " 'hemorrhage',\n",
              " 'going',\n",
              " 'stiffness',\n",
              " '2',\n",
              " 'active',\n",
              " 'failure',\n",
              " 'human',\n",
              " 'indomethacin',\n",
              " 'e',\n",
              " 'night',\n",
              " 'best',\n",
              " 'compare',\n",
              " 'steroidal',\n",
              " 'heres',\n",
              " 'lipitor',\n",
              " 'many',\n",
              " 'tired',\n",
              " 'reduction',\n",
              " 'dry',\n",
              " 'same',\n",
              " 'medication',\n",
              " 'form',\n",
              " 'action',\n",
              " 'primary',\n",
              " 'stomach',\n",
              " 'damage',\n",
              " 'oa',\n",
              " 'normal',\n",
              " 'development',\n",
              " 'eyes',\n",
              " 'rage',\n",
              " 'archives',\n",
              " 'range',\n",
              " 'applied',\n",
              " 'local',\n",
              " 'carcinoma',\n",
              " 'health',\n",
              " 'addition',\n",
              " 'sustained',\n",
              " '\\r \\n ',\n",
              " 'jennieo',\n",
              " 'osteoarthritis',\n",
              " 'vivo',\n",
              " 'size',\n",
              " 'process',\n",
              " 'ng',\n",
              " 'then',\n",
              " 'bioavailability',\n",
              " 'year',\n",
              " 'go',\n",
              " 'kidney',\n",
              " 'think',\n",
              " 'evaluate',\n",
              " 'scale',\n",
              " 'greater',\n",
              " 'much',\n",
              " 'discomfort',\n",
              " 'related',\n",
              " 'ulcer',\n",
              " 'dependent',\n",
              " 'back',\n",
              " 'cardiac',\n",
              " 'sleepy',\n",
              " 'tips',\n",
              " 'k',\n",
              " 'take',\n",
              " 'infections',\n",
              " 'hour',\n",
              " 'baseline',\n",
              " 'sensitivity',\n",
              " 'severe',\n",
              " 'na',\n",
              " 'available',\n",
              " 'read',\n",
              " 'coated',\n",
              " 'deficit',\n",
              " 'cox',\n",
              " 'long',\n",
              " 'ii',\n",
              " 'months',\n",
              " 'psychotic',\n",
              " 'important',\n",
              " 'made',\n",
              " 'because',\n",
              " 'per',\n",
              " 'multiple',\n",
              " 'scores',\n",
              " 'even',\n",
              " 'demonstrated',\n",
              " 'tolerability',\n",
              " 'alone',\n",
              " 'male',\n",
              " 'vomiting',\n",
              " 'wide',\n",
              " 'tested',\n",
              " 'secondary',\n",
              " 'area',\n",
              " 'revealed',\n",
              " 'end',\n",
              " 'numbness',\n",
              " 'temperature',\n",
              " 'daytime',\n",
              " 'pulmonary',\n",
              " 'treatments',\n",
              " 'polymer',\n",
              " 'down',\n",
              " 'presence',\n",
              " 'suggest',\n",
              " 'common',\n",
              " 'super',\n",
              " '1',\n",
              " 'way',\n",
              " 'dosage',\n",
              " 'aqueous',\n",
              " 'difficulty',\n",
              " 'aim',\n",
              " 'volunteers',\n",
              " 'news',\n",
              " 'trials',\n",
              " 'today',\n",
              " 'early',\n",
              " 'shown',\n",
              " 'quality',\n",
              " 'matrix',\n",
              " 'dysfunction',\n",
              " 'rheumatoid',\n",
              " 'fluid',\n",
              " 'improvement',\n",
              " 'chicken',\n",
              " 'safe',\n",
              " 'various',\n",
              " 'randomly',\n",
              " 'tolerated',\n",
              " 'further',\n",
              " 'irritation',\n",
              " 'article',\n",
              " 'allergy',\n",
              " 'mice',\n",
              " 'middle',\n",
              " 'de',\n",
              " 'animals',\n",
              " 'ocular',\n",
              " 'dermatitis',\n",
              " 'caused',\n",
              " 'provide',\n",
              " 'want',\n",
              " 'term',\n",
              " 'case',\n",
              " 'pizza',\n",
              " 'intensity',\n",
              " 'sweating',\n",
              " 'mechanism',\n",
              " 'inhibition',\n",
              " 'sensation',\n",
              " 'distress',\n",
              " 'big',\n",
              " 'female',\n",
              " 'age',\n",
              " 'inhibitor',\n",
              " 'score',\n",
              " 'prolonged',\n",
              " 'cerebral',\n",
              " 'zombie',\n",
              " 'intestinal',\n",
              " 'hepatic',\n",
              " 'facial',\n",
              " 'exposure',\n",
              " 'part',\n",
              " 'agent',\n",
              " 'growth',\n",
              " 'every',\n",
              " 'whereas',\n",
              " 'moderate',\n",
              " 'indicated',\n",
              " 'followed',\n",
              " 'agents',\n",
              " 'dependence',\n",
              " 'among',\n",
              " 'cases',\n",
              " 'u',\n",
              " 'content',\n",
              " 'pharmaceutical',\n",
              " 'including',\n",
              " 'asleep',\n",
              " 'happy',\n",
              " 'painful',\n",
              " '4',\n",
              " 'peak',\n",
              " 'cancer',\n",
              " 'aggravated',\n",
              " 'evidence',\n",
              " 'formation',\n",
              " 'standard',\n",
              " 'conducted',\n",
              " 'hypertension',\n",
              " 'sleepiness',\n",
              " 'although',\n",
              " 'follow',\n",
              " 'ibuprofen',\n",
              " 'find',\n",
              " 'protein',\n",
              " 'complete',\n",
              " 'six',\n",
              " 'calcium',\n",
              " 'determine',\n",
              " 'hallucinations',\n",
              " 'cd',\n",
              " 'old',\n",
              " \"'m\",\n",
              " 'product',\n",
              " 'would',\n",
              " 'alcohol',\n",
              " 'vehicle',\n",
              " 'cause',\n",
              " 'suicidal',\n",
              " 'experimental',\n",
              " 'divided',\n",
              " '5',\n",
              " 'cataract',\n",
              " 'diagnosis',\n",
              " 'work',\n",
              " 'permeation',\n",
              " '\\r \\n \\r \\n ',\n",
              " 'diagnosed',\n",
              " 'profile',\n",
              " 'versus',\n",
              " '10',\n",
              " 'nightmares',\n",
              " 'relative',\n",
              " 'systemic',\n",
              " 'f',\n",
              " 'rat',\n",
              " 'according',\n",
              " 'glucose',\n",
              " 'pharmacokinetic',\n",
              " 'please',\n",
              " 'too',\n",
              " 'urinary',\n",
              " 'resulted',\n",
              " 'profiles',\n",
              " 'complex',\n",
              " 'combined',\n",
              " 'tract',\n",
              " 'evaluation',\n",
              " 'creatinine',\n",
              " 'depressive',\n",
              " 'vas',\n",
              " 'microspheres',\n",
              " 'social',\n",
              " 'pre',\n",
              " 'rapid',\n",
              " 'month',\n",
              " 'th',\n",
              " 'elevated',\n",
              " 'improved',\n",
              " 'care',\n",
              " 'anemia',\n",
              " 'cm',\n",
              " 'onset',\n",
              " 'vascular',\n",
              " 'awareness',\n",
              " 'o',\n",
              " 'major',\n",
              " 'anger',\n",
              " 'cmax',\n",
              " 'share',\n",
              " 'necrosis',\n",
              " 'production',\n",
              " 'diabetic',\n",
              " 'plus',\n",
              " 'see',\n",
              " 'cold',\n",
              " 'solid',\n",
              " 'research',\n",
              " 'density',\n",
              " 'amount',\n",
              " 'synthesis',\n",
              " 'analgesia',\n",
              " 'pellets',\n",
              " 'cross',\n",
              " 'physical',\n",
              " 'affect',\n",
              " 'blog',\n",
              " 'localised',\n",
              " 'sensitive',\n",
              " 'linked',\n",
              " 'disturbances',\n",
              " 'participants',\n",
              " 'tooth',\n",
              " 'peripheral',\n",
              " 'third',\n",
              " 'degrees',\n",
              " 'interactions',\n",
              " 'rates',\n",
              " 'least',\n",
              " 'compulsive',\n",
              " 'overall',\n",
              " 'r',\n",
              " 'commercial',\n",
              " 'enteric',\n",
              " 'exhaustion',\n",
              " 'aspirin',\n",
              " 'seizures',\n",
              " 'result',\n",
              " 'ever',\n",
              " 'assessment',\n",
              " 'erythema',\n",
              " 'dizzy',\n",
              " 'small',\n",
              " 'beads',\n",
              " 'where',\n",
              " 'bad',\n",
              " 'lesions',\n",
              " 'impairment',\n",
              " 'rofecoxib',\n",
              " 'dr',\n",
              " 'surface',\n",
              " 'simple',\n",
              " 'second',\n",
              " 'duration',\n",
              " 'against',\n",
              " 'misoprostol',\n",
              " 'chest',\n",
              " 'last',\n",
              " 'off',\n",
              " 'cookbook',\n",
              " 'reference',\n",
              " 'episode',\n",
              " 'models',\n",
              " 'bite',\n",
              " 'achieved',\n",
              " 'comparison',\n",
              " 'soup',\n",
              " 'depersonalization',\n",
              " 'diffusion',\n",
              " 'getting',\n",
              " 'gf',\n",
              " 'flow',\n",
              " 'produced',\n",
              " 'medical',\n",
              " 'medium',\n",
              " 'toxicity',\n",
              " 'nervous',\n",
              " 'volume',\n",
              " 'efficiency',\n",
              " 'vision',\n",
              " 'patch',\n",
              " 'tolerance',\n",
              " 'global',\n",
              " 'performance',\n",
              " 'paracetamol',\n",
              " 'tests',\n",
              " 'determination',\n",
              " 'uterine',\n",
              " 'flare',\n",
              " 'oedema',\n",
              " 'receiving',\n",
              " 'preparation',\n",
              " 'five',\n",
              " 'carried',\n",
              " 'current',\n",
              " 'expression',\n",
              " 'positive',\n",
              " 'making',\n",
              " 'comparable',\n",
              " 'investigate',\n",
              " 'findings',\n",
              " 'prostaglandin',\n",
              " 'injuries',\n",
              " 'mild',\n",
              " 'naproxen',\n",
              " 'considered',\n",
              " 'specific',\n",
              " 'diabetes',\n",
              " 'pruritus',\n",
              " 'crazy',\n",
              " 'whole',\n",
              " 'examined',\n",
              " 'central',\n",
              " 'taking',\n",
              " 'fracture',\n",
              " 'saline',\n",
              " 'top',\n",
              " 'upper',\n",
              " 'children',\n",
              " 'spasm',\n",
              " 'foot',\n",
              " 'membrane',\n",
              " 'vivid',\n",
              " 'others',\n",
              " 'since',\n",
              " 'outcome',\n",
              " 'them',\n",
              " 'maximum',\n",
              " 'fever',\n",
              " 'co',\n",
              " 'lack',\n",
              " 'recorded',\n",
              " 'arrest',\n",
              " 'stress',\n",
              " 'hurt',\n",
              " 'malignant',\n",
              " 'novel',\n",
              " 'face',\n",
              " 'emotional',\n",
              " 'looking',\n",
              " 'once',\n",
              " 'am',\n",
              " 'value',\n",
              " 'released',\n",
              " 'ci',\n",
              " '2014',\n",
              " 'count',\n",
              " 'enzyme',\n",
              " 'inhibitors',\n",
              " 'neoplasm',\n",
              " 'thus',\n",
              " 'design',\n",
              " 'might',\n",
              " 'hip',\n",
              " 'hunger',\n",
              " 'clearance',\n",
              " 'withdrawals',\n",
              " 'adderall',\n",
              " 'technique',\n",
              " 'lung',\n",
              " 'autographed',\n",
              " 'interaction',\n",
              " 'try',\n",
              " 'wheat',\n",
              " 'indicate',\n",
              " 'provided',\n",
              " 'antiinflammatory',\n",
              " 'medications',\n",
              " 'obsessive',\n",
              " 'hungry',\n",
              " 'nm',\n",
              " 'hplc',\n",
              " 'whether',\n",
              " 'ventricular',\n",
              " 'capsules',\n",
              " 'microg',\n",
              " 'characteristics',\n",
              " 'additional',\n",
              " 'delayed',\n",
              " 'ache',\n",
              " 'alternative',\n",
              " 'characterized',\n",
              " 'partial',\n",
              " 'abuse',\n",
              " 'shoulder',\n",
              " 'easy',\n",
              " 'degree',\n",
              " 'dic',\n",
              " 'influence',\n",
              " 'impaired',\n",
              " 'memory',\n",
              " 'solutions',\n",
              " 'drowsy',\n",
              " 'ketorolac',\n",
              " 'really',\n",
              " 'issues',\n",
              " 'extent',\n",
              " 'assess',\n",
              " 'methods',\n",
              " 'drops',\n",
              " 'few',\n",
              " 'needed',\n",
              " '6',\n",
              " 'genital',\n",
              " 'therefore',\n",
              " 'intramuscular',\n",
              " 'preparations',\n",
              " 'media',\n",
              " 'open',\n",
              " 'incidence',\n",
              " 'gi',\n",
              " 'point',\n",
              " 'always',\n",
              " 'short',\n",
              " 'women',\n",
              " 'activities',\n",
              " 'twice',\n",
              " 'phosphate',\n",
              " 'bulimia',\n",
              " 'possible',\n",
              " 'fractures',\n",
              " 'detection',\n",
              " 'examination',\n",
              " 'loaded',\n",
              " 'highly',\n",
              " 'responses',\n",
              " 'thank',\n",
              " 'foods',\n",
              " 'asthma',\n",
              " 'localized',\n",
              " 'delicious',\n",
              " 'celecoxib',\n",
              " 'beta',\n",
              " 'cardiovascular',\n",
              " 'story',\n",
              " 'alpha',\n",
              " 'il',\n",
              " 'able',\n",
              " 've',\n",
              " 'increasing',\n",
              " 'euphoric',\n",
              " 'inhibited',\n",
              " 'intoxication',\n",
              " 'factor',\n",
              " 'index',\n",
              " 'learn',\n",
              " 'fear',\n",
              " 'candidiasis',\n",
              " 'terms',\n",
              " 'extraction',\n",
              " 'next',\n",
              " 'analyzed',\n",
              " 'ldl',\n",
              " 'buffer',\n",
              " 'again',\n",
              " 'support',\n",
              " '3',\n",
              " 'forms',\n",
              " 'modified',\n",
              " 'hepatitis',\n",
              " 'lipid',\n",
              " 'affected',\n",
              " 'dpsgc',\n",
              " 'microm',\n",
              " 'bread',\n",
              " 'superior',\n",
              " 'head',\n",
              " 'nauseous',\n",
              " 'rabbits',\n",
              " 'lesion',\n",
              " 'arterial',\n",
              " 'structure',\n",
              " 'mass',\n",
              " 'cream',\n",
              " 'factors',\n",
              " 'kinetics',\n",
              " 'problems',\n",
              " 'nerve',\n",
              " 'own',\n",
              " 'immune',\n",
              " 'bleeding',\n",
              " 'friends',\n",
              " 'oil',\n",
              " 'tissues',\n",
              " 'hand',\n",
              " 'tongue',\n",
              " 'clinically',\n",
              " 'treat',\n",
              " 'lipoprotein',\n",
              " 'reduce',\n",
              " 'fast',\n",
              " 'cramps',\n",
              " 'neoplasms',\n",
              " 'sneezing',\n",
              " 'general',\n",
              " 'bowl',\n",
              " 'max',\n",
              " 'experience',\n",
              " 'serious',\n",
              " 'having',\n",
              " 'her',\n",
              " ...]"
            ]
          },
          "metadata": {
            "tags": []
          },
          "execution_count": 18
        }
      ]
    },
    {
      "cell_type": "code",
      "metadata": {
        "id": "yPWr03mls3VT",
        "outputId": "ae0a2f04-d3c3-4dfb-e470-ee2ab3985277",
        "colab": {
          "base_uri": "https://localhost:8080/",
          "height": 17
        }
      },
      "source": [
        "model_path = path/'models'\n",
        "model_path.mkdir(exist_ok=True)\n",
        "url = 'http://files.fast.ai/models/wt103_v1/'\n",
        "download_url(f'{url}lstm_wt103.pth', model_path/'lstm_wt103.pth')\n",
        "download_url(f'{url}itos_wt103.pkl', model_path/'itos_wt103.pkl')"
      ],
      "execution_count": 19,
      "outputs": [
        {
          "output_type": "display_data",
          "data": {
            "text/html": [
              ""
            ],
            "text/plain": [
              "<IPython.core.display.HTML object>"
            ]
          },
          "metadata": {
            "tags": []
          }
        },
        {
          "output_type": "display_data",
          "data": {
            "text/html": [
              ""
            ],
            "text/plain": [
              "<IPython.core.display.HTML object>"
            ]
          },
          "metadata": {
            "tags": []
          }
        }
      ]
    },
    {
      "cell_type": "code",
      "metadata": {
        "id": "JRzvWg8RtGGr",
        "outputId": "9838ee36-82cf-4d78-cb52-ea9db5e3c89e",
        "colab": {
          "base_uri": "https://localhost:8080/",
          "height": 34
        }
      },
      "source": [
        "learn = language_model_learner(data_lm, AWD_LSTM, drop_mult=0.5)"
      ],
      "execution_count": 20,
      "outputs": [
        {
          "output_type": "stream",
          "text": [
            "Downloading https://s3.amazonaws.com/fast-ai-modelzoo/wt103-fwd.tgz\n"
          ],
          "name": "stdout"
        },
        {
          "output_type": "display_data",
          "data": {
            "text/html": [
              ""
            ],
            "text/plain": [
              "<IPython.core.display.HTML object>"
            ]
          },
          "metadata": {
            "tags": []
          }
        }
      ]
    },
    {
      "cell_type": "code",
      "metadata": {
        "id": "xKK7GeBev7Xn",
        "outputId": "3e78c9ad-1608-4fd4-fbba-651fa39b18eb",
        "colab": {
          "base_uri": "https://localhost:8080/",
          "height": 80
        }
      },
      "source": [
        "learn.fit_one_cycle(1, 1e-2)"
      ],
      "execution_count": 21,
      "outputs": [
        {
          "output_type": "display_data",
          "data": {
            "text/html": [
              "<table border=\"1\" class=\"dataframe\">\n",
              "  <thead>\n",
              "    <tr style=\"text-align: left;\">\n",
              "      <th>epoch</th>\n",
              "      <th>train_loss</th>\n",
              "      <th>valid_loss</th>\n",
              "      <th>accuracy</th>\n",
              "      <th>time</th>\n",
              "    </tr>\n",
              "  </thead>\n",
              "  <tbody>\n",
              "    <tr>\n",
              "      <td>0</td>\n",
              "      <td>4.724776</td>\n",
              "      <td>4.204413</td>\n",
              "      <td>0.343263</td>\n",
              "      <td>22:33</td>\n",
              "    </tr>\n",
              "  </tbody>\n",
              "</table>"
            ],
            "text/plain": [
              "<IPython.core.display.HTML object>"
            ]
          },
          "metadata": {
            "tags": []
          }
        }
      ]
    },
    {
      "cell_type": "code",
      "metadata": {
        "id": "iB7rHGQCwd12",
        "outputId": "cef8665c-6771-4021-c158-c6002a432325",
        "colab": {
          "base_uri": "https://localhost:8080/",
          "height": 80
        }
      },
      "source": [
        "learn.fit_one_cycle(1, 1e-2)"
      ],
      "execution_count": 22,
      "outputs": [
        {
          "output_type": "display_data",
          "data": {
            "text/html": [
              "<table border=\"1\" class=\"dataframe\">\n",
              "  <thead>\n",
              "    <tr style=\"text-align: left;\">\n",
              "      <th>epoch</th>\n",
              "      <th>train_loss</th>\n",
              "      <th>valid_loss</th>\n",
              "      <th>accuracy</th>\n",
              "      <th>time</th>\n",
              "    </tr>\n",
              "  </thead>\n",
              "  <tbody>\n",
              "    <tr>\n",
              "      <td>0</td>\n",
              "      <td>4.000105</td>\n",
              "      <td>3.825232</td>\n",
              "      <td>0.378916</td>\n",
              "      <td>22:38</td>\n",
              "    </tr>\n",
              "  </tbody>\n",
              "</table>"
            ],
            "text/plain": [
              "<IPython.core.display.HTML object>"
            ]
          },
          "metadata": {
            "tags": []
          }
        }
      ]
    },
    {
      "cell_type": "code",
      "metadata": {
        "id": "_BnSuAeCwkBe",
        "outputId": "b704e90a-e7dd-4d90-a0e6-42a56cca283b",
        "colab": {
          "base_uri": "https://localhost:8080/",
          "height": 80
        }
      },
      "source": [
        "learn.fit_one_cycle(1, 1e-3)"
      ],
      "execution_count": 23,
      "outputs": [
        {
          "output_type": "display_data",
          "data": {
            "text/html": [
              "<table border=\"1\" class=\"dataframe\">\n",
              "  <thead>\n",
              "    <tr style=\"text-align: left;\">\n",
              "      <th>epoch</th>\n",
              "      <th>train_loss</th>\n",
              "      <th>valid_loss</th>\n",
              "      <th>accuracy</th>\n",
              "      <th>time</th>\n",
              "    </tr>\n",
              "  </thead>\n",
              "  <tbody>\n",
              "    <tr>\n",
              "      <td>0</td>\n",
              "      <td>3.726514</td>\n",
              "      <td>3.780101</td>\n",
              "      <td>0.383834</td>\n",
              "      <td>22:50</td>\n",
              "    </tr>\n",
              "  </tbody>\n",
              "</table>"
            ],
            "text/plain": [
              "<IPython.core.display.HTML object>"
            ]
          },
          "metadata": {
            "tags": []
          }
        }
      ]
    },
    {
      "cell_type": "code",
      "metadata": {
        "id": "MuTm-RFjwrEX",
        "outputId": "2f94745b-1ed8-42c3-d3f2-de0b83a3f550",
        "colab": {
          "base_uri": "https://localhost:8080/",
          "height": 80
        }
      },
      "source": [
        "learn.fit_one_cycle(1, 1e-3)"
      ],
      "execution_count": 24,
      "outputs": [
        {
          "output_type": "display_data",
          "data": {
            "text/html": [
              "<table border=\"1\" class=\"dataframe\">\n",
              "  <thead>\n",
              "    <tr style=\"text-align: left;\">\n",
              "      <th>epoch</th>\n",
              "      <th>train_loss</th>\n",
              "      <th>valid_loss</th>\n",
              "      <th>accuracy</th>\n",
              "      <th>time</th>\n",
              "    </tr>\n",
              "  </thead>\n",
              "  <tbody>\n",
              "    <tr>\n",
              "      <td>0</td>\n",
              "      <td>3.672726</td>\n",
              "      <td>3.746495</td>\n",
              "      <td>0.387953</td>\n",
              "      <td>22:44</td>\n",
              "    </tr>\n",
              "  </tbody>\n",
              "</table>"
            ],
            "text/plain": [
              "<IPython.core.display.HTML object>"
            ]
          },
          "metadata": {
            "tags": []
          }
        }
      ]
    },
    {
      "cell_type": "code",
      "metadata": {
        "id": "1Er2ExO8wr7Y"
      },
      "source": [
        "learn.save_encoder('pubmed_cadec_twadrl_mixed_fold0_first')"
      ],
      "execution_count": 25,
      "outputs": []
    },
    {
      "cell_type": "code",
      "metadata": {
        "id": "z52cZs2qwvad",
        "outputId": "e400bf04-744c-49f7-ad19-8ff4a183db09",
        "colab": {
          "base_uri": "https://localhost:8080/",
          "height": 80
        }
      },
      "source": [
        "learn = text_classifier_learner(data_clas,AWD_LSTM, drop_mult=0.5)\n",
        "learn.load_encoder('pubmed_cadec_twadrl_mixed_fold0_first')\n",
        "learn.fit_one_cycle(1, 1e-2)"
      ],
      "execution_count": 26,
      "outputs": [
        {
          "output_type": "display_data",
          "data": {
            "text/html": [
              "<table border=\"1\" class=\"dataframe\">\n",
              "  <thead>\n",
              "    <tr style=\"text-align: left;\">\n",
              "      <th>epoch</th>\n",
              "      <th>train_loss</th>\n",
              "      <th>valid_loss</th>\n",
              "      <th>accuracy</th>\n",
              "      <th>time</th>\n",
              "    </tr>\n",
              "  </thead>\n",
              "  <tbody>\n",
              "    <tr>\n",
              "      <td>0</td>\n",
              "      <td>7.200335</td>\n",
              "      <td>6.361985</td>\n",
              "      <td>0.121739</td>\n",
              "      <td>00:22</td>\n",
              "    </tr>\n",
              "  </tbody>\n",
              "</table>"
            ],
            "text/plain": [
              "<IPython.core.display.HTML object>"
            ]
          },
          "metadata": {
            "tags": []
          }
        }
      ]
    },
    {
      "cell_type": "code",
      "metadata": {
        "id": "ImwQP1PJwzxd",
        "outputId": "99e1c17b-3dfd-4429-8abc-832a37b543e7",
        "colab": {
          "base_uri": "https://localhost:8080/",
          "height": 80
        }
      },
      "source": [
        "learn.freeze_to(-2)\n",
        "learn.fit_one_cycle(1, slice(5e-3/2., 5e-3))"
      ],
      "execution_count": 27,
      "outputs": [
        {
          "output_type": "display_data",
          "data": {
            "text/html": [
              "<table border=\"1\" class=\"dataframe\">\n",
              "  <thead>\n",
              "    <tr style=\"text-align: left;\">\n",
              "      <th>epoch</th>\n",
              "      <th>train_loss</th>\n",
              "      <th>valid_loss</th>\n",
              "      <th>accuracy</th>\n",
              "      <th>time</th>\n",
              "    </tr>\n",
              "  </thead>\n",
              "  <tbody>\n",
              "    <tr>\n",
              "      <td>0</td>\n",
              "      <td>6.232811</td>\n",
              "      <td>4.962025</td>\n",
              "      <td>0.139130</td>\n",
              "      <td>00:25</td>\n",
              "    </tr>\n",
              "  </tbody>\n",
              "</table>"
            ],
            "text/plain": [
              "<IPython.core.display.HTML object>"
            ]
          },
          "metadata": {
            "tags": []
          }
        }
      ]
    },
    {
      "cell_type": "code",
      "metadata": {
        "id": "Owff_BJXw53u",
        "outputId": "bd11a92e-73b2-4247-c976-66dea5fe8796",
        "colab": {
          "base_uri": "https://localhost:8080/",
          "height": 80
        }
      },
      "source": [
        "learn.unfreeze()\n",
        "learn.fit_one_cycle(1, slice(2e-3/100, 2e-3))"
      ],
      "execution_count": 28,
      "outputs": [
        {
          "output_type": "display_data",
          "data": {
            "text/html": [
              "<table border=\"1\" class=\"dataframe\">\n",
              "  <thead>\n",
              "    <tr style=\"text-align: left;\">\n",
              "      <th>epoch</th>\n",
              "      <th>train_loss</th>\n",
              "      <th>valid_loss</th>\n",
              "      <th>accuracy</th>\n",
              "      <th>time</th>\n",
              "    </tr>\n",
              "  </thead>\n",
              "  <tbody>\n",
              "    <tr>\n",
              "      <td>0</td>\n",
              "      <td>5.749725</td>\n",
              "      <td>4.835821</td>\n",
              "      <td>0.147826</td>\n",
              "      <td>01:03</td>\n",
              "    </tr>\n",
              "  </tbody>\n",
              "</table>"
            ],
            "text/plain": [
              "<IPython.core.display.HTML object>"
            ]
          },
          "metadata": {
            "tags": []
          }
        }
      ]
    },
    {
      "cell_type": "code",
      "metadata": {
        "id": "lqAyu56V8Waq",
        "outputId": "c9a9022e-8634-4ae6-8591-7f10bd96b5a5",
        "colab": {
          "base_uri": "https://localhost:8080/",
          "height": 111
        }
      },
      "source": [
        "learn.fit_one_cycle(2, slice(2e-3/100, 2e-3))"
      ],
      "execution_count": 29,
      "outputs": [
        {
          "output_type": "display_data",
          "data": {
            "text/html": [
              "<table border=\"1\" class=\"dataframe\">\n",
              "  <thead>\n",
              "    <tr style=\"text-align: left;\">\n",
              "      <th>epoch</th>\n",
              "      <th>train_loss</th>\n",
              "      <th>valid_loss</th>\n",
              "      <th>accuracy</th>\n",
              "      <th>time</th>\n",
              "    </tr>\n",
              "  </thead>\n",
              "  <tbody>\n",
              "    <tr>\n",
              "      <td>0</td>\n",
              "      <td>5.410700</td>\n",
              "      <td>4.499399</td>\n",
              "      <td>0.191304</td>\n",
              "      <td>01:08</td>\n",
              "    </tr>\n",
              "    <tr>\n",
              "      <td>1</td>\n",
              "      <td>5.172761</td>\n",
              "      <td>4.344936</td>\n",
              "      <td>0.208696</td>\n",
              "      <td>01:07</td>\n",
              "    </tr>\n",
              "  </tbody>\n",
              "</table>"
            ],
            "text/plain": [
              "<IPython.core.display.HTML object>"
            ]
          },
          "metadata": {
            "tags": []
          }
        }
      ]
    },
    {
      "cell_type": "code",
      "metadata": {
        "id": "a7I1xMRp8bUd",
        "outputId": "c63b976c-0cf8-4c1f-885f-38db99c9daa9",
        "colab": {
          "base_uri": "https://localhost:8080/",
          "height": 111
        }
      },
      "source": [
        "learn.fit_one_cycle(2, slice(2e-3/100, 2e-3))"
      ],
      "execution_count": 30,
      "outputs": [
        {
          "output_type": "display_data",
          "data": {
            "text/html": [
              "<table border=\"1\" class=\"dataframe\">\n",
              "  <thead>\n",
              "    <tr style=\"text-align: left;\">\n",
              "      <th>epoch</th>\n",
              "      <th>train_loss</th>\n",
              "      <th>valid_loss</th>\n",
              "      <th>accuracy</th>\n",
              "      <th>time</th>\n",
              "    </tr>\n",
              "  </thead>\n",
              "  <tbody>\n",
              "    <tr>\n",
              "      <td>0</td>\n",
              "      <td>4.900448</td>\n",
              "      <td>4.139490</td>\n",
              "      <td>0.226087</td>\n",
              "      <td>01:05</td>\n",
              "    </tr>\n",
              "    <tr>\n",
              "      <td>1</td>\n",
              "      <td>4.724867</td>\n",
              "      <td>4.035728</td>\n",
              "      <td>0.252174</td>\n",
              "      <td>01:05</td>\n",
              "    </tr>\n",
              "  </tbody>\n",
              "</table>"
            ],
            "text/plain": [
              "<IPython.core.display.HTML object>"
            ]
          },
          "metadata": {
            "tags": []
          }
        }
      ]
    },
    {
      "cell_type": "code",
      "metadata": {
        "id": "UAnti-XmGVfO",
        "outputId": "6312e646-7c6e-4b92-e033-f7ca6f19fbc9",
        "colab": {
          "base_uri": "https://localhost:8080/",
          "height": 111
        }
      },
      "source": [
        "learn.fit_one_cycle(2, slice(2e-3/100, 2e-3))"
      ],
      "execution_count": 31,
      "outputs": [
        {
          "output_type": "display_data",
          "data": {
            "text/html": [
              "<table border=\"1\" class=\"dataframe\">\n",
              "  <thead>\n",
              "    <tr style=\"text-align: left;\">\n",
              "      <th>epoch</th>\n",
              "      <th>train_loss</th>\n",
              "      <th>valid_loss</th>\n",
              "      <th>accuracy</th>\n",
              "      <th>time</th>\n",
              "    </tr>\n",
              "  </thead>\n",
              "  <tbody>\n",
              "    <tr>\n",
              "      <td>0</td>\n",
              "      <td>4.547280</td>\n",
              "      <td>3.900797</td>\n",
              "      <td>0.286957</td>\n",
              "      <td>01:06</td>\n",
              "    </tr>\n",
              "    <tr>\n",
              "      <td>1</td>\n",
              "      <td>4.358992</td>\n",
              "      <td>3.812672</td>\n",
              "      <td>0.339130</td>\n",
              "      <td>01:04</td>\n",
              "    </tr>\n",
              "  </tbody>\n",
              "</table>"
            ],
            "text/plain": [
              "<IPython.core.display.HTML object>"
            ]
          },
          "metadata": {
            "tags": []
          }
        }
      ]
    },
    {
      "cell_type": "code",
      "metadata": {
        "id": "bIft7W25GwSu",
        "outputId": "e542fc18-3d95-49b0-b2cc-ebc56b42b6f3",
        "colab": {
          "base_uri": "https://localhost:8080/",
          "height": 111
        }
      },
      "source": [
        "learn.fit_one_cycle(2, slice(2e-3/100, 2e-3))"
      ],
      "execution_count": 32,
      "outputs": [
        {
          "output_type": "display_data",
          "data": {
            "text/html": [
              "<table border=\"1\" class=\"dataframe\">\n",
              "  <thead>\n",
              "    <tr style=\"text-align: left;\">\n",
              "      <th>epoch</th>\n",
              "      <th>train_loss</th>\n",
              "      <th>valid_loss</th>\n",
              "      <th>accuracy</th>\n",
              "      <th>time</th>\n",
              "    </tr>\n",
              "  </thead>\n",
              "  <tbody>\n",
              "    <tr>\n",
              "      <td>0</td>\n",
              "      <td>4.158999</td>\n",
              "      <td>3.670720</td>\n",
              "      <td>0.295652</td>\n",
              "      <td>01:06</td>\n",
              "    </tr>\n",
              "    <tr>\n",
              "      <td>1</td>\n",
              "      <td>4.016132</td>\n",
              "      <td>3.586672</td>\n",
              "      <td>0.330435</td>\n",
              "      <td>01:09</td>\n",
              "    </tr>\n",
              "  </tbody>\n",
              "</table>"
            ],
            "text/plain": [
              "<IPython.core.display.HTML object>"
            ]
          },
          "metadata": {
            "tags": []
          }
        }
      ]
    },
    {
      "cell_type": "code",
      "metadata": {
        "id": "EEHszVRvGyFt",
        "outputId": "afe81747-07ff-437c-93a8-238db71eecc7",
        "colab": {
          "base_uri": "https://localhost:8080/",
          "height": 111
        }
      },
      "source": [
        "learn.fit_one_cycle(2, slice(2e-3/100, 2e-3))"
      ],
      "execution_count": 33,
      "outputs": [
        {
          "output_type": "display_data",
          "data": {
            "text/html": [
              "<table border=\"1\" class=\"dataframe\">\n",
              "  <thead>\n",
              "    <tr style=\"text-align: left;\">\n",
              "      <th>epoch</th>\n",
              "      <th>train_loss</th>\n",
              "      <th>valid_loss</th>\n",
              "      <th>accuracy</th>\n",
              "      <th>time</th>\n",
              "    </tr>\n",
              "  </thead>\n",
              "  <tbody>\n",
              "    <tr>\n",
              "      <td>0</td>\n",
              "      <td>3.824432</td>\n",
              "      <td>3.479483</td>\n",
              "      <td>0.339130</td>\n",
              "      <td>01:07</td>\n",
              "    </tr>\n",
              "    <tr>\n",
              "      <td>1</td>\n",
              "      <td>3.678091</td>\n",
              "      <td>3.451567</td>\n",
              "      <td>0.365217</td>\n",
              "      <td>01:03</td>\n",
              "    </tr>\n",
              "  </tbody>\n",
              "</table>"
            ],
            "text/plain": [
              "<IPython.core.display.HTML object>"
            ]
          },
          "metadata": {
            "tags": []
          }
        }
      ]
    },
    {
      "cell_type": "code",
      "metadata": {
        "id": "XsHfrhCHG3dN",
        "outputId": "04efc242-359c-4fce-a06f-ba276679e9f3",
        "colab": {
          "base_uri": "https://localhost:8080/",
          "height": 173
        }
      },
      "source": [
        "learn.fit_one_cycle(4, slice(2e-3/100, 2e-3))"
      ],
      "execution_count": 34,
      "outputs": [
        {
          "output_type": "display_data",
          "data": {
            "text/html": [
              "<table border=\"1\" class=\"dataframe\">\n",
              "  <thead>\n",
              "    <tr style=\"text-align: left;\">\n",
              "      <th>epoch</th>\n",
              "      <th>train_loss</th>\n",
              "      <th>valid_loss</th>\n",
              "      <th>accuracy</th>\n",
              "      <th>time</th>\n",
              "    </tr>\n",
              "  </thead>\n",
              "  <tbody>\n",
              "    <tr>\n",
              "      <td>0</td>\n",
              "      <td>3.463684</td>\n",
              "      <td>3.408813</td>\n",
              "      <td>0.339130</td>\n",
              "      <td>01:05</td>\n",
              "    </tr>\n",
              "    <tr>\n",
              "      <td>1</td>\n",
              "      <td>3.397720</td>\n",
              "      <td>3.461498</td>\n",
              "      <td>0.321739</td>\n",
              "      <td>01:07</td>\n",
              "    </tr>\n",
              "    <tr>\n",
              "      <td>2</td>\n",
              "      <td>3.210050</td>\n",
              "      <td>3.425339</td>\n",
              "      <td>0.330435</td>\n",
              "      <td>01:09</td>\n",
              "    </tr>\n",
              "    <tr>\n",
              "      <td>3</td>\n",
              "      <td>3.063501</td>\n",
              "      <td>3.415547</td>\n",
              "      <td>0.339130</td>\n",
              "      <td>01:02</td>\n",
              "    </tr>\n",
              "  </tbody>\n",
              "</table>"
            ],
            "text/plain": [
              "<IPython.core.display.HTML object>"
            ]
          },
          "metadata": {
            "tags": []
          }
        }
      ]
    },
    {
      "cell_type": "code",
      "metadata": {
        "id": "0Zsd99isb9EQ",
        "outputId": "08596d42-971a-4164-daf3-33e68bacaaa3",
        "colab": {
          "base_uri": "https://localhost:8080/",
          "height": 173
        }
      },
      "source": [
        "learn.fit_one_cycle(4, slice(2e-3/100, 2e-3))"
      ],
      "execution_count": 35,
      "outputs": [
        {
          "output_type": "display_data",
          "data": {
            "text/html": [
              "<table border=\"1\" class=\"dataframe\">\n",
              "  <thead>\n",
              "    <tr style=\"text-align: left;\">\n",
              "      <th>epoch</th>\n",
              "      <th>train_loss</th>\n",
              "      <th>valid_loss</th>\n",
              "      <th>accuracy</th>\n",
              "      <th>time</th>\n",
              "    </tr>\n",
              "  </thead>\n",
              "  <tbody>\n",
              "    <tr>\n",
              "      <td>0</td>\n",
              "      <td>2.904715</td>\n",
              "      <td>3.346993</td>\n",
              "      <td>0.347826</td>\n",
              "      <td>01:06</td>\n",
              "    </tr>\n",
              "    <tr>\n",
              "      <td>1</td>\n",
              "      <td>2.823420</td>\n",
              "      <td>3.304632</td>\n",
              "      <td>0.347826</td>\n",
              "      <td>01:06</td>\n",
              "    </tr>\n",
              "    <tr>\n",
              "      <td>2</td>\n",
              "      <td>2.668540</td>\n",
              "      <td>3.365725</td>\n",
              "      <td>0.339130</td>\n",
              "      <td>01:05</td>\n",
              "    </tr>\n",
              "    <tr>\n",
              "      <td>3</td>\n",
              "      <td>2.531029</td>\n",
              "      <td>3.376406</td>\n",
              "      <td>0.347826</td>\n",
              "      <td>01:02</td>\n",
              "    </tr>\n",
              "  </tbody>\n",
              "</table>"
            ],
            "text/plain": [
              "<IPython.core.display.HTML object>"
            ]
          },
          "metadata": {
            "tags": []
          }
        }
      ]
    },
    {
      "cell_type": "code",
      "metadata": {
        "id": "atNWNKDFPbuI",
        "outputId": "8ee3c8b8-7c22-4525-c378-7f2e2ebbf0b8",
        "colab": {
          "base_uri": "https://localhost:8080/",
          "height": 173
        }
      },
      "source": [
        "learn.fit_one_cycle(4, slice(2e-3/100, 2e-3))"
      ],
      "execution_count": 36,
      "outputs": [
        {
          "output_type": "display_data",
          "data": {
            "text/html": [
              "<table border=\"1\" class=\"dataframe\">\n",
              "  <thead>\n",
              "    <tr style=\"text-align: left;\">\n",
              "      <th>epoch</th>\n",
              "      <th>train_loss</th>\n",
              "      <th>valid_loss</th>\n",
              "      <th>accuracy</th>\n",
              "      <th>time</th>\n",
              "    </tr>\n",
              "  </thead>\n",
              "  <tbody>\n",
              "    <tr>\n",
              "      <td>0</td>\n",
              "      <td>2.398787</td>\n",
              "      <td>3.374352</td>\n",
              "      <td>0.339130</td>\n",
              "      <td>01:03</td>\n",
              "    </tr>\n",
              "    <tr>\n",
              "      <td>1</td>\n",
              "      <td>2.328070</td>\n",
              "      <td>3.333186</td>\n",
              "      <td>0.365217</td>\n",
              "      <td>01:05</td>\n",
              "    </tr>\n",
              "    <tr>\n",
              "      <td>2</td>\n",
              "      <td>2.163985</td>\n",
              "      <td>3.363324</td>\n",
              "      <td>0.365217</td>\n",
              "      <td>01:03</td>\n",
              "    </tr>\n",
              "    <tr>\n",
              "      <td>3</td>\n",
              "      <td>2.009849</td>\n",
              "      <td>3.322783</td>\n",
              "      <td>0.391304</td>\n",
              "      <td>01:08</td>\n",
              "    </tr>\n",
              "  </tbody>\n",
              "</table>"
            ],
            "text/plain": [
              "<IPython.core.display.HTML object>"
            ]
          },
          "metadata": {
            "tags": []
          }
        }
      ]
    },
    {
      "cell_type": "code",
      "metadata": {
        "id": "rKrBTZ0T1uVA",
        "outputId": "ea77a0b2-1259-4864-f3f7-4ac3fd3b8a23",
        "colab": {
          "base_uri": "https://localhost:8080/",
          "height": 173
        }
      },
      "source": [
        "learn.fit_one_cycle(4, slice(2e-3/100, 2e-3))"
      ],
      "execution_count": 37,
      "outputs": [
        {
          "output_type": "display_data",
          "data": {
            "text/html": [
              "<table border=\"1\" class=\"dataframe\">\n",
              "  <thead>\n",
              "    <tr style=\"text-align: left;\">\n",
              "      <th>epoch</th>\n",
              "      <th>train_loss</th>\n",
              "      <th>valid_loss</th>\n",
              "      <th>accuracy</th>\n",
              "      <th>time</th>\n",
              "    </tr>\n",
              "  </thead>\n",
              "  <tbody>\n",
              "    <tr>\n",
              "      <td>0</td>\n",
              "      <td>1.871330</td>\n",
              "      <td>3.336455</td>\n",
              "      <td>0.347826</td>\n",
              "      <td>01:11</td>\n",
              "    </tr>\n",
              "    <tr>\n",
              "      <td>1</td>\n",
              "      <td>1.858968</td>\n",
              "      <td>3.435100</td>\n",
              "      <td>0.347826</td>\n",
              "      <td>01:04</td>\n",
              "    </tr>\n",
              "    <tr>\n",
              "      <td>2</td>\n",
              "      <td>1.716675</td>\n",
              "      <td>3.308690</td>\n",
              "      <td>0.373913</td>\n",
              "      <td>01:08</td>\n",
              "    </tr>\n",
              "    <tr>\n",
              "      <td>3</td>\n",
              "      <td>1.581222</td>\n",
              "      <td>3.376554</td>\n",
              "      <td>0.373913</td>\n",
              "      <td>01:06</td>\n",
              "    </tr>\n",
              "  </tbody>\n",
              "</table>"
            ],
            "text/plain": [
              "<IPython.core.display.HTML object>"
            ]
          },
          "metadata": {
            "tags": []
          }
        }
      ]
    },
    {
      "cell_type": "code",
      "metadata": {
        "id": "ajQC6WDg1yA9",
        "outputId": "fa80be10-b7b0-4592-dfa8-b281c54f127b",
        "colab": {
          "base_uri": "https://localhost:8080/",
          "height": 173
        }
      },
      "source": [
        "learn.fit_one_cycle(4, slice(2e-3/100, 2e-3))"
      ],
      "execution_count": 38,
      "outputs": [
        {
          "output_type": "display_data",
          "data": {
            "text/html": [
              "<table border=\"1\" class=\"dataframe\">\n",
              "  <thead>\n",
              "    <tr style=\"text-align: left;\">\n",
              "      <th>epoch</th>\n",
              "      <th>train_loss</th>\n",
              "      <th>valid_loss</th>\n",
              "      <th>accuracy</th>\n",
              "      <th>time</th>\n",
              "    </tr>\n",
              "  </thead>\n",
              "  <tbody>\n",
              "    <tr>\n",
              "      <td>0</td>\n",
              "      <td>1.475009</td>\n",
              "      <td>3.394918</td>\n",
              "      <td>0.400000</td>\n",
              "      <td>01:06</td>\n",
              "    </tr>\n",
              "    <tr>\n",
              "      <td>1</td>\n",
              "      <td>1.455737</td>\n",
              "      <td>3.483049</td>\n",
              "      <td>0.373913</td>\n",
              "      <td>01:08</td>\n",
              "    </tr>\n",
              "    <tr>\n",
              "      <td>2</td>\n",
              "      <td>1.331118</td>\n",
              "      <td>3.496422</td>\n",
              "      <td>0.365217</td>\n",
              "      <td>01:05</td>\n",
              "    </tr>\n",
              "    <tr>\n",
              "      <td>3</td>\n",
              "      <td>1.223932</td>\n",
              "      <td>3.470602</td>\n",
              "      <td>0.347826</td>\n",
              "      <td>01:07</td>\n",
              "    </tr>\n",
              "  </tbody>\n",
              "</table>"
            ],
            "text/plain": [
              "<IPython.core.display.HTML object>"
            ]
          },
          "metadata": {
            "tags": []
          }
        }
      ]
    },
    {
      "cell_type": "code",
      "metadata": {
        "id": "KKydb0B4BKGk",
        "outputId": "4d9bee81-ee14-4f8f-de35-25e323a88768",
        "colab": {
          "base_uri": "https://localhost:8080/",
          "height": 173
        }
      },
      "source": [
        "learn.fit_one_cycle(4, slice(2e-3/100, 2e-3))"
      ],
      "execution_count": 39,
      "outputs": [
        {
          "output_type": "display_data",
          "data": {
            "text/html": [
              "<table border=\"1\" class=\"dataframe\">\n",
              "  <thead>\n",
              "    <tr style=\"text-align: left;\">\n",
              "      <th>epoch</th>\n",
              "      <th>train_loss</th>\n",
              "      <th>valid_loss</th>\n",
              "      <th>accuracy</th>\n",
              "      <th>time</th>\n",
              "    </tr>\n",
              "  </thead>\n",
              "  <tbody>\n",
              "    <tr>\n",
              "      <td>0</td>\n",
              "      <td>1.078375</td>\n",
              "      <td>3.496231</td>\n",
              "      <td>0.391304</td>\n",
              "      <td>01:06</td>\n",
              "    </tr>\n",
              "    <tr>\n",
              "      <td>1</td>\n",
              "      <td>1.135011</td>\n",
              "      <td>3.557838</td>\n",
              "      <td>0.382609</td>\n",
              "      <td>01:06</td>\n",
              "    </tr>\n",
              "    <tr>\n",
              "      <td>2</td>\n",
              "      <td>1.039755</td>\n",
              "      <td>3.593024</td>\n",
              "      <td>0.373913</td>\n",
              "      <td>01:06</td>\n",
              "    </tr>\n",
              "    <tr>\n",
              "      <td>3</td>\n",
              "      <td>0.977833</td>\n",
              "      <td>3.552427</td>\n",
              "      <td>0.373913</td>\n",
              "      <td>01:07</td>\n",
              "    </tr>\n",
              "  </tbody>\n",
              "</table>"
            ],
            "text/plain": [
              "<IPython.core.display.HTML object>"
            ]
          },
          "metadata": {
            "tags": []
          }
        }
      ]
    },
    {
      "cell_type": "code",
      "metadata": {
        "id": "T2APKtFKBpGY",
        "outputId": "3eb435d2-ab8b-4fd3-b57a-d1ffff01fa16",
        "colab": {
          "base_uri": "https://localhost:8080/",
          "height": 173
        }
      },
      "source": [
        "learn.fit_one_cycle(4, slice(2e-3/100, 2e-3))"
      ],
      "execution_count": 40,
      "outputs": [
        {
          "output_type": "display_data",
          "data": {
            "text/html": [
              "<table border=\"1\" class=\"dataframe\">\n",
              "  <thead>\n",
              "    <tr style=\"text-align: left;\">\n",
              "      <th>epoch</th>\n",
              "      <th>train_loss</th>\n",
              "      <th>valid_loss</th>\n",
              "      <th>accuracy</th>\n",
              "      <th>time</th>\n",
              "    </tr>\n",
              "  </thead>\n",
              "  <tbody>\n",
              "    <tr>\n",
              "      <td>0</td>\n",
              "      <td>0.890423</td>\n",
              "      <td>3.587836</td>\n",
              "      <td>0.356522</td>\n",
              "      <td>01:11</td>\n",
              "    </tr>\n",
              "    <tr>\n",
              "      <td>1</td>\n",
              "      <td>0.909924</td>\n",
              "      <td>3.665102</td>\n",
              "      <td>0.408696</td>\n",
              "      <td>01:09</td>\n",
              "    </tr>\n",
              "    <tr>\n",
              "      <td>2</td>\n",
              "      <td>0.827548</td>\n",
              "      <td>3.650471</td>\n",
              "      <td>0.382609</td>\n",
              "      <td>01:11</td>\n",
              "    </tr>\n",
              "    <tr>\n",
              "      <td>3</td>\n",
              "      <td>0.768857</td>\n",
              "      <td>3.681746</td>\n",
              "      <td>0.382609</td>\n",
              "      <td>01:10</td>\n",
              "    </tr>\n",
              "  </tbody>\n",
              "</table>"
            ],
            "text/plain": [
              "<IPython.core.display.HTML object>"
            ]
          },
          "metadata": {
            "tags": []
          }
        }
      ]
    },
    {
      "cell_type": "code",
      "metadata": {
        "id": "qtTypA1sPgLU",
        "outputId": "e64e6da9-59d6-42f7-98a3-197da26e8dcd",
        "colab": {
          "base_uri": "https://localhost:8080/",
          "height": 111
        }
      },
      "source": [
        "learn.fit_one_cycle(2, slice(2e-3/100, 2e-3))"
      ],
      "execution_count": 41,
      "outputs": [
        {
          "output_type": "display_data",
          "data": {
            "text/html": [
              "<table border=\"1\" class=\"dataframe\">\n",
              "  <thead>\n",
              "    <tr style=\"text-align: left;\">\n",
              "      <th>epoch</th>\n",
              "      <th>train_loss</th>\n",
              "      <th>valid_loss</th>\n",
              "      <th>accuracy</th>\n",
              "      <th>time</th>\n",
              "    </tr>\n",
              "  </thead>\n",
              "  <tbody>\n",
              "    <tr>\n",
              "      <td>0</td>\n",
              "      <td>0.718711</td>\n",
              "      <td>3.753326</td>\n",
              "      <td>0.382609</td>\n",
              "      <td>01:08</td>\n",
              "    </tr>\n",
              "    <tr>\n",
              "      <td>1</td>\n",
              "      <td>0.689414</td>\n",
              "      <td>3.844860</td>\n",
              "      <td>0.373913</td>\n",
              "      <td>01:08</td>\n",
              "    </tr>\n",
              "  </tbody>\n",
              "</table>"
            ],
            "text/plain": [
              "<IPython.core.display.HTML object>"
            ]
          },
          "metadata": {
            "tags": []
          }
        }
      ]
    },
    {
      "cell_type": "code",
      "metadata": {
        "id": "b242kBsTUp9Y",
        "outputId": "46529312-b051-4cdc-b5e0-22f638e5e9d2",
        "colab": {
          "base_uri": "https://localhost:8080/",
          "height": 111
        }
      },
      "source": [
        "learn.fit_one_cycle(2, slice(2e-3/100, 2e-3))"
      ],
      "execution_count": 42,
      "outputs": [
        {
          "output_type": "display_data",
          "data": {
            "text/html": [
              "<table border=\"1\" class=\"dataframe\">\n",
              "  <thead>\n",
              "    <tr style=\"text-align: left;\">\n",
              "      <th>epoch</th>\n",
              "      <th>train_loss</th>\n",
              "      <th>valid_loss</th>\n",
              "      <th>accuracy</th>\n",
              "      <th>time</th>\n",
              "    </tr>\n",
              "  </thead>\n",
              "  <tbody>\n",
              "    <tr>\n",
              "      <td>0</td>\n",
              "      <td>0.630297</td>\n",
              "      <td>3.921396</td>\n",
              "      <td>0.356522</td>\n",
              "      <td>01:07</td>\n",
              "    </tr>\n",
              "    <tr>\n",
              "      <td>1</td>\n",
              "      <td>0.639975</td>\n",
              "      <td>4.052668</td>\n",
              "      <td>0.382609</td>\n",
              "      <td>01:07</td>\n",
              "    </tr>\n",
              "  </tbody>\n",
              "</table>"
            ],
            "text/plain": [
              "<IPython.core.display.HTML object>"
            ]
          },
          "metadata": {
            "tags": []
          }
        }
      ]
    },
    {
      "cell_type": "code",
      "metadata": {
        "id": "Duwf1Ih5VeDZ",
        "outputId": "f29530bd-f777-454d-f6ed-8baa88ddfaf2",
        "colab": {
          "base_uri": "https://localhost:8080/",
          "height": 80
        }
      },
      "source": [
        "learn.fit_one_cycle(1, slice(2e-3/100, 2e-3))"
      ],
      "execution_count": 43,
      "outputs": [
        {
          "output_type": "display_data",
          "data": {
            "text/html": [
              "<table border=\"1\" class=\"dataframe\">\n",
              "  <thead>\n",
              "    <tr style=\"text-align: left;\">\n",
              "      <th>epoch</th>\n",
              "      <th>train_loss</th>\n",
              "      <th>valid_loss</th>\n",
              "      <th>accuracy</th>\n",
              "      <th>time</th>\n",
              "    </tr>\n",
              "  </thead>\n",
              "  <tbody>\n",
              "    <tr>\n",
              "      <td>0</td>\n",
              "      <td>0.628173</td>\n",
              "      <td>4.052601</td>\n",
              "      <td>0.347826</td>\n",
              "      <td>01:03</td>\n",
              "    </tr>\n",
              "  </tbody>\n",
              "</table>"
            ],
            "text/plain": [
              "<IPython.core.display.HTML object>"
            ]
          },
          "metadata": {
            "tags": []
          }
        }
      ]
    },
    {
      "cell_type": "code",
      "metadata": {
        "id": "c65d-osfDUXm"
      },
      "source": [
        "# save the best model\n",
        "\n",
        "learn.save_encoder('pubmed_cadec_twadrl_mixed_fold0')"
      ],
      "execution_count": 44,
      "outputs": []
    },
    {
      "cell_type": "code",
      "metadata": {
        "id": "cWk6mpnpJDTW",
        "outputId": "3df3debb-6df7-4c9c-f595-c33257cf508e",
        "colab": {
          "base_uri": "https://localhost:8080/",
          "height": 80
        }
      },
      "source": [
        "learn.fit_one_cycle(1, slice(2e-3/100, 2e-3))"
      ],
      "execution_count": 48,
      "outputs": [
        {
          "output_type": "display_data",
          "data": {
            "text/html": [
              "<table border=\"1\" class=\"dataframe\">\n",
              "  <thead>\n",
              "    <tr style=\"text-align: left;\">\n",
              "      <th>epoch</th>\n",
              "      <th>train_loss</th>\n",
              "      <th>valid_loss</th>\n",
              "      <th>accuracy</th>\n",
              "      <th>time</th>\n",
              "    </tr>\n",
              "  </thead>\n",
              "  <tbody>\n",
              "    <tr>\n",
              "      <td>0</td>\n",
              "      <td>0.587421</td>\n",
              "      <td>4.078191</td>\n",
              "      <td>0.356522</td>\n",
              "      <td>01:06</td>\n",
              "    </tr>\n",
              "  </tbody>\n",
              "</table>"
            ],
            "text/plain": [
              "<IPython.core.display.HTML object>"
            ]
          },
          "metadata": {
            "tags": []
          }
        }
      ]
    },
    {
      "cell_type": "markdown",
      "metadata": {
        "id": "rCwZU0E2RgM6"
      },
      "source": [
        "# Part three: Predict on the test dataset"
      ]
    },
    {
      "cell_type": "code",
      "metadata": {
        "id": "gDm72c-dOu7d",
        "outputId": "24a74a1d-7341-4ce0-f2ee-44a54c8e742a",
        "colab": {
          "base_uri": "https://localhost:8080/",
          "height": 17
        }
      },
      "source": [
        "# use the test data for prediction\n",
        "\n",
        "preds, y = learn.get_preds(DatasetType.Test)"
      ],
      "execution_count": 45,
      "outputs": [
        {
          "output_type": "display_data",
          "data": {
            "text/html": [
              ""
            ],
            "text/plain": [
              "<IPython.core.display.HTML object>"
            ]
          },
          "metadata": {
            "tags": []
          }
        }
      ]
    },
    {
      "cell_type": "code",
      "metadata": {
        "id": "6tFSQcsWPvxn",
        "outputId": "f2ab9771-68b9-47e1-ef11-f2b334ee4f64",
        "colab": {
          "base_uri": "https://localhost:8080/",
          "height": 105
        }
      },
      "source": [
        "predictions, *_ = learn.get_preds(DatasetType.Test)\n",
        "labels = np.argmax(predictions, 1)\n",
        "predict_list = labels.tolist()\n",
        "standard_list = test[0].tolist()\n",
        "\n",
        "print(len(predict_list))\n",
        "print(len(standard_list))\n",
        "\n",
        "print(predict_list)\n",
        "print(standard_list)"
      ],
      "execution_count": 46,
      "outputs": [
        {
          "output_type": "display_data",
          "data": {
            "text/html": [
              ""
            ],
            "text/plain": [
              "<IPython.core.display.HTML object>"
            ]
          },
          "metadata": {
            "tags": []
          }
        },
        {
          "output_type": "stream",
          "text": [
            "143\n",
            "143\n",
            "[393, 1597, 265, 1578, 1184, 936, 483, 189, 231, 231, 233, 233, 233, 233, 249, 249, 1724, 393, 2168, 1319, 1529, 1099, 644, 1711, 749, 749, 452, 792, 792, 792, 813, 852, 852, 749, 1356, 1099, 974, 978, 978, 978, 978, 978, 1884, 418, 1007, 2113, 1669, 1767, 1089, 1099, 852, 1925, 1136, 1136, 908, 1204, 1295, 1099, 1942, 441, 1265, 1930, 1295, 195, 518, 1308, 1340, 1265, 1340, 1265, 1340, 1340, 1822, 1484, 2077, 1526, 1711, 1925, 1597, 1597, 1597, 1597, 1597, 1599, 767, 1942, 1610, 418, 1669, 852, 1682, 1915, 1711, 1099, 1767, 1767, 1340, 1768, 1073, 233, 1718, 2191, 1767, 1718, 1787, 1787, 2032, 1787, 1787, 1787, 1099, 1718, 1815, 1815, 1767, 1940, 1877, 1884, 825, 1787, 1930, 1936, 233, 1940, 1942, 1942, 2002, 2109, 899, 2018, 1787, 452, 1822, 1877, 974, 1787, 2032, 2147, 974, 441, 1787, 824, 824]\n",
            "[13, 60, 108, 109, 133, 154, 187, 189, 231, 231, 233, 233, 233, 233, 249, 249, 265, 393, 418, 520, 561, 561, 644, 749, 749, 749, 772, 792, 792, 792, 813, 852, 852, 887, 908, 974, 974, 978, 978, 978, 978, 978, 978, 978, 1007, 1048, 1073, 1073, 1089, 1096, 1099, 1099, 1136, 1136, 1184, 1204, 1204, 1227, 1227, 1253, 1265, 1278, 1295, 1295, 1296, 1308, 1340, 1340, 1340, 1340, 1340, 1340, 1356, 1484, 1508, 1526, 1531, 1597, 1597, 1597, 1597, 1597, 1597, 1599, 1599, 1610, 1610, 1610, 1669, 1676, 1682, 1682, 1711, 1718, 1718, 1718, 1718, 1727, 1727, 1727, 1753, 1753, 1767, 1767, 1787, 1787, 1787, 1787, 1787, 1787, 1787, 1798, 1815, 1815, 1815, 1857, 1877, 1884, 1884, 1925, 1930, 1936, 1936, 1940, 1942, 1942, 2002, 2014, 2014, 2018, 2032, 2063, 2081, 2103, 2110, 2147, 2147, 2147, 2147, 2150, 2150, 2191, 2191]\n"
          ],
          "name": "stdout"
        }
      ]
    },
    {
      "cell_type": "code",
      "metadata": {
        "id": "XIC4zufnMxtq",
        "outputId": "4f176b22-0da6-4335-85fc-0eb87d5de7c2",
        "colab": {
          "base_uri": "https://localhost:8080/",
          "height": 51
        }
      },
      "source": [
        "correct_num = 0\n",
        "\n",
        "for i in range(0, len(standard_list)):\n",
        "  if predict_list[i] == standard_list[i]:\n",
        "    correct_num = correct_num+1\n",
        "  else:\n",
        "    pass\n",
        "print(correct_num)\n",
        "\n",
        "predict_accuracy = correct_num/len(predict_list)\n",
        "print(predict_accuracy)"
      ],
      "execution_count": 47,
      "outputs": [
        {
          "output_type": "stream",
          "text": [
            "67\n",
            "0.46853146853146854\n"
          ],
          "name": "stdout"
        }
      ]
    },
    {
      "cell_type": "code",
      "metadata": {
        "id": "zlKMHp1CIaRJ"
      },
      "source": [
        ""
      ],
      "execution_count": 47,
      "outputs": []
    }
  ]
}