{
  "nbformat": 4,
  "nbformat_minor": 0,
  "metadata": {
    "accelerator": "TPU",
    "colab": {
      "name": "Cadec_twadr_09.ipynb",
      "provenance": [],
      "collapsed_sections": [],
      "include_colab_link": true
    },
    "kernelspec": {
      "display_name": "Python 3",
      "name": "python3"
    }
  },
  "cells": [
    {
      "cell_type": "markdown",
      "metadata": {
        "id": "view-in-github",
        "colab_type": "text"
      },
      "source": [
        "<a href=\"https://colab.research.google.com/github/unt-iialab/medical-concept-normalization/blob/master/medical-concept-normalization/fine-tuning-experiments/askpatient/Cadec_twadr_09.ipynb\" target=\"_parent\"><img src=\"https://colab.research.google.com/assets/colab-badge.svg\" alt=\"Open In Colab\"/></a>"
      ]
    },
    {
      "cell_type": "code",
      "metadata": {
        "id": "adSi6i2-dWxy"
      },
      "source": [
        "import os"
      ],
      "execution_count": 1,
      "outputs": []
    },
    {
      "cell_type": "code",
      "metadata": {
        "id": "E7xYCRGPjd9B"
      },
      "source": [
        "base_dir = 'medical-concept-normalization'"
      ],
      "execution_count": 2,
      "outputs": []
    },
    {
      "cell_type": "code",
      "metadata": {
        "id": "yvIW3aUDjYNS"
      },
      "source": [
        "os.mkdir(base_dir)"
      ],
      "execution_count": 3,
      "outputs": []
    },
    {
      "cell_type": "code",
      "metadata": {
        "id": "es-FFLlfk6SG"
      },
      "source": [
        "os.mkdir('medical-concept-normalization/data_collection')"
      ],
      "execution_count": 4,
      "outputs": []
    },
    {
      "cell_type": "markdown",
      "metadata": {
        "id": "0R-Guw_VoJXm"
      },
      "source": [
        "**Install fastai and clone the fastai for text classification**\n",
        "\n"
      ]
    },
    {
      "cell_type": "code",
      "metadata": {
        "id": "QVZa3Z0PmHFH",
        "outputId": "34eeb173-5f85-4478-e185-f1031a54c339",
        "colab": {
          "base_uri": "https://localhost:8080/"
        }
      },
      "source": [
        "!curl https://course-v3.fast.ai/setup/colab | bash"
      ],
      "execution_count": 5,
      "outputs": [
        {
          "output_type": "stream",
          "text": [
            "  % Total    % Received % Xferd  Average Speed   Time    Time     Time  Current\n",
            "                                 Dload  Upload   Total   Spent    Left  Speed\n",
            "\r  0     0    0     0    0     0      0      0 --:--:-- --:--:-- --:--:--     0curl: (6) Could not resolve host: course-v3.fast.ai\n"
          ],
          "name": "stdout"
        }
      ]
    },
    {
      "cell_type": "code",
      "metadata": {
        "id": "_FBFFEBrmJC0",
        "outputId": "cdd4075e-6a59-4a60-d5e9-ee7131fef29e",
        "colab": {
          "base_uri": "https://localhost:8080/"
        }
      },
      "source": [
        "!git clone https://github.com/wshuyi/demo-nlp-classification-fastai.git"
      ],
      "execution_count": 6,
      "outputs": [
        {
          "output_type": "stream",
          "text": [
            "Cloning into 'demo-nlp-classification-fastai'...\n",
            "remote: Enumerating objects: 9, done.\u001b[K\n",
            "remote: Total 9 (delta 0), reused 0 (delta 0), pack-reused 9\u001b[K\n",
            "Unpacking objects: 100% (9/9), done.\n"
          ],
          "name": "stdout"
        }
      ]
    },
    {
      "cell_type": "code",
      "metadata": {
        "id": "66zfh_JqmWMU"
      },
      "source": [
        "from fastai import *\n",
        "from fastai.text import *"
      ],
      "execution_count": 7,
      "outputs": []
    },
    {
      "cell_type": "markdown",
      "metadata": {
        "id": "mNIw-yALdBU9"
      },
      "source": [
        "**Set the path of the data collections**"
      ]
    },
    {
      "cell_type": "code",
      "metadata": {
        "id": "pzH7VMh4mqCL"
      },
      "source": [
        "path = Path('medical-concept-normalization/data_collection')"
      ],
      "execution_count": 8,
      "outputs": []
    },
    {
      "cell_type": "code",
      "metadata": {
        "id": "b8fjI6yyn4aS"
      },
      "source": [
        "# training data set\n",
        "\n",
        "train_csv = path/'TwADR-L.fold-9.train.csv'\n",
        "train = pd.read_csv(train_csv, header=None)\n",
        "#train.head()\n",
        "#train.info()"
      ],
      "execution_count": 10,
      "outputs": []
    },
    {
      "cell_type": "code",
      "metadata": {
        "id": "Hmlr-bAorfHd",
        "outputId": "1a56571d-0c12-410d-9c62-c83f1e1bc9ae",
        "colab": {
          "base_uri": "https://localhost:8080/",
          "height": 204
        }
      },
      "source": [
        "# validating data set\n",
        "\n",
        "valid = pd.read_csv(path/\"TwADR-L.fold-9.validation.csv\",header=None)\n",
        "valid.head()"
      ],
      "execution_count": 11,
      "outputs": [
        {
          "output_type": "execute_result",
          "data": {
            "text/html": [
              "<div>\n",
              "<style scoped>\n",
              "    .dataframe tbody tr th:only-of-type {\n",
              "        vertical-align: middle;\n",
              "    }\n",
              "\n",
              "    .dataframe tbody tr th {\n",
              "        vertical-align: top;\n",
              "    }\n",
              "\n",
              "    .dataframe thead th {\n",
              "        text-align: right;\n",
              "    }\n",
              "</style>\n",
              "<table border=\"1\" class=\"dataframe\">\n",
              "  <thead>\n",
              "    <tr style=\"text-align: right;\">\n",
              "      <th></th>\n",
              "      <th>0</th>\n",
              "      <th>1</th>\n",
              "    </tr>\n",
              "  </thead>\n",
              "  <tbody>\n",
              "    <tr>\n",
              "      <th>0</th>\n",
              "      <td>13</td>\n",
              "      <td>up all night</td>\n",
              "    </tr>\n",
              "    <tr>\n",
              "      <th>1</th>\n",
              "      <td>13</td>\n",
              "      <td>insomnia</td>\n",
              "    </tr>\n",
              "    <tr>\n",
              "      <th>2</th>\n",
              "      <td>60</td>\n",
              "      <td>cigarette withdrawal</td>\n",
              "    </tr>\n",
              "    <tr>\n",
              "      <th>3</th>\n",
              "      <td>85</td>\n",
              "      <td>tremor</td>\n",
              "    </tr>\n",
              "    <tr>\n",
              "      <th>4</th>\n",
              "      <td>121</td>\n",
              "      <td>itches</td>\n",
              "    </tr>\n",
              "  </tbody>\n",
              "</table>\n",
              "</div>"
            ],
            "text/plain": [
              "     0                     1\n",
              "0   13          up all night\n",
              "1   13              insomnia\n",
              "2   60  cigarette withdrawal\n",
              "3   85                tremor\n",
              "4  121                itches"
            ]
          },
          "metadata": {
            "tags": []
          },
          "execution_count": 11
        }
      ]
    },
    {
      "cell_type": "code",
      "metadata": {
        "id": "cOza9dfSsBud",
        "outputId": "969cbfd9-e01b-4744-feca-430bff5d18d4",
        "colab": {
          "base_uri": "https://localhost:8080/",
          "height": 204
        }
      },
      "source": [
        "# testing data set\n",
        "\n",
        "test = pd.read_csv(path/\"TwADR-L.fold-9.test.csv\",header=None)\n",
        "test.head()"
      ],
      "execution_count": 12,
      "outputs": [
        {
          "output_type": "execute_result",
          "data": {
            "text/html": [
              "<div>\n",
              "<style scoped>\n",
              "    .dataframe tbody tr th:only-of-type {\n",
              "        vertical-align: middle;\n",
              "    }\n",
              "\n",
              "    .dataframe tbody tr th {\n",
              "        vertical-align: top;\n",
              "    }\n",
              "\n",
              "    .dataframe thead th {\n",
              "        text-align: right;\n",
              "    }\n",
              "</style>\n",
              "<table border=\"1\" class=\"dataframe\">\n",
              "  <thead>\n",
              "    <tr style=\"text-align: right;\">\n",
              "      <th></th>\n",
              "      <th>0</th>\n",
              "      <th>1</th>\n",
              "    </tr>\n",
              "  </thead>\n",
              "  <tbody>\n",
              "    <tr>\n",
              "      <th>0</th>\n",
              "      <td>62</td>\n",
              "      <td>feeling proper psycho</td>\n",
              "    </tr>\n",
              "    <tr>\n",
              "      <th>1</th>\n",
              "      <td>74</td>\n",
              "      <td>useless without</td>\n",
              "    </tr>\n",
              "    <tr>\n",
              "      <th>2</th>\n",
              "      <td>85</td>\n",
              "      <td>tremor</td>\n",
              "    </tr>\n",
              "    <tr>\n",
              "      <th>3</th>\n",
              "      <td>91</td>\n",
              "      <td>jitters</td>\n",
              "    </tr>\n",
              "    <tr>\n",
              "      <th>4</th>\n",
              "      <td>97</td>\n",
              "      <td>screwing with my short term memory</td>\n",
              "    </tr>\n",
              "  </tbody>\n",
              "</table>\n",
              "</div>"
            ],
            "text/plain": [
              "    0                                   1\n",
              "0  62               feeling proper psycho\n",
              "1  74                     useless without\n",
              "2  85                              tremor\n",
              "3  91                             jitters\n",
              "4  97  screwing with my short term memory"
            ]
          },
          "metadata": {
            "tags": []
          },
          "execution_count": 12
        }
      ]
    },
    {
      "cell_type": "code",
      "metadata": {
        "id": "Vo-YNvVYoaH6",
        "outputId": "54b69906-49a3-4c16-c956-acafc208eee9",
        "colab": {
          "base_uri": "https://localhost:8080/",
          "height": 17
        }
      },
      "source": [
        "# Creating DataBunch for language modelling\n",
        "\n",
        "data_lm = TextLMDataBunch.from_csv(path, 'TwADR-cadec.csv')"
      ],
      "execution_count": 13,
      "outputs": [
        {
          "output_type": "display_data",
          "data": {
            "text/html": [
              ""
            ],
            "text/plain": [
              "<IPython.core.display.HTML object>"
            ]
          },
          "metadata": {
            "tags": []
          }
        },
        {
          "output_type": "display_data",
          "data": {
            "text/html": [
              ""
            ],
            "text/plain": [
              "<IPython.core.display.HTML object>"
            ]
          },
          "metadata": {
            "tags": []
          }
        }
      ]
    },
    {
      "cell_type": "code",
      "metadata": {
        "id": "qcV-9kMnNLBf"
      },
      "source": [
        ""
      ],
      "execution_count": 13,
      "outputs": []
    },
    {
      "cell_type": "code",
      "metadata": {
        "id": "1ScY9afDsnvE"
      },
      "source": [
        "# Creating DataBunch for classification\n",
        "\n",
        "# data_clas = TextClasDataBunch.from_df(path, train, valid, test, vocab=data_lm.train_ds.vocab, bs=128)"
      ],
      "execution_count": 14,
      "outputs": []
    },
    {
      "cell_type": "code",
      "metadata": {
        "id": "gzrSdQcvey9p",
        "outputId": "44ce6230-3b3f-4a8d-ca16-1b385f64a5ad",
        "colab": {
          "base_uri": "https://localhost:8080/",
          "height": 17
        }
      },
      "source": [
        "data_clas = TextClasDataBunch.from_df(path, train, valid, vocab=data_lm.train_ds.vocab, bs=128)"
      ],
      "execution_count": 15,
      "outputs": [
        {
          "output_type": "display_data",
          "data": {
            "text/html": [
              ""
            ],
            "text/plain": [
              "<IPython.core.display.HTML object>"
            ]
          },
          "metadata": {
            "tags": []
          }
        },
        {
          "output_type": "display_data",
          "data": {
            "text/html": [
              ""
            ],
            "text/plain": [
              "<IPython.core.display.HTML object>"
            ]
          },
          "metadata": {
            "tags": []
          }
        }
      ]
    },
    {
      "cell_type": "code",
      "metadata": {
        "id": "MD27Tf0Ke3ou",
        "outputId": "23c165b0-3fad-4b2f-ccf7-f313c5e1dd58",
        "colab": {
          "base_uri": "https://localhost:8080/",
          "height": 17
        }
      },
      "source": [
        "data_clas.add_test(test,label=0)\n"
      ],
      "execution_count": 16,
      "outputs": [
        {
          "output_type": "display_data",
          "data": {
            "text/html": [
              ""
            ],
            "text/plain": [
              "<IPython.core.display.HTML object>"
            ]
          },
          "metadata": {
            "tags": []
          }
        }
      ]
    },
    {
      "cell_type": "code",
      "metadata": {
        "id": "-dpjnk_rstwk"
      },
      "source": [
        "data_lm.save()\n",
        "data_clas.save()"
      ],
      "execution_count": 17,
      "outputs": []
    },
    {
      "cell_type": "code",
      "metadata": {
        "id": "4OkiJa36sw5s",
        "outputId": "596e0692-2a3e-4738-818f-1702deb48b74",
        "colab": {
          "base_uri": "https://localhost:8080/"
        }
      },
      "source": [
        "data_lm.train_ds.vocab.itos"
      ],
      "execution_count": 18,
      "outputs": [
        {
          "output_type": "execute_result",
          "data": {
            "text/plain": [
              "['xxunk',\n",
              " 'xxpad',\n",
              " 'xxbos',\n",
              " 'xxeos',\n",
              " 'xxfld',\n",
              " 'xxmaj',\n",
              " 'xxup',\n",
              " 'xxrep',\n",
              " 'xxwrep',\n",
              " '.',\n",
              " ',',\n",
              " 'i',\n",
              " 'the',\n",
              " 'and',\n",
              " 'to',\n",
              " 'my',\n",
              " 'pain',\n",
              " 'of',\n",
              " 'in',\n",
              " 'a',\n",
              " 'it',\n",
              " 'me',\n",
              " 'mood',\n",
              " 'increased',\n",
              " 'for',\n",
              " 'have',\n",
              " '-',\n",
              " 'was',\n",
              " 'drug',\n",
              " 'lipitor',\n",
              " ')',\n",
              " 'this',\n",
              " '(',\n",
              " 'disorder',\n",
              " 'on',\n",
              " 'abnormal',\n",
              " 'not',\n",
              " 'withdrawal',\n",
              " 'anxiety',\n",
              " 'symptoms',\n",
              " 'had',\n",
              " 'is',\n",
              " 'that',\n",
              " 'with',\n",
              " 'like',\n",
              " 'weight',\n",
              " 'muscle',\n",
              " 'but',\n",
              " 'decreased',\n",
              " 'feeling',\n",
              " 'taking',\n",
              " \"n't\",\n",
              " 'disorders',\n",
              " 'up',\n",
              " 'sleeplessness',\n",
              " 'syndrome',\n",
              " 'sleep',\n",
              " 'behavior',\n",
              " 'after',\n",
              " 'so',\n",
              " 'insomnia',\n",
              " 'got',\n",
              " 'diseases',\n",
              " 'all',\n",
              " 'feel',\n",
              " 'blood',\n",
              " 'depression',\n",
              " 'am',\n",
              " 'side',\n",
              " 'somnolence',\n",
              " 'from',\n",
              " 'disturbance',\n",
              " 'energy',\n",
              " 'back',\n",
              " 'finding',\n",
              " 'effects',\n",
              " 'loss',\n",
              " 'been',\n",
              " 'heart',\n",
              " 'mental',\n",
              " '!',\n",
              " 'skin',\n",
              " 'cholesterol',\n",
              " 'day',\n",
              " 'body',\n",
              " 'be',\n",
              " 'as',\n",
              " 'gain',\n",
              " 'acute',\n",
              " 'nausea',\n",
              " 'appetite',\n",
              " 'take',\n",
              " 'no',\n",
              " '/',\n",
              " 'at',\n",
              " 'has',\n",
              " 'off',\n",
              " 'very',\n",
              " 'do',\n",
              " 'fatigue',\n",
              " 'about',\n",
              " 'awake',\n",
              " 'or',\n",
              " 'dizziness',\n",
              " 'excitability',\n",
              " 'out',\n",
              " 'mg',\n",
              " 'now',\n",
              " 'years',\n",
              " 'drowsiness',\n",
              " 'are',\n",
              " 'hyperactive',\n",
              " 'irritable',\n",
              " 'feelings',\n",
              " 'will',\n",
              " 'did',\n",
              " 'days',\n",
              " 'state',\n",
              " 'ceiling',\n",
              " 'attention',\n",
              " 'joint',\n",
              " 'if',\n",
              " 'swelling',\n",
              " 'months',\n",
              " 'panic',\n",
              " 'still',\n",
              " 'time',\n",
              " 'you',\n",
              " 'doctor',\n",
              " 'liver',\n",
              " 'could',\n",
              " 'severe',\n",
              " 'stomach',\n",
              " 'depressed',\n",
              " 'rash',\n",
              " \"'m\",\n",
              " 'when',\n",
              " '2',\n",
              " 'started',\n",
              " '#',\n",
              " 'night',\n",
              " 'swings',\n",
              " 'cramps',\n",
              " 'stopped',\n",
              " 'headache',\n",
              " 'disease',\n",
              " 'site',\n",
              " 'get',\n",
              " 'down',\n",
              " 'more',\n",
              " 'allergic',\n",
              " 'wakefulness',\n",
              " 'problems',\n",
              " 'would',\n",
              " 'an',\n",
              " 'also',\n",
              " '3',\n",
              " 'bipolar',\n",
              " 'memory',\n",
              " 'infection',\n",
              " 'dreams',\n",
              " 'bad',\n",
              " 'weeks',\n",
              " '10',\n",
              " 'abdominal',\n",
              " 'by',\n",
              " 'can',\n",
              " 'just',\n",
              " 'lower',\n",
              " 'any',\n",
              " 'breast',\n",
              " 'over',\n",
              " 'reaction',\n",
              " 'tired',\n",
              " 'took',\n",
              " 'attack',\n",
              " 'went',\n",
              " \"'s\",\n",
              " 'legs',\n",
              " 'eye',\n",
              " 'high',\n",
              " 'only',\n",
              " 'brain',\n",
              " 'leg',\n",
              " 'one',\n",
              " 'tremor',\n",
              " 'other',\n",
              " 'then',\n",
              " 'stiffness',\n",
              " 'respiratory',\n",
              " 'some',\n",
              " 'level',\n",
              " '&',\n",
              " 'week',\n",
              " 'ca',\n",
              " 'dry',\n",
              " 'injury',\n",
              " 'numbness',\n",
              " 'attacks',\n",
              " 'ago',\n",
              " 'he',\n",
              " 'your',\n",
              " 'shoulder',\n",
              " 'again',\n",
              " 'go',\n",
              " 'makes',\n",
              " 'never',\n",
              " 'rage',\n",
              " 'initial',\n",
              " 'chest',\n",
              " 'before',\n",
              " 'better',\n",
              " 'which',\n",
              " 'psychotic',\n",
              " 'arthritis',\n",
              " 'sleepy',\n",
              " 'hemorrhage',\n",
              " 'deficit',\n",
              " 'medication',\n",
              " 'they',\n",
              " '5',\n",
              " 'carcinoma',\n",
              " 'pressure',\n",
              " 'much',\n",
              " 'low',\n",
              " 'life',\n",
              " 'sweating',\n",
              " 'vision',\n",
              " 'bone',\n",
              " 'foot',\n",
              " 'even',\n",
              " 'cardiac',\n",
              " 'difficulty',\n",
              " 'neck',\n",
              " 'edema',\n",
              " '6',\n",
              " 'taste',\n",
              " 'two',\n",
              " 'failure',\n",
              " 'because',\n",
              " 'felt',\n",
              " 'infections',\n",
              " '4',\n",
              " \"'ve\",\n",
              " 'discomfort',\n",
              " 'asleep',\n",
              " 'stop',\n",
              " 'ulcer',\n",
              " 'daytime',\n",
              " 'gastrointestinal',\n",
              " 'than',\n",
              " 'weakness',\n",
              " 'knee',\n",
              " 'feet',\n",
              " 'walk',\n",
              " 'these',\n",
              " 'sensation',\n",
              " 'hurt',\n",
              " 'were',\n",
              " 'right',\n",
              " 'left',\n",
              " 'function',\n",
              " 'middle',\n",
              " 'what',\n",
              " 'kidney',\n",
              " 'zombie',\n",
              " 'first',\n",
              " 'aggravated',\n",
              " 'vomiting',\n",
              " 'going',\n",
              " 'pains',\n",
              " 'pulmonary',\n",
              " 'elevated',\n",
              " 'anger',\n",
              " 'same',\n",
              " 'system',\n",
              " 'taken',\n",
              " 'chronic',\n",
              " 'exhaustion',\n",
              " 'dermatitis',\n",
              " 'being',\n",
              " 'since',\n",
              " 'painful',\n",
              " 'sleepiness',\n",
              " 'change',\n",
              " 'need',\n",
              " 'eating',\n",
              " 'muscles',\n",
              " 'away',\n",
              " 'test',\n",
              " 'tingling',\n",
              " 'dizzy',\n",
              " 'depressive',\n",
              " '1',\n",
              " 'death',\n",
              " 'cerebral',\n",
              " 'worse',\n",
              " 'headaches',\n",
              " 'bleeding',\n",
              " 'good',\n",
              " 'distress',\n",
              " 'dysfunction',\n",
              " 'concentration',\n",
              " 'localised',\n",
              " 'hallucinations',\n",
              " '?',\n",
              " 'last',\n",
              " 'extreme',\n",
              " 'facial',\n",
              " 'dependence',\n",
              " 'statins',\n",
              " 'work',\n",
              " '20',\n",
              " 'effect',\n",
              " 'there',\n",
              " 'migraine',\n",
              " 'month',\n",
              " 'cell',\n",
              " 'thought',\n",
              " 'suicidal',\n",
              " 'every',\n",
              " 'damage',\n",
              " 'getting',\n",
              " 'think',\n",
              " 'conditions',\n",
              " 'drugs',\n",
              " 'vivid',\n",
              " 'wide',\n",
              " 'ache',\n",
              " 'experienced',\n",
              " 'nightmares',\n",
              " 'see',\n",
              " 'anemia',\n",
              " 'should',\n",
              " 'face',\n",
              " 'dr',\n",
              " 'disturbances',\n",
              " 'cancer',\n",
              " 'having',\n",
              " 'hands',\n",
              " 'does',\n",
              " 'spasm',\n",
              " 'lack',\n",
              " 'statin',\n",
              " 'depersonalization',\n",
              " 'know',\n",
              " 'dose',\n",
              " 'diarrhea',\n",
              " 'hours',\n",
              " ';',\n",
              " 'terrible',\n",
              " 'make',\n",
              " 'cause',\n",
              " 'serum',\n",
              " 'who',\n",
              " 'too',\n",
              " 'told',\n",
              " 'bite',\n",
              " 'until',\n",
              " 'pruritus',\n",
              " 'irritation',\n",
              " 'well',\n",
              " 'year',\n",
              " 'arrest',\n",
              " 'social',\n",
              " 'due',\n",
              " 'urine',\n",
              " 'compulsive',\n",
              " 'seizures',\n",
              " 'fear',\n",
              " 'normal',\n",
              " 'hip',\n",
              " 'hunger',\n",
              " 'adderall',\n",
              " 'uterine',\n",
              " 'within',\n",
              " 'few',\n",
              " 'walking',\n",
              " 'problem',\n",
              " 'crazy',\n",
              " 'sore',\n",
              " 'asthma',\n",
              " 'hypertension',\n",
              " 'neoplasm',\n",
              " 'almost',\n",
              " 'alcohol',\n",
              " 'corneal',\n",
              " 'oral',\n",
              " 'thinking',\n",
              " 'nauseous',\n",
              " 'vaginal',\n",
              " 'count',\n",
              " 'aches',\n",
              " 'oedema',\n",
              " 'eyes',\n",
              " 'without',\n",
              " 'bulimia',\n",
              " 'long',\n",
              " 'intoxication',\n",
              " 'emotional',\n",
              " 'drowsy',\n",
              " 'arm',\n",
              " 'many',\n",
              " 'malignant',\n",
              " 'candidiasis',\n",
              " 'really',\n",
              " 'localized',\n",
              " 'put',\n",
              " '7',\n",
              " 'reduced',\n",
              " 'term',\n",
              " 'sexual',\n",
              " 'cold',\n",
              " 'peripheral',\n",
              " 'lost',\n",
              " 'gas',\n",
              " 'obsessive',\n",
              " 'another',\n",
              " 'impairment',\n",
              " 'nervous',\n",
              " 'cramping',\n",
              " 'abuse',\n",
              " '40',\n",
              " 'ldl',\n",
              " 'said',\n",
              " 'injuries',\n",
              " 'decrease',\n",
              " 'weird',\n",
              " 'lightheadedness',\n",
              " 'euphoric',\n",
              " 'little',\n",
              " 'ventricular',\n",
              " 'upper',\n",
              " ':',\n",
              " 'total',\n",
              " 'spasms',\n",
              " 'hungry',\n",
              " 'episode',\n",
              " 'arms',\n",
              " 'nasal',\n",
              " 'doctors',\n",
              " 'sweat',\n",
              " 'tooth',\n",
              " 'people',\n",
              " 'gastric',\n",
              " 'help',\n",
              " 'tongue',\n",
              " 'knees',\n",
              " 'necrosis',\n",
              " 'withdrawals',\n",
              " 'both',\n",
              " 'diabetic',\n",
              " 'lose',\n",
              " 'head',\n",
              " 'short',\n",
              " 'next',\n",
              " 'lung',\n",
              " 'arthropod',\n",
              " 'urticaria',\n",
              " 'bed',\n",
              " 'gone',\n",
              " 'try',\n",
              " 'injection',\n",
              " 'genital',\n",
              " 'great',\n",
              " 'diabetes',\n",
              " 'fever',\n",
              " 'neoplasms',\n",
              " 'tests',\n",
              " 'thirst',\n",
              " 'myself',\n",
              " 'mouth',\n",
              " 'ear',\n",
              " 'erection',\n",
              " 'throat',\n",
              " 'libido',\n",
              " 'speech',\n",
              " 'hair',\n",
              " 'neuropathy',\n",
              " 'minutes',\n",
              " 'falling',\n",
              " 'hepatic',\n",
              " 'sudden',\n",
              " 'palpitations',\n",
              " 'most',\n",
              " 'stress',\n",
              " 'tract',\n",
              " '8',\n",
              " 'sneezing',\n",
              " 'sick',\n",
              " 'pneumonia',\n",
              " 'electrocardiogram',\n",
              " 'joints',\n",
              " 'breathing',\n",
              " 'vertigo',\n",
              " 'excessive',\n",
              " 'something',\n",
              " 'personality',\n",
              " 'found',\n",
              " 'anything',\n",
              " 'hepatitis',\n",
              " 'nerve',\n",
              " 'itching',\n",
              " 'diet',\n",
              " 'exercise',\n",
              " 'inflammation',\n",
              " 'consciousness',\n",
              " 'swollen',\n",
              " 'developed',\n",
              " 'glucose',\n",
              " 'mind',\n",
              " 'metastatic',\n",
              " 'want',\n",
              " 'non',\n",
              " 'overdose',\n",
              " 'psychosis',\n",
              " 'colitis',\n",
              " 'several',\n",
              " 'sinus',\n",
              " 'generalized',\n",
              " 'morning',\n",
              " 'ejaculation',\n",
              " 'prescribed',\n",
              " 'visual',\n",
              " 'unable',\n",
              " 'way',\n",
              " 'levels',\n",
              " 'thoughts',\n",
              " 'sleeping',\n",
              " 'made',\n",
              " 'female',\n",
              " 'result',\n",
              " 'paranoid',\n",
              " 'allergy',\n",
              " 'find',\n",
              " 'lbs',\n",
              " 'eat',\n",
              " 'atrophy',\n",
              " 'symptom',\n",
              " 'movements',\n",
              " 'may',\n",
              " 'bloating',\n",
              " 'different',\n",
              " 'times',\n",
              " 'while',\n",
              " 'intense',\n",
              " 'partial',\n",
              " 'hard',\n",
              " 'erythema',\n",
              " 'muscular',\n",
              " 'confusion',\n",
              " 'obstruction',\n",
              " 'old',\n",
              " 'losing',\n",
              " 'ankle',\n",
              " 'general',\n",
              " 'block',\n",
              " 'blurred',\n",
              " 'despair',\n",
              " 'shoulders',\n",
              " 'them',\n",
              " 'binge',\n",
              " 'fracture',\n",
              " 'making',\n",
              " 'came',\n",
              " 'noticed',\n",
              " 'their',\n",
              " 'quality',\n",
              " 'insufficiency',\n",
              " 'always',\n",
              " 'pill',\n",
              " 'stopping',\n",
              " 'angry',\n",
              " 'lupus',\n",
              " 'renal',\n",
              " 'cough',\n",
              " 'caused',\n",
              " 'how',\n",
              " 'weak',\n",
              " 'sure',\n",
              " 'burning',\n",
              " 'suicide',\n",
              " 'potassium',\n",
              " 'she',\n",
              " 'immediately',\n",
              " 'tried',\n",
              " 'reading',\n",
              " 'lot',\n",
              " 'bladder',\n",
              " 'fractures',\n",
              " 'into',\n",
              " '30',\n",
              " 'three',\n",
              " 'sedated',\n",
              " 'began',\n",
              " 'however',\n",
              " 'tissue',\n",
              " '%',\n",
              " 'bacterial',\n",
              " 'use',\n",
              " 'lowered',\n",
              " 'impaired',\n",
              " 'traumatic',\n",
              " 'completely',\n",
              " 'daily',\n",
              " 'arrhythmia',\n",
              " 'hypomania',\n",
              " 'drunk',\n",
              " 'food',\n",
              " 'experiencing',\n",
              " 'gained',\n",
              " 'tolerance',\n",
              " 'unconscious',\n",
              " 'cutaneous',\n",
              " 'musculoskeletal',\n",
              " 'recommend',\n",
              " 'red',\n",
              " 'tachycardia',\n",
              " 'limb',\n",
              " 'altered',\n",
              " 'prolonged',\n",
              " 'arthrotec',\n",
              " 'we',\n",
              " 'awful',\n",
              " 'trying',\n",
              " 'numb',\n",
              " 'antisocial',\n",
              " 'atrial',\n",
              " 'later',\n",
              " 'tendency',\n",
              " 'doing',\n",
              " 'craving',\n",
              " 'around',\n",
              " 'hurting',\n",
              " 'nt',\n",
              " 'nothing',\n",
              " 'his',\n",
              " 'hot',\n",
              " 'acid',\n",
              " 'half',\n",
              " 'once',\n",
              " 'major',\n",
              " 'hdl',\n",
              " 'less',\n",
              " 'male',\n",
              " 'gland',\n",
              " \"'\",\n",
              " 'early',\n",
              " 'hyper',\n",
              " 'fall',\n",
              " 'past',\n",
              " 'especially',\n",
              " 'motor',\n",
              " 'whole',\n",
              " 'medicine',\n",
              " 'haemorrhage',\n",
              " 'person',\n",
              " 'labored',\n",
              " 'bowel',\n",
              " 'things',\n",
              " 'hand',\n",
              " 'quit',\n",
              " 'rhinitis',\n",
              " 'relief',\n",
              " 'twitch',\n",
              " 'its',\n",
              " 'rheumatoid',\n",
              " 'ever',\n",
              " 'though',\n",
              " 'wo',\n",
              " 'changes',\n",
              " 'trippin',\n",
              " 'terrors',\n",
              " 'urinary',\n",
              " 'stay',\n",
              " 'vasculitis',\n",
              " 'application',\n",
              " 'come',\n",
              " 'bronchitis',\n",
              " 'finally',\n",
              " 'worth',\n",
              " 'infarction',\n",
              " 'involuntary',\n",
              " 'family',\n",
              " 'hour',\n",
              " 'able',\n",
              " 'super',\n",
              " 'stuff',\n",
              " 'results',\n",
              " 'keep',\n",
              " 'interest',\n",
              " 'adenocarcinoma',\n",
              " 'premature',\n",
              " 'syncope',\n",
              " 'causing',\n",
              " 'paranoia',\n",
              " 'through',\n",
              " '--',\n",
              " 'cyst',\n",
              " 'mad',\n",
              " 'hurts',\n",
              " 'tightness',\n",
              " 'acidosis',\n",
              " 'esophageal',\n",
              " '100',\n",
              " 'prozac',\n",
              " 'mild',\n",
              " 'upset',\n",
              " 'arousal',\n",
              " 'meds',\n",
              " 'abnormality',\n",
              " 'starting',\n",
              " 'hyperactivity',\n",
              " 'horrible',\n",
              " 'tenderness',\n",
              " 'recently',\n",
              " 'constant',\n",
              " 'purpura',\n",
              " 'abdomen',\n",
              " 'positive',\n",
              " 'manic',\n",
              " 'acne',\n",
              " 'limbs',\n",
              " 'substance',\n",
              " 'read',\n",
              " 'during',\n",
              " 'action',\n",
              " 'anyone',\n",
              " 'thyroid',\n",
              " 'anxious',\n",
              " 'migraines',\n",
              " 'toe',\n",
              " 'rather',\n",
              " 'enzyme',\n",
              " 'creatinine',\n",
              " 'indifferent',\n",
              " 'prostate',\n",
              " 'wake',\n",
              " 'temperature',\n",
              " 'density',\n",
              " 'deafness',\n",
              " 'her',\n",
              " 'calf',\n",
              " 'interactions',\n",
              " 'shaking',\n",
              " 'myocardial',\n",
              " 'fluid',\n",
              " 'ratio',\n",
              " 'helped',\n",
              " 'exhausted',\n",
              " 'works',\n",
              " 'paralysed',\n",
              " 'constipation',\n",
              " 'unspecified',\n",
              " 'experience',\n",
              " 'say',\n",
              " 'delayed',\n",
              " 'perforation',\n",
              " 'nail',\n",
              " 'website',\n",
              " 'became',\n",
              " 'accidental',\n",
              " 'triglycerides',\n",
              " 'fingers',\n",
              " 'atrophic',\n",
              " 'today',\n",
              " 'far',\n",
              " 'permanent',\n",
              " 'post',\n",
              " 'where',\n",
              " 'local',\n",
              " 'bruxism',\n",
              " '80',\n",
              " 'balance',\n",
              " 'similar',\n",
              " 'pounding',\n",
              " 'poor',\n",
              " 'conjunctivitis',\n",
              " 'heartburn',\n",
              " 'zocor',\n",
              " 'anorexia',\n",
              " 'seems',\n",
              " 'flu',\n",
              " 'believe',\n",
              " 'doc',\n",
              " 'distracted',\n",
              " 'metabolic',\n",
              " 'porphyria',\n",
              " 'adrenal',\n",
              " 'illness',\n",
              " 'why',\n",
              " 'enough',\n",
              " 'erythematosus',\n",
              " 'toxicity',\n",
              " 'affect',\n",
              " 'else',\n",
              " 'lesion',\n",
              " 'atrioventricular',\n",
              " 'control',\n",
              " 'done',\n",
              " 'embolism',\n",
              " 'etc',\n",
              " 'abscess',\n",
              " 'rupture',\n",
              " 'natural',\n",
              " 'period',\n",
              " 'immune',\n",
              " 'ocular',\n",
              " 'bullous',\n",
              " 'worked',\n",
              " 'macular',\n",
              " 'discoloration',\n",
              " 'ulcerative',\n",
              " 'focusing',\n",
              " 'fucked',\n",
              " 'reflux',\n",
              " 'improvement',\n",
              " 'erectile',\n",
              " 'mellitus',\n",
              " 'none',\n",
              " 'others',\n",
              " 'hypertrophy',\n",
              " 'worst',\n",
              " 'possible',\n",
              " 'active',\n",
              " 'issues',\n",
              " 'fucking',\n",
              " 'him',\n",
              " 'decided',\n",
              " 'probably',\n",
              " 'sinusitis',\n",
              " 'type',\n",
              " 'hangover',\n",
              " 'physical',\n",
              " 'thirsty',\n",
              " 'thing',\n",
              " '\"',\n",
              " 'hearing',\n",
              " 'prothrombin',\n",
              " 'using',\n",
              " 'hips',\n",
              " 'retinal',\n",
              " 'obstructive',\n",
              " 'empty',\n",
              " 'eruptions',\n",
              " 'hypersomnia',\n",
              " 'lowering',\n",
              " 'steroid',\n",
              " 'hope',\n",
              " 'retention',\n",
              " 'herpes',\n",
              " 'bilirubin',\n",
              " 'feels',\n",
              " 'wrist',\n",
              " 'deficiency',\n",
              " 'otitis',\n",
              " 'shock',\n",
              " 'viral',\n",
              " 'everything',\n",
              " 'cystitis',\n",
              " 'job',\n",
              " 'neuralgia',\n",
              " 'zaps',\n",
              " 'alkalosis',\n",
              " 'yet',\n",
              " 'dosage',\n",
              " 'bites',\n",
              " 'raised',\n",
              " 'epilepsy',\n",
              " 'forgetfulness',\n",
              " 'sickness',\n",
              " 'groggy',\n",
              " 'related',\n",
              " 'trouble',\n",
              " 'stairs',\n",
              " 'each',\n",
              " 'syndromes',\n",
              " 'epidermal',\n",
              " 'miss',\n",
              " 'hyperplasia',\n",
              " 'ischemia',\n",
              " 'extremely',\n",
              " \"'ll\",\n",
              " 'negative',\n",
              " 'generalised',\n",
              " 'intolerance',\n",
              " 'gait',\n",
              " 'fibrillation',\n",
              " 'increase',\n",
              " 'toes',\n",
              " 'add',\n",
              " 'break',\n",
              " 'cortisone',\n",
              " 'tendon',\n",
              " 'water',\n",
              " 'health',\n",
              " 'influenza',\n",
              " 'pm',\n",
              " 'hit',\n",
              " 'secondary',\n",
              " 'puking',\n",
              " 'those',\n",
              " 'new',\n",
              " 'mania',\n",
              " 'totally',\n",
              " 'own',\n",
              " 'arteritis',\n",
              " 'congestion',\n",
              " 'eaten',\n",
              " 'vascular',\n",
              " 'stool',\n",
              " 'cramp',\n",
              " 'nodule',\n",
              " 'pregnancy',\n",
              " 'sad',\n",
              " 'behaviour',\n",
              " 'ovarian',\n",
              " 'thinness',\n",
              " '50',\n",
              " 'eczema',\n",
              " 'flare',\n",
              " 'highly',\n",
              " 'tiredness',\n",
              " 'inability',\n",
              " 'toxic',\n",
              " 'self',\n",
              " 'contact',\n",
              " 'thrombosis',\n",
              " 'knock',\n",
              " 'eyelid',\n",
              " 'discharge',\n",
              " 'shut',\n",
              " 'ankles',\n",
              " 'used',\n",
              " 'might',\n",
              " 'miserable',\n",
              " 'fell',\n",
              " 'dermatologic',\n",
              " 'central',\n",
              " 'although',\n",
              " 'calcium',\n",
              " 'leukemia',\n",
              " 'deprived',\n",
              " 'such',\n",
              " 'suffered',\n",
              " 'associated',\n",
              " 'fine',\n",
              " 'intestinal',\n",
              " 'myopathy',\n",
              " 'longer',\n",
              " 'point',\n",
              " 'grumpy',\n",
              " 'hypersensitivity',\n",
              " 'rate',\n",
              " 'surgery',\n",
              " 'rectal',\n",
              " 'flatulence',\n",
              " 'couple',\n",
              " 'fat',\n",
              " 'extremities',\n",
              " 'diagnosed',\n",
              " 'pills',\n",
              " 'here',\n",
              " 'calves',\n",
              " 'burn',\n",
              " 'continue',\n",
              " 'coagulation',\n",
              " 'erosion',\n",
              " 'become',\n",
              " 'soreness',\n",
              " 'dryness',\n",
              " 'hormone',\n",
              " 'dangerous',\n",
              " 'white',\n",
              " 'slightly',\n",
              " 'fetal',\n",
              " 'insomniac',\n",
              " 'paresis',\n",
              " 'entire',\n",
              " 'psychiatric',\n",
              " 'nervosa',\n",
              " 'slept',\n",
              " 'pissed',\n",
              " 'fibromyalgia',\n",
              " 'shit',\n",
              " 'prednisone',\n",
              " 'exfoliative',\n",
              " 'schizophrenia',\n",
              " 'voltaren',\n",
              " 'dropped',\n",
              " 'infusion',\n",
              " 'menstruation',\n",
              " 'congenital',\n",
              " 'incontinence',\n",
              " 'seem',\n",
              " 'gout',\n",
              " 'tuberculosis',\n",
              " 'changed',\n",
              " 'four',\n",
              " 'distractibility',\n",
              " ...]"
            ]
          },
          "metadata": {
            "tags": []
          },
          "execution_count": 18
        }
      ]
    },
    {
      "cell_type": "code",
      "metadata": {
        "id": "yPWr03mls3VT",
        "outputId": "63c975f6-b9b8-443b-c5a9-bb4586975fa0",
        "colab": {
          "base_uri": "https://localhost:8080/",
          "height": 17
        }
      },
      "source": [
        "model_path = path/'models'\n",
        "model_path.mkdir(exist_ok=True)\n",
        "url = 'http://files.fast.ai/models/wt103_v1/'\n",
        "download_url(f'{url}lstm_wt103.pth', model_path/'lstm_wt103.pth')\n",
        "download_url(f'{url}itos_wt103.pkl', model_path/'itos_wt103.pkl')"
      ],
      "execution_count": 19,
      "outputs": [
        {
          "output_type": "display_data",
          "data": {
            "text/html": [
              ""
            ],
            "text/plain": [
              "<IPython.core.display.HTML object>"
            ]
          },
          "metadata": {
            "tags": []
          }
        },
        {
          "output_type": "display_data",
          "data": {
            "text/html": [
              ""
            ],
            "text/plain": [
              "<IPython.core.display.HTML object>"
            ]
          },
          "metadata": {
            "tags": []
          }
        }
      ]
    },
    {
      "cell_type": "code",
      "metadata": {
        "id": "JRzvWg8RtGGr",
        "outputId": "a6753295-88e4-4ace-e28e-9026e50e95cc",
        "colab": {
          "base_uri": "https://localhost:8080/",
          "height": 34
        }
      },
      "source": [
        "learn = language_model_learner(data_lm, AWD_LSTM, drop_mult=0.5)"
      ],
      "execution_count": 20,
      "outputs": [
        {
          "output_type": "stream",
          "text": [
            "Downloading https://s3.amazonaws.com/fast-ai-modelzoo/wt103-fwd.tgz\n"
          ],
          "name": "stdout"
        },
        {
          "output_type": "display_data",
          "data": {
            "text/html": [
              ""
            ],
            "text/plain": [
              "<IPython.core.display.HTML object>"
            ]
          },
          "metadata": {
            "tags": []
          }
        }
      ]
    },
    {
      "cell_type": "code",
      "metadata": {
        "id": "xKK7GeBev7Xn",
        "outputId": "400abdf8-e2f6-4a5c-c470-30735d8b0b2c",
        "colab": {
          "base_uri": "https://localhost:8080/",
          "height": 80
        }
      },
      "source": [
        "learn.fit_one_cycle(1, 1e-2)"
      ],
      "execution_count": 21,
      "outputs": [
        {
          "output_type": "display_data",
          "data": {
            "text/html": [
              "<table border=\"1\" class=\"dataframe\">\n",
              "  <thead>\n",
              "    <tr style=\"text-align: left;\">\n",
              "      <th>epoch</th>\n",
              "      <th>train_loss</th>\n",
              "      <th>valid_loss</th>\n",
              "      <th>accuracy</th>\n",
              "      <th>time</th>\n",
              "    </tr>\n",
              "  </thead>\n",
              "  <tbody>\n",
              "    <tr>\n",
              "      <td>0</td>\n",
              "      <td>4.284791</td>\n",
              "      <td>3.445765</td>\n",
              "      <td>0.430943</td>\n",
              "      <td>08:02</td>\n",
              "    </tr>\n",
              "  </tbody>\n",
              "</table>"
            ],
            "text/plain": [
              "<IPython.core.display.HTML object>"
            ]
          },
          "metadata": {
            "tags": []
          }
        }
      ]
    },
    {
      "cell_type": "code",
      "metadata": {
        "id": "iB7rHGQCwd12",
        "outputId": "65de5645-7682-4f3c-9403-dc211a18437e",
        "colab": {
          "base_uri": "https://localhost:8080/",
          "height": 80
        }
      },
      "source": [
        "learn.fit_one_cycle(1, 1e-2)"
      ],
      "execution_count": 22,
      "outputs": [
        {
          "output_type": "display_data",
          "data": {
            "text/html": [
              "<table border=\"1\" class=\"dataframe\">\n",
              "  <thead>\n",
              "    <tr style=\"text-align: left;\">\n",
              "      <th>epoch</th>\n",
              "      <th>train_loss</th>\n",
              "      <th>valid_loss</th>\n",
              "      <th>accuracy</th>\n",
              "      <th>time</th>\n",
              "    </tr>\n",
              "  </thead>\n",
              "  <tbody>\n",
              "    <tr>\n",
              "      <td>0</td>\n",
              "      <td>3.259725</td>\n",
              "      <td>3.016815</td>\n",
              "      <td>0.486482</td>\n",
              "      <td>08:04</td>\n",
              "    </tr>\n",
              "  </tbody>\n",
              "</table>"
            ],
            "text/plain": [
              "<IPython.core.display.HTML object>"
            ]
          },
          "metadata": {
            "tags": []
          }
        }
      ]
    },
    {
      "cell_type": "code",
      "metadata": {
        "id": "_BnSuAeCwkBe",
        "outputId": "f107b80f-b4de-4fff-8c15-ea53e5c3d202",
        "colab": {
          "base_uri": "https://localhost:8080/",
          "height": 80
        }
      },
      "source": [
        "learn.fit_one_cycle(1, 1e-3)"
      ],
      "execution_count": 23,
      "outputs": [
        {
          "output_type": "display_data",
          "data": {
            "text/html": [
              "<table border=\"1\" class=\"dataframe\">\n",
              "  <thead>\n",
              "    <tr style=\"text-align: left;\">\n",
              "      <th>epoch</th>\n",
              "      <th>train_loss</th>\n",
              "      <th>valid_loss</th>\n",
              "      <th>accuracy</th>\n",
              "      <th>time</th>\n",
              "    </tr>\n",
              "  </thead>\n",
              "  <tbody>\n",
              "    <tr>\n",
              "      <td>0</td>\n",
              "      <td>3.044548</td>\n",
              "      <td>2.980052</td>\n",
              "      <td>0.491378</td>\n",
              "      <td>08:07</td>\n",
              "    </tr>\n",
              "  </tbody>\n",
              "</table>"
            ],
            "text/plain": [
              "<IPython.core.display.HTML object>"
            ]
          },
          "metadata": {
            "tags": []
          }
        }
      ]
    },
    {
      "cell_type": "code",
      "metadata": {
        "id": "MuTm-RFjwrEX",
        "outputId": "585978ff-4017-4922-ea13-6d3e999d636c",
        "colab": {
          "base_uri": "https://localhost:8080/",
          "height": 80
        }
      },
      "source": [
        "learn.fit_one_cycle(1, 1e-3)"
      ],
      "execution_count": 24,
      "outputs": [
        {
          "output_type": "display_data",
          "data": {
            "text/html": [
              "<table border=\"1\" class=\"dataframe\">\n",
              "  <thead>\n",
              "    <tr style=\"text-align: left;\">\n",
              "      <th>epoch</th>\n",
              "      <th>train_loss</th>\n",
              "      <th>valid_loss</th>\n",
              "      <th>accuracy</th>\n",
              "      <th>time</th>\n",
              "    </tr>\n",
              "  </thead>\n",
              "  <tbody>\n",
              "    <tr>\n",
              "      <td>0</td>\n",
              "      <td>3.031434</td>\n",
              "      <td>2.954715</td>\n",
              "      <td>0.494447</td>\n",
              "      <td>08:02</td>\n",
              "    </tr>\n",
              "  </tbody>\n",
              "</table>"
            ],
            "text/plain": [
              "<IPython.core.display.HTML object>"
            ]
          },
          "metadata": {
            "tags": []
          }
        }
      ]
    },
    {
      "cell_type": "code",
      "metadata": {
        "id": "1Er2ExO8wr7Y"
      },
      "source": [
        "learn.save_encoder('TwADR-cadec_fold9_first')"
      ],
      "execution_count": 25,
      "outputs": []
    },
    {
      "cell_type": "code",
      "metadata": {
        "id": "z52cZs2qwvad",
        "outputId": "5acb6ce9-e9b4-4a7b-e4c4-b90a2baae146",
        "colab": {
          "base_uri": "https://localhost:8080/",
          "height": 80
        }
      },
      "source": [
        "learn = text_classifier_learner(data_clas,AWD_LSTM, drop_mult=0.5)\n",
        "learn.load_encoder('TwADR-cadec_fold9_first')\n",
        "learn.fit_one_cycle(1, 1e-2)"
      ],
      "execution_count": 26,
      "outputs": [
        {
          "output_type": "display_data",
          "data": {
            "text/html": [
              "<table border=\"1\" class=\"dataframe\">\n",
              "  <thead>\n",
              "    <tr style=\"text-align: left;\">\n",
              "      <th>epoch</th>\n",
              "      <th>train_loss</th>\n",
              "      <th>valid_loss</th>\n",
              "      <th>accuracy</th>\n",
              "      <th>time</th>\n",
              "    </tr>\n",
              "  </thead>\n",
              "  <tbody>\n",
              "    <tr>\n",
              "      <td>0</td>\n",
              "      <td>7.132215</td>\n",
              "      <td>6.275234</td>\n",
              "      <td>0.108333</td>\n",
              "      <td>00:20</td>\n",
              "    </tr>\n",
              "  </tbody>\n",
              "</table>"
            ],
            "text/plain": [
              "<IPython.core.display.HTML object>"
            ]
          },
          "metadata": {
            "tags": []
          }
        }
      ]
    },
    {
      "cell_type": "code",
      "metadata": {
        "id": "ImwQP1PJwzxd",
        "outputId": "daca99c3-3711-45ad-a0bf-1119aa1417e4",
        "colab": {
          "base_uri": "https://localhost:8080/",
          "height": 80
        }
      },
      "source": [
        "learn.freeze_to(-2)\n",
        "learn.fit_one_cycle(1, slice(5e-3/2., 5e-3))"
      ],
      "execution_count": 27,
      "outputs": [
        {
          "output_type": "display_data",
          "data": {
            "text/html": [
              "<table border=\"1\" class=\"dataframe\">\n",
              "  <thead>\n",
              "    <tr style=\"text-align: left;\">\n",
              "      <th>epoch</th>\n",
              "      <th>train_loss</th>\n",
              "      <th>valid_loss</th>\n",
              "      <th>accuracy</th>\n",
              "      <th>time</th>\n",
              "    </tr>\n",
              "  </thead>\n",
              "  <tbody>\n",
              "    <tr>\n",
              "      <td>0</td>\n",
              "      <td>6.176688</td>\n",
              "      <td>5.024456</td>\n",
              "      <td>0.175000</td>\n",
              "      <td>00:27</td>\n",
              "    </tr>\n",
              "  </tbody>\n",
              "</table>"
            ],
            "text/plain": [
              "<IPython.core.display.HTML object>"
            ]
          },
          "metadata": {
            "tags": []
          }
        }
      ]
    },
    {
      "cell_type": "code",
      "metadata": {
        "id": "Owff_BJXw53u",
        "outputId": "3c61d29b-d11c-49b3-98b7-6aa01f9f8203",
        "colab": {
          "base_uri": "https://localhost:8080/",
          "height": 80
        }
      },
      "source": [
        "learn.unfreeze()\n",
        "learn.fit_one_cycle(1, slice(2e-3/100, 2e-3))"
      ],
      "execution_count": 28,
      "outputs": [
        {
          "output_type": "display_data",
          "data": {
            "text/html": [
              "<table border=\"1\" class=\"dataframe\">\n",
              "  <thead>\n",
              "    <tr style=\"text-align: left;\">\n",
              "      <th>epoch</th>\n",
              "      <th>train_loss</th>\n",
              "      <th>valid_loss</th>\n",
              "      <th>accuracy</th>\n",
              "      <th>time</th>\n",
              "    </tr>\n",
              "  </thead>\n",
              "  <tbody>\n",
              "    <tr>\n",
              "      <td>0</td>\n",
              "      <td>5.666665</td>\n",
              "      <td>4.734130</td>\n",
              "      <td>0.225000</td>\n",
              "      <td>00:56</td>\n",
              "    </tr>\n",
              "  </tbody>\n",
              "</table>"
            ],
            "text/plain": [
              "<IPython.core.display.HTML object>"
            ]
          },
          "metadata": {
            "tags": []
          }
        }
      ]
    },
    {
      "cell_type": "code",
      "metadata": {
        "id": "lqAyu56V8Waq",
        "outputId": "b08f848d-bcaf-4823-dcb8-0466bb65ad03",
        "colab": {
          "base_uri": "https://localhost:8080/",
          "height": 111
        }
      },
      "source": [
        "learn.fit_one_cycle(2, slice(2e-3/100, 2e-3))"
      ],
      "execution_count": 29,
      "outputs": [
        {
          "output_type": "display_data",
          "data": {
            "text/html": [
              "<table border=\"1\" class=\"dataframe\">\n",
              "  <thead>\n",
              "    <tr style=\"text-align: left;\">\n",
              "      <th>epoch</th>\n",
              "      <th>train_loss</th>\n",
              "      <th>valid_loss</th>\n",
              "      <th>accuracy</th>\n",
              "      <th>time</th>\n",
              "    </tr>\n",
              "  </thead>\n",
              "  <tbody>\n",
              "    <tr>\n",
              "      <td>0</td>\n",
              "      <td>5.406194</td>\n",
              "      <td>4.395931</td>\n",
              "      <td>0.266667</td>\n",
              "      <td>01:00</td>\n",
              "    </tr>\n",
              "    <tr>\n",
              "      <td>1</td>\n",
              "      <td>5.176524</td>\n",
              "      <td>4.240960</td>\n",
              "      <td>0.291667</td>\n",
              "      <td>00:57</td>\n",
              "    </tr>\n",
              "  </tbody>\n",
              "</table>"
            ],
            "text/plain": [
              "<IPython.core.display.HTML object>"
            ]
          },
          "metadata": {
            "tags": []
          }
        }
      ]
    },
    {
      "cell_type": "code",
      "metadata": {
        "id": "a7I1xMRp8bUd",
        "outputId": "adbf3a69-ce39-4fbf-fd59-9fbe591e58f7",
        "colab": {
          "base_uri": "https://localhost:8080/",
          "height": 111
        }
      },
      "source": [
        "learn.fit_one_cycle(2, slice(2e-3/100, 2e-3))"
      ],
      "execution_count": 30,
      "outputs": [
        {
          "output_type": "display_data",
          "data": {
            "text/html": [
              "<table border=\"1\" class=\"dataframe\">\n",
              "  <thead>\n",
              "    <tr style=\"text-align: left;\">\n",
              "      <th>epoch</th>\n",
              "      <th>train_loss</th>\n",
              "      <th>valid_loss</th>\n",
              "      <th>accuracy</th>\n",
              "      <th>time</th>\n",
              "    </tr>\n",
              "  </thead>\n",
              "  <tbody>\n",
              "    <tr>\n",
              "      <td>0</td>\n",
              "      <td>4.925674</td>\n",
              "      <td>3.992958</td>\n",
              "      <td>0.308333</td>\n",
              "      <td>00:59</td>\n",
              "    </tr>\n",
              "    <tr>\n",
              "      <td>1</td>\n",
              "      <td>4.720356</td>\n",
              "      <td>3.910018</td>\n",
              "      <td>0.325000</td>\n",
              "      <td>01:00</td>\n",
              "    </tr>\n",
              "  </tbody>\n",
              "</table>"
            ],
            "text/plain": [
              "<IPython.core.display.HTML object>"
            ]
          },
          "metadata": {
            "tags": []
          }
        }
      ]
    },
    {
      "cell_type": "code",
      "metadata": {
        "id": "UAnti-XmGVfO",
        "outputId": "f174043d-af03-46ee-86f3-e05e2b5cda2f",
        "colab": {
          "base_uri": "https://localhost:8080/",
          "height": 111
        }
      },
      "source": [
        "learn.fit_one_cycle(2, slice(2e-3/100, 2e-3))"
      ],
      "execution_count": 31,
      "outputs": [
        {
          "output_type": "display_data",
          "data": {
            "text/html": [
              "<table border=\"1\" class=\"dataframe\">\n",
              "  <thead>\n",
              "    <tr style=\"text-align: left;\">\n",
              "      <th>epoch</th>\n",
              "      <th>train_loss</th>\n",
              "      <th>valid_loss</th>\n",
              "      <th>accuracy</th>\n",
              "      <th>time</th>\n",
              "    </tr>\n",
              "  </thead>\n",
              "  <tbody>\n",
              "    <tr>\n",
              "      <td>0</td>\n",
              "      <td>4.481880</td>\n",
              "      <td>3.782603</td>\n",
              "      <td>0.333333</td>\n",
              "      <td>00:57</td>\n",
              "    </tr>\n",
              "    <tr>\n",
              "      <td>1</td>\n",
              "      <td>4.356068</td>\n",
              "      <td>3.702796</td>\n",
              "      <td>0.366667</td>\n",
              "      <td>00:57</td>\n",
              "    </tr>\n",
              "  </tbody>\n",
              "</table>"
            ],
            "text/plain": [
              "<IPython.core.display.HTML object>"
            ]
          },
          "metadata": {
            "tags": []
          }
        }
      ]
    },
    {
      "cell_type": "code",
      "metadata": {
        "id": "bIft7W25GwSu",
        "outputId": "bfd78521-8fff-48ab-d158-3a0bada95cec",
        "colab": {
          "base_uri": "https://localhost:8080/",
          "height": 111
        }
      },
      "source": [
        "learn.fit_one_cycle(2, slice(2e-3/100, 2e-3))"
      ],
      "execution_count": 32,
      "outputs": [
        {
          "output_type": "display_data",
          "data": {
            "text/html": [
              "<table border=\"1\" class=\"dataframe\">\n",
              "  <thead>\n",
              "    <tr style=\"text-align: left;\">\n",
              "      <th>epoch</th>\n",
              "      <th>train_loss</th>\n",
              "      <th>valid_loss</th>\n",
              "      <th>accuracy</th>\n",
              "      <th>time</th>\n",
              "    </tr>\n",
              "  </thead>\n",
              "  <tbody>\n",
              "    <tr>\n",
              "      <td>0</td>\n",
              "      <td>4.175273</td>\n",
              "      <td>3.612547</td>\n",
              "      <td>0.358333</td>\n",
              "      <td>00:56</td>\n",
              "    </tr>\n",
              "    <tr>\n",
              "      <td>1</td>\n",
              "      <td>4.025666</td>\n",
              "      <td>3.534954</td>\n",
              "      <td>0.358333</td>\n",
              "      <td>00:57</td>\n",
              "    </tr>\n",
              "  </tbody>\n",
              "</table>"
            ],
            "text/plain": [
              "<IPython.core.display.HTML object>"
            ]
          },
          "metadata": {
            "tags": []
          }
        }
      ]
    },
    {
      "cell_type": "code",
      "metadata": {
        "id": "EEHszVRvGyFt",
        "outputId": "0d84291a-1d3a-4e96-c476-dea577f4be2d",
        "colab": {
          "base_uri": "https://localhost:8080/",
          "height": 111
        }
      },
      "source": [
        "learn.fit_one_cycle(2, slice(2e-3/100, 2e-3))"
      ],
      "execution_count": 33,
      "outputs": [
        {
          "output_type": "display_data",
          "data": {
            "text/html": [
              "<table border=\"1\" class=\"dataframe\">\n",
              "  <thead>\n",
              "    <tr style=\"text-align: left;\">\n",
              "      <th>epoch</th>\n",
              "      <th>train_loss</th>\n",
              "      <th>valid_loss</th>\n",
              "      <th>accuracy</th>\n",
              "      <th>time</th>\n",
              "    </tr>\n",
              "  </thead>\n",
              "  <tbody>\n",
              "    <tr>\n",
              "      <td>0</td>\n",
              "      <td>3.833854</td>\n",
              "      <td>3.557236</td>\n",
              "      <td>0.350000</td>\n",
              "      <td>01:00</td>\n",
              "    </tr>\n",
              "    <tr>\n",
              "      <td>1</td>\n",
              "      <td>3.699888</td>\n",
              "      <td>3.465802</td>\n",
              "      <td>0.358333</td>\n",
              "      <td>01:00</td>\n",
              "    </tr>\n",
              "  </tbody>\n",
              "</table>"
            ],
            "text/plain": [
              "<IPython.core.display.HTML object>"
            ]
          },
          "metadata": {
            "tags": []
          }
        }
      ]
    },
    {
      "cell_type": "code",
      "metadata": {
        "id": "XsHfrhCHG3dN",
        "outputId": "2eebd8c9-ad55-498e-a5ef-35aaeeb3140e",
        "colab": {
          "base_uri": "https://localhost:8080/",
          "height": 173
        }
      },
      "source": [
        "learn.fit_one_cycle(4, slice(2e-3/100, 2e-3))"
      ],
      "execution_count": 34,
      "outputs": [
        {
          "output_type": "display_data",
          "data": {
            "text/html": [
              "<table border=\"1\" class=\"dataframe\">\n",
              "  <thead>\n",
              "    <tr style=\"text-align: left;\">\n",
              "      <th>epoch</th>\n",
              "      <th>train_loss</th>\n",
              "      <th>valid_loss</th>\n",
              "      <th>accuracy</th>\n",
              "      <th>time</th>\n",
              "    </tr>\n",
              "  </thead>\n",
              "  <tbody>\n",
              "    <tr>\n",
              "      <td>0</td>\n",
              "      <td>3.530277</td>\n",
              "      <td>3.457908</td>\n",
              "      <td>0.375000</td>\n",
              "      <td>01:02</td>\n",
              "    </tr>\n",
              "    <tr>\n",
              "      <td>1</td>\n",
              "      <td>3.466555</td>\n",
              "      <td>3.416574</td>\n",
              "      <td>0.358333</td>\n",
              "      <td>01:00</td>\n",
              "    </tr>\n",
              "    <tr>\n",
              "      <td>2</td>\n",
              "      <td>3.257142</td>\n",
              "      <td>3.409161</td>\n",
              "      <td>0.391667</td>\n",
              "      <td>00:58</td>\n",
              "    </tr>\n",
              "    <tr>\n",
              "      <td>3</td>\n",
              "      <td>3.088906</td>\n",
              "      <td>3.403058</td>\n",
              "      <td>0.391667</td>\n",
              "      <td>00:57</td>\n",
              "    </tr>\n",
              "  </tbody>\n",
              "</table>"
            ],
            "text/plain": [
              "<IPython.core.display.HTML object>"
            ]
          },
          "metadata": {
            "tags": []
          }
        }
      ]
    },
    {
      "cell_type": "code",
      "metadata": {
        "id": "0Zsd99isb9EQ",
        "outputId": "ffd0722d-b62a-4708-b1b6-53a5639eaf78",
        "colab": {
          "base_uri": "https://localhost:8080/",
          "height": 173
        }
      },
      "source": [
        "learn.fit_one_cycle(4, slice(2e-3/100, 2e-3))"
      ],
      "execution_count": 35,
      "outputs": [
        {
          "output_type": "display_data",
          "data": {
            "text/html": [
              "<table border=\"1\" class=\"dataframe\">\n",
              "  <thead>\n",
              "    <tr style=\"text-align: left;\">\n",
              "      <th>epoch</th>\n",
              "      <th>train_loss</th>\n",
              "      <th>valid_loss</th>\n",
              "      <th>accuracy</th>\n",
              "      <th>time</th>\n",
              "    </tr>\n",
              "  </thead>\n",
              "  <tbody>\n",
              "    <tr>\n",
              "      <td>0</td>\n",
              "      <td>2.933414</td>\n",
              "      <td>3.379242</td>\n",
              "      <td>0.391667</td>\n",
              "      <td>00:57</td>\n",
              "    </tr>\n",
              "    <tr>\n",
              "      <td>1</td>\n",
              "      <td>2.868380</td>\n",
              "      <td>3.350861</td>\n",
              "      <td>0.425000</td>\n",
              "      <td>01:01</td>\n",
              "    </tr>\n",
              "    <tr>\n",
              "      <td>2</td>\n",
              "      <td>2.720440</td>\n",
              "      <td>3.410868</td>\n",
              "      <td>0.425000</td>\n",
              "      <td>00:57</td>\n",
              "    </tr>\n",
              "    <tr>\n",
              "      <td>3</td>\n",
              "      <td>2.561708</td>\n",
              "      <td>3.338089</td>\n",
              "      <td>0.425000</td>\n",
              "      <td>00:58</td>\n",
              "    </tr>\n",
              "  </tbody>\n",
              "</table>"
            ],
            "text/plain": [
              "<IPython.core.display.HTML object>"
            ]
          },
          "metadata": {
            "tags": []
          }
        }
      ]
    },
    {
      "cell_type": "code",
      "metadata": {
        "id": "atNWNKDFPbuI",
        "outputId": "6bc63c7e-a89e-4bb2-8c52-298bf23b310a",
        "colab": {
          "base_uri": "https://localhost:8080/",
          "height": 173
        }
      },
      "source": [
        "learn.fit_one_cycle(4, slice(2e-3/100, 2e-3))"
      ],
      "execution_count": 36,
      "outputs": [
        {
          "output_type": "display_data",
          "data": {
            "text/html": [
              "<table border=\"1\" class=\"dataframe\">\n",
              "  <thead>\n",
              "    <tr style=\"text-align: left;\">\n",
              "      <th>epoch</th>\n",
              "      <th>train_loss</th>\n",
              "      <th>valid_loss</th>\n",
              "      <th>accuracy</th>\n",
              "      <th>time</th>\n",
              "    </tr>\n",
              "  </thead>\n",
              "  <tbody>\n",
              "    <tr>\n",
              "      <td>0</td>\n",
              "      <td>2.369222</td>\n",
              "      <td>3.368855</td>\n",
              "      <td>0.425000</td>\n",
              "      <td>00:58</td>\n",
              "    </tr>\n",
              "    <tr>\n",
              "      <td>1</td>\n",
              "      <td>2.348729</td>\n",
              "      <td>3.386146</td>\n",
              "      <td>0.408333</td>\n",
              "      <td>01:03</td>\n",
              "    </tr>\n",
              "    <tr>\n",
              "      <td>2</td>\n",
              "      <td>2.201534</td>\n",
              "      <td>3.387526</td>\n",
              "      <td>0.450000</td>\n",
              "      <td>00:57</td>\n",
              "    </tr>\n",
              "    <tr>\n",
              "      <td>3</td>\n",
              "      <td>2.066382</td>\n",
              "      <td>3.377405</td>\n",
              "      <td>0.458333</td>\n",
              "      <td>00:56</td>\n",
              "    </tr>\n",
              "  </tbody>\n",
              "</table>"
            ],
            "text/plain": [
              "<IPython.core.display.HTML object>"
            ]
          },
          "metadata": {
            "tags": []
          }
        }
      ]
    },
    {
      "cell_type": "code",
      "metadata": {
        "id": "rKrBTZ0T1uVA",
        "outputId": "fbe9c6de-79ca-43b6-d5fc-94de58f23224",
        "colab": {
          "base_uri": "https://localhost:8080/",
          "height": 173
        }
      },
      "source": [
        "learn.fit_one_cycle(4, slice(2e-3/100, 2e-3))"
      ],
      "execution_count": 37,
      "outputs": [
        {
          "output_type": "display_data",
          "data": {
            "text/html": [
              "<table border=\"1\" class=\"dataframe\">\n",
              "  <thead>\n",
              "    <tr style=\"text-align: left;\">\n",
              "      <th>epoch</th>\n",
              "      <th>train_loss</th>\n",
              "      <th>valid_loss</th>\n",
              "      <th>accuracy</th>\n",
              "      <th>time</th>\n",
              "    </tr>\n",
              "  </thead>\n",
              "  <tbody>\n",
              "    <tr>\n",
              "      <td>0</td>\n",
              "      <td>1.926969</td>\n",
              "      <td>3.445099</td>\n",
              "      <td>0.416667</td>\n",
              "      <td>00:58</td>\n",
              "    </tr>\n",
              "    <tr>\n",
              "      <td>1</td>\n",
              "      <td>1.904668</td>\n",
              "      <td>3.568486</td>\n",
              "      <td>0.433333</td>\n",
              "      <td>01:02</td>\n",
              "    </tr>\n",
              "    <tr>\n",
              "      <td>2</td>\n",
              "      <td>1.762515</td>\n",
              "      <td>3.563401</td>\n",
              "      <td>0.433333</td>\n",
              "      <td>01:01</td>\n",
              "    </tr>\n",
              "    <tr>\n",
              "      <td>3</td>\n",
              "      <td>1.619564</td>\n",
              "      <td>3.589581</td>\n",
              "      <td>0.425000</td>\n",
              "      <td>01:01</td>\n",
              "    </tr>\n",
              "  </tbody>\n",
              "</table>"
            ],
            "text/plain": [
              "<IPython.core.display.HTML object>"
            ]
          },
          "metadata": {
            "tags": []
          }
        }
      ]
    },
    {
      "cell_type": "code",
      "metadata": {
        "id": "ajQC6WDg1yA9",
        "outputId": "2355b9ec-639c-40d7-9805-9b7bce725bf9",
        "colab": {
          "base_uri": "https://localhost:8080/",
          "height": 173
        }
      },
      "source": [
        "learn.fit_one_cycle(4, slice(2e-3/100, 2e-3))"
      ],
      "execution_count": 38,
      "outputs": [
        {
          "output_type": "display_data",
          "data": {
            "text/html": [
              "<table border=\"1\" class=\"dataframe\">\n",
              "  <thead>\n",
              "    <tr style=\"text-align: left;\">\n",
              "      <th>epoch</th>\n",
              "      <th>train_loss</th>\n",
              "      <th>valid_loss</th>\n",
              "      <th>accuracy</th>\n",
              "      <th>time</th>\n",
              "    </tr>\n",
              "  </thead>\n",
              "  <tbody>\n",
              "    <tr>\n",
              "      <td>0</td>\n",
              "      <td>1.546241</td>\n",
              "      <td>3.669964</td>\n",
              "      <td>0.425000</td>\n",
              "      <td>00:56</td>\n",
              "    </tr>\n",
              "    <tr>\n",
              "      <td>1</td>\n",
              "      <td>1.546480</td>\n",
              "      <td>3.625425</td>\n",
              "      <td>0.416667</td>\n",
              "      <td>01:02</td>\n",
              "    </tr>\n",
              "    <tr>\n",
              "      <td>2</td>\n",
              "      <td>1.411611</td>\n",
              "      <td>3.571816</td>\n",
              "      <td>0.441667</td>\n",
              "      <td>01:01</td>\n",
              "    </tr>\n",
              "    <tr>\n",
              "      <td>3</td>\n",
              "      <td>1.295551</td>\n",
              "      <td>3.622489</td>\n",
              "      <td>0.441667</td>\n",
              "      <td>00:59</td>\n",
              "    </tr>\n",
              "  </tbody>\n",
              "</table>"
            ],
            "text/plain": [
              "<IPython.core.display.HTML object>"
            ]
          },
          "metadata": {
            "tags": []
          }
        }
      ]
    },
    {
      "cell_type": "code",
      "metadata": {
        "id": "KKydb0B4BKGk",
        "outputId": "0405df99-07d7-4486-9964-112750655ed8",
        "colab": {
          "base_uri": "https://localhost:8080/",
          "height": 173
        }
      },
      "source": [
        "learn.fit_one_cycle(4, slice(2e-3/100, 2e-3))"
      ],
      "execution_count": 39,
      "outputs": [
        {
          "output_type": "display_data",
          "data": {
            "text/html": [
              "<table border=\"1\" class=\"dataframe\">\n",
              "  <thead>\n",
              "    <tr style=\"text-align: left;\">\n",
              "      <th>epoch</th>\n",
              "      <th>train_loss</th>\n",
              "      <th>valid_loss</th>\n",
              "      <th>accuracy</th>\n",
              "      <th>time</th>\n",
              "    </tr>\n",
              "  </thead>\n",
              "  <tbody>\n",
              "    <tr>\n",
              "      <td>0</td>\n",
              "      <td>1.198678</td>\n",
              "      <td>3.694516</td>\n",
              "      <td>0.416667</td>\n",
              "      <td>00:56</td>\n",
              "    </tr>\n",
              "    <tr>\n",
              "      <td>1</td>\n",
              "      <td>1.199847</td>\n",
              "      <td>3.700746</td>\n",
              "      <td>0.433333</td>\n",
              "      <td>00:57</td>\n",
              "    </tr>\n",
              "    <tr>\n",
              "      <td>2</td>\n",
              "      <td>1.141028</td>\n",
              "      <td>3.713305</td>\n",
              "      <td>0.408333</td>\n",
              "      <td>00:56</td>\n",
              "    </tr>\n",
              "    <tr>\n",
              "      <td>3</td>\n",
              "      <td>1.039214</td>\n",
              "      <td>3.651538</td>\n",
              "      <td>0.416667</td>\n",
              "      <td>00:59</td>\n",
              "    </tr>\n",
              "  </tbody>\n",
              "</table>"
            ],
            "text/plain": [
              "<IPython.core.display.HTML object>"
            ]
          },
          "metadata": {
            "tags": []
          }
        }
      ]
    },
    {
      "cell_type": "code",
      "metadata": {
        "id": "T2APKtFKBpGY",
        "outputId": "f0f3a6f3-a5bf-4797-e5de-e85005474213",
        "colab": {
          "base_uri": "https://localhost:8080/",
          "height": 173
        }
      },
      "source": [
        "learn.fit_one_cycle(4, slice(2e-3/100, 2e-3))"
      ],
      "execution_count": 40,
      "outputs": [
        {
          "output_type": "display_data",
          "data": {
            "text/html": [
              "<table border=\"1\" class=\"dataframe\">\n",
              "  <thead>\n",
              "    <tr style=\"text-align: left;\">\n",
              "      <th>epoch</th>\n",
              "      <th>train_loss</th>\n",
              "      <th>valid_loss</th>\n",
              "      <th>accuracy</th>\n",
              "      <th>time</th>\n",
              "    </tr>\n",
              "  </thead>\n",
              "  <tbody>\n",
              "    <tr>\n",
              "      <td>0</td>\n",
              "      <td>0.933947</td>\n",
              "      <td>3.601513</td>\n",
              "      <td>0.433333</td>\n",
              "      <td>01:01</td>\n",
              "    </tr>\n",
              "    <tr>\n",
              "      <td>1</td>\n",
              "      <td>0.935275</td>\n",
              "      <td>3.753174</td>\n",
              "      <td>0.441667</td>\n",
              "      <td>00:58</td>\n",
              "    </tr>\n",
              "    <tr>\n",
              "      <td>2</td>\n",
              "      <td>0.902429</td>\n",
              "      <td>3.834472</td>\n",
              "      <td>0.425000</td>\n",
              "      <td>00:56</td>\n",
              "    </tr>\n",
              "    <tr>\n",
              "      <td>3</td>\n",
              "      <td>0.814340</td>\n",
              "      <td>3.836696</td>\n",
              "      <td>0.433333</td>\n",
              "      <td>00:56</td>\n",
              "    </tr>\n",
              "  </tbody>\n",
              "</table>"
            ],
            "text/plain": [
              "<IPython.core.display.HTML object>"
            ]
          },
          "metadata": {
            "tags": []
          }
        }
      ]
    },
    {
      "cell_type": "code",
      "metadata": {
        "id": "qtTypA1sPgLU",
        "outputId": "375a9983-a44e-43cf-d0d8-dbcce4f17f19",
        "colab": {
          "base_uri": "https://localhost:8080/",
          "height": 111
        }
      },
      "source": [
        "learn.fit_one_cycle(2, slice(2e-3/100, 2e-3))"
      ],
      "execution_count": 41,
      "outputs": [
        {
          "output_type": "display_data",
          "data": {
            "text/html": [
              "<table border=\"1\" class=\"dataframe\">\n",
              "  <thead>\n",
              "    <tr style=\"text-align: left;\">\n",
              "      <th>epoch</th>\n",
              "      <th>train_loss</th>\n",
              "      <th>valid_loss</th>\n",
              "      <th>accuracy</th>\n",
              "      <th>time</th>\n",
              "    </tr>\n",
              "  </thead>\n",
              "  <tbody>\n",
              "    <tr>\n",
              "      <td>0</td>\n",
              "      <td>0.787576</td>\n",
              "      <td>3.968566</td>\n",
              "      <td>0.416667</td>\n",
              "      <td>01:02</td>\n",
              "    </tr>\n",
              "    <tr>\n",
              "      <td>1</td>\n",
              "      <td>0.755750</td>\n",
              "      <td>3.989538</td>\n",
              "      <td>0.391667</td>\n",
              "      <td>01:02</td>\n",
              "    </tr>\n",
              "  </tbody>\n",
              "</table>"
            ],
            "text/plain": [
              "<IPython.core.display.HTML object>"
            ]
          },
          "metadata": {
            "tags": []
          }
        }
      ]
    },
    {
      "cell_type": "code",
      "metadata": {
        "id": "b242kBsTUp9Y",
        "outputId": "a991e818-841f-47f0-8f57-0a02227a955d",
        "colab": {
          "base_uri": "https://localhost:8080/",
          "height": 111
        }
      },
      "source": [
        "learn.fit_one_cycle(2, slice(2e-3/100, 2e-3))"
      ],
      "execution_count": 42,
      "outputs": [
        {
          "output_type": "display_data",
          "data": {
            "text/html": [
              "<table border=\"1\" class=\"dataframe\">\n",
              "  <thead>\n",
              "    <tr style=\"text-align: left;\">\n",
              "      <th>epoch</th>\n",
              "      <th>train_loss</th>\n",
              "      <th>valid_loss</th>\n",
              "      <th>accuracy</th>\n",
              "      <th>time</th>\n",
              "    </tr>\n",
              "  </thead>\n",
              "  <tbody>\n",
              "    <tr>\n",
              "      <td>0</td>\n",
              "      <td>0.717845</td>\n",
              "      <td>3.936564</td>\n",
              "      <td>0.458333</td>\n",
              "      <td>00:56</td>\n",
              "    </tr>\n",
              "    <tr>\n",
              "      <td>1</td>\n",
              "      <td>0.700760</td>\n",
              "      <td>3.849744</td>\n",
              "      <td>0.458333</td>\n",
              "      <td>00:58</td>\n",
              "    </tr>\n",
              "  </tbody>\n",
              "</table>"
            ],
            "text/plain": [
              "<IPython.core.display.HTML object>"
            ]
          },
          "metadata": {
            "tags": []
          }
        }
      ]
    },
    {
      "cell_type": "code",
      "metadata": {
        "id": "Duwf1Ih5VeDZ",
        "outputId": "71cd06d6-bd13-446e-b52a-ccf2d1daa587",
        "colab": {
          "base_uri": "https://localhost:8080/",
          "height": 80
        }
      },
      "source": [
        "learn.fit_one_cycle(1, slice(2e-3/100, 2e-3))"
      ],
      "execution_count": 43,
      "outputs": [
        {
          "output_type": "display_data",
          "data": {
            "text/html": [
              "<table border=\"1\" class=\"dataframe\">\n",
              "  <thead>\n",
              "    <tr style=\"text-align: left;\">\n",
              "      <th>epoch</th>\n",
              "      <th>train_loss</th>\n",
              "      <th>valid_loss</th>\n",
              "      <th>accuracy</th>\n",
              "      <th>time</th>\n",
              "    </tr>\n",
              "  </thead>\n",
              "  <tbody>\n",
              "    <tr>\n",
              "      <td>0</td>\n",
              "      <td>0.633718</td>\n",
              "      <td>4.015467</td>\n",
              "      <td>0.441667</td>\n",
              "      <td>01:02</td>\n",
              "    </tr>\n",
              "  </tbody>\n",
              "</table>"
            ],
            "text/plain": [
              "<IPython.core.display.HTML object>"
            ]
          },
          "metadata": {
            "tags": []
          }
        }
      ]
    },
    {
      "cell_type": "code",
      "metadata": {
        "id": "c65d-osfDUXm"
      },
      "source": [
        "# save the best model\n",
        "\n",
        "learn.save_encoder('TwADR-cadec_fold9')"
      ],
      "execution_count": 44,
      "outputs": []
    },
    {
      "cell_type": "code",
      "metadata": {
        "id": "5h-A_GpAIYg8",
        "outputId": "76e9bc38-aba0-463c-bf3b-a27d31c1958e",
        "colab": {
          "base_uri": "https://localhost:8080/",
          "height": 80
        }
      },
      "source": [
        "learn.fit_one_cycle(1, slice(2e-3/100, 2e-3))"
      ],
      "execution_count": 45,
      "outputs": [
        {
          "output_type": "display_data",
          "data": {
            "text/html": [
              "<table border=\"1\" class=\"dataframe\">\n",
              "  <thead>\n",
              "    <tr style=\"text-align: left;\">\n",
              "      <th>epoch</th>\n",
              "      <th>train_loss</th>\n",
              "      <th>valid_loss</th>\n",
              "      <th>accuracy</th>\n",
              "      <th>time</th>\n",
              "    </tr>\n",
              "  </thead>\n",
              "  <tbody>\n",
              "    <tr>\n",
              "      <td>0</td>\n",
              "      <td>0.624595</td>\n",
              "      <td>4.085347</td>\n",
              "      <td>0.433333</td>\n",
              "      <td>00:59</td>\n",
              "    </tr>\n",
              "  </tbody>\n",
              "</table>"
            ],
            "text/plain": [
              "<IPython.core.display.HTML object>"
            ]
          },
          "metadata": {
            "tags": []
          }
        }
      ]
    },
    {
      "cell_type": "code",
      "metadata": {
        "id": "qc4poYxzIwca",
        "outputId": "2734880c-5e5c-43db-c4bb-a697851fe3fa",
        "colab": {
          "base_uri": "https://localhost:8080/",
          "height": 80
        }
      },
      "source": [
        "learn.fit_one_cycle(1, slice(2e-3/100, 2e-3))"
      ],
      "execution_count": 46,
      "outputs": [
        {
          "output_type": "display_data",
          "data": {
            "text/html": [
              "<table border=\"1\" class=\"dataframe\">\n",
              "  <thead>\n",
              "    <tr style=\"text-align: left;\">\n",
              "      <th>epoch</th>\n",
              "      <th>train_loss</th>\n",
              "      <th>valid_loss</th>\n",
              "      <th>accuracy</th>\n",
              "      <th>time</th>\n",
              "    </tr>\n",
              "  </thead>\n",
              "  <tbody>\n",
              "    <tr>\n",
              "      <td>0</td>\n",
              "      <td>0.585676</td>\n",
              "      <td>4.175631</td>\n",
              "      <td>0.441667</td>\n",
              "      <td>00:57</td>\n",
              "    </tr>\n",
              "  </tbody>\n",
              "</table>"
            ],
            "text/plain": [
              "<IPython.core.display.HTML object>"
            ]
          },
          "metadata": {
            "tags": []
          }
        }
      ]
    },
    {
      "cell_type": "code",
      "metadata": {
        "id": "66s4PxV1JVfo",
        "outputId": "5e77faad-77f3-44f3-810f-23d6e97cee33",
        "colab": {
          "base_uri": "https://localhost:8080/",
          "height": 80
        }
      },
      "source": [
        "learn.fit_one_cycle(1, slice(2e-3/100, 2e-3))"
      ],
      "execution_count": 47,
      "outputs": [
        {
          "output_type": "display_data",
          "data": {
            "text/html": [
              "<table border=\"1\" class=\"dataframe\">\n",
              "  <thead>\n",
              "    <tr style=\"text-align: left;\">\n",
              "      <th>epoch</th>\n",
              "      <th>train_loss</th>\n",
              "      <th>valid_loss</th>\n",
              "      <th>accuracy</th>\n",
              "      <th>time</th>\n",
              "    </tr>\n",
              "  </thead>\n",
              "  <tbody>\n",
              "    <tr>\n",
              "      <td>0</td>\n",
              "      <td>0.608397</td>\n",
              "      <td>4.207804</td>\n",
              "      <td>0.433333</td>\n",
              "      <td>00:56</td>\n",
              "    </tr>\n",
              "  </tbody>\n",
              "</table>"
            ],
            "text/plain": [
              "<IPython.core.display.HTML object>"
            ]
          },
          "metadata": {
            "tags": []
          }
        }
      ]
    },
    {
      "cell_type": "markdown",
      "metadata": {
        "id": "rCwZU0E2RgM6"
      },
      "source": [
        "# Part three: Predict on the test dataset"
      ]
    },
    {
      "cell_type": "code",
      "metadata": {
        "id": "gDm72c-dOu7d",
        "outputId": "1aec98bd-f245-4333-d80a-f1cc70d5ee4f",
        "colab": {
          "base_uri": "https://localhost:8080/",
          "height": 17
        }
      },
      "source": [
        "# use the test data for prediction\n",
        "\n",
        "preds, y = learn.get_preds(DatasetType.Test)"
      ],
      "execution_count": 48,
      "outputs": [
        {
          "output_type": "display_data",
          "data": {
            "text/html": [
              ""
            ],
            "text/plain": [
              "<IPython.core.display.HTML object>"
            ]
          },
          "metadata": {
            "tags": []
          }
        }
      ]
    },
    {
      "cell_type": "code",
      "metadata": {
        "id": "6tFSQcsWPvxn",
        "outputId": "5ccffe48-dbff-4bc9-9d55-be2707643e59",
        "colab": {
          "base_uri": "https://localhost:8080/",
          "height": 105
        }
      },
      "source": [
        "predictions, *_ = learn.get_preds(DatasetType.Test)\n",
        "labels = np.argmax(predictions, 1)\n",
        "predict_list = labels.tolist()\n",
        "standard_list = test[0].tolist()\n",
        "\n",
        "print(len(predict_list))\n",
        "print(len(standard_list))\n",
        "\n",
        "print(predict_list)\n",
        "print(standard_list)"
      ],
      "execution_count": 49,
      "outputs": [
        {
          "output_type": "display_data",
          "data": {
            "text/html": [
              ""
            ],
            "text/plain": [
              "<IPython.core.display.HTML object>"
            ]
          },
          "metadata": {
            "tags": []
          }
        },
        {
          "output_type": "stream",
          "text": [
            "142\n",
            "142\n",
            "[1529, 61, 1204, 224, 2113, 189, 189, 189, 1073, 224, 224, 224, 2147, 1936, 233, 2147, 249, 1815, 301, 249, 1787, 1099, 809, 749, 749, 749, 2074, 791, 1054, 792, 154, 224, 1308, 978, 1884, 249, 1884, 1767, 2023, 1214, 1295, 974, 974, 974, 974, 1295, 978, 978, 989, 1019, 1529, 1062, 1718, 1295, 1701, 2032, 1925, 1136, 1295, 1594, 1798, 2104, 1265, 1529, 2066, 249, 852, 1099, 1676, 1973, 561, 2032, 1511, 1432, 265, 825, 1884, 1701, 1508, 1595, 1597, 1597, 1597, 1597, 825, 392, 1718, 1610, 224, 1526, 1701, 1701, 615, 1526, 1417, 1711, 1727, 1727, 1767, 224, 1767, 1769, 1073, 1815, 2147, 1767, 1767, 1787, 393, 393, 393, 1787, 2194, 1718, 1727, 670, 249, 852, 1099, 1529, 1942, 1295, 2024, 1787, 2032, 1787, 1787, 1427, 2103, 813, 2147, 2147, 2147, 2147, 2147, 418, 1373, 2194, 1529, 1683, 2194, 2194]\n",
            "[62, 74, 85, 91, 97, 189, 189, 189, 224, 224, 224, 233, 233, 233, 233, 233, 249, 250, 301, 504, 561, 620, 739, 749, 749, 749, 791, 791, 791, 792, 813, 818, 822, 822, 824, 824, 825, 852, 923, 936, 945, 974, 974, 974, 974, 974, 978, 978, 989, 1019, 1062, 1062, 1073, 1096, 1099, 1099, 1099, 1136, 1136, 1163, 1196, 1230, 1265, 1283, 1295, 1295, 1319, 1325, 1325, 1356, 1373, 1432, 1432, 1432, 1432, 1484, 1507, 1507, 1508, 1595, 1597, 1597, 1597, 1597, 1599, 1599, 1610, 1610, 1610, 1701, 1701, 1701, 1701, 1701, 1711, 1711, 1718, 1718, 1718, 1718, 1718, 1718, 1727, 1767, 1767, 1767, 1767, 1787, 1787, 1787, 1787, 1787, 1787, 1798, 1815, 1873, 1884, 1925, 1936, 1942, 1942, 2024, 2024, 2032, 2032, 2032, 2032, 2074, 2103, 2125, 2147, 2147, 2147, 2147, 2147, 2149, 2149, 2149, 2149, 2168, 2194, 2194]\n"
          ],
          "name": "stdout"
        }
      ]
    },
    {
      "cell_type": "code",
      "metadata": {
        "id": "XIC4zufnMxtq",
        "outputId": "08027f8f-0b79-4483-fa33-254e69a8761b",
        "colab": {
          "base_uri": "https://localhost:8080/"
        }
      },
      "source": [
        "correct_num = 0\n",
        "\n",
        "for i in range(0, len(standard_list)):\n",
        "  if predict_list[i] == standard_list[i]:\n",
        "    correct_num = correct_num+1\n",
        "  else:\n",
        "    pass\n",
        "print(correct_num)\n",
        "\n",
        "predict_accuracy = correct_num/len(predict_list)\n",
        "print(predict_accuracy)"
      ],
      "execution_count": 50,
      "outputs": [
        {
          "output_type": "stream",
          "text": [
            "50\n",
            "0.352112676056338\n"
          ],
          "name": "stdout"
        }
      ]
    },
    {
      "cell_type": "code",
      "metadata": {
        "id": "zlKMHp1CIaRJ"
      },
      "source": [
        ""
      ],
      "execution_count": 50,
      "outputs": []
    }
  ]
}