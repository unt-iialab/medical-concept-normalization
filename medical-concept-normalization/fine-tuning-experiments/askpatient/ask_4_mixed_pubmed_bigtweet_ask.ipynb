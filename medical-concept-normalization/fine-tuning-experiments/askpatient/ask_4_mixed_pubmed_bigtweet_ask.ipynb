{
  "nbformat": 4,
  "nbformat_minor": 0,
  "metadata": {
    "accelerator": "TPU",
    "colab": {
      "name": "ask_4_mixed_pubmed_bigtweet_ask.ipynb",
      "provenance": [],
      "collapsed_sections": [],
      "toc_visible": true,
      "include_colab_link": true
    },
    "kernelspec": {
      "display_name": "Python 3",
      "name": "python3"
    }
  },
  "cells": [
    {
      "cell_type": "markdown",
      "metadata": {
        "id": "view-in-github",
        "colab_type": "text"
      },
      "source": [
        "<a href=\"https://colab.research.google.com/github/unt-iialab/medical-concept-normalization/blob/master/medical-concept-normalization/fine-tuning-experiments/askpatient/ask_4_mixed_pubmed_bigtweet_ask.ipynb\" target=\"_parent\"><img src=\"https://colab.research.google.com/assets/colab-badge.svg\" alt=\"Open In Colab\"/></a>"
      ]
    },
    {
      "cell_type": "code",
      "metadata": {
        "id": "adSi6i2-dWxy"
      },
      "source": [
        "import os"
      ],
      "execution_count": 1,
      "outputs": []
    },
    {
      "cell_type": "code",
      "metadata": {
        "id": "E7xYCRGPjd9B"
      },
      "source": [
        "base_dir = 'medical-concept-normalization'"
      ],
      "execution_count": 2,
      "outputs": []
    },
    {
      "cell_type": "code",
      "metadata": {
        "id": "yvIW3aUDjYNS"
      },
      "source": [
        "os.mkdir(base_dir)"
      ],
      "execution_count": 3,
      "outputs": []
    },
    {
      "cell_type": "code",
      "metadata": {
        "id": "es-FFLlfk6SG"
      },
      "source": [
        "os.mkdir('medical-concept-normalization/data_collection')"
      ],
      "execution_count": 4,
      "outputs": []
    },
    {
      "cell_type": "markdown",
      "metadata": {
        "id": "0R-Guw_VoJXm"
      },
      "source": [
        "**Install fastai and clone the fastai for text classification**\n",
        "\n"
      ]
    },
    {
      "cell_type": "code",
      "metadata": {
        "id": "QVZa3Z0PmHFH",
        "outputId": "d4b3d902-c9d4-4397-830e-ed266dffcda8",
        "colab": {
          "base_uri": "https://localhost:8080/",
          "height": 68
        }
      },
      "source": [
        "!curl https://course-v3.fast.ai/setup/colab | bash"
      ],
      "execution_count": 5,
      "outputs": [
        {
          "output_type": "stream",
          "text": [
            "  % Total    % Received % Xferd  Average Speed   Time    Time     Time  Current\n",
            "                                 Dload  Upload   Total   Spent    Left  Speed\n",
            "\r  0     0    0     0    0     0      0      0 --:--:-- --:--:-- --:--:--     0curl: (6) Could not resolve host: course-v3.fast.ai\n"
          ],
          "name": "stdout"
        }
      ]
    },
    {
      "cell_type": "code",
      "metadata": {
        "id": "_FBFFEBrmJC0",
        "outputId": "3d30f816-556e-4980-c6c2-40af65007c28",
        "colab": {
          "base_uri": "https://localhost:8080/",
          "height": 85
        }
      },
      "source": [
        "!git clone https://github.com/wshuyi/demo-nlp-classification-fastai.git"
      ],
      "execution_count": 6,
      "outputs": [
        {
          "output_type": "stream",
          "text": [
            "Cloning into 'demo-nlp-classification-fastai'...\n",
            "remote: Enumerating objects: 9, done.\u001b[K\n",
            "remote: Total 9 (delta 0), reused 0 (delta 0), pack-reused 9\u001b[K\n",
            "Unpacking objects: 100% (9/9), done.\n"
          ],
          "name": "stdout"
        }
      ]
    },
    {
      "cell_type": "code",
      "metadata": {
        "id": "66zfh_JqmWMU"
      },
      "source": [
        "from fastai import *\n",
        "from fastai.text import *"
      ],
      "execution_count": 7,
      "outputs": []
    },
    {
      "cell_type": "markdown",
      "metadata": {
        "id": "mNIw-yALdBU9"
      },
      "source": [
        "**Set the path of the data collections**"
      ]
    },
    {
      "cell_type": "code",
      "metadata": {
        "id": "pzH7VMh4mqCL"
      },
      "source": [
        "path = Path('medical-concept-normalization/data_collection')"
      ],
      "execution_count": 8,
      "outputs": []
    },
    {
      "cell_type": "code",
      "metadata": {
        "id": "b8fjI6yyn4aS"
      },
      "source": [
        "# training data set\n",
        "\n",
        "train_csv = path/'AskAPatient.fold-4.train.csv'\n",
        "train = pd.read_csv(train_csv, header=None)\n",
        "#train.head()\n",
        "#train.info()"
      ],
      "execution_count": 10,
      "outputs": []
    },
    {
      "cell_type": "code",
      "metadata": {
        "id": "Hmlr-bAorfHd",
        "outputId": "81830c12-ff0c-4706-b073-db197b668fdc",
        "colab": {
          "base_uri": "https://localhost:8080/",
          "height": 204
        }
      },
      "source": [
        "# validating data set\n",
        "\n",
        "valid = pd.read_csv(path/\"AskAPatient.fold-4.validation.csv\",header=None)\n",
        "valid.head()"
      ],
      "execution_count": 11,
      "outputs": [
        {
          "output_type": "execute_result",
          "data": {
            "text/html": [
              "<div>\n",
              "<style scoped>\n",
              "    .dataframe tbody tr th:only-of-type {\n",
              "        vertical-align: middle;\n",
              "    }\n",
              "\n",
              "    .dataframe tbody tr th {\n",
              "        vertical-align: top;\n",
              "    }\n",
              "\n",
              "    .dataframe thead th {\n",
              "        text-align: right;\n",
              "    }\n",
              "</style>\n",
              "<table border=\"1\" class=\"dataframe\">\n",
              "  <thead>\n",
              "    <tr style=\"text-align: right;\">\n",
              "      <th></th>\n",
              "      <th>0</th>\n",
              "      <th>1</th>\n",
              "    </tr>\n",
              "  </thead>\n",
              "  <tbody>\n",
              "    <tr>\n",
              "      <th>0</th>\n",
              "      <td>6</td>\n",
              "      <td>diastolic dysfunction</td>\n",
              "    </tr>\n",
              "    <tr>\n",
              "      <th>1</th>\n",
              "      <td>8</td>\n",
              "      <td>ARTHRITIS</td>\n",
              "    </tr>\n",
              "    <tr>\n",
              "      <th>2</th>\n",
              "      <td>8</td>\n",
              "      <td>arthritis</td>\n",
              "    </tr>\n",
              "    <tr>\n",
              "      <th>3</th>\n",
              "      <td>8</td>\n",
              "      <td>arthritis</td>\n",
              "    </tr>\n",
              "    <tr>\n",
              "      <th>4</th>\n",
              "      <td>8</td>\n",
              "      <td>arthritis</td>\n",
              "    </tr>\n",
              "  </tbody>\n",
              "</table>\n",
              "</div>"
            ],
            "text/plain": [
              "   0                      1\n",
              "0  6  diastolic dysfunction\n",
              "1  8              ARTHRITIS\n",
              "2  8              arthritis\n",
              "3  8              arthritis\n",
              "4  8              arthritis"
            ]
          },
          "metadata": {
            "tags": []
          },
          "execution_count": 11
        }
      ]
    },
    {
      "cell_type": "code",
      "metadata": {
        "id": "cOza9dfSsBud",
        "outputId": "cfb23ec8-f5a0-43e1-d02e-00451fa7eecf",
        "colab": {
          "base_uri": "https://localhost:8080/",
          "height": 204
        }
      },
      "source": [
        "# testing data set\n",
        "\n",
        "test = pd.read_csv(path/\"AskAPatient.fold-4.test.csv\",header=None)\n",
        "test.head()"
      ],
      "execution_count": 12,
      "outputs": [
        {
          "output_type": "execute_result",
          "data": {
            "text/html": [
              "<div>\n",
              "<style scoped>\n",
              "    .dataframe tbody tr th:only-of-type {\n",
              "        vertical-align: middle;\n",
              "    }\n",
              "\n",
              "    .dataframe tbody tr th {\n",
              "        vertical-align: top;\n",
              "    }\n",
              "\n",
              "    .dataframe thead th {\n",
              "        text-align: right;\n",
              "    }\n",
              "</style>\n",
              "<table border=\"1\" class=\"dataframe\">\n",
              "  <thead>\n",
              "    <tr style=\"text-align: right;\">\n",
              "      <th></th>\n",
              "      <th>0</th>\n",
              "      <th>1</th>\n",
              "    </tr>\n",
              "  </thead>\n",
              "  <tbody>\n",
              "    <tr>\n",
              "      <th>0</th>\n",
              "      <td>4</td>\n",
              "      <td>purple sploches around waist</td>\n",
              "    </tr>\n",
              "    <tr>\n",
              "      <th>1</th>\n",
              "      <td>6</td>\n",
              "      <td>stage 1 diastolic dysfunction</td>\n",
              "    </tr>\n",
              "    <tr>\n",
              "      <th>2</th>\n",
              "      <td>8</td>\n",
              "      <td>arthritis</td>\n",
              "    </tr>\n",
              "    <tr>\n",
              "      <th>3</th>\n",
              "      <td>12</td>\n",
              "      <td>shingles</td>\n",
              "    </tr>\n",
              "    <tr>\n",
              "      <th>4</th>\n",
              "      <td>16</td>\n",
              "      <td>flu</td>\n",
              "    </tr>\n",
              "  </tbody>\n",
              "</table>\n",
              "</div>"
            ],
            "text/plain": [
              "    0                              1\n",
              "0   4   purple sploches around waist\n",
              "1   6  stage 1 diastolic dysfunction\n",
              "2   8                      arthritis\n",
              "3  12                       shingles\n",
              "4  16                            flu"
            ]
          },
          "metadata": {
            "tags": []
          },
          "execution_count": 12
        }
      ]
    },
    {
      "cell_type": "code",
      "metadata": {
        "id": "Vo-YNvVYoaH6",
        "outputId": "230233a1-20af-4a49-d441-4200650a9a06",
        "colab": {
          "base_uri": "https://localhost:8080/",
          "height": 17
        }
      },
      "source": [
        "# Creating DataBunch for language modelling\n",
        "\n",
        "data_lm = TextLMDataBunch.from_csv(path, 'mixed_pubmed_bigtweet_askpatient.csv')"
      ],
      "execution_count": 13,
      "outputs": [
        {
          "output_type": "display_data",
          "data": {
            "text/html": [
              ""
            ],
            "text/plain": [
              "<IPython.core.display.HTML object>"
            ]
          },
          "metadata": {
            "tags": []
          }
        },
        {
          "output_type": "display_data",
          "data": {
            "text/html": [
              ""
            ],
            "text/plain": [
              "<IPython.core.display.HTML object>"
            ]
          },
          "metadata": {
            "tags": []
          }
        }
      ]
    },
    {
      "cell_type": "code",
      "metadata": {
        "id": "qcV-9kMnNLBf"
      },
      "source": [
        ""
      ],
      "execution_count": 13,
      "outputs": []
    },
    {
      "cell_type": "code",
      "metadata": {
        "id": "1ScY9afDsnvE"
      },
      "source": [
        "# Creating DataBunch for classification\n",
        "\n",
        "# data_clas = TextClasDataBunch.from_df(path, train, valid, test, vocab=data_lm.train_ds.vocab, bs=128)"
      ],
      "execution_count": 14,
      "outputs": []
    },
    {
      "cell_type": "code",
      "metadata": {
        "id": "gzrSdQcvey9p",
        "outputId": "58b84fe0-9ce2-4aed-e54e-47869cc7fe83",
        "colab": {
          "base_uri": "https://localhost:8080/",
          "height": 17
        }
      },
      "source": [
        "data_clas = TextClasDataBunch.from_df(path, train, valid, vocab=data_lm.train_ds.vocab, bs=128)"
      ],
      "execution_count": 15,
      "outputs": [
        {
          "output_type": "display_data",
          "data": {
            "text/html": [
              ""
            ],
            "text/plain": [
              "<IPython.core.display.HTML object>"
            ]
          },
          "metadata": {
            "tags": []
          }
        },
        {
          "output_type": "display_data",
          "data": {
            "text/html": [
              ""
            ],
            "text/plain": [
              "<IPython.core.display.HTML object>"
            ]
          },
          "metadata": {
            "tags": []
          }
        }
      ]
    },
    {
      "cell_type": "code",
      "metadata": {
        "id": "MD27Tf0Ke3ou",
        "outputId": "708cc3fe-3c4a-42bb-9490-26f991c6f783",
        "colab": {
          "base_uri": "https://localhost:8080/",
          "height": 17
        }
      },
      "source": [
        "data_clas.add_test(test,label=0)\n"
      ],
      "execution_count": 16,
      "outputs": [
        {
          "output_type": "display_data",
          "data": {
            "text/html": [
              ""
            ],
            "text/plain": [
              "<IPython.core.display.HTML object>"
            ]
          },
          "metadata": {
            "tags": []
          }
        }
      ]
    },
    {
      "cell_type": "code",
      "metadata": {
        "id": "-dpjnk_rstwk"
      },
      "source": [
        "data_lm.save()\n",
        "data_clas.save()"
      ],
      "execution_count": 17,
      "outputs": []
    },
    {
      "cell_type": "code",
      "metadata": {
        "id": "4OkiJa36sw5s",
        "outputId": "041c8adf-d7b6-481d-9bbb-64a4bb35ab79",
        "colab": {
          "base_uri": "https://localhost:8080/",
          "height": 1000
        }
      },
      "source": [
        "data_lm.train_ds.vocab.itos"
      ],
      "execution_count": 18,
      "outputs": [
        {
          "output_type": "execute_result",
          "data": {
            "text/plain": [
              "['xxunk',\n",
              " 'xxpad',\n",
              " 'xxbos',\n",
              " 'xxeos',\n",
              " 'xxfld',\n",
              " 'xxmaj',\n",
              " 'xxup',\n",
              " 'xxrep',\n",
              " 'xxwrep',\n",
              " 'pain',\n",
              " 'of',\n",
              " 'the',\n",
              " 'in',\n",
              " 'lipitor',\n",
              " 'and',\n",
              " 'to',\n",
              " 'a',\n",
              " 'muscle',\n",
              " 'with',\n",
              " 'for',\n",
              " 'was',\n",
              " 'diclofenac',\n",
              " 'were',\n",
              " 'severe',\n",
              " 'on',\n",
              " 'my',\n",
              " 'is',\n",
              " 'myalgia',\n",
              " 'lower',\n",
              " 'rt',\n",
              " 'fatigue',\n",
              " 'loss',\n",
              " 'by',\n",
              " 'cramp',\n",
              " 'limb',\n",
              " 'sodium',\n",
              " 'weakness',\n",
              " 'at',\n",
              " 'disease',\n",
              " 'stomach',\n",
              " 'that',\n",
              " 'or',\n",
              " 'as',\n",
              " 'back',\n",
              " 'depression',\n",
              " '-',\n",
              " 'from',\n",
              " 'patients',\n",
              " 'i',\n",
              " 'not',\n",
              " 'this',\n",
              " 'cramps',\n",
              " 'upper',\n",
              " 'gas',\n",
              " 'joint',\n",
              " 'drug',\n",
              " 'memory',\n",
              " 'mg',\n",
              " 'leg',\n",
              " 'you',\n",
              " 'all',\n",
              " 'pains',\n",
              " 'legs',\n",
              " 'headache',\n",
              " 'are',\n",
              " 'knee',\n",
              " 'be',\n",
              " 'group',\n",
              " 'shoulder',\n",
              " 'unable',\n",
              " 'study',\n",
              " 'gastrointestinal',\n",
              " 'arthralgia',\n",
              " 'foot',\n",
              " 'neck',\n",
              " 'excessive',\n",
              " 'treatment',\n",
              " 'after',\n",
              " 'arthritis',\n",
              " 'aches',\n",
              " 'it',\n",
              " 'an',\n",
              " 'amp',\n",
              " 'hip',\n",
              " 'have',\n",
              " 'voltaren',\n",
              " 'like',\n",
              " 'numbness',\n",
              " 'insomnia',\n",
              " 'p',\n",
              " 'increased',\n",
              " 'arthrotec',\n",
              " 'release',\n",
              " '/',\n",
              " 'bleeding',\n",
              " 'no',\n",
              " 'time',\n",
              " 'nausea',\n",
              " 'both',\n",
              " 'can',\n",
              " 'abdominal',\n",
              " 'gluten',\n",
              " 'walk',\n",
              " 'heart',\n",
              " 'asthenia',\n",
              " 'skin',\n",
              " 'tired',\n",
              " 'swelling',\n",
              " 'could',\n",
              " 'dizziness',\n",
              " 'feeling',\n",
              " 'blood',\n",
              " 'high',\n",
              " 'walking',\n",
              " 'than',\n",
              " 'we',\n",
              " 'up',\n",
              " 'feet',\n",
              " 'problems',\n",
              " 'out',\n",
              " 'effect',\n",
              " 'hand',\n",
              " 'difficulty',\n",
              " 'muscles',\n",
              " 'low',\n",
              " 'cholesterol',\n",
              " 'free',\n",
              " 'compared',\n",
              " 'more',\n",
              " 'acid',\n",
              " 'chest',\n",
              " 'stiffness',\n",
              " 'hair',\n",
              " 'extreme',\n",
              " 'vision',\n",
              " 'backache',\n",
              " 'using',\n",
              " 'very',\n",
              " 'zocor',\n",
              " 'new',\n",
              " 'ache',\n",
              " 'liver',\n",
              " 'weight',\n",
              " 'inflammatory',\n",
              " 'right',\n",
              " 'groups',\n",
              " 'burning',\n",
              " 'your',\n",
              " 'effects',\n",
              " 'pins',\n",
              " 'needles',\n",
              " 'between',\n",
              " 'diarrhoea',\n",
              " 'sleep',\n",
              " 'our',\n",
              " 'cramping',\n",
              " 'two',\n",
              " 'day',\n",
              " 'has',\n",
              " 'use',\n",
              " 'its',\n",
              " 'about',\n",
              " 'significantly',\n",
              " 'amnesia',\n",
              " 'concentration',\n",
              " 'significant',\n",
              " 'impairment',\n",
              " 'h',\n",
              " 'potassium',\n",
              " 'drugs',\n",
              " 'calf',\n",
              " 'left',\n",
              " 'c',\n",
              " 'these',\n",
              " 'but',\n",
              " 'had',\n",
              " 'anxiety',\n",
              " 'disability',\n",
              " 'tingling',\n",
              " 'one',\n",
              " 'anti',\n",
              " 'which',\n",
              " 'short',\n",
              " 'symptom',\n",
              " 'term',\n",
              " 'used',\n",
              " 'dose',\n",
              " 'do',\n",
              " 'lack',\n",
              " 'stiff',\n",
              " 'results',\n",
              " 's',\n",
              " 'placebo',\n",
              " 'nt',\n",
              " 'pressure',\n",
              " 'bloating',\n",
              " 'also',\n",
              " 'constipation',\n",
              " 'days',\n",
              " 'when',\n",
              " 'so',\n",
              " 'over',\n",
              " 'glutenfree',\n",
              " 'what',\n",
              " 'body',\n",
              " 'efficacy',\n",
              " 'arm',\n",
              " 'disorder',\n",
              " 'poor',\n",
              " 'may',\n",
              " 'there',\n",
              " 'w',\n",
              " 'headaches',\n",
              " 'reduced',\n",
              " 'neuropathy',\n",
              " 'ds',\n",
              " 'arms',\n",
              " 'm',\n",
              " 'hands',\n",
              " 'been',\n",
              " 'sore',\n",
              " 'blurred',\n",
              " 'ml',\n",
              " 'acute',\n",
              " 'celiac',\n",
              " 'showed',\n",
              " 'ankle',\n",
              " 'treated',\n",
              " 'now',\n",
              " 'balance',\n",
              " 'visual',\n",
              " 'get',\n",
              " 'serum',\n",
              " 'symptoms',\n",
              " 'well',\n",
              " 'topical',\n",
              " 'food',\n",
              " 'products',\n",
              " 'joints',\n",
              " 'tiredness',\n",
              " 'different',\n",
              " 'control',\n",
              " 'into',\n",
              " 'renal',\n",
              " 'pravachol',\n",
              " 'oral',\n",
              " 'rash',\n",
              " 'rats',\n",
              " 'administration',\n",
              " 'myocardial',\n",
              " 'vaginal',\n",
              " 'infarction',\n",
              " 'their',\n",
              " 'sensation',\n",
              " 'during',\n",
              " 'hurt',\n",
              " 'how',\n",
              " 'via',\n",
              " 'studies',\n",
              " 'non',\n",
              " 'diabetes',\n",
              " 'test',\n",
              " 'myositis',\n",
              " 'mentally',\n",
              " 'vertigo',\n",
              " 'atrophy',\n",
              " 'attack',\n",
              " 'energy',\n",
              " 'rate',\n",
              " 'damage',\n",
              " 'generalised',\n",
              " 'painful',\n",
              " 'who',\n",
              " 'itching',\n",
              " 'clinical',\n",
              " 'other',\n",
              " 'did',\n",
              " 'decreased',\n",
              " 'if',\n",
              " 'swollen',\n",
              " 'respectively',\n",
              " 'induced',\n",
              " 'type',\n",
              " 'found',\n",
              " 'upset',\n",
              " 'constant',\n",
              " 'first',\n",
              " 'post',\n",
              " 'tablets',\n",
              " 'atorvastatin',\n",
              " 'diet',\n",
              " 'plasma',\n",
              " 'levels',\n",
              " \"'s\",\n",
              " 'gel',\n",
              " 'diarrhea',\n",
              " 'formulation',\n",
              " 'nsaids',\n",
              " 'dry',\n",
              " 'ph',\n",
              " ')',\n",
              " ',',\n",
              " 'hours',\n",
              " 'mean',\n",
              " 'illness',\n",
              " 'formulations',\n",
              " 'syndrome',\n",
              " 'method',\n",
              " 'those',\n",
              " 'chronic',\n",
              " 'me',\n",
              " 'gain',\n",
              " 'only',\n",
              " 'n',\n",
              " 'effective',\n",
              " 'raised',\n",
              " 'eye',\n",
              " 'review',\n",
              " 'shoulders',\n",
              " 'observed',\n",
              " 'ubidecarenone',\n",
              " 'feel',\n",
              " 'period',\n",
              " 'tip',\n",
              " 'dull',\n",
              " 'present',\n",
              " 'influenza',\n",
              " 'solution',\n",
              " 'g',\n",
              " 'elevated',\n",
              " 'three',\n",
              " \"n't\",\n",
              " 'movement',\n",
              " 'urine',\n",
              " 'hazy',\n",
              " 'weak',\n",
              " 'spasm',\n",
              " 'each',\n",
              " 'bad',\n",
              " 'adverse',\n",
              " '(',\n",
              " 'elbow',\n",
              " 'd',\n",
              " 'received',\n",
              " 'kidney',\n",
              " 'vitro',\n",
              " 'sleeping',\n",
              " 'controlled',\n",
              " 'side',\n",
              " 'less',\n",
              " 'increase',\n",
              " 'discomfort',\n",
              " 'heavy',\n",
              " 'ibuprofen',\n",
              " 'tablet',\n",
              " 'analysis',\n",
              " 'week',\n",
              " 'most',\n",
              " 'activity',\n",
              " 'tendonitis',\n",
              " 'system',\n",
              " 'just',\n",
              " 'level',\n",
              " 'exhaustion',\n",
              " 'daily',\n",
              " 'some',\n",
              " 'crestor',\n",
              " 'kg',\n",
              " 'data',\n",
              " 'toe',\n",
              " 'vomiting',\n",
              " 'myopathy',\n",
              " 'problem',\n",
              " 'dblclick',\n",
              " 'mood',\n",
              " 'they',\n",
              " 'migraine',\n",
              " 'abnormal',\n",
              " 'pic',\n",
              " 'flatulence',\n",
              " 'before',\n",
              " 'spasms',\n",
              " 'concentrations',\n",
              " 'concentrate',\n",
              " 'sclerosis',\n",
              " 'knees',\n",
              " 'function',\n",
              " 'irritable',\n",
              " 'single',\n",
              " 'model',\n",
              " 'randomized',\n",
              " 'following',\n",
              " 'analgesic',\n",
              " 'ca',\n",
              " 'libido',\n",
              " 'throat',\n",
              " 'thigh',\n",
              " 'patient',\n",
              " 'inflammation',\n",
              " 'bed',\n",
              " 'l',\n",
              " 'reflux',\n",
              " 'years',\n",
              " 'b',\n",
              " 'flu',\n",
              " 'brain',\n",
              " 'why',\n",
              " 'however',\n",
              " 'good',\n",
              " 'fibromyalgia',\n",
              " 'multiple',\n",
              " 'injury',\n",
              " 'eyes',\n",
              " 'evaluated',\n",
              " 'water',\n",
              " 'total',\n",
              " 'nsaid',\n",
              " 'surgery',\n",
              " 'mellitus',\n",
              " 'similar',\n",
              " 'obtained',\n",
              " 'changes',\n",
              " 'mild',\n",
              " 'higher',\n",
              " 'here',\n",
              " 'cold',\n",
              " 'osteoarthritis',\n",
              " 'therapy',\n",
              " 'under',\n",
              " 'difference',\n",
              " 'will',\n",
              " 'weeks',\n",
              " 't',\n",
              " 'based',\n",
              " 'think',\n",
              " 'simvastatin',\n",
              " 'due',\n",
              " 'check',\n",
              " 'double',\n",
              " 'know',\n",
              " 'failure',\n",
              " 'menstrual',\n",
              " 'head',\n",
              " 'healthy',\n",
              " 'while',\n",
              " 'malaise',\n",
              " 'off',\n",
              " 'relief',\n",
              " 'any',\n",
              " 'cells',\n",
              " 'should',\n",
              " 'prepared',\n",
              " 'lightheadedness',\n",
              " 'postoperative',\n",
              " 'disturbance',\n",
              " 'hips',\n",
              " 'tremor',\n",
              " 'dissolution',\n",
              " 'cell',\n",
              " 'sweating',\n",
              " 'oil',\n",
              " 'peripheral',\n",
              " 'associated',\n",
              " 'application',\n",
              " 'wind',\n",
              " 'swings',\n",
              " 'area',\n",
              " 'confusion',\n",
              " 'esters',\n",
              " 'administered',\n",
              " 'appetite',\n",
              " 'order',\n",
              " 'studied',\n",
              " 'love',\n",
              " 'blind',\n",
              " 'help',\n",
              " 'being',\n",
              " 'ezetimibe',\n",
              " 'aching',\n",
              " 'vs',\n",
              " 'trial',\n",
              " 'combination',\n",
              " 'celebrex',\n",
              " 'general',\n",
              " 'stairs',\n",
              " 'eat',\n",
              " 'min',\n",
              " 'gastric',\n",
              " 'soreness',\n",
              " 'impaired',\n",
              " 'events',\n",
              " 'tinnitus',\n",
              " 'finger',\n",
              " 'differences',\n",
              " 'given',\n",
              " 'infection',\n",
              " 'ascorbic',\n",
              " 'intolerance',\n",
              " 'great',\n",
              " 'such',\n",
              " 'life',\n",
              " 'doses',\n",
              " 'change',\n",
              " 'paraesthesia',\n",
              " 'calves',\n",
              " 'rheumatoid',\n",
              " 'response',\n",
              " 're',\n",
              " 'four',\n",
              " 'reported',\n",
              " 'investigated',\n",
              " 'conditions',\n",
              " 'night',\n",
              " 'through',\n",
              " 'values',\n",
              " 'down',\n",
              " 'make',\n",
              " 'toes',\n",
              " 'coated',\n",
              " 'heel',\n",
              " 'times',\n",
              " 'vitamin',\n",
              " 'stress',\n",
              " 'e',\n",
              " 'ankles',\n",
              " 'reduction',\n",
              " 'motivation',\n",
              " 'face',\n",
              " 'need',\n",
              " 'sensitivity',\n",
              " 'strength',\n",
              " 'paracetamol',\n",
              " 'better',\n",
              " 'going',\n",
              " 'nonsteroidal',\n",
              " 'thanks',\n",
              " 'x',\n",
              " 'performed',\n",
              " 'swallowing',\n",
              " '1',\n",
              " 'charleyhorse',\n",
              " 'containing',\n",
              " 'properties',\n",
              " 'within',\n",
              " 'phase',\n",
              " 'range',\n",
              " 'without',\n",
              " 'does',\n",
              " 'developed',\n",
              " 'lateral',\n",
              " 'rapid',\n",
              " 'cough',\n",
              " 'parameters',\n",
              " 'gfb',\n",
              " 'urinary',\n",
              " 'always',\n",
              " 'subjects',\n",
              " '2',\n",
              " 'people',\n",
              " 'parkinson',\n",
              " 'hot',\n",
              " 'dyspnoea',\n",
              " 'safety',\n",
              " 'v',\n",
              " 'lupus',\n",
              " 'enzymes',\n",
              " 'recipe',\n",
              " 'risk',\n",
              " 'indigestion',\n",
              " 'us',\n",
              " 'depressed',\n",
              " 'dark',\n",
              " 'delivery',\n",
              " 'taste',\n",
              " 'minutes',\n",
              " 'absorption',\n",
              " 'excruciating',\n",
              " 'intense',\n",
              " 'felt',\n",
              " 'either',\n",
              " '30',\n",
              " 'ratio',\n",
              " 'palpitations',\n",
              " 'assessed',\n",
              " 'posted',\n",
              " 'potential',\n",
              " 'fingers',\n",
              " 'tightness',\n",
              " 'tendon',\n",
              " 'related',\n",
              " 'nerve',\n",
              " 'number',\n",
              " 'indomethacin',\n",
              " 'auc',\n",
              " 'speech',\n",
              " 'decrease',\n",
              " 'size',\n",
              " 'menopause',\n",
              " 'show',\n",
              " 'mm',\n",
              " 'heres',\n",
              " 'measured',\n",
              " 'samples',\n",
              " 'getting',\n",
              " 'ii',\n",
              " 'ng',\n",
              " 'included',\n",
              " 'form',\n",
              " 'liquid',\n",
              " 'restless',\n",
              " 'compare',\n",
              " 'injection',\n",
              " 'advil',\n",
              " 'steroidal',\n",
              " 'fish',\n",
              " 'year',\n",
              " 'medication',\n",
              " 'scale',\n",
              " 'active',\n",
              " 'development',\n",
              " 'read',\n",
              " 'evaluate',\n",
              " 'long',\n",
              " 'oa',\n",
              " 'vivo',\n",
              " 'primary',\n",
              " 'many',\n",
              " 'process',\n",
              " 'major',\n",
              " 'jennieo',\n",
              " 'co',\n",
              " 'health',\n",
              " 'applied',\n",
              " 'aqueous',\n",
              " 'ulcer',\n",
              " 'every',\n",
              " 'statistically',\n",
              " 'available',\n",
              " 'moderate',\n",
              " 'then',\n",
              " 'best',\n",
              " 'even',\n",
              " 'reaction',\n",
              " 'twitch',\n",
              " 'much',\n",
              " 'gout',\n",
              " 'limbs',\n",
              " '3',\n",
              " 'therapeutic',\n",
              " 'bioavailability',\n",
              " 'edema',\n",
              " 'human',\n",
              " 'big',\n",
              " 'wrist',\n",
              " 'normal',\n",
              " 'colic',\n",
              " 'drowsy',\n",
              " 'ability',\n",
              " 'k',\n",
              " 'scores',\n",
              " 'dreams',\n",
              " 'overall',\n",
              " '\\r \\n ',\n",
              " 'aspirin',\n",
              " 'misoprostol',\n",
              " 'tips',\n",
              " 'baseline',\n",
              " 'living',\n",
              " 'light',\n",
              " 'trouble',\n",
              " 'same',\n",
              " 'terrible',\n",
              " 'sustained',\n",
              " 'bone',\n",
              " 'heartburn',\n",
              " 'addition',\n",
              " 'would',\n",
              " 'determined',\n",
              " 'archives',\n",
              " 'amyotrophic',\n",
              " 'creatinine',\n",
              " 'greater',\n",
              " 'tract',\n",
              " 'tissue',\n",
              " 'clearly',\n",
              " 'provoked',\n",
              " 'tolerability',\n",
              " 'important',\n",
              " 'go',\n",
              " 'months',\n",
              " 'news',\n",
              " 'because',\n",
              " 'hypertension',\n",
              " 'dependent',\n",
              " 'fever',\n",
              " 'breathing',\n",
              " 'fog',\n",
              " 'aim',\n",
              " 'sinus',\n",
              " 'attacks',\n",
              " 'bowel',\n",
              " 'matrix',\n",
              " 'made',\n",
              " 'dosage',\n",
              " 'tested',\n",
              " 'uterine',\n",
              " 'mobility',\n",
              " 'chicken',\n",
              " 'polymer',\n",
              " 'action',\n",
              " 'twitching',\n",
              " 'end',\n",
              " 'male',\n",
              " 'mouth',\n",
              " 'initial',\n",
              " 'breath',\n",
              " 'nasal',\n",
              " 'caused',\n",
              " 'demonstrated',\n",
              " 'intensity',\n",
              " 'find',\n",
              " 'na',\n",
              " 'fenofibrate',\n",
              " 'article',\n",
              " 'o',\n",
              " '10',\n",
              " 'inhibitor',\n",
              " 'treatments',\n",
              " 'move',\n",
              " 'month',\n",
              " 'protein',\n",
              " 'suggest',\n",
              " 'animals',\n",
              " 'revealed',\n",
              " 'generally',\n",
              " 'take',\n",
              " 'cd',\n",
              " 'coq10',\n",
              " 'mice',\n",
              " 'horses',\n",
              " 'agent',\n",
              " 'where',\n",
              " 'trials',\n",
              " 'safe',\n",
              " 'moody',\n",
              " 'although',\n",
              " 'including',\n",
              " 'permeation',\n",
              " 'today',\n",
              " 'thighs',\n",
              " 'shown',\n",
              " 'per',\n",
              " 'exercise',\n",
              " 'age',\n",
              " 'whereas',\n",
              " 'cox',\n",
              " 'mechanism',\n",
              " 'local',\n",
              " 'formation',\n",
              " 'cancer',\n",
              " 'finding',\n",
              " 'care',\n",
              " 'inhibition',\n",
              " '5',\n",
              " 'followed',\n",
              " 'still',\n",
              " 'sharp',\n",
              " 'surface',\n",
              " 'randomly',\n",
              " 'cerebrovascular',\n",
              " 'f',\n",
              " 'indicated',\n",
              " 'sick',\n",
              " 'lethargy',\n",
              " 'fast',\n",
              " 'content',\n",
              " 'tolerated',\n",
              " 'share',\n",
              " 'alone',\n",
              " 'follow',\n",
              " 'loose',\n",
              " 'started',\n",
              " 'volunteers',\n",
              " 'profiles',\n",
              " 'determine',\n",
              " 'aleve',\n",
              " 'improvement',\n",
              " 'common',\n",
              " 'six',\n",
              " 'tight',\n",
              " 'panic',\n",
              " 'pulse',\n",
              " 'part',\n",
              " 'accident',\n",
              " 'lost',\n",
              " 'issues',\n",
              " 'elbows',\n",
              " 'diagnosis',\n",
              " 'intestinal',\n",
              " 'conducted',\n",
              " 'divided',\n",
              " 'alpha',\n",
              " 'want',\n",
              " 'various',\n",
              " 'numb',\n",
              " 'presence',\n",
              " 'sensitive',\n",
              " 'case',\n",
              " 'charley',\n",
              " 'tylenol',\n",
              " 'eating',\n",
              " 'agents',\n",
              " 'plantar',\n",
              " '+',\n",
              " 'hour',\n",
              " 'standard',\n",
              " 'too',\n",
              " 'physical',\n",
              " 'plus',\n",
              " 'morning',\n",
              " 'cm',\n",
              " 'ever',\n",
              " 'natural',\n",
              " 'onset',\n",
              " 'way',\n",
              " 'sugar',\n",
              " 'congestion',\n",
              " 'corneal',\n",
              " 'happy',\n",
              " 'further',\n",
              " 'slurred',\n",
              " 'hardly',\n",
              " 'please',\n",
              " 'growth',\n",
              " 'secondary',\n",
              " 'complex',\n",
              " 'rat',\n",
              " '\\r \\n \\r \\n ',\n",
              " 'experimental',\n",
              " 'liptor',\n",
              " 'combined',\n",
              " 'research',\n",
              " 'profile',\n",
              " 'among',\n",
              " 'tricor',\n",
              " 'evidence',\n",
              " 'fatigued',\n",
              " 'facial',\n",
              " 'thoughts',\n",
              " 'r',\n",
              " 'oedema',\n",
              " 'vehicle',\n",
              " 'diagnosed',\n",
              " 'amount',\n",
              " 'relative',\n",
              " 'drive',\n",
              " 'extremely',\n",
              " 'fluid',\n",
              " 'provide',\n",
              " 'ms',\n",
              " 'tolerance',\n",
              " 'ringing',\n",
              " 'coronary',\n",
              " 'improved',\n",
              " 'ethyl',\n",
              " 'awareness',\n",
              " 'pizza',\n",
              " 'exposure',\n",
              " 'evaluation',\n",
              " 'once',\n",
              " 'peak',\n",
              " 'degrees',\n",
              " 'old',\n",
              " 'versus',\n",
              " 'microspheres',\n",
              " 'temperature',\n",
              " 'vas',\n",
              " 'product',\n",
              " 'produced',\n",
              " 'pruritus',\n",
              " 'cases',\n",
              " 'looks',\n",
              " 'things',\n",
              " 'least',\n",
              " 'score',\n",
              " 'difficult',\n",
              " 'around',\n",
              " 'pharmaceutical',\n",
              " 'able',\n",
              " '4',\n",
              " 'nervous',\n",
              " 'irregular',\n",
              " 'gi',\n",
              " 'according',\n",
              " 'malignant',\n",
              " 'naproxen',\n",
              " 'global',\n",
              " 'pharmacokinetic',\n",
              " 'barely',\n",
              " 'respiratory',\n",
              " 'periods',\n",
              " 'extremity',\n",
              " 'against',\n",
              " 'efficiency',\n",
              " 'pre',\n",
              " 'hard',\n",
              " 'diabetic',\n",
              " 'blog',\n",
              " 'linked',\n",
              " 'quality',\n",
              " 'cataract',\n",
              " 'capsules',\n",
              " 'frequent',\n",
              " 'resulted',\n",
              " 'third',\n",
              " 'commercial',\n",
              " 'allergic',\n",
              " 'sex',\n",
              " 'cause',\n",
              " 'carried',\n",
              " 'beads',\n",
              " 'systemic',\n",
              " 'gf',\n",
              " 'calcium',\n",
              " 'th',\n",
              " 'easy',\n",
              " 'stamina',\n",
              " 'analgesia',\n",
              " 'recorded',\n",
              " 'ldl',\n",
              " 'deep',\n",
              " 'zetia',\n",
              " 'enteric',\n",
              " 'shortness',\n",
              " 'density',\n",
              " 'participants',\n",
              " 'increasing',\n",
              " 'top',\n",
              " 'region',\n",
              " 'film',\n",
              " 'cross',\n",
              " 'considered',\n",
              " 'codeine',\n",
              " 'tension',\n",
              " 'serious',\n",
              " 'assessment',\n",
              " 'thus',\n",
              " 'condition',\n",
              " 'complete',\n",
              " 'sweats',\n",
              " 'specific',\n",
              " 'rhabdomyolysis',\n",
              " 'five',\n",
              " 'site',\n",
              " 'mental',\n",
              " 'sensations',\n",
              " 'investigate',\n",
              " 'eczema',\n",
              " 'ci',\n",
              " 'ear',\n",
              " 'ocular',\n",
              " 'central',\n",
              " 'super',\n",
              " 'maximum',\n",
              " 'little',\n",
              " 'achieved',\n",
              " 'stroke',\n",
              " 'flow',\n",
              " 'got',\n",
              " 'als',\n",
              " 'forgetful',\n",
              " 'neurontin',\n",
              " 'medical',\n",
              " 'reference',\n",
              " 'stool',\n",
              " 'methods',\n",
              " 'cookbook',\n",
              " 'expression',\n",
              " 'patch',\n",
              " 'asthma',\n",
              " 'possible',\n",
              " 'hunger',\n",
              " 'cmax',\n",
              " 'hypersomnia',\n",
              " 'work',\n",
              " 'second',\n",
              " 'dizzy',\n",
              " 'synthesis',\n",
              " 'design',\n",
              " 'rectal',\n",
              " 'bp',\n",
              " 'support',\n",
              " 'examined',\n",
              " 'fasciitis',\n",
              " 'flushing',\n",
              " 'lesions',\n",
              " 'preparation',\n",
              " 'u',\n",
              " 'structure',\n",
              " 'erythematosus',\n",
              " ...]"
            ]
          },
          "metadata": {
            "tags": []
          },
          "execution_count": 18
        }
      ]
    },
    {
      "cell_type": "code",
      "metadata": {
        "id": "yPWr03mls3VT",
        "outputId": "a274bf88-968f-4702-a274-9cf367694531",
        "colab": {
          "base_uri": "https://localhost:8080/",
          "height": 17
        }
      },
      "source": [
        "model_path = path/'models'\n",
        "model_path.mkdir(exist_ok=True)\n",
        "url = 'http://files.fast.ai/models/wt103_v1/'\n",
        "download_url(f'{url}lstm_wt103.pth', model_path/'lstm_wt103.pth')\n",
        "download_url(f'{url}itos_wt103.pkl', model_path/'itos_wt103.pkl')"
      ],
      "execution_count": 19,
      "outputs": [
        {
          "output_type": "display_data",
          "data": {
            "text/html": [
              ""
            ],
            "text/plain": [
              "<IPython.core.display.HTML object>"
            ]
          },
          "metadata": {
            "tags": []
          }
        },
        {
          "output_type": "display_data",
          "data": {
            "text/html": [
              ""
            ],
            "text/plain": [
              "<IPython.core.display.HTML object>"
            ]
          },
          "metadata": {
            "tags": []
          }
        }
      ]
    },
    {
      "cell_type": "code",
      "metadata": {
        "id": "JRzvWg8RtGGr",
        "outputId": "cade9b99-36ea-4dc3-be9d-d21dc7393d0b",
        "colab": {
          "base_uri": "https://localhost:8080/",
          "height": 34
        }
      },
      "source": [
        "learn = language_model_learner(data_lm, AWD_LSTM, drop_mult=0.5)"
      ],
      "execution_count": 20,
      "outputs": [
        {
          "output_type": "stream",
          "text": [
            "Downloading https://s3.amazonaws.com/fast-ai-modelzoo/wt103-fwd.tgz\n"
          ],
          "name": "stdout"
        },
        {
          "output_type": "display_data",
          "data": {
            "text/html": [
              ""
            ],
            "text/plain": [
              "<IPython.core.display.HTML object>"
            ]
          },
          "metadata": {
            "tags": []
          }
        }
      ]
    },
    {
      "cell_type": "code",
      "metadata": {
        "id": "xKK7GeBev7Xn",
        "outputId": "f81df4db-302c-43ce-b70f-d452cc14a755",
        "colab": {
          "base_uri": "https://localhost:8080/",
          "height": 80
        }
      },
      "source": [
        "learn.fit_one_cycle(1, 1e-2)"
      ],
      "execution_count": 21,
      "outputs": [
        {
          "output_type": "display_data",
          "data": {
            "text/html": [
              "<table border=\"1\" class=\"dataframe\">\n",
              "  <thead>\n",
              "    <tr style=\"text-align: left;\">\n",
              "      <th>epoch</th>\n",
              "      <th>train_loss</th>\n",
              "      <th>valid_loss</th>\n",
              "      <th>accuracy</th>\n",
              "      <th>time</th>\n",
              "    </tr>\n",
              "  </thead>\n",
              "  <tbody>\n",
              "    <tr>\n",
              "      <td>0</td>\n",
              "      <td>3.856901</td>\n",
              "      <td>3.486236</td>\n",
              "      <td>0.441621</td>\n",
              "      <td>32:59</td>\n",
              "    </tr>\n",
              "  </tbody>\n",
              "</table>"
            ],
            "text/plain": [
              "<IPython.core.display.HTML object>"
            ]
          },
          "metadata": {
            "tags": []
          }
        }
      ]
    },
    {
      "cell_type": "code",
      "metadata": {
        "id": "iB7rHGQCwd12"
      },
      "source": [
        "# learn.fit_one_cycle(1, 1e-2)"
      ],
      "execution_count": 22,
      "outputs": []
    },
    {
      "cell_type": "code",
      "metadata": {
        "id": "_BnSuAeCwkBe"
      },
      "source": [
        "# learn.fit_one_cycle(1, 1e-3)"
      ],
      "execution_count": 23,
      "outputs": []
    },
    {
      "cell_type": "code",
      "metadata": {
        "id": "MuTm-RFjwrEX",
        "outputId": "51707023-b6b7-467e-be26-9de314a478b2",
        "colab": {
          "base_uri": "https://localhost:8080/",
          "height": 80
        }
      },
      "source": [
        "learn.fit_one_cycle(1, 1e-3)"
      ],
      "execution_count": 24,
      "outputs": [
        {
          "output_type": "display_data",
          "data": {
            "text/html": [
              "<table border=\"1\" class=\"dataframe\">\n",
              "  <thead>\n",
              "    <tr style=\"text-align: left;\">\n",
              "      <th>epoch</th>\n",
              "      <th>train_loss</th>\n",
              "      <th>valid_loss</th>\n",
              "      <th>accuracy</th>\n",
              "      <th>time</th>\n",
              "    </tr>\n",
              "  </thead>\n",
              "  <tbody>\n",
              "    <tr>\n",
              "      <td>0</td>\n",
              "      <td>3.517488</td>\n",
              "      <td>3.424687</td>\n",
              "      <td>0.447500</td>\n",
              "      <td>33:01</td>\n",
              "    </tr>\n",
              "  </tbody>\n",
              "</table>"
            ],
            "text/plain": [
              "<IPython.core.display.HTML object>"
            ]
          },
          "metadata": {
            "tags": []
          }
        }
      ]
    },
    {
      "cell_type": "code",
      "metadata": {
        "id": "1Er2ExO8wr7Y"
      },
      "source": [
        "learn.save_encoder('pubmed_cadec_askpatient_mixed_fold4_first')"
      ],
      "execution_count": 25,
      "outputs": []
    },
    {
      "cell_type": "code",
      "metadata": {
        "id": "z52cZs2qwvad",
        "outputId": "584ed8b8-ecf5-4bfa-f00d-0dba0070684b",
        "colab": {
          "base_uri": "https://localhost:8080/",
          "height": 80
        }
      },
      "source": [
        "learn = text_classifier_learner(data_clas,AWD_LSTM, drop_mult=0.5)\n",
        "learn.load_encoder('pubmed_cadec_askpatient_mixed_fold4_first')\n",
        "learn.fit_one_cycle(1, 1e-2)"
      ],
      "execution_count": 26,
      "outputs": [
        {
          "output_type": "display_data",
          "data": {
            "text/html": [
              "<table border=\"1\" class=\"dataframe\">\n",
              "  <thead>\n",
              "    <tr style=\"text-align: left;\">\n",
              "      <th>epoch</th>\n",
              "      <th>train_loss</th>\n",
              "      <th>valid_loss</th>\n",
              "      <th>accuracy</th>\n",
              "      <th>time</th>\n",
              "    </tr>\n",
              "  </thead>\n",
              "  <tbody>\n",
              "    <tr>\n",
              "      <td>0</td>\n",
              "      <td>3.842343</td>\n",
              "      <td>3.302469</td>\n",
              "      <td>0.414251</td>\n",
              "      <td>01:03</td>\n",
              "    </tr>\n",
              "  </tbody>\n",
              "</table>"
            ],
            "text/plain": [
              "<IPython.core.display.HTML object>"
            ]
          },
          "metadata": {
            "tags": []
          }
        }
      ]
    },
    {
      "cell_type": "code",
      "metadata": {
        "id": "ImwQP1PJwzxd",
        "outputId": "e28cb5d7-a2db-4956-cfc3-b6087cd5386c",
        "colab": {
          "base_uri": "https://localhost:8080/",
          "height": 80
        }
      },
      "source": [
        "learn.freeze_to(-2)\n",
        "learn.fit_one_cycle(1, slice(5e-3/2., 5e-3))"
      ],
      "execution_count": 27,
      "outputs": [
        {
          "output_type": "display_data",
          "data": {
            "text/html": [
              "<table border=\"1\" class=\"dataframe\">\n",
              "  <thead>\n",
              "    <tr style=\"text-align: left;\">\n",
              "      <th>epoch</th>\n",
              "      <th>train_loss</th>\n",
              "      <th>valid_loss</th>\n",
              "      <th>accuracy</th>\n",
              "      <th>time</th>\n",
              "    </tr>\n",
              "  </thead>\n",
              "  <tbody>\n",
              "    <tr>\n",
              "      <td>0</td>\n",
              "      <td>2.813200</td>\n",
              "      <td>2.595326</td>\n",
              "      <td>0.553140</td>\n",
              "      <td>01:15</td>\n",
              "    </tr>\n",
              "  </tbody>\n",
              "</table>"
            ],
            "text/plain": [
              "<IPython.core.display.HTML object>"
            ]
          },
          "metadata": {
            "tags": []
          }
        }
      ]
    },
    {
      "cell_type": "code",
      "metadata": {
        "id": "Owff_BJXw53u",
        "outputId": "d9a407d5-2314-4d21-8617-6ef0b07fcf5b",
        "colab": {
          "base_uri": "https://localhost:8080/",
          "height": 80
        }
      },
      "source": [
        "learn.unfreeze()\n",
        "learn.fit_one_cycle(1, slice(2e-3/100, 2e-3))"
      ],
      "execution_count": 28,
      "outputs": [
        {
          "output_type": "display_data",
          "data": {
            "text/html": [
              "<table border=\"1\" class=\"dataframe\">\n",
              "  <thead>\n",
              "    <tr style=\"text-align: left;\">\n",
              "      <th>epoch</th>\n",
              "      <th>train_loss</th>\n",
              "      <th>valid_loss</th>\n",
              "      <th>accuracy</th>\n",
              "      <th>time</th>\n",
              "    </tr>\n",
              "  </thead>\n",
              "  <tbody>\n",
              "    <tr>\n",
              "      <td>0</td>\n",
              "      <td>2.138263</td>\n",
              "      <td>2.320685</td>\n",
              "      <td>0.599034</td>\n",
              "      <td>03:02</td>\n",
              "    </tr>\n",
              "  </tbody>\n",
              "</table>"
            ],
            "text/plain": [
              "<IPython.core.display.HTML object>"
            ]
          },
          "metadata": {
            "tags": []
          }
        }
      ]
    },
    {
      "cell_type": "code",
      "metadata": {
        "id": "lqAyu56V8Waq",
        "outputId": "245d7d50-e63e-454f-afa6-75b3f7201cc3",
        "colab": {
          "base_uri": "https://localhost:8080/",
          "height": 111
        }
      },
      "source": [
        "learn.fit_one_cycle(2, slice(2e-3/100, 2e-3))"
      ],
      "execution_count": 29,
      "outputs": [
        {
          "output_type": "display_data",
          "data": {
            "text/html": [
              "<table border=\"1\" class=\"dataframe\">\n",
              "  <thead>\n",
              "    <tr style=\"text-align: left;\">\n",
              "      <th>epoch</th>\n",
              "      <th>train_loss</th>\n",
              "      <th>valid_loss</th>\n",
              "      <th>accuracy</th>\n",
              "      <th>time</th>\n",
              "    </tr>\n",
              "  </thead>\n",
              "  <tbody>\n",
              "    <tr>\n",
              "      <td>0</td>\n",
              "      <td>1.906707</td>\n",
              "      <td>1.943305</td>\n",
              "      <td>0.658213</td>\n",
              "      <td>03:06</td>\n",
              "    </tr>\n",
              "    <tr>\n",
              "      <td>1</td>\n",
              "      <td>1.599997</td>\n",
              "      <td>1.860266</td>\n",
              "      <td>0.669082</td>\n",
              "      <td>03:05</td>\n",
              "    </tr>\n",
              "  </tbody>\n",
              "</table>"
            ],
            "text/plain": [
              "<IPython.core.display.HTML object>"
            ]
          },
          "metadata": {
            "tags": []
          }
        }
      ]
    },
    {
      "cell_type": "code",
      "metadata": {
        "id": "a7I1xMRp8bUd",
        "outputId": "b538b39c-37a7-4b6c-94ff-59fb98003aa4",
        "colab": {
          "base_uri": "https://localhost:8080/",
          "height": 111
        }
      },
      "source": [
        "learn.fit_one_cycle(2, slice(2e-3/100, 2e-3))"
      ],
      "execution_count": 30,
      "outputs": [
        {
          "output_type": "display_data",
          "data": {
            "text/html": [
              "<table border=\"1\" class=\"dataframe\">\n",
              "  <thead>\n",
              "    <tr style=\"text-align: left;\">\n",
              "      <th>epoch</th>\n",
              "      <th>train_loss</th>\n",
              "      <th>valid_loss</th>\n",
              "      <th>accuracy</th>\n",
              "      <th>time</th>\n",
              "    </tr>\n",
              "  </thead>\n",
              "  <tbody>\n",
              "    <tr>\n",
              "      <td>0</td>\n",
              "      <td>1.533355</td>\n",
              "      <td>1.689554</td>\n",
              "      <td>0.695652</td>\n",
              "      <td>03:04</td>\n",
              "    </tr>\n",
              "    <tr>\n",
              "      <td>1</td>\n",
              "      <td>1.280653</td>\n",
              "      <td>1.611044</td>\n",
              "      <td>0.708937</td>\n",
              "      <td>03:03</td>\n",
              "    </tr>\n",
              "  </tbody>\n",
              "</table>"
            ],
            "text/plain": [
              "<IPython.core.display.HTML object>"
            ]
          },
          "metadata": {
            "tags": []
          }
        }
      ]
    },
    {
      "cell_type": "code",
      "metadata": {
        "id": "UAnti-XmGVfO",
        "outputId": "ff26cd20-4c4c-4505-f162-e6dbebd113f1",
        "colab": {
          "base_uri": "https://localhost:8080/",
          "height": 111
        }
      },
      "source": [
        "learn.fit_one_cycle(2, slice(2e-3/100, 2e-3))"
      ],
      "execution_count": 31,
      "outputs": [
        {
          "output_type": "display_data",
          "data": {
            "text/html": [
              "<table border=\"1\" class=\"dataframe\">\n",
              "  <thead>\n",
              "    <tr style=\"text-align: left;\">\n",
              "      <th>epoch</th>\n",
              "      <th>train_loss</th>\n",
              "      <th>valid_loss</th>\n",
              "      <th>accuracy</th>\n",
              "      <th>time</th>\n",
              "    </tr>\n",
              "  </thead>\n",
              "  <tbody>\n",
              "    <tr>\n",
              "      <td>0</td>\n",
              "      <td>1.202923</td>\n",
              "      <td>1.472961</td>\n",
              "      <td>0.735507</td>\n",
              "      <td>03:16</td>\n",
              "    </tr>\n",
              "    <tr>\n",
              "      <td>1</td>\n",
              "      <td>0.994246</td>\n",
              "      <td>1.428030</td>\n",
              "      <td>0.752415</td>\n",
              "      <td>02:56</td>\n",
              "    </tr>\n",
              "  </tbody>\n",
              "</table>"
            ],
            "text/plain": [
              "<IPython.core.display.HTML object>"
            ]
          },
          "metadata": {
            "tags": []
          }
        }
      ]
    },
    {
      "cell_type": "code",
      "metadata": {
        "id": "bIft7W25GwSu",
        "outputId": "e0e6c836-4987-4bf3-fe95-a8bea90f2879",
        "colab": {
          "base_uri": "https://localhost:8080/",
          "height": 111
        }
      },
      "source": [
        "learn.fit_one_cycle(2, slice(2e-3/100, 2e-3))"
      ],
      "execution_count": 32,
      "outputs": [
        {
          "output_type": "display_data",
          "data": {
            "text/html": [
              "<table border=\"1\" class=\"dataframe\">\n",
              "  <thead>\n",
              "    <tr style=\"text-align: left;\">\n",
              "      <th>epoch</th>\n",
              "      <th>train_loss</th>\n",
              "      <th>valid_loss</th>\n",
              "      <th>accuracy</th>\n",
              "      <th>time</th>\n",
              "    </tr>\n",
              "  </thead>\n",
              "  <tbody>\n",
              "    <tr>\n",
              "      <td>0</td>\n",
              "      <td>0.967466</td>\n",
              "      <td>1.369295</td>\n",
              "      <td>0.745169</td>\n",
              "      <td>03:18</td>\n",
              "    </tr>\n",
              "    <tr>\n",
              "      <td>1</td>\n",
              "      <td>0.822854</td>\n",
              "      <td>1.316201</td>\n",
              "      <td>0.754831</td>\n",
              "      <td>03:10</td>\n",
              "    </tr>\n",
              "  </tbody>\n",
              "</table>"
            ],
            "text/plain": [
              "<IPython.core.display.HTML object>"
            ]
          },
          "metadata": {
            "tags": []
          }
        }
      ]
    },
    {
      "cell_type": "code",
      "metadata": {
        "id": "EEHszVRvGyFt",
        "outputId": "0bac3fb4-e90b-4e96-a308-edd4aaa3cc85",
        "colab": {
          "base_uri": "https://localhost:8080/",
          "height": 111
        }
      },
      "source": [
        "learn.fit_one_cycle(2, slice(2e-3/100, 2e-3))"
      ],
      "execution_count": 33,
      "outputs": [
        {
          "output_type": "display_data",
          "data": {
            "text/html": [
              "<table border=\"1\" class=\"dataframe\">\n",
              "  <thead>\n",
              "    <tr style=\"text-align: left;\">\n",
              "      <th>epoch</th>\n",
              "      <th>train_loss</th>\n",
              "      <th>valid_loss</th>\n",
              "      <th>accuracy</th>\n",
              "      <th>time</th>\n",
              "    </tr>\n",
              "  </thead>\n",
              "  <tbody>\n",
              "    <tr>\n",
              "      <td>0</td>\n",
              "      <td>0.774477</td>\n",
              "      <td>1.274524</td>\n",
              "      <td>0.771739</td>\n",
              "      <td>03:07</td>\n",
              "    </tr>\n",
              "    <tr>\n",
              "      <td>1</td>\n",
              "      <td>0.701650</td>\n",
              "      <td>1.235138</td>\n",
              "      <td>0.783816</td>\n",
              "      <td>03:15</td>\n",
              "    </tr>\n",
              "  </tbody>\n",
              "</table>"
            ],
            "text/plain": [
              "<IPython.core.display.HTML object>"
            ]
          },
          "metadata": {
            "tags": []
          }
        }
      ]
    },
    {
      "cell_type": "code",
      "metadata": {
        "id": "XsHfrhCHG3dN",
        "outputId": "9a70cb1a-cab0-4665-ba9d-290b7f1b9dc6",
        "colab": {
          "base_uri": "https://localhost:8080/",
          "height": 173
        }
      },
      "source": [
        "learn.fit_one_cycle(4, slice(2e-3/100, 2e-3))"
      ],
      "execution_count": 34,
      "outputs": [
        {
          "output_type": "display_data",
          "data": {
            "text/html": [
              "<table border=\"1\" class=\"dataframe\">\n",
              "  <thead>\n",
              "    <tr style=\"text-align: left;\">\n",
              "      <th>epoch</th>\n",
              "      <th>train_loss</th>\n",
              "      <th>valid_loss</th>\n",
              "      <th>accuracy</th>\n",
              "      <th>time</th>\n",
              "    </tr>\n",
              "  </thead>\n",
              "  <tbody>\n",
              "    <tr>\n",
              "      <td>0</td>\n",
              "      <td>0.662734</td>\n",
              "      <td>1.225501</td>\n",
              "      <td>0.782609</td>\n",
              "      <td>03:05</td>\n",
              "    </tr>\n",
              "    <tr>\n",
              "      <td>1</td>\n",
              "      <td>0.682553</td>\n",
              "      <td>1.169761</td>\n",
              "      <td>0.797101</td>\n",
              "      <td>03:11</td>\n",
              "    </tr>\n",
              "    <tr>\n",
              "      <td>2</td>\n",
              "      <td>0.518776</td>\n",
              "      <td>1.134026</td>\n",
              "      <td>0.803140</td>\n",
              "      <td>02:56</td>\n",
              "    </tr>\n",
              "    <tr>\n",
              "      <td>3</td>\n",
              "      <td>0.448441</td>\n",
              "      <td>1.114792</td>\n",
              "      <td>0.806763</td>\n",
              "      <td>03:00</td>\n",
              "    </tr>\n",
              "  </tbody>\n",
              "</table>"
            ],
            "text/plain": [
              "<IPython.core.display.HTML object>"
            ]
          },
          "metadata": {
            "tags": []
          }
        }
      ]
    },
    {
      "cell_type": "code",
      "metadata": {
        "id": "0Zsd99isb9EQ",
        "outputId": "ca134bb8-e44e-4d15-a2d1-1b0ab32b82f5",
        "colab": {
          "base_uri": "https://localhost:8080/",
          "height": 173
        }
      },
      "source": [
        "learn.fit_one_cycle(4, slice(2e-3/100, 2e-3))"
      ],
      "execution_count": 35,
      "outputs": [
        {
          "output_type": "display_data",
          "data": {
            "text/html": [
              "<table border=\"1\" class=\"dataframe\">\n",
              "  <thead>\n",
              "    <tr style=\"text-align: left;\">\n",
              "      <th>epoch</th>\n",
              "      <th>train_loss</th>\n",
              "      <th>valid_loss</th>\n",
              "      <th>accuracy</th>\n",
              "      <th>time</th>\n",
              "    </tr>\n",
              "  </thead>\n",
              "  <tbody>\n",
              "    <tr>\n",
              "      <td>0</td>\n",
              "      <td>0.478928</td>\n",
              "      <td>1.149776</td>\n",
              "      <td>0.801932</td>\n",
              "      <td>03:16</td>\n",
              "    </tr>\n",
              "    <tr>\n",
              "      <td>1</td>\n",
              "      <td>0.485435</td>\n",
              "      <td>1.118189</td>\n",
              "      <td>0.810386</td>\n",
              "      <td>03:10</td>\n",
              "    </tr>\n",
              "    <tr>\n",
              "      <td>2</td>\n",
              "      <td>0.400410</td>\n",
              "      <td>1.091132</td>\n",
              "      <td>0.809179</td>\n",
              "      <td>03:20</td>\n",
              "    </tr>\n",
              "    <tr>\n",
              "      <td>3</td>\n",
              "      <td>0.369249</td>\n",
              "      <td>1.101190</td>\n",
              "      <td>0.817633</td>\n",
              "      <td>02:57</td>\n",
              "    </tr>\n",
              "  </tbody>\n",
              "</table>"
            ],
            "text/plain": [
              "<IPython.core.display.HTML object>"
            ]
          },
          "metadata": {
            "tags": []
          }
        }
      ]
    },
    {
      "cell_type": "code",
      "metadata": {
        "id": "atNWNKDFPbuI",
        "outputId": "d2816929-03a9-444d-9922-2456678747d8",
        "colab": {
          "base_uri": "https://localhost:8080/",
          "height": 173
        }
      },
      "source": [
        "learn.fit_one_cycle(4, slice(2e-3/100, 2e-3))"
      ],
      "execution_count": 36,
      "outputs": [
        {
          "output_type": "display_data",
          "data": {
            "text/html": [
              "<table border=\"1\" class=\"dataframe\">\n",
              "  <thead>\n",
              "    <tr style=\"text-align: left;\">\n",
              "      <th>epoch</th>\n",
              "      <th>train_loss</th>\n",
              "      <th>valid_loss</th>\n",
              "      <th>accuracy</th>\n",
              "      <th>time</th>\n",
              "    </tr>\n",
              "  </thead>\n",
              "  <tbody>\n",
              "    <tr>\n",
              "      <td>0</td>\n",
              "      <td>0.367550</td>\n",
              "      <td>1.094384</td>\n",
              "      <td>0.810386</td>\n",
              "      <td>02:58</td>\n",
              "    </tr>\n",
              "    <tr>\n",
              "      <td>1</td>\n",
              "      <td>0.387564</td>\n",
              "      <td>1.114738</td>\n",
              "      <td>0.817633</td>\n",
              "      <td>03:01</td>\n",
              "    </tr>\n",
              "    <tr>\n",
              "      <td>2</td>\n",
              "      <td>0.346811</td>\n",
              "      <td>1.114404</td>\n",
              "      <td>0.826087</td>\n",
              "      <td>03:20</td>\n",
              "    </tr>\n",
              "    <tr>\n",
              "      <td>3</td>\n",
              "      <td>0.295157</td>\n",
              "      <td>1.079979</td>\n",
              "      <td>0.821256</td>\n",
              "      <td>03:12</td>\n",
              "    </tr>\n",
              "  </tbody>\n",
              "</table>"
            ],
            "text/plain": [
              "<IPython.core.display.HTML object>"
            ]
          },
          "metadata": {
            "tags": []
          }
        }
      ]
    },
    {
      "cell_type": "code",
      "metadata": {
        "id": "rKrBTZ0T1uVA",
        "outputId": "99e11e93-c4bc-4408-cf9b-f2689bb01fa9",
        "colab": {
          "base_uri": "https://localhost:8080/",
          "height": 173
        }
      },
      "source": [
        "learn.fit_one_cycle(4, slice(2e-3/100, 2e-3))"
      ],
      "execution_count": 37,
      "outputs": [
        {
          "output_type": "display_data",
          "data": {
            "text/html": [
              "<table border=\"1\" class=\"dataframe\">\n",
              "  <thead>\n",
              "    <tr style=\"text-align: left;\">\n",
              "      <th>epoch</th>\n",
              "      <th>train_loss</th>\n",
              "      <th>valid_loss</th>\n",
              "      <th>accuracy</th>\n",
              "      <th>time</th>\n",
              "    </tr>\n",
              "  </thead>\n",
              "  <tbody>\n",
              "    <tr>\n",
              "      <td>0</td>\n",
              "      <td>0.298226</td>\n",
              "      <td>1.113958</td>\n",
              "      <td>0.828502</td>\n",
              "      <td>03:13</td>\n",
              "    </tr>\n",
              "    <tr>\n",
              "      <td>1</td>\n",
              "      <td>0.322803</td>\n",
              "      <td>1.195982</td>\n",
              "      <td>0.816425</td>\n",
              "      <td>03:09</td>\n",
              "    </tr>\n",
              "    <tr>\n",
              "      <td>2</td>\n",
              "      <td>0.294613</td>\n",
              "      <td>1.140879</td>\n",
              "      <td>0.821256</td>\n",
              "      <td>03:09</td>\n",
              "    </tr>\n",
              "    <tr>\n",
              "      <td>3</td>\n",
              "      <td>0.250965</td>\n",
              "      <td>1.094577</td>\n",
              "      <td>0.822464</td>\n",
              "      <td>03:18</td>\n",
              "    </tr>\n",
              "  </tbody>\n",
              "</table>"
            ],
            "text/plain": [
              "<IPython.core.display.HTML object>"
            ]
          },
          "metadata": {
            "tags": []
          }
        }
      ]
    },
    {
      "cell_type": "code",
      "metadata": {
        "id": "ajQC6WDg1yA9",
        "outputId": "748b2e3a-dc4a-4da8-e2d9-ab3a5d05d393",
        "colab": {
          "base_uri": "https://localhost:8080/",
          "height": 173
        }
      },
      "source": [
        "learn.fit_one_cycle(4, slice(2e-3/100, 2e-3))"
      ],
      "execution_count": 38,
      "outputs": [
        {
          "output_type": "display_data",
          "data": {
            "text/html": [
              "<table border=\"1\" class=\"dataframe\">\n",
              "  <thead>\n",
              "    <tr style=\"text-align: left;\">\n",
              "      <th>epoch</th>\n",
              "      <th>train_loss</th>\n",
              "      <th>valid_loss</th>\n",
              "      <th>accuracy</th>\n",
              "      <th>time</th>\n",
              "    </tr>\n",
              "  </thead>\n",
              "  <tbody>\n",
              "    <tr>\n",
              "      <td>0</td>\n",
              "      <td>0.245714</td>\n",
              "      <td>1.173129</td>\n",
              "      <td>0.828502</td>\n",
              "      <td>03:07</td>\n",
              "    </tr>\n",
              "    <tr>\n",
              "      <td>1</td>\n",
              "      <td>0.293208</td>\n",
              "      <td>1.201228</td>\n",
              "      <td>0.829710</td>\n",
              "      <td>03:12</td>\n",
              "    </tr>\n",
              "    <tr>\n",
              "      <td>2</td>\n",
              "      <td>0.270362</td>\n",
              "      <td>1.153696</td>\n",
              "      <td>0.822464</td>\n",
              "      <td>03:06</td>\n",
              "    </tr>\n",
              "    <tr>\n",
              "      <td>3</td>\n",
              "      <td>0.218029</td>\n",
              "      <td>1.164735</td>\n",
              "      <td>0.822464</td>\n",
              "      <td>03:04</td>\n",
              "    </tr>\n",
              "  </tbody>\n",
              "</table>"
            ],
            "text/plain": [
              "<IPython.core.display.HTML object>"
            ]
          },
          "metadata": {
            "tags": []
          }
        }
      ]
    },
    {
      "cell_type": "code",
      "metadata": {
        "id": "KKydb0B4BKGk",
        "outputId": "c09aee01-7b14-4fa3-9382-33cd914045de",
        "colab": {
          "base_uri": "https://localhost:8080/",
          "height": 173
        }
      },
      "source": [
        "learn.fit_one_cycle(4, slice(2e-3/100, 2e-3))"
      ],
      "execution_count": 39,
      "outputs": [
        {
          "output_type": "display_data",
          "data": {
            "text/html": [
              "<table border=\"1\" class=\"dataframe\">\n",
              "  <thead>\n",
              "    <tr style=\"text-align: left;\">\n",
              "      <th>epoch</th>\n",
              "      <th>train_loss</th>\n",
              "      <th>valid_loss</th>\n",
              "      <th>accuracy</th>\n",
              "      <th>time</th>\n",
              "    </tr>\n",
              "  </thead>\n",
              "  <tbody>\n",
              "    <tr>\n",
              "      <td>0</td>\n",
              "      <td>0.217214</td>\n",
              "      <td>1.187635</td>\n",
              "      <td>0.820048</td>\n",
              "      <td>03:15</td>\n",
              "    </tr>\n",
              "    <tr>\n",
              "      <td>1</td>\n",
              "      <td>0.248647</td>\n",
              "      <td>1.194070</td>\n",
              "      <td>0.817633</td>\n",
              "      <td>03:11</td>\n",
              "    </tr>\n",
              "    <tr>\n",
              "      <td>2</td>\n",
              "      <td>0.224169</td>\n",
              "      <td>1.156168</td>\n",
              "      <td>0.821256</td>\n",
              "      <td>03:15</td>\n",
              "    </tr>\n",
              "    <tr>\n",
              "      <td>3</td>\n",
              "      <td>0.195891</td>\n",
              "      <td>1.176072</td>\n",
              "      <td>0.827295</td>\n",
              "      <td>03:12</td>\n",
              "    </tr>\n",
              "  </tbody>\n",
              "</table>"
            ],
            "text/plain": [
              "<IPython.core.display.HTML object>"
            ]
          },
          "metadata": {
            "tags": []
          }
        }
      ]
    },
    {
      "cell_type": "code",
      "metadata": {
        "id": "T2APKtFKBpGY",
        "outputId": "84797290-893a-4484-b31b-f1ccec2642d4",
        "colab": {
          "base_uri": "https://localhost:8080/",
          "height": 173
        }
      },
      "source": [
        "learn.fit_one_cycle(4, slice(2e-3/100, 2e-3))"
      ],
      "execution_count": 40,
      "outputs": [
        {
          "output_type": "display_data",
          "data": {
            "text/html": [
              "<table border=\"1\" class=\"dataframe\">\n",
              "  <thead>\n",
              "    <tr style=\"text-align: left;\">\n",
              "      <th>epoch</th>\n",
              "      <th>train_loss</th>\n",
              "      <th>valid_loss</th>\n",
              "      <th>accuracy</th>\n",
              "      <th>time</th>\n",
              "    </tr>\n",
              "  </thead>\n",
              "  <tbody>\n",
              "    <tr>\n",
              "      <td>0</td>\n",
              "      <td>0.208677</td>\n",
              "      <td>1.218380</td>\n",
              "      <td>0.826087</td>\n",
              "      <td>03:10</td>\n",
              "    </tr>\n",
              "    <tr>\n",
              "      <td>1</td>\n",
              "      <td>0.241206</td>\n",
              "      <td>1.182953</td>\n",
              "      <td>0.820048</td>\n",
              "      <td>02:59</td>\n",
              "    </tr>\n",
              "    <tr>\n",
              "      <td>2</td>\n",
              "      <td>0.205548</td>\n",
              "      <td>1.177328</td>\n",
              "      <td>0.830918</td>\n",
              "      <td>02:55</td>\n",
              "    </tr>\n",
              "    <tr>\n",
              "      <td>3</td>\n",
              "      <td>0.180860</td>\n",
              "      <td>1.229597</td>\n",
              "      <td>0.832126</td>\n",
              "      <td>03:07</td>\n",
              "    </tr>\n",
              "  </tbody>\n",
              "</table>"
            ],
            "text/plain": [
              "<IPython.core.display.HTML object>"
            ]
          },
          "metadata": {
            "tags": []
          }
        }
      ]
    },
    {
      "cell_type": "code",
      "metadata": {
        "id": "qtTypA1sPgLU",
        "outputId": "4fd39764-f6e0-446e-f40a-067f91609e8b",
        "colab": {
          "base_uri": "https://localhost:8080/",
          "height": 111
        }
      },
      "source": [
        "learn.fit_one_cycle(2, slice(2e-3/100, 2e-3))"
      ],
      "execution_count": 41,
      "outputs": [
        {
          "output_type": "display_data",
          "data": {
            "text/html": [
              "<table border=\"1\" class=\"dataframe\">\n",
              "  <thead>\n",
              "    <tr style=\"text-align: left;\">\n",
              "      <th>epoch</th>\n",
              "      <th>train_loss</th>\n",
              "      <th>valid_loss</th>\n",
              "      <th>accuracy</th>\n",
              "      <th>time</th>\n",
              "    </tr>\n",
              "  </thead>\n",
              "  <tbody>\n",
              "    <tr>\n",
              "      <td>0</td>\n",
              "      <td>0.218836</td>\n",
              "      <td>1.237530</td>\n",
              "      <td>0.824879</td>\n",
              "      <td>03:11</td>\n",
              "    </tr>\n",
              "    <tr>\n",
              "      <td>1</td>\n",
              "      <td>0.193763</td>\n",
              "      <td>1.221909</td>\n",
              "      <td>0.830918</td>\n",
              "      <td>03:02</td>\n",
              "    </tr>\n",
              "  </tbody>\n",
              "</table>"
            ],
            "text/plain": [
              "<IPython.core.display.HTML object>"
            ]
          },
          "metadata": {
            "tags": []
          }
        }
      ]
    },
    {
      "cell_type": "code",
      "metadata": {
        "id": "b242kBsTUp9Y",
        "outputId": "eec1b785-498a-4313-8870-96a80bdcc962",
        "colab": {
          "base_uri": "https://localhost:8080/",
          "height": 111
        }
      },
      "source": [
        "learn.fit_one_cycle(2, slice(2e-3/100, 2e-3))"
      ],
      "execution_count": 42,
      "outputs": [
        {
          "output_type": "display_data",
          "data": {
            "text/html": [
              "<table border=\"1\" class=\"dataframe\">\n",
              "  <thead>\n",
              "    <tr style=\"text-align: left;\">\n",
              "      <th>epoch</th>\n",
              "      <th>train_loss</th>\n",
              "      <th>valid_loss</th>\n",
              "      <th>accuracy</th>\n",
              "      <th>time</th>\n",
              "    </tr>\n",
              "  </thead>\n",
              "  <tbody>\n",
              "    <tr>\n",
              "      <td>0</td>\n",
              "      <td>0.203004</td>\n",
              "      <td>1.235598</td>\n",
              "      <td>0.829710</td>\n",
              "      <td>03:07</td>\n",
              "    </tr>\n",
              "    <tr>\n",
              "      <td>1</td>\n",
              "      <td>0.189600</td>\n",
              "      <td>1.275711</td>\n",
              "      <td>0.836957</td>\n",
              "      <td>03:12</td>\n",
              "    </tr>\n",
              "  </tbody>\n",
              "</table>"
            ],
            "text/plain": [
              "<IPython.core.display.HTML object>"
            ]
          },
          "metadata": {
            "tags": []
          }
        }
      ]
    },
    {
      "cell_type": "code",
      "metadata": {
        "id": "Duwf1Ih5VeDZ",
        "outputId": "50f08b16-19d6-4a1f-b08a-5bee2590a538",
        "colab": {
          "base_uri": "https://localhost:8080/",
          "height": 80
        }
      },
      "source": [
        "learn.fit_one_cycle(1, slice(2e-3/100, 2e-3))"
      ],
      "execution_count": 43,
      "outputs": [
        {
          "output_type": "display_data",
          "data": {
            "text/html": [
              "<table border=\"1\" class=\"dataframe\">\n",
              "  <thead>\n",
              "    <tr style=\"text-align: left;\">\n",
              "      <th>epoch</th>\n",
              "      <th>train_loss</th>\n",
              "      <th>valid_loss</th>\n",
              "      <th>accuracy</th>\n",
              "      <th>time</th>\n",
              "    </tr>\n",
              "  </thead>\n",
              "  <tbody>\n",
              "    <tr>\n",
              "      <td>0</td>\n",
              "      <td>0.189103</td>\n",
              "      <td>1.246416</td>\n",
              "      <td>0.840580</td>\n",
              "      <td>03:09</td>\n",
              "    </tr>\n",
              "  </tbody>\n",
              "</table>"
            ],
            "text/plain": [
              "<IPython.core.display.HTML object>"
            ]
          },
          "metadata": {
            "tags": []
          }
        }
      ]
    },
    {
      "cell_type": "code",
      "metadata": {
        "id": "c65d-osfDUXm"
      },
      "source": [
        "# save the best model\n",
        "\n",
        "learn.save_encoder('pubmed_cadec_askpatient_mixed_fold4')"
      ],
      "execution_count": 44,
      "outputs": []
    },
    {
      "cell_type": "markdown",
      "metadata": {
        "id": "rCwZU0E2RgM6"
      },
      "source": [
        "# Part three: Predict on the test dataset"
      ]
    },
    {
      "cell_type": "code",
      "metadata": {
        "id": "gDm72c-dOu7d",
        "outputId": "7e69ba85-83e3-4243-bcd2-9ab2ab7529cb",
        "colab": {
          "base_uri": "https://localhost:8080/",
          "height": 17
        }
      },
      "source": [
        "# use the test data for prediction\n",
        "\n",
        "preds, y = learn.get_preds(DatasetType.Test)"
      ],
      "execution_count": 45,
      "outputs": [
        {
          "output_type": "display_data",
          "data": {
            "text/html": [
              ""
            ],
            "text/plain": [
              "<IPython.core.display.HTML object>"
            ]
          },
          "metadata": {
            "tags": []
          }
        }
      ]
    },
    {
      "cell_type": "code",
      "metadata": {
        "id": "6tFSQcsWPvxn",
        "outputId": "0b077686-705d-4d64-834b-75d876737435",
        "colab": {
          "base_uri": "https://localhost:8080/",
          "height": 105
        }
      },
      "source": [
        "predictions, *_ = learn.get_preds(DatasetType.Test)\n",
        "labels = np.argmax(predictions, 1)\n",
        "predict_list = labels.tolist()\n",
        "standard_list = test[0].tolist()\n",
        "\n",
        "print(len(predict_list))\n",
        "print(len(standard_list))\n",
        "\n",
        "print(predict_list)\n",
        "print(standard_list)"
      ],
      "execution_count": 46,
      "outputs": [
        {
          "output_type": "display_data",
          "data": {
            "text/html": [
              ""
            ],
            "text/plain": [
              "<IPython.core.display.HTML object>"
            ]
          },
          "metadata": {
            "tags": []
          }
        },
        {
          "output_type": "stream",
          "text": [
            "866\n",
            "866\n",
            "[862, 1035, 8, 12, 16, 359, 27, 27, 27, 29, 31, 31, 31, 31, 31, 32, 37, 37, 37, 37, 37, 37, 37, 42, 48, 49, 49, 49, 49, 49, 49, 49, 49, 49, 49, 49, 49, 49, 49, 49, 49, 49, 53, 53, 53, 853, 226, 60, 61, 61, 62, 64, 76, 76, 76, 614, 289, 614, 1026, 289, 289, 289, 289, 289, 289, 289, 289, 289, 289, 289, 289, 289, 289, 289, 289, 289, 289, 289, 289, 289, 614, 79, 80, 80, 80, 268, 91, 91, 92, 92, 92, 94, 94, 94, 94, 94, 94, 94, 94, 94, 94, 94, 94, 94, 75, 94, 94, 475, 361, 96, 100, 265, 226, 650, 108, 108, 125, 289, 289, 289, 111, 111, 111, 289, 113, 116, 615, 120, 122, 122, 125, 125, 125, 125, 125, 125, 125, 125, 125, 125, 125, 125, 125, 125, 125, 125, 125, 129, 131, 139, 140, 143, 147, 157, 160, 882, 882, 166, 166, 101, 172, 172, 172, 172, 172, 172, 172, 76, 178, 182, 182, 182, 182, 182, 182, 182, 698, 183, 183, 183, 183, 183, 183, 183, 183, 183, 183, 186, 187, 187, 188, 189, 189, 463, 190, 190, 190, 190, 190, 606, 289, 34, 197, 205, 206, 207, 208, 210, 214, 299, 214, 214, 214, 214, 221, 214, 214, 214, 214, 214, 871, 577, 218, 220, 220, 37, 226, 226, 227, 228, 228, 228, 228, 228, 228, 228, 228, 228, 228, 228, 228, 228, 228, 234, 234, 235, 235, 236, 236, 236, 15, 243, 644, 243, 243, 243, 973, 554, 876, 638, 245, 245, 245, 245, 245, 245, 603, 254, 265, 265, 265, 265, 265, 265, 265, 265, 701, 265, 265, 265, 265, 265, 265, 265, 265, 265, 265, 265, 265, 704, 86, 270, 3, 274, 276, 280, 280, 569, 451, 286, 732, 530, 289, 289, 79, 265, 289, 289, 289, 289, 76, 289, 30, 172, 289, 289, 289, 289, 289, 289, 289, 628, 220, 402, 49, 301, 577, 577, 185, 309, 309, 309, 309, 132, 318, 251, 476, 954, 323, 323, 325, 325, 325, 325, 325, 325, 325, 325, 325, 49, 299, 325, 325, 326, 326, 332, 332, 436, 336, 337, 577, 337, 29, 768, 757, 342, 910, 343, 343, 343, 343, 343, 623, 245, 88, 784, 359, 359, 368, 360, 362, 577, 1030, 858, 368, 20, 226, 40, 445, 391, 391, 140, 396, 732, 358, 402, 402, 402, 42, 408, 408, 333, 418, 419, 419, 419, 419, 419, 420, 424, 426, 426, 426, 426, 427, 49, 775, 427, 427, 427, 427, 427, 816, 871, 430, 430, 431, 434, 434, 435, 441, 258, 441, 441, 446, 455, 455, 455, 455, 459, 460, 462, 470, 182, 471, 173, 510, 474, 475, 475, 489, 491, 491, 746, 491, 491, 491, 491, 491, 491, 491, 491, 491, 491, 492, 99, 495, 205, 509, 510, 510, 516, 949, 517, 518, 517, 519, 521, 522, 881, 530, 530, 530, 530, 27, 536, 537, 325, 949, 541, 541, 545, 545, 546, 546, 100, 548, 384, 384, 174, 557, 559, 565, 567, 564, 289, 172, 775, 673, 216, 579, 579, 583, 31, 325, 325, 325, 592, 592, 594, 594, 796, 427, 597, 199, 604, 405, 610, 426, 426, 614, 614, 614, 614, 722, 722, 619, 202, 623, 623, 623, 623, 623, 624, 973, 627, 37, 894, 640, 644, 644, 532, 644, 646, 646, 646, 646, 646, 646, 646, 646, 646, 648, 652, 652, 652, 652, 652, 588, 658, 658, 662, 662, 437, 666, 666, 671, 677, 749, 686, 693, 696, 293, 708, 521, 711, 711, 714, 715, 715, 715, 733, 594, 645, 741, 741, 109, 483, 746, 749, 753, 496, 245, 769, 715, 774, 775, 775, 777, 778, 787, 402, 794, 794, 111, 416, 973, 847, 809, 847, 191, 607, 809, 809, 809, 810, 351, 816, 817, 817, 824, 825, 826, 491, 826, 826, 826, 239, 1026, 830, 830, 831, 973, 838, 840, 840, 368, 895, 841, 841, 844, 846, 847, 847, 531, 475, 780, 251, 850, 922, 852, 853, 853, 853, 853, 853, 853, 853, 853, 853, 99, 853, 299, 896, 702, 864, 864, 864, 865, 867, 876, 876, 34, 877, 878, 882, 890, 893, 896, 896, 896, 704, 896, 896, 896, 904, 904, 831, 490, 698, 94, 857, 919, 919, 922, 921, 247, 937, 937, 937, 937, 942, 945, 948, 948, 949, 949, 949, 949, 949, 949, 949, 949, 949, 949, 949, 949, 949, 949, 949, 949, 949, 949, 949, 949, 949, 949, 949, 949, 949, 949, 949, 949, 949, 949, 949, 949, 949, 949, 949, 949, 949, 949, 949, 949, 949, 949, 949, 949, 949, 949, 949, 949, 949, 949, 949, 949, 949, 949, 949, 949, 949, 949, 949, 949, 949, 949, 949, 949, 949, 949, 949, 949, 949, 949, 949, 949, 949, 949, 949, 949, 949, 949, 949, 949, 949, 949, 949, 949, 949, 949, 949, 949, 949, 949, 949, 949, 949, 949, 949, 949, 949, 949, 949, 949, 949, 949, 949, 949, 949, 949, 949, 949, 949, 949, 949, 950, 950, 950, 857, 952, 952, 298, 955, 961, 964, 15, 15, 967, 969, 1030, 925, 582, 949, 932, 1001, 1001, 1001, 255, 1015, 1015, 949, 1017, 1014, 38, 1026, 1026, 1026, 1026, 1030, 1026, 1031, 1029, 1031, 1033, 1035]\n",
            "[4, 6, 8, 12, 16, 16, 27, 27, 27, 29, 31, 31, 31, 31, 31, 32, 37, 37, 37, 37, 37, 37, 37, 42, 48, 49, 49, 49, 49, 49, 49, 49, 49, 49, 49, 49, 49, 49, 49, 49, 49, 49, 53, 53, 53, 53, 59, 60, 61, 61, 62, 64, 76, 76, 76, 76, 76, 79, 79, 79, 79, 79, 79, 79, 79, 79, 79, 79, 79, 79, 79, 79, 79, 79, 79, 79, 79, 79, 79, 79, 79, 79, 80, 80, 80, 89, 91, 91, 92, 92, 92, 94, 94, 94, 94, 94, 94, 94, 94, 94, 94, 94, 94, 94, 94, 94, 94, 96, 96, 96, 100, 100, 100, 107, 108, 108, 108, 111, 111, 111, 111, 111, 111, 111, 113, 116, 119, 120, 122, 122, 125, 125, 125, 125, 125, 125, 125, 125, 125, 125, 125, 125, 125, 125, 125, 125, 125, 129, 131, 139, 140, 143, 147, 157, 160, 165, 165, 166, 166, 168, 172, 172, 172, 172, 172, 172, 172, 175, 178, 182, 182, 182, 182, 182, 182, 182, 182, 183, 183, 183, 183, 183, 183, 183, 183, 183, 183, 186, 187, 187, 188, 189, 189, 190, 190, 190, 190, 190, 190, 190, 195, 197, 197, 205, 206, 207, 208, 210, 214, 214, 214, 214, 214, 214, 214, 214, 214, 214, 214, 214, 216, 216, 218, 220, 220, 223, 226, 226, 227, 228, 228, 228, 228, 228, 228, 228, 228, 228, 228, 228, 228, 228, 228, 234, 234, 235, 235, 236, 236, 236, 243, 243, 243, 243, 243, 243, 243, 245, 245, 245, 245, 245, 245, 245, 245, 245, 246, 254, 265, 265, 265, 265, 265, 265, 265, 265, 265, 265, 265, 265, 265, 265, 265, 265, 265, 265, 265, 265, 265, 265, 268, 270, 271, 274, 276, 280, 280, 281, 285, 286, 287, 288, 289, 289, 289, 289, 289, 289, 289, 289, 289, 289, 289, 289, 289, 289, 289, 289, 289, 289, 289, 298, 300, 300, 301, 301, 301, 301, 301, 309, 309, 309, 309, 312, 318, 318, 321, 323, 323, 323, 325, 325, 325, 325, 325, 325, 325, 325, 325, 325, 325, 325, 325, 326, 326, 332, 332, 335, 336, 337, 337, 337, 338, 338, 339, 342, 343, 343, 343, 343, 343, 343, 348, 350, 359, 359, 359, 359, 359, 360, 362, 363, 364, 366, 368, 372, 382, 385, 390, 391, 391, 393, 396, 401, 402, 402, 402, 402, 408, 408, 408, 409, 418, 419, 419, 419, 419, 419, 420, 424, 426, 426, 426, 426, 427, 427, 427, 427, 427, 427, 427, 427, 427, 427, 430, 430, 431, 434, 434, 435, 441, 441, 441, 441, 446, 455, 455, 455, 455, 459, 460, 463, 470, 470, 471, 471, 472, 474, 475, 475, 489, 491, 491, 491, 491, 491, 491, 491, 491, 491, 491, 491, 491, 491, 492, 495, 495, 508, 509, 510, 511, 516, 516, 517, 517, 517, 518, 521, 522, 529, 530, 530, 530, 530, 536, 536, 537, 540, 540, 541, 541, 545, 545, 546, 546, 546, 548, 548, 548, 556, 557, 559, 565, 567, 568, 570, 570, 573, 574, 577, 579, 579, 583, 584, 590, 590, 590, 592, 592, 594, 594, 596, 597, 597, 597, 604, 610, 610, 614, 614, 614, 614, 614, 614, 616, 616, 619, 619, 623, 623, 623, 623, 623, 624, 626, 627, 633, 639, 640, 644, 644, 644, 644, 646, 646, 646, 646, 646, 646, 646, 646, 646, 648, 652, 652, 652, 652, 652, 655, 658, 658, 662, 662, 664, 666, 666, 671, 676, 684, 686, 693, 696, 702, 708, 711, 711, 711, 714, 715, 715, 715, 723, 724, 728, 741, 741, 742, 744, 746, 749, 753, 758, 765, 769, 772, 774, 775, 775, 777, 778, 787, 789, 794, 794, 797, 801, 803, 808, 809, 809, 809, 809, 809, 809, 809, 810, 811, 816, 817, 817, 824, 825, 826, 826, 826, 826, 826, 830, 830, 830, 830, 831, 832, 838, 840, 840, 840, 841, 841, 841, 844, 846, 847, 847, 847, 847, 848, 849, 850, 852, 852, 853, 853, 853, 853, 853, 853, 853, 853, 853, 853, 853, 854, 860, 860, 864, 864, 864, 865, 867, 876, 876, 877, 877, 878, 882, 890, 893, 896, 896, 896, 896, 896, 896, 897, 904, 904, 904, 904, 910, 911, 918, 919, 919, 919, 921, 924, 937, 937, 937, 937, 942, 945, 948, 948, 949, 949, 949, 949, 949, 949, 949, 949, 949, 949, 949, 949, 949, 949, 949, 949, 949, 949, 949, 949, 949, 949, 949, 949, 949, 949, 949, 949, 949, 949, 949, 949, 949, 949, 949, 949, 949, 949, 949, 949, 949, 949, 949, 949, 949, 949, 949, 949, 949, 949, 949, 949, 949, 949, 949, 949, 949, 949, 949, 949, 949, 949, 949, 949, 949, 949, 949, 949, 949, 949, 949, 949, 949, 949, 949, 949, 949, 949, 949, 949, 949, 949, 949, 949, 949, 949, 949, 949, 949, 949, 949, 949, 949, 949, 949, 949, 949, 949, 949, 949, 949, 949, 949, 949, 949, 949, 949, 949, 949, 949, 949, 950, 950, 950, 951, 952, 952, 954, 955, 961, 964, 967, 967, 967, 968, 969, 977, 996, 998, 999, 1001, 1001, 1001, 1007, 1015, 1015, 1016, 1017, 1018, 1025, 1026, 1026, 1026, 1026, 1026, 1026, 1028, 1029, 1031, 1033, 1035]\n"
          ],
          "name": "stdout"
        }
      ]
    },
    {
      "cell_type": "code",
      "metadata": {
        "id": "XIC4zufnMxtq",
        "outputId": "1ac1241f-c5f6-4890-9dee-32b65d706852",
        "colab": {
          "base_uri": "https://localhost:8080/",
          "height": 51
        }
      },
      "source": [
        "correct_num = 0\n",
        "\n",
        "for i in range(0, len(standard_list)):\n",
        "  if predict_list[i] == standard_list[i]:\n",
        "    correct_num = correct_num+1\n",
        "  else:\n",
        "    pass\n",
        "print(correct_num)\n",
        "\n",
        "predict_accuracy = correct_num/len(predict_list)\n",
        "print(predict_accuracy)"
      ],
      "execution_count": 47,
      "outputs": [
        {
          "output_type": "stream",
          "text": [
            "641\n",
            "0.7401847575057737\n"
          ],
          "name": "stdout"
        }
      ]
    },
    {
      "cell_type": "code",
      "metadata": {
        "id": "zlKMHp1CIaRJ"
      },
      "source": [
        ""
      ],
      "execution_count": 47,
      "outputs": []
    }
  ]
}