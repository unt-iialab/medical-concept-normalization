{
  "nbformat": 4,
  "nbformat_minor": 0,
  "metadata": {
    "accelerator": "TPU",
    "colab": {
      "name": "bigtweet_ask_04.ipynb",
      "provenance": [],
      "collapsed_sections": [],
      "include_colab_link": true
    },
    "kernelspec": {
      "display_name": "Python 3",
      "name": "python3"
    }
  },
  "cells": [
    {
      "cell_type": "markdown",
      "metadata": {
        "id": "view-in-github",
        "colab_type": "text"
      },
      "source": [
        "<a href=\"https://colab.research.google.com/github/unt-iialab/medical-concept-normalization/blob/master/medical-concept-normalization/fine-tuning-experiments/askpatient/bigtweet_ask_04.ipynb\" target=\"_parent\"><img src=\"https://colab.research.google.com/assets/colab-badge.svg\" alt=\"Open In Colab\"/></a>"
      ]
    },
    {
      "cell_type": "code",
      "metadata": {
        "id": "adSi6i2-dWxy"
      },
      "source": [
        "import os"
      ],
      "execution_count": 1,
      "outputs": []
    },
    {
      "cell_type": "code",
      "metadata": {
        "id": "E7xYCRGPjd9B"
      },
      "source": [
        "base_dir = 'medical-concept-normalization'"
      ],
      "execution_count": 2,
      "outputs": []
    },
    {
      "cell_type": "code",
      "metadata": {
        "id": "yvIW3aUDjYNS"
      },
      "source": [
        "os.mkdir(base_dir)"
      ],
      "execution_count": 3,
      "outputs": []
    },
    {
      "cell_type": "code",
      "metadata": {
        "id": "es-FFLlfk6SG"
      },
      "source": [
        "os.mkdir('medical-concept-normalization/data_collection')"
      ],
      "execution_count": 4,
      "outputs": []
    },
    {
      "cell_type": "markdown",
      "metadata": {
        "id": "0R-Guw_VoJXm"
      },
      "source": [
        "**Install fastai and clone the fastai for text classification**\n",
        "\n"
      ]
    },
    {
      "cell_type": "code",
      "metadata": {
        "id": "QVZa3Z0PmHFH",
        "outputId": "bcdf102b-119b-4228-8a70-be28c5d5a9dd",
        "colab": {
          "base_uri": "https://localhost:8080/"
        }
      },
      "source": [
        "!curl https://course-v3.fast.ai/setup/colab | bash"
      ],
      "execution_count": 5,
      "outputs": [
        {
          "output_type": "stream",
          "text": [
            "  % Total    % Received % Xferd  Average Speed   Time    Time     Time  Current\n",
            "                                 Dload  Upload   Total   Spent    Left  Speed\n",
            "\r  0     0    0     0    0     0      0      0 --:--:-- --:--:-- --:--:--     0curl: (6) Could not resolve host: course-v3.fast.ai\n"
          ],
          "name": "stdout"
        }
      ]
    },
    {
      "cell_type": "code",
      "metadata": {
        "id": "_FBFFEBrmJC0",
        "outputId": "c9e999b0-2e35-42b0-920d-6c8577d426fb",
        "colab": {
          "base_uri": "https://localhost:8080/"
        }
      },
      "source": [
        "!git clone https://github.com/wshuyi/demo-nlp-classification-fastai.git"
      ],
      "execution_count": 6,
      "outputs": [
        {
          "output_type": "stream",
          "text": [
            "Cloning into 'demo-nlp-classification-fastai'...\n",
            "remote: Enumerating objects: 9, done.\u001b[K\n",
            "remote: Total 9 (delta 0), reused 0 (delta 0), pack-reused 9\u001b[K\n",
            "Unpacking objects: 100% (9/9), done.\n"
          ],
          "name": "stdout"
        }
      ]
    },
    {
      "cell_type": "code",
      "metadata": {
        "id": "66zfh_JqmWMU"
      },
      "source": [
        "from fastai import *\n",
        "from fastai.text import *"
      ],
      "execution_count": 7,
      "outputs": []
    },
    {
      "cell_type": "markdown",
      "metadata": {
        "id": "mNIw-yALdBU9"
      },
      "source": [
        "**Set the path of the data collections**"
      ]
    },
    {
      "cell_type": "code",
      "metadata": {
        "id": "pzH7VMh4mqCL"
      },
      "source": [
        "path = Path('medical-concept-normalization/data_collection')"
      ],
      "execution_count": 8,
      "outputs": []
    },
    {
      "cell_type": "code",
      "metadata": {
        "id": "b8fjI6yyn4aS"
      },
      "source": [
        "# training data set\n",
        "\n",
        "train_csv = path/'AskAPatient.fold-4.train.csv'\n",
        "train = pd.read_csv(train_csv, header=None)\n",
        "#train.head()\n",
        "#train.info()"
      ],
      "execution_count": 10,
      "outputs": []
    },
    {
      "cell_type": "code",
      "metadata": {
        "id": "Hmlr-bAorfHd",
        "outputId": "e69ed035-28c0-404d-d691-c138a4f4a1a5",
        "colab": {
          "base_uri": "https://localhost:8080/",
          "height": 204
        }
      },
      "source": [
        "# validating data set\n",
        "\n",
        "valid = pd.read_csv(path/\"AskAPatient.fold-4.validation.csv\",header=None)\n",
        "valid.head()"
      ],
      "execution_count": 11,
      "outputs": [
        {
          "output_type": "execute_result",
          "data": {
            "text/html": [
              "<div>\n",
              "<style scoped>\n",
              "    .dataframe tbody tr th:only-of-type {\n",
              "        vertical-align: middle;\n",
              "    }\n",
              "\n",
              "    .dataframe tbody tr th {\n",
              "        vertical-align: top;\n",
              "    }\n",
              "\n",
              "    .dataframe thead th {\n",
              "        text-align: right;\n",
              "    }\n",
              "</style>\n",
              "<table border=\"1\" class=\"dataframe\">\n",
              "  <thead>\n",
              "    <tr style=\"text-align: right;\">\n",
              "      <th></th>\n",
              "      <th>0</th>\n",
              "      <th>1</th>\n",
              "    </tr>\n",
              "  </thead>\n",
              "  <tbody>\n",
              "    <tr>\n",
              "      <th>0</th>\n",
              "      <td>6</td>\n",
              "      <td>diastolic dysfunction</td>\n",
              "    </tr>\n",
              "    <tr>\n",
              "      <th>1</th>\n",
              "      <td>8</td>\n",
              "      <td>ARTHRITIS</td>\n",
              "    </tr>\n",
              "    <tr>\n",
              "      <th>2</th>\n",
              "      <td>8</td>\n",
              "      <td>arthritis</td>\n",
              "    </tr>\n",
              "    <tr>\n",
              "      <th>3</th>\n",
              "      <td>8</td>\n",
              "      <td>arthritis</td>\n",
              "    </tr>\n",
              "    <tr>\n",
              "      <th>4</th>\n",
              "      <td>8</td>\n",
              "      <td>arthritis</td>\n",
              "    </tr>\n",
              "  </tbody>\n",
              "</table>\n",
              "</div>"
            ],
            "text/plain": [
              "   0                      1\n",
              "0  6  diastolic dysfunction\n",
              "1  8              ARTHRITIS\n",
              "2  8              arthritis\n",
              "3  8              arthritis\n",
              "4  8              arthritis"
            ]
          },
          "metadata": {
            "tags": []
          },
          "execution_count": 11
        }
      ]
    },
    {
      "cell_type": "code",
      "metadata": {
        "id": "cOza9dfSsBud",
        "outputId": "42fe1a58-ad9c-42b7-883a-dc3a6556af19",
        "colab": {
          "base_uri": "https://localhost:8080/",
          "height": 204
        }
      },
      "source": [
        "# testing data set\n",
        "\n",
        "test = pd.read_csv(path/\"AskAPatient.fold-4.test.csv\",header=None)\n",
        "test.head()"
      ],
      "execution_count": 12,
      "outputs": [
        {
          "output_type": "execute_result",
          "data": {
            "text/html": [
              "<div>\n",
              "<style scoped>\n",
              "    .dataframe tbody tr th:only-of-type {\n",
              "        vertical-align: middle;\n",
              "    }\n",
              "\n",
              "    .dataframe tbody tr th {\n",
              "        vertical-align: top;\n",
              "    }\n",
              "\n",
              "    .dataframe thead th {\n",
              "        text-align: right;\n",
              "    }\n",
              "</style>\n",
              "<table border=\"1\" class=\"dataframe\">\n",
              "  <thead>\n",
              "    <tr style=\"text-align: right;\">\n",
              "      <th></th>\n",
              "      <th>0</th>\n",
              "      <th>1</th>\n",
              "    </tr>\n",
              "  </thead>\n",
              "  <tbody>\n",
              "    <tr>\n",
              "      <th>0</th>\n",
              "      <td>4</td>\n",
              "      <td>purple sploches around waist</td>\n",
              "    </tr>\n",
              "    <tr>\n",
              "      <th>1</th>\n",
              "      <td>6</td>\n",
              "      <td>stage 1 diastolic dysfunction</td>\n",
              "    </tr>\n",
              "    <tr>\n",
              "      <th>2</th>\n",
              "      <td>8</td>\n",
              "      <td>arthritis</td>\n",
              "    </tr>\n",
              "    <tr>\n",
              "      <th>3</th>\n",
              "      <td>12</td>\n",
              "      <td>shingles</td>\n",
              "    </tr>\n",
              "    <tr>\n",
              "      <th>4</th>\n",
              "      <td>16</td>\n",
              "      <td>flu</td>\n",
              "    </tr>\n",
              "  </tbody>\n",
              "</table>\n",
              "</div>"
            ],
            "text/plain": [
              "    0                              1\n",
              "0   4   purple sploches around waist\n",
              "1   6  stage 1 diastolic dysfunction\n",
              "2   8                      arthritis\n",
              "3  12                       shingles\n",
              "4  16                            flu"
            ]
          },
          "metadata": {
            "tags": []
          },
          "execution_count": 12
        }
      ]
    },
    {
      "cell_type": "code",
      "metadata": {
        "id": "Vo-YNvVYoaH6",
        "outputId": "29c5b4d9-d555-4db4-dd6f-d130333b833b",
        "colab": {
          "base_uri": "https://localhost:8080/",
          "height": 17
        }
      },
      "source": [
        "# Creating DataBunch for language modelling\n",
        "\n",
        "data_lm = TextLMDataBunch.from_csv(path, 'bigtweet_ask.csv')"
      ],
      "execution_count": 13,
      "outputs": [
        {
          "output_type": "display_data",
          "data": {
            "text/html": [
              ""
            ],
            "text/plain": [
              "<IPython.core.display.HTML object>"
            ]
          },
          "metadata": {
            "tags": []
          }
        },
        {
          "output_type": "display_data",
          "data": {
            "text/html": [
              ""
            ],
            "text/plain": [
              "<IPython.core.display.HTML object>"
            ]
          },
          "metadata": {
            "tags": []
          }
        }
      ]
    },
    {
      "cell_type": "code",
      "metadata": {
        "id": "qcV-9kMnNLBf"
      },
      "source": [
        ""
      ],
      "execution_count": 13,
      "outputs": []
    },
    {
      "cell_type": "code",
      "metadata": {
        "id": "1ScY9afDsnvE"
      },
      "source": [
        "# Creating DataBunch for classification\n",
        "\n",
        "# data_clas = TextClasDataBunch.from_df(path, train, valid, test, vocab=data_lm.train_ds.vocab, bs=128)"
      ],
      "execution_count": 14,
      "outputs": []
    },
    {
      "cell_type": "code",
      "metadata": {
        "id": "gzrSdQcvey9p",
        "outputId": "f6c2e50a-38c6-41ca-a3a3-c8a4e8c7e6c1",
        "colab": {
          "base_uri": "https://localhost:8080/",
          "height": 17
        }
      },
      "source": [
        "data_clas = TextClasDataBunch.from_df(path, train, valid, vocab=data_lm.train_ds.vocab, bs=128)"
      ],
      "execution_count": 15,
      "outputs": [
        {
          "output_type": "display_data",
          "data": {
            "text/html": [
              ""
            ],
            "text/plain": [
              "<IPython.core.display.HTML object>"
            ]
          },
          "metadata": {
            "tags": []
          }
        },
        {
          "output_type": "display_data",
          "data": {
            "text/html": [
              ""
            ],
            "text/plain": [
              "<IPython.core.display.HTML object>"
            ]
          },
          "metadata": {
            "tags": []
          }
        }
      ]
    },
    {
      "cell_type": "code",
      "metadata": {
        "id": "MD27Tf0Ke3ou",
        "outputId": "f1f181db-84c3-4170-93f0-a804f090c53d",
        "colab": {
          "base_uri": "https://localhost:8080/",
          "height": 17
        }
      },
      "source": [
        "data_clas.add_test(test,label=0)\n"
      ],
      "execution_count": 16,
      "outputs": [
        {
          "output_type": "display_data",
          "data": {
            "text/html": [
              ""
            ],
            "text/plain": [
              "<IPython.core.display.HTML object>"
            ]
          },
          "metadata": {
            "tags": []
          }
        }
      ]
    },
    {
      "cell_type": "code",
      "metadata": {
        "id": "-dpjnk_rstwk"
      },
      "source": [
        "data_lm.save()\n",
        "data_clas.save()"
      ],
      "execution_count": 17,
      "outputs": []
    },
    {
      "cell_type": "code",
      "metadata": {
        "id": "4OkiJa36sw5s",
        "outputId": "60ddf61c-9c84-42f1-eb84-933a2dbd52d3",
        "colab": {
          "base_uri": "https://localhost:8080/"
        }
      },
      "source": [
        "data_lm.train_ds.vocab.itos"
      ],
      "execution_count": 18,
      "outputs": [
        {
          "output_type": "execute_result",
          "data": {
            "text/plain": [
              "['xxunk',\n",
              " 'xxpad',\n",
              " 'xxbos',\n",
              " 'xxeos',\n",
              " 'xxfld',\n",
              " 'xxmaj',\n",
              " 'xxup',\n",
              " 'xxrep',\n",
              " 'xxwrep',\n",
              " 'pain',\n",
              " 'lipitor',\n",
              " 'in',\n",
              " 'of',\n",
              " 'muscle',\n",
              " 'to',\n",
              " 'the',\n",
              " 'severe',\n",
              " 'and',\n",
              " 'my',\n",
              " 'myalgia',\n",
              " 'fatigue',\n",
              " 'rt',\n",
              " 'lower',\n",
              " 'a',\n",
              " 'loss',\n",
              " 'limb',\n",
              " 'cramp',\n",
              " 'weakness',\n",
              " 'for',\n",
              " 'stomach',\n",
              " 'disease',\n",
              " 'back',\n",
              " '-',\n",
              " 'depression',\n",
              " 'on',\n",
              " 'cramps',\n",
              " 'upper',\n",
              " 'gas',\n",
              " 'is',\n",
              " 'joint',\n",
              " 'memory',\n",
              " 'leg',\n",
              " 'you',\n",
              " 'legs',\n",
              " 'pains',\n",
              " 'i',\n",
              " 'headache',\n",
              " 'shoulder',\n",
              " 'unable',\n",
              " 'with',\n",
              " 'arthralgia',\n",
              " 'knee',\n",
              " 'neck',\n",
              " 'excessive',\n",
              " 'foot',\n",
              " 'aches',\n",
              " 'gastrointestinal',\n",
              " 'amp',\n",
              " 'hip',\n",
              " 'arthritis',\n",
              " 'numbness',\n",
              " 'not',\n",
              " 'insomnia',\n",
              " 'all',\n",
              " 'like',\n",
              " 'arthrotec',\n",
              " 'bleeding',\n",
              " 'gluten',\n",
              " '/',\n",
              " 'walk',\n",
              " 'asthenia',\n",
              " 'abdominal',\n",
              " 'nausea',\n",
              " 'tired',\n",
              " 'feeling',\n",
              " 'dizziness',\n",
              " 'heart',\n",
              " 'walking',\n",
              " 'problems',\n",
              " 'feet',\n",
              " 'difficulty',\n",
              " 'chest',\n",
              " 'muscles',\n",
              " 'hand',\n",
              " 'swelling',\n",
              " 'zocor',\n",
              " 'extreme',\n",
              " 'backache',\n",
              " 'at',\n",
              " 'could',\n",
              " 'hair',\n",
              " 'ache',\n",
              " 'burning',\n",
              " 'free',\n",
              " 'out',\n",
              " 'vision',\n",
              " 'stiffness',\n",
              " 'pins',\n",
              " 'needles',\n",
              " 'your',\n",
              " 'have',\n",
              " 'amnesia',\n",
              " 'it',\n",
              " 'diarrhoea',\n",
              " 'are',\n",
              " 'can',\n",
              " 'increased',\n",
              " 'sleep',\n",
              " 'up',\n",
              " 'cramping',\n",
              " 'skin',\n",
              " 'very',\n",
              " 'right',\n",
              " 'liver',\n",
              " 'calf',\n",
              " 'blood',\n",
              " 'weight',\n",
              " 'from',\n",
              " 'impairment',\n",
              " 'or',\n",
              " 'disability',\n",
              " 'cholesterol',\n",
              " 'anxiety',\n",
              " 'left',\n",
              " 'new',\n",
              " 'do',\n",
              " 'tingling',\n",
              " 'symptom',\n",
              " 'nt',\n",
              " 'short',\n",
              " 'about',\n",
              " 'lack',\n",
              " 'stiff',\n",
              " 'this',\n",
              " 'glutenfree',\n",
              " 'our',\n",
              " 'constipation',\n",
              " 'what',\n",
              " 'low',\n",
              " 'bloating',\n",
              " 'term',\n",
              " 'disorder',\n",
              " 'high',\n",
              " 'headaches',\n",
              " 'was',\n",
              " 'poor',\n",
              " 'neuropathy',\n",
              " 'be',\n",
              " 'arm',\n",
              " 'celiac',\n",
              " 'arms',\n",
              " 'hands',\n",
              " 'so',\n",
              " 'that',\n",
              " 'balance',\n",
              " 'get',\n",
              " 'sore',\n",
              " 'voltaren',\n",
              " 'time',\n",
              " 'now',\n",
              " 'blurred',\n",
              " 'ankle',\n",
              " 'tiredness',\n",
              " 'body',\n",
              " 'joints',\n",
              " 'pressure',\n",
              " 'vaginal',\n",
              " 'hurt',\n",
              " 'infarction',\n",
              " 'pravachol',\n",
              " 'myositis',\n",
              " 'rash',\n",
              " 'acid',\n",
              " 'swollen',\n",
              " 'by',\n",
              " 'myocardial',\n",
              " 'sensation',\n",
              " 'vertigo',\n",
              " 'atrophy',\n",
              " 'energy',\n",
              " 'more',\n",
              " 'mentally',\n",
              " 'generalised',\n",
              " 'itching',\n",
              " ')',\n",
              " 'upset',\n",
              " 'we',\n",
              " 'food',\n",
              " \"'s\",\n",
              " 'attack',\n",
              " 'diabetes',\n",
              " 'how',\n",
              " ',',\n",
              " 'painful',\n",
              " 'ubidecarenone',\n",
              " 'gain',\n",
              " 'feel',\n",
              " 'raised',\n",
              " 'as',\n",
              " 'no',\n",
              " '(',\n",
              " 'its',\n",
              " 'constant',\n",
              " 'weak',\n",
              " 'me',\n",
              " \"n't\",\n",
              " 'diarrhea',\n",
              " 'use',\n",
              " 'illness',\n",
              " 'dry',\n",
              " 'damage',\n",
              " 'elbow',\n",
              " 'shoulders',\n",
              " 'bad',\n",
              " 'crestor',\n",
              " 'dull',\n",
              " 'tip',\n",
              " 'via',\n",
              " 'influenza',\n",
              " 'hazy',\n",
              " 'tendonitis',\n",
              " 'spasm',\n",
              " 'reduced',\n",
              " 'if',\n",
              " 'exhaustion',\n",
              " 'visual',\n",
              " 'spasms',\n",
              " 'both',\n",
              " 'dblclick',\n",
              " 'syndrome',\n",
              " 'symptoms',\n",
              " 'heavy',\n",
              " 'has',\n",
              " 'sleeping',\n",
              " 'just',\n",
              " 'myopathy',\n",
              " 'w',\n",
              " 'products',\n",
              " 'toe',\n",
              " 'knees',\n",
              " 'diet',\n",
              " 'pic',\n",
              " 'flatulence',\n",
              " 'elevated',\n",
              " 'reflux',\n",
              " 'irritable',\n",
              " 'libido',\n",
              " 'mood',\n",
              " 'problem',\n",
              " 'sclerosis',\n",
              " 'movement',\n",
              " 'abnormal',\n",
              " 'think',\n",
              " 'concentrate',\n",
              " 'throat',\n",
              " 'bed',\n",
              " 'fibromyalgia',\n",
              " 'why',\n",
              " 'discomfort',\n",
              " 'thigh',\n",
              " 'flu',\n",
              " 'over',\n",
              " 'serum',\n",
              " 'vomiting',\n",
              " 'had',\n",
              " 'kidney',\n",
              " 'chronic',\n",
              " 'mellitus',\n",
              " 'check',\n",
              " 'cold',\n",
              " 'off',\n",
              " 'lightheadedness',\n",
              " 'confusion',\n",
              " 'brain',\n",
              " 'when',\n",
              " 'know',\n",
              " 'review',\n",
              " 'tremor',\n",
              " 'type',\n",
              " 'urine',\n",
              " 'soreness',\n",
              " 'disturbance',\n",
              " 'wind',\n",
              " 'here',\n",
              " 'hips',\n",
              " 'paraesthesia',\n",
              " 'head',\n",
              " 'malaise',\n",
              " 'sweating',\n",
              " 'concentration',\n",
              " 'swings',\n",
              " 'love',\n",
              " 'aching',\n",
              " 'appetite',\n",
              " 'post',\n",
              " 'simvastatin',\n",
              " 'tinnitus',\n",
              " 's',\n",
              " 'ezetimibe',\n",
              " 'menstrual',\n",
              " 'eat',\n",
              " 'peripheral',\n",
              " 'eye',\n",
              " 'm',\n",
              " 'celebrex',\n",
              " 'who',\n",
              " 'calves',\n",
              " 'cough',\n",
              " 'stairs',\n",
              " 'but',\n",
              " 'impaired',\n",
              " 'finger',\n",
              " 'going',\n",
              " '2',\n",
              " 'esters',\n",
              " 'c',\n",
              " 'make',\n",
              " 'renal',\n",
              " 'failure',\n",
              " 'parkinson',\n",
              " 'help',\n",
              " 'intolerance',\n",
              " '1',\n",
              " 'one',\n",
              " 'injury',\n",
              " 're',\n",
              " 'felt',\n",
              " 'toes',\n",
              " 'an',\n",
              " 'motivation',\n",
              " 'ibuprofen',\n",
              " 'thanks',\n",
              " 'heel',\n",
              " 'hot',\n",
              " 'ca',\n",
              " 'charleyhorse',\n",
              " 'decreased',\n",
              " 'ankles',\n",
              " 'intense',\n",
              " 'dyspnoea',\n",
              " 'indigestion',\n",
              " 'will',\n",
              " 'acute',\n",
              " 'gfb',\n",
              " 'swallowing',\n",
              " 'face',\n",
              " 'excruciating',\n",
              " 'restless',\n",
              " 'ascorbic',\n",
              " 'palpitations',\n",
              " 'lupus',\n",
              " 'dark',\n",
              " 'recipe',\n",
              " 'some',\n",
              " 'posted',\n",
              " 'mild',\n",
              " 'tendon',\n",
              " 'night',\n",
              " 'day',\n",
              " 'great',\n",
              " 'always',\n",
              " 'lateral',\n",
              " 'menopause',\n",
              " 'general',\n",
              " 'life',\n",
              " '30',\n",
              " 'speech',\n",
              " 'getting',\n",
              " 'migraine',\n",
              " 'depressed',\n",
              " 'big',\n",
              " 'advil',\n",
              " 'multiple',\n",
              " 'fingers',\n",
              " 'down',\n",
              " 'may',\n",
              " 'read',\n",
              " 'us',\n",
              " 'stress',\n",
              " 'heres',\n",
              " 'enzymes',\n",
              " '\\r \\n ',\n",
              " 'infection',\n",
              " 'being',\n",
              " 'tightness',\n",
              " 'eyes',\n",
              " 'vitamin',\n",
              " 'twitch',\n",
              " 'go',\n",
              " 'breathing',\n",
              " 'jennieo',\n",
              " 'test',\n",
              " '3',\n",
              " 'there',\n",
              " 'taste',\n",
              " 'dreams',\n",
              " 'provoked',\n",
              " 'does',\n",
              " 'nerve',\n",
              " 'gout',\n",
              " 'mg',\n",
              " 'amyotrophic',\n",
              " 'oil',\n",
              " 'living',\n",
              " 'they',\n",
              " 'sensitivity',\n",
              " 'trouble',\n",
              " 'archives',\n",
              " 'fish',\n",
              " 'terrible',\n",
              " 'fenofibrate',\n",
              " 'drowsy',\n",
              " 'people',\n",
              " 'need',\n",
              " 'bowel',\n",
              " 'wrist',\n",
              " 'strength',\n",
              " 'tips',\n",
              " 'coq10',\n",
              " 'heartburn',\n",
              " 'limbs',\n",
              " 'fog',\n",
              " 'sinus',\n",
              " 'today',\n",
              " 'twitching',\n",
              " 'should',\n",
              " 'nasal',\n",
              " 'did',\n",
              " 'news',\n",
              " 'chicken',\n",
              " '10',\n",
              " 'tylenol',\n",
              " 'function',\n",
              " 'clearly',\n",
              " 'mobility',\n",
              " 'well',\n",
              " '5',\n",
              " 'breath',\n",
              " 'rheumatoid',\n",
              " 'level',\n",
              " 'thighs',\n",
              " 'side',\n",
              " 'plantar',\n",
              " 'mouth',\n",
              " 'ulcer',\n",
              " 'sick',\n",
              " 'move',\n",
              " 'uterine',\n",
              " 'urinary',\n",
              " 'much',\n",
              " 'lethargy',\n",
              " 'were',\n",
              " 'fever',\n",
              " 'find',\n",
              " '\\r \\n \\r \\n ',\n",
              " 'only',\n",
              " '+',\n",
              " 'horses',\n",
              " 'eating',\n",
              " 'pulse',\n",
              " 'loose',\n",
              " 'those',\n",
              " 'numb',\n",
              " 'tight',\n",
              " 'lost',\n",
              " 'take',\n",
              " 'been',\n",
              " 'moody',\n",
              " 'exercise',\n",
              " 'good',\n",
              " 'elbows',\n",
              " 'share',\n",
              " 'fatigued',\n",
              " 'thoughts',\n",
              " 'want',\n",
              " 'tricor',\n",
              " 'please',\n",
              " 'barely',\n",
              " 'accident',\n",
              " 'facial',\n",
              " 'even',\n",
              " 'charley',\n",
              " 'present',\n",
              " 'sharp',\n",
              " 'hardly',\n",
              " 'issues',\n",
              " 'colic',\n",
              " 'ever',\n",
              " 'cerebrovascular',\n",
              " 'aleve',\n",
              " 'best',\n",
              " 'shortness',\n",
              " 'diclofenac',\n",
              " 'tract',\n",
              " 'extremity',\n",
              " 'paracetamol',\n",
              " 'ringing',\n",
              " 'panic',\n",
              " 'rhabdomyolysis',\n",
              " 'looks',\n",
              " 'drive',\n",
              " 'article',\n",
              " 'congestion',\n",
              " 'slurred',\n",
              " 'finding',\n",
              " 'happy',\n",
              " 'light',\n",
              " 'things',\n",
              " 'oedema',\n",
              " 'mental',\n",
              " 'malignant',\n",
              " 'blog',\n",
              " 'sugar',\n",
              " 'patients',\n",
              " 'fasciitis',\n",
              " 'diagnosis',\n",
              " 'system',\n",
              " 'week',\n",
              " 'too',\n",
              " 'sweats',\n",
              " 'liptor',\n",
              " 'difficult',\n",
              " 'cancer',\n",
              " 'would',\n",
              " 'awareness',\n",
              " 'every',\n",
              " 'deep',\n",
              " 'inflammatory',\n",
              " 'started',\n",
              " 'got',\n",
              " 'area',\n",
              " 'eczema',\n",
              " 'zetia',\n",
              " 'top',\n",
              " '4',\n",
              " 'hard',\n",
              " 'around',\n",
              " 'pizza',\n",
              " 'soup',\n",
              " 'dr',\n",
              " 'than',\n",
              " 'extremely',\n",
              " 'stamina',\n",
              " ':',\n",
              " 'flushing',\n",
              " 'achilles',\n",
              " 'major',\n",
              " 'years',\n",
              " 'hurts',\n",
              " 'hypertension',\n",
              " 'easy',\n",
              " 'attacks',\n",
              " 'norvasc',\n",
              " 'cookbook',\n",
              " 'gf',\n",
              " 'still',\n",
              " 'hypersomnia',\n",
              " 'increase',\n",
              " 'irregular',\n",
              " 'prednisone',\n",
              " 'hunger',\n",
              " 'neurontin',\n",
              " 'pruritus',\n",
              " 'between',\n",
              " 'super',\n",
              " 'erythematosus',\n",
              " 'creatinine',\n",
              " 'many',\n",
              " 'osteoarthritis',\n",
              " 'sex',\n",
              " 'asthma',\n",
              " 'sensations',\n",
              " 'nervous',\n",
              " 'forgetful',\n",
              " 'see',\n",
              " 'also',\n",
              " 'diagnosed',\n",
              " 'rapid',\n",
              " 'inflammation',\n",
              " 'respiratory',\n",
              " 'itchy',\n",
              " 'inability',\n",
              " 'stand',\n",
              " 'lopid',\n",
              " 'dizzy',\n",
              " 'safe',\n",
              " 'story',\n",
              " 'morning',\n",
              " 'als',\n",
              " 'healthy',\n",
              " 'try',\n",
              " 'strain',\n",
              " 'ear',\n",
              " 'aptyalism',\n",
              " 'ability',\n",
              " 'friends',\n",
              " '2014',\n",
              " 'tachycardia',\n",
              " 'first',\n",
              " 'allergic',\n",
              " 'menorrhagia',\n",
              " 'any',\n",
              " 'their',\n",
              " 'support',\n",
              " 'am',\n",
              " 'long',\n",
              " 'where',\n",
              " 'autographed',\n",
              " 'atorvastatin',\n",
              " 'scalp',\n",
              " 'most',\n",
              " 'tension',\n",
              " 'show',\n",
              " 'forearm',\n",
              " 'health',\n",
              " 'bursitis',\n",
              " 'looking',\n",
              " 'fast',\n",
              " 'stool',\n",
              " 'bone',\n",
              " 'thank',\n",
              " '20',\n",
              " 'frequent',\n",
              " 'little',\n",
              " 'co',\n",
              " 'periods',\n",
              " 'hungry',\n",
              " 'foggy',\n",
              " 'climb',\n",
              " 'region',\n",
              " 'natural',\n",
              " 'spasmodic',\n",
              " 'lipex',\n",
              " 'inflamation',\n",
              " 'unwell',\n",
              " 'study',\n",
              " 'bell',\n",
              " 'abdomen',\n",
              " 'omega-3-acid',\n",
              " 'ethyl',\n",
              " 'esters-90',\n",
              " 'wheat',\n",
              " 'delicious',\n",
              " 'ms',\n",
              " 'foods',\n",
              " 'dysfunction',\n",
              " 'went',\n",
              " 'sense',\n",
              " 'palsy',\n",
              " '&',\n",
              " 'tolerance',\n",
              " 'bread',\n",
              " 'part',\n",
              " 'feels',\n",
              " 'venous',\n",
              " 'rupture',\n",
              " 'giveaway',\n",
              " 'after',\n",
              " 'retention',\n",
              " 'cpk',\n",
              " 'chocolate',\n",
              " 'nightmares',\n",
              " 'bruising',\n",
              " 'into',\n",
              " 'month',\n",
              " 'limping',\n",
              " 'sight',\n",
              " 'cortisone',\n",
              " 'generally',\n",
              " 'bowl',\n",
              " 'gait',\n",
              " 'u',\n",
              " 'falling',\n",
              " 'really',\n",
              " 'way',\n",
              " 'then',\n",
              " 'able',\n",
              " 'these',\n",
              " 'codeine',\n",
              " 'weird',\n",
              " 'stabbing',\n",
              " 'heaviness',\n",
              " 'allergy',\n",
              " 'recipes',\n",
              " 'period',\n",
              " 'learn',\n",
              " 'non',\n",
              " 'ears',\n",
              " 'rigidity',\n",
              " 've',\n",
              " 'reading',\n",
              " 'linked',\n",
              " 'spotting',\n",
              " 'red',\n",
              " 'horrible',\n",
              " 'gastric',\n",
              " 'zoloft',\n",
              " 'bp',\n",
              " 'paralysis',\n",
              " 'info',\n",
              " 'everything',\n",
              " 'delusional',\n",
              " 'stroke',\n",
              " 'page',\n",
              " 'tablet',\n",
              " 'america',\n",
              " 'made',\n",
              " 'lot',\n",
              " 'coming',\n",
              " 'less',\n",
              " 'menopausal',\n",
              " 'erythema',\n",
              " 'before',\n",
              " 'omega',\n",
              " 'change',\n",
              " 'degenerative',\n",
              " 'yes',\n",
              " 'agitated',\n",
              " 'his',\n",
              " 'death',\n",
              " 'sever',\n",
              " 'disc',\n",
              " 'others',\n",
              " 'sexual',\n",
              " 'anything',\n",
              " 'sudden',\n",
              " 'haematuria',\n",
              " 'interview',\n",
              " 'aphasia',\n",
              " 'empty',\n",
              " 'ached',\n",
              " 'remember',\n",
              " 'muscular',\n",
              " 'child',\n",
              " 'own',\n",
              " 'coronary',\n",
              " 'due',\n",
              " 'lift',\n",
              " 'suicidal',\n",
              " 'rectal',\n",
              " 'sweat',\n",
              " 'levels',\n",
              " 'tunnel',\n",
              " 'her',\n",
              " 'sunday',\n",
              " 'bloated',\n",
              " 'slight',\n",
              " 'live',\n",
              " 'diovan',\n",
              " 'follow',\n",
              " 'carpal',\n",
              " 'important',\n",
              " 'permanent',\n",
              " 'coeliac',\n",
              " 'gut',\n",
              " 'edema',\n",
              " 'quinoa',\n",
              " 'digestive',\n",
              " 'anger',\n",
              " 'became',\n",
              " 'blurry',\n",
              " 'chill',\n",
              " 'diabetic',\n",
              " 'random',\n",
              " 'book',\n",
              " 'sun',\n",
              " 'words',\n",
              " 'menstruation',\n",
              " 'through',\n",
              " 'q10',\n",
              " 'bronchitis',\n",
              " 'coated',\n",
              " 'thinking',\n",
              " 'whole',\n",
              " 'link',\n",
              " 'year',\n",
              " 'which',\n",
              " 'ask',\n",
              " 'interesting',\n",
              " 'sciatica',\n",
              " 'cycle',\n",
              " 'hepatic',\n",
              " 'overall',\n",
              " 'twitches',\n",
              " 'better',\n",
              " 'syncope',\n",
              " 'without',\n",
              " 'drink',\n",
              " 'ty',\n",
              " 'tongue',\n",
              " 'someone',\n",
              " 'intervertebral',\n",
              " 'join',\n",
              " 'bladder',\n",
              " 'endometriosis',\n",
              " 'options',\n",
              " 'spine',\n",
              " 'stools',\n",
              " 'colitis',\n",
              " 'kids',\n",
              " 'fatique',\n",
              " 'breast',\n",
              " 'never',\n",
              " 'paranoia',\n",
              " 'convention',\n",
              " 'almost',\n",
              " 'self',\n",
              " 'testosterone',\n",
              " 'episode',\n",
              " 'arthritic',\n",
              " 'headed',\n",
              " 'sides',\n",
              " 'b',\n",
              " 'bakery',\n",
              " 'other',\n",
              " 'eructation',\n",
              " 'anyone',\n",
              " 'lipidil',\n",
              " 'crying',\n",
              " 'changes',\n",
              " 'film',\n",
              " 'tender',\n",
              " 'few',\n",
              " 'breakfast',\n",
              " 'muscels',\n",
              " 'uterus',\n",
              " 'worse',\n",
              " 'aspirin',\n",
              " 'list',\n",
              " 'cookies',\n",
              " 'allergies',\n",
              " 'come',\n",
              " 'cause',\n",
              " 'hurting',\n",
              " 'enough',\n",
              " 'transient',\n",
              " 'unhappy',\n",
              " 'hey',\n",
              " 'irritability',\n",
              " 'lose',\n",
              " 'breaking',\n",
              " 'latest',\n",
              " 'cake',\n",
              " 'start',\n",
              " 'hear',\n",
              " 'ill',\n",
              " 'because',\n",
              " 'neuralgia',\n",
              " 'rise',\n",
              " 'friendly',\n",
              " 'diagnose',\n",
              " 'last',\n",
              " 'valentines',\n",
              " 'special',\n",
              " 'might',\n",
              " 'thoracic',\n",
              " 'pinterest',\n",
              " 'easily',\n",
              " 'reasons',\n",
              " 'misoprostol',\n",
              " 'standing',\n",
              " 'dehydration',\n",
              " '100',\n",
              " 'interest',\n",
              " 'another',\n",
              " 'run',\n",
              " 'muscel',\n",
              " 'drowsiness',\n",
              " 'restaurants',\n",
              " 'choking',\n",
              " 'fear',\n",
              " 'alzheimer',\n",
              " 'morphine',\n",
              " 'cognition',\n",
              " 'limitation',\n",
              " 'persistent',\n",
              " 'personality',\n",
              " 'world',\n",
              " 'disorientated',\n",
              " 'agony',\n",
              " 'glutened',\n",
              " 'limp',\n",
              " '2013',\n",
              " 'market',\n",
              " 'excited',\n",
              " 'clumsiness',\n",
              " 'ribs',\n",
              " 'steatosis',\n",
              " 'musculoskeletal',\n",
              " 'chair',\n",
              " 'risk',\n",
              " 'ideas',\n",
              " 'menu',\n",
              " 'wrists',\n",
              " '6',\n",
              " 'haemorrhage',\n",
              " 'central',\n",
              " 'gfree',\n",
              " 'talk',\n",
              " 'times',\n",
              " 'keep',\n",
              " 'community',\n",
              " 'flour',\n",
              " 'circulation',\n",
              " 'provide',\n",
              " 'constantly',\n",
              " 'potassium',\n",
              " 'wasting',\n",
              " 'mobic',\n",
              " 'autoimmune',\n",
              " 'haematochezia',\n",
              " 'condition',\n",
              " 'next',\n",
              " 'cataflam',\n",
              " 'while',\n",
              " 'slightly',\n",
              " 'rashes',\n",
              " 'rhinitis',\n",
              " '40',\n",
              " 'something',\n",
              " 'expo',\n",
              " 'rate',\n",
              " 'full',\n",
              " 'hoarse',\n",
              " 'ani',\n",
              " 'affected',\n",
              " 'them',\n",
              " 'moderate',\n",
              " 'sentence',\n",
              " 'difficulties',\n",
              " 'alpha',\n",
              " 'tocopherol',\n",
              " 'pancreatitis',\n",
              " 'dysphonia',\n",
              " 'rice',\n",
              " '25',\n",
              " 'awesome',\n",
              " 'intestinal',\n",
              " 'healthier',\n",
              " 'sensitive',\n",
              " 'slow',\n",
              " 'triglycerides',\n",
              " 'unbearable',\n",
              " 'reaction',\n",
              " 'experience',\n",
              " 'mass',\n",
              " 'rib',\n",
              " 'pravastatin',\n",
              " 'cook',\n",
              " 'tremors',\n",
              " 'debilitating',\n",
              " 'lets',\n",
              " 'white',\n",
              " 'desire',\n",
              " 'tenderness',\n",
              " 'makes',\n",
              " 'days',\n",
              " 'exhausted',\n",
              " 'must',\n",
              " '-pelvis',\n",
              " 'fun',\n",
              " 'buzzing',\n",
              " 'vit',\n",
              " 'common',\n",
              " 'moving',\n",
              " 'sit',\n",
              " 'yellow',\n",
              " \"'m\",\n",
              " 'chills',\n",
              " 'look',\n",
              " 'during',\n",
              " 'tested',\n",
              " 'pledge',\n",
              " 'irritation',\n",
              " 'away',\n",
              " 'lexapro',\n",
              " 'fatty',\n",
              " 'gi',\n",
              " 'restaurant',\n",
              " 'protein',\n",
              " 'infections',\n",
              " 'sure',\n",
              " 'testing',\n",
              " 'cell',\n",
              " 'mt',\n",
              " 'dizzyness',\n",
              " 'understand',\n",
              " 'especially',\n",
              " 'forearms',\n",
              " 'neoplasm',\n",
              " 'falls',\n",
              " 'eyesight',\n",
              " 'serious',\n",
              " 'forgetfulness',\n",
              " 'water',\n",
              " 'prolapse',\n",
              " 'bizarre',\n",
              " 'lead',\n",
              " 'unsteady',\n",
              " 'trauma',\n",
              " ...]"
            ]
          },
          "metadata": {
            "tags": []
          },
          "execution_count": 18
        }
      ]
    },
    {
      "cell_type": "code",
      "metadata": {
        "id": "yPWr03mls3VT",
        "outputId": "4e6fe9f9-bcf5-4338-9539-17e02c2715d0",
        "colab": {
          "base_uri": "https://localhost:8080/",
          "height": 17
        }
      },
      "source": [
        "model_path = path/'models'\n",
        "model_path.mkdir(exist_ok=True)\n",
        "url = 'http://files.fast.ai/models/wt103_v1/'\n",
        "download_url(f'{url}lstm_wt103.pth', model_path/'lstm_wt103.pth')\n",
        "download_url(f'{url}itos_wt103.pkl', model_path/'itos_wt103.pkl')"
      ],
      "execution_count": 19,
      "outputs": [
        {
          "output_type": "display_data",
          "data": {
            "text/html": [
              ""
            ],
            "text/plain": [
              "<IPython.core.display.HTML object>"
            ]
          },
          "metadata": {
            "tags": []
          }
        },
        {
          "output_type": "display_data",
          "data": {
            "text/html": [
              ""
            ],
            "text/plain": [
              "<IPython.core.display.HTML object>"
            ]
          },
          "metadata": {
            "tags": []
          }
        }
      ]
    },
    {
      "cell_type": "code",
      "metadata": {
        "id": "JRzvWg8RtGGr",
        "outputId": "9a54d9cf-5f0c-401e-f9bb-fc8bf7a29a48",
        "colab": {
          "base_uri": "https://localhost:8080/",
          "height": 34
        }
      },
      "source": [
        "learn = language_model_learner(data_lm, AWD_LSTM, drop_mult=0.5)"
      ],
      "execution_count": 20,
      "outputs": [
        {
          "output_type": "stream",
          "text": [
            "Downloading https://s3.amazonaws.com/fast-ai-modelzoo/wt103-fwd.tgz\n"
          ],
          "name": "stdout"
        },
        {
          "output_type": "display_data",
          "data": {
            "text/html": [
              ""
            ],
            "text/plain": [
              "<IPython.core.display.HTML object>"
            ]
          },
          "metadata": {
            "tags": []
          }
        }
      ]
    },
    {
      "cell_type": "code",
      "metadata": {
        "id": "xKK7GeBev7Xn",
        "outputId": "3eb5a661-4092-44bb-df6a-a2771608ea86",
        "colab": {
          "base_uri": "https://localhost:8080/",
          "height": 80
        }
      },
      "source": [
        "learn.fit_one_cycle(1, 1e-2)"
      ],
      "execution_count": 21,
      "outputs": [
        {
          "output_type": "display_data",
          "data": {
            "text/html": [
              "<table border=\"1\" class=\"dataframe\">\n",
              "  <thead>\n",
              "    <tr style=\"text-align: left;\">\n",
              "      <th>epoch</th>\n",
              "      <th>train_loss</th>\n",
              "      <th>valid_loss</th>\n",
              "      <th>accuracy</th>\n",
              "      <th>time</th>\n",
              "    </tr>\n",
              "  </thead>\n",
              "  <tbody>\n",
              "    <tr>\n",
              "      <td>0</td>\n",
              "      <td>3.227873</td>\n",
              "      <td>2.747440</td>\n",
              "      <td>0.549696</td>\n",
              "      <td>19:19</td>\n",
              "    </tr>\n",
              "  </tbody>\n",
              "</table>"
            ],
            "text/plain": [
              "<IPython.core.display.HTML object>"
            ]
          },
          "metadata": {
            "tags": []
          }
        }
      ]
    },
    {
      "cell_type": "code",
      "metadata": {
        "id": "iB7rHGQCwd12"
      },
      "source": [
        "# learn.fit_one_cycle(1, 1e-2)"
      ],
      "execution_count": 22,
      "outputs": []
    },
    {
      "cell_type": "code",
      "metadata": {
        "id": "_BnSuAeCwkBe"
      },
      "source": [
        "# learn.fit_one_cycle(1, 1e-3)"
      ],
      "execution_count": 23,
      "outputs": []
    },
    {
      "cell_type": "code",
      "metadata": {
        "id": "MuTm-RFjwrEX",
        "outputId": "198f8fc7-96bb-4426-83f0-aa6d78e475c0",
        "colab": {
          "base_uri": "https://localhost:8080/",
          "height": 80
        }
      },
      "source": [
        "learn.fit_one_cycle(1, 1e-3)"
      ],
      "execution_count": 24,
      "outputs": [
        {
          "output_type": "display_data",
          "data": {
            "text/html": [
              "<table border=\"1\" class=\"dataframe\">\n",
              "  <thead>\n",
              "    <tr style=\"text-align: left;\">\n",
              "      <th>epoch</th>\n",
              "      <th>train_loss</th>\n",
              "      <th>valid_loss</th>\n",
              "      <th>accuracy</th>\n",
              "      <th>time</th>\n",
              "    </tr>\n",
              "  </thead>\n",
              "  <tbody>\n",
              "    <tr>\n",
              "      <td>0</td>\n",
              "      <td>2.820742</td>\n",
              "      <td>2.693783</td>\n",
              "      <td>0.554620</td>\n",
              "      <td>19:16</td>\n",
              "    </tr>\n",
              "  </tbody>\n",
              "</table>"
            ],
            "text/plain": [
              "<IPython.core.display.HTML object>"
            ]
          },
          "metadata": {
            "tags": []
          }
        }
      ]
    },
    {
      "cell_type": "code",
      "metadata": {
        "id": "1Er2ExO8wr7Y"
      },
      "source": [
        "learn.save_encoder('healthnews_ask_fold4_first')"
      ],
      "execution_count": 25,
      "outputs": []
    },
    {
      "cell_type": "code",
      "metadata": {
        "id": "z52cZs2qwvad",
        "outputId": "5ff7799d-f7d8-42e4-d4e7-536a5eafbfe9",
        "colab": {
          "base_uri": "https://localhost:8080/",
          "height": 80
        }
      },
      "source": [
        "learn = text_classifier_learner(data_clas,AWD_LSTM, drop_mult=0.5)\n",
        "learn.load_encoder('healthnews_ask_fold4_first')\n",
        "learn.fit_one_cycle(1, 1e-2)"
      ],
      "execution_count": 26,
      "outputs": [
        {
          "output_type": "display_data",
          "data": {
            "text/html": [
              "<table border=\"1\" class=\"dataframe\">\n",
              "  <thead>\n",
              "    <tr style=\"text-align: left;\">\n",
              "      <th>epoch</th>\n",
              "      <th>train_loss</th>\n",
              "      <th>valid_loss</th>\n",
              "      <th>accuracy</th>\n",
              "      <th>time</th>\n",
              "    </tr>\n",
              "  </thead>\n",
              "  <tbody>\n",
              "    <tr>\n",
              "      <td>0</td>\n",
              "      <td>4.105815</td>\n",
              "      <td>3.509543</td>\n",
              "      <td>0.376812</td>\n",
              "      <td>01:10</td>\n",
              "    </tr>\n",
              "  </tbody>\n",
              "</table>"
            ],
            "text/plain": [
              "<IPython.core.display.HTML object>"
            ]
          },
          "metadata": {
            "tags": []
          }
        }
      ]
    },
    {
      "cell_type": "code",
      "metadata": {
        "id": "ImwQP1PJwzxd",
        "outputId": "e921fdd7-65ba-4661-8936-64b43185b2a1",
        "colab": {
          "base_uri": "https://localhost:8080/",
          "height": 80
        }
      },
      "source": [
        "learn.freeze_to(-2)\n",
        "learn.fit_one_cycle(1, slice(5e-3/2., 5e-3))"
      ],
      "execution_count": 27,
      "outputs": [
        {
          "output_type": "display_data",
          "data": {
            "text/html": [
              "<table border=\"1\" class=\"dataframe\">\n",
              "  <thead>\n",
              "    <tr style=\"text-align: left;\">\n",
              "      <th>epoch</th>\n",
              "      <th>train_loss</th>\n",
              "      <th>valid_loss</th>\n",
              "      <th>accuracy</th>\n",
              "      <th>time</th>\n",
              "    </tr>\n",
              "  </thead>\n",
              "  <tbody>\n",
              "    <tr>\n",
              "      <td>0</td>\n",
              "      <td>2.980670</td>\n",
              "      <td>2.972035</td>\n",
              "      <td>0.490338</td>\n",
              "      <td>01:21</td>\n",
              "    </tr>\n",
              "  </tbody>\n",
              "</table>"
            ],
            "text/plain": [
              "<IPython.core.display.HTML object>"
            ]
          },
          "metadata": {
            "tags": []
          }
        }
      ]
    },
    {
      "cell_type": "code",
      "metadata": {
        "id": "Owff_BJXw53u",
        "outputId": "d95526ea-77a3-4613-b19d-f979743870de",
        "colab": {
          "base_uri": "https://localhost:8080/",
          "height": 80
        }
      },
      "source": [
        "learn.unfreeze()\n",
        "learn.fit_one_cycle(1, slice(2e-3/100, 2e-3))"
      ],
      "execution_count": 28,
      "outputs": [
        {
          "output_type": "display_data",
          "data": {
            "text/html": [
              "<table border=\"1\" class=\"dataframe\">\n",
              "  <thead>\n",
              "    <tr style=\"text-align: left;\">\n",
              "      <th>epoch</th>\n",
              "      <th>train_loss</th>\n",
              "      <th>valid_loss</th>\n",
              "      <th>accuracy</th>\n",
              "      <th>time</th>\n",
              "    </tr>\n",
              "  </thead>\n",
              "  <tbody>\n",
              "    <tr>\n",
              "      <td>0</td>\n",
              "      <td>2.419642</td>\n",
              "      <td>2.518724</td>\n",
              "      <td>0.562802</td>\n",
              "      <td>03:09</td>\n",
              "    </tr>\n",
              "  </tbody>\n",
              "</table>"
            ],
            "text/plain": [
              "<IPython.core.display.HTML object>"
            ]
          },
          "metadata": {
            "tags": []
          }
        }
      ]
    },
    {
      "cell_type": "code",
      "metadata": {
        "id": "lqAyu56V8Waq",
        "outputId": "c4ffef20-0022-404c-b777-c9d158f127ef",
        "colab": {
          "base_uri": "https://localhost:8080/",
          "height": 111
        }
      },
      "source": [
        "learn.fit_one_cycle(2, slice(2e-3/100, 2e-3))"
      ],
      "execution_count": 29,
      "outputs": [
        {
          "output_type": "display_data",
          "data": {
            "text/html": [
              "<table border=\"1\" class=\"dataframe\">\n",
              "  <thead>\n",
              "    <tr style=\"text-align: left;\">\n",
              "      <th>epoch</th>\n",
              "      <th>train_loss</th>\n",
              "      <th>valid_loss</th>\n",
              "      <th>accuracy</th>\n",
              "      <th>time</th>\n",
              "    </tr>\n",
              "  </thead>\n",
              "  <tbody>\n",
              "    <tr>\n",
              "      <td>0</td>\n",
              "      <td>2.158058</td>\n",
              "      <td>2.156054</td>\n",
              "      <td>0.626812</td>\n",
              "      <td>03:04</td>\n",
              "    </tr>\n",
              "    <tr>\n",
              "      <td>1</td>\n",
              "      <td>1.769152</td>\n",
              "      <td>2.037741</td>\n",
              "      <td>0.636473</td>\n",
              "      <td>03:00</td>\n",
              "    </tr>\n",
              "  </tbody>\n",
              "</table>"
            ],
            "text/plain": [
              "<IPython.core.display.HTML object>"
            ]
          },
          "metadata": {
            "tags": []
          }
        }
      ]
    },
    {
      "cell_type": "code",
      "metadata": {
        "id": "a7I1xMRp8bUd",
        "outputId": "4ad3f50b-ff46-4ce3-be55-846a2f5467a7",
        "colab": {
          "base_uri": "https://localhost:8080/",
          "height": 111
        }
      },
      "source": [
        "learn.fit_one_cycle(2, slice(2e-3/100, 2e-3))"
      ],
      "execution_count": 30,
      "outputs": [
        {
          "output_type": "display_data",
          "data": {
            "text/html": [
              "<table border=\"1\" class=\"dataframe\">\n",
              "  <thead>\n",
              "    <tr style=\"text-align: left;\">\n",
              "      <th>epoch</th>\n",
              "      <th>train_loss</th>\n",
              "      <th>valid_loss</th>\n",
              "      <th>accuracy</th>\n",
              "      <th>time</th>\n",
              "    </tr>\n",
              "  </thead>\n",
              "  <tbody>\n",
              "    <tr>\n",
              "      <td>0</td>\n",
              "      <td>1.630705</td>\n",
              "      <td>1.841718</td>\n",
              "      <td>0.654589</td>\n",
              "      <td>03:15</td>\n",
              "    </tr>\n",
              "    <tr>\n",
              "      <td>1</td>\n",
              "      <td>1.413365</td>\n",
              "      <td>1.748309</td>\n",
              "      <td>0.688406</td>\n",
              "      <td>03:05</td>\n",
              "    </tr>\n",
              "  </tbody>\n",
              "</table>"
            ],
            "text/plain": [
              "<IPython.core.display.HTML object>"
            ]
          },
          "metadata": {
            "tags": []
          }
        }
      ]
    },
    {
      "cell_type": "code",
      "metadata": {
        "id": "UAnti-XmGVfO",
        "outputId": "e138cea8-6817-4d8e-994e-5858fd18cf5c",
        "colab": {
          "base_uri": "https://localhost:8080/",
          "height": 111
        }
      },
      "source": [
        "learn.fit_one_cycle(2, slice(2e-3/100, 2e-3))"
      ],
      "execution_count": 31,
      "outputs": [
        {
          "output_type": "display_data",
          "data": {
            "text/html": [
              "<table border=\"1\" class=\"dataframe\">\n",
              "  <thead>\n",
              "    <tr style=\"text-align: left;\">\n",
              "      <th>epoch</th>\n",
              "      <th>train_loss</th>\n",
              "      <th>valid_loss</th>\n",
              "      <th>accuracy</th>\n",
              "      <th>time</th>\n",
              "    </tr>\n",
              "  </thead>\n",
              "  <tbody>\n",
              "    <tr>\n",
              "      <td>0</td>\n",
              "      <td>1.270340</td>\n",
              "      <td>1.636837</td>\n",
              "      <td>0.710145</td>\n",
              "      <td>03:09</td>\n",
              "    </tr>\n",
              "    <tr>\n",
              "      <td>1</td>\n",
              "      <td>1.101304</td>\n",
              "      <td>1.562147</td>\n",
              "      <td>0.722222</td>\n",
              "      <td>03:02</td>\n",
              "    </tr>\n",
              "  </tbody>\n",
              "</table>"
            ],
            "text/plain": [
              "<IPython.core.display.HTML object>"
            ]
          },
          "metadata": {
            "tags": []
          }
        }
      ]
    },
    {
      "cell_type": "code",
      "metadata": {
        "id": "bIft7W25GwSu",
        "outputId": "ee097297-32da-4058-851e-bb3dd93c8f4a",
        "colab": {
          "base_uri": "https://localhost:8080/",
          "height": 111
        }
      },
      "source": [
        "learn.fit_one_cycle(2, slice(2e-3/100, 2e-3))"
      ],
      "execution_count": 32,
      "outputs": [
        {
          "output_type": "display_data",
          "data": {
            "text/html": [
              "<table border=\"1\" class=\"dataframe\">\n",
              "  <thead>\n",
              "    <tr style=\"text-align: left;\">\n",
              "      <th>epoch</th>\n",
              "      <th>train_loss</th>\n",
              "      <th>valid_loss</th>\n",
              "      <th>accuracy</th>\n",
              "      <th>time</th>\n",
              "    </tr>\n",
              "  </thead>\n",
              "  <tbody>\n",
              "    <tr>\n",
              "      <td>0</td>\n",
              "      <td>1.086782</td>\n",
              "      <td>1.508193</td>\n",
              "      <td>0.719807</td>\n",
              "      <td>03:18</td>\n",
              "    </tr>\n",
              "    <tr>\n",
              "      <td>1</td>\n",
              "      <td>0.946237</td>\n",
              "      <td>1.431712</td>\n",
              "      <td>0.746377</td>\n",
              "      <td>03:13</td>\n",
              "    </tr>\n",
              "  </tbody>\n",
              "</table>"
            ],
            "text/plain": [
              "<IPython.core.display.HTML object>"
            ]
          },
          "metadata": {
            "tags": []
          }
        }
      ]
    },
    {
      "cell_type": "code",
      "metadata": {
        "id": "EEHszVRvGyFt",
        "outputId": "6e1ec63e-ceb5-4ace-b35f-0d443152e42c",
        "colab": {
          "base_uri": "https://localhost:8080/",
          "height": 111
        }
      },
      "source": [
        "learn.fit_one_cycle(2, slice(2e-3/100, 2e-3))"
      ],
      "execution_count": 33,
      "outputs": [
        {
          "output_type": "display_data",
          "data": {
            "text/html": [
              "<table border=\"1\" class=\"dataframe\">\n",
              "  <thead>\n",
              "    <tr style=\"text-align: left;\">\n",
              "      <th>epoch</th>\n",
              "      <th>train_loss</th>\n",
              "      <th>valid_loss</th>\n",
              "      <th>accuracy</th>\n",
              "      <th>time</th>\n",
              "    </tr>\n",
              "  </thead>\n",
              "  <tbody>\n",
              "    <tr>\n",
              "      <td>0</td>\n",
              "      <td>0.889142</td>\n",
              "      <td>1.369823</td>\n",
              "      <td>0.753623</td>\n",
              "      <td>03:15</td>\n",
              "    </tr>\n",
              "    <tr>\n",
              "      <td>1</td>\n",
              "      <td>0.758673</td>\n",
              "      <td>1.341587</td>\n",
              "      <td>0.766908</td>\n",
              "      <td>03:13</td>\n",
              "    </tr>\n",
              "  </tbody>\n",
              "</table>"
            ],
            "text/plain": [
              "<IPython.core.display.HTML object>"
            ]
          },
          "metadata": {
            "tags": []
          }
        }
      ]
    },
    {
      "cell_type": "code",
      "metadata": {
        "id": "XsHfrhCHG3dN",
        "outputId": "bb581822-9f68-4ecc-a221-665f8ca89528",
        "colab": {
          "base_uri": "https://localhost:8080/",
          "height": 173
        }
      },
      "source": [
        "learn.fit_one_cycle(4, slice(2e-3/100, 2e-3))"
      ],
      "execution_count": 34,
      "outputs": [
        {
          "output_type": "display_data",
          "data": {
            "text/html": [
              "<table border=\"1\" class=\"dataframe\">\n",
              "  <thead>\n",
              "    <tr style=\"text-align: left;\">\n",
              "      <th>epoch</th>\n",
              "      <th>train_loss</th>\n",
              "      <th>valid_loss</th>\n",
              "      <th>accuracy</th>\n",
              "      <th>time</th>\n",
              "    </tr>\n",
              "  </thead>\n",
              "  <tbody>\n",
              "    <tr>\n",
              "      <td>0</td>\n",
              "      <td>0.727860</td>\n",
              "      <td>1.297132</td>\n",
              "      <td>0.765700</td>\n",
              "      <td>03:20</td>\n",
              "    </tr>\n",
              "    <tr>\n",
              "      <td>1</td>\n",
              "      <td>0.682161</td>\n",
              "      <td>1.268262</td>\n",
              "      <td>0.777778</td>\n",
              "      <td>03:07</td>\n",
              "    </tr>\n",
              "    <tr>\n",
              "      <td>2</td>\n",
              "      <td>0.549458</td>\n",
              "      <td>1.249686</td>\n",
              "      <td>0.794686</td>\n",
              "      <td>03:13</td>\n",
              "    </tr>\n",
              "    <tr>\n",
              "      <td>3</td>\n",
              "      <td>0.477639</td>\n",
              "      <td>1.238210</td>\n",
              "      <td>0.792271</td>\n",
              "      <td>03:07</td>\n",
              "    </tr>\n",
              "  </tbody>\n",
              "</table>"
            ],
            "text/plain": [
              "<IPython.core.display.HTML object>"
            ]
          },
          "metadata": {
            "tags": []
          }
        }
      ]
    },
    {
      "cell_type": "code",
      "metadata": {
        "id": "0Zsd99isb9EQ",
        "outputId": "c8230bfd-73eb-4d42-baab-7aa749a918d8",
        "colab": {
          "base_uri": "https://localhost:8080/",
          "height": 173
        }
      },
      "source": [
        "learn.fit_one_cycle(4, slice(2e-3/100, 2e-3))"
      ],
      "execution_count": 35,
      "outputs": [
        {
          "output_type": "display_data",
          "data": {
            "text/html": [
              "<table border=\"1\" class=\"dataframe\">\n",
              "  <thead>\n",
              "    <tr style=\"text-align: left;\">\n",
              "      <th>epoch</th>\n",
              "      <th>train_loss</th>\n",
              "      <th>valid_loss</th>\n",
              "      <th>accuracy</th>\n",
              "      <th>time</th>\n",
              "    </tr>\n",
              "  </thead>\n",
              "  <tbody>\n",
              "    <tr>\n",
              "      <td>0</td>\n",
              "      <td>0.526333</td>\n",
              "      <td>1.239337</td>\n",
              "      <td>0.785024</td>\n",
              "      <td>03:06</td>\n",
              "    </tr>\n",
              "    <tr>\n",
              "      <td>1</td>\n",
              "      <td>0.523002</td>\n",
              "      <td>1.196720</td>\n",
              "      <td>0.798309</td>\n",
              "      <td>03:10</td>\n",
              "    </tr>\n",
              "    <tr>\n",
              "      <td>2</td>\n",
              "      <td>0.443726</td>\n",
              "      <td>1.194160</td>\n",
              "      <td>0.801932</td>\n",
              "      <td>03:12</td>\n",
              "    </tr>\n",
              "    <tr>\n",
              "      <td>3</td>\n",
              "      <td>0.407360</td>\n",
              "      <td>1.171961</td>\n",
              "      <td>0.804348</td>\n",
              "      <td>03:13</td>\n",
              "    </tr>\n",
              "  </tbody>\n",
              "</table>"
            ],
            "text/plain": [
              "<IPython.core.display.HTML object>"
            ]
          },
          "metadata": {
            "tags": []
          }
        }
      ]
    },
    {
      "cell_type": "code",
      "metadata": {
        "id": "atNWNKDFPbuI",
        "outputId": "2e50e242-d05a-47dc-a42c-7a040b9b68c9",
        "colab": {
          "base_uri": "https://localhost:8080/",
          "height": 173
        }
      },
      "source": [
        "learn.fit_one_cycle(4, slice(2e-3/100, 2e-3))"
      ],
      "execution_count": 36,
      "outputs": [
        {
          "output_type": "display_data",
          "data": {
            "text/html": [
              "<table border=\"1\" class=\"dataframe\">\n",
              "  <thead>\n",
              "    <tr style=\"text-align: left;\">\n",
              "      <th>epoch</th>\n",
              "      <th>train_loss</th>\n",
              "      <th>valid_loss</th>\n",
              "      <th>accuracy</th>\n",
              "      <th>time</th>\n",
              "    </tr>\n",
              "  </thead>\n",
              "  <tbody>\n",
              "    <tr>\n",
              "      <td>0</td>\n",
              "      <td>0.400173</td>\n",
              "      <td>1.256943</td>\n",
              "      <td>0.797101</td>\n",
              "      <td>03:03</td>\n",
              "    </tr>\n",
              "    <tr>\n",
              "      <td>1</td>\n",
              "      <td>0.389929</td>\n",
              "      <td>1.200507</td>\n",
              "      <td>0.800725</td>\n",
              "      <td>02:59</td>\n",
              "    </tr>\n",
              "    <tr>\n",
              "      <td>2</td>\n",
              "      <td>0.389820</td>\n",
              "      <td>1.179073</td>\n",
              "      <td>0.810386</td>\n",
              "      <td>03:23</td>\n",
              "    </tr>\n",
              "    <tr>\n",
              "      <td>3</td>\n",
              "      <td>0.339539</td>\n",
              "      <td>1.187400</td>\n",
              "      <td>0.811594</td>\n",
              "      <td>03:15</td>\n",
              "    </tr>\n",
              "  </tbody>\n",
              "</table>"
            ],
            "text/plain": [
              "<IPython.core.display.HTML object>"
            ]
          },
          "metadata": {
            "tags": []
          }
        }
      ]
    },
    {
      "cell_type": "code",
      "metadata": {
        "id": "rKrBTZ0T1uVA",
        "outputId": "011b2a4e-af7a-48cc-9d8e-e30339c0c0a3",
        "colab": {
          "base_uri": "https://localhost:8080/",
          "height": 173
        }
      },
      "source": [
        "learn.fit_one_cycle(4, slice(2e-3/100, 2e-3))"
      ],
      "execution_count": 37,
      "outputs": [
        {
          "output_type": "display_data",
          "data": {
            "text/html": [
              "<table border=\"1\" class=\"dataframe\">\n",
              "  <thead>\n",
              "    <tr style=\"text-align: left;\">\n",
              "      <th>epoch</th>\n",
              "      <th>train_loss</th>\n",
              "      <th>valid_loss</th>\n",
              "      <th>accuracy</th>\n",
              "      <th>time</th>\n",
              "    </tr>\n",
              "  </thead>\n",
              "  <tbody>\n",
              "    <tr>\n",
              "      <td>0</td>\n",
              "      <td>0.318364</td>\n",
              "      <td>1.151313</td>\n",
              "      <td>0.810386</td>\n",
              "      <td>03:06</td>\n",
              "    </tr>\n",
              "    <tr>\n",
              "      <td>1</td>\n",
              "      <td>0.381623</td>\n",
              "      <td>1.290988</td>\n",
              "      <td>0.812802</td>\n",
              "      <td>03:02</td>\n",
              "    </tr>\n",
              "    <tr>\n",
              "      <td>2</td>\n",
              "      <td>0.314728</td>\n",
              "      <td>1.217833</td>\n",
              "      <td>0.815217</td>\n",
              "      <td>03:20</td>\n",
              "    </tr>\n",
              "    <tr>\n",
              "      <td>3</td>\n",
              "      <td>0.260022</td>\n",
              "      <td>1.169992</td>\n",
              "      <td>0.812802</td>\n",
              "      <td>03:02</td>\n",
              "    </tr>\n",
              "  </tbody>\n",
              "</table>"
            ],
            "text/plain": [
              "<IPython.core.display.HTML object>"
            ]
          },
          "metadata": {
            "tags": []
          }
        }
      ]
    },
    {
      "cell_type": "code",
      "metadata": {
        "id": "ajQC6WDg1yA9",
        "outputId": "044ec1a5-baed-4652-e392-17479ac120a0",
        "colab": {
          "base_uri": "https://localhost:8080/",
          "height": 173
        }
      },
      "source": [
        "learn.fit_one_cycle(4, slice(2e-3/100, 2e-3))"
      ],
      "execution_count": 38,
      "outputs": [
        {
          "output_type": "display_data",
          "data": {
            "text/html": [
              "<table border=\"1\" class=\"dataframe\">\n",
              "  <thead>\n",
              "    <tr style=\"text-align: left;\">\n",
              "      <th>epoch</th>\n",
              "      <th>train_loss</th>\n",
              "      <th>valid_loss</th>\n",
              "      <th>accuracy</th>\n",
              "      <th>time</th>\n",
              "    </tr>\n",
              "  </thead>\n",
              "  <tbody>\n",
              "    <tr>\n",
              "      <td>0</td>\n",
              "      <td>0.278237</td>\n",
              "      <td>1.252651</td>\n",
              "      <td>0.816425</td>\n",
              "      <td>03:13</td>\n",
              "    </tr>\n",
              "    <tr>\n",
              "      <td>1</td>\n",
              "      <td>0.321388</td>\n",
              "      <td>1.246490</td>\n",
              "      <td>0.800725</td>\n",
              "      <td>03:14</td>\n",
              "    </tr>\n",
              "    <tr>\n",
              "      <td>2</td>\n",
              "      <td>0.267157</td>\n",
              "      <td>1.267465</td>\n",
              "      <td>0.820048</td>\n",
              "      <td>03:21</td>\n",
              "    </tr>\n",
              "    <tr>\n",
              "      <td>3</td>\n",
              "      <td>0.258135</td>\n",
              "      <td>1.172516</td>\n",
              "      <td>0.829710</td>\n",
              "      <td>03:02</td>\n",
              "    </tr>\n",
              "  </tbody>\n",
              "</table>"
            ],
            "text/plain": [
              "<IPython.core.display.HTML object>"
            ]
          },
          "metadata": {
            "tags": []
          }
        }
      ]
    },
    {
      "cell_type": "code",
      "metadata": {
        "id": "KKydb0B4BKGk",
        "outputId": "45f8c8f5-c12d-4ff6-82bd-d686c561f751",
        "colab": {
          "base_uri": "https://localhost:8080/",
          "height": 173
        }
      },
      "source": [
        "learn.fit_one_cycle(4, slice(2e-3/100, 2e-3))"
      ],
      "execution_count": 39,
      "outputs": [
        {
          "output_type": "display_data",
          "data": {
            "text/html": [
              "<table border=\"1\" class=\"dataframe\">\n",
              "  <thead>\n",
              "    <tr style=\"text-align: left;\">\n",
              "      <th>epoch</th>\n",
              "      <th>train_loss</th>\n",
              "      <th>valid_loss</th>\n",
              "      <th>accuracy</th>\n",
              "      <th>time</th>\n",
              "    </tr>\n",
              "  </thead>\n",
              "  <tbody>\n",
              "    <tr>\n",
              "      <td>0</td>\n",
              "      <td>0.244389</td>\n",
              "      <td>1.204281</td>\n",
              "      <td>0.827295</td>\n",
              "      <td>03:22</td>\n",
              "    </tr>\n",
              "    <tr>\n",
              "      <td>1</td>\n",
              "      <td>0.277654</td>\n",
              "      <td>1.236208</td>\n",
              "      <td>0.815217</td>\n",
              "      <td>03:15</td>\n",
              "    </tr>\n",
              "    <tr>\n",
              "      <td>2</td>\n",
              "      <td>0.242353</td>\n",
              "      <td>1.272437</td>\n",
              "      <td>0.822464</td>\n",
              "      <td>03:19</td>\n",
              "    </tr>\n",
              "    <tr>\n",
              "      <td>3</td>\n",
              "      <td>0.237342</td>\n",
              "      <td>1.297189</td>\n",
              "      <td>0.824879</td>\n",
              "      <td>03:15</td>\n",
              "    </tr>\n",
              "  </tbody>\n",
              "</table>"
            ],
            "text/plain": [
              "<IPython.core.display.HTML object>"
            ]
          },
          "metadata": {
            "tags": []
          }
        }
      ]
    },
    {
      "cell_type": "code",
      "metadata": {
        "id": "T2APKtFKBpGY",
        "outputId": "e7a0e53a-58f0-4d2e-a764-b3feaf161fe5",
        "colab": {
          "base_uri": "https://localhost:8080/",
          "height": 173
        }
      },
      "source": [
        "learn.fit_one_cycle(4, slice(2e-3/100, 2e-3))"
      ],
      "execution_count": 40,
      "outputs": [
        {
          "output_type": "display_data",
          "data": {
            "text/html": [
              "<table border=\"1\" class=\"dataframe\">\n",
              "  <thead>\n",
              "    <tr style=\"text-align: left;\">\n",
              "      <th>epoch</th>\n",
              "      <th>train_loss</th>\n",
              "      <th>valid_loss</th>\n",
              "      <th>accuracy</th>\n",
              "      <th>time</th>\n",
              "    </tr>\n",
              "  </thead>\n",
              "  <tbody>\n",
              "    <tr>\n",
              "      <td>0</td>\n",
              "      <td>0.226732</td>\n",
              "      <td>1.230085</td>\n",
              "      <td>0.824879</td>\n",
              "      <td>03:15</td>\n",
              "    </tr>\n",
              "    <tr>\n",
              "      <td>1</td>\n",
              "      <td>0.255800</td>\n",
              "      <td>1.259789</td>\n",
              "      <td>0.824879</td>\n",
              "      <td>03:14</td>\n",
              "    </tr>\n",
              "    <tr>\n",
              "      <td>2</td>\n",
              "      <td>0.216924</td>\n",
              "      <td>1.286958</td>\n",
              "      <td>0.823672</td>\n",
              "      <td>03:13</td>\n",
              "    </tr>\n",
              "    <tr>\n",
              "      <td>3</td>\n",
              "      <td>0.214485</td>\n",
              "      <td>1.200834</td>\n",
              "      <td>0.829710</td>\n",
              "      <td>03:30</td>\n",
              "    </tr>\n",
              "  </tbody>\n",
              "</table>"
            ],
            "text/plain": [
              "<IPython.core.display.HTML object>"
            ]
          },
          "metadata": {
            "tags": []
          }
        }
      ]
    },
    {
      "cell_type": "code",
      "metadata": {
        "id": "qtTypA1sPgLU",
        "outputId": "fe1b3705-a183-46fc-a91e-97b5331014ff",
        "colab": {
          "base_uri": "https://localhost:8080/",
          "height": 111
        }
      },
      "source": [
        "learn.fit_one_cycle(2, slice(2e-3/100, 2e-3))"
      ],
      "execution_count": 41,
      "outputs": [
        {
          "output_type": "display_data",
          "data": {
            "text/html": [
              "<table border=\"1\" class=\"dataframe\">\n",
              "  <thead>\n",
              "    <tr style=\"text-align: left;\">\n",
              "      <th>epoch</th>\n",
              "      <th>train_loss</th>\n",
              "      <th>valid_loss</th>\n",
              "      <th>accuracy</th>\n",
              "      <th>time</th>\n",
              "    </tr>\n",
              "  </thead>\n",
              "  <tbody>\n",
              "    <tr>\n",
              "      <td>0</td>\n",
              "      <td>0.217092</td>\n",
              "      <td>1.273158</td>\n",
              "      <td>0.829710</td>\n",
              "      <td>03:31</td>\n",
              "    </tr>\n",
              "    <tr>\n",
              "      <td>1</td>\n",
              "      <td>0.219392</td>\n",
              "      <td>1.145713</td>\n",
              "      <td>0.827295</td>\n",
              "      <td>03:42</td>\n",
              "    </tr>\n",
              "  </tbody>\n",
              "</table>"
            ],
            "text/plain": [
              "<IPython.core.display.HTML object>"
            ]
          },
          "metadata": {
            "tags": []
          }
        }
      ]
    },
    {
      "cell_type": "code",
      "metadata": {
        "id": "b242kBsTUp9Y",
        "outputId": "1884d901-6f5b-4282-e278-4f65f8446d43",
        "colab": {
          "base_uri": "https://localhost:8080/",
          "height": 111
        }
      },
      "source": [
        "learn.fit_one_cycle(2, slice(2e-3/100, 2e-3))"
      ],
      "execution_count": 42,
      "outputs": [
        {
          "output_type": "display_data",
          "data": {
            "text/html": [
              "<table border=\"1\" class=\"dataframe\">\n",
              "  <thead>\n",
              "    <tr style=\"text-align: left;\">\n",
              "      <th>epoch</th>\n",
              "      <th>train_loss</th>\n",
              "      <th>valid_loss</th>\n",
              "      <th>accuracy</th>\n",
              "      <th>time</th>\n",
              "    </tr>\n",
              "  </thead>\n",
              "  <tbody>\n",
              "    <tr>\n",
              "      <td>0</td>\n",
              "      <td>0.220348</td>\n",
              "      <td>1.252099</td>\n",
              "      <td>0.829710</td>\n",
              "      <td>03:31</td>\n",
              "    </tr>\n",
              "    <tr>\n",
              "      <td>1</td>\n",
              "      <td>0.207190</td>\n",
              "      <td>1.263019</td>\n",
              "      <td>0.829710</td>\n",
              "      <td>03:41</td>\n",
              "    </tr>\n",
              "  </tbody>\n",
              "</table>"
            ],
            "text/plain": [
              "<IPython.core.display.HTML object>"
            ]
          },
          "metadata": {
            "tags": []
          }
        }
      ]
    },
    {
      "cell_type": "code",
      "metadata": {
        "id": "Duwf1Ih5VeDZ",
        "outputId": "b7b94eb4-5308-4bba-d868-ff209c2839f2",
        "colab": {
          "base_uri": "https://localhost:8080/",
          "height": 80
        }
      },
      "source": [
        "learn.fit_one_cycle(1, slice(2e-3/100, 2e-3))"
      ],
      "execution_count": 43,
      "outputs": [
        {
          "output_type": "display_data",
          "data": {
            "text/html": [
              "<table border=\"1\" class=\"dataframe\">\n",
              "  <thead>\n",
              "    <tr style=\"text-align: left;\">\n",
              "      <th>epoch</th>\n",
              "      <th>train_loss</th>\n",
              "      <th>valid_loss</th>\n",
              "      <th>accuracy</th>\n",
              "      <th>time</th>\n",
              "    </tr>\n",
              "  </thead>\n",
              "  <tbody>\n",
              "    <tr>\n",
              "      <td>0</td>\n",
              "      <td>0.191841</td>\n",
              "      <td>1.257393</td>\n",
              "      <td>0.823672</td>\n",
              "      <td>03:27</td>\n",
              "    </tr>\n",
              "  </tbody>\n",
              "</table>"
            ],
            "text/plain": [
              "<IPython.core.display.HTML object>"
            ]
          },
          "metadata": {
            "tags": []
          }
        }
      ]
    },
    {
      "cell_type": "code",
      "metadata": {
        "id": "c65d-osfDUXm"
      },
      "source": [
        "# save the best model\n",
        "\n",
        "learn.save_encoder('healthnews_ask_mixed_fold4')"
      ],
      "execution_count": 44,
      "outputs": []
    },
    {
      "cell_type": "markdown",
      "metadata": {
        "id": "rCwZU0E2RgM6"
      },
      "source": [
        "# Part three: Predict on the test dataset"
      ]
    },
    {
      "cell_type": "code",
      "metadata": {
        "id": "gDm72c-dOu7d",
        "outputId": "d25c4134-f2a8-4170-ff9a-1afe59123d33",
        "colab": {
          "base_uri": "https://localhost:8080/",
          "height": 17
        }
      },
      "source": [
        "# use the test data for prediction\n",
        "\n",
        "preds, y = learn.get_preds(DatasetType.Test)"
      ],
      "execution_count": 45,
      "outputs": [
        {
          "output_type": "display_data",
          "data": {
            "text/html": [
              ""
            ],
            "text/plain": [
              "<IPython.core.display.HTML object>"
            ]
          },
          "metadata": {
            "tags": []
          }
        }
      ]
    },
    {
      "cell_type": "code",
      "metadata": {
        "id": "6tFSQcsWPvxn",
        "outputId": "de0eef75-9757-4ea6-8030-23f20bc1b7fc",
        "colab": {
          "base_uri": "https://localhost:8080/",
          "height": 105
        }
      },
      "source": [
        "predictions, *_ = learn.get_preds(DatasetType.Test)\n",
        "labels = np.argmax(predictions, 1)\n",
        "predict_list = labels.tolist()\n",
        "standard_list = test[0].tolist()\n",
        "\n",
        "print(len(predict_list))\n",
        "print(len(standard_list))\n",
        "\n",
        "print(predict_list)\n",
        "print(standard_list)"
      ],
      "execution_count": 46,
      "outputs": [
        {
          "output_type": "display_data",
          "data": {
            "text/html": [
              ""
            ],
            "text/plain": [
              "<IPython.core.display.HTML object>"
            ]
          },
          "metadata": {
            "tags": []
          }
        },
        {
          "output_type": "stream",
          "text": [
            "866\n",
            "866\n",
            "[123, 165, 269, 12, 16, 359, 27, 27, 27, 29, 31, 31, 31, 31, 31, 32, 37, 37, 37, 37, 37, 37, 37, 42, 48, 325, 100, 325, 100, 49, 100, 100, 100, 100, 100, 100, 100, 100, 100, 100, 100, 100, 53, 53, 53, 125, 226, 419, 61, 61, 62, 26, 76, 76, 76, 614, 289, 79, 964, 79, 79, 79, 79, 79, 79, 79, 79, 79, 79, 79, 79, 79, 79, 79, 79, 79, 79, 79, 79, 79, 79, 79, 80, 80, 80, 268, 91, 91, 92, 92, 92, 94, 94, 94, 94, 94, 94, 94, 94, 94, 94, 94, 94, 94, 367, 94, 94, 475, 475, 96, 100, 100, 397, 107, 108, 108, 256, 111, 111, 289, 111, 111, 111, 730, 113, 116, 972, 142, 917, 917, 125, 125, 125, 125, 125, 125, 125, 125, 125, 125, 125, 125, 125, 125, 125, 125, 125, 129, 167, 139, 140, 143, 147, 157, 160, 882, 882, 166, 166, 405, 172, 172, 172, 172, 172, 172, 172, 175, 165, 182, 182, 182, 182, 182, 182, 182, 182, 183, 183, 183, 183, 183, 183, 183, 183, 183, 183, 186, 187, 187, 188, 189, 189, 190, 190, 190, 190, 190, 190, 606, 79, 197, 197, 205, 206, 207, 208, 210, 214, 299, 214, 214, 214, 214, 471, 214, 214, 214, 214, 214, 445, 964, 218, 220, 220, 205, 226, 226, 227, 228, 228, 228, 228, 228, 228, 228, 228, 228, 228, 228, 228, 228, 289, 234, 234, 235, 235, 236, 236, 236, 602, 243, 972, 973, 243, 243, 973, 739, 245, 840, 245, 245, 245, 245, 245, 245, 485, 254, 318, 265, 265, 318, 265, 265, 265, 265, 701, 265, 402, 265, 265, 265, 265, 265, 265, 265, 214, 526, 265, 309, 86, 270, 275, 274, 276, 280, 280, 524, 451, 286, 999, 805, 265, 652, 79, 265, 289, 289, 289, 289, 289, 289, 289, 172, 111, 172, 289, 289, 289, 289, 289, 110, 300, 300, 301, 301, 402, 214, 265, 309, 309, 309, 310, 132, 318, 764, 476, 7, 323, 323, 384, 384, 384, 384, 384, 384, 384, 384, 384, 859, 505, 555, 325, 326, 326, 332, 332, 217, 336, 337, 337, 337, 338, 768, 712, 342, 343, 343, 343, 343, 343, 343, 623, 770, 356, 784, 359, 359, 368, 360, 362, 577, 986, 858, 473, 372, 397, 617, 438, 391, 391, 393, 593, 401, 402, 402, 402, 402, 795, 408, 408, 501, 418, 419, 419, 419, 419, 419, 420, 424, 426, 426, 426, 426, 427, 427, 427, 427, 427, 427, 427, 427, 816, 256, 430, 430, 431, 434, 433, 435, 441, 441, 441, 441, 438, 455, 455, 455, 455, 459, 460, 604, 470, 715, 471, 214, 510, 71, 81, 475, 489, 491, 491, 541, 491, 491, 491, 491, 491, 491, 491, 664, 82, 491, 492, 964, 495, 365, 375, 514, 510, 822, 853, 517, 518, 517, 519, 577, 522, 75, 530, 530, 530, 530, 27, 27, 537, 1020, 973, 541, 541, 545, 545, 546, 546, 546, 548, 384, 384, 314, 557, 559, 610, 567, 721, 172, 883, 775, 574, 430, 579, 579, 583, 31, 590, 590, 590, 592, 592, 97, 594, 427, 427, 597, 597, 172, 26, 610, 426, 426, 614, 614, 614, 614, 110, 110, 964, 202, 623, 623, 623, 623, 256, 624, 3, 627, 79, 367, 841, 644, 298, 532, 644, 786, 646, 646, 646, 646, 646, 646, 646, 646, 648, 652, 652, 652, 652, 652, 130, 658, 658, 662, 662, 663, 666, 666, 671, 677, 677, 686, 693, 696, 605, 708, 388, 711, 711, 714, 715, 715, 715, 638, 594, 728, 741, 741, 742, 482, 746, 749, 753, 496, 245, 769, 102, 774, 775, 775, 777, 778, 787, 402, 794, 473, 797, 415, 999, 847, 809, 847, 531, 607, 809, 809, 809, 810, 351, 426, 817, 817, 824, 825, 826, 491, 826, 826, 826, 999, 634, 830, 830, 831, 999, 838, 840, 840, 368, 356, 841, 841, 844, 846, 847, 847, 531, 96, 794, 672, 850, 939, 852, 853, 853, 853, 853, 853, 853, 853, 853, 853, 973, 853, 543, 337, 337, 864, 864, 864, 865, 867, 765, 876, 107, 877, 878, 882, 890, 893, 896, 896, 896, 704, 896, 896, 896, 904, 904, 904, 809, 433, 94, 999, 919, 919, 999, 1023, 922, 937, 937, 937, 937, 942, 945, 948, 948, 949, 949, 949, 949, 949, 949, 949, 949, 949, 949, 949, 949, 949, 949, 949, 949, 949, 949, 949, 949, 949, 949, 949, 949, 949, 949, 949, 949, 949, 949, 949, 949, 949, 949, 949, 949, 949, 949, 949, 949, 949, 949, 949, 949, 949, 949, 949, 949, 949, 949, 949, 949, 949, 949, 949, 949, 949, 949, 949, 949, 949, 949, 949, 949, 949, 949, 949, 949, 949, 949, 949, 949, 949, 949, 949, 949, 949, 949, 949, 949, 949, 949, 949, 949, 949, 949, 949, 949, 949, 949, 949, 949, 949, 949, 949, 949, 949, 949, 949, 949, 949, 949, 949, 949, 949, 949, 949, 949, 949, 949, 949, 950, 950, 950, 973, 952, 952, 973, 955, 961, 964, 1023, 1023, 967, 969, 999, 977, 999, 186, 999, 1001, 1001, 1001, 256, 1015, 1015, 973, 1017, 1014, 1030, 1026, 1026, 1026, 1026, 719, 1026, 1028, 1029, 1011, 1033, 1035]\n",
            "[4, 6, 8, 12, 16, 16, 27, 27, 27, 29, 31, 31, 31, 31, 31, 32, 37, 37, 37, 37, 37, 37, 37, 42, 48, 49, 49, 49, 49, 49, 49, 49, 49, 49, 49, 49, 49, 49, 49, 49, 49, 49, 53, 53, 53, 53, 59, 60, 61, 61, 62, 64, 76, 76, 76, 76, 76, 79, 79, 79, 79, 79, 79, 79, 79, 79, 79, 79, 79, 79, 79, 79, 79, 79, 79, 79, 79, 79, 79, 79, 79, 79, 80, 80, 80, 89, 91, 91, 92, 92, 92, 94, 94, 94, 94, 94, 94, 94, 94, 94, 94, 94, 94, 94, 94, 94, 94, 96, 96, 96, 100, 100, 100, 107, 108, 108, 108, 111, 111, 111, 111, 111, 111, 111, 113, 116, 119, 120, 122, 122, 125, 125, 125, 125, 125, 125, 125, 125, 125, 125, 125, 125, 125, 125, 125, 125, 125, 129, 131, 139, 140, 143, 147, 157, 160, 165, 165, 166, 166, 168, 172, 172, 172, 172, 172, 172, 172, 175, 178, 182, 182, 182, 182, 182, 182, 182, 182, 183, 183, 183, 183, 183, 183, 183, 183, 183, 183, 186, 187, 187, 188, 189, 189, 190, 190, 190, 190, 190, 190, 190, 195, 197, 197, 205, 206, 207, 208, 210, 214, 214, 214, 214, 214, 214, 214, 214, 214, 214, 214, 214, 216, 216, 218, 220, 220, 223, 226, 226, 227, 228, 228, 228, 228, 228, 228, 228, 228, 228, 228, 228, 228, 228, 228, 234, 234, 235, 235, 236, 236, 236, 243, 243, 243, 243, 243, 243, 243, 245, 245, 245, 245, 245, 245, 245, 245, 245, 246, 254, 265, 265, 265, 265, 265, 265, 265, 265, 265, 265, 265, 265, 265, 265, 265, 265, 265, 265, 265, 265, 265, 265, 268, 270, 271, 274, 276, 280, 280, 281, 285, 286, 287, 288, 289, 289, 289, 289, 289, 289, 289, 289, 289, 289, 289, 289, 289, 289, 289, 289, 289, 289, 289, 298, 300, 300, 301, 301, 301, 301, 301, 309, 309, 309, 309, 312, 318, 318, 321, 323, 323, 323, 325, 325, 325, 325, 325, 325, 325, 325, 325, 325, 325, 325, 325, 326, 326, 332, 332, 335, 336, 337, 337, 337, 338, 338, 339, 342, 343, 343, 343, 343, 343, 343, 348, 350, 359, 359, 359, 359, 359, 360, 362, 363, 364, 366, 368, 372, 382, 385, 390, 391, 391, 393, 396, 401, 402, 402, 402, 402, 408, 408, 408, 409, 418, 419, 419, 419, 419, 419, 420, 424, 426, 426, 426, 426, 427, 427, 427, 427, 427, 427, 427, 427, 427, 427, 430, 430, 431, 434, 434, 435, 441, 441, 441, 441, 446, 455, 455, 455, 455, 459, 460, 463, 470, 470, 471, 471, 472, 474, 475, 475, 489, 491, 491, 491, 491, 491, 491, 491, 491, 491, 491, 491, 491, 491, 492, 495, 495, 508, 509, 510, 511, 516, 516, 517, 517, 517, 518, 521, 522, 529, 530, 530, 530, 530, 536, 536, 537, 540, 540, 541, 541, 545, 545, 546, 546, 546, 548, 548, 548, 556, 557, 559, 565, 567, 568, 570, 570, 573, 574, 577, 579, 579, 583, 584, 590, 590, 590, 592, 592, 594, 594, 596, 597, 597, 597, 604, 610, 610, 614, 614, 614, 614, 614, 614, 616, 616, 619, 619, 623, 623, 623, 623, 623, 624, 626, 627, 633, 639, 640, 644, 644, 644, 644, 646, 646, 646, 646, 646, 646, 646, 646, 646, 648, 652, 652, 652, 652, 652, 655, 658, 658, 662, 662, 664, 666, 666, 671, 676, 684, 686, 693, 696, 702, 708, 711, 711, 711, 714, 715, 715, 715, 723, 724, 728, 741, 741, 742, 744, 746, 749, 753, 758, 765, 769, 772, 774, 775, 775, 777, 778, 787, 789, 794, 794, 797, 801, 803, 808, 809, 809, 809, 809, 809, 809, 809, 810, 811, 816, 817, 817, 824, 825, 826, 826, 826, 826, 826, 830, 830, 830, 830, 831, 832, 838, 840, 840, 840, 841, 841, 841, 844, 846, 847, 847, 847, 847, 848, 849, 850, 852, 852, 853, 853, 853, 853, 853, 853, 853, 853, 853, 853, 853, 854, 860, 860, 864, 864, 864, 865, 867, 876, 876, 877, 877, 878, 882, 890, 893, 896, 896, 896, 896, 896, 896, 897, 904, 904, 904, 904, 910, 911, 918, 919, 919, 919, 921, 924, 937, 937, 937, 937, 942, 945, 948, 948, 949, 949, 949, 949, 949, 949, 949, 949, 949, 949, 949, 949, 949, 949, 949, 949, 949, 949, 949, 949, 949, 949, 949, 949, 949, 949, 949, 949, 949, 949, 949, 949, 949, 949, 949, 949, 949, 949, 949, 949, 949, 949, 949, 949, 949, 949, 949, 949, 949, 949, 949, 949, 949, 949, 949, 949, 949, 949, 949, 949, 949, 949, 949, 949, 949, 949, 949, 949, 949, 949, 949, 949, 949, 949, 949, 949, 949, 949, 949, 949, 949, 949, 949, 949, 949, 949, 949, 949, 949, 949, 949, 949, 949, 949, 949, 949, 949, 949, 949, 949, 949, 949, 949, 949, 949, 949, 949, 949, 949, 949, 949, 950, 950, 950, 951, 952, 952, 954, 955, 961, 964, 967, 967, 967, 968, 969, 977, 996, 998, 999, 1001, 1001, 1001, 1007, 1015, 1015, 1016, 1017, 1018, 1025, 1026, 1026, 1026, 1026, 1026, 1026, 1028, 1029, 1031, 1033, 1035]\n"
          ],
          "name": "stdout"
        }
      ]
    },
    {
      "cell_type": "code",
      "metadata": {
        "id": "XIC4zufnMxtq",
        "outputId": "774798c2-feae-4c91-8e88-7b346873fcaa",
        "colab": {
          "base_uri": "https://localhost:8080/"
        }
      },
      "source": [
        "correct_num = 0\n",
        "\n",
        "for i in range(0, len(standard_list)):\n",
        "  if predict_list[i] == standard_list[i]:\n",
        "    correct_num = correct_num+1\n",
        "  else:\n",
        "    pass\n",
        "print(correct_num)\n",
        "\n",
        "predict_accuracy = correct_num/len(predict_list)\n",
        "print(predict_accuracy)"
      ],
      "execution_count": 47,
      "outputs": [
        {
          "output_type": "stream",
          "text": [
            "629\n",
            "0.7263279445727483\n"
          ],
          "name": "stdout"
        }
      ]
    },
    {
      "cell_type": "code",
      "metadata": {
        "id": "zlKMHp1CIaRJ"
      },
      "source": [
        ""
      ],
      "execution_count": 47,
      "outputs": []
    }
  ]
}