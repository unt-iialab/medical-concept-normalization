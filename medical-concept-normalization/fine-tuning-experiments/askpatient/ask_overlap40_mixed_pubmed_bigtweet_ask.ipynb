{
  "nbformat": 4,
  "nbformat_minor": 0,
  "metadata": {
    "accelerator": "TPU",
    "colab": {
      "name": "ask_overlap40_mixed_pubmed_bigtweet_ask.ipynb",
      "provenance": [],
      "collapsed_sections": [],
      "toc_visible": true,
      "include_colab_link": true
    },
    "kernelspec": {
      "display_name": "Python 3",
      "name": "python3"
    }
  },
  "cells": [
    {
      "cell_type": "markdown",
      "metadata": {
        "id": "view-in-github",
        "colab_type": "text"
      },
      "source": [
        "<a href=\"https://colab.research.google.com/github/unt-iialab/medical-concept-normalization/blob/master/medical-concept-normalization/fine-tuning-experiments/askpatient/ask_overlap40_mixed_pubmed_bigtweet_ask.ipynb\" target=\"_parent\"><img src=\"https://colab.research.google.com/assets/colab-badge.svg\" alt=\"Open In Colab\"/></a>"
      ]
    },
    {
      "cell_type": "code",
      "metadata": {
        "id": "adSi6i2-dWxy"
      },
      "source": [
        "import os"
      ],
      "execution_count": 1,
      "outputs": []
    },
    {
      "cell_type": "code",
      "metadata": {
        "id": "E7xYCRGPjd9B"
      },
      "source": [
        "base_dir = 'medical-concept-normalization'"
      ],
      "execution_count": 2,
      "outputs": []
    },
    {
      "cell_type": "code",
      "metadata": {
        "id": "yvIW3aUDjYNS"
      },
      "source": [
        "os.mkdir(base_dir)"
      ],
      "execution_count": 3,
      "outputs": []
    },
    {
      "cell_type": "code",
      "metadata": {
        "id": "es-FFLlfk6SG"
      },
      "source": [
        "os.mkdir('medical-concept-normalization/data_collection')"
      ],
      "execution_count": 4,
      "outputs": []
    },
    {
      "cell_type": "markdown",
      "metadata": {
        "id": "0R-Guw_VoJXm"
      },
      "source": [
        "**Install fastai and clone the fastai for text classification**\n",
        "\n"
      ]
    },
    {
      "cell_type": "code",
      "metadata": {
        "id": "QVZa3Z0PmHFH",
        "outputId": "32d7e821-4eee-47d1-baef-39e2e11cd063",
        "colab": {
          "base_uri": "https://localhost:8080/",
          "height": 68
        }
      },
      "source": [
        "!curl https://course-v3.fast.ai/setup/colab | bash"
      ],
      "execution_count": 5,
      "outputs": [
        {
          "output_type": "stream",
          "text": [
            "  % Total    % Received % Xferd  Average Speed   Time    Time     Time  Current\n",
            "                                 Dload  Upload   Total   Spent    Left  Speed\n",
            "\r  0     0    0     0    0     0      0      0 --:--:-- --:--:-- --:--:--     0curl: (6) Could not resolve host: course-v3.fast.ai\n"
          ],
          "name": "stdout"
        }
      ]
    },
    {
      "cell_type": "code",
      "metadata": {
        "id": "_FBFFEBrmJC0",
        "outputId": "4dcffeca-d246-470b-d443-7365815e07b4",
        "colab": {
          "base_uri": "https://localhost:8080/",
          "height": 85
        }
      },
      "source": [
        "!git clone https://github.com/wshuyi/demo-nlp-classification-fastai.git"
      ],
      "execution_count": 6,
      "outputs": [
        {
          "output_type": "stream",
          "text": [
            "Cloning into 'demo-nlp-classification-fastai'...\n",
            "remote: Enumerating objects: 9, done.\u001b[K\n",
            "remote: Total 9 (delta 0), reused 0 (delta 0), pack-reused 9\u001b[K\n",
            "Unpacking objects: 100% (9/9), done.\n"
          ],
          "name": "stdout"
        }
      ]
    },
    {
      "cell_type": "code",
      "metadata": {
        "id": "66zfh_JqmWMU"
      },
      "source": [
        "from fastai import *\n",
        "from fastai.text import *"
      ],
      "execution_count": 7,
      "outputs": []
    },
    {
      "cell_type": "markdown",
      "metadata": {
        "id": "mNIw-yALdBU9"
      },
      "source": [
        "**Set the path of the data collections**"
      ]
    },
    {
      "cell_type": "code",
      "metadata": {
        "id": "pzH7VMh4mqCL"
      },
      "source": [
        "path = Path('medical-concept-normalization/data_collection')"
      ],
      "execution_count": 8,
      "outputs": []
    },
    {
      "cell_type": "code",
      "metadata": {
        "id": "b8fjI6yyn4aS"
      },
      "source": [
        "# training data set\n",
        "\n",
        "train_csv = path/'AskAPatient.fold-0.train.csv'\n",
        "train = pd.read_csv(train_csv, header=None)\n",
        "#train.head()\n",
        "#train.info()"
      ],
      "execution_count": 10,
      "outputs": []
    },
    {
      "cell_type": "code",
      "metadata": {
        "id": "Hmlr-bAorfHd",
        "outputId": "5e2312d3-fde0-4464-b607-309be75dbe99",
        "colab": {
          "base_uri": "https://localhost:8080/",
          "height": 204
        }
      },
      "source": [
        "# validating data set\n",
        "\n",
        "valid = pd.read_csv(path/\"AskAPatient.fold-0.validation.csv\",header=None)\n",
        "valid.head()"
      ],
      "execution_count": 11,
      "outputs": [
        {
          "output_type": "execute_result",
          "data": {
            "text/html": [
              "<div>\n",
              "<style scoped>\n",
              "    .dataframe tbody tr th:only-of-type {\n",
              "        vertical-align: middle;\n",
              "    }\n",
              "\n",
              "    .dataframe tbody tr th {\n",
              "        vertical-align: top;\n",
              "    }\n",
              "\n",
              "    .dataframe thead th {\n",
              "        text-align: right;\n",
              "    }\n",
              "</style>\n",
              "<table border=\"1\" class=\"dataframe\">\n",
              "  <thead>\n",
              "    <tr style=\"text-align: right;\">\n",
              "      <th></th>\n",
              "      <th>0</th>\n",
              "      <th>1</th>\n",
              "    </tr>\n",
              "  </thead>\n",
              "  <tbody>\n",
              "    <tr>\n",
              "      <th>0</th>\n",
              "      <td>0</td>\n",
              "      <td>fear</td>\n",
              "    </tr>\n",
              "    <tr>\n",
              "      <th>1</th>\n",
              "      <td>2</td>\n",
              "      <td>heel pain</td>\n",
              "    </tr>\n",
              "    <tr>\n",
              "      <th>2</th>\n",
              "      <td>4</td>\n",
              "      <td>purple sploches around waist</td>\n",
              "    </tr>\n",
              "    <tr>\n",
              "      <th>3</th>\n",
              "      <td>7</td>\n",
              "      <td>goiter</td>\n",
              "    </tr>\n",
              "    <tr>\n",
              "      <th>4</th>\n",
              "      <td>8</td>\n",
              "      <td>ARTHRITIS</td>\n",
              "    </tr>\n",
              "  </tbody>\n",
              "</table>\n",
              "</div>"
            ],
            "text/plain": [
              "   0                             1\n",
              "0  0                          fear\n",
              "1  2                     heel pain\n",
              "2  4  purple sploches around waist\n",
              "3  7                        goiter\n",
              "4  8                     ARTHRITIS"
            ]
          },
          "metadata": {
            "tags": []
          },
          "execution_count": 11
        }
      ]
    },
    {
      "cell_type": "code",
      "metadata": {
        "id": "cOza9dfSsBud",
        "outputId": "c1fba93a-a915-4f8f-e199-f23b5dafaef3",
        "colab": {
          "base_uri": "https://localhost:8080/",
          "height": 204
        }
      },
      "source": [
        "# testing data set\n",
        "\n",
        "test = pd.read_csv(path/\"AskAPatient_overlap_40.csv\",header=None)\n",
        "test.head()"
      ],
      "execution_count": 12,
      "outputs": [
        {
          "output_type": "execute_result",
          "data": {
            "text/html": [
              "<div>\n",
              "<style scoped>\n",
              "    .dataframe tbody tr th:only-of-type {\n",
              "        vertical-align: middle;\n",
              "    }\n",
              "\n",
              "    .dataframe tbody tr th {\n",
              "        vertical-align: top;\n",
              "    }\n",
              "\n",
              "    .dataframe thead th {\n",
              "        text-align: right;\n",
              "    }\n",
              "</style>\n",
              "<table border=\"1\" class=\"dataframe\">\n",
              "  <thead>\n",
              "    <tr style=\"text-align: right;\">\n",
              "      <th></th>\n",
              "      <th>0</th>\n",
              "      <th>1</th>\n",
              "    </tr>\n",
              "  </thead>\n",
              "  <tbody>\n",
              "    <tr>\n",
              "      <th>0</th>\n",
              "      <td>0</td>\n",
              "      <td>'scared' feeling</td>\n",
              "    </tr>\n",
              "    <tr>\n",
              "      <th>1</th>\n",
              "      <td>3</td>\n",
              "      <td>cracking sensations in my joints</td>\n",
              "    </tr>\n",
              "    <tr>\n",
              "      <th>2</th>\n",
              "      <td>4</td>\n",
              "      <td>purple sploches around waist</td>\n",
              "    </tr>\n",
              "    <tr>\n",
              "      <th>3</th>\n",
              "      <td>5</td>\n",
              "      <td>fast and slow heartbeat</td>\n",
              "    </tr>\n",
              "    <tr>\n",
              "      <th>4</th>\n",
              "      <td>5</td>\n",
              "      <td>increased heart rate</td>\n",
              "    </tr>\n",
              "  </tbody>\n",
              "</table>\n",
              "</div>"
            ],
            "text/plain": [
              "   0                                 1\n",
              "0  0                  'scared' feeling\n",
              "1  3  cracking sensations in my joints\n",
              "2  4      purple sploches around waist\n",
              "3  5           fast and slow heartbeat\n",
              "4  5              increased heart rate"
            ]
          },
          "metadata": {
            "tags": []
          },
          "execution_count": 12
        }
      ]
    },
    {
      "cell_type": "code",
      "metadata": {
        "id": "Vo-YNvVYoaH6",
        "outputId": "f2fa21e2-14be-413e-ea8c-5456547d0323",
        "colab": {
          "base_uri": "https://localhost:8080/",
          "height": 17
        }
      },
      "source": [
        "# Creating DataBunch for language modelling\n",
        "\n",
        "data_lm = TextLMDataBunch.from_csv(path, 'mixed_pubmed_bigtweet_askpatient.csv')"
      ],
      "execution_count": 13,
      "outputs": [
        {
          "output_type": "display_data",
          "data": {
            "text/html": [
              ""
            ],
            "text/plain": [
              "<IPython.core.display.HTML object>"
            ]
          },
          "metadata": {
            "tags": []
          }
        },
        {
          "output_type": "display_data",
          "data": {
            "text/html": [
              ""
            ],
            "text/plain": [
              "<IPython.core.display.HTML object>"
            ]
          },
          "metadata": {
            "tags": []
          }
        }
      ]
    },
    {
      "cell_type": "code",
      "metadata": {
        "id": "qcV-9kMnNLBf"
      },
      "source": [
        ""
      ],
      "execution_count": 13,
      "outputs": []
    },
    {
      "cell_type": "code",
      "metadata": {
        "id": "1ScY9afDsnvE"
      },
      "source": [
        "# Creating DataBunch for classification\n",
        "\n",
        "# data_clas = TextClasDataBunch.from_df(path, train, valid, test, vocab=data_lm.train_ds.vocab, bs=128)"
      ],
      "execution_count": 14,
      "outputs": []
    },
    {
      "cell_type": "code",
      "metadata": {
        "id": "gzrSdQcvey9p",
        "outputId": "b8d57789-ad30-4f08-9cf0-1e335b284941",
        "colab": {
          "base_uri": "https://localhost:8080/",
          "height": 17
        }
      },
      "source": [
        "data_clas = TextClasDataBunch.from_df(path, train, valid, vocab=data_lm.train_ds.vocab, bs=128)"
      ],
      "execution_count": 15,
      "outputs": [
        {
          "output_type": "display_data",
          "data": {
            "text/html": [
              ""
            ],
            "text/plain": [
              "<IPython.core.display.HTML object>"
            ]
          },
          "metadata": {
            "tags": []
          }
        },
        {
          "output_type": "display_data",
          "data": {
            "text/html": [
              ""
            ],
            "text/plain": [
              "<IPython.core.display.HTML object>"
            ]
          },
          "metadata": {
            "tags": []
          }
        }
      ]
    },
    {
      "cell_type": "code",
      "metadata": {
        "id": "MD27Tf0Ke3ou",
        "outputId": "5b8c2948-7abb-450f-bb4e-fb888dd2121e",
        "colab": {
          "base_uri": "https://localhost:8080/",
          "height": 17
        }
      },
      "source": [
        "data_clas.add_test(test,label=0)\n"
      ],
      "execution_count": 16,
      "outputs": [
        {
          "output_type": "display_data",
          "data": {
            "text/html": [
              ""
            ],
            "text/plain": [
              "<IPython.core.display.HTML object>"
            ]
          },
          "metadata": {
            "tags": []
          }
        }
      ]
    },
    {
      "cell_type": "code",
      "metadata": {
        "id": "-dpjnk_rstwk"
      },
      "source": [
        "data_lm.save()\n",
        "data_clas.save()"
      ],
      "execution_count": 17,
      "outputs": []
    },
    {
      "cell_type": "code",
      "metadata": {
        "id": "4OkiJa36sw5s",
        "outputId": "92b44348-8e94-46e5-88f3-e088bf5c4b9e",
        "colab": {
          "base_uri": "https://localhost:8080/",
          "height": 1000
        }
      },
      "source": [
        "data_lm.train_ds.vocab.itos"
      ],
      "execution_count": 18,
      "outputs": [
        {
          "output_type": "execute_result",
          "data": {
            "text/plain": [
              "['xxunk',\n",
              " 'xxpad',\n",
              " 'xxbos',\n",
              " 'xxeos',\n",
              " 'xxfld',\n",
              " 'xxmaj',\n",
              " 'xxup',\n",
              " 'xxrep',\n",
              " 'xxwrep',\n",
              " 'pain',\n",
              " 'of',\n",
              " 'the',\n",
              " 'in',\n",
              " 'lipitor',\n",
              " 'and',\n",
              " 'to',\n",
              " 'a',\n",
              " 'muscle',\n",
              " 'with',\n",
              " 'for',\n",
              " 'was',\n",
              " 'diclofenac',\n",
              " 'were',\n",
              " 'severe',\n",
              " 'on',\n",
              " 'my',\n",
              " 'is',\n",
              " 'myalgia',\n",
              " 'lower',\n",
              " 'fatigue',\n",
              " 'rt',\n",
              " 'loss',\n",
              " 'by',\n",
              " 'limb',\n",
              " 'sodium',\n",
              " 'cramp',\n",
              " 'weakness',\n",
              " 'at',\n",
              " 'disease',\n",
              " 'stomach',\n",
              " 'that',\n",
              " 'or',\n",
              " 'back',\n",
              " 'as',\n",
              " '-',\n",
              " 'depression',\n",
              " 'from',\n",
              " 'patients',\n",
              " 'i',\n",
              " 'this',\n",
              " 'not',\n",
              " 'cramps',\n",
              " 'upper',\n",
              " 'joint',\n",
              " 'gas',\n",
              " 'drug',\n",
              " 'memory',\n",
              " 'leg',\n",
              " 'you',\n",
              " 'mg',\n",
              " 'all',\n",
              " 'pains',\n",
              " 'legs',\n",
              " 'knee',\n",
              " 'be',\n",
              " 'are',\n",
              " 'headache',\n",
              " 'shoulder',\n",
              " 'unable',\n",
              " 'group',\n",
              " 'study',\n",
              " 'arthralgia',\n",
              " 'gastrointestinal',\n",
              " 'treatment',\n",
              " 'neck',\n",
              " 'excessive',\n",
              " 'foot',\n",
              " 'arthritis',\n",
              " 'it',\n",
              " 'aches',\n",
              " 'after',\n",
              " 'an',\n",
              " 'amp',\n",
              " 'hip',\n",
              " 'have',\n",
              " 'voltaren',\n",
              " 'like',\n",
              " 'numbness',\n",
              " 'insomnia',\n",
              " 'arthrotec',\n",
              " 'p',\n",
              " 'no',\n",
              " 'release',\n",
              " 'bleeding',\n",
              " 'both',\n",
              " 'gluten',\n",
              " '/',\n",
              " 'nausea',\n",
              " 'time',\n",
              " 'asthenia',\n",
              " 'can',\n",
              " 'increased',\n",
              " 'could',\n",
              " 'walk',\n",
              " 'tired',\n",
              " 'skin',\n",
              " 'swelling',\n",
              " 'heart',\n",
              " 'abdominal',\n",
              " 'dizziness',\n",
              " 'feeling',\n",
              " 'problems',\n",
              " 'than',\n",
              " 'blood',\n",
              " 'walking',\n",
              " 'high',\n",
              " 'we',\n",
              " 'free',\n",
              " 'up',\n",
              " 'out',\n",
              " 'difficulty',\n",
              " 'hand',\n",
              " 'muscles',\n",
              " 'feet',\n",
              " 'effect',\n",
              " 'more',\n",
              " 'low',\n",
              " 'cholesterol',\n",
              " 'acid',\n",
              " 'compared',\n",
              " 'hair',\n",
              " 'chest',\n",
              " 'very',\n",
              " 'vision',\n",
              " 'ache',\n",
              " 'new',\n",
              " 'zocor',\n",
              " 'stiffness',\n",
              " 'backache',\n",
              " 'inflammatory',\n",
              " 'extreme',\n",
              " 'burning',\n",
              " 'using',\n",
              " 'liver',\n",
              " 'weight',\n",
              " 'your',\n",
              " 'effects',\n",
              " 'between',\n",
              " 'diarrhoea',\n",
              " 'groups',\n",
              " 'day',\n",
              " 'right',\n",
              " 'sleep',\n",
              " 'two',\n",
              " 'h',\n",
              " 'pins',\n",
              " 'needles',\n",
              " 'cramping',\n",
              " 'our',\n",
              " 'has',\n",
              " 'its',\n",
              " 'about',\n",
              " 'significant',\n",
              " 'use',\n",
              " 'amnesia',\n",
              " 'significantly',\n",
              " 'c',\n",
              " 'drugs',\n",
              " 'left',\n",
              " 'potassium',\n",
              " 'calf',\n",
              " 'one',\n",
              " 'concentration',\n",
              " 'these',\n",
              " 'disability',\n",
              " 'anti',\n",
              " 'impairment',\n",
              " 'which',\n",
              " 'tingling',\n",
              " 'do',\n",
              " 'short',\n",
              " 'term',\n",
              " 'had',\n",
              " 'but',\n",
              " 'anxiety',\n",
              " 'used',\n",
              " 'symptom',\n",
              " 'lack',\n",
              " 'nt',\n",
              " 'dose',\n",
              " 's',\n",
              " 'placebo',\n",
              " 'constipation',\n",
              " 'bloating',\n",
              " 'pressure',\n",
              " 'when',\n",
              " 'what',\n",
              " 'also',\n",
              " 'results',\n",
              " 'over',\n",
              " 'stiff',\n",
              " 'glutenfree',\n",
              " 'may',\n",
              " 'so',\n",
              " 'efficacy',\n",
              " 'arm',\n",
              " 'body',\n",
              " 'poor',\n",
              " 'm',\n",
              " 'ds',\n",
              " 'reduced',\n",
              " 'headaches',\n",
              " 'neuropathy',\n",
              " 'there',\n",
              " 'days',\n",
              " 'sore',\n",
              " 'disorder',\n",
              " 'w',\n",
              " 'been',\n",
              " 'hands',\n",
              " 'acute',\n",
              " 'arms',\n",
              " 'get',\n",
              " 'celiac',\n",
              " 'blurred',\n",
              " 'treated',\n",
              " 'symptoms',\n",
              " 'showed',\n",
              " 'ml',\n",
              " 'balance',\n",
              " 'ankle',\n",
              " 'joints',\n",
              " 'now',\n",
              " 'visual',\n",
              " 'serum',\n",
              " 'products',\n",
              " 'well',\n",
              " 'topical',\n",
              " 'renal',\n",
              " 'rash',\n",
              " 'tiredness',\n",
              " 'food',\n",
              " 'different',\n",
              " 'vaginal',\n",
              " 'myocardial',\n",
              " 'into',\n",
              " 'administration',\n",
              " 'pravachol',\n",
              " 'infarction',\n",
              " 'oral',\n",
              " 'their',\n",
              " 'mentally',\n",
              " 'sensation',\n",
              " 'non',\n",
              " 'hurt',\n",
              " 'rats',\n",
              " 'energy',\n",
              " 'control',\n",
              " 'test',\n",
              " 'diabetes',\n",
              " 'rate',\n",
              " 'studies',\n",
              " 'if',\n",
              " 'vertigo',\n",
              " 'painful',\n",
              " 'myositis',\n",
              " 'atrophy',\n",
              " 'via',\n",
              " 'respectively',\n",
              " 'generalised',\n",
              " 'how',\n",
              " 'other',\n",
              " 'damage',\n",
              " 'during',\n",
              " 'decreased',\n",
              " 'post',\n",
              " 'who',\n",
              " 'itching',\n",
              " 'clinical',\n",
              " 'swollen',\n",
              " 'attack',\n",
              " ')',\n",
              " 'found',\n",
              " 'atorvastatin',\n",
              " 'diarrhea',\n",
              " 'type',\n",
              " 'formulations',\n",
              " 'gel',\n",
              " 'levels',\n",
              " 'constant',\n",
              " 'method',\n",
              " 'chronic',\n",
              " 'ubidecarenone',\n",
              " 'formulation',\n",
              " ',',\n",
              " 'first',\n",
              " 'upset',\n",
              " 'did',\n",
              " 'plasma',\n",
              " 'induced',\n",
              " \"'s\",\n",
              " 'diet',\n",
              " 'nsaids',\n",
              " 'hours',\n",
              " 'me',\n",
              " 'dull',\n",
              " 'raised',\n",
              " 'illness',\n",
              " 'period',\n",
              " 'tablets',\n",
              " 'g',\n",
              " 'dry',\n",
              " 'gain',\n",
              " 'eye',\n",
              " 'effective',\n",
              " 'three',\n",
              " 'feel',\n",
              " 'syndrome',\n",
              " \"n't\",\n",
              " 'mean',\n",
              " '(',\n",
              " 'observed',\n",
              " 'shoulders',\n",
              " 'spasm',\n",
              " 'ph',\n",
              " 'those',\n",
              " 'only',\n",
              " 'present',\n",
              " 'n',\n",
              " 'movement',\n",
              " 'hazy',\n",
              " 'weak',\n",
              " 'bad',\n",
              " 'solution',\n",
              " 'elevated',\n",
              " 'review',\n",
              " 'urine',\n",
              " 'sleeping',\n",
              " 'ibuprofen',\n",
              " 'tendonitis',\n",
              " 'tip',\n",
              " 'received',\n",
              " 'crestor',\n",
              " 'increase',\n",
              " 'd',\n",
              " 'side',\n",
              " 'influenza',\n",
              " 'less',\n",
              " 'elbow',\n",
              " 'discomfort',\n",
              " 'adverse',\n",
              " 'most',\n",
              " 'they',\n",
              " 'heavy',\n",
              " 'controlled',\n",
              " 'kidney',\n",
              " 'each',\n",
              " 'exhaustion',\n",
              " 'just',\n",
              " 'tablet',\n",
              " 'abnormal',\n",
              " 'toe',\n",
              " 'week',\n",
              " 'system',\n",
              " 'data',\n",
              " 'level',\n",
              " 'vitro',\n",
              " 'analgesic',\n",
              " 'single',\n",
              " 'kg',\n",
              " 'knees',\n",
              " 'dblclick',\n",
              " 'activity',\n",
              " 'flatulence',\n",
              " 'function',\n",
              " 'myopathy',\n",
              " 'mood',\n",
              " 'some',\n",
              " 'problem',\n",
              " 'daily',\n",
              " 'following',\n",
              " 'analysis',\n",
              " 'migraine',\n",
              " 'inflammation',\n",
              " 'pic',\n",
              " 'total',\n",
              " 'similar',\n",
              " 'reflux',\n",
              " 'spasms',\n",
              " 'sclerosis',\n",
              " 'randomized',\n",
              " 'concentrations',\n",
              " 'ca',\n",
              " 'before',\n",
              " 'thigh',\n",
              " 'concentrate',\n",
              " 'here',\n",
              " 'vomiting',\n",
              " 'fibromyalgia',\n",
              " 'irritable',\n",
              " 'libido',\n",
              " 'think',\n",
              " 'patient',\n",
              " 'why',\n",
              " 'throat',\n",
              " 'l',\n",
              " 'cold',\n",
              " 'brain',\n",
              " 'multiple',\n",
              " 'bed',\n",
              " 'however',\n",
              " 'years',\n",
              " 'injury',\n",
              " 'b',\n",
              " 'good',\n",
              " 'evaluated',\n",
              " 'weeks',\n",
              " 'osteoarthritis',\n",
              " 'surgery',\n",
              " 'obtained',\n",
              " 'mild',\n",
              " 't',\n",
              " 'flu',\n",
              " 'under',\n",
              " 'simvastatin',\n",
              " 'due',\n",
              " 'mellitus',\n",
              " 'water',\n",
              " 'difference',\n",
              " 'check',\n",
              " 'double',\n",
              " 'model',\n",
              " 'will',\n",
              " 'menstrual',\n",
              " 'off',\n",
              " 'therapy',\n",
              " 'changes',\n",
              " 'cell',\n",
              " 'eyes',\n",
              " 'head',\n",
              " 'based',\n",
              " 'dissolution',\n",
              " 'oil',\n",
              " 'healthy',\n",
              " 'peripheral',\n",
              " 'lightheadedness',\n",
              " 'postoperative',\n",
              " 'disturbance',\n",
              " 'blind',\n",
              " 'love',\n",
              " 'tremor',\n",
              " 'nsaid',\n",
              " 'help',\n",
              " 'higher',\n",
              " 'should',\n",
              " 'know',\n",
              " 'any',\n",
              " 'relief',\n",
              " 'malaise',\n",
              " 'failure',\n",
              " 'life',\n",
              " 'vs',\n",
              " 'appetite',\n",
              " 'combination',\n",
              " 'application',\n",
              " 'while',\n",
              " 'associated',\n",
              " 'wind',\n",
              " 'swings',\n",
              " 'being',\n",
              " 'min',\n",
              " 'confusion',\n",
              " 'cells',\n",
              " 'prepared',\n",
              " 'studied',\n",
              " 'order',\n",
              " 'sweating',\n",
              " 'impaired',\n",
              " 'aching',\n",
              " 'finger',\n",
              " 'hips',\n",
              " 'ezetimibe',\n",
              " 'administered',\n",
              " 'area',\n",
              " 'eat',\n",
              " 'given',\n",
              " 'tinnitus',\n",
              " 'make',\n",
              " 'paraesthesia',\n",
              " 'times',\n",
              " 'soreness',\n",
              " 'reported',\n",
              " 'rheumatoid',\n",
              " 'conditions',\n",
              " 'doses',\n",
              " 'trial',\n",
              " 'four',\n",
              " 'general',\n",
              " 'e',\n",
              " 'intolerance',\n",
              " 'face',\n",
              " 'events',\n",
              " 're',\n",
              " 'calves',\n",
              " 'infection',\n",
              " 'gastric',\n",
              " 'celebrex',\n",
              " 'toes',\n",
              " 'stairs',\n",
              " 'ascorbic',\n",
              " 'vitamin',\n",
              " 'differences',\n",
              " 'such',\n",
              " 'performed',\n",
              " 'sensitivity',\n",
              " 'coated',\n",
              " 'nonsteroidal',\n",
              " 'down',\n",
              " 'esters',\n",
              " 'thanks',\n",
              " 'does',\n",
              " 'change',\n",
              " 'response',\n",
              " 'within',\n",
              " 'us',\n",
              " 'stress',\n",
              " 'paracetamol',\n",
              " 'through',\n",
              " 'developed',\n",
              " 'gfb',\n",
              " 'strength',\n",
              " 'without',\n",
              " 'values',\n",
              " 'absorption',\n",
              " 'subjects',\n",
              " '2',\n",
              " 'need',\n",
              " 'rapid',\n",
              " 'heel',\n",
              " 'swallowing',\n",
              " 'x',\n",
              " 'great',\n",
              " 'investigated',\n",
              " 'reduction',\n",
              " 'taste',\n",
              " 'night',\n",
              " 'going',\n",
              " 'always',\n",
              " 'hot',\n",
              " 'charleyhorse',\n",
              " 'restless',\n",
              " 'palpitations',\n",
              " 'indigestion',\n",
              " 'motivation',\n",
              " 'parameters',\n",
              " 'enzymes',\n",
              " 'containing',\n",
              " 'dark',\n",
              " 'either',\n",
              " 'phase',\n",
              " 'intense',\n",
              " 'risk',\n",
              " 'fingers',\n",
              " 'ratio',\n",
              " 'samples',\n",
              " 'cough',\n",
              " 'tendon',\n",
              " 'measured',\n",
              " 'excruciating',\n",
              " 'delivery',\n",
              " 'assessed',\n",
              " 'better',\n",
              " 'lateral',\n",
              " 'dyspnoea',\n",
              " 'ankles',\n",
              " 'v',\n",
              " '1',\n",
              " 'parkinson',\n",
              " 'felt',\n",
              " 'lupus',\n",
              " 'posted',\n",
              " 'properties',\n",
              " 'auc',\n",
              " 'long',\n",
              " 'safety',\n",
              " 'related',\n",
              " 'recipe',\n",
              " 'steroidal',\n",
              " 'getting',\n",
              " 'urinary',\n",
              " '30',\n",
              " 'minutes',\n",
              " 'number',\n",
              " 'range',\n",
              " 'decrease',\n",
              " 'vivo',\n",
              " 'indomethacin',\n",
              " 'ng',\n",
              " 'depressed',\n",
              " 'fish',\n",
              " 'injection',\n",
              " 'much',\n",
              " 'therapeutic',\n",
              " 'speech',\n",
              " 'applied',\n",
              " 'statistically',\n",
              " 'twitch',\n",
              " 'show',\n",
              " 'bone',\n",
              " 'every',\n",
              " 'clearly',\n",
              " 'size',\n",
              " 'mm',\n",
              " 'compare',\n",
              " 'best',\n",
              " 'many',\n",
              " 'reaction',\n",
              " 'major',\n",
              " 'form',\n",
              " 'moderate',\n",
              " 'menopause',\n",
              " 'included',\n",
              " 'breathing',\n",
              " 'human',\n",
              " 'year',\n",
              " 'k',\n",
              " 'liquid',\n",
              " 'co',\n",
              " 'nerve',\n",
              " 'primary',\n",
              " 'advil',\n",
              " 'medication',\n",
              " 'living',\n",
              " 'health',\n",
              " 'terrible',\n",
              " '3',\n",
              " 'jennieo',\n",
              " 'ulcer',\n",
              " 'even',\n",
              " 'normal',\n",
              " 'potential',\n",
              " 'read',\n",
              " 'people',\n",
              " 'ability',\n",
              " 'oa',\n",
              " 'ii',\n",
              " 'limbs',\n",
              " 'light',\n",
              " 'available',\n",
              " 'heres',\n",
              " 'misoprostol',\n",
              " 'edema',\n",
              " 'then',\n",
              " 'trouble',\n",
              " 'active',\n",
              " 'determined',\n",
              " 'big',\n",
              " 'evaluate',\n",
              " 'scale',\n",
              " 'provoked',\n",
              " 'gout',\n",
              " 'dreams',\n",
              " 'development',\n",
              " 'tightness',\n",
              " 'wrist',\n",
              " 'mouth',\n",
              " '\\r \\n ',\n",
              " 'baseline',\n",
              " 'greater',\n",
              " 'tissue',\n",
              " 'creatinine',\n",
              " 'archives',\n",
              " 'overall',\n",
              " 'tips',\n",
              " 'scores',\n",
              " 'tolerability',\n",
              " 'would',\n",
              " 'fever',\n",
              " 'because',\n",
              " 'sustained',\n",
              " 'chicken',\n",
              " 'aqueous',\n",
              " 'process',\n",
              " 'months',\n",
              " 'fenofibrate',\n",
              " 'cox',\n",
              " 'colic',\n",
              " 'bowel',\n",
              " 'same',\n",
              " 'find',\n",
              " 'cancer',\n",
              " 'go',\n",
              " 'addition',\n",
              " 'hypertension',\n",
              " 'aspirin',\n",
              " 'bioavailability',\n",
              " 'amyotrophic',\n",
              " 'revealed',\n",
              " 'article',\n",
              " 'move',\n",
              " 'sinus',\n",
              " 'drowsy',\n",
              " 'tested',\n",
              " 'made',\n",
              " 'breath',\n",
              " 'tract',\n",
              " 'uterine',\n",
              " 'demonstrated',\n",
              " 'dependent',\n",
              " 'aim',\n",
              " 'heartburn',\n",
              " 'month',\n",
              " 'matrix',\n",
              " 'nasal',\n",
              " 'mobility',\n",
              " 'mice',\n",
              " 'improvement',\n",
              " 'coq10',\n",
              " 'news',\n",
              " 'end',\n",
              " 'per',\n",
              " 'volunteers',\n",
              " '10',\n",
              " 'o',\n",
              " 'dosage',\n",
              " 'twitching',\n",
              " 'horses',\n",
              " 'common',\n",
              " 'polymer',\n",
              " 'sick',\n",
              " 'further',\n",
              " 'action',\n",
              " 'moody',\n",
              " 'want',\n",
              " 'initial',\n",
              " 'treatments',\n",
              " 'where',\n",
              " 'today',\n",
              " 'case',\n",
              " 'finding',\n",
              " 'inhibitor',\n",
              " 'cases',\n",
              " '5',\n",
              " 'tylenol',\n",
              " 'agent',\n",
              " 'protein',\n",
              " 'sugar',\n",
              " 'provide',\n",
              " 'indicated',\n",
              " 'although',\n",
              " 'take',\n",
              " 'suggest',\n",
              " 'exercise',\n",
              " 'tight',\n",
              " 'caused',\n",
              " 'thighs',\n",
              " 'safe',\n",
              " 'f',\n",
              " 'onset',\n",
              " 'exposure',\n",
              " 'whereas',\n",
              " 'mechanism',\n",
              " 'facial',\n",
              " 'way',\n",
              " 'content',\n",
              " 'formation',\n",
              " 'surface',\n",
              " 'generally',\n",
              " 'attacks',\n",
              " 'cerebrovascular',\n",
              " 'follow',\n",
              " 'various',\n",
              " 'cd',\n",
              " 'fog',\n",
              " 'trials',\n",
              " 'elbows',\n",
              " 'inhibition',\n",
              " 'na',\n",
              " 'aleve',\n",
              " 'male',\n",
              " 'alpha',\n",
              " 'permeation',\n",
              " 'extremity',\n",
              " 'presence',\n",
              " 'accident',\n",
              " 'complex',\n",
              " 'around',\n",
              " 'ever',\n",
              " 'tolerated',\n",
              " 'tricor',\n",
              " 'natural',\n",
              " 'share',\n",
              " 'physical',\n",
              " 'pulse',\n",
              " 'loose',\n",
              " 'hour',\n",
              " 'animals',\n",
              " 'tolerance',\n",
              " 'global',\n",
              " 'alone',\n",
              " 'plantar',\n",
              " 'important',\n",
              " 'diagnosed',\n",
              " 'charley',\n",
              " 'among',\n",
              " 'six',\n",
              " 'part',\n",
              " 'randomly',\n",
              " 'plus',\n",
              " '+',\n",
              " 'followed',\n",
              " 'oedema',\n",
              " 'local',\n",
              " 'pizza',\n",
              " 'sharp',\n",
              " 'relative',\n",
              " 'fast',\n",
              " 'amount',\n",
              " 'morning',\n",
              " 'evaluation',\n",
              " 'diagnosis',\n",
              " 'old',\n",
              " 'score',\n",
              " 'still',\n",
              " 'intensity',\n",
              " 'divided',\n",
              " 'age',\n",
              " 'eating',\n",
              " 'pharmaceutical',\n",
              " 'started',\n",
              " 'combined',\n",
              " 'rat',\n",
              " 'product',\n",
              " 'standard',\n",
              " 'sensitive',\n",
              " 'extremely',\n",
              " 'drive',\n",
              " 'growth',\n",
              " '4',\n",
              " 'cause',\n",
              " 'blog',\n",
              " 'pre',\n",
              " 'difficult',\n",
              " 'please',\n",
              " 'intestinal',\n",
              " 'periods',\n",
              " 'nervous',\n",
              " 'lethargy',\n",
              " 'hardly',\n",
              " 'experimental',\n",
              " 'th',\n",
              " 'lost',\n",
              " 'shown',\n",
              " 'awareness',\n",
              " 'care',\n",
              " 'got',\n",
              " 'congestion',\n",
              " 'film',\n",
              " 'barely',\n",
              " 'microspheres',\n",
              " 'issues',\n",
              " 'coronary',\n",
              " 'evidence',\n",
              " 'according',\n",
              " 'agents',\n",
              " 'thoughts',\n",
              " 'determine',\n",
              " 'fluid',\n",
              " 'deep',\n",
              " 'conducted',\n",
              " 'resulted',\n",
              " 'vehicle',\n",
              " 'ethyl',\n",
              " 'sex',\n",
              " 'profile',\n",
              " 'improved',\n",
              " 'things',\n",
              " 'profiles',\n",
              " 'secondary',\n",
              " 'shortness',\n",
              " 'ringing',\n",
              " 'happy',\n",
              " 'stroke',\n",
              " 'once',\n",
              " 'cm',\n",
              " 'able',\n",
              " 'peak',\n",
              " 'vas',\n",
              " 'achilles',\n",
              " 'looks',\n",
              " 'including',\n",
              " 'malignant',\n",
              " 'taking',\n",
              " 'hard',\n",
              " 'assessment',\n",
              " 'pruritus',\n",
              " 'research',\n",
              " 'mental',\n",
              " 'systemic',\n",
              " 'achieved',\n",
              " 'gi',\n",
              " 'fatigued',\n",
              " 'naproxen',\n",
              " 'five',\n",
              " 'hypersomnia',\n",
              " 'participants',\n",
              " 'see',\n",
              " 'region',\n",
              " 'rhabdomyolysis',\n",
              " '\\r \\n \\r \\n ',\n",
              " 'numb',\n",
              " 'top',\n",
              " 'state',\n",
              " 'easy',\n",
              " 'panic',\n",
              " 'comparison',\n",
              " 'least',\n",
              " 'central',\n",
              " 'increasing',\n",
              " 'needed',\n",
              " 'against',\n",
              " 'beads',\n",
              " 'pharmacokinetic',\n",
              " 'zetia',\n",
              " 'duration',\n",
              " 'density',\n",
              " 'versus',\n",
              " 'irregular',\n",
              " 'liptor',\n",
              " 'allergic',\n",
              " ':',\n",
              " 'sensations',\n",
              " 'preparation',\n",
              " 'ldl',\n",
              " 'lesions',\n",
              " 'work',\n",
              " 'slurred',\n",
              " 'tests',\n",
              " 'complete',\n",
              " 'efficiency',\n",
              " 'stamina',\n",
              " 'investigate',\n",
              " 'diffusion',\n",
              " 'production',\n",
              " 'cross',\n",
              " 'quality',\n",
              " 'too',\n",
              " 'prednisone',\n",
              " 'enteric',\n",
              " 'temperature',\n",
              " 'neurontin',\n",
              " 'r',\n",
              " 'patch',\n",
              " 'forgetful',\n",
              " 'bp',\n",
              " 'frequent',\n",
              " 'erythema',\n",
              " 'ci',\n",
              " 'site',\n",
              " 'dr',\n",
              " 'third',\n",
              " 'ms',\n",
              " 'little',\n",
              " 'maximum',\n",
              " 'specific',\n",
              " 'technique',\n",
              " 'ear',\n",
              " 'super',\n",
              " 'eczema',\n",
              " 'carried',\n",
              " 'calcium',\n",
              " 'reference',\n",
              " 'norvasc',\n",
              " 'prostaglandin',\n",
              " 'scalp',\n",
              " 'respiratory',\n",
              " 'produced',\n",
              " 'degrees',\n",
              " 'dizzy',\n",
              " 'corneal',\n",
              " 'synthesis',\n",
              " 'hunger',\n",
              " 'condition',\n",
              " 'possible',\n",
              " 'second',\n",
              " 'commercial',\n",
              " 'extent',\n",
              " 'medical',\n",
              " 'interaction',\n",
              " 'analgesia',\n",
              " 'sweats',\n",
              " 'erythematosus',\n",
              " 'recorded',\n",
              " 'cmax',\n",
              " 'soup',\n",
              " 'might',\n",
              " 'cookbook',\n",
              " 'affected',\n",
              " 'pellets',\n",
              " 'lipid',\n",
              " ...]"
            ]
          },
          "metadata": {
            "tags": []
          },
          "execution_count": 18
        }
      ]
    },
    {
      "cell_type": "code",
      "metadata": {
        "id": "yPWr03mls3VT",
        "outputId": "4cd90067-7e8a-4010-fd3f-390af7a3be49",
        "colab": {
          "base_uri": "https://localhost:8080/",
          "height": 17
        }
      },
      "source": [
        "model_path = path/'models'\n",
        "model_path.mkdir(exist_ok=True)\n",
        "url = 'http://files.fast.ai/models/wt103_v1/'\n",
        "download_url(f'{url}lstm_wt103.pth', model_path/'lstm_wt103.pth')\n",
        "download_url(f'{url}itos_wt103.pkl', model_path/'itos_wt103.pkl')"
      ],
      "execution_count": 19,
      "outputs": [
        {
          "output_type": "display_data",
          "data": {
            "text/html": [
              ""
            ],
            "text/plain": [
              "<IPython.core.display.HTML object>"
            ]
          },
          "metadata": {
            "tags": []
          }
        },
        {
          "output_type": "display_data",
          "data": {
            "text/html": [
              ""
            ],
            "text/plain": [
              "<IPython.core.display.HTML object>"
            ]
          },
          "metadata": {
            "tags": []
          }
        }
      ]
    },
    {
      "cell_type": "code",
      "metadata": {
        "id": "JRzvWg8RtGGr",
        "outputId": "3fe4737b-ad40-4a2b-df76-239d918f3718",
        "colab": {
          "base_uri": "https://localhost:8080/",
          "height": 34
        }
      },
      "source": [
        "learn = language_model_learner(data_lm, AWD_LSTM, drop_mult=0.5)"
      ],
      "execution_count": 20,
      "outputs": [
        {
          "output_type": "stream",
          "text": [
            "Downloading https://s3.amazonaws.com/fast-ai-modelzoo/wt103-fwd.tgz\n"
          ],
          "name": "stdout"
        },
        {
          "output_type": "display_data",
          "data": {
            "text/html": [
              ""
            ],
            "text/plain": [
              "<IPython.core.display.HTML object>"
            ]
          },
          "metadata": {
            "tags": []
          }
        }
      ]
    },
    {
      "cell_type": "code",
      "metadata": {
        "id": "xKK7GeBev7Xn",
        "outputId": "7f4f9b3e-4a0a-4f23-8204-68489075db3a",
        "colab": {
          "base_uri": "https://localhost:8080/",
          "height": 80
        }
      },
      "source": [
        "learn.fit_one_cycle(1, 1e-2)"
      ],
      "execution_count": 21,
      "outputs": [
        {
          "output_type": "display_data",
          "data": {
            "text/html": [
              "<table border=\"1\" class=\"dataframe\">\n",
              "  <thead>\n",
              "    <tr style=\"text-align: left;\">\n",
              "      <th>epoch</th>\n",
              "      <th>train_loss</th>\n",
              "      <th>valid_loss</th>\n",
              "      <th>accuracy</th>\n",
              "      <th>time</th>\n",
              "    </tr>\n",
              "  </thead>\n",
              "  <tbody>\n",
              "    <tr>\n",
              "      <td>0</td>\n",
              "      <td>3.847866</td>\n",
              "      <td>3.487731</td>\n",
              "      <td>0.442138</td>\n",
              "      <td>32:37</td>\n",
              "    </tr>\n",
              "  </tbody>\n",
              "</table>"
            ],
            "text/plain": [
              "<IPython.core.display.HTML object>"
            ]
          },
          "metadata": {
            "tags": []
          }
        }
      ]
    },
    {
      "cell_type": "code",
      "metadata": {
        "id": "iB7rHGQCwd12"
      },
      "source": [
        "# learn.fit_one_cycle(1, 1e-2)"
      ],
      "execution_count": 22,
      "outputs": []
    },
    {
      "cell_type": "code",
      "metadata": {
        "id": "_BnSuAeCwkBe"
      },
      "source": [
        "# learn.fit_one_cycle(1, 1e-3)"
      ],
      "execution_count": 23,
      "outputs": []
    },
    {
      "cell_type": "code",
      "metadata": {
        "id": "MuTm-RFjwrEX",
        "outputId": "9b3c88a4-aaaf-4d69-b99b-2984086db110",
        "colab": {
          "base_uri": "https://localhost:8080/",
          "height": 80
        }
      },
      "source": [
        "learn.fit_one_cycle(1, 1e-3)"
      ],
      "execution_count": 24,
      "outputs": [
        {
          "output_type": "display_data",
          "data": {
            "text/html": [
              "<table border=\"1\" class=\"dataframe\">\n",
              "  <thead>\n",
              "    <tr style=\"text-align: left;\">\n",
              "      <th>epoch</th>\n",
              "      <th>train_loss</th>\n",
              "      <th>valid_loss</th>\n",
              "      <th>accuracy</th>\n",
              "      <th>time</th>\n",
              "    </tr>\n",
              "  </thead>\n",
              "  <tbody>\n",
              "    <tr>\n",
              "      <td>0</td>\n",
              "      <td>3.514899</td>\n",
              "      <td>3.427935</td>\n",
              "      <td>0.447205</td>\n",
              "      <td>32:22</td>\n",
              "    </tr>\n",
              "  </tbody>\n",
              "</table>"
            ],
            "text/plain": [
              "<IPython.core.display.HTML object>"
            ]
          },
          "metadata": {
            "tags": []
          }
        }
      ]
    },
    {
      "cell_type": "code",
      "metadata": {
        "id": "1Er2ExO8wr7Y"
      },
      "source": [
        "learn.save_encoder('pubmed_bigtweet_askpatient_mixed_overlap40_first')"
      ],
      "execution_count": 25,
      "outputs": []
    },
    {
      "cell_type": "code",
      "metadata": {
        "id": "z52cZs2qwvad",
        "outputId": "28fe92af-99cd-4bbf-e181-c604e1cc3b0c",
        "colab": {
          "base_uri": "https://localhost:8080/",
          "height": 80
        }
      },
      "source": [
        "learn = text_classifier_learner(data_clas,AWD_LSTM, drop_mult=0.5)\n",
        "learn.load_encoder('pubmed_bigtweet_askpatient_mixed_overlap40_first')\n",
        "learn.fit_one_cycle(1, 1e-2)"
      ],
      "execution_count": 26,
      "outputs": [
        {
          "output_type": "display_data",
          "data": {
            "text/html": [
              "<table border=\"1\" class=\"dataframe\">\n",
              "  <thead>\n",
              "    <tr style=\"text-align: left;\">\n",
              "      <th>epoch</th>\n",
              "      <th>train_loss</th>\n",
              "      <th>valid_loss</th>\n",
              "      <th>accuracy</th>\n",
              "      <th>time</th>\n",
              "    </tr>\n",
              "  </thead>\n",
              "  <tbody>\n",
              "    <tr>\n",
              "      <td>0</td>\n",
              "      <td>4.028854</td>\n",
              "      <td>3.725535</td>\n",
              "      <td>0.317160</td>\n",
              "      <td>01:11</td>\n",
              "    </tr>\n",
              "  </tbody>\n",
              "</table>"
            ],
            "text/plain": [
              "<IPython.core.display.HTML object>"
            ]
          },
          "metadata": {
            "tags": []
          }
        }
      ]
    },
    {
      "cell_type": "code",
      "metadata": {
        "id": "ImwQP1PJwzxd",
        "outputId": "03f672ab-613c-469e-c44a-3017abc8e439",
        "colab": {
          "base_uri": "https://localhost:8080/",
          "height": 80
        }
      },
      "source": [
        "learn.freeze_to(-2)\n",
        "learn.fit_one_cycle(1, slice(5e-3/2., 5e-3))"
      ],
      "execution_count": 27,
      "outputs": [
        {
          "output_type": "display_data",
          "data": {
            "text/html": [
              "<table border=\"1\" class=\"dataframe\">\n",
              "  <thead>\n",
              "    <tr style=\"text-align: left;\">\n",
              "      <th>epoch</th>\n",
              "      <th>train_loss</th>\n",
              "      <th>valid_loss</th>\n",
              "      <th>accuracy</th>\n",
              "      <th>time</th>\n",
              "    </tr>\n",
              "  </thead>\n",
              "  <tbody>\n",
              "    <tr>\n",
              "      <td>0</td>\n",
              "      <td>2.941269</td>\n",
              "      <td>3.049603</td>\n",
              "      <td>0.469822</td>\n",
              "      <td>01:28</td>\n",
              "    </tr>\n",
              "  </tbody>\n",
              "</table>"
            ],
            "text/plain": [
              "<IPython.core.display.HTML object>"
            ]
          },
          "metadata": {
            "tags": []
          }
        }
      ]
    },
    {
      "cell_type": "code",
      "metadata": {
        "id": "Owff_BJXw53u",
        "outputId": "4f24e60d-5b67-4362-f75e-74929a6063a8",
        "colab": {
          "base_uri": "https://localhost:8080/",
          "height": 80
        }
      },
      "source": [
        "learn.unfreeze()\n",
        "learn.fit_one_cycle(1, slice(2e-3/100, 2e-3))"
      ],
      "execution_count": 28,
      "outputs": [
        {
          "output_type": "display_data",
          "data": {
            "text/html": [
              "<table border=\"1\" class=\"dataframe\">\n",
              "  <thead>\n",
              "    <tr style=\"text-align: left;\">\n",
              "      <th>epoch</th>\n",
              "      <th>train_loss</th>\n",
              "      <th>valid_loss</th>\n",
              "      <th>accuracy</th>\n",
              "      <th>time</th>\n",
              "    </tr>\n",
              "  </thead>\n",
              "  <tbody>\n",
              "    <tr>\n",
              "      <td>0</td>\n",
              "      <td>2.397470</td>\n",
              "      <td>2.700058</td>\n",
              "      <td>0.531361</td>\n",
              "      <td>03:39</td>\n",
              "    </tr>\n",
              "  </tbody>\n",
              "</table>"
            ],
            "text/plain": [
              "<IPython.core.display.HTML object>"
            ]
          },
          "metadata": {
            "tags": []
          }
        }
      ]
    },
    {
      "cell_type": "code",
      "metadata": {
        "id": "lqAyu56V8Waq",
        "outputId": "943f0438-2ae0-48df-8f07-a610ceb3ca15",
        "colab": {
          "base_uri": "https://localhost:8080/",
          "height": 111
        }
      },
      "source": [
        "learn.fit_one_cycle(2, slice(2e-3/100, 2e-3))"
      ],
      "execution_count": 29,
      "outputs": [
        {
          "output_type": "display_data",
          "data": {
            "text/html": [
              "<table border=\"1\" class=\"dataframe\">\n",
              "  <thead>\n",
              "    <tr style=\"text-align: left;\">\n",
              "      <th>epoch</th>\n",
              "      <th>train_loss</th>\n",
              "      <th>valid_loss</th>\n",
              "      <th>accuracy</th>\n",
              "      <th>time</th>\n",
              "    </tr>\n",
              "  </thead>\n",
              "  <tbody>\n",
              "    <tr>\n",
              "      <td>0</td>\n",
              "      <td>2.104843</td>\n",
              "      <td>2.334436</td>\n",
              "      <td>0.607101</td>\n",
              "      <td>03:35</td>\n",
              "    </tr>\n",
              "    <tr>\n",
              "      <td>1</td>\n",
              "      <td>1.705963</td>\n",
              "      <td>2.195746</td>\n",
              "      <td>0.628402</td>\n",
              "      <td>03:13</td>\n",
              "    </tr>\n",
              "  </tbody>\n",
              "</table>"
            ],
            "text/plain": [
              "<IPython.core.display.HTML object>"
            ]
          },
          "metadata": {
            "tags": []
          }
        }
      ]
    },
    {
      "cell_type": "code",
      "metadata": {
        "id": "a7I1xMRp8bUd",
        "outputId": "3c951bfe-dda8-446a-ba3e-a56f14d7f41b",
        "colab": {
          "base_uri": "https://localhost:8080/",
          "height": 111
        }
      },
      "source": [
        "learn.fit_one_cycle(2, slice(2e-3/100, 2e-3))"
      ],
      "execution_count": 30,
      "outputs": [
        {
          "output_type": "display_data",
          "data": {
            "text/html": [
              "<table border=\"1\" class=\"dataframe\">\n",
              "  <thead>\n",
              "    <tr style=\"text-align: left;\">\n",
              "      <th>epoch</th>\n",
              "      <th>train_loss</th>\n",
              "      <th>valid_loss</th>\n",
              "      <th>accuracy</th>\n",
              "      <th>time</th>\n",
              "    </tr>\n",
              "  </thead>\n",
              "  <tbody>\n",
              "    <tr>\n",
              "      <td>0</td>\n",
              "      <td>1.523691</td>\n",
              "      <td>2.001046</td>\n",
              "      <td>0.656805</td>\n",
              "      <td>03:01</td>\n",
              "    </tr>\n",
              "    <tr>\n",
              "      <td>1</td>\n",
              "      <td>1.316889</td>\n",
              "      <td>1.887292</td>\n",
              "      <td>0.676923</td>\n",
              "      <td>02:55</td>\n",
              "    </tr>\n",
              "  </tbody>\n",
              "</table>"
            ],
            "text/plain": [
              "<IPython.core.display.HTML object>"
            ]
          },
          "metadata": {
            "tags": []
          }
        }
      ]
    },
    {
      "cell_type": "code",
      "metadata": {
        "id": "UAnti-XmGVfO",
        "outputId": "89157bf0-aef8-4397-860c-22043eb94124",
        "colab": {
          "base_uri": "https://localhost:8080/",
          "height": 111
        }
      },
      "source": [
        "learn.fit_one_cycle(2, slice(2e-3/100, 2e-3))"
      ],
      "execution_count": 31,
      "outputs": [
        {
          "output_type": "display_data",
          "data": {
            "text/html": [
              "<table border=\"1\" class=\"dataframe\">\n",
              "  <thead>\n",
              "    <tr style=\"text-align: left;\">\n",
              "      <th>epoch</th>\n",
              "      <th>train_loss</th>\n",
              "      <th>valid_loss</th>\n",
              "      <th>accuracy</th>\n",
              "      <th>time</th>\n",
              "    </tr>\n",
              "  </thead>\n",
              "  <tbody>\n",
              "    <tr>\n",
              "      <td>0</td>\n",
              "      <td>1.197496</td>\n",
              "      <td>1.779742</td>\n",
              "      <td>0.688757</td>\n",
              "      <td>03:05</td>\n",
              "    </tr>\n",
              "    <tr>\n",
              "      <td>1</td>\n",
              "      <td>1.108467</td>\n",
              "      <td>1.688480</td>\n",
              "      <td>0.707692</td>\n",
              "      <td>03:00</td>\n",
              "    </tr>\n",
              "  </tbody>\n",
              "</table>"
            ],
            "text/plain": [
              "<IPython.core.display.HTML object>"
            ]
          },
          "metadata": {
            "tags": []
          }
        }
      ]
    },
    {
      "cell_type": "code",
      "metadata": {
        "id": "bIft7W25GwSu",
        "outputId": "4eac6c2a-0eea-4d64-951d-f79152a817ca",
        "colab": {
          "base_uri": "https://localhost:8080/",
          "height": 111
        }
      },
      "source": [
        "learn.fit_one_cycle(2, slice(2e-3/100, 2e-3))"
      ],
      "execution_count": 32,
      "outputs": [
        {
          "output_type": "display_data",
          "data": {
            "text/html": [
              "<table border=\"1\" class=\"dataframe\">\n",
              "  <thead>\n",
              "    <tr style=\"text-align: left;\">\n",
              "      <th>epoch</th>\n",
              "      <th>train_loss</th>\n",
              "      <th>valid_loss</th>\n",
              "      <th>accuracy</th>\n",
              "      <th>time</th>\n",
              "    </tr>\n",
              "  </thead>\n",
              "  <tbody>\n",
              "    <tr>\n",
              "      <td>0</td>\n",
              "      <td>0.995348</td>\n",
              "      <td>1.601994</td>\n",
              "      <td>0.724260</td>\n",
              "      <td>02:58</td>\n",
              "    </tr>\n",
              "    <tr>\n",
              "      <td>1</td>\n",
              "      <td>0.921214</td>\n",
              "      <td>1.545022</td>\n",
              "      <td>0.730178</td>\n",
              "      <td>02:54</td>\n",
              "    </tr>\n",
              "  </tbody>\n",
              "</table>"
            ],
            "text/plain": [
              "<IPython.core.display.HTML object>"
            ]
          },
          "metadata": {
            "tags": []
          }
        }
      ]
    },
    {
      "cell_type": "code",
      "metadata": {
        "id": "EEHszVRvGyFt",
        "outputId": "0d69d037-bfe0-4b6a-f19f-6e245b46631c",
        "colab": {
          "base_uri": "https://localhost:8080/",
          "height": 111
        }
      },
      "source": [
        "learn.fit_one_cycle(2, slice(2e-3/100, 2e-3))"
      ],
      "execution_count": 33,
      "outputs": [
        {
          "output_type": "display_data",
          "data": {
            "text/html": [
              "<table border=\"1\" class=\"dataframe\">\n",
              "  <thead>\n",
              "    <tr style=\"text-align: left;\">\n",
              "      <th>epoch</th>\n",
              "      <th>train_loss</th>\n",
              "      <th>valid_loss</th>\n",
              "      <th>accuracy</th>\n",
              "      <th>time</th>\n",
              "    </tr>\n",
              "  </thead>\n",
              "  <tbody>\n",
              "    <tr>\n",
              "      <td>0</td>\n",
              "      <td>0.813956</td>\n",
              "      <td>1.489066</td>\n",
              "      <td>0.744379</td>\n",
              "      <td>03:06</td>\n",
              "    </tr>\n",
              "    <tr>\n",
              "      <td>1</td>\n",
              "      <td>0.716107</td>\n",
              "      <td>1.446226</td>\n",
              "      <td>0.739645</td>\n",
              "      <td>03:15</td>\n",
              "    </tr>\n",
              "  </tbody>\n",
              "</table>"
            ],
            "text/plain": [
              "<IPython.core.display.HTML object>"
            ]
          },
          "metadata": {
            "tags": []
          }
        }
      ]
    },
    {
      "cell_type": "code",
      "metadata": {
        "id": "XsHfrhCHG3dN",
        "outputId": "2b64b032-3ebc-4030-fe6b-3f1a7d1b7971",
        "colab": {
          "base_uri": "https://localhost:8080/",
          "height": 173
        }
      },
      "source": [
        "learn.fit_one_cycle(4, slice(2e-3/100, 2e-3))"
      ],
      "execution_count": 34,
      "outputs": [
        {
          "output_type": "display_data",
          "data": {
            "text/html": [
              "<table border=\"1\" class=\"dataframe\">\n",
              "  <thead>\n",
              "    <tr style=\"text-align: left;\">\n",
              "      <th>epoch</th>\n",
              "      <th>train_loss</th>\n",
              "      <th>valid_loss</th>\n",
              "      <th>accuracy</th>\n",
              "      <th>time</th>\n",
              "    </tr>\n",
              "  </thead>\n",
              "  <tbody>\n",
              "    <tr>\n",
              "      <td>0</td>\n",
              "      <td>0.675624</td>\n",
              "      <td>1.404308</td>\n",
              "      <td>0.763314</td>\n",
              "      <td>03:22</td>\n",
              "    </tr>\n",
              "    <tr>\n",
              "      <td>1</td>\n",
              "      <td>0.645397</td>\n",
              "      <td>1.395528</td>\n",
              "      <td>0.765680</td>\n",
              "      <td>02:59</td>\n",
              "    </tr>\n",
              "    <tr>\n",
              "      <td>2</td>\n",
              "      <td>0.543138</td>\n",
              "      <td>1.346788</td>\n",
              "      <td>0.769231</td>\n",
              "      <td>03:19</td>\n",
              "    </tr>\n",
              "    <tr>\n",
              "      <td>3</td>\n",
              "      <td>0.462294</td>\n",
              "      <td>1.349427</td>\n",
              "      <td>0.776331</td>\n",
              "      <td>03:23</td>\n",
              "    </tr>\n",
              "  </tbody>\n",
              "</table>"
            ],
            "text/plain": [
              "<IPython.core.display.HTML object>"
            ]
          },
          "metadata": {
            "tags": []
          }
        }
      ]
    },
    {
      "cell_type": "code",
      "metadata": {
        "id": "0Zsd99isb9EQ",
        "outputId": "4ec38f33-bfd5-4301-cc30-4e1c8061ec53",
        "colab": {
          "base_uri": "https://localhost:8080/",
          "height": 173
        }
      },
      "source": [
        "learn.fit_one_cycle(4, slice(2e-3/100, 2e-3))"
      ],
      "execution_count": 35,
      "outputs": [
        {
          "output_type": "display_data",
          "data": {
            "text/html": [
              "<table border=\"1\" class=\"dataframe\">\n",
              "  <thead>\n",
              "    <tr style=\"text-align: left;\">\n",
              "      <th>epoch</th>\n",
              "      <th>train_loss</th>\n",
              "      <th>valid_loss</th>\n",
              "      <th>accuracy</th>\n",
              "      <th>time</th>\n",
              "    </tr>\n",
              "  </thead>\n",
              "  <tbody>\n",
              "    <tr>\n",
              "      <td>0</td>\n",
              "      <td>0.486377</td>\n",
              "      <td>1.377117</td>\n",
              "      <td>0.773965</td>\n",
              "      <td>03:14</td>\n",
              "    </tr>\n",
              "    <tr>\n",
              "      <td>1</td>\n",
              "      <td>0.551098</td>\n",
              "      <td>1.372133</td>\n",
              "      <td>0.765680</td>\n",
              "      <td>03:03</td>\n",
              "    </tr>\n",
              "    <tr>\n",
              "      <td>2</td>\n",
              "      <td>0.470658</td>\n",
              "      <td>1.363899</td>\n",
              "      <td>0.786982</td>\n",
              "      <td>02:58</td>\n",
              "    </tr>\n",
              "    <tr>\n",
              "      <td>3</td>\n",
              "      <td>0.366066</td>\n",
              "      <td>1.321194</td>\n",
              "      <td>0.788166</td>\n",
              "      <td>03:12</td>\n",
              "    </tr>\n",
              "  </tbody>\n",
              "</table>"
            ],
            "text/plain": [
              "<IPython.core.display.HTML object>"
            ]
          },
          "metadata": {
            "tags": []
          }
        }
      ]
    },
    {
      "cell_type": "code",
      "metadata": {
        "id": "atNWNKDFPbuI",
        "outputId": "df45fedf-a419-47a9-e51f-eddd81568e29",
        "colab": {
          "base_uri": "https://localhost:8080/",
          "height": 173
        }
      },
      "source": [
        "learn.fit_one_cycle(4, slice(2e-3/100, 2e-3))"
      ],
      "execution_count": 36,
      "outputs": [
        {
          "output_type": "display_data",
          "data": {
            "text/html": [
              "<table border=\"1\" class=\"dataframe\">\n",
              "  <thead>\n",
              "    <tr style=\"text-align: left;\">\n",
              "      <th>epoch</th>\n",
              "      <th>train_loss</th>\n",
              "      <th>valid_loss</th>\n",
              "      <th>accuracy</th>\n",
              "      <th>time</th>\n",
              "    </tr>\n",
              "  </thead>\n",
              "  <tbody>\n",
              "    <tr>\n",
              "      <td>0</td>\n",
              "      <td>0.359817</td>\n",
              "      <td>1.318236</td>\n",
              "      <td>0.779882</td>\n",
              "      <td>03:15</td>\n",
              "    </tr>\n",
              "    <tr>\n",
              "      <td>1</td>\n",
              "      <td>0.384018</td>\n",
              "      <td>1.330479</td>\n",
              "      <td>0.794083</td>\n",
              "      <td>03:05</td>\n",
              "    </tr>\n",
              "    <tr>\n",
              "      <td>2</td>\n",
              "      <td>0.331408</td>\n",
              "      <td>1.294020</td>\n",
              "      <td>0.796450</td>\n",
              "      <td>03:13</td>\n",
              "    </tr>\n",
              "    <tr>\n",
              "      <td>3</td>\n",
              "      <td>0.304500</td>\n",
              "      <td>1.299855</td>\n",
              "      <td>0.800000</td>\n",
              "      <td>03:07</td>\n",
              "    </tr>\n",
              "  </tbody>\n",
              "</table>"
            ],
            "text/plain": [
              "<IPython.core.display.HTML object>"
            ]
          },
          "metadata": {
            "tags": []
          }
        }
      ]
    },
    {
      "cell_type": "code",
      "metadata": {
        "id": "rKrBTZ0T1uVA",
        "outputId": "dd91730c-6ffd-407c-bb79-a06d9eee9d96",
        "colab": {
          "base_uri": "https://localhost:8080/",
          "height": 173
        }
      },
      "source": [
        "learn.fit_one_cycle(4, slice(2e-3/100, 2e-3))"
      ],
      "execution_count": 37,
      "outputs": [
        {
          "output_type": "display_data",
          "data": {
            "text/html": [
              "<table border=\"1\" class=\"dataframe\">\n",
              "  <thead>\n",
              "    <tr style=\"text-align: left;\">\n",
              "      <th>epoch</th>\n",
              "      <th>train_loss</th>\n",
              "      <th>valid_loss</th>\n",
              "      <th>accuracy</th>\n",
              "      <th>time</th>\n",
              "    </tr>\n",
              "  </thead>\n",
              "  <tbody>\n",
              "    <tr>\n",
              "      <td>0</td>\n",
              "      <td>0.284028</td>\n",
              "      <td>1.407340</td>\n",
              "      <td>0.792899</td>\n",
              "      <td>03:20</td>\n",
              "    </tr>\n",
              "    <tr>\n",
              "      <td>1</td>\n",
              "      <td>0.344618</td>\n",
              "      <td>1.247649</td>\n",
              "      <td>0.796450</td>\n",
              "      <td>03:19</td>\n",
              "    </tr>\n",
              "    <tr>\n",
              "      <td>2</td>\n",
              "      <td>0.285218</td>\n",
              "      <td>1.303871</td>\n",
              "      <td>0.800000</td>\n",
              "      <td>02:55</td>\n",
              "    </tr>\n",
              "    <tr>\n",
              "      <td>3</td>\n",
              "      <td>0.263149</td>\n",
              "      <td>1.309771</td>\n",
              "      <td>0.804734</td>\n",
              "      <td>02:57</td>\n",
              "    </tr>\n",
              "  </tbody>\n",
              "</table>"
            ],
            "text/plain": [
              "<IPython.core.display.HTML object>"
            ]
          },
          "metadata": {
            "tags": []
          }
        }
      ]
    },
    {
      "cell_type": "code",
      "metadata": {
        "id": "ajQC6WDg1yA9",
        "outputId": "a13b0c32-1975-4aa9-b6e2-c01942fe9b8d",
        "colab": {
          "base_uri": "https://localhost:8080/",
          "height": 173
        }
      },
      "source": [
        "learn.fit_one_cycle(4, slice(2e-3/100, 2e-3))"
      ],
      "execution_count": 38,
      "outputs": [
        {
          "output_type": "display_data",
          "data": {
            "text/html": [
              "<table border=\"1\" class=\"dataframe\">\n",
              "  <thead>\n",
              "    <tr style=\"text-align: left;\">\n",
              "      <th>epoch</th>\n",
              "      <th>train_loss</th>\n",
              "      <th>valid_loss</th>\n",
              "      <th>accuracy</th>\n",
              "      <th>time</th>\n",
              "    </tr>\n",
              "  </thead>\n",
              "  <tbody>\n",
              "    <tr>\n",
              "      <td>0</td>\n",
              "      <td>0.258395</td>\n",
              "      <td>1.361946</td>\n",
              "      <td>0.800000</td>\n",
              "      <td>03:14</td>\n",
              "    </tr>\n",
              "    <tr>\n",
              "      <td>1</td>\n",
              "      <td>0.321182</td>\n",
              "      <td>1.365519</td>\n",
              "      <td>0.796450</td>\n",
              "      <td>03:05</td>\n",
              "    </tr>\n",
              "    <tr>\n",
              "      <td>2</td>\n",
              "      <td>0.237267</td>\n",
              "      <td>1.362995</td>\n",
              "      <td>0.805917</td>\n",
              "      <td>03:15</td>\n",
              "    </tr>\n",
              "    <tr>\n",
              "      <td>3</td>\n",
              "      <td>0.231942</td>\n",
              "      <td>1.350136</td>\n",
              "      <td>0.808284</td>\n",
              "      <td>03:09</td>\n",
              "    </tr>\n",
              "  </tbody>\n",
              "</table>"
            ],
            "text/plain": [
              "<IPython.core.display.HTML object>"
            ]
          },
          "metadata": {
            "tags": []
          }
        }
      ]
    },
    {
      "cell_type": "code",
      "metadata": {
        "id": "KKydb0B4BKGk"
      },
      "source": [
        "# learn.fit_one_cycle(4, slice(2e-3/100, 2e-3))"
      ],
      "execution_count": 39,
      "outputs": []
    },
    {
      "cell_type": "code",
      "metadata": {
        "id": "T2APKtFKBpGY"
      },
      "source": [
        "# learn.fit_one_cycle(4, slice(2e-3/100, 2e-3))"
      ],
      "execution_count": 40,
      "outputs": []
    },
    {
      "cell_type": "code",
      "metadata": {
        "id": "qtTypA1sPgLU"
      },
      "source": [
        "# learn.fit_one_cycle(2, slice(2e-3/100, 2e-3))"
      ],
      "execution_count": 41,
      "outputs": []
    },
    {
      "cell_type": "code",
      "metadata": {
        "id": "b242kBsTUp9Y"
      },
      "source": [
        "# learn.fit_one_cycle(2, slice(2e-3/100, 2e-3))"
      ],
      "execution_count": 42,
      "outputs": []
    },
    {
      "cell_type": "code",
      "metadata": {
        "id": "Duwf1Ih5VeDZ",
        "outputId": "5ace5d19-526c-4acc-8474-4c017c0e164b",
        "colab": {
          "base_uri": "https://localhost:8080/",
          "height": 80
        }
      },
      "source": [
        "learn.fit_one_cycle(1, slice(2e-3/100, 2e-3))"
      ],
      "execution_count": 43,
      "outputs": [
        {
          "output_type": "display_data",
          "data": {
            "text/html": [
              "<table border=\"1\" class=\"dataframe\">\n",
              "  <thead>\n",
              "    <tr style=\"text-align: left;\">\n",
              "      <th>epoch</th>\n",
              "      <th>train_loss</th>\n",
              "      <th>valid_loss</th>\n",
              "      <th>accuracy</th>\n",
              "      <th>time</th>\n",
              "    </tr>\n",
              "  </thead>\n",
              "  <tbody>\n",
              "    <tr>\n",
              "      <td>0</td>\n",
              "      <td>0.246106</td>\n",
              "      <td>1.424467</td>\n",
              "      <td>0.803550</td>\n",
              "      <td>03:02</td>\n",
              "    </tr>\n",
              "  </tbody>\n",
              "</table>"
            ],
            "text/plain": [
              "<IPython.core.display.HTML object>"
            ]
          },
          "metadata": {
            "tags": []
          }
        }
      ]
    },
    {
      "cell_type": "code",
      "metadata": {
        "id": "c65d-osfDUXm"
      },
      "source": [
        "# save the best model\n",
        "\n",
        "learn.save_encoder('pubmed_bigtweet_askpatient_mixed_overlap40')"
      ],
      "execution_count": 44,
      "outputs": []
    },
    {
      "cell_type": "markdown",
      "metadata": {
        "id": "rCwZU0E2RgM6"
      },
      "source": [
        "# Part three: Predict on the test dataset"
      ]
    },
    {
      "cell_type": "code",
      "metadata": {
        "id": "gDm72c-dOu7d",
        "outputId": "3e2a303e-a5ae-4223-f2eb-f6907c89435a",
        "colab": {
          "base_uri": "https://localhost:8080/",
          "height": 17
        }
      },
      "source": [
        "# use the test data for prediction\n",
        "\n",
        "preds, y = learn.get_preds(DatasetType.Test)"
      ],
      "execution_count": 45,
      "outputs": [
        {
          "output_type": "display_data",
          "data": {
            "text/html": [
              ""
            ],
            "text/plain": [
              "<IPython.core.display.HTML object>"
            ]
          },
          "metadata": {
            "tags": []
          }
        }
      ]
    },
    {
      "cell_type": "code",
      "metadata": {
        "id": "6tFSQcsWPvxn",
        "outputId": "e062b966-43b8-4eb3-d03b-5a798d4b5da2",
        "colab": {
          "base_uri": "https://localhost:8080/",
          "height": 105
        }
      },
      "source": [
        "predictions, *_ = learn.get_preds(DatasetType.Test)\n",
        "labels = np.argmax(predictions, 1)\n",
        "predict_list = labels.tolist()\n",
        "standard_list = test[0].tolist()\n",
        "\n",
        "print(len(predict_list))\n",
        "print(len(standard_list))\n",
        "\n",
        "print(predict_list)\n",
        "print(standard_list)"
      ],
      "execution_count": 46,
      "outputs": [
        {
          "output_type": "display_data",
          "data": {
            "text/html": [
              ""
            ],
            "text/plain": [
              "<IPython.core.display.HTML object>"
            ]
          },
          "metadata": {
            "tags": []
          }
        },
        {
          "output_type": "stream",
          "text": [
            "1018\n",
            "1018\n",
            "[0, 343, 520, 689, 5, 1026, 1026, 8, 8, 8, 8, 8, 8, 511, 10, 368, 331, 379, 21, 555, 27, 644, 545, 29, 260, 289, 30, 31, 31, 32, 34, 289, 37, 37, 37, 767, 348, 41, 255, 996, 996, 49, 49, 325, 49, 49, 49, 49, 49, 49, 100, 100, 100, 100, 348, 1026, 53, 61, 70, 71, 71, 71, 491, 76, 76, 76, 318, 182, 614, 1026, 1026, 228, 228, 228, 228, 228, 228, 228, 228, 228, 228, 228, 228, 228, 228, 228, 228, 228, 228, 228, 228, 228, 228, 228, 228, 228, 289, 293, 289, 228, 79, 79, 80, 80, 80, 80, 80, 80, 80, 80, 82, 88, 89, 137, 391, 90, 91, 92, 469, 94, 94, 182, 94, 94, 94, 94, 96, 620, 291, 683, 98, 794, 337, 100, 100, 337, 100, 100, 100, 100, 15, 100, 291, 236, 107, 108, 108, 108, 209, 43, 289, 111, 111, 111, 289, 348, 111, 281, 289, 289, 730, 117, 973, 120, 122, 90, 1026, 125, 125, 125, 125, 125, 125, 125, 125, 1026, 125, 127, 741, 289, 289, 172, 132, 627, 447, 447, 144, 481, 827, 151, 282, 37, 344, 34, 158, 163, 165, 166, 166, 166, 168, 170, 172, 614, 172, 172, 172, 172, 172, 742, 182, 182, 182, 182, 182, 182, 183, 183, 183, 183, 183, 183, 183, 184, 184, 185, 187, 187, 187, 1026, 189, 189, 190, 190, 190, 190, 190, 190, 190, 190, 190, 193, 197, 34, 34, 34, 34, 555, 205, 182, 210, 210, 210, 210, 210, 211, 34, 231, 214, 214, 471, 214, 214, 214, 214, 214, 638, 214, 214, 256, 966, 1026, 218, 220, 220, 220, 222, 226, 44, 228, 228, 228, 289, 228, 289, 289, 228, 228, 285, 231, 234, 234, 235, 236, 337, 23, 588, 1026, 238, 328, 740, 1026, 588, 588, 243, 243, 243, 990, 1026, 244, 764, 245, 245, 245, 764, 245, 245, 245, 245, 245, 246, 646, 246, 939, 1026, 618, 728, 259, 260, 289, 172, 1026, 265, 419, 265, 265, 402, 265, 265, 265, 265, 265, 265, 265, 265, 265, 265, 265, 265, 265, 260, 265, 419, 265, 265, 265, 199, 86, 137, 391, 269, 787, 271, 2, 277, 281, 282, 283, 52, 555, 419, 698, 289, 289, 289, 289, 289, 289, 289, 111, 289, 289, 289, 289, 289, 289, 289, 289, 289, 289, 289, 289, 289, 289, 289, 289, 289, 289, 289, 289, 289, 289, 228, 291, 896, 523, 711, 299, 299, 300, 300, 301, 301, 100, 591, 304, 397, 308, 309, 309, 309, 309, 309, 289, 749, 318, 318, 318, 343, 79, 574, 146, 410, 27, 321, 163, 1026, 323, 384, 848, 848, 848, 848, 848, 848, 848, 848, 848, 99, 848, 325, 325, 729, 326, 61, 256, 203, 334, 334, 336, 337, 337, 337, 337, 836, 337, 337, 768, 338, 129, 129, 129, 343, 344, 289, 323, 672, 769, 214, 723, 847, 359, 432, 847, 360, 360, 363, 228, 364, 364, 289, 875, 1026, 745, 161, 391, 556, 396, 402, 402, 402, 402, 402, 237, 408, 627, 415, 415, 419, 419, 419, 419, 419, 419, 419, 419, 419, 76, 419, 419, 1026, 736, 426, 426, 426, 426, 597, 597, 597, 427, 427, 427, 427, 943, 737, 34, 100, 426, 49, 591, 397, 736, 430, 433, 434, 435, 438, 441, 878, 444, 444, 391, 446, 453, 256, 111, 463, 524, 473, 780, 475, 475, 591, 591, 158, 158, 158, 562, 479, 130, 402, 744, 372, 29, 122, 606, 567, 489, 491, 491, 491, 576, 82, 491, 966, 491, 492, 492, 746, 499, 555, 555, 379, 360, 510, 516, 516, 517, 973, 517, 130, 521, 1031, 127, 530, 530, 530, 531, 644, 746, 746, 542, 591, 291, 545, 546, 548, 548, 548, 548, 548, 549, 594, 108, 274, 491, 111, 318, 567, 573, 810, 301, 577, 688, 58, 578, 363, 579, 579, 579, 579, 584, 687, 289, 590, 590, 591, 590, 325, 591, 97, 97, 707, 595, 595, 737, 597, 491, 142, 172, 190, 228, 607, 608, 130, 610, 326, 830, 76, 39, 614, 614, 876, 619, 619, 623, 318, 624, 633, 633, 633, 637, 245, 640, 644, 644, 646, 646, 646, 646, 646, 337, 774, 728, 726, 651, 652, 652, 652, 652, 652, 652, 530, 810, 810, 108, 491, 662, 491, 491, 437, 437, 378, 29, 678, 29, 861, 686, 182, 363, 686, 185, 817, 49, 698, 699, 172, 700, 703, 696, 696, 704, 651, 190, 190, 37, 741, 709, 545, 707, 707, 710, 106, 711, 772, 715, 718, 723, 49, 730, 510, 521, 81, 162, 741, 741, 741, 289, 741, 745, 746, 746, 746, 558, 746, 749, 753, 896, 615, 96, 825, 773, 337, 321, 166, 723, 774, 775, 37, 301, 775, 775, 775, 775, 775, 810, 16, 787, 299, 5, 591, 359, 798, 408, 1026, 804, 99, 805, 805, 143, 808, 592, 491, 809, 809, 809, 809, 810, 810, 810, 810, 45, 815, 33, 824, 377, 826, 826, 402, 828, 363, 1026, 830, 830, 830, 830, 830, 831, 1026, 841, 723, 840, 769, 846, 329, 847, 847, 847, 808, 847, 591, 540, 852, 852, 853, 853, 853, 706, 864, 864, 130, 289, 289, 491, 865, 260, 867, 868, 255, 874, 876, 876, 877, 877, 178, 172, 888, 293, 892, 893, 301, 579, 896, 896, 560, 896, 203, 578, 896, 363, 26, 906, 466, 916, 994, 919, 919, 647, 1026, 929, 966, 470, 933, 933, 936, 937, 937, 937, 937, 966, 966, 944, 970, 1026, 949, 949, 949, 949, 949, 949, 949, 949, 949, 949, 949, 949, 949, 949, 949, 949, 949, 949, 949, 949, 949, 949, 949, 949, 949, 949, 949, 949, 949, 949, 949, 949, 949, 949, 949, 949, 949, 949, 949, 949, 949, 949, 949, 949, 949, 949, 949, 949, 949, 949, 949, 949, 949, 949, 949, 949, 949, 949, 949, 949, 949, 949, 949, 949, 949, 949, 949, 949, 949, 949, 949, 949, 949, 949, 1026, 973, 949, 950, 950, 950, 950, 952, 952, 955, 184, 956, 964, 964, 1026, 970, 970, 1026, 977, 924, 994, 99, 1001, 1002, 1031, 1017, 999, 966, 966, 1022, 1026, 1026, 1026, 1028, 1028, 1031, 1029, 1029, 1026, 1035]\n",
            "[0, 3, 4, 5, 5, 7, 8, 8, 8, 8, 8, 8, 8, 9, 10, 14, 18, 19, 21, 22, 27, 28, 28, 29, 30, 30, 30, 31, 31, 32, 34, 37, 37, 37, 37, 38, 40, 41, 47, 49, 49, 49, 49, 49, 49, 49, 49, 49, 49, 49, 49, 49, 49, 49, 50, 53, 53, 61, 70, 71, 71, 71, 74, 76, 76, 76, 77, 77, 79, 79, 79, 79, 79, 79, 79, 79, 79, 79, 79, 79, 79, 79, 79, 79, 79, 79, 79, 79, 79, 79, 79, 79, 79, 79, 79, 79, 79, 79, 79, 79, 79, 79, 80, 80, 80, 80, 80, 80, 80, 80, 82, 88, 89, 89, 89, 90, 91, 92, 93, 94, 94, 94, 94, 94, 94, 94, 96, 96, 98, 98, 98, 99, 100, 100, 100, 100, 100, 100, 100, 100, 100, 100, 101, 102, 107, 108, 108, 108, 109, 110, 111, 111, 111, 111, 111, 111, 111, 111, 111, 111, 111, 117, 119, 120, 122, 122, 125, 125, 125, 125, 125, 125, 125, 125, 125, 125, 125, 127, 129, 129, 129, 129, 132, 138, 142, 142, 144, 150, 150, 151, 151, 153, 157, 157, 158, 163, 165, 166, 166, 166, 168, 170, 172, 172, 172, 172, 172, 172, 172, 180, 182, 182, 182, 182, 182, 182, 183, 183, 183, 183, 183, 183, 183, 184, 184, 185, 187, 187, 187, 187, 189, 189, 190, 190, 190, 190, 190, 190, 190, 190, 190, 193, 197, 197, 197, 197, 197, 204, 205, 205, 210, 210, 210, 210, 210, 211, 214, 214, 214, 214, 214, 214, 214, 214, 214, 214, 214, 214, 214, 216, 216, 218, 218, 220, 220, 220, 222, 226, 228, 228, 228, 228, 228, 228, 228, 228, 228, 228, 229, 231, 234, 234, 235, 236, 236, 238, 238, 238, 238, 240, 240, 243, 243, 243, 243, 243, 243, 243, 243, 244, 245, 245, 245, 245, 245, 245, 245, 245, 245, 245, 246, 246, 246, 249, 254, 254, 254, 259, 260, 260, 260, 261, 265, 265, 265, 265, 265, 265, 265, 265, 265, 265, 265, 265, 265, 265, 265, 265, 265, 265, 265, 265, 265, 265, 265, 265, 266, 268, 268, 268, 269, 270, 271, 272, 277, 281, 282, 283, 286, 288, 289, 289, 289, 289, 289, 289, 289, 289, 289, 289, 289, 289, 289, 289, 289, 289, 289, 289, 289, 289, 289, 289, 289, 289, 289, 289, 289, 289, 289, 289, 289, 289, 289, 291, 293, 294, 295, 299, 299, 300, 300, 301, 301, 301, 301, 304, 304, 308, 309, 309, 309, 309, 309, 309, 317, 318, 318, 318, 318, 318, 318, 318, 320, 320, 321, 321, 323, 323, 325, 325, 325, 325, 325, 325, 325, 325, 325, 325, 325, 325, 325, 325, 326, 326, 327, 330, 333, 334, 334, 336, 337, 337, 337, 337, 337, 337, 337, 338, 338, 343, 343, 343, 343, 344, 345, 346, 347, 350, 351, 359, 359, 359, 359, 359, 360, 360, 363, 364, 364, 364, 364, 365, 380, 387, 388, 392, 394, 396, 402, 402, 402, 402, 402, 408, 408, 413, 415, 416, 419, 419, 419, 419, 419, 419, 419, 419, 419, 419, 419, 419, 424, 424, 426, 426, 426, 426, 427, 427, 427, 427, 427, 427, 427, 427, 427, 427, 427, 427, 427, 427, 427, 428, 430, 433, 434, 435, 438, 441, 443, 444, 444, 444, 446, 453, 455, 461, 462, 465, 473, 473, 475, 475, 475, 475, 476, 476, 476, 477, 479, 479, 481, 482, 483, 486, 487, 487, 488, 489, 491, 491, 491, 491, 491, 491, 491, 491, 492, 492, 493, 499, 505, 505, 506, 509, 514, 516, 516, 517, 517, 517, 521, 521, 527, 529, 530, 530, 530, 531, 531, 541, 541, 542, 543, 543, 545, 546, 548, 548, 548, 548, 548, 549, 549, 554, 561, 561, 565, 566, 567, 571, 575, 577, 577, 577, 577, 578, 578, 579, 579, 579, 579, 584, 586, 588, 590, 590, 591, 591, 591, 591, 594, 594, 595, 595, 595, 596, 597, 598, 598, 604, 606, 606, 607, 608, 609, 610, 610, 611, 614, 614, 614, 614, 617, 619, 619, 623, 623, 624, 633, 633, 633, 637, 638, 640, 644, 644, 646, 646, 646, 646, 646, 646, 648, 648, 648, 651, 652, 652, 652, 652, 652, 654, 659, 659, 659, 660, 662, 662, 662, 663, 663, 663, 664, 669, 677, 681, 683, 686, 686, 686, 686, 687, 689, 693, 698, 700, 700, 701, 701, 702, 702, 702, 702, 703, 703, 704, 704, 705, 705, 707, 707, 710, 710, 711, 715, 716, 718, 723, 727, 730, 731, 733, 738, 739, 741, 741, 741, 741, 741, 745, 746, 746, 746, 746, 746, 749, 753, 753, 756, 761, 763, 765, 766, 767, 770, 771, 774, 775, 775, 775, 775, 775, 775, 775, 775, 782, 784, 787, 787, 788, 794, 794, 798, 800, 803, 804, 804, 805, 805, 807, 808, 809, 809, 809, 809, 809, 809, 810, 810, 810, 810, 813, 815, 816, 824, 826, 826, 826, 827, 828, 829, 830, 830, 830, 830, 830, 830, 831, 834, 840, 840, 840, 840, 844, 846, 847, 847, 847, 847, 847, 847, 847, 852, 852, 853, 853, 853, 861, 864, 864, 864, 864, 864, 865, 865, 865, 867, 868, 871, 874, 876, 876, 877, 877, 882, 883, 888, 889, 892, 893, 894, 896, 896, 896, 896, 896, 898, 902, 903, 903, 905, 906, 908, 916, 917, 919, 919, 920, 926, 929, 931, 932, 933, 933, 936, 937, 937, 937, 937, 941, 941, 944, 947, 948, 949, 949, 949, 949, 949, 949, 949, 949, 949, 949, 949, 949, 949, 949, 949, 949, 949, 949, 949, 949, 949, 949, 949, 949, 949, 949, 949, 949, 949, 949, 949, 949, 949, 949, 949, 949, 949, 949, 949, 949, 949, 949, 949, 949, 949, 949, 949, 949, 949, 949, 949, 949, 949, 949, 949, 949, 949, 949, 949, 949, 949, 949, 949, 949, 949, 949, 949, 949, 949, 949, 949, 949, 949, 949, 949, 949, 949, 950, 950, 950, 950, 952, 952, 955, 955, 956, 964, 964, 966, 967, 967, 969, 977, 994, 994, 1000, 1001, 1002, 1011, 1017, 1019, 1020, 1020, 1022, 1026, 1026, 1026, 1028, 1028, 1028, 1029, 1029, 1030, 1035]\n"
          ],
          "name": "stdout"
        }
      ]
    },
    {
      "cell_type": "code",
      "metadata": {
        "id": "XIC4zufnMxtq",
        "outputId": "9532794e-d8cf-455a-a712-e219873c5702",
        "colab": {
          "base_uri": "https://localhost:8080/",
          "height": 51
        }
      },
      "source": [
        "correct_num = 0\n",
        "\n",
        "for i in range(0, len(standard_list)):\n",
        "  if predict_list[i] == standard_list[i]:\n",
        "    correct_num = correct_num+1\n",
        "  else:\n",
        "    pass\n",
        "print(correct_num)\n",
        "\n",
        "predict_accuracy = correct_num/len(predict_list)\n",
        "print(predict_accuracy)"
      ],
      "execution_count": 47,
      "outputs": [
        {
          "output_type": "stream",
          "text": [
            "586\n",
            "0.5756385068762279\n"
          ],
          "name": "stdout"
        }
      ]
    },
    {
      "cell_type": "code",
      "metadata": {
        "id": "zlKMHp1CIaRJ"
      },
      "source": [
        ""
      ],
      "execution_count": 47,
      "outputs": []
    }
  ]
}