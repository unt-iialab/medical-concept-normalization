{
  "nbformat": 4,
  "nbformat_minor": 0,
  "metadata": {
    "accelerator": "TPU",
    "colab": {
      "name": "cadec_ask_04.ipynb",
      "provenance": [],
      "collapsed_sections": [],
      "include_colab_link": true
    },
    "kernelspec": {
      "display_name": "Python 3",
      "name": "python3"
    }
  },
  "cells": [
    {
      "cell_type": "markdown",
      "metadata": {
        "id": "view-in-github",
        "colab_type": "text"
      },
      "source": [
        "<a href=\"https://colab.research.google.com/github/unt-iialab/medical-concept-normalization/blob/master/medical-concept-normalization/fine-tuning-experiments/askpatient/cadec_ask_04.ipynb\" target=\"_parent\"><img src=\"https://colab.research.google.com/assets/colab-badge.svg\" alt=\"Open In Colab\"/></a>"
      ]
    },
    {
      "cell_type": "code",
      "metadata": {
        "id": "adSi6i2-dWxy"
      },
      "source": [
        "import os"
      ],
      "execution_count": 1,
      "outputs": []
    },
    {
      "cell_type": "code",
      "metadata": {
        "id": "E7xYCRGPjd9B"
      },
      "source": [
        "base_dir = 'medical-concept-normalization'"
      ],
      "execution_count": 2,
      "outputs": []
    },
    {
      "cell_type": "code",
      "metadata": {
        "id": "yvIW3aUDjYNS"
      },
      "source": [
        "os.mkdir(base_dir)"
      ],
      "execution_count": 3,
      "outputs": []
    },
    {
      "cell_type": "code",
      "metadata": {
        "id": "es-FFLlfk6SG"
      },
      "source": [
        "os.mkdir('medical-concept-normalization/data_collection')"
      ],
      "execution_count": 4,
      "outputs": []
    },
    {
      "cell_type": "markdown",
      "metadata": {
        "id": "0R-Guw_VoJXm"
      },
      "source": [
        "**Install fastai and clone the fastai for text classification**\n",
        "\n"
      ]
    },
    {
      "cell_type": "code",
      "metadata": {
        "id": "QVZa3Z0PmHFH",
        "outputId": "4c1ed9ef-b5fd-4619-9086-c5540e39b8ea",
        "colab": {
          "base_uri": "https://localhost:8080/"
        }
      },
      "source": [
        "!curl https://course-v3.fast.ai/setup/colab | bash"
      ],
      "execution_count": 5,
      "outputs": [
        {
          "output_type": "stream",
          "text": [
            "  % Total    % Received % Xferd  Average Speed   Time    Time     Time  Current\n",
            "                                 Dload  Upload   Total   Spent    Left  Speed\n",
            "\r  0     0    0     0    0     0      0      0 --:--:-- --:--:-- --:--:--     0curl: (6) Could not resolve host: course-v3.fast.ai\n"
          ],
          "name": "stdout"
        }
      ]
    },
    {
      "cell_type": "code",
      "metadata": {
        "id": "_FBFFEBrmJC0",
        "outputId": "09ad1c9e-685e-4149-86b4-22c73ee39dbf",
        "colab": {
          "base_uri": "https://localhost:8080/"
        }
      },
      "source": [
        "!git clone https://github.com/wshuyi/demo-nlp-classification-fastai.git"
      ],
      "execution_count": 6,
      "outputs": [
        {
          "output_type": "stream",
          "text": [
            "Cloning into 'demo-nlp-classification-fastai'...\n",
            "remote: Enumerating objects: 9, done.\u001b[K\n",
            "Unpacking objects: 100% (9/9), done.\n",
            "remote: Total 9 (delta 0), reused 0 (delta 0), pack-reused 9\u001b[K\n"
          ],
          "name": "stdout"
        }
      ]
    },
    {
      "cell_type": "code",
      "metadata": {
        "id": "66zfh_JqmWMU"
      },
      "source": [
        "from fastai import *\n",
        "from fastai.text import *"
      ],
      "execution_count": 7,
      "outputs": []
    },
    {
      "cell_type": "markdown",
      "metadata": {
        "id": "mNIw-yALdBU9"
      },
      "source": [
        "**Set the path of the data collections**"
      ]
    },
    {
      "cell_type": "code",
      "metadata": {
        "id": "pzH7VMh4mqCL"
      },
      "source": [
        "path = Path('medical-concept-normalization/data_collection')"
      ],
      "execution_count": 8,
      "outputs": []
    },
    {
      "cell_type": "code",
      "metadata": {
        "id": "b8fjI6yyn4aS"
      },
      "source": [
        "# training data set\n",
        "\n",
        "train_csv = path/'AskAPatient.fold-4.train.csv'\n",
        "train = pd.read_csv(train_csv, header=None)\n",
        "#train.head()\n",
        "#train.info()"
      ],
      "execution_count": 10,
      "outputs": []
    },
    {
      "cell_type": "code",
      "metadata": {
        "id": "Hmlr-bAorfHd",
        "outputId": "aca65d2b-2349-49cc-bfe5-093519c16634",
        "colab": {
          "base_uri": "https://localhost:8080/",
          "height": 204
        }
      },
      "source": [
        "# validating data set\n",
        "\n",
        "valid = pd.read_csv(path/\"AskAPatient.fold-4.validation.csv\",header=None)\n",
        "valid.head()"
      ],
      "execution_count": 11,
      "outputs": [
        {
          "output_type": "execute_result",
          "data": {
            "text/html": [
              "<div>\n",
              "<style scoped>\n",
              "    .dataframe tbody tr th:only-of-type {\n",
              "        vertical-align: middle;\n",
              "    }\n",
              "\n",
              "    .dataframe tbody tr th {\n",
              "        vertical-align: top;\n",
              "    }\n",
              "\n",
              "    .dataframe thead th {\n",
              "        text-align: right;\n",
              "    }\n",
              "</style>\n",
              "<table border=\"1\" class=\"dataframe\">\n",
              "  <thead>\n",
              "    <tr style=\"text-align: right;\">\n",
              "      <th></th>\n",
              "      <th>0</th>\n",
              "      <th>1</th>\n",
              "    </tr>\n",
              "  </thead>\n",
              "  <tbody>\n",
              "    <tr>\n",
              "      <th>0</th>\n",
              "      <td>6</td>\n",
              "      <td>diastolic dysfunction</td>\n",
              "    </tr>\n",
              "    <tr>\n",
              "      <th>1</th>\n",
              "      <td>8</td>\n",
              "      <td>ARTHRITIS</td>\n",
              "    </tr>\n",
              "    <tr>\n",
              "      <th>2</th>\n",
              "      <td>8</td>\n",
              "      <td>arthritis</td>\n",
              "    </tr>\n",
              "    <tr>\n",
              "      <th>3</th>\n",
              "      <td>8</td>\n",
              "      <td>arthritis</td>\n",
              "    </tr>\n",
              "    <tr>\n",
              "      <th>4</th>\n",
              "      <td>8</td>\n",
              "      <td>arthritis</td>\n",
              "    </tr>\n",
              "  </tbody>\n",
              "</table>\n",
              "</div>"
            ],
            "text/plain": [
              "   0                      1\n",
              "0  6  diastolic dysfunction\n",
              "1  8              ARTHRITIS\n",
              "2  8              arthritis\n",
              "3  8              arthritis\n",
              "4  8              arthritis"
            ]
          },
          "metadata": {
            "tags": []
          },
          "execution_count": 11
        }
      ]
    },
    {
      "cell_type": "code",
      "metadata": {
        "id": "cOza9dfSsBud",
        "outputId": "49f30c89-1baa-4021-b360-118b696234b1",
        "colab": {
          "base_uri": "https://localhost:8080/",
          "height": 204
        }
      },
      "source": [
        "# testing data set\n",
        "\n",
        "test = pd.read_csv(path/\"AskAPatient.fold-4.test.csv\",header=None)\n",
        "test.head()"
      ],
      "execution_count": 12,
      "outputs": [
        {
          "output_type": "execute_result",
          "data": {
            "text/html": [
              "<div>\n",
              "<style scoped>\n",
              "    .dataframe tbody tr th:only-of-type {\n",
              "        vertical-align: middle;\n",
              "    }\n",
              "\n",
              "    .dataframe tbody tr th {\n",
              "        vertical-align: top;\n",
              "    }\n",
              "\n",
              "    .dataframe thead th {\n",
              "        text-align: right;\n",
              "    }\n",
              "</style>\n",
              "<table border=\"1\" class=\"dataframe\">\n",
              "  <thead>\n",
              "    <tr style=\"text-align: right;\">\n",
              "      <th></th>\n",
              "      <th>0</th>\n",
              "      <th>1</th>\n",
              "    </tr>\n",
              "  </thead>\n",
              "  <tbody>\n",
              "    <tr>\n",
              "      <th>0</th>\n",
              "      <td>4</td>\n",
              "      <td>purple sploches around waist</td>\n",
              "    </tr>\n",
              "    <tr>\n",
              "      <th>1</th>\n",
              "      <td>6</td>\n",
              "      <td>stage 1 diastolic dysfunction</td>\n",
              "    </tr>\n",
              "    <tr>\n",
              "      <th>2</th>\n",
              "      <td>8</td>\n",
              "      <td>arthritis</td>\n",
              "    </tr>\n",
              "    <tr>\n",
              "      <th>3</th>\n",
              "      <td>12</td>\n",
              "      <td>shingles</td>\n",
              "    </tr>\n",
              "    <tr>\n",
              "      <th>4</th>\n",
              "      <td>16</td>\n",
              "      <td>flu</td>\n",
              "    </tr>\n",
              "  </tbody>\n",
              "</table>\n",
              "</div>"
            ],
            "text/plain": [
              "    0                              1\n",
              "0   4   purple sploches around waist\n",
              "1   6  stage 1 diastolic dysfunction\n",
              "2   8                      arthritis\n",
              "3  12                       shingles\n",
              "4  16                            flu"
            ]
          },
          "metadata": {
            "tags": []
          },
          "execution_count": 12
        }
      ]
    },
    {
      "cell_type": "code",
      "metadata": {
        "id": "Vo-YNvVYoaH6",
        "outputId": "fed45797-fea9-4892-9e64-8fb9ff0d7c88",
        "colab": {
          "base_uri": "https://localhost:8080/",
          "height": 17
        }
      },
      "source": [
        "# Creating DataBunch for language modelling\n",
        "\n",
        "data_lm = TextLMDataBunch.from_csv(path, 'cadec_ask.csv')"
      ],
      "execution_count": 13,
      "outputs": [
        {
          "output_type": "display_data",
          "data": {
            "text/html": [
              ""
            ],
            "text/plain": [
              "<IPython.core.display.HTML object>"
            ]
          },
          "metadata": {
            "tags": []
          }
        },
        {
          "output_type": "display_data",
          "data": {
            "text/html": [
              ""
            ],
            "text/plain": [
              "<IPython.core.display.HTML object>"
            ]
          },
          "metadata": {
            "tags": []
          }
        }
      ]
    },
    {
      "cell_type": "code",
      "metadata": {
        "id": "qcV-9kMnNLBf"
      },
      "source": [
        ""
      ],
      "execution_count": 13,
      "outputs": []
    },
    {
      "cell_type": "code",
      "metadata": {
        "id": "1ScY9afDsnvE"
      },
      "source": [
        "# Creating DataBunch for classification\n",
        "\n",
        "# data_clas = TextClasDataBunch.from_df(path, train, valid, test, vocab=data_lm.train_ds.vocab, bs=128)"
      ],
      "execution_count": 14,
      "outputs": []
    },
    {
      "cell_type": "code",
      "metadata": {
        "id": "gzrSdQcvey9p",
        "outputId": "49688f19-cffb-479f-e3bd-76b10fe96acd",
        "colab": {
          "base_uri": "https://localhost:8080/",
          "height": 17
        }
      },
      "source": [
        "data_clas = TextClasDataBunch.from_df(path, train, valid, vocab=data_lm.train_ds.vocab, bs=128)"
      ],
      "execution_count": 15,
      "outputs": [
        {
          "output_type": "display_data",
          "data": {
            "text/html": [
              ""
            ],
            "text/plain": [
              "<IPython.core.display.HTML object>"
            ]
          },
          "metadata": {
            "tags": []
          }
        },
        {
          "output_type": "display_data",
          "data": {
            "text/html": [
              ""
            ],
            "text/plain": [
              "<IPython.core.display.HTML object>"
            ]
          },
          "metadata": {
            "tags": []
          }
        }
      ]
    },
    {
      "cell_type": "code",
      "metadata": {
        "id": "MD27Tf0Ke3ou",
        "outputId": "37cce3e1-60d5-44ac-f31b-b39ea5a4231a",
        "colab": {
          "base_uri": "https://localhost:8080/",
          "height": 17
        }
      },
      "source": [
        "data_clas.add_test(test,label=0)\n"
      ],
      "execution_count": 16,
      "outputs": [
        {
          "output_type": "display_data",
          "data": {
            "text/html": [
              ""
            ],
            "text/plain": [
              "<IPython.core.display.HTML object>"
            ]
          },
          "metadata": {
            "tags": []
          }
        }
      ]
    },
    {
      "cell_type": "code",
      "metadata": {
        "id": "-dpjnk_rstwk"
      },
      "source": [
        "data_lm.save()\n",
        "data_clas.save()"
      ],
      "execution_count": 17,
      "outputs": []
    },
    {
      "cell_type": "code",
      "metadata": {
        "id": "4OkiJa36sw5s",
        "outputId": "e130e8a7-e016-4a2f-9eb9-18a97879a762",
        "colab": {
          "base_uri": "https://localhost:8080/"
        }
      },
      "source": [
        "data_lm.train_ds.vocab.itos"
      ],
      "execution_count": 18,
      "outputs": [
        {
          "output_type": "execute_result",
          "data": {
            "text/plain": [
              "['xxunk',\n",
              " 'xxpad',\n",
              " 'xxbos',\n",
              " 'xxeos',\n",
              " 'xxfld',\n",
              " 'xxmaj',\n",
              " 'xxup',\n",
              " 'xxrep',\n",
              " 'xxwrep',\n",
              " 'pain',\n",
              " 'lipitor',\n",
              " 'in',\n",
              " 'of',\n",
              " 'muscle',\n",
              " '.',\n",
              " 'and',\n",
              " 'to',\n",
              " ',',\n",
              " 'my',\n",
              " 'i',\n",
              " 'the',\n",
              " 'severe',\n",
              " 'myalgia',\n",
              " 'fatigue',\n",
              " 'lower',\n",
              " 'loss',\n",
              " '-',\n",
              " 'weakness',\n",
              " 'cramp',\n",
              " 'limb',\n",
              " 'stomach',\n",
              " 'back',\n",
              " 'a',\n",
              " 'depression',\n",
              " 'cramps',\n",
              " 'memory',\n",
              " 'gas',\n",
              " 'leg',\n",
              " 'joint',\n",
              " 'upper',\n",
              " 'legs',\n",
              " 'pains',\n",
              " 'it',\n",
              " 'shoulder',\n",
              " 'headache',\n",
              " 'unable',\n",
              " 'knee',\n",
              " 'not',\n",
              " 'neck',\n",
              " '/',\n",
              " 'on',\n",
              " 'was',\n",
              " 'arthralgia',\n",
              " 'foot',\n",
              " 'aches',\n",
              " 'excessive',\n",
              " 'for',\n",
              " 'numbness',\n",
              " 'hip',\n",
              " 'gastrointestinal',\n",
              " 'all',\n",
              " 'have',\n",
              " 'arthritis',\n",
              " 'like',\n",
              " 'insomnia',\n",
              " 'problems',\n",
              " 'walk',\n",
              " 'feeling',\n",
              " 'bleeding',\n",
              " 'with',\n",
              " 'cholesterol',\n",
              " 'arthrotec',\n",
              " 'is',\n",
              " 'nausea',\n",
              " 'heart',\n",
              " 'feet',\n",
              " 'tired',\n",
              " 'asthenia',\n",
              " 'abdominal',\n",
              " 'dizziness',\n",
              " 'disease',\n",
              " 'walking',\n",
              " 'muscles',\n",
              " 'very',\n",
              " 'extreme',\n",
              " 'this',\n",
              " 'difficulty',\n",
              " 'chest',\n",
              " 'that',\n",
              " 'swelling',\n",
              " 'hair',\n",
              " 'hand',\n",
              " 'vision',\n",
              " 'ache',\n",
              " 'stiffness',\n",
              " 'burning',\n",
              " 'increased',\n",
              " 'zocor',\n",
              " ')',\n",
              " 'could',\n",
              " 'cramping',\n",
              " 'sleep',\n",
              " 'had',\n",
              " '(',\n",
              " \"n't\",\n",
              " 'backache',\n",
              " 'blood',\n",
              " 'left',\n",
              " 'liver',\n",
              " 'skin',\n",
              " 'pins',\n",
              " 'needles',\n",
              " 'diarrhoea',\n",
              " 'but',\n",
              " 'at',\n",
              " 'up',\n",
              " 'amnesia',\n",
              " 'tingling',\n",
              " 'calf',\n",
              " 'weight',\n",
              " 'high',\n",
              " 'taking',\n",
              " 'me',\n",
              " 'impairment',\n",
              " 'stiff',\n",
              " 'hands',\n",
              " 'anxiety',\n",
              " 'short',\n",
              " 'so',\n",
              " 'lack',\n",
              " 'disability',\n",
              " 'side',\n",
              " 'bloating',\n",
              " 'symptom',\n",
              " \"'s\",\n",
              " 'low',\n",
              " 'arms',\n",
              " 'headaches',\n",
              " 'constipation',\n",
              " 'arm',\n",
              " 'term',\n",
              " 'can',\n",
              " 'after',\n",
              " 'time',\n",
              " 'no',\n",
              " 'sore',\n",
              " 'body',\n",
              " 'neuropathy',\n",
              " 'blurred',\n",
              " 'or',\n",
              " 'balance',\n",
              " 'pressure',\n",
              " 'disorder',\n",
              " 'from',\n",
              " 'mg',\n",
              " 'voltaren',\n",
              " 'off',\n",
              " 'poor',\n",
              " 'tiredness',\n",
              " 'feel',\n",
              " 'drug',\n",
              " 'joints',\n",
              " 'vaginal',\n",
              " 'pravachol',\n",
              " 'hurt',\n",
              " 'bad',\n",
              " 'ankle',\n",
              " '!',\n",
              " 'rash',\n",
              " 'sensation',\n",
              " 'as',\n",
              " 'am',\n",
              " 'myositis',\n",
              " 'right',\n",
              " 'been',\n",
              " 'get',\n",
              " 'infarction',\n",
              " 'attack',\n",
              " 'effects',\n",
              " 'has',\n",
              " 'symptoms',\n",
              " 'acid',\n",
              " 'myocardial',\n",
              " 'vertigo',\n",
              " 'itching',\n",
              " 'swollen',\n",
              " 'atrophy',\n",
              " 'upset',\n",
              " 'generalised',\n",
              " 'energy',\n",
              " 'shoulders',\n",
              " 'out',\n",
              " 'constant',\n",
              " 'mentally',\n",
              " 'diarrhea',\n",
              " 'painful',\n",
              " 'are',\n",
              " 'ubidecarenone',\n",
              " 'weak',\n",
              " 'gain',\n",
              " 'by',\n",
              " 'over',\n",
              " 'diabetes',\n",
              " 'dry',\n",
              " 'both',\n",
              " 'reduced',\n",
              " 'be',\n",
              " 'damage',\n",
              " 'raised',\n",
              " 'elbow',\n",
              " 'sleeping',\n",
              " 'crestor',\n",
              " 'years',\n",
              " 'dull',\n",
              " 'spasm',\n",
              " 'day',\n",
              " 'hazy',\n",
              " 'knees',\n",
              " 'illness',\n",
              " 'do',\n",
              " 'started',\n",
              " 'when',\n",
              " 'heavy',\n",
              " 'spasms',\n",
              " '3',\n",
              " 'take',\n",
              " 'about',\n",
              " 'elevated',\n",
              " 'visual',\n",
              " 'libido',\n",
              " 'thigh',\n",
              " 'problem',\n",
              " 'bed',\n",
              " 'toe',\n",
              " 'influenza',\n",
              " 'exhaustion',\n",
              " 'tendonitis',\n",
              " 'mood',\n",
              " 'abnormal',\n",
              " 'discomfort',\n",
              " 'syndrome',\n",
              " 'fibromyalgia',\n",
              " 'myopathy',\n",
              " 'felt',\n",
              " 'will',\n",
              " 'irritable',\n",
              " 'flu',\n",
              " 'movement',\n",
              " 'did',\n",
              " 'kidney',\n",
              " 'flatulence',\n",
              " 'now',\n",
              " 'sclerosis',\n",
              " 'down',\n",
              " 'night',\n",
              " 'doctor',\n",
              " 'throat',\n",
              " 'vomiting',\n",
              " 'reflux',\n",
              " 'months',\n",
              " 'concentrate',\n",
              " '2',\n",
              " 'just',\n",
              " 'hips',\n",
              " 'one',\n",
              " 'cold',\n",
              " 'more',\n",
              " 'if',\n",
              " 'days',\n",
              " 'lightheadedness',\n",
              " 'sweating',\n",
              " 'urine',\n",
              " 'concentration',\n",
              " 'disturbance',\n",
              " 'malaise',\n",
              " 'tremor',\n",
              " 'went',\n",
              " 'soreness',\n",
              " 'would',\n",
              " 'confusion',\n",
              " 'serum',\n",
              " 'head',\n",
              " 'brain',\n",
              " 'appetite',\n",
              " 'eye',\n",
              " 'swings',\n",
              " 'toes',\n",
              " 'chronic',\n",
              " 'stopped',\n",
              " 'aching',\n",
              " 'simvastatin',\n",
              " 'menstrual',\n",
              " '10',\n",
              " 'mellitus',\n",
              " 'think',\n",
              " 'stairs',\n",
              " 'tinnitus',\n",
              " 'some',\n",
              " 'esters',\n",
              " 'also',\n",
              " 'calves',\n",
              " 'wind',\n",
              " 'failure',\n",
              " 'took',\n",
              " 'decreased',\n",
              " 'finger',\n",
              " 'ezetimibe',\n",
              " 'ankles',\n",
              " 'parkinson',\n",
              " 'type',\n",
              " 'only',\n",
              " 'paraesthesia',\n",
              " 'celebrex',\n",
              " 'intense',\n",
              " 'c',\n",
              " 'motivation',\n",
              " 'heel',\n",
              " 'general',\n",
              " 'mild',\n",
              " 'excruciating',\n",
              " 'cough',\n",
              " 'impaired',\n",
              " 'face',\n",
              " 'indigestion',\n",
              " 'peripheral',\n",
              " 'charleyhorse',\n",
              " 'weeks',\n",
              " 'acute',\n",
              " 'injury',\n",
              " 'swallowing',\n",
              " \"'m\",\n",
              " 'ascorbic',\n",
              " 'terrible',\n",
              " 'restless',\n",
              " 'still',\n",
              " 'fingers',\n",
              " 'getting',\n",
              " 'stress',\n",
              " 'ibuprofen',\n",
              " '&',\n",
              " 'were',\n",
              " 'tendon',\n",
              " 'palpitations',\n",
              " 'then',\n",
              " 'level',\n",
              " 'week',\n",
              " 'they',\n",
              " '1',\n",
              " 'depressed',\n",
              " 'hot',\n",
              " 'he',\n",
              " 'lupus',\n",
              " 'renal',\n",
              " 'you',\n",
              " 'other',\n",
              " 'any',\n",
              " 'nerve',\n",
              " ':',\n",
              " 'dyspnoea',\n",
              " '20',\n",
              " 'speech',\n",
              " 'dark',\n",
              " 'lateral',\n",
              " 'enzymes',\n",
              " 'eyes',\n",
              " 'an',\n",
              " 'tightness',\n",
              " 'strength',\n",
              " 'never',\n",
              " 'exercise',\n",
              " 'well',\n",
              " 'infection',\n",
              " 'limbs',\n",
              " 'twitch',\n",
              " 'always',\n",
              " 'breathing',\n",
              " 'dreams',\n",
              " 'than',\n",
              " 'trouble',\n",
              " 'go',\n",
              " 'vitamin',\n",
              " 'menopause',\n",
              " 'ago',\n",
              " 'multiple',\n",
              " 'again',\n",
              " 'gout',\n",
              " 'coq10',\n",
              " 'migraine',\n",
              " 'wrist',\n",
              " 'drowsy',\n",
              " 'fog',\n",
              " 'much',\n",
              " '5',\n",
              " 'oil',\n",
              " 'before',\n",
              " 'which',\n",
              " 'provoked',\n",
              " 'heartburn',\n",
              " 'fish',\n",
              " 'ca',\n",
              " 'move',\n",
              " 'bowel',\n",
              " 'sinus',\n",
              " 'every',\n",
              " 'mouth',\n",
              " 'taste',\n",
              " 'advil',\n",
              " 'amyotrophic',\n",
              " 'breath',\n",
              " 'even',\n",
              " 'due',\n",
              " 'going',\n",
              " 'thighs',\n",
              " 'aleve',\n",
              " 'twitching',\n",
              " 'medication',\n",
              " 'function',\n",
              " 'hardly',\n",
              " 'being',\n",
              " 'better',\n",
              " 'elbows',\n",
              " 'clearly',\n",
              " 'uterine',\n",
              " 'drive',\n",
              " 'rheumatoid',\n",
              " 'horses',\n",
              " 'experienced',\n",
              " 'mobility',\n",
              " 'tylenol',\n",
              " 'two',\n",
              " 'worse',\n",
              " 'month',\n",
              " 'because',\n",
              " 'almost',\n",
              " 'nasal',\n",
              " 'first',\n",
              " '+',\n",
              " 'urinary',\n",
              " 'ulcer',\n",
              " 'fenofibrate',\n",
              " '40',\n",
              " 'levels',\n",
              " 'numb',\n",
              " 'tight',\n",
              " 'what',\n",
              " 'plantar',\n",
              " 'charley',\n",
              " 'lost',\n",
              " 'tricor',\n",
              " \"'ve\",\n",
              " 'life',\n",
              " 'loose',\n",
              " '4',\n",
              " 'moody',\n",
              " 'lethargy',\n",
              " 'mental',\n",
              " 'statins',\n",
              " 'sharp',\n",
              " 'pulse',\n",
              " 'extremely',\n",
              " 'fatigued',\n",
              " 'light',\n",
              " 'these',\n",
              " 'barely',\n",
              " 'sick',\n",
              " 'fever',\n",
              " 'zetia',\n",
              " 'ringing',\n",
              " 'sex',\n",
              " 'sugar',\n",
              " 'around',\n",
              " 'diclofenac',\n",
              " 'facial',\n",
              " ';',\n",
              " 'malignant',\n",
              " 'cerebrovascular',\n",
              " 'accident',\n",
              " 'liptor',\n",
              " 'deep',\n",
              " 'horrible',\n",
              " 'shortness',\n",
              " 'little',\n",
              " 'times',\n",
              " 'should',\n",
              " 'thoughts',\n",
              " 'present',\n",
              " 'major',\n",
              " 'statin',\n",
              " 'told',\n",
              " 'lot',\n",
              " 'who',\n",
              " 'panic',\n",
              " 'slurred',\n",
              " 'morning',\n",
              " 'attacks',\n",
              " 'als',\n",
              " 'paracetamol',\n",
              " 'extremity',\n",
              " 'since',\n",
              " '?',\n",
              " 'rhabdomyolysis',\n",
              " 'finding',\n",
              " 'stamina',\n",
              " 'cancer',\n",
              " 'dr',\n",
              " 'there',\n",
              " 'away',\n",
              " 'natural',\n",
              " 'became',\n",
              " 'fasciitis',\n",
              " 'congestion',\n",
              " 'ldl',\n",
              " 'reading',\n",
              " 'got',\n",
              " 'sweats',\n",
              " 'tract',\n",
              " 'eczema',\n",
              " 'dizzy',\n",
              " 'itchy',\n",
              " 'colic',\n",
              " 'things',\n",
              " 'system',\n",
              " 'oedema',\n",
              " '6',\n",
              " 'achilles',\n",
              " 'taken',\n",
              " 'year',\n",
              " 'thought',\n",
              " 'stand',\n",
              " 'last',\n",
              " 'stop',\n",
              " 'see',\n",
              " 'osteoarthritis',\n",
              " 'inability',\n",
              " 'neurontin',\n",
              " 'having',\n",
              " 'hypertension',\n",
              " 'period',\n",
              " 'inflammation',\n",
              " 'pruritus',\n",
              " 'work',\n",
              " 'scalp',\n",
              " 'norvasc',\n",
              " 'sensations',\n",
              " 'menorrhagia',\n",
              " 'long',\n",
              " 'too',\n",
              " 'know',\n",
              " 'foggy',\n",
              " 'hurts',\n",
              " 'atorvastatin',\n",
              " 'hunger',\n",
              " 'put',\n",
              " 'began',\n",
              " 'cpk',\n",
              " 'your',\n",
              " 'flushing',\n",
              " 'prednisone',\n",
              " 'looks',\n",
              " 'erythematosus',\n",
              " 'within',\n",
              " 'creatinine',\n",
              " 'ear',\n",
              " 'hard',\n",
              " 'sense',\n",
              " 'ability',\n",
              " 'area',\n",
              " 'feels',\n",
              " 'use',\n",
              " 'good',\n",
              " 'lopid',\n",
              " 'few',\n",
              " 'nervous',\n",
              " 'irregular',\n",
              " 'same',\n",
              " 'without',\n",
              " 'normal',\n",
              " 'periods',\n",
              " 'frequent',\n",
              " 'stool',\n",
              " 'inflammatory',\n",
              " 'ms',\n",
              " 'asthma',\n",
              " 'another',\n",
              " 'spasmodic',\n",
              " 'find',\n",
              " 'anything',\n",
              " 'bell',\n",
              " 'weird',\n",
              " 'aptyalism',\n",
              " 'permanent',\n",
              " 'increase',\n",
              " 'tachycardia',\n",
              " 'hypersomnia',\n",
              " 'palsy',\n",
              " 'while',\n",
              " 'drugs',\n",
              " 'forgetful',\n",
              " 'abdomen',\n",
              " 'dose',\n",
              " 'said',\n",
              " 'stroke',\n",
              " 'overall',\n",
              " 'omega-3-acid',\n",
              " 'ethyl',\n",
              " 'esters-90',\n",
              " 'dysfunction',\n",
              " 'falling',\n",
              " 'sudden',\n",
              " 'climb',\n",
              " 'tablet',\n",
              " 'cause',\n",
              " 'change',\n",
              " 'eat',\n",
              " 'most',\n",
              " 'make',\n",
              " 'tension',\n",
              " 'thinking',\n",
              " 'rapid',\n",
              " 'respiratory',\n",
              " 'strain',\n",
              " 'bursitis',\n",
              " 'gait',\n",
              " 'region',\n",
              " 'bp',\n",
              " 'into',\n",
              " 'everything',\n",
              " 'tolerance',\n",
              " 'difficult',\n",
              " 'triglycerides',\n",
              " 'several',\n",
              " 'self',\n",
              " 'fast',\n",
              " 'lift',\n",
              " 'nightmares',\n",
              " 'bruising',\n",
              " 'ears',\n",
              " 'paralysis',\n",
              " 'lipex',\n",
              " 'co',\n",
              " 'able',\n",
              " 'people',\n",
              " 'diabetic',\n",
              " 'does',\n",
              " 'venous',\n",
              " 'inflamation',\n",
              " 'many',\n",
              " 'empty',\n",
              " 'limping',\n",
              " 'nt',\n",
              " 'codeine',\n",
              " 'forearm',\n",
              " 'rigidity',\n",
              " 'generally',\n",
              " 'unwell',\n",
              " 'gastric',\n",
              " 'sight',\n",
              " 'cortisone',\n",
              " 'between',\n",
              " 'heaviness',\n",
              " 'slight',\n",
              " 'something',\n",
              " 'zoloft',\n",
              " 'gone',\n",
              " 'reaction',\n",
              " 'until',\n",
              " 'help',\n",
              " 'haematuria',\n",
              " 'delusional',\n",
              " 'sexual',\n",
              " 'muscular',\n",
              " 'sides',\n",
              " 'retention',\n",
              " 'coronary',\n",
              " 'q10',\n",
              " 'diet',\n",
              " 'aphasia',\n",
              " 'diovan',\n",
              " 'omega',\n",
              " 'degenerative',\n",
              " 'stabbing',\n",
              " 'menopausal',\n",
              " 'effect',\n",
              " 'colitis',\n",
              " 'stopping',\n",
              " 'cycle',\n",
              " 'where',\n",
              " 'bone',\n",
              " 'try',\n",
              " 'ever',\n",
              " 'disc',\n",
              " 'lowered',\n",
              " 'spotting',\n",
              " 'issues',\n",
              " 'red',\n",
              " 'rupture',\n",
              " 'test',\n",
              " 'blurry',\n",
              " 'during',\n",
              " 'ached',\n",
              " 'really',\n",
              " 'caused',\n",
              " 'changes',\n",
              " 'food',\n",
              " 'three',\n",
              " 'random',\n",
              " 'site',\n",
              " 'sever',\n",
              " 'noticed',\n",
              " 'similar',\n",
              " 'erythema',\n",
              " 'she',\n",
              " 'how',\n",
              " 'arthritic',\n",
              " 'coated',\n",
              " 'carpal',\n",
              " 'found',\n",
              " 'hungry',\n",
              " 'came',\n",
              " 'tunnel',\n",
              " 'standing',\n",
              " 'suicidal',\n",
              " 'bloated',\n",
              " 'through',\n",
              " 'edema',\n",
              " 'agitated',\n",
              " 'once',\n",
              " 'starting',\n",
              " 'his',\n",
              " 'bladder',\n",
              " 'big',\n",
              " 'slightly',\n",
              " 'developed',\n",
              " 'especially',\n",
              " 'rectal',\n",
              " 'tests',\n",
              " 'great',\n",
              " 'sun',\n",
              " 'old',\n",
              " 'paranoia',\n",
              " 'decrease',\n",
              " 'chill',\n",
              " 'neuralgia',\n",
              " 'endometriosis',\n",
              " 'sweat',\n",
              " 'fine',\n",
              " 'experiencing',\n",
              " 'irritability',\n",
              " 'may',\n",
              " 'twitches',\n",
              " 'syncope',\n",
              " '%',\n",
              " 'bronchitis',\n",
              " 'spine',\n",
              " 'however',\n",
              " 'muscels',\n",
              " 'them',\n",
              " 'want',\n",
              " 'myself',\n",
              " 'eyesight',\n",
              " 'testosterone',\n",
              " 'quit',\n",
              " 'doctors',\n",
              " 'circulation',\n",
              " 'transient',\n",
              " 'crying',\n",
              " 'pill',\n",
              " 'allergic',\n",
              " 'less',\n",
              " 'prescribed',\n",
              " 'tongue',\n",
              " 'hurting',\n",
              " 'sensitivity',\n",
              " 'infections',\n",
              " 'stools',\n",
              " 'unbearable',\n",
              " 'their',\n",
              " 'thoracic',\n",
              " 'causing',\n",
              " 'though',\n",
              " 'constantly',\n",
              " 'dehydration',\n",
              " 'way',\n",
              " 'run',\n",
              " 'lipidil',\n",
              " '8',\n",
              " 'enough',\n",
              " 'interest',\n",
              " 'made',\n",
              " 'physical',\n",
              " 'anger',\n",
              " 'fear',\n",
              " \"'\",\n",
              " 'headed',\n",
              " 'moodiness',\n",
              " 'occasional',\n",
              " 'film',\n",
              " 'intolerance',\n",
              " '-pelvis',\n",
              " 'debilitating',\n",
              " 'serious',\n",
              " 'words',\n",
              " 'menstruation',\n",
              " 'limp',\n",
              " 'clumsiness',\n",
              " 'disorientated',\n",
              " 'chills',\n",
              " 'agony',\n",
              " 'wrists',\n",
              " 'unhappy',\n",
              " 'sure',\n",
              " 'sciatica',\n",
              " '50',\n",
              " 'hepatic',\n",
              " 'read',\n",
              " 'chair',\n",
              " 'lexapro',\n",
              " 'rate',\n",
              " 'uterus',\n",
              " 'drink',\n",
              " 'total',\n",
              " 'irritation',\n",
              " 'ani',\n",
              " 'ribs',\n",
              " 'intervertebral',\n",
              " 'related',\n",
              " 'eructation',\n",
              " 'musculoskeletal',\n",
              " 'alzheimer',\n",
              " 'yellow',\n",
              " 'minutes',\n",
              " 'personality',\n",
              " 'remember',\n",
              " 'done',\n",
              " 'condition',\n",
              " 'fatty',\n",
              " 'muscel',\n",
              " 'breast',\n",
              " 'steatosis',\n",
              " 'next',\n",
              " 'cataflam',\n",
              " 'fatique',\n",
              " '--',\n",
              " 'need',\n",
              " 'tried',\n",
              " 'changed',\n",
              " 'rashes',\n",
              " 'potassium',\n",
              " 'sleeplessness',\n",
              " 'worth',\n",
              " 'desire',\n",
              " 'daily',\n",
              " 'pancreatitis',\n",
              " 'choking',\n",
              " 'rib',\n",
              " 'below',\n",
              " 'moderate',\n",
              " 'difficulties',\n",
              " 'recently',\n",
              " 'we',\n",
              " 'waking',\n",
              " 'misoprostol',\n",
              " 'sit',\n",
              " 'hdl',\n",
              " 'neoplasm',\n",
              " 'mobic',\n",
              " 'tender',\n",
              " 'aspirin',\n",
              " 'contusion',\n",
              " 'rhinitis',\n",
              " 'tenalgia',\n",
              " 'control',\n",
              " 'breasts',\n",
              " 'her',\n",
              " 'tingly',\n",
              " 'haemorrhage',\n",
              " 'throbbing',\n",
              " 'dysphonia',\n",
              " 'touch',\n",
              " 'haematochezia',\n",
              " 'immediately',\n",
              " 'wanted',\n",
              " 'whole',\n",
              " 'medicine',\n",
              " 'hours',\n",
              " 'morphine',\n",
              " 'wasting',\n",
              " 'lose',\n",
              " 'dropped',\n",
              " 'lowering',\n",
              " 'instead',\n",
              " 'far',\n",
              " 'bizarre',\n",
              " 'above',\n",
              " 'central',\n",
              " 'unsteady',\n",
              " 'alpha',\n",
              " 'persistent',\n",
              " 'tremors',\n",
              " 'movements',\n",
              " 'lumbar',\n",
              " 'results',\n",
              " 'altered',\n",
              " 'cognition',\n",
              " 'works',\n",
              " 'relief',\n",
              " 'forearms',\n",
              " '7',\n",
              " 'tocopherol',\n",
              " 'seems',\n",
              " 'hyperactive',\n",
              " 'limitation',\n",
              " 'although',\n",
              " 'drowsiness',\n",
              " 'b',\n",
              " 'non',\n",
              " 'colon',\n",
              " 'dementia',\n",
              " 'blisters',\n",
              " 'each',\n",
              " 'exhausted',\n",
              " 'recommend',\n",
              " 'creatine',\n",
              " 'him',\n",
              " 'slow',\n",
              " 'pravastatin',\n",
              " 'initial',\n",
              " 'later',\n",
              " 'anyone',\n",
              " 'alopecia',\n",
              " 'dizzyness',\n",
              " 'e',\n",
              " 'achy',\n",
              " 'hoarse',\n",
              " 'gastritis',\n",
              " 'losing',\n",
              " 'hope',\n",
              " 'its',\n",
              " 'others',\n",
              " 'easily',\n",
              " 'neoplastic',\n",
              " 'forgetfulness',\n",
              " 'website',\n",
              " 'entire',\n",
              " 'sleepy',\n",
              " 'headedness',\n",
              " 'migranes',\n",
              " 'believe',\n",
              " 'blades',\n",
              " '80',\n",
              " 'tore',\n",
              " 'digestive',\n",
              " 'trying',\n",
              " 'etc',\n",
              " 'half',\n",
              " 'cardiac',\n",
              " 'falls',\n",
              " 'doing',\n",
              " 'constipated',\n",
              " 'none',\n",
              " 'motor',\n",
              " 'dosage',\n",
              " 'blind',\n",
              " 'cognitive',\n",
              " 'why',\n",
              " 's',\n",
              " 'urinate',\n",
              " 'vagina',\n",
              " 'mass',\n",
              " 'working',\n",
              " 'vague',\n",
              " 'keep',\n",
              " 'white',\n",
              " 'post',\n",
              " 'nothing',\n",
              " 'vit',\n",
              " 'clots',\n",
              " 'traumatic',\n",
              " 'shaking',\n",
              " '11',\n",
              " 'affected',\n",
              " 'family',\n",
              " 'water',\n",
              " 'doc',\n",
              " 'decided',\n",
              " 'significant',\n",
              " 'infective',\n",
              " 'cystitis',\n",
              " 'tenderness',\n",
              " 'magnesium',\n",
              " 'range',\n",
              " 'torn',\n",
              " 'charlie',\n",
              " 'come',\n",
              " 'say',\n",
              " 'count',\n",
              " 'top',\n",
              " 'inflammed',\n",
              " '\"',\n",
              " 'buzzing',\n",
              " ...]"
            ]
          },
          "metadata": {
            "tags": []
          },
          "execution_count": 18
        }
      ]
    },
    {
      "cell_type": "code",
      "metadata": {
        "id": "yPWr03mls3VT",
        "outputId": "4e768731-de24-4bfd-c54b-2e760bb45144",
        "colab": {
          "base_uri": "https://localhost:8080/",
          "height": 17
        }
      },
      "source": [
        "model_path = path/'models'\n",
        "model_path.mkdir(exist_ok=True)\n",
        "url = 'http://files.fast.ai/models/wt103_v1/'\n",
        "download_url(f'{url}lstm_wt103.pth', model_path/'lstm_wt103.pth')\n",
        "download_url(f'{url}itos_wt103.pkl', model_path/'itos_wt103.pkl')"
      ],
      "execution_count": 19,
      "outputs": [
        {
          "output_type": "display_data",
          "data": {
            "text/html": [
              ""
            ],
            "text/plain": [
              "<IPython.core.display.HTML object>"
            ]
          },
          "metadata": {
            "tags": []
          }
        },
        {
          "output_type": "display_data",
          "data": {
            "text/html": [
              ""
            ],
            "text/plain": [
              "<IPython.core.display.HTML object>"
            ]
          },
          "metadata": {
            "tags": []
          }
        }
      ]
    },
    {
      "cell_type": "code",
      "metadata": {
        "id": "JRzvWg8RtGGr",
        "outputId": "aade526a-a53e-4677-9df2-e6ce7e0d94ab",
        "colab": {
          "base_uri": "https://localhost:8080/",
          "height": 34
        }
      },
      "source": [
        "learn = language_model_learner(data_lm, AWD_LSTM, drop_mult=0.5)"
      ],
      "execution_count": 20,
      "outputs": [
        {
          "output_type": "stream",
          "text": [
            "Downloading https://s3.amazonaws.com/fast-ai-modelzoo/wt103-fwd.tgz\n"
          ],
          "name": "stdout"
        },
        {
          "output_type": "display_data",
          "data": {
            "text/html": [
              ""
            ],
            "text/plain": [
              "<IPython.core.display.HTML object>"
            ]
          },
          "metadata": {
            "tags": []
          }
        }
      ]
    },
    {
      "cell_type": "code",
      "metadata": {
        "id": "xKK7GeBev7Xn",
        "outputId": "b5c41d3b-f886-40f8-bad0-3a09584c54e2",
        "colab": {
          "base_uri": "https://localhost:8080/",
          "height": 80
        }
      },
      "source": [
        "learn.fit_one_cycle(1, 1e-2)"
      ],
      "execution_count": 21,
      "outputs": [
        {
          "output_type": "display_data",
          "data": {
            "text/html": [
              "<table border=\"1\" class=\"dataframe\">\n",
              "  <thead>\n",
              "    <tr style=\"text-align: left;\">\n",
              "      <th>epoch</th>\n",
              "      <th>train_loss</th>\n",
              "      <th>valid_loss</th>\n",
              "      <th>accuracy</th>\n",
              "      <th>time</th>\n",
              "    </tr>\n",
              "  </thead>\n",
              "  <tbody>\n",
              "    <tr>\n",
              "      <td>0</td>\n",
              "      <td>3.214265</td>\n",
              "      <td>2.684796</td>\n",
              "      <td>0.546136</td>\n",
              "      <td>18:28</td>\n",
              "    </tr>\n",
              "  </tbody>\n",
              "</table>"
            ],
            "text/plain": [
              "<IPython.core.display.HTML object>"
            ]
          },
          "metadata": {
            "tags": []
          }
        }
      ]
    },
    {
      "cell_type": "code",
      "metadata": {
        "id": "iB7rHGQCwd12"
      },
      "source": [
        "# learn.fit_one_cycle(1, 1e-2)"
      ],
      "execution_count": 22,
      "outputs": []
    },
    {
      "cell_type": "code",
      "metadata": {
        "id": "_BnSuAeCwkBe"
      },
      "source": [
        "# learn.fit_one_cycle(1, 1e-3)"
      ],
      "execution_count": 23,
      "outputs": []
    },
    {
      "cell_type": "code",
      "metadata": {
        "id": "MuTm-RFjwrEX",
        "outputId": "6cb5aec4-901d-4468-95da-aa2792803574",
        "colab": {
          "base_uri": "https://localhost:8080/",
          "height": 80
        }
      },
      "source": [
        "learn.fit_one_cycle(1, 1e-3)"
      ],
      "execution_count": 24,
      "outputs": [
        {
          "output_type": "display_data",
          "data": {
            "text/html": [
              "<table border=\"1\" class=\"dataframe\">\n",
              "  <thead>\n",
              "    <tr style=\"text-align: left;\">\n",
              "      <th>epoch</th>\n",
              "      <th>train_loss</th>\n",
              "      <th>valid_loss</th>\n",
              "      <th>accuracy</th>\n",
              "      <th>time</th>\n",
              "    </tr>\n",
              "  </thead>\n",
              "  <tbody>\n",
              "    <tr>\n",
              "      <td>0</td>\n",
              "      <td>2.790300</td>\n",
              "      <td>2.634629</td>\n",
              "      <td>0.551807</td>\n",
              "      <td>18:36</td>\n",
              "    </tr>\n",
              "  </tbody>\n",
              "</table>"
            ],
            "text/plain": [
              "<IPython.core.display.HTML object>"
            ]
          },
          "metadata": {
            "tags": []
          }
        }
      ]
    },
    {
      "cell_type": "code",
      "metadata": {
        "id": "1Er2ExO8wr7Y"
      },
      "source": [
        "learn.save_encoder('cadec_ask_fold4_first')"
      ],
      "execution_count": 25,
      "outputs": []
    },
    {
      "cell_type": "code",
      "metadata": {
        "id": "z52cZs2qwvad",
        "outputId": "23912510-a021-4987-a3b2-c6b0f83c0288",
        "colab": {
          "base_uri": "https://localhost:8080/",
          "height": 80
        }
      },
      "source": [
        "learn = text_classifier_learner(data_clas,AWD_LSTM, drop_mult=0.5)\n",
        "learn.load_encoder('cadec_ask_fold4_first')\n",
        "learn.fit_one_cycle(1, 1e-2)"
      ],
      "execution_count": 26,
      "outputs": [
        {
          "output_type": "display_data",
          "data": {
            "text/html": [
              "<table border=\"1\" class=\"dataframe\">\n",
              "  <thead>\n",
              "    <tr style=\"text-align: left;\">\n",
              "      <th>epoch</th>\n",
              "      <th>train_loss</th>\n",
              "      <th>valid_loss</th>\n",
              "      <th>accuracy</th>\n",
              "      <th>time</th>\n",
              "    </tr>\n",
              "  </thead>\n",
              "  <tbody>\n",
              "    <tr>\n",
              "      <td>0</td>\n",
              "      <td>3.960866</td>\n",
              "      <td>3.535005</td>\n",
              "      <td>0.364734</td>\n",
              "      <td>01:11</td>\n",
              "    </tr>\n",
              "  </tbody>\n",
              "</table>"
            ],
            "text/plain": [
              "<IPython.core.display.HTML object>"
            ]
          },
          "metadata": {
            "tags": []
          }
        }
      ]
    },
    {
      "cell_type": "code",
      "metadata": {
        "id": "ImwQP1PJwzxd",
        "outputId": "2f8086c2-20c1-480e-e3f0-6f3aefdd9534",
        "colab": {
          "base_uri": "https://localhost:8080/",
          "height": 80
        }
      },
      "source": [
        "learn.freeze_to(-2)\n",
        "learn.fit_one_cycle(1, slice(5e-3/2., 5e-3))"
      ],
      "execution_count": 27,
      "outputs": [
        {
          "output_type": "display_data",
          "data": {
            "text/html": [
              "<table border=\"1\" class=\"dataframe\">\n",
              "  <thead>\n",
              "    <tr style=\"text-align: left;\">\n",
              "      <th>epoch</th>\n",
              "      <th>train_loss</th>\n",
              "      <th>valid_loss</th>\n",
              "      <th>accuracy</th>\n",
              "      <th>time</th>\n",
              "    </tr>\n",
              "  </thead>\n",
              "  <tbody>\n",
              "    <tr>\n",
              "      <td>0</td>\n",
              "      <td>2.839100</td>\n",
              "      <td>2.822502</td>\n",
              "      <td>0.502415</td>\n",
              "      <td>01:20</td>\n",
              "    </tr>\n",
              "  </tbody>\n",
              "</table>"
            ],
            "text/plain": [
              "<IPython.core.display.HTML object>"
            ]
          },
          "metadata": {
            "tags": []
          }
        }
      ]
    },
    {
      "cell_type": "code",
      "metadata": {
        "id": "Owff_BJXw53u",
        "outputId": "9d6fc187-5f79-491f-e86f-6d1cca756126",
        "colab": {
          "base_uri": "https://localhost:8080/",
          "height": 80
        }
      },
      "source": [
        "learn.unfreeze()\n",
        "learn.fit_one_cycle(1, slice(2e-3/100, 2e-3))"
      ],
      "execution_count": 28,
      "outputs": [
        {
          "output_type": "display_data",
          "data": {
            "text/html": [
              "<table border=\"1\" class=\"dataframe\">\n",
              "  <thead>\n",
              "    <tr style=\"text-align: left;\">\n",
              "      <th>epoch</th>\n",
              "      <th>train_loss</th>\n",
              "      <th>valid_loss</th>\n",
              "      <th>accuracy</th>\n",
              "      <th>time</th>\n",
              "    </tr>\n",
              "  </thead>\n",
              "  <tbody>\n",
              "    <tr>\n",
              "      <td>0</td>\n",
              "      <td>2.390575</td>\n",
              "      <td>2.378590</td>\n",
              "      <td>0.583333</td>\n",
              "      <td>03:34</td>\n",
              "    </tr>\n",
              "  </tbody>\n",
              "</table>"
            ],
            "text/plain": [
              "<IPython.core.display.HTML object>"
            ]
          },
          "metadata": {
            "tags": []
          }
        }
      ]
    },
    {
      "cell_type": "code",
      "metadata": {
        "id": "lqAyu56V8Waq",
        "outputId": "45132cb6-b6cd-4d00-ec68-ba05c243d870",
        "colab": {
          "base_uri": "https://localhost:8080/",
          "height": 111
        }
      },
      "source": [
        "learn.fit_one_cycle(2, slice(2e-3/100, 2e-3))"
      ],
      "execution_count": 29,
      "outputs": [
        {
          "output_type": "display_data",
          "data": {
            "text/html": [
              "<table border=\"1\" class=\"dataframe\">\n",
              "  <thead>\n",
              "    <tr style=\"text-align: left;\">\n",
              "      <th>epoch</th>\n",
              "      <th>train_loss</th>\n",
              "      <th>valid_loss</th>\n",
              "      <th>accuracy</th>\n",
              "      <th>time</th>\n",
              "    </tr>\n",
              "  </thead>\n",
              "  <tbody>\n",
              "    <tr>\n",
              "      <td>0</td>\n",
              "      <td>2.032043</td>\n",
              "      <td>2.088089</td>\n",
              "      <td>0.634058</td>\n",
              "      <td>03:12</td>\n",
              "    </tr>\n",
              "    <tr>\n",
              "      <td>1</td>\n",
              "      <td>1.704927</td>\n",
              "      <td>1.967600</td>\n",
              "      <td>0.642512</td>\n",
              "      <td>03:18</td>\n",
              "    </tr>\n",
              "  </tbody>\n",
              "</table>"
            ],
            "text/plain": [
              "<IPython.core.display.HTML object>"
            ]
          },
          "metadata": {
            "tags": []
          }
        }
      ]
    },
    {
      "cell_type": "code",
      "metadata": {
        "id": "a7I1xMRp8bUd",
        "outputId": "6cc14317-d15c-4e44-8a3f-922dda04b4bc",
        "colab": {
          "base_uri": "https://localhost:8080/",
          "height": 111
        }
      },
      "source": [
        "learn.fit_one_cycle(2, slice(2e-3/100, 2e-3))"
      ],
      "execution_count": 30,
      "outputs": [
        {
          "output_type": "display_data",
          "data": {
            "text/html": [
              "<table border=\"1\" class=\"dataframe\">\n",
              "  <thead>\n",
              "    <tr style=\"text-align: left;\">\n",
              "      <th>epoch</th>\n",
              "      <th>train_loss</th>\n",
              "      <th>valid_loss</th>\n",
              "      <th>accuracy</th>\n",
              "      <th>time</th>\n",
              "    </tr>\n",
              "  </thead>\n",
              "  <tbody>\n",
              "    <tr>\n",
              "      <td>0</td>\n",
              "      <td>1.552857</td>\n",
              "      <td>1.781871</td>\n",
              "      <td>0.678744</td>\n",
              "      <td>03:23</td>\n",
              "    </tr>\n",
              "    <tr>\n",
              "      <td>1</td>\n",
              "      <td>1.326523</td>\n",
              "      <td>1.676098</td>\n",
              "      <td>0.699275</td>\n",
              "      <td>03:17</td>\n",
              "    </tr>\n",
              "  </tbody>\n",
              "</table>"
            ],
            "text/plain": [
              "<IPython.core.display.HTML object>"
            ]
          },
          "metadata": {
            "tags": []
          }
        }
      ]
    },
    {
      "cell_type": "code",
      "metadata": {
        "id": "UAnti-XmGVfO",
        "outputId": "6218e920-466f-472e-afc8-fe8405e35405",
        "colab": {
          "base_uri": "https://localhost:8080/",
          "height": 111
        }
      },
      "source": [
        "learn.fit_one_cycle(2, slice(2e-3/100, 2e-3))"
      ],
      "execution_count": 31,
      "outputs": [
        {
          "output_type": "display_data",
          "data": {
            "text/html": [
              "<table border=\"1\" class=\"dataframe\">\n",
              "  <thead>\n",
              "    <tr style=\"text-align: left;\">\n",
              "      <th>epoch</th>\n",
              "      <th>train_loss</th>\n",
              "      <th>valid_loss</th>\n",
              "      <th>accuracy</th>\n",
              "      <th>time</th>\n",
              "    </tr>\n",
              "  </thead>\n",
              "  <tbody>\n",
              "    <tr>\n",
              "      <td>0</td>\n",
              "      <td>1.269224</td>\n",
              "      <td>1.549679</td>\n",
              "      <td>0.721014</td>\n",
              "      <td>03:30</td>\n",
              "    </tr>\n",
              "    <tr>\n",
              "      <td>1</td>\n",
              "      <td>1.068344</td>\n",
              "      <td>1.499024</td>\n",
              "      <td>0.733092</td>\n",
              "      <td>03:37</td>\n",
              "    </tr>\n",
              "  </tbody>\n",
              "</table>"
            ],
            "text/plain": [
              "<IPython.core.display.HTML object>"
            ]
          },
          "metadata": {
            "tags": []
          }
        }
      ]
    },
    {
      "cell_type": "code",
      "metadata": {
        "id": "bIft7W25GwSu",
        "outputId": "165d6a05-9ae7-45a2-8031-6082a63d00a6",
        "colab": {
          "base_uri": "https://localhost:8080/",
          "height": 111
        }
      },
      "source": [
        "learn.fit_one_cycle(2, slice(2e-3/100, 2e-3))"
      ],
      "execution_count": 32,
      "outputs": [
        {
          "output_type": "display_data",
          "data": {
            "text/html": [
              "<table border=\"1\" class=\"dataframe\">\n",
              "  <thead>\n",
              "    <tr style=\"text-align: left;\">\n",
              "      <th>epoch</th>\n",
              "      <th>train_loss</th>\n",
              "      <th>valid_loss</th>\n",
              "      <th>accuracy</th>\n",
              "      <th>time</th>\n",
              "    </tr>\n",
              "  </thead>\n",
              "  <tbody>\n",
              "    <tr>\n",
              "      <td>0</td>\n",
              "      <td>1.055958</td>\n",
              "      <td>1.422552</td>\n",
              "      <td>0.739130</td>\n",
              "      <td>03:35</td>\n",
              "    </tr>\n",
              "    <tr>\n",
              "      <td>1</td>\n",
              "      <td>0.877657</td>\n",
              "      <td>1.373379</td>\n",
              "      <td>0.742754</td>\n",
              "      <td>03:26</td>\n",
              "    </tr>\n",
              "  </tbody>\n",
              "</table>"
            ],
            "text/plain": [
              "<IPython.core.display.HTML object>"
            ]
          },
          "metadata": {
            "tags": []
          }
        }
      ]
    },
    {
      "cell_type": "code",
      "metadata": {
        "id": "EEHszVRvGyFt",
        "outputId": "1c138e63-c380-4672-d5cc-8346c2243fb0",
        "colab": {
          "base_uri": "https://localhost:8080/",
          "height": 111
        }
      },
      "source": [
        "learn.fit_one_cycle(2, slice(2e-3/100, 2e-3))"
      ],
      "execution_count": 33,
      "outputs": [
        {
          "output_type": "display_data",
          "data": {
            "text/html": [
              "<table border=\"1\" class=\"dataframe\">\n",
              "  <thead>\n",
              "    <tr style=\"text-align: left;\">\n",
              "      <th>epoch</th>\n",
              "      <th>train_loss</th>\n",
              "      <th>valid_loss</th>\n",
              "      <th>accuracy</th>\n",
              "      <th>time</th>\n",
              "    </tr>\n",
              "  </thead>\n",
              "  <tbody>\n",
              "    <tr>\n",
              "      <td>0</td>\n",
              "      <td>0.820105</td>\n",
              "      <td>1.330679</td>\n",
              "      <td>0.754831</td>\n",
              "      <td>03:26</td>\n",
              "    </tr>\n",
              "    <tr>\n",
              "      <td>1</td>\n",
              "      <td>0.761127</td>\n",
              "      <td>1.294683</td>\n",
              "      <td>0.769324</td>\n",
              "      <td>03:27</td>\n",
              "    </tr>\n",
              "  </tbody>\n",
              "</table>"
            ],
            "text/plain": [
              "<IPython.core.display.HTML object>"
            ]
          },
          "metadata": {
            "tags": []
          }
        }
      ]
    },
    {
      "cell_type": "code",
      "metadata": {
        "id": "XsHfrhCHG3dN",
        "outputId": "307888bd-b004-48d8-8730-89e448b578a5",
        "colab": {
          "base_uri": "https://localhost:8080/",
          "height": 173
        }
      },
      "source": [
        "learn.fit_one_cycle(4, slice(2e-3/100, 2e-3))"
      ],
      "execution_count": 34,
      "outputs": [
        {
          "output_type": "display_data",
          "data": {
            "text/html": [
              "<table border=\"1\" class=\"dataframe\">\n",
              "  <thead>\n",
              "    <tr style=\"text-align: left;\">\n",
              "      <th>epoch</th>\n",
              "      <th>train_loss</th>\n",
              "      <th>valid_loss</th>\n",
              "      <th>accuracy</th>\n",
              "      <th>time</th>\n",
              "    </tr>\n",
              "  </thead>\n",
              "  <tbody>\n",
              "    <tr>\n",
              "      <td>0</td>\n",
              "      <td>0.671212</td>\n",
              "      <td>1.272330</td>\n",
              "      <td>0.766908</td>\n",
              "      <td>03:22</td>\n",
              "    </tr>\n",
              "    <tr>\n",
              "      <td>1</td>\n",
              "      <td>0.683054</td>\n",
              "      <td>1.255298</td>\n",
              "      <td>0.771739</td>\n",
              "      <td>03:09</td>\n",
              "    </tr>\n",
              "    <tr>\n",
              "      <td>2</td>\n",
              "      <td>0.574152</td>\n",
              "      <td>1.185923</td>\n",
              "      <td>0.791063</td>\n",
              "      <td>03:16</td>\n",
              "    </tr>\n",
              "    <tr>\n",
              "      <td>3</td>\n",
              "      <td>0.511572</td>\n",
              "      <td>1.173516</td>\n",
              "      <td>0.789855</td>\n",
              "      <td>03:25</td>\n",
              "    </tr>\n",
              "  </tbody>\n",
              "</table>"
            ],
            "text/plain": [
              "<IPython.core.display.HTML object>"
            ]
          },
          "metadata": {
            "tags": []
          }
        }
      ]
    },
    {
      "cell_type": "code",
      "metadata": {
        "id": "0Zsd99isb9EQ",
        "outputId": "8eb195c0-ca22-4114-e90b-60c5b8ac8b94",
        "colab": {
          "base_uri": "https://localhost:8080/",
          "height": 173
        }
      },
      "source": [
        "learn.fit_one_cycle(4, slice(2e-3/100, 2e-3))"
      ],
      "execution_count": 35,
      "outputs": [
        {
          "output_type": "display_data",
          "data": {
            "text/html": [
              "<table border=\"1\" class=\"dataframe\">\n",
              "  <thead>\n",
              "    <tr style=\"text-align: left;\">\n",
              "      <th>epoch</th>\n",
              "      <th>train_loss</th>\n",
              "      <th>valid_loss</th>\n",
              "      <th>accuracy</th>\n",
              "      <th>time</th>\n",
              "    </tr>\n",
              "  </thead>\n",
              "  <tbody>\n",
              "    <tr>\n",
              "      <td>0</td>\n",
              "      <td>0.475634</td>\n",
              "      <td>1.228707</td>\n",
              "      <td>0.782609</td>\n",
              "      <td>03:25</td>\n",
              "    </tr>\n",
              "    <tr>\n",
              "      <td>1</td>\n",
              "      <td>0.509505</td>\n",
              "      <td>1.169981</td>\n",
              "      <td>0.783816</td>\n",
              "      <td>03:17</td>\n",
              "    </tr>\n",
              "    <tr>\n",
              "      <td>2</td>\n",
              "      <td>0.426664</td>\n",
              "      <td>1.232780</td>\n",
              "      <td>0.794686</td>\n",
              "      <td>03:12</td>\n",
              "    </tr>\n",
              "    <tr>\n",
              "      <td>3</td>\n",
              "      <td>0.372424</td>\n",
              "      <td>1.138012</td>\n",
              "      <td>0.799517</td>\n",
              "      <td>03:26</td>\n",
              "    </tr>\n",
              "  </tbody>\n",
              "</table>"
            ],
            "text/plain": [
              "<IPython.core.display.HTML object>"
            ]
          },
          "metadata": {
            "tags": []
          }
        }
      ]
    },
    {
      "cell_type": "code",
      "metadata": {
        "id": "atNWNKDFPbuI",
        "outputId": "66076ac1-71a0-4df3-e964-1ca8dc04d19f",
        "colab": {
          "base_uri": "https://localhost:8080/",
          "height": 173
        }
      },
      "source": [
        "learn.fit_one_cycle(4, slice(2e-3/100, 2e-3))"
      ],
      "execution_count": 36,
      "outputs": [
        {
          "output_type": "display_data",
          "data": {
            "text/html": [
              "<table border=\"1\" class=\"dataframe\">\n",
              "  <thead>\n",
              "    <tr style=\"text-align: left;\">\n",
              "      <th>epoch</th>\n",
              "      <th>train_loss</th>\n",
              "      <th>valid_loss</th>\n",
              "      <th>accuracy</th>\n",
              "      <th>time</th>\n",
              "    </tr>\n",
              "  </thead>\n",
              "  <tbody>\n",
              "    <tr>\n",
              "      <td>0</td>\n",
              "      <td>0.369944</td>\n",
              "      <td>1.183464</td>\n",
              "      <td>0.804348</td>\n",
              "      <td>03:17</td>\n",
              "    </tr>\n",
              "    <tr>\n",
              "      <td>1</td>\n",
              "      <td>0.413191</td>\n",
              "      <td>1.188487</td>\n",
              "      <td>0.794686</td>\n",
              "      <td>03:22</td>\n",
              "    </tr>\n",
              "    <tr>\n",
              "      <td>2</td>\n",
              "      <td>0.370129</td>\n",
              "      <td>1.181999</td>\n",
              "      <td>0.811594</td>\n",
              "      <td>03:24</td>\n",
              "    </tr>\n",
              "    <tr>\n",
              "      <td>3</td>\n",
              "      <td>0.301325</td>\n",
              "      <td>1.105579</td>\n",
              "      <td>0.816425</td>\n",
              "      <td>03:06</td>\n",
              "    </tr>\n",
              "  </tbody>\n",
              "</table>"
            ],
            "text/plain": [
              "<IPython.core.display.HTML object>"
            ]
          },
          "metadata": {
            "tags": []
          }
        }
      ]
    },
    {
      "cell_type": "code",
      "metadata": {
        "id": "rKrBTZ0T1uVA",
        "outputId": "2e047b78-173b-444e-a9f6-dbe40db296bc",
        "colab": {
          "base_uri": "https://localhost:8080/",
          "height": 173
        }
      },
      "source": [
        "learn.fit_one_cycle(4, slice(2e-3/100, 2e-3))"
      ],
      "execution_count": 37,
      "outputs": [
        {
          "output_type": "display_data",
          "data": {
            "text/html": [
              "<table border=\"1\" class=\"dataframe\">\n",
              "  <thead>\n",
              "    <tr style=\"text-align: left;\">\n",
              "      <th>epoch</th>\n",
              "      <th>train_loss</th>\n",
              "      <th>valid_loss</th>\n",
              "      <th>accuracy</th>\n",
              "      <th>time</th>\n",
              "    </tr>\n",
              "  </thead>\n",
              "  <tbody>\n",
              "    <tr>\n",
              "      <td>0</td>\n",
              "      <td>0.310530</td>\n",
              "      <td>1.207618</td>\n",
              "      <td>0.807971</td>\n",
              "      <td>03:18</td>\n",
              "    </tr>\n",
              "    <tr>\n",
              "      <td>1</td>\n",
              "      <td>0.343754</td>\n",
              "      <td>1.111421</td>\n",
              "      <td>0.814010</td>\n",
              "      <td>03:08</td>\n",
              "    </tr>\n",
              "    <tr>\n",
              "      <td>2</td>\n",
              "      <td>0.301910</td>\n",
              "      <td>1.163076</td>\n",
              "      <td>0.815217</td>\n",
              "      <td>03:17</td>\n",
              "    </tr>\n",
              "    <tr>\n",
              "      <td>3</td>\n",
              "      <td>0.258208</td>\n",
              "      <td>1.191943</td>\n",
              "      <td>0.820048</td>\n",
              "      <td>03:14</td>\n",
              "    </tr>\n",
              "  </tbody>\n",
              "</table>"
            ],
            "text/plain": [
              "<IPython.core.display.HTML object>"
            ]
          },
          "metadata": {
            "tags": []
          }
        }
      ]
    },
    {
      "cell_type": "code",
      "metadata": {
        "id": "ajQC6WDg1yA9",
        "outputId": "a26b6806-76a9-45c1-f7a1-f5018552189a",
        "colab": {
          "base_uri": "https://localhost:8080/",
          "height": 173
        }
      },
      "source": [
        "learn.fit_one_cycle(4, slice(2e-3/100, 2e-3))"
      ],
      "execution_count": 38,
      "outputs": [
        {
          "output_type": "display_data",
          "data": {
            "text/html": [
              "<table border=\"1\" class=\"dataframe\">\n",
              "  <thead>\n",
              "    <tr style=\"text-align: left;\">\n",
              "      <th>epoch</th>\n",
              "      <th>train_loss</th>\n",
              "      <th>valid_loss</th>\n",
              "      <th>accuracy</th>\n",
              "      <th>time</th>\n",
              "    </tr>\n",
              "  </thead>\n",
              "  <tbody>\n",
              "    <tr>\n",
              "      <td>0</td>\n",
              "      <td>0.249036</td>\n",
              "      <td>1.210341</td>\n",
              "      <td>0.815217</td>\n",
              "      <td>03:06</td>\n",
              "    </tr>\n",
              "    <tr>\n",
              "      <td>1</td>\n",
              "      <td>0.328889</td>\n",
              "      <td>1.167747</td>\n",
              "      <td>0.821256</td>\n",
              "      <td>03:22</td>\n",
              "    </tr>\n",
              "    <tr>\n",
              "      <td>2</td>\n",
              "      <td>0.241159</td>\n",
              "      <td>1.137225</td>\n",
              "      <td>0.834541</td>\n",
              "      <td>03:21</td>\n",
              "    </tr>\n",
              "    <tr>\n",
              "      <td>3</td>\n",
              "      <td>0.215596</td>\n",
              "      <td>1.166570</td>\n",
              "      <td>0.832126</td>\n",
              "      <td>03:24</td>\n",
              "    </tr>\n",
              "  </tbody>\n",
              "</table>"
            ],
            "text/plain": [
              "<IPython.core.display.HTML object>"
            ]
          },
          "metadata": {
            "tags": []
          }
        }
      ]
    },
    {
      "cell_type": "code",
      "metadata": {
        "id": "KKydb0B4BKGk",
        "outputId": "9cd61b96-7148-493f-916e-9e1e3634e42b",
        "colab": {
          "base_uri": "https://localhost:8080/",
          "height": 173
        }
      },
      "source": [
        "learn.fit_one_cycle(4, slice(2e-3/100, 2e-3))"
      ],
      "execution_count": 39,
      "outputs": [
        {
          "output_type": "display_data",
          "data": {
            "text/html": [
              "<table border=\"1\" class=\"dataframe\">\n",
              "  <thead>\n",
              "    <tr style=\"text-align: left;\">\n",
              "      <th>epoch</th>\n",
              "      <th>train_loss</th>\n",
              "      <th>valid_loss</th>\n",
              "      <th>accuracy</th>\n",
              "      <th>time</th>\n",
              "    </tr>\n",
              "  </thead>\n",
              "  <tbody>\n",
              "    <tr>\n",
              "      <td>0</td>\n",
              "      <td>0.242175</td>\n",
              "      <td>1.224948</td>\n",
              "      <td>0.822464</td>\n",
              "      <td>03:18</td>\n",
              "    </tr>\n",
              "    <tr>\n",
              "      <td>1</td>\n",
              "      <td>0.265685</td>\n",
              "      <td>1.259827</td>\n",
              "      <td>0.818841</td>\n",
              "      <td>03:09</td>\n",
              "    </tr>\n",
              "    <tr>\n",
              "      <td>2</td>\n",
              "      <td>0.245929</td>\n",
              "      <td>1.166201</td>\n",
              "      <td>0.828502</td>\n",
              "      <td>03:07</td>\n",
              "    </tr>\n",
              "    <tr>\n",
              "      <td>3</td>\n",
              "      <td>0.205621</td>\n",
              "      <td>1.194117</td>\n",
              "      <td>0.832126</td>\n",
              "      <td>03:24</td>\n",
              "    </tr>\n",
              "  </tbody>\n",
              "</table>"
            ],
            "text/plain": [
              "<IPython.core.display.HTML object>"
            ]
          },
          "metadata": {
            "tags": []
          }
        }
      ]
    },
    {
      "cell_type": "code",
      "metadata": {
        "id": "T2APKtFKBpGY",
        "outputId": "88022f91-a41a-4c5a-821a-ead3933668d2",
        "colab": {
          "base_uri": "https://localhost:8080/",
          "height": 173
        }
      },
      "source": [
        "learn.fit_one_cycle(4, slice(2e-3/100, 2e-3))"
      ],
      "execution_count": 40,
      "outputs": [
        {
          "output_type": "display_data",
          "data": {
            "text/html": [
              "<table border=\"1\" class=\"dataframe\">\n",
              "  <thead>\n",
              "    <tr style=\"text-align: left;\">\n",
              "      <th>epoch</th>\n",
              "      <th>train_loss</th>\n",
              "      <th>valid_loss</th>\n",
              "      <th>accuracy</th>\n",
              "      <th>time</th>\n",
              "    </tr>\n",
              "  </thead>\n",
              "  <tbody>\n",
              "    <tr>\n",
              "      <td>0</td>\n",
              "      <td>0.211625</td>\n",
              "      <td>1.218405</td>\n",
              "      <td>0.818841</td>\n",
              "      <td>03:04</td>\n",
              "    </tr>\n",
              "    <tr>\n",
              "      <td>1</td>\n",
              "      <td>0.274133</td>\n",
              "      <td>1.274535</td>\n",
              "      <td>0.822464</td>\n",
              "      <td>03:26</td>\n",
              "    </tr>\n",
              "    <tr>\n",
              "      <td>2</td>\n",
              "      <td>0.218022</td>\n",
              "      <td>1.226477</td>\n",
              "      <td>0.832126</td>\n",
              "      <td>03:17</td>\n",
              "    </tr>\n",
              "    <tr>\n",
              "      <td>3</td>\n",
              "      <td>0.178583</td>\n",
              "      <td>1.213690</td>\n",
              "      <td>0.830918</td>\n",
              "      <td>03:16</td>\n",
              "    </tr>\n",
              "  </tbody>\n",
              "</table>"
            ],
            "text/plain": [
              "<IPython.core.display.HTML object>"
            ]
          },
          "metadata": {
            "tags": []
          }
        }
      ]
    },
    {
      "cell_type": "code",
      "metadata": {
        "id": "qtTypA1sPgLU",
        "outputId": "9e1c14af-7c18-4688-dfbe-06fb1f557403",
        "colab": {
          "base_uri": "https://localhost:8080/",
          "height": 111
        }
      },
      "source": [
        "learn.fit_one_cycle(2, slice(2e-3/100, 2e-3))"
      ],
      "execution_count": 41,
      "outputs": [
        {
          "output_type": "display_data",
          "data": {
            "text/html": [
              "<table border=\"1\" class=\"dataframe\">\n",
              "  <thead>\n",
              "    <tr style=\"text-align: left;\">\n",
              "      <th>epoch</th>\n",
              "      <th>train_loss</th>\n",
              "      <th>valid_loss</th>\n",
              "      <th>accuracy</th>\n",
              "      <th>time</th>\n",
              "    </tr>\n",
              "  </thead>\n",
              "  <tbody>\n",
              "    <tr>\n",
              "      <td>0</td>\n",
              "      <td>0.212975</td>\n",
              "      <td>1.331282</td>\n",
              "      <td>0.823672</td>\n",
              "      <td>03:19</td>\n",
              "    </tr>\n",
              "    <tr>\n",
              "      <td>1</td>\n",
              "      <td>0.181058</td>\n",
              "      <td>1.209467</td>\n",
              "      <td>0.829710</td>\n",
              "      <td>03:16</td>\n",
              "    </tr>\n",
              "  </tbody>\n",
              "</table>"
            ],
            "text/plain": [
              "<IPython.core.display.HTML object>"
            ]
          },
          "metadata": {
            "tags": []
          }
        }
      ]
    },
    {
      "cell_type": "code",
      "metadata": {
        "id": "b242kBsTUp9Y",
        "outputId": "e0bf4c06-0728-4c93-eeb2-56f57d749c74",
        "colab": {
          "base_uri": "https://localhost:8080/",
          "height": 111
        }
      },
      "source": [
        "learn.fit_one_cycle(2, slice(2e-3/100, 2e-3))"
      ],
      "execution_count": 42,
      "outputs": [
        {
          "output_type": "display_data",
          "data": {
            "text/html": [
              "<table border=\"1\" class=\"dataframe\">\n",
              "  <thead>\n",
              "    <tr style=\"text-align: left;\">\n",
              "      <th>epoch</th>\n",
              "      <th>train_loss</th>\n",
              "      <th>valid_loss</th>\n",
              "      <th>accuracy</th>\n",
              "      <th>time</th>\n",
              "    </tr>\n",
              "  </thead>\n",
              "  <tbody>\n",
              "    <tr>\n",
              "      <td>0</td>\n",
              "      <td>0.201434</td>\n",
              "      <td>1.312363</td>\n",
              "      <td>0.818841</td>\n",
              "      <td>03:24</td>\n",
              "    </tr>\n",
              "    <tr>\n",
              "      <td>1</td>\n",
              "      <td>0.176533</td>\n",
              "      <td>1.290628</td>\n",
              "      <td>0.827295</td>\n",
              "      <td>03:12</td>\n",
              "    </tr>\n",
              "  </tbody>\n",
              "</table>"
            ],
            "text/plain": [
              "<IPython.core.display.HTML object>"
            ]
          },
          "metadata": {
            "tags": []
          }
        }
      ]
    },
    {
      "cell_type": "code",
      "metadata": {
        "id": "Duwf1Ih5VeDZ",
        "outputId": "8bcef548-4861-4c5f-dbda-fa3fdac2707f",
        "colab": {
          "base_uri": "https://localhost:8080/",
          "height": 80
        }
      },
      "source": [
        "learn.fit_one_cycle(1, slice(2e-3/100, 2e-3))"
      ],
      "execution_count": 43,
      "outputs": [
        {
          "output_type": "display_data",
          "data": {
            "text/html": [
              "<table border=\"1\" class=\"dataframe\">\n",
              "  <thead>\n",
              "    <tr style=\"text-align: left;\">\n",
              "      <th>epoch</th>\n",
              "      <th>train_loss</th>\n",
              "      <th>valid_loss</th>\n",
              "      <th>accuracy</th>\n",
              "      <th>time</th>\n",
              "    </tr>\n",
              "  </thead>\n",
              "  <tbody>\n",
              "    <tr>\n",
              "      <td>0</td>\n",
              "      <td>0.191565</td>\n",
              "      <td>1.321366</td>\n",
              "      <td>0.821256</td>\n",
              "      <td>03:26</td>\n",
              "    </tr>\n",
              "  </tbody>\n",
              "</table>"
            ],
            "text/plain": [
              "<IPython.core.display.HTML object>"
            ]
          },
          "metadata": {
            "tags": []
          }
        }
      ]
    },
    {
      "cell_type": "code",
      "metadata": {
        "id": "c65d-osfDUXm"
      },
      "source": [
        "# save the best model\n",
        "\n",
        "learn.save_encoder('cadec_ask_mixed_fold4')"
      ],
      "execution_count": 44,
      "outputs": []
    },
    {
      "cell_type": "markdown",
      "metadata": {
        "id": "rCwZU0E2RgM6"
      },
      "source": [
        "# Part three: Predict on the test dataset"
      ]
    },
    {
      "cell_type": "code",
      "metadata": {
        "id": "gDm72c-dOu7d",
        "outputId": "5334d8ff-d25f-4384-8945-7c527056c4cb",
        "colab": {
          "base_uri": "https://localhost:8080/",
          "height": 17
        }
      },
      "source": [
        "# use the test data for prediction\n",
        "\n",
        "preds, y = learn.get_preds(DatasetType.Test)"
      ],
      "execution_count": 45,
      "outputs": [
        {
          "output_type": "display_data",
          "data": {
            "text/html": [
              ""
            ],
            "text/plain": [
              "<IPython.core.display.HTML object>"
            ]
          },
          "metadata": {
            "tags": []
          }
        }
      ]
    },
    {
      "cell_type": "code",
      "metadata": {
        "id": "6tFSQcsWPvxn",
        "outputId": "1e1f35d3-45b4-4ade-b51f-2805dd15190a",
        "colab": {
          "base_uri": "https://localhost:8080/",
          "height": 105
        }
      },
      "source": [
        "predictions, *_ = learn.get_preds(DatasetType.Test)\n",
        "labels = np.argmax(predictions, 1)\n",
        "predict_list = labels.tolist()\n",
        "standard_list = test[0].tolist()\n",
        "\n",
        "print(len(predict_list))\n",
        "print(len(standard_list))\n",
        "\n",
        "print(predict_list)\n",
        "print(standard_list)"
      ],
      "execution_count": 46,
      "outputs": [
        {
          "output_type": "display_data",
          "data": {
            "text/html": [
              ""
            ],
            "text/plain": [
              "<IPython.core.display.HTML object>"
            ]
          },
          "metadata": {
            "tags": []
          }
        },
        {
          "output_type": "stream",
          "text": [
            "866\n",
            "866\n",
            "[670, 6, 8, 12, 16, 16, 27, 27, 27, 29, 414, 414, 414, 414, 414, 32, 37, 37, 37, 37, 37, 37, 37, 42, 48, 49, 49, 49, 49, 49, 100, 100, 100, 100, 100, 100, 100, 100, 100, 100, 100, 100, 474, 541, 474, 541, 226, 395, 61, 61, 62, 64, 76, 76, 76, 614, 289, 79, 94, 79, 79, 79, 79, 79, 79, 79, 79, 79, 79, 79, 79, 79, 79, 79, 79, 79, 79, 79, 79, 79, 79, 79, 80, 80, 80, 268, 91, 91, 92, 92, 92, 94, 94, 94, 94, 94, 94, 94, 94, 94, 94, 94, 94, 94, 905, 94, 94, 96, 96, 96, 100, 100, 100, 107, 108, 108, 243, 111, 111, 289, 111, 111, 111, 211, 113, 116, 179, 120, 122, 122, 125, 125, 125, 125, 125, 125, 125, 125, 125, 125, 125, 125, 125, 125, 125, 125, 125, 129, 131, 139, 140, 143, 886, 157, 736, 165, 178, 166, 166, 291, 172, 172, 172, 172, 172, 172, 172, 427, 165, 182, 182, 182, 182, 182, 182, 182, 623, 183, 183, 183, 183, 183, 183, 183, 183, 183, 183, 186, 187, 187, 188, 189, 189, 293, 190, 190, 190, 190, 190, 289, 289, 197, 197, 205, 206, 207, 208, 210, 214, 299, 214, 214, 214, 214, 471, 214, 214, 214, 214, 214, 634, 931, 135, 207, 220, 524, 226, 226, 227, 126, 228, 228, 228, 228, 228, 228, 228, 228, 228, 228, 228, 228, 289, 234, 234, 328, 328, 236, 236, 236, 57, 243, 229, 931, 243, 243, 93, 876, 245, 245, 245, 245, 764, 638, 638, 245, 485, 254, 265, 265, 265, 265, 265, 265, 265, 265, 702, 265, 265, 265, 265, 265, 265, 265, 265, 265, 265, 265, 265, 700, 86, 693, 271, 601, 276, 859, 859, 569, 451, 286, 600, 530, 289, 289, 139, 265, 289, 289, 289, 289, 289, 289, 726, 172, 289, 289, 289, 289, 289, 289, 289, 57, 300, 300, 775, 301, 185, 674, 265, 309, 309, 309, 309, 745, 318, 519, 321, 43, 323, 323, 325, 325, 325, 325, 325, 325, 325, 325, 325, 859, 962, 472, 325, 326, 326, 332, 332, 373, 336, 337, 100, 337, 482, 768, 260, 342, 129, 343, 343, 343, 129, 129, 623, 350, 722, 359, 359, 359, 285, 360, 362, 896, 600, 97, 368, 20, 140, 727, 438, 391, 391, 140, 396, 401, 358, 402, 402, 659, 559, 408, 408, 203, 418, 419, 419, 419, 419, 419, 420, 424, 426, 426, 426, 426, 427, 450, 427, 427, 427, 427, 427, 427, 427, 1002, 430, 430, 431, 434, 434, 435, 441, 258, 441, 441, 438, 455, 455, 455, 455, 459, 460, 462, 470, 182, 471, 173, 9, 201, 794, 475, 489, 491, 491, 541, 491, 491, 491, 491, 491, 491, 491, 491, 865, 491, 492, 43, 495, 674, 509, 514, 510, 932, 43, 517, 518, 517, 519, 673, 522, 905, 530, 530, 530, 530, 27, 536, 537, 978, 629, 541, 541, 545, 545, 546, 546, 546, 548, 548, 548, 408, 557, 559, 771, 163, 564, 604, 617, 775, 236, 728, 579, 579, 583, 31, 590, 590, 590, 592, 592, 97, 594, 427, 785, 597, 199, 604, 746, 610, 388, 426, 614, 614, 614, 614, 973, 973, 619, 202, 623, 623, 623, 623, 623, 624, 565, 627, 79, 894, 640, 644, 298, 532, 644, 532, 646, 646, 646, 646, 646, 646, 646, 646, 648, 652, 652, 652, 652, 652, 79, 658, 658, 662, 662, 664, 666, 666, 671, 677, 668, 686, 693, 696, 651, 708, 271, 711, 711, 714, 715, 715, 715, 774, 594, 224, 741, 741, 742, 482, 746, 749, 753, 496, 245, 769, 715, 774, 775, 775, 777, 778, 787, 402, 794, 794, 111, 415, 43, 847, 809, 809, 473, 607, 809, 809, 847, 810, 396, 426, 817, 817, 824, 825, 826, 420, 826, 826, 826, 133, 541, 830, 94, 831, 36, 838, 840, 840, 368, 674, 341, 341, 844, 846, 847, 847, 531, 847, 757, 539, 850, 993, 852, 853, 853, 853, 853, 853, 853, 853, 853, 853, 1021, 853, 473, 214, 173, 864, 864, 864, 865, 867, 876, 876, 214, 877, 892, 882, 890, 893, 896, 896, 896, 704, 896, 896, 896, 904, 904, 673, 641, 433, 94, 36, 919, 919, 179, 921, 966, 937, 937, 937, 937, 942, 945, 948, 948, 949, 949, 949, 949, 949, 949, 949, 949, 949, 949, 949, 949, 949, 949, 949, 949, 949, 949, 949, 949, 949, 949, 949, 949, 949, 949, 949, 949, 949, 949, 949, 949, 949, 949, 949, 949, 949, 949, 949, 949, 949, 949, 949, 949, 949, 949, 949, 949, 949, 949, 949, 949, 949, 949, 949, 949, 949, 949, 949, 949, 949, 949, 949, 949, 949, 949, 949, 949, 949, 949, 949, 949, 949, 949, 949, 949, 949, 949, 949, 949, 949, 949, 949, 949, 949, 949, 949, 949, 949, 949, 949, 949, 949, 949, 949, 949, 949, 949, 949, 949, 949, 949, 949, 949, 949, 949, 949, 949, 949, 949, 949, 950, 950, 950, 993, 952, 952, 600, 967, 960, 964, 97, 97, 967, 969, 988, 966, 996, 93, 57, 1001, 1001, 1001, 219, 1015, 1015, 600, 1017, 1018, 133, 1026, 1026, 1026, 1026, 7, 1026, 1028, 1029, 1011, 1033, 1035]\n",
            "[4, 6, 8, 12, 16, 16, 27, 27, 27, 29, 31, 31, 31, 31, 31, 32, 37, 37, 37, 37, 37, 37, 37, 42, 48, 49, 49, 49, 49, 49, 49, 49, 49, 49, 49, 49, 49, 49, 49, 49, 49, 49, 53, 53, 53, 53, 59, 60, 61, 61, 62, 64, 76, 76, 76, 76, 76, 79, 79, 79, 79, 79, 79, 79, 79, 79, 79, 79, 79, 79, 79, 79, 79, 79, 79, 79, 79, 79, 79, 79, 79, 79, 80, 80, 80, 89, 91, 91, 92, 92, 92, 94, 94, 94, 94, 94, 94, 94, 94, 94, 94, 94, 94, 94, 94, 94, 94, 96, 96, 96, 100, 100, 100, 107, 108, 108, 108, 111, 111, 111, 111, 111, 111, 111, 113, 116, 119, 120, 122, 122, 125, 125, 125, 125, 125, 125, 125, 125, 125, 125, 125, 125, 125, 125, 125, 125, 125, 129, 131, 139, 140, 143, 147, 157, 160, 165, 165, 166, 166, 168, 172, 172, 172, 172, 172, 172, 172, 175, 178, 182, 182, 182, 182, 182, 182, 182, 182, 183, 183, 183, 183, 183, 183, 183, 183, 183, 183, 186, 187, 187, 188, 189, 189, 190, 190, 190, 190, 190, 190, 190, 195, 197, 197, 205, 206, 207, 208, 210, 214, 214, 214, 214, 214, 214, 214, 214, 214, 214, 214, 214, 216, 216, 218, 220, 220, 223, 226, 226, 227, 228, 228, 228, 228, 228, 228, 228, 228, 228, 228, 228, 228, 228, 228, 234, 234, 235, 235, 236, 236, 236, 243, 243, 243, 243, 243, 243, 243, 245, 245, 245, 245, 245, 245, 245, 245, 245, 246, 254, 265, 265, 265, 265, 265, 265, 265, 265, 265, 265, 265, 265, 265, 265, 265, 265, 265, 265, 265, 265, 265, 265, 268, 270, 271, 274, 276, 280, 280, 281, 285, 286, 287, 288, 289, 289, 289, 289, 289, 289, 289, 289, 289, 289, 289, 289, 289, 289, 289, 289, 289, 289, 289, 298, 300, 300, 301, 301, 301, 301, 301, 309, 309, 309, 309, 312, 318, 318, 321, 323, 323, 323, 325, 325, 325, 325, 325, 325, 325, 325, 325, 325, 325, 325, 325, 326, 326, 332, 332, 335, 336, 337, 337, 337, 338, 338, 339, 342, 343, 343, 343, 343, 343, 343, 348, 350, 359, 359, 359, 359, 359, 360, 362, 363, 364, 366, 368, 372, 382, 385, 390, 391, 391, 393, 396, 401, 402, 402, 402, 402, 408, 408, 408, 409, 418, 419, 419, 419, 419, 419, 420, 424, 426, 426, 426, 426, 427, 427, 427, 427, 427, 427, 427, 427, 427, 427, 430, 430, 431, 434, 434, 435, 441, 441, 441, 441, 446, 455, 455, 455, 455, 459, 460, 463, 470, 470, 471, 471, 472, 474, 475, 475, 489, 491, 491, 491, 491, 491, 491, 491, 491, 491, 491, 491, 491, 491, 492, 495, 495, 508, 509, 510, 511, 516, 516, 517, 517, 517, 518, 521, 522, 529, 530, 530, 530, 530, 536, 536, 537, 540, 540, 541, 541, 545, 545, 546, 546, 546, 548, 548, 548, 556, 557, 559, 565, 567, 568, 570, 570, 573, 574, 577, 579, 579, 583, 584, 590, 590, 590, 592, 592, 594, 594, 596, 597, 597, 597, 604, 610, 610, 614, 614, 614, 614, 614, 614, 616, 616, 619, 619, 623, 623, 623, 623, 623, 624, 626, 627, 633, 639, 640, 644, 644, 644, 644, 646, 646, 646, 646, 646, 646, 646, 646, 646, 648, 652, 652, 652, 652, 652, 655, 658, 658, 662, 662, 664, 666, 666, 671, 676, 684, 686, 693, 696, 702, 708, 711, 711, 711, 714, 715, 715, 715, 723, 724, 728, 741, 741, 742, 744, 746, 749, 753, 758, 765, 769, 772, 774, 775, 775, 777, 778, 787, 789, 794, 794, 797, 801, 803, 808, 809, 809, 809, 809, 809, 809, 809, 810, 811, 816, 817, 817, 824, 825, 826, 826, 826, 826, 826, 830, 830, 830, 830, 831, 832, 838, 840, 840, 840, 841, 841, 841, 844, 846, 847, 847, 847, 847, 848, 849, 850, 852, 852, 853, 853, 853, 853, 853, 853, 853, 853, 853, 853, 853, 854, 860, 860, 864, 864, 864, 865, 867, 876, 876, 877, 877, 878, 882, 890, 893, 896, 896, 896, 896, 896, 896, 897, 904, 904, 904, 904, 910, 911, 918, 919, 919, 919, 921, 924, 937, 937, 937, 937, 942, 945, 948, 948, 949, 949, 949, 949, 949, 949, 949, 949, 949, 949, 949, 949, 949, 949, 949, 949, 949, 949, 949, 949, 949, 949, 949, 949, 949, 949, 949, 949, 949, 949, 949, 949, 949, 949, 949, 949, 949, 949, 949, 949, 949, 949, 949, 949, 949, 949, 949, 949, 949, 949, 949, 949, 949, 949, 949, 949, 949, 949, 949, 949, 949, 949, 949, 949, 949, 949, 949, 949, 949, 949, 949, 949, 949, 949, 949, 949, 949, 949, 949, 949, 949, 949, 949, 949, 949, 949, 949, 949, 949, 949, 949, 949, 949, 949, 949, 949, 949, 949, 949, 949, 949, 949, 949, 949, 949, 949, 949, 949, 949, 949, 949, 950, 950, 950, 951, 952, 952, 954, 955, 961, 964, 967, 967, 967, 968, 969, 977, 996, 998, 999, 1001, 1001, 1001, 1007, 1015, 1015, 1016, 1017, 1018, 1025, 1026, 1026, 1026, 1026, 1026, 1026, 1028, 1029, 1031, 1033, 1035]\n"
          ],
          "name": "stdout"
        }
      ]
    },
    {
      "cell_type": "code",
      "metadata": {
        "id": "XIC4zufnMxtq",
        "outputId": "e0634aee-1cb1-430c-c607-f2bfd1fad683",
        "colab": {
          "base_uri": "https://localhost:8080/"
        }
      },
      "source": [
        "correct_num = 0\n",
        "\n",
        "for i in range(0, len(standard_list)):\n",
        "  if predict_list[i] == standard_list[i]:\n",
        "    correct_num = correct_num+1\n",
        "  else:\n",
        "    pass\n",
        "print(correct_num)\n",
        "\n",
        "predict_accuracy = correct_num/len(predict_list)\n",
        "print(predict_accuracy)"
      ],
      "execution_count": 47,
      "outputs": [
        {
          "output_type": "stream",
          "text": [
            "637\n",
            "0.7355658198614319\n"
          ],
          "name": "stdout"
        }
      ]
    },
    {
      "cell_type": "code",
      "metadata": {
        "id": "zlKMHp1CIaRJ"
      },
      "source": [
        ""
      ],
      "execution_count": 47,
      "outputs": []
    }
  ]
}