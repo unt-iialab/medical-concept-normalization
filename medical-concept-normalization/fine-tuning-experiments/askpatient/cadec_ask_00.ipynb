{
  "nbformat": 4,
  "nbformat_minor": 0,
  "metadata": {
    "accelerator": "TPU",
    "colab": {
      "name": "cadec_ask_00.ipynb",
      "provenance": [],
      "collapsed_sections": [],
      "include_colab_link": true
    },
    "kernelspec": {
      "display_name": "Python 3",
      "name": "python3"
    }
  },
  "cells": [
    {
      "cell_type": "markdown",
      "metadata": {
        "id": "view-in-github",
        "colab_type": "text"
      },
      "source": [
        "<a href=\"https://colab.research.google.com/github/unt-iialab/medical-concept-normalization/blob/master/medical-concept-normalization/fine-tuning-experiments/askpatient/cadec_ask_00.ipynb\" target=\"_parent\"><img src=\"https://colab.research.google.com/assets/colab-badge.svg\" alt=\"Open In Colab\"/></a>"
      ]
    },
    {
      "cell_type": "code",
      "metadata": {
        "id": "adSi6i2-dWxy"
      },
      "source": [
        "import os"
      ],
      "execution_count": 1,
      "outputs": []
    },
    {
      "cell_type": "code",
      "metadata": {
        "id": "E7xYCRGPjd9B"
      },
      "source": [
        "base_dir = 'medical-concept-normalization'"
      ],
      "execution_count": 2,
      "outputs": []
    },
    {
      "cell_type": "code",
      "metadata": {
        "id": "yvIW3aUDjYNS"
      },
      "source": [
        "os.mkdir(base_dir)"
      ],
      "execution_count": 3,
      "outputs": []
    },
    {
      "cell_type": "code",
      "metadata": {
        "id": "es-FFLlfk6SG"
      },
      "source": [
        "os.mkdir('medical-concept-normalization/data_collection')"
      ],
      "execution_count": 4,
      "outputs": []
    },
    {
      "cell_type": "markdown",
      "metadata": {
        "id": "0R-Guw_VoJXm"
      },
      "source": [
        "**Install fastai and clone the fastai for text classification**\n",
        "\n"
      ]
    },
    {
      "cell_type": "code",
      "metadata": {
        "id": "QVZa3Z0PmHFH",
        "outputId": "a7d101f3-96a8-40d8-ee8b-2e163b6a47d2",
        "colab": {
          "base_uri": "https://localhost:8080/"
        }
      },
      "source": [
        "!curl https://course-v3.fast.ai/setup/colab | bash"
      ],
      "execution_count": 5,
      "outputs": [
        {
          "output_type": "stream",
          "text": [
            "  % Total    % Received % Xferd  Average Speed   Time    Time     Time  Current\n",
            "                                 Dload  Upload   Total   Spent    Left  Speed\n",
            "\r  0     0    0     0    0     0      0      0 --:--:-- --:--:-- --:--:--     0curl: (6) Could not resolve host: course-v3.fast.ai\n"
          ],
          "name": "stdout"
        }
      ]
    },
    {
      "cell_type": "code",
      "metadata": {
        "id": "_FBFFEBrmJC0",
        "outputId": "ef0c1757-0c5b-48ba-f196-6a35c10046db",
        "colab": {
          "base_uri": "https://localhost:8080/"
        }
      },
      "source": [
        "!git clone https://github.com/wshuyi/demo-nlp-classification-fastai.git"
      ],
      "execution_count": 6,
      "outputs": [
        {
          "output_type": "stream",
          "text": [
            "Cloning into 'demo-nlp-classification-fastai'...\n",
            "remote: Enumerating objects: 9, done.\u001b[K\n",
            "remote: Total 9 (delta 0), reused 0 (delta 0), pack-reused 9\u001b[K\n",
            "Unpacking objects: 100% (9/9), done.\n"
          ],
          "name": "stdout"
        }
      ]
    },
    {
      "cell_type": "code",
      "metadata": {
        "id": "66zfh_JqmWMU"
      },
      "source": [
        "from fastai import *\n",
        "from fastai.text import *"
      ],
      "execution_count": 7,
      "outputs": []
    },
    {
      "cell_type": "markdown",
      "metadata": {
        "id": "mNIw-yALdBU9"
      },
      "source": [
        "**Set the path of the data collections**"
      ]
    },
    {
      "cell_type": "code",
      "metadata": {
        "id": "pzH7VMh4mqCL"
      },
      "source": [
        "path = Path('medical-concept-normalization/data_collection')"
      ],
      "execution_count": 8,
      "outputs": []
    },
    {
      "cell_type": "code",
      "metadata": {
        "id": "b8fjI6yyn4aS"
      },
      "source": [
        "# training data set\n",
        "\n",
        "train_csv = path/'AskAPatient.fold-0.train.csv'\n",
        "train = pd.read_csv(train_csv, header=None)\n",
        "#train.head()\n",
        "#train.info()"
      ],
      "execution_count": 10,
      "outputs": []
    },
    {
      "cell_type": "code",
      "metadata": {
        "id": "Hmlr-bAorfHd",
        "outputId": "807f98f9-a0a6-402f-adb9-ddd1da58557b",
        "colab": {
          "base_uri": "https://localhost:8080/",
          "height": 204
        }
      },
      "source": [
        "# validating data set\n",
        "\n",
        "valid = pd.read_csv(path/\"AskAPatient.fold-0.validation.csv\",header=None)\n",
        "valid.head()"
      ],
      "execution_count": 11,
      "outputs": [
        {
          "output_type": "execute_result",
          "data": {
            "text/html": [
              "<div>\n",
              "<style scoped>\n",
              "    .dataframe tbody tr th:only-of-type {\n",
              "        vertical-align: middle;\n",
              "    }\n",
              "\n",
              "    .dataframe tbody tr th {\n",
              "        vertical-align: top;\n",
              "    }\n",
              "\n",
              "    .dataframe thead th {\n",
              "        text-align: right;\n",
              "    }\n",
              "</style>\n",
              "<table border=\"1\" class=\"dataframe\">\n",
              "  <thead>\n",
              "    <tr style=\"text-align: right;\">\n",
              "      <th></th>\n",
              "      <th>0</th>\n",
              "      <th>1</th>\n",
              "    </tr>\n",
              "  </thead>\n",
              "  <tbody>\n",
              "    <tr>\n",
              "      <th>0</th>\n",
              "      <td>0</td>\n",
              "      <td>fear</td>\n",
              "    </tr>\n",
              "    <tr>\n",
              "      <th>1</th>\n",
              "      <td>2</td>\n",
              "      <td>heel pain</td>\n",
              "    </tr>\n",
              "    <tr>\n",
              "      <th>2</th>\n",
              "      <td>4</td>\n",
              "      <td>purple sploches around waist</td>\n",
              "    </tr>\n",
              "    <tr>\n",
              "      <th>3</th>\n",
              "      <td>7</td>\n",
              "      <td>goiter</td>\n",
              "    </tr>\n",
              "    <tr>\n",
              "      <th>4</th>\n",
              "      <td>8</td>\n",
              "      <td>ARTHRITIS</td>\n",
              "    </tr>\n",
              "  </tbody>\n",
              "</table>\n",
              "</div>"
            ],
            "text/plain": [
              "   0                             1\n",
              "0  0                          fear\n",
              "1  2                     heel pain\n",
              "2  4  purple sploches around waist\n",
              "3  7                        goiter\n",
              "4  8                     ARTHRITIS"
            ]
          },
          "metadata": {
            "tags": []
          },
          "execution_count": 11
        }
      ]
    },
    {
      "cell_type": "code",
      "metadata": {
        "id": "cOza9dfSsBud",
        "outputId": "f9a68bf5-0c68-405e-93df-a430814910d5",
        "colab": {
          "base_uri": "https://localhost:8080/",
          "height": 204
        }
      },
      "source": [
        "# testing data set\n",
        "\n",
        "test = pd.read_csv(path/\"AskAPatient.fold-0.test.csv\",header=None)\n",
        "test.head()"
      ],
      "execution_count": 12,
      "outputs": [
        {
          "output_type": "execute_result",
          "data": {
            "text/html": [
              "<div>\n",
              "<style scoped>\n",
              "    .dataframe tbody tr th:only-of-type {\n",
              "        vertical-align: middle;\n",
              "    }\n",
              "\n",
              "    .dataframe tbody tr th {\n",
              "        vertical-align: top;\n",
              "    }\n",
              "\n",
              "    .dataframe thead th {\n",
              "        text-align: right;\n",
              "    }\n",
              "</style>\n",
              "<table border=\"1\" class=\"dataframe\">\n",
              "  <thead>\n",
              "    <tr style=\"text-align: right;\">\n",
              "      <th></th>\n",
              "      <th>0</th>\n",
              "      <th>1</th>\n",
              "    </tr>\n",
              "  </thead>\n",
              "  <tbody>\n",
              "    <tr>\n",
              "      <th>0</th>\n",
              "      <td>0</td>\n",
              "      <td>'scared' feeling</td>\n",
              "    </tr>\n",
              "    <tr>\n",
              "      <th>1</th>\n",
              "      <td>2</td>\n",
              "      <td>heel pain</td>\n",
              "    </tr>\n",
              "    <tr>\n",
              "      <th>2</th>\n",
              "      <td>3</td>\n",
              "      <td>cracking sensations in my joints</td>\n",
              "    </tr>\n",
              "    <tr>\n",
              "      <th>3</th>\n",
              "      <td>5</td>\n",
              "      <td>fast and slow heartbeat</td>\n",
              "    </tr>\n",
              "    <tr>\n",
              "      <th>4</th>\n",
              "      <td>5</td>\n",
              "      <td>increased heart rate</td>\n",
              "    </tr>\n",
              "  </tbody>\n",
              "</table>\n",
              "</div>"
            ],
            "text/plain": [
              "   0                                 1\n",
              "0  0                  'scared' feeling\n",
              "1  2                         heel pain\n",
              "2  3  cracking sensations in my joints\n",
              "3  5           fast and slow heartbeat\n",
              "4  5              increased heart rate"
            ]
          },
          "metadata": {
            "tags": []
          },
          "execution_count": 12
        }
      ]
    },
    {
      "cell_type": "code",
      "metadata": {
        "id": "Vo-YNvVYoaH6",
        "outputId": "bea83e81-aa7e-45e0-a877-66126fccf448",
        "colab": {
          "base_uri": "https://localhost:8080/",
          "height": 17
        }
      },
      "source": [
        "# Creating DataBunch for language modelling\n",
        "\n",
        "data_lm = TextLMDataBunch.from_csv(path, 'cadec_ask.csv')"
      ],
      "execution_count": 13,
      "outputs": [
        {
          "output_type": "display_data",
          "data": {
            "text/html": [
              ""
            ],
            "text/plain": [
              "<IPython.core.display.HTML object>"
            ]
          },
          "metadata": {
            "tags": []
          }
        },
        {
          "output_type": "display_data",
          "data": {
            "text/html": [
              ""
            ],
            "text/plain": [
              "<IPython.core.display.HTML object>"
            ]
          },
          "metadata": {
            "tags": []
          }
        }
      ]
    },
    {
      "cell_type": "code",
      "metadata": {
        "id": "qcV-9kMnNLBf"
      },
      "source": [
        ""
      ],
      "execution_count": 13,
      "outputs": []
    },
    {
      "cell_type": "code",
      "metadata": {
        "id": "1ScY9afDsnvE"
      },
      "source": [
        "# Creating DataBunch for classification\n",
        "\n",
        "# data_clas = TextClasDataBunch.from_df(path, train, valid, test, vocab=data_lm.train_ds.vocab, bs=128)"
      ],
      "execution_count": 14,
      "outputs": []
    },
    {
      "cell_type": "code",
      "metadata": {
        "id": "gzrSdQcvey9p",
        "outputId": "fa48e76d-4b2b-4e22-bde6-8afb045289ff",
        "colab": {
          "base_uri": "https://localhost:8080/",
          "height": 17
        }
      },
      "source": [
        "data_clas = TextClasDataBunch.from_df(path, train, valid, vocab=data_lm.train_ds.vocab, bs=128)"
      ],
      "execution_count": 15,
      "outputs": [
        {
          "output_type": "display_data",
          "data": {
            "text/html": [
              ""
            ],
            "text/plain": [
              "<IPython.core.display.HTML object>"
            ]
          },
          "metadata": {
            "tags": []
          }
        },
        {
          "output_type": "display_data",
          "data": {
            "text/html": [
              ""
            ],
            "text/plain": [
              "<IPython.core.display.HTML object>"
            ]
          },
          "metadata": {
            "tags": []
          }
        }
      ]
    },
    {
      "cell_type": "code",
      "metadata": {
        "id": "MD27Tf0Ke3ou",
        "outputId": "a09c86b7-31eb-43eb-fde4-d2bbe72544d1",
        "colab": {
          "base_uri": "https://localhost:8080/",
          "height": 17
        }
      },
      "source": [
        "data_clas.add_test(test,label=0)\n"
      ],
      "execution_count": 16,
      "outputs": [
        {
          "output_type": "display_data",
          "data": {
            "text/html": [
              ""
            ],
            "text/plain": [
              "<IPython.core.display.HTML object>"
            ]
          },
          "metadata": {
            "tags": []
          }
        }
      ]
    },
    {
      "cell_type": "code",
      "metadata": {
        "id": "-dpjnk_rstwk"
      },
      "source": [
        "data_lm.save()\n",
        "data_clas.save()"
      ],
      "execution_count": 17,
      "outputs": []
    },
    {
      "cell_type": "code",
      "metadata": {
        "id": "4OkiJa36sw5s",
        "outputId": "02272518-6597-4860-91eb-95b45ca81921",
        "colab": {
          "base_uri": "https://localhost:8080/"
        }
      },
      "source": [
        "data_lm.train_ds.vocab.itos"
      ],
      "execution_count": 18,
      "outputs": [
        {
          "output_type": "execute_result",
          "data": {
            "text/plain": [
              "['xxunk',\n",
              " 'xxpad',\n",
              " 'xxbos',\n",
              " 'xxeos',\n",
              " 'xxfld',\n",
              " 'xxmaj',\n",
              " 'xxup',\n",
              " 'xxrep',\n",
              " 'xxwrep',\n",
              " 'pain',\n",
              " 'lipitor',\n",
              " 'in',\n",
              " 'of',\n",
              " 'muscle',\n",
              " '.',\n",
              " 'and',\n",
              " 'to',\n",
              " ',',\n",
              " 'my',\n",
              " 'i',\n",
              " 'the',\n",
              " 'severe',\n",
              " 'myalgia',\n",
              " 'fatigue',\n",
              " 'lower',\n",
              " 'loss',\n",
              " 'weakness',\n",
              " '-',\n",
              " 'cramp',\n",
              " 'limb',\n",
              " 'back',\n",
              " 'stomach',\n",
              " 'a',\n",
              " 'depression',\n",
              " 'cramps',\n",
              " 'joint',\n",
              " 'gas',\n",
              " 'memory',\n",
              " 'leg',\n",
              " 'legs',\n",
              " 'upper',\n",
              " 'pains',\n",
              " 'it',\n",
              " 'headache',\n",
              " 'shoulder',\n",
              " 'unable',\n",
              " 'knee',\n",
              " '/',\n",
              " 'not',\n",
              " 'neck',\n",
              " 'foot',\n",
              " 'on',\n",
              " 'arthralgia',\n",
              " 'was',\n",
              " 'aches',\n",
              " 'excessive',\n",
              " 'for',\n",
              " 'hip',\n",
              " 'like',\n",
              " 'all',\n",
              " 'numbness',\n",
              " 'gastrointestinal',\n",
              " 'arthritis',\n",
              " 'insomnia',\n",
              " 'have',\n",
              " 'walk',\n",
              " 'arthrotec',\n",
              " 'feeling',\n",
              " 'with',\n",
              " 'problems',\n",
              " 'heart',\n",
              " 'bleeding',\n",
              " 'cholesterol',\n",
              " 'is',\n",
              " 'nausea',\n",
              " 'tired',\n",
              " 'abdominal',\n",
              " 'asthenia',\n",
              " 'feet',\n",
              " 'dizziness',\n",
              " 'disease',\n",
              " 'muscles',\n",
              " 'walking',\n",
              " 'extreme',\n",
              " 'this',\n",
              " 'very',\n",
              " 'difficulty',\n",
              " 'swelling',\n",
              " 'hair',\n",
              " 'chest',\n",
              " 'vision',\n",
              " 'that',\n",
              " 'burning',\n",
              " 'hand',\n",
              " 'sleep',\n",
              " 'could',\n",
              " 'stiffness',\n",
              " 'backache',\n",
              " 'zocor',\n",
              " 'increased',\n",
              " 'ache',\n",
              " ')',\n",
              " 'cramping',\n",
              " 'had',\n",
              " \"n't\",\n",
              " 'liver',\n",
              " '(',\n",
              " 'blood',\n",
              " 'left',\n",
              " 'pins',\n",
              " 'needles',\n",
              " 'skin',\n",
              " 'amnesia',\n",
              " 'diarrhoea',\n",
              " 'calf',\n",
              " 'up',\n",
              " 'but',\n",
              " 'at',\n",
              " 'tingling',\n",
              " 'weight',\n",
              " 'high',\n",
              " 'me',\n",
              " 'taking',\n",
              " 'anxiety',\n",
              " 'lack',\n",
              " 'symptom',\n",
              " 'disability',\n",
              " 'so',\n",
              " 'short',\n",
              " 'impairment',\n",
              " 'stiff',\n",
              " 'bloating',\n",
              " 'arms',\n",
              " 'constipation',\n",
              " 'low',\n",
              " 'side',\n",
              " 'hands',\n",
              " 'can',\n",
              " 'arm',\n",
              " 'term',\n",
              " 'headaches',\n",
              " 'sore',\n",
              " 'time',\n",
              " \"'s\",\n",
              " 'no',\n",
              " 'after',\n",
              " 'balance',\n",
              " 'voltaren',\n",
              " 'pressure',\n",
              " 'neuropathy',\n",
              " 'body',\n",
              " 'blurred',\n",
              " 'or',\n",
              " 'poor',\n",
              " 'mg',\n",
              " 'from',\n",
              " 'disorder',\n",
              " 'ankle',\n",
              " 'tiredness',\n",
              " 'off',\n",
              " 'joints',\n",
              " 'drug',\n",
              " 'feel',\n",
              " 'bad',\n",
              " 'vaginal',\n",
              " 'hurt',\n",
              " 'rash',\n",
              " 'right',\n",
              " 'pravachol',\n",
              " 'sensation',\n",
              " 'been',\n",
              " 'get',\n",
              " 'myositis',\n",
              " 'acid',\n",
              " 'has',\n",
              " 'am',\n",
              " 'mentally',\n",
              " 'attack',\n",
              " 'infarction',\n",
              " 'vertigo',\n",
              " 'energy',\n",
              " 'effects',\n",
              " 'as',\n",
              " 'symptoms',\n",
              " 'swollen',\n",
              " 'myocardial',\n",
              " '!',\n",
              " 'itching',\n",
              " 'shoulders',\n",
              " 'atrophy',\n",
              " 'upset',\n",
              " 'diarrhea',\n",
              " 'constant',\n",
              " 'out',\n",
              " 'are',\n",
              " 'diabetes',\n",
              " 'ubidecarenone',\n",
              " 'painful',\n",
              " 'weak',\n",
              " 'over',\n",
              " 'generalised',\n",
              " 'dry',\n",
              " 'gain',\n",
              " 'both',\n",
              " 'by',\n",
              " 'dull',\n",
              " 'damage',\n",
              " 'reduced',\n",
              " 'elevated',\n",
              " 'sleeping',\n",
              " 'illness',\n",
              " 'knees',\n",
              " 'raised',\n",
              " 'years',\n",
              " 'take',\n",
              " 'be',\n",
              " 'day',\n",
              " 'hazy',\n",
              " 'spasms',\n",
              " 'started',\n",
              " 'crestor',\n",
              " 'elbow',\n",
              " 'about',\n",
              " 'when',\n",
              " 'spasm',\n",
              " 'exhaustion',\n",
              " 'problem',\n",
              " 'do',\n",
              " 'toe',\n",
              " '3',\n",
              " 'tendonitis',\n",
              " 'influenza',\n",
              " 'mood',\n",
              " 'visual',\n",
              " 'heavy',\n",
              " 'reflux',\n",
              " 'bed',\n",
              " 'abnormal',\n",
              " 'flu',\n",
              " 'syndrome',\n",
              " 'flatulence',\n",
              " 'will',\n",
              " 'now',\n",
              " 'felt',\n",
              " 'thigh',\n",
              " 'libido',\n",
              " 'movement',\n",
              " 'discomfort',\n",
              " 'irritable',\n",
              " 'myopathy',\n",
              " 'did',\n",
              " 'down',\n",
              " 'throat',\n",
              " 'night',\n",
              " 'doctor',\n",
              " 'sclerosis',\n",
              " 'one',\n",
              " 'vomiting',\n",
              " 'just',\n",
              " 'months',\n",
              " '2',\n",
              " 'hips',\n",
              " 'fibromyalgia',\n",
              " 'kidney',\n",
              " 'concentrate',\n",
              " 'went',\n",
              " 'lightheadedness',\n",
              " 'more',\n",
              " 'tremor',\n",
              " 'if',\n",
              " 'cold',\n",
              " 'mellitus',\n",
              " 'urine',\n",
              " 'would',\n",
              " 'chronic',\n",
              " 'days',\n",
              " 'appetite',\n",
              " 'swings',\n",
              " 'sweating',\n",
              " 'concentration',\n",
              " 'serum',\n",
              " 'calves',\n",
              " 'confusion',\n",
              " 'simvastatin',\n",
              " 'wind',\n",
              " 'soreness',\n",
              " 'malaise',\n",
              " '10',\n",
              " 'toes',\n",
              " 'disturbance',\n",
              " 'aching',\n",
              " 'ankles',\n",
              " 'tinnitus',\n",
              " 'head',\n",
              " 'eye',\n",
              " 'stopped',\n",
              " 'menstrual',\n",
              " 'finger',\n",
              " 'stairs',\n",
              " 'celebrex',\n",
              " 'type',\n",
              " 'only',\n",
              " 'think',\n",
              " 'ezetimibe',\n",
              " 'c',\n",
              " 'esters',\n",
              " 'failure',\n",
              " 'brain',\n",
              " 'took',\n",
              " 'also',\n",
              " 'injury',\n",
              " 'weeks',\n",
              " 'intense',\n",
              " 'some',\n",
              " 'charleyhorse',\n",
              " 'general',\n",
              " 'mild',\n",
              " 'impaired',\n",
              " 'acute',\n",
              " 'cough',\n",
              " 'face',\n",
              " 'swallowing',\n",
              " 'decreased',\n",
              " '&',\n",
              " 'peripheral',\n",
              " 'paraesthesia',\n",
              " 'terrible',\n",
              " 'were',\n",
              " 'you',\n",
              " 'excruciating',\n",
              " 'fingers',\n",
              " 'heel',\n",
              " 'depressed',\n",
              " 'then',\n",
              " 'ibuprofen',\n",
              " 'stress',\n",
              " 'parkinson',\n",
              " 'palpitations',\n",
              " 'indigestion',\n",
              " 'renal',\n",
              " 'motivation',\n",
              " 'lupus',\n",
              " 'getting',\n",
              " 'restless',\n",
              " 'dark',\n",
              " 'ascorbic',\n",
              " \"'m\",\n",
              " 'speech',\n",
              " 'tendon',\n",
              " ':',\n",
              " 'they',\n",
              " 'still',\n",
              " '1',\n",
              " 'level',\n",
              " 'eyes',\n",
              " 'an',\n",
              " 'any',\n",
              " 'always',\n",
              " 'hot',\n",
              " 'dyspnoea',\n",
              " 'tightness',\n",
              " 'infection',\n",
              " 'twitch',\n",
              " 'menopause',\n",
              " 'enzymes',\n",
              " 'trouble',\n",
              " 'other',\n",
              " 'gout',\n",
              " 'week',\n",
              " 'ca',\n",
              " 'oil',\n",
              " 'much',\n",
              " '20',\n",
              " 'dreams',\n",
              " 'exercise',\n",
              " 'than',\n",
              " 'multiple',\n",
              " 'wrist',\n",
              " 'migraine',\n",
              " 'nerve',\n",
              " 'limbs',\n",
              " 'strength',\n",
              " 'breathing',\n",
              " '5',\n",
              " 'fish',\n",
              " 'vitamin',\n",
              " 'he',\n",
              " 'lateral',\n",
              " 'well',\n",
              " 'never',\n",
              " 'fog',\n",
              " 'going',\n",
              " 'before',\n",
              " 'again',\n",
              " 'mouth',\n",
              " 'taste',\n",
              " 'even',\n",
              " 'ago',\n",
              " 'breath',\n",
              " 'coq10',\n",
              " 'bowel',\n",
              " 'thighs',\n",
              " 'every',\n",
              " 'move',\n",
              " 'drowsy',\n",
              " 'twitching',\n",
              " 'advil',\n",
              " 'heartburn',\n",
              " 'which',\n",
              " 'function',\n",
              " 'elbows',\n",
              " 'medication',\n",
              " 'being',\n",
              " 'provoked',\n",
              " 'tylenol',\n",
              " 'aleve',\n",
              " 'hardly',\n",
              " \"'ve\",\n",
              " 'sinus',\n",
              " 'go',\n",
              " 'because',\n",
              " 'lethargy',\n",
              " 'due',\n",
              " 'ulcer',\n",
              " 'experienced',\n",
              " '40',\n",
              " 'amyotrophic',\n",
              " 'two',\n",
              " 'levels',\n",
              " '+',\n",
              " 'plantar',\n",
              " 'nasal',\n",
              " 'lost',\n",
              " 'barely',\n",
              " 'sharp',\n",
              " 'first',\n",
              " 'extremely',\n",
              " 'clearly',\n",
              " 'tight',\n",
              " 'light',\n",
              " 'mobility',\n",
              " 'fenofibrate',\n",
              " 'worse',\n",
              " 'urinary',\n",
              " 'zetia',\n",
              " 'horses',\n",
              " 'life',\n",
              " 'numb',\n",
              " 'month',\n",
              " 'better',\n",
              " 'uterine',\n",
              " 'tricor',\n",
              " 'almost',\n",
              " 'rheumatoid',\n",
              " 'what',\n",
              " 'fatigued',\n",
              " 'mental',\n",
              " 'sick',\n",
              " 'facial',\n",
              " '4',\n",
              " 'dizzy',\n",
              " 'moody',\n",
              " 'horrible',\n",
              " 'these',\n",
              " 'finding',\n",
              " 'diclofenac',\n",
              " 'loose',\n",
              " 'present',\n",
              " 'drive',\n",
              " 'statins',\n",
              " 'shortness',\n",
              " 'colic',\n",
              " 'around',\n",
              " 'who',\n",
              " 'ringing',\n",
              " 'should',\n",
              " 'since',\n",
              " ';',\n",
              " 'malignant',\n",
              " 'irregular',\n",
              " 'slurred',\n",
              " 'charley',\n",
              " 'your',\n",
              " 'taken',\n",
              " 'extremity',\n",
              " 'fever',\n",
              " 'liptor',\n",
              " 'thoughts',\n",
              " 'last',\n",
              " 'lot',\n",
              " 'achilles',\n",
              " 'reading',\n",
              " 'paracetamol',\n",
              " 'panic',\n",
              " 'pulse',\n",
              " 'natural',\n",
              " 'long',\n",
              " 'major',\n",
              " 'having',\n",
              " 'osteoarthritis',\n",
              " '?',\n",
              " 'dr',\n",
              " 'als',\n",
              " 'attacks',\n",
              " 'ldl',\n",
              " 'fasciitis',\n",
              " 'accident',\n",
              " 'times',\n",
              " 'stop',\n",
              " 'deep',\n",
              " 'system',\n",
              " 'oedema',\n",
              " 'cerebrovascular',\n",
              " 'statin',\n",
              " '6',\n",
              " 'little',\n",
              " 'sweats',\n",
              " 'away',\n",
              " 'morning',\n",
              " 'pruritus',\n",
              " 'congestion',\n",
              " 'told',\n",
              " 'forgetful',\n",
              " 'became',\n",
              " 'frequent',\n",
              " 'stand',\n",
              " 'hunger',\n",
              " 'eczema',\n",
              " 'cancer',\n",
              " 'anything',\n",
              " 'without',\n",
              " 'sex',\n",
              " 'rhabdomyolysis',\n",
              " 'erythematosus',\n",
              " 'area',\n",
              " 'ability',\n",
              " 'stamina',\n",
              " 'prednisone',\n",
              " 'cpk',\n",
              " 'there',\n",
              " 'sugar',\n",
              " 'inability',\n",
              " 'sensations',\n",
              " 'thought',\n",
              " 'hard',\n",
              " 'know',\n",
              " 'year',\n",
              " 'asthma',\n",
              " 'within',\n",
              " 'ear',\n",
              " 'tract',\n",
              " 'too',\n",
              " 'got',\n",
              " 'creatinine',\n",
              " 'scalp',\n",
              " 'put',\n",
              " 'hypertension',\n",
              " 'good',\n",
              " 'things',\n",
              " 'same',\n",
              " 'began',\n",
              " 'inflammatory',\n",
              " 'strain',\n",
              " 'few',\n",
              " 'norvasc',\n",
              " 'flushing',\n",
              " 'normal',\n",
              " 'hurts',\n",
              " 'neurontin',\n",
              " 'lopid',\n",
              " 'see',\n",
              " 'menorrhagia',\n",
              " 'make',\n",
              " 'spasmodic',\n",
              " 'while',\n",
              " 'increase',\n",
              " 'periods',\n",
              " 'eat',\n",
              " 'foggy',\n",
              " 'dose',\n",
              " 'tension',\n",
              " 'hypersomnia',\n",
              " 'sense',\n",
              " 'nervous',\n",
              " 'rapid',\n",
              " 'itchy',\n",
              " 'tachycardia',\n",
              " 'into',\n",
              " 'stroke',\n",
              " 'ms',\n",
              " 'work',\n",
              " 'atorvastatin',\n",
              " 'period',\n",
              " 'something',\n",
              " 'inflammation',\n",
              " 'forearm',\n",
              " 'palsy',\n",
              " 'aptyalism',\n",
              " 'stool',\n",
              " 'change',\n",
              " 'omega-3-acid',\n",
              " 'ethyl',\n",
              " 'esters-90',\n",
              " 'abdomen',\n",
              " 'most',\n",
              " 'climb',\n",
              " 'permanent',\n",
              " 'dysfunction',\n",
              " 'lift',\n",
              " 'another',\n",
              " 'gait',\n",
              " 'nt',\n",
              " 'looks',\n",
              " 'tablet',\n",
              " 'inflamation',\n",
              " 'many',\n",
              " 'drugs',\n",
              " 'nightmares',\n",
              " 'use',\n",
              " 'find',\n",
              " 'codeine',\n",
              " 'bell',\n",
              " 'bone',\n",
              " 'said',\n",
              " 'bursitis',\n",
              " 'thinking',\n",
              " 'respiratory',\n",
              " 'difficult',\n",
              " 'overall',\n",
              " 'sexual',\n",
              " 'weird',\n",
              " 'co',\n",
              " 'region',\n",
              " 'gone',\n",
              " 'feels',\n",
              " 'lipex',\n",
              " 'sight',\n",
              " 'cause',\n",
              " 'venous',\n",
              " 'ears',\n",
              " 'test',\n",
              " 'falling',\n",
              " 'heaviness',\n",
              " 'slight',\n",
              " 'tolerance',\n",
              " 'sudden',\n",
              " 'developed',\n",
              " 'empty',\n",
              " 'help',\n",
              " 'edema',\n",
              " 'stabbing',\n",
              " 'paralysis',\n",
              " 'does',\n",
              " 'during',\n",
              " 'people',\n",
              " 'muscular',\n",
              " 'red',\n",
              " 'try',\n",
              " 'unwell',\n",
              " 'limping',\n",
              " 'triglycerides',\n",
              " 'until',\n",
              " 'diovan',\n",
              " 'able',\n",
              " 'really',\n",
              " 'self',\n",
              " 'generally',\n",
              " 'everything',\n",
              " 'several',\n",
              " 'spotting',\n",
              " 'zoloft',\n",
              " 'effect',\n",
              " 'delusional',\n",
              " 'omega',\n",
              " 'three',\n",
              " 'ever',\n",
              " 'cortisone',\n",
              " 'gastric',\n",
              " 'q10',\n",
              " 'coronary',\n",
              " 'reaction',\n",
              " 'hungry',\n",
              " 'sever',\n",
              " 'retention',\n",
              " 'rigidity',\n",
              " 'fast',\n",
              " 'menopausal',\n",
              " 'food',\n",
              " 'bladder',\n",
              " 'blurry',\n",
              " 'aphasia',\n",
              " 'site',\n",
              " 'where',\n",
              " 'doctors',\n",
              " 'erythema',\n",
              " 'diabetic',\n",
              " 'bp',\n",
              " 'disc',\n",
              " 'menstruation',\n",
              " 'diet',\n",
              " 'slightly',\n",
              " 'haematuria',\n",
              " 'his',\n",
              " 'similar',\n",
              " 'tunnel',\n",
              " 'noticed',\n",
              " 'bruising',\n",
              " 'between',\n",
              " 'degenerative',\n",
              " 'suicidal',\n",
              " 'bloated',\n",
              " 'paranoia',\n",
              " 'tests',\n",
              " 'ached',\n",
              " 'coated',\n",
              " 'changes',\n",
              " 'carpal',\n",
              " 'chill',\n",
              " 'cycle',\n",
              " 'rupture',\n",
              " 'stopping',\n",
              " 'endometriosis',\n",
              " 'twitches',\n",
              " 'agitated',\n",
              " 'arthritic',\n",
              " 'sides',\n",
              " 'headed',\n",
              " 'enough',\n",
              " 'drink',\n",
              " 'pill',\n",
              " 'done',\n",
              " 'however',\n",
              " 'especially',\n",
              " 'once',\n",
              " 'standing',\n",
              " 'crying',\n",
              " 'tongue',\n",
              " 'prescribed',\n",
              " 'sweat',\n",
              " 'how',\n",
              " 'unbearable',\n",
              " 'spine',\n",
              " 'rectal',\n",
              " 'them',\n",
              " 'drowsiness',\n",
              " 'remember',\n",
              " 'issues',\n",
              " '%',\n",
              " 'big',\n",
              " 'lowered',\n",
              " 'old',\n",
              " 'she',\n",
              " 'starting',\n",
              " 'uterus',\n",
              " 'bronchitis',\n",
              " 'fine',\n",
              " 'their',\n",
              " 'intolerance',\n",
              " 'sun',\n",
              " 'caused',\n",
              " 'came',\n",
              " 'myself',\n",
              " 'hurting',\n",
              " 'colitis',\n",
              " 'misoprostol',\n",
              " 'dehydration',\n",
              " 'transient',\n",
              " 'wrists',\n",
              " 'sciatica',\n",
              " 'great',\n",
              " 'testosterone',\n",
              " 'may',\n",
              " 'syncope',\n",
              " 'choking',\n",
              " 'less',\n",
              " 'made',\n",
              " 'allergic',\n",
              " 'muscels',\n",
              " 'read',\n",
              " 'random',\n",
              " 'though',\n",
              " 'causing',\n",
              " \"'\",\n",
              " 'film',\n",
              " 'quit',\n",
              " 'physical',\n",
              " 'anger',\n",
              " '50',\n",
              " 'tender',\n",
              " 'neuralgia',\n",
              " 'fear',\n",
              " 'ani',\n",
              " 'rashes',\n",
              " 'occasional',\n",
              " 'found',\n",
              " 'desire',\n",
              " 'through',\n",
              " 'tried',\n",
              " 'daily',\n",
              " 'infections',\n",
              " 'mobic',\n",
              " 'unhappy',\n",
              " '8',\n",
              " 'eyesight',\n",
              " 'decrease',\n",
              " 'related',\n",
              " 'irritability',\n",
              " 'haemorrhage',\n",
              " 'constantly',\n",
              " 'experiencing',\n",
              " 'way',\n",
              " 'cataflam',\n",
              " 'hepatic',\n",
              " 'condition',\n",
              " 'minutes',\n",
              " 'intervertebral',\n",
              " 'immediately',\n",
              " 'rate',\n",
              " 'agony',\n",
              " 'fatique',\n",
              " 'chair',\n",
              " 'personality',\n",
              " 'words',\n",
              " 'want',\n",
              " 'lipidil',\n",
              " 'stools',\n",
              " 'musculoskeletal',\n",
              " 'aspirin',\n",
              " '-pelvis',\n",
              " 'circulation',\n",
              " 'morphine',\n",
              " 'disorientated',\n",
              " 'steatosis',\n",
              " 'hours',\n",
              " 'moodiness',\n",
              " 'breast',\n",
              " 'eructation',\n",
              " 'debilitating',\n",
              " 'below',\n",
              " 'control',\n",
              " 'ribs',\n",
              " 'interest',\n",
              " 'far',\n",
              " 'touch',\n",
              " 'sensitivity',\n",
              " 'doing',\n",
              " 'total',\n",
              " 'thoracic',\n",
              " 'run',\n",
              " 'limitation',\n",
              " 'pancreatitis',\n",
              " 'limp',\n",
              " 'potassium',\n",
              " '7',\n",
              " 'alzheimer',\n",
              " 'later',\n",
              " 'changed',\n",
              " 'difficulties',\n",
              " 'hdl',\n",
              " 'dysphonia',\n",
              " 'next',\n",
              " 'rhinitis',\n",
              " 'recently',\n",
              " 'irritation',\n",
              " 'rib',\n",
              " 'we',\n",
              " 'muscel',\n",
              " 'sure',\n",
              " 'yellow',\n",
              " 'medicine',\n",
              " 'need',\n",
              " 'serious',\n",
              " 'contusion',\n",
              " 'pravastatin',\n",
              " 'clumsiness',\n",
              " 'tenderness',\n",
              " 'hoarse',\n",
              " 'b',\n",
              " 'unsteady',\n",
              " 'lowering',\n",
              " 'lumbar',\n",
              " 'waking',\n",
              " 'neoplasm',\n",
              " 'vague',\n",
              " 'dropped',\n",
              " 'relief',\n",
              " 'wanted',\n",
              " 'fatty',\n",
              " 'cognition',\n",
              " 'dizzyness',\n",
              " 'recommend',\n",
              " 'urinate',\n",
              " 'sit',\n",
              " 'its',\n",
              " 'worth',\n",
              " 'persistent',\n",
              " 'achy',\n",
              " 'forearms',\n",
              " '--',\n",
              " 'glucosamine',\n",
              " 'chills',\n",
              " 'water',\n",
              " 'above',\n",
              " 'creatine',\n",
              " 'headedness',\n",
              " 'instead',\n",
              " 'cognitive',\n",
              " 'moderate',\n",
              " 'hyperactive',\n",
              " 'tremors',\n",
              " 'altered',\n",
              " 'forgetfulness',\n",
              " 'movements',\n",
              " '75',\n",
              " 'results',\n",
              " 'sleepy',\n",
              " 'whole',\n",
              " 'believe',\n",
              " 'tingly',\n",
              " 'charlie',\n",
              " 'lexapro',\n",
              " 'bizarre',\n",
              " 'blisters',\n",
              " 'her',\n",
              " 'gastritis',\n",
              " 'alopecia',\n",
              " 'finally',\n",
              " 'beat',\n",
              " 'nothing',\n",
              " 'slow',\n",
              " 'mass',\n",
              " 'colon',\n",
              " 'tore',\n",
              " 'alpha',\n",
              " 'throbbing',\n",
              " 'buzzing',\n",
              " 'non',\n",
              " 'sleeplessness',\n",
              " 'cardiac',\n",
              " 'count',\n",
              " 'each',\n",
              " 'tenalgia',\n",
              " 'anyone',\n",
              " 'central',\n",
              " 'neoplastic',\n",
              " 'falls',\n",
              " 'entire',\n",
              " 'density',\n",
              " 'lipoprotein',\n",
              " 'lose',\n",
              " 'initial',\n",
              " 'haematochezia',\n",
              " 'doc',\n",
              " 'migranes',\n",
              " 'white',\n",
              " 'him',\n",
              " 'wasting',\n",
              " 'extremities',\n",
              " 'gut',\n",
              " 'spells',\n",
              " 'top',\n",
              " 'e',\n",
              " 'improvement',\n",
              " 'works',\n",
              " 'hit',\n",
              " 'tumour',\n",
              " 'affected',\n",
              " 'worst',\n",
              " 'digestive',\n",
              " 'moving',\n",
              " 'trying',\n",
              " 'tocopherol',\n",
              " 'motor',\n",
              " 'experience',\n",
              " 'breasts',\n",
              " 'overweight',\n",
              " 'meniscus',\n",
              " 'q',\n",
              " 'jaundice',\n",
              " 'infective',\n",
              " 'cystitis',\n",
              " '30',\n",
              " 'torn',\n",
              " 'diverticulitis',\n",
              " 'coma',\n",
              " 'across',\n",
              " 'constipated',\n",
              " 'thinning',\n",
              " 'neuroma',\n",
              " 'dosage',\n",
              " 'hammer',\n",
              " 'exhausted',\n",
              " 'although',\n",
              " 'vit',\n",
              " 'new',\n",
              " 'traumatic',\n",
              " 'say',\n",
              " 'job',\n",
              " 'seems',\n",
              " 'post',\n",
              " ...]"
            ]
          },
          "metadata": {
            "tags": []
          },
          "execution_count": 18
        }
      ]
    },
    {
      "cell_type": "code",
      "metadata": {
        "id": "yPWr03mls3VT",
        "outputId": "e0c75479-2461-4f02-ae8f-c4d51120a7ba",
        "colab": {
          "base_uri": "https://localhost:8080/",
          "height": 17
        }
      },
      "source": [
        "model_path = path/'models'\n",
        "model_path.mkdir(exist_ok=True)\n",
        "url = 'http://files.fast.ai/models/wt103_v1/'\n",
        "download_url(f'{url}lstm_wt103.pth', model_path/'lstm_wt103.pth')\n",
        "download_url(f'{url}itos_wt103.pkl', model_path/'itos_wt103.pkl')"
      ],
      "execution_count": 19,
      "outputs": [
        {
          "output_type": "display_data",
          "data": {
            "text/html": [
              ""
            ],
            "text/plain": [
              "<IPython.core.display.HTML object>"
            ]
          },
          "metadata": {
            "tags": []
          }
        },
        {
          "output_type": "display_data",
          "data": {
            "text/html": [
              ""
            ],
            "text/plain": [
              "<IPython.core.display.HTML object>"
            ]
          },
          "metadata": {
            "tags": []
          }
        }
      ]
    },
    {
      "cell_type": "code",
      "metadata": {
        "id": "JRzvWg8RtGGr",
        "outputId": "ad7310d5-8a90-45bd-c660-701ffdeab0f2",
        "colab": {
          "base_uri": "https://localhost:8080/",
          "height": 34
        }
      },
      "source": [
        "learn = language_model_learner(data_lm, AWD_LSTM, drop_mult=0.5)"
      ],
      "execution_count": 20,
      "outputs": [
        {
          "output_type": "stream",
          "text": [
            "Downloading https://s3.amazonaws.com/fast-ai-modelzoo/wt103-fwd.tgz\n"
          ],
          "name": "stdout"
        },
        {
          "output_type": "display_data",
          "data": {
            "text/html": [
              ""
            ],
            "text/plain": [
              "<IPython.core.display.HTML object>"
            ]
          },
          "metadata": {
            "tags": []
          }
        }
      ]
    },
    {
      "cell_type": "code",
      "metadata": {
        "id": "xKK7GeBev7Xn",
        "outputId": "4a727f7c-66c5-46ef-a293-c65b7389beb5",
        "colab": {
          "base_uri": "https://localhost:8080/",
          "height": 80
        }
      },
      "source": [
        "learn.fit_one_cycle(1, 1e-2)"
      ],
      "execution_count": 21,
      "outputs": [
        {
          "output_type": "display_data",
          "data": {
            "text/html": [
              "<table border=\"1\" class=\"dataframe\">\n",
              "  <thead>\n",
              "    <tr style=\"text-align: left;\">\n",
              "      <th>epoch</th>\n",
              "      <th>train_loss</th>\n",
              "      <th>valid_loss</th>\n",
              "      <th>accuracy</th>\n",
              "      <th>time</th>\n",
              "    </tr>\n",
              "  </thead>\n",
              "  <tbody>\n",
              "    <tr>\n",
              "      <td>0</td>\n",
              "      <td>3.175128</td>\n",
              "      <td>2.686986</td>\n",
              "      <td>0.545197</td>\n",
              "      <td>18:09</td>\n",
              "    </tr>\n",
              "  </tbody>\n",
              "</table>"
            ],
            "text/plain": [
              "<IPython.core.display.HTML object>"
            ]
          },
          "metadata": {
            "tags": []
          }
        }
      ]
    },
    {
      "cell_type": "code",
      "metadata": {
        "id": "iB7rHGQCwd12"
      },
      "source": [
        "# learn.fit_one_cycle(1, 1e-2)"
      ],
      "execution_count": 22,
      "outputs": []
    },
    {
      "cell_type": "code",
      "metadata": {
        "id": "_BnSuAeCwkBe"
      },
      "source": [
        "# learn.fit_one_cycle(1, 1e-3)"
      ],
      "execution_count": 23,
      "outputs": []
    },
    {
      "cell_type": "code",
      "metadata": {
        "id": "MuTm-RFjwrEX",
        "outputId": "9a4c97d4-e7ed-44a7-b302-cd28ae63b191",
        "colab": {
          "base_uri": "https://localhost:8080/",
          "height": 80
        }
      },
      "source": [
        "learn.fit_one_cycle(1, 1e-3)"
      ],
      "execution_count": 24,
      "outputs": [
        {
          "output_type": "display_data",
          "data": {
            "text/html": [
              "<table border=\"1\" class=\"dataframe\">\n",
              "  <thead>\n",
              "    <tr style=\"text-align: left;\">\n",
              "      <th>epoch</th>\n",
              "      <th>train_loss</th>\n",
              "      <th>valid_loss</th>\n",
              "      <th>accuracy</th>\n",
              "      <th>time</th>\n",
              "    </tr>\n",
              "  </thead>\n",
              "  <tbody>\n",
              "    <tr>\n",
              "      <td>0</td>\n",
              "      <td>2.787014</td>\n",
              "      <td>2.641309</td>\n",
              "      <td>0.550142</td>\n",
              "      <td>18:07</td>\n",
              "    </tr>\n",
              "  </tbody>\n",
              "</table>"
            ],
            "text/plain": [
              "<IPython.core.display.HTML object>"
            ]
          },
          "metadata": {
            "tags": []
          }
        }
      ]
    },
    {
      "cell_type": "code",
      "metadata": {
        "id": "1Er2ExO8wr7Y"
      },
      "source": [
        "learn.save_encoder('cadec_ask_fold0_first')"
      ],
      "execution_count": 25,
      "outputs": []
    },
    {
      "cell_type": "code",
      "metadata": {
        "id": "z52cZs2qwvad",
        "outputId": "8d4c8806-2c92-49bc-d353-cf61de703e6d",
        "colab": {
          "base_uri": "https://localhost:8080/",
          "height": 80
        }
      },
      "source": [
        "learn = text_classifier_learner(data_clas,AWD_LSTM, drop_mult=0.5)\n",
        "learn.load_encoder('cadec_ask_fold0_first')\n",
        "learn.fit_one_cycle(1, 1e-2)"
      ],
      "execution_count": 26,
      "outputs": [
        {
          "output_type": "display_data",
          "data": {
            "text/html": [
              "<table border=\"1\" class=\"dataframe\">\n",
              "  <thead>\n",
              "    <tr style=\"text-align: left;\">\n",
              "      <th>epoch</th>\n",
              "      <th>train_loss</th>\n",
              "      <th>valid_loss</th>\n",
              "      <th>accuracy</th>\n",
              "      <th>time</th>\n",
              "    </tr>\n",
              "  </thead>\n",
              "  <tbody>\n",
              "    <tr>\n",
              "      <td>0</td>\n",
              "      <td>4.012053</td>\n",
              "      <td>3.968349</td>\n",
              "      <td>0.312426</td>\n",
              "      <td>01:05</td>\n",
              "    </tr>\n",
              "  </tbody>\n",
              "</table>"
            ],
            "text/plain": [
              "<IPython.core.display.HTML object>"
            ]
          },
          "metadata": {
            "tags": []
          }
        }
      ]
    },
    {
      "cell_type": "code",
      "metadata": {
        "id": "ImwQP1PJwzxd",
        "outputId": "447655b4-ad9a-40cd-c6f7-b0605523a8aa",
        "colab": {
          "base_uri": "https://localhost:8080/",
          "height": 80
        }
      },
      "source": [
        "learn.freeze_to(-2)\n",
        "learn.fit_one_cycle(1, slice(5e-3/2., 5e-3))"
      ],
      "execution_count": 27,
      "outputs": [
        {
          "output_type": "display_data",
          "data": {
            "text/html": [
              "<table border=\"1\" class=\"dataframe\">\n",
              "  <thead>\n",
              "    <tr style=\"text-align: left;\">\n",
              "      <th>epoch</th>\n",
              "      <th>train_loss</th>\n",
              "      <th>valid_loss</th>\n",
              "      <th>accuracy</th>\n",
              "      <th>time</th>\n",
              "    </tr>\n",
              "  </thead>\n",
              "  <tbody>\n",
              "    <tr>\n",
              "      <td>0</td>\n",
              "      <td>3.041806</td>\n",
              "      <td>3.246192</td>\n",
              "      <td>0.439053</td>\n",
              "      <td>01:20</td>\n",
              "    </tr>\n",
              "  </tbody>\n",
              "</table>"
            ],
            "text/plain": [
              "<IPython.core.display.HTML object>"
            ]
          },
          "metadata": {
            "tags": []
          }
        }
      ]
    },
    {
      "cell_type": "code",
      "metadata": {
        "id": "Owff_BJXw53u",
        "outputId": "0ca47315-a639-4969-a60d-f97c8de890f4",
        "colab": {
          "base_uri": "https://localhost:8080/",
          "height": 80
        }
      },
      "source": [
        "learn.unfreeze()\n",
        "learn.fit_one_cycle(1, slice(2e-3/100, 2e-3))"
      ],
      "execution_count": 28,
      "outputs": [
        {
          "output_type": "display_data",
          "data": {
            "text/html": [
              "<table border=\"1\" class=\"dataframe\">\n",
              "  <thead>\n",
              "    <tr style=\"text-align: left;\">\n",
              "      <th>epoch</th>\n",
              "      <th>train_loss</th>\n",
              "      <th>valid_loss</th>\n",
              "      <th>accuracy</th>\n",
              "      <th>time</th>\n",
              "    </tr>\n",
              "  </thead>\n",
              "  <tbody>\n",
              "    <tr>\n",
              "      <td>0</td>\n",
              "      <td>2.472293</td>\n",
              "      <td>2.749774</td>\n",
              "      <td>0.527811</td>\n",
              "      <td>02:58</td>\n",
              "    </tr>\n",
              "  </tbody>\n",
              "</table>"
            ],
            "text/plain": [
              "<IPython.core.display.HTML object>"
            ]
          },
          "metadata": {
            "tags": []
          }
        }
      ]
    },
    {
      "cell_type": "code",
      "metadata": {
        "id": "lqAyu56V8Waq",
        "outputId": "11c4e8f2-37df-4944-b1fe-6560ac661c6e",
        "colab": {
          "base_uri": "https://localhost:8080/",
          "height": 111
        }
      },
      "source": [
        "learn.fit_one_cycle(2, slice(2e-3/100, 2e-3))"
      ],
      "execution_count": 29,
      "outputs": [
        {
          "output_type": "display_data",
          "data": {
            "text/html": [
              "<table border=\"1\" class=\"dataframe\">\n",
              "  <thead>\n",
              "    <tr style=\"text-align: left;\">\n",
              "      <th>epoch</th>\n",
              "      <th>train_loss</th>\n",
              "      <th>valid_loss</th>\n",
              "      <th>accuracy</th>\n",
              "      <th>time</th>\n",
              "    </tr>\n",
              "  </thead>\n",
              "  <tbody>\n",
              "    <tr>\n",
              "      <td>0</td>\n",
              "      <td>2.049545</td>\n",
              "      <td>2.368714</td>\n",
              "      <td>0.592899</td>\n",
              "      <td>03:27</td>\n",
              "    </tr>\n",
              "    <tr>\n",
              "      <td>1</td>\n",
              "      <td>1.760231</td>\n",
              "      <td>2.224136</td>\n",
              "      <td>0.616568</td>\n",
              "      <td>03:15</td>\n",
              "    </tr>\n",
              "  </tbody>\n",
              "</table>"
            ],
            "text/plain": [
              "<IPython.core.display.HTML object>"
            ]
          },
          "metadata": {
            "tags": []
          }
        }
      ]
    },
    {
      "cell_type": "code",
      "metadata": {
        "id": "a7I1xMRp8bUd",
        "outputId": "69284b41-1455-4c2a-a1aa-70244fa10e1f",
        "colab": {
          "base_uri": "https://localhost:8080/",
          "height": 111
        }
      },
      "source": [
        "learn.fit_one_cycle(2, slice(2e-3/100, 2e-3))"
      ],
      "execution_count": 30,
      "outputs": [
        {
          "output_type": "display_data",
          "data": {
            "text/html": [
              "<table border=\"1\" class=\"dataframe\">\n",
              "  <thead>\n",
              "    <tr style=\"text-align: left;\">\n",
              "      <th>epoch</th>\n",
              "      <th>train_loss</th>\n",
              "      <th>valid_loss</th>\n",
              "      <th>accuracy</th>\n",
              "      <th>time</th>\n",
              "    </tr>\n",
              "  </thead>\n",
              "  <tbody>\n",
              "    <tr>\n",
              "      <td>0</td>\n",
              "      <td>1.690487</td>\n",
              "      <td>2.034134</td>\n",
              "      <td>0.656805</td>\n",
              "      <td>02:57</td>\n",
              "    </tr>\n",
              "    <tr>\n",
              "      <td>1</td>\n",
              "      <td>1.391445</td>\n",
              "      <td>1.894239</td>\n",
              "      <td>0.679290</td>\n",
              "      <td>02:59</td>\n",
              "    </tr>\n",
              "  </tbody>\n",
              "</table>"
            ],
            "text/plain": [
              "<IPython.core.display.HTML object>"
            ]
          },
          "metadata": {
            "tags": []
          }
        }
      ]
    },
    {
      "cell_type": "code",
      "metadata": {
        "id": "UAnti-XmGVfO",
        "outputId": "6c3db9a3-20be-4619-e162-b06722acf30d",
        "colab": {
          "base_uri": "https://localhost:8080/",
          "height": 111
        }
      },
      "source": [
        "learn.fit_one_cycle(2, slice(2e-3/100, 2e-3))"
      ],
      "execution_count": 31,
      "outputs": [
        {
          "output_type": "display_data",
          "data": {
            "text/html": [
              "<table border=\"1\" class=\"dataframe\">\n",
              "  <thead>\n",
              "    <tr style=\"text-align: left;\">\n",
              "      <th>epoch</th>\n",
              "      <th>train_loss</th>\n",
              "      <th>valid_loss</th>\n",
              "      <th>accuracy</th>\n",
              "      <th>time</th>\n",
              "    </tr>\n",
              "  </thead>\n",
              "  <tbody>\n",
              "    <tr>\n",
              "      <td>0</td>\n",
              "      <td>1.277260</td>\n",
              "      <td>1.846278</td>\n",
              "      <td>0.684024</td>\n",
              "      <td>03:09</td>\n",
              "    </tr>\n",
              "    <tr>\n",
              "      <td>1</td>\n",
              "      <td>1.140499</td>\n",
              "      <td>1.723174</td>\n",
              "      <td>0.694675</td>\n",
              "      <td>03:29</td>\n",
              "    </tr>\n",
              "  </tbody>\n",
              "</table>"
            ],
            "text/plain": [
              "<IPython.core.display.HTML object>"
            ]
          },
          "metadata": {
            "tags": []
          }
        }
      ]
    },
    {
      "cell_type": "code",
      "metadata": {
        "id": "bIft7W25GwSu",
        "outputId": "f1b76312-317c-4bfa-ccdf-d6c4833767db",
        "colab": {
          "base_uri": "https://localhost:8080/",
          "height": 111
        }
      },
      "source": [
        "learn.fit_one_cycle(2, slice(2e-3/100, 2e-3))"
      ],
      "execution_count": 32,
      "outputs": [
        {
          "output_type": "display_data",
          "data": {
            "text/html": [
              "<table border=\"1\" class=\"dataframe\">\n",
              "  <thead>\n",
              "    <tr style=\"text-align: left;\">\n",
              "      <th>epoch</th>\n",
              "      <th>train_loss</th>\n",
              "      <th>valid_loss</th>\n",
              "      <th>accuracy</th>\n",
              "      <th>time</th>\n",
              "    </tr>\n",
              "  </thead>\n",
              "  <tbody>\n",
              "    <tr>\n",
              "      <td>0</td>\n",
              "      <td>1.054686</td>\n",
              "      <td>1.626434</td>\n",
              "      <td>0.717160</td>\n",
              "      <td>03:06</td>\n",
              "    </tr>\n",
              "    <tr>\n",
              "      <td>1</td>\n",
              "      <td>0.847290</td>\n",
              "      <td>1.607215</td>\n",
              "      <td>0.725444</td>\n",
              "      <td>03:07</td>\n",
              "    </tr>\n",
              "  </tbody>\n",
              "</table>"
            ],
            "text/plain": [
              "<IPython.core.display.HTML object>"
            ]
          },
          "metadata": {
            "tags": []
          }
        }
      ]
    },
    {
      "cell_type": "code",
      "metadata": {
        "id": "EEHszVRvGyFt",
        "outputId": "6a1295e5-d040-43c5-ca2d-220d2a5ba017",
        "colab": {
          "base_uri": "https://localhost:8080/",
          "height": 111
        }
      },
      "source": [
        "learn.fit_one_cycle(2, slice(2e-3/100, 2e-3))"
      ],
      "execution_count": 33,
      "outputs": [
        {
          "output_type": "display_data",
          "data": {
            "text/html": [
              "<table border=\"1\" class=\"dataframe\">\n",
              "  <thead>\n",
              "    <tr style=\"text-align: left;\">\n",
              "      <th>epoch</th>\n",
              "      <th>train_loss</th>\n",
              "      <th>valid_loss</th>\n",
              "      <th>accuracy</th>\n",
              "      <th>time</th>\n",
              "    </tr>\n",
              "  </thead>\n",
              "  <tbody>\n",
              "    <tr>\n",
              "      <td>0</td>\n",
              "      <td>0.864755</td>\n",
              "      <td>1.531038</td>\n",
              "      <td>0.727811</td>\n",
              "      <td>03:24</td>\n",
              "    </tr>\n",
              "    <tr>\n",
              "      <td>1</td>\n",
              "      <td>0.767018</td>\n",
              "      <td>1.460214</td>\n",
              "      <td>0.744379</td>\n",
              "      <td>02:57</td>\n",
              "    </tr>\n",
              "  </tbody>\n",
              "</table>"
            ],
            "text/plain": [
              "<IPython.core.display.HTML object>"
            ]
          },
          "metadata": {
            "tags": []
          }
        }
      ]
    },
    {
      "cell_type": "code",
      "metadata": {
        "id": "XsHfrhCHG3dN",
        "outputId": "d67fc40c-56fb-49ba-facb-ea407922a23c",
        "colab": {
          "base_uri": "https://localhost:8080/",
          "height": 173
        }
      },
      "source": [
        "learn.fit_one_cycle(4, slice(2e-3/100, 2e-3))"
      ],
      "execution_count": 34,
      "outputs": [
        {
          "output_type": "display_data",
          "data": {
            "text/html": [
              "<table border=\"1\" class=\"dataframe\">\n",
              "  <thead>\n",
              "    <tr style=\"text-align: left;\">\n",
              "      <th>epoch</th>\n",
              "      <th>train_loss</th>\n",
              "      <th>valid_loss</th>\n",
              "      <th>accuracy</th>\n",
              "      <th>time</th>\n",
              "    </tr>\n",
              "  </thead>\n",
              "  <tbody>\n",
              "    <tr>\n",
              "      <td>0</td>\n",
              "      <td>0.681233</td>\n",
              "      <td>1.518233</td>\n",
              "      <td>0.749112</td>\n",
              "      <td>03:07</td>\n",
              "    </tr>\n",
              "    <tr>\n",
              "      <td>1</td>\n",
              "      <td>0.659480</td>\n",
              "      <td>1.456462</td>\n",
              "      <td>0.749112</td>\n",
              "      <td>03:01</td>\n",
              "    </tr>\n",
              "    <tr>\n",
              "      <td>2</td>\n",
              "      <td>0.559735</td>\n",
              "      <td>1.388473</td>\n",
              "      <td>0.766864</td>\n",
              "      <td>03:18</td>\n",
              "    </tr>\n",
              "    <tr>\n",
              "      <td>3</td>\n",
              "      <td>0.495973</td>\n",
              "      <td>1.344432</td>\n",
              "      <td>0.770414</td>\n",
              "      <td>03:25</td>\n",
              "    </tr>\n",
              "  </tbody>\n",
              "</table>"
            ],
            "text/plain": [
              "<IPython.core.display.HTML object>"
            ]
          },
          "metadata": {
            "tags": []
          }
        }
      ]
    },
    {
      "cell_type": "code",
      "metadata": {
        "id": "0Zsd99isb9EQ",
        "outputId": "ddd6635e-1c7d-49bd-c025-1a5177911b88",
        "colab": {
          "base_uri": "https://localhost:8080/",
          "height": 173
        }
      },
      "source": [
        "learn.fit_one_cycle(4, slice(2e-3/100, 2e-3))"
      ],
      "execution_count": 35,
      "outputs": [
        {
          "output_type": "display_data",
          "data": {
            "text/html": [
              "<table border=\"1\" class=\"dataframe\">\n",
              "  <thead>\n",
              "    <tr style=\"text-align: left;\">\n",
              "      <th>epoch</th>\n",
              "      <th>train_loss</th>\n",
              "      <th>valid_loss</th>\n",
              "      <th>accuracy</th>\n",
              "      <th>time</th>\n",
              "    </tr>\n",
              "  </thead>\n",
              "  <tbody>\n",
              "    <tr>\n",
              "      <td>0</td>\n",
              "      <td>0.526876</td>\n",
              "      <td>1.367100</td>\n",
              "      <td>0.776331</td>\n",
              "      <td>03:23</td>\n",
              "    </tr>\n",
              "    <tr>\n",
              "      <td>1</td>\n",
              "      <td>0.521110</td>\n",
              "      <td>1.359619</td>\n",
              "      <td>0.768047</td>\n",
              "      <td>03:10</td>\n",
              "    </tr>\n",
              "    <tr>\n",
              "      <td>2</td>\n",
              "      <td>0.427376</td>\n",
              "      <td>1.325014</td>\n",
              "      <td>0.781065</td>\n",
              "      <td>03:26</td>\n",
              "    </tr>\n",
              "    <tr>\n",
              "      <td>3</td>\n",
              "      <td>0.391441</td>\n",
              "      <td>1.285215</td>\n",
              "      <td>0.788166</td>\n",
              "      <td>03:26</td>\n",
              "    </tr>\n",
              "  </tbody>\n",
              "</table>"
            ],
            "text/plain": [
              "<IPython.core.display.HTML object>"
            ]
          },
          "metadata": {
            "tags": []
          }
        }
      ]
    },
    {
      "cell_type": "code",
      "metadata": {
        "id": "atNWNKDFPbuI",
        "outputId": "dd6b4f18-506e-4093-d750-8fcc50d4ec93",
        "colab": {
          "base_uri": "https://localhost:8080/",
          "height": 173
        }
      },
      "source": [
        "learn.fit_one_cycle(4, slice(2e-3/100, 2e-3))"
      ],
      "execution_count": 36,
      "outputs": [
        {
          "output_type": "display_data",
          "data": {
            "text/html": [
              "<table border=\"1\" class=\"dataframe\">\n",
              "  <thead>\n",
              "    <tr style=\"text-align: left;\">\n",
              "      <th>epoch</th>\n",
              "      <th>train_loss</th>\n",
              "      <th>valid_loss</th>\n",
              "      <th>accuracy</th>\n",
              "      <th>time</th>\n",
              "    </tr>\n",
              "  </thead>\n",
              "  <tbody>\n",
              "    <tr>\n",
              "      <td>0</td>\n",
              "      <td>0.403187</td>\n",
              "      <td>1.280462</td>\n",
              "      <td>0.790533</td>\n",
              "      <td>03:06</td>\n",
              "    </tr>\n",
              "    <tr>\n",
              "      <td>1</td>\n",
              "      <td>0.444668</td>\n",
              "      <td>1.311934</td>\n",
              "      <td>0.784615</td>\n",
              "      <td>03:07</td>\n",
              "    </tr>\n",
              "    <tr>\n",
              "      <td>2</td>\n",
              "      <td>0.364159</td>\n",
              "      <td>1.309625</td>\n",
              "      <td>0.789349</td>\n",
              "      <td>03:12</td>\n",
              "    </tr>\n",
              "    <tr>\n",
              "      <td>3</td>\n",
              "      <td>0.312026</td>\n",
              "      <td>1.299134</td>\n",
              "      <td>0.792899</td>\n",
              "      <td>03:05</td>\n",
              "    </tr>\n",
              "  </tbody>\n",
              "</table>"
            ],
            "text/plain": [
              "<IPython.core.display.HTML object>"
            ]
          },
          "metadata": {
            "tags": []
          }
        }
      ]
    },
    {
      "cell_type": "code",
      "metadata": {
        "id": "rKrBTZ0T1uVA",
        "outputId": "e2bda22d-6ea4-4622-97a9-6f1602d7270b",
        "colab": {
          "base_uri": "https://localhost:8080/",
          "height": 173
        }
      },
      "source": [
        "learn.fit_one_cycle(4, slice(2e-3/100, 2e-3))"
      ],
      "execution_count": 37,
      "outputs": [
        {
          "output_type": "display_data",
          "data": {
            "text/html": [
              "<table border=\"1\" class=\"dataframe\">\n",
              "  <thead>\n",
              "    <tr style=\"text-align: left;\">\n",
              "      <th>epoch</th>\n",
              "      <th>train_loss</th>\n",
              "      <th>valid_loss</th>\n",
              "      <th>accuracy</th>\n",
              "      <th>time</th>\n",
              "    </tr>\n",
              "  </thead>\n",
              "  <tbody>\n",
              "    <tr>\n",
              "      <td>0</td>\n",
              "      <td>0.314369</td>\n",
              "      <td>1.354648</td>\n",
              "      <td>0.785799</td>\n",
              "      <td>03:18</td>\n",
              "    </tr>\n",
              "    <tr>\n",
              "      <td>1</td>\n",
              "      <td>0.351012</td>\n",
              "      <td>1.300963</td>\n",
              "      <td>0.801183</td>\n",
              "      <td>03:17</td>\n",
              "    </tr>\n",
              "    <tr>\n",
              "      <td>2</td>\n",
              "      <td>0.330495</td>\n",
              "      <td>1.321374</td>\n",
              "      <td>0.789349</td>\n",
              "      <td>03:18</td>\n",
              "    </tr>\n",
              "    <tr>\n",
              "      <td>3</td>\n",
              "      <td>0.283324</td>\n",
              "      <td>1.331017</td>\n",
              "      <td>0.796450</td>\n",
              "      <td>03:16</td>\n",
              "    </tr>\n",
              "  </tbody>\n",
              "</table>"
            ],
            "text/plain": [
              "<IPython.core.display.HTML object>"
            ]
          },
          "metadata": {
            "tags": []
          }
        }
      ]
    },
    {
      "cell_type": "code",
      "metadata": {
        "id": "ajQC6WDg1yA9",
        "outputId": "666d25da-3eba-4048-e7f1-50e125184968",
        "colab": {
          "base_uri": "https://localhost:8080/",
          "height": 173
        }
      },
      "source": [
        "learn.fit_one_cycle(4, slice(2e-3/100, 2e-3))"
      ],
      "execution_count": 38,
      "outputs": [
        {
          "output_type": "display_data",
          "data": {
            "text/html": [
              "<table border=\"1\" class=\"dataframe\">\n",
              "  <thead>\n",
              "    <tr style=\"text-align: left;\">\n",
              "      <th>epoch</th>\n",
              "      <th>train_loss</th>\n",
              "      <th>valid_loss</th>\n",
              "      <th>accuracy</th>\n",
              "      <th>time</th>\n",
              "    </tr>\n",
              "  </thead>\n",
              "  <tbody>\n",
              "    <tr>\n",
              "      <td>0</td>\n",
              "      <td>0.283247</td>\n",
              "      <td>1.342293</td>\n",
              "      <td>0.791716</td>\n",
              "      <td>03:01</td>\n",
              "    </tr>\n",
              "    <tr>\n",
              "      <td>1</td>\n",
              "      <td>0.284032</td>\n",
              "      <td>1.432668</td>\n",
              "      <td>0.797633</td>\n",
              "      <td>03:26</td>\n",
              "    </tr>\n",
              "    <tr>\n",
              "      <td>2</td>\n",
              "      <td>0.262440</td>\n",
              "      <td>1.356696</td>\n",
              "      <td>0.798817</td>\n",
              "      <td>03:11</td>\n",
              "    </tr>\n",
              "    <tr>\n",
              "      <td>3</td>\n",
              "      <td>0.218990</td>\n",
              "      <td>1.365175</td>\n",
              "      <td>0.807101</td>\n",
              "      <td>03:21</td>\n",
              "    </tr>\n",
              "  </tbody>\n",
              "</table>"
            ],
            "text/plain": [
              "<IPython.core.display.HTML object>"
            ]
          },
          "metadata": {
            "tags": []
          }
        }
      ]
    },
    {
      "cell_type": "code",
      "metadata": {
        "id": "KKydb0B4BKGk",
        "outputId": "fb25fc7d-44af-4757-8e02-f0e8a0878a13",
        "colab": {
          "base_uri": "https://localhost:8080/",
          "height": 173
        }
      },
      "source": [
        "learn.fit_one_cycle(4, slice(2e-3/100, 2e-3))"
      ],
      "execution_count": 39,
      "outputs": [
        {
          "output_type": "display_data",
          "data": {
            "text/html": [
              "<table border=\"1\" class=\"dataframe\">\n",
              "  <thead>\n",
              "    <tr style=\"text-align: left;\">\n",
              "      <th>epoch</th>\n",
              "      <th>train_loss</th>\n",
              "      <th>valid_loss</th>\n",
              "      <th>accuracy</th>\n",
              "      <th>time</th>\n",
              "    </tr>\n",
              "  </thead>\n",
              "  <tbody>\n",
              "    <tr>\n",
              "      <td>0</td>\n",
              "      <td>0.238068</td>\n",
              "      <td>1.369666</td>\n",
              "      <td>0.796450</td>\n",
              "      <td>03:08</td>\n",
              "    </tr>\n",
              "    <tr>\n",
              "      <td>1</td>\n",
              "      <td>0.286381</td>\n",
              "      <td>1.418999</td>\n",
              "      <td>0.798817</td>\n",
              "      <td>03:23</td>\n",
              "    </tr>\n",
              "    <tr>\n",
              "      <td>2</td>\n",
              "      <td>0.245509</td>\n",
              "      <td>1.354694</td>\n",
              "      <td>0.797633</td>\n",
              "      <td>03:30</td>\n",
              "    </tr>\n",
              "    <tr>\n",
              "      <td>3</td>\n",
              "      <td>0.218329</td>\n",
              "      <td>1.385682</td>\n",
              "      <td>0.801183</td>\n",
              "      <td>03:24</td>\n",
              "    </tr>\n",
              "  </tbody>\n",
              "</table>"
            ],
            "text/plain": [
              "<IPython.core.display.HTML object>"
            ]
          },
          "metadata": {
            "tags": []
          }
        }
      ]
    },
    {
      "cell_type": "code",
      "metadata": {
        "id": "T2APKtFKBpGY",
        "outputId": "c95d5339-0036-43ef-eff0-d31886808fa0",
        "colab": {
          "base_uri": "https://localhost:8080/",
          "height": 173
        }
      },
      "source": [
        "learn.fit_one_cycle(4, slice(2e-3/100, 2e-3))"
      ],
      "execution_count": 40,
      "outputs": [
        {
          "output_type": "display_data",
          "data": {
            "text/html": [
              "<table border=\"1\" class=\"dataframe\">\n",
              "  <thead>\n",
              "    <tr style=\"text-align: left;\">\n",
              "      <th>epoch</th>\n",
              "      <th>train_loss</th>\n",
              "      <th>valid_loss</th>\n",
              "      <th>accuracy</th>\n",
              "      <th>time</th>\n",
              "    </tr>\n",
              "  </thead>\n",
              "  <tbody>\n",
              "    <tr>\n",
              "      <td>0</td>\n",
              "      <td>0.212873</td>\n",
              "      <td>1.449694</td>\n",
              "      <td>0.802367</td>\n",
              "      <td>03:06</td>\n",
              "    </tr>\n",
              "    <tr>\n",
              "      <td>1</td>\n",
              "      <td>0.240484</td>\n",
              "      <td>1.410951</td>\n",
              "      <td>0.801183</td>\n",
              "      <td>03:18</td>\n",
              "    </tr>\n",
              "    <tr>\n",
              "      <td>2</td>\n",
              "      <td>0.220020</td>\n",
              "      <td>1.427463</td>\n",
              "      <td>0.803550</td>\n",
              "      <td>03:14</td>\n",
              "    </tr>\n",
              "    <tr>\n",
              "      <td>3</td>\n",
              "      <td>0.211515</td>\n",
              "      <td>1.370268</td>\n",
              "      <td>0.800000</td>\n",
              "      <td>03:11</td>\n",
              "    </tr>\n",
              "  </tbody>\n",
              "</table>"
            ],
            "text/plain": [
              "<IPython.core.display.HTML object>"
            ]
          },
          "metadata": {
            "tags": []
          }
        }
      ]
    },
    {
      "cell_type": "code",
      "metadata": {
        "id": "qtTypA1sPgLU",
        "outputId": "7f06a771-f561-44ad-ee80-0cce31623407",
        "colab": {
          "base_uri": "https://localhost:8080/",
          "height": 111
        }
      },
      "source": [
        "learn.fit_one_cycle(2, slice(2e-3/100, 2e-3))"
      ],
      "execution_count": 41,
      "outputs": [
        {
          "output_type": "display_data",
          "data": {
            "text/html": [
              "<table border=\"1\" class=\"dataframe\">\n",
              "  <thead>\n",
              "    <tr style=\"text-align: left;\">\n",
              "      <th>epoch</th>\n",
              "      <th>train_loss</th>\n",
              "      <th>valid_loss</th>\n",
              "      <th>accuracy</th>\n",
              "      <th>time</th>\n",
              "    </tr>\n",
              "  </thead>\n",
              "  <tbody>\n",
              "    <tr>\n",
              "      <td>0</td>\n",
              "      <td>0.190664</td>\n",
              "      <td>1.443173</td>\n",
              "      <td>0.800000</td>\n",
              "      <td>03:00</td>\n",
              "    </tr>\n",
              "    <tr>\n",
              "      <td>1</td>\n",
              "      <td>0.203093</td>\n",
              "      <td>1.431597</td>\n",
              "      <td>0.805917</td>\n",
              "      <td>03:05</td>\n",
              "    </tr>\n",
              "  </tbody>\n",
              "</table>"
            ],
            "text/plain": [
              "<IPython.core.display.HTML object>"
            ]
          },
          "metadata": {
            "tags": []
          }
        }
      ]
    },
    {
      "cell_type": "code",
      "metadata": {
        "id": "b242kBsTUp9Y",
        "outputId": "9ecc663d-8891-46e9-c088-7adbf51b0b83",
        "colab": {
          "base_uri": "https://localhost:8080/",
          "height": 111
        }
      },
      "source": [
        "learn.fit_one_cycle(2, slice(2e-3/100, 2e-3))"
      ],
      "execution_count": 42,
      "outputs": [
        {
          "output_type": "display_data",
          "data": {
            "text/html": [
              "<table border=\"1\" class=\"dataframe\">\n",
              "  <thead>\n",
              "    <tr style=\"text-align: left;\">\n",
              "      <th>epoch</th>\n",
              "      <th>train_loss</th>\n",
              "      <th>valid_loss</th>\n",
              "      <th>accuracy</th>\n",
              "      <th>time</th>\n",
              "    </tr>\n",
              "  </thead>\n",
              "  <tbody>\n",
              "    <tr>\n",
              "      <td>0</td>\n",
              "      <td>0.216603</td>\n",
              "      <td>1.484725</td>\n",
              "      <td>0.798817</td>\n",
              "      <td>03:14</td>\n",
              "    </tr>\n",
              "    <tr>\n",
              "      <td>1</td>\n",
              "      <td>0.189001</td>\n",
              "      <td>1.534207</td>\n",
              "      <td>0.801183</td>\n",
              "      <td>03:09</td>\n",
              "    </tr>\n",
              "  </tbody>\n",
              "</table>"
            ],
            "text/plain": [
              "<IPython.core.display.HTML object>"
            ]
          },
          "metadata": {
            "tags": []
          }
        }
      ]
    },
    {
      "cell_type": "code",
      "metadata": {
        "id": "Duwf1Ih5VeDZ",
        "outputId": "69c216c0-b94d-4733-8e92-89b9cf198154",
        "colab": {
          "base_uri": "https://localhost:8080/",
          "height": 80
        }
      },
      "source": [
        "learn.fit_one_cycle(1, slice(2e-3/100, 2e-3))"
      ],
      "execution_count": 43,
      "outputs": [
        {
          "output_type": "display_data",
          "data": {
            "text/html": [
              "<table border=\"1\" class=\"dataframe\">\n",
              "  <thead>\n",
              "    <tr style=\"text-align: left;\">\n",
              "      <th>epoch</th>\n",
              "      <th>train_loss</th>\n",
              "      <th>valid_loss</th>\n",
              "      <th>accuracy</th>\n",
              "      <th>time</th>\n",
              "    </tr>\n",
              "  </thead>\n",
              "  <tbody>\n",
              "    <tr>\n",
              "      <td>0</td>\n",
              "      <td>0.190320</td>\n",
              "      <td>1.409922</td>\n",
              "      <td>0.801183</td>\n",
              "      <td>03:31</td>\n",
              "    </tr>\n",
              "  </tbody>\n",
              "</table>"
            ],
            "text/plain": [
              "<IPython.core.display.HTML object>"
            ]
          },
          "metadata": {
            "tags": []
          }
        }
      ]
    },
    {
      "cell_type": "code",
      "metadata": {
        "id": "c65d-osfDUXm"
      },
      "source": [
        "# save the best model\n",
        "\n",
        "learn.save_encoder('cadec_ask_mixed_fold0')"
      ],
      "execution_count": 44,
      "outputs": []
    },
    {
      "cell_type": "markdown",
      "metadata": {
        "id": "rCwZU0E2RgM6"
      },
      "source": [
        "# Part three: Predict on the test dataset"
      ]
    },
    {
      "cell_type": "code",
      "metadata": {
        "id": "gDm72c-dOu7d",
        "outputId": "f5a31687-8e0a-409b-e11e-9f9748c2e7c4",
        "colab": {
          "base_uri": "https://localhost:8080/",
          "height": 17
        }
      },
      "source": [
        "# use the test data for prediction\n",
        "\n",
        "preds, y = learn.get_preds(DatasetType.Test)"
      ],
      "execution_count": 45,
      "outputs": [
        {
          "output_type": "display_data",
          "data": {
            "text/html": [
              ""
            ],
            "text/plain": [
              "<IPython.core.display.HTML object>"
            ]
          },
          "metadata": {
            "tags": []
          }
        }
      ]
    },
    {
      "cell_type": "code",
      "metadata": {
        "id": "6tFSQcsWPvxn",
        "outputId": "d4f98355-15bd-4e68-f761-42fda9f0dcf4",
        "colab": {
          "base_uri": "https://localhost:8080/",
          "height": 105
        }
      },
      "source": [
        "predictions, *_ = learn.get_preds(DatasetType.Test)\n",
        "labels = np.argmax(predictions, 1)\n",
        "predict_list = labels.tolist()\n",
        "standard_list = test[0].tolist()\n",
        "\n",
        "print(len(predict_list))\n",
        "print(len(standard_list))\n",
        "\n",
        "print(predict_list)\n",
        "print(standard_list)"
      ],
      "execution_count": 46,
      "outputs": [
        {
          "output_type": "display_data",
          "data": {
            "text/html": [
              ""
            ],
            "text/plain": [
              "<IPython.core.display.HTML object>"
            ]
          },
          "metadata": {
            "tags": []
          }
        },
        {
          "output_type": "stream",
          "text": [
            "867\n",
            "867\n",
            "[780, 2, 876, 169, 5, 8, 8, 8, 8, 8, 8, 8, 447, 5, 1007, 22, 589, 27, 27, 28, 29, 30, 211, 30, 31, 31, 32, 34, 194, 37, 37, 741, 37, 37, 37, 37, 791, 44, 629, 49, 49, 49, 49, 49, 49, 49, 49, 49, 49, 100, 100, 100, 100, 100, 53, 629, 58, 430, 71, 71, 74, 76, 76, 717, 79, 79, 79, 614, 719, 939, 79, 79, 79, 79, 79, 79, 79, 79, 79, 79, 79, 79, 79, 79, 79, 79, 79, 79, 79, 79, 79, 79, 79, 79, 79, 79, 111, 289, 79, 79, 80, 80, 80, 80, 80, 553, 553, 553, 80, 88, 89, 89, 137, 90, 91, 92, 94, 94, 94, 94, 94, 94, 94, 94, 96, 96, 29, 683, 39, 337, 368, 337, 100, 337, 100, 100, 100, 337, 337, 405, 314, 656, 108, 108, 209, 111, 111, 111, 111, 15, 111, 111, 117, 142, 629, 629, 122, 125, 954, 125, 125, 125, 125, 125, 125, 125, 125, 125, 125, 127, 129, 131, 745, 142, 142, 144, 598, 827, 151, 151, 153, 144, 157, 158, 178, 165, 166, 771, 166, 405, 172, 172, 172, 172, 172, 172, 172, 909, 524, 182, 182, 182, 182, 182, 183, 183, 183, 183, 183, 183, 183, 183, 183, 183, 183, 183, 183, 184, 184, 185, 187, 187, 125, 189, 189, 604, 190, 190, 190, 190, 190, 193, 34, 34, 96, 1005, 210, 210, 210, 34, 214, 214, 214, 471, 214, 214, 214, 214, 214, 214, 214, 214, 214, 905, 216, 629, 218, 218, 220, 220, 220, 220, 220, 222, 226, 228, 8, 228, 381, 228, 228, 228, 228, 228, 544, 234, 234, 125, 217, 115, 238, 962, 987, 198, 243, 243, 243, 243, 243, 244, 245, 245, 245, 764, 245, 723, 245, 245, 245, 646, 246, 246, 246, 247, 254, 254, 259, 260, 26, 262, 265, 130, 265, 265, 471, 265, 402, 265, 265, 265, 265, 265, 265, 265, 265, 265, 265, 265, 265, 265, 265, 265, 265, 265, 265, 137, 137, 137, 269, 270, 216, 276, 277, 714, 289, 289, 289, 289, 289, 419, 522, 289, 289, 289, 289, 289, 260, 289, 289, 289, 289, 289, 651, 364, 541, 651, 877, 787, 220, 220, 265, 780, 475, 397, 308, 309, 309, 309, 309, 310, 309, 750, 318, 318, 318, 359, 79, 146, 62, 321, 509, 371, 323, 815, 384, 325, 325, 325, 325, 325, 325, 325, 325, 325, 325, 999, 325, 815, 326, 430, 203, 334, 335, 336, 337, 337, 337, 337, 338, 343, 144, 272, 359, 359, 360, 360, 363, 363, 289, 364, 364, 364, 14, 371, 208, 444, 396, 358, 402, 405, 801, 418, 419, 419, 419, 419, 419, 419, 419, 419, 419, 76, 424, 426, 426, 427, 427, 427, 427, 427, 427, 427, 853, 1, 607, 427, 427, 591, 736, 430, 376, 238, 435, 442, 444, 444, 391, 455, 455, 455, 462, 524, 474, 475, 475, 475, 475, 158, 694, 483, 489, 491, 491, 664, 473, 492, 492, 499, 288, 162, 509, 516, 516, 517, 987, 517, 521, 524, 527, 862, 530, 530, 530, 530, 531, 535, 541, 541, 318, 291, 546, 548, 548, 548, 548, 548, 548, 111, 190, 567, 301, 58, 578, 579, 579, 584, 510, 289, 590, 590, 590, 592, 595, 597, 597, 491, 120, 704, 228, 607, 608, 610, 610, 610, 340, 76, 614, 614, 614, 619, 619, 619, 623, 623, 624, 633, 633, 638, 644, 644, 646, 646, 646, 646, 646, 648, 728, 651, 652, 652, 652, 652, 652, 652, 662, 662, 491, 662, 491, 665, 437, 666, 562, 676, 274, 827, 686, 185, 926, 693, 693, 698, 651, 172, 190, 190, 707, 710, 711, 639, 870, 466, 521, 289, 745, 746, 541, 746, 405, 746, 749, 753, 753, 794, 607, 773, 775, 775, 775, 775, 344, 787, 318, 473, 598, 804, 805, 805, 496, 531, 809, 809, 809, 575, 810, 317, 815, 614, 824, 377, 826, 828, 508, 830, 529, 830, 830, 830, 830, 202, 840, 840, 769, 847, 847, 847, 847, 45, 540, 852, 852, 853, 853, 853, 853, 853, 853, 853, 706, 864, 111, 130, 662, 473, 614, 868, 33, 874, 245, 876, 888, 391, 896, 896, 896, 896, 896, 775, 328, 902, 37, 905, 906, 466, 916, 917, 919, 919, 913, 929, 629, 933, 936, 937, 937, 937, 937, 937, 937, 937, 941, 941, 719, 947, 529, 949, 949, 949, 949, 949, 949, 949, 949, 949, 949, 949, 949, 949, 949, 949, 949, 949, 949, 949, 949, 949, 949, 949, 949, 949, 949, 949, 949, 949, 949, 949, 949, 949, 949, 949, 949, 949, 949, 949, 949, 949, 949, 949, 949, 949, 949, 949, 949, 949, 949, 949, 949, 949, 949, 949, 949, 949, 949, 949, 949, 949, 949, 949, 949, 949, 949, 949, 949, 949, 949, 973, 954, 949, 949, 949, 949, 949, 949, 949, 949, 949, 949, 949, 949, 949, 949, 949, 949, 949, 949, 949, 949, 949, 949, 949, 949, 949, 949, 949, 949, 949, 949, 949, 949, 949, 949, 949, 949, 949, 949, 950, 950, 950, 950, 952, 952, 955, 956, 956, 964, 964, 967, 967, 967, 977, 913, 1001, 1001, 1002, 1011, 1017, 1020, 1023, 1022, 1026, 1026, 1028, 1028, 1028, 1028, 133, 1035]\n",
            "[0, 2, 3, 5, 5, 8, 8, 8, 8, 8, 8, 8, 14, 18, 21, 22, 22, 27, 27, 28, 29, 30, 30, 30, 31, 31, 32, 34, 34, 37, 37, 37, 37, 37, 37, 37, 38, 44, 47, 49, 49, 49, 49, 49, 49, 49, 49, 49, 49, 49, 49, 49, 49, 49, 53, 53, 58, 61, 71, 71, 74, 76, 76, 77, 79, 79, 79, 79, 79, 79, 79, 79, 79, 79, 79, 79, 79, 79, 79, 79, 79, 79, 79, 79, 79, 79, 79, 79, 79, 79, 79, 79, 79, 79, 79, 79, 79, 79, 79, 79, 80, 80, 80, 80, 80, 80, 80, 80, 80, 88, 89, 89, 89, 90, 91, 92, 94, 94, 94, 94, 94, 94, 94, 94, 96, 96, 98, 98, 98, 100, 100, 100, 100, 100, 100, 100, 100, 100, 100, 101, 102, 108, 108, 108, 109, 111, 111, 111, 111, 111, 111, 111, 117, 120, 120, 120, 122, 125, 125, 125, 125, 125, 125, 125, 125, 125, 125, 125, 125, 127, 129, 131, 132, 142, 142, 144, 150, 150, 151, 151, 153, 157, 157, 158, 165, 165, 166, 166, 166, 168, 172, 172, 172, 172, 172, 172, 172, 180, 182, 182, 182, 182, 182, 182, 183, 183, 183, 183, 183, 183, 183, 183, 183, 183, 183, 183, 183, 184, 184, 185, 187, 187, 187, 189, 189, 190, 190, 190, 190, 190, 190, 193, 197, 197, 205, 210, 210, 210, 210, 214, 214, 214, 214, 214, 214, 214, 214, 214, 214, 214, 214, 214, 214, 216, 216, 218, 218, 218, 220, 220, 220, 220, 220, 222, 226, 228, 228, 228, 228, 228, 228, 228, 228, 228, 229, 234, 234, 235, 238, 238, 238, 240, 243, 243, 243, 243, 243, 243, 243, 244, 245, 245, 245, 245, 245, 245, 245, 245, 245, 246, 246, 246, 246, 249, 254, 254, 259, 260, 261, 262, 265, 265, 265, 265, 265, 265, 265, 265, 265, 265, 265, 265, 265, 265, 265, 265, 265, 265, 265, 265, 265, 265, 265, 265, 265, 268, 268, 268, 269, 270, 271, 276, 277, 288, 289, 289, 289, 289, 289, 289, 289, 289, 289, 289, 289, 289, 289, 289, 289, 289, 289, 289, 289, 289, 291, 293, 295, 299, 300, 300, 301, 301, 301, 304, 308, 309, 309, 309, 309, 309, 309, 317, 318, 318, 318, 318, 318, 318, 320, 321, 321, 323, 323, 325, 325, 325, 325, 325, 325, 325, 325, 325, 325, 325, 325, 325, 325, 325, 326, 327, 333, 334, 335, 336, 337, 337, 337, 337, 338, 343, 344, 347, 359, 359, 360, 360, 363, 363, 364, 364, 364, 364, 365, 380, 388, 392, 396, 402, 402, 405, 416, 418, 419, 419, 419, 419, 419, 419, 419, 419, 419, 419, 424, 426, 426, 427, 427, 427, 427, 427, 427, 427, 427, 427, 427, 427, 427, 427, 428, 430, 433, 434, 435, 443, 444, 444, 444, 455, 455, 455, 462, 465, 474, 475, 475, 475, 475, 476, 482, 483, 489, 491, 491, 491, 491, 492, 492, 499, 505, 509, 509, 516, 516, 517, 517, 517, 521, 524, 527, 529, 530, 530, 530, 530, 531, 535, 541, 541, 543, 543, 546, 548, 548, 548, 548, 548, 548, 565, 566, 567, 577, 577, 578, 579, 579, 584, 586, 588, 590, 590, 591, 592, 595, 597, 597, 598, 598, 606, 606, 607, 608, 610, 610, 610, 611, 614, 614, 614, 614, 619, 619, 619, 623, 623, 624, 633, 633, 638, 644, 644, 646, 646, 646, 646, 646, 648, 648, 651, 652, 652, 652, 652, 652, 652, 662, 662, 662, 662, 663, 663, 663, 666, 669, 681, 683, 686, 686, 687, 689, 693, 693, 698, 700, 700, 701, 703, 707, 710, 711, 715, 718, 731, 733, 741, 745, 746, 746, 746, 746, 746, 749, 753, 753, 756, 763, 771, 775, 775, 775, 775, 782, 787, 794, 794, 800, 804, 805, 805, 807, 809, 809, 809, 809, 810, 810, 813, 815, 816, 824, 826, 826, 828, 829, 830, 830, 830, 830, 830, 830, 834, 840, 840, 840, 847, 847, 847, 847, 847, 847, 852, 852, 853, 853, 853, 853, 853, 853, 853, 861, 864, 864, 864, 865, 865, 867, 868, 871, 874, 876, 876, 888, 892, 896, 896, 896, 896, 896, 896, 898, 902, 903, 905, 906, 908, 916, 917, 919, 919, 920, 929, 931, 933, 936, 937, 937, 937, 937, 937, 937, 937, 941, 941, 944, 947, 948, 949, 949, 949, 949, 949, 949, 949, 949, 949, 949, 949, 949, 949, 949, 949, 949, 949, 949, 949, 949, 949, 949, 949, 949, 949, 949, 949, 949, 949, 949, 949, 949, 949, 949, 949, 949, 949, 949, 949, 949, 949, 949, 949, 949, 949, 949, 949, 949, 949, 949, 949, 949, 949, 949, 949, 949, 949, 949, 949, 949, 949, 949, 949, 949, 949, 949, 949, 949, 949, 949, 949, 949, 949, 949, 949, 949, 949, 949, 949, 949, 949, 949, 949, 949, 949, 949, 949, 949, 949, 949, 949, 949, 949, 949, 949, 949, 949, 949, 949, 949, 949, 949, 949, 949, 949, 949, 949, 949, 949, 949, 950, 950, 950, 950, 952, 952, 955, 956, 956, 964, 964, 967, 967, 967, 977, 1000, 1001, 1001, 1002, 1011, 1017, 1020, 1020, 1022, 1026, 1026, 1028, 1028, 1028, 1028, 1030, 1035]\n"
          ],
          "name": "stdout"
        }
      ]
    },
    {
      "cell_type": "code",
      "metadata": {
        "id": "XIC4zufnMxtq",
        "outputId": "47465465-ed09-4c84-c5af-fc189bc64fd0",
        "colab": {
          "base_uri": "https://localhost:8080/"
        }
      },
      "source": [
        "correct_num = 0\n",
        "\n",
        "for i in range(0, len(standard_list)):\n",
        "  if predict_list[i] == standard_list[i]:\n",
        "    correct_num = correct_num+1\n",
        "  else:\n",
        "    pass\n",
        "print(correct_num)\n",
        "\n",
        "predict_accuracy = correct_num/len(predict_list)\n",
        "print(predict_accuracy)"
      ],
      "execution_count": 47,
      "outputs": [
        {
          "output_type": "stream",
          "text": [
            "644\n",
            "0.7427912341407151\n"
          ],
          "name": "stdout"
        }
      ]
    },
    {
      "cell_type": "code",
      "metadata": {
        "id": "zlKMHp1CIaRJ"
      },
      "source": [
        ""
      ],
      "execution_count": 47,
      "outputs": []
    }
  ]
}