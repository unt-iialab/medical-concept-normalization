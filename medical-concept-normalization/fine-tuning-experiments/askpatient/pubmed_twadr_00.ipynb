{
  "nbformat": 4,
  "nbformat_minor": 0,
  "metadata": {
    "accelerator": "TPU",
    "colab": {
      "name": "pubmed_twadr_00.ipynb",
      "provenance": [],
      "collapsed_sections": [],
      "include_colab_link": true
    },
    "kernelspec": {
      "display_name": "Python 3",
      "name": "python3"
    }
  },
  "cells": [
    {
      "cell_type": "markdown",
      "metadata": {
        "id": "view-in-github",
        "colab_type": "text"
      },
      "source": [
        "<a href=\"https://colab.research.google.com/github/unt-iialab/medical-concept-normalization/blob/master/medical-concept-normalization/fine-tuning-experiments/askpatient/pubmed_twadr_00.ipynb\" target=\"_parent\"><img src=\"https://colab.research.google.com/assets/colab-badge.svg\" alt=\"Open In Colab\"/></a>"
      ]
    },
    {
      "cell_type": "code",
      "metadata": {
        "id": "adSi6i2-dWxy"
      },
      "source": [
        "import os"
      ],
      "execution_count": 1,
      "outputs": []
    },
    {
      "cell_type": "code",
      "metadata": {
        "id": "E7xYCRGPjd9B"
      },
      "source": [
        "base_dir = 'medical-concept-normalization'"
      ],
      "execution_count": 2,
      "outputs": []
    },
    {
      "cell_type": "code",
      "metadata": {
        "id": "yvIW3aUDjYNS"
      },
      "source": [
        "os.mkdir(base_dir)"
      ],
      "execution_count": 3,
      "outputs": []
    },
    {
      "cell_type": "code",
      "metadata": {
        "id": "es-FFLlfk6SG"
      },
      "source": [
        "os.mkdir('medical-concept-normalization/data_collection')"
      ],
      "execution_count": 4,
      "outputs": []
    },
    {
      "cell_type": "markdown",
      "metadata": {
        "id": "0R-Guw_VoJXm"
      },
      "source": [
        "**Install fastai and clone the fastai for text classification**\n",
        "\n"
      ]
    },
    {
      "cell_type": "code",
      "metadata": {
        "id": "QVZa3Z0PmHFH",
        "outputId": "cb14da91-ab4c-4964-ac4d-10d212064d7f",
        "colab": {
          "base_uri": "https://localhost:8080/"
        }
      },
      "source": [
        "!curl https://course-v3.fast.ai/setup/colab | bash"
      ],
      "execution_count": 5,
      "outputs": [
        {
          "output_type": "stream",
          "text": [
            "  % Total    % Received % Xferd  Average Speed   Time    Time     Time  Current\n",
            "                                 Dload  Upload   Total   Spent    Left  Speed\n",
            "\r  0     0    0     0    0     0      0      0 --:--:-- --:--:-- --:--:--     0curl: (6) Could not resolve host: course-v3.fast.ai\n"
          ],
          "name": "stdout"
        }
      ]
    },
    {
      "cell_type": "code",
      "metadata": {
        "id": "_FBFFEBrmJC0",
        "outputId": "a9cfc3d4-5b4d-4b6b-cce4-c2998ede8219",
        "colab": {
          "base_uri": "https://localhost:8080/"
        }
      },
      "source": [
        "!git clone https://github.com/wshuyi/demo-nlp-classification-fastai.git"
      ],
      "execution_count": 6,
      "outputs": [
        {
          "output_type": "stream",
          "text": [
            "Cloning into 'demo-nlp-classification-fastai'...\n",
            "remote: Enumerating objects: 9, done.\u001b[K\n",
            "remote: Total 9 (delta 0), reused 0 (delta 0), pack-reused 9\u001b[K\n",
            "Unpacking objects: 100% (9/9), done.\n"
          ],
          "name": "stdout"
        }
      ]
    },
    {
      "cell_type": "code",
      "metadata": {
        "id": "66zfh_JqmWMU"
      },
      "source": [
        "from fastai import *\n",
        "from fastai.text import *"
      ],
      "execution_count": 7,
      "outputs": []
    },
    {
      "cell_type": "markdown",
      "metadata": {
        "id": "mNIw-yALdBU9"
      },
      "source": [
        "**Set the path of the data collections**"
      ]
    },
    {
      "cell_type": "code",
      "metadata": {
        "id": "pzH7VMh4mqCL"
      },
      "source": [
        "path = Path('medical-concept-normalization/data_collection')"
      ],
      "execution_count": 53,
      "outputs": []
    },
    {
      "cell_type": "code",
      "metadata": {
        "id": "b8fjI6yyn4aS"
      },
      "source": [
        "# training data set\n",
        "\n",
        "train_csv = path/'TwADR-L.fold-0.train.csv'\n",
        "train = pd.read_csv(train_csv, header=None)\n",
        "#train.head()\n",
        "#train.info()"
      ],
      "execution_count": 54,
      "outputs": []
    },
    {
      "cell_type": "code",
      "metadata": {
        "id": "Hmlr-bAorfHd",
        "outputId": "8fa81730-cb5d-4739-800a-16e952b72062",
        "colab": {
          "base_uri": "https://localhost:8080/",
          "height": 204
        }
      },
      "source": [
        "# validating data set\n",
        "\n",
        "valid = pd.read_csv(path/\"TwADR-L.fold-0.validation.csv\",header=None)\n",
        "valid.head()"
      ],
      "execution_count": 55,
      "outputs": [
        {
          "output_type": "execute_result",
          "data": {
            "text/html": [
              "<div>\n",
              "<style scoped>\n",
              "    .dataframe tbody tr th:only-of-type {\n",
              "        vertical-align: middle;\n",
              "    }\n",
              "\n",
              "    .dataframe tbody tr th {\n",
              "        vertical-align: top;\n",
              "    }\n",
              "\n",
              "    .dataframe thead th {\n",
              "        text-align: right;\n",
              "    }\n",
              "</style>\n",
              "<table border=\"1\" class=\"dataframe\">\n",
              "  <thead>\n",
              "    <tr style=\"text-align: right;\">\n",
              "      <th></th>\n",
              "      <th>0</th>\n",
              "      <th>1</th>\n",
              "    </tr>\n",
              "  </thead>\n",
              "  <tbody>\n",
              "    <tr>\n",
              "      <th>0</th>\n",
              "      <td>13</td>\n",
              "      <td>insomnia</td>\n",
              "    </tr>\n",
              "    <tr>\n",
              "      <th>1</th>\n",
              "      <td>57</td>\n",
              "      <td>hypertrophic scarring</td>\n",
              "    </tr>\n",
              "    <tr>\n",
              "      <th>2</th>\n",
              "      <td>84</td>\n",
              "      <td>paraplegic</td>\n",
              "    </tr>\n",
              "    <tr>\n",
              "      <th>3</th>\n",
              "      <td>93</td>\n",
              "      <td>shooting</td>\n",
              "    </tr>\n",
              "    <tr>\n",
              "      <th>4</th>\n",
              "      <td>97</td>\n",
              "      <td>screwing with my short term memory</td>\n",
              "    </tr>\n",
              "  </tbody>\n",
              "</table>\n",
              "</div>"
            ],
            "text/plain": [
              "    0                                   1\n",
              "0  13                            insomnia\n",
              "1  57               hypertrophic scarring\n",
              "2  84                          paraplegic\n",
              "3  93                            shooting\n",
              "4  97  screwing with my short term memory"
            ]
          },
          "metadata": {
            "tags": []
          },
          "execution_count": 55
        }
      ]
    },
    {
      "cell_type": "code",
      "metadata": {
        "id": "cOza9dfSsBud",
        "outputId": "d412e318-6f42-495a-df5d-dab73e2e6721",
        "colab": {
          "base_uri": "https://localhost:8080/",
          "height": 204
        }
      },
      "source": [
        "# testing data set\n",
        "\n",
        "test = pd.read_csv(path/\"TwADR-L.fold-0.test.csv\",header=None)\n",
        "test.head()"
      ],
      "execution_count": 56,
      "outputs": [
        {
          "output_type": "execute_result",
          "data": {
            "text/html": [
              "<div>\n",
              "<style scoped>\n",
              "    .dataframe tbody tr th:only-of-type {\n",
              "        vertical-align: middle;\n",
              "    }\n",
              "\n",
              "    .dataframe tbody tr th {\n",
              "        vertical-align: top;\n",
              "    }\n",
              "\n",
              "    .dataframe thead th {\n",
              "        text-align: right;\n",
              "    }\n",
              "</style>\n",
              "<table border=\"1\" class=\"dataframe\">\n",
              "  <thead>\n",
              "    <tr style=\"text-align: right;\">\n",
              "      <th></th>\n",
              "      <th>0</th>\n",
              "      <th>1</th>\n",
              "    </tr>\n",
              "  </thead>\n",
              "  <tbody>\n",
              "    <tr>\n",
              "      <th>0</th>\n",
              "      <td>13</td>\n",
              "      <td>insomniac</td>\n",
              "    </tr>\n",
              "    <tr>\n",
              "      <th>1</th>\n",
              "      <td>60</td>\n",
              "      <td>cigarette withdrawal</td>\n",
              "    </tr>\n",
              "    <tr>\n",
              "      <th>2</th>\n",
              "      <td>108</td>\n",
              "      <td>cramps</td>\n",
              "    </tr>\n",
              "    <tr>\n",
              "      <th>3</th>\n",
              "      <td>109</td>\n",
              "      <td>make me drunker</td>\n",
              "    </tr>\n",
              "    <tr>\n",
              "      <th>4</th>\n",
              "      <td>133</td>\n",
              "      <td>nightmares</td>\n",
              "    </tr>\n",
              "  </tbody>\n",
              "</table>\n",
              "</div>"
            ],
            "text/plain": [
              "     0                     1\n",
              "0   13             insomniac\n",
              "1   60  cigarette withdrawal\n",
              "2  108                cramps\n",
              "3  109       make me drunker\n",
              "4  133            nightmares"
            ]
          },
          "metadata": {
            "tags": []
          },
          "execution_count": 56
        }
      ]
    },
    {
      "cell_type": "code",
      "metadata": {
        "id": "Vo-YNvVYoaH6",
        "outputId": "5f8d56da-4fc6-4c97-d328-fb6a9938fe84",
        "colab": {
          "base_uri": "https://localhost:8080/",
          "height": 17
        }
      },
      "source": [
        "# Creating DataBunch for language modelling\n",
        "\n",
        "data_lm = TextLMDataBunch.from_csv(path, 'TwADR_pubmed.csv')"
      ],
      "execution_count": 57,
      "outputs": [
        {
          "output_type": "display_data",
          "data": {
            "text/html": [
              ""
            ],
            "text/plain": [
              "<IPython.core.display.HTML object>"
            ]
          },
          "metadata": {
            "tags": []
          }
        },
        {
          "output_type": "display_data",
          "data": {
            "text/html": [
              ""
            ],
            "text/plain": [
              "<IPython.core.display.HTML object>"
            ]
          },
          "metadata": {
            "tags": []
          }
        }
      ]
    },
    {
      "cell_type": "code",
      "metadata": {
        "id": "qcV-9kMnNLBf"
      },
      "source": [
        ""
      ],
      "execution_count": 57,
      "outputs": []
    },
    {
      "cell_type": "code",
      "metadata": {
        "id": "1ScY9afDsnvE"
      },
      "source": [
        "# Creating DataBunch for classification\n",
        "\n",
        "# data_clas = TextClasDataBunch.from_df(path, train, valid, test, vocab=data_lm.train_ds.vocab, bs=128)"
      ],
      "execution_count": 58,
      "outputs": []
    },
    {
      "cell_type": "code",
      "metadata": {
        "id": "gzrSdQcvey9p",
        "outputId": "706d2290-7890-4501-f9f1-8d122ed0fc6b",
        "colab": {
          "base_uri": "https://localhost:8080/",
          "height": 17
        }
      },
      "source": [
        "data_clas = TextClasDataBunch.from_df(path, train, valid, vocab=data_lm.train_ds.vocab, bs=128)"
      ],
      "execution_count": 59,
      "outputs": [
        {
          "output_type": "display_data",
          "data": {
            "text/html": [
              ""
            ],
            "text/plain": [
              "<IPython.core.display.HTML object>"
            ]
          },
          "metadata": {
            "tags": []
          }
        },
        {
          "output_type": "display_data",
          "data": {
            "text/html": [
              ""
            ],
            "text/plain": [
              "<IPython.core.display.HTML object>"
            ]
          },
          "metadata": {
            "tags": []
          }
        }
      ]
    },
    {
      "cell_type": "code",
      "metadata": {
        "id": "MD27Tf0Ke3ou",
        "outputId": "b1564fde-67ec-4b03-9c13-610cbad09e2d",
        "colab": {
          "base_uri": "https://localhost:8080/",
          "height": 17
        }
      },
      "source": [
        "data_clas.add_test(test,label=0)\n"
      ],
      "execution_count": 60,
      "outputs": [
        {
          "output_type": "display_data",
          "data": {
            "text/html": [
              ""
            ],
            "text/plain": [
              "<IPython.core.display.HTML object>"
            ]
          },
          "metadata": {
            "tags": []
          }
        }
      ]
    },
    {
      "cell_type": "code",
      "metadata": {
        "id": "-dpjnk_rstwk"
      },
      "source": [
        "data_lm.save()\n",
        "data_clas.save()"
      ],
      "execution_count": 61,
      "outputs": []
    },
    {
      "cell_type": "code",
      "metadata": {
        "id": "4OkiJa36sw5s",
        "outputId": "50f1b936-73e8-48f1-a986-0a3e374b8468",
        "colab": {
          "base_uri": "https://localhost:8080/"
        }
      },
      "source": [
        "data_lm.train_ds.vocab.itos"
      ],
      "execution_count": 62,
      "outputs": [
        {
          "output_type": "execute_result",
          "data": {
            "text/plain": [
              "['xxunk',\n",
              " 'xxpad',\n",
              " 'xxbos',\n",
              " 'xxeos',\n",
              " 'xxfld',\n",
              " 'xxmaj',\n",
              " 'xxup',\n",
              " 'xxrep',\n",
              " 'xxwrep',\n",
              " 'the',\n",
              " 'of',\n",
              " 'and',\n",
              " 'in',\n",
              " 'to',\n",
              " 'a',\n",
              " 'diclofenac',\n",
              " 'was',\n",
              " 'with',\n",
              " 'were',\n",
              " 'for',\n",
              " 'pain',\n",
              " 'sodium',\n",
              " 'drug',\n",
              " 'by',\n",
              " 'on',\n",
              " 'patients',\n",
              " 'that',\n",
              " 'as',\n",
              " 'is',\n",
              " 'or',\n",
              " 'at',\n",
              " 'mg',\n",
              " 'increased',\n",
              " 'from',\n",
              " 'group',\n",
              " 'mood',\n",
              " 'study',\n",
              " 'this',\n",
              " 'treatment',\n",
              " 'after',\n",
              " 'p',\n",
              " 'release',\n",
              " 'an',\n",
              " 'be',\n",
              " 'me',\n",
              " ',',\n",
              " 'disorder',\n",
              " 'effect',\n",
              " 'i',\n",
              " 'abnormal',\n",
              " 'decreased',\n",
              " 'withdrawal',\n",
              " 'not',\n",
              " 'than',\n",
              " 'weight',\n",
              " 'compared',\n",
              " 'anxiety',\n",
              " 'my',\n",
              " 'are',\n",
              " 'groups',\n",
              " 'effects',\n",
              " 'using',\n",
              " 'symptoms',\n",
              " 'no',\n",
              " 'two',\n",
              " 'both',\n",
              " 'drugs',\n",
              " 'inflammatory',\n",
              " 'significantly',\n",
              " 'acute',\n",
              " 'significant',\n",
              " 'potassium',\n",
              " 'skin',\n",
              " 'day',\n",
              " 'between',\n",
              " 'behavior',\n",
              " 'anti',\n",
              " 'dose',\n",
              " 'disorders',\n",
              " 'time',\n",
              " 'all',\n",
              " 'h',\n",
              " '(',\n",
              " ')',\n",
              " 'voltaren',\n",
              " 'used',\n",
              " 'blood',\n",
              " 'syndrome',\n",
              " 'placebo',\n",
              " 'these',\n",
              " 'had',\n",
              " '-',\n",
              " 'which',\n",
              " 'it',\n",
              " 'results',\n",
              " 'concentration',\n",
              " 'efficacy',\n",
              " 'sleeplessness',\n",
              " 'diseases',\n",
              " 'oral',\n",
              " 'days',\n",
              " 'like',\n",
              " 'have',\n",
              " 'ds',\n",
              " 'feeling',\n",
              " 'also',\n",
              " 'treated',\n",
              " 'we',\n",
              " 'different',\n",
              " 'more',\n",
              " 'showed',\n",
              " 'up',\n",
              " 'administration',\n",
              " 'ml',\n",
              " 'finding',\n",
              " 'one',\n",
              " 'disturbance',\n",
              " 'somnolence',\n",
              " 'but',\n",
              " 'has',\n",
              " 'topical',\n",
              " 'studies',\n",
              " 'energy',\n",
              " 'sleep',\n",
              " 'insomnia',\n",
              " 'high',\n",
              " 'rats',\n",
              " 'c',\n",
              " 'acid',\n",
              " 'got',\n",
              " 'plasma',\n",
              " 'control',\n",
              " 'non',\n",
              " 'induced',\n",
              " 'clinical',\n",
              " 'been',\n",
              " 'swelling',\n",
              " 'respectively',\n",
              " 'disease',\n",
              " 'their',\n",
              " 'during',\n",
              " 'nausea',\n",
              " 'mental',\n",
              " 'rate',\n",
              " 'body',\n",
              " 'method',\n",
              " 'nsaids',\n",
              " 'mean',\n",
              " 'there',\n",
              " 'muscle',\n",
              " 'hours',\n",
              " 'ph',\n",
              " 'formulations',\n",
              " 'tablets',\n",
              " 'state',\n",
              " 'other',\n",
              " 'into',\n",
              " 'formulation',\n",
              " 'gain',\n",
              " 'appetite',\n",
              " 'found',\n",
              " 'may',\n",
              " 'depression',\n",
              " 'low',\n",
              " 'effective',\n",
              " 'observed',\n",
              " 's',\n",
              " 'kg',\n",
              " 'its',\n",
              " 'solution',\n",
              " 'when',\n",
              " 'three',\n",
              " 'gel',\n",
              " 'total',\n",
              " 'received',\n",
              " 'use',\n",
              " 'n',\n",
              " 'activity',\n",
              " 'heart',\n",
              " 'attention',\n",
              " 'conditions',\n",
              " 'irritable',\n",
              " 'hyperactive',\n",
              " 'atorvastatin',\n",
              " 'g',\n",
              " 'vitro',\n",
              " 'adverse',\n",
              " 'lower',\n",
              " 'controlled',\n",
              " 'cell',\n",
              " 'reaction',\n",
              " 'well',\n",
              " 'levels',\n",
              " 'level',\n",
              " 'excitability',\n",
              " 'analysis',\n",
              " 'ceiling',\n",
              " 'single',\n",
              " 'feel',\n",
              " 'serum',\n",
              " 'feelings',\n",
              " 'over',\n",
              " 'analgesic',\n",
              " 'eye',\n",
              " 'renal',\n",
              " 'panic',\n",
              " 'drowsiness',\n",
              " 'd',\n",
              " 'data',\n",
              " 'out',\n",
              " 'randomized',\n",
              " 'system',\n",
              " 'test',\n",
              " 'first',\n",
              " 'each',\n",
              " 'period',\n",
              " 'awake',\n",
              " 'application',\n",
              " 'm',\n",
              " 'liver',\n",
              " 'however',\n",
              " 'less',\n",
              " 'evaluated',\n",
              " 'gastrointestinal',\n",
              " 'concentrations',\n",
              " 'dizziness',\n",
              " 'daily',\n",
              " 'model',\n",
              " 'l',\n",
              " 'rash',\n",
              " 'following',\n",
              " 'patient',\n",
              " 'headache',\n",
              " 'site',\n",
              " 'loss',\n",
              " 't',\n",
              " 'obtained',\n",
              " 'similar',\n",
              " 'double',\n",
              " 'joint',\n",
              " 'postoperative',\n",
              " 'can',\n",
              " 'infection',\n",
              " 'function',\n",
              " 'depressed',\n",
              " 'cells',\n",
              " 'inflammation',\n",
              " 'weeks',\n",
              " 'nsaid',\n",
              " 'reduced',\n",
              " 'surgery',\n",
              " 'difference',\n",
              " 'swings',\n",
              " 'allergic',\n",
              " 'based',\n",
              " 'therapy',\n",
              " 'did',\n",
              " 'present',\n",
              " 'associated',\n",
              " 'before',\n",
              " 'tablet',\n",
              " 'dissolution',\n",
              " 'most',\n",
              " 'higher',\n",
              " 'injection',\n",
              " 'initial',\n",
              " 'arthritis',\n",
              " 'only',\n",
              " 'change',\n",
              " 'min',\n",
              " 'water',\n",
              " 'bone',\n",
              " 'those',\n",
              " 'increase',\n",
              " 'b',\n",
              " 'pressure',\n",
              " 'changes',\n",
              " 'combination',\n",
              " 'administered',\n",
              " '#',\n",
              " 'under',\n",
              " 'week',\n",
              " 'wakefulness',\n",
              " \"n't\",\n",
              " 'studied',\n",
              " 'response',\n",
              " 'doses',\n",
              " 'performed',\n",
              " 'injury',\n",
              " 'trial',\n",
              " 'bipolar',\n",
              " 'nonsteroidal',\n",
              " 'migraine',\n",
              " 'edema',\n",
              " 'relief',\n",
              " 'prepared',\n",
              " 'visual',\n",
              " 'chronic',\n",
              " 'events',\n",
              " 'gastric',\n",
              " 'investigated',\n",
              " 'differences',\n",
              " 'due',\n",
              " 'cholesterol',\n",
              " 'blind',\n",
              " 'order',\n",
              " 'ca',\n",
              " 'post',\n",
              " 'ratio',\n",
              " 'reported',\n",
              " 'side',\n",
              " 'respiratory',\n",
              " 'phase',\n",
              " 'tissue',\n",
              " 'measured',\n",
              " 'vs',\n",
              " 'subjects',\n",
              " 'containing',\n",
              " 'attacks',\n",
              " 'decrease',\n",
              " 'while',\n",
              " 'four',\n",
              " 'parameters',\n",
              " 'properties',\n",
              " 'developed',\n",
              " 'absorption',\n",
              " 'w',\n",
              " 'could',\n",
              " 'breast',\n",
              " 'safety',\n",
              " 'corneal',\n",
              " 'either',\n",
              " 'abdominal',\n",
              " 'values',\n",
              " 'auc',\n",
              " 'urine',\n",
              " 'given',\n",
              " 'fatigue',\n",
              " 'years',\n",
              " 'who',\n",
              " 'v',\n",
              " 'brain',\n",
              " 'new',\n",
              " 'delivery',\n",
              " 'dreams',\n",
              " 'within',\n",
              " 'such',\n",
              " 'included',\n",
              " 'indomethacin',\n",
              " 'hemorrhage',\n",
              " 'therapeutic',\n",
              " 'knee',\n",
              " 'reduction',\n",
              " 'x',\n",
              " 'statistically',\n",
              " 'minutes',\n",
              " 'liquid',\n",
              " 'stiffness',\n",
              " 'failure',\n",
              " 'assessed',\n",
              " 'tremor',\n",
              " 'e',\n",
              " 'vivo',\n",
              " 'ng',\n",
              " 'times',\n",
              " 'action',\n",
              " 'steroidal',\n",
              " 'size',\n",
              " 'compare',\n",
              " 'oa',\n",
              " 'number',\n",
              " 'dry',\n",
              " 'rage',\n",
              " 'lipitor',\n",
              " 'any',\n",
              " 'evaluate',\n",
              " 'medication',\n",
              " 'attack',\n",
              " 'type',\n",
              " 'carcinoma',\n",
              " 'mm',\n",
              " 'scale',\n",
              " 'healthy',\n",
              " 'development',\n",
              " 'applied',\n",
              " 'deficit',\n",
              " 'human',\n",
              " 'k',\n",
              " 'bioavailability',\n",
              " 'range',\n",
              " 'sleepy',\n",
              " 'kidney',\n",
              " 'so',\n",
              " 'active',\n",
              " 'through',\n",
              " 'samples',\n",
              " 'form',\n",
              " 'local',\n",
              " 'baseline',\n",
              " 'discomfort',\n",
              " 'better',\n",
              " 'determined',\n",
              " 'same',\n",
              " 'potential',\n",
              " 'osteoarthritis',\n",
              " 'tolerability',\n",
              " 'male',\n",
              " 'sustained',\n",
              " 'matrix',\n",
              " 'our',\n",
              " 'cardiac',\n",
              " 'greater',\n",
              " 'without',\n",
              " 'eyes',\n",
              " 'addition',\n",
              " 'dependent',\n",
              " 'good',\n",
              " 'scores',\n",
              " 'taste',\n",
              " 'vomiting',\n",
              " 'primary',\n",
              " 'ulcer',\n",
              " 'revealed',\n",
              " 'products',\n",
              " 'makes',\n",
              " 'coated',\n",
              " 'stomach',\n",
              " 'tired',\n",
              " 'infections',\n",
              " 'related',\n",
              " 'ii',\n",
              " 'demonstrated',\n",
              " 'cox',\n",
              " 'middle',\n",
              " 'improvement',\n",
              " 'psychotic',\n",
              " 'they',\n",
              " 'mice',\n",
              " 'hour',\n",
              " 'very',\n",
              " 'night',\n",
              " 'severe',\n",
              " 'process',\n",
              " 'numbness',\n",
              " 'temperature',\n",
              " 'aqueous',\n",
              " 'pulmonary',\n",
              " 'alone',\n",
              " 'intensity',\n",
              " 'polymer',\n",
              " 'inhibitor',\n",
              " 'risk',\n",
              " 'fluid',\n",
              " 'indicated',\n",
              " 'trials',\n",
              " 'normal',\n",
              " 'daytime',\n",
              " 'difficulty',\n",
              " 'hypertension',\n",
              " 'about',\n",
              " 'animals',\n",
              " 'secondary',\n",
              " 'wide',\n",
              " 'presence',\n",
              " 'na',\n",
              " 'dosage',\n",
              " 'whereas',\n",
              " 'formation',\n",
              " 'sweating',\n",
              " 'further',\n",
              " 'volunteers',\n",
              " 'multiple',\n",
              " 'shown',\n",
              " 'randomly',\n",
              " 'distress',\n",
              " 'inhibition',\n",
              " 'area',\n",
              " 'various',\n",
              " 'sensation',\n",
              " 'exposure',\n",
              " 'months',\n",
              " 'still',\n",
              " 'ocular',\n",
              " 'permeation',\n",
              " 'versus',\n",
              " 'cerebral',\n",
              " 'end',\n",
              " 'asleep',\n",
              " 'treatments',\n",
              " 'dependence',\n",
              " 'per',\n",
              " 'suggest',\n",
              " 'cases',\n",
              " 'rheumatoid',\n",
              " 'mechanism',\n",
              " 'female',\n",
              " 'aim',\n",
              " 'free',\n",
              " 'elevated',\n",
              " 'agent',\n",
              " 'hepatic',\n",
              " 'dermatitis',\n",
              " 'quality',\n",
              " 'standard',\n",
              " 'ibuprofen',\n",
              " 'systemic',\n",
              " 'followed',\n",
              " 'aggravated',\n",
              " 'available',\n",
              " 'localised',\n",
              " 'disturbances',\n",
              " 'resulted',\n",
              " 'dysfunction',\n",
              " 'facial',\n",
              " 'growth',\n",
              " 'zombie',\n",
              " 'being',\n",
              " 'evaluation',\n",
              " 'peak',\n",
              " 'agents',\n",
              " \"'m\",\n",
              " 'content',\n",
              " 'alcohol',\n",
              " 'early',\n",
              " 'profile',\n",
              " 'sleepiness',\n",
              " 'irritation',\n",
              " 'moderate',\n",
              " 'some',\n",
              " 'prolonged',\n",
              " 'suicidal',\n",
              " 'rat',\n",
              " 'experimental',\n",
              " 'pre',\n",
              " 'solid',\n",
              " 'protein',\n",
              " 'divided',\n",
              " 'pharmaceutical',\n",
              " 'profiles',\n",
              " 'hallucinations',\n",
              " 'anemia',\n",
              " 'tract',\n",
              " 'urinary',\n",
              " 'including',\n",
              " 'term',\n",
              " 'relative',\n",
              " 'conducted',\n",
              " 'density',\n",
              " 'calcium',\n",
              " 'complex',\n",
              " 'f',\n",
              " 'cm',\n",
              " 'onset',\n",
              " 'down',\n",
              " 'nightmares',\n",
              " 'among',\n",
              " 'age',\n",
              " 'score',\n",
              " 'cataract',\n",
              " 'case',\n",
              " 'necrosis',\n",
              " 'production',\n",
              " 'pharmacokinetic',\n",
              " 'cancer',\n",
              " 'depressive',\n",
              " 'rapid',\n",
              " 'death',\n",
              " 'six',\n",
              " 'microspheres',\n",
              " 'damage',\n",
              " 'vascular',\n",
              " 'mild',\n",
              " 'glucose',\n",
              " 'although',\n",
              " 'oedema',\n",
              " 'determine',\n",
              " 'duration',\n",
              " 'surface',\n",
              " 'product',\n",
              " 'need',\n",
              " 'achieved',\n",
              " 'membrane',\n",
              " 'enteric',\n",
              " 'pellets',\n",
              " 'tolerated',\n",
              " 'painful',\n",
              " 'combined',\n",
              " 'creatinine',\n",
              " 'degrees',\n",
              " 'improved',\n",
              " 'exhaustion',\n",
              " 'cmax',\n",
              " 'vas',\n",
              " 'tested',\n",
              " 'models',\n",
              " 'chest',\n",
              " 'naproxen',\n",
              " 'peripheral',\n",
              " 'flow',\n",
              " 'beads',\n",
              " 'compulsive',\n",
              " 'cross',\n",
              " 'bite',\n",
              " 'interactions',\n",
              " 'second',\n",
              " 'preparation',\n",
              " 'impairment',\n",
              " 'should',\n",
              " 'flare',\n",
              " 'arrest',\n",
              " 'because',\n",
              " 'five',\n",
              " 'patch',\n",
              " 'participants',\n",
              " 'volume',\n",
              " 'spasm',\n",
              " 'rofecoxib',\n",
              " 'anger',\n",
              " 'o',\n",
              " 'adderall',\n",
              " 'analgesia',\n",
              " 'complete',\n",
              " 'depersonalization',\n",
              " 'determination',\n",
              " 'comparison',\n",
              " 'according',\n",
              " 'result',\n",
              " 'third',\n",
              " 'then',\n",
              " 'technique',\n",
              " 'dizzy',\n",
              " 'seizures',\n",
              " 'caused',\n",
              " 'diabetic',\n",
              " 'aspirin',\n",
              " 'vision',\n",
              " 'major',\n",
              " 'thus',\n",
              " 'erythema',\n",
              " 'efficiency',\n",
              " 'phosphate',\n",
              " 'vehicle',\n",
              " 'amount',\n",
              " 'care',\n",
              " 'lesions',\n",
              " 'medium',\n",
              " 'receiving',\n",
              " 'memory',\n",
              " 'produced',\n",
              " 'common',\n",
              " 'uterine',\n",
              " 'diabetes',\n",
              " 'misoprostol',\n",
              " 'design',\n",
              " 'examined',\n",
              " 'old',\n",
              " 'microg',\n",
              " 'investigate',\n",
              " 'comparable',\n",
              " 'review',\n",
              " 'localized',\n",
              " 'physical',\n",
              " 'cd',\n",
              " 'delayed',\n",
              " 'overall',\n",
              " 'evidence',\n",
              " 'inhibitors',\n",
              " 'social',\n",
              " 'commercial',\n",
              " 'pruritus',\n",
              " 'fever',\n",
              " 'face',\n",
              " 'intestinal',\n",
              " 'assessment',\n",
              " 'nervous',\n",
              " 'interaction',\n",
              " 'show',\n",
              " 'ci',\n",
              " 'ventricular',\n",
              " 'th',\n",
              " 'saline',\n",
              " 'recorded',\n",
              " 'plus',\n",
              " 'tolerance',\n",
              " 'long',\n",
              " 'inhibited',\n",
              " 'max',\n",
              " 'carried',\n",
              " 'maximum',\n",
              " 'antiinflammatory',\n",
              " 'small',\n",
              " 'outcome',\n",
              " 'prostaglandin',\n",
              " 'positive',\n",
              " 'synthesis',\n",
              " 'injuries',\n",
              " 'performance',\n",
              " 'increasing',\n",
              " 'cold',\n",
              " 'methods',\n",
              " 'least',\n",
              " 'shoulder',\n",
              " 'paracetamol',\n",
              " 'you',\n",
              " 'cardiovascular',\n",
              " 'toxicity',\n",
              " 'medications',\n",
              " 'diffusion',\n",
              " 'characterized',\n",
              " 'considered',\n",
              " 'hunger',\n",
              " 'foot',\n",
              " 'back',\n",
              " 'superior',\n",
              " 'intramuscular',\n",
              " 'responses',\n",
              " 'ache',\n",
              " 'buffer',\n",
              " 'eating',\n",
              " 'influence',\n",
              " 'upper',\n",
              " 'year',\n",
              " 'preparations',\n",
              " 'reference',\n",
              " 'value',\n",
              " 'obsessive',\n",
              " 'therefore',\n",
              " 'count',\n",
              " 'taking',\n",
              " 'findings',\n",
              " 'activities',\n",
              " 'enzyme',\n",
              " 'withdrawals',\n",
              " 'lack',\n",
              " 'lung',\n",
              " 'stress',\n",
              " 'hplc',\n",
              " 'extent',\n",
              " 'tooth',\n",
              " 'provide',\n",
              " 'work',\n",
              " 'even',\n",
              " 'forms',\n",
              " 'possible',\n",
              " 'degree',\n",
              " 'objective',\n",
              " 'exhibited',\n",
              " 'specific',\n",
              " 'vivid',\n",
              " 'once',\n",
              " 'assess',\n",
              " 'index',\n",
              " 'indicate',\n",
              " 'highly',\n",
              " 'provided',\n",
              " 'detection',\n",
              " 'current',\n",
              " 'loaded',\n",
              " 'affect',\n",
              " 'life',\n",
              " 'capsules',\n",
              " 'tissues',\n",
              " 'global',\n",
              " 'nauseous',\n",
              " 'novel',\n",
              " 'your',\n",
              " 'against',\n",
              " 'partial',\n",
              " 'characteristics',\n",
              " 'kinetics',\n",
              " 'abuse',\n",
              " 'diet',\n",
              " 'will',\n",
              " 'rates',\n",
              " 'impaired',\n",
              " 'expression',\n",
              " 'candidiasis',\n",
              " 'malignant',\n",
              " 'solubility',\n",
              " 'incidence',\n",
              " 'simple',\n",
              " 'lipid',\n",
              " 'neoplasm',\n",
              " 'dic',\n",
              " 'central',\n",
              " 'if',\n",
              " 'made',\n",
              " 'sexual',\n",
              " 'solutions',\n",
              " 'cramps',\n",
              " 'sensitive',\n",
              " 'cutaneous',\n",
              " 'dpsgc',\n",
              " 'genital',\n",
              " 'celecoxib',\n",
              " 'pge',\n",
              " 'food',\n",
              " 'emotional',\n",
              " 'particle',\n",
              " 'nm',\n",
              " 'via',\n",
              " 'ldl',\n",
              " 'nasal',\n",
              " 'nerve',\n",
              " 'lipoprotein',\n",
              " 'intoxication',\n",
              " 'drops',\n",
              " 'modified',\n",
              " 'asthma',\n",
              " 'get',\n",
              " 'cyclooxygenase',\n",
              " 'every',\n",
              " 'clearance',\n",
              " 'factor',\n",
              " 'chitosan',\n",
              " 'de',\n",
              " 'lightheadedness',\n",
              " 'arthropod',\n",
              " 'twice',\n",
              " 'bleeding',\n",
              " 'transdermal',\n",
              " 'health',\n",
              " 'research',\n",
              " 'r',\n",
              " 'bulimia',\n",
              " 'clinically',\n",
              " 'way',\n",
              " 'euphoric',\n",
              " 'additional',\n",
              " 'short',\n",
              " 'eudragit',\n",
              " 'sneezing',\n",
              " 'crazy',\n",
              " 'beta',\n",
              " 'drowsy',\n",
              " 'hungry',\n",
              " 'hepatitis',\n",
              " 'co',\n",
              " 'whether',\n",
              " 'coronary',\n",
              " 'gi',\n",
              " 'capsule',\n",
              " 'crossover',\n",
              " 'do',\n",
              " 'analyzed',\n",
              " 'factors',\n",
              " 'hurt',\n",
              " 'alpha',\n",
              " 'general',\n",
              " 'obstruction',\n",
              " 'terms',\n",
              " 'aged',\n",
              " 'tongue',\n",
              " 'pneumonia',\n",
              " 'microm',\n",
              " 'sr',\n",
              " 'mass',\n",
              " 'extraction',\n",
              " 'artery',\n",
              " 'musculoskeletal',\n",
              " 'tests',\n",
              " 'hp',\n",
              " 'zero',\n",
              " 'several',\n",
              " 'point',\n",
              " 'ketorolac',\n",
              " 'ophthalmic',\n",
              " 'sweat',\n",
              " 'important',\n",
              " 'paranoid',\n",
              " 'right',\n",
              " 'faster',\n",
              " 'across',\n",
              " 'consciousness',\n",
              " 'penetration',\n",
              " 'steroid',\n",
              " 'potent',\n",
              " 'electrocardiogram',\n",
              " 'headaches',\n",
              " 'ear',\n",
              " 'arterial',\n",
              " 'lesion',\n",
              " 'animal',\n",
              " 'tendency',\n",
              " 'sd',\n",
              " 'urticaria',\n",
              " 'experiments',\n",
              " 'taken',\n",
              " 'scanning',\n",
              " 'known',\n",
              " 'percentage',\n",
              " 'tingling',\n",
              " 'episode',\n",
              " 'does',\n",
              " 'released',\n",
              " 'fear',\n",
              " 'metabolism',\n",
              " 'oil',\n",
              " 'substance',\n",
              " 'pattern',\n",
              " 'chemical',\n",
              " 'rabbits',\n",
              " 'examination',\n",
              " 'il',\n",
              " 'intake',\n",
              " 'block',\n",
              " 'laboratory',\n",
              " 'dfs',\n",
              " 'tmax',\n",
              " 'structure',\n",
              " 'altered',\n",
              " 'systems',\n",
              " 'average',\n",
              " 'stability',\n",
              " 'soft',\n",
              " 'enhanced',\n",
              " 'required',\n",
              " 'thinking',\n",
              " 'management',\n",
              " 'tumor',\n",
              " 'tenderness',\n",
              " 'operative',\n",
              " 'hand',\n",
              " 'ejaculation',\n",
              " 'cream',\n",
              " 'personality',\n",
              " 'open',\n",
              " 'role',\n",
              " 'thirst',\n",
              " 'occurred',\n",
              " 'collected',\n",
              " 'lose',\n",
              " 'approximately',\n",
              " 'since',\n",
              " 'fractures',\n",
              " 'seven',\n",
              " 'cambia',\n",
              " 'ability',\n",
              " 'microscopy',\n",
              " 'reducing',\n",
              " 'salt',\n",
              " 'cause',\n",
              " 'neoplasms',\n",
              " 'many',\n",
              " 'interval',\n",
              " 'colitis',\n",
              " 'erection',\n",
              " 'media',\n",
              " 'statin',\n",
              " 'analgesics',\n",
              " 'limb',\n",
              " 'symptom',\n",
              " 'intravenous',\n",
              " 'suggested',\n",
              " 'bacterial',\n",
              " 'procedure',\n",
              " 'dcf',\n",
              " 'overdose',\n",
              " 'chloride',\n",
              " 'affected',\n",
              " 'selective',\n",
              " 'movement',\n",
              " 'adult',\n",
              " 'falling',\n",
              " 'alternative',\n",
              " 'reduce',\n",
              " 'metastatic',\n",
              " 'traumatic',\n",
              " 'peg',\n",
              " 'excessive',\n",
              " 'laser',\n",
              " 'women',\n",
              " 'making',\n",
              " 'diarrhea',\n",
              " 'useful',\n",
              " 'arthrotec',\n",
              " 'gained',\n",
              " 'cs',\n",
              " 'randomised',\n",
              " 'analogue',\n",
              " 'large',\n",
              " 'metabolic',\n",
              " 'acetaminophen',\n",
              " 'selected',\n",
              " 'binding',\n",
              " 'lens',\n",
              " 'molecular',\n",
              " 'insufficiency',\n",
              " 'serious',\n",
              " 'independent',\n",
              " 'allergy',\n",
              " 'much',\n",
              " 'vasculitis',\n",
              " 'absence',\n",
              " 'activation',\n",
              " 'experienced',\n",
              " 'speech',\n",
              " 'established',\n",
              " 'atrial',\n",
              " 'hpmc',\n",
              " ...]"
            ]
          },
          "metadata": {
            "tags": []
          },
          "execution_count": 62
        }
      ]
    },
    {
      "cell_type": "code",
      "metadata": {
        "id": "yPWr03mls3VT"
      },
      "source": [
        "model_path = path/'models'\n",
        "model_path.mkdir(exist_ok=True)\n",
        "url = 'http://files.fast.ai/models/wt103_v1/'\n",
        "download_url(f'{url}lstm_wt103.pth', model_path/'lstm_wt103.pth')\n",
        "download_url(f'{url}itos_wt103.pkl', model_path/'itos_wt103.pkl')"
      ],
      "execution_count": 63,
      "outputs": []
    },
    {
      "cell_type": "code",
      "metadata": {
        "id": "JRzvWg8RtGGr"
      },
      "source": [
        "learn = language_model_learner(data_lm, AWD_LSTM, drop_mult=0.5)"
      ],
      "execution_count": 64,
      "outputs": []
    },
    {
      "cell_type": "code",
      "metadata": {
        "id": "xKK7GeBev7Xn",
        "outputId": "7ccee75f-31ac-48f0-d521-39c83da97fd1",
        "colab": {
          "base_uri": "https://localhost:8080/",
          "height": 80
        }
      },
      "source": [
        "learn.fit_one_cycle(1, 1e-2)"
      ],
      "execution_count": 65,
      "outputs": [
        {
          "output_type": "display_data",
          "data": {
            "text/html": [
              "<table border=\"1\" class=\"dataframe\">\n",
              "  <thead>\n",
              "    <tr style=\"text-align: left;\">\n",
              "      <th>epoch</th>\n",
              "      <th>train_loss</th>\n",
              "      <th>valid_loss</th>\n",
              "      <th>accuracy</th>\n",
              "      <th>time</th>\n",
              "    </tr>\n",
              "  </thead>\n",
              "  <tbody>\n",
              "    <tr>\n",
              "      <td>0</td>\n",
              "      <td>4.838095</td>\n",
              "      <td>4.223448</td>\n",
              "      <td>0.346051</td>\n",
              "      <td>17:18</td>\n",
              "    </tr>\n",
              "  </tbody>\n",
              "</table>"
            ],
            "text/plain": [
              "<IPython.core.display.HTML object>"
            ]
          },
          "metadata": {
            "tags": []
          }
        }
      ]
    },
    {
      "cell_type": "code",
      "metadata": {
        "id": "iB7rHGQCwd12",
        "outputId": "6e608ec0-fa1f-4843-b1d5-2147b026decd",
        "colab": {
          "base_uri": "https://localhost:8080/",
          "height": 80
        }
      },
      "source": [
        "learn.fit_one_cycle(1, 1e-2)"
      ],
      "execution_count": 66,
      "outputs": [
        {
          "output_type": "display_data",
          "data": {
            "text/html": [
              "<table border=\"1\" class=\"dataframe\">\n",
              "  <thead>\n",
              "    <tr style=\"text-align: left;\">\n",
              "      <th>epoch</th>\n",
              "      <th>train_loss</th>\n",
              "      <th>valid_loss</th>\n",
              "      <th>accuracy</th>\n",
              "      <th>time</th>\n",
              "    </tr>\n",
              "  </thead>\n",
              "  <tbody>\n",
              "    <tr>\n",
              "      <td>0</td>\n",
              "      <td>4.010875</td>\n",
              "      <td>3.832003</td>\n",
              "      <td>0.381310</td>\n",
              "      <td>17:18</td>\n",
              "    </tr>\n",
              "  </tbody>\n",
              "</table>"
            ],
            "text/plain": [
              "<IPython.core.display.HTML object>"
            ]
          },
          "metadata": {
            "tags": []
          }
        }
      ]
    },
    {
      "cell_type": "code",
      "metadata": {
        "id": "_BnSuAeCwkBe",
        "outputId": "c5b184b3-2b67-4246-be7d-f65f3694f3c4",
        "colab": {
          "base_uri": "https://localhost:8080/",
          "height": 80
        }
      },
      "source": [
        "learn.fit_one_cycle(1, 1e-3)"
      ],
      "execution_count": 67,
      "outputs": [
        {
          "output_type": "display_data",
          "data": {
            "text/html": [
              "<table border=\"1\" class=\"dataframe\">\n",
              "  <thead>\n",
              "    <tr style=\"text-align: left;\">\n",
              "      <th>epoch</th>\n",
              "      <th>train_loss</th>\n",
              "      <th>valid_loss</th>\n",
              "      <th>accuracy</th>\n",
              "      <th>time</th>\n",
              "    </tr>\n",
              "  </thead>\n",
              "  <tbody>\n",
              "    <tr>\n",
              "      <td>0</td>\n",
              "      <td>3.724953</td>\n",
              "      <td>3.786204</td>\n",
              "      <td>0.386212</td>\n",
              "      <td>17:35</td>\n",
              "    </tr>\n",
              "  </tbody>\n",
              "</table>"
            ],
            "text/plain": [
              "<IPython.core.display.HTML object>"
            ]
          },
          "metadata": {
            "tags": []
          }
        }
      ]
    },
    {
      "cell_type": "code",
      "metadata": {
        "id": "MuTm-RFjwrEX",
        "outputId": "6a8f7b2d-8f6d-4912-b17b-289fa29f2bb1",
        "colab": {
          "base_uri": "https://localhost:8080/",
          "height": 80
        }
      },
      "source": [
        "learn.fit_one_cycle(1, 1e-3)"
      ],
      "execution_count": 68,
      "outputs": [
        {
          "output_type": "display_data",
          "data": {
            "text/html": [
              "<table border=\"1\" class=\"dataframe\">\n",
              "  <thead>\n",
              "    <tr style=\"text-align: left;\">\n",
              "      <th>epoch</th>\n",
              "      <th>train_loss</th>\n",
              "      <th>valid_loss</th>\n",
              "      <th>accuracy</th>\n",
              "      <th>time</th>\n",
              "    </tr>\n",
              "  </thead>\n",
              "  <tbody>\n",
              "    <tr>\n",
              "      <td>0</td>\n",
              "      <td>3.682380</td>\n",
              "      <td>3.752984</td>\n",
              "      <td>0.389226</td>\n",
              "      <td>17:23</td>\n",
              "    </tr>\n",
              "  </tbody>\n",
              "</table>"
            ],
            "text/plain": [
              "<IPython.core.display.HTML object>"
            ]
          },
          "metadata": {
            "tags": []
          }
        }
      ]
    },
    {
      "cell_type": "code",
      "metadata": {
        "id": "1Er2ExO8wr7Y"
      },
      "source": [
        "learn.save_encoder('TwADR_pubmed_fold0_first')"
      ],
      "execution_count": 69,
      "outputs": []
    },
    {
      "cell_type": "code",
      "metadata": {
        "id": "z52cZs2qwvad",
        "outputId": "b01b6e39-6c41-4452-9ae3-942419b2685b",
        "colab": {
          "base_uri": "https://localhost:8080/",
          "height": 80
        }
      },
      "source": [
        "learn = text_classifier_learner(data_clas,AWD_LSTM, drop_mult=0.5)\n",
        "learn.load_encoder('TwADR_pubmed_fold0_first')\n",
        "learn.fit_one_cycle(1, 1e-2)"
      ],
      "execution_count": 70,
      "outputs": [
        {
          "output_type": "display_data",
          "data": {
            "text/html": [
              "<table border=\"1\" class=\"dataframe\">\n",
              "  <thead>\n",
              "    <tr style=\"text-align: left;\">\n",
              "      <th>epoch</th>\n",
              "      <th>train_loss</th>\n",
              "      <th>valid_loss</th>\n",
              "      <th>accuracy</th>\n",
              "      <th>time</th>\n",
              "    </tr>\n",
              "  </thead>\n",
              "  <tbody>\n",
              "    <tr>\n",
              "      <td>0</td>\n",
              "      <td>7.148018</td>\n",
              "      <td>6.365398</td>\n",
              "      <td>0.060870</td>\n",
              "      <td>00:24</td>\n",
              "    </tr>\n",
              "  </tbody>\n",
              "</table>"
            ],
            "text/plain": [
              "<IPython.core.display.HTML object>"
            ]
          },
          "metadata": {
            "tags": []
          }
        }
      ]
    },
    {
      "cell_type": "code",
      "metadata": {
        "id": "ImwQP1PJwzxd",
        "outputId": "63cf0af3-bc97-4bd0-f134-10e1d04eea67",
        "colab": {
          "base_uri": "https://localhost:8080/",
          "height": 80
        }
      },
      "source": [
        "learn.freeze_to(-2)\n",
        "learn.fit_one_cycle(1, slice(5e-3/2., 5e-3))"
      ],
      "execution_count": 71,
      "outputs": [
        {
          "output_type": "display_data",
          "data": {
            "text/html": [
              "<table border=\"1\" class=\"dataframe\">\n",
              "  <thead>\n",
              "    <tr style=\"text-align: left;\">\n",
              "      <th>epoch</th>\n",
              "      <th>train_loss</th>\n",
              "      <th>valid_loss</th>\n",
              "      <th>accuracy</th>\n",
              "      <th>time</th>\n",
              "    </tr>\n",
              "  </thead>\n",
              "  <tbody>\n",
              "    <tr>\n",
              "      <td>0</td>\n",
              "      <td>6.194335</td>\n",
              "      <td>5.222024</td>\n",
              "      <td>0.086957</td>\n",
              "      <td>00:27</td>\n",
              "    </tr>\n",
              "  </tbody>\n",
              "</table>"
            ],
            "text/plain": [
              "<IPython.core.display.HTML object>"
            ]
          },
          "metadata": {
            "tags": []
          }
        }
      ]
    },
    {
      "cell_type": "code",
      "metadata": {
        "id": "Owff_BJXw53u",
        "outputId": "516a3c0d-3416-4903-b9e3-700a298bf6cb",
        "colab": {
          "base_uri": "https://localhost:8080/",
          "height": 80
        }
      },
      "source": [
        "learn.unfreeze()\n",
        "learn.fit_one_cycle(1, slice(2e-3/100, 2e-3))"
      ],
      "execution_count": 72,
      "outputs": [
        {
          "output_type": "display_data",
          "data": {
            "text/html": [
              "<table border=\"1\" class=\"dataframe\">\n",
              "  <thead>\n",
              "    <tr style=\"text-align: left;\">\n",
              "      <th>epoch</th>\n",
              "      <th>train_loss</th>\n",
              "      <th>valid_loss</th>\n",
              "      <th>accuracy</th>\n",
              "      <th>time</th>\n",
              "    </tr>\n",
              "  </thead>\n",
              "  <tbody>\n",
              "    <tr>\n",
              "      <td>0</td>\n",
              "      <td>5.700042</td>\n",
              "      <td>4.914510</td>\n",
              "      <td>0.130435</td>\n",
              "      <td>01:10</td>\n",
              "    </tr>\n",
              "  </tbody>\n",
              "</table>"
            ],
            "text/plain": [
              "<IPython.core.display.HTML object>"
            ]
          },
          "metadata": {
            "tags": []
          }
        }
      ]
    },
    {
      "cell_type": "code",
      "metadata": {
        "id": "lqAyu56V8Waq",
        "outputId": "2e34fc34-f70c-4476-d537-8d4265c0d450",
        "colab": {
          "base_uri": "https://localhost:8080/",
          "height": 111
        }
      },
      "source": [
        "learn.fit_one_cycle(2, slice(2e-3/100, 2e-3))"
      ],
      "execution_count": 73,
      "outputs": [
        {
          "output_type": "display_data",
          "data": {
            "text/html": [
              "<table border=\"1\" class=\"dataframe\">\n",
              "  <thead>\n",
              "    <tr style=\"text-align: left;\">\n",
              "      <th>epoch</th>\n",
              "      <th>train_loss</th>\n",
              "      <th>valid_loss</th>\n",
              "      <th>accuracy</th>\n",
              "      <th>time</th>\n",
              "    </tr>\n",
              "  </thead>\n",
              "  <tbody>\n",
              "    <tr>\n",
              "      <td>0</td>\n",
              "      <td>5.436573</td>\n",
              "      <td>4.557035</td>\n",
              "      <td>0.191304</td>\n",
              "      <td>01:07</td>\n",
              "    </tr>\n",
              "    <tr>\n",
              "      <td>1</td>\n",
              "      <td>5.217210</td>\n",
              "      <td>4.436341</td>\n",
              "      <td>0.182609</td>\n",
              "      <td>01:10</td>\n",
              "    </tr>\n",
              "  </tbody>\n",
              "</table>"
            ],
            "text/plain": [
              "<IPython.core.display.HTML object>"
            ]
          },
          "metadata": {
            "tags": []
          }
        }
      ]
    },
    {
      "cell_type": "code",
      "metadata": {
        "id": "a7I1xMRp8bUd",
        "outputId": "90c9e52a-1740-4f52-8b25-b4c052c36f59",
        "colab": {
          "base_uri": "https://localhost:8080/",
          "height": 111
        }
      },
      "source": [
        "learn.fit_one_cycle(2, slice(2e-3/100, 2e-3))"
      ],
      "execution_count": 74,
      "outputs": [
        {
          "output_type": "display_data",
          "data": {
            "text/html": [
              "<table border=\"1\" class=\"dataframe\">\n",
              "  <thead>\n",
              "    <tr style=\"text-align: left;\">\n",
              "      <th>epoch</th>\n",
              "      <th>train_loss</th>\n",
              "      <th>valid_loss</th>\n",
              "      <th>accuracy</th>\n",
              "      <th>time</th>\n",
              "    </tr>\n",
              "  </thead>\n",
              "  <tbody>\n",
              "    <tr>\n",
              "      <td>0</td>\n",
              "      <td>4.938648</td>\n",
              "      <td>4.218411</td>\n",
              "      <td>0.217391</td>\n",
              "      <td>01:09</td>\n",
              "    </tr>\n",
              "    <tr>\n",
              "      <td>1</td>\n",
              "      <td>4.744634</td>\n",
              "      <td>4.125392</td>\n",
              "      <td>0.252174</td>\n",
              "      <td>01:09</td>\n",
              "    </tr>\n",
              "  </tbody>\n",
              "</table>"
            ],
            "text/plain": [
              "<IPython.core.display.HTML object>"
            ]
          },
          "metadata": {
            "tags": []
          }
        }
      ]
    },
    {
      "cell_type": "code",
      "metadata": {
        "id": "UAnti-XmGVfO",
        "outputId": "bb4c6166-9d01-4155-d4af-b6282473a578",
        "colab": {
          "base_uri": "https://localhost:8080/",
          "height": 111
        }
      },
      "source": [
        "learn.fit_one_cycle(2, slice(2e-3/100, 2e-3))"
      ],
      "execution_count": 75,
      "outputs": [
        {
          "output_type": "display_data",
          "data": {
            "text/html": [
              "<table border=\"1\" class=\"dataframe\">\n",
              "  <thead>\n",
              "    <tr style=\"text-align: left;\">\n",
              "      <th>epoch</th>\n",
              "      <th>train_loss</th>\n",
              "      <th>valid_loss</th>\n",
              "      <th>accuracy</th>\n",
              "      <th>time</th>\n",
              "    </tr>\n",
              "  </thead>\n",
              "  <tbody>\n",
              "    <tr>\n",
              "      <td>0</td>\n",
              "      <td>4.534290</td>\n",
              "      <td>3.940370</td>\n",
              "      <td>0.252174</td>\n",
              "      <td>01:10</td>\n",
              "    </tr>\n",
              "    <tr>\n",
              "      <td>1</td>\n",
              "      <td>4.399907</td>\n",
              "      <td>3.865324</td>\n",
              "      <td>0.243478</td>\n",
              "      <td>01:08</td>\n",
              "    </tr>\n",
              "  </tbody>\n",
              "</table>"
            ],
            "text/plain": [
              "<IPython.core.display.HTML object>"
            ]
          },
          "metadata": {
            "tags": []
          }
        }
      ]
    },
    {
      "cell_type": "code",
      "metadata": {
        "id": "bIft7W25GwSu",
        "outputId": "eb0521e1-9dc7-4dc4-b5c9-a5de5fd5eb9d",
        "colab": {
          "base_uri": "https://localhost:8080/",
          "height": 111
        }
      },
      "source": [
        "learn.fit_one_cycle(2, slice(2e-3/100, 2e-3))"
      ],
      "execution_count": 76,
      "outputs": [
        {
          "output_type": "display_data",
          "data": {
            "text/html": [
              "<table border=\"1\" class=\"dataframe\">\n",
              "  <thead>\n",
              "    <tr style=\"text-align: left;\">\n",
              "      <th>epoch</th>\n",
              "      <th>train_loss</th>\n",
              "      <th>valid_loss</th>\n",
              "      <th>accuracy</th>\n",
              "      <th>time</th>\n",
              "    </tr>\n",
              "  </thead>\n",
              "  <tbody>\n",
              "    <tr>\n",
              "      <td>0</td>\n",
              "      <td>4.154134</td>\n",
              "      <td>3.806175</td>\n",
              "      <td>0.295652</td>\n",
              "      <td>01:09</td>\n",
              "    </tr>\n",
              "    <tr>\n",
              "      <td>1</td>\n",
              "      <td>4.035742</td>\n",
              "      <td>3.764087</td>\n",
              "      <td>0.286957</td>\n",
              "      <td>01:05</td>\n",
              "    </tr>\n",
              "  </tbody>\n",
              "</table>"
            ],
            "text/plain": [
              "<IPython.core.display.HTML object>"
            ]
          },
          "metadata": {
            "tags": []
          }
        }
      ]
    },
    {
      "cell_type": "code",
      "metadata": {
        "id": "EEHszVRvGyFt",
        "outputId": "65732f24-ff76-4337-acb4-e6ac7d95ef92",
        "colab": {
          "base_uri": "https://localhost:8080/",
          "height": 111
        }
      },
      "source": [
        "learn.fit_one_cycle(2, slice(2e-3/100, 2e-3))"
      ],
      "execution_count": 77,
      "outputs": [
        {
          "output_type": "display_data",
          "data": {
            "text/html": [
              "<table border=\"1\" class=\"dataframe\">\n",
              "  <thead>\n",
              "    <tr style=\"text-align: left;\">\n",
              "      <th>epoch</th>\n",
              "      <th>train_loss</th>\n",
              "      <th>valid_loss</th>\n",
              "      <th>accuracy</th>\n",
              "      <th>time</th>\n",
              "    </tr>\n",
              "  </thead>\n",
              "  <tbody>\n",
              "    <tr>\n",
              "      <td>0</td>\n",
              "      <td>3.886497</td>\n",
              "      <td>3.611849</td>\n",
              "      <td>0.313043</td>\n",
              "      <td>01:07</td>\n",
              "    </tr>\n",
              "    <tr>\n",
              "      <td>1</td>\n",
              "      <td>3.699626</td>\n",
              "      <td>3.577962</td>\n",
              "      <td>0.313043</td>\n",
              "      <td>01:09</td>\n",
              "    </tr>\n",
              "  </tbody>\n",
              "</table>"
            ],
            "text/plain": [
              "<IPython.core.display.HTML object>"
            ]
          },
          "metadata": {
            "tags": []
          }
        }
      ]
    },
    {
      "cell_type": "code",
      "metadata": {
        "id": "XsHfrhCHG3dN",
        "outputId": "33eeab93-2d48-49dc-c516-79e1f1c35f79",
        "colab": {
          "base_uri": "https://localhost:8080/",
          "height": 173
        }
      },
      "source": [
        "learn.fit_one_cycle(4, slice(2e-3/100, 2e-3))"
      ],
      "execution_count": 78,
      "outputs": [
        {
          "output_type": "display_data",
          "data": {
            "text/html": [
              "<table border=\"1\" class=\"dataframe\">\n",
              "  <thead>\n",
              "    <tr style=\"text-align: left;\">\n",
              "      <th>epoch</th>\n",
              "      <th>train_loss</th>\n",
              "      <th>valid_loss</th>\n",
              "      <th>accuracy</th>\n",
              "      <th>time</th>\n",
              "    </tr>\n",
              "  </thead>\n",
              "  <tbody>\n",
              "    <tr>\n",
              "      <td>0</td>\n",
              "      <td>3.546338</td>\n",
              "      <td>3.582319</td>\n",
              "      <td>0.295652</td>\n",
              "      <td>01:10</td>\n",
              "    </tr>\n",
              "    <tr>\n",
              "      <td>1</td>\n",
              "      <td>3.482697</td>\n",
              "      <td>3.530619</td>\n",
              "      <td>0.313043</td>\n",
              "      <td>01:07</td>\n",
              "    </tr>\n",
              "    <tr>\n",
              "      <td>2</td>\n",
              "      <td>3.300238</td>\n",
              "      <td>3.451803</td>\n",
              "      <td>0.313043</td>\n",
              "      <td>01:06</td>\n",
              "    </tr>\n",
              "    <tr>\n",
              "      <td>3</td>\n",
              "      <td>3.127738</td>\n",
              "      <td>3.455428</td>\n",
              "      <td>0.304348</td>\n",
              "      <td>01:06</td>\n",
              "    </tr>\n",
              "  </tbody>\n",
              "</table>"
            ],
            "text/plain": [
              "<IPython.core.display.HTML object>"
            ]
          },
          "metadata": {
            "tags": []
          }
        }
      ]
    },
    {
      "cell_type": "code",
      "metadata": {
        "id": "0Zsd99isb9EQ",
        "outputId": "51c2b2d6-1a51-4158-8c31-41cbc6c398bd",
        "colab": {
          "base_uri": "https://localhost:8080/",
          "height": 173
        }
      },
      "source": [
        "learn.fit_one_cycle(4, slice(2e-3/100, 2e-3))"
      ],
      "execution_count": 79,
      "outputs": [
        {
          "output_type": "display_data",
          "data": {
            "text/html": [
              "<table border=\"1\" class=\"dataframe\">\n",
              "  <thead>\n",
              "    <tr style=\"text-align: left;\">\n",
              "      <th>epoch</th>\n",
              "      <th>train_loss</th>\n",
              "      <th>valid_loss</th>\n",
              "      <th>accuracy</th>\n",
              "      <th>time</th>\n",
              "    </tr>\n",
              "  </thead>\n",
              "  <tbody>\n",
              "    <tr>\n",
              "      <td>0</td>\n",
              "      <td>2.940164</td>\n",
              "      <td>3.410591</td>\n",
              "      <td>0.321739</td>\n",
              "      <td>01:08</td>\n",
              "    </tr>\n",
              "    <tr>\n",
              "      <td>1</td>\n",
              "      <td>2.896303</td>\n",
              "      <td>3.470905</td>\n",
              "      <td>0.321739</td>\n",
              "      <td>01:11</td>\n",
              "    </tr>\n",
              "    <tr>\n",
              "      <td>2</td>\n",
              "      <td>2.704823</td>\n",
              "      <td>3.423006</td>\n",
              "      <td>0.330435</td>\n",
              "      <td>01:09</td>\n",
              "    </tr>\n",
              "    <tr>\n",
              "      <td>3</td>\n",
              "      <td>2.548885</td>\n",
              "      <td>3.466066</td>\n",
              "      <td>0.330435</td>\n",
              "      <td>01:10</td>\n",
              "    </tr>\n",
              "  </tbody>\n",
              "</table>"
            ],
            "text/plain": [
              "<IPython.core.display.HTML object>"
            ]
          },
          "metadata": {
            "tags": []
          }
        }
      ]
    },
    {
      "cell_type": "code",
      "metadata": {
        "id": "atNWNKDFPbuI",
        "outputId": "0a884bc9-cef9-44d0-ad55-2c7fc66fceda",
        "colab": {
          "base_uri": "https://localhost:8080/",
          "height": 173
        }
      },
      "source": [
        "learn.fit_one_cycle(4, slice(2e-3/100, 2e-3))"
      ],
      "execution_count": 80,
      "outputs": [
        {
          "output_type": "display_data",
          "data": {
            "text/html": [
              "<table border=\"1\" class=\"dataframe\">\n",
              "  <thead>\n",
              "    <tr style=\"text-align: left;\">\n",
              "      <th>epoch</th>\n",
              "      <th>train_loss</th>\n",
              "      <th>valid_loss</th>\n",
              "      <th>accuracy</th>\n",
              "      <th>time</th>\n",
              "    </tr>\n",
              "  </thead>\n",
              "  <tbody>\n",
              "    <tr>\n",
              "      <td>0</td>\n",
              "      <td>2.450135</td>\n",
              "      <td>3.361786</td>\n",
              "      <td>0.321739</td>\n",
              "      <td>01:08</td>\n",
              "    </tr>\n",
              "    <tr>\n",
              "      <td>1</td>\n",
              "      <td>2.389849</td>\n",
              "      <td>3.519087</td>\n",
              "      <td>0.286957</td>\n",
              "      <td>01:09</td>\n",
              "    </tr>\n",
              "    <tr>\n",
              "      <td>2</td>\n",
              "      <td>2.213291</td>\n",
              "      <td>3.413743</td>\n",
              "      <td>0.339130</td>\n",
              "      <td>01:07</td>\n",
              "    </tr>\n",
              "    <tr>\n",
              "      <td>3</td>\n",
              "      <td>2.058895</td>\n",
              "      <td>3.431944</td>\n",
              "      <td>0.313043</td>\n",
              "      <td>01:09</td>\n",
              "    </tr>\n",
              "  </tbody>\n",
              "</table>"
            ],
            "text/plain": [
              "<IPython.core.display.HTML object>"
            ]
          },
          "metadata": {
            "tags": []
          }
        }
      ]
    },
    {
      "cell_type": "code",
      "metadata": {
        "id": "rKrBTZ0T1uVA",
        "outputId": "b93b04dd-88cf-435f-c38e-63617b667a62",
        "colab": {
          "base_uri": "https://localhost:8080/",
          "height": 173
        }
      },
      "source": [
        "learn.fit_one_cycle(4, slice(2e-3/100, 2e-3))"
      ],
      "execution_count": 81,
      "outputs": [
        {
          "output_type": "display_data",
          "data": {
            "text/html": [
              "<table border=\"1\" class=\"dataframe\">\n",
              "  <thead>\n",
              "    <tr style=\"text-align: left;\">\n",
              "      <th>epoch</th>\n",
              "      <th>train_loss</th>\n",
              "      <th>valid_loss</th>\n",
              "      <th>accuracy</th>\n",
              "      <th>time</th>\n",
              "    </tr>\n",
              "  </thead>\n",
              "  <tbody>\n",
              "    <tr>\n",
              "      <td>0</td>\n",
              "      <td>1.905102</td>\n",
              "      <td>3.434018</td>\n",
              "      <td>0.347826</td>\n",
              "      <td>01:10</td>\n",
              "    </tr>\n",
              "    <tr>\n",
              "      <td>1</td>\n",
              "      <td>1.878758</td>\n",
              "      <td>3.483757</td>\n",
              "      <td>0.347826</td>\n",
              "      <td>01:04</td>\n",
              "    </tr>\n",
              "    <tr>\n",
              "      <td>2</td>\n",
              "      <td>1.754876</td>\n",
              "      <td>3.493609</td>\n",
              "      <td>0.313043</td>\n",
              "      <td>01:09</td>\n",
              "    </tr>\n",
              "    <tr>\n",
              "      <td>3</td>\n",
              "      <td>1.631024</td>\n",
              "      <td>3.518100</td>\n",
              "      <td>0.313043</td>\n",
              "      <td>01:03</td>\n",
              "    </tr>\n",
              "  </tbody>\n",
              "</table>"
            ],
            "text/plain": [
              "<IPython.core.display.HTML object>"
            ]
          },
          "metadata": {
            "tags": []
          }
        }
      ]
    },
    {
      "cell_type": "code",
      "metadata": {
        "id": "ajQC6WDg1yA9",
        "outputId": "815c59c4-b4e6-4657-d2ee-dcc9015f7ae6",
        "colab": {
          "base_uri": "https://localhost:8080/",
          "height": 173
        }
      },
      "source": [
        "learn.fit_one_cycle(4, slice(2e-3/100, 2e-3))"
      ],
      "execution_count": 82,
      "outputs": [
        {
          "output_type": "display_data",
          "data": {
            "text/html": [
              "<table border=\"1\" class=\"dataframe\">\n",
              "  <thead>\n",
              "    <tr style=\"text-align: left;\">\n",
              "      <th>epoch</th>\n",
              "      <th>train_loss</th>\n",
              "      <th>valid_loss</th>\n",
              "      <th>accuracy</th>\n",
              "      <th>time</th>\n",
              "    </tr>\n",
              "  </thead>\n",
              "  <tbody>\n",
              "    <tr>\n",
              "      <td>0</td>\n",
              "      <td>1.485999</td>\n",
              "      <td>3.535270</td>\n",
              "      <td>0.347826</td>\n",
              "      <td>01:06</td>\n",
              "    </tr>\n",
              "    <tr>\n",
              "      <td>1</td>\n",
              "      <td>1.480606</td>\n",
              "      <td>3.516449</td>\n",
              "      <td>0.365217</td>\n",
              "      <td>01:08</td>\n",
              "    </tr>\n",
              "    <tr>\n",
              "      <td>2</td>\n",
              "      <td>1.390557</td>\n",
              "      <td>3.597142</td>\n",
              "      <td>0.347826</td>\n",
              "      <td>01:07</td>\n",
              "    </tr>\n",
              "    <tr>\n",
              "      <td>3</td>\n",
              "      <td>1.285815</td>\n",
              "      <td>3.598694</td>\n",
              "      <td>0.339130</td>\n",
              "      <td>01:08</td>\n",
              "    </tr>\n",
              "  </tbody>\n",
              "</table>"
            ],
            "text/plain": [
              "<IPython.core.display.HTML object>"
            ]
          },
          "metadata": {
            "tags": []
          }
        }
      ]
    },
    {
      "cell_type": "code",
      "metadata": {
        "id": "KKydb0B4BKGk",
        "outputId": "7ad31db2-bbbd-4603-80ea-e37ac98f1643",
        "colab": {
          "base_uri": "https://localhost:8080/",
          "height": 173
        }
      },
      "source": [
        "learn.fit_one_cycle(4, slice(2e-3/100, 2e-3))"
      ],
      "execution_count": 83,
      "outputs": [
        {
          "output_type": "display_data",
          "data": {
            "text/html": [
              "<table border=\"1\" class=\"dataframe\">\n",
              "  <thead>\n",
              "    <tr style=\"text-align: left;\">\n",
              "      <th>epoch</th>\n",
              "      <th>train_loss</th>\n",
              "      <th>valid_loss</th>\n",
              "      <th>accuracy</th>\n",
              "      <th>time</th>\n",
              "    </tr>\n",
              "  </thead>\n",
              "  <tbody>\n",
              "    <tr>\n",
              "      <td>0</td>\n",
              "      <td>1.162937</td>\n",
              "      <td>3.543431</td>\n",
              "      <td>0.365217</td>\n",
              "      <td>01:09</td>\n",
              "    </tr>\n",
              "    <tr>\n",
              "      <td>1</td>\n",
              "      <td>1.166371</td>\n",
              "      <td>3.786370</td>\n",
              "      <td>0.356522</td>\n",
              "      <td>01:02</td>\n",
              "    </tr>\n",
              "    <tr>\n",
              "      <td>2</td>\n",
              "      <td>1.102197</td>\n",
              "      <td>3.824914</td>\n",
              "      <td>0.321739</td>\n",
              "      <td>01:04</td>\n",
              "    </tr>\n",
              "    <tr>\n",
              "      <td>3</td>\n",
              "      <td>0.992439</td>\n",
              "      <td>3.657404</td>\n",
              "      <td>0.347826</td>\n",
              "      <td>01:10</td>\n",
              "    </tr>\n",
              "  </tbody>\n",
              "</table>"
            ],
            "text/plain": [
              "<IPython.core.display.HTML object>"
            ]
          },
          "metadata": {
            "tags": []
          }
        }
      ]
    },
    {
      "cell_type": "code",
      "metadata": {
        "id": "T2APKtFKBpGY",
        "outputId": "e9f4dc96-d243-44da-8ec5-511572a58eb0",
        "colab": {
          "base_uri": "https://localhost:8080/",
          "height": 173
        }
      },
      "source": [
        "learn.fit_one_cycle(4, slice(2e-3/100, 2e-3))"
      ],
      "execution_count": 84,
      "outputs": [
        {
          "output_type": "display_data",
          "data": {
            "text/html": [
              "<table border=\"1\" class=\"dataframe\">\n",
              "  <thead>\n",
              "    <tr style=\"text-align: left;\">\n",
              "      <th>epoch</th>\n",
              "      <th>train_loss</th>\n",
              "      <th>valid_loss</th>\n",
              "      <th>accuracy</th>\n",
              "      <th>time</th>\n",
              "    </tr>\n",
              "  </thead>\n",
              "  <tbody>\n",
              "    <tr>\n",
              "      <td>0</td>\n",
              "      <td>0.880399</td>\n",
              "      <td>3.805186</td>\n",
              "      <td>0.339130</td>\n",
              "      <td>01:05</td>\n",
              "    </tr>\n",
              "    <tr>\n",
              "      <td>1</td>\n",
              "      <td>0.893807</td>\n",
              "      <td>3.921103</td>\n",
              "      <td>0.330435</td>\n",
              "      <td>01:11</td>\n",
              "    </tr>\n",
              "    <tr>\n",
              "      <td>2</td>\n",
              "      <td>0.850358</td>\n",
              "      <td>3.903486</td>\n",
              "      <td>0.365217</td>\n",
              "      <td>01:09</td>\n",
              "    </tr>\n",
              "    <tr>\n",
              "      <td>3</td>\n",
              "      <td>0.784890</td>\n",
              "      <td>3.905437</td>\n",
              "      <td>0.347826</td>\n",
              "      <td>01:09</td>\n",
              "    </tr>\n",
              "  </tbody>\n",
              "</table>"
            ],
            "text/plain": [
              "<IPython.core.display.HTML object>"
            ]
          },
          "metadata": {
            "tags": []
          }
        }
      ]
    },
    {
      "cell_type": "code",
      "metadata": {
        "id": "qtTypA1sPgLU",
        "outputId": "d308bfdb-f527-400a-f747-ce8e0a8b47db",
        "colab": {
          "base_uri": "https://localhost:8080/",
          "height": 111
        }
      },
      "source": [
        "learn.fit_one_cycle(2, slice(2e-3/100, 2e-3))"
      ],
      "execution_count": 85,
      "outputs": [
        {
          "output_type": "display_data",
          "data": {
            "text/html": [
              "<table border=\"1\" class=\"dataframe\">\n",
              "  <thead>\n",
              "    <tr style=\"text-align: left;\">\n",
              "      <th>epoch</th>\n",
              "      <th>train_loss</th>\n",
              "      <th>valid_loss</th>\n",
              "      <th>accuracy</th>\n",
              "      <th>time</th>\n",
              "    </tr>\n",
              "  </thead>\n",
              "  <tbody>\n",
              "    <tr>\n",
              "      <td>0</td>\n",
              "      <td>0.778127</td>\n",
              "      <td>4.036601</td>\n",
              "      <td>0.339130</td>\n",
              "      <td>01:07</td>\n",
              "    </tr>\n",
              "    <tr>\n",
              "      <td>1</td>\n",
              "      <td>0.743246</td>\n",
              "      <td>3.961167</td>\n",
              "      <td>0.365217</td>\n",
              "      <td>01:10</td>\n",
              "    </tr>\n",
              "  </tbody>\n",
              "</table>"
            ],
            "text/plain": [
              "<IPython.core.display.HTML object>"
            ]
          },
          "metadata": {
            "tags": []
          }
        }
      ]
    },
    {
      "cell_type": "code",
      "metadata": {
        "id": "b242kBsTUp9Y",
        "outputId": "fe2d87d4-bd84-4690-ce1d-3175febb7ea1",
        "colab": {
          "base_uri": "https://localhost:8080/",
          "height": 111
        }
      },
      "source": [
        "learn.fit_one_cycle(2, slice(2e-3/100, 2e-3))"
      ],
      "execution_count": 86,
      "outputs": [
        {
          "output_type": "display_data",
          "data": {
            "text/html": [
              "<table border=\"1\" class=\"dataframe\">\n",
              "  <thead>\n",
              "    <tr style=\"text-align: left;\">\n",
              "      <th>epoch</th>\n",
              "      <th>train_loss</th>\n",
              "      <th>valid_loss</th>\n",
              "      <th>accuracy</th>\n",
              "      <th>time</th>\n",
              "    </tr>\n",
              "  </thead>\n",
              "  <tbody>\n",
              "    <tr>\n",
              "      <td>0</td>\n",
              "      <td>0.685494</td>\n",
              "      <td>3.990064</td>\n",
              "      <td>0.339130</td>\n",
              "      <td>01:11</td>\n",
              "    </tr>\n",
              "    <tr>\n",
              "      <td>1</td>\n",
              "      <td>0.667009</td>\n",
              "      <td>4.023195</td>\n",
              "      <td>0.365217</td>\n",
              "      <td>01:05</td>\n",
              "    </tr>\n",
              "  </tbody>\n",
              "</table>"
            ],
            "text/plain": [
              "<IPython.core.display.HTML object>"
            ]
          },
          "metadata": {
            "tags": []
          }
        }
      ]
    },
    {
      "cell_type": "code",
      "metadata": {
        "id": "Duwf1Ih5VeDZ",
        "outputId": "4e5f0139-fd6b-46b2-b9bc-09c3f57b295f",
        "colab": {
          "base_uri": "https://localhost:8080/",
          "height": 80
        }
      },
      "source": [
        "learn.fit_one_cycle(1, slice(2e-3/100, 2e-3))"
      ],
      "execution_count": 87,
      "outputs": [
        {
          "output_type": "display_data",
          "data": {
            "text/html": [
              "<table border=\"1\" class=\"dataframe\">\n",
              "  <thead>\n",
              "    <tr style=\"text-align: left;\">\n",
              "      <th>epoch</th>\n",
              "      <th>train_loss</th>\n",
              "      <th>valid_loss</th>\n",
              "      <th>accuracy</th>\n",
              "      <th>time</th>\n",
              "    </tr>\n",
              "  </thead>\n",
              "  <tbody>\n",
              "    <tr>\n",
              "      <td>0</td>\n",
              "      <td>0.611870</td>\n",
              "      <td>4.025961</td>\n",
              "      <td>0.339130</td>\n",
              "      <td>01:09</td>\n",
              "    </tr>\n",
              "  </tbody>\n",
              "</table>"
            ],
            "text/plain": [
              "<IPython.core.display.HTML object>"
            ]
          },
          "metadata": {
            "tags": []
          }
        }
      ]
    },
    {
      "cell_type": "code",
      "metadata": {
        "id": "c65d-osfDUXm"
      },
      "source": [
        "# save the best model\n",
        "\n",
        "learn.save_encoder('TwADR_pubmed_fold0')"
      ],
      "execution_count": 88,
      "outputs": []
    },
    {
      "cell_type": "code",
      "metadata": {
        "id": "5h-A_GpAIYg8",
        "outputId": "96d9bdb7-3b2b-4040-e411-6cb07a620ab5",
        "colab": {
          "base_uri": "https://localhost:8080/",
          "height": 80
        }
      },
      "source": [
        "learn.fit_one_cycle(1, slice(2e-3/100, 2e-3))"
      ],
      "execution_count": 89,
      "outputs": [
        {
          "output_type": "display_data",
          "data": {
            "text/html": [
              "<table border=\"1\" class=\"dataframe\">\n",
              "  <thead>\n",
              "    <tr style=\"text-align: left;\">\n",
              "      <th>epoch</th>\n",
              "      <th>train_loss</th>\n",
              "      <th>valid_loss</th>\n",
              "      <th>accuracy</th>\n",
              "      <th>time</th>\n",
              "    </tr>\n",
              "  </thead>\n",
              "  <tbody>\n",
              "    <tr>\n",
              "      <td>0</td>\n",
              "      <td>0.633194</td>\n",
              "      <td>4.026898</td>\n",
              "      <td>0.356522</td>\n",
              "      <td>01:09</td>\n",
              "    </tr>\n",
              "  </tbody>\n",
              "</table>"
            ],
            "text/plain": [
              "<IPython.core.display.HTML object>"
            ]
          },
          "metadata": {
            "tags": []
          }
        }
      ]
    },
    {
      "cell_type": "code",
      "metadata": {
        "id": "qc4poYxzIwca",
        "outputId": "df6208e0-f4e4-4aa0-fea2-b89df03389bf",
        "colab": {
          "base_uri": "https://localhost:8080/",
          "height": 80
        }
      },
      "source": [
        "learn.fit_one_cycle(1, slice(2e-3/100, 2e-3))"
      ],
      "execution_count": 90,
      "outputs": [
        {
          "output_type": "display_data",
          "data": {
            "text/html": [
              "<table border=\"1\" class=\"dataframe\">\n",
              "  <thead>\n",
              "    <tr style=\"text-align: left;\">\n",
              "      <th>epoch</th>\n",
              "      <th>train_loss</th>\n",
              "      <th>valid_loss</th>\n",
              "      <th>accuracy</th>\n",
              "      <th>time</th>\n",
              "    </tr>\n",
              "  </thead>\n",
              "  <tbody>\n",
              "    <tr>\n",
              "      <td>0</td>\n",
              "      <td>0.550712</td>\n",
              "      <td>4.162331</td>\n",
              "      <td>0.321739</td>\n",
              "      <td>01:14</td>\n",
              "    </tr>\n",
              "  </tbody>\n",
              "</table>"
            ],
            "text/plain": [
              "<IPython.core.display.HTML object>"
            ]
          },
          "metadata": {
            "tags": []
          }
        }
      ]
    },
    {
      "cell_type": "code",
      "metadata": {
        "id": "66s4PxV1JVfo",
        "outputId": "979f2146-25f1-471f-b409-be4aff899509",
        "colab": {
          "base_uri": "https://localhost:8080/",
          "height": 80
        }
      },
      "source": [
        "learn.fit_one_cycle(1, slice(2e-3/100, 2e-3))"
      ],
      "execution_count": 91,
      "outputs": [
        {
          "output_type": "display_data",
          "data": {
            "text/html": [
              "<table border=\"1\" class=\"dataframe\">\n",
              "  <thead>\n",
              "    <tr style=\"text-align: left;\">\n",
              "      <th>epoch</th>\n",
              "      <th>train_loss</th>\n",
              "      <th>valid_loss</th>\n",
              "      <th>accuracy</th>\n",
              "      <th>time</th>\n",
              "    </tr>\n",
              "  </thead>\n",
              "  <tbody>\n",
              "    <tr>\n",
              "      <td>0</td>\n",
              "      <td>0.559730</td>\n",
              "      <td>4.275264</td>\n",
              "      <td>0.347826</td>\n",
              "      <td>01:09</td>\n",
              "    </tr>\n",
              "  </tbody>\n",
              "</table>"
            ],
            "text/plain": [
              "<IPython.core.display.HTML object>"
            ]
          },
          "metadata": {
            "tags": []
          }
        }
      ]
    },
    {
      "cell_type": "markdown",
      "metadata": {
        "id": "rCwZU0E2RgM6"
      },
      "source": [
        "# Part three: Predict on the test dataset"
      ]
    },
    {
      "cell_type": "code",
      "metadata": {
        "id": "gDm72c-dOu7d",
        "outputId": "06290ed1-c4dc-4c30-cb6a-999e3fcc8210",
        "colab": {
          "base_uri": "https://localhost:8080/",
          "height": 17
        }
      },
      "source": [
        "# use the test data for prediction\n",
        "\n",
        "preds, y = learn.get_preds(DatasetType.Test)"
      ],
      "execution_count": 92,
      "outputs": [
        {
          "output_type": "display_data",
          "data": {
            "text/html": [
              ""
            ],
            "text/plain": [
              "<IPython.core.display.HTML object>"
            ]
          },
          "metadata": {
            "tags": []
          }
        }
      ]
    },
    {
      "cell_type": "code",
      "metadata": {
        "id": "6tFSQcsWPvxn",
        "outputId": "90283080-2a26-424a-e7bc-e38453099daa",
        "colab": {
          "base_uri": "https://localhost:8080/",
          "height": 105
        }
      },
      "source": [
        "predictions, *_ = learn.get_preds(DatasetType.Test)\n",
        "labels = np.argmax(predictions, 1)\n",
        "predict_list = labels.tolist()\n",
        "standard_list = test[0].tolist()\n",
        "\n",
        "print(len(predict_list))\n",
        "print(len(standard_list))\n",
        "\n",
        "print(predict_list)\n",
        "print(standard_list)"
      ],
      "execution_count": 93,
      "outputs": [
        {
          "output_type": "display_data",
          "data": {
            "text/html": [
              ""
            ],
            "text/plain": [
              "<IPython.core.display.HTML object>"
            ]
          },
          "metadata": {
            "tags": []
          }
        },
        {
          "output_type": "stream",
          "text": [
            "143\n",
            "143\n",
            "[13, 1597, 265, 1578, 1184, 2149, 1096, 189, 231, 231, 233, 2147, 2147, 233, 249, 249, 1724, 1787, 1373, 1519, 1529, 2002, 644, 749, 749, 749, 452, 792, 792, 792, 813, 852, 852, 749, 452, 2149, 974, 978, 978, 978, 978, 978, 1295, 1822, 1007, 2149, 1669, 1767, 1089, 1884, 426, 441, 1136, 1136, 908, 1681, 1610, 1340, 1942, 1767, 1265, 1930, 1295, 1073, 518, 1308, 1340, 1265, 1340, 1265, 1340, 1340, 1822, 1484, 1508, 1526, 1531, 908, 1597, 1597, 1597, 1597, 1597, 1599, 1096, 1942, 1610, 1099, 1669, 1767, 1682, 1341, 1711, 1545, 1718, 2149, 1718, 1727, 1073, 2149, 1718, 1815, 2149, 1718, 1787, 1787, 2032, 1787, 1787, 1787, 1099, 1798, 1815, 1815, 1767, 1857, 907, 1884, 825, 1787, 1930, 1767, 1936, 815, 1942, 1942, 2002, 2109, 1915, 2018, 1787, 452, 1340, 1877, 249, 1787, 2032, 2147, 2147, 1341, 1787, 1815, 1815]\n",
            "[13, 60, 108, 109, 133, 154, 187, 189, 231, 231, 233, 233, 233, 233, 249, 249, 265, 393, 418, 520, 561, 561, 644, 749, 749, 749, 772, 792, 792, 792, 813, 852, 852, 887, 908, 974, 974, 978, 978, 978, 978, 978, 978, 978, 1007, 1048, 1073, 1073, 1089, 1096, 1099, 1099, 1136, 1136, 1184, 1204, 1204, 1227, 1227, 1253, 1265, 1278, 1295, 1295, 1296, 1308, 1340, 1340, 1340, 1340, 1340, 1340, 1356, 1484, 1508, 1526, 1531, 1597, 1597, 1597, 1597, 1597, 1597, 1599, 1599, 1610, 1610, 1610, 1669, 1676, 1682, 1682, 1711, 1718, 1718, 1718, 1718, 1727, 1727, 1727, 1753, 1753, 1767, 1767, 1787, 1787, 1787, 1787, 1787, 1787, 1787, 1798, 1815, 1815, 1815, 1857, 1877, 1884, 1884, 1925, 1930, 1936, 1936, 1940, 1942, 1942, 2002, 2014, 2014, 2018, 2032, 2063, 2081, 2103, 2110, 2147, 2147, 2147, 2147, 2150, 2150, 2191, 2191]\n"
          ],
          "name": "stdout"
        }
      ]
    },
    {
      "cell_type": "code",
      "metadata": {
        "id": "XIC4zufnMxtq",
        "outputId": "d58cb932-46cf-4410-e79c-e47e829e74be",
        "colab": {
          "base_uri": "https://localhost:8080/"
        }
      },
      "source": [
        "correct_num = 0\n",
        "\n",
        "for i in range(0, len(standard_list)):\n",
        "  if predict_list[i] == standard_list[i]:\n",
        "    correct_num = correct_num+1\n",
        "  else:\n",
        "    pass\n",
        "print(correct_num)\n",
        "\n",
        "predict_accuracy = correct_num/len(predict_list)\n",
        "print(predict_accuracy)"
      ],
      "execution_count": 94,
      "outputs": [
        {
          "output_type": "stream",
          "text": [
            "70\n",
            "0.48951048951048953\n"
          ],
          "name": "stdout"
        }
      ]
    },
    {
      "cell_type": "code",
      "metadata": {
        "id": "zlKMHp1CIaRJ"
      },
      "source": [
        ""
      ],
      "execution_count": 94,
      "outputs": []
    }
  ]
}