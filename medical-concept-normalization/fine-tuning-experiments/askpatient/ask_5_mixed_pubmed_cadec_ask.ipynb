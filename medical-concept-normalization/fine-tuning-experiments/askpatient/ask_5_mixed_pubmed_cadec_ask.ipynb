{
  "nbformat": 4,
  "nbformat_minor": 0,
  "metadata": {
    "accelerator": "TPU",
    "colab": {
      "name": "ask_5_mixed_pubmed_cadec_ask.ipynb",
      "provenance": [],
      "collapsed_sections": [],
      "toc_visible": true,
      "include_colab_link": true
    },
    "kernelspec": {
      "display_name": "Python 3",
      "name": "python3"
    }
  },
  "cells": [
    {
      "cell_type": "markdown",
      "metadata": {
        "id": "view-in-github",
        "colab_type": "text"
      },
      "source": [
        "<a href=\"https://colab.research.google.com/github/unt-iialab/medical-concept-normalization/blob/master/medical-concept-normalization/fine-tuning-experiments/askpatient/ask_5_mixed_pubmed_cadec_ask.ipynb\" target=\"_parent\"><img src=\"https://colab.research.google.com/assets/colab-badge.svg\" alt=\"Open In Colab\"/></a>"
      ]
    },
    {
      "cell_type": "code",
      "metadata": {
        "id": "adSi6i2-dWxy"
      },
      "source": [
        "import os"
      ],
      "execution_count": 1,
      "outputs": []
    },
    {
      "cell_type": "code",
      "metadata": {
        "id": "E7xYCRGPjd9B"
      },
      "source": [
        "base_dir = 'medical-concept-normalization'"
      ],
      "execution_count": 2,
      "outputs": []
    },
    {
      "cell_type": "code",
      "metadata": {
        "id": "yvIW3aUDjYNS"
      },
      "source": [
        "os.mkdir(base_dir)"
      ],
      "execution_count": 3,
      "outputs": []
    },
    {
      "cell_type": "code",
      "metadata": {
        "id": "es-FFLlfk6SG"
      },
      "source": [
        "os.mkdir('medical-concept-normalization/data_collection')"
      ],
      "execution_count": 4,
      "outputs": []
    },
    {
      "cell_type": "markdown",
      "metadata": {
        "id": "0R-Guw_VoJXm"
      },
      "source": [
        "**Install fastai and clone the fastai for text classification**\n",
        "\n"
      ]
    },
    {
      "cell_type": "code",
      "metadata": {
        "id": "QVZa3Z0PmHFH",
        "outputId": "86c9aff1-b952-4379-cf69-9ebd04a6c665",
        "colab": {
          "base_uri": "https://localhost:8080/",
          "height": 68
        }
      },
      "source": [
        "!curl https://course-v3.fast.ai/setup/colab | bash"
      ],
      "execution_count": 5,
      "outputs": [
        {
          "output_type": "stream",
          "text": [
            "  % Total    % Received % Xferd  Average Speed   Time    Time     Time  Current\n",
            "                                 Dload  Upload   Total   Spent    Left  Speed\n",
            "\r  0     0    0     0    0     0      0      0 --:--:-- --:--:-- --:--:--     0curl: (6) Could not resolve host: course-v3.fast.ai\n"
          ],
          "name": "stdout"
        }
      ]
    },
    {
      "cell_type": "code",
      "metadata": {
        "id": "_FBFFEBrmJC0",
        "outputId": "4c6a7cab-a060-49de-84bf-336b5ba9ea0f",
        "colab": {
          "base_uri": "https://localhost:8080/",
          "height": 85
        }
      },
      "source": [
        "!git clone https://github.com/wshuyi/demo-nlp-classification-fastai.git"
      ],
      "execution_count": 6,
      "outputs": [
        {
          "output_type": "stream",
          "text": [
            "Cloning into 'demo-nlp-classification-fastai'...\n",
            "remote: Enumerating objects: 9, done.\u001b[K\n",
            "remote: Total 9 (delta 0), reused 0 (delta 0), pack-reused 9\u001b[K\n",
            "Unpacking objects: 100% (9/9), done.\n"
          ],
          "name": "stdout"
        }
      ]
    },
    {
      "cell_type": "code",
      "metadata": {
        "id": "66zfh_JqmWMU"
      },
      "source": [
        "from fastai import *\n",
        "from fastai.text import *"
      ],
      "execution_count": 7,
      "outputs": []
    },
    {
      "cell_type": "markdown",
      "metadata": {
        "id": "mNIw-yALdBU9"
      },
      "source": [
        "**Set the path of the data collections**"
      ]
    },
    {
      "cell_type": "code",
      "metadata": {
        "id": "pzH7VMh4mqCL"
      },
      "source": [
        "path = Path('medical-concept-normalization/data_collection')"
      ],
      "execution_count": 8,
      "outputs": []
    },
    {
      "cell_type": "code",
      "metadata": {
        "id": "b8fjI6yyn4aS"
      },
      "source": [
        "# training data set\n",
        "\n",
        "train_csv = path/'AskAPatient.fold-5.train.csv'\n",
        "train = pd.read_csv(train_csv, header=None)\n",
        "#train.head()\n",
        "#train.info()"
      ],
      "execution_count": 10,
      "outputs": []
    },
    {
      "cell_type": "code",
      "metadata": {
        "id": "Hmlr-bAorfHd",
        "outputId": "e332bc1b-b29e-4591-954f-4685cc9e1ee6",
        "colab": {
          "base_uri": "https://localhost:8080/",
          "height": 204
        }
      },
      "source": [
        "# validating data set\n",
        "\n",
        "valid = pd.read_csv(path/\"AskAPatient.fold-5.validation.csv\",header=None)\n",
        "valid.head()"
      ],
      "execution_count": 11,
      "outputs": [
        {
          "output_type": "execute_result",
          "data": {
            "text/html": [
              "<div>\n",
              "<style scoped>\n",
              "    .dataframe tbody tr th:only-of-type {\n",
              "        vertical-align: middle;\n",
              "    }\n",
              "\n",
              "    .dataframe tbody tr th {\n",
              "        vertical-align: top;\n",
              "    }\n",
              "\n",
              "    .dataframe thead th {\n",
              "        text-align: right;\n",
              "    }\n",
              "</style>\n",
              "<table border=\"1\" class=\"dataframe\">\n",
              "  <thead>\n",
              "    <tr style=\"text-align: right;\">\n",
              "      <th></th>\n",
              "      <th>0</th>\n",
              "      <th>1</th>\n",
              "    </tr>\n",
              "  </thead>\n",
              "  <tbody>\n",
              "    <tr>\n",
              "      <th>0</th>\n",
              "      <td>2</td>\n",
              "      <td>heel pain</td>\n",
              "    </tr>\n",
              "    <tr>\n",
              "      <th>1</th>\n",
              "      <td>2</td>\n",
              "      <td>heel pain</td>\n",
              "    </tr>\n",
              "    <tr>\n",
              "      <th>2</th>\n",
              "      <td>5</td>\n",
              "      <td>increase my heart rate</td>\n",
              "    </tr>\n",
              "    <tr>\n",
              "      <th>3</th>\n",
              "      <td>5</td>\n",
              "      <td>tachycardia</td>\n",
              "    </tr>\n",
              "    <tr>\n",
              "      <th>4</th>\n",
              "      <td>8</td>\n",
              "      <td>severe arthritis</td>\n",
              "    </tr>\n",
              "  </tbody>\n",
              "</table>\n",
              "</div>"
            ],
            "text/plain": [
              "   0                       1\n",
              "0  2               heel pain\n",
              "1  2               heel pain\n",
              "2  5  increase my heart rate\n",
              "3  5             tachycardia\n",
              "4  8        severe arthritis"
            ]
          },
          "metadata": {
            "tags": []
          },
          "execution_count": 11
        }
      ]
    },
    {
      "cell_type": "code",
      "metadata": {
        "id": "cOza9dfSsBud",
        "outputId": "4b0a4fb1-b488-4a22-c94c-bf4783fb62a8",
        "colab": {
          "base_uri": "https://localhost:8080/",
          "height": 204
        }
      },
      "source": [
        "# testing data set\n",
        "\n",
        "test = pd.read_csv(path/\"AskAPatient.fold-5.test.csv\",header=None)\n",
        "test.head()"
      ],
      "execution_count": 12,
      "outputs": [
        {
          "output_type": "execute_result",
          "data": {
            "text/html": [
              "<div>\n",
              "<style scoped>\n",
              "    .dataframe tbody tr th:only-of-type {\n",
              "        vertical-align: middle;\n",
              "    }\n",
              "\n",
              "    .dataframe tbody tr th {\n",
              "        vertical-align: top;\n",
              "    }\n",
              "\n",
              "    .dataframe thead th {\n",
              "        text-align: right;\n",
              "    }\n",
              "</style>\n",
              "<table border=\"1\" class=\"dataframe\">\n",
              "  <thead>\n",
              "    <tr style=\"text-align: right;\">\n",
              "      <th></th>\n",
              "      <th>0</th>\n",
              "      <th>1</th>\n",
              "    </tr>\n",
              "  </thead>\n",
              "  <tbody>\n",
              "    <tr>\n",
              "      <th>0</th>\n",
              "      <td>0</td>\n",
              "      <td>fear</td>\n",
              "    </tr>\n",
              "    <tr>\n",
              "      <th>1</th>\n",
              "      <td>0</td>\n",
              "      <td>scared to death</td>\n",
              "    </tr>\n",
              "    <tr>\n",
              "      <th>2</th>\n",
              "      <td>2</td>\n",
              "      <td>heel pain</td>\n",
              "    </tr>\n",
              "    <tr>\n",
              "      <th>3</th>\n",
              "      <td>2</td>\n",
              "      <td>heels hurt</td>\n",
              "    </tr>\n",
              "    <tr>\n",
              "      <th>4</th>\n",
              "      <td>2</td>\n",
              "      <td>pain in my right heel</td>\n",
              "    </tr>\n",
              "  </tbody>\n",
              "</table>\n",
              "</div>"
            ],
            "text/plain": [
              "   0                      1\n",
              "0  0                   fear\n",
              "1  0        scared to death\n",
              "2  2              heel pain\n",
              "3  2             heels hurt\n",
              "4  2  pain in my right heel"
            ]
          },
          "metadata": {
            "tags": []
          },
          "execution_count": 12
        }
      ]
    },
    {
      "cell_type": "code",
      "metadata": {
        "id": "Vo-YNvVYoaH6",
        "outputId": "70ea19a6-8e76-4e40-d5fa-aec7b8924e34",
        "colab": {
          "base_uri": "https://localhost:8080/",
          "height": 17
        }
      },
      "source": [
        "# Creating DataBunch for language modelling\n",
        "\n",
        "data_lm = TextLMDataBunch.from_csv(path, 'pubmed_cadec_askpatient_mixed.csv')"
      ],
      "execution_count": 13,
      "outputs": [
        {
          "output_type": "display_data",
          "data": {
            "text/html": [
              ""
            ],
            "text/plain": [
              "<IPython.core.display.HTML object>"
            ]
          },
          "metadata": {
            "tags": []
          }
        },
        {
          "output_type": "display_data",
          "data": {
            "text/html": [
              ""
            ],
            "text/plain": [
              "<IPython.core.display.HTML object>"
            ]
          },
          "metadata": {
            "tags": []
          }
        }
      ]
    },
    {
      "cell_type": "code",
      "metadata": {
        "id": "qcV-9kMnNLBf"
      },
      "source": [
        ""
      ],
      "execution_count": 13,
      "outputs": []
    },
    {
      "cell_type": "code",
      "metadata": {
        "id": "1ScY9afDsnvE"
      },
      "source": [
        "# Creating DataBunch for classification\n",
        "\n",
        "# data_clas = TextClasDataBunch.from_df(path, train, valid, test, vocab=data_lm.train_ds.vocab, bs=128)"
      ],
      "execution_count": 14,
      "outputs": []
    },
    {
      "cell_type": "code",
      "metadata": {
        "id": "gzrSdQcvey9p",
        "outputId": "ea813d35-a3e4-4639-d367-243e50515b0b",
        "colab": {
          "base_uri": "https://localhost:8080/",
          "height": 17
        }
      },
      "source": [
        "data_clas = TextClasDataBunch.from_df(path, train, valid, vocab=data_lm.train_ds.vocab, bs=128)"
      ],
      "execution_count": 15,
      "outputs": [
        {
          "output_type": "display_data",
          "data": {
            "text/html": [
              ""
            ],
            "text/plain": [
              "<IPython.core.display.HTML object>"
            ]
          },
          "metadata": {
            "tags": []
          }
        },
        {
          "output_type": "display_data",
          "data": {
            "text/html": [
              ""
            ],
            "text/plain": [
              "<IPython.core.display.HTML object>"
            ]
          },
          "metadata": {
            "tags": []
          }
        }
      ]
    },
    {
      "cell_type": "code",
      "metadata": {
        "id": "MD27Tf0Ke3ou",
        "outputId": "f7338e32-ebdb-40b9-d9a5-b5ced56fb06b",
        "colab": {
          "base_uri": "https://localhost:8080/",
          "height": 17
        }
      },
      "source": [
        "data_clas.add_test(test,label=0)\n"
      ],
      "execution_count": 16,
      "outputs": [
        {
          "output_type": "display_data",
          "data": {
            "text/html": [
              ""
            ],
            "text/plain": [
              "<IPython.core.display.HTML object>"
            ]
          },
          "metadata": {
            "tags": []
          }
        }
      ]
    },
    {
      "cell_type": "code",
      "metadata": {
        "id": "-dpjnk_rstwk"
      },
      "source": [
        "data_lm.save()\n",
        "data_clas.save()"
      ],
      "execution_count": 17,
      "outputs": []
    },
    {
      "cell_type": "code",
      "metadata": {
        "id": "4OkiJa36sw5s",
        "outputId": "e0536bc1-0f55-4331-8de8-59f2e43eb330",
        "colab": {
          "base_uri": "https://localhost:8080/",
          "height": 1000
        }
      },
      "source": [
        "data_lm.train_ds.vocab.itos"
      ],
      "execution_count": 18,
      "outputs": [
        {
          "output_type": "execute_result",
          "data": {
            "text/plain": [
              "['xxunk',\n",
              " 'xxpad',\n",
              " 'xxbos',\n",
              " 'xxeos',\n",
              " 'xxfld',\n",
              " 'xxmaj',\n",
              " 'xxup',\n",
              " 'xxrep',\n",
              " 'xxwrep',\n",
              " 'pain',\n",
              " 'of',\n",
              " 'the',\n",
              " 'in',\n",
              " 'lipitor',\n",
              " 'and',\n",
              " 'to',\n",
              " 'muscle',\n",
              " 'a',\n",
              " '.',\n",
              " 'was',\n",
              " 'with',\n",
              " 'i',\n",
              " ',',\n",
              " 'diclofenac',\n",
              " 'my',\n",
              " 'for',\n",
              " 'were',\n",
              " 'severe',\n",
              " 'on',\n",
              " 'lower',\n",
              " 'myalgia',\n",
              " 'fatigue',\n",
              " 'loss',\n",
              " 'is',\n",
              " 'that',\n",
              " 'weakness',\n",
              " '-',\n",
              " 'cramp',\n",
              " 'by',\n",
              " 'sodium',\n",
              " 'limb',\n",
              " 'back',\n",
              " 'stomach',\n",
              " 'at',\n",
              " 'drug',\n",
              " 'as',\n",
              " 'this',\n",
              " 'depression',\n",
              " 'not',\n",
              " 'it',\n",
              " 'or',\n",
              " 'cramps',\n",
              " 'mg',\n",
              " 'patients',\n",
              " 'memory',\n",
              " 'joint',\n",
              " 'upper',\n",
              " 'gas',\n",
              " 'leg',\n",
              " 'from',\n",
              " 'legs',\n",
              " 'all',\n",
              " 'after',\n",
              " 'pains',\n",
              " 'knee',\n",
              " 'have',\n",
              " 'headache',\n",
              " 'shoulder',\n",
              " 'unable',\n",
              " 'group',\n",
              " 'neck',\n",
              " '/',\n",
              " 'be',\n",
              " 'gastrointestinal',\n",
              " 'foot',\n",
              " 'treatment',\n",
              " 'arthralgia',\n",
              " 'excessive',\n",
              " 'study',\n",
              " 'aches',\n",
              " 'arthritis',\n",
              " 'like',\n",
              " 'no',\n",
              " 'hip',\n",
              " 'cholesterol',\n",
              " 'an',\n",
              " 'effects',\n",
              " 'arthrotec',\n",
              " 'had',\n",
              " 'numbness',\n",
              " 'voltaren',\n",
              " 'insomnia',\n",
              " 'time',\n",
              " 'disease',\n",
              " 'walk',\n",
              " 'but',\n",
              " 'both',\n",
              " 'feeling',\n",
              " 'heart',\n",
              " 'problems',\n",
              " 'bleeding',\n",
              " 'p',\n",
              " 'are',\n",
              " 'increased',\n",
              " 'release',\n",
              " 'nausea',\n",
              " 'feet',\n",
              " 'swelling',\n",
              " 'tired',\n",
              " 'than',\n",
              " 'dizziness',\n",
              " 'skin',\n",
              " 'asthenia',\n",
              " 'abdominal',\n",
              " 'could',\n",
              " 'very',\n",
              " 'high',\n",
              " 'blood',\n",
              " 'walking',\n",
              " 'muscles',\n",
              " 'extreme',\n",
              " 'difficulty',\n",
              " 'effect',\n",
              " 'day',\n",
              " 'hand',\n",
              " 'up',\n",
              " 'chest',\n",
              " 'low',\n",
              " 'hair',\n",
              " 'has',\n",
              " 'vision',\n",
              " 'can',\n",
              " 'sleep',\n",
              " 'stiffness',\n",
              " 'liver',\n",
              " 'been',\n",
              " 'zocor',\n",
              " 'burning',\n",
              " 'two',\n",
              " 'compared',\n",
              " 'acid',\n",
              " 'ache',\n",
              " 'side',\n",
              " 'weight',\n",
              " 'cramping',\n",
              " 'backache',\n",
              " 'using',\n",
              " ')',\n",
              " 'inflammatory',\n",
              " 'left',\n",
              " 'one',\n",
              " \"n't\",\n",
              " 'drugs',\n",
              " 'pins',\n",
              " 'needles',\n",
              " 'days',\n",
              " 'which',\n",
              " '(',\n",
              " 'groups',\n",
              " 'diarrhoea',\n",
              " 'more',\n",
              " 'amnesia',\n",
              " 'these',\n",
              " 'between',\n",
              " 'also',\n",
              " 'term',\n",
              " 'calf',\n",
              " 'short',\n",
              " 'significant',\n",
              " 'significantly',\n",
              " 'taking',\n",
              " 'h',\n",
              " 'tingling',\n",
              " 'concentration',\n",
              " 'dose',\n",
              " 'over',\n",
              " 'anxiety',\n",
              " 'impairment',\n",
              " 'lack',\n",
              " 'used',\n",
              " 'when',\n",
              " 'c',\n",
              " 'disability',\n",
              " 'me',\n",
              " 'potassium',\n",
              " 'anti',\n",
              " 'so',\n",
              " 'pressure',\n",
              " 'body',\n",
              " 'hands',\n",
              " 'results',\n",
              " 'arm',\n",
              " 'stiff',\n",
              " 'arms',\n",
              " 'symptom',\n",
              " 'bloating',\n",
              " 'constipation',\n",
              " 'headaches',\n",
              " 'reduced',\n",
              " 'symptoms',\n",
              " 'placebo',\n",
              " 'out',\n",
              " \"'s\",\n",
              " 'we',\n",
              " 'poor',\n",
              " 'efficacy',\n",
              " 'neuropathy',\n",
              " 'sore',\n",
              " 'did',\n",
              " 'years',\n",
              " 'joints',\n",
              " 'other',\n",
              " 'acute',\n",
              " 'disorder',\n",
              " 'balance',\n",
              " 'ds',\n",
              " 'ankle',\n",
              " 'blurred',\n",
              " 'ml',\n",
              " 'showed',\n",
              " 'treated',\n",
              " 'off',\n",
              " 'well',\n",
              " 'there',\n",
              " 'right',\n",
              " 'during',\n",
              " 'visual',\n",
              " 'tiredness',\n",
              " 'serum',\n",
              " 'control',\n",
              " 'feel',\n",
              " 'vaginal',\n",
              " 'sensation',\n",
              " 'topical',\n",
              " 'hurt',\n",
              " 'pravachol',\n",
              " 'different',\n",
              " 'oral',\n",
              " 'energy',\n",
              " 'attack',\n",
              " 'vertigo',\n",
              " 'found',\n",
              " 'rash',\n",
              " 'am',\n",
              " 'bad',\n",
              " 'myocardial',\n",
              " 'renal',\n",
              " 'into',\n",
              " 'infarction',\n",
              " 'only',\n",
              " 'painful',\n",
              " 'about',\n",
              " 'first',\n",
              " 'administration',\n",
              " 'myositis',\n",
              " 'studies',\n",
              " 'get',\n",
              " 'levels',\n",
              " 'swollen',\n",
              " 'constant',\n",
              " 'weeks',\n",
              " 'mentally',\n",
              " 'use',\n",
              " 'diarrhea',\n",
              " 's',\n",
              " 'may',\n",
              " 'diabetes',\n",
              " 'decreased',\n",
              " 'rats',\n",
              " 'rate',\n",
              " '!',\n",
              " 'damage',\n",
              " 'atrophy',\n",
              " 'itching',\n",
              " 'week',\n",
              " 'months',\n",
              " 'period',\n",
              " 'their',\n",
              " 'gain',\n",
              " 'three',\n",
              " 'shoulders',\n",
              " 'induced',\n",
              " 'generalised',\n",
              " 'hours',\n",
              " 'dry',\n",
              " 'weak',\n",
              " 'atorvastatin',\n",
              " 'ubidecarenone',\n",
              " 'effective',\n",
              " 'respectively',\n",
              " 'before',\n",
              " 'nsaids',\n",
              " 'upset',\n",
              " 'clinical',\n",
              " 'tablets',\n",
              " 'gel',\n",
              " 'elevated',\n",
              " 'eye',\n",
              " 'method',\n",
              " 'mean',\n",
              " 'illness',\n",
              " 'plasma',\n",
              " 'will',\n",
              " 'type',\n",
              " 'knees',\n",
              " 'its',\n",
              " 'non',\n",
              " 'formulations',\n",
              " 'elbow',\n",
              " 'formulation',\n",
              " 'level',\n",
              " 'raised',\n",
              " 'syndrome',\n",
              " 'urine',\n",
              " 'observed',\n",
              " 'discomfort',\n",
              " 'chronic',\n",
              " 'g',\n",
              " 'dull',\n",
              " 'ph',\n",
              " 'solution',\n",
              " 'some',\n",
              " 'started',\n",
              " 'heavy',\n",
              " 'influenza',\n",
              " 'sleeping',\n",
              " 'take',\n",
              " 'any',\n",
              " 'if',\n",
              " 'present',\n",
              " 'do',\n",
              " 'crestor',\n",
              " 'each',\n",
              " 'movement',\n",
              " 'received',\n",
              " 'hazy',\n",
              " 'problem',\n",
              " 'they',\n",
              " 'toe',\n",
              " 'spasm',\n",
              " 'increase',\n",
              " 'kidney',\n",
              " 'total',\n",
              " 'bed',\n",
              " 'spasms',\n",
              " 'ibuprofen',\n",
              " 'less',\n",
              " 'daily',\n",
              " 'however',\n",
              " 'tablet',\n",
              " 'tendonitis',\n",
              " 'test',\n",
              " 'now',\n",
              " 'function',\n",
              " 'adverse',\n",
              " 'n',\n",
              " 'm',\n",
              " 'vomiting',\n",
              " 'vitro',\n",
              " 'controlled',\n",
              " 'activity',\n",
              " 'kg',\n",
              " 'mood',\n",
              " 'due',\n",
              " 'libido',\n",
              " 'exhaustion',\n",
              " 'who',\n",
              " 'down',\n",
              " 'analgesic',\n",
              " 'reflux',\n",
              " 'data',\n",
              " 'flu',\n",
              " 'felt',\n",
              " 'abnormal',\n",
              " 'night',\n",
              " 'concentrations',\n",
              " '3',\n",
              " 'system',\n",
              " 'most',\n",
              " 'd',\n",
              " 'throat',\n",
              " 'irritable',\n",
              " 'surgery',\n",
              " 'l',\n",
              " 'analysis',\n",
              " 'concentrate',\n",
              " 'injury',\n",
              " 'similar',\n",
              " 'just',\n",
              " 'flatulence',\n",
              " 'inflammation',\n",
              " 'thigh',\n",
              " 'medication',\n",
              " 'while',\n",
              " 'then',\n",
              " 'would',\n",
              " 'doctor',\n",
              " 'fibromyalgia',\n",
              " 'migraine',\n",
              " 'sclerosis',\n",
              " 'randomized',\n",
              " 'within',\n",
              " 'myopathy',\n",
              " 'mild',\n",
              " 'better',\n",
              " 'evaluated',\n",
              " '2',\n",
              " 'b',\n",
              " 'times',\n",
              " 'single',\n",
              " 'patient',\n",
              " 'osteoarthritis',\n",
              " 'model',\n",
              " 'head',\n",
              " 'menstrual',\n",
              " 'higher',\n",
              " 'changes',\n",
              " 'cold',\n",
              " 'simvastatin',\n",
              " 'therapy',\n",
              " 'hips',\n",
              " 'lightheadedness',\n",
              " 'following',\n",
              " 'brain',\n",
              " 'mellitus',\n",
              " 't',\n",
              " 'eyes',\n",
              " 'obtained',\n",
              " 'water',\n",
              " 'general',\n",
              " 'those',\n",
              " 'ca',\n",
              " 'sweating',\n",
              " 'good',\n",
              " 'relief',\n",
              " 'difference',\n",
              " 'cell',\n",
              " 'postoperative',\n",
              " 'nsaid',\n",
              " 'dissolution',\n",
              " 'developed',\n",
              " 'tremor',\n",
              " 'cells',\n",
              " 'impaired',\n",
              " 'calves',\n",
              " 'under',\n",
              " 'appetite',\n",
              " 'multiple',\n",
              " 'confusion',\n",
              " 'malaise',\n",
              " 'toes',\n",
              " 'swings',\n",
              " 'peripheral',\n",
              " 'combination',\n",
              " 'based',\n",
              " 'stopped',\n",
              " 'associated',\n",
              " 'soreness',\n",
              " 'went',\n",
              " 'without',\n",
              " 'aching',\n",
              " 'disturbance',\n",
              " 'doses',\n",
              " 'normal',\n",
              " 'wind',\n",
              " 'double',\n",
              " 'failure',\n",
              " 'studied',\n",
              " 'application',\n",
              " 'stairs',\n",
              " 'tinnitus',\n",
              " 'area',\n",
              " 'such',\n",
              " 'celebrex',\n",
              " 'oil',\n",
              " 'ankles',\n",
              " 'given',\n",
              " 'new',\n",
              " 'same',\n",
              " 'ezetimibe',\n",
              " 'because',\n",
              " 'administered',\n",
              " '10',\n",
              " 'finger',\n",
              " 'change',\n",
              " 'prepared',\n",
              " 'blind',\n",
              " 'infection',\n",
              " 'think',\n",
              " 'took',\n",
              " 'every',\n",
              " 'x',\n",
              " 'rheumatoid',\n",
              " 'e',\n",
              " 'reported',\n",
              " 'values',\n",
              " 'response',\n",
              " 'esters',\n",
              " 'being',\n",
              " 'face',\n",
              " 'hot',\n",
              " 'through',\n",
              " 'trial',\n",
              " 'intense',\n",
              " 'paraesthesia',\n",
              " 'tendon',\n",
              " 'should',\n",
              " 'min',\n",
              " 'ascorbic',\n",
              " 'performed',\n",
              " 'either',\n",
              " 'four',\n",
              " 'nonsteroidal',\n",
              " 'motivation',\n",
              " 'gastric',\n",
              " 'strength',\n",
              " 'stress',\n",
              " 'order',\n",
              " 'even',\n",
              " 'subjects',\n",
              " 'investigated',\n",
              " 'parkinson',\n",
              " 'heel',\n",
              " 'rapid',\n",
              " 'restless',\n",
              " 'post',\n",
              " 'still',\n",
              " 'swallowing',\n",
              " 'related',\n",
              " 'absorption',\n",
              " 'reduction',\n",
              " 'coated',\n",
              " 'healthy',\n",
              " 'indigestion',\n",
              " 'events',\n",
              " 'excruciating',\n",
              " 'vs',\n",
              " 'paracetamol',\n",
              " 'differences',\n",
              " 'he',\n",
              " 'year',\n",
              " 'w',\n",
              " 'enzymes',\n",
              " 'assessed',\n",
              " 'v',\n",
              " 'life',\n",
              " 'urinary',\n",
              " 'phase',\n",
              " 'cough',\n",
              " 'conditions',\n",
              " 'nerve',\n",
              " 'vitamin',\n",
              " 'terrible',\n",
              " 'overall',\n",
              " 'reaction',\n",
              " 'palpitations',\n",
              " 'getting',\n",
              " 'speech',\n",
              " 'depressed',\n",
              " 'you',\n",
              " 'charleyhorse',\n",
              " 'decrease',\n",
              " 'lateral',\n",
              " 'number',\n",
              " 'dyspnoea',\n",
              " 'ratio',\n",
              " '&',\n",
              " 'exercise',\n",
              " 'parameters',\n",
              " 'fingers',\n",
              " 'much',\n",
              " 'always',\n",
              " 'long',\n",
              " 'lupus',\n",
              " 'month',\n",
              " 'experienced',\n",
              " 'indomethacin',\n",
              " 'range',\n",
              " 'properties',\n",
              " 'active',\n",
              " 'safety',\n",
              " 'containing',\n",
              " 'major',\n",
              " 'vivo',\n",
              " 'tightness',\n",
              " '1',\n",
              " 'auc',\n",
              " 'dark',\n",
              " 'ldl',\n",
              " 'liquid',\n",
              " 'edema',\n",
              " 'included',\n",
              " \"'m\",\n",
              " 'minutes',\n",
              " 'taste',\n",
              " 'limbs',\n",
              " 'since',\n",
              " 'scale',\n",
              " 'menopause',\n",
              " 'mm',\n",
              " 'ability',\n",
              " 'dosage',\n",
              " 'oa',\n",
              " 'ng',\n",
              " 'ulcer',\n",
              " 'samples',\n",
              " 'primary',\n",
              " 'ii',\n",
              " 'statistically',\n",
              " 'evaluate',\n",
              " ':',\n",
              " 'wrist',\n",
              " 'delivery',\n",
              " 'improvement',\n",
              " 'again',\n",
              " 'size',\n",
              " 'measured',\n",
              " 'per',\n",
              " 'steroidal',\n",
              " 'coq10',\n",
              " 'never',\n",
              " 'moderate',\n",
              " '20',\n",
              " 'statin',\n",
              " 'determined',\n",
              " 'k',\n",
              " 'fish',\n",
              " 'although',\n",
              " 'light',\n",
              " 'breathing',\n",
              " 'potential',\n",
              " 'our',\n",
              " 'trouble',\n",
              " 'clearly',\n",
              " 'sustained',\n",
              " 'drowsy',\n",
              " 'heartburn',\n",
              " 'ago',\n",
              " 'fog',\n",
              " 'compare',\n",
              " 'twitch',\n",
              " 'going',\n",
              " 'almost',\n",
              " 'creatinine',\n",
              " 'statins',\n",
              " 'caused',\n",
              " 'breath',\n",
              " 'injection',\n",
              " 'mouth',\n",
              " 'physical',\n",
              " 'taken',\n",
              " 'gout',\n",
              " 'tissue',\n",
              " 'bioavailability',\n",
              " 'misoprostol',\n",
              " 'dreams',\n",
              " 'old',\n",
              " 'twitching',\n",
              " 'form',\n",
              " 'applied',\n",
              " 'age',\n",
              " 'therapeutic',\n",
              " 'bone',\n",
              " 'baseline',\n",
              " 'aspirin',\n",
              " 'aqueous',\n",
              " 'demonstrated',\n",
              " 'go',\n",
              " 'morning',\n",
              " 'co',\n",
              " 'greater',\n",
              " 'around',\n",
              " 'risk',\n",
              " 'process',\n",
              " 'move',\n",
              " '5',\n",
              " 'several',\n",
              " 'tolerability',\n",
              " 'end',\n",
              " 'fever',\n",
              " 'bowel',\n",
              " 'worse',\n",
              " 'sinus',\n",
              " 'addition',\n",
              " 'extremely',\n",
              " 'once',\n",
              " 'thighs',\n",
              " 'amyotrophic',\n",
              " 'many',\n",
              " 'having',\n",
              " 'uterine',\n",
              " 'natural',\n",
              " 'mobility',\n",
              " 'improved',\n",
              " 'products',\n",
              " '+',\n",
              " 'tylenol',\n",
              " 'cancer',\n",
              " 'work',\n",
              " 'hypertension',\n",
              " 'development',\n",
              " 'revealed',\n",
              " 'provoked',\n",
              " 'human',\n",
              " 'tract',\n",
              " 'scores',\n",
              " 'onset',\n",
              " 'attacks',\n",
              " 'fenofibrate',\n",
              " 'plantar',\n",
              " 'case',\n",
              " 'advil',\n",
              " 'various',\n",
              " 'initial',\n",
              " 'male',\n",
              " '40',\n",
              " 'matrix',\n",
              " 'colic',\n",
              " 'hour',\n",
              " 'elbows',\n",
              " 'action',\n",
              " 'cause',\n",
              " 'last',\n",
              " 'polymer',\n",
              " \"'ve\",\n",
              " 'free',\n",
              " 'hardly',\n",
              " 'nasal',\n",
              " 'numb',\n",
              " 'intensity',\n",
              " 'horses',\n",
              " 'whereas',\n",
              " 'treatments',\n",
              " 'cerebrovascular',\n",
              " 'suggest',\n",
              " '4',\n",
              " 'few',\n",
              " 'alone',\n",
              " 'na',\n",
              " 'aim',\n",
              " 'followed',\n",
              " 'aleve',\n",
              " 'o',\n",
              " 'what',\n",
              " 'dependent',\n",
              " 'indicated',\n",
              " 'trials',\n",
              " 'fatigued',\n",
              " 'mice',\n",
              " 'made',\n",
              " 'cox',\n",
              " 'alpha',\n",
              " 'barely',\n",
              " 'inhibitor',\n",
              " 'including',\n",
              " 'tricor',\n",
              " 'tight',\n",
              " 'pulse',\n",
              " 'liptor',\n",
              " 'lost',\n",
              " 'tolerance',\n",
              " 'accident',\n",
              " 'content',\n",
              " 'further',\n",
              " 'site',\n",
              " 'volunteers',\n",
              " 'tests',\n",
              " 'sharp',\n",
              " 'facial',\n",
              " 'quality',\n",
              " 'six',\n",
              " 'does',\n",
              " 'mechanism',\n",
              " 'presence',\n",
              " 'diet',\n",
              " 'lethargy',\n",
              " 'loose',\n",
              " 'surface',\n",
              " 'generally',\n",
              " 'food',\n",
              " 'finding',\n",
              " 'mental',\n",
              " 'periods',\n",
              " 'shortness',\n",
              " 'formation',\n",
              " 'lot',\n",
              " ';',\n",
              " 'available',\n",
              " 'oedema',\n",
              " 'sugar',\n",
              " 'ringing',\n",
              " 'permeation',\n",
              " 'shown',\n",
              " 'complex',\n",
              " 'coronary',\n",
              " 'second',\n",
              " 'little',\n",
              " 'protein',\n",
              " 'charley',\n",
              " 'score',\n",
              " 'sick',\n",
              " 'resulted',\n",
              " 'pharmaceutical',\n",
              " 'drive',\n",
              " 'possible',\n",
              " 'randomly',\n",
              " 'amount',\n",
              " 'moody',\n",
              " 'animals',\n",
              " 'determine',\n",
              " 'naproxen',\n",
              " 'agent',\n",
              " 'rat',\n",
              " 'agents',\n",
              " 'standard',\n",
              " 'frequent',\n",
              " 'became',\n",
              " 'conducted',\n",
              " 'slurred',\n",
              " 'dizzy',\n",
              " 'inhibition',\n",
              " 'deep',\n",
              " 'peak',\n",
              " 'prescribed',\n",
              " 'fasciitis',\n",
              " 'relative',\n",
              " 'nervous',\n",
              " 'horrible',\n",
              " 'microspheres',\n",
              " 'versus',\n",
              " 'tested',\n",
              " 'pruritus',\n",
              " 'way',\n",
              " 'experimental',\n",
              " 'especially',\n",
              " 'fast',\n",
              " 'local',\n",
              " 'fluid',\n",
              " 'congestion',\n",
              " 'f',\n",
              " 'zetia',\n",
              " 'thought',\n",
              " 'sensitivity',\n",
              " 'profile',\n",
              " 'corneal',\n",
              " 'hard',\n",
              " 'another',\n",
              " 'profiles',\n",
              " 'sex',\n",
              " 'als',\n",
              " 'patch',\n",
              " 'cm',\n",
              " 'stroke',\n",
              " 'divided',\n",
              " 'evaluation',\n",
              " 'malignant',\n",
              " 'vas',\n",
              " 'twice',\n",
              " 'care',\n",
              " 'increasing',\n",
              " 'achilles',\n",
              " 'complete',\n",
              " 'cases',\n",
              " 'plus',\n",
              " 'exposure',\n",
              " 'thoughts',\n",
              " 'least',\n",
              " 'norvasc',\n",
              " 'third',\n",
              " 'five',\n",
              " 'extremity',\n",
              " '?',\n",
              " 'rectal',\n",
              " 'density',\n",
              " 'combined',\n",
              " 'health',\n",
              " 'efficiency',\n",
              " 'irregular',\n",
              " 'told',\n",
              " 'away',\n",
              " 'produced',\n",
              " 'analgesia',\n",
              " 'cmax',\n",
              " 'achieved',\n",
              " 'ethyl',\n",
              " 'ms',\n",
              " 'production',\n",
              " 'dysfunction',\n",
              " 'panic',\n",
              " 'bp',\n",
              " 'find',\n",
              " 'your',\n",
              " 'state',\n",
              " 'common',\n",
              " 'see',\n",
              " 'according',\n",
              " 'systemic',\n",
              " 'slight',\n",
              " 'vehicle',\n",
              " 'stop',\n",
              " 'them',\n",
              " 'tension',\n",
              " 'said',\n",
              " 'sensations',\n",
              " 'lesions',\n",
              " 'enteric',\n",
              " 'secondary',\n",
              " 'triglycerides',\n",
              " 'pharmacokinetic',\n",
              " 'global',\n",
              " 'assessment',\n",
              " 'duration',\n",
              " 'able',\n",
              " 'medications',\n",
              " 'condition',\n",
              " 'eczema',\n",
              " 'where',\n",
              " 'th',\n",
              " 'evidence',\n",
              " 'affected',\n",
              " 'respiratory',\n",
              " 'cd',\n",
              " 'people',\n",
              " 'medicine',\n",
              " 'ear',\n",
              " 'scalp',\n",
              " 'product',\n",
              " 'strain',\n",
              " '6',\n",
              " 'pre',\n",
              " 'prednisone',\n",
              " 'put',\n",
              " 'central',\n",
              " 'rhabdomyolysis',\n",
              " 'reading',\n",
              " 'pellets',\n",
              " 'tolerated',\n",
              " 'hunger',\n",
              " 'early',\n",
              " 'gi',\n",
              " 'capsules',\n",
              " 'research',\n",
              " 'point',\n",
              " 'sweats',\n",
              " 'recently',\n",
              " 'calcium',\n",
              " 'cardiovascular',\n",
              " 'temperature',\n",
              " 'across',\n",
              " 'things',\n",
              " 'immediately',\n",
              " 'diabetic',\n",
              " 'investigate',\n",
              " 'diffusion',\n",
              " 'dr',\n",
              " 'participants',\n",
              " 'ci',\n",
              " 'stamina',\n",
              " 'among',\n",
              " 'growth',\n",
              " 'thus',\n",
              " 'difficult',\n",
              " 'serious',\n",
              " 'lopid',\n",
              " 'rofecoxib',\n",
              " 'too',\n",
              " 'preparation',\n",
              " 'models',\n",
              " 'cpk',\n",
              " 'self',\n",
              " 'structure',\n",
              " 'stand',\n",
              " 'carried',\n",
              " 'sensitive',\n",
              " 'comparison',\n",
              " 'forgetful',\n",
              " 'cataflam',\n",
              " 'cataract',\n",
              " 'considered',\n",
              " 'lowering',\n",
              " 'codeine',\n",
              " 'until',\n",
              " 'expression',\n",
              " 'flow',\n",
              " 'neurontin',\n",
              " 'got',\n",
              " 'region',\n",
              " 'influence',\n",
              " 'itchy',\n",
              " 'erythematosus',\n",
              " 'alternative',\n",
              " 'began',\n",
              " 'retention',\n",
              " 'hypersomnia',\n",
              " 'examined',\n",
              " 'beads',\n",
              " 'small',\n",
              " 'show',\n",
              " 'anything',\n",
              " 'asthma',\n",
              " ...]"
            ]
          },
          "metadata": {
            "tags": []
          },
          "execution_count": 18
        }
      ]
    },
    {
      "cell_type": "code",
      "metadata": {
        "id": "yPWr03mls3VT",
        "outputId": "60334082-7797-473e-8c39-dd05773e5ed2",
        "colab": {
          "base_uri": "https://localhost:8080/",
          "height": 17
        }
      },
      "source": [
        "model_path = path/'models'\n",
        "model_path.mkdir(exist_ok=True)\n",
        "url = 'http://files.fast.ai/models/wt103_v1/'\n",
        "download_url(f'{url}lstm_wt103.pth', model_path/'lstm_wt103.pth')\n",
        "download_url(f'{url}itos_wt103.pkl', model_path/'itos_wt103.pkl')"
      ],
      "execution_count": 19,
      "outputs": [
        {
          "output_type": "display_data",
          "data": {
            "text/html": [
              ""
            ],
            "text/plain": [
              "<IPython.core.display.HTML object>"
            ]
          },
          "metadata": {
            "tags": []
          }
        },
        {
          "output_type": "display_data",
          "data": {
            "text/html": [
              ""
            ],
            "text/plain": [
              "<IPython.core.display.HTML object>"
            ]
          },
          "metadata": {
            "tags": []
          }
        }
      ]
    },
    {
      "cell_type": "code",
      "metadata": {
        "id": "JRzvWg8RtGGr",
        "outputId": "55987414-63ec-46c5-bd42-565fe0706ad3",
        "colab": {
          "base_uri": "https://localhost:8080/",
          "height": 34
        }
      },
      "source": [
        "learn = language_model_learner(data_lm, AWD_LSTM, drop_mult=0.5)"
      ],
      "execution_count": 20,
      "outputs": [
        {
          "output_type": "stream",
          "text": [
            "Downloading https://s3.amazonaws.com/fast-ai-modelzoo/wt103-fwd.tgz\n"
          ],
          "name": "stdout"
        },
        {
          "output_type": "display_data",
          "data": {
            "text/html": [
              ""
            ],
            "text/plain": [
              "<IPython.core.display.HTML object>"
            ]
          },
          "metadata": {
            "tags": []
          }
        }
      ]
    },
    {
      "cell_type": "code",
      "metadata": {
        "id": "xKK7GeBev7Xn",
        "outputId": "b1aa6158-c3dd-4c36-b5e3-3d4e292dedc1",
        "colab": {
          "base_uri": "https://localhost:8080/",
          "height": 80
        }
      },
      "source": [
        "learn.fit_one_cycle(1, 1e-2)"
      ],
      "execution_count": 21,
      "outputs": [
        {
          "output_type": "display_data",
          "data": {
            "text/html": [
              "<table border=\"1\" class=\"dataframe\">\n",
              "  <thead>\n",
              "    <tr style=\"text-align: left;\">\n",
              "      <th>epoch</th>\n",
              "      <th>train_loss</th>\n",
              "      <th>valid_loss</th>\n",
              "      <th>accuracy</th>\n",
              "      <th>time</th>\n",
              "    </tr>\n",
              "  </thead>\n",
              "  <tbody>\n",
              "    <tr>\n",
              "      <td>0</td>\n",
              "      <td>3.805445</td>\n",
              "      <td>3.474133</td>\n",
              "      <td>0.434762</td>\n",
              "      <td>33:39</td>\n",
              "    </tr>\n",
              "  </tbody>\n",
              "</table>"
            ],
            "text/plain": [
              "<IPython.core.display.HTML object>"
            ]
          },
          "metadata": {
            "tags": []
          }
        }
      ]
    },
    {
      "cell_type": "code",
      "metadata": {
        "id": "iB7rHGQCwd12",
        "outputId": "5f662d25-fa51-4060-a4d4-283f2d16bfc3",
        "colab": {
          "base_uri": "https://localhost:8080/",
          "height": 80
        }
      },
      "source": [
        "learn.fit_one_cycle(1, 1e-2)"
      ],
      "execution_count": 22,
      "outputs": [
        {
          "output_type": "display_data",
          "data": {
            "text/html": [
              "<table border=\"1\" class=\"dataframe\">\n",
              "  <thead>\n",
              "    <tr style=\"text-align: left;\">\n",
              "      <th>epoch</th>\n",
              "      <th>train_loss</th>\n",
              "      <th>valid_loss</th>\n",
              "      <th>accuracy</th>\n",
              "      <th>time</th>\n",
              "    </tr>\n",
              "  </thead>\n",
              "  <tbody>\n",
              "    <tr>\n",
              "      <td>0</td>\n",
              "      <td>3.369097</td>\n",
              "      <td>3.249114</td>\n",
              "      <td>0.455380</td>\n",
              "      <td>33:24</td>\n",
              "    </tr>\n",
              "  </tbody>\n",
              "</table>"
            ],
            "text/plain": [
              "<IPython.core.display.HTML object>"
            ]
          },
          "metadata": {
            "tags": []
          }
        }
      ]
    },
    {
      "cell_type": "code",
      "metadata": {
        "id": "_BnSuAeCwkBe",
        "outputId": "686f1291-97c9-4881-b325-5397ba405485",
        "colab": {
          "base_uri": "https://localhost:8080/",
          "height": 80
        }
      },
      "source": [
        "learn.fit_one_cycle(1, 1e-3)"
      ],
      "execution_count": 23,
      "outputs": [
        {
          "output_type": "display_data",
          "data": {
            "text/html": [
              "<table border=\"1\" class=\"dataframe\">\n",
              "  <thead>\n",
              "    <tr style=\"text-align: left;\">\n",
              "      <th>epoch</th>\n",
              "      <th>train_loss</th>\n",
              "      <th>valid_loss</th>\n",
              "      <th>accuracy</th>\n",
              "      <th>time</th>\n",
              "    </tr>\n",
              "  </thead>\n",
              "  <tbody>\n",
              "    <tr>\n",
              "      <td>0</td>\n",
              "      <td>3.202913</td>\n",
              "      <td>3.220853</td>\n",
              "      <td>0.458801</td>\n",
              "      <td>33:35</td>\n",
              "    </tr>\n",
              "  </tbody>\n",
              "</table>"
            ],
            "text/plain": [
              "<IPython.core.display.HTML object>"
            ]
          },
          "metadata": {
            "tags": []
          }
        }
      ]
    },
    {
      "cell_type": "code",
      "metadata": {
        "id": "MuTm-RFjwrEX",
        "outputId": "a2687f20-69bc-41cc-d450-e4d636a09cb4",
        "colab": {
          "base_uri": "https://localhost:8080/",
          "height": 80
        }
      },
      "source": [
        "learn.fit_one_cycle(1, 1e-3)"
      ],
      "execution_count": 24,
      "outputs": [
        {
          "output_type": "display_data",
          "data": {
            "text/html": [
              "<table border=\"1\" class=\"dataframe\">\n",
              "  <thead>\n",
              "    <tr style=\"text-align: left;\">\n",
              "      <th>epoch</th>\n",
              "      <th>train_loss</th>\n",
              "      <th>valid_loss</th>\n",
              "      <th>accuracy</th>\n",
              "      <th>time</th>\n",
              "    </tr>\n",
              "  </thead>\n",
              "  <tbody>\n",
              "    <tr>\n",
              "      <td>0</td>\n",
              "      <td>3.162460</td>\n",
              "      <td>3.199973</td>\n",
              "      <td>0.461006</td>\n",
              "      <td>33:33</td>\n",
              "    </tr>\n",
              "  </tbody>\n",
              "</table>"
            ],
            "text/plain": [
              "<IPython.core.display.HTML object>"
            ]
          },
          "metadata": {
            "tags": []
          }
        }
      ]
    },
    {
      "cell_type": "code",
      "metadata": {
        "id": "1Er2ExO8wr7Y"
      },
      "source": [
        "learn.save_encoder('pubmed_cadec_askpatient_mixed_fold6_first')"
      ],
      "execution_count": 25,
      "outputs": []
    },
    {
      "cell_type": "code",
      "metadata": {
        "id": "z52cZs2qwvad",
        "outputId": "4d5ad573-b319-47da-e852-02370cdd378d",
        "colab": {
          "base_uri": "https://localhost:8080/",
          "height": 80
        }
      },
      "source": [
        "learn = text_classifier_learner(data_clas,AWD_LSTM, drop_mult=0.5)\n",
        "learn.load_encoder('pubmed_cadec_askpatient_mixed_fold6_first')\n",
        "learn.fit_one_cycle(1, 1e-2)"
      ],
      "execution_count": 26,
      "outputs": [
        {
          "output_type": "display_data",
          "data": {
            "text/html": [
              "<table border=\"1\" class=\"dataframe\">\n",
              "  <thead>\n",
              "    <tr style=\"text-align: left;\">\n",
              "      <th>epoch</th>\n",
              "      <th>train_loss</th>\n",
              "      <th>valid_loss</th>\n",
              "      <th>accuracy</th>\n",
              "      <th>time</th>\n",
              "    </tr>\n",
              "  </thead>\n",
              "  <tbody>\n",
              "    <tr>\n",
              "      <td>0</td>\n",
              "      <td>3.661890</td>\n",
              "      <td>3.373852</td>\n",
              "      <td>0.416347</td>\n",
              "      <td>01:05</td>\n",
              "    </tr>\n",
              "  </tbody>\n",
              "</table>"
            ],
            "text/plain": [
              "<IPython.core.display.HTML object>"
            ]
          },
          "metadata": {
            "tags": []
          }
        }
      ]
    },
    {
      "cell_type": "code",
      "metadata": {
        "id": "ImwQP1PJwzxd",
        "outputId": "a16515b1-91a6-4210-9abf-dfdedf76101e",
        "colab": {
          "base_uri": "https://localhost:8080/",
          "height": 80
        }
      },
      "source": [
        "learn.freeze_to(-2)\n",
        "learn.fit_one_cycle(1, slice(5e-3/2., 5e-3))"
      ],
      "execution_count": 27,
      "outputs": [
        {
          "output_type": "display_data",
          "data": {
            "text/html": [
              "<table border=\"1\" class=\"dataframe\">\n",
              "  <thead>\n",
              "    <tr style=\"text-align: left;\">\n",
              "      <th>epoch</th>\n",
              "      <th>train_loss</th>\n",
              "      <th>valid_loss</th>\n",
              "      <th>accuracy</th>\n",
              "      <th>time</th>\n",
              "    </tr>\n",
              "  </thead>\n",
              "  <tbody>\n",
              "    <tr>\n",
              "      <td>0</td>\n",
              "      <td>2.627909</td>\n",
              "      <td>2.791506</td>\n",
              "      <td>0.487867</td>\n",
              "      <td>01:17</td>\n",
              "    </tr>\n",
              "  </tbody>\n",
              "</table>"
            ],
            "text/plain": [
              "<IPython.core.display.HTML object>"
            ]
          },
          "metadata": {
            "tags": []
          }
        }
      ]
    },
    {
      "cell_type": "code",
      "metadata": {
        "id": "Owff_BJXw53u",
        "outputId": "603080a3-2b4f-4621-bd6d-0de54827a68e",
        "colab": {
          "base_uri": "https://localhost:8080/",
          "height": 80
        }
      },
      "source": [
        "learn.unfreeze()\n",
        "learn.fit_one_cycle(1, slice(2e-3/100, 2e-3))"
      ],
      "execution_count": 28,
      "outputs": [
        {
          "output_type": "display_data",
          "data": {
            "text/html": [
              "<table border=\"1\" class=\"dataframe\">\n",
              "  <thead>\n",
              "    <tr style=\"text-align: left;\">\n",
              "      <th>epoch</th>\n",
              "      <th>train_loss</th>\n",
              "      <th>valid_loss</th>\n",
              "      <th>accuracy</th>\n",
              "      <th>time</th>\n",
              "    </tr>\n",
              "  </thead>\n",
              "  <tbody>\n",
              "    <tr>\n",
              "      <td>0</td>\n",
              "      <td>2.129025</td>\n",
              "      <td>2.358850</td>\n",
              "      <td>0.572158</td>\n",
              "      <td>03:30</td>\n",
              "    </tr>\n",
              "  </tbody>\n",
              "</table>"
            ],
            "text/plain": [
              "<IPython.core.display.HTML object>"
            ]
          },
          "metadata": {
            "tags": []
          }
        }
      ]
    },
    {
      "cell_type": "code",
      "metadata": {
        "id": "lqAyu56V8Waq",
        "outputId": "aae043a1-b83c-4fa1-c64b-103f64b6235d",
        "colab": {
          "base_uri": "https://localhost:8080/",
          "height": 111
        }
      },
      "source": [
        "learn.fit_one_cycle(2, slice(2e-3/100, 2e-3))"
      ],
      "execution_count": 29,
      "outputs": [
        {
          "output_type": "display_data",
          "data": {
            "text/html": [
              "<table border=\"1\" class=\"dataframe\">\n",
              "  <thead>\n",
              "    <tr style=\"text-align: left;\">\n",
              "      <th>epoch</th>\n",
              "      <th>train_loss</th>\n",
              "      <th>valid_loss</th>\n",
              "      <th>accuracy</th>\n",
              "      <th>time</th>\n",
              "    </tr>\n",
              "  </thead>\n",
              "  <tbody>\n",
              "    <tr>\n",
              "      <td>0</td>\n",
              "      <td>1.809603</td>\n",
              "      <td>2.107027</td>\n",
              "      <td>0.619413</td>\n",
              "      <td>03:07</td>\n",
              "    </tr>\n",
              "    <tr>\n",
              "      <td>1</td>\n",
              "      <td>1.545039</td>\n",
              "      <td>1.969225</td>\n",
              "      <td>0.656450</td>\n",
              "      <td>03:17</td>\n",
              "    </tr>\n",
              "  </tbody>\n",
              "</table>"
            ],
            "text/plain": [
              "<IPython.core.display.HTML object>"
            ]
          },
          "metadata": {
            "tags": []
          }
        }
      ]
    },
    {
      "cell_type": "code",
      "metadata": {
        "id": "a7I1xMRp8bUd",
        "outputId": "86052ef4-0c85-449e-b1e4-959f27eb6a79",
        "colab": {
          "base_uri": "https://localhost:8080/",
          "height": 111
        }
      },
      "source": [
        "learn.fit_one_cycle(2, slice(2e-3/100, 2e-3))"
      ],
      "execution_count": 30,
      "outputs": [
        {
          "output_type": "display_data",
          "data": {
            "text/html": [
              "<table border=\"1\" class=\"dataframe\">\n",
              "  <thead>\n",
              "    <tr style=\"text-align: left;\">\n",
              "      <th>epoch</th>\n",
              "      <th>train_loss</th>\n",
              "      <th>valid_loss</th>\n",
              "      <th>accuracy</th>\n",
              "      <th>time</th>\n",
              "    </tr>\n",
              "  </thead>\n",
              "  <tbody>\n",
              "    <tr>\n",
              "      <td>0</td>\n",
              "      <td>1.442569</td>\n",
              "      <td>1.787132</td>\n",
              "      <td>0.673052</td>\n",
              "      <td>03:22</td>\n",
              "    </tr>\n",
              "    <tr>\n",
              "      <td>1</td>\n",
              "      <td>1.207005</td>\n",
              "      <td>1.700711</td>\n",
              "      <td>0.704981</td>\n",
              "      <td>03:16</td>\n",
              "    </tr>\n",
              "  </tbody>\n",
              "</table>"
            ],
            "text/plain": [
              "<IPython.core.display.HTML object>"
            ]
          },
          "metadata": {
            "tags": []
          }
        }
      ]
    },
    {
      "cell_type": "code",
      "metadata": {
        "id": "UAnti-XmGVfO",
        "outputId": "3b419f71-c5b8-4c4f-a6d4-5b26567db808",
        "colab": {
          "base_uri": "https://localhost:8080/",
          "height": 111
        }
      },
      "source": [
        "learn.fit_one_cycle(2, slice(2e-3/100, 2e-3))"
      ],
      "execution_count": 31,
      "outputs": [
        {
          "output_type": "display_data",
          "data": {
            "text/html": [
              "<table border=\"1\" class=\"dataframe\">\n",
              "  <thead>\n",
              "    <tr style=\"text-align: left;\">\n",
              "      <th>epoch</th>\n",
              "      <th>train_loss</th>\n",
              "      <th>valid_loss</th>\n",
              "      <th>accuracy</th>\n",
              "      <th>time</th>\n",
              "    </tr>\n",
              "  </thead>\n",
              "  <tbody>\n",
              "    <tr>\n",
              "      <td>0</td>\n",
              "      <td>1.128903</td>\n",
              "      <td>1.580038</td>\n",
              "      <td>0.716475</td>\n",
              "      <td>03:34</td>\n",
              "    </tr>\n",
              "    <tr>\n",
              "      <td>1</td>\n",
              "      <td>0.937473</td>\n",
              "      <td>1.525526</td>\n",
              "      <td>0.727969</td>\n",
              "      <td>03:11</td>\n",
              "    </tr>\n",
              "  </tbody>\n",
              "</table>"
            ],
            "text/plain": [
              "<IPython.core.display.HTML object>"
            ]
          },
          "metadata": {
            "tags": []
          }
        }
      ]
    },
    {
      "cell_type": "code",
      "metadata": {
        "id": "bIft7W25GwSu",
        "outputId": "b30bb701-5f5f-4838-9898-2a7248123274",
        "colab": {
          "base_uri": "https://localhost:8080/",
          "height": 111
        }
      },
      "source": [
        "learn.fit_one_cycle(2, slice(2e-3/100, 2e-3))"
      ],
      "execution_count": 32,
      "outputs": [
        {
          "output_type": "display_data",
          "data": {
            "text/html": [
              "<table border=\"1\" class=\"dataframe\">\n",
              "  <thead>\n",
              "    <tr style=\"text-align: left;\">\n",
              "      <th>epoch</th>\n",
              "      <th>train_loss</th>\n",
              "      <th>valid_loss</th>\n",
              "      <th>accuracy</th>\n",
              "      <th>time</th>\n",
              "    </tr>\n",
              "  </thead>\n",
              "  <tbody>\n",
              "    <tr>\n",
              "      <td>0</td>\n",
              "      <td>0.908986</td>\n",
              "      <td>1.454283</td>\n",
              "      <td>0.742018</td>\n",
              "      <td>03:34</td>\n",
              "    </tr>\n",
              "    <tr>\n",
              "      <td>1</td>\n",
              "      <td>0.818732</td>\n",
              "      <td>1.401490</td>\n",
              "      <td>0.756066</td>\n",
              "      <td>03:24</td>\n",
              "    </tr>\n",
              "  </tbody>\n",
              "</table>"
            ],
            "text/plain": [
              "<IPython.core.display.HTML object>"
            ]
          },
          "metadata": {
            "tags": []
          }
        }
      ]
    },
    {
      "cell_type": "code",
      "metadata": {
        "id": "EEHszVRvGyFt",
        "outputId": "a2938b32-fd9c-407d-f835-abcd9b60439b",
        "colab": {
          "base_uri": "https://localhost:8080/",
          "height": 111
        }
      },
      "source": [
        "learn.fit_one_cycle(2, slice(2e-3/100, 2e-3))"
      ],
      "execution_count": 33,
      "outputs": [
        {
          "output_type": "display_data",
          "data": {
            "text/html": [
              "<table border=\"1\" class=\"dataframe\">\n",
              "  <thead>\n",
              "    <tr style=\"text-align: left;\">\n",
              "      <th>epoch</th>\n",
              "      <th>train_loss</th>\n",
              "      <th>valid_loss</th>\n",
              "      <th>accuracy</th>\n",
              "      <th>time</th>\n",
              "    </tr>\n",
              "  </thead>\n",
              "  <tbody>\n",
              "    <tr>\n",
              "      <td>0</td>\n",
              "      <td>0.700545</td>\n",
              "      <td>1.384297</td>\n",
              "      <td>0.753512</td>\n",
              "      <td>03:10</td>\n",
              "    </tr>\n",
              "    <tr>\n",
              "      <td>1</td>\n",
              "      <td>0.649320</td>\n",
              "      <td>1.303949</td>\n",
              "      <td>0.768838</td>\n",
              "      <td>03:21</td>\n",
              "    </tr>\n",
              "  </tbody>\n",
              "</table>"
            ],
            "text/plain": [
              "<IPython.core.display.HTML object>"
            ]
          },
          "metadata": {
            "tags": []
          }
        }
      ]
    },
    {
      "cell_type": "code",
      "metadata": {
        "id": "XsHfrhCHG3dN",
        "outputId": "678be26d-cde3-419a-c952-f0d1ceec6e7a",
        "colab": {
          "base_uri": "https://localhost:8080/",
          "height": 173
        }
      },
      "source": [
        "learn.fit_one_cycle(4, slice(2e-3/100, 2e-3))"
      ],
      "execution_count": 34,
      "outputs": [
        {
          "output_type": "display_data",
          "data": {
            "text/html": [
              "<table border=\"1\" class=\"dataframe\">\n",
              "  <thead>\n",
              "    <tr style=\"text-align: left;\">\n",
              "      <th>epoch</th>\n",
              "      <th>train_loss</th>\n",
              "      <th>valid_loss</th>\n",
              "      <th>accuracy</th>\n",
              "      <th>time</th>\n",
              "    </tr>\n",
              "  </thead>\n",
              "  <tbody>\n",
              "    <tr>\n",
              "      <td>0</td>\n",
              "      <td>0.593632</td>\n",
              "      <td>1.295395</td>\n",
              "      <td>0.765006</td>\n",
              "      <td>03:22</td>\n",
              "    </tr>\n",
              "    <tr>\n",
              "      <td>1</td>\n",
              "      <td>0.564124</td>\n",
              "      <td>1.283410</td>\n",
              "      <td>0.780332</td>\n",
              "      <td>03:28</td>\n",
              "    </tr>\n",
              "    <tr>\n",
              "      <td>2</td>\n",
              "      <td>0.500971</td>\n",
              "      <td>1.196322</td>\n",
              "      <td>0.789272</td>\n",
              "      <td>03:26</td>\n",
              "    </tr>\n",
              "    <tr>\n",
              "      <td>3</td>\n",
              "      <td>0.422072</td>\n",
              "      <td>1.208660</td>\n",
              "      <td>0.787995</td>\n",
              "      <td>03:20</td>\n",
              "    </tr>\n",
              "  </tbody>\n",
              "</table>"
            ],
            "text/plain": [
              "<IPython.core.display.HTML object>"
            ]
          },
          "metadata": {
            "tags": []
          }
        }
      ]
    },
    {
      "cell_type": "code",
      "metadata": {
        "id": "0Zsd99isb9EQ",
        "outputId": "1120a0b7-2cdd-4466-8a90-a8a3ed4736c6",
        "colab": {
          "base_uri": "https://localhost:8080/",
          "height": 173
        }
      },
      "source": [
        "learn.fit_one_cycle(4, slice(2e-3/100, 2e-3))"
      ],
      "execution_count": 35,
      "outputs": [
        {
          "output_type": "display_data",
          "data": {
            "text/html": [
              "<table border=\"1\" class=\"dataframe\">\n",
              "  <thead>\n",
              "    <tr style=\"text-align: left;\">\n",
              "      <th>epoch</th>\n",
              "      <th>train_loss</th>\n",
              "      <th>valid_loss</th>\n",
              "      <th>accuracy</th>\n",
              "      <th>time</th>\n",
              "    </tr>\n",
              "  </thead>\n",
              "  <tbody>\n",
              "    <tr>\n",
              "      <td>0</td>\n",
              "      <td>0.417425</td>\n",
              "      <td>1.238680</td>\n",
              "      <td>0.784163</td>\n",
              "      <td>03:35</td>\n",
              "    </tr>\n",
              "    <tr>\n",
              "      <td>1</td>\n",
              "      <td>0.449298</td>\n",
              "      <td>1.137349</td>\n",
              "      <td>0.803321</td>\n",
              "      <td>03:18</td>\n",
              "    </tr>\n",
              "    <tr>\n",
              "      <td>2</td>\n",
              "      <td>0.378401</td>\n",
              "      <td>1.154473</td>\n",
              "      <td>0.810983</td>\n",
              "      <td>03:19</td>\n",
              "    </tr>\n",
              "    <tr>\n",
              "      <td>3</td>\n",
              "      <td>0.319754</td>\n",
              "      <td>1.138131</td>\n",
              "      <td>0.816092</td>\n",
              "      <td>03:23</td>\n",
              "    </tr>\n",
              "  </tbody>\n",
              "</table>"
            ],
            "text/plain": [
              "<IPython.core.display.HTML object>"
            ]
          },
          "metadata": {
            "tags": []
          }
        }
      ]
    },
    {
      "cell_type": "code",
      "metadata": {
        "id": "atNWNKDFPbuI",
        "outputId": "2b70b1b6-b752-4f5b-c5a3-098bdff6b12a",
        "colab": {
          "base_uri": "https://localhost:8080/",
          "height": 173
        }
      },
      "source": [
        "learn.fit_one_cycle(4, slice(2e-3/100, 2e-3))"
      ],
      "execution_count": 36,
      "outputs": [
        {
          "output_type": "display_data",
          "data": {
            "text/html": [
              "<table border=\"1\" class=\"dataframe\">\n",
              "  <thead>\n",
              "    <tr style=\"text-align: left;\">\n",
              "      <th>epoch</th>\n",
              "      <th>train_loss</th>\n",
              "      <th>valid_loss</th>\n",
              "      <th>accuracy</th>\n",
              "      <th>time</th>\n",
              "    </tr>\n",
              "  </thead>\n",
              "  <tbody>\n",
              "    <tr>\n",
              "      <td>0</td>\n",
              "      <td>0.346460</td>\n",
              "      <td>1.187371</td>\n",
              "      <td>0.802043</td>\n",
              "      <td>03:26</td>\n",
              "    </tr>\n",
              "    <tr>\n",
              "      <td>1</td>\n",
              "      <td>0.387220</td>\n",
              "      <td>1.201870</td>\n",
              "      <td>0.802043</td>\n",
              "      <td>03:14</td>\n",
              "    </tr>\n",
              "    <tr>\n",
              "      <td>2</td>\n",
              "      <td>0.316256</td>\n",
              "      <td>1.156366</td>\n",
              "      <td>0.807152</td>\n",
              "      <td>03:27</td>\n",
              "    </tr>\n",
              "    <tr>\n",
              "      <td>3</td>\n",
              "      <td>0.260685</td>\n",
              "      <td>1.168515</td>\n",
              "      <td>0.814815</td>\n",
              "      <td>03:18</td>\n",
              "    </tr>\n",
              "  </tbody>\n",
              "</table>"
            ],
            "text/plain": [
              "<IPython.core.display.HTML object>"
            ]
          },
          "metadata": {
            "tags": []
          }
        }
      ]
    },
    {
      "cell_type": "code",
      "metadata": {
        "id": "rKrBTZ0T1uVA",
        "outputId": "9f2bfd63-cc63-48f6-8d4f-b0cfc8891b37",
        "colab": {
          "base_uri": "https://localhost:8080/",
          "height": 173
        }
      },
      "source": [
        "learn.fit_one_cycle(4, slice(2e-3/100, 2e-3))"
      ],
      "execution_count": 37,
      "outputs": [
        {
          "output_type": "display_data",
          "data": {
            "text/html": [
              "<table border=\"1\" class=\"dataframe\">\n",
              "  <thead>\n",
              "    <tr style=\"text-align: left;\">\n",
              "      <th>epoch</th>\n",
              "      <th>train_loss</th>\n",
              "      <th>valid_loss</th>\n",
              "      <th>accuracy</th>\n",
              "      <th>time</th>\n",
              "    </tr>\n",
              "  </thead>\n",
              "  <tbody>\n",
              "    <tr>\n",
              "      <td>0</td>\n",
              "      <td>0.270278</td>\n",
              "      <td>1.165576</td>\n",
              "      <td>0.818646</td>\n",
              "      <td>03:14</td>\n",
              "    </tr>\n",
              "    <tr>\n",
              "      <td>1</td>\n",
              "      <td>0.311482</td>\n",
              "      <td>1.146479</td>\n",
              "      <td>0.819923</td>\n",
              "      <td>03:23</td>\n",
              "    </tr>\n",
              "    <tr>\n",
              "      <td>2</td>\n",
              "      <td>0.268636</td>\n",
              "      <td>1.168171</td>\n",
              "      <td>0.812261</td>\n",
              "      <td>03:19</td>\n",
              "    </tr>\n",
              "    <tr>\n",
              "      <td>3</td>\n",
              "      <td>0.238539</td>\n",
              "      <td>1.199411</td>\n",
              "      <td>0.817369</td>\n",
              "      <td>03:29</td>\n",
              "    </tr>\n",
              "  </tbody>\n",
              "</table>"
            ],
            "text/plain": [
              "<IPython.core.display.HTML object>"
            ]
          },
          "metadata": {
            "tags": []
          }
        }
      ]
    },
    {
      "cell_type": "code",
      "metadata": {
        "id": "ajQC6WDg1yA9",
        "outputId": "16732eac-1675-47d0-aa07-65c0515ec1f6",
        "colab": {
          "base_uri": "https://localhost:8080/",
          "height": 173
        }
      },
      "source": [
        "learn.fit_one_cycle(4, slice(2e-3/100, 2e-3))"
      ],
      "execution_count": 38,
      "outputs": [
        {
          "output_type": "display_data",
          "data": {
            "text/html": [
              "<table border=\"1\" class=\"dataframe\">\n",
              "  <thead>\n",
              "    <tr style=\"text-align: left;\">\n",
              "      <th>epoch</th>\n",
              "      <th>train_loss</th>\n",
              "      <th>valid_loss</th>\n",
              "      <th>accuracy</th>\n",
              "      <th>time</th>\n",
              "    </tr>\n",
              "  </thead>\n",
              "  <tbody>\n",
              "    <tr>\n",
              "      <td>0</td>\n",
              "      <td>0.217802</td>\n",
              "      <td>1.205012</td>\n",
              "      <td>0.825032</td>\n",
              "      <td>03:34</td>\n",
              "    </tr>\n",
              "    <tr>\n",
              "      <td>1</td>\n",
              "      <td>0.269841</td>\n",
              "      <td>1.166451</td>\n",
              "      <td>0.819923</td>\n",
              "      <td>03:33</td>\n",
              "    </tr>\n",
              "    <tr>\n",
              "      <td>2</td>\n",
              "      <td>0.236397</td>\n",
              "      <td>1.148585</td>\n",
              "      <td>0.825032</td>\n",
              "      <td>03:32</td>\n",
              "    </tr>\n",
              "    <tr>\n",
              "      <td>3</td>\n",
              "      <td>0.212125</td>\n",
              "      <td>1.206503</td>\n",
              "      <td>0.825032</td>\n",
              "      <td>03:13</td>\n",
              "    </tr>\n",
              "  </tbody>\n",
              "</table>"
            ],
            "text/plain": [
              "<IPython.core.display.HTML object>"
            ]
          },
          "metadata": {
            "tags": []
          }
        }
      ]
    },
    {
      "cell_type": "code",
      "metadata": {
        "id": "KKydb0B4BKGk",
        "outputId": "567ad9dd-6928-4c4f-8662-cb3cd9898463",
        "colab": {
          "base_uri": "https://localhost:8080/",
          "height": 173
        }
      },
      "source": [
        "learn.fit_one_cycle(4, slice(2e-3/100, 2e-3))"
      ],
      "execution_count": 39,
      "outputs": [
        {
          "output_type": "display_data",
          "data": {
            "text/html": [
              "<table border=\"1\" class=\"dataframe\">\n",
              "  <thead>\n",
              "    <tr style=\"text-align: left;\">\n",
              "      <th>epoch</th>\n",
              "      <th>train_loss</th>\n",
              "      <th>valid_loss</th>\n",
              "      <th>accuracy</th>\n",
              "      <th>time</th>\n",
              "    </tr>\n",
              "  </thead>\n",
              "  <tbody>\n",
              "    <tr>\n",
              "      <td>0</td>\n",
              "      <td>0.203561</td>\n",
              "      <td>1.289209</td>\n",
              "      <td>0.821200</td>\n",
              "      <td>03:14</td>\n",
              "    </tr>\n",
              "    <tr>\n",
              "      <td>1</td>\n",
              "      <td>0.215008</td>\n",
              "      <td>1.252764</td>\n",
              "      <td>0.826309</td>\n",
              "      <td>03:25</td>\n",
              "    </tr>\n",
              "    <tr>\n",
              "      <td>2</td>\n",
              "      <td>0.201617</td>\n",
              "      <td>1.229879</td>\n",
              "      <td>0.825032</td>\n",
              "      <td>03:25</td>\n",
              "    </tr>\n",
              "    <tr>\n",
              "      <td>3</td>\n",
              "      <td>0.183503</td>\n",
              "      <td>1.192889</td>\n",
              "      <td>0.825032</td>\n",
              "      <td>03:26</td>\n",
              "    </tr>\n",
              "  </tbody>\n",
              "</table>"
            ],
            "text/plain": [
              "<IPython.core.display.HTML object>"
            ]
          },
          "metadata": {
            "tags": []
          }
        }
      ]
    },
    {
      "cell_type": "code",
      "metadata": {
        "id": "T2APKtFKBpGY",
        "outputId": "b69d922b-b871-4ee0-af2b-ccf00cc70872",
        "colab": {
          "base_uri": "https://localhost:8080/",
          "height": 173
        }
      },
      "source": [
        "learn.fit_one_cycle(4, slice(2e-3/100, 2e-3))"
      ],
      "execution_count": 40,
      "outputs": [
        {
          "output_type": "display_data",
          "data": {
            "text/html": [
              "<table border=\"1\" class=\"dataframe\">\n",
              "  <thead>\n",
              "    <tr style=\"text-align: left;\">\n",
              "      <th>epoch</th>\n",
              "      <th>train_loss</th>\n",
              "      <th>valid_loss</th>\n",
              "      <th>accuracy</th>\n",
              "      <th>time</th>\n",
              "    </tr>\n",
              "  </thead>\n",
              "  <tbody>\n",
              "    <tr>\n",
              "      <td>0</td>\n",
              "      <td>0.172001</td>\n",
              "      <td>1.223193</td>\n",
              "      <td>0.821200</td>\n",
              "      <td>03:18</td>\n",
              "    </tr>\n",
              "    <tr>\n",
              "      <td>1</td>\n",
              "      <td>0.214624</td>\n",
              "      <td>1.246507</td>\n",
              "      <td>0.816092</td>\n",
              "      <td>03:19</td>\n",
              "    </tr>\n",
              "    <tr>\n",
              "      <td>2</td>\n",
              "      <td>0.188498</td>\n",
              "      <td>1.163401</td>\n",
              "      <td>0.837803</td>\n",
              "      <td>03:16</td>\n",
              "    </tr>\n",
              "    <tr>\n",
              "      <td>3</td>\n",
              "      <td>0.169468</td>\n",
              "      <td>1.187900</td>\n",
              "      <td>0.837803</td>\n",
              "      <td>03:25</td>\n",
              "    </tr>\n",
              "  </tbody>\n",
              "</table>"
            ],
            "text/plain": [
              "<IPython.core.display.HTML object>"
            ]
          },
          "metadata": {
            "tags": []
          }
        }
      ]
    },
    {
      "cell_type": "code",
      "metadata": {
        "id": "qtTypA1sPgLU",
        "outputId": "a82f6a85-2440-4948-bbe1-c2194d2c27da",
        "colab": {
          "base_uri": "https://localhost:8080/",
          "height": 111
        }
      },
      "source": [
        "learn.fit_one_cycle(2, slice(2e-3/100, 2e-3))"
      ],
      "execution_count": 41,
      "outputs": [
        {
          "output_type": "display_data",
          "data": {
            "text/html": [
              "<table border=\"1\" class=\"dataframe\">\n",
              "  <thead>\n",
              "    <tr style=\"text-align: left;\">\n",
              "      <th>epoch</th>\n",
              "      <th>train_loss</th>\n",
              "      <th>valid_loss</th>\n",
              "      <th>accuracy</th>\n",
              "      <th>time</th>\n",
              "    </tr>\n",
              "  </thead>\n",
              "  <tbody>\n",
              "    <tr>\n",
              "      <td>0</td>\n",
              "      <td>0.190936</td>\n",
              "      <td>1.283339</td>\n",
              "      <td>0.831418</td>\n",
              "      <td>03:19</td>\n",
              "    </tr>\n",
              "    <tr>\n",
              "      <td>1</td>\n",
              "      <td>0.187066</td>\n",
              "      <td>1.206137</td>\n",
              "      <td>0.825032</td>\n",
              "      <td>03:22</td>\n",
              "    </tr>\n",
              "  </tbody>\n",
              "</table>"
            ],
            "text/plain": [
              "<IPython.core.display.HTML object>"
            ]
          },
          "metadata": {
            "tags": []
          }
        }
      ]
    },
    {
      "cell_type": "code",
      "metadata": {
        "id": "b242kBsTUp9Y",
        "outputId": "e84edb1a-2a9c-410d-e690-1c30b326f851",
        "colab": {
          "base_uri": "https://localhost:8080/",
          "height": 111
        }
      },
      "source": [
        "learn.fit_one_cycle(2, slice(2e-3/100, 2e-3))"
      ],
      "execution_count": 42,
      "outputs": [
        {
          "output_type": "display_data",
          "data": {
            "text/html": [
              "<table border=\"1\" class=\"dataframe\">\n",
              "  <thead>\n",
              "    <tr style=\"text-align: left;\">\n",
              "      <th>epoch</th>\n",
              "      <th>train_loss</th>\n",
              "      <th>valid_loss</th>\n",
              "      <th>accuracy</th>\n",
              "      <th>time</th>\n",
              "    </tr>\n",
              "  </thead>\n",
              "  <tbody>\n",
              "    <tr>\n",
              "      <td>0</td>\n",
              "      <td>0.187733</td>\n",
              "      <td>1.290418</td>\n",
              "      <td>0.816092</td>\n",
              "      <td>03:21</td>\n",
              "    </tr>\n",
              "    <tr>\n",
              "      <td>1</td>\n",
              "      <td>0.186411</td>\n",
              "      <td>1.324522</td>\n",
              "      <td>0.823755</td>\n",
              "      <td>03:18</td>\n",
              "    </tr>\n",
              "  </tbody>\n",
              "</table>"
            ],
            "text/plain": [
              "<IPython.core.display.HTML object>"
            ]
          },
          "metadata": {
            "tags": []
          }
        }
      ]
    },
    {
      "cell_type": "code",
      "metadata": {
        "id": "Duwf1Ih5VeDZ",
        "outputId": "522efc60-b41d-4d78-b7ca-1f6da0314ec7",
        "colab": {
          "base_uri": "https://localhost:8080/",
          "height": 80
        }
      },
      "source": [
        "learn.fit_one_cycle(1, slice(2e-3/100, 2e-3))"
      ],
      "execution_count": 43,
      "outputs": [
        {
          "output_type": "display_data",
          "data": {
            "text/html": [
              "<table border=\"1\" class=\"dataframe\">\n",
              "  <thead>\n",
              "    <tr style=\"text-align: left;\">\n",
              "      <th>epoch</th>\n",
              "      <th>train_loss</th>\n",
              "      <th>valid_loss</th>\n",
              "      <th>accuracy</th>\n",
              "      <th>time</th>\n",
              "    </tr>\n",
              "  </thead>\n",
              "  <tbody>\n",
              "    <tr>\n",
              "      <td>0</td>\n",
              "      <td>0.197682</td>\n",
              "      <td>1.169919</td>\n",
              "      <td>0.835249</td>\n",
              "      <td>03:23</td>\n",
              "    </tr>\n",
              "  </tbody>\n",
              "</table>"
            ],
            "text/plain": [
              "<IPython.core.display.HTML object>"
            ]
          },
          "metadata": {
            "tags": []
          }
        }
      ]
    },
    {
      "cell_type": "code",
      "metadata": {
        "id": "c65d-osfDUXm"
      },
      "source": [
        "# save the best model\n",
        "\n",
        "learn.save_encoder('pubmed_cadec_askpatient_mixed_fold5')"
      ],
      "execution_count": 44,
      "outputs": []
    },
    {
      "cell_type": "markdown",
      "metadata": {
        "id": "rCwZU0E2RgM6"
      },
      "source": [
        "# Part three: Predict on the test dataset"
      ]
    },
    {
      "cell_type": "code",
      "metadata": {
        "id": "gDm72c-dOu7d",
        "outputId": "e5edecda-f9ef-484b-d978-fa747a858387",
        "colab": {
          "base_uri": "https://localhost:8080/",
          "height": 17
        }
      },
      "source": [
        "# use the test data for prediction\n",
        "\n",
        "preds, y = learn.get_preds(DatasetType.Test)"
      ],
      "execution_count": 45,
      "outputs": [
        {
          "output_type": "display_data",
          "data": {
            "text/html": [
              ""
            ],
            "text/plain": [
              "<IPython.core.display.HTML object>"
            ]
          },
          "metadata": {
            "tags": []
          }
        }
      ]
    },
    {
      "cell_type": "code",
      "metadata": {
        "id": "6tFSQcsWPvxn",
        "outputId": "549c9a15-17b7-475e-c4d7-e3fba1e0159d",
        "colab": {
          "base_uri": "https://localhost:8080/",
          "height": 105
        }
      },
      "source": [
        "predictions, *_ = learn.get_preds(DatasetType.Test)\n",
        "labels = np.argmax(predictions, 1)\n",
        "predict_list = labels.tolist()\n",
        "standard_list = test[0].tolist()\n",
        "\n",
        "print(len(predict_list))\n",
        "print(len(standard_list))\n",
        "\n",
        "print(predict_list)\n",
        "print(standard_list)"
      ],
      "execution_count": 46,
      "outputs": [
        {
          "output_type": "display_data",
          "data": {
            "text/html": [
              ""
            ],
            "text/plain": [
              "<IPython.core.display.HTML object>"
            ]
          },
          "metadata": {
            "tags": []
          }
        },
        {
          "output_type": "stream",
          "text": [
            "866\n",
            "866\n",
            "[0, 0, 2, 2, 289, 8, 8, 8, 8, 16, 16, 16, 71, 27, 27, 27, 110, 34, 34, 209, 37, 37, 37, 37, 37, 37, 315, 48, 49, 79, 49, 49, 49, 49, 187, 53, 53, 58, 323, 853, 954, 71, 71, 71, 71, 129, 209, 265, 79, 79, 79, 79, 79, 79, 79, 79, 79, 79, 79, 79, 79, 79, 79, 79, 79, 79, 79, 79, 79, 79, 79, 79, 79, 79, 79, 79, 79, 79, 79, 79, 79, 79, 79, 79, 79, 79, 80, 80, 220, 83, 733, 585, 92, 94, 94, 94, 94, 94, 94, 95, 96, 96, 96, 98, 100, 100, 100, 100, 100, 100, 100, 100, 100, 103, 104, 712, 107, 107, 108, 108, 108, 111, 730, 111, 111, 111, 111, 111, 182, 111, 122, 119, 122, 472, 122, 122, 125, 839, 125, 125, 125, 125, 125, 125, 135, 1026, 137, 137, 344, 148, 588, 151, 157, 865, 509, 509, 166, 166, 166, 171, 172, 172, 289, 289, 172, 172, 172, 172, 172, 172, 214, 173, 214, 620, 122, 165, 181, 181, 182, 182, 183, 183, 183, 183, 183, 183, 183, 183, 184, 240, 240, 190, 190, 190, 289, 289, 188, 190, 190, 190, 190, 190, 717, 855, 193, 196, 197, 197, 197, 197, 197, 202, 202, 205, 209, 210, 210, 211, 211, 214, 214, 214, 214, 214, 214, 214, 214, 214, 214, 214, 214, 214, 214, 214, 214, 214, 265, 214, 214, 402, 214, 214, 214, 216, 98, 218, 220, 220, 5, 228, 289, 228, 228, 228, 228, 228, 228, 228, 228, 228, 228, 244, 234, 235, 236, 860, 100, 427, 648, 238, 238, 243, 243, 243, 243, 243, 243, 243, 243, 243, 243, 243, 243, 244, 765, 245, 245, 245, 245, 245, 245, 246, 246, 246, 254, 417, 541, 441, 258, 264, 360, 265, 265, 265, 265, 265, 265, 704, 265, 265, 265, 265, 265, 265, 265, 265, 265, 265, 265, 265, 265, 1026, 265, 75, 79, 446, 137, 438, 269, 648, 682, 290, 279, 848, 848, 289, 281, 283, 728, 289, 289, 228, 79, 621, 289, 741, 289, 289, 289, 289, 289, 289, 289, 289, 289, 289, 614, 301, 301, 591, 265, 309, 309, 309, 309, 309, 311, 313, 313, 318, 318, 130, 364, 103, 325, 925, 925, 925, 925, 925, 325, 326, 329, 329, 100, 334, 336, 337, 342, 342, 342, 342, 343, 343, 344, 364, 359, 359, 359, 363, 363, 364, 364, 378, 228, 391, 396, 396, 304, 402, 401, 309, 402, 408, 408, 408, 408, 408, 408, 412, 301, 415, 652, 419, 419, 419, 419, 419, 419, 419, 419, 419, 419, 424, 426, 426, 175, 427, 427, 427, 427, 427, 427, 427, 427, 427, 427, 427, 427, 430, 61, 434, 435, 437, 443, 444, 443, 693, 454, 455, 455, 35, 455, 455, 455, 455, 455, 455, 455, 458, 458, 460, 462, 801, 470, 474, 475, 475, 475, 158, 479, 543, 348, 484, 605, 445, 491, 491, 491, 81, 662, 122, 495, 226, 499, 499, 344, 503, 375, 509, 8, 517, 517, 517, 517, 517, 522, 524, 527, 530, 38, 530, 530, 530, 531, 531, 644, 532, 541, 545, 545, 545, 764, 548, 549, 788, 567, 572, 236, 578, 578, 579, 31, 31, 590, 590, 591, 591, 592, 592, 595, 597, 427, 597, 597, 597, 479, 31, 701, 610, 610, 106, 611, 76, 614, 614, 614, 619, 619, 348, 623, 623, 623, 623, 245, 643, 646, 646, 646, 646, 646, 1026, 172, 652, 652, 652, 652, 659, 660, 265, 662, 662, 663, 666, 666, 727, 182, 693, 427, 698, 696, 289, 265, 677, 707, 710, 106, 711, 711, 711, 714, 716, 676, 572, 764, 254, 37, 606, 595, 291, 746, 749, 749, 861, 753, 753, 753, 753, 753, 681, 31, 9, 338, 772, 772, 772, 775, 775, 775, 775, 775, 775, 775, 778, 779, 780, 783, 517, 384, 798, 794, 802, 803, 804, 455, 493, 806, 806, 183, 809, 809, 809, 317, 810, 817, 343, 708, 826, 402, 830, 830, 830, 830, 830, 830, 830, 736, 202, 836, 312, 841, 841, 7, 844, 195, 846, 847, 448, 847, 852, 853, 853, 853, 853, 853, 853, 437, 865, 877, 884, 887, 724, 896, 896, 896, 896, 896, 896, 896, 896, 897, 363, 363, 904, 75, 915, 919, 921, 8, 927, 933, 937, 937, 937, 937, 937, 940, 948, 948, 216, 949, 949, 949, 949, 949, 949, 949, 949, 949, 949, 949, 949, 949, 949, 949, 949, 949, 949, 949, 949, 949, 949, 949, 949, 949, 949, 949, 949, 949, 949, 949, 949, 949, 949, 949, 949, 949, 949, 949, 949, 949, 949, 949, 949, 949, 949, 949, 949, 949, 949, 949, 949, 949, 949, 949, 949, 949, 949, 949, 949, 949, 949, 949, 949, 949, 949, 949, 949, 949, 949, 949, 949, 949, 949, 949, 949, 949, 949, 949, 949, 949, 949, 949, 949, 949, 949, 949, 949, 949, 949, 949, 949, 949, 949, 949, 949, 949, 949, 949, 949, 949, 949, 950, 950, 950, 950, 950, 952, 953, 955, 956, 959, 960, 964, 964, 971, 974, 976, 976, 775, 981, 987, 973, 954, 992, 35, 999, 216, 999, 853, 1001, 1004, 1016, 1016, 133, 988, 1026, 1028, 1028, 1029, 1029, 1031, 1028, 1032, 1035, 1035]\n",
            "[0, 0, 2, 2, 2, 8, 8, 8, 8, 16, 16, 16, 19, 27, 27, 27, 33, 34, 34, 34, 37, 37, 37, 37, 37, 37, 38, 48, 49, 49, 49, 49, 49, 49, 53, 53, 53, 58, 62, 67, 68, 71, 71, 71, 71, 73, 76, 79, 79, 79, 79, 79, 79, 79, 79, 79, 79, 79, 79, 79, 79, 79, 79, 79, 79, 79, 79, 79, 79, 79, 79, 79, 79, 79, 79, 79, 79, 79, 79, 79, 79, 79, 79, 79, 79, 79, 80, 80, 80, 83, 88, 88, 92, 94, 94, 94, 94, 94, 94, 95, 96, 96, 96, 98, 100, 100, 100, 100, 100, 100, 100, 100, 100, 103, 104, 107, 107, 107, 108, 108, 108, 111, 111, 111, 111, 111, 111, 111, 111, 111, 114, 119, 122, 122, 122, 122, 125, 125, 125, 125, 125, 125, 125, 125, 135, 135, 137, 137, 144, 148, 148, 151, 157, 159, 163, 163, 166, 166, 166, 171, 172, 172, 172, 172, 172, 172, 172, 172, 172, 172, 173, 173, 173, 173, 173, 178, 181, 181, 182, 182, 183, 183, 183, 183, 183, 183, 183, 183, 184, 187, 187, 190, 190, 190, 190, 190, 190, 190, 190, 190, 190, 190, 190, 190, 193, 196, 197, 197, 197, 197, 197, 202, 202, 205, 209, 210, 210, 211, 211, 214, 214, 214, 214, 214, 214, 214, 214, 214, 214, 214, 214, 214, 214, 214, 214, 214, 214, 214, 214, 214, 214, 214, 214, 216, 217, 218, 220, 220, 220, 228, 228, 228, 228, 228, 228, 228, 228, 228, 228, 228, 228, 231, 234, 235, 236, 236, 236, 237, 237, 238, 238, 243, 243, 243, 243, 243, 243, 243, 243, 243, 243, 243, 243, 244, 245, 245, 245, 245, 245, 245, 245, 246, 246, 246, 254, 254, 257, 258, 258, 264, 265, 265, 265, 265, 265, 265, 265, 265, 265, 265, 265, 265, 265, 265, 265, 265, 265, 265, 265, 265, 265, 265, 265, 265, 265, 268, 268, 269, 269, 273, 274, 279, 279, 280, 280, 281, 281, 283, 286, 289, 289, 289, 289, 289, 289, 289, 289, 289, 289, 289, 289, 289, 289, 289, 289, 289, 289, 301, 301, 309, 309, 309, 309, 309, 309, 309, 311, 313, 313, 318, 318, 318, 318, 322, 325, 325, 325, 325, 325, 325, 325, 326, 329, 329, 331, 334, 336, 337, 342, 342, 342, 342, 343, 343, 344, 345, 359, 359, 359, 363, 363, 364, 364, 378, 381, 391, 396, 396, 397, 399, 401, 402, 402, 408, 408, 408, 408, 408, 408, 412, 415, 415, 419, 419, 419, 419, 419, 419, 419, 419, 419, 419, 419, 424, 426, 426, 427, 427, 427, 427, 427, 427, 427, 427, 427, 427, 427, 427, 427, 430, 430, 434, 435, 437, 443, 444, 445, 446, 454, 455, 455, 455, 455, 455, 455, 455, 455, 455, 455, 458, 458, 460, 462, 468, 470, 474, 475, 475, 475, 476, 479, 480, 484, 484, 487, 491, 491, 491, 491, 491, 491, 495, 495, 499, 499, 499, 502, 503, 509, 509, 512, 517, 517, 517, 517, 517, 522, 524, 527, 530, 530, 530, 530, 530, 531, 531, 532, 532, 541, 545, 545, 545, 547, 548, 549, 553, 567, 572, 574, 578, 578, 579, 584, 584, 590, 590, 591, 591, 592, 592, 595, 597, 597, 597, 597, 597, 598, 600, 605, 610, 610, 611, 611, 614, 614, 614, 614, 619, 619, 623, 623, 623, 623, 623, 638, 643, 646, 646, 646, 646, 646, 646, 651, 652, 652, 652, 652, 659, 660, 660, 662, 662, 664, 666, 666, 683, 686, 693, 698, 698, 702, 703, 704, 706, 707, 710, 710, 711, 711, 711, 714, 715, 719, 720, 727, 739, 741, 741, 746, 746, 746, 747, 749, 750, 753, 753, 753, 753, 753, 754, 755, 760, 768, 771, 771, 773, 775, 775, 775, 775, 775, 775, 775, 778, 779, 780, 783, 794, 795, 798, 801, 802, 803, 804, 804, 805, 806, 806, 809, 809, 809, 809, 810, 810, 817, 822, 825, 826, 827, 830, 830, 830, 830, 830, 830, 830, 831, 834, 836, 839, 841, 841, 842, 844, 845, 846, 847, 847, 847, 852, 853, 853, 853, 853, 853, 853, 861, 865, 877, 884, 887, 894, 896, 896, 896, 896, 896, 896, 896, 896, 896, 896, 896, 904, 905, 915, 919, 919, 926, 927, 933, 937, 937, 937, 937, 937, 940, 948, 948, 949, 949, 949, 949, 949, 949, 949, 949, 949, 949, 949, 949, 949, 949, 949, 949, 949, 949, 949, 949, 949, 949, 949, 949, 949, 949, 949, 949, 949, 949, 949, 949, 949, 949, 949, 949, 949, 949, 949, 949, 949, 949, 949, 949, 949, 949, 949, 949, 949, 949, 949, 949, 949, 949, 949, 949, 949, 949, 949, 949, 949, 949, 949, 949, 949, 949, 949, 949, 949, 949, 949, 949, 949, 949, 949, 949, 949, 949, 949, 949, 949, 949, 949, 949, 949, 949, 949, 949, 949, 949, 949, 949, 949, 949, 949, 949, 949, 949, 949, 949, 949, 949, 949, 950, 950, 950, 950, 950, 952, 953, 955, 956, 959, 960, 964, 964, 971, 974, 976, 976, 979, 981, 987, 990, 992, 992, 993, 999, 999, 999, 999, 1001, 1004, 1016, 1016, 1016, 1021, 1026, 1028, 1028, 1029, 1029, 1031, 1031, 1032, 1035, 1035]\n"
          ],
          "name": "stdout"
        }
      ]
    },
    {
      "cell_type": "code",
      "metadata": {
        "id": "XIC4zufnMxtq",
        "outputId": "10b32f68-e8bb-44d2-d815-f057f5cf988a",
        "colab": {
          "base_uri": "https://localhost:8080/",
          "height": 51
        }
      },
      "source": [
        "correct_num = 0\n",
        "\n",
        "for i in range(0, len(standard_list)):\n",
        "  if predict_list[i] == standard_list[i]:\n",
        "    correct_num = correct_num+1\n",
        "  else:\n",
        "    pass\n",
        "print(correct_num)\n",
        "\n",
        "predict_accuracy = correct_num/len(predict_list)\n",
        "print(predict_accuracy)"
      ],
      "execution_count": 47,
      "outputs": [
        {
          "output_type": "stream",
          "text": [
            "675\n",
            "0.7794457274826789\n"
          ],
          "name": "stdout"
        }
      ]
    },
    {
      "cell_type": "code",
      "metadata": {
        "id": "zlKMHp1CIaRJ"
      },
      "source": [
        ""
      ],
      "execution_count": 47,
      "outputs": []
    }
  ]
}