{
  "nbformat": 4,
  "nbformat_minor": 0,
  "metadata": {
    "accelerator": "TPU",
    "colab": {
      "name": "cadec_ask_08.ipynb",
      "provenance": [],
      "collapsed_sections": [],
      "include_colab_link": true
    },
    "kernelspec": {
      "display_name": "Python 3",
      "name": "python3"
    }
  },
  "cells": [
    {
      "cell_type": "markdown",
      "metadata": {
        "id": "view-in-github",
        "colab_type": "text"
      },
      "source": [
        "<a href=\"https://colab.research.google.com/github/unt-iialab/medical-concept-normalization/blob/master/medical-concept-normalization/fine-tuning-experiments/askpatient/cadec_ask_08.ipynb\" target=\"_parent\"><img src=\"https://colab.research.google.com/assets/colab-badge.svg\" alt=\"Open In Colab\"/></a>"
      ]
    },
    {
      "cell_type": "code",
      "metadata": {
        "id": "adSi6i2-dWxy"
      },
      "source": [
        "import os"
      ],
      "execution_count": 1,
      "outputs": []
    },
    {
      "cell_type": "code",
      "metadata": {
        "id": "E7xYCRGPjd9B"
      },
      "source": [
        "base_dir = 'medical-concept-normalization'"
      ],
      "execution_count": 2,
      "outputs": []
    },
    {
      "cell_type": "code",
      "metadata": {
        "id": "yvIW3aUDjYNS"
      },
      "source": [
        "os.mkdir(base_dir)"
      ],
      "execution_count": 3,
      "outputs": []
    },
    {
      "cell_type": "code",
      "metadata": {
        "id": "es-FFLlfk6SG"
      },
      "source": [
        "os.mkdir('medical-concept-normalization/data_collection')"
      ],
      "execution_count": 4,
      "outputs": []
    },
    {
      "cell_type": "markdown",
      "metadata": {
        "id": "0R-Guw_VoJXm"
      },
      "source": [
        "**Install fastai and clone the fastai for text classification**\n",
        "\n"
      ]
    },
    {
      "cell_type": "code",
      "metadata": {
        "id": "QVZa3Z0PmHFH",
        "outputId": "d8755f98-a6be-411d-a5ab-4324c6691c67",
        "colab": {
          "base_uri": "https://localhost:8080/"
        }
      },
      "source": [
        "!curl https://course-v3.fast.ai/setup/colab | bash"
      ],
      "execution_count": 5,
      "outputs": [
        {
          "output_type": "stream",
          "text": [
            "  % Total    % Received % Xferd  Average Speed   Time    Time     Time  Current\n",
            "                                 Dload  Upload   Total   Spent    Left  Speed\n",
            "\r  0     0    0     0    0     0      0      0 --:--:-- --:--:-- --:--:--     0curl: (6) Could not resolve host: course-v3.fast.ai\n"
          ],
          "name": "stdout"
        }
      ]
    },
    {
      "cell_type": "code",
      "metadata": {
        "id": "_FBFFEBrmJC0",
        "outputId": "d3ed5868-e7af-4001-c833-ca3d60aafea6",
        "colab": {
          "base_uri": "https://localhost:8080/"
        }
      },
      "source": [
        "!git clone https://github.com/wshuyi/demo-nlp-classification-fastai.git"
      ],
      "execution_count": 6,
      "outputs": [
        {
          "output_type": "stream",
          "text": [
            "Cloning into 'demo-nlp-classification-fastai'...\n",
            "remote: Enumerating objects: 9, done.\u001b[K\n",
            "remote: Total 9 (delta 0), reused 0 (delta 0), pack-reused 9\u001b[K\n",
            "Unpacking objects: 100% (9/9), done.\n"
          ],
          "name": "stdout"
        }
      ]
    },
    {
      "cell_type": "code",
      "metadata": {
        "id": "66zfh_JqmWMU"
      },
      "source": [
        "from fastai import *\n",
        "from fastai.text import *"
      ],
      "execution_count": 7,
      "outputs": []
    },
    {
      "cell_type": "markdown",
      "metadata": {
        "id": "mNIw-yALdBU9"
      },
      "source": [
        "**Set the path of the data collections**"
      ]
    },
    {
      "cell_type": "code",
      "metadata": {
        "id": "pzH7VMh4mqCL"
      },
      "source": [
        "path = Path('medical-concept-normalization/data_collection')"
      ],
      "execution_count": 8,
      "outputs": []
    },
    {
      "cell_type": "code",
      "metadata": {
        "id": "b8fjI6yyn4aS"
      },
      "source": [
        "# training data set\n",
        "\n",
        "train_csv = path/'AskAPatient.fold-8.train.csv'\n",
        "train = pd.read_csv(train_csv, header=None)\n",
        "#train.head()\n",
        "#train.info()"
      ],
      "execution_count": 10,
      "outputs": []
    },
    {
      "cell_type": "code",
      "metadata": {
        "id": "Hmlr-bAorfHd",
        "outputId": "cf935249-d373-42d9-fc4e-8cdf79404672",
        "colab": {
          "base_uri": "https://localhost:8080/",
          "height": 204
        }
      },
      "source": [
        "# validating data set\n",
        "\n",
        "valid = pd.read_csv(path/\"AskAPatient.fold-8.validation.csv\",header=None)\n",
        "valid.head()"
      ],
      "execution_count": 11,
      "outputs": [
        {
          "output_type": "execute_result",
          "data": {
            "text/html": [
              "<div>\n",
              "<style scoped>\n",
              "    .dataframe tbody tr th:only-of-type {\n",
              "        vertical-align: middle;\n",
              "    }\n",
              "\n",
              "    .dataframe tbody tr th {\n",
              "        vertical-align: top;\n",
              "    }\n",
              "\n",
              "    .dataframe thead th {\n",
              "        text-align: right;\n",
              "    }\n",
              "</style>\n",
              "<table border=\"1\" class=\"dataframe\">\n",
              "  <thead>\n",
              "    <tr style=\"text-align: right;\">\n",
              "      <th></th>\n",
              "      <th>0</th>\n",
              "      <th>1</th>\n",
              "    </tr>\n",
              "  </thead>\n",
              "  <tbody>\n",
              "    <tr>\n",
              "      <th>0</th>\n",
              "      <td>0</td>\n",
              "      <td>scared to death</td>\n",
              "    </tr>\n",
              "    <tr>\n",
              "      <th>1</th>\n",
              "      <td>2</td>\n",
              "      <td>heel pain</td>\n",
              "    </tr>\n",
              "    <tr>\n",
              "      <th>2</th>\n",
              "      <td>5</td>\n",
              "      <td>increased heart rate</td>\n",
              "    </tr>\n",
              "    <tr>\n",
              "      <th>3</th>\n",
              "      <td>6</td>\n",
              "      <td>stage 1 diastolic dysfunction</td>\n",
              "    </tr>\n",
              "    <tr>\n",
              "      <th>4</th>\n",
              "      <td>8</td>\n",
              "      <td>arthritis</td>\n",
              "    </tr>\n",
              "  </tbody>\n",
              "</table>\n",
              "</div>"
            ],
            "text/plain": [
              "   0                              1\n",
              "0  0                scared to death\n",
              "1  2                      heel pain\n",
              "2  5           increased heart rate\n",
              "3  6  stage 1 diastolic dysfunction\n",
              "4  8                      arthritis"
            ]
          },
          "metadata": {
            "tags": []
          },
          "execution_count": 11
        }
      ]
    },
    {
      "cell_type": "code",
      "metadata": {
        "id": "cOza9dfSsBud",
        "outputId": "978078ab-3791-4b10-d0c7-2212ce284b9f",
        "colab": {
          "base_uri": "https://localhost:8080/",
          "height": 204
        }
      },
      "source": [
        "# testing data set\n",
        "\n",
        "test = pd.read_csv(path/\"AskAPatient.fold-8.test.csv\",header=None)\n",
        "test.head()"
      ],
      "execution_count": 12,
      "outputs": [
        {
          "output_type": "execute_result",
          "data": {
            "text/html": [
              "<div>\n",
              "<style scoped>\n",
              "    .dataframe tbody tr th:only-of-type {\n",
              "        vertical-align: middle;\n",
              "    }\n",
              "\n",
              "    .dataframe tbody tr th {\n",
              "        vertical-align: top;\n",
              "    }\n",
              "\n",
              "    .dataframe thead th {\n",
              "        text-align: right;\n",
              "    }\n",
              "</style>\n",
              "<table border=\"1\" class=\"dataframe\">\n",
              "  <thead>\n",
              "    <tr style=\"text-align: right;\">\n",
              "      <th></th>\n",
              "      <th>0</th>\n",
              "      <th>1</th>\n",
              "    </tr>\n",
              "  </thead>\n",
              "  <tbody>\n",
              "    <tr>\n",
              "      <th>0</th>\n",
              "      <td>1</td>\n",
              "      <td>Abdominal rash</td>\n",
              "    </tr>\n",
              "    <tr>\n",
              "      <th>1</th>\n",
              "      <td>5</td>\n",
              "      <td>increase my heart rate</td>\n",
              "    </tr>\n",
              "    <tr>\n",
              "      <th>2</th>\n",
              "      <td>5</td>\n",
              "      <td>tachycardia</td>\n",
              "    </tr>\n",
              "    <tr>\n",
              "      <th>3</th>\n",
              "      <td>8</td>\n",
              "      <td>arthritis</td>\n",
              "    </tr>\n",
              "    <tr>\n",
              "      <th>4</th>\n",
              "      <td>8</td>\n",
              "      <td>arthritis</td>\n",
              "    </tr>\n",
              "  </tbody>\n",
              "</table>\n",
              "</div>"
            ],
            "text/plain": [
              "   0                       1\n",
              "0  1          Abdominal rash\n",
              "1  5  increase my heart rate\n",
              "2  5             tachycardia\n",
              "3  8               arthritis\n",
              "4  8               arthritis"
            ]
          },
          "metadata": {
            "tags": []
          },
          "execution_count": 12
        }
      ]
    },
    {
      "cell_type": "code",
      "metadata": {
        "id": "Vo-YNvVYoaH6",
        "outputId": "f6380ad9-6d27-4925-9f34-ad65bc92aa77",
        "colab": {
          "base_uri": "https://localhost:8080/",
          "height": 17
        }
      },
      "source": [
        "# Creating DataBunch for language modelling\n",
        "\n",
        "data_lm = TextLMDataBunch.from_csv(path, 'cadec_ask.csv')"
      ],
      "execution_count": 13,
      "outputs": [
        {
          "output_type": "display_data",
          "data": {
            "text/html": [
              ""
            ],
            "text/plain": [
              "<IPython.core.display.HTML object>"
            ]
          },
          "metadata": {
            "tags": []
          }
        },
        {
          "output_type": "display_data",
          "data": {
            "text/html": [
              ""
            ],
            "text/plain": [
              "<IPython.core.display.HTML object>"
            ]
          },
          "metadata": {
            "tags": []
          }
        }
      ]
    },
    {
      "cell_type": "code",
      "metadata": {
        "id": "qcV-9kMnNLBf"
      },
      "source": [
        ""
      ],
      "execution_count": 13,
      "outputs": []
    },
    {
      "cell_type": "code",
      "metadata": {
        "id": "1ScY9afDsnvE"
      },
      "source": [
        "# Creating DataBunch for classification\n",
        "\n",
        "# data_clas = TextClasDataBunch.from_df(path, train, valid, test, vocab=data_lm.train_ds.vocab, bs=128)"
      ],
      "execution_count": 14,
      "outputs": []
    },
    {
      "cell_type": "code",
      "metadata": {
        "id": "gzrSdQcvey9p",
        "outputId": "b70d28a1-38e6-4bda-e9c1-0aa47552012f",
        "colab": {
          "base_uri": "https://localhost:8080/",
          "height": 17
        }
      },
      "source": [
        "data_clas = TextClasDataBunch.from_df(path, train, valid, vocab=data_lm.train_ds.vocab, bs=128)"
      ],
      "execution_count": 15,
      "outputs": [
        {
          "output_type": "display_data",
          "data": {
            "text/html": [
              ""
            ],
            "text/plain": [
              "<IPython.core.display.HTML object>"
            ]
          },
          "metadata": {
            "tags": []
          }
        },
        {
          "output_type": "display_data",
          "data": {
            "text/html": [
              ""
            ],
            "text/plain": [
              "<IPython.core.display.HTML object>"
            ]
          },
          "metadata": {
            "tags": []
          }
        }
      ]
    },
    {
      "cell_type": "code",
      "metadata": {
        "id": "MD27Tf0Ke3ou",
        "outputId": "21742780-ba5b-40ea-dc21-cf515cb245e0",
        "colab": {
          "base_uri": "https://localhost:8080/",
          "height": 17
        }
      },
      "source": [
        "data_clas.add_test(test,label=0)\n"
      ],
      "execution_count": 16,
      "outputs": [
        {
          "output_type": "display_data",
          "data": {
            "text/html": [
              ""
            ],
            "text/plain": [
              "<IPython.core.display.HTML object>"
            ]
          },
          "metadata": {
            "tags": []
          }
        }
      ]
    },
    {
      "cell_type": "code",
      "metadata": {
        "id": "-dpjnk_rstwk"
      },
      "source": [
        "data_lm.save()\n",
        "data_clas.save()"
      ],
      "execution_count": 17,
      "outputs": []
    },
    {
      "cell_type": "code",
      "metadata": {
        "id": "4OkiJa36sw5s",
        "outputId": "fecfda0d-a9b8-43db-8ee5-9c7df3dc65c9",
        "colab": {
          "base_uri": "https://localhost:8080/"
        }
      },
      "source": [
        "data_lm.train_ds.vocab.itos"
      ],
      "execution_count": 18,
      "outputs": [
        {
          "output_type": "execute_result",
          "data": {
            "text/plain": [
              "['xxunk',\n",
              " 'xxpad',\n",
              " 'xxbos',\n",
              " 'xxeos',\n",
              " 'xxfld',\n",
              " 'xxmaj',\n",
              " 'xxup',\n",
              " 'xxrep',\n",
              " 'xxwrep',\n",
              " 'pain',\n",
              " 'lipitor',\n",
              " 'in',\n",
              " 'of',\n",
              " 'muscle',\n",
              " '.',\n",
              " 'and',\n",
              " 'to',\n",
              " ',',\n",
              " 'i',\n",
              " 'my',\n",
              " 'the',\n",
              " 'severe',\n",
              " 'myalgia',\n",
              " 'fatigue',\n",
              " 'lower',\n",
              " 'loss',\n",
              " '-',\n",
              " 'weakness',\n",
              " 'cramp',\n",
              " 'limb',\n",
              " 'back',\n",
              " 'stomach',\n",
              " 'a',\n",
              " 'depression',\n",
              " 'cramps',\n",
              " 'leg',\n",
              " 'gas',\n",
              " 'memory',\n",
              " 'joint',\n",
              " 'legs',\n",
              " 'upper',\n",
              " 'pains',\n",
              " 'it',\n",
              " 'headache',\n",
              " 'shoulder',\n",
              " 'unable',\n",
              " 'knee',\n",
              " '/',\n",
              " 'neck',\n",
              " 'on',\n",
              " 'was',\n",
              " 'not',\n",
              " 'arthralgia',\n",
              " 'foot',\n",
              " 'aches',\n",
              " 'excessive',\n",
              " 'for',\n",
              " 'hip',\n",
              " 'like',\n",
              " 'numbness',\n",
              " 'arthritis',\n",
              " 'all',\n",
              " 'gastrointestinal',\n",
              " 'have',\n",
              " 'insomnia',\n",
              " 'walk',\n",
              " 'feeling',\n",
              " 'problems',\n",
              " 'arthrotec',\n",
              " 'with',\n",
              " 'bleeding',\n",
              " 'cholesterol',\n",
              " 'heart',\n",
              " 'nausea',\n",
              " 'is',\n",
              " 'tired',\n",
              " 'asthenia',\n",
              " 'feet',\n",
              " 'abdominal',\n",
              " 'dizziness',\n",
              " 'walking',\n",
              " 'disease',\n",
              " 'very',\n",
              " 'this',\n",
              " 'extreme',\n",
              " 'muscles',\n",
              " 'difficulty',\n",
              " 'chest',\n",
              " 'swelling',\n",
              " 'hair',\n",
              " 'hand',\n",
              " 'vision',\n",
              " 'that',\n",
              " 'ache',\n",
              " 'could',\n",
              " 'zocor',\n",
              " 'had',\n",
              " 'sleep',\n",
              " 'stiffness',\n",
              " 'cramping',\n",
              " 'backache',\n",
              " 'burning',\n",
              " ')',\n",
              " \"n't\",\n",
              " 'increased',\n",
              " 'left',\n",
              " 'pins',\n",
              " 'needles',\n",
              " '(',\n",
              " 'calf',\n",
              " 'skin',\n",
              " 'liver',\n",
              " 'diarrhoea',\n",
              " 'up',\n",
              " 'amnesia',\n",
              " 'blood',\n",
              " 'but',\n",
              " 'tingling',\n",
              " 'weight',\n",
              " 'at',\n",
              " 'impairment',\n",
              " 'high',\n",
              " 'disability',\n",
              " 'anxiety',\n",
              " 'taking',\n",
              " 'so',\n",
              " 'me',\n",
              " 'short',\n",
              " 'symptom',\n",
              " 'lack',\n",
              " 'bloating',\n",
              " 'stiff',\n",
              " 'arms',\n",
              " 'arm',\n",
              " 'low',\n",
              " 'hands',\n",
              " 'headaches',\n",
              " 'side',\n",
              " 'constipation',\n",
              " 'term',\n",
              " \"'s\",\n",
              " 'after',\n",
              " 'sore',\n",
              " 'time',\n",
              " 'can',\n",
              " 'no',\n",
              " 'disorder',\n",
              " 'balance',\n",
              " 'blurred',\n",
              " 'poor',\n",
              " 'mg',\n",
              " 'tiredness',\n",
              " 'neuropathy',\n",
              " 'joints',\n",
              " 'or',\n",
              " 'body',\n",
              " 'voltaren',\n",
              " 'off',\n",
              " 'pressure',\n",
              " 'from',\n",
              " 'drug',\n",
              " 'ankle',\n",
              " 'pravachol',\n",
              " 'am',\n",
              " 'feel',\n",
              " 'hurt',\n",
              " 'bad',\n",
              " 'rash',\n",
              " 'vaginal',\n",
              " 'infarction',\n",
              " 'been',\n",
              " 'swollen',\n",
              " 'myocardial',\n",
              " '!',\n",
              " 'get',\n",
              " 'sensation',\n",
              " 'attack',\n",
              " 'as',\n",
              " 'vertigo',\n",
              " 'myositis',\n",
              " 'acid',\n",
              " 'has',\n",
              " 'energy',\n",
              " 'symptoms',\n",
              " 'shoulders',\n",
              " 'itching',\n",
              " 'right',\n",
              " 'atrophy',\n",
              " 'upset',\n",
              " 'mentally',\n",
              " 'effects',\n",
              " 'out',\n",
              " 'diarrhea',\n",
              " 'painful',\n",
              " 'are',\n",
              " 'over',\n",
              " 'generalised',\n",
              " 'dry',\n",
              " 'both',\n",
              " 'constant',\n",
              " 'diabetes',\n",
              " 'weak',\n",
              " 'gain',\n",
              " 'damage',\n",
              " 'ubidecarenone',\n",
              " 'illness',\n",
              " 'by',\n",
              " 'raised',\n",
              " 'years',\n",
              " 'day',\n",
              " 'be',\n",
              " 'influenza',\n",
              " 'reduced',\n",
              " 'crestor',\n",
              " 'started',\n",
              " 'elevated',\n",
              " 'sleeping',\n",
              " 'knees',\n",
              " 'problem',\n",
              " 'dull',\n",
              " 'spasm',\n",
              " 'hazy',\n",
              " 'about',\n",
              " 'take',\n",
              " 'tendonitis',\n",
              " 'elbow',\n",
              " 'visual',\n",
              " '3',\n",
              " 'spasms',\n",
              " 'now',\n",
              " 'do',\n",
              " 'when',\n",
              " 'felt',\n",
              " 'bed',\n",
              " 'exhaustion',\n",
              " 'heavy',\n",
              " 'toe',\n",
              " 'mood',\n",
              " 'syndrome',\n",
              " 'reflux',\n",
              " 'thigh',\n",
              " 'discomfort',\n",
              " 'irritable',\n",
              " 'flatulence',\n",
              " '2',\n",
              " 'fibromyalgia',\n",
              " 'libido',\n",
              " 'will',\n",
              " 'movement',\n",
              " 'myopathy',\n",
              " 'night',\n",
              " 'flu',\n",
              " 'concentrate',\n",
              " 'did',\n",
              " 'abnormal',\n",
              " 'kidney',\n",
              " 'sclerosis',\n",
              " 'throat',\n",
              " 'vomiting',\n",
              " 'just',\n",
              " 'doctor',\n",
              " 'months',\n",
              " 'down',\n",
              " 'more',\n",
              " 'one',\n",
              " 'hips',\n",
              " 'lightheadedness',\n",
              " 'serum',\n",
              " 'would',\n",
              " 'concentration',\n",
              " 'malaise',\n",
              " 'days',\n",
              " 'confusion',\n",
              " 'urine',\n",
              " 'if',\n",
              " 'mellitus',\n",
              " 'disturbance',\n",
              " 'soreness',\n",
              " 'tremor',\n",
              " 'head',\n",
              " 'cold',\n",
              " 'sweating',\n",
              " 'simvastatin',\n",
              " 'went',\n",
              " 'chronic',\n",
              " 'stairs',\n",
              " 'wind',\n",
              " 'appetite',\n",
              " 'toes',\n",
              " 'swings',\n",
              " 'aching',\n",
              " 'think',\n",
              " 'menstrual',\n",
              " 'ankles',\n",
              " 'calves',\n",
              " '10',\n",
              " 'eye',\n",
              " 'stopped',\n",
              " 'brain',\n",
              " 'some',\n",
              " 'celebrex',\n",
              " 'type',\n",
              " 'ezetimibe',\n",
              " 'paraesthesia',\n",
              " 'c',\n",
              " 'face',\n",
              " 'finger',\n",
              " 'only',\n",
              " 'mild',\n",
              " 'intense',\n",
              " 'tinnitus',\n",
              " 'also',\n",
              " 'esters',\n",
              " 'impaired',\n",
              " 'decreased',\n",
              " 'took',\n",
              " 'terrible',\n",
              " 'parkinson',\n",
              " 'cough',\n",
              " 'general',\n",
              " 'charleyhorse',\n",
              " 'weeks',\n",
              " 'peripheral',\n",
              " 'failure',\n",
              " 'excruciating',\n",
              " 'getting',\n",
              " 'then',\n",
              " 'ibuprofen',\n",
              " 'swallowing',\n",
              " '&',\n",
              " 'fingers',\n",
              " 'heel',\n",
              " 'any',\n",
              " 'motivation',\n",
              " 'renal',\n",
              " 'dyspnoea',\n",
              " 'stress',\n",
              " 'injury',\n",
              " 'were',\n",
              " 'dark',\n",
              " 'restless',\n",
              " 'level',\n",
              " 'hot',\n",
              " 'eyes',\n",
              " 'speech',\n",
              " '1',\n",
              " 'indigestion',\n",
              " 'tendon',\n",
              " 'acute',\n",
              " 'depressed',\n",
              " 'lupus',\n",
              " 'palpitations',\n",
              " 'an',\n",
              " 'you',\n",
              " 'always',\n",
              " 'ascorbic',\n",
              " 'still',\n",
              " 'ca',\n",
              " 'tightness',\n",
              " \"'m\",\n",
              " 'they',\n",
              " 'week',\n",
              " 'breathing',\n",
              " 'other',\n",
              " '20',\n",
              " 'strength',\n",
              " 'well',\n",
              " 'migraine',\n",
              " 'nerve',\n",
              " 'infection',\n",
              " 'lateral',\n",
              " 'menopause',\n",
              " 'he',\n",
              " 'vitamin',\n",
              " 'trouble',\n",
              " 'gout',\n",
              " 'than',\n",
              " 'before',\n",
              " 'exercise',\n",
              " 'never',\n",
              " 'oil',\n",
              " 'go',\n",
              " 'twitch',\n",
              " 'enzymes',\n",
              " 'every',\n",
              " 'sinus',\n",
              " '5',\n",
              " 'breath',\n",
              " 'heartburn',\n",
              " 'dreams',\n",
              " 'going',\n",
              " 'multiple',\n",
              " 'taste',\n",
              " 'again',\n",
              " 'twitching',\n",
              " ':',\n",
              " 'move',\n",
              " 'mouth',\n",
              " 'ago',\n",
              " 'even',\n",
              " 'fish',\n",
              " 'drowsy',\n",
              " 'which',\n",
              " 'limbs',\n",
              " 'advil',\n",
              " 'much',\n",
              " 'thighs',\n",
              " 'wrist',\n",
              " 'nasal',\n",
              " 'fog',\n",
              " 'function',\n",
              " 'amyotrophic',\n",
              " 'because',\n",
              " 'coq10',\n",
              " 'provoked',\n",
              " 'two',\n",
              " 'urinary',\n",
              " 'mobility',\n",
              " 'worse',\n",
              " '+',\n",
              " 'bowel',\n",
              " 'tight',\n",
              " 'hardly',\n",
              " 'clearly',\n",
              " \"'ve\",\n",
              " 'numb',\n",
              " 'medication',\n",
              " 'elbows',\n",
              " 'uterine',\n",
              " 'due',\n",
              " 'fenofibrate',\n",
              " 'tylenol',\n",
              " 'liptor',\n",
              " 'extremely',\n",
              " 'levels',\n",
              " 'ulcer',\n",
              " 'being',\n",
              " '40',\n",
              " 'almost',\n",
              " 'first',\n",
              " 'lost',\n",
              " 'horses',\n",
              " 'barely',\n",
              " 'aleve',\n",
              " 'better',\n",
              " '4',\n",
              " 'experienced',\n",
              " 'plantar',\n",
              " 'diclofenac',\n",
              " 'life',\n",
              " 'drive',\n",
              " 'fatigued',\n",
              " 'lethargy',\n",
              " 'rheumatoid',\n",
              " 'present',\n",
              " 'sharp',\n",
              " 'charley',\n",
              " 'fever',\n",
              " 'around',\n",
              " 'tricor',\n",
              " 'what',\n",
              " 'shortness',\n",
              " 'moody',\n",
              " 'loose',\n",
              " 'sick',\n",
              " 'zetia',\n",
              " 'month',\n",
              " 'extremity',\n",
              " 'having',\n",
              " 'mental',\n",
              " 'cerebrovascular',\n",
              " 'accident',\n",
              " 'slurred',\n",
              " 'ringing',\n",
              " 'panic',\n",
              " 'system',\n",
              " ';',\n",
              " 'these',\n",
              " 'horrible',\n",
              " 'dizzy',\n",
              " 'long',\n",
              " 'congestion',\n",
              " 'statins',\n",
              " 'who',\n",
              " 'major',\n",
              " 'natural',\n",
              " 'stamina',\n",
              " 'morning',\n",
              " '?',\n",
              " 'pulse',\n",
              " 'put',\n",
              " 'normal',\n",
              " 'light',\n",
              " 'thoughts',\n",
              " 'same',\n",
              " 'malignant',\n",
              " 'dr',\n",
              " 'cancer',\n",
              " 'tract',\n",
              " 'sweats',\n",
              " 'anything',\n",
              " 'irregular',\n",
              " 'oedema',\n",
              " 'sex',\n",
              " 'deep',\n",
              " 'lot',\n",
              " 'told',\n",
              " 'finding',\n",
              " 'facial',\n",
              " 'paracetamol',\n",
              " 'stop',\n",
              " 'als',\n",
              " 'inflammatory',\n",
              " 'there',\n",
              " 'ldl',\n",
              " 'your',\n",
              " 'since',\n",
              " 'work',\n",
              " 'should',\n",
              " 'eczema',\n",
              " 'attacks',\n",
              " 'neurontin',\n",
              " 'got',\n",
              " 'within',\n",
              " 'fasciitis',\n",
              " 'know',\n",
              " 'stand',\n",
              " 'little',\n",
              " 'hunger',\n",
              " 'became',\n",
              " 'year',\n",
              " 'rhabdomyolysis',\n",
              " 'achilles',\n",
              " 'statin',\n",
              " 'ability',\n",
              " 'pruritus',\n",
              " 'inability',\n",
              " 'colic',\n",
              " '6',\n",
              " 'frequent',\n",
              " 'hurts',\n",
              " 'norvasc',\n",
              " 'erythematosus',\n",
              " 'without',\n",
              " 'thought',\n",
              " 'times',\n",
              " 'hard',\n",
              " 'sugar',\n",
              " 'cpk',\n",
              " 'osteoarthritis',\n",
              " 'strain',\n",
              " 'prednisone',\n",
              " 'forgetful',\n",
              " 'things',\n",
              " 'creatinine',\n",
              " 'too',\n",
              " 'taken',\n",
              " 'last',\n",
              " 'few',\n",
              " 'away',\n",
              " 'area',\n",
              " 'reading',\n",
              " 'inflammation',\n",
              " 'foggy',\n",
              " 'began',\n",
              " 'hypertension',\n",
              " 'sensations',\n",
              " 'hypersomnia',\n",
              " 'nervous',\n",
              " 'lopid',\n",
              " 'stroke',\n",
              " 'flushing',\n",
              " 'menorrhagia',\n",
              " 'ear',\n",
              " 'see',\n",
              " 'permanent',\n",
              " 'eat',\n",
              " 'another',\n",
              " 'sense',\n",
              " 'make',\n",
              " 'abdomen',\n",
              " 'good',\n",
              " 'scalp',\n",
              " 'period',\n",
              " 'into',\n",
              " 'rapid',\n",
              " 'most',\n",
              " 'ms',\n",
              " 'dose',\n",
              " 'feels',\n",
              " 'drugs',\n",
              " 'weird',\n",
              " 'difficult',\n",
              " 'increase',\n",
              " 'aptyalism',\n",
              " 'looks',\n",
              " 'tachycardia',\n",
              " 'bp',\n",
              " 'palsy',\n",
              " 'thinking',\n",
              " 'omega-3-acid',\n",
              " 'ethyl',\n",
              " 'esters-90',\n",
              " 'delusional',\n",
              " 'lipex',\n",
              " 'atorvastatin',\n",
              " 'spasmodic',\n",
              " 'itchy',\n",
              " 'respiratory',\n",
              " 'stool',\n",
              " 'lift',\n",
              " 'tension',\n",
              " 'change',\n",
              " 'nightmares',\n",
              " 'does',\n",
              " 'periods',\n",
              " 'bell',\n",
              " 'find',\n",
              " 'while',\n",
              " 'dysfunction',\n",
              " 'asthma',\n",
              " 'falling',\n",
              " 'climb',\n",
              " 'zoloft',\n",
              " 'sexual',\n",
              " 'people',\n",
              " 'sight',\n",
              " 'said',\n",
              " 'use',\n",
              " 'gait',\n",
              " 'triglycerides',\n",
              " 'codeine',\n",
              " 'inflamation',\n",
              " 'tablet',\n",
              " 'bursitis',\n",
              " 'co',\n",
              " 'bruising',\n",
              " 'generally',\n",
              " 'unwell',\n",
              " 'overall',\n",
              " 'region',\n",
              " 'something',\n",
              " 'gastric',\n",
              " 'bone',\n",
              " 'sudden',\n",
              " 'muscular',\n",
              " 'gone',\n",
              " 'nt',\n",
              " 'many',\n",
              " 'ears',\n",
              " 'cause',\n",
              " 'venous',\n",
              " 'limping',\n",
              " 'tolerance',\n",
              " 'ever',\n",
              " 'omega',\n",
              " 'help',\n",
              " 'slight',\n",
              " 'everything',\n",
              " 'several',\n",
              " 'retention',\n",
              " 'diabetic',\n",
              " 'sever',\n",
              " 'red',\n",
              " 'cortisone',\n",
              " 'three',\n",
              " 'self',\n",
              " 'stabbing',\n",
              " 'able',\n",
              " 'fast',\n",
              " 'try',\n",
              " 'q10',\n",
              " 'ached',\n",
              " 'really',\n",
              " 'blurry',\n",
              " 'haematuria',\n",
              " 'until',\n",
              " 'edema',\n",
              " 'especially',\n",
              " 'diet',\n",
              " 'paralysis',\n",
              " 'hungry',\n",
              " 'spotting',\n",
              " 'aphasia',\n",
              " 'tests',\n",
              " 'reaction',\n",
              " 'forearm',\n",
              " 'coronary',\n",
              " 'during',\n",
              " 'rupture',\n",
              " 'bloated',\n",
              " 'developed',\n",
              " 'rigidity',\n",
              " 'empty',\n",
              " 'between',\n",
              " 'diovan',\n",
              " 'effect',\n",
              " 'changes',\n",
              " 'heaviness',\n",
              " 'bladder',\n",
              " 'menopausal',\n",
              " 'unbearable',\n",
              " 'sides',\n",
              " 'paranoia',\n",
              " 'found',\n",
              " 'where',\n",
              " 'carpal',\n",
              " 'tunnel',\n",
              " 'sun',\n",
              " 'erythema',\n",
              " 'lowered',\n",
              " 'food',\n",
              " 'suicidal',\n",
              " 'anger',\n",
              " 'big',\n",
              " 'degenerative',\n",
              " 'test',\n",
              " 'she',\n",
              " 'issues',\n",
              " 'fine',\n",
              " 'though',\n",
              " 'his',\n",
              " 'prescribed',\n",
              " 'disc',\n",
              " 'caused',\n",
              " 'through',\n",
              " 'standing',\n",
              " 'breast',\n",
              " 'rectal',\n",
              " 'site',\n",
              " 'crying',\n",
              " '%',\n",
              " 'syncope',\n",
              " 'menstruation',\n",
              " 'muscels',\n",
              " 'chill',\n",
              " 'coated',\n",
              " 'agitated',\n",
              " 'however',\n",
              " 'colitis',\n",
              " 'cycle',\n",
              " 'irritability',\n",
              " 'sciatica',\n",
              " 'twitches',\n",
              " 'similar',\n",
              " 'limp',\n",
              " 'slightly',\n",
              " 'noticed',\n",
              " 'quit',\n",
              " 'how',\n",
              " 'neuralgia',\n",
              " 'endometriosis',\n",
              " 'random',\n",
              " 'starting',\n",
              " 'decrease',\n",
              " 'once',\n",
              " 'read',\n",
              " 'old',\n",
              " 'spine',\n",
              " 'stopping',\n",
              " 'hurting',\n",
              " 'infections',\n",
              " 'eyesight',\n",
              " 'testosterone',\n",
              " 'tongue',\n",
              " 'muscel',\n",
              " 'arthritic',\n",
              " 'great',\n",
              " 'tender',\n",
              " 'constantly',\n",
              " 'physical',\n",
              " 'pill',\n",
              " 'moodiness',\n",
              " 'myself',\n",
              " '--',\n",
              " 'less',\n",
              " '50',\n",
              " 'bronchitis',\n",
              " 'allergic',\n",
              " 'circulation',\n",
              " 'dehydration',\n",
              " '8',\n",
              " 'drowsiness',\n",
              " 'choking',\n",
              " 'sweat',\n",
              " 'want',\n",
              " 'hours',\n",
              " 'them',\n",
              " 'remember',\n",
              " 'doctors',\n",
              " 'personality',\n",
              " 'came',\n",
              " '-pelvis',\n",
              " 'misoprostol',\n",
              " 'fatique',\n",
              " 'film',\n",
              " 'stools',\n",
              " 'made',\n",
              " 'interest',\n",
              " 'chair',\n",
              " 'uterus',\n",
              " 'experiencing',\n",
              " 'sure',\n",
              " 'desire',\n",
              " 'way',\n",
              " 'rashes',\n",
              " 'done',\n",
              " 'lipidil',\n",
              " 'condition',\n",
              " 'mobic',\n",
              " 'ribs',\n",
              " 'medicine',\n",
              " 'drink',\n",
              " 'haemorrhage',\n",
              " 'run',\n",
              " 'wrists',\n",
              " 'tried',\n",
              " 'intolerance',\n",
              " 'eructation',\n",
              " 'transient',\n",
              " 'lexapro',\n",
              " \"'\",\n",
              " 'ani',\n",
              " 'steatosis',\n",
              " 'related',\n",
              " 'rate',\n",
              " 'control',\n",
              " 'musculoskeletal',\n",
              " 'total',\n",
              " 'hdl',\n",
              " 'immediately',\n",
              " 'above',\n",
              " 'minutes',\n",
              " 'morphine',\n",
              " 'pancreatitis',\n",
              " 'may',\n",
              " 'disorientated',\n",
              " 'their',\n",
              " 'headed',\n",
              " 'enough',\n",
              " 'tingly',\n",
              " 'intervertebral',\n",
              " 'far',\n",
              " 'recommend',\n",
              " 'alzheimer',\n",
              " 'cataflam',\n",
              " 'forearms',\n",
              " 'thoracic',\n",
              " 'causing',\n",
              " 'touch',\n",
              " 'fear',\n",
              " 'words',\n",
              " 'chills',\n",
              " 'debilitating',\n",
              " 'yellow',\n",
              " 'next',\n",
              " 'serious',\n",
              " 'hepatic',\n",
              " 'agony',\n",
              " 'recently',\n",
              " 'fatty',\n",
              " 'potassium',\n",
              " 'clumsiness',\n",
              " 'daily',\n",
              " 'persistent',\n",
              " 'gastritis',\n",
              " 'waking',\n",
              " 'sensitivity',\n",
              " 'extremities',\n",
              " 'alpha',\n",
              " 'below',\n",
              " 'aspirin',\n",
              " 'b',\n",
              " 'dysphonia',\n",
              " 'achy',\n",
              " 'e',\n",
              " 'hoarse',\n",
              " 'wanted',\n",
              " 'unhappy',\n",
              " 'later',\n",
              " 'lumbar',\n",
              " 'wasting',\n",
              " 'neoplastic',\n",
              " 'sleeplessness',\n",
              " 'tocopherol',\n",
              " 'her',\n",
              " 'digestive',\n",
              " 'tremors',\n",
              " 'moderate',\n",
              " 'rhinitis',\n",
              " 'changed',\n",
              " 'irritation',\n",
              " 'rib',\n",
              " 'water',\n",
              " 'central',\n",
              " 'jaundice',\n",
              " 'dizzyness',\n",
              " 'occasional',\n",
              " 'slow',\n",
              " 'forgetfulness',\n",
              " 'we',\n",
              " 'sleepy',\n",
              " 'dropped',\n",
              " 'anyone',\n",
              " 'mass',\n",
              " 'contusion',\n",
              " 'vague',\n",
              " 'need',\n",
              " 'creatine',\n",
              " 'tenalgia',\n",
              " '75',\n",
              " 'altered',\n",
              " 'hope',\n",
              " 'lowering',\n",
              " 'glucosamine',\n",
              " 'relief',\n",
              " 'doing',\n",
              " 'beat',\n",
              " 'cognition',\n",
              " 'difficulties',\n",
              " 'neoplasm',\n",
              " 'him',\n",
              " 'results',\n",
              " 'bizarre',\n",
              " 'dementia',\n",
              " 'blisters',\n",
              " 'concentrating',\n",
              " 'haematochezia',\n",
              " 'instead',\n",
              " 'whole',\n",
              " 'urinate',\n",
              " 'throughout',\n",
              " 'limitation',\n",
              " 'pravastatin',\n",
              " 'motor',\n",
              " 'affected',\n",
              " 'unsteady',\n",
              " 'finally',\n",
              " 'fuzzy',\n",
              " 'cognitive',\n",
              " 'unexplained',\n",
              " 'experience',\n",
              " 'tenderness',\n",
              " 'say',\n",
              " 'lose',\n",
              " 'nothing',\n",
              " 'worth',\n",
              " 'hyperactive',\n",
              " '7',\n",
              " 'seems',\n",
              " 'vit',\n",
              " 'non',\n",
              " 'works',\n",
              " 'colon',\n",
              " 'headedness',\n",
              " 'top',\n",
              " 'adhesive',\n",
              " 'capsulitis',\n",
              " 'although',\n",
              " 'sit',\n",
              " 'each',\n",
              " 'overweight',\n",
              " 'entire',\n",
              " 'traumatic',\n",
              " 'come',\n",
              " 'initial',\n",
              " 'range',\n",
              " 'moving',\n",
              " 'white',\n",
              " 'website',\n",
              " 'losing',\n",
              " 'keep',\n",
              " 'blades',\n",
              " 'burn',\n",
              " 'surgery',\n",
              " 'alopecia',\n",
              " 'movements',\n",
              " 'breasts',\n",
              " 'cardiac',\n",
              " 'blister',\n",
              " 'past',\n",
              " 'significant',\n",
              " 'meds',\n",
              " 'trying',\n",
              " 'throbbing',\n",
              " 'others',\n",
              " 'its',\n",
              " 'reason',\n",
              " 'dosage',\n",
              " '30',\n",
              " 'lead',\n",
              " 'none',\n",
              " 'tore',\n",
              " 'spells',\n",
              " 'buzzing',\n",
              " 'shaking',\n",
              " 'hypertonia',\n",
              " 'doc',\n",
              " 'easily',\n",
              " 'believe',\n",
              " ...]"
            ]
          },
          "metadata": {
            "tags": []
          },
          "execution_count": 18
        }
      ]
    },
    {
      "cell_type": "code",
      "metadata": {
        "id": "yPWr03mls3VT",
        "outputId": "8bc11403-dfb3-46ec-942b-c79c743bc387",
        "colab": {
          "base_uri": "https://localhost:8080/",
          "height": 17
        }
      },
      "source": [
        "model_path = path/'models'\n",
        "model_path.mkdir(exist_ok=True)\n",
        "url = 'http://files.fast.ai/models/wt103_v1/'\n",
        "download_url(f'{url}lstm_wt103.pth', model_path/'lstm_wt103.pth')\n",
        "download_url(f'{url}itos_wt103.pkl', model_path/'itos_wt103.pkl')"
      ],
      "execution_count": 19,
      "outputs": [
        {
          "output_type": "display_data",
          "data": {
            "text/html": [
              ""
            ],
            "text/plain": [
              "<IPython.core.display.HTML object>"
            ]
          },
          "metadata": {
            "tags": []
          }
        },
        {
          "output_type": "display_data",
          "data": {
            "text/html": [
              ""
            ],
            "text/plain": [
              "<IPython.core.display.HTML object>"
            ]
          },
          "metadata": {
            "tags": []
          }
        }
      ]
    },
    {
      "cell_type": "code",
      "metadata": {
        "id": "JRzvWg8RtGGr",
        "outputId": "3edcdc9b-b2e2-49fc-aa6f-3d22da174048",
        "colab": {
          "base_uri": "https://localhost:8080/",
          "height": 34
        }
      },
      "source": [
        "learn = language_model_learner(data_lm, AWD_LSTM, drop_mult=0.5)"
      ],
      "execution_count": 20,
      "outputs": [
        {
          "output_type": "stream",
          "text": [
            "Downloading https://s3.amazonaws.com/fast-ai-modelzoo/wt103-fwd.tgz\n"
          ],
          "name": "stdout"
        },
        {
          "output_type": "display_data",
          "data": {
            "text/html": [
              ""
            ],
            "text/plain": [
              "<IPython.core.display.HTML object>"
            ]
          },
          "metadata": {
            "tags": []
          }
        }
      ]
    },
    {
      "cell_type": "code",
      "metadata": {
        "id": "xKK7GeBev7Xn",
        "outputId": "b6e9462a-18fd-4765-906f-28463e848744",
        "colab": {
          "base_uri": "https://localhost:8080/",
          "height": 80
        }
      },
      "source": [
        "learn.fit_one_cycle(1, 1e-2)"
      ],
      "execution_count": 21,
      "outputs": [
        {
          "output_type": "display_data",
          "data": {
            "text/html": [
              "<table border=\"1\" class=\"dataframe\">\n",
              "  <thead>\n",
              "    <tr style=\"text-align: left;\">\n",
              "      <th>epoch</th>\n",
              "      <th>train_loss</th>\n",
              "      <th>valid_loss</th>\n",
              "      <th>accuracy</th>\n",
              "      <th>time</th>\n",
              "    </tr>\n",
              "  </thead>\n",
              "  <tbody>\n",
              "    <tr>\n",
              "      <td>0</td>\n",
              "      <td>3.169991</td>\n",
              "      <td>2.698967</td>\n",
              "      <td>0.544947</td>\n",
              "      <td>16:47</td>\n",
              "    </tr>\n",
              "  </tbody>\n",
              "</table>"
            ],
            "text/plain": [
              "<IPython.core.display.HTML object>"
            ]
          },
          "metadata": {
            "tags": []
          }
        }
      ]
    },
    {
      "cell_type": "code",
      "metadata": {
        "id": "iB7rHGQCwd12"
      },
      "source": [
        "# learn.fit_one_cycle(1, 1e-2)"
      ],
      "execution_count": 22,
      "outputs": []
    },
    {
      "cell_type": "code",
      "metadata": {
        "id": "_BnSuAeCwkBe"
      },
      "source": [
        "# learn.fit_one_cycle(1, 1e-3)"
      ],
      "execution_count": 23,
      "outputs": []
    },
    {
      "cell_type": "code",
      "metadata": {
        "id": "MuTm-RFjwrEX",
        "outputId": "e07ce079-9804-4ba6-b9ab-dfd531b27a6b",
        "colab": {
          "base_uri": "https://localhost:8080/",
          "height": 80
        }
      },
      "source": [
        "learn.fit_one_cycle(1, 1e-3)"
      ],
      "execution_count": 24,
      "outputs": [
        {
          "output_type": "display_data",
          "data": {
            "text/html": [
              "<table border=\"1\" class=\"dataframe\">\n",
              "  <thead>\n",
              "    <tr style=\"text-align: left;\">\n",
              "      <th>epoch</th>\n",
              "      <th>train_loss</th>\n",
              "      <th>valid_loss</th>\n",
              "      <th>accuracy</th>\n",
              "      <th>time</th>\n",
              "    </tr>\n",
              "  </thead>\n",
              "  <tbody>\n",
              "    <tr>\n",
              "      <td>0</td>\n",
              "      <td>2.795560</td>\n",
              "      <td>2.653528</td>\n",
              "      <td>0.550277</td>\n",
              "      <td>16:44</td>\n",
              "    </tr>\n",
              "  </tbody>\n",
              "</table>"
            ],
            "text/plain": [
              "<IPython.core.display.HTML object>"
            ]
          },
          "metadata": {
            "tags": []
          }
        }
      ]
    },
    {
      "cell_type": "code",
      "metadata": {
        "id": "1Er2ExO8wr7Y"
      },
      "source": [
        "learn.save_encoder('cadec_ask_fold8_first')"
      ],
      "execution_count": 25,
      "outputs": []
    },
    {
      "cell_type": "code",
      "metadata": {
        "id": "z52cZs2qwvad",
        "outputId": "c2bb1ab4-5a3f-486d-f122-f385a424c6aa",
        "colab": {
          "base_uri": "https://localhost:8080/",
          "height": 80
        }
      },
      "source": [
        "learn = text_classifier_learner(data_clas,AWD_LSTM, drop_mult=0.5)\n",
        "learn.load_encoder('cadec_ask_fold8_first')\n",
        "learn.fit_one_cycle(1, 1e-2)"
      ],
      "execution_count": 26,
      "outputs": [
        {
          "output_type": "display_data",
          "data": {
            "text/html": [
              "<table border=\"1\" class=\"dataframe\">\n",
              "  <thead>\n",
              "    <tr style=\"text-align: left;\">\n",
              "      <th>epoch</th>\n",
              "      <th>train_loss</th>\n",
              "      <th>valid_loss</th>\n",
              "      <th>accuracy</th>\n",
              "      <th>time</th>\n",
              "    </tr>\n",
              "  </thead>\n",
              "  <tbody>\n",
              "    <tr>\n",
              "      <td>0</td>\n",
              "      <td>4.042326</td>\n",
              "      <td>3.724623</td>\n",
              "      <td>0.346486</td>\n",
              "      <td>01:05</td>\n",
              "    </tr>\n",
              "  </tbody>\n",
              "</table>"
            ],
            "text/plain": [
              "<IPython.core.display.HTML object>"
            ]
          },
          "metadata": {
            "tags": []
          }
        }
      ]
    },
    {
      "cell_type": "code",
      "metadata": {
        "id": "ImwQP1PJwzxd",
        "outputId": "322f2b2c-3878-44f6-8509-2db9e4b14199",
        "colab": {
          "base_uri": "https://localhost:8080/",
          "height": 80
        }
      },
      "source": [
        "learn.freeze_to(-2)\n",
        "learn.fit_one_cycle(1, slice(5e-3/2., 5e-3))"
      ],
      "execution_count": 27,
      "outputs": [
        {
          "output_type": "display_data",
          "data": {
            "text/html": [
              "<table border=\"1\" class=\"dataframe\">\n",
              "  <thead>\n",
              "    <tr style=\"text-align: left;\">\n",
              "      <th>epoch</th>\n",
              "      <th>train_loss</th>\n",
              "      <th>valid_loss</th>\n",
              "      <th>accuracy</th>\n",
              "      <th>time</th>\n",
              "    </tr>\n",
              "  </thead>\n",
              "  <tbody>\n",
              "    <tr>\n",
              "      <td>0</td>\n",
              "      <td>3.036863</td>\n",
              "      <td>3.111002</td>\n",
              "      <td>0.471023</td>\n",
              "      <td>01:13</td>\n",
              "    </tr>\n",
              "  </tbody>\n",
              "</table>"
            ],
            "text/plain": [
              "<IPython.core.display.HTML object>"
            ]
          },
          "metadata": {
            "tags": []
          }
        }
      ]
    },
    {
      "cell_type": "code",
      "metadata": {
        "id": "Owff_BJXw53u",
        "outputId": "1908c69d-ce43-4d10-eca4-d8eb284431a1",
        "colab": {
          "base_uri": "https://localhost:8080/",
          "height": 80
        }
      },
      "source": [
        "learn.unfreeze()\n",
        "learn.fit_one_cycle(1, slice(2e-3/100, 2e-3))"
      ],
      "execution_count": 28,
      "outputs": [
        {
          "output_type": "display_data",
          "data": {
            "text/html": [
              "<table border=\"1\" class=\"dataframe\">\n",
              "  <thead>\n",
              "    <tr style=\"text-align: left;\">\n",
              "      <th>epoch</th>\n",
              "      <th>train_loss</th>\n",
              "      <th>valid_loss</th>\n",
              "      <th>accuracy</th>\n",
              "      <th>time</th>\n",
              "    </tr>\n",
              "  </thead>\n",
              "  <tbody>\n",
              "    <tr>\n",
              "      <td>0</td>\n",
              "      <td>2.332537</td>\n",
              "      <td>2.716489</td>\n",
              "      <td>0.521578</td>\n",
              "      <td>02:57</td>\n",
              "    </tr>\n",
              "  </tbody>\n",
              "</table>"
            ],
            "text/plain": [
              "<IPython.core.display.HTML object>"
            ]
          },
          "metadata": {
            "tags": []
          }
        }
      ]
    },
    {
      "cell_type": "code",
      "metadata": {
        "id": "lqAyu56V8Waq",
        "outputId": "1fab85c8-af25-4a57-cbab-a222aa4d58fa",
        "colab": {
          "base_uri": "https://localhost:8080/",
          "height": 111
        }
      },
      "source": [
        "learn.fit_one_cycle(2, slice(2e-3/100, 2e-3))"
      ],
      "execution_count": 29,
      "outputs": [
        {
          "output_type": "display_data",
          "data": {
            "text/html": [
              "<table border=\"1\" class=\"dataframe\">\n",
              "  <thead>\n",
              "    <tr style=\"text-align: left;\">\n",
              "      <th>epoch</th>\n",
              "      <th>train_loss</th>\n",
              "      <th>valid_loss</th>\n",
              "      <th>accuracy</th>\n",
              "      <th>time</th>\n",
              "    </tr>\n",
              "  </thead>\n",
              "  <tbody>\n",
              "    <tr>\n",
              "      <td>0</td>\n",
              "      <td>1.977715</td>\n",
              "      <td>2.326782</td>\n",
              "      <td>0.580764</td>\n",
              "      <td>02:54</td>\n",
              "    </tr>\n",
              "    <tr>\n",
              "      <td>1</td>\n",
              "      <td>1.738698</td>\n",
              "      <td>2.143249</td>\n",
              "      <td>0.611591</td>\n",
              "      <td>02:57</td>\n",
              "    </tr>\n",
              "  </tbody>\n",
              "</table>"
            ],
            "text/plain": [
              "<IPython.core.display.HTML object>"
            ]
          },
          "metadata": {
            "tags": []
          }
        }
      ]
    },
    {
      "cell_type": "code",
      "metadata": {
        "id": "a7I1xMRp8bUd",
        "outputId": "0899746a-8d2a-4f45-dcdc-8474d17ddd25",
        "colab": {
          "base_uri": "https://localhost:8080/",
          "height": 111
        }
      },
      "source": [
        "learn.fit_one_cycle(2, slice(2e-3/100, 2e-3))"
      ],
      "execution_count": 30,
      "outputs": [
        {
          "output_type": "display_data",
          "data": {
            "text/html": [
              "<table border=\"1\" class=\"dataframe\">\n",
              "  <thead>\n",
              "    <tr style=\"text-align: left;\">\n",
              "      <th>epoch</th>\n",
              "      <th>train_loss</th>\n",
              "      <th>valid_loss</th>\n",
              "      <th>accuracy</th>\n",
              "      <th>time</th>\n",
              "    </tr>\n",
              "  </thead>\n",
              "  <tbody>\n",
              "    <tr>\n",
              "      <td>0</td>\n",
              "      <td>1.603695</td>\n",
              "      <td>1.948933</td>\n",
              "      <td>0.646116</td>\n",
              "      <td>03:07</td>\n",
              "    </tr>\n",
              "    <tr>\n",
              "      <td>1</td>\n",
              "      <td>1.379614</td>\n",
              "      <td>1.802074</td>\n",
              "      <td>0.672010</td>\n",
              "      <td>03:00</td>\n",
              "    </tr>\n",
              "  </tbody>\n",
              "</table>"
            ],
            "text/plain": [
              "<IPython.core.display.HTML object>"
            ]
          },
          "metadata": {
            "tags": []
          }
        }
      ]
    },
    {
      "cell_type": "code",
      "metadata": {
        "id": "UAnti-XmGVfO",
        "outputId": "832a9dad-65d6-4ab7-ec74-c6315684ef49",
        "colab": {
          "base_uri": "https://localhost:8080/",
          "height": 111
        }
      },
      "source": [
        "learn.fit_one_cycle(2, slice(2e-3/100, 2e-3))"
      ],
      "execution_count": 31,
      "outputs": [
        {
          "output_type": "display_data",
          "data": {
            "text/html": [
              "<table border=\"1\" class=\"dataframe\">\n",
              "  <thead>\n",
              "    <tr style=\"text-align: left;\">\n",
              "      <th>epoch</th>\n",
              "      <th>train_loss</th>\n",
              "      <th>valid_loss</th>\n",
              "      <th>accuracy</th>\n",
              "      <th>time</th>\n",
              "    </tr>\n",
              "  </thead>\n",
              "  <tbody>\n",
              "    <tr>\n",
              "      <td>0</td>\n",
              "      <td>1.214452</td>\n",
              "      <td>1.701788</td>\n",
              "      <td>0.700370</td>\n",
              "      <td>02:47</td>\n",
              "    </tr>\n",
              "    <tr>\n",
              "      <td>1</td>\n",
              "      <td>1.123701</td>\n",
              "      <td>1.578679</td>\n",
              "      <td>0.718866</td>\n",
              "      <td>03:26</td>\n",
              "    </tr>\n",
              "  </tbody>\n",
              "</table>"
            ],
            "text/plain": [
              "<IPython.core.display.HTML object>"
            ]
          },
          "metadata": {
            "tags": []
          }
        }
      ]
    },
    {
      "cell_type": "code",
      "metadata": {
        "id": "bIft7W25GwSu",
        "outputId": "95c6c32d-99f4-489f-cada-cd188f012320",
        "colab": {
          "base_uri": "https://localhost:8080/",
          "height": 111
        }
      },
      "source": [
        "learn.fit_one_cycle(2, slice(2e-3/100, 2e-3))"
      ],
      "execution_count": 32,
      "outputs": [
        {
          "output_type": "display_data",
          "data": {
            "text/html": [
              "<table border=\"1\" class=\"dataframe\">\n",
              "  <thead>\n",
              "    <tr style=\"text-align: left;\">\n",
              "      <th>epoch</th>\n",
              "      <th>train_loss</th>\n",
              "      <th>valid_loss</th>\n",
              "      <th>accuracy</th>\n",
              "      <th>time</th>\n",
              "    </tr>\n",
              "  </thead>\n",
              "  <tbody>\n",
              "    <tr>\n",
              "      <td>0</td>\n",
              "      <td>1.070616</td>\n",
              "      <td>1.472449</td>\n",
              "      <td>0.727497</td>\n",
              "      <td>03:14</td>\n",
              "    </tr>\n",
              "    <tr>\n",
              "      <td>1</td>\n",
              "      <td>0.899096</td>\n",
              "      <td>1.423929</td>\n",
              "      <td>0.738594</td>\n",
              "      <td>03:01</td>\n",
              "    </tr>\n",
              "  </tbody>\n",
              "</table>"
            ],
            "text/plain": [
              "<IPython.core.display.HTML object>"
            ]
          },
          "metadata": {
            "tags": []
          }
        }
      ]
    },
    {
      "cell_type": "code",
      "metadata": {
        "id": "EEHszVRvGyFt",
        "outputId": "14b15f37-862f-48b3-edd5-6790909d10aa",
        "colab": {
          "base_uri": "https://localhost:8080/",
          "height": 111
        }
      },
      "source": [
        "learn.fit_one_cycle(2, slice(2e-3/100, 2e-3))"
      ],
      "execution_count": 33,
      "outputs": [
        {
          "output_type": "display_data",
          "data": {
            "text/html": [
              "<table border=\"1\" class=\"dataframe\">\n",
              "  <thead>\n",
              "    <tr style=\"text-align: left;\">\n",
              "      <th>epoch</th>\n",
              "      <th>train_loss</th>\n",
              "      <th>valid_loss</th>\n",
              "      <th>accuracy</th>\n",
              "      <th>time</th>\n",
              "    </tr>\n",
              "  </thead>\n",
              "  <tbody>\n",
              "    <tr>\n",
              "      <td>0</td>\n",
              "      <td>0.859693</td>\n",
              "      <td>1.477961</td>\n",
              "      <td>0.736128</td>\n",
              "      <td>03:03</td>\n",
              "    </tr>\n",
              "    <tr>\n",
              "      <td>1</td>\n",
              "      <td>0.845462</td>\n",
              "      <td>1.351814</td>\n",
              "      <td>0.743527</td>\n",
              "      <td>02:59</td>\n",
              "    </tr>\n",
              "  </tbody>\n",
              "</table>"
            ],
            "text/plain": [
              "<IPython.core.display.HTML object>"
            ]
          },
          "metadata": {
            "tags": []
          }
        }
      ]
    },
    {
      "cell_type": "code",
      "metadata": {
        "id": "XsHfrhCHG3dN",
        "outputId": "b2868459-4963-4b90-e389-d3e8d901552e",
        "colab": {
          "base_uri": "https://localhost:8080/",
          "height": 173
        }
      },
      "source": [
        "learn.fit_one_cycle(4, slice(2e-3/100, 2e-3))"
      ],
      "execution_count": 34,
      "outputs": [
        {
          "output_type": "display_data",
          "data": {
            "text/html": [
              "<table border=\"1\" class=\"dataframe\">\n",
              "  <thead>\n",
              "    <tr style=\"text-align: left;\">\n",
              "      <th>epoch</th>\n",
              "      <th>train_loss</th>\n",
              "      <th>valid_loss</th>\n",
              "      <th>accuracy</th>\n",
              "      <th>time</th>\n",
              "    </tr>\n",
              "  </thead>\n",
              "  <tbody>\n",
              "    <tr>\n",
              "      <td>0</td>\n",
              "      <td>0.741146</td>\n",
              "      <td>1.349088</td>\n",
              "      <td>0.744760</td>\n",
              "      <td>03:03</td>\n",
              "    </tr>\n",
              "    <tr>\n",
              "      <td>1</td>\n",
              "      <td>0.697228</td>\n",
              "      <td>1.260787</td>\n",
              "      <td>0.758323</td>\n",
              "      <td>02:50</td>\n",
              "    </tr>\n",
              "    <tr>\n",
              "      <td>2</td>\n",
              "      <td>0.597341</td>\n",
              "      <td>1.231930</td>\n",
              "      <td>0.770653</td>\n",
              "      <td>03:03</td>\n",
              "    </tr>\n",
              "    <tr>\n",
              "      <td>3</td>\n",
              "      <td>0.517141</td>\n",
              "      <td>1.213915</td>\n",
              "      <td>0.771887</td>\n",
              "      <td>02:58</td>\n",
              "    </tr>\n",
              "  </tbody>\n",
              "</table>"
            ],
            "text/plain": [
              "<IPython.core.display.HTML object>"
            ]
          },
          "metadata": {
            "tags": []
          }
        }
      ]
    },
    {
      "cell_type": "code",
      "metadata": {
        "id": "0Zsd99isb9EQ",
        "outputId": "f3fd2026-8b57-40ce-e7ef-8c57a2d1e8b9",
        "colab": {
          "base_uri": "https://localhost:8080/",
          "height": 173
        }
      },
      "source": [
        "learn.fit_one_cycle(4, slice(2e-3/100, 2e-3))"
      ],
      "execution_count": 35,
      "outputs": [
        {
          "output_type": "display_data",
          "data": {
            "text/html": [
              "<table border=\"1\" class=\"dataframe\">\n",
              "  <thead>\n",
              "    <tr style=\"text-align: left;\">\n",
              "      <th>epoch</th>\n",
              "      <th>train_loss</th>\n",
              "      <th>valid_loss</th>\n",
              "      <th>accuracy</th>\n",
              "      <th>time</th>\n",
              "    </tr>\n",
              "  </thead>\n",
              "  <tbody>\n",
              "    <tr>\n",
              "      <td>0</td>\n",
              "      <td>0.514984</td>\n",
              "      <td>1.242926</td>\n",
              "      <td>0.774353</td>\n",
              "      <td>03:02</td>\n",
              "    </tr>\n",
              "    <tr>\n",
              "      <td>1</td>\n",
              "      <td>0.531274</td>\n",
              "      <td>1.245248</td>\n",
              "      <td>0.780518</td>\n",
              "      <td>03:02</td>\n",
              "    </tr>\n",
              "    <tr>\n",
              "      <td>2</td>\n",
              "      <td>0.471515</td>\n",
              "      <td>1.152188</td>\n",
              "      <td>0.796547</td>\n",
              "      <td>03:02</td>\n",
              "    </tr>\n",
              "    <tr>\n",
              "      <td>3</td>\n",
              "      <td>0.409890</td>\n",
              "      <td>1.166692</td>\n",
              "      <td>0.807645</td>\n",
              "      <td>02:52</td>\n",
              "    </tr>\n",
              "  </tbody>\n",
              "</table>"
            ],
            "text/plain": [
              "<IPython.core.display.HTML object>"
            ]
          },
          "metadata": {
            "tags": []
          }
        }
      ]
    },
    {
      "cell_type": "code",
      "metadata": {
        "id": "atNWNKDFPbuI",
        "outputId": "97932694-1330-4b3a-d88a-8afc3440a416",
        "colab": {
          "base_uri": "https://localhost:8080/",
          "height": 173
        }
      },
      "source": [
        "learn.fit_one_cycle(4, slice(2e-3/100, 2e-3))"
      ],
      "execution_count": 36,
      "outputs": [
        {
          "output_type": "display_data",
          "data": {
            "text/html": [
              "<table border=\"1\" class=\"dataframe\">\n",
              "  <thead>\n",
              "    <tr style=\"text-align: left;\">\n",
              "      <th>epoch</th>\n",
              "      <th>train_loss</th>\n",
              "      <th>valid_loss</th>\n",
              "      <th>accuracy</th>\n",
              "      <th>time</th>\n",
              "    </tr>\n",
              "  </thead>\n",
              "  <tbody>\n",
              "    <tr>\n",
              "      <td>0</td>\n",
              "      <td>0.403959</td>\n",
              "      <td>1.159731</td>\n",
              "      <td>0.802713</td>\n",
              "      <td>03:05</td>\n",
              "    </tr>\n",
              "    <tr>\n",
              "      <td>1</td>\n",
              "      <td>0.446305</td>\n",
              "      <td>1.203582</td>\n",
              "      <td>0.805179</td>\n",
              "      <td>03:02</td>\n",
              "    </tr>\n",
              "    <tr>\n",
              "      <td>2</td>\n",
              "      <td>0.368589</td>\n",
              "      <td>1.200175</td>\n",
              "      <td>0.800247</td>\n",
              "      <td>02:58</td>\n",
              "    </tr>\n",
              "    <tr>\n",
              "      <td>3</td>\n",
              "      <td>0.302516</td>\n",
              "      <td>1.165392</td>\n",
              "      <td>0.803946</td>\n",
              "      <td>02:57</td>\n",
              "    </tr>\n",
              "  </tbody>\n",
              "</table>"
            ],
            "text/plain": [
              "<IPython.core.display.HTML object>"
            ]
          },
          "metadata": {
            "tags": []
          }
        }
      ]
    },
    {
      "cell_type": "code",
      "metadata": {
        "id": "rKrBTZ0T1uVA",
        "outputId": "e68defa6-0398-4305-911e-3038d0ffedeb",
        "colab": {
          "base_uri": "https://localhost:8080/",
          "height": 173
        }
      },
      "source": [
        "learn.fit_one_cycle(4, slice(2e-3/100, 2e-3))"
      ],
      "execution_count": 37,
      "outputs": [
        {
          "output_type": "display_data",
          "data": {
            "text/html": [
              "<table border=\"1\" class=\"dataframe\">\n",
              "  <thead>\n",
              "    <tr style=\"text-align: left;\">\n",
              "      <th>epoch</th>\n",
              "      <th>train_loss</th>\n",
              "      <th>valid_loss</th>\n",
              "      <th>accuracy</th>\n",
              "      <th>time</th>\n",
              "    </tr>\n",
              "  </thead>\n",
              "  <tbody>\n",
              "    <tr>\n",
              "      <td>0</td>\n",
              "      <td>0.314409</td>\n",
              "      <td>1.141295</td>\n",
              "      <td>0.807645</td>\n",
              "      <td>03:00</td>\n",
              "    </tr>\n",
              "    <tr>\n",
              "      <td>1</td>\n",
              "      <td>0.362882</td>\n",
              "      <td>1.187177</td>\n",
              "      <td>0.803946</td>\n",
              "      <td>02:59</td>\n",
              "    </tr>\n",
              "    <tr>\n",
              "      <td>2</td>\n",
              "      <td>0.296372</td>\n",
              "      <td>1.165914</td>\n",
              "      <td>0.805179</td>\n",
              "      <td>03:15</td>\n",
              "    </tr>\n",
              "    <tr>\n",
              "      <td>3</td>\n",
              "      <td>0.276545</td>\n",
              "      <td>1.173462</td>\n",
              "      <td>0.815043</td>\n",
              "      <td>03:20</td>\n",
              "    </tr>\n",
              "  </tbody>\n",
              "</table>"
            ],
            "text/plain": [
              "<IPython.core.display.HTML object>"
            ]
          },
          "metadata": {
            "tags": []
          }
        }
      ]
    },
    {
      "cell_type": "code",
      "metadata": {
        "id": "ajQC6WDg1yA9",
        "outputId": "c2d657b3-f32f-41ea-809e-8f88656f697d",
        "colab": {
          "base_uri": "https://localhost:8080/",
          "height": 173
        }
      },
      "source": [
        "learn.fit_one_cycle(4, slice(2e-3/100, 2e-3))"
      ],
      "execution_count": 38,
      "outputs": [
        {
          "output_type": "display_data",
          "data": {
            "text/html": [
              "<table border=\"1\" class=\"dataframe\">\n",
              "  <thead>\n",
              "    <tr style=\"text-align: left;\">\n",
              "      <th>epoch</th>\n",
              "      <th>train_loss</th>\n",
              "      <th>valid_loss</th>\n",
              "      <th>accuracy</th>\n",
              "      <th>time</th>\n",
              "    </tr>\n",
              "  </thead>\n",
              "  <tbody>\n",
              "    <tr>\n",
              "      <td>0</td>\n",
              "      <td>0.273298</td>\n",
              "      <td>1.199484</td>\n",
              "      <td>0.812577</td>\n",
              "      <td>03:34</td>\n",
              "    </tr>\n",
              "    <tr>\n",
              "      <td>1</td>\n",
              "      <td>0.301969</td>\n",
              "      <td>1.224133</td>\n",
              "      <td>0.803946</td>\n",
              "      <td>03:17</td>\n",
              "    </tr>\n",
              "    <tr>\n",
              "      <td>2</td>\n",
              "      <td>0.274076</td>\n",
              "      <td>1.273327</td>\n",
              "      <td>0.811344</td>\n",
              "      <td>03:28</td>\n",
              "    </tr>\n",
              "    <tr>\n",
              "      <td>3</td>\n",
              "      <td>0.238217</td>\n",
              "      <td>1.205243</td>\n",
              "      <td>0.811344</td>\n",
              "      <td>03:55</td>\n",
              "    </tr>\n",
              "  </tbody>\n",
              "</table>"
            ],
            "text/plain": [
              "<IPython.core.display.HTML object>"
            ]
          },
          "metadata": {
            "tags": []
          }
        }
      ]
    },
    {
      "cell_type": "code",
      "metadata": {
        "id": "KKydb0B4BKGk",
        "outputId": "f90d9303-3d19-4fd9-a057-285aae7dc816",
        "colab": {
          "base_uri": "https://localhost:8080/",
          "height": 173
        }
      },
      "source": [
        "learn.fit_one_cycle(4, slice(2e-3/100, 2e-3))"
      ],
      "execution_count": 39,
      "outputs": [
        {
          "output_type": "display_data",
          "data": {
            "text/html": [
              "<table border=\"1\" class=\"dataframe\">\n",
              "  <thead>\n",
              "    <tr style=\"text-align: left;\">\n",
              "      <th>epoch</th>\n",
              "      <th>train_loss</th>\n",
              "      <th>valid_loss</th>\n",
              "      <th>accuracy</th>\n",
              "      <th>time</th>\n",
              "    </tr>\n",
              "  </thead>\n",
              "  <tbody>\n",
              "    <tr>\n",
              "      <td>0</td>\n",
              "      <td>0.252650</td>\n",
              "      <td>1.188496</td>\n",
              "      <td>0.808878</td>\n",
              "      <td>03:13</td>\n",
              "    </tr>\n",
              "    <tr>\n",
              "      <td>1</td>\n",
              "      <td>0.267206</td>\n",
              "      <td>1.267336</td>\n",
              "      <td>0.808878</td>\n",
              "      <td>03:17</td>\n",
              "    </tr>\n",
              "    <tr>\n",
              "      <td>2</td>\n",
              "      <td>0.244561</td>\n",
              "      <td>1.221088</td>\n",
              "      <td>0.806412</td>\n",
              "      <td>03:26</td>\n",
              "    </tr>\n",
              "    <tr>\n",
              "      <td>3</td>\n",
              "      <td>0.211323</td>\n",
              "      <td>1.277658</td>\n",
              "      <td>0.805179</td>\n",
              "      <td>03:14</td>\n",
              "    </tr>\n",
              "  </tbody>\n",
              "</table>"
            ],
            "text/plain": [
              "<IPython.core.display.HTML object>"
            ]
          },
          "metadata": {
            "tags": []
          }
        }
      ]
    },
    {
      "cell_type": "code",
      "metadata": {
        "id": "T2APKtFKBpGY",
        "outputId": "66a2226a-2679-4811-bba6-8e5e2320b86c",
        "colab": {
          "base_uri": "https://localhost:8080/",
          "height": 173
        }
      },
      "source": [
        "learn.fit_one_cycle(4, slice(2e-3/100, 2e-3))"
      ],
      "execution_count": 40,
      "outputs": [
        {
          "output_type": "display_data",
          "data": {
            "text/html": [
              "<table border=\"1\" class=\"dataframe\">\n",
              "  <thead>\n",
              "    <tr style=\"text-align: left;\">\n",
              "      <th>epoch</th>\n",
              "      <th>train_loss</th>\n",
              "      <th>valid_loss</th>\n",
              "      <th>accuracy</th>\n",
              "      <th>time</th>\n",
              "    </tr>\n",
              "  </thead>\n",
              "  <tbody>\n",
              "    <tr>\n",
              "      <td>0</td>\n",
              "      <td>0.194003</td>\n",
              "      <td>1.224549</td>\n",
              "      <td>0.801480</td>\n",
              "      <td>03:16</td>\n",
              "    </tr>\n",
              "    <tr>\n",
              "      <td>1</td>\n",
              "      <td>0.243749</td>\n",
              "      <td>1.266827</td>\n",
              "      <td>0.806412</td>\n",
              "      <td>03:34</td>\n",
              "    </tr>\n",
              "    <tr>\n",
              "      <td>2</td>\n",
              "      <td>0.228055</td>\n",
              "      <td>1.276867</td>\n",
              "      <td>0.803946</td>\n",
              "      <td>03:08</td>\n",
              "    </tr>\n",
              "    <tr>\n",
              "      <td>3</td>\n",
              "      <td>0.190925</td>\n",
              "      <td>1.233068</td>\n",
              "      <td>0.806412</td>\n",
              "      <td>03:23</td>\n",
              "    </tr>\n",
              "  </tbody>\n",
              "</table>"
            ],
            "text/plain": [
              "<IPython.core.display.HTML object>"
            ]
          },
          "metadata": {
            "tags": []
          }
        }
      ]
    },
    {
      "cell_type": "code",
      "metadata": {
        "id": "qtTypA1sPgLU",
        "outputId": "59c06d82-2403-4b99-a522-f7abef89d8ef",
        "colab": {
          "base_uri": "https://localhost:8080/",
          "height": 111
        }
      },
      "source": [
        "learn.fit_one_cycle(2, slice(2e-3/100, 2e-3))"
      ],
      "execution_count": 41,
      "outputs": [
        {
          "output_type": "display_data",
          "data": {
            "text/html": [
              "<table border=\"1\" class=\"dataframe\">\n",
              "  <thead>\n",
              "    <tr style=\"text-align: left;\">\n",
              "      <th>epoch</th>\n",
              "      <th>train_loss</th>\n",
              "      <th>valid_loss</th>\n",
              "      <th>accuracy</th>\n",
              "      <th>time</th>\n",
              "    </tr>\n",
              "  </thead>\n",
              "  <tbody>\n",
              "    <tr>\n",
              "      <td>0</td>\n",
              "      <td>0.197405</td>\n",
              "      <td>1.321163</td>\n",
              "      <td>0.802713</td>\n",
              "      <td>03:25</td>\n",
              "    </tr>\n",
              "    <tr>\n",
              "      <td>1</td>\n",
              "      <td>0.214219</td>\n",
              "      <td>1.310357</td>\n",
              "      <td>0.808878</td>\n",
              "      <td>03:32</td>\n",
              "    </tr>\n",
              "  </tbody>\n",
              "</table>"
            ],
            "text/plain": [
              "<IPython.core.display.HTML object>"
            ]
          },
          "metadata": {
            "tags": []
          }
        }
      ]
    },
    {
      "cell_type": "code",
      "metadata": {
        "id": "b242kBsTUp9Y",
        "outputId": "8719384a-b19d-4bc5-c830-34ab023aee1d",
        "colab": {
          "base_uri": "https://localhost:8080/",
          "height": 111
        }
      },
      "source": [
        "learn.fit_one_cycle(2, slice(2e-3/100, 2e-3))"
      ],
      "execution_count": 42,
      "outputs": [
        {
          "output_type": "display_data",
          "data": {
            "text/html": [
              "<table border=\"1\" class=\"dataframe\">\n",
              "  <thead>\n",
              "    <tr style=\"text-align: left;\">\n",
              "      <th>epoch</th>\n",
              "      <th>train_loss</th>\n",
              "      <th>valid_loss</th>\n",
              "      <th>accuracy</th>\n",
              "      <th>time</th>\n",
              "    </tr>\n",
              "  </thead>\n",
              "  <tbody>\n",
              "    <tr>\n",
              "      <td>0</td>\n",
              "      <td>0.187813</td>\n",
              "      <td>1.344961</td>\n",
              "      <td>0.810111</td>\n",
              "      <td>03:19</td>\n",
              "    </tr>\n",
              "    <tr>\n",
              "      <td>1</td>\n",
              "      <td>0.191051</td>\n",
              "      <td>1.306043</td>\n",
              "      <td>0.807645</td>\n",
              "      <td>03:27</td>\n",
              "    </tr>\n",
              "  </tbody>\n",
              "</table>"
            ],
            "text/plain": [
              "<IPython.core.display.HTML object>"
            ]
          },
          "metadata": {
            "tags": []
          }
        }
      ]
    },
    {
      "cell_type": "code",
      "metadata": {
        "id": "Duwf1Ih5VeDZ",
        "outputId": "5e5513ff-00bf-4764-93bf-df00a5d39ba8",
        "colab": {
          "base_uri": "https://localhost:8080/",
          "height": 80
        }
      },
      "source": [
        "learn.fit_one_cycle(1, slice(2e-3/100, 2e-3))"
      ],
      "execution_count": 43,
      "outputs": [
        {
          "output_type": "display_data",
          "data": {
            "text/html": [
              "<table border=\"1\" class=\"dataframe\">\n",
              "  <thead>\n",
              "    <tr style=\"text-align: left;\">\n",
              "      <th>epoch</th>\n",
              "      <th>train_loss</th>\n",
              "      <th>valid_loss</th>\n",
              "      <th>accuracy</th>\n",
              "      <th>time</th>\n",
              "    </tr>\n",
              "  </thead>\n",
              "  <tbody>\n",
              "    <tr>\n",
              "      <td>0</td>\n",
              "      <td>0.179573</td>\n",
              "      <td>1.253120</td>\n",
              "      <td>0.815043</td>\n",
              "      <td>03:19</td>\n",
              "    </tr>\n",
              "  </tbody>\n",
              "</table>"
            ],
            "text/plain": [
              "<IPython.core.display.HTML object>"
            ]
          },
          "metadata": {
            "tags": []
          }
        }
      ]
    },
    {
      "cell_type": "code",
      "metadata": {
        "id": "c65d-osfDUXm"
      },
      "source": [
        "# save the best model\n",
        "\n",
        "learn.save_encoder('cadec_ask_mixed_fold8')"
      ],
      "execution_count": 44,
      "outputs": []
    },
    {
      "cell_type": "markdown",
      "metadata": {
        "id": "rCwZU0E2RgM6"
      },
      "source": [
        "# Part three: Predict on the test dataset"
      ]
    },
    {
      "cell_type": "code",
      "metadata": {
        "id": "gDm72c-dOu7d",
        "outputId": "2c35e1ed-7ce3-47f1-aa0a-07fc003fc3f1",
        "colab": {
          "base_uri": "https://localhost:8080/",
          "height": 17
        }
      },
      "source": [
        "# use the test data for prediction\n",
        "\n",
        "preds, y = learn.get_preds(DatasetType.Test)"
      ],
      "execution_count": 45,
      "outputs": [
        {
          "output_type": "display_data",
          "data": {
            "text/html": [
              ""
            ],
            "text/plain": [
              "<IPython.core.display.HTML object>"
            ]
          },
          "metadata": {
            "tags": []
          }
        }
      ]
    },
    {
      "cell_type": "code",
      "metadata": {
        "id": "6tFSQcsWPvxn",
        "outputId": "fc63528e-0b96-4d98-b266-96cc223d0638",
        "colab": {
          "base_uri": "https://localhost:8080/",
          "height": 105
        }
      },
      "source": [
        "predictions, *_ = learn.get_preds(DatasetType.Test)\n",
        "labels = np.argmax(predictions, 1)\n",
        "predict_list = labels.tolist()\n",
        "standard_list = test[0].tolist()\n",
        "\n",
        "print(len(predict_list))\n",
        "print(len(standard_list))\n",
        "\n",
        "print(predict_list)\n",
        "print(standard_list)"
      ],
      "execution_count": 46,
      "outputs": [
        {
          "output_type": "display_data",
          "data": {
            "text/html": [
              ""
            ],
            "text/plain": [
              "<IPython.core.display.HTML object>"
            ]
          },
          "metadata": {
            "tags": []
          }
        },
        {
          "output_type": "stream",
          "text": [
            "866\n",
            "866\n",
            "[76, 18, 5, 8, 8, 8, 12, 20, 627, 27, 491, 491, 31, 901, 34, 498, 435, 37, 37, 37, 37, 37, 42, 48, 49, 775, 49, 100, 775, 49, 100, 53, 243, 243, 243, 243, 60, 60, 60, 70, 74, 76, 76, 79, 79, 79, 79, 79, 79, 79, 79, 79, 79, 79, 79, 79, 79, 79, 79, 79, 79, 79, 79, 79, 79, 79, 79, 79, 79, 79, 79, 79, 79, 79, 79, 79, 79, 79, 79, 79, 79, 79, 79, 79, 79, 79, 79, 79, 80, 80, 80, 80, 85, 87, 91, 91, 91, 94, 94, 94, 94, 925, 94, 94, 94, 94, 94, 94, 94, 94, 94, 94, 94, 94, 94, 234, 325, 100, 100, 100, 100, 100, 89, 100, 925, 105, 108, 108, 108, 613, 111, 111, 111, 111, 111, 111, 111, 111, 111, 111, 112, 117, 402, 130, 125, 125, 125, 125, 125, 125, 125, 125, 125, 20, 126, 416, 127, 135, 94, 805, 427, 406, 268, 137, 216, 142, 847, 151, 151, 152, 157, 159, 67, 165, 166, 166, 100, 172, 570, 172, 172, 173, 799, 181, 182, 182, 182, 182, 182, 182, 182, 183, 183, 183, 183, 183, 183, 183, 183, 184, 184, 185, 239, 187, 187, 187, 2, 189, 190, 190, 190, 190, 190, 190, 2, 190, 566, 193, 65, 202, 206, 206, 210, 210, 896, 214, 214, 214, 214, 896, 896, 214, 214, 214, 214, 214, 214, 427, 122, 220, 220, 220, 220, 223, 224, 386, 227, 228, 228, 228, 228, 228, 228, 228, 228, 228, 228, 228, 228, 228, 228, 228, 859, 228, 228, 234, 234, 234, 234, 234, 235, 235, 236, 236, 238, 238, 239, 242, 20, 243, 243, 243, 243, 859, 243, 218, 245, 764, 245, 245, 245, 245, 245, 369, 252, 254, 405, 260, 260, 8, 265, 265, 108, 265, 265, 265, 265, 318, 265, 265, 265, 265, 265, 265, 265, 265, 265, 265, 265, 265, 265, 265, 265, 265, 265, 265, 265, 265, 265, 265, 427, 265, 265, 265, 2, 265, 595, 269, 277, 277, 277, 280, 289, 289, 289, 265, 289, 76, 289, 636, 289, 289, 289, 289, 289, 289, 289, 289, 289, 842, 291, 746, 405, 289, 364, 896, 37, 300, 82, 82, 301, 775, 303, 20, 304, 868, 703, 309, 309, 309, 309, 475, 309, 310, 876, 318, 325, 325, 325, 325, 325, 325, 325, 325, 325, 325, 325, 326, 326, 846, 332, 332, 334, 336, 337, 337, 343, 343, 343, 891, 769, 614, 402, 359, 359, 317, 343, 391, 444, 725, 148, 401, 236, 402, 301, 402, 405, 406, 408, 805, 31, 894, 418, 419, 419, 419, 419, 419, 419, 419, 419, 419, 559, 424, 424, 424, 426, 426, 427, 427, 427, 727, 427, 427, 427, 427, 427, 427, 427, 614, 727, 891, 117, 238, 443, 441, 447, 449, 689, 453, 454, 455, 455, 693, 455, 455, 455, 455, 459, 459, 460, 462, 463, 469, 470, 289, 471, 848, 169, 695, 475, 443, 475, 794, 427, 491, 491, 491, 491, 491, 509, 491, 492, 950, 495, 495, 503, 143, 148, 462, 427, 517, 531, 517, 550, 523, 524, 524, 527, 530, 530, 530, 517, 531, 546, 548, 548, 215, 627, 62, 509, 578, 579, 580, 584, 587, 590, 590, 432, 592, 592, 594, 595, 359, 427, 518, 610, 614, 614, 614, 614, 265, 600, 617, 619, 622, 623, 623, 624, 633, 109, 809, 530, 646, 646, 902, 728, 651, 172, 652, 652, 652, 720, 662, 662, 437, 676, 623, 695, 172, 702, 364, 704, 37, 704, 707, 408, 726, 2, 497, 779, 765, 726, 491, 741, 741, 741, 741, 741, 541, 750, 749, 751, 759, 96, 763, 245, 375, 773, 774, 876, 775, 775, 317, 100, 775, 777, 778, 430, 910, 864, 813, 787, 99, 794, 794, 794, 824, 415, 806, 808, 809, 809, 809, 809, 810, 810, 812, 819, 826, 826, 830, 830, 830, 830, 830, 830, 830, 830, 830, 831, 173, 834, 834, 840, 78, 847, 359, 847, 848, 298, 852, 852, 853, 853, 853, 853, 842, 861, 861, 864, 82, 731, 871, 358, 698, 240, 877, 877, 877, 364, 896, 896, 896, 896, 896, 896, 298, 428, 904, 904, 904, 904, 230, 907, 433, 912, 934, 937, 937, 937, 937, 937, 937, 937, 937, 93, 937, 941, 611, 611, 943, 930, 948, 949, 949, 949, 949, 949, 949, 949, 949, 949, 949, 949, 949, 949, 949, 949, 949, 949, 949, 949, 949, 949, 949, 949, 949, 949, 949, 949, 949, 949, 949, 949, 949, 949, 949, 949, 949, 949, 949, 949, 949, 949, 949, 949, 949, 949, 949, 949, 949, 949, 949, 949, 949, 949, 949, 949, 949, 949, 949, 949, 949, 949, 949, 949, 949, 949, 949, 949, 949, 949, 949, 949, 949, 949, 949, 949, 949, 949, 57, 949, 949, 949, 949, 949, 949, 949, 949, 949, 949, 949, 949, 949, 949, 949, 949, 949, 949, 949, 949, 949, 949, 949, 949, 949, 949, 950, 950, 950, 950, 950, 950, 950, 955, 955, 963, 964, 964, 918, 965, 966, 954, 57, 1009, 976, 978, 255, 980, 60, 60, 239, 997, 999, 1001, 1001, 1001, 1004, 1004, 1005, 1016, 1026, 92, 1026, 1026, 1026, 1026, 1026, 1026, 204, 1027, 971, 1028, 1028, 1029]\n",
            "[1, 5, 5, 8, 8, 8, 12, 20, 26, 27, 29, 29, 31, 31, 34, 34, 34, 37, 37, 37, 37, 37, 42, 43, 49, 49, 49, 49, 49, 49, 49, 53, 53, 53, 53, 53, 60, 60, 60, 70, 74, 76, 76, 79, 79, 79, 79, 79, 79, 79, 79, 79, 79, 79, 79, 79, 79, 79, 79, 79, 79, 79, 79, 79, 79, 79, 79, 79, 79, 79, 79, 79, 79, 79, 79, 79, 79, 79, 79, 79, 79, 79, 79, 79, 79, 79, 79, 79, 80, 80, 80, 80, 85, 87, 91, 91, 91, 94, 94, 94, 94, 94, 94, 94, 94, 94, 94, 94, 94, 94, 94, 94, 94, 94, 94, 98, 99, 100, 100, 100, 100, 100, 100, 100, 103, 105, 108, 108, 108, 110, 111, 111, 111, 111, 111, 111, 111, 111, 111, 111, 112, 117, 118, 125, 125, 125, 125, 125, 125, 125, 125, 125, 125, 125, 126, 127, 127, 135, 135, 135, 135, 136, 137, 137, 139, 142, 151, 151, 151, 152, 157, 159, 164, 165, 166, 166, 166, 172, 172, 172, 172, 173, 173, 181, 182, 182, 182, 182, 182, 182, 182, 183, 183, 183, 183, 183, 183, 183, 183, 184, 184, 185, 187, 187, 187, 187, 188, 189, 190, 190, 190, 190, 190, 190, 190, 190, 190, 193, 194, 202, 206, 206, 210, 210, 214, 214, 214, 214, 214, 214, 214, 214, 214, 214, 214, 214, 214, 218, 218, 220, 220, 220, 220, 223, 224, 226, 227, 228, 228, 228, 228, 228, 228, 228, 228, 228, 228, 228, 228, 228, 228, 228, 228, 228, 228, 234, 234, 234, 234, 234, 235, 235, 236, 236, 238, 238, 239, 242, 243, 243, 243, 243, 243, 243, 243, 244, 245, 245, 245, 245, 245, 245, 245, 250, 252, 254, 257, 260, 260, 263, 265, 265, 265, 265, 265, 265, 265, 265, 265, 265, 265, 265, 265, 265, 265, 265, 265, 265, 265, 265, 265, 265, 265, 265, 265, 265, 265, 265, 265, 265, 265, 265, 265, 265, 265, 265, 266, 269, 277, 277, 277, 280, 289, 289, 289, 289, 289, 289, 289, 289, 289, 289, 289, 289, 289, 289, 289, 289, 289, 291, 291, 291, 291, 293, 293, 293, 293, 300, 301, 301, 301, 301, 303, 304, 304, 307, 309, 309, 309, 309, 309, 309, 309, 310, 318, 318, 325, 325, 325, 325, 325, 325, 325, 325, 325, 325, 325, 326, 326, 329, 332, 332, 334, 336, 337, 337, 343, 343, 343, 349, 350, 352, 358, 359, 359, 373, 375, 391, 391, 394, 398, 401, 402, 402, 402, 402, 405, 406, 408, 413, 414, 415, 418, 419, 419, 419, 419, 419, 419, 419, 419, 419, 423, 424, 424, 424, 426, 426, 427, 427, 427, 427, 427, 427, 427, 427, 427, 427, 427, 427, 427, 427, 429, 434, 439, 441, 447, 449, 451, 453, 454, 455, 455, 455, 455, 455, 455, 455, 459, 459, 460, 462, 463, 469, 470, 471, 471, 473, 474, 475, 475, 475, 475, 478, 479, 491, 491, 491, 491, 491, 491, 491, 492, 494, 495, 495, 503, 503, 503, 513, 516, 517, 517, 517, 519, 523, 524, 524, 527, 530, 530, 530, 531, 531, 546, 548, 548, 557, 558, 561, 574, 578, 579, 580, 584, 587, 590, 590, 591, 592, 592, 594, 595, 596, 597, 603, 610, 614, 614, 614, 614, 614, 615, 617, 619, 622, 623, 623, 624, 633, 637, 641, 646, 646, 646, 647, 648, 651, 651, 652, 652, 652, 652, 662, 662, 664, 681, 693, 695, 700, 701, 701, 704, 704, 704, 707, 711, 716, 717, 721, 723, 723, 726, 738, 741, 741, 741, 741, 741, 746, 749, 749, 751, 759, 761, 763, 764, 767, 773, 774, 775, 775, 775, 775, 775, 775, 777, 778, 779, 779, 781, 786, 788, 794, 794, 794, 794, 803, 806, 806, 808, 809, 809, 809, 809, 810, 810, 812, 820, 826, 826, 830, 830, 830, 830, 830, 830, 830, 830, 830, 831, 833, 834, 834, 840, 841, 847, 847, 847, 848, 852, 852, 852, 853, 853, 853, 853, 853, 861, 861, 864, 865, 870, 871, 872, 876, 876, 877, 877, 877, 889, 896, 896, 896, 896, 896, 896, 900, 900, 904, 904, 904, 904, 905, 907, 910, 912, 934, 937, 937, 937, 937, 937, 937, 937, 937, 937, 937, 941, 941, 941, 943, 948, 948, 949, 949, 949, 949, 949, 949, 949, 949, 949, 949, 949, 949, 949, 949, 949, 949, 949, 949, 949, 949, 949, 949, 949, 949, 949, 949, 949, 949, 949, 949, 949, 949, 949, 949, 949, 949, 949, 949, 949, 949, 949, 949, 949, 949, 949, 949, 949, 949, 949, 949, 949, 949, 949, 949, 949, 949, 949, 949, 949, 949, 949, 949, 949, 949, 949, 949, 949, 949, 949, 949, 949, 949, 949, 949, 949, 949, 949, 949, 949, 949, 949, 949, 949, 949, 949, 949, 949, 949, 949, 949, 949, 949, 949, 949, 949, 949, 949, 949, 949, 949, 949, 949, 949, 949, 950, 950, 950, 950, 950, 950, 950, 955, 955, 963, 964, 964, 964, 965, 966, 967, 970, 973, 976, 978, 979, 980, 983, 983, 989, 997, 999, 1001, 1001, 1001, 1004, 1004, 1005, 1016, 1026, 1026, 1026, 1026, 1026, 1026, 1026, 1026, 1026, 1027, 1028, 1028, 1028, 1029]\n"
          ],
          "name": "stdout"
        }
      ]
    },
    {
      "cell_type": "code",
      "metadata": {
        "id": "XIC4zufnMxtq",
        "outputId": "30d1cb3d-8516-4188-8c8d-4926dde33004",
        "colab": {
          "base_uri": "https://localhost:8080/"
        }
      },
      "source": [
        "correct_num = 0\n",
        "\n",
        "for i in range(0, len(standard_list)):\n",
        "  if predict_list[i] == standard_list[i]:\n",
        "    correct_num = correct_num+1\n",
        "  else:\n",
        "    pass\n",
        "print(correct_num)\n",
        "\n",
        "predict_accuracy = correct_num/len(predict_list)\n",
        "print(predict_accuracy)"
      ],
      "execution_count": 47,
      "outputs": [
        {
          "output_type": "stream",
          "text": [
            "666\n",
            "0.76905311778291\n"
          ],
          "name": "stdout"
        }
      ]
    },
    {
      "cell_type": "code",
      "metadata": {
        "id": "zlKMHp1CIaRJ"
      },
      "source": [
        ""
      ],
      "execution_count": 47,
      "outputs": []
    }
  ]
}