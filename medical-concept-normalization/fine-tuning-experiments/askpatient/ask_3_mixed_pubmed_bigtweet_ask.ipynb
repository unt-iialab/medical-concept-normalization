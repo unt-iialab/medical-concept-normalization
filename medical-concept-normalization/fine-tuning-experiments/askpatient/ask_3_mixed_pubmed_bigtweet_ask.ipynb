{
  "nbformat": 4,
  "nbformat_minor": 0,
  "metadata": {
    "accelerator": "TPU",
    "colab": {
      "name": "ask_3_mixed_pubmed_bigtweet_ask.ipynb",
      "provenance": [],
      "collapsed_sections": [],
      "toc_visible": true,
      "include_colab_link": true
    },
    "kernelspec": {
      "display_name": "Python 3",
      "name": "python3"
    }
  },
  "cells": [
    {
      "cell_type": "markdown",
      "metadata": {
        "id": "view-in-github",
        "colab_type": "text"
      },
      "source": [
        "<a href=\"https://colab.research.google.com/github/unt-iialab/medical-concept-normalization/blob/master/medical-concept-normalization/fine-tuning-experiments/askpatient/ask_3_mixed_pubmed_bigtweet_ask.ipynb\" target=\"_parent\"><img src=\"https://colab.research.google.com/assets/colab-badge.svg\" alt=\"Open In Colab\"/></a>"
      ]
    },
    {
      "cell_type": "code",
      "metadata": {
        "id": "adSi6i2-dWxy"
      },
      "source": [
        "import os"
      ],
      "execution_count": 1,
      "outputs": []
    },
    {
      "cell_type": "code",
      "metadata": {
        "id": "E7xYCRGPjd9B"
      },
      "source": [
        "base_dir = 'medical-concept-normalization'"
      ],
      "execution_count": 2,
      "outputs": []
    },
    {
      "cell_type": "code",
      "metadata": {
        "id": "yvIW3aUDjYNS"
      },
      "source": [
        "os.mkdir(base_dir)"
      ],
      "execution_count": 3,
      "outputs": []
    },
    {
      "cell_type": "code",
      "metadata": {
        "id": "es-FFLlfk6SG"
      },
      "source": [
        "os.mkdir('medical-concept-normalization/data_collection')"
      ],
      "execution_count": 4,
      "outputs": []
    },
    {
      "cell_type": "markdown",
      "metadata": {
        "id": "0R-Guw_VoJXm"
      },
      "source": [
        "**Install fastai and clone the fastai for text classification**\n",
        "\n"
      ]
    },
    {
      "cell_type": "code",
      "metadata": {
        "id": "QVZa3Z0PmHFH",
        "outputId": "73410f4a-9b92-4757-86a7-c105ddf438fd",
        "colab": {
          "base_uri": "https://localhost:8080/",
          "height": 68
        }
      },
      "source": [
        "!curl https://course-v3.fast.ai/setup/colab | bash"
      ],
      "execution_count": 5,
      "outputs": [
        {
          "output_type": "stream",
          "text": [
            "  % Total    % Received % Xferd  Average Speed   Time    Time     Time  Current\n",
            "                                 Dload  Upload   Total   Spent    Left  Speed\n",
            "\r  0     0    0     0    0     0      0      0 --:--:-- --:--:-- --:--:--     0\r  0     0    0     0    0     0      0      0 --:--:-- --:--:-- --:--:--     0curl: (6) Could not resolve host: course-v3.fast.ai\n"
          ],
          "name": "stdout"
        }
      ]
    },
    {
      "cell_type": "code",
      "metadata": {
        "id": "_FBFFEBrmJC0",
        "outputId": "9e7d5626-b236-4a41-d9c5-d0e82113187d",
        "colab": {
          "base_uri": "https://localhost:8080/",
          "height": 85
        }
      },
      "source": [
        "!git clone https://github.com/wshuyi/demo-nlp-classification-fastai.git"
      ],
      "execution_count": 6,
      "outputs": [
        {
          "output_type": "stream",
          "text": [
            "Cloning into 'demo-nlp-classification-fastai'...\n",
            "remote: Enumerating objects: 9, done.\u001b[K\n",
            "remote: Total 9 (delta 0), reused 0 (delta 0), pack-reused 9\u001b[K\n",
            "Unpacking objects: 100% (9/9), done.\n"
          ],
          "name": "stdout"
        }
      ]
    },
    {
      "cell_type": "code",
      "metadata": {
        "id": "66zfh_JqmWMU"
      },
      "source": [
        "from fastai import *\n",
        "from fastai.text import *"
      ],
      "execution_count": 7,
      "outputs": []
    },
    {
      "cell_type": "markdown",
      "metadata": {
        "id": "mNIw-yALdBU9"
      },
      "source": [
        "**Set the path of the data collections**"
      ]
    },
    {
      "cell_type": "code",
      "metadata": {
        "id": "pzH7VMh4mqCL"
      },
      "source": [
        "path = Path('medical-concept-normalization/data_collection')"
      ],
      "execution_count": 8,
      "outputs": []
    },
    {
      "cell_type": "code",
      "metadata": {
        "id": "b8fjI6yyn4aS"
      },
      "source": [
        "# training data set\n",
        "\n",
        "train_csv = path/'AskAPatient.fold-3.train.csv'\n",
        "train = pd.read_csv(train_csv, header=None)\n",
        "#train.head()\n",
        "#train.info()"
      ],
      "execution_count": 10,
      "outputs": []
    },
    {
      "cell_type": "code",
      "metadata": {
        "id": "Hmlr-bAorfHd",
        "outputId": "268f2486-1ec8-401b-838f-39c5291f78f5",
        "colab": {
          "base_uri": "https://localhost:8080/",
          "height": 204
        }
      },
      "source": [
        "# validating data set\n",
        "\n",
        "valid = pd.read_csv(path/\"AskAPatient.fold-3.validation.csv\",header=None)\n",
        "valid.head()"
      ],
      "execution_count": 11,
      "outputs": [
        {
          "output_type": "execute_result",
          "data": {
            "text/html": [
              "<div>\n",
              "<style scoped>\n",
              "    .dataframe tbody tr th:only-of-type {\n",
              "        vertical-align: middle;\n",
              "    }\n",
              "\n",
              "    .dataframe tbody tr th {\n",
              "        vertical-align: top;\n",
              "    }\n",
              "\n",
              "    .dataframe thead th {\n",
              "        text-align: right;\n",
              "    }\n",
              "</style>\n",
              "<table border=\"1\" class=\"dataframe\">\n",
              "  <thead>\n",
              "    <tr style=\"text-align: right;\">\n",
              "      <th></th>\n",
              "      <th>0</th>\n",
              "      <th>1</th>\n",
              "    </tr>\n",
              "  </thead>\n",
              "  <tbody>\n",
              "    <tr>\n",
              "      <th>0</th>\n",
              "      <td>2</td>\n",
              "      <td>left heel pain</td>\n",
              "    </tr>\n",
              "    <tr>\n",
              "      <th>1</th>\n",
              "      <td>2</td>\n",
              "      <td>right heel became painful</td>\n",
              "    </tr>\n",
              "    <tr>\n",
              "      <th>2</th>\n",
              "      <td>8</td>\n",
              "      <td>Arthritis</td>\n",
              "    </tr>\n",
              "    <tr>\n",
              "      <th>3</th>\n",
              "      <td>8</td>\n",
              "      <td>arthritis</td>\n",
              "    </tr>\n",
              "    <tr>\n",
              "      <th>4</th>\n",
              "      <td>8</td>\n",
              "      <td>arthritis</td>\n",
              "    </tr>\n",
              "  </tbody>\n",
              "</table>\n",
              "</div>"
            ],
            "text/plain": [
              "   0                          1\n",
              "0  2             left heel pain\n",
              "1  2  right heel became painful\n",
              "2  8                  Arthritis\n",
              "3  8                  arthritis\n",
              "4  8                  arthritis"
            ]
          },
          "metadata": {
            "tags": []
          },
          "execution_count": 11
        }
      ]
    },
    {
      "cell_type": "code",
      "metadata": {
        "id": "cOza9dfSsBud",
        "outputId": "cc04b05d-9f4a-4505-b34d-6706b232888b",
        "colab": {
          "base_uri": "https://localhost:8080/",
          "height": 204
        }
      },
      "source": [
        "# testing data set\n",
        "\n",
        "test = pd.read_csv(path/\"AskAPatient.fold-3.test.csv\",header=None)\n",
        "test.head()"
      ],
      "execution_count": 12,
      "outputs": [
        {
          "output_type": "execute_result",
          "data": {
            "text/html": [
              "<div>\n",
              "<style scoped>\n",
              "    .dataframe tbody tr th:only-of-type {\n",
              "        vertical-align: middle;\n",
              "    }\n",
              "\n",
              "    .dataframe tbody tr th {\n",
              "        vertical-align: top;\n",
              "    }\n",
              "\n",
              "    .dataframe thead th {\n",
              "        text-align: right;\n",
              "    }\n",
              "</style>\n",
              "<table border=\"1\" class=\"dataframe\">\n",
              "  <thead>\n",
              "    <tr style=\"text-align: right;\">\n",
              "      <th></th>\n",
              "      <th>0</th>\n",
              "      <th>1</th>\n",
              "    </tr>\n",
              "  </thead>\n",
              "  <tbody>\n",
              "    <tr>\n",
              "      <th>0</th>\n",
              "      <td>2</td>\n",
              "      <td>heel pain</td>\n",
              "    </tr>\n",
              "    <tr>\n",
              "      <th>1</th>\n",
              "      <td>5</td>\n",
              "      <td>rapid heart beat</td>\n",
              "    </tr>\n",
              "    <tr>\n",
              "      <th>2</th>\n",
              "      <td>6</td>\n",
              "      <td>diastolic dysfunction</td>\n",
              "    </tr>\n",
              "    <tr>\n",
              "      <th>3</th>\n",
              "      <td>8</td>\n",
              "      <td>arthritis</td>\n",
              "    </tr>\n",
              "    <tr>\n",
              "      <th>4</th>\n",
              "      <td>8</td>\n",
              "      <td>arthritis</td>\n",
              "    </tr>\n",
              "  </tbody>\n",
              "</table>\n",
              "</div>"
            ],
            "text/plain": [
              "   0                      1\n",
              "0  2              heel pain\n",
              "1  5       rapid heart beat\n",
              "2  6  diastolic dysfunction\n",
              "3  8              arthritis\n",
              "4  8              arthritis"
            ]
          },
          "metadata": {
            "tags": []
          },
          "execution_count": 12
        }
      ]
    },
    {
      "cell_type": "code",
      "metadata": {
        "id": "Vo-YNvVYoaH6",
        "outputId": "964cbe7b-e1fe-4fb4-9c9e-68a83dcb80b1",
        "colab": {
          "base_uri": "https://localhost:8080/",
          "height": 17
        }
      },
      "source": [
        "# Creating DataBunch for language modelling\n",
        "\n",
        "data_lm = TextLMDataBunch.from_csv(path, 'mixed_pubmed_bigtweet_askpatient.csv')"
      ],
      "execution_count": 13,
      "outputs": [
        {
          "output_type": "display_data",
          "data": {
            "text/html": [
              ""
            ],
            "text/plain": [
              "<IPython.core.display.HTML object>"
            ]
          },
          "metadata": {
            "tags": []
          }
        },
        {
          "output_type": "display_data",
          "data": {
            "text/html": [
              ""
            ],
            "text/plain": [
              "<IPython.core.display.HTML object>"
            ]
          },
          "metadata": {
            "tags": []
          }
        }
      ]
    },
    {
      "cell_type": "code",
      "metadata": {
        "id": "qcV-9kMnNLBf"
      },
      "source": [
        ""
      ],
      "execution_count": 13,
      "outputs": []
    },
    {
      "cell_type": "code",
      "metadata": {
        "id": "1ScY9afDsnvE"
      },
      "source": [
        "# Creating DataBunch for classification\n",
        "\n",
        "# data_clas = TextClasDataBunch.from_df(path, train, valid, test, vocab=data_lm.train_ds.vocab, bs=128)"
      ],
      "execution_count": 14,
      "outputs": []
    },
    {
      "cell_type": "code",
      "metadata": {
        "id": "gzrSdQcvey9p",
        "outputId": "94fb5e62-f54c-4069-8570-0df8856f0774",
        "colab": {
          "base_uri": "https://localhost:8080/",
          "height": 17
        }
      },
      "source": [
        "data_clas = TextClasDataBunch.from_df(path, train, valid, vocab=data_lm.train_ds.vocab, bs=128)"
      ],
      "execution_count": 15,
      "outputs": [
        {
          "output_type": "display_data",
          "data": {
            "text/html": [
              ""
            ],
            "text/plain": [
              "<IPython.core.display.HTML object>"
            ]
          },
          "metadata": {
            "tags": []
          }
        },
        {
          "output_type": "display_data",
          "data": {
            "text/html": [
              ""
            ],
            "text/plain": [
              "<IPython.core.display.HTML object>"
            ]
          },
          "metadata": {
            "tags": []
          }
        }
      ]
    },
    {
      "cell_type": "code",
      "metadata": {
        "id": "MD27Tf0Ke3ou",
        "outputId": "45bd0d33-5db0-4e04-956c-aa386c8a00b1",
        "colab": {
          "base_uri": "https://localhost:8080/",
          "height": 17
        }
      },
      "source": [
        "data_clas.add_test(test,label=0)\n"
      ],
      "execution_count": 16,
      "outputs": [
        {
          "output_type": "display_data",
          "data": {
            "text/html": [
              ""
            ],
            "text/plain": [
              "<IPython.core.display.HTML object>"
            ]
          },
          "metadata": {
            "tags": []
          }
        }
      ]
    },
    {
      "cell_type": "code",
      "metadata": {
        "id": "-dpjnk_rstwk"
      },
      "source": [
        "data_lm.save()\n",
        "data_clas.save()"
      ],
      "execution_count": 17,
      "outputs": []
    },
    {
      "cell_type": "code",
      "metadata": {
        "id": "4OkiJa36sw5s",
        "outputId": "3efb0126-9b2c-4a44-8a0c-1c24da9e24c8",
        "colab": {
          "base_uri": "https://localhost:8080/",
          "height": 1000
        }
      },
      "source": [
        "data_lm.train_ds.vocab.itos"
      ],
      "execution_count": 18,
      "outputs": [
        {
          "output_type": "execute_result",
          "data": {
            "text/plain": [
              "['xxunk',\n",
              " 'xxpad',\n",
              " 'xxbos',\n",
              " 'xxeos',\n",
              " 'xxfld',\n",
              " 'xxmaj',\n",
              " 'xxup',\n",
              " 'xxrep',\n",
              " 'xxwrep',\n",
              " 'pain',\n",
              " 'of',\n",
              " 'the',\n",
              " 'in',\n",
              " 'lipitor',\n",
              " 'and',\n",
              " 'to',\n",
              " 'a',\n",
              " 'muscle',\n",
              " 'with',\n",
              " 'for',\n",
              " 'was',\n",
              " 'diclofenac',\n",
              " 'were',\n",
              " 'severe',\n",
              " 'on',\n",
              " 'is',\n",
              " 'my',\n",
              " 'myalgia',\n",
              " 'lower',\n",
              " 'fatigue',\n",
              " 'rt',\n",
              " 'by',\n",
              " 'loss',\n",
              " 'weakness',\n",
              " 'limb',\n",
              " 'sodium',\n",
              " 'cramp',\n",
              " 'disease',\n",
              " 'at',\n",
              " 'stomach',\n",
              " 'that',\n",
              " 'or',\n",
              " 'as',\n",
              " 'depression',\n",
              " '-',\n",
              " 'back',\n",
              " 'patients',\n",
              " 'from',\n",
              " 'i',\n",
              " 'this',\n",
              " 'cramps',\n",
              " 'not',\n",
              " 'joint',\n",
              " 'upper',\n",
              " 'gas',\n",
              " 'drug',\n",
              " 'memory',\n",
              " 'mg',\n",
              " 'you',\n",
              " 'all',\n",
              " 'leg',\n",
              " 'pains',\n",
              " 'legs',\n",
              " 'headache',\n",
              " 'be',\n",
              " 'group',\n",
              " 'knee',\n",
              " 'are',\n",
              " 'unable',\n",
              " 'shoulder',\n",
              " 'study',\n",
              " 'arthralgia',\n",
              " 'treatment',\n",
              " 'gastrointestinal',\n",
              " 'neck',\n",
              " 'excessive',\n",
              " 'foot',\n",
              " 'it',\n",
              " 'after',\n",
              " 'arthritis',\n",
              " 'aches',\n",
              " 'an',\n",
              " 'amp',\n",
              " 'have',\n",
              " 'hip',\n",
              " 'like',\n",
              " 'numbness',\n",
              " 'voltaren',\n",
              " 'release',\n",
              " 'arthrotec',\n",
              " 'p',\n",
              " 'insomnia',\n",
              " 'bleeding',\n",
              " 'nausea',\n",
              " 'both',\n",
              " 'no',\n",
              " 'increased',\n",
              " '/',\n",
              " 'time',\n",
              " 'can',\n",
              " 'asthenia',\n",
              " 'swelling',\n",
              " 'gluten',\n",
              " 'heart',\n",
              " 'tired',\n",
              " 'skin',\n",
              " 'walk',\n",
              " 'abdominal',\n",
              " 'dizziness',\n",
              " 'feeling',\n",
              " 'could',\n",
              " 'than',\n",
              " 'problems',\n",
              " 'blood',\n",
              " 'high',\n",
              " 'walking',\n",
              " 'difficulty',\n",
              " 'out',\n",
              " 'up',\n",
              " 'hand',\n",
              " 'feet',\n",
              " 'chest',\n",
              " 'effect',\n",
              " 'we',\n",
              " 'more',\n",
              " 'muscles',\n",
              " 'cholesterol',\n",
              " 'new',\n",
              " 'free',\n",
              " 'backache',\n",
              " 'low',\n",
              " 'hair',\n",
              " 'acid',\n",
              " 'extreme',\n",
              " 'stiffness',\n",
              " 'vision',\n",
              " 'ache',\n",
              " 'burning',\n",
              " 'very',\n",
              " 'compared',\n",
              " 'zocor',\n",
              " 'using',\n",
              " 'inflammatory',\n",
              " 'weight',\n",
              " 'groups',\n",
              " 'liver',\n",
              " 'sleep',\n",
              " 'your',\n",
              " 'effects',\n",
              " 'between',\n",
              " 'pins',\n",
              " 'needles',\n",
              " 'has',\n",
              " 'diarrhoea',\n",
              " 'day',\n",
              " 'right',\n",
              " 'about',\n",
              " 'two',\n",
              " 'cramping',\n",
              " 'amnesia',\n",
              " 'our',\n",
              " 'its',\n",
              " 'significantly',\n",
              " 'impairment',\n",
              " 'significant',\n",
              " 'use',\n",
              " 'left',\n",
              " 'short',\n",
              " 'concentration',\n",
              " 'potassium',\n",
              " 'term',\n",
              " 'these',\n",
              " 'h',\n",
              " 'c',\n",
              " 'but',\n",
              " 'which',\n",
              " 'calf',\n",
              " 'disability',\n",
              " 'drugs',\n",
              " 'one',\n",
              " 'anti',\n",
              " 'do',\n",
              " 'had',\n",
              " 'anxiety',\n",
              " 'used',\n",
              " 'symptom',\n",
              " 'pressure',\n",
              " 'tingling',\n",
              " 'lack',\n",
              " 'nt',\n",
              " 'also',\n",
              " 'dose',\n",
              " 'stiff',\n",
              " 'constipation',\n",
              " 'bloating',\n",
              " 's',\n",
              " 'results',\n",
              " 'placebo',\n",
              " 'when',\n",
              " 'poor',\n",
              " 'what',\n",
              " 'glutenfree',\n",
              " 'disorder',\n",
              " 'over',\n",
              " 'efficacy',\n",
              " 'days',\n",
              " 'body',\n",
              " 'so',\n",
              " 'may',\n",
              " 'hands',\n",
              " 'there',\n",
              " 'celiac',\n",
              " 'arm',\n",
              " 'reduced',\n",
              " 'headaches',\n",
              " 'neuropathy',\n",
              " 'been',\n",
              " 'acute',\n",
              " 'ds',\n",
              " 'm',\n",
              " 'arms',\n",
              " 'get',\n",
              " 'sore',\n",
              " 'ankle',\n",
              " 'treated',\n",
              " 'blurred',\n",
              " 'balance',\n",
              " 'now',\n",
              " 'showed',\n",
              " 'well',\n",
              " 'joints',\n",
              " 'visual',\n",
              " 'ml',\n",
              " 'w',\n",
              " 'different',\n",
              " 'tiredness',\n",
              " 'food',\n",
              " 'symptoms',\n",
              " 'topical',\n",
              " 'myocardial',\n",
              " 'serum',\n",
              " 'sensation',\n",
              " 'into',\n",
              " 'products',\n",
              " 'infarction',\n",
              " 'control',\n",
              " 'renal',\n",
              " 'oral',\n",
              " 'their',\n",
              " 'administration',\n",
              " 'vaginal',\n",
              " 'pravachol',\n",
              " 'studies',\n",
              " 'rash',\n",
              " 'myositis',\n",
              " 'rats',\n",
              " 'non',\n",
              " 'hurt',\n",
              " 'mentally',\n",
              " 'how',\n",
              " 'swollen',\n",
              " 'painful',\n",
              " 'during',\n",
              " 'test',\n",
              " 'diabetes',\n",
              " 'rate',\n",
              " 'via',\n",
              " 'generalised',\n",
              " 'atorvastatin',\n",
              " 'damage',\n",
              " 'energy',\n",
              " 'if',\n",
              " 'atrophy',\n",
              " 'itching',\n",
              " 'who',\n",
              " 'found',\n",
              " 'other',\n",
              " 'clinical',\n",
              " \"'s\",\n",
              " 'induced',\n",
              " 'first',\n",
              " 'upset',\n",
              " 'ubidecarenone',\n",
              " 'vertigo',\n",
              " 'constant',\n",
              " 'decreased',\n",
              " ')',\n",
              " 'respectively',\n",
              " 'attack',\n",
              " 'did',\n",
              " 'formulation',\n",
              " 'formulations',\n",
              " 'diarrhea',\n",
              " 'tablets',\n",
              " ',',\n",
              " 'ph',\n",
              " 'gain',\n",
              " 'type',\n",
              " 'post',\n",
              " 'levels',\n",
              " 'period',\n",
              " 'method',\n",
              " 'illness',\n",
              " 'syndrome',\n",
              " 'effective',\n",
              " 'mean',\n",
              " 'gel',\n",
              " 'hours',\n",
              " 'diet',\n",
              " 'g',\n",
              " 'me',\n",
              " 'chronic',\n",
              " 'influenza',\n",
              " 'plasma',\n",
              " 'nsaids',\n",
              " 'dull',\n",
              " \"n't\",\n",
              " 'raised',\n",
              " 'n',\n",
              " '(',\n",
              " 'solution',\n",
              " 'feel',\n",
              " 'three',\n",
              " 'observed',\n",
              " 'review',\n",
              " 'urine',\n",
              " 'those',\n",
              " 'dry',\n",
              " 'eye',\n",
              " 'weak',\n",
              " 'd',\n",
              " 'elevated',\n",
              " 'received',\n",
              " 'shoulders',\n",
              " 'discomfort',\n",
              " 'tendonitis',\n",
              " 'movement',\n",
              " 'spasm',\n",
              " 'hazy',\n",
              " 'tip',\n",
              " 'only',\n",
              " 'tablet',\n",
              " 'side',\n",
              " 'less',\n",
              " 'elbow',\n",
              " 'present',\n",
              " 'abnormal',\n",
              " 'sleeping',\n",
              " 'bad',\n",
              " 'ibuprofen',\n",
              " 'some',\n",
              " 'each',\n",
              " 'week',\n",
              " 'increase',\n",
              " 'analysis',\n",
              " 'heavy',\n",
              " 'controlled',\n",
              " 'analgesic',\n",
              " 'kg',\n",
              " 'level',\n",
              " 'crestor',\n",
              " 'kidney',\n",
              " 'system',\n",
              " 'data',\n",
              " 'vomiting',\n",
              " 'they',\n",
              " 'spasms',\n",
              " 'migraine',\n",
              " 'daily',\n",
              " 'exhaustion',\n",
              " 'vitro',\n",
              " 'knees',\n",
              " 'just',\n",
              " 'toe',\n",
              " 'irritable',\n",
              " 'activity',\n",
              " 'bed',\n",
              " 'before',\n",
              " 'most',\n",
              " 'dblclick',\n",
              " 'reflux',\n",
              " 'myopathy',\n",
              " 'function',\n",
              " 'adverse',\n",
              " 'inflammation',\n",
              " 'following',\n",
              " 'l',\n",
              " 'patient',\n",
              " 'problem',\n",
              " 'concentrate',\n",
              " 'pic',\n",
              " 'libido',\n",
              " 'brain',\n",
              " 'why',\n",
              " 'sclerosis',\n",
              " 'ca',\n",
              " 'total',\n",
              " 'randomized',\n",
              " 'thigh',\n",
              " 'multiple',\n",
              " 'flatulence',\n",
              " 'weeks',\n",
              " 'single',\n",
              " 'mood',\n",
              " 'good',\n",
              " 'however',\n",
              " 'injury',\n",
              " 'model',\n",
              " 'think',\n",
              " 'b',\n",
              " 'similar',\n",
              " 'cold',\n",
              " 'throat',\n",
              " 'mellitus',\n",
              " 'obtained',\n",
              " 'mild',\n",
              " 'concentrations',\n",
              " 'fibromyalgia',\n",
              " 'know',\n",
              " 'off',\n",
              " 'under',\n",
              " 'years',\n",
              " 'flu',\n",
              " 'surgery',\n",
              " 't',\n",
              " 'will',\n",
              " 'menstrual',\n",
              " 'while',\n",
              " 'therapy',\n",
              " 'here',\n",
              " 'evaluated',\n",
              " 'based',\n",
              " 'water',\n",
              " 'difference',\n",
              " 'higher',\n",
              " 'changes',\n",
              " 'nsaid',\n",
              " 'head',\n",
              " 'lightheadedness',\n",
              " 'double',\n",
              " 'healthy',\n",
              " 'due',\n",
              " 'cell',\n",
              " 'cells',\n",
              " 'malaise',\n",
              " 'dissolution',\n",
              " 'eyes',\n",
              " 'simvastatin',\n",
              " 'any',\n",
              " 'osteoarthritis',\n",
              " 'check',\n",
              " 'sweating',\n",
              " 'peripheral',\n",
              " 'failure',\n",
              " 'confusion',\n",
              " 'should',\n",
              " 'postoperative',\n",
              " 'hips',\n",
              " 'relief',\n",
              " 'studied',\n",
              " 'disturbance',\n",
              " 'blind',\n",
              " 'associated',\n",
              " 'times',\n",
              " 'being',\n",
              " 'help',\n",
              " 'min',\n",
              " 'order',\n",
              " 'area',\n",
              " 'administered',\n",
              " 'life',\n",
              " 'intolerance',\n",
              " 'application',\n",
              " 'vs',\n",
              " 'oil',\n",
              " 'trial',\n",
              " 'combination',\n",
              " 'esters',\n",
              " 'appetite',\n",
              " 'tremor',\n",
              " 'general',\n",
              " 'impaired',\n",
              " 'calves',\n",
              " 'prepared',\n",
              " 'wind',\n",
              " 'tinnitus',\n",
              " 'eat',\n",
              " 'doses',\n",
              " 'toes',\n",
              " 'love',\n",
              " 'e',\n",
              " 'given',\n",
              " 'rheumatoid',\n",
              " 'conditions',\n",
              " 'swings',\n",
              " 'four',\n",
              " 'stairs',\n",
              " 'gastric',\n",
              " 'soreness',\n",
              " 'aching',\n",
              " 'performed',\n",
              " 'infection',\n",
              " 'such',\n",
              " 'make',\n",
              " 'night',\n",
              " 'need',\n",
              " 'without',\n",
              " 'investigated',\n",
              " 'celebrex',\n",
              " 'developed',\n",
              " 'response',\n",
              " 'either',\n",
              " 'through',\n",
              " 'great',\n",
              " 're',\n",
              " 'better',\n",
              " 'paraesthesia',\n",
              " 'swallowing',\n",
              " 'coated',\n",
              " 'face',\n",
              " 'nonsteroidal',\n",
              " 'us',\n",
              " 'values',\n",
              " 'ezetimibe',\n",
              " 'parkinson',\n",
              " 'stress',\n",
              " 'absorption',\n",
              " 'ascorbic',\n",
              " 'finger',\n",
              " 'going',\n",
              " '1',\n",
              " 'sensitivity',\n",
              " 'rapid',\n",
              " 'differences',\n",
              " 'change',\n",
              " 'reduction',\n",
              " 'events',\n",
              " 'down',\n",
              " 'phase',\n",
              " 'reported',\n",
              " 'tendon',\n",
              " 'cough',\n",
              " 'intense',\n",
              " 'safety',\n",
              " 'heel',\n",
              " 'subjects',\n",
              " 'lateral',\n",
              " 'posted',\n",
              " 'ankles',\n",
              " 'does',\n",
              " 'urinary',\n",
              " 'vitamin',\n",
              " 'paracetamol',\n",
              " 'charleyhorse',\n",
              " 'hot',\n",
              " 'x',\n",
              " 'lupus',\n",
              " 'dark',\n",
              " 'strength',\n",
              " '2',\n",
              " 'motivation',\n",
              " 'range',\n",
              " 'show',\n",
              " 'measured',\n",
              " 'palpitations',\n",
              " 'containing',\n",
              " 'potential',\n",
              " 'felt',\n",
              " '30',\n",
              " 'thanks',\n",
              " 'parameters',\n",
              " 'enzymes',\n",
              " 'assessed',\n",
              " 'dyspnoea',\n",
              " 'properties',\n",
              " 'excruciating',\n",
              " 'restless',\n",
              " 'gfb',\n",
              " 'mm',\n",
              " 'within',\n",
              " 'depressed',\n",
              " 'samples',\n",
              " 'v',\n",
              " 'always',\n",
              " 'size',\n",
              " 'recipe',\n",
              " 'minutes',\n",
              " 'indomethacin',\n",
              " 'included',\n",
              " 'risk',\n",
              " 'delivery',\n",
              " 'fingers',\n",
              " 'ratio',\n",
              " 'getting',\n",
              " 'indigestion',\n",
              " 'menopause',\n",
              " 'liquid',\n",
              " 'related',\n",
              " 'number',\n",
              " 'every',\n",
              " 'active',\n",
              " 'nerve',\n",
              " 'heres',\n",
              " 'steroidal',\n",
              " 'then',\n",
              " 'long',\n",
              " 'twitch',\n",
              " 'evaluate',\n",
              " 'speech',\n",
              " 'major',\n",
              " 'much',\n",
              " 'determined',\n",
              " 'advil',\n",
              " 'injection',\n",
              " 'gout',\n",
              " 'form',\n",
              " 'taste',\n",
              " 'reaction',\n",
              " 'ulcer',\n",
              " 'k',\n",
              " 'auc',\n",
              " 'people',\n",
              " 'wrist',\n",
              " 'decrease',\n",
              " 'jennieo',\n",
              " 'clearly',\n",
              " 'oa',\n",
              " 'drowsy',\n",
              " 'development',\n",
              " 'vivo',\n",
              " 'compare',\n",
              " 'fish',\n",
              " 'read',\n",
              " 'living',\n",
              " 'ii',\n",
              " 'therapeutic',\n",
              " 'applied',\n",
              " 'tightness',\n",
              " 'ability',\n",
              " 'statistically',\n",
              " 'edema',\n",
              " 'best',\n",
              " 'co',\n",
              " 'limbs',\n",
              " 'bone',\n",
              " 'bioavailability',\n",
              " 'tolerability',\n",
              " 'tips',\n",
              " 'light',\n",
              " 'dreams',\n",
              " 'misoprostol',\n",
              " 'scores',\n",
              " 'terrible',\n",
              " '\\r \\n ',\n",
              " 'scale',\n",
              " 'moderate',\n",
              " 'tissue',\n",
              " 'overall',\n",
              " 'provoked',\n",
              " 'available',\n",
              " 'big',\n",
              " 'baseline',\n",
              " 'sustained',\n",
              " 'year',\n",
              " 'fever',\n",
              " 'primary',\n",
              " 'matrix',\n",
              " '3',\n",
              " 'greater',\n",
              " 'fenofibrate',\n",
              " 'made',\n",
              " 'medication',\n",
              " 'normal',\n",
              " 'many',\n",
              " 'colic',\n",
              " 'bowel',\n",
              " 'aqueous',\n",
              " 'heartburn',\n",
              " 'even',\n",
              " 'health',\n",
              " 'na',\n",
              " 'dependent',\n",
              " 'because',\n",
              " 'same',\n",
              " 'sinus',\n",
              " 'go',\n",
              " 'breathing',\n",
              " 'various',\n",
              " 'trouble',\n",
              " 'mobility',\n",
              " 'process',\n",
              " 'addition',\n",
              " '10',\n",
              " 'cancer',\n",
              " 'creatinine',\n",
              " 'ng',\n",
              " 'months',\n",
              " 'polymer',\n",
              " 'human',\n",
              " 'archives',\n",
              " 'revealed',\n",
              " 'finding',\n",
              " 'move',\n",
              " 'news',\n",
              " 'cox',\n",
              " 'exercise',\n",
              " 'twitching',\n",
              " 'tested',\n",
              " 'amyotrophic',\n",
              " 'fog',\n",
              " 'article',\n",
              " 'end',\n",
              " 'dosage',\n",
              " 'hypertension',\n",
              " 'nasal',\n",
              " 'mouth',\n",
              " 'breath',\n",
              " 'attacks',\n",
              " 'find',\n",
              " 'would',\n",
              " 'tight',\n",
              " 'action',\n",
              " 'chicken',\n",
              " 'demonstrated',\n",
              " 'tract',\n",
              " 'important',\n",
              " 'per',\n",
              " 'inhibition',\n",
              " 'safe',\n",
              " 'caused',\n",
              " 'content',\n",
              " 'uterine',\n",
              " 'tylenol',\n",
              " 'aim',\n",
              " 'aspirin',\n",
              " 'aleve',\n",
              " 'treatments',\n",
              " 'presence',\n",
              " 'thighs',\n",
              " 'intensity',\n",
              " 'horses',\n",
              " 'protein',\n",
              " 'coq10',\n",
              " 'hour',\n",
              " 'sugar',\n",
              " 'o',\n",
              " 'sharp',\n",
              " 'common',\n",
              " 'agent',\n",
              " 'month',\n",
              " 'male',\n",
              " 'age',\n",
              " 'followed',\n",
              " 'formation',\n",
              " 'way',\n",
              " 'further',\n",
              " 'lost',\n",
              " 'trials',\n",
              " 'six',\n",
              " 'plantar',\n",
              " 'cm',\n",
              " 'follow',\n",
              " 'inhibitor',\n",
              " 'tolerated',\n",
              " 'today',\n",
              " 'where',\n",
              " 'indicated',\n",
              " 'take',\n",
              " 'alpha',\n",
              " 'lethargy',\n",
              " 'diagnosis',\n",
              " 'want',\n",
              " 'sick',\n",
              " 'alone',\n",
              " 'surface',\n",
              " 'initial',\n",
              " '5',\n",
              " 'including',\n",
              " 'conducted',\n",
              " 'case',\n",
              " 'elbows',\n",
              " 'suggest',\n",
              " 'local',\n",
              " 'cerebrovascular',\n",
              " 'product',\n",
              " 'volunteers',\n",
              " 'agents',\n",
              " 'complex',\n",
              " 'although',\n",
              " 'animals',\n",
              " 'divided',\n",
              " 'physical',\n",
              " 'mechanism',\n",
              " 'accident',\n",
              " 'fast',\n",
              " 'tolerance',\n",
              " 'mice',\n",
              " 'provide',\n",
              " 'generally',\n",
              " 'too',\n",
              " 'charley',\n",
              " 'natural',\n",
              " 'sensitive',\n",
              " 'care',\n",
              " 'whereas',\n",
              " 'randomly',\n",
              " 'th',\n",
              " 'ever',\n",
              " 'pulse',\n",
              " 'awareness',\n",
              " 'onset',\n",
              " 'issues',\n",
              " 'facial',\n",
              " 'score',\n",
              " 'shown',\n",
              " 'profile',\n",
              " 'exposure',\n",
              " 'improvement',\n",
              " 'numb',\n",
              " 'old',\n",
              " 'moody',\n",
              " 'growth',\n",
              " 'standard',\n",
              " 'rat',\n",
              " 'part',\n",
              " 'pharmaceutical',\n",
              " 'happy',\n",
              " 'microspheres',\n",
              " 'cd',\n",
              " 'mental',\n",
              " 'tricor',\n",
              " 'permeation',\n",
              " 'intestinal',\n",
              " '+',\n",
              " 'experimental',\n",
              " 'congestion',\n",
              " 'cases',\n",
              " 'loose',\n",
              " 'amount',\n",
              " 'liptor',\n",
              " 'morning',\n",
              " 'thoughts',\n",
              " 'extremity',\n",
              " 'nervous',\n",
              " '\\r \\n \\r \\n ',\n",
              " 'coronary',\n",
              " 'things',\n",
              " 'r',\n",
              " 'fatigued',\n",
              " 'difficult',\n",
              " 'still',\n",
              " 'periods',\n",
              " 'eating',\n",
              " 'diagnosed',\n",
              " 'hard',\n",
              " 'pre',\n",
              " 'panic',\n",
              " 'looks',\n",
              " 'hardly',\n",
              " 'among',\n",
              " 'evidence',\n",
              " 'deep',\n",
              " 'malignant',\n",
              " 'ms',\n",
              " 'share',\n",
              " '4',\n",
              " 'f',\n",
              " 'around',\n",
              " 'frequent',\n",
              " 'please',\n",
              " 'barely',\n",
              " 'systemic',\n",
              " 'oedema',\n",
              " 'determine',\n",
              " 'pizza',\n",
              " 'cause',\n",
              " 'sex',\n",
              " 'least',\n",
              " 'ringing',\n",
              " 'profiles',\n",
              " 'resulted',\n",
              " 'vehicle',\n",
              " 'against',\n",
              " 'evaluation',\n",
              " 'degrees',\n",
              " 'calcium',\n",
              " 'improved',\n",
              " 'plus',\n",
              " 'versus',\n",
              " 'rhabdomyolysis',\n",
              " 'vas',\n",
              " 'started',\n",
              " 'secondary',\n",
              " 'fluid',\n",
              " 'global',\n",
              " 'peak',\n",
              " 'irregular',\n",
              " 'once',\n",
              " 'slurred',\n",
              " 'work',\n",
              " 'carried',\n",
              " 'naproxen',\n",
              " 'relative',\n",
              " 'ldl',\n",
              " 'enteric',\n",
              " 'top',\n",
              " 'gi',\n",
              " 'ear',\n",
              " 'super',\n",
              " 'complete',\n",
              " 'affected',\n",
              " 'research',\n",
              " 'shortness',\n",
              " 'combined',\n",
              " 'quality',\n",
              " 'produced',\n",
              " 'fasciitis',\n",
              " 'reference',\n",
              " 'drive',\n",
              " 'extremely',\n",
              " 'lesions',\n",
              " 'synthesis',\n",
              " 'participants',\n",
              " 'scalp',\n",
              " 'increasing',\n",
              " 'duration',\n",
              " 'easy',\n",
              " 'prednisone',\n",
              " 'zetia',\n",
              " 'see',\n",
              " 'according',\n",
              " 'u',\n",
              " 'assessment',\n",
              " 'commercial',\n",
              " 'five',\n",
              " 'ethyl',\n",
              " 'specific',\n",
              " 'able',\n",
              " 'pruritus',\n",
              " 'linked',\n",
              " 'technique',\n",
              " 'corneal',\n",
              " 'rofecoxib',\n",
              " 'neurontin',\n",
              " 'strain',\n",
              " 'density',\n",
              " 'cross',\n",
              " 'tests',\n",
              " 'thus',\n",
              " 'norvasc',\n",
              " 'preparation',\n",
              " 'patch',\n",
              " 'got',\n",
              " 'solid',\n",
              " 'bp',\n",
              " 'dizzy',\n",
              " 'state',\n",
              " 'cataract',\n",
              " 'asthma',\n",
              " 'might',\n",
              " 'blog',\n",
              " 'support',\n",
              " 'production',\n",
              " 'extent',\n",
              " 'achilles',\n",
              " 'achieved',\n",
              " 'needed',\n",
              " 'central',\n",
              " 'microg',\n",
              " 'hypersomnia',\n",
              " 'analgesia',\n",
              " 'film',\n",
              " 'allergic',\n",
              " 'dr',\n",
              " 'tension',\n",
              " 'models',\n",
              " 'als',\n",
              " 'maximum',\n",
              " 'comparable',\n",
              " 'flow',\n",
              " 'hunger',\n",
              " 'rates',\n",
              " 'dysfunction',\n",
              " 'temperature',\n",
              " 'hepatic',\n",
              " 'third',\n",
              " 'efficiency',\n",
              " 'itchy',\n",
              " 'little',\n",
              " 'mass',\n",
              " 'erythematosus',\n",
              " 'pharmacokinetic',\n",
              " 'whole',\n",
              " 'region',\n",
              " 'medium',\n",
              " 'sensations',\n",
              " 'gf',\n",
              " 'medications',\n",
              " 'eczema',\n",
              " 'possible',\n",
              " ...]"
            ]
          },
          "metadata": {
            "tags": []
          },
          "execution_count": 18
        }
      ]
    },
    {
      "cell_type": "code",
      "metadata": {
        "id": "yPWr03mls3VT",
        "outputId": "bf7d4d38-9bf3-486a-f49c-3b3fc0a04e09",
        "colab": {
          "base_uri": "https://localhost:8080/",
          "height": 17
        }
      },
      "source": [
        "model_path = path/'models'\n",
        "model_path.mkdir(exist_ok=True)\n",
        "url = 'http://files.fast.ai/models/wt103_v1/'\n",
        "download_url(f'{url}lstm_wt103.pth', model_path/'lstm_wt103.pth')\n",
        "download_url(f'{url}itos_wt103.pkl', model_path/'itos_wt103.pkl')"
      ],
      "execution_count": 19,
      "outputs": [
        {
          "output_type": "display_data",
          "data": {
            "text/html": [
              ""
            ],
            "text/plain": [
              "<IPython.core.display.HTML object>"
            ]
          },
          "metadata": {
            "tags": []
          }
        },
        {
          "output_type": "display_data",
          "data": {
            "text/html": [
              ""
            ],
            "text/plain": [
              "<IPython.core.display.HTML object>"
            ]
          },
          "metadata": {
            "tags": []
          }
        }
      ]
    },
    {
      "cell_type": "code",
      "metadata": {
        "id": "JRzvWg8RtGGr",
        "outputId": "098596e9-8d19-4a8d-f841-0691126ce105",
        "colab": {
          "base_uri": "https://localhost:8080/",
          "height": 34
        }
      },
      "source": [
        "learn = language_model_learner(data_lm, AWD_LSTM, drop_mult=0.5)"
      ],
      "execution_count": 20,
      "outputs": [
        {
          "output_type": "stream",
          "text": [
            "Downloading https://s3.amazonaws.com/fast-ai-modelzoo/wt103-fwd.tgz\n"
          ],
          "name": "stdout"
        },
        {
          "output_type": "display_data",
          "data": {
            "text/html": [
              ""
            ],
            "text/plain": [
              "<IPython.core.display.HTML object>"
            ]
          },
          "metadata": {
            "tags": []
          }
        }
      ]
    },
    {
      "cell_type": "code",
      "metadata": {
        "id": "xKK7GeBev7Xn",
        "outputId": "555d208c-f7d3-42d2-98f0-0876cd403279",
        "colab": {
          "base_uri": "https://localhost:8080/",
          "height": 80
        }
      },
      "source": [
        "learn.fit_one_cycle(1, 1e-2)"
      ],
      "execution_count": 21,
      "outputs": [
        {
          "output_type": "display_data",
          "data": {
            "text/html": [
              "<table border=\"1\" class=\"dataframe\">\n",
              "  <thead>\n",
              "    <tr style=\"text-align: left;\">\n",
              "      <th>epoch</th>\n",
              "      <th>train_loss</th>\n",
              "      <th>valid_loss</th>\n",
              "      <th>accuracy</th>\n",
              "      <th>time</th>\n",
              "    </tr>\n",
              "  </thead>\n",
              "  <tbody>\n",
              "    <tr>\n",
              "      <td>0</td>\n",
              "      <td>3.846634</td>\n",
              "      <td>3.475816</td>\n",
              "      <td>0.442893</td>\n",
              "      <td>36:39</td>\n",
              "    </tr>\n",
              "  </tbody>\n",
              "</table>"
            ],
            "text/plain": [
              "<IPython.core.display.HTML object>"
            ]
          },
          "metadata": {
            "tags": []
          }
        }
      ]
    },
    {
      "cell_type": "code",
      "metadata": {
        "id": "iB7rHGQCwd12"
      },
      "source": [
        "# learn.fit_one_cycle(1, 1e-2)"
      ],
      "execution_count": 22,
      "outputs": []
    },
    {
      "cell_type": "code",
      "metadata": {
        "id": "_BnSuAeCwkBe"
      },
      "source": [
        "# learn.fit_one_cycle(1, 1e-3)"
      ],
      "execution_count": 23,
      "outputs": []
    },
    {
      "cell_type": "code",
      "metadata": {
        "id": "MuTm-RFjwrEX",
        "outputId": "4187ad3a-e4e4-4008-f665-89720b334ed4",
        "colab": {
          "base_uri": "https://localhost:8080/",
          "height": 80
        }
      },
      "source": [
        "learn.fit_one_cycle(1, 1e-3)"
      ],
      "execution_count": 24,
      "outputs": [
        {
          "output_type": "display_data",
          "data": {
            "text/html": [
              "<table border=\"1\" class=\"dataframe\">\n",
              "  <thead>\n",
              "    <tr style=\"text-align: left;\">\n",
              "      <th>epoch</th>\n",
              "      <th>train_loss</th>\n",
              "      <th>valid_loss</th>\n",
              "      <th>accuracy</th>\n",
              "      <th>time</th>\n",
              "    </tr>\n",
              "  </thead>\n",
              "  <tbody>\n",
              "    <tr>\n",
              "      <td>0</td>\n",
              "      <td>3.520233</td>\n",
              "      <td>3.415671</td>\n",
              "      <td>0.448594</td>\n",
              "      <td>36:47</td>\n",
              "    </tr>\n",
              "  </tbody>\n",
              "</table>"
            ],
            "text/plain": [
              "<IPython.core.display.HTML object>"
            ]
          },
          "metadata": {
            "tags": []
          }
        }
      ]
    },
    {
      "cell_type": "code",
      "metadata": {
        "id": "1Er2ExO8wr7Y"
      },
      "source": [
        "learn.save_encoder('pubmed_cadec_askpatient_mixed_fold3_first')"
      ],
      "execution_count": 25,
      "outputs": []
    },
    {
      "cell_type": "code",
      "metadata": {
        "id": "z52cZs2qwvad",
        "outputId": "226115e5-0581-4ec7-8bc5-ca09b1bb7c93",
        "colab": {
          "base_uri": "https://localhost:8080/",
          "height": 80
        }
      },
      "source": [
        "learn = text_classifier_learner(data_clas,AWD_LSTM, drop_mult=0.5)\n",
        "learn.load_encoder('pubmed_cadec_askpatient_mixed_fold3_first')\n",
        "learn.fit_one_cycle(1, 1e-2)"
      ],
      "execution_count": 26,
      "outputs": [
        {
          "output_type": "display_data",
          "data": {
            "text/html": [
              "<table border=\"1\" class=\"dataframe\">\n",
              "  <thead>\n",
              "    <tr style=\"text-align: left;\">\n",
              "      <th>epoch</th>\n",
              "      <th>train_loss</th>\n",
              "      <th>valid_loss</th>\n",
              "      <th>accuracy</th>\n",
              "      <th>time</th>\n",
              "    </tr>\n",
              "  </thead>\n",
              "  <tbody>\n",
              "    <tr>\n",
              "      <td>0</td>\n",
              "      <td>4.018561</td>\n",
              "      <td>3.653425</td>\n",
              "      <td>0.361323</td>\n",
              "      <td>01:11</td>\n",
              "    </tr>\n",
              "  </tbody>\n",
              "</table>"
            ],
            "text/plain": [
              "<IPython.core.display.HTML object>"
            ]
          },
          "metadata": {
            "tags": []
          }
        }
      ]
    },
    {
      "cell_type": "code",
      "metadata": {
        "id": "ImwQP1PJwzxd",
        "outputId": "8d413f3f-a9d7-461a-9343-3cee11d0d64a",
        "colab": {
          "base_uri": "https://localhost:8080/",
          "height": 80
        }
      },
      "source": [
        "learn.freeze_to(-2)\n",
        "learn.fit_one_cycle(1, slice(5e-3/2., 5e-3))"
      ],
      "execution_count": 27,
      "outputs": [
        {
          "output_type": "display_data",
          "data": {
            "text/html": [
              "<table border=\"1\" class=\"dataframe\">\n",
              "  <thead>\n",
              "    <tr style=\"text-align: left;\">\n",
              "      <th>epoch</th>\n",
              "      <th>train_loss</th>\n",
              "      <th>valid_loss</th>\n",
              "      <th>accuracy</th>\n",
              "      <th>time</th>\n",
              "    </tr>\n",
              "  </thead>\n",
              "  <tbody>\n",
              "    <tr>\n",
              "      <td>0</td>\n",
              "      <td>2.968907</td>\n",
              "      <td>3.098592</td>\n",
              "      <td>0.460560</td>\n",
              "      <td>01:20</td>\n",
              "    </tr>\n",
              "  </tbody>\n",
              "</table>"
            ],
            "text/plain": [
              "<IPython.core.display.HTML object>"
            ]
          },
          "metadata": {
            "tags": []
          }
        }
      ]
    },
    {
      "cell_type": "code",
      "metadata": {
        "id": "Owff_BJXw53u",
        "outputId": "7e53fe78-b325-4df9-8bda-b98728d61f5e",
        "colab": {
          "base_uri": "https://localhost:8080/",
          "height": 80
        }
      },
      "source": [
        "learn.unfreeze()\n",
        "learn.fit_one_cycle(1, slice(2e-3/100, 2e-3))"
      ],
      "execution_count": 28,
      "outputs": [
        {
          "output_type": "display_data",
          "data": {
            "text/html": [
              "<table border=\"1\" class=\"dataframe\">\n",
              "  <thead>\n",
              "    <tr style=\"text-align: left;\">\n",
              "      <th>epoch</th>\n",
              "      <th>train_loss</th>\n",
              "      <th>valid_loss</th>\n",
              "      <th>accuracy</th>\n",
              "      <th>time</th>\n",
              "    </tr>\n",
              "  </thead>\n",
              "  <tbody>\n",
              "    <tr>\n",
              "      <td>0</td>\n",
              "      <td>2.223385</td>\n",
              "      <td>2.583523</td>\n",
              "      <td>0.555980</td>\n",
              "      <td>03:28</td>\n",
              "    </tr>\n",
              "  </tbody>\n",
              "</table>"
            ],
            "text/plain": [
              "<IPython.core.display.HTML object>"
            ]
          },
          "metadata": {
            "tags": []
          }
        }
      ]
    },
    {
      "cell_type": "code",
      "metadata": {
        "id": "lqAyu56V8Waq",
        "outputId": "545642e4-7327-4eaa-a69a-a497f1b442a0",
        "colab": {
          "base_uri": "https://localhost:8080/",
          "height": 111
        }
      },
      "source": [
        "learn.fit_one_cycle(2, slice(2e-3/100, 2e-3))"
      ],
      "execution_count": 29,
      "outputs": [
        {
          "output_type": "display_data",
          "data": {
            "text/html": [
              "<table border=\"1\" class=\"dataframe\">\n",
              "  <thead>\n",
              "    <tr style=\"text-align: left;\">\n",
              "      <th>epoch</th>\n",
              "      <th>train_loss</th>\n",
              "      <th>valid_loss</th>\n",
              "      <th>accuracy</th>\n",
              "      <th>time</th>\n",
              "    </tr>\n",
              "  </thead>\n",
              "  <tbody>\n",
              "    <tr>\n",
              "      <td>0</td>\n",
              "      <td>1.877887</td>\n",
              "      <td>2.230827</td>\n",
              "      <td>0.623410</td>\n",
              "      <td>03:37</td>\n",
              "    </tr>\n",
              "    <tr>\n",
              "      <td>1</td>\n",
              "      <td>1.641487</td>\n",
              "      <td>2.068495</td>\n",
              "      <td>0.643766</td>\n",
              "      <td>03:34</td>\n",
              "    </tr>\n",
              "  </tbody>\n",
              "</table>"
            ],
            "text/plain": [
              "<IPython.core.display.HTML object>"
            ]
          },
          "metadata": {
            "tags": []
          }
        }
      ]
    },
    {
      "cell_type": "code",
      "metadata": {
        "id": "a7I1xMRp8bUd",
        "outputId": "2f98d745-39c4-401a-d314-1cef63a97253",
        "colab": {
          "base_uri": "https://localhost:8080/",
          "height": 111
        }
      },
      "source": [
        "learn.fit_one_cycle(2, slice(2e-3/100, 2e-3))"
      ],
      "execution_count": 30,
      "outputs": [
        {
          "output_type": "display_data",
          "data": {
            "text/html": [
              "<table border=\"1\" class=\"dataframe\">\n",
              "  <thead>\n",
              "    <tr style=\"text-align: left;\">\n",
              "      <th>epoch</th>\n",
              "      <th>train_loss</th>\n",
              "      <th>valid_loss</th>\n",
              "      <th>accuracy</th>\n",
              "      <th>time</th>\n",
              "    </tr>\n",
              "  </thead>\n",
              "  <tbody>\n",
              "    <tr>\n",
              "      <td>0</td>\n",
              "      <td>1.461735</td>\n",
              "      <td>1.871609</td>\n",
              "      <td>0.678117</td>\n",
              "      <td>03:17</td>\n",
              "    </tr>\n",
              "    <tr>\n",
              "      <td>1</td>\n",
              "      <td>1.300169</td>\n",
              "      <td>1.776675</td>\n",
              "      <td>0.687023</td>\n",
              "      <td>03:43</td>\n",
              "    </tr>\n",
              "  </tbody>\n",
              "</table>"
            ],
            "text/plain": [
              "<IPython.core.display.HTML object>"
            ]
          },
          "metadata": {
            "tags": []
          }
        }
      ]
    },
    {
      "cell_type": "code",
      "metadata": {
        "id": "UAnti-XmGVfO",
        "outputId": "d7dc11fa-df1d-49aa-c2b7-4eddb1ace59e",
        "colab": {
          "base_uri": "https://localhost:8080/",
          "height": 111
        }
      },
      "source": [
        "learn.fit_one_cycle(2, slice(2e-3/100, 2e-3))"
      ],
      "execution_count": 31,
      "outputs": [
        {
          "output_type": "display_data",
          "data": {
            "text/html": [
              "<table border=\"1\" class=\"dataframe\">\n",
              "  <thead>\n",
              "    <tr style=\"text-align: left;\">\n",
              "      <th>epoch</th>\n",
              "      <th>train_loss</th>\n",
              "      <th>valid_loss</th>\n",
              "      <th>accuracy</th>\n",
              "      <th>time</th>\n",
              "    </tr>\n",
              "  </thead>\n",
              "  <tbody>\n",
              "    <tr>\n",
              "      <td>0</td>\n",
              "      <td>1.147081</td>\n",
              "      <td>1.661363</td>\n",
              "      <td>0.704835</td>\n",
              "      <td>03:39</td>\n",
              "    </tr>\n",
              "    <tr>\n",
              "      <td>1</td>\n",
              "      <td>1.022861</td>\n",
              "      <td>1.611252</td>\n",
              "      <td>0.721374</td>\n",
              "      <td>03:30</td>\n",
              "    </tr>\n",
              "  </tbody>\n",
              "</table>"
            ],
            "text/plain": [
              "<IPython.core.display.HTML object>"
            ]
          },
          "metadata": {
            "tags": []
          }
        }
      ]
    },
    {
      "cell_type": "code",
      "metadata": {
        "id": "bIft7W25GwSu",
        "outputId": "721b67ed-e353-4f03-d1d3-fb5c9835609e",
        "colab": {
          "base_uri": "https://localhost:8080/",
          "height": 111
        }
      },
      "source": [
        "learn.fit_one_cycle(2, slice(2e-3/100, 2e-3))"
      ],
      "execution_count": 32,
      "outputs": [
        {
          "output_type": "display_data",
          "data": {
            "text/html": [
              "<table border=\"1\" class=\"dataframe\">\n",
              "  <thead>\n",
              "    <tr style=\"text-align: left;\">\n",
              "      <th>epoch</th>\n",
              "      <th>train_loss</th>\n",
              "      <th>valid_loss</th>\n",
              "      <th>accuracy</th>\n",
              "      <th>time</th>\n",
              "    </tr>\n",
              "  </thead>\n",
              "  <tbody>\n",
              "    <tr>\n",
              "      <td>0</td>\n",
              "      <td>0.981671</td>\n",
              "      <td>1.567663</td>\n",
              "      <td>0.731552</td>\n",
              "      <td>03:32</td>\n",
              "    </tr>\n",
              "    <tr>\n",
              "      <td>1</td>\n",
              "      <td>0.883785</td>\n",
              "      <td>1.491517</td>\n",
              "      <td>0.735369</td>\n",
              "      <td>03:21</td>\n",
              "    </tr>\n",
              "  </tbody>\n",
              "</table>"
            ],
            "text/plain": [
              "<IPython.core.display.HTML object>"
            ]
          },
          "metadata": {
            "tags": []
          }
        }
      ]
    },
    {
      "cell_type": "code",
      "metadata": {
        "id": "EEHszVRvGyFt",
        "outputId": "d3f569b4-1ae9-4681-f76a-a590d356e1da",
        "colab": {
          "base_uri": "https://localhost:8080/",
          "height": 111
        }
      },
      "source": [
        "learn.fit_one_cycle(2, slice(2e-3/100, 2e-3))"
      ],
      "execution_count": 33,
      "outputs": [
        {
          "output_type": "display_data",
          "data": {
            "text/html": [
              "<table border=\"1\" class=\"dataframe\">\n",
              "  <thead>\n",
              "    <tr style=\"text-align: left;\">\n",
              "      <th>epoch</th>\n",
              "      <th>train_loss</th>\n",
              "      <th>valid_loss</th>\n",
              "      <th>accuracy</th>\n",
              "      <th>time</th>\n",
              "    </tr>\n",
              "  </thead>\n",
              "  <tbody>\n",
              "    <tr>\n",
              "      <td>0</td>\n",
              "      <td>0.814733</td>\n",
              "      <td>1.459536</td>\n",
              "      <td>0.744275</td>\n",
              "      <td>03:24</td>\n",
              "    </tr>\n",
              "    <tr>\n",
              "      <td>1</td>\n",
              "      <td>0.699444</td>\n",
              "      <td>1.422081</td>\n",
              "      <td>0.746819</td>\n",
              "      <td>03:18</td>\n",
              "    </tr>\n",
              "  </tbody>\n",
              "</table>"
            ],
            "text/plain": [
              "<IPython.core.display.HTML object>"
            ]
          },
          "metadata": {
            "tags": []
          }
        }
      ]
    },
    {
      "cell_type": "code",
      "metadata": {
        "id": "XsHfrhCHG3dN",
        "outputId": "2c9a8143-5b6b-45e8-d2c5-41d5e7c72309",
        "colab": {
          "base_uri": "https://localhost:8080/",
          "height": 173
        }
      },
      "source": [
        "learn.fit_one_cycle(4, slice(2e-3/100, 2e-3))"
      ],
      "execution_count": 34,
      "outputs": [
        {
          "output_type": "display_data",
          "data": {
            "text/html": [
              "<table border=\"1\" class=\"dataframe\">\n",
              "  <thead>\n",
              "    <tr style=\"text-align: left;\">\n",
              "      <th>epoch</th>\n",
              "      <th>train_loss</th>\n",
              "      <th>valid_loss</th>\n",
              "      <th>accuracy</th>\n",
              "      <th>time</th>\n",
              "    </tr>\n",
              "  </thead>\n",
              "  <tbody>\n",
              "    <tr>\n",
              "      <td>0</td>\n",
              "      <td>0.655363</td>\n",
              "      <td>1.393453</td>\n",
              "      <td>0.755725</td>\n",
              "      <td>03:27</td>\n",
              "    </tr>\n",
              "    <tr>\n",
              "      <td>1</td>\n",
              "      <td>0.638032</td>\n",
              "      <td>1.388642</td>\n",
              "      <td>0.767176</td>\n",
              "      <td>03:19</td>\n",
              "    </tr>\n",
              "    <tr>\n",
              "      <td>2</td>\n",
              "      <td>0.533054</td>\n",
              "      <td>1.342290</td>\n",
              "      <td>0.773537</td>\n",
              "      <td>03:30</td>\n",
              "    </tr>\n",
              "    <tr>\n",
              "      <td>3</td>\n",
              "      <td>0.471571</td>\n",
              "      <td>1.318534</td>\n",
              "      <td>0.772265</td>\n",
              "      <td>03:33</td>\n",
              "    </tr>\n",
              "  </tbody>\n",
              "</table>"
            ],
            "text/plain": [
              "<IPython.core.display.HTML object>"
            ]
          },
          "metadata": {
            "tags": []
          }
        }
      ]
    },
    {
      "cell_type": "code",
      "metadata": {
        "id": "0Zsd99isb9EQ",
        "outputId": "dcfe9d4c-75c3-4a3a-c49d-d24041c532ae",
        "colab": {
          "base_uri": "https://localhost:8080/",
          "height": 173
        }
      },
      "source": [
        "learn.fit_one_cycle(4, slice(2e-3/100, 2e-3))"
      ],
      "execution_count": 35,
      "outputs": [
        {
          "output_type": "display_data",
          "data": {
            "text/html": [
              "<table border=\"1\" class=\"dataframe\">\n",
              "  <thead>\n",
              "    <tr style=\"text-align: left;\">\n",
              "      <th>epoch</th>\n",
              "      <th>train_loss</th>\n",
              "      <th>valid_loss</th>\n",
              "      <th>accuracy</th>\n",
              "      <th>time</th>\n",
              "    </tr>\n",
              "  </thead>\n",
              "  <tbody>\n",
              "    <tr>\n",
              "      <td>0</td>\n",
              "      <td>0.482943</td>\n",
              "      <td>1.382892</td>\n",
              "      <td>0.772265</td>\n",
              "      <td>03:21</td>\n",
              "    </tr>\n",
              "    <tr>\n",
              "      <td>1</td>\n",
              "      <td>0.518914</td>\n",
              "      <td>1.350603</td>\n",
              "      <td>0.770992</td>\n",
              "      <td>03:18</td>\n",
              "    </tr>\n",
              "    <tr>\n",
              "      <td>2</td>\n",
              "      <td>0.463590</td>\n",
              "      <td>1.314016</td>\n",
              "      <td>0.774809</td>\n",
              "      <td>03:20</td>\n",
              "    </tr>\n",
              "    <tr>\n",
              "      <td>3</td>\n",
              "      <td>0.343224</td>\n",
              "      <td>1.334561</td>\n",
              "      <td>0.777354</td>\n",
              "      <td>03:21</td>\n",
              "    </tr>\n",
              "  </tbody>\n",
              "</table>"
            ],
            "text/plain": [
              "<IPython.core.display.HTML object>"
            ]
          },
          "metadata": {
            "tags": []
          }
        }
      ]
    },
    {
      "cell_type": "code",
      "metadata": {
        "id": "atNWNKDFPbuI",
        "outputId": "f566029f-d0f2-4b8e-e20e-48e1497167c6",
        "colab": {
          "base_uri": "https://localhost:8080/",
          "height": 173
        }
      },
      "source": [
        "learn.fit_one_cycle(4, slice(2e-3/100, 2e-3))"
      ],
      "execution_count": 36,
      "outputs": [
        {
          "output_type": "display_data",
          "data": {
            "text/html": [
              "<table border=\"1\" class=\"dataframe\">\n",
              "  <thead>\n",
              "    <tr style=\"text-align: left;\">\n",
              "      <th>epoch</th>\n",
              "      <th>train_loss</th>\n",
              "      <th>valid_loss</th>\n",
              "      <th>accuracy</th>\n",
              "      <th>time</th>\n",
              "    </tr>\n",
              "  </thead>\n",
              "  <tbody>\n",
              "    <tr>\n",
              "      <td>0</td>\n",
              "      <td>0.385139</td>\n",
              "      <td>1.360829</td>\n",
              "      <td>0.782443</td>\n",
              "      <td>03:31</td>\n",
              "    </tr>\n",
              "    <tr>\n",
              "      <td>1</td>\n",
              "      <td>0.404669</td>\n",
              "      <td>1.400201</td>\n",
              "      <td>0.770992</td>\n",
              "      <td>03:23</td>\n",
              "    </tr>\n",
              "    <tr>\n",
              "      <td>2</td>\n",
              "      <td>0.352266</td>\n",
              "      <td>1.333477</td>\n",
              "      <td>0.783715</td>\n",
              "      <td>03:38</td>\n",
              "    </tr>\n",
              "    <tr>\n",
              "      <td>3</td>\n",
              "      <td>0.292255</td>\n",
              "      <td>1.354527</td>\n",
              "      <td>0.779898</td>\n",
              "      <td>03:24</td>\n",
              "    </tr>\n",
              "  </tbody>\n",
              "</table>"
            ],
            "text/plain": [
              "<IPython.core.display.HTML object>"
            ]
          },
          "metadata": {
            "tags": []
          }
        }
      ]
    },
    {
      "cell_type": "code",
      "metadata": {
        "id": "rKrBTZ0T1uVA",
        "outputId": "ac08acc7-20bc-4912-a169-c7be795debed",
        "colab": {
          "base_uri": "https://localhost:8080/",
          "height": 173
        }
      },
      "source": [
        "learn.fit_one_cycle(4, slice(2e-3/100, 2e-3))"
      ],
      "execution_count": 37,
      "outputs": [
        {
          "output_type": "display_data",
          "data": {
            "text/html": [
              "<table border=\"1\" class=\"dataframe\">\n",
              "  <thead>\n",
              "    <tr style=\"text-align: left;\">\n",
              "      <th>epoch</th>\n",
              "      <th>train_loss</th>\n",
              "      <th>valid_loss</th>\n",
              "      <th>accuracy</th>\n",
              "      <th>time</th>\n",
              "    </tr>\n",
              "  </thead>\n",
              "  <tbody>\n",
              "    <tr>\n",
              "      <td>0</td>\n",
              "      <td>0.304496</td>\n",
              "      <td>1.437208</td>\n",
              "      <td>0.791349</td>\n",
              "      <td>03:27</td>\n",
              "    </tr>\n",
              "    <tr>\n",
              "      <td>1</td>\n",
              "      <td>0.323464</td>\n",
              "      <td>1.399963</td>\n",
              "      <td>0.786260</td>\n",
              "      <td>03:11</td>\n",
              "    </tr>\n",
              "    <tr>\n",
              "      <td>2</td>\n",
              "      <td>0.280284</td>\n",
              "      <td>1.400685</td>\n",
              "      <td>0.792621</td>\n",
              "      <td>03:30</td>\n",
              "    </tr>\n",
              "    <tr>\n",
              "      <td>3</td>\n",
              "      <td>0.257308</td>\n",
              "      <td>1.394393</td>\n",
              "      <td>0.791349</td>\n",
              "      <td>03:19</td>\n",
              "    </tr>\n",
              "  </tbody>\n",
              "</table>"
            ],
            "text/plain": [
              "<IPython.core.display.HTML object>"
            ]
          },
          "metadata": {
            "tags": []
          }
        }
      ]
    },
    {
      "cell_type": "code",
      "metadata": {
        "id": "ajQC6WDg1yA9",
        "outputId": "0d20e2ab-e079-4738-d6d2-69c55c384b27",
        "colab": {
          "base_uri": "https://localhost:8080/",
          "height": 173
        }
      },
      "source": [
        "learn.fit_one_cycle(4, slice(2e-3/100, 2e-3))"
      ],
      "execution_count": 38,
      "outputs": [
        {
          "output_type": "display_data",
          "data": {
            "text/html": [
              "<table border=\"1\" class=\"dataframe\">\n",
              "  <thead>\n",
              "    <tr style=\"text-align: left;\">\n",
              "      <th>epoch</th>\n",
              "      <th>train_loss</th>\n",
              "      <th>valid_loss</th>\n",
              "      <th>accuracy</th>\n",
              "      <th>time</th>\n",
              "    </tr>\n",
              "  </thead>\n",
              "  <tbody>\n",
              "    <tr>\n",
              "      <td>0</td>\n",
              "      <td>0.247838</td>\n",
              "      <td>1.422190</td>\n",
              "      <td>0.787532</td>\n",
              "      <td>03:33</td>\n",
              "    </tr>\n",
              "    <tr>\n",
              "      <td>1</td>\n",
              "      <td>0.305525</td>\n",
              "      <td>1.394948</td>\n",
              "      <td>0.793893</td>\n",
              "      <td>03:32</td>\n",
              "    </tr>\n",
              "    <tr>\n",
              "      <td>2</td>\n",
              "      <td>0.267331</td>\n",
              "      <td>1.444305</td>\n",
              "      <td>0.792621</td>\n",
              "      <td>03:27</td>\n",
              "    </tr>\n",
              "    <tr>\n",
              "      <td>3</td>\n",
              "      <td>0.201599</td>\n",
              "      <td>1.440476</td>\n",
              "      <td>0.793893</td>\n",
              "      <td>03:20</td>\n",
              "    </tr>\n",
              "  </tbody>\n",
              "</table>"
            ],
            "text/plain": [
              "<IPython.core.display.HTML object>"
            ]
          },
          "metadata": {
            "tags": []
          }
        }
      ]
    },
    {
      "cell_type": "code",
      "metadata": {
        "id": "KKydb0B4BKGk",
        "outputId": "df420adc-719f-40f0-8002-2c94458222f5",
        "colab": {
          "base_uri": "https://localhost:8080/",
          "height": 173
        }
      },
      "source": [
        "learn.fit_one_cycle(4, slice(2e-3/100, 2e-3))"
      ],
      "execution_count": 39,
      "outputs": [
        {
          "output_type": "display_data",
          "data": {
            "text/html": [
              "<table border=\"1\" class=\"dataframe\">\n",
              "  <thead>\n",
              "    <tr style=\"text-align: left;\">\n",
              "      <th>epoch</th>\n",
              "      <th>train_loss</th>\n",
              "      <th>valid_loss</th>\n",
              "      <th>accuracy</th>\n",
              "      <th>time</th>\n",
              "    </tr>\n",
              "  </thead>\n",
              "  <tbody>\n",
              "    <tr>\n",
              "      <td>0</td>\n",
              "      <td>0.240381</td>\n",
              "      <td>1.416939</td>\n",
              "      <td>0.791349</td>\n",
              "      <td>03:24</td>\n",
              "    </tr>\n",
              "    <tr>\n",
              "      <td>1</td>\n",
              "      <td>0.281270</td>\n",
              "      <td>1.405511</td>\n",
              "      <td>0.795165</td>\n",
              "      <td>03:19</td>\n",
              "    </tr>\n",
              "    <tr>\n",
              "      <td>2</td>\n",
              "      <td>0.234148</td>\n",
              "      <td>1.492214</td>\n",
              "      <td>0.796438</td>\n",
              "      <td>03:28</td>\n",
              "    </tr>\n",
              "    <tr>\n",
              "      <td>3</td>\n",
              "      <td>0.192292</td>\n",
              "      <td>1.475364</td>\n",
              "      <td>0.795165</td>\n",
              "      <td>03:20</td>\n",
              "    </tr>\n",
              "  </tbody>\n",
              "</table>"
            ],
            "text/plain": [
              "<IPython.core.display.HTML object>"
            ]
          },
          "metadata": {
            "tags": []
          }
        }
      ]
    },
    {
      "cell_type": "code",
      "metadata": {
        "id": "T2APKtFKBpGY",
        "outputId": "04c70f8f-a9c4-4de0-a5be-d49f3d6037d0",
        "colab": {
          "base_uri": "https://localhost:8080/",
          "height": 173
        }
      },
      "source": [
        "learn.fit_one_cycle(4, slice(2e-3/100, 2e-3))"
      ],
      "execution_count": 40,
      "outputs": [
        {
          "output_type": "display_data",
          "data": {
            "text/html": [
              "<table border=\"1\" class=\"dataframe\">\n",
              "  <thead>\n",
              "    <tr style=\"text-align: left;\">\n",
              "      <th>epoch</th>\n",
              "      <th>train_loss</th>\n",
              "      <th>valid_loss</th>\n",
              "      <th>accuracy</th>\n",
              "      <th>time</th>\n",
              "    </tr>\n",
              "  </thead>\n",
              "  <tbody>\n",
              "    <tr>\n",
              "      <td>0</td>\n",
              "      <td>0.204884</td>\n",
              "      <td>1.479229</td>\n",
              "      <td>0.792621</td>\n",
              "      <td>03:22</td>\n",
              "    </tr>\n",
              "    <tr>\n",
              "      <td>1</td>\n",
              "      <td>0.237283</td>\n",
              "      <td>1.547421</td>\n",
              "      <td>0.791349</td>\n",
              "      <td>03:28</td>\n",
              "    </tr>\n",
              "    <tr>\n",
              "      <td>2</td>\n",
              "      <td>0.200520</td>\n",
              "      <td>1.532326</td>\n",
              "      <td>0.796438</td>\n",
              "      <td>03:30</td>\n",
              "    </tr>\n",
              "    <tr>\n",
              "      <td>3</td>\n",
              "      <td>0.182163</td>\n",
              "      <td>1.469321</td>\n",
              "      <td>0.802799</td>\n",
              "      <td>03:26</td>\n",
              "    </tr>\n",
              "  </tbody>\n",
              "</table>"
            ],
            "text/plain": [
              "<IPython.core.display.HTML object>"
            ]
          },
          "metadata": {
            "tags": []
          }
        }
      ]
    },
    {
      "cell_type": "code",
      "metadata": {
        "id": "qtTypA1sPgLU",
        "outputId": "dd28bbdb-18fd-4034-d6c5-651df1fb5e8e",
        "colab": {
          "base_uri": "https://localhost:8080/",
          "height": 111
        }
      },
      "source": [
        "learn.fit_one_cycle(2, slice(2e-3/100, 2e-3))"
      ],
      "execution_count": 41,
      "outputs": [
        {
          "output_type": "display_data",
          "data": {
            "text/html": [
              "<table border=\"1\" class=\"dataframe\">\n",
              "  <thead>\n",
              "    <tr style=\"text-align: left;\">\n",
              "      <th>epoch</th>\n",
              "      <th>train_loss</th>\n",
              "      <th>valid_loss</th>\n",
              "      <th>accuracy</th>\n",
              "      <th>time</th>\n",
              "    </tr>\n",
              "  </thead>\n",
              "  <tbody>\n",
              "    <tr>\n",
              "      <td>0</td>\n",
              "      <td>0.201069</td>\n",
              "      <td>1.618514</td>\n",
              "      <td>0.797710</td>\n",
              "      <td>03:27</td>\n",
              "    </tr>\n",
              "    <tr>\n",
              "      <td>1</td>\n",
              "      <td>0.200615</td>\n",
              "      <td>1.494148</td>\n",
              "      <td>0.805344</td>\n",
              "      <td>03:18</td>\n",
              "    </tr>\n",
              "  </tbody>\n",
              "</table>"
            ],
            "text/plain": [
              "<IPython.core.display.HTML object>"
            ]
          },
          "metadata": {
            "tags": []
          }
        }
      ]
    },
    {
      "cell_type": "code",
      "metadata": {
        "id": "b242kBsTUp9Y",
        "outputId": "2f4f6a1e-e5e6-4cd9-af48-0bd240928f75",
        "colab": {
          "base_uri": "https://localhost:8080/",
          "height": 111
        }
      },
      "source": [
        "learn.fit_one_cycle(2, slice(2e-3/100, 2e-3))"
      ],
      "execution_count": 42,
      "outputs": [
        {
          "output_type": "display_data",
          "data": {
            "text/html": [
              "<table border=\"1\" class=\"dataframe\">\n",
              "  <thead>\n",
              "    <tr style=\"text-align: left;\">\n",
              "      <th>epoch</th>\n",
              "      <th>train_loss</th>\n",
              "      <th>valid_loss</th>\n",
              "      <th>accuracy</th>\n",
              "      <th>time</th>\n",
              "    </tr>\n",
              "  </thead>\n",
              "  <tbody>\n",
              "    <tr>\n",
              "      <td>0</td>\n",
              "      <td>0.191487</td>\n",
              "      <td>1.536639</td>\n",
              "      <td>0.806616</td>\n",
              "      <td>03:31</td>\n",
              "    </tr>\n",
              "    <tr>\n",
              "      <td>1</td>\n",
              "      <td>0.188928</td>\n",
              "      <td>1.603769</td>\n",
              "      <td>0.800254</td>\n",
              "      <td>03:17</td>\n",
              "    </tr>\n",
              "  </tbody>\n",
              "</table>"
            ],
            "text/plain": [
              "<IPython.core.display.HTML object>"
            ]
          },
          "metadata": {
            "tags": []
          }
        }
      ]
    },
    {
      "cell_type": "code",
      "metadata": {
        "id": "Duwf1Ih5VeDZ",
        "outputId": "90031f24-e1ab-4bed-ac27-fe20fe25d1b4",
        "colab": {
          "base_uri": "https://localhost:8080/",
          "height": 80
        }
      },
      "source": [
        "learn.fit_one_cycle(1, slice(2e-3/100, 2e-3))"
      ],
      "execution_count": 43,
      "outputs": [
        {
          "output_type": "display_data",
          "data": {
            "text/html": [
              "<table border=\"1\" class=\"dataframe\">\n",
              "  <thead>\n",
              "    <tr style=\"text-align: left;\">\n",
              "      <th>epoch</th>\n",
              "      <th>train_loss</th>\n",
              "      <th>valid_loss</th>\n",
              "      <th>accuracy</th>\n",
              "      <th>time</th>\n",
              "    </tr>\n",
              "  </thead>\n",
              "  <tbody>\n",
              "    <tr>\n",
              "      <td>0</td>\n",
              "      <td>0.175705</td>\n",
              "      <td>1.535037</td>\n",
              "      <td>0.804071</td>\n",
              "      <td>03:11</td>\n",
              "    </tr>\n",
              "  </tbody>\n",
              "</table>"
            ],
            "text/plain": [
              "<IPython.core.display.HTML object>"
            ]
          },
          "metadata": {
            "tags": []
          }
        }
      ]
    },
    {
      "cell_type": "code",
      "metadata": {
        "id": "c65d-osfDUXm"
      },
      "source": [
        "# save the best model\n",
        "\n",
        "learn.save_encoder('pubmed_cadec_askpatient_mixed_fold3')"
      ],
      "execution_count": 44,
      "outputs": []
    },
    {
      "cell_type": "markdown",
      "metadata": {
        "id": "rCwZU0E2RgM6"
      },
      "source": [
        "# Part three: Predict on the test dataset"
      ]
    },
    {
      "cell_type": "code",
      "metadata": {
        "id": "gDm72c-dOu7d",
        "outputId": "0e248770-a02a-4974-cb23-e2b7f2393ba0",
        "colab": {
          "base_uri": "https://localhost:8080/",
          "height": 17
        }
      },
      "source": [
        "# use the test data for prediction\n",
        "\n",
        "preds, y = learn.get_preds(DatasetType.Test)"
      ],
      "execution_count": 45,
      "outputs": [
        {
          "output_type": "display_data",
          "data": {
            "text/html": [
              ""
            ],
            "text/plain": [
              "<IPython.core.display.HTML object>"
            ]
          },
          "metadata": {
            "tags": []
          }
        }
      ]
    },
    {
      "cell_type": "code",
      "metadata": {
        "id": "6tFSQcsWPvxn",
        "outputId": "f9577f31-5758-4e24-f94e-78bffadbda00",
        "colab": {
          "base_uri": "https://localhost:8080/",
          "height": 105
        }
      },
      "source": [
        "predictions, *_ = learn.get_preds(DatasetType.Test)\n",
        "labels = np.argmax(predictions, 1)\n",
        "predict_list = labels.tolist()\n",
        "standard_list = test[0].tolist()\n",
        "\n",
        "print(len(predict_list))\n",
        "print(len(standard_list))\n",
        "\n",
        "print(predict_list)\n",
        "print(standard_list)"
      ],
      "execution_count": 46,
      "outputs": [
        {
          "output_type": "display_data",
          "data": {
            "text/html": [
              ""
            ],
            "text/plain": [
              "<IPython.core.display.HTML object>"
            ]
          },
          "metadata": {
            "tags": []
          }
        },
        {
          "output_type": "stream",
          "text": [
            "866\n",
            "866\n",
            "[2, 787, 6, 8, 8, 8, 12, 81, 304, 27, 27, 562, 317, 699, 31, 34, 897, 68, 37, 37, 37, 37, 37, 37, 37, 37, 37, 49, 325, 49, 989, 49, 475, 49, 100, 100, 100, 100, 100, 100, 53, 53, 53, 60, 61, 61, 561, 62, 100, 456, 70, 71, 107, 261, 76, 195, 79, 185, 79, 79, 79, 79, 143, 523, 523, 523, 523, 523, 523, 523, 523, 523, 523, 523, 523, 523, 523, 523, 523, 523, 523, 523, 523, 523, 523, 523, 523, 523, 289, 79, 79, 289, 80, 80, 80, 89, 477, 373, 91, 94, 94, 556, 94, 94, 94, 94, 94, 94, 94, 94, 94, 94, 94, 94, 96, 96, 98, 98, 450, 100, 100, 100, 100, 861, 104, 644, 214, 108, 108, 108, 289, 289, 281, 189, 117, 173, 119, 447, 610, 853, 125, 125, 125, 125, 125, 125, 125, 896, 127, 861, 343, 129, 622, 139, 139, 139, 140, 226, 142, 151, 809, 229, 626, 904, 163, 163, 167, 49, 71, 172, 172, 172, 289, 172, 172, 173, 173, 498, 182, 182, 182, 182, 183, 183, 183, 183, 183, 183, 183, 183, 183, 183, 187, 187, 187, 187, 187, 187, 387, 190, 190, 190, 190, 190, 192, 193, 193, 193, 197, 197, 34, 197, 561, 199, 203, 428, 205, 205, 652, 210, 210, 210, 211, 471, 214, 471, 214, 214, 214, 214, 214, 214, 214, 214, 215, 216, 220, 220, 221, 228, 228, 228, 228, 228, 228, 228, 228, 228, 424, 228, 228, 289, 228, 618, 233, 234, 234, 234, 591, 532, 235, 236, 434, 628, 240, 243, 558, 628, 243, 243, 243, 925, 141, 245, 245, 764, 532, 246, 424, 254, 275, 260, 260, 289, 265, 265, 265, 265, 265, 265, 265, 265, 265, 265, 265, 265, 265, 265, 265, 265, 265, 265, 265, 265, 265, 265, 265, 265, 265, 265, 265, 265, 265, 265, 265, 265, 265, 265, 265, 265, 281, 52, 861, 289, 289, 289, 289, 111, 289, 289, 289, 289, 289, 864, 523, 289, 289, 289, 289, 703, 260, 320, 524, 798, 644, 298, 288, 300, 68, 68, 889, 704, 492, 309, 309, 309, 309, 309, 309, 309, 309, 274, 360, 318, 318, 321, 590, 49, 49, 325, 325, 325, 269, 269, 269, 269, 269, 269, 269, 269, 103, 103, 49, 328, 329, 332, 335, 632, 337, 337, 337, 338, 68, 342, 1010, 359, 359, 359, 359, 544, 364, 364, 775, 652, 364, 179, 325, 386, 391, 391, 391, 391, 443, 795, 795, 529, 402, 402, 402, 408, 117, 301, 418, 418, 419, 419, 419, 419, 419, 419, 419, 424, 424, 425, 425, 215, 426, 427, 737, 597, 427, 427, 427, 427, 430, 435, 663, 441, 443, 443, 444, 444, 444, 452, 454, 424, 455, 455, 455, 455, 240, 424, 471, 474, 475, 475, 475, 475, 475, 475, 373, 488, 490, 82, 491, 491, 82, 491, 499, 505, 507, 472, 513, 594, 517, 517, 517, 383, 517, 524, 524, 195, 530, 530, 530, 644, 541, 173, 542, 545, 545, 545, 545, 545, 545, 548, 548, 548, 548, 548, 549, 730, 370, 577, 572, 236, 236, 236, 236, 579, 583, 585, 590, 590, 591, 591, 424, 592, 592, 632, 632, 97, 599, 785, 785, 375, 610, 610, 427, 614, 614, 614, 780, 888, 619, 641, 622, 623, 624, 229, 627, 857, 344, 635, 652, 637, 385, 643, 859, 644, 646, 646, 61, 646, 83, 288, 652, 652, 652, 289, 652, 810, 661, 662, 327, 689, 690, 2, 172, 281, 741, 704, 492, 711, 711, 711, 711, 711, 714, 714, 715, 769, 727, 730, 65, 741, 741, 741, 741, 289, 524, 894, 746, 746, 746, 746, 748, 769, 771, 773, 769, 775, 775, 775, 775, 775, 775, 475, 783, 790, 790, 848, 848, 794, 797, 753, 804, 804, 805, 805, 413, 806, 806, 806, 806, 809, 809, 317, 810, 810, 812, 14, 816, 176, 817, 817, 1026, 821, 826, 830, 830, 830, 830, 830, 830, 838, 925, 141, 628, 840, 844, 844, 847, 847, 373, 848, 852, 785, 520, 806, 853, 853, 853, 141, 628, 861, 394, 290, 638, 877, 445, 38, 484, 892, 896, 896, 896, 896, 896, 896, 896, 896, 919, 919, 919, 919, 929, 937, 937, 937, 937, 937, 100, 937, 937, 937, 940, 948, 948, 327, 424, 948, 949, 949, 949, 949, 949, 949, 949, 949, 949, 949, 949, 949, 949, 949, 949, 949, 949, 949, 949, 949, 949, 949, 949, 949, 949, 949, 949, 949, 949, 949, 949, 949, 949, 949, 949, 949, 949, 949, 949, 949, 949, 949, 949, 949, 949, 949, 949, 949, 949, 949, 949, 949, 949, 949, 949, 949, 949, 949, 949, 949, 949, 949, 949, 949, 949, 949, 949, 949, 949, 949, 949, 949, 949, 949, 949, 949, 949, 949, 949, 949, 949, 949, 949, 949, 949, 949, 949, 949, 949, 949, 949, 949, 949, 949, 949, 949, 949, 949, 949, 949, 949, 949, 949, 949, 949, 949, 949, 949, 949, 83, 950, 950, 950, 950, 950, 952, 952, 952, 952, 955, 956, 956, 958, 958, 964, 965, 966, 974, 976, 976, 921, 982, 983, 986, 992, 256, 141, 921, 1001, 1001, 1005, 616, 1008, 1015, 1016, 1026, 836, 1026, 1026, 424, 1028, 1028, 1031, 1035]\n",
            "[2, 5, 6, 8, 8, 8, 12, 15, 17, 27, 27, 29, 29, 30, 31, 34, 34, 35, 37, 37, 37, 37, 37, 37, 37, 37, 37, 49, 49, 49, 49, 49, 49, 49, 49, 49, 49, 49, 49, 49, 53, 53, 53, 60, 61, 61, 62, 62, 62, 63, 70, 71, 72, 74, 76, 77, 77, 77, 79, 79, 79, 79, 79, 79, 79, 79, 79, 79, 79, 79, 79, 79, 79, 79, 79, 79, 79, 79, 79, 79, 79, 79, 79, 79, 79, 79, 79, 79, 79, 79, 79, 79, 80, 80, 80, 89, 90, 91, 91, 94, 94, 94, 94, 94, 94, 94, 94, 94, 94, 94, 94, 94, 94, 94, 96, 96, 98, 98, 99, 100, 100, 100, 100, 100, 104, 106, 107, 108, 108, 108, 109, 111, 111, 116, 117, 117, 119, 120, 122, 122, 125, 125, 125, 125, 125, 125, 125, 126, 127, 128, 129, 129, 131, 139, 139, 139, 140, 140, 142, 151, 151, 151, 154, 162, 163, 163, 167, 169, 170, 172, 172, 172, 172, 172, 172, 173, 173, 176, 182, 182, 182, 182, 183, 183, 183, 183, 183, 183, 183, 183, 183, 183, 187, 187, 187, 187, 187, 187, 187, 190, 190, 190, 190, 190, 192, 193, 193, 193, 197, 197, 197, 197, 198, 199, 203, 204, 205, 205, 209, 210, 210, 210, 211, 214, 214, 214, 214, 214, 214, 214, 214, 214, 214, 214, 215, 216, 220, 220, 221, 228, 228, 228, 228, 228, 228, 228, 228, 228, 228, 228, 228, 228, 228, 228, 233, 234, 234, 234, 235, 235, 235, 236, 238, 238, 240, 243, 243, 243, 243, 243, 243, 243, 244, 245, 245, 245, 246, 246, 254, 254, 255, 260, 260, 260, 265, 265, 265, 265, 265, 265, 265, 265, 265, 265, 265, 265, 265, 265, 265, 265, 265, 265, 265, 265, 265, 265, 265, 265, 265, 265, 265, 265, 265, 265, 265, 265, 265, 265, 265, 265, 281, 286, 289, 289, 289, 289, 289, 289, 289, 289, 289, 289, 289, 289, 289, 289, 289, 289, 289, 289, 289, 292, 293, 294, 298, 298, 299, 300, 300, 300, 301, 301, 305, 309, 309, 309, 309, 309, 309, 309, 309, 317, 318, 318, 318, 321, 325, 325, 325, 325, 325, 325, 325, 325, 325, 325, 325, 325, 325, 325, 325, 325, 325, 328, 329, 332, 335, 337, 337, 337, 337, 338, 340, 342, 354, 359, 359, 359, 359, 361, 364, 364, 364, 364, 364, 371, 384, 386, 391, 391, 391, 391, 392, 396, 396, 402, 402, 402, 402, 408, 415, 415, 418, 418, 419, 419, 419, 419, 419, 419, 419, 424, 424, 425, 425, 425, 426, 427, 427, 427, 427, 427, 427, 427, 430, 435, 437, 441, 443, 443, 444, 444, 444, 452, 454, 455, 455, 455, 455, 455, 455, 455, 471, 474, 475, 475, 475, 475, 475, 475, 487, 488, 490, 491, 491, 491, 491, 491, 499, 505, 507, 510, 513, 514, 517, 517, 517, 517, 517, 524, 524, 525, 530, 530, 530, 531, 541, 541, 542, 545, 545, 545, 545, 545, 545, 548, 548, 548, 548, 548, 549, 549, 559, 560, 572, 574, 574, 574, 574, 579, 583, 585, 590, 590, 591, 591, 592, 592, 592, 593, 593, 594, 599, 602, 602, 609, 610, 610, 610, 614, 614, 614, 615, 617, 619, 619, 622, 623, 624, 627, 627, 630, 633, 635, 636, 637, 638, 643, 644, 644, 646, 646, 646, 646, 646, 650, 652, 652, 652, 653, 654, 659, 661, 662, 672, 675, 690, 696, 700, 702, 703, 704, 708, 711, 711, 711, 711, 711, 714, 714, 715, 723, 727, 730, 736, 741, 741, 741, 741, 741, 742, 743, 746, 746, 746, 746, 748, 769, 771, 772, 774, 775, 775, 775, 775, 775, 775, 780, 783, 790, 790, 794, 794, 794, 797, 803, 804, 804, 805, 805, 805, 806, 806, 806, 806, 809, 809, 810, 810, 810, 812, 812, 816, 816, 817, 817, 818, 821, 826, 830, 830, 830, 830, 830, 830, 838, 840, 840, 840, 840, 844, 844, 847, 847, 847, 848, 852, 852, 853, 853, 853, 853, 853, 853, 857, 861, 862, 868, 876, 877, 879, 880, 891, 892, 896, 896, 896, 896, 896, 896, 896, 897, 919, 919, 919, 919, 929, 937, 937, 937, 937, 937, 937, 937, 937, 937, 940, 948, 948, 948, 948, 948, 949, 949, 949, 949, 949, 949, 949, 949, 949, 949, 949, 949, 949, 949, 949, 949, 949, 949, 949, 949, 949, 949, 949, 949, 949, 949, 949, 949, 949, 949, 949, 949, 949, 949, 949, 949, 949, 949, 949, 949, 949, 949, 949, 949, 949, 949, 949, 949, 949, 949, 949, 949, 949, 949, 949, 949, 949, 949, 949, 949, 949, 949, 949, 949, 949, 949, 949, 949, 949, 949, 949, 949, 949, 949, 949, 949, 949, 949, 949, 949, 949, 949, 949, 949, 949, 949, 949, 949, 949, 949, 949, 949, 949, 949, 949, 949, 949, 949, 949, 949, 949, 949, 949, 949, 949, 949, 949, 949, 949, 949, 950, 950, 950, 950, 950, 952, 952, 952, 952, 955, 956, 956, 958, 958, 964, 965, 966, 974, 976, 976, 980, 982, 983, 986, 992, 994, 999, 999, 1001, 1001, 1005, 1007, 1008, 1015, 1016, 1026, 1026, 1026, 1026, 1026, 1028, 1028, 1031, 1035]\n"
          ],
          "name": "stdout"
        }
      ]
    },
    {
      "cell_type": "code",
      "metadata": {
        "id": "XIC4zufnMxtq",
        "outputId": "df939c6b-bb8c-4a94-eb25-6fb49598c90e",
        "colab": {
          "base_uri": "https://localhost:8080/",
          "height": 51
        }
      },
      "source": [
        "correct_num = 0\n",
        "\n",
        "for i in range(0, len(standard_list)):\n",
        "  if predict_list[i] == standard_list[i]:\n",
        "    correct_num = correct_num+1\n",
        "  else:\n",
        "    pass\n",
        "print(correct_num)\n",
        "\n",
        "predict_accuracy = correct_num/len(predict_list)\n",
        "print(predict_accuracy)"
      ],
      "execution_count": 47,
      "outputs": [
        {
          "output_type": "stream",
          "text": [
            "619\n",
            "0.7147806004618937\n"
          ],
          "name": "stdout"
        }
      ]
    },
    {
      "cell_type": "code",
      "metadata": {
        "id": "zlKMHp1CIaRJ"
      },
      "source": [
        ""
      ],
      "execution_count": 47,
      "outputs": []
    }
  ]
}