{
  "nbformat": 4,
  "nbformat_minor": 0,
  "metadata": {
    "accelerator": "TPU",
    "colab": {
      "name": "ask_8_mixed_pubmed_bigtweet_ask.ipynb",
      "provenance": [],
      "collapsed_sections": [],
      "toc_visible": true,
      "include_colab_link": true
    },
    "kernelspec": {
      "display_name": "Python 3",
      "name": "python3"
    }
  },
  "cells": [
    {
      "cell_type": "markdown",
      "metadata": {
        "id": "view-in-github",
        "colab_type": "text"
      },
      "source": [
        "<a href=\"https://colab.research.google.com/github/unt-iialab/medical-concept-normalization/blob/master/medical-concept-normalization/fine-tuning-experiments/askpatient/ask_8_mixed_pubmed_bigtweet_ask.ipynb\" target=\"_parent\"><img src=\"https://colab.research.google.com/assets/colab-badge.svg\" alt=\"Open In Colab\"/></a>"
      ]
    },
    {
      "cell_type": "code",
      "metadata": {
        "id": "adSi6i2-dWxy"
      },
      "source": [
        "import os"
      ],
      "execution_count": 1,
      "outputs": []
    },
    {
      "cell_type": "code",
      "metadata": {
        "id": "E7xYCRGPjd9B"
      },
      "source": [
        "base_dir = 'medical-concept-normalization'"
      ],
      "execution_count": 2,
      "outputs": []
    },
    {
      "cell_type": "code",
      "metadata": {
        "id": "yvIW3aUDjYNS"
      },
      "source": [
        "os.mkdir(base_dir)"
      ],
      "execution_count": 3,
      "outputs": []
    },
    {
      "cell_type": "code",
      "metadata": {
        "id": "es-FFLlfk6SG"
      },
      "source": [
        "os.mkdir('medical-concept-normalization/data_collection')"
      ],
      "execution_count": 4,
      "outputs": []
    },
    {
      "cell_type": "markdown",
      "metadata": {
        "id": "0R-Guw_VoJXm"
      },
      "source": [
        "**Install fastai and clone the fastai for text classification**\n",
        "\n"
      ]
    },
    {
      "cell_type": "code",
      "metadata": {
        "id": "QVZa3Z0PmHFH",
        "outputId": "f08039ac-1b2b-4433-f7ae-49d90c616f5f",
        "colab": {
          "base_uri": "https://localhost:8080/",
          "height": 68
        }
      },
      "source": [
        "!curl https://course-v3.fast.ai/setup/colab | bash"
      ],
      "execution_count": 5,
      "outputs": [
        {
          "output_type": "stream",
          "text": [
            "  % Total    % Received % Xferd  Average Speed   Time    Time     Time  Current\n",
            "                                 Dload  Upload   Total   Spent    Left  Speed\n",
            "\r  0     0    0     0    0     0      0      0 --:--:-- --:--:-- --:--:--     0curl: (6) Could not resolve host: course-v3.fast.ai\n"
          ],
          "name": "stdout"
        }
      ]
    },
    {
      "cell_type": "code",
      "metadata": {
        "id": "_FBFFEBrmJC0",
        "outputId": "3ab0b4dc-782d-411d-c9b8-1db2509056ff",
        "colab": {
          "base_uri": "https://localhost:8080/",
          "height": 85
        }
      },
      "source": [
        "!git clone https://github.com/wshuyi/demo-nlp-classification-fastai.git"
      ],
      "execution_count": 6,
      "outputs": [
        {
          "output_type": "stream",
          "text": [
            "Cloning into 'demo-nlp-classification-fastai'...\n",
            "remote: Enumerating objects: 9, done.\u001b[K\n",
            "remote: Total 9 (delta 0), reused 0 (delta 0), pack-reused 9\u001b[K\n",
            "Unpacking objects: 100% (9/9), done.\n"
          ],
          "name": "stdout"
        }
      ]
    },
    {
      "cell_type": "code",
      "metadata": {
        "id": "66zfh_JqmWMU"
      },
      "source": [
        "from fastai import *\n",
        "from fastai.text import *"
      ],
      "execution_count": 7,
      "outputs": []
    },
    {
      "cell_type": "markdown",
      "metadata": {
        "id": "mNIw-yALdBU9"
      },
      "source": [
        "**Set the path of the data collections**"
      ]
    },
    {
      "cell_type": "code",
      "metadata": {
        "id": "pzH7VMh4mqCL"
      },
      "source": [
        "path = Path('medical-concept-normalization/data_collection')"
      ],
      "execution_count": 8,
      "outputs": []
    },
    {
      "cell_type": "code",
      "metadata": {
        "id": "b8fjI6yyn4aS"
      },
      "source": [
        "# training data set\n",
        "\n",
        "train_csv = path/'AskAPatient.fold-8.train.csv'\n",
        "train = pd.read_csv(train_csv, header=None)\n",
        "#train.head()\n",
        "#train.info()"
      ],
      "execution_count": 10,
      "outputs": []
    },
    {
      "cell_type": "code",
      "metadata": {
        "id": "Hmlr-bAorfHd",
        "outputId": "7ac3567c-271e-475e-e2bd-41bbe6c1e8c9",
        "colab": {
          "base_uri": "https://localhost:8080/",
          "height": 204
        }
      },
      "source": [
        "# validating data set\n",
        "\n",
        "valid = pd.read_csv(path/\"AskAPatient.fold-8.validation.csv\",header=None)\n",
        "valid.head()"
      ],
      "execution_count": 11,
      "outputs": [
        {
          "output_type": "execute_result",
          "data": {
            "text/html": [
              "<div>\n",
              "<style scoped>\n",
              "    .dataframe tbody tr th:only-of-type {\n",
              "        vertical-align: middle;\n",
              "    }\n",
              "\n",
              "    .dataframe tbody tr th {\n",
              "        vertical-align: top;\n",
              "    }\n",
              "\n",
              "    .dataframe thead th {\n",
              "        text-align: right;\n",
              "    }\n",
              "</style>\n",
              "<table border=\"1\" class=\"dataframe\">\n",
              "  <thead>\n",
              "    <tr style=\"text-align: right;\">\n",
              "      <th></th>\n",
              "      <th>0</th>\n",
              "      <th>1</th>\n",
              "    </tr>\n",
              "  </thead>\n",
              "  <tbody>\n",
              "    <tr>\n",
              "      <th>0</th>\n",
              "      <td>0</td>\n",
              "      <td>scared to death</td>\n",
              "    </tr>\n",
              "    <tr>\n",
              "      <th>1</th>\n",
              "      <td>2</td>\n",
              "      <td>heel pain</td>\n",
              "    </tr>\n",
              "    <tr>\n",
              "      <th>2</th>\n",
              "      <td>5</td>\n",
              "      <td>increased heart rate</td>\n",
              "    </tr>\n",
              "    <tr>\n",
              "      <th>3</th>\n",
              "      <td>6</td>\n",
              "      <td>stage 1 diastolic dysfunction</td>\n",
              "    </tr>\n",
              "    <tr>\n",
              "      <th>4</th>\n",
              "      <td>8</td>\n",
              "      <td>arthritis</td>\n",
              "    </tr>\n",
              "  </tbody>\n",
              "</table>\n",
              "</div>"
            ],
            "text/plain": [
              "   0                              1\n",
              "0  0                scared to death\n",
              "1  2                      heel pain\n",
              "2  5           increased heart rate\n",
              "3  6  stage 1 diastolic dysfunction\n",
              "4  8                      arthritis"
            ]
          },
          "metadata": {
            "tags": []
          },
          "execution_count": 11
        }
      ]
    },
    {
      "cell_type": "code",
      "metadata": {
        "id": "cOza9dfSsBud",
        "outputId": "eb245f88-29cd-40a6-9680-5a0412d6b3cf",
        "colab": {
          "base_uri": "https://localhost:8080/",
          "height": 204
        }
      },
      "source": [
        "# testing data set\n",
        "\n",
        "test = pd.read_csv(path/\"AskAPatient.fold-8.test.csv\",header=None)\n",
        "test.head()"
      ],
      "execution_count": 12,
      "outputs": [
        {
          "output_type": "execute_result",
          "data": {
            "text/html": [
              "<div>\n",
              "<style scoped>\n",
              "    .dataframe tbody tr th:only-of-type {\n",
              "        vertical-align: middle;\n",
              "    }\n",
              "\n",
              "    .dataframe tbody tr th {\n",
              "        vertical-align: top;\n",
              "    }\n",
              "\n",
              "    .dataframe thead th {\n",
              "        text-align: right;\n",
              "    }\n",
              "</style>\n",
              "<table border=\"1\" class=\"dataframe\">\n",
              "  <thead>\n",
              "    <tr style=\"text-align: right;\">\n",
              "      <th></th>\n",
              "      <th>0</th>\n",
              "      <th>1</th>\n",
              "    </tr>\n",
              "  </thead>\n",
              "  <tbody>\n",
              "    <tr>\n",
              "      <th>0</th>\n",
              "      <td>1</td>\n",
              "      <td>Abdominal rash</td>\n",
              "    </tr>\n",
              "    <tr>\n",
              "      <th>1</th>\n",
              "      <td>5</td>\n",
              "      <td>increase my heart rate</td>\n",
              "    </tr>\n",
              "    <tr>\n",
              "      <th>2</th>\n",
              "      <td>5</td>\n",
              "      <td>tachycardia</td>\n",
              "    </tr>\n",
              "    <tr>\n",
              "      <th>3</th>\n",
              "      <td>8</td>\n",
              "      <td>arthritis</td>\n",
              "    </tr>\n",
              "    <tr>\n",
              "      <th>4</th>\n",
              "      <td>8</td>\n",
              "      <td>arthritis</td>\n",
              "    </tr>\n",
              "  </tbody>\n",
              "</table>\n",
              "</div>"
            ],
            "text/plain": [
              "   0                       1\n",
              "0  1          Abdominal rash\n",
              "1  5  increase my heart rate\n",
              "2  5             tachycardia\n",
              "3  8               arthritis\n",
              "4  8               arthritis"
            ]
          },
          "metadata": {
            "tags": []
          },
          "execution_count": 12
        }
      ]
    },
    {
      "cell_type": "code",
      "metadata": {
        "id": "Vo-YNvVYoaH6",
        "outputId": "37f35a04-f55a-4ca6-ea00-876caccc09f5",
        "colab": {
          "base_uri": "https://localhost:8080/",
          "height": 17
        }
      },
      "source": [
        "# Creating DataBunch for language modelling\n",
        "\n",
        "data_lm = TextLMDataBunch.from_csv(path, 'mixed_pubmed_bigtweet_askpatient.csv')"
      ],
      "execution_count": 13,
      "outputs": [
        {
          "output_type": "display_data",
          "data": {
            "text/html": [
              ""
            ],
            "text/plain": [
              "<IPython.core.display.HTML object>"
            ]
          },
          "metadata": {
            "tags": []
          }
        },
        {
          "output_type": "display_data",
          "data": {
            "text/html": [
              ""
            ],
            "text/plain": [
              "<IPython.core.display.HTML object>"
            ]
          },
          "metadata": {
            "tags": []
          }
        }
      ]
    },
    {
      "cell_type": "code",
      "metadata": {
        "id": "qcV-9kMnNLBf"
      },
      "source": [
        ""
      ],
      "execution_count": 13,
      "outputs": []
    },
    {
      "cell_type": "code",
      "metadata": {
        "id": "1ScY9afDsnvE"
      },
      "source": [
        "# Creating DataBunch for classification\n",
        "\n",
        "# data_clas = TextClasDataBunch.from_df(path, train, valid, test, vocab=data_lm.train_ds.vocab, bs=128)"
      ],
      "execution_count": 14,
      "outputs": []
    },
    {
      "cell_type": "code",
      "metadata": {
        "id": "gzrSdQcvey9p",
        "outputId": "4dc0f036-72e0-45af-cb7c-935613903bda",
        "colab": {
          "base_uri": "https://localhost:8080/",
          "height": 17
        }
      },
      "source": [
        "data_clas = TextClasDataBunch.from_df(path, train, valid, vocab=data_lm.train_ds.vocab, bs=128)"
      ],
      "execution_count": 15,
      "outputs": [
        {
          "output_type": "display_data",
          "data": {
            "text/html": [
              ""
            ],
            "text/plain": [
              "<IPython.core.display.HTML object>"
            ]
          },
          "metadata": {
            "tags": []
          }
        },
        {
          "output_type": "display_data",
          "data": {
            "text/html": [
              ""
            ],
            "text/plain": [
              "<IPython.core.display.HTML object>"
            ]
          },
          "metadata": {
            "tags": []
          }
        }
      ]
    },
    {
      "cell_type": "code",
      "metadata": {
        "id": "MD27Tf0Ke3ou",
        "outputId": "5472c7df-0bc3-4bc7-9f45-9369c5920e6c",
        "colab": {
          "base_uri": "https://localhost:8080/",
          "height": 17
        }
      },
      "source": [
        "data_clas.add_test(test,label=0)\n"
      ],
      "execution_count": 16,
      "outputs": [
        {
          "output_type": "display_data",
          "data": {
            "text/html": [
              ""
            ],
            "text/plain": [
              "<IPython.core.display.HTML object>"
            ]
          },
          "metadata": {
            "tags": []
          }
        }
      ]
    },
    {
      "cell_type": "code",
      "metadata": {
        "id": "-dpjnk_rstwk"
      },
      "source": [
        "data_lm.save()\n",
        "data_clas.save()"
      ],
      "execution_count": 17,
      "outputs": []
    },
    {
      "cell_type": "code",
      "metadata": {
        "id": "4OkiJa36sw5s",
        "outputId": "03ecaf16-0181-45ea-b9b7-036cd48bbef4",
        "colab": {
          "base_uri": "https://localhost:8080/",
          "height": 1000
        }
      },
      "source": [
        "data_lm.train_ds.vocab.itos"
      ],
      "execution_count": 18,
      "outputs": [
        {
          "output_type": "execute_result",
          "data": {
            "text/plain": [
              "['xxunk',\n",
              " 'xxpad',\n",
              " 'xxbos',\n",
              " 'xxeos',\n",
              " 'xxfld',\n",
              " 'xxmaj',\n",
              " 'xxup',\n",
              " 'xxrep',\n",
              " 'xxwrep',\n",
              " 'pain',\n",
              " 'of',\n",
              " 'the',\n",
              " 'in',\n",
              " 'lipitor',\n",
              " 'and',\n",
              " 'to',\n",
              " 'a',\n",
              " 'muscle',\n",
              " 'for',\n",
              " 'with',\n",
              " 'was',\n",
              " 'diclofenac',\n",
              " 'were',\n",
              " 'severe',\n",
              " 'on',\n",
              " 'my',\n",
              " 'is',\n",
              " 'myalgia',\n",
              " 'lower',\n",
              " 'fatigue',\n",
              " 'rt',\n",
              " 'loss',\n",
              " 'by',\n",
              " 'cramp',\n",
              " 'limb',\n",
              " 'sodium',\n",
              " 'weakness',\n",
              " 'disease',\n",
              " 'at',\n",
              " 'or',\n",
              " 'stomach',\n",
              " 'that',\n",
              " 'as',\n",
              " 'back',\n",
              " 'depression',\n",
              " '-',\n",
              " 'patients',\n",
              " 'from',\n",
              " 'this',\n",
              " 'not',\n",
              " 'cramps',\n",
              " 'i',\n",
              " 'joint',\n",
              " 'gas',\n",
              " 'upper',\n",
              " 'drug',\n",
              " 'memory',\n",
              " 'leg',\n",
              " 'you',\n",
              " 'mg',\n",
              " 'legs',\n",
              " 'all',\n",
              " 'pains',\n",
              " 'knee',\n",
              " 'headache',\n",
              " 'be',\n",
              " 'group',\n",
              " 'are',\n",
              " 'shoulder',\n",
              " 'unable',\n",
              " 'study',\n",
              " 'arthralgia',\n",
              " 'gastrointestinal',\n",
              " 'treatment',\n",
              " 'neck',\n",
              " 'foot',\n",
              " 'arthritis',\n",
              " 'excessive',\n",
              " 'it',\n",
              " 'after',\n",
              " 'aches',\n",
              " 'hip',\n",
              " 'an',\n",
              " 'have',\n",
              " 'amp',\n",
              " 'voltaren',\n",
              " 'like',\n",
              " 'numbness',\n",
              " 'insomnia',\n",
              " 'release',\n",
              " 'nausea',\n",
              " 'arthrotec',\n",
              " 'time',\n",
              " 'increased',\n",
              " 'p',\n",
              " '/',\n",
              " 'no',\n",
              " 'gluten',\n",
              " 'bleeding',\n",
              " 'can',\n",
              " 'feeling',\n",
              " 'asthenia',\n",
              " 'walk',\n",
              " 'swelling',\n",
              " 'both',\n",
              " 'skin',\n",
              " 'abdominal',\n",
              " 'heart',\n",
              " 'tired',\n",
              " 'dizziness',\n",
              " 'blood',\n",
              " 'could',\n",
              " 'problems',\n",
              " 'than',\n",
              " 'walking',\n",
              " 'high',\n",
              " 'up',\n",
              " 'feet',\n",
              " 'out',\n",
              " 'free',\n",
              " 'we',\n",
              " 'hand',\n",
              " 'more',\n",
              " 'difficulty',\n",
              " 'muscles',\n",
              " 'effect',\n",
              " 'chest',\n",
              " 'low',\n",
              " 'cholesterol',\n",
              " 'zocor',\n",
              " 'new',\n",
              " 'very',\n",
              " 'acid',\n",
              " 'stiffness',\n",
              " 'burning',\n",
              " 'vision',\n",
              " 'extreme',\n",
              " 'compared',\n",
              " 'hair',\n",
              " 'ache',\n",
              " 'backache',\n",
              " 'using',\n",
              " 'inflammatory',\n",
              " 'liver',\n",
              " 'effects',\n",
              " 'groups',\n",
              " 'diarrhoea',\n",
              " 'weight',\n",
              " 'your',\n",
              " 'pins',\n",
              " 'needles',\n",
              " 'sleep',\n",
              " 'between',\n",
              " 'about',\n",
              " 'right',\n",
              " 'cramping',\n",
              " 'day',\n",
              " 'has',\n",
              " 'our',\n",
              " 'two',\n",
              " 'its',\n",
              " 'significantly',\n",
              " 'significant',\n",
              " 'amnesia',\n",
              " 'use',\n",
              " 'h',\n",
              " 'concentration',\n",
              " 'calf',\n",
              " 'left',\n",
              " 'one',\n",
              " 'but',\n",
              " 'drugs',\n",
              " 'impairment',\n",
              " 'disability',\n",
              " 'had',\n",
              " 'these',\n",
              " 'potassium',\n",
              " 'short',\n",
              " 'c',\n",
              " 'which',\n",
              " 'term',\n",
              " 'tingling',\n",
              " 'used',\n",
              " 'anxiety',\n",
              " 'anti',\n",
              " 'dose',\n",
              " 'symptom',\n",
              " 'pressure',\n",
              " 'do',\n",
              " 'lack',\n",
              " 'nt',\n",
              " 'placebo',\n",
              " 'what',\n",
              " 'also',\n",
              " 'constipation',\n",
              " 's',\n",
              " 'when',\n",
              " 'stiff',\n",
              " 'results',\n",
              " 'bloating',\n",
              " 'efficacy',\n",
              " 'glutenfree',\n",
              " 'over',\n",
              " 'reduced',\n",
              " 'ds',\n",
              " 'hands',\n",
              " 'celiac',\n",
              " 'so',\n",
              " 'headaches',\n",
              " 'sore',\n",
              " 'arm',\n",
              " 'poor',\n",
              " 'disorder',\n",
              " 'body',\n",
              " 'acute',\n",
              " 'neuropathy',\n",
              " 'get',\n",
              " 'm',\n",
              " 'there',\n",
              " 'been',\n",
              " 'may',\n",
              " 'arms',\n",
              " 'blurred',\n",
              " 'treated',\n",
              " 'days',\n",
              " 'w',\n",
              " 'showed',\n",
              " 'visual',\n",
              " 'balance',\n",
              " 'ml',\n",
              " 'ankle',\n",
              " 'now',\n",
              " 'topical',\n",
              " 'rash',\n",
              " 'tiredness',\n",
              " 'myocardial',\n",
              " 'infarction',\n",
              " 'symptoms',\n",
              " 'food',\n",
              " 'joints',\n",
              " 'well',\n",
              " 'renal',\n",
              " 'administration',\n",
              " 'serum',\n",
              " 'into',\n",
              " 'during',\n",
              " 'different',\n",
              " 'oral',\n",
              " 'hurt',\n",
              " 'studies',\n",
              " 'non',\n",
              " 'products',\n",
              " 'control',\n",
              " 'sensation',\n",
              " 'pravachol',\n",
              " 'mentally',\n",
              " 'their',\n",
              " 'damage',\n",
              " 'myositis',\n",
              " 'vaginal',\n",
              " 'vertigo',\n",
              " 'swollen',\n",
              " 'if',\n",
              " 'attack',\n",
              " 'diabetes',\n",
              " 'atorvastatin',\n",
              " 'itching',\n",
              " 'atrophy',\n",
              " 'who',\n",
              " 'rats',\n",
              " 'painful',\n",
              " 'how',\n",
              " 'test',\n",
              " 'induced',\n",
              " \"'s\",\n",
              " 'via',\n",
              " 'rate',\n",
              " 'first',\n",
              " 'decreased',\n",
              " 'constant',\n",
              " 'gel',\n",
              " 'clinical',\n",
              " 'type',\n",
              " 'respectively',\n",
              " 'post',\n",
              " 'dry',\n",
              " 'did',\n",
              " 'diet',\n",
              " 'generalised',\n",
              " 'tablets',\n",
              " 'other',\n",
              " 'found',\n",
              " 'method',\n",
              " 'energy',\n",
              " 'ubidecarenone',\n",
              " 'diarrhea',\n",
              " 'formulation',\n",
              " 'syndrome',\n",
              " 'formulations',\n",
              " 'plasma',\n",
              " ')',\n",
              " ',',\n",
              " 'upset',\n",
              " 'nsaids',\n",
              " 'ph',\n",
              " 'illness',\n",
              " 'levels',\n",
              " 'mean',\n",
              " 'gain',\n",
              " 'period',\n",
              " 'only',\n",
              " 'eye',\n",
              " 'three',\n",
              " 'solution',\n",
              " \"n't\",\n",
              " 'me',\n",
              " 'hours',\n",
              " 'feel',\n",
              " 'review',\n",
              " 'dull',\n",
              " 'observed',\n",
              " 'influenza',\n",
              " 'chronic',\n",
              " 'weak',\n",
              " 'g',\n",
              " 'crestor',\n",
              " 'those',\n",
              " 'n',\n",
              " 'raised',\n",
              " '(',\n",
              " 'effective',\n",
              " 'movement',\n",
              " 'spasm',\n",
              " 'tablet',\n",
              " 'tip',\n",
              " 'urine',\n",
              " 'elevated',\n",
              " 'shoulders',\n",
              " 'bad',\n",
              " 'side',\n",
              " 'elbow',\n",
              " 'hazy',\n",
              " 'kidney',\n",
              " 'received',\n",
              " 'they',\n",
              " 'present',\n",
              " 'controlled',\n",
              " 'd',\n",
              " 'spasms',\n",
              " 'vitro',\n",
              " 'discomfort',\n",
              " 'ibuprofen',\n",
              " 'kg',\n",
              " 'tendonitis',\n",
              " 'some',\n",
              " 'each',\n",
              " 'adverse',\n",
              " 'function',\n",
              " 'week',\n",
              " 'less',\n",
              " 'sleeping',\n",
              " 'level',\n",
              " 'most',\n",
              " 'just',\n",
              " 'activity',\n",
              " 'heavy',\n",
              " 'increase',\n",
              " 'flatulence',\n",
              " 'dblclick',\n",
              " 'abnormal',\n",
              " 'inflammation',\n",
              " 'analysis',\n",
              " 'problem',\n",
              " 'system',\n",
              " 'migraine',\n",
              " 'analgesic',\n",
              " 'data',\n",
              " 'exhaustion',\n",
              " 'knees',\n",
              " 'mood',\n",
              " 'toe',\n",
              " 'vomiting',\n",
              " 'pic',\n",
              " 'single',\n",
              " 'ca',\n",
              " 'myopathy',\n",
              " 'randomized',\n",
              " 'bed',\n",
              " 'reflux',\n",
              " 'before',\n",
              " 'irritable',\n",
              " 'brain',\n",
              " 'evaluated',\n",
              " 'concentrate',\n",
              " 'similar',\n",
              " 'sclerosis',\n",
              " 'model',\n",
              " 'thigh',\n",
              " 'here',\n",
              " 'libido',\n",
              " 'b',\n",
              " 'following',\n",
              " 'injury',\n",
              " 'l',\n",
              " 'why',\n",
              " 'patient',\n",
              " 'fibromyalgia',\n",
              " 'daily',\n",
              " 'concentrations',\n",
              " 'years',\n",
              " 'weeks',\n",
              " 'however',\n",
              " 'cold',\n",
              " 'flu',\n",
              " 'total',\n",
              " 'multiple',\n",
              " 'think',\n",
              " 'will',\n",
              " 'osteoarthritis',\n",
              " 'good',\n",
              " 'therapy',\n",
              " 'throat',\n",
              " 'nsaid',\n",
              " 'under',\n",
              " 'mild',\n",
              " 'off',\n",
              " 'mellitus',\n",
              " 'healthy',\n",
              " 'simvastatin',\n",
              " 'know',\n",
              " 'difference',\n",
              " 'eyes',\n",
              " 'water',\n",
              " 'malaise',\n",
              " 'menstrual',\n",
              " 'higher',\n",
              " 'failure',\n",
              " 'any',\n",
              " 'sweating',\n",
              " 'order',\n",
              " 'tremor',\n",
              " 'double',\n",
              " 'relief',\n",
              " 'disturbance',\n",
              " 'cells',\n",
              " 'lightheadedness',\n",
              " 't',\n",
              " 'changes',\n",
              " 'dissolution',\n",
              " 'check',\n",
              " 'obtained',\n",
              " 'wind',\n",
              " 'while',\n",
              " 'surgery',\n",
              " 'oil',\n",
              " 'due',\n",
              " 'head',\n",
              " 'hips',\n",
              " 'prepared',\n",
              " 'postoperative',\n",
              " 'should',\n",
              " 'swings',\n",
              " 'based',\n",
              " 'cell',\n",
              " 'impaired',\n",
              " 'finger',\n",
              " 'help',\n",
              " 'associated',\n",
              " 'life',\n",
              " 'ezetimibe',\n",
              " 'appetite',\n",
              " 'area',\n",
              " 'confusion',\n",
              " 'combination',\n",
              " 'tinnitus',\n",
              " 'aching',\n",
              " 'being',\n",
              " 'application',\n",
              " 'trial',\n",
              " 'general',\n",
              " 'stress',\n",
              " 'administered',\n",
              " 'soreness',\n",
              " 'celebrex',\n",
              " 'blind',\n",
              " 'studied',\n",
              " 'peripheral',\n",
              " 'times',\n",
              " 'eat',\n",
              " 'esters',\n",
              " 'infection',\n",
              " 'vs',\n",
              " 'calves',\n",
              " 'differences',\n",
              " 'min',\n",
              " 'developed',\n",
              " 'without',\n",
              " 'paraesthesia',\n",
              " 'does',\n",
              " 'love',\n",
              " 'four',\n",
              " 'make',\n",
              " 'doses',\n",
              " 'stairs',\n",
              " 'conditions',\n",
              " 're',\n",
              " 'such',\n",
              " 'motivation',\n",
              " 'great',\n",
              " 'intolerance',\n",
              " 'change',\n",
              " 'x',\n",
              " 'through',\n",
              " 'rheumatoid',\n",
              " 'gastric',\n",
              " 'coated',\n",
              " 'phase',\n",
              " 'nonsteroidal',\n",
              " 'reported',\n",
              " 'v',\n",
              " 'parkinson',\n",
              " 'response',\n",
              " 'ankles',\n",
              " 'performed',\n",
              " 'indigestion',\n",
              " 'heel',\n",
              " 'given',\n",
              " 'toes',\n",
              " 'within',\n",
              " 'sensitivity',\n",
              " 'containing',\n",
              " 'values',\n",
              " 'need',\n",
              " 'risk',\n",
              " '2',\n",
              " 'vitamin',\n",
              " 'absorption',\n",
              " 'e',\n",
              " 'events',\n",
              " 'thanks',\n",
              " 'swallowing',\n",
              " 'better',\n",
              " 'ascorbic',\n",
              " 'subjects',\n",
              " 'us',\n",
              " 'night',\n",
              " 'gfb',\n",
              " 'paracetamol',\n",
              " 'face',\n",
              " 'reduction',\n",
              " 'tendon',\n",
              " 'either',\n",
              " 'posted',\n",
              " '1',\n",
              " 'recipe',\n",
              " 'excruciating',\n",
              " 'range',\n",
              " 'going',\n",
              " 'safety',\n",
              " 'cough',\n",
              " 'dyspnoea',\n",
              " 'urinary',\n",
              " 'getting',\n",
              " 'always',\n",
              " 'lateral',\n",
              " 'hot',\n",
              " 'show',\n",
              " 'parameters',\n",
              " 'charleyhorse',\n",
              " 'lupus',\n",
              " 'rapid',\n",
              " 'measured',\n",
              " 'investigated',\n",
              " 'strength',\n",
              " 'people',\n",
              " 'depressed',\n",
              " 'properties',\n",
              " 'intense',\n",
              " 'indomethacin',\n",
              " 'ratio',\n",
              " 'number',\n",
              " 'samples',\n",
              " 'delivery',\n",
              " 'assessed',\n",
              " 'taste',\n",
              " 'restless',\n",
              " 'steroidal',\n",
              " 'nerve',\n",
              " 'down',\n",
              " 'related',\n",
              " 'enzymes',\n",
              " 'advil',\n",
              " 'included',\n",
              " 'palpitations',\n",
              " 'decrease',\n",
              " 'dark',\n",
              " 'fingers',\n",
              " 'oa',\n",
              " 'statistically',\n",
              " 'auc',\n",
              " 'speech',\n",
              " 'injection',\n",
              " 'vivo',\n",
              " 'menopause',\n",
              " 'felt',\n",
              " 'heres',\n",
              " 'ii',\n",
              " 'every',\n",
              " 'compare',\n",
              " 'size',\n",
              " 'potential',\n",
              " 'best',\n",
              " 'twitch',\n",
              " 'mm',\n",
              " 'then',\n",
              " 'moderate',\n",
              " 'liquid',\n",
              " 'year',\n",
              " 'therapeutic',\n",
              " 'form',\n",
              " 'misoprostol',\n",
              " 'fish',\n",
              " 'minutes',\n",
              " 'long',\n",
              " '30',\n",
              " 'many',\n",
              " 'active',\n",
              " 'bone',\n",
              " 'big',\n",
              " 'overall',\n",
              " 'scale',\n",
              " 'read',\n",
              " 'gout',\n",
              " 'medication',\n",
              " 'health',\n",
              " 'scores',\n",
              " 'human',\n",
              " 'available',\n",
              " 'dreams',\n",
              " 'baseline',\n",
              " 'much',\n",
              " 'limbs',\n",
              " 'drowsy',\n",
              " 'reaction',\n",
              " 'terrible',\n",
              " 'major',\n",
              " 'primary',\n",
              " 'development',\n",
              " 'edema',\n",
              " 'light',\n",
              " 'normal',\n",
              " 'sinus',\n",
              " 'sustained',\n",
              " 'evaluate',\n",
              " 'ng',\n",
              " 'even',\n",
              " 'living',\n",
              " 'bioavailability',\n",
              " 'archives',\n",
              " 'k',\n",
              " 'process',\n",
              " 'tips',\n",
              " 'clearly',\n",
              " 'heartburn',\n",
              " 'tolerability',\n",
              " 'applied',\n",
              " 'breathing',\n",
              " 'fever',\n",
              " 'breath',\n",
              " 'greater',\n",
              " 'months',\n",
              " 'aqueous',\n",
              " 'ulcer',\n",
              " 'dependent',\n",
              " 'go',\n",
              " 'tightness',\n",
              " 'ability',\n",
              " '3',\n",
              " 'tissue',\n",
              " 'would',\n",
              " 'mobility',\n",
              " 'colic',\n",
              " 'co',\n",
              " 'nasal',\n",
              " 'jennieo',\n",
              " '\\r \\n ',\n",
              " 'wrist',\n",
              " 'find',\n",
              " 'provoked',\n",
              " 'aspirin',\n",
              " 'mouth',\n",
              " 'trouble',\n",
              " 'cox',\n",
              " 'demonstrated',\n",
              " 'creatinine',\n",
              " 'made',\n",
              " 'because',\n",
              " 'amyotrophic',\n",
              " 'same',\n",
              " 'determined',\n",
              " 'na',\n",
              " 'matrix',\n",
              " 'cancer',\n",
              " 'addition',\n",
              " 'tested',\n",
              " 'polymer',\n",
              " 'tract',\n",
              " 'uterine',\n",
              " 'male',\n",
              " 'initial',\n",
              " 'caused',\n",
              " 'fog',\n",
              " 'hypertension',\n",
              " 'fenofibrate',\n",
              " 'article',\n",
              " '10',\n",
              " 'volunteers',\n",
              " 'bowel',\n",
              " 'per',\n",
              " 'important',\n",
              " 'action',\n",
              " 'various',\n",
              " 'inhibitor',\n",
              " 'twitching',\n",
              " 'finding',\n",
              " 'where',\n",
              " 'month',\n",
              " 'safe',\n",
              " 'agent',\n",
              " 'trials',\n",
              " 'move',\n",
              " 'o',\n",
              " 'treatments',\n",
              " 'aim',\n",
              " 'way',\n",
              " 'exercise',\n",
              " '5',\n",
              " 'alpha',\n",
              " 'thighs',\n",
              " 'end',\n",
              " 'horses',\n",
              " 'sensitive',\n",
              " 'chicken',\n",
              " 'intensity',\n",
              " 'coq10',\n",
              " '+',\n",
              " 'protein',\n",
              " 'common',\n",
              " 'fast',\n",
              " 'news',\n",
              " 'surface',\n",
              " 'diagnosed',\n",
              " 'physical',\n",
              " 'presence',\n",
              " 'diagnosis',\n",
              " 'tight',\n",
              " 'mice',\n",
              " 'formation',\n",
              " 'facial',\n",
              " 'randomly',\n",
              " 'indicated',\n",
              " 'plantar',\n",
              " 'permeation',\n",
              " 'f',\n",
              " 'tricor',\n",
              " 'shown',\n",
              " 'generally',\n",
              " 'exposure',\n",
              " 'tolerance',\n",
              " 'want',\n",
              " 'issues',\n",
              " 'follow',\n",
              " 'six',\n",
              " 'cm',\n",
              " 'alone',\n",
              " 'today',\n",
              " 'onset',\n",
              " 'intestinal',\n",
              " 'part',\n",
              " 'including',\n",
              " 'versus',\n",
              " 'still',\n",
              " 'provide',\n",
              " 'complex',\n",
              " 'dosage',\n",
              " 'score',\n",
              " 'although',\n",
              " 'age',\n",
              " 'tylenol',\n",
              " 'ringing',\n",
              " 'sharp',\n",
              " 'lost',\n",
              " 'elbows',\n",
              " 'started',\n",
              " 'mechanism',\n",
              " 'sick',\n",
              " 'followed',\n",
              " 'attacks',\n",
              " 'improvement',\n",
              " 'case',\n",
              " 'standard',\n",
              " 'natural',\n",
              " 'loose',\n",
              " 'hour',\n",
              " 'aleve',\n",
              " 'hardly',\n",
              " 'sugar',\n",
              " 'cerebrovascular',\n",
              " 'malignant',\n",
              " 'pulse',\n",
              " 'charley',\n",
              " 'suggest',\n",
              " 'numb',\n",
              " 'revealed',\n",
              " 'animals',\n",
              " 'further',\n",
              " 'lethargy',\n",
              " 'inhibition',\n",
              " 'among',\n",
              " 'tolerated',\n",
              " 'pharmaceutical',\n",
              " 'peak',\n",
              " 'cases',\n",
              " 'extremely',\n",
              " 'around',\n",
              " 'oedema',\n",
              " '4',\n",
              " 'take',\n",
              " 'accident',\n",
              " 'whereas',\n",
              " 'complete',\n",
              " 'local',\n",
              " 'vas',\n",
              " 'shortness',\n",
              " 'moody',\n",
              " 'profiles',\n",
              " 'extremity',\n",
              " 'cd',\n",
              " 'share',\n",
              " 'divided',\n",
              " 'profile',\n",
              " 'conducted',\n",
              " 'experimental',\n",
              " 'difficult',\n",
              " 'global',\n",
              " 'ever',\n",
              " 'five',\n",
              " 'u',\n",
              " 'care',\n",
              " 'morning',\n",
              " '\\r \\n \\r \\n ',\n",
              " 'determine',\n",
              " 'slurred',\n",
              " 'vehicle',\n",
              " 'achieved',\n",
              " 'rat',\n",
              " 'panic',\n",
              " 'relative',\n",
              " 'mental',\n",
              " 'pizza',\n",
              " 'hard',\n",
              " 'region',\n",
              " 'fluid',\n",
              " 'things',\n",
              " 'density',\n",
              " 'thoughts',\n",
              " 'combined',\n",
              " 'according',\n",
              " 'sex',\n",
              " 'growth',\n",
              " 'deep',\n",
              " 'lesions',\n",
              " 'eating',\n",
              " 'secondary',\n",
              " 'please',\n",
              " 'improved',\n",
              " 'pre',\n",
              " 'drive',\n",
              " 'ethyl',\n",
              " 'enteric',\n",
              " 'product',\n",
              " 'top',\n",
              " 'agents',\n",
              " 'naproxen',\n",
              " 'systemic',\n",
              " 'awareness',\n",
              " 'against',\n",
              " 'periods',\n",
              " 'once',\n",
              " 'happy',\n",
              " 'irregular',\n",
              " 'corneal',\n",
              " 'content',\n",
              " 'research',\n",
              " 'cmax',\n",
              " 'affected',\n",
              " 'ms',\n",
              " 'least',\n",
              " 'fatigued',\n",
              " 'able',\n",
              " 'plus',\n",
              " 'amount',\n",
              " 'ldl',\n",
              " 'coronary',\n",
              " 'congestion',\n",
              " 'too',\n",
              " 'calcium',\n",
              " 'nervous',\n",
              " 'looks',\n",
              " 'resulted',\n",
              " 'liptor',\n",
              " 'barely',\n",
              " 'old',\n",
              " 'duration',\n",
              " 'r',\n",
              " 'carried',\n",
              " 'hunger',\n",
              " 'participants',\n",
              " 'ci',\n",
              " 'support',\n",
              " 'produced',\n",
              " 'increasing',\n",
              " 'th',\n",
              " 'cause',\n",
              " 'ear',\n",
              " 'evidence',\n",
              " 'condition',\n",
              " 'might',\n",
              " 'eczema',\n",
              " 'microspheres',\n",
              " 'quality',\n",
              " 'gi',\n",
              " 'degrees',\n",
              " 'fasciitis',\n",
              " 'temperature',\n",
              " 'erythema',\n",
              " 'cross',\n",
              " 'blog',\n",
              " 'methods',\n",
              " 'achilles',\n",
              " 'evaluation',\n",
              " 'strain',\n",
              " 'see',\n",
              " 'super',\n",
              " 'possible',\n",
              " 'codeine',\n",
              " 'easy',\n",
              " 'ocular',\n",
              " 'film',\n",
              " 'serious',\n",
              " 'got',\n",
              " 'scalp',\n",
              " 'pellets',\n",
              " 'buffer',\n",
              " 'cookbook',\n",
              " 'erythematosus',\n",
              " 'comparison',\n",
              " 'analgesia',\n",
              " 'efficiency',\n",
              " 'rates',\n",
              " 'allergic',\n",
              " 'site',\n",
              " 'rhabdomyolysis',\n",
              " 'dizzy',\n",
              " 'state',\n",
              " 'stamina',\n",
              " 'beads',\n",
              " 'commercial',\n",
              " 'technique',\n",
              " 'patch',\n",
              " 'third',\n",
              " 'respiratory',\n",
              " 'phosphate',\n",
              " 'thus',\n",
              " 'zetia',\n",
              " 'prednisone',\n",
              " 'work',\n",
              " 'tension',\n",
              " 'frequent',\n",
              " 'across',\n",
              " 'flow',\n",
              " 'sweats',\n",
              " 'hypersomnia',\n",
              " 'central',\n",
              " 'determination',\n",
              " 'pharmacokinetic',\n",
              " 'production',\n",
              " 'forgetful',\n",
              " 'stroke',\n",
              " 'preparation',\n",
              " 'recorded',\n",
              " 'tests',\n",
              " 'solid',\n",
              " 'taking',\n",
              " 'cataract',\n",
              " 'asthma',\n",
              " 'examined',\n",
              " 'reference',\n",
              " 'rofecoxib',\n",
              " 'pruritus',\n",
              " ...]"
            ]
          },
          "metadata": {
            "tags": []
          },
          "execution_count": 18
        }
      ]
    },
    {
      "cell_type": "code",
      "metadata": {
        "id": "yPWr03mls3VT",
        "outputId": "bd6ce0e0-ac58-4465-b4c3-586dc3e46cd7",
        "colab": {
          "base_uri": "https://localhost:8080/",
          "height": 17
        }
      },
      "source": [
        "model_path = path/'models'\n",
        "model_path.mkdir(exist_ok=True)\n",
        "url = 'http://files.fast.ai/models/wt103_v1/'\n",
        "download_url(f'{url}lstm_wt103.pth', model_path/'lstm_wt103.pth')\n",
        "download_url(f'{url}itos_wt103.pkl', model_path/'itos_wt103.pkl')"
      ],
      "execution_count": 19,
      "outputs": [
        {
          "output_type": "display_data",
          "data": {
            "text/html": [
              ""
            ],
            "text/plain": [
              "<IPython.core.display.HTML object>"
            ]
          },
          "metadata": {
            "tags": []
          }
        },
        {
          "output_type": "display_data",
          "data": {
            "text/html": [
              ""
            ],
            "text/plain": [
              "<IPython.core.display.HTML object>"
            ]
          },
          "metadata": {
            "tags": []
          }
        }
      ]
    },
    {
      "cell_type": "code",
      "metadata": {
        "id": "JRzvWg8RtGGr",
        "outputId": "8567b01f-effd-4178-c884-009ba384e65c",
        "colab": {
          "base_uri": "https://localhost:8080/",
          "height": 34
        }
      },
      "source": [
        "learn = language_model_learner(data_lm, AWD_LSTM, drop_mult=0.5)"
      ],
      "execution_count": 20,
      "outputs": [
        {
          "output_type": "stream",
          "text": [
            "Downloading https://s3.amazonaws.com/fast-ai-modelzoo/wt103-fwd.tgz\n"
          ],
          "name": "stdout"
        },
        {
          "output_type": "display_data",
          "data": {
            "text/html": [
              ""
            ],
            "text/plain": [
              "<IPython.core.display.HTML object>"
            ]
          },
          "metadata": {
            "tags": []
          }
        }
      ]
    },
    {
      "cell_type": "code",
      "metadata": {
        "id": "xKK7GeBev7Xn",
        "outputId": "dd121998-7974-48c6-a836-487ff5d884eb",
        "colab": {
          "base_uri": "https://localhost:8080/",
          "height": 80
        }
      },
      "source": [
        "learn.fit_one_cycle(1, 1e-2)"
      ],
      "execution_count": 21,
      "outputs": [
        {
          "output_type": "display_data",
          "data": {
            "text/html": [
              "<table border=\"1\" class=\"dataframe\">\n",
              "  <thead>\n",
              "    <tr style=\"text-align: left;\">\n",
              "      <th>epoch</th>\n",
              "      <th>train_loss</th>\n",
              "      <th>valid_loss</th>\n",
              "      <th>accuracy</th>\n",
              "      <th>time</th>\n",
              "    </tr>\n",
              "  </thead>\n",
              "  <tbody>\n",
              "    <tr>\n",
              "      <td>0</td>\n",
              "      <td>3.841067</td>\n",
              "      <td>3.499018</td>\n",
              "      <td>0.439906</td>\n",
              "      <td>1:36:46</td>\n",
              "    </tr>\n",
              "  </tbody>\n",
              "</table>"
            ],
            "text/plain": [
              "<IPython.core.display.HTML object>"
            ]
          },
          "metadata": {
            "tags": []
          }
        }
      ]
    },
    {
      "cell_type": "code",
      "metadata": {
        "id": "iB7rHGQCwd12"
      },
      "source": [
        "# learn.fit_one_cycle(1, 1e-2)"
      ],
      "execution_count": 22,
      "outputs": []
    },
    {
      "cell_type": "code",
      "metadata": {
        "id": "_BnSuAeCwkBe"
      },
      "source": [
        "# learn.fit_one_cycle(1, 1e-3)"
      ],
      "execution_count": 23,
      "outputs": []
    },
    {
      "cell_type": "code",
      "metadata": {
        "id": "MuTm-RFjwrEX",
        "outputId": "baf09908-7783-4b32-fb24-ecc254440e6b",
        "colab": {
          "base_uri": "https://localhost:8080/",
          "height": 80
        }
      },
      "source": [
        "learn.fit_one_cycle(1, 1e-3)"
      ],
      "execution_count": 24,
      "outputs": [
        {
          "output_type": "display_data",
          "data": {
            "text/html": [
              "<table border=\"1\" class=\"dataframe\">\n",
              "  <thead>\n",
              "    <tr style=\"text-align: left;\">\n",
              "      <th>epoch</th>\n",
              "      <th>train_loss</th>\n",
              "      <th>valid_loss</th>\n",
              "      <th>accuracy</th>\n",
              "      <th>time</th>\n",
              "    </tr>\n",
              "  </thead>\n",
              "  <tbody>\n",
              "    <tr>\n",
              "      <td>0</td>\n",
              "      <td>3.513348</td>\n",
              "      <td>3.437605</td>\n",
              "      <td>0.445250</td>\n",
              "      <td>1:34:24</td>\n",
              "    </tr>\n",
              "  </tbody>\n",
              "</table>"
            ],
            "text/plain": [
              "<IPython.core.display.HTML object>"
            ]
          },
          "metadata": {
            "tags": []
          }
        }
      ]
    },
    {
      "cell_type": "code",
      "metadata": {
        "id": "1Er2ExO8wr7Y"
      },
      "source": [
        "learn.save_encoder('pubmed_cadec_askpatient_mixed_fold8_first')"
      ],
      "execution_count": 25,
      "outputs": []
    },
    {
      "cell_type": "code",
      "metadata": {
        "id": "z52cZs2qwvad",
        "outputId": "4343ca4d-e59d-4f59-e3bc-b3140fdb5539",
        "colab": {
          "base_uri": "https://localhost:8080/",
          "height": 80
        }
      },
      "source": [
        "learn = text_classifier_learner(data_clas,AWD_LSTM, drop_mult=0.5)\n",
        "learn.load_encoder('pubmed_cadec_askpatient_mixed_fold8_first')\n",
        "learn.fit_one_cycle(1, 1e-2)"
      ],
      "execution_count": 26,
      "outputs": [
        {
          "output_type": "display_data",
          "data": {
            "text/html": [
              "<table border=\"1\" class=\"dataframe\">\n",
              "  <thead>\n",
              "    <tr style=\"text-align: left;\">\n",
              "      <th>epoch</th>\n",
              "      <th>train_loss</th>\n",
              "      <th>valid_loss</th>\n",
              "      <th>accuracy</th>\n",
              "      <th>time</th>\n",
              "    </tr>\n",
              "  </thead>\n",
              "  <tbody>\n",
              "    <tr>\n",
              "      <td>0</td>\n",
              "      <td>3.930667</td>\n",
              "      <td>3.630851</td>\n",
              "      <td>0.369914</td>\n",
              "      <td>03:08</td>\n",
              "    </tr>\n",
              "  </tbody>\n",
              "</table>"
            ],
            "text/plain": [
              "<IPython.core.display.HTML object>"
            ]
          },
          "metadata": {
            "tags": []
          }
        }
      ]
    },
    {
      "cell_type": "code",
      "metadata": {
        "id": "ImwQP1PJwzxd",
        "outputId": "a3d8dbc0-6dc7-403d-e598-7a339c54ecbd",
        "colab": {
          "base_uri": "https://localhost:8080/",
          "height": 80
        }
      },
      "source": [
        "learn.freeze_to(-2)\n",
        "learn.fit_one_cycle(1, slice(5e-3/2., 5e-3))"
      ],
      "execution_count": 27,
      "outputs": [
        {
          "output_type": "display_data",
          "data": {
            "text/html": [
              "<table border=\"1\" class=\"dataframe\">\n",
              "  <thead>\n",
              "    <tr style=\"text-align: left;\">\n",
              "      <th>epoch</th>\n",
              "      <th>train_loss</th>\n",
              "      <th>valid_loss</th>\n",
              "      <th>accuracy</th>\n",
              "      <th>time</th>\n",
              "    </tr>\n",
              "  </thead>\n",
              "  <tbody>\n",
              "    <tr>\n",
              "      <td>0</td>\n",
              "      <td>2.782251</td>\n",
              "      <td>3.033813</td>\n",
              "      <td>0.474723</td>\n",
              "      <td>03:22</td>\n",
              "    </tr>\n",
              "  </tbody>\n",
              "</table>"
            ],
            "text/plain": [
              "<IPython.core.display.HTML object>"
            ]
          },
          "metadata": {
            "tags": []
          }
        }
      ]
    },
    {
      "cell_type": "code",
      "metadata": {
        "id": "Owff_BJXw53u",
        "outputId": "9014c53c-34fe-4237-a006-b64054e43d13",
        "colab": {
          "base_uri": "https://localhost:8080/",
          "height": 80
        }
      },
      "source": [
        "learn.unfreeze()\n",
        "learn.fit_one_cycle(1, slice(2e-3/100, 2e-3))"
      ],
      "execution_count": 28,
      "outputs": [
        {
          "output_type": "display_data",
          "data": {
            "text/html": [
              "<table border=\"1\" class=\"dataframe\">\n",
              "  <thead>\n",
              "    <tr style=\"text-align: left;\">\n",
              "      <th>epoch</th>\n",
              "      <th>train_loss</th>\n",
              "      <th>valid_loss</th>\n",
              "      <th>accuracy</th>\n",
              "      <th>time</th>\n",
              "    </tr>\n",
              "  </thead>\n",
              "  <tbody>\n",
              "    <tr>\n",
              "      <td>0</td>\n",
              "      <td>2.181273</td>\n",
              "      <td>2.565119</td>\n",
              "      <td>0.557337</td>\n",
              "      <td>07:44</td>\n",
              "    </tr>\n",
              "  </tbody>\n",
              "</table>"
            ],
            "text/plain": [
              "<IPython.core.display.HTML object>"
            ]
          },
          "metadata": {
            "tags": []
          }
        }
      ]
    },
    {
      "cell_type": "code",
      "metadata": {
        "id": "lqAyu56V8Waq",
        "outputId": "7a504410-f808-4f02-ecbd-ea58520f28f6",
        "colab": {
          "base_uri": "https://localhost:8080/",
          "height": 111
        }
      },
      "source": [
        "learn.fit_one_cycle(2, slice(2e-3/100, 2e-3))"
      ],
      "execution_count": 29,
      "outputs": [
        {
          "output_type": "display_data",
          "data": {
            "text/html": [
              "<table border=\"1\" class=\"dataframe\">\n",
              "  <thead>\n",
              "    <tr style=\"text-align: left;\">\n",
              "      <th>epoch</th>\n",
              "      <th>train_loss</th>\n",
              "      <th>valid_loss</th>\n",
              "      <th>accuracy</th>\n",
              "      <th>time</th>\n",
              "    </tr>\n",
              "  </thead>\n",
              "  <tbody>\n",
              "    <tr>\n",
              "      <td>0</td>\n",
              "      <td>1.980322</td>\n",
              "      <td>2.202301</td>\n",
              "      <td>0.589396</td>\n",
              "      <td>07:36</td>\n",
              "    </tr>\n",
              "    <tr>\n",
              "      <td>1</td>\n",
              "      <td>1.723476</td>\n",
              "      <td>2.076924</td>\n",
              "      <td>0.623921</td>\n",
              "      <td>07:41</td>\n",
              "    </tr>\n",
              "  </tbody>\n",
              "</table>"
            ],
            "text/plain": [
              "<IPython.core.display.HTML object>"
            ]
          },
          "metadata": {
            "tags": []
          }
        }
      ]
    },
    {
      "cell_type": "code",
      "metadata": {
        "id": "a7I1xMRp8bUd",
        "outputId": "20871b21-3ba8-4268-e548-20f77b85f967",
        "colab": {
          "base_uri": "https://localhost:8080/",
          "height": 111
        }
      },
      "source": [
        "learn.fit_one_cycle(2, slice(2e-3/100, 2e-3))"
      ],
      "execution_count": 30,
      "outputs": [
        {
          "output_type": "display_data",
          "data": {
            "text/html": [
              "<table border=\"1\" class=\"dataframe\">\n",
              "  <thead>\n",
              "    <tr style=\"text-align: left;\">\n",
              "      <th>epoch</th>\n",
              "      <th>train_loss</th>\n",
              "      <th>valid_loss</th>\n",
              "      <th>accuracy</th>\n",
              "      <th>time</th>\n",
              "    </tr>\n",
              "  </thead>\n",
              "  <tbody>\n",
              "    <tr>\n",
              "      <td>0</td>\n",
              "      <td>1.518130</td>\n",
              "      <td>1.835859</td>\n",
              "      <td>0.667078</td>\n",
              "      <td>07:53</td>\n",
              "    </tr>\n",
              "    <tr>\n",
              "      <td>1</td>\n",
              "      <td>1.327664</td>\n",
              "      <td>1.749863</td>\n",
              "      <td>0.680641</td>\n",
              "      <td>07:40</td>\n",
              "    </tr>\n",
              "  </tbody>\n",
              "</table>"
            ],
            "text/plain": [
              "<IPython.core.display.HTML object>"
            ]
          },
          "metadata": {
            "tags": []
          }
        }
      ]
    },
    {
      "cell_type": "code",
      "metadata": {
        "id": "UAnti-XmGVfO",
        "outputId": "c897230f-9ca2-4b3d-c9d6-c5559f4c2c65",
        "colab": {
          "base_uri": "https://localhost:8080/",
          "height": 111
        }
      },
      "source": [
        "learn.fit_one_cycle(2, slice(2e-3/100, 2e-3))"
      ],
      "execution_count": 31,
      "outputs": [
        {
          "output_type": "display_data",
          "data": {
            "text/html": [
              "<table border=\"1\" class=\"dataframe\">\n",
              "  <thead>\n",
              "    <tr style=\"text-align: left;\">\n",
              "      <th>epoch</th>\n",
              "      <th>train_loss</th>\n",
              "      <th>valid_loss</th>\n",
              "      <th>accuracy</th>\n",
              "      <th>time</th>\n",
              "    </tr>\n",
              "  </thead>\n",
              "  <tbody>\n",
              "    <tr>\n",
              "      <td>0</td>\n",
              "      <td>1.162822</td>\n",
              "      <td>1.651891</td>\n",
              "      <td>0.701603</td>\n",
              "      <td>07:52</td>\n",
              "    </tr>\n",
              "    <tr>\n",
              "      <td>1</td>\n",
              "      <td>1.019974</td>\n",
              "      <td>1.554964</td>\n",
              "      <td>0.710234</td>\n",
              "      <td>07:32</td>\n",
              "    </tr>\n",
              "  </tbody>\n",
              "</table>"
            ],
            "text/plain": [
              "<IPython.core.display.HTML object>"
            ]
          },
          "metadata": {
            "tags": []
          }
        }
      ]
    },
    {
      "cell_type": "code",
      "metadata": {
        "id": "bIft7W25GwSu",
        "outputId": "c67e0785-4001-4db4-9e13-334ae62729e4",
        "colab": {
          "base_uri": "https://localhost:8080/",
          "height": 111
        }
      },
      "source": [
        "learn.fit_one_cycle(2, slice(2e-3/100, 2e-3))"
      ],
      "execution_count": 32,
      "outputs": [
        {
          "output_type": "display_data",
          "data": {
            "text/html": [
              "<table border=\"1\" class=\"dataframe\">\n",
              "  <thead>\n",
              "    <tr style=\"text-align: left;\">\n",
              "      <th>epoch</th>\n",
              "      <th>train_loss</th>\n",
              "      <th>valid_loss</th>\n",
              "      <th>accuracy</th>\n",
              "      <th>time</th>\n",
              "    </tr>\n",
              "  </thead>\n",
              "  <tbody>\n",
              "    <tr>\n",
              "      <td>0</td>\n",
              "      <td>1.017759</td>\n",
              "      <td>1.484788</td>\n",
              "      <td>0.728730</td>\n",
              "      <td>07:46</td>\n",
              "    </tr>\n",
              "    <tr>\n",
              "      <td>1</td>\n",
              "      <td>0.854211</td>\n",
              "      <td>1.428354</td>\n",
              "      <td>0.739827</td>\n",
              "      <td>07:43</td>\n",
              "    </tr>\n",
              "  </tbody>\n",
              "</table>"
            ],
            "text/plain": [
              "<IPython.core.display.HTML object>"
            ]
          },
          "metadata": {
            "tags": []
          }
        }
      ]
    },
    {
      "cell_type": "code",
      "metadata": {
        "id": "EEHszVRvGyFt",
        "outputId": "c6306856-3988-4175-d4bd-46d96c78ad6f",
        "colab": {
          "base_uri": "https://localhost:8080/",
          "height": 111
        }
      },
      "source": [
        "learn.fit_one_cycle(2, slice(2e-3/100, 2e-3))"
      ],
      "execution_count": 33,
      "outputs": [
        {
          "output_type": "display_data",
          "data": {
            "text/html": [
              "<table border=\"1\" class=\"dataframe\">\n",
              "  <thead>\n",
              "    <tr style=\"text-align: left;\">\n",
              "      <th>epoch</th>\n",
              "      <th>train_loss</th>\n",
              "      <th>valid_loss</th>\n",
              "      <th>accuracy</th>\n",
              "      <th>time</th>\n",
              "    </tr>\n",
              "  </thead>\n",
              "  <tbody>\n",
              "    <tr>\n",
              "      <td>0</td>\n",
              "      <td>0.825401</td>\n",
              "      <td>1.354546</td>\n",
              "      <td>0.748459</td>\n",
              "      <td>08:11</td>\n",
              "    </tr>\n",
              "    <tr>\n",
              "      <td>1</td>\n",
              "      <td>0.705309</td>\n",
              "      <td>1.333125</td>\n",
              "      <td>0.763255</td>\n",
              "      <td>08:04</td>\n",
              "    </tr>\n",
              "  </tbody>\n",
              "</table>"
            ],
            "text/plain": [
              "<IPython.core.display.HTML object>"
            ]
          },
          "metadata": {
            "tags": []
          }
        }
      ]
    },
    {
      "cell_type": "code",
      "metadata": {
        "id": "XsHfrhCHG3dN",
        "outputId": "3433976c-817c-45f4-e3c0-7c7f8680b1b8",
        "colab": {
          "base_uri": "https://localhost:8080/",
          "height": 173
        }
      },
      "source": [
        "learn.fit_one_cycle(4, slice(2e-3/100, 2e-3))"
      ],
      "execution_count": 34,
      "outputs": [
        {
          "output_type": "display_data",
          "data": {
            "text/html": [
              "<table border=\"1\" class=\"dataframe\">\n",
              "  <thead>\n",
              "    <tr style=\"text-align: left;\">\n",
              "      <th>epoch</th>\n",
              "      <th>train_loss</th>\n",
              "      <th>valid_loss</th>\n",
              "      <th>accuracy</th>\n",
              "      <th>time</th>\n",
              "    </tr>\n",
              "  </thead>\n",
              "  <tbody>\n",
              "    <tr>\n",
              "      <td>0</td>\n",
              "      <td>0.645224</td>\n",
              "      <td>1.299866</td>\n",
              "      <td>0.760789</td>\n",
              "      <td>07:56</td>\n",
              "    </tr>\n",
              "    <tr>\n",
              "      <td>1</td>\n",
              "      <td>0.645746</td>\n",
              "      <td>1.258499</td>\n",
              "      <td>0.789149</td>\n",
              "      <td>08:04</td>\n",
              "    </tr>\n",
              "    <tr>\n",
              "      <td>2</td>\n",
              "      <td>0.548897</td>\n",
              "      <td>1.188407</td>\n",
              "      <td>0.792848</td>\n",
              "      <td>08:25</td>\n",
              "    </tr>\n",
              "    <tr>\n",
              "      <td>3</td>\n",
              "      <td>0.467938</td>\n",
              "      <td>1.174314</td>\n",
              "      <td>0.799014</td>\n",
              "      <td>07:25</td>\n",
              "    </tr>\n",
              "  </tbody>\n",
              "</table>"
            ],
            "text/plain": [
              "<IPython.core.display.HTML object>"
            ]
          },
          "metadata": {
            "tags": []
          }
        }
      ]
    },
    {
      "cell_type": "code",
      "metadata": {
        "id": "0Zsd99isb9EQ",
        "outputId": "a6bd6cd5-8ba0-4e13-e6cc-0589f49e58d9",
        "colab": {
          "base_uri": "https://localhost:8080/",
          "height": 173
        }
      },
      "source": [
        "learn.fit_one_cycle(4, slice(2e-3/100, 2e-3))"
      ],
      "execution_count": 35,
      "outputs": [
        {
          "output_type": "display_data",
          "data": {
            "text/html": [
              "<table border=\"1\" class=\"dataframe\">\n",
              "  <thead>\n",
              "    <tr style=\"text-align: left;\">\n",
              "      <th>epoch</th>\n",
              "      <th>train_loss</th>\n",
              "      <th>valid_loss</th>\n",
              "      <th>accuracy</th>\n",
              "      <th>time</th>\n",
              "    </tr>\n",
              "  </thead>\n",
              "  <tbody>\n",
              "    <tr>\n",
              "      <td>0</td>\n",
              "      <td>0.509071</td>\n",
              "      <td>1.243516</td>\n",
              "      <td>0.789149</td>\n",
              "      <td>08:02</td>\n",
              "    </tr>\n",
              "    <tr>\n",
              "      <td>1</td>\n",
              "      <td>0.520410</td>\n",
              "      <td>1.242322</td>\n",
              "      <td>0.782984</td>\n",
              "      <td>08:09</td>\n",
              "    </tr>\n",
              "    <tr>\n",
              "      <td>2</td>\n",
              "      <td>0.434208</td>\n",
              "      <td>1.158940</td>\n",
              "      <td>0.808878</td>\n",
              "      <td>07:36</td>\n",
              "    </tr>\n",
              "    <tr>\n",
              "      <td>3</td>\n",
              "      <td>0.361810</td>\n",
              "      <td>1.180390</td>\n",
              "      <td>0.810111</td>\n",
              "      <td>07:44</td>\n",
              "    </tr>\n",
              "  </tbody>\n",
              "</table>"
            ],
            "text/plain": [
              "<IPython.core.display.HTML object>"
            ]
          },
          "metadata": {
            "tags": []
          }
        }
      ]
    },
    {
      "cell_type": "code",
      "metadata": {
        "id": "atNWNKDFPbuI",
        "outputId": "00f96bc4-6b76-48a7-a917-f2d1150df5c0",
        "colab": {
          "base_uri": "https://localhost:8080/",
          "height": 173
        }
      },
      "source": [
        "learn.fit_one_cycle(4, slice(2e-3/100, 2e-3))"
      ],
      "execution_count": 36,
      "outputs": [
        {
          "output_type": "display_data",
          "data": {
            "text/html": [
              "<table border=\"1\" class=\"dataframe\">\n",
              "  <thead>\n",
              "    <tr style=\"text-align: left;\">\n",
              "      <th>epoch</th>\n",
              "      <th>train_loss</th>\n",
              "      <th>valid_loss</th>\n",
              "      <th>accuracy</th>\n",
              "      <th>time</th>\n",
              "    </tr>\n",
              "  </thead>\n",
              "  <tbody>\n",
              "    <tr>\n",
              "      <td>0</td>\n",
              "      <td>0.405657</td>\n",
              "      <td>1.171627</td>\n",
              "      <td>0.797781</td>\n",
              "      <td>07:44</td>\n",
              "    </tr>\n",
              "    <tr>\n",
              "      <td>1</td>\n",
              "      <td>0.388543</td>\n",
              "      <td>1.158913</td>\n",
              "      <td>0.808878</td>\n",
              "      <td>07:43</td>\n",
              "    </tr>\n",
              "    <tr>\n",
              "      <td>2</td>\n",
              "      <td>0.336902</td>\n",
              "      <td>1.161316</td>\n",
              "      <td>0.819975</td>\n",
              "      <td>08:16</td>\n",
              "    </tr>\n",
              "    <tr>\n",
              "      <td>3</td>\n",
              "      <td>0.307116</td>\n",
              "      <td>1.162849</td>\n",
              "      <td>0.821208</td>\n",
              "      <td>07:46</td>\n",
              "    </tr>\n",
              "  </tbody>\n",
              "</table>"
            ],
            "text/plain": [
              "<IPython.core.display.HTML object>"
            ]
          },
          "metadata": {
            "tags": []
          }
        }
      ]
    },
    {
      "cell_type": "code",
      "metadata": {
        "id": "rKrBTZ0T1uVA",
        "outputId": "3d71557e-6c79-4715-9904-1dbb4d571a46",
        "colab": {
          "base_uri": "https://localhost:8080/",
          "height": 173
        }
      },
      "source": [
        "learn.fit_one_cycle(4, slice(2e-3/100, 2e-3))"
      ],
      "execution_count": 37,
      "outputs": [
        {
          "output_type": "display_data",
          "data": {
            "text/html": [
              "<table border=\"1\" class=\"dataframe\">\n",
              "  <thead>\n",
              "    <tr style=\"text-align: left;\">\n",
              "      <th>epoch</th>\n",
              "      <th>train_loss</th>\n",
              "      <th>valid_loss</th>\n",
              "      <th>accuracy</th>\n",
              "      <th>time</th>\n",
              "    </tr>\n",
              "  </thead>\n",
              "  <tbody>\n",
              "    <tr>\n",
              "      <td>0</td>\n",
              "      <td>0.277752</td>\n",
              "      <td>1.201216</td>\n",
              "      <td>0.813810</td>\n",
              "      <td>07:40</td>\n",
              "    </tr>\n",
              "    <tr>\n",
              "      <td>1</td>\n",
              "      <td>0.353560</td>\n",
              "      <td>1.232905</td>\n",
              "      <td>0.794081</td>\n",
              "      <td>07:36</td>\n",
              "    </tr>\n",
              "    <tr>\n",
              "      <td>2</td>\n",
              "      <td>0.288464</td>\n",
              "      <td>1.238058</td>\n",
              "      <td>0.812577</td>\n",
              "      <td>07:58</td>\n",
              "    </tr>\n",
              "    <tr>\n",
              "      <td>3</td>\n",
              "      <td>0.253179</td>\n",
              "      <td>1.224968</td>\n",
              "      <td>0.818742</td>\n",
              "      <td>07:37</td>\n",
              "    </tr>\n",
              "  </tbody>\n",
              "</table>"
            ],
            "text/plain": [
              "<IPython.core.display.HTML object>"
            ]
          },
          "metadata": {
            "tags": []
          }
        }
      ]
    },
    {
      "cell_type": "code",
      "metadata": {
        "id": "ajQC6WDg1yA9",
        "outputId": "382539d6-489f-4c29-a52c-a2da867fb906",
        "colab": {
          "base_uri": "https://localhost:8080/",
          "height": 173
        }
      },
      "source": [
        "learn.fit_one_cycle(4, slice(2e-3/100, 2e-3))"
      ],
      "execution_count": 38,
      "outputs": [
        {
          "output_type": "display_data",
          "data": {
            "text/html": [
              "<table border=\"1\" class=\"dataframe\">\n",
              "  <thead>\n",
              "    <tr style=\"text-align: left;\">\n",
              "      <th>epoch</th>\n",
              "      <th>train_loss</th>\n",
              "      <th>valid_loss</th>\n",
              "      <th>accuracy</th>\n",
              "      <th>time</th>\n",
              "    </tr>\n",
              "  </thead>\n",
              "  <tbody>\n",
              "    <tr>\n",
              "      <td>0</td>\n",
              "      <td>0.261378</td>\n",
              "      <td>1.281005</td>\n",
              "      <td>0.803946</td>\n",
              "      <td>08:16</td>\n",
              "    </tr>\n",
              "    <tr>\n",
              "      <td>1</td>\n",
              "      <td>0.284273</td>\n",
              "      <td>1.294612</td>\n",
              "      <td>0.805179</td>\n",
              "      <td>07:59</td>\n",
              "    </tr>\n",
              "    <tr>\n",
              "      <td>2</td>\n",
              "      <td>0.254342</td>\n",
              "      <td>1.258790</td>\n",
              "      <td>0.810111</td>\n",
              "      <td>08:11</td>\n",
              "    </tr>\n",
              "    <tr>\n",
              "      <td>3</td>\n",
              "      <td>0.218214</td>\n",
              "      <td>1.203414</td>\n",
              "      <td>0.811344</td>\n",
              "      <td>08:17</td>\n",
              "    </tr>\n",
              "  </tbody>\n",
              "</table>"
            ],
            "text/plain": [
              "<IPython.core.display.HTML object>"
            ]
          },
          "metadata": {
            "tags": []
          }
        }
      ]
    },
    {
      "cell_type": "code",
      "metadata": {
        "id": "KKydb0B4BKGk",
        "outputId": "3cac52a1-8ede-4b7f-a107-a340efe7588f",
        "colab": {
          "base_uri": "https://localhost:8080/",
          "height": 173
        }
      },
      "source": [
        "learn.fit_one_cycle(4, slice(2e-3/100, 2e-3))"
      ],
      "execution_count": 39,
      "outputs": [
        {
          "output_type": "display_data",
          "data": {
            "text/html": [
              "<table border=\"1\" class=\"dataframe\">\n",
              "  <thead>\n",
              "    <tr style=\"text-align: left;\">\n",
              "      <th>epoch</th>\n",
              "      <th>train_loss</th>\n",
              "      <th>valid_loss</th>\n",
              "      <th>accuracy</th>\n",
              "      <th>time</th>\n",
              "    </tr>\n",
              "  </thead>\n",
              "  <tbody>\n",
              "    <tr>\n",
              "      <td>0</td>\n",
              "      <td>0.220167</td>\n",
              "      <td>1.199285</td>\n",
              "      <td>0.812577</td>\n",
              "      <td>08:11</td>\n",
              "    </tr>\n",
              "    <tr>\n",
              "      <td>1</td>\n",
              "      <td>0.298869</td>\n",
              "      <td>1.248735</td>\n",
              "      <td>0.805179</td>\n",
              "      <td>08:38</td>\n",
              "    </tr>\n",
              "    <tr>\n",
              "      <td>2</td>\n",
              "      <td>0.227638</td>\n",
              "      <td>1.269861</td>\n",
              "      <td>0.815043</td>\n",
              "      <td>07:49</td>\n",
              "    </tr>\n",
              "    <tr>\n",
              "      <td>3</td>\n",
              "      <td>0.216695</td>\n",
              "      <td>1.280450</td>\n",
              "      <td>0.813810</td>\n",
              "      <td>08:15</td>\n",
              "    </tr>\n",
              "  </tbody>\n",
              "</table>"
            ],
            "text/plain": [
              "<IPython.core.display.HTML object>"
            ]
          },
          "metadata": {
            "tags": []
          }
        }
      ]
    },
    {
      "cell_type": "code",
      "metadata": {
        "id": "T2APKtFKBpGY",
        "outputId": "459a67ee-ca64-4415-e22f-93292a268231",
        "colab": {
          "base_uri": "https://localhost:8080/",
          "height": 173
        }
      },
      "source": [
        "learn.fit_one_cycle(4, slice(2e-3/100, 2e-3))"
      ],
      "execution_count": 40,
      "outputs": [
        {
          "output_type": "display_data",
          "data": {
            "text/html": [
              "<table border=\"1\" class=\"dataframe\">\n",
              "  <thead>\n",
              "    <tr style=\"text-align: left;\">\n",
              "      <th>epoch</th>\n",
              "      <th>train_loss</th>\n",
              "      <th>valid_loss</th>\n",
              "      <th>accuracy</th>\n",
              "      <th>time</th>\n",
              "    </tr>\n",
              "  </thead>\n",
              "  <tbody>\n",
              "    <tr>\n",
              "      <td>0</td>\n",
              "      <td>0.194153</td>\n",
              "      <td>1.282875</td>\n",
              "      <td>0.813810</td>\n",
              "      <td>08:20</td>\n",
              "    </tr>\n",
              "    <tr>\n",
              "      <td>1</td>\n",
              "      <td>0.231974</td>\n",
              "      <td>1.279481</td>\n",
              "      <td>0.819975</td>\n",
              "      <td>08:09</td>\n",
              "    </tr>\n",
              "    <tr>\n",
              "      <td>2</td>\n",
              "      <td>0.202639</td>\n",
              "      <td>1.260664</td>\n",
              "      <td>0.822441</td>\n",
              "      <td>07:55</td>\n",
              "    </tr>\n",
              "    <tr>\n",
              "      <td>3</td>\n",
              "      <td>0.182474</td>\n",
              "      <td>1.246564</td>\n",
              "      <td>0.821208</td>\n",
              "      <td>08:27</td>\n",
              "    </tr>\n",
              "  </tbody>\n",
              "</table>"
            ],
            "text/plain": [
              "<IPython.core.display.HTML object>"
            ]
          },
          "metadata": {
            "tags": []
          }
        }
      ]
    },
    {
      "cell_type": "code",
      "metadata": {
        "id": "qtTypA1sPgLU",
        "outputId": "e8db7854-d4dd-483c-a1a3-95983532cf6f",
        "colab": {
          "base_uri": "https://localhost:8080/",
          "height": 111
        }
      },
      "source": [
        "learn.fit_one_cycle(2, slice(2e-3/100, 2e-3))"
      ],
      "execution_count": 41,
      "outputs": [
        {
          "output_type": "display_data",
          "data": {
            "text/html": [
              "<table border=\"1\" class=\"dataframe\">\n",
              "  <thead>\n",
              "    <tr style=\"text-align: left;\">\n",
              "      <th>epoch</th>\n",
              "      <th>train_loss</th>\n",
              "      <th>valid_loss</th>\n",
              "      <th>accuracy</th>\n",
              "      <th>time</th>\n",
              "    </tr>\n",
              "  </thead>\n",
              "  <tbody>\n",
              "    <tr>\n",
              "      <td>0</td>\n",
              "      <td>0.221628</td>\n",
              "      <td>1.267823</td>\n",
              "      <td>0.807645</td>\n",
              "      <td>08:08</td>\n",
              "    </tr>\n",
              "    <tr>\n",
              "      <td>1</td>\n",
              "      <td>0.188148</td>\n",
              "      <td>1.275736</td>\n",
              "      <td>0.821208</td>\n",
              "      <td>08:11</td>\n",
              "    </tr>\n",
              "  </tbody>\n",
              "</table>"
            ],
            "text/plain": [
              "<IPython.core.display.HTML object>"
            ]
          },
          "metadata": {
            "tags": []
          }
        }
      ]
    },
    {
      "cell_type": "code",
      "metadata": {
        "id": "b242kBsTUp9Y",
        "outputId": "937df6c7-394c-4585-f9a5-c3d3e049c5ab",
        "colab": {
          "base_uri": "https://localhost:8080/",
          "height": 111
        }
      },
      "source": [
        "learn.fit_one_cycle(2, slice(2e-3/100, 2e-3))"
      ],
      "execution_count": 42,
      "outputs": [
        {
          "output_type": "display_data",
          "data": {
            "text/html": [
              "<table border=\"1\" class=\"dataframe\">\n",
              "  <thead>\n",
              "    <tr style=\"text-align: left;\">\n",
              "      <th>epoch</th>\n",
              "      <th>train_loss</th>\n",
              "      <th>valid_loss</th>\n",
              "      <th>accuracy</th>\n",
              "      <th>time</th>\n",
              "    </tr>\n",
              "  </thead>\n",
              "  <tbody>\n",
              "    <tr>\n",
              "      <td>0</td>\n",
              "      <td>0.195435</td>\n",
              "      <td>1.391922</td>\n",
              "      <td>0.806412</td>\n",
              "      <td>08:27</td>\n",
              "    </tr>\n",
              "    <tr>\n",
              "      <td>1</td>\n",
              "      <td>0.185348</td>\n",
              "      <td>1.380401</td>\n",
              "      <td>0.822441</td>\n",
              "      <td>07:32</td>\n",
              "    </tr>\n",
              "  </tbody>\n",
              "</table>"
            ],
            "text/plain": [
              "<IPython.core.display.HTML object>"
            ]
          },
          "metadata": {
            "tags": []
          }
        }
      ]
    },
    {
      "cell_type": "code",
      "metadata": {
        "id": "Duwf1Ih5VeDZ",
        "outputId": "9eca0073-3a92-4f84-ecc7-4e4ff571fbcc",
        "colab": {
          "base_uri": "https://localhost:8080/",
          "height": 80
        }
      },
      "source": [
        "learn.fit_one_cycle(1, slice(2e-3/100, 2e-3))"
      ],
      "execution_count": 43,
      "outputs": [
        {
          "output_type": "display_data",
          "data": {
            "text/html": [
              "<table border=\"1\" class=\"dataframe\">\n",
              "  <thead>\n",
              "    <tr style=\"text-align: left;\">\n",
              "      <th>epoch</th>\n",
              "      <th>train_loss</th>\n",
              "      <th>valid_loss</th>\n",
              "      <th>accuracy</th>\n",
              "      <th>time</th>\n",
              "    </tr>\n",
              "  </thead>\n",
              "  <tbody>\n",
              "    <tr>\n",
              "      <td>0</td>\n",
              "      <td>0.197895</td>\n",
              "      <td>1.328572</td>\n",
              "      <td>0.816276</td>\n",
              "      <td>07:52</td>\n",
              "    </tr>\n",
              "  </tbody>\n",
              "</table>"
            ],
            "text/plain": [
              "<IPython.core.display.HTML object>"
            ]
          },
          "metadata": {
            "tags": []
          }
        }
      ]
    },
    {
      "cell_type": "code",
      "metadata": {
        "id": "c65d-osfDUXm"
      },
      "source": [
        "# save the best model\n",
        "\n",
        "learn.save_encoder('pubmed_cadec_askpatient_mixed_fold8')"
      ],
      "execution_count": 44,
      "outputs": []
    },
    {
      "cell_type": "markdown",
      "metadata": {
        "id": "rCwZU0E2RgM6"
      },
      "source": [
        "# Part three: Predict on the test dataset"
      ]
    },
    {
      "cell_type": "code",
      "metadata": {
        "id": "gDm72c-dOu7d",
        "outputId": "a9e1d584-7480-4d7c-ebf8-fd5a40297546",
        "colab": {
          "base_uri": "https://localhost:8080/",
          "height": 17
        }
      },
      "source": [
        "# use the test data for prediction\n",
        "\n",
        "preds, y = learn.get_preds(DatasetType.Test)"
      ],
      "execution_count": 45,
      "outputs": [
        {
          "output_type": "display_data",
          "data": {
            "text/html": [
              ""
            ],
            "text/plain": [
              "<IPython.core.display.HTML object>"
            ]
          },
          "metadata": {
            "tags": []
          }
        }
      ]
    },
    {
      "cell_type": "code",
      "metadata": {
        "id": "6tFSQcsWPvxn",
        "outputId": "d576eea0-568a-4c5c-b1c5-e9ea2892292e",
        "colab": {
          "base_uri": "https://localhost:8080/",
          "height": 105
        }
      },
      "source": [
        "predictions, *_ = learn.get_preds(DatasetType.Test)\n",
        "labels = np.argmax(predictions, 1)\n",
        "predict_list = labels.tolist()\n",
        "standard_list = test[0].tolist()\n",
        "\n",
        "print(len(predict_list))\n",
        "print(len(standard_list))\n",
        "\n",
        "print(predict_list)\n",
        "print(standard_list)"
      ],
      "execution_count": 46,
      "outputs": [
        {
          "output_type": "display_data",
          "data": {
            "text/html": [
              ""
            ],
            "text/plain": [
              "<IPython.core.display.HTML object>"
            ]
          },
          "metadata": {
            "tags": []
          }
        },
        {
          "output_type": "stream",
          "text": [
            "866\n",
            "866\n",
            "[528, 788, 5, 8, 8, 8, 472, 20, 403, 27, 491, 491, 31, 878, 34, 65, 209, 37, 37, 37, 37, 37, 42, 1025, 49, 775, 49, 49, 775, 302, 49, 53, 53, 53, 53, 53, 60, 60, 60, 70, 274, 76, 76, 79, 79, 79, 79, 79, 79, 79, 79, 79, 79, 79, 79, 79, 79, 79, 79, 79, 79, 79, 79, 79, 79, 79, 79, 79, 79, 79, 79, 79, 79, 79, 79, 79, 79, 79, 79, 79, 79, 79, 79, 79, 79, 79, 79, 79, 80, 80, 80, 80, 85, 925, 91, 91, 91, 94, 94, 94, 296, 274, 94, 94, 94, 94, 94, 94, 94, 94, 94, 94, 94, 75, 94, 234, 832, 100, 100, 100, 100, 100, 100, 100, 602, 105, 108, 108, 76, 857, 111, 111, 111, 111, 111, 111, 111, 111, 111, 111, 112, 117, 607, 125, 125, 125, 125, 125, 125, 125, 125, 125, 125, 20, 514, 96, 127, 135, 94, 589, 94, 695, 89, 137, 139, 142, 847, 151, 151, 152, 157, 81, 67, 178, 166, 166, 771, 570, 570, 172, 172, 173, 173, 181, 722, 182, 182, 182, 182, 289, 182, 183, 183, 183, 183, 183, 183, 183, 183, 184, 184, 289, 1009, 187, 187, 187, 469, 189, 190, 190, 190, 190, 190, 190, 190, 190, 190, 193, 732, 202, 206, 206, 210, 210, 214, 214, 214, 214, 214, 214, 214, 214, 214, 214, 214, 214, 214, 240, 274, 220, 220, 220, 220, 223, 224, 402, 227, 228, 228, 289, 228, 228, 228, 228, 228, 228, 228, 228, 228, 228, 228, 228, 20, 228, 289, 234, 234, 234, 234, 234, 235, 235, 236, 236, 238, 238, 239, 242, 547, 243, 243, 243, 243, 969, 243, 857, 245, 764, 245, 245, 245, 245, 245, 10, 252, 254, 291, 260, 260, 893, 265, 265, 88, 265, 265, 289, 289, 79, 265, 265, 265, 265, 265, 265, 265, 265, 265, 265, 265, 265, 265, 265, 265, 265, 265, 265, 265, 265, 265, 265, 318, 265, 265, 265, 318, 289, 240, 269, 277, 277, 277, 280, 289, 289, 289, 289, 289, 76, 289, 289, 289, 289, 289, 289, 289, 289, 289, 289, 289, 163, 291, 507, 291, 289, 364, 293, 717, 300, 950, 950, 301, 775, 311, 857, 304, 217, 289, 309, 309, 309, 309, 352, 309, 309, 487, 318, 325, 325, 325, 325, 325, 325, 325, 325, 325, 325, 146, 326, 326, 846, 332, 332, 334, 336, 337, 337, 343, 343, 343, 348, 770, 699, 402, 359, 359, 727, 609, 391, 444, 760, 148, 695, 577, 402, 402, 402, 405, 407, 408, 805, 584, 771, 418, 419, 419, 419, 419, 419, 419, 419, 419, 419, 742, 424, 424, 424, 426, 426, 427, 427, 125, 775, 427, 427, 427, 427, 427, 427, 857, 427, 727, 888, 117, 238, 407, 441, 142, 449, 451, 453, 454, 455, 455, 240, 455, 455, 455, 455, 459, 459, 460, 462, 463, 469, 470, 654, 471, 235, 695, 695, 475, 146, 475, 478, 614, 491, 491, 491, 491, 491, 274, 96, 492, 471, 495, 495, 503, 503, 148, 281, 90, 517, 531, 517, 518, 523, 524, 524, 240, 530, 530, 530, 517, 531, 546, 548, 548, 369, 551, 491, 574, 578, 579, 580, 584, 587, 590, 590, 240, 592, 592, 594, 595, 315, 597, 80, 610, 614, 614, 614, 614, 76, 325, 617, 619, 622, 623, 623, 624, 633, 109, 809, 646, 646, 646, 775, 728, 651, 281, 652, 652, 652, 652, 662, 662, 437, 677, 4, 695, 289, 702, 364, 265, 37, 741, 707, 711, 715, 717, 564, 771, 696, 726, 664, 741, 741, 741, 741, 289, 541, 750, 749, 76, 759, 96, 763, 764, 609, 773, 774, 569, 775, 775, 727, 775, 775, 777, 778, 56, 771, 781, 183, 787, 538, 794, 240, 240, 824, 767, 806, 808, 404, 809, 809, 809, 810, 810, 812, 819, 826, 826, 830, 830, 830, 830, 830, 830, 830, 455, 455, 120, 722, 834, 834, 840, 617, 531, 847, 383, 857, 274, 852, 852, 853, 853, 853, 853, 558, 861, 861, 864, 82, 274, 871, 872, 681, 49, 877, 877, 877, 281, 896, 896, 896, 896, 896, 896, 296, 296, 904, 904, 904, 904, 1025, 907, 433, 912, 934, 937, 937, 937, 937, 937, 937, 937, 937, 240, 937, 941, 298, 298, 340, 925, 948, 949, 949, 949, 949, 949, 949, 949, 949, 949, 949, 949, 949, 949, 949, 949, 949, 949, 949, 949, 949, 949, 949, 949, 949, 949, 949, 949, 949, 949, 949, 949, 949, 949, 949, 949, 949, 949, 949, 949, 949, 949, 949, 949, 949, 949, 949, 949, 949, 949, 949, 949, 949, 949, 949, 949, 949, 949, 949, 949, 949, 949, 949, 949, 949, 949, 949, 949, 949, 949, 949, 949, 949, 949, 949, 949, 949, 949, 925, 949, 949, 949, 949, 949, 949, 949, 949, 949, 949, 949, 949, 949, 949, 949, 949, 949, 949, 949, 949, 949, 949, 949, 949, 949, 949, 950, 950, 950, 950, 950, 950, 950, 955, 955, 963, 964, 964, 455, 965, 966, 256, 1021, 949, 976, 978, 695, 980, 611, 611, 989, 997, 999, 1001, 1001, 1001, 1004, 1004, 261, 1016, 1026, 48, 1026, 1026, 1026, 1026, 1026, 1026, 1025, 1027, 925, 1028, 1028, 1029]\n",
            "[1, 5, 5, 8, 8, 8, 12, 20, 26, 27, 29, 29, 31, 31, 34, 34, 34, 37, 37, 37, 37, 37, 42, 43, 49, 49, 49, 49, 49, 49, 49, 53, 53, 53, 53, 53, 60, 60, 60, 70, 74, 76, 76, 79, 79, 79, 79, 79, 79, 79, 79, 79, 79, 79, 79, 79, 79, 79, 79, 79, 79, 79, 79, 79, 79, 79, 79, 79, 79, 79, 79, 79, 79, 79, 79, 79, 79, 79, 79, 79, 79, 79, 79, 79, 79, 79, 79, 79, 80, 80, 80, 80, 85, 87, 91, 91, 91, 94, 94, 94, 94, 94, 94, 94, 94, 94, 94, 94, 94, 94, 94, 94, 94, 94, 94, 98, 99, 100, 100, 100, 100, 100, 100, 100, 103, 105, 108, 108, 108, 110, 111, 111, 111, 111, 111, 111, 111, 111, 111, 111, 112, 117, 118, 125, 125, 125, 125, 125, 125, 125, 125, 125, 125, 125, 126, 127, 127, 135, 135, 135, 135, 136, 137, 137, 139, 142, 151, 151, 151, 152, 157, 159, 164, 165, 166, 166, 166, 172, 172, 172, 172, 173, 173, 181, 182, 182, 182, 182, 182, 182, 182, 183, 183, 183, 183, 183, 183, 183, 183, 184, 184, 185, 187, 187, 187, 187, 188, 189, 190, 190, 190, 190, 190, 190, 190, 190, 190, 193, 194, 202, 206, 206, 210, 210, 214, 214, 214, 214, 214, 214, 214, 214, 214, 214, 214, 214, 214, 218, 218, 220, 220, 220, 220, 223, 224, 226, 227, 228, 228, 228, 228, 228, 228, 228, 228, 228, 228, 228, 228, 228, 228, 228, 228, 228, 228, 234, 234, 234, 234, 234, 235, 235, 236, 236, 238, 238, 239, 242, 243, 243, 243, 243, 243, 243, 243, 244, 245, 245, 245, 245, 245, 245, 245, 250, 252, 254, 257, 260, 260, 263, 265, 265, 265, 265, 265, 265, 265, 265, 265, 265, 265, 265, 265, 265, 265, 265, 265, 265, 265, 265, 265, 265, 265, 265, 265, 265, 265, 265, 265, 265, 265, 265, 265, 265, 265, 265, 266, 269, 277, 277, 277, 280, 289, 289, 289, 289, 289, 289, 289, 289, 289, 289, 289, 289, 289, 289, 289, 289, 289, 291, 291, 291, 291, 293, 293, 293, 293, 300, 301, 301, 301, 301, 303, 304, 304, 307, 309, 309, 309, 309, 309, 309, 309, 310, 318, 318, 325, 325, 325, 325, 325, 325, 325, 325, 325, 325, 325, 326, 326, 329, 332, 332, 334, 336, 337, 337, 343, 343, 343, 349, 350, 352, 358, 359, 359, 373, 375, 391, 391, 394, 398, 401, 402, 402, 402, 402, 405, 406, 408, 413, 414, 415, 418, 419, 419, 419, 419, 419, 419, 419, 419, 419, 423, 424, 424, 424, 426, 426, 427, 427, 427, 427, 427, 427, 427, 427, 427, 427, 427, 427, 427, 427, 429, 434, 439, 441, 447, 449, 451, 453, 454, 455, 455, 455, 455, 455, 455, 455, 459, 459, 460, 462, 463, 469, 470, 471, 471, 473, 474, 475, 475, 475, 475, 478, 479, 491, 491, 491, 491, 491, 491, 491, 492, 494, 495, 495, 503, 503, 503, 513, 516, 517, 517, 517, 519, 523, 524, 524, 527, 530, 530, 530, 531, 531, 546, 548, 548, 557, 558, 561, 574, 578, 579, 580, 584, 587, 590, 590, 591, 592, 592, 594, 595, 596, 597, 603, 610, 614, 614, 614, 614, 614, 615, 617, 619, 622, 623, 623, 624, 633, 637, 641, 646, 646, 646, 647, 648, 651, 651, 652, 652, 652, 652, 662, 662, 664, 681, 693, 695, 700, 701, 701, 704, 704, 704, 707, 711, 716, 717, 721, 723, 723, 726, 738, 741, 741, 741, 741, 741, 746, 749, 749, 751, 759, 761, 763, 764, 767, 773, 774, 775, 775, 775, 775, 775, 775, 777, 778, 779, 779, 781, 786, 788, 794, 794, 794, 794, 803, 806, 806, 808, 809, 809, 809, 809, 810, 810, 812, 820, 826, 826, 830, 830, 830, 830, 830, 830, 830, 830, 830, 831, 833, 834, 834, 840, 841, 847, 847, 847, 848, 852, 852, 852, 853, 853, 853, 853, 853, 861, 861, 864, 865, 870, 871, 872, 876, 876, 877, 877, 877, 889, 896, 896, 896, 896, 896, 896, 900, 900, 904, 904, 904, 904, 905, 907, 910, 912, 934, 937, 937, 937, 937, 937, 937, 937, 937, 937, 937, 941, 941, 941, 943, 948, 948, 949, 949, 949, 949, 949, 949, 949, 949, 949, 949, 949, 949, 949, 949, 949, 949, 949, 949, 949, 949, 949, 949, 949, 949, 949, 949, 949, 949, 949, 949, 949, 949, 949, 949, 949, 949, 949, 949, 949, 949, 949, 949, 949, 949, 949, 949, 949, 949, 949, 949, 949, 949, 949, 949, 949, 949, 949, 949, 949, 949, 949, 949, 949, 949, 949, 949, 949, 949, 949, 949, 949, 949, 949, 949, 949, 949, 949, 949, 949, 949, 949, 949, 949, 949, 949, 949, 949, 949, 949, 949, 949, 949, 949, 949, 949, 949, 949, 949, 949, 949, 949, 949, 949, 949, 950, 950, 950, 950, 950, 950, 950, 955, 955, 963, 964, 964, 964, 965, 966, 967, 970, 973, 976, 978, 979, 980, 983, 983, 989, 997, 999, 1001, 1001, 1001, 1004, 1004, 1005, 1016, 1026, 1026, 1026, 1026, 1026, 1026, 1026, 1026, 1026, 1027, 1028, 1028, 1028, 1029]\n"
          ],
          "name": "stdout"
        }
      ]
    },
    {
      "cell_type": "code",
      "metadata": {
        "id": "XIC4zufnMxtq",
        "outputId": "f7d4e0d9-d31a-4466-9ddc-0549bb0f4d1f",
        "colab": {
          "base_uri": "https://localhost:8080/",
          "height": 51
        }
      },
      "source": [
        "correct_num = 0\n",
        "\n",
        "for i in range(0, len(standard_list)):\n",
        "  if predict_list[i] == standard_list[i]:\n",
        "    correct_num = correct_num+1\n",
        "  else:\n",
        "    pass\n",
        "print(correct_num)\n",
        "\n",
        "predict_accuracy = correct_num/len(predict_list)\n",
        "print(predict_accuracy)"
      ],
      "execution_count": 47,
      "outputs": [
        {
          "output_type": "stream",
          "text": [
            "658\n",
            "0.7598152424942263\n"
          ],
          "name": "stdout"
        }
      ]
    },
    {
      "cell_type": "code",
      "metadata": {
        "id": "zlKMHp1CIaRJ"
      },
      "source": [
        ""
      ],
      "execution_count": 47,
      "outputs": []
    }
  ]
}