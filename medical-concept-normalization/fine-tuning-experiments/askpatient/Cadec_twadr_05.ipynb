{
  "nbformat": 4,
  "nbformat_minor": 0,
  "metadata": {
    "accelerator": "TPU",
    "colab": {
      "name": "Cadec_twadr_05.ipynb",
      "provenance": [],
      "collapsed_sections": [],
      "toc_visible": true,
      "include_colab_link": true
    },
    "kernelspec": {
      "display_name": "Python 3",
      "name": "python3"
    }
  },
  "cells": [
    {
      "cell_type": "markdown",
      "metadata": {
        "id": "view-in-github",
        "colab_type": "text"
      },
      "source": [
        "<a href=\"https://colab.research.google.com/github/unt-iialab/medical-concept-normalization/blob/master/medical-concept-normalization/fine-tuning-experiments/askpatient/Cadec_twadr_05.ipynb\" target=\"_parent\"><img src=\"https://colab.research.google.com/assets/colab-badge.svg\" alt=\"Open In Colab\"/></a>"
      ]
    },
    {
      "cell_type": "code",
      "metadata": {
        "id": "adSi6i2-dWxy"
      },
      "source": [
        "import os"
      ],
      "execution_count": 1,
      "outputs": []
    },
    {
      "cell_type": "code",
      "metadata": {
        "id": "E7xYCRGPjd9B"
      },
      "source": [
        "base_dir = 'medical-concept-normalization'"
      ],
      "execution_count": 2,
      "outputs": []
    },
    {
      "cell_type": "code",
      "metadata": {
        "id": "yvIW3aUDjYNS"
      },
      "source": [
        "os.mkdir(base_dir)"
      ],
      "execution_count": 3,
      "outputs": []
    },
    {
      "cell_type": "code",
      "metadata": {
        "id": "es-FFLlfk6SG"
      },
      "source": [
        "os.mkdir('medical-concept-normalization/data_collection')"
      ],
      "execution_count": 4,
      "outputs": []
    },
    {
      "cell_type": "markdown",
      "metadata": {
        "id": "0R-Guw_VoJXm"
      },
      "source": [
        "**Install fastai and clone the fastai for text classification**\n",
        "\n"
      ]
    },
    {
      "cell_type": "code",
      "metadata": {
        "id": "QVZa3Z0PmHFH",
        "outputId": "443e7baf-0e40-44e4-e924-69d1edc9e86d",
        "colab": {
          "base_uri": "https://localhost:8080/"
        }
      },
      "source": [
        "!curl https://course-v3.fast.ai/setup/colab | bash"
      ],
      "execution_count": 5,
      "outputs": [
        {
          "output_type": "stream",
          "text": [
            "  % Total    % Received % Xferd  Average Speed   Time    Time     Time  Current\n",
            "                                 Dload  Upload   Total   Spent    Left  Speed\n",
            "\r  0     0    0     0    0     0      0      0 --:--:-- --:--:-- --:--:--     0curl: (6) Could not resolve host: course-v3.fast.ai\n"
          ],
          "name": "stdout"
        }
      ]
    },
    {
      "cell_type": "code",
      "metadata": {
        "id": "_FBFFEBrmJC0",
        "outputId": "502be516-72da-4674-e314-744132951598",
        "colab": {
          "base_uri": "https://localhost:8080/"
        }
      },
      "source": [
        "!git clone https://github.com/wshuyi/demo-nlp-classification-fastai.git"
      ],
      "execution_count": 6,
      "outputs": [
        {
          "output_type": "stream",
          "text": [
            "Cloning into 'demo-nlp-classification-fastai'...\n",
            "remote: Enumerating objects: 9, done.\u001b[K\n",
            "remote: Total 9 (delta 0), reused 0 (delta 0), pack-reused 9\u001b[K\n",
            "Unpacking objects: 100% (9/9), done.\n"
          ],
          "name": "stdout"
        }
      ]
    },
    {
      "cell_type": "code",
      "metadata": {
        "id": "66zfh_JqmWMU"
      },
      "source": [
        "from fastai import *\n",
        "from fastai.text import *"
      ],
      "execution_count": 7,
      "outputs": []
    },
    {
      "cell_type": "markdown",
      "metadata": {
        "id": "mNIw-yALdBU9"
      },
      "source": [
        "**Set the path of the data collections**"
      ]
    },
    {
      "cell_type": "code",
      "metadata": {
        "id": "pzH7VMh4mqCL"
      },
      "source": [
        "path = Path('medical-concept-normalization/data_collection')"
      ],
      "execution_count": 8,
      "outputs": []
    },
    {
      "cell_type": "code",
      "metadata": {
        "id": "b8fjI6yyn4aS"
      },
      "source": [
        "# training data set\n",
        "\n",
        "train_csv = path/'TwADR-L.fold-5.train.csv'\n",
        "train = pd.read_csv(train_csv, header=None)\n",
        "#train.head()\n",
        "#train.info()"
      ],
      "execution_count": 10,
      "outputs": []
    },
    {
      "cell_type": "code",
      "metadata": {
        "id": "Hmlr-bAorfHd",
        "outputId": "b0992186-7861-4cb5-a7d2-93f22fe3a7eb",
        "colab": {
          "base_uri": "https://localhost:8080/",
          "height": 204
        }
      },
      "source": [
        "# validating data set\n",
        "\n",
        "valid = pd.read_csv(path/\"TwADR-L.fold-5.validation.csv\",header=None)\n",
        "valid.head()"
      ],
      "execution_count": 11,
      "outputs": [
        {
          "output_type": "execute_result",
          "data": {
            "text/html": [
              "<div>\n",
              "<style scoped>\n",
              "    .dataframe tbody tr th:only-of-type {\n",
              "        vertical-align: middle;\n",
              "    }\n",
              "\n",
              "    .dataframe tbody tr th {\n",
              "        vertical-align: top;\n",
              "    }\n",
              "\n",
              "    .dataframe thead th {\n",
              "        text-align: right;\n",
              "    }\n",
              "</style>\n",
              "<table border=\"1\" class=\"dataframe\">\n",
              "  <thead>\n",
              "    <tr style=\"text-align: right;\">\n",
              "      <th></th>\n",
              "      <th>0</th>\n",
              "      <th>1</th>\n",
              "    </tr>\n",
              "  </thead>\n",
              "  <tbody>\n",
              "    <tr>\n",
              "      <th>0</th>\n",
              "      <td>13</td>\n",
              "      <td>Insomnia</td>\n",
              "    </tr>\n",
              "    <tr>\n",
              "      <th>1</th>\n",
              "      <td>13</td>\n",
              "      <td>awake in the middle of the night</td>\n",
              "    </tr>\n",
              "    <tr>\n",
              "      <th>2</th>\n",
              "      <td>57</td>\n",
              "      <td>hypertrophic scarring</td>\n",
              "    </tr>\n",
              "    <tr>\n",
              "      <th>3</th>\n",
              "      <td>85</td>\n",
              "      <td>tremor</td>\n",
              "    </tr>\n",
              "    <tr>\n",
              "      <th>4</th>\n",
              "      <td>94</td>\n",
              "      <td>anxiety</td>\n",
              "    </tr>\n",
              "  </tbody>\n",
              "</table>\n",
              "</div>"
            ],
            "text/plain": [
              "    0                                 1\n",
              "0  13                          Insomnia\n",
              "1  13  awake in the middle of the night\n",
              "2  57             hypertrophic scarring\n",
              "3  85                            tremor\n",
              "4  94                           anxiety"
            ]
          },
          "metadata": {
            "tags": []
          },
          "execution_count": 11
        }
      ]
    },
    {
      "cell_type": "code",
      "metadata": {
        "id": "cOza9dfSsBud",
        "outputId": "a90dbaef-3414-4237-8d8a-d58ce444b6c9",
        "colab": {
          "base_uri": "https://localhost:8080/",
          "height": 204
        }
      },
      "source": [
        "# testing data set\n",
        "\n",
        "test = pd.read_csv(path/\"TwADR-L.fold-5.test.csv\",header=None)\n",
        "test.head()"
      ],
      "execution_count": 12,
      "outputs": [
        {
          "output_type": "execute_result",
          "data": {
            "text/html": [
              "<div>\n",
              "<style scoped>\n",
              "    .dataframe tbody tr th:only-of-type {\n",
              "        vertical-align: middle;\n",
              "    }\n",
              "\n",
              "    .dataframe tbody tr th {\n",
              "        vertical-align: top;\n",
              "    }\n",
              "\n",
              "    .dataframe thead th {\n",
              "        text-align: right;\n",
              "    }\n",
              "</style>\n",
              "<table border=\"1\" class=\"dataframe\">\n",
              "  <thead>\n",
              "    <tr style=\"text-align: right;\">\n",
              "      <th></th>\n",
              "      <th>0</th>\n",
              "      <th>1</th>\n",
              "    </tr>\n",
              "  </thead>\n",
              "  <tbody>\n",
              "    <tr>\n",
              "      <th>0</th>\n",
              "      <td>13</td>\n",
              "      <td>up all night</td>\n",
              "    </tr>\n",
              "    <tr>\n",
              "      <th>1</th>\n",
              "      <td>13</td>\n",
              "      <td>insomnia</td>\n",
              "    </tr>\n",
              "    <tr>\n",
              "      <th>2</th>\n",
              "      <td>93</td>\n",
              "      <td>shooting</td>\n",
              "    </tr>\n",
              "    <tr>\n",
              "      <th>3</th>\n",
              "      <td>133</td>\n",
              "      <td>night terrors</td>\n",
              "    </tr>\n",
              "    <tr>\n",
              "      <th>4</th>\n",
              "      <td>231</td>\n",
              "      <td>lucid dreamer</td>\n",
              "    </tr>\n",
              "  </tbody>\n",
              "</table>\n",
              "</div>"
            ],
            "text/plain": [
              "     0              1\n",
              "0   13   up all night\n",
              "1   13       insomnia\n",
              "2   93       shooting\n",
              "3  133  night terrors\n",
              "4  231  lucid dreamer"
            ]
          },
          "metadata": {
            "tags": []
          },
          "execution_count": 12
        }
      ]
    },
    {
      "cell_type": "code",
      "metadata": {
        "id": "Vo-YNvVYoaH6",
        "outputId": "5e802a2c-5be1-4e39-912d-02af0f811a97",
        "colab": {
          "base_uri": "https://localhost:8080/",
          "height": 17
        }
      },
      "source": [
        "# Creating DataBunch for language modelling\n",
        "\n",
        "data_lm = TextLMDataBunch.from_csv(path, 'TwADR-cadec.csv')"
      ],
      "execution_count": 13,
      "outputs": [
        {
          "output_type": "display_data",
          "data": {
            "text/html": [
              ""
            ],
            "text/plain": [
              "<IPython.core.display.HTML object>"
            ]
          },
          "metadata": {
            "tags": []
          }
        },
        {
          "output_type": "display_data",
          "data": {
            "text/html": [
              ""
            ],
            "text/plain": [
              "<IPython.core.display.HTML object>"
            ]
          },
          "metadata": {
            "tags": []
          }
        }
      ]
    },
    {
      "cell_type": "code",
      "metadata": {
        "id": "qcV-9kMnNLBf"
      },
      "source": [
        ""
      ],
      "execution_count": 13,
      "outputs": []
    },
    {
      "cell_type": "code",
      "metadata": {
        "id": "1ScY9afDsnvE"
      },
      "source": [
        "# Creating DataBunch for classification\n",
        "\n",
        "# data_clas = TextClasDataBunch.from_df(path, train, valid, test, vocab=data_lm.train_ds.vocab, bs=128)"
      ],
      "execution_count": 14,
      "outputs": []
    },
    {
      "cell_type": "code",
      "metadata": {
        "id": "gzrSdQcvey9p",
        "outputId": "b86f8be1-7ef3-4a2e-e653-060459e9d43e",
        "colab": {
          "base_uri": "https://localhost:8080/",
          "height": 17
        }
      },
      "source": [
        "data_clas = TextClasDataBunch.from_df(path, train, valid, vocab=data_lm.train_ds.vocab, bs=128)"
      ],
      "execution_count": 15,
      "outputs": [
        {
          "output_type": "display_data",
          "data": {
            "text/html": [
              ""
            ],
            "text/plain": [
              "<IPython.core.display.HTML object>"
            ]
          },
          "metadata": {
            "tags": []
          }
        },
        {
          "output_type": "display_data",
          "data": {
            "text/html": [
              ""
            ],
            "text/plain": [
              "<IPython.core.display.HTML object>"
            ]
          },
          "metadata": {
            "tags": []
          }
        }
      ]
    },
    {
      "cell_type": "code",
      "metadata": {
        "id": "MD27Tf0Ke3ou",
        "outputId": "87f9e1bf-f6bc-4c53-fc03-a3c6be32050d",
        "colab": {
          "base_uri": "https://localhost:8080/",
          "height": 17
        }
      },
      "source": [
        "data_clas.add_test(test,label=0)\n"
      ],
      "execution_count": 16,
      "outputs": [
        {
          "output_type": "display_data",
          "data": {
            "text/html": [
              ""
            ],
            "text/plain": [
              "<IPython.core.display.HTML object>"
            ]
          },
          "metadata": {
            "tags": []
          }
        }
      ]
    },
    {
      "cell_type": "code",
      "metadata": {
        "id": "-dpjnk_rstwk"
      },
      "source": [
        "data_lm.save()\n",
        "data_clas.save()"
      ],
      "execution_count": 17,
      "outputs": []
    },
    {
      "cell_type": "code",
      "metadata": {
        "id": "4OkiJa36sw5s",
        "outputId": "cdb4bbee-65eb-4156-8a54-5dc8e19deaf8",
        "colab": {
          "base_uri": "https://localhost:8080/"
        }
      },
      "source": [
        "data_lm.train_ds.vocab.itos"
      ],
      "execution_count": 18,
      "outputs": [
        {
          "output_type": "execute_result",
          "data": {
            "text/plain": [
              "['xxunk',\n",
              " 'xxpad',\n",
              " 'xxbos',\n",
              " 'xxeos',\n",
              " 'xxfld',\n",
              " 'xxmaj',\n",
              " 'xxup',\n",
              " 'xxrep',\n",
              " 'xxwrep',\n",
              " '.',\n",
              " ',',\n",
              " 'i',\n",
              " 'the',\n",
              " 'and',\n",
              " 'to',\n",
              " 'my',\n",
              " 'pain',\n",
              " 'of',\n",
              " 'in',\n",
              " 'a',\n",
              " 'it',\n",
              " 'me',\n",
              " 'mood',\n",
              " 'increased',\n",
              " 'have',\n",
              " 'for',\n",
              " '-',\n",
              " 'was',\n",
              " 'drug',\n",
              " 'lipitor',\n",
              " ')',\n",
              " '(',\n",
              " 'this',\n",
              " 'on',\n",
              " 'disorder',\n",
              " 'not',\n",
              " 'abnormal',\n",
              " 'withdrawal',\n",
              " 'symptoms',\n",
              " 'anxiety',\n",
              " 'had',\n",
              " 'that',\n",
              " 'is',\n",
              " 'with',\n",
              " 'muscle',\n",
              " 'like',\n",
              " 'weight',\n",
              " 'but',\n",
              " 'feeling',\n",
              " \"n't\",\n",
              " 'decreased',\n",
              " 'taking',\n",
              " 'disorders',\n",
              " 'sleeplessness',\n",
              " 'behavior',\n",
              " 'after',\n",
              " 'up',\n",
              " 'syndrome',\n",
              " 'sleep',\n",
              " 'got',\n",
              " 'blood',\n",
              " 'so',\n",
              " 'all',\n",
              " 'am',\n",
              " 'insomnia',\n",
              " 'diseases',\n",
              " 'feel',\n",
              " 'energy',\n",
              " 'side',\n",
              " 'from',\n",
              " 'depression',\n",
              " 'somnolence',\n",
              " 'disturbance',\n",
              " 'finding',\n",
              " 'back',\n",
              " 'been',\n",
              " 'loss',\n",
              " '!',\n",
              " 'effects',\n",
              " 'day',\n",
              " 'mental',\n",
              " 'be',\n",
              " 'cholesterol',\n",
              " 'heart',\n",
              " 'skin',\n",
              " 'as',\n",
              " 'gain',\n",
              " 'acute',\n",
              " 'appetite',\n",
              " 'body',\n",
              " 'take',\n",
              " 'nausea',\n",
              " '/',\n",
              " 'at',\n",
              " 'has',\n",
              " 'about',\n",
              " 'no',\n",
              " 'mg',\n",
              " 'off',\n",
              " 'out',\n",
              " 'or',\n",
              " 'dizziness',\n",
              " 'years',\n",
              " 'do',\n",
              " 'fatigue',\n",
              " 'very',\n",
              " 'now',\n",
              " 'excitability',\n",
              " 'will',\n",
              " 'irritable',\n",
              " 'drowsiness',\n",
              " 'awake',\n",
              " 'attention',\n",
              " 'ceiling',\n",
              " 'are',\n",
              " 'you',\n",
              " 'hyperactive',\n",
              " 'doctor',\n",
              " 'did',\n",
              " 'feelings',\n",
              " 'joint',\n",
              " 'state',\n",
              " 'swelling',\n",
              " 'panic',\n",
              " 'days',\n",
              " 'liver',\n",
              " 'months',\n",
              " 'depressed',\n",
              " 'could',\n",
              " 'time',\n",
              " 'still',\n",
              " 'rash',\n",
              " 'when',\n",
              " 'if',\n",
              " 'stomach',\n",
              " 'severe',\n",
              " 'swings',\n",
              " \"'m\",\n",
              " 'headache',\n",
              " 'cramps',\n",
              " 'get',\n",
              " 'bipolar',\n",
              " 'started',\n",
              " 'night',\n",
              " 'wakefulness',\n",
              " 'an',\n",
              " '#',\n",
              " 'memory',\n",
              " '3',\n",
              " 'problems',\n",
              " '10',\n",
              " 'stopped',\n",
              " 'site',\n",
              " 'down',\n",
              " 'more',\n",
              " 'disease',\n",
              " 'allergic',\n",
              " 'also',\n",
              " 'would',\n",
              " 'reaction',\n",
              " 'bad',\n",
              " '2',\n",
              " 'any',\n",
              " 'took',\n",
              " 'lower',\n",
              " \"'s\",\n",
              " 'can',\n",
              " 'dreams',\n",
              " 'abdominal',\n",
              " 'over',\n",
              " 'went',\n",
              " 'tired',\n",
              " 'by',\n",
              " 'weeks',\n",
              " 'legs',\n",
              " 'level',\n",
              " 'just',\n",
              " 'attack',\n",
              " 'other',\n",
              " 'infection',\n",
              " 'leg',\n",
              " 'some',\n",
              " 'breast',\n",
              " 'one',\n",
              " 'tremor',\n",
              " 'again',\n",
              " 'injury',\n",
              " 'eye',\n",
              " 'high',\n",
              " 'numbness',\n",
              " 'he',\n",
              " 'ca',\n",
              " 'stiffness',\n",
              " 'dry',\n",
              " 'week',\n",
              " 'only',\n",
              " 'your',\n",
              " 'then',\n",
              " 'respiratory',\n",
              " 'brain',\n",
              " 'hemorrhage',\n",
              " 'attacks',\n",
              " '&',\n",
              " 'shoulder',\n",
              " 'sleepy',\n",
              " 'medication',\n",
              " 'rage',\n",
              " 'ago',\n",
              " 'difficulty',\n",
              " 'initial',\n",
              " 'go',\n",
              " 'two',\n",
              " 'much',\n",
              " 'sweating',\n",
              " 'bone',\n",
              " 'pressure',\n",
              " 'better',\n",
              " 'which',\n",
              " 'deficit',\n",
              " 'they',\n",
              " 'before',\n",
              " 'never',\n",
              " 'because',\n",
              " 'failure',\n",
              " 'makes',\n",
              " 'chest',\n",
              " 'even',\n",
              " 'low',\n",
              " 'discomfort',\n",
              " 'psychotic',\n",
              " 'arthritis',\n",
              " 'weakness',\n",
              " '5',\n",
              " 'vision',\n",
              " 'life',\n",
              " '4',\n",
              " 'foot',\n",
              " 'edema',\n",
              " 'taste',\n",
              " '6',\n",
              " 'feet',\n",
              " \"'ve\",\n",
              " 'ulcer',\n",
              " 'gastrointestinal',\n",
              " 'right',\n",
              " 'function',\n",
              " 'same',\n",
              " 'infections',\n",
              " 'tingling',\n",
              " 'asleep',\n",
              " 'carcinoma',\n",
              " 'left',\n",
              " 'felt',\n",
              " 'hurt',\n",
              " 'walk',\n",
              " 'cardiac',\n",
              " 'than',\n",
              " 'away',\n",
              " 'going',\n",
              " 'neck',\n",
              " 'pulmonary',\n",
              " 'first',\n",
              " 'sensation',\n",
              " 'kidney',\n",
              " '1',\n",
              " 'stop',\n",
              " 'chronic',\n",
              " 'daytime',\n",
              " 'being',\n",
              " 'since',\n",
              " 'were',\n",
              " 'headaches',\n",
              " 'what',\n",
              " 'aggravated',\n",
              " 'zombie',\n",
              " 'need',\n",
              " 'test',\n",
              " 'well',\n",
              " 'dermatitis',\n",
              " '20',\n",
              " '?',\n",
              " 'concentration',\n",
              " 'exhaustion',\n",
              " 'elevated',\n",
              " 'dependence',\n",
              " 'pains',\n",
              " 'eating',\n",
              " 'change',\n",
              " 'these',\n",
              " 'vomiting',\n",
              " 'localised',\n",
              " 'dr',\n",
              " 'effect',\n",
              " 'painful',\n",
              " 'anger',\n",
              " 'good',\n",
              " 'bleeding',\n",
              " 'depressive',\n",
              " 'nightmares',\n",
              " 'conditions',\n",
              " 'told',\n",
              " 'suicidal',\n",
              " 'facial',\n",
              " 'work',\n",
              " 'knee',\n",
              " 'wide',\n",
              " 'who',\n",
              " 'damage',\n",
              " 'disturbances',\n",
              " 'middle',\n",
              " 'distress',\n",
              " 'muscles',\n",
              " 'last',\n",
              " 'death',\n",
              " 'worse',\n",
              " 'there',\n",
              " 'every',\n",
              " 'month',\n",
              " 'getting',\n",
              " 'dose',\n",
              " 'taken',\n",
              " 'dysfunction',\n",
              " 'drugs',\n",
              " 'extreme',\n",
              " 'statin',\n",
              " 'hallucinations',\n",
              " 'sleepiness',\n",
              " 'face',\n",
              " 'cell',\n",
              " 'dizzy',\n",
              " 'migraine',\n",
              " 'thought',\n",
              " 'should',\n",
              " 'make',\n",
              " 'spasm',\n",
              " 'lack',\n",
              " 'experienced',\n",
              " 'depersonalization',\n",
              " 'compulsive',\n",
              " 'system',\n",
              " 'ache',\n",
              " 'does',\n",
              " 'year',\n",
              " 'statins',\n",
              " 'think',\n",
              " 'anemia',\n",
              " ';',\n",
              " 'too',\n",
              " 'due',\n",
              " 'having',\n",
              " 'cerebral',\n",
              " 'hours',\n",
              " 'hunger',\n",
              " 'see',\n",
              " 'terrible',\n",
              " 'irritation',\n",
              " 'hands',\n",
              " 'urine',\n",
              " 'vivid',\n",
              " 'normal',\n",
              " 'social',\n",
              " 'alcohol',\n",
              " 'cause',\n",
              " 'crazy',\n",
              " 'problem',\n",
              " 'serum',\n",
              " 'pruritus',\n",
              " 'seizures',\n",
              " 'bite',\n",
              " 'fear',\n",
              " 'arrest',\n",
              " 'hypertension',\n",
              " 'diarrhea',\n",
              " 'know',\n",
              " 'arm',\n",
              " 'cancer',\n",
              " 'oedema',\n",
              " 'walking',\n",
              " 'asthma',\n",
              " 'corneal',\n",
              " 'necrosis',\n",
              " 'uterine',\n",
              " 'nauseous',\n",
              " 'almost',\n",
              " 'thinking',\n",
              " 'count',\n",
              " 'few',\n",
              " 'emotional',\n",
              " 'until',\n",
              " 'localized',\n",
              " 'without',\n",
              " 'put',\n",
              " 'candidiasis',\n",
              " 'within',\n",
              " 'neoplasm',\n",
              " 'said',\n",
              " 'sore',\n",
              " 'eyes',\n",
              " 'ldl',\n",
              " 'aches',\n",
              " 'cold',\n",
              " 'arms',\n",
              " 'abuse',\n",
              " 'ventricular',\n",
              " 'genital',\n",
              " 'term',\n",
              " 'hepatic',\n",
              " 'nervous',\n",
              " 'obsessive',\n",
              " 'intoxication',\n",
              " 'peripheral',\n",
              " 'sneezing',\n",
              " 'nerve',\n",
              " 'adderall',\n",
              " 'decrease',\n",
              " 'drowsy',\n",
              " 'gastric',\n",
              " 'many',\n",
              " 'really',\n",
              " 'malignant',\n",
              " 'oral',\n",
              " 'both',\n",
              " 'vaginal',\n",
              " 'hip',\n",
              " 'tongue',\n",
              " 'another',\n",
              " 'reduced',\n",
              " 'short',\n",
              " 'people',\n",
              " 'great',\n",
              " 'consciousness',\n",
              " 'falling',\n",
              " 'nasal',\n",
              " 'gas',\n",
              " 'female',\n",
              " 'sexual',\n",
              " '7',\n",
              " '40',\n",
              " 'euphoric',\n",
              " 'hungry',\n",
              " 'cramping',\n",
              " 'little',\n",
              " 'bulimia',\n",
              " 'spasms',\n",
              " 'sick',\n",
              " 'sweat',\n",
              " 'swollen',\n",
              " 'diet',\n",
              " 'myself',\n",
              " 'total',\n",
              " 'long',\n",
              " 'weird',\n",
              " 'try',\n",
              " 'neuropathy',\n",
              " 'head',\n",
              " 'arthropod',\n",
              " 'thirst',\n",
              " 'lost',\n",
              " 'sleeping',\n",
              " 'gone',\n",
              " 'excessive',\n",
              " 'impairment',\n",
              " 'withdrawals',\n",
              " ':',\n",
              " 'glucose',\n",
              " 'pneumonia',\n",
              " 'way',\n",
              " 'upper',\n",
              " 'neoplasms',\n",
              " 'injuries',\n",
              " 'while',\n",
              " '8',\n",
              " 'lightheadedness',\n",
              " 'personality',\n",
              " 'times',\n",
              " 'tooth',\n",
              " 'throat',\n",
              " 'found',\n",
              " 'speech',\n",
              " 'fever',\n",
              " 'paranoid',\n",
              " 'libido',\n",
              " 'ear',\n",
              " 'tract',\n",
              " 'diabetic',\n",
              " 'stress',\n",
              " 'diabetes',\n",
              " 'anything',\n",
              " 'tests',\n",
              " 'doctors',\n",
              " 'exercise',\n",
              " 'sudden',\n",
              " 'help',\n",
              " 'episode',\n",
              " 'erythema',\n",
              " 'sinus',\n",
              " 'next',\n",
              " 'electrocardiogram',\n",
              " 'lung',\n",
              " 'overdose',\n",
              " 'generalized',\n",
              " 'noticed',\n",
              " 'bed',\n",
              " 'joints',\n",
              " 'something',\n",
              " 'knees',\n",
              " 'urticaria',\n",
              " 'allergy',\n",
              " 'lose',\n",
              " 'lbs',\n",
              " 'old',\n",
              " 'injection',\n",
              " 'mouth',\n",
              " 'bloating',\n",
              " 'making',\n",
              " 'erection',\n",
              " 'itching',\n",
              " 'vertigo',\n",
              " 'non',\n",
              " 'renal',\n",
              " 'insufficiency',\n",
              " 'inflammation',\n",
              " 'however',\n",
              " 'despair',\n",
              " 'hard',\n",
              " 'minutes',\n",
              " 'muscular',\n",
              " 'came',\n",
              " 'she',\n",
              " 'fracture',\n",
              " 'want',\n",
              " 'general',\n",
              " 'morning',\n",
              " 'ejaculation',\n",
              " 'different',\n",
              " 'weak',\n",
              " 'block',\n",
              " 'may',\n",
              " 'developed',\n",
              " 'result',\n",
              " 'obstruction',\n",
              " 'colitis',\n",
              " 'hair',\n",
              " 'caused',\n",
              " 'find',\n",
              " 'potassium',\n",
              " 'hepatitis',\n",
              " 'prescribed',\n",
              " 'red',\n",
              " 'eat',\n",
              " 'always',\n",
              " 'binge',\n",
              " 'atrial',\n",
              " 'intense',\n",
              " 'results',\n",
              " 'how',\n",
              " 'began',\n",
              " 'breathing',\n",
              " 'psychosis',\n",
              " 'losing',\n",
              " 'most',\n",
              " 'levels',\n",
              " 'burning',\n",
              " 'bladder',\n",
              " 'hyper',\n",
              " '%',\n",
              " 'suicide',\n",
              " 'pill',\n",
              " 'visual',\n",
              " 'experiencing',\n",
              " 'musculoskeletal',\n",
              " 'made',\n",
              " 'shoulders',\n",
              " 'into',\n",
              " 'blurred',\n",
              " 'tried',\n",
              " 'bacterial',\n",
              " 'stopping',\n",
              " '30',\n",
              " 'arrhythmia',\n",
              " 'confusion',\n",
              " 'person',\n",
              " 'reading',\n",
              " 'daily',\n",
              " 'movements',\n",
              " 'haemorrhage',\n",
              " 'tolerance',\n",
              " 'tachycardia',\n",
              " 'prolonged',\n",
              " 'tissue',\n",
              " 'craving',\n",
              " 'atrophy',\n",
              " 'unable',\n",
              " 'half',\n",
              " 'immediately',\n",
              " 'sedated',\n",
              " 'several',\n",
              " 'drunk',\n",
              " 'adenocarcinoma',\n",
              " 'trying',\n",
              " 'tendency',\n",
              " 'fractures',\n",
              " 'lot',\n",
              " 'their',\n",
              " 'traumatic',\n",
              " 'them',\n",
              " 'impaired',\n",
              " 'palpitations',\n",
              " 'cough',\n",
              " 'changes',\n",
              " 'thoughts',\n",
              " 'recommend',\n",
              " 'medicine',\n",
              " 'ever',\n",
              " 'partial',\n",
              " 'food',\n",
              " 'acid',\n",
              " 'metastatic',\n",
              " 'hurting',\n",
              " 'lupus',\n",
              " 'hand',\n",
              " 'gained',\n",
              " 'doing',\n",
              " 'his',\n",
              " 'three',\n",
              " 'arthrotec',\n",
              " 'past',\n",
              " 'around',\n",
              " 'we',\n",
              " 'hot',\n",
              " 'use',\n",
              " 'application',\n",
              " 'cyst',\n",
              " 'limb',\n",
              " 'altered',\n",
              " 'lowered',\n",
              " 'twitch',\n",
              " 'awful',\n",
              " 'cutaneous',\n",
              " 'angry',\n",
              " 'symptom',\n",
              " 'its',\n",
              " 'density',\n",
              " 'finally',\n",
              " 'unconscious',\n",
              " 'early',\n",
              " 'ankle',\n",
              " 'constant',\n",
              " 'less',\n",
              " 'sure',\n",
              " 'able',\n",
              " 'syncope',\n",
              " 'paranoia',\n",
              " 'tenderness',\n",
              " 'once',\n",
              " 'completely',\n",
              " 'motor',\n",
              " 'prozac',\n",
              " 'mad',\n",
              " 'numb',\n",
              " 'especially',\n",
              " 'urinary',\n",
              " 'upset',\n",
              " 'hypomania',\n",
              " 'purpura',\n",
              " 'type',\n",
              " 'vasculitis',\n",
              " 'quit',\n",
              " 'rhinitis',\n",
              " 'mild',\n",
              " 'stuff',\n",
              " 'mind',\n",
              " 'nt',\n",
              " 'terrors',\n",
              " 'acne',\n",
              " 'quality',\n",
              " 'esophageal',\n",
              " 'bronchitis',\n",
              " 'read',\n",
              " 'antisocial',\n",
              " 'arousal',\n",
              " 'migraines',\n",
              " 'nothing',\n",
              " 'super',\n",
              " 'acidosis',\n",
              " 'major',\n",
              " 'things',\n",
              " 'fluid',\n",
              " 'her',\n",
              " 'myocardial',\n",
              " 'limbs',\n",
              " 'worth',\n",
              " '100',\n",
              " 'toe',\n",
              " 'male',\n",
              " 'indifferent',\n",
              " 'though',\n",
              " 'rheumatoid',\n",
              " 'keep',\n",
              " 'anyone',\n",
              " 'recently',\n",
              " 'stay',\n",
              " 'ratio',\n",
              " 'rather',\n",
              " 'creatinine',\n",
              " 'interest',\n",
              " 'permanent',\n",
              " 'hour',\n",
              " 'related',\n",
              " 'family',\n",
              " 'abdomen',\n",
              " 'labored',\n",
              " 'fall',\n",
              " 'causing',\n",
              " 'believe',\n",
              " 'enzyme',\n",
              " 'worked',\n",
              " 'exhausted',\n",
              " 'today',\n",
              " 'premature',\n",
              " 'shaking',\n",
              " 'wo',\n",
              " 'substance',\n",
              " 'metabolic',\n",
              " 'come',\n",
              " 'abnormality',\n",
              " 'meds',\n",
              " 'trippin',\n",
              " 'positive',\n",
              " 'yet',\n",
              " 'through',\n",
              " 'perforation',\n",
              " 'during',\n",
              " 'later',\n",
              " 'relief',\n",
              " 'heartburn',\n",
              " 'hyperactivity',\n",
              " 'steroid',\n",
              " 'zocor',\n",
              " '--',\n",
              " 'hyperplasia',\n",
              " 'unspecified',\n",
              " 'calf',\n",
              " 'shock',\n",
              " 'atrioventricular',\n",
              " 'involuntary',\n",
              " 'anxious',\n",
              " 'temperature',\n",
              " 'whole',\n",
              " 'hdl',\n",
              " 'starting',\n",
              " 'action',\n",
              " 'manic',\n",
              " 'interactions',\n",
              " 'far',\n",
              " 'gland',\n",
              " 'done',\n",
              " 'where',\n",
              " 'gait',\n",
              " 'retention',\n",
              " 'hurts',\n",
              " 'epidermal',\n",
              " 'using',\n",
              " 'bowel',\n",
              " 'balance',\n",
              " '80',\n",
              " 'prothrombin',\n",
              " 'natural',\n",
              " 'epilepsy',\n",
              " 'distracted',\n",
              " 'seems',\n",
              " 'erectile',\n",
              " 'hypertrophy',\n",
              " 'water',\n",
              " 'pounding',\n",
              " 'delayed',\n",
              " 'website',\n",
              " 'local',\n",
              " 'ischemia',\n",
              " 'ulcerative',\n",
              " 'bruxism',\n",
              " 'bullous',\n",
              " 'say',\n",
              " 'bilirubin',\n",
              " 'thing',\n",
              " 'post',\n",
              " 'embolism',\n",
              " 'experience',\n",
              " 'thyroid',\n",
              " 'lowering',\n",
              " 'mellitus',\n",
              " 'flu',\n",
              " '\"',\n",
              " 'works',\n",
              " 'infarction',\n",
              " 'groggy',\n",
              " 'focusing',\n",
              " 'contact',\n",
              " 'triglycerides',\n",
              " 'wake',\n",
              " 'doc',\n",
              " 'paralysed',\n",
              " 'discoloration',\n",
              " 'fingers',\n",
              " 'arteritis',\n",
              " 'alkalosis',\n",
              " 'became',\n",
              " 'rupture',\n",
              " 'bites',\n",
              " 'physical',\n",
              " 'hit',\n",
              " 'atrophic',\n",
              " 'tightness',\n",
              " 'etc',\n",
              " 'macular',\n",
              " 'retinal',\n",
              " 'fucked',\n",
              " 'neuralgia',\n",
              " 'tiredness',\n",
              " 'eruptions',\n",
              " '50',\n",
              " 'secondary',\n",
              " 'artery',\n",
              " 'trouble',\n",
              " 'improvement',\n",
              " 'period',\n",
              " 'hearing',\n",
              " \"'\",\n",
              " 'fibrillation',\n",
              " 'horrible',\n",
              " 'none',\n",
              " 'prostate',\n",
              " 'entire',\n",
              " 'hangover',\n",
              " 'affect',\n",
              " 'active',\n",
              " 'leukemia',\n",
              " 'thrombosis',\n",
              " 'those',\n",
              " 'probably',\n",
              " 'else',\n",
              " 'sinusitis',\n",
              " 'similar',\n",
              " 'anorexia',\n",
              " 'him',\n",
              " 'fucking',\n",
              " 'per',\n",
              " 'obstructive',\n",
              " 'hope',\n",
              " 'forgetfulness',\n",
              " 'deficiency',\n",
              " 'surgery',\n",
              " 'syndromes',\n",
              " 'new',\n",
              " 'conjunctivitis',\n",
              " 'intolerance',\n",
              " 'miss',\n",
              " 'deafness',\n",
              " 'slept',\n",
              " 'illness',\n",
              " 'hypersomnia',\n",
              " 'cortisone',\n",
              " 'break',\n",
              " 'others',\n",
              " 'hips',\n",
              " 'nail',\n",
              " 'increase',\n",
              " 'raised',\n",
              " 'reflux',\n",
              " 'everything',\n",
              " 'feels',\n",
              " 'generalised',\n",
              " 'worst',\n",
              " 'rate',\n",
              " 'extremely',\n",
              " 'zaps',\n",
              " 'accidental',\n",
              " 'tendon',\n",
              " 'add',\n",
              " 'toxic',\n",
              " 'ovarian',\n",
              " 'highly',\n",
              " 'blindness',\n",
              " 'eaten',\n",
              " 'influenza',\n",
              " 'cystitis',\n",
              " 'ankles',\n",
              " 'own',\n",
              " 'dropped',\n",
              " 'negative',\n",
              " 'ocular',\n",
              " 'such',\n",
              " 'pills',\n",
              " 'mania',\n",
              " 'control',\n",
              " 'immune',\n",
              " 'why',\n",
              " 'enough',\n",
              " 'behaviour',\n",
              " 'constipation',\n",
              " 'pm',\n",
              " 'erythematosus',\n",
              " 'stairs',\n",
              " 'lesion',\n",
              " 'extremity',\n",
              " 'empty',\n",
              " 'cramp',\n",
              " 'miserable',\n",
              " 'here',\n",
              " 'diagnosed',\n",
              " 'toes',\n",
              " 'helped',\n",
              " 'age',\n",
              " 'sad',\n",
              " 'adrenal',\n",
              " 'porphyria',\n",
              " 'decided',\n",
              " 'suffered',\n",
              " 'eyelid',\n",
              " 'toxicity',\n",
              " 'radiation',\n",
              " 'arterial',\n",
              " 'possible',\n",
              " 'dosage',\n",
              " 'myopathy',\n",
              " 'nodule',\n",
              " 'changed',\n",
              " 'called',\n",
              " 'wrist',\n",
              " 'vein',\n",
              " 'coronary',\n",
              " 'sickness',\n",
              " 'job',\n",
              " 'lipoprotein',\n",
              " 'incontinence',\n",
              " 'otitis',\n",
              " 'menstruation',\n",
              " 'thinness',\n",
              " 'fat',\n",
              " 'angina',\n",
              " 'look',\n",
              " 'abscess',\n",
              " 'each',\n",
              " 'endometrial',\n",
              " 'aggressive',\n",
              " 'fell',\n",
              " 'cut',\n",
              " 'flare',\n",
              " 'viral',\n",
              " 'psychological',\n",
              " 'congestion',\n",
              " 'keeping',\n",
              " 'stenosis',\n",
              " 'alteration',\n",
              " 'serious',\n",
              " 'stool',\n",
              " 'rectal',\n",
              " 'poor',\n",
              " 'knock',\n",
              " 'thrombocytopenic',\n",
              " 'elbow',\n",
              " 'digestive',\n",
              " 'gave',\n",
              " 'med',\n",
              " 'tell',\n",
              " 'multiple',\n",
              " 'self',\n",
              " 'messed',\n",
              " 'extremities',\n",
              " 'alkaline',\n",
              " 'phosphatase',\n",
              " 'uric',\n",
              " 'gout',\n",
              " 'retardation',\n",
              " 'wanted',\n",
              " 'international',\n",
              " 'normalised',\n",
              " 'fasting',\n",
              " 'hypochondriasis',\n",
              " '9',\n",
              " 'tuberculosis',\n",
              " 'switched',\n",
              " 'burn',\n",
              " 'white',\n",
              " 'live',\n",
              " 'point',\n",
              " 'healthy',\n",
              " 'complex',\n",
              " 'esophagitis',\n",
              " 'disorientation',\n",
              " 'vulvovaginal',\n",
              " 'pregnancy',\n",
              " 'associated',\n",
              " 'diastolic',\n",
              " 'instead',\n",
              " 'fine',\n",
              " 'rigidity',\n",
              " 'intestinal',\n",
              " 'longer',\n",
              " 'coagulation',\n",
              " ...]"
            ]
          },
          "metadata": {
            "tags": []
          },
          "execution_count": 18
        }
      ]
    },
    {
      "cell_type": "code",
      "metadata": {
        "id": "yPWr03mls3VT",
        "outputId": "d3d34bfa-4808-4e49-818a-50d9a24721ec",
        "colab": {
          "base_uri": "https://localhost:8080/",
          "height": 17
        }
      },
      "source": [
        "model_path = path/'models'\n",
        "model_path.mkdir(exist_ok=True)\n",
        "url = 'http://files.fast.ai/models/wt103_v1/'\n",
        "download_url(f'{url}lstm_wt103.pth', model_path/'lstm_wt103.pth')\n",
        "download_url(f'{url}itos_wt103.pkl', model_path/'itos_wt103.pkl')"
      ],
      "execution_count": 19,
      "outputs": [
        {
          "output_type": "display_data",
          "data": {
            "text/html": [
              ""
            ],
            "text/plain": [
              "<IPython.core.display.HTML object>"
            ]
          },
          "metadata": {
            "tags": []
          }
        },
        {
          "output_type": "display_data",
          "data": {
            "text/html": [
              ""
            ],
            "text/plain": [
              "<IPython.core.display.HTML object>"
            ]
          },
          "metadata": {
            "tags": []
          }
        }
      ]
    },
    {
      "cell_type": "code",
      "metadata": {
        "id": "JRzvWg8RtGGr",
        "outputId": "b64c5ca3-1179-4ee2-9854-e4e7b3106b10",
        "colab": {
          "base_uri": "https://localhost:8080/",
          "height": 34
        }
      },
      "source": [
        "learn = language_model_learner(data_lm, AWD_LSTM, drop_mult=0.5)"
      ],
      "execution_count": 20,
      "outputs": [
        {
          "output_type": "stream",
          "text": [
            "Downloading https://s3.amazonaws.com/fast-ai-modelzoo/wt103-fwd.tgz\n"
          ],
          "name": "stdout"
        },
        {
          "output_type": "display_data",
          "data": {
            "text/html": [
              ""
            ],
            "text/plain": [
              "<IPython.core.display.HTML object>"
            ]
          },
          "metadata": {
            "tags": []
          }
        }
      ]
    },
    {
      "cell_type": "code",
      "metadata": {
        "id": "xKK7GeBev7Xn",
        "outputId": "6929de7f-6344-4eef-f189-00fe3251c81a",
        "colab": {
          "base_uri": "https://localhost:8080/",
          "height": 80
        }
      },
      "source": [
        "learn.fit_one_cycle(1, 1e-2)"
      ],
      "execution_count": 21,
      "outputs": [
        {
          "output_type": "display_data",
          "data": {
            "text/html": [
              "<table border=\"1\" class=\"dataframe\">\n",
              "  <thead>\n",
              "    <tr style=\"text-align: left;\">\n",
              "      <th>epoch</th>\n",
              "      <th>train_loss</th>\n",
              "      <th>valid_loss</th>\n",
              "      <th>accuracy</th>\n",
              "      <th>time</th>\n",
              "    </tr>\n",
              "  </thead>\n",
              "  <tbody>\n",
              "    <tr>\n",
              "      <td>0</td>\n",
              "      <td>4.302203</td>\n",
              "      <td>3.456800</td>\n",
              "      <td>0.427902</td>\n",
              "      <td>08:03</td>\n",
              "    </tr>\n",
              "  </tbody>\n",
              "</table>"
            ],
            "text/plain": [
              "<IPython.core.display.HTML object>"
            ]
          },
          "metadata": {
            "tags": []
          }
        }
      ]
    },
    {
      "cell_type": "code",
      "metadata": {
        "id": "iB7rHGQCwd12",
        "outputId": "0f9efe21-9330-4345-d700-c7567011ab05",
        "colab": {
          "base_uri": "https://localhost:8080/",
          "height": 80
        }
      },
      "source": [
        "learn.fit_one_cycle(1, 1e-2)"
      ],
      "execution_count": 22,
      "outputs": [
        {
          "output_type": "display_data",
          "data": {
            "text/html": [
              "<table border=\"1\" class=\"dataframe\">\n",
              "  <thead>\n",
              "    <tr style=\"text-align: left;\">\n",
              "      <th>epoch</th>\n",
              "      <th>train_loss</th>\n",
              "      <th>valid_loss</th>\n",
              "      <th>accuracy</th>\n",
              "      <th>time</th>\n",
              "    </tr>\n",
              "  </thead>\n",
              "  <tbody>\n",
              "    <tr>\n",
              "      <td>0</td>\n",
              "      <td>3.270485</td>\n",
              "      <td>3.024164</td>\n",
              "      <td>0.486021</td>\n",
              "      <td>08:04</td>\n",
              "    </tr>\n",
              "  </tbody>\n",
              "</table>"
            ],
            "text/plain": [
              "<IPython.core.display.HTML object>"
            ]
          },
          "metadata": {
            "tags": []
          }
        }
      ]
    },
    {
      "cell_type": "code",
      "metadata": {
        "id": "_BnSuAeCwkBe",
        "outputId": "6e377744-16c8-451e-d2d1-a9eb37d533d1",
        "colab": {
          "base_uri": "https://localhost:8080/",
          "height": 80
        }
      },
      "source": [
        "learn.fit_one_cycle(1, 1e-3)"
      ],
      "execution_count": 23,
      "outputs": [
        {
          "output_type": "display_data",
          "data": {
            "text/html": [
              "<table border=\"1\" class=\"dataframe\">\n",
              "  <thead>\n",
              "    <tr style=\"text-align: left;\">\n",
              "      <th>epoch</th>\n",
              "      <th>train_loss</th>\n",
              "      <th>valid_loss</th>\n",
              "      <th>accuracy</th>\n",
              "      <th>time</th>\n",
              "    </tr>\n",
              "  </thead>\n",
              "  <tbody>\n",
              "    <tr>\n",
              "      <td>0</td>\n",
              "      <td>3.052448</td>\n",
              "      <td>2.986059</td>\n",
              "      <td>0.490123</td>\n",
              "      <td>08:02</td>\n",
              "    </tr>\n",
              "  </tbody>\n",
              "</table>"
            ],
            "text/plain": [
              "<IPython.core.display.HTML object>"
            ]
          },
          "metadata": {
            "tags": []
          }
        }
      ]
    },
    {
      "cell_type": "code",
      "metadata": {
        "id": "MuTm-RFjwrEX",
        "outputId": "df7f2c60-5bf8-4ccf-95e3-e8766327d797",
        "colab": {
          "base_uri": "https://localhost:8080/",
          "height": 80
        }
      },
      "source": [
        "learn.fit_one_cycle(1, 1e-3)"
      ],
      "execution_count": 24,
      "outputs": [
        {
          "output_type": "display_data",
          "data": {
            "text/html": [
              "<table border=\"1\" class=\"dataframe\">\n",
              "  <thead>\n",
              "    <tr style=\"text-align: left;\">\n",
              "      <th>epoch</th>\n",
              "      <th>train_loss</th>\n",
              "      <th>valid_loss</th>\n",
              "      <th>accuracy</th>\n",
              "      <th>time</th>\n",
              "    </tr>\n",
              "  </thead>\n",
              "  <tbody>\n",
              "    <tr>\n",
              "      <td>0</td>\n",
              "      <td>3.030931</td>\n",
              "      <td>2.954118</td>\n",
              "      <td>0.493485</td>\n",
              "      <td>08:05</td>\n",
              "    </tr>\n",
              "  </tbody>\n",
              "</table>"
            ],
            "text/plain": [
              "<IPython.core.display.HTML object>"
            ]
          },
          "metadata": {
            "tags": []
          }
        }
      ]
    },
    {
      "cell_type": "code",
      "metadata": {
        "id": "1Er2ExO8wr7Y"
      },
      "source": [
        "learn.save_encoder('TwADR-cadec_fold5_first')"
      ],
      "execution_count": 25,
      "outputs": []
    },
    {
      "cell_type": "code",
      "metadata": {
        "id": "z52cZs2qwvad",
        "outputId": "3e5c9155-0bbe-47a3-d6bf-e775fd4aa7a2",
        "colab": {
          "base_uri": "https://localhost:8080/",
          "height": 80
        }
      },
      "source": [
        "learn = text_classifier_learner(data_clas,AWD_LSTM, drop_mult=0.5)\n",
        "learn.load_encoder('TwADR-cadec_fold5_first')\n",
        "learn.fit_one_cycle(1, 1e-2)"
      ],
      "execution_count": 26,
      "outputs": [
        {
          "output_type": "display_data",
          "data": {
            "text/html": [
              "<table border=\"1\" class=\"dataframe\">\n",
              "  <thead>\n",
              "    <tr style=\"text-align: left;\">\n",
              "      <th>epoch</th>\n",
              "      <th>train_loss</th>\n",
              "      <th>valid_loss</th>\n",
              "      <th>accuracy</th>\n",
              "      <th>time</th>\n",
              "    </tr>\n",
              "  </thead>\n",
              "  <tbody>\n",
              "    <tr>\n",
              "      <td>0</td>\n",
              "      <td>7.175142</td>\n",
              "      <td>6.471136</td>\n",
              "      <td>0.092308</td>\n",
              "      <td>00:24</td>\n",
              "    </tr>\n",
              "  </tbody>\n",
              "</table>"
            ],
            "text/plain": [
              "<IPython.core.display.HTML object>"
            ]
          },
          "metadata": {
            "tags": []
          }
        }
      ]
    },
    {
      "cell_type": "code",
      "metadata": {
        "id": "ImwQP1PJwzxd",
        "outputId": "aef41cd8-13bc-433a-a034-d79228765fce",
        "colab": {
          "base_uri": "https://localhost:8080/",
          "height": 80
        }
      },
      "source": [
        "learn.freeze_to(-2)\n",
        "learn.fit_one_cycle(1, slice(5e-3/2., 5e-3))"
      ],
      "execution_count": 27,
      "outputs": [
        {
          "output_type": "display_data",
          "data": {
            "text/html": [
              "<table border=\"1\" class=\"dataframe\">\n",
              "  <thead>\n",
              "    <tr style=\"text-align: left;\">\n",
              "      <th>epoch</th>\n",
              "      <th>train_loss</th>\n",
              "      <th>valid_loss</th>\n",
              "      <th>accuracy</th>\n",
              "      <th>time</th>\n",
              "    </tr>\n",
              "  </thead>\n",
              "  <tbody>\n",
              "    <tr>\n",
              "      <td>0</td>\n",
              "      <td>6.228246</td>\n",
              "      <td>5.176633</td>\n",
              "      <td>0.138462</td>\n",
              "      <td>00:25</td>\n",
              "    </tr>\n",
              "  </tbody>\n",
              "</table>"
            ],
            "text/plain": [
              "<IPython.core.display.HTML object>"
            ]
          },
          "metadata": {
            "tags": []
          }
        }
      ]
    },
    {
      "cell_type": "code",
      "metadata": {
        "id": "Owff_BJXw53u",
        "outputId": "3dc20128-bd75-45e9-b319-cc03e80e2d45",
        "colab": {
          "base_uri": "https://localhost:8080/",
          "height": 80
        }
      },
      "source": [
        "learn.unfreeze()\n",
        "learn.fit_one_cycle(1, slice(2e-3/100, 2e-3))"
      ],
      "execution_count": 28,
      "outputs": [
        {
          "output_type": "display_data",
          "data": {
            "text/html": [
              "<table border=\"1\" class=\"dataframe\">\n",
              "  <thead>\n",
              "    <tr style=\"text-align: left;\">\n",
              "      <th>epoch</th>\n",
              "      <th>train_loss</th>\n",
              "      <th>valid_loss</th>\n",
              "      <th>accuracy</th>\n",
              "      <th>time</th>\n",
              "    </tr>\n",
              "  </thead>\n",
              "  <tbody>\n",
              "    <tr>\n",
              "      <td>0</td>\n",
              "      <td>5.695959</td>\n",
              "      <td>4.852315</td>\n",
              "      <td>0.176923</td>\n",
              "      <td>01:02</td>\n",
              "    </tr>\n",
              "  </tbody>\n",
              "</table>"
            ],
            "text/plain": [
              "<IPython.core.display.HTML object>"
            ]
          },
          "metadata": {
            "tags": []
          }
        }
      ]
    },
    {
      "cell_type": "code",
      "metadata": {
        "id": "lqAyu56V8Waq",
        "outputId": "5ee43326-f0ba-4998-8fe3-f79630e921dc",
        "colab": {
          "base_uri": "https://localhost:8080/",
          "height": 111
        }
      },
      "source": [
        "learn.fit_one_cycle(2, slice(2e-3/100, 2e-3))"
      ],
      "execution_count": 29,
      "outputs": [
        {
          "output_type": "display_data",
          "data": {
            "text/html": [
              "<table border=\"1\" class=\"dataframe\">\n",
              "  <thead>\n",
              "    <tr style=\"text-align: left;\">\n",
              "      <th>epoch</th>\n",
              "      <th>train_loss</th>\n",
              "      <th>valid_loss</th>\n",
              "      <th>accuracy</th>\n",
              "      <th>time</th>\n",
              "    </tr>\n",
              "  </thead>\n",
              "  <tbody>\n",
              "    <tr>\n",
              "      <td>0</td>\n",
              "      <td>5.421058</td>\n",
              "      <td>4.604723</td>\n",
              "      <td>0.200000</td>\n",
              "      <td>01:00</td>\n",
              "    </tr>\n",
              "    <tr>\n",
              "      <td>1</td>\n",
              "      <td>5.202295</td>\n",
              "      <td>4.449736</td>\n",
              "      <td>0.238462</td>\n",
              "      <td>00:57</td>\n",
              "    </tr>\n",
              "  </tbody>\n",
              "</table>"
            ],
            "text/plain": [
              "<IPython.core.display.HTML object>"
            ]
          },
          "metadata": {
            "tags": []
          }
        }
      ]
    },
    {
      "cell_type": "code",
      "metadata": {
        "id": "a7I1xMRp8bUd",
        "outputId": "c7e37934-b7cf-4942-b2ba-37fc4eb1060e",
        "colab": {
          "base_uri": "https://localhost:8080/",
          "height": 111
        }
      },
      "source": [
        "learn.fit_one_cycle(2, slice(2e-3/100, 2e-3))"
      ],
      "execution_count": 30,
      "outputs": [
        {
          "output_type": "display_data",
          "data": {
            "text/html": [
              "<table border=\"1\" class=\"dataframe\">\n",
              "  <thead>\n",
              "    <tr style=\"text-align: left;\">\n",
              "      <th>epoch</th>\n",
              "      <th>train_loss</th>\n",
              "      <th>valid_loss</th>\n",
              "      <th>accuracy</th>\n",
              "      <th>time</th>\n",
              "    </tr>\n",
              "  </thead>\n",
              "  <tbody>\n",
              "    <tr>\n",
              "      <td>0</td>\n",
              "      <td>4.917203</td>\n",
              "      <td>4.400030</td>\n",
              "      <td>0.215385</td>\n",
              "      <td>00:59</td>\n",
              "    </tr>\n",
              "    <tr>\n",
              "      <td>1</td>\n",
              "      <td>4.734728</td>\n",
              "      <td>4.255698</td>\n",
              "      <td>0.261538</td>\n",
              "      <td>00:57</td>\n",
              "    </tr>\n",
              "  </tbody>\n",
              "</table>"
            ],
            "text/plain": [
              "<IPython.core.display.HTML object>"
            ]
          },
          "metadata": {
            "tags": []
          }
        }
      ]
    },
    {
      "cell_type": "code",
      "metadata": {
        "id": "UAnti-XmGVfO",
        "outputId": "98603c0f-0e2c-4096-e991-e6a49bd73ac1",
        "colab": {
          "base_uri": "https://localhost:8080/",
          "height": 111
        }
      },
      "source": [
        "learn.fit_one_cycle(2, slice(2e-3/100, 2e-3))"
      ],
      "execution_count": 31,
      "outputs": [
        {
          "output_type": "display_data",
          "data": {
            "text/html": [
              "<table border=\"1\" class=\"dataframe\">\n",
              "  <thead>\n",
              "    <tr style=\"text-align: left;\">\n",
              "      <th>epoch</th>\n",
              "      <th>train_loss</th>\n",
              "      <th>valid_loss</th>\n",
              "      <th>accuracy</th>\n",
              "      <th>time</th>\n",
              "    </tr>\n",
              "  </thead>\n",
              "  <tbody>\n",
              "    <tr>\n",
              "      <td>0</td>\n",
              "      <td>4.559285</td>\n",
              "      <td>4.113856</td>\n",
              "      <td>0.246154</td>\n",
              "      <td>01:02</td>\n",
              "    </tr>\n",
              "    <tr>\n",
              "      <td>1</td>\n",
              "      <td>4.389667</td>\n",
              "      <td>3.941091</td>\n",
              "      <td>0.284615</td>\n",
              "      <td>01:00</td>\n",
              "    </tr>\n",
              "  </tbody>\n",
              "</table>"
            ],
            "text/plain": [
              "<IPython.core.display.HTML object>"
            ]
          },
          "metadata": {
            "tags": []
          }
        }
      ]
    },
    {
      "cell_type": "code",
      "metadata": {
        "id": "bIft7W25GwSu",
        "outputId": "1718d71f-bf0d-41ad-ea80-7850e7e829a2",
        "colab": {
          "base_uri": "https://localhost:8080/",
          "height": 111
        }
      },
      "source": [
        "learn.fit_one_cycle(2, slice(2e-3/100, 2e-3))"
      ],
      "execution_count": 32,
      "outputs": [
        {
          "output_type": "display_data",
          "data": {
            "text/html": [
              "<table border=\"1\" class=\"dataframe\">\n",
              "  <thead>\n",
              "    <tr style=\"text-align: left;\">\n",
              "      <th>epoch</th>\n",
              "      <th>train_loss</th>\n",
              "      <th>valid_loss</th>\n",
              "      <th>accuracy</th>\n",
              "      <th>time</th>\n",
              "    </tr>\n",
              "  </thead>\n",
              "  <tbody>\n",
              "    <tr>\n",
              "      <td>0</td>\n",
              "      <td>4.161315</td>\n",
              "      <td>3.881811</td>\n",
              "      <td>0.315385</td>\n",
              "      <td>00:59</td>\n",
              "    </tr>\n",
              "    <tr>\n",
              "      <td>1</td>\n",
              "      <td>4.003309</td>\n",
              "      <td>3.855525</td>\n",
              "      <td>0.300000</td>\n",
              "      <td>00:57</td>\n",
              "    </tr>\n",
              "  </tbody>\n",
              "</table>"
            ],
            "text/plain": [
              "<IPython.core.display.HTML object>"
            ]
          },
          "metadata": {
            "tags": []
          }
        }
      ]
    },
    {
      "cell_type": "code",
      "metadata": {
        "id": "EEHszVRvGyFt",
        "outputId": "59a9c2c3-9b7c-4e6d-b7d4-f77b36870ac4",
        "colab": {
          "base_uri": "https://localhost:8080/",
          "height": 111
        }
      },
      "source": [
        "learn.fit_one_cycle(2, slice(2e-3/100, 2e-3))"
      ],
      "execution_count": 33,
      "outputs": [
        {
          "output_type": "display_data",
          "data": {
            "text/html": [
              "<table border=\"1\" class=\"dataframe\">\n",
              "  <thead>\n",
              "    <tr style=\"text-align: left;\">\n",
              "      <th>epoch</th>\n",
              "      <th>train_loss</th>\n",
              "      <th>valid_loss</th>\n",
              "      <th>accuracy</th>\n",
              "      <th>time</th>\n",
              "    </tr>\n",
              "  </thead>\n",
              "  <tbody>\n",
              "    <tr>\n",
              "      <td>0</td>\n",
              "      <td>3.844243</td>\n",
              "      <td>3.957404</td>\n",
              "      <td>0.269231</td>\n",
              "      <td>01:02</td>\n",
              "    </tr>\n",
              "    <tr>\n",
              "      <td>1</td>\n",
              "      <td>3.695170</td>\n",
              "      <td>3.833563</td>\n",
              "      <td>0.269231</td>\n",
              "      <td>00:59</td>\n",
              "    </tr>\n",
              "  </tbody>\n",
              "</table>"
            ],
            "text/plain": [
              "<IPython.core.display.HTML object>"
            ]
          },
          "metadata": {
            "tags": []
          }
        }
      ]
    },
    {
      "cell_type": "code",
      "metadata": {
        "id": "XsHfrhCHG3dN",
        "outputId": "bd252d5b-7a63-41d8-debe-b551ac779cb2",
        "colab": {
          "base_uri": "https://localhost:8080/",
          "height": 173
        }
      },
      "source": [
        "learn.fit_one_cycle(4, slice(2e-3/100, 2e-3))"
      ],
      "execution_count": 34,
      "outputs": [
        {
          "output_type": "display_data",
          "data": {
            "text/html": [
              "<table border=\"1\" class=\"dataframe\">\n",
              "  <thead>\n",
              "    <tr style=\"text-align: left;\">\n",
              "      <th>epoch</th>\n",
              "      <th>train_loss</th>\n",
              "      <th>valid_loss</th>\n",
              "      <th>accuracy</th>\n",
              "      <th>time</th>\n",
              "    </tr>\n",
              "  </thead>\n",
              "  <tbody>\n",
              "    <tr>\n",
              "      <td>0</td>\n",
              "      <td>3.542506</td>\n",
              "      <td>3.815390</td>\n",
              "      <td>0.315385</td>\n",
              "      <td>00:59</td>\n",
              "    </tr>\n",
              "    <tr>\n",
              "      <td>1</td>\n",
              "      <td>3.425995</td>\n",
              "      <td>3.720513</td>\n",
              "      <td>0.323077</td>\n",
              "      <td>01:02</td>\n",
              "    </tr>\n",
              "    <tr>\n",
              "      <td>2</td>\n",
              "      <td>3.245570</td>\n",
              "      <td>3.693563</td>\n",
              "      <td>0.315385</td>\n",
              "      <td>01:03</td>\n",
              "    </tr>\n",
              "    <tr>\n",
              "      <td>3</td>\n",
              "      <td>3.101178</td>\n",
              "      <td>3.697041</td>\n",
              "      <td>0.307692</td>\n",
              "      <td>00:58</td>\n",
              "    </tr>\n",
              "  </tbody>\n",
              "</table>"
            ],
            "text/plain": [
              "<IPython.core.display.HTML object>"
            ]
          },
          "metadata": {
            "tags": []
          }
        }
      ]
    },
    {
      "cell_type": "code",
      "metadata": {
        "id": "0Zsd99isb9EQ",
        "outputId": "67ddcd9e-abe6-4e53-974f-c64f8b34bac5",
        "colab": {
          "base_uri": "https://localhost:8080/",
          "height": 173
        }
      },
      "source": [
        "learn.fit_one_cycle(4, slice(2e-3/100, 2e-3))"
      ],
      "execution_count": 35,
      "outputs": [
        {
          "output_type": "display_data",
          "data": {
            "text/html": [
              "<table border=\"1\" class=\"dataframe\">\n",
              "  <thead>\n",
              "    <tr style=\"text-align: left;\">\n",
              "      <th>epoch</th>\n",
              "      <th>train_loss</th>\n",
              "      <th>valid_loss</th>\n",
              "      <th>accuracy</th>\n",
              "      <th>time</th>\n",
              "    </tr>\n",
              "  </thead>\n",
              "  <tbody>\n",
              "    <tr>\n",
              "      <td>0</td>\n",
              "      <td>2.922695</td>\n",
              "      <td>3.681386</td>\n",
              "      <td>0.315385</td>\n",
              "      <td>00:57</td>\n",
              "    </tr>\n",
              "    <tr>\n",
              "      <td>1</td>\n",
              "      <td>2.877566</td>\n",
              "      <td>3.768592</td>\n",
              "      <td>0.330769</td>\n",
              "      <td>01:02</td>\n",
              "    </tr>\n",
              "    <tr>\n",
              "      <td>2</td>\n",
              "      <td>2.687404</td>\n",
              "      <td>3.627576</td>\n",
              "      <td>0.323077</td>\n",
              "      <td>01:02</td>\n",
              "    </tr>\n",
              "    <tr>\n",
              "      <td>3</td>\n",
              "      <td>2.548223</td>\n",
              "      <td>3.603961</td>\n",
              "      <td>0.307692</td>\n",
              "      <td>01:03</td>\n",
              "    </tr>\n",
              "  </tbody>\n",
              "</table>"
            ],
            "text/plain": [
              "<IPython.core.display.HTML object>"
            ]
          },
          "metadata": {
            "tags": []
          }
        }
      ]
    },
    {
      "cell_type": "code",
      "metadata": {
        "id": "atNWNKDFPbuI",
        "outputId": "2f77c468-2d4a-4043-edfc-bb07e04aeea3",
        "colab": {
          "base_uri": "https://localhost:8080/",
          "height": 173
        }
      },
      "source": [
        "learn.fit_one_cycle(4, slice(2e-3/100, 2e-3))"
      ],
      "execution_count": 36,
      "outputs": [
        {
          "output_type": "display_data",
          "data": {
            "text/html": [
              "<table border=\"1\" class=\"dataframe\">\n",
              "  <thead>\n",
              "    <tr style=\"text-align: left;\">\n",
              "      <th>epoch</th>\n",
              "      <th>train_loss</th>\n",
              "      <th>valid_loss</th>\n",
              "      <th>accuracy</th>\n",
              "      <th>time</th>\n",
              "    </tr>\n",
              "  </thead>\n",
              "  <tbody>\n",
              "    <tr>\n",
              "      <td>0</td>\n",
              "      <td>2.412313</td>\n",
              "      <td>3.607807</td>\n",
              "      <td>0.346154</td>\n",
              "      <td>00:58</td>\n",
              "    </tr>\n",
              "    <tr>\n",
              "      <td>1</td>\n",
              "      <td>2.368628</td>\n",
              "      <td>3.863670</td>\n",
              "      <td>0.353846</td>\n",
              "      <td>01:03</td>\n",
              "    </tr>\n",
              "    <tr>\n",
              "      <td>2</td>\n",
              "      <td>2.202059</td>\n",
              "      <td>3.667300</td>\n",
              "      <td>0.338462</td>\n",
              "      <td>01:04</td>\n",
              "    </tr>\n",
              "    <tr>\n",
              "      <td>3</td>\n",
              "      <td>2.045369</td>\n",
              "      <td>3.722584</td>\n",
              "      <td>0.323077</td>\n",
              "      <td>01:00</td>\n",
              "    </tr>\n",
              "  </tbody>\n",
              "</table>"
            ],
            "text/plain": [
              "<IPython.core.display.HTML object>"
            ]
          },
          "metadata": {
            "tags": []
          }
        }
      ]
    },
    {
      "cell_type": "code",
      "metadata": {
        "id": "rKrBTZ0T1uVA",
        "outputId": "85d01d65-1bdf-4c71-c594-36a1c16451e7",
        "colab": {
          "base_uri": "https://localhost:8080/",
          "height": 173
        }
      },
      "source": [
        "learn.fit_one_cycle(4, slice(2e-3/100, 2e-3))"
      ],
      "execution_count": 37,
      "outputs": [
        {
          "output_type": "display_data",
          "data": {
            "text/html": [
              "<table border=\"1\" class=\"dataframe\">\n",
              "  <thead>\n",
              "    <tr style=\"text-align: left;\">\n",
              "      <th>epoch</th>\n",
              "      <th>train_loss</th>\n",
              "      <th>valid_loss</th>\n",
              "      <th>accuracy</th>\n",
              "      <th>time</th>\n",
              "    </tr>\n",
              "  </thead>\n",
              "  <tbody>\n",
              "    <tr>\n",
              "      <td>0</td>\n",
              "      <td>1.944073</td>\n",
              "      <td>3.750135</td>\n",
              "      <td>0.361538</td>\n",
              "      <td>00:58</td>\n",
              "    </tr>\n",
              "    <tr>\n",
              "      <td>1</td>\n",
              "      <td>1.869934</td>\n",
              "      <td>3.788470</td>\n",
              "      <td>0.315385</td>\n",
              "      <td>01:05</td>\n",
              "    </tr>\n",
              "    <tr>\n",
              "      <td>2</td>\n",
              "      <td>1.735583</td>\n",
              "      <td>3.740288</td>\n",
              "      <td>0.369231</td>\n",
              "      <td>01:03</td>\n",
              "    </tr>\n",
              "    <tr>\n",
              "      <td>3</td>\n",
              "      <td>1.624355</td>\n",
              "      <td>3.727159</td>\n",
              "      <td>0.353846</td>\n",
              "      <td>00:59</td>\n",
              "    </tr>\n",
              "  </tbody>\n",
              "</table>"
            ],
            "text/plain": [
              "<IPython.core.display.HTML object>"
            ]
          },
          "metadata": {
            "tags": []
          }
        }
      ]
    },
    {
      "cell_type": "code",
      "metadata": {
        "id": "ajQC6WDg1yA9",
        "outputId": "7291d07b-6997-46ab-cc93-7c9be25eadaf",
        "colab": {
          "base_uri": "https://localhost:8080/",
          "height": 173
        }
      },
      "source": [
        "learn.fit_one_cycle(4, slice(2e-3/100, 2e-3))"
      ],
      "execution_count": 38,
      "outputs": [
        {
          "output_type": "display_data",
          "data": {
            "text/html": [
              "<table border=\"1\" class=\"dataframe\">\n",
              "  <thead>\n",
              "    <tr style=\"text-align: left;\">\n",
              "      <th>epoch</th>\n",
              "      <th>train_loss</th>\n",
              "      <th>valid_loss</th>\n",
              "      <th>accuracy</th>\n",
              "      <th>time</th>\n",
              "    </tr>\n",
              "  </thead>\n",
              "  <tbody>\n",
              "    <tr>\n",
              "      <td>0</td>\n",
              "      <td>1.502259</td>\n",
              "      <td>3.750790</td>\n",
              "      <td>0.323077</td>\n",
              "      <td>01:04</td>\n",
              "    </tr>\n",
              "    <tr>\n",
              "      <td>1</td>\n",
              "      <td>1.524301</td>\n",
              "      <td>3.994105</td>\n",
              "      <td>0.353846</td>\n",
              "      <td>00:57</td>\n",
              "    </tr>\n",
              "    <tr>\n",
              "      <td>2</td>\n",
              "      <td>1.400871</td>\n",
              "      <td>3.940380</td>\n",
              "      <td>0.353846</td>\n",
              "      <td>01:01</td>\n",
              "    </tr>\n",
              "    <tr>\n",
              "      <td>3</td>\n",
              "      <td>1.296710</td>\n",
              "      <td>3.962414</td>\n",
              "      <td>0.346154</td>\n",
              "      <td>00:59</td>\n",
              "    </tr>\n",
              "  </tbody>\n",
              "</table>"
            ],
            "text/plain": [
              "<IPython.core.display.HTML object>"
            ]
          },
          "metadata": {
            "tags": []
          }
        }
      ]
    },
    {
      "cell_type": "code",
      "metadata": {
        "id": "KKydb0B4BKGk",
        "outputId": "529d207b-916f-494c-f2c1-2d5497442a12",
        "colab": {
          "base_uri": "https://localhost:8080/",
          "height": 173
        }
      },
      "source": [
        "learn.fit_one_cycle(4, slice(2e-3/100, 2e-3))"
      ],
      "execution_count": 39,
      "outputs": [
        {
          "output_type": "display_data",
          "data": {
            "text/html": [
              "<table border=\"1\" class=\"dataframe\">\n",
              "  <thead>\n",
              "    <tr style=\"text-align: left;\">\n",
              "      <th>epoch</th>\n",
              "      <th>train_loss</th>\n",
              "      <th>valid_loss</th>\n",
              "      <th>accuracy</th>\n",
              "      <th>time</th>\n",
              "    </tr>\n",
              "  </thead>\n",
              "  <tbody>\n",
              "    <tr>\n",
              "      <td>0</td>\n",
              "      <td>1.185630</td>\n",
              "      <td>4.028072</td>\n",
              "      <td>0.369231</td>\n",
              "      <td>00:58</td>\n",
              "    </tr>\n",
              "    <tr>\n",
              "      <td>1</td>\n",
              "      <td>1.204255</td>\n",
              "      <td>4.187693</td>\n",
              "      <td>0.346154</td>\n",
              "      <td>00:57</td>\n",
              "    </tr>\n",
              "    <tr>\n",
              "      <td>2</td>\n",
              "      <td>1.118299</td>\n",
              "      <td>4.182107</td>\n",
              "      <td>0.346154</td>\n",
              "      <td>00:59</td>\n",
              "    </tr>\n",
              "    <tr>\n",
              "      <td>3</td>\n",
              "      <td>1.017137</td>\n",
              "      <td>4.075468</td>\n",
              "      <td>0.369231</td>\n",
              "      <td>00:59</td>\n",
              "    </tr>\n",
              "  </tbody>\n",
              "</table>"
            ],
            "text/plain": [
              "<IPython.core.display.HTML object>"
            ]
          },
          "metadata": {
            "tags": []
          }
        }
      ]
    },
    {
      "cell_type": "code",
      "metadata": {
        "id": "T2APKtFKBpGY",
        "outputId": "286b7b86-5d51-4feb-8705-657ac6c66b9b",
        "colab": {
          "base_uri": "https://localhost:8080/",
          "height": 173
        }
      },
      "source": [
        "learn.fit_one_cycle(4, slice(2e-3/100, 2e-3))"
      ],
      "execution_count": 40,
      "outputs": [
        {
          "output_type": "display_data",
          "data": {
            "text/html": [
              "<table border=\"1\" class=\"dataframe\">\n",
              "  <thead>\n",
              "    <tr style=\"text-align: left;\">\n",
              "      <th>epoch</th>\n",
              "      <th>train_loss</th>\n",
              "      <th>valid_loss</th>\n",
              "      <th>accuracy</th>\n",
              "      <th>time</th>\n",
              "    </tr>\n",
              "  </thead>\n",
              "  <tbody>\n",
              "    <tr>\n",
              "      <td>0</td>\n",
              "      <td>0.942349</td>\n",
              "      <td>4.082860</td>\n",
              "      <td>0.353846</td>\n",
              "      <td>01:00</td>\n",
              "    </tr>\n",
              "    <tr>\n",
              "      <td>1</td>\n",
              "      <td>0.950671</td>\n",
              "      <td>4.034656</td>\n",
              "      <td>0.353846</td>\n",
              "      <td>01:00</td>\n",
              "    </tr>\n",
              "    <tr>\n",
              "      <td>2</td>\n",
              "      <td>0.895813</td>\n",
              "      <td>4.234608</td>\n",
              "      <td>0.353846</td>\n",
              "      <td>01:00</td>\n",
              "    </tr>\n",
              "    <tr>\n",
              "      <td>3</td>\n",
              "      <td>0.808590</td>\n",
              "      <td>4.200587</td>\n",
              "      <td>0.353846</td>\n",
              "      <td>00:59</td>\n",
              "    </tr>\n",
              "  </tbody>\n",
              "</table>"
            ],
            "text/plain": [
              "<IPython.core.display.HTML object>"
            ]
          },
          "metadata": {
            "tags": []
          }
        }
      ]
    },
    {
      "cell_type": "code",
      "metadata": {
        "id": "qtTypA1sPgLU",
        "outputId": "d3792295-47d7-47e8-f7c3-b7cf294ed8b0",
        "colab": {
          "base_uri": "https://localhost:8080/",
          "height": 111
        }
      },
      "source": [
        "learn.fit_one_cycle(2, slice(2e-3/100, 2e-3))"
      ],
      "execution_count": 41,
      "outputs": [
        {
          "output_type": "display_data",
          "data": {
            "text/html": [
              "<table border=\"1\" class=\"dataframe\">\n",
              "  <thead>\n",
              "    <tr style=\"text-align: left;\">\n",
              "      <th>epoch</th>\n",
              "      <th>train_loss</th>\n",
              "      <th>valid_loss</th>\n",
              "      <th>accuracy</th>\n",
              "      <th>time</th>\n",
              "    </tr>\n",
              "  </thead>\n",
              "  <tbody>\n",
              "    <tr>\n",
              "      <td>0</td>\n",
              "      <td>0.788092</td>\n",
              "      <td>4.320351</td>\n",
              "      <td>0.353846</td>\n",
              "      <td>01:00</td>\n",
              "    </tr>\n",
              "    <tr>\n",
              "      <td>1</td>\n",
              "      <td>0.752061</td>\n",
              "      <td>4.280685</td>\n",
              "      <td>0.346154</td>\n",
              "      <td>01:05</td>\n",
              "    </tr>\n",
              "  </tbody>\n",
              "</table>"
            ],
            "text/plain": [
              "<IPython.core.display.HTML object>"
            ]
          },
          "metadata": {
            "tags": []
          }
        }
      ]
    },
    {
      "cell_type": "code",
      "metadata": {
        "id": "b242kBsTUp9Y",
        "outputId": "45b2cbec-75bd-47f3-9903-6a0b64b4c6ad",
        "colab": {
          "base_uri": "https://localhost:8080/",
          "height": 111
        }
      },
      "source": [
        "learn.fit_one_cycle(2, slice(2e-3/100, 2e-3))"
      ],
      "execution_count": 42,
      "outputs": [
        {
          "output_type": "display_data",
          "data": {
            "text/html": [
              "<table border=\"1\" class=\"dataframe\">\n",
              "  <thead>\n",
              "    <tr style=\"text-align: left;\">\n",
              "      <th>epoch</th>\n",
              "      <th>train_loss</th>\n",
              "      <th>valid_loss</th>\n",
              "      <th>accuracy</th>\n",
              "      <th>time</th>\n",
              "    </tr>\n",
              "  </thead>\n",
              "  <tbody>\n",
              "    <tr>\n",
              "      <td>0</td>\n",
              "      <td>0.747716</td>\n",
              "      <td>4.277593</td>\n",
              "      <td>0.346154</td>\n",
              "      <td>01:02</td>\n",
              "    </tr>\n",
              "    <tr>\n",
              "      <td>1</td>\n",
              "      <td>0.688521</td>\n",
              "      <td>4.336709</td>\n",
              "      <td>0.353846</td>\n",
              "      <td>01:05</td>\n",
              "    </tr>\n",
              "  </tbody>\n",
              "</table>"
            ],
            "text/plain": [
              "<IPython.core.display.HTML object>"
            ]
          },
          "metadata": {
            "tags": []
          }
        }
      ]
    },
    {
      "cell_type": "code",
      "metadata": {
        "id": "Duwf1Ih5VeDZ",
        "outputId": "d19df7de-302c-4cf9-fc0e-6df27a04c140",
        "colab": {
          "base_uri": "https://localhost:8080/",
          "height": 80
        }
      },
      "source": [
        "learn.fit_one_cycle(1, slice(2e-3/100, 2e-3))"
      ],
      "execution_count": 43,
      "outputs": [
        {
          "output_type": "display_data",
          "data": {
            "text/html": [
              "<table border=\"1\" class=\"dataframe\">\n",
              "  <thead>\n",
              "    <tr style=\"text-align: left;\">\n",
              "      <th>epoch</th>\n",
              "      <th>train_loss</th>\n",
              "      <th>valid_loss</th>\n",
              "      <th>accuracy</th>\n",
              "      <th>time</th>\n",
              "    </tr>\n",
              "  </thead>\n",
              "  <tbody>\n",
              "    <tr>\n",
              "      <td>0</td>\n",
              "      <td>0.654662</td>\n",
              "      <td>4.318522</td>\n",
              "      <td>0.384615</td>\n",
              "      <td>01:02</td>\n",
              "    </tr>\n",
              "  </tbody>\n",
              "</table>"
            ],
            "text/plain": [
              "<IPython.core.display.HTML object>"
            ]
          },
          "metadata": {
            "tags": []
          }
        }
      ]
    },
    {
      "cell_type": "code",
      "metadata": {
        "id": "c65d-osfDUXm"
      },
      "source": [
        "# save the best model\n",
        "\n",
        "learn.save_encoder('TwADR-cadec_fold5')"
      ],
      "execution_count": 44,
      "outputs": []
    },
    {
      "cell_type": "code",
      "metadata": {
        "id": "5h-A_GpAIYg8",
        "outputId": "bd7ac10e-f0d3-419b-8333-f34483478879",
        "colab": {
          "base_uri": "https://localhost:8080/",
          "height": 80
        }
      },
      "source": [
        "learn.fit_one_cycle(1, slice(2e-3/100, 2e-3))"
      ],
      "execution_count": 45,
      "outputs": [
        {
          "output_type": "display_data",
          "data": {
            "text/html": [
              "<table border=\"1\" class=\"dataframe\">\n",
              "  <thead>\n",
              "    <tr style=\"text-align: left;\">\n",
              "      <th>epoch</th>\n",
              "      <th>train_loss</th>\n",
              "      <th>valid_loss</th>\n",
              "      <th>accuracy</th>\n",
              "      <th>time</th>\n",
              "    </tr>\n",
              "  </thead>\n",
              "  <tbody>\n",
              "    <tr>\n",
              "      <td>0</td>\n",
              "      <td>0.651300</td>\n",
              "      <td>4.439783</td>\n",
              "      <td>0.376923</td>\n",
              "      <td>00:58</td>\n",
              "    </tr>\n",
              "  </tbody>\n",
              "</table>"
            ],
            "text/plain": [
              "<IPython.core.display.HTML object>"
            ]
          },
          "metadata": {
            "tags": []
          }
        }
      ]
    },
    {
      "cell_type": "code",
      "metadata": {
        "id": "qc4poYxzIwca",
        "outputId": "bc455ca3-1e4f-4904-8f15-6c09c302b824",
        "colab": {
          "base_uri": "https://localhost:8080/",
          "height": 80
        }
      },
      "source": [
        "learn.fit_one_cycle(1, slice(2e-3/100, 2e-3))"
      ],
      "execution_count": 46,
      "outputs": [
        {
          "output_type": "display_data",
          "data": {
            "text/html": [
              "<table border=\"1\" class=\"dataframe\">\n",
              "  <thead>\n",
              "    <tr style=\"text-align: left;\">\n",
              "      <th>epoch</th>\n",
              "      <th>train_loss</th>\n",
              "      <th>valid_loss</th>\n",
              "      <th>accuracy</th>\n",
              "      <th>time</th>\n",
              "    </tr>\n",
              "  </thead>\n",
              "  <tbody>\n",
              "    <tr>\n",
              "      <td>0</td>\n",
              "      <td>0.661499</td>\n",
              "      <td>4.368897</td>\n",
              "      <td>0.361538</td>\n",
              "      <td>01:01</td>\n",
              "    </tr>\n",
              "  </tbody>\n",
              "</table>"
            ],
            "text/plain": [
              "<IPython.core.display.HTML object>"
            ]
          },
          "metadata": {
            "tags": []
          }
        }
      ]
    },
    {
      "cell_type": "code",
      "metadata": {
        "id": "66s4PxV1JVfo",
        "outputId": "eed19a71-c598-4e42-8880-2d1bd4094da0",
        "colab": {
          "base_uri": "https://localhost:8080/",
          "height": 80
        }
      },
      "source": [
        "learn.fit_one_cycle(1, slice(2e-3/100, 2e-3))"
      ],
      "execution_count": 47,
      "outputs": [
        {
          "output_type": "display_data",
          "data": {
            "text/html": [
              "<table border=\"1\" class=\"dataframe\">\n",
              "  <thead>\n",
              "    <tr style=\"text-align: left;\">\n",
              "      <th>epoch</th>\n",
              "      <th>train_loss</th>\n",
              "      <th>valid_loss</th>\n",
              "      <th>accuracy</th>\n",
              "      <th>time</th>\n",
              "    </tr>\n",
              "  </thead>\n",
              "  <tbody>\n",
              "    <tr>\n",
              "      <td>0</td>\n",
              "      <td>0.617390</td>\n",
              "      <td>4.478823</td>\n",
              "      <td>0.338462</td>\n",
              "      <td>01:01</td>\n",
              "    </tr>\n",
              "  </tbody>\n",
              "</table>"
            ],
            "text/plain": [
              "<IPython.core.display.HTML object>"
            ]
          },
          "metadata": {
            "tags": []
          }
        }
      ]
    },
    {
      "cell_type": "markdown",
      "metadata": {
        "id": "rCwZU0E2RgM6"
      },
      "source": [
        "# Part three: Predict on the test dataset"
      ]
    },
    {
      "cell_type": "code",
      "metadata": {
        "id": "gDm72c-dOu7d",
        "outputId": "abdb60b0-23a1-4c1b-c5e8-88f084059c99",
        "colab": {
          "base_uri": "https://localhost:8080/",
          "height": 17
        }
      },
      "source": [
        "# use the test data for prediction\n",
        "\n",
        "preds, y = learn.get_preds(DatasetType.Test)"
      ],
      "execution_count": 48,
      "outputs": [
        {
          "output_type": "display_data",
          "data": {
            "text/html": [
              ""
            ],
            "text/plain": [
              "<IPython.core.display.HTML object>"
            ]
          },
          "metadata": {
            "tags": []
          }
        }
      ]
    },
    {
      "cell_type": "code",
      "metadata": {
        "id": "6tFSQcsWPvxn",
        "outputId": "c6d001f8-d65a-476d-b202-d295bcbc6da9",
        "colab": {
          "base_uri": "https://localhost:8080/",
          "height": 105
        }
      },
      "source": [
        "predictions, *_ = learn.get_preds(DatasetType.Test)\n",
        "labels = np.argmax(predictions, 1)\n",
        "predict_list = labels.tolist()\n",
        "standard_list = test[0].tolist()\n",
        "\n",
        "print(len(predict_list))\n",
        "print(len(standard_list))\n",
        "\n",
        "print(predict_list)\n",
        "print(standard_list)"
      ],
      "execution_count": 49,
      "outputs": [
        {
          "output_type": "display_data",
          "data": {
            "text/html": [
              ""
            ],
            "text/plain": [
              "<IPython.core.display.HTML object>"
            ]
          },
          "metadata": {
            "tags": []
          }
        },
        {
          "output_type": "stream",
          "text": [
            "143\n",
            "143\n",
            "[1099, 393, 1787, 133, 231, 233, 2147, 249, 300, 1582, 1718, 824, 418, 532, 550, 1373, 582, 749, 644, 744, 744, 749, 749, 1597, 1597, 1597, 792, 792, 792, 813, 1940, 825, 822, 1278, 1278, 858, 441, 974, 974, 974, 978, 978, 978, 978, 978, 978, 1007, 1019, 1054, 2191, 2147, 2191, 1227, 1136, 1142, 1175, 1192, 561, 1227, 1227, 1295, 1295, 1295, 1308, 1340, 441, 947, 452, 1325, 1595, 1595, 809, 1718, 1341, 1508, 1468, 224, 418, 1701, 1711, 749, 1925, 1163, 1356, 1597, 1597, 1610, 1610, 1610, 1610, 1610, 1610, 1145, 1048, 1701, 749, 265, 1718, 1718, 1718, 1727, 1718, 2026, 1718, 1669, 1718, 1727, 1718, 1073, 1099, 1787, 1253, 1727, 393, 1787, 2191, 1787, 923, 1815, 1815, 1973, 1877, 1610, 1936, 1936, 1942, 1942, 1341, 947, 195, 858, 1718, 2032, 1787, 189, 2081, 2103, 1529, 1787, 2147, 2032, 1529, 1676]\n",
            "[13, 13, 93, 133, 231, 233, 233, 249, 300, 362, 396, 418, 441, 532, 550, 582, 582, 596, 644, 744, 745, 749, 749, 791, 791, 791, 792, 792, 792, 813, 815, 818, 822, 852, 857, 858, 974, 974, 974, 974, 978, 978, 978, 978, 978, 982, 1007, 1019, 1054, 1073, 1099, 1099, 1099, 1136, 1142, 1175, 1192, 1227, 1227, 1227, 1295, 1295, 1295, 1308, 1340, 1341, 1356, 1356, 1373, 1432, 1432, 1458, 1463, 1507, 1508, 1519, 1521, 1526, 1526, 1529, 1529, 1545, 1594, 1597, 1597, 1597, 1610, 1610, 1610, 1610, 1610, 1610, 1616, 1669, 1706, 1711, 1711, 1718, 1718, 1718, 1718, 1718, 1767, 1767, 1767, 1767, 1767, 1767, 1767, 1769, 1787, 1787, 1787, 1787, 1787, 1787, 1787, 1813, 1815, 1815, 1833, 1877, 1925, 1936, 1936, 1942, 1942, 1973, 1974, 2017, 2017, 2032, 2032, 2032, 2048, 2081, 2103, 2147, 2147, 2147, 2149, 2149, 2194]\n"
          ],
          "name": "stdout"
        }
      ]
    },
    {
      "cell_type": "code",
      "metadata": {
        "id": "XIC4zufnMxtq",
        "outputId": "b003009b-a7d2-4a27-be73-2f242c42833b",
        "colab": {
          "base_uri": "https://localhost:8080/"
        }
      },
      "source": [
        "correct_num = 0\n",
        "\n",
        "for i in range(0, len(standard_list)):\n",
        "  if predict_list[i] == standard_list[i]:\n",
        "    correct_num = correct_num+1\n",
        "  else:\n",
        "    pass\n",
        "print(correct_num)\n",
        "\n",
        "predict_accuracy = correct_num/len(predict_list)\n",
        "print(predict_accuracy)"
      ],
      "execution_count": 50,
      "outputs": [
        {
          "output_type": "stream",
          "text": [
            "67\n",
            "0.46853146853146854\n"
          ],
          "name": "stdout"
        }
      ]
    },
    {
      "cell_type": "code",
      "metadata": {
        "id": "zlKMHp1CIaRJ"
      },
      "source": [
        ""
      ],
      "execution_count": 50,
      "outputs": []
    }
  ]
}