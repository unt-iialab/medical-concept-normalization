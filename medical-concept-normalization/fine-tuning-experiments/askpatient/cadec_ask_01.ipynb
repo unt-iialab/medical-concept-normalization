{
  "nbformat": 4,
  "nbformat_minor": 0,
  "metadata": {
    "accelerator": "TPU",
    "colab": {
      "name": "cadec_ask_01.ipynb",
      "provenance": [],
      "collapsed_sections": [],
      "toc_visible": true,
      "include_colab_link": true
    },
    "kernelspec": {
      "display_name": "Python 3",
      "name": "python3"
    }
  },
  "cells": [
    {
      "cell_type": "markdown",
      "metadata": {
        "id": "view-in-github",
        "colab_type": "text"
      },
      "source": [
        "<a href=\"https://colab.research.google.com/github/unt-iialab/medical-concept-normalization/blob/master/medical-concept-normalization/fine-tuning-experiments/askpatient/cadec_ask_01.ipynb\" target=\"_parent\"><img src=\"https://colab.research.google.com/assets/colab-badge.svg\" alt=\"Open In Colab\"/></a>"
      ]
    },
    {
      "cell_type": "code",
      "metadata": {
        "id": "adSi6i2-dWxy"
      },
      "source": [
        "import os"
      ],
      "execution_count": 1,
      "outputs": []
    },
    {
      "cell_type": "code",
      "metadata": {
        "id": "E7xYCRGPjd9B"
      },
      "source": [
        "base_dir = 'medical-concept-normalization'"
      ],
      "execution_count": 2,
      "outputs": []
    },
    {
      "cell_type": "code",
      "metadata": {
        "id": "yvIW3aUDjYNS"
      },
      "source": [
        "os.mkdir(base_dir)"
      ],
      "execution_count": 3,
      "outputs": []
    },
    {
      "cell_type": "code",
      "metadata": {
        "id": "es-FFLlfk6SG"
      },
      "source": [
        "os.mkdir('medical-concept-normalization/data_collection')"
      ],
      "execution_count": 4,
      "outputs": []
    },
    {
      "cell_type": "markdown",
      "metadata": {
        "id": "0R-Guw_VoJXm"
      },
      "source": [
        "**Install fastai and clone the fastai for text classification**\n",
        "\n"
      ]
    },
    {
      "cell_type": "code",
      "metadata": {
        "id": "QVZa3Z0PmHFH",
        "outputId": "85e84591-8563-405d-b34d-912cd76cea15",
        "colab": {
          "base_uri": "https://localhost:8080/"
        }
      },
      "source": [
        "!curl https://course-v3.fast.ai/setup/colab | bash"
      ],
      "execution_count": 5,
      "outputs": [
        {
          "output_type": "stream",
          "text": [
            "  % Total    % Received % Xferd  Average Speed   Time    Time     Time  Current\n",
            "                                 Dload  Upload   Total   Spent    Left  Speed\n",
            "\r  0     0    0     0    0     0      0      0 --:--:-- --:--:-- --:--:--     0curl: (6) Could not resolve host: course-v3.fast.ai\n"
          ],
          "name": "stdout"
        }
      ]
    },
    {
      "cell_type": "code",
      "metadata": {
        "id": "_FBFFEBrmJC0",
        "outputId": "e782611d-f1fc-453d-f614-32b916856f00",
        "colab": {
          "base_uri": "https://localhost:8080/"
        }
      },
      "source": [
        "!git clone https://github.com/wshuyi/demo-nlp-classification-fastai.git"
      ],
      "execution_count": 6,
      "outputs": [
        {
          "output_type": "stream",
          "text": [
            "Cloning into 'demo-nlp-classification-fastai'...\n",
            "remote: Enumerating objects: 9, done.\u001b[K\n",
            "remote: Total 9 (delta 0), reused 0 (delta 0), pack-reused 9\u001b[K\n",
            "Unpacking objects: 100% (9/9), done.\n"
          ],
          "name": "stdout"
        }
      ]
    },
    {
      "cell_type": "code",
      "metadata": {
        "id": "66zfh_JqmWMU"
      },
      "source": [
        "from fastai import *\n",
        "from fastai.text import *"
      ],
      "execution_count": 7,
      "outputs": []
    },
    {
      "cell_type": "markdown",
      "metadata": {
        "id": "mNIw-yALdBU9"
      },
      "source": [
        "**Set the path of the data collections**"
      ]
    },
    {
      "cell_type": "code",
      "metadata": {
        "id": "pzH7VMh4mqCL"
      },
      "source": [
        "path = Path('medical-concept-normalization/data_collection')"
      ],
      "execution_count": 8,
      "outputs": []
    },
    {
      "cell_type": "code",
      "metadata": {
        "id": "b8fjI6yyn4aS"
      },
      "source": [
        "# training data set\n",
        "\n",
        "train_csv = path/'AskAPatient.fold-1.train.csv'\n",
        "train = pd.read_csv(train_csv, header=None)\n",
        "#train.head()\n",
        "#train.info()"
      ],
      "execution_count": 10,
      "outputs": []
    },
    {
      "cell_type": "code",
      "metadata": {
        "id": "Hmlr-bAorfHd",
        "outputId": "2da28eb4-ae6e-4aab-fa45-dc602bd2fee4",
        "colab": {
          "base_uri": "https://localhost:8080/",
          "height": 204
        }
      },
      "source": [
        "# validating data set\n",
        "\n",
        "valid = pd.read_csv(path/\"AskAPatient.fold-1.validation.csv\",header=None)\n",
        "valid.head()"
      ],
      "execution_count": 11,
      "outputs": [
        {
          "output_type": "execute_result",
          "data": {
            "text/html": [
              "<div>\n",
              "<style scoped>\n",
              "    .dataframe tbody tr th:only-of-type {\n",
              "        vertical-align: middle;\n",
              "    }\n",
              "\n",
              "    .dataframe tbody tr th {\n",
              "        vertical-align: top;\n",
              "    }\n",
              "\n",
              "    .dataframe thead th {\n",
              "        text-align: right;\n",
              "    }\n",
              "</style>\n",
              "<table border=\"1\" class=\"dataframe\">\n",
              "  <thead>\n",
              "    <tr style=\"text-align: right;\">\n",
              "      <th></th>\n",
              "      <th>0</th>\n",
              "      <th>1</th>\n",
              "    </tr>\n",
              "  </thead>\n",
              "  <tbody>\n",
              "    <tr>\n",
              "      <th>0</th>\n",
              "      <td>0</td>\n",
              "      <td>fear</td>\n",
              "    </tr>\n",
              "    <tr>\n",
              "      <th>1</th>\n",
              "      <td>2</td>\n",
              "      <td>heels hurt</td>\n",
              "    </tr>\n",
              "    <tr>\n",
              "      <th>2</th>\n",
              "      <td>4</td>\n",
              "      <td>Discoloration of skin [blotchy] on the neck</td>\n",
              "    </tr>\n",
              "    <tr>\n",
              "      <th>3</th>\n",
              "      <td>6</td>\n",
              "      <td>diastolic dysfunction</td>\n",
              "    </tr>\n",
              "    <tr>\n",
              "      <th>4</th>\n",
              "      <td>8</td>\n",
              "      <td>arthritis</td>\n",
              "    </tr>\n",
              "  </tbody>\n",
              "</table>\n",
              "</div>"
            ],
            "text/plain": [
              "   0                                            1\n",
              "0  0                                         fear\n",
              "1  2                                   heels hurt\n",
              "2  4  Discoloration of skin [blotchy] on the neck\n",
              "3  6                        diastolic dysfunction\n",
              "4  8                                    arthritis"
            ]
          },
          "metadata": {
            "tags": []
          },
          "execution_count": 11
        }
      ]
    },
    {
      "cell_type": "code",
      "metadata": {
        "id": "cOza9dfSsBud",
        "outputId": "9c038ed7-c994-4527-9e3f-729cba91f85f",
        "colab": {
          "base_uri": "https://localhost:8080/",
          "height": 204
        }
      },
      "source": [
        "# testing data set\n",
        "\n",
        "test = pd.read_csv(path/\"AskAPatient.fold-1.test.csv\",header=None)\n",
        "test.head()"
      ],
      "execution_count": 12,
      "outputs": [
        {
          "output_type": "execute_result",
          "data": {
            "text/html": [
              "<div>\n",
              "<style scoped>\n",
              "    .dataframe tbody tr th:only-of-type {\n",
              "        vertical-align: middle;\n",
              "    }\n",
              "\n",
              "    .dataframe tbody tr th {\n",
              "        vertical-align: top;\n",
              "    }\n",
              "\n",
              "    .dataframe thead th {\n",
              "        text-align: right;\n",
              "    }\n",
              "</style>\n",
              "<table border=\"1\" class=\"dataframe\">\n",
              "  <thead>\n",
              "    <tr style=\"text-align: right;\">\n",
              "      <th></th>\n",
              "      <th>0</th>\n",
              "      <th>1</th>\n",
              "    </tr>\n",
              "  </thead>\n",
              "  <tbody>\n",
              "    <tr>\n",
              "      <th>0</th>\n",
              "      <td>2</td>\n",
              "      <td>heel pain</td>\n",
              "    </tr>\n",
              "    <tr>\n",
              "      <th>1</th>\n",
              "      <td>2</td>\n",
              "      <td>right heel became painful</td>\n",
              "    </tr>\n",
              "    <tr>\n",
              "      <th>2</th>\n",
              "      <td>8</td>\n",
              "      <td>Arthritis</td>\n",
              "    </tr>\n",
              "    <tr>\n",
              "      <th>3</th>\n",
              "      <td>8</td>\n",
              "      <td>arthristis</td>\n",
              "    </tr>\n",
              "    <tr>\n",
              "      <th>4</th>\n",
              "      <td>8</td>\n",
              "      <td>arthritis</td>\n",
              "    </tr>\n",
              "  </tbody>\n",
              "</table>\n",
              "</div>"
            ],
            "text/plain": [
              "   0                          1\n",
              "0  2                  heel pain\n",
              "1  2  right heel became painful\n",
              "2  8                  Arthritis\n",
              "3  8                 arthristis\n",
              "4  8                  arthritis"
            ]
          },
          "metadata": {
            "tags": []
          },
          "execution_count": 12
        }
      ]
    },
    {
      "cell_type": "code",
      "metadata": {
        "id": "Vo-YNvVYoaH6",
        "outputId": "db4dd490-1bd7-4edd-b554-c9256aa50c93",
        "colab": {
          "base_uri": "https://localhost:8080/",
          "height": 17
        }
      },
      "source": [
        "# Creating DataBunch for language modelling\n",
        "\n",
        "data_lm = TextLMDataBunch.from_csv(path, 'cadec_ask.csv')"
      ],
      "execution_count": 13,
      "outputs": [
        {
          "output_type": "display_data",
          "data": {
            "text/html": [
              ""
            ],
            "text/plain": [
              "<IPython.core.display.HTML object>"
            ]
          },
          "metadata": {
            "tags": []
          }
        },
        {
          "output_type": "display_data",
          "data": {
            "text/html": [
              ""
            ],
            "text/plain": [
              "<IPython.core.display.HTML object>"
            ]
          },
          "metadata": {
            "tags": []
          }
        }
      ]
    },
    {
      "cell_type": "code",
      "metadata": {
        "id": "qcV-9kMnNLBf"
      },
      "source": [
        ""
      ],
      "execution_count": 13,
      "outputs": []
    },
    {
      "cell_type": "code",
      "metadata": {
        "id": "1ScY9afDsnvE"
      },
      "source": [
        "# Creating DataBunch for classification\n",
        "\n",
        "# data_clas = TextClasDataBunch.from_df(path, train, valid, test, vocab=data_lm.train_ds.vocab, bs=128)"
      ],
      "execution_count": 14,
      "outputs": []
    },
    {
      "cell_type": "code",
      "metadata": {
        "id": "gzrSdQcvey9p",
        "outputId": "56ef6072-a140-4a90-9c4c-dc4c9d226055",
        "colab": {
          "base_uri": "https://localhost:8080/",
          "height": 17
        }
      },
      "source": [
        "data_clas = TextClasDataBunch.from_df(path, train, valid, vocab=data_lm.train_ds.vocab, bs=128)"
      ],
      "execution_count": 15,
      "outputs": [
        {
          "output_type": "display_data",
          "data": {
            "text/html": [
              ""
            ],
            "text/plain": [
              "<IPython.core.display.HTML object>"
            ]
          },
          "metadata": {
            "tags": []
          }
        },
        {
          "output_type": "display_data",
          "data": {
            "text/html": [
              ""
            ],
            "text/plain": [
              "<IPython.core.display.HTML object>"
            ]
          },
          "metadata": {
            "tags": []
          }
        }
      ]
    },
    {
      "cell_type": "code",
      "metadata": {
        "id": "MD27Tf0Ke3ou",
        "outputId": "7250aec1-cf0a-47d8-ca4b-4cb3685741c4",
        "colab": {
          "base_uri": "https://localhost:8080/",
          "height": 17
        }
      },
      "source": [
        "data_clas.add_test(test,label=0)\n"
      ],
      "execution_count": 16,
      "outputs": [
        {
          "output_type": "display_data",
          "data": {
            "text/html": [
              ""
            ],
            "text/plain": [
              "<IPython.core.display.HTML object>"
            ]
          },
          "metadata": {
            "tags": []
          }
        }
      ]
    },
    {
      "cell_type": "code",
      "metadata": {
        "id": "-dpjnk_rstwk"
      },
      "source": [
        "data_lm.save()\n",
        "data_clas.save()"
      ],
      "execution_count": 17,
      "outputs": []
    },
    {
      "cell_type": "code",
      "metadata": {
        "id": "4OkiJa36sw5s",
        "outputId": "12194be8-f0ab-4457-ea7a-e477006f6cda",
        "colab": {
          "base_uri": "https://localhost:8080/"
        }
      },
      "source": [
        "data_lm.train_ds.vocab.itos"
      ],
      "execution_count": 18,
      "outputs": [
        {
          "output_type": "execute_result",
          "data": {
            "text/plain": [
              "['xxunk',\n",
              " 'xxpad',\n",
              " 'xxbos',\n",
              " 'xxeos',\n",
              " 'xxfld',\n",
              " 'xxmaj',\n",
              " 'xxup',\n",
              " 'xxrep',\n",
              " 'xxwrep',\n",
              " 'pain',\n",
              " 'lipitor',\n",
              " 'in',\n",
              " 'of',\n",
              " 'muscle',\n",
              " '.',\n",
              " 'and',\n",
              " 'to',\n",
              " ',',\n",
              " 'my',\n",
              " 'i',\n",
              " 'the',\n",
              " 'severe',\n",
              " 'myalgia',\n",
              " 'fatigue',\n",
              " 'lower',\n",
              " 'loss',\n",
              " '-',\n",
              " 'weakness',\n",
              " 'cramp',\n",
              " 'limb',\n",
              " 'stomach',\n",
              " 'back',\n",
              " 'a',\n",
              " 'depression',\n",
              " 'cramps',\n",
              " 'leg',\n",
              " 'gas',\n",
              " 'joint',\n",
              " 'memory',\n",
              " 'upper',\n",
              " 'legs',\n",
              " 'pains',\n",
              " 'it',\n",
              " 'headache',\n",
              " 'shoulder',\n",
              " 'knee',\n",
              " 'unable',\n",
              " '/',\n",
              " 'neck',\n",
              " 'not',\n",
              " 'was',\n",
              " 'arthralgia',\n",
              " 'aches',\n",
              " 'on',\n",
              " 'foot',\n",
              " 'excessive',\n",
              " 'for',\n",
              " 'like',\n",
              " 'all',\n",
              " 'gastrointestinal',\n",
              " 'hip',\n",
              " 'numbness',\n",
              " 'arthritis',\n",
              " 'insomnia',\n",
              " 'have',\n",
              " 'bleeding',\n",
              " 'walk',\n",
              " 'heart',\n",
              " 'feeling',\n",
              " 'with',\n",
              " 'problems',\n",
              " 'arthrotec',\n",
              " 'nausea',\n",
              " 'cholesterol',\n",
              " 'feet',\n",
              " 'is',\n",
              " 'tired',\n",
              " 'asthenia',\n",
              " 'dizziness',\n",
              " 'disease',\n",
              " 'abdominal',\n",
              " 'walking',\n",
              " 'this',\n",
              " 'muscles',\n",
              " 'difficulty',\n",
              " 'very',\n",
              " 'extreme',\n",
              " 'swelling',\n",
              " 'chest',\n",
              " 'hair',\n",
              " 'burning',\n",
              " 'that',\n",
              " 'hand',\n",
              " 'backache',\n",
              " 'vision',\n",
              " 'ache',\n",
              " 'could',\n",
              " 'sleep',\n",
              " 'increased',\n",
              " 'zocor',\n",
              " ')',\n",
              " \"n't\",\n",
              " 'cramping',\n",
              " 'stiffness',\n",
              " 'had',\n",
              " 'liver',\n",
              " 'left',\n",
              " '(',\n",
              " 'blood',\n",
              " 'pins',\n",
              " 'needles',\n",
              " 'diarrhoea',\n",
              " 'skin',\n",
              " 'amnesia',\n",
              " 'but',\n",
              " 'weight',\n",
              " 'calf',\n",
              " 'up',\n",
              " 'tingling',\n",
              " 'at',\n",
              " 'high',\n",
              " 'taking',\n",
              " 'anxiety',\n",
              " 'me',\n",
              " 'lack',\n",
              " 'short',\n",
              " 'impairment',\n",
              " 'symptom',\n",
              " 'disability',\n",
              " 'side',\n",
              " 'stiff',\n",
              " 'so',\n",
              " 'bloating',\n",
              " 'hands',\n",
              " 'arm',\n",
              " 'term',\n",
              " 'low',\n",
              " 'constipation',\n",
              " 'after',\n",
              " 'headaches',\n",
              " 'can',\n",
              " \"'s\",\n",
              " 'time',\n",
              " 'arms',\n",
              " 'sore',\n",
              " 'no',\n",
              " 'pressure',\n",
              " 'neuropathy',\n",
              " 'body',\n",
              " 'balance',\n",
              " 'voltaren',\n",
              " 'poor',\n",
              " 'disorder',\n",
              " 'blurred',\n",
              " 'from',\n",
              " 'mg',\n",
              " 'joints',\n",
              " 'off',\n",
              " 'hurt',\n",
              " 'tiredness',\n",
              " 'feel',\n",
              " 'or',\n",
              " 'drug',\n",
              " 'ankle',\n",
              " 'vaginal',\n",
              " 'pravachol',\n",
              " 'bad',\n",
              " 'sensation',\n",
              " 'been',\n",
              " 'am',\n",
              " 'get',\n",
              " 'right',\n",
              " 'attack',\n",
              " 'rash',\n",
              " 'infarction',\n",
              " 'myositis',\n",
              " 'effects',\n",
              " 'swollen',\n",
              " 'has',\n",
              " '!',\n",
              " 'myocardial',\n",
              " 'acid',\n",
              " 'vertigo',\n",
              " 'as',\n",
              " 'generalised',\n",
              " 'mentally',\n",
              " 'energy',\n",
              " 'symptoms',\n",
              " 'itching',\n",
              " 'out',\n",
              " 'diarrhea',\n",
              " 'upset',\n",
              " 'over',\n",
              " 'atrophy',\n",
              " 'painful',\n",
              " 'shoulders',\n",
              " 'gain',\n",
              " 'diabetes',\n",
              " 'are',\n",
              " 'dry',\n",
              " 'be',\n",
              " 'ubidecarenone',\n",
              " 'by',\n",
              " 'weak',\n",
              " 'constant',\n",
              " 'both',\n",
              " 'illness',\n",
              " 'reduced',\n",
              " 'raised',\n",
              " 'damage',\n",
              " 'crestor',\n",
              " 'elevated',\n",
              " 'dull',\n",
              " 'about',\n",
              " 'spasm',\n",
              " 'sleeping',\n",
              " 'day',\n",
              " 'knees',\n",
              " 'spasms',\n",
              " 'years',\n",
              " 'heavy',\n",
              " 'problem',\n",
              " 'elbow',\n",
              " 'started',\n",
              " '3',\n",
              " 'tendonitis',\n",
              " 'influenza',\n",
              " 'hazy',\n",
              " 'when',\n",
              " 'do',\n",
              " 'bed',\n",
              " 'take',\n",
              " 'mood',\n",
              " 'visual',\n",
              " 'felt',\n",
              " 'toe',\n",
              " 'exhaustion',\n",
              " 'discomfort',\n",
              " 'libido',\n",
              " 'thigh',\n",
              " 'reflux',\n",
              " 'irritable',\n",
              " 'flu',\n",
              " 'will',\n",
              " 'flatulence',\n",
              " 'now',\n",
              " 'abnormal',\n",
              " '2',\n",
              " 'movement',\n",
              " 'syndrome',\n",
              " 'months',\n",
              " 'sclerosis',\n",
              " 'concentrate',\n",
              " 'just',\n",
              " 'kidney',\n",
              " 'down',\n",
              " 'fibromyalgia',\n",
              " 'doctor',\n",
              " 'myopathy',\n",
              " 'did',\n",
              " 'throat',\n",
              " 'hips',\n",
              " 'vomiting',\n",
              " 'night',\n",
              " 'one',\n",
              " 'lightheadedness',\n",
              " 'more',\n",
              " 'would',\n",
              " 'confusion',\n",
              " 'serum',\n",
              " 'cold',\n",
              " 'toes',\n",
              " 'soreness',\n",
              " 'malaise',\n",
              " 'urine',\n",
              " 'days',\n",
              " 'mellitus',\n",
              " 'tremor',\n",
              " 'if',\n",
              " 'aching',\n",
              " 'eye',\n",
              " 'went',\n",
              " 'concentration',\n",
              " 'sweating',\n",
              " 'swings',\n",
              " 'head',\n",
              " 'appetite',\n",
              " 'stopped',\n",
              " '10',\n",
              " 'stairs',\n",
              " 'menstrual',\n",
              " 'disturbance',\n",
              " 'wind',\n",
              " 'ankles',\n",
              " 'type',\n",
              " 'chronic',\n",
              " 'calves',\n",
              " 'finger',\n",
              " 'simvastatin',\n",
              " 'think',\n",
              " 'brain',\n",
              " 'some',\n",
              " 'paraesthesia',\n",
              " 'mild',\n",
              " 'ezetimibe',\n",
              " 'only',\n",
              " 'failure',\n",
              " 'heel',\n",
              " 'tinnitus',\n",
              " 'intense',\n",
              " 'celebrex',\n",
              " 'terrible',\n",
              " 'c',\n",
              " 'took',\n",
              " 'then',\n",
              " 'esters',\n",
              " 'parkinson',\n",
              " 'also',\n",
              " 'swallowing',\n",
              " 'weeks',\n",
              " 'general',\n",
              " 'motivation',\n",
              " 'tendon',\n",
              " 'face',\n",
              " 'cough',\n",
              " 'getting',\n",
              " 'decreased',\n",
              " 'ibuprofen',\n",
              " 'renal',\n",
              " 'injury',\n",
              " 'restless',\n",
              " 'lupus',\n",
              " 'eyes',\n",
              " 'excruciating',\n",
              " 'indigestion',\n",
              " 'stress',\n",
              " 'impaired',\n",
              " 'peripheral',\n",
              " '1',\n",
              " 'dyspnoea',\n",
              " '&',\n",
              " 'acute',\n",
              " 'dark',\n",
              " 'still',\n",
              " 'were',\n",
              " \"'m\",\n",
              " 'week',\n",
              " 'charleyhorse',\n",
              " 'fingers',\n",
              " 'hot',\n",
              " 'he',\n",
              " 'tightness',\n",
              " 'they',\n",
              " 'speech',\n",
              " 'ascorbic',\n",
              " 'an',\n",
              " 'depressed',\n",
              " 'ca',\n",
              " 'breathing',\n",
              " 'you',\n",
              " 'level',\n",
              " 'trouble',\n",
              " 'lateral',\n",
              " 'than',\n",
              " 'enzymes',\n",
              " 'menopause',\n",
              " 'infection',\n",
              " 'palpitations',\n",
              " 'any',\n",
              " 'other',\n",
              " 'well',\n",
              " 'always',\n",
              " 'nerve',\n",
              " 'limbs',\n",
              " 'vitamin',\n",
              " 'oil',\n",
              " '20',\n",
              " 'wrist',\n",
              " 'exercise',\n",
              " 'migraine',\n",
              " 'taste',\n",
              " 'even',\n",
              " '5',\n",
              " 'fog',\n",
              " 'which',\n",
              " 'twitch',\n",
              " 'multiple',\n",
              " 'fish',\n",
              " 'thighs',\n",
              " 'strength',\n",
              " 'ago',\n",
              " 'every',\n",
              " 'again',\n",
              " 'go',\n",
              " 'function',\n",
              " 'drowsy',\n",
              " 'medication',\n",
              " 'dreams',\n",
              " 'gout',\n",
              " ':',\n",
              " 'twitching',\n",
              " 'coq10',\n",
              " 'elbows',\n",
              " 'much',\n",
              " 'heartburn',\n",
              " 'amyotrophic',\n",
              " 'never',\n",
              " 'going',\n",
              " 'mouth',\n",
              " 'move',\n",
              " 'worse',\n",
              " 'sinus',\n",
              " 'before',\n",
              " 'being',\n",
              " 'breath',\n",
              " 'provoked',\n",
              " 'tylenol',\n",
              " '+',\n",
              " 'mobility',\n",
              " 'hardly',\n",
              " 'almost',\n",
              " '40',\n",
              " 'numb',\n",
              " 'due',\n",
              " 'advil',\n",
              " 'fenofibrate',\n",
              " 'drive',\n",
              " 'rheumatoid',\n",
              " 'nasal',\n",
              " 'extremely',\n",
              " 'uterine',\n",
              " 'levels',\n",
              " 'loose',\n",
              " 'horses',\n",
              " 'tight',\n",
              " 'life',\n",
              " 'plantar',\n",
              " 'bowel',\n",
              " 'two',\n",
              " 'clearly',\n",
              " 'fever',\n",
              " 'tricor',\n",
              " 'better',\n",
              " 'aleve',\n",
              " 'ringing',\n",
              " 'lethargy',\n",
              " 'sharp',\n",
              " 'ulcer',\n",
              " 'first',\n",
              " 'what',\n",
              " 'sick',\n",
              " '4',\n",
              " \"'ve\",\n",
              " 'urinary',\n",
              " 'moody',\n",
              " 'month',\n",
              " 'because',\n",
              " 'barely',\n",
              " 'thoughts',\n",
              " 'charley',\n",
              " 'around',\n",
              " 'diclofenac',\n",
              " 'fatigued',\n",
              " 'malignant',\n",
              " 'mental',\n",
              " 'facial',\n",
              " 'light',\n",
              " 'experienced',\n",
              " 'horrible',\n",
              " 'liptor',\n",
              " 'panic',\n",
              " 'pulse',\n",
              " 'tract',\n",
              " 'lost',\n",
              " 'cancer',\n",
              " 'finding',\n",
              " 'sex',\n",
              " 'these',\n",
              " 'since',\n",
              " 'congestion',\n",
              " 'zetia',\n",
              " '?',\n",
              " 'accident',\n",
              " 'shortness',\n",
              " 'deep',\n",
              " 'statins',\n",
              " 'cerebrovascular',\n",
              " 'present',\n",
              " ';',\n",
              " 'morning',\n",
              " 'slurred',\n",
              " 'rhabdomyolysis',\n",
              " 'extremity',\n",
              " 'achilles',\n",
              " 'paracetamol',\n",
              " 'stop',\n",
              " 'irregular',\n",
              " 'should',\n",
              " 'fasciitis',\n",
              " 'lot',\n",
              " 'attacks',\n",
              " 'stamina',\n",
              " 'told',\n",
              " 'natural',\n",
              " 'major',\n",
              " 'neurontin',\n",
              " 'there',\n",
              " 'colic',\n",
              " 'sensations',\n",
              " 'anything',\n",
              " 'dr',\n",
              " 'times',\n",
              " 'dizzy',\n",
              " 'als',\n",
              " 'reading',\n",
              " 'little',\n",
              " 'hypertension',\n",
              " 'hard',\n",
              " 'sugar',\n",
              " 'hunger',\n",
              " 'thought',\n",
              " 'know',\n",
              " 'norvasc',\n",
              " 'ear',\n",
              " 'few',\n",
              " 'good',\n",
              " 'who',\n",
              " 'last',\n",
              " 'ability',\n",
              " 'things',\n",
              " 'sweats',\n",
              " '6',\n",
              " 'work',\n",
              " 'taken',\n",
              " 'too',\n",
              " 'lopid',\n",
              " 'statin',\n",
              " 'became',\n",
              " 'creatinine',\n",
              " 'oedema',\n",
              " 'period',\n",
              " 'put',\n",
              " 'having',\n",
              " 'got',\n",
              " 'same',\n",
              " 'foggy',\n",
              " 'long',\n",
              " 'inflammatory',\n",
              " 'ldl',\n",
              " 'inflammation',\n",
              " 'eat',\n",
              " 'inability',\n",
              " 'sense',\n",
              " 'away',\n",
              " 'year',\n",
              " 'osteoarthritis',\n",
              " 'system',\n",
              " 'flushing',\n",
              " 'see',\n",
              " 'without',\n",
              " 'strain',\n",
              " 'eczema',\n",
              " 'area',\n",
              " 'cpk',\n",
              " 'while',\n",
              " 'pruritus',\n",
              " 'your',\n",
              " 'normal',\n",
              " 'feels',\n",
              " 'rapid',\n",
              " 'hypersomnia',\n",
              " 'erythematosus',\n",
              " 'itchy',\n",
              " 'increase',\n",
              " 'looks',\n",
              " 'periods',\n",
              " 'began',\n",
              " 'stand',\n",
              " 'find',\n",
              " 'stool',\n",
              " 'use',\n",
              " 'prednisone',\n",
              " 'tachycardia',\n",
              " 'drugs',\n",
              " 'change',\n",
              " 'spasmodic',\n",
              " 'ms',\n",
              " 'aptyalism',\n",
              " 'lift',\n",
              " 'another',\n",
              " 'ears',\n",
              " 'tension',\n",
              " 'respiratory',\n",
              " 'into',\n",
              " 'dose',\n",
              " 'frequent',\n",
              " 'scalp',\n",
              " 'atorvastatin',\n",
              " 'bursitis',\n",
              " 'forgetful',\n",
              " 'climb',\n",
              " 'stroke',\n",
              " 'nt',\n",
              " 'make',\n",
              " 'nervous',\n",
              " 'bruising',\n",
              " 'within',\n",
              " 'tablet',\n",
              " 'dysfunction',\n",
              " 'hurts',\n",
              " 'abdomen',\n",
              " 'delusional',\n",
              " 'bp',\n",
              " 'omega-3-acid',\n",
              " 'ethyl',\n",
              " 'esters-90',\n",
              " 'menorrhagia',\n",
              " 'venous',\n",
              " 'people',\n",
              " 'asthma',\n",
              " 'sudden',\n",
              " 'region',\n",
              " 'lipex',\n",
              " 'many',\n",
              " 'most',\n",
              " 'weird',\n",
              " 'co',\n",
              " 'bell',\n",
              " 'gone',\n",
              " 'sight',\n",
              " 'something',\n",
              " 'said',\n",
              " 'difficult',\n",
              " 'zoloft',\n",
              " 'nightmares',\n",
              " 'permanent',\n",
              " 'help',\n",
              " 'thinking',\n",
              " 'bone',\n",
              " 'does',\n",
              " 'heaviness',\n",
              " 'gait',\n",
              " 'sexual',\n",
              " 'empty',\n",
              " 'able',\n",
              " 'generally',\n",
              " 'codeine',\n",
              " 'limping',\n",
              " 'cause',\n",
              " 'cortisone',\n",
              " 'during',\n",
              " 'falling',\n",
              " 'tolerance',\n",
              " 'palsy',\n",
              " 'muscular',\n",
              " 'q10',\n",
              " 'forearm',\n",
              " 'gastric',\n",
              " 'rigidity',\n",
              " 'triglycerides',\n",
              " 'self',\n",
              " 'omega',\n",
              " 'several',\n",
              " 'inflamation',\n",
              " 'unwell',\n",
              " 'reaction',\n",
              " 'suicidal',\n",
              " 'everything',\n",
              " 'fast',\n",
              " 'stabbing',\n",
              " 'paralysis',\n",
              " 'really',\n",
              " 'red',\n",
              " 'sever',\n",
              " 'overall',\n",
              " 'coronary',\n",
              " 'diet',\n",
              " 'slight',\n",
              " 'his',\n",
              " 'menopausal',\n",
              " 'diovan',\n",
              " 'edema',\n",
              " 'rupture',\n",
              " 'haematuria',\n",
              " 'test',\n",
              " 'erythema',\n",
              " 'retention',\n",
              " 'tests',\n",
              " 'sides',\n",
              " 'until',\n",
              " 'bloated',\n",
              " 'try',\n",
              " 'developed',\n",
              " 'rectal',\n",
              " 'especially',\n",
              " 'disc',\n",
              " 'cycle',\n",
              " 'where',\n",
              " 'site',\n",
              " 'diabetic',\n",
              " 'degenerative',\n",
              " 'menstruation',\n",
              " 'ever',\n",
              " 'tunnel',\n",
              " 'noticed',\n",
              " 'stopping',\n",
              " 'changes',\n",
              " 'lowered',\n",
              " 'between',\n",
              " 'slightly',\n",
              " 'found',\n",
              " 'hungry',\n",
              " 'effect',\n",
              " 'spotting',\n",
              " 'bronchitis',\n",
              " 'coated',\n",
              " 'three',\n",
              " 'their',\n",
              " 'similar',\n",
              " 'random',\n",
              " 'carpal',\n",
              " 'twitches',\n",
              " 'bladder',\n",
              " 'once',\n",
              " 'them',\n",
              " '8',\n",
              " 'caused',\n",
              " 'aphasia',\n",
              " 'food',\n",
              " 'spine',\n",
              " 'anger',\n",
              " 'sweat',\n",
              " 'unbearable',\n",
              " 'stools',\n",
              " 'how',\n",
              " 'sciatica',\n",
              " 'enough',\n",
              " 'starting',\n",
              " 'great',\n",
              " 'big',\n",
              " 'experiencing',\n",
              " 'tongue',\n",
              " 'ached',\n",
              " 'agitated',\n",
              " 'endometriosis',\n",
              " \"'\",\n",
              " 'standing',\n",
              " 'arthritic',\n",
              " 'fine',\n",
              " 'made',\n",
              " 'chill',\n",
              " 'breast',\n",
              " 'immediately',\n",
              " 'blurry',\n",
              " 'may',\n",
              " 'though',\n",
              " 'colitis',\n",
              " 'ribs',\n",
              " 'doctors',\n",
              " 'uterus',\n",
              " 'hurting',\n",
              " 'musculoskeletal',\n",
              " 'dehydration',\n",
              " 'syncope',\n",
              " 'testosterone',\n",
              " 'less',\n",
              " 'tender',\n",
              " '-pelvis',\n",
              " 'allergic',\n",
              " 'old',\n",
              " 'run',\n",
              " 'chair',\n",
              " 'issues',\n",
              " 'want',\n",
              " 'neuralgia',\n",
              " 'rate',\n",
              " 'through',\n",
              " 'misoprostol',\n",
              " 'crying',\n",
              " 'paranoia',\n",
              " 'drowsiness',\n",
              " 'eyesight',\n",
              " 'quit',\n",
              " 'film',\n",
              " 'however',\n",
              " 'morphine',\n",
              " 'circulation',\n",
              " 'pill',\n",
              " 'sun',\n",
              " 'alzheimer',\n",
              " 'prescribed',\n",
              " 'intervertebral',\n",
              " 'fatique',\n",
              " 'lipidil',\n",
              " 'occasional',\n",
              " 'physical',\n",
              " 'irritability',\n",
              " 'daily',\n",
              " 'personality',\n",
              " 'intolerance',\n",
              " 'agony',\n",
              " 'lowering',\n",
              " 'interest',\n",
              " 'drink',\n",
              " 'steatosis',\n",
              " 'aspirin',\n",
              " 'headed',\n",
              " 'done',\n",
              " 'myself',\n",
              " 'yellow',\n",
              " 'clumsiness',\n",
              " 'thoracic',\n",
              " 'came',\n",
              " 'infections',\n",
              " 'total',\n",
              " 'choking',\n",
              " 'b',\n",
              " 'causing',\n",
              " '%',\n",
              " 'remember',\n",
              " '50',\n",
              " 'muscels',\n",
              " 'related',\n",
              " 'constantly',\n",
              " 'transient',\n",
              " 'unhappy',\n",
              " 'limp',\n",
              " 'rashes',\n",
              " 'serious',\n",
              " 'way',\n",
              " 'mobic',\n",
              " 'control',\n",
              " 'sure',\n",
              " 'muscel',\n",
              " 'tingly',\n",
              " 'tried',\n",
              " 'words',\n",
              " 'fear',\n",
              " 'recently',\n",
              " 'disorientated',\n",
              " 'moodiness',\n",
              " 'potassium',\n",
              " 'wrists',\n",
              " 'decrease',\n",
              " 'chills',\n",
              " 'we',\n",
              " 'dizzyness',\n",
              " 'recommend',\n",
              " 'desire',\n",
              " 'lexapro',\n",
              " 'need',\n",
              " 'fatty',\n",
              " 'doing',\n",
              " 'dropped',\n",
              " 'eructation',\n",
              " 'sleeplessness',\n",
              " 'read',\n",
              " 'neoplastic',\n",
              " 'hours',\n",
              " 'slow',\n",
              " 'alpha',\n",
              " 'she',\n",
              " 'haematochezia',\n",
              " 'medicine',\n",
              " 'haemorrhage',\n",
              " 'changed',\n",
              " 'works',\n",
              " 'hdl',\n",
              " 'below',\n",
              " 'far',\n",
              " 'hepatic',\n",
              " 'achy',\n",
              " 'beat',\n",
              " 'tremors',\n",
              " 'ani',\n",
              " 'forgetfulness',\n",
              " 'count',\n",
              " 'next',\n",
              " 'sensitivity',\n",
              " 'sit',\n",
              " '--',\n",
              " 'relief',\n",
              " 'wanted',\n",
              " 'debilitating',\n",
              " 'tenalgia',\n",
              " 'rhinitis',\n",
              " 'instead',\n",
              " 'tocopherol',\n",
              " 'tenderness',\n",
              " 'website',\n",
              " 'condition',\n",
              " 'results',\n",
              " 'contusion',\n",
              " 'exhausted',\n",
              " 'buzzing',\n",
              " 'thinning',\n",
              " 'minutes',\n",
              " 'touch',\n",
              " 'digestive',\n",
              " 'worth',\n",
              " 'irritation',\n",
              " 'her',\n",
              " 'migranes',\n",
              " 'water',\n",
              " 'rib',\n",
              " 'altered',\n",
              " 'creatine',\n",
              " 'tore',\n",
              " 'difficulties',\n",
              " 'lose',\n",
              " 'vague',\n",
              " 'later',\n",
              " 'dementia',\n",
              " 'limitation',\n",
              " 'persistent',\n",
              " 'anyone',\n",
              " 'neoplasm',\n",
              " 'white',\n",
              " 'forearms',\n",
              " 'pancreatitis',\n",
              " 'moderate',\n",
              " 'although',\n",
              " 'glucosamine',\n",
              " 'significant',\n",
              " 'gastritis',\n",
              " 'headedness',\n",
              " 'central',\n",
              " 'breasts',\n",
              " 'e',\n",
              " 'unsteady',\n",
              " 'alopecia',\n",
              " '7',\n",
              " 'throbbing',\n",
              " 'seems',\n",
              " 'hoarse',\n",
              " 'cell',\n",
              " 'none',\n",
              " 'motor',\n",
              " 'dosage',\n",
              " 'extremities',\n",
              " 'experience',\n",
              " 'entire',\n",
              " 'him',\n",
              " 'cataflam',\n",
              " 'top',\n",
              " 'moving',\n",
              " 'wasting',\n",
              " 'falls',\n",
              " 'above',\n",
              " 'non',\n",
              " 'dysphonia',\n",
              " 'doc',\n",
              " 'hyperactive',\n",
              " 'vit',\n",
              " 'cognition',\n",
              " 'sleepy',\n",
              " 'mass',\n",
              " 'pravastatin',\n",
              " 'waist',\n",
              " 'shaking',\n",
              " 'movements',\n",
              " 'bizarre',\n",
              " 'meds',\n",
              " 'burn',\n",
              " 'its',\n",
              " 'vagina',\n",
              " 'initial',\n",
              " 'blisters',\n",
              " 'inflammed',\n",
              " 'magnesium',\n",
              " 'lumbar',\n",
              " 'improvement',\n",
              " 'urinate',\n",
              " 'nothing',\n",
              " 'charlie',\n",
              " 'cognitive',\n",
              " 'say',\n",
              " 'concentrating',\n",
              " '75',\n",
              " 'new',\n",
              " 'spells',\n",
              " 'losing',\n",
              " 'constipated',\n",
              " 'throughout',\n",
              " 'whole',\n",
              " 'come',\n",
              " 'meniscus',\n",
              " 'hypertonia',\n",
              " 'trying',\n",
              " 'blades',\n",
              " 'tumour',\n",
              " 'neurological',\n",
              " 'aggression',\n",
              " 'keep',\n",
              " 'toothache',\n",
              " 'believe',\n",
              " 'each',\n",
              " 'finally',\n",
              " '200',\n",
              " 'unexplained',\n",
              " ...]"
            ]
          },
          "metadata": {
            "tags": []
          },
          "execution_count": 18
        }
      ]
    },
    {
      "cell_type": "code",
      "metadata": {
        "id": "yPWr03mls3VT",
        "outputId": "e576dcd2-92da-4867-a9c1-16ed3ed71112",
        "colab": {
          "base_uri": "https://localhost:8080/",
          "height": 17
        }
      },
      "source": [
        "model_path = path/'models'\n",
        "model_path.mkdir(exist_ok=True)\n",
        "url = 'http://files.fast.ai/models/wt103_v1/'\n",
        "download_url(f'{url}lstm_wt103.pth', model_path/'lstm_wt103.pth')\n",
        "download_url(f'{url}itos_wt103.pkl', model_path/'itos_wt103.pkl')"
      ],
      "execution_count": 19,
      "outputs": [
        {
          "output_type": "display_data",
          "data": {
            "text/html": [
              ""
            ],
            "text/plain": [
              "<IPython.core.display.HTML object>"
            ]
          },
          "metadata": {
            "tags": []
          }
        },
        {
          "output_type": "display_data",
          "data": {
            "text/html": [
              ""
            ],
            "text/plain": [
              "<IPython.core.display.HTML object>"
            ]
          },
          "metadata": {
            "tags": []
          }
        }
      ]
    },
    {
      "cell_type": "code",
      "metadata": {
        "id": "JRzvWg8RtGGr",
        "outputId": "38512389-3294-430b-a084-52d364920144",
        "colab": {
          "base_uri": "https://localhost:8080/",
          "height": 34
        }
      },
      "source": [
        "learn = language_model_learner(data_lm, AWD_LSTM, drop_mult=0.5)"
      ],
      "execution_count": 20,
      "outputs": [
        {
          "output_type": "stream",
          "text": [
            "Downloading https://s3.amazonaws.com/fast-ai-modelzoo/wt103-fwd.tgz\n"
          ],
          "name": "stdout"
        },
        {
          "output_type": "display_data",
          "data": {
            "text/html": [
              ""
            ],
            "text/plain": [
              "<IPython.core.display.HTML object>"
            ]
          },
          "metadata": {
            "tags": []
          }
        }
      ]
    },
    {
      "cell_type": "code",
      "metadata": {
        "id": "xKK7GeBev7Xn",
        "outputId": "e773e23d-4721-4577-fbdb-a7ef8e0c9ed8",
        "colab": {
          "base_uri": "https://localhost:8080/",
          "height": 80
        }
      },
      "source": [
        "learn.fit_one_cycle(1, 1e-2)"
      ],
      "execution_count": 21,
      "outputs": [
        {
          "output_type": "display_data",
          "data": {
            "text/html": [
              "<table border=\"1\" class=\"dataframe\">\n",
              "  <thead>\n",
              "    <tr style=\"text-align: left;\">\n",
              "      <th>epoch</th>\n",
              "      <th>train_loss</th>\n",
              "      <th>valid_loss</th>\n",
              "      <th>accuracy</th>\n",
              "      <th>time</th>\n",
              "    </tr>\n",
              "  </thead>\n",
              "  <tbody>\n",
              "    <tr>\n",
              "      <td>0</td>\n",
              "      <td>3.198954</td>\n",
              "      <td>2.706269</td>\n",
              "      <td>0.542438</td>\n",
              "      <td>17:19</td>\n",
              "    </tr>\n",
              "  </tbody>\n",
              "</table>"
            ],
            "text/plain": [
              "<IPython.core.display.HTML object>"
            ]
          },
          "metadata": {
            "tags": []
          }
        }
      ]
    },
    {
      "cell_type": "code",
      "metadata": {
        "id": "iB7rHGQCwd12"
      },
      "source": [
        "# learn.fit_one_cycle(1, 1e-2)"
      ],
      "execution_count": 22,
      "outputs": []
    },
    {
      "cell_type": "code",
      "metadata": {
        "id": "_BnSuAeCwkBe"
      },
      "source": [
        "# learn.fit_one_cycle(1, 1e-3)"
      ],
      "execution_count": 23,
      "outputs": []
    },
    {
      "cell_type": "code",
      "metadata": {
        "id": "MuTm-RFjwrEX",
        "outputId": "11900ac0-1e8f-4b58-bb34-b24f50e2be4e",
        "colab": {
          "base_uri": "https://localhost:8080/",
          "height": 80
        }
      },
      "source": [
        "learn.fit_one_cycle(1, 1e-3)"
      ],
      "execution_count": 24,
      "outputs": [
        {
          "output_type": "display_data",
          "data": {
            "text/html": [
              "<table border=\"1\" class=\"dataframe\">\n",
              "  <thead>\n",
              "    <tr style=\"text-align: left;\">\n",
              "      <th>epoch</th>\n",
              "      <th>train_loss</th>\n",
              "      <th>valid_loss</th>\n",
              "      <th>accuracy</th>\n",
              "      <th>time</th>\n",
              "    </tr>\n",
              "  </thead>\n",
              "  <tbody>\n",
              "    <tr>\n",
              "      <td>0</td>\n",
              "      <td>2.784176</td>\n",
              "      <td>2.663509</td>\n",
              "      <td>0.546746</td>\n",
              "      <td>17:15</td>\n",
              "    </tr>\n",
              "  </tbody>\n",
              "</table>"
            ],
            "text/plain": [
              "<IPython.core.display.HTML object>"
            ]
          },
          "metadata": {
            "tags": []
          }
        }
      ]
    },
    {
      "cell_type": "code",
      "metadata": {
        "id": "1Er2ExO8wr7Y"
      },
      "source": [
        "learn.save_encoder('cadec_ask_fold1_first')"
      ],
      "execution_count": 25,
      "outputs": []
    },
    {
      "cell_type": "code",
      "metadata": {
        "id": "z52cZs2qwvad",
        "outputId": "9bde499d-6354-48ab-f411-2b61ede4c38e",
        "colab": {
          "base_uri": "https://localhost:8080/",
          "height": 80
        }
      },
      "source": [
        "learn = text_classifier_learner(data_clas,AWD_LSTM, drop_mult=0.5)\n",
        "learn.load_encoder('cadec_ask_fold1_first')\n",
        "learn.fit_one_cycle(1, 1e-2)"
      ],
      "execution_count": 26,
      "outputs": [
        {
          "output_type": "display_data",
          "data": {
            "text/html": [
              "<table border=\"1\" class=\"dataframe\">\n",
              "  <thead>\n",
              "    <tr style=\"text-align: left;\">\n",
              "      <th>epoch</th>\n",
              "      <th>train_loss</th>\n",
              "      <th>valid_loss</th>\n",
              "      <th>accuracy</th>\n",
              "      <th>time</th>\n",
              "    </tr>\n",
              "  </thead>\n",
              "  <tbody>\n",
              "    <tr>\n",
              "      <td>0</td>\n",
              "      <td>3.922760</td>\n",
              "      <td>3.857772</td>\n",
              "      <td>0.317191</td>\n",
              "      <td>01:07</td>\n",
              "    </tr>\n",
              "  </tbody>\n",
              "</table>"
            ],
            "text/plain": [
              "<IPython.core.display.HTML object>"
            ]
          },
          "metadata": {
            "tags": []
          }
        }
      ]
    },
    {
      "cell_type": "code",
      "metadata": {
        "id": "ImwQP1PJwzxd",
        "outputId": "c0f1f57a-9a74-4e17-8d52-91d38f182ffa",
        "colab": {
          "base_uri": "https://localhost:8080/",
          "height": 80
        }
      },
      "source": [
        "learn.freeze_to(-2)\n",
        "learn.fit_one_cycle(1, slice(5e-3/2., 5e-3))"
      ],
      "execution_count": 27,
      "outputs": [
        {
          "output_type": "display_data",
          "data": {
            "text/html": [
              "<table border=\"1\" class=\"dataframe\">\n",
              "  <thead>\n",
              "    <tr style=\"text-align: left;\">\n",
              "      <th>epoch</th>\n",
              "      <th>train_loss</th>\n",
              "      <th>valid_loss</th>\n",
              "      <th>accuracy</th>\n",
              "      <th>time</th>\n",
              "    </tr>\n",
              "  </thead>\n",
              "  <tbody>\n",
              "    <tr>\n",
              "      <td>0</td>\n",
              "      <td>2.901902</td>\n",
              "      <td>3.305874</td>\n",
              "      <td>0.427361</td>\n",
              "      <td>01:17</td>\n",
              "    </tr>\n",
              "  </tbody>\n",
              "</table>"
            ],
            "text/plain": [
              "<IPython.core.display.HTML object>"
            ]
          },
          "metadata": {
            "tags": []
          }
        }
      ]
    },
    {
      "cell_type": "code",
      "metadata": {
        "id": "Owff_BJXw53u",
        "outputId": "2e7b318a-7f4c-4078-bdee-11088ccda3c2",
        "colab": {
          "base_uri": "https://localhost:8080/",
          "height": 80
        }
      },
      "source": [
        "learn.unfreeze()\n",
        "learn.fit_one_cycle(1, slice(2e-3/100, 2e-3))"
      ],
      "execution_count": 28,
      "outputs": [
        {
          "output_type": "display_data",
          "data": {
            "text/html": [
              "<table border=\"1\" class=\"dataframe\">\n",
              "  <thead>\n",
              "    <tr style=\"text-align: left;\">\n",
              "      <th>epoch</th>\n",
              "      <th>train_loss</th>\n",
              "      <th>valid_loss</th>\n",
              "      <th>accuracy</th>\n",
              "      <th>time</th>\n",
              "    </tr>\n",
              "  </thead>\n",
              "  <tbody>\n",
              "    <tr>\n",
              "      <td>0</td>\n",
              "      <td>2.357673</td>\n",
              "      <td>2.886989</td>\n",
              "      <td>0.490315</td>\n",
              "      <td>02:48</td>\n",
              "    </tr>\n",
              "  </tbody>\n",
              "</table>"
            ],
            "text/plain": [
              "<IPython.core.display.HTML object>"
            ]
          },
          "metadata": {
            "tags": []
          }
        }
      ]
    },
    {
      "cell_type": "code",
      "metadata": {
        "id": "lqAyu56V8Waq",
        "outputId": "19552571-7dc5-4a08-fd61-887eabaa1b85",
        "colab": {
          "base_uri": "https://localhost:8080/",
          "height": 111
        }
      },
      "source": [
        "learn.fit_one_cycle(2, slice(2e-3/100, 2e-3))"
      ],
      "execution_count": 29,
      "outputs": [
        {
          "output_type": "display_data",
          "data": {
            "text/html": [
              "<table border=\"1\" class=\"dataframe\">\n",
              "  <thead>\n",
              "    <tr style=\"text-align: left;\">\n",
              "      <th>epoch</th>\n",
              "      <th>train_loss</th>\n",
              "      <th>valid_loss</th>\n",
              "      <th>accuracy</th>\n",
              "      <th>time</th>\n",
              "    </tr>\n",
              "  </thead>\n",
              "  <tbody>\n",
              "    <tr>\n",
              "      <td>0</td>\n",
              "      <td>1.952073</td>\n",
              "      <td>2.546817</td>\n",
              "      <td>0.555690</td>\n",
              "      <td>02:51</td>\n",
              "    </tr>\n",
              "    <tr>\n",
              "      <td>1</td>\n",
              "      <td>1.718022</td>\n",
              "      <td>2.390844</td>\n",
              "      <td>0.576271</td>\n",
              "      <td>03:03</td>\n",
              "    </tr>\n",
              "  </tbody>\n",
              "</table>"
            ],
            "text/plain": [
              "<IPython.core.display.HTML object>"
            ]
          },
          "metadata": {
            "tags": []
          }
        }
      ]
    },
    {
      "cell_type": "code",
      "metadata": {
        "id": "a7I1xMRp8bUd",
        "outputId": "c89c7f01-8b4c-4a76-9163-460177049a9a",
        "colab": {
          "base_uri": "https://localhost:8080/",
          "height": 111
        }
      },
      "source": [
        "learn.fit_one_cycle(2, slice(2e-3/100, 2e-3))"
      ],
      "execution_count": 30,
      "outputs": [
        {
          "output_type": "display_data",
          "data": {
            "text/html": [
              "<table border=\"1\" class=\"dataframe\">\n",
              "  <thead>\n",
              "    <tr style=\"text-align: left;\">\n",
              "      <th>epoch</th>\n",
              "      <th>train_loss</th>\n",
              "      <th>valid_loss</th>\n",
              "      <th>accuracy</th>\n",
              "      <th>time</th>\n",
              "    </tr>\n",
              "  </thead>\n",
              "  <tbody>\n",
              "    <tr>\n",
              "      <td>0</td>\n",
              "      <td>1.541302</td>\n",
              "      <td>2.194413</td>\n",
              "      <td>0.605327</td>\n",
              "      <td>03:04</td>\n",
              "    </tr>\n",
              "    <tr>\n",
              "      <td>1</td>\n",
              "      <td>1.319754</td>\n",
              "      <td>2.071553</td>\n",
              "      <td>0.625908</td>\n",
              "      <td>02:59</td>\n",
              "    </tr>\n",
              "  </tbody>\n",
              "</table>"
            ],
            "text/plain": [
              "<IPython.core.display.HTML object>"
            ]
          },
          "metadata": {
            "tags": []
          }
        }
      ]
    },
    {
      "cell_type": "code",
      "metadata": {
        "id": "UAnti-XmGVfO",
        "outputId": "b2d36109-2426-4cb0-d244-1a3f6bba3bd4",
        "colab": {
          "base_uri": "https://localhost:8080/",
          "height": 111
        }
      },
      "source": [
        "learn.fit_one_cycle(2, slice(2e-3/100, 2e-3))"
      ],
      "execution_count": 31,
      "outputs": [
        {
          "output_type": "display_data",
          "data": {
            "text/html": [
              "<table border=\"1\" class=\"dataframe\">\n",
              "  <thead>\n",
              "    <tr style=\"text-align: left;\">\n",
              "      <th>epoch</th>\n",
              "      <th>train_loss</th>\n",
              "      <th>valid_loss</th>\n",
              "      <th>accuracy</th>\n",
              "      <th>time</th>\n",
              "    </tr>\n",
              "  </thead>\n",
              "  <tbody>\n",
              "    <tr>\n",
              "      <td>0</td>\n",
              "      <td>1.267479</td>\n",
              "      <td>1.891200</td>\n",
              "      <td>0.645278</td>\n",
              "      <td>03:10</td>\n",
              "    </tr>\n",
              "    <tr>\n",
              "      <td>1</td>\n",
              "      <td>1.095509</td>\n",
              "      <td>1.828970</td>\n",
              "      <td>0.663438</td>\n",
              "      <td>03:04</td>\n",
              "    </tr>\n",
              "  </tbody>\n",
              "</table>"
            ],
            "text/plain": [
              "<IPython.core.display.HTML object>"
            ]
          },
          "metadata": {
            "tags": []
          }
        }
      ]
    },
    {
      "cell_type": "code",
      "metadata": {
        "id": "bIft7W25GwSu",
        "outputId": "eeb095bc-74d2-4438-d5b2-dd06633d725e",
        "colab": {
          "base_uri": "https://localhost:8080/",
          "height": 111
        }
      },
      "source": [
        "learn.fit_one_cycle(2, slice(2e-3/100, 2e-3))"
      ],
      "execution_count": 32,
      "outputs": [
        {
          "output_type": "display_data",
          "data": {
            "text/html": [
              "<table border=\"1\" class=\"dataframe\">\n",
              "  <thead>\n",
              "    <tr style=\"text-align: left;\">\n",
              "      <th>epoch</th>\n",
              "      <th>train_loss</th>\n",
              "      <th>valid_loss</th>\n",
              "      <th>accuracy</th>\n",
              "      <th>time</th>\n",
              "    </tr>\n",
              "  </thead>\n",
              "  <tbody>\n",
              "    <tr>\n",
              "      <td>0</td>\n",
              "      <td>1.033222</td>\n",
              "      <td>1.758705</td>\n",
              "      <td>0.675545</td>\n",
              "      <td>03:08</td>\n",
              "    </tr>\n",
              "    <tr>\n",
              "      <td>1</td>\n",
              "      <td>0.893672</td>\n",
              "      <td>1.675398</td>\n",
              "      <td>0.680387</td>\n",
              "      <td>02:54</td>\n",
              "    </tr>\n",
              "  </tbody>\n",
              "</table>"
            ],
            "text/plain": [
              "<IPython.core.display.HTML object>"
            ]
          },
          "metadata": {
            "tags": []
          }
        }
      ]
    },
    {
      "cell_type": "code",
      "metadata": {
        "id": "EEHszVRvGyFt",
        "outputId": "ee7470d3-8300-4a5b-c391-bdc5885b1191",
        "colab": {
          "base_uri": "https://localhost:8080/",
          "height": 111
        }
      },
      "source": [
        "learn.fit_one_cycle(2, slice(2e-3/100, 2e-3))"
      ],
      "execution_count": 33,
      "outputs": [
        {
          "output_type": "display_data",
          "data": {
            "text/html": [
              "<table border=\"1\" class=\"dataframe\">\n",
              "  <thead>\n",
              "    <tr style=\"text-align: left;\">\n",
              "      <th>epoch</th>\n",
              "      <th>train_loss</th>\n",
              "      <th>valid_loss</th>\n",
              "      <th>accuracy</th>\n",
              "      <th>time</th>\n",
              "    </tr>\n",
              "  </thead>\n",
              "  <tbody>\n",
              "    <tr>\n",
              "      <td>0</td>\n",
              "      <td>0.842184</td>\n",
              "      <td>1.647524</td>\n",
              "      <td>0.700969</td>\n",
              "      <td>02:52</td>\n",
              "    </tr>\n",
              "    <tr>\n",
              "      <td>1</td>\n",
              "      <td>0.740887</td>\n",
              "      <td>1.610365</td>\n",
              "      <td>0.707022</td>\n",
              "      <td>02:52</td>\n",
              "    </tr>\n",
              "  </tbody>\n",
              "</table>"
            ],
            "text/plain": [
              "<IPython.core.display.HTML object>"
            ]
          },
          "metadata": {
            "tags": []
          }
        }
      ]
    },
    {
      "cell_type": "code",
      "metadata": {
        "id": "XsHfrhCHG3dN",
        "outputId": "705fb2cf-faab-4700-a04c-1643148e1a8c",
        "colab": {
          "base_uri": "https://localhost:8080/",
          "height": 173
        }
      },
      "source": [
        "learn.fit_one_cycle(4, slice(2e-3/100, 2e-3))"
      ],
      "execution_count": 34,
      "outputs": [
        {
          "output_type": "display_data",
          "data": {
            "text/html": [
              "<table border=\"1\" class=\"dataframe\">\n",
              "  <thead>\n",
              "    <tr style=\"text-align: left;\">\n",
              "      <th>epoch</th>\n",
              "      <th>train_loss</th>\n",
              "      <th>valid_loss</th>\n",
              "      <th>accuracy</th>\n",
              "      <th>time</th>\n",
              "    </tr>\n",
              "  </thead>\n",
              "  <tbody>\n",
              "    <tr>\n",
              "      <td>0</td>\n",
              "      <td>0.722731</td>\n",
              "      <td>1.615343</td>\n",
              "      <td>0.713075</td>\n",
              "      <td>03:05</td>\n",
              "    </tr>\n",
              "    <tr>\n",
              "      <td>1</td>\n",
              "      <td>0.702222</td>\n",
              "      <td>1.541169</td>\n",
              "      <td>0.728814</td>\n",
              "      <td>02:58</td>\n",
              "    </tr>\n",
              "    <tr>\n",
              "      <td>2</td>\n",
              "      <td>0.598792</td>\n",
              "      <td>1.426657</td>\n",
              "      <td>0.742131</td>\n",
              "      <td>03:04</td>\n",
              "    </tr>\n",
              "    <tr>\n",
              "      <td>3</td>\n",
              "      <td>0.475397</td>\n",
              "      <td>1.411696</td>\n",
              "      <td>0.742131</td>\n",
              "      <td>02:59</td>\n",
              "    </tr>\n",
              "  </tbody>\n",
              "</table>"
            ],
            "text/plain": [
              "<IPython.core.display.HTML object>"
            ]
          },
          "metadata": {
            "tags": []
          }
        }
      ]
    },
    {
      "cell_type": "code",
      "metadata": {
        "id": "0Zsd99isb9EQ",
        "outputId": "54e0fc51-1ff9-446b-ab44-d991567dc9d7",
        "colab": {
          "base_uri": "https://localhost:8080/",
          "height": 173
        }
      },
      "source": [
        "learn.fit_one_cycle(4, slice(2e-3/100, 2e-3))"
      ],
      "execution_count": 35,
      "outputs": [
        {
          "output_type": "display_data",
          "data": {
            "text/html": [
              "<table border=\"1\" class=\"dataframe\">\n",
              "  <thead>\n",
              "    <tr style=\"text-align: left;\">\n",
              "      <th>epoch</th>\n",
              "      <th>train_loss</th>\n",
              "      <th>valid_loss</th>\n",
              "      <th>accuracy</th>\n",
              "      <th>time</th>\n",
              "    </tr>\n",
              "  </thead>\n",
              "  <tbody>\n",
              "    <tr>\n",
              "      <td>0</td>\n",
              "      <td>0.487308</td>\n",
              "      <td>1.535368</td>\n",
              "      <td>0.733656</td>\n",
              "      <td>02:55</td>\n",
              "    </tr>\n",
              "    <tr>\n",
              "      <td>1</td>\n",
              "      <td>0.523219</td>\n",
              "      <td>1.468902</td>\n",
              "      <td>0.750605</td>\n",
              "      <td>02:56</td>\n",
              "    </tr>\n",
              "    <tr>\n",
              "      <td>2</td>\n",
              "      <td>0.458098</td>\n",
              "      <td>1.404382</td>\n",
              "      <td>0.749395</td>\n",
              "      <td>03:00</td>\n",
              "    </tr>\n",
              "    <tr>\n",
              "      <td>3</td>\n",
              "      <td>0.385330</td>\n",
              "      <td>1.416485</td>\n",
              "      <td>0.750605</td>\n",
              "      <td>03:05</td>\n",
              "    </tr>\n",
              "  </tbody>\n",
              "</table>"
            ],
            "text/plain": [
              "<IPython.core.display.HTML object>"
            ]
          },
          "metadata": {
            "tags": []
          }
        }
      ]
    },
    {
      "cell_type": "code",
      "metadata": {
        "id": "atNWNKDFPbuI",
        "outputId": "ef5c80d6-e433-4237-8b7b-5a5d857dfc96",
        "colab": {
          "base_uri": "https://localhost:8080/",
          "height": 173
        }
      },
      "source": [
        "learn.fit_one_cycle(4, slice(2e-3/100, 2e-3))"
      ],
      "execution_count": 36,
      "outputs": [
        {
          "output_type": "display_data",
          "data": {
            "text/html": [
              "<table border=\"1\" class=\"dataframe\">\n",
              "  <thead>\n",
              "    <tr style=\"text-align: left;\">\n",
              "      <th>epoch</th>\n",
              "      <th>train_loss</th>\n",
              "      <th>valid_loss</th>\n",
              "      <th>accuracy</th>\n",
              "      <th>time</th>\n",
              "    </tr>\n",
              "  </thead>\n",
              "  <tbody>\n",
              "    <tr>\n",
              "      <td>0</td>\n",
              "      <td>0.388556</td>\n",
              "      <td>1.424601</td>\n",
              "      <td>0.761501</td>\n",
              "      <td>03:02</td>\n",
              "    </tr>\n",
              "    <tr>\n",
              "      <td>1</td>\n",
              "      <td>0.404203</td>\n",
              "      <td>1.454774</td>\n",
              "      <td>0.762712</td>\n",
              "      <td>03:00</td>\n",
              "    </tr>\n",
              "    <tr>\n",
              "      <td>2</td>\n",
              "      <td>0.382831</td>\n",
              "      <td>1.384104</td>\n",
              "      <td>0.766344</td>\n",
              "      <td>02:57</td>\n",
              "    </tr>\n",
              "    <tr>\n",
              "      <td>3</td>\n",
              "      <td>0.302414</td>\n",
              "      <td>1.382846</td>\n",
              "      <td>0.760291</td>\n",
              "      <td>02:59</td>\n",
              "    </tr>\n",
              "  </tbody>\n",
              "</table>"
            ],
            "text/plain": [
              "<IPython.core.display.HTML object>"
            ]
          },
          "metadata": {
            "tags": []
          }
        }
      ]
    },
    {
      "cell_type": "code",
      "metadata": {
        "id": "rKrBTZ0T1uVA",
        "outputId": "b1d6942c-4836-444f-f2af-01b1a2838ac8",
        "colab": {
          "base_uri": "https://localhost:8080/",
          "height": 173
        }
      },
      "source": [
        "learn.fit_one_cycle(4, slice(2e-3/100, 2e-3))"
      ],
      "execution_count": 37,
      "outputs": [
        {
          "output_type": "display_data",
          "data": {
            "text/html": [
              "<table border=\"1\" class=\"dataframe\">\n",
              "  <thead>\n",
              "    <tr style=\"text-align: left;\">\n",
              "      <th>epoch</th>\n",
              "      <th>train_loss</th>\n",
              "      <th>valid_loss</th>\n",
              "      <th>accuracy</th>\n",
              "      <th>time</th>\n",
              "    </tr>\n",
              "  </thead>\n",
              "  <tbody>\n",
              "    <tr>\n",
              "      <td>0</td>\n",
              "      <td>0.303685</td>\n",
              "      <td>1.434790</td>\n",
              "      <td>0.767554</td>\n",
              "      <td>03:06</td>\n",
              "    </tr>\n",
              "    <tr>\n",
              "      <td>1</td>\n",
              "      <td>0.355793</td>\n",
              "      <td>1.519661</td>\n",
              "      <td>0.766344</td>\n",
              "      <td>03:08</td>\n",
              "    </tr>\n",
              "    <tr>\n",
              "      <td>2</td>\n",
              "      <td>0.314995</td>\n",
              "      <td>1.437447</td>\n",
              "      <td>0.773608</td>\n",
              "      <td>03:04</td>\n",
              "    </tr>\n",
              "    <tr>\n",
              "      <td>3</td>\n",
              "      <td>0.263104</td>\n",
              "      <td>1.387338</td>\n",
              "      <td>0.772397</td>\n",
              "      <td>03:02</td>\n",
              "    </tr>\n",
              "  </tbody>\n",
              "</table>"
            ],
            "text/plain": [
              "<IPython.core.display.HTML object>"
            ]
          },
          "metadata": {
            "tags": []
          }
        }
      ]
    },
    {
      "cell_type": "code",
      "metadata": {
        "id": "ajQC6WDg1yA9",
        "outputId": "96302b43-2ac4-4557-8d99-1bee93734bd5",
        "colab": {
          "base_uri": "https://localhost:8080/",
          "height": 173
        }
      },
      "source": [
        "learn.fit_one_cycle(4, slice(2e-3/100, 2e-3))"
      ],
      "execution_count": 38,
      "outputs": [
        {
          "output_type": "display_data",
          "data": {
            "text/html": [
              "<table border=\"1\" class=\"dataframe\">\n",
              "  <thead>\n",
              "    <tr style=\"text-align: left;\">\n",
              "      <th>epoch</th>\n",
              "      <th>train_loss</th>\n",
              "      <th>valid_loss</th>\n",
              "      <th>accuracy</th>\n",
              "      <th>time</th>\n",
              "    </tr>\n",
              "  </thead>\n",
              "  <tbody>\n",
              "    <tr>\n",
              "      <td>0</td>\n",
              "      <td>0.253645</td>\n",
              "      <td>1.517709</td>\n",
              "      <td>0.771186</td>\n",
              "      <td>03:10</td>\n",
              "    </tr>\n",
              "    <tr>\n",
              "      <td>1</td>\n",
              "      <td>0.331256</td>\n",
              "      <td>1.478594</td>\n",
              "      <td>0.778450</td>\n",
              "      <td>02:53</td>\n",
              "    </tr>\n",
              "    <tr>\n",
              "      <td>2</td>\n",
              "      <td>0.280345</td>\n",
              "      <td>1.466323</td>\n",
              "      <td>0.776029</td>\n",
              "      <td>02:58</td>\n",
              "    </tr>\n",
              "    <tr>\n",
              "      <td>3</td>\n",
              "      <td>0.241957</td>\n",
              "      <td>1.402419</td>\n",
              "      <td>0.778450</td>\n",
              "      <td>02:53</td>\n",
              "    </tr>\n",
              "  </tbody>\n",
              "</table>"
            ],
            "text/plain": [
              "<IPython.core.display.HTML object>"
            ]
          },
          "metadata": {
            "tags": []
          }
        }
      ]
    },
    {
      "cell_type": "code",
      "metadata": {
        "id": "KKydb0B4BKGk",
        "outputId": "1294d28a-5d3e-49f3-c159-d47515037cc5",
        "colab": {
          "base_uri": "https://localhost:8080/",
          "height": 173
        }
      },
      "source": [
        "learn.fit_one_cycle(4, slice(2e-3/100, 2e-3))"
      ],
      "execution_count": 39,
      "outputs": [
        {
          "output_type": "display_data",
          "data": {
            "text/html": [
              "<table border=\"1\" class=\"dataframe\">\n",
              "  <thead>\n",
              "    <tr style=\"text-align: left;\">\n",
              "      <th>epoch</th>\n",
              "      <th>train_loss</th>\n",
              "      <th>valid_loss</th>\n",
              "      <th>accuracy</th>\n",
              "      <th>time</th>\n",
              "    </tr>\n",
              "  </thead>\n",
              "  <tbody>\n",
              "    <tr>\n",
              "      <td>0</td>\n",
              "      <td>0.231485</td>\n",
              "      <td>1.402295</td>\n",
              "      <td>0.776029</td>\n",
              "      <td>03:00</td>\n",
              "    </tr>\n",
              "    <tr>\n",
              "      <td>1</td>\n",
              "      <td>0.256062</td>\n",
              "      <td>1.401371</td>\n",
              "      <td>0.778450</td>\n",
              "      <td>03:03</td>\n",
              "    </tr>\n",
              "    <tr>\n",
              "      <td>2</td>\n",
              "      <td>0.245767</td>\n",
              "      <td>1.418444</td>\n",
              "      <td>0.782082</td>\n",
              "      <td>02:52</td>\n",
              "    </tr>\n",
              "    <tr>\n",
              "      <td>3</td>\n",
              "      <td>0.196336</td>\n",
              "      <td>1.458507</td>\n",
              "      <td>0.784504</td>\n",
              "      <td>02:54</td>\n",
              "    </tr>\n",
              "  </tbody>\n",
              "</table>"
            ],
            "text/plain": [
              "<IPython.core.display.HTML object>"
            ]
          },
          "metadata": {
            "tags": []
          }
        }
      ]
    },
    {
      "cell_type": "code",
      "metadata": {
        "id": "T2APKtFKBpGY",
        "outputId": "8802230a-8321-4ebe-a597-506ee62292b9",
        "colab": {
          "base_uri": "https://localhost:8080/",
          "height": 173
        }
      },
      "source": [
        "learn.fit_one_cycle(4, slice(2e-3/100, 2e-3))"
      ],
      "execution_count": 40,
      "outputs": [
        {
          "output_type": "display_data",
          "data": {
            "text/html": [
              "<table border=\"1\" class=\"dataframe\">\n",
              "  <thead>\n",
              "    <tr style=\"text-align: left;\">\n",
              "      <th>epoch</th>\n",
              "      <th>train_loss</th>\n",
              "      <th>valid_loss</th>\n",
              "      <th>accuracy</th>\n",
              "      <th>time</th>\n",
              "    </tr>\n",
              "  </thead>\n",
              "  <tbody>\n",
              "    <tr>\n",
              "      <td>0</td>\n",
              "      <td>0.188218</td>\n",
              "      <td>1.459068</td>\n",
              "      <td>0.789346</td>\n",
              "      <td>02:56</td>\n",
              "    </tr>\n",
              "    <tr>\n",
              "      <td>1</td>\n",
              "      <td>0.255857</td>\n",
              "      <td>1.514362</td>\n",
              "      <td>0.790557</td>\n",
              "      <td>02:54</td>\n",
              "    </tr>\n",
              "    <tr>\n",
              "      <td>2</td>\n",
              "      <td>0.225640</td>\n",
              "      <td>1.406164</td>\n",
              "      <td>0.795399</td>\n",
              "      <td>02:56</td>\n",
              "    </tr>\n",
              "    <tr>\n",
              "      <td>3</td>\n",
              "      <td>0.180258</td>\n",
              "      <td>1.464622</td>\n",
              "      <td>0.800242</td>\n",
              "      <td>02:58</td>\n",
              "    </tr>\n",
              "  </tbody>\n",
              "</table>"
            ],
            "text/plain": [
              "<IPython.core.display.HTML object>"
            ]
          },
          "metadata": {
            "tags": []
          }
        }
      ]
    },
    {
      "cell_type": "code",
      "metadata": {
        "id": "qtTypA1sPgLU",
        "outputId": "c51f26ef-d263-4be7-a508-d943e8389ecb",
        "colab": {
          "base_uri": "https://localhost:8080/",
          "height": 111
        }
      },
      "source": [
        "learn.fit_one_cycle(2, slice(2e-3/100, 2e-3))"
      ],
      "execution_count": 41,
      "outputs": [
        {
          "output_type": "display_data",
          "data": {
            "text/html": [
              "<table border=\"1\" class=\"dataframe\">\n",
              "  <thead>\n",
              "    <tr style=\"text-align: left;\">\n",
              "      <th>epoch</th>\n",
              "      <th>train_loss</th>\n",
              "      <th>valid_loss</th>\n",
              "      <th>accuracy</th>\n",
              "      <th>time</th>\n",
              "    </tr>\n",
              "  </thead>\n",
              "  <tbody>\n",
              "    <tr>\n",
              "      <td>0</td>\n",
              "      <td>0.217173</td>\n",
              "      <td>1.489661</td>\n",
              "      <td>0.805085</td>\n",
              "      <td>02:47</td>\n",
              "    </tr>\n",
              "    <tr>\n",
              "      <td>1</td>\n",
              "      <td>0.196931</td>\n",
              "      <td>1.384451</td>\n",
              "      <td>0.800242</td>\n",
              "      <td>02:49</td>\n",
              "    </tr>\n",
              "  </tbody>\n",
              "</table>"
            ],
            "text/plain": [
              "<IPython.core.display.HTML object>"
            ]
          },
          "metadata": {
            "tags": []
          }
        }
      ]
    },
    {
      "cell_type": "code",
      "metadata": {
        "id": "b242kBsTUp9Y",
        "outputId": "4ef68f1f-cd5a-4df7-fe33-7c9c45dda38d",
        "colab": {
          "base_uri": "https://localhost:8080/",
          "height": 111
        }
      },
      "source": [
        "learn.fit_one_cycle(2, slice(2e-3/100, 2e-3))"
      ],
      "execution_count": 42,
      "outputs": [
        {
          "output_type": "display_data",
          "data": {
            "text/html": [
              "<table border=\"1\" class=\"dataframe\">\n",
              "  <thead>\n",
              "    <tr style=\"text-align: left;\">\n",
              "      <th>epoch</th>\n",
              "      <th>train_loss</th>\n",
              "      <th>valid_loss</th>\n",
              "      <th>accuracy</th>\n",
              "      <th>time</th>\n",
              "    </tr>\n",
              "  </thead>\n",
              "  <tbody>\n",
              "    <tr>\n",
              "      <td>0</td>\n",
              "      <td>0.190167</td>\n",
              "      <td>1.481656</td>\n",
              "      <td>0.788136</td>\n",
              "      <td>02:51</td>\n",
              "    </tr>\n",
              "    <tr>\n",
              "      <td>1</td>\n",
              "      <td>0.195743</td>\n",
              "      <td>1.411085</td>\n",
              "      <td>0.792978</td>\n",
              "      <td>03:04</td>\n",
              "    </tr>\n",
              "  </tbody>\n",
              "</table>"
            ],
            "text/plain": [
              "<IPython.core.display.HTML object>"
            ]
          },
          "metadata": {
            "tags": []
          }
        }
      ]
    },
    {
      "cell_type": "code",
      "metadata": {
        "id": "Duwf1Ih5VeDZ",
        "outputId": "5b2fa286-cf8c-4762-ec07-9406b6e2d3db",
        "colab": {
          "base_uri": "https://localhost:8080/",
          "height": 80
        }
      },
      "source": [
        "learn.fit_one_cycle(1, slice(2e-3/100, 2e-3))"
      ],
      "execution_count": 43,
      "outputs": [
        {
          "output_type": "display_data",
          "data": {
            "text/html": [
              "<table border=\"1\" class=\"dataframe\">\n",
              "  <thead>\n",
              "    <tr style=\"text-align: left;\">\n",
              "      <th>epoch</th>\n",
              "      <th>train_loss</th>\n",
              "      <th>valid_loss</th>\n",
              "      <th>accuracy</th>\n",
              "      <th>time</th>\n",
              "    </tr>\n",
              "  </thead>\n",
              "  <tbody>\n",
              "    <tr>\n",
              "      <td>0</td>\n",
              "      <td>0.207725</td>\n",
              "      <td>1.477521</td>\n",
              "      <td>0.792978</td>\n",
              "      <td>02:52</td>\n",
              "    </tr>\n",
              "  </tbody>\n",
              "</table>"
            ],
            "text/plain": [
              "<IPython.core.display.HTML object>"
            ]
          },
          "metadata": {
            "tags": []
          }
        }
      ]
    },
    {
      "cell_type": "code",
      "metadata": {
        "id": "c65d-osfDUXm"
      },
      "source": [
        "# save the best model\n",
        "\n",
        "learn.save_encoder('cadec_ask_mixed_fold1')"
      ],
      "execution_count": 44,
      "outputs": []
    },
    {
      "cell_type": "markdown",
      "metadata": {
        "id": "rCwZU0E2RgM6"
      },
      "source": [
        "# Part three: Predict on the test dataset"
      ]
    },
    {
      "cell_type": "code",
      "metadata": {
        "id": "gDm72c-dOu7d",
        "outputId": "e95f9b0b-8d18-4225-ae40-4e4d1866f104",
        "colab": {
          "base_uri": "https://localhost:8080/",
          "height": 17
        }
      },
      "source": [
        "# use the test data for prediction\n",
        "\n",
        "preds, y = learn.get_preds(DatasetType.Test)"
      ],
      "execution_count": 45,
      "outputs": [
        {
          "output_type": "display_data",
          "data": {
            "text/html": [
              ""
            ],
            "text/plain": [
              "<IPython.core.display.HTML object>"
            ]
          },
          "metadata": {
            "tags": []
          }
        }
      ]
    },
    {
      "cell_type": "code",
      "metadata": {
        "id": "6tFSQcsWPvxn",
        "outputId": "95c115d8-9c15-444b-b305-d503e42934aa",
        "colab": {
          "base_uri": "https://localhost:8080/",
          "height": 105
        }
      },
      "source": [
        "predictions, *_ = learn.get_preds(DatasetType.Test)\n",
        "labels = np.argmax(predictions, 1)\n",
        "predict_list = labels.tolist()\n",
        "standard_list = test[0].tolist()\n",
        "\n",
        "print(len(predict_list))\n",
        "print(len(standard_list))\n",
        "\n",
        "print(predict_list)\n",
        "print(standard_list)"
      ],
      "execution_count": 46,
      "outputs": [
        {
          "output_type": "display_data",
          "data": {
            "text/html": [
              ""
            ],
            "text/plain": [
              "<IPython.core.display.HTML object>"
            ]
          },
          "metadata": {
            "tags": []
          }
        },
        {
          "output_type": "stream",
          "text": [
            "867\n",
            "867\n",
            "[2, 2, 8, 179, 8, 8, 669, 16, 20, 669, 972, 246, 27, 31, 179, 37, 37, 37, 37, 37, 37, 37, 37, 37, 37, 37, 42, 42, 44, 485, 325, 49, 49, 775, 775, 775, 775, 49, 53, 53, 53, 226, 500, 327, 62, 411, 111, 776, 71, 122, 79, 79, 79, 79, 79, 79, 79, 79, 79, 79, 79, 79, 79, 79, 79, 79, 79, 79, 79, 79, 79, 79, 79, 79, 79, 79, 79, 79, 79, 79, 79, 79, 79, 79, 79, 79, 289, 80, 714, 80, 80, 80, 80, 491, 689, 88, 89, 233, 92, 92, 92, 94, 94, 94, 94, 94, 94, 94, 94, 94, 94, 96, 495, 97, 234, 100, 100, 100, 100, 766, 100, 100, 572, 301, 100, 100, 360, 103, 905, 105, 107, 107, 108, 108, 111, 524, 462, 111, 111, 111, 111, 111, 111, 111, 114, 117, 89, 125, 125, 125, 125, 125, 125, 125, 125, 125, 125, 125, 125, 125, 125, 720, 77, 624, 55, 1034, 135, 135, 946, 588, 54, 142, 334, 864, 146, 854, 166, 166, 166, 169, 171, 172, 37, 419, 172, 289, 610, 610, 610, 412, 412, 182, 772, 615, 182, 182, 182, 182, 182, 182, 182, 289, 183, 183, 183, 183, 183, 183, 183, 184, 187, 187, 187, 187, 133, 189, 190, 190, 190, 193, 193, 197, 34, 200, 202, 769, 205, 205, 30, 197, 214, 214, 214, 214, 214, 214, 214, 218, 207, 220, 223, 223, 226, 227, 228, 228, 228, 228, 654, 228, 228, 228, 228, 228, 228, 228, 228, 234, 236, 236, 239, 239, 241, 243, 243, 243, 243, 245, 770, 245, 245, 245, 246, 246, 813, 246, 862, 852, 254, 289, 262, 264, 265, 265, 313, 265, 265, 265, 265, 265, 265, 265, 265, 265, 265, 265, 265, 265, 265, 265, 265, 265, 265, 265, 137, 1009, 103, 276, 427, 277, 62, 280, 462, 281, 289, 281, 289, 289, 289, 289, 289, 289, 741, 751, 289, 289, 289, 289, 289, 289, 289, 289, 289, 289, 289, 289, 304, 293, 801, 852, 298, 589, 499, 69, 309, 309, 309, 309, 762, 49, 318, 318, 318, 5, 92, 92, 92, 92, 92, 92, 92, 92, 92, 92, 92, 92, 92, 92, 92, 95, 848, 591, 326, 328, 170, 332, 332, 332, 336, 337, 343, 343, 352, 265, 905, 814, 359, 359, 359, 839, 359, 473, 651, 363, 37, 364, 364, 364, 367, 374, 99, 851, 426, 386, 803, 391, 391, 391, 394, 396, 396, 397, 791, 402, 402, 236, 750, 406, 408, 408, 408, 408, 408, 410, 801, 415, 418, 419, 419, 419, 419, 419, 419, 852, 419, 652, 421, 424, 426, 426, 426, 427, 615, 427, 427, 427, 427, 427, 427, 318, 427, 445, 427, 543, 62, 531, 435, 435, 438, 258, 441, 443, 444, 334, 392, 373, 455, 455, 455, 455, 455, 455, 455, 455, 455, 455, 455, 455, 455, 112, 456, 460, 469, 470, 470, 473, 90, 475, 475, 475, 479, 935, 486, 489, 491, 562, 29, 491, 491, 491, 492, 495, 495, 495, 496, 497, 499, 507, 507, 41, 516, 517, 517, 517, 517, 484, 37, 524, 524, 530, 530, 530, 530, 530, 27, 536, 537, 437, 852, 541, 852, 545, 545, 545, 47, 548, 548, 548, 549, 279, 569, 652, 185, 420, 590, 590, 852, 592, 592, 592, 707, 597, 683, 610, 488, 610, 610, 610, 491, 614, 614, 614, 614, 614, 614, 614, 623, 623, 214, 625, 243, 491, 644, 427, 644, 646, 646, 652, 652, 652, 652, 946, 82, 660, 662, 662, 662, 662, 378, 664, 666, 508, 469, 682, 686, 686, 848, 289, 704, 289, 704, 689, 711, 711, 711, 287, 714, 714, 714, 715, 717, 729, 614, 82, 741, 745, 541, 746, 746, 746, 752, 753, 645, 769, 771, 769, 127, 775, 775, 775, 572, 775, 775, 775, 775, 783, 787, 582, 99, 799, 803, 492, 808, 809, 20, 250, 25, 852, 826, 243, 826, 150, 830, 830, 830, 830, 830, 202, 841, 840, 348, 847, 847, 847, 852, 853, 857, 367, 363, 747, 683, 864, 873, 874, 902, 182, 877, 877, 877, 878, 878, 878, 147, 889, 528, 78, 723, 579, 896, 896, 579, 896, 896, 704, 904, 904, 910, 919, 919, 923, 973, 927, 928, 930, 973, 933, 936, 936, 937, 937, 937, 937, 937, 937, 937, 937, 937, 937, 179, 948, 948, 949, 949, 949, 949, 949, 949, 949, 949, 949, 949, 949, 949, 949, 949, 949, 949, 949, 949, 949, 949, 949, 949, 949, 949, 949, 949, 949, 949, 949, 949, 949, 949, 949, 949, 949, 949, 949, 949, 949, 949, 949, 949, 949, 949, 949, 949, 949, 949, 949, 949, 949, 949, 949, 949, 949, 949, 949, 949, 949, 949, 949, 949, 949, 949, 949, 949, 949, 949, 949, 949, 949, 949, 949, 949, 949, 949, 949, 949, 949, 949, 949, 949, 949, 949, 949, 949, 107, 949, 949, 949, 949, 949, 949, 949, 949, 949, 949, 949, 949, 949, 949, 949, 949, 949, 949, 949, 949, 949, 949, 949, 949, 949, 949, 949, 949, 950, 950, 950, 950, 952, 952, 955, 946, 957, 958, 961, 973, 1019, 967, 968, 974, 974, 976, 976, 1027, 302, 179, 983, 983, 984, 994, 1006, 1008, 1023, 1026, 1028]\n",
            "[2, 2, 8, 8, 8, 8, 8, 16, 20, 21, 22, 25, 27, 31, 36, 37, 37, 37, 37, 37, 37, 37, 37, 37, 37, 37, 42, 42, 44, 45, 49, 49, 49, 49, 49, 49, 49, 49, 53, 53, 53, 59, 60, 61, 62, 65, 70, 71, 71, 77, 79, 79, 79, 79, 79, 79, 79, 79, 79, 79, 79, 79, 79, 79, 79, 79, 79, 79, 79, 79, 79, 79, 79, 79, 79, 79, 79, 79, 79, 79, 79, 79, 79, 79, 79, 79, 79, 80, 80, 80, 80, 80, 80, 81, 83, 88, 89, 90, 92, 92, 92, 94, 94, 94, 94, 94, 94, 94, 94, 94, 94, 96, 96, 97, 98, 100, 100, 100, 100, 100, 100, 100, 100, 100, 100, 100, 100, 103, 103, 105, 107, 107, 108, 108, 111, 111, 111, 111, 111, 111, 111, 111, 111, 111, 114, 117, 120, 125, 125, 125, 125, 125, 125, 125, 125, 125, 125, 125, 125, 125, 125, 127, 130, 130, 134, 135, 135, 135, 139, 139, 141, 142, 145, 146, 146, 158, 166, 166, 166, 169, 171, 172, 172, 172, 172, 172, 173, 173, 173, 180, 180, 182, 182, 182, 182, 182, 182, 182, 182, 182, 182, 182, 183, 183, 183, 183, 183, 183, 183, 184, 187, 187, 187, 187, 189, 189, 190, 190, 190, 193, 193, 197, 197, 200, 202, 205, 205, 205, 209, 214, 214, 214, 214, 214, 214, 214, 214, 218, 220, 220, 223, 223, 226, 227, 228, 228, 228, 228, 228, 228, 228, 228, 228, 228, 228, 228, 228, 234, 236, 236, 239, 239, 241, 243, 243, 243, 243, 245, 245, 245, 245, 245, 246, 246, 246, 246, 247, 251, 254, 260, 262, 264, 265, 265, 265, 265, 265, 265, 265, 265, 265, 265, 265, 265, 265, 265, 265, 265, 265, 265, 265, 265, 265, 265, 268, 269, 269, 276, 277, 277, 279, 280, 281, 281, 281, 281, 289, 289, 289, 289, 289, 289, 289, 289, 289, 289, 289, 289, 289, 289, 289, 289, 289, 289, 289, 289, 290, 293, 294, 298, 298, 299, 302, 304, 309, 309, 309, 309, 315, 317, 318, 318, 318, 324, 325, 325, 325, 325, 325, 325, 325, 325, 325, 325, 325, 325, 325, 325, 325, 325, 325, 325, 326, 328, 330, 332, 332, 332, 336, 337, 343, 343, 352, 352, 355, 357, 359, 359, 359, 359, 359, 360, 360, 363, 364, 364, 364, 364, 367, 374, 374, 376, 384, 386, 386, 391, 391, 391, 394, 396, 396, 397, 400, 402, 402, 402, 403, 407, 408, 408, 408, 408, 408, 410, 415, 415, 418, 419, 419, 419, 419, 419, 419, 419, 419, 419, 421, 424, 426, 426, 426, 427, 427, 427, 427, 427, 427, 427, 427, 427, 427, 427, 427, 428, 428, 432, 435, 435, 438, 440, 441, 443, 444, 444, 444, 448, 455, 455, 455, 455, 455, 455, 455, 455, 455, 455, 455, 455, 455, 455, 456, 460, 469, 470, 470, 473, 474, 475, 475, 475, 479, 481, 486, 489, 491, 491, 491, 491, 491, 491, 492, 495, 495, 495, 496, 497, 499, 507, 507, 515, 516, 517, 517, 517, 517, 520, 522, 524, 524, 530, 530, 530, 530, 530, 536, 536, 537, 538, 540, 541, 544, 545, 545, 545, 548, 548, 548, 548, 549, 550, 569, 572, 577, 577, 590, 590, 592, 592, 592, 592, 595, 597, 598, 610, 610, 610, 610, 610, 613, 614, 614, 614, 614, 614, 614, 614, 623, 623, 624, 625, 628, 644, 644, 644, 644, 646, 646, 652, 652, 652, 652, 655, 659, 660, 662, 662, 662, 662, 664, 664, 666, 674, 680, 682, 686, 686, 694, 700, 702, 703, 704, 710, 711, 711, 711, 712, 714, 714, 714, 715, 717, 729, 735, 741, 741, 745, 746, 746, 746, 746, 752, 753, 765, 769, 771, 772, 773, 775, 775, 775, 775, 775, 775, 775, 775, 783, 787, 790, 793, 799, 803, 806, 808, 809, 809, 810, 813, 815, 826, 826, 826, 827, 830, 830, 830, 830, 830, 834, 840, 840, 841, 847, 847, 847, 852, 853, 857, 858, 860, 861, 863, 864, 873, 874, 875, 876, 877, 877, 877, 878, 878, 878, 886, 889, 893, 893, 895, 896, 896, 896, 896, 896, 896, 896, 904, 904, 910, 919, 919, 923, 925, 927, 928, 930, 932, 933, 936, 936, 937, 937, 937, 937, 937, 937, 937, 937, 937, 937, 939, 948, 948, 949, 949, 949, 949, 949, 949, 949, 949, 949, 949, 949, 949, 949, 949, 949, 949, 949, 949, 949, 949, 949, 949, 949, 949, 949, 949, 949, 949, 949, 949, 949, 949, 949, 949, 949, 949, 949, 949, 949, 949, 949, 949, 949, 949, 949, 949, 949, 949, 949, 949, 949, 949, 949, 949, 949, 949, 949, 949, 949, 949, 949, 949, 949, 949, 949, 949, 949, 949, 949, 949, 949, 949, 949, 949, 949, 949, 949, 949, 949, 949, 949, 949, 949, 949, 949, 949, 949, 949, 949, 949, 949, 949, 949, 949, 949, 949, 949, 949, 949, 949, 949, 949, 949, 949, 949, 949, 949, 949, 949, 949, 949, 949, 949, 949, 949, 950, 950, 950, 950, 952, 952, 955, 955, 957, 958, 961, 963, 964, 967, 968, 974, 974, 976, 976, 976, 980, 983, 983, 983, 984, 994, 1006, 1008, 1023, 1026, 1028]\n"
          ],
          "name": "stdout"
        }
      ]
    },
    {
      "cell_type": "code",
      "metadata": {
        "id": "XIC4zufnMxtq",
        "outputId": "bb1c57f5-a1c2-4ea7-e69c-a04eed41e68e",
        "colab": {
          "base_uri": "https://localhost:8080/"
        }
      },
      "source": [
        "correct_num = 0\n",
        "\n",
        "for i in range(0, len(standard_list)):\n",
        "  if predict_list[i] == standard_list[i]:\n",
        "    correct_num = correct_num+1\n",
        "  else:\n",
        "    pass\n",
        "print(correct_num)\n",
        "\n",
        "predict_accuracy = correct_num/len(predict_list)\n",
        "print(predict_accuracy)"
      ],
      "execution_count": 47,
      "outputs": [
        {
          "output_type": "stream",
          "text": [
            "654\n",
            "0.754325259515571\n"
          ],
          "name": "stdout"
        }
      ]
    },
    {
      "cell_type": "code",
      "metadata": {
        "id": "zlKMHp1CIaRJ"
      },
      "source": [
        ""
      ],
      "execution_count": 47,
      "outputs": []
    }
  ]
}