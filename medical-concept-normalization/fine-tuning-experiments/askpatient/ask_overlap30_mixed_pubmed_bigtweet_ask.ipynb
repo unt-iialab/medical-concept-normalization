{
  "nbformat": 4,
  "nbformat_minor": 0,
  "metadata": {
    "accelerator": "TPU",
    "colab": {
      "name": "ask_overlap30_mixed_pubmed_bigtweet_ask.ipynb",
      "provenance": [],
      "collapsed_sections": [],
      "toc_visible": true,
      "include_colab_link": true
    },
    "kernelspec": {
      "display_name": "Python 3",
      "name": "python3"
    }
  },
  "cells": [
    {
      "cell_type": "markdown",
      "metadata": {
        "id": "view-in-github",
        "colab_type": "text"
      },
      "source": [
        "<a href=\"https://colab.research.google.com/github/unt-iialab/medical-concept-normalization/blob/master/medical-concept-normalization/fine-tuning-experiments/askpatient/ask_overlap30_mixed_pubmed_bigtweet_ask.ipynb\" target=\"_parent\"><img src=\"https://colab.research.google.com/assets/colab-badge.svg\" alt=\"Open In Colab\"/></a>"
      ]
    },
    {
      "cell_type": "code",
      "metadata": {
        "id": "adSi6i2-dWxy"
      },
      "source": [
        "import os"
      ],
      "execution_count": 1,
      "outputs": []
    },
    {
      "cell_type": "code",
      "metadata": {
        "id": "E7xYCRGPjd9B"
      },
      "source": [
        "base_dir = 'medical-concept-normalization'"
      ],
      "execution_count": 2,
      "outputs": []
    },
    {
      "cell_type": "code",
      "metadata": {
        "id": "yvIW3aUDjYNS"
      },
      "source": [
        "os.mkdir(base_dir)"
      ],
      "execution_count": 3,
      "outputs": []
    },
    {
      "cell_type": "code",
      "metadata": {
        "id": "es-FFLlfk6SG"
      },
      "source": [
        "os.mkdir('medical-concept-normalization/data_collection')"
      ],
      "execution_count": 4,
      "outputs": []
    },
    {
      "cell_type": "markdown",
      "metadata": {
        "id": "0R-Guw_VoJXm"
      },
      "source": [
        "**Install fastai and clone the fastai for text classification**\n",
        "\n"
      ]
    },
    {
      "cell_type": "code",
      "metadata": {
        "id": "QVZa3Z0PmHFH",
        "outputId": "d154db3d-7959-4e51-e5b3-b94e058c1da2",
        "colab": {
          "base_uri": "https://localhost:8080/",
          "height": 68
        }
      },
      "source": [
        "!curl https://course-v3.fast.ai/setup/colab | bash"
      ],
      "execution_count": 5,
      "outputs": [
        {
          "output_type": "stream",
          "text": [
            "  % Total    % Received % Xferd  Average Speed   Time    Time     Time  Current\n",
            "                                 Dload  Upload   Total   Spent    Left  Speed\n",
            "\r  0     0    0     0    0     0      0      0 --:--:-- --:--:-- --:--:--     0curl: (6) Could not resolve host: course-v3.fast.ai\n"
          ],
          "name": "stdout"
        }
      ]
    },
    {
      "cell_type": "code",
      "metadata": {
        "id": "_FBFFEBrmJC0",
        "outputId": "0f5f3520-6759-4bc5-a635-b41d446ec329",
        "colab": {
          "base_uri": "https://localhost:8080/",
          "height": 85
        }
      },
      "source": [
        "!git clone https://github.com/wshuyi/demo-nlp-classification-fastai.git"
      ],
      "execution_count": 6,
      "outputs": [
        {
          "output_type": "stream",
          "text": [
            "Cloning into 'demo-nlp-classification-fastai'...\n",
            "remote: Enumerating objects: 9, done.\u001b[K\n",
            "remote: Total 9 (delta 0), reused 0 (delta 0), pack-reused 9\u001b[K\n",
            "Unpacking objects: 100% (9/9), done.\n"
          ],
          "name": "stdout"
        }
      ]
    },
    {
      "cell_type": "code",
      "metadata": {
        "id": "66zfh_JqmWMU"
      },
      "source": [
        "from fastai import *\n",
        "from fastai.text import *"
      ],
      "execution_count": 7,
      "outputs": []
    },
    {
      "cell_type": "markdown",
      "metadata": {
        "id": "mNIw-yALdBU9"
      },
      "source": [
        "**Set the path of the data collections**"
      ]
    },
    {
      "cell_type": "code",
      "metadata": {
        "id": "pzH7VMh4mqCL"
      },
      "source": [
        "path = Path('medical-concept-normalization/data_collection')"
      ],
      "execution_count": 8,
      "outputs": []
    },
    {
      "cell_type": "code",
      "metadata": {
        "id": "b8fjI6yyn4aS"
      },
      "source": [
        "# training data set\n",
        "\n",
        "train_csv = path/'AskAPatient.fold-0.train.csv'\n",
        "train = pd.read_csv(train_csv, header=None)\n",
        "#train.head()\n",
        "#train.info()"
      ],
      "execution_count": 10,
      "outputs": []
    },
    {
      "cell_type": "code",
      "metadata": {
        "id": "Hmlr-bAorfHd",
        "outputId": "5fcc92c9-63de-4ab5-dd24-e6f0fdb1f705",
        "colab": {
          "base_uri": "https://localhost:8080/",
          "height": 204
        }
      },
      "source": [
        "# validating data set\n",
        "\n",
        "valid = pd.read_csv(path/\"AskAPatient.fold-0.validation.csv\",header=None)\n",
        "valid.head()"
      ],
      "execution_count": 11,
      "outputs": [
        {
          "output_type": "execute_result",
          "data": {
            "text/html": [
              "<div>\n",
              "<style scoped>\n",
              "    .dataframe tbody tr th:only-of-type {\n",
              "        vertical-align: middle;\n",
              "    }\n",
              "\n",
              "    .dataframe tbody tr th {\n",
              "        vertical-align: top;\n",
              "    }\n",
              "\n",
              "    .dataframe thead th {\n",
              "        text-align: right;\n",
              "    }\n",
              "</style>\n",
              "<table border=\"1\" class=\"dataframe\">\n",
              "  <thead>\n",
              "    <tr style=\"text-align: right;\">\n",
              "      <th></th>\n",
              "      <th>0</th>\n",
              "      <th>1</th>\n",
              "    </tr>\n",
              "  </thead>\n",
              "  <tbody>\n",
              "    <tr>\n",
              "      <th>0</th>\n",
              "      <td>0</td>\n",
              "      <td>fear</td>\n",
              "    </tr>\n",
              "    <tr>\n",
              "      <th>1</th>\n",
              "      <td>2</td>\n",
              "      <td>heel pain</td>\n",
              "    </tr>\n",
              "    <tr>\n",
              "      <th>2</th>\n",
              "      <td>4</td>\n",
              "      <td>purple sploches around waist</td>\n",
              "    </tr>\n",
              "    <tr>\n",
              "      <th>3</th>\n",
              "      <td>7</td>\n",
              "      <td>goiter</td>\n",
              "    </tr>\n",
              "    <tr>\n",
              "      <th>4</th>\n",
              "      <td>8</td>\n",
              "      <td>ARTHRITIS</td>\n",
              "    </tr>\n",
              "  </tbody>\n",
              "</table>\n",
              "</div>"
            ],
            "text/plain": [
              "   0                             1\n",
              "0  0                          fear\n",
              "1  2                     heel pain\n",
              "2  4  purple sploches around waist\n",
              "3  7                        goiter\n",
              "4  8                     ARTHRITIS"
            ]
          },
          "metadata": {
            "tags": []
          },
          "execution_count": 11
        }
      ]
    },
    {
      "cell_type": "code",
      "metadata": {
        "id": "cOza9dfSsBud",
        "outputId": "9778ac64-4da2-429a-8ef2-4af08267943b",
        "colab": {
          "base_uri": "https://localhost:8080/",
          "height": 204
        }
      },
      "source": [
        "# testing data set\n",
        "\n",
        "test = pd.read_csv(path/\"AskAPatient_overlap_30.csv\",header=None)\n",
        "test.head()"
      ],
      "execution_count": 12,
      "outputs": [
        {
          "output_type": "execute_result",
          "data": {
            "text/html": [
              "<div>\n",
              "<style scoped>\n",
              "    .dataframe tbody tr th:only-of-type {\n",
              "        vertical-align: middle;\n",
              "    }\n",
              "\n",
              "    .dataframe tbody tr th {\n",
              "        vertical-align: top;\n",
              "    }\n",
              "\n",
              "    .dataframe thead th {\n",
              "        text-align: right;\n",
              "    }\n",
              "</style>\n",
              "<table border=\"1\" class=\"dataframe\">\n",
              "  <thead>\n",
              "    <tr style=\"text-align: right;\">\n",
              "      <th></th>\n",
              "      <th>0</th>\n",
              "      <th>1</th>\n",
              "    </tr>\n",
              "  </thead>\n",
              "  <tbody>\n",
              "    <tr>\n",
              "      <th>0</th>\n",
              "      <td>0</td>\n",
              "      <td>'scared' feeling</td>\n",
              "    </tr>\n",
              "    <tr>\n",
              "      <th>1</th>\n",
              "      <td>3</td>\n",
              "      <td>cracking sensations in my joints</td>\n",
              "    </tr>\n",
              "    <tr>\n",
              "      <th>2</th>\n",
              "      <td>4</td>\n",
              "      <td>purple sploches around waist</td>\n",
              "    </tr>\n",
              "    <tr>\n",
              "      <th>3</th>\n",
              "      <td>5</td>\n",
              "      <td>fast and slow heartbeat</td>\n",
              "    </tr>\n",
              "    <tr>\n",
              "      <th>4</th>\n",
              "      <td>5</td>\n",
              "      <td>increased heart rate</td>\n",
              "    </tr>\n",
              "  </tbody>\n",
              "</table>\n",
              "</div>"
            ],
            "text/plain": [
              "   0                                 1\n",
              "0  0                  'scared' feeling\n",
              "1  3  cracking sensations in my joints\n",
              "2  4      purple sploches around waist\n",
              "3  5           fast and slow heartbeat\n",
              "4  5              increased heart rate"
            ]
          },
          "metadata": {
            "tags": []
          },
          "execution_count": 12
        }
      ]
    },
    {
      "cell_type": "code",
      "metadata": {
        "id": "Vo-YNvVYoaH6",
        "outputId": "2239a8ec-4ddb-4e80-e826-cf04a461b2f6",
        "colab": {
          "base_uri": "https://localhost:8080/",
          "height": 17
        }
      },
      "source": [
        "# Creating DataBunch for language modelling\n",
        "\n",
        "data_lm = TextLMDataBunch.from_csv(path, 'mixed_pubmed_bigtweet_askpatient.csv')"
      ],
      "execution_count": 13,
      "outputs": [
        {
          "output_type": "display_data",
          "data": {
            "text/html": [
              ""
            ],
            "text/plain": [
              "<IPython.core.display.HTML object>"
            ]
          },
          "metadata": {
            "tags": []
          }
        },
        {
          "output_type": "display_data",
          "data": {
            "text/html": [
              ""
            ],
            "text/plain": [
              "<IPython.core.display.HTML object>"
            ]
          },
          "metadata": {
            "tags": []
          }
        }
      ]
    },
    {
      "cell_type": "code",
      "metadata": {
        "id": "qcV-9kMnNLBf"
      },
      "source": [
        ""
      ],
      "execution_count": 13,
      "outputs": []
    },
    {
      "cell_type": "code",
      "metadata": {
        "id": "1ScY9afDsnvE"
      },
      "source": [
        "# Creating DataBunch for classification\n",
        "\n",
        "# data_clas = TextClasDataBunch.from_df(path, train, valid, test, vocab=data_lm.train_ds.vocab, bs=128)"
      ],
      "execution_count": 14,
      "outputs": []
    },
    {
      "cell_type": "code",
      "metadata": {
        "id": "gzrSdQcvey9p",
        "outputId": "3e16a1f1-ed17-4ac8-e65c-d8246aad930a",
        "colab": {
          "base_uri": "https://localhost:8080/",
          "height": 17
        }
      },
      "source": [
        "data_clas = TextClasDataBunch.from_df(path, train, valid, vocab=data_lm.train_ds.vocab, bs=128)"
      ],
      "execution_count": 15,
      "outputs": [
        {
          "output_type": "display_data",
          "data": {
            "text/html": [
              ""
            ],
            "text/plain": [
              "<IPython.core.display.HTML object>"
            ]
          },
          "metadata": {
            "tags": []
          }
        },
        {
          "output_type": "display_data",
          "data": {
            "text/html": [
              ""
            ],
            "text/plain": [
              "<IPython.core.display.HTML object>"
            ]
          },
          "metadata": {
            "tags": []
          }
        }
      ]
    },
    {
      "cell_type": "code",
      "metadata": {
        "id": "MD27Tf0Ke3ou",
        "outputId": "bfd541d5-90f3-4cb2-f360-40181d0b1ffd",
        "colab": {
          "base_uri": "https://localhost:8080/",
          "height": 17
        }
      },
      "source": [
        "data_clas.add_test(test,label=0)\n"
      ],
      "execution_count": 16,
      "outputs": [
        {
          "output_type": "display_data",
          "data": {
            "text/html": [
              ""
            ],
            "text/plain": [
              "<IPython.core.display.HTML object>"
            ]
          },
          "metadata": {
            "tags": []
          }
        }
      ]
    },
    {
      "cell_type": "code",
      "metadata": {
        "id": "-dpjnk_rstwk"
      },
      "source": [
        "data_lm.save()\n",
        "data_clas.save()"
      ],
      "execution_count": 17,
      "outputs": []
    },
    {
      "cell_type": "code",
      "metadata": {
        "id": "4OkiJa36sw5s",
        "outputId": "ae365997-2071-4ee4-fa41-e71597dfb3a0",
        "colab": {
          "base_uri": "https://localhost:8080/",
          "height": 1000
        }
      },
      "source": [
        "data_lm.train_ds.vocab.itos"
      ],
      "execution_count": 18,
      "outputs": [
        {
          "output_type": "execute_result",
          "data": {
            "text/plain": [
              "['xxunk',\n",
              " 'xxpad',\n",
              " 'xxbos',\n",
              " 'xxeos',\n",
              " 'xxfld',\n",
              " 'xxmaj',\n",
              " 'xxup',\n",
              " 'xxrep',\n",
              " 'xxwrep',\n",
              " 'pain',\n",
              " 'of',\n",
              " 'the',\n",
              " 'in',\n",
              " 'lipitor',\n",
              " 'and',\n",
              " 'to',\n",
              " 'a',\n",
              " 'muscle',\n",
              " 'with',\n",
              " 'for',\n",
              " 'was',\n",
              " 'diclofenac',\n",
              " 'were',\n",
              " 'severe',\n",
              " 'on',\n",
              " 'is',\n",
              " 'my',\n",
              " 'myalgia',\n",
              " 'lower',\n",
              " 'rt',\n",
              " 'fatigue',\n",
              " 'by',\n",
              " 'loss',\n",
              " 'weakness',\n",
              " 'limb',\n",
              " 'sodium',\n",
              " 'cramp',\n",
              " 'disease',\n",
              " 'at',\n",
              " 'stomach',\n",
              " 'that',\n",
              " 'or',\n",
              " 'as',\n",
              " 'back',\n",
              " '-',\n",
              " 'depression',\n",
              " 'patients',\n",
              " 'from',\n",
              " 'this',\n",
              " 'cramps',\n",
              " 'not',\n",
              " 'i',\n",
              " 'upper',\n",
              " 'joint',\n",
              " 'gas',\n",
              " 'drug',\n",
              " 'memory',\n",
              " 'leg',\n",
              " 'mg',\n",
              " 'you',\n",
              " 'pains',\n",
              " 'all',\n",
              " 'legs',\n",
              " 'headache',\n",
              " 'be',\n",
              " 'knee',\n",
              " 'group',\n",
              " 'are',\n",
              " 'shoulder',\n",
              " 'study',\n",
              " 'unable',\n",
              " 'neck',\n",
              " 'gastrointestinal',\n",
              " 'arthralgia',\n",
              " 'treatment',\n",
              " 'excessive',\n",
              " 'foot',\n",
              " 'it',\n",
              " 'arthritis',\n",
              " 'aches',\n",
              " 'after',\n",
              " 'hip',\n",
              " 'an',\n",
              " 'amp',\n",
              " 'have',\n",
              " 'numbness',\n",
              " 'voltaren',\n",
              " 'like',\n",
              " 'arthrotec',\n",
              " 'release',\n",
              " 'insomnia',\n",
              " 'p',\n",
              " 'no',\n",
              " '/',\n",
              " 'both',\n",
              " 'increased',\n",
              " 'nausea',\n",
              " 'bleeding',\n",
              " 'gluten',\n",
              " 'time',\n",
              " 'asthenia',\n",
              " 'abdominal',\n",
              " 'walk',\n",
              " 'can',\n",
              " 'feeling',\n",
              " 'skin',\n",
              " 'heart',\n",
              " 'swelling',\n",
              " 'could',\n",
              " 'blood',\n",
              " 'tired',\n",
              " 'dizziness',\n",
              " 'problems',\n",
              " 'high',\n",
              " 'walking',\n",
              " 'we',\n",
              " 'than',\n",
              " 'out',\n",
              " 'difficulty',\n",
              " 'feet',\n",
              " 'muscles',\n",
              " 'hand',\n",
              " 'up',\n",
              " 'effect',\n",
              " 'free',\n",
              " 'more',\n",
              " 'low',\n",
              " 'cholesterol',\n",
              " 'acid',\n",
              " 'ache',\n",
              " 'compared',\n",
              " 'backache',\n",
              " 'new',\n",
              " 'stiffness',\n",
              " 'hair',\n",
              " 'zocor',\n",
              " 'extreme',\n",
              " 'vision',\n",
              " 'burning',\n",
              " 'chest',\n",
              " 'very',\n",
              " 'inflammatory',\n",
              " 'using',\n",
              " 'weight',\n",
              " 'right',\n",
              " 'effects',\n",
              " 'liver',\n",
              " 'pins',\n",
              " 'needles',\n",
              " 'groups',\n",
              " 'diarrhoea',\n",
              " 'between',\n",
              " 'two',\n",
              " 'sleep',\n",
              " 'your',\n",
              " 'cramping',\n",
              " 'our',\n",
              " 'about',\n",
              " 'has',\n",
              " 'amnesia',\n",
              " 'day',\n",
              " 'use',\n",
              " 'significant',\n",
              " 'significantly',\n",
              " 'its',\n",
              " 'impairment',\n",
              " 'these',\n",
              " 'concentration',\n",
              " 'drugs',\n",
              " 'h',\n",
              " 'left',\n",
              " 'but',\n",
              " 'c',\n",
              " 'potassium',\n",
              " 'disability',\n",
              " 'anxiety',\n",
              " 'calf',\n",
              " 'one',\n",
              " 'tingling',\n",
              " 'symptom',\n",
              " 'which',\n",
              " 'do',\n",
              " 'short',\n",
              " 'term',\n",
              " 'had',\n",
              " 'lack',\n",
              " 'used',\n",
              " 'anti',\n",
              " 'pressure',\n",
              " 'bloating',\n",
              " 'nt',\n",
              " 'dose',\n",
              " 'constipation',\n",
              " 'glutenfree',\n",
              " 'stiff',\n",
              " 'results',\n",
              " 's',\n",
              " 'placebo',\n",
              " 'when',\n",
              " 'also',\n",
              " 'efficacy',\n",
              " 'body',\n",
              " 'disorder',\n",
              " 'what',\n",
              " 'over',\n",
              " 'there',\n",
              " 'may',\n",
              " 'so',\n",
              " 'reduced',\n",
              " 'poor',\n",
              " 'headaches',\n",
              " 'arms',\n",
              " 'arm',\n",
              " 'm',\n",
              " 'days',\n",
              " 'blurred',\n",
              " 'sore',\n",
              " 'ds',\n",
              " 'hands',\n",
              " 'celiac',\n",
              " 'acute',\n",
              " 'get',\n",
              " 'balance',\n",
              " 'neuropathy',\n",
              " 'been',\n",
              " 'treated',\n",
              " 'showed',\n",
              " 'ankle',\n",
              " 'now',\n",
              " 'visual',\n",
              " 'ml',\n",
              " 'symptoms',\n",
              " 'renal',\n",
              " 'well',\n",
              " 'different',\n",
              " 'w',\n",
              " 'serum',\n",
              " 'joints',\n",
              " 'tiredness',\n",
              " 'food',\n",
              " 'rash',\n",
              " 'oral',\n",
              " 'hurt',\n",
              " 'control',\n",
              " 'into',\n",
              " 'topical',\n",
              " 'myocardial',\n",
              " 'products',\n",
              " 'during',\n",
              " 'non',\n",
              " 'infarction',\n",
              " 'sensation',\n",
              " 'pravachol',\n",
              " 'myositis',\n",
              " 'administration',\n",
              " 'vaginal',\n",
              " 'studies',\n",
              " 'painful',\n",
              " 'test',\n",
              " 'via',\n",
              " 'their',\n",
              " 'clinical',\n",
              " 'if',\n",
              " 'mentally',\n",
              " 'swollen',\n",
              " 'energy',\n",
              " 'rats',\n",
              " 'rate',\n",
              " 'who',\n",
              " 'generalised',\n",
              " 'attack',\n",
              " 'diabetes',\n",
              " 'how',\n",
              " 'damage',\n",
              " 'vertigo',\n",
              " 'atrophy',\n",
              " 'atorvastatin',\n",
              " 'decreased',\n",
              " 'post',\n",
              " 'respectively',\n",
              " 'other',\n",
              " 'induced',\n",
              " ',',\n",
              " 'upset',\n",
              " 'ubidecarenone',\n",
              " 'dry',\n",
              " 'type',\n",
              " \"'s\",\n",
              " 'did',\n",
              " 'formulation',\n",
              " 'method',\n",
              " 'mean',\n",
              " 'itching',\n",
              " 'plasma',\n",
              " 'levels',\n",
              " 'constant',\n",
              " ')',\n",
              " 'found',\n",
              " 'diet',\n",
              " 'diarrhea',\n",
              " 'first',\n",
              " 'tablets',\n",
              " 'gain',\n",
              " 'solution',\n",
              " 'g',\n",
              " 'chronic',\n",
              " 'syndrome',\n",
              " 'formulations',\n",
              " 'ph',\n",
              " 'only',\n",
              " 'raised',\n",
              " 'me',\n",
              " 'those',\n",
              " 'hours',\n",
              " 'effective',\n",
              " 'illness',\n",
              " 'observed',\n",
              " 'd',\n",
              " 'period',\n",
              " 'nsaids',\n",
              " 'weak',\n",
              " 'hazy',\n",
              " 'dull',\n",
              " 'eye',\n",
              " 'three',\n",
              " 'gel',\n",
              " 'spasm',\n",
              " 'review',\n",
              " 'movement',\n",
              " \"n't\",\n",
              " 'feel',\n",
              " 'tendonitis',\n",
              " 'n',\n",
              " '(',\n",
              " 'influenza',\n",
              " 'urine',\n",
              " 'elbow',\n",
              " 'shoulders',\n",
              " 'received',\n",
              " 'elevated',\n",
              " 'kidney',\n",
              " 'each',\n",
              " 'present',\n",
              " 'vitro',\n",
              " 'tip',\n",
              " 'tablet',\n",
              " 'analgesic',\n",
              " 'spasms',\n",
              " 'less',\n",
              " 'ibuprofen',\n",
              " 'side',\n",
              " 'level',\n",
              " 'controlled',\n",
              " 'crestor',\n",
              " 'bad',\n",
              " 'sleeping',\n",
              " 'they',\n",
              " 'discomfort',\n",
              " 'dblclick',\n",
              " 'heavy',\n",
              " 'adverse',\n",
              " 'kg',\n",
              " 'pic',\n",
              " 'increase',\n",
              " 'system',\n",
              " 'problem',\n",
              " 'exhaustion',\n",
              " 'analysis',\n",
              " 'just',\n",
              " 'most',\n",
              " 'toe',\n",
              " 'abnormal',\n",
              " 'migraine',\n",
              " 'some',\n",
              " 'flatulence',\n",
              " 'data',\n",
              " 'function',\n",
              " 'irritable',\n",
              " 'week',\n",
              " 'daily',\n",
              " 'total',\n",
              " 'brain',\n",
              " 'bed',\n",
              " 'activity',\n",
              " 'knees',\n",
              " 'libido',\n",
              " 'mood',\n",
              " 'single',\n",
              " 'reflux',\n",
              " 'patient',\n",
              " 'l',\n",
              " 'vomiting',\n",
              " 'throat',\n",
              " 'here',\n",
              " 'myopathy',\n",
              " 'years',\n",
              " 'before',\n",
              " 'concentrations',\n",
              " 'ca',\n",
              " 'randomized',\n",
              " 'why',\n",
              " 'following',\n",
              " 'fibromyalgia',\n",
              " 'b',\n",
              " 'thigh',\n",
              " 'think',\n",
              " 'however',\n",
              " 'weeks',\n",
              " 'sclerosis',\n",
              " 'concentrate',\n",
              " 'injury',\n",
              " 'evaluated',\n",
              " 'inflammation',\n",
              " 'model',\n",
              " 'flu',\n",
              " 'difference',\n",
              " 'off',\n",
              " 'water',\n",
              " 'simvastatin',\n",
              " 'similar',\n",
              " 't',\n",
              " 'lightheadedness',\n",
              " 'cold',\n",
              " 'mild',\n",
              " 'multiple',\n",
              " 'obtained',\n",
              " 'while',\n",
              " 'changes',\n",
              " 'osteoarthritis',\n",
              " 'double',\n",
              " 'surgery',\n",
              " 'good',\n",
              " 'mellitus',\n",
              " 'eyes',\n",
              " 'therapy',\n",
              " 'will',\n",
              " 'menstrual',\n",
              " 'higher',\n",
              " 'relief',\n",
              " 'check',\n",
              " 'under',\n",
              " 'dissolution',\n",
              " 'cells',\n",
              " 'being',\n",
              " 'should',\n",
              " 'malaise',\n",
              " 'based',\n",
              " 'head',\n",
              " 'failure',\n",
              " 'due',\n",
              " 'appetite',\n",
              " 'disturbance',\n",
              " 'sweating',\n",
              " 'wind',\n",
              " 'cell',\n",
              " 'know',\n",
              " 'postoperative',\n",
              " 'nsaid',\n",
              " 'peripheral',\n",
              " 'life',\n",
              " 'impaired',\n",
              " 'hips',\n",
              " 'oil',\n",
              " 'healthy',\n",
              " 'tremor',\n",
              " 'vs',\n",
              " 'help',\n",
              " 'ezetimibe',\n",
              " 'soreness',\n",
              " 'blind',\n",
              " 'general',\n",
              " 'associated',\n",
              " 'combination',\n",
              " 'any',\n",
              " 'paraesthesia',\n",
              " 'trial',\n",
              " 'studied',\n",
              " 'confusion',\n",
              " 'order',\n",
              " 'tinnitus',\n",
              " 'four',\n",
              " 'application',\n",
              " 'eat',\n",
              " 'administered',\n",
              " 'swings',\n",
              " 'aching',\n",
              " 'esters',\n",
              " 'times',\n",
              " 'calves',\n",
              " 'love',\n",
              " 'stairs',\n",
              " 'prepared',\n",
              " 'area',\n",
              " 'infection',\n",
              " 'celebrex',\n",
              " 'without',\n",
              " 'events',\n",
              " 'reported',\n",
              " 'stress',\n",
              " 'given',\n",
              " 'ascorbic',\n",
              " 'through',\n",
              " 'doses',\n",
              " 're',\n",
              " 'rheumatoid',\n",
              " 'such',\n",
              " 'conditions',\n",
              " 'values',\n",
              " 'differences',\n",
              " 'gastric',\n",
              " 'intolerance',\n",
              " 'toes',\n",
              " 'does',\n",
              " 'make',\n",
              " 'response',\n",
              " 'subjects',\n",
              " 'phase',\n",
              " 'sensitivity',\n",
              " 'performed',\n",
              " 'investigated',\n",
              " 'coated',\n",
              " 'need',\n",
              " 'finger',\n",
              " 'going',\n",
              " 'hot',\n",
              " 'ankles',\n",
              " 'heel',\n",
              " 'containing',\n",
              " 'thanks',\n",
              " 'down',\n",
              " 'paracetamol',\n",
              " 'properties',\n",
              " 'swallowing',\n",
              " 'face',\n",
              " 'great',\n",
              " 'change',\n",
              " 'better',\n",
              " 'x',\n",
              " 'night',\n",
              " 'min',\n",
              " 'charleyhorse',\n",
              " 'excruciating',\n",
              " 'motivation',\n",
              " 'intense',\n",
              " 'urinary',\n",
              " 'developed',\n",
              " 'assessed',\n",
              " 'cough',\n",
              " 'lupus',\n",
              " 'parameters',\n",
              " 'posted',\n",
              " 'nonsteroidal',\n",
              " 'lateral',\n",
              " 'rapid',\n",
              " 'e',\n",
              " 'either',\n",
              " 'safety',\n",
              " 'gfb',\n",
              " 'nerve',\n",
              " 'parkinson',\n",
              " 'indigestion',\n",
              " 'dark',\n",
              " 'risk',\n",
              " 'restless',\n",
              " 'people',\n",
              " 'indomethacin',\n",
              " 'recipe',\n",
              " '2',\n",
              " 'absorption',\n",
              " 'potential',\n",
              " 'vitamin',\n",
              " 'getting',\n",
              " 'size',\n",
              " 'always',\n",
              " 'v',\n",
              " 'taste',\n",
              " 'show',\n",
              " 'felt',\n",
              " 'related',\n",
              " 'number',\n",
              " 'enzymes',\n",
              " 'delivery',\n",
              " 'dyspnoea',\n",
              " 'depressed',\n",
              " 'measured',\n",
              " 'us',\n",
              " 'reduction',\n",
              " 'range',\n",
              " 'statistically',\n",
              " 'strength',\n",
              " 'palpitations',\n",
              " 'included',\n",
              " 'injection',\n",
              " '1',\n",
              " 'tendon',\n",
              " 'steroidal',\n",
              " 'minutes',\n",
              " 'within',\n",
              " 'active',\n",
              " 'auc',\n",
              " 'compare',\n",
              " 'mm',\n",
              " 'vivo',\n",
              " 'co',\n",
              " 'primary',\n",
              " 'read',\n",
              " 'liquid',\n",
              " 'samples',\n",
              " 'speech',\n",
              " '30',\n",
              " 'fingers',\n",
              " 'ratio',\n",
              " 'k',\n",
              " 'scale',\n",
              " 'decrease',\n",
              " 'tightness',\n",
              " 'determined',\n",
              " 'then',\n",
              " 'limbs',\n",
              " 'every',\n",
              " '3',\n",
              " 'human',\n",
              " 'therapeutic',\n",
              " 'long',\n",
              " 'form',\n",
              " 'clearly',\n",
              " 'living',\n",
              " 'oa',\n",
              " 'twitch',\n",
              " 'fish',\n",
              " 'major',\n",
              " 'evaluate',\n",
              " 'much',\n",
              " 'ii',\n",
              " 'best',\n",
              " 'applied',\n",
              " 'many',\n",
              " 'sustained',\n",
              " 'gout',\n",
              " 'reaction',\n",
              " 'development',\n",
              " 'tips',\n",
              " 'advil',\n",
              " 'breathing',\n",
              " 'drowsy',\n",
              " 'edema',\n",
              " 'fever',\n",
              " 'ability',\n",
              " 'overall',\n",
              " 'terrible',\n",
              " 'even',\n",
              " 'bioavailability',\n",
              " 'menopause',\n",
              " 'colic',\n",
              " 'greater',\n",
              " 'year',\n",
              " 'ulcer',\n",
              " 'ng',\n",
              " '\\r \\n ',\n",
              " 'misoprostol',\n",
              " 'jennieo',\n",
              " 'process',\n",
              " 'wrist',\n",
              " 'heres',\n",
              " 'normal',\n",
              " 'medication',\n",
              " 'aqueous',\n",
              " 'aspirin',\n",
              " 'bone',\n",
              " 'provoked',\n",
              " 'dependent',\n",
              " 'go',\n",
              " 'light',\n",
              " 'sinus',\n",
              " 'scores',\n",
              " 'tissue',\n",
              " 'health',\n",
              " 'trouble',\n",
              " 'baseline',\n",
              " 'tolerability',\n",
              " 'big',\n",
              " 'bowel',\n",
              " 'creatinine',\n",
              " 'would',\n",
              " 'nasal',\n",
              " 'dreams',\n",
              " 'because',\n",
              " 'cox',\n",
              " 'heartburn',\n",
              " 'hypertension',\n",
              " 'matrix',\n",
              " 'find',\n",
              " 'aim',\n",
              " 'moderate',\n",
              " 'cancer',\n",
              " 'demonstrated',\n",
              " 'archives',\n",
              " 'breath',\n",
              " 'na',\n",
              " 'mouth',\n",
              " 'chicken',\n",
              " 'fenofibrate',\n",
              " 'addition',\n",
              " 'made',\n",
              " 'end',\n",
              " 'polymer',\n",
              " 'same',\n",
              " 'tested',\n",
              " 'tylenol',\n",
              " 'protein',\n",
              " 'caused',\n",
              " 'mobility',\n",
              " 'fog',\n",
              " 'exercise',\n",
              " 'available',\n",
              " 'article',\n",
              " 'amyotrophic',\n",
              " 'month',\n",
              " 'uterine',\n",
              " 'tract',\n",
              " 'coq10',\n",
              " 'important',\n",
              " 'months',\n",
              " 'various',\n",
              " 'revealed',\n",
              " 'finding',\n",
              " 'per',\n",
              " 'thighs',\n",
              " 'safe',\n",
              " 'news',\n",
              " 'take',\n",
              " 'inhibitor',\n",
              " 'conducted',\n",
              " '10',\n",
              " 'today',\n",
              " 'permeation',\n",
              " 'tight',\n",
              " 'presence',\n",
              " 'further',\n",
              " 'inhibition',\n",
              " 'dosage',\n",
              " 'aleve',\n",
              " 'improvement',\n",
              " 'horses',\n",
              " 'trials',\n",
              " '+',\n",
              " 'tolerated',\n",
              " 'physical',\n",
              " 'sharp',\n",
              " 'male',\n",
              " 'move',\n",
              " 'part',\n",
              " 'sugar',\n",
              " 'o',\n",
              " 'sensitive',\n",
              " 'mechanism',\n",
              " 'where',\n",
              " 'content',\n",
              " 'initial',\n",
              " 'treatments',\n",
              " 'suggest',\n",
              " 'hour',\n",
              " 'attacks',\n",
              " 'f',\n",
              " 'fast',\n",
              " 'onset',\n",
              " 'age',\n",
              " 'complex',\n",
              " 'agent',\n",
              " 'way',\n",
              " '5',\n",
              " 'case',\n",
              " 'action',\n",
              " 'plantar',\n",
              " 'indicated',\n",
              " 'randomly',\n",
              " 'provide',\n",
              " 'facial',\n",
              " 'pulse',\n",
              " 'cerebrovascular',\n",
              " 'relative',\n",
              " 'tolerance',\n",
              " 'shown',\n",
              " 'twitching',\n",
              " 'peak',\n",
              " 'versus',\n",
              " 'diagnosis',\n",
              " 'surface',\n",
              " 'followed',\n",
              " 'diagnosed',\n",
              " 'common',\n",
              " 'intensity',\n",
              " 'mice',\n",
              " 'volunteers',\n",
              " 'cd',\n",
              " 'accident',\n",
              " 'alone',\n",
              " 'elbows',\n",
              " 'lethargy',\n",
              " 'formation',\n",
              " 'determine',\n",
              " 'moody',\n",
              " 'morning',\n",
              " 'numb',\n",
              " 'lost',\n",
              " 'including',\n",
              " 'rat',\n",
              " 'whereas',\n",
              " 'pre',\n",
              " 'fluid',\n",
              " 'although',\n",
              " 'global',\n",
              " 'natural',\n",
              " 'intestinal',\n",
              " 'difficult',\n",
              " 'charley',\n",
              " 'ever',\n",
              " 'sick',\n",
              " 'thoughts',\n",
              " '4',\n",
              " 'exposure',\n",
              " 'oedema',\n",
              " 'product',\n",
              " 'barely',\n",
              " 'agents',\n",
              " 'follow',\n",
              " 'want',\n",
              " 'malignant',\n",
              " 'score',\n",
              " 'fatigued',\n",
              " 'hardly',\n",
              " 'extremely',\n",
              " 'periods',\n",
              " 'happy',\n",
              " 'standard',\n",
              " 'local',\n",
              " 'cases',\n",
              " '\\r \\n \\r \\n ',\n",
              " 'naproxen',\n",
              " 'among',\n",
              " 'hard',\n",
              " 'once',\n",
              " 'amount',\n",
              " 'still',\n",
              " 'rhabdomyolysis',\n",
              " 'according',\n",
              " 'blog',\n",
              " 'issues',\n",
              " 'tricor',\n",
              " 'generally',\n",
              " 'pharmaceutical',\n",
              " 'experimental',\n",
              " 'least',\n",
              " 'nervous',\n",
              " 'growth',\n",
              " 'things',\n",
              " 'profiles',\n",
              " 'awareness',\n",
              " 'alpha',\n",
              " 'six',\n",
              " 'care',\n",
              " 'irregular',\n",
              " 'cm',\n",
              " 'panic',\n",
              " 'animals',\n",
              " 'complete',\n",
              " 'eating',\n",
              " 'looks',\n",
              " 'around',\n",
              " 'congestion',\n",
              " 'divided',\n",
              " 'started',\n",
              " 'ldl',\n",
              " 'vehicle',\n",
              " 'vas',\n",
              " 'loose',\n",
              " 'drive',\n",
              " 'plus',\n",
              " 'improved',\n",
              " 'lesions',\n",
              " 'coronary',\n",
              " 'ethyl',\n",
              " 'u',\n",
              " 'extremity',\n",
              " 'produced',\n",
              " 'beads',\n",
              " 'pizza',\n",
              " 'shortness',\n",
              " 'sex',\n",
              " 'old',\n",
              " 'resulted',\n",
              " 'r',\n",
              " 'little',\n",
              " 'profile',\n",
              " 'pruritus',\n",
              " 'research',\n",
              " 'ringing',\n",
              " 'liptor',\n",
              " 'able',\n",
              " 'stamina',\n",
              " 'zetia',\n",
              " 'participants',\n",
              " 'cause',\n",
              " 'calcium',\n",
              " 'too',\n",
              " 'central',\n",
              " 'density',\n",
              " 'region',\n",
              " 'rofecoxib',\n",
              " 'mental',\n",
              " 'film',\n",
              " 'evaluation',\n",
              " 'gi',\n",
              " 'analgesia',\n",
              " 'frequent',\n",
              " 'duration',\n",
              " 'degrees',\n",
              " 'please',\n",
              " 'models',\n",
              " 'slurred',\n",
              " 'combined',\n",
              " 'share',\n",
              " 'needed',\n",
              " 'efficiency',\n",
              " 'enteric',\n",
              " 'als',\n",
              " 'five',\n",
              " 'work',\n",
              " 'hunger',\n",
              " 'site',\n",
              " 'corneal',\n",
              " 'top',\n",
              " 'state',\n",
              " 'erythematosus',\n",
              " 'evidence',\n",
              " 'sweats',\n",
              " 'condition',\n",
              " 'secondary',\n",
              " 'microspheres',\n",
              " 'fasciitis',\n",
              " 'ear',\n",
              " 'temperature',\n",
              " 'super',\n",
              " 'second',\n",
              " 'support',\n",
              " 'see',\n",
              " 'carried',\n",
              " 'against',\n",
              " 'commercial',\n",
              " 'ms',\n",
              " ':',\n",
              " 'synthesis',\n",
              " 'th',\n",
              " 'pharmacokinetic',\n",
              " 'flow',\n",
              " 'medical',\n",
              " 'bp',\n",
              " 'allergic',\n",
              " 'determination',\n",
              " 'cookbook',\n",
              " 'got',\n",
              " 'patch',\n",
              " 'respiratory',\n",
              " 'serious',\n",
              " 'de',\n",
              " 'taking',\n",
              " 'reference',\n",
              " 'comparison',\n",
              " 'cataract',\n",
              " 'hypersomnia',\n",
              " 'cmax',\n",
              " 'cross',\n",
              " 'eczema',\n",
              " 'assessment',\n",
              " 'systemic',\n",
              " 'affected',\n",
              " 'sensations',\n",
              " 'quality',\n",
              " 'erythema',\n",
              " 'medium',\n",
              " 'rectal',\n",
              " 'third',\n",
              " 'design',\n",
              " 'dizzy',\n",
              " 'preparation',\n",
              " 'lipid',\n",
              " 'achilles',\n",
              " 'production',\n",
              " 'characterized',\n",
              " 'investigate',\n",
              " 'achieved',\n",
              " 'considered',\n",
              " 'thus',\n",
              " 'tests',\n",
              " 'receiving',\n",
              " 'neurontin',\n",
              " 'stroke',\n",
              " 'maximum',\n",
              " 'gf',\n",
              " 'influence',\n",
              " ...]"
            ]
          },
          "metadata": {
            "tags": []
          },
          "execution_count": 18
        }
      ]
    },
    {
      "cell_type": "code",
      "metadata": {
        "id": "yPWr03mls3VT",
        "outputId": "c3afa07d-7985-4c5a-f4a8-a3ad39beb198",
        "colab": {
          "base_uri": "https://localhost:8080/",
          "height": 17
        }
      },
      "source": [
        "model_path = path/'models'\n",
        "model_path.mkdir(exist_ok=True)\n",
        "url = 'http://files.fast.ai/models/wt103_v1/'\n",
        "download_url(f'{url}lstm_wt103.pth', model_path/'lstm_wt103.pth')\n",
        "download_url(f'{url}itos_wt103.pkl', model_path/'itos_wt103.pkl')"
      ],
      "execution_count": 19,
      "outputs": [
        {
          "output_type": "display_data",
          "data": {
            "text/html": [
              ""
            ],
            "text/plain": [
              "<IPython.core.display.HTML object>"
            ]
          },
          "metadata": {
            "tags": []
          }
        },
        {
          "output_type": "display_data",
          "data": {
            "text/html": [
              ""
            ],
            "text/plain": [
              "<IPython.core.display.HTML object>"
            ]
          },
          "metadata": {
            "tags": []
          }
        }
      ]
    },
    {
      "cell_type": "code",
      "metadata": {
        "id": "JRzvWg8RtGGr",
        "outputId": "32d93c09-6a6c-42fe-a2b0-86c231d64788",
        "colab": {
          "base_uri": "https://localhost:8080/",
          "height": 34
        }
      },
      "source": [
        "learn = language_model_learner(data_lm, AWD_LSTM, drop_mult=0.5)"
      ],
      "execution_count": 20,
      "outputs": [
        {
          "output_type": "stream",
          "text": [
            "Downloading https://s3.amazonaws.com/fast-ai-modelzoo/wt103-fwd.tgz\n"
          ],
          "name": "stdout"
        },
        {
          "output_type": "display_data",
          "data": {
            "text/html": [
              ""
            ],
            "text/plain": [
              "<IPython.core.display.HTML object>"
            ]
          },
          "metadata": {
            "tags": []
          }
        }
      ]
    },
    {
      "cell_type": "code",
      "metadata": {
        "id": "xKK7GeBev7Xn",
        "outputId": "9e98b7e4-113c-48ba-eaac-cf89f88730d7",
        "colab": {
          "base_uri": "https://localhost:8080/",
          "height": 80
        }
      },
      "source": [
        "learn.fit_one_cycle(1, 1e-2)"
      ],
      "execution_count": 21,
      "outputs": [
        {
          "output_type": "display_data",
          "data": {
            "text/html": [
              "<table border=\"1\" class=\"dataframe\">\n",
              "  <thead>\n",
              "    <tr style=\"text-align: left;\">\n",
              "      <th>epoch</th>\n",
              "      <th>train_loss</th>\n",
              "      <th>valid_loss</th>\n",
              "      <th>accuracy</th>\n",
              "      <th>time</th>\n",
              "    </tr>\n",
              "  </thead>\n",
              "  <tbody>\n",
              "    <tr>\n",
              "      <td>0</td>\n",
              "      <td>3.849952</td>\n",
              "      <td>3.505333</td>\n",
              "      <td>0.438799</td>\n",
              "      <td>34:02</td>\n",
              "    </tr>\n",
              "  </tbody>\n",
              "</table>"
            ],
            "text/plain": [
              "<IPython.core.display.HTML object>"
            ]
          },
          "metadata": {
            "tags": []
          }
        }
      ]
    },
    {
      "cell_type": "code",
      "metadata": {
        "id": "iB7rHGQCwd12"
      },
      "source": [
        "# learn.fit_one_cycle(1, 1e-2)"
      ],
      "execution_count": 22,
      "outputs": []
    },
    {
      "cell_type": "code",
      "metadata": {
        "id": "_BnSuAeCwkBe"
      },
      "source": [
        "# learn.fit_one_cycle(1, 1e-3)"
      ],
      "execution_count": 23,
      "outputs": []
    },
    {
      "cell_type": "code",
      "metadata": {
        "id": "MuTm-RFjwrEX",
        "outputId": "15bddf84-0c54-4afd-9c64-d4b938af0e00",
        "colab": {
          "base_uri": "https://localhost:8080/",
          "height": 80
        }
      },
      "source": [
        "learn.fit_one_cycle(1, 1e-3)"
      ],
      "execution_count": 24,
      "outputs": [
        {
          "output_type": "display_data",
          "data": {
            "text/html": [
              "<table border=\"1\" class=\"dataframe\">\n",
              "  <thead>\n",
              "    <tr style=\"text-align: left;\">\n",
              "      <th>epoch</th>\n",
              "      <th>train_loss</th>\n",
              "      <th>valid_loss</th>\n",
              "      <th>accuracy</th>\n",
              "      <th>time</th>\n",
              "    </tr>\n",
              "  </thead>\n",
              "  <tbody>\n",
              "    <tr>\n",
              "      <td>0</td>\n",
              "      <td>3.526260</td>\n",
              "      <td>3.443261</td>\n",
              "      <td>0.444527</td>\n",
              "      <td>34:10</td>\n",
              "    </tr>\n",
              "  </tbody>\n",
              "</table>"
            ],
            "text/plain": [
              "<IPython.core.display.HTML object>"
            ]
          },
          "metadata": {
            "tags": []
          }
        }
      ]
    },
    {
      "cell_type": "code",
      "metadata": {
        "id": "1Er2ExO8wr7Y"
      },
      "source": [
        "learn.save_encoder('pubmed_bigtweet_askpatient_mixed_overlap30_first')"
      ],
      "execution_count": 25,
      "outputs": []
    },
    {
      "cell_type": "code",
      "metadata": {
        "id": "z52cZs2qwvad",
        "outputId": "16d5b4de-ebf5-4727-bde5-f0cf38620d49",
        "colab": {
          "base_uri": "https://localhost:8080/",
          "height": 80
        }
      },
      "source": [
        "learn = text_classifier_learner(data_clas,AWD_LSTM, drop_mult=0.5)\n",
        "learn.load_encoder('pubmed_bigtweet_askpatient_mixed_overlap30_first')\n",
        "learn.fit_one_cycle(1, 1e-2)"
      ],
      "execution_count": 26,
      "outputs": [
        {
          "output_type": "display_data",
          "data": {
            "text/html": [
              "<table border=\"1\" class=\"dataframe\">\n",
              "  <thead>\n",
              "    <tr style=\"text-align: left;\">\n",
              "      <th>epoch</th>\n",
              "      <th>train_loss</th>\n",
              "      <th>valid_loss</th>\n",
              "      <th>accuracy</th>\n",
              "      <th>time</th>\n",
              "    </tr>\n",
              "  </thead>\n",
              "  <tbody>\n",
              "    <tr>\n",
              "      <td>0</td>\n",
              "      <td>3.822152</td>\n",
              "      <td>3.499183</td>\n",
              "      <td>0.397633</td>\n",
              "      <td>01:00</td>\n",
              "    </tr>\n",
              "  </tbody>\n",
              "</table>"
            ],
            "text/plain": [
              "<IPython.core.display.HTML object>"
            ]
          },
          "metadata": {
            "tags": []
          }
        }
      ]
    },
    {
      "cell_type": "code",
      "metadata": {
        "id": "ImwQP1PJwzxd",
        "outputId": "3e8a5c38-2231-45a8-80ce-1e5533a0b89e",
        "colab": {
          "base_uri": "https://localhost:8080/",
          "height": 80
        }
      },
      "source": [
        "learn.freeze_to(-2)\n",
        "learn.fit_one_cycle(1, slice(5e-3/2., 5e-3))"
      ],
      "execution_count": 27,
      "outputs": [
        {
          "output_type": "display_data",
          "data": {
            "text/html": [
              "<table border=\"1\" class=\"dataframe\">\n",
              "  <thead>\n",
              "    <tr style=\"text-align: left;\">\n",
              "      <th>epoch</th>\n",
              "      <th>train_loss</th>\n",
              "      <th>valid_loss</th>\n",
              "      <th>accuracy</th>\n",
              "      <th>time</th>\n",
              "    </tr>\n",
              "  </thead>\n",
              "  <tbody>\n",
              "    <tr>\n",
              "      <td>0</td>\n",
              "      <td>2.918651</td>\n",
              "      <td>3.075610</td>\n",
              "      <td>0.471006</td>\n",
              "      <td>01:22</td>\n",
              "    </tr>\n",
              "  </tbody>\n",
              "</table>"
            ],
            "text/plain": [
              "<IPython.core.display.HTML object>"
            ]
          },
          "metadata": {
            "tags": []
          }
        }
      ]
    },
    {
      "cell_type": "code",
      "metadata": {
        "id": "Owff_BJXw53u",
        "outputId": "80155c17-f1f1-4e23-8013-9b8571061ab3",
        "colab": {
          "base_uri": "https://localhost:8080/",
          "height": 80
        }
      },
      "source": [
        "learn.unfreeze()\n",
        "learn.fit_one_cycle(1, slice(2e-3/100, 2e-3))"
      ],
      "execution_count": 28,
      "outputs": [
        {
          "output_type": "display_data",
          "data": {
            "text/html": [
              "<table border=\"1\" class=\"dataframe\">\n",
              "  <thead>\n",
              "    <tr style=\"text-align: left;\">\n",
              "      <th>epoch</th>\n",
              "      <th>train_loss</th>\n",
              "      <th>valid_loss</th>\n",
              "      <th>accuracy</th>\n",
              "      <th>time</th>\n",
              "    </tr>\n",
              "  </thead>\n",
              "  <tbody>\n",
              "    <tr>\n",
              "      <td>0</td>\n",
              "      <td>2.376613</td>\n",
              "      <td>2.614435</td>\n",
              "      <td>0.539645</td>\n",
              "      <td>03:23</td>\n",
              "    </tr>\n",
              "  </tbody>\n",
              "</table>"
            ],
            "text/plain": [
              "<IPython.core.display.HTML object>"
            ]
          },
          "metadata": {
            "tags": []
          }
        }
      ]
    },
    {
      "cell_type": "code",
      "metadata": {
        "id": "lqAyu56V8Waq",
        "outputId": "10962786-8c04-4733-f117-466c49b06810",
        "colab": {
          "base_uri": "https://localhost:8080/",
          "height": 111
        }
      },
      "source": [
        "learn.fit_one_cycle(2, slice(2e-3/100, 2e-3))"
      ],
      "execution_count": 29,
      "outputs": [
        {
          "output_type": "display_data",
          "data": {
            "text/html": [
              "<table border=\"1\" class=\"dataframe\">\n",
              "  <thead>\n",
              "    <tr style=\"text-align: left;\">\n",
              "      <th>epoch</th>\n",
              "      <th>train_loss</th>\n",
              "      <th>valid_loss</th>\n",
              "      <th>accuracy</th>\n",
              "      <th>time</th>\n",
              "    </tr>\n",
              "  </thead>\n",
              "  <tbody>\n",
              "    <tr>\n",
              "      <td>0</td>\n",
              "      <td>1.907655</td>\n",
              "      <td>2.293214</td>\n",
              "      <td>0.603550</td>\n",
              "      <td>03:17</td>\n",
              "    </tr>\n",
              "    <tr>\n",
              "      <td>1</td>\n",
              "      <td>1.679577</td>\n",
              "      <td>2.163075</td>\n",
              "      <td>0.628402</td>\n",
              "      <td>03:05</td>\n",
              "    </tr>\n",
              "  </tbody>\n",
              "</table>"
            ],
            "text/plain": [
              "<IPython.core.display.HTML object>"
            ]
          },
          "metadata": {
            "tags": []
          }
        }
      ]
    },
    {
      "cell_type": "code",
      "metadata": {
        "id": "a7I1xMRp8bUd",
        "outputId": "497c2383-e49f-4364-f34e-d2152bc669a6",
        "colab": {
          "base_uri": "https://localhost:8080/",
          "height": 111
        }
      },
      "source": [
        "learn.fit_one_cycle(2, slice(2e-3/100, 2e-3))"
      ],
      "execution_count": 30,
      "outputs": [
        {
          "output_type": "display_data",
          "data": {
            "text/html": [
              "<table border=\"1\" class=\"dataframe\">\n",
              "  <thead>\n",
              "    <tr style=\"text-align: left;\">\n",
              "      <th>epoch</th>\n",
              "      <th>train_loss</th>\n",
              "      <th>valid_loss</th>\n",
              "      <th>accuracy</th>\n",
              "      <th>time</th>\n",
              "    </tr>\n",
              "  </thead>\n",
              "  <tbody>\n",
              "    <tr>\n",
              "      <td>0</td>\n",
              "      <td>1.527790</td>\n",
              "      <td>1.963409</td>\n",
              "      <td>0.674556</td>\n",
              "      <td>03:24</td>\n",
              "    </tr>\n",
              "    <tr>\n",
              "      <td>1</td>\n",
              "      <td>1.299670</td>\n",
              "      <td>1.872911</td>\n",
              "      <td>0.685207</td>\n",
              "      <td>03:21</td>\n",
              "    </tr>\n",
              "  </tbody>\n",
              "</table>"
            ],
            "text/plain": [
              "<IPython.core.display.HTML object>"
            ]
          },
          "metadata": {
            "tags": []
          }
        }
      ]
    },
    {
      "cell_type": "code",
      "metadata": {
        "id": "UAnti-XmGVfO",
        "outputId": "53f94737-9caa-4eeb-ad79-dc0dc73cc127",
        "colab": {
          "base_uri": "https://localhost:8080/",
          "height": 111
        }
      },
      "source": [
        "learn.fit_one_cycle(2, slice(2e-3/100, 2e-3))"
      ],
      "execution_count": 31,
      "outputs": [
        {
          "output_type": "display_data",
          "data": {
            "text/html": [
              "<table border=\"1\" class=\"dataframe\">\n",
              "  <thead>\n",
              "    <tr style=\"text-align: left;\">\n",
              "      <th>epoch</th>\n",
              "      <th>train_loss</th>\n",
              "      <th>valid_loss</th>\n",
              "      <th>accuracy</th>\n",
              "      <th>time</th>\n",
              "    </tr>\n",
              "  </thead>\n",
              "  <tbody>\n",
              "    <tr>\n",
              "      <td>0</td>\n",
              "      <td>1.191469</td>\n",
              "      <td>1.759127</td>\n",
              "      <td>0.688757</td>\n",
              "      <td>03:17</td>\n",
              "    </tr>\n",
              "    <tr>\n",
              "      <td>1</td>\n",
              "      <td>1.012636</td>\n",
              "      <td>1.692991</td>\n",
              "      <td>0.707692</td>\n",
              "      <td>03:19</td>\n",
              "    </tr>\n",
              "  </tbody>\n",
              "</table>"
            ],
            "text/plain": [
              "<IPython.core.display.HTML object>"
            ]
          },
          "metadata": {
            "tags": []
          }
        }
      ]
    },
    {
      "cell_type": "code",
      "metadata": {
        "id": "bIft7W25GwSu",
        "outputId": "1246d2c9-65c4-46b7-c110-c8aba703638b",
        "colab": {
          "base_uri": "https://localhost:8080/",
          "height": 111
        }
      },
      "source": [
        "learn.fit_one_cycle(2, slice(2e-3/100, 2e-3))"
      ],
      "execution_count": 32,
      "outputs": [
        {
          "output_type": "display_data",
          "data": {
            "text/html": [
              "<table border=\"1\" class=\"dataframe\">\n",
              "  <thead>\n",
              "    <tr style=\"text-align: left;\">\n",
              "      <th>epoch</th>\n",
              "      <th>train_loss</th>\n",
              "      <th>valid_loss</th>\n",
              "      <th>accuracy</th>\n",
              "      <th>time</th>\n",
              "    </tr>\n",
              "  </thead>\n",
              "  <tbody>\n",
              "    <tr>\n",
              "      <td>0</td>\n",
              "      <td>0.968581</td>\n",
              "      <td>1.614565</td>\n",
              "      <td>0.714793</td>\n",
              "      <td>03:20</td>\n",
              "    </tr>\n",
              "    <tr>\n",
              "      <td>1</td>\n",
              "      <td>0.882861</td>\n",
              "      <td>1.547110</td>\n",
              "      <td>0.725444</td>\n",
              "      <td>03:16</td>\n",
              "    </tr>\n",
              "  </tbody>\n",
              "</table>"
            ],
            "text/plain": [
              "<IPython.core.display.HTML object>"
            ]
          },
          "metadata": {
            "tags": []
          }
        }
      ]
    },
    {
      "cell_type": "code",
      "metadata": {
        "id": "EEHszVRvGyFt",
        "outputId": "e66351ed-5298-4293-a816-52197655e154",
        "colab": {
          "base_uri": "https://localhost:8080/",
          "height": 111
        }
      },
      "source": [
        "learn.fit_one_cycle(2, slice(2e-3/100, 2e-3))"
      ],
      "execution_count": 33,
      "outputs": [
        {
          "output_type": "display_data",
          "data": {
            "text/html": [
              "<table border=\"1\" class=\"dataframe\">\n",
              "  <thead>\n",
              "    <tr style=\"text-align: left;\">\n",
              "      <th>epoch</th>\n",
              "      <th>train_loss</th>\n",
              "      <th>valid_loss</th>\n",
              "      <th>accuracy</th>\n",
              "      <th>time</th>\n",
              "    </tr>\n",
              "  </thead>\n",
              "  <tbody>\n",
              "    <tr>\n",
              "      <td>0</td>\n",
              "      <td>0.813533</td>\n",
              "      <td>1.519891</td>\n",
              "      <td>0.733728</td>\n",
              "      <td>03:23</td>\n",
              "    </tr>\n",
              "    <tr>\n",
              "      <td>1</td>\n",
              "      <td>0.705939</td>\n",
              "      <td>1.483210</td>\n",
              "      <td>0.747929</td>\n",
              "      <td>03:20</td>\n",
              "    </tr>\n",
              "  </tbody>\n",
              "</table>"
            ],
            "text/plain": [
              "<IPython.core.display.HTML object>"
            ]
          },
          "metadata": {
            "tags": []
          }
        }
      ]
    },
    {
      "cell_type": "code",
      "metadata": {
        "id": "XsHfrhCHG3dN",
        "outputId": "7dba823c-e252-4f03-c6a7-eeb2a8ecd09d",
        "colab": {
          "base_uri": "https://localhost:8080/",
          "height": 173
        }
      },
      "source": [
        "learn.fit_one_cycle(4, slice(2e-3/100, 2e-3))"
      ],
      "execution_count": 34,
      "outputs": [
        {
          "output_type": "display_data",
          "data": {
            "text/html": [
              "<table border=\"1\" class=\"dataframe\">\n",
              "  <thead>\n",
              "    <tr style=\"text-align: left;\">\n",
              "      <th>epoch</th>\n",
              "      <th>train_loss</th>\n",
              "      <th>valid_loss</th>\n",
              "      <th>accuracy</th>\n",
              "      <th>time</th>\n",
              "    </tr>\n",
              "  </thead>\n",
              "  <tbody>\n",
              "    <tr>\n",
              "      <td>0</td>\n",
              "      <td>0.668407</td>\n",
              "      <td>1.432823</td>\n",
              "      <td>0.756213</td>\n",
              "      <td>03:27</td>\n",
              "    </tr>\n",
              "    <tr>\n",
              "      <td>1</td>\n",
              "      <td>0.651724</td>\n",
              "      <td>1.430973</td>\n",
              "      <td>0.759763</td>\n",
              "      <td>03:07</td>\n",
              "    </tr>\n",
              "    <tr>\n",
              "      <td>2</td>\n",
              "      <td>0.620419</td>\n",
              "      <td>1.357590</td>\n",
              "      <td>0.766864</td>\n",
              "      <td>03:21</td>\n",
              "    </tr>\n",
              "    <tr>\n",
              "      <td>3</td>\n",
              "      <td>0.495676</td>\n",
              "      <td>1.398758</td>\n",
              "      <td>0.758580</td>\n",
              "      <td>03:21</td>\n",
              "    </tr>\n",
              "  </tbody>\n",
              "</table>"
            ],
            "text/plain": [
              "<IPython.core.display.HTML object>"
            ]
          },
          "metadata": {
            "tags": []
          }
        }
      ]
    },
    {
      "cell_type": "code",
      "metadata": {
        "id": "0Zsd99isb9EQ",
        "outputId": "695d4e71-caab-4cf5-eef2-7946c24acd9f",
        "colab": {
          "base_uri": "https://localhost:8080/",
          "height": 173
        }
      },
      "source": [
        "learn.fit_one_cycle(4, slice(2e-3/100, 2e-3))"
      ],
      "execution_count": 35,
      "outputs": [
        {
          "output_type": "display_data",
          "data": {
            "text/html": [
              "<table border=\"1\" class=\"dataframe\">\n",
              "  <thead>\n",
              "    <tr style=\"text-align: left;\">\n",
              "      <th>epoch</th>\n",
              "      <th>train_loss</th>\n",
              "      <th>valid_loss</th>\n",
              "      <th>accuracy</th>\n",
              "      <th>time</th>\n",
              "    </tr>\n",
              "  </thead>\n",
              "  <tbody>\n",
              "    <tr>\n",
              "      <td>0</td>\n",
              "      <td>0.500461</td>\n",
              "      <td>1.407939</td>\n",
              "      <td>0.757396</td>\n",
              "      <td>03:04</td>\n",
              "    </tr>\n",
              "    <tr>\n",
              "      <td>1</td>\n",
              "      <td>0.526735</td>\n",
              "      <td>1.333597</td>\n",
              "      <td>0.770414</td>\n",
              "      <td>03:27</td>\n",
              "    </tr>\n",
              "    <tr>\n",
              "      <td>2</td>\n",
              "      <td>0.403958</td>\n",
              "      <td>1.308362</td>\n",
              "      <td>0.785799</td>\n",
              "      <td>03:11</td>\n",
              "    </tr>\n",
              "    <tr>\n",
              "      <td>3</td>\n",
              "      <td>0.387642</td>\n",
              "      <td>1.281552</td>\n",
              "      <td>0.785799</td>\n",
              "      <td>03:20</td>\n",
              "    </tr>\n",
              "  </tbody>\n",
              "</table>"
            ],
            "text/plain": [
              "<IPython.core.display.HTML object>"
            ]
          },
          "metadata": {
            "tags": []
          }
        }
      ]
    },
    {
      "cell_type": "code",
      "metadata": {
        "id": "atNWNKDFPbuI",
        "outputId": "201eaa47-9c09-4f7f-b129-4f89bf6f37a0",
        "colab": {
          "base_uri": "https://localhost:8080/",
          "height": 173
        }
      },
      "source": [
        "learn.fit_one_cycle(4, slice(2e-3/100, 2e-3))"
      ],
      "execution_count": 36,
      "outputs": [
        {
          "output_type": "display_data",
          "data": {
            "text/html": [
              "<table border=\"1\" class=\"dataframe\">\n",
              "  <thead>\n",
              "    <tr style=\"text-align: left;\">\n",
              "      <th>epoch</th>\n",
              "      <th>train_loss</th>\n",
              "      <th>valid_loss</th>\n",
              "      <th>accuracy</th>\n",
              "      <th>time</th>\n",
              "    </tr>\n",
              "  </thead>\n",
              "  <tbody>\n",
              "    <tr>\n",
              "      <td>0</td>\n",
              "      <td>0.385561</td>\n",
              "      <td>1.360166</td>\n",
              "      <td>0.781065</td>\n",
              "      <td>03:19</td>\n",
              "    </tr>\n",
              "    <tr>\n",
              "      <td>1</td>\n",
              "      <td>0.393209</td>\n",
              "      <td>1.372682</td>\n",
              "      <td>0.788166</td>\n",
              "      <td>03:13</td>\n",
              "    </tr>\n",
              "    <tr>\n",
              "      <td>2</td>\n",
              "      <td>0.340875</td>\n",
              "      <td>1.308661</td>\n",
              "      <td>0.789349</td>\n",
              "      <td>03:11</td>\n",
              "    </tr>\n",
              "    <tr>\n",
              "      <td>3</td>\n",
              "      <td>0.283664</td>\n",
              "      <td>1.315560</td>\n",
              "      <td>0.791716</td>\n",
              "      <td>03:05</td>\n",
              "    </tr>\n",
              "  </tbody>\n",
              "</table>"
            ],
            "text/plain": [
              "<IPython.core.display.HTML object>"
            ]
          },
          "metadata": {
            "tags": []
          }
        }
      ]
    },
    {
      "cell_type": "code",
      "metadata": {
        "id": "rKrBTZ0T1uVA",
        "outputId": "4c5a0136-7095-437d-9247-806b8703b3c7",
        "colab": {
          "base_uri": "https://localhost:8080/",
          "height": 173
        }
      },
      "source": [
        "learn.fit_one_cycle(4, slice(2e-3/100, 2e-3))"
      ],
      "execution_count": 37,
      "outputs": [
        {
          "output_type": "display_data",
          "data": {
            "text/html": [
              "<table border=\"1\" class=\"dataframe\">\n",
              "  <thead>\n",
              "    <tr style=\"text-align: left;\">\n",
              "      <th>epoch</th>\n",
              "      <th>train_loss</th>\n",
              "      <th>valid_loss</th>\n",
              "      <th>accuracy</th>\n",
              "      <th>time</th>\n",
              "    </tr>\n",
              "  </thead>\n",
              "  <tbody>\n",
              "    <tr>\n",
              "      <td>0</td>\n",
              "      <td>0.292784</td>\n",
              "      <td>1.395457</td>\n",
              "      <td>0.788166</td>\n",
              "      <td>03:03</td>\n",
              "    </tr>\n",
              "    <tr>\n",
              "      <td>1</td>\n",
              "      <td>0.368823</td>\n",
              "      <td>1.317369</td>\n",
              "      <td>0.785799</td>\n",
              "      <td>03:05</td>\n",
              "    </tr>\n",
              "    <tr>\n",
              "      <td>2</td>\n",
              "      <td>0.291471</td>\n",
              "      <td>1.330873</td>\n",
              "      <td>0.791716</td>\n",
              "      <td>03:12</td>\n",
              "    </tr>\n",
              "    <tr>\n",
              "      <td>3</td>\n",
              "      <td>0.268578</td>\n",
              "      <td>1.304128</td>\n",
              "      <td>0.794083</td>\n",
              "      <td>03:11</td>\n",
              "    </tr>\n",
              "  </tbody>\n",
              "</table>"
            ],
            "text/plain": [
              "<IPython.core.display.HTML object>"
            ]
          },
          "metadata": {
            "tags": []
          }
        }
      ]
    },
    {
      "cell_type": "code",
      "metadata": {
        "id": "ajQC6WDg1yA9",
        "outputId": "ab7221a8-e12a-463e-f751-ed0f4edc9b3a",
        "colab": {
          "base_uri": "https://localhost:8080/",
          "height": 173
        }
      },
      "source": [
        "learn.fit_one_cycle(4, slice(2e-3/100, 2e-3))"
      ],
      "execution_count": 38,
      "outputs": [
        {
          "output_type": "display_data",
          "data": {
            "text/html": [
              "<table border=\"1\" class=\"dataframe\">\n",
              "  <thead>\n",
              "    <tr style=\"text-align: left;\">\n",
              "      <th>epoch</th>\n",
              "      <th>train_loss</th>\n",
              "      <th>valid_loss</th>\n",
              "      <th>accuracy</th>\n",
              "      <th>time</th>\n",
              "    </tr>\n",
              "  </thead>\n",
              "  <tbody>\n",
              "    <tr>\n",
              "      <td>0</td>\n",
              "      <td>0.271724</td>\n",
              "      <td>1.354083</td>\n",
              "      <td>0.792899</td>\n",
              "      <td>03:15</td>\n",
              "    </tr>\n",
              "    <tr>\n",
              "      <td>1</td>\n",
              "      <td>0.300611</td>\n",
              "      <td>1.328905</td>\n",
              "      <td>0.795266</td>\n",
              "      <td>03:20</td>\n",
              "    </tr>\n",
              "    <tr>\n",
              "      <td>2</td>\n",
              "      <td>0.261318</td>\n",
              "      <td>1.303908</td>\n",
              "      <td>0.796450</td>\n",
              "      <td>03:15</td>\n",
              "    </tr>\n",
              "    <tr>\n",
              "      <td>3</td>\n",
              "      <td>0.229796</td>\n",
              "      <td>1.339092</td>\n",
              "      <td>0.800000</td>\n",
              "      <td>03:30</td>\n",
              "    </tr>\n",
              "  </tbody>\n",
              "</table>"
            ],
            "text/plain": [
              "<IPython.core.display.HTML object>"
            ]
          },
          "metadata": {
            "tags": []
          }
        }
      ]
    },
    {
      "cell_type": "code",
      "metadata": {
        "id": "KKydb0B4BKGk"
      },
      "source": [
        "# learn.fit_one_cycle(4, slice(2e-3/100, 2e-3))"
      ],
      "execution_count": 39,
      "outputs": []
    },
    {
      "cell_type": "code",
      "metadata": {
        "id": "T2APKtFKBpGY"
      },
      "source": [
        "# learn.fit_one_cycle(4, slice(2e-3/100, 2e-3))"
      ],
      "execution_count": 40,
      "outputs": []
    },
    {
      "cell_type": "code",
      "metadata": {
        "id": "qtTypA1sPgLU"
      },
      "source": [
        "# learn.fit_one_cycle(2, slice(2e-3/100, 2e-3))"
      ],
      "execution_count": 41,
      "outputs": []
    },
    {
      "cell_type": "code",
      "metadata": {
        "id": "b242kBsTUp9Y"
      },
      "source": [
        "# learn.fit_one_cycle(2, slice(2e-3/100, 2e-3))"
      ],
      "execution_count": 42,
      "outputs": []
    },
    {
      "cell_type": "code",
      "metadata": {
        "id": "Duwf1Ih5VeDZ",
        "outputId": "685d1aff-e4c5-45c2-d29c-c917ef605df2",
        "colab": {
          "base_uri": "https://localhost:8080/",
          "height": 80
        }
      },
      "source": [
        "learn.fit_one_cycle(1, slice(2e-3/100, 2e-3))"
      ],
      "execution_count": 43,
      "outputs": [
        {
          "output_type": "display_data",
          "data": {
            "text/html": [
              "<table border=\"1\" class=\"dataframe\">\n",
              "  <thead>\n",
              "    <tr style=\"text-align: left;\">\n",
              "      <th>epoch</th>\n",
              "      <th>train_loss</th>\n",
              "      <th>valid_loss</th>\n",
              "      <th>accuracy</th>\n",
              "      <th>time</th>\n",
              "    </tr>\n",
              "  </thead>\n",
              "  <tbody>\n",
              "    <tr>\n",
              "      <td>0</td>\n",
              "      <td>0.253098</td>\n",
              "      <td>1.345344</td>\n",
              "      <td>0.798817</td>\n",
              "      <td>03:30</td>\n",
              "    </tr>\n",
              "  </tbody>\n",
              "</table>"
            ],
            "text/plain": [
              "<IPython.core.display.HTML object>"
            ]
          },
          "metadata": {
            "tags": []
          }
        }
      ]
    },
    {
      "cell_type": "code",
      "metadata": {
        "id": "c65d-osfDUXm"
      },
      "source": [
        "# save the best model\n",
        "\n",
        "learn.save_encoder('pubmed_bigtweet_askpatient_mixed_overlap30')"
      ],
      "execution_count": 44,
      "outputs": []
    },
    {
      "cell_type": "markdown",
      "metadata": {
        "id": "rCwZU0E2RgM6"
      },
      "source": [
        "# Part three: Predict on the test dataset"
      ]
    },
    {
      "cell_type": "code",
      "metadata": {
        "id": "gDm72c-dOu7d",
        "outputId": "bdd4d637-b158-422b-8bd9-61dad0a23754",
        "colab": {
          "base_uri": "https://localhost:8080/",
          "height": 17
        }
      },
      "source": [
        "# use the test data for prediction\n",
        "\n",
        "preds, y = learn.get_preds(DatasetType.Test)"
      ],
      "execution_count": 45,
      "outputs": [
        {
          "output_type": "display_data",
          "data": {
            "text/html": [
              ""
            ],
            "text/plain": [
              "<IPython.core.display.HTML object>"
            ]
          },
          "metadata": {
            "tags": []
          }
        }
      ]
    },
    {
      "cell_type": "code",
      "metadata": {
        "id": "6tFSQcsWPvxn",
        "outputId": "c0b930bf-20c6-47c5-c7ad-80ba83426a85",
        "colab": {
          "base_uri": "https://localhost:8080/",
          "height": 105
        }
      },
      "source": [
        "predictions, *_ = learn.get_preds(DatasetType.Test)\n",
        "labels = np.argmax(predictions, 1)\n",
        "predict_list = labels.tolist()\n",
        "standard_list = test[0].tolist()\n",
        "\n",
        "print(len(predict_list))\n",
        "print(len(standard_list))\n",
        "\n",
        "print(predict_list)\n",
        "print(standard_list)"
      ],
      "execution_count": 46,
      "outputs": [
        {
          "output_type": "display_data",
          "data": {
            "text/html": [
              ""
            ],
            "text/plain": [
              "<IPython.core.display.HTML object>"
            ]
          },
          "metadata": {
            "tags": []
          }
        },
        {
          "output_type": "stream",
          "text": [
            "872\n",
            "872\n",
            "[166, 876, 438, 334, 5, 530, 1026, 8, 8, 8, 8, 760, 98, 520, 5, 19, 21, 135, 27, 644, 644, 29, 289, 289, 211, 31, 32, 34, 289, 37, 218, 623, 469, 255, 99, 99, 49, 94, 49, 49, 49, 49, 100, 100, 100, 100, 891, 53, 61, 70, 71, 71, 71, 76, 76, 289, 228, 614, 591, 628, 79, 228, 228, 228, 228, 228, 228, 228, 228, 228, 228, 228, 228, 228, 228, 228, 182, 289, 591, 79, 79, 80, 80, 80, 80, 615, 88, 89, 137, 391, 591, 91, 84, 94, 94, 94, 94, 94, 96, 98, 598, 98, 615, 260, 100, 265, 100, 100, 100, 416, 49, 291, 236, 34, 108, 108, 209, 879, 409, 111, 130, 4, 111, 281, 717, 182, 565, 65, 120, 1009, 298, 125, 125, 125, 125, 125, 940, 125, 127, 741, 289, 289, 289, 312, 627, 142, 144, 479, 794, 151, 30, 157, 157, 509, 165, 166, 166, 166, 291, 194, 172, 614, 172, 172, 172, 172, 180, 182, 182, 182, 182, 182, 182, 183, 183, 183, 183, 183, 184, 185, 187, 187, 187, 757, 189, 189, 190, 190, 190, 190, 190, 190, 190, 190, 190, 193, 197, 34, 34, 34, 34, 736, 205, 769, 210, 210, 210, 210, 210, 211, 717, 832, 214, 419, 214, 214, 910, 214, 214, 940, 628, 218, 220, 220, 226, 44, 228, 228, 289, 228, 289, 289, 228, 544, 231, 98, 235, 236, 265, 238, 256, 973, 238, 778, 427, 1026, 588, 588, 243, 243, 940, 1026, 244, 764, 245, 245, 245, 764, 245, 245, 723, 245, 467, 246, 167, 534, 832, 728, 259, 260, 289, 289, 832, 265, 419, 660, 402, 265, 265, 265, 265, 265, 265, 265, 265, 228, 265, 463, 265, 265, 265, 199, 86, 137, 391, 269, 270, 271, 780, 289, 847, 283, 52, 714, 419, 698, 289, 289, 289, 289, 289, 289, 289, 289, 289, 289, 289, 289, 289, 289, 289, 289, 289, 289, 289, 289, 289, 741, 289, 289, 289, 289, 651, 289, 289, 291, 289, 272, 877, 887, 81, 220, 49, 780, 265, 265, 304, 397, 309, 309, 309, 310, 309, 289, 750, 479, 318, 359, 79, 88, 146, 405, 536, 321, 375, 298, 325, 325, 325, 325, 325, 325, 325, 848, 325, 729, 61, 427, 203, 334, 334, 336, 236, 337, 337, 337, 185, 337, 584, 129, 343, 343, 343, 182, 318, 672, 910, 214, 359, 359, 359, 732, 359, 360, 360, 363, 605, 364, 364, 289, 593, 940, 196, 427, 391, 50, 396, 820, 402, 402, 402, 427, 408, 805, 416, 801, 419, 419, 419, 419, 419, 419, 76, 419, 419, 256, 736, 426, 426, 426, 426, 427, 427, 427, 427, 427, 427, 427, 427, 427, 426, 427, 591, 427, 736, 430, 910, 434, 435, 438, 441, 444, 444, 444, 391, 446, 453, 205, 462, 228, 630, 794, 475, 475, 475, 181, 181, 181, 853, 479, 614, 98, 744, 757, 486, 610, 771, 326, 489, 491, 491, 491, 491, 491, 801, 491, 492, 492, 291, 499, 42, 299, 256, 71, 173, 516, 517, 243, 847, 521, 521, 527, 127, 530, 530, 531, 316, 541, 491, 591, 291, 644, 546, 548, 548, 548, 730, 549, 88, 678, 491, 318, 318, 567, 571, 810, 301, 100, 521, 58, 578, 70, 579, 579, 579, 579, 584, 586, 289, 590, 591, 590, 590, 475, 594, 594, 707, 595, 235, 427, 491, 120, 289, 606, 228, 607, 127, 610, 611, 76, 742, 617, 619, 623, 318, 624, 633, 633, 633, 637, 638, 841, 646, 646, 623, 728, 774, 910, 651, 652, 652, 652, 652, 652, 619, 412, 412, 660, 491, 662, 662, 29, 664, 437, 616, 29, 706, 29, 532, 686, 182, 765, 741, 563, 778, 698, 700, 700, 289, 427, 289, 289, 700, 723, 704, 700, 37, 741, 706, 595, 707, 707, 710, 106, 711, 772, 715, 730, 769, 764, 581, 861, 521, 491, 610, 741, 741, 427, 289, 741, 745, 541, 746, 491, 98, 746, 749, 753, 753, 615, 96, 196, 772, 579, 375, 166, 771, 774, 775, 475, 100, 775, 775, 775, 775, 775, 440, 16, 787, 299, 324, 591, 359, 798, 509, 534, 804, 591, 805, 805, 866, 808, 809, 541, 809, 809, 530, 810, 810, 575, 810, 383, 815, 866, 824, 377, 826, 826, 228, 266, 829, 298, 830, 830, 830, 830, 830, 831, 832, 840, 841, 840, 764, 846, 329, 847, 847, 808, 847, 847, 847, 852, 852, 853, 491, 864, 94, 130, 289, 864, 865, 865, 475, 867, 868, 871, 874, 876, 245, 877, 877, 165, 638, 888, 281, 892, 893, 368, 579, 896, 896, 564, 896, 202, 764, 903, 772, 905, 906, 466, 970, 994, 919, 427, 136, 929, 136, 391, 933, 933, 936, 937, 937, 937, 937, 944, 940, 949, 949, 949, 949, 949, 949, 949, 949, 949, 949, 949, 949, 949, 949, 949, 949, 949, 949, 949, 949, 949, 949, 949, 949, 949, 949, 949, 949, 949, 949, 949, 949, 949, 949, 949, 949, 949, 949, 949, 949, 949, 949, 949, 949, 949, 949, 949, 949, 949, 949, 949, 973, 1026, 949, 950, 950, 950, 952, 952, 955, 954, 956, 1026, 248, 832, 977, 534, 994, 243, 1001, 1005, 1031, 1017, 1019, 1020, 275, 1026, 1026, 1028, 1028, 1028, 1029, 1029, 391, 1035]\n",
            "[0, 3, 4, 5, 5, 7, 8, 8, 8, 8, 8, 9, 10, 14, 18, 19, 21, 22, 27, 28, 28, 29, 30, 30, 30, 31, 32, 34, 37, 37, 38, 40, 41, 47, 49, 49, 49, 49, 49, 49, 49, 49, 49, 49, 49, 49, 50, 53, 61, 70, 71, 71, 71, 76, 76, 77, 77, 79, 79, 79, 79, 79, 79, 79, 79, 79, 79, 79, 79, 79, 79, 79, 79, 79, 79, 79, 79, 79, 79, 79, 79, 80, 80, 80, 80, 82, 88, 89, 89, 89, 90, 91, 93, 94, 94, 94, 94, 94, 96, 98, 98, 98, 99, 100, 100, 100, 100, 100, 100, 100, 100, 101, 102, 107, 108, 108, 109, 110, 111, 111, 111, 111, 111, 111, 111, 111, 111, 119, 120, 122, 125, 125, 125, 125, 125, 125, 125, 125, 127, 129, 129, 129, 129, 132, 138, 142, 144, 150, 150, 151, 153, 157, 157, 163, 165, 166, 166, 166, 168, 170, 172, 172, 172, 172, 172, 172, 180, 182, 182, 182, 182, 182, 182, 183, 183, 183, 183, 183, 184, 185, 187, 187, 187, 187, 189, 189, 190, 190, 190, 190, 190, 190, 190, 190, 190, 193, 197, 197, 197, 197, 197, 204, 205, 205, 210, 210, 210, 210, 210, 211, 214, 214, 214, 214, 214, 214, 214, 214, 214, 216, 218, 218, 220, 220, 226, 228, 228, 228, 228, 228, 228, 228, 228, 229, 231, 234, 235, 236, 236, 238, 238, 238, 238, 240, 240, 243, 243, 243, 243, 243, 243, 243, 244, 245, 245, 245, 245, 245, 245, 245, 245, 245, 245, 246, 246, 249, 254, 254, 259, 260, 260, 260, 261, 265, 265, 265, 265, 265, 265, 265, 265, 265, 265, 265, 265, 265, 265, 265, 265, 265, 265, 266, 268, 268, 268, 269, 270, 271, 272, 281, 282, 283, 286, 288, 289, 289, 289, 289, 289, 289, 289, 289, 289, 289, 289, 289, 289, 289, 289, 289, 289, 289, 289, 289, 289, 289, 289, 289, 289, 289, 289, 289, 289, 289, 289, 291, 293, 294, 295, 299, 299, 300, 301, 301, 301, 301, 304, 304, 309, 309, 309, 309, 309, 309, 317, 318, 318, 318, 318, 318, 318, 320, 320, 321, 321, 323, 325, 325, 325, 325, 325, 325, 325, 325, 325, 326, 327, 330, 333, 334, 334, 336, 337, 337, 337, 337, 337, 337, 338, 343, 343, 343, 343, 345, 346, 347, 350, 351, 359, 359, 359, 359, 359, 360, 360, 363, 364, 364, 364, 364, 365, 380, 387, 388, 392, 394, 396, 402, 402, 402, 402, 408, 408, 413, 415, 416, 419, 419, 419, 419, 419, 419, 419, 419, 419, 424, 424, 426, 426, 426, 426, 427, 427, 427, 427, 427, 427, 427, 427, 427, 427, 427, 427, 427, 428, 430, 433, 434, 435, 438, 441, 443, 444, 444, 444, 446, 453, 461, 462, 465, 473, 473, 475, 475, 475, 476, 476, 476, 477, 479, 479, 481, 482, 483, 486, 487, 487, 488, 489, 491, 491, 491, 491, 491, 491, 491, 492, 492, 493, 499, 505, 505, 506, 509, 514, 516, 517, 517, 517, 521, 521, 527, 529, 530, 530, 531, 531, 541, 542, 543, 543, 545, 546, 548, 548, 548, 549, 549, 554, 561, 561, 565, 566, 567, 571, 575, 577, 577, 577, 577, 578, 578, 579, 579, 579, 579, 584, 586, 588, 590, 591, 591, 591, 591, 594, 594, 595, 595, 595, 596, 598, 598, 604, 606, 606, 607, 609, 610, 611, 614, 614, 617, 619, 623, 623, 624, 633, 633, 633, 637, 638, 640, 646, 646, 646, 648, 648, 648, 651, 652, 652, 652, 652, 654, 659, 659, 659, 660, 662, 662, 662, 663, 663, 663, 664, 669, 677, 681, 683, 686, 686, 686, 687, 689, 693, 698, 700, 700, 701, 701, 702, 702, 702, 702, 703, 703, 704, 704, 705, 705, 707, 707, 710, 710, 711, 715, 716, 718, 723, 727, 730, 731, 733, 738, 739, 741, 741, 741, 741, 741, 745, 746, 746, 746, 746, 746, 749, 753, 753, 756, 761, 763, 765, 766, 767, 770, 771, 774, 775, 775, 775, 775, 775, 775, 775, 775, 782, 784, 787, 787, 788, 794, 794, 798, 800, 803, 804, 804, 805, 805, 807, 808, 809, 809, 809, 809, 809, 810, 810, 810, 810, 813, 815, 816, 824, 826, 826, 826, 827, 828, 829, 830, 830, 830, 830, 830, 830, 831, 834, 840, 840, 840, 840, 844, 846, 847, 847, 847, 847, 847, 847, 852, 852, 853, 861, 864, 864, 864, 864, 864, 865, 865, 865, 867, 868, 871, 874, 876, 876, 877, 877, 882, 883, 888, 889, 892, 893, 894, 896, 896, 896, 896, 896, 898, 902, 903, 903, 905, 906, 908, 916, 917, 919, 920, 926, 929, 931, 932, 933, 933, 936, 937, 937, 937, 937, 944, 947, 949, 949, 949, 949, 949, 949, 949, 949, 949, 949, 949, 949, 949, 949, 949, 949, 949, 949, 949, 949, 949, 949, 949, 949, 949, 949, 949, 949, 949, 949, 949, 949, 949, 949, 949, 949, 949, 949, 949, 949, 949, 949, 949, 949, 949, 949, 949, 949, 949, 949, 949, 949, 949, 949, 950, 950, 950, 952, 952, 955, 955, 956, 966, 967, 969, 977, 994, 994, 1000, 1001, 1002, 1011, 1017, 1019, 1020, 1020, 1026, 1026, 1028, 1028, 1028, 1029, 1029, 1030, 1035]\n"
          ],
          "name": "stdout"
        }
      ]
    },
    {
      "cell_type": "code",
      "metadata": {
        "id": "XIC4zufnMxtq",
        "outputId": "dc426739-d968-4069-982b-fb199a08afb6",
        "colab": {
          "base_uri": "https://localhost:8080/",
          "height": 51
        }
      },
      "source": [
        "correct_num = 0\n",
        "\n",
        "for i in range(0, len(standard_list)):\n",
        "  if predict_list[i] == standard_list[i]:\n",
        "    correct_num = correct_num+1\n",
        "  else:\n",
        "    pass\n",
        "print(correct_num)\n",
        "\n",
        "predict_accuracy = correct_num/len(predict_list)\n",
        "print(predict_accuracy)"
      ],
      "execution_count": 47,
      "outputs": [
        {
          "output_type": "stream",
          "text": [
            "485\n",
            "0.5561926605504587\n"
          ],
          "name": "stdout"
        }
      ]
    },
    {
      "cell_type": "code",
      "metadata": {
        "id": "zlKMHp1CIaRJ"
      },
      "source": [
        ""
      ],
      "execution_count": 47,
      "outputs": []
    }
  ]
}