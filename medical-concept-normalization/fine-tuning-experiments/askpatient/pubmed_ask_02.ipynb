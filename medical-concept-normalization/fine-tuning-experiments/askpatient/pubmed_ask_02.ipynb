{
  "nbformat": 4,
  "nbformat_minor": 0,
  "metadata": {
    "accelerator": "TPU",
    "colab": {
      "name": "pubmed_ask_02.ipynb",
      "provenance": [],
      "collapsed_sections": [],
      "include_colab_link": true
    },
    "kernelspec": {
      "display_name": "Python 3",
      "name": "python3"
    }
  },
  "cells": [
    {
      "cell_type": "markdown",
      "metadata": {
        "id": "view-in-github",
        "colab_type": "text"
      },
      "source": [
        "<a href=\"https://colab.research.google.com/github/unt-iialab/medical-concept-normalization/blob/master/medical-concept-normalization/fine-tuning-experiments/askpatient/pubmed_ask_02.ipynb\" target=\"_parent\"><img src=\"https://colab.research.google.com/assets/colab-badge.svg\" alt=\"Open In Colab\"/></a>"
      ]
    },
    {
      "cell_type": "code",
      "metadata": {
        "id": "adSi6i2-dWxy"
      },
      "source": [
        "import os"
      ],
      "execution_count": 1,
      "outputs": []
    },
    {
      "cell_type": "code",
      "metadata": {
        "id": "E7xYCRGPjd9B"
      },
      "source": [
        "base_dir = 'medical-concept-normalization'"
      ],
      "execution_count": 2,
      "outputs": []
    },
    {
      "cell_type": "code",
      "metadata": {
        "id": "yvIW3aUDjYNS"
      },
      "source": [
        "os.mkdir(base_dir)"
      ],
      "execution_count": 3,
      "outputs": []
    },
    {
      "cell_type": "code",
      "metadata": {
        "id": "es-FFLlfk6SG"
      },
      "source": [
        "os.mkdir('medical-concept-normalization/data_collection')"
      ],
      "execution_count": 4,
      "outputs": []
    },
    {
      "cell_type": "markdown",
      "metadata": {
        "id": "0R-Guw_VoJXm"
      },
      "source": [
        "**Install fastai and clone the fastai for text classification**\n",
        "\n"
      ]
    },
    {
      "cell_type": "code",
      "metadata": {
        "id": "QVZa3Z0PmHFH",
        "outputId": "2a2a615c-45d3-47da-f09f-19d8a68b44a9",
        "colab": {
          "base_uri": "https://localhost:8080/"
        }
      },
      "source": [
        "!curl https://course-v3.fast.ai/setup/colab | bash"
      ],
      "execution_count": 5,
      "outputs": [
        {
          "output_type": "stream",
          "text": [
            "  % Total    % Received % Xferd  Average Speed   Time    Time     Time  Current\n",
            "                                 Dload  Upload   Total   Spent    Left  Speed\n",
            "\r  0     0    0     0    0     0      0      0 --:--:-- --:--:-- --:--:--     0curl: (6) Could not resolve host: course-v3.fast.ai\n"
          ],
          "name": "stdout"
        }
      ]
    },
    {
      "cell_type": "code",
      "metadata": {
        "id": "_FBFFEBrmJC0",
        "outputId": "b9c92d79-f339-48a1-c62b-cb1a7841729e",
        "colab": {
          "base_uri": "https://localhost:8080/"
        }
      },
      "source": [
        "!git clone https://github.com/wshuyi/demo-nlp-classification-fastai.git"
      ],
      "execution_count": 6,
      "outputs": [
        {
          "output_type": "stream",
          "text": [
            "Cloning into 'demo-nlp-classification-fastai'...\n",
            "remote: Enumerating objects: 9, done.\u001b[K\n",
            "remote: Total 9 (delta 0), reused 0 (delta 0), pack-reused 9\u001b[K\n",
            "Unpacking objects: 100% (9/9), done.\n"
          ],
          "name": "stdout"
        }
      ]
    },
    {
      "cell_type": "code",
      "metadata": {
        "id": "66zfh_JqmWMU"
      },
      "source": [
        "from fastai import *\n",
        "from fastai.text import *"
      ],
      "execution_count": 7,
      "outputs": []
    },
    {
      "cell_type": "markdown",
      "metadata": {
        "id": "mNIw-yALdBU9"
      },
      "source": [
        "**Set the path of the data collections**"
      ]
    },
    {
      "cell_type": "code",
      "metadata": {
        "id": "pzH7VMh4mqCL"
      },
      "source": [
        "path = Path('medical-concept-normalization/data_collection')"
      ],
      "execution_count": 8,
      "outputs": []
    },
    {
      "cell_type": "code",
      "metadata": {
        "id": "b8fjI6yyn4aS"
      },
      "source": [
        "# training data set\n",
        "\n",
        "train_csv = path/'AskAPatient.fold-2.train.csv'\n",
        "train = pd.read_csv(train_csv, header=None)\n",
        "#train.head()\n",
        "#train.info()"
      ],
      "execution_count": 10,
      "outputs": []
    },
    {
      "cell_type": "code",
      "metadata": {
        "id": "Hmlr-bAorfHd",
        "outputId": "504c9b7d-0671-44f3-d595-9b69e2f2942b",
        "colab": {
          "base_uri": "https://localhost:8080/",
          "height": 204
        }
      },
      "source": [
        "# validating data set\n",
        "\n",
        "valid = pd.read_csv(path/\"AskAPatient.fold-2.validation.csv\",header=None)\n",
        "valid.head()"
      ],
      "execution_count": 11,
      "outputs": [
        {
          "output_type": "execute_result",
          "data": {
            "text/html": [
              "<div>\n",
              "<style scoped>\n",
              "    .dataframe tbody tr th:only-of-type {\n",
              "        vertical-align: middle;\n",
              "    }\n",
              "\n",
              "    .dataframe tbody tr th {\n",
              "        vertical-align: top;\n",
              "    }\n",
              "\n",
              "    .dataframe thead th {\n",
              "        text-align: right;\n",
              "    }\n",
              "</style>\n",
              "<table border=\"1\" class=\"dataframe\">\n",
              "  <thead>\n",
              "    <tr style=\"text-align: right;\">\n",
              "      <th></th>\n",
              "      <th>0</th>\n",
              "      <th>1</th>\n",
              "    </tr>\n",
              "  </thead>\n",
              "  <tbody>\n",
              "    <tr>\n",
              "      <th>0</th>\n",
              "      <td>2</td>\n",
              "      <td>left heel pain</td>\n",
              "    </tr>\n",
              "    <tr>\n",
              "      <th>1</th>\n",
              "      <td>4</td>\n",
              "      <td>Discoloration of skin [blotchy] on the neck</td>\n",
              "    </tr>\n",
              "    <tr>\n",
              "      <th>2</th>\n",
              "      <td>7</td>\n",
              "      <td>goiter</td>\n",
              "    </tr>\n",
              "    <tr>\n",
              "      <th>3</th>\n",
              "      <td>8</td>\n",
              "      <td>arthritis</td>\n",
              "    </tr>\n",
              "    <tr>\n",
              "      <th>4</th>\n",
              "      <td>8</td>\n",
              "      <td>arthritis</td>\n",
              "    </tr>\n",
              "  </tbody>\n",
              "</table>\n",
              "</div>"
            ],
            "text/plain": [
              "   0                                            1\n",
              "0  2                               left heel pain\n",
              "1  4  Discoloration of skin [blotchy] on the neck\n",
              "2  7                                       goiter\n",
              "3  8                                    arthritis\n",
              "4  8                                    arthritis"
            ]
          },
          "metadata": {
            "tags": []
          },
          "execution_count": 11
        }
      ]
    },
    {
      "cell_type": "code",
      "metadata": {
        "id": "cOza9dfSsBud",
        "outputId": "d9e26474-4112-4ea7-9a52-afe48697c55b",
        "colab": {
          "base_uri": "https://localhost:8080/",
          "height": 204
        }
      },
      "source": [
        "# testing data set\n",
        "\n",
        "test = pd.read_csv(path/\"AskAPatient.fold-2.test.csv\",header=None)\n",
        "test.head()"
      ],
      "execution_count": 12,
      "outputs": [
        {
          "output_type": "execute_result",
          "data": {
            "text/html": [
              "<div>\n",
              "<style scoped>\n",
              "    .dataframe tbody tr th:only-of-type {\n",
              "        vertical-align: middle;\n",
              "    }\n",
              "\n",
              "    .dataframe tbody tr th {\n",
              "        vertical-align: top;\n",
              "    }\n",
              "\n",
              "    .dataframe thead th {\n",
              "        text-align: right;\n",
              "    }\n",
              "</style>\n",
              "<table border=\"1\" class=\"dataframe\">\n",
              "  <thead>\n",
              "    <tr style=\"text-align: right;\">\n",
              "      <th></th>\n",
              "      <th>0</th>\n",
              "      <th>1</th>\n",
              "    </tr>\n",
              "  </thead>\n",
              "  <tbody>\n",
              "    <tr>\n",
              "      <th>0</th>\n",
              "      <td>2</td>\n",
              "      <td>right heel pain</td>\n",
              "    </tr>\n",
              "    <tr>\n",
              "      <th>1</th>\n",
              "      <td>4</td>\n",
              "      <td>black and blue marks</td>\n",
              "    </tr>\n",
              "    <tr>\n",
              "      <th>2</th>\n",
              "      <td>8</td>\n",
              "      <td>arthritice</td>\n",
              "    </tr>\n",
              "    <tr>\n",
              "      <th>3</th>\n",
              "      <td>8</td>\n",
              "      <td>arthritis</td>\n",
              "    </tr>\n",
              "    <tr>\n",
              "      <th>4</th>\n",
              "      <td>8</td>\n",
              "      <td>arthritis</td>\n",
              "    </tr>\n",
              "  </tbody>\n",
              "</table>\n",
              "</div>"
            ],
            "text/plain": [
              "   0                     1\n",
              "0  2       right heel pain\n",
              "1  4  black and blue marks\n",
              "2  8            arthritice\n",
              "3  8             arthritis\n",
              "4  8             arthritis"
            ]
          },
          "metadata": {
            "tags": []
          },
          "execution_count": 12
        }
      ]
    },
    {
      "cell_type": "code",
      "metadata": {
        "id": "Vo-YNvVYoaH6",
        "outputId": "88804da5-db75-4860-9ffe-41c9e90b01b3",
        "colab": {
          "base_uri": "https://localhost:8080/",
          "height": 17
        }
      },
      "source": [
        "# Creating DataBunch for language modelling\n",
        "\n",
        "data_lm = TextLMDataBunch.from_csv(path, 'pubmed_ask.csv')"
      ],
      "execution_count": 13,
      "outputs": [
        {
          "output_type": "display_data",
          "data": {
            "text/html": [
              ""
            ],
            "text/plain": [
              "<IPython.core.display.HTML object>"
            ]
          },
          "metadata": {
            "tags": []
          }
        },
        {
          "output_type": "display_data",
          "data": {
            "text/html": [
              ""
            ],
            "text/plain": [
              "<IPython.core.display.HTML object>"
            ]
          },
          "metadata": {
            "tags": []
          }
        }
      ]
    },
    {
      "cell_type": "code",
      "metadata": {
        "id": "qcV-9kMnNLBf"
      },
      "source": [
        ""
      ],
      "execution_count": 13,
      "outputs": []
    },
    {
      "cell_type": "code",
      "metadata": {
        "id": "1ScY9afDsnvE"
      },
      "source": [
        "# Creating DataBunch for classification\n",
        "\n",
        "# data_clas = TextClasDataBunch.from_df(path, train, valid, test, vocab=data_lm.train_ds.vocab, bs=128)"
      ],
      "execution_count": 14,
      "outputs": []
    },
    {
      "cell_type": "code",
      "metadata": {
        "id": "gzrSdQcvey9p",
        "outputId": "d3800498-67a1-4b0c-911e-e0abd0bbe9f8",
        "colab": {
          "base_uri": "https://localhost:8080/",
          "height": 17
        }
      },
      "source": [
        "data_clas = TextClasDataBunch.from_df(path, train, valid, vocab=data_lm.train_ds.vocab, bs=128)"
      ],
      "execution_count": 15,
      "outputs": [
        {
          "output_type": "display_data",
          "data": {
            "text/html": [
              ""
            ],
            "text/plain": [
              "<IPython.core.display.HTML object>"
            ]
          },
          "metadata": {
            "tags": []
          }
        },
        {
          "output_type": "display_data",
          "data": {
            "text/html": [
              ""
            ],
            "text/plain": [
              "<IPython.core.display.HTML object>"
            ]
          },
          "metadata": {
            "tags": []
          }
        }
      ]
    },
    {
      "cell_type": "code",
      "metadata": {
        "id": "MD27Tf0Ke3ou",
        "outputId": "74745dcc-bc8c-442f-d68b-5530801c4490",
        "colab": {
          "base_uri": "https://localhost:8080/",
          "height": 17
        }
      },
      "source": [
        "data_clas.add_test(test,label=0)\n"
      ],
      "execution_count": 16,
      "outputs": [
        {
          "output_type": "display_data",
          "data": {
            "text/html": [
              ""
            ],
            "text/plain": [
              "<IPython.core.display.HTML object>"
            ]
          },
          "metadata": {
            "tags": []
          }
        }
      ]
    },
    {
      "cell_type": "code",
      "metadata": {
        "id": "-dpjnk_rstwk"
      },
      "source": [
        "data_lm.save()\n",
        "data_clas.save()"
      ],
      "execution_count": 17,
      "outputs": []
    },
    {
      "cell_type": "code",
      "metadata": {
        "id": "4OkiJa36sw5s",
        "outputId": "99c616d8-45e1-49a7-be19-b07ade3438bc",
        "colab": {
          "base_uri": "https://localhost:8080/"
        }
      },
      "source": [
        "data_lm.train_ds.vocab.itos"
      ],
      "execution_count": 18,
      "outputs": [
        {
          "output_type": "execute_result",
          "data": {
            "text/plain": [
              "['xxunk',\n",
              " 'xxpad',\n",
              " 'xxbos',\n",
              " 'xxeos',\n",
              " 'xxfld',\n",
              " 'xxmaj',\n",
              " 'xxup',\n",
              " 'xxrep',\n",
              " 'xxwrep',\n",
              " 'pain',\n",
              " 'of',\n",
              " 'the',\n",
              " 'in',\n",
              " 'lipitor',\n",
              " 'and',\n",
              " 'to',\n",
              " 'muscle',\n",
              " 'a',\n",
              " 'diclofenac',\n",
              " 'was',\n",
              " 'with',\n",
              " 'were',\n",
              " 'severe',\n",
              " 'for',\n",
              " 'myalgia',\n",
              " 'lower',\n",
              " 'fatigue',\n",
              " 'my',\n",
              " 'loss',\n",
              " 'cramp',\n",
              " 'weakness',\n",
              " 'limb',\n",
              " 'sodium',\n",
              " 'by',\n",
              " 'on',\n",
              " 'stomach',\n",
              " 'depression',\n",
              " '-',\n",
              " 'back',\n",
              " 'is',\n",
              " 'at',\n",
              " 'patients',\n",
              " 'cramps',\n",
              " 'as',\n",
              " 'gas',\n",
              " 'that',\n",
              " 'upper',\n",
              " 'joint',\n",
              " 'or',\n",
              " 'memory',\n",
              " 'drug',\n",
              " 'leg',\n",
              " 'mg',\n",
              " 'pains',\n",
              " 'legs',\n",
              " 'knee',\n",
              " 'headache',\n",
              " 'from',\n",
              " 'unable',\n",
              " 'shoulder',\n",
              " 'group',\n",
              " 'not',\n",
              " 'arthralgia',\n",
              " 'study',\n",
              " 'treatment',\n",
              " 'neck',\n",
              " 'gastrointestinal',\n",
              " 'this',\n",
              " 'all',\n",
              " 'foot',\n",
              " 'excessive',\n",
              " 'arthritis',\n",
              " 'aches',\n",
              " 'after',\n",
              " 'hip',\n",
              " 'voltaren',\n",
              " 'numbness',\n",
              " 'arthrotec',\n",
              " 'disease',\n",
              " 'insomnia',\n",
              " 'p',\n",
              " 'increased',\n",
              " '/',\n",
              " 'release',\n",
              " 'both',\n",
              " 'nausea',\n",
              " 'abdominal',\n",
              " 'bleeding',\n",
              " 'walk',\n",
              " 'swelling',\n",
              " 'dizziness',\n",
              " 'heart',\n",
              " 'an',\n",
              " 'asthenia',\n",
              " 'feeling',\n",
              " 'be',\n",
              " 'skin',\n",
              " 'like',\n",
              " 'tired',\n",
              " 'no',\n",
              " 'walking',\n",
              " 'than',\n",
              " 'high',\n",
              " 'difficulty',\n",
              " 'problems',\n",
              " 'time',\n",
              " 'feet',\n",
              " 'muscles',\n",
              " 'are',\n",
              " 'blood',\n",
              " 'cholesterol',\n",
              " 'hand',\n",
              " 'effect',\n",
              " 'compared',\n",
              " 'acid',\n",
              " 'burning',\n",
              " 'backache',\n",
              " 'inflammatory',\n",
              " 'zocor',\n",
              " 'low',\n",
              " 'hair',\n",
              " 'extreme',\n",
              " 'vision',\n",
              " 'stiffness',\n",
              " 'chest',\n",
              " 'liver',\n",
              " 'ache',\n",
              " 'could',\n",
              " 'very',\n",
              " 'weight',\n",
              " 'effects',\n",
              " 'i',\n",
              " 'using',\n",
              " 'pins',\n",
              " 'needles',\n",
              " 'groups',\n",
              " 'sleep',\n",
              " 'cramping',\n",
              " 'diarrhoea',\n",
              " 'significantly',\n",
              " 'amnesia',\n",
              " 'significant',\n",
              " 'between',\n",
              " 'two',\n",
              " 'drugs',\n",
              " 'h',\n",
              " 'impairment',\n",
              " 'anti',\n",
              " 'left',\n",
              " 'calf',\n",
              " 'potassium',\n",
              " 'disability',\n",
              " 'concentration',\n",
              " 'c',\n",
              " 'up',\n",
              " 'tingling',\n",
              " 'can',\n",
              " 'symptom',\n",
              " 'anxiety',\n",
              " 'used',\n",
              " 'which',\n",
              " 'term',\n",
              " 'short',\n",
              " 'stiff',\n",
              " 'lack',\n",
              " 'pressure',\n",
              " 'placebo',\n",
              " 'day',\n",
              " 'these',\n",
              " 'dose',\n",
              " 'bloating',\n",
              " 'constipation',\n",
              " 'results',\n",
              " 'efficacy',\n",
              " 'had',\n",
              " 'it',\n",
              " 'one',\n",
              " 'poor',\n",
              " 'have',\n",
              " 'reduced',\n",
              " 'more',\n",
              " 'ds',\n",
              " 'arm',\n",
              " 'headaches',\n",
              " 'has',\n",
              " 'hands',\n",
              " 'arms',\n",
              " 'acute',\n",
              " 'visual',\n",
              " 'disorder',\n",
              " 'body',\n",
              " 'treated',\n",
              " 'neuropathy',\n",
              " 'blurred',\n",
              " 'we',\n",
              " 'ml',\n",
              " 'sore',\n",
              " 'balance',\n",
              " 'days',\n",
              " 'showed',\n",
              " 'ankle',\n",
              " 'also',\n",
              " 'tiredness',\n",
              " 'over',\n",
              " 'renal',\n",
              " 'joints',\n",
              " 'topical',\n",
              " 'serum',\n",
              " 'but',\n",
              " 'administration',\n",
              " 'pravachol',\n",
              " 'oral',\n",
              " 'sensation',\n",
              " 'myocardial',\n",
              " 'different',\n",
              " 'rats',\n",
              " 'infarction',\n",
              " 'been',\n",
              " 'studies',\n",
              " 'control',\n",
              " 'vaginal',\n",
              " 'myositis',\n",
              " 'itching',\n",
              " 'rash',\n",
              " 'vertigo',\n",
              " 'generalised',\n",
              " 'decreased',\n",
              " 'painful',\n",
              " 'into',\n",
              " 'respectively',\n",
              " 'diabetes',\n",
              " 'hurt',\n",
              " 'rate',\n",
              " 'atorvastatin',\n",
              " 'during',\n",
              " 'swollen',\n",
              " 'non',\n",
              " ',',\n",
              " 's',\n",
              " 'when',\n",
              " 'attack',\n",
              " 'upset',\n",
              " 'gel',\n",
              " 'energy',\n",
              " 'atrophy',\n",
              " 'constant',\n",
              " 'clinical',\n",
              " 'out',\n",
              " 'induced',\n",
              " \"'s\",\n",
              " 'well',\n",
              " 'mentally',\n",
              " 'levels',\n",
              " 'diarrhea',\n",
              " 'nsaids',\n",
              " 'formulations',\n",
              " 'ubidecarenone',\n",
              " 'plasma',\n",
              " 'there',\n",
              " ')',\n",
              " 'use',\n",
              " 'method',\n",
              " 'gain',\n",
              " 'their',\n",
              " 'tablets',\n",
              " 'formulation',\n",
              " 'dry',\n",
              " 'damage',\n",
              " 'right',\n",
              " 'may',\n",
              " 'syndrome',\n",
              " 'effective',\n",
              " 'urine',\n",
              " 'illness',\n",
              " 'mean',\n",
              " 'found',\n",
              " 'period',\n",
              " 'observed',\n",
              " 'g',\n",
              " 'eye',\n",
              " 'raised',\n",
              " 'hazy',\n",
              " 'shoulders',\n",
              " 'elbow',\n",
              " 'solution',\n",
              " \"n't\",\n",
              " 'three',\n",
              " '(',\n",
              " 'type',\n",
              " 'symptoms',\n",
              " 'n',\n",
              " 'influenza',\n",
              " 'movement',\n",
              " 'ph',\n",
              " 'other',\n",
              " 'spasm',\n",
              " 'its',\n",
              " 'analysis',\n",
              " 'received',\n",
              " 'elevated',\n",
              " 'crestor',\n",
              " 'weak',\n",
              " 'kg',\n",
              " 'present',\n",
              " 'ibuprofen',\n",
              " 'kidney',\n",
              " 'chronic',\n",
              " 'dull',\n",
              " 'discomfort',\n",
              " 'adverse',\n",
              " 'tablet',\n",
              " 'hours',\n",
              " 'abnormal',\n",
              " 'sleeping',\n",
              " 'm',\n",
              " 'spasms',\n",
              " 'tendonitis',\n",
              " 'knees',\n",
              " 'heavy',\n",
              " 'toe',\n",
              " 'exhaustion',\n",
              " 'vitro',\n",
              " 'libido',\n",
              " 'controlled',\n",
              " 'activity',\n",
              " 'level',\n",
              " 'side',\n",
              " 'vomiting',\n",
              " 'flatulence',\n",
              " 'analgesic',\n",
              " 'function',\n",
              " 'each',\n",
              " 'myopathy',\n",
              " 'system',\n",
              " 'd',\n",
              " 'bad',\n",
              " 'reflux',\n",
              " 'total',\n",
              " 'mood',\n",
              " 'less',\n",
              " 'increase',\n",
              " 'irritable',\n",
              " 'migraine',\n",
              " 'feel',\n",
              " 'first',\n",
              " 'l',\n",
              " 'however',\n",
              " 'concentrate',\n",
              " 'inflammation',\n",
              " 'data',\n",
              " 'throat',\n",
              " 'randomized',\n",
              " 'bed',\n",
              " 'injury',\n",
              " 'similar',\n",
              " 'daily',\n",
              " 'patient',\n",
              " 'single',\n",
              " 'flu',\n",
              " 'thigh',\n",
              " 'get',\n",
              " 'concentrations',\n",
              " 'sclerosis',\n",
              " 'b',\n",
              " 'test',\n",
              " 'fibromyalgia',\n",
              " 'evaluated',\n",
              " 'following',\n",
              " 'cold',\n",
              " 'model',\n",
              " 'problem',\n",
              " 'osteoarthritis',\n",
              " 'multiple',\n",
              " 'disturbance',\n",
              " 'simvastatin',\n",
              " 'mellitus',\n",
              " 'nsaid',\n",
              " 'based',\n",
              " 'mild',\n",
              " 'obtained',\n",
              " 'did',\n",
              " 'weeks',\n",
              " 'eyes',\n",
              " 'higher',\n",
              " 'changes',\n",
              " 'only',\n",
              " 'malaise',\n",
              " 'double',\n",
              " 'sweating',\n",
              " 'water',\n",
              " 'postoperative',\n",
              " 'lightheadedness',\n",
              " 't',\n",
              " 'combination',\n",
              " 'impaired',\n",
              " 'surgery',\n",
              " 'most',\n",
              " 'menstrual',\n",
              " 'wind',\n",
              " 'cells',\n",
              " 'hips',\n",
              " 'therapy',\n",
              " 'due',\n",
              " 'before',\n",
              " 'so',\n",
              " 'cell',\n",
              " 'dissolution',\n",
              " 'difference',\n",
              " 'confusion',\n",
              " 'soreness',\n",
              " 'blind',\n",
              " 'under',\n",
              " 'failure',\n",
              " 'oil',\n",
              " 'peripheral',\n",
              " 'week',\n",
              " 'tremor',\n",
              " 'those',\n",
              " 'ezetimibe',\n",
              " 'while',\n",
              " 'appetite',\n",
              " 'associated',\n",
              " 'infection',\n",
              " 'swings',\n",
              " 'head',\n",
              " 'esters',\n",
              " 'aching',\n",
              " 'doses',\n",
              " 'application',\n",
              " 'finger',\n",
              " 'trial',\n",
              " 'general',\n",
              " 'tinnitus',\n",
              " 'celebrex',\n",
              " 'nonsteroidal',\n",
              " 'administered',\n",
              " 'e',\n",
              " 'min',\n",
              " 'performed',\n",
              " 'rheumatoid',\n",
              " 'brain',\n",
              " 'studied',\n",
              " 'charleyhorse',\n",
              " 'years',\n",
              " 'times',\n",
              " 'calves',\n",
              " 'gastric',\n",
              " 'events',\n",
              " 'reported',\n",
              " 'off',\n",
              " 'stairs',\n",
              " 'toes',\n",
              " 'differences',\n",
              " 'x',\n",
              " 'conditions',\n",
              " 'area',\n",
              " 'prepared',\n",
              " 'values',\n",
              " 'four',\n",
              " 'ascorbic',\n",
              " 'coated',\n",
              " 'relief',\n",
              " 'stress',\n",
              " 'developed',\n",
              " 'swallowing',\n",
              " 'who',\n",
              " 'either',\n",
              " 'change',\n",
              " 'new',\n",
              " 'tendon',\n",
              " 'given',\n",
              " 'urinary',\n",
              " 'paracetamol',\n",
              " 'excruciating',\n",
              " 'response',\n",
              " 'w',\n",
              " 'assessed',\n",
              " 'vs',\n",
              " 'paraesthesia',\n",
              " 'ankles',\n",
              " 'subjects',\n",
              " 'absorption',\n",
              " 'reduction',\n",
              " 'parkinson',\n",
              " 'containing',\n",
              " 'heel',\n",
              " 'motivation',\n",
              " 'restless',\n",
              " 'parameters',\n",
              " 'face',\n",
              " 'v',\n",
              " 'intense',\n",
              " 'investigated',\n",
              " 'indigestion',\n",
              " 'strength',\n",
              " 'post',\n",
              " 'dyspnoea',\n",
              " 'auc',\n",
              " 'within',\n",
              " 'ca',\n",
              " 'order',\n",
              " 'dark',\n",
              " 'range',\n",
              " 'phase',\n",
              " 'rapid',\n",
              " 'cough',\n",
              " 'enzymes',\n",
              " 'oa',\n",
              " 'ratio',\n",
              " 'measured',\n",
              " 'they',\n",
              " 'felt',\n",
              " 'delivery',\n",
              " 'such',\n",
              " 'lateral',\n",
              " 'evaluate',\n",
              " 'lupus',\n",
              " 'injection',\n",
              " 'through',\n",
              " 'safety',\n",
              " 'statistically',\n",
              " 'depressed',\n",
              " 'hot',\n",
              " 'palpitations',\n",
              " 'steroidal',\n",
              " 'taste',\n",
              " 'indomethacin',\n",
              " 'scale',\n",
              " 'down',\n",
              " 'properties',\n",
              " 'nerve',\n",
              " 'k',\n",
              " 'decrease',\n",
              " 'vitamin',\n",
              " 'healthy',\n",
              " 'mm',\n",
              " 'night',\n",
              " 'breathing',\n",
              " 'twitch',\n",
              " 'applied',\n",
              " 'speech',\n",
              " 'active',\n",
              " 'fingers',\n",
              " 'without',\n",
              " 'form',\n",
              " 'liquid',\n",
              " 'compare',\n",
              " 'dreams',\n",
              " 'samples',\n",
              " 'number',\n",
              " 'vivo',\n",
              " 'ng',\n",
              " 'potential',\n",
              " 'gout',\n",
              " 'bone',\n",
              " 'included',\n",
              " 'limbs',\n",
              " 'drowsy',\n",
              " 'aqueous',\n",
              " 'edema',\n",
              " 'any',\n",
              " 'moderate',\n",
              " 'determined',\n",
              " 'therapeutic',\n",
              " 'size',\n",
              " 'medication',\n",
              " 'tightness',\n",
              " 'primary',\n",
              " 'major',\n",
              " 'menopause',\n",
              " 'minutes',\n",
              " 'overall',\n",
              " 'ulcer',\n",
              " 'terrible',\n",
              " 'clearly',\n",
              " 'reaction',\n",
              " 'tissue',\n",
              " 'baseline',\n",
              " 'scores',\n",
              " 'normal',\n",
              " 'ii',\n",
              " 'tolerability',\n",
              " 'fish',\n",
              " 'colic',\n",
              " 'greater',\n",
              " 'provoked',\n",
              " 'fever',\n",
              " 'related',\n",
              " 'nasal',\n",
              " 'co',\n",
              " 'sustained',\n",
              " 'addition',\n",
              " 'our',\n",
              " 'good',\n",
              " 'creatinine',\n",
              " 'sinus',\n",
              " 'misoprostol',\n",
              " 'twitching',\n",
              " 'products',\n",
              " 'human',\n",
              " 'light',\n",
              " 'ability',\n",
              " 'fenofibrate',\n",
              " 'wrist',\n",
              " 'demonstrated',\n",
              " 'heartburn',\n",
              " 'per',\n",
              " 'coq10',\n",
              " 'tract',\n",
              " 'mouth',\n",
              " 'mice',\n",
              " 'trouble',\n",
              " 'mobility',\n",
              " 'exercise',\n",
              " 'aspirin',\n",
              " 'every',\n",
              " 'breath',\n",
              " 'better',\n",
              " 'bioavailability',\n",
              " 'advil',\n",
              " 'uterine',\n",
              " 'tylenol',\n",
              " 'revealed',\n",
              " 'polymer',\n",
              " 'horses',\n",
              " 'cox',\n",
              " 'think',\n",
              " 'fog',\n",
              " 'complex',\n",
              " 'always',\n",
              " 'na',\n",
              " 'thighs',\n",
              " 'inhibition',\n",
              " 'bowel',\n",
              " 'action',\n",
              " 'matrix',\n",
              " 'development',\n",
              " 'amyotrophic',\n",
              " 'move',\n",
              " 'aim',\n",
              " 'free',\n",
              " 'dependent',\n",
              " 'some',\n",
              " 'inhibitor',\n",
              " 'alone',\n",
              " 'improvement',\n",
              " 'o',\n",
              " 'me',\n",
              " 'end',\n",
              " 'risk',\n",
              " 'about',\n",
              " 'process',\n",
              " 'dosage',\n",
              " 'although',\n",
              " 'being',\n",
              " 'rat',\n",
              " 'lethargy',\n",
              " 'treatments',\n",
              " 'volunteers',\n",
              " 'presence',\n",
              " 'intensity',\n",
              " 'animals',\n",
              " 'charley',\n",
              " 'finding',\n",
              " 'mechanism',\n",
              " 'coronary',\n",
              " 'generally',\n",
              " 'permeation',\n",
              " 'tolerance',\n",
              " 'cerebrovascular',\n",
              " 'physical',\n",
              " 'various',\n",
              " 'male',\n",
              " 'sharp',\n",
              " 'plantar',\n",
              " 'followed',\n",
              " 'initial',\n",
              " 'shown',\n",
              " 'aleve',\n",
              " 'facial',\n",
              " 'alpha',\n",
              " 'cancer',\n",
              " 'surface',\n",
              " 'score',\n",
              " 'elbows',\n",
              " 'pulse',\n",
              " 'cm',\n",
              " 'trials',\n",
              " 'content',\n",
              " 'agent',\n",
              " 'available',\n",
              " 'accident',\n",
              " 'tight',\n",
              " 'protein',\n",
              " 'long',\n",
              " 'further',\n",
              " '+',\n",
              " 'randomly',\n",
              " 'attacks',\n",
              " 'same',\n",
              " 'including',\n",
              " 'indicated',\n",
              " 'peak',\n",
              " 'fast',\n",
              " 'cases',\n",
              " 'tricor',\n",
              " 'whereas',\n",
              " 'fatigued',\n",
              " 'exposure',\n",
              " 'moody',\n",
              " 'onset',\n",
              " 'ringing',\n",
              " 'formation',\n",
              " 'suggest',\n",
              " 'ms',\n",
              " 'congestion',\n",
              " 'loose',\n",
              " 'standard',\n",
              " 'case',\n",
              " 'months',\n",
              " 'hour',\n",
              " 'vas',\n",
              " 'hypertension',\n",
              " 'six',\n",
              " 'pharmaceutical',\n",
              " 'oedema',\n",
              " 'numb',\n",
              " 'versus',\n",
              " 'getting',\n",
              " 'corneal',\n",
              " 'malignant',\n",
              " 'divided',\n",
              " 'nervous',\n",
              " 'hardly',\n",
              " 'pharmacokinetic',\n",
              " 'local',\n",
              " 'f',\n",
              " 'conducted',\n",
              " 'evaluation',\n",
              " 'agents',\n",
              " 'should',\n",
              " 'rhabdomyolysis',\n",
              " 'liptor',\n",
              " 'combined',\n",
              " 'sugar',\n",
              " 'age',\n",
              " 'naproxen',\n",
              " 'profile',\n",
              " 'zetia',\n",
              " 'then',\n",
              " 'relative',\n",
              " 'product',\n",
              " 'density',\n",
              " 'deep',\n",
              " 'irregular',\n",
              " 'stamina',\n",
              " 'experimental',\n",
              " 'drive',\n",
              " 'barely',\n",
              " 'improved',\n",
              " 'achieved',\n",
              " 'natural',\n",
              " 'de',\n",
              " 'fluid',\n",
              " 'determine',\n",
              " 'tolerated',\n",
              " 'vehicle',\n",
              " 'cmax',\n",
              " 'ethyl',\n",
              " 'periods',\n",
              " 'shortness',\n",
              " 'ldl',\n",
              " 'amount',\n",
              " 'panic',\n",
              " 'enteric',\n",
              " 'frequent',\n",
              " 'plus',\n",
              " 'extremity',\n",
              " 'flushing',\n",
              " 'cd',\n",
              " 'resulted',\n",
              " 'comparison',\n",
              " 'assessment',\n",
              " 'pruritus',\n",
              " 'sex',\n",
              " 'fasciitis',\n",
              " 'lost',\n",
              " 'sick',\n",
              " 'prednisone',\n",
              " 'dizzy',\n",
              " 'growth',\n",
              " 'production',\n",
              " 'beads',\n",
              " 'slurred',\n",
              " 'extremely',\n",
              " 'mental',\n",
              " 'patch',\n",
              " 'tested',\n",
              " 'lesions',\n",
              " 'sensations',\n",
              " 'complete',\n",
              " 'quality',\n",
              " 'evidence',\n",
              " '3',\n",
              " 'synthesis',\n",
              " 'gi',\n",
              " 'reference',\n",
              " 'global',\n",
              " 'region',\n",
              " 'strain',\n",
              " 'ear',\n",
              " 'started',\n",
              " 'norvasc',\n",
              " 'diabetic',\n",
              " 'participants',\n",
              " 'analgesia',\n",
              " 'caused',\n",
              " 'erythematosus',\n",
              " 'eczema',\n",
              " 'microspheres',\n",
              " 'degrees',\n",
              " 'produced',\n",
              " 'morning',\n",
              " 'medium',\n",
              " 'looks',\n",
              " 'systemic',\n",
              " 'pre',\n",
              " 'hunger',\n",
              " 'preparation',\n",
              " 'thoughts',\n",
              " 'ci',\n",
              " 'secondary',\n",
              " 'investigate',\n",
              " 'five',\n",
              " 'among',\n",
              " 'duration',\n",
              " 'bp',\n",
              " 'achilles',\n",
              " 'temperature',\n",
              " 'capsules',\n",
              " 'solid',\n",
              " 'hypersomnia',\n",
              " 'codeine',\n",
              " 'review',\n",
              " 'once',\n",
              " 'rofecoxib',\n",
              " 'neurontin',\n",
              " 'central',\n",
              " 'retention',\n",
              " 'efficiency',\n",
              " 'respiratory',\n",
              " 'carried',\n",
              " 'sensitivity',\n",
              " 'profiles',\n",
              " 'increasing',\n",
              " 'als',\n",
              " 'according',\n",
              " 'maximum',\n",
              " 'stroke',\n",
              " 'tension',\n",
              " 'th',\n",
              " 'ocular',\n",
              " 'even',\n",
              " 'inability',\n",
              " 'scalp',\n",
              " 'common',\n",
              " 'show',\n",
              " 'mass',\n",
              " 'cataflam',\n",
              " 'aptyalism',\n",
              " 'forgetful',\n",
              " 'lipoprotein',\n",
              " 'care',\n",
              " 'film',\n",
              " 'sensitive',\n",
              " 'thus',\n",
              " 'microg',\n",
              " 'considered',\n",
              " 'examined',\n",
              " 'third',\n",
              " 'experienced',\n",
              " 'inhibited',\n",
              " 'because',\n",
              " 'interaction',\n",
              " 'least',\n",
              " 'prostaglandin',\n",
              " 'around',\n",
              " 'technique',\n",
              " 'rectal',\n",
              " 'saline',\n",
              " 'diffusion',\n",
              " 'cataract',\n",
              " 'models',\n",
              " 'calcium',\n",
              " 'intramuscular',\n",
              " 'second',\n",
              " 'bursitis',\n",
              " ':',\n",
              " 'sweats',\n",
              " 'phosphate',\n",
              " 'flow',\n",
              " 'commercial',\n",
              " 'findings',\n",
              " 'condition',\n",
              " 'volume',\n",
              " 'cpk',\n",
              " 'vascular',\n",
              " 'state',\n",
              " 'spasmodic',\n",
              " 'determination',\n",
              " 'receiving',\n",
              " 'rates',\n",
              " 'menorrhagia',\n",
              " 'structure',\n",
              " 'erythema',\n",
              " 'pellets',\n",
              " 'design',\n",
              " 'tachycardia',\n",
              " 'superior',\n",
              " 'extent',\n",
              " 'self',\n",
              " 'food',\n",
              " 'venous',\n",
              " 'abdomen',\n",
              " 'itchy',\n",
              " 'lopid',\n",
              " 'assess',\n",
              " 'medications',\n",
              " 'novel',\n",
              " 'old',\n",
              " 'incidence',\n",
              " 'beta',\n",
              " 'confidence',\n",
              " 'omega-3-acid',\n",
              " 'esters-90',\n",
              " 'slight',\n",
              " 'detection',\n",
              " 'several',\n",
              " 'if',\n",
              " 'palsy',\n",
              " 'affected',\n",
              " 'morphine',\n",
              " 'specific',\n",
              " 'whether',\n",
              " 'stool',\n",
              " 'little',\n",
              " 'influence',\n",
              " 'dysfunction',\n",
              " 'value',\n",
              " 'asthma',\n",
              " 'unwell',\n",
              " 'hepatic',\n",
              " 'year',\n",
              " 'possible',\n",
              " 'taking',\n",
              " 'comparable',\n",
              " 'buffer',\n",
              " 'provided',\n",
              " 'limping',\n",
              " 'do',\n",
              " 'horrible',\n",
              " 'dic',\n",
              " 'lipid',\n",
              " 'tissues',\n",
              " 'hplc',\n",
              " 'arthritic',\n",
              " 'indicate',\n",
              " 'therefore',\n",
              " 'degree',\n",
              " 'drops',\n",
              " 'expression',\n",
              " 'intestinal',\n",
              " 'methods',\n",
              " 'early',\n",
              " 'cardiovascular',\n",
              " 'bell',\n",
              " 'objective',\n",
              " 'foggy',\n",
              " 'characterized',\n",
              " 'nm',\n",
              " 'against',\n",
              " 'transient',\n",
              " 'just',\n",
              " 'difficult',\n",
              " 'ketorolac',\n",
              " 'slow',\n",
              " 'across',\n",
              " 'index',\n",
              " 'membrane',\n",
              " 'current',\n",
              " 'faster',\n",
              " 'analyzed',\n",
              " 'gait',\n",
              " 'ears',\n",
              " 'hurts',\n",
              " 'clinically',\n",
              " 'celecoxib',\n",
              " 'would',\n",
              " 'loaded',\n",
              " 'responses',\n",
              " ...]"
            ]
          },
          "metadata": {
            "tags": []
          },
          "execution_count": 18
        }
      ]
    },
    {
      "cell_type": "code",
      "metadata": {
        "id": "yPWr03mls3VT",
        "outputId": "86fa1252-3115-4e73-c7ce-da8754047e2c",
        "colab": {
          "base_uri": "https://localhost:8080/",
          "height": 17
        }
      },
      "source": [
        "model_path = path/'models'\n",
        "model_path.mkdir(exist_ok=True)\n",
        "url = 'http://files.fast.ai/models/wt103_v1/'\n",
        "download_url(f'{url}lstm_wt103.pth', model_path/'lstm_wt103.pth')\n",
        "download_url(f'{url}itos_wt103.pkl', model_path/'itos_wt103.pkl')"
      ],
      "execution_count": 19,
      "outputs": [
        {
          "output_type": "display_data",
          "data": {
            "text/html": [
              ""
            ],
            "text/plain": [
              "<IPython.core.display.HTML object>"
            ]
          },
          "metadata": {
            "tags": []
          }
        },
        {
          "output_type": "display_data",
          "data": {
            "text/html": [
              ""
            ],
            "text/plain": [
              "<IPython.core.display.HTML object>"
            ]
          },
          "metadata": {
            "tags": []
          }
        }
      ]
    },
    {
      "cell_type": "code",
      "metadata": {
        "id": "JRzvWg8RtGGr",
        "outputId": "fe9113ec-64d6-4a78-c4a6-99a2609494e9",
        "colab": {
          "base_uri": "https://localhost:8080/",
          "height": 34
        }
      },
      "source": [
        "learn = language_model_learner(data_lm, AWD_LSTM, drop_mult=0.5)"
      ],
      "execution_count": 20,
      "outputs": [
        {
          "output_type": "stream",
          "text": [
            "Downloading https://s3.amazonaws.com/fast-ai-modelzoo/wt103-fwd.tgz\n"
          ],
          "name": "stdout"
        },
        {
          "output_type": "display_data",
          "data": {
            "text/html": [
              ""
            ],
            "text/plain": [
              "<IPython.core.display.HTML object>"
            ]
          },
          "metadata": {
            "tags": []
          }
        }
      ]
    },
    {
      "cell_type": "code",
      "metadata": {
        "id": "xKK7GeBev7Xn",
        "outputId": "1eff32b9-1123-4e0b-dcc6-e0b52c12852c",
        "colab": {
          "base_uri": "https://localhost:8080/",
          "height": 80
        }
      },
      "source": [
        "learn.fit_one_cycle(1, 1e-2)"
      ],
      "execution_count": 21,
      "outputs": [
        {
          "output_type": "display_data",
          "data": {
            "text/html": [
              "<table border=\"1\" class=\"dataframe\">\n",
              "  <thead>\n",
              "    <tr style=\"text-align: left;\">\n",
              "      <th>epoch</th>\n",
              "      <th>train_loss</th>\n",
              "      <th>valid_loss</th>\n",
              "      <th>accuracy</th>\n",
              "      <th>time</th>\n",
              "    </tr>\n",
              "  </thead>\n",
              "  <tbody>\n",
              "    <tr>\n",
              "      <td>0</td>\n",
              "      <td>3.775346</td>\n",
              "      <td>3.375697</td>\n",
              "      <td>0.458228</td>\n",
              "      <td>28:20</td>\n",
              "    </tr>\n",
              "  </tbody>\n",
              "</table>"
            ],
            "text/plain": [
              "<IPython.core.display.HTML object>"
            ]
          },
          "metadata": {
            "tags": []
          }
        }
      ]
    },
    {
      "cell_type": "code",
      "metadata": {
        "id": "iB7rHGQCwd12"
      },
      "source": [
        "# learn.fit_one_cycle(1, 1e-2)"
      ],
      "execution_count": 22,
      "outputs": []
    },
    {
      "cell_type": "code",
      "metadata": {
        "id": "_BnSuAeCwkBe"
      },
      "source": [
        "# learn.fit_one_cycle(1, 1e-3)"
      ],
      "execution_count": 23,
      "outputs": []
    },
    {
      "cell_type": "code",
      "metadata": {
        "id": "MuTm-RFjwrEX",
        "outputId": "573913b4-2fc2-4853-d6c4-79b4198f51b0",
        "colab": {
          "base_uri": "https://localhost:8080/",
          "height": 80
        }
      },
      "source": [
        "learn.fit_one_cycle(1, 1e-3)"
      ],
      "execution_count": 24,
      "outputs": [
        {
          "output_type": "display_data",
          "data": {
            "text/html": [
              "<table border=\"1\" class=\"dataframe\">\n",
              "  <thead>\n",
              "    <tr style=\"text-align: left;\">\n",
              "      <th>epoch</th>\n",
              "      <th>train_loss</th>\n",
              "      <th>valid_loss</th>\n",
              "      <th>accuracy</th>\n",
              "      <th>time</th>\n",
              "    </tr>\n",
              "  </thead>\n",
              "  <tbody>\n",
              "    <tr>\n",
              "      <td>0</td>\n",
              "      <td>3.411533</td>\n",
              "      <td>3.316198</td>\n",
              "      <td>0.462957</td>\n",
              "      <td>28:17</td>\n",
              "    </tr>\n",
              "  </tbody>\n",
              "</table>"
            ],
            "text/plain": [
              "<IPython.core.display.HTML object>"
            ]
          },
          "metadata": {
            "tags": []
          }
        }
      ]
    },
    {
      "cell_type": "code",
      "metadata": {
        "id": "1Er2ExO8wr7Y"
      },
      "source": [
        "learn.save_encoder('pubmed_ask_fold2_first')"
      ],
      "execution_count": 25,
      "outputs": []
    },
    {
      "cell_type": "code",
      "metadata": {
        "id": "z52cZs2qwvad",
        "outputId": "8b4fe9a1-0ec1-48bc-81a3-dc9cd0e0e950",
        "colab": {
          "base_uri": "https://localhost:8080/",
          "height": 80
        }
      },
      "source": [
        "learn = text_classifier_learner(data_clas,AWD_LSTM, drop_mult=0.5)\n",
        "learn.load_encoder('pubmed_ask_fold2_first')\n",
        "learn.fit_one_cycle(1, 1e-2)"
      ],
      "execution_count": 26,
      "outputs": [
        {
          "output_type": "display_data",
          "data": {
            "text/html": [
              "<table border=\"1\" class=\"dataframe\">\n",
              "  <thead>\n",
              "    <tr style=\"text-align: left;\">\n",
              "      <th>epoch</th>\n",
              "      <th>train_loss</th>\n",
              "      <th>valid_loss</th>\n",
              "      <th>accuracy</th>\n",
              "      <th>time</th>\n",
              "    </tr>\n",
              "  </thead>\n",
              "  <tbody>\n",
              "    <tr>\n",
              "      <td>0</td>\n",
              "      <td>3.966304</td>\n",
              "      <td>3.454260</td>\n",
              "      <td>0.378628</td>\n",
              "      <td>01:08</td>\n",
              "    </tr>\n",
              "  </tbody>\n",
              "</table>"
            ],
            "text/plain": [
              "<IPython.core.display.HTML object>"
            ]
          },
          "metadata": {
            "tags": []
          }
        }
      ]
    },
    {
      "cell_type": "code",
      "metadata": {
        "id": "ImwQP1PJwzxd",
        "outputId": "1fd8b45b-2685-4743-fa67-da7addb6ae81",
        "colab": {
          "base_uri": "https://localhost:8080/",
          "height": 80
        }
      },
      "source": [
        "learn.freeze_to(-2)\n",
        "learn.fit_one_cycle(1, slice(5e-3/2., 5e-3))"
      ],
      "execution_count": 27,
      "outputs": [
        {
          "output_type": "display_data",
          "data": {
            "text/html": [
              "<table border=\"1\" class=\"dataframe\">\n",
              "  <thead>\n",
              "    <tr style=\"text-align: left;\">\n",
              "      <th>epoch</th>\n",
              "      <th>train_loss</th>\n",
              "      <th>valid_loss</th>\n",
              "      <th>accuracy</th>\n",
              "      <th>time</th>\n",
              "    </tr>\n",
              "  </thead>\n",
              "  <tbody>\n",
              "    <tr>\n",
              "      <td>0</td>\n",
              "      <td>2.923779</td>\n",
              "      <td>2.870350</td>\n",
              "      <td>0.547493</td>\n",
              "      <td>01:19</td>\n",
              "    </tr>\n",
              "  </tbody>\n",
              "</table>"
            ],
            "text/plain": [
              "<IPython.core.display.HTML object>"
            ]
          },
          "metadata": {
            "tags": []
          }
        }
      ]
    },
    {
      "cell_type": "code",
      "metadata": {
        "id": "Owff_BJXw53u",
        "outputId": "e4ed14df-e189-4fd1-dbf9-08237e82e9d8",
        "colab": {
          "base_uri": "https://localhost:8080/",
          "height": 80
        }
      },
      "source": [
        "learn.unfreeze()\n",
        "learn.fit_one_cycle(1, slice(2e-3/100, 2e-3))"
      ],
      "execution_count": 28,
      "outputs": [
        {
          "output_type": "display_data",
          "data": {
            "text/html": [
              "<table border=\"1\" class=\"dataframe\">\n",
              "  <thead>\n",
              "    <tr style=\"text-align: left;\">\n",
              "      <th>epoch</th>\n",
              "      <th>train_loss</th>\n",
              "      <th>valid_loss</th>\n",
              "      <th>accuracy</th>\n",
              "      <th>time</th>\n",
              "    </tr>\n",
              "  </thead>\n",
              "  <tbody>\n",
              "    <tr>\n",
              "      <td>0</td>\n",
              "      <td>2.205189</td>\n",
              "      <td>2.527174</td>\n",
              "      <td>0.585752</td>\n",
              "      <td>03:12</td>\n",
              "    </tr>\n",
              "  </tbody>\n",
              "</table>"
            ],
            "text/plain": [
              "<IPython.core.display.HTML object>"
            ]
          },
          "metadata": {
            "tags": []
          }
        }
      ]
    },
    {
      "cell_type": "code",
      "metadata": {
        "id": "lqAyu56V8Waq",
        "outputId": "97e67cf1-d3de-4ca4-bf65-b2050e3f8e53",
        "colab": {
          "base_uri": "https://localhost:8080/",
          "height": 111
        }
      },
      "source": [
        "learn.fit_one_cycle(2, slice(2e-3/100, 2e-3))"
      ],
      "execution_count": 29,
      "outputs": [
        {
          "output_type": "display_data",
          "data": {
            "text/html": [
              "<table border=\"1\" class=\"dataframe\">\n",
              "  <thead>\n",
              "    <tr style=\"text-align: left;\">\n",
              "      <th>epoch</th>\n",
              "      <th>train_loss</th>\n",
              "      <th>valid_loss</th>\n",
              "      <th>accuracy</th>\n",
              "      <th>time</th>\n",
              "    </tr>\n",
              "  </thead>\n",
              "  <tbody>\n",
              "    <tr>\n",
              "      <td>0</td>\n",
              "      <td>1.944072</td>\n",
              "      <td>2.265730</td>\n",
              "      <td>0.622691</td>\n",
              "      <td>03:09</td>\n",
              "    </tr>\n",
              "    <tr>\n",
              "      <td>1</td>\n",
              "      <td>1.627771</td>\n",
              "      <td>2.157439</td>\n",
              "      <td>0.646438</td>\n",
              "      <td>03:08</td>\n",
              "    </tr>\n",
              "  </tbody>\n",
              "</table>"
            ],
            "text/plain": [
              "<IPython.core.display.HTML object>"
            ]
          },
          "metadata": {
            "tags": []
          }
        }
      ]
    },
    {
      "cell_type": "code",
      "metadata": {
        "id": "a7I1xMRp8bUd",
        "outputId": "b7418163-a83d-4cc0-c878-62c7eb9eaedd",
        "colab": {
          "base_uri": "https://localhost:8080/",
          "height": 111
        }
      },
      "source": [
        "learn.fit_one_cycle(2, slice(2e-3/100, 2e-3))"
      ],
      "execution_count": 30,
      "outputs": [
        {
          "output_type": "display_data",
          "data": {
            "text/html": [
              "<table border=\"1\" class=\"dataframe\">\n",
              "  <thead>\n",
              "    <tr style=\"text-align: left;\">\n",
              "      <th>epoch</th>\n",
              "      <th>train_loss</th>\n",
              "      <th>valid_loss</th>\n",
              "      <th>accuracy</th>\n",
              "      <th>time</th>\n",
              "    </tr>\n",
              "  </thead>\n",
              "  <tbody>\n",
              "    <tr>\n",
              "      <td>0</td>\n",
              "      <td>1.482370</td>\n",
              "      <td>1.957538</td>\n",
              "      <td>0.682058</td>\n",
              "      <td>03:08</td>\n",
              "    </tr>\n",
              "    <tr>\n",
              "      <td>1</td>\n",
              "      <td>1.364706</td>\n",
              "      <td>1.851429</td>\n",
              "      <td>0.691293</td>\n",
              "      <td>03:21</td>\n",
              "    </tr>\n",
              "  </tbody>\n",
              "</table>"
            ],
            "text/plain": [
              "<IPython.core.display.HTML object>"
            ]
          },
          "metadata": {
            "tags": []
          }
        }
      ]
    },
    {
      "cell_type": "code",
      "metadata": {
        "id": "UAnti-XmGVfO",
        "outputId": "9a7cc4c7-c717-454a-9ae2-0343d5de8ef9",
        "colab": {
          "base_uri": "https://localhost:8080/",
          "height": 111
        }
      },
      "source": [
        "learn.fit_one_cycle(2, slice(2e-3/100, 2e-3))"
      ],
      "execution_count": 31,
      "outputs": [
        {
          "output_type": "display_data",
          "data": {
            "text/html": [
              "<table border=\"1\" class=\"dataframe\">\n",
              "  <thead>\n",
              "    <tr style=\"text-align: left;\">\n",
              "      <th>epoch</th>\n",
              "      <th>train_loss</th>\n",
              "      <th>valid_loss</th>\n",
              "      <th>accuracy</th>\n",
              "      <th>time</th>\n",
              "    </tr>\n",
              "  </thead>\n",
              "  <tbody>\n",
              "    <tr>\n",
              "      <td>0</td>\n",
              "      <td>1.228086</td>\n",
              "      <td>1.730599</td>\n",
              "      <td>0.715040</td>\n",
              "      <td>03:22</td>\n",
              "    </tr>\n",
              "    <tr>\n",
              "      <td>1</td>\n",
              "      <td>1.081677</td>\n",
              "      <td>1.651480</td>\n",
              "      <td>0.720317</td>\n",
              "      <td>03:26</td>\n",
              "    </tr>\n",
              "  </tbody>\n",
              "</table>"
            ],
            "text/plain": [
              "<IPython.core.display.HTML object>"
            ]
          },
          "metadata": {
            "tags": []
          }
        }
      ]
    },
    {
      "cell_type": "code",
      "metadata": {
        "id": "bIft7W25GwSu",
        "outputId": "0fbb5109-e38b-49f7-d3e0-36fdf540ed65",
        "colab": {
          "base_uri": "https://localhost:8080/",
          "height": 111
        }
      },
      "source": [
        "learn.fit_one_cycle(2, slice(2e-3/100, 2e-3))"
      ],
      "execution_count": 32,
      "outputs": [
        {
          "output_type": "display_data",
          "data": {
            "text/html": [
              "<table border=\"1\" class=\"dataframe\">\n",
              "  <thead>\n",
              "    <tr style=\"text-align: left;\">\n",
              "      <th>epoch</th>\n",
              "      <th>train_loss</th>\n",
              "      <th>valid_loss</th>\n",
              "      <th>accuracy</th>\n",
              "      <th>time</th>\n",
              "    </tr>\n",
              "  </thead>\n",
              "  <tbody>\n",
              "    <tr>\n",
              "      <td>0</td>\n",
              "      <td>0.961980</td>\n",
              "      <td>1.585171</td>\n",
              "      <td>0.744063</td>\n",
              "      <td>03:16</td>\n",
              "    </tr>\n",
              "    <tr>\n",
              "      <td>1</td>\n",
              "      <td>0.912518</td>\n",
              "      <td>1.517330</td>\n",
              "      <td>0.757256</td>\n",
              "      <td>03:26</td>\n",
              "    </tr>\n",
              "  </tbody>\n",
              "</table>"
            ],
            "text/plain": [
              "<IPython.core.display.HTML object>"
            ]
          },
          "metadata": {
            "tags": []
          }
        }
      ]
    },
    {
      "cell_type": "code",
      "metadata": {
        "id": "EEHszVRvGyFt",
        "outputId": "d8783d05-d9b2-49e4-ca32-66945631d623",
        "colab": {
          "base_uri": "https://localhost:8080/",
          "height": 111
        }
      },
      "source": [
        "learn.fit_one_cycle(2, slice(2e-3/100, 2e-3))"
      ],
      "execution_count": 33,
      "outputs": [
        {
          "output_type": "display_data",
          "data": {
            "text/html": [
              "<table border=\"1\" class=\"dataframe\">\n",
              "  <thead>\n",
              "    <tr style=\"text-align: left;\">\n",
              "      <th>epoch</th>\n",
              "      <th>train_loss</th>\n",
              "      <th>valid_loss</th>\n",
              "      <th>accuracy</th>\n",
              "      <th>time</th>\n",
              "    </tr>\n",
              "  </thead>\n",
              "  <tbody>\n",
              "    <tr>\n",
              "      <td>0</td>\n",
              "      <td>0.811504</td>\n",
              "      <td>1.483304</td>\n",
              "      <td>0.746702</td>\n",
              "      <td>03:16</td>\n",
              "    </tr>\n",
              "    <tr>\n",
              "      <td>1</td>\n",
              "      <td>0.688211</td>\n",
              "      <td>1.457636</td>\n",
              "      <td>0.759894</td>\n",
              "      <td>03:26</td>\n",
              "    </tr>\n",
              "  </tbody>\n",
              "</table>"
            ],
            "text/plain": [
              "<IPython.core.display.HTML object>"
            ]
          },
          "metadata": {
            "tags": []
          }
        }
      ]
    },
    {
      "cell_type": "code",
      "metadata": {
        "id": "XsHfrhCHG3dN",
        "outputId": "b3658130-f250-4869-ad9a-087ab9492c19",
        "colab": {
          "base_uri": "https://localhost:8080/",
          "height": 173
        }
      },
      "source": [
        "learn.fit_one_cycle(4, slice(2e-3/100, 2e-3))"
      ],
      "execution_count": 34,
      "outputs": [
        {
          "output_type": "display_data",
          "data": {
            "text/html": [
              "<table border=\"1\" class=\"dataframe\">\n",
              "  <thead>\n",
              "    <tr style=\"text-align: left;\">\n",
              "      <th>epoch</th>\n",
              "      <th>train_loss</th>\n",
              "      <th>valid_loss</th>\n",
              "      <th>accuracy</th>\n",
              "      <th>time</th>\n",
              "    </tr>\n",
              "  </thead>\n",
              "  <tbody>\n",
              "    <tr>\n",
              "      <td>0</td>\n",
              "      <td>0.654748</td>\n",
              "      <td>1.479443</td>\n",
              "      <td>0.761214</td>\n",
              "      <td>03:18</td>\n",
              "    </tr>\n",
              "    <tr>\n",
              "      <td>1</td>\n",
              "      <td>0.632508</td>\n",
              "      <td>1.362965</td>\n",
              "      <td>0.778364</td>\n",
              "      <td>03:22</td>\n",
              "    </tr>\n",
              "    <tr>\n",
              "      <td>2</td>\n",
              "      <td>0.590621</td>\n",
              "      <td>1.300639</td>\n",
              "      <td>0.786280</td>\n",
              "      <td>03:28</td>\n",
              "    </tr>\n",
              "    <tr>\n",
              "      <td>3</td>\n",
              "      <td>0.485647</td>\n",
              "      <td>1.282730</td>\n",
              "      <td>0.791557</td>\n",
              "      <td>03:26</td>\n",
              "    </tr>\n",
              "  </tbody>\n",
              "</table>"
            ],
            "text/plain": [
              "<IPython.core.display.HTML object>"
            ]
          },
          "metadata": {
            "tags": []
          }
        }
      ]
    },
    {
      "cell_type": "code",
      "metadata": {
        "id": "0Zsd99isb9EQ",
        "outputId": "1227a2c2-1e9f-402a-ae9d-0b6edd478c0f",
        "colab": {
          "base_uri": "https://localhost:8080/",
          "height": 173
        }
      },
      "source": [
        "learn.fit_one_cycle(4, slice(2e-3/100, 2e-3))"
      ],
      "execution_count": 35,
      "outputs": [
        {
          "output_type": "display_data",
          "data": {
            "text/html": [
              "<table border=\"1\" class=\"dataframe\">\n",
              "  <thead>\n",
              "    <tr style=\"text-align: left;\">\n",
              "      <th>epoch</th>\n",
              "      <th>train_loss</th>\n",
              "      <th>valid_loss</th>\n",
              "      <th>accuracy</th>\n",
              "      <th>time</th>\n",
              "    </tr>\n",
              "  </thead>\n",
              "  <tbody>\n",
              "    <tr>\n",
              "      <td>0</td>\n",
              "      <td>0.492501</td>\n",
              "      <td>1.375281</td>\n",
              "      <td>0.787599</td>\n",
              "      <td>03:14</td>\n",
              "    </tr>\n",
              "    <tr>\n",
              "      <td>1</td>\n",
              "      <td>0.549870</td>\n",
              "      <td>1.290421</td>\n",
              "      <td>0.784960</td>\n",
              "      <td>03:13</td>\n",
              "    </tr>\n",
              "    <tr>\n",
              "      <td>2</td>\n",
              "      <td>0.470517</td>\n",
              "      <td>1.309378</td>\n",
              "      <td>0.800792</td>\n",
              "      <td>03:21</td>\n",
              "    </tr>\n",
              "    <tr>\n",
              "      <td>3</td>\n",
              "      <td>0.384639</td>\n",
              "      <td>1.263773</td>\n",
              "      <td>0.806069</td>\n",
              "      <td>03:15</td>\n",
              "    </tr>\n",
              "  </tbody>\n",
              "</table>"
            ],
            "text/plain": [
              "<IPython.core.display.HTML object>"
            ]
          },
          "metadata": {
            "tags": []
          }
        }
      ]
    },
    {
      "cell_type": "code",
      "metadata": {
        "id": "atNWNKDFPbuI",
        "outputId": "c7384604-37ab-491b-fbfd-7ba9defdfc7c",
        "colab": {
          "base_uri": "https://localhost:8080/",
          "height": 173
        }
      },
      "source": [
        "learn.fit_one_cycle(4, slice(2e-3/100, 2e-3))"
      ],
      "execution_count": 36,
      "outputs": [
        {
          "output_type": "display_data",
          "data": {
            "text/html": [
              "<table border=\"1\" class=\"dataframe\">\n",
              "  <thead>\n",
              "    <tr style=\"text-align: left;\">\n",
              "      <th>epoch</th>\n",
              "      <th>train_loss</th>\n",
              "      <th>valid_loss</th>\n",
              "      <th>accuracy</th>\n",
              "      <th>time</th>\n",
              "    </tr>\n",
              "  </thead>\n",
              "  <tbody>\n",
              "    <tr>\n",
              "      <td>0</td>\n",
              "      <td>0.394092</td>\n",
              "      <td>1.307670</td>\n",
              "      <td>0.803430</td>\n",
              "      <td>03:14</td>\n",
              "    </tr>\n",
              "    <tr>\n",
              "      <td>1</td>\n",
              "      <td>0.443531</td>\n",
              "      <td>1.331034</td>\n",
              "      <td>0.798153</td>\n",
              "      <td>03:13</td>\n",
              "    </tr>\n",
              "    <tr>\n",
              "      <td>2</td>\n",
              "      <td>0.358567</td>\n",
              "      <td>1.289955</td>\n",
              "      <td>0.808707</td>\n",
              "      <td>03:15</td>\n",
              "    </tr>\n",
              "    <tr>\n",
              "      <td>3</td>\n",
              "      <td>0.299314</td>\n",
              "      <td>1.316622</td>\n",
              "      <td>0.810026</td>\n",
              "      <td>03:12</td>\n",
              "    </tr>\n",
              "  </tbody>\n",
              "</table>"
            ],
            "text/plain": [
              "<IPython.core.display.HTML object>"
            ]
          },
          "metadata": {
            "tags": []
          }
        }
      ]
    },
    {
      "cell_type": "code",
      "metadata": {
        "id": "rKrBTZ0T1uVA",
        "outputId": "84b05d33-15f6-433b-9fb6-e011b684cde2",
        "colab": {
          "base_uri": "https://localhost:8080/",
          "height": 173
        }
      },
      "source": [
        "learn.fit_one_cycle(4, slice(2e-3/100, 2e-3))"
      ],
      "execution_count": 37,
      "outputs": [
        {
          "output_type": "display_data",
          "data": {
            "text/html": [
              "<table border=\"1\" class=\"dataframe\">\n",
              "  <thead>\n",
              "    <tr style=\"text-align: left;\">\n",
              "      <th>epoch</th>\n",
              "      <th>train_loss</th>\n",
              "      <th>valid_loss</th>\n",
              "      <th>accuracy</th>\n",
              "      <th>time</th>\n",
              "    </tr>\n",
              "  </thead>\n",
              "  <tbody>\n",
              "    <tr>\n",
              "      <td>0</td>\n",
              "      <td>0.310028</td>\n",
              "      <td>1.261077</td>\n",
              "      <td>0.815303</td>\n",
              "      <td>03:24</td>\n",
              "    </tr>\n",
              "    <tr>\n",
              "      <td>1</td>\n",
              "      <td>0.366795</td>\n",
              "      <td>1.322019</td>\n",
              "      <td>0.807388</td>\n",
              "      <td>03:29</td>\n",
              "    </tr>\n",
              "    <tr>\n",
              "      <td>2</td>\n",
              "      <td>0.293054</td>\n",
              "      <td>1.241520</td>\n",
              "      <td>0.816623</td>\n",
              "      <td>03:20</td>\n",
              "    </tr>\n",
              "    <tr>\n",
              "      <td>3</td>\n",
              "      <td>0.265752</td>\n",
              "      <td>1.289437</td>\n",
              "      <td>0.815303</td>\n",
              "      <td>03:12</td>\n",
              "    </tr>\n",
              "  </tbody>\n",
              "</table>"
            ],
            "text/plain": [
              "<IPython.core.display.HTML object>"
            ]
          },
          "metadata": {
            "tags": []
          }
        }
      ]
    },
    {
      "cell_type": "code",
      "metadata": {
        "id": "ajQC6WDg1yA9",
        "outputId": "0b0d9f96-76cd-477d-b731-719bd08a0e35",
        "colab": {
          "base_uri": "https://localhost:8080/",
          "height": 173
        }
      },
      "source": [
        "learn.fit_one_cycle(4, slice(2e-3/100, 2e-3))"
      ],
      "execution_count": 38,
      "outputs": [
        {
          "output_type": "display_data",
          "data": {
            "text/html": [
              "<table border=\"1\" class=\"dataframe\">\n",
              "  <thead>\n",
              "    <tr style=\"text-align: left;\">\n",
              "      <th>epoch</th>\n",
              "      <th>train_loss</th>\n",
              "      <th>valid_loss</th>\n",
              "      <th>accuracy</th>\n",
              "      <th>time</th>\n",
              "    </tr>\n",
              "  </thead>\n",
              "  <tbody>\n",
              "    <tr>\n",
              "      <td>0</td>\n",
              "      <td>0.278518</td>\n",
              "      <td>1.248764</td>\n",
              "      <td>0.816623</td>\n",
              "      <td>03:19</td>\n",
              "    </tr>\n",
              "    <tr>\n",
              "      <td>1</td>\n",
              "      <td>0.293819</td>\n",
              "      <td>1.367724</td>\n",
              "      <td>0.807388</td>\n",
              "      <td>03:27</td>\n",
              "    </tr>\n",
              "    <tr>\n",
              "      <td>2</td>\n",
              "      <td>0.264783</td>\n",
              "      <td>1.315953</td>\n",
              "      <td>0.824538</td>\n",
              "      <td>03:20</td>\n",
              "    </tr>\n",
              "    <tr>\n",
              "      <td>3</td>\n",
              "      <td>0.225895</td>\n",
              "      <td>1.293340</td>\n",
              "      <td>0.820580</td>\n",
              "      <td>03:12</td>\n",
              "    </tr>\n",
              "  </tbody>\n",
              "</table>"
            ],
            "text/plain": [
              "<IPython.core.display.HTML object>"
            ]
          },
          "metadata": {
            "tags": []
          }
        }
      ]
    },
    {
      "cell_type": "code",
      "metadata": {
        "id": "KKydb0B4BKGk",
        "outputId": "12ad2e88-0235-487b-f863-07860fdc65d2",
        "colab": {
          "base_uri": "https://localhost:8080/",
          "height": 173
        }
      },
      "source": [
        "learn.fit_one_cycle(4, slice(2e-3/100, 2e-3))"
      ],
      "execution_count": 39,
      "outputs": [
        {
          "output_type": "display_data",
          "data": {
            "text/html": [
              "<table border=\"1\" class=\"dataframe\">\n",
              "  <thead>\n",
              "    <tr style=\"text-align: left;\">\n",
              "      <th>epoch</th>\n",
              "      <th>train_loss</th>\n",
              "      <th>valid_loss</th>\n",
              "      <th>accuracy</th>\n",
              "      <th>time</th>\n",
              "    </tr>\n",
              "  </thead>\n",
              "  <tbody>\n",
              "    <tr>\n",
              "      <td>0</td>\n",
              "      <td>0.239304</td>\n",
              "      <td>1.401605</td>\n",
              "      <td>0.813984</td>\n",
              "      <td>03:14</td>\n",
              "    </tr>\n",
              "    <tr>\n",
              "      <td>1</td>\n",
              "      <td>0.288431</td>\n",
              "      <td>1.389159</td>\n",
              "      <td>0.808707</td>\n",
              "      <td>03:23</td>\n",
              "    </tr>\n",
              "    <tr>\n",
              "      <td>2</td>\n",
              "      <td>0.257116</td>\n",
              "      <td>1.336872</td>\n",
              "      <td>0.817942</td>\n",
              "      <td>03:25</td>\n",
              "    </tr>\n",
              "    <tr>\n",
              "      <td>3</td>\n",
              "      <td>0.213732</td>\n",
              "      <td>1.359185</td>\n",
              "      <td>0.817942</td>\n",
              "      <td>03:19</td>\n",
              "    </tr>\n",
              "  </tbody>\n",
              "</table>"
            ],
            "text/plain": [
              "<IPython.core.display.HTML object>"
            ]
          },
          "metadata": {
            "tags": []
          }
        }
      ]
    },
    {
      "cell_type": "code",
      "metadata": {
        "id": "T2APKtFKBpGY",
        "outputId": "e095acba-2232-439b-8800-e6c72b002aa2",
        "colab": {
          "base_uri": "https://localhost:8080/",
          "height": 173
        }
      },
      "source": [
        "learn.fit_one_cycle(4, slice(2e-3/100, 2e-3))"
      ],
      "execution_count": 40,
      "outputs": [
        {
          "output_type": "display_data",
          "data": {
            "text/html": [
              "<table border=\"1\" class=\"dataframe\">\n",
              "  <thead>\n",
              "    <tr style=\"text-align: left;\">\n",
              "      <th>epoch</th>\n",
              "      <th>train_loss</th>\n",
              "      <th>valid_loss</th>\n",
              "      <th>accuracy</th>\n",
              "      <th>time</th>\n",
              "    </tr>\n",
              "  </thead>\n",
              "  <tbody>\n",
              "    <tr>\n",
              "      <td>0</td>\n",
              "      <td>0.213445</td>\n",
              "      <td>1.416060</td>\n",
              "      <td>0.824538</td>\n",
              "      <td>03:16</td>\n",
              "    </tr>\n",
              "    <tr>\n",
              "      <td>1</td>\n",
              "      <td>0.261194</td>\n",
              "      <td>1.320340</td>\n",
              "      <td>0.812665</td>\n",
              "      <td>03:20</td>\n",
              "    </tr>\n",
              "    <tr>\n",
              "      <td>2</td>\n",
              "      <td>0.229090</td>\n",
              "      <td>1.340572</td>\n",
              "      <td>0.829815</td>\n",
              "      <td>03:30</td>\n",
              "    </tr>\n",
              "    <tr>\n",
              "      <td>3</td>\n",
              "      <td>0.180859</td>\n",
              "      <td>1.350010</td>\n",
              "      <td>0.829815</td>\n",
              "      <td>03:23</td>\n",
              "    </tr>\n",
              "  </tbody>\n",
              "</table>"
            ],
            "text/plain": [
              "<IPython.core.display.HTML object>"
            ]
          },
          "metadata": {
            "tags": []
          }
        }
      ]
    },
    {
      "cell_type": "code",
      "metadata": {
        "id": "qtTypA1sPgLU",
        "outputId": "c99bfaa9-8997-40a1-ffb2-7b6fa4e4eeb8",
        "colab": {
          "base_uri": "https://localhost:8080/",
          "height": 111
        }
      },
      "source": [
        "learn.fit_one_cycle(2, slice(2e-3/100, 2e-3))"
      ],
      "execution_count": 41,
      "outputs": [
        {
          "output_type": "display_data",
          "data": {
            "text/html": [
              "<table border=\"1\" class=\"dataframe\">\n",
              "  <thead>\n",
              "    <tr style=\"text-align: left;\">\n",
              "      <th>epoch</th>\n",
              "      <th>train_loss</th>\n",
              "      <th>valid_loss</th>\n",
              "      <th>accuracy</th>\n",
              "      <th>time</th>\n",
              "    </tr>\n",
              "  </thead>\n",
              "  <tbody>\n",
              "    <tr>\n",
              "      <td>0</td>\n",
              "      <td>0.210120</td>\n",
              "      <td>1.409720</td>\n",
              "      <td>0.817942</td>\n",
              "      <td>03:19</td>\n",
              "    </tr>\n",
              "    <tr>\n",
              "      <td>1</td>\n",
              "      <td>0.199045</td>\n",
              "      <td>1.372751</td>\n",
              "      <td>0.824538</td>\n",
              "      <td>03:14</td>\n",
              "    </tr>\n",
              "  </tbody>\n",
              "</table>"
            ],
            "text/plain": [
              "<IPython.core.display.HTML object>"
            ]
          },
          "metadata": {
            "tags": []
          }
        }
      ]
    },
    {
      "cell_type": "code",
      "metadata": {
        "id": "b242kBsTUp9Y",
        "outputId": "c9e7149a-a10a-4240-adef-b1dda35eb52c",
        "colab": {
          "base_uri": "https://localhost:8080/",
          "height": 111
        }
      },
      "source": [
        "learn.fit_one_cycle(2, slice(2e-3/100, 2e-3))"
      ],
      "execution_count": 42,
      "outputs": [
        {
          "output_type": "display_data",
          "data": {
            "text/html": [
              "<table border=\"1\" class=\"dataframe\">\n",
              "  <thead>\n",
              "    <tr style=\"text-align: left;\">\n",
              "      <th>epoch</th>\n",
              "      <th>train_loss</th>\n",
              "      <th>valid_loss</th>\n",
              "      <th>accuracy</th>\n",
              "      <th>time</th>\n",
              "    </tr>\n",
              "  </thead>\n",
              "  <tbody>\n",
              "    <tr>\n",
              "      <td>0</td>\n",
              "      <td>0.206570</td>\n",
              "      <td>1.369071</td>\n",
              "      <td>0.813984</td>\n",
              "      <td>03:24</td>\n",
              "    </tr>\n",
              "    <tr>\n",
              "      <td>1</td>\n",
              "      <td>0.198292</td>\n",
              "      <td>1.354184</td>\n",
              "      <td>0.819261</td>\n",
              "      <td>03:14</td>\n",
              "    </tr>\n",
              "  </tbody>\n",
              "</table>"
            ],
            "text/plain": [
              "<IPython.core.display.HTML object>"
            ]
          },
          "metadata": {
            "tags": []
          }
        }
      ]
    },
    {
      "cell_type": "code",
      "metadata": {
        "id": "Duwf1Ih5VeDZ",
        "outputId": "203a6ae3-58ab-4f71-db8e-403887d2d0bd",
        "colab": {
          "base_uri": "https://localhost:8080/",
          "height": 80
        }
      },
      "source": [
        "learn.fit_one_cycle(1, slice(2e-3/100, 2e-3))"
      ],
      "execution_count": 43,
      "outputs": [
        {
          "output_type": "display_data",
          "data": {
            "text/html": [
              "<table border=\"1\" class=\"dataframe\">\n",
              "  <thead>\n",
              "    <tr style=\"text-align: left;\">\n",
              "      <th>epoch</th>\n",
              "      <th>train_loss</th>\n",
              "      <th>valid_loss</th>\n",
              "      <th>accuracy</th>\n",
              "      <th>time</th>\n",
              "    </tr>\n",
              "  </thead>\n",
              "  <tbody>\n",
              "    <tr>\n",
              "      <td>0</td>\n",
              "      <td>0.225740</td>\n",
              "      <td>1.338609</td>\n",
              "      <td>0.820580</td>\n",
              "      <td>03:16</td>\n",
              "    </tr>\n",
              "  </tbody>\n",
              "</table>"
            ],
            "text/plain": [
              "<IPython.core.display.HTML object>"
            ]
          },
          "metadata": {
            "tags": []
          }
        }
      ]
    },
    {
      "cell_type": "code",
      "metadata": {
        "id": "c65d-osfDUXm"
      },
      "source": [
        "# save the best model\n",
        "\n",
        "learn.save_encoder('pubmed_ask_mixed_fold2')"
      ],
      "execution_count": 44,
      "outputs": []
    },
    {
      "cell_type": "markdown",
      "metadata": {
        "id": "rCwZU0E2RgM6"
      },
      "source": [
        "# Part three: Predict on the test dataset"
      ]
    },
    {
      "cell_type": "code",
      "metadata": {
        "id": "gDm72c-dOu7d",
        "outputId": "be9598bb-6002-4d45-c501-1259c492b042",
        "colab": {
          "base_uri": "https://localhost:8080/",
          "height": 17
        }
      },
      "source": [
        "# use the test data for prediction\n",
        "\n",
        "preds, y = learn.get_preds(DatasetType.Test)"
      ],
      "execution_count": 45,
      "outputs": [
        {
          "output_type": "display_data",
          "data": {
            "text/html": [
              ""
            ],
            "text/plain": [
              "<IPython.core.display.HTML object>"
            ]
          },
          "metadata": {
            "tags": []
          }
        }
      ]
    },
    {
      "cell_type": "code",
      "metadata": {
        "id": "6tFSQcsWPvxn",
        "outputId": "b23ff516-f422-4998-a33a-1d3ac4219013",
        "colab": {
          "base_uri": "https://localhost:8080/",
          "height": 105
        }
      },
      "source": [
        "predictions, *_ = learn.get_preds(DatasetType.Test)\n",
        "labels = np.argmax(predictions, 1)\n",
        "predict_list = labels.tolist()\n",
        "standard_list = test[0].tolist()\n",
        "\n",
        "print(len(predict_list))\n",
        "print(len(standard_list))\n",
        "\n",
        "print(predict_list)\n",
        "print(standard_list)"
      ],
      "execution_count": 46,
      "outputs": [
        {
          "output_type": "display_data",
          "data": {
            "text/html": [
              ""
            ],
            "text/plain": [
              "<IPython.core.display.HTML object>"
            ]
          },
          "metadata": {
            "tags": []
          }
        },
        {
          "output_type": "stream",
          "text": [
            "866\n",
            "866\n",
            "[2, 891, 973, 8, 8, 8, 1031, 8, 318, 359, 217, 27, 30, 584, 31, 31, 31, 32, 34, 37, 37, 37, 37, 37, 37, 37, 37, 37, 37, 37, 39, 623, 44, 882, 49, 49, 49, 49, 49, 100, 100, 100, 100, 100, 100, 887, 157, 53, 53, 53, 53, 649, 58, 60, 62, 62, 236, 255, 205, 70, 70, 71, 71, 71, 597, 76, 289, 79, 79, 614, 348, 483, 79, 79, 79, 79, 79, 79, 79, 79, 79, 79, 79, 79, 79, 79, 79, 79, 79, 79, 79, 79, 79, 79, 79, 79, 529, 79, 79, 79, 79, 80, 80, 80, 80, 80, 80, 80, 847, 83, 268, 57, 92, 92, 57, 94, 94, 94, 614, 614, 94, 94, 94, 94, 94, 96, 96, 594, 531, 100, 100, 100, 100, 108, 108, 108, 289, 275, 111, 111, 111, 111, 111, 111, 860, 120, 125, 331, 125, 125, 125, 125, 125, 125, 125, 125, 125, 125, 125, 125, 125, 125, 172, 904, 132, 135, 348, 348, 137, 799, 142, 143, 149, 151, 612, 152, 714, 157, 161, 162, 163, 166, 166, 172, 172, 172, 172, 172, 172, 228, 689, 180, 182, 182, 182, 182, 183, 183, 560, 187, 187, 187, 187, 187, 189, 190, 190, 190, 190, 190, 265, 190, 190, 193, 193, 194, 197, 197, 197, 197, 202, 203, 205, 205, 205, 207, 809, 289, 210, 210, 210, 280, 214, 214, 214, 214, 214, 214, 214, 214, 214, 214, 214, 214, 214, 214, 214, 215, 218, 218, 675, 218, 220, 223, 88, 227, 228, 44, 228, 228, 326, 228, 214, 231, 441, 234, 98, 235, 482, 591, 235, 896, 236, 238, 331, 331, 972, 972, 292, 243, 243, 243, 243, 644, 245, 245, 245, 245, 638, 910, 245, 245, 71, 485, 485, 249, 254, 289, 260, 318, 313, 301, 265, 265, 265, 265, 701, 265, 265, 265, 265, 265, 265, 265, 265, 265, 265, 265, 265, 265, 265, 236, 265, 560, 100, 754, 274, 255, 277, 292, 278, 280, 281, 289, 111, 289, 289, 289, 289, 289, 205, 289, 864, 289, 345, 289, 289, 289, 289, 289, 182, 289, 289, 79, 62, 101, 651, 646, 298, 298, 301, 301, 304, 632, 308, 310, 318, 162, 131, 560, 560, 560, 560, 560, 560, 560, 560, 560, 560, 560, 560, 946, 110, 325, 329, 332, 334, 335, 336, 336, 820, 337, 337, 337, 577, 820, 820, 337, 338, 341, 342, 343, 343, 343, 343, 353, 468, 359, 359, 289, 362, 363, 363, 364, 364, 289, 701, 370, 375, 788, 391, 446, 344, 289, 138, 408, 794, 418, 418, 419, 522, 419, 419, 1034, 265, 420, 421, 444, 425, 426, 426, 426, 426, 426, 426, 427, 427, 427, 427, 427, 427, 427, 427, 427, 427, 427, 197, 427, 427, 846, 174, 427, 120, 441, 443, 443, 444, 446, 446, 142, 280, 454, 251, 455, 455, 57, 348, 458, 460, 109, 908, 469, 214, 360, 169, 45, 487, 514, 721, 489, 662, 491, 662, 855, 491, 491, 492, 492, 495, 495, 495, 499, 501, 502, 316, 517, 517, 517, 517, 517, 517, 517, 521, 524, 524, 524, 524, 37, 717, 623, 528, 530, 530, 530, 531, 531, 694, 532, 537, 612, 541, 541, 541, 541, 548, 548, 551, 80, 299, 775, 775, 864, 575, 579, 868, 31, 585, 187, 757, 299, 325, 236, 325, 592, 62, 595, 437, 597, 427, 604, 741, 610, 610, 326, 611, 614, 614, 614, 614, 614, 326, 174, 533, 533, 624, 627, 632, 635, 348, 640, 841, 644, 646, 646, 646, 646, 648, 652, 652, 656, 421, 491, 686, 693, 229, 265, 701, 704, 704, 708, 708, 710, 710, 711, 714, 714, 714, 715, 717, 683, 735, 887, 809, 741, 741, 37, 745, 746, 746, 749, 749, 749, 753, 753, 638, 638, 245, 772, 772, 766, 722, 722, 301, 773, 364, 775, 778, 778, 778, 778, 780, 330, 796, 803, 803, 753, 753, 804, 806, 806, 91, 809, 809, 809, 810, 823, 825, 671, 826, 830, 830, 830, 830, 693, 831, 202, 840, 61, 318, 847, 847, 847, 847, 849, 853, 853, 853, 853, 280, 864, 864, 866, 896, 896, 896, 896, 896, 896, 897, 35, 753, 904, 904, 914, 919, 1018, 1018, 1018, 225, 35, 937, 937, 937, 938, 940, 940, 57, 948, 948, 948, 948, 948, 949, 949, 949, 949, 949, 949, 949, 949, 949, 949, 949, 949, 949, 949, 949, 949, 949, 949, 949, 949, 949, 949, 949, 949, 949, 949, 949, 949, 949, 949, 949, 949, 949, 949, 949, 949, 949, 949, 949, 949, 949, 949, 949, 949, 949, 949, 949, 949, 949, 949, 949, 949, 949, 949, 949, 949, 949, 949, 949, 949, 949, 949, 949, 949, 949, 949, 949, 949, 949, 949, 949, 949, 949, 949, 949, 949, 949, 949, 949, 949, 949, 949, 949, 949, 949, 292, 949, 949, 949, 949, 949, 949, 949, 949, 949, 949, 949, 949, 949, 949, 949, 950, 950, 950, 952, 967, 955, 955, 958, 960, 962, 967, 967, 757, 921, 977, 980, 926, 981, 35, 986, 988, 989, 316, 991, 994, 110, 997, 1001, 1001, 1003, 1013, 1014, 1015, 1016, 1016, 1026, 1026, 1026, 1026, 1026, 1026, 1026, 1026, 292, 1028, 1028, 1028, 1028, 1028, 1024, 1029, 1029, 1035]\n",
            "[2, 4, 8, 8, 8, 8, 8, 8, 10, 16, 23, 27, 30, 31, 31, 31, 31, 32, 34, 37, 37, 37, 37, 37, 37, 37, 37, 37, 37, 37, 39, 40, 44, 48, 49, 49, 49, 49, 49, 49, 49, 49, 49, 49, 49, 50, 52, 53, 53, 53, 53, 57, 58, 60, 62, 62, 68, 69, 70, 70, 70, 71, 71, 71, 75, 76, 76, 79, 79, 79, 79, 79, 79, 79, 79, 79, 79, 79, 79, 79, 79, 79, 79, 79, 79, 79, 79, 79, 79, 79, 79, 79, 79, 79, 79, 79, 79, 79, 79, 79, 79, 80, 80, 80, 80, 80, 80, 80, 82, 83, 89, 90, 92, 92, 93, 94, 94, 94, 94, 94, 94, 94, 94, 94, 94, 96, 96, 97, 98, 100, 100, 100, 100, 108, 108, 108, 109, 110, 111, 111, 111, 111, 111, 111, 115, 120, 125, 125, 125, 125, 125, 125, 125, 125, 125, 125, 125, 125, 125, 125, 125, 125, 129, 131, 132, 135, 135, 135, 137, 139, 142, 143, 149, 151, 151, 152, 155, 157, 161, 162, 163, 166, 166, 172, 172, 172, 172, 172, 172, 174, 180, 180, 182, 182, 182, 182, 183, 183, 185, 187, 187, 187, 187, 187, 189, 190, 190, 190, 190, 190, 190, 190, 190, 193, 193, 194, 197, 197, 197, 197, 202, 203, 205, 205, 205, 207, 207, 209, 210, 210, 210, 213, 214, 214, 214, 214, 214, 214, 214, 214, 214, 214, 214, 214, 214, 214, 214, 215, 218, 218, 218, 218, 220, 223, 224, 227, 228, 228, 228, 228, 228, 228, 230, 231, 232, 234, 234, 235, 235, 235, 235, 236, 236, 238, 238, 238, 243, 243, 243, 243, 243, 243, 243, 244, 245, 245, 245, 245, 245, 245, 245, 245, 246, 246, 246, 249, 254, 260, 260, 260, 265, 265, 265, 265, 265, 265, 265, 265, 265, 265, 265, 265, 265, 265, 265, 265, 265, 265, 265, 265, 265, 265, 265, 265, 265, 274, 274, 275, 277, 277, 278, 280, 281, 289, 289, 289, 289, 289, 289, 289, 289, 289, 289, 289, 289, 289, 289, 289, 289, 289, 289, 289, 289, 289, 291, 291, 293, 297, 298, 298, 301, 301, 304, 306, 308, 310, 318, 318, 319, 325, 325, 325, 325, 325, 325, 325, 325, 325, 325, 325, 325, 325, 325, 325, 329, 332, 334, 335, 336, 336, 337, 337, 337, 337, 337, 337, 337, 337, 338, 341, 342, 343, 343, 343, 343, 353, 356, 359, 359, 360, 362, 363, 363, 364, 364, 364, 364, 370, 375, 379, 391, 395, 402, 402, 404, 408, 416, 418, 418, 419, 419, 419, 419, 419, 419, 420, 421, 422, 425, 426, 426, 426, 426, 426, 426, 427, 427, 427, 427, 427, 427, 427, 427, 427, 427, 427, 427, 427, 427, 427, 427, 427, 436, 441, 443, 443, 444, 446, 446, 447, 450, 454, 455, 455, 455, 455, 455, 458, 460, 464, 466, 469, 471, 473, 473, 485, 487, 487, 488, 489, 491, 491, 491, 491, 491, 491, 492, 492, 495, 495, 495, 499, 501, 502, 509, 517, 517, 517, 517, 517, 517, 517, 521, 524, 524, 524, 524, 524, 524, 528, 528, 530, 530, 530, 531, 531, 531, 532, 537, 540, 541, 541, 541, 541, 548, 548, 551, 552, 555, 572, 573, 574, 575, 579, 582, 584, 585, 587, 588, 589, 590, 590, 591, 592, 595, 595, 595, 597, 597, 604, 606, 610, 610, 610, 611, 614, 614, 614, 614, 614, 618, 619, 619, 619, 624, 627, 632, 635, 640, 640, 642, 644, 646, 646, 646, 646, 648, 652, 652, 656, 662, 662, 686, 693, 695, 699, 702, 704, 704, 708, 708, 710, 710, 711, 714, 714, 714, 715, 717, 727, 735, 736, 737, 741, 741, 741, 745, 746, 746, 749, 749, 750, 753, 753, 764, 764, 764, 765, 765, 766, 769, 769, 771, 773, 775, 775, 778, 778, 778, 778, 780, 790, 796, 803, 803, 803, 803, 804, 806, 806, 806, 809, 809, 809, 810, 823, 825, 826, 826, 830, 830, 830, 830, 830, 831, 834, 840, 840, 841, 847, 847, 847, 847, 849, 853, 853, 853, 853, 859, 864, 864, 866, 896, 896, 896, 896, 896, 896, 897, 901, 903, 904, 904, 914, 919, 919, 919, 919, 922, 933, 937, 937, 937, 938, 940, 940, 940, 948, 948, 948, 948, 948, 949, 949, 949, 949, 949, 949, 949, 949, 949, 949, 949, 949, 949, 949, 949, 949, 949, 949, 949, 949, 949, 949, 949, 949, 949, 949, 949, 949, 949, 949, 949, 949, 949, 949, 949, 949, 949, 949, 949, 949, 949, 949, 949, 949, 949, 949, 949, 949, 949, 949, 949, 949, 949, 949, 949, 949, 949, 949, 949, 949, 949, 949, 949, 949, 949, 949, 949, 949, 949, 949, 949, 949, 949, 949, 949, 949, 949, 949, 949, 949, 949, 949, 949, 949, 949, 949, 949, 949, 949, 949, 949, 949, 949, 949, 949, 949, 949, 949, 949, 949, 949, 950, 950, 950, 952, 953, 955, 955, 958, 960, 962, 967, 967, 973, 974, 977, 980, 981, 981, 983, 986, 988, 989, 989, 991, 994, 994, 997, 1001, 1001, 1003, 1013, 1014, 1015, 1016, 1016, 1026, 1026, 1026, 1026, 1026, 1026, 1026, 1026, 1026, 1028, 1028, 1028, 1028, 1028, 1028, 1029, 1029, 1035]\n"
          ],
          "name": "stdout"
        }
      ]
    },
    {
      "cell_type": "code",
      "metadata": {
        "id": "XIC4zufnMxtq",
        "outputId": "13e6979a-0b67-4d23-82e1-caf3a0fb7564",
        "colab": {
          "base_uri": "https://localhost:8080/"
        }
      },
      "source": [
        "correct_num = 0\n",
        "\n",
        "for i in range(0, len(standard_list)):\n",
        "  if predict_list[i] == standard_list[i]:\n",
        "    correct_num = correct_num+1\n",
        "  else:\n",
        "    pass\n",
        "print(correct_num)\n",
        "\n",
        "predict_accuracy = correct_num/len(predict_list)\n",
        "print(predict_accuracy)"
      ],
      "execution_count": 47,
      "outputs": [
        {
          "output_type": "stream",
          "text": [
            "639\n",
            "0.7378752886836027\n"
          ],
          "name": "stdout"
        }
      ]
    },
    {
      "cell_type": "code",
      "metadata": {
        "id": "zlKMHp1CIaRJ"
      },
      "source": [
        ""
      ],
      "execution_count": 47,
      "outputs": []
    }
  ]
}