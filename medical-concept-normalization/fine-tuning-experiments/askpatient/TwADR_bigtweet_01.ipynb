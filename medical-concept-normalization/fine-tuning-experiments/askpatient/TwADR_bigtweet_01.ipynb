{
  "nbformat": 4,
  "nbformat_minor": 0,
  "metadata": {
    "accelerator": "TPU",
    "colab": {
      "name": "TwADR-bigtweet_01.ipynb",
      "provenance": [],
      "collapsed_sections": [],
      "include_colab_link": true
    },
    "kernelspec": {
      "display_name": "Python 3",
      "name": "python3"
    }
  },
  "cells": [
    {
      "cell_type": "markdown",
      "metadata": {
        "id": "view-in-github",
        "colab_type": "text"
      },
      "source": [
        "<a href=\"https://colab.research.google.com/github/unt-iialab/medical-concept-normalization/blob/master/medical-concept-normalization/fine-tuning-experiments/askpatient/TwADR_bigtweet_01.ipynb\" target=\"_parent\"><img src=\"https://colab.research.google.com/assets/colab-badge.svg\" alt=\"Open In Colab\"/></a>"
      ]
    },
    {
      "cell_type": "code",
      "metadata": {
        "id": "adSi6i2-dWxy"
      },
      "source": [
        "import os"
      ],
      "execution_count": 1,
      "outputs": []
    },
    {
      "cell_type": "code",
      "metadata": {
        "id": "E7xYCRGPjd9B"
      },
      "source": [
        "base_dir = 'medical-concept-normalization'"
      ],
      "execution_count": 2,
      "outputs": []
    },
    {
      "cell_type": "code",
      "metadata": {
        "id": "yvIW3aUDjYNS"
      },
      "source": [
        "os.mkdir(base_dir)"
      ],
      "execution_count": 3,
      "outputs": []
    },
    {
      "cell_type": "code",
      "metadata": {
        "id": "es-FFLlfk6SG"
      },
      "source": [
        "os.mkdir('medical-concept-normalization/data_collection')"
      ],
      "execution_count": 4,
      "outputs": []
    },
    {
      "cell_type": "markdown",
      "metadata": {
        "id": "0R-Guw_VoJXm"
      },
      "source": [
        "**Install fastai and clone the fastai for text classification**\n",
        "\n"
      ]
    },
    {
      "cell_type": "code",
      "metadata": {
        "id": "QVZa3Z0PmHFH",
        "outputId": "bf1d59f1-58fc-4999-898a-f8d676cde78f",
        "colab": {
          "base_uri": "https://localhost:8080/"
        }
      },
      "source": [
        "!curl https://course-v3.fast.ai/setup/colab | bash"
      ],
      "execution_count": 5,
      "outputs": [
        {
          "output_type": "stream",
          "text": [
            "  % Total    % Received % Xferd  Average Speed   Time    Time     Time  Current\n",
            "                                 Dload  Upload   Total   Spent    Left  Speed\n",
            "\r  0     0    0     0    0     0      0      0 --:--:-- --:--:-- --:--:--     0curl: (6) Could not resolve host: course-v3.fast.ai\n"
          ],
          "name": "stdout"
        }
      ]
    },
    {
      "cell_type": "code",
      "metadata": {
        "id": "_FBFFEBrmJC0",
        "outputId": "5e9bb34a-7ebd-4816-a123-2f72cf6fe324",
        "colab": {
          "base_uri": "https://localhost:8080/"
        }
      },
      "source": [
        "!git clone https://github.com/wshuyi/demo-nlp-classification-fastai.git"
      ],
      "execution_count": 6,
      "outputs": [
        {
          "output_type": "stream",
          "text": [
            "Cloning into 'demo-nlp-classification-fastai'...\n",
            "remote: Enumerating objects: 9, done.\u001b[K\n",
            "remote: Total 9 (delta 0), reused 0 (delta 0), pack-reused 9\u001b[K\n",
            "Unpacking objects: 100% (9/9), done.\n"
          ],
          "name": "stdout"
        }
      ]
    },
    {
      "cell_type": "code",
      "metadata": {
        "id": "66zfh_JqmWMU"
      },
      "source": [
        "from fastai import *\n",
        "from fastai.text import *"
      ],
      "execution_count": 7,
      "outputs": []
    },
    {
      "cell_type": "markdown",
      "metadata": {
        "id": "mNIw-yALdBU9"
      },
      "source": [
        "**Set the path of the data collections**"
      ]
    },
    {
      "cell_type": "code",
      "metadata": {
        "id": "pzH7VMh4mqCL"
      },
      "source": [
        "path = Path('medical-concept-normalization/data_collection')"
      ],
      "execution_count": 8,
      "outputs": []
    },
    {
      "cell_type": "code",
      "metadata": {
        "id": "b8fjI6yyn4aS"
      },
      "source": [
        "# training data set\n",
        "\n",
        "train_csv = path/'TwADR-L.fold-1.train.csv'\n",
        "train = pd.read_csv(train_csv, header=None)\n",
        "#train.head()\n",
        "#train.info()"
      ],
      "execution_count": 10,
      "outputs": []
    },
    {
      "cell_type": "code",
      "metadata": {
        "id": "Hmlr-bAorfHd",
        "outputId": "1a163b00-f1bd-4dea-ffa6-e1227f71c270",
        "colab": {
          "base_uri": "https://localhost:8080/",
          "height": 204
        }
      },
      "source": [
        "# validating data set\n",
        "\n",
        "valid = pd.read_csv(path/\"TwADR-L.fold-1.validation.csv\",header=None)\n",
        "valid.head()"
      ],
      "execution_count": 11,
      "outputs": [
        {
          "output_type": "execute_result",
          "data": {
            "text/html": [
              "<div>\n",
              "<style scoped>\n",
              "    .dataframe tbody tr th:only-of-type {\n",
              "        vertical-align: middle;\n",
              "    }\n",
              "\n",
              "    .dataframe tbody tr th {\n",
              "        vertical-align: top;\n",
              "    }\n",
              "\n",
              "    .dataframe thead th {\n",
              "        text-align: right;\n",
              "    }\n",
              "</style>\n",
              "<table border=\"1\" class=\"dataframe\">\n",
              "  <thead>\n",
              "    <tr style=\"text-align: right;\">\n",
              "      <th></th>\n",
              "      <th>0</th>\n",
              "      <th>1</th>\n",
              "    </tr>\n",
              "  </thead>\n",
              "  <tbody>\n",
              "    <tr>\n",
              "      <th>0</th>\n",
              "      <td>85</td>\n",
              "      <td>tremor</td>\n",
              "    </tr>\n",
              "    <tr>\n",
              "      <th>1</th>\n",
              "      <td>119</td>\n",
              "      <td>anxiety</td>\n",
              "    </tr>\n",
              "    <tr>\n",
              "      <th>2</th>\n",
              "      <td>154</td>\n",
              "      <td>hives</td>\n",
              "    </tr>\n",
              "    <tr>\n",
              "      <th>3</th>\n",
              "      <td>189</td>\n",
              "      <td>dizziness</td>\n",
              "    </tr>\n",
              "    <tr>\n",
              "      <th>4</th>\n",
              "      <td>189</td>\n",
              "      <td>dizziness</td>\n",
              "    </tr>\n",
              "  </tbody>\n",
              "</table>\n",
              "</div>"
            ],
            "text/plain": [
              "     0          1\n",
              "0   85     tremor\n",
              "1  119    anxiety\n",
              "2  154      hives\n",
              "3  189  dizziness\n",
              "4  189  dizziness"
            ]
          },
          "metadata": {
            "tags": []
          },
          "execution_count": 11
        }
      ]
    },
    {
      "cell_type": "code",
      "metadata": {
        "id": "cOza9dfSsBud",
        "outputId": "6da61251-792e-4a56-f7dc-614c3c5d3c24",
        "colab": {
          "base_uri": "https://localhost:8080/",
          "height": 204
        }
      },
      "source": [
        "# testing data set\n",
        "\n",
        "test = pd.read_csv(path/\"TwADR-L.fold-1.test.csv\",header=None)\n",
        "test.head()"
      ],
      "execution_count": 12,
      "outputs": [
        {
          "output_type": "execute_result",
          "data": {
            "text/html": [
              "<div>\n",
              "<style scoped>\n",
              "    .dataframe tbody tr th:only-of-type {\n",
              "        vertical-align: middle;\n",
              "    }\n",
              "\n",
              "    .dataframe tbody tr th {\n",
              "        vertical-align: top;\n",
              "    }\n",
              "\n",
              "    .dataframe thead th {\n",
              "        text-align: right;\n",
              "    }\n",
              "</style>\n",
              "<table border=\"1\" class=\"dataframe\">\n",
              "  <thead>\n",
              "    <tr style=\"text-align: right;\">\n",
              "      <th></th>\n",
              "      <th>0</th>\n",
              "      <th>1</th>\n",
              "    </tr>\n",
              "  </thead>\n",
              "  <tbody>\n",
              "    <tr>\n",
              "      <th>0</th>\n",
              "      <td>13</td>\n",
              "      <td>Insomnia</td>\n",
              "    </tr>\n",
              "    <tr>\n",
              "      <th>1</th>\n",
              "      <td>13</td>\n",
              "      <td>awake in the middle of the night</td>\n",
              "    </tr>\n",
              "    <tr>\n",
              "      <th>2</th>\n",
              "      <td>61</td>\n",
              "      <td>very stupid</td>\n",
              "    </tr>\n",
              "    <tr>\n",
              "      <th>3</th>\n",
              "      <td>133</td>\n",
              "      <td>night terrors</td>\n",
              "    </tr>\n",
              "    <tr>\n",
              "      <th>4</th>\n",
              "      <td>189</td>\n",
              "      <td>dizziness</td>\n",
              "    </tr>\n",
              "  </tbody>\n",
              "</table>\n",
              "</div>"
            ],
            "text/plain": [
              "     0                                 1\n",
              "0   13                          Insomnia\n",
              "1   13  awake in the middle of the night\n",
              "2   61                       very stupid\n",
              "3  133                     night terrors\n",
              "4  189                         dizziness"
            ]
          },
          "metadata": {
            "tags": []
          },
          "execution_count": 12
        }
      ]
    },
    {
      "cell_type": "code",
      "metadata": {
        "id": "Vo-YNvVYoaH6",
        "outputId": "0737033a-60fd-4ca4-9ca5-134f3c39c854",
        "colab": {
          "base_uri": "https://localhost:8080/",
          "height": 17
        }
      },
      "source": [
        "# Creating DataBunch for language modelling\n",
        "\n",
        "data_lm = TextLMDataBunch.from_csv(path, 'TwADR-bigtweet.csv')"
      ],
      "execution_count": 13,
      "outputs": [
        {
          "output_type": "display_data",
          "data": {
            "text/html": [
              ""
            ],
            "text/plain": [
              "<IPython.core.display.HTML object>"
            ]
          },
          "metadata": {
            "tags": []
          }
        },
        {
          "output_type": "display_data",
          "data": {
            "text/html": [
              ""
            ],
            "text/plain": [
              "<IPython.core.display.HTML object>"
            ]
          },
          "metadata": {
            "tags": []
          }
        }
      ]
    },
    {
      "cell_type": "code",
      "metadata": {
        "id": "qcV-9kMnNLBf"
      },
      "source": [
        ""
      ],
      "execution_count": 13,
      "outputs": []
    },
    {
      "cell_type": "code",
      "metadata": {
        "id": "1ScY9afDsnvE"
      },
      "source": [
        "# Creating DataBunch for classification\n",
        "\n",
        "# data_clas = TextClasDataBunch.from_df(path, train, valid, test, vocab=data_lm.train_ds.vocab, bs=128)"
      ],
      "execution_count": 14,
      "outputs": []
    },
    {
      "cell_type": "code",
      "metadata": {
        "id": "gzrSdQcvey9p",
        "outputId": "d3231493-9bf3-4e4e-c2b6-440b033de0fd",
        "colab": {
          "base_uri": "https://localhost:8080/",
          "height": 17
        }
      },
      "source": [
        "data_clas = TextClasDataBunch.from_df(path, train, valid, vocab=data_lm.train_ds.vocab, bs=128)"
      ],
      "execution_count": 15,
      "outputs": [
        {
          "output_type": "display_data",
          "data": {
            "text/html": [
              ""
            ],
            "text/plain": [
              "<IPython.core.display.HTML object>"
            ]
          },
          "metadata": {
            "tags": []
          }
        },
        {
          "output_type": "display_data",
          "data": {
            "text/html": [
              ""
            ],
            "text/plain": [
              "<IPython.core.display.HTML object>"
            ]
          },
          "metadata": {
            "tags": []
          }
        }
      ]
    },
    {
      "cell_type": "code",
      "metadata": {
        "id": "MD27Tf0Ke3ou",
        "outputId": "aba73d2c-c587-485c-aa5e-5e5cd25c5879",
        "colab": {
          "base_uri": "https://localhost:8080/",
          "height": 17
        }
      },
      "source": [
        "data_clas.add_test(test,label=0)\n"
      ],
      "execution_count": 16,
      "outputs": [
        {
          "output_type": "display_data",
          "data": {
            "text/html": [
              ""
            ],
            "text/plain": [
              "<IPython.core.display.HTML object>"
            ]
          },
          "metadata": {
            "tags": []
          }
        }
      ]
    },
    {
      "cell_type": "code",
      "metadata": {
        "id": "-dpjnk_rstwk"
      },
      "source": [
        "data_lm.save()\n",
        "data_clas.save()"
      ],
      "execution_count": 17,
      "outputs": []
    },
    {
      "cell_type": "code",
      "metadata": {
        "id": "4OkiJa36sw5s",
        "outputId": "73e17e9b-c496-4cd2-b409-f682448418ef",
        "colab": {
          "base_uri": "https://localhost:8080/"
        }
      },
      "source": [
        "data_lm.train_ds.vocab.itos"
      ],
      "execution_count": 18,
      "outputs": [
        {
          "output_type": "execute_result",
          "data": {
            "text/plain": [
              "['xxunk',\n",
              " 'xxpad',\n",
              " 'xxbos',\n",
              " 'xxeos',\n",
              " 'xxfld',\n",
              " 'xxmaj',\n",
              " 'xxup',\n",
              " 'xxrep',\n",
              " 'xxwrep',\n",
              " 'to',\n",
              " 'the',\n",
              " 'in',\n",
              " 'rt',\n",
              " 'of',\n",
              " 'for',\n",
              " 'a',\n",
              " 'you',\n",
              " 'i',\n",
              " 'on',\n",
              " 'is',\n",
              " 'disease',\n",
              " 'pain',\n",
              " 'and',\n",
              " 'my',\n",
              " 'mood',\n",
              " 'me',\n",
              " 'amp',\n",
              " 'increased',\n",
              " 'with',\n",
              " 'gluten',\n",
              " ',',\n",
              " 'disorder',\n",
              " 'withdrawal',\n",
              " 'abnormal',\n",
              " 'anxiety',\n",
              " 'your',\n",
              " 'it',\n",
              " 'symptoms',\n",
              " 'free',\n",
              " 'have',\n",
              " 'weight',\n",
              " 'decreased',\n",
              " 'out',\n",
              " 'are',\n",
              " 'this',\n",
              " 'new',\n",
              " 'from',\n",
              " 'like',\n",
              " 'not',\n",
              " 'about',\n",
              " 'disorders',\n",
              " 'up',\n",
              " '-',\n",
              " '(',\n",
              " ')',\n",
              " 'our',\n",
              " 'do',\n",
              " 'glutenfree',\n",
              " 'sleeplessness',\n",
              " 'what',\n",
              " 'be',\n",
              " 'drug',\n",
              " 'behavior',\n",
              " 'nt',\n",
              " 'syndrome',\n",
              " 'celiac',\n",
              " 'feeling',\n",
              " 'now',\n",
              " 'got',\n",
              " 'diseases',\n",
              " 'at',\n",
              " 'or',\n",
              " 'somnolence',\n",
              " 'insomnia',\n",
              " 'sleep',\n",
              " 'blood',\n",
              " 'disturbance',\n",
              " 'finding',\n",
              " 'that',\n",
              " 'so',\n",
              " 'all',\n",
              " 'right',\n",
              " 'energy',\n",
              " 'food',\n",
              " 'how',\n",
              " 'can',\n",
              " 'mental',\n",
              " 'we',\n",
              " 'skin',\n",
              " 'more',\n",
              " 'acute',\n",
              " 'depression',\n",
              " 'via',\n",
              " 'gain',\n",
              " 'appetite',\n",
              " 'its',\n",
              " 'feel',\n",
              " 'body',\n",
              " 'tip',\n",
              " 'excitability',\n",
              " 'nausea',\n",
              " 'if',\n",
              " 'as',\n",
              " 'ceiling',\n",
              " 'irritable',\n",
              " 'dblclick',\n",
              " 'use',\n",
              " 'w',\n",
              " 'hyperactive',\n",
              " 'diet',\n",
              " 'pic',\n",
              " 'dizziness',\n",
              " 'attention',\n",
              " 'awake',\n",
              " 'feelings',\n",
              " 'products',\n",
              " 'panic',\n",
              " 'state',\n",
              " 'drowsiness',\n",
              " 'heart',\n",
              " 'get',\n",
              " 'why',\n",
              " 'had',\n",
              " 'muscle',\n",
              " 'depressed',\n",
              " 'by',\n",
              " 'was',\n",
              " 'allergic',\n",
              " 'rash',\n",
              " 'review',\n",
              " 'here',\n",
              " 'swings',\n",
              " 'check',\n",
              " 'swelling',\n",
              " 'bipolar',\n",
              " 'know',\n",
              " 'need',\n",
              " 'an',\n",
              " 'love',\n",
              " '#',\n",
              " 'day',\n",
              " 'wakefulness',\n",
              " 'just',\n",
              " 'could',\n",
              " \"n't\",\n",
              " 'make',\n",
              " 'eating',\n",
              " 'm',\n",
              " 'great',\n",
              " 'loss',\n",
              " 'post',\n",
              " 'fatigue',\n",
              " 'site',\n",
              " 'test',\n",
              " 'headache',\n",
              " 'help',\n",
              " 'has',\n",
              " '30',\n",
              " 'ca',\n",
              " 'brain',\n",
              " 'thanks',\n",
              " 'but',\n",
              " 'liver',\n",
              " 'reaction',\n",
              " 'infection',\n",
              " 'will',\n",
              " 'intolerance',\n",
              " 'posted',\n",
              " 'gfb',\n",
              " 'tremor',\n",
              " 'breast',\n",
              " 'eat',\n",
              " 'recipe',\n",
              " 'who',\n",
              " 'joint',\n",
              " 'time',\n",
              " 're',\n",
              " 'dreams',\n",
              " 'makes',\n",
              " 's',\n",
              " 'us',\n",
              " 'when',\n",
              " 'tired',\n",
              " 'does',\n",
              " 'eye',\n",
              " 'respiratory',\n",
              " 'may',\n",
              " 'life',\n",
              " 'living',\n",
              " 'injury',\n",
              " 'night',\n",
              " 'people',\n",
              " 'death',\n",
              " 'rage',\n",
              " 'attack',\n",
              " 'still',\n",
              " 'heres',\n",
              " '\\r \\n ',\n",
              " 'go',\n",
              " '2',\n",
              " 'dry',\n",
              " 'abdominal',\n",
              " 'going',\n",
              " 'there',\n",
              " 'jennieo',\n",
              " 'attacks',\n",
              " 'hemorrhage',\n",
              " 'take',\n",
              " 'sleepy',\n",
              " 'deficit',\n",
              " 'some',\n",
              " 'tips',\n",
              " 'no',\n",
              " 'did',\n",
              " 'taste',\n",
              " 'archives',\n",
              " 'psychotic',\n",
              " 'read',\n",
              " 'today',\n",
              " 'bone',\n",
              " 'carcinoma',\n",
              " 'think',\n",
              " 'initial',\n",
              " 'news',\n",
              " 'being',\n",
              " 'failure',\n",
              " 'allergy',\n",
              " 'daytime',\n",
              " 'should',\n",
              " 'chicken',\n",
              " 'gastrointestinal',\n",
              " 'cardiac',\n",
              " 'good',\n",
              " 'chronic',\n",
              " 'super',\n",
              " '1',\n",
              " 'infections',\n",
              " 'difficulty',\n",
              " 'edema',\n",
              " 'back',\n",
              " 'numbness',\n",
              " 'hallucinations',\n",
              " 'big',\n",
              " 'sweating',\n",
              " 'they',\n",
              " 'ulcer',\n",
              " 'anger',\n",
              " 'much',\n",
              " 'pulmonary',\n",
              " 'want',\n",
              " 'middle',\n",
              " '\\r \\n \\r \\n ',\n",
              " 'down',\n",
              " 'stiffness',\n",
              " 'exhaustion',\n",
              " 'pizza',\n",
              " 'one',\n",
              " 'level',\n",
              " 'sleepiness',\n",
              " 'zombie',\n",
              " 'facial',\n",
              " 'nightmares',\n",
              " 'article',\n",
              " 'please',\n",
              " \"'m\",\n",
              " 'happy',\n",
              " 'dermatitis',\n",
              " 'stomach',\n",
              " 'migraine',\n",
              " 'dependence',\n",
              " 'localised',\n",
              " '5',\n",
              " 'sensation',\n",
              " 'asleep',\n",
              " 'cell',\n",
              " 'aggravated',\n",
              " 'discomfort',\n",
              " 'awareness',\n",
              " 'share',\n",
              " 'those',\n",
              " 'sensitivity',\n",
              " 'low',\n",
              " 'patients',\n",
              " 'disturbances',\n",
              " 'kidney',\n",
              " 'too',\n",
              " 'best',\n",
              " '10',\n",
              " 'suicidal',\n",
              " 'blog',\n",
              " 'cerebral',\n",
              " 'conditions',\n",
              " 'function',\n",
              " 'pressure',\n",
              " 'vomiting',\n",
              " 'system',\n",
              " 'ever',\n",
              " 'concentration',\n",
              " 'distress',\n",
              " '4',\n",
              " 'vision',\n",
              " 'wide',\n",
              " 'depressive',\n",
              " 'damage',\n",
              " 'diagnosis',\n",
              " 'dizzy',\n",
              " 'many',\n",
              " 'dysfunction',\n",
              " 'anemia',\n",
              " 'spasm',\n",
              " 'cookbook',\n",
              " 'gf',\n",
              " 'arrest',\n",
              " 'dr',\n",
              " 'seizures',\n",
              " 'non',\n",
              " 'bad',\n",
              " 'very',\n",
              " 'any',\n",
              " 'change',\n",
              " 'foot',\n",
              " 'episode',\n",
              " 'bite',\n",
              " 'uterine',\n",
              " 'serum',\n",
              " 'am',\n",
              " 'social',\n",
              " 'compulsive',\n",
              " 'even',\n",
              " 'depersonalization',\n",
              " 'find',\n",
              " 'crazy',\n",
              " 'adderall',\n",
              " 'arthritis',\n",
              " 'irritation',\n",
              " 'chest',\n",
              " 'try',\n",
              " 'health',\n",
              " 'high',\n",
              " 'also',\n",
              " 'neoplasm',\n",
              " 'u',\n",
              " 'these',\n",
              " 'pruritus',\n",
              " 'show',\n",
              " 'see',\n",
              " 'week',\n",
              " 'autographed',\n",
              " 'soup',\n",
              " 'ache',\n",
              " 'only',\n",
              " 'getting',\n",
              " 'wheat',\n",
              " 'safe',\n",
              " 'oedema',\n",
              " 'emotional',\n",
              " 'tooth',\n",
              " 'vivid',\n",
              " 'hunger',\n",
              " 'been',\n",
              " 'easy',\n",
              " '2014',\n",
              " 'way',\n",
              " 'alcohol',\n",
              " 'memory',\n",
              " 'diagnosed',\n",
              " 'their',\n",
              " 'cancer',\n",
              " 'fracture',\n",
              " 'really',\n",
              " 'making',\n",
              " 'genital',\n",
              " 'malignant',\n",
              " 'impairment',\n",
              " 'hungry',\n",
              " 'hypertension',\n",
              " 'hepatic',\n",
              " 'hurt',\n",
              " 'first',\n",
              " 'bread',\n",
              " 'urine',\n",
              " 'face',\n",
              " 'hours',\n",
              " 'well',\n",
              " 'off',\n",
              " 'top',\n",
              " 'story',\n",
              " 'giveaway',\n",
              " 'study',\n",
              " 'nauseous',\n",
              " 'days',\n",
              " 'fear',\n",
              " 'delicious',\n",
              " 'intoxication',\n",
              " 'nervous',\n",
              " 'linked',\n",
              " '6',\n",
              " 'asthma',\n",
              " 'abuse',\n",
              " '3',\n",
              " 'necrosis',\n",
              " 'elevated',\n",
              " 'bulimia',\n",
              " 'learn',\n",
              " 'over',\n",
              " 'injection',\n",
              " 'cold',\n",
              " 'cramps',\n",
              " 'friends',\n",
              " 'foods',\n",
              " 'shoulder',\n",
              " 'corneal',\n",
              " 'obsessive',\n",
              " 'would',\n",
              " 'thank',\n",
              " 'oral',\n",
              " 'euphoric',\n",
              " 'effect',\n",
              " 'drowsy',\n",
              " 'tongue',\n",
              " 'ventricular',\n",
              " 'localized',\n",
              " 'recipes',\n",
              " 'withdrawals',\n",
              " 'neoplasms',\n",
              " 'chocolate',\n",
              " 'consciousness',\n",
              " 'other',\n",
              " 'healthy',\n",
              " 'bowl',\n",
              " 'issues',\n",
              " 'candidiasis',\n",
              " 'diabetes',\n",
              " 'nasal',\n",
              " 'sick',\n",
              " 'others',\n",
              " 'tract',\n",
              " 'years',\n",
              " 'painful',\n",
              " 'sexual',\n",
              " 'whole',\n",
              " 'sneezing',\n",
              " 'looking',\n",
              " 'coming',\n",
              " 'sweat',\n",
              " 'overdose',\n",
              " 'angry',\n",
              " 'decrease',\n",
              " 'gastric',\n",
              " 'thinking',\n",
              " 'book',\n",
              " 'peripheral',\n",
              " 'thoughts',\n",
              " 'most',\n",
              " 'list',\n",
              " 've',\n",
              " 'arthropod',\n",
              " 'hear',\n",
              " 'quinoa',\n",
              " 'fever',\n",
              " 'glucose',\n",
              " 'block',\n",
              " 'last',\n",
              " 'lightheadedness',\n",
              " 'lose',\n",
              " 'insufficiency',\n",
              " 'made',\n",
              " 'eyes',\n",
              " 'injuries',\n",
              " 'year',\n",
              " 'info',\n",
              " 'visual',\n",
              " 'colitis',\n",
              " 'next',\n",
              " 'erythema',\n",
              " 'pneumonia',\n",
              " 'electrocardiogram',\n",
              " 'personality',\n",
              " 'page',\n",
              " 'urticaria',\n",
              " 'tingling',\n",
              " '7',\n",
              " 'better',\n",
              " 'lung',\n",
              " 'obstruction',\n",
              " 'craving',\n",
              " 'lost',\n",
              " 'paranoid',\n",
              " '100',\n",
              " 'generalized',\n",
              " 'losing',\n",
              " 'problems',\n",
              " 'america',\n",
              " 'ear',\n",
              " 'speech',\n",
              " 'nerve',\n",
              " 'atrophy',\n",
              " 'libido',\n",
              " 'fractures',\n",
              " 'count',\n",
              " 'metastatic',\n",
              " 'ejaculation',\n",
              " 'options',\n",
              " 'cause',\n",
              " 'own',\n",
              " 'mind',\n",
              " 'headaches',\n",
              " 'things',\n",
              " 'away',\n",
              " 'erection',\n",
              " 'thirst',\n",
              " 'inflammation',\n",
              " 'binge',\n",
              " 'renal',\n",
              " 'follow',\n",
              " 'always',\n",
              " 'after',\n",
              " 'female',\n",
              " 'minutes',\n",
              " 'child',\n",
              " 'head',\n",
              " 'weird',\n",
              " 'same',\n",
              " 'stop',\n",
              " 'potassium',\n",
              " 'friendly',\n",
              " 'convention',\n",
              " 'interview',\n",
              " 'psychosis',\n",
              " 'falling',\n",
              " 'interesting',\n",
              " 'mouth',\n",
              " 'important',\n",
              " 'hip',\n",
              " 'coeliac',\n",
              " 'part',\n",
              " 'diagnose',\n",
              " 'link',\n",
              " 'despair',\n",
              " 'special',\n",
              " 'little',\n",
              " 'throat',\n",
              " 'movements',\n",
              " 'weeks',\n",
              " 'symptom',\n",
              " 'adenocarcinoma',\n",
              " 'lack',\n",
              " 'excessive',\n",
              " 'ask',\n",
              " 'kids',\n",
              " 'hepatitis',\n",
              " 'diarrhea',\n",
              " 'start',\n",
              " 'look',\n",
              " 'diabetic',\n",
              " 'yes',\n",
              " 'miss',\n",
              " 'affect',\n",
              " 'ok',\n",
              " 'muscular',\n",
              " 'stress',\n",
              " 'because',\n",
              " 'breaking',\n",
              " 'talk',\n",
              " 'gfree',\n",
              " 'palpitations',\n",
              " 'than',\n",
              " 'terrible',\n",
              " 'sunday',\n",
              " 'every',\n",
              " 'wo',\n",
              " '2013',\n",
              " 'tendency',\n",
              " 'hypomania',\n",
              " 'breathing',\n",
              " 'tachycardia',\n",
              " 'cookies',\n",
              " 'bacterial',\n",
              " 'unconscious',\n",
              " 'risk',\n",
              " 'anyone',\n",
              " 'come',\n",
              " 'itching',\n",
              " 'suicide',\n",
              " 'bakery',\n",
              " 'keep',\n",
              " 'lbs',\n",
              " 'red',\n",
              " 'application',\n",
              " 'limb',\n",
              " 'community',\n",
              " 'where',\n",
              " 'hard',\n",
              " 'menu',\n",
              " 'latest',\n",
              " 'arrhythmia',\n",
              " 'world',\n",
              " 'support',\n",
              " 'before',\n",
              " 'sedated',\n",
              " 'bleeding',\n",
              " 'sinus',\n",
              " 'lower',\n",
              " 'cake',\n",
              " 'intestinal',\n",
              " 'pm',\n",
              " 'breakfast',\n",
              " 'deficiency',\n",
              " 'terrors',\n",
              " 'sudden',\n",
              " 'live',\n",
              " 'tissue',\n",
              " 'thyroid',\n",
              " 'vertigo',\n",
              " 'lupus',\n",
              " 'prolonged',\n",
              " 'type',\n",
              " 'density',\n",
              " 'reasons',\n",
              " 'tolerance',\n",
              " 'join',\n",
              " 'positive',\n",
              " 'neuropathy',\n",
              " 'then',\n",
              " 'again',\n",
              " 'atrial',\n",
              " 'ty',\n",
              " 'haemorrhage',\n",
              " 'vaginal',\n",
              " 'interactions',\n",
              " 'musculoskeletal',\n",
              " 'stay',\n",
              " 'work',\n",
              " 'ready',\n",
              " 'which',\n",
              " 'swollen',\n",
              " 'valentines',\n",
              " 'her',\n",
              " 'awesome',\n",
              " 'month',\n",
              " 'someone',\n",
              " 'gained',\n",
              " 'adrenal',\n",
              " 'impaired',\n",
              " 'mad',\n",
              " 'migraines',\n",
              " 'sentence',\n",
              " 'atrioventricular',\n",
              " 'cutaneous',\n",
              " 'rice',\n",
              " 'partial',\n",
              " 'local',\n",
              " 'reduced',\n",
              " 'traumatic',\n",
              " 'twitch',\n",
              " 'long',\n",
              " 'restaurant',\n",
              " 'hot',\n",
              " 'problem',\n",
              " 'restaurants',\n",
              " 'market',\n",
              " 'vasculitis',\n",
              " 'healthier',\n",
              " 'acne',\n",
              " 'were',\n",
              " 'prozac',\n",
              " 'pinterest',\n",
              " 'hey',\n",
              " 'arousal',\n",
              " 'less',\n",
              " 'sure',\n",
              " 'purpura',\n",
              " 'upper',\n",
              " 'perforation',\n",
              " 'through',\n",
              " 'cough',\n",
              " 'hyperactivity',\n",
              " 'trippin',\n",
              " 'gland',\n",
              " 'rhinitis',\n",
              " 'ideas',\n",
              " 'different',\n",
              " 'hyper',\n",
              " 'esophageal',\n",
              " 'mt',\n",
              " 'few',\n",
              " 'gut',\n",
              " 'changes',\n",
              " 'common',\n",
              " 'simple',\n",
              " 'confusion',\n",
              " 'paranoia',\n",
              " 'involuntary',\n",
              " 'exhausted',\n",
              " 'drunk',\n",
              " 'bones',\n",
              " 'add',\n",
              " 'testing',\n",
              " 'infarction',\n",
              " 'flour',\n",
              " 'substance',\n",
              " 'allergies',\n",
              " 'fluid',\n",
              " 'tenderness',\n",
              " 'fall',\n",
              " 'creatinine',\n",
              " 'autoimmune',\n",
              " 'immune',\n",
              " 'lets',\n",
              " 'manic',\n",
              " 'able',\n",
              " 'bites',\n",
              " 'acidosis',\n",
              " 'walking',\n",
              " 'something',\n",
              " 'digestive',\n",
              " 'sleeping',\n",
              " 'pledge',\n",
              " 'grain',\n",
              " 'labored',\n",
              " 'rheumatoid',\n",
              " 'interest',\n",
              " 'multiple',\n",
              " 'indifferent',\n",
              " 'them',\n",
              " 'bowel',\n",
              " 'early',\n",
              " 'bladder',\n",
              " 'glutened',\n",
              " 'person',\n",
              " 'hurting',\n",
              " 'antisocial',\n",
              " 'altered',\n",
              " 'tested',\n",
              " 'spasms',\n",
              " 'secondary',\n",
              " 'result',\n",
              " 'yet',\n",
              " 'might',\n",
              " 'neck',\n",
              " 'h',\n",
              " 'two',\n",
              " 'fun',\n",
              " '&',\n",
              " 'his',\n",
              " 'ur',\n",
              " 'archive',\n",
              " 'cyst',\n",
              " 'undiagnosed',\n",
              " 'meet',\n",
              " 'syncope',\n",
              " 'family',\n",
              " 'abnormality',\n",
              " 'motor',\n",
              " 'doing',\n",
              " 'focusing',\n",
              " 'awful',\n",
              " 'fucked',\n",
              " 'medical',\n",
              " 'd',\n",
              " 'nail',\n",
              " 'blurred',\n",
              " 'shaking',\n",
              " 'acid',\n",
              " 'never',\n",
              " 'eaten',\n",
              " 'event',\n",
              " 'ill',\n",
              " 'limbs',\n",
              " 'found',\n",
              " 'pounding',\n",
              " 'into',\n",
              " 'full',\n",
              " 'myself',\n",
              " 'expo',\n",
              " 'experience',\n",
              " 'call',\n",
              " 'between',\n",
              " 'intense',\n",
              " 'camp',\n",
              " 'provide',\n",
              " 'another',\n",
              " '/',\n",
              " 'myocardial',\n",
              " 'paralysed',\n",
              " 'knee',\n",
              " 'embolism',\n",
              " 'lesion',\n",
              " 'research',\n",
              " 'sinusitis',\n",
              " 'delayed',\n",
              " 'ulcerative',\n",
              " 'anxious',\n",
              " 'weekend',\n",
              " 'mellitus',\n",
              " 'deafness',\n",
              " 'leukemia',\n",
              " 'blindness',\n",
              " 'understand',\n",
              " 'thing',\n",
              " '8',\n",
              " 'remember',\n",
              " 'accidental',\n",
              " 'epidermal',\n",
              " 'premature',\n",
              " 'must',\n",
              " 'unspecified',\n",
              " 'action',\n",
              " 'tests',\n",
              " 'influenza',\n",
              " 'rise',\n",
              " 'hypertrophy',\n",
              " 'sore',\n",
              " 'syndromes',\n",
              " 'prostate',\n",
              " 'hearing',\n",
              " 'toxicity',\n",
              " 'thrombosis',\n",
              " '24',\n",
              " 'hate',\n",
              " 'having',\n",
              " 'bronchitis',\n",
              " 'children',\n",
              " 'temperature',\n",
              " 'groggy',\n",
              " 'shock',\n",
              " 'place',\n",
              " 'rupture',\n",
              " 'listen',\n",
              " 'neuralgia',\n",
              " 'matters',\n",
              " 'oats',\n",
              " 'sharing',\n",
              " 'zaps',\n",
              " 'ovarian',\n",
              " 'erythematosus',\n",
              " 'lifestyle',\n",
              " 'urinary',\n",
              " 'hyperplasia',\n",
              " 'wait',\n",
              " 'sad',\n",
              " 'until',\n",
              " \"'s\",\n",
              " 'cystitis',\n",
              " 'radio',\n",
              " 'hypersomnia',\n",
              " 'girl',\n",
              " 'without',\n",
              " 'says',\n",
              " 'dinner',\n",
              " 'serve',\n",
              " 'poor',\n",
              " 'total',\n",
              " 'artery',\n",
              " 'break',\n",
              " 'needs',\n",
              " 'cook',\n",
              " 'male',\n",
              " 'conjunctivitis',\n",
              " 'anything',\n",
              " 'mean',\n",
              " 'affects',\n",
              " 'macular',\n",
              " 'guide',\n",
              " 'fad',\n",
              " 'steroid',\n",
              " 'worse',\n",
              " 'herpes',\n",
              " 'summer',\n",
              " 'epilepsy',\n",
              " 'bruxism',\n",
              " 'abdomen',\n",
              " 'thinness',\n",
              " 'distracted',\n",
              " 'abscess',\n",
              " 'bloating',\n",
              " 'porphyria',\n",
              " 'erectile',\n",
              " 'crust',\n",
              " 'metabolic',\n",
              " 'keeping',\n",
              " 'arteritis',\n",
              " 'ago',\n",
              " 'eyelid',\n",
              " 'reading',\n",
              " 'avoid',\n",
              " 'viral',\n",
              " 'bullous',\n",
              " 'll',\n",
              " 'heartburn',\n",
              " 'alkalosis',\n",
              " 'discoloration',\n",
              " 'ischemia',\n",
              " 'burning',\n",
              " '20',\n",
              " 'eruptions',\n",
              " 'ways',\n",
              " 'hurts',\n",
              " 'associated',\n",
              " 'sickness',\n",
              " 'obstructive',\n",
              " 'trying',\n",
              " 'bilirubin',\n",
              " 'order',\n",
              " 'ocular',\n",
              " 'fibrillation',\n",
              " 'say',\n",
              " 'generalised',\n",
              " '22',\n",
              " 'deprived',\n",
              " 'favorite',\n",
              " 'fucking',\n",
              " '1st',\n",
              " 'numb',\n",
              " 'hope',\n",
              " 'hit',\n",
              " 'excited',\n",
              " 'retention',\n",
              " 'hangover',\n",
              " 'behaviour',\n",
              " 'enzyme',\n",
              " 'pretty',\n",
              " 'baking',\n",
              " 'puking',\n",
              " 'amazing',\n",
              " 'quality',\n",
              " 'black',\n",
              " 'beer',\n",
              " 'gait',\n",
              " 'illness',\n",
              " 'iron',\n",
              " 'schizophrenia',\n",
              " 'contact',\n",
              " 'tonight',\n",
              " 'group',\n",
              " 'water',\n",
              " 'bitch',\n",
              " 'shit',\n",
              " 'drugs',\n",
              " 'toxic',\n",
              " 'esophagitis',\n",
              " 'real',\n",
              " 'otitis',\n",
              " 'rate',\n",
              " 'morning',\n",
              " 'calcium',\n",
              " 'slept',\n",
              " 'completely',\n",
              " 'increase',\n",
              " 'anorexia',\n",
              " 'r',\n",
              " 'cheese',\n",
              " 'actual',\n",
              " 'plague',\n",
              " 'grumpy',\n",
              " 'around',\n",
              " 'available',\n",
              " 'finally',\n",
              " 'enough',\n",
              " 'series',\n",
              " 'infusion',\n",
              " 'central',\n",
              " 'meals',\n",
              " 'difficult',\n",
              " 'retweet',\n",
              " 'nothing',\n",
              " 'media',\n",
              " 'sensitive',\n",
              " 'pregnancy',\n",
              " 'alkaline',\n",
              " 'paresis',\n",
              " 'retinal',\n",
              " 'atrophic',\n",
              " 'premenstrual',\n",
              " 'eosinophilia',\n",
              " 'gingival',\n",
              " 'went',\n",
              " 'international',\n",
              " 'everything',\n",
              " 'spread',\n",
              " 'awakening',\n",
              " 'dyspnea',\n",
              " 'cortisone',\n",
              " 'protein',\n",
              " 'b12',\n",
              " 'actually',\n",
              " 'sign',\n",
              " 'answer',\n",
              " 'streptococcal',\n",
              " 'odour',\n",
              " 'snack',\n",
              " 'featured',\n",
              " 'conjunctival',\n",
              " 'hands',\n",
              " 'disorientation',\n",
              " 'vulvovaginal',\n",
              " 'major',\n",
              " 'convulsive',\n",
              " 'clean',\n",
              " 'tx',\n",
              " ...]"
            ]
          },
          "metadata": {
            "tags": []
          },
          "execution_count": 18
        }
      ]
    },
    {
      "cell_type": "code",
      "metadata": {
        "id": "yPWr03mls3VT",
        "outputId": "08ba737a-ee56-4970-c039-b9d72eb48096",
        "colab": {
          "base_uri": "https://localhost:8080/",
          "height": 17
        }
      },
      "source": [
        "model_path = path/'models'\n",
        "model_path.mkdir(exist_ok=True)\n",
        "url = 'http://files.fast.ai/models/wt103_v1/'\n",
        "download_url(f'{url}lstm_wt103.pth', model_path/'lstm_wt103.pth')\n",
        "download_url(f'{url}itos_wt103.pkl', model_path/'itos_wt103.pkl')"
      ],
      "execution_count": 19,
      "outputs": [
        {
          "output_type": "display_data",
          "data": {
            "text/html": [
              ""
            ],
            "text/plain": [
              "<IPython.core.display.HTML object>"
            ]
          },
          "metadata": {
            "tags": []
          }
        },
        {
          "output_type": "display_data",
          "data": {
            "text/html": [
              ""
            ],
            "text/plain": [
              "<IPython.core.display.HTML object>"
            ]
          },
          "metadata": {
            "tags": []
          }
        }
      ]
    },
    {
      "cell_type": "code",
      "metadata": {
        "id": "JRzvWg8RtGGr",
        "outputId": "69ee9a7c-c2bd-4fa3-ffb5-654abe3283d5",
        "colab": {
          "base_uri": "https://localhost:8080/",
          "height": 34
        }
      },
      "source": [
        "learn = language_model_learner(data_lm, AWD_LSTM, drop_mult=0.5)"
      ],
      "execution_count": 20,
      "outputs": [
        {
          "output_type": "stream",
          "text": [
            "Downloading https://s3.amazonaws.com/fast-ai-modelzoo/wt103-fwd.tgz\n"
          ],
          "name": "stdout"
        },
        {
          "output_type": "display_data",
          "data": {
            "text/html": [
              ""
            ],
            "text/plain": [
              "<IPython.core.display.HTML object>"
            ]
          },
          "metadata": {
            "tags": []
          }
        }
      ]
    },
    {
      "cell_type": "code",
      "metadata": {
        "id": "xKK7GeBev7Xn",
        "outputId": "7c0f9685-b3b4-4f6a-c9cb-f769dadbb1d2",
        "colab": {
          "base_uri": "https://localhost:8080/",
          "height": 80
        }
      },
      "source": [
        "learn.fit_one_cycle(1, 1e-2)"
      ],
      "execution_count": 21,
      "outputs": [
        {
          "output_type": "display_data",
          "data": {
            "text/html": [
              "<table border=\"1\" class=\"dataframe\">\n",
              "  <thead>\n",
              "    <tr style=\"text-align: left;\">\n",
              "      <th>epoch</th>\n",
              "      <th>train_loss</th>\n",
              "      <th>valid_loss</th>\n",
              "      <th>accuracy</th>\n",
              "      <th>time</th>\n",
              "    </tr>\n",
              "  </thead>\n",
              "  <tbody>\n",
              "    <tr>\n",
              "      <td>0</td>\n",
              "      <td>4.366084</td>\n",
              "      <td>3.542057</td>\n",
              "      <td>0.448605</td>\n",
              "      <td>08:15</td>\n",
              "    </tr>\n",
              "  </tbody>\n",
              "</table>"
            ],
            "text/plain": [
              "<IPython.core.display.HTML object>"
            ]
          },
          "metadata": {
            "tags": []
          }
        }
      ]
    },
    {
      "cell_type": "code",
      "metadata": {
        "id": "iB7rHGQCwd12",
        "outputId": "8ffc9fb8-989f-4d48-de23-f62ae1cf2dc6",
        "colab": {
          "base_uri": "https://localhost:8080/",
          "height": 80
        }
      },
      "source": [
        "learn.fit_one_cycle(1, 1e-2)"
      ],
      "execution_count": 22,
      "outputs": [
        {
          "output_type": "display_data",
          "data": {
            "text/html": [
              "<table border=\"1\" class=\"dataframe\">\n",
              "  <thead>\n",
              "    <tr style=\"text-align: left;\">\n",
              "      <th>epoch</th>\n",
              "      <th>train_loss</th>\n",
              "      <th>valid_loss</th>\n",
              "      <th>accuracy</th>\n",
              "      <th>time</th>\n",
              "    </tr>\n",
              "  </thead>\n",
              "  <tbody>\n",
              "    <tr>\n",
              "      <td>0</td>\n",
              "      <td>3.282768</td>\n",
              "      <td>3.033051</td>\n",
              "      <td>0.505078</td>\n",
              "      <td>08:14</td>\n",
              "    </tr>\n",
              "  </tbody>\n",
              "</table>"
            ],
            "text/plain": [
              "<IPython.core.display.HTML object>"
            ]
          },
          "metadata": {
            "tags": []
          }
        }
      ]
    },
    {
      "cell_type": "code",
      "metadata": {
        "id": "_BnSuAeCwkBe",
        "outputId": "b07f20ae-eab4-49b1-965a-9d6644524c75",
        "colab": {
          "base_uri": "https://localhost:8080/",
          "height": 80
        }
      },
      "source": [
        "learn.fit_one_cycle(1, 1e-3)"
      ],
      "execution_count": 23,
      "outputs": [
        {
          "output_type": "display_data",
          "data": {
            "text/html": [
              "<table border=\"1\" class=\"dataframe\">\n",
              "  <thead>\n",
              "    <tr style=\"text-align: left;\">\n",
              "      <th>epoch</th>\n",
              "      <th>train_loss</th>\n",
              "      <th>valid_loss</th>\n",
              "      <th>accuracy</th>\n",
              "      <th>time</th>\n",
              "    </tr>\n",
              "  </thead>\n",
              "  <tbody>\n",
              "    <tr>\n",
              "      <td>0</td>\n",
              "      <td>3.037021</td>\n",
              "      <td>2.986022</td>\n",
              "      <td>0.509975</td>\n",
              "      <td>08:14</td>\n",
              "    </tr>\n",
              "  </tbody>\n",
              "</table>"
            ],
            "text/plain": [
              "<IPython.core.display.HTML object>"
            ]
          },
          "metadata": {
            "tags": []
          }
        }
      ]
    },
    {
      "cell_type": "code",
      "metadata": {
        "id": "MuTm-RFjwrEX",
        "outputId": "68bea24b-dc76-4be3-fc20-a98d35cce14a",
        "colab": {
          "base_uri": "https://localhost:8080/",
          "height": 80
        }
      },
      "source": [
        "learn.fit_one_cycle(1, 1e-3)"
      ],
      "execution_count": 24,
      "outputs": [
        {
          "output_type": "display_data",
          "data": {
            "text/html": [
              "<table border=\"1\" class=\"dataframe\">\n",
              "  <thead>\n",
              "    <tr style=\"text-align: left;\">\n",
              "      <th>epoch</th>\n",
              "      <th>train_loss</th>\n",
              "      <th>valid_loss</th>\n",
              "      <th>accuracy</th>\n",
              "      <th>time</th>\n",
              "    </tr>\n",
              "  </thead>\n",
              "  <tbody>\n",
              "    <tr>\n",
              "      <td>0</td>\n",
              "      <td>2.979152</td>\n",
              "      <td>2.946609</td>\n",
              "      <td>0.514495</td>\n",
              "      <td>08:14</td>\n",
              "    </tr>\n",
              "  </tbody>\n",
              "</table>"
            ],
            "text/plain": [
              "<IPython.core.display.HTML object>"
            ]
          },
          "metadata": {
            "tags": []
          }
        }
      ]
    },
    {
      "cell_type": "code",
      "metadata": {
        "id": "1Er2ExO8wr7Y"
      },
      "source": [
        "learn.save_encoder('TwADR-bigtweet_fold1_first')"
      ],
      "execution_count": 25,
      "outputs": []
    },
    {
      "cell_type": "code",
      "metadata": {
        "id": "z52cZs2qwvad",
        "outputId": "e29a2e95-b070-44c8-daf4-d3bbf548a9fb",
        "colab": {
          "base_uri": "https://localhost:8080/",
          "height": 80
        }
      },
      "source": [
        "learn = text_classifier_learner(data_clas,AWD_LSTM, drop_mult=0.5)\n",
        "learn.load_encoder('TwADR-bigtweet_fold1_first')\n",
        "learn.fit_one_cycle(1, 1e-2)"
      ],
      "execution_count": 26,
      "outputs": [
        {
          "output_type": "display_data",
          "data": {
            "text/html": [
              "<table border=\"1\" class=\"dataframe\">\n",
              "  <thead>\n",
              "    <tr style=\"text-align: left;\">\n",
              "      <th>epoch</th>\n",
              "      <th>train_loss</th>\n",
              "      <th>valid_loss</th>\n",
              "      <th>accuracy</th>\n",
              "      <th>time</th>\n",
              "    </tr>\n",
              "  </thead>\n",
              "  <tbody>\n",
              "    <tr>\n",
              "      <td>0</td>\n",
              "      <td>7.204280</td>\n",
              "      <td>6.642648</td>\n",
              "      <td>0.114035</td>\n",
              "      <td>00:21</td>\n",
              "    </tr>\n",
              "  </tbody>\n",
              "</table>"
            ],
            "text/plain": [
              "<IPython.core.display.HTML object>"
            ]
          },
          "metadata": {
            "tags": []
          }
        }
      ]
    },
    {
      "cell_type": "code",
      "metadata": {
        "id": "ImwQP1PJwzxd",
        "outputId": "c5100f53-77f0-48d0-f7d3-f92c48fecec5",
        "colab": {
          "base_uri": "https://localhost:8080/",
          "height": 80
        }
      },
      "source": [
        "learn.freeze_to(-2)\n",
        "learn.fit_one_cycle(1, slice(5e-3/2., 5e-3))"
      ],
      "execution_count": 27,
      "outputs": [
        {
          "output_type": "display_data",
          "data": {
            "text/html": [
              "<table border=\"1\" class=\"dataframe\">\n",
              "  <thead>\n",
              "    <tr style=\"text-align: left;\">\n",
              "      <th>epoch</th>\n",
              "      <th>train_loss</th>\n",
              "      <th>valid_loss</th>\n",
              "      <th>accuracy</th>\n",
              "      <th>time</th>\n",
              "    </tr>\n",
              "  </thead>\n",
              "  <tbody>\n",
              "    <tr>\n",
              "      <td>0</td>\n",
              "      <td>6.308655</td>\n",
              "      <td>5.187312</td>\n",
              "      <td>0.166667</td>\n",
              "      <td>00:25</td>\n",
              "    </tr>\n",
              "  </tbody>\n",
              "</table>"
            ],
            "text/plain": [
              "<IPython.core.display.HTML object>"
            ]
          },
          "metadata": {
            "tags": []
          }
        }
      ]
    },
    {
      "cell_type": "code",
      "metadata": {
        "id": "Owff_BJXw53u",
        "outputId": "a7a664d9-c6d7-4b32-b2f8-4ecbc683192c",
        "colab": {
          "base_uri": "https://localhost:8080/",
          "height": 80
        }
      },
      "source": [
        "learn.unfreeze()\n",
        "learn.fit_one_cycle(1, slice(2e-3/100, 2e-3))"
      ],
      "execution_count": 28,
      "outputs": [
        {
          "output_type": "display_data",
          "data": {
            "text/html": [
              "<table border=\"1\" class=\"dataframe\">\n",
              "  <thead>\n",
              "    <tr style=\"text-align: left;\">\n",
              "      <th>epoch</th>\n",
              "      <th>train_loss</th>\n",
              "      <th>valid_loss</th>\n",
              "      <th>accuracy</th>\n",
              "      <th>time</th>\n",
              "    </tr>\n",
              "  </thead>\n",
              "  <tbody>\n",
              "    <tr>\n",
              "      <td>0</td>\n",
              "      <td>5.747407</td>\n",
              "      <td>4.699819</td>\n",
              "      <td>0.192982</td>\n",
              "      <td>01:00</td>\n",
              "    </tr>\n",
              "  </tbody>\n",
              "</table>"
            ],
            "text/plain": [
              "<IPython.core.display.HTML object>"
            ]
          },
          "metadata": {
            "tags": []
          }
        }
      ]
    },
    {
      "cell_type": "code",
      "metadata": {
        "id": "lqAyu56V8Waq",
        "outputId": "f2c6d831-3c13-4a7d-bbe7-0545f6900598",
        "colab": {
          "base_uri": "https://localhost:8080/",
          "height": 111
        }
      },
      "source": [
        "learn.fit_one_cycle(2, slice(2e-3/100, 2e-3))"
      ],
      "execution_count": 29,
      "outputs": [
        {
          "output_type": "display_data",
          "data": {
            "text/html": [
              "<table border=\"1\" class=\"dataframe\">\n",
              "  <thead>\n",
              "    <tr style=\"text-align: left;\">\n",
              "      <th>epoch</th>\n",
              "      <th>train_loss</th>\n",
              "      <th>valid_loss</th>\n",
              "      <th>accuracy</th>\n",
              "      <th>time</th>\n",
              "    </tr>\n",
              "  </thead>\n",
              "  <tbody>\n",
              "    <tr>\n",
              "      <td>0</td>\n",
              "      <td>5.467620</td>\n",
              "      <td>4.201406</td>\n",
              "      <td>0.236842</td>\n",
              "      <td>00:58</td>\n",
              "    </tr>\n",
              "    <tr>\n",
              "      <td>1</td>\n",
              "      <td>5.241755</td>\n",
              "      <td>4.109206</td>\n",
              "      <td>0.254386</td>\n",
              "      <td>00:56</td>\n",
              "    </tr>\n",
              "  </tbody>\n",
              "</table>"
            ],
            "text/plain": [
              "<IPython.core.display.HTML object>"
            ]
          },
          "metadata": {
            "tags": []
          }
        }
      ]
    },
    {
      "cell_type": "code",
      "metadata": {
        "id": "a7I1xMRp8bUd",
        "outputId": "e1c61d82-1c3a-4a9b-fac1-9dc2d651fde6",
        "colab": {
          "base_uri": "https://localhost:8080/",
          "height": 111
        }
      },
      "source": [
        "learn.fit_one_cycle(2, slice(2e-3/100, 2e-3))"
      ],
      "execution_count": 30,
      "outputs": [
        {
          "output_type": "display_data",
          "data": {
            "text/html": [
              "<table border=\"1\" class=\"dataframe\">\n",
              "  <thead>\n",
              "    <tr style=\"text-align: left;\">\n",
              "      <th>epoch</th>\n",
              "      <th>train_loss</th>\n",
              "      <th>valid_loss</th>\n",
              "      <th>accuracy</th>\n",
              "      <th>time</th>\n",
              "    </tr>\n",
              "  </thead>\n",
              "  <tbody>\n",
              "    <tr>\n",
              "      <td>0</td>\n",
              "      <td>5.001527</td>\n",
              "      <td>3.874995</td>\n",
              "      <td>0.254386</td>\n",
              "      <td>00:57</td>\n",
              "    </tr>\n",
              "    <tr>\n",
              "      <td>1</td>\n",
              "      <td>4.807856</td>\n",
              "      <td>3.676269</td>\n",
              "      <td>0.289474</td>\n",
              "      <td>00:56</td>\n",
              "    </tr>\n",
              "  </tbody>\n",
              "</table>"
            ],
            "text/plain": [
              "<IPython.core.display.HTML object>"
            ]
          },
          "metadata": {
            "tags": []
          }
        }
      ]
    },
    {
      "cell_type": "code",
      "metadata": {
        "id": "UAnti-XmGVfO",
        "outputId": "59717884-95ef-472b-9219-4bbf0582dddc",
        "colab": {
          "base_uri": "https://localhost:8080/",
          "height": 111
        }
      },
      "source": [
        "learn.fit_one_cycle(2, slice(2e-3/100, 2e-3))"
      ],
      "execution_count": 31,
      "outputs": [
        {
          "output_type": "display_data",
          "data": {
            "text/html": [
              "<table border=\"1\" class=\"dataframe\">\n",
              "  <thead>\n",
              "    <tr style=\"text-align: left;\">\n",
              "      <th>epoch</th>\n",
              "      <th>train_loss</th>\n",
              "      <th>valid_loss</th>\n",
              "      <th>accuracy</th>\n",
              "      <th>time</th>\n",
              "    </tr>\n",
              "  </thead>\n",
              "  <tbody>\n",
              "    <tr>\n",
              "      <td>0</td>\n",
              "      <td>4.602865</td>\n",
              "      <td>3.609183</td>\n",
              "      <td>0.289474</td>\n",
              "      <td>00:56</td>\n",
              "    </tr>\n",
              "    <tr>\n",
              "      <td>1</td>\n",
              "      <td>4.415514</td>\n",
              "      <td>3.541717</td>\n",
              "      <td>0.350877</td>\n",
              "      <td>00:56</td>\n",
              "    </tr>\n",
              "  </tbody>\n",
              "</table>"
            ],
            "text/plain": [
              "<IPython.core.display.HTML object>"
            ]
          },
          "metadata": {
            "tags": []
          }
        }
      ]
    },
    {
      "cell_type": "code",
      "metadata": {
        "id": "bIft7W25GwSu",
        "outputId": "6635b977-936f-4faa-cc59-e2d0b53b92fa",
        "colab": {
          "base_uri": "https://localhost:8080/",
          "height": 111
        }
      },
      "source": [
        "learn.fit_one_cycle(2, slice(2e-3/100, 2e-3))"
      ],
      "execution_count": 32,
      "outputs": [
        {
          "output_type": "display_data",
          "data": {
            "text/html": [
              "<table border=\"1\" class=\"dataframe\">\n",
              "  <thead>\n",
              "    <tr style=\"text-align: left;\">\n",
              "      <th>epoch</th>\n",
              "      <th>train_loss</th>\n",
              "      <th>valid_loss</th>\n",
              "      <th>accuracy</th>\n",
              "      <th>time</th>\n",
              "    </tr>\n",
              "  </thead>\n",
              "  <tbody>\n",
              "    <tr>\n",
              "      <td>0</td>\n",
              "      <td>4.223264</td>\n",
              "      <td>3.330058</td>\n",
              "      <td>0.385965</td>\n",
              "      <td>00:56</td>\n",
              "    </tr>\n",
              "    <tr>\n",
              "      <td>1</td>\n",
              "      <td>4.081351</td>\n",
              "      <td>3.221958</td>\n",
              "      <td>0.368421</td>\n",
              "      <td>01:01</td>\n",
              "    </tr>\n",
              "  </tbody>\n",
              "</table>"
            ],
            "text/plain": [
              "<IPython.core.display.HTML object>"
            ]
          },
          "metadata": {
            "tags": []
          }
        }
      ]
    },
    {
      "cell_type": "code",
      "metadata": {
        "id": "EEHszVRvGyFt",
        "outputId": "a37edb13-11a7-4837-a288-9e52083c04fa",
        "colab": {
          "base_uri": "https://localhost:8080/",
          "height": 111
        }
      },
      "source": [
        "learn.fit_one_cycle(2, slice(2e-3/100, 2e-3))"
      ],
      "execution_count": 33,
      "outputs": [
        {
          "output_type": "display_data",
          "data": {
            "text/html": [
              "<table border=\"1\" class=\"dataframe\">\n",
              "  <thead>\n",
              "    <tr style=\"text-align: left;\">\n",
              "      <th>epoch</th>\n",
              "      <th>train_loss</th>\n",
              "      <th>valid_loss</th>\n",
              "      <th>accuracy</th>\n",
              "      <th>time</th>\n",
              "    </tr>\n",
              "  </thead>\n",
              "  <tbody>\n",
              "    <tr>\n",
              "      <td>0</td>\n",
              "      <td>3.886884</td>\n",
              "      <td>3.130270</td>\n",
              "      <td>0.350877</td>\n",
              "      <td>00:56</td>\n",
              "    </tr>\n",
              "    <tr>\n",
              "      <td>1</td>\n",
              "      <td>3.759220</td>\n",
              "      <td>3.065353</td>\n",
              "      <td>0.359649</td>\n",
              "      <td>01:03</td>\n",
              "    </tr>\n",
              "  </tbody>\n",
              "</table>"
            ],
            "text/plain": [
              "<IPython.core.display.HTML object>"
            ]
          },
          "metadata": {
            "tags": []
          }
        }
      ]
    },
    {
      "cell_type": "code",
      "metadata": {
        "id": "XsHfrhCHG3dN",
        "outputId": "10569ff3-fef0-4656-f31c-71ec836e15cc",
        "colab": {
          "base_uri": "https://localhost:8080/",
          "height": 173
        }
      },
      "source": [
        "learn.fit_one_cycle(4, slice(2e-3/100, 2e-3))"
      ],
      "execution_count": 34,
      "outputs": [
        {
          "output_type": "display_data",
          "data": {
            "text/html": [
              "<table border=\"1\" class=\"dataframe\">\n",
              "  <thead>\n",
              "    <tr style=\"text-align: left;\">\n",
              "      <th>epoch</th>\n",
              "      <th>train_loss</th>\n",
              "      <th>valid_loss</th>\n",
              "      <th>accuracy</th>\n",
              "      <th>time</th>\n",
              "    </tr>\n",
              "  </thead>\n",
              "  <tbody>\n",
              "    <tr>\n",
              "      <td>0</td>\n",
              "      <td>3.613041</td>\n",
              "      <td>3.037415</td>\n",
              "      <td>0.333333</td>\n",
              "      <td>00:59</td>\n",
              "    </tr>\n",
              "    <tr>\n",
              "      <td>1</td>\n",
              "      <td>3.516145</td>\n",
              "      <td>2.968035</td>\n",
              "      <td>0.385965</td>\n",
              "      <td>00:56</td>\n",
              "    </tr>\n",
              "    <tr>\n",
              "      <td>2</td>\n",
              "      <td>3.324007</td>\n",
              "      <td>2.929673</td>\n",
              "      <td>0.412281</td>\n",
              "      <td>00:56</td>\n",
              "    </tr>\n",
              "    <tr>\n",
              "      <td>3</td>\n",
              "      <td>3.156744</td>\n",
              "      <td>2.874431</td>\n",
              "      <td>0.421053</td>\n",
              "      <td>00:58</td>\n",
              "    </tr>\n",
              "  </tbody>\n",
              "</table>"
            ],
            "text/plain": [
              "<IPython.core.display.HTML object>"
            ]
          },
          "metadata": {
            "tags": []
          }
        }
      ]
    },
    {
      "cell_type": "code",
      "metadata": {
        "id": "0Zsd99isb9EQ",
        "outputId": "52393709-9321-4757-bd6a-a0d0ec4f3441",
        "colab": {
          "base_uri": "https://localhost:8080/",
          "height": 173
        }
      },
      "source": [
        "learn.fit_one_cycle(4, slice(2e-3/100, 2e-3))"
      ],
      "execution_count": 35,
      "outputs": [
        {
          "output_type": "display_data",
          "data": {
            "text/html": [
              "<table border=\"1\" class=\"dataframe\">\n",
              "  <thead>\n",
              "    <tr style=\"text-align: left;\">\n",
              "      <th>epoch</th>\n",
              "      <th>train_loss</th>\n",
              "      <th>valid_loss</th>\n",
              "      <th>accuracy</th>\n",
              "      <th>time</th>\n",
              "    </tr>\n",
              "  </thead>\n",
              "  <tbody>\n",
              "    <tr>\n",
              "      <td>0</td>\n",
              "      <td>3.016948</td>\n",
              "      <td>2.849046</td>\n",
              "      <td>0.438596</td>\n",
              "      <td>00:58</td>\n",
              "    </tr>\n",
              "    <tr>\n",
              "      <td>1</td>\n",
              "      <td>2.957824</td>\n",
              "      <td>2.861503</td>\n",
              "      <td>0.438596</td>\n",
              "      <td>00:57</td>\n",
              "    </tr>\n",
              "    <tr>\n",
              "      <td>2</td>\n",
              "      <td>2.766339</td>\n",
              "      <td>2.834181</td>\n",
              "      <td>0.429825</td>\n",
              "      <td>00:56</td>\n",
              "    </tr>\n",
              "    <tr>\n",
              "      <td>3</td>\n",
              "      <td>2.638739</td>\n",
              "      <td>2.787225</td>\n",
              "      <td>0.438596</td>\n",
              "      <td>01:01</td>\n",
              "    </tr>\n",
              "  </tbody>\n",
              "</table>"
            ],
            "text/plain": [
              "<IPython.core.display.HTML object>"
            ]
          },
          "metadata": {
            "tags": []
          }
        }
      ]
    },
    {
      "cell_type": "code",
      "metadata": {
        "id": "atNWNKDFPbuI",
        "outputId": "0c76615f-c9ab-4b21-b153-216e299da3b5",
        "colab": {
          "base_uri": "https://localhost:8080/",
          "height": 173
        }
      },
      "source": [
        "learn.fit_one_cycle(4, slice(2e-3/100, 2e-3))"
      ],
      "execution_count": 36,
      "outputs": [
        {
          "output_type": "display_data",
          "data": {
            "text/html": [
              "<table border=\"1\" class=\"dataframe\">\n",
              "  <thead>\n",
              "    <tr style=\"text-align: left;\">\n",
              "      <th>epoch</th>\n",
              "      <th>train_loss</th>\n",
              "      <th>valid_loss</th>\n",
              "      <th>accuracy</th>\n",
              "      <th>time</th>\n",
              "    </tr>\n",
              "  </thead>\n",
              "  <tbody>\n",
              "    <tr>\n",
              "      <td>0</td>\n",
              "      <td>2.470618</td>\n",
              "      <td>2.767357</td>\n",
              "      <td>0.429825</td>\n",
              "      <td>00:59</td>\n",
              "    </tr>\n",
              "    <tr>\n",
              "      <td>1</td>\n",
              "      <td>2.423333</td>\n",
              "      <td>2.806352</td>\n",
              "      <td>0.447368</td>\n",
              "      <td>00:59</td>\n",
              "    </tr>\n",
              "    <tr>\n",
              "      <td>2</td>\n",
              "      <td>2.275543</td>\n",
              "      <td>2.759206</td>\n",
              "      <td>0.438596</td>\n",
              "      <td>01:01</td>\n",
              "    </tr>\n",
              "    <tr>\n",
              "      <td>3</td>\n",
              "      <td>2.100828</td>\n",
              "      <td>2.764104</td>\n",
              "      <td>0.438596</td>\n",
              "      <td>00:58</td>\n",
              "    </tr>\n",
              "  </tbody>\n",
              "</table>"
            ],
            "text/plain": [
              "<IPython.core.display.HTML object>"
            ]
          },
          "metadata": {
            "tags": []
          }
        }
      ]
    },
    {
      "cell_type": "code",
      "metadata": {
        "id": "rKrBTZ0T1uVA",
        "outputId": "dd7e18e9-c2e8-49b6-f188-3245a9a85394",
        "colab": {
          "base_uri": "https://localhost:8080/",
          "height": 173
        }
      },
      "source": [
        "learn.fit_one_cycle(4, slice(2e-3/100, 2e-3))"
      ],
      "execution_count": 37,
      "outputs": [
        {
          "output_type": "display_data",
          "data": {
            "text/html": [
              "<table border=\"1\" class=\"dataframe\">\n",
              "  <thead>\n",
              "    <tr style=\"text-align: left;\">\n",
              "      <th>epoch</th>\n",
              "      <th>train_loss</th>\n",
              "      <th>valid_loss</th>\n",
              "      <th>accuracy</th>\n",
              "      <th>time</th>\n",
              "    </tr>\n",
              "  </thead>\n",
              "  <tbody>\n",
              "    <tr>\n",
              "      <td>0</td>\n",
              "      <td>1.983026</td>\n",
              "      <td>2.714424</td>\n",
              "      <td>0.438596</td>\n",
              "      <td>00:58</td>\n",
              "    </tr>\n",
              "    <tr>\n",
              "      <td>1</td>\n",
              "      <td>1.971360</td>\n",
              "      <td>2.805277</td>\n",
              "      <td>0.464912</td>\n",
              "      <td>01:01</td>\n",
              "    </tr>\n",
              "    <tr>\n",
              "      <td>2</td>\n",
              "      <td>1.850850</td>\n",
              "      <td>2.803286</td>\n",
              "      <td>0.464912</td>\n",
              "      <td>00:57</td>\n",
              "    </tr>\n",
              "    <tr>\n",
              "      <td>3</td>\n",
              "      <td>1.685297</td>\n",
              "      <td>2.774911</td>\n",
              "      <td>0.473684</td>\n",
              "      <td>01:01</td>\n",
              "    </tr>\n",
              "  </tbody>\n",
              "</table>"
            ],
            "text/plain": [
              "<IPython.core.display.HTML object>"
            ]
          },
          "metadata": {
            "tags": []
          }
        }
      ]
    },
    {
      "cell_type": "code",
      "metadata": {
        "id": "ajQC6WDg1yA9",
        "outputId": "674f4c5e-a124-4719-e6e4-ad80dcdce3d3",
        "colab": {
          "base_uri": "https://localhost:8080/",
          "height": 173
        }
      },
      "source": [
        "learn.fit_one_cycle(4, slice(2e-3/100, 2e-3))"
      ],
      "execution_count": 38,
      "outputs": [
        {
          "output_type": "display_data",
          "data": {
            "text/html": [
              "<table border=\"1\" class=\"dataframe\">\n",
              "  <thead>\n",
              "    <tr style=\"text-align: left;\">\n",
              "      <th>epoch</th>\n",
              "      <th>train_loss</th>\n",
              "      <th>valid_loss</th>\n",
              "      <th>accuracy</th>\n",
              "      <th>time</th>\n",
              "    </tr>\n",
              "  </thead>\n",
              "  <tbody>\n",
              "    <tr>\n",
              "      <td>0</td>\n",
              "      <td>1.566243</td>\n",
              "      <td>2.773621</td>\n",
              "      <td>0.421053</td>\n",
              "      <td>00:59</td>\n",
              "    </tr>\n",
              "    <tr>\n",
              "      <td>1</td>\n",
              "      <td>1.570270</td>\n",
              "      <td>2.777967</td>\n",
              "      <td>0.412281</td>\n",
              "      <td>00:58</td>\n",
              "    </tr>\n",
              "    <tr>\n",
              "      <td>2</td>\n",
              "      <td>1.448795</td>\n",
              "      <td>2.769996</td>\n",
              "      <td>0.464912</td>\n",
              "      <td>01:02</td>\n",
              "    </tr>\n",
              "    <tr>\n",
              "      <td>3</td>\n",
              "      <td>1.325171</td>\n",
              "      <td>2.806901</td>\n",
              "      <td>0.447368</td>\n",
              "      <td>00:59</td>\n",
              "    </tr>\n",
              "  </tbody>\n",
              "</table>"
            ],
            "text/plain": [
              "<IPython.core.display.HTML object>"
            ]
          },
          "metadata": {
            "tags": []
          }
        }
      ]
    },
    {
      "cell_type": "code",
      "metadata": {
        "id": "KKydb0B4BKGk",
        "outputId": "c1b6359f-fcd7-439a-8f87-4007ee038aef",
        "colab": {
          "base_uri": "https://localhost:8080/",
          "height": 173
        }
      },
      "source": [
        "learn.fit_one_cycle(4, slice(2e-3/100, 2e-3))"
      ],
      "execution_count": 39,
      "outputs": [
        {
          "output_type": "display_data",
          "data": {
            "text/html": [
              "<table border=\"1\" class=\"dataframe\">\n",
              "  <thead>\n",
              "    <tr style=\"text-align: left;\">\n",
              "      <th>epoch</th>\n",
              "      <th>train_loss</th>\n",
              "      <th>valid_loss</th>\n",
              "      <th>accuracy</th>\n",
              "      <th>time</th>\n",
              "    </tr>\n",
              "  </thead>\n",
              "  <tbody>\n",
              "    <tr>\n",
              "      <td>0</td>\n",
              "      <td>1.249287</td>\n",
              "      <td>2.793453</td>\n",
              "      <td>0.456140</td>\n",
              "      <td>00:58</td>\n",
              "    </tr>\n",
              "    <tr>\n",
              "      <td>1</td>\n",
              "      <td>1.245757</td>\n",
              "      <td>2.859190</td>\n",
              "      <td>0.473684</td>\n",
              "      <td>01:03</td>\n",
              "    </tr>\n",
              "    <tr>\n",
              "      <td>2</td>\n",
              "      <td>1.158180</td>\n",
              "      <td>2.782294</td>\n",
              "      <td>0.508772</td>\n",
              "      <td>00:59</td>\n",
              "    </tr>\n",
              "    <tr>\n",
              "      <td>3</td>\n",
              "      <td>1.048397</td>\n",
              "      <td>2.782950</td>\n",
              "      <td>0.473684</td>\n",
              "      <td>01:00</td>\n",
              "    </tr>\n",
              "  </tbody>\n",
              "</table>"
            ],
            "text/plain": [
              "<IPython.core.display.HTML object>"
            ]
          },
          "metadata": {
            "tags": []
          }
        }
      ]
    },
    {
      "cell_type": "code",
      "metadata": {
        "id": "T2APKtFKBpGY",
        "outputId": "6ad835ba-08bc-4718-f4a2-6c36d87581c0",
        "colab": {
          "base_uri": "https://localhost:8080/",
          "height": 173
        }
      },
      "source": [
        "learn.fit_one_cycle(4, slice(2e-3/100, 2e-3))"
      ],
      "execution_count": 40,
      "outputs": [
        {
          "output_type": "display_data",
          "data": {
            "text/html": [
              "<table border=\"1\" class=\"dataframe\">\n",
              "  <thead>\n",
              "    <tr style=\"text-align: left;\">\n",
              "      <th>epoch</th>\n",
              "      <th>train_loss</th>\n",
              "      <th>valid_loss</th>\n",
              "      <th>accuracy</th>\n",
              "      <th>time</th>\n",
              "    </tr>\n",
              "  </thead>\n",
              "  <tbody>\n",
              "    <tr>\n",
              "      <td>0</td>\n",
              "      <td>0.994099</td>\n",
              "      <td>2.751231</td>\n",
              "      <td>0.491228</td>\n",
              "      <td>00:57</td>\n",
              "    </tr>\n",
              "    <tr>\n",
              "      <td>1</td>\n",
              "      <td>1.017857</td>\n",
              "      <td>2.876628</td>\n",
              "      <td>0.447368</td>\n",
              "      <td>01:02</td>\n",
              "    </tr>\n",
              "    <tr>\n",
              "      <td>2</td>\n",
              "      <td>0.948382</td>\n",
              "      <td>2.879220</td>\n",
              "      <td>0.456140</td>\n",
              "      <td>01:01</td>\n",
              "    </tr>\n",
              "    <tr>\n",
              "      <td>3</td>\n",
              "      <td>0.889844</td>\n",
              "      <td>2.910886</td>\n",
              "      <td>0.456140</td>\n",
              "      <td>00:58</td>\n",
              "    </tr>\n",
              "  </tbody>\n",
              "</table>"
            ],
            "text/plain": [
              "<IPython.core.display.HTML object>"
            ]
          },
          "metadata": {
            "tags": []
          }
        }
      ]
    },
    {
      "cell_type": "code",
      "metadata": {
        "id": "qtTypA1sPgLU",
        "outputId": "3f2170c7-ab6e-4d46-e8d4-6a5e5ca43fc5",
        "colab": {
          "base_uri": "https://localhost:8080/",
          "height": 111
        }
      },
      "source": [
        "learn.fit_one_cycle(2, slice(2e-3/100, 2e-3))"
      ],
      "execution_count": 41,
      "outputs": [
        {
          "output_type": "display_data",
          "data": {
            "text/html": [
              "<table border=\"1\" class=\"dataframe\">\n",
              "  <thead>\n",
              "    <tr style=\"text-align: left;\">\n",
              "      <th>epoch</th>\n",
              "      <th>train_loss</th>\n",
              "      <th>valid_loss</th>\n",
              "      <th>accuracy</th>\n",
              "      <th>time</th>\n",
              "    </tr>\n",
              "  </thead>\n",
              "  <tbody>\n",
              "    <tr>\n",
              "      <td>0</td>\n",
              "      <td>0.838374</td>\n",
              "      <td>3.007973</td>\n",
              "      <td>0.447368</td>\n",
              "      <td>01:00</td>\n",
              "    </tr>\n",
              "    <tr>\n",
              "      <td>1</td>\n",
              "      <td>0.821121</td>\n",
              "      <td>3.005362</td>\n",
              "      <td>0.429825</td>\n",
              "      <td>00:58</td>\n",
              "    </tr>\n",
              "  </tbody>\n",
              "</table>"
            ],
            "text/plain": [
              "<IPython.core.display.HTML object>"
            ]
          },
          "metadata": {
            "tags": []
          }
        }
      ]
    },
    {
      "cell_type": "code",
      "metadata": {
        "id": "b242kBsTUp9Y",
        "outputId": "2e591155-74ec-4cdb-cd14-92da324fd97e",
        "colab": {
          "base_uri": "https://localhost:8080/",
          "height": 111
        }
      },
      "source": [
        "learn.fit_one_cycle(2, slice(2e-3/100, 2e-3))"
      ],
      "execution_count": 42,
      "outputs": [
        {
          "output_type": "display_data",
          "data": {
            "text/html": [
              "<table border=\"1\" class=\"dataframe\">\n",
              "  <thead>\n",
              "    <tr style=\"text-align: left;\">\n",
              "      <th>epoch</th>\n",
              "      <th>train_loss</th>\n",
              "      <th>valid_loss</th>\n",
              "      <th>accuracy</th>\n",
              "      <th>time</th>\n",
              "    </tr>\n",
              "  </thead>\n",
              "  <tbody>\n",
              "    <tr>\n",
              "      <td>0</td>\n",
              "      <td>0.746964</td>\n",
              "      <td>3.055641</td>\n",
              "      <td>0.473684</td>\n",
              "      <td>00:57</td>\n",
              "    </tr>\n",
              "    <tr>\n",
              "      <td>1</td>\n",
              "      <td>0.703456</td>\n",
              "      <td>3.064703</td>\n",
              "      <td>0.456140</td>\n",
              "      <td>00:59</td>\n",
              "    </tr>\n",
              "  </tbody>\n",
              "</table>"
            ],
            "text/plain": [
              "<IPython.core.display.HTML object>"
            ]
          },
          "metadata": {
            "tags": []
          }
        }
      ]
    },
    {
      "cell_type": "code",
      "metadata": {
        "id": "Duwf1Ih5VeDZ",
        "outputId": "ade2d9d7-e445-4ea4-8962-d4390ba49557",
        "colab": {
          "base_uri": "https://localhost:8080/",
          "height": 80
        }
      },
      "source": [
        "learn.fit_one_cycle(1, slice(2e-3/100, 2e-3))"
      ],
      "execution_count": 43,
      "outputs": [
        {
          "output_type": "display_data",
          "data": {
            "text/html": [
              "<table border=\"1\" class=\"dataframe\">\n",
              "  <thead>\n",
              "    <tr style=\"text-align: left;\">\n",
              "      <th>epoch</th>\n",
              "      <th>train_loss</th>\n",
              "      <th>valid_loss</th>\n",
              "      <th>accuracy</th>\n",
              "      <th>time</th>\n",
              "    </tr>\n",
              "  </thead>\n",
              "  <tbody>\n",
              "    <tr>\n",
              "      <td>0</td>\n",
              "      <td>0.709283</td>\n",
              "      <td>3.014019</td>\n",
              "      <td>0.456140</td>\n",
              "      <td>01:01</td>\n",
              "    </tr>\n",
              "  </tbody>\n",
              "</table>"
            ],
            "text/plain": [
              "<IPython.core.display.HTML object>"
            ]
          },
          "metadata": {
            "tags": []
          }
        }
      ]
    },
    {
      "cell_type": "code",
      "metadata": {
        "id": "c65d-osfDUXm"
      },
      "source": [
        "# save the best model\n",
        "\n",
        "learn.save_encoder('TwADR-bigtweet_fold1')"
      ],
      "execution_count": 44,
      "outputs": []
    },
    {
      "cell_type": "code",
      "metadata": {
        "id": "5h-A_GpAIYg8",
        "outputId": "174291a8-dddb-4c76-b25f-2980fb09e9b7",
        "colab": {
          "base_uri": "https://localhost:8080/",
          "height": 80
        }
      },
      "source": [
        "learn.fit_one_cycle(1, slice(2e-3/100, 2e-3))"
      ],
      "execution_count": 45,
      "outputs": [
        {
          "output_type": "display_data",
          "data": {
            "text/html": [
              "<table border=\"1\" class=\"dataframe\">\n",
              "  <thead>\n",
              "    <tr style=\"text-align: left;\">\n",
              "      <th>epoch</th>\n",
              "      <th>train_loss</th>\n",
              "      <th>valid_loss</th>\n",
              "      <th>accuracy</th>\n",
              "      <th>time</th>\n",
              "    </tr>\n",
              "  </thead>\n",
              "  <tbody>\n",
              "    <tr>\n",
              "      <td>0</td>\n",
              "      <td>0.638105</td>\n",
              "      <td>3.108320</td>\n",
              "      <td>0.447368</td>\n",
              "      <td>00:59</td>\n",
              "    </tr>\n",
              "  </tbody>\n",
              "</table>"
            ],
            "text/plain": [
              "<IPython.core.display.HTML object>"
            ]
          },
          "metadata": {
            "tags": []
          }
        }
      ]
    },
    {
      "cell_type": "code",
      "metadata": {
        "id": "qc4poYxzIwca",
        "outputId": "8672529b-1502-4e4e-fbc1-98c7bcc50d49",
        "colab": {
          "base_uri": "https://localhost:8080/",
          "height": 80
        }
      },
      "source": [
        "learn.fit_one_cycle(1, slice(2e-3/100, 2e-3))"
      ],
      "execution_count": 46,
      "outputs": [
        {
          "output_type": "display_data",
          "data": {
            "text/html": [
              "<table border=\"1\" class=\"dataframe\">\n",
              "  <thead>\n",
              "    <tr style=\"text-align: left;\">\n",
              "      <th>epoch</th>\n",
              "      <th>train_loss</th>\n",
              "      <th>valid_loss</th>\n",
              "      <th>accuracy</th>\n",
              "      <th>time</th>\n",
              "    </tr>\n",
              "  </thead>\n",
              "  <tbody>\n",
              "    <tr>\n",
              "      <td>0</td>\n",
              "      <td>0.677691</td>\n",
              "      <td>3.082375</td>\n",
              "      <td>0.482456</td>\n",
              "      <td>01:01</td>\n",
              "    </tr>\n",
              "  </tbody>\n",
              "</table>"
            ],
            "text/plain": [
              "<IPython.core.display.HTML object>"
            ]
          },
          "metadata": {
            "tags": []
          }
        }
      ]
    },
    {
      "cell_type": "code",
      "metadata": {
        "id": "66s4PxV1JVfo",
        "outputId": "020a8f26-f810-4500-e6a5-0d168ac33766",
        "colab": {
          "base_uri": "https://localhost:8080/",
          "height": 80
        }
      },
      "source": [
        "learn.fit_one_cycle(1, slice(2e-3/100, 2e-3))"
      ],
      "execution_count": 47,
      "outputs": [
        {
          "output_type": "display_data",
          "data": {
            "text/html": [
              "<table border=\"1\" class=\"dataframe\">\n",
              "  <thead>\n",
              "    <tr style=\"text-align: left;\">\n",
              "      <th>epoch</th>\n",
              "      <th>train_loss</th>\n",
              "      <th>valid_loss</th>\n",
              "      <th>accuracy</th>\n",
              "      <th>time</th>\n",
              "    </tr>\n",
              "  </thead>\n",
              "  <tbody>\n",
              "    <tr>\n",
              "      <td>0</td>\n",
              "      <td>0.606041</td>\n",
              "      <td>3.102995</td>\n",
              "      <td>0.456140</td>\n",
              "      <td>01:00</td>\n",
              "    </tr>\n",
              "  </tbody>\n",
              "</table>"
            ],
            "text/plain": [
              "<IPython.core.display.HTML object>"
            ]
          },
          "metadata": {
            "tags": []
          }
        }
      ]
    },
    {
      "cell_type": "code",
      "metadata": {
        "id": "6W2FjaVHNRkt",
        "outputId": "039f1fe6-256d-44a7-9469-45573e4fdb67",
        "colab": {
          "base_uri": "https://localhost:8080/",
          "height": 80
        }
      },
      "source": [
        "learn.fit_one_cycle(1, slice(2e-3/100, 2e-3))"
      ],
      "execution_count": 51,
      "outputs": [
        {
          "output_type": "display_data",
          "data": {
            "text/html": [
              "<table border=\"1\" class=\"dataframe\">\n",
              "  <thead>\n",
              "    <tr style=\"text-align: left;\">\n",
              "      <th>epoch</th>\n",
              "      <th>train_loss</th>\n",
              "      <th>valid_loss</th>\n",
              "      <th>accuracy</th>\n",
              "      <th>time</th>\n",
              "    </tr>\n",
              "  </thead>\n",
              "  <tbody>\n",
              "    <tr>\n",
              "      <td>0</td>\n",
              "      <td>0.584759</td>\n",
              "      <td>3.247916</td>\n",
              "      <td>0.421053</td>\n",
              "      <td>00:59</td>\n",
              "    </tr>\n",
              "  </tbody>\n",
              "</table>"
            ],
            "text/plain": [
              "<IPython.core.display.HTML object>"
            ]
          },
          "metadata": {
            "tags": []
          }
        }
      ]
    },
    {
      "cell_type": "markdown",
      "metadata": {
        "id": "rCwZU0E2RgM6"
      },
      "source": [
        "# Part three: Predict on the test dataset"
      ]
    },
    {
      "cell_type": "code",
      "metadata": {
        "id": "gDm72c-dOu7d",
        "outputId": "4e6586b6-9eda-4d4b-d2e9-3c6c15cf9909",
        "colab": {
          "base_uri": "https://localhost:8080/",
          "height": 17
        }
      },
      "source": [
        "# use the test data for prediction\n",
        "\n",
        "preds, y = learn.get_preds(DatasetType.Test)"
      ],
      "execution_count": 52,
      "outputs": [
        {
          "output_type": "display_data",
          "data": {
            "text/html": [
              ""
            ],
            "text/plain": [
              "<IPython.core.display.HTML object>"
            ]
          },
          "metadata": {
            "tags": []
          }
        }
      ]
    },
    {
      "cell_type": "code",
      "metadata": {
        "id": "6tFSQcsWPvxn",
        "outputId": "07d15605-2dad-4b1f-989f-f025baa8788b",
        "colab": {
          "base_uri": "https://localhost:8080/",
          "height": 105
        }
      },
      "source": [
        "predictions, *_ = learn.get_preds(DatasetType.Test)\n",
        "labels = np.argmax(predictions, 1)\n",
        "predict_list = labels.tolist()\n",
        "standard_list = test[0].tolist()\n",
        "\n",
        "print(len(predict_list))\n",
        "print(len(standard_list))\n",
        "\n",
        "print(predict_list)\n",
        "print(standard_list)"
      ],
      "execution_count": 53,
      "outputs": [
        {
          "output_type": "display_data",
          "data": {
            "text/html": [
              ""
            ],
            "text/plain": [
              "<IPython.core.display.HTML object>"
            ]
          },
          "metadata": {
            "tags": []
          }
        },
        {
          "output_type": "stream",
          "text": [
            "143\n",
            "143\n",
            "[393, 13, 792, 133, 189, 189, 792, 2147, 1936, 2147, 1787, 2032, 1787, 1136, 418, 1073, 441, 744, 1936, 97, 791, 1597, 1458, 224, 974, 818, 233, 825, 1884, 233, 233, 974, 974, 792, 974, 974, 974, 1936, 978, 13, 1936, 978, 1062, 109, 1767, 1089, 1295, 1787, 1175, 1531, 1019, 1546, 1099, 1295, 1295, 1610, 1295, 1295, 1295, 2074, 1319, 233, 755, 1432, 1432, 1125, 1529, 1529, 109, 233, 2074, 966, 1594, 1597, 1769, 1597, 392, 392, 1610, 1610, 233, 1526, 1145, 233, 1073, 1787, 792, 1531, 1531, 233, 233, 1767, 1767, 1798, 1767, 1718, 233, 1529, 1099, 2032, 2032, 2032, 2147, 2023, 923, 1597, 1099, 1109, 1099, 233, 1936, 1936, 1936, 1340, 1936, 233, 1295, 1767, 1295, 772, 2103, 1813, 1767, 2032, 1936, 1787, 189, 189, 233, 231, 2081, 2147, 2147, 233, 2147, 13, 2147, 233, 233, 824, 2191, 1529, 1521]\n",
            "[13, 13, 61, 133, 189, 189, 195, 233, 233, 233, 393, 393, 393, 396, 418, 452, 561, 744, 749, 750, 791, 791, 809, 813, 813, 818, 824, 824, 825, 852, 947, 974, 974, 974, 974, 974, 974, 978, 978, 978, 978, 978, 1062, 1062, 1073, 1089, 1096, 1099, 1175, 1214, 1230, 1281, 1281, 1295, 1295, 1295, 1295, 1295, 1295, 1295, 1319, 1321, 1349, 1432, 1432, 1509, 1529, 1529, 1529, 1545, 1546, 1576, 1594, 1597, 1597, 1597, 1599, 1599, 1610, 1610, 1610, 1610, 1610, 1610, 1669, 1676, 1679, 1711, 1711, 1718, 1718, 1718, 1718, 1718, 1727, 1727, 1767, 1767, 1769, 1787, 1787, 1787, 1798, 1813, 1813, 1828, 1877, 1925, 1925, 1925, 1936, 1936, 1936, 1936, 1936, 1942, 1973, 1973, 1973, 2010, 2017, 2023, 2032, 2032, 2032, 2032, 2048, 2048, 2048, 2063, 2081, 2147, 2147, 2147, 2147, 2147, 2147, 2149, 2149, 2168, 2191, 2194, 2194]\n"
          ],
          "name": "stdout"
        }
      ]
    },
    {
      "cell_type": "code",
      "metadata": {
        "id": "XIC4zufnMxtq",
        "outputId": "fcf11266-f9ee-494d-dd85-cb0da9c97fc3",
        "colab": {
          "base_uri": "https://localhost:8080/"
        }
      },
      "source": [
        "correct_num = 0\n",
        "\n",
        "for i in range(0, len(standard_list)):\n",
        "  if predict_list[i] == standard_list[i]:\n",
        "    correct_num = correct_num+1\n",
        "  else:\n",
        "    pass\n",
        "print(correct_num)\n",
        "\n",
        "predict_accuracy = correct_num/len(predict_list)\n",
        "print(predict_accuracy)"
      ],
      "execution_count": 54,
      "outputs": [
        {
          "output_type": "stream",
          "text": [
            "44\n",
            "0.3076923076923077\n"
          ],
          "name": "stdout"
        }
      ]
    },
    {
      "cell_type": "code",
      "metadata": {
        "id": "zlKMHp1CIaRJ"
      },
      "source": [
        ""
      ],
      "execution_count": 54,
      "outputs": []
    }
  ]
}