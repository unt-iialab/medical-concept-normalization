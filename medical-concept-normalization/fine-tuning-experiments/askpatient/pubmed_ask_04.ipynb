{
  "nbformat": 4,
  "nbformat_minor": 0,
  "metadata": {
    "accelerator": "TPU",
    "colab": {
      "name": "pubmed_ask_04.ipynb",
      "provenance": [],
      "collapsed_sections": [],
      "include_colab_link": true
    },
    "kernelspec": {
      "display_name": "Python 3",
      "name": "python3"
    }
  },
  "cells": [
    {
      "cell_type": "markdown",
      "metadata": {
        "id": "view-in-github",
        "colab_type": "text"
      },
      "source": [
        "<a href=\"https://colab.research.google.com/github/unt-iialab/medical-concept-normalization/blob/master/medical-concept-normalization/fine-tuning-experiments/askpatient/pubmed_ask_04.ipynb\" target=\"_parent\"><img src=\"https://colab.research.google.com/assets/colab-badge.svg\" alt=\"Open In Colab\"/></a>"
      ]
    },
    {
      "cell_type": "code",
      "metadata": {
        "id": "adSi6i2-dWxy"
      },
      "source": [
        "import os"
      ],
      "execution_count": 1,
      "outputs": []
    },
    {
      "cell_type": "code",
      "metadata": {
        "id": "E7xYCRGPjd9B"
      },
      "source": [
        "base_dir = 'medical-concept-normalization'"
      ],
      "execution_count": 2,
      "outputs": []
    },
    {
      "cell_type": "code",
      "metadata": {
        "id": "yvIW3aUDjYNS"
      },
      "source": [
        "os.mkdir(base_dir)"
      ],
      "execution_count": 3,
      "outputs": []
    },
    {
      "cell_type": "code",
      "metadata": {
        "id": "es-FFLlfk6SG"
      },
      "source": [
        "os.mkdir('medical-concept-normalization/data_collection')"
      ],
      "execution_count": 4,
      "outputs": []
    },
    {
      "cell_type": "markdown",
      "metadata": {
        "id": "0R-Guw_VoJXm"
      },
      "source": [
        "**Install fastai and clone the fastai for text classification**\n",
        "\n"
      ]
    },
    {
      "cell_type": "code",
      "metadata": {
        "id": "QVZa3Z0PmHFH",
        "outputId": "c3d837a7-a690-4b8b-d305-970cccc3367b",
        "colab": {
          "base_uri": "https://localhost:8080/"
        }
      },
      "source": [
        "!curl https://course-v3.fast.ai/setup/colab | bash"
      ],
      "execution_count": 5,
      "outputs": [
        {
          "output_type": "stream",
          "text": [
            "  % Total    % Received % Xferd  Average Speed   Time    Time     Time  Current\n",
            "                                 Dload  Upload   Total   Spent    Left  Speed\n",
            "\r  0     0    0     0    0     0      0      0 --:--:-- --:--:-- --:--:--     0curl: (6) Could not resolve host: course-v3.fast.ai\n"
          ],
          "name": "stdout"
        }
      ]
    },
    {
      "cell_type": "code",
      "metadata": {
        "id": "_FBFFEBrmJC0",
        "outputId": "8095f2fc-f098-45d9-cb10-fd434f9ab1b7",
        "colab": {
          "base_uri": "https://localhost:8080/"
        }
      },
      "source": [
        "!git clone https://github.com/wshuyi/demo-nlp-classification-fastai.git"
      ],
      "execution_count": 6,
      "outputs": [
        {
          "output_type": "stream",
          "text": [
            "Cloning into 'demo-nlp-classification-fastai'...\n",
            "remote: Enumerating objects: 9, done.\u001b[K\n",
            "remote: Total 9 (delta 0), reused 0 (delta 0), pack-reused 9\u001b[K\n",
            "Unpacking objects: 100% (9/9), done.\n"
          ],
          "name": "stdout"
        }
      ]
    },
    {
      "cell_type": "code",
      "metadata": {
        "id": "66zfh_JqmWMU"
      },
      "source": [
        "from fastai import *\n",
        "from fastai.text import *"
      ],
      "execution_count": 7,
      "outputs": []
    },
    {
      "cell_type": "markdown",
      "metadata": {
        "id": "mNIw-yALdBU9"
      },
      "source": [
        "**Set the path of the data collections**"
      ]
    },
    {
      "cell_type": "code",
      "metadata": {
        "id": "pzH7VMh4mqCL"
      },
      "source": [
        "path = Path('medical-concept-normalization/data_collection')"
      ],
      "execution_count": 8,
      "outputs": []
    },
    {
      "cell_type": "code",
      "metadata": {
        "id": "b8fjI6yyn4aS"
      },
      "source": [
        "# training data set\n",
        "\n",
        "train_csv = path/'AskAPatient.fold-4.train.csv'\n",
        "train = pd.read_csv(train_csv, header=None)\n",
        "#train.head()\n",
        "#train.info()"
      ],
      "execution_count": 10,
      "outputs": []
    },
    {
      "cell_type": "code",
      "metadata": {
        "id": "Hmlr-bAorfHd",
        "outputId": "61ff6f86-ad36-47fe-d557-a1ffe9b68b10",
        "colab": {
          "base_uri": "https://localhost:8080/",
          "height": 204
        }
      },
      "source": [
        "# validating data set\n",
        "\n",
        "valid = pd.read_csv(path/\"AskAPatient.fold-4.validation.csv\",header=None)\n",
        "valid.head()"
      ],
      "execution_count": 11,
      "outputs": [
        {
          "output_type": "execute_result",
          "data": {
            "text/html": [
              "<div>\n",
              "<style scoped>\n",
              "    .dataframe tbody tr th:only-of-type {\n",
              "        vertical-align: middle;\n",
              "    }\n",
              "\n",
              "    .dataframe tbody tr th {\n",
              "        vertical-align: top;\n",
              "    }\n",
              "\n",
              "    .dataframe thead th {\n",
              "        text-align: right;\n",
              "    }\n",
              "</style>\n",
              "<table border=\"1\" class=\"dataframe\">\n",
              "  <thead>\n",
              "    <tr style=\"text-align: right;\">\n",
              "      <th></th>\n",
              "      <th>0</th>\n",
              "      <th>1</th>\n",
              "    </tr>\n",
              "  </thead>\n",
              "  <tbody>\n",
              "    <tr>\n",
              "      <th>0</th>\n",
              "      <td>6</td>\n",
              "      <td>diastolic dysfunction</td>\n",
              "    </tr>\n",
              "    <tr>\n",
              "      <th>1</th>\n",
              "      <td>8</td>\n",
              "      <td>ARTHRITIS</td>\n",
              "    </tr>\n",
              "    <tr>\n",
              "      <th>2</th>\n",
              "      <td>8</td>\n",
              "      <td>arthritis</td>\n",
              "    </tr>\n",
              "    <tr>\n",
              "      <th>3</th>\n",
              "      <td>8</td>\n",
              "      <td>arthritis</td>\n",
              "    </tr>\n",
              "    <tr>\n",
              "      <th>4</th>\n",
              "      <td>8</td>\n",
              "      <td>arthritis</td>\n",
              "    </tr>\n",
              "  </tbody>\n",
              "</table>\n",
              "</div>"
            ],
            "text/plain": [
              "   0                      1\n",
              "0  6  diastolic dysfunction\n",
              "1  8              ARTHRITIS\n",
              "2  8              arthritis\n",
              "3  8              arthritis\n",
              "4  8              arthritis"
            ]
          },
          "metadata": {
            "tags": []
          },
          "execution_count": 11
        }
      ]
    },
    {
      "cell_type": "code",
      "metadata": {
        "id": "cOza9dfSsBud",
        "outputId": "92f22100-7103-482f-becb-3871df7c2b2f",
        "colab": {
          "base_uri": "https://localhost:8080/",
          "height": 204
        }
      },
      "source": [
        "# testing data set\n",
        "\n",
        "test = pd.read_csv(path/\"AskAPatient.fold-4.test.csv\",header=None)\n",
        "test.head()"
      ],
      "execution_count": 12,
      "outputs": [
        {
          "output_type": "execute_result",
          "data": {
            "text/html": [
              "<div>\n",
              "<style scoped>\n",
              "    .dataframe tbody tr th:only-of-type {\n",
              "        vertical-align: middle;\n",
              "    }\n",
              "\n",
              "    .dataframe tbody tr th {\n",
              "        vertical-align: top;\n",
              "    }\n",
              "\n",
              "    .dataframe thead th {\n",
              "        text-align: right;\n",
              "    }\n",
              "</style>\n",
              "<table border=\"1\" class=\"dataframe\">\n",
              "  <thead>\n",
              "    <tr style=\"text-align: right;\">\n",
              "      <th></th>\n",
              "      <th>0</th>\n",
              "      <th>1</th>\n",
              "    </tr>\n",
              "  </thead>\n",
              "  <tbody>\n",
              "    <tr>\n",
              "      <th>0</th>\n",
              "      <td>4</td>\n",
              "      <td>purple sploches around waist</td>\n",
              "    </tr>\n",
              "    <tr>\n",
              "      <th>1</th>\n",
              "      <td>6</td>\n",
              "      <td>stage 1 diastolic dysfunction</td>\n",
              "    </tr>\n",
              "    <tr>\n",
              "      <th>2</th>\n",
              "      <td>8</td>\n",
              "      <td>arthritis</td>\n",
              "    </tr>\n",
              "    <tr>\n",
              "      <th>3</th>\n",
              "      <td>12</td>\n",
              "      <td>shingles</td>\n",
              "    </tr>\n",
              "    <tr>\n",
              "      <th>4</th>\n",
              "      <td>16</td>\n",
              "      <td>flu</td>\n",
              "    </tr>\n",
              "  </tbody>\n",
              "</table>\n",
              "</div>"
            ],
            "text/plain": [
              "    0                              1\n",
              "0   4   purple sploches around waist\n",
              "1   6  stage 1 diastolic dysfunction\n",
              "2   8                      arthritis\n",
              "3  12                       shingles\n",
              "4  16                            flu"
            ]
          },
          "metadata": {
            "tags": []
          },
          "execution_count": 12
        }
      ]
    },
    {
      "cell_type": "code",
      "metadata": {
        "id": "Vo-YNvVYoaH6",
        "outputId": "b4ad2141-1a41-4fa0-b779-33e363574f06",
        "colab": {
          "base_uri": "https://localhost:8080/",
          "height": 17
        }
      },
      "source": [
        "# Creating DataBunch for language modelling\n",
        "\n",
        "data_lm = TextLMDataBunch.from_csv(path, 'pubmed_ask.csv')"
      ],
      "execution_count": 13,
      "outputs": [
        {
          "output_type": "display_data",
          "data": {
            "text/html": [
              ""
            ],
            "text/plain": [
              "<IPython.core.display.HTML object>"
            ]
          },
          "metadata": {
            "tags": []
          }
        },
        {
          "output_type": "display_data",
          "data": {
            "text/html": [
              ""
            ],
            "text/plain": [
              "<IPython.core.display.HTML object>"
            ]
          },
          "metadata": {
            "tags": []
          }
        }
      ]
    },
    {
      "cell_type": "code",
      "metadata": {
        "id": "qcV-9kMnNLBf"
      },
      "source": [
        ""
      ],
      "execution_count": 13,
      "outputs": []
    },
    {
      "cell_type": "code",
      "metadata": {
        "id": "1ScY9afDsnvE"
      },
      "source": [
        "# Creating DataBunch for classification\n",
        "\n",
        "# data_clas = TextClasDataBunch.from_df(path, train, valid, test, vocab=data_lm.train_ds.vocab, bs=128)"
      ],
      "execution_count": 14,
      "outputs": []
    },
    {
      "cell_type": "code",
      "metadata": {
        "id": "gzrSdQcvey9p",
        "outputId": "1e1d852e-7ed2-4576-ef51-872670afdf5d",
        "colab": {
          "base_uri": "https://localhost:8080/",
          "height": 17
        }
      },
      "source": [
        "data_clas = TextClasDataBunch.from_df(path, train, valid, vocab=data_lm.train_ds.vocab, bs=128)"
      ],
      "execution_count": 15,
      "outputs": [
        {
          "output_type": "display_data",
          "data": {
            "text/html": [
              ""
            ],
            "text/plain": [
              "<IPython.core.display.HTML object>"
            ]
          },
          "metadata": {
            "tags": []
          }
        },
        {
          "output_type": "display_data",
          "data": {
            "text/html": [
              ""
            ],
            "text/plain": [
              "<IPython.core.display.HTML object>"
            ]
          },
          "metadata": {
            "tags": []
          }
        }
      ]
    },
    {
      "cell_type": "code",
      "metadata": {
        "id": "MD27Tf0Ke3ou",
        "outputId": "97c837ae-a48f-4934-ee5f-48ec4f551a3a",
        "colab": {
          "base_uri": "https://localhost:8080/",
          "height": 17
        }
      },
      "source": [
        "data_clas.add_test(test,label=0)\n"
      ],
      "execution_count": 16,
      "outputs": [
        {
          "output_type": "display_data",
          "data": {
            "text/html": [
              ""
            ],
            "text/plain": [
              "<IPython.core.display.HTML object>"
            ]
          },
          "metadata": {
            "tags": []
          }
        }
      ]
    },
    {
      "cell_type": "code",
      "metadata": {
        "id": "-dpjnk_rstwk"
      },
      "source": [
        "data_lm.save()\n",
        "data_clas.save()"
      ],
      "execution_count": 17,
      "outputs": []
    },
    {
      "cell_type": "code",
      "metadata": {
        "id": "4OkiJa36sw5s",
        "outputId": "30779c07-161c-4ee1-a822-4bc45ec2f5ea",
        "colab": {
          "base_uri": "https://localhost:8080/"
        }
      },
      "source": [
        "data_lm.train_ds.vocab.itos"
      ],
      "execution_count": 18,
      "outputs": [
        {
          "output_type": "execute_result",
          "data": {
            "text/plain": [
              "['xxunk',\n",
              " 'xxpad',\n",
              " 'xxbos',\n",
              " 'xxeos',\n",
              " 'xxfld',\n",
              " 'xxmaj',\n",
              " 'xxup',\n",
              " 'xxrep',\n",
              " 'xxwrep',\n",
              " 'pain',\n",
              " 'of',\n",
              " 'the',\n",
              " 'in',\n",
              " 'lipitor',\n",
              " 'and',\n",
              " 'to',\n",
              " 'muscle',\n",
              " 'a',\n",
              " 'was',\n",
              " 'diclofenac',\n",
              " 'with',\n",
              " 'were',\n",
              " 'severe',\n",
              " 'for',\n",
              " 'myalgia',\n",
              " 'lower',\n",
              " 'my',\n",
              " 'fatigue',\n",
              " 'loss',\n",
              " 'weakness',\n",
              " 'cramp',\n",
              " 'limb',\n",
              " 'sodium',\n",
              " 'by',\n",
              " 'on',\n",
              " 'stomach',\n",
              " '-',\n",
              " 'depression',\n",
              " 'back',\n",
              " 'is',\n",
              " 'patients',\n",
              " 'at',\n",
              " 'cramps',\n",
              " 'as',\n",
              " 'upper',\n",
              " 'that',\n",
              " 'gas',\n",
              " 'joint',\n",
              " 'memory',\n",
              " 'or',\n",
              " 'drug',\n",
              " 'leg',\n",
              " 'mg',\n",
              " 'legs',\n",
              " 'pains',\n",
              " 'headache',\n",
              " 'knee',\n",
              " 'from',\n",
              " 'unable',\n",
              " 'group',\n",
              " 'shoulder',\n",
              " 'not',\n",
              " 'gastrointestinal',\n",
              " 'study',\n",
              " 'neck',\n",
              " 'treatment',\n",
              " 'arthralgia',\n",
              " 'excessive',\n",
              " 'this',\n",
              " 'all',\n",
              " 'foot',\n",
              " 'arthritis',\n",
              " 'aches',\n",
              " 'after',\n",
              " 'hip',\n",
              " 'numbness',\n",
              " 'voltaren',\n",
              " 'arthrotec',\n",
              " 'insomnia',\n",
              " 'disease',\n",
              " 'p',\n",
              " 'nausea',\n",
              " 'release',\n",
              " '/',\n",
              " 'increased',\n",
              " 'bleeding',\n",
              " 'asthenia',\n",
              " 'both',\n",
              " 'swelling',\n",
              " 'abdominal',\n",
              " 'an',\n",
              " 'walk',\n",
              " 'be',\n",
              " 'heart',\n",
              " 'skin',\n",
              " 'tired',\n",
              " 'feeling',\n",
              " 'like',\n",
              " 'dizziness',\n",
              " 'walking',\n",
              " 'no',\n",
              " 'problems',\n",
              " 'high',\n",
              " 'time',\n",
              " 'difficulty',\n",
              " 'feet',\n",
              " 'muscles',\n",
              " 'than',\n",
              " 'are',\n",
              " 'blood',\n",
              " 'hand',\n",
              " 'cholesterol',\n",
              " 'acid',\n",
              " 'effect',\n",
              " 'low',\n",
              " 'vision',\n",
              " 'hair',\n",
              " 'compared',\n",
              " 'stiffness',\n",
              " 'chest',\n",
              " 'ache',\n",
              " 'extreme',\n",
              " 'zocor',\n",
              " 'backache',\n",
              " 'liver',\n",
              " 'inflammatory',\n",
              " 'could',\n",
              " 'burning',\n",
              " 'weight',\n",
              " 'diarrhoea',\n",
              " 'groups',\n",
              " 'using',\n",
              " 'effects',\n",
              " 'i',\n",
              " 'pins',\n",
              " 'needles',\n",
              " 'very',\n",
              " 'cramping',\n",
              " 'sleep',\n",
              " 'amnesia',\n",
              " 'two',\n",
              " 'significantly',\n",
              " 'between',\n",
              " 'significant',\n",
              " 'impairment',\n",
              " 'drugs',\n",
              " 'concentration',\n",
              " 'calf',\n",
              " 'c',\n",
              " 'anti',\n",
              " 'left',\n",
              " 'short',\n",
              " 'term',\n",
              " 'h',\n",
              " 'potassium',\n",
              " 'disability',\n",
              " 'tingling',\n",
              " 'up',\n",
              " 'dose',\n",
              " 'symptom',\n",
              " 'lack',\n",
              " 'can',\n",
              " 'used',\n",
              " 'anxiety',\n",
              " 'pressure',\n",
              " 'these',\n",
              " 'which',\n",
              " 'placebo',\n",
              " 'results',\n",
              " 'stiff',\n",
              " 'day',\n",
              " 'bloating',\n",
              " 'had',\n",
              " 'constipation',\n",
              " 'it',\n",
              " 'arm',\n",
              " 'poor',\n",
              " 'efficacy',\n",
              " 'reduced',\n",
              " 'hands',\n",
              " 'arms',\n",
              " 'treated',\n",
              " 'one',\n",
              " 'disorder',\n",
              " 'headaches',\n",
              " 'blurred',\n",
              " 'has',\n",
              " 'sore',\n",
              " 'balance',\n",
              " 'body',\n",
              " 'more',\n",
              " 'we',\n",
              " 'acute',\n",
              " 'ds',\n",
              " 'neuropathy',\n",
              " 'days',\n",
              " 'have',\n",
              " 'also',\n",
              " 'ankle',\n",
              " 'showed',\n",
              " 'visual',\n",
              " 'over',\n",
              " 'joints',\n",
              " 'topical',\n",
              " 'myocardial',\n",
              " 'infarction',\n",
              " 'serum',\n",
              " 'oral',\n",
              " 'tiredness',\n",
              " 'renal',\n",
              " 'pravachol',\n",
              " 'different',\n",
              " 'ml',\n",
              " 'vaginal',\n",
              " 'administration',\n",
              " 'myositis',\n",
              " 'been',\n",
              " 'rash',\n",
              " 'but',\n",
              " 'sensation',\n",
              " 'rats',\n",
              " 'control',\n",
              " 'during',\n",
              " 'into',\n",
              " 'studies',\n",
              " 'swollen',\n",
              " 'hurt',\n",
              " 'mentally',\n",
              " 'attack',\n",
              " 'vertigo',\n",
              " 'generalised',\n",
              " 'when',\n",
              " 'rate',\n",
              " 'energy',\n",
              " 'diabetes',\n",
              " 'painful',\n",
              " 'itching',\n",
              " ')',\n",
              " 'clinical',\n",
              " 'atrophy',\n",
              " 'respectively',\n",
              " 'non',\n",
              " 'dry',\n",
              " 'gain',\n",
              " \"'s\",\n",
              " 's',\n",
              " 'diarrhea',\n",
              " 'raised',\n",
              " 'induced',\n",
              " 'decreased',\n",
              " 'atorvastatin',\n",
              " 'well',\n",
              " 'formulations',\n",
              " 'ubidecarenone',\n",
              " 'nsaids',\n",
              " ',',\n",
              " 'out',\n",
              " 'right',\n",
              " 'upset',\n",
              " 'plasma',\n",
              " 'syndrome',\n",
              " 'formulation',\n",
              " 'levels',\n",
              " 'found',\n",
              " 'tablets',\n",
              " 'there',\n",
              " 'constant',\n",
              " 'method',\n",
              " '(',\n",
              " 'three',\n",
              " 'their',\n",
              " 'hazy',\n",
              " 'weak',\n",
              " 'mean',\n",
              " 'other',\n",
              " \"n't\",\n",
              " 'damage',\n",
              " 'elevated',\n",
              " 'shoulders',\n",
              " 'solution',\n",
              " 'gel',\n",
              " 'urine',\n",
              " 'period',\n",
              " 'observed',\n",
              " 'dull',\n",
              " 'elbow',\n",
              " 'illness',\n",
              " 'use',\n",
              " 'may',\n",
              " 'eye',\n",
              " 'chronic',\n",
              " 'ph',\n",
              " 'present',\n",
              " 'effective',\n",
              " 'symptoms',\n",
              " 'influenza',\n",
              " 'received',\n",
              " 'tendonitis',\n",
              " 'g',\n",
              " 'tablet',\n",
              " 'type',\n",
              " 'its',\n",
              " 'movement',\n",
              " 'abnormal',\n",
              " 'sleeping',\n",
              " 'vitro',\n",
              " 'kidney',\n",
              " 'n',\n",
              " 'spasm',\n",
              " 'analysis',\n",
              " 'heavy',\n",
              " 'm',\n",
              " 'crestor',\n",
              " 'adverse',\n",
              " 'knees',\n",
              " 'ibuprofen',\n",
              " 'each',\n",
              " 'controlled',\n",
              " 'discomfort',\n",
              " 'side',\n",
              " 'analgesic',\n",
              " 'first',\n",
              " 'level',\n",
              " 'reflux',\n",
              " 'hours',\n",
              " 'spasms',\n",
              " 'mood',\n",
              " 'randomized',\n",
              " 'vomiting',\n",
              " 'exhaustion',\n",
              " 'activity',\n",
              " 'irritable',\n",
              " 'd',\n",
              " 'flatulence',\n",
              " 'bad',\n",
              " 'toe',\n",
              " 'kg',\n",
              " 'system',\n",
              " 'data',\n",
              " 'total',\n",
              " 'migraine',\n",
              " 'patient',\n",
              " 'libido',\n",
              " 'inflammation',\n",
              " 'myopathy',\n",
              " 'feel',\n",
              " 'concentrate',\n",
              " 'function',\n",
              " 'l',\n",
              " 'less',\n",
              " 'thigh',\n",
              " 'increase',\n",
              " 'daily',\n",
              " 'injury',\n",
              " 'fibromyalgia',\n",
              " 'throat',\n",
              " 'evaluated',\n",
              " 'single',\n",
              " 'only',\n",
              " 'concentrations',\n",
              " 'mild',\n",
              " 'model',\n",
              " 'simvastatin',\n",
              " 'b',\n",
              " 'sclerosis',\n",
              " 'flu',\n",
              " 'following',\n",
              " 'bed',\n",
              " 'surgery',\n",
              " 'however',\n",
              " 'similar',\n",
              " 'changes',\n",
              " 'problem',\n",
              " 'obtained',\n",
              " 'test',\n",
              " 'cold',\n",
              " 'water',\n",
              " 'osteoarthritis',\n",
              " 'sweating',\n",
              " 'mellitus',\n",
              " 'get',\n",
              " 'eyes',\n",
              " 'menstrual',\n",
              " 'lightheadedness',\n",
              " 'dissolution',\n",
              " 'based',\n",
              " 'double',\n",
              " 'most',\n",
              " 'multiple',\n",
              " 'did',\n",
              " 'weeks',\n",
              " 'disturbance',\n",
              " 'hips',\n",
              " 'therapy',\n",
              " 'higher',\n",
              " 'postoperative',\n",
              " 'cells',\n",
              " 'tremor',\n",
              " 'nsaid',\n",
              " 'studied',\n",
              " 'difference',\n",
              " 'malaise',\n",
              " 'swings',\n",
              " 'peripheral',\n",
              " 'confusion',\n",
              " 'wind',\n",
              " 'application',\n",
              " 'failure',\n",
              " 'week',\n",
              " 'so',\n",
              " 'administered',\n",
              " 'appetite',\n",
              " 'due',\n",
              " 'oil',\n",
              " 'associated',\n",
              " 'before',\n",
              " 't',\n",
              " 'infection',\n",
              " 'general',\n",
              " 'cell',\n",
              " 'blind',\n",
              " 'brain',\n",
              " 'doses',\n",
              " 'ezetimibe',\n",
              " 'prepared',\n",
              " 'esters',\n",
              " 'soreness',\n",
              " 'head',\n",
              " 'reported',\n",
              " 'combination',\n",
              " 'under',\n",
              " 'tinnitus',\n",
              " 'who',\n",
              " 'stairs',\n",
              " 'those',\n",
              " 'aching',\n",
              " 'impaired',\n",
              " 'finger',\n",
              " 'paraesthesia',\n",
              " 'performed',\n",
              " 'min',\n",
              " 'given',\n",
              " 'off',\n",
              " 'times',\n",
              " 'calves',\n",
              " 'nonsteroidal',\n",
              " 'area',\n",
              " 'change',\n",
              " 'while',\n",
              " 'response',\n",
              " 'vs',\n",
              " 'stress',\n",
              " 'cough',\n",
              " 'absorption',\n",
              " 'events',\n",
              " 'values',\n",
              " 'paracetamol',\n",
              " 'parkinson',\n",
              " 'trial',\n",
              " 'rheumatoid',\n",
              " 'differences',\n",
              " 'relief',\n",
              " 'years',\n",
              " 'toes',\n",
              " 'w',\n",
              " 'face',\n",
              " 'ascorbic',\n",
              " 'coated',\n",
              " 'order',\n",
              " 'gastric',\n",
              " 'celebrex',\n",
              " 'charleyhorse',\n",
              " 'e',\n",
              " 'either',\n",
              " 'ankles',\n",
              " 'conditions',\n",
              " 'x',\n",
              " 'subjects',\n",
              " 'urinary',\n",
              " 'rapid',\n",
              " 'dyspnoea',\n",
              " 'motivation',\n",
              " 'reduction',\n",
              " 'enzymes',\n",
              " 'strength',\n",
              " 'developed',\n",
              " 'v',\n",
              " 'parameters',\n",
              " 'four',\n",
              " 'investigated',\n",
              " 'heel',\n",
              " 'swallowing',\n",
              " 'they',\n",
              " 'new',\n",
              " 'properties',\n",
              " 'vitamin',\n",
              " 'tendon',\n",
              " 'excruciating',\n",
              " 'hot',\n",
              " 'ca',\n",
              " 'phase',\n",
              " 'delivery',\n",
              " 'safety',\n",
              " 'post',\n",
              " 'through',\n",
              " 'containing',\n",
              " 'depressed',\n",
              " 'ratio',\n",
              " 'nerve',\n",
              " 'auc',\n",
              " 'dark',\n",
              " 'indigestion',\n",
              " 'lateral',\n",
              " 'felt',\n",
              " 'measured',\n",
              " 'within',\n",
              " 'assessed',\n",
              " 'number',\n",
              " 'speech',\n",
              " 'gout',\n",
              " 'intense',\n",
              " 'night',\n",
              " 'restless',\n",
              " 'steroidal',\n",
              " 'injection',\n",
              " 'decrease',\n",
              " 'mm',\n",
              " 'down',\n",
              " 'palpitations',\n",
              " 'breathing',\n",
              " 'menopause',\n",
              " 'indomethacin',\n",
              " 'such',\n",
              " 'size',\n",
              " 'included',\n",
              " 'range',\n",
              " 'lupus',\n",
              " 'evaluate',\n",
              " 'ii',\n",
              " 'dreams',\n",
              " 'active',\n",
              " 'vivo',\n",
              " 'bioavailability',\n",
              " 'fingers',\n",
              " 'primary',\n",
              " 'twitch',\n",
              " 'major',\n",
              " 'healthy',\n",
              " 'k',\n",
              " 'scale',\n",
              " 'statistically',\n",
              " 'tightness',\n",
              " 'tissue',\n",
              " 'potential',\n",
              " 'without',\n",
              " 'related',\n",
              " 'taste',\n",
              " 'compare',\n",
              " 'oa',\n",
              " 'clearly',\n",
              " 'moderate',\n",
              " 'any',\n",
              " 'sustained',\n",
              " 'samples',\n",
              " 'liquid',\n",
              " 'overall',\n",
              " 'therapeutic',\n",
              " 'limbs',\n",
              " 'wrist',\n",
              " 'fish',\n",
              " 'aqueous',\n",
              " 'edema',\n",
              " 'ability',\n",
              " 'form',\n",
              " 'medication',\n",
              " 'light',\n",
              " 'reaction',\n",
              " 'good',\n",
              " 'human',\n",
              " 'drowsy',\n",
              " 'determined',\n",
              " 'ulcer',\n",
              " 'development',\n",
              " 'greater',\n",
              " 'mobility',\n",
              " 'creatinine',\n",
              " 'mouth',\n",
              " 'tolerability',\n",
              " 'addition',\n",
              " 'minutes',\n",
              " 'bowel',\n",
              " 'colic',\n",
              " 'scores',\n",
              " 'terrible',\n",
              " 'applied',\n",
              " 'provoked',\n",
              " 'trouble',\n",
              " 'baseline',\n",
              " 'aspirin',\n",
              " 'our',\n",
              " 'sinus',\n",
              " 'heartburn',\n",
              " 'misoprostol',\n",
              " 'action',\n",
              " 'uterine',\n",
              " 'fever',\n",
              " 'nasal',\n",
              " 'always',\n",
              " 'polymer',\n",
              " 'bone',\n",
              " 'breath',\n",
              " 'matrix',\n",
              " 'every',\n",
              " 'some',\n",
              " 'process',\n",
              " 'ng',\n",
              " 'normal',\n",
              " 'tract',\n",
              " 'about',\n",
              " 'demonstrated',\n",
              " 'move',\n",
              " 'advil',\n",
              " 'twitching',\n",
              " 'think',\n",
              " 'male',\n",
              " 'na',\n",
              " 'fenofibrate',\n",
              " 'coq10',\n",
              " 'tylenol',\n",
              " 'co',\n",
              " 'mice',\n",
              " 'per',\n",
              " 'aim',\n",
              " 'tight',\n",
              " 'revealed',\n",
              " 'shown',\n",
              " 'indicated',\n",
              " 'although',\n",
              " 'products',\n",
              " 'dependent',\n",
              " 'fog',\n",
              " 'thighs',\n",
              " 'amyotrophic',\n",
              " 'better',\n",
              " 'plantar',\n",
              " 'various',\n",
              " 'cox',\n",
              " 'protein',\n",
              " 'presence',\n",
              " 'dosage',\n",
              " 'hypertension',\n",
              " 'mechanism',\n",
              " 'suggest',\n",
              " 'being',\n",
              " 'facial',\n",
              " 'inhibitor',\n",
              " 'lethargy',\n",
              " 'complex',\n",
              " 'inhibition',\n",
              " 'cancer',\n",
              " 'initial',\n",
              " 'moody',\n",
              " 'treatments',\n",
              " 'aleve',\n",
              " 'agents',\n",
              " 'formation',\n",
              " 'elbows',\n",
              " 'cm',\n",
              " 'agent',\n",
              " 'conducted',\n",
              " 'volunteers',\n",
              " 'physical',\n",
              " 'exposure',\n",
              " 'cerebrovascular',\n",
              " 'attacks',\n",
              " 'followed',\n",
              " 'end',\n",
              " 'o',\n",
              " 'alpha',\n",
              " 'onset',\n",
              " 'oedema',\n",
              " 'same',\n",
              " 'barely',\n",
              " 'risk',\n",
              " 'horses',\n",
              " 'whereas',\n",
              " 'exercise',\n",
              " 'standard',\n",
              " '+',\n",
              " 'relative',\n",
              " 'deep',\n",
              " 'alone',\n",
              " 'randomly',\n",
              " 'trials',\n",
              " 'content',\n",
              " 'intensity',\n",
              " 'free',\n",
              " 'profile',\n",
              " 'vas',\n",
              " 'ms',\n",
              " 'should',\n",
              " 'getting',\n",
              " 'pulse',\n",
              " 'including',\n",
              " 'finding',\n",
              " 'loose',\n",
              " 'me',\n",
              " 'local',\n",
              " 'improvement',\n",
              " 'accident',\n",
              " 'rat',\n",
              " 'case',\n",
              " 'hardly',\n",
              " 'sharp',\n",
              " 'congestion',\n",
              " 'cases',\n",
              " 'animals',\n",
              " 'extremity',\n",
              " 'fast',\n",
              " 'long',\n",
              " 'vehicle',\n",
              " 'panic',\n",
              " 'permeation',\n",
              " 'evaluation',\n",
              " 'fluid',\n",
              " 'numb',\n",
              " 'score',\n",
              " 'peak',\n",
              " 'tricor',\n",
              " 'natural',\n",
              " 'six',\n",
              " 'months',\n",
              " 'resulted',\n",
              " 'pharmaceutical',\n",
              " 'shortness',\n",
              " 'fatigued',\n",
              " 'liptor',\n",
              " 'combined',\n",
              " 'sugar',\n",
              " 'available',\n",
              " 'surface',\n",
              " 'versus',\n",
              " 'malignant',\n",
              " 'further',\n",
              " 'divided',\n",
              " 'age',\n",
              " 'tolerance',\n",
              " 'th',\n",
              " 'experimental',\n",
              " 'slurred',\n",
              " 'microspheres',\n",
              " 'profiles',\n",
              " 'pharmacokinetic',\n",
              " 'sick',\n",
              " 'f',\n",
              " 'ringing',\n",
              " 'pruritus',\n",
              " 'secondary',\n",
              " 'nervous',\n",
              " 'extremely',\n",
              " 'ethyl',\n",
              " 'stamina',\n",
              " 'determine',\n",
              " 'charley',\n",
              " 'generally',\n",
              " 'drive',\n",
              " 'sex',\n",
              " 'enteric',\n",
              " 'zetia',\n",
              " 'fasciitis',\n",
              " 'thoughts',\n",
              " 'hour',\n",
              " 'improved',\n",
              " 'systemic',\n",
              " 'naproxen',\n",
              " 'models',\n",
              " 'irregular',\n",
              " 'evidence',\n",
              " 'cmax',\n",
              " 'tolerated',\n",
              " 'achieved',\n",
              " 'ci',\n",
              " 'product',\n",
              " 'morning',\n",
              " 'once',\n",
              " 'five',\n",
              " 'efficiency',\n",
              " 'produced',\n",
              " 'duration',\n",
              " 'ldl',\n",
              " 'beads',\n",
              " 'coronary',\n",
              " 'amount',\n",
              " 'then',\n",
              " 'ocular',\n",
              " 'density',\n",
              " 'bp',\n",
              " 'increasing',\n",
              " 'sweats',\n",
              " 'global',\n",
              " 'rhabdomyolysis',\n",
              " 'capsules',\n",
              " 'lesions',\n",
              " 'corneal',\n",
              " 'among',\n",
              " 'diabetic',\n",
              " 'tension',\n",
              " 'periods',\n",
              " 'participants',\n",
              " 'calcium',\n",
              " 'frequent',\n",
              " 'started',\n",
              " 'pellets',\n",
              " 'influence',\n",
              " 'hepatic',\n",
              " 'production',\n",
              " 'synthesis',\n",
              " 'tested',\n",
              " 'stroke',\n",
              " 'als',\n",
              " 'ear',\n",
              " 'novel',\n",
              " 'stool',\n",
              " 'third',\n",
              " 'lost',\n",
              " 'assessment',\n",
              " 'caused',\n",
              " 'hunger',\n",
              " 'old',\n",
              " 'around',\n",
              " 'temperature',\n",
              " 'volume',\n",
              " 'comparison',\n",
              " 'food',\n",
              " 'complete',\n",
              " 'even',\n",
              " 'neurontin',\n",
              " 'diffusion',\n",
              " 'common',\n",
              " 'show',\n",
              " 'sensitivity',\n",
              " 'hypersomnia',\n",
              " 'rectal',\n",
              " 'review',\n",
              " 'respiratory',\n",
              " 'achilles',\n",
              " 'carried',\n",
              " 'methods',\n",
              " 'norvasc',\n",
              " 'commercial',\n",
              " 'patch',\n",
              " 'phosphate',\n",
              " 'scalp',\n",
              " 'because',\n",
              " 'indicate',\n",
              " 'analgesia',\n",
              " 'forgetful',\n",
              " 'cd',\n",
              " 'least',\n",
              " 'dic',\n",
              " '3',\n",
              " 'mass',\n",
              " 'lipoprotein',\n",
              " 'maximum',\n",
              " 'preparation',\n",
              " 'investigate',\n",
              " 'microg',\n",
              " 'strain',\n",
              " 'erythematosus',\n",
              " 'prednisone',\n",
              " 'codeine',\n",
              " 'erythema',\n",
              " 'technique',\n",
              " 'growth',\n",
              " 'eczema',\n",
              " 'findings',\n",
              " ':',\n",
              " 'itchy',\n",
              " 'inhibited',\n",
              " 'state',\n",
              " 'sensitive',\n",
              " 'gi',\n",
              " 'extent',\n",
              " 'retention',\n",
              " 'solid',\n",
              " 'year',\n",
              " 'mental',\n",
              " 'central',\n",
              " 'looks',\n",
              " 'arthritic',\n",
              " 'recorded',\n",
              " 'rofecoxib',\n",
              " 'spasmodic',\n",
              " 'care',\n",
              " 'loaded',\n",
              " 'sensations',\n",
              " 'pre',\n",
              " 'self',\n",
              " 'lipex',\n",
              " 'dysfunction',\n",
              " 'film',\n",
              " 'condition',\n",
              " 'thus',\n",
              " 'venous',\n",
              " 'second',\n",
              " 'degrees',\n",
              " 'region',\n",
              " 'reference',\n",
              " 'quality',\n",
              " 'determination',\n",
              " 'cross',\n",
              " 'dizzy',\n",
              " 'just',\n",
              " 'intestinal',\n",
              " 'asthma',\n",
              " 'cataract',\n",
              " 'cpk',\n",
              " 'interaction',\n",
              " 'taking',\n",
              " 'serious',\n",
              " 'according',\n",
              " 'prostaglandin',\n",
              " 'de',\n",
              " 'confidence',\n",
              " 'design',\n",
              " 'across',\n",
              " 'incidence',\n",
              " 'structure',\n",
              " 'aptyalism',\n",
              " 'slow',\n",
              " 'flushing',\n",
              " 'lopid',\n",
              " 'bursitis',\n",
              " 'provided',\n",
              " 'flow',\n",
              " 'preparations',\n",
              " 'assess',\n",
              " 'small',\n",
              " 'several',\n",
              " 'cardiovascular',\n",
              " 'lipid',\n",
              " 'comparable',\n",
              " 'beta',\n",
              " 'forearm',\n",
              " 'abdomen',\n",
              " 'transient',\n",
              " 'medications',\n",
              " 'considered',\n",
              " 'antiinflammatory',\n",
              " 'climb',\n",
              " 'characterized',\n",
              " 'plus',\n",
              " 'month',\n",
              " 'palsy',\n",
              " 'specific',\n",
              " 'affected',\n",
              " 'if',\n",
              " 'therefore',\n",
              " 'intramuscular',\n",
              " 'omega-3-acid',\n",
              " 'esters-90',\n",
              " 'menorrhagia',\n",
              " 'characteristics',\n",
              " 'tachycardia',\n",
              " 'stand',\n",
              " 'receiving',\n",
              " 'hard',\n",
              " 'slight',\n",
              " 'cataflam',\n",
              " 'medium',\n",
              " 'forms',\n",
              " 'value',\n",
              " 'analyzed',\n",
              " 'able',\n",
              " 'against',\n",
              " 'superior',\n",
              " 'membrane',\n",
              " 'solubility',\n",
              " 'difficult',\n",
              " 'buffer',\n",
              " 'horrible',\n",
              " 'saline',\n",
              " 'inhibitors',\n",
              " 'ophthalmic',\n",
              " 'examined',\n",
              " 'large',\n",
              " 'expression',\n",
              " 'r',\n",
              " 'faster',\n",
              " 'random',\n",
              " 'do',\n",
              " 'detection',\n",
              " 'foggy',\n",
              " 'would',\n",
              " 'inability',\n",
              " 'slightly',\n",
              " 'pge',\n",
              " 'diet',\n",
              " 'little',\n",
              " 'outcome',\n",
              " ...]"
            ]
          },
          "metadata": {
            "tags": []
          },
          "execution_count": 18
        }
      ]
    },
    {
      "cell_type": "code",
      "metadata": {
        "id": "yPWr03mls3VT",
        "outputId": "cce641cd-d139-41ba-d08c-4cac8c45de97",
        "colab": {
          "base_uri": "https://localhost:8080/",
          "height": 17
        }
      },
      "source": [
        "model_path = path/'models'\n",
        "model_path.mkdir(exist_ok=True)\n",
        "url = 'http://files.fast.ai/models/wt103_v1/'\n",
        "download_url(f'{url}lstm_wt103.pth', model_path/'lstm_wt103.pth')\n",
        "download_url(f'{url}itos_wt103.pkl', model_path/'itos_wt103.pkl')"
      ],
      "execution_count": 19,
      "outputs": [
        {
          "output_type": "display_data",
          "data": {
            "text/html": [
              ""
            ],
            "text/plain": [
              "<IPython.core.display.HTML object>"
            ]
          },
          "metadata": {
            "tags": []
          }
        },
        {
          "output_type": "display_data",
          "data": {
            "text/html": [
              ""
            ],
            "text/plain": [
              "<IPython.core.display.HTML object>"
            ]
          },
          "metadata": {
            "tags": []
          }
        }
      ]
    },
    {
      "cell_type": "code",
      "metadata": {
        "id": "JRzvWg8RtGGr",
        "outputId": "7c800ff1-af76-4dd8-f2cf-77a848e3ecc5",
        "colab": {
          "base_uri": "https://localhost:8080/",
          "height": 34
        }
      },
      "source": [
        "learn = language_model_learner(data_lm, AWD_LSTM, drop_mult=0.5)"
      ],
      "execution_count": 20,
      "outputs": [
        {
          "output_type": "stream",
          "text": [
            "Downloading https://s3.amazonaws.com/fast-ai-modelzoo/wt103-fwd.tgz\n"
          ],
          "name": "stdout"
        },
        {
          "output_type": "display_data",
          "data": {
            "text/html": [
              ""
            ],
            "text/plain": [
              "<IPython.core.display.HTML object>"
            ]
          },
          "metadata": {
            "tags": []
          }
        }
      ]
    },
    {
      "cell_type": "code",
      "metadata": {
        "id": "xKK7GeBev7Xn",
        "outputId": "96eb7fac-2b9b-400b-aae9-06bc9bf5dc5e",
        "colab": {
          "base_uri": "https://localhost:8080/",
          "height": 80
        }
      },
      "source": [
        "learn.fit_one_cycle(1, 1e-2)"
      ],
      "execution_count": 21,
      "outputs": [
        {
          "output_type": "display_data",
          "data": {
            "text/html": [
              "<table border=\"1\" class=\"dataframe\">\n",
              "  <thead>\n",
              "    <tr style=\"text-align: left;\">\n",
              "      <th>epoch</th>\n",
              "      <th>train_loss</th>\n",
              "      <th>valid_loss</th>\n",
              "      <th>accuracy</th>\n",
              "      <th>time</th>\n",
              "    </tr>\n",
              "  </thead>\n",
              "  <tbody>\n",
              "    <tr>\n",
              "      <td>0</td>\n",
              "      <td>3.775730</td>\n",
              "      <td>3.386592</td>\n",
              "      <td>0.457709</td>\n",
              "      <td>30:19</td>\n",
              "    </tr>\n",
              "  </tbody>\n",
              "</table>"
            ],
            "text/plain": [
              "<IPython.core.display.HTML object>"
            ]
          },
          "metadata": {
            "tags": []
          }
        }
      ]
    },
    {
      "cell_type": "code",
      "metadata": {
        "id": "iB7rHGQCwd12"
      },
      "source": [
        "# learn.fit_one_cycle(1, 1e-2)"
      ],
      "execution_count": 22,
      "outputs": []
    },
    {
      "cell_type": "code",
      "metadata": {
        "id": "_BnSuAeCwkBe"
      },
      "source": [
        "# learn.fit_one_cycle(1, 1e-3)"
      ],
      "execution_count": 23,
      "outputs": []
    },
    {
      "cell_type": "code",
      "metadata": {
        "id": "MuTm-RFjwrEX",
        "outputId": "32f16874-2b4c-4c06-d4bf-8cfeaacf3334",
        "colab": {
          "base_uri": "https://localhost:8080/",
          "height": 80
        }
      },
      "source": [
        "learn.fit_one_cycle(1, 1e-3)"
      ],
      "execution_count": 24,
      "outputs": [
        {
          "output_type": "display_data",
          "data": {
            "text/html": [
              "<table border=\"1\" class=\"dataframe\">\n",
              "  <thead>\n",
              "    <tr style=\"text-align: left;\">\n",
              "      <th>epoch</th>\n",
              "      <th>train_loss</th>\n",
              "      <th>valid_loss</th>\n",
              "      <th>accuracy</th>\n",
              "      <th>time</th>\n",
              "    </tr>\n",
              "  </thead>\n",
              "  <tbody>\n",
              "    <tr>\n",
              "      <td>0</td>\n",
              "      <td>3.429078</td>\n",
              "      <td>3.328420</td>\n",
              "      <td>0.462739</td>\n",
              "      <td>29:19</td>\n",
              "    </tr>\n",
              "  </tbody>\n",
              "</table>"
            ],
            "text/plain": [
              "<IPython.core.display.HTML object>"
            ]
          },
          "metadata": {
            "tags": []
          }
        }
      ]
    },
    {
      "cell_type": "code",
      "metadata": {
        "id": "1Er2ExO8wr7Y"
      },
      "source": [
        "learn.save_encoder('pubmed_ask_fold4_first')"
      ],
      "execution_count": 25,
      "outputs": []
    },
    {
      "cell_type": "code",
      "metadata": {
        "id": "z52cZs2qwvad",
        "outputId": "8887db3e-6269-411e-f8c5-e90260d2f18f",
        "colab": {
          "base_uri": "https://localhost:8080/",
          "height": 80
        }
      },
      "source": [
        "learn = text_classifier_learner(data_clas,AWD_LSTM, drop_mult=0.5)\n",
        "learn.load_encoder('pubmed_ask_fold4_first')\n",
        "learn.fit_one_cycle(1, 1e-2)"
      ],
      "execution_count": 26,
      "outputs": [
        {
          "output_type": "display_data",
          "data": {
            "text/html": [
              "<table border=\"1\" class=\"dataframe\">\n",
              "  <thead>\n",
              "    <tr style=\"text-align: left;\">\n",
              "      <th>epoch</th>\n",
              "      <th>train_loss</th>\n",
              "      <th>valid_loss</th>\n",
              "      <th>accuracy</th>\n",
              "      <th>time</th>\n",
              "    </tr>\n",
              "  </thead>\n",
              "  <tbody>\n",
              "    <tr>\n",
              "      <td>0</td>\n",
              "      <td>3.907260</td>\n",
              "      <td>3.371431</td>\n",
              "      <td>0.390097</td>\n",
              "      <td>01:10</td>\n",
              "    </tr>\n",
              "  </tbody>\n",
              "</table>"
            ],
            "text/plain": [
              "<IPython.core.display.HTML object>"
            ]
          },
          "metadata": {
            "tags": []
          }
        }
      ]
    },
    {
      "cell_type": "code",
      "metadata": {
        "id": "ImwQP1PJwzxd",
        "outputId": "5efb88ad-f2fb-4acb-fbfb-fe1241e8c834",
        "colab": {
          "base_uri": "https://localhost:8080/",
          "height": 80
        }
      },
      "source": [
        "learn.freeze_to(-2)\n",
        "learn.fit_one_cycle(1, slice(5e-3/2., 5e-3))"
      ],
      "execution_count": 27,
      "outputs": [
        {
          "output_type": "display_data",
          "data": {
            "text/html": [
              "<table border=\"1\" class=\"dataframe\">\n",
              "  <thead>\n",
              "    <tr style=\"text-align: left;\">\n",
              "      <th>epoch</th>\n",
              "      <th>train_loss</th>\n",
              "      <th>valid_loss</th>\n",
              "      <th>accuracy</th>\n",
              "      <th>time</th>\n",
              "    </tr>\n",
              "  </thead>\n",
              "  <tbody>\n",
              "    <tr>\n",
              "      <td>0</td>\n",
              "      <td>2.986104</td>\n",
              "      <td>2.844735</td>\n",
              "      <td>0.490338</td>\n",
              "      <td>01:29</td>\n",
              "    </tr>\n",
              "  </tbody>\n",
              "</table>"
            ],
            "text/plain": [
              "<IPython.core.display.HTML object>"
            ]
          },
          "metadata": {
            "tags": []
          }
        }
      ]
    },
    {
      "cell_type": "code",
      "metadata": {
        "id": "Owff_BJXw53u",
        "outputId": "90d148a6-2a32-44ee-e43b-214a26bac3d9",
        "colab": {
          "base_uri": "https://localhost:8080/",
          "height": 80
        }
      },
      "source": [
        "learn.unfreeze()\n",
        "learn.fit_one_cycle(1, slice(2e-3/100, 2e-3))"
      ],
      "execution_count": 28,
      "outputs": [
        {
          "output_type": "display_data",
          "data": {
            "text/html": [
              "<table border=\"1\" class=\"dataframe\">\n",
              "  <thead>\n",
              "    <tr style=\"text-align: left;\">\n",
              "      <th>epoch</th>\n",
              "      <th>train_loss</th>\n",
              "      <th>valid_loss</th>\n",
              "      <th>accuracy</th>\n",
              "      <th>time</th>\n",
              "    </tr>\n",
              "  </thead>\n",
              "  <tbody>\n",
              "    <tr>\n",
              "      <td>0</td>\n",
              "      <td>2.294145</td>\n",
              "      <td>2.399200</td>\n",
              "      <td>0.567633</td>\n",
              "      <td>03:15</td>\n",
              "    </tr>\n",
              "  </tbody>\n",
              "</table>"
            ],
            "text/plain": [
              "<IPython.core.display.HTML object>"
            ]
          },
          "metadata": {
            "tags": []
          }
        }
      ]
    },
    {
      "cell_type": "code",
      "metadata": {
        "id": "lqAyu56V8Waq",
        "outputId": "29111117-4a28-4b8a-c9c5-2b7b45078e0c",
        "colab": {
          "base_uri": "https://localhost:8080/",
          "height": 111
        }
      },
      "source": [
        "learn.fit_one_cycle(2, slice(2e-3/100, 2e-3))"
      ],
      "execution_count": 29,
      "outputs": [
        {
          "output_type": "display_data",
          "data": {
            "text/html": [
              "<table border=\"1\" class=\"dataframe\">\n",
              "  <thead>\n",
              "    <tr style=\"text-align: left;\">\n",
              "      <th>epoch</th>\n",
              "      <th>train_loss</th>\n",
              "      <th>valid_loss</th>\n",
              "      <th>accuracy</th>\n",
              "      <th>time</th>\n",
              "    </tr>\n",
              "  </thead>\n",
              "  <tbody>\n",
              "    <tr>\n",
              "      <td>0</td>\n",
              "      <td>2.035420</td>\n",
              "      <td>1.984030</td>\n",
              "      <td>0.640097</td>\n",
              "      <td>03:24</td>\n",
              "    </tr>\n",
              "    <tr>\n",
              "      <td>1</td>\n",
              "      <td>1.701304</td>\n",
              "      <td>1.859255</td>\n",
              "      <td>0.670290</td>\n",
              "      <td>03:32</td>\n",
              "    </tr>\n",
              "  </tbody>\n",
              "</table>"
            ],
            "text/plain": [
              "<IPython.core.display.HTML object>"
            ]
          },
          "metadata": {
            "tags": []
          }
        }
      ]
    },
    {
      "cell_type": "code",
      "metadata": {
        "id": "a7I1xMRp8bUd",
        "outputId": "14c3256a-aac8-4d6b-b9cc-22e9a7cfd0e7",
        "colab": {
          "base_uri": "https://localhost:8080/",
          "height": 111
        }
      },
      "source": [
        "learn.fit_one_cycle(2, slice(2e-3/100, 2e-3))"
      ],
      "execution_count": 30,
      "outputs": [
        {
          "output_type": "display_data",
          "data": {
            "text/html": [
              "<table border=\"1\" class=\"dataframe\">\n",
              "  <thead>\n",
              "    <tr style=\"text-align: left;\">\n",
              "      <th>epoch</th>\n",
              "      <th>train_loss</th>\n",
              "      <th>valid_loss</th>\n",
              "      <th>accuracy</th>\n",
              "      <th>time</th>\n",
              "    </tr>\n",
              "  </thead>\n",
              "  <tbody>\n",
              "    <tr>\n",
              "      <td>0</td>\n",
              "      <td>1.481994</td>\n",
              "      <td>1.720870</td>\n",
              "      <td>0.687198</td>\n",
              "      <td>03:12</td>\n",
              "    </tr>\n",
              "    <tr>\n",
              "      <td>1</td>\n",
              "      <td>1.355808</td>\n",
              "      <td>1.627205</td>\n",
              "      <td>0.700483</td>\n",
              "      <td>03:23</td>\n",
              "    </tr>\n",
              "  </tbody>\n",
              "</table>"
            ],
            "text/plain": [
              "<IPython.core.display.HTML object>"
            ]
          },
          "metadata": {
            "tags": []
          }
        }
      ]
    },
    {
      "cell_type": "code",
      "metadata": {
        "id": "UAnti-XmGVfO",
        "outputId": "f92c8970-0e9d-44cb-dd8b-e5959c81bcdf",
        "colab": {
          "base_uri": "https://localhost:8080/",
          "height": 111
        }
      },
      "source": [
        "learn.fit_one_cycle(2, slice(2e-3/100, 2e-3))"
      ],
      "execution_count": 31,
      "outputs": [
        {
          "output_type": "display_data",
          "data": {
            "text/html": [
              "<table border=\"1\" class=\"dataframe\">\n",
              "  <thead>\n",
              "    <tr style=\"text-align: left;\">\n",
              "      <th>epoch</th>\n",
              "      <th>train_loss</th>\n",
              "      <th>valid_loss</th>\n",
              "      <th>accuracy</th>\n",
              "      <th>time</th>\n",
              "    </tr>\n",
              "  </thead>\n",
              "  <tbody>\n",
              "    <tr>\n",
              "      <td>0</td>\n",
              "      <td>1.230383</td>\n",
              "      <td>1.506222</td>\n",
              "      <td>0.728261</td>\n",
              "      <td>03:29</td>\n",
              "    </tr>\n",
              "    <tr>\n",
              "      <td>1</td>\n",
              "      <td>1.086565</td>\n",
              "      <td>1.438806</td>\n",
              "      <td>0.729469</td>\n",
              "      <td>03:31</td>\n",
              "    </tr>\n",
              "  </tbody>\n",
              "</table>"
            ],
            "text/plain": [
              "<IPython.core.display.HTML object>"
            ]
          },
          "metadata": {
            "tags": []
          }
        }
      ]
    },
    {
      "cell_type": "code",
      "metadata": {
        "id": "bIft7W25GwSu",
        "outputId": "be6870a1-27a4-4fc3-bc26-fbf5fbd5cf1b",
        "colab": {
          "base_uri": "https://localhost:8080/",
          "height": 111
        }
      },
      "source": [
        "learn.fit_one_cycle(2, slice(2e-3/100, 2e-3))"
      ],
      "execution_count": 32,
      "outputs": [
        {
          "output_type": "display_data",
          "data": {
            "text/html": [
              "<table border=\"1\" class=\"dataframe\">\n",
              "  <thead>\n",
              "    <tr style=\"text-align: left;\">\n",
              "      <th>epoch</th>\n",
              "      <th>train_loss</th>\n",
              "      <th>valid_loss</th>\n",
              "      <th>accuracy</th>\n",
              "      <th>time</th>\n",
              "    </tr>\n",
              "  </thead>\n",
              "  <tbody>\n",
              "    <tr>\n",
              "      <td>0</td>\n",
              "      <td>0.953358</td>\n",
              "      <td>1.393964</td>\n",
              "      <td>0.752415</td>\n",
              "      <td>03:21</td>\n",
              "    </tr>\n",
              "    <tr>\n",
              "      <td>1</td>\n",
              "      <td>0.844820</td>\n",
              "      <td>1.320620</td>\n",
              "      <td>0.758454</td>\n",
              "      <td>03:27</td>\n",
              "    </tr>\n",
              "  </tbody>\n",
              "</table>"
            ],
            "text/plain": [
              "<IPython.core.display.HTML object>"
            ]
          },
          "metadata": {
            "tags": []
          }
        }
      ]
    },
    {
      "cell_type": "code",
      "metadata": {
        "id": "EEHszVRvGyFt",
        "outputId": "746ebb86-f3e8-4a73-e195-de99b5bec1ad",
        "colab": {
          "base_uri": "https://localhost:8080/",
          "height": 111
        }
      },
      "source": [
        "learn.fit_one_cycle(2, slice(2e-3/100, 2e-3))"
      ],
      "execution_count": 33,
      "outputs": [
        {
          "output_type": "display_data",
          "data": {
            "text/html": [
              "<table border=\"1\" class=\"dataframe\">\n",
              "  <thead>\n",
              "    <tr style=\"text-align: left;\">\n",
              "      <th>epoch</th>\n",
              "      <th>train_loss</th>\n",
              "      <th>valid_loss</th>\n",
              "      <th>accuracy</th>\n",
              "      <th>time</th>\n",
              "    </tr>\n",
              "  </thead>\n",
              "  <tbody>\n",
              "    <tr>\n",
              "      <td>0</td>\n",
              "      <td>0.813484</td>\n",
              "      <td>1.293588</td>\n",
              "      <td>0.763285</td>\n",
              "      <td>03:14</td>\n",
              "    </tr>\n",
              "    <tr>\n",
              "      <td>1</td>\n",
              "      <td>0.742613</td>\n",
              "      <td>1.257346</td>\n",
              "      <td>0.772947</td>\n",
              "      <td>03:16</td>\n",
              "    </tr>\n",
              "  </tbody>\n",
              "</table>"
            ],
            "text/plain": [
              "<IPython.core.display.HTML object>"
            ]
          },
          "metadata": {
            "tags": []
          }
        }
      ]
    },
    {
      "cell_type": "code",
      "metadata": {
        "id": "XsHfrhCHG3dN",
        "outputId": "86c64f52-e67b-4634-db5f-65bf9546f2a1",
        "colab": {
          "base_uri": "https://localhost:8080/",
          "height": 173
        }
      },
      "source": [
        "learn.fit_one_cycle(4, slice(2e-3/100, 2e-3))"
      ],
      "execution_count": 34,
      "outputs": [
        {
          "output_type": "display_data",
          "data": {
            "text/html": [
              "<table border=\"1\" class=\"dataframe\">\n",
              "  <thead>\n",
              "    <tr style=\"text-align: left;\">\n",
              "      <th>epoch</th>\n",
              "      <th>train_loss</th>\n",
              "      <th>valid_loss</th>\n",
              "      <th>accuracy</th>\n",
              "      <th>time</th>\n",
              "    </tr>\n",
              "  </thead>\n",
              "  <tbody>\n",
              "    <tr>\n",
              "      <td>0</td>\n",
              "      <td>0.650675</td>\n",
              "      <td>1.227560</td>\n",
              "      <td>0.768116</td>\n",
              "      <td>03:19</td>\n",
              "    </tr>\n",
              "    <tr>\n",
              "      <td>1</td>\n",
              "      <td>0.701341</td>\n",
              "      <td>1.151853</td>\n",
              "      <td>0.778986</td>\n",
              "      <td>03:28</td>\n",
              "    </tr>\n",
              "    <tr>\n",
              "      <td>2</td>\n",
              "      <td>0.560232</td>\n",
              "      <td>1.128331</td>\n",
              "      <td>0.791063</td>\n",
              "      <td>03:19</td>\n",
              "    </tr>\n",
              "    <tr>\n",
              "      <td>3</td>\n",
              "      <td>0.503366</td>\n",
              "      <td>1.126339</td>\n",
              "      <td>0.797101</td>\n",
              "      <td>03:29</td>\n",
              "    </tr>\n",
              "  </tbody>\n",
              "</table>"
            ],
            "text/plain": [
              "<IPython.core.display.HTML object>"
            ]
          },
          "metadata": {
            "tags": []
          }
        }
      ]
    },
    {
      "cell_type": "code",
      "metadata": {
        "id": "0Zsd99isb9EQ",
        "outputId": "e6a41e74-1a67-4a3f-c642-1bf8bb985e54",
        "colab": {
          "base_uri": "https://localhost:8080/",
          "height": 173
        }
      },
      "source": [
        "learn.fit_one_cycle(4, slice(2e-3/100, 2e-3))"
      ],
      "execution_count": 35,
      "outputs": [
        {
          "output_type": "display_data",
          "data": {
            "text/html": [
              "<table border=\"1\" class=\"dataframe\">\n",
              "  <thead>\n",
              "    <tr style=\"text-align: left;\">\n",
              "      <th>epoch</th>\n",
              "      <th>train_loss</th>\n",
              "      <th>valid_loss</th>\n",
              "      <th>accuracy</th>\n",
              "      <th>time</th>\n",
              "    </tr>\n",
              "  </thead>\n",
              "  <tbody>\n",
              "    <tr>\n",
              "      <td>0</td>\n",
              "      <td>0.486384</td>\n",
              "      <td>1.203534</td>\n",
              "      <td>0.789855</td>\n",
              "      <td>03:08</td>\n",
              "    </tr>\n",
              "    <tr>\n",
              "      <td>1</td>\n",
              "      <td>0.512767</td>\n",
              "      <td>1.212108</td>\n",
              "      <td>0.793478</td>\n",
              "      <td>03:16</td>\n",
              "    </tr>\n",
              "    <tr>\n",
              "      <td>2</td>\n",
              "      <td>0.452643</td>\n",
              "      <td>1.100267</td>\n",
              "      <td>0.806763</td>\n",
              "      <td>03:30</td>\n",
              "    </tr>\n",
              "    <tr>\n",
              "      <td>3</td>\n",
              "      <td>0.373434</td>\n",
              "      <td>1.095091</td>\n",
              "      <td>0.809179</td>\n",
              "      <td>03:22</td>\n",
              "    </tr>\n",
              "  </tbody>\n",
              "</table>"
            ],
            "text/plain": [
              "<IPython.core.display.HTML object>"
            ]
          },
          "metadata": {
            "tags": []
          }
        }
      ]
    },
    {
      "cell_type": "code",
      "metadata": {
        "id": "atNWNKDFPbuI",
        "outputId": "b82361b7-03db-41ad-c616-3192bd12091d",
        "colab": {
          "base_uri": "https://localhost:8080/",
          "height": 173
        }
      },
      "source": [
        "learn.fit_one_cycle(4, slice(2e-3/100, 2e-3))"
      ],
      "execution_count": 36,
      "outputs": [
        {
          "output_type": "display_data",
          "data": {
            "text/html": [
              "<table border=\"1\" class=\"dataframe\">\n",
              "  <thead>\n",
              "    <tr style=\"text-align: left;\">\n",
              "      <th>epoch</th>\n",
              "      <th>train_loss</th>\n",
              "      <th>valid_loss</th>\n",
              "      <th>accuracy</th>\n",
              "      <th>time</th>\n",
              "    </tr>\n",
              "  </thead>\n",
              "  <tbody>\n",
              "    <tr>\n",
              "      <td>0</td>\n",
              "      <td>0.388665</td>\n",
              "      <td>1.140401</td>\n",
              "      <td>0.805556</td>\n",
              "      <td>03:19</td>\n",
              "    </tr>\n",
              "    <tr>\n",
              "      <td>1</td>\n",
              "      <td>0.400631</td>\n",
              "      <td>1.160673</td>\n",
              "      <td>0.809179</td>\n",
              "      <td>03:13</td>\n",
              "    </tr>\n",
              "    <tr>\n",
              "      <td>2</td>\n",
              "      <td>0.360604</td>\n",
              "      <td>1.136609</td>\n",
              "      <td>0.812802</td>\n",
              "      <td>03:27</td>\n",
              "    </tr>\n",
              "    <tr>\n",
              "      <td>3</td>\n",
              "      <td>0.324530</td>\n",
              "      <td>1.073532</td>\n",
              "      <td>0.815217</td>\n",
              "      <td>03:26</td>\n",
              "    </tr>\n",
              "  </tbody>\n",
              "</table>"
            ],
            "text/plain": [
              "<IPython.core.display.HTML object>"
            ]
          },
          "metadata": {
            "tags": []
          }
        }
      ]
    },
    {
      "cell_type": "code",
      "metadata": {
        "id": "rKrBTZ0T1uVA",
        "outputId": "ef6e03e2-283c-4b9e-8ddf-11e3afe1ce4a",
        "colab": {
          "base_uri": "https://localhost:8080/",
          "height": 173
        }
      },
      "source": [
        "learn.fit_one_cycle(4, slice(2e-3/100, 2e-3))"
      ],
      "execution_count": 37,
      "outputs": [
        {
          "output_type": "display_data",
          "data": {
            "text/html": [
              "<table border=\"1\" class=\"dataframe\">\n",
              "  <thead>\n",
              "    <tr style=\"text-align: left;\">\n",
              "      <th>epoch</th>\n",
              "      <th>train_loss</th>\n",
              "      <th>valid_loss</th>\n",
              "      <th>accuracy</th>\n",
              "      <th>time</th>\n",
              "    </tr>\n",
              "  </thead>\n",
              "  <tbody>\n",
              "    <tr>\n",
              "      <td>0</td>\n",
              "      <td>0.272262</td>\n",
              "      <td>1.149659</td>\n",
              "      <td>0.820048</td>\n",
              "      <td>03:26</td>\n",
              "    </tr>\n",
              "    <tr>\n",
              "      <td>1</td>\n",
              "      <td>0.340771</td>\n",
              "      <td>1.150971</td>\n",
              "      <td>0.820048</td>\n",
              "      <td>03:25</td>\n",
              "    </tr>\n",
              "    <tr>\n",
              "      <td>2</td>\n",
              "      <td>0.298601</td>\n",
              "      <td>1.107196</td>\n",
              "      <td>0.821256</td>\n",
              "      <td>03:31</td>\n",
              "    </tr>\n",
              "    <tr>\n",
              "      <td>3</td>\n",
              "      <td>0.244441</td>\n",
              "      <td>1.145240</td>\n",
              "      <td>0.827295</td>\n",
              "      <td>03:21</td>\n",
              "    </tr>\n",
              "  </tbody>\n",
              "</table>"
            ],
            "text/plain": [
              "<IPython.core.display.HTML object>"
            ]
          },
          "metadata": {
            "tags": []
          }
        }
      ]
    },
    {
      "cell_type": "code",
      "metadata": {
        "id": "ajQC6WDg1yA9",
        "outputId": "7360c6d2-3256-48d5-b6ff-965f06feccf5",
        "colab": {
          "base_uri": "https://localhost:8080/",
          "height": 173
        }
      },
      "source": [
        "learn.fit_one_cycle(4, slice(2e-3/100, 2e-3))"
      ],
      "execution_count": 38,
      "outputs": [
        {
          "output_type": "display_data",
          "data": {
            "text/html": [
              "<table border=\"1\" class=\"dataframe\">\n",
              "  <thead>\n",
              "    <tr style=\"text-align: left;\">\n",
              "      <th>epoch</th>\n",
              "      <th>train_loss</th>\n",
              "      <th>valid_loss</th>\n",
              "      <th>accuracy</th>\n",
              "      <th>time</th>\n",
              "    </tr>\n",
              "  </thead>\n",
              "  <tbody>\n",
              "    <tr>\n",
              "      <td>0</td>\n",
              "      <td>0.254705</td>\n",
              "      <td>1.162712</td>\n",
              "      <td>0.821256</td>\n",
              "      <td>03:25</td>\n",
              "    </tr>\n",
              "    <tr>\n",
              "      <td>1</td>\n",
              "      <td>0.293250</td>\n",
              "      <td>1.157652</td>\n",
              "      <td>0.820048</td>\n",
              "      <td>03:28</td>\n",
              "    </tr>\n",
              "    <tr>\n",
              "      <td>2</td>\n",
              "      <td>0.246880</td>\n",
              "      <td>1.171142</td>\n",
              "      <td>0.816425</td>\n",
              "      <td>03:39</td>\n",
              "    </tr>\n",
              "    <tr>\n",
              "      <td>3</td>\n",
              "      <td>0.214096</td>\n",
              "      <td>1.153747</td>\n",
              "      <td>0.820048</td>\n",
              "      <td>03:19</td>\n",
              "    </tr>\n",
              "  </tbody>\n",
              "</table>"
            ],
            "text/plain": [
              "<IPython.core.display.HTML object>"
            ]
          },
          "metadata": {
            "tags": []
          }
        }
      ]
    },
    {
      "cell_type": "code",
      "metadata": {
        "id": "KKydb0B4BKGk",
        "outputId": "6aa7689f-964f-4242-da93-399b961c3d01",
        "colab": {
          "base_uri": "https://localhost:8080/",
          "height": 173
        }
      },
      "source": [
        "learn.fit_one_cycle(4, slice(2e-3/100, 2e-3))"
      ],
      "execution_count": 39,
      "outputs": [
        {
          "output_type": "display_data",
          "data": {
            "text/html": [
              "<table border=\"1\" class=\"dataframe\">\n",
              "  <thead>\n",
              "    <tr style=\"text-align: left;\">\n",
              "      <th>epoch</th>\n",
              "      <th>train_loss</th>\n",
              "      <th>valid_loss</th>\n",
              "      <th>accuracy</th>\n",
              "      <th>time</th>\n",
              "    </tr>\n",
              "  </thead>\n",
              "  <tbody>\n",
              "    <tr>\n",
              "      <td>0</td>\n",
              "      <td>0.210768</td>\n",
              "      <td>1.257428</td>\n",
              "      <td>0.828502</td>\n",
              "      <td>03:17</td>\n",
              "    </tr>\n",
              "    <tr>\n",
              "      <td>1</td>\n",
              "      <td>0.245507</td>\n",
              "      <td>1.265457</td>\n",
              "      <td>0.811594</td>\n",
              "      <td>03:22</td>\n",
              "    </tr>\n",
              "    <tr>\n",
              "      <td>2</td>\n",
              "      <td>0.249042</td>\n",
              "      <td>1.204551</td>\n",
              "      <td>0.818841</td>\n",
              "      <td>03:18</td>\n",
              "    </tr>\n",
              "    <tr>\n",
              "      <td>3</td>\n",
              "      <td>0.199689</td>\n",
              "      <td>1.179939</td>\n",
              "      <td>0.823672</td>\n",
              "      <td>03:23</td>\n",
              "    </tr>\n",
              "  </tbody>\n",
              "</table>"
            ],
            "text/plain": [
              "<IPython.core.display.HTML object>"
            ]
          },
          "metadata": {
            "tags": []
          }
        }
      ]
    },
    {
      "cell_type": "code",
      "metadata": {
        "id": "T2APKtFKBpGY",
        "outputId": "7c2b8747-6373-4bd5-f1fa-4ca04ea21fcd",
        "colab": {
          "base_uri": "https://localhost:8080/",
          "height": 173
        }
      },
      "source": [
        "learn.fit_one_cycle(4, slice(2e-3/100, 2e-3))"
      ],
      "execution_count": 40,
      "outputs": [
        {
          "output_type": "display_data",
          "data": {
            "text/html": [
              "<table border=\"1\" class=\"dataframe\">\n",
              "  <thead>\n",
              "    <tr style=\"text-align: left;\">\n",
              "      <th>epoch</th>\n",
              "      <th>train_loss</th>\n",
              "      <th>valid_loss</th>\n",
              "      <th>accuracy</th>\n",
              "      <th>time</th>\n",
              "    </tr>\n",
              "  </thead>\n",
              "  <tbody>\n",
              "    <tr>\n",
              "      <td>0</td>\n",
              "      <td>0.198346</td>\n",
              "      <td>1.158101</td>\n",
              "      <td>0.818841</td>\n",
              "      <td>03:16</td>\n",
              "    </tr>\n",
              "    <tr>\n",
              "      <td>1</td>\n",
              "      <td>0.237874</td>\n",
              "      <td>1.236715</td>\n",
              "      <td>0.832126</td>\n",
              "      <td>03:21</td>\n",
              "    </tr>\n",
              "    <tr>\n",
              "      <td>2</td>\n",
              "      <td>0.212527</td>\n",
              "      <td>1.191594</td>\n",
              "      <td>0.823672</td>\n",
              "      <td>03:14</td>\n",
              "    </tr>\n",
              "    <tr>\n",
              "      <td>3</td>\n",
              "      <td>0.188671</td>\n",
              "      <td>1.182454</td>\n",
              "      <td>0.824879</td>\n",
              "      <td>03:16</td>\n",
              "    </tr>\n",
              "  </tbody>\n",
              "</table>"
            ],
            "text/plain": [
              "<IPython.core.display.HTML object>"
            ]
          },
          "metadata": {
            "tags": []
          }
        }
      ]
    },
    {
      "cell_type": "code",
      "metadata": {
        "id": "qtTypA1sPgLU",
        "outputId": "e72a7175-f575-4769-e03e-5852da36100c",
        "colab": {
          "base_uri": "https://localhost:8080/",
          "height": 111
        }
      },
      "source": [
        "learn.fit_one_cycle(2, slice(2e-3/100, 2e-3))"
      ],
      "execution_count": 41,
      "outputs": [
        {
          "output_type": "display_data",
          "data": {
            "text/html": [
              "<table border=\"1\" class=\"dataframe\">\n",
              "  <thead>\n",
              "    <tr style=\"text-align: left;\">\n",
              "      <th>epoch</th>\n",
              "      <th>train_loss</th>\n",
              "      <th>valid_loss</th>\n",
              "      <th>accuracy</th>\n",
              "      <th>time</th>\n",
              "    </tr>\n",
              "  </thead>\n",
              "  <tbody>\n",
              "    <tr>\n",
              "      <td>0</td>\n",
              "      <td>0.209423</td>\n",
              "      <td>1.176061</td>\n",
              "      <td>0.828502</td>\n",
              "      <td>03:25</td>\n",
              "    </tr>\n",
              "    <tr>\n",
              "      <td>1</td>\n",
              "      <td>0.204632</td>\n",
              "      <td>1.275760</td>\n",
              "      <td>0.829710</td>\n",
              "      <td>03:23</td>\n",
              "    </tr>\n",
              "  </tbody>\n",
              "</table>"
            ],
            "text/plain": [
              "<IPython.core.display.HTML object>"
            ]
          },
          "metadata": {
            "tags": []
          }
        }
      ]
    },
    {
      "cell_type": "code",
      "metadata": {
        "id": "b242kBsTUp9Y",
        "outputId": "84998532-96d3-44f7-af48-485b2e151b86",
        "colab": {
          "base_uri": "https://localhost:8080/",
          "height": 111
        }
      },
      "source": [
        "learn.fit_one_cycle(2, slice(2e-3/100, 2e-3))"
      ],
      "execution_count": 42,
      "outputs": [
        {
          "output_type": "display_data",
          "data": {
            "text/html": [
              "<table border=\"1\" class=\"dataframe\">\n",
              "  <thead>\n",
              "    <tr style=\"text-align: left;\">\n",
              "      <th>epoch</th>\n",
              "      <th>train_loss</th>\n",
              "      <th>valid_loss</th>\n",
              "      <th>accuracy</th>\n",
              "      <th>time</th>\n",
              "    </tr>\n",
              "  </thead>\n",
              "  <tbody>\n",
              "    <tr>\n",
              "      <td>0</td>\n",
              "      <td>0.190042</td>\n",
              "      <td>1.287355</td>\n",
              "      <td>0.829710</td>\n",
              "      <td>03:17</td>\n",
              "    </tr>\n",
              "    <tr>\n",
              "      <td>1</td>\n",
              "      <td>0.178386</td>\n",
              "      <td>1.309380</td>\n",
              "      <td>0.832126</td>\n",
              "      <td>03:24</td>\n",
              "    </tr>\n",
              "  </tbody>\n",
              "</table>"
            ],
            "text/plain": [
              "<IPython.core.display.HTML object>"
            ]
          },
          "metadata": {
            "tags": []
          }
        }
      ]
    },
    {
      "cell_type": "code",
      "metadata": {
        "id": "Duwf1Ih5VeDZ",
        "outputId": "3c9901a4-a8fe-4897-ab88-22c87460a7f2",
        "colab": {
          "base_uri": "https://localhost:8080/",
          "height": 80
        }
      },
      "source": [
        "learn.fit_one_cycle(1, slice(2e-3/100, 2e-3))"
      ],
      "execution_count": 43,
      "outputs": [
        {
          "output_type": "display_data",
          "data": {
            "text/html": [
              "<table border=\"1\" class=\"dataframe\">\n",
              "  <thead>\n",
              "    <tr style=\"text-align: left;\">\n",
              "      <th>epoch</th>\n",
              "      <th>train_loss</th>\n",
              "      <th>valid_loss</th>\n",
              "      <th>accuracy</th>\n",
              "      <th>time</th>\n",
              "    </tr>\n",
              "  </thead>\n",
              "  <tbody>\n",
              "    <tr>\n",
              "      <td>0</td>\n",
              "      <td>0.198363</td>\n",
              "      <td>1.193895</td>\n",
              "      <td>0.829710</td>\n",
              "      <td>03:35</td>\n",
              "    </tr>\n",
              "  </tbody>\n",
              "</table>"
            ],
            "text/plain": [
              "<IPython.core.display.HTML object>"
            ]
          },
          "metadata": {
            "tags": []
          }
        }
      ]
    },
    {
      "cell_type": "code",
      "metadata": {
        "id": "c65d-osfDUXm"
      },
      "source": [
        "# save the best model\n",
        "\n",
        "learn.save_encoder('pubmed_ask_mixed_fold4')"
      ],
      "execution_count": 44,
      "outputs": []
    },
    {
      "cell_type": "markdown",
      "metadata": {
        "id": "rCwZU0E2RgM6"
      },
      "source": [
        "# Part three: Predict on the test dataset"
      ]
    },
    {
      "cell_type": "code",
      "metadata": {
        "id": "gDm72c-dOu7d",
        "outputId": "3672797d-5761-4284-936a-6d6f8311a1fd",
        "colab": {
          "base_uri": "https://localhost:8080/",
          "height": 17
        }
      },
      "source": [
        "# use the test data for prediction\n",
        "\n",
        "preds, y = learn.get_preds(DatasetType.Test)"
      ],
      "execution_count": 45,
      "outputs": [
        {
          "output_type": "display_data",
          "data": {
            "text/html": [
              ""
            ],
            "text/plain": [
              "<IPython.core.display.HTML object>"
            ]
          },
          "metadata": {
            "tags": []
          }
        }
      ]
    },
    {
      "cell_type": "code",
      "metadata": {
        "id": "6tFSQcsWPvxn",
        "outputId": "aaa2c0f6-5dd1-4de5-acc7-5067d17ed9f3",
        "colab": {
          "base_uri": "https://localhost:8080/",
          "height": 105
        }
      },
      "source": [
        "predictions, *_ = learn.get_preds(DatasetType.Test)\n",
        "labels = np.argmax(predictions, 1)\n",
        "predict_list = labels.tolist()\n",
        "standard_list = test[0].tolist()\n",
        "\n",
        "print(len(predict_list))\n",
        "print(len(standard_list))\n",
        "\n",
        "print(predict_list)\n",
        "print(standard_list)"
      ],
      "execution_count": 46,
      "outputs": [
        {
          "output_type": "display_data",
          "data": {
            "text/html": [
              ""
            ],
            "text/plain": [
              "<IPython.core.display.HTML object>"
            ]
          },
          "metadata": {
            "tags": []
          }
        },
        {
          "output_type": "stream",
          "text": [
            "866\n",
            "866\n",
            "[123, 1035, 8, 12, 16, 16, 27, 27, 27, 29, 31, 31, 31, 31, 31, 32, 37, 37, 37, 37, 37, 37, 37, 42, 48, 49, 49, 49, 100, 49, 49, 49, 49, 49, 49, 49, 49, 49, 49, 49, 49, 49, 53, 53, 53, 988, 226, 60, 61, 61, 62, 64, 76, 76, 76, 614, 289, 79, 68, 79, 79, 79, 79, 79, 79, 79, 79, 79, 79, 79, 79, 79, 79, 79, 79, 79, 79, 79, 79, 79, 79, 79, 80, 80, 489, 268, 91, 91, 92, 92, 92, 94, 94, 182, 94, 94, 94, 94, 94, 94, 94, 94, 94, 94, 905, 94, 94, 96, 615, 96, 100, 100, 100, 650, 108, 108, 939, 111, 111, 111, 111, 111, 111, 635, 113, 116, 1027, 120, 122, 122, 125, 125, 125, 125, 125, 125, 125, 125, 125, 125, 125, 125, 125, 125, 125, 125, 125, 129, 131, 139, 140, 143, 18, 157, 160, 165, 178, 166, 166, 291, 172, 172, 172, 172, 172, 172, 172, 427, 178, 182, 182, 182, 182, 182, 182, 182, 182, 183, 183, 183, 183, 183, 183, 183, 183, 183, 183, 87, 187, 187, 188, 189, 189, 293, 190, 190, 190, 190, 190, 293, 289, 197, 197, 205, 206, 207, 661, 210, 214, 299, 214, 214, 896, 896, 471, 214, 214, 214, 214, 214, 436, 446, 218, 220, 220, 79, 226, 226, 227, 228, 228, 228, 228, 228, 228, 228, 228, 228, 228, 228, 228, 228, 228, 234, 234, 235, 235, 236, 236, 236, 1027, 243, 588, 951, 243, 243, 68, 351, 245, 245, 245, 245, 245, 245, 245, 245, 485, 254, 265, 265, 265, 265, 265, 265, 265, 265, 701, 265, 265, 265, 265, 265, 265, 265, 265, 265, 58, 265, 265, 309, 86, 842, 271, 29, 276, 280, 280, 462, 451, 286, 141, 805, 289, 289, 289, 265, 289, 289, 289, 289, 289, 289, 30, 172, 111, 289, 289, 289, 289, 289, 289, 141, 300, 300, 301, 301, 337, 185, 100, 309, 309, 309, 309, 132, 318, 764, 321, 99, 323, 323, 325, 325, 325, 325, 325, 325, 325, 325, 325, 584, 542, 49, 325, 326, 326, 332, 332, 692, 336, 337, 100, 337, 31, 768, 339, 342, 343, 343, 343, 343, 129, 343, 623, 245, 723, 784, 359, 359, 368, 360, 362, 214, 68, 3, 615, 372, 140, 733, 438, 391, 391, 140, 396, 401, 358, 402, 402, 810, 408, 408, 408, 333, 418, 419, 419, 419, 419, 419, 420, 424, 426, 426, 426, 426, 427, 427, 427, 427, 427, 427, 427, 427, 427, 427, 430, 430, 431, 433, 434, 435, 441, 258, 441, 441, 446, 455, 455, 455, 455, 459, 460, 111, 470, 182, 471, 471, 9, 591, 169, 475, 489, 491, 491, 746, 491, 491, 491, 491, 491, 491, 491, 491, 491, 491, 492, 939, 495, 365, 509, 514, 510, 516, 218, 517, 518, 517, 519, 428, 522, 588, 530, 530, 530, 530, 27, 536, 537, 68, 939, 541, 541, 545, 545, 546, 546, 546, 548, 548, 548, 343, 557, 559, 549, 567, 564, 720, 696, 775, 236, 301, 579, 579, 583, 584, 590, 590, 590, 592, 592, 97, 594, 427, 427, 597, 597, 604, 493, 610, 388, 426, 614, 614, 614, 614, 804, 804, 619, 202, 623, 623, 623, 623, 623, 624, 444, 627, 741, 894, 640, 644, 646, 532, 644, 646, 646, 646, 646, 646, 646, 646, 646, 646, 648, 652, 652, 652, 652, 652, 655, 658, 658, 491, 662, 491, 666, 666, 671, 677, 677, 686, 693, 696, 605, 708, 822, 711, 711, 714, 715, 715, 716, 638, 594, 420, 741, 741, 742, 482, 746, 749, 753, 496, 245, 769, 715, 774, 775, 775, 777, 778, 787, 402, 794, 473, 111, 415, 963, 847, 809, 847, 922, 737, 809, 809, 809, 810, 309, 426, 817, 817, 824, 825, 826, 129, 826, 826, 826, 275, 99, 830, 830, 831, 939, 838, 840, 840, 343, 306, 841, 841, 844, 846, 847, 847, 847, 847, 473, 852, 850, 963, 852, 853, 853, 853, 853, 853, 853, 853, 853, 853, 939, 853, 493, 896, 337, 864, 864, 864, 865, 867, 765, 876, 214, 877, 878, 165, 890, 893, 896, 896, 896, 704, 896, 896, 896, 904, 904, 899, 904, 903, 480, 939, 919, 919, 916, 921, 837, 937, 937, 937, 937, 942, 945, 948, 948, 949, 949, 949, 949, 949, 949, 949, 949, 949, 949, 949, 949, 949, 949, 949, 949, 949, 949, 949, 949, 949, 949, 949, 949, 949, 949, 949, 949, 949, 949, 949, 949, 949, 949, 949, 949, 949, 949, 949, 949, 949, 949, 949, 949, 949, 949, 949, 949, 949, 949, 949, 949, 949, 949, 949, 949, 949, 949, 949, 949, 949, 949, 949, 949, 949, 949, 949, 949, 949, 949, 949, 949, 949, 949, 949, 949, 949, 949, 949, 949, 949, 949, 949, 949, 949, 949, 949, 949, 949, 949, 949, 949, 949, 949, 949, 949, 949, 949, 949, 949, 949, 949, 949, 949, 949, 949, 949, 949, 949, 949, 949, 950, 950, 950, 939, 952, 952, 939, 955, 961, 989, 837, 837, 967, 968, 99, 925, 996, 939, 999, 1001, 1001, 1001, 1007, 1015, 1015, 68, 1017, 334, 133, 1026, 1026, 1026, 1026, 939, 1026, 392, 1029, 1011, 1033, 1035]\n",
            "[4, 6, 8, 12, 16, 16, 27, 27, 27, 29, 31, 31, 31, 31, 31, 32, 37, 37, 37, 37, 37, 37, 37, 42, 48, 49, 49, 49, 49, 49, 49, 49, 49, 49, 49, 49, 49, 49, 49, 49, 49, 49, 53, 53, 53, 53, 59, 60, 61, 61, 62, 64, 76, 76, 76, 76, 76, 79, 79, 79, 79, 79, 79, 79, 79, 79, 79, 79, 79, 79, 79, 79, 79, 79, 79, 79, 79, 79, 79, 79, 79, 79, 80, 80, 80, 89, 91, 91, 92, 92, 92, 94, 94, 94, 94, 94, 94, 94, 94, 94, 94, 94, 94, 94, 94, 94, 94, 96, 96, 96, 100, 100, 100, 107, 108, 108, 108, 111, 111, 111, 111, 111, 111, 111, 113, 116, 119, 120, 122, 122, 125, 125, 125, 125, 125, 125, 125, 125, 125, 125, 125, 125, 125, 125, 125, 125, 125, 129, 131, 139, 140, 143, 147, 157, 160, 165, 165, 166, 166, 168, 172, 172, 172, 172, 172, 172, 172, 175, 178, 182, 182, 182, 182, 182, 182, 182, 182, 183, 183, 183, 183, 183, 183, 183, 183, 183, 183, 186, 187, 187, 188, 189, 189, 190, 190, 190, 190, 190, 190, 190, 195, 197, 197, 205, 206, 207, 208, 210, 214, 214, 214, 214, 214, 214, 214, 214, 214, 214, 214, 214, 216, 216, 218, 220, 220, 223, 226, 226, 227, 228, 228, 228, 228, 228, 228, 228, 228, 228, 228, 228, 228, 228, 228, 234, 234, 235, 235, 236, 236, 236, 243, 243, 243, 243, 243, 243, 243, 245, 245, 245, 245, 245, 245, 245, 245, 245, 246, 254, 265, 265, 265, 265, 265, 265, 265, 265, 265, 265, 265, 265, 265, 265, 265, 265, 265, 265, 265, 265, 265, 265, 268, 270, 271, 274, 276, 280, 280, 281, 285, 286, 287, 288, 289, 289, 289, 289, 289, 289, 289, 289, 289, 289, 289, 289, 289, 289, 289, 289, 289, 289, 289, 298, 300, 300, 301, 301, 301, 301, 301, 309, 309, 309, 309, 312, 318, 318, 321, 323, 323, 323, 325, 325, 325, 325, 325, 325, 325, 325, 325, 325, 325, 325, 325, 326, 326, 332, 332, 335, 336, 337, 337, 337, 338, 338, 339, 342, 343, 343, 343, 343, 343, 343, 348, 350, 359, 359, 359, 359, 359, 360, 362, 363, 364, 366, 368, 372, 382, 385, 390, 391, 391, 393, 396, 401, 402, 402, 402, 402, 408, 408, 408, 409, 418, 419, 419, 419, 419, 419, 420, 424, 426, 426, 426, 426, 427, 427, 427, 427, 427, 427, 427, 427, 427, 427, 430, 430, 431, 434, 434, 435, 441, 441, 441, 441, 446, 455, 455, 455, 455, 459, 460, 463, 470, 470, 471, 471, 472, 474, 475, 475, 489, 491, 491, 491, 491, 491, 491, 491, 491, 491, 491, 491, 491, 491, 492, 495, 495, 508, 509, 510, 511, 516, 516, 517, 517, 517, 518, 521, 522, 529, 530, 530, 530, 530, 536, 536, 537, 540, 540, 541, 541, 545, 545, 546, 546, 546, 548, 548, 548, 556, 557, 559, 565, 567, 568, 570, 570, 573, 574, 577, 579, 579, 583, 584, 590, 590, 590, 592, 592, 594, 594, 596, 597, 597, 597, 604, 610, 610, 614, 614, 614, 614, 614, 614, 616, 616, 619, 619, 623, 623, 623, 623, 623, 624, 626, 627, 633, 639, 640, 644, 644, 644, 644, 646, 646, 646, 646, 646, 646, 646, 646, 646, 648, 652, 652, 652, 652, 652, 655, 658, 658, 662, 662, 664, 666, 666, 671, 676, 684, 686, 693, 696, 702, 708, 711, 711, 711, 714, 715, 715, 715, 723, 724, 728, 741, 741, 742, 744, 746, 749, 753, 758, 765, 769, 772, 774, 775, 775, 777, 778, 787, 789, 794, 794, 797, 801, 803, 808, 809, 809, 809, 809, 809, 809, 809, 810, 811, 816, 817, 817, 824, 825, 826, 826, 826, 826, 826, 830, 830, 830, 830, 831, 832, 838, 840, 840, 840, 841, 841, 841, 844, 846, 847, 847, 847, 847, 848, 849, 850, 852, 852, 853, 853, 853, 853, 853, 853, 853, 853, 853, 853, 853, 854, 860, 860, 864, 864, 864, 865, 867, 876, 876, 877, 877, 878, 882, 890, 893, 896, 896, 896, 896, 896, 896, 897, 904, 904, 904, 904, 910, 911, 918, 919, 919, 919, 921, 924, 937, 937, 937, 937, 942, 945, 948, 948, 949, 949, 949, 949, 949, 949, 949, 949, 949, 949, 949, 949, 949, 949, 949, 949, 949, 949, 949, 949, 949, 949, 949, 949, 949, 949, 949, 949, 949, 949, 949, 949, 949, 949, 949, 949, 949, 949, 949, 949, 949, 949, 949, 949, 949, 949, 949, 949, 949, 949, 949, 949, 949, 949, 949, 949, 949, 949, 949, 949, 949, 949, 949, 949, 949, 949, 949, 949, 949, 949, 949, 949, 949, 949, 949, 949, 949, 949, 949, 949, 949, 949, 949, 949, 949, 949, 949, 949, 949, 949, 949, 949, 949, 949, 949, 949, 949, 949, 949, 949, 949, 949, 949, 949, 949, 949, 949, 949, 949, 949, 949, 950, 950, 950, 951, 952, 952, 954, 955, 961, 964, 967, 967, 967, 968, 969, 977, 996, 998, 999, 1001, 1001, 1001, 1007, 1015, 1015, 1016, 1017, 1018, 1025, 1026, 1026, 1026, 1026, 1026, 1026, 1028, 1029, 1031, 1033, 1035]\n"
          ],
          "name": "stdout"
        }
      ]
    },
    {
      "cell_type": "code",
      "metadata": {
        "id": "XIC4zufnMxtq",
        "outputId": "cafb722d-8381-4e8b-b17d-ce071718fa7a",
        "colab": {
          "base_uri": "https://localhost:8080/"
        }
      },
      "source": [
        "correct_num = 0\n",
        "\n",
        "for i in range(0, len(standard_list)):\n",
        "  if predict_list[i] == standard_list[i]:\n",
        "    correct_num = correct_num+1\n",
        "  else:\n",
        "    pass\n",
        "print(correct_num)\n",
        "\n",
        "predict_accuracy = correct_num/len(predict_list)\n",
        "print(predict_accuracy)"
      ],
      "execution_count": 47,
      "outputs": [
        {
          "output_type": "stream",
          "text": [
            "677\n",
            "0.7817551963048499\n"
          ],
          "name": "stdout"
        }
      ]
    },
    {
      "cell_type": "code",
      "metadata": {
        "id": "zlKMHp1CIaRJ"
      },
      "source": [
        ""
      ],
      "execution_count": 47,
      "outputs": []
    }
  ]
}