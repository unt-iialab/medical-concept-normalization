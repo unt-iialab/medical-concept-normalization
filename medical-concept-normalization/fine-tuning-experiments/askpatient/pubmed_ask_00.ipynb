{
  "nbformat": 4,
  "nbformat_minor": 0,
  "metadata": {
    "accelerator": "TPU",
    "colab": {
      "name": "pubmed_ask_00.ipynb",
      "provenance": [],
      "collapsed_sections": [],
      "include_colab_link": true
    },
    "kernelspec": {
      "display_name": "Python 3",
      "name": "python3"
    }
  },
  "cells": [
    {
      "cell_type": "markdown",
      "metadata": {
        "id": "view-in-github",
        "colab_type": "text"
      },
      "source": [
        "<a href=\"https://colab.research.google.com/github/unt-iialab/medical-concept-normalization/blob/master/medical-concept-normalization/fine-tuning-experiments/askpatient/pubmed_ask_00.ipynb\" target=\"_parent\"><img src=\"https://colab.research.google.com/assets/colab-badge.svg\" alt=\"Open In Colab\"/></a>"
      ]
    },
    {
      "cell_type": "code",
      "metadata": {
        "id": "adSi6i2-dWxy"
      },
      "source": [
        "import os"
      ],
      "execution_count": 1,
      "outputs": []
    },
    {
      "cell_type": "code",
      "metadata": {
        "id": "E7xYCRGPjd9B"
      },
      "source": [
        "base_dir = 'medical-concept-normalization'"
      ],
      "execution_count": 2,
      "outputs": []
    },
    {
      "cell_type": "code",
      "metadata": {
        "id": "yvIW3aUDjYNS"
      },
      "source": [
        "os.mkdir(base_dir)"
      ],
      "execution_count": 3,
      "outputs": []
    },
    {
      "cell_type": "code",
      "metadata": {
        "id": "es-FFLlfk6SG"
      },
      "source": [
        "os.mkdir('medical-concept-normalization/data_collection')"
      ],
      "execution_count": 4,
      "outputs": []
    },
    {
      "cell_type": "markdown",
      "metadata": {
        "id": "0R-Guw_VoJXm"
      },
      "source": [
        "**Install fastai and clone the fastai for text classification**\n",
        "\n"
      ]
    },
    {
      "cell_type": "code",
      "metadata": {
        "id": "QVZa3Z0PmHFH",
        "outputId": "91dadd8d-f338-4a1e-e182-047f047ba3ac",
        "colab": {
          "base_uri": "https://localhost:8080/"
        }
      },
      "source": [
        "!curl https://course-v3.fast.ai/setup/colab | bash"
      ],
      "execution_count": 5,
      "outputs": [
        {
          "output_type": "stream",
          "text": [
            "  % Total    % Received % Xferd  Average Speed   Time    Time     Time  Current\n",
            "                                 Dload  Upload   Total   Spent    Left  Speed\n",
            "\r  0     0    0     0    0     0      0      0 --:--:-- --:--:-- --:--:--     0curl: (6) Could not resolve host: course-v3.fast.ai\n"
          ],
          "name": "stdout"
        }
      ]
    },
    {
      "cell_type": "code",
      "metadata": {
        "id": "_FBFFEBrmJC0",
        "outputId": "84ee68e1-ab08-4c9c-b38a-b07fb30e4209",
        "colab": {
          "base_uri": "https://localhost:8080/"
        }
      },
      "source": [
        "!git clone https://github.com/wshuyi/demo-nlp-classification-fastai.git"
      ],
      "execution_count": 6,
      "outputs": [
        {
          "output_type": "stream",
          "text": [
            "Cloning into 'demo-nlp-classification-fastai'...\n",
            "remote: Enumerating objects: 9, done.\u001b[K\n",
            "remote: Total 9 (delta 0), reused 0 (delta 0), pack-reused 9\u001b[K\n",
            "Unpacking objects: 100% (9/9), done.\n"
          ],
          "name": "stdout"
        }
      ]
    },
    {
      "cell_type": "code",
      "metadata": {
        "id": "66zfh_JqmWMU"
      },
      "source": [
        "from fastai import *\n",
        "from fastai.text import *"
      ],
      "execution_count": 7,
      "outputs": []
    },
    {
      "cell_type": "markdown",
      "metadata": {
        "id": "mNIw-yALdBU9"
      },
      "source": [
        "**Set the path of the data collections**"
      ]
    },
    {
      "cell_type": "code",
      "metadata": {
        "id": "pzH7VMh4mqCL"
      },
      "source": [
        "path = Path('medical-concept-normalization/data_collection')"
      ],
      "execution_count": 8,
      "outputs": []
    },
    {
      "cell_type": "code",
      "metadata": {
        "id": "b8fjI6yyn4aS"
      },
      "source": [
        "# training data set\n",
        "\n",
        "train_csv = path/'AskAPatient.fold-0.train.csv'\n",
        "train = pd.read_csv(train_csv, header=None)\n",
        "#train.head()\n",
        "#train.info()"
      ],
      "execution_count": 10,
      "outputs": []
    },
    {
      "cell_type": "code",
      "metadata": {
        "id": "Hmlr-bAorfHd",
        "outputId": "e723004c-f4ca-4904-91ee-311b9ee73c5e",
        "colab": {
          "base_uri": "https://localhost:8080/",
          "height": 204
        }
      },
      "source": [
        "# validating data set\n",
        "\n",
        "valid = pd.read_csv(path/\"AskAPatient.fold-0.validation.csv\",header=None)\n",
        "valid.head()"
      ],
      "execution_count": 11,
      "outputs": [
        {
          "output_type": "execute_result",
          "data": {
            "text/html": [
              "<div>\n",
              "<style scoped>\n",
              "    .dataframe tbody tr th:only-of-type {\n",
              "        vertical-align: middle;\n",
              "    }\n",
              "\n",
              "    .dataframe tbody tr th {\n",
              "        vertical-align: top;\n",
              "    }\n",
              "\n",
              "    .dataframe thead th {\n",
              "        text-align: right;\n",
              "    }\n",
              "</style>\n",
              "<table border=\"1\" class=\"dataframe\">\n",
              "  <thead>\n",
              "    <tr style=\"text-align: right;\">\n",
              "      <th></th>\n",
              "      <th>0</th>\n",
              "      <th>1</th>\n",
              "    </tr>\n",
              "  </thead>\n",
              "  <tbody>\n",
              "    <tr>\n",
              "      <th>0</th>\n",
              "      <td>0</td>\n",
              "      <td>fear</td>\n",
              "    </tr>\n",
              "    <tr>\n",
              "      <th>1</th>\n",
              "      <td>2</td>\n",
              "      <td>heel pain</td>\n",
              "    </tr>\n",
              "    <tr>\n",
              "      <th>2</th>\n",
              "      <td>4</td>\n",
              "      <td>purple sploches around waist</td>\n",
              "    </tr>\n",
              "    <tr>\n",
              "      <th>3</th>\n",
              "      <td>7</td>\n",
              "      <td>goiter</td>\n",
              "    </tr>\n",
              "    <tr>\n",
              "      <th>4</th>\n",
              "      <td>8</td>\n",
              "      <td>ARTHRITIS</td>\n",
              "    </tr>\n",
              "  </tbody>\n",
              "</table>\n",
              "</div>"
            ],
            "text/plain": [
              "   0                             1\n",
              "0  0                          fear\n",
              "1  2                     heel pain\n",
              "2  4  purple sploches around waist\n",
              "3  7                        goiter\n",
              "4  8                     ARTHRITIS"
            ]
          },
          "metadata": {
            "tags": []
          },
          "execution_count": 11
        }
      ]
    },
    {
      "cell_type": "code",
      "metadata": {
        "id": "cOza9dfSsBud",
        "outputId": "07c25879-1cbf-4b4e-f003-c0f7c774a8ce",
        "colab": {
          "base_uri": "https://localhost:8080/",
          "height": 204
        }
      },
      "source": [
        "# testing data set\n",
        "\n",
        "test = pd.read_csv(path/\"AskAPatient.fold-0.test.csv\",header=None)\n",
        "test.head()"
      ],
      "execution_count": 12,
      "outputs": [
        {
          "output_type": "execute_result",
          "data": {
            "text/html": [
              "<div>\n",
              "<style scoped>\n",
              "    .dataframe tbody tr th:only-of-type {\n",
              "        vertical-align: middle;\n",
              "    }\n",
              "\n",
              "    .dataframe tbody tr th {\n",
              "        vertical-align: top;\n",
              "    }\n",
              "\n",
              "    .dataframe thead th {\n",
              "        text-align: right;\n",
              "    }\n",
              "</style>\n",
              "<table border=\"1\" class=\"dataframe\">\n",
              "  <thead>\n",
              "    <tr style=\"text-align: right;\">\n",
              "      <th></th>\n",
              "      <th>0</th>\n",
              "      <th>1</th>\n",
              "    </tr>\n",
              "  </thead>\n",
              "  <tbody>\n",
              "    <tr>\n",
              "      <th>0</th>\n",
              "      <td>0</td>\n",
              "      <td>'scared' feeling</td>\n",
              "    </tr>\n",
              "    <tr>\n",
              "      <th>1</th>\n",
              "      <td>2</td>\n",
              "      <td>heel pain</td>\n",
              "    </tr>\n",
              "    <tr>\n",
              "      <th>2</th>\n",
              "      <td>3</td>\n",
              "      <td>cracking sensations in my joints</td>\n",
              "    </tr>\n",
              "    <tr>\n",
              "      <th>3</th>\n",
              "      <td>5</td>\n",
              "      <td>fast and slow heartbeat</td>\n",
              "    </tr>\n",
              "    <tr>\n",
              "      <th>4</th>\n",
              "      <td>5</td>\n",
              "      <td>increased heart rate</td>\n",
              "    </tr>\n",
              "  </tbody>\n",
              "</table>\n",
              "</div>"
            ],
            "text/plain": [
              "   0                                 1\n",
              "0  0                  'scared' feeling\n",
              "1  2                         heel pain\n",
              "2  3  cracking sensations in my joints\n",
              "3  5           fast and slow heartbeat\n",
              "4  5              increased heart rate"
            ]
          },
          "metadata": {
            "tags": []
          },
          "execution_count": 12
        }
      ]
    },
    {
      "cell_type": "code",
      "metadata": {
        "id": "Vo-YNvVYoaH6",
        "outputId": "7b0ad6e3-98d7-4593-abb1-b7893fa8e4c1",
        "colab": {
          "base_uri": "https://localhost:8080/",
          "height": 17
        }
      },
      "source": [
        "# Creating DataBunch for language modelling\n",
        "\n",
        "data_lm = TextLMDataBunch.from_csv(path, 'pubmed_ask.csv')"
      ],
      "execution_count": 13,
      "outputs": [
        {
          "output_type": "display_data",
          "data": {
            "text/html": [
              ""
            ],
            "text/plain": [
              "<IPython.core.display.HTML object>"
            ]
          },
          "metadata": {
            "tags": []
          }
        },
        {
          "output_type": "display_data",
          "data": {
            "text/html": [
              ""
            ],
            "text/plain": [
              "<IPython.core.display.HTML object>"
            ]
          },
          "metadata": {
            "tags": []
          }
        }
      ]
    },
    {
      "cell_type": "code",
      "metadata": {
        "id": "qcV-9kMnNLBf"
      },
      "source": [
        ""
      ],
      "execution_count": 13,
      "outputs": []
    },
    {
      "cell_type": "code",
      "metadata": {
        "id": "1ScY9afDsnvE"
      },
      "source": [
        "# Creating DataBunch for classification\n",
        "\n",
        "# data_clas = TextClasDataBunch.from_df(path, train, valid, test, vocab=data_lm.train_ds.vocab, bs=128)"
      ],
      "execution_count": 14,
      "outputs": []
    },
    {
      "cell_type": "code",
      "metadata": {
        "id": "gzrSdQcvey9p",
        "outputId": "8bd22f0c-2614-4727-db15-1fe34aa3d4ca",
        "colab": {
          "base_uri": "https://localhost:8080/",
          "height": 17
        }
      },
      "source": [
        "data_clas = TextClasDataBunch.from_df(path, train, valid, vocab=data_lm.train_ds.vocab, bs=128)"
      ],
      "execution_count": 15,
      "outputs": [
        {
          "output_type": "display_data",
          "data": {
            "text/html": [
              ""
            ],
            "text/plain": [
              "<IPython.core.display.HTML object>"
            ]
          },
          "metadata": {
            "tags": []
          }
        },
        {
          "output_type": "display_data",
          "data": {
            "text/html": [
              ""
            ],
            "text/plain": [
              "<IPython.core.display.HTML object>"
            ]
          },
          "metadata": {
            "tags": []
          }
        }
      ]
    },
    {
      "cell_type": "code",
      "metadata": {
        "id": "MD27Tf0Ke3ou",
        "outputId": "c2e00e08-1053-4cf0-e077-42a078354fab",
        "colab": {
          "base_uri": "https://localhost:8080/",
          "height": 17
        }
      },
      "source": [
        "data_clas.add_test(test,label=0)\n"
      ],
      "execution_count": 16,
      "outputs": [
        {
          "output_type": "display_data",
          "data": {
            "text/html": [
              ""
            ],
            "text/plain": [
              "<IPython.core.display.HTML object>"
            ]
          },
          "metadata": {
            "tags": []
          }
        }
      ]
    },
    {
      "cell_type": "code",
      "metadata": {
        "id": "-dpjnk_rstwk"
      },
      "source": [
        "data_lm.save()\n",
        "data_clas.save()"
      ],
      "execution_count": 17,
      "outputs": []
    },
    {
      "cell_type": "code",
      "metadata": {
        "id": "4OkiJa36sw5s",
        "outputId": "040ee4e4-11d5-49c1-e868-c18c9ed0578e",
        "colab": {
          "base_uri": "https://localhost:8080/"
        }
      },
      "source": [
        "data_lm.train_ds.vocab.itos"
      ],
      "execution_count": 18,
      "outputs": [
        {
          "output_type": "execute_result",
          "data": {
            "text/plain": [
              "['xxunk',\n",
              " 'xxpad',\n",
              " 'xxbos',\n",
              " 'xxeos',\n",
              " 'xxfld',\n",
              " 'xxmaj',\n",
              " 'xxup',\n",
              " 'xxrep',\n",
              " 'xxwrep',\n",
              " 'pain',\n",
              " 'of',\n",
              " 'the',\n",
              " 'in',\n",
              " 'lipitor',\n",
              " 'and',\n",
              " 'to',\n",
              " 'muscle',\n",
              " 'a',\n",
              " 'was',\n",
              " 'diclofenac',\n",
              " 'with',\n",
              " 'were',\n",
              " 'severe',\n",
              " 'for',\n",
              " 'myalgia',\n",
              " 'lower',\n",
              " 'my',\n",
              " 'fatigue',\n",
              " 'loss',\n",
              " 'limb',\n",
              " 'cramp',\n",
              " 'weakness',\n",
              " 'sodium',\n",
              " 'on',\n",
              " 'by',\n",
              " 'stomach',\n",
              " 'depression',\n",
              " '-',\n",
              " 'back',\n",
              " 'is',\n",
              " 'patients',\n",
              " 'at',\n",
              " 'cramps',\n",
              " 'joint',\n",
              " 'as',\n",
              " 'upper',\n",
              " 'gas',\n",
              " 'that',\n",
              " 'or',\n",
              " 'memory',\n",
              " 'leg',\n",
              " 'drug',\n",
              " 'mg',\n",
              " 'legs',\n",
              " 'pains',\n",
              " 'headache',\n",
              " 'knee',\n",
              " 'from',\n",
              " 'shoulder',\n",
              " 'unable',\n",
              " 'group',\n",
              " 'not',\n",
              " 'arthralgia',\n",
              " 'study',\n",
              " 'gastrointestinal',\n",
              " 'treatment',\n",
              " 'excessive',\n",
              " 'neck',\n",
              " 'this',\n",
              " 'foot',\n",
              " 'all',\n",
              " 'arthritis',\n",
              " 'aches',\n",
              " 'after',\n",
              " 'hip',\n",
              " 'numbness',\n",
              " 'insomnia',\n",
              " 'voltaren',\n",
              " 'disease',\n",
              " 'p',\n",
              " 'arthrotec',\n",
              " 'release',\n",
              " 'nausea',\n",
              " 'bleeding',\n",
              " '/',\n",
              " 'increased',\n",
              " 'asthenia',\n",
              " 'an',\n",
              " 'like',\n",
              " 'both',\n",
              " 'skin',\n",
              " 'be',\n",
              " 'abdominal',\n",
              " 'heart',\n",
              " 'dizziness',\n",
              " 'walk',\n",
              " 'swelling',\n",
              " 'tired',\n",
              " 'no',\n",
              " 'feeling',\n",
              " 'walking',\n",
              " 'difficulty',\n",
              " 'feet',\n",
              " 'problems',\n",
              " 'time',\n",
              " 'high',\n",
              " 'than',\n",
              " 'muscles',\n",
              " 'hand',\n",
              " 'are',\n",
              " 'chest',\n",
              " 'effect',\n",
              " 'cholesterol',\n",
              " 'blood',\n",
              " 'extreme',\n",
              " 'acid',\n",
              " 'vision',\n",
              " 'low',\n",
              " 'ache',\n",
              " 'burning',\n",
              " 'backache',\n",
              " 'hair',\n",
              " 'compared',\n",
              " 'zocor',\n",
              " 'stiffness',\n",
              " 'could',\n",
              " 'inflammatory',\n",
              " 'very',\n",
              " 'groups',\n",
              " 'weight',\n",
              " 'pins',\n",
              " 'needles',\n",
              " 'i',\n",
              " 'liver',\n",
              " 'effects',\n",
              " 'diarrhoea',\n",
              " 'using',\n",
              " 'sleep',\n",
              " 'cramping',\n",
              " 'between',\n",
              " 'two',\n",
              " 'amnesia',\n",
              " 'significantly',\n",
              " 'impairment',\n",
              " 'significant',\n",
              " 'left',\n",
              " 'concentration',\n",
              " 'drugs',\n",
              " 'h',\n",
              " 'potassium',\n",
              " 'disability',\n",
              " 'tingling',\n",
              " 'calf',\n",
              " 'c',\n",
              " 'short',\n",
              " 'used',\n",
              " 'term',\n",
              " 'up',\n",
              " 'symptom',\n",
              " 'lack',\n",
              " 'anti',\n",
              " 'can',\n",
              " 'dose',\n",
              " 'anxiety',\n",
              " 'which',\n",
              " 'stiff',\n",
              " 'placebo',\n",
              " 'day',\n",
              " 'bloating',\n",
              " 'pressure',\n",
              " 'results',\n",
              " 'constipation',\n",
              " 'it',\n",
              " 'disorder',\n",
              " 'had',\n",
              " 'these',\n",
              " 'one',\n",
              " 'efficacy',\n",
              " 'arm',\n",
              " 'poor',\n",
              " 'more',\n",
              " 'hands',\n",
              " 'reduced',\n",
              " 'headaches',\n",
              " 'has',\n",
              " 'days',\n",
              " 'blurred',\n",
              " 'ds',\n",
              " 'arms',\n",
              " 'treated',\n",
              " 'sore',\n",
              " 'have',\n",
              " 'ankle',\n",
              " 'neuropathy',\n",
              " 'showed',\n",
              " 'acute',\n",
              " 'body',\n",
              " 'we',\n",
              " 'balance',\n",
              " 'visual',\n",
              " 'ml',\n",
              " 'also',\n",
              " 'topical',\n",
              " 'joints',\n",
              " 'over',\n",
              " 'tiredness',\n",
              " 'different',\n",
              " 'serum',\n",
              " 'myocardial',\n",
              " 'been',\n",
              " 'infarction',\n",
              " 'renal',\n",
              " 'pravachol',\n",
              " 'administration',\n",
              " 'sensation',\n",
              " 'rash',\n",
              " 'oral',\n",
              " 'control',\n",
              " 'hurt',\n",
              " 'vaginal',\n",
              " 'but',\n",
              " 'myositis',\n",
              " 'during',\n",
              " 'rats',\n",
              " 'studies',\n",
              " 'mentally',\n",
              " 'vertigo',\n",
              " 'attack',\n",
              " 'swollen',\n",
              " 'diabetes',\n",
              " 'itching',\n",
              " \"'s\",\n",
              " 'clinical',\n",
              " 'rate',\n",
              " 'atrophy',\n",
              " 'into',\n",
              " 'when',\n",
              " 'painful',\n",
              " 'energy',\n",
              " 'non',\n",
              " 'respectively',\n",
              " 'induced',\n",
              " 'dry',\n",
              " 'ubidecarenone',\n",
              " 'decreased',\n",
              " 'generalised',\n",
              " 'atorvastatin',\n",
              " 'gel',\n",
              " 'right',\n",
              " 'levels',\n",
              " 'upset',\n",
              " ')',\n",
              " 'syndrome',\n",
              " 'there',\n",
              " 'plasma',\n",
              " 'illness',\n",
              " 'formulations',\n",
              " 'constant',\n",
              " 'formulation',\n",
              " 'diarrhea',\n",
              " ',',\n",
              " 'method',\n",
              " 'well',\n",
              " 'tablets',\n",
              " 'nsaids',\n",
              " \"n't\",\n",
              " 'out',\n",
              " 'raised',\n",
              " 'gain',\n",
              " 's',\n",
              " 'use',\n",
              " 'found',\n",
              " 'shoulders',\n",
              " 'three',\n",
              " 'effective',\n",
              " 'observed',\n",
              " 'elevated',\n",
              " 'dull',\n",
              " 'hazy',\n",
              " 'damage',\n",
              " 'may',\n",
              " 'chronic',\n",
              " 'their',\n",
              " 'symptoms',\n",
              " 'eye',\n",
              " 'weak',\n",
              " 'solution',\n",
              " 'influenza',\n",
              " 'g',\n",
              " 'period',\n",
              " 'spasm',\n",
              " '(',\n",
              " 'type',\n",
              " 'other',\n",
              " 'urine',\n",
              " 'crestor',\n",
              " 'elbow',\n",
              " 'hours',\n",
              " 'n',\n",
              " 'present',\n",
              " 'movement',\n",
              " 'mean',\n",
              " 'ph',\n",
              " 'its',\n",
              " 'abnormal',\n",
              " 'adverse',\n",
              " 'kidney',\n",
              " 'sleeping',\n",
              " 'controlled',\n",
              " 'tendonitis',\n",
              " 'toe',\n",
              " 'spasms',\n",
              " 'heavy',\n",
              " 'received',\n",
              " 'ibuprofen',\n",
              " 'myopathy',\n",
              " 'knees',\n",
              " 'exhaustion',\n",
              " 'discomfort',\n",
              " 'kg',\n",
              " 'analysis',\n",
              " 'side',\n",
              " 'activity',\n",
              " 'level',\n",
              " 'analgesic',\n",
              " 'vomiting',\n",
              " 'vitro',\n",
              " 'tablet',\n",
              " 'm',\n",
              " 'reflux',\n",
              " 'increase',\n",
              " 'each',\n",
              " 'concentrations',\n",
              " 'mood',\n",
              " 'total',\n",
              " 'first',\n",
              " 'flatulence',\n",
              " 'libido',\n",
              " 'randomized',\n",
              " 'data',\n",
              " 'migraine',\n",
              " 'feel',\n",
              " 'concentrate',\n",
              " 'function',\n",
              " 'd',\n",
              " 'l',\n",
              " 'single',\n",
              " 'irritable',\n",
              " 'inflammation',\n",
              " 'bad',\n",
              " 'system',\n",
              " 'following',\n",
              " 'sclerosis',\n",
              " 'daily',\n",
              " 'less',\n",
              " 'however',\n",
              " 'evaluated',\n",
              " 'thigh',\n",
              " 'patient',\n",
              " 'fibromyalgia',\n",
              " 'eyes',\n",
              " 'mild',\n",
              " 'only',\n",
              " 'cold',\n",
              " 'flu',\n",
              " 'problem',\n",
              " 'injury',\n",
              " 'obtained',\n",
              " 'mellitus',\n",
              " 'throat',\n",
              " 'simvastatin',\n",
              " 'bed',\n",
              " 'similar',\n",
              " 'osteoarthritis',\n",
              " 'get',\n",
              " 'model',\n",
              " 'b',\n",
              " 'most',\n",
              " 'disturbance',\n",
              " 'malaise',\n",
              " 'sweating',\n",
              " 'so',\n",
              " 'lightheadedness',\n",
              " 'postoperative',\n",
              " 'multiple',\n",
              " 'double',\n",
              " 'did',\n",
              " 'nsaid',\n",
              " 'higher',\n",
              " 'based',\n",
              " 'changes',\n",
              " 'surgery',\n",
              " 't',\n",
              " 'test',\n",
              " 'appetite',\n",
              " 'due',\n",
              " 'tremor',\n",
              " 'cells',\n",
              " 'under',\n",
              " 'week',\n",
              " 'blind',\n",
              " 'menstrual',\n",
              " 'oil',\n",
              " 'difference',\n",
              " 'application',\n",
              " 'swings',\n",
              " 'therapy',\n",
              " 'soreness',\n",
              " 'hips',\n",
              " 'wind',\n",
              " 'failure',\n",
              " 'water',\n",
              " 'weeks',\n",
              " 'while',\n",
              " 'cell',\n",
              " 'peripheral',\n",
              " 'impaired',\n",
              " 'celebrex',\n",
              " 'dissolution',\n",
              " 'associated',\n",
              " 'calves',\n",
              " 'doses',\n",
              " 'paraesthesia',\n",
              " 'confusion',\n",
              " 'prepared',\n",
              " 'esters',\n",
              " 'administered',\n",
              " 'vs',\n",
              " 'ezetimibe',\n",
              " 'head',\n",
              " 'combination',\n",
              " 'tinnitus',\n",
              " 'relief',\n",
              " 'brain',\n",
              " 'differences',\n",
              " 'aching',\n",
              " 'rheumatoid',\n",
              " 'before',\n",
              " 'gastric',\n",
              " 'min',\n",
              " 'performed',\n",
              " 'times',\n",
              " 'trial',\n",
              " 'finger',\n",
              " 'reported',\n",
              " 'x',\n",
              " 'values',\n",
              " 'stairs',\n",
              " 'general',\n",
              " 'stress',\n",
              " 'coated',\n",
              " 'those',\n",
              " 'area',\n",
              " 'parkinson',\n",
              " 'infection',\n",
              " 'years',\n",
              " 'ascorbic',\n",
              " 'charleyhorse',\n",
              " 'toes',\n",
              " 'off',\n",
              " 'e',\n",
              " 'events',\n",
              " 'conditions',\n",
              " 'studied',\n",
              " 'strength',\n",
              " 'nonsteroidal',\n",
              " 'who',\n",
              " 'developed',\n",
              " 'rapid',\n",
              " 'excruciating',\n",
              " 'post',\n",
              " 'phase',\n",
              " 'paracetamol',\n",
              " 'face',\n",
              " 'dyspnoea',\n",
              " 'either',\n",
              " 'ankles',\n",
              " 'urinary',\n",
              " 'swallowing',\n",
              " 'indigestion',\n",
              " 'intense',\n",
              " 'given',\n",
              " 'investigated',\n",
              " 'restless',\n",
              " 'measured',\n",
              " 'response',\n",
              " 'four',\n",
              " 'hot',\n",
              " 'change',\n",
              " 'cough',\n",
              " 'assessed',\n",
              " 'reduction',\n",
              " 'heel',\n",
              " 'subjects',\n",
              " 'parameters',\n",
              " 'motivation',\n",
              " 'lateral',\n",
              " 'properties',\n",
              " 'tendon',\n",
              " 'v',\n",
              " 'ca',\n",
              " 'such',\n",
              " 'order',\n",
              " 'absorption',\n",
              " 'palpitations',\n",
              " 'within',\n",
              " 'mm',\n",
              " 'new',\n",
              " 'enzymes',\n",
              " 'delivery',\n",
              " 'fingers',\n",
              " 'containing',\n",
              " 'vitamin',\n",
              " 'ratio',\n",
              " 'compare',\n",
              " 'auc',\n",
              " 'speech',\n",
              " 'safety',\n",
              " 'depressed',\n",
              " 'without',\n",
              " 'dark',\n",
              " 'decrease',\n",
              " 'night',\n",
              " 'vivo',\n",
              " 'lupus',\n",
              " 'they',\n",
              " 'indomethacin',\n",
              " 'w',\n",
              " 'healthy',\n",
              " 'felt',\n",
              " 'liquid',\n",
              " 'dreams',\n",
              " 'breathing',\n",
              " 'injection',\n",
              " 'oa',\n",
              " 'number',\n",
              " 'through',\n",
              " 'taste',\n",
              " 'ng',\n",
              " 'range',\n",
              " 'evaluate',\n",
              " 'nerve',\n",
              " 'samples',\n",
              " 'applied',\n",
              " 'statistically',\n",
              " 'major',\n",
              " 'ability',\n",
              " 'active',\n",
              " 'related',\n",
              " 'edema',\n",
              " 'included',\n",
              " 'menopause',\n",
              " 'primary',\n",
              " 'steroidal',\n",
              " 'scale',\n",
              " 'overall',\n",
              " 'limbs',\n",
              " 'clearly',\n",
              " 'form',\n",
              " 'good',\n",
              " 'fish',\n",
              " 'size',\n",
              " 'gout',\n",
              " 'scores',\n",
              " 'therapeutic',\n",
              " 'ulcer',\n",
              " 'potential',\n",
              " 'tissue',\n",
              " 'any',\n",
              " 'reaction',\n",
              " 'moderate',\n",
              " 'down',\n",
              " 'tightness',\n",
              " 'normal',\n",
              " 'twitch',\n",
              " 'wrist',\n",
              " 'provoked',\n",
              " 'minutes',\n",
              " 'baseline',\n",
              " 'co',\n",
              " 'medication',\n",
              " 'ii',\n",
              " 'determined',\n",
              " 'creatinine',\n",
              " 'k',\n",
              " 'fever',\n",
              " 'human',\n",
              " 'terrible',\n",
              " 'heartburn',\n",
              " 'sustained',\n",
              " 'aspirin',\n",
              " 'bone',\n",
              " 'drowsy',\n",
              " 'colic',\n",
              " 'mouth',\n",
              " 'bioavailability',\n",
              " 'light',\n",
              " 'greater',\n",
              " 'tolerability',\n",
              " 'development',\n",
              " 'some',\n",
              " 'uterine',\n",
              " 'addition',\n",
              " 'every',\n",
              " 'hypertension',\n",
              " 'fenofibrate',\n",
              " 'always',\n",
              " 'action',\n",
              " 'trouble',\n",
              " 'amyotrophic',\n",
              " 'revealed',\n",
              " 'our',\n",
              " 'various',\n",
              " 'inhibition',\n",
              " 'advil',\n",
              " 'misoprostol',\n",
              " 'bowel',\n",
              " 'fog',\n",
              " 'matrix',\n",
              " 'aqueous',\n",
              " 'think',\n",
              " 'polymer',\n",
              " 'tract',\n",
              " 'twitching',\n",
              " 'cox',\n",
              " 'sinus',\n",
              " 'better',\n",
              " 'process',\n",
              " 'products',\n",
              " 'aim',\n",
              " 'mobility',\n",
              " 'volunteers',\n",
              " 'trials',\n",
              " 'breath',\n",
              " 'dependent',\n",
              " 'aleve',\n",
              " 'generally',\n",
              " 'about',\n",
              " 'whereas',\n",
              " 'coq10',\n",
              " 'per',\n",
              " 'nasal',\n",
              " 'tight',\n",
              " 'tylenol',\n",
              " 'formation',\n",
              " 'exercise',\n",
              " 'mice',\n",
              " 'treatments',\n",
              " 'improvement',\n",
              " 'na',\n",
              " 'move',\n",
              " 'months',\n",
              " 'demonstrated',\n",
              " 'thighs',\n",
              " 'onset',\n",
              " 'attacks',\n",
              " 'horses',\n",
              " 'although',\n",
              " 'o',\n",
              " 'lethargy',\n",
              " 'elbows',\n",
              " 'physical',\n",
              " 'should',\n",
              " 'standard',\n",
              " 'shown',\n",
              " 'moody',\n",
              " 'mechanism',\n",
              " 'versus',\n",
              " 'me',\n",
              " 'animals',\n",
              " 'surface',\n",
              " 'male',\n",
              " 'inhibitor',\n",
              " 'intensity',\n",
              " 'cancer',\n",
              " 'conducted',\n",
              " 'pulse',\n",
              " 'dosage',\n",
              " 'indicated',\n",
              " 'being',\n",
              " 'end',\n",
              " 'permeation',\n",
              " 'further',\n",
              " 'agent',\n",
              " 'cerebrovascular',\n",
              " 'cases',\n",
              " 'malignant',\n",
              " 'extremity',\n",
              " 'plantar',\n",
              " 'fast',\n",
              " 'facial',\n",
              " 'local',\n",
              " 'vehicle',\n",
              " 'vas',\n",
              " 'free',\n",
              " 'hour',\n",
              " 'six',\n",
              " 'pharmaceutical',\n",
              " 'congestion',\n",
              " 'available',\n",
              " 'numb',\n",
              " 'evaluation',\n",
              " 'determine',\n",
              " 'then',\n",
              " 'alpha',\n",
              " 'long',\n",
              " 'f',\n",
              " 'agents',\n",
              " 'accident',\n",
              " 'protein',\n",
              " 'loose',\n",
              " 'age',\n",
              " 'combined',\n",
              " 'growth',\n",
              " 'charley',\n",
              " 'alone',\n",
              " 'initial',\n",
              " 'same',\n",
              " 'fluid',\n",
              " 'followed',\n",
              " 'divided',\n",
              " 'relative',\n",
              " 'sharp',\n",
              " 'ms',\n",
              " 'case',\n",
              " 'risk',\n",
              " 'periods',\n",
              " 'tolerance',\n",
              " 'hardly',\n",
              " 'amount',\n",
              " 'rat',\n",
              " 'experimental',\n",
              " 'oedema',\n",
              " 'slurred',\n",
              " 'suggest',\n",
              " 'liptor',\n",
              " 'presence',\n",
              " 'tricor',\n",
              " 'cm',\n",
              " 'randomly',\n",
              " 'fatigued',\n",
              " 'getting',\n",
              " 'finding',\n",
              " 'improved',\n",
              " 'complex',\n",
              " 'corneal',\n",
              " 'stamina',\n",
              " 'resulted',\n",
              " 'naproxen',\n",
              " 'barely',\n",
              " 'drive',\n",
              " 'ethyl',\n",
              " 'panic',\n",
              " 'score',\n",
              " 'deep',\n",
              " 'sugar',\n",
              " 'sex',\n",
              " '+',\n",
              " 'coronary',\n",
              " 'th',\n",
              " 'natural',\n",
              " 'peak',\n",
              " 'nervous',\n",
              " 'common',\n",
              " 'pellets',\n",
              " 'achilles',\n",
              " 'profile',\n",
              " 'systemic',\n",
              " 'exposure',\n",
              " 'once',\n",
              " 'content',\n",
              " 'secondary',\n",
              " 'evidence',\n",
              " 'even',\n",
              " 'ringing',\n",
              " 'maximum',\n",
              " 'rhabdomyolysis',\n",
              " 'sick',\n",
              " 'including',\n",
              " 'irregular',\n",
              " 'hunger',\n",
              " 'sensations',\n",
              " 'profiles',\n",
              " 'third',\n",
              " 'shortness',\n",
              " 'microspheres',\n",
              " 'increasing',\n",
              " 'complete',\n",
              " 'patch',\n",
              " 'achieved',\n",
              " 'sweats',\n",
              " 'degrees',\n",
              " 'pharmacokinetic',\n",
              " 'assessment',\n",
              " 'flushing',\n",
              " 'zetia',\n",
              " 'ldl',\n",
              " 'duration',\n",
              " 'produced',\n",
              " 'frequent',\n",
              " 'temperature',\n",
              " 'eczema',\n",
              " 'tolerated',\n",
              " 'caused',\n",
              " 'reference',\n",
              " 'among',\n",
              " 'participants',\n",
              " 'dizzy',\n",
              " 'tested',\n",
              " 'cataract',\n",
              " 'als',\n",
              " 'stroke',\n",
              " 'prednisone',\n",
              " 'quality',\n",
              " 'fasciitis',\n",
              " 'beads',\n",
              " 'rectal',\n",
              " 'neurontin',\n",
              " 'strain',\n",
              " 'cd',\n",
              " 'medium',\n",
              " 'region',\n",
              " 'ear',\n",
              " 'investigate',\n",
              " 'efficiency',\n",
              " 'five',\n",
              " 'because',\n",
              " 'receiving',\n",
              " 'lesions',\n",
              " 'least',\n",
              " 'extremely',\n",
              " 'cmax',\n",
              " 'diabetic',\n",
              " 'old',\n",
              " 'calcium',\n",
              " 'respiratory',\n",
              " 'saline',\n",
              " 'forgetful',\n",
              " 'pre',\n",
              " 'de',\n",
              " 'erythematosus',\n",
              " 'condition',\n",
              " 'lost',\n",
              " 'global',\n",
              " 'thoughts',\n",
              " 'analgesia',\n",
              " 'lopid',\n",
              " 'morning',\n",
              " 'film',\n",
              " 'dysfunction',\n",
              " 'technique',\n",
              " 'enteric',\n",
              " 'sensitivity',\n",
              " 'palsy',\n",
              " 'tension',\n",
              " 'started',\n",
              " ':',\n",
              " 'carried',\n",
              " 'examined',\n",
              " 'recorded',\n",
              " 'pruritus',\n",
              " 'ocular',\n",
              " 'gi',\n",
              " 'plus',\n",
              " 'production',\n",
              " 'thus',\n",
              " 'cataflam',\n",
              " 'models',\n",
              " 'year',\n",
              " 'food',\n",
              " 'around',\n",
              " 'mental',\n",
              " 'bp',\n",
              " 'synthesis',\n",
              " 'norvasc',\n",
              " 'erythema',\n",
              " 'according',\n",
              " 'capsules',\n",
              " 'review',\n",
              " 'sensitive',\n",
              " 'asthma',\n",
              " 'interaction',\n",
              " 'preparation',\n",
              " '3',\n",
              " 'product',\n",
              " 'flow',\n",
              " 'expression',\n",
              " 'central',\n",
              " 'diffusion',\n",
              " 'retention',\n",
              " 'comparison',\n",
              " 'venous',\n",
              " 'spasmodic',\n",
              " 'ci',\n",
              " 'bell',\n",
              " 'care',\n",
              " 'aptyalism',\n",
              " 'dic',\n",
              " 'value',\n",
              " 'considered',\n",
              " 'solid',\n",
              " 'inability',\n",
              " 'phosphate',\n",
              " 'rofecoxib',\n",
              " 'transient',\n",
              " 'scalp',\n",
              " 'assess',\n",
              " 'methods',\n",
              " 'menorrhagia',\n",
              " 'detection',\n",
              " 'early',\n",
              " 'hypersomnia',\n",
              " 'mass',\n",
              " 'design',\n",
              " 'itchy',\n",
              " 'incidence',\n",
              " 'intestinal',\n",
              " 'inhibited',\n",
              " 'comparable',\n",
              " 'novel',\n",
              " 'intramuscular',\n",
              " 'omega-3-acid',\n",
              " 'esters-90',\n",
              " 'commercial',\n",
              " 'volume',\n",
              " 'cross',\n",
              " 'indicate',\n",
              " 'against',\n",
              " 'state',\n",
              " 'ophthalmic',\n",
              " 'cardiovascular',\n",
              " 'cpk',\n",
              " 'taking',\n",
              " 'small',\n",
              " 'hard',\n",
              " 'responses',\n",
              " 'determination',\n",
              " 'extent',\n",
              " 'influence',\n",
              " 'index',\n",
              " 'drops',\n",
              " 'stool',\n",
              " 'morphine',\n",
              " 'abdomen',\n",
              " 'capsule',\n",
              " 'possible',\n",
              " 'vascular',\n",
              " 'month',\n",
              " 'transdermal',\n",
              " 'density',\n",
              " 'hurts',\n",
              " 'foggy',\n",
              " 'gait',\n",
              " 'lipex',\n",
              " 'characterized',\n",
              " 'antiinflammatory',\n",
              " 'solubility',\n",
              " 'arthritic',\n",
              " 'self',\n",
              " 'lipid',\n",
              " 'just',\n",
              " 'structure',\n",
              " 'sexual',\n",
              " 'prostaglandin',\n",
              " 'microg',\n",
              " 'looks',\n",
              " 'rates',\n",
              " 'medications',\n",
              " 'findings',\n",
              " 'serious',\n",
              " 'if',\n",
              " 'slight',\n",
              " 'hepatic',\n",
              " 'provided',\n",
              " 'clinically',\n",
              " 'tissues',\n",
              " 'loaded',\n",
              " 'characteristics',\n",
              " 'bursitis',\n",
              " 'extraction',\n",
              " 'affected',\n",
              " 'membrane',\n",
              " 'much',\n",
              " 'forearm',\n",
              " 'several',\n",
              " 'random',\n",
              " 'do',\n",
              " 'twice',\n",
              " 'provide',\n",
              " 'hplc',\n",
              " 'superior',\n",
              " 'slow',\n",
              " '2',\n",
              " 'work',\n",
              " 'tachycardia',\n",
              " 'whether',\n",
              " 'limping',\n",
              " 'muscular',\n",
              " 'max',\n",
              " 'outcome',\n",
              " ...]"
            ]
          },
          "metadata": {
            "tags": []
          },
          "execution_count": 18
        }
      ]
    },
    {
      "cell_type": "code",
      "metadata": {
        "id": "yPWr03mls3VT",
        "outputId": "f7e66274-43e2-44b4-9e67-97055b409834",
        "colab": {
          "base_uri": "https://localhost:8080/",
          "height": 17
        }
      },
      "source": [
        "model_path = path/'models'\n",
        "model_path.mkdir(exist_ok=True)\n",
        "url = 'http://files.fast.ai/models/wt103_v1/'\n",
        "download_url(f'{url}lstm_wt103.pth', model_path/'lstm_wt103.pth')\n",
        "download_url(f'{url}itos_wt103.pkl', model_path/'itos_wt103.pkl')"
      ],
      "execution_count": 19,
      "outputs": [
        {
          "output_type": "display_data",
          "data": {
            "text/html": [
              ""
            ],
            "text/plain": [
              "<IPython.core.display.HTML object>"
            ]
          },
          "metadata": {
            "tags": []
          }
        },
        {
          "output_type": "display_data",
          "data": {
            "text/html": [
              ""
            ],
            "text/plain": [
              "<IPython.core.display.HTML object>"
            ]
          },
          "metadata": {
            "tags": []
          }
        }
      ]
    },
    {
      "cell_type": "code",
      "metadata": {
        "id": "JRzvWg8RtGGr",
        "outputId": "5af9ebd0-2190-444a-9588-a8727eae5169",
        "colab": {
          "base_uri": "https://localhost:8080/",
          "height": 34
        }
      },
      "source": [
        "learn = language_model_learner(data_lm, AWD_LSTM, drop_mult=0.5)"
      ],
      "execution_count": 20,
      "outputs": [
        {
          "output_type": "stream",
          "text": [
            "Downloading https://s3.amazonaws.com/fast-ai-modelzoo/wt103-fwd.tgz\n"
          ],
          "name": "stdout"
        },
        {
          "output_type": "display_data",
          "data": {
            "text/html": [
              ""
            ],
            "text/plain": [
              "<IPython.core.display.HTML object>"
            ]
          },
          "metadata": {
            "tags": []
          }
        }
      ]
    },
    {
      "cell_type": "code",
      "metadata": {
        "id": "xKK7GeBev7Xn",
        "outputId": "f6fe2863-05bb-48e0-ff5c-b3ea9bb85b16",
        "colab": {
          "base_uri": "https://localhost:8080/",
          "height": 80
        }
      },
      "source": [
        "learn.fit_one_cycle(1, 1e-2)"
      ],
      "execution_count": 21,
      "outputs": [
        {
          "output_type": "display_data",
          "data": {
            "text/html": [
              "<table border=\"1\" class=\"dataframe\">\n",
              "  <thead>\n",
              "    <tr style=\"text-align: left;\">\n",
              "      <th>epoch</th>\n",
              "      <th>train_loss</th>\n",
              "      <th>valid_loss</th>\n",
              "      <th>accuracy</th>\n",
              "      <th>time</th>\n",
              "    </tr>\n",
              "  </thead>\n",
              "  <tbody>\n",
              "    <tr>\n",
              "      <td>0</td>\n",
              "      <td>3.771179</td>\n",
              "      <td>3.382782</td>\n",
              "      <td>0.457117</td>\n",
              "      <td>29:39</td>\n",
              "    </tr>\n",
              "  </tbody>\n",
              "</table>"
            ],
            "text/plain": [
              "<IPython.core.display.HTML object>"
            ]
          },
          "metadata": {
            "tags": []
          }
        }
      ]
    },
    {
      "cell_type": "code",
      "metadata": {
        "id": "iB7rHGQCwd12"
      },
      "source": [
        "# learn.fit_one_cycle(1, 1e-2)"
      ],
      "execution_count": 22,
      "outputs": []
    },
    {
      "cell_type": "code",
      "metadata": {
        "id": "_BnSuAeCwkBe"
      },
      "source": [
        "# learn.fit_one_cycle(1, 1e-3)"
      ],
      "execution_count": 23,
      "outputs": []
    },
    {
      "cell_type": "code",
      "metadata": {
        "id": "MuTm-RFjwrEX",
        "outputId": "3114d281-ab23-423d-85a1-1fcea4f4fd2a",
        "colab": {
          "base_uri": "https://localhost:8080/",
          "height": 80
        }
      },
      "source": [
        "learn.fit_one_cycle(1, 1e-3)"
      ],
      "execution_count": 24,
      "outputs": [
        {
          "output_type": "display_data",
          "data": {
            "text/html": [
              "<table border=\"1\" class=\"dataframe\">\n",
              "  <thead>\n",
              "    <tr style=\"text-align: left;\">\n",
              "      <th>epoch</th>\n",
              "      <th>train_loss</th>\n",
              "      <th>valid_loss</th>\n",
              "      <th>accuracy</th>\n",
              "      <th>time</th>\n",
              "    </tr>\n",
              "  </thead>\n",
              "  <tbody>\n",
              "    <tr>\n",
              "      <td>0</td>\n",
              "      <td>3.416033</td>\n",
              "      <td>3.324533</td>\n",
              "      <td>0.461861</td>\n",
              "      <td>29:03</td>\n",
              "    </tr>\n",
              "  </tbody>\n",
              "</table>"
            ],
            "text/plain": [
              "<IPython.core.display.HTML object>"
            ]
          },
          "metadata": {
            "tags": []
          }
        }
      ]
    },
    {
      "cell_type": "code",
      "metadata": {
        "id": "1Er2ExO8wr7Y"
      },
      "source": [
        "learn.save_encoder('pubmed_ask_fold0_first')"
      ],
      "execution_count": 25,
      "outputs": []
    },
    {
      "cell_type": "code",
      "metadata": {
        "id": "z52cZs2qwvad",
        "outputId": "5838f2b6-34fb-4945-8b32-461fd26fc642",
        "colab": {
          "base_uri": "https://localhost:8080/",
          "height": 80
        }
      },
      "source": [
        "learn = text_classifier_learner(data_clas,AWD_LSTM, drop_mult=0.5)\n",
        "learn.load_encoder('pubmed_ask_fold0_first')\n",
        "learn.fit_one_cycle(1, 1e-2)"
      ],
      "execution_count": 26,
      "outputs": [
        {
          "output_type": "display_data",
          "data": {
            "text/html": [
              "<table border=\"1\" class=\"dataframe\">\n",
              "  <thead>\n",
              "    <tr style=\"text-align: left;\">\n",
              "      <th>epoch</th>\n",
              "      <th>train_loss</th>\n",
              "      <th>valid_loss</th>\n",
              "      <th>accuracy</th>\n",
              "      <th>time</th>\n",
              "    </tr>\n",
              "  </thead>\n",
              "  <tbody>\n",
              "    <tr>\n",
              "      <td>0</td>\n",
              "      <td>3.978993</td>\n",
              "      <td>3.715057</td>\n",
              "      <td>0.344379</td>\n",
              "      <td>01:12</td>\n",
              "    </tr>\n",
              "  </tbody>\n",
              "</table>"
            ],
            "text/plain": [
              "<IPython.core.display.HTML object>"
            ]
          },
          "metadata": {
            "tags": []
          }
        }
      ]
    },
    {
      "cell_type": "code",
      "metadata": {
        "id": "ImwQP1PJwzxd",
        "outputId": "0c516da3-c4a1-457a-faf3-0323d97e3cab",
        "colab": {
          "base_uri": "https://localhost:8080/",
          "height": 80
        }
      },
      "source": [
        "learn.freeze_to(-2)\n",
        "learn.fit_one_cycle(1, slice(5e-3/2., 5e-3))"
      ],
      "execution_count": 27,
      "outputs": [
        {
          "output_type": "display_data",
          "data": {
            "text/html": [
              "<table border=\"1\" class=\"dataframe\">\n",
              "  <thead>\n",
              "    <tr style=\"text-align: left;\">\n",
              "      <th>epoch</th>\n",
              "      <th>train_loss</th>\n",
              "      <th>valid_loss</th>\n",
              "      <th>accuracy</th>\n",
              "      <th>time</th>\n",
              "    </tr>\n",
              "  </thead>\n",
              "  <tbody>\n",
              "    <tr>\n",
              "      <td>0</td>\n",
              "      <td>2.885437</td>\n",
              "      <td>3.078112</td>\n",
              "      <td>0.485207</td>\n",
              "      <td>01:18</td>\n",
              "    </tr>\n",
              "  </tbody>\n",
              "</table>"
            ],
            "text/plain": [
              "<IPython.core.display.HTML object>"
            ]
          },
          "metadata": {
            "tags": []
          }
        }
      ]
    },
    {
      "cell_type": "code",
      "metadata": {
        "id": "Owff_BJXw53u",
        "outputId": "d6cd0f02-0d45-4c25-81af-e48b20e429bf",
        "colab": {
          "base_uri": "https://localhost:8080/",
          "height": 80
        }
      },
      "source": [
        "learn.unfreeze()\n",
        "learn.fit_one_cycle(1, slice(2e-3/100, 2e-3))"
      ],
      "execution_count": 28,
      "outputs": [
        {
          "output_type": "display_data",
          "data": {
            "text/html": [
              "<table border=\"1\" class=\"dataframe\">\n",
              "  <thead>\n",
              "    <tr style=\"text-align: left;\">\n",
              "      <th>epoch</th>\n",
              "      <th>train_loss</th>\n",
              "      <th>valid_loss</th>\n",
              "      <th>accuracy</th>\n",
              "      <th>time</th>\n",
              "    </tr>\n",
              "  </thead>\n",
              "  <tbody>\n",
              "    <tr>\n",
              "      <td>0</td>\n",
              "      <td>2.293743</td>\n",
              "      <td>2.701613</td>\n",
              "      <td>0.547929</td>\n",
              "      <td>03:13</td>\n",
              "    </tr>\n",
              "  </tbody>\n",
              "</table>"
            ],
            "text/plain": [
              "<IPython.core.display.HTML object>"
            ]
          },
          "metadata": {
            "tags": []
          }
        }
      ]
    },
    {
      "cell_type": "code",
      "metadata": {
        "id": "lqAyu56V8Waq",
        "outputId": "83844541-badd-44c3-d7e7-13f333ab64df",
        "colab": {
          "base_uri": "https://localhost:8080/",
          "height": 111
        }
      },
      "source": [
        "learn.fit_one_cycle(2, slice(2e-3/100, 2e-3))"
      ],
      "execution_count": 29,
      "outputs": [
        {
          "output_type": "display_data",
          "data": {
            "text/html": [
              "<table border=\"1\" class=\"dataframe\">\n",
              "  <thead>\n",
              "    <tr style=\"text-align: left;\">\n",
              "      <th>epoch</th>\n",
              "      <th>train_loss</th>\n",
              "      <th>valid_loss</th>\n",
              "      <th>accuracy</th>\n",
              "      <th>time</th>\n",
              "    </tr>\n",
              "  </thead>\n",
              "  <tbody>\n",
              "    <tr>\n",
              "      <td>0</td>\n",
              "      <td>1.922352</td>\n",
              "      <td>2.354914</td>\n",
              "      <td>0.607101</td>\n",
              "      <td>03:31</td>\n",
              "    </tr>\n",
              "    <tr>\n",
              "      <td>1</td>\n",
              "      <td>1.676654</td>\n",
              "      <td>2.202471</td>\n",
              "      <td>0.635503</td>\n",
              "      <td>03:38</td>\n",
              "    </tr>\n",
              "  </tbody>\n",
              "</table>"
            ],
            "text/plain": [
              "<IPython.core.display.HTML object>"
            ]
          },
          "metadata": {
            "tags": []
          }
        }
      ]
    },
    {
      "cell_type": "code",
      "metadata": {
        "id": "a7I1xMRp8bUd",
        "outputId": "862de666-44f0-472e-9d0b-375387f0dd7e",
        "colab": {
          "base_uri": "https://localhost:8080/",
          "height": 111
        }
      },
      "source": [
        "learn.fit_one_cycle(2, slice(2e-3/100, 2e-3))"
      ],
      "execution_count": 30,
      "outputs": [
        {
          "output_type": "display_data",
          "data": {
            "text/html": [
              "<table border=\"1\" class=\"dataframe\">\n",
              "  <thead>\n",
              "    <tr style=\"text-align: left;\">\n",
              "      <th>epoch</th>\n",
              "      <th>train_loss</th>\n",
              "      <th>valid_loss</th>\n",
              "      <th>accuracy</th>\n",
              "      <th>time</th>\n",
              "    </tr>\n",
              "  </thead>\n",
              "  <tbody>\n",
              "    <tr>\n",
              "      <td>0</td>\n",
              "      <td>1.535163</td>\n",
              "      <td>2.012247</td>\n",
              "      <td>0.656805</td>\n",
              "      <td>03:24</td>\n",
              "    </tr>\n",
              "    <tr>\n",
              "      <td>1</td>\n",
              "      <td>1.337011</td>\n",
              "      <td>1.909709</td>\n",
              "      <td>0.680473</td>\n",
              "      <td>03:17</td>\n",
              "    </tr>\n",
              "  </tbody>\n",
              "</table>"
            ],
            "text/plain": [
              "<IPython.core.display.HTML object>"
            ]
          },
          "metadata": {
            "tags": []
          }
        }
      ]
    },
    {
      "cell_type": "code",
      "metadata": {
        "id": "UAnti-XmGVfO",
        "outputId": "349c1cab-c1eb-4b09-e3be-37672ff9db56",
        "colab": {
          "base_uri": "https://localhost:8080/",
          "height": 111
        }
      },
      "source": [
        "learn.fit_one_cycle(2, slice(2e-3/100, 2e-3))"
      ],
      "execution_count": 31,
      "outputs": [
        {
          "output_type": "display_data",
          "data": {
            "text/html": [
              "<table border=\"1\" class=\"dataframe\">\n",
              "  <thead>\n",
              "    <tr style=\"text-align: left;\">\n",
              "      <th>epoch</th>\n",
              "      <th>train_loss</th>\n",
              "      <th>valid_loss</th>\n",
              "      <th>accuracy</th>\n",
              "      <th>time</th>\n",
              "    </tr>\n",
              "  </thead>\n",
              "  <tbody>\n",
              "    <tr>\n",
              "      <td>0</td>\n",
              "      <td>1.168222</td>\n",
              "      <td>1.806810</td>\n",
              "      <td>0.701775</td>\n",
              "      <td>03:16</td>\n",
              "    </tr>\n",
              "    <tr>\n",
              "      <td>1</td>\n",
              "      <td>1.026631</td>\n",
              "      <td>1.696368</td>\n",
              "      <td>0.713609</td>\n",
              "      <td>03:12</td>\n",
              "    </tr>\n",
              "  </tbody>\n",
              "</table>"
            ],
            "text/plain": [
              "<IPython.core.display.HTML object>"
            ]
          },
          "metadata": {
            "tags": []
          }
        }
      ]
    },
    {
      "cell_type": "code",
      "metadata": {
        "id": "bIft7W25GwSu",
        "outputId": "2287c09e-ef6a-47a4-fa56-32274ae70291",
        "colab": {
          "base_uri": "https://localhost:8080/",
          "height": 111
        }
      },
      "source": [
        "learn.fit_one_cycle(2, slice(2e-3/100, 2e-3))"
      ],
      "execution_count": 32,
      "outputs": [
        {
          "output_type": "display_data",
          "data": {
            "text/html": [
              "<table border=\"1\" class=\"dataframe\">\n",
              "  <thead>\n",
              "    <tr style=\"text-align: left;\">\n",
              "      <th>epoch</th>\n",
              "      <th>train_loss</th>\n",
              "      <th>valid_loss</th>\n",
              "      <th>accuracy</th>\n",
              "      <th>time</th>\n",
              "    </tr>\n",
              "  </thead>\n",
              "  <tbody>\n",
              "    <tr>\n",
              "      <td>0</td>\n",
              "      <td>0.994444</td>\n",
              "      <td>1.619531</td>\n",
              "      <td>0.724260</td>\n",
              "      <td>03:12</td>\n",
              "    </tr>\n",
              "    <tr>\n",
              "      <td>1</td>\n",
              "      <td>0.877064</td>\n",
              "      <td>1.526480</td>\n",
              "      <td>0.737278</td>\n",
              "      <td>03:42</td>\n",
              "    </tr>\n",
              "  </tbody>\n",
              "</table>"
            ],
            "text/plain": [
              "<IPython.core.display.HTML object>"
            ]
          },
          "metadata": {
            "tags": []
          }
        }
      ]
    },
    {
      "cell_type": "code",
      "metadata": {
        "id": "EEHszVRvGyFt",
        "outputId": "10418fa4-4568-4935-f246-e3c1fbd7462b",
        "colab": {
          "base_uri": "https://localhost:8080/",
          "height": 111
        }
      },
      "source": [
        "learn.fit_one_cycle(2, slice(2e-3/100, 2e-3))"
      ],
      "execution_count": 33,
      "outputs": [
        {
          "output_type": "display_data",
          "data": {
            "text/html": [
              "<table border=\"1\" class=\"dataframe\">\n",
              "  <thead>\n",
              "    <tr style=\"text-align: left;\">\n",
              "      <th>epoch</th>\n",
              "      <th>train_loss</th>\n",
              "      <th>valid_loss</th>\n",
              "      <th>accuracy</th>\n",
              "      <th>time</th>\n",
              "    </tr>\n",
              "  </thead>\n",
              "  <tbody>\n",
              "    <tr>\n",
              "      <td>0</td>\n",
              "      <td>0.830623</td>\n",
              "      <td>1.511378</td>\n",
              "      <td>0.736095</td>\n",
              "      <td>03:16</td>\n",
              "    </tr>\n",
              "    <tr>\n",
              "      <td>1</td>\n",
              "      <td>0.765428</td>\n",
              "      <td>1.437904</td>\n",
              "      <td>0.745562</td>\n",
              "      <td>03:29</td>\n",
              "    </tr>\n",
              "  </tbody>\n",
              "</table>"
            ],
            "text/plain": [
              "<IPython.core.display.HTML object>"
            ]
          },
          "metadata": {
            "tags": []
          }
        }
      ]
    },
    {
      "cell_type": "code",
      "metadata": {
        "id": "XsHfrhCHG3dN",
        "outputId": "f3f78dcf-4353-47a5-a3f4-b978e0a77b6f",
        "colab": {
          "base_uri": "https://localhost:8080/",
          "height": 173
        }
      },
      "source": [
        "learn.fit_one_cycle(4, slice(2e-3/100, 2e-3))"
      ],
      "execution_count": 34,
      "outputs": [
        {
          "output_type": "display_data",
          "data": {
            "text/html": [
              "<table border=\"1\" class=\"dataframe\">\n",
              "  <thead>\n",
              "    <tr style=\"text-align: left;\">\n",
              "      <th>epoch</th>\n",
              "      <th>train_loss</th>\n",
              "      <th>valid_loss</th>\n",
              "      <th>accuracy</th>\n",
              "      <th>time</th>\n",
              "    </tr>\n",
              "  </thead>\n",
              "  <tbody>\n",
              "    <tr>\n",
              "      <td>0</td>\n",
              "      <td>0.672069</td>\n",
              "      <td>1.412784</td>\n",
              "      <td>0.749112</td>\n",
              "      <td>03:27</td>\n",
              "    </tr>\n",
              "    <tr>\n",
              "      <td>1</td>\n",
              "      <td>0.673682</td>\n",
              "      <td>1.403528</td>\n",
              "      <td>0.750296</td>\n",
              "      <td>03:12</td>\n",
              "    </tr>\n",
              "    <tr>\n",
              "      <td>2</td>\n",
              "      <td>0.572673</td>\n",
              "      <td>1.332340</td>\n",
              "      <td>0.758580</td>\n",
              "      <td>03:50</td>\n",
              "    </tr>\n",
              "    <tr>\n",
              "      <td>3</td>\n",
              "      <td>0.533162</td>\n",
              "      <td>1.310211</td>\n",
              "      <td>0.765680</td>\n",
              "      <td>03:55</td>\n",
              "    </tr>\n",
              "  </tbody>\n",
              "</table>"
            ],
            "text/plain": [
              "<IPython.core.display.HTML object>"
            ]
          },
          "metadata": {
            "tags": []
          }
        }
      ]
    },
    {
      "cell_type": "code",
      "metadata": {
        "id": "0Zsd99isb9EQ",
        "outputId": "28f7b245-c8a7-49f3-f569-25a76c6ad10a",
        "colab": {
          "base_uri": "https://localhost:8080/",
          "height": 173
        }
      },
      "source": [
        "learn.fit_one_cycle(4, slice(2e-3/100, 2e-3))"
      ],
      "execution_count": 35,
      "outputs": [
        {
          "output_type": "display_data",
          "data": {
            "text/html": [
              "<table border=\"1\" class=\"dataframe\">\n",
              "  <thead>\n",
              "    <tr style=\"text-align: left;\">\n",
              "      <th>epoch</th>\n",
              "      <th>train_loss</th>\n",
              "      <th>valid_loss</th>\n",
              "      <th>accuracy</th>\n",
              "      <th>time</th>\n",
              "    </tr>\n",
              "  </thead>\n",
              "  <tbody>\n",
              "    <tr>\n",
              "      <td>0</td>\n",
              "      <td>0.472662</td>\n",
              "      <td>1.337235</td>\n",
              "      <td>0.765680</td>\n",
              "      <td>03:21</td>\n",
              "    </tr>\n",
              "    <tr>\n",
              "      <td>1</td>\n",
              "      <td>0.497571</td>\n",
              "      <td>1.322984</td>\n",
              "      <td>0.775148</td>\n",
              "      <td>03:36</td>\n",
              "    </tr>\n",
              "    <tr>\n",
              "      <td>2</td>\n",
              "      <td>0.441795</td>\n",
              "      <td>1.250648</td>\n",
              "      <td>0.771598</td>\n",
              "      <td>03:34</td>\n",
              "    </tr>\n",
              "    <tr>\n",
              "      <td>3</td>\n",
              "      <td>0.407280</td>\n",
              "      <td>1.268818</td>\n",
              "      <td>0.785799</td>\n",
              "      <td>03:43</td>\n",
              "    </tr>\n",
              "  </tbody>\n",
              "</table>"
            ],
            "text/plain": [
              "<IPython.core.display.HTML object>"
            ]
          },
          "metadata": {
            "tags": []
          }
        }
      ]
    },
    {
      "cell_type": "code",
      "metadata": {
        "id": "atNWNKDFPbuI",
        "outputId": "6a753082-5fa1-47a1-fb76-53d3c1fb5c4e",
        "colab": {
          "base_uri": "https://localhost:8080/",
          "height": 173
        }
      },
      "source": [
        "learn.fit_one_cycle(4, slice(2e-3/100, 2e-3))"
      ],
      "execution_count": 36,
      "outputs": [
        {
          "output_type": "display_data",
          "data": {
            "text/html": [
              "<table border=\"1\" class=\"dataframe\">\n",
              "  <thead>\n",
              "    <tr style=\"text-align: left;\">\n",
              "      <th>epoch</th>\n",
              "      <th>train_loss</th>\n",
              "      <th>valid_loss</th>\n",
              "      <th>accuracy</th>\n",
              "      <th>time</th>\n",
              "    </tr>\n",
              "  </thead>\n",
              "  <tbody>\n",
              "    <tr>\n",
              "      <td>0</td>\n",
              "      <td>0.393233</td>\n",
              "      <td>1.277237</td>\n",
              "      <td>0.779882</td>\n",
              "      <td>03:44</td>\n",
              "    </tr>\n",
              "    <tr>\n",
              "      <td>1</td>\n",
              "      <td>0.392933</td>\n",
              "      <td>1.318423</td>\n",
              "      <td>0.782248</td>\n",
              "      <td>03:35</td>\n",
              "    </tr>\n",
              "    <tr>\n",
              "      <td>2</td>\n",
              "      <td>0.360094</td>\n",
              "      <td>1.288081</td>\n",
              "      <td>0.789349</td>\n",
              "      <td>03:39</td>\n",
              "    </tr>\n",
              "    <tr>\n",
              "      <td>3</td>\n",
              "      <td>0.320138</td>\n",
              "      <td>1.261729</td>\n",
              "      <td>0.786982</td>\n",
              "      <td>03:40</td>\n",
              "    </tr>\n",
              "  </tbody>\n",
              "</table>"
            ],
            "text/plain": [
              "<IPython.core.display.HTML object>"
            ]
          },
          "metadata": {
            "tags": []
          }
        }
      ]
    },
    {
      "cell_type": "code",
      "metadata": {
        "id": "rKrBTZ0T1uVA",
        "outputId": "dcea95a7-1e76-4d42-f0ca-a7ea8253b274",
        "colab": {
          "base_uri": "https://localhost:8080/",
          "height": 173
        }
      },
      "source": [
        "learn.fit_one_cycle(4, slice(2e-3/100, 2e-3))"
      ],
      "execution_count": 37,
      "outputs": [
        {
          "output_type": "display_data",
          "data": {
            "text/html": [
              "<table border=\"1\" class=\"dataframe\">\n",
              "  <thead>\n",
              "    <tr style=\"text-align: left;\">\n",
              "      <th>epoch</th>\n",
              "      <th>train_loss</th>\n",
              "      <th>valid_loss</th>\n",
              "      <th>accuracy</th>\n",
              "      <th>time</th>\n",
              "    </tr>\n",
              "  </thead>\n",
              "  <tbody>\n",
              "    <tr>\n",
              "      <td>0</td>\n",
              "      <td>0.297891</td>\n",
              "      <td>1.295933</td>\n",
              "      <td>0.796450</td>\n",
              "      <td>03:19</td>\n",
              "    </tr>\n",
              "    <tr>\n",
              "      <td>1</td>\n",
              "      <td>0.349128</td>\n",
              "      <td>1.337193</td>\n",
              "      <td>0.795266</td>\n",
              "      <td>03:29</td>\n",
              "    </tr>\n",
              "    <tr>\n",
              "      <td>2</td>\n",
              "      <td>0.296819</td>\n",
              "      <td>1.316970</td>\n",
              "      <td>0.790533</td>\n",
              "      <td>03:31</td>\n",
              "    </tr>\n",
              "    <tr>\n",
              "      <td>3</td>\n",
              "      <td>0.245302</td>\n",
              "      <td>1.263289</td>\n",
              "      <td>0.791716</td>\n",
              "      <td>03:23</td>\n",
              "    </tr>\n",
              "  </tbody>\n",
              "</table>"
            ],
            "text/plain": [
              "<IPython.core.display.HTML object>"
            ]
          },
          "metadata": {
            "tags": []
          }
        }
      ]
    },
    {
      "cell_type": "code",
      "metadata": {
        "id": "ajQC6WDg1yA9",
        "outputId": "9c17656b-4c3d-4626-a5aa-7e87426fd2dd",
        "colab": {
          "base_uri": "https://localhost:8080/",
          "height": 173
        }
      },
      "source": [
        "learn.fit_one_cycle(4, slice(2e-3/100, 2e-3))"
      ],
      "execution_count": 38,
      "outputs": [
        {
          "output_type": "display_data",
          "data": {
            "text/html": [
              "<table border=\"1\" class=\"dataframe\">\n",
              "  <thead>\n",
              "    <tr style=\"text-align: left;\">\n",
              "      <th>epoch</th>\n",
              "      <th>train_loss</th>\n",
              "      <th>valid_loss</th>\n",
              "      <th>accuracy</th>\n",
              "      <th>time</th>\n",
              "    </tr>\n",
              "  </thead>\n",
              "  <tbody>\n",
              "    <tr>\n",
              "      <td>0</td>\n",
              "      <td>0.257867</td>\n",
              "      <td>1.362369</td>\n",
              "      <td>0.803550</td>\n",
              "      <td>03:13</td>\n",
              "    </tr>\n",
              "    <tr>\n",
              "      <td>1</td>\n",
              "      <td>0.319095</td>\n",
              "      <td>1.354300</td>\n",
              "      <td>0.790533</td>\n",
              "      <td>03:31</td>\n",
              "    </tr>\n",
              "    <tr>\n",
              "      <td>2</td>\n",
              "      <td>0.249937</td>\n",
              "      <td>1.308148</td>\n",
              "      <td>0.802367</td>\n",
              "      <td>03:31</td>\n",
              "    </tr>\n",
              "    <tr>\n",
              "      <td>3</td>\n",
              "      <td>0.218417</td>\n",
              "      <td>1.293644</td>\n",
              "      <td>0.801183</td>\n",
              "      <td>03:17</td>\n",
              "    </tr>\n",
              "  </tbody>\n",
              "</table>"
            ],
            "text/plain": [
              "<IPython.core.display.HTML object>"
            ]
          },
          "metadata": {
            "tags": []
          }
        }
      ]
    },
    {
      "cell_type": "code",
      "metadata": {
        "id": "KKydb0B4BKGk",
        "outputId": "2e4ea515-205c-416b-deea-4724bb5f3a6e",
        "colab": {
          "base_uri": "https://localhost:8080/",
          "height": 173
        }
      },
      "source": [
        "learn.fit_one_cycle(4, slice(2e-3/100, 2e-3))"
      ],
      "execution_count": 39,
      "outputs": [
        {
          "output_type": "display_data",
          "data": {
            "text/html": [
              "<table border=\"1\" class=\"dataframe\">\n",
              "  <thead>\n",
              "    <tr style=\"text-align: left;\">\n",
              "      <th>epoch</th>\n",
              "      <th>train_loss</th>\n",
              "      <th>valid_loss</th>\n",
              "      <th>accuracy</th>\n",
              "      <th>time</th>\n",
              "    </tr>\n",
              "  </thead>\n",
              "  <tbody>\n",
              "    <tr>\n",
              "      <td>0</td>\n",
              "      <td>0.209840</td>\n",
              "      <td>1.304806</td>\n",
              "      <td>0.801183</td>\n",
              "      <td>03:34</td>\n",
              "    </tr>\n",
              "    <tr>\n",
              "      <td>1</td>\n",
              "      <td>0.279497</td>\n",
              "      <td>1.428750</td>\n",
              "      <td>0.795266</td>\n",
              "      <td>03:41</td>\n",
              "    </tr>\n",
              "    <tr>\n",
              "      <td>2</td>\n",
              "      <td>0.243027</td>\n",
              "      <td>1.315987</td>\n",
              "      <td>0.807101</td>\n",
              "      <td>03:29</td>\n",
              "    </tr>\n",
              "    <tr>\n",
              "      <td>3</td>\n",
              "      <td>0.209800</td>\n",
              "      <td>1.333722</td>\n",
              "      <td>0.798817</td>\n",
              "      <td>03:37</td>\n",
              "    </tr>\n",
              "  </tbody>\n",
              "</table>"
            ],
            "text/plain": [
              "<IPython.core.display.HTML object>"
            ]
          },
          "metadata": {
            "tags": []
          }
        }
      ]
    },
    {
      "cell_type": "code",
      "metadata": {
        "id": "T2APKtFKBpGY",
        "outputId": "5a0fef21-c1d5-4220-9cb1-cbf36c5b6e63",
        "colab": {
          "base_uri": "https://localhost:8080/",
          "height": 173
        }
      },
      "source": [
        "learn.fit_one_cycle(4, slice(2e-3/100, 2e-3))"
      ],
      "execution_count": 40,
      "outputs": [
        {
          "output_type": "display_data",
          "data": {
            "text/html": [
              "<table border=\"1\" class=\"dataframe\">\n",
              "  <thead>\n",
              "    <tr style=\"text-align: left;\">\n",
              "      <th>epoch</th>\n",
              "      <th>train_loss</th>\n",
              "      <th>valid_loss</th>\n",
              "      <th>accuracy</th>\n",
              "      <th>time</th>\n",
              "    </tr>\n",
              "  </thead>\n",
              "  <tbody>\n",
              "    <tr>\n",
              "      <td>0</td>\n",
              "      <td>0.223140</td>\n",
              "      <td>1.350861</td>\n",
              "      <td>0.801183</td>\n",
              "      <td>03:15</td>\n",
              "    </tr>\n",
              "    <tr>\n",
              "      <td>1</td>\n",
              "      <td>0.240954</td>\n",
              "      <td>1.349093</td>\n",
              "      <td>0.798817</td>\n",
              "      <td>03:24</td>\n",
              "    </tr>\n",
              "    <tr>\n",
              "      <td>2</td>\n",
              "      <td>0.229958</td>\n",
              "      <td>1.325502</td>\n",
              "      <td>0.811834</td>\n",
              "      <td>03:36</td>\n",
              "    </tr>\n",
              "    <tr>\n",
              "      <td>3</td>\n",
              "      <td>0.193937</td>\n",
              "      <td>1.361184</td>\n",
              "      <td>0.808284</td>\n",
              "      <td>03:28</td>\n",
              "    </tr>\n",
              "  </tbody>\n",
              "</table>"
            ],
            "text/plain": [
              "<IPython.core.display.HTML object>"
            ]
          },
          "metadata": {
            "tags": []
          }
        }
      ]
    },
    {
      "cell_type": "code",
      "metadata": {
        "id": "qtTypA1sPgLU",
        "outputId": "89cdc658-d7f2-4424-9e51-e4c7e1b23ceb",
        "colab": {
          "base_uri": "https://localhost:8080/",
          "height": 111
        }
      },
      "source": [
        "learn.fit_one_cycle(2, slice(2e-3/100, 2e-3))"
      ],
      "execution_count": 41,
      "outputs": [
        {
          "output_type": "display_data",
          "data": {
            "text/html": [
              "<table border=\"1\" class=\"dataframe\">\n",
              "  <thead>\n",
              "    <tr style=\"text-align: left;\">\n",
              "      <th>epoch</th>\n",
              "      <th>train_loss</th>\n",
              "      <th>valid_loss</th>\n",
              "      <th>accuracy</th>\n",
              "      <th>time</th>\n",
              "    </tr>\n",
              "  </thead>\n",
              "  <tbody>\n",
              "    <tr>\n",
              "      <td>0</td>\n",
              "      <td>0.196885</td>\n",
              "      <td>1.460974</td>\n",
              "      <td>0.804734</td>\n",
              "      <td>03:27</td>\n",
              "    </tr>\n",
              "    <tr>\n",
              "      <td>1</td>\n",
              "      <td>0.183523</td>\n",
              "      <td>1.437552</td>\n",
              "      <td>0.798817</td>\n",
              "      <td>03:33</td>\n",
              "    </tr>\n",
              "  </tbody>\n",
              "</table>"
            ],
            "text/plain": [
              "<IPython.core.display.HTML object>"
            ]
          },
          "metadata": {
            "tags": []
          }
        }
      ]
    },
    {
      "cell_type": "code",
      "metadata": {
        "id": "b242kBsTUp9Y",
        "outputId": "cb20d7e2-5610-4b03-9630-cb7f99428e3e",
        "colab": {
          "base_uri": "https://localhost:8080/",
          "height": 111
        }
      },
      "source": [
        "learn.fit_one_cycle(2, slice(2e-3/100, 2e-3))"
      ],
      "execution_count": 42,
      "outputs": [
        {
          "output_type": "display_data",
          "data": {
            "text/html": [
              "<table border=\"1\" class=\"dataframe\">\n",
              "  <thead>\n",
              "    <tr style=\"text-align: left;\">\n",
              "      <th>epoch</th>\n",
              "      <th>train_loss</th>\n",
              "      <th>valid_loss</th>\n",
              "      <th>accuracy</th>\n",
              "      <th>time</th>\n",
              "    </tr>\n",
              "  </thead>\n",
              "  <tbody>\n",
              "    <tr>\n",
              "      <td>0</td>\n",
              "      <td>0.215325</td>\n",
              "      <td>1.414734</td>\n",
              "      <td>0.800000</td>\n",
              "      <td>03:41</td>\n",
              "    </tr>\n",
              "    <tr>\n",
              "      <td>1</td>\n",
              "      <td>0.197482</td>\n",
              "      <td>1.385448</td>\n",
              "      <td>0.802367</td>\n",
              "      <td>03:36</td>\n",
              "    </tr>\n",
              "  </tbody>\n",
              "</table>"
            ],
            "text/plain": [
              "<IPython.core.display.HTML object>"
            ]
          },
          "metadata": {
            "tags": []
          }
        }
      ]
    },
    {
      "cell_type": "code",
      "metadata": {
        "id": "Duwf1Ih5VeDZ",
        "outputId": "a505eb4d-fd4a-48a3-efee-425728decb37",
        "colab": {
          "base_uri": "https://localhost:8080/",
          "height": 80
        }
      },
      "source": [
        "learn.fit_one_cycle(1, slice(2e-3/100, 2e-3))"
      ],
      "execution_count": 43,
      "outputs": [
        {
          "output_type": "display_data",
          "data": {
            "text/html": [
              "<table border=\"1\" class=\"dataframe\">\n",
              "  <thead>\n",
              "    <tr style=\"text-align: left;\">\n",
              "      <th>epoch</th>\n",
              "      <th>train_loss</th>\n",
              "      <th>valid_loss</th>\n",
              "      <th>accuracy</th>\n",
              "      <th>time</th>\n",
              "    </tr>\n",
              "  </thead>\n",
              "  <tbody>\n",
              "    <tr>\n",
              "      <td>0</td>\n",
              "      <td>0.194634</td>\n",
              "      <td>1.361800</td>\n",
              "      <td>0.810651</td>\n",
              "      <td>03:39</td>\n",
              "    </tr>\n",
              "  </tbody>\n",
              "</table>"
            ],
            "text/plain": [
              "<IPython.core.display.HTML object>"
            ]
          },
          "metadata": {
            "tags": []
          }
        }
      ]
    },
    {
      "cell_type": "code",
      "metadata": {
        "id": "c65d-osfDUXm"
      },
      "source": [
        "# save the best model\n",
        "\n",
        "learn.save_encoder('pubmed_ask_mixed_fold0')"
      ],
      "execution_count": 44,
      "outputs": []
    },
    {
      "cell_type": "markdown",
      "metadata": {
        "id": "rCwZU0E2RgM6"
      },
      "source": [
        "# Part three: Predict on the test dataset"
      ]
    },
    {
      "cell_type": "code",
      "metadata": {
        "id": "gDm72c-dOu7d",
        "outputId": "a0e6af7d-0e92-4a28-f38a-a28e28decb9b",
        "colab": {
          "base_uri": "https://localhost:8080/",
          "height": 17
        }
      },
      "source": [
        "# use the test data for prediction\n",
        "\n",
        "preds, y = learn.get_preds(DatasetType.Test)"
      ],
      "execution_count": 45,
      "outputs": [
        {
          "output_type": "display_data",
          "data": {
            "text/html": [
              ""
            ],
            "text/plain": [
              "<IPython.core.display.HTML object>"
            ]
          },
          "metadata": {
            "tags": []
          }
        }
      ]
    },
    {
      "cell_type": "code",
      "metadata": {
        "id": "6tFSQcsWPvxn",
        "outputId": "2084809a-36d4-4416-ee69-42f22ec272bc",
        "colab": {
          "base_uri": "https://localhost:8080/",
          "height": 105
        }
      },
      "source": [
        "predictions, *_ = learn.get_preds(DatasetType.Test)\n",
        "labels = np.argmax(predictions, 1)\n",
        "predict_list = labels.tolist()\n",
        "standard_list = test[0].tolist()\n",
        "\n",
        "print(len(predict_list))\n",
        "print(len(standard_list))\n",
        "\n",
        "print(predict_list)\n",
        "print(standard_list)"
      ],
      "execution_count": 46,
      "outputs": [
        {
          "output_type": "display_data",
          "data": {
            "text/html": [
              ""
            ],
            "text/plain": [
              "<IPython.core.display.HTML object>"
            ]
          },
          "metadata": {
            "tags": []
          }
        },
        {
          "output_type": "stream",
          "text": [
            "867\n",
            "867\n",
            "[49, 2, 343, 428, 5, 8, 8, 8, 8, 8, 8, 8, 509, 5, 625, 22, 405, 27, 27, 542, 29, 73, 211, 30, 31, 31, 32, 34, 34, 37, 37, 77, 37, 37, 37, 37, 218, 44, 537, 49, 49, 49, 49, 49, 49, 49, 49, 49, 49, 49, 49, 49, 49, 49, 53, 830, 58, 623, 71, 71, 74, 76, 76, 633, 79, 79, 79, 614, 379, 900, 79, 79, 79, 79, 79, 79, 79, 79, 79, 79, 79, 79, 79, 79, 79, 79, 79, 79, 79, 79, 79, 79, 79, 79, 79, 525, 111, 289, 79, 79, 80, 80, 80, 80, 80, 80, 80, 80, 80, 88, 89, 268, 137, 90, 91, 92, 94, 94, 94, 94, 94, 94, 94, 94, 96, 96, 98, 683, 98, 320, 887, 100, 100, 100, 100, 100, 100, 100, 100, 291, 337, 108, 660, 108, 636, 873, 111, 111, 111, 279, 111, 698, 117, 120, 1009, 1009, 122, 125, 900, 125, 125, 125, 125, 125, 125, 125, 125, 125, 777, 127, 129, 622, 745, 142, 142, 144, 794, 827, 151, 151, 899, 144, 157, 158, 165, 165, 166, 166, 166, 405, 172, 172, 172, 172, 172, 172, 172, 689, 389, 182, 182, 182, 182, 182, 183, 183, 183, 183, 183, 183, 183, 183, 183, 183, 183, 183, 183, 184, 184, 185, 187, 187, 187, 189, 189, 190, 190, 190, 190, 190, 190, 193, 34, 197, 205, 81, 210, 210, 210, 471, 214, 214, 214, 471, 214, 214, 214, 214, 214, 214, 214, 214, 214, 488, 900, 588, 634, 218, 220, 220, 220, 220, 220, 222, 226, 228, 228, 228, 228, 228, 228, 228, 228, 228, 544, 234, 234, 235, 708, 588, 770, 71, 900, 588, 243, 243, 243, 243, 243, 244, 245, 245, 245, 764, 245, 245, 245, 900, 245, 786, 246, 246, 246, 43, 254, 254, 259, 260, 905, 262, 265, 130, 265, 265, 419, 265, 402, 265, 265, 265, 265, 265, 265, 265, 265, 265, 265, 265, 265, 265, 265, 265, 265, 265, 265, 268, 137, 137, 269, 143, 900, 276, 379, 299, 289, 289, 289, 289, 289, 419, 696, 289, 289, 289, 289, 289, 636, 289, 289, 289, 289, 289, 651, 364, 291, 289, 877, 887, 300, 300, 265, 301, 163, 397, 308, 309, 309, 309, 309, 310, 310, 750, 642, 318, 318, 359, 79, 146, 749, 321, 375, 298, 323, 235, 325, 235, 235, 235, 235, 235, 235, 235, 235, 235, 74, 1032, 235, 235, 326, 430, 313, 334, 335, 336, 337, 337, 337, 337, 338, 343, 144, 843, 359, 359, 360, 360, 363, 363, 289, 775, 364, 364, 578, 43, 161, 86, 396, 402, 402, 405, 159, 418, 419, 419, 419, 419, 419, 419, 471, 419, 419, 76, 736, 426, 426, 427, 46, 427, 427, 427, 427, 427, 900, 900, 737, 427, 479, 591, 736, 430, 434, 434, 435, 443, 444, 444, 444, 900, 455, 231, 463, 524, 474, 475, 475, 475, 591, 158, 744, 689, 489, 491, 491, 748, 491, 492, 492, 499, 32, 162, 509, 905, 516, 517, 900, 517, 521, 524, 900, 862, 530, 530, 530, 530, 98, 535, 541, 541, 591, 291, 546, 548, 548, 548, 548, 548, 548, 111, 190, 567, 301, 58, 70, 579, 579, 584, 586, 289, 590, 590, 325, 592, 595, 597, 900, 707, 598, 704, 37, 607, 608, 610, 610, 610, 321, 76, 130, 614, 614, 619, 619, 619, 623, 318, 419, 633, 633, 245, 644, 644, 646, 646, 646, 646, 646, 262, 367, 651, 652, 652, 652, 652, 652, 652, 662, 662, 662, 662, 29, 437, 437, 666, 403, 677, 748, 822, 686, 162, 720, 202, 693, 698, 651, 651, 190, 190, 707, 710, 711, 594, 731, 677, 577, 289, 745, 746, 746, 746, 98, 746, 749, 753, 753, 600, 162, 773, 775, 100, 775, 775, 502, 787, 591, 780, 783, 804, 805, 428, 267, 809, 809, 809, 809, 98, 810, 45, 815, 537, 824, 377, 826, 828, 829, 830, 43, 830, 830, 830, 830, 834, 840, 840, 726, 847, 847, 847, 847, 808, 540, 852, 852, 853, 853, 853, 853, 853, 853, 905, 859, 864, 111, 130, 865, 778, 426, 868, 900, 874, 245, 245, 61, 892, 896, 896, 896, 896, 896, 504, 898, 902, 117, 905, 906, 466, 822, 917, 919, 1019, 900, 207, 488, 933, 936, 937, 937, 937, 937, 937, 937, 937, 941, 572, 944, 1000, 900, 949, 949, 949, 949, 949, 949, 949, 949, 949, 949, 949, 949, 949, 949, 949, 949, 949, 949, 949, 949, 949, 949, 949, 949, 949, 949, 949, 949, 949, 949, 949, 949, 949, 949, 949, 949, 949, 949, 949, 949, 949, 949, 949, 949, 949, 949, 949, 949, 949, 949, 949, 949, 949, 949, 949, 949, 949, 949, 949, 949, 949, 949, 949, 949, 949, 949, 949, 949, 949, 949, 905, 900, 949, 949, 949, 949, 949, 949, 949, 949, 949, 949, 949, 949, 949, 949, 949, 949, 949, 949, 949, 949, 949, 949, 949, 949, 949, 949, 949, 949, 949, 949, 949, 949, 949, 949, 949, 949, 949, 405, 950, 950, 950, 950, 952, 952, 955, 956, 956, 964, 964, 967, 967, 967, 977, 900, 1001, 1001, 1002, 1031, 1017, 1020, 1019, 1022, 1026, 1026, 1028, 1028, 1028, 1028, 92, 1035]\n",
            "[0, 2, 3, 5, 5, 8, 8, 8, 8, 8, 8, 8, 14, 18, 21, 22, 22, 27, 27, 28, 29, 30, 30, 30, 31, 31, 32, 34, 34, 37, 37, 37, 37, 37, 37, 37, 38, 44, 47, 49, 49, 49, 49, 49, 49, 49, 49, 49, 49, 49, 49, 49, 49, 49, 53, 53, 58, 61, 71, 71, 74, 76, 76, 77, 79, 79, 79, 79, 79, 79, 79, 79, 79, 79, 79, 79, 79, 79, 79, 79, 79, 79, 79, 79, 79, 79, 79, 79, 79, 79, 79, 79, 79, 79, 79, 79, 79, 79, 79, 79, 80, 80, 80, 80, 80, 80, 80, 80, 80, 88, 89, 89, 89, 90, 91, 92, 94, 94, 94, 94, 94, 94, 94, 94, 96, 96, 98, 98, 98, 100, 100, 100, 100, 100, 100, 100, 100, 100, 100, 101, 102, 108, 108, 108, 109, 111, 111, 111, 111, 111, 111, 111, 117, 120, 120, 120, 122, 125, 125, 125, 125, 125, 125, 125, 125, 125, 125, 125, 125, 127, 129, 131, 132, 142, 142, 144, 150, 150, 151, 151, 153, 157, 157, 158, 165, 165, 166, 166, 166, 168, 172, 172, 172, 172, 172, 172, 172, 180, 182, 182, 182, 182, 182, 182, 183, 183, 183, 183, 183, 183, 183, 183, 183, 183, 183, 183, 183, 184, 184, 185, 187, 187, 187, 189, 189, 190, 190, 190, 190, 190, 190, 193, 197, 197, 205, 210, 210, 210, 210, 214, 214, 214, 214, 214, 214, 214, 214, 214, 214, 214, 214, 214, 214, 216, 216, 218, 218, 218, 220, 220, 220, 220, 220, 222, 226, 228, 228, 228, 228, 228, 228, 228, 228, 228, 229, 234, 234, 235, 238, 238, 238, 240, 243, 243, 243, 243, 243, 243, 243, 244, 245, 245, 245, 245, 245, 245, 245, 245, 245, 246, 246, 246, 246, 249, 254, 254, 259, 260, 261, 262, 265, 265, 265, 265, 265, 265, 265, 265, 265, 265, 265, 265, 265, 265, 265, 265, 265, 265, 265, 265, 265, 265, 265, 265, 265, 268, 268, 268, 269, 270, 271, 276, 277, 288, 289, 289, 289, 289, 289, 289, 289, 289, 289, 289, 289, 289, 289, 289, 289, 289, 289, 289, 289, 289, 291, 293, 295, 299, 300, 300, 301, 301, 301, 304, 308, 309, 309, 309, 309, 309, 309, 317, 318, 318, 318, 318, 318, 318, 320, 321, 321, 323, 323, 325, 325, 325, 325, 325, 325, 325, 325, 325, 325, 325, 325, 325, 325, 325, 326, 327, 333, 334, 335, 336, 337, 337, 337, 337, 338, 343, 344, 347, 359, 359, 360, 360, 363, 363, 364, 364, 364, 364, 365, 380, 388, 392, 396, 402, 402, 405, 416, 418, 419, 419, 419, 419, 419, 419, 419, 419, 419, 419, 424, 426, 426, 427, 427, 427, 427, 427, 427, 427, 427, 427, 427, 427, 427, 427, 428, 430, 433, 434, 435, 443, 444, 444, 444, 455, 455, 455, 462, 465, 474, 475, 475, 475, 475, 476, 482, 483, 489, 491, 491, 491, 491, 492, 492, 499, 505, 509, 509, 516, 516, 517, 517, 517, 521, 524, 527, 529, 530, 530, 530, 530, 531, 535, 541, 541, 543, 543, 546, 548, 548, 548, 548, 548, 548, 565, 566, 567, 577, 577, 578, 579, 579, 584, 586, 588, 590, 590, 591, 592, 595, 597, 597, 598, 598, 606, 606, 607, 608, 610, 610, 610, 611, 614, 614, 614, 614, 619, 619, 619, 623, 623, 624, 633, 633, 638, 644, 644, 646, 646, 646, 646, 646, 648, 648, 651, 652, 652, 652, 652, 652, 652, 662, 662, 662, 662, 663, 663, 663, 666, 669, 681, 683, 686, 686, 687, 689, 693, 693, 698, 700, 700, 701, 703, 707, 710, 711, 715, 718, 731, 733, 741, 745, 746, 746, 746, 746, 746, 749, 753, 753, 756, 763, 771, 775, 775, 775, 775, 782, 787, 794, 794, 800, 804, 805, 805, 807, 809, 809, 809, 809, 810, 810, 813, 815, 816, 824, 826, 826, 828, 829, 830, 830, 830, 830, 830, 830, 834, 840, 840, 840, 847, 847, 847, 847, 847, 847, 852, 852, 853, 853, 853, 853, 853, 853, 853, 861, 864, 864, 864, 865, 865, 867, 868, 871, 874, 876, 876, 888, 892, 896, 896, 896, 896, 896, 896, 898, 902, 903, 905, 906, 908, 916, 917, 919, 919, 920, 929, 931, 933, 936, 937, 937, 937, 937, 937, 937, 937, 941, 941, 944, 947, 948, 949, 949, 949, 949, 949, 949, 949, 949, 949, 949, 949, 949, 949, 949, 949, 949, 949, 949, 949, 949, 949, 949, 949, 949, 949, 949, 949, 949, 949, 949, 949, 949, 949, 949, 949, 949, 949, 949, 949, 949, 949, 949, 949, 949, 949, 949, 949, 949, 949, 949, 949, 949, 949, 949, 949, 949, 949, 949, 949, 949, 949, 949, 949, 949, 949, 949, 949, 949, 949, 949, 949, 949, 949, 949, 949, 949, 949, 949, 949, 949, 949, 949, 949, 949, 949, 949, 949, 949, 949, 949, 949, 949, 949, 949, 949, 949, 949, 949, 949, 949, 949, 949, 949, 949, 949, 949, 949, 949, 949, 949, 950, 950, 950, 950, 952, 952, 955, 956, 956, 964, 964, 967, 967, 967, 977, 1000, 1001, 1001, 1002, 1011, 1017, 1020, 1020, 1022, 1026, 1026, 1028, 1028, 1028, 1028, 1030, 1035]\n"
          ],
          "name": "stdout"
        }
      ]
    },
    {
      "cell_type": "code",
      "metadata": {
        "id": "XIC4zufnMxtq",
        "outputId": "c6e0f127-f4c7-47c3-c880-14da8edd8452",
        "colab": {
          "base_uri": "https://localhost:8080/"
        }
      },
      "source": [
        "correct_num = 0\n",
        "\n",
        "for i in range(0, len(standard_list)):\n",
        "  if predict_list[i] == standard_list[i]:\n",
        "    correct_num = correct_num+1\n",
        "  else:\n",
        "    pass\n",
        "print(correct_num)\n",
        "\n",
        "predict_accuracy = correct_num/len(predict_list)\n",
        "print(predict_accuracy)"
      ],
      "execution_count": 47,
      "outputs": [
        {
          "output_type": "stream",
          "text": [
            "631\n",
            "0.7277970011534025\n"
          ],
          "name": "stdout"
        }
      ]
    },
    {
      "cell_type": "code",
      "metadata": {
        "id": "zlKMHp1CIaRJ"
      },
      "source": [
        ""
      ],
      "execution_count": 47,
      "outputs": []
    }
  ]
}