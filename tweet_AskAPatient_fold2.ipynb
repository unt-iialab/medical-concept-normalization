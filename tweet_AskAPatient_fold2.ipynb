{
  "nbformat": 4,
  "nbformat_minor": 0,
  "metadata": {
    "colab": {
      "name": "tweet-AskAPatient-fold2.ipynb",
      "version": "0.3.2",
      "provenance": [],
      "collapsed_sections": [],
      "include_colab_link": true
    },
    "kernelspec": {
      "name": "python3",
      "display_name": "Python 3"
    },
    "accelerator": "GPU"
  },
  "cells": [
    {
      "cell_type": "markdown",
      "metadata": {
        "id": "view-in-github",
        "colab_type": "text"
      },
      "source": [
        "<a href=\"https://colab.research.google.com/github/unt-iialab/medical-concept-normalization/blob/master/tweet_AskAPatient_fold2.ipynb\" target=\"_parent\"><img src=\"https://colab.research.google.com/assets/colab-badge.svg\" alt=\"Open In Colab\"/></a>"
      ]
    },
    {
      "metadata": {
        "id": "uujQf-gi9NAo",
        "colab_type": "code",
        "colab": {}
      },
      "cell_type": "code",
      "source": [
        "#  !curl https://course-v3.fast.ai/setup/colab | bash"
      ],
      "execution_count": 0,
      "outputs": []
    },
    {
      "metadata": {
        "id": "Jd3oXfXw-GGT",
        "colab_type": "code",
        "colab": {}
      },
      "cell_type": "code",
      "source": [
        "# !git clone https://github.com/wshuyi/demo-nlp-classification-fastai.git"
      ],
      "execution_count": 0,
      "outputs": []
    },
    {
      "metadata": {
        "id": "MdLbzSQo-MMc",
        "colab_type": "code",
        "colab": {}
      },
      "cell_type": "code",
      "source": [
        "# !wget https://s3.amazonaws.com/fast-ai-nlp/yelp_review_polarity_csv.tgz"
      ],
      "execution_count": 0,
      "outputs": []
    },
    {
      "metadata": {
        "id": "ZdefCrht-YTU",
        "colab_type": "code",
        "colab": {}
      },
      "cell_type": "code",
      "source": [
        "# !tar -xvzf yelp_review_polarity_csv.tgz"
      ],
      "execution_count": 0,
      "outputs": []
    },
    {
      "metadata": {
        "id": "AAk0k5Dv6xuC",
        "colab_type": "code",
        "colab": {}
      },
      "cell_type": "code",
      "source": [
        "# !pip install dataclasses"
      ],
      "execution_count": 0,
      "outputs": []
    },
    {
      "metadata": {
        "id": "HIA4F-6B-x3r",
        "colab_type": "code",
        "colab": {}
      },
      "cell_type": "code",
      "source": [
        "from fastai import *\n",
        "from fastai.text import *"
      ],
      "execution_count": 0,
      "outputs": []
    },
    {
      "metadata": {
        "id": "uffRXqAj-2Nj",
        "colab_type": "code",
        "colab": {}
      },
      "cell_type": "code",
      "source": [
        "path = Path('yelp_review_polarity_csv')"
      ],
      "execution_count": 0,
      "outputs": []
    },
    {
      "metadata": {
        "id": "R8HpjEi4-6Mc",
        "colab_type": "code",
        "outputId": "d0130b40-e46f-47fd-ed47-388e2b87e4bf",
        "colab": {
          "base_uri": "https://localhost:8080/",
          "height": 139
        }
      },
      "cell_type": "code",
      "source": [
        "train_csv = path/'AskAPatient.fold-2.train.csv'\n",
        "train = pd.read_csv(train_csv, header=None)\n",
        "train.head()\n",
        "train.info()"
      ],
      "execution_count": 0,
      "outputs": [
        {
          "output_type": "stream",
          "text": [
            "<class 'pandas.core.frame.DataFrame'>\n",
            "RangeIndex: 15700 entries, 0 to 15699\n",
            "Data columns (total 2 columns):\n",
            "0    15700 non-null int64\n",
            "1    15700 non-null object\n",
            "dtypes: int64(1), object(1)\n",
            "memory usage: 245.4+ KB\n"
          ],
          "name": "stdout"
        }
      ]
    },
    {
      "metadata": {
        "id": "9Sdg3ut4mNPk",
        "colab_type": "code",
        "outputId": "45afb106-f64b-4cbc-ffe2-a2dc23d04905",
        "colab": {
          "base_uri": "https://localhost:8080/",
          "height": 206
        }
      },
      "cell_type": "code",
      "source": [
        "train.head()"
      ],
      "execution_count": 0,
      "outputs": [
        {
          "output_type": "execute_result",
          "data": {
            "text/html": [
              "<div>\n",
              "<style scoped>\n",
              "    .dataframe tbody tr th:only-of-type {\n",
              "        vertical-align: middle;\n",
              "    }\n",
              "\n",
              "    .dataframe tbody tr th {\n",
              "        vertical-align: top;\n",
              "    }\n",
              "\n",
              "    .dataframe thead th {\n",
              "        text-align: right;\n",
              "    }\n",
              "</style>\n",
              "<table border=\"1\" class=\"dataframe\">\n",
              "  <thead>\n",
              "    <tr style=\"text-align: right;\">\n",
              "      <th></th>\n",
              "      <th>0</th>\n",
              "      <th>1</th>\n",
              "    </tr>\n",
              "  </thead>\n",
              "  <tbody>\n",
              "    <tr>\n",
              "      <th>0</th>\n",
              "      <td>0</td>\n",
              "      <td>'scared' feeling</td>\n",
              "    </tr>\n",
              "    <tr>\n",
              "      <th>1</th>\n",
              "      <td>0</td>\n",
              "      <td>Fear</td>\n",
              "    </tr>\n",
              "    <tr>\n",
              "      <th>2</th>\n",
              "      <td>0</td>\n",
              "      <td>Fear</td>\n",
              "    </tr>\n",
              "    <tr>\n",
              "      <th>3</th>\n",
              "      <td>0</td>\n",
              "      <td>Fear</td>\n",
              "    </tr>\n",
              "    <tr>\n",
              "      <th>4</th>\n",
              "      <td>0</td>\n",
              "      <td>fear</td>\n",
              "    </tr>\n",
              "  </tbody>\n",
              "</table>\n",
              "</div>"
            ],
            "text/plain": [
              "   0                 1\n",
              "0  0  'scared' feeling\n",
              "1  0              Fear\n",
              "2  0              Fear\n",
              "3  0              Fear\n",
              "4  0              fear"
            ]
          },
          "metadata": {
            "tags": []
          },
          "execution_count": 9
        }
      ]
    },
    {
      "metadata": {
        "id": "Ze2L-9gpmZax",
        "colab_type": "code",
        "colab": {}
      },
      "cell_type": "code",
      "source": [
        "#train.columns = ['label', 'text']"
      ],
      "execution_count": 0,
      "outputs": []
    },
    {
      "metadata": {
        "id": "LdhxDRPsmQh9",
        "colab_type": "code",
        "colab": {}
      },
      "cell_type": "code",
      "source": [
        "#train.text.unique()"
      ],
      "execution_count": 0,
      "outputs": []
    },
    {
      "metadata": {
        "id": "rvvAz165miT-",
        "colab_type": "code",
        "colab": {}
      },
      "cell_type": "code",
      "source": [
        "#train[train.text=='']"
      ],
      "execution_count": 0,
      "outputs": []
    },
    {
      "metadata": {
        "id": "dBC6MkeOnQrF",
        "colab_type": "code",
        "colab": {}
      },
      "cell_type": "code",
      "source": [
        "#train[train.label.isnull()]"
      ],
      "execution_count": 0,
      "outputs": []
    },
    {
      "metadata": {
        "id": "lR04uHjW_EmR",
        "colab_type": "code",
        "colab": {}
      },
      "cell_type": "code",
      "source": [
        "#train.iloc[0][1]"
      ],
      "execution_count": 0,
      "outputs": []
    },
    {
      "metadata": {
        "id": "5lrJx5gt_GSx",
        "colab_type": "code",
        "colab": {}
      },
      "cell_type": "code",
      "source": [
        "data_lm = TextLMDataBunch.from_csv(path, 'AskAPatient-train-all.csv')"
      ],
      "execution_count": 0,
      "outputs": []
    },
    {
      "metadata": {
        "id": "CxdvgBwP_PbH",
        "colab_type": "code",
        "colab": {}
      },
      "cell_type": "code",
      "source": [
        "# data_clas = TextClasDataBunch.from_csv(path, 'tweet_train.csv', vocab=data_lm.train_ds.vocab, bs=32)"
      ],
      "execution_count": 0,
      "outputs": []
    },
    {
      "metadata": {
        "id": "4G3wyPOPqxeh",
        "colab_type": "code",
        "colab": {}
      },
      "cell_type": "code",
      "source": [
        "valid = pd.read_csv(path/\"AskAPatient.fold-2.validation.csv\")"
      ],
      "execution_count": 0,
      "outputs": []
    },
    {
      "metadata": {
        "id": "I0KceTqfrAI8",
        "colab_type": "code",
        "colab": {}
      },
      "cell_type": "code",
      "source": [
        "data_clas = TextClasDataBunch.from_df(path, train, valid, vocab=data_lm.train_ds.vocab, bs=32)"
      ],
      "execution_count": 0,
      "outputs": []
    },
    {
      "metadata": {
        "id": "NNkv7pjL_WPe",
        "colab_type": "code",
        "colab": {}
      },
      "cell_type": "code",
      "source": [
        "data_lm.save()\n",
        "data_clas.save()"
      ],
      "execution_count": 0,
      "outputs": []
    },
    {
      "metadata": {
        "id": "-hHLnkgN_d-j",
        "colab_type": "code",
        "outputId": "1d7915d6-9940-4d2b-e307-955489642696",
        "colab": {
          "base_uri": "https://localhost:8080/",
          "height": 17401
        }
      },
      "cell_type": "code",
      "source": [
        "data_lm.train_ds.vocab.itos"
      ],
      "execution_count": 0,
      "outputs": [
        {
          "output_type": "execute_result",
          "data": {
            "text/plain": [
              "['xxunk',\n",
              " 'xxpad',\n",
              " 'xxbos',\n",
              " 'xxfld',\n",
              " 'xxmaj',\n",
              " 'xxup',\n",
              " 'xxrep',\n",
              " 'xxwrep',\n",
              " '1',\n",
              " 'pain',\n",
              " 'lipitor',\n",
              " 'in',\n",
              " 'muscle',\n",
              " 'of',\n",
              " 'severe',\n",
              " 'myalgia',\n",
              " 'my',\n",
              " 'to',\n",
              " 'fatigue',\n",
              " 'lower',\n",
              " 'loss',\n",
              " 'and',\n",
              " 'weakness',\n",
              " 'cramp',\n",
              " 'limb',\n",
              " 'stomach',\n",
              " '-',\n",
              " 'depression',\n",
              " 'back',\n",
              " 'cramps',\n",
              " 'upper',\n",
              " 'gas',\n",
              " 'joint',\n",
              " 'memory',\n",
              " 'leg',\n",
              " 'the',\n",
              " 'legs',\n",
              " 'pains',\n",
              " 'unable',\n",
              " 'headache',\n",
              " 'shoulder',\n",
              " 'arthralgia',\n",
              " 'knee',\n",
              " 'neck',\n",
              " 'excessive',\n",
              " 'foot',\n",
              " 'aches',\n",
              " 'gastrointestinal',\n",
              " 'numbness',\n",
              " 'hip',\n",
              " 'insomnia',\n",
              " 'arthritis',\n",
              " '/',\n",
              " 'arthrotec',\n",
              " 'nausea',\n",
              " 'bleeding',\n",
              " 'asthenia',\n",
              " 'disease',\n",
              " 'walk',\n",
              " 'tired',\n",
              " 'dizziness',\n",
              " 'abdominal',\n",
              " 'feeling',\n",
              " 'feet',\n",
              " 'heart',\n",
              " 'like',\n",
              " 'walking',\n",
              " 'problems',\n",
              " 'difficulty',\n",
              " 'chest',\n",
              " 'muscles',\n",
              " 'swelling',\n",
              " 'hand',\n",
              " 'hair',\n",
              " 'ache',\n",
              " 'vision',\n",
              " 'backache',\n",
              " 'burning',\n",
              " 'extreme',\n",
              " 'zocor',\n",
              " 'stiffness',\n",
              " 'all',\n",
              " 'pins',\n",
              " 'needles',\n",
              " 'increased',\n",
              " 'diarrhoea',\n",
              " 'amnesia',\n",
              " 'cramping',\n",
              " 'sleep',\n",
              " 'skin',\n",
              " 'liver',\n",
              " 'calf',\n",
              " 'impairment',\n",
              " 'a',\n",
              " 'weight',\n",
              " 'cholesterol',\n",
              " 'tingling',\n",
              " 'very',\n",
              " 'disability',\n",
              " 'not',\n",
              " 'left',\n",
              " 'anxiety',\n",
              " 'symptom',\n",
              " 'stiff',\n",
              " 'bloating',\n",
              " 'blood',\n",
              " 'could',\n",
              " 'short',\n",
              " 'lack',\n",
              " 'low',\n",
              " 'constipation',\n",
              " 'term',\n",
              " 'high',\n",
              " 'poor',\n",
              " 'blurred',\n",
              " 'disorder',\n",
              " 'hands',\n",
              " 'arm',\n",
              " 'neuropathy',\n",
              " 'sore',\n",
              " 'voltaren',\n",
              " 'balance',\n",
              " 'headaches',\n",
              " 'arms',\n",
              " 'on',\n",
              " 'pressure',\n",
              " 'ankle',\n",
              " 'pravachol',\n",
              " 'body',\n",
              " 'infarction',\n",
              " 'myositis',\n",
              " 'myocardial',\n",
              " 'sensation',\n",
              " 'tiredness',\n",
              " 'vaginal',\n",
              " 'acid',\n",
              " 'up',\n",
              " 'swollen',\n",
              " 'rash',\n",
              " 'mentally',\n",
              " 'hurt',\n",
              " 'vertigo',\n",
              " 'itching',\n",
              " 'joints',\n",
              " 'atrophy',\n",
              " 'generalised',\n",
              " 'attack',\n",
              " \"'s\",\n",
              " ')',\n",
              " 'energy',\n",
              " 'with',\n",
              " 'upset',\n",
              " 'ubidecarenone',\n",
              " 'diabetes',\n",
              " 'gain',\n",
              " 'i',\n",
              " ',',\n",
              " 'raised',\n",
              " 'diarrhea',\n",
              " \"n't\",\n",
              " 'painful',\n",
              " 'shoulders',\n",
              " 'hazy',\n",
              " '(',\n",
              " 'dull',\n",
              " 'constant',\n",
              " 'weak',\n",
              " 'illness',\n",
              " 'time',\n",
              " 'visual',\n",
              " 'can',\n",
              " 'right',\n",
              " 'elbow',\n",
              " 'dry',\n",
              " 'is',\n",
              " 'influenza',\n",
              " 'crestor',\n",
              " 'spasm',\n",
              " 'at',\n",
              " 'reduced',\n",
              " 'sleeping',\n",
              " 'tendonitis',\n",
              " 'spasms',\n",
              " 'both',\n",
              " 'was',\n",
              " 'myopathy',\n",
              " 'mood',\n",
              " 'flatulence',\n",
              " 'exhaustion',\n",
              " 'movement',\n",
              " 'feel',\n",
              " 'libido',\n",
              " 'bad',\n",
              " 'toe',\n",
              " 'syndrome',\n",
              " 'knees',\n",
              " 'abnormal',\n",
              " 'damage',\n",
              " 'reflux',\n",
              " 'heavy',\n",
              " 'elevated',\n",
              " 'concentrate',\n",
              " 'thigh',\n",
              " 'irritable',\n",
              " 'sclerosis',\n",
              " 'discomfort',\n",
              " 'throat',\n",
              " 'kidney',\n",
              " 'get',\n",
              " 'problem',\n",
              " 'vomiting',\n",
              " 'fibromyalgia',\n",
              " 'lightheadedness',\n",
              " 'serum',\n",
              " 'mellitus',\n",
              " 'bed',\n",
              " 'disturbance',\n",
              " 'flu',\n",
              " 'malaise',\n",
              " 'wind',\n",
              " 'hips',\n",
              " 'tremor',\n",
              " 'concentration',\n",
              " 'or',\n",
              " 'urine',\n",
              " 'swings',\n",
              " 'sweating',\n",
              " 'appetite',\n",
              " 'eye',\n",
              " 'cold',\n",
              " 'simvastatin',\n",
              " 'soreness',\n",
              " 'aching',\n",
              " 'out',\n",
              " 'menstrual',\n",
              " 'head',\n",
              " 'injury',\n",
              " 'no',\n",
              " 'paraesthesia',\n",
              " 'ezetimibe',\n",
              " 'confusion',\n",
              " 'chronic',\n",
              " 'finger',\n",
              " 'stairs',\n",
              " 'tinnitus',\n",
              " 'calves',\n",
              " 'toes',\n",
              " 'esters',\n",
              " 'indigestion',\n",
              " 'celebrex',\n",
              " 'renal',\n",
              " 'so',\n",
              " 'over',\n",
              " 'failure',\n",
              " 'parkinson',\n",
              " 'ascorbic',\n",
              " 'impaired',\n",
              " 'type',\n",
              " 'ankles',\n",
              " 'peripheral',\n",
              " 'acute',\n",
              " 'charleyhorse',\n",
              " 'decreased',\n",
              " 'heel',\n",
              " 'swallowing',\n",
              " 'ibuprofen',\n",
              " 'motivation',\n",
              " 'dyspnoea',\n",
              " 'c',\n",
              " 'cough',\n",
              " 'off',\n",
              " 'by',\n",
              " 'mild',\n",
              " 'symptoms',\n",
              " 'face',\n",
              " 'dark',\n",
              " 'intense',\n",
              " 'lupus',\n",
              " 'hot',\n",
              " 'brain',\n",
              " 'excruciating',\n",
              " 'palpitations',\n",
              " 'infection',\n",
              " 'tendon',\n",
              " 'restless',\n",
              " 'felt',\n",
              " 'oil',\n",
              " 'depressed',\n",
              " 'fingers',\n",
              " 'stress',\n",
              " 'mg',\n",
              " 'had',\n",
              " 'twitch',\n",
              " 'tightness',\n",
              " 'menopause',\n",
              " 'speech',\n",
              " 'limbs',\n",
              " 'dreams',\n",
              " 'migraine',\n",
              " 'lateral',\n",
              " 'breathing',\n",
              " 'general',\n",
              " 'eyes',\n",
              " 'fish',\n",
              " 'from',\n",
              " 'night',\n",
              " 'multiple',\n",
              " 'nerve',\n",
              " 'wrist',\n",
              " 'gout',\n",
              " 'drowsy',\n",
              " 'terrible',\n",
              " 'provoked',\n",
              " 'advil',\n",
              " 'enzymes',\n",
              " 'fog',\n",
              " 'trouble',\n",
              " 'sinus',\n",
              " 'move',\n",
              " 'think',\n",
              " 'level',\n",
              " 'bowel',\n",
              " 'down',\n",
              " 'fenofibrate',\n",
              " 'mobility',\n",
              " 'vitamin',\n",
              " 'coq10',\n",
              " 'amyotrophic',\n",
              " 'clearly',\n",
              " 'thighs',\n",
              " 'taste',\n",
              " 'horses',\n",
              " 'for',\n",
              " 'nasal',\n",
              " 'ulcer',\n",
              " 'lethargy',\n",
              " 'heartburn',\n",
              " 'breath',\n",
              " 'strength',\n",
              " 'charley',\n",
              " 'plantar',\n",
              " 'are',\n",
              " 'side',\n",
              " 'elbows',\n",
              " 'rheumatoid',\n",
              " 'urinary',\n",
              " 'twitching',\n",
              " 'uterine',\n",
              " 'mouth',\n",
              " 'aleve',\n",
              " 'panic',\n",
              " 'numb',\n",
              " 'always',\n",
              " 'has',\n",
              " 'cerebrovascular',\n",
              " 'accident',\n",
              " 'sharp',\n",
              " 'tylenol',\n",
              " 'moody',\n",
              " 'extremity',\n",
              " 'facial',\n",
              " 'fever',\n",
              " 'diclofenac',\n",
              " 'hardly',\n",
              " 'function',\n",
              " 'malignant',\n",
              " 'tricor',\n",
              " 'sick',\n",
              " '+',\n",
              " 'fasciitis',\n",
              " 'pulse',\n",
              " 'oedema',\n",
              " 'tight',\n",
              " 'barely',\n",
              " 'thoughts',\n",
              " 'drive',\n",
              " 'ringing',\n",
              " 'liptor',\n",
              " 'me',\n",
              " 'hypertension',\n",
              " 'light',\n",
              " 'dizzy',\n",
              " 'tract',\n",
              " 'colic',\n",
              " 'slurred',\n",
              " ':',\n",
              " 'fatigued',\n",
              " 'shortness',\n",
              " 'exercise',\n",
              " 'rhabdomyolysis',\n",
              " 'loose',\n",
              " 'sweats',\n",
              " 'congestion',\n",
              " '3',\n",
              " 'ca',\n",
              " 'zetia',\n",
              " 'getting',\n",
              " 'present',\n",
              " 'finding',\n",
              " 'deep',\n",
              " 'sugar',\n",
              " 'pruritus',\n",
              " 'achilles',\n",
              " 'sex',\n",
              " 'system',\n",
              " 'hypersomnia',\n",
              " 'mental',\n",
              " 'erythematosus',\n",
              " 'paracetamol',\n",
              " 'prednisone',\n",
              " 'forgetful',\n",
              " 'als',\n",
              " 'osteoarthritis',\n",
              " 'one',\n",
              " 'stamina',\n",
              " 'extremely',\n",
              " 'nervous',\n",
              " 'inflammatory',\n",
              " 'lost',\n",
              " 'flushing',\n",
              " 'lopid',\n",
              " 'looks',\n",
              " 'attacks',\n",
              " 'menorrhagia',\n",
              " 'major',\n",
              " 'neurontin',\n",
              " 'cancer',\n",
              " 'hunger',\n",
              " 'palsy',\n",
              " 'creatinine',\n",
              " 'strain',\n",
              " 'ear',\n",
              " 'irregular',\n",
              " 'aptyalism',\n",
              " 'that',\n",
              " 'lipex',\n",
              " 'climb',\n",
              " 'tachycardia',\n",
              " 'asthma',\n",
              " 'spasmodic',\n",
              " 'scalp',\n",
              " 'omega-3-acid',\n",
              " 'ethyl',\n",
              " 'esters-90',\n",
              " 'sensations',\n",
              " 'bell',\n",
              " 'norvasc',\n",
              " 'eczema',\n",
              " 'inability',\n",
              " 'natural',\n",
              " 'ability',\n",
              " 'have',\n",
              " 'foggy',\n",
              " 'frequent',\n",
              " 'tension',\n",
              " 'stand',\n",
              " 'when',\n",
              " 'bursitis',\n",
              " 'inflammation',\n",
              " 'venous',\n",
              " 'cpk',\n",
              " 'stool',\n",
              " 'area',\n",
              " 'itchy',\n",
              " 'atorvastatin',\n",
              " 'rapid',\n",
              " 'respiratory',\n",
              " 'ms',\n",
              " 'started',\n",
              " 'unwell',\n",
              " 'region',\n",
              " 'dysfunction',\n",
              " 'abdomen',\n",
              " 'every',\n",
              " '&',\n",
              " '2',\n",
              " 'hurts',\n",
              " 'sense',\n",
              " 'erythema',\n",
              " 'horrible',\n",
              " 'stabbing',\n",
              " 'difficult',\n",
              " 'sight',\n",
              " 'just',\n",
              " 'lift',\n",
              " 'delusional',\n",
              " 'forearm',\n",
              " 'bruising',\n",
              " 'periods',\n",
              " 'inflamation',\n",
              " 'limping',\n",
              " 'retention',\n",
              " 'generally',\n",
              " 'hard',\n",
              " 'ears',\n",
              " 'tablet',\n",
              " 'nightmares',\n",
              " 'degenerative',\n",
              " 'zoloft',\n",
              " 'gait',\n",
              " 'feels',\n",
              " 'around',\n",
              " 'coronary',\n",
              " 'diovan',\n",
              " 'cortisone',\n",
              " 'q10',\n",
              " 'falling',\n",
              " 'tolerance',\n",
              " 'bone',\n",
              " 'omega',\n",
              " 'sudden',\n",
              " 'fast',\n",
              " 'rupture',\n",
              " 'became',\n",
              " 'weird',\n",
              " 'sever',\n",
              " 'eat',\n",
              " 'stroke',\n",
              " 'bp',\n",
              " 'heaviness',\n",
              " 'more',\n",
              " 'suicidal',\n",
              " 'it',\n",
              " 'empty',\n",
              " 'sexual',\n",
              " 'levels',\n",
              " 'co',\n",
              " 'were',\n",
              " 'random',\n",
              " 'bladder',\n",
              " 'rigidity',\n",
              " 'spotting',\n",
              " 'tunnel',\n",
              " 'gastric',\n",
              " 'edema',\n",
              " 'agitated',\n",
              " 'as',\n",
              " 'coated',\n",
              " 'being',\n",
              " 'codeine',\n",
              " '20',\n",
              " 'morning',\n",
              " 'rectal',\n",
              " 'paranoia',\n",
              " 'haematuria',\n",
              " 'diabetic',\n",
              " 'hungry',\n",
              " 'bloated',\n",
              " 'increase',\n",
              " 'well',\n",
              " 'been',\n",
              " 'testosterone',\n",
              " 'menopausal',\n",
              " 'aphasia',\n",
              " '10',\n",
              " '-pelvis',\n",
              " 'slight',\n",
              " 'blurry',\n",
              " 'carpal',\n",
              " 'day',\n",
              " 'self',\n",
              " 'sun',\n",
              " 'even',\n",
              " 'thinking',\n",
              " 'disc',\n",
              " 'muscular',\n",
              " 'unhappy',\n",
              " 'do',\n",
              " 'paralysis',\n",
              " 'syncope',\n",
              " 'endometriosis',\n",
              " 'crying',\n",
              " 'bronchitis',\n",
              " 'chill',\n",
              " 'twitches',\n",
              " 'little',\n",
              " '40',\n",
              " 'period',\n",
              " 'tongue',\n",
              " 'uterus',\n",
              " 'dehydration',\n",
              " 'than',\n",
              " 'due',\n",
              " 'things',\n",
              " 'hurting',\n",
              " 'colitis',\n",
              " 'ached',\n",
              " 'thoracic',\n",
              " 'sides',\n",
              " 'film',\n",
              " 'sweat',\n",
              " 'breast',\n",
              " 'disorientated',\n",
              " 'change',\n",
              " 'lot',\n",
              " 'standing',\n",
              " 'misoprostol',\n",
              " 'sciatica',\n",
              " 'went',\n",
              " 'musculoskeletal',\n",
              " 'transient',\n",
              " 'pancreatitis',\n",
              " 'irritability',\n",
              " 'anger',\n",
              " 'tender',\n",
              " 'agony',\n",
              " 'aspirin',\n",
              " 'circulation',\n",
              " 'overall',\n",
              " 'permanent',\n",
              " 'neuralgia',\n",
              " 'spine',\n",
              " 'lipidil',\n",
              " 'steatosis',\n",
              " 'fatique',\n",
              " 'intolerance',\n",
              " 'menstruation',\n",
              " 'cycle',\n",
              " 'red',\n",
              " 'triglycerides',\n",
              " 'haemorrhage',\n",
              " 'eyesight',\n",
              " 'arthritic',\n",
              " 'potassium',\n",
              " 'drowsiness',\n",
              " 'headed',\n",
              " 'anything',\n",
              " 'interest',\n",
              " 'everything',\n",
              " 'ani',\n",
              " 'moodiness',\n",
              " 'choking',\n",
              " 'limp',\n",
              " 'worse',\n",
              " 'able',\n",
              " 'nt',\n",
              " 'changes',\n",
              " 'eructation',\n",
              " 'intervertebral',\n",
              " 'tremors',\n",
              " 'alzheimer',\n",
              " 'rashes',\n",
              " 'unbearable',\n",
              " 'central',\n",
              " 'rib',\n",
              " 'alpha',\n",
              " 'tocopherol',\n",
              " 'pravastatin',\n",
              " 'chills',\n",
              " 'hepatic',\n",
              " 'bizarre',\n",
              " 'mobic',\n",
              " 'clumsiness',\n",
              " 'allergic',\n",
              " 'between',\n",
              " 'fear',\n",
              " 'dysphonia',\n",
              " 'going',\n",
              " 'tenderness',\n",
              " 'slightly',\n",
              " 'persistent',\n",
              " 'into',\n",
              " 'neoplastic',\n",
              " 'forearms',\n",
              " 'haematochezia',\n",
              " 'lexapro',\n",
              " 'irritation',\n",
              " 'issues',\n",
              " 'morphine',\n",
              " 'yellow',\n",
              " 'contusion',\n",
              " 'fatty',\n",
              " 'cognition',\n",
              " 'hoarse',\n",
              " 'personality',\n",
              " 'chair',\n",
              " 'limitation',\n",
              " 'decrease',\n",
              " 'vague',\n",
              " 'altered',\n",
              " 'sensitivity',\n",
              " 'drink',\n",
              " 'stools',\n",
              " 'dizzyness',\n",
              " 'buzzing',\n",
              " 'cataflam',\n",
              " 'remember',\n",
              " 'debilitating',\n",
              " 'lumbar',\n",
              " 'infections',\n",
              " 'wrists',\n",
              " 'muscels',\n",
              " 'words',\n",
              " 'b',\n",
              " 'unsteady',\n",
              " 'difficulties',\n",
              " 'occasional',\n",
              " 'run',\n",
              " 'ribs',\n",
              " 'wasting',\n",
              " 'reading',\n",
              " 'sleepy',\n",
              " 'white',\n",
              " 'condition',\n",
              " 'tenalgia',\n",
              " 'desire',\n",
              " 'gastritis',\n",
              " 'forgetfulness',\n",
              " 'breasts',\n",
              " 'colon',\n",
              " 'lose',\n",
              " 'almost',\n",
              " 'initial',\n",
              " 'food',\n",
              " 'creatine',\n",
              " 'neoplasm',\n",
              " 'extremities',\n",
              " 'tingly',\n",
              " 'motor',\n",
              " 'traumatic',\n",
              " 'urinate',\n",
              " 'rhinitis',\n",
              " 'jaundice',\n",
              " 'constantly',\n",
              " 'hives',\n",
              " 'hyperaesthesia',\n",
              " 'constipated',\n",
              " 'digestive',\n",
              " 'cognitive',\n",
              " 'spells',\n",
              " 'vit',\n",
              " 'alopecia',\n",
              " 'rate',\n",
              " 'headedness',\n",
              " 'hyperactive',\n",
              " 'movements',\n",
              " 'mass',\n",
              " 'moderate',\n",
              " 'sleeplessness',\n",
              " 'reaction',\n",
              " 'aggression',\n",
              " 'meniscus',\n",
              " 'much',\n",
              " 'make',\n",
              " 'achy',\n",
              " 'throbbing',\n",
              " 'touch',\n",
              " 'tumour',\n",
              " \"'m\",\n",
              " 'photosensitisation',\n",
              " 'adhesive',\n",
              " 'capsulitis',\n",
              " '.',\n",
              " 'fuzzy',\n",
              " 'tore',\n",
              " 'only',\n",
              " 'overweight',\n",
              " 'fluid',\n",
              " 'vagina',\n",
              " 'exhausted',\n",
              " '5',\n",
              " 'falls',\n",
              " 'postmenopausal',\n",
              " 'dementia',\n",
              " 'confidence',\n",
              " 'charlie',\n",
              " 'began',\n",
              " 'slow',\n",
              " 'blister',\n",
              " 'his',\n",
              " 'they',\n",
              " 'beat',\n",
              " 'throughout',\n",
              " 'migranes',\n",
              " 'spots',\n",
              " 'times',\n",
              " 'concentrating',\n",
              " 'muscel',\n",
              " 'inflammed',\n",
              " 'long',\n",
              " 'pelvis',\n",
              " 'hypertonia',\n",
              " 'whole',\n",
              " 'glucosamine',\n",
              " 'non',\n",
              " 'zestril',\n",
              " 'prolapse',\n",
              " 'discolouration',\n",
              " 'blisters',\n",
              " 'blurring',\n",
              " 'coma',\n",
              " 'losing',\n",
              " 'thinning',\n",
              " 'mastalgia',\n",
              " 'infective',\n",
              " 'cystitis',\n",
              " 'sit',\n",
              " 'density',\n",
              " 'lipoprotein',\n",
              " 'would',\n",
              " 'ii',\n",
              " 'am',\n",
              " 'polymyositis',\n",
              " 'e',\n",
              " 'ulceration',\n",
              " 'phlebitis',\n",
              " 'diverticulitis',\n",
              " 'burn',\n",
              " 'through',\n",
              " 'week',\n",
              " 'cardiac',\n",
              " 'arrhythmia',\n",
              " 'hammer',\n",
              " 'similar',\n",
              " 'incoordination',\n",
              " 'seized',\n",
              " 'frozen',\n",
              " 'clots',\n",
              " 'vytorin',\n",
              " 'waking',\n",
              " 'waist',\n",
              " 'use',\n",
              " 'smell',\n",
              " 'kinase',\n",
              " 'complex',\n",
              " 'toprol',\n",
              " 'gemfibrozil',\n",
              " 'something',\n",
              " 'where',\n",
              " 'incontinence',\n",
              " 'bipolar',\n",
              " 'horse',\n",
              " 'shaking',\n",
              " 'soles',\n",
              " 'below',\n",
              " 'go',\n",
              " 'torn',\n",
              " 'ldl',\n",
              " 'top',\n",
              " 'toothache',\n",
              " 'rotator',\n",
              " 'cuff',\n",
              " 'concentrated',\n",
              " 'fine',\n",
              " 'lifting',\n",
              " 'jaw',\n",
              " 'cell',\n",
              " 'magnesium',\n",
              " 'easily',\n",
              " 'neurological',\n",
              " 'trigeminal',\n",
              " 'noten',\n",
              " 'asleep',\n",
              " 'entire',\n",
              " 'pneumonia',\n",
              " 'palpatations',\n",
              " 'shaky',\n",
              " 'water',\n",
              " 'productive',\n",
              " 'episode',\n",
              " 'during',\n",
              " 'sadness',\n",
              " 'tone',\n",
              " 'lecithin',\n",
              " 'cymbalta',\n",
              " 'diastolic',\n",
              " 'deprivation',\n",
              " 'big',\n",
              " 'massive',\n",
              " 'trauma',\n",
              " 'mussel',\n",
              " 'serious',\n",
              " 'lead',\n",
              " 'sickness',\n",
              " 'blind',\n",
              " 'liptior',\n",
              " 'while',\n",
              " 'heat',\n",
              " 'blades',\n",
              " 'nose',\n",
              " 'some',\n",
              " 'hypochondriasis',\n",
              " 'degeneration',\n",
              " 'changed',\n",
              " 'gut',\n",
              " 'most',\n",
              " 'less',\n",
              " 'provachol',\n",
              " 'ball',\n",
              " 'too',\n",
              " 'simvistatin',\n",
              " 'find',\n",
              " 'post',\n",
              " 'heels',\n",
              " 'achiness',\n",
              " 'intercostal',\n",
              " 'hallucinations',\n",
              " 'epigastric',\n",
              " 'truck',\n",
              " 'month',\n",
              " 'shin',\n",
              " 'bottom',\n",
              " 'miscarriage',\n",
              " 'deteriorating',\n",
              " 'horriable',\n",
              " 'tear',\n",
              " 'epicondylitis',\n",
              " 'arteriosclerosis',\n",
              " 'flashes',\n",
              " 'above',\n",
              " 'hypothyroidism',\n",
              " 'smoker',\n",
              " 'sinusitis',\n",
              " 'large',\n",
              " 'skills',\n",
              " 'q',\n",
              " 'burping',\n",
              " 'metoprolol',\n",
              " 'distension',\n",
              " 'immobile',\n",
              " 'unexplained',\n",
              " 'middle',\n",
              " 'distress',\n",
              " 'menstral',\n",
              " 'erectile',\n",
              " 'image',\n",
              " 'reactive',\n",
              " 'protein',\n",
              " 'frequency',\n",
              " 'neuroma',\n",
              " 'o',\n",
              " 'parkinsonism',\n",
              " '50',\n",
              " 'coordination',\n",
              " 'nexium',\n",
              " 'affected',\n",
              " 'arthropathy',\n",
              " 'skeletal',\n",
              " 'distention',\n",
              " 'step',\n",
              " 'jumped',\n",
              " 's',\n",
              " 'hit',\n",
              " 'moving',\n",
              " 'herpes',\n",
              " 'zoster',\n",
              " 'watery',\n",
              " 'pulled',\n",
              " 'without',\n",
              " 'aneurysm',\n",
              " 'lyme',\n",
              " 'migraines',\n",
              " 'tennis',\n",
              " 'restlessness',\n",
              " 'band',\n",
              " 'feelings',\n",
              " 'gi',\n",
              " 'tums',\n",
              " 'erithema',\n",
              " 'gone',\n",
              " 'disorientation',\n",
              " 'lasix',\n",
              " 'behaviour',\n",
              " 'speak',\n",
              " 'diarhea',\n",
              " 'bleed',\n",
              " 'glossitis',\n",
              " 'cheek',\n",
              " 'starting',\n",
              " 'vivid',\n",
              " 'suicide',\n",
              " 'rhabdomyolosis',\n",
              " 'thumb',\n",
              " 'peeling',\n",
              " 'collapse',\n",
              " 'count',\n",
              " 'coenzyme',\n",
              " 'physical',\n",
              " 'emotional',\n",
              " 'mucosa',\n",
              " 'craving',\n",
              " 'about',\n",
              " 'structure',\n",
              " 'absent',\n",
              " 'heartbeat',\n",
              " 'shock',\n",
              " 'diminished',\n",
              " 'excess',\n",
              " 'torso',\n",
              " 'breathlessness',\n",
              " 'got',\n",
              " 'enough',\n",
              " 'control',\n",
              " 'diarreah',\n",
              " 'room',\n",
              " 'strong',\n",
              " 'sores',\n",
              " 'speach',\n",
              " 'warm',\n",
              " 'range',\n",
              " ...]"
            ]
          },
          "metadata": {
            "tags": []
          },
          "execution_count": 20
        }
      ]
    },
    {
      "metadata": {
        "id": "j00A8A4L_h79",
        "colab_type": "code",
        "colab": {}
      },
      "cell_type": "code",
      "source": [
        "model_path = path/'models'\n",
        "model_path.mkdir(exist_ok=True)\n",
        "url = 'http://files.fast.ai/models/wt103_v1/'\n",
        "download_url(f'{url}lstm_wt103.pth', model_path/'lstm_wt103.pth')\n",
        "download_url(f'{url}itos_wt103.pkl', model_path/'itos_wt103.pkl')"
      ],
      "execution_count": 0,
      "outputs": []
    },
    {
      "metadata": {
        "id": "1TtfIK4U_ttg",
        "colab_type": "code",
        "colab": {}
      },
      "cell_type": "code",
      "source": [
        "learn = language_model_learner(data_lm, pretrained_fnames=['lstm_wt103', 'itos_wt103'], drop_mult=0.5)"
      ],
      "execution_count": 0,
      "outputs": []
    },
    {
      "metadata": {
        "id": "eNXnYQkR_yxF",
        "colab_type": "code",
        "outputId": "1659fa12-4359-4ed2-d373-d796c460c795",
        "colab": {
          "base_uri": "https://localhost:8080/",
          "height": 95
        }
      },
      "cell_type": "code",
      "source": [
        "learn.fit_one_cycle(1, 1e-2)"
      ],
      "execution_count": 0,
      "outputs": [
        {
          "output_type": "display_data",
          "data": {
            "text/html": [
              "Total time: 00:48 <p><table style='width:300px; margin-bottom:10px'>\n",
              "  <tr>\n",
              "    <th>epoch</th>\n",
              "    <th>train_loss</th>\n",
              "    <th>valid_loss</th>\n",
              "    <th>accuracy</th>\n",
              "  </tr>\n",
              "  <tr>\n",
              "    <th>1</th>\n",
              "    <th>2.121285</th>\n",
              "    <th>1.724054</th>\n",
              "    <th>0.725569</th>\n",
              "  </tr>\n",
              "</table>\n"
            ],
            "text/plain": [
              "<IPython.core.display.HTML object>"
            ]
          },
          "metadata": {
            "tags": []
          }
        }
      ]
    },
    {
      "metadata": {
        "id": "4u7nVdaW_3HG",
        "colab_type": "code",
        "outputId": "39c648f3-f3e0-439b-e4a9-d9dd9d1bc332",
        "colab": {
          "base_uri": "https://localhost:8080/",
          "height": 95
        }
      },
      "cell_type": "code",
      "source": [
        "learn.unfreeze()\n",
        "learn.fit_one_cycle(1, 1e-3)"
      ],
      "execution_count": 0,
      "outputs": [
        {
          "output_type": "display_data",
          "data": {
            "text/html": [
              "Total time: 01:12 <p><table style='width:300px; margin-bottom:10px'>\n",
              "  <tr>\n",
              "    <th>epoch</th>\n",
              "    <th>train_loss</th>\n",
              "    <th>valid_loss</th>\n",
              "    <th>accuracy</th>\n",
              "  </tr>\n",
              "  <tr>\n",
              "    <th>1</th>\n",
              "    <th>1.632999</th>\n",
              "    <th>1.523306</th>\n",
              "    <th>0.746332</th>\n",
              "  </tr>\n",
              "</table>\n"
            ],
            "text/plain": [
              "<IPython.core.display.HTML object>"
            ]
          },
          "metadata": {
            "tags": []
          }
        }
      ]
    },
    {
      "metadata": {
        "id": "QlJygOb9SAt1",
        "colab_type": "code",
        "outputId": "c071c9ba-f176-46b0-86c3-45e7b394fc16",
        "colab": {
          "base_uri": "https://localhost:8080/",
          "height": 95
        }
      },
      "cell_type": "code",
      "source": [
        "learn.fit_one_cycle(1, 1e-3)"
      ],
      "execution_count": 0,
      "outputs": [
        {
          "output_type": "display_data",
          "data": {
            "text/html": [
              "Total time: 02:02 <p><table style='width:300px; margin-bottom:10px'>\n",
              "  <tr>\n",
              "    <th>epoch</th>\n",
              "    <th>train_loss</th>\n",
              "    <th>valid_loss</th>\n",
              "    <th>accuracy</th>\n",
              "  </tr>\n",
              "  <tr>\n",
              "    <th>1</th>\n",
              "    <th>1.524683</th>\n",
              "    <th>1.448874</th>\n",
              "    <th>0.755119</th>\n",
              "  </tr>\n",
              "</table>\n"
            ],
            "text/plain": [
              "<IPython.core.display.HTML object>"
            ]
          },
          "metadata": {
            "tags": []
          }
        }
      ]
    },
    {
      "metadata": {
        "id": "idf10h09STHK",
        "colab_type": "code",
        "outputId": "cf15e003-0ba0-4cfd-b3f0-0fc45bcb3b1d",
        "colab": {
          "base_uri": "https://localhost:8080/",
          "height": 95
        }
      },
      "cell_type": "code",
      "source": [
        "learn.fit_one_cycle(1, 1e-3)"
      ],
      "execution_count": 0,
      "outputs": [
        {
          "output_type": "display_data",
          "data": {
            "text/html": [
              "Total time: 02:05 <p><table style='width:300px; margin-bottom:10px'>\n",
              "  <tr>\n",
              "    <th>epoch</th>\n",
              "    <th>train_loss</th>\n",
              "    <th>valid_loss</th>\n",
              "    <th>accuracy</th>\n",
              "  </tr>\n",
              "  <tr>\n",
              "    <th>1</th>\n",
              "    <th>1.456697</th>\n",
              "    <th>1.392548</th>\n",
              "    <th>0.763533</th>\n",
              "  </tr>\n",
              "</table>\n"
            ],
            "text/plain": [
              "<IPython.core.display.HTML object>"
            ]
          },
          "metadata": {
            "tags": []
          }
        }
      ]
    },
    {
      "metadata": {
        "id": "YfRF7rOzANXf",
        "colab_type": "code",
        "colab": {}
      },
      "cell_type": "code",
      "source": [
        "learn.save_encoder('ft_fold2_first')"
      ],
      "execution_count": 0,
      "outputs": []
    },
    {
      "metadata": {
        "id": "JtSeCEH0Sl5w",
        "colab_type": "code",
        "outputId": "2b2f38ca-e692-4864-f969-7f59da618def",
        "colab": {
          "base_uri": "https://localhost:8080/",
          "height": 95
        }
      },
      "cell_type": "code",
      "source": [
        "learn.fit_one_cycle(1, 1e-3)"
      ],
      "execution_count": 0,
      "outputs": [
        {
          "output_type": "display_data",
          "data": {
            "text/html": [
              "Total time: 02:43 <p><table style='width:300px; margin-bottom:10px'>\n",
              "  <tr>\n",
              "    <th>epoch</th>\n",
              "    <th>train_loss</th>\n",
              "    <th>valid_loss</th>\n",
              "    <th>accuracy</th>\n",
              "  </tr>\n",
              "  <tr>\n",
              "    <th>1</th>\n",
              "    <th>1.406478</th>\n",
              "    <th>1.345152</th>\n",
              "    <th>0.769080</th>\n",
              "  </tr>\n",
              "</table>\n"
            ],
            "text/plain": [
              "<IPython.core.display.HTML object>"
            ]
          },
          "metadata": {
            "tags": []
          }
        }
      ]
    },
    {
      "metadata": {
        "id": "uPXgHdYJS4bA",
        "colab_type": "code",
        "colab": {}
      },
      "cell_type": "code",
      "source": [
        "learn.save_encoder('ft_fold2_first')"
      ],
      "execution_count": 0,
      "outputs": []
    },
    {
      "metadata": {
        "id": "nspwdzg0S6fu",
        "colab_type": "code",
        "outputId": "6d72ac94-3578-4e91-e79b-8eea56f74625",
        "colab": {
          "base_uri": "https://localhost:8080/",
          "height": 95
        }
      },
      "cell_type": "code",
      "source": [
        "learn.fit_one_cycle(1, 1e-3)"
      ],
      "execution_count": 0,
      "outputs": [
        {
          "output_type": "display_data",
          "data": {
            "text/html": [
              "Total time: 03:06 <p><table style='width:300px; margin-bottom:10px'>\n",
              "  <tr>\n",
              "    <th>epoch</th>\n",
              "    <th>train_loss</th>\n",
              "    <th>valid_loss</th>\n",
              "    <th>accuracy</th>\n",
              "  </tr>\n",
              "  <tr>\n",
              "    <th>1</th>\n",
              "    <th>1.369518</th>\n",
              "    <th>1.314112</th>\n",
              "    <th>0.774269</th>\n",
              "  </tr>\n",
              "</table>\n"
            ],
            "text/plain": [
              "<IPython.core.display.HTML object>"
            ]
          },
          "metadata": {
            "tags": []
          }
        }
      ]
    },
    {
      "metadata": {
        "id": "_4Q6AdD9TTvv",
        "colab_type": "code",
        "colab": {}
      },
      "cell_type": "code",
      "source": [
        "learn.save_encoder('ft_fold2_first')"
      ],
      "execution_count": 0,
      "outputs": []
    },
    {
      "metadata": {
        "id": "sLwR7MelTVvv",
        "colab_type": "code",
        "outputId": "72656528-1f61-4b55-b074-220c1d82b7c5",
        "colab": {
          "base_uri": "https://localhost:8080/",
          "height": 95
        }
      },
      "cell_type": "code",
      "source": [
        "learn.fit_one_cycle(1, 1e-3)"
      ],
      "execution_count": 0,
      "outputs": [
        {
          "output_type": "display_data",
          "data": {
            "text/html": [
              "Total time: 03:08 <p><table style='width:300px; margin-bottom:10px'>\n",
              "  <tr>\n",
              "    <th>epoch</th>\n",
              "    <th>train_loss</th>\n",
              "    <th>valid_loss</th>\n",
              "    <th>accuracy</th>\n",
              "  </tr>\n",
              "  <tr>\n",
              "    <th>1</th>\n",
              "    <th>1.334754</th>\n",
              "    <th>1.287394</th>\n",
              "    <th>0.777902</th>\n",
              "  </tr>\n",
              "</table>\n"
            ],
            "text/plain": [
              "<IPython.core.display.HTML object>"
            ]
          },
          "metadata": {
            "tags": []
          }
        }
      ]
    },
    {
      "metadata": {
        "id": "0Tu-c5t7To_q",
        "colab_type": "code",
        "colab": {}
      },
      "cell_type": "code",
      "source": [
        "learn.save_encoder('ft_fold2_first')"
      ],
      "execution_count": 0,
      "outputs": []
    },
    {
      "metadata": {
        "id": "GVellEQbTqmS",
        "colab_type": "code",
        "outputId": "712f97d0-cb82-4692-90ec-6a434d5e49d7",
        "colab": {
          "base_uri": "https://localhost:8080/",
          "height": 95
        }
      },
      "cell_type": "code",
      "source": [
        "learn.fit_one_cycle(1, 1e-3)"
      ],
      "execution_count": 0,
      "outputs": [
        {
          "output_type": "display_data",
          "data": {
            "text/html": [
              "Total time: 03:08 <p><table style='width:300px; margin-bottom:10px'>\n",
              "  <tr>\n",
              "    <th>epoch</th>\n",
              "    <th>train_loss</th>\n",
              "    <th>valid_loss</th>\n",
              "    <th>accuracy</th>\n",
              "  </tr>\n",
              "  <tr>\n",
              "    <th>1</th>\n",
              "    <th>1.317788</th>\n",
              "    <th>1.271017</th>\n",
              "    <th>0.779974</th>\n",
              "  </tr>\n",
              "</table>\n"
            ],
            "text/plain": [
              "<IPython.core.display.HTML object>"
            ]
          },
          "metadata": {
            "tags": []
          }
        }
      ]
    },
    {
      "metadata": {
        "id": "wwwoWKpgUCVS",
        "colab_type": "code",
        "outputId": "fa65732a-b8f6-4276-8f65-40df939b8534",
        "colab": {
          "base_uri": "https://localhost:8080/",
          "height": 95
        }
      },
      "cell_type": "code",
      "source": [
        "learn.fit_one_cycle(1, 1e-3)"
      ],
      "execution_count": 0,
      "outputs": [
        {
          "output_type": "display_data",
          "data": {
            "text/html": [
              "Total time: 03:07 <p><table style='width:300px; margin-bottom:10px'>\n",
              "  <tr>\n",
              "    <th>epoch</th>\n",
              "    <th>train_loss</th>\n",
              "    <th>valid_loss</th>\n",
              "    <th>accuracy</th>\n",
              "  </tr>\n",
              "  <tr>\n",
              "    <th>1</th>\n",
              "    <th>1.298967</th>\n",
              "    <th>1.257613</th>\n",
              "    <th>0.782241</th>\n",
              "  </tr>\n",
              "</table>\n"
            ],
            "text/plain": [
              "<IPython.core.display.HTML object>"
            ]
          },
          "metadata": {
            "tags": []
          }
        }
      ]
    },
    {
      "metadata": {
        "id": "qU58gdemUWJj",
        "colab_type": "code",
        "colab": {}
      },
      "cell_type": "code",
      "source": [
        "learn.save_encoder('ft_fold2_first')"
      ],
      "execution_count": 0,
      "outputs": []
    },
    {
      "metadata": {
        "id": "5Y-vlzPVUher",
        "colab_type": "code",
        "outputId": "637ff614-9aa7-456f-ad50-8aa95843501c",
        "colab": {
          "base_uri": "https://localhost:8080/",
          "height": 95
        }
      },
      "cell_type": "code",
      "source": [
        "learn.fit_one_cycle(1, 1e-3)"
      ],
      "execution_count": 0,
      "outputs": [
        {
          "output_type": "display_data",
          "data": {
            "text/html": [
              "Total time: 03:06 <p><table style='width:300px; margin-bottom:10px'>\n",
              "  <tr>\n",
              "    <th>epoch</th>\n",
              "    <th>train_loss</th>\n",
              "    <th>valid_loss</th>\n",
              "    <th>accuracy</th>\n",
              "  </tr>\n",
              "  <tr>\n",
              "    <th>1</th>\n",
              "    <th>1.281626</th>\n",
              "    <th>1.248083</th>\n",
              "    <th>0.783216</th>\n",
              "  </tr>\n",
              "</table>\n"
            ],
            "text/plain": [
              "<IPython.core.display.HTML object>"
            ]
          },
          "metadata": {
            "tags": []
          }
        }
      ]
    },
    {
      "metadata": {
        "id": "VgOveKMLUzjS",
        "colab_type": "code",
        "colab": {}
      },
      "cell_type": "code",
      "source": [
        "learn.save_encoder('ft_fold2_first')"
      ],
      "execution_count": 0,
      "outputs": []
    },
    {
      "metadata": {
        "id": "PGAfrtuPp9aH",
        "colab_type": "code",
        "colab": {}
      },
      "cell_type": "code",
      "source": [
        "#train[train.text.apply(len) < 1]"
      ],
      "execution_count": 0,
      "outputs": []
    },
    {
      "metadata": {
        "id": "v0RdmgVZqPdK",
        "colab_type": "code",
        "colab": {}
      },
      "cell_type": "code",
      "source": [
        "#train.tail()"
      ],
      "execution_count": 0,
      "outputs": []
    },
    {
      "metadata": {
        "id": "SgIbfXPhqS1q",
        "colab_type": "code",
        "colab": {}
      },
      "cell_type": "code",
      "source": [
        "#type(train.text.iloc[-1])"
      ],
      "execution_count": 0,
      "outputs": []
    },
    {
      "metadata": {
        "id": "6JPcHNXtATli",
        "colab_type": "code",
        "outputId": "869f5b2a-372f-4815-c4e8-7c7637d9ea01",
        "colab": {
          "base_uri": "https://localhost:8080/",
          "height": 95
        }
      },
      "cell_type": "code",
      "source": [
        "learn = text_classifier_learner(data_clas, drop_mult=0.5)\n",
        "learn.load_encoder('ft_fold2_first')\n",
        "learn.fit_one_cycle(1, 1e-2)"
      ],
      "execution_count": 0,
      "outputs": [
        {
          "output_type": "display_data",
          "data": {
            "text/html": [
              "Total time: 01:25 <p><table style='width:300px; margin-bottom:10px'>\n",
              "  <tr>\n",
              "    <th>epoch</th>\n",
              "    <th>train_loss</th>\n",
              "    <th>valid_loss</th>\n",
              "    <th>accuracy</th>\n",
              "  </tr>\n",
              "  <tr>\n",
              "    <th>1</th>\n",
              "    <th>3.251967</th>\n",
              "    <th>2.980781</th>\n",
              "    <th>0.503303</th>\n",
              "  </tr>\n",
              "</table>\n"
            ],
            "text/plain": [
              "<IPython.core.display.HTML object>"
            ]
          },
          "metadata": {
            "tags": []
          }
        }
      ]
    },
    {
      "metadata": {
        "id": "VPBKlTJHAt4E",
        "colab_type": "code",
        "outputId": "61da9b2a-babc-4e9d-c99c-3a98a249a0d9",
        "colab": {
          "base_uri": "https://localhost:8080/",
          "height": 95
        }
      },
      "cell_type": "code",
      "source": [
        "learn.freeze_to(-2)\n",
        "learn.fit_one_cycle(1, slice(5e-3/2., 5e-3))"
      ],
      "execution_count": 0,
      "outputs": [
        {
          "output_type": "display_data",
          "data": {
            "text/html": [
              "Total time: 01:46 <p><table style='width:300px; margin-bottom:10px'>\n",
              "  <tr>\n",
              "    <th>epoch</th>\n",
              "    <th>train_loss</th>\n",
              "    <th>valid_loss</th>\n",
              "    <th>accuracy</th>\n",
              "  </tr>\n",
              "  <tr>\n",
              "    <th>1</th>\n",
              "    <th>2.699239</th>\n",
              "    <th>2.584738</th>\n",
              "    <th>0.591810</th>\n",
              "  </tr>\n",
              "</table>\n"
            ],
            "text/plain": [
              "<IPython.core.display.HTML object>"
            ]
          },
          "metadata": {
            "tags": []
          }
        }
      ]
    },
    {
      "metadata": {
        "id": "7lxxgdORA0aw",
        "colab_type": "code",
        "outputId": "711eec86-2cfe-404d-ce43-645006851114",
        "colab": {
          "base_uri": "https://localhost:8080/",
          "height": 95
        }
      },
      "cell_type": "code",
      "source": [
        "learn.unfreeze()\n",
        "learn.fit_one_cycle(1, slice(2e-3/100, 2e-3))"
      ],
      "execution_count": 0,
      "outputs": [
        {
          "output_type": "display_data",
          "data": {
            "text/html": [
              "Total time: 02:46 <p><table style='width:300px; margin-bottom:10px'>\n",
              "  <tr>\n",
              "    <th>epoch</th>\n",
              "    <th>train_loss</th>\n",
              "    <th>valid_loss</th>\n",
              "    <th>accuracy</th>\n",
              "  </tr>\n",
              "  <tr>\n",
              "    <th>1</th>\n",
              "    <th>2.362500</th>\n",
              "    <th>2.480914</th>\n",
              "    <th>0.630119</th>\n",
              "  </tr>\n",
              "</table>\n"
            ],
            "text/plain": [
              "<IPython.core.display.HTML object>"
            ]
          },
          "metadata": {
            "tags": []
          }
        }
      ]
    },
    {
      "metadata": {
        "id": "Xj5YpPu-_vVe",
        "colab_type": "code",
        "colab": {}
      },
      "cell_type": "code",
      "source": [
        "learn.save_encoder('ft_fold2_second')"
      ],
      "execution_count": 0,
      "outputs": []
    },
    {
      "metadata": {
        "id": "T40zrHdJ_4k6",
        "colab_type": "code",
        "outputId": "5da43772-2fa2-4d2f-f6a4-1a1d3481ee50",
        "colab": {
          "base_uri": "https://localhost:8080/",
          "height": 116
        }
      },
      "cell_type": "code",
      "source": [
        "learn.fit_one_cycle(2, slice(2e-3/100, 2e-3))"
      ],
      "execution_count": 0,
      "outputs": [
        {
          "output_type": "display_data",
          "data": {
            "text/html": [
              "Total time: 04:54 <p><table style='width:300px; margin-bottom:10px'>\n",
              "  <tr>\n",
              "    <th>epoch</th>\n",
              "    <th>train_loss</th>\n",
              "    <th>valid_loss</th>\n",
              "    <th>accuracy</th>\n",
              "  </tr>\n",
              "  <tr>\n",
              "    <th>1</th>\n",
              "    <th>2.221206</th>\n",
              "    <th>2.316190</th>\n",
              "    <th>0.645971</th>\n",
              "  </tr>\n",
              "  <tr>\n",
              "    <th>2</th>\n",
              "    <th>2.100782</th>\n",
              "    <th>2.239372</th>\n",
              "    <th>0.673712</th>\n",
              "  </tr>\n",
              "</table>\n"
            ],
            "text/plain": [
              "<IPython.core.display.HTML object>"
            ]
          },
          "metadata": {
            "tags": []
          }
        }
      ]
    },
    {
      "metadata": {
        "id": "NM0sRr8sDxen",
        "colab_type": "code",
        "colab": {}
      },
      "cell_type": "code",
      "source": [
        "learn.save_encoder('ft_fold2_third')"
      ],
      "execution_count": 0,
      "outputs": []
    },
    {
      "metadata": {
        "id": "dHQO7jO3D9fN",
        "colab_type": "code",
        "outputId": "d0c4990d-d124-4c2f-eb08-9477d1599f6e",
        "colab": {
          "base_uri": "https://localhost:8080/",
          "height": 116
        }
      },
      "cell_type": "code",
      "source": [
        "learn.fit_one_cycle(2, slice(2e-3/100, 2e-3))"
      ],
      "execution_count": 0,
      "outputs": [
        {
          "output_type": "display_data",
          "data": {
            "text/html": [
              "Total time: 04:34 <p><table style='width:300px; margin-bottom:10px'>\n",
              "  <tr>\n",
              "    <th>epoch</th>\n",
              "    <th>train_loss</th>\n",
              "    <th>valid_loss</th>\n",
              "    <th>accuracy</th>\n",
              "  </tr>\n",
              "  <tr>\n",
              "    <th>1</th>\n",
              "    <th>1.957147</th>\n",
              "    <th>2.121521</th>\n",
              "    <th>0.689564</th>\n",
              "  </tr>\n",
              "  <tr>\n",
              "    <th>2</th>\n",
              "    <th>1.619943</th>\n",
              "    <th>2.057802</th>\n",
              "    <th>0.698811</th>\n",
              "  </tr>\n",
              "</table>\n"
            ],
            "text/plain": [
              "<IPython.core.display.HTML object>"
            ]
          },
          "metadata": {
            "tags": []
          }
        }
      ]
    },
    {
      "metadata": {
        "id": "fB6h7-1EH1rw",
        "colab_type": "code",
        "colab": {}
      },
      "cell_type": "code",
      "source": [
        "learn.save_encoder('ft_fold2_fourth')"
      ],
      "execution_count": 0,
      "outputs": []
    },
    {
      "metadata": {
        "id": "bat5ORN1H-Pj",
        "colab_type": "code",
        "outputId": "d8490f37-167c-4c79-8707-8a80bf124441",
        "colab": {
          "base_uri": "https://localhost:8080/",
          "height": 116
        }
      },
      "cell_type": "code",
      "source": [
        "learn.fit_one_cycle(2, slice(2e-3/100, 2e-3))"
      ],
      "execution_count": 0,
      "outputs": [
        {
          "output_type": "display_data",
          "data": {
            "text/html": [
              "Total time: 04:41 <p><table style='width:300px; margin-bottom:10px'>\n",
              "  <tr>\n",
              "    <th>epoch</th>\n",
              "    <th>train_loss</th>\n",
              "    <th>valid_loss</th>\n",
              "    <th>accuracy</th>\n",
              "  </tr>\n",
              "  <tr>\n",
              "    <th>1</th>\n",
              "    <th>1.693435</th>\n",
              "    <th>2.002633</th>\n",
              "    <th>0.702774</th>\n",
              "  </tr>\n",
              "  <tr>\n",
              "    <th>2</th>\n",
              "    <th>1.664973</th>\n",
              "    <th>1.927380</th>\n",
              "    <th>0.705416</th>\n",
              "  </tr>\n",
              "</table>\n"
            ],
            "text/plain": [
              "<IPython.core.display.HTML object>"
            ]
          },
          "metadata": {
            "tags": []
          }
        }
      ]
    },
    {
      "metadata": {
        "id": "vCUU_pAGL61N",
        "colab_type": "code",
        "colab": {}
      },
      "cell_type": "code",
      "source": [
        "learn.save_encoder('ft_fold2_fifth')"
      ],
      "execution_count": 0,
      "outputs": []
    },
    {
      "metadata": {
        "id": "EK0ZyEF1MDFj",
        "colab_type": "code",
        "outputId": "2f6d509c-9d97-4423-eddb-20134f230203",
        "colab": {
          "base_uri": "https://localhost:8080/",
          "height": 116
        }
      },
      "cell_type": "code",
      "source": [
        "learn.fit_one_cycle(2, slice(2e-3/100, 2e-3))"
      ],
      "execution_count": 0,
      "outputs": [
        {
          "output_type": "display_data",
          "data": {
            "text/html": [
              "Total time: 04:35 <p><table style='width:300px; margin-bottom:10px'>\n",
              "  <tr>\n",
              "    <th>epoch</th>\n",
              "    <th>train_loss</th>\n",
              "    <th>valid_loss</th>\n",
              "    <th>accuracy</th>\n",
              "  </tr>\n",
              "  <tr>\n",
              "    <th>1</th>\n",
              "    <th>1.476977</th>\n",
              "    <th>1.976509</th>\n",
              "    <th>0.709379</th>\n",
              "  </tr>\n",
              "  <tr>\n",
              "    <th>2</th>\n",
              "    <th>1.325134</th>\n",
              "    <th>1.917736</th>\n",
              "    <th>0.723910</th>\n",
              "  </tr>\n",
              "</table>\n"
            ],
            "text/plain": [
              "<IPython.core.display.HTML object>"
            ]
          },
          "metadata": {
            "tags": []
          }
        }
      ]
    },
    {
      "metadata": {
        "id": "bFdUJfbmP8Jm",
        "colab_type": "code",
        "colab": {}
      },
      "cell_type": "code",
      "source": [
        "learn.save_encoder('ft_fold2_sixth')"
      ],
      "execution_count": 0,
      "outputs": []
    },
    {
      "metadata": {
        "id": "0Hmd5-wcQA_E",
        "colab_type": "code",
        "outputId": "6e3f793f-e7e4-442c-f330-db43336fbba4",
        "colab": {
          "base_uri": "https://localhost:8080/",
          "height": 116
        }
      },
      "cell_type": "code",
      "source": [
        "learn.fit_one_cycle(2, slice(2e-3/100, 2e-3))"
      ],
      "execution_count": 0,
      "outputs": [
        {
          "output_type": "display_data",
          "data": {
            "text/html": [
              "Total time: 04:36 <p><table style='width:300px; margin-bottom:10px'>\n",
              "  <tr>\n",
              "    <th>epoch</th>\n",
              "    <th>train_loss</th>\n",
              "    <th>valid_loss</th>\n",
              "    <th>accuracy</th>\n",
              "  </tr>\n",
              "  <tr>\n",
              "    <th>1</th>\n",
              "    <th>1.547417</th>\n",
              "    <th>1.846267</th>\n",
              "    <th>0.735799</th>\n",
              "  </tr>\n",
              "  <tr>\n",
              "    <th>2</th>\n",
              "    <th>1.292857</th>\n",
              "    <th>1.836533</th>\n",
              "    <th>0.738441</th>\n",
              "  </tr>\n",
              "</table>\n"
            ],
            "text/plain": [
              "<IPython.core.display.HTML object>"
            ]
          },
          "metadata": {
            "tags": []
          }
        }
      ]
    },
    {
      "metadata": {
        "id": "cNT9y0XET8as",
        "colab_type": "code",
        "colab": {}
      },
      "cell_type": "code",
      "source": [
        "learn.save_encoder('ft_fold2_seventh')"
      ],
      "execution_count": 0,
      "outputs": []
    },
    {
      "metadata": {
        "id": "H84mPp9nUJvi",
        "colab_type": "code",
        "outputId": "88dd55dd-8822-4108-aff3-99573b794e0b",
        "colab": {
          "base_uri": "https://localhost:8080/",
          "height": 116
        }
      },
      "cell_type": "code",
      "source": [
        "learn.fit_one_cycle(2, slice(2e-3/100, 2e-3))"
      ],
      "execution_count": 0,
      "outputs": [
        {
          "output_type": "display_data",
          "data": {
            "text/html": [
              "Total time: 04:35 <p><table style='width:300px; margin-bottom:10px'>\n",
              "  <tr>\n",
              "    <th>epoch</th>\n",
              "    <th>train_loss</th>\n",
              "    <th>valid_loss</th>\n",
              "    <th>accuracy</th>\n",
              "  </tr>\n",
              "  <tr>\n",
              "    <th>1</th>\n",
              "    <th>1.466519</th>\n",
              "    <th>1.824396</th>\n",
              "    <th>0.739762</th>\n",
              "  </tr>\n",
              "  <tr>\n",
              "    <th>2</th>\n",
              "    <th>1.363693</th>\n",
              "    <th>1.782123</th>\n",
              "    <th>0.754293</th>\n",
              "  </tr>\n",
              "</table>\n"
            ],
            "text/plain": [
              "<IPython.core.display.HTML object>"
            ]
          },
          "metadata": {
            "tags": []
          }
        }
      ]
    },
    {
      "metadata": {
        "id": "6uEmt98OaBGi",
        "colab_type": "code",
        "colab": {}
      },
      "cell_type": "code",
      "source": [
        "learn.save_encoder('ft_fold2_eighth')"
      ],
      "execution_count": 0,
      "outputs": []
    },
    {
      "metadata": {
        "id": "7glilcjMa-dP",
        "colab_type": "code",
        "outputId": "8b127bbd-4bf8-47d8-ee04-7142fe1a3603",
        "colab": {
          "base_uri": "https://localhost:8080/",
          "height": 116
        }
      },
      "cell_type": "code",
      "source": [
        "learn.fit_one_cycle(2, slice(2e-3/100, 2e-3))"
      ],
      "execution_count": 0,
      "outputs": [
        {
          "output_type": "display_data",
          "data": {
            "text/html": [
              "Total time: 04:39 <p><table style='width:300px; margin-bottom:10px'>\n",
              "  <tr>\n",
              "    <th>epoch</th>\n",
              "    <th>train_loss</th>\n",
              "    <th>valid_loss</th>\n",
              "    <th>accuracy</th>\n",
              "  </tr>\n",
              "  <tr>\n",
              "    <th>1</th>\n",
              "    <th>1.274213</th>\n",
              "    <th>1.819658</th>\n",
              "    <th>0.747688</th>\n",
              "  </tr>\n",
              "  <tr>\n",
              "    <th>2</th>\n",
              "    <th>1.068289</th>\n",
              "    <th>1.797353</th>\n",
              "    <th>0.758256</th>\n",
              "  </tr>\n",
              "</table>\n"
            ],
            "text/plain": [
              "<IPython.core.display.HTML object>"
            ]
          },
          "metadata": {
            "tags": []
          }
        }
      ]
    },
    {
      "metadata": {
        "id": "7fjiW62te0US",
        "colab_type": "code",
        "colab": {}
      },
      "cell_type": "code",
      "source": [
        "learn.save_encoder('ft_fold2_ninth')"
      ],
      "execution_count": 0,
      "outputs": []
    },
    {
      "metadata": {
        "id": "42lO380-e7zH",
        "colab_type": "code",
        "outputId": "f94581fe-e8fb-4ffc-c00a-918f492d2392",
        "colab": {
          "base_uri": "https://localhost:8080/",
          "height": 116
        }
      },
      "cell_type": "code",
      "source": [
        "learn.fit_one_cycle(2, slice(2e-3/100, 2e-3))"
      ],
      "execution_count": 0,
      "outputs": [
        {
          "output_type": "display_data",
          "data": {
            "text/html": [
              "Total time: 04:39 <p><table style='width:300px; margin-bottom:10px'>\n",
              "  <tr>\n",
              "    <th>epoch</th>\n",
              "    <th>train_loss</th>\n",
              "    <th>valid_loss</th>\n",
              "    <th>accuracy</th>\n",
              "  </tr>\n",
              "  <tr>\n",
              "    <th>1</th>\n",
              "    <th>1.151651</th>\n",
              "    <th>1.751791</th>\n",
              "    <th>0.738441</th>\n",
              "  </tr>\n",
              "  <tr>\n",
              "    <th>2</th>\n",
              "    <th>1.156267</th>\n",
              "    <th>1.685742</th>\n",
              "    <th>0.759577</th>\n",
              "  </tr>\n",
              "</table>\n"
            ],
            "text/plain": [
              "<IPython.core.display.HTML object>"
            ]
          },
          "metadata": {
            "tags": []
          }
        }
      ]
    },
    {
      "metadata": {
        "id": "CcId1Hi2jAGM",
        "colab_type": "code",
        "colab": {}
      },
      "cell_type": "code",
      "source": [
        "learn.save_encoder('ft_fold2_tenth')"
      ],
      "execution_count": 0,
      "outputs": []
    },
    {
      "metadata": {
        "id": "yMfIMapPjFtR",
        "colab_type": "code",
        "outputId": "4a018e2f-55c3-44be-c6f3-873c21943d70",
        "colab": {
          "base_uri": "https://localhost:8080/",
          "height": 116
        }
      },
      "cell_type": "code",
      "source": [
        "learn.fit_one_cycle(2, slice(2e-3/100, 2e-3))"
      ],
      "execution_count": 0,
      "outputs": [
        {
          "output_type": "display_data",
          "data": {
            "text/html": [
              "Total time: 04:34 <p><table style='width:300px; margin-bottom:10px'>\n",
              "  <tr>\n",
              "    <th>epoch</th>\n",
              "    <th>train_loss</th>\n",
              "    <th>valid_loss</th>\n",
              "    <th>accuracy</th>\n",
              "  </tr>\n",
              "  <tr>\n",
              "    <th>1</th>\n",
              "    <th>1.151819</th>\n",
              "    <th>1.761683</th>\n",
              "    <th>0.750330</th>\n",
              "  </tr>\n",
              "  <tr>\n",
              "    <th>2</th>\n",
              "    <th>0.954638</th>\n",
              "    <th>1.691932</th>\n",
              "    <th>0.759577</th>\n",
              "  </tr>\n",
              "</table>\n"
            ],
            "text/plain": [
              "<IPython.core.display.HTML object>"
            ]
          },
          "metadata": {
            "tags": []
          }
        }
      ]
    },
    {
      "metadata": {
        "id": "Z5GpU9g-GYEP",
        "colab_type": "code",
        "colab": {}
      },
      "cell_type": "code",
      "source": [
        "learn.save_encoder('ft_fold2_eleven')"
      ],
      "execution_count": 0,
      "outputs": []
    },
    {
      "metadata": {
        "id": "q48EiuaMGeIt",
        "colab_type": "code",
        "outputId": "d4642250-06ab-4cfe-db36-171230e7309d",
        "colab": {
          "base_uri": "https://localhost:8080/",
          "height": 116
        }
      },
      "cell_type": "code",
      "source": [
        "learn.fit_one_cycle(2, slice(2e-3/100, 2e-3))"
      ],
      "execution_count": 0,
      "outputs": [
        {
          "output_type": "display_data",
          "data": {
            "text/html": [
              "Total time: 04:35 <p><table style='width:300px; margin-bottom:10px'>\n",
              "  <tr>\n",
              "    <th>epoch</th>\n",
              "    <th>train_loss</th>\n",
              "    <th>valid_loss</th>\n",
              "    <th>accuracy</th>\n",
              "  </tr>\n",
              "  <tr>\n",
              "    <th>1</th>\n",
              "    <th>1.267813</th>\n",
              "    <th>1.724347</th>\n",
              "    <th>0.763540</th>\n",
              "  </tr>\n",
              "  <tr>\n",
              "    <th>2</th>\n",
              "    <th>0.948915</th>\n",
              "    <th>1.690737</th>\n",
              "    <th>0.763540</th>\n",
              "  </tr>\n",
              "</table>\n"
            ],
            "text/plain": [
              "<IPython.core.display.HTML object>"
            ]
          },
          "metadata": {
            "tags": []
          }
        }
      ]
    },
    {
      "metadata": {
        "id": "IzCVJLroG35s",
        "colab_type": "code",
        "colab": {}
      },
      "cell_type": "code",
      "source": [
        "learn.save_encoder('ft_fold2_twelve')"
      ],
      "execution_count": 0,
      "outputs": []
    },
    {
      "metadata": {
        "id": "a_2t8_HiXds2",
        "colab_type": "code",
        "outputId": "3f681242-be8f-4b95-edeb-28d9f196cb08",
        "colab": {
          "base_uri": "https://localhost:8080/",
          "height": 116
        }
      },
      "cell_type": "code",
      "source": [
        "learn.fit_one_cycle(2, slice(2e-3/100, 2e-3))"
      ],
      "execution_count": 0,
      "outputs": [
        {
          "output_type": "display_data",
          "data": {
            "text/html": [
              "Total time: 04:34 <p><table style='width:300px; margin-bottom:10px'>\n",
              "  <tr>\n",
              "    <th>epoch</th>\n",
              "    <th>train_loss</th>\n",
              "    <th>valid_loss</th>\n",
              "    <th>accuracy</th>\n",
              "  </tr>\n",
              "  <tr>\n",
              "    <th>1</th>\n",
              "    <th>1.096085</th>\n",
              "    <th>1.678610</th>\n",
              "    <th>0.763540</th>\n",
              "  </tr>\n",
              "  <tr>\n",
              "    <th>2</th>\n",
              "    <th>0.988253</th>\n",
              "    <th>1.654121</th>\n",
              "    <th>0.771466</th>\n",
              "  </tr>\n",
              "</table>\n"
            ],
            "text/plain": [
              "<IPython.core.display.HTML object>"
            ]
          },
          "metadata": {
            "tags": []
          }
        }
      ]
    },
    {
      "metadata": {
        "id": "TzHEy-e8dugN",
        "colab_type": "code",
        "colab": {}
      },
      "cell_type": "code",
      "source": [
        "learn.save_encoder('ft_fold2_thritheen')"
      ],
      "execution_count": 0,
      "outputs": []
    },
    {
      "metadata": {
        "id": "gGC4L5BWd13J",
        "colab_type": "code",
        "outputId": "62281ff6-7e8c-489c-8be1-cde3e4e0b98d",
        "colab": {
          "base_uri": "https://localhost:8080/",
          "height": 116
        }
      },
      "cell_type": "code",
      "source": [
        "learn.fit_one_cycle(2, slice(2e-3/100, 2e-3))"
      ],
      "execution_count": 0,
      "outputs": [
        {
          "output_type": "display_data",
          "data": {
            "text/html": [
              "Total time: 04:33 <p><table style='width:300px; margin-bottom:10px'>\n",
              "  <tr>\n",
              "    <th>epoch</th>\n",
              "    <th>train_loss</th>\n",
              "    <th>valid_loss</th>\n",
              "    <th>accuracy</th>\n",
              "  </tr>\n",
              "  <tr>\n",
              "    <th>1</th>\n",
              "    <th>1.132457</th>\n",
              "    <th>1.771462</th>\n",
              "    <th>0.749009</th>\n",
              "  </tr>\n",
              "  <tr>\n",
              "    <th>2</th>\n",
              "    <th>0.842082</th>\n",
              "    <th>1.647516</th>\n",
              "    <th>0.767503</th>\n",
              "  </tr>\n",
              "</table>\n"
            ],
            "text/plain": [
              "<IPython.core.display.HTML object>"
            ]
          },
          "metadata": {
            "tags": []
          }
        }
      ]
    },
    {
      "metadata": {
        "id": "6TWrSYnXePTS",
        "colab_type": "code",
        "colab": {}
      },
      "cell_type": "code",
      "source": [
        "learn.save_encoder('ft_fold2_fiftheen')"
      ],
      "execution_count": 0,
      "outputs": []
    },
    {
      "metadata": {
        "id": "hp481To3eVSa",
        "colab_type": "code",
        "outputId": "4dbfc1de-bcd0-4236-e954-d1b1e15b1b6e",
        "colab": {
          "base_uri": "https://localhost:8080/",
          "height": 116
        }
      },
      "cell_type": "code",
      "source": [
        "learn.fit_one_cycle(2, slice(2e-3/100, 2e-3))"
      ],
      "execution_count": 0,
      "outputs": [
        {
          "output_type": "display_data",
          "data": {
            "text/html": [
              "Total time: 04:36 <p><table style='width:300px; margin-bottom:10px'>\n",
              "  <tr>\n",
              "    <th>epoch</th>\n",
              "    <th>train_loss</th>\n",
              "    <th>valid_loss</th>\n",
              "    <th>accuracy</th>\n",
              "  </tr>\n",
              "  <tr>\n",
              "    <th>1</th>\n",
              "    <th>1.119095</th>\n",
              "    <th>1.706034</th>\n",
              "    <th>0.759577</th>\n",
              "  </tr>\n",
              "  <tr>\n",
              "    <th>2</th>\n",
              "    <th>0.820982</th>\n",
              "    <th>1.722387</th>\n",
              "    <th>0.766182</th>\n",
              "  </tr>\n",
              "</table>\n"
            ],
            "text/plain": [
              "<IPython.core.display.HTML object>"
            ]
          },
          "metadata": {
            "tags": []
          }
        }
      ]
    },
    {
      "metadata": {
        "id": "74nxh1HTfBEr",
        "colab_type": "code",
        "colab": {}
      },
      "cell_type": "code",
      "source": [
        "learn.save_encoder('ft_fold2_sixtheen')"
      ],
      "execution_count": 0,
      "outputs": []
    },
    {
      "metadata": {
        "id": "GgV9yh8kfEgC",
        "colab_type": "code",
        "outputId": "965a4662-22d6-4a23-8b9c-de629afc4266",
        "colab": {
          "base_uri": "https://localhost:8080/",
          "height": 159
        }
      },
      "cell_type": "code",
      "source": [
        "learn.fit_one_cycle(4, slice(2e-3/100, 2e-3))"
      ],
      "execution_count": 0,
      "outputs": [
        {
          "output_type": "display_data",
          "data": {
            "text/html": [
              "Total time: 09:16 <p><table style='width:300px; margin-bottom:10px'>\n",
              "  <tr>\n",
              "    <th>epoch</th>\n",
              "    <th>train_loss</th>\n",
              "    <th>valid_loss</th>\n",
              "    <th>accuracy</th>\n",
              "  </tr>\n",
              "  <tr>\n",
              "    <th>1</th>\n",
              "    <th>0.986148</th>\n",
              "    <th>1.720467</th>\n",
              "    <th>0.766182</th>\n",
              "  </tr>\n",
              "  <tr>\n",
              "    <th>2</th>\n",
              "    <th>1.099361</th>\n",
              "    <th>1.663395</th>\n",
              "    <th>0.766182</th>\n",
              "  </tr>\n",
              "  <tr>\n",
              "    <th>3</th>\n",
              "    <th>1.128626</th>\n",
              "    <th>1.609033</th>\n",
              "    <th>0.776750</th>\n",
              "  </tr>\n",
              "  <tr>\n",
              "    <th>4</th>\n",
              "    <th>0.839210</th>\n",
              "    <th>1.579397</th>\n",
              "    <th>0.780713</th>\n",
              "  </tr>\n",
              "</table>\n"
            ],
            "text/plain": [
              "<IPython.core.display.HTML object>"
            ]
          },
          "metadata": {
            "tags": []
          }
        }
      ]
    },
    {
      "metadata": {
        "id": "DW8_M8Pff8KI",
        "colab_type": "code",
        "colab": {}
      },
      "cell_type": "code",
      "source": [
        "learn.save_encoder('ft_fold2_seventheen')"
      ],
      "execution_count": 0,
      "outputs": []
    },
    {
      "metadata": {
        "id": "knIIQR6tgED6",
        "colab_type": "code",
        "outputId": "a1022316-21c4-4c17-e7c9-489da98ac334",
        "colab": {
          "base_uri": "https://localhost:8080/",
          "height": 159
        }
      },
      "cell_type": "code",
      "source": [
        "learn.fit_one_cycle(4, slice(2e-3/100, 2e-3))"
      ],
      "execution_count": 0,
      "outputs": [
        {
          "output_type": "display_data",
          "data": {
            "text/html": [
              "Total time: 09:09 <p><table style='width:300px; margin-bottom:10px'>\n",
              "  <tr>\n",
              "    <th>epoch</th>\n",
              "    <th>train_loss</th>\n",
              "    <th>valid_loss</th>\n",
              "    <th>accuracy</th>\n",
              "  </tr>\n",
              "  <tr>\n",
              "    <th>1</th>\n",
              "    <th>1.023869</th>\n",
              "    <th>1.615997</th>\n",
              "    <th>0.768824</th>\n",
              "  </tr>\n",
              "  <tr>\n",
              "    <th>2</th>\n",
              "    <th>1.028213</th>\n",
              "    <th>1.609717</th>\n",
              "    <th>0.775429</th>\n",
              "  </tr>\n",
              "  <tr>\n",
              "    <th>3</th>\n",
              "    <th>0.801090</th>\n",
              "    <th>1.575963</th>\n",
              "    <th>0.780713</th>\n",
              "  </tr>\n",
              "  <tr>\n",
              "    <th>4</th>\n",
              "    <th>0.850564</th>\n",
              "    <th>1.528797</th>\n",
              "    <th>0.783355</th>\n",
              "  </tr>\n",
              "</table>\n"
            ],
            "text/plain": [
              "<IPython.core.display.HTML object>"
            ]
          },
          "metadata": {
            "tags": []
          }
        }
      ]
    },
    {
      "metadata": {
        "id": "fodMXXAAheM_",
        "colab_type": "code",
        "outputId": "9e15e48d-2f0d-4970-8485-db4f32ad1937",
        "colab": {
          "base_uri": "https://localhost:8080/",
          "height": 159
        }
      },
      "cell_type": "code",
      "source": [
        "learn.fit_one_cycle(4, slice(2e-5/100, 2e-5))"
      ],
      "execution_count": 0,
      "outputs": [
        {
          "output_type": "display_data",
          "data": {
            "text/html": [
              "Total time: 09:12 <p><table style='width:300px; margin-bottom:10px'>\n",
              "  <tr>\n",
              "    <th>epoch</th>\n",
              "    <th>train_loss</th>\n",
              "    <th>valid_loss</th>\n",
              "    <th>accuracy</th>\n",
              "  </tr>\n",
              "  <tr>\n",
              "    <th>1</th>\n",
              "    <th>0.673362</th>\n",
              "    <th>1.526134</th>\n",
              "    <th>0.787318</th>\n",
              "  </tr>\n",
              "  <tr>\n",
              "    <th>2</th>\n",
              "    <th>0.668343</th>\n",
              "    <th>1.563534</th>\n",
              "    <th>0.784676</th>\n",
              "  </tr>\n",
              "  <tr>\n",
              "    <th>3</th>\n",
              "    <th>0.665489</th>\n",
              "    <th>1.544331</th>\n",
              "    <th>0.782034</th>\n",
              "  </tr>\n",
              "  <tr>\n",
              "    <th>4</th>\n",
              "    <th>0.712477</th>\n",
              "    <th>1.541832</th>\n",
              "    <th>0.785997</th>\n",
              "  </tr>\n",
              "</table>\n"
            ],
            "text/plain": [
              "<IPython.core.display.HTML object>"
            ]
          },
          "metadata": {
            "tags": []
          }
        }
      ]
    },
    {
      "metadata": {
        "id": "OSXNlXUYjTXH",
        "colab_type": "code",
        "colab": {}
      },
      "cell_type": "code",
      "source": [
        "learn.save_encoder('ft_fold2_eightheen')"
      ],
      "execution_count": 0,
      "outputs": []
    }
  ]
}