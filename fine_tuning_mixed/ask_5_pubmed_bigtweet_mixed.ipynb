{
  "nbformat": 4,
  "nbformat_minor": 0,
  "metadata": {
    "colab": {
      "name": "ask_5_pubmed_bigtweet_mixed.ipynb",
      "provenance": [],
      "collapsed_sections": [],
      "toc_visible": true,
      "include_colab_link": true
    },
    "kernelspec": {
      "name": "python3",
      "display_name": "Python 3"
    },
    "accelerator": "TPU"
  },
  "cells": [
    {
      "cell_type": "markdown",
      "metadata": {
        "id": "view-in-github",
        "colab_type": "text"
      },
      "source": [
        "<a href=\"https://colab.research.google.com/github/unt-iialab/medical-concept-normalization/blob/master/fine_tuning_mixed/ask_5_pubmed_bigtweet_mixed.ipynb\" target=\"_parent\"><img src=\"https://colab.research.google.com/assets/colab-badge.svg\" alt=\"Open In Colab\"/></a>"
      ]
    },
    {
      "cell_type": "code",
      "metadata": {
        "id": "adSi6i2-dWxy",
        "colab_type": "code",
        "colab": {}
      },
      "source": [
        "import os"
      ],
      "execution_count": 0,
      "outputs": []
    },
    {
      "cell_type": "code",
      "metadata": {
        "id": "E7xYCRGPjd9B",
        "colab_type": "code",
        "colab": {}
      },
      "source": [
        "base_dir = 'medical-concept-normalization'"
      ],
      "execution_count": 0,
      "outputs": []
    },
    {
      "cell_type": "code",
      "metadata": {
        "id": "yvIW3aUDjYNS",
        "colab_type": "code",
        "colab": {}
      },
      "source": [
        "os.mkdir(base_dir)"
      ],
      "execution_count": 0,
      "outputs": []
    },
    {
      "cell_type": "code",
      "metadata": {
        "id": "es-FFLlfk6SG",
        "colab_type": "code",
        "colab": {}
      },
      "source": [
        "os.mkdir('medical-concept-normalization/data_collection')"
      ],
      "execution_count": 0,
      "outputs": []
    },
    {
      "cell_type": "markdown",
      "metadata": {
        "id": "0R-Guw_VoJXm",
        "colab_type": "text"
      },
      "source": [
        "**Install fastai and clone the fastai for text classification**\n",
        "\n"
      ]
    },
    {
      "cell_type": "code",
      "metadata": {
        "id": "QVZa3Z0PmHFH",
        "colab_type": "code",
        "outputId": "843fc863-44e7-4875-fdc8-d4994dd6f370",
        "colab": {
          "base_uri": "https://localhost:8080/",
          "height": 119
        }
      },
      "source": [
        "!curl https://course-v3.fast.ai/setup/colab | bash"
      ],
      "execution_count": 5,
      "outputs": [
        {
          "output_type": "stream",
          "text": [
            "  % Total    % Received % Xferd  Average Speed   Time    Time     Time  Current\n",
            "                                 Dload  Upload   Total   Spent    Left  Speed\n",
            "  0     0    0     0    0     0      0      0 --:--:-- --:--:-- --:--:--     0bash: line 1: syntax error near unexpected token `newline'\n",
            "bash: line 1: `<!DOCTYPE html>'\n",
            "100  9115  100  9115    0     0  32670      0 --:--:-- --:--:-- --:--:-- 32670\n",
            "curl: (23) Failed writing body (289 != 1212)\n"
          ],
          "name": "stdout"
        }
      ]
    },
    {
      "cell_type": "code",
      "metadata": {
        "id": "_FBFFEBrmJC0",
        "colab_type": "code",
        "outputId": "09122965-9e35-4732-e622-943e96f3258b",
        "colab": {
          "base_uri": "https://localhost:8080/",
          "height": 85
        }
      },
      "source": [
        "!git clone https://github.com/wshuyi/demo-nlp-classification-fastai.git"
      ],
      "execution_count": 6,
      "outputs": [
        {
          "output_type": "stream",
          "text": [
            "Cloning into 'demo-nlp-classification-fastai'...\n",
            "remote: Enumerating objects: 9, done.\u001b[K\n",
            "remote: Total 9 (delta 0), reused 0 (delta 0), pack-reused 9\u001b[K\n",
            "Unpacking objects: 100% (9/9), done.\n"
          ],
          "name": "stdout"
        }
      ]
    },
    {
      "cell_type": "code",
      "metadata": {
        "id": "66zfh_JqmWMU",
        "colab_type": "code",
        "colab": {}
      },
      "source": [
        "from fastai import *\n",
        "from fastai.text import *"
      ],
      "execution_count": 0,
      "outputs": []
    },
    {
      "cell_type": "markdown",
      "metadata": {
        "id": "mNIw-yALdBU9",
        "colab_type": "text"
      },
      "source": [
        "**Set the path of the data collections**"
      ]
    },
    {
      "cell_type": "code",
      "metadata": {
        "id": "pzH7VMh4mqCL",
        "colab_type": "code",
        "colab": {}
      },
      "source": [
        "path = Path('medical-concept-normalization/data_collection')"
      ],
      "execution_count": 0,
      "outputs": []
    },
    {
      "cell_type": "code",
      "metadata": {
        "id": "b8fjI6yyn4aS",
        "colab_type": "code",
        "colab": {}
      },
      "source": [
        "# training data set\n",
        "\n",
        "train_csv = path/'AskAPatient.fold-5.train.csv'\n",
        "train = pd.read_csv(train_csv, header=None)\n",
        "#train.head()\n",
        "#train.info()"
      ],
      "execution_count": 0,
      "outputs": []
    },
    {
      "cell_type": "code",
      "metadata": {
        "id": "Hmlr-bAorfHd",
        "colab_type": "code",
        "outputId": "646bffc4-9e49-4a9b-ecfa-5f532da954f0",
        "colab": {
          "base_uri": "https://localhost:8080/",
          "height": 204
        }
      },
      "source": [
        "# validating data set\n",
        "\n",
        "valid = pd.read_csv(path/\"AskAPatient.fold-5.validation.csv\",header=None)\n",
        "valid.head()"
      ],
      "execution_count": 11,
      "outputs": [
        {
          "output_type": "execute_result",
          "data": {
            "text/html": [
              "<div>\n",
              "<style scoped>\n",
              "    .dataframe tbody tr th:only-of-type {\n",
              "        vertical-align: middle;\n",
              "    }\n",
              "\n",
              "    .dataframe tbody tr th {\n",
              "        vertical-align: top;\n",
              "    }\n",
              "\n",
              "    .dataframe thead th {\n",
              "        text-align: right;\n",
              "    }\n",
              "</style>\n",
              "<table border=\"1\" class=\"dataframe\">\n",
              "  <thead>\n",
              "    <tr style=\"text-align: right;\">\n",
              "      <th></th>\n",
              "      <th>0</th>\n",
              "      <th>1</th>\n",
              "    </tr>\n",
              "  </thead>\n",
              "  <tbody>\n",
              "    <tr>\n",
              "      <th>0</th>\n",
              "      <td>2</td>\n",
              "      <td>heel pain</td>\n",
              "    </tr>\n",
              "    <tr>\n",
              "      <th>1</th>\n",
              "      <td>2</td>\n",
              "      <td>heel pain</td>\n",
              "    </tr>\n",
              "    <tr>\n",
              "      <th>2</th>\n",
              "      <td>5</td>\n",
              "      <td>increase my heart rate</td>\n",
              "    </tr>\n",
              "    <tr>\n",
              "      <th>3</th>\n",
              "      <td>5</td>\n",
              "      <td>tachycardia</td>\n",
              "    </tr>\n",
              "    <tr>\n",
              "      <th>4</th>\n",
              "      <td>8</td>\n",
              "      <td>severe arthritis</td>\n",
              "    </tr>\n",
              "  </tbody>\n",
              "</table>\n",
              "</div>"
            ],
            "text/plain": [
              "   0                       1\n",
              "0  2               heel pain\n",
              "1  2               heel pain\n",
              "2  5  increase my heart rate\n",
              "3  5             tachycardia\n",
              "4  8        severe arthritis"
            ]
          },
          "metadata": {
            "tags": []
          },
          "execution_count": 11
        }
      ]
    },
    {
      "cell_type": "code",
      "metadata": {
        "id": "cOza9dfSsBud",
        "colab_type": "code",
        "outputId": "559aead2-f829-4927-8046-7e6f375b9ef8",
        "colab": {
          "base_uri": "https://localhost:8080/",
          "height": 204
        }
      },
      "source": [
        "# testing data set\n",
        "\n",
        "test = pd.read_csv(path/\"AskAPatient.fold-5.test.csv\",header=None)\n",
        "test.head()"
      ],
      "execution_count": 12,
      "outputs": [
        {
          "output_type": "execute_result",
          "data": {
            "text/html": [
              "<div>\n",
              "<style scoped>\n",
              "    .dataframe tbody tr th:only-of-type {\n",
              "        vertical-align: middle;\n",
              "    }\n",
              "\n",
              "    .dataframe tbody tr th {\n",
              "        vertical-align: top;\n",
              "    }\n",
              "\n",
              "    .dataframe thead th {\n",
              "        text-align: right;\n",
              "    }\n",
              "</style>\n",
              "<table border=\"1\" class=\"dataframe\">\n",
              "  <thead>\n",
              "    <tr style=\"text-align: right;\">\n",
              "      <th></th>\n",
              "      <th>0</th>\n",
              "      <th>1</th>\n",
              "    </tr>\n",
              "  </thead>\n",
              "  <tbody>\n",
              "    <tr>\n",
              "      <th>0</th>\n",
              "      <td>0</td>\n",
              "      <td>fear</td>\n",
              "    </tr>\n",
              "    <tr>\n",
              "      <th>1</th>\n",
              "      <td>0</td>\n",
              "      <td>scared to death</td>\n",
              "    </tr>\n",
              "    <tr>\n",
              "      <th>2</th>\n",
              "      <td>2</td>\n",
              "      <td>heel pain</td>\n",
              "    </tr>\n",
              "    <tr>\n",
              "      <th>3</th>\n",
              "      <td>2</td>\n",
              "      <td>heels hurt</td>\n",
              "    </tr>\n",
              "    <tr>\n",
              "      <th>4</th>\n",
              "      <td>2</td>\n",
              "      <td>pain in my right heel</td>\n",
              "    </tr>\n",
              "  </tbody>\n",
              "</table>\n",
              "</div>"
            ],
            "text/plain": [
              "   0                      1\n",
              "0  0                   fear\n",
              "1  0        scared to death\n",
              "2  2              heel pain\n",
              "3  2             heels hurt\n",
              "4  2  pain in my right heel"
            ]
          },
          "metadata": {
            "tags": []
          },
          "execution_count": 12
        }
      ]
    },
    {
      "cell_type": "code",
      "metadata": {
        "id": "Vo-YNvVYoaH6",
        "colab_type": "code",
        "outputId": "d1f97b7e-62ee-4c83-ba22-7483f3bd073a",
        "colab": {
          "base_uri": "https://localhost:8080/",
          "height": 17
        }
      },
      "source": [
        "# Creating DataBunch for language modelling\n",
        "\n",
        "data_lm = TextLMDataBunch.from_csv(path, 'fine_tuning_language_model_pubmed_bigtweet_mixed.csv')"
      ],
      "execution_count": 13,
      "outputs": [
        {
          "output_type": "display_data",
          "data": {
            "text/html": [
              ""
            ],
            "text/plain": [
              "<IPython.core.display.HTML object>"
            ]
          },
          "metadata": {
            "tags": []
          }
        },
        {
          "output_type": "display_data",
          "data": {
            "text/html": [
              ""
            ],
            "text/plain": [
              "<IPython.core.display.HTML object>"
            ]
          },
          "metadata": {
            "tags": []
          }
        }
      ]
    },
    {
      "cell_type": "code",
      "metadata": {
        "id": "qcV-9kMnNLBf",
        "colab_type": "code",
        "colab": {}
      },
      "source": [
        ""
      ],
      "execution_count": 0,
      "outputs": []
    },
    {
      "cell_type": "code",
      "metadata": {
        "id": "1ScY9afDsnvE",
        "colab_type": "code",
        "colab": {}
      },
      "source": [
        "# Creating DataBunch for classification\n",
        "\n",
        "# data_clas = TextClasDataBunch.from_df(path, train, valid, test, vocab=data_lm.train_ds.vocab, bs=128)"
      ],
      "execution_count": 0,
      "outputs": []
    },
    {
      "cell_type": "code",
      "metadata": {
        "id": "gzrSdQcvey9p",
        "colab_type": "code",
        "outputId": "53bec0cc-6665-4753-f2f7-46c281d445c4",
        "colab": {
          "base_uri": "https://localhost:8080/",
          "height": 17
        }
      },
      "source": [
        "data_clas = TextClasDataBunch.from_df(path, train, valid, vocab=data_lm.train_ds.vocab, bs=128)"
      ],
      "execution_count": 15,
      "outputs": [
        {
          "output_type": "display_data",
          "data": {
            "text/html": [
              ""
            ],
            "text/plain": [
              "<IPython.core.display.HTML object>"
            ]
          },
          "metadata": {
            "tags": []
          }
        },
        {
          "output_type": "display_data",
          "data": {
            "text/html": [
              ""
            ],
            "text/plain": [
              "<IPython.core.display.HTML object>"
            ]
          },
          "metadata": {
            "tags": []
          }
        }
      ]
    },
    {
      "cell_type": "code",
      "metadata": {
        "id": "MD27Tf0Ke3ou",
        "colab_type": "code",
        "outputId": "2381b200-d77c-4546-e535-0e3e6226bbfc",
        "colab": {
          "base_uri": "https://localhost:8080/",
          "height": 17
        }
      },
      "source": [
        "data_clas.add_test(test,label=0)\n"
      ],
      "execution_count": 16,
      "outputs": [
        {
          "output_type": "display_data",
          "data": {
            "text/html": [
              ""
            ],
            "text/plain": [
              "<IPython.core.display.HTML object>"
            ]
          },
          "metadata": {
            "tags": []
          }
        }
      ]
    },
    {
      "cell_type": "code",
      "metadata": {
        "id": "-dpjnk_rstwk",
        "colab_type": "code",
        "colab": {}
      },
      "source": [
        "data_lm.save()\n",
        "data_clas.save()"
      ],
      "execution_count": 0,
      "outputs": []
    },
    {
      "cell_type": "code",
      "metadata": {
        "id": "4OkiJa36sw5s",
        "colab_type": "code",
        "colab": {
          "base_uri": "https://localhost:8080/",
          "height": 1000
        },
        "outputId": "3ed683c0-9f4d-4ec1-841c-c7e6ad42298e"
      },
      "source": [
        "data_lm.train_ds.vocab.itos"
      ],
      "execution_count": 18,
      "outputs": [
        {
          "output_type": "execute_result",
          "data": {
            "text/plain": [
              "['xxunk',\n",
              " 'xxpad',\n",
              " 'xxbos',\n",
              " 'xxeos',\n",
              " 'xxfld',\n",
              " 'xxmaj',\n",
              " 'xxup',\n",
              " 'xxrep',\n",
              " 'xxwrep',\n",
              " 'the',\n",
              " 'of',\n",
              " 'and',\n",
              " 'in',\n",
              " 'to',\n",
              " 'a',\n",
              " 'for',\n",
              " 'with',\n",
              " 'was',\n",
              " 'diclofenac',\n",
              " 'were',\n",
              " 'on',\n",
              " 'is',\n",
              " 'rt',\n",
              " 'sodium',\n",
              " 'by',\n",
              " 'that',\n",
              " 'as',\n",
              " 'at',\n",
              " 'patients',\n",
              " 'or',\n",
              " 'this',\n",
              " 'from',\n",
              " 'drug',\n",
              " 'you',\n",
              " 'mg',\n",
              " 'i',\n",
              " 'group',\n",
              " 'be',\n",
              " 'disease',\n",
              " 'study',\n",
              " 'are',\n",
              " 'treatment',\n",
              " 'pain',\n",
              " 'not',\n",
              " 'after',\n",
              " 'an',\n",
              " 'it',\n",
              " 'amp',\n",
              " 'p',\n",
              " 'have',\n",
              " 'release',\n",
              " 'gluten',\n",
              " 'we',\n",
              " 'than',\n",
              " 'effect',\n",
              " 'free',\n",
              " 'all',\n",
              " 'new',\n",
              " 'no',\n",
              " 'compared',\n",
              " 'more',\n",
              " 'using',\n",
              " 'your',\n",
              " 'effects',\n",
              " 'groups',\n",
              " 'both',\n",
              " 'two',\n",
              " 'our',\n",
              " 'its',\n",
              " 'significantly',\n",
              " 'inflammatory',\n",
              " 'my',\n",
              " 'drugs',\n",
              " 'time',\n",
              " 'about',\n",
              " 'between',\n",
              " 'h',\n",
              " 'these',\n",
              " 'but',\n",
              " 'day',\n",
              " 'out',\n",
              " 'use',\n",
              " 'significant',\n",
              " 'voltaren',\n",
              " 'anti',\n",
              " 'can',\n",
              " 'which',\n",
              " 'used',\n",
              " 'has',\n",
              " 'potassium',\n",
              " 'dose',\n",
              " 'placebo',\n",
              " 'results',\n",
              " 'also',\n",
              " 'one',\n",
              " 'what',\n",
              " 'glutenfree',\n",
              " 'do',\n",
              " 's',\n",
              " 'nt',\n",
              " 'ds',\n",
              " 'efficacy',\n",
              " 'may',\n",
              " 'celiac',\n",
              " 'days',\n",
              " 'there',\n",
              " 'treated',\n",
              " 'm',\n",
              " 'now',\n",
              " 'when',\n",
              " 'had',\n",
              " 'w',\n",
              " 'showed',\n",
              " 'up',\n",
              " 'been',\n",
              " 'ml',\n",
              " 'topical',\n",
              " 'administration',\n",
              " 'oral',\n",
              " 'different',\n",
              " 'studies',\n",
              " 'products',\n",
              " 'concentration',\n",
              " 'c',\n",
              " 'rats',\n",
              " 'via',\n",
              " 'control',\n",
              " 'food',\n",
              " 'if',\n",
              " 'their',\n",
              " 'right',\n",
              " 'how',\n",
              " 'test',\n",
              " 'clinical',\n",
              " 'into',\n",
              " 'non',\n",
              " 'acid',\n",
              " 'who',\n",
              " 'respectively',\n",
              " 'during',\n",
              " 'did',\n",
              " 'high',\n",
              " 'first',\n",
              " 'induced',\n",
              " 'found',\n",
              " 'well',\n",
              " 'other',\n",
              " 'formulation',\n",
              " 'ph',\n",
              " 'post',\n",
              " 'formulations',\n",
              " 'hours',\n",
              " 'effective',\n",
              " 'rate',\n",
              " 'nsaids',\n",
              " 'diet',\n",
              " 'tablets',\n",
              " 'observed',\n",
              " 'd',\n",
              " 'mean',\n",
              " 'could',\n",
              " 'plasma',\n",
              " 'method',\n",
              " 'those',\n",
              " 'gel',\n",
              " 'solution',\n",
              " 'n',\n",
              " 'review',\n",
              " 'three',\n",
              " 'tip',\n",
              " 'kg',\n",
              " 'over',\n",
              " 'received',\n",
              " 'vitro',\n",
              " 'g',\n",
              " 'each',\n",
              " 'only',\n",
              " 'blood',\n",
              " 'atorvastatin',\n",
              " 'levels',\n",
              " 'adverse',\n",
              " 'increased',\n",
              " 'so',\n",
              " 'analysis',\n",
              " 'acute',\n",
              " 'controlled',\n",
              " 'data',\n",
              " 'activity',\n",
              " 'analgesic',\n",
              " 'dblclick',\n",
              " 'skin',\n",
              " 'period',\n",
              " 'most',\n",
              " 'daily',\n",
              " 'week',\n",
              " 'pic',\n",
              " 'evaluated',\n",
              " 'randomized',\n",
              " 'less',\n",
              " 'concentrations',\n",
              " 'total',\n",
              " 'patient',\n",
              " 'however',\n",
              " 'single',\n",
              " 'why',\n",
              " 'model',\n",
              " 'following',\n",
              " 'low',\n",
              " 'before',\n",
              " 'here',\n",
              " 'years',\n",
              " 'some',\n",
              " 'l',\n",
              " 'symptoms',\n",
              " 'they',\n",
              " 'higher',\n",
              " 'tablet',\n",
              " 'difference',\n",
              " 'lower',\n",
              " 'cells',\n",
              " 'will',\n",
              " 'obtained',\n",
              " 'check',\n",
              " 'double',\n",
              " 'me',\n",
              " 't',\n",
              " 'good',\n",
              " 'surgery',\n",
              " 'increase',\n",
              " 'renal',\n",
              " 'know',\n",
              " 'healthy',\n",
              " 'therapy',\n",
              " 'weeks',\n",
              " 'similar',\n",
              " 'dissolution',\n",
              " 'under',\n",
              " 'relief',\n",
              " 'nsaid',\n",
              " 'like',\n",
              " 'based',\n",
              " 'combination',\n",
              " 'water',\n",
              " 'application',\n",
              " 'vs',\n",
              " 'order',\n",
              " 'postoperative',\n",
              " 'present',\n",
              " 'prepared',\n",
              " 'b',\n",
              " 'should',\n",
              " 'trial',\n",
              " 'get',\n",
              " 'love',\n",
              " 'administered',\n",
              " 'doses',\n",
              " 'just',\n",
              " 'any',\n",
              " 'performed',\n",
              " 'response',\n",
              " 'given',\n",
              " 'associated',\n",
              " 'reported',\n",
              " 'life',\n",
              " 'cell',\n",
              " 'system',\n",
              " 'help',\n",
              " 'studied',\n",
              " 'such',\n",
              " 'nonsteroidal',\n",
              " 'while',\n",
              " 'events',\n",
              " 'conditions',\n",
              " 'values',\n",
              " 'differences',\n",
              " 'absorption',\n",
              " 'four',\n",
              " 'serum',\n",
              " 'inflammation',\n",
              " 'min',\n",
              " 're',\n",
              " 'subjects',\n",
              " 'due',\n",
              " 'does',\n",
              " 'changes',\n",
              " 'blind',\n",
              " 'reduced',\n",
              " 'gfb',\n",
              " 'great',\n",
              " 'assessed',\n",
              " 'developed',\n",
              " 'investigated',\n",
              " 'properties',\n",
              " 'through',\n",
              " 'decreased',\n",
              " 'need',\n",
              " 'phase',\n",
              " 'side',\n",
              " 'containing',\n",
              " 'risk',\n",
              " 'better',\n",
              " 'safety',\n",
              " 'posted',\n",
              " 'us',\n",
              " 'type',\n",
              " 'measured',\n",
              " 'recipe',\n",
              " 'mm',\n",
              " 'indomethacin',\n",
              " 'function',\n",
              " 'number',\n",
              " 'v',\n",
              " 'either',\n",
              " 'within',\n",
              " 'thanks',\n",
              " 'without',\n",
              " 'delivery',\n",
              " 'steroidal',\n",
              " 'x',\n",
              " 'parameters',\n",
              " 'cholesterol',\n",
              " 'times',\n",
              " 'potential',\n",
              " 'ratio',\n",
              " 'statistically',\n",
              " 'make',\n",
              " 'ca',\n",
              " 'range',\n",
              " 'oa',\n",
              " 'reduction',\n",
              " 'people',\n",
              " '30',\n",
              " 'samples',\n",
              " 'heres',\n",
              " 'development',\n",
              " 'year',\n",
              " 'vivo',\n",
              " 'being',\n",
              " 'related',\n",
              " 'therapeutic',\n",
              " 'best',\n",
              " 'osteoarthritis',\n",
              " 'auc',\n",
              " 'compare',\n",
              " 'gastrointestinal',\n",
              " 'many',\n",
              " 'level',\n",
              " 'active',\n",
              " 'show',\n",
              " 'scale',\n",
              " 'e',\n",
              " 'liquid',\n",
              " 'primary',\n",
              " 'size',\n",
              " 'very',\n",
              " 'sensitivity',\n",
              " 'k',\n",
              " 'minutes',\n",
              " 'sustained',\n",
              " 'baseline',\n",
              " 'living',\n",
              " 'jennieo',\n",
              " 'applied',\n",
              " 'intolerance',\n",
              " 'medication',\n",
              " 'lipitor',\n",
              " 'included',\n",
              " 'form',\n",
              " 'human',\n",
              " 'archives',\n",
              " 'then',\n",
              " 'determined',\n",
              " 'change',\n",
              " 'tips',\n",
              " 'visual',\n",
              " '\\r \\n ',\n",
              " 'injection',\n",
              " 'evaluate',\n",
              " 'greater',\n",
              " 'going',\n",
              " 'available',\n",
              " 'addition',\n",
              " 'normal',\n",
              " 'eat',\n",
              " 'scores',\n",
              " 'read',\n",
              " 'dependent',\n",
              " 'months',\n",
              " 'coated',\n",
              " 'health',\n",
              " 'tissue',\n",
              " 'na',\n",
              " 'bioavailability',\n",
              " 'knee',\n",
              " 'arthritis',\n",
              " 'because',\n",
              " 'cox',\n",
              " 'process',\n",
              " 'tested',\n",
              " 'polymer',\n",
              " 'demonstrated',\n",
              " 'mice',\n",
              " 'chicken',\n",
              " 'severe',\n",
              " 'ng',\n",
              " 'improvement',\n",
              " 'important',\n",
              " 'safe',\n",
              " 'tolerability',\n",
              " 'chronic',\n",
              " 'diagnosis',\n",
              " 'gastric',\n",
              " 'dosage',\n",
              " 'action',\n",
              " 'per',\n",
              " 'matrix',\n",
              " 'indicated',\n",
              " 'area',\n",
              " 'revealed',\n",
              " 'aqueous',\n",
              " 'shown',\n",
              " 'news',\n",
              " 'f',\n",
              " 'presence',\n",
              " 'caused',\n",
              " 'aim',\n",
              " 'long',\n",
              " 'case',\n",
              " 'agent',\n",
              " 'treatments',\n",
              " 'made',\n",
              " 'inhibitor',\n",
              " 'inhibition',\n",
              " 'weight',\n",
              " 'follow',\n",
              " 'end',\n",
              " 'ii',\n",
              " 'alone',\n",
              " 'trials',\n",
              " 'same',\n",
              " 'animals',\n",
              " 'local',\n",
              " 'decrease',\n",
              " 'mechanism',\n",
              " 'followed',\n",
              " 'swelling',\n",
              " 'various',\n",
              " 'today',\n",
              " 'reaction',\n",
              " 'suggest',\n",
              " 'article',\n",
              " 'think',\n",
              " 'volunteers',\n",
              " 'growth',\n",
              " 'whereas',\n",
              " 'formation',\n",
              " 'eye',\n",
              " '1',\n",
              " 'divided',\n",
              " 'six',\n",
              " 'score',\n",
              " 'age',\n",
              " 'part',\n",
              " 'migraine',\n",
              " 'exposure',\n",
              " 'standard',\n",
              " 'tolerated',\n",
              " 'diagnosed',\n",
              " 'much',\n",
              " 'cd',\n",
              " 'intensity',\n",
              " 'hour',\n",
              " 'provide',\n",
              " 'further',\n",
              " 'versus',\n",
              " 'profiles',\n",
              " 'male',\n",
              " 'big',\n",
              " 'old',\n",
              " 'experimental',\n",
              " 'improved',\n",
              " 'among',\n",
              " 'relative',\n",
              " 'randomly',\n",
              " 'evaluation',\n",
              " 'including',\n",
              " 'pizza',\n",
              " 'go',\n",
              " 'conducted',\n",
              " '2',\n",
              " 'resulted',\n",
              " 'corneal',\n",
              " 'pressure',\n",
              " 'microspheres',\n",
              " 'common',\n",
              " 'product',\n",
              " 'eating',\n",
              " 'ibuprofen',\n",
              " 'although',\n",
              " 'multiple',\n",
              " 'peak',\n",
              " 'take',\n",
              " 'o',\n",
              " 'permeation',\n",
              " 'awareness',\n",
              " 'vas',\n",
              " 'determine',\n",
              " 'way',\n",
              " 'agents',\n",
              " 'rat',\n",
              " 'moderate',\n",
              " 'care',\n",
              " 'cases',\n",
              " 'amount',\n",
              " 'protein',\n",
              " 'body',\n",
              " 'content',\n",
              " 'combined',\n",
              " 'cm',\n",
              " 'vehicle',\n",
              " 'linked',\n",
              " 'would',\n",
              " 'even',\n",
              " 'blog',\n",
              " '4',\n",
              " 'preparation',\n",
              " 'share',\n",
              " 'surface',\n",
              " 'r',\n",
              " '\\r \\n \\r \\n ',\n",
              " 'research',\n",
              " 'month',\n",
              " 'physical',\n",
              " 'assessment',\n",
              " 'pharmaceutical',\n",
              " 'profile',\n",
              " 'term',\n",
              " 'degrees',\n",
              " 'systemic',\n",
              " 'beads',\n",
              " 'evidence',\n",
              " 'according',\n",
              " 'sensitive',\n",
              " 'naproxen',\n",
              " 'rapid',\n",
              " 'quality',\n",
              " 'damage',\n",
              " 'onset',\n",
              " 'want',\n",
              " 'duration',\n",
              " 'pre',\n",
              " 'achieved',\n",
              " 'technique',\n",
              " 'cookbook',\n",
              " 'muscle',\n",
              " 'enteric',\n",
              " 'efficiency',\n",
              " 'least',\n",
              " 'where',\n",
              " 'aspirin',\n",
              " 'cmax',\n",
              " 'please',\n",
              " 'reference',\n",
              " 'five',\n",
              " 'temperature',\n",
              " 'ever',\n",
              " 'edema',\n",
              " 'see',\n",
              " 'carried',\n",
              " 'participants',\n",
              " 'commercial',\n",
              " 'pellets',\n",
              " 'cross',\n",
              " 'lesions',\n",
              " 'happy',\n",
              " 'find',\n",
              " 'plus',\n",
              " 'secondary',\n",
              " 'dr',\n",
              " 'investigate',\n",
              " 'second',\n",
              " 'cause',\n",
              " 'medium',\n",
              " 'u',\n",
              " 'every',\n",
              " 'influence',\n",
              " 'pharmacokinetic',\n",
              " 'state',\n",
              " 'global',\n",
              " 'analgesia',\n",
              " 'small',\n",
              " 'synthesis',\n",
              " 'intestinal',\n",
              " 'specific',\n",
              " 'third',\n",
              " 'maximum',\n",
              " 'eyes',\n",
              " 'against',\n",
              " 'produced',\n",
              " 'examined',\n",
              " 'complete',\n",
              " 'initial',\n",
              " 'receiving',\n",
              " 'rofecoxib',\n",
              " 'affect',\n",
              " 'soup',\n",
              " 'super',\n",
              " 'overall',\n",
              " 'design',\n",
              " 'thus',\n",
              " 'liver',\n",
              " 'models',\n",
              " 'production',\n",
              " 'prostaglandin',\n",
              " 'gf',\n",
              " 'work',\n",
              " 'volume',\n",
              " 'considered',\n",
              " 'microg',\n",
              " 'might',\n",
              " 'joint',\n",
              " 'paracetamol',\n",
              " 'medical',\n",
              " 'still',\n",
              " 'phosphate',\n",
              " '5',\n",
              " 'co',\n",
              " 'indicate',\n",
              " 'rheumatoid',\n",
              " 'once',\n",
              " 'autographed',\n",
              " 'characterized',\n",
              " 'rates',\n",
              " 'comparable',\n",
              " 'extent',\n",
              " 'possible',\n",
              " 'misoprostol',\n",
              " 'methods',\n",
              " 'bone',\n",
              " 'th',\n",
              " 'women',\n",
              " 'novel',\n",
              " 'inhibitors',\n",
              " 'needed',\n",
              " 'early',\n",
              " 'diffusion',\n",
              " 'comparison',\n",
              " 'wheat',\n",
              " 'easy',\n",
              " 'solid',\n",
              " 'patch',\n",
              " 'inhibited',\n",
              " '2014',\n",
              " 'recorded',\n",
              " 'interaction',\n",
              " 'ci',\n",
              " 'additional',\n",
              " 'performance',\n",
              " 'children',\n",
              " 'since',\n",
              " 'calcium',\n",
              " 'membrane',\n",
              " 'try',\n",
              " 'expression',\n",
              " 'outcome',\n",
              " 'them',\n",
              " 'findings',\n",
              " 'tests',\n",
              " 'detection',\n",
              " 'urine',\n",
              " 'whether',\n",
              " 'increasing',\n",
              " 'index',\n",
              " 'superior',\n",
              " 'complex',\n",
              " 'foods',\n",
              " 'back',\n",
              " 'brain',\n",
              " 'antiinflammatory',\n",
              " 'medications',\n",
              " 'current',\n",
              " 'site',\n",
              " 'drops',\n",
              " 'degree',\n",
              " 'terms',\n",
              " 'few',\n",
              " 'simple',\n",
              " 'characteristics',\n",
              " 'loaded',\n",
              " 'responses',\n",
              " 'ocular',\n",
              " 'ldl',\n",
              " 'friends',\n",
              " 'mild',\n",
              " 'determination',\n",
              " 'twice',\n",
              " 'beta',\n",
              " 'assess',\n",
              " 'solubility',\n",
              " 'alpha',\n",
              " 'bread',\n",
              " 'cream',\n",
              " 'flow',\n",
              " 'saline',\n",
              " 'incidence',\n",
              " 'alternative',\n",
              " 'intramuscular',\n",
              " 'known',\n",
              " 'capsules',\n",
              " 'delicious',\n",
              " 'story',\n",
              " 'released',\n",
              " 'preparations',\n",
              " 'support',\n",
              " 'bowl',\n",
              " 'got',\n",
              " 'value',\n",
              " 'cataract',\n",
              " 'others',\n",
              " 'lipid',\n",
              " 'vascular',\n",
              " 'top',\n",
              " 'eudragit',\n",
              " 'ketorolac',\n",
              " 'treat',\n",
              " 'cardiovascular',\n",
              " 'de',\n",
              " 'forms',\n",
              " 'fluid',\n",
              " 'buffer',\n",
              " 'syndrome',\n",
              " 'tissues',\n",
              " 'provided',\n",
              " 'recipes',\n",
              " 'gi',\n",
              " 'pge',\n",
              " 'transdermal',\n",
              " 'hplc',\n",
              " 'enhanced',\n",
              " 'analyzed',\n",
              " 'looking',\n",
              " 'point',\n",
              " 'learn',\n",
              " 'dic',\n",
              " 'death',\n",
              " 'il',\n",
              " 'sr',\n",
              " 'clearance',\n",
              " 'celecoxib',\n",
              " 'especially',\n",
              " 'affected',\n",
              " 'thank',\n",
              " 'open',\n",
              " 'nm',\n",
              " 'kinetics',\n",
              " 'oil',\n",
              " 'management',\n",
              " 'modified',\n",
              " 'chitosan',\n",
              " 'several',\n",
              " 'ability',\n",
              " 'special',\n",
              " 'scanning',\n",
              " 'extraction',\n",
              " 'short',\n",
              " 'percentage',\n",
              " 'variables',\n",
              " 'therefore',\n",
              " 'faster',\n",
              " 'exhibited',\n",
              " 'experiments',\n",
              " 'solutions',\n",
              " 'objective',\n",
              " 'major',\n",
              " 'next',\n",
              " 'activities',\n",
              " 'laser',\n",
              " 'max',\n",
              " 'clinically',\n",
              " 'drop',\n",
              " 'issues',\n",
              " 'aged',\n",
              " 'salt',\n",
              " 'factor',\n",
              " 'too',\n",
              " 'chocolate',\n",
              " 'info',\n",
              " 'headache',\n",
              " 'having',\n",
              " 'df',\n",
              " 'options',\n",
              " 'dfs',\n",
              " 'penetration',\n",
              " 'experience',\n",
              " 'factors',\n",
              " 'confirmed',\n",
              " 'hp',\n",
              " 'analgesics',\n",
              " 'binding',\n",
              " 'start',\n",
              " 'experienced',\n",
              " 've',\n",
              " 'cyclooxygenase',\n",
              " 'collected',\n",
              " 'taking',\n",
              " 'serious',\n",
              " 'density',\n",
              " 'across',\n",
              " 'tmax',\n",
              " 'role',\n",
              " 'rabbits',\n",
              " 'positive',\n",
              " 'sd',\n",
              " 'dpsgc',\n",
              " 'arthrotec',\n",
              " 'seen',\n",
              " 'feel',\n",
              " 'list',\n",
              " 'loading',\n",
              " 'capsule',\n",
              " 'market',\n",
              " 'urinary',\n",
              " 'hpmc',\n",
              " 'ophthalmic',\n",
              " 'alginate',\n",
              " 'kcnq',\n",
              " 'information',\n",
              " 'particle',\n",
              " 'target',\n",
              " '10',\n",
              " 'hospital',\n",
              " 'interesting',\n",
              " 'allergy',\n",
              " 'cambia',\n",
              " 'another',\n",
              " 'chloride',\n",
              " 'prior',\n",
              " 'average',\n",
              " 'testing',\n",
              " 'event',\n",
              " 'assay',\n",
              " 'structure',\n",
              " 'established',\n",
              " 'able',\n",
              " 'potent',\n",
              " 'giveaway',\n",
              " 'receive',\n",
              " 'crossover',\n",
              " 'page',\n",
              " 'really',\n",
              " 'analogue',\n",
              " 'microscopy',\n",
              " 'suggested',\n",
              " 'always',\n",
              " 'large',\n",
              " 'stability',\n",
              " 'highly',\n",
              " 'develop',\n",
              " 'examination',\n",
              " 'book',\n",
              " 'acetaminophen',\n",
              " 'coeliac',\n",
              " 'procedure',\n",
              " 'orally',\n",
              " 'child',\n",
              " 'injury',\n",
              " 'electron',\n",
              " 'aes',\n",
              " 'eight',\n",
              " 'seven',\n",
              " 'reduce',\n",
              " 'criteria',\n",
              " 'microm',\n",
              " 'sunday',\n",
              " 'widely',\n",
              " 'condition',\n",
              " 'cs',\n",
              " 'signs',\n",
              " 'his',\n",
              " 'respect',\n",
              " 'peg',\n",
              " 'required',\n",
              " 'last',\n",
              " 'adsorption',\n",
              " 'dcf',\n",
              " 'systems',\n",
              " 'detected',\n",
              " 'designed',\n",
              " 'creatinine',\n",
              " 'fed',\n",
              " 'improve',\n",
              " 'randomised',\n",
              " 'own',\n",
              " 'hip',\n",
              " 'individual',\n",
              " 'intravenous',\n",
              " 'percent',\n",
              " 'prolonged',\n",
              " 'flare',\n",
              " 'excretion',\n",
              " 'later',\n",
              " 'selected',\n",
              " 'useful',\n",
              " 'breakfast',\n",
              " 'plant',\n",
              " 'interview',\n",
              " 'diseases',\n",
              " 'injected',\n",
              " 'link',\n",
              " 'quinoa',\n",
              " 'dosing',\n",
              " 'morning',\n",
              " 'statins',\n",
              " 'severity',\n",
              " 'independent',\n",
              " 'breaking',\n",
              " 'america',\n",
              " 'kidney',\n",
              " 'involved',\n",
              " 'report',\n",
              " 'whole',\n",
              " 'prescribed',\n",
              " 'cookies',\n",
              " 'distribution',\n",
              " 'immediate',\n",
              " 'operative',\n",
              " 'reactions',\n",
              " 'median',\n",
              " 'channels',\n",
              " 'statin',\n",
              " 'convention',\n",
              " 'world',\n",
              " 'toxicity',\n",
              " 'reducing',\n",
              " 'restaurants',\n",
              " 'measurements',\n",
              " 'reasons',\n",
              " 'painful',\n",
              " 'getting',\n",
              " 'occurred',\n",
              " 'hand',\n",
              " 'result',\n",
              " 'dexamethasone',\n",
              " 'slow',\n",
              " 'molecular',\n",
              " 'cake',\n",
              " 'ask',\n",
              " 'must',\n",
              " 'sample',\n",
              " 'generally',\n",
              " 'community',\n",
              " 'chemical',\n",
              " 'hr',\n",
              " 'approximately',\n",
              " 'laboratory',\n",
              " 'down',\n",
              " 'kids',\n",
              " 'zero',\n",
              " 'mt',\n",
              " 'ak',\n",
              " 'live',\n",
              " 'anyone',\n",
              " 'compounds',\n",
              " 'selective',\n",
              " 'proposed',\n",
              " 'direct',\n",
              " 'cellulose',\n",
              " 'collagen',\n",
              " 'stem',\n",
              " 'series',\n",
              " 'optimized',\n",
              " 'he',\n",
              " 'behavior',\n",
              " 'medicine',\n",
              " 'hey',\n",
              " 'coming',\n",
              " '3',\n",
              " 'assigned',\n",
              " 'visit',\n",
              " 'concluded',\n",
              " 'off',\n",
              " 'postoperatively',\n",
              " 'means',\n",
              " 'outcomes',\n",
              " 'limit',\n",
              " 'things',\n",
              " 'allergic',\n",
              " 'likely',\n",
              " 'yes',\n",
              " 'friendly',\n",
              " 'rescue',\n",
              " 'coating',\n",
              " 'central',\n",
              " 'general',\n",
              " 'oh',\n",
              " 'population',\n",
              " 'approach',\n",
              " 'adult',\n",
              " 'ratios',\n",
              " 'fast',\n",
              " ...]"
            ]
          },
          "metadata": {
            "tags": []
          },
          "execution_count": 18
        }
      ]
    },
    {
      "cell_type": "code",
      "metadata": {
        "id": "yPWr03mls3VT",
        "colab_type": "code",
        "outputId": "9e803bad-2ba8-4b1e-deff-d4f996892774",
        "colab": {
          "base_uri": "https://localhost:8080/",
          "height": 17
        }
      },
      "source": [
        "model_path = path/'models'\n",
        "model_path.mkdir(exist_ok=True)\n",
        "url = 'http://files.fast.ai/models/wt103_v1/'\n",
        "download_url(f'{url}lstm_wt103.pth', model_path/'lstm_wt103.pth')\n",
        "download_url(f'{url}itos_wt103.pkl', model_path/'itos_wt103.pkl')"
      ],
      "execution_count": 19,
      "outputs": [
        {
          "output_type": "display_data",
          "data": {
            "text/html": [
              ""
            ],
            "text/plain": [
              "<IPython.core.display.HTML object>"
            ]
          },
          "metadata": {
            "tags": []
          }
        },
        {
          "output_type": "display_data",
          "data": {
            "text/html": [
              ""
            ],
            "text/plain": [
              "<IPython.core.display.HTML object>"
            ]
          },
          "metadata": {
            "tags": []
          }
        }
      ]
    },
    {
      "cell_type": "code",
      "metadata": {
        "id": "JRzvWg8RtGGr",
        "colab_type": "code",
        "outputId": "3e307e74-635d-46f2-e32f-b1c8ef88689f",
        "colab": {
          "base_uri": "https://localhost:8080/",
          "height": 34
        }
      },
      "source": [
        "learn = language_model_learner(data_lm, AWD_LSTM, drop_mult=0.5)"
      ],
      "execution_count": 20,
      "outputs": [
        {
          "output_type": "stream",
          "text": [
            "Downloading https://s3.amazonaws.com/fast-ai-modelzoo/wt103-fwd\n"
          ],
          "name": "stdout"
        },
        {
          "output_type": "display_data",
          "data": {
            "text/html": [
              ""
            ],
            "text/plain": [
              "<IPython.core.display.HTML object>"
            ]
          },
          "metadata": {
            "tags": []
          }
        }
      ]
    },
    {
      "cell_type": "code",
      "metadata": {
        "id": "xKK7GeBev7Xn",
        "colab_type": "code",
        "outputId": "48b052d5-c109-4091-d6c6-ed3d59c922ed",
        "colab": {
          "base_uri": "https://localhost:8080/",
          "height": 80
        }
      },
      "source": [
        "learn.fit_one_cycle(1, 1e-2)"
      ],
      "execution_count": 21,
      "outputs": [
        {
          "output_type": "display_data",
          "data": {
            "text/html": [
              "<table border=\"1\" class=\"dataframe\">\n",
              "  <thead>\n",
              "    <tr style=\"text-align: left;\">\n",
              "      <th>epoch</th>\n",
              "      <th>train_loss</th>\n",
              "      <th>valid_loss</th>\n",
              "      <th>accuracy</th>\n",
              "      <th>time</th>\n",
              "    </tr>\n",
              "  </thead>\n",
              "  <tbody>\n",
              "    <tr>\n",
              "      <td>0</td>\n",
              "      <td>5.225496</td>\n",
              "      <td>4.637650</td>\n",
              "      <td>0.249061</td>\n",
              "      <td>16:15</td>\n",
              "    </tr>\n",
              "  </tbody>\n",
              "</table>"
            ],
            "text/plain": [
              "<IPython.core.display.HTML object>"
            ]
          },
          "metadata": {
            "tags": []
          }
        }
      ]
    },
    {
      "cell_type": "code",
      "metadata": {
        "id": "iB7rHGQCwd12",
        "colab_type": "code",
        "outputId": "423bd472-82b4-436e-cec5-dc69798a06a9",
        "colab": {
          "base_uri": "https://localhost:8080/",
          "height": 80
        }
      },
      "source": [
        "learn.fit_one_cycle(1, 1e-2)"
      ],
      "execution_count": 22,
      "outputs": [
        {
          "output_type": "display_data",
          "data": {
            "text/html": [
              "<table border=\"1\" class=\"dataframe\">\n",
              "  <thead>\n",
              "    <tr style=\"text-align: left;\">\n",
              "      <th>epoch</th>\n",
              "      <th>train_loss</th>\n",
              "      <th>valid_loss</th>\n",
              "      <th>accuracy</th>\n",
              "      <th>time</th>\n",
              "    </tr>\n",
              "  </thead>\n",
              "  <tbody>\n",
              "    <tr>\n",
              "      <td>0</td>\n",
              "      <td>4.470651</td>\n",
              "      <td>4.286124</td>\n",
              "      <td>0.282636</td>\n",
              "      <td>16:13</td>\n",
              "    </tr>\n",
              "  </tbody>\n",
              "</table>"
            ],
            "text/plain": [
              "<IPython.core.display.HTML object>"
            ]
          },
          "metadata": {
            "tags": []
          }
        }
      ]
    },
    {
      "cell_type": "code",
      "metadata": {
        "id": "_BnSuAeCwkBe",
        "colab_type": "code",
        "outputId": "55336a1f-4fde-453c-90df-f29b1e5baf8b",
        "colab": {
          "base_uri": "https://localhost:8080/",
          "height": 80
        }
      },
      "source": [
        "learn.fit_one_cycle(1, 1e-3)"
      ],
      "execution_count": 23,
      "outputs": [
        {
          "output_type": "display_data",
          "data": {
            "text/html": [
              "<table border=\"1\" class=\"dataframe\">\n",
              "  <thead>\n",
              "    <tr style=\"text-align: left;\">\n",
              "      <th>epoch</th>\n",
              "      <th>train_loss</th>\n",
              "      <th>valid_loss</th>\n",
              "      <th>accuracy</th>\n",
              "      <th>time</th>\n",
              "    </tr>\n",
              "  </thead>\n",
              "  <tbody>\n",
              "    <tr>\n",
              "      <td>0</td>\n",
              "      <td>4.160081</td>\n",
              "      <td>4.245474</td>\n",
              "      <td>0.286905</td>\n",
              "      <td>16:13</td>\n",
              "    </tr>\n",
              "  </tbody>\n",
              "</table>"
            ],
            "text/plain": [
              "<IPython.core.display.HTML object>"
            ]
          },
          "metadata": {
            "tags": []
          }
        }
      ]
    },
    {
      "cell_type": "code",
      "metadata": {
        "id": "MuTm-RFjwrEX",
        "colab_type": "code",
        "outputId": "4857dc2c-8853-41f1-a75c-0ff0db3e14d9",
        "colab": {
          "base_uri": "https://localhost:8080/",
          "height": 80
        }
      },
      "source": [
        "learn.fit_one_cycle(1, 1e-3)"
      ],
      "execution_count": 24,
      "outputs": [
        {
          "output_type": "display_data",
          "data": {
            "text/html": [
              "<table border=\"1\" class=\"dataframe\">\n",
              "  <thead>\n",
              "    <tr style=\"text-align: left;\">\n",
              "      <th>epoch</th>\n",
              "      <th>train_loss</th>\n",
              "      <th>valid_loss</th>\n",
              "      <th>accuracy</th>\n",
              "      <th>time</th>\n",
              "    </tr>\n",
              "  </thead>\n",
              "  <tbody>\n",
              "    <tr>\n",
              "      <td>0</td>\n",
              "      <td>4.115546</td>\n",
              "      <td>4.213330</td>\n",
              "      <td>0.289881</td>\n",
              "      <td>16:06</td>\n",
              "    </tr>\n",
              "  </tbody>\n",
              "</table>"
            ],
            "text/plain": [
              "<IPython.core.display.HTML object>"
            ]
          },
          "metadata": {
            "tags": []
          }
        }
      ]
    },
    {
      "cell_type": "code",
      "metadata": {
        "id": "1Er2ExO8wr7Y",
        "colab_type": "code",
        "colab": {}
      },
      "source": [
        "learn.save_encoder('bigtweet_fold0_first')"
      ],
      "execution_count": 0,
      "outputs": []
    },
    {
      "cell_type": "code",
      "metadata": {
        "id": "z52cZs2qwvad",
        "colab_type": "code",
        "outputId": "343bd2a9-f25a-4b31-b4de-b2e2be42e8dc",
        "colab": {
          "base_uri": "https://localhost:8080/",
          "height": 80
        }
      },
      "source": [
        "learn = text_classifier_learner(data_clas,AWD_LSTM, drop_mult=0.5)\n",
        "learn.load_encoder('bigtweet_fold0_first')\n",
        "learn.fit_one_cycle(1, 1e-2)"
      ],
      "execution_count": 26,
      "outputs": [
        {
          "output_type": "display_data",
          "data": {
            "text/html": [
              "<table border=\"1\" class=\"dataframe\">\n",
              "  <thead>\n",
              "    <tr style=\"text-align: left;\">\n",
              "      <th>epoch</th>\n",
              "      <th>train_loss</th>\n",
              "      <th>valid_loss</th>\n",
              "      <th>accuracy</th>\n",
              "      <th>time</th>\n",
              "    </tr>\n",
              "  </thead>\n",
              "  <tbody>\n",
              "    <tr>\n",
              "      <td>0</td>\n",
              "      <td>3.723090</td>\n",
              "      <td>3.546983</td>\n",
              "      <td>0.407407</td>\n",
              "      <td>01:09</td>\n",
              "    </tr>\n",
              "  </tbody>\n",
              "</table>"
            ],
            "text/plain": [
              "<IPython.core.display.HTML object>"
            ]
          },
          "metadata": {
            "tags": []
          }
        }
      ]
    },
    {
      "cell_type": "code",
      "metadata": {
        "id": "ImwQP1PJwzxd",
        "colab_type": "code",
        "outputId": "85bae4be-fdf8-4176-ed80-47ab6c6c31be",
        "colab": {
          "base_uri": "https://localhost:8080/",
          "height": 80
        }
      },
      "source": [
        "learn.freeze_to(-2)\n",
        "learn.fit_one_cycle(1, slice(5e-3/2., 5e-3))"
      ],
      "execution_count": 27,
      "outputs": [
        {
          "output_type": "display_data",
          "data": {
            "text/html": [
              "<table border=\"1\" class=\"dataframe\">\n",
              "  <thead>\n",
              "    <tr style=\"text-align: left;\">\n",
              "      <th>epoch</th>\n",
              "      <th>train_loss</th>\n",
              "      <th>valid_loss</th>\n",
              "      <th>accuracy</th>\n",
              "      <th>time</th>\n",
              "    </tr>\n",
              "  </thead>\n",
              "  <tbody>\n",
              "    <tr>\n",
              "      <td>0</td>\n",
              "      <td>2.795845</td>\n",
              "      <td>2.999824</td>\n",
              "      <td>0.472542</td>\n",
              "      <td>01:24</td>\n",
              "    </tr>\n",
              "  </tbody>\n",
              "</table>"
            ],
            "text/plain": [
              "<IPython.core.display.HTML object>"
            ]
          },
          "metadata": {
            "tags": []
          }
        }
      ]
    },
    {
      "cell_type": "code",
      "metadata": {
        "id": "Owff_BJXw53u",
        "colab_type": "code",
        "outputId": "5b18f7fe-4b43-4f33-fd30-7ac5ba7ca909",
        "colab": {
          "base_uri": "https://localhost:8080/",
          "height": 80
        }
      },
      "source": [
        "learn.unfreeze()\n",
        "learn.fit_one_cycle(1, slice(2e-3/100, 2e-3))"
      ],
      "execution_count": 28,
      "outputs": [
        {
          "output_type": "display_data",
          "data": {
            "text/html": [
              "<table border=\"1\" class=\"dataframe\">\n",
              "  <thead>\n",
              "    <tr style=\"text-align: left;\">\n",
              "      <th>epoch</th>\n",
              "      <th>train_loss</th>\n",
              "      <th>valid_loss</th>\n",
              "      <th>accuracy</th>\n",
              "      <th>time</th>\n",
              "    </tr>\n",
              "  </thead>\n",
              "  <tbody>\n",
              "    <tr>\n",
              "      <td>0</td>\n",
              "      <td>2.384000</td>\n",
              "      <td>2.751115</td>\n",
              "      <td>0.528736</td>\n",
              "      <td>03:33</td>\n",
              "    </tr>\n",
              "  </tbody>\n",
              "</table>"
            ],
            "text/plain": [
              "<IPython.core.display.HTML object>"
            ]
          },
          "metadata": {
            "tags": []
          }
        }
      ]
    },
    {
      "cell_type": "code",
      "metadata": {
        "id": "lqAyu56V8Waq",
        "colab_type": "code",
        "outputId": "be77a929-8a4e-4018-9ac6-6c682c59ea26",
        "colab": {
          "base_uri": "https://localhost:8080/",
          "height": 111
        }
      },
      "source": [
        "learn.fit_one_cycle(2, slice(2e-3/100, 2e-3))"
      ],
      "execution_count": 29,
      "outputs": [
        {
          "output_type": "display_data",
          "data": {
            "text/html": [
              "<table border=\"1\" class=\"dataframe\">\n",
              "  <thead>\n",
              "    <tr style=\"text-align: left;\">\n",
              "      <th>epoch</th>\n",
              "      <th>train_loss</th>\n",
              "      <th>valid_loss</th>\n",
              "      <th>accuracy</th>\n",
              "      <th>time</th>\n",
              "    </tr>\n",
              "  </thead>\n",
              "  <tbody>\n",
              "    <tr>\n",
              "      <td>0</td>\n",
              "      <td>2.153945</td>\n",
              "      <td>2.550297</td>\n",
              "      <td>0.569604</td>\n",
              "      <td>03:18</td>\n",
              "    </tr>\n",
              "    <tr>\n",
              "      <td>1</td>\n",
              "      <td>1.931498</td>\n",
              "      <td>2.466613</td>\n",
              "      <td>0.573435</td>\n",
              "      <td>03:32</td>\n",
              "    </tr>\n",
              "  </tbody>\n",
              "</table>"
            ],
            "text/plain": [
              "<IPython.core.display.HTML object>"
            ]
          },
          "metadata": {
            "tags": []
          }
        }
      ]
    },
    {
      "cell_type": "code",
      "metadata": {
        "id": "a7I1xMRp8bUd",
        "colab_type": "code",
        "outputId": "83546009-878e-4414-9e28-36d4d8a7454b",
        "colab": {
          "base_uri": "https://localhost:8080/",
          "height": 111
        }
      },
      "source": [
        "learn.fit_one_cycle(2, slice(2e-3/100, 2e-3))"
      ],
      "execution_count": 30,
      "outputs": [
        {
          "output_type": "display_data",
          "data": {
            "text/html": [
              "<table border=\"1\" class=\"dataframe\">\n",
              "  <thead>\n",
              "    <tr style=\"text-align: left;\">\n",
              "      <th>epoch</th>\n",
              "      <th>train_loss</th>\n",
              "      <th>valid_loss</th>\n",
              "      <th>accuracy</th>\n",
              "      <th>time</th>\n",
              "    </tr>\n",
              "  </thead>\n",
              "  <tbody>\n",
              "    <tr>\n",
              "      <td>0</td>\n",
              "      <td>1.769171</td>\n",
              "      <td>2.320487</td>\n",
              "      <td>0.593870</td>\n",
              "      <td>03:30</td>\n",
              "    </tr>\n",
              "    <tr>\n",
              "      <td>1</td>\n",
              "      <td>1.630749</td>\n",
              "      <td>2.267158</td>\n",
              "      <td>0.600255</td>\n",
              "      <td>03:17</td>\n",
              "    </tr>\n",
              "  </tbody>\n",
              "</table>"
            ],
            "text/plain": [
              "<IPython.core.display.HTML object>"
            ]
          },
          "metadata": {
            "tags": []
          }
        }
      ]
    },
    {
      "cell_type": "code",
      "metadata": {
        "id": "UAnti-XmGVfO",
        "colab_type": "code",
        "outputId": "8299f95f-e57d-4ead-8934-47446848a99b",
        "colab": {
          "base_uri": "https://localhost:8080/",
          "height": 111
        }
      },
      "source": [
        "learn.fit_one_cycle(2, slice(2e-3/100, 2e-3))"
      ],
      "execution_count": 31,
      "outputs": [
        {
          "output_type": "display_data",
          "data": {
            "text/html": [
              "<table border=\"1\" class=\"dataframe\">\n",
              "  <thead>\n",
              "    <tr style=\"text-align: left;\">\n",
              "      <th>epoch</th>\n",
              "      <th>train_loss</th>\n",
              "      <th>valid_loss</th>\n",
              "      <th>accuracy</th>\n",
              "      <th>time</th>\n",
              "    </tr>\n",
              "  </thead>\n",
              "  <tbody>\n",
              "    <tr>\n",
              "      <td>0</td>\n",
              "      <td>1.582570</td>\n",
              "      <td>2.186727</td>\n",
              "      <td>0.613027</td>\n",
              "      <td>03:25</td>\n",
              "    </tr>\n",
              "    <tr>\n",
              "      <td>1</td>\n",
              "      <td>1.477709</td>\n",
              "      <td>2.157645</td>\n",
              "      <td>0.624521</td>\n",
              "      <td>03:27</td>\n",
              "    </tr>\n",
              "  </tbody>\n",
              "</table>"
            ],
            "text/plain": [
              "<IPython.core.display.HTML object>"
            ]
          },
          "metadata": {
            "tags": []
          }
        }
      ]
    },
    {
      "cell_type": "code",
      "metadata": {
        "id": "bIft7W25GwSu",
        "colab_type": "code",
        "outputId": "77918cef-4b59-4f12-b37e-82bd8ac50a54",
        "colab": {
          "base_uri": "https://localhost:8080/",
          "height": 111
        }
      },
      "source": [
        "learn.fit_one_cycle(2, slice(2e-3/100, 2e-3))"
      ],
      "execution_count": 32,
      "outputs": [
        {
          "output_type": "display_data",
          "data": {
            "text/html": [
              "<table border=\"1\" class=\"dataframe\">\n",
              "  <thead>\n",
              "    <tr style=\"text-align: left;\">\n",
              "      <th>epoch</th>\n",
              "      <th>train_loss</th>\n",
              "      <th>valid_loss</th>\n",
              "      <th>accuracy</th>\n",
              "      <th>time</th>\n",
              "    </tr>\n",
              "  </thead>\n",
              "  <tbody>\n",
              "    <tr>\n",
              "      <td>0</td>\n",
              "      <td>1.390216</td>\n",
              "      <td>2.173458</td>\n",
              "      <td>0.636015</td>\n",
              "      <td>03:18</td>\n",
              "    </tr>\n",
              "    <tr>\n",
              "      <td>1</td>\n",
              "      <td>1.272542</td>\n",
              "      <td>2.094143</td>\n",
              "      <td>0.636015</td>\n",
              "      <td>03:27</td>\n",
              "    </tr>\n",
              "  </tbody>\n",
              "</table>"
            ],
            "text/plain": [
              "<IPython.core.display.HTML object>"
            ]
          },
          "metadata": {
            "tags": []
          }
        }
      ]
    },
    {
      "cell_type": "code",
      "metadata": {
        "id": "EEHszVRvGyFt",
        "colab_type": "code",
        "outputId": "f331962b-ed40-48f3-a981-dd1949a022e6",
        "colab": {
          "base_uri": "https://localhost:8080/",
          "height": 111
        }
      },
      "source": [
        "learn.fit_one_cycle(2, slice(2e-3/100, 2e-3))"
      ],
      "execution_count": 33,
      "outputs": [
        {
          "output_type": "display_data",
          "data": {
            "text/html": [
              "<table border=\"1\" class=\"dataframe\">\n",
              "  <thead>\n",
              "    <tr style=\"text-align: left;\">\n",
              "      <th>epoch</th>\n",
              "      <th>train_loss</th>\n",
              "      <th>valid_loss</th>\n",
              "      <th>accuracy</th>\n",
              "      <th>time</th>\n",
              "    </tr>\n",
              "  </thead>\n",
              "  <tbody>\n",
              "    <tr>\n",
              "      <td>0</td>\n",
              "      <td>1.283556</td>\n",
              "      <td>2.064091</td>\n",
              "      <td>0.636015</td>\n",
              "      <td>03:13</td>\n",
              "    </tr>\n",
              "    <tr>\n",
              "      <td>1</td>\n",
              "      <td>1.193460</td>\n",
              "      <td>2.019906</td>\n",
              "      <td>0.643678</td>\n",
              "      <td>03:26</td>\n",
              "    </tr>\n",
              "  </tbody>\n",
              "</table>"
            ],
            "text/plain": [
              "<IPython.core.display.HTML object>"
            ]
          },
          "metadata": {
            "tags": []
          }
        }
      ]
    },
    {
      "cell_type": "code",
      "metadata": {
        "id": "XsHfrhCHG3dN",
        "colab_type": "code",
        "outputId": "183cc6f9-d6e0-4d16-efff-e8ec8d406750",
        "colab": {
          "base_uri": "https://localhost:8080/",
          "height": 173
        }
      },
      "source": [
        "learn.fit_one_cycle(4, slice(2e-3/100, 2e-3))"
      ],
      "execution_count": 34,
      "outputs": [
        {
          "output_type": "display_data",
          "data": {
            "text/html": [
              "<table border=\"1\" class=\"dataframe\">\n",
              "  <thead>\n",
              "    <tr style=\"text-align: left;\">\n",
              "      <th>epoch</th>\n",
              "      <th>train_loss</th>\n",
              "      <th>valid_loss</th>\n",
              "      <th>accuracy</th>\n",
              "      <th>time</th>\n",
              "    </tr>\n",
              "  </thead>\n",
              "  <tbody>\n",
              "    <tr>\n",
              "      <td>0</td>\n",
              "      <td>1.177027</td>\n",
              "      <td>2.025417</td>\n",
              "      <td>0.642401</td>\n",
              "      <td>03:19</td>\n",
              "    </tr>\n",
              "    <tr>\n",
              "      <td>1</td>\n",
              "      <td>1.165708</td>\n",
              "      <td>2.007884</td>\n",
              "      <td>0.652618</td>\n",
              "      <td>03:30</td>\n",
              "    </tr>\n",
              "    <tr>\n",
              "      <td>2</td>\n",
              "      <td>1.048078</td>\n",
              "      <td>1.982260</td>\n",
              "      <td>0.646232</td>\n",
              "      <td>03:17</td>\n",
              "    </tr>\n",
              "    <tr>\n",
              "      <td>3</td>\n",
              "      <td>1.002787</td>\n",
              "      <td>1.979736</td>\n",
              "      <td>0.655172</td>\n",
              "      <td>03:18</td>\n",
              "    </tr>\n",
              "  </tbody>\n",
              "</table>"
            ],
            "text/plain": [
              "<IPython.core.display.HTML object>"
            ]
          },
          "metadata": {
            "tags": []
          }
        }
      ]
    },
    {
      "cell_type": "code",
      "metadata": {
        "id": "0Zsd99isb9EQ",
        "colab_type": "code",
        "outputId": "5a1568c6-4246-4a7a-b7b4-5d94339c1740",
        "colab": {
          "base_uri": "https://localhost:8080/",
          "height": 173
        }
      },
      "source": [
        "learn.fit_one_cycle(4, slice(2e-3/100, 2e-3))"
      ],
      "execution_count": 35,
      "outputs": [
        {
          "output_type": "display_data",
          "data": {
            "text/html": [
              "<table border=\"1\" class=\"dataframe\">\n",
              "  <thead>\n",
              "    <tr style=\"text-align: left;\">\n",
              "      <th>epoch</th>\n",
              "      <th>train_loss</th>\n",
              "      <th>valid_loss</th>\n",
              "      <th>accuracy</th>\n",
              "      <th>time</th>\n",
              "    </tr>\n",
              "  </thead>\n",
              "  <tbody>\n",
              "    <tr>\n",
              "      <td>0</td>\n",
              "      <td>0.991294</td>\n",
              "      <td>2.021709</td>\n",
              "      <td>0.669221</td>\n",
              "      <td>03:19</td>\n",
              "    </tr>\n",
              "    <tr>\n",
              "      <td>1</td>\n",
              "      <td>1.082211</td>\n",
              "      <td>2.062564</td>\n",
              "      <td>0.650064</td>\n",
              "      <td>03:35</td>\n",
              "    </tr>\n",
              "    <tr>\n",
              "      <td>2</td>\n",
              "      <td>1.001513</td>\n",
              "      <td>2.001762</td>\n",
              "      <td>0.661558</td>\n",
              "      <td>03:34</td>\n",
              "    </tr>\n",
              "    <tr>\n",
              "      <td>3</td>\n",
              "      <td>0.948534</td>\n",
              "      <td>1.971539</td>\n",
              "      <td>0.664112</td>\n",
              "      <td>03:28</td>\n",
              "    </tr>\n",
              "  </tbody>\n",
              "</table>"
            ],
            "text/plain": [
              "<IPython.core.display.HTML object>"
            ]
          },
          "metadata": {
            "tags": []
          }
        }
      ]
    },
    {
      "cell_type": "code",
      "metadata": {
        "id": "atNWNKDFPbuI",
        "colab_type": "code",
        "outputId": "93503691-2b52-4d5c-d84a-9fc635cfdc7d",
        "colab": {
          "base_uri": "https://localhost:8080/",
          "height": 173
        }
      },
      "source": [
        "learn.fit_one_cycle(4, slice(2e-3/100, 2e-3))"
      ],
      "execution_count": 36,
      "outputs": [
        {
          "output_type": "display_data",
          "data": {
            "text/html": [
              "<table border=\"1\" class=\"dataframe\">\n",
              "  <thead>\n",
              "    <tr style=\"text-align: left;\">\n",
              "      <th>epoch</th>\n",
              "      <th>train_loss</th>\n",
              "      <th>valid_loss</th>\n",
              "      <th>accuracy</th>\n",
              "      <th>time</th>\n",
              "    </tr>\n",
              "  </thead>\n",
              "  <tbody>\n",
              "    <tr>\n",
              "      <td>0</td>\n",
              "      <td>0.896496</td>\n",
              "      <td>1.992413</td>\n",
              "      <td>0.656450</td>\n",
              "      <td>03:25</td>\n",
              "    </tr>\n",
              "    <tr>\n",
              "      <td>1</td>\n",
              "      <td>0.973519</td>\n",
              "      <td>1.965876</td>\n",
              "      <td>0.662835</td>\n",
              "      <td>03:21</td>\n",
              "    </tr>\n",
              "    <tr>\n",
              "      <td>2</td>\n",
              "      <td>0.909662</td>\n",
              "      <td>1.973387</td>\n",
              "      <td>0.671775</td>\n",
              "      <td>03:14</td>\n",
              "    </tr>\n",
              "    <tr>\n",
              "      <td>3</td>\n",
              "      <td>0.879350</td>\n",
              "      <td>1.955661</td>\n",
              "      <td>0.669221</td>\n",
              "      <td>03:15</td>\n",
              "    </tr>\n",
              "  </tbody>\n",
              "</table>"
            ],
            "text/plain": [
              "<IPython.core.display.HTML object>"
            ]
          },
          "metadata": {
            "tags": []
          }
        }
      ]
    },
    {
      "cell_type": "code",
      "metadata": {
        "id": "rKrBTZ0T1uVA",
        "colab_type": "code",
        "outputId": "f609c581-bf2b-4b3e-c4a8-65e99bcb432e",
        "colab": {
          "base_uri": "https://localhost:8080/",
          "height": 173
        }
      },
      "source": [
        "learn.fit_one_cycle(4, slice(2e-3/100, 2e-3))"
      ],
      "execution_count": 37,
      "outputs": [
        {
          "output_type": "display_data",
          "data": {
            "text/html": [
              "<table border=\"1\" class=\"dataframe\">\n",
              "  <thead>\n",
              "    <tr style=\"text-align: left;\">\n",
              "      <th>epoch</th>\n",
              "      <th>train_loss</th>\n",
              "      <th>valid_loss</th>\n",
              "      <th>accuracy</th>\n",
              "      <th>time</th>\n",
              "    </tr>\n",
              "  </thead>\n",
              "  <tbody>\n",
              "    <tr>\n",
              "      <td>0</td>\n",
              "      <td>0.892835</td>\n",
              "      <td>2.032667</td>\n",
              "      <td>0.671775</td>\n",
              "      <td>03:33</td>\n",
              "    </tr>\n",
              "    <tr>\n",
              "      <td>1</td>\n",
              "      <td>0.908898</td>\n",
              "      <td>2.119913</td>\n",
              "      <td>0.671775</td>\n",
              "      <td>03:32</td>\n",
              "    </tr>\n",
              "    <tr>\n",
              "      <td>2</td>\n",
              "      <td>0.889929</td>\n",
              "      <td>2.069597</td>\n",
              "      <td>0.662835</td>\n",
              "      <td>03:33</td>\n",
              "    </tr>\n",
              "    <tr>\n",
              "      <td>3</td>\n",
              "      <td>0.809924</td>\n",
              "      <td>1.977696</td>\n",
              "      <td>0.666667</td>\n",
              "      <td>03:30</td>\n",
              "    </tr>\n",
              "  </tbody>\n",
              "</table>"
            ],
            "text/plain": [
              "<IPython.core.display.HTML object>"
            ]
          },
          "metadata": {
            "tags": []
          }
        }
      ]
    },
    {
      "cell_type": "code",
      "metadata": {
        "id": "ajQC6WDg1yA9",
        "colab_type": "code",
        "outputId": "c8195599-872b-4957-dfbc-e8bfc9a4fba1",
        "colab": {
          "base_uri": "https://localhost:8080/",
          "height": 173
        }
      },
      "source": [
        "learn.fit_one_cycle(4, slice(2e-3/100, 2e-3))"
      ],
      "execution_count": 38,
      "outputs": [
        {
          "output_type": "display_data",
          "data": {
            "text/html": [
              "<table border=\"1\" class=\"dataframe\">\n",
              "  <thead>\n",
              "    <tr style=\"text-align: left;\">\n",
              "      <th>epoch</th>\n",
              "      <th>train_loss</th>\n",
              "      <th>valid_loss</th>\n",
              "      <th>accuracy</th>\n",
              "      <th>time</th>\n",
              "    </tr>\n",
              "  </thead>\n",
              "  <tbody>\n",
              "    <tr>\n",
              "      <td>0</td>\n",
              "      <td>0.837048</td>\n",
              "      <td>2.073970</td>\n",
              "      <td>0.653895</td>\n",
              "      <td>03:31</td>\n",
              "    </tr>\n",
              "    <tr>\n",
              "      <td>1</td>\n",
              "      <td>0.874612</td>\n",
              "      <td>2.047682</td>\n",
              "      <td>0.664112</td>\n",
              "      <td>03:15</td>\n",
              "    </tr>\n",
              "    <tr>\n",
              "      <td>2</td>\n",
              "      <td>0.819138</td>\n",
              "      <td>1.996454</td>\n",
              "      <td>0.661558</td>\n",
              "      <td>03:18</td>\n",
              "    </tr>\n",
              "    <tr>\n",
              "      <td>3</td>\n",
              "      <td>0.839204</td>\n",
              "      <td>2.065536</td>\n",
              "      <td>0.660281</td>\n",
              "      <td>03:14</td>\n",
              "    </tr>\n",
              "  </tbody>\n",
              "</table>"
            ],
            "text/plain": [
              "<IPython.core.display.HTML object>"
            ]
          },
          "metadata": {
            "tags": []
          }
        }
      ]
    },
    {
      "cell_type": "code",
      "metadata": {
        "id": "KKydb0B4BKGk",
        "colab_type": "code",
        "outputId": "0cb83273-2b00-402a-be0a-0933d5f69882",
        "colab": {
          "base_uri": "https://localhost:8080/",
          "height": 173
        }
      },
      "source": [
        "learn.fit_one_cycle(4, slice(2e-3/100, 2e-3))"
      ],
      "execution_count": 39,
      "outputs": [
        {
          "output_type": "display_data",
          "data": {
            "text/html": [
              "<table border=\"1\" class=\"dataframe\">\n",
              "  <thead>\n",
              "    <tr style=\"text-align: left;\">\n",
              "      <th>epoch</th>\n",
              "      <th>train_loss</th>\n",
              "      <th>valid_loss</th>\n",
              "      <th>accuracy</th>\n",
              "      <th>time</th>\n",
              "    </tr>\n",
              "  </thead>\n",
              "  <tbody>\n",
              "    <tr>\n",
              "      <td>0</td>\n",
              "      <td>0.847661</td>\n",
              "      <td>2.107483</td>\n",
              "      <td>0.666667</td>\n",
              "      <td>03:22</td>\n",
              "    </tr>\n",
              "    <tr>\n",
              "      <td>1</td>\n",
              "      <td>0.863522</td>\n",
              "      <td>2.071063</td>\n",
              "      <td>0.666667</td>\n",
              "      <td>03:20</td>\n",
              "    </tr>\n",
              "    <tr>\n",
              "      <td>2</td>\n",
              "      <td>0.812753</td>\n",
              "      <td>2.068806</td>\n",
              "      <td>0.669221</td>\n",
              "      <td>03:19</td>\n",
              "    </tr>\n",
              "    <tr>\n",
              "      <td>3</td>\n",
              "      <td>0.778441</td>\n",
              "      <td>2.027361</td>\n",
              "      <td>0.671775</td>\n",
              "      <td>03:33</td>\n",
              "    </tr>\n",
              "  </tbody>\n",
              "</table>"
            ],
            "text/plain": [
              "<IPython.core.display.HTML object>"
            ]
          },
          "metadata": {
            "tags": []
          }
        }
      ]
    },
    {
      "cell_type": "code",
      "metadata": {
        "id": "T2APKtFKBpGY",
        "colab_type": "code",
        "outputId": "baff3d8c-9938-4164-f6b2-878cc3159a3e",
        "colab": {
          "base_uri": "https://localhost:8080/",
          "height": 173
        }
      },
      "source": [
        "learn.fit_one_cycle(4, slice(2e-3/100, 2e-3))"
      ],
      "execution_count": 40,
      "outputs": [
        {
          "output_type": "display_data",
          "data": {
            "text/html": [
              "<table border=\"1\" class=\"dataframe\">\n",
              "  <thead>\n",
              "    <tr style=\"text-align: left;\">\n",
              "      <th>epoch</th>\n",
              "      <th>train_loss</th>\n",
              "      <th>valid_loss</th>\n",
              "      <th>accuracy</th>\n",
              "      <th>time</th>\n",
              "    </tr>\n",
              "  </thead>\n",
              "  <tbody>\n",
              "    <tr>\n",
              "      <td>0</td>\n",
              "      <td>0.799374</td>\n",
              "      <td>2.068253</td>\n",
              "      <td>0.670498</td>\n",
              "      <td>03:32</td>\n",
              "    </tr>\n",
              "    <tr>\n",
              "      <td>1</td>\n",
              "      <td>0.872164</td>\n",
              "      <td>2.133042</td>\n",
              "      <td>0.656450</td>\n",
              "      <td>03:10</td>\n",
              "    </tr>\n",
              "    <tr>\n",
              "      <td>2</td>\n",
              "      <td>0.834839</td>\n",
              "      <td>2.142013</td>\n",
              "      <td>0.665390</td>\n",
              "      <td>03:19</td>\n",
              "    </tr>\n",
              "    <tr>\n",
              "      <td>3</td>\n",
              "      <td>0.768002</td>\n",
              "      <td>2.060053</td>\n",
              "      <td>0.669221</td>\n",
              "      <td>03:36</td>\n",
              "    </tr>\n",
              "  </tbody>\n",
              "</table>"
            ],
            "text/plain": [
              "<IPython.core.display.HTML object>"
            ]
          },
          "metadata": {
            "tags": []
          }
        }
      ]
    },
    {
      "cell_type": "code",
      "metadata": {
        "id": "KkgLDAq8nClh",
        "colab_type": "code",
        "outputId": "f9361d6e-5c0f-4795-f16e-0e9c7e5b00e2",
        "colab": {
          "base_uri": "https://localhost:8080/",
          "height": 173
        }
      },
      "source": [
        "learn.fit_one_cycle(4, slice(2e-3/100, 2e-3))"
      ],
      "execution_count": 41,
      "outputs": [
        {
          "output_type": "display_data",
          "data": {
            "text/html": [
              "<table border=\"1\" class=\"dataframe\">\n",
              "  <thead>\n",
              "    <tr style=\"text-align: left;\">\n",
              "      <th>epoch</th>\n",
              "      <th>train_loss</th>\n",
              "      <th>valid_loss</th>\n",
              "      <th>accuracy</th>\n",
              "      <th>time</th>\n",
              "    </tr>\n",
              "  </thead>\n",
              "  <tbody>\n",
              "    <tr>\n",
              "      <td>0</td>\n",
              "      <td>0.792431</td>\n",
              "      <td>2.145216</td>\n",
              "      <td>0.671775</td>\n",
              "      <td>03:16</td>\n",
              "    </tr>\n",
              "    <tr>\n",
              "      <td>1</td>\n",
              "      <td>0.817436</td>\n",
              "      <td>2.019876</td>\n",
              "      <td>0.670498</td>\n",
              "      <td>03:21</td>\n",
              "    </tr>\n",
              "    <tr>\n",
              "      <td>2</td>\n",
              "      <td>0.792637</td>\n",
              "      <td>2.128676</td>\n",
              "      <td>0.673052</td>\n",
              "      <td>03:11</td>\n",
              "    </tr>\n",
              "    <tr>\n",
              "      <td>3</td>\n",
              "      <td>0.758831</td>\n",
              "      <td>2.113595</td>\n",
              "      <td>0.666667</td>\n",
              "      <td>03:13</td>\n",
              "    </tr>\n",
              "  </tbody>\n",
              "</table>"
            ],
            "text/plain": [
              "<IPython.core.display.HTML object>"
            ]
          },
          "metadata": {
            "tags": []
          }
        }
      ]
    },
    {
      "cell_type": "code",
      "metadata": {
        "id": "xo9vgncnnDec",
        "colab_type": "code",
        "outputId": "317d5239-48dc-4ede-bc0a-312f620bed94",
        "colab": {
          "base_uri": "https://localhost:8080/",
          "height": 173
        }
      },
      "source": [
        "learn.fit_one_cycle(4, slice(2e-3/100, 2e-3))"
      ],
      "execution_count": 42,
      "outputs": [
        {
          "output_type": "display_data",
          "data": {
            "text/html": [
              "<table border=\"1\" class=\"dataframe\">\n",
              "  <thead>\n",
              "    <tr style=\"text-align: left;\">\n",
              "      <th>epoch</th>\n",
              "      <th>train_loss</th>\n",
              "      <th>valid_loss</th>\n",
              "      <th>accuracy</th>\n",
              "      <th>time</th>\n",
              "    </tr>\n",
              "  </thead>\n",
              "  <tbody>\n",
              "    <tr>\n",
              "      <td>0</td>\n",
              "      <td>0.792954</td>\n",
              "      <td>2.087447</td>\n",
              "      <td>0.666667</td>\n",
              "      <td>03:31</td>\n",
              "    </tr>\n",
              "    <tr>\n",
              "      <td>1</td>\n",
              "      <td>0.852988</td>\n",
              "      <td>2.121247</td>\n",
              "      <td>0.665390</td>\n",
              "      <td>03:16</td>\n",
              "    </tr>\n",
              "    <tr>\n",
              "      <td>2</td>\n",
              "      <td>0.792632</td>\n",
              "      <td>2.030438</td>\n",
              "      <td>0.666667</td>\n",
              "      <td>03:19</td>\n",
              "    </tr>\n",
              "    <tr>\n",
              "      <td>3</td>\n",
              "      <td>0.744135</td>\n",
              "      <td>2.078598</td>\n",
              "      <td>0.670498</td>\n",
              "      <td>03:13</td>\n",
              "    </tr>\n",
              "  </tbody>\n",
              "</table>"
            ],
            "text/plain": [
              "<IPython.core.display.HTML object>"
            ]
          },
          "metadata": {
            "tags": []
          }
        }
      ]
    },
    {
      "cell_type": "code",
      "metadata": {
        "id": "keYKcKuPtL5K",
        "colab_type": "code",
        "outputId": "8d4d72b8-fbdc-47f6-81f6-79527644d147",
        "colab": {
          "base_uri": "https://localhost:8080/",
          "height": 111
        }
      },
      "source": [
        "learn.fit_one_cycle(2, slice(2e-3/100, 2e-3))"
      ],
      "execution_count": 43,
      "outputs": [
        {
          "output_type": "display_data",
          "data": {
            "text/html": [
              "<table border=\"1\" class=\"dataframe\">\n",
              "  <thead>\n",
              "    <tr style=\"text-align: left;\">\n",
              "      <th>epoch</th>\n",
              "      <th>train_loss</th>\n",
              "      <th>valid_loss</th>\n",
              "      <th>accuracy</th>\n",
              "      <th>time</th>\n",
              "    </tr>\n",
              "  </thead>\n",
              "  <tbody>\n",
              "    <tr>\n",
              "      <td>0</td>\n",
              "      <td>0.761188</td>\n",
              "      <td>2.140102</td>\n",
              "      <td>0.666667</td>\n",
              "      <td>03:27</td>\n",
              "    </tr>\n",
              "    <tr>\n",
              "      <td>1</td>\n",
              "      <td>0.772365</td>\n",
              "      <td>2.150262</td>\n",
              "      <td>0.665390</td>\n",
              "      <td>03:32</td>\n",
              "    </tr>\n",
              "  </tbody>\n",
              "</table>"
            ],
            "text/plain": [
              "<IPython.core.display.HTML object>"
            ]
          },
          "metadata": {
            "tags": []
          }
        }
      ]
    },
    {
      "cell_type": "code",
      "metadata": {
        "id": "6opfpXGkt3hw",
        "colab_type": "code",
        "outputId": "0d39a472-e75e-4328-b2c9-967eddbe7403",
        "colab": {
          "base_uri": "https://localhost:8080/",
          "height": 111
        }
      },
      "source": [
        "learn.fit_one_cycle(2, slice(2e-3/100, 2e-3))"
      ],
      "execution_count": 44,
      "outputs": [
        {
          "output_type": "display_data",
          "data": {
            "text/html": [
              "<table border=\"1\" class=\"dataframe\">\n",
              "  <thead>\n",
              "    <tr style=\"text-align: left;\">\n",
              "      <th>epoch</th>\n",
              "      <th>train_loss</th>\n",
              "      <th>valid_loss</th>\n",
              "      <th>accuracy</th>\n",
              "      <th>time</th>\n",
              "    </tr>\n",
              "  </thead>\n",
              "  <tbody>\n",
              "    <tr>\n",
              "      <td>0</td>\n",
              "      <td>0.799020</td>\n",
              "      <td>2.144800</td>\n",
              "      <td>0.659004</td>\n",
              "      <td>03:19</td>\n",
              "    </tr>\n",
              "    <tr>\n",
              "      <td>1</td>\n",
              "      <td>0.751542</td>\n",
              "      <td>2.122224</td>\n",
              "      <td>0.660281</td>\n",
              "      <td>03:34</td>\n",
              "    </tr>\n",
              "  </tbody>\n",
              "</table>"
            ],
            "text/plain": [
              "<IPython.core.display.HTML object>"
            ]
          },
          "metadata": {
            "tags": []
          }
        }
      ]
    },
    {
      "cell_type": "code",
      "metadata": {
        "id": "c65d-osfDUXm",
        "colab_type": "code",
        "colab": {}
      },
      "source": [
        "# save the best model\n",
        "\n",
        "learn.save_encoder('ask-0-tuning-bigtweet')"
      ],
      "execution_count": 0,
      "outputs": []
    },
    {
      "cell_type": "markdown",
      "metadata": {
        "id": "rCwZU0E2RgM6",
        "colab_type": "text"
      },
      "source": [
        "# Part three: Predict on the test dataset"
      ]
    },
    {
      "cell_type": "code",
      "metadata": {
        "id": "gDm72c-dOu7d",
        "colab_type": "code",
        "outputId": "8d9c40d9-cc7f-496a-e244-8d4f5c367ffd",
        "colab": {
          "base_uri": "https://localhost:8080/",
          "height": 17
        }
      },
      "source": [
        "# use the test data for prediction\n",
        "\n",
        "preds, y = learn.get_preds(DatasetType.Test)"
      ],
      "execution_count": 46,
      "outputs": [
        {
          "output_type": "display_data",
          "data": {
            "text/html": [
              ""
            ],
            "text/plain": [
              "<IPython.core.display.HTML object>"
            ]
          },
          "metadata": {
            "tags": []
          }
        }
      ]
    },
    {
      "cell_type": "code",
      "metadata": {
        "id": "6tFSQcsWPvxn",
        "colab_type": "code",
        "outputId": "4d839e5e-948a-4735-a4ff-b85454b67e96",
        "colab": {
          "base_uri": "https://localhost:8080/",
          "height": 105
        }
      },
      "source": [
        "predictions, *_ = learn.get_preds(DatasetType.Test)\n",
        "labels = np.argmax(predictions, 1)\n",
        "predict_list = labels.tolist()\n",
        "standard_list = test[0].tolist()\n",
        "\n",
        "print(len(predict_list))\n",
        "print(len(standard_list))\n",
        "\n",
        "print(predict_list)\n",
        "print(standard_list)"
      ],
      "execution_count": 47,
      "outputs": [
        {
          "output_type": "display_data",
          "data": {
            "text/html": [
              ""
            ],
            "text/plain": [
              "<IPython.core.display.HTML object>"
            ]
          },
          "metadata": {
            "tags": []
          }
        },
        {
          "output_type": "stream",
          "text": [
            "866\n",
            "866\n",
            "[0, 532, 37, 182, 702, 269, 269, 269, 933, 16, 16, 16, 819, 27, 27, 27, 783, 197, 76, 197, 37, 37, 37, 37, 37, 741, 38, 184, 49, 987, 49, 49, 49, 49, 53, 785, 785, 265, 933, 817, 817, 71, 71, 71, 321, 343, 209, 864, 37, 741, 37, 37, 37, 37, 37, 37, 37, 37, 37, 37, 37, 37, 37, 37, 37, 37, 37, 37, 37, 37, 37, 37, 37, 37, 37, 37, 37, 37, 37, 37, 37, 37, 37, 37, 37, 817, 80, 80, 788, 455, 733, 384, 92, 94, 431, 431, 94, 94, 94, 409, 96, 764, 49, 98, 100, 100, 100, 100, 100, 100, 100, 100, 358, 103, 817, 712, 384, 107, 108, 108, 108, 111, 111, 111, 111, 111, 111, 111, 111, 111, 817, 119, 122, 515, 41, 41, 125, 455, 125, 125, 125, 125, 125, 125, 135, 817, 439, 137, 344, 449, 148, 817, 157, 865, 557, 4, 166, 166, 166, 171, 210, 172, 289, 289, 172, 864, 864, 864, 864, 864, 427, 817, 117, 245, 817, 165, 687, 687, 182, 190, 183, 183, 183, 183, 183, 183, 183, 183, 817, 187, 187, 190, 190, 462, 172, 700, 190, 190, 190, 190, 190, 190, 182, 462, 817, 20, 197, 197, 197, 197, 197, 202, 202, 205, 197, 210, 210, 172, 30, 896, 214, 214, 214, 817, 817, 896, 896, 896, 896, 896, 896, 896, 896, 896, 896, 896, 265, 753, 896, 704, 704, 704, 471, 817, 180, 218, 220, 220, 788, 228, 37, 228, 228, 228, 228, 228, 228, 228, 228, 228, 228, 731, 234, 235, 245, 702, 265, 34, 725, 455, 817, 817, 817, 243, 243, 243, 243, 243, 243, 243, 243, 243, 817, 817, 765, 817, 817, 210, 210, 50, 50, 517, 517, 517, 645, 830, 746, 441, 441, 264, 265, 265, 265, 214, 265, 938, 265, 766, 265, 265, 265, 265, 265, 265, 265, 265, 265, 265, 265, 265, 265, 353, 265, 470, 281, 89, 89, 470, 269, 4, 274, 279, 279, 0, 817, 289, 469, 283, 162, 289, 289, 289, 289, 289, 289, 172, 289, 289, 289, 289, 289, 289, 289, 289, 289, 289, 614, 325, 301, 117, 702, 309, 309, 309, 309, 309, 321, 313, 313, 318, 318, 874, 260, 117, 325, 325, 325, 325, 817, 817, 325, 326, 427, 427, 766, 334, 336, 194, 342, 342, 342, 342, 343, 343, 344, 289, 359, 359, 359, 896, 470, 364, 364, 274, 228, 391, 817, 396, 397, 289, 455, 351, 817, 408, 711, 711, 711, 556, 408, 427, 360, 415, 260, 651, 741, 260, 260, 260, 260, 260, 260, 419, 419, 455, 426, 426, 427, 427, 427, 427, 427, 427, 427, 427, 817, 817, 615, 615, 427, 430, 61, 434, 435, 681, 443, 444, 445, 439, 912, 511, 597, 817, 817, 817, 817, 817, 817, 817, 817, 458, 458, 460, 462, 873, 470, 817, 475, 475, 475, 817, 479, 543, 484, 484, 701, 933, 491, 491, 491, 62, 662, 4, 817, 382, 499, 499, 344, 503, 509, 476, 289, 517, 517, 517, 517, 517, 427, 524, 817, 530, 809, 530, 530, 530, 531, 531, 532, 532, 541, 545, 545, 545, 840, 817, 549, 270, 567, 572, 383, 245, 578, 470, 197, 626, 590, 590, 591, 591, 592, 592, 535, 597, 427, 817, 597, 817, 554, 817, 326, 487, 487, 817, 817, 76, 614, 614, 614, 817, 817, 479, 528, 528, 528, 623, 337, 643, 646, 646, 646, 646, 646, 817, 172, 652, 652, 652, 652, 659, 660, 108, 662, 662, 663, 666, 666, 100, 772, 817, 289, 698, 702, 741, 265, 681, 707, 470, 210, 711, 711, 711, 714, 724, 8, 652, 764, 645, 37, 741, 543, 168, 492, 747, 861, 861, 753, 753, 753, 753, 753, 681, 562, 515, 768, 470, 773, 773, 775, 775, 775, 775, 775, 775, 775, 778, 769, 591, 783, 794, 427, 798, 847, 802, 803, 804, 817, 210, 806, 817, 183, 809, 809, 809, 810, 810, 470, 343, 825, 455, 228, 830, 830, 830, 830, 830, 817, 817, 736, 202, 515, 245, 816, 816, 4, 817, 89, 846, 847, 794, 727, 785, 853, 853, 853, 853, 817, 817, 861, 865, 877, 817, 787, 97, 896, 896, 896, 896, 896, 896, 471, 896, 579, 470, 896, 904, 896, 817, 919, 922, 817, 927, 933, 937, 937, 937, 937, 937, 455, 948, 948, 455, 949, 949, 949, 949, 949, 949, 949, 949, 949, 949, 949, 949, 949, 949, 949, 949, 949, 949, 949, 949, 949, 949, 949, 949, 949, 949, 949, 949, 949, 949, 949, 949, 949, 949, 949, 949, 949, 949, 949, 949, 949, 949, 949, 949, 949, 949, 949, 949, 949, 949, 949, 949, 949, 949, 949, 949, 949, 949, 949, 949, 949, 949, 949, 949, 949, 949, 949, 949, 949, 949, 949, 949, 949, 949, 949, 949, 949, 949, 949, 949, 949, 455, 455, 949, 949, 949, 949, 949, 949, 949, 949, 949, 949, 949, 949, 949, 949, 949, 949, 949, 949, 949, 950, 950, 950, 950, 950, 952, 455, 955, 455, 817, 960, 511, 983, 971, 974, 455, 455, 817, 995, 987, 817, 455, 992, 817, 999, 817, 1019, 817, 455, 1004, 511, 455, 817, 455, 817, 1028, 1028, 1029, 1029, 1031, 1031, 1032, 1035, 1035]\n",
            "[0, 0, 2, 2, 2, 8, 8, 8, 8, 16, 16, 16, 19, 27, 27, 27, 33, 34, 34, 34, 37, 37, 37, 37, 37, 37, 38, 48, 49, 49, 49, 49, 49, 49, 53, 53, 53, 58, 62, 67, 68, 71, 71, 71, 71, 73, 76, 79, 79, 79, 79, 79, 79, 79, 79, 79, 79, 79, 79, 79, 79, 79, 79, 79, 79, 79, 79, 79, 79, 79, 79, 79, 79, 79, 79, 79, 79, 79, 79, 79, 79, 79, 79, 79, 79, 79, 80, 80, 80, 83, 88, 88, 92, 94, 94, 94, 94, 94, 94, 95, 96, 96, 96, 98, 100, 100, 100, 100, 100, 100, 100, 100, 100, 103, 104, 107, 107, 107, 108, 108, 108, 111, 111, 111, 111, 111, 111, 111, 111, 111, 114, 119, 122, 122, 122, 122, 125, 125, 125, 125, 125, 125, 125, 125, 135, 135, 137, 137, 144, 148, 148, 151, 157, 159, 163, 163, 166, 166, 166, 171, 172, 172, 172, 172, 172, 172, 172, 172, 172, 172, 173, 173, 173, 173, 173, 178, 181, 181, 182, 182, 183, 183, 183, 183, 183, 183, 183, 183, 184, 187, 187, 190, 190, 190, 190, 190, 190, 190, 190, 190, 190, 190, 190, 190, 193, 196, 197, 197, 197, 197, 197, 202, 202, 205, 209, 210, 210, 211, 211, 214, 214, 214, 214, 214, 214, 214, 214, 214, 214, 214, 214, 214, 214, 214, 214, 214, 214, 214, 214, 214, 214, 214, 214, 216, 217, 218, 220, 220, 220, 228, 228, 228, 228, 228, 228, 228, 228, 228, 228, 228, 228, 231, 234, 235, 236, 236, 236, 237, 237, 238, 238, 243, 243, 243, 243, 243, 243, 243, 243, 243, 243, 243, 243, 244, 245, 245, 245, 245, 245, 245, 245, 246, 246, 246, 254, 254, 257, 258, 258, 264, 265, 265, 265, 265, 265, 265, 265, 265, 265, 265, 265, 265, 265, 265, 265, 265, 265, 265, 265, 265, 265, 265, 265, 265, 265, 268, 268, 269, 269, 273, 274, 279, 279, 280, 280, 281, 281, 283, 286, 289, 289, 289, 289, 289, 289, 289, 289, 289, 289, 289, 289, 289, 289, 289, 289, 289, 289, 301, 301, 309, 309, 309, 309, 309, 309, 309, 311, 313, 313, 318, 318, 318, 318, 322, 325, 325, 325, 325, 325, 325, 325, 326, 329, 329, 331, 334, 336, 337, 342, 342, 342, 342, 343, 343, 344, 345, 359, 359, 359, 363, 363, 364, 364, 378, 381, 391, 396, 396, 397, 399, 401, 402, 402, 408, 408, 408, 408, 408, 408, 412, 415, 415, 419, 419, 419, 419, 419, 419, 419, 419, 419, 419, 419, 424, 426, 426, 427, 427, 427, 427, 427, 427, 427, 427, 427, 427, 427, 427, 427, 430, 430, 434, 435, 437, 443, 444, 445, 446, 454, 455, 455, 455, 455, 455, 455, 455, 455, 455, 455, 458, 458, 460, 462, 468, 470, 474, 475, 475, 475, 476, 479, 480, 484, 484, 487, 491, 491, 491, 491, 491, 491, 495, 495, 499, 499, 499, 502, 503, 509, 509, 512, 517, 517, 517, 517, 517, 522, 524, 527, 530, 530, 530, 530, 530, 531, 531, 532, 532, 541, 545, 545, 545, 547, 548, 549, 553, 567, 572, 574, 578, 578, 579, 584, 584, 590, 590, 591, 591, 592, 592, 595, 597, 597, 597, 597, 597, 598, 600, 605, 610, 610, 611, 611, 614, 614, 614, 614, 619, 619, 623, 623, 623, 623, 623, 638, 643, 646, 646, 646, 646, 646, 646, 651, 652, 652, 652, 652, 659, 660, 660, 662, 662, 664, 666, 666, 683, 686, 693, 698, 698, 702, 703, 704, 706, 707, 710, 710, 711, 711, 711, 714, 715, 719, 720, 727, 739, 741, 741, 746, 746, 746, 747, 749, 750, 753, 753, 753, 753, 753, 754, 755, 760, 768, 771, 771, 773, 775, 775, 775, 775, 775, 775, 775, 778, 779, 780, 783, 794, 795, 798, 801, 802, 803, 804, 804, 805, 806, 806, 809, 809, 809, 809, 810, 810, 817, 822, 825, 826, 827, 830, 830, 830, 830, 830, 830, 830, 831, 834, 836, 839, 841, 841, 842, 844, 845, 846, 847, 847, 847, 852, 853, 853, 853, 853, 853, 853, 861, 865, 877, 884, 887, 894, 896, 896, 896, 896, 896, 896, 896, 896, 896, 896, 896, 904, 905, 915, 919, 919, 926, 927, 933, 937, 937, 937, 937, 937, 940, 948, 948, 949, 949, 949, 949, 949, 949, 949, 949, 949, 949, 949, 949, 949, 949, 949, 949, 949, 949, 949, 949, 949, 949, 949, 949, 949, 949, 949, 949, 949, 949, 949, 949, 949, 949, 949, 949, 949, 949, 949, 949, 949, 949, 949, 949, 949, 949, 949, 949, 949, 949, 949, 949, 949, 949, 949, 949, 949, 949, 949, 949, 949, 949, 949, 949, 949, 949, 949, 949, 949, 949, 949, 949, 949, 949, 949, 949, 949, 949, 949, 949, 949, 949, 949, 949, 949, 949, 949, 949, 949, 949, 949, 949, 949, 949, 949, 949, 949, 949, 949, 949, 949, 949, 949, 950, 950, 950, 950, 950, 952, 953, 955, 956, 959, 960, 964, 964, 971, 974, 976, 976, 979, 981, 987, 990, 992, 992, 993, 999, 999, 999, 999, 1001, 1004, 1016, 1016, 1016, 1021, 1026, 1028, 1028, 1029, 1029, 1031, 1031, 1032, 1035, 1035]\n"
          ],
          "name": "stdout"
        }
      ]
    },
    {
      "cell_type": "code",
      "metadata": {
        "id": "XIC4zufnMxtq",
        "colab_type": "code",
        "outputId": "439975d4-fba9-495b-e606-0b42d14c7d54",
        "colab": {
          "base_uri": "https://localhost:8080/",
          "height": 51
        }
      },
      "source": [
        "correct_num = 0\n",
        "\n",
        "for i in range(0, len(standard_list)):\n",
        "  if predict_list[i] == standard_list[i]:\n",
        "    correct_num = correct_num+1\n",
        "  else:\n",
        "    pass\n",
        "print(correct_num)\n",
        "\n",
        "predict_accuracy = correct_num/len(predict_list)\n",
        "print(predict_accuracy)"
      ],
      "execution_count": 48,
      "outputs": [
        {
          "output_type": "stream",
          "text": [
            "486\n",
            "0.5612009237875288\n"
          ],
          "name": "stdout"
        }
      ]
    },
    {
      "cell_type": "code",
      "metadata": {
        "id": "zlKMHp1CIaRJ",
        "colab_type": "code",
        "colab": {}
      },
      "source": [
        ""
      ],
      "execution_count": 0,
      "outputs": []
    }
  ]
}