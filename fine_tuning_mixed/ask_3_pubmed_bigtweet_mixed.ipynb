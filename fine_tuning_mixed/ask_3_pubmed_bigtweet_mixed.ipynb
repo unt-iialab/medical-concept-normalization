{
  "nbformat": 4,
  "nbformat_minor": 0,
  "metadata": {
    "colab": {
      "name": "ask_3_pubmed_bigtweet_mixed.ipynb",
      "provenance": [],
      "collapsed_sections": [],
      "toc_visible": true,
      "include_colab_link": true
    },
    "kernelspec": {
      "name": "python3",
      "display_name": "Python 3"
    },
    "accelerator": "TPU"
  },
  "cells": [
    {
      "cell_type": "markdown",
      "metadata": {
        "id": "view-in-github",
        "colab_type": "text"
      },
      "source": [
        "<a href=\"https://colab.research.google.com/github/unt-iialab/medical-concept-normalization/blob/master/fine_tuning_mixed/ask_3_pubmed_bigtweet_mixed.ipynb\" target=\"_parent\"><img src=\"https://colab.research.google.com/assets/colab-badge.svg\" alt=\"Open In Colab\"/></a>"
      ]
    },
    {
      "cell_type": "code",
      "metadata": {
        "id": "adSi6i2-dWxy",
        "colab_type": "code",
        "colab": {}
      },
      "source": [
        "import os"
      ],
      "execution_count": 0,
      "outputs": []
    },
    {
      "cell_type": "code",
      "metadata": {
        "id": "E7xYCRGPjd9B",
        "colab_type": "code",
        "colab": {}
      },
      "source": [
        "base_dir = 'medical-concept-normalization'"
      ],
      "execution_count": 0,
      "outputs": []
    },
    {
      "cell_type": "code",
      "metadata": {
        "id": "yvIW3aUDjYNS",
        "colab_type": "code",
        "colab": {}
      },
      "source": [
        "os.mkdir(base_dir)"
      ],
      "execution_count": 0,
      "outputs": []
    },
    {
      "cell_type": "code",
      "metadata": {
        "id": "es-FFLlfk6SG",
        "colab_type": "code",
        "colab": {}
      },
      "source": [
        "os.mkdir('medical-concept-normalization/data_collection')"
      ],
      "execution_count": 0,
      "outputs": []
    },
    {
      "cell_type": "markdown",
      "metadata": {
        "id": "0R-Guw_VoJXm",
        "colab_type": "text"
      },
      "source": [
        "**Install fastai and clone the fastai for text classification**\n",
        "\n"
      ]
    },
    {
      "cell_type": "code",
      "metadata": {
        "id": "QVZa3Z0PmHFH",
        "colab_type": "code",
        "outputId": "f075ffcf-de3b-4d57-9e00-7e40ba556100",
        "colab": {
          "base_uri": "https://localhost:8080/",
          "height": 119
        }
      },
      "source": [
        "!curl https://course-v3.fast.ai/setup/colab | bash"
      ],
      "execution_count": 5,
      "outputs": [
        {
          "output_type": "stream",
          "text": [
            "  % Total    % Received % Xferd  Average Speed   Time    Time     Time  Current\n",
            "                                 Dload  Upload   Total   Spent    Left  Speed\n",
            "  0     0    0     0    0     0      0      0 --:--:-- --:--:-- --:--:--     0bash: line 1: syntax error near unexpected token `newline'\n",
            "bash: line 1: `<!DOCTYPE html>'\n",
            "100  9115  100  9115    0     0  47473      0 --:--:-- --:--:-- --:--:-- 47473\n",
            "curl: (23) Failed writing body (289 != 1212)\n"
          ],
          "name": "stdout"
        }
      ]
    },
    {
      "cell_type": "code",
      "metadata": {
        "id": "_FBFFEBrmJC0",
        "colab_type": "code",
        "outputId": "586aef50-ea3a-46f3-95d1-0fcdd0946448",
        "colab": {
          "base_uri": "https://localhost:8080/",
          "height": 85
        }
      },
      "source": [
        "!git clone https://github.com/wshuyi/demo-nlp-classification-fastai.git"
      ],
      "execution_count": 6,
      "outputs": [
        {
          "output_type": "stream",
          "text": [
            "Cloning into 'demo-nlp-classification-fastai'...\n",
            "remote: Enumerating objects: 9, done.\u001b[K\n",
            "remote: Total 9 (delta 0), reused 0 (delta 0), pack-reused 9\u001b[K\n",
            "Unpacking objects: 100% (9/9), done.\n"
          ],
          "name": "stdout"
        }
      ]
    },
    {
      "cell_type": "code",
      "metadata": {
        "id": "66zfh_JqmWMU",
        "colab_type": "code",
        "colab": {}
      },
      "source": [
        "from fastai import *\n",
        "from fastai.text import *"
      ],
      "execution_count": 0,
      "outputs": []
    },
    {
      "cell_type": "markdown",
      "metadata": {
        "id": "mNIw-yALdBU9",
        "colab_type": "text"
      },
      "source": [
        "**Set the path of the data collections**"
      ]
    },
    {
      "cell_type": "code",
      "metadata": {
        "id": "pzH7VMh4mqCL",
        "colab_type": "code",
        "colab": {}
      },
      "source": [
        "path = Path('medical-concept-normalization/data_collection')"
      ],
      "execution_count": 0,
      "outputs": []
    },
    {
      "cell_type": "code",
      "metadata": {
        "id": "b8fjI6yyn4aS",
        "colab_type": "code",
        "colab": {}
      },
      "source": [
        "# training data set\n",
        "\n",
        "train_csv = path/'AskAPatient.fold-3.train.csv'\n",
        "train = pd.read_csv(train_csv, header=None)\n",
        "#train.head()\n",
        "#train.info()"
      ],
      "execution_count": 0,
      "outputs": []
    },
    {
      "cell_type": "code",
      "metadata": {
        "id": "Hmlr-bAorfHd",
        "colab_type": "code",
        "outputId": "4085f2fc-bddf-49b0-e179-1ec3e7637972",
        "colab": {
          "base_uri": "https://localhost:8080/",
          "height": 204
        }
      },
      "source": [
        "# validating data set\n",
        "\n",
        "valid = pd.read_csv(path/\"AskAPatient.fold-3.validation.csv\",header=None)\n",
        "valid.head()"
      ],
      "execution_count": 13,
      "outputs": [
        {
          "output_type": "execute_result",
          "data": {
            "text/html": [
              "<div>\n",
              "<style scoped>\n",
              "    .dataframe tbody tr th:only-of-type {\n",
              "        vertical-align: middle;\n",
              "    }\n",
              "\n",
              "    .dataframe tbody tr th {\n",
              "        vertical-align: top;\n",
              "    }\n",
              "\n",
              "    .dataframe thead th {\n",
              "        text-align: right;\n",
              "    }\n",
              "</style>\n",
              "<table border=\"1\" class=\"dataframe\">\n",
              "  <thead>\n",
              "    <tr style=\"text-align: right;\">\n",
              "      <th></th>\n",
              "      <th>0</th>\n",
              "      <th>1</th>\n",
              "    </tr>\n",
              "  </thead>\n",
              "  <tbody>\n",
              "    <tr>\n",
              "      <th>0</th>\n",
              "      <td>2</td>\n",
              "      <td>left heel pain</td>\n",
              "    </tr>\n",
              "    <tr>\n",
              "      <th>1</th>\n",
              "      <td>2</td>\n",
              "      <td>right heel became painful</td>\n",
              "    </tr>\n",
              "    <tr>\n",
              "      <th>2</th>\n",
              "      <td>8</td>\n",
              "      <td>Arthritis</td>\n",
              "    </tr>\n",
              "    <tr>\n",
              "      <th>3</th>\n",
              "      <td>8</td>\n",
              "      <td>arthritis</td>\n",
              "    </tr>\n",
              "    <tr>\n",
              "      <th>4</th>\n",
              "      <td>8</td>\n",
              "      <td>arthritis</td>\n",
              "    </tr>\n",
              "  </tbody>\n",
              "</table>\n",
              "</div>"
            ],
            "text/plain": [
              "   0                          1\n",
              "0  2             left heel pain\n",
              "1  2  right heel became painful\n",
              "2  8                  Arthritis\n",
              "3  8                  arthritis\n",
              "4  8                  arthritis"
            ]
          },
          "metadata": {
            "tags": []
          },
          "execution_count": 13
        }
      ]
    },
    {
      "cell_type": "code",
      "metadata": {
        "id": "cOza9dfSsBud",
        "colab_type": "code",
        "outputId": "c08b26b8-53ab-4fb8-9f72-a750e4e8f797",
        "colab": {
          "base_uri": "https://localhost:8080/",
          "height": 204
        }
      },
      "source": [
        "# testing data set\n",
        "\n",
        "test = pd.read_csv(path/\"AskAPatient.fold-3.test.csv\",header=None)\n",
        "test.head()"
      ],
      "execution_count": 14,
      "outputs": [
        {
          "output_type": "execute_result",
          "data": {
            "text/html": [
              "<div>\n",
              "<style scoped>\n",
              "    .dataframe tbody tr th:only-of-type {\n",
              "        vertical-align: middle;\n",
              "    }\n",
              "\n",
              "    .dataframe tbody tr th {\n",
              "        vertical-align: top;\n",
              "    }\n",
              "\n",
              "    .dataframe thead th {\n",
              "        text-align: right;\n",
              "    }\n",
              "</style>\n",
              "<table border=\"1\" class=\"dataframe\">\n",
              "  <thead>\n",
              "    <tr style=\"text-align: right;\">\n",
              "      <th></th>\n",
              "      <th>0</th>\n",
              "      <th>1</th>\n",
              "    </tr>\n",
              "  </thead>\n",
              "  <tbody>\n",
              "    <tr>\n",
              "      <th>0</th>\n",
              "      <td>2</td>\n",
              "      <td>heel pain</td>\n",
              "    </tr>\n",
              "    <tr>\n",
              "      <th>1</th>\n",
              "      <td>5</td>\n",
              "      <td>rapid heart beat</td>\n",
              "    </tr>\n",
              "    <tr>\n",
              "      <th>2</th>\n",
              "      <td>6</td>\n",
              "      <td>diastolic dysfunction</td>\n",
              "    </tr>\n",
              "    <tr>\n",
              "      <th>3</th>\n",
              "      <td>8</td>\n",
              "      <td>arthritis</td>\n",
              "    </tr>\n",
              "    <tr>\n",
              "      <th>4</th>\n",
              "      <td>8</td>\n",
              "      <td>arthritis</td>\n",
              "    </tr>\n",
              "  </tbody>\n",
              "</table>\n",
              "</div>"
            ],
            "text/plain": [
              "   0                      1\n",
              "0  2              heel pain\n",
              "1  5       rapid heart beat\n",
              "2  6  diastolic dysfunction\n",
              "3  8              arthritis\n",
              "4  8              arthritis"
            ]
          },
          "metadata": {
            "tags": []
          },
          "execution_count": 14
        }
      ]
    },
    {
      "cell_type": "code",
      "metadata": {
        "id": "Vo-YNvVYoaH6",
        "colab_type": "code",
        "outputId": "d1df8676-5818-42c2-cb02-5aabd13ff811",
        "colab": {
          "base_uri": "https://localhost:8080/",
          "height": 17
        }
      },
      "source": [
        "# Creating DataBunch for language modelling\n",
        "\n",
        "data_lm = TextLMDataBunch.from_csv(path, 'fine_tuning_language_model_pubmed_bigtweet_mixed.csv')"
      ],
      "execution_count": 15,
      "outputs": [
        {
          "output_type": "display_data",
          "data": {
            "text/html": [
              ""
            ],
            "text/plain": [
              "<IPython.core.display.HTML object>"
            ]
          },
          "metadata": {
            "tags": []
          }
        },
        {
          "output_type": "display_data",
          "data": {
            "text/html": [
              ""
            ],
            "text/plain": [
              "<IPython.core.display.HTML object>"
            ]
          },
          "metadata": {
            "tags": []
          }
        }
      ]
    },
    {
      "cell_type": "code",
      "metadata": {
        "id": "qcV-9kMnNLBf",
        "colab_type": "code",
        "colab": {}
      },
      "source": [
        ""
      ],
      "execution_count": 0,
      "outputs": []
    },
    {
      "cell_type": "code",
      "metadata": {
        "id": "1ScY9afDsnvE",
        "colab_type": "code",
        "colab": {}
      },
      "source": [
        "# Creating DataBunch for classification\n",
        "\n",
        "# data_clas = TextClasDataBunch.from_df(path, train, valid, test, vocab=data_lm.train_ds.vocab, bs=128)"
      ],
      "execution_count": 0,
      "outputs": []
    },
    {
      "cell_type": "code",
      "metadata": {
        "id": "gzrSdQcvey9p",
        "colab_type": "code",
        "outputId": "a92fd3de-4e97-4c6a-c1c2-61d12f4fa9f3",
        "colab": {
          "base_uri": "https://localhost:8080/",
          "height": 17
        }
      },
      "source": [
        "data_clas = TextClasDataBunch.from_df(path, train, valid, vocab=data_lm.train_ds.vocab, bs=128)"
      ],
      "execution_count": 17,
      "outputs": [
        {
          "output_type": "display_data",
          "data": {
            "text/html": [
              ""
            ],
            "text/plain": [
              "<IPython.core.display.HTML object>"
            ]
          },
          "metadata": {
            "tags": []
          }
        },
        {
          "output_type": "display_data",
          "data": {
            "text/html": [
              ""
            ],
            "text/plain": [
              "<IPython.core.display.HTML object>"
            ]
          },
          "metadata": {
            "tags": []
          }
        }
      ]
    },
    {
      "cell_type": "code",
      "metadata": {
        "id": "MD27Tf0Ke3ou",
        "colab_type": "code",
        "colab": {
          "base_uri": "https://localhost:8080/",
          "height": 17
        },
        "outputId": "4164ade6-45b1-47a7-d496-ce37a2fc9613"
      },
      "source": [
        "data_clas.add_test(test,label=0)\n"
      ],
      "execution_count": 18,
      "outputs": [
        {
          "output_type": "display_data",
          "data": {
            "text/html": [
              ""
            ],
            "text/plain": [
              "<IPython.core.display.HTML object>"
            ]
          },
          "metadata": {
            "tags": []
          }
        }
      ]
    },
    {
      "cell_type": "code",
      "metadata": {
        "id": "-dpjnk_rstwk",
        "colab_type": "code",
        "colab": {}
      },
      "source": [
        "data_lm.save()\n",
        "data_clas.save()"
      ],
      "execution_count": 0,
      "outputs": []
    },
    {
      "cell_type": "code",
      "metadata": {
        "id": "4OkiJa36sw5s",
        "colab_type": "code",
        "colab": {}
      },
      "source": [
        "data_lm.train_ds.vocab.itos"
      ],
      "execution_count": 0,
      "outputs": []
    },
    {
      "cell_type": "code",
      "metadata": {
        "id": "yPWr03mls3VT",
        "colab_type": "code",
        "colab": {
          "base_uri": "https://localhost:8080/",
          "height": 17
        },
        "outputId": "6a1bf25d-a1d7-4e6b-c383-b96d6c1c488e"
      },
      "source": [
        "model_path = path/'models'\n",
        "model_path.mkdir(exist_ok=True)\n",
        "url = 'http://files.fast.ai/models/wt103_v1/'\n",
        "download_url(f'{url}lstm_wt103.pth', model_path/'lstm_wt103.pth')\n",
        "download_url(f'{url}itos_wt103.pkl', model_path/'itos_wt103.pkl')"
      ],
      "execution_count": 21,
      "outputs": [
        {
          "output_type": "display_data",
          "data": {
            "text/html": [
              ""
            ],
            "text/plain": [
              "<IPython.core.display.HTML object>"
            ]
          },
          "metadata": {
            "tags": []
          }
        },
        {
          "output_type": "display_data",
          "data": {
            "text/html": [
              ""
            ],
            "text/plain": [
              "<IPython.core.display.HTML object>"
            ]
          },
          "metadata": {
            "tags": []
          }
        }
      ]
    },
    {
      "cell_type": "code",
      "metadata": {
        "id": "JRzvWg8RtGGr",
        "colab_type": "code",
        "colab": {
          "base_uri": "https://localhost:8080/",
          "height": 34
        },
        "outputId": "9f16d496-05b0-4f93-ba4a-662665a9f50e"
      },
      "source": [
        "learn = language_model_learner(data_lm, AWD_LSTM, drop_mult=0.5)"
      ],
      "execution_count": 22,
      "outputs": [
        {
          "output_type": "stream",
          "text": [
            "Downloading https://s3.amazonaws.com/fast-ai-modelzoo/wt103-fwd\n"
          ],
          "name": "stdout"
        },
        {
          "output_type": "display_data",
          "data": {
            "text/html": [
              ""
            ],
            "text/plain": [
              "<IPython.core.display.HTML object>"
            ]
          },
          "metadata": {
            "tags": []
          }
        }
      ]
    },
    {
      "cell_type": "code",
      "metadata": {
        "id": "xKK7GeBev7Xn",
        "colab_type": "code",
        "colab": {
          "base_uri": "https://localhost:8080/",
          "height": 80
        },
        "outputId": "f210cb25-3640-495c-9120-24af9b2d0815"
      },
      "source": [
        "learn.fit_one_cycle(1, 1e-2)"
      ],
      "execution_count": 23,
      "outputs": [
        {
          "output_type": "display_data",
          "data": {
            "text/html": [
              "<table border=\"1\" class=\"dataframe\">\n",
              "  <thead>\n",
              "    <tr style=\"text-align: left;\">\n",
              "      <th>epoch</th>\n",
              "      <th>train_loss</th>\n",
              "      <th>valid_loss</th>\n",
              "      <th>accuracy</th>\n",
              "      <th>time</th>\n",
              "    </tr>\n",
              "  </thead>\n",
              "  <tbody>\n",
              "    <tr>\n",
              "      <td>0</td>\n",
              "      <td>5.225779</td>\n",
              "      <td>4.665731</td>\n",
              "      <td>0.247954</td>\n",
              "      <td>17:12</td>\n",
              "    </tr>\n",
              "  </tbody>\n",
              "</table>"
            ],
            "text/plain": [
              "<IPython.core.display.HTML object>"
            ]
          },
          "metadata": {
            "tags": []
          }
        }
      ]
    },
    {
      "cell_type": "code",
      "metadata": {
        "id": "iB7rHGQCwd12",
        "colab_type": "code",
        "colab": {
          "base_uri": "https://localhost:8080/",
          "height": 80
        },
        "outputId": "02ef4724-8d77-47ca-c3c7-c22f6eb97979"
      },
      "source": [
        "learn.fit_one_cycle(1, 1e-2)"
      ],
      "execution_count": 24,
      "outputs": [
        {
          "output_type": "display_data",
          "data": {
            "text/html": [
              "<table border=\"1\" class=\"dataframe\">\n",
              "  <thead>\n",
              "    <tr style=\"text-align: left;\">\n",
              "      <th>epoch</th>\n",
              "      <th>train_loss</th>\n",
              "      <th>valid_loss</th>\n",
              "      <th>accuracy</th>\n",
              "      <th>time</th>\n",
              "    </tr>\n",
              "  </thead>\n",
              "  <tbody>\n",
              "    <tr>\n",
              "      <td>0</td>\n",
              "      <td>4.468123</td>\n",
              "      <td>4.321032</td>\n",
              "      <td>0.281371</td>\n",
              "      <td>17:09</td>\n",
              "    </tr>\n",
              "  </tbody>\n",
              "</table>"
            ],
            "text/plain": [
              "<IPython.core.display.HTML object>"
            ]
          },
          "metadata": {
            "tags": []
          }
        }
      ]
    },
    {
      "cell_type": "code",
      "metadata": {
        "id": "_BnSuAeCwkBe",
        "colab_type": "code",
        "colab": {
          "base_uri": "https://localhost:8080/",
          "height": 80
        },
        "outputId": "f915a9d7-2272-4993-903a-5752fca1fc60"
      },
      "source": [
        "learn.fit_one_cycle(1, 1e-3)"
      ],
      "execution_count": 25,
      "outputs": [
        {
          "output_type": "display_data",
          "data": {
            "text/html": [
              "<table border=\"1\" class=\"dataframe\">\n",
              "  <thead>\n",
              "    <tr style=\"text-align: left;\">\n",
              "      <th>epoch</th>\n",
              "      <th>train_loss</th>\n",
              "      <th>valid_loss</th>\n",
              "      <th>accuracy</th>\n",
              "      <th>time</th>\n",
              "    </tr>\n",
              "  </thead>\n",
              "  <tbody>\n",
              "    <tr>\n",
              "      <td>0</td>\n",
              "      <td>4.162023</td>\n",
              "      <td>4.281744</td>\n",
              "      <td>0.285519</td>\n",
              "      <td>17:01</td>\n",
              "    </tr>\n",
              "  </tbody>\n",
              "</table>"
            ],
            "text/plain": [
              "<IPython.core.display.HTML object>"
            ]
          },
          "metadata": {
            "tags": []
          }
        }
      ]
    },
    {
      "cell_type": "code",
      "metadata": {
        "id": "MuTm-RFjwrEX",
        "colab_type": "code",
        "colab": {
          "base_uri": "https://localhost:8080/",
          "height": 80
        },
        "outputId": "ab2f9919-307e-411b-b34b-efff4f68919e"
      },
      "source": [
        "learn.fit_one_cycle(1, 1e-3)"
      ],
      "execution_count": 26,
      "outputs": [
        {
          "output_type": "display_data",
          "data": {
            "text/html": [
              "<table border=\"1\" class=\"dataframe\">\n",
              "  <thead>\n",
              "    <tr style=\"text-align: left;\">\n",
              "      <th>epoch</th>\n",
              "      <th>train_loss</th>\n",
              "      <th>valid_loss</th>\n",
              "      <th>accuracy</th>\n",
              "      <th>time</th>\n",
              "    </tr>\n",
              "  </thead>\n",
              "  <tbody>\n",
              "    <tr>\n",
              "      <td>0</td>\n",
              "      <td>4.105877</td>\n",
              "      <td>4.251601</td>\n",
              "      <td>0.288709</td>\n",
              "      <td>17:03</td>\n",
              "    </tr>\n",
              "  </tbody>\n",
              "</table>"
            ],
            "text/plain": [
              "<IPython.core.display.HTML object>"
            ]
          },
          "metadata": {
            "tags": []
          }
        }
      ]
    },
    {
      "cell_type": "code",
      "metadata": {
        "id": "1Er2ExO8wr7Y",
        "colab_type": "code",
        "colab": {}
      },
      "source": [
        "learn.save_encoder('bigtweet_fold0_first')"
      ],
      "execution_count": 0,
      "outputs": []
    },
    {
      "cell_type": "code",
      "metadata": {
        "id": "z52cZs2qwvad",
        "colab_type": "code",
        "colab": {
          "base_uri": "https://localhost:8080/",
          "height": 80
        },
        "outputId": "eb2371d6-b5c7-4672-901c-f7c43bffccf8"
      },
      "source": [
        "learn = text_classifier_learner(data_clas,AWD_LSTM, drop_mult=0.5)\n",
        "learn.load_encoder('bigtweet_fold0_first')\n",
        "learn.fit_one_cycle(1, 1e-2)"
      ],
      "execution_count": 28,
      "outputs": [
        {
          "output_type": "display_data",
          "data": {
            "text/html": [
              "<table border=\"1\" class=\"dataframe\">\n",
              "  <thead>\n",
              "    <tr style=\"text-align: left;\">\n",
              "      <th>epoch</th>\n",
              "      <th>train_loss</th>\n",
              "      <th>valid_loss</th>\n",
              "      <th>accuracy</th>\n",
              "      <th>time</th>\n",
              "    </tr>\n",
              "  </thead>\n",
              "  <tbody>\n",
              "    <tr>\n",
              "      <td>0</td>\n",
              "      <td>3.658695</td>\n",
              "      <td>3.549170</td>\n",
              "      <td>0.414758</td>\n",
              "      <td>01:05</td>\n",
              "    </tr>\n",
              "  </tbody>\n",
              "</table>"
            ],
            "text/plain": [
              "<IPython.core.display.HTML object>"
            ]
          },
          "metadata": {
            "tags": []
          }
        }
      ]
    },
    {
      "cell_type": "code",
      "metadata": {
        "id": "ImwQP1PJwzxd",
        "colab_type": "code",
        "colab": {
          "base_uri": "https://localhost:8080/",
          "height": 80
        },
        "outputId": "2b26c610-e77f-4e8f-8666-3729387d13f5"
      },
      "source": [
        "learn.freeze_to(-2)\n",
        "learn.fit_one_cycle(1, slice(5e-3/2., 5e-3))"
      ],
      "execution_count": 29,
      "outputs": [
        {
          "output_type": "display_data",
          "data": {
            "text/html": [
              "<table border=\"1\" class=\"dataframe\">\n",
              "  <thead>\n",
              "    <tr style=\"text-align: left;\">\n",
              "      <th>epoch</th>\n",
              "      <th>train_loss</th>\n",
              "      <th>valid_loss</th>\n",
              "      <th>accuracy</th>\n",
              "      <th>time</th>\n",
              "    </tr>\n",
              "  </thead>\n",
              "  <tbody>\n",
              "    <tr>\n",
              "      <td>0</td>\n",
              "      <td>2.731614</td>\n",
              "      <td>3.057111</td>\n",
              "      <td>0.512723</td>\n",
              "      <td>01:20</td>\n",
              "    </tr>\n",
              "  </tbody>\n",
              "</table>"
            ],
            "text/plain": [
              "<IPython.core.display.HTML object>"
            ]
          },
          "metadata": {
            "tags": []
          }
        }
      ]
    },
    {
      "cell_type": "code",
      "metadata": {
        "id": "Owff_BJXw53u",
        "colab_type": "code",
        "colab": {
          "base_uri": "https://localhost:8080/",
          "height": 80
        },
        "outputId": "3a73ec32-e400-4bd4-fe58-9b4277a3552f"
      },
      "source": [
        "learn.unfreeze()\n",
        "learn.fit_one_cycle(1, slice(2e-3/100, 2e-3))"
      ],
      "execution_count": 30,
      "outputs": [
        {
          "output_type": "display_data",
          "data": {
            "text/html": [
              "<table border=\"1\" class=\"dataframe\">\n",
              "  <thead>\n",
              "    <tr style=\"text-align: left;\">\n",
              "      <th>epoch</th>\n",
              "      <th>train_loss</th>\n",
              "      <th>valid_loss</th>\n",
              "      <th>accuracy</th>\n",
              "      <th>time</th>\n",
              "    </tr>\n",
              "  </thead>\n",
              "  <tbody>\n",
              "    <tr>\n",
              "      <td>0</td>\n",
              "      <td>2.261776</td>\n",
              "      <td>2.755629</td>\n",
              "      <td>0.536896</td>\n",
              "      <td>03:13</td>\n",
              "    </tr>\n",
              "  </tbody>\n",
              "</table>"
            ],
            "text/plain": [
              "<IPython.core.display.HTML object>"
            ]
          },
          "metadata": {
            "tags": []
          }
        }
      ]
    },
    {
      "cell_type": "code",
      "metadata": {
        "id": "lqAyu56V8Waq",
        "colab_type": "code",
        "colab": {
          "base_uri": "https://localhost:8080/",
          "height": 111
        },
        "outputId": "fdbb0bba-4c32-4539-8026-e03f8848e7da"
      },
      "source": [
        "learn.fit_one_cycle(2, slice(2e-3/100, 2e-3))"
      ],
      "execution_count": 31,
      "outputs": [
        {
          "output_type": "display_data",
          "data": {
            "text/html": [
              "<table border=\"1\" class=\"dataframe\">\n",
              "  <thead>\n",
              "    <tr style=\"text-align: left;\">\n",
              "      <th>epoch</th>\n",
              "      <th>train_loss</th>\n",
              "      <th>valid_loss</th>\n",
              "      <th>accuracy</th>\n",
              "      <th>time</th>\n",
              "    </tr>\n",
              "  </thead>\n",
              "  <tbody>\n",
              "    <tr>\n",
              "      <td>0</td>\n",
              "      <td>2.043502</td>\n",
              "      <td>2.471454</td>\n",
              "      <td>0.577608</td>\n",
              "      <td>03:21</td>\n",
              "    </tr>\n",
              "    <tr>\n",
              "      <td>1</td>\n",
              "      <td>1.845801</td>\n",
              "      <td>2.376365</td>\n",
              "      <td>0.604326</td>\n",
              "      <td>03:28</td>\n",
              "    </tr>\n",
              "  </tbody>\n",
              "</table>"
            ],
            "text/plain": [
              "<IPython.core.display.HTML object>"
            ]
          },
          "metadata": {
            "tags": []
          }
        }
      ]
    },
    {
      "cell_type": "code",
      "metadata": {
        "id": "a7I1xMRp8bUd",
        "colab_type": "code",
        "colab": {
          "base_uri": "https://localhost:8080/",
          "height": 111
        },
        "outputId": "dfa38ffc-1c87-49c6-febd-bc236186c281"
      },
      "source": [
        "learn.fit_one_cycle(2, slice(2e-3/100, 2e-3))"
      ],
      "execution_count": 32,
      "outputs": [
        {
          "output_type": "display_data",
          "data": {
            "text/html": [
              "<table border=\"1\" class=\"dataframe\">\n",
              "  <thead>\n",
              "    <tr style=\"text-align: left;\">\n",
              "      <th>epoch</th>\n",
              "      <th>train_loss</th>\n",
              "      <th>valid_loss</th>\n",
              "      <th>accuracy</th>\n",
              "      <th>time</th>\n",
              "    </tr>\n",
              "  </thead>\n",
              "  <tbody>\n",
              "    <tr>\n",
              "      <td>0</td>\n",
              "      <td>1.733262</td>\n",
              "      <td>2.223682</td>\n",
              "      <td>0.617048</td>\n",
              "      <td>03:29</td>\n",
              "    </tr>\n",
              "    <tr>\n",
              "      <td>1</td>\n",
              "      <td>1.610186</td>\n",
              "      <td>2.175460</td>\n",
              "      <td>0.629771</td>\n",
              "      <td>03:21</td>\n",
              "    </tr>\n",
              "  </tbody>\n",
              "</table>"
            ],
            "text/plain": [
              "<IPython.core.display.HTML object>"
            ]
          },
          "metadata": {
            "tags": []
          }
        }
      ]
    },
    {
      "cell_type": "code",
      "metadata": {
        "id": "UAnti-XmGVfO",
        "colab_type": "code",
        "colab": {
          "base_uri": "https://localhost:8080/",
          "height": 111
        },
        "outputId": "1649f4fd-87e7-4b44-9802-33fbbaeda825"
      },
      "source": [
        "learn.fit_one_cycle(2, slice(2e-3/100, 2e-3))"
      ],
      "execution_count": 33,
      "outputs": [
        {
          "output_type": "display_data",
          "data": {
            "text/html": [
              "<table border=\"1\" class=\"dataframe\">\n",
              "  <thead>\n",
              "    <tr style=\"text-align: left;\">\n",
              "      <th>epoch</th>\n",
              "      <th>train_loss</th>\n",
              "      <th>valid_loss</th>\n",
              "      <th>accuracy</th>\n",
              "      <th>time</th>\n",
              "    </tr>\n",
              "  </thead>\n",
              "  <tbody>\n",
              "    <tr>\n",
              "      <td>0</td>\n",
              "      <td>1.527434</td>\n",
              "      <td>2.090917</td>\n",
              "      <td>0.643766</td>\n",
              "      <td>03:34</td>\n",
              "    </tr>\n",
              "    <tr>\n",
              "      <td>1</td>\n",
              "      <td>1.382349</td>\n",
              "      <td>2.037484</td>\n",
              "      <td>0.651399</td>\n",
              "      <td>03:38</td>\n",
              "    </tr>\n",
              "  </tbody>\n",
              "</table>"
            ],
            "text/plain": [
              "<IPython.core.display.HTML object>"
            ]
          },
          "metadata": {
            "tags": []
          }
        }
      ]
    },
    {
      "cell_type": "code",
      "metadata": {
        "id": "bIft7W25GwSu",
        "colab_type": "code",
        "colab": {
          "base_uri": "https://localhost:8080/",
          "height": 111
        },
        "outputId": "4d3d0fe0-dcd4-41fd-a4ad-96264cc7425b"
      },
      "source": [
        "learn.fit_one_cycle(2, slice(2e-3/100, 2e-3))"
      ],
      "execution_count": 34,
      "outputs": [
        {
          "output_type": "display_data",
          "data": {
            "text/html": [
              "<table border=\"1\" class=\"dataframe\">\n",
              "  <thead>\n",
              "    <tr style=\"text-align: left;\">\n",
              "      <th>epoch</th>\n",
              "      <th>train_loss</th>\n",
              "      <th>valid_loss</th>\n",
              "      <th>accuracy</th>\n",
              "      <th>time</th>\n",
              "    </tr>\n",
              "  </thead>\n",
              "  <tbody>\n",
              "    <tr>\n",
              "      <td>0</td>\n",
              "      <td>1.382853</td>\n",
              "      <td>2.044520</td>\n",
              "      <td>0.659033</td>\n",
              "      <td>03:37</td>\n",
              "    </tr>\n",
              "    <tr>\n",
              "      <td>1</td>\n",
              "      <td>1.249627</td>\n",
              "      <td>1.980807</td>\n",
              "      <td>0.666667</td>\n",
              "      <td>03:19</td>\n",
              "    </tr>\n",
              "  </tbody>\n",
              "</table>"
            ],
            "text/plain": [
              "<IPython.core.display.HTML object>"
            ]
          },
          "metadata": {
            "tags": []
          }
        }
      ]
    },
    {
      "cell_type": "code",
      "metadata": {
        "id": "EEHszVRvGyFt",
        "colab_type": "code",
        "colab": {
          "base_uri": "https://localhost:8080/",
          "height": 111
        },
        "outputId": "03e0fd89-d7a6-4666-c7a9-2bcdf48fbc84"
      },
      "source": [
        "learn.fit_one_cycle(2, slice(2e-3/100, 2e-3))"
      ],
      "execution_count": 35,
      "outputs": [
        {
          "output_type": "display_data",
          "data": {
            "text/html": [
              "<table border=\"1\" class=\"dataframe\">\n",
              "  <thead>\n",
              "    <tr style=\"text-align: left;\">\n",
              "      <th>epoch</th>\n",
              "      <th>train_loss</th>\n",
              "      <th>valid_loss</th>\n",
              "      <th>accuracy</th>\n",
              "      <th>time</th>\n",
              "    </tr>\n",
              "  </thead>\n",
              "  <tbody>\n",
              "    <tr>\n",
              "      <td>0</td>\n",
              "      <td>1.232639</td>\n",
              "      <td>1.977744</td>\n",
              "      <td>0.665394</td>\n",
              "      <td>03:39</td>\n",
              "    </tr>\n",
              "    <tr>\n",
              "      <td>1</td>\n",
              "      <td>1.168011</td>\n",
              "      <td>1.950697</td>\n",
              "      <td>0.671756</td>\n",
              "      <td>03:33</td>\n",
              "    </tr>\n",
              "  </tbody>\n",
              "</table>"
            ],
            "text/plain": [
              "<IPython.core.display.HTML object>"
            ]
          },
          "metadata": {
            "tags": []
          }
        }
      ]
    },
    {
      "cell_type": "code",
      "metadata": {
        "id": "XsHfrhCHG3dN",
        "colab_type": "code",
        "colab": {
          "base_uri": "https://localhost:8080/",
          "height": 173
        },
        "outputId": "32222d79-b2a1-4ef1-8579-53b4ec030300"
      },
      "source": [
        "learn.fit_one_cycle(4, slice(2e-3/100, 2e-3))"
      ],
      "execution_count": 36,
      "outputs": [
        {
          "output_type": "display_data",
          "data": {
            "text/html": [
              "<table border=\"1\" class=\"dataframe\">\n",
              "  <thead>\n",
              "    <tr style=\"text-align: left;\">\n",
              "      <th>epoch</th>\n",
              "      <th>train_loss</th>\n",
              "      <th>valid_loss</th>\n",
              "      <th>accuracy</th>\n",
              "      <th>time</th>\n",
              "    </tr>\n",
              "  </thead>\n",
              "  <tbody>\n",
              "    <tr>\n",
              "      <td>0</td>\n",
              "      <td>1.101678</td>\n",
              "      <td>1.914350</td>\n",
              "      <td>0.679389</td>\n",
              "      <td>03:28</td>\n",
              "    </tr>\n",
              "    <tr>\n",
              "      <td>1</td>\n",
              "      <td>1.142365</td>\n",
              "      <td>1.894526</td>\n",
              "      <td>0.681934</td>\n",
              "      <td>03:39</td>\n",
              "    </tr>\n",
              "    <tr>\n",
              "      <td>2</td>\n",
              "      <td>1.040066</td>\n",
              "      <td>1.848634</td>\n",
              "      <td>0.684478</td>\n",
              "      <td>03:27</td>\n",
              "    </tr>\n",
              "    <tr>\n",
              "      <td>3</td>\n",
              "      <td>0.941790</td>\n",
              "      <td>1.874754</td>\n",
              "      <td>0.688295</td>\n",
              "      <td>03:28</td>\n",
              "    </tr>\n",
              "  </tbody>\n",
              "</table>"
            ],
            "text/plain": [
              "<IPython.core.display.HTML object>"
            ]
          },
          "metadata": {
            "tags": []
          }
        }
      ]
    },
    {
      "cell_type": "code",
      "metadata": {
        "id": "0Zsd99isb9EQ",
        "colab_type": "code",
        "colab": {
          "base_uri": "https://localhost:8080/",
          "height": 173
        },
        "outputId": "153f30bc-cceb-42d4-a724-47f8aab2c626"
      },
      "source": [
        "learn.fit_one_cycle(4, slice(2e-3/100, 2e-3))"
      ],
      "execution_count": 37,
      "outputs": [
        {
          "output_type": "display_data",
          "data": {
            "text/html": [
              "<table border=\"1\" class=\"dataframe\">\n",
              "  <thead>\n",
              "    <tr style=\"text-align: left;\">\n",
              "      <th>epoch</th>\n",
              "      <th>train_loss</th>\n",
              "      <th>valid_loss</th>\n",
              "      <th>accuracy</th>\n",
              "      <th>time</th>\n",
              "    </tr>\n",
              "  </thead>\n",
              "  <tbody>\n",
              "    <tr>\n",
              "      <td>0</td>\n",
              "      <td>0.947825</td>\n",
              "      <td>1.868691</td>\n",
              "      <td>0.688295</td>\n",
              "      <td>03:20</td>\n",
              "    </tr>\n",
              "    <tr>\n",
              "      <td>1</td>\n",
              "      <td>0.973374</td>\n",
              "      <td>1.877193</td>\n",
              "      <td>0.683206</td>\n",
              "      <td>03:21</td>\n",
              "    </tr>\n",
              "    <tr>\n",
              "      <td>2</td>\n",
              "      <td>0.924805</td>\n",
              "      <td>1.843266</td>\n",
              "      <td>0.692112</td>\n",
              "      <td>03:40</td>\n",
              "    </tr>\n",
              "    <tr>\n",
              "      <td>3</td>\n",
              "      <td>0.880118</td>\n",
              "      <td>1.860888</td>\n",
              "      <td>0.695929</td>\n",
              "      <td>03:19</td>\n",
              "    </tr>\n",
              "  </tbody>\n",
              "</table>"
            ],
            "text/plain": [
              "<IPython.core.display.HTML object>"
            ]
          },
          "metadata": {
            "tags": []
          }
        }
      ]
    },
    {
      "cell_type": "code",
      "metadata": {
        "id": "atNWNKDFPbuI",
        "colab_type": "code",
        "colab": {
          "base_uri": "https://localhost:8080/",
          "height": 173
        },
        "outputId": "dff3b777-b94c-4fe6-a1c8-2d1eaadac213"
      },
      "source": [
        "learn.fit_one_cycle(4, slice(2e-3/100, 2e-3))"
      ],
      "execution_count": 38,
      "outputs": [
        {
          "output_type": "display_data",
          "data": {
            "text/html": [
              "<table border=\"1\" class=\"dataframe\">\n",
              "  <thead>\n",
              "    <tr style=\"text-align: left;\">\n",
              "      <th>epoch</th>\n",
              "      <th>train_loss</th>\n",
              "      <th>valid_loss</th>\n",
              "      <th>accuracy</th>\n",
              "      <th>time</th>\n",
              "    </tr>\n",
              "  </thead>\n",
              "  <tbody>\n",
              "    <tr>\n",
              "      <td>0</td>\n",
              "      <td>0.931667</td>\n",
              "      <td>1.882066</td>\n",
              "      <td>0.703562</td>\n",
              "      <td>03:20</td>\n",
              "    </tr>\n",
              "    <tr>\n",
              "      <td>1</td>\n",
              "      <td>0.901753</td>\n",
              "      <td>1.849047</td>\n",
              "      <td>0.690840</td>\n",
              "      <td>03:18</td>\n",
              "    </tr>\n",
              "    <tr>\n",
              "      <td>2</td>\n",
              "      <td>0.853496</td>\n",
              "      <td>1.837838</td>\n",
              "      <td>0.697201</td>\n",
              "      <td>03:32</td>\n",
              "    </tr>\n",
              "    <tr>\n",
              "      <td>3</td>\n",
              "      <td>0.819532</td>\n",
              "      <td>1.874272</td>\n",
              "      <td>0.690840</td>\n",
              "      <td>03:30</td>\n",
              "    </tr>\n",
              "  </tbody>\n",
              "</table>"
            ],
            "text/plain": [
              "<IPython.core.display.HTML object>"
            ]
          },
          "metadata": {
            "tags": []
          }
        }
      ]
    },
    {
      "cell_type": "code",
      "metadata": {
        "id": "rKrBTZ0T1uVA",
        "colab_type": "code",
        "colab": {
          "base_uri": "https://localhost:8080/",
          "height": 173
        },
        "outputId": "3afa9077-82d1-4ac0-c8ba-5ec8a8d9f3f2"
      },
      "source": [
        "learn.fit_one_cycle(4, slice(2e-3/100, 2e-3))"
      ],
      "execution_count": 39,
      "outputs": [
        {
          "output_type": "display_data",
          "data": {
            "text/html": [
              "<table border=\"1\" class=\"dataframe\">\n",
              "  <thead>\n",
              "    <tr style=\"text-align: left;\">\n",
              "      <th>epoch</th>\n",
              "      <th>train_loss</th>\n",
              "      <th>valid_loss</th>\n",
              "      <th>accuracy</th>\n",
              "      <th>time</th>\n",
              "    </tr>\n",
              "  </thead>\n",
              "  <tbody>\n",
              "    <tr>\n",
              "      <td>0</td>\n",
              "      <td>0.821725</td>\n",
              "      <td>1.876155</td>\n",
              "      <td>0.690840</td>\n",
              "      <td>03:29</td>\n",
              "    </tr>\n",
              "    <tr>\n",
              "      <td>1</td>\n",
              "      <td>0.888776</td>\n",
              "      <td>1.858341</td>\n",
              "      <td>0.702290</td>\n",
              "      <td>03:25</td>\n",
              "    </tr>\n",
              "    <tr>\n",
              "      <td>2</td>\n",
              "      <td>0.833601</td>\n",
              "      <td>1.881474</td>\n",
              "      <td>0.703562</td>\n",
              "      <td>03:33</td>\n",
              "    </tr>\n",
              "    <tr>\n",
              "      <td>3</td>\n",
              "      <td>0.762510</td>\n",
              "      <td>1.873529</td>\n",
              "      <td>0.701018</td>\n",
              "      <td>03:16</td>\n",
              "    </tr>\n",
              "  </tbody>\n",
              "</table>"
            ],
            "text/plain": [
              "<IPython.core.display.HTML object>"
            ]
          },
          "metadata": {
            "tags": []
          }
        }
      ]
    },
    {
      "cell_type": "code",
      "metadata": {
        "id": "ajQC6WDg1yA9",
        "colab_type": "code",
        "colab": {
          "base_uri": "https://localhost:8080/",
          "height": 173
        },
        "outputId": "2d6a75df-9b1a-4317-9672-db43033eb77d"
      },
      "source": [
        "learn.fit_one_cycle(4, slice(2e-3/100, 2e-3))"
      ],
      "execution_count": 40,
      "outputs": [
        {
          "output_type": "display_data",
          "data": {
            "text/html": [
              "<table border=\"1\" class=\"dataframe\">\n",
              "  <thead>\n",
              "    <tr style=\"text-align: left;\">\n",
              "      <th>epoch</th>\n",
              "      <th>train_loss</th>\n",
              "      <th>valid_loss</th>\n",
              "      <th>accuracy</th>\n",
              "      <th>time</th>\n",
              "    </tr>\n",
              "  </thead>\n",
              "  <tbody>\n",
              "    <tr>\n",
              "      <td>0</td>\n",
              "      <td>0.802476</td>\n",
              "      <td>1.952425</td>\n",
              "      <td>0.699746</td>\n",
              "      <td>03:33</td>\n",
              "    </tr>\n",
              "    <tr>\n",
              "      <td>1</td>\n",
              "      <td>0.823307</td>\n",
              "      <td>1.970056</td>\n",
              "      <td>0.690840</td>\n",
              "      <td>03:19</td>\n",
              "    </tr>\n",
              "    <tr>\n",
              "      <td>2</td>\n",
              "      <td>0.829394</td>\n",
              "      <td>1.966144</td>\n",
              "      <td>0.699746</td>\n",
              "      <td>03:31</td>\n",
              "    </tr>\n",
              "    <tr>\n",
              "      <td>3</td>\n",
              "      <td>0.781523</td>\n",
              "      <td>1.917146</td>\n",
              "      <td>0.698473</td>\n",
              "      <td>03:30</td>\n",
              "    </tr>\n",
              "  </tbody>\n",
              "</table>"
            ],
            "text/plain": [
              "<IPython.core.display.HTML object>"
            ]
          },
          "metadata": {
            "tags": []
          }
        }
      ]
    },
    {
      "cell_type": "code",
      "metadata": {
        "id": "KKydb0B4BKGk",
        "colab_type": "code",
        "colab": {
          "base_uri": "https://localhost:8080/",
          "height": 173
        },
        "outputId": "62517bcb-c318-4de1-ddb4-3bb9af8d016f"
      },
      "source": [
        "learn.fit_one_cycle(4, slice(2e-3/100, 2e-3))"
      ],
      "execution_count": 41,
      "outputs": [
        {
          "output_type": "display_data",
          "data": {
            "text/html": [
              "<table border=\"1\" class=\"dataframe\">\n",
              "  <thead>\n",
              "    <tr style=\"text-align: left;\">\n",
              "      <th>epoch</th>\n",
              "      <th>train_loss</th>\n",
              "      <th>valid_loss</th>\n",
              "      <th>accuracy</th>\n",
              "      <th>time</th>\n",
              "    </tr>\n",
              "  </thead>\n",
              "  <tbody>\n",
              "    <tr>\n",
              "      <td>0</td>\n",
              "      <td>0.787985</td>\n",
              "      <td>1.898445</td>\n",
              "      <td>0.701018</td>\n",
              "      <td>03:28</td>\n",
              "    </tr>\n",
              "    <tr>\n",
              "      <td>1</td>\n",
              "      <td>0.780630</td>\n",
              "      <td>1.925248</td>\n",
              "      <td>0.698473</td>\n",
              "      <td>03:32</td>\n",
              "    </tr>\n",
              "    <tr>\n",
              "      <td>2</td>\n",
              "      <td>0.767446</td>\n",
              "      <td>1.948514</td>\n",
              "      <td>0.702290</td>\n",
              "      <td>03:25</td>\n",
              "    </tr>\n",
              "    <tr>\n",
              "      <td>3</td>\n",
              "      <td>0.718522</td>\n",
              "      <td>1.936728</td>\n",
              "      <td>0.697201</td>\n",
              "      <td>03:26</td>\n",
              "    </tr>\n",
              "  </tbody>\n",
              "</table>"
            ],
            "text/plain": [
              "<IPython.core.display.HTML object>"
            ]
          },
          "metadata": {
            "tags": []
          }
        }
      ]
    },
    {
      "cell_type": "code",
      "metadata": {
        "id": "T2APKtFKBpGY",
        "colab_type": "code",
        "colab": {
          "base_uri": "https://localhost:8080/",
          "height": 173
        },
        "outputId": "5a87d321-adab-4c95-98ee-3c9b9dfd93be"
      },
      "source": [
        "learn.fit_one_cycle(4, slice(2e-3/100, 2e-3))"
      ],
      "execution_count": 42,
      "outputs": [
        {
          "output_type": "display_data",
          "data": {
            "text/html": [
              "<table border=\"1\" class=\"dataframe\">\n",
              "  <thead>\n",
              "    <tr style=\"text-align: left;\">\n",
              "      <th>epoch</th>\n",
              "      <th>train_loss</th>\n",
              "      <th>valid_loss</th>\n",
              "      <th>accuracy</th>\n",
              "      <th>time</th>\n",
              "    </tr>\n",
              "  </thead>\n",
              "  <tbody>\n",
              "    <tr>\n",
              "      <td>0</td>\n",
              "      <td>0.758369</td>\n",
              "      <td>2.057102</td>\n",
              "      <td>0.689567</td>\n",
              "      <td>03:32</td>\n",
              "    </tr>\n",
              "    <tr>\n",
              "      <td>1</td>\n",
              "      <td>0.755589</td>\n",
              "      <td>1.930015</td>\n",
              "      <td>0.704835</td>\n",
              "      <td>03:31</td>\n",
              "    </tr>\n",
              "    <tr>\n",
              "      <td>2</td>\n",
              "      <td>0.773670</td>\n",
              "      <td>1.935119</td>\n",
              "      <td>0.706107</td>\n",
              "      <td>03:33</td>\n",
              "    </tr>\n",
              "    <tr>\n",
              "      <td>3</td>\n",
              "      <td>0.718791</td>\n",
              "      <td>1.930178</td>\n",
              "      <td>0.702290</td>\n",
              "      <td>03:16</td>\n",
              "    </tr>\n",
              "  </tbody>\n",
              "</table>"
            ],
            "text/plain": [
              "<IPython.core.display.HTML object>"
            ]
          },
          "metadata": {
            "tags": []
          }
        }
      ]
    },
    {
      "cell_type": "code",
      "metadata": {
        "id": "KkgLDAq8nClh",
        "colab_type": "code",
        "colab": {
          "base_uri": "https://localhost:8080/",
          "height": 173
        },
        "outputId": "3c92b765-ea87-4518-a55b-d3dc14499dc0"
      },
      "source": [
        "learn.fit_one_cycle(4, slice(2e-3/100, 2e-3))"
      ],
      "execution_count": 43,
      "outputs": [
        {
          "output_type": "display_data",
          "data": {
            "text/html": [
              "<table border=\"1\" class=\"dataframe\">\n",
              "  <thead>\n",
              "    <tr style=\"text-align: left;\">\n",
              "      <th>epoch</th>\n",
              "      <th>train_loss</th>\n",
              "      <th>valid_loss</th>\n",
              "      <th>accuracy</th>\n",
              "      <th>time</th>\n",
              "    </tr>\n",
              "  </thead>\n",
              "  <tbody>\n",
              "    <tr>\n",
              "      <td>0</td>\n",
              "      <td>0.679736</td>\n",
              "      <td>1.970536</td>\n",
              "      <td>0.703562</td>\n",
              "      <td>03:32</td>\n",
              "    </tr>\n",
              "    <tr>\n",
              "      <td>1</td>\n",
              "      <td>0.805986</td>\n",
              "      <td>2.062591</td>\n",
              "      <td>0.695929</td>\n",
              "      <td>03:23</td>\n",
              "    </tr>\n",
              "    <tr>\n",
              "      <td>2</td>\n",
              "      <td>0.763524</td>\n",
              "      <td>2.009161</td>\n",
              "      <td>0.693384</td>\n",
              "      <td>03:36</td>\n",
              "    </tr>\n",
              "    <tr>\n",
              "      <td>3</td>\n",
              "      <td>0.748604</td>\n",
              "      <td>2.011976</td>\n",
              "      <td>0.694656</td>\n",
              "      <td>03:28</td>\n",
              "    </tr>\n",
              "  </tbody>\n",
              "</table>"
            ],
            "text/plain": [
              "<IPython.core.display.HTML object>"
            ]
          },
          "metadata": {
            "tags": []
          }
        }
      ]
    },
    {
      "cell_type": "code",
      "metadata": {
        "id": "xo9vgncnnDec",
        "colab_type": "code",
        "colab": {
          "base_uri": "https://localhost:8080/",
          "height": 173
        },
        "outputId": "b92559ae-ca18-40ba-ebe7-5ee003ae7a1e"
      },
      "source": [
        "learn.fit_one_cycle(4, slice(2e-3/100, 2e-3))"
      ],
      "execution_count": 44,
      "outputs": [
        {
          "output_type": "display_data",
          "data": {
            "text/html": [
              "<table border=\"1\" class=\"dataframe\">\n",
              "  <thead>\n",
              "    <tr style=\"text-align: left;\">\n",
              "      <th>epoch</th>\n",
              "      <th>train_loss</th>\n",
              "      <th>valid_loss</th>\n",
              "      <th>accuracy</th>\n",
              "      <th>time</th>\n",
              "    </tr>\n",
              "  </thead>\n",
              "  <tbody>\n",
              "    <tr>\n",
              "      <td>0</td>\n",
              "      <td>0.711845</td>\n",
              "      <td>2.054366</td>\n",
              "      <td>0.695929</td>\n",
              "      <td>03:24</td>\n",
              "    </tr>\n",
              "    <tr>\n",
              "      <td>1</td>\n",
              "      <td>0.760167</td>\n",
              "      <td>2.028907</td>\n",
              "      <td>0.693384</td>\n",
              "      <td>03:20</td>\n",
              "    </tr>\n",
              "    <tr>\n",
              "      <td>2</td>\n",
              "      <td>0.720904</td>\n",
              "      <td>2.042423</td>\n",
              "      <td>0.702290</td>\n",
              "      <td>03:21</td>\n",
              "    </tr>\n",
              "    <tr>\n",
              "      <td>3</td>\n",
              "      <td>0.723107</td>\n",
              "      <td>2.063049</td>\n",
              "      <td>0.706107</td>\n",
              "      <td>03:18</td>\n",
              "    </tr>\n",
              "  </tbody>\n",
              "</table>"
            ],
            "text/plain": [
              "<IPython.core.display.HTML object>"
            ]
          },
          "metadata": {
            "tags": []
          }
        }
      ]
    },
    {
      "cell_type": "code",
      "metadata": {
        "id": "keYKcKuPtL5K",
        "colab_type": "code",
        "colab": {
          "base_uri": "https://localhost:8080/",
          "height": 111
        },
        "outputId": "57974f7f-ac83-41d6-9150-45c66625ac62"
      },
      "source": [
        "learn.fit_one_cycle(2, slice(2e-3/100, 2e-3))"
      ],
      "execution_count": 45,
      "outputs": [
        {
          "output_type": "display_data",
          "data": {
            "text/html": [
              "<table border=\"1\" class=\"dataframe\">\n",
              "  <thead>\n",
              "    <tr style=\"text-align: left;\">\n",
              "      <th>epoch</th>\n",
              "      <th>train_loss</th>\n",
              "      <th>valid_loss</th>\n",
              "      <th>accuracy</th>\n",
              "      <th>time</th>\n",
              "    </tr>\n",
              "  </thead>\n",
              "  <tbody>\n",
              "    <tr>\n",
              "      <td>0</td>\n",
              "      <td>0.753058</td>\n",
              "      <td>2.063434</td>\n",
              "      <td>0.698473</td>\n",
              "      <td>03:25</td>\n",
              "    </tr>\n",
              "    <tr>\n",
              "      <td>1</td>\n",
              "      <td>0.718555</td>\n",
              "      <td>2.035099</td>\n",
              "      <td>0.704835</td>\n",
              "      <td>03:18</td>\n",
              "    </tr>\n",
              "  </tbody>\n",
              "</table>"
            ],
            "text/plain": [
              "<IPython.core.display.HTML object>"
            ]
          },
          "metadata": {
            "tags": []
          }
        }
      ]
    },
    {
      "cell_type": "code",
      "metadata": {
        "id": "6opfpXGkt3hw",
        "colab_type": "code",
        "colab": {
          "base_uri": "https://localhost:8080/",
          "height": 111
        },
        "outputId": "0abba847-81c1-4107-c4be-aa312e56abd7"
      },
      "source": [
        "learn.fit_one_cycle(2, slice(2e-3/100, 2e-3))"
      ],
      "execution_count": 46,
      "outputs": [
        {
          "output_type": "display_data",
          "data": {
            "text/html": [
              "<table border=\"1\" class=\"dataframe\">\n",
              "  <thead>\n",
              "    <tr style=\"text-align: left;\">\n",
              "      <th>epoch</th>\n",
              "      <th>train_loss</th>\n",
              "      <th>valid_loss</th>\n",
              "      <th>accuracy</th>\n",
              "      <th>time</th>\n",
              "    </tr>\n",
              "  </thead>\n",
              "  <tbody>\n",
              "    <tr>\n",
              "      <td>0</td>\n",
              "      <td>0.705367</td>\n",
              "      <td>2.021216</td>\n",
              "      <td>0.689567</td>\n",
              "      <td>03:32</td>\n",
              "    </tr>\n",
              "    <tr>\n",
              "      <td>1</td>\n",
              "      <td>0.735125</td>\n",
              "      <td>2.090473</td>\n",
              "      <td>0.694656</td>\n",
              "      <td>03:24</td>\n",
              "    </tr>\n",
              "  </tbody>\n",
              "</table>"
            ],
            "text/plain": [
              "<IPython.core.display.HTML object>"
            ]
          },
          "metadata": {
            "tags": []
          }
        }
      ]
    },
    {
      "cell_type": "code",
      "metadata": {
        "id": "c65d-osfDUXm",
        "colab_type": "code",
        "colab": {}
      },
      "source": [
        "# save the best model\n",
        "\n",
        "learn.save_encoder('ask-0-tuning-bigtweet')"
      ],
      "execution_count": 0,
      "outputs": []
    },
    {
      "cell_type": "markdown",
      "metadata": {
        "id": "rCwZU0E2RgM6",
        "colab_type": "text"
      },
      "source": [
        "# Part three: Predict on the test dataset"
      ]
    },
    {
      "cell_type": "code",
      "metadata": {
        "id": "gDm72c-dOu7d",
        "colab_type": "code",
        "colab": {
          "base_uri": "https://localhost:8080/",
          "height": 17
        },
        "outputId": "a2aec8a7-9772-445d-b86a-83fbf2453eff"
      },
      "source": [
        "# use the test data for prediction\n",
        "\n",
        "preds, y = learn.get_preds(DatasetType.Test)"
      ],
      "execution_count": 48,
      "outputs": [
        {
          "output_type": "display_data",
          "data": {
            "text/html": [
              ""
            ],
            "text/plain": [
              "<IPython.core.display.HTML object>"
            ]
          },
          "metadata": {
            "tags": []
          }
        }
      ]
    },
    {
      "cell_type": "code",
      "metadata": {
        "id": "6tFSQcsWPvxn",
        "colab_type": "code",
        "colab": {
          "base_uri": "https://localhost:8080/",
          "height": 105
        },
        "outputId": "11a6c87f-dec8-4462-b601-febcd88216d7"
      },
      "source": [
        "predictions, *_ = learn.get_preds(DatasetType.Test)\n",
        "labels = np.argmax(predictions, 1)\n",
        "predict_list = labels.tolist()\n",
        "standard_list = test[0].tolist()\n",
        "\n",
        "print(len(predict_list))\n",
        "print(len(standard_list))\n",
        "\n",
        "print(predict_list)\n",
        "print(standard_list)"
      ],
      "execution_count": 49,
      "outputs": [
        {
          "output_type": "display_data",
          "data": {
            "text/html": [
              ""
            ],
            "text/plain": [
              "<IPython.core.display.HTML object>"
            ]
          },
          "metadata": {
            "tags": []
          }
        },
        {
          "output_type": "stream",
          "text": [
            "866\n",
            "866\n",
            "[260, 553, 6, 8, 8, 8, 127, 765, 330, 27, 27, 662, 29, 581, 31, 34, 214, 517, 37, 37, 37, 37, 37, 37, 771, 37, 260, 49, 325, 113, 876, 415, 127, 49, 49, 100, 100, 100, 100, 100, 53, 53, 53, 60, 61, 61, 632, 122, 546, 817, 70, 71, 72, 817, 76, 652, 260, 260, 164, 260, 260, 260, 817, 260, 260, 260, 260, 260, 260, 260, 260, 260, 260, 260, 260, 260, 260, 260, 260, 260, 260, 260, 260, 260, 260, 260, 260, 260, 289, 182, 182, 79, 80, 80, 80, 89, 334, 817, 91, 94, 94, 94, 94, 94, 94, 94, 94, 94, 94, 94, 94, 94, 94, 94, 96, 127, 98, 746, 82, 100, 647, 100, 100, 749, 817, 546, 877, 108, 108, 108, 108, 409, 289, 116, 117, 876, 501, 436, 122, 1032, 125, 125, 125, 125, 125, 125, 125, 903, 470, 79, 343, 343, 131, 473, 473, 473, 140, 226, 447, 164, 809, 475, 175, 50, 817, 817, 167, 49, 546, 228, 121, 289, 211, 172, 182, 173, 817, 866, 861, 182, 289, 289, 183, 183, 183, 183, 183, 183, 183, 183, 183, 183, 187, 187, 187, 187, 187, 187, 740, 190, 190, 190, 190, 614, 192, 105, 105, 285, 197, 197, 34, 197, 94, 11, 325, 854, 205, 205, 652, 210, 210, 210, 289, 314, 314, 194, 817, 817, 624, 214, 214, 214, 214, 314, 817, 817, 220, 787, 58, 228, 463, 228, 228, 228, 463, 463, 463, 463, 817, 463, 228, 289, 228, 720, 276, 98, 234, 234, 780, 817, 235, 236, 434, 817, 240, 243, 447, 817, 243, 243, 243, 817, 164, 817, 817, 764, 246, 246, 817, 645, 256, 260, 289, 260, 265, 265, 265, 214, 265, 265, 265, 289, 214, 214, 214, 214, 214, 214, 214, 265, 265, 265, 265, 265, 265, 265, 265, 265, 265, 265, 265, 265, 265, 214, 236, 265, 265, 214, 265, 265, 469, 52, 289, 289, 289, 289, 289, 289, 289, 289, 289, 289, 289, 79, 289, 289, 289, 289, 289, 289, 260, 302, 265, 150, 532, 27, 805, 787, 817, 817, 301, 910, 459, 309, 309, 309, 309, 309, 309, 309, 289, 210, 482, 318, 554, 321, 325, 325, 227, 325, 325, 325, 325, 325, 325, 325, 325, 325, 325, 325, 817, 817, 517, 328, 427, 227, 817, 185, 337, 418, 265, 338, 817, 342, 165, 359, 359, 359, 359, 517, 364, 364, 638, 260, 364, 817, 427, 473, 391, 391, 391, 391, 892, 881, 881, 817, 289, 402, 402, 805, 415, 415, 418, 418, 260, 260, 260, 260, 260, 419, 289, 164, 817, 189, 194, 215, 554, 427, 596, 427, 597, 597, 597, 597, 430, 435, 491, 441, 443, 878, 444, 444, 444, 452, 194, 817, 817, 817, 817, 817, 321, 817, 471, 164, 475, 475, 475, 475, 475, 475, 256, 488, 644, 491, 491, 491, 491, 491, 499, 288, 507, 194, 470, 470, 517, 517, 517, 517, 194, 524, 289, 79, 530, 530, 530, 491, 541, 546, 231, 545, 545, 545, 545, 545, 545, 817, 817, 817, 817, 817, 549, 730, 521, 352, 572, 817, 82, 82, 82, 896, 583, 585, 325, 325, 591, 591, 817, 592, 592, 191, 191, 97, 817, 817, 817, 163, 610, 739, 427, 614, 289, 289, 368, 749, 817, 491, 622, 4, 624, 642, 391, 630, 289, 635, 652, 637, 648, 643, 817, 644, 646, 646, 646, 646, 817, 289, 652, 471, 260, 289, 463, 23, 208, 662, 4, 689, 690, 260, 265, 210, 702, 337, 492, 711, 711, 711, 711, 711, 488, 517, 97, 772, 764, 908, 736, 704, 741, 741, 289, 289, 182, 681, 98, 746, 746, 746, 748, 769, 910, 773, 416, 775, 897, 775, 775, 775, 775, 475, 509, 791, 791, 368, 368, 817, 797, 753, 804, 804, 415, 805, 877, 806, 806, 806, 806, 183, 809, 986, 810, 810, 8, 906, 816, 384, 194, 194, 227, 4, 817, 830, 830, 164, 830, 830, 830, 817, 840, 817, 817, 840, 164, 817, 847, 808, 283, 817, 645, 785, 164, 853, 853, 853, 853, 817, 817, 861, 210, 868, 37, 877, 445, 38, 4, 892, 896, 896, 896, 896, 896, 896, 214, 896, 919, 919, 995, 995, 817, 937, 937, 937, 937, 937, 631, 937, 937, 937, 164, 948, 948, 817, 817, 817, 949, 949, 949, 949, 949, 949, 949, 949, 949, 949, 949, 949, 949, 949, 949, 949, 949, 949, 949, 949, 949, 949, 949, 949, 949, 949, 949, 949, 949, 949, 949, 949, 949, 949, 949, 949, 949, 949, 949, 949, 949, 949, 949, 949, 949, 949, 949, 949, 949, 949, 949, 949, 949, 949, 949, 949, 949, 949, 949, 949, 949, 949, 949, 949, 949, 949, 949, 949, 949, 949, 949, 949, 949, 949, 949, 949, 949, 949, 949, 949, 949, 949, 949, 949, 949, 949, 949, 949, 949, 949, 949, 949, 949, 949, 949, 949, 949, 949, 949, 949, 949, 949, 949, 949, 949, 949, 949, 949, 949, 817, 227, 950, 950, 950, 950, 952, 952, 952, 952, 955, 956, 956, 164, 817, 227, 965, 966, 974, 164, 164, 1002, 817, 817, 986, 817, 194, 164, 1002, 164, 164, 164, 817, 817, 1015, 164, 1026, 983, 933, 817, 817, 1028, 1028, 1005, 1035]\n",
            "[2, 5, 6, 8, 8, 8, 12, 15, 17, 27, 27, 29, 29, 30, 31, 34, 34, 35, 37, 37, 37, 37, 37, 37, 37, 37, 37, 49, 49, 49, 49, 49, 49, 49, 49, 49, 49, 49, 49, 49, 53, 53, 53, 60, 61, 61, 62, 62, 62, 63, 70, 71, 72, 74, 76, 77, 77, 77, 79, 79, 79, 79, 79, 79, 79, 79, 79, 79, 79, 79, 79, 79, 79, 79, 79, 79, 79, 79, 79, 79, 79, 79, 79, 79, 79, 79, 79, 79, 79, 79, 79, 79, 80, 80, 80, 89, 90, 91, 91, 94, 94, 94, 94, 94, 94, 94, 94, 94, 94, 94, 94, 94, 94, 94, 96, 96, 98, 98, 99, 100, 100, 100, 100, 100, 104, 106, 107, 108, 108, 108, 109, 111, 111, 116, 117, 117, 119, 120, 122, 122, 125, 125, 125, 125, 125, 125, 125, 126, 127, 128, 129, 129, 131, 139, 139, 139, 140, 140, 142, 151, 151, 151, 154, 162, 163, 163, 167, 169, 170, 172, 172, 172, 172, 172, 172, 173, 173, 176, 182, 182, 182, 182, 183, 183, 183, 183, 183, 183, 183, 183, 183, 183, 187, 187, 187, 187, 187, 187, 187, 190, 190, 190, 190, 190, 192, 193, 193, 193, 197, 197, 197, 197, 198, 199, 203, 204, 205, 205, 209, 210, 210, 210, 211, 214, 214, 214, 214, 214, 214, 214, 214, 214, 214, 214, 215, 216, 220, 220, 221, 228, 228, 228, 228, 228, 228, 228, 228, 228, 228, 228, 228, 228, 228, 228, 233, 234, 234, 234, 235, 235, 235, 236, 238, 238, 240, 243, 243, 243, 243, 243, 243, 243, 244, 245, 245, 245, 246, 246, 254, 254, 255, 260, 260, 260, 265, 265, 265, 265, 265, 265, 265, 265, 265, 265, 265, 265, 265, 265, 265, 265, 265, 265, 265, 265, 265, 265, 265, 265, 265, 265, 265, 265, 265, 265, 265, 265, 265, 265, 265, 265, 281, 286, 289, 289, 289, 289, 289, 289, 289, 289, 289, 289, 289, 289, 289, 289, 289, 289, 289, 289, 289, 292, 293, 294, 298, 298, 299, 300, 300, 300, 301, 301, 305, 309, 309, 309, 309, 309, 309, 309, 309, 317, 318, 318, 318, 321, 325, 325, 325, 325, 325, 325, 325, 325, 325, 325, 325, 325, 325, 325, 325, 325, 325, 328, 329, 332, 335, 337, 337, 337, 337, 338, 340, 342, 354, 359, 359, 359, 359, 361, 364, 364, 364, 364, 364, 371, 384, 386, 391, 391, 391, 391, 392, 396, 396, 402, 402, 402, 402, 408, 415, 415, 418, 418, 419, 419, 419, 419, 419, 419, 419, 424, 424, 425, 425, 425, 426, 427, 427, 427, 427, 427, 427, 427, 430, 435, 437, 441, 443, 443, 444, 444, 444, 452, 454, 455, 455, 455, 455, 455, 455, 455, 471, 474, 475, 475, 475, 475, 475, 475, 487, 488, 490, 491, 491, 491, 491, 491, 499, 505, 507, 510, 513, 514, 517, 517, 517, 517, 517, 524, 524, 525, 530, 530, 530, 531, 541, 541, 542, 545, 545, 545, 545, 545, 545, 548, 548, 548, 548, 548, 549, 549, 559, 560, 572, 574, 574, 574, 574, 579, 583, 585, 590, 590, 591, 591, 592, 592, 592, 593, 593, 594, 599, 602, 602, 609, 610, 610, 610, 614, 614, 614, 615, 617, 619, 619, 622, 623, 624, 627, 627, 630, 633, 635, 636, 637, 638, 643, 644, 644, 646, 646, 646, 646, 646, 650, 652, 652, 652, 653, 654, 659, 661, 662, 672, 675, 690, 696, 700, 702, 703, 704, 708, 711, 711, 711, 711, 711, 714, 714, 715, 723, 727, 730, 736, 741, 741, 741, 741, 741, 742, 743, 746, 746, 746, 746, 748, 769, 771, 772, 774, 775, 775, 775, 775, 775, 775, 780, 783, 790, 790, 794, 794, 794, 797, 803, 804, 804, 805, 805, 805, 806, 806, 806, 806, 809, 809, 810, 810, 810, 812, 812, 816, 816, 817, 817, 818, 821, 826, 830, 830, 830, 830, 830, 830, 838, 840, 840, 840, 840, 844, 844, 847, 847, 847, 848, 852, 852, 853, 853, 853, 853, 853, 853, 857, 861, 862, 868, 876, 877, 879, 880, 891, 892, 896, 896, 896, 896, 896, 896, 896, 897, 919, 919, 919, 919, 929, 937, 937, 937, 937, 937, 937, 937, 937, 937, 940, 948, 948, 948, 948, 948, 949, 949, 949, 949, 949, 949, 949, 949, 949, 949, 949, 949, 949, 949, 949, 949, 949, 949, 949, 949, 949, 949, 949, 949, 949, 949, 949, 949, 949, 949, 949, 949, 949, 949, 949, 949, 949, 949, 949, 949, 949, 949, 949, 949, 949, 949, 949, 949, 949, 949, 949, 949, 949, 949, 949, 949, 949, 949, 949, 949, 949, 949, 949, 949, 949, 949, 949, 949, 949, 949, 949, 949, 949, 949, 949, 949, 949, 949, 949, 949, 949, 949, 949, 949, 949, 949, 949, 949, 949, 949, 949, 949, 949, 949, 949, 949, 949, 949, 949, 949, 949, 949, 949, 949, 949, 949, 949, 949, 949, 949, 950, 950, 950, 950, 950, 952, 952, 952, 952, 955, 956, 956, 958, 958, 964, 965, 966, 974, 976, 976, 980, 982, 983, 986, 992, 994, 999, 999, 1001, 1001, 1005, 1007, 1008, 1015, 1016, 1026, 1026, 1026, 1026, 1026, 1028, 1028, 1031, 1035]\n"
          ],
          "name": "stdout"
        }
      ]
    },
    {
      "cell_type": "code",
      "metadata": {
        "id": "XIC4zufnMxtq",
        "colab_type": "code",
        "colab": {
          "base_uri": "https://localhost:8080/",
          "height": 51
        },
        "outputId": "e4e2b0d0-6ab5-40f7-a0aa-276c4e8d4b34"
      },
      "source": [
        "correct_num = 0\n",
        "\n",
        "for i in range(0, len(standard_list)):\n",
        "  if predict_list[i] == standard_list[i]:\n",
        "    correct_num = correct_num+1\n",
        "  else:\n",
        "    pass\n",
        "print(correct_num)\n",
        "\n",
        "predict_accuracy = correct_num/len(predict_list)\n",
        "print(predict_accuracy)"
      ],
      "execution_count": 50,
      "outputs": [
        {
          "output_type": "stream",
          "text": [
            "470\n",
            "0.5427251732101617\n"
          ],
          "name": "stdout"
        }
      ]
    },
    {
      "cell_type": "code",
      "metadata": {
        "id": "zlKMHp1CIaRJ",
        "colab_type": "code",
        "colab": {}
      },
      "source": [
        ""
      ],
      "execution_count": 0,
      "outputs": []
    }
  ]
}