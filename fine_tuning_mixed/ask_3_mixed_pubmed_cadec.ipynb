{
  "nbformat": 4,
  "nbformat_minor": 0,
  "metadata": {
    "colab": {
      "name": "ask_3_mixed_pubmed_cadec.ipynb",
      "provenance": [],
      "collapsed_sections": [],
      "toc_visible": true,
      "include_colab_link": true
    },
    "kernelspec": {
      "name": "python3",
      "display_name": "Python 3"
    },
    "accelerator": "TPU"
  },
  "cells": [
    {
      "cell_type": "markdown",
      "metadata": {
        "id": "view-in-github",
        "colab_type": "text"
      },
      "source": [
        "<a href=\"https://colab.research.google.com/github/unt-iialab/medical-concept-normalization/blob/master/fine_tuning_mixed/ask_3_mixed_pubmed_cadec.ipynb\" target=\"_parent\"><img src=\"https://colab.research.google.com/assets/colab-badge.svg\" alt=\"Open In Colab\"/></a>"
      ]
    },
    {
      "cell_type": "code",
      "metadata": {
        "id": "adSi6i2-dWxy",
        "colab_type": "code",
        "colab": {}
      },
      "source": [
        "import os"
      ],
      "execution_count": 0,
      "outputs": []
    },
    {
      "cell_type": "code",
      "metadata": {
        "id": "E7xYCRGPjd9B",
        "colab_type": "code",
        "colab": {}
      },
      "source": [
        "base_dir = 'medical-concept-normalization'"
      ],
      "execution_count": 0,
      "outputs": []
    },
    {
      "cell_type": "code",
      "metadata": {
        "id": "yvIW3aUDjYNS",
        "colab_type": "code",
        "colab": {}
      },
      "source": [
        "os.mkdir(base_dir)"
      ],
      "execution_count": 0,
      "outputs": []
    },
    {
      "cell_type": "code",
      "metadata": {
        "id": "es-FFLlfk6SG",
        "colab_type": "code",
        "colab": {}
      },
      "source": [
        "os.mkdir('medical-concept-normalization/data_collection')"
      ],
      "execution_count": 0,
      "outputs": []
    },
    {
      "cell_type": "markdown",
      "metadata": {
        "id": "0R-Guw_VoJXm",
        "colab_type": "text"
      },
      "source": [
        "**Install fastai and clone the fastai for text classification**\n",
        "\n"
      ]
    },
    {
      "cell_type": "code",
      "metadata": {
        "id": "QVZa3Z0PmHFH",
        "colab_type": "code",
        "outputId": "e427c5a1-d8fa-4c93-a7f3-7c6c1ed4ef22",
        "colab": {
          "base_uri": "https://localhost:8080/",
          "height": 170
        }
      },
      "source": [
        "!curl https://course-v3.fast.ai/setup/colab | bash"
      ],
      "execution_count": 5,
      "outputs": [
        {
          "output_type": "stream",
          "text": [
            "  % Total    % Received % Xferd  Average Speed   Time    Time     Time  Current\n",
            "                                 Dload  Upload   Total   Spent    Left  Speed\n",
            "\r  0     0    0     0    0     0      0      0 --:--:-- --:--:-- --:--:--     0\r  0     0    0     0    0     0      0      0 --:--:-- --:--:-- --:--:--     0\n",
            "curl: (60) SSL certificate problem: certificate has expired\n",
            "More details here: https://curl.haxx.se/docs/sslcerts.html\n",
            "\n",
            "curl failed to verify the legitimacy of the server and therefore could not\n",
            "establish a secure connection to it. To learn more about this situation and\n",
            "how to fix it, please visit the web page mentioned above.\n"
          ],
          "name": "stdout"
        }
      ]
    },
    {
      "cell_type": "code",
      "metadata": {
        "id": "_FBFFEBrmJC0",
        "colab_type": "code",
        "outputId": "9d3664de-91d8-4757-fb57-1c21ef5157ee",
        "colab": {
          "base_uri": "https://localhost:8080/",
          "height": 85
        }
      },
      "source": [
        "!git clone https://github.com/wshuyi/demo-nlp-classification-fastai.git"
      ],
      "execution_count": 6,
      "outputs": [
        {
          "output_type": "stream",
          "text": [
            "Cloning into 'demo-nlp-classification-fastai'...\n",
            "remote: Enumerating objects: 9, done.\u001b[K\n",
            "remote: Total 9 (delta 0), reused 0 (delta 0), pack-reused 9\u001b[K\n",
            "Unpacking objects: 100% (9/9), done.\n"
          ],
          "name": "stdout"
        }
      ]
    },
    {
      "cell_type": "code",
      "metadata": {
        "id": "66zfh_JqmWMU",
        "colab_type": "code",
        "colab": {}
      },
      "source": [
        "from fastai import *\n",
        "from fastai.text import *"
      ],
      "execution_count": 0,
      "outputs": []
    },
    {
      "cell_type": "markdown",
      "metadata": {
        "id": "mNIw-yALdBU9",
        "colab_type": "text"
      },
      "source": [
        "**Set the path of the data collections**"
      ]
    },
    {
      "cell_type": "code",
      "metadata": {
        "id": "pzH7VMh4mqCL",
        "colab_type": "code",
        "colab": {}
      },
      "source": [
        "path = Path('medical-concept-normalization/data_collection')"
      ],
      "execution_count": 0,
      "outputs": []
    },
    {
      "cell_type": "code",
      "metadata": {
        "id": "b8fjI6yyn4aS",
        "colab_type": "code",
        "colab": {}
      },
      "source": [
        "# training data set\n",
        "\n",
        "train_csv = path/'AskAPatient.fold-3.train.csv'\n",
        "train = pd.read_csv(train_csv, header=None)\n",
        "#train.head()\n",
        "#train.info()"
      ],
      "execution_count": 0,
      "outputs": []
    },
    {
      "cell_type": "code",
      "metadata": {
        "id": "Hmlr-bAorfHd",
        "colab_type": "code",
        "outputId": "6ad7a7e5-3f92-4e13-8925-841cc36dc151",
        "colab": {
          "base_uri": "https://localhost:8080/",
          "height": 204
        }
      },
      "source": [
        "# validating data set\n",
        "\n",
        "valid = pd.read_csv(path/\"AskAPatient.fold-3.validation.csv\",header=None)\n",
        "valid.head()"
      ],
      "execution_count": 11,
      "outputs": [
        {
          "output_type": "execute_result",
          "data": {
            "text/html": [
              "<div>\n",
              "<style scoped>\n",
              "    .dataframe tbody tr th:only-of-type {\n",
              "        vertical-align: middle;\n",
              "    }\n",
              "\n",
              "    .dataframe tbody tr th {\n",
              "        vertical-align: top;\n",
              "    }\n",
              "\n",
              "    .dataframe thead th {\n",
              "        text-align: right;\n",
              "    }\n",
              "</style>\n",
              "<table border=\"1\" class=\"dataframe\">\n",
              "  <thead>\n",
              "    <tr style=\"text-align: right;\">\n",
              "      <th></th>\n",
              "      <th>0</th>\n",
              "      <th>1</th>\n",
              "    </tr>\n",
              "  </thead>\n",
              "  <tbody>\n",
              "    <tr>\n",
              "      <th>0</th>\n",
              "      <td>2</td>\n",
              "      <td>left heel pain</td>\n",
              "    </tr>\n",
              "    <tr>\n",
              "      <th>1</th>\n",
              "      <td>2</td>\n",
              "      <td>right heel became painful</td>\n",
              "    </tr>\n",
              "    <tr>\n",
              "      <th>2</th>\n",
              "      <td>8</td>\n",
              "      <td>Arthritis</td>\n",
              "    </tr>\n",
              "    <tr>\n",
              "      <th>3</th>\n",
              "      <td>8</td>\n",
              "      <td>arthritis</td>\n",
              "    </tr>\n",
              "    <tr>\n",
              "      <th>4</th>\n",
              "      <td>8</td>\n",
              "      <td>arthritis</td>\n",
              "    </tr>\n",
              "  </tbody>\n",
              "</table>\n",
              "</div>"
            ],
            "text/plain": [
              "   0                          1\n",
              "0  2             left heel pain\n",
              "1  2  right heel became painful\n",
              "2  8                  Arthritis\n",
              "3  8                  arthritis\n",
              "4  8                  arthritis"
            ]
          },
          "metadata": {
            "tags": []
          },
          "execution_count": 11
        }
      ]
    },
    {
      "cell_type": "code",
      "metadata": {
        "id": "cOza9dfSsBud",
        "colab_type": "code",
        "outputId": "18c0ed38-7c1d-4173-f5d8-4aad8af6a070",
        "colab": {
          "base_uri": "https://localhost:8080/",
          "height": 204
        }
      },
      "source": [
        "# testing data set\n",
        "\n",
        "test = pd.read_csv(path/\"AskAPatient.fold-3.test.csv\",header=None)\n",
        "test.head()"
      ],
      "execution_count": 12,
      "outputs": [
        {
          "output_type": "execute_result",
          "data": {
            "text/html": [
              "<div>\n",
              "<style scoped>\n",
              "    .dataframe tbody tr th:only-of-type {\n",
              "        vertical-align: middle;\n",
              "    }\n",
              "\n",
              "    .dataframe tbody tr th {\n",
              "        vertical-align: top;\n",
              "    }\n",
              "\n",
              "    .dataframe thead th {\n",
              "        text-align: right;\n",
              "    }\n",
              "</style>\n",
              "<table border=\"1\" class=\"dataframe\">\n",
              "  <thead>\n",
              "    <tr style=\"text-align: right;\">\n",
              "      <th></th>\n",
              "      <th>0</th>\n",
              "      <th>1</th>\n",
              "    </tr>\n",
              "  </thead>\n",
              "  <tbody>\n",
              "    <tr>\n",
              "      <th>0</th>\n",
              "      <td>2</td>\n",
              "      <td>heel pain</td>\n",
              "    </tr>\n",
              "    <tr>\n",
              "      <th>1</th>\n",
              "      <td>5</td>\n",
              "      <td>rapid heart beat</td>\n",
              "    </tr>\n",
              "    <tr>\n",
              "      <th>2</th>\n",
              "      <td>6</td>\n",
              "      <td>diastolic dysfunction</td>\n",
              "    </tr>\n",
              "    <tr>\n",
              "      <th>3</th>\n",
              "      <td>8</td>\n",
              "      <td>arthritis</td>\n",
              "    </tr>\n",
              "    <tr>\n",
              "      <th>4</th>\n",
              "      <td>8</td>\n",
              "      <td>arthritis</td>\n",
              "    </tr>\n",
              "  </tbody>\n",
              "</table>\n",
              "</div>"
            ],
            "text/plain": [
              "   0                      1\n",
              "0  2              heel pain\n",
              "1  5       rapid heart beat\n",
              "2  6  diastolic dysfunction\n",
              "3  8              arthritis\n",
              "4  8              arthritis"
            ]
          },
          "metadata": {
            "tags": []
          },
          "execution_count": 12
        }
      ]
    },
    {
      "cell_type": "code",
      "metadata": {
        "id": "Vo-YNvVYoaH6",
        "colab_type": "code",
        "colab": {
          "base_uri": "https://localhost:8080/",
          "height": 17
        },
        "outputId": "30ceb996-ecd9-4ade-cc1a-ab6bcfb7a42c"
      },
      "source": [
        "# Creating DataBunch for language modelling\n",
        "\n",
        "data_lm = TextLMDataBunch.from_csv(path, 'fine_tuning_language_model_mixed.csv')"
      ],
      "execution_count": 13,
      "outputs": [
        {
          "output_type": "display_data",
          "data": {
            "text/html": [
              ""
            ],
            "text/plain": [
              "<IPython.core.display.HTML object>"
            ]
          },
          "metadata": {
            "tags": []
          }
        },
        {
          "output_type": "display_data",
          "data": {
            "text/html": [
              ""
            ],
            "text/plain": [
              "<IPython.core.display.HTML object>"
            ]
          },
          "metadata": {
            "tags": []
          }
        }
      ]
    },
    {
      "cell_type": "code",
      "metadata": {
        "id": "qcV-9kMnNLBf",
        "colab_type": "code",
        "colab": {}
      },
      "source": [
        ""
      ],
      "execution_count": 0,
      "outputs": []
    },
    {
      "cell_type": "code",
      "metadata": {
        "id": "1ScY9afDsnvE",
        "colab_type": "code",
        "colab": {}
      },
      "source": [
        "# Creating DataBunch for classification\n",
        "\n",
        "# data_clas = TextClasDataBunch.from_df(path, train, valid, test, vocab=data_lm.train_ds.vocab, bs=128)"
      ],
      "execution_count": 0,
      "outputs": []
    },
    {
      "cell_type": "code",
      "metadata": {
        "id": "gzrSdQcvey9p",
        "colab_type": "code",
        "colab": {
          "base_uri": "https://localhost:8080/",
          "height": 17
        },
        "outputId": "b0fe1f71-b779-4ce0-a1d2-2da1c1040084"
      },
      "source": [
        "data_clas = TextClasDataBunch.from_df(path, train, valid, vocab=data_lm.train_ds.vocab, bs=128)"
      ],
      "execution_count": 15,
      "outputs": [
        {
          "output_type": "display_data",
          "data": {
            "text/html": [
              ""
            ],
            "text/plain": [
              "<IPython.core.display.HTML object>"
            ]
          },
          "metadata": {
            "tags": []
          }
        },
        {
          "output_type": "display_data",
          "data": {
            "text/html": [
              ""
            ],
            "text/plain": [
              "<IPython.core.display.HTML object>"
            ]
          },
          "metadata": {
            "tags": []
          }
        }
      ]
    },
    {
      "cell_type": "code",
      "metadata": {
        "id": "MD27Tf0Ke3ou",
        "colab_type": "code",
        "colab": {
          "base_uri": "https://localhost:8080/",
          "height": 17
        },
        "outputId": "6ff9b315-0ff2-4e33-b1c0-897a25b2e6d9"
      },
      "source": [
        "data_clas.add_test(test,label=0)\n"
      ],
      "execution_count": 16,
      "outputs": [
        {
          "output_type": "display_data",
          "data": {
            "text/html": [
              ""
            ],
            "text/plain": [
              "<IPython.core.display.HTML object>"
            ]
          },
          "metadata": {
            "tags": []
          }
        }
      ]
    },
    {
      "cell_type": "code",
      "metadata": {
        "id": "-dpjnk_rstwk",
        "colab_type": "code",
        "colab": {}
      },
      "source": [
        "data_lm.save()\n",
        "data_clas.save()"
      ],
      "execution_count": 0,
      "outputs": []
    },
    {
      "cell_type": "code",
      "metadata": {
        "id": "4OkiJa36sw5s",
        "colab_type": "code",
        "colab": {
          "base_uri": "https://localhost:8080/",
          "height": 1000
        },
        "outputId": "826217c4-edf3-44b5-8272-d7e9ceb7ac55"
      },
      "source": [
        "data_lm.train_ds.vocab.itos"
      ],
      "execution_count": 18,
      "outputs": [
        {
          "output_type": "execute_result",
          "data": {
            "text/plain": [
              "['xxunk',\n",
              " 'xxpad',\n",
              " 'xxbos',\n",
              " 'xxeos',\n",
              " 'xxfld',\n",
              " 'xxmaj',\n",
              " 'xxup',\n",
              " 'xxrep',\n",
              " 'xxwrep',\n",
              " 'the',\n",
              " 'of',\n",
              " 'and',\n",
              " 'in',\n",
              " 'to',\n",
              " 'a',\n",
              " '.',\n",
              " 'was',\n",
              " 'with',\n",
              " 'i',\n",
              " 'diclofenac',\n",
              " ',',\n",
              " 'for',\n",
              " 'were',\n",
              " 'on',\n",
              " 'sodium',\n",
              " 'pain',\n",
              " 'that',\n",
              " 'by',\n",
              " 'is',\n",
              " 'this',\n",
              " 'drug',\n",
              " 'as',\n",
              " 'my',\n",
              " 'it',\n",
              " 'patients',\n",
              " 'at',\n",
              " 'mg',\n",
              " 'or',\n",
              " 'after',\n",
              " 'from',\n",
              " 'have',\n",
              " 'not',\n",
              " 'group',\n",
              " 'treatment',\n",
              " 'study',\n",
              " 'be',\n",
              " 'but',\n",
              " 'lipitor',\n",
              " 'an',\n",
              " 'effects',\n",
              " 'p',\n",
              " 'release',\n",
              " 'no',\n",
              " 'had',\n",
              " 'are',\n",
              " 'than',\n",
              " 'all',\n",
              " 'effect',\n",
              " 'two',\n",
              " 'day',\n",
              " 'compared',\n",
              " 'been',\n",
              " 'both',\n",
              " 'using',\n",
              " 'time',\n",
              " 'groups',\n",
              " 'drugs',\n",
              " 'which',\n",
              " 'days',\n",
              " 'taking',\n",
              " 'also',\n",
              " 'has',\n",
              " 'dose',\n",
              " 'these',\n",
              " 'significantly',\n",
              " 'significant',\n",
              " 'inflammatory',\n",
              " 'h',\n",
              " 'side',\n",
              " 'more',\n",
              " 'one',\n",
              " 'between',\n",
              " 'results',\n",
              " 'voltaren',\n",
              " 'used',\n",
              " 'anti',\n",
              " 'cholesterol',\n",
              " 'placebo',\n",
              " 'potassium',\n",
              " 'muscle',\n",
              " 'we',\n",
              " 'when',\n",
              " 'did',\n",
              " 'me',\n",
              " 'ds',\n",
              " 'efficacy',\n",
              " 'years',\n",
              " 'showed',\n",
              " 'other',\n",
              " 'treated',\n",
              " 'ml',\n",
              " 'over',\n",
              " '-',\n",
              " 'high',\n",
              " 'different',\n",
              " 'there',\n",
              " 'can',\n",
              " 'topical',\n",
              " 'oral',\n",
              " 'administration',\n",
              " 'concentration',\n",
              " 'up',\n",
              " 'first',\n",
              " 'found',\n",
              " 'rats',\n",
              " 'during',\n",
              " 'lower',\n",
              " 'studies',\n",
              " 'about',\n",
              " 'control',\n",
              " 'weeks',\n",
              " 'c',\n",
              " 'am',\n",
              " 'well',\n",
              " 'months',\n",
              " \"n't\",\n",
              " 'could',\n",
              " 'may',\n",
              " 'only',\n",
              " 'into',\n",
              " 'so',\n",
              " 'blood',\n",
              " 'effective',\n",
              " 'hours',\n",
              " 'three',\n",
              " 'their',\n",
              " 'clinical',\n",
              " 'severe',\n",
              " 'back',\n",
              " 'acid',\n",
              " 'induced',\n",
              " 'formulations',\n",
              " 'plasma',\n",
              " 'tablets',\n",
              " 'respectively',\n",
              " 'use',\n",
              " 'rate',\n",
              " 'its',\n",
              " 'symptoms',\n",
              " 'method',\n",
              " 'increased',\n",
              " 'very',\n",
              " 'week',\n",
              " 'levels',\n",
              " 'before',\n",
              " 'formulation',\n",
              " 'mean',\n",
              " ')',\n",
              " 'nsaids',\n",
              " 's',\n",
              " '(',\n",
              " 'will',\n",
              " 'gel',\n",
              " 'like',\n",
              " 'non',\n",
              " 'observed',\n",
              " 'solution',\n",
              " 'ph',\n",
              " 'however',\n",
              " 'controlled',\n",
              " 'take',\n",
              " 'if',\n",
              " 'n',\n",
              " '/',\n",
              " 'm',\n",
              " 'any',\n",
              " 'they',\n",
              " 'received',\n",
              " 'some',\n",
              " 'each',\n",
              " 'now',\n",
              " 'daily',\n",
              " 'total',\n",
              " 'period',\n",
              " 'adverse',\n",
              " 'g',\n",
              " 'test',\n",
              " 'low',\n",
              " 'atorvastatin',\n",
              " 'vitro',\n",
              " 'out',\n",
              " 'analgesic',\n",
              " 'kg',\n",
              " 'skin',\n",
              " 'analysis',\n",
              " 'acute',\n",
              " 'do',\n",
              " 'concentrations',\n",
              " '!',\n",
              " 'surgery',\n",
              " 'better',\n",
              " 'activity',\n",
              " 'single',\n",
              " 'randomized',\n",
              " 'off',\n",
              " 'data',\n",
              " 'less',\n",
              " 'patient',\n",
              " 'similar',\n",
              " 'medication',\n",
              " 'within',\n",
              " 'then',\n",
              " 'd',\n",
              " 'following',\n",
              " 'who',\n",
              " 'most',\n",
              " 'due',\n",
              " 'nsaid',\n",
              " 'started',\n",
              " 'doctor',\n",
              " 'evaluated',\n",
              " 'while',\n",
              " 'l',\n",
              " 'higher',\n",
              " 'tablet',\n",
              " 'developed',\n",
              " 'therapy',\n",
              " 'difference',\n",
              " 'relief',\n",
              " 'would',\n",
              " 'stopped',\n",
              " 'dissolution',\n",
              " 'increase',\n",
              " 'model',\n",
              " 'obtained',\n",
              " 'double',\n",
              " 'times',\n",
              " 'postoperative',\n",
              " 'loss',\n",
              " 'those',\n",
              " 't',\n",
              " 'renal',\n",
              " 'doses',\n",
              " 'under',\n",
              " 'present',\n",
              " 'normal',\n",
              " 'based',\n",
              " 'water',\n",
              " 'reduced',\n",
              " 'good',\n",
              " 'without',\n",
              " 'combination',\n",
              " 'because',\n",
              " 'min',\n",
              " 'application',\n",
              " 'cells',\n",
              " 'knee',\n",
              " 'prepared',\n",
              " 'studied',\n",
              " 'took',\n",
              " 'given',\n",
              " 'trial',\n",
              " 'four',\n",
              " 'b',\n",
              " 'just',\n",
              " 'values',\n",
              " 'level',\n",
              " 'he',\n",
              " 'administered',\n",
              " 'inflammation',\n",
              " 'response',\n",
              " 'decreased',\n",
              " 'conditions',\n",
              " 'problems',\n",
              " 'performed',\n",
              " '3',\n",
              " 'year',\n",
              " 'cell',\n",
              " 'changes',\n",
              " 'differences',\n",
              " '2',\n",
              " 'new',\n",
              " 'vs',\n",
              " 'reported',\n",
              " 'serum',\n",
              " 'either',\n",
              " 'x',\n",
              " 'joint',\n",
              " 'associated',\n",
              " 'such',\n",
              " 'should',\n",
              " 'number',\n",
              " 'nonsteroidal',\n",
              " 'absorption',\n",
              " 'related',\n",
              " 'stomach',\n",
              " 'blind',\n",
              " 'containing',\n",
              " 'system',\n",
              " 'healthy',\n",
              " 'still',\n",
              " 'properties',\n",
              " 'investigated',\n",
              " 'function',\n",
              " 'reduction',\n",
              " 'w',\n",
              " 'measured',\n",
              " 'parameters',\n",
              " 'same',\n",
              " 'events',\n",
              " 'arthritis',\n",
              " 'subjects',\n",
              " 'you',\n",
              " 'auc',\n",
              " 'since',\n",
              " 'feel',\n",
              " 'legs',\n",
              " 'post',\n",
              " 'safety',\n",
              " 'order',\n",
              " 'leg',\n",
              " 'ratio',\n",
              " 'life',\n",
              " 'active',\n",
              " 'type',\n",
              " 'went',\n",
              " 'through',\n",
              " 'minutes',\n",
              " 'size',\n",
              " 'dosage',\n",
              " 'body',\n",
              " 'ng',\n",
              " 'assessed',\n",
              " 'mm',\n",
              " 'risk',\n",
              " 'phase',\n",
              " 'applied',\n",
              " 'e',\n",
              " 'steroidal',\n",
              " 'liquid',\n",
              " 'cramps',\n",
              " 'vivo',\n",
              " 'determined',\n",
              " 'indomethacin',\n",
              " 'per',\n",
              " 'included',\n",
              " 'statistically',\n",
              " 'compare',\n",
              " 'range',\n",
              " 'experienced',\n",
              " 'disease',\n",
              " '10',\n",
              " 'get',\n",
              " 'swelling',\n",
              " 'left',\n",
              " 'k',\n",
              " 'delivery',\n",
              " 'oa',\n",
              " 'evaluate',\n",
              " 'our',\n",
              " 'long',\n",
              " 'therapeutic',\n",
              " 'primary',\n",
              " 'statins',\n",
              " 'work',\n",
              " 'down',\n",
              " 'v',\n",
              " 'injection',\n",
              " 'form',\n",
              " 'again',\n",
              " 'heart',\n",
              " 'much',\n",
              " 'old',\n",
              " 'potential',\n",
              " 'improvement',\n",
              " 'statin',\n",
              " 'sustained',\n",
              " 'pressure',\n",
              " 'month',\n",
              " \"'s\",\n",
              " 'change',\n",
              " 'ago',\n",
              " 'osteoarthritis',\n",
              " 'term',\n",
              " 'caused',\n",
              " 'scale',\n",
              " 'human',\n",
              " 'taken',\n",
              " 'samples',\n",
              " 'bad',\n",
              " 'weight',\n",
              " 'being',\n",
              " 'tolerability',\n",
              " 'visual',\n",
              " 'many',\n",
              " 'gastrointestinal',\n",
              " 'liver',\n",
              " 'baseline',\n",
              " 'scores',\n",
              " 'bioavailability',\n",
              " 'tissue',\n",
              " 'even',\n",
              " 'ldl',\n",
              " 'area',\n",
              " 'never',\n",
              " \"'m\",\n",
              " 'eye',\n",
              " 'having',\n",
              " 'ca',\n",
              " 'addition',\n",
              " 'gastric',\n",
              " 'hour',\n",
              " 'products',\n",
              " 'every',\n",
              " 'reaction',\n",
              " 'greater',\n",
              " 'what',\n",
              " 'polymer',\n",
              " 'development',\n",
              " 'aim',\n",
              " 'although',\n",
              " 'site',\n",
              " 'free',\n",
              " 'action',\n",
              " 'dependent',\n",
              " 'suggest',\n",
              " 'revealed',\n",
              " 'coated',\n",
              " 'right',\n",
              " 'physical',\n",
              " 'age',\n",
              " 'walk',\n",
              " 'night',\n",
              " 'aqueous',\n",
              " 'case',\n",
              " 'matrix',\n",
              " 'demonstrated',\n",
              " 'memory',\n",
              " 'several',\n",
              " 'improved',\n",
              " 'cox',\n",
              " 'process',\n",
              " 'six',\n",
              " 'mice',\n",
              " 'animals',\n",
              " 'sleep',\n",
              " 'various',\n",
              " 'followed',\n",
              " 'agent',\n",
              " 'treatments',\n",
              " 'fatigue',\n",
              " 'ibuprofen',\n",
              " 'inhibitor',\n",
              " 'felt',\n",
              " 'alone',\n",
              " 'na',\n",
              " 'cases',\n",
              " 'intensity',\n",
              " 'indicated',\n",
              " 'volunteers',\n",
              " \"'ve\",\n",
              " 'decrease',\n",
              " 'formation',\n",
              " 'ii',\n",
              " 'further',\n",
              " 'cause',\n",
              " 'whereas',\n",
              " 'diet',\n",
              " 'feet',\n",
              " 'mechanism',\n",
              " 'go',\n",
              " 'overall',\n",
              " 'shown',\n",
              " 'muscles',\n",
              " 'end',\n",
              " 'short',\n",
              " 'extreme',\n",
              " 'inhibition',\n",
              " 'feeling',\n",
              " 'randomly',\n",
              " 'quality',\n",
              " 'does',\n",
              " '4',\n",
              " 'weakness',\n",
              " 'almost',\n",
              " 'few',\n",
              " 'urine',\n",
              " '1',\n",
              " 'including',\n",
              " 'combined',\n",
              " 'exposure',\n",
              " 'presence',\n",
              " 'profiles',\n",
              " 'pains',\n",
              " '5',\n",
              " 'damage',\n",
              " 'relative',\n",
              " 'second',\n",
              " 'male',\n",
              " 'onset',\n",
              " 'standard',\n",
              " 'made',\n",
              " 'pharmaceutical',\n",
              " 'available',\n",
              " 'last',\n",
              " 'trials',\n",
              " 'possible',\n",
              " 'chronic',\n",
              " 'moderate',\n",
              " 'rat',\n",
              " 'profile',\n",
              " 'arthrotec',\n",
              " 'conducted',\n",
              " 'o',\n",
              " 'determine',\n",
              " 'them',\n",
              " 'know',\n",
              " 'once',\n",
              " 'score',\n",
              " 'thought',\n",
              " 'cm',\n",
              " 'amount',\n",
              " 'five',\n",
              " 'duration',\n",
              " 'prescribed',\n",
              " 'permeation',\n",
              " '&',\n",
              " 'peak',\n",
              " 'systemic',\n",
              " 'corneal',\n",
              " 'beads',\n",
              " 'surface',\n",
              " 'agents',\n",
              " 'local',\n",
              " 'content',\n",
              " 'resulted',\n",
              " 'divided',\n",
              " 'th',\n",
              " '?',\n",
              " 'eyes',\n",
              " 'produced',\n",
              " 'depression',\n",
              " 'product',\n",
              " 'aspirin',\n",
              " 'third',\n",
              " 'dr',\n",
              " 'microspheres',\n",
              " 'vehicle',\n",
              " 'mild',\n",
              " 'plus',\n",
              " 'evaluation',\n",
              " 'least',\n",
              " 'cmax',\n",
              " 'vas',\n",
              " 'enteric',\n",
              " 'versus',\n",
              " 'migraine',\n",
              " 'told',\n",
              " 'twice',\n",
              " 'misoprostol',\n",
              " 'among',\n",
              " 'said',\n",
              " ';',\n",
              " 'tolerated',\n",
              " 'experimental',\n",
              " 'secondary',\n",
              " 'medium',\n",
              " 'achieved',\n",
              " 'tests',\n",
              " 'initial',\n",
              " 'care',\n",
              " 'early',\n",
              " 'multiple',\n",
              " 'tested',\n",
              " 'going',\n",
              " '20',\n",
              " 'pharmacokinetic',\n",
              " 'growth',\n",
              " 'see',\n",
              " 'show',\n",
              " 'participants',\n",
              " 'evidence',\n",
              " 'medicine',\n",
              " 'efficiency',\n",
              " 'lesions',\n",
              " 'research',\n",
              " 'de',\n",
              " 'reduce',\n",
              " 'morning',\n",
              " 'worse',\n",
              " 'preparation',\n",
              " 'neck',\n",
              " 'complete',\n",
              " 'rapid',\n",
              " 'rofecoxib',\n",
              " 'thus',\n",
              " 'edema',\n",
              " 'microg',\n",
              " 'point',\n",
              " 'way',\n",
              " 'production',\n",
              " 'analgesia',\n",
              " 'stop',\n",
              " 'especially',\n",
              " 'comparison',\n",
              " 'pre',\n",
              " 'reference',\n",
              " 'solid',\n",
              " 'complex',\n",
              " 'degrees',\n",
              " 'headache',\n",
              " 'medications',\n",
              " 'ci',\n",
              " 'cd',\n",
              " 'examined',\n",
              " 'findings',\n",
              " 'models',\n",
              " 'health',\n",
              " 'paracetamol',\n",
              " 'another',\n",
              " 'patch',\n",
              " 'gas',\n",
              " 'temperature',\n",
              " 'maximum',\n",
              " 'common',\n",
              " 'according',\n",
              " 'co',\n",
              " 'determination',\n",
              " 'assessment',\n",
              " 'saline',\n",
              " 'away',\n",
              " 'recorded',\n",
              " 'people',\n",
              " 'therefore',\n",
              " 'think',\n",
              " 'investigate',\n",
              " 'stiffness',\n",
              " 'comparable',\n",
              " 'major',\n",
              " 'technique',\n",
              " 'commercial',\n",
              " 'bleeding',\n",
              " 'cataract',\n",
              " 'pellets',\n",
              " 'naproxen',\n",
              " 'arm',\n",
              " 'tissues',\n",
              " 'design',\n",
              " 'state',\n",
              " 'phosphate',\n",
              " 'synthesis',\n",
              " 'recently',\n",
              " 'inhibited',\n",
              " 'need',\n",
              " 'how',\n",
              " 'protein',\n",
              " 'interaction',\n",
              " 'aches',\n",
              " 'alternative',\n",
              " 'nausea',\n",
              " 'increasing',\n",
              " 'responses',\n",
              " 'lowering',\n",
              " 'arms',\n",
              " 'influence',\n",
              " 'review',\n",
              " 'membrane',\n",
              " 'indicate',\n",
              " 'lipid',\n",
              " '6',\n",
              " 'solubility',\n",
              " 'immediately',\n",
              " 'rates',\n",
              " 'receiving',\n",
              " 'antiinflammatory',\n",
              " 'hip',\n",
              " 'getting',\n",
              " 'hands',\n",
              " 'f',\n",
              " 'cross',\n",
              " 'later',\n",
              " 'rheumatoid',\n",
              " 'suggested',\n",
              " 'specific',\n",
              " 'until',\n",
              " 'extent',\n",
              " 'novel',\n",
              " 'help',\n",
              " 'constant',\n",
              " 'small',\n",
              " 'capsules',\n",
              " 'provide',\n",
              " 'intramuscular',\n",
              " 'joints',\n",
              " 'expression',\n",
              " 'characterized',\n",
              " 'incidence',\n",
              " 'performance',\n",
              " 'vascular',\n",
              " 'across',\n",
              " 'detection',\n",
              " 'superior',\n",
              " 'painful',\n",
              " 'outcome',\n",
              " 'your',\n",
              " 'additional',\n",
              " 'diffusion',\n",
              " 'inhibitors',\n",
              " 'buffer',\n",
              " 'methods',\n",
              " '40',\n",
              " 'dic',\n",
              " 'loaded',\n",
              " 'carried',\n",
              " 'might',\n",
              " 'assess',\n",
              " 'hand',\n",
              " 'where',\n",
              " 'syndrome',\n",
              " 'degree',\n",
              " 'volume',\n",
              " 'preparations',\n",
              " 'considered',\n",
              " 'against',\n",
              " 'bone',\n",
              " 'noticed',\n",
              " 'value',\n",
              " 'factor',\n",
              " 'shoulder',\n",
              " 'put',\n",
              " 'max',\n",
              " 'sensitive',\n",
              " 'half',\n",
              " 'prostaglandin',\n",
              " 'ability',\n",
              " 'got',\n",
              " 'drops',\n",
              " 'abdominal',\n",
              " 'alpha',\n",
              " 'chitosan',\n",
              " 'whether',\n",
              " 'elevated',\n",
              " 'forms',\n",
              " 'beta',\n",
              " 'provided',\n",
              " 'flow',\n",
              " 'index',\n",
              " 'cream',\n",
              " 'rabbits',\n",
              " 'nm',\n",
              " 'food',\n",
              " 'important',\n",
              " 'aged',\n",
              " 'gi',\n",
              " 'calcium',\n",
              " 'ocular',\n",
              " 'hplc',\n",
              " 'known',\n",
              " 'fluid',\n",
              " 'ketorolac',\n",
              " 'general',\n",
              " 'cyclooxygenase',\n",
              " 'find',\n",
              " 'kidney',\n",
              " 'experiencing',\n",
              " 'pge',\n",
              " 'problem',\n",
              " 'hospital',\n",
              " 'she',\n",
              " 'terms',\n",
              " 'follow',\n",
              " 'clinically',\n",
              " 'exercise',\n",
              " 'analyzed',\n",
              " 'great',\n",
              " 'extraction',\n",
              " 'global',\n",
              " 'intestinal',\n",
              " 'solutions',\n",
              " 'r',\n",
              " 'headaches',\n",
              " 'activities',\n",
              " 'percentage',\n",
              " 'celecoxib',\n",
              " 'prior',\n",
              " 'average',\n",
              " 'oil',\n",
              " 'collected',\n",
              " 'eudragit',\n",
              " 'best',\n",
              " 'role',\n",
              " 'seen',\n",
              " 'cardiovascular',\n",
              " 'sr',\n",
              " 'objective',\n",
              " 'modified',\n",
              " 'clearance',\n",
              " 'factors',\n",
              " 'medical',\n",
              " 'affected',\n",
              " 'hp',\n",
              " 'longer',\n",
              " 'orally',\n",
              " 'occurred',\n",
              " 'transdermal',\n",
              " 'salt',\n",
              " 'capsule',\n",
              " 'cramping',\n",
              " 'too',\n",
              " 'women',\n",
              " 'enhanced',\n",
              " 'upper',\n",
              " 'current',\n",
              " 'little',\n",
              " 'exhibited',\n",
              " 'dfs',\n",
              " 'flare',\n",
              " 'cambia',\n",
              " 'reducing',\n",
              " 'dpsgc',\n",
              " 'serious',\n",
              " 'required',\n",
              " 'microm',\n",
              " 'really',\n",
              " 'open',\n",
              " 'scanning',\n",
              " 'try',\n",
              " 'done',\n",
              " 'needed',\n",
              " 'strength',\n",
              " 'structure',\n",
              " 'laser',\n",
              " 'tmax',\n",
              " 'confirmed',\n",
              " 'via',\n",
              " 'affect',\n",
              " 'released',\n",
              " 'characteristics',\n",
              " 'lowered',\n",
              " 'binding',\n",
              " 'faster',\n",
              " 'percent',\n",
              " 'improve',\n",
              " 'hr',\n",
              " 'receive',\n",
              " 'information',\n",
              " 'stability',\n",
              " 'immediate',\n",
              " 'around',\n",
              " 'density',\n",
              " 'procedure',\n",
              " 'kinetics',\n",
              " 'particle',\n",
              " 'il',\n",
              " 'highly',\n",
              " 'hpmc',\n",
              " 'prolonged',\n",
              " 'urinary',\n",
              " 'excretion',\n",
              " 'approximately',\n",
              " 'result',\n",
              " 'management',\n",
              " 'crossover',\n",
              " 'none',\n",
              " 'microscopy',\n",
              " 'foot',\n",
              " 'analgesics',\n",
              " 'stopping',\n",
              " 'next',\n",
              " 'sd',\n",
              " 'potent',\n",
              " 'seven',\n",
              " 'eight',\n",
              " 'discomfort',\n",
              " 'finally',\n",
              " 'injury',\n",
              " 'dosing',\n",
              " 'target',\n",
              " 'individual',\n",
              " 'hdl',\n",
              " 'systems',\n",
              " 'generic',\n",
              " 'coating',\n",
              " 'female',\n",
              " 'seems',\n",
              " 'came',\n",
              " 'randomised',\n",
              " 'acetaminophen',\n",
              " 'relaxation',\n",
              " 'large',\n",
              " 'experiments',\n",
              " 'selective',\n",
              " 'pill',\n",
              " 'intravenous',\n",
              " 'safe',\n",
              " 'metabolism',\n",
              " 'along',\n",
              " 'drop',\n",
              " 'chloride',\n",
              " 'treat',\n",
              " 'his',\n",
              " 'criteria',\n",
              " 'df',\n",
              " 'kcnq',\n",
              " 'injected',\n",
              " 'experience',\n",
              " 'operative',\n",
              " 'lot',\n",
              " 'designed',\n",
              " 'alginate',\n",
              " 'penetration',\n",
              " 'useful',\n",
              " 'assigned',\n",
              " 'severity',\n",
              " 'variables',\n",
              " 'electron',\n",
              " 'doctors',\n",
              " 'here',\n",
              " 'effectiveness',\n",
              " 'reactions',\n",
              " 'light',\n",
              " 'aes',\n",
              " 'twenty',\n",
              " 'make',\n",
              " 'though',\n",
              " 'detected',\n",
              " 'shoulders',\n",
              " 'gone',\n",
              " 'began',\n",
              " 'parallel',\n",
              " 'selected',\n",
              " 'noted',\n",
              " 'independent',\n",
              " 'lack',\n",
              " 'previously',\n",
              " 'starting',\n",
              " 'laboratory',\n",
              " 'postoperatively',\n",
              " 'fed',\n",
              " 'toxicity',\n",
              " 'part',\n",
              " 'positive',\n",
              " 'report',\n",
              " 'condition',\n",
              " 'upon',\n",
              " 'slow',\n",
              " 'established',\n",
              " 'chromatography',\n",
              " 'assay',\n",
              " 'analogue',\n",
              " 'examination',\n",
              " 'sensitivity',\n",
              " 'fast',\n",
              " 'involved',\n",
              " 'validated',\n",
              " 'zero',\n",
              " 'ak',\n",
              " 'creatinine',\n",
              " 'measurements',\n",
              " 'prospective',\n",
              " 'reading',\n",
              " 'develop',\n",
              " 'cs',\n",
              " 'rather',\n",
              " 'dcf',\n",
              " 'spectroscopy',\n",
              " 'collagen',\n",
              " 'ever',\n",
              " 'ophthalmic',\n",
              " 'knees',\n",
              " 'analog',\n",
              " 'cost',\n",
              " 'interval',\n",
              " 'proposed',\n",
              " 'natural',\n",
              " 'able',\n",
              " 'widely',\n",
              " 'measures',\n",
              " 'optimized',\n",
              " 'molar',\n",
              " 'identified',\n",
              " 'vision',\n",
              " 'sample',\n",
              " ':',\n",
              " 'peg',\n",
              " 'completely',\n",
              " 'loading',\n",
              " 'activation',\n",
              " 'always',\n",
              " 'cellulose',\n",
              " 'differential',\n",
              " 'intraocular',\n",
              " 'direct',\n",
              " 'prescription',\n",
              " 'permeability',\n",
              " 'chest',\n",
              " 'bed',\n",
              " 'brain',\n",
              " 'coronary',\n",
              " 'simple',\n",
              " ...]"
            ]
          },
          "metadata": {
            "tags": []
          },
          "execution_count": 18
        }
      ]
    },
    {
      "cell_type": "code",
      "metadata": {
        "id": "yPWr03mls3VT",
        "colab_type": "code",
        "colab": {
          "base_uri": "https://localhost:8080/",
          "height": 17
        },
        "outputId": "2835a954-0b3d-4c4e-857d-094e759b7d29"
      },
      "source": [
        "model_path = path/'models'\n",
        "model_path.mkdir(exist_ok=True)\n",
        "url = 'http://files.fast.ai/models/wt103_v1/'\n",
        "download_url(f'{url}lstm_wt103.pth', model_path/'lstm_wt103.pth')\n",
        "download_url(f'{url}itos_wt103.pkl', model_path/'itos_wt103.pkl')"
      ],
      "execution_count": 19,
      "outputs": [
        {
          "output_type": "display_data",
          "data": {
            "text/html": [
              ""
            ],
            "text/plain": [
              "<IPython.core.display.HTML object>"
            ]
          },
          "metadata": {
            "tags": []
          }
        },
        {
          "output_type": "display_data",
          "data": {
            "text/html": [
              ""
            ],
            "text/plain": [
              "<IPython.core.display.HTML object>"
            ]
          },
          "metadata": {
            "tags": []
          }
        }
      ]
    },
    {
      "cell_type": "code",
      "metadata": {
        "id": "JRzvWg8RtGGr",
        "colab_type": "code",
        "colab": {
          "base_uri": "https://localhost:8080/",
          "height": 34
        },
        "outputId": "19ca076a-fc78-4b46-b27d-3e104d594695"
      },
      "source": [
        "learn = language_model_learner(data_lm, AWD_LSTM, drop_mult=0.5)"
      ],
      "execution_count": 20,
      "outputs": [
        {
          "output_type": "stream",
          "text": [
            "Downloading https://s3.amazonaws.com/fast-ai-modelzoo/wt103-fwd\n"
          ],
          "name": "stdout"
        },
        {
          "output_type": "display_data",
          "data": {
            "text/html": [
              ""
            ],
            "text/plain": [
              "<IPython.core.display.HTML object>"
            ]
          },
          "metadata": {
            "tags": []
          }
        }
      ]
    },
    {
      "cell_type": "code",
      "metadata": {
        "id": "xKK7GeBev7Xn",
        "colab_type": "code",
        "outputId": "e14f00f8-5419-4137-bd10-b5a72df83950",
        "colab": {
          "base_uri": "https://localhost:8080/",
          "height": 80
        }
      },
      "source": [
        "learn.fit_one_cycle(1, 1e-2)"
      ],
      "execution_count": 21,
      "outputs": [
        {
          "output_type": "display_data",
          "data": {
            "text/html": [
              "<table border=\"1\" class=\"dataframe\">\n",
              "  <thead>\n",
              "    <tr style=\"text-align: left;\">\n",
              "      <th>epoch</th>\n",
              "      <th>train_loss</th>\n",
              "      <th>valid_loss</th>\n",
              "      <th>accuracy</th>\n",
              "      <th>time</th>\n",
              "    </tr>\n",
              "  </thead>\n",
              "  <tbody>\n",
              "    <tr>\n",
              "      <td>0</td>\n",
              "      <td>5.218214</td>\n",
              "      <td>4.662446</td>\n",
              "      <td>0.234365</td>\n",
              "      <td>15:54</td>\n",
              "    </tr>\n",
              "  </tbody>\n",
              "</table>"
            ],
            "text/plain": [
              "<IPython.core.display.HTML object>"
            ]
          },
          "metadata": {
            "tags": []
          }
        }
      ]
    },
    {
      "cell_type": "code",
      "metadata": {
        "id": "iB7rHGQCwd12",
        "colab_type": "code",
        "outputId": "2eb1b89e-f492-4e44-ae11-b5dff7a0ba68",
        "colab": {
          "base_uri": "https://localhost:8080/",
          "height": 80
        }
      },
      "source": [
        "learn.fit_one_cycle(1, 1e-2)"
      ],
      "execution_count": 22,
      "outputs": [
        {
          "output_type": "display_data",
          "data": {
            "text/html": [
              "<table border=\"1\" class=\"dataframe\">\n",
              "  <thead>\n",
              "    <tr style=\"text-align: left;\">\n",
              "      <th>epoch</th>\n",
              "      <th>train_loss</th>\n",
              "      <th>valid_loss</th>\n",
              "      <th>accuracy</th>\n",
              "      <th>time</th>\n",
              "    </tr>\n",
              "  </thead>\n",
              "  <tbody>\n",
              "    <tr>\n",
              "      <td>0</td>\n",
              "      <td>4.513160</td>\n",
              "      <td>4.379565</td>\n",
              "      <td>0.257667</td>\n",
              "      <td>15:56</td>\n",
              "    </tr>\n",
              "  </tbody>\n",
              "</table>"
            ],
            "text/plain": [
              "<IPython.core.display.HTML object>"
            ]
          },
          "metadata": {
            "tags": []
          }
        }
      ]
    },
    {
      "cell_type": "code",
      "metadata": {
        "id": "_BnSuAeCwkBe",
        "colab_type": "code",
        "outputId": "9d08ddd1-6ac8-4b1e-d074-63d2ef2e2c72",
        "colab": {
          "base_uri": "https://localhost:8080/",
          "height": 80
        }
      },
      "source": [
        "learn.fit_one_cycle(1, 1e-3)"
      ],
      "execution_count": 23,
      "outputs": [
        {
          "output_type": "display_data",
          "data": {
            "text/html": [
              "<table border=\"1\" class=\"dataframe\">\n",
              "  <thead>\n",
              "    <tr style=\"text-align: left;\">\n",
              "      <th>epoch</th>\n",
              "      <th>train_loss</th>\n",
              "      <th>valid_loss</th>\n",
              "      <th>accuracy</th>\n",
              "      <th>time</th>\n",
              "    </tr>\n",
              "  </thead>\n",
              "  <tbody>\n",
              "    <tr>\n",
              "      <td>0</td>\n",
              "      <td>4.216438</td>\n",
              "      <td>4.343594</td>\n",
              "      <td>0.260850</td>\n",
              "      <td>15:52</td>\n",
              "    </tr>\n",
              "  </tbody>\n",
              "</table>"
            ],
            "text/plain": [
              "<IPython.core.display.HTML object>"
            ]
          },
          "metadata": {
            "tags": []
          }
        }
      ]
    },
    {
      "cell_type": "code",
      "metadata": {
        "id": "MuTm-RFjwrEX",
        "colab_type": "code",
        "outputId": "7444556d-29d8-4a34-b033-0a4e410a54e4",
        "colab": {
          "base_uri": "https://localhost:8080/",
          "height": 80
        }
      },
      "source": [
        "learn.fit_one_cycle(1, 1e-3)"
      ],
      "execution_count": 24,
      "outputs": [
        {
          "output_type": "display_data",
          "data": {
            "text/html": [
              "<table border=\"1\" class=\"dataframe\">\n",
              "  <thead>\n",
              "    <tr style=\"text-align: left;\">\n",
              "      <th>epoch</th>\n",
              "      <th>train_loss</th>\n",
              "      <th>valid_loss</th>\n",
              "      <th>accuracy</th>\n",
              "      <th>time</th>\n",
              "    </tr>\n",
              "  </thead>\n",
              "  <tbody>\n",
              "    <tr>\n",
              "      <td>0</td>\n",
              "      <td>4.176575</td>\n",
              "      <td>4.318535</td>\n",
              "      <td>0.262995</td>\n",
              "      <td>15:52</td>\n",
              "    </tr>\n",
              "  </tbody>\n",
              "</table>"
            ],
            "text/plain": [
              "<IPython.core.display.HTML object>"
            ]
          },
          "metadata": {
            "tags": []
          }
        }
      ]
    },
    {
      "cell_type": "code",
      "metadata": {
        "id": "1Er2ExO8wr7Y",
        "colab_type": "code",
        "colab": {}
      },
      "source": [
        "learn.save_encoder('bigtweet_fold0_first')"
      ],
      "execution_count": 0,
      "outputs": []
    },
    {
      "cell_type": "code",
      "metadata": {
        "id": "z52cZs2qwvad",
        "colab_type": "code",
        "outputId": "1d2728c6-b2e0-48d9-e3ca-4cd2f30b3f32",
        "colab": {
          "base_uri": "https://localhost:8080/",
          "height": 80
        }
      },
      "source": [
        "learn = text_classifier_learner(data_clas,AWD_LSTM, drop_mult=0.5)\n",
        "learn.load_encoder('bigtweet_fold0_first')\n",
        "learn.fit_one_cycle(1, 1e-2)"
      ],
      "execution_count": 26,
      "outputs": [
        {
          "output_type": "display_data",
          "data": {
            "text/html": [
              "<table border=\"1\" class=\"dataframe\">\n",
              "  <thead>\n",
              "    <tr style=\"text-align: left;\">\n",
              "      <th>epoch</th>\n",
              "      <th>train_loss</th>\n",
              "      <th>valid_loss</th>\n",
              "      <th>accuracy</th>\n",
              "      <th>time</th>\n",
              "    </tr>\n",
              "  </thead>\n",
              "  <tbody>\n",
              "    <tr>\n",
              "      <td>0</td>\n",
              "      <td>3.703268</td>\n",
              "      <td>3.367118</td>\n",
              "      <td>0.414758</td>\n",
              "      <td>01:10</td>\n",
              "    </tr>\n",
              "  </tbody>\n",
              "</table>"
            ],
            "text/plain": [
              "<IPython.core.display.HTML object>"
            ]
          },
          "metadata": {
            "tags": []
          }
        }
      ]
    },
    {
      "cell_type": "code",
      "metadata": {
        "id": "ImwQP1PJwzxd",
        "colab_type": "code",
        "outputId": "0826e865-444e-484d-868f-b23314192cd7",
        "colab": {
          "base_uri": "https://localhost:8080/",
          "height": 80
        }
      },
      "source": [
        "learn.freeze_to(-2)\n",
        "learn.fit_one_cycle(1, slice(5e-3/2., 5e-3))"
      ],
      "execution_count": 27,
      "outputs": [
        {
          "output_type": "display_data",
          "data": {
            "text/html": [
              "<table border=\"1\" class=\"dataframe\">\n",
              "  <thead>\n",
              "    <tr style=\"text-align: left;\">\n",
              "      <th>epoch</th>\n",
              "      <th>train_loss</th>\n",
              "      <th>valid_loss</th>\n",
              "      <th>accuracy</th>\n",
              "      <th>time</th>\n",
              "    </tr>\n",
              "  </thead>\n",
              "  <tbody>\n",
              "    <tr>\n",
              "      <td>0</td>\n",
              "      <td>2.708825</td>\n",
              "      <td>2.833122</td>\n",
              "      <td>0.527990</td>\n",
              "      <td>01:22</td>\n",
              "    </tr>\n",
              "  </tbody>\n",
              "</table>"
            ],
            "text/plain": [
              "<IPython.core.display.HTML object>"
            ]
          },
          "metadata": {
            "tags": []
          }
        }
      ]
    },
    {
      "cell_type": "code",
      "metadata": {
        "id": "Owff_BJXw53u",
        "colab_type": "code",
        "outputId": "ee92fb74-a92c-491a-b972-df45e9bc38b1",
        "colab": {
          "base_uri": "https://localhost:8080/",
          "height": 80
        }
      },
      "source": [
        "learn.unfreeze()\n",
        "learn.fit_one_cycle(1, slice(2e-3/100, 2e-3))"
      ],
      "execution_count": 28,
      "outputs": [
        {
          "output_type": "display_data",
          "data": {
            "text/html": [
              "<table border=\"1\" class=\"dataframe\">\n",
              "  <thead>\n",
              "    <tr style=\"text-align: left;\">\n",
              "      <th>epoch</th>\n",
              "      <th>train_loss</th>\n",
              "      <th>valid_loss</th>\n",
              "      <th>accuracy</th>\n",
              "      <th>time</th>\n",
              "    </tr>\n",
              "  </thead>\n",
              "  <tbody>\n",
              "    <tr>\n",
              "      <td>0</td>\n",
              "      <td>2.069316</td>\n",
              "      <td>2.527505</td>\n",
              "      <td>0.569975</td>\n",
              "      <td>03:25</td>\n",
              "    </tr>\n",
              "  </tbody>\n",
              "</table>"
            ],
            "text/plain": [
              "<IPython.core.display.HTML object>"
            ]
          },
          "metadata": {
            "tags": []
          }
        }
      ]
    },
    {
      "cell_type": "code",
      "metadata": {
        "id": "lqAyu56V8Waq",
        "colab_type": "code",
        "outputId": "d20d7c06-f568-41b4-d05e-b52f464c61f9",
        "colab": {
          "base_uri": "https://localhost:8080/",
          "height": 111
        }
      },
      "source": [
        "learn.fit_one_cycle(2, slice(2e-3/100, 2e-3))"
      ],
      "execution_count": 29,
      "outputs": [
        {
          "output_type": "display_data",
          "data": {
            "text/html": [
              "<table border=\"1\" class=\"dataframe\">\n",
              "  <thead>\n",
              "    <tr style=\"text-align: left;\">\n",
              "      <th>epoch</th>\n",
              "      <th>train_loss</th>\n",
              "      <th>valid_loss</th>\n",
              "      <th>accuracy</th>\n",
              "      <th>time</th>\n",
              "    </tr>\n",
              "  </thead>\n",
              "  <tbody>\n",
              "    <tr>\n",
              "      <td>0</td>\n",
              "      <td>1.821660</td>\n",
              "      <td>2.233130</td>\n",
              "      <td>0.614504</td>\n",
              "      <td>03:18</td>\n",
              "    </tr>\n",
              "    <tr>\n",
              "      <td>1</td>\n",
              "      <td>1.680130</td>\n",
              "      <td>2.110884</td>\n",
              "      <td>0.627226</td>\n",
              "      <td>03:34</td>\n",
              "    </tr>\n",
              "  </tbody>\n",
              "</table>"
            ],
            "text/plain": [
              "<IPython.core.display.HTML object>"
            ]
          },
          "metadata": {
            "tags": []
          }
        }
      ]
    },
    {
      "cell_type": "code",
      "metadata": {
        "id": "a7I1xMRp8bUd",
        "colab_type": "code",
        "outputId": "9dfbb9ae-2fb6-49b4-db43-356e3156d172",
        "colab": {
          "base_uri": "https://localhost:8080/",
          "height": 111
        }
      },
      "source": [
        "learn.fit_one_cycle(2, slice(2e-3/100, 2e-3))"
      ],
      "execution_count": 30,
      "outputs": [
        {
          "output_type": "display_data",
          "data": {
            "text/html": [
              "<table border=\"1\" class=\"dataframe\">\n",
              "  <thead>\n",
              "    <tr style=\"text-align: left;\">\n",
              "      <th>epoch</th>\n",
              "      <th>train_loss</th>\n",
              "      <th>valid_loss</th>\n",
              "      <th>accuracy</th>\n",
              "      <th>time</th>\n",
              "    </tr>\n",
              "  </thead>\n",
              "  <tbody>\n",
              "    <tr>\n",
              "      <td>0</td>\n",
              "      <td>1.482541</td>\n",
              "      <td>1.924985</td>\n",
              "      <td>0.665394</td>\n",
              "      <td>03:30</td>\n",
              "    </tr>\n",
              "    <tr>\n",
              "      <td>1</td>\n",
              "      <td>1.266917</td>\n",
              "      <td>1.816185</td>\n",
              "      <td>0.678117</td>\n",
              "      <td>03:34</td>\n",
              "    </tr>\n",
              "  </tbody>\n",
              "</table>"
            ],
            "text/plain": [
              "<IPython.core.display.HTML object>"
            ]
          },
          "metadata": {
            "tags": []
          }
        }
      ]
    },
    {
      "cell_type": "code",
      "metadata": {
        "id": "UAnti-XmGVfO",
        "colab_type": "code",
        "outputId": "28dfcd3d-6687-415c-aaba-0dc7d60eebc2",
        "colab": {
          "base_uri": "https://localhost:8080/",
          "height": 111
        }
      },
      "source": [
        "learn.fit_one_cycle(2, slice(2e-3/100, 2e-3))"
      ],
      "execution_count": 31,
      "outputs": [
        {
          "output_type": "display_data",
          "data": {
            "text/html": [
              "<table border=\"1\" class=\"dataframe\">\n",
              "  <thead>\n",
              "    <tr style=\"text-align: left;\">\n",
              "      <th>epoch</th>\n",
              "      <th>train_loss</th>\n",
              "      <th>valid_loss</th>\n",
              "      <th>accuracy</th>\n",
              "      <th>time</th>\n",
              "    </tr>\n",
              "  </thead>\n",
              "  <tbody>\n",
              "    <tr>\n",
              "      <td>0</td>\n",
              "      <td>1.150562</td>\n",
              "      <td>1.723815</td>\n",
              "      <td>0.698473</td>\n",
              "      <td>03:39</td>\n",
              "    </tr>\n",
              "    <tr>\n",
              "      <td>1</td>\n",
              "      <td>1.066399</td>\n",
              "      <td>1.636857</td>\n",
              "      <td>0.713740</td>\n",
              "      <td>03:24</td>\n",
              "    </tr>\n",
              "  </tbody>\n",
              "</table>"
            ],
            "text/plain": [
              "<IPython.core.display.HTML object>"
            ]
          },
          "metadata": {
            "tags": []
          }
        }
      ]
    },
    {
      "cell_type": "code",
      "metadata": {
        "id": "bIft7W25GwSu",
        "colab_type": "code",
        "outputId": "8330fc48-b18e-424f-c6e7-6b19a94fe2ce",
        "colab": {
          "base_uri": "https://localhost:8080/",
          "height": 111
        }
      },
      "source": [
        "learn.fit_one_cycle(2, slice(2e-3/100, 2e-3))"
      ],
      "execution_count": 32,
      "outputs": [
        {
          "output_type": "display_data",
          "data": {
            "text/html": [
              "<table border=\"1\" class=\"dataframe\">\n",
              "  <thead>\n",
              "    <tr style=\"text-align: left;\">\n",
              "      <th>epoch</th>\n",
              "      <th>train_loss</th>\n",
              "      <th>valid_loss</th>\n",
              "      <th>accuracy</th>\n",
              "      <th>time</th>\n",
              "    </tr>\n",
              "  </thead>\n",
              "  <tbody>\n",
              "    <tr>\n",
              "      <td>0</td>\n",
              "      <td>0.964710</td>\n",
              "      <td>1.569510</td>\n",
              "      <td>0.734097</td>\n",
              "      <td>03:24</td>\n",
              "    </tr>\n",
              "    <tr>\n",
              "      <td>1</td>\n",
              "      <td>0.871141</td>\n",
              "      <td>1.516021</td>\n",
              "      <td>0.739186</td>\n",
              "      <td>03:30</td>\n",
              "    </tr>\n",
              "  </tbody>\n",
              "</table>"
            ],
            "text/plain": [
              "<IPython.core.display.HTML object>"
            ]
          },
          "metadata": {
            "tags": []
          }
        }
      ]
    },
    {
      "cell_type": "code",
      "metadata": {
        "id": "EEHszVRvGyFt",
        "colab_type": "code",
        "outputId": "660660f5-f2fd-4485-8cc7-189dcfc87f66",
        "colab": {
          "base_uri": "https://localhost:8080/",
          "height": 111
        }
      },
      "source": [
        "learn.fit_one_cycle(2, slice(2e-3/100, 2e-3))"
      ],
      "execution_count": 33,
      "outputs": [
        {
          "output_type": "display_data",
          "data": {
            "text/html": [
              "<table border=\"1\" class=\"dataframe\">\n",
              "  <thead>\n",
              "    <tr style=\"text-align: left;\">\n",
              "      <th>epoch</th>\n",
              "      <th>train_loss</th>\n",
              "      <th>valid_loss</th>\n",
              "      <th>accuracy</th>\n",
              "      <th>time</th>\n",
              "    </tr>\n",
              "  </thead>\n",
              "  <tbody>\n",
              "    <tr>\n",
              "      <td>0</td>\n",
              "      <td>0.810887</td>\n",
              "      <td>1.474881</td>\n",
              "      <td>0.734097</td>\n",
              "      <td>03:39</td>\n",
              "    </tr>\n",
              "    <tr>\n",
              "      <td>1</td>\n",
              "      <td>0.746934</td>\n",
              "      <td>1.437652</td>\n",
              "      <td>0.748092</td>\n",
              "      <td>03:32</td>\n",
              "    </tr>\n",
              "  </tbody>\n",
              "</table>"
            ],
            "text/plain": [
              "<IPython.core.display.HTML object>"
            ]
          },
          "metadata": {
            "tags": []
          }
        }
      ]
    },
    {
      "cell_type": "code",
      "metadata": {
        "id": "XsHfrhCHG3dN",
        "colab_type": "code",
        "outputId": "402c9626-7b39-4ba8-8086-000c8855e1e2",
        "colab": {
          "base_uri": "https://localhost:8080/",
          "height": 173
        }
      },
      "source": [
        "learn.fit_one_cycle(4, slice(2e-3/100, 2e-3))"
      ],
      "execution_count": 34,
      "outputs": [
        {
          "output_type": "display_data",
          "data": {
            "text/html": [
              "<table border=\"1\" class=\"dataframe\">\n",
              "  <thead>\n",
              "    <tr style=\"text-align: left;\">\n",
              "      <th>epoch</th>\n",
              "      <th>train_loss</th>\n",
              "      <th>valid_loss</th>\n",
              "      <th>accuracy</th>\n",
              "      <th>time</th>\n",
              "    </tr>\n",
              "  </thead>\n",
              "  <tbody>\n",
              "    <tr>\n",
              "      <td>0</td>\n",
              "      <td>0.753493</td>\n",
              "      <td>1.397306</td>\n",
              "      <td>0.758270</td>\n",
              "      <td>03:40</td>\n",
              "    </tr>\n",
              "    <tr>\n",
              "      <td>1</td>\n",
              "      <td>0.709777</td>\n",
              "      <td>1.396966</td>\n",
              "      <td>0.756997</td>\n",
              "      <td>03:30</td>\n",
              "    </tr>\n",
              "    <tr>\n",
              "      <td>2</td>\n",
              "      <td>0.623261</td>\n",
              "      <td>1.330490</td>\n",
              "      <td>0.763359</td>\n",
              "      <td>03:26</td>\n",
              "    </tr>\n",
              "    <tr>\n",
              "      <td>3</td>\n",
              "      <td>0.549349</td>\n",
              "      <td>1.324307</td>\n",
              "      <td>0.768448</td>\n",
              "      <td>03:34</td>\n",
              "    </tr>\n",
              "  </tbody>\n",
              "</table>"
            ],
            "text/plain": [
              "<IPython.core.display.HTML object>"
            ]
          },
          "metadata": {
            "tags": []
          }
        }
      ]
    },
    {
      "cell_type": "code",
      "metadata": {
        "id": "0Zsd99isb9EQ",
        "colab_type": "code",
        "outputId": "b32d63d2-527e-4801-9363-040e6de87066",
        "colab": {
          "base_uri": "https://localhost:8080/",
          "height": 173
        }
      },
      "source": [
        "learn.fit_one_cycle(4, slice(2e-3/100, 2e-3))"
      ],
      "execution_count": 35,
      "outputs": [
        {
          "output_type": "display_data",
          "data": {
            "text/html": [
              "<table border=\"1\" class=\"dataframe\">\n",
              "  <thead>\n",
              "    <tr style=\"text-align: left;\">\n",
              "      <th>epoch</th>\n",
              "      <th>train_loss</th>\n",
              "      <th>valid_loss</th>\n",
              "      <th>accuracy</th>\n",
              "      <th>time</th>\n",
              "    </tr>\n",
              "  </thead>\n",
              "  <tbody>\n",
              "    <tr>\n",
              "      <td>0</td>\n",
              "      <td>0.546781</td>\n",
              "      <td>1.348784</td>\n",
              "      <td>0.759542</td>\n",
              "      <td>03:21</td>\n",
              "    </tr>\n",
              "    <tr>\n",
              "      <td>1</td>\n",
              "      <td>0.558520</td>\n",
              "      <td>1.363443</td>\n",
              "      <td>0.765903</td>\n",
              "      <td>03:24</td>\n",
              "    </tr>\n",
              "    <tr>\n",
              "      <td>2</td>\n",
              "      <td>0.481616</td>\n",
              "      <td>1.342639</td>\n",
              "      <td>0.763359</td>\n",
              "      <td>03:15</td>\n",
              "    </tr>\n",
              "    <tr>\n",
              "      <td>3</td>\n",
              "      <td>0.462867</td>\n",
              "      <td>1.316632</td>\n",
              "      <td>0.772265</td>\n",
              "      <td>03:25</td>\n",
              "    </tr>\n",
              "  </tbody>\n",
              "</table>"
            ],
            "text/plain": [
              "<IPython.core.display.HTML object>"
            ]
          },
          "metadata": {
            "tags": []
          }
        }
      ]
    },
    {
      "cell_type": "code",
      "metadata": {
        "id": "atNWNKDFPbuI",
        "colab_type": "code",
        "outputId": "380d8c16-d170-457d-c7b1-948fcd79e54b",
        "colab": {
          "base_uri": "https://localhost:8080/",
          "height": 173
        }
      },
      "source": [
        "learn.fit_one_cycle(4, slice(2e-3/100, 2e-3))"
      ],
      "execution_count": 36,
      "outputs": [
        {
          "output_type": "display_data",
          "data": {
            "text/html": [
              "<table border=\"1\" class=\"dataframe\">\n",
              "  <thead>\n",
              "    <tr style=\"text-align: left;\">\n",
              "      <th>epoch</th>\n",
              "      <th>train_loss</th>\n",
              "      <th>valid_loss</th>\n",
              "      <th>accuracy</th>\n",
              "      <th>time</th>\n",
              "    </tr>\n",
              "  </thead>\n",
              "  <tbody>\n",
              "    <tr>\n",
              "      <td>0</td>\n",
              "      <td>0.467077</td>\n",
              "      <td>1.347968</td>\n",
              "      <td>0.770992</td>\n",
              "      <td>03:29</td>\n",
              "    </tr>\n",
              "    <tr>\n",
              "      <td>1</td>\n",
              "      <td>0.509597</td>\n",
              "      <td>1.353134</td>\n",
              "      <td>0.773537</td>\n",
              "      <td>03:22</td>\n",
              "    </tr>\n",
              "    <tr>\n",
              "      <td>2</td>\n",
              "      <td>0.453180</td>\n",
              "      <td>1.352646</td>\n",
              "      <td>0.773537</td>\n",
              "      <td>03:26</td>\n",
              "    </tr>\n",
              "    <tr>\n",
              "      <td>3</td>\n",
              "      <td>0.392872</td>\n",
              "      <td>1.359782</td>\n",
              "      <td>0.776081</td>\n",
              "      <td>03:31</td>\n",
              "    </tr>\n",
              "  </tbody>\n",
              "</table>"
            ],
            "text/plain": [
              "<IPython.core.display.HTML object>"
            ]
          },
          "metadata": {
            "tags": []
          }
        }
      ]
    },
    {
      "cell_type": "code",
      "metadata": {
        "id": "rKrBTZ0T1uVA",
        "colab_type": "code",
        "colab": {
          "base_uri": "https://localhost:8080/",
          "height": 173
        },
        "outputId": "45bad3ef-fa0c-4c8c-ad16-a9715b56e1cd"
      },
      "source": [
        "learn.fit_one_cycle(4, slice(2e-3/100, 2e-3))"
      ],
      "execution_count": 37,
      "outputs": [
        {
          "output_type": "display_data",
          "data": {
            "text/html": [
              "<table border=\"1\" class=\"dataframe\">\n",
              "  <thead>\n",
              "    <tr style=\"text-align: left;\">\n",
              "      <th>epoch</th>\n",
              "      <th>train_loss</th>\n",
              "      <th>valid_loss</th>\n",
              "      <th>accuracy</th>\n",
              "      <th>time</th>\n",
              "    </tr>\n",
              "  </thead>\n",
              "  <tbody>\n",
              "    <tr>\n",
              "      <td>0</td>\n",
              "      <td>0.415284</td>\n",
              "      <td>1.381698</td>\n",
              "      <td>0.783715</td>\n",
              "      <td>03:16</td>\n",
              "    </tr>\n",
              "    <tr>\n",
              "      <td>1</td>\n",
              "      <td>0.452302</td>\n",
              "      <td>1.338662</td>\n",
              "      <td>0.778626</td>\n",
              "      <td>03:30</td>\n",
              "    </tr>\n",
              "    <tr>\n",
              "      <td>2</td>\n",
              "      <td>0.413590</td>\n",
              "      <td>1.348775</td>\n",
              "      <td>0.786260</td>\n",
              "      <td>03:34</td>\n",
              "    </tr>\n",
              "    <tr>\n",
              "      <td>3</td>\n",
              "      <td>0.355991</td>\n",
              "      <td>1.306787</td>\n",
              "      <td>0.782443</td>\n",
              "      <td>03:31</td>\n",
              "    </tr>\n",
              "  </tbody>\n",
              "</table>"
            ],
            "text/plain": [
              "<IPython.core.display.HTML object>"
            ]
          },
          "metadata": {
            "tags": []
          }
        }
      ]
    },
    {
      "cell_type": "code",
      "metadata": {
        "id": "ajQC6WDg1yA9",
        "colab_type": "code",
        "colab": {
          "base_uri": "https://localhost:8080/",
          "height": 173
        },
        "outputId": "84a22f5b-7cbf-4e7a-8283-a6c21248273b"
      },
      "source": [
        "learn.fit_one_cycle(4, slice(2e-3/100, 2e-3))"
      ],
      "execution_count": 38,
      "outputs": [
        {
          "output_type": "display_data",
          "data": {
            "text/html": [
              "<table border=\"1\" class=\"dataframe\">\n",
              "  <thead>\n",
              "    <tr style=\"text-align: left;\">\n",
              "      <th>epoch</th>\n",
              "      <th>train_loss</th>\n",
              "      <th>valid_loss</th>\n",
              "      <th>accuracy</th>\n",
              "      <th>time</th>\n",
              "    </tr>\n",
              "  </thead>\n",
              "  <tbody>\n",
              "    <tr>\n",
              "      <td>0</td>\n",
              "      <td>0.377434</td>\n",
              "      <td>1.395419</td>\n",
              "      <td>0.778626</td>\n",
              "      <td>03:19</td>\n",
              "    </tr>\n",
              "    <tr>\n",
              "      <td>1</td>\n",
              "      <td>0.408532</td>\n",
              "      <td>1.388490</td>\n",
              "      <td>0.777354</td>\n",
              "      <td>03:37</td>\n",
              "    </tr>\n",
              "    <tr>\n",
              "      <td>2</td>\n",
              "      <td>0.365455</td>\n",
              "      <td>1.350533</td>\n",
              "      <td>0.786260</td>\n",
              "      <td>03:21</td>\n",
              "    </tr>\n",
              "    <tr>\n",
              "      <td>3</td>\n",
              "      <td>0.332749</td>\n",
              "      <td>1.355672</td>\n",
              "      <td>0.787532</td>\n",
              "      <td>03:26</td>\n",
              "    </tr>\n",
              "  </tbody>\n",
              "</table>"
            ],
            "text/plain": [
              "<IPython.core.display.HTML object>"
            ]
          },
          "metadata": {
            "tags": []
          }
        }
      ]
    },
    {
      "cell_type": "code",
      "metadata": {
        "id": "KKydb0B4BKGk",
        "colab_type": "code",
        "colab": {
          "base_uri": "https://localhost:8080/",
          "height": 173
        },
        "outputId": "22c3c4db-290e-4b75-93d3-8d0bb376d5ca"
      },
      "source": [
        "learn.fit_one_cycle(4, slice(2e-3/100, 2e-3))"
      ],
      "execution_count": 39,
      "outputs": [
        {
          "output_type": "display_data",
          "data": {
            "text/html": [
              "<table border=\"1\" class=\"dataframe\">\n",
              "  <thead>\n",
              "    <tr style=\"text-align: left;\">\n",
              "      <th>epoch</th>\n",
              "      <th>train_loss</th>\n",
              "      <th>valid_loss</th>\n",
              "      <th>accuracy</th>\n",
              "      <th>time</th>\n",
              "    </tr>\n",
              "  </thead>\n",
              "  <tbody>\n",
              "    <tr>\n",
              "      <td>0</td>\n",
              "      <td>0.363450</td>\n",
              "      <td>1.430044</td>\n",
              "      <td>0.777354</td>\n",
              "      <td>03:22</td>\n",
              "    </tr>\n",
              "    <tr>\n",
              "      <td>1</td>\n",
              "      <td>0.376261</td>\n",
              "      <td>1.444160</td>\n",
              "      <td>0.774809</td>\n",
              "      <td>03:31</td>\n",
              "    </tr>\n",
              "    <tr>\n",
              "      <td>2</td>\n",
              "      <td>0.363610</td>\n",
              "      <td>1.448026</td>\n",
              "      <td>0.779898</td>\n",
              "      <td>03:23</td>\n",
              "    </tr>\n",
              "    <tr>\n",
              "      <td>3</td>\n",
              "      <td>0.308315</td>\n",
              "      <td>1.400187</td>\n",
              "      <td>0.783715</td>\n",
              "      <td>03:30</td>\n",
              "    </tr>\n",
              "  </tbody>\n",
              "</table>"
            ],
            "text/plain": [
              "<IPython.core.display.HTML object>"
            ]
          },
          "metadata": {
            "tags": []
          }
        }
      ]
    },
    {
      "cell_type": "code",
      "metadata": {
        "id": "T2APKtFKBpGY",
        "colab_type": "code",
        "colab": {
          "base_uri": "https://localhost:8080/",
          "height": 173
        },
        "outputId": "b8028349-67a7-4505-cf57-82a6cc91ee0f"
      },
      "source": [
        "learn.fit_one_cycle(4, slice(2e-3/100, 2e-3))"
      ],
      "execution_count": 40,
      "outputs": [
        {
          "output_type": "display_data",
          "data": {
            "text/html": [
              "<table border=\"1\" class=\"dataframe\">\n",
              "  <thead>\n",
              "    <tr style=\"text-align: left;\">\n",
              "      <th>epoch</th>\n",
              "      <th>train_loss</th>\n",
              "      <th>valid_loss</th>\n",
              "      <th>accuracy</th>\n",
              "      <th>time</th>\n",
              "    </tr>\n",
              "  </thead>\n",
              "  <tbody>\n",
              "    <tr>\n",
              "      <td>0</td>\n",
              "      <td>0.321751</td>\n",
              "      <td>1.392469</td>\n",
              "      <td>0.778626</td>\n",
              "      <td>03:23</td>\n",
              "    </tr>\n",
              "    <tr>\n",
              "      <td>1</td>\n",
              "      <td>0.366012</td>\n",
              "      <td>1.520175</td>\n",
              "      <td>0.776081</td>\n",
              "      <td>03:18</td>\n",
              "    </tr>\n",
              "    <tr>\n",
              "      <td>2</td>\n",
              "      <td>0.359271</td>\n",
              "      <td>1.421839</td>\n",
              "      <td>0.792621</td>\n",
              "      <td>03:37</td>\n",
              "    </tr>\n",
              "    <tr>\n",
              "      <td>3</td>\n",
              "      <td>0.307351</td>\n",
              "      <td>1.470095</td>\n",
              "      <td>0.790076</td>\n",
              "      <td>03:18</td>\n",
              "    </tr>\n",
              "  </tbody>\n",
              "</table>"
            ],
            "text/plain": [
              "<IPython.core.display.HTML object>"
            ]
          },
          "metadata": {
            "tags": []
          }
        }
      ]
    },
    {
      "cell_type": "code",
      "metadata": {
        "id": "e-4l33jMPmoc",
        "colab_type": "code",
        "colab": {
          "base_uri": "https://localhost:8080/",
          "height": 111
        },
        "outputId": "801fb13e-1626-4d40-c56c-c923ca80510a"
      },
      "source": [
        "learn.fit_one_cycle(2, slice(2e-3/100, 2e-3))"
      ],
      "execution_count": 41,
      "outputs": [
        {
          "output_type": "display_data",
          "data": {
            "text/html": [
              "<table border=\"1\" class=\"dataframe\">\n",
              "  <thead>\n",
              "    <tr style=\"text-align: left;\">\n",
              "      <th>epoch</th>\n",
              "      <th>train_loss</th>\n",
              "      <th>valid_loss</th>\n",
              "      <th>accuracy</th>\n",
              "      <th>time</th>\n",
              "    </tr>\n",
              "  </thead>\n",
              "  <tbody>\n",
              "    <tr>\n",
              "      <td>0</td>\n",
              "      <td>0.316123</td>\n",
              "      <td>1.470673</td>\n",
              "      <td>0.776081</td>\n",
              "      <td>03:37</td>\n",
              "    </tr>\n",
              "    <tr>\n",
              "      <td>1</td>\n",
              "      <td>0.314682</td>\n",
              "      <td>1.429124</td>\n",
              "      <td>0.779898</td>\n",
              "      <td>03:23</td>\n",
              "    </tr>\n",
              "  </tbody>\n",
              "</table>"
            ],
            "text/plain": [
              "<IPython.core.display.HTML object>"
            ]
          },
          "metadata": {
            "tags": []
          }
        }
      ]
    },
    {
      "cell_type": "code",
      "metadata": {
        "id": "TLEpYoqgUudV",
        "colab_type": "code",
        "colab": {
          "base_uri": "https://localhost:8080/",
          "height": 111
        },
        "outputId": "0647b26e-550b-4328-d061-f2038fe3e052"
      },
      "source": [
        "learn.fit_one_cycle(2, slice(2e-3/100, 2e-3))"
      ],
      "execution_count": 42,
      "outputs": [
        {
          "output_type": "display_data",
          "data": {
            "text/html": [
              "<table border=\"1\" class=\"dataframe\">\n",
              "  <thead>\n",
              "    <tr style=\"text-align: left;\">\n",
              "      <th>epoch</th>\n",
              "      <th>train_loss</th>\n",
              "      <th>valid_loss</th>\n",
              "      <th>accuracy</th>\n",
              "      <th>time</th>\n",
              "    </tr>\n",
              "  </thead>\n",
              "  <tbody>\n",
              "    <tr>\n",
              "      <td>0</td>\n",
              "      <td>0.328290</td>\n",
              "      <td>1.486013</td>\n",
              "      <td>0.787532</td>\n",
              "      <td>03:22</td>\n",
              "    </tr>\n",
              "    <tr>\n",
              "      <td>1</td>\n",
              "      <td>0.318161</td>\n",
              "      <td>1.398489</td>\n",
              "      <td>0.786260</td>\n",
              "      <td>03:31</td>\n",
              "    </tr>\n",
              "  </tbody>\n",
              "</table>"
            ],
            "text/plain": [
              "<IPython.core.display.HTML object>"
            ]
          },
          "metadata": {
            "tags": []
          }
        }
      ]
    },
    {
      "cell_type": "code",
      "metadata": {
        "id": "mcH2clSXVZUq",
        "colab_type": "code",
        "colab": {
          "base_uri": "https://localhost:8080/",
          "height": 80
        },
        "outputId": "213972ad-a63a-498c-fe05-83977a488416"
      },
      "source": [
        "learn.fit_one_cycle(1, slice(2e-3/100, 2e-3))"
      ],
      "execution_count": 43,
      "outputs": [
        {
          "output_type": "display_data",
          "data": {
            "text/html": [
              "<table border=\"1\" class=\"dataframe\">\n",
              "  <thead>\n",
              "    <tr style=\"text-align: left;\">\n",
              "      <th>epoch</th>\n",
              "      <th>train_loss</th>\n",
              "      <th>valid_loss</th>\n",
              "      <th>accuracy</th>\n",
              "      <th>time</th>\n",
              "    </tr>\n",
              "  </thead>\n",
              "  <tbody>\n",
              "    <tr>\n",
              "      <td>0</td>\n",
              "      <td>0.346107</td>\n",
              "      <td>1.408137</td>\n",
              "      <td>0.786260</td>\n",
              "      <td>03:42</td>\n",
              "    </tr>\n",
              "  </tbody>\n",
              "</table>"
            ],
            "text/plain": [
              "<IPython.core.display.HTML object>"
            ]
          },
          "metadata": {
            "tags": []
          }
        }
      ]
    },
    {
      "cell_type": "code",
      "metadata": {
        "id": "c65d-osfDUXm",
        "colab_type": "code",
        "colab": {}
      },
      "source": [
        "# save the best model\n",
        "\n",
        "learn.save_encoder('ask-0-tuning-bigtweet')"
      ],
      "execution_count": 0,
      "outputs": []
    },
    {
      "cell_type": "markdown",
      "metadata": {
        "id": "rCwZU0E2RgM6",
        "colab_type": "text"
      },
      "source": [
        "# Part three: Predict on the test dataset"
      ]
    },
    {
      "cell_type": "code",
      "metadata": {
        "id": "gDm72c-dOu7d",
        "colab_type": "code",
        "colab": {
          "base_uri": "https://localhost:8080/",
          "height": 17
        },
        "outputId": "eb5b8563-7f68-4c06-f356-6d84db5c40e9"
      },
      "source": [
        "# use the test data for prediction\n",
        "\n",
        "preds, y = learn.get_preds(DatasetType.Test)"
      ],
      "execution_count": 45,
      "outputs": [
        {
          "output_type": "display_data",
          "data": {
            "text/html": [
              ""
            ],
            "text/plain": [
              "<IPython.core.display.HTML object>"
            ]
          },
          "metadata": {
            "tags": []
          }
        }
      ]
    },
    {
      "cell_type": "code",
      "metadata": {
        "id": "6tFSQcsWPvxn",
        "colab_type": "code",
        "colab": {
          "base_uri": "https://localhost:8080/",
          "height": 105
        },
        "outputId": "63adb6c4-45ce-476a-be86-6a1906624207"
      },
      "source": [
        "predictions, *_ = learn.get_preds(DatasetType.Test)\n",
        "labels = np.argmax(predictions, 1)\n",
        "predict_list = labels.tolist()\n",
        "standard_list = test[0].tolist()\n",
        "\n",
        "print(len(predict_list))\n",
        "print(len(standard_list))\n",
        "\n",
        "print(predict_list)\n",
        "print(standard_list)"
      ],
      "execution_count": 46,
      "outputs": [
        {
          "output_type": "display_data",
          "data": {
            "text/html": [
              ""
            ],
            "text/plain": [
              "<IPython.core.display.HTML object>"
            ]
          },
          "metadata": {
            "tags": []
          }
        },
        {
          "output_type": "stream",
          "text": [
            "866\n",
            "866\n",
            "[2, 5, 6, 8, 8, 8, 12, 182, 330, 27, 27, 662, 29, 30, 31, 34, 877, 1005, 37, 37, 37, 37, 37, 37, 37, 37, 289, 49, 325, 49, 537, 49, 473, 49, 775, 100, 100, 100, 100, 100, 53, 53, 53, 60, 61, 61, 491, 62, 100, 225, 205, 71, 107, 179, 76, 652, 228, 41, 79, 79, 79, 79, 368, 228, 228, 228, 228, 228, 228, 228, 228, 228, 228, 228, 228, 228, 228, 228, 228, 228, 228, 228, 228, 228, 228, 228, 228, 228, 289, 614, 614, 289, 80, 80, 80, 89, 597, 537, 91, 94, 94, 360, 135, 94, 135, 135, 135, 135, 135, 135, 135, 135, 94, 135, 761, 761, 98, 98, 848, 100, 100, 100, 100, 538, 104, 644, 877, 108, 108, 108, 289, 111, 289, 189, 117, 775, 535, 436, 468, 537, 125, 125, 125, 125, 125, 125, 125, 289, 343, 82, 343, 343, 131, 473, 473, 473, 140, 226, 447, 151, 809, 475, 626, 73, 163, 163, 167, 49, 644, 604, 172, 289, 260, 172, 172, 427, 115, 264, 182, 182, 289, 289, 183, 183, 183, 183, 183, 183, 183, 183, 183, 183, 187, 187, 187, 187, 187, 187, 240, 190, 190, 190, 190, 637, 192, 105, 105, 105, 197, 197, 197, 197, 388, 303, 203, 428, 205, 205, 652, 210, 210, 210, 211, 214, 214, 642, 214, 214, 214, 214, 214, 214, 214, 214, 369, 216, 207, 80, 331, 228, 228, 228, 228, 606, 228, 228, 228, 228, 537, 228, 228, 289, 228, 472, 27, 533, 234, 234, 591, 537, 235, 236, 434, 537, 240, 243, 4, 537, 243, 243, 243, 537, 194, 245, 245, 245, 517, 246, 537, 254, 275, 260, 260, 260, 265, 265, 265, 265, 265, 265, 265, 289, 265, 265, 265, 265, 265, 265, 265, 265, 265, 265, 265, 265, 265, 265, 265, 265, 265, 265, 265, 265, 265, 265, 265, 352, 265, 289, 265, 289, 281, 52, 260, 289, 289, 289, 289, 289, 289, 289, 289, 289, 289, 864, 289, 289, 289, 289, 289, 289, 526, 258, 293, 443, 644, 298, 805, 300, 300, 300, 301, 897, 537, 309, 309, 309, 309, 309, 309, 309, 289, 491, 260, 318, 318, 321, 455, 325, 325, 325, 325, 325, 325, 325, 325, 325, 325, 325, 325, 325, 325, 325, 325, 328, 329, 332, 335, 605, 337, 337, 100, 338, 537, 342, 782, 359, 359, 359, 359, 28, 364, 364, 364, 419, 289, 537, 597, 386, 391, 391, 391, 391, 444, 191, 191, 537, 789, 789, 789, 711, 491, 301, 418, 418, 651, 651, 651, 651, 651, 419, 289, 424, 424, 425, 369, 215, 614, 427, 737, 427, 427, 427, 427, 427, 430, 435, 663, 441, 443, 443, 444, 391, 444, 452, 454, 455, 455, 455, 455, 455, 455, 455, 471, 474, 475, 475, 475, 475, 475, 475, 326, 488, 644, 491, 491, 491, 491, 491, 499, 711, 507, 9, 289, 586, 517, 517, 517, 517, 517, 524, 524, 146, 530, 530, 530, 234, 541, 28, 542, 545, 545, 545, 545, 545, 545, 548, 548, 548, 548, 548, 549, 730, 202, 425, 572, 537, 574, 574, 236, 896, 583, 585, 590, 590, 591, 591, 693, 592, 592, 191, 191, 97, 599, 710, 710, 801, 610, 326, 427, 614, 614, 614, 780, 61, 424, 234, 622, 623, 624, 331, 268, 591, 289, 289, 652, 637, 245, 643, 537, 644, 646, 646, 646, 646, 537, 714, 652, 652, 652, 289, 652, 536, 661, 662, 528, 443, 690, 289, 289, 462, 419, 265, 320, 711, 711, 711, 711, 711, 714, 714, 715, 773, 764, 730, 736, 704, 741, 741, 289, 289, 289, 471, 746, 746, 746, 746, 748, 769, 318, 773, 648, 775, 572, 775, 775, 775, 775, 475, 783, 791, 791, 848, 794, 794, 289, 753, 804, 804, 805, 805, 877, 806, 806, 806, 806, 809, 809, 537, 810, 810, 269, 906, 816, 73, 817, 817, 809, 61, 826, 830, 830, 830, 830, 830, 830, 528, 427, 815, 537, 840, 844, 844, 847, 847, 296, 848, 852, 852, 194, 853, 853, 853, 853, 424, 537, 861, 50, 868, 37, 877, 391, 38, 368, 892, 896, 896, 896, 896, 896, 896, 471, 896, 919, 919, 919, 919, 929, 937, 937, 937, 937, 937, 893, 937, 937, 937, 940, 948, 948, 270, 331, 948, 949, 949, 949, 949, 949, 949, 949, 949, 949, 949, 949, 949, 949, 949, 949, 949, 949, 949, 949, 949, 949, 949, 949, 949, 949, 949, 949, 949, 949, 949, 949, 949, 949, 949, 949, 949, 949, 949, 949, 949, 949, 949, 949, 949, 949, 949, 949, 949, 949, 949, 949, 949, 949, 949, 949, 949, 949, 949, 949, 949, 949, 949, 949, 949, 949, 949, 949, 949, 949, 949, 949, 949, 949, 949, 949, 949, 949, 949, 949, 949, 949, 949, 949, 949, 949, 949, 949, 949, 949, 949, 949, 949, 949, 949, 949, 949, 949, 949, 949, 949, 949, 949, 949, 949, 949, 949, 949, 949, 949, 949, 950, 950, 950, 950, 950, 952, 952, 952, 952, 955, 956, 956, 958, 958, 964, 965, 966, 974, 976, 976, 960, 537, 983, 986, 331, 537, 194, 1019, 1001, 1001, 1005, 80, 537, 1015, 1016, 1026, 966, 1026, 1026, 925, 1028, 1028, 1031, 1035]\n",
            "[2, 5, 6, 8, 8, 8, 12, 15, 17, 27, 27, 29, 29, 30, 31, 34, 34, 35, 37, 37, 37, 37, 37, 37, 37, 37, 37, 49, 49, 49, 49, 49, 49, 49, 49, 49, 49, 49, 49, 49, 53, 53, 53, 60, 61, 61, 62, 62, 62, 63, 70, 71, 72, 74, 76, 77, 77, 77, 79, 79, 79, 79, 79, 79, 79, 79, 79, 79, 79, 79, 79, 79, 79, 79, 79, 79, 79, 79, 79, 79, 79, 79, 79, 79, 79, 79, 79, 79, 79, 79, 79, 79, 80, 80, 80, 89, 90, 91, 91, 94, 94, 94, 94, 94, 94, 94, 94, 94, 94, 94, 94, 94, 94, 94, 96, 96, 98, 98, 99, 100, 100, 100, 100, 100, 104, 106, 107, 108, 108, 108, 109, 111, 111, 116, 117, 117, 119, 120, 122, 122, 125, 125, 125, 125, 125, 125, 125, 126, 127, 128, 129, 129, 131, 139, 139, 139, 140, 140, 142, 151, 151, 151, 154, 162, 163, 163, 167, 169, 170, 172, 172, 172, 172, 172, 172, 173, 173, 176, 182, 182, 182, 182, 183, 183, 183, 183, 183, 183, 183, 183, 183, 183, 187, 187, 187, 187, 187, 187, 187, 190, 190, 190, 190, 190, 192, 193, 193, 193, 197, 197, 197, 197, 198, 199, 203, 204, 205, 205, 209, 210, 210, 210, 211, 214, 214, 214, 214, 214, 214, 214, 214, 214, 214, 214, 215, 216, 220, 220, 221, 228, 228, 228, 228, 228, 228, 228, 228, 228, 228, 228, 228, 228, 228, 228, 233, 234, 234, 234, 235, 235, 235, 236, 238, 238, 240, 243, 243, 243, 243, 243, 243, 243, 244, 245, 245, 245, 246, 246, 254, 254, 255, 260, 260, 260, 265, 265, 265, 265, 265, 265, 265, 265, 265, 265, 265, 265, 265, 265, 265, 265, 265, 265, 265, 265, 265, 265, 265, 265, 265, 265, 265, 265, 265, 265, 265, 265, 265, 265, 265, 265, 281, 286, 289, 289, 289, 289, 289, 289, 289, 289, 289, 289, 289, 289, 289, 289, 289, 289, 289, 289, 289, 292, 293, 294, 298, 298, 299, 300, 300, 300, 301, 301, 305, 309, 309, 309, 309, 309, 309, 309, 309, 317, 318, 318, 318, 321, 325, 325, 325, 325, 325, 325, 325, 325, 325, 325, 325, 325, 325, 325, 325, 325, 325, 328, 329, 332, 335, 337, 337, 337, 337, 338, 340, 342, 354, 359, 359, 359, 359, 361, 364, 364, 364, 364, 364, 371, 384, 386, 391, 391, 391, 391, 392, 396, 396, 402, 402, 402, 402, 408, 415, 415, 418, 418, 419, 419, 419, 419, 419, 419, 419, 424, 424, 425, 425, 425, 426, 427, 427, 427, 427, 427, 427, 427, 430, 435, 437, 441, 443, 443, 444, 444, 444, 452, 454, 455, 455, 455, 455, 455, 455, 455, 471, 474, 475, 475, 475, 475, 475, 475, 487, 488, 490, 491, 491, 491, 491, 491, 499, 505, 507, 510, 513, 514, 517, 517, 517, 517, 517, 524, 524, 525, 530, 530, 530, 531, 541, 541, 542, 545, 545, 545, 545, 545, 545, 548, 548, 548, 548, 548, 549, 549, 559, 560, 572, 574, 574, 574, 574, 579, 583, 585, 590, 590, 591, 591, 592, 592, 592, 593, 593, 594, 599, 602, 602, 609, 610, 610, 610, 614, 614, 614, 615, 617, 619, 619, 622, 623, 624, 627, 627, 630, 633, 635, 636, 637, 638, 643, 644, 644, 646, 646, 646, 646, 646, 650, 652, 652, 652, 653, 654, 659, 661, 662, 672, 675, 690, 696, 700, 702, 703, 704, 708, 711, 711, 711, 711, 711, 714, 714, 715, 723, 727, 730, 736, 741, 741, 741, 741, 741, 742, 743, 746, 746, 746, 746, 748, 769, 771, 772, 774, 775, 775, 775, 775, 775, 775, 780, 783, 790, 790, 794, 794, 794, 797, 803, 804, 804, 805, 805, 805, 806, 806, 806, 806, 809, 809, 810, 810, 810, 812, 812, 816, 816, 817, 817, 818, 821, 826, 830, 830, 830, 830, 830, 830, 838, 840, 840, 840, 840, 844, 844, 847, 847, 847, 848, 852, 852, 853, 853, 853, 853, 853, 853, 857, 861, 862, 868, 876, 877, 879, 880, 891, 892, 896, 896, 896, 896, 896, 896, 896, 897, 919, 919, 919, 919, 929, 937, 937, 937, 937, 937, 937, 937, 937, 937, 940, 948, 948, 948, 948, 948, 949, 949, 949, 949, 949, 949, 949, 949, 949, 949, 949, 949, 949, 949, 949, 949, 949, 949, 949, 949, 949, 949, 949, 949, 949, 949, 949, 949, 949, 949, 949, 949, 949, 949, 949, 949, 949, 949, 949, 949, 949, 949, 949, 949, 949, 949, 949, 949, 949, 949, 949, 949, 949, 949, 949, 949, 949, 949, 949, 949, 949, 949, 949, 949, 949, 949, 949, 949, 949, 949, 949, 949, 949, 949, 949, 949, 949, 949, 949, 949, 949, 949, 949, 949, 949, 949, 949, 949, 949, 949, 949, 949, 949, 949, 949, 949, 949, 949, 949, 949, 949, 949, 949, 949, 949, 949, 949, 949, 949, 949, 950, 950, 950, 950, 950, 952, 952, 952, 952, 955, 956, 956, 958, 958, 964, 965, 966, 974, 976, 976, 980, 982, 983, 986, 992, 994, 999, 999, 1001, 1001, 1005, 1007, 1008, 1015, 1016, 1026, 1026, 1026, 1026, 1026, 1028, 1028, 1031, 1035]\n"
          ],
          "name": "stdout"
        }
      ]
    },
    {
      "cell_type": "code",
      "metadata": {
        "id": "XIC4zufnMxtq",
        "colab_type": "code",
        "colab": {
          "base_uri": "https://localhost:8080/",
          "height": 51
        },
        "outputId": "211ec7ec-0c64-4cf4-a6eb-791f4cf5a28f"
      },
      "source": [
        "correct_num = 0\n",
        "\n",
        "for i in range(0, len(standard_list)):\n",
        "  if predict_list[i] == standard_list[i]:\n",
        "    correct_num = correct_num+1\n",
        "  else:\n",
        "    pass\n",
        "print(correct_num)\n",
        "\n",
        "predict_accuracy = correct_num/len(predict_list)\n",
        "print(predict_accuracy)"
      ],
      "execution_count": 47,
      "outputs": [
        {
          "output_type": "stream",
          "text": [
            "580\n",
            "0.6697459584295612\n"
          ],
          "name": "stdout"
        }
      ]
    },
    {
      "cell_type": "code",
      "metadata": {
        "id": "zlKMHp1CIaRJ",
        "colab_type": "code",
        "colab": {}
      },
      "source": [
        ""
      ],
      "execution_count": 0,
      "outputs": []
    }
  ]
}