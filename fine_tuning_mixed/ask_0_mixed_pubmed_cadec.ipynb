{
  "nbformat": 4,
  "nbformat_minor": 0,
  "metadata": {
    "colab": {
      "name": "ask_0_mixed_pubmed_cadec.ipynb",
      "provenance": [],
      "collapsed_sections": [],
      "toc_visible": true,
      "include_colab_link": true
    },
    "kernelspec": {
      "name": "python3",
      "display_name": "Python 3"
    },
    "accelerator": "TPU"
  },
  "cells": [
    {
      "cell_type": "markdown",
      "metadata": {
        "id": "view-in-github",
        "colab_type": "text"
      },
      "source": [
        "<a href=\"https://colab.research.google.com/github/unt-iialab/medical-concept-normalization/blob/master/fine_tuning_mixed/ask_0_mixed_pubmed_cadec.ipynb\" target=\"_parent\"><img src=\"https://colab.research.google.com/assets/colab-badge.svg\" alt=\"Open In Colab\"/></a>"
      ]
    },
    {
      "cell_type": "code",
      "metadata": {
        "id": "adSi6i2-dWxy",
        "colab_type": "code",
        "colab": {}
      },
      "source": [
        "import os"
      ],
      "execution_count": 0,
      "outputs": []
    },
    {
      "cell_type": "code",
      "metadata": {
        "id": "E7xYCRGPjd9B",
        "colab_type": "code",
        "colab": {}
      },
      "source": [
        "base_dir = 'medical-concept-normalization'"
      ],
      "execution_count": 0,
      "outputs": []
    },
    {
      "cell_type": "code",
      "metadata": {
        "id": "yvIW3aUDjYNS",
        "colab_type": "code",
        "colab": {}
      },
      "source": [
        "os.mkdir(base_dir)"
      ],
      "execution_count": 0,
      "outputs": []
    },
    {
      "cell_type": "code",
      "metadata": {
        "id": "es-FFLlfk6SG",
        "colab_type": "code",
        "colab": {}
      },
      "source": [
        "os.mkdir('medical-concept-normalization/data_collection')"
      ],
      "execution_count": 0,
      "outputs": []
    },
    {
      "cell_type": "markdown",
      "metadata": {
        "id": "0R-Guw_VoJXm",
        "colab_type": "text"
      },
      "source": [
        "**Install fastai and clone the fastai for text classification**\n",
        "\n"
      ]
    },
    {
      "cell_type": "code",
      "metadata": {
        "id": "QVZa3Z0PmHFH",
        "colab_type": "code",
        "outputId": "caa23fa3-a8ab-4b27-dbe8-8da4cabe9336",
        "colab": {
          "base_uri": "https://localhost:8080/",
          "height": 170
        }
      },
      "source": [
        "!curl https://course-v3.fast.ai/setup/colab | bash"
      ],
      "execution_count": 5,
      "outputs": [
        {
          "output_type": "stream",
          "text": [
            "  % Total    % Received % Xferd  Average Speed   Time    Time     Time  Current\n",
            "                                 Dload  Upload   Total   Spent    Left  Speed\n",
            "\r  0     0    0     0    0     0      0      0 --:--:-- --:--:-- --:--:--     0\r  0     0    0     0    0     0      0      0 --:--:-- --:--:-- --:--:--     0\n",
            "curl: (60) SSL certificate problem: certificate has expired\n",
            "More details here: https://curl.haxx.se/docs/sslcerts.html\n",
            "\n",
            "curl failed to verify the legitimacy of the server and therefore could not\n",
            "establish a secure connection to it. To learn more about this situation and\n",
            "how to fix it, please visit the web page mentioned above.\n"
          ],
          "name": "stdout"
        }
      ]
    },
    {
      "cell_type": "code",
      "metadata": {
        "id": "_FBFFEBrmJC0",
        "colab_type": "code",
        "outputId": "92c8ea4d-f23a-4c5e-99e5-74a6155c1757",
        "colab": {
          "base_uri": "https://localhost:8080/",
          "height": 85
        }
      },
      "source": [
        "!git clone https://github.com/wshuyi/demo-nlp-classification-fastai.git"
      ],
      "execution_count": 6,
      "outputs": [
        {
          "output_type": "stream",
          "text": [
            "Cloning into 'demo-nlp-classification-fastai'...\n",
            "remote: Enumerating objects: 9, done.\u001b[K\n",
            "remote: Total 9 (delta 0), reused 0 (delta 0), pack-reused 9\u001b[K\n",
            "Unpacking objects: 100% (9/9), done.\n"
          ],
          "name": "stdout"
        }
      ]
    },
    {
      "cell_type": "code",
      "metadata": {
        "id": "66zfh_JqmWMU",
        "colab_type": "code",
        "colab": {}
      },
      "source": [
        "from fastai import *\n",
        "from fastai.text import *"
      ],
      "execution_count": 0,
      "outputs": []
    },
    {
      "cell_type": "markdown",
      "metadata": {
        "id": "mNIw-yALdBU9",
        "colab_type": "text"
      },
      "source": [
        "**Set the path of the data collections**"
      ]
    },
    {
      "cell_type": "code",
      "metadata": {
        "id": "pzH7VMh4mqCL",
        "colab_type": "code",
        "colab": {}
      },
      "source": [
        "path = Path('medical-concept-normalization/data_collection')"
      ],
      "execution_count": 0,
      "outputs": []
    },
    {
      "cell_type": "code",
      "metadata": {
        "id": "b8fjI6yyn4aS",
        "colab_type": "code",
        "colab": {}
      },
      "source": [
        "# training data set\n",
        "\n",
        "train_csv = path/'AskAPatient.fold-0.train.csv'\n",
        "train = pd.read_csv(train_csv, header=None)\n",
        "#train.head()\n",
        "#train.info()"
      ],
      "execution_count": 0,
      "outputs": []
    },
    {
      "cell_type": "code",
      "metadata": {
        "id": "Hmlr-bAorfHd",
        "colab_type": "code",
        "outputId": "9d8138a0-a311-4b82-eded-f67df38ec044",
        "colab": {
          "base_uri": "https://localhost:8080/",
          "height": 204
        }
      },
      "source": [
        "# validating data set\n",
        "\n",
        "valid = pd.read_csv(path/\"AskAPatient.fold-0.validation.csv\",header=None)\n",
        "valid.head()"
      ],
      "execution_count": 11,
      "outputs": [
        {
          "output_type": "execute_result",
          "data": {
            "text/html": [
              "<div>\n",
              "<style scoped>\n",
              "    .dataframe tbody tr th:only-of-type {\n",
              "        vertical-align: middle;\n",
              "    }\n",
              "\n",
              "    .dataframe tbody tr th {\n",
              "        vertical-align: top;\n",
              "    }\n",
              "\n",
              "    .dataframe thead th {\n",
              "        text-align: right;\n",
              "    }\n",
              "</style>\n",
              "<table border=\"1\" class=\"dataframe\">\n",
              "  <thead>\n",
              "    <tr style=\"text-align: right;\">\n",
              "      <th></th>\n",
              "      <th>0</th>\n",
              "      <th>1</th>\n",
              "    </tr>\n",
              "  </thead>\n",
              "  <tbody>\n",
              "    <tr>\n",
              "      <th>0</th>\n",
              "      <td>0</td>\n",
              "      <td>fear</td>\n",
              "    </tr>\n",
              "    <tr>\n",
              "      <th>1</th>\n",
              "      <td>2</td>\n",
              "      <td>heel pain</td>\n",
              "    </tr>\n",
              "    <tr>\n",
              "      <th>2</th>\n",
              "      <td>4</td>\n",
              "      <td>purple sploches around waist</td>\n",
              "    </tr>\n",
              "    <tr>\n",
              "      <th>3</th>\n",
              "      <td>7</td>\n",
              "      <td>goiter</td>\n",
              "    </tr>\n",
              "    <tr>\n",
              "      <th>4</th>\n",
              "      <td>8</td>\n",
              "      <td>ARTHRITIS</td>\n",
              "    </tr>\n",
              "  </tbody>\n",
              "</table>\n",
              "</div>"
            ],
            "text/plain": [
              "   0                             1\n",
              "0  0                          fear\n",
              "1  2                     heel pain\n",
              "2  4  purple sploches around waist\n",
              "3  7                        goiter\n",
              "4  8                     ARTHRITIS"
            ]
          },
          "metadata": {
            "tags": []
          },
          "execution_count": 11
        }
      ]
    },
    {
      "cell_type": "code",
      "metadata": {
        "id": "cOza9dfSsBud",
        "colab_type": "code",
        "outputId": "e8ed4dab-ffe6-4d42-bd19-fd597a51d39a",
        "colab": {
          "base_uri": "https://localhost:8080/",
          "height": 204
        }
      },
      "source": [
        "# testing data set\n",
        "\n",
        "test = pd.read_csv(path/\"AskAPatient.fold-0.test.csv\",header=None)\n",
        "test.head()"
      ],
      "execution_count": 12,
      "outputs": [
        {
          "output_type": "execute_result",
          "data": {
            "text/html": [
              "<div>\n",
              "<style scoped>\n",
              "    .dataframe tbody tr th:only-of-type {\n",
              "        vertical-align: middle;\n",
              "    }\n",
              "\n",
              "    .dataframe tbody tr th {\n",
              "        vertical-align: top;\n",
              "    }\n",
              "\n",
              "    .dataframe thead th {\n",
              "        text-align: right;\n",
              "    }\n",
              "</style>\n",
              "<table border=\"1\" class=\"dataframe\">\n",
              "  <thead>\n",
              "    <tr style=\"text-align: right;\">\n",
              "      <th></th>\n",
              "      <th>0</th>\n",
              "      <th>1</th>\n",
              "    </tr>\n",
              "  </thead>\n",
              "  <tbody>\n",
              "    <tr>\n",
              "      <th>0</th>\n",
              "      <td>0</td>\n",
              "      <td>'scared' feeling</td>\n",
              "    </tr>\n",
              "    <tr>\n",
              "      <th>1</th>\n",
              "      <td>2</td>\n",
              "      <td>heel pain</td>\n",
              "    </tr>\n",
              "    <tr>\n",
              "      <th>2</th>\n",
              "      <td>3</td>\n",
              "      <td>cracking sensations in my joints</td>\n",
              "    </tr>\n",
              "    <tr>\n",
              "      <th>3</th>\n",
              "      <td>5</td>\n",
              "      <td>fast and slow heartbeat</td>\n",
              "    </tr>\n",
              "    <tr>\n",
              "      <th>4</th>\n",
              "      <td>5</td>\n",
              "      <td>increased heart rate</td>\n",
              "    </tr>\n",
              "  </tbody>\n",
              "</table>\n",
              "</div>"
            ],
            "text/plain": [
              "   0                                 1\n",
              "0  0                  'scared' feeling\n",
              "1  2                         heel pain\n",
              "2  3  cracking sensations in my joints\n",
              "3  5           fast and slow heartbeat\n",
              "4  5              increased heart rate"
            ]
          },
          "metadata": {
            "tags": []
          },
          "execution_count": 12
        }
      ]
    },
    {
      "cell_type": "code",
      "metadata": {
        "id": "Vo-YNvVYoaH6",
        "colab_type": "code",
        "colab": {}
      },
      "source": [
        "# Creating DataBunch for language modelling\n",
        "\n",
        "data_lm = TextLMDataBunch.from_csv(path, 'fine_tuning_language_model_mixed.csv')"
      ],
      "execution_count": 0,
      "outputs": []
    },
    {
      "cell_type": "code",
      "metadata": {
        "id": "qcV-9kMnNLBf",
        "colab_type": "code",
        "colab": {}
      },
      "source": [
        ""
      ],
      "execution_count": 0,
      "outputs": []
    },
    {
      "cell_type": "code",
      "metadata": {
        "id": "1ScY9afDsnvE",
        "colab_type": "code",
        "colab": {}
      },
      "source": [
        "# Creating DataBunch for classification\n",
        "\n",
        "# data_clas = TextClasDataBunch.from_df(path, train, valid, test, vocab=data_lm.train_ds.vocab, bs=128)"
      ],
      "execution_count": 0,
      "outputs": []
    },
    {
      "cell_type": "code",
      "metadata": {
        "id": "gzrSdQcvey9p",
        "colab_type": "code",
        "colab": {}
      },
      "source": [
        "data_clas = TextClasDataBunch.from_df(path, train, valid, vocab=data_lm.train_ds.vocab, bs=128)"
      ],
      "execution_count": 0,
      "outputs": []
    },
    {
      "cell_type": "code",
      "metadata": {
        "id": "MD27Tf0Ke3ou",
        "colab_type": "code",
        "colab": {}
      },
      "source": [
        "data_clas.add_test(test,label=0)\n"
      ],
      "execution_count": 0,
      "outputs": []
    },
    {
      "cell_type": "code",
      "metadata": {
        "id": "-dpjnk_rstwk",
        "colab_type": "code",
        "colab": {}
      },
      "source": [
        "data_lm.save()\n",
        "data_clas.save()"
      ],
      "execution_count": 0,
      "outputs": []
    },
    {
      "cell_type": "code",
      "metadata": {
        "id": "4OkiJa36sw5s",
        "colab_type": "code",
        "colab": {
          "base_uri": "https://localhost:8080/",
          "height": 1000
        },
        "outputId": "3637e224-c5fd-4f55-84bb-c88db36e70fe"
      },
      "source": [
        "data_lm.train_ds.vocab.itos"
      ],
      "execution_count": 18,
      "outputs": [
        {
          "output_type": "execute_result",
          "data": {
            "text/plain": [
              "['xxunk',\n",
              " 'xxpad',\n",
              " 'xxbos',\n",
              " 'xxeos',\n",
              " 'xxfld',\n",
              " 'xxmaj',\n",
              " 'xxup',\n",
              " 'xxrep',\n",
              " 'xxwrep',\n",
              " 'the',\n",
              " 'of',\n",
              " 'and',\n",
              " 'in',\n",
              " 'to',\n",
              " 'a',\n",
              " '.',\n",
              " 'was',\n",
              " 'with',\n",
              " 'i',\n",
              " ',',\n",
              " 'diclofenac',\n",
              " 'for',\n",
              " 'were',\n",
              " 'on',\n",
              " 'that',\n",
              " 'sodium',\n",
              " 'pain',\n",
              " 'is',\n",
              " 'by',\n",
              " 'this',\n",
              " 'drug',\n",
              " 'as',\n",
              " 'my',\n",
              " 'it',\n",
              " 'patients',\n",
              " 'at',\n",
              " 'mg',\n",
              " 'or',\n",
              " 'after',\n",
              " 'from',\n",
              " 'have',\n",
              " 'not',\n",
              " 'group',\n",
              " 'be',\n",
              " 'treatment',\n",
              " 'study',\n",
              " 'effects',\n",
              " 'an',\n",
              " 'lipitor',\n",
              " 'but',\n",
              " 'release',\n",
              " 'p',\n",
              " 'had',\n",
              " 'are',\n",
              " 'no',\n",
              " 'all',\n",
              " 'than',\n",
              " 'effect',\n",
              " 'two',\n",
              " 'compared',\n",
              " 'time',\n",
              " 'day',\n",
              " 'been',\n",
              " 'using',\n",
              " 'which',\n",
              " 'groups',\n",
              " 'both',\n",
              " 'drugs',\n",
              " 'days',\n",
              " 'significantly',\n",
              " 'also',\n",
              " 'these',\n",
              " 'has',\n",
              " 'taking',\n",
              " 'dose',\n",
              " 'inflammatory',\n",
              " 'h',\n",
              " 'significant',\n",
              " 'side',\n",
              " 'between',\n",
              " 'anti',\n",
              " 'more',\n",
              " 'voltaren',\n",
              " 'one',\n",
              " 'used',\n",
              " 'results',\n",
              " 'cholesterol',\n",
              " 'potassium',\n",
              " 'muscle',\n",
              " 'when',\n",
              " 'placebo',\n",
              " 'efficacy',\n",
              " 'we',\n",
              " '-',\n",
              " 'me',\n",
              " 'did',\n",
              " 'ds',\n",
              " 'other',\n",
              " 'years',\n",
              " 'showed',\n",
              " 'there',\n",
              " 'topical',\n",
              " 'treated',\n",
              " 'ml',\n",
              " 'high',\n",
              " 'different',\n",
              " 'over',\n",
              " 'oral',\n",
              " 'administration',\n",
              " 'well',\n",
              " 'c',\n",
              " 'can',\n",
              " 'about',\n",
              " 'concentration',\n",
              " 'weeks',\n",
              " 'up',\n",
              " 'rats',\n",
              " 'control',\n",
              " 'lower',\n",
              " 'found',\n",
              " 'studies',\n",
              " 'first',\n",
              " 'could',\n",
              " 'months',\n",
              " 'during',\n",
              " 'am',\n",
              " 'so',\n",
              " 'only',\n",
              " 'may',\n",
              " 'into',\n",
              " ')',\n",
              " 'respectively',\n",
              " '(',\n",
              " 'hours',\n",
              " 'clinical',\n",
              " 'acid',\n",
              " \"n't\",\n",
              " 'severe',\n",
              " 'induced',\n",
              " 'three',\n",
              " 'tablets',\n",
              " 'blood',\n",
              " 'their',\n",
              " 'symptoms',\n",
              " 'use',\n",
              " 'nsaids',\n",
              " 'very',\n",
              " 'back',\n",
              " 'rate',\n",
              " 'formulations',\n",
              " 'its',\n",
              " 'effective',\n",
              " 'method',\n",
              " 'increased',\n",
              " 'non',\n",
              " 'plasma',\n",
              " 'before',\n",
              " 's',\n",
              " 'gel',\n",
              " 'week',\n",
              " 'ph',\n",
              " 'will',\n",
              " 'like',\n",
              " 'levels',\n",
              " 'mean',\n",
              " 'n',\n",
              " 'formulation',\n",
              " 'however',\n",
              " 'g',\n",
              " 'observed',\n",
              " 'received',\n",
              " 'solution',\n",
              " '/',\n",
              " 'take',\n",
              " 'out',\n",
              " 'total',\n",
              " 'if',\n",
              " 'each',\n",
              " 'adverse',\n",
              " 'm',\n",
              " 'kg',\n",
              " 'test',\n",
              " 'controlled',\n",
              " 'any',\n",
              " 'now',\n",
              " 'medication',\n",
              " 'analgesic',\n",
              " 'surgery',\n",
              " 'period',\n",
              " 'some',\n",
              " 'skin',\n",
              " 'acute',\n",
              " 'daily',\n",
              " 'analysis',\n",
              " 'low',\n",
              " 'activity',\n",
              " 'atorvastatin',\n",
              " 'vitro',\n",
              " 'off',\n",
              " 'patient',\n",
              " 'they',\n",
              " 'data',\n",
              " 'then',\n",
              " 'do',\n",
              " 'single',\n",
              " 'd',\n",
              " 'within',\n",
              " 'who',\n",
              " 'similar',\n",
              " 'better',\n",
              " 'doctor',\n",
              " 'concentrations',\n",
              " '!',\n",
              " 'less',\n",
              " 'following',\n",
              " 'most',\n",
              " 'started',\n",
              " 'evaluated',\n",
              " 'would',\n",
              " 'while',\n",
              " 'randomized',\n",
              " 'developed',\n",
              " 'relief',\n",
              " 'model',\n",
              " 'therapy',\n",
              " 'due',\n",
              " 'tablet',\n",
              " 'nsaid',\n",
              " 'difference',\n",
              " 'obtained',\n",
              " 'under',\n",
              " 'renal',\n",
              " 'l',\n",
              " 'reduced',\n",
              " 't',\n",
              " 'higher',\n",
              " 'cells',\n",
              " 'those',\n",
              " 'double',\n",
              " 'loss',\n",
              " 'increase',\n",
              " 'based',\n",
              " 'times',\n",
              " 'good',\n",
              " 'stopped',\n",
              " 'postoperative',\n",
              " 'dissolution',\n",
              " 'knee',\n",
              " 'combination',\n",
              " 'water',\n",
              " 'new',\n",
              " 'because',\n",
              " 'application',\n",
              " 'just',\n",
              " 'b',\n",
              " 'level',\n",
              " 'doses',\n",
              " 'studied',\n",
              " 'reported',\n",
              " 'decreased',\n",
              " 'took',\n",
              " 'min',\n",
              " 'normal',\n",
              " 'prepared',\n",
              " 'trial',\n",
              " 'without',\n",
              " 'administered',\n",
              " 'cell',\n",
              " '3',\n",
              " 'problems',\n",
              " 'he',\n",
              " 'present',\n",
              " 'conditions',\n",
              " 'four',\n",
              " 'joint',\n",
              " 'such',\n",
              " 'should',\n",
              " 'system',\n",
              " 'given',\n",
              " 'inflammation',\n",
              " 'order',\n",
              " 'same',\n",
              " 'values',\n",
              " 'performed',\n",
              " 'response',\n",
              " 'serum',\n",
              " 'associated',\n",
              " 'w',\n",
              " 'subjects',\n",
              " 'x',\n",
              " 'blind',\n",
              " 'assessed',\n",
              " 'nonsteroidal',\n",
              " 'vs',\n",
              " 'went',\n",
              " 'events',\n",
              " 'related',\n",
              " 'changes',\n",
              " 'either',\n",
              " 'absorption',\n",
              " 'function',\n",
              " '2',\n",
              " 'containing',\n",
              " 'year',\n",
              " 'arthritis',\n",
              " 'stomach',\n",
              " 'investigated',\n",
              " 'legs',\n",
              " 'differences',\n",
              " 'parameters',\n",
              " 'life',\n",
              " 'you',\n",
              " 'v',\n",
              " 'still',\n",
              " 'properties',\n",
              " 'steroidal',\n",
              " \"'s\",\n",
              " 'delivery',\n",
              " 'healthy',\n",
              " 'reduction',\n",
              " 'indomethacin',\n",
              " 'safety',\n",
              " 'ng',\n",
              " 'minutes',\n",
              " 'number',\n",
              " 'auc',\n",
              " 'included',\n",
              " 'ratio',\n",
              " 'measured',\n",
              " 'phase',\n",
              " 'post',\n",
              " 'disease',\n",
              " 'oa',\n",
              " 'through',\n",
              " 'get',\n",
              " 'feel',\n",
              " 'type',\n",
              " 'applied',\n",
              " 'active',\n",
              " 'ago',\n",
              " 'statins',\n",
              " 'leg',\n",
              " 'since',\n",
              " 'body',\n",
              " 'swelling',\n",
              " 'work',\n",
              " '10',\n",
              " 'vivo',\n",
              " 'range',\n",
              " 'e',\n",
              " 'weight',\n",
              " 'change',\n",
              " 'per',\n",
              " 'dosage',\n",
              " 'samples',\n",
              " 'size',\n",
              " 'cramps',\n",
              " 'statin',\n",
              " 'down',\n",
              " 'compare',\n",
              " 'osteoarthritis',\n",
              " 'determined',\n",
              " 'therapeutic',\n",
              " 'evaluate',\n",
              " 'human',\n",
              " 'our',\n",
              " 'ldl',\n",
              " 'form',\n",
              " 'liver',\n",
              " 'again',\n",
              " 'never',\n",
              " 'pressure',\n",
              " 'improvement',\n",
              " 'k',\n",
              " 'bioavailability',\n",
              " 'left',\n",
              " 'much',\n",
              " 'liquid',\n",
              " 'primary',\n",
              " 'statistically',\n",
              " 'bad',\n",
              " 'old',\n",
              " 'gastrointestinal',\n",
              " 'age',\n",
              " 'potential',\n",
              " 'taken',\n",
              " 'tissue',\n",
              " 'mm',\n",
              " 'long',\n",
              " 'injection',\n",
              " 'many',\n",
              " 'sustained',\n",
              " 'scale',\n",
              " 'heart',\n",
              " 'having',\n",
              " 'month',\n",
              " 'tolerability',\n",
              " 'although',\n",
              " 'term',\n",
              " \"'m\",\n",
              " 'being',\n",
              " 'scores',\n",
              " 'visual',\n",
              " 'development',\n",
              " 'eye',\n",
              " 'risk',\n",
              " 'even',\n",
              " 'dependent',\n",
              " 'experienced',\n",
              " 'improved',\n",
              " 'reaction',\n",
              " 'process',\n",
              " 'caused',\n",
              " 'cox',\n",
              " 'aim',\n",
              " 'addition',\n",
              " 'right',\n",
              " 'gastric',\n",
              " 'greater',\n",
              " 'revealed',\n",
              " 'polymer',\n",
              " 'demonstrated',\n",
              " 'coated',\n",
              " 'action',\n",
              " 'area',\n",
              " 'baseline',\n",
              " 'feeling',\n",
              " 'what',\n",
              " 'aqueous',\n",
              " 'ca',\n",
              " 'hour',\n",
              " 'products',\n",
              " '5',\n",
              " 'suggest',\n",
              " 'whereas',\n",
              " 'trials',\n",
              " 'night',\n",
              " 'followed',\n",
              " 'physical',\n",
              " 'go',\n",
              " 'matrix',\n",
              " 'memory',\n",
              " 'inhibitor',\n",
              " 'walk',\n",
              " 'site',\n",
              " 'mice',\n",
              " 'treatments',\n",
              " 'fatigue',\n",
              " 'including',\n",
              " 'intensity',\n",
              " 'indicated',\n",
              " 'overall',\n",
              " 'several',\n",
              " 'formation',\n",
              " '&',\n",
              " 'six',\n",
              " 'na',\n",
              " 'every',\n",
              " \"'ve\",\n",
              " 'end',\n",
              " 'urine',\n",
              " 'quality',\n",
              " 'free',\n",
              " 'made',\n",
              " 'inhibition',\n",
              " 'cause',\n",
              " 'randomly',\n",
              " 'alone',\n",
              " 'diet',\n",
              " 'muscles',\n",
              " 'case',\n",
              " 'chronic',\n",
              " 'few',\n",
              " 'cases',\n",
              " 'mechanism',\n",
              " 'various',\n",
              " 'decrease',\n",
              " 'ii',\n",
              " '4',\n",
              " 'shown',\n",
              " 'local',\n",
              " 'feet',\n",
              " 'volunteers',\n",
              " 'agent',\n",
              " 'damage',\n",
              " 'amount',\n",
              " 'onset',\n",
              " 'felt',\n",
              " 'ibuprofen',\n",
              " 'pharmaceutical',\n",
              " 'almost',\n",
              " 'pains',\n",
              " 'last',\n",
              " 'available',\n",
              " 'second',\n",
              " 'determine',\n",
              " 'does',\n",
              " 'microspheres',\n",
              " 'further',\n",
              " 'animals',\n",
              " 'male',\n",
              " 'short',\n",
              " 'presence',\n",
              " 'standard',\n",
              " 'profile',\n",
              " 'once',\n",
              " 'tested',\n",
              " 'sleep',\n",
              " 'peak',\n",
              " 'divided',\n",
              " 'versus',\n",
              " 'conducted',\n",
              " 'weakness',\n",
              " 'moderate',\n",
              " 'arthrotec',\n",
              " 'cm',\n",
              " 'five',\n",
              " 'permeation',\n",
              " 'combined',\n",
              " 'evaluation',\n",
              " 'vehicle',\n",
              " 'relative',\n",
              " 'exposure',\n",
              " 'extreme',\n",
              " 'possible',\n",
              " 'depression',\n",
              " 'told',\n",
              " 'agents',\n",
              " 'produced',\n",
              " 'migraine',\n",
              " 'resulted',\n",
              " 'dr',\n",
              " 'f',\n",
              " 'o',\n",
              " 'rapid',\n",
              " 'content',\n",
              " 'experimental',\n",
              " 'profiles',\n",
              " 'know',\n",
              " 'surface',\n",
              " 'going',\n",
              " '?',\n",
              " 'thought',\n",
              " 'product',\n",
              " 'health',\n",
              " 'score',\n",
              " 'cmax',\n",
              " 'mild',\n",
              " 'medicine',\n",
              " 'way',\n",
              " 'pharmacokinetic',\n",
              " 'systemic',\n",
              " '1',\n",
              " 'vas',\n",
              " 'efficiency',\n",
              " 'third',\n",
              " 'th',\n",
              " 'them',\n",
              " 'point',\n",
              " 'tolerated',\n",
              " 'twice',\n",
              " 'assessment',\n",
              " 'see',\n",
              " 'stop',\n",
              " 'rat',\n",
              " 'tests',\n",
              " 'prescribed',\n",
              " 'least',\n",
              " 'secondary',\n",
              " '20',\n",
              " 'enteric',\n",
              " 'edema',\n",
              " 'ci',\n",
              " 'people',\n",
              " 'de',\n",
              " 'temperature',\n",
              " 'achieved',\n",
              " 'duration',\n",
              " 'corneal',\n",
              " 'care',\n",
              " 'models',\n",
              " 'among',\n",
              " 'beads',\n",
              " 'aspirin',\n",
              " 'said',\n",
              " 'morning',\n",
              " 'pre',\n",
              " 'early',\n",
              " 'degrees',\n",
              " 'participants',\n",
              " 'neck',\n",
              " 'protein',\n",
              " 'thus',\n",
              " 'increasing',\n",
              " 'investigate',\n",
              " 'another',\n",
              " 'patch',\n",
              " 'lesions',\n",
              " 'according',\n",
              " 'misoprostol',\n",
              " 'worse',\n",
              " 'technique',\n",
              " 'rofecoxib',\n",
              " 'evidence',\n",
              " 'commercial',\n",
              " 'state',\n",
              " 'show',\n",
              " 'analgesia',\n",
              " 'until',\n",
              " 'cd',\n",
              " 'away',\n",
              " 'nausea',\n",
              " 'growth',\n",
              " 'diffusion',\n",
              " 'multiple',\n",
              " 'expression',\n",
              " 'plus',\n",
              " 'eyes',\n",
              " 'initial',\n",
              " 'headache',\n",
              " ';',\n",
              " 'co',\n",
              " 'global',\n",
              " 'alternative',\n",
              " 'therefore',\n",
              " 'membrane',\n",
              " 'small',\n",
              " 'extent',\n",
              " 'pellets',\n",
              " 'determination',\n",
              " 'flow',\n",
              " 'medications',\n",
              " 'max',\n",
              " 'arm',\n",
              " 'production',\n",
              " 'naproxen',\n",
              " 'solid',\n",
              " 'hip',\n",
              " 'synthesis',\n",
              " 'carried',\n",
              " 'phosphate',\n",
              " 'complete',\n",
              " 'especially',\n",
              " 'maximum',\n",
              " 'paracetamol',\n",
              " 'research',\n",
              " 'preparation',\n",
              " 'methods',\n",
              " 'novel',\n",
              " 'arms',\n",
              " 'complex',\n",
              " 'got',\n",
              " 'reference',\n",
              " 'design',\n",
              " 'outcome',\n",
              " 'comparison',\n",
              " 'examined',\n",
              " 'need',\n",
              " 'characterized',\n",
              " 'against',\n",
              " 'interaction',\n",
              " 'aches',\n",
              " 'general',\n",
              " 'immediately',\n",
              " 'provide',\n",
              " 'how',\n",
              " 'drops',\n",
              " 'capsules',\n",
              " 'indicate',\n",
              " 'shoulder',\n",
              " 'ocular',\n",
              " 'reduce',\n",
              " '6',\n",
              " 'constant',\n",
              " 'influence',\n",
              " 'medium',\n",
              " 'recorded',\n",
              " 'considered',\n",
              " 'receiving',\n",
              " 'stiffness',\n",
              " 'joints',\n",
              " 'antiinflammatory',\n",
              " 'value',\n",
              " 'findings',\n",
              " 'your',\n",
              " 'recently',\n",
              " 'later',\n",
              " 'inhibitors',\n",
              " 'gas',\n",
              " 'cataract',\n",
              " 'common',\n",
              " 'major',\n",
              " 'whether',\n",
              " 'lowering',\n",
              " 'prostaglandin',\n",
              " 'dic',\n",
              " 'painful',\n",
              " 'rheumatoid',\n",
              " 'cramping',\n",
              " 'bone',\n",
              " 'think',\n",
              " 'index',\n",
              " 'solubility',\n",
              " 'buffer',\n",
              " 'lipid',\n",
              " 'problem',\n",
              " 'characteristics',\n",
              " 'ability',\n",
              " 'vascular',\n",
              " 'volume',\n",
              " 'important',\n",
              " 'across',\n",
              " 'assess',\n",
              " 'inhibited',\n",
              " 'detection',\n",
              " 'rates',\n",
              " 'comparable',\n",
              " 'upper',\n",
              " 'forms',\n",
              " 'cream',\n",
              " 'half',\n",
              " 'help',\n",
              " 'suggested',\n",
              " 'beta',\n",
              " 'hands',\n",
              " '40',\n",
              " 'syndrome',\n",
              " 'she',\n",
              " 'tissues',\n",
              " 'intramuscular',\n",
              " 'review',\n",
              " 'analyzed',\n",
              " 'cross',\n",
              " 'current',\n",
              " 'responses',\n",
              " 'factor',\n",
              " 'hplc',\n",
              " 'exercise',\n",
              " 'solutions',\n",
              " 'serious',\n",
              " 'sensitive',\n",
              " 'calcium',\n",
              " 'known',\n",
              " 'saline',\n",
              " 'preparations',\n",
              " 'abdominal',\n",
              " 'superior',\n",
              " ':',\n",
              " 'hand',\n",
              " 'prior',\n",
              " 'microm',\n",
              " 'specific',\n",
              " 'transdermal',\n",
              " 'noticed',\n",
              " 'activities',\n",
              " 'best',\n",
              " 'where',\n",
              " 'provided',\n",
              " 'cyclooxygenase',\n",
              " 'incidence',\n",
              " 'microg',\n",
              " 'pge',\n",
              " 'getting',\n",
              " 'oil',\n",
              " 'degree',\n",
              " 'il',\n",
              " 'gi',\n",
              " 'elevated',\n",
              " 'aged',\n",
              " 'factors',\n",
              " 'ketorolac',\n",
              " 'released',\n",
              " 'average',\n",
              " 'affected',\n",
              " 'terms',\n",
              " 'women',\n",
              " 'via',\n",
              " 'cambia',\n",
              " 'additional',\n",
              " 'medical',\n",
              " 'dpsgc',\n",
              " 'great',\n",
              " 'information',\n",
              " 'fluid',\n",
              " 'loaded',\n",
              " 'required',\n",
              " 'performance',\n",
              " 'lowered',\n",
              " 'food',\n",
              " 'kinetics',\n",
              " 'celecoxib',\n",
              " 'stability',\n",
              " 'next',\n",
              " 'might',\n",
              " 'capsule',\n",
              " 'hdl',\n",
              " 'strength',\n",
              " 'result',\n",
              " 'bleeding',\n",
              " 'cardiovascular',\n",
              " 'clinically',\n",
              " 'particle',\n",
              " 'structure',\n",
              " 'alpha',\n",
              " 'try',\n",
              " 'around',\n",
              " 'prolonged',\n",
              " 'put',\n",
              " 'clearance',\n",
              " 'dfs',\n",
              " 'rabbits',\n",
              " 'enhanced',\n",
              " 'really',\n",
              " 'finally',\n",
              " 'little',\n",
              " 'exhibited',\n",
              " 'excretion',\n",
              " 'urinary',\n",
              " 'extraction',\n",
              " 'experiencing',\n",
              " 'hospital',\n",
              " 'randomised',\n",
              " 'confirmed',\n",
              " 'seven',\n",
              " 'kidney',\n",
              " 'injury',\n",
              " 'faster',\n",
              " 'r',\n",
              " 'immediate',\n",
              " 'role',\n",
              " 'tmax',\n",
              " 'needed',\n",
              " 'crossover',\n",
              " 'chitosan',\n",
              " 'percentage',\n",
              " 'seen',\n",
              " 'penetration',\n",
              " 'collected',\n",
              " 'useful',\n",
              " 'part',\n",
              " 'hp',\n",
              " 'intestinal',\n",
              " 'occurred',\n",
              " 'hpmc',\n",
              " 'longer',\n",
              " 'systems',\n",
              " 'kcnq',\n",
              " 'peg',\n",
              " 'experience',\n",
              " 'too',\n",
              " 'laser',\n",
              " 'density',\n",
              " 'along',\n",
              " 'stopping',\n",
              " 'open',\n",
              " 'operative',\n",
              " 'sr',\n",
              " 'follow',\n",
              " 'rescue',\n",
              " 'eudragit',\n",
              " 'find',\n",
              " 'objective',\n",
              " 'modified',\n",
              " 'headaches',\n",
              " 'hr',\n",
              " 'bed',\n",
              " 'highly',\n",
              " 'nm',\n",
              " 'doctors',\n",
              " 'molecular',\n",
              " 'approximately',\n",
              " 'fast',\n",
              " 'none',\n",
              " 'binding',\n",
              " 'variables',\n",
              " 'noted',\n",
              " 'flare',\n",
              " 'began',\n",
              " 'drop',\n",
              " 'treat',\n",
              " 'reactions',\n",
              " 'aes',\n",
              " 'chloride',\n",
              " 'procedure',\n",
              " 'selected',\n",
              " 'improve',\n",
              " 'salt',\n",
              " 'analgesics',\n",
              " 'reading',\n",
              " 'scanning',\n",
              " 'reducing',\n",
              " 'simple',\n",
              " 'brain',\n",
              " 'dexamethasone',\n",
              " 'dcf',\n",
              " 'sd',\n",
              " 'criteria',\n",
              " 'ophthalmic',\n",
              " 'management',\n",
              " 'intravenous',\n",
              " 'detected',\n",
              " 'safe',\n",
              " 'eight',\n",
              " 'natural',\n",
              " 'shoulders',\n",
              " 'potent',\n",
              " 'twenty',\n",
              " 'condition',\n",
              " 'effectiveness',\n",
              " 'ever',\n",
              " 'acetaminophen',\n",
              " 'seems',\n",
              " 'individual',\n",
              " 'validated',\n",
              " 'female',\n",
              " 'done',\n",
              " 'curve',\n",
              " 'measures',\n",
              " 'analogue',\n",
              " 'loading',\n",
              " 'receive',\n",
              " 'distribution',\n",
              " 'adult',\n",
              " 'foot',\n",
              " 'toxicity',\n",
              " 'experiments',\n",
              " 'vision',\n",
              " 'diagnosed',\n",
              " 'laboratory',\n",
              " 'make',\n",
              " 'target',\n",
              " 'measurements',\n",
              " 'direct',\n",
              " 'generic',\n",
              " 'widely',\n",
              " 'negative',\n",
              " 'df',\n",
              " 'independent',\n",
              " 'creatinine',\n",
              " 'molar',\n",
              " 'coating',\n",
              " 'cellulose',\n",
              " 'metabolism',\n",
              " 'designed',\n",
              " 'optimized',\n",
              " 'generally',\n",
              " 'injected',\n",
              " 'tired',\n",
              " 'channels',\n",
              " 'selective',\n",
              " 'discomfort',\n",
              " 'pill',\n",
              " 'limit',\n",
              " 'ak',\n",
              " 'channel',\n",
              " 'lack',\n",
              " 'relaxation',\n",
              " 'came',\n",
              " 'chemical',\n",
              " 'able',\n",
              " 'affect',\n",
              " 'here',\n",
              " 'fed',\n",
              " 'activation',\n",
              " 'though',\n",
              " 'gone',\n",
              " 'dosing',\n",
              " 'involved',\n",
              " 'spectroscopy',\n",
              " 'interval',\n",
              " 'proposed',\n",
              " 'something',\n",
              " 'large',\n",
              " 'alginate',\n",
              " 'energy',\n",
              " 'others',\n",
              " 'recommend',\n",
              " 'triglycerides',\n",
              " 'excellent',\n",
              " 'postoperatively',\n",
              " 'chest',\n",
              " 'electron',\n",
              " 'completely',\n",
              " 'assigned',\n",
              " 'light',\n",
              " 'signs',\n",
              " 'slow',\n",
              " 'orally',\n",
              " 'except',\n",
              " 'examination',\n",
              " 'develop',\n",
              " 'encapsulation',\n",
              " 'delayed',\n",
              " 'ankle',\n",
              " 'cataflam',\n",
              " 'microscopy',\n",
              " 'probably',\n",
              " 'piroxicam',\n",
              " 'assay',\n",
              " 'knees',\n",
              " ...]"
            ]
          },
          "metadata": {
            "tags": []
          },
          "execution_count": 18
        }
      ]
    },
    {
      "cell_type": "code",
      "metadata": {
        "id": "yPWr03mls3VT",
        "colab_type": "code",
        "colab": {}
      },
      "source": [
        "model_path = path/'models'\n",
        "model_path.mkdir(exist_ok=True)\n",
        "url = 'http://files.fast.ai/models/wt103_v1/'\n",
        "download_url(f'{url}lstm_wt103.pth', model_path/'lstm_wt103.pth')\n",
        "download_url(f'{url}itos_wt103.pkl', model_path/'itos_wt103.pkl')"
      ],
      "execution_count": 0,
      "outputs": []
    },
    {
      "cell_type": "code",
      "metadata": {
        "id": "JRzvWg8RtGGr",
        "colab_type": "code",
        "colab": {}
      },
      "source": [
        "learn = language_model_learner(data_lm, AWD_LSTM, drop_mult=0.5)"
      ],
      "execution_count": 0,
      "outputs": []
    },
    {
      "cell_type": "code",
      "metadata": {
        "id": "xKK7GeBev7Xn",
        "colab_type": "code",
        "outputId": "c9997db3-602d-4882-bfd0-89c3b5426b8f",
        "colab": {
          "base_uri": "https://localhost:8080/",
          "height": 80
        }
      },
      "source": [
        "learn.fit_one_cycle(1, 1e-2)"
      ],
      "execution_count": 21,
      "outputs": [
        {
          "output_type": "display_data",
          "data": {
            "text/html": [
              "<table border=\"1\" class=\"dataframe\">\n",
              "  <thead>\n",
              "    <tr style=\"text-align: left;\">\n",
              "      <th>epoch</th>\n",
              "      <th>train_loss</th>\n",
              "      <th>valid_loss</th>\n",
              "      <th>accuracy</th>\n",
              "      <th>time</th>\n",
              "    </tr>\n",
              "  </thead>\n",
              "  <tbody>\n",
              "    <tr>\n",
              "      <td>0</td>\n",
              "      <td>5.233150</td>\n",
              "      <td>4.638001</td>\n",
              "      <td>0.235889</td>\n",
              "      <td>15:50</td>\n",
              "    </tr>\n",
              "  </tbody>\n",
              "</table>"
            ],
            "text/plain": [
              "<IPython.core.display.HTML object>"
            ]
          },
          "metadata": {
            "tags": []
          }
        }
      ]
    },
    {
      "cell_type": "code",
      "metadata": {
        "id": "iB7rHGQCwd12",
        "colab_type": "code",
        "colab": {
          "base_uri": "https://localhost:8080/",
          "height": 80
        },
        "outputId": "86b23b72-4e9c-47bd-e76e-8e97cd7f25a4"
      },
      "source": [
        "learn.fit_one_cycle(1, 1e-2)"
      ],
      "execution_count": 22,
      "outputs": [
        {
          "output_type": "display_data",
          "data": {
            "text/html": [
              "<table border=\"1\" class=\"dataframe\">\n",
              "  <thead>\n",
              "    <tr style=\"text-align: left;\">\n",
              "      <th>epoch</th>\n",
              "      <th>train_loss</th>\n",
              "      <th>valid_loss</th>\n",
              "      <th>accuracy</th>\n",
              "      <th>time</th>\n",
              "    </tr>\n",
              "  </thead>\n",
              "  <tbody>\n",
              "    <tr>\n",
              "      <td>0</td>\n",
              "      <td>4.528968</td>\n",
              "      <td>4.341028</td>\n",
              "      <td>0.263878</td>\n",
              "      <td>15:49</td>\n",
              "    </tr>\n",
              "  </tbody>\n",
              "</table>"
            ],
            "text/plain": [
              "<IPython.core.display.HTML object>"
            ]
          },
          "metadata": {
            "tags": []
          }
        }
      ]
    },
    {
      "cell_type": "code",
      "metadata": {
        "id": "_BnSuAeCwkBe",
        "colab_type": "code",
        "colab": {
          "base_uri": "https://localhost:8080/",
          "height": 80
        },
        "outputId": "ccb2e838-3d0c-42bd-d421-80355c1fe24f"
      },
      "source": [
        "learn.fit_one_cycle(1, 1e-3)"
      ],
      "execution_count": 23,
      "outputs": [
        {
          "output_type": "display_data",
          "data": {
            "text/html": [
              "<table border=\"1\" class=\"dataframe\">\n",
              "  <thead>\n",
              "    <tr style=\"text-align: left;\">\n",
              "      <th>epoch</th>\n",
              "      <th>train_loss</th>\n",
              "      <th>valid_loss</th>\n",
              "      <th>accuracy</th>\n",
              "      <th>time</th>\n",
              "    </tr>\n",
              "  </thead>\n",
              "  <tbody>\n",
              "    <tr>\n",
              "      <td>0</td>\n",
              "      <td>4.225256</td>\n",
              "      <td>4.305270</td>\n",
              "      <td>0.267255</td>\n",
              "      <td>15:59</td>\n",
              "    </tr>\n",
              "  </tbody>\n",
              "</table>"
            ],
            "text/plain": [
              "<IPython.core.display.HTML object>"
            ]
          },
          "metadata": {
            "tags": []
          }
        }
      ]
    },
    {
      "cell_type": "code",
      "metadata": {
        "id": "MuTm-RFjwrEX",
        "colab_type": "code",
        "colab": {
          "base_uri": "https://localhost:8080/",
          "height": 80
        },
        "outputId": "53963fcd-d456-4935-a555-0ff15cc499ec"
      },
      "source": [
        "learn.fit_one_cycle(1, 1e-3)"
      ],
      "execution_count": 24,
      "outputs": [
        {
          "output_type": "display_data",
          "data": {
            "text/html": [
              "<table border=\"1\" class=\"dataframe\">\n",
              "  <thead>\n",
              "    <tr style=\"text-align: left;\">\n",
              "      <th>epoch</th>\n",
              "      <th>train_loss</th>\n",
              "      <th>valid_loss</th>\n",
              "      <th>accuracy</th>\n",
              "      <th>time</th>\n",
              "    </tr>\n",
              "  </thead>\n",
              "  <tbody>\n",
              "    <tr>\n",
              "      <td>0</td>\n",
              "      <td>4.179260</td>\n",
              "      <td>4.281085</td>\n",
              "      <td>0.268828</td>\n",
              "      <td>15:49</td>\n",
              "    </tr>\n",
              "  </tbody>\n",
              "</table>"
            ],
            "text/plain": [
              "<IPython.core.display.HTML object>"
            ]
          },
          "metadata": {
            "tags": []
          }
        }
      ]
    },
    {
      "cell_type": "code",
      "metadata": {
        "id": "1Er2ExO8wr7Y",
        "colab_type": "code",
        "colab": {}
      },
      "source": [
        "learn.save_encoder('bigtweet_fold0_first')"
      ],
      "execution_count": 0,
      "outputs": []
    },
    {
      "cell_type": "code",
      "metadata": {
        "id": "z52cZs2qwvad",
        "colab_type": "code",
        "colab": {
          "base_uri": "https://localhost:8080/",
          "height": 80
        },
        "outputId": "a247f3f5-c532-4ed2-8ee8-752d55b6d463"
      },
      "source": [
        "learn = text_classifier_learner(data_clas,AWD_LSTM, drop_mult=0.5)\n",
        "learn.load_encoder('bigtweet_fold0_first')\n",
        "learn.fit_one_cycle(1, 1e-2)"
      ],
      "execution_count": 26,
      "outputs": [
        {
          "output_type": "display_data",
          "data": {
            "text/html": [
              "<table border=\"1\" class=\"dataframe\">\n",
              "  <thead>\n",
              "    <tr style=\"text-align: left;\">\n",
              "      <th>epoch</th>\n",
              "      <th>train_loss</th>\n",
              "      <th>valid_loss</th>\n",
              "      <th>accuracy</th>\n",
              "      <th>time</th>\n",
              "    </tr>\n",
              "  </thead>\n",
              "  <tbody>\n",
              "    <tr>\n",
              "      <td>0</td>\n",
              "      <td>3.792118</td>\n",
              "      <td>3.284332</td>\n",
              "      <td>0.443787</td>\n",
              "      <td>01:08</td>\n",
              "    </tr>\n",
              "  </tbody>\n",
              "</table>"
            ],
            "text/plain": [
              "<IPython.core.display.HTML object>"
            ]
          },
          "metadata": {
            "tags": []
          }
        }
      ]
    },
    {
      "cell_type": "code",
      "metadata": {
        "id": "ImwQP1PJwzxd",
        "colab_type": "code",
        "colab": {
          "base_uri": "https://localhost:8080/",
          "height": 80
        },
        "outputId": "2e819df5-156e-4c46-81c5-f1aa92fe233f"
      },
      "source": [
        "learn.freeze_to(-2)\n",
        "learn.fit_one_cycle(1, slice(5e-3/2., 5e-3))"
      ],
      "execution_count": 27,
      "outputs": [
        {
          "output_type": "display_data",
          "data": {
            "text/html": [
              "<table border=\"1\" class=\"dataframe\">\n",
              "  <thead>\n",
              "    <tr style=\"text-align: left;\">\n",
              "      <th>epoch</th>\n",
              "      <th>train_loss</th>\n",
              "      <th>valid_loss</th>\n",
              "      <th>accuracy</th>\n",
              "      <th>time</th>\n",
              "    </tr>\n",
              "  </thead>\n",
              "  <tbody>\n",
              "    <tr>\n",
              "      <td>0</td>\n",
              "      <td>2.686527</td>\n",
              "      <td>2.750127</td>\n",
              "      <td>0.550296</td>\n",
              "      <td>01:21</td>\n",
              "    </tr>\n",
              "  </tbody>\n",
              "</table>"
            ],
            "text/plain": [
              "<IPython.core.display.HTML object>"
            ]
          },
          "metadata": {
            "tags": []
          }
        }
      ]
    },
    {
      "cell_type": "code",
      "metadata": {
        "id": "Owff_BJXw53u",
        "colab_type": "code",
        "colab": {
          "base_uri": "https://localhost:8080/",
          "height": 80
        },
        "outputId": "7a53b310-a4c7-4516-a338-df17396bf4d7"
      },
      "source": [
        "learn.unfreeze()\n",
        "learn.fit_one_cycle(1, slice(2e-3/100, 2e-3))"
      ],
      "execution_count": 28,
      "outputs": [
        {
          "output_type": "display_data",
          "data": {
            "text/html": [
              "<table border=\"1\" class=\"dataframe\">\n",
              "  <thead>\n",
              "    <tr style=\"text-align: left;\">\n",
              "      <th>epoch</th>\n",
              "      <th>train_loss</th>\n",
              "      <th>valid_loss</th>\n",
              "      <th>accuracy</th>\n",
              "      <th>time</th>\n",
              "    </tr>\n",
              "  </thead>\n",
              "  <tbody>\n",
              "    <tr>\n",
              "      <td>0</td>\n",
              "      <td>2.082876</td>\n",
              "      <td>2.453780</td>\n",
              "      <td>0.601183</td>\n",
              "      <td>03:23</td>\n",
              "    </tr>\n",
              "  </tbody>\n",
              "</table>"
            ],
            "text/plain": [
              "<IPython.core.display.HTML object>"
            ]
          },
          "metadata": {
            "tags": []
          }
        }
      ]
    },
    {
      "cell_type": "code",
      "metadata": {
        "id": "lqAyu56V8Waq",
        "colab_type": "code",
        "colab": {
          "base_uri": "https://localhost:8080/",
          "height": 111
        },
        "outputId": "0a6baf13-b71b-498e-cccc-924d723102f8"
      },
      "source": [
        "learn.fit_one_cycle(2, slice(2e-3/100, 2e-3))"
      ],
      "execution_count": 29,
      "outputs": [
        {
          "output_type": "display_data",
          "data": {
            "text/html": [
              "<table border=\"1\" class=\"dataframe\">\n",
              "  <thead>\n",
              "    <tr style=\"text-align: left;\">\n",
              "      <th>epoch</th>\n",
              "      <th>train_loss</th>\n",
              "      <th>valid_loss</th>\n",
              "      <th>accuracy</th>\n",
              "      <th>time</th>\n",
              "    </tr>\n",
              "  </thead>\n",
              "  <tbody>\n",
              "    <tr>\n",
              "      <td>0</td>\n",
              "      <td>1.831195</td>\n",
              "      <td>2.162425</td>\n",
              "      <td>0.631953</td>\n",
              "      <td>03:28</td>\n",
              "    </tr>\n",
              "    <tr>\n",
              "      <td>1</td>\n",
              "      <td>1.540323</td>\n",
              "      <td>2.053022</td>\n",
              "      <td>0.654438</td>\n",
              "      <td>03:17</td>\n",
              "    </tr>\n",
              "  </tbody>\n",
              "</table>"
            ],
            "text/plain": [
              "<IPython.core.display.HTML object>"
            ]
          },
          "metadata": {
            "tags": []
          }
        }
      ]
    },
    {
      "cell_type": "code",
      "metadata": {
        "id": "a7I1xMRp8bUd",
        "colab_type": "code",
        "colab": {
          "base_uri": "https://localhost:8080/",
          "height": 111
        },
        "outputId": "158e35fd-f5ed-4796-c365-9697a6c5a084"
      },
      "source": [
        "learn.fit_one_cycle(2, slice(2e-3/100, 2e-3))"
      ],
      "execution_count": 30,
      "outputs": [
        {
          "output_type": "display_data",
          "data": {
            "text/html": [
              "<table border=\"1\" class=\"dataframe\">\n",
              "  <thead>\n",
              "    <tr style=\"text-align: left;\">\n",
              "      <th>epoch</th>\n",
              "      <th>train_loss</th>\n",
              "      <th>valid_loss</th>\n",
              "      <th>accuracy</th>\n",
              "      <th>time</th>\n",
              "    </tr>\n",
              "  </thead>\n",
              "  <tbody>\n",
              "    <tr>\n",
              "      <td>0</td>\n",
              "      <td>1.353812</td>\n",
              "      <td>1.870629</td>\n",
              "      <td>0.676923</td>\n",
              "      <td>03:28</td>\n",
              "    </tr>\n",
              "    <tr>\n",
              "      <td>1</td>\n",
              "      <td>1.298514</td>\n",
              "      <td>1.787432</td>\n",
              "      <td>0.692308</td>\n",
              "      <td>03:27</td>\n",
              "    </tr>\n",
              "  </tbody>\n",
              "</table>"
            ],
            "text/plain": [
              "<IPython.core.display.HTML object>"
            ]
          },
          "metadata": {
            "tags": []
          }
        }
      ]
    },
    {
      "cell_type": "code",
      "metadata": {
        "id": "UAnti-XmGVfO",
        "colab_type": "code",
        "colab": {
          "base_uri": "https://localhost:8080/",
          "height": 111
        },
        "outputId": "957f12e6-a23f-4c11-a48f-aed11e0fde09"
      },
      "source": [
        "learn.fit_one_cycle(2, slice(2e-3/100, 2e-3))"
      ],
      "execution_count": 31,
      "outputs": [
        {
          "output_type": "display_data",
          "data": {
            "text/html": [
              "<table border=\"1\" class=\"dataframe\">\n",
              "  <thead>\n",
              "    <tr style=\"text-align: left;\">\n",
              "      <th>epoch</th>\n",
              "      <th>train_loss</th>\n",
              "      <th>valid_loss</th>\n",
              "      <th>accuracy</th>\n",
              "      <th>time</th>\n",
              "    </tr>\n",
              "  </thead>\n",
              "  <tbody>\n",
              "    <tr>\n",
              "      <td>0</td>\n",
              "      <td>1.121111</td>\n",
              "      <td>1.687160</td>\n",
              "      <td>0.708876</td>\n",
              "      <td>03:41</td>\n",
              "    </tr>\n",
              "    <tr>\n",
              "      <td>1</td>\n",
              "      <td>1.034285</td>\n",
              "      <td>1.580914</td>\n",
              "      <td>0.724260</td>\n",
              "      <td>03:34</td>\n",
              "    </tr>\n",
              "  </tbody>\n",
              "</table>"
            ],
            "text/plain": [
              "<IPython.core.display.HTML object>"
            ]
          },
          "metadata": {
            "tags": []
          }
        }
      ]
    },
    {
      "cell_type": "code",
      "metadata": {
        "id": "bIft7W25GwSu",
        "colab_type": "code",
        "colab": {
          "base_uri": "https://localhost:8080/",
          "height": 111
        },
        "outputId": "a3fb948e-5577-4bb6-d97e-120a2d28e294"
      },
      "source": [
        "learn.fit_one_cycle(2, slice(2e-3/100, 2e-3))"
      ],
      "execution_count": 32,
      "outputs": [
        {
          "output_type": "display_data",
          "data": {
            "text/html": [
              "<table border=\"1\" class=\"dataframe\">\n",
              "  <thead>\n",
              "    <tr style=\"text-align: left;\">\n",
              "      <th>epoch</th>\n",
              "      <th>train_loss</th>\n",
              "      <th>valid_loss</th>\n",
              "      <th>accuracy</th>\n",
              "      <th>time</th>\n",
              "    </tr>\n",
              "  </thead>\n",
              "  <tbody>\n",
              "    <tr>\n",
              "      <td>0</td>\n",
              "      <td>1.010539</td>\n",
              "      <td>1.583679</td>\n",
              "      <td>0.732544</td>\n",
              "      <td>03:45</td>\n",
              "    </tr>\n",
              "    <tr>\n",
              "      <td>1</td>\n",
              "      <td>0.856613</td>\n",
              "      <td>1.486736</td>\n",
              "      <td>0.743195</td>\n",
              "      <td>03:19</td>\n",
              "    </tr>\n",
              "  </tbody>\n",
              "</table>"
            ],
            "text/plain": [
              "<IPython.core.display.HTML object>"
            ]
          },
          "metadata": {
            "tags": []
          }
        }
      ]
    },
    {
      "cell_type": "code",
      "metadata": {
        "id": "EEHszVRvGyFt",
        "colab_type": "code",
        "colab": {
          "base_uri": "https://localhost:8080/",
          "height": 111
        },
        "outputId": "73ad84fb-249d-49b1-ebba-d854abb61fd4"
      },
      "source": [
        "learn.fit_one_cycle(2, slice(2e-3/100, 2e-3))"
      ],
      "execution_count": 33,
      "outputs": [
        {
          "output_type": "display_data",
          "data": {
            "text/html": [
              "<table border=\"1\" class=\"dataframe\">\n",
              "  <thead>\n",
              "    <tr style=\"text-align: left;\">\n",
              "      <th>epoch</th>\n",
              "      <th>train_loss</th>\n",
              "      <th>valid_loss</th>\n",
              "      <th>accuracy</th>\n",
              "      <th>time</th>\n",
              "    </tr>\n",
              "  </thead>\n",
              "  <tbody>\n",
              "    <tr>\n",
              "      <td>0</td>\n",
              "      <td>0.876464</td>\n",
              "      <td>1.436392</td>\n",
              "      <td>0.751479</td>\n",
              "      <td>03:24</td>\n",
              "    </tr>\n",
              "    <tr>\n",
              "      <td>1</td>\n",
              "      <td>0.799265</td>\n",
              "      <td>1.422956</td>\n",
              "      <td>0.757396</td>\n",
              "      <td>03:41</td>\n",
              "    </tr>\n",
              "  </tbody>\n",
              "</table>"
            ],
            "text/plain": [
              "<IPython.core.display.HTML object>"
            ]
          },
          "metadata": {
            "tags": []
          }
        }
      ]
    },
    {
      "cell_type": "code",
      "metadata": {
        "id": "XsHfrhCHG3dN",
        "colab_type": "code",
        "colab": {
          "base_uri": "https://localhost:8080/",
          "height": 173
        },
        "outputId": "5e39bc80-7ba2-4b10-d40d-751357347f3e"
      },
      "source": [
        "learn.fit_one_cycle(4, slice(2e-3/100, 2e-3))"
      ],
      "execution_count": 34,
      "outputs": [
        {
          "output_type": "display_data",
          "data": {
            "text/html": [
              "<table border=\"1\" class=\"dataframe\">\n",
              "  <thead>\n",
              "    <tr style=\"text-align: left;\">\n",
              "      <th>epoch</th>\n",
              "      <th>train_loss</th>\n",
              "      <th>valid_loss</th>\n",
              "      <th>accuracy</th>\n",
              "      <th>time</th>\n",
              "    </tr>\n",
              "  </thead>\n",
              "  <tbody>\n",
              "    <tr>\n",
              "      <td>0</td>\n",
              "      <td>0.739968</td>\n",
              "      <td>1.393782</td>\n",
              "      <td>0.756213</td>\n",
              "      <td>03:39</td>\n",
              "    </tr>\n",
              "    <tr>\n",
              "      <td>1</td>\n",
              "      <td>0.724648</td>\n",
              "      <td>1.418446</td>\n",
              "      <td>0.762130</td>\n",
              "      <td>03:45</td>\n",
              "    </tr>\n",
              "    <tr>\n",
              "      <td>2</td>\n",
              "      <td>0.667171</td>\n",
              "      <td>1.365954</td>\n",
              "      <td>0.768047</td>\n",
              "      <td>03:22</td>\n",
              "    </tr>\n",
              "    <tr>\n",
              "      <td>3</td>\n",
              "      <td>0.542589</td>\n",
              "      <td>1.310575</td>\n",
              "      <td>0.775148</td>\n",
              "      <td>03:25</td>\n",
              "    </tr>\n",
              "  </tbody>\n",
              "</table>"
            ],
            "text/plain": [
              "<IPython.core.display.HTML object>"
            ]
          },
          "metadata": {
            "tags": []
          }
        }
      ]
    },
    {
      "cell_type": "code",
      "metadata": {
        "id": "0Zsd99isb9EQ",
        "colab_type": "code",
        "colab": {
          "base_uri": "https://localhost:8080/",
          "height": 173
        },
        "outputId": "89666370-a7f7-4ecb-e9bf-4f2a128a1875"
      },
      "source": [
        "learn.fit_one_cycle(4, slice(2e-3/100, 2e-3))"
      ],
      "execution_count": 35,
      "outputs": [
        {
          "output_type": "display_data",
          "data": {
            "text/html": [
              "<table border=\"1\" class=\"dataframe\">\n",
              "  <thead>\n",
              "    <tr style=\"text-align: left;\">\n",
              "      <th>epoch</th>\n",
              "      <th>train_loss</th>\n",
              "      <th>valid_loss</th>\n",
              "      <th>accuracy</th>\n",
              "      <th>time</th>\n",
              "    </tr>\n",
              "  </thead>\n",
              "  <tbody>\n",
              "    <tr>\n",
              "      <td>0</td>\n",
              "      <td>0.550950</td>\n",
              "      <td>1.349199</td>\n",
              "      <td>0.773965</td>\n",
              "      <td>03:44</td>\n",
              "    </tr>\n",
              "    <tr>\n",
              "      <td>1</td>\n",
              "      <td>0.584697</td>\n",
              "      <td>1.302978</td>\n",
              "      <td>0.777515</td>\n",
              "      <td>03:39</td>\n",
              "    </tr>\n",
              "    <tr>\n",
              "      <td>2</td>\n",
              "      <td>0.510132</td>\n",
              "      <td>1.276719</td>\n",
              "      <td>0.790533</td>\n",
              "      <td>03:44</td>\n",
              "    </tr>\n",
              "    <tr>\n",
              "      <td>3</td>\n",
              "      <td>0.434156</td>\n",
              "      <td>1.267025</td>\n",
              "      <td>0.790533</td>\n",
              "      <td>03:20</td>\n",
              "    </tr>\n",
              "  </tbody>\n",
              "</table>"
            ],
            "text/plain": [
              "<IPython.core.display.HTML object>"
            ]
          },
          "metadata": {
            "tags": []
          }
        }
      ]
    },
    {
      "cell_type": "code",
      "metadata": {
        "id": "atNWNKDFPbuI",
        "colab_type": "code",
        "colab": {
          "base_uri": "https://localhost:8080/",
          "height": 173
        },
        "outputId": "d42e0ce9-699f-44f7-cd31-1da8d9f56694"
      },
      "source": [
        "learn.fit_one_cycle(4, slice(2e-3/100, 2e-3))"
      ],
      "execution_count": 36,
      "outputs": [
        {
          "output_type": "display_data",
          "data": {
            "text/html": [
              "<table border=\"1\" class=\"dataframe\">\n",
              "  <thead>\n",
              "    <tr style=\"text-align: left;\">\n",
              "      <th>epoch</th>\n",
              "      <th>train_loss</th>\n",
              "      <th>valid_loss</th>\n",
              "      <th>accuracy</th>\n",
              "      <th>time</th>\n",
              "    </tr>\n",
              "  </thead>\n",
              "  <tbody>\n",
              "    <tr>\n",
              "      <td>0</td>\n",
              "      <td>0.425495</td>\n",
              "      <td>1.296552</td>\n",
              "      <td>0.788166</td>\n",
              "      <td>03:44</td>\n",
              "    </tr>\n",
              "    <tr>\n",
              "      <td>1</td>\n",
              "      <td>0.496599</td>\n",
              "      <td>1.359811</td>\n",
              "      <td>0.770414</td>\n",
              "      <td>03:20</td>\n",
              "    </tr>\n",
              "    <tr>\n",
              "      <td>2</td>\n",
              "      <td>0.472411</td>\n",
              "      <td>1.295624</td>\n",
              "      <td>0.785799</td>\n",
              "      <td>03:19</td>\n",
              "    </tr>\n",
              "    <tr>\n",
              "      <td>3</td>\n",
              "      <td>0.401775</td>\n",
              "      <td>1.262443</td>\n",
              "      <td>0.790533</td>\n",
              "      <td>03:32</td>\n",
              "    </tr>\n",
              "  </tbody>\n",
              "</table>"
            ],
            "text/plain": [
              "<IPython.core.display.HTML object>"
            ]
          },
          "metadata": {
            "tags": []
          }
        }
      ]
    },
    {
      "cell_type": "code",
      "metadata": {
        "id": "rKrBTZ0T1uVA",
        "colab_type": "code",
        "colab": {
          "base_uri": "https://localhost:8080/",
          "height": 173
        },
        "outputId": "8246826f-7a73-4486-d23a-70e0d5274890"
      },
      "source": [
        "learn.fit_one_cycle(4, slice(2e-3/100, 2e-3))"
      ],
      "execution_count": 37,
      "outputs": [
        {
          "output_type": "display_data",
          "data": {
            "text/html": [
              "<table border=\"1\" class=\"dataframe\">\n",
              "  <thead>\n",
              "    <tr style=\"text-align: left;\">\n",
              "      <th>epoch</th>\n",
              "      <th>train_loss</th>\n",
              "      <th>valid_loss</th>\n",
              "      <th>accuracy</th>\n",
              "      <th>time</th>\n",
              "    </tr>\n",
              "  </thead>\n",
              "  <tbody>\n",
              "    <tr>\n",
              "      <td>0</td>\n",
              "      <td>0.394652</td>\n",
              "      <td>1.290006</td>\n",
              "      <td>0.781065</td>\n",
              "      <td>03:25</td>\n",
              "    </tr>\n",
              "    <tr>\n",
              "      <td>1</td>\n",
              "      <td>0.457473</td>\n",
              "      <td>1.324475</td>\n",
              "      <td>0.786982</td>\n",
              "      <td>03:37</td>\n",
              "    </tr>\n",
              "    <tr>\n",
              "      <td>2</td>\n",
              "      <td>0.414128</td>\n",
              "      <td>1.332160</td>\n",
              "      <td>0.790533</td>\n",
              "      <td>03:26</td>\n",
              "    </tr>\n",
              "    <tr>\n",
              "      <td>3</td>\n",
              "      <td>0.377748</td>\n",
              "      <td>1.271340</td>\n",
              "      <td>0.790533</td>\n",
              "      <td>03:37</td>\n",
              "    </tr>\n",
              "  </tbody>\n",
              "</table>"
            ],
            "text/plain": [
              "<IPython.core.display.HTML object>"
            ]
          },
          "metadata": {
            "tags": []
          }
        }
      ]
    },
    {
      "cell_type": "code",
      "metadata": {
        "id": "ajQC6WDg1yA9",
        "colab_type": "code",
        "colab": {
          "base_uri": "https://localhost:8080/",
          "height": 173
        },
        "outputId": "4466512b-9f58-46b9-cec8-2aa9be224061"
      },
      "source": [
        "learn.fit_one_cycle(4, slice(2e-3/100, 2e-3))"
      ],
      "execution_count": 38,
      "outputs": [
        {
          "output_type": "display_data",
          "data": {
            "text/html": [
              "<table border=\"1\" class=\"dataframe\">\n",
              "  <thead>\n",
              "    <tr style=\"text-align: left;\">\n",
              "      <th>epoch</th>\n",
              "      <th>train_loss</th>\n",
              "      <th>valid_loss</th>\n",
              "      <th>accuracy</th>\n",
              "      <th>time</th>\n",
              "    </tr>\n",
              "  </thead>\n",
              "  <tbody>\n",
              "    <tr>\n",
              "      <td>0</td>\n",
              "      <td>0.365195</td>\n",
              "      <td>1.344606</td>\n",
              "      <td>0.786982</td>\n",
              "      <td>03:39</td>\n",
              "    </tr>\n",
              "    <tr>\n",
              "      <td>1</td>\n",
              "      <td>0.408527</td>\n",
              "      <td>1.311408</td>\n",
              "      <td>0.783432</td>\n",
              "      <td>03:34</td>\n",
              "    </tr>\n",
              "    <tr>\n",
              "      <td>2</td>\n",
              "      <td>0.362889</td>\n",
              "      <td>1.333521</td>\n",
              "      <td>0.784615</td>\n",
              "      <td>03:22</td>\n",
              "    </tr>\n",
              "    <tr>\n",
              "      <td>3</td>\n",
              "      <td>0.331100</td>\n",
              "      <td>1.311210</td>\n",
              "      <td>0.794083</td>\n",
              "      <td>03:14</td>\n",
              "    </tr>\n",
              "  </tbody>\n",
              "</table>"
            ],
            "text/plain": [
              "<IPython.core.display.HTML object>"
            ]
          },
          "metadata": {
            "tags": []
          }
        }
      ]
    },
    {
      "cell_type": "code",
      "metadata": {
        "id": "KKydb0B4BKGk",
        "colab_type": "code",
        "colab": {
          "base_uri": "https://localhost:8080/",
          "height": 173
        },
        "outputId": "b9f2d29f-f9de-44f0-86db-3e45d0fd5abb"
      },
      "source": [
        "learn.fit_one_cycle(4, slice(2e-3/100, 2e-3))"
      ],
      "execution_count": 39,
      "outputs": [
        {
          "output_type": "display_data",
          "data": {
            "text/html": [
              "<table border=\"1\" class=\"dataframe\">\n",
              "  <thead>\n",
              "    <tr style=\"text-align: left;\">\n",
              "      <th>epoch</th>\n",
              "      <th>train_loss</th>\n",
              "      <th>valid_loss</th>\n",
              "      <th>accuracy</th>\n",
              "      <th>time</th>\n",
              "    </tr>\n",
              "  </thead>\n",
              "  <tbody>\n",
              "    <tr>\n",
              "      <td>0</td>\n",
              "      <td>0.338311</td>\n",
              "      <td>1.316122</td>\n",
              "      <td>0.788166</td>\n",
              "      <td>03:32</td>\n",
              "    </tr>\n",
              "    <tr>\n",
              "      <td>1</td>\n",
              "      <td>0.377182</td>\n",
              "      <td>1.337452</td>\n",
              "      <td>0.785799</td>\n",
              "      <td>03:33</td>\n",
              "    </tr>\n",
              "    <tr>\n",
              "      <td>2</td>\n",
              "      <td>0.345970</td>\n",
              "      <td>1.323263</td>\n",
              "      <td>0.789349</td>\n",
              "      <td>03:24</td>\n",
              "    </tr>\n",
              "    <tr>\n",
              "      <td>3</td>\n",
              "      <td>0.356641</td>\n",
              "      <td>1.372479</td>\n",
              "      <td>0.790533</td>\n",
              "      <td>03:23</td>\n",
              "    </tr>\n",
              "  </tbody>\n",
              "</table>"
            ],
            "text/plain": [
              "<IPython.core.display.HTML object>"
            ]
          },
          "metadata": {
            "tags": []
          }
        }
      ]
    },
    {
      "cell_type": "code",
      "metadata": {
        "id": "T2APKtFKBpGY",
        "colab_type": "code",
        "colab": {
          "base_uri": "https://localhost:8080/",
          "height": 173
        },
        "outputId": "b0089e3a-5873-4c82-9a3b-ac0bcfc6fcc8"
      },
      "source": [
        "learn.fit_one_cycle(4, slice(2e-3/100, 2e-3))"
      ],
      "execution_count": 40,
      "outputs": [
        {
          "output_type": "display_data",
          "data": {
            "text/html": [
              "<table border=\"1\" class=\"dataframe\">\n",
              "  <thead>\n",
              "    <tr style=\"text-align: left;\">\n",
              "      <th>epoch</th>\n",
              "      <th>train_loss</th>\n",
              "      <th>valid_loss</th>\n",
              "      <th>accuracy</th>\n",
              "      <th>time</th>\n",
              "    </tr>\n",
              "  </thead>\n",
              "  <tbody>\n",
              "    <tr>\n",
              "      <td>0</td>\n",
              "      <td>0.327461</td>\n",
              "      <td>1.364230</td>\n",
              "      <td>0.786982</td>\n",
              "      <td>03:48</td>\n",
              "    </tr>\n",
              "    <tr>\n",
              "      <td>1</td>\n",
              "      <td>0.353916</td>\n",
              "      <td>1.388503</td>\n",
              "      <td>0.788166</td>\n",
              "      <td>03:37</td>\n",
              "    </tr>\n",
              "    <tr>\n",
              "      <td>2</td>\n",
              "      <td>0.359650</td>\n",
              "      <td>1.436083</td>\n",
              "      <td>0.789349</td>\n",
              "      <td>03:38</td>\n",
              "    </tr>\n",
              "    <tr>\n",
              "      <td>3</td>\n",
              "      <td>0.293098</td>\n",
              "      <td>1.359312</td>\n",
              "      <td>0.785799</td>\n",
              "      <td>03:38</td>\n",
              "    </tr>\n",
              "  </tbody>\n",
              "</table>"
            ],
            "text/plain": [
              "<IPython.core.display.HTML object>"
            ]
          },
          "metadata": {
            "tags": []
          }
        }
      ]
    },
    {
      "cell_type": "code",
      "metadata": {
        "id": "qtTypA1sPgLU",
        "colab_type": "code",
        "colab": {
          "base_uri": "https://localhost:8080/",
          "height": 111
        },
        "outputId": "36faa406-ecc5-4e66-f2b6-8dae74da1b9b"
      },
      "source": [
        "learn.fit_one_cycle(2, slice(2e-3/100, 2e-3))"
      ],
      "execution_count": 41,
      "outputs": [
        {
          "output_type": "display_data",
          "data": {
            "text/html": [
              "<table border=\"1\" class=\"dataframe\">\n",
              "  <thead>\n",
              "    <tr style=\"text-align: left;\">\n",
              "      <th>epoch</th>\n",
              "      <th>train_loss</th>\n",
              "      <th>valid_loss</th>\n",
              "      <th>accuracy</th>\n",
              "      <th>time</th>\n",
              "    </tr>\n",
              "  </thead>\n",
              "  <tbody>\n",
              "    <tr>\n",
              "      <td>0</td>\n",
              "      <td>0.338932</td>\n",
              "      <td>1.339199</td>\n",
              "      <td>0.800000</td>\n",
              "      <td>03:31</td>\n",
              "    </tr>\n",
              "    <tr>\n",
              "      <td>1</td>\n",
              "      <td>0.315524</td>\n",
              "      <td>1.288468</td>\n",
              "      <td>0.796450</td>\n",
              "      <td>03:35</td>\n",
              "    </tr>\n",
              "  </tbody>\n",
              "</table>"
            ],
            "text/plain": [
              "<IPython.core.display.HTML object>"
            ]
          },
          "metadata": {
            "tags": []
          }
        }
      ]
    },
    {
      "cell_type": "code",
      "metadata": {
        "id": "b242kBsTUp9Y",
        "colab_type": "code",
        "colab": {
          "base_uri": "https://localhost:8080/",
          "height": 111
        },
        "outputId": "d8765461-b26a-4488-dffc-9631336669c1"
      },
      "source": [
        "learn.fit_one_cycle(2, slice(2e-3/100, 2e-3))"
      ],
      "execution_count": 42,
      "outputs": [
        {
          "output_type": "display_data",
          "data": {
            "text/html": [
              "<table border=\"1\" class=\"dataframe\">\n",
              "  <thead>\n",
              "    <tr style=\"text-align: left;\">\n",
              "      <th>epoch</th>\n",
              "      <th>train_loss</th>\n",
              "      <th>valid_loss</th>\n",
              "      <th>accuracy</th>\n",
              "      <th>time</th>\n",
              "    </tr>\n",
              "  </thead>\n",
              "  <tbody>\n",
              "    <tr>\n",
              "      <td>0</td>\n",
              "      <td>0.319725</td>\n",
              "      <td>1.383353</td>\n",
              "      <td>0.789349</td>\n",
              "      <td>03:16</td>\n",
              "    </tr>\n",
              "    <tr>\n",
              "      <td>1</td>\n",
              "      <td>0.330276</td>\n",
              "      <td>1.363733</td>\n",
              "      <td>0.800000</td>\n",
              "      <td>03:19</td>\n",
              "    </tr>\n",
              "  </tbody>\n",
              "</table>"
            ],
            "text/plain": [
              "<IPython.core.display.HTML object>"
            ]
          },
          "metadata": {
            "tags": []
          }
        }
      ]
    },
    {
      "cell_type": "code",
      "metadata": {
        "id": "Duwf1Ih5VeDZ",
        "colab_type": "code",
        "colab": {
          "base_uri": "https://localhost:8080/",
          "height": 80
        },
        "outputId": "f0ccf50a-1422-47c2-d6cb-5aee1a1ac3e4"
      },
      "source": [
        "learn.fit_one_cycle(1, slice(2e-3/100, 2e-3))"
      ],
      "execution_count": 43,
      "outputs": [
        {
          "output_type": "display_data",
          "data": {
            "text/html": [
              "<table border=\"1\" class=\"dataframe\">\n",
              "  <thead>\n",
              "    <tr style=\"text-align: left;\">\n",
              "      <th>epoch</th>\n",
              "      <th>train_loss</th>\n",
              "      <th>valid_loss</th>\n",
              "      <th>accuracy</th>\n",
              "      <th>time</th>\n",
              "    </tr>\n",
              "  </thead>\n",
              "  <tbody>\n",
              "    <tr>\n",
              "      <td>0</td>\n",
              "      <td>0.368929</td>\n",
              "      <td>1.376684</td>\n",
              "      <td>0.803550</td>\n",
              "      <td>03:33</td>\n",
              "    </tr>\n",
              "  </tbody>\n",
              "</table>"
            ],
            "text/plain": [
              "<IPython.core.display.HTML object>"
            ]
          },
          "metadata": {
            "tags": []
          }
        }
      ]
    },
    {
      "cell_type": "code",
      "metadata": {
        "id": "c65d-osfDUXm",
        "colab_type": "code",
        "colab": {}
      },
      "source": [
        "# save the best model\n",
        "\n",
        "learn.save_encoder('ask-0-tuning-bigtweet')"
      ],
      "execution_count": 0,
      "outputs": []
    },
    {
      "cell_type": "markdown",
      "metadata": {
        "id": "rCwZU0E2RgM6",
        "colab_type": "text"
      },
      "source": [
        "# Part three: Predict on the test dataset"
      ]
    },
    {
      "cell_type": "code",
      "metadata": {
        "id": "gDm72c-dOu7d",
        "colab_type": "code",
        "colab": {}
      },
      "source": [
        "# use the test data for prediction\n",
        "\n",
        "preds, y = learn.get_preds(DatasetType.Test)"
      ],
      "execution_count": 0,
      "outputs": []
    },
    {
      "cell_type": "code",
      "metadata": {
        "id": "6tFSQcsWPvxn",
        "colab_type": "code",
        "colab": {
          "base_uri": "https://localhost:8080/",
          "height": 105
        },
        "outputId": "65a68740-05b1-4653-d0b9-e998181c022c"
      },
      "source": [
        "predictions, *_ = learn.get_preds(DatasetType.Test)\n",
        "labels = np.argmax(predictions, 1)\n",
        "predict_list = labels.tolist()\n",
        "standard_list = test[0].tolist()\n",
        "\n",
        "print(len(predict_list))\n",
        "print(len(standard_list))\n",
        "\n",
        "print(predict_list)\n",
        "print(standard_list)"
      ],
      "execution_count": 46,
      "outputs": [
        {
          "output_type": "stream",
          "text": [
            "867\n",
            "867\n",
            "[75, 2, 343, 787, 5, 8, 8, 8, 8, 8, 8, 8, 4, 788, 21, 22, 805, 27, 27, 541, 29, 30, 2, 30, 31, 31, 32, 34, 34, 37, 37, 491, 37, 37, 37, 37, 38, 44, 152, 49, 49, 49, 49, 49, 49, 49, 49, 49, 49, 100, 100, 100, 100, 100, 53, 53, 58, 427, 71, 71, 491, 76, 76, 717, 260, 289, 289, 614, 866, 61, 289, 289, 289, 289, 289, 289, 289, 289, 289, 289, 289, 289, 289, 289, 289, 289, 289, 289, 289, 289, 289, 289, 289, 289, 289, 289, 289, 289, 614, 614, 80, 80, 80, 80, 80, 80, 80, 80, 80, 88, 89, 137, 89, 90, 91, 92, 94, 94, 94, 94, 94, 94, 94, 94, 761, 162, 98, 423, 274, 100, 847, 337, 100, 100, 100, 100, 100, 100, 100, 291, 337, 660, 108, 108, 209, 111, 111, 111, 111, 537, 111, 289, 117, 446, 300, 300, 122, 125, 61, 630, 125, 125, 125, 125, 125, 125, 125, 125, 777, 127, 129, 622, 745, 142, 142, 144, 794, 415, 151, 151, 614, 344, 52, 158, 165, 165, 166, 166, 166, 257, 172, 700, 172, 172, 172, 172, 172, 180, 182, 182, 182, 182, 772, 289, 183, 183, 183, 183, 183, 183, 183, 183, 183, 183, 183, 183, 183, 184, 184, 185, 240, 240, 992, 189, 189, 190, 190, 190, 190, 190, 190, 193, 877, 877, 2, 912, 210, 210, 210, 877, 877, 877, 877, 471, 877, 877, 877, 877, 877, 214, 214, 214, 214, 61, 216, 992, 218, 218, 220, 220, 220, 220, 220, 787, 226, 228, 228, 228, 228, 228, 228, 228, 228, 289, 544, 234, 234, 235, 238, 61, 238, 636, 61, 787, 243, 243, 243, 243, 243, 710, 245, 245, 245, 764, 245, 245, 245, 245, 733, 167, 246, 246, 246, 61, 254, 254, 259, 260, 1032, 251, 265, 523, 265, 265, 471, 265, 214, 265, 265, 265, 265, 265, 265, 265, 265, 265, 265, 265, 265, 265, 265, 265, 265, 265, 265, 268, 268, 268, 269, 402, 787, 276, 277, 299, 289, 289, 289, 289, 289, 419, 289, 289, 289, 289, 289, 289, 260, 289, 289, 289, 289, 289, 289, 289, 291, 289, 877, 805, 300, 300, 301, 301, 301, 221, 308, 309, 309, 289, 289, 310, 289, 750, 318, 318, 318, 427, 265, 146, 749, 321, 321, 61, 323, 325, 325, 301, 301, 301, 301, 301, 301, 301, 301, 301, 209, 536, 325, 325, 326, 61, 636, 787, 335, 336, 337, 337, 337, 337, 338, 343, 344, 272, 359, 359, 360, 360, 363, 363, 289, 605, 289, 364, 726, 61, 427, 444, 256, 402, 402, 405, 878, 418, 419, 419, 419, 419, 419, 419, 471, 289, 289, 289, 619, 426, 426, 427, 427, 427, 427, 427, 427, 427, 427, 427, 427, 427, 427, 591, 369, 427, 910, 238, 435, 390, 444, 444, 444, 455, 455, 455, 463, 228, 474, 780, 591, 475, 591, 257, 744, 694, 489, 491, 491, 748, 491, 492, 492, 232, 363, 162, 509, 516, 516, 517, 61, 847, 521, 524, 527, 715, 530, 530, 530, 530, 180, 535, 541, 541, 427, 291, 546, 384, 384, 384, 384, 384, 384, 111, 190, 567, 577, 577, 363, 579, 579, 584, 874, 289, 590, 590, 325, 592, 595, 597, 597, 491, 491, 704, 289, 607, 56, 610, 610, 610, 787, 289, 426, 614, 614, 619, 619, 619, 623, 318, 624, 633, 633, 764, 644, 644, 646, 646, 646, 646, 646, 568, 164, 651, 652, 636, 652, 652, 636, 636, 662, 662, 662, 662, 491, 664, 437, 666, 491, 29, 727, 765, 686, 337, 817, 328, 693, 698, 289, 289, 289, 289, 707, 710, 711, 370, 730, 2, 573, 289, 745, 746, 746, 746, 257, 746, 749, 753, 753, 615, 809, 769, 775, 775, 775, 775, 782, 787, 615, 473, 198, 804, 805, 408, 164, 809, 809, 809, 809, 575, 810, 246, 815, 427, 824, 377, 826, 828, 508, 830, 787, 830, 830, 830, 830, 834, 840, 642, 764, 847, 847, 847, 847, 808, 49, 785, 785, 853, 853, 853, 853, 853, 853, 853, 706, 864, 864, 130, 662, 491, 426, 868, 191, 874, 245, 876, 61, 892, 896, 896, 896, 896, 896, 58, 328, 902, 753, 252, 906, 466, 916, 994, 919, 919, 279, 642, 61, 933, 936, 937, 937, 937, 937, 937, 937, 937, 941, 1032, 279, 279, 992, 949, 949, 949, 949, 949, 949, 949, 949, 949, 949, 949, 949, 949, 949, 949, 949, 949, 949, 949, 949, 949, 949, 949, 949, 949, 949, 949, 949, 949, 949, 949, 949, 949, 949, 949, 949, 949, 949, 949, 949, 949, 949, 949, 949, 949, 949, 949, 949, 949, 949, 949, 949, 949, 949, 949, 949, 949, 949, 949, 949, 949, 949, 949, 949, 949, 949, 949, 949, 949, 949, 973, 279, 949, 949, 949, 949, 949, 949, 949, 949, 949, 949, 949, 949, 949, 949, 949, 949, 949, 949, 949, 949, 949, 949, 949, 949, 949, 949, 949, 949, 949, 949, 949, 949, 949, 949, 949, 949, 949, 994, 950, 950, 950, 950, 952, 952, 955, 956, 956, 964, 964, 967, 967, 967, 977, 279, 1001, 1001, 960, 1028, 1017, 1020, 1035, 1022, 1026, 1026, 1028, 1028, 1028, 1028, 809, 1035]\n",
            "[0, 2, 3, 5, 5, 8, 8, 8, 8, 8, 8, 8, 14, 18, 21, 22, 22, 27, 27, 28, 29, 30, 30, 30, 31, 31, 32, 34, 34, 37, 37, 37, 37, 37, 37, 37, 38, 44, 47, 49, 49, 49, 49, 49, 49, 49, 49, 49, 49, 49, 49, 49, 49, 49, 53, 53, 58, 61, 71, 71, 74, 76, 76, 77, 79, 79, 79, 79, 79, 79, 79, 79, 79, 79, 79, 79, 79, 79, 79, 79, 79, 79, 79, 79, 79, 79, 79, 79, 79, 79, 79, 79, 79, 79, 79, 79, 79, 79, 79, 79, 80, 80, 80, 80, 80, 80, 80, 80, 80, 88, 89, 89, 89, 90, 91, 92, 94, 94, 94, 94, 94, 94, 94, 94, 96, 96, 98, 98, 98, 100, 100, 100, 100, 100, 100, 100, 100, 100, 100, 101, 102, 108, 108, 108, 109, 111, 111, 111, 111, 111, 111, 111, 117, 120, 120, 120, 122, 125, 125, 125, 125, 125, 125, 125, 125, 125, 125, 125, 125, 127, 129, 131, 132, 142, 142, 144, 150, 150, 151, 151, 153, 157, 157, 158, 165, 165, 166, 166, 166, 168, 172, 172, 172, 172, 172, 172, 172, 180, 182, 182, 182, 182, 182, 182, 183, 183, 183, 183, 183, 183, 183, 183, 183, 183, 183, 183, 183, 184, 184, 185, 187, 187, 187, 189, 189, 190, 190, 190, 190, 190, 190, 193, 197, 197, 205, 210, 210, 210, 210, 214, 214, 214, 214, 214, 214, 214, 214, 214, 214, 214, 214, 214, 214, 216, 216, 218, 218, 218, 220, 220, 220, 220, 220, 222, 226, 228, 228, 228, 228, 228, 228, 228, 228, 228, 229, 234, 234, 235, 238, 238, 238, 240, 243, 243, 243, 243, 243, 243, 243, 244, 245, 245, 245, 245, 245, 245, 245, 245, 245, 246, 246, 246, 246, 249, 254, 254, 259, 260, 261, 262, 265, 265, 265, 265, 265, 265, 265, 265, 265, 265, 265, 265, 265, 265, 265, 265, 265, 265, 265, 265, 265, 265, 265, 265, 265, 268, 268, 268, 269, 270, 271, 276, 277, 288, 289, 289, 289, 289, 289, 289, 289, 289, 289, 289, 289, 289, 289, 289, 289, 289, 289, 289, 289, 289, 291, 293, 295, 299, 300, 300, 301, 301, 301, 304, 308, 309, 309, 309, 309, 309, 309, 317, 318, 318, 318, 318, 318, 318, 320, 321, 321, 323, 323, 325, 325, 325, 325, 325, 325, 325, 325, 325, 325, 325, 325, 325, 325, 325, 326, 327, 333, 334, 335, 336, 337, 337, 337, 337, 338, 343, 344, 347, 359, 359, 360, 360, 363, 363, 364, 364, 364, 364, 365, 380, 388, 392, 396, 402, 402, 405, 416, 418, 419, 419, 419, 419, 419, 419, 419, 419, 419, 419, 424, 426, 426, 427, 427, 427, 427, 427, 427, 427, 427, 427, 427, 427, 427, 427, 428, 430, 433, 434, 435, 443, 444, 444, 444, 455, 455, 455, 462, 465, 474, 475, 475, 475, 475, 476, 482, 483, 489, 491, 491, 491, 491, 492, 492, 499, 505, 509, 509, 516, 516, 517, 517, 517, 521, 524, 527, 529, 530, 530, 530, 530, 531, 535, 541, 541, 543, 543, 546, 548, 548, 548, 548, 548, 548, 565, 566, 567, 577, 577, 578, 579, 579, 584, 586, 588, 590, 590, 591, 592, 595, 597, 597, 598, 598, 606, 606, 607, 608, 610, 610, 610, 611, 614, 614, 614, 614, 619, 619, 619, 623, 623, 624, 633, 633, 638, 644, 644, 646, 646, 646, 646, 646, 648, 648, 651, 652, 652, 652, 652, 652, 652, 662, 662, 662, 662, 663, 663, 663, 666, 669, 681, 683, 686, 686, 687, 689, 693, 693, 698, 700, 700, 701, 703, 707, 710, 711, 715, 718, 731, 733, 741, 745, 746, 746, 746, 746, 746, 749, 753, 753, 756, 763, 771, 775, 775, 775, 775, 782, 787, 794, 794, 800, 804, 805, 805, 807, 809, 809, 809, 809, 810, 810, 813, 815, 816, 824, 826, 826, 828, 829, 830, 830, 830, 830, 830, 830, 834, 840, 840, 840, 847, 847, 847, 847, 847, 847, 852, 852, 853, 853, 853, 853, 853, 853, 853, 861, 864, 864, 864, 865, 865, 867, 868, 871, 874, 876, 876, 888, 892, 896, 896, 896, 896, 896, 896, 898, 902, 903, 905, 906, 908, 916, 917, 919, 919, 920, 929, 931, 933, 936, 937, 937, 937, 937, 937, 937, 937, 941, 941, 944, 947, 948, 949, 949, 949, 949, 949, 949, 949, 949, 949, 949, 949, 949, 949, 949, 949, 949, 949, 949, 949, 949, 949, 949, 949, 949, 949, 949, 949, 949, 949, 949, 949, 949, 949, 949, 949, 949, 949, 949, 949, 949, 949, 949, 949, 949, 949, 949, 949, 949, 949, 949, 949, 949, 949, 949, 949, 949, 949, 949, 949, 949, 949, 949, 949, 949, 949, 949, 949, 949, 949, 949, 949, 949, 949, 949, 949, 949, 949, 949, 949, 949, 949, 949, 949, 949, 949, 949, 949, 949, 949, 949, 949, 949, 949, 949, 949, 949, 949, 949, 949, 949, 949, 949, 949, 949, 949, 949, 949, 949, 949, 949, 950, 950, 950, 950, 952, 952, 955, 956, 956, 964, 964, 967, 967, 967, 977, 1000, 1001, 1001, 1002, 1011, 1017, 1020, 1020, 1022, 1026, 1026, 1028, 1028, 1028, 1028, 1030, 1035]\n"
          ],
          "name": "stdout"
        }
      ]
    },
    {
      "cell_type": "code",
      "metadata": {
        "id": "XIC4zufnMxtq",
        "colab_type": "code",
        "colab": {
          "base_uri": "https://localhost:8080/",
          "height": 51
        },
        "outputId": "dcc1e5c8-b2d3-4897-98fa-49e70df0efc7"
      },
      "source": [
        "correct_num = 0\n",
        "\n",
        "for i in range(0, len(standard_list)):\n",
        "  if predict_list[i] == standard_list[i]:\n",
        "    correct_num = correct_num+1\n",
        "  else:\n",
        "    pass\n",
        "print(correct_num)\n",
        "\n",
        "predict_accuracy = correct_num/len(predict_list)\n",
        "print(predict_accuracy)"
      ],
      "execution_count": 47,
      "outputs": [
        {
          "output_type": "stream",
          "text": [
            "579\n",
            "0.6678200692041523\n"
          ],
          "name": "stdout"
        }
      ]
    },
    {
      "cell_type": "code",
      "metadata": {
        "id": "zlKMHp1CIaRJ",
        "colab_type": "code",
        "colab": {}
      },
      "source": [
        ""
      ],
      "execution_count": 0,
      "outputs": []
    }
  ]
}