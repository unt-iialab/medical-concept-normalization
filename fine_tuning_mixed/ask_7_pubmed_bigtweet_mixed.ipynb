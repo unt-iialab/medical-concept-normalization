{
  "nbformat": 4,
  "nbformat_minor": 0,
  "metadata": {
    "colab": {
      "name": "ask_7_pubmed_bigtweet_mixed.ipynb",
      "provenance": [],
      "collapsed_sections": [],
      "toc_visible": true,
      "include_colab_link": true
    },
    "kernelspec": {
      "name": "python3",
      "display_name": "Python 3"
    },
    "accelerator": "TPU"
  },
  "cells": [
    {
      "cell_type": "markdown",
      "metadata": {
        "id": "view-in-github",
        "colab_type": "text"
      },
      "source": [
        "<a href=\"https://colab.research.google.com/github/unt-iialab/medical-concept-normalization/blob/master/fine_tuning_mixed/ask_7_pubmed_bigtweet_mixed.ipynb\" target=\"_parent\"><img src=\"https://colab.research.google.com/assets/colab-badge.svg\" alt=\"Open In Colab\"/></a>"
      ]
    },
    {
      "cell_type": "code",
      "metadata": {
        "id": "adSi6i2-dWxy",
        "colab_type": "code",
        "colab": {}
      },
      "source": [
        "import os"
      ],
      "execution_count": 0,
      "outputs": []
    },
    {
      "cell_type": "code",
      "metadata": {
        "id": "E7xYCRGPjd9B",
        "colab_type": "code",
        "colab": {}
      },
      "source": [
        "base_dir = 'medical-concept-normalization'"
      ],
      "execution_count": 0,
      "outputs": []
    },
    {
      "cell_type": "code",
      "metadata": {
        "id": "yvIW3aUDjYNS",
        "colab_type": "code",
        "colab": {}
      },
      "source": [
        "os.mkdir(base_dir)"
      ],
      "execution_count": 0,
      "outputs": []
    },
    {
      "cell_type": "code",
      "metadata": {
        "id": "es-FFLlfk6SG",
        "colab_type": "code",
        "colab": {}
      },
      "source": [
        "os.mkdir('medical-concept-normalization/data_collection')"
      ],
      "execution_count": 0,
      "outputs": []
    },
    {
      "cell_type": "markdown",
      "metadata": {
        "id": "0R-Guw_VoJXm",
        "colab_type": "text"
      },
      "source": [
        "**Install fastai and clone the fastai for text classification**\n",
        "\n"
      ]
    },
    {
      "cell_type": "code",
      "metadata": {
        "id": "QVZa3Z0PmHFH",
        "colab_type": "code",
        "outputId": "7d4b0c75-e508-4957-fff0-496a27308003",
        "colab": {
          "base_uri": "https://localhost:8080/",
          "height": 119
        }
      },
      "source": [
        "!curl https://course-v3.fast.ai/setup/colab | bash"
      ],
      "execution_count": 5,
      "outputs": [
        {
          "output_type": "stream",
          "text": [
            "  % Total    % Received % Xferd  Average Speed   Time    Time     Time  Current\n",
            "                                 Dload  Upload   Total   Spent    Left  Speed\n",
            "  0     0    0     0    0     0      0      0 --:--:-- --:--:-- --:--:--     0bash: line 1: syntax error near unexpected token `newline'\n",
            "bash: line 1: `<!DOCTYPE html>'\n",
            "100  9115  100  9115    0     0  28395      0 --:--:-- --:--:-- --:--:-- 28395\n",
            "curl: (23) Failed writing body (288 != 1211)\n"
          ],
          "name": "stdout"
        }
      ]
    },
    {
      "cell_type": "code",
      "metadata": {
        "id": "_FBFFEBrmJC0",
        "colab_type": "code",
        "outputId": "a78fa8c7-6ead-4d17-9c6c-f93456ac1f77",
        "colab": {
          "base_uri": "https://localhost:8080/",
          "height": 85
        }
      },
      "source": [
        "!git clone https://github.com/wshuyi/demo-nlp-classification-fastai.git"
      ],
      "execution_count": 6,
      "outputs": [
        {
          "output_type": "stream",
          "text": [
            "Cloning into 'demo-nlp-classification-fastai'...\n",
            "remote: Enumerating objects: 9, done.\u001b[K\n",
            "remote: Total 9 (delta 0), reused 0 (delta 0), pack-reused 9\u001b[K\n",
            "Unpacking objects: 100% (9/9), done.\n"
          ],
          "name": "stdout"
        }
      ]
    },
    {
      "cell_type": "code",
      "metadata": {
        "id": "66zfh_JqmWMU",
        "colab_type": "code",
        "colab": {}
      },
      "source": [
        "from fastai import *\n",
        "from fastai.text import *"
      ],
      "execution_count": 0,
      "outputs": []
    },
    {
      "cell_type": "markdown",
      "metadata": {
        "id": "mNIw-yALdBU9",
        "colab_type": "text"
      },
      "source": [
        "**Set the path of the data collections**"
      ]
    },
    {
      "cell_type": "code",
      "metadata": {
        "id": "pzH7VMh4mqCL",
        "colab_type": "code",
        "colab": {}
      },
      "source": [
        "path = Path('medical-concept-normalization/data_collection')"
      ],
      "execution_count": 0,
      "outputs": []
    },
    {
      "cell_type": "code",
      "metadata": {
        "id": "b8fjI6yyn4aS",
        "colab_type": "code",
        "colab": {}
      },
      "source": [
        "# training data set\n",
        "\n",
        "train_csv = path/'AskAPatient.fold-7.train.csv'\n",
        "train = pd.read_csv(train_csv, header=None)\n",
        "#train.head()\n",
        "#train.info()"
      ],
      "execution_count": 0,
      "outputs": []
    },
    {
      "cell_type": "code",
      "metadata": {
        "id": "Hmlr-bAorfHd",
        "colab_type": "code",
        "outputId": "74d20547-b2eb-4a48-e033-a715c087d114",
        "colab": {
          "base_uri": "https://localhost:8080/",
          "height": 204
        }
      },
      "source": [
        "# validating data set\n",
        "\n",
        "valid = pd.read_csv(path/\"AskAPatient.fold-7.validation.csv\",header=None)\n",
        "valid.head()"
      ],
      "execution_count": 11,
      "outputs": [
        {
          "output_type": "execute_result",
          "data": {
            "text/html": [
              "<div>\n",
              "<style scoped>\n",
              "    .dataframe tbody tr th:only-of-type {\n",
              "        vertical-align: middle;\n",
              "    }\n",
              "\n",
              "    .dataframe tbody tr th {\n",
              "        vertical-align: top;\n",
              "    }\n",
              "\n",
              "    .dataframe thead th {\n",
              "        text-align: right;\n",
              "    }\n",
              "</style>\n",
              "<table border=\"1\" class=\"dataframe\">\n",
              "  <thead>\n",
              "    <tr style=\"text-align: right;\">\n",
              "      <th></th>\n",
              "      <th>0</th>\n",
              "      <th>1</th>\n",
              "    </tr>\n",
              "  </thead>\n",
              "  <tbody>\n",
              "    <tr>\n",
              "      <th>0</th>\n",
              "      <td>0</td>\n",
              "      <td>fear</td>\n",
              "    </tr>\n",
              "    <tr>\n",
              "      <th>1</th>\n",
              "      <td>2</td>\n",
              "      <td>heel pain</td>\n",
              "    </tr>\n",
              "    <tr>\n",
              "      <th>2</th>\n",
              "      <td>4</td>\n",
              "      <td>Discoloration of skin [blotchy] on the neck</td>\n",
              "    </tr>\n",
              "    <tr>\n",
              "      <th>3</th>\n",
              "      <td>8</td>\n",
              "      <td>arthritis</td>\n",
              "    </tr>\n",
              "    <tr>\n",
              "      <th>4</th>\n",
              "      <td>8</td>\n",
              "      <td>arthritis</td>\n",
              "    </tr>\n",
              "  </tbody>\n",
              "</table>\n",
              "</div>"
            ],
            "text/plain": [
              "   0                                            1\n",
              "0  0                                         fear\n",
              "1  2                                    heel pain\n",
              "2  4  Discoloration of skin [blotchy] on the neck\n",
              "3  8                                    arthritis\n",
              "4  8                                    arthritis"
            ]
          },
          "metadata": {
            "tags": []
          },
          "execution_count": 11
        }
      ]
    },
    {
      "cell_type": "code",
      "metadata": {
        "id": "cOza9dfSsBud",
        "colab_type": "code",
        "outputId": "c3410aa4-a9bf-4309-a24c-46343a25c7d8",
        "colab": {
          "base_uri": "https://localhost:8080/",
          "height": 204
        }
      },
      "source": [
        "# testing data set\n",
        "\n",
        "test = pd.read_csv(path/\"AskAPatient.fold-7.test.csv\",header=None)\n",
        "test.head()"
      ],
      "execution_count": 12,
      "outputs": [
        {
          "output_type": "execute_result",
          "data": {
            "text/html": [
              "<div>\n",
              "<style scoped>\n",
              "    .dataframe tbody tr th:only-of-type {\n",
              "        vertical-align: middle;\n",
              "    }\n",
              "\n",
              "    .dataframe tbody tr th {\n",
              "        vertical-align: top;\n",
              "    }\n",
              "\n",
              "    .dataframe thead th {\n",
              "        text-align: right;\n",
              "    }\n",
              "</style>\n",
              "<table border=\"1\" class=\"dataframe\">\n",
              "  <thead>\n",
              "    <tr style=\"text-align: right;\">\n",
              "      <th></th>\n",
              "      <th>0</th>\n",
              "      <th>1</th>\n",
              "    </tr>\n",
              "  </thead>\n",
              "  <tbody>\n",
              "    <tr>\n",
              "      <th>0</th>\n",
              "      <td>3</td>\n",
              "      <td>joints poping and cracking</td>\n",
              "    </tr>\n",
              "    <tr>\n",
              "      <th>1</th>\n",
              "      <td>8</td>\n",
              "      <td>Arthritis</td>\n",
              "    </tr>\n",
              "    <tr>\n",
              "      <th>2</th>\n",
              "      <td>8</td>\n",
              "      <td>arthritis</td>\n",
              "    </tr>\n",
              "    <tr>\n",
              "      <th>3</th>\n",
              "      <td>8</td>\n",
              "      <td>arthritis</td>\n",
              "    </tr>\n",
              "    <tr>\n",
              "      <th>4</th>\n",
              "      <td>8</td>\n",
              "      <td>arthritis</td>\n",
              "    </tr>\n",
              "  </tbody>\n",
              "</table>\n",
              "</div>"
            ],
            "text/plain": [
              "   0                           1\n",
              "0  3  joints poping and cracking\n",
              "1  8                   Arthritis\n",
              "2  8                   arthritis\n",
              "3  8                   arthritis\n",
              "4  8                   arthritis"
            ]
          },
          "metadata": {
            "tags": []
          },
          "execution_count": 12
        }
      ]
    },
    {
      "cell_type": "code",
      "metadata": {
        "id": "Vo-YNvVYoaH6",
        "colab_type": "code",
        "outputId": "43d95d88-2fe6-450e-de9a-ef20e43ee597",
        "colab": {
          "base_uri": "https://localhost:8080/",
          "height": 17
        }
      },
      "source": [
        "# Creating DataBunch for language modelling\n",
        "\n",
        "data_lm = TextLMDataBunch.from_csv(path, 'fine_tuning_language_model_pubmed_bigtweet_mixed.csv')"
      ],
      "execution_count": 13,
      "outputs": [
        {
          "output_type": "display_data",
          "data": {
            "text/html": [
              ""
            ],
            "text/plain": [
              "<IPython.core.display.HTML object>"
            ]
          },
          "metadata": {
            "tags": []
          }
        },
        {
          "output_type": "display_data",
          "data": {
            "text/html": [
              ""
            ],
            "text/plain": [
              "<IPython.core.display.HTML object>"
            ]
          },
          "metadata": {
            "tags": []
          }
        }
      ]
    },
    {
      "cell_type": "code",
      "metadata": {
        "id": "qcV-9kMnNLBf",
        "colab_type": "code",
        "colab": {}
      },
      "source": [
        ""
      ],
      "execution_count": 0,
      "outputs": []
    },
    {
      "cell_type": "code",
      "metadata": {
        "id": "1ScY9afDsnvE",
        "colab_type": "code",
        "colab": {}
      },
      "source": [
        "# Creating DataBunch for classification\n",
        "\n",
        "# data_clas = TextClasDataBunch.from_df(path, train, valid, test, vocab=data_lm.train_ds.vocab, bs=128)"
      ],
      "execution_count": 0,
      "outputs": []
    },
    {
      "cell_type": "code",
      "metadata": {
        "id": "gzrSdQcvey9p",
        "colab_type": "code",
        "outputId": "5da8b8c7-a478-4bfd-ed6a-96d743f76735",
        "colab": {
          "base_uri": "https://localhost:8080/",
          "height": 17
        }
      },
      "source": [
        "data_clas = TextClasDataBunch.from_df(path, train, valid, vocab=data_lm.train_ds.vocab, bs=128)"
      ],
      "execution_count": 15,
      "outputs": [
        {
          "output_type": "display_data",
          "data": {
            "text/html": [
              ""
            ],
            "text/plain": [
              "<IPython.core.display.HTML object>"
            ]
          },
          "metadata": {
            "tags": []
          }
        },
        {
          "output_type": "display_data",
          "data": {
            "text/html": [
              ""
            ],
            "text/plain": [
              "<IPython.core.display.HTML object>"
            ]
          },
          "metadata": {
            "tags": []
          }
        }
      ]
    },
    {
      "cell_type": "code",
      "metadata": {
        "id": "MD27Tf0Ke3ou",
        "colab_type": "code",
        "outputId": "1407d87e-c190-429e-d12d-c2a6656cbf33",
        "colab": {
          "base_uri": "https://localhost:8080/",
          "height": 17
        }
      },
      "source": [
        "data_clas.add_test(test,label=0)\n"
      ],
      "execution_count": 16,
      "outputs": [
        {
          "output_type": "display_data",
          "data": {
            "text/html": [
              ""
            ],
            "text/plain": [
              "<IPython.core.display.HTML object>"
            ]
          },
          "metadata": {
            "tags": []
          }
        }
      ]
    },
    {
      "cell_type": "code",
      "metadata": {
        "id": "-dpjnk_rstwk",
        "colab_type": "code",
        "colab": {}
      },
      "source": [
        "data_lm.save()\n",
        "data_clas.save()"
      ],
      "execution_count": 0,
      "outputs": []
    },
    {
      "cell_type": "code",
      "metadata": {
        "id": "4OkiJa36sw5s",
        "colab_type": "code",
        "colab": {}
      },
      "source": [
        "data_lm.train_ds.vocab.itos"
      ],
      "execution_count": 0,
      "outputs": []
    },
    {
      "cell_type": "code",
      "metadata": {
        "id": "yPWr03mls3VT",
        "colab_type": "code",
        "outputId": "23c65786-a044-43ad-ad0f-a2a15514f1ba",
        "colab": {
          "base_uri": "https://localhost:8080/",
          "height": 17
        }
      },
      "source": [
        "model_path = path/'models'\n",
        "model_path.mkdir(exist_ok=True)\n",
        "url = 'http://files.fast.ai/models/wt103_v1/'\n",
        "download_url(f'{url}lstm_wt103.pth', model_path/'lstm_wt103.pth')\n",
        "download_url(f'{url}itos_wt103.pkl', model_path/'itos_wt103.pkl')"
      ],
      "execution_count": 19,
      "outputs": [
        {
          "output_type": "display_data",
          "data": {
            "text/html": [
              ""
            ],
            "text/plain": [
              "<IPython.core.display.HTML object>"
            ]
          },
          "metadata": {
            "tags": []
          }
        },
        {
          "output_type": "display_data",
          "data": {
            "text/html": [
              ""
            ],
            "text/plain": [
              "<IPython.core.display.HTML object>"
            ]
          },
          "metadata": {
            "tags": []
          }
        }
      ]
    },
    {
      "cell_type": "code",
      "metadata": {
        "id": "JRzvWg8RtGGr",
        "colab_type": "code",
        "outputId": "0ca1e845-89f8-4bf4-8af5-a7c66be38f77",
        "colab": {
          "base_uri": "https://localhost:8080/",
          "height": 34
        }
      },
      "source": [
        "learn = language_model_learner(data_lm, AWD_LSTM, drop_mult=0.5)"
      ],
      "execution_count": 20,
      "outputs": [
        {
          "output_type": "stream",
          "text": [
            "Downloading https://s3.amazonaws.com/fast-ai-modelzoo/wt103-fwd\n"
          ],
          "name": "stdout"
        },
        {
          "output_type": "display_data",
          "data": {
            "text/html": [
              ""
            ],
            "text/plain": [
              "<IPython.core.display.HTML object>"
            ]
          },
          "metadata": {
            "tags": []
          }
        }
      ]
    },
    {
      "cell_type": "code",
      "metadata": {
        "id": "xKK7GeBev7Xn",
        "colab_type": "code",
        "outputId": "ed85cfec-41db-4220-c1a9-206341fa4273",
        "colab": {
          "base_uri": "https://localhost:8080/",
          "height": 80
        }
      },
      "source": [
        "learn.fit_one_cycle(1, 1e-2)"
      ],
      "execution_count": 21,
      "outputs": [
        {
          "output_type": "display_data",
          "data": {
            "text/html": [
              "<table border=\"1\" class=\"dataframe\">\n",
              "  <thead>\n",
              "    <tr style=\"text-align: left;\">\n",
              "      <th>epoch</th>\n",
              "      <th>train_loss</th>\n",
              "      <th>valid_loss</th>\n",
              "      <th>accuracy</th>\n",
              "      <th>time</th>\n",
              "    </tr>\n",
              "  </thead>\n",
              "  <tbody>\n",
              "    <tr>\n",
              "      <td>0</td>\n",
              "      <td>5.229779</td>\n",
              "      <td>4.611713</td>\n",
              "      <td>0.253199</td>\n",
              "      <td>16:03</td>\n",
              "    </tr>\n",
              "  </tbody>\n",
              "</table>"
            ],
            "text/plain": [
              "<IPython.core.display.HTML object>"
            ]
          },
          "metadata": {
            "tags": []
          }
        }
      ]
    },
    {
      "cell_type": "code",
      "metadata": {
        "id": "iB7rHGQCwd12",
        "colab_type": "code",
        "colab": {
          "base_uri": "https://localhost:8080/",
          "height": 80
        },
        "outputId": "1913e984-9b77-4048-c26c-2fa7f5c5a956"
      },
      "source": [
        "learn.fit_one_cycle(1, 1e-2)"
      ],
      "execution_count": 22,
      "outputs": [
        {
          "output_type": "display_data",
          "data": {
            "text/html": [
              "<table border=\"1\" class=\"dataframe\">\n",
              "  <thead>\n",
              "    <tr style=\"text-align: left;\">\n",
              "      <th>epoch</th>\n",
              "      <th>train_loss</th>\n",
              "      <th>valid_loss</th>\n",
              "      <th>accuracy</th>\n",
              "      <th>time</th>\n",
              "    </tr>\n",
              "  </thead>\n",
              "  <tbody>\n",
              "    <tr>\n",
              "      <td>0</td>\n",
              "      <td>4.484176</td>\n",
              "      <td>4.259561</td>\n",
              "      <td>0.286086</td>\n",
              "      <td>16:01</td>\n",
              "    </tr>\n",
              "  </tbody>\n",
              "</table>"
            ],
            "text/plain": [
              "<IPython.core.display.HTML object>"
            ]
          },
          "metadata": {
            "tags": []
          }
        }
      ]
    },
    {
      "cell_type": "code",
      "metadata": {
        "id": "_BnSuAeCwkBe",
        "colab_type": "code",
        "colab": {
          "base_uri": "https://localhost:8080/",
          "height": 80
        },
        "outputId": "7354383a-9989-4e9f-c95c-722d08b89d21"
      },
      "source": [
        "learn.fit_one_cycle(1, 1e-3)"
      ],
      "execution_count": 23,
      "outputs": [
        {
          "output_type": "display_data",
          "data": {
            "text/html": [
              "<table border=\"1\" class=\"dataframe\">\n",
              "  <thead>\n",
              "    <tr style=\"text-align: left;\">\n",
              "      <th>epoch</th>\n",
              "      <th>train_loss</th>\n",
              "      <th>valid_loss</th>\n",
              "      <th>accuracy</th>\n",
              "      <th>time</th>\n",
              "    </tr>\n",
              "  </thead>\n",
              "  <tbody>\n",
              "    <tr>\n",
              "      <td>0</td>\n",
              "      <td>4.164916</td>\n",
              "      <td>4.219141</td>\n",
              "      <td>0.290551</td>\n",
              "      <td>16:06</td>\n",
              "    </tr>\n",
              "  </tbody>\n",
              "</table>"
            ],
            "text/plain": [
              "<IPython.core.display.HTML object>"
            ]
          },
          "metadata": {
            "tags": []
          }
        }
      ]
    },
    {
      "cell_type": "code",
      "metadata": {
        "id": "MuTm-RFjwrEX",
        "colab_type": "code",
        "colab": {
          "base_uri": "https://localhost:8080/",
          "height": 80
        },
        "outputId": "d59753f2-051c-4a2a-f91f-8bc1a7293b16"
      },
      "source": [
        "learn.fit_one_cycle(1, 1e-3)"
      ],
      "execution_count": 24,
      "outputs": [
        {
          "output_type": "display_data",
          "data": {
            "text/html": [
              "<table border=\"1\" class=\"dataframe\">\n",
              "  <thead>\n",
              "    <tr style=\"text-align: left;\">\n",
              "      <th>epoch</th>\n",
              "      <th>train_loss</th>\n",
              "      <th>valid_loss</th>\n",
              "      <th>accuracy</th>\n",
              "      <th>time</th>\n",
              "    </tr>\n",
              "  </thead>\n",
              "  <tbody>\n",
              "    <tr>\n",
              "      <td>0</td>\n",
              "      <td>4.119092</td>\n",
              "      <td>4.188408</td>\n",
              "      <td>0.293880</td>\n",
              "      <td>16:02</td>\n",
              "    </tr>\n",
              "  </tbody>\n",
              "</table>"
            ],
            "text/plain": [
              "<IPython.core.display.HTML object>"
            ]
          },
          "metadata": {
            "tags": []
          }
        }
      ]
    },
    {
      "cell_type": "code",
      "metadata": {
        "id": "1Er2ExO8wr7Y",
        "colab_type": "code",
        "colab": {}
      },
      "source": [
        "learn.save_encoder('bigtweet_fold0_first')"
      ],
      "execution_count": 0,
      "outputs": []
    },
    {
      "cell_type": "code",
      "metadata": {
        "id": "z52cZs2qwvad",
        "colab_type": "code",
        "colab": {
          "base_uri": "https://localhost:8080/",
          "height": 80
        },
        "outputId": "519c6458-8c2f-4762-8e78-d0958d0d5b0c"
      },
      "source": [
        "learn = text_classifier_learner(data_clas,AWD_LSTM, drop_mult=0.5)\n",
        "learn.load_encoder('bigtweet_fold0_first')\n",
        "learn.fit_one_cycle(1, 1e-2)"
      ],
      "execution_count": 26,
      "outputs": [
        {
          "output_type": "display_data",
          "data": {
            "text/html": [
              "<table border=\"1\" class=\"dataframe\">\n",
              "  <thead>\n",
              "    <tr style=\"text-align: left;\">\n",
              "      <th>epoch</th>\n",
              "      <th>train_loss</th>\n",
              "      <th>valid_loss</th>\n",
              "      <th>accuracy</th>\n",
              "      <th>time</th>\n",
              "    </tr>\n",
              "  </thead>\n",
              "  <tbody>\n",
              "    <tr>\n",
              "      <td>0</td>\n",
              "      <td>3.668896</td>\n",
              "      <td>3.596820</td>\n",
              "      <td>0.397997</td>\n",
              "      <td>01:07</td>\n",
              "    </tr>\n",
              "  </tbody>\n",
              "</table>"
            ],
            "text/plain": [
              "<IPython.core.display.HTML object>"
            ]
          },
          "metadata": {
            "tags": []
          }
        }
      ]
    },
    {
      "cell_type": "code",
      "metadata": {
        "id": "ImwQP1PJwzxd",
        "colab_type": "code",
        "colab": {
          "base_uri": "https://localhost:8080/",
          "height": 80
        },
        "outputId": "3ef1e455-4a17-4d57-98c2-61dff94a2c7a"
      },
      "source": [
        "learn.freeze_to(-2)\n",
        "learn.fit_one_cycle(1, slice(5e-3/2., 5e-3))"
      ],
      "execution_count": 27,
      "outputs": [
        {
          "output_type": "display_data",
          "data": {
            "text/html": [
              "<table border=\"1\" class=\"dataframe\">\n",
              "  <thead>\n",
              "    <tr style=\"text-align: left;\">\n",
              "      <th>epoch</th>\n",
              "      <th>train_loss</th>\n",
              "      <th>valid_loss</th>\n",
              "      <th>accuracy</th>\n",
              "      <th>time</th>\n",
              "    </tr>\n",
              "  </thead>\n",
              "  <tbody>\n",
              "    <tr>\n",
              "      <td>0</td>\n",
              "      <td>2.739111</td>\n",
              "      <td>3.111195</td>\n",
              "      <td>0.468085</td>\n",
              "      <td>01:16</td>\n",
              "    </tr>\n",
              "  </tbody>\n",
              "</table>"
            ],
            "text/plain": [
              "<IPython.core.display.HTML object>"
            ]
          },
          "metadata": {
            "tags": []
          }
        }
      ]
    },
    {
      "cell_type": "code",
      "metadata": {
        "id": "Owff_BJXw53u",
        "colab_type": "code",
        "colab": {
          "base_uri": "https://localhost:8080/",
          "height": 80
        },
        "outputId": "30653c4e-be20-4fdd-cdca-c0ea938e2972"
      },
      "source": [
        "learn.unfreeze()\n",
        "learn.fit_one_cycle(1, slice(2e-3/100, 2e-3))"
      ],
      "execution_count": 28,
      "outputs": [
        {
          "output_type": "display_data",
          "data": {
            "text/html": [
              "<table border=\"1\" class=\"dataframe\">\n",
              "  <thead>\n",
              "    <tr style=\"text-align: left;\">\n",
              "      <th>epoch</th>\n",
              "      <th>train_loss</th>\n",
              "      <th>valid_loss</th>\n",
              "      <th>accuracy</th>\n",
              "      <th>time</th>\n",
              "    </tr>\n",
              "  </thead>\n",
              "  <tbody>\n",
              "    <tr>\n",
              "      <td>0</td>\n",
              "      <td>2.319921</td>\n",
              "      <td>2.729618</td>\n",
              "      <td>0.549437</td>\n",
              "      <td>03:28</td>\n",
              "    </tr>\n",
              "  </tbody>\n",
              "</table>"
            ],
            "text/plain": [
              "<IPython.core.display.HTML object>"
            ]
          },
          "metadata": {
            "tags": []
          }
        }
      ]
    },
    {
      "cell_type": "code",
      "metadata": {
        "id": "lqAyu56V8Waq",
        "colab_type": "code",
        "colab": {
          "base_uri": "https://localhost:8080/",
          "height": 111
        },
        "outputId": "5d939b4c-d464-4c9d-cfb8-0c38dd9bbaec"
      },
      "source": [
        "learn.fit_one_cycle(2, slice(2e-3/100, 2e-3))"
      ],
      "execution_count": 29,
      "outputs": [
        {
          "output_type": "display_data",
          "data": {
            "text/html": [
              "<table border=\"1\" class=\"dataframe\">\n",
              "  <thead>\n",
              "    <tr style=\"text-align: left;\">\n",
              "      <th>epoch</th>\n",
              "      <th>train_loss</th>\n",
              "      <th>valid_loss</th>\n",
              "      <th>accuracy</th>\n",
              "      <th>time</th>\n",
              "    </tr>\n",
              "  </thead>\n",
              "  <tbody>\n",
              "    <tr>\n",
              "      <td>0</td>\n",
              "      <td>2.083201</td>\n",
              "      <td>2.418037</td>\n",
              "      <td>0.593242</td>\n",
              "      <td>03:28</td>\n",
              "    </tr>\n",
              "    <tr>\n",
              "      <td>1</td>\n",
              "      <td>1.811881</td>\n",
              "      <td>2.291553</td>\n",
              "      <td>0.607009</td>\n",
              "      <td>03:29</td>\n",
              "    </tr>\n",
              "  </tbody>\n",
              "</table>"
            ],
            "text/plain": [
              "<IPython.core.display.HTML object>"
            ]
          },
          "metadata": {
            "tags": []
          }
        }
      ]
    },
    {
      "cell_type": "code",
      "metadata": {
        "id": "a7I1xMRp8bUd",
        "colab_type": "code",
        "colab": {
          "base_uri": "https://localhost:8080/",
          "height": 111
        },
        "outputId": "a8c4f3d2-6c51-4a0a-e41c-df24b83a5814"
      },
      "source": [
        "learn.fit_one_cycle(2, slice(2e-3/100, 2e-3))"
      ],
      "execution_count": 30,
      "outputs": [
        {
          "output_type": "display_data",
          "data": {
            "text/html": [
              "<table border=\"1\" class=\"dataframe\">\n",
              "  <thead>\n",
              "    <tr style=\"text-align: left;\">\n",
              "      <th>epoch</th>\n",
              "      <th>train_loss</th>\n",
              "      <th>valid_loss</th>\n",
              "      <th>accuracy</th>\n",
              "      <th>time</th>\n",
              "    </tr>\n",
              "  </thead>\n",
              "  <tbody>\n",
              "    <tr>\n",
              "      <td>0</td>\n",
              "      <td>1.836712</td>\n",
              "      <td>2.154931</td>\n",
              "      <td>0.629537</td>\n",
              "      <td>03:26</td>\n",
              "    </tr>\n",
              "    <tr>\n",
              "      <td>1</td>\n",
              "      <td>1.632971</td>\n",
              "      <td>2.076066</td>\n",
              "      <td>0.643304</td>\n",
              "      <td>03:19</td>\n",
              "    </tr>\n",
              "  </tbody>\n",
              "</table>"
            ],
            "text/plain": [
              "<IPython.core.display.HTML object>"
            ]
          },
          "metadata": {
            "tags": []
          }
        }
      ]
    },
    {
      "cell_type": "code",
      "metadata": {
        "id": "UAnti-XmGVfO",
        "colab_type": "code",
        "colab": {
          "base_uri": "https://localhost:8080/",
          "height": 111
        },
        "outputId": "6aef9af1-ae8c-4c04-c2a4-69545044a220"
      },
      "source": [
        "learn.fit_one_cycle(2, slice(2e-3/100, 2e-3))"
      ],
      "execution_count": 31,
      "outputs": [
        {
          "output_type": "display_data",
          "data": {
            "text/html": [
              "<table border=\"1\" class=\"dataframe\">\n",
              "  <thead>\n",
              "    <tr style=\"text-align: left;\">\n",
              "      <th>epoch</th>\n",
              "      <th>train_loss</th>\n",
              "      <th>valid_loss</th>\n",
              "      <th>accuracy</th>\n",
              "      <th>time</th>\n",
              "    </tr>\n",
              "  </thead>\n",
              "  <tbody>\n",
              "    <tr>\n",
              "      <td>0</td>\n",
              "      <td>1.510232</td>\n",
              "      <td>2.000531</td>\n",
              "      <td>0.647059</td>\n",
              "      <td>03:30</td>\n",
              "    </tr>\n",
              "    <tr>\n",
              "      <td>1</td>\n",
              "      <td>1.421073</td>\n",
              "      <td>1.943014</td>\n",
              "      <td>0.667084</td>\n",
              "      <td>03:25</td>\n",
              "    </tr>\n",
              "  </tbody>\n",
              "</table>"
            ],
            "text/plain": [
              "<IPython.core.display.HTML object>"
            ]
          },
          "metadata": {
            "tags": []
          }
        }
      ]
    },
    {
      "cell_type": "code",
      "metadata": {
        "id": "bIft7W25GwSu",
        "colab_type": "code",
        "colab": {
          "base_uri": "https://localhost:8080/",
          "height": 111
        },
        "outputId": "491a9a4a-f135-4c47-95ee-8363bab70e8a"
      },
      "source": [
        "learn.fit_one_cycle(2, slice(2e-3/100, 2e-3))"
      ],
      "execution_count": 32,
      "outputs": [
        {
          "output_type": "display_data",
          "data": {
            "text/html": [
              "<table border=\"1\" class=\"dataframe\">\n",
              "  <thead>\n",
              "    <tr style=\"text-align: left;\">\n",
              "      <th>epoch</th>\n",
              "      <th>train_loss</th>\n",
              "      <th>valid_loss</th>\n",
              "      <th>accuracy</th>\n",
              "      <th>time</th>\n",
              "    </tr>\n",
              "  </thead>\n",
              "  <tbody>\n",
              "    <tr>\n",
              "      <td>0</td>\n",
              "      <td>1.352685</td>\n",
              "      <td>1.941576</td>\n",
              "      <td>0.672090</td>\n",
              "      <td>03:28</td>\n",
              "    </tr>\n",
              "    <tr>\n",
              "      <td>1</td>\n",
              "      <td>1.284025</td>\n",
              "      <td>1.879637</td>\n",
              "      <td>0.675845</td>\n",
              "      <td>03:07</td>\n",
              "    </tr>\n",
              "  </tbody>\n",
              "</table>"
            ],
            "text/plain": [
              "<IPython.core.display.HTML object>"
            ]
          },
          "metadata": {
            "tags": []
          }
        }
      ]
    },
    {
      "cell_type": "code",
      "metadata": {
        "id": "EEHszVRvGyFt",
        "colab_type": "code",
        "colab": {
          "base_uri": "https://localhost:8080/",
          "height": 111
        },
        "outputId": "bc3f9be1-8ac8-49dd-cbfe-ead69865febc"
      },
      "source": [
        "learn.fit_one_cycle(2, slice(2e-3/100, 2e-3))"
      ],
      "execution_count": 33,
      "outputs": [
        {
          "output_type": "display_data",
          "data": {
            "text/html": [
              "<table border=\"1\" class=\"dataframe\">\n",
              "  <thead>\n",
              "    <tr style=\"text-align: left;\">\n",
              "      <th>epoch</th>\n",
              "      <th>train_loss</th>\n",
              "      <th>valid_loss</th>\n",
              "      <th>accuracy</th>\n",
              "      <th>time</th>\n",
              "    </tr>\n",
              "  </thead>\n",
              "  <tbody>\n",
              "    <tr>\n",
              "      <td>0</td>\n",
              "      <td>1.245826</td>\n",
              "      <td>1.898486</td>\n",
              "      <td>0.664581</td>\n",
              "      <td>03:28</td>\n",
              "    </tr>\n",
              "    <tr>\n",
              "      <td>1</td>\n",
              "      <td>1.141503</td>\n",
              "      <td>1.835892</td>\n",
              "      <td>0.687109</td>\n",
              "      <td>03:22</td>\n",
              "    </tr>\n",
              "  </tbody>\n",
              "</table>"
            ],
            "text/plain": [
              "<IPython.core.display.HTML object>"
            ]
          },
          "metadata": {
            "tags": []
          }
        }
      ]
    },
    {
      "cell_type": "code",
      "metadata": {
        "id": "XsHfrhCHG3dN",
        "colab_type": "code",
        "colab": {
          "base_uri": "https://localhost:8080/",
          "height": 173
        },
        "outputId": "7f3c50ab-8626-4a0b-fea7-db959c7b5d39"
      },
      "source": [
        "learn.fit_one_cycle(4, slice(2e-3/100, 2e-3))"
      ],
      "execution_count": 34,
      "outputs": [
        {
          "output_type": "display_data",
          "data": {
            "text/html": [
              "<table border=\"1\" class=\"dataframe\">\n",
              "  <thead>\n",
              "    <tr style=\"text-align: left;\">\n",
              "      <th>epoch</th>\n",
              "      <th>train_loss</th>\n",
              "      <th>valid_loss</th>\n",
              "      <th>accuracy</th>\n",
              "      <th>time</th>\n",
              "    </tr>\n",
              "  </thead>\n",
              "  <tbody>\n",
              "    <tr>\n",
              "      <td>0</td>\n",
              "      <td>1.114944</td>\n",
              "      <td>1.878213</td>\n",
              "      <td>0.668335</td>\n",
              "      <td>03:31</td>\n",
              "    </tr>\n",
              "    <tr>\n",
              "      <td>1</td>\n",
              "      <td>1.123592</td>\n",
              "      <td>1.798502</td>\n",
              "      <td>0.693367</td>\n",
              "      <td>03:28</td>\n",
              "    </tr>\n",
              "    <tr>\n",
              "      <td>2</td>\n",
              "      <td>1.006591</td>\n",
              "      <td>1.755694</td>\n",
              "      <td>0.708385</td>\n",
              "      <td>03:28</td>\n",
              "    </tr>\n",
              "    <tr>\n",
              "      <td>3</td>\n",
              "      <td>0.912243</td>\n",
              "      <td>1.733271</td>\n",
              "      <td>0.709637</td>\n",
              "      <td>03:23</td>\n",
              "    </tr>\n",
              "  </tbody>\n",
              "</table>"
            ],
            "text/plain": [
              "<IPython.core.display.HTML object>"
            ]
          },
          "metadata": {
            "tags": []
          }
        }
      ]
    },
    {
      "cell_type": "code",
      "metadata": {
        "id": "0Zsd99isb9EQ",
        "colab_type": "code",
        "colab": {
          "base_uri": "https://localhost:8080/",
          "height": 173
        },
        "outputId": "9917bb8e-32d2-4f77-c3a7-87e592cf1abb"
      },
      "source": [
        "learn.fit_one_cycle(4, slice(2e-3/100, 2e-3))"
      ],
      "execution_count": 35,
      "outputs": [
        {
          "output_type": "display_data",
          "data": {
            "text/html": [
              "<table border=\"1\" class=\"dataframe\">\n",
              "  <thead>\n",
              "    <tr style=\"text-align: left;\">\n",
              "      <th>epoch</th>\n",
              "      <th>train_loss</th>\n",
              "      <th>valid_loss</th>\n",
              "      <th>accuracy</th>\n",
              "      <th>time</th>\n",
              "    </tr>\n",
              "  </thead>\n",
              "  <tbody>\n",
              "    <tr>\n",
              "      <td>0</td>\n",
              "      <td>0.943442</td>\n",
              "      <td>1.790052</td>\n",
              "      <td>0.694618</td>\n",
              "      <td>03:16</td>\n",
              "    </tr>\n",
              "    <tr>\n",
              "      <td>1</td>\n",
              "      <td>1.006443</td>\n",
              "      <td>1.781883</td>\n",
              "      <td>0.700876</td>\n",
              "      <td>03:17</td>\n",
              "    </tr>\n",
              "    <tr>\n",
              "      <td>2</td>\n",
              "      <td>0.911307</td>\n",
              "      <td>1.755068</td>\n",
              "      <td>0.704631</td>\n",
              "      <td>03:17</td>\n",
              "    </tr>\n",
              "    <tr>\n",
              "      <td>3</td>\n",
              "      <td>0.857792</td>\n",
              "      <td>1.742686</td>\n",
              "      <td>0.707134</td>\n",
              "      <td>03:32</td>\n",
              "    </tr>\n",
              "  </tbody>\n",
              "</table>"
            ],
            "text/plain": [
              "<IPython.core.display.HTML object>"
            ]
          },
          "metadata": {
            "tags": []
          }
        }
      ]
    },
    {
      "cell_type": "code",
      "metadata": {
        "id": "atNWNKDFPbuI",
        "colab_type": "code",
        "colab": {
          "base_uri": "https://localhost:8080/",
          "height": 173
        },
        "outputId": "9fe30e7e-c645-463c-fe7c-d1b6e0f753dc"
      },
      "source": [
        "learn.fit_one_cycle(4, slice(2e-3/100, 2e-3))"
      ],
      "execution_count": 36,
      "outputs": [
        {
          "output_type": "display_data",
          "data": {
            "text/html": [
              "<table border=\"1\" class=\"dataframe\">\n",
              "  <thead>\n",
              "    <tr style=\"text-align: left;\">\n",
              "      <th>epoch</th>\n",
              "      <th>train_loss</th>\n",
              "      <th>valid_loss</th>\n",
              "      <th>accuracy</th>\n",
              "      <th>time</th>\n",
              "    </tr>\n",
              "  </thead>\n",
              "  <tbody>\n",
              "    <tr>\n",
              "      <td>0</td>\n",
              "      <td>0.880627</td>\n",
              "      <td>1.766493</td>\n",
              "      <td>0.703379</td>\n",
              "      <td>03:20</td>\n",
              "    </tr>\n",
              "    <tr>\n",
              "      <td>1</td>\n",
              "      <td>0.921177</td>\n",
              "      <td>1.816130</td>\n",
              "      <td>0.697121</td>\n",
              "      <td>03:21</td>\n",
              "    </tr>\n",
              "    <tr>\n",
              "      <td>2</td>\n",
              "      <td>0.877868</td>\n",
              "      <td>1.753141</td>\n",
              "      <td>0.707134</td>\n",
              "      <td>03:18</td>\n",
              "    </tr>\n",
              "    <tr>\n",
              "      <td>3</td>\n",
              "      <td>0.810839</td>\n",
              "      <td>1.727590</td>\n",
              "      <td>0.712140</td>\n",
              "      <td>03:29</td>\n",
              "    </tr>\n",
              "  </tbody>\n",
              "</table>"
            ],
            "text/plain": [
              "<IPython.core.display.HTML object>"
            ]
          },
          "metadata": {
            "tags": []
          }
        }
      ]
    },
    {
      "cell_type": "code",
      "metadata": {
        "id": "rKrBTZ0T1uVA",
        "colab_type": "code",
        "colab": {
          "base_uri": "https://localhost:8080/",
          "height": 173
        },
        "outputId": "56c3c2e3-6abe-482c-f283-07b9c82c5b9a"
      },
      "source": [
        "learn.fit_one_cycle(4, slice(2e-3/100, 2e-3))"
      ],
      "execution_count": 37,
      "outputs": [
        {
          "output_type": "display_data",
          "data": {
            "text/html": [
              "<table border=\"1\" class=\"dataframe\">\n",
              "  <thead>\n",
              "    <tr style=\"text-align: left;\">\n",
              "      <th>epoch</th>\n",
              "      <th>train_loss</th>\n",
              "      <th>valid_loss</th>\n",
              "      <th>accuracy</th>\n",
              "      <th>time</th>\n",
              "    </tr>\n",
              "  </thead>\n",
              "  <tbody>\n",
              "    <tr>\n",
              "      <td>0</td>\n",
              "      <td>0.798028</td>\n",
              "      <td>1.863689</td>\n",
              "      <td>0.702128</td>\n",
              "      <td>03:17</td>\n",
              "    </tr>\n",
              "    <tr>\n",
              "      <td>1</td>\n",
              "      <td>0.885037</td>\n",
              "      <td>1.848937</td>\n",
              "      <td>0.710889</td>\n",
              "      <td>03:22</td>\n",
              "    </tr>\n",
              "    <tr>\n",
              "      <td>2</td>\n",
              "      <td>0.834260</td>\n",
              "      <td>1.809588</td>\n",
              "      <td>0.709637</td>\n",
              "      <td>03:15</td>\n",
              "    </tr>\n",
              "    <tr>\n",
              "      <td>3</td>\n",
              "      <td>0.779756</td>\n",
              "      <td>1.796291</td>\n",
              "      <td>0.709637</td>\n",
              "      <td>03:13</td>\n",
              "    </tr>\n",
              "  </tbody>\n",
              "</table>"
            ],
            "text/plain": [
              "<IPython.core.display.HTML object>"
            ]
          },
          "metadata": {
            "tags": []
          }
        }
      ]
    },
    {
      "cell_type": "code",
      "metadata": {
        "id": "ajQC6WDg1yA9",
        "colab_type": "code",
        "colab": {
          "base_uri": "https://localhost:8080/",
          "height": 173
        },
        "outputId": "b47bc24c-eed9-4701-897b-b0925210c562"
      },
      "source": [
        "learn.fit_one_cycle(4, slice(2e-3/100, 2e-3))"
      ],
      "execution_count": 38,
      "outputs": [
        {
          "output_type": "display_data",
          "data": {
            "text/html": [
              "<table border=\"1\" class=\"dataframe\">\n",
              "  <thead>\n",
              "    <tr style=\"text-align: left;\">\n",
              "      <th>epoch</th>\n",
              "      <th>train_loss</th>\n",
              "      <th>valid_loss</th>\n",
              "      <th>accuracy</th>\n",
              "      <th>time</th>\n",
              "    </tr>\n",
              "  </thead>\n",
              "  <tbody>\n",
              "    <tr>\n",
              "      <td>0</td>\n",
              "      <td>0.812930</td>\n",
              "      <td>1.849276</td>\n",
              "      <td>0.697121</td>\n",
              "      <td>03:18</td>\n",
              "    </tr>\n",
              "    <tr>\n",
              "      <td>1</td>\n",
              "      <td>0.857430</td>\n",
              "      <td>1.920966</td>\n",
              "      <td>0.707134</td>\n",
              "      <td>03:34</td>\n",
              "    </tr>\n",
              "    <tr>\n",
              "      <td>2</td>\n",
              "      <td>0.815896</td>\n",
              "      <td>1.838371</td>\n",
              "      <td>0.714643</td>\n",
              "      <td>03:27</td>\n",
              "    </tr>\n",
              "    <tr>\n",
              "      <td>3</td>\n",
              "      <td>0.735193</td>\n",
              "      <td>1.823549</td>\n",
              "      <td>0.722153</td>\n",
              "      <td>03:30</td>\n",
              "    </tr>\n",
              "  </tbody>\n",
              "</table>"
            ],
            "text/plain": [
              "<IPython.core.display.HTML object>"
            ]
          },
          "metadata": {
            "tags": []
          }
        }
      ]
    },
    {
      "cell_type": "code",
      "metadata": {
        "id": "KKydb0B4BKGk",
        "colab_type": "code",
        "colab": {
          "base_uri": "https://localhost:8080/",
          "height": 173
        },
        "outputId": "c53bb508-ebb2-4440-af44-116ed1774edc"
      },
      "source": [
        "learn.fit_one_cycle(4, slice(2e-3/100, 2e-3))"
      ],
      "execution_count": 39,
      "outputs": [
        {
          "output_type": "display_data",
          "data": {
            "text/html": [
              "<table border=\"1\" class=\"dataframe\">\n",
              "  <thead>\n",
              "    <tr style=\"text-align: left;\">\n",
              "      <th>epoch</th>\n",
              "      <th>train_loss</th>\n",
              "      <th>valid_loss</th>\n",
              "      <th>accuracy</th>\n",
              "      <th>time</th>\n",
              "    </tr>\n",
              "  </thead>\n",
              "  <tbody>\n",
              "    <tr>\n",
              "      <td>0</td>\n",
              "      <td>0.796410</td>\n",
              "      <td>1.852486</td>\n",
              "      <td>0.713392</td>\n",
              "      <td>03:30</td>\n",
              "    </tr>\n",
              "    <tr>\n",
              "      <td>1</td>\n",
              "      <td>0.772739</td>\n",
              "      <td>1.775705</td>\n",
              "      <td>0.713392</td>\n",
              "      <td>03:29</td>\n",
              "    </tr>\n",
              "    <tr>\n",
              "      <td>2</td>\n",
              "      <td>0.783191</td>\n",
              "      <td>1.870876</td>\n",
              "      <td>0.717146</td>\n",
              "      <td>03:28</td>\n",
              "    </tr>\n",
              "    <tr>\n",
              "      <td>3</td>\n",
              "      <td>0.763146</td>\n",
              "      <td>1.822605</td>\n",
              "      <td>0.722153</td>\n",
              "      <td>03:16</td>\n",
              "    </tr>\n",
              "  </tbody>\n",
              "</table>"
            ],
            "text/plain": [
              "<IPython.core.display.HTML object>"
            ]
          },
          "metadata": {
            "tags": []
          }
        }
      ]
    },
    {
      "cell_type": "code",
      "metadata": {
        "id": "T2APKtFKBpGY",
        "colab_type": "code",
        "colab": {
          "base_uri": "https://localhost:8080/",
          "height": 173
        },
        "outputId": "b05fbad6-f087-402e-c0e6-a30db9ace0e3"
      },
      "source": [
        "learn.fit_one_cycle(4, slice(2e-3/100, 2e-3))"
      ],
      "execution_count": 40,
      "outputs": [
        {
          "output_type": "display_data",
          "data": {
            "text/html": [
              "<table border=\"1\" class=\"dataframe\">\n",
              "  <thead>\n",
              "    <tr style=\"text-align: left;\">\n",
              "      <th>epoch</th>\n",
              "      <th>train_loss</th>\n",
              "      <th>valid_loss</th>\n",
              "      <th>accuracy</th>\n",
              "      <th>time</th>\n",
              "    </tr>\n",
              "  </thead>\n",
              "  <tbody>\n",
              "    <tr>\n",
              "      <td>0</td>\n",
              "      <td>0.752628</td>\n",
              "      <td>1.908645</td>\n",
              "      <td>0.709637</td>\n",
              "      <td>03:35</td>\n",
              "    </tr>\n",
              "    <tr>\n",
              "      <td>1</td>\n",
              "      <td>0.833759</td>\n",
              "      <td>1.954107</td>\n",
              "      <td>0.698373</td>\n",
              "      <td>03:25</td>\n",
              "    </tr>\n",
              "    <tr>\n",
              "      <td>2</td>\n",
              "      <td>0.751585</td>\n",
              "      <td>1.840040</td>\n",
              "      <td>0.722153</td>\n",
              "      <td>03:12</td>\n",
              "    </tr>\n",
              "    <tr>\n",
              "      <td>3</td>\n",
              "      <td>0.722652</td>\n",
              "      <td>1.830721</td>\n",
              "      <td>0.720901</td>\n",
              "      <td>03:14</td>\n",
              "    </tr>\n",
              "  </tbody>\n",
              "</table>"
            ],
            "text/plain": [
              "<IPython.core.display.HTML object>"
            ]
          },
          "metadata": {
            "tags": []
          }
        }
      ]
    },
    {
      "cell_type": "code",
      "metadata": {
        "id": "KkgLDAq8nClh",
        "colab_type": "code",
        "colab": {
          "base_uri": "https://localhost:8080/",
          "height": 173
        },
        "outputId": "b7d7e435-6a08-4d0c-d9c5-647d6293c0ef"
      },
      "source": [
        "learn.fit_one_cycle(4, slice(2e-3/100, 2e-3))"
      ],
      "execution_count": 41,
      "outputs": [
        {
          "output_type": "display_data",
          "data": {
            "text/html": [
              "<table border=\"1\" class=\"dataframe\">\n",
              "  <thead>\n",
              "    <tr style=\"text-align: left;\">\n",
              "      <th>epoch</th>\n",
              "      <th>train_loss</th>\n",
              "      <th>valid_loss</th>\n",
              "      <th>accuracy</th>\n",
              "      <th>time</th>\n",
              "    </tr>\n",
              "  </thead>\n",
              "  <tbody>\n",
              "    <tr>\n",
              "      <td>0</td>\n",
              "      <td>0.719485</td>\n",
              "      <td>1.871480</td>\n",
              "      <td>0.714643</td>\n",
              "      <td>03:12</td>\n",
              "    </tr>\n",
              "    <tr>\n",
              "      <td>1</td>\n",
              "      <td>0.844185</td>\n",
              "      <td>1.878700</td>\n",
              "      <td>0.704631</td>\n",
              "      <td>03:15</td>\n",
              "    </tr>\n",
              "    <tr>\n",
              "      <td>2</td>\n",
              "      <td>0.711275</td>\n",
              "      <td>1.791112</td>\n",
              "      <td>0.718398</td>\n",
              "      <td>03:12</td>\n",
              "    </tr>\n",
              "    <tr>\n",
              "      <td>3</td>\n",
              "      <td>0.724482</td>\n",
              "      <td>1.843425</td>\n",
              "      <td>0.717146</td>\n",
              "      <td>03:22</td>\n",
              "    </tr>\n",
              "  </tbody>\n",
              "</table>"
            ],
            "text/plain": [
              "<IPython.core.display.HTML object>"
            ]
          },
          "metadata": {
            "tags": []
          }
        }
      ]
    },
    {
      "cell_type": "code",
      "metadata": {
        "id": "xo9vgncnnDec",
        "colab_type": "code",
        "colab": {
          "base_uri": "https://localhost:8080/",
          "height": 173
        },
        "outputId": "2d77dd72-8e06-42e4-9f5b-dfeea21aa3d7"
      },
      "source": [
        "learn.fit_one_cycle(4, slice(2e-3/100, 2e-3))"
      ],
      "execution_count": 42,
      "outputs": [
        {
          "output_type": "display_data",
          "data": {
            "text/html": [
              "<table border=\"1\" class=\"dataframe\">\n",
              "  <thead>\n",
              "    <tr style=\"text-align: left;\">\n",
              "      <th>epoch</th>\n",
              "      <th>train_loss</th>\n",
              "      <th>valid_loss</th>\n",
              "      <th>accuracy</th>\n",
              "      <th>time</th>\n",
              "    </tr>\n",
              "  </thead>\n",
              "  <tbody>\n",
              "    <tr>\n",
              "      <td>0</td>\n",
              "      <td>0.768123</td>\n",
              "      <td>1.873965</td>\n",
              "      <td>0.724656</td>\n",
              "      <td>03:27</td>\n",
              "    </tr>\n",
              "    <tr>\n",
              "      <td>1</td>\n",
              "      <td>0.772522</td>\n",
              "      <td>1.903256</td>\n",
              "      <td>0.712140</td>\n",
              "      <td>03:16</td>\n",
              "    </tr>\n",
              "    <tr>\n",
              "      <td>2</td>\n",
              "      <td>0.742771</td>\n",
              "      <td>1.874811</td>\n",
              "      <td>0.713392</td>\n",
              "      <td>03:11</td>\n",
              "    </tr>\n",
              "    <tr>\n",
              "      <td>3</td>\n",
              "      <td>0.658765</td>\n",
              "      <td>1.820709</td>\n",
              "      <td>0.719650</td>\n",
              "      <td>03:24</td>\n",
              "    </tr>\n",
              "  </tbody>\n",
              "</table>"
            ],
            "text/plain": [
              "<IPython.core.display.HTML object>"
            ]
          },
          "metadata": {
            "tags": []
          }
        }
      ]
    },
    {
      "cell_type": "code",
      "metadata": {
        "id": "keYKcKuPtL5K",
        "colab_type": "code",
        "colab": {
          "base_uri": "https://localhost:8080/",
          "height": 111
        },
        "outputId": "ed6558c1-9840-4169-aa65-a266d34272dd"
      },
      "source": [
        "learn.fit_one_cycle(2, slice(2e-3/100, 2e-3))"
      ],
      "execution_count": 43,
      "outputs": [
        {
          "output_type": "display_data",
          "data": {
            "text/html": [
              "<table border=\"1\" class=\"dataframe\">\n",
              "  <thead>\n",
              "    <tr style=\"text-align: left;\">\n",
              "      <th>epoch</th>\n",
              "      <th>train_loss</th>\n",
              "      <th>valid_loss</th>\n",
              "      <th>accuracy</th>\n",
              "      <th>time</th>\n",
              "    </tr>\n",
              "  </thead>\n",
              "  <tbody>\n",
              "    <tr>\n",
              "      <td>0</td>\n",
              "      <td>0.711987</td>\n",
              "      <td>1.906775</td>\n",
              "      <td>0.707134</td>\n",
              "      <td>03:22</td>\n",
              "    </tr>\n",
              "    <tr>\n",
              "      <td>1</td>\n",
              "      <td>0.754719</td>\n",
              "      <td>1.884859</td>\n",
              "      <td>0.717146</td>\n",
              "      <td>03:16</td>\n",
              "    </tr>\n",
              "  </tbody>\n",
              "</table>"
            ],
            "text/plain": [
              "<IPython.core.display.HTML object>"
            ]
          },
          "metadata": {
            "tags": []
          }
        }
      ]
    },
    {
      "cell_type": "code",
      "metadata": {
        "id": "6opfpXGkt3hw",
        "colab_type": "code",
        "colab": {
          "base_uri": "https://localhost:8080/",
          "height": 111
        },
        "outputId": "c359ec0a-30a2-47e6-967b-12b390c51347"
      },
      "source": [
        "learn.fit_one_cycle(2, slice(2e-3/100, 2e-3))"
      ],
      "execution_count": 44,
      "outputs": [
        {
          "output_type": "display_data",
          "data": {
            "text/html": [
              "<table border=\"1\" class=\"dataframe\">\n",
              "  <thead>\n",
              "    <tr style=\"text-align: left;\">\n",
              "      <th>epoch</th>\n",
              "      <th>train_loss</th>\n",
              "      <th>valid_loss</th>\n",
              "      <th>accuracy</th>\n",
              "      <th>time</th>\n",
              "    </tr>\n",
              "  </thead>\n",
              "  <tbody>\n",
              "    <tr>\n",
              "      <td>0</td>\n",
              "      <td>0.755528</td>\n",
              "      <td>2.007729</td>\n",
              "      <td>0.708385</td>\n",
              "      <td>03:16</td>\n",
              "    </tr>\n",
              "    <tr>\n",
              "      <td>1</td>\n",
              "      <td>0.724880</td>\n",
              "      <td>1.933830</td>\n",
              "      <td>0.710889</td>\n",
              "      <td>03:17</td>\n",
              "    </tr>\n",
              "  </tbody>\n",
              "</table>"
            ],
            "text/plain": [
              "<IPython.core.display.HTML object>"
            ]
          },
          "metadata": {
            "tags": []
          }
        }
      ]
    },
    {
      "cell_type": "code",
      "metadata": {
        "id": "c65d-osfDUXm",
        "colab_type": "code",
        "colab": {}
      },
      "source": [
        "# save the best model\n",
        "\n",
        "learn.save_encoder('ask-0-tuning-bigtweet')"
      ],
      "execution_count": 0,
      "outputs": []
    },
    {
      "cell_type": "markdown",
      "metadata": {
        "id": "rCwZU0E2RgM6",
        "colab_type": "text"
      },
      "source": [
        "# Part three: Predict on the test dataset"
      ]
    },
    {
      "cell_type": "code",
      "metadata": {
        "id": "gDm72c-dOu7d",
        "colab_type": "code",
        "colab": {
          "base_uri": "https://localhost:8080/",
          "height": 17
        },
        "outputId": "c465ffef-f99c-460f-a816-00128a17f127"
      },
      "source": [
        "# use the test data for prediction\n",
        "\n",
        "preds, y = learn.get_preds(DatasetType.Test)"
      ],
      "execution_count": 46,
      "outputs": [
        {
          "output_type": "display_data",
          "data": {
            "text/html": [
              ""
            ],
            "text/plain": [
              "<IPython.core.display.HTML object>"
            ]
          },
          "metadata": {
            "tags": []
          }
        }
      ]
    },
    {
      "cell_type": "code",
      "metadata": {
        "id": "6tFSQcsWPvxn",
        "colab_type": "code",
        "colab": {
          "base_uri": "https://localhost:8080/",
          "height": 105
        },
        "outputId": "bde5f871-90ba-462f-cd67-ef5877bd7ad0"
      },
      "source": [
        "predictions, *_ = learn.get_preds(DatasetType.Test)\n",
        "labels = np.argmax(predictions, 1)\n",
        "predict_list = labels.tolist()\n",
        "standard_list = test[0].tolist()\n",
        "\n",
        "print(len(predict_list))\n",
        "print(len(standard_list))\n",
        "\n",
        "print(predict_list)\n",
        "print(standard_list)"
      ],
      "execution_count": 47,
      "outputs": [
        {
          "output_type": "display_data",
          "data": {
            "text/html": [
              ""
            ],
            "text/plain": [
              "<IPython.core.display.HTML object>"
            ]
          },
          "metadata": {
            "tags": []
          }
        },
        {
          "output_type": "stream",
          "text": [
            "866\n",
            "866\n",
            "[228, 8, 8, 8, 8, 8, 8, 9, 10, 132, 644, 99, 27, 288, 707, 515, 30, 31, 338, 32, 117, 37, 37, 37, 260, 182, 260, 203, 49, 49, 49, 473, 19, 49, 49, 49, 49, 325, 49, 49, 49, 49, 49, 245, 376, 53, 53, 53, 58, 309, 113, 60, 61, 61, 644, 164, 71, 76, 76, 76, 76, 76, 265, 817, 817, 864, 260, 260, 260, 260, 260, 260, 260, 260, 260, 260, 260, 260, 260, 260, 260, 260, 260, 260, 260, 260, 260, 260, 260, 260, 260, 260, 260, 260, 260, 260, 260, 260, 260, 260, 260, 260, 260, 260, 260, 260, 260, 182, 80, 80, 788, 25, 268, 88, 268, 137, 91, 91, 92, 92, 94, 94, 826, 94, 94, 94, 94, 94, 94, 94, 94, 94, 94, 100, 100, 100, 775, 100, 49, 337, 100, 100, 100, 100, 100, 872, 108, 111, 111, 111, 211, 817, 107, 987, 987, 124, 125, 125, 125, 125, 125, 125, 125, 125, 125, 125, 125, 127, 343, 343, 343, 132, 686, 120, 449, 864, 165, 162, 817, 770, 129, 190, 164, 904, 281, 524, 524, 182, 524, 183, 183, 183, 183, 337, 187, 187, 187, 470, 189, 994, 289, 190, 190, 190, 190, 190, 293, 289, 190, 182, 336, 194, 197, 209, 197, 197, 197, 807, 203, 260, 205, 289, 210, 214, 214, 624, 624, 624, 214, 214, 214, 896, 276, 214, 115, 265, 877, 214, 214, 704, 481, 817, 817, 817, 817, 817, 218, 817, 164, 471, 265, 228, 228, 228, 289, 729, 228, 228, 228, 228, 228, 228, 228, 228, 228, 289, 749, 234, 234, 234, 234, 235, 214, 214, 817, 164, 243, 817, 817, 243, 243, 243, 243, 243, 817, 243, 817, 245, 470, 817, 817, 817, 348, 337, 245, 759, 817, 246, 365, 805, 97, 97, 97, 983, 402, 265, 289, 265, 265, 214, 214, 265, 265, 265, 265, 265, 265, 265, 265, 289, 289, 289, 265, 660, 288, 164, 137, 269, 274, 165, 277, 277, 281, 289, 286, 289, 289, 289, 289, 289, 260, 289, 289, 289, 228, 289, 289, 289, 304, 276, 291, 211, 235, 27, 788, 788, 301, 704, 309, 309, 309, 274, 402, 318, 318, 318, 325, 325, 325, 325, 325, 325, 325, 325, 325, 325, 817, 756, 359, 325, 332, 332, 334, 337, 337, 337, 337, 337, 470, 342, 343, 144, 344, 817, 624, 359, 359, 363, 214, 364, 211, 994, 865, 517, 994, 994, 391, 817, 396, 753, 704, 358, 358, 789, 789, 402, 402, 408, 409, 817, 82, 351, 265, 471, 419, 419, 419, 419, 419, 419, 419, 419, 289, 419, 670, 817, 735, 426, 426, 384, 427, 427, 597, 427, 427, 427, 427, 427, 615, 427, 329, 817, 436, 491, 390, 443, 391, 454, 164, 455, 817, 817, 817, 458, 458, 817, 459, 459, 465, 462, 363, 471, 619, 817, 817, 780, 475, 475, 475, 546, 487, 487, 489, 491, 491, 491, 491, 180, 492, 817, 194, 499, 499, 502, 505, 817, 509, 883, 521, 427, 715, 817, 530, 437, 746, 541, 746, 541, 545, 817, 817, 817, 817, 817, 817, 994, 549, 406, 568, 565, 487, 994, 775, 574, 578, 289, 579, 579, 583, 817, 817, 591, 591, 817, 592, 715, 595, 597, 597, 318, 463, 190, 228, 463, 607, 610, 610, 612, 76, 384, 289, 61, 289, 289, 994, 210, 131, 528, 623, 289, 876, 639, 639, 646, 646, 646, 646, 646, 652, 289, 317, 662, 662, 662, 666, 368, 667, 437, 678, 677, 688, 895, 348, 194, 691, 817, 817, 817, 260, 265, 260, 470, 211, 703, 704, 704, 704, 289, 706, 217, 491, 708, 708, 711, 711, 711, 714, 97, 365, 365, 573, 730, 221, 735, 180, 741, 910, 769, 773, 770, 775, 301, 775, 775, 775, 778, 865, 269, 398, 427, 817, 817, 796, 798, 799, 415, 753, 753, 817, 847, 817, 817, 180, 505, 809, 809, 575, 810, 337, 183, 517, 994, 824, 824, 180, 817, 830, 830, 830, 830, 830, 817, 994, 817, 120, 182, 839, 839, 642, 843, 846, 847, 847, 847, 847, 847, 847, 481, 817, 847, 851, 568, 853, 853, 384, 853, 853, 749, 864, 44, 214, 896, 896, 896, 896, 896, 896, 896, 896, 736, 164, 919, 919, 919, 919, 933, 933, 164, 164, 937, 937, 937, 937, 817, 817, 817, 948, 948, 948, 948, 164, 949, 949, 949, 949, 949, 949, 949, 949, 949, 949, 949, 949, 949, 949, 949, 949, 949, 949, 949, 949, 949, 949, 949, 949, 949, 949, 949, 949, 949, 949, 949, 949, 949, 949, 949, 949, 949, 949, 949, 949, 949, 949, 949, 949, 949, 949, 949, 949, 949, 949, 949, 949, 949, 949, 949, 949, 949, 949, 949, 949, 949, 949, 949, 949, 949, 949, 949, 949, 949, 949, 949, 949, 949, 949, 949, 949, 949, 949, 949, 949, 949, 164, 164, 164, 817, 949, 949, 949, 949, 949, 949, 949, 949, 949, 949, 949, 949, 949, 949, 949, 949, 949, 949, 949, 949, 949, 817, 164, 164, 950, 950, 950, 950, 950, 952, 952, 952, 817, 817, 164, 164, 817, 1009, 980, 994, 817, 925, 925, 817, 164, 817, 817, 164, 164, 164, 999, 714, 1026, 817, 817, 1028, 1029, 925, 1035, 1035]\n",
            "[3, 8, 8, 8, 8, 8, 8, 9, 10, 13, 27, 27, 27, 27, 28, 28, 30, 31, 31, 32, 37, 37, 37, 37, 37, 37, 37, 49, 49, 49, 49, 49, 49, 49, 49, 49, 49, 49, 49, 49, 49, 49, 49, 50, 53, 53, 53, 53, 58, 58, 59, 60, 61, 61, 62, 68, 71, 76, 76, 76, 76, 76, 79, 79, 79, 79, 79, 79, 79, 79, 79, 79, 79, 79, 79, 79, 79, 79, 79, 79, 79, 79, 79, 79, 79, 79, 79, 79, 79, 79, 79, 79, 79, 79, 79, 79, 79, 79, 79, 79, 79, 79, 79, 79, 79, 79, 79, 79, 80, 80, 80, 84, 86, 88, 89, 89, 91, 91, 92, 92, 94, 94, 94, 94, 94, 94, 94, 94, 94, 94, 94, 94, 94, 100, 100, 100, 100, 100, 100, 100, 100, 100, 100, 100, 100, 102, 108, 111, 111, 111, 111, 114, 122, 122, 122, 124, 125, 125, 125, 125, 125, 125, 125, 125, 125, 125, 125, 127, 127, 127, 127, 132, 139, 142, 148, 153, 160, 162, 166, 166, 172, 172, 179, 181, 182, 182, 182, 182, 182, 183, 183, 183, 183, 185, 187, 187, 187, 189, 189, 189, 190, 190, 190, 190, 190, 190, 190, 190, 190, 190, 194, 194, 197, 197, 197, 197, 197, 200, 203, 205, 205, 205, 210, 214, 214, 214, 214, 214, 214, 214, 214, 214, 214, 214, 214, 214, 214, 214, 214, 214, 216, 216, 218, 218, 218, 218, 218, 219, 222, 224, 228, 228, 228, 228, 228, 228, 228, 228, 228, 228, 228, 228, 228, 228, 228, 228, 231, 234, 234, 234, 234, 235, 236, 236, 238, 243, 243, 243, 243, 243, 243, 243, 243, 243, 243, 243, 244, 245, 245, 245, 245, 245, 245, 245, 245, 245, 245, 246, 246, 248, 254, 254, 254, 256, 265, 265, 265, 265, 265, 265, 265, 265, 265, 265, 265, 265, 265, 265, 265, 265, 265, 265, 265, 265, 265, 267, 268, 269, 274, 277, 277, 277, 281, 281, 286, 289, 289, 289, 289, 289, 289, 289, 289, 289, 289, 289, 289, 289, 290, 291, 291, 293, 296, 298, 300, 300, 301, 301, 309, 309, 309, 317, 318, 318, 318, 318, 325, 325, 325, 325, 325, 325, 325, 325, 325, 325, 325, 325, 325, 325, 332, 332, 334, 337, 337, 337, 337, 337, 337, 342, 343, 344, 344, 346, 351, 359, 359, 363, 363, 364, 364, 369, 378, 383, 389, 389, 391, 396, 396, 402, 402, 402, 402, 402, 402, 402, 402, 408, 409, 411, 416, 417, 419, 419, 419, 419, 419, 419, 419, 419, 419, 419, 419, 419, 420, 424, 426, 426, 426, 426, 427, 427, 427, 427, 427, 427, 427, 427, 427, 427, 427, 429, 436, 437, 442, 443, 444, 454, 455, 455, 455, 455, 455, 458, 458, 458, 459, 459, 461, 462, 471, 471, 473, 474, 474, 475, 475, 475, 475, 485, 487, 487, 489, 491, 491, 491, 491, 492, 492, 495, 498, 499, 499, 502, 505, 509, 509, 518, 521, 522, 524, 527, 530, 536, 541, 541, 541, 541, 545, 548, 548, 548, 548, 548, 548, 548, 549, 561, 564, 565, 566, 569, 571, 574, 578, 578, 579, 579, 583, 590, 590, 591, 591, 592, 592, 594, 595, 597, 597, 597, 604, 604, 605, 606, 607, 610, 610, 612, 614, 614, 614, 614, 614, 614, 619, 620, 622, 623, 623, 635, 639, 639, 639, 646, 646, 646, 646, 646, 652, 657, 659, 662, 662, 662, 666, 666, 667, 668, 677, 677, 678, 679, 685, 690, 691, 693, 693, 693, 698, 701, 702, 702, 703, 703, 704, 704, 704, 704, 705, 705, 707, 708, 708, 711, 711, 711, 714, 725, 726, 726, 727, 730, 734, 735, 740, 741, 769, 769, 770, 770, 775, 775, 775, 775, 775, 778, 784, 790, 792, 794, 794, 794, 796, 798, 799, 801, 803, 803, 806, 806, 806, 806, 809, 809, 809, 809, 810, 810, 810, 813, 814, 817, 824, 824, 826, 826, 830, 830, 830, 830, 830, 830, 830, 830, 831, 837, 839, 839, 841, 843, 846, 847, 847, 847, 847, 847, 847, 847, 847, 847, 851, 852, 853, 853, 853, 853, 853, 861, 864, 869, 877, 896, 896, 896, 896, 896, 896, 896, 897, 909, 913, 919, 919, 919, 919, 933, 933, 935, 937, 937, 937, 937, 937, 941, 943, 946, 948, 948, 948, 948, 948, 949, 949, 949, 949, 949, 949, 949, 949, 949, 949, 949, 949, 949, 949, 949, 949, 949, 949, 949, 949, 949, 949, 949, 949, 949, 949, 949, 949, 949, 949, 949, 949, 949, 949, 949, 949, 949, 949, 949, 949, 949, 949, 949, 949, 949, 949, 949, 949, 949, 949, 949, 949, 949, 949, 949, 949, 949, 949, 949, 949, 949, 949, 949, 949, 949, 949, 949, 949, 949, 949, 949, 949, 949, 949, 949, 949, 949, 949, 949, 949, 949, 949, 949, 949, 949, 949, 949, 949, 949, 949, 949, 949, 949, 949, 949, 949, 949, 949, 949, 949, 949, 949, 949, 949, 949, 949, 949, 950, 950, 950, 950, 950, 950, 950, 952, 952, 952, 958, 959, 964, 976, 976, 977, 980, 994, 997, 999, 999, 999, 1001, 1001, 1001, 1012, 1016, 1017, 1019, 1025, 1026, 1026, 1026, 1028, 1029, 1034, 1035, 1035]\n"
          ],
          "name": "stdout"
        }
      ]
    },
    {
      "cell_type": "code",
      "metadata": {
        "id": "XIC4zufnMxtq",
        "colab_type": "code",
        "colab": {
          "base_uri": "https://localhost:8080/",
          "height": 51
        },
        "outputId": "69b5d6e3-8d2f-462b-c588-21d5a84df2ef"
      },
      "source": [
        "correct_num = 0\n",
        "\n",
        "for i in range(0, len(standard_list)):\n",
        "  if predict_list[i] == standard_list[i]:\n",
        "    correct_num = correct_num+1\n",
        "  else:\n",
        "    pass\n",
        "print(correct_num)\n",
        "\n",
        "predict_accuracy = correct_num/len(predict_list)\n",
        "print(predict_accuracy)"
      ],
      "execution_count": 48,
      "outputs": [
        {
          "output_type": "stream",
          "text": [
            "486\n",
            "0.5612009237875288\n"
          ],
          "name": "stdout"
        }
      ]
    },
    {
      "cell_type": "code",
      "metadata": {
        "id": "zlKMHp1CIaRJ",
        "colab_type": "code",
        "colab": {}
      },
      "source": [
        ""
      ],
      "execution_count": 0,
      "outputs": []
    }
  ]
}