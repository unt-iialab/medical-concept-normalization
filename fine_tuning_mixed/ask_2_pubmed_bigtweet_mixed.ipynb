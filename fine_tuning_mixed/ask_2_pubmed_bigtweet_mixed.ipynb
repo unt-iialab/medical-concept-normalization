{
  "nbformat": 4,
  "nbformat_minor": 0,
  "metadata": {
    "colab": {
      "name": "ask_2_pubmed_bigtweet_mixed.ipynb",
      "provenance": [],
      "collapsed_sections": [],
      "toc_visible": true,
      "include_colab_link": true
    },
    "kernelspec": {
      "name": "python3",
      "display_name": "Python 3"
    },
    "accelerator": "TPU"
  },
  "cells": [
    {
      "cell_type": "markdown",
      "metadata": {
        "id": "view-in-github",
        "colab_type": "text"
      },
      "source": [
        "<a href=\"https://colab.research.google.com/github/unt-iialab/medical-concept-normalization/blob/master/fine_tuning_mixed/ask_2_pubmed_bigtweet_mixed.ipynb\" target=\"_parent\"><img src=\"https://colab.research.google.com/assets/colab-badge.svg\" alt=\"Open In Colab\"/></a>"
      ]
    },
    {
      "cell_type": "code",
      "metadata": {
        "id": "adSi6i2-dWxy",
        "colab_type": "code",
        "colab": {}
      },
      "source": [
        "import os"
      ],
      "execution_count": 0,
      "outputs": []
    },
    {
      "cell_type": "code",
      "metadata": {
        "id": "E7xYCRGPjd9B",
        "colab_type": "code",
        "colab": {}
      },
      "source": [
        "base_dir = 'medical-concept-normalization'"
      ],
      "execution_count": 0,
      "outputs": []
    },
    {
      "cell_type": "code",
      "metadata": {
        "id": "yvIW3aUDjYNS",
        "colab_type": "code",
        "colab": {}
      },
      "source": [
        "os.mkdir(base_dir)"
      ],
      "execution_count": 0,
      "outputs": []
    },
    {
      "cell_type": "code",
      "metadata": {
        "id": "es-FFLlfk6SG",
        "colab_type": "code",
        "colab": {}
      },
      "source": [
        "os.mkdir('medical-concept-normalization/data_collection')"
      ],
      "execution_count": 0,
      "outputs": []
    },
    {
      "cell_type": "markdown",
      "metadata": {
        "id": "0R-Guw_VoJXm",
        "colab_type": "text"
      },
      "source": [
        "**Install fastai and clone the fastai for text classification**\n",
        "\n"
      ]
    },
    {
      "cell_type": "code",
      "metadata": {
        "id": "QVZa3Z0PmHFH",
        "colab_type": "code",
        "outputId": "8af68609-e112-4587-b77f-0d5369b86eca",
        "colab": {
          "base_uri": "https://localhost:8080/",
          "height": 119
        }
      },
      "source": [
        "!curl https://course-v3.fast.ai/setup/colab | bash"
      ],
      "execution_count": 5,
      "outputs": [
        {
          "output_type": "stream",
          "text": [
            "  % Total    % Received % Xferd  Average Speed   Time    Time     Time  Current\n",
            "                                 Dload  Upload   Total   Spent    Left  Speed\n",
            "  0     0    0     0    0     0      0      0 --:--:--  0:00:05 --:--:--     0bash: line 1: syntax error near unexpected token `newline'\n",
            "bash: line 1: `<!DOCTYPE html>'\n",
            "100  9115  100  9115    0     0   1632      0  0:00:05  0:00:05 --:--:--  2238\n",
            "curl: (23) Failed writing body (290 != 1213)\n"
          ],
          "name": "stdout"
        }
      ]
    },
    {
      "cell_type": "code",
      "metadata": {
        "id": "_FBFFEBrmJC0",
        "colab_type": "code",
        "outputId": "349231e1-9155-4cb4-8dc0-cad8069b54ae",
        "colab": {
          "base_uri": "https://localhost:8080/",
          "height": 85
        }
      },
      "source": [
        "!git clone https://github.com/wshuyi/demo-nlp-classification-fastai.git"
      ],
      "execution_count": 6,
      "outputs": [
        {
          "output_type": "stream",
          "text": [
            "Cloning into 'demo-nlp-classification-fastai'...\n",
            "remote: Enumerating objects: 9, done.\u001b[K\n",
            "remote: Total 9 (delta 0), reused 0 (delta 0), pack-reused 9\u001b[K\n",
            "Unpacking objects: 100% (9/9), done.\n"
          ],
          "name": "stdout"
        }
      ]
    },
    {
      "cell_type": "code",
      "metadata": {
        "id": "66zfh_JqmWMU",
        "colab_type": "code",
        "colab": {}
      },
      "source": [
        "from fastai import *\n",
        "from fastai.text import *"
      ],
      "execution_count": 0,
      "outputs": []
    },
    {
      "cell_type": "markdown",
      "metadata": {
        "id": "mNIw-yALdBU9",
        "colab_type": "text"
      },
      "source": [
        "**Set the path of the data collections**"
      ]
    },
    {
      "cell_type": "code",
      "metadata": {
        "id": "pzH7VMh4mqCL",
        "colab_type": "code",
        "colab": {}
      },
      "source": [
        "path = Path('medical-concept-normalization/data_collection')"
      ],
      "execution_count": 0,
      "outputs": []
    },
    {
      "cell_type": "code",
      "metadata": {
        "id": "b8fjI6yyn4aS",
        "colab_type": "code",
        "colab": {}
      },
      "source": [
        "# training data set\n",
        "\n",
        "train_csv = path/'AskAPatient.fold-2.train.csv'\n",
        "train = pd.read_csv(train_csv, header=None)\n",
        "#train.head()\n",
        "#train.info()"
      ],
      "execution_count": 0,
      "outputs": []
    },
    {
      "cell_type": "code",
      "metadata": {
        "id": "Hmlr-bAorfHd",
        "colab_type": "code",
        "outputId": "c884f8da-c92d-4f87-e55a-cf9c4fda1944",
        "colab": {
          "base_uri": "https://localhost:8080/",
          "height": 204
        }
      },
      "source": [
        "# validating data set\n",
        "\n",
        "valid = pd.read_csv(path/\"AskAPatient.fold-2.validation.csv\",header=None)\n",
        "valid.head()"
      ],
      "execution_count": 11,
      "outputs": [
        {
          "output_type": "execute_result",
          "data": {
            "text/html": [
              "<div>\n",
              "<style scoped>\n",
              "    .dataframe tbody tr th:only-of-type {\n",
              "        vertical-align: middle;\n",
              "    }\n",
              "\n",
              "    .dataframe tbody tr th {\n",
              "        vertical-align: top;\n",
              "    }\n",
              "\n",
              "    .dataframe thead th {\n",
              "        text-align: right;\n",
              "    }\n",
              "</style>\n",
              "<table border=\"1\" class=\"dataframe\">\n",
              "  <thead>\n",
              "    <tr style=\"text-align: right;\">\n",
              "      <th></th>\n",
              "      <th>0</th>\n",
              "      <th>1</th>\n",
              "    </tr>\n",
              "  </thead>\n",
              "  <tbody>\n",
              "    <tr>\n",
              "      <th>0</th>\n",
              "      <td>2</td>\n",
              "      <td>left heel pain</td>\n",
              "    </tr>\n",
              "    <tr>\n",
              "      <th>1</th>\n",
              "      <td>4</td>\n",
              "      <td>Discoloration of skin [blotchy] on the neck</td>\n",
              "    </tr>\n",
              "    <tr>\n",
              "      <th>2</th>\n",
              "      <td>7</td>\n",
              "      <td>goiter</td>\n",
              "    </tr>\n",
              "    <tr>\n",
              "      <th>3</th>\n",
              "      <td>8</td>\n",
              "      <td>arthritis</td>\n",
              "    </tr>\n",
              "    <tr>\n",
              "      <th>4</th>\n",
              "      <td>8</td>\n",
              "      <td>arthritis</td>\n",
              "    </tr>\n",
              "  </tbody>\n",
              "</table>\n",
              "</div>"
            ],
            "text/plain": [
              "   0                                            1\n",
              "0  2                               left heel pain\n",
              "1  4  Discoloration of skin [blotchy] on the neck\n",
              "2  7                                       goiter\n",
              "3  8                                    arthritis\n",
              "4  8                                    arthritis"
            ]
          },
          "metadata": {
            "tags": []
          },
          "execution_count": 11
        }
      ]
    },
    {
      "cell_type": "code",
      "metadata": {
        "id": "cOza9dfSsBud",
        "colab_type": "code",
        "outputId": "5bf60228-0702-46e7-b718-48be93a7469f",
        "colab": {
          "base_uri": "https://localhost:8080/",
          "height": 204
        }
      },
      "source": [
        "# testing data set\n",
        "\n",
        "test = pd.read_csv(path/\"AskAPatient.fold-2.test.csv\",header=None)\n",
        "test.head()"
      ],
      "execution_count": 12,
      "outputs": [
        {
          "output_type": "execute_result",
          "data": {
            "text/html": [
              "<div>\n",
              "<style scoped>\n",
              "    .dataframe tbody tr th:only-of-type {\n",
              "        vertical-align: middle;\n",
              "    }\n",
              "\n",
              "    .dataframe tbody tr th {\n",
              "        vertical-align: top;\n",
              "    }\n",
              "\n",
              "    .dataframe thead th {\n",
              "        text-align: right;\n",
              "    }\n",
              "</style>\n",
              "<table border=\"1\" class=\"dataframe\">\n",
              "  <thead>\n",
              "    <tr style=\"text-align: right;\">\n",
              "      <th></th>\n",
              "      <th>0</th>\n",
              "      <th>1</th>\n",
              "    </tr>\n",
              "  </thead>\n",
              "  <tbody>\n",
              "    <tr>\n",
              "      <th>0</th>\n",
              "      <td>2</td>\n",
              "      <td>right heel pain</td>\n",
              "    </tr>\n",
              "    <tr>\n",
              "      <th>1</th>\n",
              "      <td>4</td>\n",
              "      <td>black and blue marks</td>\n",
              "    </tr>\n",
              "    <tr>\n",
              "      <th>2</th>\n",
              "      <td>8</td>\n",
              "      <td>arthritice</td>\n",
              "    </tr>\n",
              "    <tr>\n",
              "      <th>3</th>\n",
              "      <td>8</td>\n",
              "      <td>arthritis</td>\n",
              "    </tr>\n",
              "    <tr>\n",
              "      <th>4</th>\n",
              "      <td>8</td>\n",
              "      <td>arthritis</td>\n",
              "    </tr>\n",
              "  </tbody>\n",
              "</table>\n",
              "</div>"
            ],
            "text/plain": [
              "   0                     1\n",
              "0  2       right heel pain\n",
              "1  4  black and blue marks\n",
              "2  8            arthritice\n",
              "3  8             arthritis\n",
              "4  8             arthritis"
            ]
          },
          "metadata": {
            "tags": []
          },
          "execution_count": 12
        }
      ]
    },
    {
      "cell_type": "code",
      "metadata": {
        "id": "Vo-YNvVYoaH6",
        "colab_type": "code",
        "outputId": "686b0789-5f05-4885-e234-37c4057aed28",
        "colab": {
          "base_uri": "https://localhost:8080/",
          "height": 17
        }
      },
      "source": [
        "# Creating DataBunch for language modelling\n",
        "\n",
        "data_lm = TextLMDataBunch.from_csv(path, 'fine_tuning_language_model_pubmed_bigtweet_mixed.csv')"
      ],
      "execution_count": 13,
      "outputs": [
        {
          "output_type": "display_data",
          "data": {
            "text/html": [
              ""
            ],
            "text/plain": [
              "<IPython.core.display.HTML object>"
            ]
          },
          "metadata": {
            "tags": []
          }
        },
        {
          "output_type": "display_data",
          "data": {
            "text/html": [
              ""
            ],
            "text/plain": [
              "<IPython.core.display.HTML object>"
            ]
          },
          "metadata": {
            "tags": []
          }
        }
      ]
    },
    {
      "cell_type": "code",
      "metadata": {
        "id": "qcV-9kMnNLBf",
        "colab_type": "code",
        "colab": {}
      },
      "source": [
        ""
      ],
      "execution_count": 0,
      "outputs": []
    },
    {
      "cell_type": "code",
      "metadata": {
        "id": "1ScY9afDsnvE",
        "colab_type": "code",
        "colab": {}
      },
      "source": [
        "# Creating DataBunch for classification\n",
        "\n",
        "# data_clas = TextClasDataBunch.from_df(path, train, valid, test, vocab=data_lm.train_ds.vocab, bs=128)"
      ],
      "execution_count": 0,
      "outputs": []
    },
    {
      "cell_type": "code",
      "metadata": {
        "id": "gzrSdQcvey9p",
        "colab_type": "code",
        "outputId": "b37797b8-c616-4fdd-aff9-9a12c6dddbb7",
        "colab": {
          "base_uri": "https://localhost:8080/",
          "height": 17
        }
      },
      "source": [
        "data_clas = TextClasDataBunch.from_df(path, train, valid, vocab=data_lm.train_ds.vocab, bs=128)"
      ],
      "execution_count": 15,
      "outputs": [
        {
          "output_type": "display_data",
          "data": {
            "text/html": [
              ""
            ],
            "text/plain": [
              "<IPython.core.display.HTML object>"
            ]
          },
          "metadata": {
            "tags": []
          }
        },
        {
          "output_type": "display_data",
          "data": {
            "text/html": [
              ""
            ],
            "text/plain": [
              "<IPython.core.display.HTML object>"
            ]
          },
          "metadata": {
            "tags": []
          }
        }
      ]
    },
    {
      "cell_type": "code",
      "metadata": {
        "id": "MD27Tf0Ke3ou",
        "colab_type": "code",
        "outputId": "da0f8925-bd4b-41dc-86d7-18c8942d7c86",
        "colab": {
          "base_uri": "https://localhost:8080/",
          "height": 17
        }
      },
      "source": [
        "data_clas.add_test(test,label=0)\n"
      ],
      "execution_count": 16,
      "outputs": [
        {
          "output_type": "display_data",
          "data": {
            "text/html": [
              ""
            ],
            "text/plain": [
              "<IPython.core.display.HTML object>"
            ]
          },
          "metadata": {
            "tags": []
          }
        }
      ]
    },
    {
      "cell_type": "code",
      "metadata": {
        "id": "-dpjnk_rstwk",
        "colab_type": "code",
        "colab": {}
      },
      "source": [
        "data_lm.save()\n",
        "data_clas.save()"
      ],
      "execution_count": 0,
      "outputs": []
    },
    {
      "cell_type": "code",
      "metadata": {
        "id": "4OkiJa36sw5s",
        "colab_type": "code",
        "colab": {}
      },
      "source": [
        "data_lm.train_ds.vocab.itos"
      ],
      "execution_count": 0,
      "outputs": []
    },
    {
      "cell_type": "code",
      "metadata": {
        "id": "yPWr03mls3VT",
        "colab_type": "code",
        "outputId": "51c3ffc9-6a2d-4030-918f-195993064e4c",
        "colab": {
          "base_uri": "https://localhost:8080/",
          "height": 17
        }
      },
      "source": [
        "model_path = path/'models'\n",
        "model_path.mkdir(exist_ok=True)\n",
        "url = 'http://files.fast.ai/models/wt103_v1/'\n",
        "download_url(f'{url}lstm_wt103.pth', model_path/'lstm_wt103.pth')\n",
        "download_url(f'{url}itos_wt103.pkl', model_path/'itos_wt103.pkl')"
      ],
      "execution_count": 19,
      "outputs": [
        {
          "output_type": "display_data",
          "data": {
            "text/html": [
              ""
            ],
            "text/plain": [
              "<IPython.core.display.HTML object>"
            ]
          },
          "metadata": {
            "tags": []
          }
        },
        {
          "output_type": "display_data",
          "data": {
            "text/html": [
              ""
            ],
            "text/plain": [
              "<IPython.core.display.HTML object>"
            ]
          },
          "metadata": {
            "tags": []
          }
        }
      ]
    },
    {
      "cell_type": "code",
      "metadata": {
        "id": "JRzvWg8RtGGr",
        "colab_type": "code",
        "outputId": "83007977-7045-4a3b-c9b7-c8b916651348",
        "colab": {
          "base_uri": "https://localhost:8080/",
          "height": 34
        }
      },
      "source": [
        "learn = language_model_learner(data_lm, AWD_LSTM, drop_mult=0.5)"
      ],
      "execution_count": 20,
      "outputs": [
        {
          "output_type": "stream",
          "text": [
            "Downloading https://s3.amazonaws.com/fast-ai-modelzoo/wt103-fwd\n"
          ],
          "name": "stdout"
        },
        {
          "output_type": "display_data",
          "data": {
            "text/html": [
              ""
            ],
            "text/plain": [
              "<IPython.core.display.HTML object>"
            ]
          },
          "metadata": {
            "tags": []
          }
        }
      ]
    },
    {
      "cell_type": "code",
      "metadata": {
        "id": "xKK7GeBev7Xn",
        "colab_type": "code",
        "outputId": "c8f142f0-ae05-4b76-e42f-5c2e6a720e31",
        "colab": {
          "base_uri": "https://localhost:8080/",
          "height": 80
        }
      },
      "source": [
        "learn.fit_one_cycle(1, 1e-2)"
      ],
      "execution_count": 21,
      "outputs": [
        {
          "output_type": "display_data",
          "data": {
            "text/html": [
              "<table border=\"1\" class=\"dataframe\">\n",
              "  <thead>\n",
              "    <tr style=\"text-align: left;\">\n",
              "      <th>epoch</th>\n",
              "      <th>train_loss</th>\n",
              "      <th>valid_loss</th>\n",
              "      <th>accuracy</th>\n",
              "      <th>time</th>\n",
              "    </tr>\n",
              "  </thead>\n",
              "  <tbody>\n",
              "    <tr>\n",
              "      <td>0</td>\n",
              "      <td>5.214600</td>\n",
              "      <td>4.634066</td>\n",
              "      <td>0.251795</td>\n",
              "      <td>16:13</td>\n",
              "    </tr>\n",
              "  </tbody>\n",
              "</table>"
            ],
            "text/plain": [
              "<IPython.core.display.HTML object>"
            ]
          },
          "metadata": {
            "tags": []
          }
        }
      ]
    },
    {
      "cell_type": "code",
      "metadata": {
        "id": "iB7rHGQCwd12",
        "colab_type": "code",
        "colab": {
          "base_uri": "https://localhost:8080/",
          "height": 80
        },
        "outputId": "bd08bfce-e938-4a6d-fd5f-f0ec1bed1732"
      },
      "source": [
        "learn.fit_one_cycle(1, 1e-2)"
      ],
      "execution_count": 22,
      "outputs": [
        {
          "output_type": "display_data",
          "data": {
            "text/html": [
              "<table border=\"1\" class=\"dataframe\">\n",
              "  <thead>\n",
              "    <tr style=\"text-align: left;\">\n",
              "      <th>epoch</th>\n",
              "      <th>train_loss</th>\n",
              "      <th>valid_loss</th>\n",
              "      <th>accuracy</th>\n",
              "      <th>time</th>\n",
              "    </tr>\n",
              "  </thead>\n",
              "  <tbody>\n",
              "    <tr>\n",
              "      <td>0</td>\n",
              "      <td>4.481263</td>\n",
              "      <td>4.287317</td>\n",
              "      <td>0.284598</td>\n",
              "      <td>16:12</td>\n",
              "    </tr>\n",
              "  </tbody>\n",
              "</table>"
            ],
            "text/plain": [
              "<IPython.core.display.HTML object>"
            ]
          },
          "metadata": {
            "tags": []
          }
        }
      ]
    },
    {
      "cell_type": "code",
      "metadata": {
        "id": "_BnSuAeCwkBe",
        "colab_type": "code",
        "colab": {
          "base_uri": "https://localhost:8080/",
          "height": 80
        },
        "outputId": "9ca4c085-66ea-4c46-f7c8-909e2ecad190"
      },
      "source": [
        "learn.fit_one_cycle(1, 1e-3)"
      ],
      "execution_count": 23,
      "outputs": [
        {
          "output_type": "display_data",
          "data": {
            "text/html": [
              "<table border=\"1\" class=\"dataframe\">\n",
              "  <thead>\n",
              "    <tr style=\"text-align: left;\">\n",
              "      <th>epoch</th>\n",
              "      <th>train_loss</th>\n",
              "      <th>valid_loss</th>\n",
              "      <th>accuracy</th>\n",
              "      <th>time</th>\n",
              "    </tr>\n",
              "  </thead>\n",
              "  <tbody>\n",
              "    <tr>\n",
              "      <td>0</td>\n",
              "      <td>4.158297</td>\n",
              "      <td>4.246644</td>\n",
              "      <td>0.289630</td>\n",
              "      <td>16:11</td>\n",
              "    </tr>\n",
              "  </tbody>\n",
              "</table>"
            ],
            "text/plain": [
              "<IPython.core.display.HTML object>"
            ]
          },
          "metadata": {
            "tags": []
          }
        }
      ]
    },
    {
      "cell_type": "code",
      "metadata": {
        "id": "MuTm-RFjwrEX",
        "colab_type": "code",
        "colab": {
          "base_uri": "https://localhost:8080/",
          "height": 80
        },
        "outputId": "c78c945b-f140-4359-f0e8-654f9a735345"
      },
      "source": [
        "learn.fit_one_cycle(1, 1e-3)"
      ],
      "execution_count": 24,
      "outputs": [
        {
          "output_type": "display_data",
          "data": {
            "text/html": [
              "<table border=\"1\" class=\"dataframe\">\n",
              "  <thead>\n",
              "    <tr style=\"text-align: left;\">\n",
              "      <th>epoch</th>\n",
              "      <th>train_loss</th>\n",
              "      <th>valid_loss</th>\n",
              "      <th>accuracy</th>\n",
              "      <th>time</th>\n",
              "    </tr>\n",
              "  </thead>\n",
              "  <tbody>\n",
              "    <tr>\n",
              "      <td>0</td>\n",
              "      <td>4.113805</td>\n",
              "      <td>4.216053</td>\n",
              "      <td>0.292513</td>\n",
              "      <td>16:15</td>\n",
              "    </tr>\n",
              "  </tbody>\n",
              "</table>"
            ],
            "text/plain": [
              "<IPython.core.display.HTML object>"
            ]
          },
          "metadata": {
            "tags": []
          }
        }
      ]
    },
    {
      "cell_type": "code",
      "metadata": {
        "id": "1Er2ExO8wr7Y",
        "colab_type": "code",
        "colab": {}
      },
      "source": [
        "learn.save_encoder('bigtweet_fold0_first')"
      ],
      "execution_count": 0,
      "outputs": []
    },
    {
      "cell_type": "code",
      "metadata": {
        "id": "z52cZs2qwvad",
        "colab_type": "code",
        "colab": {
          "base_uri": "https://localhost:8080/",
          "height": 80
        },
        "outputId": "dcfc98f0-4199-4b2c-8e02-096e0a742842"
      },
      "source": [
        "learn = text_classifier_learner(data_clas,AWD_LSTM, drop_mult=0.5)\n",
        "learn.load_encoder('bigtweet_fold0_first')\n",
        "learn.fit_one_cycle(1, 1e-2)"
      ],
      "execution_count": 26,
      "outputs": [
        {
          "output_type": "display_data",
          "data": {
            "text/html": [
              "<table border=\"1\" class=\"dataframe\">\n",
              "  <thead>\n",
              "    <tr style=\"text-align: left;\">\n",
              "      <th>epoch</th>\n",
              "      <th>train_loss</th>\n",
              "      <th>valid_loss</th>\n",
              "      <th>accuracy</th>\n",
              "      <th>time</th>\n",
              "    </tr>\n",
              "  </thead>\n",
              "  <tbody>\n",
              "    <tr>\n",
              "      <td>0</td>\n",
              "      <td>3.811100</td>\n",
              "      <td>3.368604</td>\n",
              "      <td>0.461741</td>\n",
              "      <td>01:08</td>\n",
              "    </tr>\n",
              "  </tbody>\n",
              "</table>"
            ],
            "text/plain": [
              "<IPython.core.display.HTML object>"
            ]
          },
          "metadata": {
            "tags": []
          }
        }
      ]
    },
    {
      "cell_type": "code",
      "metadata": {
        "id": "ImwQP1PJwzxd",
        "colab_type": "code",
        "colab": {
          "base_uri": "https://localhost:8080/",
          "height": 80
        },
        "outputId": "3ab98e56-0cbf-4a09-9d01-fff2fe03c98b"
      },
      "source": [
        "learn.freeze_to(-2)\n",
        "learn.fit_one_cycle(1, slice(5e-3/2., 5e-3))"
      ],
      "execution_count": 27,
      "outputs": [
        {
          "output_type": "display_data",
          "data": {
            "text/html": [
              "<table border=\"1\" class=\"dataframe\">\n",
              "  <thead>\n",
              "    <tr style=\"text-align: left;\">\n",
              "      <th>epoch</th>\n",
              "      <th>train_loss</th>\n",
              "      <th>valid_loss</th>\n",
              "      <th>accuracy</th>\n",
              "      <th>time</th>\n",
              "    </tr>\n",
              "  </thead>\n",
              "  <tbody>\n",
              "    <tr>\n",
              "      <td>0</td>\n",
              "      <td>2.813259</td>\n",
              "      <td>2.896266</td>\n",
              "      <td>0.551451</td>\n",
              "      <td>01:18</td>\n",
              "    </tr>\n",
              "  </tbody>\n",
              "</table>"
            ],
            "text/plain": [
              "<IPython.core.display.HTML object>"
            ]
          },
          "metadata": {
            "tags": []
          }
        }
      ]
    },
    {
      "cell_type": "code",
      "metadata": {
        "id": "Owff_BJXw53u",
        "colab_type": "code",
        "colab": {
          "base_uri": "https://localhost:8080/",
          "height": 80
        },
        "outputId": "8f148d5b-52d2-4de0-d30b-162918e4342f"
      },
      "source": [
        "learn.unfreeze()\n",
        "learn.fit_one_cycle(1, slice(2e-3/100, 2e-3))"
      ],
      "execution_count": 28,
      "outputs": [
        {
          "output_type": "display_data",
          "data": {
            "text/html": [
              "<table border=\"1\" class=\"dataframe\">\n",
              "  <thead>\n",
              "    <tr style=\"text-align: left;\">\n",
              "      <th>epoch</th>\n",
              "      <th>train_loss</th>\n",
              "      <th>valid_loss</th>\n",
              "      <th>accuracy</th>\n",
              "      <th>time</th>\n",
              "    </tr>\n",
              "  </thead>\n",
              "  <tbody>\n",
              "    <tr>\n",
              "      <td>0</td>\n",
              "      <td>2.499343</td>\n",
              "      <td>2.619349</td>\n",
              "      <td>0.581794</td>\n",
              "      <td>03:27</td>\n",
              "    </tr>\n",
              "  </tbody>\n",
              "</table>"
            ],
            "text/plain": [
              "<IPython.core.display.HTML object>"
            ]
          },
          "metadata": {
            "tags": []
          }
        }
      ]
    },
    {
      "cell_type": "code",
      "metadata": {
        "id": "lqAyu56V8Waq",
        "colab_type": "code",
        "colab": {
          "base_uri": "https://localhost:8080/",
          "height": 111
        },
        "outputId": "30dc8966-53f8-4ded-87e6-4dd7e170f0df"
      },
      "source": [
        "learn.fit_one_cycle(2, slice(2e-3/100, 2e-3))"
      ],
      "execution_count": 29,
      "outputs": [
        {
          "output_type": "display_data",
          "data": {
            "text/html": [
              "<table border=\"1\" class=\"dataframe\">\n",
              "  <thead>\n",
              "    <tr style=\"text-align: left;\">\n",
              "      <th>epoch</th>\n",
              "      <th>train_loss</th>\n",
              "      <th>valid_loss</th>\n",
              "      <th>accuracy</th>\n",
              "      <th>time</th>\n",
              "    </tr>\n",
              "  </thead>\n",
              "  <tbody>\n",
              "    <tr>\n",
              "      <td>0</td>\n",
              "      <td>2.206806</td>\n",
              "      <td>2.384438</td>\n",
              "      <td>0.610818</td>\n",
              "      <td>03:20</td>\n",
              "    </tr>\n",
              "    <tr>\n",
              "      <td>1</td>\n",
              "      <td>1.917322</td>\n",
              "      <td>2.313986</td>\n",
              "      <td>0.624011</td>\n",
              "      <td>03:12</td>\n",
              "    </tr>\n",
              "  </tbody>\n",
              "</table>"
            ],
            "text/plain": [
              "<IPython.core.display.HTML object>"
            ]
          },
          "metadata": {
            "tags": []
          }
        }
      ]
    },
    {
      "cell_type": "code",
      "metadata": {
        "id": "a7I1xMRp8bUd",
        "colab_type": "code",
        "colab": {
          "base_uri": "https://localhost:8080/",
          "height": 111
        },
        "outputId": "07962abe-5c71-4841-c6da-66415bd0bc41"
      },
      "source": [
        "learn.fit_one_cycle(2, slice(2e-3/100, 2e-3))"
      ],
      "execution_count": 30,
      "outputs": [
        {
          "output_type": "display_data",
          "data": {
            "text/html": [
              "<table border=\"1\" class=\"dataframe\">\n",
              "  <thead>\n",
              "    <tr style=\"text-align: left;\">\n",
              "      <th>epoch</th>\n",
              "      <th>train_loss</th>\n",
              "      <th>valid_loss</th>\n",
              "      <th>accuracy</th>\n",
              "      <th>time</th>\n",
              "    </tr>\n",
              "  </thead>\n",
              "  <tbody>\n",
              "    <tr>\n",
              "      <td>0</td>\n",
              "      <td>1.899215</td>\n",
              "      <td>2.186687</td>\n",
              "      <td>0.641161</td>\n",
              "      <td>03:20</td>\n",
              "    </tr>\n",
              "    <tr>\n",
              "      <td>1</td>\n",
              "      <td>1.627352</td>\n",
              "      <td>2.105440</td>\n",
              "      <td>0.655673</td>\n",
              "      <td>03:14</td>\n",
              "    </tr>\n",
              "  </tbody>\n",
              "</table>"
            ],
            "text/plain": [
              "<IPython.core.display.HTML object>"
            ]
          },
          "metadata": {
            "tags": []
          }
        }
      ]
    },
    {
      "cell_type": "code",
      "metadata": {
        "id": "UAnti-XmGVfO",
        "colab_type": "code",
        "colab": {
          "base_uri": "https://localhost:8080/",
          "height": 111
        },
        "outputId": "5ac1ccb6-d7a4-4a43-a13d-018d57449dbf"
      },
      "source": [
        "learn.fit_one_cycle(2, slice(2e-3/100, 2e-3))"
      ],
      "execution_count": 31,
      "outputs": [
        {
          "output_type": "display_data",
          "data": {
            "text/html": [
              "<table border=\"1\" class=\"dataframe\">\n",
              "  <thead>\n",
              "    <tr style=\"text-align: left;\">\n",
              "      <th>epoch</th>\n",
              "      <th>train_loss</th>\n",
              "      <th>valid_loss</th>\n",
              "      <th>accuracy</th>\n",
              "      <th>time</th>\n",
              "    </tr>\n",
              "  </thead>\n",
              "  <tbody>\n",
              "    <tr>\n",
              "      <td>0</td>\n",
              "      <td>1.573509</td>\n",
              "      <td>2.050391</td>\n",
              "      <td>0.651715</td>\n",
              "      <td>03:33</td>\n",
              "    </tr>\n",
              "    <tr>\n",
              "      <td>1</td>\n",
              "      <td>1.499634</td>\n",
              "      <td>1.970867</td>\n",
              "      <td>0.670185</td>\n",
              "      <td>03:21</td>\n",
              "    </tr>\n",
              "  </tbody>\n",
              "</table>"
            ],
            "text/plain": [
              "<IPython.core.display.HTML object>"
            ]
          },
          "metadata": {
            "tags": []
          }
        }
      ]
    },
    {
      "cell_type": "code",
      "metadata": {
        "id": "bIft7W25GwSu",
        "colab_type": "code",
        "colab": {
          "base_uri": "https://localhost:8080/",
          "height": 111
        },
        "outputId": "ba2facda-9f2f-41dd-f160-d341e188f408"
      },
      "source": [
        "learn.fit_one_cycle(2, slice(2e-3/100, 2e-3))"
      ],
      "execution_count": 32,
      "outputs": [
        {
          "output_type": "display_data",
          "data": {
            "text/html": [
              "<table border=\"1\" class=\"dataframe\">\n",
              "  <thead>\n",
              "    <tr style=\"text-align: left;\">\n",
              "      <th>epoch</th>\n",
              "      <th>train_loss</th>\n",
              "      <th>valid_loss</th>\n",
              "      <th>accuracy</th>\n",
              "      <th>time</th>\n",
              "    </tr>\n",
              "  </thead>\n",
              "  <tbody>\n",
              "    <tr>\n",
              "      <td>0</td>\n",
              "      <td>1.417001</td>\n",
              "      <td>1.957153</td>\n",
              "      <td>0.667546</td>\n",
              "      <td>03:15</td>\n",
              "    </tr>\n",
              "    <tr>\n",
              "      <td>1</td>\n",
              "      <td>1.316965</td>\n",
              "      <td>1.893670</td>\n",
              "      <td>0.679420</td>\n",
              "      <td>03:17</td>\n",
              "    </tr>\n",
              "  </tbody>\n",
              "</table>"
            ],
            "text/plain": [
              "<IPython.core.display.HTML object>"
            ]
          },
          "metadata": {
            "tags": []
          }
        }
      ]
    },
    {
      "cell_type": "code",
      "metadata": {
        "id": "EEHszVRvGyFt",
        "colab_type": "code",
        "colab": {
          "base_uri": "https://localhost:8080/",
          "height": 111
        },
        "outputId": "da503bb1-9913-4bf6-ad6f-3d5ba73e4c44"
      },
      "source": [
        "learn.fit_one_cycle(2, slice(2e-3/100, 2e-3))"
      ],
      "execution_count": 33,
      "outputs": [
        {
          "output_type": "display_data",
          "data": {
            "text/html": [
              "<table border=\"1\" class=\"dataframe\">\n",
              "  <thead>\n",
              "    <tr style=\"text-align: left;\">\n",
              "      <th>epoch</th>\n",
              "      <th>train_loss</th>\n",
              "      <th>valid_loss</th>\n",
              "      <th>accuracy</th>\n",
              "      <th>time</th>\n",
              "    </tr>\n",
              "  </thead>\n",
              "  <tbody>\n",
              "    <tr>\n",
              "      <td>0</td>\n",
              "      <td>1.268162</td>\n",
              "      <td>1.851973</td>\n",
              "      <td>0.686016</td>\n",
              "      <td>03:22</td>\n",
              "    </tr>\n",
              "    <tr>\n",
              "      <td>1</td>\n",
              "      <td>1.186748</td>\n",
              "      <td>1.863256</td>\n",
              "      <td>0.683377</td>\n",
              "      <td>03:33</td>\n",
              "    </tr>\n",
              "  </tbody>\n",
              "</table>"
            ],
            "text/plain": [
              "<IPython.core.display.HTML object>"
            ]
          },
          "metadata": {
            "tags": []
          }
        }
      ]
    },
    {
      "cell_type": "code",
      "metadata": {
        "id": "XsHfrhCHG3dN",
        "colab_type": "code",
        "colab": {
          "base_uri": "https://localhost:8080/",
          "height": 173
        },
        "outputId": "25a17abb-6133-4631-9939-4540cd3ac95b"
      },
      "source": [
        "learn.fit_one_cycle(4, slice(2e-3/100, 2e-3))"
      ],
      "execution_count": 34,
      "outputs": [
        {
          "output_type": "display_data",
          "data": {
            "text/html": [
              "<table border=\"1\" class=\"dataframe\">\n",
              "  <thead>\n",
              "    <tr style=\"text-align: left;\">\n",
              "      <th>epoch</th>\n",
              "      <th>train_loss</th>\n",
              "      <th>valid_loss</th>\n",
              "      <th>accuracy</th>\n",
              "      <th>time</th>\n",
              "    </tr>\n",
              "  </thead>\n",
              "  <tbody>\n",
              "    <tr>\n",
              "      <td>0</td>\n",
              "      <td>1.118100</td>\n",
              "      <td>1.846286</td>\n",
              "      <td>0.684697</td>\n",
              "      <td>03:24</td>\n",
              "    </tr>\n",
              "    <tr>\n",
              "      <td>1</td>\n",
              "      <td>1.193281</td>\n",
              "      <td>1.812492</td>\n",
              "      <td>0.695251</td>\n",
              "      <td>03:31</td>\n",
              "    </tr>\n",
              "    <tr>\n",
              "      <td>2</td>\n",
              "      <td>1.096621</td>\n",
              "      <td>1.793992</td>\n",
              "      <td>0.697889</td>\n",
              "      <td>03:20</td>\n",
              "    </tr>\n",
              "    <tr>\n",
              "      <td>3</td>\n",
              "      <td>1.004023</td>\n",
              "      <td>1.774710</td>\n",
              "      <td>0.697889</td>\n",
              "      <td>03:31</td>\n",
              "    </tr>\n",
              "  </tbody>\n",
              "</table>"
            ],
            "text/plain": [
              "<IPython.core.display.HTML object>"
            ]
          },
          "metadata": {
            "tags": []
          }
        }
      ]
    },
    {
      "cell_type": "code",
      "metadata": {
        "id": "0Zsd99isb9EQ",
        "colab_type": "code",
        "colab": {
          "base_uri": "https://localhost:8080/",
          "height": 173
        },
        "outputId": "b5bab5af-91fa-4876-b4f0-922ca9633f30"
      },
      "source": [
        "learn.fit_one_cycle(4, slice(2e-3/100, 2e-3))"
      ],
      "execution_count": 35,
      "outputs": [
        {
          "output_type": "display_data",
          "data": {
            "text/html": [
              "<table border=\"1\" class=\"dataframe\">\n",
              "  <thead>\n",
              "    <tr style=\"text-align: left;\">\n",
              "      <th>epoch</th>\n",
              "      <th>train_loss</th>\n",
              "      <th>valid_loss</th>\n",
              "      <th>accuracy</th>\n",
              "      <th>time</th>\n",
              "    </tr>\n",
              "  </thead>\n",
              "  <tbody>\n",
              "    <tr>\n",
              "      <td>0</td>\n",
              "      <td>1.005907</td>\n",
              "      <td>1.819595</td>\n",
              "      <td>0.697889</td>\n",
              "      <td>03:19</td>\n",
              "    </tr>\n",
              "    <tr>\n",
              "      <td>1</td>\n",
              "      <td>1.032513</td>\n",
              "      <td>1.769415</td>\n",
              "      <td>0.697889</td>\n",
              "      <td>03:11</td>\n",
              "    </tr>\n",
              "    <tr>\n",
              "      <td>2</td>\n",
              "      <td>0.987204</td>\n",
              "      <td>1.796883</td>\n",
              "      <td>0.693931</td>\n",
              "      <td>03:27</td>\n",
              "    </tr>\n",
              "    <tr>\n",
              "      <td>3</td>\n",
              "      <td>0.942356</td>\n",
              "      <td>1.792718</td>\n",
              "      <td>0.704485</td>\n",
              "      <td>03:11</td>\n",
              "    </tr>\n",
              "  </tbody>\n",
              "</table>"
            ],
            "text/plain": [
              "<IPython.core.display.HTML object>"
            ]
          },
          "metadata": {
            "tags": []
          }
        }
      ]
    },
    {
      "cell_type": "code",
      "metadata": {
        "id": "atNWNKDFPbuI",
        "colab_type": "code",
        "colab": {
          "base_uri": "https://localhost:8080/",
          "height": 173
        },
        "outputId": "063a63d9-9f5f-474f-af9d-4d1906a8e870"
      },
      "source": [
        "learn.fit_one_cycle(4, slice(2e-3/100, 2e-3))"
      ],
      "execution_count": 36,
      "outputs": [
        {
          "output_type": "display_data",
          "data": {
            "text/html": [
              "<table border=\"1\" class=\"dataframe\">\n",
              "  <thead>\n",
              "    <tr style=\"text-align: left;\">\n",
              "      <th>epoch</th>\n",
              "      <th>train_loss</th>\n",
              "      <th>valid_loss</th>\n",
              "      <th>accuracy</th>\n",
              "      <th>time</th>\n",
              "    </tr>\n",
              "  </thead>\n",
              "  <tbody>\n",
              "    <tr>\n",
              "      <td>0</td>\n",
              "      <td>0.915393</td>\n",
              "      <td>1.788099</td>\n",
              "      <td>0.705805</td>\n",
              "      <td>03:29</td>\n",
              "    </tr>\n",
              "    <tr>\n",
              "      <td>1</td>\n",
              "      <td>0.945653</td>\n",
              "      <td>1.820931</td>\n",
              "      <td>0.697889</td>\n",
              "      <td>03:17</td>\n",
              "    </tr>\n",
              "    <tr>\n",
              "      <td>2</td>\n",
              "      <td>0.896519</td>\n",
              "      <td>1.795338</td>\n",
              "      <td>0.705805</td>\n",
              "      <td>03:25</td>\n",
              "    </tr>\n",
              "    <tr>\n",
              "      <td>3</td>\n",
              "      <td>0.860678</td>\n",
              "      <td>1.820840</td>\n",
              "      <td>0.701847</td>\n",
              "      <td>03:14</td>\n",
              "    </tr>\n",
              "  </tbody>\n",
              "</table>"
            ],
            "text/plain": [
              "<IPython.core.display.HTML object>"
            ]
          },
          "metadata": {
            "tags": []
          }
        }
      ]
    },
    {
      "cell_type": "code",
      "metadata": {
        "id": "rKrBTZ0T1uVA",
        "colab_type": "code",
        "colab": {
          "base_uri": "https://localhost:8080/",
          "height": 173
        },
        "outputId": "1d8e89e9-9f29-4a21-bf82-09dd855736cb"
      },
      "source": [
        "learn.fit_one_cycle(4, slice(2e-3/100, 2e-3))"
      ],
      "execution_count": 37,
      "outputs": [
        {
          "output_type": "display_data",
          "data": {
            "text/html": [
              "<table border=\"1\" class=\"dataframe\">\n",
              "  <thead>\n",
              "    <tr style=\"text-align: left;\">\n",
              "      <th>epoch</th>\n",
              "      <th>train_loss</th>\n",
              "      <th>valid_loss</th>\n",
              "      <th>accuracy</th>\n",
              "      <th>time</th>\n",
              "    </tr>\n",
              "  </thead>\n",
              "  <tbody>\n",
              "    <tr>\n",
              "      <td>0</td>\n",
              "      <td>0.901855</td>\n",
              "      <td>1.891235</td>\n",
              "      <td>0.709763</td>\n",
              "      <td>03:09</td>\n",
              "    </tr>\n",
              "    <tr>\n",
              "      <td>1</td>\n",
              "      <td>0.923639</td>\n",
              "      <td>1.866315</td>\n",
              "      <td>0.703166</td>\n",
              "      <td>03:31</td>\n",
              "    </tr>\n",
              "    <tr>\n",
              "      <td>2</td>\n",
              "      <td>0.887073</td>\n",
              "      <td>1.846552</td>\n",
              "      <td>0.701847</td>\n",
              "      <td>03:11</td>\n",
              "    </tr>\n",
              "    <tr>\n",
              "      <td>3</td>\n",
              "      <td>0.800863</td>\n",
              "      <td>1.859816</td>\n",
              "      <td>0.703166</td>\n",
              "      <td>03:31</td>\n",
              "    </tr>\n",
              "  </tbody>\n",
              "</table>"
            ],
            "text/plain": [
              "<IPython.core.display.HTML object>"
            ]
          },
          "metadata": {
            "tags": []
          }
        }
      ]
    },
    {
      "cell_type": "code",
      "metadata": {
        "id": "ajQC6WDg1yA9",
        "colab_type": "code",
        "colab": {
          "base_uri": "https://localhost:8080/",
          "height": 173
        },
        "outputId": "7fcd3a64-49b1-4bb8-b594-3267b2afcdbe"
      },
      "source": [
        "learn.fit_one_cycle(4, slice(2e-3/100, 2e-3))"
      ],
      "execution_count": 38,
      "outputs": [
        {
          "output_type": "display_data",
          "data": {
            "text/html": [
              "<table border=\"1\" class=\"dataframe\">\n",
              "  <thead>\n",
              "    <tr style=\"text-align: left;\">\n",
              "      <th>epoch</th>\n",
              "      <th>train_loss</th>\n",
              "      <th>valid_loss</th>\n",
              "      <th>accuracy</th>\n",
              "      <th>time</th>\n",
              "    </tr>\n",
              "  </thead>\n",
              "  <tbody>\n",
              "    <tr>\n",
              "      <td>0</td>\n",
              "      <td>0.816490</td>\n",
              "      <td>1.827344</td>\n",
              "      <td>0.708443</td>\n",
              "      <td>03:23</td>\n",
              "    </tr>\n",
              "    <tr>\n",
              "      <td>1</td>\n",
              "      <td>0.862014</td>\n",
              "      <td>1.795497</td>\n",
              "      <td>0.709763</td>\n",
              "      <td>03:23</td>\n",
              "    </tr>\n",
              "    <tr>\n",
              "      <td>2</td>\n",
              "      <td>0.840401</td>\n",
              "      <td>1.830555</td>\n",
              "      <td>0.713720</td>\n",
              "      <td>03:18</td>\n",
              "    </tr>\n",
              "    <tr>\n",
              "      <td>3</td>\n",
              "      <td>0.831684</td>\n",
              "      <td>1.883934</td>\n",
              "      <td>0.707124</td>\n",
              "      <td>03:12</td>\n",
              "    </tr>\n",
              "  </tbody>\n",
              "</table>"
            ],
            "text/plain": [
              "<IPython.core.display.HTML object>"
            ]
          },
          "metadata": {
            "tags": []
          }
        }
      ]
    },
    {
      "cell_type": "code",
      "metadata": {
        "id": "KKydb0B4BKGk",
        "colab_type": "code",
        "colab": {
          "base_uri": "https://localhost:8080/",
          "height": 173
        },
        "outputId": "19b3826a-ecab-45f9-cee4-c4a3ec66e3a4"
      },
      "source": [
        "learn.fit_one_cycle(4, slice(2e-3/100, 2e-3))"
      ],
      "execution_count": 39,
      "outputs": [
        {
          "output_type": "display_data",
          "data": {
            "text/html": [
              "<table border=\"1\" class=\"dataframe\">\n",
              "  <thead>\n",
              "    <tr style=\"text-align: left;\">\n",
              "      <th>epoch</th>\n",
              "      <th>train_loss</th>\n",
              "      <th>valid_loss</th>\n",
              "      <th>accuracy</th>\n",
              "      <th>time</th>\n",
              "    </tr>\n",
              "  </thead>\n",
              "  <tbody>\n",
              "    <tr>\n",
              "      <td>0</td>\n",
              "      <td>0.768263</td>\n",
              "      <td>1.835744</td>\n",
              "      <td>0.709763</td>\n",
              "      <td>03:10</td>\n",
              "    </tr>\n",
              "    <tr>\n",
              "      <td>1</td>\n",
              "      <td>0.858377</td>\n",
              "      <td>1.975208</td>\n",
              "      <td>0.703166</td>\n",
              "      <td>03:14</td>\n",
              "    </tr>\n",
              "    <tr>\n",
              "      <td>2</td>\n",
              "      <td>0.808990</td>\n",
              "      <td>1.907094</td>\n",
              "      <td>0.701847</td>\n",
              "      <td>03:13</td>\n",
              "    </tr>\n",
              "    <tr>\n",
              "      <td>3</td>\n",
              "      <td>0.794835</td>\n",
              "      <td>1.908798</td>\n",
              "      <td>0.707124</td>\n",
              "      <td>03:20</td>\n",
              "    </tr>\n",
              "  </tbody>\n",
              "</table>"
            ],
            "text/plain": [
              "<IPython.core.display.HTML object>"
            ]
          },
          "metadata": {
            "tags": []
          }
        }
      ]
    },
    {
      "cell_type": "code",
      "metadata": {
        "id": "T2APKtFKBpGY",
        "colab_type": "code",
        "colab": {
          "base_uri": "https://localhost:8080/",
          "height": 173
        },
        "outputId": "c40b79b3-56c3-4a5f-df47-a00d670df6d1"
      },
      "source": [
        "learn.fit_one_cycle(4, slice(2e-3/100, 2e-3))"
      ],
      "execution_count": 40,
      "outputs": [
        {
          "output_type": "display_data",
          "data": {
            "text/html": [
              "<table border=\"1\" class=\"dataframe\">\n",
              "  <thead>\n",
              "    <tr style=\"text-align: left;\">\n",
              "      <th>epoch</th>\n",
              "      <th>train_loss</th>\n",
              "      <th>valid_loss</th>\n",
              "      <th>accuracy</th>\n",
              "      <th>time</th>\n",
              "    </tr>\n",
              "  </thead>\n",
              "  <tbody>\n",
              "    <tr>\n",
              "      <td>0</td>\n",
              "      <td>0.774296</td>\n",
              "      <td>1.935103</td>\n",
              "      <td>0.711082</td>\n",
              "      <td>03:08</td>\n",
              "    </tr>\n",
              "    <tr>\n",
              "      <td>1</td>\n",
              "      <td>0.840436</td>\n",
              "      <td>1.911158</td>\n",
              "      <td>0.711082</td>\n",
              "      <td>03:20</td>\n",
              "    </tr>\n",
              "    <tr>\n",
              "      <td>2</td>\n",
              "      <td>0.806099</td>\n",
              "      <td>1.862704</td>\n",
              "      <td>0.718997</td>\n",
              "      <td>03:14</td>\n",
              "    </tr>\n",
              "    <tr>\n",
              "      <td>3</td>\n",
              "      <td>0.789104</td>\n",
              "      <td>1.892590</td>\n",
              "      <td>0.712401</td>\n",
              "      <td>03:10</td>\n",
              "    </tr>\n",
              "  </tbody>\n",
              "</table>"
            ],
            "text/plain": [
              "<IPython.core.display.HTML object>"
            ]
          },
          "metadata": {
            "tags": []
          }
        }
      ]
    },
    {
      "cell_type": "code",
      "metadata": {
        "id": "KkgLDAq8nClh",
        "colab_type": "code",
        "colab": {
          "base_uri": "https://localhost:8080/",
          "height": 173
        },
        "outputId": "b0a722ce-98f4-4986-93fd-54c5f354c1bd"
      },
      "source": [
        "learn.fit_one_cycle(4, slice(2e-3/100, 2e-3))"
      ],
      "execution_count": 41,
      "outputs": [
        {
          "output_type": "display_data",
          "data": {
            "text/html": [
              "<table border=\"1\" class=\"dataframe\">\n",
              "  <thead>\n",
              "    <tr style=\"text-align: left;\">\n",
              "      <th>epoch</th>\n",
              "      <th>train_loss</th>\n",
              "      <th>valid_loss</th>\n",
              "      <th>accuracy</th>\n",
              "      <th>time</th>\n",
              "    </tr>\n",
              "  </thead>\n",
              "  <tbody>\n",
              "    <tr>\n",
              "      <td>0</td>\n",
              "      <td>0.815481</td>\n",
              "      <td>1.921161</td>\n",
              "      <td>0.711082</td>\n",
              "      <td>03:27</td>\n",
              "    </tr>\n",
              "    <tr>\n",
              "      <td>1</td>\n",
              "      <td>0.844621</td>\n",
              "      <td>1.924652</td>\n",
              "      <td>0.712401</td>\n",
              "      <td>03:25</td>\n",
              "    </tr>\n",
              "    <tr>\n",
              "      <td>2</td>\n",
              "      <td>0.811417</td>\n",
              "      <td>1.874535</td>\n",
              "      <td>0.712401</td>\n",
              "      <td>03:25</td>\n",
              "    </tr>\n",
              "    <tr>\n",
              "      <td>3</td>\n",
              "      <td>0.762844</td>\n",
              "      <td>1.889488</td>\n",
              "      <td>0.713720</td>\n",
              "      <td>03:09</td>\n",
              "    </tr>\n",
              "  </tbody>\n",
              "</table>"
            ],
            "text/plain": [
              "<IPython.core.display.HTML object>"
            ]
          },
          "metadata": {
            "tags": []
          }
        }
      ]
    },
    {
      "cell_type": "code",
      "metadata": {
        "id": "xo9vgncnnDec",
        "colab_type": "code",
        "colab": {
          "base_uri": "https://localhost:8080/",
          "height": 173
        },
        "outputId": "47efd652-6a7a-49cf-fd90-22c402743e73"
      },
      "source": [
        "learn.fit_one_cycle(4, slice(2e-3/100, 2e-3))"
      ],
      "execution_count": 42,
      "outputs": [
        {
          "output_type": "display_data",
          "data": {
            "text/html": [
              "<table border=\"1\" class=\"dataframe\">\n",
              "  <thead>\n",
              "    <tr style=\"text-align: left;\">\n",
              "      <th>epoch</th>\n",
              "      <th>train_loss</th>\n",
              "      <th>valid_loss</th>\n",
              "      <th>accuracy</th>\n",
              "      <th>time</th>\n",
              "    </tr>\n",
              "  </thead>\n",
              "  <tbody>\n",
              "    <tr>\n",
              "      <td>0</td>\n",
              "      <td>0.780368</td>\n",
              "      <td>1.932480</td>\n",
              "      <td>0.718997</td>\n",
              "      <td>03:29</td>\n",
              "    </tr>\n",
              "    <tr>\n",
              "      <td>1</td>\n",
              "      <td>0.774326</td>\n",
              "      <td>1.970604</td>\n",
              "      <td>0.708443</td>\n",
              "      <td>03:09</td>\n",
              "    </tr>\n",
              "    <tr>\n",
              "      <td>2</td>\n",
              "      <td>0.771483</td>\n",
              "      <td>1.900655</td>\n",
              "      <td>0.715040</td>\n",
              "      <td>03:19</td>\n",
              "    </tr>\n",
              "    <tr>\n",
              "      <td>3</td>\n",
              "      <td>0.787078</td>\n",
              "      <td>1.875077</td>\n",
              "      <td>0.713720</td>\n",
              "      <td>03:19</td>\n",
              "    </tr>\n",
              "  </tbody>\n",
              "</table>"
            ],
            "text/plain": [
              "<IPython.core.display.HTML object>"
            ]
          },
          "metadata": {
            "tags": []
          }
        }
      ]
    },
    {
      "cell_type": "code",
      "metadata": {
        "id": "keYKcKuPtL5K",
        "colab_type": "code",
        "colab": {
          "base_uri": "https://localhost:8080/",
          "height": 111
        },
        "outputId": "2b3d2911-ba25-43b7-ba67-d0ed395a381c"
      },
      "source": [
        "learn.fit_one_cycle(2, slice(2e-3/100, 2e-3))"
      ],
      "execution_count": 43,
      "outputs": [
        {
          "output_type": "display_data",
          "data": {
            "text/html": [
              "<table border=\"1\" class=\"dataframe\">\n",
              "  <thead>\n",
              "    <tr style=\"text-align: left;\">\n",
              "      <th>epoch</th>\n",
              "      <th>train_loss</th>\n",
              "      <th>valid_loss</th>\n",
              "      <th>accuracy</th>\n",
              "      <th>time</th>\n",
              "    </tr>\n",
              "  </thead>\n",
              "  <tbody>\n",
              "    <tr>\n",
              "      <td>0</td>\n",
              "      <td>0.807157</td>\n",
              "      <td>1.905657</td>\n",
              "      <td>0.705805</td>\n",
              "      <td>03:32</td>\n",
              "    </tr>\n",
              "    <tr>\n",
              "      <td>1</td>\n",
              "      <td>0.781333</td>\n",
              "      <td>1.945490</td>\n",
              "      <td>0.709763</td>\n",
              "      <td>03:21</td>\n",
              "    </tr>\n",
              "  </tbody>\n",
              "</table>"
            ],
            "text/plain": [
              "<IPython.core.display.HTML object>"
            ]
          },
          "metadata": {
            "tags": []
          }
        }
      ]
    },
    {
      "cell_type": "code",
      "metadata": {
        "id": "6opfpXGkt3hw",
        "colab_type": "code",
        "colab": {
          "base_uri": "https://localhost:8080/",
          "height": 111
        },
        "outputId": "cf6bb847-c5d8-4cc8-c3c5-194eb74013ec"
      },
      "source": [
        "learn.fit_one_cycle(2, slice(2e-3/100, 2e-3))"
      ],
      "execution_count": 44,
      "outputs": [
        {
          "output_type": "display_data",
          "data": {
            "text/html": [
              "<table border=\"1\" class=\"dataframe\">\n",
              "  <thead>\n",
              "    <tr style=\"text-align: left;\">\n",
              "      <th>epoch</th>\n",
              "      <th>train_loss</th>\n",
              "      <th>valid_loss</th>\n",
              "      <th>accuracy</th>\n",
              "      <th>time</th>\n",
              "    </tr>\n",
              "  </thead>\n",
              "  <tbody>\n",
              "    <tr>\n",
              "      <td>0</td>\n",
              "      <td>0.788444</td>\n",
              "      <td>1.961399</td>\n",
              "      <td>0.713720</td>\n",
              "      <td>03:32</td>\n",
              "    </tr>\n",
              "    <tr>\n",
              "      <td>1</td>\n",
              "      <td>0.745798</td>\n",
              "      <td>1.983466</td>\n",
              "      <td>0.715040</td>\n",
              "      <td>03:28</td>\n",
              "    </tr>\n",
              "  </tbody>\n",
              "</table>"
            ],
            "text/plain": [
              "<IPython.core.display.HTML object>"
            ]
          },
          "metadata": {
            "tags": []
          }
        }
      ]
    },
    {
      "cell_type": "code",
      "metadata": {
        "id": "c65d-osfDUXm",
        "colab_type": "code",
        "colab": {}
      },
      "source": [
        "# save the best model\n",
        "\n",
        "learn.save_encoder('ask-0-tuning-bigtweet')"
      ],
      "execution_count": 0,
      "outputs": []
    },
    {
      "cell_type": "markdown",
      "metadata": {
        "id": "rCwZU0E2RgM6",
        "colab_type": "text"
      },
      "source": [
        "# Part three: Predict on the test dataset"
      ]
    },
    {
      "cell_type": "code",
      "metadata": {
        "id": "gDm72c-dOu7d",
        "colab_type": "code",
        "colab": {
          "base_uri": "https://localhost:8080/",
          "height": 17
        },
        "outputId": "5cb360b7-1b5e-4bb8-9336-944fe61b779d"
      },
      "source": [
        "# use the test data for prediction\n",
        "\n",
        "preds, y = learn.get_preds(DatasetType.Test)"
      ],
      "execution_count": 46,
      "outputs": [
        {
          "output_type": "display_data",
          "data": {
            "text/html": [
              ""
            ],
            "text/plain": [
              "<IPython.core.display.HTML object>"
            ]
          },
          "metadata": {
            "tags": []
          }
        }
      ]
    },
    {
      "cell_type": "code",
      "metadata": {
        "id": "6tFSQcsWPvxn",
        "colab_type": "code",
        "colab": {
          "base_uri": "https://localhost:8080/",
          "height": 105
        },
        "outputId": "81489260-d2d5-4103-b899-5c07400f62db"
      },
      "source": [
        "predictions, *_ = learn.get_preds(DatasetType.Test)\n",
        "labels = np.argmax(predictions, 1)\n",
        "predict_list = labels.tolist()\n",
        "standard_list = test[0].tolist()\n",
        "\n",
        "print(len(predict_list))\n",
        "print(len(standard_list))\n",
        "\n",
        "print(predict_list)\n",
        "print(standard_list)"
      ],
      "execution_count": 47,
      "outputs": [
        {
          "output_type": "display_data",
          "data": {
            "text/html": [
              ""
            ],
            "text/plain": [
              "<IPython.core.display.HTML object>"
            ]
          },
          "metadata": {
            "tags": []
          }
        },
        {
          "output_type": "stream",
          "text": [
            "866\n",
            "866\n",
            "[2, 39, 1035, 8, 8, 8, 1035, 8, 70, 359, 402, 27, 826, 683, 31, 31, 31, 32, 197, 37, 37, 861, 37, 37, 37, 37, 117, 289, 289, 289, 39, 623, 655, 632, 49, 53, 49, 557, 473, 100, 100, 100, 100, 100, 100, 623, 157, 53, 256, 256, 595, 517, 58, 60, 1035, 1035, 817, 607, 245, 70, 30, 71, 71, 71, 1035, 289, 289, 741, 741, 190, 817, 289, 79, 260, 260, 260, 260, 260, 260, 260, 260, 260, 260, 260, 260, 260, 260, 260, 260, 260, 260, 260, 260, 260, 686, 686, 817, 182, 182, 182, 281, 554, 80, 80, 80, 80, 80, 80, 847, 817, 268, 1035, 227, 227, 517, 94, 94, 94, 826, 826, 94, 94, 94, 94, 94, 245, 245, 564, 809, 100, 100, 100, 100, 108, 108, 108, 781, 275, 111, 111, 111, 565, 30, 111, 860, 120, 125, 817, 125, 125, 125, 125, 125, 125, 125, 125, 125, 125, 125, 125, 125, 125, 289, 131, 132, 135, 817, 817, 137, 817, 142, 143, 1032, 817, 847, 753, 766, 157, 161, 162, 817, 773, 773, 182, 289, 289, 864, 864, 210, 194, 708, 607, 281, 182, 289, 289, 183, 183, 265, 187, 187, 187, 187, 187, 189, 289, 210, 190, 190, 604, 289, 182, 182, 105, 105, 170, 197, 197, 197, 197, 202, 203, 205, 205, 205, 207, 245, 289, 210, 210, 210, 194, 817, 817, 817, 840, 214, 214, 214, 214, 214, 369, 214, 214, 214, 579, 214, 817, 218, 218, 517, 218, 220, 223, 577, 322, 228, 636, 228, 228, 515, 228, 517, 746, 140, 234, 746, 235, 235, 591, 235, 487, 236, 164, 817, 817, 164, 164, 817, 243, 243, 243, 243, 646, 817, 817, 817, 817, 840, 688, 205, 245, 246, 374, 374, 252, 645, 260, 289, 318, 402, 301, 402, 265, 265, 265, 701, 265, 265, 265, 265, 265, 265, 265, 265, 265, 265, 265, 265, 265, 265, 597, 402, 704, 100, 170, 274, 687, 277, 165, 278, 280, 289, 289, 289, 289, 289, 289, 289, 289, 205, 289, 864, 289, 289, 289, 289, 289, 289, 289, 289, 289, 289, 79, 382, 257, 293, 646, 106, 106, 301, 301, 304, 553, 308, 310, 318, 318, 167, 49, 49, 49, 49, 49, 49, 49, 49, 49, 49, 49, 49, 817, 817, 325, 329, 332, 334, 817, 336, 336, 766, 337, 337, 337, 579, 820, 741, 337, 338, 816, 342, 343, 343, 343, 127, 194, 172, 359, 359, 289, 817, 363, 363, 364, 364, 289, 364, 370, 801, 374, 391, 442, 402, 402, 89, 711, 150, 418, 337, 419, 419, 419, 419, 817, 265, 817, 562, 553, 194, 426, 426, 445, 426, 426, 426, 597, 427, 427, 597, 597, 597, 597, 597, 427, 427, 817, 500, 427, 427, 801, 817, 426, 447, 441, 443, 443, 391, 446, 120, 142, 607, 164, 164, 817, 214, 817, 817, 817, 460, 289, 908, 289, 471, 360, 473, 519, 487, 579, 566, 489, 491, 491, 491, 117, 491, 491, 607, 746, 495, 495, 495, 499, 501, 502, 49, 517, 517, 517, 517, 194, 517, 517, 733, 524, 524, 524, 524, 524, 524, 528, 623, 530, 530, 530, 531, 62, 183, 532, 194, 847, 746, 541, 541, 541, 164, 817, 551, 553, 505, 214, 100, 574, 427, 579, 868, 414, 585, 511, 817, 299, 590, 817, 359, 592, 145, 595, 595, 164, 427, 289, 741, 610, 610, 326, 817, 614, 289, 614, 289, 614, 326, 817, 817, 817, 624, 627, 632, 635, 359, 568, 318, 690, 646, 646, 646, 646, 648, 636, 289, 656, 662, 491, 190, 817, 475, 660, 265, 704, 704, 708, 708, 194, 194, 711, 511, 714, 714, 716, 182, 861, 735, 65, 372, 912, 289, 289, 745, 492, 492, 749, 749, 749, 753, 753, 245, 245, 245, 779, 513, 106, 722, 245, 416, 773, 723, 775, 778, 778, 778, 778, 780, 790, 796, 753, 753, 588, 753, 804, 806, 806, 817, 809, 809, 809, 810, 790, 825, 746, 817, 511, 830, 830, 830, 533, 831, 202, 840, 817, 318, 847, 847, 847, 847, 817, 853, 853, 853, 853, 420, 864, 864, 866, 896, 896, 117, 896, 896, 896, 896, 256, 753, 199, 904, 817, 921, 921, 921, 921, 164, 817, 937, 937, 937, 983, 164, 164, 164, 948, 948, 948, 948, 164, 949, 949, 949, 949, 949, 949, 949, 949, 949, 949, 949, 949, 949, 949, 949, 949, 949, 949, 949, 949, 949, 949, 949, 949, 949, 949, 949, 949, 949, 949, 949, 949, 949, 949, 949, 949, 949, 949, 949, 949, 949, 949, 949, 949, 949, 949, 949, 949, 949, 949, 949, 949, 949, 949, 949, 949, 949, 949, 949, 949, 949, 949, 949, 949, 949, 949, 949, 949, 949, 949, 949, 949, 949, 949, 949, 949, 949, 949, 949, 949, 949, 949, 949, 949, 164, 817, 949, 949, 949, 949, 949, 949, 949, 949, 949, 949, 949, 949, 949, 949, 817, 950, 950, 950, 952, 912, 164, 164, 164, 960, 991, 1009, 913, 817, 949, 977, 980, 817, 1023, 164, 986, 164, 164, 817, 991, 194, 917, 966, 164, 164, 1003, 1023, 1014, 1015, 164, 164, 1005, 511, 511, 817, 817, 511, 511, 1026, 817, 1028, 1028, 1028, 1028, 1028, 1028, 1029, 1029, 1035]\n",
            "[2, 4, 8, 8, 8, 8, 8, 8, 10, 16, 23, 27, 30, 31, 31, 31, 31, 32, 34, 37, 37, 37, 37, 37, 37, 37, 37, 37, 37, 37, 39, 40, 44, 48, 49, 49, 49, 49, 49, 49, 49, 49, 49, 49, 49, 50, 52, 53, 53, 53, 53, 57, 58, 60, 62, 62, 68, 69, 70, 70, 70, 71, 71, 71, 75, 76, 76, 79, 79, 79, 79, 79, 79, 79, 79, 79, 79, 79, 79, 79, 79, 79, 79, 79, 79, 79, 79, 79, 79, 79, 79, 79, 79, 79, 79, 79, 79, 79, 79, 79, 79, 80, 80, 80, 80, 80, 80, 80, 82, 83, 89, 90, 92, 92, 93, 94, 94, 94, 94, 94, 94, 94, 94, 94, 94, 96, 96, 97, 98, 100, 100, 100, 100, 108, 108, 108, 109, 110, 111, 111, 111, 111, 111, 111, 115, 120, 125, 125, 125, 125, 125, 125, 125, 125, 125, 125, 125, 125, 125, 125, 125, 125, 129, 131, 132, 135, 135, 135, 137, 139, 142, 143, 149, 151, 151, 152, 155, 157, 161, 162, 163, 166, 166, 172, 172, 172, 172, 172, 172, 174, 180, 180, 182, 182, 182, 182, 183, 183, 185, 187, 187, 187, 187, 187, 189, 190, 190, 190, 190, 190, 190, 190, 190, 193, 193, 194, 197, 197, 197, 197, 202, 203, 205, 205, 205, 207, 207, 209, 210, 210, 210, 213, 214, 214, 214, 214, 214, 214, 214, 214, 214, 214, 214, 214, 214, 214, 214, 215, 218, 218, 218, 218, 220, 223, 224, 227, 228, 228, 228, 228, 228, 228, 230, 231, 232, 234, 234, 235, 235, 235, 235, 236, 236, 238, 238, 238, 243, 243, 243, 243, 243, 243, 243, 244, 245, 245, 245, 245, 245, 245, 245, 245, 246, 246, 246, 249, 254, 260, 260, 260, 265, 265, 265, 265, 265, 265, 265, 265, 265, 265, 265, 265, 265, 265, 265, 265, 265, 265, 265, 265, 265, 265, 265, 265, 265, 274, 274, 275, 277, 277, 278, 280, 281, 289, 289, 289, 289, 289, 289, 289, 289, 289, 289, 289, 289, 289, 289, 289, 289, 289, 289, 289, 289, 289, 291, 291, 293, 297, 298, 298, 301, 301, 304, 306, 308, 310, 318, 318, 319, 325, 325, 325, 325, 325, 325, 325, 325, 325, 325, 325, 325, 325, 325, 325, 329, 332, 334, 335, 336, 336, 337, 337, 337, 337, 337, 337, 337, 337, 338, 341, 342, 343, 343, 343, 343, 353, 356, 359, 359, 360, 362, 363, 363, 364, 364, 364, 364, 370, 375, 379, 391, 395, 402, 402, 404, 408, 416, 418, 418, 419, 419, 419, 419, 419, 419, 420, 421, 422, 425, 426, 426, 426, 426, 426, 426, 427, 427, 427, 427, 427, 427, 427, 427, 427, 427, 427, 427, 427, 427, 427, 427, 427, 436, 441, 443, 443, 444, 446, 446, 447, 450, 454, 455, 455, 455, 455, 455, 458, 460, 464, 466, 469, 471, 473, 473, 485, 487, 487, 488, 489, 491, 491, 491, 491, 491, 491, 492, 492, 495, 495, 495, 499, 501, 502, 509, 517, 517, 517, 517, 517, 517, 517, 521, 524, 524, 524, 524, 524, 524, 528, 528, 530, 530, 530, 531, 531, 531, 532, 537, 540, 541, 541, 541, 541, 548, 548, 551, 552, 555, 572, 573, 574, 575, 579, 582, 584, 585, 587, 588, 589, 590, 590, 591, 592, 595, 595, 595, 597, 597, 604, 606, 610, 610, 610, 611, 614, 614, 614, 614, 614, 618, 619, 619, 619, 624, 627, 632, 635, 640, 640, 642, 644, 646, 646, 646, 646, 648, 652, 652, 656, 662, 662, 686, 693, 695, 699, 702, 704, 704, 708, 708, 710, 710, 711, 714, 714, 714, 715, 717, 727, 735, 736, 737, 741, 741, 741, 745, 746, 746, 749, 749, 750, 753, 753, 764, 764, 764, 765, 765, 766, 769, 769, 771, 773, 775, 775, 778, 778, 778, 778, 780, 790, 796, 803, 803, 803, 803, 804, 806, 806, 806, 809, 809, 809, 810, 823, 825, 826, 826, 830, 830, 830, 830, 830, 831, 834, 840, 840, 841, 847, 847, 847, 847, 849, 853, 853, 853, 853, 859, 864, 864, 866, 896, 896, 896, 896, 896, 896, 897, 901, 903, 904, 904, 914, 919, 919, 919, 919, 922, 933, 937, 937, 937, 938, 940, 940, 940, 948, 948, 948, 948, 948, 949, 949, 949, 949, 949, 949, 949, 949, 949, 949, 949, 949, 949, 949, 949, 949, 949, 949, 949, 949, 949, 949, 949, 949, 949, 949, 949, 949, 949, 949, 949, 949, 949, 949, 949, 949, 949, 949, 949, 949, 949, 949, 949, 949, 949, 949, 949, 949, 949, 949, 949, 949, 949, 949, 949, 949, 949, 949, 949, 949, 949, 949, 949, 949, 949, 949, 949, 949, 949, 949, 949, 949, 949, 949, 949, 949, 949, 949, 949, 949, 949, 949, 949, 949, 949, 949, 949, 949, 949, 949, 949, 949, 949, 949, 949, 949, 949, 949, 949, 949, 949, 950, 950, 950, 952, 953, 955, 955, 958, 960, 962, 967, 967, 973, 974, 977, 980, 981, 981, 983, 986, 988, 989, 989, 991, 994, 994, 997, 1001, 1001, 1003, 1013, 1014, 1015, 1016, 1016, 1026, 1026, 1026, 1026, 1026, 1026, 1026, 1026, 1026, 1028, 1028, 1028, 1028, 1028, 1028, 1029, 1029, 1035]\n"
          ],
          "name": "stdout"
        }
      ]
    },
    {
      "cell_type": "code",
      "metadata": {
        "id": "XIC4zufnMxtq",
        "colab_type": "code",
        "colab": {
          "base_uri": "https://localhost:8080/",
          "height": 51
        },
        "outputId": "960d6743-3b33-4d02-86a9-1c0ff541b5de"
      },
      "source": [
        "correct_num = 0\n",
        "\n",
        "for i in range(0, len(standard_list)):\n",
        "  if predict_list[i] == standard_list[i]:\n",
        "    correct_num = correct_num+1\n",
        "  else:\n",
        "    pass\n",
        "print(correct_num)\n",
        "\n",
        "predict_accuracy = correct_num/len(predict_list)\n",
        "print(predict_accuracy)"
      ],
      "execution_count": 48,
      "outputs": [
        {
          "output_type": "stream",
          "text": [
            "464\n",
            "0.535796766743649\n"
          ],
          "name": "stdout"
        }
      ]
    },
    {
      "cell_type": "code",
      "metadata": {
        "id": "zlKMHp1CIaRJ",
        "colab_type": "code",
        "colab": {}
      },
      "source": [
        ""
      ],
      "execution_count": 0,
      "outputs": []
    }
  ]
}