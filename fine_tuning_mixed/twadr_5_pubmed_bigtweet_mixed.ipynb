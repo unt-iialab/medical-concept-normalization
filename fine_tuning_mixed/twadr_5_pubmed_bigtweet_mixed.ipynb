{
  "nbformat": 4,
  "nbformat_minor": 0,
  "metadata": {
    "colab": {
      "name": "twadr_5_pubmed_bigtweet_mixed.ipynb",
      "provenance": [],
      "collapsed_sections": [],
      "toc_visible": true,
      "include_colab_link": true
    },
    "kernelspec": {
      "name": "python3",
      "display_name": "Python 3"
    },
    "accelerator": "TPU"
  },
  "cells": [
    {
      "cell_type": "markdown",
      "metadata": {
        "id": "view-in-github",
        "colab_type": "text"
      },
      "source": [
        "<a href=\"https://colab.research.google.com/github/unt-iialab/medical-concept-normalization/blob/master/fine_tuning_mixed/twadr_5_pubmed_bigtweet_mixed.ipynb\" target=\"_parent\"><img src=\"https://colab.research.google.com/assets/colab-badge.svg\" alt=\"Open In Colab\"/></a>"
      ]
    },
    {
      "cell_type": "code",
      "metadata": {
        "id": "adSi6i2-dWxy",
        "colab_type": "code",
        "colab": {}
      },
      "source": [
        "import os"
      ],
      "execution_count": 0,
      "outputs": []
    },
    {
      "cell_type": "code",
      "metadata": {
        "id": "E7xYCRGPjd9B",
        "colab_type": "code",
        "colab": {}
      },
      "source": [
        "base_dir = 'medical-concept-normalization'"
      ],
      "execution_count": 0,
      "outputs": []
    },
    {
      "cell_type": "code",
      "metadata": {
        "id": "yvIW3aUDjYNS",
        "colab_type": "code",
        "colab": {}
      },
      "source": [
        "os.mkdir(base_dir)"
      ],
      "execution_count": 0,
      "outputs": []
    },
    {
      "cell_type": "code",
      "metadata": {
        "id": "es-FFLlfk6SG",
        "colab_type": "code",
        "colab": {}
      },
      "source": [
        "os.mkdir('medical-concept-normalization/data_collection')"
      ],
      "execution_count": 0,
      "outputs": []
    },
    {
      "cell_type": "markdown",
      "metadata": {
        "id": "0R-Guw_VoJXm",
        "colab_type": "text"
      },
      "source": [
        "**Install fastai and clone the fastai for text classification**\n",
        "\n"
      ]
    },
    {
      "cell_type": "code",
      "metadata": {
        "id": "QVZa3Z0PmHFH",
        "colab_type": "code",
        "outputId": "3e484724-80f3-4fef-f42f-87cbc68cb1ec",
        "colab": {
          "base_uri": "https://localhost:8080/",
          "height": 119
        }
      },
      "source": [
        "!curl https://course-v3.fast.ai/setup/colab | bash"
      ],
      "execution_count": 5,
      "outputs": [
        {
          "output_type": "stream",
          "text": [
            "  % Total    % Received % Xferd  Average Speed   Time    Time     Time  Current\n",
            "                                 Dload  Upload   Total   Spent    Left  Speed\n",
            "  0     0    0     0    0     0      0      0 --:--:--  0:00:05 --:--:--     0bash: line 1: syntax error near unexpected token `newline'\n",
            "bash: line 1: `<!DOCTYPE html>'\n",
            "100  9115  100  9115    0     0   1628      0  0:00:05  0:00:05 --:--:--  2230\n",
            "curl: (23) Failed writing body (288 != 1211)\n"
          ],
          "name": "stdout"
        }
      ]
    },
    {
      "cell_type": "code",
      "metadata": {
        "id": "_FBFFEBrmJC0",
        "colab_type": "code",
        "outputId": "069564d3-fa45-4fe4-ef2d-f677a9ad82f6",
        "colab": {
          "base_uri": "https://localhost:8080/",
          "height": 85
        }
      },
      "source": [
        "!git clone https://github.com/wshuyi/demo-nlp-classification-fastai.git"
      ],
      "execution_count": 6,
      "outputs": [
        {
          "output_type": "stream",
          "text": [
            "Cloning into 'demo-nlp-classification-fastai'...\n",
            "remote: Enumerating objects: 9, done.\u001b[K\n",
            "Unpacking objects: 100% (9/9), done.\n",
            "remote: Total 9 (delta 0), reused 0 (delta 0), pack-reused 9\n"
          ],
          "name": "stdout"
        }
      ]
    },
    {
      "cell_type": "code",
      "metadata": {
        "id": "66zfh_JqmWMU",
        "colab_type": "code",
        "colab": {}
      },
      "source": [
        "from fastai import *\n",
        "from fastai.text import *"
      ],
      "execution_count": 0,
      "outputs": []
    },
    {
      "cell_type": "markdown",
      "metadata": {
        "id": "mNIw-yALdBU9",
        "colab_type": "text"
      },
      "source": [
        "**Set the path of the data collections**"
      ]
    },
    {
      "cell_type": "code",
      "metadata": {
        "id": "pzH7VMh4mqCL",
        "colab_type": "code",
        "colab": {}
      },
      "source": [
        "path = Path('medical-concept-normalization/data_collection')"
      ],
      "execution_count": 0,
      "outputs": []
    },
    {
      "cell_type": "code",
      "metadata": {
        "id": "b8fjI6yyn4aS",
        "colab_type": "code",
        "colab": {}
      },
      "source": [
        "# training data set\n",
        "\n",
        "train_csv = path/'TwADR-L.fold-5.train.csv'\n",
        "train = pd.read_csv(train_csv, header=None)\n",
        "#train.head()\n",
        "#train.info()"
      ],
      "execution_count": 0,
      "outputs": []
    },
    {
      "cell_type": "code",
      "metadata": {
        "id": "Hmlr-bAorfHd",
        "colab_type": "code",
        "outputId": "9c9a05f2-2d6b-455f-a0b0-dac285e782e1",
        "colab": {
          "base_uri": "https://localhost:8080/",
          "height": 204
        }
      },
      "source": [
        "# validating data set\n",
        "\n",
        "valid = pd.read_csv(path/\"TwADR-L.fold-5.validation.csv\",header=None)\n",
        "valid.head()"
      ],
      "execution_count": 52,
      "outputs": [
        {
          "output_type": "execute_result",
          "data": {
            "text/html": [
              "<div>\n",
              "<style scoped>\n",
              "    .dataframe tbody tr th:only-of-type {\n",
              "        vertical-align: middle;\n",
              "    }\n",
              "\n",
              "    .dataframe tbody tr th {\n",
              "        vertical-align: top;\n",
              "    }\n",
              "\n",
              "    .dataframe thead th {\n",
              "        text-align: right;\n",
              "    }\n",
              "</style>\n",
              "<table border=\"1\" class=\"dataframe\">\n",
              "  <thead>\n",
              "    <tr style=\"text-align: right;\">\n",
              "      <th></th>\n",
              "      <th>0</th>\n",
              "      <th>1</th>\n",
              "    </tr>\n",
              "  </thead>\n",
              "  <tbody>\n",
              "    <tr>\n",
              "      <th>0</th>\n",
              "      <td>13</td>\n",
              "      <td>Insomnia</td>\n",
              "    </tr>\n",
              "    <tr>\n",
              "      <th>1</th>\n",
              "      <td>13</td>\n",
              "      <td>awake in the middle of the night</td>\n",
              "    </tr>\n",
              "    <tr>\n",
              "      <th>2</th>\n",
              "      <td>57</td>\n",
              "      <td>hypertrophic scarring</td>\n",
              "    </tr>\n",
              "    <tr>\n",
              "      <th>3</th>\n",
              "      <td>85</td>\n",
              "      <td>tremor</td>\n",
              "    </tr>\n",
              "    <tr>\n",
              "      <th>4</th>\n",
              "      <td>94</td>\n",
              "      <td>anxiety</td>\n",
              "    </tr>\n",
              "  </tbody>\n",
              "</table>\n",
              "</div>"
            ],
            "text/plain": [
              "    0                                 1\n",
              "0  13                          Insomnia\n",
              "1  13  awake in the middle of the night\n",
              "2  57             hypertrophic scarring\n",
              "3  85                            tremor\n",
              "4  94                           anxiety"
            ]
          },
          "metadata": {
            "tags": []
          },
          "execution_count": 52
        }
      ]
    },
    {
      "cell_type": "code",
      "metadata": {
        "id": "cOza9dfSsBud",
        "colab_type": "code",
        "outputId": "4e7eb6c3-9b1e-4661-afa8-d71efa7f4caa",
        "colab": {
          "base_uri": "https://localhost:8080/",
          "height": 204
        }
      },
      "source": [
        "# testing data set\n",
        "\n",
        "test = pd.read_csv(path/\"TwADR-L.fold-5.test.csv\",header=None)\n",
        "test.head()"
      ],
      "execution_count": 53,
      "outputs": [
        {
          "output_type": "execute_result",
          "data": {
            "text/html": [
              "<div>\n",
              "<style scoped>\n",
              "    .dataframe tbody tr th:only-of-type {\n",
              "        vertical-align: middle;\n",
              "    }\n",
              "\n",
              "    .dataframe tbody tr th {\n",
              "        vertical-align: top;\n",
              "    }\n",
              "\n",
              "    .dataframe thead th {\n",
              "        text-align: right;\n",
              "    }\n",
              "</style>\n",
              "<table border=\"1\" class=\"dataframe\">\n",
              "  <thead>\n",
              "    <tr style=\"text-align: right;\">\n",
              "      <th></th>\n",
              "      <th>0</th>\n",
              "      <th>1</th>\n",
              "    </tr>\n",
              "  </thead>\n",
              "  <tbody>\n",
              "    <tr>\n",
              "      <th>0</th>\n",
              "      <td>13</td>\n",
              "      <td>up all night</td>\n",
              "    </tr>\n",
              "    <tr>\n",
              "      <th>1</th>\n",
              "      <td>13</td>\n",
              "      <td>insomnia</td>\n",
              "    </tr>\n",
              "    <tr>\n",
              "      <th>2</th>\n",
              "      <td>93</td>\n",
              "      <td>shooting</td>\n",
              "    </tr>\n",
              "    <tr>\n",
              "      <th>3</th>\n",
              "      <td>133</td>\n",
              "      <td>night terrors</td>\n",
              "    </tr>\n",
              "    <tr>\n",
              "      <th>4</th>\n",
              "      <td>231</td>\n",
              "      <td>lucid dreamer</td>\n",
              "    </tr>\n",
              "  </tbody>\n",
              "</table>\n",
              "</div>"
            ],
            "text/plain": [
              "     0              1\n",
              "0   13   up all night\n",
              "1   13       insomnia\n",
              "2   93       shooting\n",
              "3  133  night terrors\n",
              "4  231  lucid dreamer"
            ]
          },
          "metadata": {
            "tags": []
          },
          "execution_count": 53
        }
      ]
    },
    {
      "cell_type": "code",
      "metadata": {
        "id": "Vo-YNvVYoaH6",
        "colab_type": "code",
        "outputId": "d21862a9-8de1-420a-f3b7-9123f8a8efd3",
        "colab": {
          "base_uri": "https://localhost:8080/",
          "height": 17
        }
      },
      "source": [
        "# Creating DataBunch for language modelling\n",
        "\n",
        "data_lm = TextLMDataBunch.from_csv(path, 'fine_tuning_language_model_pubmed_bigtweet_mixed.csv')"
      ],
      "execution_count": 54,
      "outputs": [
        {
          "output_type": "display_data",
          "data": {
            "text/html": [
              ""
            ],
            "text/plain": [
              "<IPython.core.display.HTML object>"
            ]
          },
          "metadata": {
            "tags": []
          }
        },
        {
          "output_type": "display_data",
          "data": {
            "text/html": [
              ""
            ],
            "text/plain": [
              "<IPython.core.display.HTML object>"
            ]
          },
          "metadata": {
            "tags": []
          }
        }
      ]
    },
    {
      "cell_type": "code",
      "metadata": {
        "id": "qcV-9kMnNLBf",
        "colab_type": "code",
        "colab": {}
      },
      "source": [
        ""
      ],
      "execution_count": 0,
      "outputs": []
    },
    {
      "cell_type": "code",
      "metadata": {
        "id": "1ScY9afDsnvE",
        "colab_type": "code",
        "colab": {}
      },
      "source": [
        "# Creating DataBunch for classification\n",
        "\n",
        "# data_clas = TextClasDataBunch.from_df(path, train, valid, test, vocab=data_lm.train_ds.vocab, bs=128)"
      ],
      "execution_count": 0,
      "outputs": []
    },
    {
      "cell_type": "code",
      "metadata": {
        "id": "gzrSdQcvey9p",
        "colab_type": "code",
        "outputId": "aa70c2b0-81c8-499b-c17a-d05cb468a74a",
        "colab": {
          "base_uri": "https://localhost:8080/",
          "height": 17
        }
      },
      "source": [
        "data_clas = TextClasDataBunch.from_df(path, train, valid, vocab=data_lm.train_ds.vocab, bs=128)"
      ],
      "execution_count": 56,
      "outputs": [
        {
          "output_type": "display_data",
          "data": {
            "text/html": [
              ""
            ],
            "text/plain": [
              "<IPython.core.display.HTML object>"
            ]
          },
          "metadata": {
            "tags": []
          }
        },
        {
          "output_type": "display_data",
          "data": {
            "text/html": [
              ""
            ],
            "text/plain": [
              "<IPython.core.display.HTML object>"
            ]
          },
          "metadata": {
            "tags": []
          }
        }
      ]
    },
    {
      "cell_type": "code",
      "metadata": {
        "id": "MD27Tf0Ke3ou",
        "colab_type": "code",
        "outputId": "41b039d1-d9ca-4220-9e51-839588dc2641",
        "colab": {
          "base_uri": "https://localhost:8080/",
          "height": 17
        }
      },
      "source": [
        "data_clas.add_test(test,label=0)\n"
      ],
      "execution_count": 57,
      "outputs": [
        {
          "output_type": "display_data",
          "data": {
            "text/html": [
              ""
            ],
            "text/plain": [
              "<IPython.core.display.HTML object>"
            ]
          },
          "metadata": {
            "tags": []
          }
        }
      ]
    },
    {
      "cell_type": "code",
      "metadata": {
        "id": "-dpjnk_rstwk",
        "colab_type": "code",
        "colab": {}
      },
      "source": [
        "data_lm.save()\n",
        "data_clas.save()"
      ],
      "execution_count": 0,
      "outputs": []
    },
    {
      "cell_type": "code",
      "metadata": {
        "id": "4OkiJa36sw5s",
        "colab_type": "code",
        "colab": {
          "base_uri": "https://localhost:8080/",
          "height": 1000
        },
        "outputId": "545668be-7f60-4900-9507-93f32c46ca51"
      },
      "source": [
        "data_lm.train_ds.vocab.itos"
      ],
      "execution_count": 59,
      "outputs": [
        {
          "output_type": "execute_result",
          "data": {
            "text/plain": [
              "['xxunk',\n",
              " 'xxpad',\n",
              " 'xxbos',\n",
              " 'xxeos',\n",
              " 'xxfld',\n",
              " 'xxmaj',\n",
              " 'xxup',\n",
              " 'xxrep',\n",
              " 'xxwrep',\n",
              " 'the',\n",
              " 'of',\n",
              " 'and',\n",
              " 'in',\n",
              " 'to',\n",
              " 'a',\n",
              " 'for',\n",
              " 'with',\n",
              " 'diclofenac',\n",
              " 'was',\n",
              " 'were',\n",
              " 'on',\n",
              " 'is',\n",
              " 'rt',\n",
              " 'sodium',\n",
              " 'by',\n",
              " 'that',\n",
              " 'as',\n",
              " 'at',\n",
              " 'patients',\n",
              " 'or',\n",
              " 'this',\n",
              " 'from',\n",
              " 'drug',\n",
              " 'you',\n",
              " 'mg',\n",
              " 'i',\n",
              " 'be',\n",
              " 'disease',\n",
              " 'study',\n",
              " 'group',\n",
              " 'treatment',\n",
              " 'are',\n",
              " 'pain',\n",
              " 'after',\n",
              " 'an',\n",
              " 'not',\n",
              " 'amp',\n",
              " 'it',\n",
              " 'have',\n",
              " 'release',\n",
              " 'p',\n",
              " 'gluten',\n",
              " 'we',\n",
              " 'than',\n",
              " 'all',\n",
              " 'free',\n",
              " 'no',\n",
              " 'effect',\n",
              " 'compared',\n",
              " 'new',\n",
              " 'using',\n",
              " 'effects',\n",
              " 'groups',\n",
              " 'more',\n",
              " 'both',\n",
              " 'two',\n",
              " 'your',\n",
              " 'our',\n",
              " 'significantly',\n",
              " 'time',\n",
              " 'about',\n",
              " 'between',\n",
              " 'inflammatory',\n",
              " 'its',\n",
              " 'significant',\n",
              " 'out',\n",
              " 'these',\n",
              " 'but',\n",
              " 'h',\n",
              " 'drugs',\n",
              " 'day',\n",
              " 'use',\n",
              " 'anti',\n",
              " 'voltaren',\n",
              " 'my',\n",
              " 'which',\n",
              " 'used',\n",
              " 'can',\n",
              " 'potassium',\n",
              " 'dose',\n",
              " 'has',\n",
              " 'results',\n",
              " 'placebo',\n",
              " 'do',\n",
              " 's',\n",
              " 'one',\n",
              " 'what',\n",
              " 'also',\n",
              " 'glutenfree',\n",
              " 'there',\n",
              " 'efficacy',\n",
              " 'nt',\n",
              " 'celiac',\n",
              " 'may',\n",
              " 'days',\n",
              " 'treated',\n",
              " 'm',\n",
              " 'ds',\n",
              " 'showed',\n",
              " 'now',\n",
              " 'had',\n",
              " 'ml',\n",
              " 'when',\n",
              " 'been',\n",
              " 'up',\n",
              " 'topical',\n",
              " 'w',\n",
              " 'products',\n",
              " 'oral',\n",
              " 'studies',\n",
              " 'different',\n",
              " 'administration',\n",
              " 'rats',\n",
              " 'test',\n",
              " 'concentration',\n",
              " 'via',\n",
              " 'control',\n",
              " 'c',\n",
              " 'their',\n",
              " 'how',\n",
              " 'during',\n",
              " 'food',\n",
              " 'clinical',\n",
              " 'non',\n",
              " 'induced',\n",
              " 'well',\n",
              " 'into',\n",
              " 'found',\n",
              " 'if',\n",
              " 'other',\n",
              " 'ph',\n",
              " 'first',\n",
              " 'right',\n",
              " 'did',\n",
              " 'respectively',\n",
              " 'acid',\n",
              " 'high',\n",
              " 'observed',\n",
              " 'method',\n",
              " 'who',\n",
              " 'could',\n",
              " 'rate',\n",
              " 'formulation',\n",
              " 'hours',\n",
              " 'effective',\n",
              " 'diet',\n",
              " 'formulations',\n",
              " 'tablets',\n",
              " 'nsaids',\n",
              " 'g',\n",
              " 'plasma',\n",
              " 'mean',\n",
              " 'three',\n",
              " 'post',\n",
              " 'solution',\n",
              " 'those',\n",
              " 'gel',\n",
              " 'over',\n",
              " 'tip',\n",
              " 'review',\n",
              " 'd',\n",
              " 'n',\n",
              " 'blood',\n",
              " 'received',\n",
              " 'levels',\n",
              " 'so',\n",
              " 'atorvastatin',\n",
              " 'each',\n",
              " 'adverse',\n",
              " 'vitro',\n",
              " 'activity',\n",
              " 'analgesic',\n",
              " 'only',\n",
              " 'kg',\n",
              " 'analysis',\n",
              " 'acute',\n",
              " 'data',\n",
              " 'increased',\n",
              " 'controlled',\n",
              " 'week',\n",
              " 'dblclick',\n",
              " 'daily',\n",
              " 'concentrations',\n",
              " 'less',\n",
              " 'period',\n",
              " 'following',\n",
              " 'single',\n",
              " 'model',\n",
              " 'patient',\n",
              " 'pic',\n",
              " 'skin',\n",
              " 'some',\n",
              " 'here',\n",
              " 'randomized',\n",
              " 'good',\n",
              " 'low',\n",
              " 'total',\n",
              " 'however',\n",
              " 'weeks',\n",
              " 'symptoms',\n",
              " 'evaluated',\n",
              " 'most',\n",
              " 'they',\n",
              " 'difference',\n",
              " 'why',\n",
              " 'increase',\n",
              " 'under',\n",
              " 'based',\n",
              " 'dissolution',\n",
              " 'similar',\n",
              " 't',\n",
              " 'surgery',\n",
              " 'before',\n",
              " 'higher',\n",
              " 'check',\n",
              " 'lower',\n",
              " 'tablet',\n",
              " 'years',\n",
              " 'obtained',\n",
              " 'will',\n",
              " 'know',\n",
              " 'nsaid',\n",
              " 'postoperative',\n",
              " 'l',\n",
              " 'renal',\n",
              " 'should',\n",
              " 'therapy',\n",
              " 'double',\n",
              " 'cells',\n",
              " 'me',\n",
              " 'combination',\n",
              " 'order',\n",
              " 'b',\n",
              " 'vs',\n",
              " 'healthy',\n",
              " 'any',\n",
              " 'relief',\n",
              " 'like',\n",
              " 'while',\n",
              " 'love',\n",
              " 'prepared',\n",
              " 'life',\n",
              " 'water',\n",
              " 'doses',\n",
              " 'application',\n",
              " 'min',\n",
              " 'associated',\n",
              " 'trial',\n",
              " 'get',\n",
              " 'reduced',\n",
              " 'present',\n",
              " 'cell',\n",
              " 'just',\n",
              " 'help',\n",
              " 'differences',\n",
              " 'studied',\n",
              " 'serum',\n",
              " 'conditions',\n",
              " 'response',\n",
              " 'administered',\n",
              " 'values',\n",
              " 'events',\n",
              " 'decreased',\n",
              " 'developed',\n",
              " 'thanks',\n",
              " 'four',\n",
              " 'better',\n",
              " 'reported',\n",
              " 'either',\n",
              " 'given',\n",
              " 'absorption',\n",
              " 'great',\n",
              " 'inflammation',\n",
              " 'side',\n",
              " 'due',\n",
              " 'performed',\n",
              " 'nonsteroidal',\n",
              " 'does',\n",
              " 're',\n",
              " 'such',\n",
              " 'changes',\n",
              " 'samples',\n",
              " 'parameters',\n",
              " 'blind',\n",
              " 'us',\n",
              " 'cholesterol',\n",
              " 'subjects',\n",
              " 'need',\n",
              " 'without',\n",
              " 'within',\n",
              " 'containing',\n",
              " 'system',\n",
              " 'investigated',\n",
              " 'properties',\n",
              " 'risk',\n",
              " 'safety',\n",
              " 'phase',\n",
              " 'people',\n",
              " 'mm',\n",
              " 'gfb',\n",
              " 'assessed',\n",
              " 'type',\n",
              " 'x',\n",
              " 'show',\n",
              " 'being',\n",
              " 'number',\n",
              " 'measured',\n",
              " 'posted',\n",
              " 'times',\n",
              " 'v',\n",
              " 'reduction',\n",
              " 'included',\n",
              " 'range',\n",
              " 'gastrointestinal',\n",
              " 'health',\n",
              " 'recipe',\n",
              " '30',\n",
              " 'through',\n",
              " 'ratio',\n",
              " 'year',\n",
              " 'e',\n",
              " 'make',\n",
              " 'therapeutic',\n",
              " 'steroidal',\n",
              " 'primary',\n",
              " 'vivo',\n",
              " 'liquid',\n",
              " 'delivery',\n",
              " 'best',\n",
              " 'indomethacin',\n",
              " 'scale',\n",
              " 'related',\n",
              " 'lipitor',\n",
              " 'evaluate',\n",
              " 'development',\n",
              " 'auc',\n",
              " 'oa',\n",
              " 'potential',\n",
              " 'compare',\n",
              " 'size',\n",
              " 'ca',\n",
              " 'minutes',\n",
              " 'statistically',\n",
              " 'heres',\n",
              " 'k',\n",
              " 'many',\n",
              " 'intolerance',\n",
              " 'function',\n",
              " 'addition',\n",
              " 'ng',\n",
              " 'jennieo',\n",
              " 'level',\n",
              " 'sensitivity',\n",
              " 'applied',\n",
              " 'injection',\n",
              " 'active',\n",
              " 'living',\n",
              " 'osteoarthritis',\n",
              " 'greater',\n",
              " 'baseline',\n",
              " 'determined',\n",
              " 'human',\n",
              " 'process',\n",
              " 'eat',\n",
              " 'bioavailability',\n",
              " 'visual',\n",
              " 'coated',\n",
              " 'cox',\n",
              " '\\r \\n ',\n",
              " 'medication',\n",
              " 'form',\n",
              " 'tissue',\n",
              " 'change',\n",
              " 'scores',\n",
              " 'read',\n",
              " 'then',\n",
              " 'very',\n",
              " 'normal',\n",
              " 'tolerability',\n",
              " 'area',\n",
              " 'chronic',\n",
              " 'because',\n",
              " 'severe',\n",
              " 'revealed',\n",
              " 'dependent',\n",
              " 'available',\n",
              " 'arthritis',\n",
              " 'tips',\n",
              " 'matrix',\n",
              " 'archives',\n",
              " 'per',\n",
              " 'inhibitor',\n",
              " 'end',\n",
              " 'going',\n",
              " 'gastric',\n",
              " 'months',\n",
              " 'tested',\n",
              " 'knee',\n",
              " 'treatments',\n",
              " 'demonstrated',\n",
              " 'news',\n",
              " 'sustained',\n",
              " 'article',\n",
              " 'indicated',\n",
              " 'polymer',\n",
              " 'followed',\n",
              " 'aqueous',\n",
              " 'f',\n",
              " 'long',\n",
              " 'na',\n",
              " 'improvement',\n",
              " 'swelling',\n",
              " 'important',\n",
              " 'safe',\n",
              " 'weight',\n",
              " 'go',\n",
              " 'action',\n",
              " 'follow',\n",
              " 'provide',\n",
              " 'caused',\n",
              " 'decrease',\n",
              " 'trials',\n",
              " 'mice',\n",
              " 'same',\n",
              " 'cd',\n",
              " 'further',\n",
              " 'much',\n",
              " 'tolerated',\n",
              " 'ii',\n",
              " 'migraine',\n",
              " 'made',\n",
              " 'volunteers',\n",
              " 'randomly',\n",
              " 'aim',\n",
              " 'shown',\n",
              " 'conducted',\n",
              " 'dosage',\n",
              " 'presence',\n",
              " 'agent',\n",
              " 'inhibition',\n",
              " 'score',\n",
              " 'local',\n",
              " 'case',\n",
              " 'think',\n",
              " 'cases',\n",
              " 'diagnosed',\n",
              " 'way',\n",
              " 'diagnosis',\n",
              " 'ibuprofen',\n",
              " 'today',\n",
              " 'suggest',\n",
              " 'mechanism',\n",
              " 'exposure',\n",
              " 'peak',\n",
              " 'whereas',\n",
              " 'alone',\n",
              " '\\r \\n \\r \\n ',\n",
              " 'pharmaceutical',\n",
              " 'animals',\n",
              " '1',\n",
              " 'eye',\n",
              " 'care',\n",
              " 'reaction',\n",
              " 'age',\n",
              " 'pre',\n",
              " '2',\n",
              " 'growth',\n",
              " 'chicken',\n",
              " 'various',\n",
              " 'research',\n",
              " 'big',\n",
              " 'intensity',\n",
              " 'pressure',\n",
              " 'among',\n",
              " 'corneal',\n",
              " 'divided',\n",
              " 'part',\n",
              " 'agents',\n",
              " 'according',\n",
              " 'six',\n",
              " 'formation',\n",
              " 'secondary',\n",
              " 'permeation',\n",
              " 'including',\n",
              " 'cm',\n",
              " 'evaluation',\n",
              " 'experimental',\n",
              " 'would',\n",
              " 'surface',\n",
              " 'although',\n",
              " 'standard',\n",
              " 'enteric',\n",
              " 'profile',\n",
              " 'product',\n",
              " 'content',\n",
              " 'moderate',\n",
              " 'vas',\n",
              " 'old',\n",
              " 'please',\n",
              " 'take',\n",
              " 'rat',\n",
              " 'eating',\n",
              " 'profiles',\n",
              " 'versus',\n",
              " 'hour',\n",
              " 'male',\n",
              " 'improved',\n",
              " 'combined',\n",
              " 'determine',\n",
              " 'sensitive',\n",
              " 'systemic',\n",
              " 'plus',\n",
              " 'share',\n",
              " 'relative',\n",
              " 'least',\n",
              " 'rapid',\n",
              " 'five',\n",
              " 'multiple',\n",
              " 'r',\n",
              " 'degrees',\n",
              " 'common',\n",
              " 'damage',\n",
              " 'participants',\n",
              " 'awareness',\n",
              " 'blog',\n",
              " 'term',\n",
              " 'rofecoxib',\n",
              " 'lesions',\n",
              " 'th',\n",
              " 'onset',\n",
              " 'assessment',\n",
              " 'o',\n",
              " 'pizza',\n",
              " 'ever',\n",
              " 'edema',\n",
              " 'carried',\n",
              " 'happy',\n",
              " 'misoprostol',\n",
              " 'amount',\n",
              " 'beads',\n",
              " 'produced',\n",
              " 'protein',\n",
              " 'vehicle',\n",
              " 'urine',\n",
              " 'body',\n",
              " 'linked',\n",
              " 'against',\n",
              " 'temperature',\n",
              " 'microspheres',\n",
              " 'examined',\n",
              " '4',\n",
              " 'even',\n",
              " 'achieved',\n",
              " 'cmax',\n",
              " 'pharmacokinetic',\n",
              " 'overall',\n",
              " 'evidence',\n",
              " 'month',\n",
              " 'aspirin',\n",
              " 'dr',\n",
              " 'muscle',\n",
              " 'initial',\n",
              " 'models',\n",
              " 'reference',\n",
              " 'intestinal',\n",
              " 'once',\n",
              " 'find',\n",
              " 'thus',\n",
              " 'global',\n",
              " 'value',\n",
              " 'quality',\n",
              " 'specific',\n",
              " 'recorded',\n",
              " 'want',\n",
              " 'ci',\n",
              " 'easy',\n",
              " 'third',\n",
              " 'resulted',\n",
              " 'complete',\n",
              " 'state',\n",
              " 'prostaglandin',\n",
              " 'methods',\n",
              " 'investigate',\n",
              " 'maximum',\n",
              " 'flow',\n",
              " 'membrane',\n",
              " 'production',\n",
              " 'technique',\n",
              " 'analgesia',\n",
              " 'synthesis',\n",
              " 'rates',\n",
              " 'naproxen',\n",
              " 'them',\n",
              " 'efficiency',\n",
              " 'medical',\n",
              " 'determination',\n",
              " 'possible',\n",
              " 'pellets',\n",
              " 'cookbook',\n",
              " 'second',\n",
              " 'commercial',\n",
              " 'cause',\n",
              " 'novel',\n",
              " 'super',\n",
              " 'receiving',\n",
              " 'physical',\n",
              " 'soup',\n",
              " 'u',\n",
              " 'patch',\n",
              " 'complex',\n",
              " 'indicate',\n",
              " 'interaction',\n",
              " 'needed',\n",
              " 'preparation',\n",
              " 'might',\n",
              " 'comparison',\n",
              " 'cross',\n",
              " 'where',\n",
              " 'phosphate',\n",
              " 'released',\n",
              " 'design',\n",
              " 'solid',\n",
              " 'incidence',\n",
              " 'bone',\n",
              " 'expression',\n",
              " 'looking',\n",
              " 'medium',\n",
              " 'diffusion',\n",
              " 'calcium',\n",
              " 'small',\n",
              " 'therefore',\n",
              " 'got',\n",
              " 'whether',\n",
              " 'considered',\n",
              " 'extent',\n",
              " 'eyes',\n",
              " '5',\n",
              " 'volume',\n",
              " 'buffer',\n",
              " 'work',\n",
              " 'outcome',\n",
              " 'medications',\n",
              " 'characterized',\n",
              " 'early',\n",
              " 'joint',\n",
              " 'liver',\n",
              " 'co',\n",
              " 'rheumatoid',\n",
              " 'current',\n",
              " 'wheat',\n",
              " 'inhibitors',\n",
              " 'duration',\n",
              " 'intramuscular',\n",
              " 'preparations',\n",
              " 'solutions',\n",
              " 'beta',\n",
              " 'gf',\n",
              " 'still',\n",
              " 'women',\n",
              " 'performance',\n",
              " 'mild',\n",
              " 'see',\n",
              " 'inhibited',\n",
              " 'gi',\n",
              " 'back',\n",
              " 'provided',\n",
              " 'loaded',\n",
              " 'hplc',\n",
              " 'children',\n",
              " 'antiinflammatory',\n",
              " 'alternative',\n",
              " 'assess',\n",
              " 'try',\n",
              " 'detection',\n",
              " 'degree',\n",
              " 'il',\n",
              " 'influence',\n",
              " 'foods',\n",
              " 'others',\n",
              " 'few',\n",
              " 'alpha',\n",
              " 'cream',\n",
              " 'delicious',\n",
              " 'twice',\n",
              " 'affect',\n",
              " 'vascular',\n",
              " 'findings',\n",
              " 'site',\n",
              " 'every',\n",
              " 'dic',\n",
              " 'ldl',\n",
              " 'microg',\n",
              " 'increasing',\n",
              " 'drops',\n",
              " 'saline',\n",
              " 'autographed',\n",
              " 'bread',\n",
              " 'treat',\n",
              " 'comparable',\n",
              " 'cardiovascular',\n",
              " 'ocular',\n",
              " 'simple',\n",
              " 'capsules',\n",
              " 'responses',\n",
              " 'tissues',\n",
              " 'clinically',\n",
              " 'paracetamol',\n",
              " 'tests',\n",
              " 'brain',\n",
              " 'ketorolac',\n",
              " '2014',\n",
              " 'support',\n",
              " 'information',\n",
              " 'nm',\n",
              " 'analyzed',\n",
              " 'lipid',\n",
              " 'syndrome',\n",
              " 'point',\n",
              " 'superior',\n",
              " 'too',\n",
              " 'modified',\n",
              " 'top',\n",
              " 'index',\n",
              " 'since',\n",
              " 'terms',\n",
              " 'factor',\n",
              " 'story',\n",
              " 'transdermal',\n",
              " 'forms',\n",
              " 'exhibited',\n",
              " 'hp',\n",
              " 'thank',\n",
              " 'options',\n",
              " 'pge',\n",
              " 'activities',\n",
              " 'additional',\n",
              " 'hpmc',\n",
              " 'known',\n",
              " 'fluid',\n",
              " 'several',\n",
              " 'rabbits',\n",
              " 'sr',\n",
              " 'learn',\n",
              " 'testing',\n",
              " 'max',\n",
              " 'celecoxib',\n",
              " 'dfs',\n",
              " 'bowl',\n",
              " 'dpsgc',\n",
              " 'clearance',\n",
              " 'seen',\n",
              " 'affected',\n",
              " 'kinetics',\n",
              " 'extraction',\n",
              " 'collected',\n",
              " 'solubility',\n",
              " 'cataract',\n",
              " 'stability',\n",
              " 'cyclooxygenase',\n",
              " 'taking',\n",
              " 'open',\n",
              " 'aged',\n",
              " 'death',\n",
              " 'characteristics',\n",
              " 'management',\n",
              " 'crossover',\n",
              " 'penetration',\n",
              " 'friends',\n",
              " 've',\n",
              " 'special',\n",
              " 'objective',\n",
              " 'enhanced',\n",
              " 'cambia',\n",
              " 'scanning',\n",
              " 'across',\n",
              " 'able',\n",
              " 'recipes',\n",
              " 'market',\n",
              " 'density',\n",
              " 'de',\n",
              " 'particle',\n",
              " 'dcf',\n",
              " 'another',\n",
              " 'short',\n",
              " 'child',\n",
              " 'issues',\n",
              " 'role',\n",
              " 'reduce',\n",
              " 'next',\n",
              " 'america',\n",
              " 'chitosan',\n",
              " 'having',\n",
              " 'required',\n",
              " 'aes',\n",
              " 'serious',\n",
              " 'experiments',\n",
              " 'selective',\n",
              " 'factors',\n",
              " 'effectiveness',\n",
              " 'receive',\n",
              " 'last',\n",
              " 'oil',\n",
              " 'randomised',\n",
              " 'capsule',\n",
              " 'list',\n",
              " 'info',\n",
              " 'percentage',\n",
              " 'event',\n",
              " 'microm',\n",
              " 'occurred',\n",
              " 'df',\n",
              " 'structure',\n",
              " 'headache',\n",
              " 'ability',\n",
              " 'binding',\n",
              " 'ak',\n",
              " 'diseases',\n",
              " 'urinary',\n",
              " 'likely',\n",
              " 'confirmed',\n",
              " 'prolonged',\n",
              " 'systems',\n",
              " 'orally',\n",
              " 'especially',\n",
              " 'potent',\n",
              " 'selected',\n",
              " 'chloride',\n",
              " 'really',\n",
              " 'detected',\n",
              " 'quinoa',\n",
              " 'series',\n",
              " 'improve',\n",
              " 'sd',\n",
              " 'laser',\n",
              " 'flare',\n",
              " 'excretion',\n",
              " 'cs',\n",
              " 'operative',\n",
              " 'procedure',\n",
              " 'suggested',\n",
              " 'drop',\n",
              " 'arthrotec',\n",
              " '10',\n",
              " 'develop',\n",
              " 'world',\n",
              " 'allergy',\n",
              " 'peg',\n",
              " 'interesting',\n",
              " 'faster',\n",
              " 'toxicity',\n",
              " 'report',\n",
              " 'page',\n",
              " 'hospital',\n",
              " 'coeliac',\n",
              " 'book',\n",
              " 'prior',\n",
              " 'later',\n",
              " 'experience',\n",
              " 'microscopy',\n",
              " 'relaxation',\n",
              " 'direct',\n",
              " 'major',\n",
              " 'zero',\n",
              " 'creatinine',\n",
              " 'loading',\n",
              " 'widely',\n",
              " 'analogue',\n",
              " 'assay',\n",
              " 'tmax',\n",
              " 'interview',\n",
              " 'assigned',\n",
              " 'hr',\n",
              " '3',\n",
              " 'validated',\n",
              " 'kcnq',\n",
              " 'laboratory',\n",
              " 'variables',\n",
              " 'generic',\n",
              " 'start',\n",
              " 'percent',\n",
              " 'getting',\n",
              " 'slow',\n",
              " 'must',\n",
              " 'ophthalmic',\n",
              " 'giveaway',\n",
              " 'average',\n",
              " 'hand',\n",
              " 'respect',\n",
              " 'useful',\n",
              " 'feel',\n",
              " 'independent',\n",
              " 'individual',\n",
              " 'down',\n",
              " 'reducing',\n",
              " 'approximately',\n",
              " 'channel',\n",
              " 'live',\n",
              " 'kids',\n",
              " 'signs',\n",
              " 'community',\n",
              " 'positive',\n",
              " 'he',\n",
              " 'always',\n",
              " 'injected',\n",
              " 'metabolism',\n",
              " 'stem',\n",
              " 'breakfast',\n",
              " 'proposed',\n",
              " 'salt',\n",
              " 'analgesics',\n",
              " 'fast',\n",
              " 'hip',\n",
              " 'whole',\n",
              " 'prescribed',\n",
              " 'mt',\n",
              " 'molar',\n",
              " 'injury',\n",
              " 'population',\n",
              " 'eudragit',\n",
              " 'optimized',\n",
              " 'dosing',\n",
              " 'reasons',\n",
              " 'chemical',\n",
              " 'measures',\n",
              " 'rescue',\n",
              " 'designed',\n",
              " 'alginate',\n",
              " 'morning',\n",
              " 'ask',\n",
              " 'twenty',\n",
              " 'absence',\n",
              " 'result',\n",
              " 'channels',\n",
              " 'coating',\n",
              " 'avoid',\n",
              " 'recommended',\n",
              " 'criteria',\n",
              " 'her',\n",
              " 'off',\n",
              " 'lipoprotein',\n",
              " 'yes',\n",
              " 'molecular',\n",
              " 'activation',\n",
              " 'medicine',\n",
              " 'sunday',\n",
              " 'media',\n",
              " 'own',\n",
              " 'postoperatively',\n",
              " 'distribution',\n",
              " 'condition',\n",
              " 'limit',\n",
              " 'behavior',\n",
              " 'seven',\n",
              " 'analog',\n",
              " 'adsorption',\n",
              " 'differential',\n",
              " 'large',\n",
              " 'statin',\n",
              " 'immediate',\n",
              " 'chocolate',\n",
              " 'rise',\n",
              " 'his',\n",
              " 'convention',\n",
              " 'established',\n",
              " 'recently',\n",
              " 'intravenous',\n",
              " 'permeability',\n",
              " 'infection',\n",
              " 'spectroscopy',\n",
              " 'collagen',\n",
              " 'involved',\n",
              " 'dexamethasone',\n",
              " 'delayed',\n",
              " 'fed',\n",
              " 'published',\n",
              " 'plant',\n",
              " 'median',\n",
              " 'parallel',\n",
              " 'flurbiprofen',\n",
              " 'coming',\n",
              " 'acetaminophen',\n",
              " 'ty',\n",
              " 'piroxicam',\n",
              " 'experienced',\n",
              " 'things',\n",
              " 'movement',\n",
              " 'chromatography',\n",
              " 'target',\n",
              " 'highly',\n",
              " 'reactions',\n",
              " ...]"
            ]
          },
          "metadata": {
            "tags": []
          },
          "execution_count": 59
        }
      ]
    },
    {
      "cell_type": "code",
      "metadata": {
        "id": "yPWr03mls3VT",
        "colab_type": "code",
        "colab": {}
      },
      "source": [
        "model_path = path/'models'\n",
        "model_path.mkdir(exist_ok=True)\n",
        "url = 'http://files.fast.ai/models/wt103_v1/'\n",
        "download_url(f'{url}lstm_wt103.pth', model_path/'lstm_wt103.pth')\n",
        "download_url(f'{url}itos_wt103.pkl', model_path/'itos_wt103.pkl')"
      ],
      "execution_count": 0,
      "outputs": []
    },
    {
      "cell_type": "code",
      "metadata": {
        "id": "JRzvWg8RtGGr",
        "colab_type": "code",
        "colab": {}
      },
      "source": [
        "learn = language_model_learner(data_lm, AWD_LSTM, drop_mult=0.5)"
      ],
      "execution_count": 0,
      "outputs": []
    },
    {
      "cell_type": "code",
      "metadata": {
        "id": "xKK7GeBev7Xn",
        "colab_type": "code",
        "outputId": "c0d325ce-4b47-4a1a-fc3e-ad8a4ce81494",
        "colab": {
          "base_uri": "https://localhost:8080/",
          "height": 80
        }
      },
      "source": [
        "learn.fit_one_cycle(1, 1e-2)"
      ],
      "execution_count": 62,
      "outputs": [
        {
          "output_type": "display_data",
          "data": {
            "text/html": [
              "<table border=\"1\" class=\"dataframe\">\n",
              "  <thead>\n",
              "    <tr style=\"text-align: left;\">\n",
              "      <th>epoch</th>\n",
              "      <th>train_loss</th>\n",
              "      <th>valid_loss</th>\n",
              "      <th>accuracy</th>\n",
              "      <th>time</th>\n",
              "    </tr>\n",
              "  </thead>\n",
              "  <tbody>\n",
              "    <tr>\n",
              "      <td>0</td>\n",
              "      <td>5.232944</td>\n",
              "      <td>4.622821</td>\n",
              "      <td>0.251897</td>\n",
              "      <td>16:02</td>\n",
              "    </tr>\n",
              "  </tbody>\n",
              "</table>"
            ],
            "text/plain": [
              "<IPython.core.display.HTML object>"
            ]
          },
          "metadata": {
            "tags": []
          }
        }
      ]
    },
    {
      "cell_type": "code",
      "metadata": {
        "id": "iB7rHGQCwd12",
        "colab_type": "code",
        "outputId": "f128553b-2e23-485a-e06d-e91d8274b0b5",
        "colab": {
          "base_uri": "https://localhost:8080/",
          "height": 80
        }
      },
      "source": [
        "learn.fit_one_cycle(1, 1e-2)"
      ],
      "execution_count": 63,
      "outputs": [
        {
          "output_type": "display_data",
          "data": {
            "text/html": [
              "<table border=\"1\" class=\"dataframe\">\n",
              "  <thead>\n",
              "    <tr style=\"text-align: left;\">\n",
              "      <th>epoch</th>\n",
              "      <th>train_loss</th>\n",
              "      <th>valid_loss</th>\n",
              "      <th>accuracy</th>\n",
              "      <th>time</th>\n",
              "    </tr>\n",
              "  </thead>\n",
              "  <tbody>\n",
              "    <tr>\n",
              "      <td>0</td>\n",
              "      <td>4.481788</td>\n",
              "      <td>4.277824</td>\n",
              "      <td>0.287491</td>\n",
              "      <td>16:07</td>\n",
              "    </tr>\n",
              "  </tbody>\n",
              "</table>"
            ],
            "text/plain": [
              "<IPython.core.display.HTML object>"
            ]
          },
          "metadata": {
            "tags": []
          }
        }
      ]
    },
    {
      "cell_type": "code",
      "metadata": {
        "id": "_BnSuAeCwkBe",
        "colab_type": "code",
        "outputId": "d4917963-a58b-4f5f-9814-73edf0351bcd",
        "colab": {
          "base_uri": "https://localhost:8080/",
          "height": 80
        }
      },
      "source": [
        "learn.fit_one_cycle(1, 1e-3)"
      ],
      "execution_count": 64,
      "outputs": [
        {
          "output_type": "display_data",
          "data": {
            "text/html": [
              "<table border=\"1\" class=\"dataframe\">\n",
              "  <thead>\n",
              "    <tr style=\"text-align: left;\">\n",
              "      <th>epoch</th>\n",
              "      <th>train_loss</th>\n",
              "      <th>valid_loss</th>\n",
              "      <th>accuracy</th>\n",
              "      <th>time</th>\n",
              "    </tr>\n",
              "  </thead>\n",
              "  <tbody>\n",
              "    <tr>\n",
              "      <td>0</td>\n",
              "      <td>4.163538</td>\n",
              "      <td>4.236582</td>\n",
              "      <td>0.290951</td>\n",
              "      <td>16:04</td>\n",
              "    </tr>\n",
              "  </tbody>\n",
              "</table>"
            ],
            "text/plain": [
              "<IPython.core.display.HTML object>"
            ]
          },
          "metadata": {
            "tags": []
          }
        }
      ]
    },
    {
      "cell_type": "code",
      "metadata": {
        "id": "MuTm-RFjwrEX",
        "colab_type": "code",
        "outputId": "3904a6fa-759a-4d13-f5e7-90fa3167b460",
        "colab": {
          "base_uri": "https://localhost:8080/",
          "height": 80
        }
      },
      "source": [
        "learn.fit_one_cycle(1, 1e-3)"
      ],
      "execution_count": 65,
      "outputs": [
        {
          "output_type": "display_data",
          "data": {
            "text/html": [
              "<table border=\"1\" class=\"dataframe\">\n",
              "  <thead>\n",
              "    <tr style=\"text-align: left;\">\n",
              "      <th>epoch</th>\n",
              "      <th>train_loss</th>\n",
              "      <th>valid_loss</th>\n",
              "      <th>accuracy</th>\n",
              "      <th>time</th>\n",
              "    </tr>\n",
              "  </thead>\n",
              "  <tbody>\n",
              "    <tr>\n",
              "      <td>0</td>\n",
              "      <td>4.105597</td>\n",
              "      <td>4.205799</td>\n",
              "      <td>0.294401</td>\n",
              "      <td>16:02</td>\n",
              "    </tr>\n",
              "  </tbody>\n",
              "</table>"
            ],
            "text/plain": [
              "<IPython.core.display.HTML object>"
            ]
          },
          "metadata": {
            "tags": []
          }
        }
      ]
    },
    {
      "cell_type": "code",
      "metadata": {
        "id": "1Er2ExO8wr7Y",
        "colab_type": "code",
        "colab": {}
      },
      "source": [
        "learn.save_encoder('bigtweet_fold0_first')"
      ],
      "execution_count": 0,
      "outputs": []
    },
    {
      "cell_type": "code",
      "metadata": {
        "id": "z52cZs2qwvad",
        "colab_type": "code",
        "outputId": "af33e95b-1fff-4aea-f55c-d09425a897c6",
        "colab": {
          "base_uri": "https://localhost:8080/",
          "height": 80
        }
      },
      "source": [
        "learn = text_classifier_learner(data_clas,AWD_LSTM, drop_mult=0.5)\n",
        "learn.load_encoder('bigtweet_fold0_first')\n",
        "learn.fit_one_cycle(1, 1e-2)"
      ],
      "execution_count": 67,
      "outputs": [
        {
          "output_type": "display_data",
          "data": {
            "text/html": [
              "<table border=\"1\" class=\"dataframe\">\n",
              "  <thead>\n",
              "    <tr style=\"text-align: left;\">\n",
              "      <th>epoch</th>\n",
              "      <th>train_loss</th>\n",
              "      <th>valid_loss</th>\n",
              "      <th>accuracy</th>\n",
              "      <th>time</th>\n",
              "    </tr>\n",
              "  </thead>\n",
              "  <tbody>\n",
              "    <tr>\n",
              "      <td>0</td>\n",
              "      <td>7.177532</td>\n",
              "      <td>6.712024</td>\n",
              "      <td>0.107692</td>\n",
              "      <td>00:22</td>\n",
              "    </tr>\n",
              "  </tbody>\n",
              "</table>"
            ],
            "text/plain": [
              "<IPython.core.display.HTML object>"
            ]
          },
          "metadata": {
            "tags": []
          }
        }
      ]
    },
    {
      "cell_type": "code",
      "metadata": {
        "id": "ImwQP1PJwzxd",
        "colab_type": "code",
        "outputId": "3eba1e98-c261-40ac-a38c-d5e3b4a98c27",
        "colab": {
          "base_uri": "https://localhost:8080/",
          "height": 80
        }
      },
      "source": [
        "learn.freeze_to(-2)\n",
        "learn.fit_one_cycle(1, slice(5e-3/2., 5e-3))"
      ],
      "execution_count": 68,
      "outputs": [
        {
          "output_type": "display_data",
          "data": {
            "text/html": [
              "<table border=\"1\" class=\"dataframe\">\n",
              "  <thead>\n",
              "    <tr style=\"text-align: left;\">\n",
              "      <th>epoch</th>\n",
              "      <th>train_loss</th>\n",
              "      <th>valid_loss</th>\n",
              "      <th>accuracy</th>\n",
              "      <th>time</th>\n",
              "    </tr>\n",
              "  </thead>\n",
              "  <tbody>\n",
              "    <tr>\n",
              "      <td>0</td>\n",
              "      <td>6.318234</td>\n",
              "      <td>5.464606</td>\n",
              "      <td>0.146154</td>\n",
              "      <td>00:27</td>\n",
              "    </tr>\n",
              "  </tbody>\n",
              "</table>"
            ],
            "text/plain": [
              "<IPython.core.display.HTML object>"
            ]
          },
          "metadata": {
            "tags": []
          }
        }
      ]
    },
    {
      "cell_type": "code",
      "metadata": {
        "id": "Owff_BJXw53u",
        "colab_type": "code",
        "outputId": "dba2f3e5-1714-484f-e8ee-7f693dc7235f",
        "colab": {
          "base_uri": "https://localhost:8080/",
          "height": 80
        }
      },
      "source": [
        "learn.unfreeze()\n",
        "learn.fit_one_cycle(1, slice(2e-3/100, 2e-3))"
      ],
      "execution_count": 69,
      "outputs": [
        {
          "output_type": "display_data",
          "data": {
            "text/html": [
              "<table border=\"1\" class=\"dataframe\">\n",
              "  <thead>\n",
              "    <tr style=\"text-align: left;\">\n",
              "      <th>epoch</th>\n",
              "      <th>train_loss</th>\n",
              "      <th>valid_loss</th>\n",
              "      <th>accuracy</th>\n",
              "      <th>time</th>\n",
              "    </tr>\n",
              "  </thead>\n",
              "  <tbody>\n",
              "    <tr>\n",
              "      <td>0</td>\n",
              "      <td>5.791121</td>\n",
              "      <td>4.840206</td>\n",
              "      <td>0.223077</td>\n",
              "      <td>01:11</td>\n",
              "    </tr>\n",
              "  </tbody>\n",
              "</table>"
            ],
            "text/plain": [
              "<IPython.core.display.HTML object>"
            ]
          },
          "metadata": {
            "tags": []
          }
        }
      ]
    },
    {
      "cell_type": "code",
      "metadata": {
        "id": "lqAyu56V8Waq",
        "colab_type": "code",
        "outputId": "9093b248-ea59-450f-f36b-51f462e848f4",
        "colab": {
          "base_uri": "https://localhost:8080/",
          "height": 111
        }
      },
      "source": [
        "learn.fit_one_cycle(2, slice(2e-3/100, 2e-3))"
      ],
      "execution_count": 70,
      "outputs": [
        {
          "output_type": "display_data",
          "data": {
            "text/html": [
              "<table border=\"1\" class=\"dataframe\">\n",
              "  <thead>\n",
              "    <tr style=\"text-align: left;\">\n",
              "      <th>epoch</th>\n",
              "      <th>train_loss</th>\n",
              "      <th>valid_loss</th>\n",
              "      <th>accuracy</th>\n",
              "      <th>time</th>\n",
              "    </tr>\n",
              "  </thead>\n",
              "  <tbody>\n",
              "    <tr>\n",
              "      <td>0</td>\n",
              "      <td>5.538183</td>\n",
              "      <td>4.523071</td>\n",
              "      <td>0.230769</td>\n",
              "      <td>01:07</td>\n",
              "    </tr>\n",
              "    <tr>\n",
              "      <td>1</td>\n",
              "      <td>5.366568</td>\n",
              "      <td>4.410579</td>\n",
              "      <td>0.246154</td>\n",
              "      <td>01:10</td>\n",
              "    </tr>\n",
              "  </tbody>\n",
              "</table>"
            ],
            "text/plain": [
              "<IPython.core.display.HTML object>"
            ]
          },
          "metadata": {
            "tags": []
          }
        }
      ]
    },
    {
      "cell_type": "code",
      "metadata": {
        "id": "a7I1xMRp8bUd",
        "colab_type": "code",
        "outputId": "12900ed6-5f22-4905-c384-e85a6a286cf1",
        "colab": {
          "base_uri": "https://localhost:8080/",
          "height": 111
        }
      },
      "source": [
        "learn.fit_one_cycle(2, slice(2e-3/100, 2e-3))"
      ],
      "execution_count": 71,
      "outputs": [
        {
          "output_type": "display_data",
          "data": {
            "text/html": [
              "<table border=\"1\" class=\"dataframe\">\n",
              "  <thead>\n",
              "    <tr style=\"text-align: left;\">\n",
              "      <th>epoch</th>\n",
              "      <th>train_loss</th>\n",
              "      <th>valid_loss</th>\n",
              "      <th>accuracy</th>\n",
              "      <th>time</th>\n",
              "    </tr>\n",
              "  </thead>\n",
              "  <tbody>\n",
              "    <tr>\n",
              "      <td>0</td>\n",
              "      <td>5.169967</td>\n",
              "      <td>4.284807</td>\n",
              "      <td>0.292308</td>\n",
              "      <td>01:06</td>\n",
              "    </tr>\n",
              "    <tr>\n",
              "      <td>1</td>\n",
              "      <td>4.992842</td>\n",
              "      <td>4.193567</td>\n",
              "      <td>0.300000</td>\n",
              "      <td>01:07</td>\n",
              "    </tr>\n",
              "  </tbody>\n",
              "</table>"
            ],
            "text/plain": [
              "<IPython.core.display.HTML object>"
            ]
          },
          "metadata": {
            "tags": []
          }
        }
      ]
    },
    {
      "cell_type": "code",
      "metadata": {
        "id": "UAnti-XmGVfO",
        "colab_type": "code",
        "outputId": "666591d0-03bc-4acc-f02f-62ecabd7fbf4",
        "colab": {
          "base_uri": "https://localhost:8080/",
          "height": 111
        }
      },
      "source": [
        "learn.fit_one_cycle(2, slice(2e-3/100, 2e-3))"
      ],
      "execution_count": 72,
      "outputs": [
        {
          "output_type": "display_data",
          "data": {
            "text/html": [
              "<table border=\"1\" class=\"dataframe\">\n",
              "  <thead>\n",
              "    <tr style=\"text-align: left;\">\n",
              "      <th>epoch</th>\n",
              "      <th>train_loss</th>\n",
              "      <th>valid_loss</th>\n",
              "      <th>accuracy</th>\n",
              "      <th>time</th>\n",
              "    </tr>\n",
              "  </thead>\n",
              "  <tbody>\n",
              "    <tr>\n",
              "      <td>0</td>\n",
              "      <td>4.786079</td>\n",
              "      <td>4.119456</td>\n",
              "      <td>0.292308</td>\n",
              "      <td>01:04</td>\n",
              "    </tr>\n",
              "    <tr>\n",
              "      <td>1</td>\n",
              "      <td>4.648281</td>\n",
              "      <td>4.032283</td>\n",
              "      <td>0.284615</td>\n",
              "      <td>01:08</td>\n",
              "    </tr>\n",
              "  </tbody>\n",
              "</table>"
            ],
            "text/plain": [
              "<IPython.core.display.HTML object>"
            ]
          },
          "metadata": {
            "tags": []
          }
        }
      ]
    },
    {
      "cell_type": "code",
      "metadata": {
        "id": "bIft7W25GwSu",
        "colab_type": "code",
        "outputId": "51130f1d-12ac-4b19-ca34-6a0135f1ec5c",
        "colab": {
          "base_uri": "https://localhost:8080/",
          "height": 111
        }
      },
      "source": [
        "learn.fit_one_cycle(2, slice(2e-3/100, 2e-3))"
      ],
      "execution_count": 73,
      "outputs": [
        {
          "output_type": "display_data",
          "data": {
            "text/html": [
              "<table border=\"1\" class=\"dataframe\">\n",
              "  <thead>\n",
              "    <tr style=\"text-align: left;\">\n",
              "      <th>epoch</th>\n",
              "      <th>train_loss</th>\n",
              "      <th>valid_loss</th>\n",
              "      <th>accuracy</th>\n",
              "      <th>time</th>\n",
              "    </tr>\n",
              "  </thead>\n",
              "  <tbody>\n",
              "    <tr>\n",
              "      <td>0</td>\n",
              "      <td>4.467114</td>\n",
              "      <td>4.023465</td>\n",
              "      <td>0.253846</td>\n",
              "      <td>01:07</td>\n",
              "    </tr>\n",
              "    <tr>\n",
              "      <td>1</td>\n",
              "      <td>4.377900</td>\n",
              "      <td>3.901592</td>\n",
              "      <td>0.300000</td>\n",
              "      <td>01:06</td>\n",
              "    </tr>\n",
              "  </tbody>\n",
              "</table>"
            ],
            "text/plain": [
              "<IPython.core.display.HTML object>"
            ]
          },
          "metadata": {
            "tags": []
          }
        }
      ]
    },
    {
      "cell_type": "code",
      "metadata": {
        "id": "EEHszVRvGyFt",
        "colab_type": "code",
        "outputId": "209436be-5b30-4d7b-8c69-16b74fca7369",
        "colab": {
          "base_uri": "https://localhost:8080/",
          "height": 111
        }
      },
      "source": [
        "learn.fit_one_cycle(2, slice(2e-3/100, 2e-3))"
      ],
      "execution_count": 74,
      "outputs": [
        {
          "output_type": "display_data",
          "data": {
            "text/html": [
              "<table border=\"1\" class=\"dataframe\">\n",
              "  <thead>\n",
              "    <tr style=\"text-align: left;\">\n",
              "      <th>epoch</th>\n",
              "      <th>train_loss</th>\n",
              "      <th>valid_loss</th>\n",
              "      <th>accuracy</th>\n",
              "      <th>time</th>\n",
              "    </tr>\n",
              "  </thead>\n",
              "  <tbody>\n",
              "    <tr>\n",
              "      <td>0</td>\n",
              "      <td>4.211553</td>\n",
              "      <td>3.880765</td>\n",
              "      <td>0.323077</td>\n",
              "      <td>01:06</td>\n",
              "    </tr>\n",
              "    <tr>\n",
              "      <td>1</td>\n",
              "      <td>4.070609</td>\n",
              "      <td>3.820023</td>\n",
              "      <td>0.330769</td>\n",
              "      <td>01:07</td>\n",
              "    </tr>\n",
              "  </tbody>\n",
              "</table>"
            ],
            "text/plain": [
              "<IPython.core.display.HTML object>"
            ]
          },
          "metadata": {
            "tags": []
          }
        }
      ]
    },
    {
      "cell_type": "code",
      "metadata": {
        "id": "XsHfrhCHG3dN",
        "colab_type": "code",
        "outputId": "5ffd010b-2807-42db-e4af-f39647a20005",
        "colab": {
          "base_uri": "https://localhost:8080/",
          "height": 173
        }
      },
      "source": [
        "learn.fit_one_cycle(4, slice(2e-3/100, 2e-3))"
      ],
      "execution_count": 75,
      "outputs": [
        {
          "output_type": "display_data",
          "data": {
            "text/html": [
              "<table border=\"1\" class=\"dataframe\">\n",
              "  <thead>\n",
              "    <tr style=\"text-align: left;\">\n",
              "      <th>epoch</th>\n",
              "      <th>train_loss</th>\n",
              "      <th>valid_loss</th>\n",
              "      <th>accuracy</th>\n",
              "      <th>time</th>\n",
              "    </tr>\n",
              "  </thead>\n",
              "  <tbody>\n",
              "    <tr>\n",
              "      <td>0</td>\n",
              "      <td>3.949670</td>\n",
              "      <td>3.816614</td>\n",
              "      <td>0.323077</td>\n",
              "      <td>01:07</td>\n",
              "    </tr>\n",
              "    <tr>\n",
              "      <td>1</td>\n",
              "      <td>3.866464</td>\n",
              "      <td>3.877105</td>\n",
              "      <td>0.338462</td>\n",
              "      <td>01:07</td>\n",
              "    </tr>\n",
              "    <tr>\n",
              "      <td>2</td>\n",
              "      <td>3.711727</td>\n",
              "      <td>3.846458</td>\n",
              "      <td>0.330769</td>\n",
              "      <td>01:04</td>\n",
              "    </tr>\n",
              "    <tr>\n",
              "      <td>3</td>\n",
              "      <td>3.541283</td>\n",
              "      <td>3.806462</td>\n",
              "      <td>0.330769</td>\n",
              "      <td>01:11</td>\n",
              "    </tr>\n",
              "  </tbody>\n",
              "</table>"
            ],
            "text/plain": [
              "<IPython.core.display.HTML object>"
            ]
          },
          "metadata": {
            "tags": []
          }
        }
      ]
    },
    {
      "cell_type": "code",
      "metadata": {
        "id": "0Zsd99isb9EQ",
        "colab_type": "code",
        "outputId": "7f5adeea-2bff-4e5b-eef7-478f6311a10d",
        "colab": {
          "base_uri": "https://localhost:8080/",
          "height": 173
        }
      },
      "source": [
        "learn.fit_one_cycle(4, slice(2e-3/100, 2e-3))"
      ],
      "execution_count": 76,
      "outputs": [
        {
          "output_type": "display_data",
          "data": {
            "text/html": [
              "<table border=\"1\" class=\"dataframe\">\n",
              "  <thead>\n",
              "    <tr style=\"text-align: left;\">\n",
              "      <th>epoch</th>\n",
              "      <th>train_loss</th>\n",
              "      <th>valid_loss</th>\n",
              "      <th>accuracy</th>\n",
              "      <th>time</th>\n",
              "    </tr>\n",
              "  </thead>\n",
              "  <tbody>\n",
              "    <tr>\n",
              "      <td>0</td>\n",
              "      <td>3.402953</td>\n",
              "      <td>3.832185</td>\n",
              "      <td>0.346154</td>\n",
              "      <td>01:11</td>\n",
              "    </tr>\n",
              "    <tr>\n",
              "      <td>1</td>\n",
              "      <td>3.394854</td>\n",
              "      <td>3.938060</td>\n",
              "      <td>0.315385</td>\n",
              "      <td>01:05</td>\n",
              "    </tr>\n",
              "    <tr>\n",
              "      <td>2</td>\n",
              "      <td>3.235163</td>\n",
              "      <td>3.827006</td>\n",
              "      <td>0.330769</td>\n",
              "      <td>01:10</td>\n",
              "    </tr>\n",
              "    <tr>\n",
              "      <td>3</td>\n",
              "      <td>3.126205</td>\n",
              "      <td>3.834889</td>\n",
              "      <td>0.346154</td>\n",
              "      <td>01:07</td>\n",
              "    </tr>\n",
              "  </tbody>\n",
              "</table>"
            ],
            "text/plain": [
              "<IPython.core.display.HTML object>"
            ]
          },
          "metadata": {
            "tags": []
          }
        }
      ]
    },
    {
      "cell_type": "code",
      "metadata": {
        "id": "atNWNKDFPbuI",
        "colab_type": "code",
        "outputId": "babe7af9-fa82-47cb-dc02-a186bd735b9b",
        "colab": {
          "base_uri": "https://localhost:8080/",
          "height": 173
        }
      },
      "source": [
        "learn.fit_one_cycle(4, slice(2e-3/100, 2e-3))"
      ],
      "execution_count": 77,
      "outputs": [
        {
          "output_type": "display_data",
          "data": {
            "text/html": [
              "<table border=\"1\" class=\"dataframe\">\n",
              "  <thead>\n",
              "    <tr style=\"text-align: left;\">\n",
              "      <th>epoch</th>\n",
              "      <th>train_loss</th>\n",
              "      <th>valid_loss</th>\n",
              "      <th>accuracy</th>\n",
              "      <th>time</th>\n",
              "    </tr>\n",
              "  </thead>\n",
              "  <tbody>\n",
              "    <tr>\n",
              "      <td>0</td>\n",
              "      <td>2.982091</td>\n",
              "      <td>4.062484</td>\n",
              "      <td>0.284615</td>\n",
              "      <td>01:09</td>\n",
              "    </tr>\n",
              "    <tr>\n",
              "      <td>1</td>\n",
              "      <td>2.968877</td>\n",
              "      <td>4.014810</td>\n",
              "      <td>0.353846</td>\n",
              "      <td>01:07</td>\n",
              "    </tr>\n",
              "    <tr>\n",
              "      <td>2</td>\n",
              "      <td>2.879367</td>\n",
              "      <td>3.995340</td>\n",
              "      <td>0.353846</td>\n",
              "      <td>01:06</td>\n",
              "    </tr>\n",
              "    <tr>\n",
              "      <td>3</td>\n",
              "      <td>2.730465</td>\n",
              "      <td>3.961685</td>\n",
              "      <td>0.353846</td>\n",
              "      <td>01:04</td>\n",
              "    </tr>\n",
              "  </tbody>\n",
              "</table>"
            ],
            "text/plain": [
              "<IPython.core.display.HTML object>"
            ]
          },
          "metadata": {
            "tags": []
          }
        }
      ]
    },
    {
      "cell_type": "code",
      "metadata": {
        "id": "rKrBTZ0T1uVA",
        "colab_type": "code",
        "outputId": "92e8d520-d593-44c8-993f-2bb7ed6c9890",
        "colab": {
          "base_uri": "https://localhost:8080/",
          "height": 173
        }
      },
      "source": [
        "learn.fit_one_cycle(4, slice(2e-3/100, 2e-3))"
      ],
      "execution_count": 78,
      "outputs": [
        {
          "output_type": "display_data",
          "data": {
            "text/html": [
              "<table border=\"1\" class=\"dataframe\">\n",
              "  <thead>\n",
              "    <tr style=\"text-align: left;\">\n",
              "      <th>epoch</th>\n",
              "      <th>train_loss</th>\n",
              "      <th>valid_loss</th>\n",
              "      <th>accuracy</th>\n",
              "      <th>time</th>\n",
              "    </tr>\n",
              "  </thead>\n",
              "  <tbody>\n",
              "    <tr>\n",
              "      <td>0</td>\n",
              "      <td>2.669862</td>\n",
              "      <td>4.091197</td>\n",
              "      <td>0.307692</td>\n",
              "      <td>01:04</td>\n",
              "    </tr>\n",
              "    <tr>\n",
              "      <td>1</td>\n",
              "      <td>2.621618</td>\n",
              "      <td>4.253128</td>\n",
              "      <td>0.300000</td>\n",
              "      <td>01:08</td>\n",
              "    </tr>\n",
              "    <tr>\n",
              "      <td>2</td>\n",
              "      <td>2.509878</td>\n",
              "      <td>4.205885</td>\n",
              "      <td>0.330769</td>\n",
              "      <td>01:06</td>\n",
              "    </tr>\n",
              "    <tr>\n",
              "      <td>3</td>\n",
              "      <td>2.402874</td>\n",
              "      <td>4.125612</td>\n",
              "      <td>0.323077</td>\n",
              "      <td>01:04</td>\n",
              "    </tr>\n",
              "  </tbody>\n",
              "</table>"
            ],
            "text/plain": [
              "<IPython.core.display.HTML object>"
            ]
          },
          "metadata": {
            "tags": []
          }
        }
      ]
    },
    {
      "cell_type": "code",
      "metadata": {
        "id": "ajQC6WDg1yA9",
        "colab_type": "code",
        "outputId": "c8e6c4fd-a75d-4108-f208-5ea35e3d6e46",
        "colab": {
          "base_uri": "https://localhost:8080/",
          "height": 173
        }
      },
      "source": [
        "learn.fit_one_cycle(4, slice(2e-3/100, 2e-3))"
      ],
      "execution_count": 79,
      "outputs": [
        {
          "output_type": "display_data",
          "data": {
            "text/html": [
              "<table border=\"1\" class=\"dataframe\">\n",
              "  <thead>\n",
              "    <tr style=\"text-align: left;\">\n",
              "      <th>epoch</th>\n",
              "      <th>train_loss</th>\n",
              "      <th>valid_loss</th>\n",
              "      <th>accuracy</th>\n",
              "      <th>time</th>\n",
              "    </tr>\n",
              "  </thead>\n",
              "  <tbody>\n",
              "    <tr>\n",
              "      <td>0</td>\n",
              "      <td>2.328800</td>\n",
              "      <td>4.213937</td>\n",
              "      <td>0.346154</td>\n",
              "      <td>01:10</td>\n",
              "    </tr>\n",
              "    <tr>\n",
              "      <td>1</td>\n",
              "      <td>2.334131</td>\n",
              "      <td>4.215610</td>\n",
              "      <td>0.323077</td>\n",
              "      <td>01:08</td>\n",
              "    </tr>\n",
              "    <tr>\n",
              "      <td>2</td>\n",
              "      <td>2.248795</td>\n",
              "      <td>4.185946</td>\n",
              "      <td>0.330769</td>\n",
              "      <td>01:05</td>\n",
              "    </tr>\n",
              "    <tr>\n",
              "      <td>3</td>\n",
              "      <td>2.147209</td>\n",
              "      <td>4.203014</td>\n",
              "      <td>0.338462</td>\n",
              "      <td>01:07</td>\n",
              "    </tr>\n",
              "  </tbody>\n",
              "</table>"
            ],
            "text/plain": [
              "<IPython.core.display.HTML object>"
            ]
          },
          "metadata": {
            "tags": []
          }
        }
      ]
    },
    {
      "cell_type": "code",
      "metadata": {
        "id": "KKydb0B4BKGk",
        "colab_type": "code",
        "outputId": "a11080f2-b775-4302-ad80-9bbb32c83b13",
        "colab": {
          "base_uri": "https://localhost:8080/",
          "height": 173
        }
      },
      "source": [
        "learn.fit_one_cycle(4, slice(2e-3/100, 2e-3))"
      ],
      "execution_count": 80,
      "outputs": [
        {
          "output_type": "display_data",
          "data": {
            "text/html": [
              "<table border=\"1\" class=\"dataframe\">\n",
              "  <thead>\n",
              "    <tr style=\"text-align: left;\">\n",
              "      <th>epoch</th>\n",
              "      <th>train_loss</th>\n",
              "      <th>valid_loss</th>\n",
              "      <th>accuracy</th>\n",
              "      <th>time</th>\n",
              "    </tr>\n",
              "  </thead>\n",
              "  <tbody>\n",
              "    <tr>\n",
              "      <td>0</td>\n",
              "      <td>2.140819</td>\n",
              "      <td>4.351876</td>\n",
              "      <td>0.307692</td>\n",
              "      <td>01:05</td>\n",
              "    </tr>\n",
              "    <tr>\n",
              "      <td>1</td>\n",
              "      <td>2.140825</td>\n",
              "      <td>4.387731</td>\n",
              "      <td>0.284615</td>\n",
              "      <td>01:04</td>\n",
              "    </tr>\n",
              "    <tr>\n",
              "      <td>2</td>\n",
              "      <td>2.055073</td>\n",
              "      <td>4.388662</td>\n",
              "      <td>0.307692</td>\n",
              "      <td>01:07</td>\n",
              "    </tr>\n",
              "    <tr>\n",
              "      <td>3</td>\n",
              "      <td>1.991027</td>\n",
              "      <td>4.366413</td>\n",
              "      <td>0.300000</td>\n",
              "      <td>01:10</td>\n",
              "    </tr>\n",
              "  </tbody>\n",
              "</table>"
            ],
            "text/plain": [
              "<IPython.core.display.HTML object>"
            ]
          },
          "metadata": {
            "tags": []
          }
        }
      ]
    },
    {
      "cell_type": "code",
      "metadata": {
        "id": "T2APKtFKBpGY",
        "colab_type": "code",
        "outputId": "add6cc92-7a9e-42cc-df90-ea16daac2a9c",
        "colab": {
          "base_uri": "https://localhost:8080/",
          "height": 173
        }
      },
      "source": [
        "learn.fit_one_cycle(4, slice(2e-3/100, 2e-3))"
      ],
      "execution_count": 81,
      "outputs": [
        {
          "output_type": "display_data",
          "data": {
            "text/html": [
              "<table border=\"1\" class=\"dataframe\">\n",
              "  <thead>\n",
              "    <tr style=\"text-align: left;\">\n",
              "      <th>epoch</th>\n",
              "      <th>train_loss</th>\n",
              "      <th>valid_loss</th>\n",
              "      <th>accuracy</th>\n",
              "      <th>time</th>\n",
              "    </tr>\n",
              "  </thead>\n",
              "  <tbody>\n",
              "    <tr>\n",
              "      <td>0</td>\n",
              "      <td>1.948039</td>\n",
              "      <td>4.394938</td>\n",
              "      <td>0.323077</td>\n",
              "      <td>01:05</td>\n",
              "    </tr>\n",
              "    <tr>\n",
              "      <td>1</td>\n",
              "      <td>1.957628</td>\n",
              "      <td>4.557383</td>\n",
              "      <td>0.330769</td>\n",
              "      <td>01:10</td>\n",
              "    </tr>\n",
              "    <tr>\n",
              "      <td>2</td>\n",
              "      <td>1.933082</td>\n",
              "      <td>4.565267</td>\n",
              "      <td>0.338462</td>\n",
              "      <td>01:05</td>\n",
              "    </tr>\n",
              "    <tr>\n",
              "      <td>3</td>\n",
              "      <td>1.850699</td>\n",
              "      <td>4.471840</td>\n",
              "      <td>0.338462</td>\n",
              "      <td>01:08</td>\n",
              "    </tr>\n",
              "  </tbody>\n",
              "</table>"
            ],
            "text/plain": [
              "<IPython.core.display.HTML object>"
            ]
          },
          "metadata": {
            "tags": []
          }
        }
      ]
    },
    {
      "cell_type": "code",
      "metadata": {
        "id": "KkgLDAq8nClh",
        "colab_type": "code",
        "outputId": "698c605e-1451-4588-c501-24fb1a8514d0",
        "colab": {
          "base_uri": "https://localhost:8080/",
          "height": 173
        }
      },
      "source": [
        "learn.fit_one_cycle(4, slice(2e-3/100, 2e-3))"
      ],
      "execution_count": 82,
      "outputs": [
        {
          "output_type": "display_data",
          "data": {
            "text/html": [
              "<table border=\"1\" class=\"dataframe\">\n",
              "  <thead>\n",
              "    <tr style=\"text-align: left;\">\n",
              "      <th>epoch</th>\n",
              "      <th>train_loss</th>\n",
              "      <th>valid_loss</th>\n",
              "      <th>accuracy</th>\n",
              "      <th>time</th>\n",
              "    </tr>\n",
              "  </thead>\n",
              "  <tbody>\n",
              "    <tr>\n",
              "      <td>0</td>\n",
              "      <td>1.736631</td>\n",
              "      <td>4.436610</td>\n",
              "      <td>0.323077</td>\n",
              "      <td>01:06</td>\n",
              "    </tr>\n",
              "    <tr>\n",
              "      <td>1</td>\n",
              "      <td>1.832541</td>\n",
              "      <td>4.703314</td>\n",
              "      <td>0.300000</td>\n",
              "      <td>01:05</td>\n",
              "    </tr>\n",
              "    <tr>\n",
              "      <td>2</td>\n",
              "      <td>1.828225</td>\n",
              "      <td>4.657432</td>\n",
              "      <td>0.338462</td>\n",
              "      <td>01:09</td>\n",
              "    </tr>\n",
              "    <tr>\n",
              "      <td>3</td>\n",
              "      <td>1.775587</td>\n",
              "      <td>4.574573</td>\n",
              "      <td>0.346154</td>\n",
              "      <td>01:05</td>\n",
              "    </tr>\n",
              "  </tbody>\n",
              "</table>"
            ],
            "text/plain": [
              "<IPython.core.display.HTML object>"
            ]
          },
          "metadata": {
            "tags": []
          }
        }
      ]
    },
    {
      "cell_type": "code",
      "metadata": {
        "id": "xo9vgncnnDec",
        "colab_type": "code",
        "outputId": "ebaf8c18-9d37-43e6-9b3c-15e3b6877f4f",
        "colab": {
          "base_uri": "https://localhost:8080/",
          "height": 173
        }
      },
      "source": [
        "learn.fit_one_cycle(4, slice(2e-3/100, 2e-3))"
      ],
      "execution_count": 83,
      "outputs": [
        {
          "output_type": "display_data",
          "data": {
            "text/html": [
              "<table border=\"1\" class=\"dataframe\">\n",
              "  <thead>\n",
              "    <tr style=\"text-align: left;\">\n",
              "      <th>epoch</th>\n",
              "      <th>train_loss</th>\n",
              "      <th>valid_loss</th>\n",
              "      <th>accuracy</th>\n",
              "      <th>time</th>\n",
              "    </tr>\n",
              "  </thead>\n",
              "  <tbody>\n",
              "    <tr>\n",
              "      <td>0</td>\n",
              "      <td>1.815791</td>\n",
              "      <td>4.784319</td>\n",
              "      <td>0.330769</td>\n",
              "      <td>01:06</td>\n",
              "    </tr>\n",
              "    <tr>\n",
              "      <td>1</td>\n",
              "      <td>1.850941</td>\n",
              "      <td>4.870875</td>\n",
              "      <td>0.300000</td>\n",
              "      <td>01:11</td>\n",
              "    </tr>\n",
              "    <tr>\n",
              "      <td>2</td>\n",
              "      <td>1.801616</td>\n",
              "      <td>4.897393</td>\n",
              "      <td>0.323077</td>\n",
              "      <td>01:10</td>\n",
              "    </tr>\n",
              "    <tr>\n",
              "      <td>3</td>\n",
              "      <td>1.756496</td>\n",
              "      <td>4.861541</td>\n",
              "      <td>0.284615</td>\n",
              "      <td>01:07</td>\n",
              "    </tr>\n",
              "  </tbody>\n",
              "</table>"
            ],
            "text/plain": [
              "<IPython.core.display.HTML object>"
            ]
          },
          "metadata": {
            "tags": []
          }
        }
      ]
    },
    {
      "cell_type": "code",
      "metadata": {
        "id": "keYKcKuPtL5K",
        "colab_type": "code",
        "outputId": "554149a9-9385-403a-bee5-3c894ef9fb2a",
        "colab": {
          "base_uri": "https://localhost:8080/",
          "height": 111
        }
      },
      "source": [
        "learn.fit_one_cycle(2, slice(2e-3/100, 2e-3))"
      ],
      "execution_count": 84,
      "outputs": [
        {
          "output_type": "display_data",
          "data": {
            "text/html": [
              "<table border=\"1\" class=\"dataframe\">\n",
              "  <thead>\n",
              "    <tr style=\"text-align: left;\">\n",
              "      <th>epoch</th>\n",
              "      <th>train_loss</th>\n",
              "      <th>valid_loss</th>\n",
              "      <th>accuracy</th>\n",
              "      <th>time</th>\n",
              "    </tr>\n",
              "  </thead>\n",
              "  <tbody>\n",
              "    <tr>\n",
              "      <td>0</td>\n",
              "      <td>1.753893</td>\n",
              "      <td>4.786546</td>\n",
              "      <td>0.338462</td>\n",
              "      <td>01:06</td>\n",
              "    </tr>\n",
              "    <tr>\n",
              "      <td>1</td>\n",
              "      <td>1.751240</td>\n",
              "      <td>4.871145</td>\n",
              "      <td>0.315385</td>\n",
              "      <td>01:12</td>\n",
              "    </tr>\n",
              "  </tbody>\n",
              "</table>"
            ],
            "text/plain": [
              "<IPython.core.display.HTML object>"
            ]
          },
          "metadata": {
            "tags": []
          }
        }
      ]
    },
    {
      "cell_type": "code",
      "metadata": {
        "id": "6opfpXGkt3hw",
        "colab_type": "code",
        "outputId": "adc44a67-28be-4f88-dd6d-b296e5e4e5c0",
        "colab": {
          "base_uri": "https://localhost:8080/",
          "height": 111
        }
      },
      "source": [
        "learn.fit_one_cycle(2, slice(2e-3/100, 2e-3))"
      ],
      "execution_count": 85,
      "outputs": [
        {
          "output_type": "display_data",
          "data": {
            "text/html": [
              "<table border=\"1\" class=\"dataframe\">\n",
              "  <thead>\n",
              "    <tr style=\"text-align: left;\">\n",
              "      <th>epoch</th>\n",
              "      <th>train_loss</th>\n",
              "      <th>valid_loss</th>\n",
              "      <th>accuracy</th>\n",
              "      <th>time</th>\n",
              "    </tr>\n",
              "  </thead>\n",
              "  <tbody>\n",
              "    <tr>\n",
              "      <td>0</td>\n",
              "      <td>1.732818</td>\n",
              "      <td>4.730281</td>\n",
              "      <td>0.338462</td>\n",
              "      <td>01:07</td>\n",
              "    </tr>\n",
              "    <tr>\n",
              "      <td>1</td>\n",
              "      <td>1.710170</td>\n",
              "      <td>4.868706</td>\n",
              "      <td>0.315385</td>\n",
              "      <td>01:10</td>\n",
              "    </tr>\n",
              "  </tbody>\n",
              "</table>"
            ],
            "text/plain": [
              "<IPython.core.display.HTML object>"
            ]
          },
          "metadata": {
            "tags": []
          }
        }
      ]
    },
    {
      "cell_type": "code",
      "metadata": {
        "id": "c65d-osfDUXm",
        "colab_type": "code",
        "colab": {}
      },
      "source": [
        "# save the best model\n",
        "\n",
        "learn.save_encoder('ask-0-tuning-bigtweet')"
      ],
      "execution_count": 0,
      "outputs": []
    },
    {
      "cell_type": "markdown",
      "metadata": {
        "id": "rCwZU0E2RgM6",
        "colab_type": "text"
      },
      "source": [
        "# Part three: Predict on the test dataset"
      ]
    },
    {
      "cell_type": "code",
      "metadata": {
        "id": "gDm72c-dOu7d",
        "colab_type": "code",
        "outputId": "7bae3fb5-640d-4245-9933-c747eddf784b",
        "colab": {
          "base_uri": "https://localhost:8080/",
          "height": 17
        }
      },
      "source": [
        "# use the test data for prediction\n",
        "\n",
        "preds, y = learn.get_preds(DatasetType.Test)"
      ],
      "execution_count": 87,
      "outputs": [
        {
          "output_type": "display_data",
          "data": {
            "text/html": [
              ""
            ],
            "text/plain": [
              "<IPython.core.display.HTML object>"
            ]
          },
          "metadata": {
            "tags": []
          }
        }
      ]
    },
    {
      "cell_type": "code",
      "metadata": {
        "id": "6tFSQcsWPvxn",
        "colab_type": "code",
        "outputId": "b2c3e211-25b5-4aab-e9a2-5769079347db",
        "colab": {
          "base_uri": "https://localhost:8080/",
          "height": 105
        }
      },
      "source": [
        "predictions, *_ = learn.get_preds(DatasetType.Test)\n",
        "labels = np.argmax(predictions, 1)\n",
        "predict_list = labels.tolist()\n",
        "standard_list = test[0].tolist()\n",
        "\n",
        "print(len(predict_list))\n",
        "print(len(standard_list))\n",
        "\n",
        "print(predict_list)\n",
        "print(standard_list)"
      ],
      "execution_count": 88,
      "outputs": [
        {
          "output_type": "display_data",
          "data": {
            "text/html": [
              ""
            ],
            "text/plain": [
              "<IPython.core.display.HTML object>"
            ]
          },
          "metadata": {
            "tags": []
          }
        },
        {
          "output_type": "stream",
          "text": [
            "143\n",
            "143\n",
            "[1099, 974, 1340, 133, 908, 233, 233, 249, 300, 1727, 945, 2191, 1340, 532, 550, 1373, 224, 749, 1340, 744, 744, 749, 749, 1597, 1597, 1597, 974, 792, 1884, 813, 224, 720, 1308, 1599, 1278, 858, 1340, 974, 974, 974, 978, 1340, 978, 978, 978, 1340, 1007, 1019, 1204, 949, 2147, 1348, 1925, 1136, 1610, 749, 1340, 561, 1295, 1227, 1340, 1340, 1340, 1308, 908, 1340, 1925, 908, 1325, 1340, 1340, 809, 1940, 1341, 1508, 1340, 224, 1340, 1340, 418, 749, 1340, 1340, 1356, 1597, 1597, 1340, 1610, 908, 1340, 1340, 749, 1340, 1048, 1521, 749, 1711, 1340, 1340, 1340, 1727, 1718, 2026, 1340, 1669, 1340, 1727, 1340, 1073, 233, 1787, 1099, 1718, 393, 1787, 1787, 1787, 923, 1815, 1815, 1973, 907, 2074, 1936, 1936, 224, 2149, 908, 1340, 1340, 858, 1940, 1787, 1787, 1340, 2081, 2103, 1529, 1787, 233, 2032, 1529, 1787]\n",
            "[13, 13, 93, 133, 231, 233, 233, 249, 300, 362, 396, 418, 441, 532, 550, 582, 582, 596, 644, 744, 745, 749, 749, 791, 791, 791, 792, 792, 792, 813, 815, 818, 822, 852, 857, 858, 974, 974, 974, 974, 978, 978, 978, 978, 978, 982, 1007, 1019, 1054, 1073, 1099, 1099, 1099, 1136, 1142, 1175, 1192, 1227, 1227, 1227, 1295, 1295, 1295, 1308, 1340, 1341, 1356, 1356, 1373, 1432, 1432, 1458, 1463, 1507, 1508, 1519, 1521, 1526, 1526, 1529, 1529, 1545, 1594, 1597, 1597, 1597, 1610, 1610, 1610, 1610, 1610, 1610, 1616, 1669, 1706, 1711, 1711, 1718, 1718, 1718, 1718, 1718, 1767, 1767, 1767, 1767, 1767, 1767, 1767, 1769, 1787, 1787, 1787, 1787, 1787, 1787, 1787, 1813, 1815, 1815, 1833, 1877, 1925, 1936, 1936, 1942, 1942, 1973, 1974, 2017, 2017, 2032, 2032, 2032, 2048, 2081, 2103, 2147, 2147, 2147, 2149, 2149, 2194]\n"
          ],
          "name": "stdout"
        }
      ]
    },
    {
      "cell_type": "code",
      "metadata": {
        "id": "XIC4zufnMxtq",
        "colab_type": "code",
        "outputId": "4c43a1c4-dbca-4960-a837-2e0eb0989a1c",
        "colab": {
          "base_uri": "https://localhost:8080/",
          "height": 51
        }
      },
      "source": [
        "correct_num = 0\n",
        "\n",
        "for i in range(0, len(standard_list)):\n",
        "  if predict_list[i] == standard_list[i]:\n",
        "    correct_num = correct_num+1\n",
        "  else:\n",
        "    pass\n",
        "print(correct_num)\n",
        "\n",
        "predict_accuracy = correct_num/len(predict_list)\n",
        "print(predict_accuracy)"
      ],
      "execution_count": 89,
      "outputs": [
        {
          "output_type": "stream",
          "text": [
            "41\n",
            "0.2867132867132867\n"
          ],
          "name": "stdout"
        }
      ]
    },
    {
      "cell_type": "code",
      "metadata": {
        "id": "zlKMHp1CIaRJ",
        "colab_type": "code",
        "colab": {}
      },
      "source": [
        ""
      ],
      "execution_count": 0,
      "outputs": []
    }
  ]
}