{
  "nbformat": 4,
  "nbformat_minor": 0,
  "metadata": {
    "colab": {
      "name": "twadr_pubmed_tweet_overlap_0.ipynb",
      "provenance": [],
      "collapsed_sections": [],
      "toc_visible": true,
      "include_colab_link": true
    },
    "kernelspec": {
      "name": "python3",
      "display_name": "Python 3"
    },
    "accelerator": "TPU"
  },
  "cells": [
    {
      "cell_type": "markdown",
      "metadata": {
        "id": "view-in-github",
        "colab_type": "text"
      },
      "source": [
        "<a href=\"https://colab.research.google.com/github/unt-iialab/medical-concept-normalization/blob/master/TwADR-L/Code/twadr_pubmed_tweet_overlap_0.ipynb\" target=\"_parent\"><img src=\"https://colab.research.google.com/assets/colab-badge.svg\" alt=\"Open In Colab\"/></a>"
      ]
    },
    {
      "cell_type": "code",
      "metadata": {
        "id": "adSi6i2-dWxy",
        "colab_type": "code",
        "colab": {}
      },
      "source": [
        "import os"
      ],
      "execution_count": 0,
      "outputs": []
    },
    {
      "cell_type": "code",
      "metadata": {
        "id": "E7xYCRGPjd9B",
        "colab_type": "code",
        "colab": {}
      },
      "source": [
        "base_dir = 'medical-concept-normalization'"
      ],
      "execution_count": 0,
      "outputs": []
    },
    {
      "cell_type": "code",
      "metadata": {
        "id": "yvIW3aUDjYNS",
        "colab_type": "code",
        "colab": {}
      },
      "source": [
        "if os.path.exists('medical-concept-normalization'):\n",
        "  print('folder exist')\n",
        "else:\n",
        "  os.mkdir(base_dir)"
      ],
      "execution_count": 0,
      "outputs": []
    },
    {
      "cell_type": "code",
      "metadata": {
        "id": "es-FFLlfk6SG",
        "colab_type": "code",
        "colab": {}
      },
      "source": [
        "if os.path.exists('medical-concept-normalization/data_collection'):\n",
        "  print('folder exist')\n",
        "else:\n",
        "  os.mkdir('medical-concept-normalization/data_collection')"
      ],
      "execution_count": 0,
      "outputs": []
    },
    {
      "cell_type": "markdown",
      "metadata": {
        "id": "0R-Guw_VoJXm",
        "colab_type": "text"
      },
      "source": [
        "**Install fastai and clone the fastai for text classification**\n",
        "\n"
      ]
    },
    {
      "cell_type": "code",
      "metadata": {
        "id": "QVZa3Z0PmHFH",
        "colab_type": "code",
        "outputId": "91a38b7a-44d2-4aff-f3c3-57847474af00",
        "colab": {
          "base_uri": "https://localhost:8080/",
          "height": 89
        }
      },
      "source": [
        "!curl https://course-v3.fast.ai/setup/colab | bash"
      ],
      "execution_count": 5,
      "outputs": [
        {
          "output_type": "stream",
          "text": [
            "  % Total    % Received % Xferd  Average Speed   Time    Time     Time  Current\n",
            "                                 Dload  Upload   Total   Spent    Left  Speed\n",
            "\r  0     0    0     0    0     0      0      0 --:--:-- --:--:-- --:--:--     0curl: (6) Could not resolve host: course-v3.fast.ai\n"
          ],
          "name": "stdout"
        }
      ]
    },
    {
      "cell_type": "code",
      "metadata": {
        "id": "_FBFFEBrmJC0",
        "colab_type": "code",
        "outputId": "d0d4a811-77fe-44ba-fe5c-70ed8421dd8d",
        "colab": {
          "base_uri": "https://localhost:8080/",
          "height": 87
        }
      },
      "source": [
        "!git clone https://github.com/wshuyi/demo-nlp-classification-fastai.git"
      ],
      "execution_count": 6,
      "outputs": [
        {
          "output_type": "stream",
          "text": [
            "Cloning into 'demo-nlp-classification-fastai'...\n",
            "remote: Enumerating objects: 9, done.\u001b[K\n",
            "remote: Total 9 (delta 0), reused 0 (delta 0), pack-reused 9\u001b[K\n",
            "Unpacking objects: 100% (9/9), done.\n"
          ],
          "name": "stdout"
        }
      ]
    },
    {
      "cell_type": "code",
      "metadata": {
        "id": "66zfh_JqmWMU",
        "colab_type": "code",
        "colab": {}
      },
      "source": [
        "from fastai import *\n",
        "from fastai.text import *"
      ],
      "execution_count": 0,
      "outputs": []
    },
    {
      "cell_type": "markdown",
      "metadata": {
        "id": "mNIw-yALdBU9",
        "colab_type": "text"
      },
      "source": [
        "**Set the path of the data collections**"
      ]
    },
    {
      "cell_type": "code",
      "metadata": {
        "id": "pzH7VMh4mqCL",
        "colab_type": "code",
        "colab": {}
      },
      "source": [
        "path = Path('medical-concept-normalization/data_collection')"
      ],
      "execution_count": 0,
      "outputs": []
    },
    {
      "cell_type": "code",
      "metadata": {
        "id": "r8cdqCa-Oeog",
        "colab_type": "code",
        "colab": {}
      },
      "source": [
        "# datasets\n",
        "\n",
        "train_csv = 'https://raw.githubusercontent.com/unt-iialab/medical-concept-normalization/master/TwADR-L/Experiment%20(Change%20test%20dataset)/Training%20set/tward_training_folder_0.csv'\n",
        "valid_csv = 'https://raw.githubusercontent.com/unt-iialab/medical-concept-normalization/master/TwADR-L/Experiment%20(Change%20test%20dataset)/Validation%20set/tward_validation_folder_0.csv'\n",
        "test_csv = 'https://raw.githubusercontent.com/unt-iialab/medical-concept-normalization/master/TwADR-L/Experiment%20(Change%20test%20dataset)/Testing%20set/tward_testing_overlap_0.csv'\n",
        "fine_tuning_data = 'fine_tuning_language_model_pubmed_bigtweet_mixed.csv'"
      ],
      "execution_count": 0,
      "outputs": []
    },
    {
      "cell_type": "code",
      "metadata": {
        "id": "b8fjI6yyn4aS",
        "colab_type": "code",
        "outputId": "28914c8b-1d7e-4da7-cbf8-c6ea31e0bbfa",
        "colab": {
          "base_uri": "https://localhost:8080/",
          "height": 121
        }
      },
      "source": [
        "# training data set\n",
        "train = pd.read_csv(train_csv, header=None)\n",
        "print(train.head())\n",
        "\n",
        "# validating data set\n",
        "valid = pd.read_csv(valid_csv,header=None)\n",
        "# valid.head()\n",
        "\n",
        "# testing data set\n",
        "test = pd.read_csv(test_csv,header=None)\n",
        "# test.head()"
      ],
      "execution_count": 10,
      "outputs": [
        {
          "output_type": "stream",
          "text": [
            "      0                      1\n",
            "0  1945    Adrenergic syndrome\n",
            "1  1586  Hearing Loss, Partial\n",
            "2   580          Typhoid Fever\n",
            "3   784      Carcinoma of lung\n",
            "4   660              Pregnancy\n"
          ],
          "name": "stdout"
        }
      ]
    },
    {
      "cell_type": "code",
      "metadata": {
        "id": "Vo-YNvVYoaH6",
        "colab_type": "code",
        "outputId": "dfa21656-4c3a-4b40-dcad-93eb8f55a878",
        "colab": {
          "base_uri": "https://localhost:8080/",
          "height": 17
        }
      },
      "source": [
        "# Creating DataBunch for language modelling\n",
        "data_lm = TextLMDataBunch.from_csv(path, fine_tuning_data)"
      ],
      "execution_count": 12,
      "outputs": [
        {
          "output_type": "display_data",
          "data": {
            "text/html": [
              ""
            ],
            "text/plain": [
              "<IPython.core.display.HTML object>"
            ]
          },
          "metadata": {
            "tags": []
          }
        },
        {
          "output_type": "display_data",
          "data": {
            "text/html": [
              ""
            ],
            "text/plain": [
              "<IPython.core.display.HTML object>"
            ]
          },
          "metadata": {
            "tags": []
          }
        }
      ]
    },
    {
      "cell_type": "code",
      "metadata": {
        "id": "1ScY9afDsnvE",
        "colab_type": "code",
        "colab": {}
      },
      "source": [
        "# Creating DataBunch for classification\n",
        "\n",
        "# data_clas = TextClasDataBunch.from_df(path, train, valid, test, vocab=data_lm.train_ds.vocab, bs=128)"
      ],
      "execution_count": 0,
      "outputs": []
    },
    {
      "cell_type": "code",
      "metadata": {
        "id": "gzrSdQcvey9p",
        "colab_type": "code",
        "outputId": "1c997e68-f2fd-45fb-a3ea-b12ebdaf5869",
        "colab": {
          "base_uri": "https://localhost:8080/",
          "height": 17
        }
      },
      "source": [
        "data_clas = TextClasDataBunch.from_df(path, train, valid, vocab=data_lm.train_ds.vocab, bs=128)"
      ],
      "execution_count": 14,
      "outputs": [
        {
          "output_type": "display_data",
          "data": {
            "text/html": [
              ""
            ],
            "text/plain": [
              "<IPython.core.display.HTML object>"
            ]
          },
          "metadata": {
            "tags": []
          }
        },
        {
          "output_type": "display_data",
          "data": {
            "text/html": [
              ""
            ],
            "text/plain": [
              "<IPython.core.display.HTML object>"
            ]
          },
          "metadata": {
            "tags": []
          }
        }
      ]
    },
    {
      "cell_type": "code",
      "metadata": {
        "id": "MD27Tf0Ke3ou",
        "colab_type": "code",
        "outputId": "37064272-5adf-4de0-84f7-c5099fdcacee",
        "colab": {
          "base_uri": "https://localhost:8080/",
          "height": 17
        }
      },
      "source": [
        "data_clas.add_test(test,label=0)"
      ],
      "execution_count": 15,
      "outputs": [
        {
          "output_type": "display_data",
          "data": {
            "text/html": [
              ""
            ],
            "text/plain": [
              "<IPython.core.display.HTML object>"
            ]
          },
          "metadata": {
            "tags": []
          }
        }
      ]
    },
    {
      "cell_type": "code",
      "metadata": {
        "id": "-dpjnk_rstwk",
        "colab_type": "code",
        "colab": {}
      },
      "source": [
        "data_lm.save()\n",
        "data_clas.save()"
      ],
      "execution_count": 0,
      "outputs": []
    },
    {
      "cell_type": "code",
      "metadata": {
        "id": "4OkiJa36sw5s",
        "colab_type": "code",
        "outputId": "f67cf5e7-fe02-4063-dfb0-94a14d874b79",
        "colab": {
          "base_uri": "https://localhost:8080/",
          "height": 1000
        }
      },
      "source": [
        "data_lm.train_ds.vocab.itos"
      ],
      "execution_count": 17,
      "outputs": [
        {
          "output_type": "execute_result",
          "data": {
            "text/plain": [
              "['xxunk',\n",
              " 'xxpad',\n",
              " 'xxbos',\n",
              " 'xxeos',\n",
              " 'xxfld',\n",
              " 'xxmaj',\n",
              " 'xxup',\n",
              " 'xxrep',\n",
              " 'xxwrep',\n",
              " 'the',\n",
              " 'of',\n",
              " 'and',\n",
              " 'in',\n",
              " 'to',\n",
              " 'a',\n",
              " 'for',\n",
              " 'with',\n",
              " 'diclofenac',\n",
              " 'was',\n",
              " 'were',\n",
              " 'on',\n",
              " 'is',\n",
              " 'rt',\n",
              " 'by',\n",
              " 'sodium',\n",
              " 'that',\n",
              " 'as',\n",
              " 'at',\n",
              " 'patients',\n",
              " 'or',\n",
              " 'this',\n",
              " 'from',\n",
              " 'drug',\n",
              " 'you',\n",
              " 'mg',\n",
              " 'i',\n",
              " 'be',\n",
              " 'group',\n",
              " 'disease',\n",
              " 'study',\n",
              " 'treatment',\n",
              " 'are',\n",
              " 'pain',\n",
              " 'after',\n",
              " 'an',\n",
              " 'amp',\n",
              " 'it',\n",
              " 'not',\n",
              " 'have',\n",
              " 'release',\n",
              " 'p',\n",
              " 'gluten',\n",
              " 'we',\n",
              " 'free',\n",
              " 'all',\n",
              " 'than',\n",
              " 'effect',\n",
              " 'compared',\n",
              " 'no',\n",
              " 'new',\n",
              " 'using',\n",
              " 'more',\n",
              " 'groups',\n",
              " 'effects',\n",
              " 'our',\n",
              " 'two',\n",
              " 'your',\n",
              " 'both',\n",
              " 'about',\n",
              " 'h',\n",
              " 'significantly',\n",
              " 'its',\n",
              " 'inflammatory',\n",
              " 'out',\n",
              " 'significant',\n",
              " 'my',\n",
              " 'drugs',\n",
              " 'between',\n",
              " 'day',\n",
              " 'time',\n",
              " 'these',\n",
              " 'anti',\n",
              " 'can',\n",
              " 'use',\n",
              " 'used',\n",
              " 'but',\n",
              " 'which',\n",
              " 'has',\n",
              " 'dose',\n",
              " 'voltaren',\n",
              " 'what',\n",
              " 'also',\n",
              " 'one',\n",
              " 'results',\n",
              " 'do',\n",
              " 'potassium',\n",
              " 'placebo',\n",
              " 'glutenfree',\n",
              " 's',\n",
              " 'nt',\n",
              " 'may',\n",
              " 'efficacy',\n",
              " 'there',\n",
              " 'celiac',\n",
              " 'days',\n",
              " 'ds',\n",
              " 'm',\n",
              " 'treated',\n",
              " 'ml',\n",
              " 'w',\n",
              " 'showed',\n",
              " 'now',\n",
              " 'been',\n",
              " 'had',\n",
              " 'topical',\n",
              " 'c',\n",
              " 'up',\n",
              " 'administration',\n",
              " 'different',\n",
              " 'when',\n",
              " 'oral',\n",
              " 'products',\n",
              " 'studies',\n",
              " 'rats',\n",
              " 'concentration',\n",
              " 'food',\n",
              " 'via',\n",
              " 'non',\n",
              " 'how',\n",
              " 'well',\n",
              " 'other',\n",
              " 'test',\n",
              " 'control',\n",
              " 'their',\n",
              " 'if',\n",
              " 'clinical',\n",
              " 'during',\n",
              " 'respectively',\n",
              " 'found',\n",
              " 'right',\n",
              " 'induced',\n",
              " 'into',\n",
              " 'high',\n",
              " 'who',\n",
              " 'formulation',\n",
              " 'first',\n",
              " 'rate',\n",
              " 'plasma',\n",
              " 'could',\n",
              " 'method',\n",
              " 'nsaids',\n",
              " 'ph',\n",
              " 'formulations',\n",
              " 'post',\n",
              " 'those',\n",
              " 'over',\n",
              " 'tablets',\n",
              " 'did',\n",
              " 'acid',\n",
              " 'review',\n",
              " 'diet',\n",
              " 'mean',\n",
              " 'hours',\n",
              " 'effective',\n",
              " 'tip',\n",
              " 'blood',\n",
              " 'g',\n",
              " 'three',\n",
              " 'observed',\n",
              " 'gel',\n",
              " 'solution',\n",
              " 'd',\n",
              " 'received',\n",
              " 'n',\n",
              " 'vitro',\n",
              " 'increased',\n",
              " 'each',\n",
              " 'kg',\n",
              " 'so',\n",
              " 'adverse',\n",
              " 'less',\n",
              " 'levels',\n",
              " 'atorvastatin',\n",
              " 'analgesic',\n",
              " 'controlled',\n",
              " 'acute',\n",
              " 'only',\n",
              " 'single',\n",
              " 'activity',\n",
              " 'dblclick',\n",
              " 'analysis',\n",
              " 'low',\n",
              " 'most',\n",
              " 'period',\n",
              " 'pic',\n",
              " 'symptoms',\n",
              " 'concentrations',\n",
              " 'data',\n",
              " 'model',\n",
              " 'patient',\n",
              " 't',\n",
              " 'skin',\n",
              " 'week',\n",
              " 'evaluated',\n",
              " 'however',\n",
              " 'some',\n",
              " 'total',\n",
              " 'here',\n",
              " 'why',\n",
              " 'randomized',\n",
              " 'following',\n",
              " 'they',\n",
              " 'daily',\n",
              " 'obtained',\n",
              " 'before',\n",
              " 'lower',\n",
              " 'higher',\n",
              " 'l',\n",
              " 'check',\n",
              " 'good',\n",
              " 'know',\n",
              " 'weeks',\n",
              " 'nsaid',\n",
              " 'dissolution',\n",
              " 'similar',\n",
              " 'surgery',\n",
              " 'under',\n",
              " 'years',\n",
              " 'therapy',\n",
              " 'difference',\n",
              " 'postoperative',\n",
              " 'will',\n",
              " 'based',\n",
              " 'increase',\n",
              " 'tablet',\n",
              " 'cells',\n",
              " 'prepared',\n",
              " 'me',\n",
              " 'renal',\n",
              " 'should',\n",
              " 'relief',\n",
              " 'healthy',\n",
              " 'just',\n",
              " 'b',\n",
              " 'vs',\n",
              " 'combination',\n",
              " 'order',\n",
              " 'love',\n",
              " 'life',\n",
              " 'like',\n",
              " 'application',\n",
              " 'water',\n",
              " 'double',\n",
              " 'get',\n",
              " 'differences',\n",
              " 'studied',\n",
              " 'any',\n",
              " 'administered',\n",
              " 'while',\n",
              " 'present',\n",
              " 'given',\n",
              " 'help',\n",
              " 'cell',\n",
              " 'min',\n",
              " 'reported',\n",
              " 'four',\n",
              " 'conditions',\n",
              " 'trial',\n",
              " 'thanks',\n",
              " 'events',\n",
              " 'doses',\n",
              " 're',\n",
              " 'associated',\n",
              " 'nonsteroidal',\n",
              " 'us',\n",
              " 'reduced',\n",
              " 'response',\n",
              " 'x',\n",
              " 'does',\n",
              " 'developed',\n",
              " 'absorption',\n",
              " 'such',\n",
              " 'performed',\n",
              " 'values',\n",
              " 'system',\n",
              " 'investigated',\n",
              " 'need',\n",
              " 'inflammation',\n",
              " 'properties',\n",
              " 'great',\n",
              " 'serum',\n",
              " 'decreased',\n",
              " 'risk',\n",
              " 'either',\n",
              " 'better',\n",
              " 'assessed',\n",
              " 'posted',\n",
              " 'within',\n",
              " 'auc',\n",
              " 'due',\n",
              " 'side',\n",
              " 'recipe',\n",
              " 'steroidal',\n",
              " 'containing',\n",
              " 'changes',\n",
              " 'cholesterol',\n",
              " 'type',\n",
              " 'parameters',\n",
              " 'samples',\n",
              " 'number',\n",
              " 'through',\n",
              " 'v',\n",
              " 'ca',\n",
              " 'subjects',\n",
              " 'gfb',\n",
              " 'blind',\n",
              " 'delivery',\n",
              " 'reduction',\n",
              " 'times',\n",
              " 'safety',\n",
              " 'intolerance',\n",
              " 'vivo',\n",
              " 'related',\n",
              " 'without',\n",
              " 'people',\n",
              " 'year',\n",
              " 'show',\n",
              " 'being',\n",
              " 'indomethacin',\n",
              " 'make',\n",
              " 'phase',\n",
              " 'primary',\n",
              " 'statistically',\n",
              " 'living',\n",
              " 'development',\n",
              " 'ng',\n",
              " 'liquid',\n",
              " 'heres',\n",
              " 'potential',\n",
              " 'size',\n",
              " 'gastrointestinal',\n",
              " 'oa',\n",
              " 'best',\n",
              " 'lipitor',\n",
              " 'function',\n",
              " 'ratio',\n",
              " 'included',\n",
              " 'mm',\n",
              " 'scale',\n",
              " 'injection',\n",
              " 'k',\n",
              " '30',\n",
              " 'therapeutic',\n",
              " 'level',\n",
              " 'range',\n",
              " 'very',\n",
              " 'determined',\n",
              " 'scores',\n",
              " 'baseline',\n",
              " 'form',\n",
              " 'compare',\n",
              " 'bioavailability',\n",
              " 'osteoarthritis',\n",
              " 'many',\n",
              " 'measured',\n",
              " 'evaluate',\n",
              " 'available',\n",
              " '\\r \\n ',\n",
              " 'eat',\n",
              " 'medication',\n",
              " 'read',\n",
              " 'visual',\n",
              " 'health',\n",
              " 'dependent',\n",
              " 'coated',\n",
              " 'tips',\n",
              " 'e',\n",
              " 'active',\n",
              " 'human',\n",
              " 'greater',\n",
              " 'sustained',\n",
              " 'applied',\n",
              " 'tolerability',\n",
              " 'jennieo',\n",
              " 'then',\n",
              " 'tissue',\n",
              " 'minutes',\n",
              " 'tested',\n",
              " 'news',\n",
              " 'knee',\n",
              " 'months',\n",
              " 'because',\n",
              " 'aqueous',\n",
              " 'sensitivity',\n",
              " 'change',\n",
              " 'polymer',\n",
              " 'article',\n",
              " 'important',\n",
              " 'end',\n",
              " 'revealed',\n",
              " 'severe',\n",
              " 'area',\n",
              " 'archives',\n",
              " 'addition',\n",
              " 'normal',\n",
              " 'going',\n",
              " 'long',\n",
              " 'treatments',\n",
              " 'gastric',\n",
              " 'process',\n",
              " 'cd',\n",
              " 'per',\n",
              " '1',\n",
              " 'demonstrated',\n",
              " 'matrix',\n",
              " 'today',\n",
              " 'cox',\n",
              " 'arthritis',\n",
              " 'action',\n",
              " 'case',\n",
              " 'safe',\n",
              " 'ii',\n",
              " 'indicated',\n",
              " 'chicken',\n",
              " 'improvement',\n",
              " 'pressure',\n",
              " 'formation',\n",
              " 'presence',\n",
              " 'think',\n",
              " 'rat',\n",
              " 'standard',\n",
              " 'much',\n",
              " 'caused',\n",
              " 'made',\n",
              " 'dosage',\n",
              " 'migraine',\n",
              " 'chronic',\n",
              " 'animals',\n",
              " 'score',\n",
              " 'further',\n",
              " 'mice',\n",
              " 'na',\n",
              " 'provide',\n",
              " 'weight',\n",
              " 'hour',\n",
              " 'volunteers',\n",
              " 'f',\n",
              " 'inhibitor',\n",
              " 'tolerated',\n",
              " 'mechanism',\n",
              " 'various',\n",
              " 'whereas',\n",
              " 'aim',\n",
              " 'swelling',\n",
              " 'diagnosis',\n",
              " 'alone',\n",
              " 'way',\n",
              " 'big',\n",
              " 'agent',\n",
              " 'inhibition',\n",
              " 'profiles',\n",
              " 'shown',\n",
              " 'intensity',\n",
              " 'go',\n",
              " 'follow',\n",
              " 'divided',\n",
              " 'growth',\n",
              " 'suggest',\n",
              " 'same',\n",
              " 'permeation',\n",
              " 'trials',\n",
              " 'randomly',\n",
              " 'old',\n",
              " 'determine',\n",
              " 'local',\n",
              " 'ibuprofen',\n",
              " 'combined',\n",
              " 'among',\n",
              " 'decrease',\n",
              " 'diagnosed',\n",
              " 'part',\n",
              " 'microspheres',\n",
              " 'followed',\n",
              " 'moderate',\n",
              " 'reaction',\n",
              " 'agents',\n",
              " 'take',\n",
              " 'exposure',\n",
              " 'age',\n",
              " 'six',\n",
              " '2',\n",
              " 'cases',\n",
              " 'although',\n",
              " '\\r \\n \\r \\n ',\n",
              " 'awareness',\n",
              " 'systemic',\n",
              " 'share',\n",
              " 'evaluation',\n",
              " 'research',\n",
              " 'experimental',\n",
              " 'care',\n",
              " 'eye',\n",
              " 'eating',\n",
              " 'relative',\n",
              " 'conducted',\n",
              " 'would',\n",
              " 'common',\n",
              " 'male',\n",
              " 'least',\n",
              " 'pharmaceutical',\n",
              " 'resulted',\n",
              " 'multiple',\n",
              " 'de',\n",
              " 'content',\n",
              " 'corneal',\n",
              " 'including',\n",
              " 'peak',\n",
              " 'profile',\n",
              " 'o',\n",
              " 'damage',\n",
              " 'protein',\n",
              " 'according',\n",
              " 'enteric',\n",
              " 'find',\n",
              " 'product',\n",
              " 'rapid',\n",
              " 'onset',\n",
              " 'degrees',\n",
              " 'cmax',\n",
              " 'ever',\n",
              " 'vas',\n",
              " 'please',\n",
              " 'pizza',\n",
              " 'want',\n",
              " 'happy',\n",
              " 'cm',\n",
              " 'lesions',\n",
              " 'r',\n",
              " 'beads',\n",
              " 'month',\n",
              " 'quality',\n",
              " 'analgesia',\n",
              " 'duration',\n",
              " 'versus',\n",
              " 'ci',\n",
              " 'vehicle',\n",
              " 'surface',\n",
              " 'physical',\n",
              " 'blog',\n",
              " 'linked',\n",
              " 'plus',\n",
              " 'evidence',\n",
              " 'cookbook',\n",
              " 'even',\n",
              " 'cross',\n",
              " 'achieved',\n",
              " 'amount',\n",
              " 'participants',\n",
              " 'technique',\n",
              " 'produced',\n",
              " 'sensitive',\n",
              " 'third',\n",
              " 'still',\n",
              " 'carried',\n",
              " '4',\n",
              " 'pre',\n",
              " 'body',\n",
              " 'might',\n",
              " 'improved',\n",
              " 'efficiency',\n",
              " 'diffusion',\n",
              " 'secondary',\n",
              " 'reference',\n",
              " 'specific',\n",
              " 'where',\n",
              " 'considered',\n",
              " 'models',\n",
              " 'u',\n",
              " 'urine',\n",
              " 'cause',\n",
              " 'pharmacokinetic',\n",
              " 'pellets',\n",
              " 'term',\n",
              " 'second',\n",
              " 'phosphate',\n",
              " 'thus',\n",
              " 'overall',\n",
              " 'naproxen',\n",
              " 'co',\n",
              " 'super',\n",
              " 'five',\n",
              " 'temperature',\n",
              " 'complete',\n",
              " 'global',\n",
              " 'methods',\n",
              " 'medical',\n",
              " 'muscle',\n",
              " 'intestinal',\n",
              " 'possible',\n",
              " 'assessment',\n",
              " 'medium',\n",
              " 'preparation',\n",
              " 'th',\n",
              " 'initial',\n",
              " 'work',\n",
              " 'interaction',\n",
              " 'see',\n",
              " 'autographed',\n",
              " 'soup',\n",
              " 'maximum',\n",
              " 'synthesis',\n",
              " 'aspirin',\n",
              " 'extent',\n",
              " 'determination',\n",
              " 'rofecoxib',\n",
              " 'needed',\n",
              " 'microg',\n",
              " 'affect',\n",
              " 'misoprostol',\n",
              " 'dr',\n",
              " 'against',\n",
              " 'gf',\n",
              " 'small',\n",
              " 'rates',\n",
              " 'early',\n",
              " 'site',\n",
              " 'membrane',\n",
              " 'commercial',\n",
              " 'indicate',\n",
              " 'joint',\n",
              " 'intramuscular',\n",
              " 'easy',\n",
              " 'inhibited',\n",
              " 'them',\n",
              " 'investigate',\n",
              " 'complex',\n",
              " 'receiving',\n",
              " 'findings',\n",
              " 'women',\n",
              " 'current',\n",
              " 'characterized',\n",
              " 'dic',\n",
              " 'expression',\n",
              " 'hplc',\n",
              " 'additional',\n",
              " 'calcium',\n",
              " 'comparison',\n",
              " 'once',\n",
              " 'friends',\n",
              " 'max',\n",
              " 'paracetamol',\n",
              " 'design',\n",
              " 'volume',\n",
              " 'capsules',\n",
              " 'saline',\n",
              " 'got',\n",
              " 'clinically',\n",
              " 'comparable',\n",
              " 'children',\n",
              " 'value',\n",
              " 'incidence',\n",
              " 'alternative',\n",
              " 'wheat',\n",
              " 'eyes',\n",
              " 'superior',\n",
              " 'solid',\n",
              " 'since',\n",
              " 'patch',\n",
              " 'try',\n",
              " 'delicious',\n",
              " 'released',\n",
              " 'tests',\n",
              " 'therefore',\n",
              " 'flow',\n",
              " 'every',\n",
              " 'mild',\n",
              " 'simple',\n",
              " 'whether',\n",
              " 'brain',\n",
              " '5',\n",
              " 'examined',\n",
              " 'loaded',\n",
              " 'rheumatoid',\n",
              " 'solutions',\n",
              " 'index',\n",
              " 'taking',\n",
              " 'story',\n",
              " 'liver',\n",
              " 'cataract',\n",
              " 'open',\n",
              " 'few',\n",
              " 'prostaglandin',\n",
              " 'factor',\n",
              " 'ocular',\n",
              " 'nm',\n",
              " 'bone',\n",
              " 'looking',\n",
              " 'detection',\n",
              " 'degree',\n",
              " 'influence',\n",
              " 'state',\n",
              " 'last',\n",
              " 'lipid',\n",
              " 'inhibitors',\n",
              " 'twice',\n",
              " 'edema',\n",
              " 'performance',\n",
              " 'top',\n",
              " 'cream',\n",
              " 'assess',\n",
              " 'recorded',\n",
              " 'novel',\n",
              " 'solubility',\n",
              " 'others',\n",
              " 'treat',\n",
              " 'modified',\n",
              " 'bread',\n",
              " 'too',\n",
              " 'ketorolac',\n",
              " 'kinetics',\n",
              " 'buffer',\n",
              " 'affected',\n",
              " 'analyzed',\n",
              " 'point',\n",
              " 'cardiovascular',\n",
              " 'foods',\n",
              " 'cambia',\n",
              " '2014',\n",
              " 'ldl',\n",
              " 'increasing',\n",
              " 'tissues',\n",
              " 'gi',\n",
              " 'major',\n",
              " 'hp',\n",
              " 'drops',\n",
              " 'antiinflammatory',\n",
              " 'production',\n",
              " 'terms',\n",
              " 'aged',\n",
              " 'next',\n",
              " 'back',\n",
              " 'several',\n",
              " 'outcome',\n",
              " 'rabbits',\n",
              " 'capsule',\n",
              " 'medications',\n",
              " 'information',\n",
              " 'bowl',\n",
              " 'syndrome',\n",
              " 'exhibited',\n",
              " 'vascular',\n",
              " 'particle',\n",
              " 'pge',\n",
              " 'preparations',\n",
              " 'alpha',\n",
              " 'systems',\n",
              " 'giveaway',\n",
              " 'beta',\n",
              " 'learn',\n",
              " 'forms',\n",
              " 'provided',\n",
              " 'across',\n",
              " 'support',\n",
              " 'ability',\n",
              " 'fluid',\n",
              " 'book',\n",
              " 'excretion',\n",
              " 'objective',\n",
              " 'responses',\n",
              " 'dpsgc',\n",
              " 'il',\n",
              " 'transdermal',\n",
              " 'special',\n",
              " 'known',\n",
              " 'thank',\n",
              " 'allergy',\n",
              " 'role',\n",
              " 'criteria',\n",
              " 'celecoxib',\n",
              " 'issues',\n",
              " 'oil',\n",
              " 'collected',\n",
              " 'clearance',\n",
              " 'chitosan',\n",
              " 'death',\n",
              " 'testing',\n",
              " 'serious',\n",
              " 'factors',\n",
              " 'useful',\n",
              " 'options',\n",
              " 'chocolate',\n",
              " 'coeliac',\n",
              " 'characteristics',\n",
              " 'analgesics',\n",
              " 'later',\n",
              " 'binding',\n",
              " 'sr',\n",
              " 'eudragit',\n",
              " 'market',\n",
              " 'dcf',\n",
              " 'extraction',\n",
              " 'having',\n",
              " 'activities',\n",
              " 'recipes',\n",
              " 'faster',\n",
              " 'enhanced',\n",
              " 'especially',\n",
              " 'child',\n",
              " 'operative',\n",
              " 've',\n",
              " 'cs',\n",
              " 'america',\n",
              " 'own',\n",
              " 'hpmc',\n",
              " 'page',\n",
              " 'tmax',\n",
              " 'orally',\n",
              " 'start',\n",
              " 'feel',\n",
              " '10',\n",
              " 'prolonged',\n",
              " 'sd',\n",
              " 'flare',\n",
              " 'scanning',\n",
              " 'microscopy',\n",
              " 'info',\n",
              " 'required',\n",
              " 'hospital',\n",
              " 'crossover',\n",
              " 'receive',\n",
              " 'approximately',\n",
              " 'microm',\n",
              " 'cyclooxygenase',\n",
              " 'getting',\n",
              " 'density',\n",
              " 'arthrotec',\n",
              " 'acetaminophen',\n",
              " 'stability',\n",
              " 'morning',\n",
              " 'seven',\n",
              " 'penetration',\n",
              " 'percentage',\n",
              " 'hr',\n",
              " 'selected',\n",
              " 'widely',\n",
              " 'occurred',\n",
              " 'average',\n",
              " 'urinary',\n",
              " 'dfs',\n",
              " 'develop',\n",
              " 'injury',\n",
              " 'detected',\n",
              " 'electron',\n",
              " 'dexamethasone',\n",
              " 'salt',\n",
              " 'suggested',\n",
              " 'reduce',\n",
              " 'sunday',\n",
              " 'management',\n",
              " 'aes',\n",
              " 'seen',\n",
              " 'likely',\n",
              " 'distribution',\n",
              " 'selective',\n",
              " 'kcnq',\n",
              " 'analogue',\n",
              " 'molecular',\n",
              " 'stem',\n",
              " 'variables',\n",
              " 'target',\n",
              " 'event',\n",
              " 'diseases',\n",
              " 'signs',\n",
              " 'interview',\n",
              " 'curve',\n",
              " 'potent',\n",
              " 'interesting',\n",
              " 'established',\n",
              " 'peg',\n",
              " 'list',\n",
              " 'experience',\n",
              " 'assay',\n",
              " 'direct',\n",
              " 'down',\n",
              " 'short',\n",
              " 'confirmed',\n",
              " 'loading',\n",
              " 'zero',\n",
              " 'laboratory',\n",
              " 'structure',\n",
              " 'ask',\n",
              " 'validated',\n",
              " 'rescue',\n",
              " 'he',\n",
              " 'procedure',\n",
              " 'able',\n",
              " 'always',\n",
              " 'drop',\n",
              " 'whole',\n",
              " 'percent',\n",
              " 'breakfast',\n",
              " 'condition',\n",
              " 'involved',\n",
              " 'really',\n",
              " 'examination',\n",
              " 'ak',\n",
              " 'injected',\n",
              " 'headache',\n",
              " 'proposed',\n",
              " 'effectiveness',\n",
              " 'spectroscopy',\n",
              " 'collagen',\n",
              " 'her',\n",
              " 'creatinine',\n",
              " 'alginate',\n",
              " 'recently',\n",
              " 'metabolism',\n",
              " 'highly',\n",
              " 'activation',\n",
              " 'hey',\n",
              " 'plant',\n",
              " 'randomised',\n",
              " 'intravenous',\n",
              " 'improve',\n",
              " 'laser',\n",
              " 'postoperatively',\n",
              " 'experiments',\n",
              " 'hip',\n",
              " 'relaxation',\n",
              " 'join',\n",
              " 'assigned',\n",
              " 'must',\n",
              " 'hand',\n",
              " 'ty',\n",
              " 'report',\n",
              " 'quinoa',\n",
              " 'coming',\n",
              " 'recent',\n",
              " 'eight',\n",
              " 'reasons',\n",
              " 'result',\n",
              " 'population',\n",
              " 'world',\n",
              " 'interval',\n",
              " 'friendly',\n",
              " 'another',\n",
              " 'ophthalmic',\n",
              " 'independent',\n",
              " 'fed',\n",
              " 'his',\n",
              " 'visit',\n",
              " 'intraocular',\n",
              " 'kids',\n",
              " 'df',\n",
              " 'coating',\n",
              " 'reducing',\n",
              " 'compound',\n",
              " '3',\n",
              " 'prior',\n",
              " 'makes',\n",
              " 'avoid',\n",
              " 'individual',\n",
              " 'slow',\n",
              " 'mt',\n",
              " 'molar',\n",
              " 'loss',\n",
              " 'man',\n",
              " 'degradation',\n",
              " 'regarding',\n",
              " 'designed',\n",
              " 'statin',\n",
              " 'chemical',\n",
              " 'dosing',\n",
              " 'removal',\n",
              " 'fast',\n",
              " 'hear',\n",
              " 'cake',\n",
              " 'off',\n",
              " 'chloride',\n",
              " 'sample',\n",
              " 'series',\n",
              " 'behavior',\n",
              " 'adult',\n",
              " 'movement',\n",
              " 'permeability',\n",
              " 'outcomes',\n",
              " 'large',\n",
              " 'pattern',\n",
              " 'flurbiprofen',\n",
              " 'allergic',\n",
              " 'published',\n",
              " 'linear',\n",
              " 'purpose',\n",
              " 'link',\n",
              " 'equivalent',\n",
              " 'heart',\n",
              " 'interactions',\n",
              " 'channel',\n",
              " 'means',\n",
              " 'female',\n",
              " ...]"
            ]
          },
          "metadata": {
            "tags": []
          },
          "execution_count": 17
        }
      ]
    },
    {
      "cell_type": "code",
      "metadata": {
        "id": "yPWr03mls3VT",
        "colab_type": "code",
        "outputId": "54bef372-74f1-4359-dff3-f53b9c9be26d",
        "colab": {
          "base_uri": "https://localhost:8080/",
          "height": 17
        }
      },
      "source": [
        "model_path = path/'models'\n",
        "model_path.mkdir(exist_ok=True)\n",
        "url = 'http://files.fast.ai/models/wt103_v1/'\n",
        "download_url(f'{url}lstm_wt103.pth', model_path/'lstm_wt103.pth')\n",
        "download_url(f'{url}itos_wt103.pkl', model_path/'itos_wt103.pkl')"
      ],
      "execution_count": 18,
      "outputs": [
        {
          "output_type": "display_data",
          "data": {
            "text/html": [
              ""
            ],
            "text/plain": [
              "<IPython.core.display.HTML object>"
            ]
          },
          "metadata": {
            "tags": []
          }
        },
        {
          "output_type": "display_data",
          "data": {
            "text/html": [
              ""
            ],
            "text/plain": [
              "<IPython.core.display.HTML object>"
            ]
          },
          "metadata": {
            "tags": []
          }
        }
      ]
    },
    {
      "cell_type": "code",
      "metadata": {
        "id": "JRzvWg8RtGGr",
        "colab_type": "code",
        "outputId": "a0c5f33d-211c-444a-e624-b1a04416cefc",
        "colab": {
          "base_uri": "https://localhost:8080/",
          "height": 35
        }
      },
      "source": [
        "learn = language_model_learner(data_lm, AWD_LSTM, drop_mult=0.5)"
      ],
      "execution_count": 19,
      "outputs": [
        {
          "output_type": "stream",
          "text": [
            "Downloading https://s3.amazonaws.com/fast-ai-modelzoo/wt103-fwd\n"
          ],
          "name": "stdout"
        },
        {
          "output_type": "display_data",
          "data": {
            "text/html": [
              ""
            ],
            "text/plain": [
              "<IPython.core.display.HTML object>"
            ]
          },
          "metadata": {
            "tags": []
          }
        }
      ]
    },
    {
      "cell_type": "code",
      "metadata": {
        "id": "xKK7GeBev7Xn",
        "colab_type": "code",
        "outputId": "910faa3e-5137-4a19-9fa6-d7c22f34335a",
        "colab": {
          "base_uri": "https://localhost:8080/",
          "height": 79
        }
      },
      "source": [
        "learn.fit_one_cycle(1, 1e-2)"
      ],
      "execution_count": 20,
      "outputs": [
        {
          "output_type": "display_data",
          "data": {
            "text/html": [
              "<table border=\"1\" class=\"dataframe\">\n",
              "  <thead>\n",
              "    <tr style=\"text-align: left;\">\n",
              "      <th>epoch</th>\n",
              "      <th>train_loss</th>\n",
              "      <th>valid_loss</th>\n",
              "      <th>accuracy</th>\n",
              "      <th>time</th>\n",
              "    </tr>\n",
              "  </thead>\n",
              "  <tbody>\n",
              "    <tr>\n",
              "      <td>0</td>\n",
              "      <td>5.193883</td>\n",
              "      <td>4.604207</td>\n",
              "      <td>0.251721</td>\n",
              "      <td>22:44</td>\n",
              "    </tr>\n",
              "  </tbody>\n",
              "</table>"
            ],
            "text/plain": [
              "<IPython.core.display.HTML object>"
            ]
          },
          "metadata": {
            "tags": []
          }
        }
      ]
    },
    {
      "cell_type": "code",
      "metadata": {
        "id": "iB7rHGQCwd12",
        "colab_type": "code",
        "colab": {
          "base_uri": "https://localhost:8080/",
          "height": 79
        },
        "outputId": "2d495d97-e3e6-4c50-eb16-fbe8710a41a1"
      },
      "source": [
        "learn.fit_one_cycle(1, 1e-2)"
      ],
      "execution_count": 21,
      "outputs": [
        {
          "output_type": "display_data",
          "data": {
            "text/html": [
              "<table border=\"1\" class=\"dataframe\">\n",
              "  <thead>\n",
              "    <tr style=\"text-align: left;\">\n",
              "      <th>epoch</th>\n",
              "      <th>train_loss</th>\n",
              "      <th>valid_loss</th>\n",
              "      <th>accuracy</th>\n",
              "      <th>time</th>\n",
              "    </tr>\n",
              "  </thead>\n",
              "  <tbody>\n",
              "    <tr>\n",
              "      <td>0</td>\n",
              "      <td>4.446654</td>\n",
              "      <td>4.264110</td>\n",
              "      <td>0.285184</td>\n",
              "      <td>22:40</td>\n",
              "    </tr>\n",
              "  </tbody>\n",
              "</table>"
            ],
            "text/plain": [
              "<IPython.core.display.HTML object>"
            ]
          },
          "metadata": {
            "tags": []
          }
        }
      ]
    },
    {
      "cell_type": "code",
      "metadata": {
        "id": "_BnSuAeCwkBe",
        "colab_type": "code",
        "colab": {
          "base_uri": "https://localhost:8080/",
          "height": 79
        },
        "outputId": "4de0facb-65d3-48dc-9e3e-794455ff0490"
      },
      "source": [
        "learn.fit_one_cycle(1, 1e-3)"
      ],
      "execution_count": 22,
      "outputs": [
        {
          "output_type": "display_data",
          "data": {
            "text/html": [
              "<table border=\"1\" class=\"dataframe\">\n",
              "  <thead>\n",
              "    <tr style=\"text-align: left;\">\n",
              "      <th>epoch</th>\n",
              "      <th>train_loss</th>\n",
              "      <th>valid_loss</th>\n",
              "      <th>accuracy</th>\n",
              "      <th>time</th>\n",
              "    </tr>\n",
              "  </thead>\n",
              "  <tbody>\n",
              "    <tr>\n",
              "      <td>0</td>\n",
              "      <td>4.123785</td>\n",
              "      <td>4.223575</td>\n",
              "      <td>0.289397</td>\n",
              "      <td>22:38</td>\n",
              "    </tr>\n",
              "  </tbody>\n",
              "</table>"
            ],
            "text/plain": [
              "<IPython.core.display.HTML object>"
            ]
          },
          "metadata": {
            "tags": []
          }
        }
      ]
    },
    {
      "cell_type": "code",
      "metadata": {
        "id": "MuTm-RFjwrEX",
        "colab_type": "code",
        "colab": {
          "base_uri": "https://localhost:8080/",
          "height": 79
        },
        "outputId": "a9466eae-6e1f-40a9-abfb-fcdb0e2aa666"
      },
      "source": [
        "learn.fit_one_cycle(1, 1e-3)"
      ],
      "execution_count": 23,
      "outputs": [
        {
          "output_type": "display_data",
          "data": {
            "text/html": [
              "<table border=\"1\" class=\"dataframe\">\n",
              "  <thead>\n",
              "    <tr style=\"text-align: left;\">\n",
              "      <th>epoch</th>\n",
              "      <th>train_loss</th>\n",
              "      <th>valid_loss</th>\n",
              "      <th>accuracy</th>\n",
              "      <th>time</th>\n",
              "    </tr>\n",
              "  </thead>\n",
              "  <tbody>\n",
              "    <tr>\n",
              "      <td>0</td>\n",
              "      <td>4.072806</td>\n",
              "      <td>4.192667</td>\n",
              "      <td>0.292532</td>\n",
              "      <td>22:41</td>\n",
              "    </tr>\n",
              "  </tbody>\n",
              "</table>"
            ],
            "text/plain": [
              "<IPython.core.display.HTML object>"
            ]
          },
          "metadata": {
            "tags": []
          }
        }
      ]
    },
    {
      "cell_type": "code",
      "metadata": {
        "id": "1Er2ExO8wr7Y",
        "colab_type": "code",
        "colab": {}
      },
      "source": [
        "learn.save_encoder('tuning_pubmed_bigtweet_overlap_0_first')"
      ],
      "execution_count": 0,
      "outputs": []
    },
    {
      "cell_type": "code",
      "metadata": {
        "id": "z52cZs2qwvad",
        "colab_type": "code",
        "colab": {
          "base_uri": "https://localhost:8080/",
          "height": 79
        },
        "outputId": "5478b482-e3ce-4659-83da-f48b662be83a"
      },
      "source": [
        "learn = text_classifier_learner(data_clas,AWD_LSTM, drop_mult=0.5)\n",
        "learn.load_encoder('tuning_pubmed_bigtweet_overlap_0_first')\n",
        "learn.fit_one_cycle(1, 1e-2)"
      ],
      "execution_count": 25,
      "outputs": [
        {
          "output_type": "display_data",
          "data": {
            "text/html": [
              "<table border=\"1\" class=\"dataframe\">\n",
              "  <thead>\n",
              "    <tr style=\"text-align: left;\">\n",
              "      <th>epoch</th>\n",
              "      <th>train_loss</th>\n",
              "      <th>valid_loss</th>\n",
              "      <th>accuracy</th>\n",
              "      <th>time</th>\n",
              "    </tr>\n",
              "  </thead>\n",
              "  <tbody>\n",
              "    <tr>\n",
              "      <td>0</td>\n",
              "      <td>7.091900</td>\n",
              "      <td>6.430696</td>\n",
              "      <td>0.078261</td>\n",
              "      <td>00:55</td>\n",
              "    </tr>\n",
              "  </tbody>\n",
              "</table>"
            ],
            "text/plain": [
              "<IPython.core.display.HTML object>"
            ]
          },
          "metadata": {
            "tags": []
          }
        }
      ]
    },
    {
      "cell_type": "code",
      "metadata": {
        "id": "ImwQP1PJwzxd",
        "colab_type": "code",
        "colab": {
          "base_uri": "https://localhost:8080/",
          "height": 79
        },
        "outputId": "791ecf88-39eb-4710-b07a-6f6f22668f9f"
      },
      "source": [
        "learn.freeze_to(-2)\n",
        "learn.fit_one_cycle(1, slice(5e-3/2., 5e-3))"
      ],
      "execution_count": 26,
      "outputs": [
        {
          "output_type": "display_data",
          "data": {
            "text/html": [
              "<table border=\"1\" class=\"dataframe\">\n",
              "  <thead>\n",
              "    <tr style=\"text-align: left;\">\n",
              "      <th>epoch</th>\n",
              "      <th>train_loss</th>\n",
              "      <th>valid_loss</th>\n",
              "      <th>accuracy</th>\n",
              "      <th>time</th>\n",
              "    </tr>\n",
              "  </thead>\n",
              "  <tbody>\n",
              "    <tr>\n",
              "      <td>0</td>\n",
              "      <td>6.165597</td>\n",
              "      <td>5.183199</td>\n",
              "      <td>0.156522</td>\n",
              "      <td>01:00</td>\n",
              "    </tr>\n",
              "  </tbody>\n",
              "</table>"
            ],
            "text/plain": [
              "<IPython.core.display.HTML object>"
            ]
          },
          "metadata": {
            "tags": []
          }
        }
      ]
    },
    {
      "cell_type": "code",
      "metadata": {
        "id": "Owff_BJXw53u",
        "colab_type": "code",
        "colab": {
          "base_uri": "https://localhost:8080/",
          "height": 79
        },
        "outputId": "9a4648b6-0926-403f-e69d-9ab0056491a7"
      },
      "source": [
        "learn.unfreeze()\n",
        "learn.fit_one_cycle(1, slice(2e-3/100, 2e-3))"
      ],
      "execution_count": 27,
      "outputs": [
        {
          "output_type": "display_data",
          "data": {
            "text/html": [
              "<table border=\"1\" class=\"dataframe\">\n",
              "  <thead>\n",
              "    <tr style=\"text-align: left;\">\n",
              "      <th>epoch</th>\n",
              "      <th>train_loss</th>\n",
              "      <th>valid_loss</th>\n",
              "      <th>accuracy</th>\n",
              "      <th>time</th>\n",
              "    </tr>\n",
              "  </thead>\n",
              "  <tbody>\n",
              "    <tr>\n",
              "      <td>0</td>\n",
              "      <td>5.712017</td>\n",
              "      <td>4.944996</td>\n",
              "      <td>0.173913</td>\n",
              "      <td>01:08</td>\n",
              "    </tr>\n",
              "  </tbody>\n",
              "</table>"
            ],
            "text/plain": [
              "<IPython.core.display.HTML object>"
            ]
          },
          "metadata": {
            "tags": []
          }
        }
      ]
    },
    {
      "cell_type": "code",
      "metadata": {
        "id": "lqAyu56V8Waq",
        "colab_type": "code",
        "colab": {
          "base_uri": "https://localhost:8080/",
          "height": 110
        },
        "outputId": "f08247b3-16eb-48cc-b544-5772e0b5dce9"
      },
      "source": [
        "learn.fit_one_cycle(2, slice(2e-3/100, 2e-3))"
      ],
      "execution_count": 28,
      "outputs": [
        {
          "output_type": "display_data",
          "data": {
            "text/html": [
              "<table border=\"1\" class=\"dataframe\">\n",
              "  <thead>\n",
              "    <tr style=\"text-align: left;\">\n",
              "      <th>epoch</th>\n",
              "      <th>train_loss</th>\n",
              "      <th>valid_loss</th>\n",
              "      <th>accuracy</th>\n",
              "      <th>time</th>\n",
              "    </tr>\n",
              "  </thead>\n",
              "  <tbody>\n",
              "    <tr>\n",
              "      <td>0</td>\n",
              "      <td>5.473520</td>\n",
              "      <td>4.677383</td>\n",
              "      <td>0.200000</td>\n",
              "      <td>01:08</td>\n",
              "    </tr>\n",
              "    <tr>\n",
              "      <td>1</td>\n",
              "      <td>5.274530</td>\n",
              "      <td>4.489362</td>\n",
              "      <td>0.226087</td>\n",
              "      <td>01:15</td>\n",
              "    </tr>\n",
              "  </tbody>\n",
              "</table>"
            ],
            "text/plain": [
              "<IPython.core.display.HTML object>"
            ]
          },
          "metadata": {
            "tags": []
          }
        }
      ]
    },
    {
      "cell_type": "code",
      "metadata": {
        "id": "a7I1xMRp8bUd",
        "colab_type": "code",
        "colab": {
          "base_uri": "https://localhost:8080/",
          "height": 110
        },
        "outputId": "485806be-4f4c-437e-faf8-a4b7a3ec47f6"
      },
      "source": [
        "learn.fit_one_cycle(2, slice(2e-3/100, 2e-3))"
      ],
      "execution_count": 29,
      "outputs": [
        {
          "output_type": "display_data",
          "data": {
            "text/html": [
              "<table border=\"1\" class=\"dataframe\">\n",
              "  <thead>\n",
              "    <tr style=\"text-align: left;\">\n",
              "      <th>epoch</th>\n",
              "      <th>train_loss</th>\n",
              "      <th>valid_loss</th>\n",
              "      <th>accuracy</th>\n",
              "      <th>time</th>\n",
              "    </tr>\n",
              "  </thead>\n",
              "  <tbody>\n",
              "    <tr>\n",
              "      <td>0</td>\n",
              "      <td>5.062287</td>\n",
              "      <td>4.359725</td>\n",
              "      <td>0.234783</td>\n",
              "      <td>01:09</td>\n",
              "    </tr>\n",
              "    <tr>\n",
              "      <td>1</td>\n",
              "      <td>4.944354</td>\n",
              "      <td>4.295994</td>\n",
              "      <td>0.200000</td>\n",
              "      <td>01:13</td>\n",
              "    </tr>\n",
              "  </tbody>\n",
              "</table>"
            ],
            "text/plain": [
              "<IPython.core.display.HTML object>"
            ]
          },
          "metadata": {
            "tags": []
          }
        }
      ]
    },
    {
      "cell_type": "code",
      "metadata": {
        "id": "UAnti-XmGVfO",
        "colab_type": "code",
        "colab": {
          "base_uri": "https://localhost:8080/",
          "height": 110
        },
        "outputId": "d08582ae-0ffe-4f50-93b7-1be3a3ad8068"
      },
      "source": [
        "learn.fit_one_cycle(2, slice(2e-3/100, 2e-3))"
      ],
      "execution_count": 30,
      "outputs": [
        {
          "output_type": "display_data",
          "data": {
            "text/html": [
              "<table border=\"1\" class=\"dataframe\">\n",
              "  <thead>\n",
              "    <tr style=\"text-align: left;\">\n",
              "      <th>epoch</th>\n",
              "      <th>train_loss</th>\n",
              "      <th>valid_loss</th>\n",
              "      <th>accuracy</th>\n",
              "      <th>time</th>\n",
              "    </tr>\n",
              "  </thead>\n",
              "  <tbody>\n",
              "    <tr>\n",
              "      <td>0</td>\n",
              "      <td>4.775703</td>\n",
              "      <td>4.238928</td>\n",
              "      <td>0.243478</td>\n",
              "      <td>01:06</td>\n",
              "    </tr>\n",
              "    <tr>\n",
              "      <td>1</td>\n",
              "      <td>4.630615</td>\n",
              "      <td>4.182660</td>\n",
              "      <td>0.226087</td>\n",
              "      <td>01:10</td>\n",
              "    </tr>\n",
              "  </tbody>\n",
              "</table>"
            ],
            "text/plain": [
              "<IPython.core.display.HTML object>"
            ]
          },
          "metadata": {
            "tags": []
          }
        }
      ]
    },
    {
      "cell_type": "code",
      "metadata": {
        "id": "bIft7W25GwSu",
        "colab_type": "code",
        "colab": {
          "base_uri": "https://localhost:8080/",
          "height": 110
        },
        "outputId": "e2091d16-c6ea-48a7-9048-443e17e31c61"
      },
      "source": [
        "learn.fit_one_cycle(2, slice(2e-3/100, 2e-3))"
      ],
      "execution_count": 31,
      "outputs": [
        {
          "output_type": "display_data",
          "data": {
            "text/html": [
              "<table border=\"1\" class=\"dataframe\">\n",
              "  <thead>\n",
              "    <tr style=\"text-align: left;\">\n",
              "      <th>epoch</th>\n",
              "      <th>train_loss</th>\n",
              "      <th>valid_loss</th>\n",
              "      <th>accuracy</th>\n",
              "      <th>time</th>\n",
              "    </tr>\n",
              "  </thead>\n",
              "  <tbody>\n",
              "    <tr>\n",
              "      <td>0</td>\n",
              "      <td>4.478939</td>\n",
              "      <td>4.114627</td>\n",
              "      <td>0.234783</td>\n",
              "      <td>01:09</td>\n",
              "    </tr>\n",
              "    <tr>\n",
              "      <td>1</td>\n",
              "      <td>4.337050</td>\n",
              "      <td>4.088825</td>\n",
              "      <td>0.226087</td>\n",
              "      <td>01:12</td>\n",
              "    </tr>\n",
              "  </tbody>\n",
              "</table>"
            ],
            "text/plain": [
              "<IPython.core.display.HTML object>"
            ]
          },
          "metadata": {
            "tags": []
          }
        }
      ]
    },
    {
      "cell_type": "code",
      "metadata": {
        "id": "EEHszVRvGyFt",
        "colab_type": "code",
        "colab": {
          "base_uri": "https://localhost:8080/",
          "height": 110
        },
        "outputId": "e6c73f73-471a-41be-edeb-3d0471f23088"
      },
      "source": [
        "learn.fit_one_cycle(2, slice(2e-3/100, 2e-3))"
      ],
      "execution_count": 32,
      "outputs": [
        {
          "output_type": "display_data",
          "data": {
            "text/html": [
              "<table border=\"1\" class=\"dataframe\">\n",
              "  <thead>\n",
              "    <tr style=\"text-align: left;\">\n",
              "      <th>epoch</th>\n",
              "      <th>train_loss</th>\n",
              "      <th>valid_loss</th>\n",
              "      <th>accuracy</th>\n",
              "      <th>time</th>\n",
              "    </tr>\n",
              "  </thead>\n",
              "  <tbody>\n",
              "    <tr>\n",
              "      <td>0</td>\n",
              "      <td>4.169014</td>\n",
              "      <td>4.039755</td>\n",
              "      <td>0.252174</td>\n",
              "      <td>01:07</td>\n",
              "    </tr>\n",
              "    <tr>\n",
              "      <td>1</td>\n",
              "      <td>4.044566</td>\n",
              "      <td>4.029593</td>\n",
              "      <td>0.260870</td>\n",
              "      <td>01:12</td>\n",
              "    </tr>\n",
              "  </tbody>\n",
              "</table>"
            ],
            "text/plain": [
              "<IPython.core.display.HTML object>"
            ]
          },
          "metadata": {
            "tags": []
          }
        }
      ]
    },
    {
      "cell_type": "code",
      "metadata": {
        "id": "XsHfrhCHG3dN",
        "colab_type": "code",
        "colab": {
          "base_uri": "https://localhost:8080/",
          "height": 171
        },
        "outputId": "cd3c9398-8f6d-4c0e-ecbf-fc09c3fd8688"
      },
      "source": [
        "learn.fit_one_cycle(4, slice(2e-3/100, 2e-3))"
      ],
      "execution_count": 33,
      "outputs": [
        {
          "output_type": "display_data",
          "data": {
            "text/html": [
              "<table border=\"1\" class=\"dataframe\">\n",
              "  <thead>\n",
              "    <tr style=\"text-align: left;\">\n",
              "      <th>epoch</th>\n",
              "      <th>train_loss</th>\n",
              "      <th>valid_loss</th>\n",
              "      <th>accuracy</th>\n",
              "      <th>time</th>\n",
              "    </tr>\n",
              "  </thead>\n",
              "  <tbody>\n",
              "    <tr>\n",
              "      <td>0</td>\n",
              "      <td>3.900916</td>\n",
              "      <td>3.996655</td>\n",
              "      <td>0.226087</td>\n",
              "      <td>01:10</td>\n",
              "    </tr>\n",
              "    <tr>\n",
              "      <td>1</td>\n",
              "      <td>3.838321</td>\n",
              "      <td>4.009439</td>\n",
              "      <td>0.252174</td>\n",
              "      <td>01:12</td>\n",
              "    </tr>\n",
              "    <tr>\n",
              "      <td>2</td>\n",
              "      <td>3.697623</td>\n",
              "      <td>3.996241</td>\n",
              "      <td>0.243478</td>\n",
              "      <td>01:14</td>\n",
              "    </tr>\n",
              "    <tr>\n",
              "      <td>3</td>\n",
              "      <td>3.549445</td>\n",
              "      <td>3.969941</td>\n",
              "      <td>0.252174</td>\n",
              "      <td>01:08</td>\n",
              "    </tr>\n",
              "  </tbody>\n",
              "</table>"
            ],
            "text/plain": [
              "<IPython.core.display.HTML object>"
            ]
          },
          "metadata": {
            "tags": []
          }
        }
      ]
    },
    {
      "cell_type": "code",
      "metadata": {
        "id": "0Zsd99isb9EQ",
        "colab_type": "code",
        "colab": {
          "base_uri": "https://localhost:8080/",
          "height": 171
        },
        "outputId": "f73f28d1-1644-440a-b68f-7205ee6080fd"
      },
      "source": [
        "learn.fit_one_cycle(4, slice(2e-3/100, 2e-3))"
      ],
      "execution_count": 34,
      "outputs": [
        {
          "output_type": "display_data",
          "data": {
            "text/html": [
              "<table border=\"1\" class=\"dataframe\">\n",
              "  <thead>\n",
              "    <tr style=\"text-align: left;\">\n",
              "      <th>epoch</th>\n",
              "      <th>train_loss</th>\n",
              "      <th>valid_loss</th>\n",
              "      <th>accuracy</th>\n",
              "      <th>time</th>\n",
              "    </tr>\n",
              "  </thead>\n",
              "  <tbody>\n",
              "    <tr>\n",
              "      <td>0</td>\n",
              "      <td>3.402876</td>\n",
              "      <td>3.976985</td>\n",
              "      <td>0.226087</td>\n",
              "      <td>01:13</td>\n",
              "    </tr>\n",
              "    <tr>\n",
              "      <td>1</td>\n",
              "      <td>3.380703</td>\n",
              "      <td>3.971203</td>\n",
              "      <td>0.269565</td>\n",
              "      <td>01:16</td>\n",
              "    </tr>\n",
              "    <tr>\n",
              "      <td>2</td>\n",
              "      <td>3.269911</td>\n",
              "      <td>3.992364</td>\n",
              "      <td>0.260870</td>\n",
              "      <td>01:13</td>\n",
              "    </tr>\n",
              "    <tr>\n",
              "      <td>3</td>\n",
              "      <td>3.109206</td>\n",
              "      <td>3.968719</td>\n",
              "      <td>0.252174</td>\n",
              "      <td>01:16</td>\n",
              "    </tr>\n",
              "  </tbody>\n",
              "</table>"
            ],
            "text/plain": [
              "<IPython.core.display.HTML object>"
            ]
          },
          "metadata": {
            "tags": []
          }
        }
      ]
    },
    {
      "cell_type": "code",
      "metadata": {
        "id": "atNWNKDFPbuI",
        "colab_type": "code",
        "colab": {
          "base_uri": "https://localhost:8080/",
          "height": 171
        },
        "outputId": "6ba01386-b262-4eb6-dc7d-6a488bbda4f7"
      },
      "source": [
        "learn.fit_one_cycle(4, slice(2e-3/100, 2e-3))"
      ],
      "execution_count": 35,
      "outputs": [
        {
          "output_type": "display_data",
          "data": {
            "text/html": [
              "<table border=\"1\" class=\"dataframe\">\n",
              "  <thead>\n",
              "    <tr style=\"text-align: left;\">\n",
              "      <th>epoch</th>\n",
              "      <th>train_loss</th>\n",
              "      <th>valid_loss</th>\n",
              "      <th>accuracy</th>\n",
              "      <th>time</th>\n",
              "    </tr>\n",
              "  </thead>\n",
              "  <tbody>\n",
              "    <tr>\n",
              "      <td>0</td>\n",
              "      <td>2.992323</td>\n",
              "      <td>4.040820</td>\n",
              "      <td>0.243478</td>\n",
              "      <td>01:08</td>\n",
              "    </tr>\n",
              "    <tr>\n",
              "      <td>1</td>\n",
              "      <td>2.978696</td>\n",
              "      <td>3.995858</td>\n",
              "      <td>0.252174</td>\n",
              "      <td>01:14</td>\n",
              "    </tr>\n",
              "    <tr>\n",
              "      <td>2</td>\n",
              "      <td>2.875565</td>\n",
              "      <td>4.038318</td>\n",
              "      <td>0.226087</td>\n",
              "      <td>01:08</td>\n",
              "    </tr>\n",
              "    <tr>\n",
              "      <td>3</td>\n",
              "      <td>2.735465</td>\n",
              "      <td>3.997201</td>\n",
              "      <td>0.252174</td>\n",
              "      <td>01:16</td>\n",
              "    </tr>\n",
              "  </tbody>\n",
              "</table>"
            ],
            "text/plain": [
              "<IPython.core.display.HTML object>"
            ]
          },
          "metadata": {
            "tags": []
          }
        }
      ]
    },
    {
      "cell_type": "code",
      "metadata": {
        "id": "rKrBTZ0T1uVA",
        "colab_type": "code",
        "colab": {
          "base_uri": "https://localhost:8080/",
          "height": 171
        },
        "outputId": "e3c9c4fa-4b09-4223-c690-02ab09effd9f"
      },
      "source": [
        "learn.fit_one_cycle(4, slice(2e-3/100, 2e-3))"
      ],
      "execution_count": 36,
      "outputs": [
        {
          "output_type": "display_data",
          "data": {
            "text/html": [
              "<table border=\"1\" class=\"dataframe\">\n",
              "  <thead>\n",
              "    <tr style=\"text-align: left;\">\n",
              "      <th>epoch</th>\n",
              "      <th>train_loss</th>\n",
              "      <th>valid_loss</th>\n",
              "      <th>accuracy</th>\n",
              "      <th>time</th>\n",
              "    </tr>\n",
              "  </thead>\n",
              "  <tbody>\n",
              "    <tr>\n",
              "      <td>0</td>\n",
              "      <td>2.673499</td>\n",
              "      <td>4.040631</td>\n",
              "      <td>0.260870</td>\n",
              "      <td>01:08</td>\n",
              "    </tr>\n",
              "    <tr>\n",
              "      <td>1</td>\n",
              "      <td>2.641129</td>\n",
              "      <td>3.975659</td>\n",
              "      <td>0.278261</td>\n",
              "      <td>01:07</td>\n",
              "    </tr>\n",
              "    <tr>\n",
              "      <td>2</td>\n",
              "      <td>2.546743</td>\n",
              "      <td>4.105155</td>\n",
              "      <td>0.234783</td>\n",
              "      <td>01:10</td>\n",
              "    </tr>\n",
              "    <tr>\n",
              "      <td>3</td>\n",
              "      <td>2.432338</td>\n",
              "      <td>4.096651</td>\n",
              "      <td>0.243478</td>\n",
              "      <td>01:16</td>\n",
              "    </tr>\n",
              "  </tbody>\n",
              "</table>"
            ],
            "text/plain": [
              "<IPython.core.display.HTML object>"
            ]
          },
          "metadata": {
            "tags": []
          }
        }
      ]
    },
    {
      "cell_type": "code",
      "metadata": {
        "id": "ajQC6WDg1yA9",
        "colab_type": "code",
        "colab": {
          "base_uri": "https://localhost:8080/",
          "height": 171
        },
        "outputId": "d3ac734e-15a2-4c8b-ce9e-57b760f2eafa"
      },
      "source": [
        "learn.fit_one_cycle(4, slice(2e-3/100, 2e-3))"
      ],
      "execution_count": 37,
      "outputs": [
        {
          "output_type": "display_data",
          "data": {
            "text/html": [
              "<table border=\"1\" class=\"dataframe\">\n",
              "  <thead>\n",
              "    <tr style=\"text-align: left;\">\n",
              "      <th>epoch</th>\n",
              "      <th>train_loss</th>\n",
              "      <th>valid_loss</th>\n",
              "      <th>accuracy</th>\n",
              "      <th>time</th>\n",
              "    </tr>\n",
              "  </thead>\n",
              "  <tbody>\n",
              "    <tr>\n",
              "      <td>0</td>\n",
              "      <td>2.324338</td>\n",
              "      <td>4.066578</td>\n",
              "      <td>0.243478</td>\n",
              "      <td>01:12</td>\n",
              "    </tr>\n",
              "    <tr>\n",
              "      <td>1</td>\n",
              "      <td>2.349482</td>\n",
              "      <td>4.251363</td>\n",
              "      <td>0.234783</td>\n",
              "      <td>01:09</td>\n",
              "    </tr>\n",
              "    <tr>\n",
              "      <td>2</td>\n",
              "      <td>2.262222</td>\n",
              "      <td>4.152483</td>\n",
              "      <td>0.252174</td>\n",
              "      <td>01:08</td>\n",
              "    </tr>\n",
              "    <tr>\n",
              "      <td>3</td>\n",
              "      <td>2.193993</td>\n",
              "      <td>4.156018</td>\n",
              "      <td>0.243478</td>\n",
              "      <td>01:12</td>\n",
              "    </tr>\n",
              "  </tbody>\n",
              "</table>"
            ],
            "text/plain": [
              "<IPython.core.display.HTML object>"
            ]
          },
          "metadata": {
            "tags": []
          }
        }
      ]
    },
    {
      "cell_type": "code",
      "metadata": {
        "id": "KKydb0B4BKGk",
        "colab_type": "code",
        "colab": {
          "base_uri": "https://localhost:8080/",
          "height": 171
        },
        "outputId": "50fb2b36-1bc6-4001-ebd7-4cf8cd813b9d"
      },
      "source": [
        "learn.fit_one_cycle(4, slice(2e-3/100, 2e-3))"
      ],
      "execution_count": 38,
      "outputs": [
        {
          "output_type": "display_data",
          "data": {
            "text/html": [
              "<table border=\"1\" class=\"dataframe\">\n",
              "  <thead>\n",
              "    <tr style=\"text-align: left;\">\n",
              "      <th>epoch</th>\n",
              "      <th>train_loss</th>\n",
              "      <th>valid_loss</th>\n",
              "      <th>accuracy</th>\n",
              "      <th>time</th>\n",
              "    </tr>\n",
              "  </thead>\n",
              "  <tbody>\n",
              "    <tr>\n",
              "      <td>0</td>\n",
              "      <td>2.067733</td>\n",
              "      <td>4.210488</td>\n",
              "      <td>0.234783</td>\n",
              "      <td>01:10</td>\n",
              "    </tr>\n",
              "    <tr>\n",
              "      <td>1</td>\n",
              "      <td>2.144289</td>\n",
              "      <td>4.252471</td>\n",
              "      <td>0.217391</td>\n",
              "      <td>01:08</td>\n",
              "    </tr>\n",
              "    <tr>\n",
              "      <td>2</td>\n",
              "      <td>2.077966</td>\n",
              "      <td>4.240694</td>\n",
              "      <td>0.260870</td>\n",
              "      <td>01:12</td>\n",
              "    </tr>\n",
              "    <tr>\n",
              "      <td>3</td>\n",
              "      <td>2.032453</td>\n",
              "      <td>4.243966</td>\n",
              "      <td>0.243478</td>\n",
              "      <td>01:12</td>\n",
              "    </tr>\n",
              "  </tbody>\n",
              "</table>"
            ],
            "text/plain": [
              "<IPython.core.display.HTML object>"
            ]
          },
          "metadata": {
            "tags": []
          }
        }
      ]
    },
    {
      "cell_type": "code",
      "metadata": {
        "id": "T2APKtFKBpGY",
        "colab_type": "code",
        "colab": {
          "base_uri": "https://localhost:8080/",
          "height": 171
        },
        "outputId": "932810d3-088e-47f8-dd61-bdd14436fa21"
      },
      "source": [
        "learn.fit_one_cycle(4, slice(2e-3/100, 2e-3))"
      ],
      "execution_count": 39,
      "outputs": [
        {
          "output_type": "display_data",
          "data": {
            "text/html": [
              "<table border=\"1\" class=\"dataframe\">\n",
              "  <thead>\n",
              "    <tr style=\"text-align: left;\">\n",
              "      <th>epoch</th>\n",
              "      <th>train_loss</th>\n",
              "      <th>valid_loss</th>\n",
              "      <th>accuracy</th>\n",
              "      <th>time</th>\n",
              "    </tr>\n",
              "  </thead>\n",
              "  <tbody>\n",
              "    <tr>\n",
              "      <td>0</td>\n",
              "      <td>1.965406</td>\n",
              "      <td>4.300362</td>\n",
              "      <td>0.243478</td>\n",
              "      <td>01:09</td>\n",
              "    </tr>\n",
              "    <tr>\n",
              "      <td>1</td>\n",
              "      <td>1.981932</td>\n",
              "      <td>4.287547</td>\n",
              "      <td>0.252174</td>\n",
              "      <td>01:09</td>\n",
              "    </tr>\n",
              "    <tr>\n",
              "      <td>2</td>\n",
              "      <td>1.957555</td>\n",
              "      <td>4.417692</td>\n",
              "      <td>0.252174</td>\n",
              "      <td>01:07</td>\n",
              "    </tr>\n",
              "    <tr>\n",
              "      <td>3</td>\n",
              "      <td>1.946593</td>\n",
              "      <td>4.466269</td>\n",
              "      <td>0.252174</td>\n",
              "      <td>01:14</td>\n",
              "    </tr>\n",
              "  </tbody>\n",
              "</table>"
            ],
            "text/plain": [
              "<IPython.core.display.HTML object>"
            ]
          },
          "metadata": {
            "tags": []
          }
        }
      ]
    },
    {
      "cell_type": "code",
      "metadata": {
        "id": "qtTypA1sPgLU",
        "colab_type": "code",
        "colab": {
          "base_uri": "https://localhost:8080/",
          "height": 110
        },
        "outputId": "d8a6fb5a-dc52-444f-9b89-766b575bc58f"
      },
      "source": [
        "learn.fit_one_cycle(2, slice(2e-3/100, 2e-3))"
      ],
      "execution_count": 40,
      "outputs": [
        {
          "output_type": "display_data",
          "data": {
            "text/html": [
              "<table border=\"1\" class=\"dataframe\">\n",
              "  <thead>\n",
              "    <tr style=\"text-align: left;\">\n",
              "      <th>epoch</th>\n",
              "      <th>train_loss</th>\n",
              "      <th>valid_loss</th>\n",
              "      <th>accuracy</th>\n",
              "      <th>time</th>\n",
              "    </tr>\n",
              "  </thead>\n",
              "  <tbody>\n",
              "    <tr>\n",
              "      <td>0</td>\n",
              "      <td>1.894584</td>\n",
              "      <td>4.421979</td>\n",
              "      <td>0.252174</td>\n",
              "      <td>01:08</td>\n",
              "    </tr>\n",
              "    <tr>\n",
              "      <td>1</td>\n",
              "      <td>1.938802</td>\n",
              "      <td>4.507623</td>\n",
              "      <td>0.243478</td>\n",
              "      <td>01:10</td>\n",
              "    </tr>\n",
              "  </tbody>\n",
              "</table>"
            ],
            "text/plain": [
              "<IPython.core.display.HTML object>"
            ]
          },
          "metadata": {
            "tags": []
          }
        }
      ]
    },
    {
      "cell_type": "code",
      "metadata": {
        "id": "b242kBsTUp9Y",
        "colab_type": "code",
        "colab": {
          "base_uri": "https://localhost:8080/",
          "height": 110
        },
        "outputId": "bd80d8a4-efa1-4668-85f3-7de0f1c871b8"
      },
      "source": [
        "learn.fit_one_cycle(2, slice(2e-3/100, 2e-3))"
      ],
      "execution_count": 41,
      "outputs": [
        {
          "output_type": "display_data",
          "data": {
            "text/html": [
              "<table border=\"1\" class=\"dataframe\">\n",
              "  <thead>\n",
              "    <tr style=\"text-align: left;\">\n",
              "      <th>epoch</th>\n",
              "      <th>train_loss</th>\n",
              "      <th>valid_loss</th>\n",
              "      <th>accuracy</th>\n",
              "      <th>time</th>\n",
              "    </tr>\n",
              "  </thead>\n",
              "  <tbody>\n",
              "    <tr>\n",
              "      <td>0</td>\n",
              "      <td>1.785965</td>\n",
              "      <td>4.492857</td>\n",
              "      <td>0.234783</td>\n",
              "      <td>01:15</td>\n",
              "    </tr>\n",
              "    <tr>\n",
              "      <td>1</td>\n",
              "      <td>1.835816</td>\n",
              "      <td>4.454985</td>\n",
              "      <td>0.234783</td>\n",
              "      <td>01:11</td>\n",
              "    </tr>\n",
              "  </tbody>\n",
              "</table>"
            ],
            "text/plain": [
              "<IPython.core.display.HTML object>"
            ]
          },
          "metadata": {
            "tags": []
          }
        }
      ]
    },
    {
      "cell_type": "code",
      "metadata": {
        "id": "Duwf1Ih5VeDZ",
        "colab_type": "code",
        "colab": {
          "base_uri": "https://localhost:8080/",
          "height": 79
        },
        "outputId": "1e700220-eddc-4f87-b154-539f9b350d67"
      },
      "source": [
        "learn.fit_one_cycle(1, slice(2e-3/100, 2e-3))"
      ],
      "execution_count": 42,
      "outputs": [
        {
          "output_type": "display_data",
          "data": {
            "text/html": [
              "<table border=\"1\" class=\"dataframe\">\n",
              "  <thead>\n",
              "    <tr style=\"text-align: left;\">\n",
              "      <th>epoch</th>\n",
              "      <th>train_loss</th>\n",
              "      <th>valid_loss</th>\n",
              "      <th>accuracy</th>\n",
              "      <th>time</th>\n",
              "    </tr>\n",
              "  </thead>\n",
              "  <tbody>\n",
              "    <tr>\n",
              "      <td>0</td>\n",
              "      <td>1.931826</td>\n",
              "      <td>4.515704</td>\n",
              "      <td>0.243478</td>\n",
              "      <td>01:10</td>\n",
              "    </tr>\n",
              "  </tbody>\n",
              "</table>"
            ],
            "text/plain": [
              "<IPython.core.display.HTML object>"
            ]
          },
          "metadata": {
            "tags": []
          }
        }
      ]
    },
    {
      "cell_type": "code",
      "metadata": {
        "id": "c65d-osfDUXm",
        "colab_type": "code",
        "colab": {}
      },
      "source": [
        "# save the best model\n",
        "\n",
        "learn.save_encoder('tuning_pubmed_bigtweet_overlap_0_last')"
      ],
      "execution_count": 0,
      "outputs": []
    },
    {
      "cell_type": "markdown",
      "metadata": {
        "id": "rCwZU0E2RgM6",
        "colab_type": "text"
      },
      "source": [
        "# Part three: Predict on the test dataset"
      ]
    },
    {
      "cell_type": "code",
      "metadata": {
        "id": "gDm72c-dOu7d",
        "colab_type": "code",
        "colab": {
          "base_uri": "https://localhost:8080/",
          "height": 17
        },
        "outputId": "e48d813d-2aba-4cd7-9484-042856cf54c0"
      },
      "source": [
        "# use the test data for prediction\n",
        "\n",
        "preds, y = learn.get_preds(DatasetType.Test)"
      ],
      "execution_count": 44,
      "outputs": [
        {
          "output_type": "display_data",
          "data": {
            "text/html": [
              ""
            ],
            "text/plain": [
              "<IPython.core.display.HTML object>"
            ]
          },
          "metadata": {
            "tags": []
          }
        }
      ]
    },
    {
      "cell_type": "code",
      "metadata": {
        "id": "6tFSQcsWPvxn",
        "colab_type": "code",
        "colab": {
          "base_uri": "https://localhost:8080/",
          "height": 107
        },
        "outputId": "4e7cf98c-4ed6-468d-aa8f-173fe01000e6"
      },
      "source": [
        "predictions, *_ = learn.get_preds(DatasetType.Test)\n",
        "labels = np.argmax(predictions, 1)\n",
        "predict_list = labels.tolist()\n",
        "standard_list = test[0].tolist()\n",
        "\n",
        "print(len(predict_list))\n",
        "print(len(standard_list))\n",
        "\n",
        "print(predict_list)\n",
        "print(standard_list)"
      ],
      "execution_count": 45,
      "outputs": [
        {
          "output_type": "display_data",
          "data": {
            "text/html": [
              ""
            ],
            "text/plain": [
              "<IPython.core.display.HTML object>"
            ]
          },
          "metadata": {
            "tags": []
          }
        },
        {
          "output_type": "stream",
          "text": [
            "144\n",
            "144\n",
            "[2099, 2099, 1308, 1247, 2099, 359, 700, 2088, 1576, 1411, 1948, 700, 854, 1045, 860, 1534, 854, 711, 965, 1072, 135, 803, 700, 700, 1802, 621, 1702, 700, 476, 244, 491, 2099, 135, 1576, 12, 1698, 700, 700, 833, 1576, 2099, 1822, 1932, 803, 106, 1935, 1307, 621, 1811, 2099, 1576, 574, 700, 244, 135, 1546, 1583, 141, 1932, 378, 92, 2165, 1932, 135, 700, 700, 700, 309, 747, 860, 1811, 1811, 909, 1932, 1546, 700, 700, 2099, 978, 574, 724, 1038, 620, 2218, 909, 700, 135, 1698, 1307, 1045, 230, 1811, 92, 700, 621, 2097, 1546, 798, 1478, 700, 1323, 700, 283, 860, 2099, 1811, 1478, 854, 2218, 1576, 1411, 476, 1576, 700, 1411, 2099, 700, 747, 574, 476, 1811, 1698, 2145, 106, 1677, 1576, 1956, 1307, 1534, 814, 170, 700, 574, 909, 700, 1246, 2097, 2099, 700, 700, 1308, 621, 1773, 170]\n",
            "[1576, 2099, 1698, 1811, 476, 840, 440, 2099, 171, 309, 703, 135, 375, 1326, 860, 574, 2003, 210, 1408, 237, 106, 1576, 700, 1095, 1194, 1307, 239, 935, 833, 1076, 1935, 1008, 2176, 1576, 2088, 1407, 1411, 505, 1811, 1576, 803, 605, 1652, 931, 92, 974, 2088, 1075, 491, 1932, 1075, 574, 1220, 1032, 2048, 2088, 1583, 1043, 2188, 1095, 872, 854, 1307, 1950, 170, 700, 1698, 170, 451, 860, 1076, 2099, 309, 872, 210, 700, 237, 2003, 1077, 1299, 99, 1038, 106, 2218, 1698, 1666, 135, 1698, 171, 1534, 1811, 699, 854, 171, 621, 794, 941, 89, 965, 472, 1935, 574, 336, 1348, 803, 1403, 2027, 1811, 1752, 1025, 1411, 2099, 1932, 989, 2046, 2099, 724, 1308, 1106, 621, 1811, 699, 1307, 574, 268, 959, 2099, 1308, 1542, 860, 2201, 1308, 574, 309, 1472, 384, 384, 854, 833, 79, 467, 2165, 1049, 956]\n"
          ],
          "name": "stdout"
        }
      ]
    },
    {
      "cell_type": "code",
      "metadata": {
        "id": "XIC4zufnMxtq",
        "colab_type": "code",
        "colab": {
          "base_uri": "https://localhost:8080/",
          "height": 52
        },
        "outputId": "879a7f58-f51b-4681-edc6-d1510e5dc9aa"
      },
      "source": [
        "correct_num = 0\n",
        "\n",
        "for i in range(0, len(standard_list)):\n",
        "  if predict_list[i] == standard_list[i]:\n",
        "    correct_num = correct_num+1\n",
        "  else:\n",
        "    pass\n",
        "print(correct_num)\n",
        "\n",
        "predict_accuracy = correct_num/len(predict_list)\n",
        "print(predict_accuracy)"
      ],
      "execution_count": 46,
      "outputs": [
        {
          "output_type": "stream",
          "text": [
            "19\n",
            "0.13194444444444445\n"
          ],
          "name": "stdout"
        }
      ]
    }
  ]
}