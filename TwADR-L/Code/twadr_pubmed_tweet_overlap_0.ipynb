{
  "nbformat": 4,
  "nbformat_minor": 0,
  "metadata": {
    "colab": {
      "name": "twadr_pubmed_tweet_overlap_0.ipynb",
      "provenance": [],
      "collapsed_sections": [],
      "toc_visible": true,
      "include_colab_link": true
    },
    "kernelspec": {
      "name": "python3",
      "display_name": "Python 3"
    },
    "accelerator": "TPU"
  },
  "cells": [
    {
      "cell_type": "markdown",
      "metadata": {
        "id": "view-in-github",
        "colab_type": "text"
      },
      "source": [
        "<a href=\"https://colab.research.google.com/github/unt-iialab/medical-concept-normalization/blob/master/TwADR-L/Code/twadr_pubmed_tweet_overlap_0.ipynb\" target=\"_parent\"><img src=\"https://colab.research.google.com/assets/colab-badge.svg\" alt=\"Open In Colab\"/></a>"
      ]
    },
    {
      "cell_type": "code",
      "metadata": {
        "id": "adSi6i2-dWxy",
        "colab_type": "code",
        "colab": {}
      },
      "source": [
        "import os"
      ],
      "execution_count": 0,
      "outputs": []
    },
    {
      "cell_type": "code",
      "metadata": {
        "id": "E7xYCRGPjd9B",
        "colab_type": "code",
        "colab": {}
      },
      "source": [
        "base_dir = 'medical-concept-normalization'"
      ],
      "execution_count": 0,
      "outputs": []
    },
    {
      "cell_type": "code",
      "metadata": {
        "id": "yvIW3aUDjYNS",
        "colab_type": "code",
        "colab": {}
      },
      "source": [
        "if os.path.exists('medical-concept-normalization'):\n",
        "  print('folder exist')\n",
        "else:\n",
        "  os.mkdir(base_dir)"
      ],
      "execution_count": 0,
      "outputs": []
    },
    {
      "cell_type": "code",
      "metadata": {
        "id": "es-FFLlfk6SG",
        "colab_type": "code",
        "colab": {}
      },
      "source": [
        "if os.path.exists('medical-concept-normalization/data_collection'):\n",
        "  print('folder exist')\n",
        "else:\n",
        "  os.mkdir('medical-concept-normalization/data_collection')"
      ],
      "execution_count": 0,
      "outputs": []
    },
    {
      "cell_type": "markdown",
      "metadata": {
        "id": "0R-Guw_VoJXm",
        "colab_type": "text"
      },
      "source": [
        "**Install fastai and clone the fastai for text classification**\n",
        "\n"
      ]
    },
    {
      "cell_type": "code",
      "metadata": {
        "id": "QVZa3Z0PmHFH",
        "colab_type": "code",
        "outputId": "e999a76e-d528-40f1-8b68-1fd5e19278ca",
        "colab": {
          "base_uri": "https://localhost:8080/",
          "height": 89
        }
      },
      "source": [
        "!curl https://course-v3.fast.ai/setup/colab | bash"
      ],
      "execution_count": 5,
      "outputs": [
        {
          "output_type": "stream",
          "text": [
            "  % Total    % Received % Xferd  Average Speed   Time    Time     Time  Current\n",
            "                                 Dload  Upload   Total   Spent    Left  Speed\n",
            "\r  0     0    0     0    0     0      0      0 --:--:-- --:--:-- --:--:--     0curl: (6) Could not resolve host: course-v3.fast.ai\n"
          ],
          "name": "stdout"
        }
      ]
    },
    {
      "cell_type": "code",
      "metadata": {
        "id": "_FBFFEBrmJC0",
        "colab_type": "code",
        "outputId": "4a265e32-d2c2-4f21-8bd8-396f93e04e29",
        "colab": {
          "base_uri": "https://localhost:8080/",
          "height": 87
        }
      },
      "source": [
        "!git clone https://github.com/wshuyi/demo-nlp-classification-fastai.git"
      ],
      "execution_count": 6,
      "outputs": [
        {
          "output_type": "stream",
          "text": [
            "Cloning into 'demo-nlp-classification-fastai'...\n",
            "remote: Enumerating objects: 9, done.\u001b[K\n",
            "remote: Total 9 (delta 0), reused 0 (delta 0), pack-reused 9\u001b[K\n",
            "Unpacking objects: 100% (9/9), done.\n"
          ],
          "name": "stdout"
        }
      ]
    },
    {
      "cell_type": "code",
      "metadata": {
        "id": "66zfh_JqmWMU",
        "colab_type": "code",
        "colab": {}
      },
      "source": [
        "from fastai import *\n",
        "from fastai.text import *"
      ],
      "execution_count": 0,
      "outputs": []
    },
    {
      "cell_type": "markdown",
      "metadata": {
        "id": "mNIw-yALdBU9",
        "colab_type": "text"
      },
      "source": [
        "**Set the path of the data collections**"
      ]
    },
    {
      "cell_type": "code",
      "metadata": {
        "id": "pzH7VMh4mqCL",
        "colab_type": "code",
        "colab": {}
      },
      "source": [
        "path = Path('medical-concept-normalization/data_collection')"
      ],
      "execution_count": 0,
      "outputs": []
    },
    {
      "cell_type": "code",
      "metadata": {
        "id": "r8cdqCa-Oeog",
        "colab_type": "code",
        "colab": {}
      },
      "source": [
        "# datasets\n",
        "\n",
        "train_csv = 'https://raw.githubusercontent.com/unt-iialab/medical-concept-normalization/master/TwADR-L/Experiment%20(Change%20test%20dataset)/Training%20set/tward_training_folder_0.csv'\n",
        "valid_csv = 'https://raw.githubusercontent.com/unt-iialab/medical-concept-normalization/master/TwADR-L/Experiment%20(Change%20test%20dataset)/Validation%20set/tward_validation_folder_0.csv'\n",
        "test_csv = 'https://raw.githubusercontent.com/unt-iialab/medical-concept-normalization/master/TwADR-L/Experiment%20(Change%20test%20dataset)/Testing%20set/tward_testing_overlap_0.csv'\n",
        "fine_tuning_data = 'fine_tuning_language_model_pubmed_bigtweet_mixed.csv'"
      ],
      "execution_count": 0,
      "outputs": []
    },
    {
      "cell_type": "code",
      "metadata": {
        "id": "b8fjI6yyn4aS",
        "colab_type": "code",
        "outputId": "44965497-9405-47bc-990a-27989e46caf6",
        "colab": {
          "base_uri": "https://localhost:8080/",
          "height": 121
        }
      },
      "source": [
        "# training data set\n",
        "train = pd.read_csv(train_csv, header=None)\n",
        "print(train.head())\n",
        "\n",
        "# validating data set\n",
        "valid = pd.read_csv(valid_csv,header=None)\n",
        "# valid.head()\n",
        "\n",
        "# testing data set\n",
        "test = pd.read_csv(test_csv,header=None)\n",
        "# test.head()"
      ],
      "execution_count": 10,
      "outputs": [
        {
          "output_type": "stream",
          "text": [
            "      0                      1\n",
            "0  1945    Adrenergic syndrome\n",
            "1  1586  Hearing Loss, Partial\n",
            "2   580          Typhoid Fever\n",
            "3   784      Carcinoma of lung\n",
            "4   660              Pregnancy\n"
          ],
          "name": "stdout"
        }
      ]
    },
    {
      "cell_type": "code",
      "metadata": {
        "id": "Vo-YNvVYoaH6",
        "colab_type": "code",
        "outputId": "90884194-4a36-492c-d29d-d07537a1f344",
        "colab": {
          "base_uri": "https://localhost:8080/",
          "height": 17
        }
      },
      "source": [
        "# Creating DataBunch for language modelling\n",
        "data_lm = TextLMDataBunch.from_csv(path, fine_tuning_data)"
      ],
      "execution_count": 12,
      "outputs": [
        {
          "output_type": "display_data",
          "data": {
            "text/html": [
              ""
            ],
            "text/plain": [
              "<IPython.core.display.HTML object>"
            ]
          },
          "metadata": {
            "tags": []
          }
        },
        {
          "output_type": "display_data",
          "data": {
            "text/html": [
              ""
            ],
            "text/plain": [
              "<IPython.core.display.HTML object>"
            ]
          },
          "metadata": {
            "tags": []
          }
        }
      ]
    },
    {
      "cell_type": "code",
      "metadata": {
        "id": "1ScY9afDsnvE",
        "colab_type": "code",
        "colab": {}
      },
      "source": [
        "# Creating DataBunch for classification\n",
        "\n",
        "# data_clas = TextClasDataBunch.from_df(path, train, valid, test, vocab=data_lm.train_ds.vocab, bs=128)"
      ],
      "execution_count": 0,
      "outputs": []
    },
    {
      "cell_type": "code",
      "metadata": {
        "id": "gzrSdQcvey9p",
        "colab_type": "code",
        "outputId": "804df751-c9a3-4fce-a1ee-567e2428ce05",
        "colab": {
          "base_uri": "https://localhost:8080/",
          "height": 17
        }
      },
      "source": [
        "data_clas = TextClasDataBunch.from_df(path, train, valid, vocab=data_lm.train_ds.vocab, bs=128)"
      ],
      "execution_count": 14,
      "outputs": [
        {
          "output_type": "display_data",
          "data": {
            "text/html": [
              ""
            ],
            "text/plain": [
              "<IPython.core.display.HTML object>"
            ]
          },
          "metadata": {
            "tags": []
          }
        },
        {
          "output_type": "display_data",
          "data": {
            "text/html": [
              ""
            ],
            "text/plain": [
              "<IPython.core.display.HTML object>"
            ]
          },
          "metadata": {
            "tags": []
          }
        }
      ]
    },
    {
      "cell_type": "code",
      "metadata": {
        "id": "MD27Tf0Ke3ou",
        "colab_type": "code",
        "outputId": "bd512b5c-648a-4fe4-db5f-ccb5b5632cad",
        "colab": {
          "base_uri": "https://localhost:8080/",
          "height": 17
        }
      },
      "source": [
        "data_clas.add_test(test,label=0)"
      ],
      "execution_count": 15,
      "outputs": [
        {
          "output_type": "display_data",
          "data": {
            "text/html": [
              ""
            ],
            "text/plain": [
              "<IPython.core.display.HTML object>"
            ]
          },
          "metadata": {
            "tags": []
          }
        }
      ]
    },
    {
      "cell_type": "code",
      "metadata": {
        "id": "-dpjnk_rstwk",
        "colab_type": "code",
        "colab": {}
      },
      "source": [
        "data_lm.save()\n",
        "data_clas.save()"
      ],
      "execution_count": 0,
      "outputs": []
    },
    {
      "cell_type": "code",
      "metadata": {
        "id": "4OkiJa36sw5s",
        "colab_type": "code",
        "outputId": "3e3dfc73-c971-4af8-b883-2201215f3f2d",
        "colab": {
          "base_uri": "https://localhost:8080/",
          "height": 1000
        }
      },
      "source": [
        "data_lm.train_ds.vocab.itos"
      ],
      "execution_count": 17,
      "outputs": [
        {
          "output_type": "execute_result",
          "data": {
            "text/plain": [
              "['xxunk',\n",
              " 'xxpad',\n",
              " 'xxbos',\n",
              " 'xxeos',\n",
              " 'xxfld',\n",
              " 'xxmaj',\n",
              " 'xxup',\n",
              " 'xxrep',\n",
              " 'xxwrep',\n",
              " 'the',\n",
              " 'of',\n",
              " 'and',\n",
              " 'in',\n",
              " 'to',\n",
              " 'a',\n",
              " 'for',\n",
              " 'with',\n",
              " 'was',\n",
              " 'diclofenac',\n",
              " 'were',\n",
              " 'on',\n",
              " 'is',\n",
              " 'rt',\n",
              " 'sodium',\n",
              " 'by',\n",
              " 'that',\n",
              " 'as',\n",
              " 'at',\n",
              " 'patients',\n",
              " 'or',\n",
              " 'this',\n",
              " 'from',\n",
              " 'drug',\n",
              " 'you',\n",
              " 'i',\n",
              " 'be',\n",
              " 'group',\n",
              " 'mg',\n",
              " 'disease',\n",
              " 'study',\n",
              " 'are',\n",
              " 'treatment',\n",
              " 'pain',\n",
              " 'after',\n",
              " 'an',\n",
              " 'not',\n",
              " 'amp',\n",
              " 'it',\n",
              " 'have',\n",
              " 'release',\n",
              " 'p',\n",
              " 'gluten',\n",
              " 'free',\n",
              " 'we',\n",
              " 'than',\n",
              " 'all',\n",
              " 'effect',\n",
              " 'no',\n",
              " 'new',\n",
              " 'compared',\n",
              " 'more',\n",
              " 'effects',\n",
              " 'groups',\n",
              " 'your',\n",
              " 'using',\n",
              " 'both',\n",
              " 'our',\n",
              " 'two',\n",
              " 'h',\n",
              " 'significantly',\n",
              " 'inflammatory',\n",
              " 'its',\n",
              " 'between',\n",
              " 'out',\n",
              " 'time',\n",
              " 'my',\n",
              " 'about',\n",
              " 'day',\n",
              " 'these',\n",
              " 'use',\n",
              " 'drugs',\n",
              " 'significant',\n",
              " 'but',\n",
              " 'anti',\n",
              " 'can',\n",
              " 'used',\n",
              " 'which',\n",
              " 'has',\n",
              " 'voltaren',\n",
              " 'dose',\n",
              " 'results',\n",
              " 'placebo',\n",
              " 'potassium',\n",
              " 'one',\n",
              " 'also',\n",
              " 's',\n",
              " 'what',\n",
              " 'do',\n",
              " 'glutenfree',\n",
              " 'nt',\n",
              " 'there',\n",
              " 'efficacy',\n",
              " 'celiac',\n",
              " 'may',\n",
              " 'm',\n",
              " 'ds',\n",
              " 'ml',\n",
              " 'treated',\n",
              " 'days',\n",
              " 'now',\n",
              " 'w',\n",
              " 'when',\n",
              " 'showed',\n",
              " 'topical',\n",
              " 'had',\n",
              " 'been',\n",
              " 'products',\n",
              " 'administration',\n",
              " 'different',\n",
              " 'oral',\n",
              " 'studies',\n",
              " 'up',\n",
              " 'concentration',\n",
              " 'via',\n",
              " 'c',\n",
              " 'respectively',\n",
              " 'rats',\n",
              " 'well',\n",
              " 'control',\n",
              " 'test',\n",
              " 'their',\n",
              " 'found',\n",
              " 'food',\n",
              " 'during',\n",
              " 'into',\n",
              " 'who',\n",
              " 'other',\n",
              " 'how',\n",
              " 'right',\n",
              " 'clinical',\n",
              " 'could',\n",
              " 'rate',\n",
              " 'non',\n",
              " 'did',\n",
              " 'nsaids',\n",
              " 'if',\n",
              " 'acid',\n",
              " 'formulation',\n",
              " 'first',\n",
              " 'induced',\n",
              " 'mean',\n",
              " 'hours',\n",
              " 'effective',\n",
              " 'high',\n",
              " 'diet',\n",
              " 'formulations',\n",
              " 'observed',\n",
              " 'plasma',\n",
              " 'method',\n",
              " 'ph',\n",
              " 'd',\n",
              " 'three',\n",
              " 'post',\n",
              " 'tablets',\n",
              " 'over',\n",
              " 'gel',\n",
              " 'those',\n",
              " 'n',\n",
              " 'solution',\n",
              " 'blood',\n",
              " 'review',\n",
              " 'adverse',\n",
              " 'each',\n",
              " 'so',\n",
              " 'g',\n",
              " 'received',\n",
              " 'tip',\n",
              " 'increased',\n",
              " 'analysis',\n",
              " 'vitro',\n",
              " 'controlled',\n",
              " 'kg',\n",
              " 'following',\n",
              " 'acute',\n",
              " 'period',\n",
              " 'only',\n",
              " 'data',\n",
              " 'analgesic',\n",
              " 'levels',\n",
              " 'dblclick',\n",
              " 'evaluated',\n",
              " 'single',\n",
              " 'patient',\n",
              " 'pic',\n",
              " 'concentrations',\n",
              " 'randomized',\n",
              " 'however',\n",
              " 'less',\n",
              " 'skin',\n",
              " 'most',\n",
              " 'model',\n",
              " 'atorvastatin',\n",
              " 'why',\n",
              " 'daily',\n",
              " 'low',\n",
              " 'good',\n",
              " 'surgery',\n",
              " 'some',\n",
              " 'week',\n",
              " 'before',\n",
              " 'weeks',\n",
              " 'symptoms',\n",
              " 'here',\n",
              " 'they',\n",
              " 'activity',\n",
              " 't',\n",
              " 'years',\n",
              " 'total',\n",
              " 'me',\n",
              " 'know',\n",
              " 'higher',\n",
              " 'difference',\n",
              " 'tablet',\n",
              " 'lower',\n",
              " 'nsaid',\n",
              " 'check',\n",
              " 'obtained',\n",
              " 'similar',\n",
              " 'increase',\n",
              " 'under',\n",
              " 'healthy',\n",
              " 'dissolution',\n",
              " 'will',\n",
              " 'relief',\n",
              " 'cells',\n",
              " 'double',\n",
              " 'l',\n",
              " 'therapy',\n",
              " 'renal',\n",
              " 'any',\n",
              " 'should',\n",
              " 'based',\n",
              " 'love',\n",
              " 'postoperative',\n",
              " 'get',\n",
              " 'application',\n",
              " 'doses',\n",
              " 'combination',\n",
              " 'life',\n",
              " 'present',\n",
              " 'studied',\n",
              " 'like',\n",
              " 'b',\n",
              " 'trial',\n",
              " 'order',\n",
              " 'vs',\n",
              " 'administered',\n",
              " 'min',\n",
              " 'water',\n",
              " 'help',\n",
              " 'just',\n",
              " 'better',\n",
              " 'prepared',\n",
              " 'cell',\n",
              " 'values',\n",
              " 'serum',\n",
              " 'response',\n",
              " 'differences',\n",
              " 'reduced',\n",
              " 'while',\n",
              " 'given',\n",
              " 'events',\n",
              " 'thanks',\n",
              " 'nonsteroidal',\n",
              " 'reported',\n",
              " 'changes',\n",
              " 'safety',\n",
              " 'performed',\n",
              " 'associated',\n",
              " 're',\n",
              " 'inflammation',\n",
              " 'great',\n",
              " 'parameters',\n",
              " 'does',\n",
              " 'conditions',\n",
              " 'need',\n",
              " 'absorption',\n",
              " 'decreased',\n",
              " 'four',\n",
              " 'x',\n",
              " 'assessed',\n",
              " 'such',\n",
              " 'side',\n",
              " 'blind',\n",
              " 'subjects',\n",
              " 'investigated',\n",
              " 'within',\n",
              " 'containing',\n",
              " 'due',\n",
              " 'ng',\n",
              " 'risk',\n",
              " 'indomethacin',\n",
              " 'either',\n",
              " 'auc',\n",
              " 'gfb',\n",
              " 'times',\n",
              " 'us',\n",
              " 'system',\n",
              " 'developed',\n",
              " 'reduction',\n",
              " 'number',\n",
              " 'being',\n",
              " 'through',\n",
              " 'v',\n",
              " 'without',\n",
              " 'mm',\n",
              " 'recipe',\n",
              " 'properties',\n",
              " 'included',\n",
              " 'development',\n",
              " 'living',\n",
              " 'function',\n",
              " 'e',\n",
              " 'show',\n",
              " 'vivo',\n",
              " 'type',\n",
              " 'posted',\n",
              " 'phase',\n",
              " 'related',\n",
              " 'measured',\n",
              " 'year',\n",
              " 'ratio',\n",
              " 'gastrointestinal',\n",
              " 'samples',\n",
              " 'oa',\n",
              " 'make',\n",
              " '30',\n",
              " 'therapeutic',\n",
              " 'statistically',\n",
              " 'range',\n",
              " 'people',\n",
              " 'scale',\n",
              " 'determined',\n",
              " 'potential',\n",
              " 'best',\n",
              " 'steroidal',\n",
              " 'available',\n",
              " 'ca',\n",
              " 'read',\n",
              " 'intolerance',\n",
              " 'level',\n",
              " 'injection',\n",
              " 'primary',\n",
              " 'evaluate',\n",
              " 'visual',\n",
              " 'greater',\n",
              " 'compare',\n",
              " 'medication',\n",
              " 'size',\n",
              " 'heres',\n",
              " 'delivery',\n",
              " 'jennieo',\n",
              " 'very',\n",
              " 'many',\n",
              " 'liquid',\n",
              " 'cholesterol',\n",
              " 'form',\n",
              " 'osteoarthritis',\n",
              " 'health',\n",
              " 'applied',\n",
              " 'k',\n",
              " 'eat',\n",
              " 'minutes',\n",
              " 'tissue',\n",
              " 'bioavailability',\n",
              " 'tips',\n",
              " 'coated',\n",
              " 'tolerability',\n",
              " 'sustained',\n",
              " 'lipitor',\n",
              " '\\r \\n ',\n",
              " 'months',\n",
              " 'knee',\n",
              " 'because',\n",
              " 'sensitivity',\n",
              " 'area',\n",
              " 'then',\n",
              " 'baseline',\n",
              " 'archives',\n",
              " 'normal',\n",
              " 'active',\n",
              " 'scores',\n",
              " 'tested',\n",
              " 'human',\n",
              " 'revealed',\n",
              " 'gastric',\n",
              " 'change',\n",
              " 'na',\n",
              " 'demonstrated',\n",
              " 'cox',\n",
              " 'severe',\n",
              " 'weight',\n",
              " 'dependent',\n",
              " 'article',\n",
              " 'treatments',\n",
              " 'chronic',\n",
              " 'addition',\n",
              " 'process',\n",
              " 'trials',\n",
              " 'going',\n",
              " 'arthritis',\n",
              " 'news',\n",
              " 'aqueous',\n",
              " 'per',\n",
              " 'end',\n",
              " 'think',\n",
              " 'swelling',\n",
              " 'polymer',\n",
              " 'diagnosis',\n",
              " 'chicken',\n",
              " 'action',\n",
              " 'made',\n",
              " 'long',\n",
              " 'randomly',\n",
              " 'much',\n",
              " 'inhibition',\n",
              " 'agent',\n",
              " 'important',\n",
              " 'today',\n",
              " 'way',\n",
              " 'ibuprofen',\n",
              " 'animals',\n",
              " 'hour',\n",
              " 'improvement',\n",
              " 'caused',\n",
              " 'matrix',\n",
              " 'volunteers',\n",
              " 'age',\n",
              " 'presence',\n",
              " 'same',\n",
              " 'intensity',\n",
              " 'case',\n",
              " 'exposure',\n",
              " 'formation',\n",
              " 'various',\n",
              " 'six',\n",
              " '1',\n",
              " 'follow',\n",
              " 'big',\n",
              " 'tolerated',\n",
              " 'inhibitor',\n",
              " 'diagnosed',\n",
              " 'shown',\n",
              " 'score',\n",
              " 'mechanism',\n",
              " 'indicated',\n",
              " 'provide',\n",
              " 'migraine',\n",
              " 'aim',\n",
              " 'mice',\n",
              " 'further',\n",
              " 'safe',\n",
              " 'cases',\n",
              " 'dosage',\n",
              " 'cd',\n",
              " 'growth',\n",
              " 'moderate',\n",
              " 'take',\n",
              " 'divided',\n",
              " 'followed',\n",
              " 'go',\n",
              " 'product',\n",
              " 'o',\n",
              " 'permeation',\n",
              " 'content',\n",
              " 'old',\n",
              " 'improved',\n",
              " 'alone',\n",
              " 'peak',\n",
              " 'care',\n",
              " 'eye',\n",
              " 'reaction',\n",
              " 'local',\n",
              " 'agents',\n",
              " 'resulted',\n",
              " 'ii',\n",
              " 'rat',\n",
              " 'suggest',\n",
              " 'according',\n",
              " '2',\n",
              " 'decrease',\n",
              " 'pre',\n",
              " 'although',\n",
              " 'pressure',\n",
              " 'relative',\n",
              " 'vas',\n",
              " 'including',\n",
              " 'evidence',\n",
              " 'r',\n",
              " 'standard',\n",
              " 'whereas',\n",
              " 'profile',\n",
              " 'th',\n",
              " 'quality',\n",
              " 'onset',\n",
              " 'common',\n",
              " 'among',\n",
              " 'multiple',\n",
              " 'eating',\n",
              " 'ever',\n",
              " 'see',\n",
              " 'awareness',\n",
              " 'evaluation',\n",
              " 'experimental',\n",
              " 'share',\n",
              " 'part',\n",
              " 'overall',\n",
              " 'blog',\n",
              " 'least',\n",
              " 'damage',\n",
              " 'male',\n",
              " 'determine',\n",
              " 'cm',\n",
              " 'pizza',\n",
              " '\\r \\n \\r \\n ',\n",
              " 'corneal',\n",
              " 'f',\n",
              " 'combined',\n",
              " 'research',\n",
              " 'month',\n",
              " 'participants',\n",
              " 'pharmacokinetic',\n",
              " 'profiles',\n",
              " 'rapid',\n",
              " '4',\n",
              " 'plus',\n",
              " 'physical',\n",
              " 'beads',\n",
              " 'protein',\n",
              " 'systemic',\n",
              " 'assessment',\n",
              " 'vehicle',\n",
              " 'body',\n",
              " 'efficiency',\n",
              " 'conducted',\n",
              " 'amount',\n",
              " 'third',\n",
              " 'cmax',\n",
              " 'versus',\n",
              " 'would',\n",
              " 'synthesis',\n",
              " 'duration',\n",
              " 'surface',\n",
              " 'ci',\n",
              " 'five',\n",
              " 'enteric',\n",
              " 'produced',\n",
              " 'lesions',\n",
              " 'models',\n",
              " 'sensitive',\n",
              " 'want',\n",
              " 'extent',\n",
              " 'linked',\n",
              " 'microg',\n",
              " 'pharmaceutical',\n",
              " 'muscle',\n",
              " 'edema',\n",
              " 'soup',\n",
              " 'rofecoxib',\n",
              " 'happy',\n",
              " 'misoprostol',\n",
              " 'methods',\n",
              " 'term',\n",
              " 'aspirin',\n",
              " 'still',\n",
              " 'u',\n",
              " 'commercial',\n",
              " 'even',\n",
              " 'degrees',\n",
              " 'cross',\n",
              " 'reference',\n",
              " 'maximum',\n",
              " 'second',\n",
              " 'against',\n",
              " 'secondary',\n",
              " 'microspheres',\n",
              " 'patch',\n",
              " 'preparation',\n",
              " 'please',\n",
              " 'naproxen',\n",
              " 'cookbook',\n",
              " 'find',\n",
              " 'temperature',\n",
              " 'influence',\n",
              " 'story',\n",
              " 'super',\n",
              " 'recorded',\n",
              " 'de',\n",
              " 'joint',\n",
              " 'gf',\n",
              " 'complete',\n",
              " 'possible',\n",
              " 'membrane',\n",
              " 'co',\n",
              " 'thus',\n",
              " 'considered',\n",
              " 'urine',\n",
              " 'examined',\n",
              " 'brain',\n",
              " 'comparable',\n",
              " 'comparison',\n",
              " 'achieved',\n",
              " 'pellets',\n",
              " 'medical',\n",
              " 'investigate',\n",
              " 'superior',\n",
              " 'dr',\n",
              " 'global',\n",
              " 'expression',\n",
              " 'wheat',\n",
              " 'analgesia',\n",
              " 'volume',\n",
              " 'cause',\n",
              " 'interaction',\n",
              " 'carried',\n",
              " 'might',\n",
              " 'diffusion',\n",
              " 'novel',\n",
              " 'rates',\n",
              " 'where',\n",
              " 'intestinal',\n",
              " 'medium',\n",
              " 'production',\n",
              " 'saline',\n",
              " 'them',\n",
              " 'intramuscular',\n",
              " 'state',\n",
              " 'initial',\n",
              " '5',\n",
              " 'technique',\n",
              " 'indicate',\n",
              " 'provided',\n",
              " 'liver',\n",
              " 'findings',\n",
              " 'value',\n",
              " 'incidence',\n",
              " 'work',\n",
              " 'complex',\n",
              " 'friends',\n",
              " 'assess',\n",
              " 'released',\n",
              " 'receiving',\n",
              " 'easy',\n",
              " 'women',\n",
              " 'once',\n",
              " 'solid',\n",
              " 'small',\n",
              " '2014',\n",
              " 'cream',\n",
              " 'degree',\n",
              " 'alternative',\n",
              " 'autographed',\n",
              " 'eyes',\n",
              " 'looking',\n",
              " 'prostaglandin',\n",
              " 'determination',\n",
              " 'medications',\n",
              " 'site',\n",
              " 'bone',\n",
              " 'specific',\n",
              " 'outcome',\n",
              " 'cataract',\n",
              " 'alpha',\n",
              " 'antiinflammatory',\n",
              " 'delicious',\n",
              " 'treat',\n",
              " 'increasing',\n",
              " 'inhibited',\n",
              " 'characterized',\n",
              " 'rheumatoid',\n",
              " 'drops',\n",
              " 'clinically',\n",
              " 'flow',\n",
              " 'early',\n",
              " 'preparations',\n",
              " 'paracetamol',\n",
              " 'index',\n",
              " 'loaded',\n",
              " 'bread',\n",
              " 'children',\n",
              " 'solubility',\n",
              " 'got',\n",
              " 'back',\n",
              " 'try',\n",
              " 'twice',\n",
              " 'every',\n",
              " 'tests',\n",
              " 'others',\n",
              " 'current',\n",
              " 'whether',\n",
              " 'since',\n",
              " 'dic',\n",
              " 'max',\n",
              " 'capsules',\n",
              " 'additional',\n",
              " 'vascular',\n",
              " 'open',\n",
              " 'mild',\n",
              " 'foods',\n",
              " 'beta',\n",
              " 'simple',\n",
              " 'ketorolac',\n",
              " 'top',\n",
              " 'point',\n",
              " 'affect',\n",
              " 'needed',\n",
              " 'performance',\n",
              " 'responses',\n",
              " 'detection',\n",
              " 'gi',\n",
              " 'percentage',\n",
              " 'calcium',\n",
              " 'design',\n",
              " 'several',\n",
              " 'few',\n",
              " 'affected',\n",
              " 'ocular',\n",
              " 'chitosan',\n",
              " 'kinetics',\n",
              " 'collected',\n",
              " 'thank',\n",
              " 'known',\n",
              " 'hp',\n",
              " 'extraction',\n",
              " 'characteristics',\n",
              " 'support',\n",
              " 'taking',\n",
              " 'transdermal',\n",
              " 'phosphate',\n",
              " 'hplc',\n",
              " 'solutions',\n",
              " 'reduce',\n",
              " 'having',\n",
              " 'inhibitors',\n",
              " 'objective',\n",
              " 'issues',\n",
              " 'cardiovascular',\n",
              " 'lipid',\n",
              " 'terms',\n",
              " 'modified',\n",
              " 'bowl',\n",
              " 'aged',\n",
              " 'clearance',\n",
              " 'factor',\n",
              " 'buffer',\n",
              " 'too',\n",
              " 'nm',\n",
              " 'dpsgc',\n",
              " 'enhanced',\n",
              " 'syndrome',\n",
              " 'across',\n",
              " 'another',\n",
              " 'therefore',\n",
              " 'next',\n",
              " 'fluid',\n",
              " 'faster',\n",
              " 'recipes',\n",
              " 'short',\n",
              " 've',\n",
              " 'microm',\n",
              " 'capsule',\n",
              " 'ophthalmic',\n",
              " 'information',\n",
              " 'tmax',\n",
              " 'analyzed',\n",
              " 'cyclooxygenase',\n",
              " 'factors',\n",
              " 'systems',\n",
              " 'eudragit',\n",
              " 'pge',\n",
              " 'chocolate',\n",
              " 'useful',\n",
              " 'event',\n",
              " 'seen',\n",
              " 'operative',\n",
              " 'info',\n",
              " 'experience',\n",
              " 'start',\n",
              " 'il',\n",
              " 'tissues',\n",
              " 'flare',\n",
              " 'america',\n",
              " 'sd',\n",
              " 'signs',\n",
              " 'dcf',\n",
              " 'allergy',\n",
              " 'required',\n",
              " 'rabbits',\n",
              " 'analgesics',\n",
              " 'market',\n",
              " 'ldl',\n",
              " 'binding',\n",
              " 'positive',\n",
              " 'occurred',\n",
              " 'forms',\n",
              " 'death',\n",
              " 'interview',\n",
              " 'interesting',\n",
              " 'page',\n",
              " 'major',\n",
              " 'particle',\n",
              " 'criteria',\n",
              " 'really',\n",
              " 'able',\n",
              " 'laser',\n",
              " 'peg',\n",
              " 'average',\n",
              " 'cambia',\n",
              " 'down',\n",
              " 'oil',\n",
              " 'crossover',\n",
              " 'feel',\n",
              " 'excretion',\n",
              " 'distribution',\n",
              " 'celecoxib',\n",
              " 'independent',\n",
              " 'giveaway',\n",
              " 'prolonged',\n",
              " 'learn',\n",
              " 'testing',\n",
              " 'especially',\n",
              " 'assigned',\n",
              " 'suggested',\n",
              " 'experiments',\n",
              " 'exhibited',\n",
              " 'ability',\n",
              " 'df',\n",
              " 'special',\n",
              " 'last',\n",
              " 'urinary',\n",
              " 'hr',\n",
              " 'options',\n",
              " 'management',\n",
              " 'potent',\n",
              " 'density',\n",
              " 'dfs',\n",
              " 'scanning',\n",
              " 'confirmed',\n",
              " 'coeliac',\n",
              " 'getting',\n",
              " 'later',\n",
              " 'intravenous',\n",
              " 'dosing',\n",
              " 'role',\n",
              " 'salt',\n",
              " 'receive',\n",
              " 'hpmc',\n",
              " 'always',\n",
              " 'microscopy',\n",
              " 'chloride',\n",
              " 'activities',\n",
              " 'sr',\n",
              " 'hospital',\n",
              " 'reducing',\n",
              " 'orally',\n",
              " 'variables',\n",
              " 'quinoa',\n",
              " 'condition',\n",
              " 'analogue',\n",
              " 'list',\n",
              " 'penetration',\n",
              " 'molecular',\n",
              " 'reasons',\n",
              " 'measures',\n",
              " 'book',\n",
              " 'develop',\n",
              " 'serious',\n",
              " 'community',\n",
              " 'loading',\n",
              " 'aes',\n",
              " '10',\n",
              " 'laboratory',\n",
              " 'measurements',\n",
              " 'series',\n",
              " 'improve',\n",
              " 'sample',\n",
              " 'cs',\n",
              " 'ak',\n",
              " 'result',\n",
              " 'hip',\n",
              " 'seven',\n",
              " 'headache',\n",
              " 'acetaminophen',\n",
              " 'assay',\n",
              " 'selected',\n",
              " 'kcnq',\n",
              " 'he',\n",
              " 'own',\n",
              " 'sunday',\n",
              " 'metabolites',\n",
              " 'must',\n",
              " 'arthrotec',\n",
              " 'creatinine',\n",
              " 'approximately',\n",
              " 'morning',\n",
              " 'highly',\n",
              " 'optimized',\n",
              " 'severity',\n",
              " 'adult',\n",
              " 'relaxation',\n",
              " 'behavior',\n",
              " 'twenty',\n",
              " 'curve',\n",
              " 'likely',\n",
              " 'mt',\n",
              " 'kidney',\n",
              " 'world',\n",
              " '3',\n",
              " 'central',\n",
              " 'toxicity',\n",
              " 'rescue',\n",
              " 'interval',\n",
              " 'alginate',\n",
              " 'immediate',\n",
              " 'child',\n",
              " 'individual',\n",
              " 'heart',\n",
              " 'detected',\n",
              " 'population',\n",
              " 'breaking',\n",
              " 'her',\n",
              " 'postoperatively',\n",
              " 'randomised',\n",
              " 'limit',\n",
              " 'procedure',\n",
              " 'avoid',\n",
              " 'stem',\n",
              " 'live',\n",
              " 'target',\n",
              " 'convention',\n",
              " 'direct',\n",
              " 'absence',\n",
              " 'recent',\n",
              " 'structure',\n",
              " 'injected',\n",
              " 'recently',\n",
              " 'coating',\n",
              " 'report',\n",
              " 'diseases',\n",
              " 'fed',\n",
              " 'things',\n",
              " 'diagnose',\n",
              " 'never',\n",
              " 'slow',\n",
              " 'recommended',\n",
              " 'injury',\n",
              " 'enzyme',\n",
              " 'hand',\n",
              " 'yes',\n",
              " 'fast',\n",
              " 'identified',\n",
              " 'stability',\n",
              " 'purpose',\n",
              " 'whole',\n",
              " 'cookies',\n",
              " 'molar',\n",
              " 'taken',\n",
              " 'statins',\n",
              " 'off',\n",
              " 'experienced',\n",
              " 'linear',\n",
              " 'general',\n",
              " 'eight',\n",
              " 'analog',\n",
              " 'generally',\n",
              " 'involved',\n",
              " 'metabolism',\n",
              " 'prior',\n",
              " 'differential',\n",
              " 'selective',\n",
              " 'come',\n",
              " 'respect',\n",
              " 'zero',\n",
              " 'effectiveness',\n",
              " 'widely',\n",
              " 'breakfast',\n",
              " 'drop',\n",
              " 'established',\n",
              " 'layer',\n",
              " 'meal',\n",
              " 'allergic',\n",
              " 'activation',\n",
              " 'cost',\n",
              " 'mediated',\n",
              " 'female',\n",
              " 'designed',\n",
              " 'collagen',\n",
              " 'generic',\n",
              " 'friendly',\n",
              " 'statin',\n",
              " ...]"
            ]
          },
          "metadata": {
            "tags": []
          },
          "execution_count": 17
        }
      ]
    },
    {
      "cell_type": "code",
      "metadata": {
        "id": "yPWr03mls3VT",
        "colab_type": "code",
        "outputId": "0fa29b9b-465c-49eb-83fe-0936ca4cba7e",
        "colab": {
          "base_uri": "https://localhost:8080/",
          "height": 17
        }
      },
      "source": [
        "model_path = path/'models'\n",
        "model_path.mkdir(exist_ok=True)\n",
        "url = 'http://files.fast.ai/models/wt103_v1/'\n",
        "download_url(f'{url}lstm_wt103.pth', model_path/'lstm_wt103.pth')\n",
        "download_url(f'{url}itos_wt103.pkl', model_path/'itos_wt103.pkl')"
      ],
      "execution_count": 18,
      "outputs": [
        {
          "output_type": "display_data",
          "data": {
            "text/html": [
              ""
            ],
            "text/plain": [
              "<IPython.core.display.HTML object>"
            ]
          },
          "metadata": {
            "tags": []
          }
        },
        {
          "output_type": "display_data",
          "data": {
            "text/html": [
              ""
            ],
            "text/plain": [
              "<IPython.core.display.HTML object>"
            ]
          },
          "metadata": {
            "tags": []
          }
        }
      ]
    },
    {
      "cell_type": "code",
      "metadata": {
        "id": "JRzvWg8RtGGr",
        "colab_type": "code",
        "outputId": "124d9109-4226-415b-dbde-c4866237c44c",
        "colab": {
          "base_uri": "https://localhost:8080/",
          "height": 35
        }
      },
      "source": [
        "learn = language_model_learner(data_lm, AWD_LSTM, drop_mult=0.5)"
      ],
      "execution_count": 19,
      "outputs": [
        {
          "output_type": "stream",
          "text": [
            "Downloading https://s3.amazonaws.com/fast-ai-modelzoo/wt103-fwd\n"
          ],
          "name": "stdout"
        },
        {
          "output_type": "display_data",
          "data": {
            "text/html": [
              ""
            ],
            "text/plain": [
              "<IPython.core.display.HTML object>"
            ]
          },
          "metadata": {
            "tags": []
          }
        }
      ]
    },
    {
      "cell_type": "code",
      "metadata": {
        "id": "xKK7GeBev7Xn",
        "colab_type": "code",
        "outputId": "66786195-22d2-4243-e0e8-a25dbe5be29e",
        "colab": {
          "base_uri": "https://localhost:8080/",
          "height": 79
        }
      },
      "source": [
        "learn.fit_one_cycle(1, 1e-2)"
      ],
      "execution_count": 20,
      "outputs": [
        {
          "output_type": "display_data",
          "data": {
            "text/html": [
              "<table border=\"1\" class=\"dataframe\">\n",
              "  <thead>\n",
              "    <tr style=\"text-align: left;\">\n",
              "      <th>epoch</th>\n",
              "      <th>train_loss</th>\n",
              "      <th>valid_loss</th>\n",
              "      <th>accuracy</th>\n",
              "      <th>time</th>\n",
              "    </tr>\n",
              "  </thead>\n",
              "  <tbody>\n",
              "    <tr>\n",
              "      <td>0</td>\n",
              "      <td>5.191418</td>\n",
              "      <td>4.612028</td>\n",
              "      <td>0.252576</td>\n",
              "      <td>21:36</td>\n",
              "    </tr>\n",
              "  </tbody>\n",
              "</table>"
            ],
            "text/plain": [
              "<IPython.core.display.HTML object>"
            ]
          },
          "metadata": {
            "tags": []
          }
        }
      ]
    },
    {
      "cell_type": "code",
      "metadata": {
        "id": "iB7rHGQCwd12",
        "colab_type": "code",
        "colab": {
          "base_uri": "https://localhost:8080/",
          "height": 79
        },
        "outputId": "aef44737-b8d3-45a8-dd84-d05e4d0e6342"
      },
      "source": [
        "learn.fit_one_cycle(1, 1e-2)"
      ],
      "execution_count": 21,
      "outputs": [
        {
          "output_type": "display_data",
          "data": {
            "text/html": [
              "<table border=\"1\" class=\"dataframe\">\n",
              "  <thead>\n",
              "    <tr style=\"text-align: left;\">\n",
              "      <th>epoch</th>\n",
              "      <th>train_loss</th>\n",
              "      <th>valid_loss</th>\n",
              "      <th>accuracy</th>\n",
              "      <th>time</th>\n",
              "    </tr>\n",
              "  </thead>\n",
              "  <tbody>\n",
              "    <tr>\n",
              "      <td>0</td>\n",
              "      <td>4.431438</td>\n",
              "      <td>4.267602</td>\n",
              "      <td>0.285305</td>\n",
              "      <td>21:28</td>\n",
              "    </tr>\n",
              "  </tbody>\n",
              "</table>"
            ],
            "text/plain": [
              "<IPython.core.display.HTML object>"
            ]
          },
          "metadata": {
            "tags": []
          }
        }
      ]
    },
    {
      "cell_type": "code",
      "metadata": {
        "id": "_BnSuAeCwkBe",
        "colab_type": "code",
        "colab": {
          "base_uri": "https://localhost:8080/",
          "height": 79
        },
        "outputId": "f3588c1e-9657-485d-f259-ff7e1c532608"
      },
      "source": [
        "learn.fit_one_cycle(1, 1e-3)"
      ],
      "execution_count": 22,
      "outputs": [
        {
          "output_type": "display_data",
          "data": {
            "text/html": [
              "<table border=\"1\" class=\"dataframe\">\n",
              "  <thead>\n",
              "    <tr style=\"text-align: left;\">\n",
              "      <th>epoch</th>\n",
              "      <th>train_loss</th>\n",
              "      <th>valid_loss</th>\n",
              "      <th>accuracy</th>\n",
              "      <th>time</th>\n",
              "    </tr>\n",
              "  </thead>\n",
              "  <tbody>\n",
              "    <tr>\n",
              "      <td>0</td>\n",
              "      <td>4.107897</td>\n",
              "      <td>4.225528</td>\n",
              "      <td>0.289937</td>\n",
              "      <td>21:25</td>\n",
              "    </tr>\n",
              "  </tbody>\n",
              "</table>"
            ],
            "text/plain": [
              "<IPython.core.display.HTML object>"
            ]
          },
          "metadata": {
            "tags": []
          }
        }
      ]
    },
    {
      "cell_type": "code",
      "metadata": {
        "id": "MuTm-RFjwrEX",
        "colab_type": "code",
        "colab": {
          "base_uri": "https://localhost:8080/",
          "height": 79
        },
        "outputId": "c150a55d-7763-4ffa-d319-cb24d4219552"
      },
      "source": [
        "learn.fit_one_cycle(1, 1e-3)"
      ],
      "execution_count": 23,
      "outputs": [
        {
          "output_type": "display_data",
          "data": {
            "text/html": [
              "<table border=\"1\" class=\"dataframe\">\n",
              "  <thead>\n",
              "    <tr style=\"text-align: left;\">\n",
              "      <th>epoch</th>\n",
              "      <th>train_loss</th>\n",
              "      <th>valid_loss</th>\n",
              "      <th>accuracy</th>\n",
              "      <th>time</th>\n",
              "    </tr>\n",
              "  </thead>\n",
              "  <tbody>\n",
              "    <tr>\n",
              "      <td>0</td>\n",
              "      <td>4.059324</td>\n",
              "      <td>4.194356</td>\n",
              "      <td>0.293331</td>\n",
              "      <td>21:27</td>\n",
              "    </tr>\n",
              "  </tbody>\n",
              "</table>"
            ],
            "text/plain": [
              "<IPython.core.display.HTML object>"
            ]
          },
          "metadata": {
            "tags": []
          }
        }
      ]
    },
    {
      "cell_type": "code",
      "metadata": {
        "id": "1Er2ExO8wr7Y",
        "colab_type": "code",
        "colab": {}
      },
      "source": [
        "learn.save_encoder('tuning_pubmed_bigtweet_overlap_0_first')"
      ],
      "execution_count": 0,
      "outputs": []
    },
    {
      "cell_type": "code",
      "metadata": {
        "id": "z52cZs2qwvad",
        "colab_type": "code",
        "colab": {
          "base_uri": "https://localhost:8080/",
          "height": 79
        },
        "outputId": "ce2ab43d-3e79-4b34-a6aa-29b5f62a5387"
      },
      "source": [
        "learn = text_classifier_learner(data_clas,AWD_LSTM, drop_mult=0.5)\n",
        "learn.load_encoder('tuning_pubmed_bigtweet_overlap_0_first')\n",
        "learn.fit_one_cycle(1, 1e-2)"
      ],
      "execution_count": 25,
      "outputs": [
        {
          "output_type": "display_data",
          "data": {
            "text/html": [
              "<table border=\"1\" class=\"dataframe\">\n",
              "  <thead>\n",
              "    <tr style=\"text-align: left;\">\n",
              "      <th>epoch</th>\n",
              "      <th>train_loss</th>\n",
              "      <th>valid_loss</th>\n",
              "      <th>accuracy</th>\n",
              "      <th>time</th>\n",
              "    </tr>\n",
              "  </thead>\n",
              "  <tbody>\n",
              "    <tr>\n",
              "      <td>0</td>\n",
              "      <td>7.067281</td>\n",
              "      <td>6.500872</td>\n",
              "      <td>0.104348</td>\n",
              "      <td>00:48</td>\n",
              "    </tr>\n",
              "  </tbody>\n",
              "</table>"
            ],
            "text/plain": [
              "<IPython.core.display.HTML object>"
            ]
          },
          "metadata": {
            "tags": []
          }
        }
      ]
    },
    {
      "cell_type": "code",
      "metadata": {
        "id": "ImwQP1PJwzxd",
        "colab_type": "code",
        "colab": {
          "base_uri": "https://localhost:8080/",
          "height": 79
        },
        "outputId": "7d091368-3fbe-4bf0-956a-106dfdf63d38"
      },
      "source": [
        "learn.freeze_to(-2)\n",
        "learn.fit_one_cycle(1, slice(5e-3/2., 5e-3))"
      ],
      "execution_count": 26,
      "outputs": [
        {
          "output_type": "display_data",
          "data": {
            "text/html": [
              "<table border=\"1\" class=\"dataframe\">\n",
              "  <thead>\n",
              "    <tr style=\"text-align: left;\">\n",
              "      <th>epoch</th>\n",
              "      <th>train_loss</th>\n",
              "      <th>valid_loss</th>\n",
              "      <th>accuracy</th>\n",
              "      <th>time</th>\n",
              "    </tr>\n",
              "  </thead>\n",
              "  <tbody>\n",
              "    <tr>\n",
              "      <td>0</td>\n",
              "      <td>6.169340</td>\n",
              "      <td>5.178586</td>\n",
              "      <td>0.182609</td>\n",
              "      <td>00:55</td>\n",
              "    </tr>\n",
              "  </tbody>\n",
              "</table>"
            ],
            "text/plain": [
              "<IPython.core.display.HTML object>"
            ]
          },
          "metadata": {
            "tags": []
          }
        }
      ]
    },
    {
      "cell_type": "code",
      "metadata": {
        "id": "Owff_BJXw53u",
        "colab_type": "code",
        "colab": {
          "base_uri": "https://localhost:8080/",
          "height": 79
        },
        "outputId": "cfd5ee56-162a-449f-e586-cbb090efaa23"
      },
      "source": [
        "learn.unfreeze()\n",
        "learn.fit_one_cycle(1, slice(2e-3/100, 2e-3))"
      ],
      "execution_count": 27,
      "outputs": [
        {
          "output_type": "display_data",
          "data": {
            "text/html": [
              "<table border=\"1\" class=\"dataframe\">\n",
              "  <thead>\n",
              "    <tr style=\"text-align: left;\">\n",
              "      <th>epoch</th>\n",
              "      <th>train_loss</th>\n",
              "      <th>valid_loss</th>\n",
              "      <th>accuracy</th>\n",
              "      <th>time</th>\n",
              "    </tr>\n",
              "  </thead>\n",
              "  <tbody>\n",
              "    <tr>\n",
              "      <td>0</td>\n",
              "      <td>5.726698</td>\n",
              "      <td>4.826497</td>\n",
              "      <td>0.191304</td>\n",
              "      <td>01:07</td>\n",
              "    </tr>\n",
              "  </tbody>\n",
              "</table>"
            ],
            "text/plain": [
              "<IPython.core.display.HTML object>"
            ]
          },
          "metadata": {
            "tags": []
          }
        }
      ]
    },
    {
      "cell_type": "code",
      "metadata": {
        "id": "lqAyu56V8Waq",
        "colab_type": "code",
        "colab": {
          "base_uri": "https://localhost:8080/",
          "height": 110
        },
        "outputId": "4592bb6e-052c-4b7e-eed8-70d94052529d"
      },
      "source": [
        "learn.fit_one_cycle(2, slice(2e-3/100, 2e-3))"
      ],
      "execution_count": 28,
      "outputs": [
        {
          "output_type": "display_data",
          "data": {
            "text/html": [
              "<table border=\"1\" class=\"dataframe\">\n",
              "  <thead>\n",
              "    <tr style=\"text-align: left;\">\n",
              "      <th>epoch</th>\n",
              "      <th>train_loss</th>\n",
              "      <th>valid_loss</th>\n",
              "      <th>accuracy</th>\n",
              "      <th>time</th>\n",
              "    </tr>\n",
              "  </thead>\n",
              "  <tbody>\n",
              "    <tr>\n",
              "      <td>0</td>\n",
              "      <td>5.469985</td>\n",
              "      <td>4.514109</td>\n",
              "      <td>0.226087</td>\n",
              "      <td>01:03</td>\n",
              "    </tr>\n",
              "    <tr>\n",
              "      <td>1</td>\n",
              "      <td>5.287466</td>\n",
              "      <td>4.393123</td>\n",
              "      <td>0.243478</td>\n",
              "      <td>01:01</td>\n",
              "    </tr>\n",
              "  </tbody>\n",
              "</table>"
            ],
            "text/plain": [
              "<IPython.core.display.HTML object>"
            ]
          },
          "metadata": {
            "tags": []
          }
        }
      ]
    },
    {
      "cell_type": "code",
      "metadata": {
        "id": "a7I1xMRp8bUd",
        "colab_type": "code",
        "colab": {
          "base_uri": "https://localhost:8080/",
          "height": 95
        },
        "outputId": "5e2cf9af-e864-4865-d007-9bfa2b52e6ba"
      },
      "source": [
        "learn.fit_one_cycle(2, slice(2e-3/100, 2e-3))"
      ],
      "execution_count": 0,
      "outputs": [
        {
          "output_type": "display_data",
          "data": {
            "text/html": [
              "\n",
              "    <div>\n",
              "        <style>\n",
              "            /* Turns off some styling */\n",
              "            progress {\n",
              "                /* gets rid of default border in Firefox and Opera. */\n",
              "                border: none;\n",
              "                /* Needs to be in here for Safari polyfill so background images work as expected. */\n",
              "                background-size: auto;\n",
              "            }\n",
              "            .progress-bar-interrupted, .progress-bar-interrupted::-webkit-progress-bar {\n",
              "                background: #F44336;\n",
              "            }\n",
              "        </style>\n",
              "      <progress value='0' class='' max='2', style='width:300px; height:20px; vertical-align: middle;'></progress>\n",
              "      0.00% [0/2 00:00<00:00]\n",
              "    </div>\n",
              "    \n",
              "<table border=\"1\" class=\"dataframe\">\n",
              "  <thead>\n",
              "    <tr style=\"text-align: left;\">\n",
              "      <th>epoch</th>\n",
              "      <th>train_loss</th>\n",
              "      <th>valid_loss</th>\n",
              "      <th>accuracy</th>\n",
              "      <th>time</th>\n",
              "    </tr>\n",
              "  </thead>\n",
              "  <tbody>\n",
              "  </tbody>\n",
              "</table><p>\n",
              "\n",
              "    <div>\n",
              "        <style>\n",
              "            /* Turns off some styling */\n",
              "            progress {\n",
              "                /* gets rid of default border in Firefox and Opera. */\n",
              "                border: none;\n",
              "                /* Needs to be in here for Safari polyfill so background images work as expected. */\n",
              "                background-size: auto;\n",
              "            }\n",
              "            .progress-bar-interrupted, .progress-bar-interrupted::-webkit-progress-bar {\n",
              "                background: #F44336;\n",
              "            }\n",
              "        </style>\n",
              "      <progress value='13' class='' max='37', style='width:300px; height:20px; vertical-align: middle;'></progress>\n",
              "      35.14% [13/37 00:27<00:50 5.1129]\n",
              "    </div>\n",
              "    "
            ],
            "text/plain": [
              "<IPython.core.display.HTML object>"
            ]
          },
          "metadata": {
            "tags": []
          }
        }
      ]
    },
    {
      "cell_type": "code",
      "metadata": {
        "id": "UAnti-XmGVfO",
        "colab_type": "code",
        "colab": {}
      },
      "source": [
        "learn.fit_one_cycle(2, slice(2e-3/100, 2e-3))"
      ],
      "execution_count": 0,
      "outputs": []
    },
    {
      "cell_type": "code",
      "metadata": {
        "id": "bIft7W25GwSu",
        "colab_type": "code",
        "colab": {}
      },
      "source": [
        "learn.fit_one_cycle(2, slice(2e-3/100, 2e-3))"
      ],
      "execution_count": 0,
      "outputs": []
    },
    {
      "cell_type": "code",
      "metadata": {
        "id": "EEHszVRvGyFt",
        "colab_type": "code",
        "colab": {}
      },
      "source": [
        "learn.fit_one_cycle(2, slice(2e-3/100, 2e-3))"
      ],
      "execution_count": 0,
      "outputs": []
    },
    {
      "cell_type": "code",
      "metadata": {
        "id": "XsHfrhCHG3dN",
        "colab_type": "code",
        "colab": {}
      },
      "source": [
        "learn.fit_one_cycle(4, slice(2e-3/100, 2e-3))"
      ],
      "execution_count": 0,
      "outputs": []
    },
    {
      "cell_type": "code",
      "metadata": {
        "id": "0Zsd99isb9EQ",
        "colab_type": "code",
        "colab": {}
      },
      "source": [
        "learn.fit_one_cycle(4, slice(2e-3/100, 2e-3))"
      ],
      "execution_count": 0,
      "outputs": []
    },
    {
      "cell_type": "code",
      "metadata": {
        "id": "atNWNKDFPbuI",
        "colab_type": "code",
        "colab": {}
      },
      "source": [
        "learn.fit_one_cycle(4, slice(2e-3/100, 2e-3))"
      ],
      "execution_count": 0,
      "outputs": []
    },
    {
      "cell_type": "code",
      "metadata": {
        "id": "rKrBTZ0T1uVA",
        "colab_type": "code",
        "colab": {}
      },
      "source": [
        "learn.fit_one_cycle(4, slice(2e-3/100, 2e-3))"
      ],
      "execution_count": 0,
      "outputs": []
    },
    {
      "cell_type": "code",
      "metadata": {
        "id": "ajQC6WDg1yA9",
        "colab_type": "code",
        "colab": {}
      },
      "source": [
        "learn.fit_one_cycle(4, slice(2e-3/100, 2e-3))"
      ],
      "execution_count": 0,
      "outputs": []
    },
    {
      "cell_type": "code",
      "metadata": {
        "id": "KKydb0B4BKGk",
        "colab_type": "code",
        "colab": {}
      },
      "source": [
        "learn.fit_one_cycle(4, slice(2e-3/100, 2e-3))"
      ],
      "execution_count": 0,
      "outputs": []
    },
    {
      "cell_type": "code",
      "metadata": {
        "id": "T2APKtFKBpGY",
        "colab_type": "code",
        "colab": {}
      },
      "source": [
        "learn.fit_one_cycle(4, slice(2e-3/100, 2e-3))"
      ],
      "execution_count": 0,
      "outputs": []
    },
    {
      "cell_type": "code",
      "metadata": {
        "id": "qtTypA1sPgLU",
        "colab_type": "code",
        "colab": {}
      },
      "source": [
        "learn.fit_one_cycle(2, slice(2e-3/100, 2e-3))"
      ],
      "execution_count": 0,
      "outputs": []
    },
    {
      "cell_type": "code",
      "metadata": {
        "id": "b242kBsTUp9Y",
        "colab_type": "code",
        "colab": {}
      },
      "source": [
        "learn.fit_one_cycle(2, slice(2e-3/100, 2e-3))"
      ],
      "execution_count": 0,
      "outputs": []
    },
    {
      "cell_type": "code",
      "metadata": {
        "id": "Duwf1Ih5VeDZ",
        "colab_type": "code",
        "colab": {}
      },
      "source": [
        "learn.fit_one_cycle(1, slice(2e-3/100, 2e-3))"
      ],
      "execution_count": 0,
      "outputs": []
    },
    {
      "cell_type": "code",
      "metadata": {
        "id": "c65d-osfDUXm",
        "colab_type": "code",
        "colab": {}
      },
      "source": [
        "# save the best model\n",
        "\n",
        "learn.save_encoder('tuning_pubmed_bigtweet_overlap_0_last')"
      ],
      "execution_count": 0,
      "outputs": []
    },
    {
      "cell_type": "markdown",
      "metadata": {
        "id": "rCwZU0E2RgM6",
        "colab_type": "text"
      },
      "source": [
        "# Part three: Predict on the test dataset"
      ]
    },
    {
      "cell_type": "code",
      "metadata": {
        "id": "gDm72c-dOu7d",
        "colab_type": "code",
        "colab": {}
      },
      "source": [
        "# use the test data for prediction\n",
        "\n",
        "preds, y = learn.get_preds(DatasetType.Test)"
      ],
      "execution_count": 0,
      "outputs": []
    },
    {
      "cell_type": "code",
      "metadata": {
        "id": "6tFSQcsWPvxn",
        "colab_type": "code",
        "colab": {}
      },
      "source": [
        "predictions, *_ = learn.get_preds(DatasetType.Test)\n",
        "labels = np.argmax(predictions, 1)\n",
        "predict_list = labels.tolist()\n",
        "standard_list = test[0].tolist()\n",
        "\n",
        "print(len(predict_list))\n",
        "print(len(standard_list))\n",
        "\n",
        "print(predict_list)\n",
        "print(standard_list)"
      ],
      "execution_count": 0,
      "outputs": []
    },
    {
      "cell_type": "code",
      "metadata": {
        "id": "XIC4zufnMxtq",
        "colab_type": "code",
        "colab": {}
      },
      "source": [
        "correct_num = 0\n",
        "\n",
        "for i in range(0, len(standard_list)):\n",
        "  if predict_list[i] == standard_list[i]:\n",
        "    correct_num = correct_num+1\n",
        "  else:\n",
        "    pass\n",
        "print(correct_num)\n",
        "\n",
        "predict_accuracy = correct_num/len(predict_list)\n",
        "print(predict_accuracy)"
      ],
      "execution_count": 0,
      "outputs": []
    }
  ]
}