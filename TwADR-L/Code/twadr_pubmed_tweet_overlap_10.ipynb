{
  "nbformat": 4,
  "nbformat_minor": 0,
  "metadata": {
    "colab": {
      "name": "twadr_pubmed_tweet_overlap_10.ipynb",
      "provenance": [],
      "collapsed_sections": [],
      "toc_visible": true,
      "include_colab_link": true
    },
    "kernelspec": {
      "name": "python3",
      "display_name": "Python 3"
    },
    "accelerator": "TPU"
  },
  "cells": [
    {
      "cell_type": "markdown",
      "metadata": {
        "id": "view-in-github",
        "colab_type": "text"
      },
      "source": [
        "<a href=\"https://colab.research.google.com/github/unt-iialab/medical-concept-normalization/blob/master/TwADR-L/Code/twadr_pubmed_tweet_overlap_10.ipynb\" target=\"_parent\"><img src=\"https://colab.research.google.com/assets/colab-badge.svg\" alt=\"Open In Colab\"/></a>"
      ]
    },
    {
      "cell_type": "code",
      "metadata": {
        "id": "adSi6i2-dWxy",
        "colab_type": "code",
        "colab": {}
      },
      "source": [
        "import os"
      ],
      "execution_count": 0,
      "outputs": []
    },
    {
      "cell_type": "code",
      "metadata": {
        "id": "E7xYCRGPjd9B",
        "colab_type": "code",
        "colab": {}
      },
      "source": [
        "base_dir = 'medical-concept-normalization'"
      ],
      "execution_count": 0,
      "outputs": []
    },
    {
      "cell_type": "code",
      "metadata": {
        "id": "yvIW3aUDjYNS",
        "colab_type": "code",
        "colab": {}
      },
      "source": [
        "if os.path.exists('medical-concept-normalization'):\n",
        "  print('folder exist')\n",
        "else:\n",
        "  os.mkdir(base_dir)"
      ],
      "execution_count": 0,
      "outputs": []
    },
    {
      "cell_type": "code",
      "metadata": {
        "id": "es-FFLlfk6SG",
        "colab_type": "code",
        "colab": {}
      },
      "source": [
        "if os.path.exists('medical-concept-normalization/data_collection'):\n",
        "  print('folder exist')\n",
        "else:\n",
        "  os.mkdir('medical-concept-normalization/data_collection')"
      ],
      "execution_count": 0,
      "outputs": []
    },
    {
      "cell_type": "markdown",
      "metadata": {
        "id": "0R-Guw_VoJXm",
        "colab_type": "text"
      },
      "source": [
        "**Install fastai and clone the fastai for text classification**\n",
        "\n"
      ]
    },
    {
      "cell_type": "code",
      "metadata": {
        "id": "QVZa3Z0PmHFH",
        "colab_type": "code",
        "outputId": "96801ec3-b205-4ba5-855e-317fc01e1151",
        "colab": {
          "base_uri": "https://localhost:8080/",
          "height": 89
        }
      },
      "source": [
        "!curl https://course-v3.fast.ai/setup/colab | bash"
      ],
      "execution_count": 5,
      "outputs": [
        {
          "output_type": "stream",
          "text": [
            "  % Total    % Received % Xferd  Average Speed   Time    Time     Time  Current\n",
            "                                 Dload  Upload   Total   Spent    Left  Speed\n",
            "  0     0    0     0    0     0      0      0 --:--:--  0:00:04 --:--:--     0curl: (6) Could not resolve host: course-v3.fast.ai\n"
          ],
          "name": "stdout"
        }
      ]
    },
    {
      "cell_type": "code",
      "metadata": {
        "id": "_FBFFEBrmJC0",
        "colab_type": "code",
        "outputId": "bbc55965-f153-48b0-df41-aa16b32267d7",
        "colab": {
          "base_uri": "https://localhost:8080/",
          "height": 87
        }
      },
      "source": [
        "!git clone https://github.com/wshuyi/demo-nlp-classification-fastai.git"
      ],
      "execution_count": 6,
      "outputs": [
        {
          "output_type": "stream",
          "text": [
            "Cloning into 'demo-nlp-classification-fastai'...\n",
            "remote: Enumerating objects: 9, done.\u001b[K\n",
            "remote: Total 9 (delta 0), reused 0 (delta 0), pack-reused 9\u001b[K\n",
            "Unpacking objects: 100% (9/9), done.\n"
          ],
          "name": "stdout"
        }
      ]
    },
    {
      "cell_type": "code",
      "metadata": {
        "id": "66zfh_JqmWMU",
        "colab_type": "code",
        "colab": {}
      },
      "source": [
        "from fastai import *\n",
        "from fastai.text import *"
      ],
      "execution_count": 0,
      "outputs": []
    },
    {
      "cell_type": "markdown",
      "metadata": {
        "id": "mNIw-yALdBU9",
        "colab_type": "text"
      },
      "source": [
        "**Set the path of the data collections**"
      ]
    },
    {
      "cell_type": "code",
      "metadata": {
        "id": "pzH7VMh4mqCL",
        "colab_type": "code",
        "colab": {}
      },
      "source": [
        "path = Path('medical-concept-normalization/data_collection')"
      ],
      "execution_count": 0,
      "outputs": []
    },
    {
      "cell_type": "code",
      "metadata": {
        "id": "r8cdqCa-Oeog",
        "colab_type": "code",
        "colab": {}
      },
      "source": [
        "# datasets\n",
        "\n",
        "train_csv = 'https://raw.githubusercontent.com/unt-iialab/medical-concept-normalization/master/TwADR-L/Experiment%20(Change%20test%20dataset)/Training%20set/tward_training_folder_0.csv'\n",
        "valid_csv = 'https://raw.githubusercontent.com/unt-iialab/medical-concept-normalization/master/TwADR-L/Experiment%20(Change%20test%20dataset)/Validation%20set/tward_validation_folder_0.csv'\n",
        "test_csv = 'https://raw.githubusercontent.com/unt-iialab/medical-concept-normalization/master/TwADR-L/Experiment%20(Change%20test%20dataset)/Testing%20set/tward_testing_overlap_10.csv'\n",
        "fine_tuning_data = 'fine_tuning_language_model_pubmed_bigtweet_mixed.csv'"
      ],
      "execution_count": 0,
      "outputs": []
    },
    {
      "cell_type": "code",
      "metadata": {
        "id": "b8fjI6yyn4aS",
        "colab_type": "code",
        "outputId": "752421fc-0209-4094-a191-381663050f20",
        "colab": {
          "base_uri": "https://localhost:8080/",
          "height": 121
        }
      },
      "source": [
        "# training data set\n",
        "train = pd.read_csv(train_csv, header=None)\n",
        "print(train.head())\n",
        "\n",
        "# validating data set\n",
        "valid = pd.read_csv(valid_csv,header=None)\n",
        "# valid.head()\n",
        "\n",
        "# testing data set\n",
        "test = pd.read_csv(test_csv,header=None)\n",
        "# test.head()"
      ],
      "execution_count": 10,
      "outputs": [
        {
          "output_type": "stream",
          "text": [
            "      0                      1\n",
            "0  1945    Adrenergic syndrome\n",
            "1  1586  Hearing Loss, Partial\n",
            "2   580          Typhoid Fever\n",
            "3   784      Carcinoma of lung\n",
            "4   660              Pregnancy\n"
          ],
          "name": "stdout"
        }
      ]
    },
    {
      "cell_type": "code",
      "metadata": {
        "id": "Vo-YNvVYoaH6",
        "colab_type": "code",
        "outputId": "09031dd3-0bda-4d08-ecfb-84f9707543c4",
        "colab": {
          "base_uri": "https://localhost:8080/",
          "height": 17
        }
      },
      "source": [
        "# Creating DataBunch for language modelling\n",
        "data_lm = TextLMDataBunch.from_csv(path, fine_tuning_data)"
      ],
      "execution_count": 12,
      "outputs": [
        {
          "output_type": "display_data",
          "data": {
            "text/html": [
              ""
            ],
            "text/plain": [
              "<IPython.core.display.HTML object>"
            ]
          },
          "metadata": {
            "tags": []
          }
        },
        {
          "output_type": "display_data",
          "data": {
            "text/html": [
              ""
            ],
            "text/plain": [
              "<IPython.core.display.HTML object>"
            ]
          },
          "metadata": {
            "tags": []
          }
        }
      ]
    },
    {
      "cell_type": "code",
      "metadata": {
        "id": "1ScY9afDsnvE",
        "colab_type": "code",
        "colab": {}
      },
      "source": [
        "# Creating DataBunch for classification\n",
        "\n",
        "# data_clas = TextClasDataBunch.from_df(path, train, valid, test, vocab=data_lm.train_ds.vocab, bs=128)"
      ],
      "execution_count": 0,
      "outputs": []
    },
    {
      "cell_type": "code",
      "metadata": {
        "id": "gzrSdQcvey9p",
        "colab_type": "code",
        "outputId": "6dc88d04-f2a8-4c2f-b856-6c74420592e4",
        "colab": {
          "base_uri": "https://localhost:8080/",
          "height": 17
        }
      },
      "source": [
        "data_clas = TextClasDataBunch.from_df(path, train, valid, vocab=data_lm.train_ds.vocab, bs=128)"
      ],
      "execution_count": 14,
      "outputs": [
        {
          "output_type": "display_data",
          "data": {
            "text/html": [
              ""
            ],
            "text/plain": [
              "<IPython.core.display.HTML object>"
            ]
          },
          "metadata": {
            "tags": []
          }
        },
        {
          "output_type": "display_data",
          "data": {
            "text/html": [
              ""
            ],
            "text/plain": [
              "<IPython.core.display.HTML object>"
            ]
          },
          "metadata": {
            "tags": []
          }
        }
      ]
    },
    {
      "cell_type": "code",
      "metadata": {
        "id": "MD27Tf0Ke3ou",
        "colab_type": "code",
        "outputId": "cbd825a4-e7b9-421c-f761-5a8e2983bc72",
        "colab": {
          "base_uri": "https://localhost:8080/",
          "height": 17
        }
      },
      "source": [
        "data_clas.add_test(test,label=0)"
      ],
      "execution_count": 15,
      "outputs": [
        {
          "output_type": "display_data",
          "data": {
            "text/html": [
              ""
            ],
            "text/plain": [
              "<IPython.core.display.HTML object>"
            ]
          },
          "metadata": {
            "tags": []
          }
        }
      ]
    },
    {
      "cell_type": "code",
      "metadata": {
        "id": "-dpjnk_rstwk",
        "colab_type": "code",
        "colab": {}
      },
      "source": [
        "data_lm.save()\n",
        "data_clas.save()"
      ],
      "execution_count": 0,
      "outputs": []
    },
    {
      "cell_type": "code",
      "metadata": {
        "id": "4OkiJa36sw5s",
        "colab_type": "code",
        "outputId": "22c09527-0d31-4093-bb6b-5affa6ea67f3",
        "colab": {
          "base_uri": "https://localhost:8080/",
          "height": 1000
        }
      },
      "source": [
        "data_lm.train_ds.vocab.itos"
      ],
      "execution_count": 17,
      "outputs": [
        {
          "output_type": "execute_result",
          "data": {
            "text/plain": [
              "['xxunk',\n",
              " 'xxpad',\n",
              " 'xxbos',\n",
              " 'xxeos',\n",
              " 'xxfld',\n",
              " 'xxmaj',\n",
              " 'xxup',\n",
              " 'xxrep',\n",
              " 'xxwrep',\n",
              " 'the',\n",
              " 'of',\n",
              " 'and',\n",
              " 'in',\n",
              " 'to',\n",
              " 'a',\n",
              " 'for',\n",
              " 'with',\n",
              " 'diclofenac',\n",
              " 'was',\n",
              " 'were',\n",
              " 'on',\n",
              " 'is',\n",
              " 'rt',\n",
              " 'sodium',\n",
              " 'by',\n",
              " 'that',\n",
              " 'as',\n",
              " 'at',\n",
              " 'patients',\n",
              " 'or',\n",
              " 'this',\n",
              " 'from',\n",
              " 'drug',\n",
              " 'you',\n",
              " 'i',\n",
              " 'mg',\n",
              " 'group',\n",
              " 'be',\n",
              " 'disease',\n",
              " 'study',\n",
              " 'treatment',\n",
              " 'are',\n",
              " 'pain',\n",
              " 'after',\n",
              " 'an',\n",
              " 'not',\n",
              " 'amp',\n",
              " 'it',\n",
              " 'p',\n",
              " 'have',\n",
              " 'release',\n",
              " 'gluten',\n",
              " 'we',\n",
              " 'than',\n",
              " 'free',\n",
              " 'all',\n",
              " 'effect',\n",
              " 'compared',\n",
              " 'no',\n",
              " 'new',\n",
              " 'more',\n",
              " 'groups',\n",
              " 'effects',\n",
              " 'using',\n",
              " 'both',\n",
              " 'our',\n",
              " 'your',\n",
              " 'two',\n",
              " 'its',\n",
              " 'significantly',\n",
              " 'day',\n",
              " 'about',\n",
              " 'time',\n",
              " 'h',\n",
              " 'between',\n",
              " 'inflammatory',\n",
              " 'significant',\n",
              " 'drugs',\n",
              " 'my',\n",
              " 'these',\n",
              " 'can',\n",
              " 'which',\n",
              " 'but',\n",
              " 'out',\n",
              " 'use',\n",
              " 'anti',\n",
              " 'used',\n",
              " 'dose',\n",
              " 'voltaren',\n",
              " 'potassium',\n",
              " 'has',\n",
              " 'results',\n",
              " 'placebo',\n",
              " 'one',\n",
              " 'also',\n",
              " 'what',\n",
              " 'glutenfree',\n",
              " 's',\n",
              " 'efficacy',\n",
              " 'do',\n",
              " 'nt',\n",
              " 'there',\n",
              " 'may',\n",
              " 'm',\n",
              " 'treated',\n",
              " 'days',\n",
              " 'celiac',\n",
              " 'showed',\n",
              " 'ds',\n",
              " 'now',\n",
              " 'ml',\n",
              " 'w',\n",
              " 'when',\n",
              " 'had',\n",
              " 'oral',\n",
              " 'products',\n",
              " 'administration',\n",
              " 'up',\n",
              " 'been',\n",
              " 'different',\n",
              " 'rats',\n",
              " 'topical',\n",
              " 'c',\n",
              " 'concentration',\n",
              " 'studies',\n",
              " 'control',\n",
              " 'how',\n",
              " 'their',\n",
              " 'during',\n",
              " 'clinical',\n",
              " 'test',\n",
              " 'right',\n",
              " 'respectively',\n",
              " 'food',\n",
              " 'nsaids',\n",
              " 'well',\n",
              " 'via',\n",
              " 'found',\n",
              " 'who',\n",
              " 'into',\n",
              " 'acid',\n",
              " 'non',\n",
              " 'plasma',\n",
              " 'other',\n",
              " 'if',\n",
              " 'formulations',\n",
              " 'induced',\n",
              " 'did',\n",
              " 'first',\n",
              " 'effective',\n",
              " 'could',\n",
              " 'rate',\n",
              " 'diet',\n",
              " 'g',\n",
              " 'tablets',\n",
              " 'gel',\n",
              " 'mean',\n",
              " 'high',\n",
              " 'hours',\n",
              " 'those',\n",
              " 'ph',\n",
              " 'post',\n",
              " 'over',\n",
              " 'formulation',\n",
              " 'three',\n",
              " 'n',\n",
              " 'method',\n",
              " 'solution',\n",
              " 'received',\n",
              " 'review',\n",
              " 'observed',\n",
              " 'blood',\n",
              " 'tip',\n",
              " 'd',\n",
              " 'levels',\n",
              " 'kg',\n",
              " 'controlled',\n",
              " 'so',\n",
              " 'acute',\n",
              " 'vitro',\n",
              " 'atorvastatin',\n",
              " 'only',\n",
              " 'each',\n",
              " 'period',\n",
              " 'increased',\n",
              " 'less',\n",
              " 'daily',\n",
              " 'analgesic',\n",
              " 'adverse',\n",
              " 'single',\n",
              " 'analysis',\n",
              " 'dblclick',\n",
              " 'surgery',\n",
              " 'following',\n",
              " 'pic',\n",
              " 'activity',\n",
              " 'patient',\n",
              " 'why',\n",
              " 'randomized',\n",
              " 'data',\n",
              " 'some',\n",
              " 'before',\n",
              " 'l',\n",
              " 'week',\n",
              " 'evaluated',\n",
              " 'however',\n",
              " 'concentrations',\n",
              " 'most',\n",
              " 'good',\n",
              " 'here',\n",
              " 'skin',\n",
              " 't',\n",
              " 'they',\n",
              " 'model',\n",
              " 'weeks',\n",
              " 'low',\n",
              " 'symptoms',\n",
              " 'years',\n",
              " 'difference',\n",
              " 'total',\n",
              " 'me',\n",
              " 'therapy',\n",
              " 'lower',\n",
              " 'increase',\n",
              " 'know',\n",
              " 'under',\n",
              " 'tablet',\n",
              " 'higher',\n",
              " 'cells',\n",
              " 'obtained',\n",
              " 'similar',\n",
              " 'double',\n",
              " 'postoperative',\n",
              " 'will',\n",
              " 'renal',\n",
              " 'healthy',\n",
              " 'check',\n",
              " 'based',\n",
              " 'dissolution',\n",
              " 'b',\n",
              " 'nsaid',\n",
              " 'like',\n",
              " 'relief',\n",
              " 'combination',\n",
              " 'while',\n",
              " 'reduced',\n",
              " 'any',\n",
              " 'love',\n",
              " 'just',\n",
              " 'application',\n",
              " 'get',\n",
              " 'should',\n",
              " 'doses',\n",
              " 'present',\n",
              " 'prepared',\n",
              " 'order',\n",
              " 'life',\n",
              " 'trial',\n",
              " 'performed',\n",
              " 'studied',\n",
              " 'associated',\n",
              " 'conditions',\n",
              " 'four',\n",
              " 'response',\n",
              " 'cell',\n",
              " 'administered',\n",
              " 'min',\n",
              " 'changes',\n",
              " 'differences',\n",
              " 'given',\n",
              " 'serum',\n",
              " 'water',\n",
              " 'does',\n",
              " 'need',\n",
              " 'help',\n",
              " 'such',\n",
              " 'investigated',\n",
              " 'thanks',\n",
              " 'nonsteroidal',\n",
              " 'values',\n",
              " 'either',\n",
              " 'parameters',\n",
              " 'great',\n",
              " 'gfb',\n",
              " 're',\n",
              " 'v',\n",
              " 'events',\n",
              " 'containing',\n",
              " 'decreased',\n",
              " 'developed',\n",
              " 'inflammation',\n",
              " 'posted',\n",
              " 'subjects',\n",
              " 'vs',\n",
              " 'blind',\n",
              " 'better',\n",
              " 'due',\n",
              " 'within',\n",
              " 'type',\n",
              " 'measured',\n",
              " 'reported',\n",
              " 'system',\n",
              " 'safety',\n",
              " 'us',\n",
              " 'properties',\n",
              " 'side',\n",
              " 'cholesterol',\n",
              " 'assessed',\n",
              " 'reduction',\n",
              " 'risk',\n",
              " 'ca',\n",
              " 'auc',\n",
              " 'x',\n",
              " 'indomethacin',\n",
              " 'without',\n",
              " 'absorption',\n",
              " 'times',\n",
              " 'phase',\n",
              " 'samples',\n",
              " 'liquid',\n",
              " 'number',\n",
              " 'delivery',\n",
              " 'through',\n",
              " 'function',\n",
              " 'show',\n",
              " 'vivo',\n",
              " 'recipe',\n",
              " 'therapeutic',\n",
              " 'potential',\n",
              " 'statistically',\n",
              " 'minutes',\n",
              " 'range',\n",
              " 'determined',\n",
              " 'included',\n",
              " 'make',\n",
              " 'e',\n",
              " 'mm',\n",
              " 'compare',\n",
              " 'k',\n",
              " 'gastrointestinal',\n",
              " '30',\n",
              " 'steroidal',\n",
              " 'injection',\n",
              " 'best',\n",
              " '\\r \\n ',\n",
              " 'heres',\n",
              " 'oa',\n",
              " 'medication',\n",
              " 'people',\n",
              " 'level',\n",
              " 'being',\n",
              " 'health',\n",
              " 'year',\n",
              " 'primary',\n",
              " 'size',\n",
              " 'osteoarthritis',\n",
              " 'intolerance',\n",
              " 'form',\n",
              " 'eat',\n",
              " 'living',\n",
              " 'ratio',\n",
              " 'scale',\n",
              " 'lipitor',\n",
              " 'applied',\n",
              " 'jennieo',\n",
              " 'many',\n",
              " 'ng',\n",
              " 'evaluate',\n",
              " 'available',\n",
              " 'active',\n",
              " 'bioavailability',\n",
              " 'human',\n",
              " 'archives',\n",
              " 'months',\n",
              " 'tissue',\n",
              " 'very',\n",
              " 'greater',\n",
              " 'development',\n",
              " 'normal',\n",
              " 'going',\n",
              " 'process',\n",
              " 'then',\n",
              " 'coated',\n",
              " 'severe',\n",
              " 'sensitivity',\n",
              " 'related',\n",
              " 'baseline',\n",
              " 'tolerability',\n",
              " 'because',\n",
              " 'sustained',\n",
              " 'addition',\n",
              " 'polymer',\n",
              " 'tips',\n",
              " 'visual',\n",
              " 'news',\n",
              " 'revealed',\n",
              " 'change',\n",
              " 'tested',\n",
              " 'area',\n",
              " 'read',\n",
              " 'arthritis',\n",
              " 'article',\n",
              " 'improvement',\n",
              " 'dosage',\n",
              " 'aim',\n",
              " 'inhibitor',\n",
              " 'gastric',\n",
              " 'chronic',\n",
              " 'matrix',\n",
              " 'per',\n",
              " 'na',\n",
              " 'today',\n",
              " 'scores',\n",
              " 'dependent',\n",
              " 'knee',\n",
              " '1',\n",
              " 'action',\n",
              " 'cox',\n",
              " 'volunteers',\n",
              " 'mice',\n",
              " 'take',\n",
              " 'think',\n",
              " 'swelling',\n",
              " 'demonstrated',\n",
              " 'presence',\n",
              " 'chicken',\n",
              " 'cd',\n",
              " 'follow',\n",
              " 'safe',\n",
              " 'trials',\n",
              " 'ibuprofen',\n",
              " 'migraine',\n",
              " 'treatments',\n",
              " 'important',\n",
              " 'inhibition',\n",
              " 'caused',\n",
              " 'various',\n",
              " 'shown',\n",
              " 'made',\n",
              " 'end',\n",
              " 'aqueous',\n",
              " 'further',\n",
              " 'long',\n",
              " 'formation',\n",
              " 'hour',\n",
              " 'intensity',\n",
              " 'diagnosis',\n",
              " 'cases',\n",
              " 'whereas',\n",
              " 'much',\n",
              " 'permeation',\n",
              " 'decrease',\n",
              " 'content',\n",
              " 'animals',\n",
              " 'randomly',\n",
              " 'peak',\n",
              " 'moderate',\n",
              " 'part',\n",
              " 'weight',\n",
              " 'followed',\n",
              " 'same',\n",
              " 'reaction',\n",
              " 'product',\n",
              " 'agent',\n",
              " 'local',\n",
              " 'score',\n",
              " 'care',\n",
              " 'tolerated',\n",
              " 'awareness',\n",
              " 'profiles',\n",
              " 'exposure',\n",
              " 'indicated',\n",
              " 'provide',\n",
              " 'eye',\n",
              " 'ii',\n",
              " 'diagnosed',\n",
              " 'growth',\n",
              " 'go',\n",
              " 'divided',\n",
              " 'suggest',\n",
              " 'six',\n",
              " 'f',\n",
              " 'determine',\n",
              " 'according',\n",
              " 'rat',\n",
              " 'combined',\n",
              " 'big',\n",
              " 'common',\n",
              " 'corneal',\n",
              " 'pressure',\n",
              " 'mechanism',\n",
              " 'alone',\n",
              " 'please',\n",
              " 'surface',\n",
              " 'research',\n",
              " 'relative',\n",
              " '2',\n",
              " 'experimental',\n",
              " 'age',\n",
              " 'share',\n",
              " 'would',\n",
              " 'way',\n",
              " 'old',\n",
              " 'agents',\n",
              " 'enteric',\n",
              " 'o',\n",
              " 'including',\n",
              " 'multiple',\n",
              " 'cm',\n",
              " 'conducted',\n",
              " '\\r \\n \\r \\n ',\n",
              " 'resulted',\n",
              " 'month',\n",
              " 'case',\n",
              " 'sensitive',\n",
              " 'protein',\n",
              " 'vas',\n",
              " 'eating',\n",
              " 'standard',\n",
              " 'pre',\n",
              " 'male',\n",
              " 'secondary',\n",
              " 'pharmaceutical',\n",
              " 'find',\n",
              " 'although',\n",
              " 'least',\n",
              " 'evaluation',\n",
              " 'among',\n",
              " 'pizza',\n",
              " 'damage',\n",
              " 'analgesia',\n",
              " 'body',\n",
              " 'u',\n",
              " 'profile',\n",
              " 'temperature',\n",
              " 'rapid',\n",
              " 'produced',\n",
              " 'plus',\n",
              " 'onset',\n",
              " 'vehicle',\n",
              " 'evidence',\n",
              " 'lesions',\n",
              " 'r',\n",
              " '4',\n",
              " 'duration',\n",
              " 'improved',\n",
              " 'cookbook',\n",
              " 'muscle',\n",
              " 'linked',\n",
              " 'amount',\n",
              " 'ever',\n",
              " 'versus',\n",
              " 'see',\n",
              " 'misoprostol',\n",
              " 'want',\n",
              " 'cmax',\n",
              " 'naproxen',\n",
              " 'solid',\n",
              " 'happy',\n",
              " 'systemic',\n",
              " 'even',\n",
              " 'cross',\n",
              " 'pharmacokinetic',\n",
              " 'achieved',\n",
              " 'synthesis',\n",
              " 'against',\n",
              " 'technique',\n",
              " 'preparation',\n",
              " 'participants',\n",
              " 'five',\n",
              " 'state',\n",
              " 'third',\n",
              " 'calcium',\n",
              " 'prostaglandin',\n",
              " 'rofecoxib',\n",
              " 'second',\n",
              " 'where',\n",
              " 'microspheres',\n",
              " 'degrees',\n",
              " 'beads',\n",
              " 'physical',\n",
              " 'global',\n",
              " 'inhibited',\n",
              " 'models',\n",
              " 'maximum',\n",
              " 'aspirin',\n",
              " 'volume',\n",
              " 'overall',\n",
              " 'cause',\n",
              " 'edema',\n",
              " 'ci',\n",
              " 'liver',\n",
              " 'gf',\n",
              " 'co',\n",
              " 'intestinal',\n",
              " 'determination',\n",
              " 'investigate',\n",
              " 'microg',\n",
              " 'medical',\n",
              " 'patch',\n",
              " 'thus',\n",
              " 'still',\n",
              " 'early',\n",
              " 'term',\n",
              " 'reference',\n",
              " 'dr',\n",
              " 'every',\n",
              " 'once',\n",
              " 'diffusion',\n",
              " 'value',\n",
              " 'provided',\n",
              " 'complete',\n",
              " 'th',\n",
              " 'urine',\n",
              " 'autographed',\n",
              " 'assessment',\n",
              " 'specific',\n",
              " 'indicate',\n",
              " 'women',\n",
              " 'pellets',\n",
              " 'easy',\n",
              " 'quality',\n",
              " 'initial',\n",
              " 'small',\n",
              " 'saline',\n",
              " 'joint',\n",
              " 'membrane',\n",
              " 'blog',\n",
              " 'them',\n",
              " 'influence',\n",
              " 'complex',\n",
              " 'recorded',\n",
              " 'rates',\n",
              " 'novel',\n",
              " 'bone',\n",
              " 'superior',\n",
              " 'needed',\n",
              " 'degree',\n",
              " 'comparison',\n",
              " 'phosphate',\n",
              " 'brain',\n",
              " 'eyes',\n",
              " 'buffer',\n",
              " 'lipid',\n",
              " 'hplc',\n",
              " '5',\n",
              " 'carried',\n",
              " 'assess',\n",
              " 'findings',\n",
              " 'therefore',\n",
              " 'expression',\n",
              " 'detection',\n",
              " 'friends',\n",
              " 'receiving',\n",
              " 'medium',\n",
              " 'mild',\n",
              " 'commercial',\n",
              " 'might',\n",
              " 'dic',\n",
              " '2014',\n",
              " 'ocular',\n",
              " 'affect',\n",
              " 'efficiency',\n",
              " 'flow',\n",
              " 'twice',\n",
              " 'capsules',\n",
              " 'drops',\n",
              " 'super',\n",
              " 'whether',\n",
              " 'design',\n",
              " 'de',\n",
              " 'examined',\n",
              " 'rheumatoid',\n",
              " 'inhibitors',\n",
              " 'production',\n",
              " 'looking',\n",
              " 'intramuscular',\n",
              " 'soup',\n",
              " 'children',\n",
              " 'extent',\n",
              " 'simple',\n",
              " 'comparable',\n",
              " 'work',\n",
              " 'increasing',\n",
              " 'interaction',\n",
              " 'nm',\n",
              " 'possible',\n",
              " 'wheat',\n",
              " 'too',\n",
              " 'methods',\n",
              " 'bread',\n",
              " 'alternative',\n",
              " 'transdermal',\n",
              " 'paracetamol',\n",
              " 'got',\n",
              " 'current',\n",
              " 'additional',\n",
              " 'try',\n",
              " 'taking',\n",
              " 'beta',\n",
              " 'vascular',\n",
              " 'considered',\n",
              " 'responses',\n",
              " 'since',\n",
              " 'open',\n",
              " 'medications',\n",
              " 'loaded',\n",
              " 'tissues',\n",
              " 'few',\n",
              " 'preparations',\n",
              " 'incidence',\n",
              " 'delicious',\n",
              " 'characterized',\n",
              " 'index',\n",
              " 'cataract',\n",
              " 'gi',\n",
              " 'released',\n",
              " 'max',\n",
              " 'back',\n",
              " 'outcome',\n",
              " 'dpsgc',\n",
              " 'others',\n",
              " 'story',\n",
              " 'solubility',\n",
              " 'analyzed',\n",
              " 'pge',\n",
              " 'foods',\n",
              " 'solutions',\n",
              " 'tests',\n",
              " 'factor',\n",
              " 'testing',\n",
              " 'last',\n",
              " 'options',\n",
              " 'cardiovascular',\n",
              " 'clearance',\n",
              " 'enhanced',\n",
              " 'major',\n",
              " 'performance',\n",
              " 'treat',\n",
              " 'required',\n",
              " 'alpha',\n",
              " 'characteristics',\n",
              " 'modified',\n",
              " 'aged',\n",
              " 'eudragit',\n",
              " 'information',\n",
              " 'cream',\n",
              " 'top',\n",
              " 'average',\n",
              " 'management',\n",
              " 'support',\n",
              " 'death',\n",
              " 'microm',\n",
              " 'clinically',\n",
              " 'hp',\n",
              " 'chitosan',\n",
              " 'ldl',\n",
              " 'having',\n",
              " 'thank',\n",
              " 'event',\n",
              " 'site',\n",
              " 'sr',\n",
              " 'syndrome',\n",
              " 'celecoxib',\n",
              " 'affected',\n",
              " 'info',\n",
              " 'exhibited',\n",
              " 'next',\n",
              " 'several',\n",
              " 'receive',\n",
              " 'forms',\n",
              " 'capsule',\n",
              " 'experience',\n",
              " 'terms',\n",
              " 'experiments',\n",
              " 'fluid',\n",
              " 'percentage',\n",
              " 'ketorolac',\n",
              " 'known',\n",
              " 'learn',\n",
              " 'recipes',\n",
              " 'kinetics',\n",
              " 'role',\n",
              " 'seen',\n",
              " 'book',\n",
              " 'giveaway',\n",
              " 'dfs',\n",
              " 'injury',\n",
              " 'analgesics',\n",
              " 've',\n",
              " 'allergy',\n",
              " 'objective',\n",
              " 'rabbits',\n",
              " 'interesting',\n",
              " 'crossover',\n",
              " 'collected',\n",
              " 'acetaminophen',\n",
              " 'quinoa',\n",
              " 'page',\n",
              " 'list',\n",
              " 'develop',\n",
              " 'structure',\n",
              " 'hpmc',\n",
              " 'cambia',\n",
              " 'point',\n",
              " 'ophthalmic',\n",
              " 'extraction',\n",
              " 'prolonged',\n",
              " '10',\n",
              " 'cyclooxygenase',\n",
              " 'procedure',\n",
              " 'excretion',\n",
              " 'really',\n",
              " 'stability',\n",
              " 'particle',\n",
              " 'dcf',\n",
              " 'serious',\n",
              " 'activities',\n",
              " 'antiinflammatory',\n",
              " 'bowl',\n",
              " 'across',\n",
              " 'urinary',\n",
              " 'drop',\n",
              " 'laser',\n",
              " 'issues',\n",
              " 'systems',\n",
              " 'arthrotec',\n",
              " 'another',\n",
              " 'injected',\n",
              " 'dosing',\n",
              " 'suggested',\n",
              " 'start',\n",
              " 'later',\n",
              " 'confirmed',\n",
              " 'special',\n",
              " 'chocolate',\n",
              " 'tmax',\n",
              " 'flare',\n",
              " 'useful',\n",
              " 'ak',\n",
              " 'potent',\n",
              " 'loading',\n",
              " 'america',\n",
              " 'positive',\n",
              " 'individual',\n",
              " 'penetration',\n",
              " 'density',\n",
              " 'independent',\n",
              " 'yes',\n",
              " 'occurred',\n",
              " 'il',\n",
              " 'binding',\n",
              " 'reduce',\n",
              " 'feel',\n",
              " 'short',\n",
              " 'cs',\n",
              " 'oil',\n",
              " 'randomised',\n",
              " 'factors',\n",
              " 'target',\n",
              " 'toxicity',\n",
              " 'plant',\n",
              " 'hr',\n",
              " 'especially',\n",
              " 'proposed',\n",
              " 'fed',\n",
              " 'df',\n",
              " 'relaxation',\n",
              " 'peg',\n",
              " 'operative',\n",
              " 'headache',\n",
              " 'ability',\n",
              " 'child',\n",
              " 'criteria',\n",
              " 'optimized',\n",
              " 'scanning',\n",
              " 'twenty',\n",
              " 'ty',\n",
              " 'highly',\n",
              " 'assay',\n",
              " 'hospital',\n",
              " 'assigned',\n",
              " 'live',\n",
              " 'microscopy',\n",
              " 'own',\n",
              " 'slow',\n",
              " 'reducing',\n",
              " 'morning',\n",
              " 'detected',\n",
              " 'interval',\n",
              " 'signs',\n",
              " 'able',\n",
              " 'selected',\n",
              " 'intravenous',\n",
              " 'interview',\n",
              " 'salt',\n",
              " 'chemical',\n",
              " 'always',\n",
              " 'eight',\n",
              " 'rescue',\n",
              " 'analogue',\n",
              " 'variables',\n",
              " 'established',\n",
              " 'behavior',\n",
              " 'market',\n",
              " 'limit',\n",
              " 'sd',\n",
              " 'fast',\n",
              " 'improve',\n",
              " 'faster',\n",
              " 'central',\n",
              " 'coating',\n",
              " 'hip',\n",
              " 'am',\n",
              " 'equivalent',\n",
              " 'ask',\n",
              " 'he',\n",
              " 'down',\n",
              " 'stem',\n",
              " 'whole',\n",
              " 'curve',\n",
              " 'getting',\n",
              " 'immediate',\n",
              " 'parallel',\n",
              " 'direct',\n",
              " 'link',\n",
              " 'likely',\n",
              " 'orally',\n",
              " 'coeliac',\n",
              " 'mt',\n",
              " 'longer',\n",
              " 'condition',\n",
              " 'dexamethasone',\n",
              " 'alginate',\n",
              " 'approximately',\n",
              " 'female',\n",
              " 'chloride',\n",
              " 'designed',\n",
              " 'piroxicam',\n",
              " 'prior',\n",
              " 'sunday',\n",
              " 'outcomes',\n",
              " 'experienced',\n",
              " 'movement',\n",
              " 'cake',\n",
              " 'validated',\n",
              " 'convention',\n",
              " 'enzyme',\n",
              " 'statins',\n",
              " 'pharmacokinetics',\n",
              " 'compounds',\n",
              " 'population',\n",
              " 'his',\n",
              " 'respect',\n",
              " 'metabolism',\n",
              " 'degradation',\n",
              " 'valentines',\n",
              " 'cookies',\n",
              " 'activation',\n",
              " 'measures',\n",
              " 'kids',\n",
              " 'hear',\n",
              " 'collagen',\n",
              " 'medicine',\n",
              " 'confidence',\n",
              " 'reasons',\n",
              " 'world',\n",
              " 'her',\n",
              " 'linear',\n",
              " 'often',\n",
              " 'effectiveness',\n",
              " 'makes',\n",
              " 'general',\n",
              " 'involved',\n",
              " 'hand',\n",
              " 'result',\n",
              " 'seven',\n",
              " 'breaking',\n",
              " 'report',\n",
              " 'increases',\n",
              " 'compound',\n",
              " 'electron',\n",
              " 'examination',\n",
              " 'severity',\n",
              " 'metabolites',\n",
              " 'painful',\n",
              " 'approach',\n",
              " 'series',\n",
              " 'creatinine',\n",
              " 'off',\n",
              " 'widely',\n",
              " 'pretreatment',\n",
              " 'channels',\n",
              " 'statin',\n",
              " 'must',\n",
              " 'recently',\n",
              " 'adult',\n",
              " 'recommended',\n",
              " 'permeability',\n",
              " 'analog',\n",
              " ...]"
            ]
          },
          "metadata": {
            "tags": []
          },
          "execution_count": 17
        }
      ]
    },
    {
      "cell_type": "code",
      "metadata": {
        "id": "yPWr03mls3VT",
        "colab_type": "code",
        "outputId": "47fa0c4e-85c4-493b-a9d7-827c29869154",
        "colab": {
          "base_uri": "https://localhost:8080/",
          "height": 17
        }
      },
      "source": [
        "model_path = path/'models'\n",
        "model_path.mkdir(exist_ok=True)\n",
        "url = 'http://files.fast.ai/models/wt103_v1/'\n",
        "download_url(f'{url}lstm_wt103.pth', model_path/'lstm_wt103.pth')\n",
        "download_url(f'{url}itos_wt103.pkl', model_path/'itos_wt103.pkl')"
      ],
      "execution_count": 18,
      "outputs": [
        {
          "output_type": "display_data",
          "data": {
            "text/html": [
              ""
            ],
            "text/plain": [
              "<IPython.core.display.HTML object>"
            ]
          },
          "metadata": {
            "tags": []
          }
        },
        {
          "output_type": "display_data",
          "data": {
            "text/html": [
              ""
            ],
            "text/plain": [
              "<IPython.core.display.HTML object>"
            ]
          },
          "metadata": {
            "tags": []
          }
        }
      ]
    },
    {
      "cell_type": "code",
      "metadata": {
        "id": "JRzvWg8RtGGr",
        "colab_type": "code",
        "outputId": "f8d3225c-0016-47d7-db46-d3f45a7d65b9",
        "colab": {
          "base_uri": "https://localhost:8080/",
          "height": 35
        }
      },
      "source": [
        "learn = language_model_learner(data_lm, AWD_LSTM, drop_mult=0.5)"
      ],
      "execution_count": 19,
      "outputs": [
        {
          "output_type": "stream",
          "text": [
            "Downloading https://s3.amazonaws.com/fast-ai-modelzoo/wt103-fwd\n"
          ],
          "name": "stdout"
        },
        {
          "output_type": "display_data",
          "data": {
            "text/html": [
              ""
            ],
            "text/plain": [
              "<IPython.core.display.HTML object>"
            ]
          },
          "metadata": {
            "tags": []
          }
        }
      ]
    },
    {
      "cell_type": "code",
      "metadata": {
        "id": "xKK7GeBev7Xn",
        "colab_type": "code",
        "outputId": "12dcbd31-ad55-45d1-8c66-b1ee5606ccf7",
        "colab": {
          "base_uri": "https://localhost:8080/",
          "height": 79
        }
      },
      "source": [
        "learn.fit_one_cycle(1, 1e-2)"
      ],
      "execution_count": 20,
      "outputs": [
        {
          "output_type": "display_data",
          "data": {
            "text/html": [
              "<table border=\"1\" class=\"dataframe\">\n",
              "  <thead>\n",
              "    <tr style=\"text-align: left;\">\n",
              "      <th>epoch</th>\n",
              "      <th>train_loss</th>\n",
              "      <th>valid_loss</th>\n",
              "      <th>accuracy</th>\n",
              "      <th>time</th>\n",
              "    </tr>\n",
              "  </thead>\n",
              "  <tbody>\n",
              "    <tr>\n",
              "      <td>0</td>\n",
              "      <td>5.195334</td>\n",
              "      <td>4.618323</td>\n",
              "      <td>0.251869</td>\n",
              "      <td>22:35</td>\n",
              "    </tr>\n",
              "  </tbody>\n",
              "</table>"
            ],
            "text/plain": [
              "<IPython.core.display.HTML object>"
            ]
          },
          "metadata": {
            "tags": []
          }
        }
      ]
    },
    {
      "cell_type": "code",
      "metadata": {
        "id": "iB7rHGQCwd12",
        "colab_type": "code",
        "colab": {
          "base_uri": "https://localhost:8080/",
          "height": 79
        },
        "outputId": "518ad45b-1fe3-46ec-a9a2-7133406691e7"
      },
      "source": [
        "learn.fit_one_cycle(1, 1e-2)"
      ],
      "execution_count": 21,
      "outputs": [
        {
          "output_type": "display_data",
          "data": {
            "text/html": [
              "<table border=\"1\" class=\"dataframe\">\n",
              "  <thead>\n",
              "    <tr style=\"text-align: left;\">\n",
              "      <th>epoch</th>\n",
              "      <th>train_loss</th>\n",
              "      <th>valid_loss</th>\n",
              "      <th>accuracy</th>\n",
              "      <th>time</th>\n",
              "    </tr>\n",
              "  </thead>\n",
              "  <tbody>\n",
              "    <tr>\n",
              "      <td>0</td>\n",
              "      <td>4.445654</td>\n",
              "      <td>4.266936</td>\n",
              "      <td>0.285091</td>\n",
              "      <td>22:21</td>\n",
              "    </tr>\n",
              "  </tbody>\n",
              "</table>"
            ],
            "text/plain": [
              "<IPython.core.display.HTML object>"
            ]
          },
          "metadata": {
            "tags": []
          }
        }
      ]
    },
    {
      "cell_type": "code",
      "metadata": {
        "id": "_BnSuAeCwkBe",
        "colab_type": "code",
        "colab": {
          "base_uri": "https://localhost:8080/",
          "height": 79
        },
        "outputId": "55079d77-1b72-4240-94ad-af37d718ac00"
      },
      "source": [
        "learn.fit_one_cycle(1, 1e-3)"
      ],
      "execution_count": 22,
      "outputs": [
        {
          "output_type": "display_data",
          "data": {
            "text/html": [
              "<table border=\"1\" class=\"dataframe\">\n",
              "  <thead>\n",
              "    <tr style=\"text-align: left;\">\n",
              "      <th>epoch</th>\n",
              "      <th>train_loss</th>\n",
              "      <th>valid_loss</th>\n",
              "      <th>accuracy</th>\n",
              "      <th>time</th>\n",
              "    </tr>\n",
              "  </thead>\n",
              "  <tbody>\n",
              "    <tr>\n",
              "      <td>0</td>\n",
              "      <td>4.115037</td>\n",
              "      <td>4.227844</td>\n",
              "      <td>0.289230</td>\n",
              "      <td>22:01</td>\n",
              "    </tr>\n",
              "  </tbody>\n",
              "</table>"
            ],
            "text/plain": [
              "<IPython.core.display.HTML object>"
            ]
          },
          "metadata": {
            "tags": []
          }
        }
      ]
    },
    {
      "cell_type": "code",
      "metadata": {
        "id": "MuTm-RFjwrEX",
        "colab_type": "code",
        "colab": {
          "base_uri": "https://localhost:8080/",
          "height": 95
        },
        "outputId": "8b7ace80-a7d8-492c-f68e-38a26418b8cf"
      },
      "source": [
        "learn.fit_one_cycle(1, 1e-3)"
      ],
      "execution_count": 0,
      "outputs": [
        {
          "output_type": "display_data",
          "data": {
            "text/html": [
              "\n",
              "    <div>\n",
              "        <style>\n",
              "            /* Turns off some styling */\n",
              "            progress {\n",
              "                /* gets rid of default border in Firefox and Opera. */\n",
              "                border: none;\n",
              "                /* Needs to be in here for Safari polyfill so background images work as expected. */\n",
              "                background-size: auto;\n",
              "            }\n",
              "            .progress-bar-interrupted, .progress-bar-interrupted::-webkit-progress-bar {\n",
              "                background: #F44336;\n",
              "            }\n",
              "        </style>\n",
              "      <progress value='0' class='' max='1', style='width:300px; height:20px; vertical-align: middle;'></progress>\n",
              "      0.00% [0/1 00:00<00:00]\n",
              "    </div>\n",
              "    \n",
              "<table border=\"1\" class=\"dataframe\">\n",
              "  <thead>\n",
              "    <tr style=\"text-align: left;\">\n",
              "      <th>epoch</th>\n",
              "      <th>train_loss</th>\n",
              "      <th>valid_loss</th>\n",
              "      <th>accuracy</th>\n",
              "      <th>time</th>\n",
              "    </tr>\n",
              "  </thead>\n",
              "  <tbody>\n",
              "  </tbody>\n",
              "</table><p>\n",
              "\n",
              "    <div>\n",
              "        <style>\n",
              "            /* Turns off some styling */\n",
              "            progress {\n",
              "                /* gets rid of default border in Firefox and Opera. */\n",
              "                border: none;\n",
              "                /* Needs to be in here for Safari polyfill so background images work as expected. */\n",
              "                background-size: auto;\n",
              "            }\n",
              "            .progress-bar-interrupted, .progress-bar-interrupted::-webkit-progress-bar {\n",
              "                background: #F44336;\n",
              "            }\n",
              "        </style>\n",
              "      <progress value='21' class='' max='24', style='width:300px; height:20px; vertical-align: middle;'></progress>\n",
              "      87.50% [21/24 01:33<00:13]\n",
              "    </div>\n",
              "    "
            ],
            "text/plain": [
              "<IPython.core.display.HTML object>"
            ]
          },
          "metadata": {
            "tags": []
          }
        }
      ]
    },
    {
      "cell_type": "code",
      "metadata": {
        "id": "1Er2ExO8wr7Y",
        "colab_type": "code",
        "colab": {}
      },
      "source": [
        "learn.save_encoder('tuning_pubmed_bigtweet_overlap_0_first')"
      ],
      "execution_count": 0,
      "outputs": []
    },
    {
      "cell_type": "code",
      "metadata": {
        "id": "z52cZs2qwvad",
        "colab_type": "code",
        "colab": {}
      },
      "source": [
        "learn = text_classifier_learner(data_clas,AWD_LSTM, drop_mult=0.5)\n",
        "learn.load_encoder('tuning_pubmed_bigtweet_overlap_0_first')\n",
        "learn.fit_one_cycle(1, 1e-2)"
      ],
      "execution_count": 0,
      "outputs": []
    },
    {
      "cell_type": "code",
      "metadata": {
        "id": "ImwQP1PJwzxd",
        "colab_type": "code",
        "colab": {}
      },
      "source": [
        "learn.freeze_to(-2)\n",
        "learn.fit_one_cycle(1, slice(5e-3/2., 5e-3))"
      ],
      "execution_count": 0,
      "outputs": []
    },
    {
      "cell_type": "code",
      "metadata": {
        "id": "Owff_BJXw53u",
        "colab_type": "code",
        "colab": {}
      },
      "source": [
        "learn.unfreeze()\n",
        "learn.fit_one_cycle(1, slice(2e-3/100, 2e-3))"
      ],
      "execution_count": 0,
      "outputs": []
    },
    {
      "cell_type": "code",
      "metadata": {
        "id": "lqAyu56V8Waq",
        "colab_type": "code",
        "colab": {}
      },
      "source": [
        "learn.fit_one_cycle(2, slice(2e-3/100, 2e-3))"
      ],
      "execution_count": 0,
      "outputs": []
    },
    {
      "cell_type": "code",
      "metadata": {
        "id": "a7I1xMRp8bUd",
        "colab_type": "code",
        "colab": {}
      },
      "source": [
        "learn.fit_one_cycle(2, slice(2e-3/100, 2e-3))"
      ],
      "execution_count": 0,
      "outputs": []
    },
    {
      "cell_type": "code",
      "metadata": {
        "id": "UAnti-XmGVfO",
        "colab_type": "code",
        "colab": {}
      },
      "source": [
        "learn.fit_one_cycle(2, slice(2e-3/100, 2e-3))"
      ],
      "execution_count": 0,
      "outputs": []
    },
    {
      "cell_type": "code",
      "metadata": {
        "id": "bIft7W25GwSu",
        "colab_type": "code",
        "colab": {}
      },
      "source": [
        "learn.fit_one_cycle(2, slice(2e-3/100, 2e-3))"
      ],
      "execution_count": 0,
      "outputs": []
    },
    {
      "cell_type": "code",
      "metadata": {
        "id": "EEHszVRvGyFt",
        "colab_type": "code",
        "colab": {}
      },
      "source": [
        "learn.fit_one_cycle(2, slice(2e-3/100, 2e-3))"
      ],
      "execution_count": 0,
      "outputs": []
    },
    {
      "cell_type": "code",
      "metadata": {
        "id": "XsHfrhCHG3dN",
        "colab_type": "code",
        "colab": {}
      },
      "source": [
        "learn.fit_one_cycle(4, slice(2e-3/100, 2e-3))"
      ],
      "execution_count": 0,
      "outputs": []
    },
    {
      "cell_type": "code",
      "metadata": {
        "id": "0Zsd99isb9EQ",
        "colab_type": "code",
        "colab": {}
      },
      "source": [
        "learn.fit_one_cycle(4, slice(2e-3/100, 2e-3))"
      ],
      "execution_count": 0,
      "outputs": []
    },
    {
      "cell_type": "code",
      "metadata": {
        "id": "atNWNKDFPbuI",
        "colab_type": "code",
        "colab": {}
      },
      "source": [
        "learn.fit_one_cycle(4, slice(2e-3/100, 2e-3))"
      ],
      "execution_count": 0,
      "outputs": []
    },
    {
      "cell_type": "code",
      "metadata": {
        "id": "rKrBTZ0T1uVA",
        "colab_type": "code",
        "colab": {}
      },
      "source": [
        "learn.fit_one_cycle(4, slice(2e-3/100, 2e-3))"
      ],
      "execution_count": 0,
      "outputs": []
    },
    {
      "cell_type": "code",
      "metadata": {
        "id": "ajQC6WDg1yA9",
        "colab_type": "code",
        "colab": {}
      },
      "source": [
        "learn.fit_one_cycle(4, slice(2e-3/100, 2e-3))"
      ],
      "execution_count": 0,
      "outputs": []
    },
    {
      "cell_type": "code",
      "metadata": {
        "id": "KKydb0B4BKGk",
        "colab_type": "code",
        "colab": {}
      },
      "source": [
        "learn.fit_one_cycle(4, slice(2e-3/100, 2e-3))"
      ],
      "execution_count": 0,
      "outputs": []
    },
    {
      "cell_type": "code",
      "metadata": {
        "id": "T2APKtFKBpGY",
        "colab_type": "code",
        "colab": {}
      },
      "source": [
        "learn.fit_one_cycle(4, slice(2e-3/100, 2e-3))"
      ],
      "execution_count": 0,
      "outputs": []
    },
    {
      "cell_type": "code",
      "metadata": {
        "id": "qtTypA1sPgLU",
        "colab_type": "code",
        "colab": {}
      },
      "source": [
        "learn.fit_one_cycle(2, slice(2e-3/100, 2e-3))"
      ],
      "execution_count": 0,
      "outputs": []
    },
    {
      "cell_type": "code",
      "metadata": {
        "id": "b242kBsTUp9Y",
        "colab_type": "code",
        "colab": {}
      },
      "source": [
        "learn.fit_one_cycle(2, slice(2e-3/100, 2e-3))"
      ],
      "execution_count": 0,
      "outputs": []
    },
    {
      "cell_type": "code",
      "metadata": {
        "id": "Duwf1Ih5VeDZ",
        "colab_type": "code",
        "colab": {}
      },
      "source": [
        "learn.fit_one_cycle(1, slice(2e-3/100, 2e-3))"
      ],
      "execution_count": 0,
      "outputs": []
    },
    {
      "cell_type": "code",
      "metadata": {
        "id": "c65d-osfDUXm",
        "colab_type": "code",
        "colab": {}
      },
      "source": [
        "# save the best model\n",
        "\n",
        "learn.save_encoder('tuning_pubmed_bigtweet_overlap_0_last')"
      ],
      "execution_count": 0,
      "outputs": []
    },
    {
      "cell_type": "markdown",
      "metadata": {
        "id": "rCwZU0E2RgM6",
        "colab_type": "text"
      },
      "source": [
        "# Part three: Predict on the test dataset"
      ]
    },
    {
      "cell_type": "code",
      "metadata": {
        "id": "gDm72c-dOu7d",
        "colab_type": "code",
        "colab": {}
      },
      "source": [
        "# use the test data for prediction\n",
        "\n",
        "preds, y = learn.get_preds(DatasetType.Test)"
      ],
      "execution_count": 0,
      "outputs": []
    },
    {
      "cell_type": "code",
      "metadata": {
        "id": "6tFSQcsWPvxn",
        "colab_type": "code",
        "colab": {}
      },
      "source": [
        "predictions, *_ = learn.get_preds(DatasetType.Test)\n",
        "labels = np.argmax(predictions, 1)\n",
        "predict_list = labels.tolist()\n",
        "standard_list = test[0].tolist()\n",
        "\n",
        "print(len(predict_list))\n",
        "print(len(standard_list))\n",
        "\n",
        "print(predict_list)\n",
        "print(standard_list)"
      ],
      "execution_count": 0,
      "outputs": []
    },
    {
      "cell_type": "code",
      "metadata": {
        "id": "XIC4zufnMxtq",
        "colab_type": "code",
        "colab": {}
      },
      "source": [
        "correct_num = 0\n",
        "\n",
        "for i in range(0, len(standard_list)):\n",
        "  if predict_list[i] == standard_list[i]:\n",
        "    correct_num = correct_num+1\n",
        "  else:\n",
        "    pass\n",
        "print(correct_num)\n",
        "\n",
        "predict_accuracy = correct_num/len(predict_list)\n",
        "print(predict_accuracy)"
      ],
      "execution_count": 0,
      "outputs": []
    }
  ]
}