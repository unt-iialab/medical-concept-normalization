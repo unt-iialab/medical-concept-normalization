{
  "nbformat": 4,
  "nbformat_minor": 0,
  "metadata": {
    "colab": {
      "name": "twadr_pubmed_tweet_overlap_10.ipynb",
      "provenance": [],
      "collapsed_sections": [],
      "toc_visible": true,
      "include_colab_link": true
    },
    "kernelspec": {
      "name": "python3",
      "display_name": "Python 3"
    },
    "accelerator": "TPU"
  },
  "cells": [
    {
      "cell_type": "markdown",
      "metadata": {
        "id": "view-in-github",
        "colab_type": "text"
      },
      "source": [
        "<a href=\"https://colab.research.google.com/github/unt-iialab/medical-concept-normalization/blob/master/TwADR-L/Code/twadr_pubmed_tweet_overlap_10.ipynb\" target=\"_parent\"><img src=\"https://colab.research.google.com/assets/colab-badge.svg\" alt=\"Open In Colab\"/></a>"
      ]
    },
    {
      "cell_type": "code",
      "metadata": {
        "id": "adSi6i2-dWxy",
        "colab_type": "code",
        "colab": {}
      },
      "source": [
        "import os"
      ],
      "execution_count": 0,
      "outputs": []
    },
    {
      "cell_type": "code",
      "metadata": {
        "id": "E7xYCRGPjd9B",
        "colab_type": "code",
        "colab": {}
      },
      "source": [
        "base_dir = 'medical-concept-normalization'"
      ],
      "execution_count": 0,
      "outputs": []
    },
    {
      "cell_type": "code",
      "metadata": {
        "id": "yvIW3aUDjYNS",
        "colab_type": "code",
        "colab": {}
      },
      "source": [
        "if os.path.exists('medical-concept-normalization'):\n",
        "  print('folder exist')\n",
        "else:\n",
        "  os.mkdir(base_dir)"
      ],
      "execution_count": 0,
      "outputs": []
    },
    {
      "cell_type": "code",
      "metadata": {
        "id": "es-FFLlfk6SG",
        "colab_type": "code",
        "colab": {}
      },
      "source": [
        "if os.path.exists('medical-concept-normalization/data_collection'):\n",
        "  print('folder exist')\n",
        "else:\n",
        "  os.mkdir('medical-concept-normalization/data_collection')"
      ],
      "execution_count": 0,
      "outputs": []
    },
    {
      "cell_type": "markdown",
      "metadata": {
        "id": "0R-Guw_VoJXm",
        "colab_type": "text"
      },
      "source": [
        "**Install fastai and clone the fastai for text classification**\n",
        "\n"
      ]
    },
    {
      "cell_type": "code",
      "metadata": {
        "id": "QVZa3Z0PmHFH",
        "colab_type": "code",
        "outputId": "3fa28cd1-d43b-4861-d949-6f1316b8f0a4",
        "colab": {
          "base_uri": "https://localhost:8080/",
          "height": 89
        }
      },
      "source": [
        "!curl https://course-v3.fast.ai/setup/colab | bash"
      ],
      "execution_count": 5,
      "outputs": [
        {
          "output_type": "stream",
          "text": [
            "  % Total    % Received % Xferd  Average Speed   Time    Time     Time  Current\n",
            "                                 Dload  Upload   Total   Spent    Left  Speed\n",
            "  0     0    0     0    0     0      0      0 --:--:--  0:00:04 --:--:--     0curl: (6) Could not resolve host: course-v3.fast.ai\n"
          ],
          "name": "stdout"
        }
      ]
    },
    {
      "cell_type": "code",
      "metadata": {
        "id": "_FBFFEBrmJC0",
        "colab_type": "code",
        "outputId": "315d545f-92b7-45b0-d387-7d256f5549f3",
        "colab": {
          "base_uri": "https://localhost:8080/",
          "height": 87
        }
      },
      "source": [
        "!git clone https://github.com/wshuyi/demo-nlp-classification-fastai.git"
      ],
      "execution_count": 6,
      "outputs": [
        {
          "output_type": "stream",
          "text": [
            "Cloning into 'demo-nlp-classification-fastai'...\n",
            "remote: Enumerating objects: 9, done.\u001b[K\n",
            "remote: Total 9 (delta 0), reused 0 (delta 0), pack-reused 9\u001b[K\n",
            "Unpacking objects: 100% (9/9), done.\n"
          ],
          "name": "stdout"
        }
      ]
    },
    {
      "cell_type": "code",
      "metadata": {
        "id": "66zfh_JqmWMU",
        "colab_type": "code",
        "colab": {}
      },
      "source": [
        "from fastai import *\n",
        "from fastai.text import *"
      ],
      "execution_count": 0,
      "outputs": []
    },
    {
      "cell_type": "markdown",
      "metadata": {
        "id": "mNIw-yALdBU9",
        "colab_type": "text"
      },
      "source": [
        "**Set the path of the data collections**"
      ]
    },
    {
      "cell_type": "code",
      "metadata": {
        "id": "pzH7VMh4mqCL",
        "colab_type": "code",
        "colab": {}
      },
      "source": [
        "path = Path('medical-concept-normalization/data_collection')"
      ],
      "execution_count": 0,
      "outputs": []
    },
    {
      "cell_type": "code",
      "metadata": {
        "id": "r8cdqCa-Oeog",
        "colab_type": "code",
        "colab": {}
      },
      "source": [
        "# datasets\n",
        "\n",
        "train_csv = 'https://raw.githubusercontent.com/unt-iialab/medical-concept-normalization/master/TwADR-L/Experiment%20(Change%20test%20dataset)/Training%20set/tward_training_folder_0.csv'\n",
        "valid_csv = 'https://raw.githubusercontent.com/unt-iialab/medical-concept-normalization/master/TwADR-L/Experiment%20(Change%20test%20dataset)/Validation%20set/tward_validation_folder_0.csv'\n",
        "test_csv = 'https://raw.githubusercontent.com/unt-iialab/medical-concept-normalization/master/TwADR-L/Experiment%20(Change%20test%20dataset)/Testing%20set/tward_testing_overlap_10.csv'\n",
        "fine_tuning_data = 'fine_tuning_language_model_pubmed_bigtweet_mixed.csv'"
      ],
      "execution_count": 0,
      "outputs": []
    },
    {
      "cell_type": "code",
      "metadata": {
        "id": "b8fjI6yyn4aS",
        "colab_type": "code",
        "outputId": "cd99baa2-5c32-4f76-f7c3-48d182a474d8",
        "colab": {
          "base_uri": "https://localhost:8080/",
          "height": 121
        }
      },
      "source": [
        "# training data set\n",
        "train = pd.read_csv(train_csv, header=None)\n",
        "print(train.head())\n",
        "\n",
        "# validating data set\n",
        "valid = pd.read_csv(valid_csv,header=None)\n",
        "# valid.head()\n",
        "\n",
        "# testing data set\n",
        "test = pd.read_csv(test_csv,header=None)\n",
        "# test.head()"
      ],
      "execution_count": 10,
      "outputs": [
        {
          "output_type": "stream",
          "text": [
            "      0                      1\n",
            "0  1945    Adrenergic syndrome\n",
            "1  1586  Hearing Loss, Partial\n",
            "2   580          Typhoid Fever\n",
            "3   784      Carcinoma of lung\n",
            "4   660              Pregnancy\n"
          ],
          "name": "stdout"
        }
      ]
    },
    {
      "cell_type": "code",
      "metadata": {
        "id": "Vo-YNvVYoaH6",
        "colab_type": "code",
        "outputId": "97af0789-be9d-4f1e-c560-344fbbb161e4",
        "colab": {
          "base_uri": "https://localhost:8080/",
          "height": 17
        }
      },
      "source": [
        "# Creating DataBunch for language modelling\n",
        "data_lm = TextLMDataBunch.from_csv(path, fine_tuning_data)"
      ],
      "execution_count": 12,
      "outputs": [
        {
          "output_type": "display_data",
          "data": {
            "text/html": [
              ""
            ],
            "text/plain": [
              "<IPython.core.display.HTML object>"
            ]
          },
          "metadata": {
            "tags": []
          }
        },
        {
          "output_type": "display_data",
          "data": {
            "text/html": [
              ""
            ],
            "text/plain": [
              "<IPython.core.display.HTML object>"
            ]
          },
          "metadata": {
            "tags": []
          }
        }
      ]
    },
    {
      "cell_type": "code",
      "metadata": {
        "id": "1ScY9afDsnvE",
        "colab_type": "code",
        "colab": {}
      },
      "source": [
        "# Creating DataBunch for classification\n",
        "\n",
        "# data_clas = TextClasDataBunch.from_df(path, train, valid, test, vocab=data_lm.train_ds.vocab, bs=128)"
      ],
      "execution_count": 0,
      "outputs": []
    },
    {
      "cell_type": "code",
      "metadata": {
        "id": "gzrSdQcvey9p",
        "colab_type": "code",
        "outputId": "e1f43958-6d42-4bba-a3eb-1e7e0209d959",
        "colab": {
          "base_uri": "https://localhost:8080/",
          "height": 17
        }
      },
      "source": [
        "data_clas = TextClasDataBunch.from_df(path, train, valid, vocab=data_lm.train_ds.vocab, bs=128)"
      ],
      "execution_count": 14,
      "outputs": [
        {
          "output_type": "display_data",
          "data": {
            "text/html": [
              ""
            ],
            "text/plain": [
              "<IPython.core.display.HTML object>"
            ]
          },
          "metadata": {
            "tags": []
          }
        },
        {
          "output_type": "display_data",
          "data": {
            "text/html": [
              ""
            ],
            "text/plain": [
              "<IPython.core.display.HTML object>"
            ]
          },
          "metadata": {
            "tags": []
          }
        }
      ]
    },
    {
      "cell_type": "code",
      "metadata": {
        "id": "MD27Tf0Ke3ou",
        "colab_type": "code",
        "outputId": "c7bd5048-cb81-4781-fefa-38344ed62f9c",
        "colab": {
          "base_uri": "https://localhost:8080/",
          "height": 17
        }
      },
      "source": [
        "data_clas.add_test(test,label=0)"
      ],
      "execution_count": 15,
      "outputs": [
        {
          "output_type": "display_data",
          "data": {
            "text/html": [
              ""
            ],
            "text/plain": [
              "<IPython.core.display.HTML object>"
            ]
          },
          "metadata": {
            "tags": []
          }
        }
      ]
    },
    {
      "cell_type": "code",
      "metadata": {
        "id": "-dpjnk_rstwk",
        "colab_type": "code",
        "colab": {}
      },
      "source": [
        "data_lm.save()\n",
        "data_clas.save()"
      ],
      "execution_count": 0,
      "outputs": []
    },
    {
      "cell_type": "code",
      "metadata": {
        "id": "4OkiJa36sw5s",
        "colab_type": "code",
        "outputId": "28e362d9-083a-41bc-815c-d926aaf96a2e",
        "colab": {
          "base_uri": "https://localhost:8080/",
          "height": 1000
        }
      },
      "source": [
        "data_lm.train_ds.vocab.itos"
      ],
      "execution_count": 17,
      "outputs": [
        {
          "output_type": "execute_result",
          "data": {
            "text/plain": [
              "['xxunk',\n",
              " 'xxpad',\n",
              " 'xxbos',\n",
              " 'xxeos',\n",
              " 'xxfld',\n",
              " 'xxmaj',\n",
              " 'xxup',\n",
              " 'xxrep',\n",
              " 'xxwrep',\n",
              " 'the',\n",
              " 'of',\n",
              " 'and',\n",
              " 'in',\n",
              " 'to',\n",
              " 'a',\n",
              " 'for',\n",
              " 'with',\n",
              " 'was',\n",
              " 'diclofenac',\n",
              " 'were',\n",
              " 'on',\n",
              " 'is',\n",
              " 'rt',\n",
              " 'sodium',\n",
              " 'by',\n",
              " 'that',\n",
              " 'as',\n",
              " 'at',\n",
              " 'patients',\n",
              " 'or',\n",
              " 'this',\n",
              " 'from',\n",
              " 'drug',\n",
              " 'you',\n",
              " 'mg',\n",
              " 'group',\n",
              " 'be',\n",
              " 'i',\n",
              " 'study',\n",
              " 'disease',\n",
              " 'treatment',\n",
              " 'are',\n",
              " 'pain',\n",
              " 'an',\n",
              " 'after',\n",
              " 'amp',\n",
              " 'it',\n",
              " 'not',\n",
              " 'release',\n",
              " 'have',\n",
              " 'gluten',\n",
              " 'p',\n",
              " 'we',\n",
              " 'than',\n",
              " 'free',\n",
              " 'all',\n",
              " 'new',\n",
              " 'no',\n",
              " 'compared',\n",
              " 'effect',\n",
              " 'more',\n",
              " 'using',\n",
              " 'effects',\n",
              " 'groups',\n",
              " 'both',\n",
              " 'our',\n",
              " 'h',\n",
              " 'your',\n",
              " 'its',\n",
              " 'time',\n",
              " 'between',\n",
              " 'out',\n",
              " 'significantly',\n",
              " 'two',\n",
              " 'about',\n",
              " 'my',\n",
              " 'inflammatory',\n",
              " 'which',\n",
              " 'day',\n",
              " 'these',\n",
              " 'drugs',\n",
              " 'use',\n",
              " 'voltaren',\n",
              " 'significant',\n",
              " 'can',\n",
              " 'but',\n",
              " 'used',\n",
              " 'anti',\n",
              " 'dose',\n",
              " 'placebo',\n",
              " 'has',\n",
              " 'results',\n",
              " 'also',\n",
              " 'potassium',\n",
              " 'what',\n",
              " 'glutenfree',\n",
              " 'one',\n",
              " 's',\n",
              " 'do',\n",
              " 'efficacy',\n",
              " 'may',\n",
              " 'nt',\n",
              " 'there',\n",
              " 'days',\n",
              " 'celiac',\n",
              " 'm',\n",
              " 'ds',\n",
              " 'ml',\n",
              " 'treated',\n",
              " 'showed',\n",
              " 'when',\n",
              " 'w',\n",
              " 'topical',\n",
              " 'now',\n",
              " 'up',\n",
              " 'had',\n",
              " 'oral',\n",
              " 'different',\n",
              " 'administration',\n",
              " 'been',\n",
              " 'c',\n",
              " 'studies',\n",
              " 'via',\n",
              " 'control',\n",
              " 'rats',\n",
              " 'products',\n",
              " 'how',\n",
              " 'concentration',\n",
              " 'well',\n",
              " 'test',\n",
              " 'during',\n",
              " 'found',\n",
              " 'clinical',\n",
              " 'food',\n",
              " 'could',\n",
              " 'induced',\n",
              " 'their',\n",
              " 'non',\n",
              " 'if',\n",
              " 'tablets',\n",
              " 'other',\n",
              " 'ph',\n",
              " 'formulations',\n",
              " 'into',\n",
              " 'first',\n",
              " 'respectively',\n",
              " 'right',\n",
              " 'nsaids',\n",
              " 'who',\n",
              " 'plasma',\n",
              " 'formulation',\n",
              " 'rate',\n",
              " 'post',\n",
              " 'did',\n",
              " 'mean',\n",
              " 'gel',\n",
              " 'hours',\n",
              " 'acid',\n",
              " 'diet',\n",
              " 'high',\n",
              " 'd',\n",
              " 'effective',\n",
              " 'method',\n",
              " 'g',\n",
              " 'solution',\n",
              " 'over',\n",
              " 'those',\n",
              " 'review',\n",
              " 'tip',\n",
              " 'received',\n",
              " 'n',\n",
              " 'three',\n",
              " 'observed',\n",
              " 'adverse',\n",
              " 'controlled',\n",
              " 'blood',\n",
              " 'kg',\n",
              " 'each',\n",
              " 'vitro',\n",
              " 'only',\n",
              " 'data',\n",
              " 'increased',\n",
              " 'analgesic',\n",
              " 'so',\n",
              " 'activity',\n",
              " 'atorvastatin',\n",
              " 'acute',\n",
              " 'single',\n",
              " 'period',\n",
              " 'analysis',\n",
              " 'dblclick',\n",
              " 'patient',\n",
              " 'daily',\n",
              " 'less',\n",
              " 'levels',\n",
              " 'following',\n",
              " 'pic',\n",
              " 'week',\n",
              " 'randomized',\n",
              " 'they',\n",
              " 'why',\n",
              " 'some',\n",
              " 'before',\n",
              " 'however',\n",
              " 'skin',\n",
              " 'l',\n",
              " 'total',\n",
              " 'symptoms',\n",
              " 'concentrations',\n",
              " 'weeks',\n",
              " 'model',\n",
              " 'most',\n",
              " 't',\n",
              " 'lower',\n",
              " 'good',\n",
              " 'low',\n",
              " 'healthy',\n",
              " 'here',\n",
              " 'cells',\n",
              " 'therapy',\n",
              " 'check',\n",
              " 'difference',\n",
              " 'years',\n",
              " 'increase',\n",
              " 'similar',\n",
              " 'will',\n",
              " 'obtained',\n",
              " 'higher',\n",
              " 'evaluated',\n",
              " 'tablet',\n",
              " 'relief',\n",
              " 'postoperative',\n",
              " 'surgery',\n",
              " 'nsaid',\n",
              " 'under',\n",
              " 'double',\n",
              " 'know',\n",
              " 'based',\n",
              " 'should',\n",
              " 'dissolution',\n",
              " 'studied',\n",
              " 'like',\n",
              " 'water',\n",
              " 'renal',\n",
              " 'prepared',\n",
              " 'life',\n",
              " 'get',\n",
              " 'trial',\n",
              " 'me',\n",
              " 'help',\n",
              " 'combination',\n",
              " 'order',\n",
              " 'present',\n",
              " 'vs',\n",
              " 'application',\n",
              " 'while',\n",
              " 'min',\n",
              " 'just',\n",
              " 'events',\n",
              " 'administered',\n",
              " 'any',\n",
              " 'love',\n",
              " 'differences',\n",
              " 'b',\n",
              " 'doses',\n",
              " 'reported',\n",
              " 'four',\n",
              " 'associated',\n",
              " 'does',\n",
              " 'x',\n",
              " 'given',\n",
              " 'cell',\n",
              " 'system',\n",
              " 'subjects',\n",
              " 'developed',\n",
              " 'absorption',\n",
              " 'response',\n",
              " 'reduced',\n",
              " 'performed',\n",
              " 'v',\n",
              " 'conditions',\n",
              " 'great',\n",
              " 're',\n",
              " 'gfb',\n",
              " 'investigated',\n",
              " 'such',\n",
              " 'changes',\n",
              " 'decreased',\n",
              " 'values',\n",
              " 'better',\n",
              " 'nonsteroidal',\n",
              " 'blind',\n",
              " 'people',\n",
              " 'us',\n",
              " 'risk',\n",
              " 'due',\n",
              " 'serum',\n",
              " 'thanks',\n",
              " 'type',\n",
              " 'within',\n",
              " 'containing',\n",
              " 'need',\n",
              " 'measured',\n",
              " 'either',\n",
              " 'phase',\n",
              " 'side',\n",
              " 'safety',\n",
              " 'through',\n",
              " 'inflammation',\n",
              " 'mm',\n",
              " 'being',\n",
              " 'samples',\n",
              " 'properties',\n",
              " 'without',\n",
              " 'included',\n",
              " 'indomethacin',\n",
              " 'auc',\n",
              " 'number',\n",
              " 'posted',\n",
              " 'parameters',\n",
              " 'recipe',\n",
              " 'cholesterol',\n",
              " 'assessed',\n",
              " 'statistically',\n",
              " 'reduction',\n",
              " 'range',\n",
              " 'times',\n",
              " 'related',\n",
              " 'delivery',\n",
              " 'ca',\n",
              " 'show',\n",
              " 'ng',\n",
              " 'heres',\n",
              " 'vivo',\n",
              " 'ratio',\n",
              " 'liquid',\n",
              " 'e',\n",
              " 'compare',\n",
              " 'year',\n",
              " 'medication',\n",
              " 'function',\n",
              " 'scale',\n",
              " 'injection',\n",
              " 'steroidal',\n",
              " 'make',\n",
              " 'k',\n",
              " 'intolerance',\n",
              " 'evaluate',\n",
              " 'therapeutic',\n",
              " 'potential',\n",
              " 'applied',\n",
              " 'oa',\n",
              " 'primary',\n",
              " 'gastrointestinal',\n",
              " 'active',\n",
              " 'size',\n",
              " 'development',\n",
              " 'lipitor',\n",
              " 'many',\n",
              " 'available',\n",
              " 'living',\n",
              " 'best',\n",
              " 'sensitivity',\n",
              " 'form',\n",
              " 'bioavailability',\n",
              " 'minutes',\n",
              " 'health',\n",
              " 'level',\n",
              " 'archives',\n",
              " 'tissue',\n",
              " 'osteoarthritis',\n",
              " 'sustained',\n",
              " '30',\n",
              " 'then',\n",
              " 'dependent',\n",
              " 'eat',\n",
              " 'addition',\n",
              " 'tips',\n",
              " 'visual',\n",
              " 'read',\n",
              " 'tolerability',\n",
              " 'cox',\n",
              " 'very',\n",
              " 'human',\n",
              " '\\r \\n ',\n",
              " 'knee',\n",
              " 'matrix',\n",
              " 'arthritis',\n",
              " 'because',\n",
              " 'determined',\n",
              " 'gastric',\n",
              " 'jennieo',\n",
              " 'greater',\n",
              " 'scores',\n",
              " 'important',\n",
              " 'baseline',\n",
              " 'severe',\n",
              " 'article',\n",
              " 'action',\n",
              " 'demonstrated',\n",
              " 'coated',\n",
              " 'normal',\n",
              " 'chronic',\n",
              " 'change',\n",
              " 'indicated',\n",
              " 'going',\n",
              " 'per',\n",
              " 'news',\n",
              " 'months',\n",
              " 'end',\n",
              " 'na',\n",
              " 'agent',\n",
              " 'revealed',\n",
              " 'aqueous',\n",
              " 'cd',\n",
              " 'polymer',\n",
              " 'process',\n",
              " 'volunteers',\n",
              " 'long',\n",
              " 'chicken',\n",
              " 'same',\n",
              " 'mice',\n",
              " 'inhibitor',\n",
              " 'swelling',\n",
              " 'tested',\n",
              " 'today',\n",
              " 'further',\n",
              " 'mechanism',\n",
              " 'area',\n",
              " 'migraine',\n",
              " 'weight',\n",
              " 'caused',\n",
              " 'dosage',\n",
              " 'presence',\n",
              " 'safe',\n",
              " 'ii',\n",
              " 'age',\n",
              " 'alone',\n",
              " 'ibuprofen',\n",
              " 'f',\n",
              " 'provide',\n",
              " 'improvement',\n",
              " 'formation',\n",
              " 'case',\n",
              " 'cm',\n",
              " 'tolerated',\n",
              " 'relative',\n",
              " 'think',\n",
              " 'treatments',\n",
              " 'aim',\n",
              " 'local',\n",
              " 'animals',\n",
              " 'follow',\n",
              " 'among',\n",
              " 'six',\n",
              " '1',\n",
              " 'suggest',\n",
              " 'standard',\n",
              " 'decrease',\n",
              " 'shown',\n",
              " 'intensity',\n",
              " 'conducted',\n",
              " 'hour',\n",
              " 'diagnosis',\n",
              " 'way',\n",
              " 'trials',\n",
              " 'part',\n",
              " 'inhibition',\n",
              " 'permeation',\n",
              " 'cases',\n",
              " '\\r \\n \\r \\n ',\n",
              " 'made',\n",
              " 'much',\n",
              " 'experimental',\n",
              " 'big',\n",
              " 'whereas',\n",
              " 'eating',\n",
              " 'profile',\n",
              " 'share',\n",
              " 'followed',\n",
              " 'go',\n",
              " 'vehicle',\n",
              " 'eye',\n",
              " 'randomly',\n",
              " '2',\n",
              " 'content',\n",
              " 'evaluation',\n",
              " 'care',\n",
              " 'various',\n",
              " 'diagnosed',\n",
              " 'research',\n",
              " 'common',\n",
              " 'versus',\n",
              " 'including',\n",
              " 'determine',\n",
              " 'degrees',\n",
              " 'five',\n",
              " 'improved',\n",
              " 'pizza',\n",
              " 'damage',\n",
              " 'exposure',\n",
              " 'product',\n",
              " 'combined',\n",
              " 'moderate',\n",
              " 'protein',\n",
              " 'divided',\n",
              " 'reaction',\n",
              " 'profiles',\n",
              " 'take',\n",
              " 'pressure',\n",
              " 'rat',\n",
              " 'old',\n",
              " 'according',\n",
              " 'evidence',\n",
              " 'synthesis',\n",
              " 'plus',\n",
              " 'pharmaceutical',\n",
              " 'would',\n",
              " 'although',\n",
              " 'body',\n",
              " 'awareness',\n",
              " 'growth',\n",
              " 'male',\n",
              " 'please',\n",
              " 'find',\n",
              " 'pharmacokinetic',\n",
              " 'systemic',\n",
              " 'onset',\n",
              " 'corneal',\n",
              " 'vas',\n",
              " 'multiple',\n",
              " 'surface',\n",
              " 'linked',\n",
              " 'microspheres',\n",
              " 'beads',\n",
              " 'participants',\n",
              " 'pre',\n",
              " 'u',\n",
              " 'ever',\n",
              " 'want',\n",
              " 'duration',\n",
              " 'agents',\n",
              " 'o',\n",
              " 'amount',\n",
              " 'score',\n",
              " 'carried',\n",
              " 'secondary',\n",
              " 'produced',\n",
              " 'achieved',\n",
              " 'efficiency',\n",
              " 'resulted',\n",
              " 'overall',\n",
              " 'analgesia',\n",
              " 'term',\n",
              " 'blog',\n",
              " 'month',\n",
              " 'where',\n",
              " 'r',\n",
              " 'peak',\n",
              " 'least',\n",
              " '4',\n",
              " 'design',\n",
              " 'naproxen',\n",
              " 'misoprostol',\n",
              " 'dr',\n",
              " 'still',\n",
              " 'global',\n",
              " 'cross',\n",
              " 'rapid',\n",
              " 'specific',\n",
              " 'happy',\n",
              " 'comparison',\n",
              " 'muscle',\n",
              " 'state',\n",
              " 'work',\n",
              " 'thus',\n",
              " 'third',\n",
              " 'technique',\n",
              " 'against',\n",
              " 'expression',\n",
              " 'examined',\n",
              " 'rates',\n",
              " 'receiving',\n",
              " 'complete',\n",
              " 'quality',\n",
              " 'commercial',\n",
              " 'second',\n",
              " 'models',\n",
              " 'see',\n",
              " 'paracetamol',\n",
              " 'saline',\n",
              " 'enteric',\n",
              " 'medical',\n",
              " 'women',\n",
              " 'cause',\n",
              " 'urine',\n",
              " 'assessment',\n",
              " 'sensitive',\n",
              " 'recorded',\n",
              " 'edema',\n",
              " 'might',\n",
              " 'diffusion',\n",
              " 'temperature',\n",
              " 'reference',\n",
              " 'even',\n",
              " 'value',\n",
              " 'th',\n",
              " 'ci',\n",
              " 'inhibited',\n",
              " 'pellets',\n",
              " 'rofecoxib',\n",
              " 'them',\n",
              " 'detection',\n",
              " 'dic',\n",
              " 'current',\n",
              " 'alternative',\n",
              " 'preparation',\n",
              " 'considered',\n",
              " 'methods',\n",
              " 'physical',\n",
              " 'gf',\n",
              " 'solid',\n",
              " 'wheat',\n",
              " 'maximum',\n",
              " 'findings',\n",
              " 'lesions',\n",
              " 'superior',\n",
              " 'early',\n",
              " 'intestinal',\n",
              " '5',\n",
              " 'membrane',\n",
              " 'every',\n",
              " 'patch',\n",
              " 'novel',\n",
              " 'medium',\n",
              " 'cmax',\n",
              " 'small',\n",
              " 'determination',\n",
              " 'analyzed',\n",
              " 'prostaglandin',\n",
              " 'characterized',\n",
              " 'indicate',\n",
              " 'cookbook',\n",
              " 'interaction',\n",
              " 'possible',\n",
              " 'co',\n",
              " 'whether',\n",
              " 'investigate',\n",
              " 'children',\n",
              " 'twice',\n",
              " 'others',\n",
              " 'soup',\n",
              " 'complex',\n",
              " 'incidence',\n",
              " 'beta',\n",
              " 'volume',\n",
              " 'max',\n",
              " 'looking',\n",
              " 'aspirin',\n",
              " 'friends',\n",
              " 'loaded',\n",
              " 'site',\n",
              " 'phosphate',\n",
              " 'needed',\n",
              " 'extent',\n",
              " 'antiinflammatory',\n",
              " 'story',\n",
              " 'initial',\n",
              " 'joint',\n",
              " 'microg',\n",
              " 'buffer',\n",
              " 'de',\n",
              " 'ocular',\n",
              " 'got',\n",
              " 'index',\n",
              " 'responses',\n",
              " 'comparable',\n",
              " 'nm',\n",
              " 'provided',\n",
              " 'medications',\n",
              " 'exhibited',\n",
              " 'rabbits',\n",
              " 'liver',\n",
              " 'characteristics',\n",
              " 'super',\n",
              " 'therefore',\n",
              " 'bone',\n",
              " 'affect',\n",
              " 'intramuscular',\n",
              " 'tests',\n",
              " 'released',\n",
              " 'additional',\n",
              " 'hplc',\n",
              " 'enhanced',\n",
              " 'easy',\n",
              " 'assess',\n",
              " 'outcome',\n",
              " 'performance',\n",
              " '2014',\n",
              " 'hp',\n",
              " 'brain',\n",
              " 'transdermal',\n",
              " 'rheumatoid',\n",
              " 'delicious',\n",
              " 'bread',\n",
              " 'vascular',\n",
              " 'simple',\n",
              " 'once',\n",
              " 'pge',\n",
              " 'eyes',\n",
              " 'solutions',\n",
              " 'influence',\n",
              " 'solubility',\n",
              " 'terms',\n",
              " 'tissues',\n",
              " 'flow',\n",
              " 'degree',\n",
              " 'production',\n",
              " 'few',\n",
              " 'crossover',\n",
              " 'try',\n",
              " 'last',\n",
              " 'thank',\n",
              " 'gi',\n",
              " 'since',\n",
              " 'capsules',\n",
              " 'autographed',\n",
              " 'too',\n",
              " 'faster',\n",
              " 'treat',\n",
              " 'modified',\n",
              " 'event',\n",
              " 'forms',\n",
              " 'cardiovascular',\n",
              " 'open',\n",
              " 'calcium',\n",
              " 'oil',\n",
              " 'clinically',\n",
              " 'increasing',\n",
              " 'top',\n",
              " 'affected',\n",
              " 'receive',\n",
              " 'inhibitors',\n",
              " 'chitosan',\n",
              " 'taking',\n",
              " 'foods',\n",
              " 've',\n",
              " 'penetration',\n",
              " 'learn',\n",
              " 'factor',\n",
              " 'objective',\n",
              " 'alpha',\n",
              " 'required',\n",
              " 'extraction',\n",
              " 'point',\n",
              " 'mild',\n",
              " 'next',\n",
              " 'several',\n",
              " 'preparations',\n",
              " 'lipid',\n",
              " 'analgesics',\n",
              " 'market',\n",
              " 'testing',\n",
              " 'across',\n",
              " 'celecoxib',\n",
              " 'back',\n",
              " 'systems',\n",
              " 'having',\n",
              " 'useful',\n",
              " 'another',\n",
              " 'il',\n",
              " 'information',\n",
              " 'percentage',\n",
              " 'kinetics',\n",
              " 'confirmed',\n",
              " 'role',\n",
              " 'capsule',\n",
              " 'options',\n",
              " 'chocolate',\n",
              " 'really',\n",
              " 'especially',\n",
              " 'list',\n",
              " 'giveaway',\n",
              " 'aged',\n",
              " 'drops',\n",
              " 'management',\n",
              " 'fluid',\n",
              " 'ketorolac',\n",
              " 'special',\n",
              " 'issues',\n",
              " 'prolonged',\n",
              " 'support',\n",
              " 'short',\n",
              " 'interesting',\n",
              " 'experience',\n",
              " 'america',\n",
              " 'major',\n",
              " 'later',\n",
              " 'operative',\n",
              " '10',\n",
              " 'collected',\n",
              " 'hpmc',\n",
              " 'cream',\n",
              " 'serious',\n",
              " 'start',\n",
              " 'syndrome',\n",
              " 'coeliac',\n",
              " 'injury',\n",
              " 'cs',\n",
              " 'eudragit',\n",
              " 'experiments',\n",
              " 'sd',\n",
              " 'cyclooxygenase',\n",
              " 'activities',\n",
              " 'scanning',\n",
              " 'flare',\n",
              " 'recipes',\n",
              " 'cataract',\n",
              " 'factors',\n",
              " 'known',\n",
              " 'positive',\n",
              " 'microm',\n",
              " 'able',\n",
              " 'randomised',\n",
              " 'quinoa',\n",
              " 'effectiveness',\n",
              " 'kids',\n",
              " 'clearance',\n",
              " 'stability',\n",
              " 'ldl',\n",
              " 'seen',\n",
              " 'acetaminophen',\n",
              " 'excretion',\n",
              " 'yes',\n",
              " 'limit',\n",
              " 'getting',\n",
              " 'dpsgc',\n",
              " 'signs',\n",
              " 'reduce',\n",
              " 'improve',\n",
              " 'population',\n",
              " 'develop',\n",
              " 'interview',\n",
              " 'involved',\n",
              " 'chloride',\n",
              " 'rescue',\n",
              " 'structure',\n",
              " 'avoid',\n",
              " 'book',\n",
              " 'individual',\n",
              " 'dcf',\n",
              " 'ability',\n",
              " 'headache',\n",
              " 'bowl',\n",
              " 'sr',\n",
              " 'hr',\n",
              " 'his',\n",
              " 'urinary',\n",
              " 'laser',\n",
              " 'ak',\n",
              " 'detected',\n",
              " 'child',\n",
              " 'proposed',\n",
              " 'dfs',\n",
              " 'average',\n",
              " 'approximately',\n",
              " 'assay',\n",
              " 'aes',\n",
              " 'electron',\n",
              " 'creatinine',\n",
              " 'page',\n",
              " 'death',\n",
              " 'morning',\n",
              " 'feel',\n",
              " 'df',\n",
              " 'arthrotec',\n",
              " 'occurred',\n",
              " 'always',\n",
              " 'cambia',\n",
              " 'intravenous',\n",
              " 'loading',\n",
              " 'suggested',\n",
              " 'salt',\n",
              " 'laboratory',\n",
              " 'behavior',\n",
              " 'microscopy',\n",
              " 'diseases',\n",
              " 'dosing',\n",
              " 'zero',\n",
              " 'breakfast',\n",
              " 'he',\n",
              " 'orally',\n",
              " 'spectroscopy',\n",
              " 'binding',\n",
              " 'twenty',\n",
              " 'selective',\n",
              " 'sample',\n",
              " 'piroxicam',\n",
              " 'hospital',\n",
              " 'criteria',\n",
              " 'allergy',\n",
              " 'ophthalmic',\n",
              " 'particle',\n",
              " 'info',\n",
              " 'hand',\n",
              " 'variables',\n",
              " 'analogue',\n",
              " 'tmax',\n",
              " 'relaxation',\n",
              " 'reducing',\n",
              " 'selected',\n",
              " 'breaking',\n",
              " 'experienced',\n",
              " 'kcnq',\n",
              " 'molecular',\n",
              " 'stem',\n",
              " 'highly',\n",
              " 'ask',\n",
              " 'alginate',\n",
              " 'condition',\n",
              " 'must',\n",
              " 'slow',\n",
              " 'median',\n",
              " 'media',\n",
              " 'percent',\n",
              " 'large',\n",
              " 'curve',\n",
              " 'fast',\n",
              " 'injected',\n",
              " 'density',\n",
              " 'distribution',\n",
              " 'recommended',\n",
              " 'eight',\n",
              " 'generic',\n",
              " 'result',\n",
              " 'seven',\n",
              " 'recently',\n",
              " 'chromatography',\n",
              " 'female',\n",
              " 'established',\n",
              " 'dexamethasone',\n",
              " 'designed',\n",
              " 'activation',\n",
              " 'off',\n",
              " 'metabolism',\n",
              " 'molar',\n",
              " 'adult',\n",
              " 'community',\n",
              " 'toxicity',\n",
              " 'medicine',\n",
              " 'measurements',\n",
              " 'hip',\n",
              " 'assigned',\n",
              " 'link',\n",
              " 'prior',\n",
              " 'world',\n",
              " 'peg',\n",
              " 'fed',\n",
              " 'coating',\n",
              " 'respect',\n",
              " 'outcomes',\n",
              " 'own',\n",
              " 'channel',\n",
              " 'procedure',\n",
              " 'permeability',\n",
              " 'report',\n",
              " 'differential',\n",
              " 'live',\n",
              " 'ty',\n",
              " 'her',\n",
              " 'likely',\n",
              " 'collagen',\n",
              " 'widely',\n",
              " 'analog',\n",
              " 'postoperatively',\n",
              " 'reasons',\n",
              " 'pharmacokinetics',\n",
              " 'half',\n",
              " 'independent',\n",
              " 'measures',\n",
              " 'convention',\n",
              " 'conventional',\n",
              " 'statins',\n",
              " 'potent',\n",
              " 'direct',\n",
              " 'central',\n",
              " 'mt',\n",
              " 'lowering',\n",
              " 'linear',\n",
              " 'equivalent',\n",
              " 'examination',\n",
              " 'parallel',\n",
              " 'sunday',\n",
              " 'validated',\n",
              " 'plant',\n",
              " 'ray',\n",
              " 'often',\n",
              " '3',\n",
              " 'statin',\n",
              " 'series',\n",
              " ...]"
            ]
          },
          "metadata": {
            "tags": []
          },
          "execution_count": 17
        }
      ]
    },
    {
      "cell_type": "code",
      "metadata": {
        "id": "yPWr03mls3VT",
        "colab_type": "code",
        "outputId": "8d28926b-76e9-4bfe-afa7-bbfa2350a67b",
        "colab": {
          "base_uri": "https://localhost:8080/",
          "height": 17
        }
      },
      "source": [
        "model_path = path/'models'\n",
        "model_path.mkdir(exist_ok=True)\n",
        "url = 'http://files.fast.ai/models/wt103_v1/'\n",
        "download_url(f'{url}lstm_wt103.pth', model_path/'lstm_wt103.pth')\n",
        "download_url(f'{url}itos_wt103.pkl', model_path/'itos_wt103.pkl')"
      ],
      "execution_count": 18,
      "outputs": [
        {
          "output_type": "display_data",
          "data": {
            "text/html": [
              ""
            ],
            "text/plain": [
              "<IPython.core.display.HTML object>"
            ]
          },
          "metadata": {
            "tags": []
          }
        },
        {
          "output_type": "display_data",
          "data": {
            "text/html": [
              ""
            ],
            "text/plain": [
              "<IPython.core.display.HTML object>"
            ]
          },
          "metadata": {
            "tags": []
          }
        }
      ]
    },
    {
      "cell_type": "code",
      "metadata": {
        "id": "JRzvWg8RtGGr",
        "colab_type": "code",
        "outputId": "c4e96c7d-1634-4e3d-9451-8afe4e9a1370",
        "colab": {
          "base_uri": "https://localhost:8080/",
          "height": 35
        }
      },
      "source": [
        "learn = language_model_learner(data_lm, AWD_LSTM, drop_mult=0.5)"
      ],
      "execution_count": 19,
      "outputs": [
        {
          "output_type": "stream",
          "text": [
            "Downloading https://s3.amazonaws.com/fast-ai-modelzoo/wt103-fwd\n"
          ],
          "name": "stdout"
        },
        {
          "output_type": "display_data",
          "data": {
            "text/html": [
              ""
            ],
            "text/plain": [
              "<IPython.core.display.HTML object>"
            ]
          },
          "metadata": {
            "tags": []
          }
        }
      ]
    },
    {
      "cell_type": "code",
      "metadata": {
        "id": "xKK7GeBev7Xn",
        "colab_type": "code",
        "outputId": "7018f8e7-3c55-4c49-f113-14fd290a5f0a",
        "colab": {
          "base_uri": "https://localhost:8080/",
          "height": 79
        }
      },
      "source": [
        "learn.fit_one_cycle(1, 1e-2)"
      ],
      "execution_count": 20,
      "outputs": [
        {
          "output_type": "display_data",
          "data": {
            "text/html": [
              "<table border=\"1\" class=\"dataframe\">\n",
              "  <thead>\n",
              "    <tr style=\"text-align: left;\">\n",
              "      <th>epoch</th>\n",
              "      <th>train_loss</th>\n",
              "      <th>valid_loss</th>\n",
              "      <th>accuracy</th>\n",
              "      <th>time</th>\n",
              "    </tr>\n",
              "  </thead>\n",
              "  <tbody>\n",
              "    <tr>\n",
              "      <td>0</td>\n",
              "      <td>5.196346</td>\n",
              "      <td>4.617420</td>\n",
              "      <td>0.252465</td>\n",
              "      <td>22:11</td>\n",
              "    </tr>\n",
              "  </tbody>\n",
              "</table>"
            ],
            "text/plain": [
              "<IPython.core.display.HTML object>"
            ]
          },
          "metadata": {
            "tags": []
          }
        }
      ]
    },
    {
      "cell_type": "code",
      "metadata": {
        "id": "iB7rHGQCwd12",
        "colab_type": "code",
        "colab": {
          "base_uri": "https://localhost:8080/",
          "height": 79
        },
        "outputId": "d4388ea2-dd28-4cde-fbef-fd32fbb67742"
      },
      "source": [
        "learn.fit_one_cycle(1, 1e-2)"
      ],
      "execution_count": 21,
      "outputs": [
        {
          "output_type": "display_data",
          "data": {
            "text/html": [
              "<table border=\"1\" class=\"dataframe\">\n",
              "  <thead>\n",
              "    <tr style=\"text-align: left;\">\n",
              "      <th>epoch</th>\n",
              "      <th>train_loss</th>\n",
              "      <th>valid_loss</th>\n",
              "      <th>accuracy</th>\n",
              "      <th>time</th>\n",
              "    </tr>\n",
              "  </thead>\n",
              "  <tbody>\n",
              "    <tr>\n",
              "      <td>0</td>\n",
              "      <td>4.439322</td>\n",
              "      <td>4.267796</td>\n",
              "      <td>0.287137</td>\n",
              "      <td>22:12</td>\n",
              "    </tr>\n",
              "  </tbody>\n",
              "</table>"
            ],
            "text/plain": [
              "<IPython.core.display.HTML object>"
            ]
          },
          "metadata": {
            "tags": []
          }
        }
      ]
    },
    {
      "cell_type": "code",
      "metadata": {
        "id": "_BnSuAeCwkBe",
        "colab_type": "code",
        "colab": {
          "base_uri": "https://localhost:8080/",
          "height": 79
        },
        "outputId": "af351e46-c9b9-4341-ee2a-c68f198bd763"
      },
      "source": [
        "learn.fit_one_cycle(1, 1e-3)"
      ],
      "execution_count": 22,
      "outputs": [
        {
          "output_type": "display_data",
          "data": {
            "text/html": [
              "<table border=\"1\" class=\"dataframe\">\n",
              "  <thead>\n",
              "    <tr style=\"text-align: left;\">\n",
              "      <th>epoch</th>\n",
              "      <th>train_loss</th>\n",
              "      <th>valid_loss</th>\n",
              "      <th>accuracy</th>\n",
              "      <th>time</th>\n",
              "    </tr>\n",
              "  </thead>\n",
              "  <tbody>\n",
              "    <tr>\n",
              "      <td>0</td>\n",
              "      <td>4.125415</td>\n",
              "      <td>4.225884</td>\n",
              "      <td>0.292234</td>\n",
              "      <td>22:13</td>\n",
              "    </tr>\n",
              "  </tbody>\n",
              "</table>"
            ],
            "text/plain": [
              "<IPython.core.display.HTML object>"
            ]
          },
          "metadata": {
            "tags": []
          }
        }
      ]
    },
    {
      "cell_type": "code",
      "metadata": {
        "id": "MuTm-RFjwrEX",
        "colab_type": "code",
        "colab": {
          "base_uri": "https://localhost:8080/",
          "height": 79
        },
        "outputId": "c8321c63-d6e0-4677-fc4b-e61faa10b3e7"
      },
      "source": [
        "learn.fit_one_cycle(1, 1e-3)"
      ],
      "execution_count": 23,
      "outputs": [
        {
          "output_type": "display_data",
          "data": {
            "text/html": [
              "<table border=\"1\" class=\"dataframe\">\n",
              "  <thead>\n",
              "    <tr style=\"text-align: left;\">\n",
              "      <th>epoch</th>\n",
              "      <th>train_loss</th>\n",
              "      <th>valid_loss</th>\n",
              "      <th>accuracy</th>\n",
              "      <th>time</th>\n",
              "    </tr>\n",
              "  </thead>\n",
              "  <tbody>\n",
              "    <tr>\n",
              "      <td>0</td>\n",
              "      <td>4.068717</td>\n",
              "      <td>4.195240</td>\n",
              "      <td>0.294373</td>\n",
              "      <td>22:14</td>\n",
              "    </tr>\n",
              "  </tbody>\n",
              "</table>"
            ],
            "text/plain": [
              "<IPython.core.display.HTML object>"
            ]
          },
          "metadata": {
            "tags": []
          }
        }
      ]
    },
    {
      "cell_type": "code",
      "metadata": {
        "id": "1Er2ExO8wr7Y",
        "colab_type": "code",
        "colab": {}
      },
      "source": [
        "learn.save_encoder('tuning_pubmed_bigtweet_overlap_0_first')"
      ],
      "execution_count": 0,
      "outputs": []
    },
    {
      "cell_type": "code",
      "metadata": {
        "id": "z52cZs2qwvad",
        "colab_type": "code",
        "colab": {
          "base_uri": "https://localhost:8080/",
          "height": 79
        },
        "outputId": "64e9fd26-3c35-49ae-ad16-a75b687738ae"
      },
      "source": [
        "learn = text_classifier_learner(data_clas,AWD_LSTM, drop_mult=0.5)\n",
        "learn.load_encoder('tuning_pubmed_bigtweet_overlap_0_first')\n",
        "learn.fit_one_cycle(1, 1e-2)"
      ],
      "execution_count": 25,
      "outputs": [
        {
          "output_type": "display_data",
          "data": {
            "text/html": [
              "<table border=\"1\" class=\"dataframe\">\n",
              "  <thead>\n",
              "    <tr style=\"text-align: left;\">\n",
              "      <th>epoch</th>\n",
              "      <th>train_loss</th>\n",
              "      <th>valid_loss</th>\n",
              "      <th>accuracy</th>\n",
              "      <th>time</th>\n",
              "    </tr>\n",
              "  </thead>\n",
              "  <tbody>\n",
              "    <tr>\n",
              "      <td>0</td>\n",
              "      <td>7.088489</td>\n",
              "      <td>6.442031</td>\n",
              "      <td>0.113043</td>\n",
              "      <td>00:53</td>\n",
              "    </tr>\n",
              "  </tbody>\n",
              "</table>"
            ],
            "text/plain": [
              "<IPython.core.display.HTML object>"
            ]
          },
          "metadata": {
            "tags": []
          }
        }
      ]
    },
    {
      "cell_type": "code",
      "metadata": {
        "id": "ImwQP1PJwzxd",
        "colab_type": "code",
        "colab": {
          "base_uri": "https://localhost:8080/",
          "height": 79
        },
        "outputId": "48a89915-478d-40d4-b479-9be8c10dacc7"
      },
      "source": [
        "learn.freeze_to(-2)\n",
        "learn.fit_one_cycle(1, slice(5e-3/2., 5e-3))"
      ],
      "execution_count": 26,
      "outputs": [
        {
          "output_type": "display_data",
          "data": {
            "text/html": [
              "<table border=\"1\" class=\"dataframe\">\n",
              "  <thead>\n",
              "    <tr style=\"text-align: left;\">\n",
              "      <th>epoch</th>\n",
              "      <th>train_loss</th>\n",
              "      <th>valid_loss</th>\n",
              "      <th>accuracy</th>\n",
              "      <th>time</th>\n",
              "    </tr>\n",
              "  </thead>\n",
              "  <tbody>\n",
              "    <tr>\n",
              "      <td>0</td>\n",
              "      <td>6.255327</td>\n",
              "      <td>5.156713</td>\n",
              "      <td>0.156522</td>\n",
              "      <td>00:55</td>\n",
              "    </tr>\n",
              "  </tbody>\n",
              "</table>"
            ],
            "text/plain": [
              "<IPython.core.display.HTML object>"
            ]
          },
          "metadata": {
            "tags": []
          }
        }
      ]
    },
    {
      "cell_type": "code",
      "metadata": {
        "id": "Owff_BJXw53u",
        "colab_type": "code",
        "colab": {
          "base_uri": "https://localhost:8080/",
          "height": 79
        },
        "outputId": "891841b8-1711-49e3-c732-9e5811ec2c91"
      },
      "source": [
        "learn.unfreeze()\n",
        "learn.fit_one_cycle(1, slice(2e-3/100, 2e-3))"
      ],
      "execution_count": 27,
      "outputs": [
        {
          "output_type": "display_data",
          "data": {
            "text/html": [
              "<table border=\"1\" class=\"dataframe\">\n",
              "  <thead>\n",
              "    <tr style=\"text-align: left;\">\n",
              "      <th>epoch</th>\n",
              "      <th>train_loss</th>\n",
              "      <th>valid_loss</th>\n",
              "      <th>accuracy</th>\n",
              "      <th>time</th>\n",
              "    </tr>\n",
              "  </thead>\n",
              "  <tbody>\n",
              "    <tr>\n",
              "      <td>0</td>\n",
              "      <td>5.752983</td>\n",
              "      <td>4.886520</td>\n",
              "      <td>0.173913</td>\n",
              "      <td>01:06</td>\n",
              "    </tr>\n",
              "  </tbody>\n",
              "</table>"
            ],
            "text/plain": [
              "<IPython.core.display.HTML object>"
            ]
          },
          "metadata": {
            "tags": []
          }
        }
      ]
    },
    {
      "cell_type": "code",
      "metadata": {
        "id": "lqAyu56V8Waq",
        "colab_type": "code",
        "colab": {
          "base_uri": "https://localhost:8080/",
          "height": 110
        },
        "outputId": "42f7f1ce-4c3c-45cc-eb6a-dbd837c51887"
      },
      "source": [
        "learn.fit_one_cycle(2, slice(2e-3/100, 2e-3))"
      ],
      "execution_count": 28,
      "outputs": [
        {
          "output_type": "display_data",
          "data": {
            "text/html": [
              "<table border=\"1\" class=\"dataframe\">\n",
              "  <thead>\n",
              "    <tr style=\"text-align: left;\">\n",
              "      <th>epoch</th>\n",
              "      <th>train_loss</th>\n",
              "      <th>valid_loss</th>\n",
              "      <th>accuracy</th>\n",
              "      <th>time</th>\n",
              "    </tr>\n",
              "  </thead>\n",
              "  <tbody>\n",
              "    <tr>\n",
              "      <td>0</td>\n",
              "      <td>5.460629</td>\n",
              "      <td>4.578497</td>\n",
              "      <td>0.208696</td>\n",
              "      <td>01:09</td>\n",
              "    </tr>\n",
              "    <tr>\n",
              "      <td>1</td>\n",
              "      <td>5.319669</td>\n",
              "      <td>4.423282</td>\n",
              "      <td>0.200000</td>\n",
              "      <td>01:03</td>\n",
              "    </tr>\n",
              "  </tbody>\n",
              "</table>"
            ],
            "text/plain": [
              "<IPython.core.display.HTML object>"
            ]
          },
          "metadata": {
            "tags": []
          }
        }
      ]
    },
    {
      "cell_type": "code",
      "metadata": {
        "id": "a7I1xMRp8bUd",
        "colab_type": "code",
        "colab": {
          "base_uri": "https://localhost:8080/",
          "height": 110
        },
        "outputId": "74471c64-a0f3-4a48-866f-61f3b6b68972"
      },
      "source": [
        "learn.fit_one_cycle(2, slice(2e-3/100, 2e-3))"
      ],
      "execution_count": 29,
      "outputs": [
        {
          "output_type": "display_data",
          "data": {
            "text/html": [
              "<table border=\"1\" class=\"dataframe\">\n",
              "  <thead>\n",
              "    <tr style=\"text-align: left;\">\n",
              "      <th>epoch</th>\n",
              "      <th>train_loss</th>\n",
              "      <th>valid_loss</th>\n",
              "      <th>accuracy</th>\n",
              "      <th>time</th>\n",
              "    </tr>\n",
              "  </thead>\n",
              "  <tbody>\n",
              "    <tr>\n",
              "      <td>0</td>\n",
              "      <td>5.080919</td>\n",
              "      <td>4.316574</td>\n",
              "      <td>0.252174</td>\n",
              "      <td>01:06</td>\n",
              "    </tr>\n",
              "    <tr>\n",
              "      <td>1</td>\n",
              "      <td>4.943454</td>\n",
              "      <td>4.252161</td>\n",
              "      <td>0.226087</td>\n",
              "      <td>01:04</td>\n",
              "    </tr>\n",
              "  </tbody>\n",
              "</table>"
            ],
            "text/plain": [
              "<IPython.core.display.HTML object>"
            ]
          },
          "metadata": {
            "tags": []
          }
        }
      ]
    },
    {
      "cell_type": "code",
      "metadata": {
        "id": "UAnti-XmGVfO",
        "colab_type": "code",
        "colab": {
          "base_uri": "https://localhost:8080/",
          "height": 110
        },
        "outputId": "67a58544-5164-417f-d7fb-4c5e4f9cf543"
      },
      "source": [
        "learn.fit_one_cycle(2, slice(2e-3/100, 2e-3))"
      ],
      "execution_count": 30,
      "outputs": [
        {
          "output_type": "display_data",
          "data": {
            "text/html": [
              "<table border=\"1\" class=\"dataframe\">\n",
              "  <thead>\n",
              "    <tr style=\"text-align: left;\">\n",
              "      <th>epoch</th>\n",
              "      <th>train_loss</th>\n",
              "      <th>valid_loss</th>\n",
              "      <th>accuracy</th>\n",
              "      <th>time</th>\n",
              "    </tr>\n",
              "  </thead>\n",
              "  <tbody>\n",
              "    <tr>\n",
              "      <td>0</td>\n",
              "      <td>4.788752</td>\n",
              "      <td>4.158269</td>\n",
              "      <td>0.226087</td>\n",
              "      <td>01:09</td>\n",
              "    </tr>\n",
              "    <tr>\n",
              "      <td>1</td>\n",
              "      <td>4.667500</td>\n",
              "      <td>4.108304</td>\n",
              "      <td>0.234783</td>\n",
              "      <td>01:08</td>\n",
              "    </tr>\n",
              "  </tbody>\n",
              "</table>"
            ],
            "text/plain": [
              "<IPython.core.display.HTML object>"
            ]
          },
          "metadata": {
            "tags": []
          }
        }
      ]
    },
    {
      "cell_type": "code",
      "metadata": {
        "id": "bIft7W25GwSu",
        "colab_type": "code",
        "colab": {
          "base_uri": "https://localhost:8080/",
          "height": 110
        },
        "outputId": "d5c03b54-b43d-414a-fd04-6680ff37008f"
      },
      "source": [
        "learn.fit_one_cycle(2, slice(2e-3/100, 2e-3))"
      ],
      "execution_count": 31,
      "outputs": [
        {
          "output_type": "display_data",
          "data": {
            "text/html": [
              "<table border=\"1\" class=\"dataframe\">\n",
              "  <thead>\n",
              "    <tr style=\"text-align: left;\">\n",
              "      <th>epoch</th>\n",
              "      <th>train_loss</th>\n",
              "      <th>valid_loss</th>\n",
              "      <th>accuracy</th>\n",
              "      <th>time</th>\n",
              "    </tr>\n",
              "  </thead>\n",
              "  <tbody>\n",
              "    <tr>\n",
              "      <td>0</td>\n",
              "      <td>4.458597</td>\n",
              "      <td>3.997763</td>\n",
              "      <td>0.252174</td>\n",
              "      <td>01:09</td>\n",
              "    </tr>\n",
              "    <tr>\n",
              "      <td>1</td>\n",
              "      <td>4.330966</td>\n",
              "      <td>4.010630</td>\n",
              "      <td>0.269565</td>\n",
              "      <td>01:09</td>\n",
              "    </tr>\n",
              "  </tbody>\n",
              "</table>"
            ],
            "text/plain": [
              "<IPython.core.display.HTML object>"
            ]
          },
          "metadata": {
            "tags": []
          }
        }
      ]
    },
    {
      "cell_type": "code",
      "metadata": {
        "id": "EEHszVRvGyFt",
        "colab_type": "code",
        "colab": {
          "base_uri": "https://localhost:8080/",
          "height": 110
        },
        "outputId": "cf6d09a8-c07b-4c8d-da04-313893629f49"
      },
      "source": [
        "learn.fit_one_cycle(2, slice(2e-3/100, 2e-3))"
      ],
      "execution_count": 32,
      "outputs": [
        {
          "output_type": "display_data",
          "data": {
            "text/html": [
              "<table border=\"1\" class=\"dataframe\">\n",
              "  <thead>\n",
              "    <tr style=\"text-align: left;\">\n",
              "      <th>epoch</th>\n",
              "      <th>train_loss</th>\n",
              "      <th>valid_loss</th>\n",
              "      <th>accuracy</th>\n",
              "      <th>time</th>\n",
              "    </tr>\n",
              "  </thead>\n",
              "  <tbody>\n",
              "    <tr>\n",
              "      <td>0</td>\n",
              "      <td>4.182953</td>\n",
              "      <td>3.994680</td>\n",
              "      <td>0.252174</td>\n",
              "      <td>01:07</td>\n",
              "    </tr>\n",
              "    <tr>\n",
              "      <td>1</td>\n",
              "      <td>4.068192</td>\n",
              "      <td>3.957681</td>\n",
              "      <td>0.286957</td>\n",
              "      <td>01:11</td>\n",
              "    </tr>\n",
              "  </tbody>\n",
              "</table>"
            ],
            "text/plain": [
              "<IPython.core.display.HTML object>"
            ]
          },
          "metadata": {
            "tags": []
          }
        }
      ]
    },
    {
      "cell_type": "code",
      "metadata": {
        "id": "XsHfrhCHG3dN",
        "colab_type": "code",
        "colab": {
          "base_uri": "https://localhost:8080/",
          "height": 171
        },
        "outputId": "b89acc62-123e-4683-d8a4-22a7011b8591"
      },
      "source": [
        "learn.fit_one_cycle(4, slice(2e-3/100, 2e-3))"
      ],
      "execution_count": 33,
      "outputs": [
        {
          "output_type": "display_data",
          "data": {
            "text/html": [
              "<table border=\"1\" class=\"dataframe\">\n",
              "  <thead>\n",
              "    <tr style=\"text-align: left;\">\n",
              "      <th>epoch</th>\n",
              "      <th>train_loss</th>\n",
              "      <th>valid_loss</th>\n",
              "      <th>accuracy</th>\n",
              "      <th>time</th>\n",
              "    </tr>\n",
              "  </thead>\n",
              "  <tbody>\n",
              "    <tr>\n",
              "      <td>0</td>\n",
              "      <td>3.923456</td>\n",
              "      <td>3.942930</td>\n",
              "      <td>0.269565</td>\n",
              "      <td>01:05</td>\n",
              "    </tr>\n",
              "    <tr>\n",
              "      <td>1</td>\n",
              "      <td>3.846210</td>\n",
              "      <td>3.963336</td>\n",
              "      <td>0.252174</td>\n",
              "      <td>01:09</td>\n",
              "    </tr>\n",
              "    <tr>\n",
              "      <td>2</td>\n",
              "      <td>3.679516</td>\n",
              "      <td>3.965434</td>\n",
              "      <td>0.260870</td>\n",
              "      <td>01:09</td>\n",
              "    </tr>\n",
              "    <tr>\n",
              "      <td>3</td>\n",
              "      <td>3.551219</td>\n",
              "      <td>3.945154</td>\n",
              "      <td>0.269565</td>\n",
              "      <td>01:11</td>\n",
              "    </tr>\n",
              "  </tbody>\n",
              "</table>"
            ],
            "text/plain": [
              "<IPython.core.display.HTML object>"
            ]
          },
          "metadata": {
            "tags": []
          }
        }
      ]
    },
    {
      "cell_type": "code",
      "metadata": {
        "id": "0Zsd99isb9EQ",
        "colab_type": "code",
        "colab": {
          "base_uri": "https://localhost:8080/",
          "height": 171
        },
        "outputId": "595a87bf-fd26-44a5-9151-c0f567e3f30c"
      },
      "source": [
        "learn.fit_one_cycle(4, slice(2e-3/100, 2e-3))"
      ],
      "execution_count": 34,
      "outputs": [
        {
          "output_type": "display_data",
          "data": {
            "text/html": [
              "<table border=\"1\" class=\"dataframe\">\n",
              "  <thead>\n",
              "    <tr style=\"text-align: left;\">\n",
              "      <th>epoch</th>\n",
              "      <th>train_loss</th>\n",
              "      <th>valid_loss</th>\n",
              "      <th>accuracy</th>\n",
              "      <th>time</th>\n",
              "    </tr>\n",
              "  </thead>\n",
              "  <tbody>\n",
              "    <tr>\n",
              "      <td>0</td>\n",
              "      <td>3.386176</td>\n",
              "      <td>3.922547</td>\n",
              "      <td>0.269565</td>\n",
              "      <td>01:11</td>\n",
              "    </tr>\n",
              "    <tr>\n",
              "      <td>1</td>\n",
              "      <td>3.452854</td>\n",
              "      <td>3.949305</td>\n",
              "      <td>0.252174</td>\n",
              "      <td>01:07</td>\n",
              "    </tr>\n",
              "    <tr>\n",
              "      <td>2</td>\n",
              "      <td>3.286131</td>\n",
              "      <td>3.903018</td>\n",
              "      <td>0.243478</td>\n",
              "      <td>01:06</td>\n",
              "    </tr>\n",
              "    <tr>\n",
              "      <td>3</td>\n",
              "      <td>3.137047</td>\n",
              "      <td>3.898779</td>\n",
              "      <td>0.252174</td>\n",
              "      <td>01:08</td>\n",
              "    </tr>\n",
              "  </tbody>\n",
              "</table>"
            ],
            "text/plain": [
              "<IPython.core.display.HTML object>"
            ]
          },
          "metadata": {
            "tags": []
          }
        }
      ]
    },
    {
      "cell_type": "code",
      "metadata": {
        "id": "atNWNKDFPbuI",
        "colab_type": "code",
        "colab": {
          "base_uri": "https://localhost:8080/",
          "height": 171
        },
        "outputId": "1409f6b9-14d7-43c6-9791-fce60753a006"
      },
      "source": [
        "learn.fit_one_cycle(4, slice(2e-3/100, 2e-3))"
      ],
      "execution_count": 35,
      "outputs": [
        {
          "output_type": "display_data",
          "data": {
            "text/html": [
              "<table border=\"1\" class=\"dataframe\">\n",
              "  <thead>\n",
              "    <tr style=\"text-align: left;\">\n",
              "      <th>epoch</th>\n",
              "      <th>train_loss</th>\n",
              "      <th>valid_loss</th>\n",
              "      <th>accuracy</th>\n",
              "      <th>time</th>\n",
              "    </tr>\n",
              "  </thead>\n",
              "  <tbody>\n",
              "    <tr>\n",
              "      <td>0</td>\n",
              "      <td>3.024052</td>\n",
              "      <td>3.935304</td>\n",
              "      <td>0.269565</td>\n",
              "      <td>01:06</td>\n",
              "    </tr>\n",
              "    <tr>\n",
              "      <td>1</td>\n",
              "      <td>3.036675</td>\n",
              "      <td>4.035071</td>\n",
              "      <td>0.252174</td>\n",
              "      <td>01:08</td>\n",
              "    </tr>\n",
              "    <tr>\n",
              "      <td>2</td>\n",
              "      <td>2.909285</td>\n",
              "      <td>3.998603</td>\n",
              "      <td>0.260870</td>\n",
              "      <td>01:05</td>\n",
              "    </tr>\n",
              "    <tr>\n",
              "      <td>3</td>\n",
              "      <td>2.746758</td>\n",
              "      <td>3.981124</td>\n",
              "      <td>0.243478</td>\n",
              "      <td>01:08</td>\n",
              "    </tr>\n",
              "  </tbody>\n",
              "</table>"
            ],
            "text/plain": [
              "<IPython.core.display.HTML object>"
            ]
          },
          "metadata": {
            "tags": []
          }
        }
      ]
    },
    {
      "cell_type": "code",
      "metadata": {
        "id": "rKrBTZ0T1uVA",
        "colab_type": "code",
        "colab": {
          "base_uri": "https://localhost:8080/",
          "height": 171
        },
        "outputId": "7734525e-1cfc-45a9-fd23-ef38e7a941ba"
      },
      "source": [
        "learn.fit_one_cycle(4, slice(2e-3/100, 2e-3))"
      ],
      "execution_count": 36,
      "outputs": [
        {
          "output_type": "display_data",
          "data": {
            "text/html": [
              "<table border=\"1\" class=\"dataframe\">\n",
              "  <thead>\n",
              "    <tr style=\"text-align: left;\">\n",
              "      <th>epoch</th>\n",
              "      <th>train_loss</th>\n",
              "      <th>valid_loss</th>\n",
              "      <th>accuracy</th>\n",
              "      <th>time</th>\n",
              "    </tr>\n",
              "  </thead>\n",
              "  <tbody>\n",
              "    <tr>\n",
              "      <td>0</td>\n",
              "      <td>2.645105</td>\n",
              "      <td>4.006658</td>\n",
              "      <td>0.252174</td>\n",
              "      <td>01:04</td>\n",
              "    </tr>\n",
              "    <tr>\n",
              "      <td>1</td>\n",
              "      <td>2.652798</td>\n",
              "      <td>3.993655</td>\n",
              "      <td>0.278261</td>\n",
              "      <td>01:09</td>\n",
              "    </tr>\n",
              "    <tr>\n",
              "      <td>2</td>\n",
              "      <td>2.518927</td>\n",
              "      <td>4.023643</td>\n",
              "      <td>0.278261</td>\n",
              "      <td>01:04</td>\n",
              "    </tr>\n",
              "    <tr>\n",
              "      <td>3</td>\n",
              "      <td>2.414898</td>\n",
              "      <td>4.027034</td>\n",
              "      <td>0.278261</td>\n",
              "      <td>01:10</td>\n",
              "    </tr>\n",
              "  </tbody>\n",
              "</table>"
            ],
            "text/plain": [
              "<IPython.core.display.HTML object>"
            ]
          },
          "metadata": {
            "tags": []
          }
        }
      ]
    },
    {
      "cell_type": "code",
      "metadata": {
        "id": "ajQC6WDg1yA9",
        "colab_type": "code",
        "colab": {
          "base_uri": "https://localhost:8080/",
          "height": 171
        },
        "outputId": "b122f615-18d2-49a4-fb7b-51f3820ec7bc"
      },
      "source": [
        "learn.fit_one_cycle(4, slice(2e-3/100, 2e-3))"
      ],
      "execution_count": 37,
      "outputs": [
        {
          "output_type": "display_data",
          "data": {
            "text/html": [
              "<table border=\"1\" class=\"dataframe\">\n",
              "  <thead>\n",
              "    <tr style=\"text-align: left;\">\n",
              "      <th>epoch</th>\n",
              "      <th>train_loss</th>\n",
              "      <th>valid_loss</th>\n",
              "      <th>accuracy</th>\n",
              "      <th>time</th>\n",
              "    </tr>\n",
              "  </thead>\n",
              "  <tbody>\n",
              "    <tr>\n",
              "      <td>0</td>\n",
              "      <td>2.352002</td>\n",
              "      <td>4.031761</td>\n",
              "      <td>0.304348</td>\n",
              "      <td>01:06</td>\n",
              "    </tr>\n",
              "    <tr>\n",
              "      <td>1</td>\n",
              "      <td>2.392289</td>\n",
              "      <td>4.135647</td>\n",
              "      <td>0.260870</td>\n",
              "      <td>01:04</td>\n",
              "    </tr>\n",
              "    <tr>\n",
              "      <td>2</td>\n",
              "      <td>2.238080</td>\n",
              "      <td>4.015302</td>\n",
              "      <td>0.286957</td>\n",
              "      <td>01:05</td>\n",
              "    </tr>\n",
              "    <tr>\n",
              "      <td>3</td>\n",
              "      <td>2.114130</td>\n",
              "      <td>4.053386</td>\n",
              "      <td>0.278261</td>\n",
              "      <td>01:09</td>\n",
              "    </tr>\n",
              "  </tbody>\n",
              "</table>"
            ],
            "text/plain": [
              "<IPython.core.display.HTML object>"
            ]
          },
          "metadata": {
            "tags": []
          }
        }
      ]
    },
    {
      "cell_type": "code",
      "metadata": {
        "id": "KKydb0B4BKGk",
        "colab_type": "code",
        "colab": {
          "base_uri": "https://localhost:8080/",
          "height": 171
        },
        "outputId": "aa4dbe1b-c0f6-4cb9-c0fa-651224dde025"
      },
      "source": [
        "learn.fit_one_cycle(4, slice(2e-3/100, 2e-3))"
      ],
      "execution_count": 38,
      "outputs": [
        {
          "output_type": "display_data",
          "data": {
            "text/html": [
              "<table border=\"1\" class=\"dataframe\">\n",
              "  <thead>\n",
              "    <tr style=\"text-align: left;\">\n",
              "      <th>epoch</th>\n",
              "      <th>train_loss</th>\n",
              "      <th>valid_loss</th>\n",
              "      <th>accuracy</th>\n",
              "      <th>time</th>\n",
              "    </tr>\n",
              "  </thead>\n",
              "  <tbody>\n",
              "    <tr>\n",
              "      <td>0</td>\n",
              "      <td>2.087850</td>\n",
              "      <td>4.121340</td>\n",
              "      <td>0.269565</td>\n",
              "      <td>01:12</td>\n",
              "    </tr>\n",
              "    <tr>\n",
              "      <td>1</td>\n",
              "      <td>2.136329</td>\n",
              "      <td>4.272615</td>\n",
              "      <td>0.226087</td>\n",
              "      <td>01:10</td>\n",
              "    </tr>\n",
              "    <tr>\n",
              "      <td>2</td>\n",
              "      <td>2.144807</td>\n",
              "      <td>4.280554</td>\n",
              "      <td>0.252174</td>\n",
              "      <td>01:10</td>\n",
              "    </tr>\n",
              "    <tr>\n",
              "      <td>3</td>\n",
              "      <td>2.022671</td>\n",
              "      <td>4.165096</td>\n",
              "      <td>0.269565</td>\n",
              "      <td>01:12</td>\n",
              "    </tr>\n",
              "  </tbody>\n",
              "</table>"
            ],
            "text/plain": [
              "<IPython.core.display.HTML object>"
            ]
          },
          "metadata": {
            "tags": []
          }
        }
      ]
    },
    {
      "cell_type": "code",
      "metadata": {
        "id": "T2APKtFKBpGY",
        "colab_type": "code",
        "colab": {
          "base_uri": "https://localhost:8080/",
          "height": 171
        },
        "outputId": "52e9e104-3750-4b8c-9f43-0118054069d2"
      },
      "source": [
        "learn.fit_one_cycle(4, slice(2e-3/100, 2e-3))"
      ],
      "execution_count": 39,
      "outputs": [
        {
          "output_type": "display_data",
          "data": {
            "text/html": [
              "<table border=\"1\" class=\"dataframe\">\n",
              "  <thead>\n",
              "    <tr style=\"text-align: left;\">\n",
              "      <th>epoch</th>\n",
              "      <th>train_loss</th>\n",
              "      <th>valid_loss</th>\n",
              "      <th>accuracy</th>\n",
              "      <th>time</th>\n",
              "    </tr>\n",
              "  </thead>\n",
              "  <tbody>\n",
              "    <tr>\n",
              "      <td>0</td>\n",
              "      <td>2.027151</td>\n",
              "      <td>4.327321</td>\n",
              "      <td>0.286957</td>\n",
              "      <td>01:08</td>\n",
              "    </tr>\n",
              "    <tr>\n",
              "      <td>1</td>\n",
              "      <td>1.996021</td>\n",
              "      <td>4.201556</td>\n",
              "      <td>0.252174</td>\n",
              "      <td>01:08</td>\n",
              "    </tr>\n",
              "    <tr>\n",
              "      <td>2</td>\n",
              "      <td>1.923884</td>\n",
              "      <td>4.220044</td>\n",
              "      <td>0.313043</td>\n",
              "      <td>01:11</td>\n",
              "    </tr>\n",
              "    <tr>\n",
              "      <td>3</td>\n",
              "      <td>1.840066</td>\n",
              "      <td>4.241872</td>\n",
              "      <td>0.278261</td>\n",
              "      <td>01:07</td>\n",
              "    </tr>\n",
              "  </tbody>\n",
              "</table>"
            ],
            "text/plain": [
              "<IPython.core.display.HTML object>"
            ]
          },
          "metadata": {
            "tags": []
          }
        }
      ]
    },
    {
      "cell_type": "code",
      "metadata": {
        "id": "qtTypA1sPgLU",
        "colab_type": "code",
        "colab": {
          "base_uri": "https://localhost:8080/",
          "height": 110
        },
        "outputId": "02b79c17-4e31-4f3c-d1b5-e3b870783e19"
      },
      "source": [
        "learn.fit_one_cycle(2, slice(2e-3/100, 2e-3))"
      ],
      "execution_count": 40,
      "outputs": [
        {
          "output_type": "display_data",
          "data": {
            "text/html": [
              "<table border=\"1\" class=\"dataframe\">\n",
              "  <thead>\n",
              "    <tr style=\"text-align: left;\">\n",
              "      <th>epoch</th>\n",
              "      <th>train_loss</th>\n",
              "      <th>valid_loss</th>\n",
              "      <th>accuracy</th>\n",
              "      <th>time</th>\n",
              "    </tr>\n",
              "  </thead>\n",
              "  <tbody>\n",
              "    <tr>\n",
              "      <td>0</td>\n",
              "      <td>1.770266</td>\n",
              "      <td>4.317537</td>\n",
              "      <td>0.278261</td>\n",
              "      <td>01:09</td>\n",
              "    </tr>\n",
              "    <tr>\n",
              "      <td>1</td>\n",
              "      <td>1.803446</td>\n",
              "      <td>4.414602</td>\n",
              "      <td>0.252174</td>\n",
              "      <td>01:05</td>\n",
              "    </tr>\n",
              "  </tbody>\n",
              "</table>"
            ],
            "text/plain": [
              "<IPython.core.display.HTML object>"
            ]
          },
          "metadata": {
            "tags": []
          }
        }
      ]
    },
    {
      "cell_type": "code",
      "metadata": {
        "id": "b242kBsTUp9Y",
        "colab_type": "code",
        "colab": {
          "base_uri": "https://localhost:8080/",
          "height": 110
        },
        "outputId": "ed0d8dc6-02e8-4749-f30c-cf23d779a06b"
      },
      "source": [
        "learn.fit_one_cycle(2, slice(2e-3/100, 2e-3))"
      ],
      "execution_count": 41,
      "outputs": [
        {
          "output_type": "display_data",
          "data": {
            "text/html": [
              "<table border=\"1\" class=\"dataframe\">\n",
              "  <thead>\n",
              "    <tr style=\"text-align: left;\">\n",
              "      <th>epoch</th>\n",
              "      <th>train_loss</th>\n",
              "      <th>valid_loss</th>\n",
              "      <th>accuracy</th>\n",
              "      <th>time</th>\n",
              "    </tr>\n",
              "  </thead>\n",
              "  <tbody>\n",
              "    <tr>\n",
              "      <td>0</td>\n",
              "      <td>1.824650</td>\n",
              "      <td>4.400510</td>\n",
              "      <td>0.286957</td>\n",
              "      <td>01:07</td>\n",
              "    </tr>\n",
              "    <tr>\n",
              "      <td>1</td>\n",
              "      <td>1.794939</td>\n",
              "      <td>4.383685</td>\n",
              "      <td>0.269565</td>\n",
              "      <td>01:06</td>\n",
              "    </tr>\n",
              "  </tbody>\n",
              "</table>"
            ],
            "text/plain": [
              "<IPython.core.display.HTML object>"
            ]
          },
          "metadata": {
            "tags": []
          }
        }
      ]
    },
    {
      "cell_type": "code",
      "metadata": {
        "id": "Duwf1Ih5VeDZ",
        "colab_type": "code",
        "colab": {
          "base_uri": "https://localhost:8080/",
          "height": 79
        },
        "outputId": "4646d68e-e570-455f-d754-e7e5862fc4f5"
      },
      "source": [
        "learn.fit_one_cycle(1, slice(2e-3/100, 2e-3))"
      ],
      "execution_count": 42,
      "outputs": [
        {
          "output_type": "display_data",
          "data": {
            "text/html": [
              "<table border=\"1\" class=\"dataframe\">\n",
              "  <thead>\n",
              "    <tr style=\"text-align: left;\">\n",
              "      <th>epoch</th>\n",
              "      <th>train_loss</th>\n",
              "      <th>valid_loss</th>\n",
              "      <th>accuracy</th>\n",
              "      <th>time</th>\n",
              "    </tr>\n",
              "  </thead>\n",
              "  <tbody>\n",
              "    <tr>\n",
              "      <td>0</td>\n",
              "      <td>1.779070</td>\n",
              "      <td>4.291492</td>\n",
              "      <td>0.252174</td>\n",
              "      <td>01:04</td>\n",
              "    </tr>\n",
              "  </tbody>\n",
              "</table>"
            ],
            "text/plain": [
              "<IPython.core.display.HTML object>"
            ]
          },
          "metadata": {
            "tags": []
          }
        }
      ]
    },
    {
      "cell_type": "code",
      "metadata": {
        "id": "c65d-osfDUXm",
        "colab_type": "code",
        "colab": {}
      },
      "source": [
        "# save the best model\n",
        "\n",
        "learn.save_encoder('tuning_pubmed_bigtweet_overlap_0_last')"
      ],
      "execution_count": 0,
      "outputs": []
    },
    {
      "cell_type": "markdown",
      "metadata": {
        "id": "rCwZU0E2RgM6",
        "colab_type": "text"
      },
      "source": [
        "# Part three: Predict on the test dataset"
      ]
    },
    {
      "cell_type": "code",
      "metadata": {
        "id": "gDm72c-dOu7d",
        "colab_type": "code",
        "colab": {
          "base_uri": "https://localhost:8080/",
          "height": 17
        },
        "outputId": "52c571b5-46f9-42a3-b2d0-48ce74894239"
      },
      "source": [
        "# use the test data for prediction\n",
        "\n",
        "preds, y = learn.get_preds(DatasetType.Test)"
      ],
      "execution_count": 44,
      "outputs": [
        {
          "output_type": "display_data",
          "data": {
            "text/html": [
              ""
            ],
            "text/plain": [
              "<IPython.core.display.HTML object>"
            ]
          },
          "metadata": {
            "tags": []
          }
        }
      ]
    },
    {
      "cell_type": "code",
      "metadata": {
        "id": "6tFSQcsWPvxn",
        "colab_type": "code",
        "colab": {
          "base_uri": "https://localhost:8080/",
          "height": 107
        },
        "outputId": "6f02b825-b2ff-477f-8461-32146a8583eb"
      },
      "source": [
        "predictions, *_ = learn.get_preds(DatasetType.Test)\n",
        "labels = np.argmax(predictions, 1)\n",
        "predict_list = labels.tolist()\n",
        "standard_list = test[0].tolist()\n",
        "\n",
        "print(len(predict_list))\n",
        "print(len(standard_list))\n",
        "\n",
        "print(predict_list)\n",
        "print(standard_list)"
      ],
      "execution_count": 45,
      "outputs": [
        {
          "output_type": "display_data",
          "data": {
            "text/html": [
              ""
            ],
            "text/plain": [
              "<IPython.core.display.HTML object>"
            ]
          },
          "metadata": {
            "tags": []
          }
        },
        {
          "output_type": "stream",
          "text": [
            "160\n",
            "160\n",
            "[2099, 2099, 1308, 1247, 803, 1348, 744, 803, 201, 1411, 1247, 744, 854, 2099, 860, 1534, 854, 135, 965, 1072, 135, 803, 2099, 744, 1802, 621, 1702, 744, 1576, 1698, 1323, 2099, 1308, 1576, 2088, 651, 744, 744, 2104, 1411, 2099, 1407, 79, 931, 106, 1935, 1307, 621, 2099, 2099, 803, 574, 744, 1920, 135, 1546, 1583, 2182, 2099, 1308, 1546, 1811, 1932, 1950, 744, 2099, 744, 1935, 2027, 860, 2099, 1811, 378, 1546, 1833, 700, 744, 2099, 978, 574, 724, 1038, 620, 1935, 903, 1617, 135, 1698, 1307, 194, 230, 621, 92, 744, 621, 931, 1833, 798, 1956, 744, 1323, 744, 931, 803, 854, 803, 1478, 854, 1935, 1247, 2046, 170, 201, 744, 1411, 2099, 744, 1652, 574, 1291, 1811, 171, 2145, 1932, 1677, 1034, 2099, 2065, 1534, 1472, 170, 744, 574, 378, 744, 201, 1652, 476, 744, 744, 1308, 621, 1773, 170, 189, 909, 803, 744, 744, 1811, 983, 189, 840, 170, 441, 2046, 2099, 744, 700, 744]\n",
            "[1576, 2099, 1698, 1811, 476, 840, 440, 2099, 171, 309, 703, 135, 375, 1326, 860, 574, 2003, 210, 1408, 237, 106, 1576, 700, 1095, 1194, 1307, 239, 935, 833, 1076, 1935, 1008, 2176, 1576, 2088, 1407, 1411, 505, 1811, 1576, 803, 605, 1652, 931, 92, 974, 2088, 1075, 491, 1932, 1075, 574, 1220, 1032, 2048, 2088, 1583, 1043, 2188, 1095, 872, 854, 1307, 1950, 170, 700, 1698, 170, 451, 860, 1076, 2099, 309, 872, 210, 700, 237, 2003, 1077, 1299, 99, 1038, 106, 2218, 1698, 1666, 135, 1698, 171, 1534, 1811, 699, 854, 171, 621, 794, 941, 89, 965, 472, 1935, 574, 336, 1348, 803, 1403, 2027, 1811, 1752, 1025, 1411, 2099, 1932, 989, 2046, 2099, 724, 1308, 1106, 621, 1811, 699, 1307, 574, 268, 959, 2099, 1308, 1542, 860, 2201, 1308, 574, 309, 1472, 384, 384, 854, 833, 79, 467, 2165, 1049, 956, 2097, 1542, 1811, 384, 1220, 1811, 983, 378, 840, 170, 441, 2046, 2099, 1932, 700, 2099]\n"
          ],
          "name": "stdout"
        }
      ]
    },
    {
      "cell_type": "code",
      "metadata": {
        "id": "XIC4zufnMxtq",
        "colab_type": "code",
        "colab": {
          "base_uri": "https://localhost:8080/",
          "height": 52
        },
        "outputId": "51613a78-9a89-48b8-fcbc-4de036e67310"
      },
      "source": [
        "correct_num = 0\n",
        "\n",
        "for i in range(0, len(standard_list)):\n",
        "  if predict_list[i] == standard_list[i]:\n",
        "    correct_num = correct_num+1\n",
        "  else:\n",
        "    pass\n",
        "print(correct_num)\n",
        "\n",
        "predict_accuracy = correct_num/len(predict_list)\n",
        "print(predict_accuracy)"
      ],
      "execution_count": 46,
      "outputs": [
        {
          "output_type": "stream",
          "text": [
            "26\n",
            "0.1625\n"
          ],
          "name": "stdout"
        }
      ]
    }
  ]
}